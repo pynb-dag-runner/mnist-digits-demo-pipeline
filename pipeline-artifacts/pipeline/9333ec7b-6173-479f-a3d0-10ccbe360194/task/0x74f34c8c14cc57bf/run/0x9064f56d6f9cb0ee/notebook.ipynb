{
 "cells": [
  {
   "cell_type": "markdown",
   "id": "3c3d5d38",
   "metadata": {
    "papermill": {
     "duration": 0.024175,
     "end_time": "2022-07-03T06:46:38.470513",
     "exception": false,
     "start_time": "2022-07-03T06:46:38.446338",
     "status": "completed"
    },
    "tags": []
   },
   "source": [
    "# Split digits and labels into separate training and testing data sets"
   ]
  },
  {
   "cell_type": "markdown",
   "id": "063eb161",
   "metadata": {
    "papermill": {
     "duration": 0.006455,
     "end_time": "2022-07-03T06:46:38.479978",
     "exception": false,
     "start_time": "2022-07-03T06:46:38.473523",
     "status": "completed"
    },
    "tags": []
   },
   "source": [
    "### Determine run parameters"
   ]
  },
  {
   "cell_type": "code",
   "execution_count": 1,
   "id": "d8db6942",
   "metadata": {
    "execution": {
     "iopub.execute_input": "2022-07-03T06:46:38.486698Z",
     "iopub.status.busy": "2022-07-03T06:46:38.486346Z",
     "iopub.status.idle": "2022-07-03T06:46:38.496316Z",
     "shell.execute_reply": "2022-07-03T06:46:38.495699Z"
    },
    "lines_to_next_cell": 0,
    "papermill": {
     "duration": 0.015794,
     "end_time": "2022-07-03T06:46:38.498233",
     "exception": false,
     "start_time": "2022-07-03T06:46:38.482439",
     "status": "completed"
    },
    "tags": []
   },
   "outputs": [],
   "source": [
    "# ----------------- Parameters for interactive development --------------\n",
    "P = {\n",
    "    \"pipeline.data_lake_root\": \"/pipeline-outputs/data-lake\",\n",
    "    \"task.train_test_ratio\": 0.7,\n",
    "}"
   ]
  },
  {
   "cell_type": "code",
   "execution_count": 2,
   "id": "8aeb892b",
   "metadata": {
    "execution": {
     "iopub.execute_input": "2022-07-03T06:46:38.504995Z",
     "iopub.status.busy": "2022-07-03T06:46:38.504732Z",
     "iopub.status.idle": "2022-07-03T06:46:38.507983Z",
     "shell.execute_reply": "2022-07-03T06:46:38.507364Z"
    },
    "lines_to_next_cell": 0,
    "papermill": {
     "duration": 0.009699,
     "end_time": "2022-07-03T06:46:38.511070",
     "exception": false,
     "start_time": "2022-07-03T06:46:38.501371",
     "status": "completed"
    },
    "tags": [
     "parameters"
    ]
   },
   "outputs": [],
   "source": [
    "# - During automated runs parameters will be injected in the below cell -"
   ]
  },
  {
   "cell_type": "code",
   "execution_count": 3,
   "id": "1e4eaa41",
   "metadata": {
    "execution": {
     "iopub.execute_input": "2022-07-03T06:46:38.517568Z",
     "iopub.status.busy": "2022-07-03T06:46:38.517323Z",
     "iopub.status.idle": "2022-07-03T06:46:38.522629Z",
     "shell.execute_reply": "2022-07-03T06:46:38.522053Z"
    },
    "papermill": {
     "duration": 0.011793,
     "end_time": "2022-07-03T06:46:38.525411",
     "exception": false,
     "start_time": "2022-07-03T06:46:38.513618",
     "status": "completed"
    },
    "tags": [
     "injected-parameters"
    ]
   },
   "outputs": [],
   "source": [
    "# Parameters\n",
    "P = {\n",
    "    \"pipeline.data_lake_root\": \"/pipeline-outputs/data-lake\",\n",
    "    \"pipeline.run_environment\": \"ci\",\n",
    "    \"pipeline.pipeline_run_id\": \"9333ec7b-6173-479f-a3d0-10ccbe360194\",\n",
    "    \"pipeline.github.repository\": \"pynb-dag-runner/mnist-digits-demo-pipeline\",\n",
    "    \"pipeline.github.workflow\": \"Run automated tests, pipeline and deploy results to static reporting site\",\n",
    "    \"pipeline.github.runner_name\": \"Hosted Agent\",\n",
    "    \"pipeline.github.run_id\": \"2604161071\",\n",
    "    \"pipeline.github.actor\": \"matiasdahl\",\n",
    "    \"pipeline.github.job\": \"run-tests-pipeline-and-persist-pipeline-outputs\",\n",
    "    \"pipeline.github.base_ref\": \"\",\n",
    "    \"pipeline.github.head_ref\": \"\",\n",
    "    \"pipeline.github.sha\": \"f934c58f68028b7bb026059d4e87e6d32a1bbd20\",\n",
    "    \"pipeline.github.ref\": \"refs/heads/development\",\n",
    "    \"pipeline.github.ref_type\": \"branch\",\n",
    "    \"pipeline.github.ref_name\": \"development\",\n",
    "    \"pipeline.github.event_name\": \"schedule\",\n",
    "    \"task.train_test_ratio\": 0.7,\n",
    "    \"task.notebook\": \"notebooks/split-train-test.py\",\n",
    "    \"task.max_nr_retries\": \"1\",\n",
    "    \"run.retry_nr\": \"0\",\n",
    "    \"task.timeout_s\": \"None\",\n",
    "    \"task.num_cpus\": 1,\n",
    "    \"_opentelemetry_traceparent\": \"00-f66200069d2760d169bf34f103c126aa-3832be530f5705ee-01\",\n",
    "}\n"
   ]
  },
  {
   "cell_type": "code",
   "execution_count": 4,
   "id": "2bf29079",
   "metadata": {
    "execution": {
     "iopub.execute_input": "2022-07-03T06:46:38.532803Z",
     "iopub.status.busy": "2022-07-03T06:46:38.532561Z",
     "iopub.status.idle": "2022-07-03T06:46:38.535526Z",
     "shell.execute_reply": "2022-07-03T06:46:38.534869Z"
    },
    "lines_to_next_cell": 0,
    "papermill": {
     "duration": 0.009831,
     "end_time": "2022-07-03T06:46:38.538341",
     "exception": false,
     "start_time": "2022-07-03T06:46:38.528510",
     "status": "completed"
    },
    "tags": []
   },
   "outputs": [],
   "source": [
    "# -----------------------------------------------------------------------"
   ]
  },
  {
   "cell_type": "markdown",
   "id": "bc466e20",
   "metadata": {
    "papermill": {
     "duration": 0.002728,
     "end_time": "2022-07-03T06:46:38.544111",
     "exception": false,
     "start_time": "2022-07-03T06:46:38.541383",
     "status": "completed"
    },
    "tags": []
   },
   "source": [
    "---"
   ]
  },
  {
   "cell_type": "markdown",
   "id": "f924139d",
   "metadata": {
    "lines_to_next_cell": 2,
    "papermill": {
     "duration": 0.002892,
     "end_time": "2022-07-03T06:46:38.549655",
     "exception": false,
     "start_time": "2022-07-03T06:46:38.546763",
     "status": "completed"
    },
    "tags": []
   },
   "source": [
    "### Notebook code"
   ]
  },
  {
   "cell_type": "code",
   "execution_count": 5,
   "id": "8f246751",
   "metadata": {
    "execution": {
     "iopub.execute_input": "2022-07-03T06:46:38.556781Z",
     "iopub.status.busy": "2022-07-03T06:46:38.556542Z",
     "iopub.status.idle": "2022-07-03T06:46:39.120050Z",
     "shell.execute_reply": "2022-07-03T06:46:39.119350Z"
    },
    "papermill": {
     "duration": 0.568951,
     "end_time": "2022-07-03T06:46:39.122021",
     "exception": false,
     "start_time": "2022-07-03T06:46:38.553070",
     "status": "completed"
    },
    "tags": []
   },
   "outputs": [
    {
     "name": "stderr",
     "output_type": "stream",
     "text": [
      "2022-07-03 06:46:38,942\tINFO worker.py:842 -- Connecting to existing Ray cluster at address: 172.17.0.2:6379\n"
     ]
    }
   ],
   "source": [
    "from common.io import datalake_root, read_numpy, write_numpy\n",
    "from pynb_dag_runner.tasks.task_opentelemetry_logging import PydarLogger\n",
    "\n",
    "logger = PydarLogger(P)"
   ]
  },
  {
   "cell_type": "markdown",
   "id": "5328157a",
   "metadata": {
    "papermill": {
     "duration": 0.00318,
     "end_time": "2022-07-03T06:46:39.128875",
     "exception": false,
     "start_time": "2022-07-03T06:46:39.125695",
     "status": "completed"
    },
    "tags": []
   },
   "source": [
    "## Load and split digits data"
   ]
  },
  {
   "cell_type": "code",
   "execution_count": 6,
   "id": "dd69961e",
   "metadata": {
    "execution": {
     "iopub.execute_input": "2022-07-03T06:46:39.136931Z",
     "iopub.status.busy": "2022-07-03T06:46:39.136553Z",
     "iopub.status.idle": "2022-07-03T06:46:39.142611Z",
     "shell.execute_reply": "2022-07-03T06:46:39.142000Z"
    },
    "papermill": {
     "duration": 0.013629,
     "end_time": "2022-07-03T06:46:39.145876",
     "exception": false,
     "start_time": "2022-07-03T06:46:39.132247",
     "status": "completed"
    },
    "tags": []
   },
   "outputs": [],
   "source": [
    "X = read_numpy(datalake_root(P) / \"raw\" / \"digits.numpy\")\n",
    "y = read_numpy(datalake_root(P) / \"raw\" / \"labels.numpy\")"
   ]
  },
  {
   "cell_type": "code",
   "execution_count": 7,
   "id": "05b121ea",
   "metadata": {
    "execution": {
     "iopub.execute_input": "2022-07-03T06:46:39.153634Z",
     "iopub.status.busy": "2022-07-03T06:46:39.153377Z",
     "iopub.status.idle": "2022-07-03T06:46:39.661810Z",
     "shell.execute_reply": "2022-07-03T06:46:39.661038Z"
    },
    "papermill": {
     "duration": 0.51584,
     "end_time": "2022-07-03T06:46:39.664825",
     "exception": false,
     "start_time": "2022-07-03T06:46:39.148985",
     "status": "completed"
    },
    "tags": []
   },
   "outputs": [],
   "source": [
    "from sklearn.model_selection import train_test_split\n",
    "\n",
    "X_train, X_test, y_train, y_test = train_test_split(\n",
    "    X,\n",
    "    y,\n",
    "    train_size=P[\"task.train_test_ratio\"],\n",
    "    test_size=None,\n",
    "    stratify=y,\n",
    "    shuffle=True,\n",
    "    random_state=1,\n",
    ")\n",
    "\n",
    "# assert nr of pixels per image is the same for all image vectors\n",
    "assert X.shape[1] == X_train.shape[1] == X_test.shape[1]\n",
    "\n",
    "# assert that the (X, y)-pairs have compatible sizes (for both train and test)\n",
    "assert X_train.shape[0] == len(y_train)\n",
    "assert X_test.shape[0] == len(y_test)\n",
    "\n",
    "# assert that all data is used\n",
    "assert len(y) == len(y_train) + len(y_test)"
   ]
  },
  {
   "cell_type": "code",
   "execution_count": 8,
   "id": "1a456825",
   "metadata": {
    "execution": {
     "iopub.execute_input": "2022-07-03T06:46:39.674308Z",
     "iopub.status.busy": "2022-07-03T06:46:39.673694Z",
     "iopub.status.idle": "2022-07-03T06:46:39.682580Z",
     "shell.execute_reply": "2022-07-03T06:46:39.682000Z"
    },
    "papermill": {
     "duration": 0.015705,
     "end_time": "2022-07-03T06:46:39.684467",
     "exception": false,
     "start_time": "2022-07-03T06:46:39.668762",
     "status": "completed"
    },
    "tags": []
   },
   "outputs": [
    {
     "name": "stdout",
     "output_type": "stream",
     "text": [
      " - Logging nr_digits_train (int) : 1257\n",
      " - Logging nr_digits_test (int) : 540\n"
     ]
    }
   ],
   "source": [
    "logger.log_int(\"nr_digits_train\", len(y_train))\n",
    "logger.log_int(\"nr_digits_test\", len(y_test))"
   ]
  },
  {
   "cell_type": "markdown",
   "id": "c89cb3a1",
   "metadata": {
    "papermill": {
     "duration": 0.003704,
     "end_time": "2022-07-03T06:46:39.691428",
     "exception": false,
     "start_time": "2022-07-03T06:46:39.687724",
     "status": "completed"
    },
    "tags": []
   },
   "source": [
    "### Persist training and test data sets to separate files"
   ]
  },
  {
   "cell_type": "code",
   "execution_count": 9,
   "id": "c64074dc",
   "metadata": {
    "execution": {
     "iopub.execute_input": "2022-07-03T06:46:39.700179Z",
     "iopub.status.busy": "2022-07-03T06:46:39.699926Z",
     "iopub.status.idle": "2022-07-03T06:46:39.707020Z",
     "shell.execute_reply": "2022-07-03T06:46:39.706003Z"
    },
    "papermill": {
     "duration": 0.013971,
     "end_time": "2022-07-03T06:46:39.709754",
     "exception": false,
     "start_time": "2022-07-03T06:46:39.695783",
     "status": "completed"
    },
    "tags": []
   },
   "outputs": [],
   "source": [
    "write_numpy(datalake_root(P) / \"train-data\" / \"digits.numpy\", X_train)\n",
    "write_numpy(datalake_root(P) / \"train-data\" / \"labels.numpy\", y_train)\n",
    "\n",
    "#\n",
    "write_numpy(datalake_root(P) / \"test-data\" / \"digits.numpy\", X_test)\n",
    "write_numpy(datalake_root(P) / \"test-data\" / \"labels.numpy\", y_test)"
   ]
  },
  {
   "cell_type": "code",
   "execution_count": null,
   "id": "3c6903ad",
   "metadata": {
    "papermill": {
     "duration": 0.002956,
     "end_time": "2022-07-03T06:46:39.722802",
     "exception": false,
     "start_time": "2022-07-03T06:46:39.719846",
     "status": "completed"
    },
    "tags": []
   },
   "outputs": [],
   "source": []
  }
 ],
 "metadata": {
  "jupytext": {
   "cell_metadata_filter": "tags,-all",
   "main_language": "python",
   "notebook_metadata_filter": "-all"
  },
  "language_info": {
   "codemirror_mode": {
    "name": "ipython",
    "version": 3
   },
   "file_extension": ".py",
   "mimetype": "text/x-python",
   "name": "python",
   "nbconvert_exporter": "python",
   "pygments_lexer": "ipython3",
   "version": "3.8.10"
  },
  "papermill": {
   "default_parameters": {},
   "duration": 3.926896,
   "end_time": "2022-07-03T06:46:40.746633",
   "environment_variables": {},
   "exception": null,
   "input_path": "/home/host_user/workspace/mnist-demo-pipeline/mnist-demo-pipeline/notebooks/temp-notebook-s4vxkp3n.ipynb",
   "output_path": "notebooks/split-train-test.ipynb",
   "parameters": {
    "P": {
     "_opentelemetry_traceparent": "00-f66200069d2760d169bf34f103c126aa-3832be530f5705ee-01",
     "pipeline.data_lake_root": "/pipeline-outputs/data-lake",
     "pipeline.github.actor": "matiasdahl",
     "pipeline.github.base_ref": "",
     "pipeline.github.event_name": "schedule",
     "pipeline.github.head_ref": "",
     "pipeline.github.job": "run-tests-pipeline-and-persist-pipeline-outputs",
     "pipeline.github.ref": "refs/heads/development",
     "pipeline.github.ref_name": "development",
     "pipeline.github.ref_type": "branch",
     "pipeline.github.repository": "pynb-dag-runner/mnist-digits-demo-pipeline",
     "pipeline.github.run_id": "2604161071",
     "pipeline.github.runner_name": "Hosted Agent",
     "pipeline.github.sha": "f934c58f68028b7bb026059d4e87e6d32a1bbd20",
     "pipeline.github.workflow": "Run automated tests, pipeline and deploy results to static reporting site",
     "pipeline.pipeline_run_id": "9333ec7b-6173-479f-a3d0-10ccbe360194",
     "pipeline.run_environment": "ci",
     "run.retry_nr": "0",
     "task.max_nr_retries": "1",
     "task.notebook": "notebooks/split-train-test.py",
     "task.num_cpus": 1,
     "task.timeout_s": "None",
     "task.train_test_ratio": 0.7
    }
   },
   "start_time": "2022-07-03T06:46:36.819737",
   "version": "2.3.3"
  }
 },
 "nbformat": 4,
 "nbformat_minor": 5
}