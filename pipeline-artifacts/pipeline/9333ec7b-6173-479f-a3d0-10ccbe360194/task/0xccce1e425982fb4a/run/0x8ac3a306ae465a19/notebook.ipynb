{
 "cells": [
  {
   "cell_type": "markdown",
   "id": "1ebb870f",
   "metadata": {
    "papermill": {
     "duration": 0.00591,
     "end_time": "2022-07-03T06:47:15.007005",
     "exception": false,
     "start_time": "2022-07-03T06:47:15.001095",
     "status": "completed"
    },
    "tags": []
   },
   "source": [
    "# Benchmark model\n",
    "\n",
    "The purpose of this notebook is to benchmark persisted onnx-model (trained in the\n",
    "previous step) against evaluation set."
   ]
  },
  {
   "cell_type": "markdown",
   "id": "ef774edf",
   "metadata": {
    "papermill": {
     "duration": 0.004808,
     "end_time": "2022-07-03T06:47:15.017806",
     "exception": false,
     "start_time": "2022-07-03T06:47:15.012998",
     "status": "completed"
    },
    "tags": []
   },
   "source": [
    "### Determine run parameters"
   ]
  },
  {
   "cell_type": "code",
   "execution_count": 1,
   "id": "effcbe45",
   "metadata": {
    "execution": {
     "iopub.execute_input": "2022-07-03T06:47:15.029801Z",
     "iopub.status.busy": "2022-07-03T06:47:15.028928Z",
     "iopub.status.idle": "2022-07-03T06:47:15.039516Z",
     "shell.execute_reply": "2022-07-03T06:47:15.038881Z"
    },
    "lines_to_next_cell": 0,
    "papermill": {
     "duration": 0.01877,
     "end_time": "2022-07-03T06:47:15.041846",
     "exception": false,
     "start_time": "2022-07-03T06:47:15.023076",
     "status": "completed"
    },
    "tags": []
   },
   "outputs": [],
   "source": [
    "# ----------------- Parameters for interactive development --------------\n",
    "P = {\n",
    "    \"pipeline.data_lake_root\": \"/pipeline-outputs/data-lake\",\n",
    "    \"task.nr_train_images\": 600,\n",
    "}"
   ]
  },
  {
   "cell_type": "code",
   "execution_count": 2,
   "id": "11cd3c1b",
   "metadata": {
    "execution": {
     "iopub.execute_input": "2022-07-03T06:47:15.053422Z",
     "iopub.status.busy": "2022-07-03T06:47:15.053150Z",
     "iopub.status.idle": "2022-07-03T06:47:15.056663Z",
     "shell.execute_reply": "2022-07-03T06:47:15.055986Z"
    },
    "lines_to_next_cell": 0,
    "papermill": {
     "duration": 0.013032,
     "end_time": "2022-07-03T06:47:15.060380",
     "exception": false,
     "start_time": "2022-07-03T06:47:15.047348",
     "status": "completed"
    },
    "tags": [
     "parameters"
    ]
   },
   "outputs": [],
   "source": [
    "# - During automated runs parameters will be injected in the below cell -"
   ]
  },
  {
   "cell_type": "code",
   "execution_count": 3,
   "id": "ff801b0e",
   "metadata": {
    "execution": {
     "iopub.execute_input": "2022-07-03T06:47:15.071981Z",
     "iopub.status.busy": "2022-07-03T06:47:15.071733Z",
     "iopub.status.idle": "2022-07-03T06:47:15.077167Z",
     "shell.execute_reply": "2022-07-03T06:47:15.076569Z"
    },
    "papermill": {
     "duration": 0.015637,
     "end_time": "2022-07-03T06:47:15.080611",
     "exception": false,
     "start_time": "2022-07-03T06:47:15.064974",
     "status": "completed"
    },
    "tags": [
     "injected-parameters"
    ]
   },
   "outputs": [],
   "source": [
    "# Parameters\n",
    "P = {\n",
    "    \"pipeline.data_lake_root\": \"/pipeline-outputs/data-lake\",\n",
    "    \"pipeline.run_environment\": \"ci\",\n",
    "    \"pipeline.pipeline_run_id\": \"9333ec7b-6173-479f-a3d0-10ccbe360194\",\n",
    "    \"pipeline.github.repository\": \"pynb-dag-runner/mnist-digits-demo-pipeline\",\n",
    "    \"pipeline.github.workflow\": \"Run automated tests, pipeline and deploy results to static reporting site\",\n",
    "    \"pipeline.github.runner_name\": \"Hosted Agent\",\n",
    "    \"pipeline.github.run_id\": \"2604161071\",\n",
    "    \"pipeline.github.actor\": \"matiasdahl\",\n",
    "    \"pipeline.github.job\": \"run-tests-pipeline-and-persist-pipeline-outputs\",\n",
    "    \"pipeline.github.base_ref\": \"\",\n",
    "    \"pipeline.github.head_ref\": \"\",\n",
    "    \"pipeline.github.sha\": \"f934c58f68028b7bb026059d4e87e6d32a1bbd20\",\n",
    "    \"pipeline.github.ref\": \"refs/heads/development\",\n",
    "    \"pipeline.github.ref_type\": \"branch\",\n",
    "    \"pipeline.github.ref_name\": \"development\",\n",
    "    \"pipeline.github.event_name\": \"schedule\",\n",
    "    \"task.nr_train_images\": 1200,\n",
    "    \"task.notebook\": \"notebooks/benchmark-model.py\",\n",
    "    \"task.max_nr_retries\": \"1\",\n",
    "    \"run.retry_nr\": \"0\",\n",
    "    \"task.timeout_s\": \"None\",\n",
    "    \"task.num_cpus\": 1,\n",
    "    \"_opentelemetry_traceparent\": \"00-f66200069d2760d169bf34f103c126aa-24531090e755ac8c-01\",\n",
    "}\n"
   ]
  },
  {
   "cell_type": "code",
   "execution_count": 4,
   "id": "8aa89e0b",
   "metadata": {
    "execution": {
     "iopub.execute_input": "2022-07-03T06:47:15.091316Z",
     "iopub.status.busy": "2022-07-03T06:47:15.091079Z",
     "iopub.status.idle": "2022-07-03T06:47:15.094028Z",
     "shell.execute_reply": "2022-07-03T06:47:15.093447Z"
    },
    "lines_to_next_cell": 0,
    "papermill": {
     "duration": 0.012024,
     "end_time": "2022-07-03T06:47:15.096935",
     "exception": false,
     "start_time": "2022-07-03T06:47:15.084911",
     "status": "completed"
    },
    "tags": []
   },
   "outputs": [],
   "source": [
    "# -----------------------------------------------------------------------"
   ]
  },
  {
   "cell_type": "markdown",
   "id": "71aa896c",
   "metadata": {
    "papermill": {
     "duration": 0.005356,
     "end_time": "2022-07-03T06:47:15.107687",
     "exception": false,
     "start_time": "2022-07-03T06:47:15.102331",
     "status": "completed"
    },
    "tags": []
   },
   "source": [
    "---"
   ]
  },
  {
   "cell_type": "markdown",
   "id": "30ac2592",
   "metadata": {
    "lines_to_next_cell": 2,
    "papermill": {
     "duration": 0.004722,
     "end_time": "2022-07-03T06:47:15.118096",
     "exception": false,
     "start_time": "2022-07-03T06:47:15.113374",
     "status": "completed"
    },
    "tags": []
   },
   "source": [
    "### Notebook code"
   ]
  },
  {
   "cell_type": "code",
   "execution_count": 5,
   "id": "78db65bf",
   "metadata": {
    "execution": {
     "iopub.execute_input": "2022-07-03T06:47:15.130533Z",
     "iopub.status.busy": "2022-07-03T06:47:15.130267Z",
     "iopub.status.idle": "2022-07-03T06:47:16.517412Z",
     "shell.execute_reply": "2022-07-03T06:47:16.516581Z"
    },
    "papermill": {
     "duration": 1.395241,
     "end_time": "2022-07-03T06:47:16.519702",
     "exception": false,
     "start_time": "2022-07-03T06:47:15.124461",
     "status": "completed"
    },
    "tags": []
   },
   "outputs": [
    {
     "name": "stderr",
     "output_type": "stream",
     "text": [
      "2022-07-03 06:47:16,327\tINFO worker.py:842 -- Connecting to existing Ray cluster at address: 172.17.0.2:6379\n"
     ]
    }
   ],
   "source": [
    "import itertools as it\n",
    "\n",
    "#\n",
    "import numpy as np\n",
    "import matplotlib.pyplot as plt\n",
    "\n",
    "#\n",
    "from pynb_dag_runner.tasks.task_opentelemetry_logging import PydarLogger\n",
    "\n",
    "#\n",
    "from common.io import datalake_root\n",
    "\n",
    "logger = PydarLogger(P)"
   ]
  },
  {
   "cell_type": "markdown",
   "id": "feba6eb3",
   "metadata": {
    "papermill": {
     "duration": 0.004985,
     "end_time": "2022-07-03T06:47:16.530821",
     "exception": false,
     "start_time": "2022-07-03T06:47:16.525836",
     "status": "completed"
    },
    "tags": []
   },
   "source": [
    "## Load persisted onnx-model and evaluation data"
   ]
  },
  {
   "cell_type": "code",
   "execution_count": 6,
   "id": "e4aaa95a",
   "metadata": {
    "execution": {
     "iopub.execute_input": "2022-07-03T06:47:16.542179Z",
     "iopub.status.busy": "2022-07-03T06:47:16.541687Z",
     "iopub.status.idle": "2022-07-03T06:47:16.546950Z",
     "shell.execute_reply": "2022-07-03T06:47:16.546179Z"
    },
    "papermill": {
     "duration": 0.012937,
     "end_time": "2022-07-03T06:47:16.549104",
     "exception": false,
     "start_time": "2022-07-03T06:47:16.536167",
     "status": "completed"
    },
    "tags": []
   },
   "outputs": [],
   "source": [
    "from common.io import read_onnx, get_onnx_inputs, get_onnx_outputs, read_numpy"
   ]
  },
  {
   "cell_type": "code",
   "execution_count": 7,
   "id": "7e96f09c",
   "metadata": {
    "execution": {
     "iopub.execute_input": "2022-07-03T06:47:16.563611Z",
     "iopub.status.busy": "2022-07-03T06:47:16.563333Z",
     "iopub.status.idle": "2022-07-03T06:47:16.575824Z",
     "shell.execute_reply": "2022-07-03T06:47:16.575057Z"
    },
    "lines_to_next_cell": 0,
    "papermill": {
     "duration": 0.023046,
     "end_time": "2022-07-03T06:47:16.577806",
     "exception": false,
     "start_time": "2022-07-03T06:47:16.554760",
     "status": "completed"
    },
    "tags": []
   },
   "outputs": [],
   "source": [
    "onnx_inference_session = read_onnx(\n",
    "    datalake_root(P)\n",
    "    / \"models\"\n",
    "    / f\"nr_train_images={P['task.nr_train_images']}\"\n",
    "    / \"model.onnx\"\n",
    ")"
   ]
  },
  {
   "cell_type": "markdown",
   "id": "df9172e9",
   "metadata": {
    "papermill": {
     "duration": 0.005193,
     "end_time": "2022-07-03T06:47:16.587918",
     "exception": false,
     "start_time": "2022-07-03T06:47:16.582725",
     "status": "completed"
    },
    "tags": []
   },
   "source": [
    "### Record structure of inputs and outputs for ONNX model\n",
    "\n",
    "(this should likely be done in training notebook)"
   ]
  },
  {
   "cell_type": "code",
   "execution_count": 8,
   "id": "7571d158",
   "metadata": {
    "execution": {
     "iopub.execute_input": "2022-07-03T06:47:16.599588Z",
     "iopub.status.busy": "2022-07-03T06:47:16.599156Z",
     "iopub.status.idle": "2022-07-03T06:47:16.605619Z",
     "shell.execute_reply": "2022-07-03T06:47:16.604824Z"
    },
    "papermill": {
     "duration": 0.015745,
     "end_time": "2022-07-03T06:47:16.608532",
     "exception": false,
     "start_time": "2022-07-03T06:47:16.592787",
     "status": "completed"
    },
    "tags": []
   },
   "outputs": [
    {
     "name": "stdout",
     "output_type": "stream",
     "text": [
      "{\n",
      "  \"inputs\": [\n",
      "    {\n",
      "      \"name\": \"float_input_8x8_image\",\n",
      "      \"shape\": [\n",
      "        null,\n",
      "        64\n",
      "      ],\n",
      "      \"type\": \"tensor(float)\"\n",
      "    }\n",
      "  ],\n",
      "  \"outputs\": [\n",
      "    {\n",
      "      \"name\": \"output_label\",\n",
      "      \"shape\": [\n",
      "        null\n",
      "      ],\n",
      "      \"type\": \"tensor(int64)\"\n",
      "    },\n",
      "    {\n",
      "      \"name\": \"output_probability\",\n",
      "      \"shape\": [],\n",
      "      \"type\": \"seq(map(int64,tensor(float)))\"\n",
      "    }\n",
      "  ]\n",
      "}\n"
     ]
    }
   ],
   "source": [
    "import json\n",
    "\n",
    "onnx_io = json.dumps(\n",
    "    {\n",
    "        \"inputs\": get_onnx_inputs(onnx_inference_session),\n",
    "        \"outputs\": get_onnx_outputs(onnx_inference_session),\n",
    "    },\n",
    "    indent=2,\n",
    ")\n",
    "\n",
    "\n",
    "logger.log_artefact(\"onnx_io_structure.json\", onnx_io)\n",
    "print(onnx_io)"
   ]
  },
  {
   "cell_type": "markdown",
   "id": "79ede697",
   "metadata": {
    "papermill": {
     "duration": 0.005458,
     "end_time": "2022-07-03T06:47:16.619148",
     "exception": false,
     "start_time": "2022-07-03T06:47:16.613690",
     "status": "completed"
    },
    "tags": []
   },
   "source": [
    "### Evaluate model performance on evaluation data set"
   ]
  },
  {
   "cell_type": "code",
   "execution_count": 9,
   "id": "283a5769",
   "metadata": {
    "execution": {
     "iopub.execute_input": "2022-07-03T06:47:16.630524Z",
     "iopub.status.busy": "2022-07-03T06:47:16.630021Z",
     "iopub.status.idle": "2022-07-03T06:47:16.635389Z",
     "shell.execute_reply": "2022-07-03T06:47:16.634436Z"
    },
    "papermill": {
     "duration": 0.013139,
     "end_time": "2022-07-03T06:47:16.637130",
     "exception": false,
     "start_time": "2022-07-03T06:47:16.623991",
     "status": "completed"
    },
    "tags": []
   },
   "outputs": [],
   "source": [
    "# load evaluation data\n",
    "X_test = read_numpy(datalake_root(P) / \"test-data\" / \"digits.numpy\")\n",
    "y_test = read_numpy(datalake_root(P) / \"test-data\" / \"labels.numpy\")"
   ]
  },
  {
   "cell_type": "code",
   "execution_count": 10,
   "id": "95277e37",
   "metadata": {
    "execution": {
     "iopub.execute_input": "2022-07-03T06:47:16.649600Z",
     "iopub.status.busy": "2022-07-03T06:47:16.649198Z",
     "iopub.status.idle": "2022-07-03T06:47:16.665817Z",
     "shell.execute_reply": "2022-07-03T06:47:16.664876Z"
    },
    "papermill": {
     "duration": 0.024651,
     "end_time": "2022-07-03T06:47:16.667703",
     "exception": false,
     "start_time": "2022-07-03T06:47:16.643052",
     "status": "completed"
    },
    "tags": []
   },
   "outputs": [],
   "source": [
    "def get_model_outputs(X, onnx_inference_session):\n",
    "    y_pred_labels, y_pred_map = onnx_inference_session.run(\n",
    "        [\"output_label\", \"output_probability\"],\n",
    "        {\"float_input_8x8_image\": X.astype(np.float32)},\n",
    "    )\n",
    "    y_pred_probs = np.array(\n",
    "        [[probabilities[digit] for digit in range(10)] for probabilities in y_pred_map]\n",
    "    )\n",
    "\n",
    "    assert y_pred_labels.shape == (X.shape[0],)\n",
    "    assert y_pred_probs.shape == (X.shape[0], 10)\n",
    "\n",
    "    return y_pred_labels, y_pred_probs\n",
    "\n",
    "\n",
    "# Note: as shown in the training notebook, the predicted labels and probabilities\n",
    "# computed below need not be compatible.\n",
    "y_pred_labels_test, y_pred_probs_test = get_model_outputs(\n",
    "    X_test, onnx_inference_session\n",
    ")"
   ]
  },
  {
   "cell_type": "markdown",
   "id": "9ac8da76",
   "metadata": {
    "papermill": {
     "duration": 0.005308,
     "end_time": "2022-07-03T06:47:16.678106",
     "exception": false,
     "start_time": "2022-07-03T06:47:16.672798",
     "status": "completed"
    },
    "tags": []
   },
   "source": [
    "### Confusion matrix"
   ]
  },
  {
   "cell_type": "code",
   "execution_count": 11,
   "id": "bbfa2cb1",
   "metadata": {
    "execution": {
     "iopub.execute_input": "2022-07-03T06:47:16.689253Z",
     "iopub.status.busy": "2022-07-03T06:47:16.688893Z",
     "iopub.status.idle": "2022-07-03T06:47:16.692413Z",
     "shell.execute_reply": "2022-07-03T06:47:16.691670Z"
    },
    "papermill": {
     "duration": 0.011862,
     "end_time": "2022-07-03T06:47:16.694689",
     "exception": false,
     "start_time": "2022-07-03T06:47:16.682827",
     "status": "completed"
    },
    "tags": []
   },
   "outputs": [],
   "source": [
    "# TODO"
   ]
  },
  {
   "cell_type": "markdown",
   "id": "28da3b31",
   "metadata": {
    "papermill": {
     "duration": 0.004752,
     "end_time": "2022-07-03T06:47:16.704931",
     "exception": false,
     "start_time": "2022-07-03T06:47:16.700179",
     "status": "completed"
    },
    "tags": []
   },
   "source": [
    "### Plot predicted probabilities for each classifier over all evaluation digit images"
   ]
  },
  {
   "cell_type": "code",
   "execution_count": 12,
   "id": "19f1509f",
   "metadata": {
    "execution": {
     "iopub.execute_input": "2022-07-03T06:47:16.717113Z",
     "iopub.status.busy": "2022-07-03T06:47:16.716767Z",
     "iopub.status.idle": "2022-07-03T06:47:20.400282Z",
     "shell.execute_reply": "2022-07-03T06:47:20.399353Z"
    },
    "papermill": {
     "duration": 3.691533,
     "end_time": "2022-07-03T06:47:20.402112",
     "exception": false,
     "start_time": "2022-07-03T06:47:16.710579",
     "status": "completed"
    },
    "tags": []
   },
   "outputs": [
    {
     "data": {
      "image/png": "[encoded data removed]",
      "text/plain": [
       "<Figure size 1152x432 with 10 Axes>"
      ]
     },
     "metadata": {
      "needs_background": "light"
     },
     "output_type": "display_data"
    }
   ],
   "source": [
    "def plot_per_digit_probabilities(y_pred_probs):\n",
    "    fig, axs = plt.subplots(nrows=2, ncols=5, figsize=(16, 6))\n",
    "\n",
    "    for (r, c), digit, ax in zip(\n",
    "        it.product(range(2), range(5)), range(10), axs.reshape(-1)\n",
    "    ):\n",
    "        ax.hist(y_pred_probs_test[:, digit], bins=20)\n",
    "\n",
    "        ax.set_title(f\"Digit {digit}\")\n",
    "        if r == 1 and c == 2:\n",
    "            ax.set_xlabel(\"probability\", fontsize=16)\n",
    "\n",
    "        if c == 0:\n",
    "            ax.set_ylabel(\"counts\", fontsize=16)\n",
    "        ax.set_yscale(\"log\")\n",
    "\n",
    "    fig.tight_layout()\n",
    "    fig.suptitle(\n",
    "        f\"Distributions of prediction probabilities for each digit \"\n",
    "        f\"(on evaluation data, n={y_pred_probs.shape[0]})\",\n",
    "        fontsize=20,\n",
    "    )\n",
    "    fig.tight_layout()\n",
    "    fig.show()\n",
    "\n",
    "    return fig\n",
    "\n",
    "\n",
    "fig = plot_per_digit_probabilities(y_pred_probs_test)"
   ]
  },
  {
   "cell_type": "markdown",
   "id": "5c155770",
   "metadata": {
    "papermill": {
     "duration": 0.006031,
     "end_time": "2022-07-03T06:47:20.414034",
     "exception": false,
     "start_time": "2022-07-03T06:47:20.408003",
     "status": "completed"
    },
    "tags": []
   },
   "source": [
    "From the above distributions we see that most digits have clear separation between\n",
    "high and lower probabilities. Morover, in each case there is roughly an order of\n",
    "magnitude more of digits with low probabilities. This is compatible with digits\n",
    "being roughly evenly distributed in the data."
   ]
  },
  {
   "cell_type": "code",
   "execution_count": 13,
   "id": "bd759be2",
   "metadata": {
    "execution": {
     "iopub.execute_input": "2022-07-03T06:47:20.426919Z",
     "iopub.status.busy": "2022-07-03T06:47:20.426446Z",
     "iopub.status.idle": "2022-07-03T06:47:20.926706Z",
     "shell.execute_reply": "2022-07-03T06:47:20.925698Z"
    },
    "papermill": {
     "duration": 0.509226,
     "end_time": "2022-07-03T06:47:20.928691",
     "exception": false,
     "start_time": "2022-07-03T06:47:20.419465",
     "status": "completed"
    },
    "tags": []
   },
   "outputs": [],
   "source": [
    "logger.log_figure(\"per-digit-probabilities.png\", fig)"
   ]
  },
  {
   "cell_type": "markdown",
   "id": "47019c93",
   "metadata": {
    "papermill": {
     "duration": 0.006784,
     "end_time": "2022-07-03T06:47:20.941199",
     "exception": false,
     "start_time": "2022-07-03T06:47:20.934415",
     "status": "completed"
    },
    "tags": []
   },
   "source": [
    "### Plot ROC curves for individual one-vs-rest classifiers"
   ]
  },
  {
   "cell_type": "code",
   "execution_count": 14,
   "id": "31b18407",
   "metadata": {
    "execution": {
     "iopub.execute_input": "2022-07-03T06:47:20.954009Z",
     "iopub.status.busy": "2022-07-03T06:47:20.953452Z",
     "iopub.status.idle": "2022-07-03T06:47:21.386276Z",
     "shell.execute_reply": "2022-07-03T06:47:21.385442Z"
    },
    "papermill": {
     "duration": 0.441942,
     "end_time": "2022-07-03T06:47:21.388791",
     "exception": false,
     "start_time": "2022-07-03T06:47:20.946849",
     "status": "completed"
    },
    "tags": []
   },
   "outputs": [],
   "source": [
    "from sklearn import metrics"
   ]
  },
  {
   "cell_type": "code",
   "execution_count": 15,
   "id": "8907a078",
   "metadata": {
    "execution": {
     "iopub.execute_input": "2022-07-03T06:47:21.402615Z",
     "iopub.status.busy": "2022-07-03T06:47:21.402079Z",
     "iopub.status.idle": "2022-07-03T06:47:22.601453Z",
     "shell.execute_reply": "2022-07-03T06:47:22.600687Z"
    },
    "papermill": {
     "duration": 1.208457,
     "end_time": "2022-07-03T06:47:22.603559",
     "exception": false,
     "start_time": "2022-07-03T06:47:21.395102",
     "status": "completed"
    },
    "tags": []
   },
   "outputs": [
    {
     "data": {
      "image/png": "[encoded data removed]",
      "text/plain": [
       "<Figure size 1152x576 with 10 Axes>"
      ]
     },
     "metadata": {
      "needs_background": "light"
     },
     "output_type": "display_data"
    }
   ],
   "source": [
    "def plot_roc_curves(y, y_pred_probs):\n",
    "    # based on example code\n",
    "    # https://scikit-learn.org/stable/auto_examples/model_selection/plot_roc.html\n",
    "\n",
    "    fig, axs = plt.subplots(nrows=2, ncols=5, figsize=(16, 8))\n",
    "\n",
    "    roc_auc_dict = {}\n",
    "\n",
    "    for (r, c), digit, ax in zip(\n",
    "        it.product(range(2), range(5)), range(10), axs.reshape(-1)\n",
    "    ):\n",
    "        fpr, tpr, _ = metrics.roc_curve(y == digit, y_pred_probs[:, digit])\n",
    "        auc = metrics.auc(fpr, tpr)\n",
    "        roc_auc_dict[str(digit)] = auc\n",
    "\n",
    "        ax.plot(fpr, tpr, label=f\"ROC AUC={round(auc, 3)}\")\n",
    "\n",
    "        ax.set_title(f\"\\nDigit {digit}\", fontsize=16)\n",
    "        if r == 1:\n",
    "            ax.set_xlabel(\"FPR\", fontsize=18)\n",
    "\n",
    "        if c == 0:\n",
    "            ax.set_ylabel(\"TPR\", fontsize=18)\n",
    "\n",
    "        ax.set_xlim([-0.05, 1.05])\n",
    "        ax.set_ylim([-0.05, 1.05])\n",
    "        ax.legend(loc=\"lower right\", frameon=False, fontsize=14)\n",
    "\n",
    "    fig.tight_layout()\n",
    "    fig.suptitle(\n",
    "        f\"ROC plots for one-vs-rest performances \"\n",
    "        f\"(on evaluation data, n={y_pred_probs_test.shape[1]}\",\n",
    "        fontsize=22,\n",
    "    )\n",
    "    fig.tight_layout()\n",
    "    fig.show()\n",
    "\n",
    "    return roc_auc_dict, fig\n",
    "\n",
    "\n",
    "roc_auc_dict, fig = plot_roc_curves(y_test, y_pred_probs_test)"
   ]
  },
  {
   "cell_type": "code",
   "execution_count": 16,
   "id": "c1903b6a",
   "metadata": {
    "execution": {
     "iopub.execute_input": "2022-07-03T06:47:22.618392Z",
     "iopub.status.busy": "2022-07-03T06:47:22.617554Z",
     "iopub.status.idle": "2022-07-03T06:47:22.867749Z",
     "shell.execute_reply": "2022-07-03T06:47:22.866807Z"
    },
    "papermill": {
     "duration": 0.259355,
     "end_time": "2022-07-03T06:47:22.869727",
     "exception": false,
     "start_time": "2022-07-03T06:47:22.610372",
     "status": "completed"
    },
    "tags": []
   },
   "outputs": [],
   "source": [
    "logger.log_figure(\"per-digit-roc-curves.png\", fig)"
   ]
  },
  {
   "cell_type": "code",
   "execution_count": 17,
   "id": "db524686",
   "metadata": {
    "execution": {
     "iopub.execute_input": "2022-07-03T06:47:22.885027Z",
     "iopub.status.busy": "2022-07-03T06:47:22.884502Z",
     "iopub.status.idle": "2022-07-03T06:47:22.890059Z",
     "shell.execute_reply": "2022-07-03T06:47:22.889294Z"
    },
    "papermill": {
     "duration": 0.01549,
     "end_time": "2022-07-03T06:47:22.892636",
     "exception": false,
     "start_time": "2022-07-03T06:47:22.877146",
     "status": "completed"
    },
    "tags": []
   },
   "outputs": [
    {
     "data": {
      "text/plain": [
       "{'0': 1.0,\n",
       " '1': 0.9990627928772259,\n",
       " '2': 1.0,\n",
       " '3': 0.9998500468603562,\n",
       " '4': 0.9997332723670173,\n",
       " '5': 0.9996626054358013,\n",
       " '6': 0.999923792104862,\n",
       " '7': 0.9998475842097242,\n",
       " '8': 0.9959804539722572,\n",
       " '9': 0.9997332723670171}"
      ]
     },
     "execution_count": 17,
     "metadata": {},
     "output_type": "execute_result"
    }
   ],
   "source": [
    "roc_auc_dict"
   ]
  },
  {
   "cell_type": "code",
   "execution_count": 18,
   "id": "c0ba6504",
   "metadata": {
    "execution": {
     "iopub.execute_input": "2022-07-03T06:47:22.907514Z",
     "iopub.status.busy": "2022-07-03T06:47:22.906760Z",
     "iopub.status.idle": "2022-07-03T06:47:22.911563Z",
     "shell.execute_reply": "2022-07-03T06:47:22.910836Z"
    },
    "papermill": {
     "duration": 0.014138,
     "end_time": "2022-07-03T06:47:22.913583",
     "exception": false,
     "start_time": "2022-07-03T06:47:22.899445",
     "status": "completed"
    },
    "tags": []
   },
   "outputs": [
    {
     "name": "stdout",
     "output_type": "stream",
     "text": [
      " - Logging roc_auc_per_digit (json) : {'0': 1.0, '1': 0.9990627928772259, '2': 1.0, '3': 0.9998500468603562, '4': 0.9997332723670173, '5': 0.9996626054358013, '6': 0.999923792104862, '7': 0.9998475842097242, '8': 0.9959804539722572, '9': 0.9997332723670171}\n"
     ]
    }
   ],
   "source": [
    "logger.log_value(\"roc_auc_per_digit\", roc_auc_dict)"
   ]
  },
  {
   "cell_type": "markdown",
   "id": "bcc84f3b",
   "metadata": {
    "papermill": {
     "duration": 0.00639,
     "end_time": "2022-07-03T06:47:22.926535",
     "exception": false,
     "start_time": "2022-07-03T06:47:22.920145",
     "status": "completed"
    },
    "tags": []
   },
   "source": [
    "### Compute and log mean ROC AUC score averaged over all digits"
   ]
  },
  {
   "cell_type": "code",
   "execution_count": 19,
   "id": "53f5be74",
   "metadata": {
    "execution": {
     "iopub.execute_input": "2022-07-03T06:47:22.940713Z",
     "iopub.status.busy": "2022-07-03T06:47:22.940404Z",
     "iopub.status.idle": "2022-07-03T06:47:22.954110Z",
     "shell.execute_reply": "2022-07-03T06:47:22.953132Z"
    },
    "papermill": {
     "duration": 0.023184,
     "end_time": "2022-07-03T06:47:22.956053",
     "exception": false,
     "start_time": "2022-07-03T06:47:22.932869",
     "status": "completed"
    },
    "tags": []
   },
   "outputs": [
    {
     "name": "stdout",
     "output_type": "stream",
     "text": [
      " - Logging roc_auc_class_mean (float) : 0.9993793820194261\n"
     ]
    }
   ],
   "source": [
    "roc_auc_macro = np.mean(list(roc_auc_dict.values()))\n",
    "\n",
    "logger.log_float(\"roc_auc_class_mean\", roc_auc_macro)\n",
    "\n",
    "# assert that the same value can be computed directly using sklearn\n",
    "assert roc_auc_macro == metrics.roc_auc_score(\n",
    "    y_test, y_pred_probs_test, average=\"macro\", multi_class=\"ovr\"\n",
    ")"
   ]
  },
  {
   "cell_type": "code",
   "execution_count": 20,
   "id": "bc2c2d18",
   "metadata": {
    "execution": {
     "iopub.execute_input": "2022-07-03T06:47:22.970598Z",
     "iopub.status.busy": "2022-07-03T06:47:22.970200Z",
     "iopub.status.idle": "2022-07-03T06:47:22.976872Z",
     "shell.execute_reply": "2022-07-03T06:47:22.976138Z"
    },
    "lines_to_next_cell": 0,
    "papermill": {
     "duration": 0.018193,
     "end_time": "2022-07-03T06:47:22.980670",
     "exception": false,
     "start_time": "2022-07-03T06:47:22.962477",
     "status": "completed"
    },
    "tags": []
   },
   "outputs": [],
   "source": [
    "# ---"
   ]
  },
  {
   "cell_type": "code",
   "execution_count": null,
   "id": "89a327f7",
   "metadata": {
    "papermill": {
     "duration": 0.007162,
     "end_time": "2022-07-03T06:47:22.994558",
     "exception": false,
     "start_time": "2022-07-03T06:47:22.987396",
     "status": "completed"
    },
    "tags": []
   },
   "outputs": [],
   "source": []
  }
 ],
 "metadata": {
  "jupytext": {
   "cell_metadata_filter": "tags,-all",
   "main_language": "python",
   "notebook_metadata_filter": "-all"
  },
  "language_info": {
   "codemirror_mode": {
    "name": "ipython",
    "version": 3
   },
   "file_extension": ".py",
   "mimetype": "text/x-python",
   "name": "python",
   "nbconvert_exporter": "python",
   "pygments_lexer": "ipython3",
   "version": "3.8.10"
  },
  "papermill": {
   "default_parameters": {},
   "duration": 10.651188,
   "end_time": "2022-07-03T06:47:24.221259",
   "environment_variables": {},
   "exception": null,
   "input_path": "/home/host_user/workspace/mnist-demo-pipeline/mnist-demo-pipeline/notebooks/temp-notebook-t444_3xn.ipynb",
   "output_path": "notebooks/benchmark-model.ipynb",
   "parameters": {
    "P": {
     "_opentelemetry_traceparent": "00-f66200069d2760d169bf34f103c126aa-24531090e755ac8c-01",
     "pipeline.data_lake_root": "/pipeline-outputs/data-lake",
     "pipeline.github.actor": "matiasdahl",
     "pipeline.github.base_ref": "",
     "pipeline.github.event_name": "schedule",
     "pipeline.github.head_ref": "",
     "pipeline.github.job": "run-tests-pipeline-and-persist-pipeline-outputs",
     "pipeline.github.ref": "refs/heads/development",
     "pipeline.github.ref_name": "development",
     "pipeline.github.ref_type": "branch",
     "pipeline.github.repository": "pynb-dag-runner/mnist-digits-demo-pipeline",
     "pipeline.github.run_id": "2604161071",
     "pipeline.github.runner_name": "Hosted Agent",
     "pipeline.github.sha": "f934c58f68028b7bb026059d4e87e6d32a1bbd20",
     "pipeline.github.workflow": "Run automated tests, pipeline and deploy results to static reporting site",
     "pipeline.pipeline_run_id": "9333ec7b-6173-479f-a3d0-10ccbe360194",
     "pipeline.run_environment": "ci",
     "run.retry_nr": "0",
     "task.max_nr_retries": "1",
     "task.notebook": "notebooks/benchmark-model.py",
     "task.nr_train_images": 1200,
     "task.num_cpus": 1,
     "task.timeout_s": "None"
    }
   },
   "start_time": "2022-07-03T06:47:13.570071",
   "version": "2.3.3"
  }
 },
 "nbformat": 4,
 "nbformat_minor": 5
}