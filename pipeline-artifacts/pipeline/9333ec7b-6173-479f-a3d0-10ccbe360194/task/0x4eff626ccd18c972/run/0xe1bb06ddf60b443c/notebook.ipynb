{
 "cells": [
  {
   "cell_type": "markdown",
   "id": "810007e1",
   "metadata": {
    "papermill": {
     "duration": 0.005787,
     "end_time": "2022-07-03T06:46:57.084637",
     "exception": false,
     "start_time": "2022-07-03T06:46:57.078850",
     "status": "completed"
    },
    "tags": []
   },
   "source": [
    "# Benchmark model\n",
    "\n",
    "The purpose of this notebook is to benchmark persisted onnx-model (trained in the\n",
    "previous step) against evaluation set."
   ]
  },
  {
   "cell_type": "markdown",
   "id": "5096baa4",
   "metadata": {
    "papermill": {
     "duration": 0.004324,
     "end_time": "2022-07-03T06:46:57.093659",
     "exception": false,
     "start_time": "2022-07-03T06:46:57.089335",
     "status": "completed"
    },
    "tags": []
   },
   "source": [
    "### Determine run parameters"
   ]
  },
  {
   "cell_type": "code",
   "execution_count": 1,
   "id": "fe8c92fc",
   "metadata": {
    "execution": {
     "iopub.execute_input": "2022-07-03T06:46:57.104386Z",
     "iopub.status.busy": "2022-07-03T06:46:57.103508Z",
     "iopub.status.idle": "2022-07-03T06:46:57.112621Z",
     "shell.execute_reply": "2022-07-03T06:46:57.112021Z"
    },
    "lines_to_next_cell": 0,
    "papermill": {
     "duration": 0.01672,
     "end_time": "2022-07-03T06:46:57.114670",
     "exception": false,
     "start_time": "2022-07-03T06:46:57.097950",
     "status": "completed"
    },
    "tags": []
   },
   "outputs": [],
   "source": [
    "# ----------------- Parameters for interactive development --------------\n",
    "P = {\n",
    "    \"pipeline.data_lake_root\": \"/pipeline-outputs/data-lake\",\n",
    "    \"task.nr_train_images\": 600,\n",
    "}"
   ]
  },
  {
   "cell_type": "code",
   "execution_count": 2,
   "id": "90dd91d4",
   "metadata": {
    "execution": {
     "iopub.execute_input": "2022-07-03T06:46:57.126868Z",
     "iopub.status.busy": "2022-07-03T06:46:57.126592Z",
     "iopub.status.idle": "2022-07-03T06:46:57.129804Z",
     "shell.execute_reply": "2022-07-03T06:46:57.129211Z"
    },
    "lines_to_next_cell": 0,
    "papermill": {
     "duration": 0.011707,
     "end_time": "2022-07-03T06:46:57.132755",
     "exception": false,
     "start_time": "2022-07-03T06:46:57.121048",
     "status": "completed"
    },
    "tags": [
     "parameters"
    ]
   },
   "outputs": [],
   "source": [
    "# - During automated runs parameters will be injected in the below cell -"
   ]
  },
  {
   "cell_type": "code",
   "execution_count": 3,
   "id": "d04d7827",
   "metadata": {
    "execution": {
     "iopub.execute_input": "2022-07-03T06:46:57.142704Z",
     "iopub.status.busy": "2022-07-03T06:46:57.142464Z",
     "iopub.status.idle": "2022-07-03T06:46:57.147387Z",
     "shell.execute_reply": "2022-07-03T06:46:57.146829Z"
    },
    "papermill": {
     "duration": 0.012883,
     "end_time": "2022-07-03T06:46:57.150010",
     "exception": false,
     "start_time": "2022-07-03T06:46:57.137127",
     "status": "completed"
    },
    "tags": [
     "injected-parameters"
    ]
   },
   "outputs": [],
   "source": [
    "# Parameters\n",
    "P = {\n",
    "    \"pipeline.data_lake_root\": \"/pipeline-outputs/data-lake\",\n",
    "    \"pipeline.run_environment\": \"ci\",\n",
    "    \"pipeline.pipeline_run_id\": \"9333ec7b-6173-479f-a3d0-10ccbe360194\",\n",
    "    \"pipeline.github.repository\": \"pynb-dag-runner/mnist-digits-demo-pipeline\",\n",
    "    \"pipeline.github.workflow\": \"Run automated tests, pipeline and deploy results to static reporting site\",\n",
    "    \"pipeline.github.runner_name\": \"Hosted Agent\",\n",
    "    \"pipeline.github.run_id\": \"2604161071\",\n",
    "    \"pipeline.github.actor\": \"matiasdahl\",\n",
    "    \"pipeline.github.job\": \"run-tests-pipeline-and-persist-pipeline-outputs\",\n",
    "    \"pipeline.github.base_ref\": \"\",\n",
    "    \"pipeline.github.head_ref\": \"\",\n",
    "    \"pipeline.github.sha\": \"f934c58f68028b7bb026059d4e87e6d32a1bbd20\",\n",
    "    \"pipeline.github.ref\": \"refs/heads/development\",\n",
    "    \"pipeline.github.ref_type\": \"branch\",\n",
    "    \"pipeline.github.ref_name\": \"development\",\n",
    "    \"pipeline.github.event_name\": \"schedule\",\n",
    "    \"task.nr_train_images\": 800,\n",
    "    \"task.notebook\": \"notebooks/benchmark-model.py\",\n",
    "    \"task.max_nr_retries\": \"1\",\n",
    "    \"run.retry_nr\": \"0\",\n",
    "    \"task.timeout_s\": \"None\",\n",
    "    \"task.num_cpus\": 1,\n",
    "    \"_opentelemetry_traceparent\": \"00-f66200069d2760d169bf34f103c126aa-e29ebe262c309a77-01\",\n",
    "}\n"
   ]
  },
  {
   "cell_type": "code",
   "execution_count": 4,
   "id": "e718c01b",
   "metadata": {
    "execution": {
     "iopub.execute_input": "2022-07-03T06:46:57.160324Z",
     "iopub.status.busy": "2022-07-03T06:46:57.160088Z",
     "iopub.status.idle": "2022-07-03T06:46:57.162946Z",
     "shell.execute_reply": "2022-07-03T06:46:57.162401Z"
    },
    "lines_to_next_cell": 0,
    "papermill": {
     "duration": 0.011655,
     "end_time": "2022-07-03T06:46:57.166055",
     "exception": false,
     "start_time": "2022-07-03T06:46:57.154400",
     "status": "completed"
    },
    "tags": []
   },
   "outputs": [],
   "source": [
    "# -----------------------------------------------------------------------"
   ]
  },
  {
   "cell_type": "markdown",
   "id": "0c0a53de",
   "metadata": {
    "papermill": {
     "duration": 0.005199,
     "end_time": "2022-07-03T06:46:57.175839",
     "exception": false,
     "start_time": "2022-07-03T06:46:57.170640",
     "status": "completed"
    },
    "tags": []
   },
   "source": [
    "---"
   ]
  },
  {
   "cell_type": "markdown",
   "id": "cbdabb0b",
   "metadata": {
    "lines_to_next_cell": 2,
    "papermill": {
     "duration": 0.005077,
     "end_time": "2022-07-03T06:46:57.185261",
     "exception": false,
     "start_time": "2022-07-03T06:46:57.180184",
     "status": "completed"
    },
    "tags": []
   },
   "source": [
    "### Notebook code"
   ]
  },
  {
   "cell_type": "code",
   "execution_count": 5,
   "id": "85d93444",
   "metadata": {
    "execution": {
     "iopub.execute_input": "2022-07-03T06:46:57.197774Z",
     "iopub.status.busy": "2022-07-03T06:46:57.197510Z",
     "iopub.status.idle": "2022-07-03T06:46:58.421475Z",
     "shell.execute_reply": "2022-07-03T06:46:58.420792Z"
    },
    "papermill": {
     "duration": 1.232194,
     "end_time": "2022-07-03T06:46:58.424345",
     "exception": false,
     "start_time": "2022-07-03T06:46:57.192151",
     "status": "completed"
    },
    "tags": []
   },
   "outputs": [
    {
     "name": "stderr",
     "output_type": "stream",
     "text": [
      "2022-07-03 06:46:58,232\tINFO worker.py:842 -- Connecting to existing Ray cluster at address: 172.17.0.2:6379\n"
     ]
    }
   ],
   "source": [
    "import itertools as it\n",
    "\n",
    "#\n",
    "import numpy as np\n",
    "import matplotlib.pyplot as plt\n",
    "\n",
    "#\n",
    "from pynb_dag_runner.tasks.task_opentelemetry_logging import PydarLogger\n",
    "\n",
    "#\n",
    "from common.io import datalake_root\n",
    "\n",
    "logger = PydarLogger(P)"
   ]
  },
  {
   "cell_type": "markdown",
   "id": "fbec8e08",
   "metadata": {
    "papermill": {
     "duration": 0.005246,
     "end_time": "2022-07-03T06:46:58.444344",
     "exception": false,
     "start_time": "2022-07-03T06:46:58.439098",
     "status": "completed"
    },
    "tags": []
   },
   "source": [
    "## Load persisted onnx-model and evaluation data"
   ]
  },
  {
   "cell_type": "code",
   "execution_count": 6,
   "id": "7565ae52",
   "metadata": {
    "execution": {
     "iopub.execute_input": "2022-07-03T06:46:58.457417Z",
     "iopub.status.busy": "2022-07-03T06:46:58.457006Z",
     "iopub.status.idle": "2022-07-03T06:46:58.460886Z",
     "shell.execute_reply": "2022-07-03T06:46:58.460230Z"
    },
    "papermill": {
     "duration": 0.015104,
     "end_time": "2022-07-03T06:46:58.464296",
     "exception": false,
     "start_time": "2022-07-03T06:46:58.449192",
     "status": "completed"
    },
    "tags": []
   },
   "outputs": [],
   "source": [
    "from common.io import read_onnx, get_onnx_inputs, get_onnx_outputs, read_numpy"
   ]
  },
  {
   "cell_type": "code",
   "execution_count": 7,
   "id": "59c5ad2b",
   "metadata": {
    "execution": {
     "iopub.execute_input": "2022-07-03T06:46:58.475922Z",
     "iopub.status.busy": "2022-07-03T06:46:58.475005Z",
     "iopub.status.idle": "2022-07-03T06:46:58.485526Z",
     "shell.execute_reply": "2022-07-03T06:46:58.484847Z"
    },
    "lines_to_next_cell": 0,
    "papermill": {
     "duration": 0.018293,
     "end_time": "2022-07-03T06:46:58.487349",
     "exception": false,
     "start_time": "2022-07-03T06:46:58.469056",
     "status": "completed"
    },
    "tags": []
   },
   "outputs": [],
   "source": [
    "onnx_inference_session = read_onnx(\n",
    "    datalake_root(P)\n",
    "    / \"models\"\n",
    "    / f\"nr_train_images={P['task.nr_train_images']}\"\n",
    "    / \"model.onnx\"\n",
    ")"
   ]
  },
  {
   "cell_type": "markdown",
   "id": "e2b76dbb",
   "metadata": {
    "papermill": {
     "duration": 0.005087,
     "end_time": "2022-07-03T06:46:58.497076",
     "exception": false,
     "start_time": "2022-07-03T06:46:58.491989",
     "status": "completed"
    },
    "tags": []
   },
   "source": [
    "### Record structure of inputs and outputs for ONNX model\n",
    "\n",
    "(this should likely be done in training notebook)"
   ]
  },
  {
   "cell_type": "code",
   "execution_count": 8,
   "id": "34002c3f",
   "metadata": {
    "execution": {
     "iopub.execute_input": "2022-07-03T06:46:58.508159Z",
     "iopub.status.busy": "2022-07-03T06:46:58.507890Z",
     "iopub.status.idle": "2022-07-03T06:46:58.513919Z",
     "shell.execute_reply": "2022-07-03T06:46:58.513130Z"
    },
    "papermill": {
     "duration": 0.014798,
     "end_time": "2022-07-03T06:46:58.516565",
     "exception": false,
     "start_time": "2022-07-03T06:46:58.501767",
     "status": "completed"
    },
    "tags": []
   },
   "outputs": [
    {
     "name": "stdout",
     "output_type": "stream",
     "text": [
      "{\n",
      "  \"inputs\": [\n",
      "    {\n",
      "      \"name\": \"float_input_8x8_image\",\n",
      "      \"shape\": [\n",
      "        null,\n",
      "        64\n",
      "      ],\n",
      "      \"type\": \"tensor(float)\"\n",
      "    }\n",
      "  ],\n",
      "  \"outputs\": [\n",
      "    {\n",
      "      \"name\": \"output_label\",\n",
      "      \"shape\": [\n",
      "        null\n",
      "      ],\n",
      "      \"type\": \"tensor(int64)\"\n",
      "    },\n",
      "    {\n",
      "      \"name\": \"output_probability\",\n",
      "      \"shape\": [],\n",
      "      \"type\": \"seq(map(int64,tensor(float)))\"\n",
      "    }\n",
      "  ]\n",
      "}\n"
     ]
    }
   ],
   "source": [
    "import json\n",
    "\n",
    "onnx_io = json.dumps(\n",
    "    {\n",
    "        \"inputs\": get_onnx_inputs(onnx_inference_session),\n",
    "        \"outputs\": get_onnx_outputs(onnx_inference_session),\n",
    "    },\n",
    "    indent=2,\n",
    ")\n",
    "\n",
    "\n",
    "logger.log_artefact(\"onnx_io_structure.json\", onnx_io)\n",
    "print(onnx_io)"
   ]
  },
  {
   "cell_type": "markdown",
   "id": "1a460fc8",
   "metadata": {
    "papermill": {
     "duration": 0.004839,
     "end_time": "2022-07-03T06:46:58.526131",
     "exception": false,
     "start_time": "2022-07-03T06:46:58.521292",
     "status": "completed"
    },
    "tags": []
   },
   "source": [
    "### Evaluate model performance on evaluation data set"
   ]
  },
  {
   "cell_type": "code",
   "execution_count": 9,
   "id": "950017c5",
   "metadata": {
    "execution": {
     "iopub.execute_input": "2022-07-03T06:46:58.540685Z",
     "iopub.status.busy": "2022-07-03T06:46:58.540213Z",
     "iopub.status.idle": "2022-07-03T06:46:58.545408Z",
     "shell.execute_reply": "2022-07-03T06:46:58.544340Z"
    },
    "papermill": {
     "duration": 0.016374,
     "end_time": "2022-07-03T06:46:58.547173",
     "exception": false,
     "start_time": "2022-07-03T06:46:58.530799",
     "status": "completed"
    },
    "tags": []
   },
   "outputs": [],
   "source": [
    "# load evaluation data\n",
    "X_test = read_numpy(datalake_root(P) / \"test-data\" / \"digits.numpy\")\n",
    "y_test = read_numpy(datalake_root(P) / \"test-data\" / \"labels.numpy\")"
   ]
  },
  {
   "cell_type": "code",
   "execution_count": 10,
   "id": "de4099bf",
   "metadata": {
    "execution": {
     "iopub.execute_input": "2022-07-03T06:46:58.559169Z",
     "iopub.status.busy": "2022-07-03T06:46:58.558295Z",
     "iopub.status.idle": "2022-07-03T06:46:58.571841Z",
     "shell.execute_reply": "2022-07-03T06:46:58.571118Z"
    },
    "papermill": {
     "duration": 0.020845,
     "end_time": "2022-07-03T06:46:58.573388",
     "exception": false,
     "start_time": "2022-07-03T06:46:58.552543",
     "status": "completed"
    },
    "tags": []
   },
   "outputs": [],
   "source": [
    "def get_model_outputs(X, onnx_inference_session):\n",
    "    y_pred_labels, y_pred_map = onnx_inference_session.run(\n",
    "        [\"output_label\", \"output_probability\"],\n",
    "        {\"float_input_8x8_image\": X.astype(np.float32)},\n",
    "    )\n",
    "    y_pred_probs = np.array(\n",
    "        [[probabilities[digit] for digit in range(10)] for probabilities in y_pred_map]\n",
    "    )\n",
    "\n",
    "    assert y_pred_labels.shape == (X.shape[0],)\n",
    "    assert y_pred_probs.shape == (X.shape[0], 10)\n",
    "\n",
    "    return y_pred_labels, y_pred_probs\n",
    "\n",
    "\n",
    "# Note: as shown in the training notebook, the predicted labels and probabilities\n",
    "# computed below need not be compatible.\n",
    "y_pred_labels_test, y_pred_probs_test = get_model_outputs(\n",
    "    X_test, onnx_inference_session\n",
    ")"
   ]
  },
  {
   "cell_type": "markdown",
   "id": "1fca9a31",
   "metadata": {
    "papermill": {
     "duration": 0.004904,
     "end_time": "2022-07-03T06:46:58.583113",
     "exception": false,
     "start_time": "2022-07-03T06:46:58.578209",
     "status": "completed"
    },
    "tags": []
   },
   "source": [
    "### Confusion matrix"
   ]
  },
  {
   "cell_type": "code",
   "execution_count": 11,
   "id": "1d4b3c5e",
   "metadata": {
    "execution": {
     "iopub.execute_input": "2022-07-03T06:46:58.593823Z",
     "iopub.status.busy": "2022-07-03T06:46:58.593411Z",
     "iopub.status.idle": "2022-07-03T06:46:58.596980Z",
     "shell.execute_reply": "2022-07-03T06:46:58.596273Z"
    },
    "papermill": {
     "duration": 0.011031,
     "end_time": "2022-07-03T06:46:58.598825",
     "exception": false,
     "start_time": "2022-07-03T06:46:58.587794",
     "status": "completed"
    },
    "tags": []
   },
   "outputs": [],
   "source": [
    "# TODO"
   ]
  },
  {
   "cell_type": "markdown",
   "id": "3e97c212",
   "metadata": {
    "papermill": {
     "duration": 0.004922,
     "end_time": "2022-07-03T06:46:58.608874",
     "exception": false,
     "start_time": "2022-07-03T06:46:58.603952",
     "status": "completed"
    },
    "tags": []
   },
   "source": [
    "### Plot predicted probabilities for each classifier over all evaluation digit images"
   ]
  },
  {
   "cell_type": "code",
   "execution_count": 12,
   "id": "0af3bdd1",
   "metadata": {
    "execution": {
     "iopub.execute_input": "2022-07-03T06:46:58.619882Z",
     "iopub.status.busy": "2022-07-03T06:46:58.619630Z",
     "iopub.status.idle": "2022-07-03T06:47:02.290339Z",
     "shell.execute_reply": "2022-07-03T06:47:02.289605Z"
    },
    "papermill": {
     "duration": 3.678641,
     "end_time": "2022-07-03T06:47:02.292153",
     "exception": false,
     "start_time": "2022-07-03T06:46:58.613512",
     "status": "completed"
    },
    "tags": []
   },
   "outputs": [
    {
     "data": {
      "image/png": "[encoded data removed]",
      "text/plain": [
       "<Figure size 1152x432 with 10 Axes>"
      ]
     },
     "metadata": {
      "needs_background": "light"
     },
     "output_type": "display_data"
    }
   ],
   "source": [
    "def plot_per_digit_probabilities(y_pred_probs):\n",
    "    fig, axs = plt.subplots(nrows=2, ncols=5, figsize=(16, 6))\n",
    "\n",
    "    for (r, c), digit, ax in zip(\n",
    "        it.product(range(2), range(5)), range(10), axs.reshape(-1)\n",
    "    ):\n",
    "        ax.hist(y_pred_probs_test[:, digit], bins=20)\n",
    "\n",
    "        ax.set_title(f\"Digit {digit}\")\n",
    "        if r == 1 and c == 2:\n",
    "            ax.set_xlabel(\"probability\", fontsize=16)\n",
    "\n",
    "        if c == 0:\n",
    "            ax.set_ylabel(\"counts\", fontsize=16)\n",
    "        ax.set_yscale(\"log\")\n",
    "\n",
    "    fig.tight_layout()\n",
    "    fig.suptitle(\n",
    "        f\"Distributions of prediction probabilities for each digit \"\n",
    "        f\"(on evaluation data, n={y_pred_probs.shape[0]})\",\n",
    "        fontsize=20,\n",
    "    )\n",
    "    fig.tight_layout()\n",
    "    fig.show()\n",
    "\n",
    "    return fig\n",
    "\n",
    "\n",
    "fig = plot_per_digit_probabilities(y_pred_probs_test)"
   ]
  },
  {
   "cell_type": "markdown",
   "id": "a1a1f5e3",
   "metadata": {
    "papermill": {
     "duration": 0.005337,
     "end_time": "2022-07-03T06:47:02.304353",
     "exception": false,
     "start_time": "2022-07-03T06:47:02.299016",
     "status": "completed"
    },
    "tags": []
   },
   "source": [
    "From the above distributions we see that most digits have clear separation between\n",
    "high and lower probabilities. Morover, in each case there is roughly an order of\n",
    "magnitude more of digits with low probabilities. This is compatible with digits\n",
    "being roughly evenly distributed in the data."
   ]
  },
  {
   "cell_type": "code",
   "execution_count": 13,
   "id": "0f373874",
   "metadata": {
    "execution": {
     "iopub.execute_input": "2022-07-03T06:47:02.317550Z",
     "iopub.status.busy": "2022-07-03T06:47:02.317091Z",
     "iopub.status.idle": "2022-07-03T06:47:03.319666Z",
     "shell.execute_reply": "2022-07-03T06:47:03.318818Z"
    },
    "papermill": {
     "duration": 1.011521,
     "end_time": "2022-07-03T06:47:03.321833",
     "exception": false,
     "start_time": "2022-07-03T06:47:02.310312",
     "status": "completed"
    },
    "tags": []
   },
   "outputs": [],
   "source": [
    "logger.log_figure(\"per-digit-probabilities.png\", fig)"
   ]
  },
  {
   "cell_type": "markdown",
   "id": "6047beeb",
   "metadata": {
    "papermill": {
     "duration": 0.006115,
     "end_time": "2022-07-03T06:47:03.335630",
     "exception": false,
     "start_time": "2022-07-03T06:47:03.329515",
     "status": "completed"
    },
    "tags": []
   },
   "source": [
    "### Plot ROC curves for individual one-vs-rest classifiers"
   ]
  },
  {
   "cell_type": "code",
   "execution_count": 14,
   "id": "8779f3bb",
   "metadata": {
    "execution": {
     "iopub.execute_input": "2022-07-03T06:47:03.350142Z",
     "iopub.status.busy": "2022-07-03T06:47:03.349198Z",
     "iopub.status.idle": "2022-07-03T06:47:03.735366Z",
     "shell.execute_reply": "2022-07-03T06:47:03.734413Z"
    },
    "papermill": {
     "duration": 0.39552,
     "end_time": "2022-07-03T06:47:03.737609",
     "exception": false,
     "start_time": "2022-07-03T06:47:03.342089",
     "status": "completed"
    },
    "tags": []
   },
   "outputs": [],
   "source": [
    "from sklearn import metrics"
   ]
  },
  {
   "cell_type": "code",
   "execution_count": 15,
   "id": "b906afde",
   "metadata": {
    "execution": {
     "iopub.execute_input": "2022-07-03T06:47:03.752079Z",
     "iopub.status.busy": "2022-07-03T06:47:03.751664Z",
     "iopub.status.idle": "2022-07-03T06:47:05.143526Z",
     "shell.execute_reply": "2022-07-03T06:47:05.142793Z"
    },
    "papermill": {
     "duration": 1.401108,
     "end_time": "2022-07-03T06:47:05.145600",
     "exception": false,
     "start_time": "2022-07-03T06:47:03.744492",
     "status": "completed"
    },
    "tags": []
   },
   "outputs": [
    {
     "data": {
      "image/png": "[encoded data removed]",
      "text/plain": [
       "<Figure size 1152x576 with 10 Axes>"
      ]
     },
     "metadata": {
      "needs_background": "light"
     },
     "output_type": "display_data"
    }
   ],
   "source": [
    "def plot_roc_curves(y, y_pred_probs):\n",
    "    # based on example code\n",
    "    # https://scikit-learn.org/stable/auto_examples/model_selection/plot_roc.html\n",
    "\n",
    "    fig, axs = plt.subplots(nrows=2, ncols=5, figsize=(16, 8))\n",
    "\n",
    "    roc_auc_dict = {}\n",
    "\n",
    "    for (r, c), digit, ax in zip(\n",
    "        it.product(range(2), range(5)), range(10), axs.reshape(-1)\n",
    "    ):\n",
    "        fpr, tpr, _ = metrics.roc_curve(y == digit, y_pred_probs[:, digit])\n",
    "        auc = metrics.auc(fpr, tpr)\n",
    "        roc_auc_dict[str(digit)] = auc\n",
    "\n",
    "        ax.plot(fpr, tpr, label=f\"ROC AUC={round(auc, 3)}\")\n",
    "\n",
    "        ax.set_title(f\"\\nDigit {digit}\", fontsize=16)\n",
    "        if r == 1:\n",
    "            ax.set_xlabel(\"FPR\", fontsize=18)\n",
    "\n",
    "        if c == 0:\n",
    "            ax.set_ylabel(\"TPR\", fontsize=18)\n",
    "\n",
    "        ax.set_xlim([-0.05, 1.05])\n",
    "        ax.set_ylim([-0.05, 1.05])\n",
    "        ax.legend(loc=\"lower right\", frameon=False, fontsize=14)\n",
    "\n",
    "    fig.tight_layout()\n",
    "    fig.suptitle(\n",
    "        f\"ROC plots for one-vs-rest performances \"\n",
    "        f\"(on evaluation data, n={y_pred_probs_test.shape[1]}\",\n",
    "        fontsize=22,\n",
    "    )\n",
    "    fig.tight_layout()\n",
    "    fig.show()\n",
    "\n",
    "    return roc_auc_dict, fig\n",
    "\n",
    "\n",
    "roc_auc_dict, fig = plot_roc_curves(y_test, y_pred_probs_test)"
   ]
  },
  {
   "cell_type": "code",
   "execution_count": 16,
   "id": "ad9cb31b",
   "metadata": {
    "execution": {
     "iopub.execute_input": "2022-07-03T06:47:05.160825Z",
     "iopub.status.busy": "2022-07-03T06:47:05.160258Z",
     "iopub.status.idle": "2022-07-03T06:47:05.476599Z",
     "shell.execute_reply": "2022-07-03T06:47:05.475875Z"
    },
    "papermill": {
     "duration": 0.325909,
     "end_time": "2022-07-03T06:47:05.478888",
     "exception": false,
     "start_time": "2022-07-03T06:47:05.152979",
     "status": "completed"
    },
    "tags": []
   },
   "outputs": [],
   "source": [
    "logger.log_figure(\"per-digit-roc-curves.png\", fig)"
   ]
  },
  {
   "cell_type": "code",
   "execution_count": 17,
   "id": "517b05b0",
   "metadata": {
    "execution": {
     "iopub.execute_input": "2022-07-03T06:47:05.493450Z",
     "iopub.status.busy": "2022-07-03T06:47:05.493069Z",
     "iopub.status.idle": "2022-07-03T06:47:05.499089Z",
     "shell.execute_reply": "2022-07-03T06:47:05.498327Z"
    },
    "papermill": {
     "duration": 0.015757,
     "end_time": "2022-07-03T06:47:05.501493",
     "exception": false,
     "start_time": "2022-07-03T06:47:05.485736",
     "status": "completed"
    },
    "tags": []
   },
   "outputs": [
    {
     "data": {
      "text/plain": [
       "{'0': 1.0,\n",
       " '1': 0.9988003748828491,\n",
       " '2': 1.0,\n",
       " '3': 0.9998125585754452,\n",
       " '4': 0.9994284407864654,\n",
       " '5': 0.998987816307404,\n",
       " '6': 0.999923792104862,\n",
       " '7': 0.9998856881572931,\n",
       " '8': 0.9933401639344261,\n",
       " '9': 0.9993903368388966}"
      ]
     },
     "execution_count": 17,
     "metadata": {},
     "output_type": "execute_result"
    }
   ],
   "source": [
    "roc_auc_dict"
   ]
  },
  {
   "cell_type": "code",
   "execution_count": 18,
   "id": "6179cf80",
   "metadata": {
    "execution": {
     "iopub.execute_input": "2022-07-03T06:47:05.515882Z",
     "iopub.status.busy": "2022-07-03T06:47:05.515528Z",
     "iopub.status.idle": "2022-07-03T06:47:05.520262Z",
     "shell.execute_reply": "2022-07-03T06:47:05.519518Z"
    },
    "papermill": {
     "duration": 0.015409,
     "end_time": "2022-07-03T06:47:05.523594",
     "exception": false,
     "start_time": "2022-07-03T06:47:05.508185",
     "status": "completed"
    },
    "tags": []
   },
   "outputs": [
    {
     "name": "stdout",
     "output_type": "stream",
     "text": [
      " - Logging roc_auc_per_digit (json) : {'0': 1.0, '1': 0.9988003748828491, '2': 1.0, '3': 0.9998125585754452, '4': 0.9994284407864654, '5': 0.998987816307404, '6': 0.999923792104862, '7': 0.9998856881572931, '8': 0.9933401639344261, '9': 0.9993903368388966}\n"
     ]
    }
   ],
   "source": [
    "logger.log_value(\"roc_auc_per_digit\", roc_auc_dict)"
   ]
  },
  {
   "cell_type": "markdown",
   "id": "bb22985d",
   "metadata": {
    "papermill": {
     "duration": 0.006643,
     "end_time": "2022-07-03T06:47:05.536669",
     "exception": false,
     "start_time": "2022-07-03T06:47:05.530026",
     "status": "completed"
    },
    "tags": []
   },
   "source": [
    "### Compute and log mean ROC AUC score averaged over all digits"
   ]
  },
  {
   "cell_type": "code",
   "execution_count": 19,
   "id": "fb7ac60f",
   "metadata": {
    "execution": {
     "iopub.execute_input": "2022-07-03T06:47:05.551270Z",
     "iopub.status.busy": "2022-07-03T06:47:05.550842Z",
     "iopub.status.idle": "2022-07-03T06:47:05.567653Z",
     "shell.execute_reply": "2022-07-03T06:47:05.566725Z"
    },
    "papermill": {
     "duration": 0.026274,
     "end_time": "2022-07-03T06:47:05.569662",
     "exception": false,
     "start_time": "2022-07-03T06:47:05.543388",
     "status": "completed"
    },
    "tags": []
   },
   "outputs": [
    {
     "name": "stdout",
     "output_type": "stream",
     "text": [
      " - Logging roc_auc_class_mean (float) : 0.9989569171587641\n"
     ]
    }
   ],
   "source": [
    "roc_auc_macro = np.mean(list(roc_auc_dict.values()))\n",
    "\n",
    "logger.log_float(\"roc_auc_class_mean\", roc_auc_macro)\n",
    "\n",
    "# assert that the same value can be computed directly using sklearn\n",
    "assert roc_auc_macro == metrics.roc_auc_score(\n",
    "    y_test, y_pred_probs_test, average=\"macro\", multi_class=\"ovr\"\n",
    ")"
   ]
  },
  {
   "cell_type": "code",
   "execution_count": 20,
   "id": "79fb6e82",
   "metadata": {
    "execution": {
     "iopub.execute_input": "2022-07-03T06:47:05.595530Z",
     "iopub.status.busy": "2022-07-03T06:47:05.595126Z",
     "iopub.status.idle": "2022-07-03T06:47:05.598795Z",
     "shell.execute_reply": "2022-07-03T06:47:05.597998Z"
    },
    "lines_to_next_cell": 0,
    "papermill": {
     "duration": 0.024446,
     "end_time": "2022-07-03T06:47:05.601201",
     "exception": false,
     "start_time": "2022-07-03T06:47:05.576755",
     "status": "completed"
    },
    "tags": []
   },
   "outputs": [],
   "source": [
    "# ---"
   ]
  },
  {
   "cell_type": "code",
   "execution_count": null,
   "id": "74203207",
   "metadata": {
    "papermill": {
     "duration": 0.006579,
     "end_time": "2022-07-03T06:47:05.614908",
     "exception": false,
     "start_time": "2022-07-03T06:47:05.608329",
     "status": "completed"
    },
    "tags": []
   },
   "outputs": [],
   "source": []
  }
 ],
 "metadata": {
  "jupytext": {
   "cell_metadata_filter": "tags,-all",
   "main_language": "python",
   "notebook_metadata_filter": "-all"
  },
  "language_info": {
   "codemirror_mode": {
    "name": "ipython",
    "version": 3
   },
   "file_extension": ".py",
   "mimetype": "text/x-python",
   "name": "python",
   "nbconvert_exporter": "python",
   "pygments_lexer": "ipython3",
   "version": "3.8.10"
  },
  "papermill": {
   "default_parameters": {},
   "duration": 11.062038,
   "end_time": "2022-07-03T06:47:06.842227",
   "environment_variables": {},
   "exception": null,
   "input_path": "/home/host_user/workspace/mnist-demo-pipeline/mnist-demo-pipeline/notebooks/temp-notebook-3_lzxa7f.ipynb",
   "output_path": "notebooks/benchmark-model.ipynb",
   "parameters": {
    "P": {
     "_opentelemetry_traceparent": "00-f66200069d2760d169bf34f103c126aa-e29ebe262c309a77-01",
     "pipeline.data_lake_root": "/pipeline-outputs/data-lake",
     "pipeline.github.actor": "matiasdahl",
     "pipeline.github.base_ref": "",
     "pipeline.github.event_name": "schedule",
     "pipeline.github.head_ref": "",
     "pipeline.github.job": "run-tests-pipeline-and-persist-pipeline-outputs",
     "pipeline.github.ref": "refs/heads/development",
     "pipeline.github.ref_name": "development",
     "pipeline.github.ref_type": "branch",
     "pipeline.github.repository": "pynb-dag-runner/mnist-digits-demo-pipeline",
     "pipeline.github.run_id": "2604161071",
     "pipeline.github.runner_name": "Hosted Agent",
     "pipeline.github.sha": "f934c58f68028b7bb026059d4e87e6d32a1bbd20",
     "pipeline.github.workflow": "Run automated tests, pipeline and deploy results to static reporting site",
     "pipeline.pipeline_run_id": "9333ec7b-6173-479f-a3d0-10ccbe360194",
     "pipeline.run_environment": "ci",
     "run.retry_nr": "0",
     "task.max_nr_retries": "1",
     "task.notebook": "notebooks/benchmark-model.py",
     "task.nr_train_images": 800,
     "task.num_cpus": 1,
     "task.timeout_s": "None"
    }
   },
   "start_time": "2022-07-03T06:46:55.780189",
   "version": "2.3.3"
  }
 },
 "nbformat": 4,
 "nbformat_minor": 5
}