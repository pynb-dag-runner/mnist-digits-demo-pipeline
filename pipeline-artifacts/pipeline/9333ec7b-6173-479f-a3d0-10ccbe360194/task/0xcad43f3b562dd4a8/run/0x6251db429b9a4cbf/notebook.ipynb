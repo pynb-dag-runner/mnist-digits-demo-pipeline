{
 "cells": [
  {
   "cell_type": "markdown",
   "id": "4da826a9",
   "metadata": {
    "papermill": {
     "duration": 0.006861,
     "end_time": "2022-07-03T06:47:09.826941",
     "exception": false,
     "start_time": "2022-07-03T06:47:09.820080",
     "status": "completed"
    },
    "tags": []
   },
   "source": [
    "# Benchmark model\n",
    "\n",
    "The purpose of this notebook is to benchmark persisted onnx-model (trained in the\n",
    "previous step) against evaluation set."
   ]
  },
  {
   "cell_type": "markdown",
   "id": "a9083139",
   "metadata": {
    "papermill": {
     "duration": 0.005463,
     "end_time": "2022-07-03T06:47:09.838044",
     "exception": false,
     "start_time": "2022-07-03T06:47:09.832581",
     "status": "completed"
    },
    "tags": []
   },
   "source": [
    "### Determine run parameters"
   ]
  },
  {
   "cell_type": "code",
   "execution_count": 1,
   "id": "4670d79a",
   "metadata": {
    "execution": {
     "iopub.execute_input": "2022-07-03T06:47:09.849582Z",
     "iopub.status.busy": "2022-07-03T06:47:09.849209Z",
     "iopub.status.idle": "2022-07-03T06:47:09.859710Z",
     "shell.execute_reply": "2022-07-03T06:47:09.859068Z"
    },
    "lines_to_next_cell": 0,
    "papermill": {
     "duration": 0.020274,
     "end_time": "2022-07-03T06:47:09.863368",
     "exception": false,
     "start_time": "2022-07-03T06:47:09.843094",
     "status": "completed"
    },
    "tags": []
   },
   "outputs": [],
   "source": [
    "# ----------------- Parameters for interactive development --------------\n",
    "P = {\n",
    "    \"pipeline.data_lake_root\": \"/pipeline-outputs/data-lake\",\n",
    "    \"task.nr_train_images\": 600,\n",
    "}"
   ]
  },
  {
   "cell_type": "code",
   "execution_count": 2,
   "id": "5d83f52e",
   "metadata": {
    "execution": {
     "iopub.execute_input": "2022-07-03T06:47:09.874699Z",
     "iopub.status.busy": "2022-07-03T06:47:09.874447Z",
     "iopub.status.idle": "2022-07-03T06:47:09.877786Z",
     "shell.execute_reply": "2022-07-03T06:47:09.877111Z"
    },
    "lines_to_next_cell": 0,
    "papermill": {
     "duration": 0.01335,
     "end_time": "2022-07-03T06:47:09.881476",
     "exception": false,
     "start_time": "2022-07-03T06:47:09.868126",
     "status": "completed"
    },
    "tags": [
     "parameters"
    ]
   },
   "outputs": [],
   "source": [
    "# - During automated runs parameters will be injected in the below cell -"
   ]
  },
  {
   "cell_type": "code",
   "execution_count": 3,
   "id": "999ab038",
   "metadata": {
    "execution": {
     "iopub.execute_input": "2022-07-03T06:47:09.892529Z",
     "iopub.status.busy": "2022-07-03T06:47:09.892289Z",
     "iopub.status.idle": "2022-07-03T06:47:09.897489Z",
     "shell.execute_reply": "2022-07-03T06:47:09.896907Z"
    },
    "papermill": {
     "duration": 0.014213,
     "end_time": "2022-07-03T06:47:09.900338",
     "exception": false,
     "start_time": "2022-07-03T06:47:09.886125",
     "status": "completed"
    },
    "tags": [
     "injected-parameters"
    ]
   },
   "outputs": [],
   "source": [
    "# Parameters\n",
    "P = {\n",
    "    \"pipeline.data_lake_root\": \"/pipeline-outputs/data-lake\",\n",
    "    \"pipeline.run_environment\": \"ci\",\n",
    "    \"pipeline.pipeline_run_id\": \"9333ec7b-6173-479f-a3d0-10ccbe360194\",\n",
    "    \"pipeline.github.repository\": \"pynb-dag-runner/mnist-digits-demo-pipeline\",\n",
    "    \"pipeline.github.workflow\": \"Run automated tests, pipeline and deploy results to static reporting site\",\n",
    "    \"pipeline.github.runner_name\": \"Hosted Agent\",\n",
    "    \"pipeline.github.run_id\": \"2604161071\",\n",
    "    \"pipeline.github.actor\": \"matiasdahl\",\n",
    "    \"pipeline.github.job\": \"run-tests-pipeline-and-persist-pipeline-outputs\",\n",
    "    \"pipeline.github.base_ref\": \"\",\n",
    "    \"pipeline.github.head_ref\": \"\",\n",
    "    \"pipeline.github.sha\": \"f934c58f68028b7bb026059d4e87e6d32a1bbd20\",\n",
    "    \"pipeline.github.ref\": \"refs/heads/development\",\n",
    "    \"pipeline.github.ref_type\": \"branch\",\n",
    "    \"pipeline.github.ref_name\": \"development\",\n",
    "    \"pipeline.github.event_name\": \"schedule\",\n",
    "    \"task.nr_train_images\": 600,\n",
    "    \"task.notebook\": \"notebooks/benchmark-model.py\",\n",
    "    \"task.max_nr_retries\": \"1\",\n",
    "    \"run.retry_nr\": \"0\",\n",
    "    \"task.timeout_s\": \"None\",\n",
    "    \"task.num_cpus\": 1,\n",
    "    \"_opentelemetry_traceparent\": \"00-f66200069d2760d169bf34f103c126aa-20beb2eae01ee33a-01\",\n",
    "}\n"
   ]
  },
  {
   "cell_type": "code",
   "execution_count": 4,
   "id": "bfc36ea1",
   "metadata": {
    "execution": {
     "iopub.execute_input": "2022-07-03T06:47:09.911666Z",
     "iopub.status.busy": "2022-07-03T06:47:09.911411Z",
     "iopub.status.idle": "2022-07-03T06:47:09.924797Z",
     "shell.execute_reply": "2022-07-03T06:47:09.921869Z"
    },
    "lines_to_next_cell": 0,
    "papermill": {
     "duration": 0.027217,
     "end_time": "2022-07-03T06:47:09.932894",
     "exception": false,
     "start_time": "2022-07-03T06:47:09.905677",
     "status": "completed"
    },
    "tags": []
   },
   "outputs": [],
   "source": [
    "# -----------------------------------------------------------------------"
   ]
  },
  {
   "cell_type": "markdown",
   "id": "d7267650",
   "metadata": {
    "papermill": {
     "duration": 0.005708,
     "end_time": "2022-07-03T06:47:09.944934",
     "exception": false,
     "start_time": "2022-07-03T06:47:09.939226",
     "status": "completed"
    },
    "tags": []
   },
   "source": [
    "---"
   ]
  },
  {
   "cell_type": "markdown",
   "id": "8a746ac3",
   "metadata": {
    "lines_to_next_cell": 2,
    "papermill": {
     "duration": 0.005632,
     "end_time": "2022-07-03T06:47:09.955652",
     "exception": false,
     "start_time": "2022-07-03T06:47:09.950020",
     "status": "completed"
    },
    "tags": []
   },
   "source": [
    "### Notebook code"
   ]
  },
  {
   "cell_type": "code",
   "execution_count": 5,
   "id": "b997e9b9",
   "metadata": {
    "execution": {
     "iopub.execute_input": "2022-07-03T06:47:09.968978Z",
     "iopub.status.busy": "2022-07-03T06:47:09.968064Z",
     "iopub.status.idle": "2022-07-03T06:47:11.307366Z",
     "shell.execute_reply": "2022-07-03T06:47:11.306422Z"
    },
    "papermill": {
     "duration": 1.349188,
     "end_time": "2022-07-03T06:47:11.309425",
     "exception": false,
     "start_time": "2022-07-03T06:47:09.960237",
     "status": "completed"
    },
    "tags": []
   },
   "outputs": [
    {
     "name": "stderr",
     "output_type": "stream",
     "text": [
      "2022-07-03 06:47:11,149\tINFO worker.py:842 -- Connecting to existing Ray cluster at address: 172.17.0.2:6379\n"
     ]
    }
   ],
   "source": [
    "import itertools as it\n",
    "\n",
    "#\n",
    "import numpy as np\n",
    "import matplotlib.pyplot as plt\n",
    "\n",
    "#\n",
    "from pynb_dag_runner.tasks.task_opentelemetry_logging import PydarLogger\n",
    "\n",
    "#\n",
    "from common.io import datalake_root\n",
    "\n",
    "logger = PydarLogger(P)"
   ]
  },
  {
   "cell_type": "markdown",
   "id": "3f83463b",
   "metadata": {
    "papermill": {
     "duration": 0.004921,
     "end_time": "2022-07-03T06:47:11.319497",
     "exception": false,
     "start_time": "2022-07-03T06:47:11.314576",
     "status": "completed"
    },
    "tags": []
   },
   "source": [
    "## Load persisted onnx-model and evaluation data"
   ]
  },
  {
   "cell_type": "code",
   "execution_count": 6,
   "id": "fa98dcc4",
   "metadata": {
    "execution": {
     "iopub.execute_input": "2022-07-03T06:47:11.330407Z",
     "iopub.status.busy": "2022-07-03T06:47:11.329837Z",
     "iopub.status.idle": "2022-07-03T06:47:11.334223Z",
     "shell.execute_reply": "2022-07-03T06:47:11.333145Z"
    },
    "papermill": {
     "duration": 0.011836,
     "end_time": "2022-07-03T06:47:11.335908",
     "exception": false,
     "start_time": "2022-07-03T06:47:11.324072",
     "status": "completed"
    },
    "tags": []
   },
   "outputs": [],
   "source": [
    "from common.io import read_onnx, get_onnx_inputs, get_onnx_outputs, read_numpy"
   ]
  },
  {
   "cell_type": "code",
   "execution_count": 7,
   "id": "d2356dcd",
   "metadata": {
    "execution": {
     "iopub.execute_input": "2022-07-03T06:47:11.348182Z",
     "iopub.status.busy": "2022-07-03T06:47:11.346762Z",
     "iopub.status.idle": "2022-07-03T06:47:11.358119Z",
     "shell.execute_reply": "2022-07-03T06:47:11.357375Z"
    },
    "lines_to_next_cell": 0,
    "papermill": {
     "duration": 0.018816,
     "end_time": "2022-07-03T06:47:11.359724",
     "exception": false,
     "start_time": "2022-07-03T06:47:11.340908",
     "status": "completed"
    },
    "tags": []
   },
   "outputs": [],
   "source": [
    "onnx_inference_session = read_onnx(\n",
    "    datalake_root(P)\n",
    "    / \"models\"\n",
    "    / f\"nr_train_images={P['task.nr_train_images']}\"\n",
    "    / \"model.onnx\"\n",
    ")"
   ]
  },
  {
   "cell_type": "markdown",
   "id": "c215c298",
   "metadata": {
    "papermill": {
     "duration": 0.004568,
     "end_time": "2022-07-03T06:47:11.369127",
     "exception": false,
     "start_time": "2022-07-03T06:47:11.364559",
     "status": "completed"
    },
    "tags": []
   },
   "source": [
    "### Record structure of inputs and outputs for ONNX model\n",
    "\n",
    "(this should likely be done in training notebook)"
   ]
  },
  {
   "cell_type": "code",
   "execution_count": 8,
   "id": "5c0124e7",
   "metadata": {
    "execution": {
     "iopub.execute_input": "2022-07-03T06:47:11.380159Z",
     "iopub.status.busy": "2022-07-03T06:47:11.379491Z",
     "iopub.status.idle": "2022-07-03T06:47:11.390831Z",
     "shell.execute_reply": "2022-07-03T06:47:11.390068Z"
    },
    "papermill": {
     "duration": 0.018603,
     "end_time": "2022-07-03T06:47:11.392437",
     "exception": false,
     "start_time": "2022-07-03T06:47:11.373834",
     "status": "completed"
    },
    "tags": []
   },
   "outputs": [
    {
     "name": "stdout",
     "output_type": "stream",
     "text": [
      "{\n",
      "  \"inputs\": [\n",
      "    {\n",
      "      \"name\": \"float_input_8x8_image\",\n",
      "      \"shape\": [\n",
      "        null,\n",
      "        64\n",
      "      ],\n",
      "      \"type\": \"tensor(float)\"\n",
      "    }\n",
      "  ],\n",
      "  \"outputs\": [\n",
      "    {\n",
      "      \"name\": \"output_label\",\n",
      "      \"shape\": [\n",
      "        null\n",
      "      ],\n",
      "      \"type\": \"tensor(int64)\"\n",
      "    },\n",
      "    {\n",
      "      \"name\": \"output_probability\",\n",
      "      \"shape\": [],\n",
      "      \"type\": \"seq(map(int64,tensor(float)))\"\n",
      "    }\n",
      "  ]\n",
      "}\n"
     ]
    }
   ],
   "source": [
    "import json\n",
    "\n",
    "onnx_io = json.dumps(\n",
    "    {\n",
    "        \"inputs\": get_onnx_inputs(onnx_inference_session),\n",
    "        \"outputs\": get_onnx_outputs(onnx_inference_session),\n",
    "    },\n",
    "    indent=2,\n",
    ")\n",
    "\n",
    "\n",
    "logger.log_artefact(\"onnx_io_structure.json\", onnx_io)\n",
    "print(onnx_io)"
   ]
  },
  {
   "cell_type": "markdown",
   "id": "fda39b82",
   "metadata": {
    "papermill": {
     "duration": 0.00476,
     "end_time": "2022-07-03T06:47:11.402189",
     "exception": false,
     "start_time": "2022-07-03T06:47:11.397429",
     "status": "completed"
    },
    "tags": []
   },
   "source": [
    "### Evaluate model performance on evaluation data set"
   ]
  },
  {
   "cell_type": "code",
   "execution_count": 9,
   "id": "d1478b35",
   "metadata": {
    "execution": {
     "iopub.execute_input": "2022-07-03T06:47:11.412834Z",
     "iopub.status.busy": "2022-07-03T06:47:11.412391Z",
     "iopub.status.idle": "2022-07-03T06:47:11.418321Z",
     "shell.execute_reply": "2022-07-03T06:47:11.417373Z"
    },
    "papermill": {
     "duration": 0.013307,
     "end_time": "2022-07-03T06:47:11.420102",
     "exception": false,
     "start_time": "2022-07-03T06:47:11.406795",
     "status": "completed"
    },
    "tags": []
   },
   "outputs": [],
   "source": [
    "# load evaluation data\n",
    "X_test = read_numpy(datalake_root(P) / \"test-data\" / \"digits.numpy\")\n",
    "y_test = read_numpy(datalake_root(P) / \"test-data\" / \"labels.numpy\")"
   ]
  },
  {
   "cell_type": "code",
   "execution_count": 10,
   "id": "12aa483b",
   "metadata": {
    "execution": {
     "iopub.execute_input": "2022-07-03T06:47:11.431049Z",
     "iopub.status.busy": "2022-07-03T06:47:11.430653Z",
     "iopub.status.idle": "2022-07-03T06:47:11.443419Z",
     "shell.execute_reply": "2022-07-03T06:47:11.442758Z"
    },
    "papermill": {
     "duration": 0.020242,
     "end_time": "2022-07-03T06:47:11.445274",
     "exception": false,
     "start_time": "2022-07-03T06:47:11.425032",
     "status": "completed"
    },
    "tags": []
   },
   "outputs": [],
   "source": [
    "def get_model_outputs(X, onnx_inference_session):\n",
    "    y_pred_labels, y_pred_map = onnx_inference_session.run(\n",
    "        [\"output_label\", \"output_probability\"],\n",
    "        {\"float_input_8x8_image\": X.astype(np.float32)},\n",
    "    )\n",
    "    y_pred_probs = np.array(\n",
    "        [[probabilities[digit] for digit in range(10)] for probabilities in y_pred_map]\n",
    "    )\n",
    "\n",
    "    assert y_pred_labels.shape == (X.shape[0],)\n",
    "    assert y_pred_probs.shape == (X.shape[0], 10)\n",
    "\n",
    "    return y_pred_labels, y_pred_probs\n",
    "\n",
    "\n",
    "# Note: as shown in the training notebook, the predicted labels and probabilities\n",
    "# computed below need not be compatible.\n",
    "y_pred_labels_test, y_pred_probs_test = get_model_outputs(\n",
    "    X_test, onnx_inference_session\n",
    ")"
   ]
  },
  {
   "cell_type": "markdown",
   "id": "0d534421",
   "metadata": {
    "papermill": {
     "duration": 0.004849,
     "end_time": "2022-07-03T06:47:11.455569",
     "exception": false,
     "start_time": "2022-07-03T06:47:11.450720",
     "status": "completed"
    },
    "tags": []
   },
   "source": [
    "### Confusion matrix"
   ]
  },
  {
   "cell_type": "code",
   "execution_count": 11,
   "id": "09bf4195",
   "metadata": {
    "execution": {
     "iopub.execute_input": "2022-07-03T06:47:11.466709Z",
     "iopub.status.busy": "2022-07-03T06:47:11.466130Z",
     "iopub.status.idle": "2022-07-03T06:47:11.471162Z",
     "shell.execute_reply": "2022-07-03T06:47:11.470488Z"
    },
    "papermill": {
     "duration": 0.012604,
     "end_time": "2022-07-03T06:47:11.473023",
     "exception": false,
     "start_time": "2022-07-03T06:47:11.460419",
     "status": "completed"
    },
    "tags": []
   },
   "outputs": [],
   "source": [
    "# TODO"
   ]
  },
  {
   "cell_type": "markdown",
   "id": "2f521d3d",
   "metadata": {
    "papermill": {
     "duration": 0.004688,
     "end_time": "2022-07-03T06:47:11.482975",
     "exception": false,
     "start_time": "2022-07-03T06:47:11.478287",
     "status": "completed"
    },
    "tags": []
   },
   "source": [
    "### Plot predicted probabilities for each classifier over all evaluation digit images"
   ]
  },
  {
   "cell_type": "code",
   "execution_count": 12,
   "id": "c80fca70",
   "metadata": {
    "execution": {
     "iopub.execute_input": "2022-07-03T06:47:11.494582Z",
     "iopub.status.busy": "2022-07-03T06:47:11.494321Z",
     "iopub.status.idle": "2022-07-03T06:47:15.251114Z",
     "shell.execute_reply": "2022-07-03T06:47:15.250156Z"
    },
    "papermill": {
     "duration": 3.76502,
     "end_time": "2022-07-03T06:47:15.252864",
     "exception": false,
     "start_time": "2022-07-03T06:47:11.487844",
     "status": "completed"
    },
    "tags": []
   },
   "outputs": [
    {
     "data": {
      "image/png": "[encoded data removed]",
      "text/plain": [
       "<Figure size 1152x432 with 10 Axes>"
      ]
     },
     "metadata": {
      "needs_background": "light"
     },
     "output_type": "display_data"
    }
   ],
   "source": [
    "def plot_per_digit_probabilities(y_pred_probs):\n",
    "    fig, axs = plt.subplots(nrows=2, ncols=5, figsize=(16, 6))\n",
    "\n",
    "    for (r, c), digit, ax in zip(\n",
    "        it.product(range(2), range(5)), range(10), axs.reshape(-1)\n",
    "    ):\n",
    "        ax.hist(y_pred_probs_test[:, digit], bins=20)\n",
    "\n",
    "        ax.set_title(f\"Digit {digit}\")\n",
    "        if r == 1 and c == 2:\n",
    "            ax.set_xlabel(\"probability\", fontsize=16)\n",
    "\n",
    "        if c == 0:\n",
    "            ax.set_ylabel(\"counts\", fontsize=16)\n",
    "        ax.set_yscale(\"log\")\n",
    "\n",
    "    fig.tight_layout()\n",
    "    fig.suptitle(\n",
    "        f\"Distributions of prediction probabilities for each digit \"\n",
    "        f\"(on evaluation data, n={y_pred_probs.shape[0]})\",\n",
    "        fontsize=20,\n",
    "    )\n",
    "    fig.tight_layout()\n",
    "    fig.show()\n",
    "\n",
    "    return fig\n",
    "\n",
    "\n",
    "fig = plot_per_digit_probabilities(y_pred_probs_test)"
   ]
  },
  {
   "cell_type": "markdown",
   "id": "4f96e798",
   "metadata": {
    "papermill": {
     "duration": 0.005538,
     "end_time": "2022-07-03T06:47:15.264995",
     "exception": false,
     "start_time": "2022-07-03T06:47:15.259457",
     "status": "completed"
    },
    "tags": []
   },
   "source": [
    "From the above distributions we see that most digits have clear separation between\n",
    "high and lower probabilities. Morover, in each case there is roughly an order of\n",
    "magnitude more of digits with low probabilities. This is compatible with digits\n",
    "being roughly evenly distributed in the data."
   ]
  },
  {
   "cell_type": "code",
   "execution_count": 13,
   "id": "4c2a107b",
   "metadata": {
    "execution": {
     "iopub.execute_input": "2022-07-03T06:47:15.278550Z",
     "iopub.status.busy": "2022-07-03T06:47:15.278074Z",
     "iopub.status.idle": "2022-07-03T06:47:15.787518Z",
     "shell.execute_reply": "2022-07-03T06:47:15.786690Z"
    },
    "papermill": {
     "duration": 0.51864,
     "end_time": "2022-07-03T06:47:15.789528",
     "exception": false,
     "start_time": "2022-07-03T06:47:15.270888",
     "status": "completed"
    },
    "tags": []
   },
   "outputs": [],
   "source": [
    "logger.log_figure(\"per-digit-probabilities.png\", fig)"
   ]
  },
  {
   "cell_type": "markdown",
   "id": "6df488dd",
   "metadata": {
    "papermill": {
     "duration": 0.005564,
     "end_time": "2022-07-03T06:47:15.801157",
     "exception": false,
     "start_time": "2022-07-03T06:47:15.795593",
     "status": "completed"
    },
    "tags": []
   },
   "source": [
    "### Plot ROC curves for individual one-vs-rest classifiers"
   ]
  },
  {
   "cell_type": "code",
   "execution_count": 14,
   "id": "ab914f43",
   "metadata": {
    "execution": {
     "iopub.execute_input": "2022-07-03T06:47:15.814469Z",
     "iopub.status.busy": "2022-07-03T06:47:15.814083Z",
     "iopub.status.idle": "2022-07-03T06:47:16.281432Z",
     "shell.execute_reply": "2022-07-03T06:47:16.280444Z"
    },
    "papermill": {
     "duration": 0.476246,
     "end_time": "2022-07-03T06:47:16.283476",
     "exception": false,
     "start_time": "2022-07-03T06:47:15.807230",
     "status": "completed"
    },
    "tags": []
   },
   "outputs": [],
   "source": [
    "from sklearn import metrics"
   ]
  },
  {
   "cell_type": "code",
   "execution_count": 15,
   "id": "4ff5aa8e",
   "metadata": {
    "execution": {
     "iopub.execute_input": "2022-07-03T06:47:16.296879Z",
     "iopub.status.busy": "2022-07-03T06:47:16.296419Z",
     "iopub.status.idle": "2022-07-03T06:47:17.607731Z",
     "shell.execute_reply": "2022-07-03T06:47:17.606829Z"
    },
    "papermill": {
     "duration": 1.319904,
     "end_time": "2022-07-03T06:47:17.609540",
     "exception": false,
     "start_time": "2022-07-03T06:47:16.289636",
     "status": "completed"
    },
    "tags": []
   },
   "outputs": [
    {
     "data": {
      "image/png": "[encoded data removed]",
      "text/plain": [
       "<Figure size 1152x576 with 10 Axes>"
      ]
     },
     "metadata": {
      "needs_background": "light"
     },
     "output_type": "display_data"
    }
   ],
   "source": [
    "def plot_roc_curves(y, y_pred_probs):\n",
    "    # based on example code\n",
    "    # https://scikit-learn.org/stable/auto_examples/model_selection/plot_roc.html\n",
    "\n",
    "    fig, axs = plt.subplots(nrows=2, ncols=5, figsize=(16, 8))\n",
    "\n",
    "    roc_auc_dict = {}\n",
    "\n",
    "    for (r, c), digit, ax in zip(\n",
    "        it.product(range(2), range(5)), range(10), axs.reshape(-1)\n",
    "    ):\n",
    "        fpr, tpr, _ = metrics.roc_curve(y == digit, y_pred_probs[:, digit])\n",
    "        auc = metrics.auc(fpr, tpr)\n",
    "        roc_auc_dict[str(digit)] = auc\n",
    "\n",
    "        ax.plot(fpr, tpr, label=f\"ROC AUC={round(auc, 3)}\")\n",
    "\n",
    "        ax.set_title(f\"\\nDigit {digit}\", fontsize=16)\n",
    "        if r == 1:\n",
    "            ax.set_xlabel(\"FPR\", fontsize=18)\n",
    "\n",
    "        if c == 0:\n",
    "            ax.set_ylabel(\"TPR\", fontsize=18)\n",
    "\n",
    "        ax.set_xlim([-0.05, 1.05])\n",
    "        ax.set_ylim([-0.05, 1.05])\n",
    "        ax.legend(loc=\"lower right\", frameon=False, fontsize=14)\n",
    "\n",
    "    fig.tight_layout()\n",
    "    fig.suptitle(\n",
    "        f\"ROC plots for one-vs-rest performances \"\n",
    "        f\"(on evaluation data, n={y_pred_probs_test.shape[1]}\",\n",
    "        fontsize=22,\n",
    "    )\n",
    "    fig.tight_layout()\n",
    "    fig.show()\n",
    "\n",
    "    return roc_auc_dict, fig\n",
    "\n",
    "\n",
    "roc_auc_dict, fig = plot_roc_curves(y_test, y_pred_probs_test)"
   ]
  },
  {
   "cell_type": "code",
   "execution_count": 16,
   "id": "25305633",
   "metadata": {
    "execution": {
     "iopub.execute_input": "2022-07-03T06:47:17.625111Z",
     "iopub.status.busy": "2022-07-03T06:47:17.624692Z",
     "iopub.status.idle": "2022-07-03T06:47:17.896987Z",
     "shell.execute_reply": "2022-07-03T06:47:17.896322Z"
    },
    "papermill": {
     "duration": 0.282146,
     "end_time": "2022-07-03T06:47:17.898955",
     "exception": false,
     "start_time": "2022-07-03T06:47:17.616809",
     "status": "completed"
    },
    "tags": []
   },
   "outputs": [],
   "source": [
    "logger.log_figure(\"per-digit-roc-curves.png\", fig)"
   ]
  },
  {
   "cell_type": "code",
   "execution_count": 17,
   "id": "13af98f7",
   "metadata": {
    "execution": {
     "iopub.execute_input": "2022-07-03T06:47:17.916906Z",
     "iopub.status.busy": "2022-07-03T06:47:17.916531Z",
     "iopub.status.idle": "2022-07-03T06:47:17.921724Z",
     "shell.execute_reply": "2022-07-03T06:47:17.921141Z"
    },
    "papermill": {
     "duration": 0.017993,
     "end_time": "2022-07-03T06:47:17.927367",
     "exception": false,
     "start_time": "2022-07-03T06:47:17.909374",
     "status": "completed"
    },
    "tags": []
   },
   "outputs": [
    {
     "data": {
      "text/plain": [
       "{'0': 1.0,\n",
       " '1': 0.9992502343017807,\n",
       " '2': 1.0,\n",
       " '3': 0.9997750702905343,\n",
       " '4': 0.9991236092059138,\n",
       " '5': 0.998950328022493,\n",
       " '6': 0.999923792104862,\n",
       " '7': 0.9998475842097241,\n",
       " '8': 0.9940494955863808,\n",
       " '9': 0.998704465782655}"
      ]
     },
     "execution_count": 17,
     "metadata": {},
     "output_type": "execute_result"
    }
   ],
   "source": [
    "roc_auc_dict"
   ]
  },
  {
   "cell_type": "code",
   "execution_count": 18,
   "id": "b4c90f75",
   "metadata": {
    "execution": {
     "iopub.execute_input": "2022-07-03T06:47:17.942787Z",
     "iopub.status.busy": "2022-07-03T06:47:17.941800Z",
     "iopub.status.idle": "2022-07-03T06:47:17.946850Z",
     "shell.execute_reply": "2022-07-03T06:47:17.946200Z"
    },
    "papermill": {
     "duration": 0.016762,
     "end_time": "2022-07-03T06:47:17.950999",
     "exception": false,
     "start_time": "2022-07-03T06:47:17.934237",
     "status": "completed"
    },
    "tags": []
   },
   "outputs": [
    {
     "name": "stdout",
     "output_type": "stream",
     "text": [
      " - Logging roc_auc_per_digit (json) : {'0': 1.0, '1': 0.9992502343017807, '2': 1.0, '3': 0.9997750702905343, '4': 0.9991236092059138, '5': 0.998950328022493, '6': 0.999923792104862, '7': 0.9998475842097241, '8': 0.9940494955863808, '9': 0.998704465782655}\n"
     ]
    }
   ],
   "source": [
    "logger.log_value(\"roc_auc_per_digit\", roc_auc_dict)"
   ]
  },
  {
   "cell_type": "markdown",
   "id": "8e5fa024",
   "metadata": {
    "papermill": {
     "duration": 0.006659,
     "end_time": "2022-07-03T06:47:17.964562",
     "exception": false,
     "start_time": "2022-07-03T06:47:17.957903",
     "status": "completed"
    },
    "tags": []
   },
   "source": [
    "### Compute and log mean ROC AUC score averaged over all digits"
   ]
  },
  {
   "cell_type": "code",
   "execution_count": 19,
   "id": "b9b668eb",
   "metadata": {
    "execution": {
     "iopub.execute_input": "2022-07-03T06:47:17.979283Z",
     "iopub.status.busy": "2022-07-03T06:47:17.978904Z",
     "iopub.status.idle": "2022-07-03T06:47:18.001517Z",
     "shell.execute_reply": "2022-07-03T06:47:18.000698Z"
    },
    "papermill": {
     "duration": 0.037048,
     "end_time": "2022-07-03T06:47:18.008084",
     "exception": false,
     "start_time": "2022-07-03T06:47:17.971036",
     "status": "completed"
    },
    "tags": []
   },
   "outputs": [
    {
     "name": "stdout",
     "output_type": "stream",
     "text": [
      " - Logging roc_auc_class_mean (float) : 0.9989624579504344\n"
     ]
    }
   ],
   "source": [
    "roc_auc_macro = np.mean(list(roc_auc_dict.values()))\n",
    "\n",
    "logger.log_float(\"roc_auc_class_mean\", roc_auc_macro)\n",
    "\n",
    "# assert that the same value can be computed directly using sklearn\n",
    "assert roc_auc_macro == metrics.roc_auc_score(\n",
    "    y_test, y_pred_probs_test, average=\"macro\", multi_class=\"ovr\"\n",
    ")"
   ]
  },
  {
   "cell_type": "code",
   "execution_count": 20,
   "id": "cc744a2b",
   "metadata": {
    "execution": {
     "iopub.execute_input": "2022-07-03T06:47:18.024035Z",
     "iopub.status.busy": "2022-07-03T06:47:18.023480Z",
     "iopub.status.idle": "2022-07-03T06:47:18.027057Z",
     "shell.execute_reply": "2022-07-03T06:47:18.026259Z"
    },
    "lines_to_next_cell": 0,
    "papermill": {
     "duration": 0.013865,
     "end_time": "2022-07-03T06:47:18.029425",
     "exception": false,
     "start_time": "2022-07-03T06:47:18.015560",
     "status": "completed"
    },
    "tags": []
   },
   "outputs": [],
   "source": [
    "# ---"
   ]
  },
  {
   "cell_type": "code",
   "execution_count": null,
   "id": "c48a430b",
   "metadata": {
    "papermill": {
     "duration": 0.006789,
     "end_time": "2022-07-03T06:47:18.043656",
     "exception": false,
     "start_time": "2022-07-03T06:47:18.036867",
     "status": "completed"
    },
    "tags": []
   },
   "outputs": [],
   "source": []
  }
 ],
 "metadata": {
  "jupytext": {
   "cell_metadata_filter": "tags,-all",
   "main_language": "python",
   "notebook_metadata_filter": "-all"
  },
  "language_info": {
   "codemirror_mode": {
    "name": "ipython",
    "version": 3
   },
   "file_extension": ".py",
   "mimetype": "text/x-python",
   "name": "python",
   "nbconvert_exporter": "python",
   "pygments_lexer": "ipython3",
   "version": "3.8.10"
  },
  "papermill": {
   "default_parameters": {},
   "duration": 10.750675,
   "end_time": "2022-07-03T06:47:19.170766",
   "environment_variables": {},
   "exception": null,
   "input_path": "/home/host_user/workspace/mnist-demo-pipeline/mnist-demo-pipeline/notebooks/temp-notebook-d4fkqkdi.ipynb",
   "output_path": "notebooks/benchmark-model.ipynb",
   "parameters": {
    "P": {
     "_opentelemetry_traceparent": "00-f66200069d2760d169bf34f103c126aa-20beb2eae01ee33a-01",
     "pipeline.data_lake_root": "/pipeline-outputs/data-lake",
     "pipeline.github.actor": "matiasdahl",
     "pipeline.github.base_ref": "",
     "pipeline.github.event_name": "schedule",
     "pipeline.github.head_ref": "",
     "pipeline.github.job": "run-tests-pipeline-and-persist-pipeline-outputs",
     "pipeline.github.ref": "refs/heads/development",
     "pipeline.github.ref_name": "development",
     "pipeline.github.ref_type": "branch",
     "pipeline.github.repository": "pynb-dag-runner/mnist-digits-demo-pipeline",
     "pipeline.github.run_id": "2604161071",
     "pipeline.github.runner_name": "Hosted Agent",
     "pipeline.github.sha": "f934c58f68028b7bb026059d4e87e6d32a1bbd20",
     "pipeline.github.workflow": "Run automated tests, pipeline and deploy results to static reporting site",
     "pipeline.pipeline_run_id": "9333ec7b-6173-479f-a3d0-10ccbe360194",
     "pipeline.run_environment": "ci",
     "run.retry_nr": "0",
     "task.max_nr_retries": "1",
     "task.notebook": "notebooks/benchmark-model.py",
     "task.nr_train_images": 600,
     "task.num_cpus": 1,
     "task.timeout_s": "None"
    }
   },
   "start_time": "2022-07-03T06:47:08.420091",
   "version": "2.3.3"
  }
 },
 "nbformat": 4,
 "nbformat_minor": 5
}