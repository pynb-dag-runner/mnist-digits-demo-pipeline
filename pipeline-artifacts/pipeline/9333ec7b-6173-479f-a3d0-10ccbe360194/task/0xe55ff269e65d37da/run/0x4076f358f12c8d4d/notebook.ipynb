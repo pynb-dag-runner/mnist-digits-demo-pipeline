{
 "cells": [
  {
   "cell_type": "markdown",
   "id": "746611df",
   "metadata": {
    "papermill": {
     "duration": 0.004717,
     "end_time": "2022-07-03T06:46:43.649902",
     "exception": false,
     "start_time": "2022-07-03T06:46:43.645185",
     "status": "completed"
    },
    "tags": []
   },
   "source": [
    "# Train model\n",
    "\n",
    "The purpose of this notebook is:\n",
    "\n",
    "- Load all training data (images and labels).\n",
    "- Limit number of train images to `task.nr_train_images` (value provided as run parameter).\n",
    "- Train a support vector machine model using sklearn.\n",
    "- Persist the trained model using the ONNX format."
   ]
  },
  {
   "cell_type": "markdown",
   "id": "7c80f736",
   "metadata": {
    "papermill": {
     "duration": 0.003273,
     "end_time": "2022-07-03T06:46:43.657404",
     "exception": false,
     "start_time": "2022-07-03T06:46:43.654131",
     "status": "completed"
    },
    "tags": []
   },
   "source": [
    "### Determine run parameters"
   ]
  },
  {
   "cell_type": "code",
   "execution_count": 1,
   "id": "84343609",
   "metadata": {
    "execution": {
     "iopub.execute_input": "2022-07-03T06:46:43.666280Z",
     "iopub.status.busy": "2022-07-03T06:46:43.665845Z",
     "iopub.status.idle": "2022-07-03T06:46:43.679840Z",
     "shell.execute_reply": "2022-07-03T06:46:43.679206Z"
    },
    "lines_to_next_cell": 0,
    "papermill": {
     "duration": 0.020995,
     "end_time": "2022-07-03T06:46:43.681914",
     "exception": false,
     "start_time": "2022-07-03T06:46:43.660919",
     "status": "completed"
    },
    "tags": []
   },
   "outputs": [],
   "source": [
    "# ----------------- Parameters for interactive development --------------\n",
    "P = {\n",
    "    \"pipeline.data_lake_root\": \"/pipeline-outputs/data-lake\",\n",
    "    \"task.nr_train_images\": 600,\n",
    "}"
   ]
  },
  {
   "cell_type": "code",
   "execution_count": 2,
   "id": "3723c5d6",
   "metadata": {
    "execution": {
     "iopub.execute_input": "2022-07-03T06:46:43.690233Z",
     "iopub.status.busy": "2022-07-03T06:46:43.689930Z",
     "iopub.status.idle": "2022-07-03T06:46:43.693628Z",
     "shell.execute_reply": "2022-07-03T06:46:43.693029Z"
    },
    "lines_to_next_cell": 0,
    "papermill": {
     "duration": 0.011035,
     "end_time": "2022-07-03T06:46:43.696712",
     "exception": false,
     "start_time": "2022-07-03T06:46:43.685677",
     "status": "completed"
    },
    "tags": [
     "parameters"
    ]
   },
   "outputs": [],
   "source": [
    "# - During automated runs parameters will be injected in the below cell -"
   ]
  },
  {
   "cell_type": "code",
   "execution_count": 3,
   "id": "48fc8722",
   "metadata": {
    "execution": {
     "iopub.execute_input": "2022-07-03T06:46:43.704744Z",
     "iopub.status.busy": "2022-07-03T06:46:43.704495Z",
     "iopub.status.idle": "2022-07-03T06:46:43.709588Z",
     "shell.execute_reply": "2022-07-03T06:46:43.708903Z"
    },
    "papermill": {
     "duration": 0.012854,
     "end_time": "2022-07-03T06:46:43.712873",
     "exception": false,
     "start_time": "2022-07-03T06:46:43.700019",
     "status": "completed"
    },
    "tags": [
     "injected-parameters"
    ]
   },
   "outputs": [],
   "source": [
    "# Parameters\n",
    "P = {\n",
    "    \"pipeline.data_lake_root\": \"/pipeline-outputs/data-lake\",\n",
    "    \"pipeline.run_environment\": \"ci\",\n",
    "    \"pipeline.pipeline_run_id\": \"9333ec7b-6173-479f-a3d0-10ccbe360194\",\n",
    "    \"pipeline.github.repository\": \"pynb-dag-runner/mnist-digits-demo-pipeline\",\n",
    "    \"pipeline.github.workflow\": \"Run automated tests, pipeline and deploy results to static reporting site\",\n",
    "    \"pipeline.github.runner_name\": \"Hosted Agent\",\n",
    "    \"pipeline.github.run_id\": \"2604161071\",\n",
    "    \"pipeline.github.actor\": \"matiasdahl\",\n",
    "    \"pipeline.github.job\": \"run-tests-pipeline-and-persist-pipeline-outputs\",\n",
    "    \"pipeline.github.base_ref\": \"\",\n",
    "    \"pipeline.github.head_ref\": \"\",\n",
    "    \"pipeline.github.sha\": \"f934c58f68028b7bb026059d4e87e6d32a1bbd20\",\n",
    "    \"pipeline.github.ref\": \"refs/heads/development\",\n",
    "    \"pipeline.github.ref_type\": \"branch\",\n",
    "    \"pipeline.github.ref_name\": \"development\",\n",
    "    \"pipeline.github.event_name\": \"schedule\",\n",
    "    \"task.nr_train_images\": 800,\n",
    "    \"task.notebook\": \"notebooks/train-model.py\",\n",
    "    \"task.max_nr_retries\": \"1\",\n",
    "    \"run.retry_nr\": \"0\",\n",
    "    \"task.timeout_s\": \"None\",\n",
    "    \"task.num_cpus\": 1,\n",
    "    \"_opentelemetry_traceparent\": \"00-f66200069d2760d169bf34f103c126aa-30f86a54463f1ed6-01\",\n",
    "}\n"
   ]
  },
  {
   "cell_type": "code",
   "execution_count": 4,
   "id": "ede50bb2",
   "metadata": {
    "execution": {
     "iopub.execute_input": "2022-07-03T06:46:43.720756Z",
     "iopub.status.busy": "2022-07-03T06:46:43.720505Z",
     "iopub.status.idle": "2022-07-03T06:46:43.723577Z",
     "shell.execute_reply": "2022-07-03T06:46:43.722819Z"
    },
    "lines_to_next_cell": 0,
    "papermill": {
     "duration": 0.010401,
     "end_time": "2022-07-03T06:46:43.726617",
     "exception": false,
     "start_time": "2022-07-03T06:46:43.716216",
     "status": "completed"
    },
    "tags": []
   },
   "outputs": [],
   "source": [
    "# -----------------------------------------------------------------------"
   ]
  },
  {
   "cell_type": "markdown",
   "id": "bea9a795",
   "metadata": {
    "papermill": {
     "duration": 0.003659,
     "end_time": "2022-07-03T06:46:43.733576",
     "exception": false,
     "start_time": "2022-07-03T06:46:43.729917",
     "status": "completed"
    },
    "tags": []
   },
   "source": [
    "---"
   ]
  },
  {
   "cell_type": "markdown",
   "id": "1023c400",
   "metadata": {
    "lines_to_next_cell": 2,
    "papermill": {
     "duration": 0.003406,
     "end_time": "2022-07-03T06:46:43.740066",
     "exception": false,
     "start_time": "2022-07-03T06:46:43.736660",
     "status": "completed"
    },
    "tags": []
   },
   "source": [
    "### Notebook code"
   ]
  },
  {
   "cell_type": "code",
   "execution_count": 5,
   "id": "5c84e4d7",
   "metadata": {
    "execution": {
     "iopub.execute_input": "2022-07-03T06:46:43.753137Z",
     "iopub.status.busy": "2022-07-03T06:46:43.752893Z",
     "iopub.status.idle": "2022-07-03T06:46:44.308243Z",
     "shell.execute_reply": "2022-07-03T06:46:44.307536Z"
    },
    "papermill": {
     "duration": 0.562957,
     "end_time": "2022-07-03T06:46:44.310438",
     "exception": false,
     "start_time": "2022-07-03T06:46:43.747481",
     "status": "completed"
    },
    "tags": []
   },
   "outputs": [
    {
     "name": "stderr",
     "output_type": "stream",
     "text": [
      "2022-07-03 06:46:44,118\tINFO worker.py:842 -- Connecting to existing Ray cluster at address: 172.17.0.2:6379\n"
     ]
    }
   ],
   "source": [
    "from pynb_dag_runner.tasks.task_opentelemetry_logging import PydarLogger\n",
    "\n",
    "logger = PydarLogger(P)"
   ]
  },
  {
   "cell_type": "markdown",
   "id": "4feb01e4",
   "metadata": {
    "papermill": {
     "duration": 0.005589,
     "end_time": "2022-07-03T06:46:44.319501",
     "exception": false,
     "start_time": "2022-07-03T06:46:44.313912",
     "status": "completed"
    },
    "tags": []
   },
   "source": [
    "## Load and limit train data"
   ]
  },
  {
   "cell_type": "code",
   "execution_count": 6,
   "id": "052c8a3a",
   "metadata": {
    "execution": {
     "iopub.execute_input": "2022-07-03T06:46:44.327605Z",
     "iopub.status.busy": "2022-07-03T06:46:44.327262Z",
     "iopub.status.idle": "2022-07-03T06:46:44.753283Z",
     "shell.execute_reply": "2022-07-03T06:46:44.752142Z"
    },
    "papermill": {
     "duration": 0.432636,
     "end_time": "2022-07-03T06:46:44.755566",
     "exception": false,
     "start_time": "2022-07-03T06:46:44.322930",
     "status": "completed"
    },
    "tags": []
   },
   "outputs": [],
   "source": [
    "def load_and_limit_train_data(P):\n",
    "    from common.io import datalake_root, read_numpy\n",
    "    from sklearn.model_selection import train_test_split\n",
    "\n",
    "    X_train_all = read_numpy(datalake_root(P) / \"train-data\" / \"digits.numpy\")\n",
    "    y_train_all = read_numpy(datalake_root(P) / \"train-data\" / \"labels.numpy\")\n",
    "\n",
    "    assert isinstance(P[\"task.nr_train_images\"], int)\n",
    "\n",
    "    # Note: train_test_split will fail if split is 0 or 100%.\n",
    "    assert 0 < P[\"task.nr_train_images\"] < len(y_train_all)\n",
    "\n",
    "    X_train, _, y_train, _ = train_test_split(\n",
    "        X_train_all,\n",
    "        y_train_all,\n",
    "        train_size=P[\"task.nr_train_images\"],\n",
    "        test_size=None,\n",
    "        stratify=y_train_all,\n",
    "        shuffle=True,\n",
    "        random_state=123,\n",
    "    )\n",
    "\n",
    "    assert X_train.shape == (len(y_train), 8 * 8)\n",
    "    return X_train, y_train\n",
    "\n",
    "\n",
    "X_train, y_train = load_and_limit_train_data(P)"
   ]
  },
  {
   "cell_type": "markdown",
   "id": "bec60a96",
   "metadata": {
    "papermill": {
     "duration": 0.003968,
     "end_time": "2022-07-03T06:46:44.763391",
     "exception": false,
     "start_time": "2022-07-03T06:46:44.759423",
     "status": "completed"
    },
    "tags": []
   },
   "source": [
    "## Train support vector classifier model\n",
    "\n",
    "Below we assume that the hyperparameter $C$ is known.\n",
    "\n",
    "However, this should ideally be found by a hyperparameter search. That could be\n",
    "done in parallel on the Ray cluster, but this needs some more work. Ie., to use\n",
    "multiple cores in the notebook, those cores should be reserved when starting the\n",
    "notebook task (TODO).\n",
    "\n",
    "- https://docs.ray.io/en/latest/tune/key-concepts.html\n",
    "\n",
    "Note: cv-scores would need to be computed here, since they depend on the train data.\n",
    "After this notebook only the onnx-model is available."
   ]
  },
  {
   "cell_type": "code",
   "execution_count": 7,
   "id": "cd8093d7",
   "metadata": {
    "execution": {
     "iopub.execute_input": "2022-07-03T06:46:44.772653Z",
     "iopub.status.busy": "2022-07-03T06:46:44.772370Z",
     "iopub.status.idle": "2022-07-03T06:46:44.889161Z",
     "shell.execute_reply": "2022-07-03T06:46:44.888321Z"
    },
    "papermill": {
     "duration": 0.123136,
     "end_time": "2022-07-03T06:46:44.891254",
     "exception": false,
     "start_time": "2022-07-03T06:46:44.768118",
     "status": "completed"
    },
    "tags": []
   },
   "outputs": [],
   "source": [
    "from sklearn.svm import SVC"
   ]
  },
  {
   "cell_type": "code",
   "execution_count": 8,
   "id": "ec8d89e7",
   "metadata": {
    "execution": {
     "iopub.execute_input": "2022-07-03T06:46:44.899928Z",
     "iopub.status.busy": "2022-07-03T06:46:44.899417Z",
     "iopub.status.idle": "2022-07-03T06:46:45.034966Z",
     "shell.execute_reply": "2022-07-03T06:46:45.033919Z"
    },
    "papermill": {
     "duration": 0.141878,
     "end_time": "2022-07-03T06:46:45.036731",
     "exception": false,
     "start_time": "2022-07-03T06:46:44.894853",
     "status": "completed"
    },
    "tags": []
   },
   "outputs": [
    {
     "data": {
      "text/plain": [
       "SVC(C=0.001, kernel='linear', probability=True)"
      ]
     },
     "execution_count": 8,
     "metadata": {},
     "output_type": "execute_result"
    }
   ],
   "source": [
    "model = SVC(C=0.001, kernel=\"linear\", probability=True)\n",
    "\n",
    "model.fit(X_train, y_train)"
   ]
  },
  {
   "cell_type": "markdown",
   "id": "a5741025",
   "metadata": {
    "papermill": {
     "duration": 0.003445,
     "end_time": "2022-07-03T06:46:45.044374",
     "exception": false,
     "start_time": "2022-07-03T06:46:45.040929",
     "status": "completed"
    },
    "tags": []
   },
   "source": [
    "### Q: Can the labels returned by `predict(..)` be computed from probabilities returned by the `predict_prob`-method?"
   ]
  },
  {
   "cell_type": "code",
   "execution_count": 9,
   "id": "5a948292",
   "metadata": {
    "execution": {
     "iopub.execute_input": "2022-07-03T06:46:45.053180Z",
     "iopub.status.busy": "2022-07-03T06:46:45.052744Z",
     "iopub.status.idle": "2022-07-03T06:46:45.119193Z",
     "shell.execute_reply": "2022-07-03T06:46:45.118432Z"
    },
    "papermill": {
     "duration": 0.073698,
     "end_time": "2022-07-03T06:46:45.121390",
     "exception": false,
     "start_time": "2022-07-03T06:46:45.047692",
     "status": "completed"
    },
    "tags": []
   },
   "outputs": [
    {
     "name": "stdout",
     "output_type": "stream",
     "text": [
      " - Logging nr_max_prob_neq_label (int) : 0\n"
     ]
    }
   ],
   "source": [
    "import numpy as np\n",
    "\n",
    "y_train_labels = model.predict(X_train)\n",
    "y_train_probabilities = model.predict_proba(X_train)\n",
    "assert y_train_probabilities.shape == (len(y_train), 10)\n",
    "\n",
    "y_train_max_prob_labels = np.argmax(y_train_probabilities, axis=1)\n",
    "assert y_train_labels.shape == y_train_max_prob_labels.shape == y_train.shape\n",
    "\n",
    "# If the predicted labels would coincide with the labels that have\n",
    "# maximum probability, the below number would be zero\n",
    "logger.log_int(\n",
    "    \"nr_max_prob_neq_label\", int(sum(y_train_max_prob_labels != y_train_labels))\n",
    ")"
   ]
  },
  {
   "cell_type": "markdown",
   "id": "0ac43510",
   "metadata": {
    "papermill": {
     "duration": 0.0038,
     "end_time": "2022-07-03T06:46:45.129105",
     "exception": false,
     "start_time": "2022-07-03T06:46:45.125305",
     "status": "completed"
    },
    "tags": []
   },
   "source": [
    "The explanation is (likely) explained in the SVC source, see\n",
    "[here](https://github.com/scikit-learn/scikit-learn/blob/main/sklearn/svm/_base.py).\n",
    "Namely, the outputs from `predict(..)` and `predict_proba(..)` may not in some\n",
    "cases be compatible since the latter is computed using cross-validation while\n",
    "the former is not. Thus, the above number need not be zero."
   ]
  },
  {
   "cell_type": "markdown",
   "id": "70f48824",
   "metadata": {
    "papermill": {
     "duration": 0.003652,
     "end_time": "2022-07-03T06:46:45.136182",
     "exception": false,
     "start_time": "2022-07-03T06:46:45.132530",
     "status": "completed"
    },
    "tags": []
   },
   "source": [
    "## Persist model"
   ]
  },
  {
   "cell_type": "code",
   "execution_count": 10,
   "id": "c628b165",
   "metadata": {
    "execution": {
     "iopub.execute_input": "2022-07-03T06:46:45.144689Z",
     "iopub.status.busy": "2022-07-03T06:46:45.144044Z",
     "iopub.status.idle": "2022-07-03T06:46:46.482286Z",
     "shell.execute_reply": "2022-07-03T06:46:46.481458Z"
    },
    "papermill": {
     "duration": 1.345301,
     "end_time": "2022-07-03T06:46:46.484870",
     "exception": false,
     "start_time": "2022-07-03T06:46:45.139569",
     "status": "completed"
    },
    "tags": []
   },
   "outputs": [
    {
     "name": "stdout",
     "output_type": "stream",
     "text": [
      "\u001b[2m\u001b[1m\u001b[36m(scheduler +1s)\u001b[0m Tip: use `ray status` to view detailed cluster status. To disable these messages, set RAY_SCHEDULER_EVENTS=0.\n",
      "\u001b[2m\u001b[1m\u001b[33m(scheduler +1s)\u001b[0m Warning: The following resource request cannot be scheduled right now: {'CPU': 1.0}. This is likely due to all cluster resources being claimed by actors. Consider creating fewer actors or adding more nodes to this Ray cluster.\n"
     ]
    }
   ],
   "source": [
    "from skl2onnx import convert_sklearn\n",
    "from skl2onnx.common.data_types import FloatTensorType\n",
    "\n",
    "#\n",
    "from common.io import datalake_root, write_onnx"
   ]
  },
  {
   "cell_type": "code",
   "execution_count": 11,
   "id": "0561572d",
   "metadata": {
    "execution": {
     "iopub.execute_input": "2022-07-03T06:46:46.496020Z",
     "iopub.status.busy": "2022-07-03T06:46:46.495639Z",
     "iopub.status.idle": "2022-07-03T06:46:46.549533Z",
     "shell.execute_reply": "2022-07-03T06:46:46.548890Z"
    },
    "papermill": {
     "duration": 0.061405,
     "end_time": "2022-07-03T06:46:46.551319",
     "exception": false,
     "start_time": "2022-07-03T06:46:46.489914",
     "status": "completed"
    },
    "tags": []
   },
   "outputs": [],
   "source": [
    "# convert sklearn model into onnx and persist to data lake\n",
    "\n",
    "model_onnx = convert_sklearn(\n",
    "    model, initial_types=[(\"float_input_8x8_image\", FloatTensorType([None, 8 * 8]))]\n",
    ")\n",
    "write_onnx(\n",
    "    datalake_root(P)\n",
    "    / \"models\"\n",
    "    / f\"nr_train_images={P['task.nr_train_images']}\"\n",
    "    / \"model.onnx\",\n",
    "    model_onnx,\n",
    ")"
   ]
  },
  {
   "cell_type": "code",
   "execution_count": null,
   "id": "e9e9517f",
   "metadata": {
    "papermill": {
     "duration": 0.00476,
     "end_time": "2022-07-03T06:46:46.560088",
     "exception": false,
     "start_time": "2022-07-03T06:46:46.555328",
     "status": "completed"
    },
    "tags": []
   },
   "outputs": [],
   "source": []
  }
 ],
 "metadata": {
  "jupytext": {
   "cell_metadata_filter": "tags,-all",
   "main_language": "python",
   "notebook_metadata_filter": "-all"
  },
  "language_info": {
   "codemirror_mode": {
    "name": "ipython",
    "version": 3
   },
   "file_extension": ".py",
   "mimetype": "text/x-python",
   "name": "python",
   "nbconvert_exporter": "python",
   "pygments_lexer": "ipython3",
   "version": "3.8.10"
  },
  "papermill": {
   "default_parameters": {},
   "duration": 5.374266,
   "end_time": "2022-07-03T06:46:47.690304",
   "environment_variables": {},
   "exception": null,
   "input_path": "/home/host_user/workspace/mnist-demo-pipeline/mnist-demo-pipeline/notebooks/temp-notebook-tmwfzwqr.ipynb",
   "output_path": "notebooks/train-model.ipynb",
   "parameters": {
    "P": {
     "_opentelemetry_traceparent": "00-f66200069d2760d169bf34f103c126aa-30f86a54463f1ed6-01",
     "pipeline.data_lake_root": "/pipeline-outputs/data-lake",
     "pipeline.github.actor": "matiasdahl",
     "pipeline.github.base_ref": "",
     "pipeline.github.event_name": "schedule",
     "pipeline.github.head_ref": "",
     "pipeline.github.job": "run-tests-pipeline-and-persist-pipeline-outputs",
     "pipeline.github.ref": "refs/heads/development",
     "pipeline.github.ref_name": "development",
     "pipeline.github.ref_type": "branch",
     "pipeline.github.repository": "pynb-dag-runner/mnist-digits-demo-pipeline",
     "pipeline.github.run_id": "2604161071",
     "pipeline.github.runner_name": "Hosted Agent",
     "pipeline.github.sha": "f934c58f68028b7bb026059d4e87e6d32a1bbd20",
     "pipeline.github.workflow": "Run automated tests, pipeline and deploy results to static reporting site",
     "pipeline.pipeline_run_id": "9333ec7b-6173-479f-a3d0-10ccbe360194",
     "pipeline.run_environment": "ci",
     "run.retry_nr": "0",
     "task.max_nr_retries": "1",
     "task.notebook": "notebooks/train-model.py",
     "task.nr_train_images": 800,
     "task.num_cpus": 1,
     "task.timeout_s": "None"
    }
   },
   "start_time": "2022-07-03T06:46:42.316038",
   "version": "2.3.3"
  }
 },
 "nbformat": 4,
 "nbformat_minor": 5
}