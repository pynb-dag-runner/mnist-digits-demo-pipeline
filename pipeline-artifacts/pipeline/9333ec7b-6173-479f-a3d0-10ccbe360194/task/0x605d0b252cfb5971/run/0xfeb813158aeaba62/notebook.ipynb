{
 "cells": [
  {
   "cell_type": "markdown",
   "id": "c80216cb",
   "metadata": {
    "papermill": {
     "duration": 0.004088,
     "end_time": "2022-07-03T06:46:32.182964",
     "exception": false,
     "start_time": "2022-07-03T06:46:32.178876",
     "status": "completed"
    },
    "tags": []
   },
   "source": [
    "# Ingest toy version of MNIST digit data from sklearn"
   ]
  },
  {
   "cell_type": "markdown",
   "id": "881680bb",
   "metadata": {
    "papermill": {
     "duration": 0.002494,
     "end_time": "2022-07-03T06:46:32.188697",
     "exception": false,
     "start_time": "2022-07-03T06:46:32.186203",
     "status": "completed"
    },
    "tags": []
   },
   "source": [
    "### Determine run parameters"
   ]
  },
  {
   "cell_type": "code",
   "execution_count": 1,
   "id": "1f04403f",
   "metadata": {
    "execution": {
     "iopub.execute_input": "2022-07-03T06:46:32.195803Z",
     "iopub.status.busy": "2022-07-03T06:46:32.195154Z",
     "iopub.status.idle": "2022-07-03T06:46:32.203640Z",
     "shell.execute_reply": "2022-07-03T06:46:32.202827Z"
    },
    "lines_to_next_cell": 0,
    "papermill": {
     "duration": 0.014067,
     "end_time": "2022-07-03T06:46:32.205222",
     "exception": false,
     "start_time": "2022-07-03T06:46:32.191155",
     "status": "completed"
    },
    "tags": []
   },
   "outputs": [],
   "source": [
    "# ----------------- Parameters for interactive development --------------\n",
    "P = {\n",
    "    \"pipeline.run_environment\": \"dev\",\n",
    "    \"pipeline.data_lake_root\": \"/pipeline-outputs/data-lake\",\n",
    "    \"run.retry_nr\": \"1\",\n",
    "}"
   ]
  },
  {
   "cell_type": "code",
   "execution_count": 2,
   "id": "d8092cde",
   "metadata": {
    "execution": {
     "iopub.execute_input": "2022-07-03T06:46:32.212095Z",
     "iopub.status.busy": "2022-07-03T06:46:32.211499Z",
     "iopub.status.idle": "2022-07-03T06:46:32.216836Z",
     "shell.execute_reply": "2022-07-03T06:46:32.215569Z"
    },
    "lines_to_next_cell": 0,
    "papermill": {
     "duration": 0.010342,
     "end_time": "2022-07-03T06:46:32.218442",
     "exception": false,
     "start_time": "2022-07-03T06:46:32.208100",
     "status": "completed"
    },
    "tags": [
     "parameters"
    ]
   },
   "outputs": [],
   "source": [
    "# - During automated runs parameters will be injected in the below cell -"
   ]
  },
  {
   "cell_type": "code",
   "execution_count": 3,
   "id": "3fac25cc",
   "metadata": {
    "execution": {
     "iopub.execute_input": "2022-07-03T06:46:32.225355Z",
     "iopub.status.busy": "2022-07-03T06:46:32.224911Z",
     "iopub.status.idle": "2022-07-03T06:46:32.229896Z",
     "shell.execute_reply": "2022-07-03T06:46:32.229294Z"
    },
    "papermill": {
     "duration": 0.010397,
     "end_time": "2022-07-03T06:46:32.231518",
     "exception": false,
     "start_time": "2022-07-03T06:46:32.221121",
     "status": "completed"
    },
    "tags": [
     "injected-parameters"
    ]
   },
   "outputs": [],
   "source": [
    "# Parameters\n",
    "P = {\n",
    "    \"pipeline.data_lake_root\": \"/pipeline-outputs/data-lake\",\n",
    "    \"pipeline.run_environment\": \"ci\",\n",
    "    \"pipeline.pipeline_run_id\": \"9333ec7b-6173-479f-a3d0-10ccbe360194\",\n",
    "    \"pipeline.github.repository\": \"pynb-dag-runner/mnist-digits-demo-pipeline\",\n",
    "    \"pipeline.github.workflow\": \"Run automated tests, pipeline and deploy results to static reporting site\",\n",
    "    \"pipeline.github.runner_name\": \"Hosted Agent\",\n",
    "    \"pipeline.github.run_id\": \"2604161071\",\n",
    "    \"pipeline.github.actor\": \"matiasdahl\",\n",
    "    \"pipeline.github.job\": \"run-tests-pipeline-and-persist-pipeline-outputs\",\n",
    "    \"pipeline.github.base_ref\": \"\",\n",
    "    \"pipeline.github.head_ref\": \"\",\n",
    "    \"pipeline.github.sha\": \"f934c58f68028b7bb026059d4e87e6d32a1bbd20\",\n",
    "    \"pipeline.github.ref\": \"refs/heads/development\",\n",
    "    \"pipeline.github.ref_type\": \"branch\",\n",
    "    \"pipeline.github.ref_name\": \"development\",\n",
    "    \"pipeline.github.event_name\": \"schedule\",\n",
    "    \"task.notebook\": \"notebooks/ingest.py\",\n",
    "    \"task.max_nr_retries\": \"15\",\n",
    "    \"run.retry_nr\": \"10\",\n",
    "    \"task.timeout_s\": \"10\",\n",
    "    \"task.num_cpus\": 1,\n",
    "    \"_opentelemetry_traceparent\": \"00-f66200069d2760d169bf34f103c126aa-39946605cad790b0-01\",\n",
    "}\n"
   ]
  },
  {
   "cell_type": "code",
   "execution_count": 4,
   "id": "0419bea1",
   "metadata": {
    "execution": {
     "iopub.execute_input": "2022-07-03T06:46:32.238590Z",
     "iopub.status.busy": "2022-07-03T06:46:32.237942Z",
     "iopub.status.idle": "2022-07-03T06:46:32.241113Z",
     "shell.execute_reply": "2022-07-03T06:46:32.240464Z"
    },
    "lines_to_next_cell": 0,
    "papermill": {
     "duration": 0.008903,
     "end_time": "2022-07-03T06:46:32.243180",
     "exception": false,
     "start_time": "2022-07-03T06:46:32.234277",
     "status": "completed"
    },
    "tags": []
   },
   "outputs": [],
   "source": [
    "# -----------------------------------------------------------------------"
   ]
  },
  {
   "cell_type": "markdown",
   "id": "72cf1e6e",
   "metadata": {
    "lines_to_next_cell": 2,
    "papermill": {
     "duration": 0.002619,
     "end_time": "2022-07-03T06:46:32.248705",
     "exception": false,
     "start_time": "2022-07-03T06:46:32.246086",
     "status": "completed"
    },
    "tags": []
   },
   "source": [
    "---"
   ]
  },
  {
   "cell_type": "markdown",
   "id": "c709a046",
   "metadata": {
    "papermill": {
     "duration": 0.002789,
     "end_time": "2022-07-03T06:46:32.254038",
     "exception": false,
     "start_time": "2022-07-03T06:46:32.251249",
     "status": "completed"
    },
    "tags": []
   },
   "source": [
    "### Simulate different types of failures (for testing timeout and retry logic)"
   ]
  },
  {
   "cell_type": "code",
   "execution_count": 5,
   "id": "0390f089",
   "metadata": {
    "execution": {
     "iopub.execute_input": "2022-07-03T06:46:32.260880Z",
     "iopub.status.busy": "2022-07-03T06:46:32.260297Z",
     "iopub.status.idle": "2022-07-03T06:46:32.739134Z",
     "shell.execute_reply": "2022-07-03T06:46:32.738347Z"
    },
    "papermill": {
     "duration": 0.484465,
     "end_time": "2022-07-03T06:46:32.741209",
     "exception": false,
     "start_time": "2022-07-03T06:46:32.256744",
     "status": "completed"
    },
    "tags": []
   },
   "outputs": [
    {
     "name": "stderr",
     "output_type": "stream",
     "text": [
      "2022-07-03 06:46:32,586\tINFO worker.py:842 -- Connecting to existing Ray cluster at address: 172.17.0.2:6379\n"
     ]
    }
   ],
   "source": [
    "from pynb_dag_runner.tasks.task_opentelemetry_logging import PydarLogger\n",
    "\n",
    "logger = PydarLogger(P)"
   ]
  },
  {
   "cell_type": "code",
   "execution_count": 6,
   "id": "b3bb577e",
   "metadata": {
    "execution": {
     "iopub.execute_input": "2022-07-03T06:46:32.749390Z",
     "iopub.status.busy": "2022-07-03T06:46:32.748841Z",
     "iopub.status.idle": "2022-07-03T06:46:32.754762Z",
     "shell.execute_reply": "2022-07-03T06:46:32.753811Z"
    },
    "papermill": {
     "duration": 0.011798,
     "end_time": "2022-07-03T06:46:32.756687",
     "exception": false,
     "start_time": "2022-07-03T06:46:32.744889",
     "status": "completed"
    },
    "tags": []
   },
   "outputs": [],
   "source": [
    "import time, random\n",
    "\n",
    "\n",
    "def maybe_crash(retry_nr: int, run_environment: str):\n",
    "    if retry_nr == 2 and run_environment == \"ci\":\n",
    "        time.sleep(1e6)\n",
    "\n",
    "    max_retry_nr: int = 3 if run_environment == \"dev\" else 10\n",
    "\n",
    "    if retry_nr < max_retry_nr:\n",
    "        if random.random() < 0.1:\n",
    "            time.sleep(1e6)\n",
    "        else:\n",
    "            raise Exception(\"Simulated exception failure from ingestion step notebook!\")\n",
    "\n",
    "\n",
    "maybe_crash(\n",
    "    retry_nr=int(P[\"run.retry_nr\"]), run_environment=P[\"pipeline.run_environment\"]\n",
    ")"
   ]
  },
  {
   "cell_type": "markdown",
   "id": "ded87803",
   "metadata": {
    "lines_to_next_cell": 2,
    "papermill": {
     "duration": 0.003189,
     "end_time": "2022-07-03T06:46:32.763057",
     "exception": false,
     "start_time": "2022-07-03T06:46:32.759868",
     "status": "completed"
    },
    "tags": []
   },
   "source": [
    "### Notebook code"
   ]
  },
  {
   "cell_type": "code",
   "execution_count": 7,
   "id": "2e408849",
   "metadata": {
    "execution": {
     "iopub.execute_input": "2022-07-03T06:46:32.770063Z",
     "iopub.status.busy": "2022-07-03T06:46:32.769578Z",
     "iopub.status.idle": "2022-07-03T06:46:34.231648Z",
     "shell.execute_reply": "2022-07-03T06:46:34.230942Z"
    },
    "papermill": {
     "duration": 1.468129,
     "end_time": "2022-07-03T06:46:34.234013",
     "exception": false,
     "start_time": "2022-07-03T06:46:32.765884",
     "status": "completed"
    },
    "tags": []
   },
   "outputs": [],
   "source": [
    "from sklearn import datasets\n",
    "\n",
    "#\n",
    "from common.io import datalake_root, write_numpy"
   ]
  },
  {
   "cell_type": "code",
   "execution_count": 8,
   "id": "dccf6ef9",
   "metadata": {
    "execution": {
     "iopub.execute_input": "2022-07-03T06:46:34.242646Z",
     "iopub.status.busy": "2022-07-03T06:46:34.242150Z",
     "iopub.status.idle": "2022-07-03T06:46:34.262624Z",
     "shell.execute_reply": "2022-07-03T06:46:34.261997Z"
    },
    "lines_to_next_cell": 2,
    "papermill": {
     "duration": 0.026742,
     "end_time": "2022-07-03T06:46:34.264533",
     "exception": false,
     "start_time": "2022-07-03T06:46:34.237791",
     "status": "completed"
    },
    "tags": []
   },
   "outputs": [],
   "source": [
    "digits = datasets.load_digits()\n",
    "\n",
    "X = digits[\"data\"]\n",
    "y = digits[\"target\"]"
   ]
  },
  {
   "cell_type": "code",
   "execution_count": 9,
   "id": "347525f5",
   "metadata": {
    "execution": {
     "iopub.execute_input": "2022-07-03T06:46:34.274550Z",
     "iopub.status.busy": "2022-07-03T06:46:34.274020Z",
     "iopub.status.idle": "2022-07-03T06:46:34.291354Z",
     "shell.execute_reply": "2022-07-03T06:46:34.290742Z"
    },
    "papermill": {
     "duration": 0.024589,
     "end_time": "2022-07-03T06:46:34.293154",
     "exception": false,
     "start_time": "2022-07-03T06:46:34.268565",
     "status": "completed"
    },
    "tags": []
   },
   "outputs": [
    {
     "name": "stdout",
     "output_type": "stream",
     "text": [
      " - Logging data_shape (json) : [1797, 64]\n",
      " - Logging target_shape (json) : [1797]\n"
     ]
    },
    {
     "data": {
      "text/plain": [
       "((1797, 64), (1797,))"
      ]
     },
     "execution_count": 9,
     "metadata": {},
     "output_type": "execute_result"
    }
   ],
   "source": [
    "logger.log_value(\"data_shape\", list(X.shape))\n",
    "logger.log_value(\"target_shape\", list(y.shape))\n",
    "\n",
    "X.shape, y.shape"
   ]
  },
  {
   "cell_type": "code",
   "execution_count": 10,
   "id": "4dc4729d",
   "metadata": {
    "execution": {
     "iopub.execute_input": "2022-07-03T06:46:34.304574Z",
     "iopub.status.busy": "2022-07-03T06:46:34.304115Z",
     "iopub.status.idle": "2022-07-03T06:46:34.316141Z",
     "shell.execute_reply": "2022-07-03T06:46:34.315507Z"
    },
    "papermill": {
     "duration": 0.020355,
     "end_time": "2022-07-03T06:46:34.318130",
     "exception": false,
     "start_time": "2022-07-03T06:46:34.297775",
     "status": "completed"
    },
    "tags": []
   },
   "outputs": [],
   "source": [
    "write_numpy(datalake_root(P) / \"raw\" / \"digits.numpy\", X)\n",
    "write_numpy(datalake_root(P) / \"raw\" / \"labels.numpy\", y)"
   ]
  },
  {
   "cell_type": "code",
   "execution_count": null,
   "id": "9b56c644",
   "metadata": {
    "papermill": {
     "duration": 0.003016,
     "end_time": "2022-07-03T06:46:34.324739",
     "exception": false,
     "start_time": "2022-07-03T06:46:34.321723",
     "status": "completed"
    },
    "tags": []
   },
   "outputs": [],
   "source": []
  }
 ],
 "metadata": {
  "jupytext": {
   "cell_metadata_filter": "tags,-all",
   "main_language": "python",
   "notebook_metadata_filter": "-all"
  },
  "language_info": {
   "codemirror_mode": {
    "name": "ipython",
    "version": 3
   },
   "file_extension": ".py",
   "mimetype": "text/x-python",
   "name": "python",
   "nbconvert_exporter": "python",
   "pygments_lexer": "ipython3",
   "version": "3.8.10"
  },
  "papermill": {
   "default_parameters": {},
   "duration": 4.581849,
   "end_time": "2022-07-03T06:46:35.352697",
   "environment_variables": {},
   "exception": null,
   "input_path": "/home/host_user/workspace/mnist-demo-pipeline/mnist-demo-pipeline/notebooks/temp-notebook-id49iv1c.ipynb",
   "output_path": "notebooks/ingest.ipynb",
   "parameters": {
    "P": {
     "_opentelemetry_traceparent": "00-f66200069d2760d169bf34f103c126aa-39946605cad790b0-01",
     "pipeline.data_lake_root": "/pipeline-outputs/data-lake",
     "pipeline.github.actor": "matiasdahl",
     "pipeline.github.base_ref": "",
     "pipeline.github.event_name": "schedule",
     "pipeline.github.head_ref": "",
     "pipeline.github.job": "run-tests-pipeline-and-persist-pipeline-outputs",
     "pipeline.github.ref": "refs/heads/development",
     "pipeline.github.ref_name": "development",
     "pipeline.github.ref_type": "branch",
     "pipeline.github.repository": "pynb-dag-runner/mnist-digits-demo-pipeline",
     "pipeline.github.run_id": "2604161071",
     "pipeline.github.runner_name": "Hosted Agent",
     "pipeline.github.sha": "f934c58f68028b7bb026059d4e87e6d32a1bbd20",
     "pipeline.github.workflow": "Run automated tests, pipeline and deploy results to static reporting site",
     "pipeline.pipeline_run_id": "9333ec7b-6173-479f-a3d0-10ccbe360194",
     "pipeline.run_environment": "ci",
     "run.retry_nr": "10",
     "task.max_nr_retries": "15",
     "task.notebook": "notebooks/ingest.py",
     "task.num_cpus": 1,
     "task.timeout_s": "10"
    }
   },
   "start_time": "2022-07-03T06:46:30.770848",
   "version": "2.3.3"
  }
 },
 "nbformat": 4,
 "nbformat_minor": 5
}