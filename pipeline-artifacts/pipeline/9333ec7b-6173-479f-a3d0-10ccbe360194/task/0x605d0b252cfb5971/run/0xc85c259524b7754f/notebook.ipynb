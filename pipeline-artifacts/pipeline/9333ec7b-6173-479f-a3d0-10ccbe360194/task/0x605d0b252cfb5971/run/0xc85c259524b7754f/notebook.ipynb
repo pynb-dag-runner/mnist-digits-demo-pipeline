{
 "cells": [
  {
   "cell_type": "markdown",
   "id": "dfb82601",
   "metadata": {
    "tags": [
     "papermill-error-cell-tag"
    ]
   },
   "source": [
    "<span style=\"color:red; font-family:Helvetica Neue, Helvetica, Arial, sans-serif; font-size:2em;\">An Exception was encountered at '<a href=\"#papermill-error-cell\">In [6]</a>'.</span>"
   ]
  },
  {
   "cell_type": "markdown",
   "id": "8bdfb975",
   "metadata": {
    "papermill": {
     "duration": 0.00371,
     "end_time": "2022-07-03T06:45:53.991168",
     "exception": false,
     "start_time": "2022-07-03T06:45:53.987458",
     "status": "completed"
    },
    "tags": []
   },
   "source": [
    "# Ingest toy version of MNIST digit data from sklearn"
   ]
  },
  {
   "cell_type": "markdown",
   "id": "ee170629",
   "metadata": {
    "papermill": {
     "duration": 0.002544,
     "end_time": "2022-07-03T06:45:53.996968",
     "exception": false,
     "start_time": "2022-07-03T06:45:53.994424",
     "status": "completed"
    },
    "tags": []
   },
   "source": [
    "### Determine run parameters"
   ]
  },
  {
   "cell_type": "code",
   "execution_count": 1,
   "id": "83a30bcb",
   "metadata": {
    "execution": {
     "iopub.execute_input": "2022-07-03T06:45:54.004522Z",
     "iopub.status.busy": "2022-07-03T06:45:54.003623Z",
     "iopub.status.idle": "2022-07-03T06:45:54.013115Z",
     "shell.execute_reply": "2022-07-03T06:45:54.012397Z"
    },
    "lines_to_next_cell": 0,
    "papermill": {
     "duration": 0.0157,
     "end_time": "2022-07-03T06:45:54.015073",
     "exception": false,
     "start_time": "2022-07-03T06:45:53.999373",
     "status": "completed"
    },
    "tags": []
   },
   "outputs": [],
   "source": [
    "# ----------------- Parameters for interactive development --------------\n",
    "P = {\n",
    "    \"pipeline.run_environment\": \"dev\",\n",
    "    \"pipeline.data_lake_root\": \"/pipeline-outputs/data-lake\",\n",
    "    \"run.retry_nr\": \"1\",\n",
    "}"
   ]
  },
  {
   "cell_type": "code",
   "execution_count": 2,
   "id": "caf568c6",
   "metadata": {
    "execution": {
     "iopub.execute_input": "2022-07-03T06:45:54.024969Z",
     "iopub.status.busy": "2022-07-03T06:45:54.024567Z",
     "iopub.status.idle": "2022-07-03T06:45:54.033179Z",
     "shell.execute_reply": "2022-07-03T06:45:54.028848Z"
    },
    "lines_to_next_cell": 0,
    "papermill": {
     "duration": 0.018739,
     "end_time": "2022-07-03T06:45:54.036461",
     "exception": false,
     "start_time": "2022-07-03T06:45:54.017722",
     "status": "completed"
    },
    "tags": [
     "parameters"
    ]
   },
   "outputs": [],
   "source": [
    "# - During automated runs parameters will be injected in the below cell -"
   ]
  },
  {
   "cell_type": "code",
   "execution_count": 3,
   "id": "4332bba0",
   "metadata": {
    "execution": {
     "iopub.execute_input": "2022-07-03T06:45:54.047356Z",
     "iopub.status.busy": "2022-07-03T06:45:54.046838Z",
     "iopub.status.idle": "2022-07-03T06:45:54.051804Z",
     "shell.execute_reply": "2022-07-03T06:45:54.051243Z"
    },
    "papermill": {
     "duration": 0.014687,
     "end_time": "2022-07-03T06:45:54.053831",
     "exception": false,
     "start_time": "2022-07-03T06:45:54.039144",
     "status": "completed"
    },
    "tags": [
     "injected-parameters"
    ]
   },
   "outputs": [],
   "source": [
    "# Parameters\n",
    "P = {\n",
    "    \"pipeline.data_lake_root\": \"/pipeline-outputs/data-lake\",\n",
    "    \"pipeline.run_environment\": \"ci\",\n",
    "    \"pipeline.pipeline_run_id\": \"9333ec7b-6173-479f-a3d0-10ccbe360194\",\n",
    "    \"pipeline.github.repository\": \"pynb-dag-runner/mnist-digits-demo-pipeline\",\n",
    "    \"pipeline.github.workflow\": \"Run automated tests, pipeline and deploy results to static reporting site\",\n",
    "    \"pipeline.github.runner_name\": \"Hosted Agent\",\n",
    "    \"pipeline.github.run_id\": \"2604161071\",\n",
    "    \"pipeline.github.actor\": \"matiasdahl\",\n",
    "    \"pipeline.github.job\": \"run-tests-pipeline-and-persist-pipeline-outputs\",\n",
    "    \"pipeline.github.base_ref\": \"\",\n",
    "    \"pipeline.github.head_ref\": \"\",\n",
    "    \"pipeline.github.sha\": \"f934c58f68028b7bb026059d4e87e6d32a1bbd20\",\n",
    "    \"pipeline.github.ref\": \"refs/heads/development\",\n",
    "    \"pipeline.github.ref_type\": \"branch\",\n",
    "    \"pipeline.github.ref_name\": \"development\",\n",
    "    \"pipeline.github.event_name\": \"schedule\",\n",
    "    \"task.notebook\": \"notebooks/ingest.py\",\n",
    "    \"task.max_nr_retries\": \"15\",\n",
    "    \"run.retry_nr\": \"3\",\n",
    "    \"task.timeout_s\": \"10\",\n",
    "    \"task.num_cpus\": 1,\n",
    "    \"_opentelemetry_traceparent\": \"00-f66200069d2760d169bf34f103c126aa-a9dc80613ac3686c-01\",\n",
    "}\n"
   ]
  },
  {
   "cell_type": "code",
   "execution_count": 4,
   "id": "01d7e0e1",
   "metadata": {
    "execution": {
     "iopub.execute_input": "2022-07-03T06:45:54.061091Z",
     "iopub.status.busy": "2022-07-03T06:45:54.060323Z",
     "iopub.status.idle": "2022-07-03T06:45:54.063658Z",
     "shell.execute_reply": "2022-07-03T06:45:54.062941Z"
    },
    "lines_to_next_cell": 0,
    "papermill": {
     "duration": 0.008685,
     "end_time": "2022-07-03T06:45:54.065332",
     "exception": false,
     "start_time": "2022-07-03T06:45:54.056647",
     "status": "completed"
    },
    "tags": []
   },
   "outputs": [],
   "source": [
    "# -----------------------------------------------------------------------"
   ]
  },
  {
   "cell_type": "markdown",
   "id": "40fc0db8",
   "metadata": {
    "lines_to_next_cell": 2,
    "papermill": {
     "duration": 0.002738,
     "end_time": "2022-07-03T06:45:54.070810",
     "exception": false,
     "start_time": "2022-07-03T06:45:54.068072",
     "status": "completed"
    },
    "tags": []
   },
   "source": [
    "---"
   ]
  },
  {
   "cell_type": "markdown",
   "id": "2e6ff038",
   "metadata": {
    "papermill": {
     "duration": 0.002473,
     "end_time": "2022-07-03T06:45:54.075850",
     "exception": false,
     "start_time": "2022-07-03T06:45:54.073377",
     "status": "completed"
    },
    "tags": []
   },
   "source": [
    "### Simulate different types of failures (for testing timeout and retry logic)"
   ]
  },
  {
   "cell_type": "code",
   "execution_count": 5,
   "id": "75f1c160",
   "metadata": {
    "execution": {
     "iopub.execute_input": "2022-07-03T06:45:54.083038Z",
     "iopub.status.busy": "2022-07-03T06:45:54.082263Z",
     "iopub.status.idle": "2022-07-03T06:45:54.581794Z",
     "shell.execute_reply": "2022-07-03T06:45:54.580878Z"
    },
    "papermill": {
     "duration": 0.505235,
     "end_time": "2022-07-03T06:45:54.583998",
     "exception": false,
     "start_time": "2022-07-03T06:45:54.078763",
     "status": "completed"
    },
    "tags": []
   },
   "outputs": [
    {
     "name": "stderr",
     "output_type": "stream",
     "text": [
      "2022-07-03 06:45:54,422\tINFO worker.py:842 -- Connecting to existing Ray cluster at address: 172.17.0.2:6379\n"
     ]
    }
   ],
   "source": [
    "from pynb_dag_runner.tasks.task_opentelemetry_logging import PydarLogger\n",
    "\n",
    "logger = PydarLogger(P)"
   ]
  },
  {
   "cell_type": "markdown",
   "id": "4f393ee3",
   "metadata": {
    "tags": [
     "papermill-error-cell-tag"
    ]
   },
   "source": [
    "<span id=\"papermill-error-cell\" style=\"color:red; font-family:Helvetica Neue, Helvetica, Arial, sans-serif; font-size:2em;\">Execution using papermill encountered an exception here and stopped:</span>"
   ]
  },
  {
   "cell_type": "code",
   "execution_count": 6,
   "id": "1938fc7f",
   "metadata": {
    "execution": {
     "iopub.execute_input": "2022-07-03T06:45:54.591685Z",
     "iopub.status.busy": "2022-07-03T06:45:54.591075Z",
     "iopub.status.idle": "2022-07-03T06:45:55.145928Z",
     "shell.execute_reply": "2022-07-03T06:45:55.144002Z"
    },
    "papermill": {
     "duration": 0.560064,
     "end_time": "2022-07-03T06:45:55.147284",
     "exception": true,
     "start_time": "2022-07-03T06:45:54.587220",
     "status": "failed"
    },
    "tags": []
   },
   "outputs": [
    {
     "ename": "Exception",
     "evalue": "Simulated exception failure from ingestion step notebook!",
     "output_type": "error",
     "traceback": [
      "\u001b[0;31m---------------------------------------------------------------------------\u001b[0m",
      "\u001b[0;31mException\u001b[0m                                 Traceback (most recent call last)",
      "Input \u001b[0;32mIn [6]\u001b[0m, in \u001b[0;36m<cell line: 17>\u001b[0;34m()\u001b[0m\n\u001b[1;32m     13\u001b[0m         \u001b[38;5;28;01melse\u001b[39;00m:\n\u001b[1;32m     14\u001b[0m             \u001b[38;5;28;01mraise\u001b[39;00m \u001b[38;5;167;01mException\u001b[39;00m(\u001b[38;5;124m\"\u001b[39m\u001b[38;5;124mSimulated exception failure from ingestion step notebook!\u001b[39m\u001b[38;5;124m\"\u001b[39m)\n\u001b[0;32m---> 17\u001b[0m \u001b[43mmaybe_crash\u001b[49m\u001b[43m(\u001b[49m\n\u001b[1;32m     18\u001b[0m \u001b[43m    \u001b[49m\u001b[43mretry_nr\u001b[49m\u001b[38;5;241;43m=\u001b[39;49m\u001b[38;5;28;43mint\u001b[39;49m\u001b[43m(\u001b[49m\u001b[43mP\u001b[49m\u001b[43m[\u001b[49m\u001b[38;5;124;43m\"\u001b[39;49m\u001b[38;5;124;43mrun.retry_nr\u001b[39;49m\u001b[38;5;124;43m\"\u001b[39;49m\u001b[43m]\u001b[49m\u001b[43m)\u001b[49m\u001b[43m,\u001b[49m\u001b[43m \u001b[49m\u001b[43mrun_environment\u001b[49m\u001b[38;5;241;43m=\u001b[39;49m\u001b[43mP\u001b[49m\u001b[43m[\u001b[49m\u001b[38;5;124;43m\"\u001b[39;49m\u001b[38;5;124;43mpipeline.run_environment\u001b[39;49m\u001b[38;5;124;43m\"\u001b[39;49m\u001b[43m]\u001b[49m\n\u001b[1;32m     19\u001b[0m \u001b[43m)\u001b[49m\n",
      "Input \u001b[0;32mIn [6]\u001b[0m, in \u001b[0;36mmaybe_crash\u001b[0;34m(retry_nr, run_environment)\u001b[0m\n\u001b[1;32m     12\u001b[0m     time\u001b[38;5;241m.\u001b[39msleep(\u001b[38;5;241m1e6\u001b[39m)\n\u001b[1;32m     13\u001b[0m \u001b[38;5;28;01melse\u001b[39;00m:\n\u001b[0;32m---> 14\u001b[0m     \u001b[38;5;28;01mraise\u001b[39;00m \u001b[38;5;167;01mException\u001b[39;00m(\u001b[38;5;124m\"\u001b[39m\u001b[38;5;124mSimulated exception failure from ingestion step notebook!\u001b[39m\u001b[38;5;124m\"\u001b[39m)\n",
      "\u001b[0;31mException\u001b[0m: Simulated exception failure from ingestion step notebook!"
     ]
    }
   ],
   "source": [
    "import time, random\n",
    "\n",
    "\n",
    "def maybe_crash(retry_nr: int, run_environment: str):\n",
    "    if retry_nr == 2 and run_environment == \"ci\":\n",
    "        time.sleep(1e6)\n",
    "\n",
    "    max_retry_nr: int = 3 if run_environment == \"dev\" else 10\n",
    "\n",
    "    if retry_nr < max_retry_nr:\n",
    "        if random.random() < 0.1:\n",
    "            time.sleep(1e6)\n",
    "        else:\n",
    "            raise Exception(\"Simulated exception failure from ingestion step notebook!\")\n",
    "\n",
    "\n",
    "maybe_crash(\n",
    "    retry_nr=int(P[\"run.retry_nr\"]), run_environment=P[\"pipeline.run_environment\"]\n",
    ")"
   ]
  },
  {
   "cell_type": "markdown",
   "id": "fd217a36",
   "metadata": {
    "lines_to_next_cell": 2,
    "papermill": {
     "duration": null,
     "end_time": null,
     "exception": null,
     "start_time": null,
     "status": "pending"
    },
    "tags": []
   },
   "source": [
    "### Notebook code"
   ]
  },
  {
   "cell_type": "code",
   "execution_count": null,
   "id": "90b0b3f4",
   "metadata": {
    "papermill": {
     "duration": null,
     "end_time": null,
     "exception": null,
     "start_time": null,
     "status": "pending"
    },
    "tags": []
   },
   "outputs": [],
   "source": [
    "from sklearn import datasets\n",
    "\n",
    "#\n",
    "from common.io import datalake_root, write_numpy"
   ]
  },
  {
   "cell_type": "code",
   "execution_count": null,
   "id": "9e0646c6",
   "metadata": {
    "lines_to_next_cell": 2,
    "papermill": {
     "duration": null,
     "end_time": null,
     "exception": null,
     "start_time": null,
     "status": "pending"
    },
    "tags": []
   },
   "outputs": [],
   "source": [
    "digits = datasets.load_digits()\n",
    "\n",
    "X = digits[\"data\"]\n",
    "y = digits[\"target\"]"
   ]
  },
  {
   "cell_type": "code",
   "execution_count": null,
   "id": "dff8bb75",
   "metadata": {
    "papermill": {
     "duration": null,
     "end_time": null,
     "exception": null,
     "start_time": null,
     "status": "pending"
    },
    "tags": []
   },
   "outputs": [],
   "source": [
    "logger.log_value(\"data_shape\", list(X.shape))\n",
    "logger.log_value(\"target_shape\", list(y.shape))\n",
    "\n",
    "X.shape, y.shape"
   ]
  },
  {
   "cell_type": "code",
   "execution_count": null,
   "id": "b8c22902",
   "metadata": {
    "papermill": {
     "duration": null,
     "end_time": null,
     "exception": null,
     "start_time": null,
     "status": "pending"
    },
    "tags": []
   },
   "outputs": [],
   "source": [
    "write_numpy(datalake_root(P) / \"raw\" / \"digits.numpy\", X)\n",
    "write_numpy(datalake_root(P) / \"raw\" / \"labels.numpy\", y)"
   ]
  },
  {
   "cell_type": "code",
   "execution_count": null,
   "id": "d8058d2b",
   "metadata": {
    "papermill": {
     "duration": null,
     "end_time": null,
     "exception": null,
     "start_time": null,
     "status": "pending"
    },
    "tags": []
   },
   "outputs": [],
   "source": []
  }
 ],
 "metadata": {
  "jupytext": {
   "cell_metadata_filter": "tags,-all",
   "main_language": "python",
   "notebook_metadata_filter": "-all"
  },
  "language_info": {
   "codemirror_mode": {
    "name": "ipython",
    "version": 3
   },
   "file_extension": ".py",
   "mimetype": "text/x-python",
   "name": "python",
   "nbconvert_exporter": "python",
   "pygments_lexer": "ipython3",
   "version": "3.8.10"
  },
  "papermill": {
   "default_parameters": {},
   "duration": 3.352612,
   "end_time": "2022-07-03T06:45:56.079240",
   "environment_variables": {},
   "exception": true,
   "input_path": "/home/host_user/workspace/mnist-demo-pipeline/mnist-demo-pipeline/notebooks/temp-notebook-cgjaggvm.ipynb",
   "output_path": "notebooks/ingest.ipynb",
   "parameters": {
    "P": {
     "_opentelemetry_traceparent": "00-f66200069d2760d169bf34f103c126aa-a9dc80613ac3686c-01",
     "pipeline.data_lake_root": "/pipeline-outputs/data-lake",
     "pipeline.github.actor": "matiasdahl",
     "pipeline.github.base_ref": "",
     "pipeline.github.event_name": "schedule",
     "pipeline.github.head_ref": "",
     "pipeline.github.job": "run-tests-pipeline-and-persist-pipeline-outputs",
     "pipeline.github.ref": "refs/heads/development",
     "pipeline.github.ref_name": "development",
     "pipeline.github.ref_type": "branch",
     "pipeline.github.repository": "pynb-dag-runner/mnist-digits-demo-pipeline",
     "pipeline.github.run_id": "2604161071",
     "pipeline.github.runner_name": "Hosted Agent",
     "pipeline.github.sha": "f934c58f68028b7bb026059d4e87e6d32a1bbd20",
     "pipeline.github.workflow": "Run automated tests, pipeline and deploy results to static reporting site",
     "pipeline.pipeline_run_id": "9333ec7b-6173-479f-a3d0-10ccbe360194",
     "pipeline.run_environment": "ci",
     "run.retry_nr": "3",
     "task.max_nr_retries": "15",
     "task.notebook": "notebooks/ingest.py",
     "task.num_cpus": 1,
     "task.timeout_s": "10"
    }
   },
   "start_time": "2022-07-03T06:45:52.726628",
   "version": "2.3.3"
  }
 },
 "nbformat": 4,
 "nbformat_minor": 5
}