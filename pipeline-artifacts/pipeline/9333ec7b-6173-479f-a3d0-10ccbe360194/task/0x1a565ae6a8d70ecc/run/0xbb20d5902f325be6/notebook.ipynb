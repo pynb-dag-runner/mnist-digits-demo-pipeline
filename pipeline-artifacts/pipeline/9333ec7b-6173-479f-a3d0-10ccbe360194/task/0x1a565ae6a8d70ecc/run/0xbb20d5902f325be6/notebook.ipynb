{
 "cells": [
  {
   "cell_type": "markdown",
   "id": "8e130e37",
   "metadata": {
    "papermill": {
     "duration": 0.004949,
     "end_time": "2022-07-03T06:46:50.480439",
     "exception": false,
     "start_time": "2022-07-03T06:46:50.475490",
     "status": "completed"
    },
    "tags": []
   },
   "source": [
    "# Train model\n",
    "\n",
    "The purpose of this notebook is:\n",
    "\n",
    "- Load all training data (images and labels).\n",
    "- Limit number of train images to `task.nr_train_images` (value provided as run parameter).\n",
    "- Train a support vector machine model using sklearn.\n",
    "- Persist the trained model using the ONNX format."
   ]
  },
  {
   "cell_type": "markdown",
   "id": "daa211a9",
   "metadata": {
    "papermill": {
     "duration": 0.003319,
     "end_time": "2022-07-03T06:46:50.487659",
     "exception": false,
     "start_time": "2022-07-03T06:46:50.484340",
     "status": "completed"
    },
    "tags": []
   },
   "source": [
    "### Determine run parameters"
   ]
  },
  {
   "cell_type": "code",
   "execution_count": 1,
   "id": "90284537",
   "metadata": {
    "execution": {
     "iopub.execute_input": "2022-07-03T06:46:50.497229Z",
     "iopub.status.busy": "2022-07-03T06:46:50.496881Z",
     "iopub.status.idle": "2022-07-03T06:46:50.507287Z",
     "shell.execute_reply": "2022-07-03T06:46:50.506691Z"
    },
    "lines_to_next_cell": 0,
    "papermill": {
     "duration": 0.01772,
     "end_time": "2022-07-03T06:46:50.509843",
     "exception": false,
     "start_time": "2022-07-03T06:46:50.492123",
     "status": "completed"
    },
    "tags": []
   },
   "outputs": [],
   "source": [
    "# ----------------- Parameters for interactive development --------------\n",
    "P = {\n",
    "    \"pipeline.data_lake_root\": \"/pipeline-outputs/data-lake\",\n",
    "    \"task.nr_train_images\": 600,\n",
    "}"
   ]
  },
  {
   "cell_type": "code",
   "execution_count": 2,
   "id": "aedbd56d",
   "metadata": {
    "execution": {
     "iopub.execute_input": "2022-07-03T06:46:50.518212Z",
     "iopub.status.busy": "2022-07-03T06:46:50.517938Z",
     "iopub.status.idle": "2022-07-03T06:46:50.521450Z",
     "shell.execute_reply": "2022-07-03T06:46:50.520910Z"
    },
    "lines_to_next_cell": 0,
    "papermill": {
     "duration": 0.010945,
     "end_time": "2022-07-03T06:46:50.524553",
     "exception": false,
     "start_time": "2022-07-03T06:46:50.513608",
     "status": "completed"
    },
    "tags": [
     "parameters"
    ]
   },
   "outputs": [],
   "source": [
    "# - During automated runs parameters will be injected in the below cell -"
   ]
  },
  {
   "cell_type": "code",
   "execution_count": 3,
   "id": "2c525366",
   "metadata": {
    "execution": {
     "iopub.execute_input": "2022-07-03T06:46:50.532726Z",
     "iopub.status.busy": "2022-07-03T06:46:50.532491Z",
     "iopub.status.idle": "2022-07-03T06:46:50.538580Z",
     "shell.execute_reply": "2022-07-03T06:46:50.537762Z"
    },
    "papermill": {
     "duration": 0.014579,
     "end_time": "2022-07-03T06:46:50.542428",
     "exception": false,
     "start_time": "2022-07-03T06:46:50.527849",
     "status": "completed"
    },
    "tags": [
     "injected-parameters"
    ]
   },
   "outputs": [],
   "source": [
    "# Parameters\n",
    "P = {\n",
    "    \"pipeline.data_lake_root\": \"/pipeline-outputs/data-lake\",\n",
    "    \"pipeline.run_environment\": \"ci\",\n",
    "    \"pipeline.pipeline_run_id\": \"9333ec7b-6173-479f-a3d0-10ccbe360194\",\n",
    "    \"pipeline.github.repository\": \"pynb-dag-runner/mnist-digits-demo-pipeline\",\n",
    "    \"pipeline.github.workflow\": \"Run automated tests, pipeline and deploy results to static reporting site\",\n",
    "    \"pipeline.github.runner_name\": \"Hosted Agent\",\n",
    "    \"pipeline.github.run_id\": \"2604161071\",\n",
    "    \"pipeline.github.actor\": \"matiasdahl\",\n",
    "    \"pipeline.github.job\": \"run-tests-pipeline-and-persist-pipeline-outputs\",\n",
    "    \"pipeline.github.base_ref\": \"\",\n",
    "    \"pipeline.github.head_ref\": \"\",\n",
    "    \"pipeline.github.sha\": \"f934c58f68028b7bb026059d4e87e6d32a1bbd20\",\n",
    "    \"pipeline.github.ref\": \"refs/heads/development\",\n",
    "    \"pipeline.github.ref_type\": \"branch\",\n",
    "    \"pipeline.github.ref_name\": \"development\",\n",
    "    \"pipeline.github.event_name\": \"schedule\",\n",
    "    \"task.nr_train_images\": 600,\n",
    "    \"task.notebook\": \"notebooks/train-model.py\",\n",
    "    \"task.max_nr_retries\": \"1\",\n",
    "    \"run.retry_nr\": \"0\",\n",
    "    \"task.timeout_s\": \"None\",\n",
    "    \"task.num_cpus\": 1,\n",
    "    \"_opentelemetry_traceparent\": \"00-f66200069d2760d169bf34f103c126aa-838273c2d973164d-01\",\n",
    "}\n"
   ]
  },
  {
   "cell_type": "code",
   "execution_count": 4,
   "id": "ac8f620b",
   "metadata": {
    "execution": {
     "iopub.execute_input": "2022-07-03T06:46:50.550749Z",
     "iopub.status.busy": "2022-07-03T06:46:50.550096Z",
     "iopub.status.idle": "2022-07-03T06:46:50.553548Z",
     "shell.execute_reply": "2022-07-03T06:46:50.552945Z"
    },
    "lines_to_next_cell": 0,
    "papermill": {
     "duration": 0.010731,
     "end_time": "2022-07-03T06:46:50.556867",
     "exception": false,
     "start_time": "2022-07-03T06:46:50.546136",
     "status": "completed"
    },
    "tags": []
   },
   "outputs": [],
   "source": [
    "# -----------------------------------------------------------------------"
   ]
  },
  {
   "cell_type": "markdown",
   "id": "05d404d0",
   "metadata": {
    "papermill": {
     "duration": 0.003354,
     "end_time": "2022-07-03T06:46:50.570073",
     "exception": false,
     "start_time": "2022-07-03T06:46:50.566719",
     "status": "completed"
    },
    "tags": []
   },
   "source": [
    "---"
   ]
  },
  {
   "cell_type": "markdown",
   "id": "307f0876",
   "metadata": {
    "lines_to_next_cell": 2,
    "papermill": {
     "duration": 0.003527,
     "end_time": "2022-07-03T06:46:50.578361",
     "exception": false,
     "start_time": "2022-07-03T06:46:50.574834",
     "status": "completed"
    },
    "tags": []
   },
   "source": [
    "### Notebook code"
   ]
  },
  {
   "cell_type": "code",
   "execution_count": 5,
   "id": "e726d492",
   "metadata": {
    "execution": {
     "iopub.execute_input": "2022-07-03T06:46:50.586696Z",
     "iopub.status.busy": "2022-07-03T06:46:50.586453Z",
     "iopub.status.idle": "2022-07-03T06:46:51.146222Z",
     "shell.execute_reply": "2022-07-03T06:46:51.145459Z"
    },
    "papermill": {
     "duration": 0.566613,
     "end_time": "2022-07-03T06:46:51.148461",
     "exception": false,
     "start_time": "2022-07-03T06:46:50.581848",
     "status": "completed"
    },
    "tags": []
   },
   "outputs": [
    {
     "name": "stderr",
     "output_type": "stream",
     "text": [
      "2022-07-03 06:46:50,977\tINFO worker.py:842 -- Connecting to existing Ray cluster at address: 172.17.0.2:6379\n"
     ]
    }
   ],
   "source": [
    "from pynb_dag_runner.tasks.task_opentelemetry_logging import PydarLogger\n",
    "\n",
    "logger = PydarLogger(P)"
   ]
  },
  {
   "cell_type": "markdown",
   "id": "ff57c538",
   "metadata": {
    "papermill": {
     "duration": 0.00471,
     "end_time": "2022-07-03T06:46:51.157322",
     "exception": false,
     "start_time": "2022-07-03T06:46:51.152612",
     "status": "completed"
    },
    "tags": []
   },
   "source": [
    "## Load and limit train data"
   ]
  },
  {
   "cell_type": "code",
   "execution_count": 6,
   "id": "69b823b4",
   "metadata": {
    "execution": {
     "iopub.execute_input": "2022-07-03T06:46:51.167333Z",
     "iopub.status.busy": "2022-07-03T06:46:51.166647Z",
     "iopub.status.idle": "2022-07-03T06:46:51.609929Z",
     "shell.execute_reply": "2022-07-03T06:46:51.608912Z"
    },
    "papermill": {
     "duration": 0.450884,
     "end_time": "2022-07-03T06:46:51.612213",
     "exception": false,
     "start_time": "2022-07-03T06:46:51.161329",
     "status": "completed"
    },
    "tags": []
   },
   "outputs": [],
   "source": [
    "def load_and_limit_train_data(P):\n",
    "    from common.io import datalake_root, read_numpy\n",
    "    from sklearn.model_selection import train_test_split\n",
    "\n",
    "    X_train_all = read_numpy(datalake_root(P) / \"train-data\" / \"digits.numpy\")\n",
    "    y_train_all = read_numpy(datalake_root(P) / \"train-data\" / \"labels.numpy\")\n",
    "\n",
    "    assert isinstance(P[\"task.nr_train_images\"], int)\n",
    "\n",
    "    # Note: train_test_split will fail if split is 0 or 100%.\n",
    "    assert 0 < P[\"task.nr_train_images\"] < len(y_train_all)\n",
    "\n",
    "    X_train, _, y_train, _ = train_test_split(\n",
    "        X_train_all,\n",
    "        y_train_all,\n",
    "        train_size=P[\"task.nr_train_images\"],\n",
    "        test_size=None,\n",
    "        stratify=y_train_all,\n",
    "        shuffle=True,\n",
    "        random_state=123,\n",
    "    )\n",
    "\n",
    "    assert X_train.shape == (len(y_train), 8 * 8)\n",
    "    return X_train, y_train\n",
    "\n",
    "\n",
    "X_train, y_train = load_and_limit_train_data(P)"
   ]
  },
  {
   "cell_type": "markdown",
   "id": "86e72d1c",
   "metadata": {
    "papermill": {
     "duration": 0.003647,
     "end_time": "2022-07-03T06:46:51.619949",
     "exception": false,
     "start_time": "2022-07-03T06:46:51.616302",
     "status": "completed"
    },
    "tags": []
   },
   "source": [
    "## Train support vector classifier model\n",
    "\n",
    "Below we assume that the hyperparameter $C$ is known.\n",
    "\n",
    "However, this should ideally be found by a hyperparameter search. That could be\n",
    "done in parallel on the Ray cluster, but this needs some more work. Ie., to use\n",
    "multiple cores in the notebook, those cores should be reserved when starting the\n",
    "notebook task (TODO).\n",
    "\n",
    "- https://docs.ray.io/en/latest/tune/key-concepts.html\n",
    "\n",
    "Note: cv-scores would need to be computed here, since they depend on the train data.\n",
    "After this notebook only the onnx-model is available."
   ]
  },
  {
   "cell_type": "code",
   "execution_count": 7,
   "id": "4564c594",
   "metadata": {
    "execution": {
     "iopub.execute_input": "2022-07-03T06:46:51.630070Z",
     "iopub.status.busy": "2022-07-03T06:46:51.629633Z",
     "iopub.status.idle": "2022-07-03T06:46:51.652860Z",
     "shell.execute_reply": "2022-07-03T06:46:51.652171Z"
    },
    "papermill": {
     "duration": 0.031362,
     "end_time": "2022-07-03T06:46:51.654788",
     "exception": false,
     "start_time": "2022-07-03T06:46:51.623426",
     "status": "completed"
    },
    "tags": []
   },
   "outputs": [],
   "source": [
    "from sklearn.svm import SVC"
   ]
  },
  {
   "cell_type": "code",
   "execution_count": 8,
   "id": "36a5766f",
   "metadata": {
    "execution": {
     "iopub.execute_input": "2022-07-03T06:46:51.663807Z",
     "iopub.status.busy": "2022-07-03T06:46:51.663393Z",
     "iopub.status.idle": "2022-07-03T06:46:51.764181Z",
     "shell.execute_reply": "2022-07-03T06:46:51.763415Z"
    },
    "papermill": {
     "duration": 0.108149,
     "end_time": "2022-07-03T06:46:51.766818",
     "exception": false,
     "start_time": "2022-07-03T06:46:51.658669",
     "status": "completed"
    },
    "tags": []
   },
   "outputs": [
    {
     "data": {
      "text/plain": [
       "SVC(C=0.001, kernel='linear', probability=True)"
      ]
     },
     "execution_count": 8,
     "metadata": {},
     "output_type": "execute_result"
    }
   ],
   "source": [
    "model = SVC(C=0.001, kernel=\"linear\", probability=True)\n",
    "\n",
    "model.fit(X_train, y_train)"
   ]
  },
  {
   "cell_type": "markdown",
   "id": "01204a91",
   "metadata": {
    "papermill": {
     "duration": 0.004008,
     "end_time": "2022-07-03T06:46:51.775600",
     "exception": false,
     "start_time": "2022-07-03T06:46:51.771592",
     "status": "completed"
    },
    "tags": []
   },
   "source": [
    "### Q: Can the labels returned by `predict(..)` be computed from probabilities returned by the `predict_prob`-method?"
   ]
  },
  {
   "cell_type": "code",
   "execution_count": 9,
   "id": "713ab8fc",
   "metadata": {
    "execution": {
     "iopub.execute_input": "2022-07-03T06:46:51.784292Z",
     "iopub.status.busy": "2022-07-03T06:46:51.783602Z",
     "iopub.status.idle": "2022-07-03T06:46:51.826512Z",
     "shell.execute_reply": "2022-07-03T06:46:51.825723Z"
    },
    "papermill": {
     "duration": 0.049489,
     "end_time": "2022-07-03T06:46:51.828641",
     "exception": false,
     "start_time": "2022-07-03T06:46:51.779152",
     "status": "completed"
    },
    "tags": []
   },
   "outputs": [
    {
     "name": "stdout",
     "output_type": "stream",
     "text": [
      " - Logging nr_max_prob_neq_label (int) : 2\n"
     ]
    }
   ],
   "source": [
    "import numpy as np\n",
    "\n",
    "y_train_labels = model.predict(X_train)\n",
    "y_train_probabilities = model.predict_proba(X_train)\n",
    "assert y_train_probabilities.shape == (len(y_train), 10)\n",
    "\n",
    "y_train_max_prob_labels = np.argmax(y_train_probabilities, axis=1)\n",
    "assert y_train_labels.shape == y_train_max_prob_labels.shape == y_train.shape\n",
    "\n",
    "# If the predicted labels would coincide with the labels that have\n",
    "# maximum probability, the below number would be zero\n",
    "logger.log_int(\n",
    "    \"nr_max_prob_neq_label\", int(sum(y_train_max_prob_labels != y_train_labels))\n",
    ")"
   ]
  },
  {
   "cell_type": "markdown",
   "id": "540e234a",
   "metadata": {
    "papermill": {
     "duration": 0.003983,
     "end_time": "2022-07-03T06:46:51.836623",
     "exception": false,
     "start_time": "2022-07-03T06:46:51.832640",
     "status": "completed"
    },
    "tags": []
   },
   "source": [
    "The explanation is (likely) explained in the SVC source, see\n",
    "[here](https://github.com/scikit-learn/scikit-learn/blob/main/sklearn/svm/_base.py).\n",
    "Namely, the outputs from `predict(..)` and `predict_proba(..)` may not in some\n",
    "cases be compatible since the latter is computed using cross-validation while\n",
    "the former is not. Thus, the above number need not be zero."
   ]
  },
  {
   "cell_type": "markdown",
   "id": "b5e90d37",
   "metadata": {
    "papermill": {
     "duration": 0.003725,
     "end_time": "2022-07-03T06:46:51.844291",
     "exception": false,
     "start_time": "2022-07-03T06:46:51.840566",
     "status": "completed"
    },
    "tags": []
   },
   "source": [
    "## Persist model"
   ]
  },
  {
   "cell_type": "code",
   "execution_count": 10,
   "id": "fb8f4414",
   "metadata": {
    "execution": {
     "iopub.execute_input": "2022-07-03T06:46:51.853631Z",
     "iopub.status.busy": "2022-07-03T06:46:51.852876Z",
     "iopub.status.idle": "2022-07-03T06:46:53.156069Z",
     "shell.execute_reply": "2022-07-03T06:46:53.155212Z"
    },
    "papermill": {
     "duration": 1.310132,
     "end_time": "2022-07-03T06:46:53.158138",
     "exception": false,
     "start_time": "2022-07-03T06:46:51.848006",
     "status": "completed"
    },
    "tags": []
   },
   "outputs": [],
   "source": [
    "from skl2onnx import convert_sklearn\n",
    "from skl2onnx.common.data_types import FloatTensorType\n",
    "\n",
    "#\n",
    "from common.io import datalake_root, write_onnx"
   ]
  },
  {
   "cell_type": "code",
   "execution_count": 11,
   "id": "ddddc626",
   "metadata": {
    "execution": {
     "iopub.execute_input": "2022-07-03T06:46:53.169089Z",
     "iopub.status.busy": "2022-07-03T06:46:53.168678Z",
     "iopub.status.idle": "2022-07-03T06:46:53.220132Z",
     "shell.execute_reply": "2022-07-03T06:46:53.219472Z"
    },
    "papermill": {
     "duration": 0.059471,
     "end_time": "2022-07-03T06:46:53.222372",
     "exception": false,
     "start_time": "2022-07-03T06:46:53.162901",
     "status": "completed"
    },
    "tags": []
   },
   "outputs": [],
   "source": [
    "# convert sklearn model into onnx and persist to data lake\n",
    "\n",
    "model_onnx = convert_sklearn(\n",
    "    model, initial_types=[(\"float_input_8x8_image\", FloatTensorType([None, 8 * 8]))]\n",
    ")\n",
    "write_onnx(\n",
    "    datalake_root(P)\n",
    "    / \"models\"\n",
    "    / f\"nr_train_images={P['task.nr_train_images']}\"\n",
    "    / \"model.onnx\",\n",
    "    model_onnx,\n",
    ")"
   ]
  },
  {
   "cell_type": "code",
   "execution_count": null,
   "id": "c9e6eaa9",
   "metadata": {
    "papermill": {
     "duration": 0.004252,
     "end_time": "2022-07-03T06:46:53.230783",
     "exception": false,
     "start_time": "2022-07-03T06:46:53.226531",
     "status": "completed"
    },
    "tags": []
   },
   "outputs": [],
   "source": []
  }
 ],
 "metadata": {
  "jupytext": {
   "cell_metadata_filter": "tags,-all",
   "main_language": "python",
   "notebook_metadata_filter": "-all"
  },
  "language_info": {
   "codemirror_mode": {
    "name": "ipython",
    "version": 3
   },
   "file_extension": ".py",
   "mimetype": "text/x-python",
   "name": "python",
   "nbconvert_exporter": "python",
   "pygments_lexer": "ipython3",
   "version": "3.8.10"
  },
  "papermill": {
   "default_parameters": {},
   "duration": 5.182538,
   "end_time": "2022-07-03T06:46:54.260871",
   "environment_variables": {},
   "exception": null,
   "input_path": "/home/host_user/workspace/mnist-demo-pipeline/mnist-demo-pipeline/notebooks/temp-notebook-ydom60ey.ipynb",
   "output_path": "notebooks/train-model.ipynb",
   "parameters": {
    "P": {
     "_opentelemetry_traceparent": "00-f66200069d2760d169bf34f103c126aa-838273c2d973164d-01",
     "pipeline.data_lake_root": "/pipeline-outputs/data-lake",
     "pipeline.github.actor": "matiasdahl",
     "pipeline.github.base_ref": "",
     "pipeline.github.event_name": "schedule",
     "pipeline.github.head_ref": "",
     "pipeline.github.job": "run-tests-pipeline-and-persist-pipeline-outputs",
     "pipeline.github.ref": "refs/heads/development",
     "pipeline.github.ref_name": "development",
     "pipeline.github.ref_type": "branch",
     "pipeline.github.repository": "pynb-dag-runner/mnist-digits-demo-pipeline",
     "pipeline.github.run_id": "2604161071",
     "pipeline.github.runner_name": "Hosted Agent",
     "pipeline.github.sha": "f934c58f68028b7bb026059d4e87e6d32a1bbd20",
     "pipeline.github.workflow": "Run automated tests, pipeline and deploy results to static reporting site",
     "pipeline.pipeline_run_id": "9333ec7b-6173-479f-a3d0-10ccbe360194",
     "pipeline.run_environment": "ci",
     "run.retry_nr": "0",
     "task.max_nr_retries": "1",
     "task.notebook": "notebooks/train-model.py",
     "task.nr_train_images": 600,
     "task.num_cpus": 1,
     "task.timeout_s": "None"
    }
   },
   "start_time": "2022-07-03T06:46:49.078333",
   "version": "2.3.3"
  }
 },
 "nbformat": 4,
 "nbformat_minor": 5
}