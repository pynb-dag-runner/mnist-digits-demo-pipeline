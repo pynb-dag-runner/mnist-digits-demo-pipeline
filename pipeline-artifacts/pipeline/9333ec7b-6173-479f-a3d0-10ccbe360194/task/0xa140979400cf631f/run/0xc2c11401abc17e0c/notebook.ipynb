{
 "cells": [
  {
   "cell_type": "markdown",
   "id": "c5d8f17f",
   "metadata": {
    "papermill": {
     "duration": 0.004702,
     "end_time": "2022-07-03T06:46:55.718917",
     "exception": false,
     "start_time": "2022-07-03T06:46:55.714215",
     "status": "completed"
    },
    "tags": []
   },
   "source": [
    "# Train model\n",
    "\n",
    "The purpose of this notebook is:\n",
    "\n",
    "- Load all training data (images and labels).\n",
    "- Limit number of train images to `task.nr_train_images` (value provided as run parameter).\n",
    "- Train a support vector machine model using sklearn.\n",
    "- Persist the trained model using the ONNX format."
   ]
  },
  {
   "cell_type": "markdown",
   "id": "012bef5c",
   "metadata": {
    "papermill": {
     "duration": 0.003353,
     "end_time": "2022-07-03T06:46:55.726407",
     "exception": false,
     "start_time": "2022-07-03T06:46:55.723054",
     "status": "completed"
    },
    "tags": []
   },
   "source": [
    "### Determine run parameters"
   ]
  },
  {
   "cell_type": "code",
   "execution_count": 1,
   "id": "afce9861",
   "metadata": {
    "execution": {
     "iopub.execute_input": "2022-07-03T06:46:55.736136Z",
     "iopub.status.busy": "2022-07-03T06:46:55.735783Z",
     "iopub.status.idle": "2022-07-03T06:46:55.747940Z",
     "shell.execute_reply": "2022-07-03T06:46:55.747143Z"
    },
    "lines_to_next_cell": 0,
    "papermill": {
     "duration": 0.020488,
     "end_time": "2022-07-03T06:46:55.750255",
     "exception": false,
     "start_time": "2022-07-03T06:46:55.729767",
     "status": "completed"
    },
    "tags": []
   },
   "outputs": [],
   "source": [
    "# ----------------- Parameters for interactive development --------------\n",
    "P = {\n",
    "    \"pipeline.data_lake_root\": \"/pipeline-outputs/data-lake\",\n",
    "    \"task.nr_train_images\": 600,\n",
    "}"
   ]
  },
  {
   "cell_type": "code",
   "execution_count": 2,
   "id": "25e5f9dc",
   "metadata": {
    "execution": {
     "iopub.execute_input": "2022-07-03T06:46:55.758931Z",
     "iopub.status.busy": "2022-07-03T06:46:55.758682Z",
     "iopub.status.idle": "2022-07-03T06:46:55.762599Z",
     "shell.execute_reply": "2022-07-03T06:46:55.762007Z"
    },
    "lines_to_next_cell": 0,
    "papermill": {
     "duration": 0.011346,
     "end_time": "2022-07-03T06:46:55.765407",
     "exception": false,
     "start_time": "2022-07-03T06:46:55.754061",
     "status": "completed"
    },
    "tags": [
     "parameters"
    ]
   },
   "outputs": [],
   "source": [
    "# - During automated runs parameters will be injected in the below cell -"
   ]
  },
  {
   "cell_type": "code",
   "execution_count": 3,
   "id": "5fcc3cb6",
   "metadata": {
    "execution": {
     "iopub.execute_input": "2022-07-03T06:46:55.774035Z",
     "iopub.status.busy": "2022-07-03T06:46:55.773749Z",
     "iopub.status.idle": "2022-07-03T06:46:55.778800Z",
     "shell.execute_reply": "2022-07-03T06:46:55.778157Z"
    },
    "papermill": {
     "duration": 0.013736,
     "end_time": "2022-07-03T06:46:55.782398",
     "exception": false,
     "start_time": "2022-07-03T06:46:55.768662",
     "status": "completed"
    },
    "tags": [
     "injected-parameters"
    ]
   },
   "outputs": [],
   "source": [
    "# Parameters\n",
    "P = {\n",
    "    \"pipeline.data_lake_root\": \"/pipeline-outputs/data-lake\",\n",
    "    \"pipeline.run_environment\": \"ci\",\n",
    "    \"pipeline.pipeline_run_id\": \"9333ec7b-6173-479f-a3d0-10ccbe360194\",\n",
    "    \"pipeline.github.repository\": \"pynb-dag-runner/mnist-digits-demo-pipeline\",\n",
    "    \"pipeline.github.workflow\": \"Run automated tests, pipeline and deploy results to static reporting site\",\n",
    "    \"pipeline.github.runner_name\": \"Hosted Agent\",\n",
    "    \"pipeline.github.run_id\": \"2604161071\",\n",
    "    \"pipeline.github.actor\": \"matiasdahl\",\n",
    "    \"pipeline.github.job\": \"run-tests-pipeline-and-persist-pipeline-outputs\",\n",
    "    \"pipeline.github.base_ref\": \"\",\n",
    "    \"pipeline.github.head_ref\": \"\",\n",
    "    \"pipeline.github.sha\": \"f934c58f68028b7bb026059d4e87e6d32a1bbd20\",\n",
    "    \"pipeline.github.ref\": \"refs/heads/development\",\n",
    "    \"pipeline.github.ref_type\": \"branch\",\n",
    "    \"pipeline.github.ref_name\": \"development\",\n",
    "    \"pipeline.github.event_name\": \"schedule\",\n",
    "    \"task.nr_train_images\": 1200,\n",
    "    \"task.notebook\": \"notebooks/train-model.py\",\n",
    "    \"task.max_nr_retries\": \"1\",\n",
    "    \"run.retry_nr\": \"0\",\n",
    "    \"task.timeout_s\": \"None\",\n",
    "    \"task.num_cpus\": 1,\n",
    "    \"_opentelemetry_traceparent\": \"00-f66200069d2760d169bf34f103c126aa-6c85e623b3b71793-01\",\n",
    "}\n"
   ]
  },
  {
   "cell_type": "code",
   "execution_count": 4,
   "id": "83b986f2",
   "metadata": {
    "execution": {
     "iopub.execute_input": "2022-07-03T06:46:55.798047Z",
     "iopub.status.busy": "2022-07-03T06:46:55.797767Z",
     "iopub.status.idle": "2022-07-03T06:46:55.800930Z",
     "shell.execute_reply": "2022-07-03T06:46:55.800337Z"
    },
    "lines_to_next_cell": 0,
    "papermill": {
     "duration": 0.011257,
     "end_time": "2022-07-03T06:46:55.804877",
     "exception": false,
     "start_time": "2022-07-03T06:46:55.793620",
     "status": "completed"
    },
    "tags": []
   },
   "outputs": [],
   "source": [
    "# -----------------------------------------------------------------------"
   ]
  },
  {
   "cell_type": "markdown",
   "id": "ee1cf91e",
   "metadata": {
    "papermill": {
     "duration": 0.004335,
     "end_time": "2022-07-03T06:46:55.813664",
     "exception": false,
     "start_time": "2022-07-03T06:46:55.809329",
     "status": "completed"
    },
    "tags": []
   },
   "source": [
    "---"
   ]
  },
  {
   "cell_type": "markdown",
   "id": "a48a3374",
   "metadata": {
    "lines_to_next_cell": 2,
    "papermill": {
     "duration": 0.003333,
     "end_time": "2022-07-03T06:46:55.820097",
     "exception": false,
     "start_time": "2022-07-03T06:46:55.816764",
     "status": "completed"
    },
    "tags": []
   },
   "source": [
    "### Notebook code"
   ]
  },
  {
   "cell_type": "code",
   "execution_count": 5,
   "id": "af1be48a",
   "metadata": {
    "execution": {
     "iopub.execute_input": "2022-07-03T06:46:55.828899Z",
     "iopub.status.busy": "2022-07-03T06:46:55.828628Z",
     "iopub.status.idle": "2022-07-03T06:46:56.405815Z",
     "shell.execute_reply": "2022-07-03T06:46:56.404594Z"
    },
    "papermill": {
     "duration": 0.584303,
     "end_time": "2022-07-03T06:46:56.408346",
     "exception": false,
     "start_time": "2022-07-03T06:46:55.824043",
     "status": "completed"
    },
    "tags": []
   },
   "outputs": [
    {
     "name": "stderr",
     "output_type": "stream",
     "text": [
      "2022-07-03 06:46:56,220\tINFO worker.py:842 -- Connecting to existing Ray cluster at address: 172.17.0.2:6379\n"
     ]
    }
   ],
   "source": [
    "from pynb_dag_runner.tasks.task_opentelemetry_logging import PydarLogger\n",
    "\n",
    "logger = PydarLogger(P)"
   ]
  },
  {
   "cell_type": "markdown",
   "id": "5aa53fe1",
   "metadata": {
    "papermill": {
     "duration": 0.003421,
     "end_time": "2022-07-03T06:46:56.416455",
     "exception": false,
     "start_time": "2022-07-03T06:46:56.413034",
     "status": "completed"
    },
    "tags": []
   },
   "source": [
    "## Load and limit train data"
   ]
  },
  {
   "cell_type": "code",
   "execution_count": 6,
   "id": "2eac51bd",
   "metadata": {
    "execution": {
     "iopub.execute_input": "2022-07-03T06:46:56.426057Z",
     "iopub.status.busy": "2022-07-03T06:46:56.425584Z",
     "iopub.status.idle": "2022-07-03T06:46:56.909521Z",
     "shell.execute_reply": "2022-07-03T06:46:56.908521Z"
    },
    "papermill": {
     "duration": 0.491081,
     "end_time": "2022-07-03T06:46:56.911677",
     "exception": false,
     "start_time": "2022-07-03T06:46:56.420596",
     "status": "completed"
    },
    "tags": []
   },
   "outputs": [],
   "source": [
    "def load_and_limit_train_data(P):\n",
    "    from common.io import datalake_root, read_numpy\n",
    "    from sklearn.model_selection import train_test_split\n",
    "\n",
    "    X_train_all = read_numpy(datalake_root(P) / \"train-data\" / \"digits.numpy\")\n",
    "    y_train_all = read_numpy(datalake_root(P) / \"train-data\" / \"labels.numpy\")\n",
    "\n",
    "    assert isinstance(P[\"task.nr_train_images\"], int)\n",
    "\n",
    "    # Note: train_test_split will fail if split is 0 or 100%.\n",
    "    assert 0 < P[\"task.nr_train_images\"] < len(y_train_all)\n",
    "\n",
    "    X_train, _, y_train, _ = train_test_split(\n",
    "        X_train_all,\n",
    "        y_train_all,\n",
    "        train_size=P[\"task.nr_train_images\"],\n",
    "        test_size=None,\n",
    "        stratify=y_train_all,\n",
    "        shuffle=True,\n",
    "        random_state=123,\n",
    "    )\n",
    "\n",
    "    assert X_train.shape == (len(y_train), 8 * 8)\n",
    "    return X_train, y_train\n",
    "\n",
    "\n",
    "X_train, y_train = load_and_limit_train_data(P)"
   ]
  },
  {
   "cell_type": "markdown",
   "id": "21fd2d01",
   "metadata": {
    "papermill": {
     "duration": 0.003391,
     "end_time": "2022-07-03T06:46:56.918896",
     "exception": false,
     "start_time": "2022-07-03T06:46:56.915505",
     "status": "completed"
    },
    "tags": []
   },
   "source": [
    "## Train support vector classifier model\n",
    "\n",
    "Below we assume that the hyperparameter $C$ is known.\n",
    "\n",
    "However, this should ideally be found by a hyperparameter search. That could be\n",
    "done in parallel on the Ray cluster, but this needs some more work. Ie., to use\n",
    "multiple cores in the notebook, those cores should be reserved when starting the\n",
    "notebook task (TODO).\n",
    "\n",
    "- https://docs.ray.io/en/latest/tune/key-concepts.html\n",
    "\n",
    "Note: cv-scores would need to be computed here, since they depend on the train data.\n",
    "After this notebook only the onnx-model is available."
   ]
  },
  {
   "cell_type": "code",
   "execution_count": 7,
   "id": "a5580eaf",
   "metadata": {
    "execution": {
     "iopub.execute_input": "2022-07-03T06:46:56.928810Z",
     "iopub.status.busy": "2022-07-03T06:46:56.928266Z",
     "iopub.status.idle": "2022-07-03T06:46:56.951287Z",
     "shell.execute_reply": "2022-07-03T06:46:56.950531Z"
    },
    "papermill": {
     "duration": 0.030748,
     "end_time": "2022-07-03T06:46:56.952947",
     "exception": false,
     "start_time": "2022-07-03T06:46:56.922199",
     "status": "completed"
    },
    "tags": []
   },
   "outputs": [],
   "source": [
    "from sklearn.svm import SVC"
   ]
  },
  {
   "cell_type": "code",
   "execution_count": 8,
   "id": "5804ec31",
   "metadata": {
    "execution": {
     "iopub.execute_input": "2022-07-03T06:46:56.961454Z",
     "iopub.status.busy": "2022-07-03T06:46:56.961159Z",
     "iopub.status.idle": "2022-07-03T06:46:57.227672Z",
     "shell.execute_reply": "2022-07-03T06:46:57.226783Z"
    },
    "papermill": {
     "duration": 0.272924,
     "end_time": "2022-07-03T06:46:57.229717",
     "exception": false,
     "start_time": "2022-07-03T06:46:56.956793",
     "status": "completed"
    },
    "tags": []
   },
   "outputs": [
    {
     "data": {
      "text/plain": [
       "SVC(C=0.001, kernel='linear', probability=True)"
      ]
     },
     "execution_count": 8,
     "metadata": {},
     "output_type": "execute_result"
    }
   ],
   "source": [
    "model = SVC(C=0.001, kernel=\"linear\", probability=True)\n",
    "\n",
    "model.fit(X_train, y_train)"
   ]
  },
  {
   "cell_type": "markdown",
   "id": "143d3d10",
   "metadata": {
    "papermill": {
     "duration": 0.00463,
     "end_time": "2022-07-03T06:46:57.238426",
     "exception": false,
     "start_time": "2022-07-03T06:46:57.233796",
     "status": "completed"
    },
    "tags": []
   },
   "source": [
    "### Q: Can the labels returned by `predict(..)` be computed from probabilities returned by the `predict_prob`-method?"
   ]
  },
  {
   "cell_type": "code",
   "execution_count": 9,
   "id": "e473198b",
   "metadata": {
    "execution": {
     "iopub.execute_input": "2022-07-03T06:46:57.248083Z",
     "iopub.status.busy": "2022-07-03T06:46:57.247525Z",
     "iopub.status.idle": "2022-07-03T06:46:57.394186Z",
     "shell.execute_reply": "2022-07-03T06:46:57.393307Z"
    },
    "papermill": {
     "duration": 0.154378,
     "end_time": "2022-07-03T06:46:57.396289",
     "exception": false,
     "start_time": "2022-07-03T06:46:57.241911",
     "status": "completed"
    },
    "tags": []
   },
   "outputs": [
    {
     "name": "stdout",
     "output_type": "stream",
     "text": [
      " - Logging nr_max_prob_neq_label (int) : 3\n"
     ]
    }
   ],
   "source": [
    "import numpy as np\n",
    "\n",
    "y_train_labels = model.predict(X_train)\n",
    "y_train_probabilities = model.predict_proba(X_train)\n",
    "assert y_train_probabilities.shape == (len(y_train), 10)\n",
    "\n",
    "y_train_max_prob_labels = np.argmax(y_train_probabilities, axis=1)\n",
    "assert y_train_labels.shape == y_train_max_prob_labels.shape == y_train.shape\n",
    "\n",
    "# If the predicted labels would coincide with the labels that have\n",
    "# maximum probability, the below number would be zero\n",
    "logger.log_int(\n",
    "    \"nr_max_prob_neq_label\", int(sum(y_train_max_prob_labels != y_train_labels))\n",
    ")"
   ]
  },
  {
   "cell_type": "markdown",
   "id": "e74ec627",
   "metadata": {
    "papermill": {
     "duration": 0.003869,
     "end_time": "2022-07-03T06:46:57.404763",
     "exception": false,
     "start_time": "2022-07-03T06:46:57.400894",
     "status": "completed"
    },
    "tags": []
   },
   "source": [
    "The explanation is (likely) explained in the SVC source, see\n",
    "[here](https://github.com/scikit-learn/scikit-learn/blob/main/sklearn/svm/_base.py).\n",
    "Namely, the outputs from `predict(..)` and `predict_proba(..)` may not in some\n",
    "cases be compatible since the latter is computed using cross-validation while\n",
    "the former is not. Thus, the above number need not be zero."
   ]
  },
  {
   "cell_type": "markdown",
   "id": "bdc11fc6",
   "metadata": {
    "papermill": {
     "duration": 0.004501,
     "end_time": "2022-07-03T06:46:57.413633",
     "exception": false,
     "start_time": "2022-07-03T06:46:57.409132",
     "status": "completed"
    },
    "tags": []
   },
   "source": [
    "## Persist model"
   ]
  },
  {
   "cell_type": "code",
   "execution_count": 10,
   "id": "4319adee",
   "metadata": {
    "execution": {
     "iopub.execute_input": "2022-07-03T06:46:57.422928Z",
     "iopub.status.busy": "2022-07-03T06:46:57.422560Z",
     "iopub.status.idle": "2022-07-03T06:46:58.355435Z",
     "shell.execute_reply": "2022-07-03T06:46:58.354609Z"
    },
    "papermill": {
     "duration": 0.940257,
     "end_time": "2022-07-03T06:46:58.357614",
     "exception": false,
     "start_time": "2022-07-03T06:46:57.417357",
     "status": "completed"
    },
    "tags": []
   },
   "outputs": [],
   "source": [
    "from skl2onnx import convert_sklearn\n",
    "from skl2onnx.common.data_types import FloatTensorType\n",
    "\n",
    "#\n",
    "from common.io import datalake_root, write_onnx"
   ]
  },
  {
   "cell_type": "code",
   "execution_count": 11,
   "id": "52a9d4cf",
   "metadata": {
    "execution": {
     "iopub.execute_input": "2022-07-03T06:46:58.367644Z",
     "iopub.status.busy": "2022-07-03T06:46:58.367103Z",
     "iopub.status.idle": "2022-07-03T06:46:58.438026Z",
     "shell.execute_reply": "2022-07-03T06:46:58.437240Z"
    },
    "papermill": {
     "duration": 0.078294,
     "end_time": "2022-07-03T06:46:58.439904",
     "exception": false,
     "start_time": "2022-07-03T06:46:58.361610",
     "status": "completed"
    },
    "tags": []
   },
   "outputs": [],
   "source": [
    "# convert sklearn model into onnx and persist to data lake\n",
    "\n",
    "model_onnx = convert_sklearn(\n",
    "    model, initial_types=[(\"float_input_8x8_image\", FloatTensorType([None, 8 * 8]))]\n",
    ")\n",
    "write_onnx(\n",
    "    datalake_root(P)\n",
    "    / \"models\"\n",
    "    / f\"nr_train_images={P['task.nr_train_images']}\"\n",
    "    / \"model.onnx\",\n",
    "    model_onnx,\n",
    ")"
   ]
  },
  {
   "cell_type": "code",
   "execution_count": null,
   "id": "b9b20c48",
   "metadata": {
    "papermill": {
     "duration": 0.004148,
     "end_time": "2022-07-03T06:46:58.448246",
     "exception": false,
     "start_time": "2022-07-03T06:46:58.444098",
     "status": "completed"
    },
    "tags": []
   },
   "outputs": [],
   "source": []
  }
 ],
 "metadata": {
  "jupytext": {
   "cell_metadata_filter": "tags,-all",
   "main_language": "python",
   "notebook_metadata_filter": "-all"
  },
  "language_info": {
   "codemirror_mode": {
    "name": "ipython",
    "version": 3
   },
   "file_extension": ".py",
   "mimetype": "text/x-python",
   "name": "python",
   "nbconvert_exporter": "python",
   "pygments_lexer": "ipython3",
   "version": "3.8.10"
  },
  "papermill": {
   "default_parameters": {},
   "duration": 5.084696,
   "end_time": "2022-07-03T06:46:59.478328",
   "environment_variables": {},
   "exception": null,
   "input_path": "/home/host_user/workspace/mnist-demo-pipeline/mnist-demo-pipeline/notebooks/temp-notebook-n3m9zx88.ipynb",
   "output_path": "notebooks/train-model.ipynb",
   "parameters": {
    "P": {
     "_opentelemetry_traceparent": "00-f66200069d2760d169bf34f103c126aa-6c85e623b3b71793-01",
     "pipeline.data_lake_root": "/pipeline-outputs/data-lake",
     "pipeline.github.actor": "matiasdahl",
     "pipeline.github.base_ref": "",
     "pipeline.github.event_name": "schedule",
     "pipeline.github.head_ref": "",
     "pipeline.github.job": "run-tests-pipeline-and-persist-pipeline-outputs",
     "pipeline.github.ref": "refs/heads/development",
     "pipeline.github.ref_name": "development",
     "pipeline.github.ref_type": "branch",
     "pipeline.github.repository": "pynb-dag-runner/mnist-digits-demo-pipeline",
     "pipeline.github.run_id": "2604161071",
     "pipeline.github.runner_name": "Hosted Agent",
     "pipeline.github.sha": "f934c58f68028b7bb026059d4e87e6d32a1bbd20",
     "pipeline.github.workflow": "Run automated tests, pipeline and deploy results to static reporting site",
     "pipeline.pipeline_run_id": "9333ec7b-6173-479f-a3d0-10ccbe360194",
     "pipeline.run_environment": "ci",
     "run.retry_nr": "0",
     "task.max_nr_retries": "1",
     "task.notebook": "notebooks/train-model.py",
     "task.nr_train_images": 1200,
     "task.num_cpus": 1,
     "task.timeout_s": "None"
    }
   },
   "start_time": "2022-07-03T06:46:54.393632",
   "version": "2.3.3"
  }
 },
 "nbformat": 4,
 "nbformat_minor": 5
}