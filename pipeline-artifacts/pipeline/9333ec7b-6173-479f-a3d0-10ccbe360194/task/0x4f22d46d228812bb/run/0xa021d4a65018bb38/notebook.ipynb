{
 "cells": [
  {
   "cell_type": "markdown",
   "id": "77438c6e",
   "metadata": {
    "papermill": {
     "duration": 0.005457,
     "end_time": "2022-07-03T06:46:48.881802",
     "exception": false,
     "start_time": "2022-07-03T06:46:48.876345",
     "status": "completed"
    },
    "tags": []
   },
   "source": [
    "# Train model\n",
    "\n",
    "The purpose of this notebook is:\n",
    "\n",
    "- Load all training data (images and labels).\n",
    "- Limit number of train images to `task.nr_train_images` (value provided as run parameter).\n",
    "- Train a support vector machine model using sklearn.\n",
    "- Persist the trained model using the ONNX format."
   ]
  },
  {
   "cell_type": "markdown",
   "id": "64715ee0",
   "metadata": {
    "papermill": {
     "duration": 0.004511,
     "end_time": "2022-07-03T06:46:48.890033",
     "exception": false,
     "start_time": "2022-07-03T06:46:48.885522",
     "status": "completed"
    },
    "tags": []
   },
   "source": [
    "### Determine run parameters"
   ]
  },
  {
   "cell_type": "code",
   "execution_count": 1,
   "id": "21119b3b",
   "metadata": {
    "execution": {
     "iopub.execute_input": "2022-07-03T06:46:48.906397Z",
     "iopub.status.busy": "2022-07-03T06:46:48.906027Z",
     "iopub.status.idle": "2022-07-03T06:46:48.917546Z",
     "shell.execute_reply": "2022-07-03T06:46:48.916948Z"
    },
    "lines_to_next_cell": 0,
    "papermill": {
     "duration": 0.01902,
     "end_time": "2022-07-03T06:46:48.920614",
     "exception": false,
     "start_time": "2022-07-03T06:46:48.901594",
     "status": "completed"
    },
    "tags": []
   },
   "outputs": [],
   "source": [
    "# ----------------- Parameters for interactive development --------------\n",
    "P = {\n",
    "    \"pipeline.data_lake_root\": \"/pipeline-outputs/data-lake\",\n",
    "    \"task.nr_train_images\": 600,\n",
    "}"
   ]
  },
  {
   "cell_type": "code",
   "execution_count": 2,
   "id": "1075f581",
   "metadata": {
    "execution": {
     "iopub.execute_input": "2022-07-03T06:46:48.928665Z",
     "iopub.status.busy": "2022-07-03T06:46:48.928396Z",
     "iopub.status.idle": "2022-07-03T06:46:48.932494Z",
     "shell.execute_reply": "2022-07-03T06:46:48.931850Z"
    },
    "lines_to_next_cell": 0,
    "papermill": {
     "duration": 0.011194,
     "end_time": "2022-07-03T06:46:48.935502",
     "exception": false,
     "start_time": "2022-07-03T06:46:48.924308",
     "status": "completed"
    },
    "tags": [
     "parameters"
    ]
   },
   "outputs": [],
   "source": [
    "# - During automated runs parameters will be injected in the below cell -"
   ]
  },
  {
   "cell_type": "code",
   "execution_count": 3,
   "id": "37382f96",
   "metadata": {
    "execution": {
     "iopub.execute_input": "2022-07-03T06:46:48.944303Z",
     "iopub.status.busy": "2022-07-03T06:46:48.944066Z",
     "iopub.status.idle": "2022-07-03T06:46:48.948805Z",
     "shell.execute_reply": "2022-07-03T06:46:48.948236Z"
    },
    "papermill": {
     "duration": 0.014129,
     "end_time": "2022-07-03T06:46:48.953093",
     "exception": false,
     "start_time": "2022-07-03T06:46:48.938964",
     "status": "completed"
    },
    "tags": [
     "injected-parameters"
    ]
   },
   "outputs": [],
   "source": [
    "# Parameters\n",
    "P = {\n",
    "    \"pipeline.data_lake_root\": \"/pipeline-outputs/data-lake\",\n",
    "    \"pipeline.run_environment\": \"ci\",\n",
    "    \"pipeline.pipeline_run_id\": \"9333ec7b-6173-479f-a3d0-10ccbe360194\",\n",
    "    \"pipeline.github.repository\": \"pynb-dag-runner/mnist-digits-demo-pipeline\",\n",
    "    \"pipeline.github.workflow\": \"Run automated tests, pipeline and deploy results to static reporting site\",\n",
    "    \"pipeline.github.runner_name\": \"Hosted Agent\",\n",
    "    \"pipeline.github.run_id\": \"2604161071\",\n",
    "    \"pipeline.github.actor\": \"matiasdahl\",\n",
    "    \"pipeline.github.job\": \"run-tests-pipeline-and-persist-pipeline-outputs\",\n",
    "    \"pipeline.github.base_ref\": \"\",\n",
    "    \"pipeline.github.head_ref\": \"\",\n",
    "    \"pipeline.github.sha\": \"f934c58f68028b7bb026059d4e87e6d32a1bbd20\",\n",
    "    \"pipeline.github.ref\": \"refs/heads/development\",\n",
    "    \"pipeline.github.ref_type\": \"branch\",\n",
    "    \"pipeline.github.ref_name\": \"development\",\n",
    "    \"pipeline.github.event_name\": \"schedule\",\n",
    "    \"task.nr_train_images\": 1000,\n",
    "    \"task.notebook\": \"notebooks/train-model.py\",\n",
    "    \"task.max_nr_retries\": \"1\",\n",
    "    \"run.retry_nr\": \"0\",\n",
    "    \"task.timeout_s\": \"None\",\n",
    "    \"task.num_cpus\": 1,\n",
    "    \"_opentelemetry_traceparent\": \"00-f66200069d2760d169bf34f103c126aa-bc414030b8c13288-01\",\n",
    "}\n"
   ]
  },
  {
   "cell_type": "code",
   "execution_count": 4,
   "id": "795e0c8f",
   "metadata": {
    "execution": {
     "iopub.execute_input": "2022-07-03T06:46:48.960540Z",
     "iopub.status.busy": "2022-07-03T06:46:48.960270Z",
     "iopub.status.idle": "2022-07-03T06:46:48.964027Z",
     "shell.execute_reply": "2022-07-03T06:46:48.963416Z"
    },
    "lines_to_next_cell": 0,
    "papermill": {
     "duration": 0.012638,
     "end_time": "2022-07-03T06:46:48.968870",
     "exception": false,
     "start_time": "2022-07-03T06:46:48.956232",
     "status": "completed"
    },
    "tags": []
   },
   "outputs": [],
   "source": [
    "# -----------------------------------------------------------------------"
   ]
  },
  {
   "cell_type": "markdown",
   "id": "c3e4e2a6",
   "metadata": {
    "papermill": {
     "duration": 0.003479,
     "end_time": "2022-07-03T06:46:48.976611",
     "exception": false,
     "start_time": "2022-07-03T06:46:48.973132",
     "status": "completed"
    },
    "tags": []
   },
   "source": [
    "---"
   ]
  },
  {
   "cell_type": "markdown",
   "id": "49072bbf",
   "metadata": {
    "lines_to_next_cell": 2,
    "papermill": {
     "duration": 0.003885,
     "end_time": "2022-07-03T06:46:48.983577",
     "exception": false,
     "start_time": "2022-07-03T06:46:48.979692",
     "status": "completed"
    },
    "tags": []
   },
   "source": [
    "### Notebook code"
   ]
  },
  {
   "cell_type": "code",
   "execution_count": 5,
   "id": "b9552228",
   "metadata": {
    "execution": {
     "iopub.execute_input": "2022-07-03T06:46:48.991651Z",
     "iopub.status.busy": "2022-07-03T06:46:48.991402Z",
     "iopub.status.idle": "2022-07-03T06:46:49.571317Z",
     "shell.execute_reply": "2022-07-03T06:46:49.570528Z"
    },
    "papermill": {
     "duration": 0.586683,
     "end_time": "2022-07-03T06:46:49.573652",
     "exception": false,
     "start_time": "2022-07-03T06:46:48.986969",
     "status": "completed"
    },
    "tags": []
   },
   "outputs": [
    {
     "name": "stderr",
     "output_type": "stream",
     "text": [
      "2022-07-03 06:46:49,378\tINFO worker.py:842 -- Connecting to existing Ray cluster at address: 172.17.0.2:6379\n"
     ]
    }
   ],
   "source": [
    "from pynb_dag_runner.tasks.task_opentelemetry_logging import PydarLogger\n",
    "\n",
    "logger = PydarLogger(P)"
   ]
  },
  {
   "cell_type": "markdown",
   "id": "4d1d7ae9",
   "metadata": {
    "papermill": {
     "duration": 0.004029,
     "end_time": "2022-07-03T06:46:49.581262",
     "exception": false,
     "start_time": "2022-07-03T06:46:49.577233",
     "status": "completed"
    },
    "tags": []
   },
   "source": [
    "## Load and limit train data"
   ]
  },
  {
   "cell_type": "code",
   "execution_count": 6,
   "id": "837120e6",
   "metadata": {
    "execution": {
     "iopub.execute_input": "2022-07-03T06:46:49.590213Z",
     "iopub.status.busy": "2022-07-03T06:46:49.589224Z",
     "iopub.status.idle": "2022-07-03T06:46:50.000617Z",
     "shell.execute_reply": "2022-07-03T06:46:49.999839Z"
    },
    "papermill": {
     "duration": 0.418211,
     "end_time": "2022-07-03T06:46:50.002878",
     "exception": false,
     "start_time": "2022-07-03T06:46:49.584667",
     "status": "completed"
    },
    "tags": []
   },
   "outputs": [],
   "source": [
    "def load_and_limit_train_data(P):\n",
    "    from common.io import datalake_root, read_numpy\n",
    "    from sklearn.model_selection import train_test_split\n",
    "\n",
    "    X_train_all = read_numpy(datalake_root(P) / \"train-data\" / \"digits.numpy\")\n",
    "    y_train_all = read_numpy(datalake_root(P) / \"train-data\" / \"labels.numpy\")\n",
    "\n",
    "    assert isinstance(P[\"task.nr_train_images\"], int)\n",
    "\n",
    "    # Note: train_test_split will fail if split is 0 or 100%.\n",
    "    assert 0 < P[\"task.nr_train_images\"] < len(y_train_all)\n",
    "\n",
    "    X_train, _, y_train, _ = train_test_split(\n",
    "        X_train_all,\n",
    "        y_train_all,\n",
    "        train_size=P[\"task.nr_train_images\"],\n",
    "        test_size=None,\n",
    "        stratify=y_train_all,\n",
    "        shuffle=True,\n",
    "        random_state=123,\n",
    "    )\n",
    "\n",
    "    assert X_train.shape == (len(y_train), 8 * 8)\n",
    "    return X_train, y_train\n",
    "\n",
    "\n",
    "X_train, y_train = load_and_limit_train_data(P)"
   ]
  },
  {
   "cell_type": "markdown",
   "id": "911d562e",
   "metadata": {
    "papermill": {
     "duration": 0.003731,
     "end_time": "2022-07-03T06:46:50.010228",
     "exception": false,
     "start_time": "2022-07-03T06:46:50.006497",
     "status": "completed"
    },
    "tags": []
   },
   "source": [
    "## Train support vector classifier model\n",
    "\n",
    "Below we assume that the hyperparameter $C$ is known.\n",
    "\n",
    "However, this should ideally be found by a hyperparameter search. That could be\n",
    "done in parallel on the Ray cluster, but this needs some more work. Ie., to use\n",
    "multiple cores in the notebook, those cores should be reserved when starting the\n",
    "notebook task (TODO).\n",
    "\n",
    "- https://docs.ray.io/en/latest/tune/key-concepts.html\n",
    "\n",
    "Note: cv-scores would need to be computed here, since they depend on the train data.\n",
    "After this notebook only the onnx-model is available."
   ]
  },
  {
   "cell_type": "code",
   "execution_count": 7,
   "id": "ba62f27e",
   "metadata": {
    "execution": {
     "iopub.execute_input": "2022-07-03T06:46:50.019825Z",
     "iopub.status.busy": "2022-07-03T06:46:50.019548Z",
     "iopub.status.idle": "2022-07-03T06:46:50.043542Z",
     "shell.execute_reply": "2022-07-03T06:46:50.042925Z"
    },
    "papermill": {
     "duration": 0.031646,
     "end_time": "2022-07-03T06:46:50.045356",
     "exception": false,
     "start_time": "2022-07-03T06:46:50.013710",
     "status": "completed"
    },
    "tags": []
   },
   "outputs": [],
   "source": [
    "from sklearn.svm import SVC"
   ]
  },
  {
   "cell_type": "code",
   "execution_count": 8,
   "id": "4830b2c8",
   "metadata": {
    "execution": {
     "iopub.execute_input": "2022-07-03T06:46:50.054143Z",
     "iopub.status.busy": "2022-07-03T06:46:50.053653Z",
     "iopub.status.idle": "2022-07-03T06:46:50.250376Z",
     "shell.execute_reply": "2022-07-03T06:46:50.249521Z"
    },
    "papermill": {
     "duration": 0.203335,
     "end_time": "2022-07-03T06:46:50.252201",
     "exception": false,
     "start_time": "2022-07-03T06:46:50.048866",
     "status": "completed"
    },
    "tags": []
   },
   "outputs": [
    {
     "data": {
      "text/plain": [
       "SVC(C=0.001, kernel='linear', probability=True)"
      ]
     },
     "execution_count": 8,
     "metadata": {},
     "output_type": "execute_result"
    }
   ],
   "source": [
    "model = SVC(C=0.001, kernel=\"linear\", probability=True)\n",
    "\n",
    "model.fit(X_train, y_train)"
   ]
  },
  {
   "cell_type": "markdown",
   "id": "a6882c57",
   "metadata": {
    "papermill": {
     "duration": 0.003669,
     "end_time": "2022-07-03T06:46:50.259910",
     "exception": false,
     "start_time": "2022-07-03T06:46:50.256241",
     "status": "completed"
    },
    "tags": []
   },
   "source": [
    "### Q: Can the labels returned by `predict(..)` be computed from probabilities returned by the `predict_prob`-method?"
   ]
  },
  {
   "cell_type": "code",
   "execution_count": 9,
   "id": "cdc46e2a",
   "metadata": {
    "execution": {
     "iopub.execute_input": "2022-07-03T06:46:50.274759Z",
     "iopub.status.busy": "2022-07-03T06:46:50.274341Z",
     "iopub.status.idle": "2022-07-03T06:46:50.359196Z",
     "shell.execute_reply": "2022-07-03T06:46:50.358303Z"
    },
    "papermill": {
     "duration": 0.097593,
     "end_time": "2022-07-03T06:46:50.361108",
     "exception": false,
     "start_time": "2022-07-03T06:46:50.263515",
     "status": "completed"
    },
    "tags": []
   },
   "outputs": [
    {
     "name": "stdout",
     "output_type": "stream",
     "text": [
      " - Logging nr_max_prob_neq_label (int) : 2\n"
     ]
    }
   ],
   "source": [
    "import numpy as np\n",
    "\n",
    "y_train_labels = model.predict(X_train)\n",
    "y_train_probabilities = model.predict_proba(X_train)\n",
    "assert y_train_probabilities.shape == (len(y_train), 10)\n",
    "\n",
    "y_train_max_prob_labels = np.argmax(y_train_probabilities, axis=1)\n",
    "assert y_train_labels.shape == y_train_max_prob_labels.shape == y_train.shape\n",
    "\n",
    "# If the predicted labels would coincide with the labels that have\n",
    "# maximum probability, the below number would be zero\n",
    "logger.log_int(\n",
    "    \"nr_max_prob_neq_label\", int(sum(y_train_max_prob_labels != y_train_labels))\n",
    ")"
   ]
  },
  {
   "cell_type": "markdown",
   "id": "4ae33efb",
   "metadata": {
    "papermill": {
     "duration": 0.003531,
     "end_time": "2022-07-03T06:46:50.368610",
     "exception": false,
     "start_time": "2022-07-03T06:46:50.365079",
     "status": "completed"
    },
    "tags": []
   },
   "source": [
    "The explanation is (likely) explained in the SVC source, see\n",
    "[here](https://github.com/scikit-learn/scikit-learn/blob/main/sklearn/svm/_base.py).\n",
    "Namely, the outputs from `predict(..)` and `predict_proba(..)` may not in some\n",
    "cases be compatible since the latter is computed using cross-validation while\n",
    "the former is not. Thus, the above number need not be zero."
   ]
  },
  {
   "cell_type": "markdown",
   "id": "ca0e6755",
   "metadata": {
    "papermill": {
     "duration": 0.003615,
     "end_time": "2022-07-03T06:46:50.375900",
     "exception": false,
     "start_time": "2022-07-03T06:46:50.372285",
     "status": "completed"
    },
    "tags": []
   },
   "source": [
    "## Persist model"
   ]
  },
  {
   "cell_type": "code",
   "execution_count": 10,
   "id": "56dc49e1",
   "metadata": {
    "execution": {
     "iopub.execute_input": "2022-07-03T06:46:50.384701Z",
     "iopub.status.busy": "2022-07-03T06:46:50.383805Z",
     "iopub.status.idle": "2022-07-03T06:46:51.259090Z",
     "shell.execute_reply": "2022-07-03T06:46:51.258177Z"
    },
    "papermill": {
     "duration": 0.881834,
     "end_time": "2022-07-03T06:46:51.261178",
     "exception": false,
     "start_time": "2022-07-03T06:46:50.379344",
     "status": "completed"
    },
    "tags": []
   },
   "outputs": [],
   "source": [
    "from skl2onnx import convert_sklearn\n",
    "from skl2onnx.common.data_types import FloatTensorType\n",
    "\n",
    "#\n",
    "from common.io import datalake_root, write_onnx"
   ]
  },
  {
   "cell_type": "code",
   "execution_count": 11,
   "id": "73cb2cb1",
   "metadata": {
    "execution": {
     "iopub.execute_input": "2022-07-03T06:46:51.273314Z",
     "iopub.status.busy": "2022-07-03T06:46:51.272738Z",
     "iopub.status.idle": "2022-07-03T06:46:51.341847Z",
     "shell.execute_reply": "2022-07-03T06:46:51.341093Z"
    },
    "papermill": {
     "duration": 0.077952,
     "end_time": "2022-07-03T06:46:51.344473",
     "exception": false,
     "start_time": "2022-07-03T06:46:51.266521",
     "status": "completed"
    },
    "tags": []
   },
   "outputs": [],
   "source": [
    "# convert sklearn model into onnx and persist to data lake\n",
    "\n",
    "model_onnx = convert_sklearn(\n",
    "    model, initial_types=[(\"float_input_8x8_image\", FloatTensorType([None, 8 * 8]))]\n",
    ")\n",
    "write_onnx(\n",
    "    datalake_root(P)\n",
    "    / \"models\"\n",
    "    / f\"nr_train_images={P['task.nr_train_images']}\"\n",
    "    / \"model.onnx\",\n",
    "    model_onnx,\n",
    ")"
   ]
  },
  {
   "cell_type": "code",
   "execution_count": null,
   "id": "bb1563c2",
   "metadata": {
    "papermill": {
     "duration": 0.004227,
     "end_time": "2022-07-03T06:46:51.353305",
     "exception": false,
     "start_time": "2022-07-03T06:46:51.349078",
     "status": "completed"
    },
    "tags": []
   },
   "outputs": [],
   "source": []
  }
 ],
 "metadata": {
  "jupytext": {
   "cell_metadata_filter": "tags,-all",
   "main_language": "python",
   "notebook_metadata_filter": "-all"
  },
  "language_info": {
   "codemirror_mode": {
    "name": "ipython",
    "version": 3
   },
   "file_extension": ".py",
   "mimetype": "text/x-python",
   "name": "python",
   "nbconvert_exporter": "python",
   "pygments_lexer": "ipython3",
   "version": "3.8.10"
  },
  "papermill": {
   "default_parameters": {},
   "duration": 5.632634,
   "end_time": "2022-07-03T06:46:52.944825",
   "environment_variables": {},
   "exception": null,
   "input_path": "/home/host_user/workspace/mnist-demo-pipeline/mnist-demo-pipeline/notebooks/temp-notebook-g3o7urnh.ipynb",
   "output_path": "notebooks/train-model.ipynb",
   "parameters": {
    "P": {
     "_opentelemetry_traceparent": "00-f66200069d2760d169bf34f103c126aa-bc414030b8c13288-01",
     "pipeline.data_lake_root": "/pipeline-outputs/data-lake",
     "pipeline.github.actor": "matiasdahl",
     "pipeline.github.base_ref": "",
     "pipeline.github.event_name": "schedule",
     "pipeline.github.head_ref": "",
     "pipeline.github.job": "run-tests-pipeline-and-persist-pipeline-outputs",
     "pipeline.github.ref": "refs/heads/development",
     "pipeline.github.ref_name": "development",
     "pipeline.github.ref_type": "branch",
     "pipeline.github.repository": "pynb-dag-runner/mnist-digits-demo-pipeline",
     "pipeline.github.run_id": "2604161071",
     "pipeline.github.runner_name": "Hosted Agent",
     "pipeline.github.sha": "f934c58f68028b7bb026059d4e87e6d32a1bbd20",
     "pipeline.github.workflow": "Run automated tests, pipeline and deploy results to static reporting site",
     "pipeline.pipeline_run_id": "9333ec7b-6173-479f-a3d0-10ccbe360194",
     "pipeline.run_environment": "ci",
     "run.retry_nr": "0",
     "task.max_nr_retries": "1",
     "task.notebook": "notebooks/train-model.py",
     "task.nr_train_images": 1000,
     "task.num_cpus": 1,
     "task.timeout_s": "None"
    }
   },
   "start_time": "2022-07-03T06:46:47.312191",
   "version": "2.3.3"
  }
 },
 "nbformat": 4,
 "nbformat_minor": 5
}