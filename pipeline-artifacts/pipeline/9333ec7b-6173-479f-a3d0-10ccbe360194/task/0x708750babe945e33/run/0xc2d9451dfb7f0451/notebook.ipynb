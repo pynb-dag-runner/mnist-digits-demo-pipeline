{
 "cells": [
  {
   "cell_type": "markdown",
   "id": "73ec9816",
   "metadata": {
    "papermill": {
     "duration": 0.006377,
     "end_time": "2022-07-03T06:47:02.986182",
     "exception": false,
     "start_time": "2022-07-03T06:47:02.979805",
     "status": "completed"
    },
    "tags": []
   },
   "source": [
    "# Benchmark model\n",
    "\n",
    "The purpose of this notebook is to benchmark persisted onnx-model (trained in the\n",
    "previous step) against evaluation set."
   ]
  },
  {
   "cell_type": "markdown",
   "id": "3271c72d",
   "metadata": {
    "papermill": {
     "duration": 0.004895,
     "end_time": "2022-07-03T06:47:02.995904",
     "exception": false,
     "start_time": "2022-07-03T06:47:02.991009",
     "status": "completed"
    },
    "tags": []
   },
   "source": [
    "### Determine run parameters"
   ]
  },
  {
   "cell_type": "code",
   "execution_count": 1,
   "id": "6e452e30",
   "metadata": {
    "execution": {
     "iopub.execute_input": "2022-07-03T06:47:03.007002Z",
     "iopub.status.busy": "2022-07-03T06:47:03.006646Z",
     "iopub.status.idle": "2022-07-03T06:47:03.016313Z",
     "shell.execute_reply": "2022-07-03T06:47:03.015612Z"
    },
    "lines_to_next_cell": 0,
    "papermill": {
     "duration": 0.017978,
     "end_time": "2022-07-03T06:47:03.018345",
     "exception": false,
     "start_time": "2022-07-03T06:47:03.000367",
     "status": "completed"
    },
    "tags": []
   },
   "outputs": [],
   "source": [
    "# ----------------- Parameters for interactive development --------------\n",
    "P = {\n",
    "    \"pipeline.data_lake_root\": \"/pipeline-outputs/data-lake\",\n",
    "    \"task.nr_train_images\": 600,\n",
    "}"
   ]
  },
  {
   "cell_type": "code",
   "execution_count": 2,
   "id": "46fe3e7b",
   "metadata": {
    "execution": {
     "iopub.execute_input": "2022-07-03T06:47:03.028880Z",
     "iopub.status.busy": "2022-07-03T06:47:03.028636Z",
     "iopub.status.idle": "2022-07-03T06:47:03.031698Z",
     "shell.execute_reply": "2022-07-03T06:47:03.031130Z"
    },
    "lines_to_next_cell": 0,
    "papermill": {
     "duration": 0.012266,
     "end_time": "2022-07-03T06:47:03.035311",
     "exception": false,
     "start_time": "2022-07-03T06:47:03.023045",
     "status": "completed"
    },
    "tags": [
     "parameters"
    ]
   },
   "outputs": [],
   "source": [
    "# - During automated runs parameters will be injected in the below cell -"
   ]
  },
  {
   "cell_type": "code",
   "execution_count": 3,
   "id": "25423447",
   "metadata": {
    "execution": {
     "iopub.execute_input": "2022-07-03T06:47:03.045619Z",
     "iopub.status.busy": "2022-07-03T06:47:03.045382Z",
     "iopub.status.idle": "2022-07-03T06:47:03.050347Z",
     "shell.execute_reply": "2022-07-03T06:47:03.049775Z"
    },
    "papermill": {
     "duration": 0.013656,
     "end_time": "2022-07-03T06:47:03.053286",
     "exception": false,
     "start_time": "2022-07-03T06:47:03.039630",
     "status": "completed"
    },
    "tags": [
     "injected-parameters"
    ]
   },
   "outputs": [],
   "source": [
    "# Parameters\n",
    "P = {\n",
    "    \"pipeline.data_lake_root\": \"/pipeline-outputs/data-lake\",\n",
    "    \"pipeline.run_environment\": \"ci\",\n",
    "    \"pipeline.pipeline_run_id\": \"9333ec7b-6173-479f-a3d0-10ccbe360194\",\n",
    "    \"pipeline.github.repository\": \"pynb-dag-runner/mnist-digits-demo-pipeline\",\n",
    "    \"pipeline.github.workflow\": \"Run automated tests, pipeline and deploy results to static reporting site\",\n",
    "    \"pipeline.github.runner_name\": \"Hosted Agent\",\n",
    "    \"pipeline.github.run_id\": \"2604161071\",\n",
    "    \"pipeline.github.actor\": \"matiasdahl\",\n",
    "    \"pipeline.github.job\": \"run-tests-pipeline-and-persist-pipeline-outputs\",\n",
    "    \"pipeline.github.base_ref\": \"\",\n",
    "    \"pipeline.github.head_ref\": \"\",\n",
    "    \"pipeline.github.sha\": \"f934c58f68028b7bb026059d4e87e6d32a1bbd20\",\n",
    "    \"pipeline.github.ref\": \"refs/heads/development\",\n",
    "    \"pipeline.github.ref_type\": \"branch\",\n",
    "    \"pipeline.github.ref_name\": \"development\",\n",
    "    \"pipeline.github.event_name\": \"schedule\",\n",
    "    \"task.nr_train_images\": 1000,\n",
    "    \"task.notebook\": \"notebooks/benchmark-model.py\",\n",
    "    \"task.max_nr_retries\": \"1\",\n",
    "    \"run.retry_nr\": \"0\",\n",
    "    \"task.timeout_s\": \"None\",\n",
    "    \"task.num_cpus\": 1,\n",
    "    \"_opentelemetry_traceparent\": \"00-f66200069d2760d169bf34f103c126aa-4696819e3cd19d50-01\",\n",
    "}\n"
   ]
  },
  {
   "cell_type": "code",
   "execution_count": 4,
   "id": "b05caad2",
   "metadata": {
    "execution": {
     "iopub.execute_input": "2022-07-03T06:47:03.064067Z",
     "iopub.status.busy": "2022-07-03T06:47:03.063829Z",
     "iopub.status.idle": "2022-07-03T06:47:03.066859Z",
     "shell.execute_reply": "2022-07-03T06:47:03.066280Z"
    },
    "lines_to_next_cell": 0,
    "papermill": {
     "duration": 0.011873,
     "end_time": "2022-07-03T06:47:03.069509",
     "exception": false,
     "start_time": "2022-07-03T06:47:03.057636",
     "status": "completed"
    },
    "tags": []
   },
   "outputs": [],
   "source": [
    "# -----------------------------------------------------------------------"
   ]
  },
  {
   "cell_type": "markdown",
   "id": "2ac721c0",
   "metadata": {
    "papermill": {
     "duration": 0.004563,
     "end_time": "2022-07-03T06:47:03.078846",
     "exception": false,
     "start_time": "2022-07-03T06:47:03.074283",
     "status": "completed"
    },
    "tags": []
   },
   "source": [
    "---"
   ]
  },
  {
   "cell_type": "markdown",
   "id": "b6f7542c",
   "metadata": {
    "lines_to_next_cell": 2,
    "papermill": {
     "duration": 0.004334,
     "end_time": "2022-07-03T06:47:03.092402",
     "exception": false,
     "start_time": "2022-07-03T06:47:03.088068",
     "status": "completed"
    },
    "tags": []
   },
   "source": [
    "### Notebook code"
   ]
  },
  {
   "cell_type": "code",
   "execution_count": 5,
   "id": "f8492c7d",
   "metadata": {
    "execution": {
     "iopub.execute_input": "2022-07-03T06:47:03.103082Z",
     "iopub.status.busy": "2022-07-03T06:47:03.102822Z",
     "iopub.status.idle": "2022-07-03T06:47:04.376313Z",
     "shell.execute_reply": "2022-07-03T06:47:04.375226Z"
    },
    "papermill": {
     "duration": 1.281274,
     "end_time": "2022-07-03T06:47:04.378650",
     "exception": false,
     "start_time": "2022-07-03T06:47:03.097376",
     "status": "completed"
    },
    "tags": []
   },
   "outputs": [
    {
     "name": "stderr",
     "output_type": "stream",
     "text": [
      "2022-07-03 06:47:04,201\tINFO worker.py:842 -- Connecting to existing Ray cluster at address: 172.17.0.2:6379\n"
     ]
    }
   ],
   "source": [
    "import itertools as it\n",
    "\n",
    "#\n",
    "import numpy as np\n",
    "import matplotlib.pyplot as plt\n",
    "\n",
    "#\n",
    "from pynb_dag_runner.tasks.task_opentelemetry_logging import PydarLogger\n",
    "\n",
    "#\n",
    "from common.io import datalake_root\n",
    "\n",
    "logger = PydarLogger(P)"
   ]
  },
  {
   "cell_type": "markdown",
   "id": "6445a565",
   "metadata": {
    "papermill": {
     "duration": 0.006055,
     "end_time": "2022-07-03T06:47:04.391055",
     "exception": false,
     "start_time": "2022-07-03T06:47:04.385000",
     "status": "completed"
    },
    "tags": []
   },
   "source": [
    "## Load persisted onnx-model and evaluation data"
   ]
  },
  {
   "cell_type": "code",
   "execution_count": 6,
   "id": "a048ef5b",
   "metadata": {
    "execution": {
     "iopub.execute_input": "2022-07-03T06:47:04.403203Z",
     "iopub.status.busy": "2022-07-03T06:47:04.402772Z",
     "iopub.status.idle": "2022-07-03T06:47:04.407089Z",
     "shell.execute_reply": "2022-07-03T06:47:04.406296Z"
    },
    "papermill": {
     "duration": 0.013758,
     "end_time": "2022-07-03T06:47:04.409632",
     "exception": false,
     "start_time": "2022-07-03T06:47:04.395874",
     "status": "completed"
    },
    "tags": []
   },
   "outputs": [],
   "source": [
    "from common.io import read_onnx, get_onnx_inputs, get_onnx_outputs, read_numpy"
   ]
  },
  {
   "cell_type": "code",
   "execution_count": 7,
   "id": "af88ae80",
   "metadata": {
    "execution": {
     "iopub.execute_input": "2022-07-03T06:47:04.422565Z",
     "iopub.status.busy": "2022-07-03T06:47:04.422203Z",
     "iopub.status.idle": "2022-07-03T06:47:04.442839Z",
     "shell.execute_reply": "2022-07-03T06:47:04.442153Z"
    },
    "lines_to_next_cell": 0,
    "papermill": {
     "duration": 0.029305,
     "end_time": "2022-07-03T06:47:04.444813",
     "exception": false,
     "start_time": "2022-07-03T06:47:04.415508",
     "status": "completed"
    },
    "tags": []
   },
   "outputs": [],
   "source": [
    "onnx_inference_session = read_onnx(\n",
    "    datalake_root(P)\n",
    "    / \"models\"\n",
    "    / f\"nr_train_images={P['task.nr_train_images']}\"\n",
    "    / \"model.onnx\"\n",
    ")"
   ]
  },
  {
   "cell_type": "markdown",
   "id": "502e17eb",
   "metadata": {
    "papermill": {
     "duration": 0.005792,
     "end_time": "2022-07-03T06:47:04.455772",
     "exception": false,
     "start_time": "2022-07-03T06:47:04.449980",
     "status": "completed"
    },
    "tags": []
   },
   "source": [
    "### Record structure of inputs and outputs for ONNX model\n",
    "\n",
    "(this should likely be done in training notebook)"
   ]
  },
  {
   "cell_type": "code",
   "execution_count": 8,
   "id": "b09b52c8",
   "metadata": {
    "execution": {
     "iopub.execute_input": "2022-07-03T06:47:04.467809Z",
     "iopub.status.busy": "2022-07-03T06:47:04.467396Z",
     "iopub.status.idle": "2022-07-03T06:47:04.476422Z",
     "shell.execute_reply": "2022-07-03T06:47:04.475620Z"
    },
    "papermill": {
     "duration": 0.017321,
     "end_time": "2022-07-03T06:47:04.478530",
     "exception": false,
     "start_time": "2022-07-03T06:47:04.461209",
     "status": "completed"
    },
    "tags": []
   },
   "outputs": [
    {
     "name": "stdout",
     "output_type": "stream",
     "text": [
      "{\n",
      "  \"inputs\": [\n",
      "    {\n",
      "      \"name\": \"float_input_8x8_image\",\n",
      "      \"shape\": [\n",
      "        null,\n",
      "        64\n",
      "      ],\n",
      "      \"type\": \"tensor(float)\"\n",
      "    }\n",
      "  ],\n",
      "  \"outputs\": [\n",
      "    {\n",
      "      \"name\": \"output_label\",\n",
      "      \"shape\": [\n",
      "        null\n",
      "      ],\n",
      "      \"type\": \"tensor(int64)\"\n",
      "    },\n",
      "    {\n",
      "      \"name\": \"output_probability\",\n",
      "      \"shape\": [],\n",
      "      \"type\": \"seq(map(int64,tensor(float)))\"\n",
      "    }\n",
      "  ]\n",
      "}\n"
     ]
    }
   ],
   "source": [
    "import json\n",
    "\n",
    "onnx_io = json.dumps(\n",
    "    {\n",
    "        \"inputs\": get_onnx_inputs(onnx_inference_session),\n",
    "        \"outputs\": get_onnx_outputs(onnx_inference_session),\n",
    "    },\n",
    "    indent=2,\n",
    ")\n",
    "\n",
    "\n",
    "logger.log_artefact(\"onnx_io_structure.json\", onnx_io)\n",
    "print(onnx_io)"
   ]
  },
  {
   "cell_type": "markdown",
   "id": "bd7d59bf",
   "metadata": {
    "papermill": {
     "duration": 0.004675,
     "end_time": "2022-07-03T06:47:04.489258",
     "exception": false,
     "start_time": "2022-07-03T06:47:04.484583",
     "status": "completed"
    },
    "tags": []
   },
   "source": [
    "### Evaluate model performance on evaluation data set"
   ]
  },
  {
   "cell_type": "code",
   "execution_count": 9,
   "id": "98117247",
   "metadata": {
    "execution": {
     "iopub.execute_input": "2022-07-03T06:47:04.501746Z",
     "iopub.status.busy": "2022-07-03T06:47:04.500769Z",
     "iopub.status.idle": "2022-07-03T06:47:04.506625Z",
     "shell.execute_reply": "2022-07-03T06:47:04.505844Z"
    },
    "papermill": {
     "duration": 0.013649,
     "end_time": "2022-07-03T06:47:04.508794",
     "exception": false,
     "start_time": "2022-07-03T06:47:04.495145",
     "status": "completed"
    },
    "tags": []
   },
   "outputs": [],
   "source": [
    "# load evaluation data\n",
    "X_test = read_numpy(datalake_root(P) / \"test-data\" / \"digits.numpy\")\n",
    "y_test = read_numpy(datalake_root(P) / \"test-data\" / \"labels.numpy\")"
   ]
  },
  {
   "cell_type": "code",
   "execution_count": 10,
   "id": "cc63d1a4",
   "metadata": {
    "execution": {
     "iopub.execute_input": "2022-07-03T06:47:04.522105Z",
     "iopub.status.busy": "2022-07-03T06:47:04.521108Z",
     "iopub.status.idle": "2022-07-03T06:47:04.546335Z",
     "shell.execute_reply": "2022-07-03T06:47:04.545418Z"
    },
    "papermill": {
     "duration": 0.033335,
     "end_time": "2022-07-03T06:47:04.548513",
     "exception": false,
     "start_time": "2022-07-03T06:47:04.515178",
     "status": "completed"
    },
    "tags": []
   },
   "outputs": [],
   "source": [
    "def get_model_outputs(X, onnx_inference_session):\n",
    "    y_pred_labels, y_pred_map = onnx_inference_session.run(\n",
    "        [\"output_label\", \"output_probability\"],\n",
    "        {\"float_input_8x8_image\": X.astype(np.float32)},\n",
    "    )\n",
    "    y_pred_probs = np.array(\n",
    "        [[probabilities[digit] for digit in range(10)] for probabilities in y_pred_map]\n",
    "    )\n",
    "\n",
    "    assert y_pred_labels.shape == (X.shape[0],)\n",
    "    assert y_pred_probs.shape == (X.shape[0], 10)\n",
    "\n",
    "    return y_pred_labels, y_pred_probs\n",
    "\n",
    "\n",
    "# Note: as shown in the training notebook, the predicted labels and probabilities\n",
    "# computed below need not be compatible.\n",
    "y_pred_labels_test, y_pred_probs_test = get_model_outputs(\n",
    "    X_test, onnx_inference_session\n",
    ")"
   ]
  },
  {
   "cell_type": "markdown",
   "id": "96ce3751",
   "metadata": {
    "papermill": {
     "duration": 0.005169,
     "end_time": "2022-07-03T06:47:04.559538",
     "exception": false,
     "start_time": "2022-07-03T06:47:04.554369",
     "status": "completed"
    },
    "tags": []
   },
   "source": [
    "### Confusion matrix"
   ]
  },
  {
   "cell_type": "code",
   "execution_count": 11,
   "id": "aaa47432",
   "metadata": {
    "execution": {
     "iopub.execute_input": "2022-07-03T06:47:04.571428Z",
     "iopub.status.busy": "2022-07-03T06:47:04.571071Z",
     "iopub.status.idle": "2022-07-03T06:47:04.574824Z",
     "shell.execute_reply": "2022-07-03T06:47:04.573914Z"
    },
    "papermill": {
     "duration": 0.012088,
     "end_time": "2022-07-03T06:47:04.577293",
     "exception": false,
     "start_time": "2022-07-03T06:47:04.565205",
     "status": "completed"
    },
    "tags": []
   },
   "outputs": [],
   "source": [
    "# TODO"
   ]
  },
  {
   "cell_type": "markdown",
   "id": "791f3097",
   "metadata": {
    "papermill": {
     "duration": 0.005495,
     "end_time": "2022-07-03T06:47:04.587735",
     "exception": false,
     "start_time": "2022-07-03T06:47:04.582240",
     "status": "completed"
    },
    "tags": []
   },
   "source": [
    "### Plot predicted probabilities for each classifier over all evaluation digit images"
   ]
  },
  {
   "cell_type": "code",
   "execution_count": 12,
   "id": "a83e717b",
   "metadata": {
    "execution": {
     "iopub.execute_input": "2022-07-03T06:47:04.599726Z",
     "iopub.status.busy": "2022-07-03T06:47:04.599376Z",
     "iopub.status.idle": "2022-07-03T06:47:08.287712Z",
     "shell.execute_reply": "2022-07-03T06:47:08.286952Z"
    },
    "papermill": {
     "duration": 3.696853,
     "end_time": "2022-07-03T06:47:08.289395",
     "exception": false,
     "start_time": "2022-07-03T06:47:04.592542",
     "status": "completed"
    },
    "tags": []
   },
   "outputs": [
    {
     "data": {
      "image/png": "[encoded data removed]",
      "text/plain": [
       "<Figure size 1152x432 with 10 Axes>"
      ]
     },
     "metadata": {
      "needs_background": "light"
     },
     "output_type": "display_data"
    }
   ],
   "source": [
    "def plot_per_digit_probabilities(y_pred_probs):\n",
    "    fig, axs = plt.subplots(nrows=2, ncols=5, figsize=(16, 6))\n",
    "\n",
    "    for (r, c), digit, ax in zip(\n",
    "        it.product(range(2), range(5)), range(10), axs.reshape(-1)\n",
    "    ):\n",
    "        ax.hist(y_pred_probs_test[:, digit], bins=20)\n",
    "\n",
    "        ax.set_title(f\"Digit {digit}\")\n",
    "        if r == 1 and c == 2:\n",
    "            ax.set_xlabel(\"probability\", fontsize=16)\n",
    "\n",
    "        if c == 0:\n",
    "            ax.set_ylabel(\"counts\", fontsize=16)\n",
    "        ax.set_yscale(\"log\")\n",
    "\n",
    "    fig.tight_layout()\n",
    "    fig.suptitle(\n",
    "        f\"Distributions of prediction probabilities for each digit \"\n",
    "        f\"(on evaluation data, n={y_pred_probs.shape[0]})\",\n",
    "        fontsize=20,\n",
    "    )\n",
    "    fig.tight_layout()\n",
    "    fig.show()\n",
    "\n",
    "    return fig\n",
    "\n",
    "\n",
    "fig = plot_per_digit_probabilities(y_pred_probs_test)"
   ]
  },
  {
   "cell_type": "markdown",
   "id": "87d77756",
   "metadata": {
    "papermill": {
     "duration": 0.008083,
     "end_time": "2022-07-03T06:47:08.303988",
     "exception": false,
     "start_time": "2022-07-03T06:47:08.295905",
     "status": "completed"
    },
    "tags": []
   },
   "source": [
    "From the above distributions we see that most digits have clear separation between\n",
    "high and lower probabilities. Morover, in each case there is roughly an order of\n",
    "magnitude more of digits with low probabilities. This is compatible with digits\n",
    "being roughly evenly distributed in the data."
   ]
  },
  {
   "cell_type": "code",
   "execution_count": 13,
   "id": "efd6b3b5",
   "metadata": {
    "execution": {
     "iopub.execute_input": "2022-07-03T06:47:08.317680Z",
     "iopub.status.busy": "2022-07-03T06:47:08.317278Z",
     "iopub.status.idle": "2022-07-03T06:47:08.885339Z",
     "shell.execute_reply": "2022-07-03T06:47:08.884657Z"
    },
    "papermill": {
     "duration": 0.577492,
     "end_time": "2022-07-03T06:47:08.887639",
     "exception": false,
     "start_time": "2022-07-03T06:47:08.310147",
     "status": "completed"
    },
    "tags": []
   },
   "outputs": [],
   "source": [
    "logger.log_figure(\"per-digit-probabilities.png\", fig)"
   ]
  },
  {
   "cell_type": "markdown",
   "id": "a63b0060",
   "metadata": {
    "papermill": {
     "duration": 0.005335,
     "end_time": "2022-07-03T06:47:08.901222",
     "exception": false,
     "start_time": "2022-07-03T06:47:08.895887",
     "status": "completed"
    },
    "tags": []
   },
   "source": [
    "### Plot ROC curves for individual one-vs-rest classifiers"
   ]
  },
  {
   "cell_type": "code",
   "execution_count": 14,
   "id": "95693780",
   "metadata": {
    "execution": {
     "iopub.execute_input": "2022-07-03T06:47:08.921063Z",
     "iopub.status.busy": "2022-07-03T06:47:08.920730Z",
     "iopub.status.idle": "2022-07-03T06:47:09.375835Z",
     "shell.execute_reply": "2022-07-03T06:47:09.374930Z"
    },
    "papermill": {
     "duration": 0.463911,
     "end_time": "2022-07-03T06:47:09.378148",
     "exception": false,
     "start_time": "2022-07-03T06:47:08.914237",
     "status": "completed"
    },
    "tags": []
   },
   "outputs": [],
   "source": [
    "from sklearn import metrics"
   ]
  },
  {
   "cell_type": "code",
   "execution_count": 15,
   "id": "eb5f856d",
   "metadata": {
    "execution": {
     "iopub.execute_input": "2022-07-03T06:47:09.391641Z",
     "iopub.status.busy": "2022-07-03T06:47:09.391166Z",
     "iopub.status.idle": "2022-07-03T06:47:10.598573Z",
     "shell.execute_reply": "2022-07-03T06:47:10.597924Z"
    },
    "papermill": {
     "duration": 1.216876,
     "end_time": "2022-07-03T06:47:10.600686",
     "exception": false,
     "start_time": "2022-07-03T06:47:09.383810",
     "status": "completed"
    },
    "tags": []
   },
   "outputs": [
    {
     "data": {
      "image/png": "[encoded data removed]",
      "text/plain": [
       "<Figure size 1152x576 with 10 Axes>"
      ]
     },
     "metadata": {
      "needs_background": "light"
     },
     "output_type": "display_data"
    }
   ],
   "source": [
    "def plot_roc_curves(y, y_pred_probs):\n",
    "    # based on example code\n",
    "    # https://scikit-learn.org/stable/auto_examples/model_selection/plot_roc.html\n",
    "\n",
    "    fig, axs = plt.subplots(nrows=2, ncols=5, figsize=(16, 8))\n",
    "\n",
    "    roc_auc_dict = {}\n",
    "\n",
    "    for (r, c), digit, ax in zip(\n",
    "        it.product(range(2), range(5)), range(10), axs.reshape(-1)\n",
    "    ):\n",
    "        fpr, tpr, _ = metrics.roc_curve(y == digit, y_pred_probs[:, digit])\n",
    "        auc = metrics.auc(fpr, tpr)\n",
    "        roc_auc_dict[str(digit)] = auc\n",
    "\n",
    "        ax.plot(fpr, tpr, label=f\"ROC AUC={round(auc, 3)}\")\n",
    "\n",
    "        ax.set_title(f\"\\nDigit {digit}\", fontsize=16)\n",
    "        if r == 1:\n",
    "            ax.set_xlabel(\"FPR\", fontsize=18)\n",
    "\n",
    "        if c == 0:\n",
    "            ax.set_ylabel(\"TPR\", fontsize=18)\n",
    "\n",
    "        ax.set_xlim([-0.05, 1.05])\n",
    "        ax.set_ylim([-0.05, 1.05])\n",
    "        ax.legend(loc=\"lower right\", frameon=False, fontsize=14)\n",
    "\n",
    "    fig.tight_layout()\n",
    "    fig.suptitle(\n",
    "        f\"ROC plots for one-vs-rest performances \"\n",
    "        f\"(on evaluation data, n={y_pred_probs_test.shape[1]}\",\n",
    "        fontsize=22,\n",
    "    )\n",
    "    fig.tight_layout()\n",
    "    fig.show()\n",
    "\n",
    "    return roc_auc_dict, fig\n",
    "\n",
    "\n",
    "roc_auc_dict, fig = plot_roc_curves(y_test, y_pred_probs_test)"
   ]
  },
  {
   "cell_type": "code",
   "execution_count": 16,
   "id": "d0a3b5b0",
   "metadata": {
    "execution": {
     "iopub.execute_input": "2022-07-03T06:47:10.615108Z",
     "iopub.status.busy": "2022-07-03T06:47:10.614829Z",
     "iopub.status.idle": "2022-07-03T06:47:10.867483Z",
     "shell.execute_reply": "2022-07-03T06:47:10.866838Z"
    },
    "papermill": {
     "duration": 0.262007,
     "end_time": "2022-07-03T06:47:10.869593",
     "exception": false,
     "start_time": "2022-07-03T06:47:10.607586",
     "status": "completed"
    },
    "tags": []
   },
   "outputs": [],
   "source": [
    "logger.log_figure(\"per-digit-roc-curves.png\", fig)"
   ]
  },
  {
   "cell_type": "code",
   "execution_count": 17,
   "id": "897eed74",
   "metadata": {
    "execution": {
     "iopub.execute_input": "2022-07-03T06:47:10.884542Z",
     "iopub.status.busy": "2022-07-03T06:47:10.884263Z",
     "iopub.status.idle": "2022-07-03T06:47:10.889227Z",
     "shell.execute_reply": "2022-07-03T06:47:10.888642Z"
    },
    "papermill": {
     "duration": 0.01643,
     "end_time": "2022-07-03T06:47:10.893355",
     "exception": false,
     "start_time": "2022-07-03T06:47:10.876925",
     "status": "completed"
    },
    "tags": []
   },
   "outputs": [
    {
     "data": {
      "text/plain": [
       "{'0': 1.0,\n",
       " '1': 0.998875351452671,\n",
       " '2': 1.0,\n",
       " '3': 0.9998875351452671,\n",
       " '4': 0.9996189605243103,\n",
       " '5': 0.9994376757263355,\n",
       " '6': 0.999923792104862,\n",
       " '7': 0.9997332723670171,\n",
       " '8': 0.9952711223203026,\n",
       " '9': 0.9996189605243103}"
      ]
     },
     "execution_count": 17,
     "metadata": {},
     "output_type": "execute_result"
    }
   ],
   "source": [
    "roc_auc_dict"
   ]
  },
  {
   "cell_type": "code",
   "execution_count": 18,
   "id": "90a38be2",
   "metadata": {
    "execution": {
     "iopub.execute_input": "2022-07-03T06:47:10.907606Z",
     "iopub.status.busy": "2022-07-03T06:47:10.907350Z",
     "iopub.status.idle": "2022-07-03T06:47:10.911530Z",
     "shell.execute_reply": "2022-07-03T06:47:10.910927Z"
    },
    "papermill": {
     "duration": 0.01587,
     "end_time": "2022-07-03T06:47:10.915519",
     "exception": false,
     "start_time": "2022-07-03T06:47:10.899649",
     "status": "completed"
    },
    "tags": []
   },
   "outputs": [
    {
     "name": "stdout",
     "output_type": "stream",
     "text": [
      " - Logging roc_auc_per_digit (json) : {'0': 1.0, '1': 0.998875351452671, '2': 1.0, '3': 0.9998875351452671, '4': 0.9996189605243103, '5': 0.9994376757263355, '6': 0.999923792104862, '7': 0.9997332723670171, '8': 0.9952711223203026, '9': 0.9996189605243103}\n"
     ]
    }
   ],
   "source": [
    "logger.log_value(\"roc_auc_per_digit\", roc_auc_dict)"
   ]
  },
  {
   "cell_type": "markdown",
   "id": "88321d4c",
   "metadata": {
    "papermill": {
     "duration": 0.006666,
     "end_time": "2022-07-03T06:47:10.928586",
     "exception": false,
     "start_time": "2022-07-03T06:47:10.921920",
     "status": "completed"
    },
    "tags": []
   },
   "source": [
    "### Compute and log mean ROC AUC score averaged over all digits"
   ]
  },
  {
   "cell_type": "code",
   "execution_count": 19,
   "id": "be64b5bb",
   "metadata": {
    "execution": {
     "iopub.execute_input": "2022-07-03T06:47:10.951391Z",
     "iopub.status.busy": "2022-07-03T06:47:10.951073Z",
     "iopub.status.idle": "2022-07-03T06:47:10.967349Z",
     "shell.execute_reply": "2022-07-03T06:47:10.966739Z"
    },
    "papermill": {
     "duration": 0.025562,
     "end_time": "2022-07-03T06:47:10.969230",
     "exception": false,
     "start_time": "2022-07-03T06:47:10.943668",
     "status": "completed"
    },
    "tags": []
   },
   "outputs": [
    {
     "name": "stdout",
     "output_type": "stream",
     "text": [
      " - Logging roc_auc_class_mean (float) : 0.9992366670165076\n"
     ]
    }
   ],
   "source": [
    "roc_auc_macro = np.mean(list(roc_auc_dict.values()))\n",
    "\n",
    "logger.log_float(\"roc_auc_class_mean\", roc_auc_macro)\n",
    "\n",
    "# assert that the same value can be computed directly using sklearn\n",
    "assert roc_auc_macro == metrics.roc_auc_score(\n",
    "    y_test, y_pred_probs_test, average=\"macro\", multi_class=\"ovr\"\n",
    ")"
   ]
  },
  {
   "cell_type": "code",
   "execution_count": 20,
   "id": "55504f4d",
   "metadata": {
    "execution": {
     "iopub.execute_input": "2022-07-03T06:47:10.985388Z",
     "iopub.status.busy": "2022-07-03T06:47:10.985116Z",
     "iopub.status.idle": "2022-07-03T06:47:10.988449Z",
     "shell.execute_reply": "2022-07-03T06:47:10.987720Z"
    },
    "lines_to_next_cell": 0,
    "papermill": {
     "duration": 0.01462,
     "end_time": "2022-07-03T06:47:10.991521",
     "exception": false,
     "start_time": "2022-07-03T06:47:10.976901",
     "status": "completed"
    },
    "tags": []
   },
   "outputs": [],
   "source": [
    "# ---"
   ]
  },
  {
   "cell_type": "code",
   "execution_count": null,
   "id": "8d3c3766",
   "metadata": {
    "papermill": {
     "duration": 0.006644,
     "end_time": "2022-07-03T06:47:11.004655",
     "exception": false,
     "start_time": "2022-07-03T06:47:10.998011",
     "status": "completed"
    },
    "tags": []
   },
   "outputs": [],
   "source": []
  }
 ],
 "metadata": {
  "jupytext": {
   "cell_metadata_filter": "tags,-all",
   "main_language": "python",
   "notebook_metadata_filter": "-all"
  },
  "language_info": {
   "codemirror_mode": {
    "name": "ipython",
    "version": 3
   },
   "file_extension": ".py",
   "mimetype": "text/x-python",
   "name": "python",
   "nbconvert_exporter": "python",
   "pygments_lexer": "ipython3",
   "version": "3.8.10"
  },
  "papermill": {
   "default_parameters": {},
   "duration": 11.100089,
   "end_time": "2022-07-03T06:47:12.130446",
   "environment_variables": {},
   "exception": null,
   "input_path": "/home/host_user/workspace/mnist-demo-pipeline/mnist-demo-pipeline/notebooks/temp-notebook-m503y0l2.ipynb",
   "output_path": "notebooks/benchmark-model.ipynb",
   "parameters": {
    "P": {
     "_opentelemetry_traceparent": "00-f66200069d2760d169bf34f103c126aa-4696819e3cd19d50-01",
     "pipeline.data_lake_root": "/pipeline-outputs/data-lake",
     "pipeline.github.actor": "matiasdahl",
     "pipeline.github.base_ref": "",
     "pipeline.github.event_name": "schedule",
     "pipeline.github.head_ref": "",
     "pipeline.github.job": "run-tests-pipeline-and-persist-pipeline-outputs",
     "pipeline.github.ref": "refs/heads/development",
     "pipeline.github.ref_name": "development",
     "pipeline.github.ref_type": "branch",
     "pipeline.github.repository": "pynb-dag-runner/mnist-digits-demo-pipeline",
     "pipeline.github.run_id": "2604161071",
     "pipeline.github.runner_name": "Hosted Agent",
     "pipeline.github.sha": "f934c58f68028b7bb026059d4e87e6d32a1bbd20",
     "pipeline.github.workflow": "Run automated tests, pipeline and deploy results to static reporting site",
     "pipeline.pipeline_run_id": "9333ec7b-6173-479f-a3d0-10ccbe360194",
     "pipeline.run_environment": "ci",
     "run.retry_nr": "0",
     "task.max_nr_retries": "1",
     "task.notebook": "notebooks/benchmark-model.py",
     "task.nr_train_images": 1000,
     "task.num_cpus": 1,
     "task.timeout_s": "None"
    }
   },
   "start_time": "2022-07-03T06:47:01.030357",
   "version": "2.3.3"
  }
 },
 "nbformat": 4,
 "nbformat_minor": 5
}