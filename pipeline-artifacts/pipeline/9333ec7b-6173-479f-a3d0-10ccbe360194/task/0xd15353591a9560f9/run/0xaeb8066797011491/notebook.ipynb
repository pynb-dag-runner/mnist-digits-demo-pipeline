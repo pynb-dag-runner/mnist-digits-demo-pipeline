{
 "cells": [
  {
   "cell_type": "markdown",
   "id": "c1993647",
   "metadata": {
    "papermill": {
     "duration": 0.019303,
     "end_time": "2022-07-03T06:47:26.990271",
     "exception": false,
     "start_time": "2022-07-03T06:47:26.970968",
     "status": "completed"
    },
    "tags": []
   },
   "source": [
    "# Summarize model performances\n",
    "\n",
    "This notebooks plots the performances (using averaged ROC AUC scores) for models\n",
    "trained with different training sets."
   ]
  },
  {
   "cell_type": "markdown",
   "id": "f6d0c737",
   "metadata": {
    "papermill": {
     "duration": 0.002795,
     "end_time": "2022-07-03T06:47:26.996405",
     "exception": false,
     "start_time": "2022-07-03T06:47:26.993610",
     "status": "completed"
    },
    "tags": []
   },
   "source": [
    "### Determine run parameters"
   ]
  },
  {
   "cell_type": "code",
   "execution_count": 1,
   "id": "80a7ddf2",
   "metadata": {
    "execution": {
     "iopub.execute_input": "2022-07-03T06:47:27.004324Z",
     "iopub.status.busy": "2022-07-03T06:47:27.003763Z",
     "iopub.status.idle": "2022-07-03T06:47:27.012046Z",
     "shell.execute_reply": "2022-07-03T06:47:27.011299Z"
    },
    "lines_to_next_cell": 0,
    "papermill": {
     "duration": 0.014239,
     "end_time": "2022-07-03T06:47:27.013798",
     "exception": false,
     "start_time": "2022-07-03T06:47:26.999559",
     "status": "completed"
    },
    "tags": []
   },
   "outputs": [],
   "source": [
    "# ----------------- Parameters for interactive development --------------\n",
    "P = {\n",
    "    \"pipeline.run_environment\": \"dev\",\n",
    "}"
   ]
  },
  {
   "cell_type": "code",
   "execution_count": 2,
   "id": "30477f3f",
   "metadata": {
    "execution": {
     "iopub.execute_input": "2022-07-03T06:47:27.021416Z",
     "iopub.status.busy": "2022-07-03T06:47:27.020830Z",
     "iopub.status.idle": "2022-07-03T06:47:27.024296Z",
     "shell.execute_reply": "2022-07-03T06:47:27.023544Z"
    },
    "lines_to_next_cell": 0,
    "papermill": {
     "duration": 0.009049,
     "end_time": "2022-07-03T06:47:27.025823",
     "exception": false,
     "start_time": "2022-07-03T06:47:27.016774",
     "status": "completed"
    },
    "tags": [
     "parameters"
    ]
   },
   "outputs": [],
   "source": [
    "# - During automated runs parameters will be injected in the below cell -"
   ]
  },
  {
   "cell_type": "code",
   "execution_count": 3,
   "id": "65df4c93",
   "metadata": {
    "execution": {
     "iopub.execute_input": "2022-07-03T06:47:27.036406Z",
     "iopub.status.busy": "2022-07-03T06:47:27.036015Z",
     "iopub.status.idle": "2022-07-03T06:47:27.040864Z",
     "shell.execute_reply": "2022-07-03T06:47:27.040317Z"
    },
    "papermill": {
     "duration": 0.013993,
     "end_time": "2022-07-03T06:47:27.042438",
     "exception": false,
     "start_time": "2022-07-03T06:47:27.028445",
     "status": "completed"
    },
    "tags": [
     "injected-parameters"
    ]
   },
   "outputs": [],
   "source": [
    "# Parameters\n",
    "P = {\n",
    "    \"pipeline.data_lake_root\": \"/pipeline-outputs/data-lake\",\n",
    "    \"pipeline.run_environment\": \"ci\",\n",
    "    \"pipeline.pipeline_run_id\": \"9333ec7b-6173-479f-a3d0-10ccbe360194\",\n",
    "    \"pipeline.github.repository\": \"pynb-dag-runner/mnist-digits-demo-pipeline\",\n",
    "    \"pipeline.github.workflow\": \"Run automated tests, pipeline and deploy results to static reporting site\",\n",
    "    \"pipeline.github.runner_name\": \"Hosted Agent\",\n",
    "    \"pipeline.github.run_id\": \"2604161071\",\n",
    "    \"pipeline.github.actor\": \"matiasdahl\",\n",
    "    \"pipeline.github.job\": \"run-tests-pipeline-and-persist-pipeline-outputs\",\n",
    "    \"pipeline.github.base_ref\": \"\",\n",
    "    \"pipeline.github.head_ref\": \"\",\n",
    "    \"pipeline.github.sha\": \"f934c58f68028b7bb026059d4e87e6d32a1bbd20\",\n",
    "    \"pipeline.github.ref\": \"refs/heads/development\",\n",
    "    \"pipeline.github.ref_type\": \"branch\",\n",
    "    \"pipeline.github.ref_name\": \"development\",\n",
    "    \"pipeline.github.event_name\": \"schedule\",\n",
    "    \"task.notebook\": \"notebooks/summary.py\",\n",
    "    \"task.max_nr_retries\": \"1\",\n",
    "    \"run.retry_nr\": \"0\",\n",
    "    \"task.timeout_s\": \"None\",\n",
    "    \"task.num_cpus\": 1,\n",
    "    \"_opentelemetry_traceparent\": \"00-f66200069d2760d169bf34f103c126aa-30fba502cfc69fe1-01\",\n",
    "}\n"
   ]
  },
  {
   "cell_type": "code",
   "execution_count": 4,
   "id": "c87ae331",
   "metadata": {
    "execution": {
     "iopub.execute_input": "2022-07-03T06:47:27.050044Z",
     "iopub.status.busy": "2022-07-03T06:47:27.049264Z",
     "iopub.status.idle": "2022-07-03T06:47:27.052838Z",
     "shell.execute_reply": "2022-07-03T06:47:27.052184Z"
    },
    "lines_to_next_cell": 0,
    "papermill": {
     "duration": 0.008991,
     "end_time": "2022-07-03T06:47:27.054510",
     "exception": false,
     "start_time": "2022-07-03T06:47:27.045519",
     "status": "completed"
    },
    "tags": []
   },
   "outputs": [],
   "source": [
    "# -----------------------------------------------------------------------"
   ]
  },
  {
   "cell_type": "markdown",
   "id": "d528ea7c",
   "metadata": {
    "papermill": {
     "duration": 0.002983,
     "end_time": "2022-07-03T06:47:27.060371",
     "exception": false,
     "start_time": "2022-07-03T06:47:27.057388",
     "status": "completed"
    },
    "tags": []
   },
   "source": [
    "---"
   ]
  },
  {
   "cell_type": "markdown",
   "id": "48175cba",
   "metadata": {
    "lines_to_next_cell": 2,
    "papermill": {
     "duration": 0.003174,
     "end_time": "2022-07-03T06:47:27.069413",
     "exception": false,
     "start_time": "2022-07-03T06:47:27.066239",
     "status": "completed"
    },
    "tags": []
   },
   "source": [
    "### Notebook code"
   ]
  },
  {
   "cell_type": "code",
   "execution_count": 5,
   "id": "aa3b73a8",
   "metadata": {
    "execution": {
     "iopub.execute_input": "2022-07-03T06:47:27.076644Z",
     "iopub.status.busy": "2022-07-03T06:47:27.076165Z",
     "iopub.status.idle": "2022-07-03T06:47:28.345371Z",
     "shell.execute_reply": "2022-07-03T06:47:28.344603Z"
    },
    "papermill": {
     "duration": 1.275072,
     "end_time": "2022-07-03T06:47:28.347480",
     "exception": false,
     "start_time": "2022-07-03T06:47:27.072408",
     "status": "completed"
    },
    "tags": []
   },
   "outputs": [],
   "source": [
    "#\n",
    "import pandas as pd\n",
    "import matplotlib.pyplot as plt\n",
    "\n",
    "#\n",
    "from pynb_dag_runner.tasks.task_opentelemetry_logging import PydarLogger"
   ]
  },
  {
   "cell_type": "code",
   "execution_count": 6,
   "id": "17a405d0",
   "metadata": {
    "execution": {
     "iopub.execute_input": "2022-07-03T06:47:28.355516Z",
     "iopub.status.busy": "2022-07-03T06:47:28.354960Z",
     "iopub.status.idle": "2022-07-03T06:47:28.522699Z",
     "shell.execute_reply": "2022-07-03T06:47:28.521866Z"
    },
    "papermill": {
     "duration": 0.173606,
     "end_time": "2022-07-03T06:47:28.524688",
     "exception": false,
     "start_time": "2022-07-03T06:47:28.351082",
     "status": "completed"
    },
    "tags": []
   },
   "outputs": [
    {
     "name": "stderr",
     "output_type": "stream",
     "text": [
      "2022-07-03 06:47:28,360\tINFO worker.py:842 -- Connecting to existing Ray cluster at address: 172.17.0.2:6379\n"
     ]
    }
   ],
   "source": [
    "logger = PydarLogger(P=P)"
   ]
  },
  {
   "cell_type": "code",
   "execution_count": 7,
   "id": "9b6eff91",
   "metadata": {
    "execution": {
     "iopub.execute_input": "2022-07-03T06:47:28.532981Z",
     "iopub.status.busy": "2022-07-03T06:47:28.532560Z",
     "iopub.status.idle": "2022-07-03T06:47:28.536704Z",
     "shell.execute_reply": "2022-07-03T06:47:28.535942Z"
    },
    "papermill": {
     "duration": 0.010617,
     "end_time": "2022-07-03T06:47:28.538764",
     "exception": false,
     "start_time": "2022-07-03T06:47:28.528147",
     "status": "completed"
    },
    "tags": []
   },
   "outputs": [],
   "source": [
    "from pynb_dag_runner.tasks.task_opentelemetry_logging import (\n",
    "    PydarLogger,\n",
    "    get_logged_values,\n",
    ")\n",
    "from pynb_dag_runner.opentelemetry_helpers import _get_all_spans, Spans"
   ]
  },
  {
   "cell_type": "code",
   "execution_count": 8,
   "id": "0417db71",
   "metadata": {
    "execution": {
     "iopub.execute_input": "2022-07-03T06:47:28.546421Z",
     "iopub.status.busy": "2022-07-03T06:47:28.545992Z",
     "iopub.status.idle": "2022-07-03T06:47:28.554103Z",
     "shell.execute_reply": "2022-07-03T06:47:28.553292Z"
    },
    "papermill": {
     "duration": 0.013733,
     "end_time": "2022-07-03T06:47:28.555777",
     "exception": false,
     "start_time": "2022-07-03T06:47:28.542044",
     "status": "completed"
    },
    "tags": []
   },
   "outputs": [],
   "source": [
    "def get_model_benchmarks():\n",
    "    \"\"\"\n",
    "    Query the OpenTelemetry logs for *this pipeline run* and return\n",
    "    all key-values logged from all runs of the benchmark-model.py task\n",
    "\n",
    "    For testing a json file with OpenTelemetry spans (as an array)\n",
    "    can be used as follows:\n",
    "\n",
    "    - Create output directory `mkdir /tmp/spans`\n",
    "    - Run unit tests. This will create pipeline-outputs/opentelemetry-spans.json\n",
    "    - Convert this json-array into jsonl format as follows\n",
    "\n",
    "    jq -c '.[]' /pipeline-outputs/opentelemetry-spans.json > /tmp/spans/data.txt\n",
    "\n",
    "    \"\"\"\n",
    "    spans: Spans = Spans(_get_all_spans())\n",
    "    print(f\"Found {len(spans)} spans\")\n",
    "\n",
    "    benchmark_spans = (\n",
    "        spans\n",
    "        # -\n",
    "        .filter([\"name\"], \"execute-task\")\n",
    "        # -\n",
    "        .filter([\"attributes\", \"task.notebook\"], \"notebooks/benchmark-model.py\")\n",
    "    )\n",
    "\n",
    "    result = []\n",
    "    for s in benchmark_spans:\n",
    "        result.append(\n",
    "            {\n",
    "                \"span_id\": s[\"context\"][\"span_id\"],\n",
    "                \"nr_train_images\": s[\"attributes\"][\"task.nr_train_images\"],\n",
    "                \"data\": get_logged_values(spans.bound_under(s)),\n",
    "            }\n",
    "        )\n",
    "\n",
    "    return result\n",
    "\n",
    "\n",
    "def adjust_pandas(df):\n",
    "    def column_renamer(col_name: str) -> str:\n",
    "        return (\n",
    "            col_name\n",
    "            # -- 'data.roc_auc_per_digit.4' -> 'roc_auc.4'\n",
    "            .replace(\"data.roc_auc_per_digit\", \"roc_auc\")\n",
    "            # -- 'data.roc_auc_class_mean' -> 'roc_auc_mean'\n",
    "            .replace(\"data.roc_auc_class_mean\", \"roc_auc_mean\")\n",
    "        )\n",
    "\n",
    "    return df.rename(column_renamer, axis=\"columns\").sort_values(by=\"nr_train_images\")"
   ]
  },
  {
   "cell_type": "code",
   "execution_count": 9,
   "id": "a241202a",
   "metadata": {
    "execution": {
     "iopub.execute_input": "2022-07-03T06:47:28.563494Z",
     "iopub.status.busy": "2022-07-03T06:47:28.563031Z",
     "iopub.status.idle": "2022-07-03T06:47:52.580898Z",
     "shell.execute_reply": "2022-07-03T06:47:52.580013Z"
    },
    "papermill": {
     "duration": 24.024306,
     "end_time": "2022-07-03T06:47:52.583137",
     "exception": false,
     "start_time": "2022-07-03T06:47:28.558831",
     "status": "completed"
    },
    "tags": []
   },
   "outputs": [
    {
     "name": "stdout",
     "output_type": "stream",
     "text": [
      "Found 420 spans\n"
     ]
    }
   ],
   "source": [
    "df_data = adjust_pandas(pd.json_normalize(get_model_benchmarks()))"
   ]
  },
  {
   "cell_type": "code",
   "execution_count": 10,
   "id": "0a87cfa3",
   "metadata": {
    "execution": {
     "iopub.execute_input": "2022-07-03T06:47:52.593948Z",
     "iopub.status.busy": "2022-07-03T06:47:52.593462Z",
     "iopub.status.idle": "2022-07-03T06:47:52.629731Z",
     "shell.execute_reply": "2022-07-03T06:47:52.628894Z"
    },
    "papermill": {
     "duration": 0.04299,
     "end_time": "2022-07-03T06:47:52.631746",
     "exception": false,
     "start_time": "2022-07-03T06:47:52.588756",
     "status": "completed"
    },
    "tags": []
   },
   "outputs": [
    {
     "data": {
      "text/html": [
       "<div>\n",
       "<style scoped>\n",
       "    .dataframe tbody tr th:only-of-type {\n",
       "        vertical-align: middle;\n",
       "    }\n",
       "\n",
       "    .dataframe tbody tr th {\n",
       "        vertical-align: top;\n",
       "    }\n",
       "\n",
       "    .dataframe thead th {\n",
       "        text-align: right;\n",
       "    }\n",
       "</style>\n",
       "<table border=\"1\" class=\"dataframe\">\n",
       "  <thead>\n",
       "    <tr style=\"text-align: right;\">\n",
       "      <th></th>\n",
       "      <th>span_id</th>\n",
       "      <th>nr_train_images</th>\n",
       "      <th>roc_auc_mean</th>\n",
       "      <th>roc_auc.0</th>\n",
       "      <th>roc_auc.1</th>\n",
       "      <th>roc_auc.2</th>\n",
       "      <th>roc_auc.3</th>\n",
       "      <th>roc_auc.4</th>\n",
       "      <th>roc_auc.5</th>\n",
       "      <th>roc_auc.6</th>\n",
       "      <th>roc_auc.7</th>\n",
       "      <th>roc_auc.8</th>\n",
       "      <th>roc_auc.9</th>\n",
       "    </tr>\n",
       "  </thead>\n",
       "  <tbody>\n",
       "    <tr>\n",
       "      <th>3</th>\n",
       "      <td>0xcad43f3b562dd4a8</td>\n",
       "      <td>600</td>\n",
       "      <td>0.9990</td>\n",
       "      <td>1.0</td>\n",
       "      <td>0.9993</td>\n",
       "      <td>1.0</td>\n",
       "      <td>0.9998</td>\n",
       "      <td>0.9991</td>\n",
       "      <td>0.9990</td>\n",
       "      <td>0.9999</td>\n",
       "      <td>0.9998</td>\n",
       "      <td>0.9940</td>\n",
       "      <td>0.9987</td>\n",
       "    </tr>\n",
       "    <tr>\n",
       "      <th>2</th>\n",
       "      <td>0x4eff626ccd18c972</td>\n",
       "      <td>800</td>\n",
       "      <td>0.9990</td>\n",
       "      <td>1.0</td>\n",
       "      <td>0.9988</td>\n",
       "      <td>1.0</td>\n",
       "      <td>0.9998</td>\n",
       "      <td>0.9994</td>\n",
       "      <td>0.9990</td>\n",
       "      <td>0.9999</td>\n",
       "      <td>0.9999</td>\n",
       "      <td>0.9933</td>\n",
       "      <td>0.9994</td>\n",
       "    </tr>\n",
       "    <tr>\n",
       "      <th>0</th>\n",
       "      <td>0x708750babe945e33</td>\n",
       "      <td>1000</td>\n",
       "      <td>0.9992</td>\n",
       "      <td>1.0</td>\n",
       "      <td>0.9989</td>\n",
       "      <td>1.0</td>\n",
       "      <td>0.9999</td>\n",
       "      <td>0.9996</td>\n",
       "      <td>0.9994</td>\n",
       "      <td>0.9999</td>\n",
       "      <td>0.9997</td>\n",
       "      <td>0.9953</td>\n",
       "      <td>0.9996</td>\n",
       "    </tr>\n",
       "    <tr>\n",
       "      <th>1</th>\n",
       "      <td>0xccce1e425982fb4a</td>\n",
       "      <td>1200</td>\n",
       "      <td>0.9994</td>\n",
       "      <td>1.0</td>\n",
       "      <td>0.9991</td>\n",
       "      <td>1.0</td>\n",
       "      <td>0.9999</td>\n",
       "      <td>0.9997</td>\n",
       "      <td>0.9997</td>\n",
       "      <td>0.9999</td>\n",
       "      <td>0.9998</td>\n",
       "      <td>0.9960</td>\n",
       "      <td>0.9997</td>\n",
       "    </tr>\n",
       "  </tbody>\n",
       "</table>\n",
       "</div>"
      ],
      "text/plain": [
       "              span_id  nr_train_images  roc_auc_mean  roc_auc.0  roc_auc.1  \\\n",
       "3  0xcad43f3b562dd4a8              600        0.9990        1.0     0.9993   \n",
       "2  0x4eff626ccd18c972              800        0.9990        1.0     0.9988   \n",
       "0  0x708750babe945e33             1000        0.9992        1.0     0.9989   \n",
       "1  0xccce1e425982fb4a             1200        0.9994        1.0     0.9991   \n",
       "\n",
       "   roc_auc.2  roc_auc.3  roc_auc.4  roc_auc.5  roc_auc.6  roc_auc.7  \\\n",
       "3        1.0     0.9998     0.9991     0.9990     0.9999     0.9998   \n",
       "2        1.0     0.9998     0.9994     0.9990     0.9999     0.9999   \n",
       "0        1.0     0.9999     0.9996     0.9994     0.9999     0.9997   \n",
       "1        1.0     0.9999     0.9997     0.9997     0.9999     0.9998   \n",
       "\n",
       "   roc_auc.8  roc_auc.9  \n",
       "3     0.9940     0.9987  \n",
       "2     0.9933     0.9994  \n",
       "0     0.9953     0.9996  \n",
       "1     0.9960     0.9997  "
      ]
     },
     "execution_count": 10,
     "metadata": {},
     "output_type": "execute_result"
    }
   ],
   "source": [
    "df_data.round(4)"
   ]
  },
  {
   "cell_type": "code",
   "execution_count": 11,
   "id": "f5422960",
   "metadata": {
    "execution": {
     "iopub.execute_input": "2022-07-03T06:47:52.641196Z",
     "iopub.status.busy": "2022-07-03T06:47:52.640401Z",
     "iopub.status.idle": "2022-07-03T06:47:52.810246Z",
     "shell.execute_reply": "2022-07-03T06:47:52.809292Z"
    },
    "papermill": {
     "duration": 0.176794,
     "end_time": "2022-07-03T06:47:52.812413",
     "exception": false,
     "start_time": "2022-07-03T06:47:52.635619",
     "status": "completed"
    },
    "tags": []
   },
   "outputs": [
    {
     "data": {
      "image/png": "[encoded data removed]",
      "text/plain": [
       "<Figure size 1152x288 with 1 Axes>"
      ]
     },
     "metadata": {
      "needs_background": "light"
     },
     "output_type": "display_data"
    }
   ],
   "source": [
    "def plot_classifier_performance_summary(df_data):\n",
    "    fig, ax = plt.subplots(nrows=1, ncols=1, figsize=(16, 4), sharex=True)\n",
    "\n",
    "    #\n",
    "    ax.plot(\n",
    "        df_data[\"nr_train_images\"], df_data[\"roc_auc_mean\"], marker=\"o\", linestyle=\"--\"\n",
    "    )\n",
    "    ax.set_title(\n",
    "        f\"ROC AUC digit classifier performance on evaluation digits\", fontsize=17\n",
    "    )\n",
    "    ax.set_xlabel(\"Total number of digits in training set\", fontsize=14)\n",
    "    ax.set_ylabel(\"Mean ROC AUC\", fontsize=14)\n",
    "\n",
    "    fig.tight_layout()\n",
    "    fig.show()\n",
    "\n",
    "    return fig\n",
    "\n",
    "\n",
    "fig = plot_classifier_performance_summary(df_data)"
   ]
  },
  {
   "cell_type": "code",
   "execution_count": 12,
   "id": "b0860bf1",
   "metadata": {
    "execution": {
     "iopub.execute_input": "2022-07-03T06:47:52.823452Z",
     "iopub.status.busy": "2022-07-03T06:47:52.822671Z",
     "iopub.status.idle": "2022-07-03T06:47:52.891938Z",
     "shell.execute_reply": "2022-07-03T06:47:52.891152Z"
    },
    "papermill": {
     "duration": 0.077168,
     "end_time": "2022-07-03T06:47:52.894460",
     "exception": false,
     "start_time": "2022-07-03T06:47:52.817292",
     "status": "completed"
    },
    "tags": []
   },
   "outputs": [],
   "source": [
    "logger.log_figure(\"auc-roc-model-performances.png\", fig)"
   ]
  },
  {
   "cell_type": "code",
   "execution_count": 13,
   "id": "97de2f93",
   "metadata": {
    "execution": {
     "iopub.execute_input": "2022-07-03T06:47:52.905523Z",
     "iopub.status.busy": "2022-07-03T06:47:52.905215Z",
     "iopub.status.idle": "2022-07-03T06:47:52.908426Z",
     "shell.execute_reply": "2022-07-03T06:47:52.907715Z"
    },
    "papermill": {
     "duration": 0.012173,
     "end_time": "2022-07-03T06:47:52.911633",
     "exception": false,
     "start_time": "2022-07-03T06:47:52.899460",
     "status": "completed"
    },
    "tags": []
   },
   "outputs": [],
   "source": [
    "###"
   ]
  },
  {
   "cell_type": "code",
   "execution_count": null,
   "id": "93cd48c9",
   "metadata": {
    "papermill": {
     "duration": 0.006143,
     "end_time": "2022-07-03T06:47:52.922396",
     "exception": false,
     "start_time": "2022-07-03T06:47:52.916253",
     "status": "completed"
    },
    "tags": []
   },
   "outputs": [],
   "source": []
  }
 ],
 "metadata": {
  "jupytext": {
   "cell_metadata_filter": "tags,-all",
   "main_language": "python",
   "notebook_metadata_filter": "-all"
  },
  "language_info": {
   "codemirror_mode": {
    "name": "ipython",
    "version": 3
   },
   "file_extension": ".py",
   "mimetype": "text/x-python",
   "name": "python",
   "nbconvert_exporter": "python",
   "pygments_lexer": "ipython3",
   "version": "3.8.10"
  },
  "papermill": {
   "default_parameters": {},
   "duration": 28.384922,
   "end_time": "2022-07-03T06:47:53.947215",
   "environment_variables": {},
   "exception": null,
   "input_path": "/home/host_user/workspace/mnist-demo-pipeline/mnist-demo-pipeline/notebooks/temp-notebook-hzkla7gq.ipynb",
   "output_path": "notebooks/summary.ipynb",
   "parameters": {
    "P": {
     "_opentelemetry_traceparent": "00-f66200069d2760d169bf34f103c126aa-30fba502cfc69fe1-01",
     "pipeline.data_lake_root": "/pipeline-outputs/data-lake",
     "pipeline.github.actor": "matiasdahl",
     "pipeline.github.base_ref": "",
     "pipeline.github.event_name": "schedule",
     "pipeline.github.head_ref": "",
     "pipeline.github.job": "run-tests-pipeline-and-persist-pipeline-outputs",
     "pipeline.github.ref": "refs/heads/development",
     "pipeline.github.ref_name": "development",
     "pipeline.github.ref_type": "branch",
     "pipeline.github.repository": "pynb-dag-runner/mnist-digits-demo-pipeline",
     "pipeline.github.run_id": "2604161071",
     "pipeline.github.runner_name": "Hosted Agent",
     "pipeline.github.sha": "f934c58f68028b7bb026059d4e87e6d32a1bbd20",
     "pipeline.github.workflow": "Run automated tests, pipeline and deploy results to static reporting site",
     "pipeline.pipeline_run_id": "9333ec7b-6173-479f-a3d0-10ccbe360194",
     "pipeline.run_environment": "ci",
     "run.retry_nr": "0",
     "task.max_nr_retries": "1",
     "task.notebook": "notebooks/summary.py",
     "task.num_cpus": 1,
     "task.timeout_s": "None"
    }
   },
   "start_time": "2022-07-03T06:47:25.562293",
   "version": "2.3.3"
  }
 },
 "nbformat": 4,
 "nbformat_minor": 5
}