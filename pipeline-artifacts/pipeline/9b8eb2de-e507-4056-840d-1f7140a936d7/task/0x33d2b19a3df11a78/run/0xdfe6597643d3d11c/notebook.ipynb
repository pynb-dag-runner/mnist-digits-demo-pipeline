{
 "cells": [
  {
   "cell_type": "markdown",
   "id": "e80b377d",
   "metadata": {
    "papermill": {
     "duration": 0.004201,
     "end_time": "2022-07-20T06:48:36.289710",
     "exception": false,
     "start_time": "2022-07-20T06:48:36.285509",
     "status": "completed"
    },
    "tags": []
   },
   "source": [
    "# Train model\n",
    "\n",
    "The purpose of this notebook is:\n",
    "\n",
    "- Load all training data (images and labels).\n",
    "- Limit number of train images to `task.nr_train_images` (value provided as run parameter).\n",
    "- Train a support vector machine model using sklearn.\n",
    "- Persist the trained model using the ONNX format."
   ]
  },
  {
   "cell_type": "markdown",
   "id": "d96c3f82",
   "metadata": {
    "papermill": {
     "duration": 0.002654,
     "end_time": "2022-07-20T06:48:36.295492",
     "exception": false,
     "start_time": "2022-07-20T06:48:36.292838",
     "status": "completed"
    },
    "tags": []
   },
   "source": [
    "### Determine run parameters"
   ]
  },
  {
   "cell_type": "code",
   "execution_count": 1,
   "id": "3e55bacf",
   "metadata": {
    "execution": {
     "iopub.execute_input": "2022-07-20T06:48:36.302455Z",
     "iopub.status.busy": "2022-07-20T06:48:36.302129Z",
     "iopub.status.idle": "2022-07-20T06:48:36.310293Z",
     "shell.execute_reply": "2022-07-20T06:48:36.309732Z"
    },
    "lines_to_next_cell": 0,
    "papermill": {
     "duration": 0.014024,
     "end_time": "2022-07-20T06:48:36.312314",
     "exception": false,
     "start_time": "2022-07-20T06:48:36.298290",
     "status": "completed"
    },
    "tags": []
   },
   "outputs": [],
   "source": [
    "# ----------------- Parameters for interactive development --------------\n",
    "P = {\n",
    "    \"pipeline.data_lake_root\": \"/pipeline-outputs/data-lake\",\n",
    "    \"task.nr_train_images\": 600,\n",
    "}"
   ]
  },
  {
   "cell_type": "code",
   "execution_count": 2,
   "id": "e380b345",
   "metadata": {
    "execution": {
     "iopub.execute_input": "2022-07-20T06:48:36.320932Z",
     "iopub.status.busy": "2022-07-20T06:48:36.320710Z",
     "iopub.status.idle": "2022-07-20T06:48:36.323589Z",
     "shell.execute_reply": "2022-07-20T06:48:36.323053Z"
    },
    "lines_to_next_cell": 0,
    "papermill": {
     "duration": 0.010672,
     "end_time": "2022-07-20T06:48:36.326041",
     "exception": false,
     "start_time": "2022-07-20T06:48:36.315369",
     "status": "completed"
    },
    "tags": [
     "parameters"
    ]
   },
   "outputs": [],
   "source": [
    "# - During automated runs parameters will be injected in the below cell -"
   ]
  },
  {
   "cell_type": "code",
   "execution_count": 3,
   "id": "3a04795b",
   "metadata": {
    "execution": {
     "iopub.execute_input": "2022-07-20T06:48:36.332775Z",
     "iopub.status.busy": "2022-07-20T06:48:36.332562Z",
     "iopub.status.idle": "2022-07-20T06:48:36.336772Z",
     "shell.execute_reply": "2022-07-20T06:48:36.336253Z"
    },
    "papermill": {
     "duration": 0.0108,
     "end_time": "2022-07-20T06:48:36.339500",
     "exception": false,
     "start_time": "2022-07-20T06:48:36.328700",
     "status": "completed"
    },
    "tags": [
     "injected-parameters"
    ]
   },
   "outputs": [],
   "source": [
    "# Parameters\n",
    "P = {\n",
    "    \"pipeline.data_lake_root\": \"/pipeline-outputs/data-lake\",\n",
    "    \"pipeline.run_environment\": \"ci\",\n",
    "    \"pipeline.pipeline_run_id\": \"9b8eb2de-e507-4056-840d-1f7140a936d7\",\n",
    "    \"pipeline.github.repository\": \"pynb-dag-runner/mnist-digits-demo-pipeline\",\n",
    "    \"pipeline.github.workflow\": \"Run automated tests, pipeline and deploy results to static reporting site\",\n",
    "    \"pipeline.github.runner_name\": \"Hosted Agent\",\n",
    "    \"pipeline.github.run_id\": \"2702768688\",\n",
    "    \"pipeline.github.actor\": \"matiasdahl\",\n",
    "    \"pipeline.github.job\": \"run-tests-pipeline-and-persist-pipeline-outputs\",\n",
    "    \"pipeline.github.base_ref\": \"\",\n",
    "    \"pipeline.github.head_ref\": \"\",\n",
    "    \"pipeline.github.sha\": \"5a6f90a9473b3095841d5b5dc7b58f5f049a0f71\",\n",
    "    \"pipeline.github.ref\": \"refs/heads/development\",\n",
    "    \"pipeline.github.ref_type\": \"branch\",\n",
    "    \"pipeline.github.ref_name\": \"development\",\n",
    "    \"pipeline.github.event_name\": \"schedule\",\n",
    "    \"task.nr_train_images\": 600,\n",
    "    \"task.notebook\": \"notebooks/train-model.py\",\n",
    "    \"task.max_nr_retries\": \"1\",\n",
    "    \"run.retry_nr\": \"0\",\n",
    "    \"task.timeout_s\": \"None\",\n",
    "    \"task.num_cpus\": 1,\n",
    "    \"_opentelemetry_traceparent\": \"00-bf0e54157d24123a8dfdaf7635805574-d91795c8e4520836-01\",\n",
    "}\n"
   ]
  },
  {
   "cell_type": "code",
   "execution_count": 4,
   "id": "4756b3e2",
   "metadata": {
    "execution": {
     "iopub.execute_input": "2022-07-20T06:48:36.346370Z",
     "iopub.status.busy": "2022-07-20T06:48:36.346146Z",
     "iopub.status.idle": "2022-07-20T06:48:36.349054Z",
     "shell.execute_reply": "2022-07-20T06:48:36.348524Z"
    },
    "lines_to_next_cell": 0,
    "papermill": {
     "duration": 0.009154,
     "end_time": "2022-07-20T06:48:36.351740",
     "exception": false,
     "start_time": "2022-07-20T06:48:36.342586",
     "status": "completed"
    },
    "tags": []
   },
   "outputs": [],
   "source": [
    "# -----------------------------------------------------------------------"
   ]
  },
  {
   "cell_type": "markdown",
   "id": "f1afaa79",
   "metadata": {
    "papermill": {
     "duration": 0.002791,
     "end_time": "2022-07-20T06:48:36.357411",
     "exception": false,
     "start_time": "2022-07-20T06:48:36.354620",
     "status": "completed"
    },
    "tags": []
   },
   "source": [
    "---"
   ]
  },
  {
   "cell_type": "markdown",
   "id": "e1eb81ef",
   "metadata": {
    "lines_to_next_cell": 2,
    "papermill": {
     "duration": 0.002876,
     "end_time": "2022-07-20T06:48:36.363375",
     "exception": false,
     "start_time": "2022-07-20T06:48:36.360499",
     "status": "completed"
    },
    "tags": []
   },
   "source": [
    "### Notebook code"
   ]
  },
  {
   "cell_type": "code",
   "execution_count": 5,
   "id": "bd395ce1",
   "metadata": {
    "execution": {
     "iopub.execute_input": "2022-07-20T06:48:36.370213Z",
     "iopub.status.busy": "2022-07-20T06:48:36.369970Z",
     "iopub.status.idle": "2022-07-20T06:48:36.881929Z",
     "shell.execute_reply": "2022-07-20T06:48:36.881231Z"
    },
    "papermill": {
     "duration": 0.517941,
     "end_time": "2022-07-20T06:48:36.884113",
     "exception": false,
     "start_time": "2022-07-20T06:48:36.366172",
     "status": "completed"
    },
    "tags": []
   },
   "outputs": [
    {
     "name": "stderr",
     "output_type": "stream",
     "text": [
      "2022-07-20 06:48:36,681\tINFO worker.py:842 -- Connecting to existing Ray cluster at address: 172.17.0.2:6379\n"
     ]
    }
   ],
   "source": [
    "from pynb_dag_runner.tasks.task_opentelemetry_logging import PydarLogger\n",
    "\n",
    "logger = PydarLogger(P)"
   ]
  },
  {
   "cell_type": "markdown",
   "id": "385f493e",
   "metadata": {
    "papermill": {
     "duration": 0.003939,
     "end_time": "2022-07-20T06:48:36.891906",
     "exception": false,
     "start_time": "2022-07-20T06:48:36.887967",
     "status": "completed"
    },
    "tags": []
   },
   "source": [
    "## Load and limit train data"
   ]
  },
  {
   "cell_type": "code",
   "execution_count": 6,
   "id": "6188e25c",
   "metadata": {
    "execution": {
     "iopub.execute_input": "2022-07-20T06:48:36.899963Z",
     "iopub.status.busy": "2022-07-20T06:48:36.899577Z",
     "iopub.status.idle": "2022-07-20T06:48:37.283436Z",
     "shell.execute_reply": "2022-07-20T06:48:37.282392Z"
    },
    "papermill": {
     "duration": 0.390911,
     "end_time": "2022-07-20T06:48:37.285702",
     "exception": false,
     "start_time": "2022-07-20T06:48:36.894791",
     "status": "completed"
    },
    "tags": []
   },
   "outputs": [],
   "source": [
    "def load_and_limit_train_data(P):\n",
    "    from common.io import datalake_root, read_numpy\n",
    "    from sklearn.model_selection import train_test_split\n",
    "\n",
    "    X_train_all = read_numpy(datalake_root(P) / \"train-data\" / \"digits.numpy\")\n",
    "    y_train_all = read_numpy(datalake_root(P) / \"train-data\" / \"labels.numpy\")\n",
    "\n",
    "    assert isinstance(P[\"task.nr_train_images\"], int)\n",
    "\n",
    "    # Note: train_test_split will fail if split is 0 or 100%.\n",
    "    assert 0 < P[\"task.nr_train_images\"] < len(y_train_all)\n",
    "\n",
    "    X_train, _, y_train, _ = train_test_split(\n",
    "        X_train_all,\n",
    "        y_train_all,\n",
    "        train_size=P[\"task.nr_train_images\"],\n",
    "        test_size=None,\n",
    "        stratify=y_train_all,\n",
    "        shuffle=True,\n",
    "        random_state=123,\n",
    "    )\n",
    "\n",
    "    assert X_train.shape == (len(y_train), 8 * 8)\n",
    "    return X_train, y_train\n",
    "\n",
    "\n",
    "X_train, y_train = load_and_limit_train_data(P)"
   ]
  },
  {
   "cell_type": "markdown",
   "id": "e0e96b25",
   "metadata": {
    "papermill": {
     "duration": 0.003067,
     "end_time": "2022-07-20T06:48:37.293365",
     "exception": false,
     "start_time": "2022-07-20T06:48:37.290298",
     "status": "completed"
    },
    "tags": []
   },
   "source": [
    "## Train support vector classifier model\n",
    "\n",
    "Below we assume that the hyperparameter $C$ is known.\n",
    "\n",
    "However, this should ideally be found by a hyperparameter search. That could be\n",
    "done in parallel on the Ray cluster, but this needs some more work. Ie., to use\n",
    "multiple cores in the notebook, those cores should be reserved when starting the\n",
    "notebook task (TODO).\n",
    "\n",
    "- https://docs.ray.io/en/latest/tune/key-concepts.html\n",
    "\n",
    "Note: cv-scores would need to be computed here, since they depend on the train data.\n",
    "After this notebook only the onnx-model is available."
   ]
  },
  {
   "cell_type": "code",
   "execution_count": 7,
   "id": "3f31878f",
   "metadata": {
    "execution": {
     "iopub.execute_input": "2022-07-20T06:48:37.300790Z",
     "iopub.status.busy": "2022-07-20T06:48:37.300373Z",
     "iopub.status.idle": "2022-07-20T06:48:37.378647Z",
     "shell.execute_reply": "2022-07-20T06:48:37.377878Z"
    },
    "papermill": {
     "duration": 0.084244,
     "end_time": "2022-07-20T06:48:37.380750",
     "exception": false,
     "start_time": "2022-07-20T06:48:37.296506",
     "status": "completed"
    },
    "tags": []
   },
   "outputs": [],
   "source": [
    "from sklearn.svm import SVC"
   ]
  },
  {
   "cell_type": "code",
   "execution_count": 8,
   "id": "9fde3c56",
   "metadata": {
    "execution": {
     "iopub.execute_input": "2022-07-20T06:48:37.392363Z",
     "iopub.status.busy": "2022-07-20T06:48:37.391983Z",
     "iopub.status.idle": "2022-07-20T06:48:37.481998Z",
     "shell.execute_reply": "2022-07-20T06:48:37.481288Z"
    },
    "papermill": {
     "duration": 0.099213,
     "end_time": "2022-07-20T06:48:37.483556",
     "exception": false,
     "start_time": "2022-07-20T06:48:37.384343",
     "status": "completed"
    },
    "tags": []
   },
   "outputs": [
    {
     "data": {
      "text/plain": [
       "SVC(C=0.001, kernel='linear', probability=True)"
      ]
     },
     "execution_count": 8,
     "metadata": {},
     "output_type": "execute_result"
    }
   ],
   "source": [
    "model = SVC(C=0.001, kernel=\"linear\", probability=True)\n",
    "\n",
    "model.fit(X_train, y_train)"
   ]
  },
  {
   "cell_type": "markdown",
   "id": "9353485c",
   "metadata": {
    "papermill": {
     "duration": 0.003111,
     "end_time": "2022-07-20T06:48:37.490031",
     "exception": false,
     "start_time": "2022-07-20T06:48:37.486920",
     "status": "completed"
    },
    "tags": []
   },
   "source": [
    "### Q: Can the labels returned by `predict(..)` be computed from probabilities returned by the `predict_prob`-method?"
   ]
  },
  {
   "cell_type": "code",
   "execution_count": 9,
   "id": "dbc0c3f2",
   "metadata": {
    "execution": {
     "iopub.execute_input": "2022-07-20T06:48:37.497572Z",
     "iopub.status.busy": "2022-07-20T06:48:37.497213Z",
     "iopub.status.idle": "2022-07-20T06:48:37.534773Z",
     "shell.execute_reply": "2022-07-20T06:48:37.534127Z"
    },
    "papermill": {
     "duration": 0.043269,
     "end_time": "2022-07-20T06:48:37.536450",
     "exception": false,
     "start_time": "2022-07-20T06:48:37.493181",
     "status": "completed"
    },
    "tags": []
   },
   "outputs": [
    {
     "name": "stdout",
     "output_type": "stream",
     "text": [
      " - Logging nr_max_prob_neq_label (int) : 2\n"
     ]
    }
   ],
   "source": [
    "import numpy as np\n",
    "\n",
    "y_train_labels = model.predict(X_train)\n",
    "y_train_probabilities = model.predict_proba(X_train)\n",
    "assert y_train_probabilities.shape == (len(y_train), 10)\n",
    "\n",
    "y_train_max_prob_labels = np.argmax(y_train_probabilities, axis=1)\n",
    "assert y_train_labels.shape == y_train_max_prob_labels.shape == y_train.shape\n",
    "\n",
    "# If the predicted labels would coincide with the labels that have\n",
    "# maximum probability, the below number would be zero\n",
    "logger.log_int(\n",
    "    \"nr_max_prob_neq_label\", int(sum(y_train_max_prob_labels != y_train_labels))\n",
    ")"
   ]
  },
  {
   "cell_type": "markdown",
   "id": "10a09d49",
   "metadata": {
    "papermill": {
     "duration": 0.003237,
     "end_time": "2022-07-20T06:48:37.543212",
     "exception": false,
     "start_time": "2022-07-20T06:48:37.539975",
     "status": "completed"
    },
    "tags": []
   },
   "source": [
    "The explanation is (likely) explained in the SVC source, see\n",
    "[here](https://github.com/scikit-learn/scikit-learn/blob/main/sklearn/svm/_base.py).\n",
    "Namely, the outputs from `predict(..)` and `predict_proba(..)` may not in some\n",
    "cases be compatible since the latter is computed using cross-validation while\n",
    "the former is not. Thus, the above number need not be zero."
   ]
  },
  {
   "cell_type": "markdown",
   "id": "b9d5fac5",
   "metadata": {
    "papermill": {
     "duration": 0.003407,
     "end_time": "2022-07-20T06:48:37.550591",
     "exception": false,
     "start_time": "2022-07-20T06:48:37.547184",
     "status": "completed"
    },
    "tags": []
   },
   "source": [
    "## Persist model"
   ]
  },
  {
   "cell_type": "code",
   "execution_count": 10,
   "id": "eebf7142",
   "metadata": {
    "execution": {
     "iopub.execute_input": "2022-07-20T06:48:37.559432Z",
     "iopub.status.busy": "2022-07-20T06:48:37.559176Z",
     "iopub.status.idle": "2022-07-20T06:48:38.713900Z",
     "shell.execute_reply": "2022-07-20T06:48:38.713291Z"
    },
    "papermill": {
     "duration": 1.161197,
     "end_time": "2022-07-20T06:48:38.715733",
     "exception": false,
     "start_time": "2022-07-20T06:48:37.554536",
     "status": "completed"
    },
    "tags": []
   },
   "outputs": [
    {
     "name": "stdout",
     "output_type": "stream",
     "text": [
      "\u001b[2m\u001b[1m\u001b[36m(scheduler +1s)\u001b[0m Tip: use `ray status` to view detailed cluster status. To disable these messages, set RAY_SCHEDULER_EVENTS=0.\n",
      "\u001b[2m\u001b[1m\u001b[33m(scheduler +1s)\u001b[0m Warning: The following resource request cannot be scheduled right now: {'CPU': 1.0}. This is likely due to all cluster resources being claimed by actors. Consider creating fewer actors or adding more nodes to this Ray cluster.\n"
     ]
    }
   ],
   "source": [
    "from skl2onnx import convert_sklearn\n",
    "from skl2onnx.common.data_types import FloatTensorType\n",
    "\n",
    "#\n",
    "from common.io import datalake_root, write_onnx"
   ]
  },
  {
   "cell_type": "code",
   "execution_count": 11,
   "id": "668ef8c0",
   "metadata": {
    "execution": {
     "iopub.execute_input": "2022-07-20T06:48:38.724853Z",
     "iopub.status.busy": "2022-07-20T06:48:38.724296Z",
     "iopub.status.idle": "2022-07-20T06:48:38.768036Z",
     "shell.execute_reply": "2022-07-20T06:48:38.766744Z"
    },
    "papermill": {
     "duration": 0.050505,
     "end_time": "2022-07-20T06:48:38.770032",
     "exception": false,
     "start_time": "2022-07-20T06:48:38.719527",
     "status": "completed"
    },
    "tags": []
   },
   "outputs": [],
   "source": [
    "# convert sklearn model into onnx and persist to data lake\n",
    "\n",
    "model_onnx = convert_sklearn(\n",
    "    model, initial_types=[(\"float_input_8x8_image\", FloatTensorType([None, 8 * 8]))]\n",
    ")\n",
    "write_onnx(\n",
    "    datalake_root(P)\n",
    "    / \"models\"\n",
    "    / f\"nr_train_images={P['task.nr_train_images']}\"\n",
    "    / \"model.onnx\",\n",
    "    model_onnx,\n",
    ")"
   ]
  },
  {
   "cell_type": "code",
   "execution_count": null,
   "id": "7a140ada",
   "metadata": {
    "papermill": {
     "duration": 0.005076,
     "end_time": "2022-07-20T06:48:38.779816",
     "exception": false,
     "start_time": "2022-07-20T06:48:38.774740",
     "status": "completed"
    },
    "tags": []
   },
   "outputs": [],
   "source": []
  }
 ],
 "metadata": {
  "jupytext": {
   "cell_metadata_filter": "tags,-all",
   "main_language": "python",
   "notebook_metadata_filter": "-all"
  },
  "language_info": {
   "codemirror_mode": {
    "name": "ipython",
    "version": 3
   },
   "file_extension": ".py",
   "mimetype": "text/x-python",
   "name": "python",
   "nbconvert_exporter": "python",
   "pygments_lexer": "ipython3",
   "version": "3.8.10"
  },
  "papermill": {
   "default_parameters": {},
   "duration": 5.069992,
   "end_time": "2022-07-20T06:48:39.906453",
   "environment_variables": {},
   "exception": null,
   "input_path": "/home/host_user/workspace/mnist-demo-pipeline/mnist-demo-pipeline/notebooks/temp-notebook-ishhvot5.ipynb",
   "output_path": "notebooks/train-model.ipynb",
   "parameters": {
    "P": {
     "_opentelemetry_traceparent": "00-bf0e54157d24123a8dfdaf7635805574-d91795c8e4520836-01",
     "pipeline.data_lake_root": "/pipeline-outputs/data-lake",
     "pipeline.github.actor": "matiasdahl",
     "pipeline.github.base_ref": "",
     "pipeline.github.event_name": "schedule",
     "pipeline.github.head_ref": "",
     "pipeline.github.job": "run-tests-pipeline-and-persist-pipeline-outputs",
     "pipeline.github.ref": "refs/heads/development",
     "pipeline.github.ref_name": "development",
     "pipeline.github.ref_type": "branch",
     "pipeline.github.repository": "pynb-dag-runner/mnist-digits-demo-pipeline",
     "pipeline.github.run_id": "2702768688",
     "pipeline.github.runner_name": "Hosted Agent",
     "pipeline.github.sha": "5a6f90a9473b3095841d5b5dc7b58f5f049a0f71",
     "pipeline.github.workflow": "Run automated tests, pipeline and deploy results to static reporting site",
     "pipeline.pipeline_run_id": "9b8eb2de-e507-4056-840d-1f7140a936d7",
     "pipeline.run_environment": "ci",
     "run.retry_nr": "0",
     "task.max_nr_retries": "1",
     "task.notebook": "notebooks/train-model.py",
     "task.nr_train_images": 600,
     "task.num_cpus": 1,
     "task.timeout_s": "None"
    }
   },
   "start_time": "2022-07-20T06:48:34.836461",
   "version": "2.3.3"
  }
 },
 "nbformat": 4,
 "nbformat_minor": 5
}