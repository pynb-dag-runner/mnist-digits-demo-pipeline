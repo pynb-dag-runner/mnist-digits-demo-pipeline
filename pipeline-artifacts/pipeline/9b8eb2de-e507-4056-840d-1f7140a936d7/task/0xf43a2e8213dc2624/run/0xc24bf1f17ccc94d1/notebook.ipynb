{
 "cells": [
  {
   "cell_type": "markdown",
   "id": "3020cd9a",
   "metadata": {
    "papermill": {
     "duration": 0.003888,
     "end_time": "2022-07-20T06:49:14.870496",
     "exception": false,
     "start_time": "2022-07-20T06:49:14.866608",
     "status": "completed"
    },
    "tags": []
   },
   "source": [
    "# Summarize model performances\n",
    "\n",
    "This notebooks plots the performances (using averaged ROC AUC scores) for models\n",
    "trained with different training sets."
   ]
  },
  {
   "cell_type": "markdown",
   "id": "72ca9f58",
   "metadata": {
    "papermill": {
     "duration": 0.002445,
     "end_time": "2022-07-20T06:49:14.876324",
     "exception": false,
     "start_time": "2022-07-20T06:49:14.873879",
     "status": "completed"
    },
    "tags": []
   },
   "source": [
    "### Determine run parameters"
   ]
  },
  {
   "cell_type": "code",
   "execution_count": 1,
   "id": "bfa19559",
   "metadata": {
    "execution": {
     "iopub.execute_input": "2022-07-20T06:49:14.883156Z",
     "iopub.status.busy": "2022-07-20T06:49:14.882831Z",
     "iopub.status.idle": "2022-07-20T06:49:14.889639Z",
     "shell.execute_reply": "2022-07-20T06:49:14.888928Z"
    },
    "lines_to_next_cell": 0,
    "papermill": {
     "duration": 0.012392,
     "end_time": "2022-07-20T06:49:14.891149",
     "exception": false,
     "start_time": "2022-07-20T06:49:14.878757",
     "status": "completed"
    },
    "tags": []
   },
   "outputs": [],
   "source": [
    "# ----------------- Parameters for interactive development --------------\n",
    "P = {\n",
    "    \"pipeline.run_environment\": \"dev\",\n",
    "}"
   ]
  },
  {
   "cell_type": "code",
   "execution_count": 2,
   "id": "184d89a5",
   "metadata": {
    "execution": {
     "iopub.execute_input": "2022-07-20T06:49:14.897925Z",
     "iopub.status.busy": "2022-07-20T06:49:14.897686Z",
     "iopub.status.idle": "2022-07-20T06:49:14.900648Z",
     "shell.execute_reply": "2022-07-20T06:49:14.900030Z"
    },
    "lines_to_next_cell": 0,
    "papermill": {
     "duration": 0.008065,
     "end_time": "2022-07-20T06:49:14.902218",
     "exception": false,
     "start_time": "2022-07-20T06:49:14.894153",
     "status": "completed"
    },
    "tags": [
     "parameters"
    ]
   },
   "outputs": [],
   "source": [
    "# - During automated runs parameters will be injected in the below cell -"
   ]
  },
  {
   "cell_type": "code",
   "execution_count": 3,
   "id": "0b900cd5",
   "metadata": {
    "execution": {
     "iopub.execute_input": "2022-07-20T06:49:14.908838Z",
     "iopub.status.busy": "2022-07-20T06:49:14.908302Z",
     "iopub.status.idle": "2022-07-20T06:49:14.913669Z",
     "shell.execute_reply": "2022-07-20T06:49:14.913134Z"
    },
    "papermill": {
     "duration": 0.013761,
     "end_time": "2022-07-20T06:49:14.918685",
     "exception": false,
     "start_time": "2022-07-20T06:49:14.904924",
     "status": "completed"
    },
    "tags": [
     "injected-parameters"
    ]
   },
   "outputs": [],
   "source": [
    "# Parameters\n",
    "P = {\n",
    "    \"pipeline.data_lake_root\": \"/pipeline-outputs/data-lake\",\n",
    "    \"pipeline.run_environment\": \"ci\",\n",
    "    \"pipeline.pipeline_run_id\": \"9b8eb2de-e507-4056-840d-1f7140a936d7\",\n",
    "    \"pipeline.github.repository\": \"pynb-dag-runner/mnist-digits-demo-pipeline\",\n",
    "    \"pipeline.github.workflow\": \"Run automated tests, pipeline and deploy results to static reporting site\",\n",
    "    \"pipeline.github.runner_name\": \"Hosted Agent\",\n",
    "    \"pipeline.github.run_id\": \"2702768688\",\n",
    "    \"pipeline.github.actor\": \"matiasdahl\",\n",
    "    \"pipeline.github.job\": \"run-tests-pipeline-and-persist-pipeline-outputs\",\n",
    "    \"pipeline.github.base_ref\": \"\",\n",
    "    \"pipeline.github.head_ref\": \"\",\n",
    "    \"pipeline.github.sha\": \"5a6f90a9473b3095841d5b5dc7b58f5f049a0f71\",\n",
    "    \"pipeline.github.ref\": \"refs/heads/development\",\n",
    "    \"pipeline.github.ref_type\": \"branch\",\n",
    "    \"pipeline.github.ref_name\": \"development\",\n",
    "    \"pipeline.github.event_name\": \"schedule\",\n",
    "    \"task.notebook\": \"notebooks/summary.py\",\n",
    "    \"task.max_nr_retries\": \"1\",\n",
    "    \"run.retry_nr\": \"0\",\n",
    "    \"task.timeout_s\": \"None\",\n",
    "    \"task.num_cpus\": 1,\n",
    "    \"_opentelemetry_traceparent\": \"00-bf0e54157d24123a8dfdaf7635805574-c7c70b01bf460ba7-01\",\n",
    "}\n"
   ]
  },
  {
   "cell_type": "code",
   "execution_count": 4,
   "id": "48ab2f5d",
   "metadata": {
    "execution": {
     "iopub.execute_input": "2022-07-20T06:49:14.925113Z",
     "iopub.status.busy": "2022-07-20T06:49:14.924759Z",
     "iopub.status.idle": "2022-07-20T06:49:14.927821Z",
     "shell.execute_reply": "2022-07-20T06:49:14.927197Z"
    },
    "lines_to_next_cell": 0,
    "papermill": {
     "duration": 0.007984,
     "end_time": "2022-07-20T06:49:14.929297",
     "exception": false,
     "start_time": "2022-07-20T06:49:14.921313",
     "status": "completed"
    },
    "tags": []
   },
   "outputs": [],
   "source": [
    "# -----------------------------------------------------------------------"
   ]
  },
  {
   "cell_type": "markdown",
   "id": "9257eb33",
   "metadata": {
    "papermill": {
     "duration": 0.002529,
     "end_time": "2022-07-20T06:49:14.934303",
     "exception": false,
     "start_time": "2022-07-20T06:49:14.931774",
     "status": "completed"
    },
    "tags": []
   },
   "source": [
    "---"
   ]
  },
  {
   "cell_type": "markdown",
   "id": "852841fc",
   "metadata": {
    "lines_to_next_cell": 2,
    "papermill": {
     "duration": 0.002747,
     "end_time": "2022-07-20T06:49:14.939560",
     "exception": false,
     "start_time": "2022-07-20T06:49:14.936813",
     "status": "completed"
    },
    "tags": []
   },
   "source": [
    "### Notebook code"
   ]
  },
  {
   "cell_type": "code",
   "execution_count": 5,
   "id": "f7cd9354",
   "metadata": {
    "execution": {
     "iopub.execute_input": "2022-07-20T06:49:14.945733Z",
     "iopub.status.busy": "2022-07-20T06:49:14.945378Z",
     "iopub.status.idle": "2022-07-20T06:49:16.037756Z",
     "shell.execute_reply": "2022-07-20T06:49:16.036993Z"
    },
    "papermill": {
     "duration": 1.098492,
     "end_time": "2022-07-20T06:49:16.040507",
     "exception": false,
     "start_time": "2022-07-20T06:49:14.942015",
     "status": "completed"
    },
    "tags": []
   },
   "outputs": [],
   "source": [
    "#\n",
    "import pandas as pd\n",
    "import matplotlib.pyplot as plt\n",
    "\n",
    "#\n",
    "from pynb_dag_runner.tasks.task_opentelemetry_logging import PydarLogger"
   ]
  },
  {
   "cell_type": "code",
   "execution_count": 6,
   "id": "ee617396",
   "metadata": {
    "execution": {
     "iopub.execute_input": "2022-07-20T06:49:16.047902Z",
     "iopub.status.busy": "2022-07-20T06:49:16.047391Z",
     "iopub.status.idle": "2022-07-20T06:49:16.200960Z",
     "shell.execute_reply": "2022-07-20T06:49:16.199447Z"
    },
    "papermill": {
     "duration": 0.15961,
     "end_time": "2022-07-20T06:49:16.203148",
     "exception": false,
     "start_time": "2022-07-20T06:49:16.043538",
     "status": "completed"
    },
    "tags": []
   },
   "outputs": [
    {
     "name": "stderr",
     "output_type": "stream",
     "text": [
      "2022-07-20 06:49:16,052\tINFO worker.py:842 -- Connecting to existing Ray cluster at address: 172.17.0.2:6379\n"
     ]
    }
   ],
   "source": [
    "logger = PydarLogger(P=P)"
   ]
  },
  {
   "cell_type": "code",
   "execution_count": 7,
   "id": "b7fb664f",
   "metadata": {
    "execution": {
     "iopub.execute_input": "2022-07-20T06:49:16.211582Z",
     "iopub.status.busy": "2022-07-20T06:49:16.211144Z",
     "iopub.status.idle": "2022-07-20T06:49:16.214858Z",
     "shell.execute_reply": "2022-07-20T06:49:16.214209Z"
    },
    "papermill": {
     "duration": 0.00952,
     "end_time": "2022-07-20T06:49:16.216383",
     "exception": false,
     "start_time": "2022-07-20T06:49:16.206863",
     "status": "completed"
    },
    "tags": []
   },
   "outputs": [],
   "source": [
    "from pynb_dag_runner.tasks.task_opentelemetry_logging import (\n",
    "    PydarLogger,\n",
    "    get_logged_values,\n",
    ")\n",
    "from pynb_dag_runner.opentelemetry_helpers import _get_all_spans, Spans"
   ]
  },
  {
   "cell_type": "code",
   "execution_count": 8,
   "id": "2d3ec5eb",
   "metadata": {
    "execution": {
     "iopub.execute_input": "2022-07-20T06:49:16.223458Z",
     "iopub.status.busy": "2022-07-20T06:49:16.223230Z",
     "iopub.status.idle": "2022-07-20T06:49:16.229451Z",
     "shell.execute_reply": "2022-07-20T06:49:16.228665Z"
    },
    "papermill": {
     "duration": 0.012074,
     "end_time": "2022-07-20T06:49:16.231274",
     "exception": false,
     "start_time": "2022-07-20T06:49:16.219200",
     "status": "completed"
    },
    "tags": []
   },
   "outputs": [],
   "source": [
    "def get_model_benchmarks():\n",
    "    \"\"\"\n",
    "    Query the OpenTelemetry logs for *this pipeline run* and return\n",
    "    all key-values logged from all runs of the benchmark-model.py task\n",
    "\n",
    "    For testing a json file with OpenTelemetry spans (as an array)\n",
    "    can be used as follows:\n",
    "\n",
    "    - Create output directory `mkdir /tmp/spans`\n",
    "    - Run unit tests. This will create pipeline-outputs/opentelemetry-spans.json\n",
    "    - Convert this json-array into jsonl format as follows\n",
    "\n",
    "    jq -c '.[]' /pipeline-outputs/opentelemetry-spans.json > /tmp/spans/data.txt\n",
    "\n",
    "    \"\"\"\n",
    "    spans: Spans = Spans(_get_all_spans())\n",
    "    print(f\"Found {len(spans)} spans\")\n",
    "\n",
    "    benchmark_spans = (\n",
    "        spans\n",
    "        # -\n",
    "        .filter([\"name\"], \"execute-task\")\n",
    "        # -\n",
    "        .filter([\"attributes\", \"task.notebook\"], \"notebooks/benchmark-model.py\")\n",
    "    )\n",
    "\n",
    "    result = []\n",
    "    for s in benchmark_spans:\n",
    "        result.append(\n",
    "            {\n",
    "                \"span_id\": s[\"context\"][\"span_id\"],\n",
    "                \"nr_train_images\": s[\"attributes\"][\"task.nr_train_images\"],\n",
    "                \"data\": get_logged_values(spans.bound_under(s)),\n",
    "            }\n",
    "        )\n",
    "\n",
    "    return result\n",
    "\n",
    "\n",
    "def adjust_pandas(df):\n",
    "    def column_renamer(col_name: str) -> str:\n",
    "        return (\n",
    "            col_name\n",
    "            # -- 'data.roc_auc_per_digit.4' -> 'roc_auc.4'\n",
    "            .replace(\"data.roc_auc_per_digit\", \"roc_auc\")\n",
    "            # -- 'data.roc_auc_class_mean' -> 'roc_auc_mean'\n",
    "            .replace(\"data.roc_auc_class_mean\", \"roc_auc_mean\")\n",
    "        )\n",
    "\n",
    "    return df.rename(column_renamer, axis=\"columns\").sort_values(by=\"nr_train_images\")"
   ]
  },
  {
   "cell_type": "code",
   "execution_count": 9,
   "id": "1ef4ef73",
   "metadata": {
    "execution": {
     "iopub.execute_input": "2022-07-20T06:49:16.238644Z",
     "iopub.status.busy": "2022-07-20T06:49:16.238115Z",
     "iopub.status.idle": "2022-07-20T06:49:16.274863Z",
     "shell.execute_reply": "2022-07-20T06:49:16.274192Z"
    },
    "papermill": {
     "duration": 0.042038,
     "end_time": "2022-07-20T06:49:16.276564",
     "exception": false,
     "start_time": "2022-07-20T06:49:16.234526",
     "status": "completed"
    },
    "tags": []
   },
   "outputs": [
    {
     "name": "stdout",
     "output_type": "stream",
     "text": [
      "Found 417 spans\n"
     ]
    }
   ],
   "source": [
    "df_data = adjust_pandas(pd.json_normalize(get_model_benchmarks()))"
   ]
  },
  {
   "cell_type": "code",
   "execution_count": 10,
   "id": "9fc6276a",
   "metadata": {
    "execution": {
     "iopub.execute_input": "2022-07-20T06:49:16.284975Z",
     "iopub.status.busy": "2022-07-20T06:49:16.284605Z",
     "iopub.status.idle": "2022-07-20T06:49:16.309617Z",
     "shell.execute_reply": "2022-07-20T06:49:16.308894Z"
    },
    "papermill": {
     "duration": 0.030941,
     "end_time": "2022-07-20T06:49:16.311600",
     "exception": false,
     "start_time": "2022-07-20T06:49:16.280659",
     "status": "completed"
    },
    "tags": []
   },
   "outputs": [
    {
     "data": {
      "text/html": [
       "<div>\n",
       "<style scoped>\n",
       "    .dataframe tbody tr th:only-of-type {\n",
       "        vertical-align: middle;\n",
       "    }\n",
       "\n",
       "    .dataframe tbody tr th {\n",
       "        vertical-align: top;\n",
       "    }\n",
       "\n",
       "    .dataframe thead th {\n",
       "        text-align: right;\n",
       "    }\n",
       "</style>\n",
       "<table border=\"1\" class=\"dataframe\">\n",
       "  <thead>\n",
       "    <tr style=\"text-align: right;\">\n",
       "      <th></th>\n",
       "      <th>span_id</th>\n",
       "      <th>nr_train_images</th>\n",
       "      <th>roc_auc_mean</th>\n",
       "      <th>roc_auc.0</th>\n",
       "      <th>roc_auc.1</th>\n",
       "      <th>roc_auc.2</th>\n",
       "      <th>roc_auc.3</th>\n",
       "      <th>roc_auc.4</th>\n",
       "      <th>roc_auc.5</th>\n",
       "      <th>roc_auc.6</th>\n",
       "      <th>roc_auc.7</th>\n",
       "      <th>roc_auc.8</th>\n",
       "      <th>roc_auc.9</th>\n",
       "    </tr>\n",
       "  </thead>\n",
       "  <tbody>\n",
       "    <tr>\n",
       "      <th>2</th>\n",
       "      <td>0x237a1008fe57cb42</td>\n",
       "      <td>600</td>\n",
       "      <td>0.9990</td>\n",
       "      <td>1.0</td>\n",
       "      <td>0.9992</td>\n",
       "      <td>1.0</td>\n",
       "      <td>0.9998</td>\n",
       "      <td>0.9992</td>\n",
       "      <td>0.9989</td>\n",
       "      <td>0.9999</td>\n",
       "      <td>0.9998</td>\n",
       "      <td>0.9946</td>\n",
       "      <td>0.9990</td>\n",
       "    </tr>\n",
       "    <tr>\n",
       "      <th>1</th>\n",
       "      <td>0x80ce5c6892361c4d</td>\n",
       "      <td>800</td>\n",
       "      <td>0.9989</td>\n",
       "      <td>1.0</td>\n",
       "      <td>0.9988</td>\n",
       "      <td>1.0</td>\n",
       "      <td>0.9998</td>\n",
       "      <td>0.9995</td>\n",
       "      <td>0.9991</td>\n",
       "      <td>1.0000</td>\n",
       "      <td>0.9999</td>\n",
       "      <td>0.9929</td>\n",
       "      <td>0.9994</td>\n",
       "    </tr>\n",
       "    <tr>\n",
       "      <th>0</th>\n",
       "      <td>0xd3e9adde2fb1b0ba</td>\n",
       "      <td>1000</td>\n",
       "      <td>0.9991</td>\n",
       "      <td>1.0</td>\n",
       "      <td>0.9990</td>\n",
       "      <td>1.0</td>\n",
       "      <td>0.9998</td>\n",
       "      <td>0.9996</td>\n",
       "      <td>0.9994</td>\n",
       "      <td>0.9999</td>\n",
       "      <td>0.9998</td>\n",
       "      <td>0.9944</td>\n",
       "      <td>0.9996</td>\n",
       "    </tr>\n",
       "    <tr>\n",
       "      <th>3</th>\n",
       "      <td>0xd6fffb83e3ba09cb</td>\n",
       "      <td>1200</td>\n",
       "      <td>0.9994</td>\n",
       "      <td>1.0</td>\n",
       "      <td>0.9991</td>\n",
       "      <td>1.0</td>\n",
       "      <td>0.9999</td>\n",
       "      <td>0.9997</td>\n",
       "      <td>0.9997</td>\n",
       "      <td>0.9999</td>\n",
       "      <td>0.9998</td>\n",
       "      <td>0.9957</td>\n",
       "      <td>0.9998</td>\n",
       "    </tr>\n",
       "  </tbody>\n",
       "</table>\n",
       "</div>"
      ],
      "text/plain": [
       "              span_id  nr_train_images  roc_auc_mean  roc_auc.0  roc_auc.1  \\\n",
       "2  0x237a1008fe57cb42              600        0.9990        1.0     0.9992   \n",
       "1  0x80ce5c6892361c4d              800        0.9989        1.0     0.9988   \n",
       "0  0xd3e9adde2fb1b0ba             1000        0.9991        1.0     0.9990   \n",
       "3  0xd6fffb83e3ba09cb             1200        0.9994        1.0     0.9991   \n",
       "\n",
       "   roc_auc.2  roc_auc.3  roc_auc.4  roc_auc.5  roc_auc.6  roc_auc.7  \\\n",
       "2        1.0     0.9998     0.9992     0.9989     0.9999     0.9998   \n",
       "1        1.0     0.9998     0.9995     0.9991     1.0000     0.9999   \n",
       "0        1.0     0.9998     0.9996     0.9994     0.9999     0.9998   \n",
       "3        1.0     0.9999     0.9997     0.9997     0.9999     0.9998   \n",
       "\n",
       "   roc_auc.8  roc_auc.9  \n",
       "2     0.9946     0.9990  \n",
       "1     0.9929     0.9994  \n",
       "0     0.9944     0.9996  \n",
       "3     0.9957     0.9998  "
      ]
     },
     "execution_count": 10,
     "metadata": {},
     "output_type": "execute_result"
    }
   ],
   "source": [
    "df_data.round(4)"
   ]
  },
  {
   "cell_type": "code",
   "execution_count": 11,
   "id": "cad9476c",
   "metadata": {
    "execution": {
     "iopub.execute_input": "2022-07-20T06:49:16.319893Z",
     "iopub.status.busy": "2022-07-20T06:49:16.319653Z",
     "iopub.status.idle": "2022-07-20T06:49:16.464304Z",
     "shell.execute_reply": "2022-07-20T06:49:16.463232Z"
    },
    "papermill": {
     "duration": 0.150924,
     "end_time": "2022-07-20T06:49:16.466368",
     "exception": false,
     "start_time": "2022-07-20T06:49:16.315444",
     "status": "completed"
    },
    "tags": []
   },
   "outputs": [
    {
     "data": {
      "image/png": "[encoded data removed]",
      "text/plain": [
       "<Figure size 1152x288 with 1 Axes>"
      ]
     },
     "metadata": {
      "needs_background": "light"
     },
     "output_type": "display_data"
    }
   ],
   "source": [
    "def plot_classifier_performance_summary(df_data):\n",
    "    fig, ax = plt.subplots(nrows=1, ncols=1, figsize=(16, 4), sharex=True)\n",
    "\n",
    "    #\n",
    "    ax.plot(\n",
    "        df_data[\"nr_train_images\"], df_data[\"roc_auc_mean\"], marker=\"o\", linestyle=\"--\"\n",
    "    )\n",
    "    ax.set_title(\n",
    "        f\"ROC AUC digit classifier performance on evaluation digits\", fontsize=17\n",
    "    )\n",
    "    ax.set_xlabel(\"Total number of digits in training set\", fontsize=14)\n",
    "    ax.set_ylabel(\"Mean ROC AUC\", fontsize=14)\n",
    "\n",
    "    fig.tight_layout()\n",
    "    fig.show()\n",
    "\n",
    "    return fig\n",
    "\n",
    "\n",
    "fig = plot_classifier_performance_summary(df_data)"
   ]
  },
  {
   "cell_type": "code",
   "execution_count": 12,
   "id": "67937217",
   "metadata": {
    "execution": {
     "iopub.execute_input": "2022-07-20T06:49:16.475842Z",
     "iopub.status.busy": "2022-07-20T06:49:16.475425Z",
     "iopub.status.idle": "2022-07-20T06:49:16.528673Z",
     "shell.execute_reply": "2022-07-20T06:49:16.528013Z"
    },
    "papermill": {
     "duration": 0.060261,
     "end_time": "2022-07-20T06:49:16.530737",
     "exception": false,
     "start_time": "2022-07-20T06:49:16.470476",
     "status": "completed"
    },
    "tags": []
   },
   "outputs": [],
   "source": [
    "logger.log_figure(\"auc-roc-model-performances.png\", fig)"
   ]
  },
  {
   "cell_type": "code",
   "execution_count": 13,
   "id": "cca41a04",
   "metadata": {
    "execution": {
     "iopub.execute_input": "2022-07-20T06:49:16.540356Z",
     "iopub.status.busy": "2022-07-20T06:49:16.540027Z",
     "iopub.status.idle": "2022-07-20T06:49:16.543328Z",
     "shell.execute_reply": "2022-07-20T06:49:16.542667Z"
    },
    "papermill": {
     "duration": 0.010098,
     "end_time": "2022-07-20T06:49:16.545468",
     "exception": false,
     "start_time": "2022-07-20T06:49:16.535370",
     "status": "completed"
    },
    "tags": []
   },
   "outputs": [],
   "source": [
    "###"
   ]
  },
  {
   "cell_type": "code",
   "execution_count": null,
   "id": "23e1e055",
   "metadata": {
    "papermill": {
     "duration": 0.003611,
     "end_time": "2022-07-20T06:49:16.552654",
     "exception": false,
     "start_time": "2022-07-20T06:49:16.549043",
     "status": "completed"
    },
    "tags": []
   },
   "outputs": [],
   "source": []
  }
 ],
 "metadata": {
  "jupytext": {
   "cell_metadata_filter": "tags,-all",
   "main_language": "python",
   "notebook_metadata_filter": "-all"
  },
  "language_info": {
   "codemirror_mode": {
    "name": "ipython",
    "version": 3
   },
   "file_extension": ".py",
   "mimetype": "text/x-python",
   "name": "python",
   "nbconvert_exporter": "python",
   "pygments_lexer": "ipython3",
   "version": "3.8.10"
  },
  "papermill": {
   "default_parameters": {},
   "duration": 3.965829,
   "end_time": "2022-07-20T06:49:17.476477",
   "environment_variables": {},
   "exception": null,
   "input_path": "/home/host_user/workspace/mnist-demo-pipeline/mnist-demo-pipeline/notebooks/temp-notebook-xwc6j4fr.ipynb",
   "output_path": "notebooks/summary.ipynb",
   "parameters": {
    "P": {
     "_opentelemetry_traceparent": "00-bf0e54157d24123a8dfdaf7635805574-c7c70b01bf460ba7-01",
     "pipeline.data_lake_root": "/pipeline-outputs/data-lake",
     "pipeline.github.actor": "matiasdahl",
     "pipeline.github.base_ref": "",
     "pipeline.github.event_name": "schedule",
     "pipeline.github.head_ref": "",
     "pipeline.github.job": "run-tests-pipeline-and-persist-pipeline-outputs",
     "pipeline.github.ref": "refs/heads/development",
     "pipeline.github.ref_name": "development",
     "pipeline.github.ref_type": "branch",
     "pipeline.github.repository": "pynb-dag-runner/mnist-digits-demo-pipeline",
     "pipeline.github.run_id": "2702768688",
     "pipeline.github.runner_name": "Hosted Agent",
     "pipeline.github.sha": "5a6f90a9473b3095841d5b5dc7b58f5f049a0f71",
     "pipeline.github.workflow": "Run automated tests, pipeline and deploy results to static reporting site",
     "pipeline.pipeline_run_id": "9b8eb2de-e507-4056-840d-1f7140a936d7",
     "pipeline.run_environment": "ci",
     "run.retry_nr": "0",
     "task.max_nr_retries": "1",
     "task.notebook": "notebooks/summary.py",
     "task.num_cpus": 1,
     "task.timeout_s": "None"
    }
   },
   "start_time": "2022-07-20T06:49:13.510648",
   "version": "2.3.3"
  }
 },
 "nbformat": 4,
 "nbformat_minor": 5
}