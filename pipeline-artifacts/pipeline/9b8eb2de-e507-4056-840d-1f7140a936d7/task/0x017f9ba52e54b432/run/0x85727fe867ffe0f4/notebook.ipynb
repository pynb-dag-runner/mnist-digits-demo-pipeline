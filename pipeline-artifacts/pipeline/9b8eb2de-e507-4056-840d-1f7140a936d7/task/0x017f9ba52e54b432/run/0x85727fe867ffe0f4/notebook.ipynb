{
 "cells": [
  {
   "cell_type": "markdown",
   "id": "142bd097",
   "metadata": {
    "papermill": {
     "duration": 0.003728,
     "end_time": "2022-07-20T06:48:25.972677",
     "exception": false,
     "start_time": "2022-07-20T06:48:25.968949",
     "status": "completed"
    },
    "tags": []
   },
   "source": [
    "# Ingest toy version of MNIST digit data from sklearn"
   ]
  },
  {
   "cell_type": "markdown",
   "id": "41fe2bb0",
   "metadata": {
    "papermill": {
     "duration": 0.002285,
     "end_time": "2022-07-20T06:48:25.977763",
     "exception": false,
     "start_time": "2022-07-20T06:48:25.975478",
     "status": "completed"
    },
    "tags": []
   },
   "source": [
    "### Determine run parameters"
   ]
  },
  {
   "cell_type": "code",
   "execution_count": 1,
   "id": "92085da4",
   "metadata": {
    "execution": {
     "iopub.execute_input": "2022-07-20T06:48:25.984238Z",
     "iopub.status.busy": "2022-07-20T06:48:25.983607Z",
     "iopub.status.idle": "2022-07-20T06:48:25.991253Z",
     "shell.execute_reply": "2022-07-20T06:48:25.990642Z"
    },
    "lines_to_next_cell": 0,
    "papermill": {
     "duration": 0.012662,
     "end_time": "2022-07-20T06:48:25.992875",
     "exception": false,
     "start_time": "2022-07-20T06:48:25.980213",
     "status": "completed"
    },
    "tags": []
   },
   "outputs": [],
   "source": [
    "# ----------------- Parameters for interactive development --------------\n",
    "P = {\n",
    "    \"pipeline.run_environment\": \"dev\",\n",
    "    \"pipeline.data_lake_root\": \"/pipeline-outputs/data-lake\",\n",
    "    \"run.retry_nr\": \"1\",\n",
    "}"
   ]
  },
  {
   "cell_type": "code",
   "execution_count": 2,
   "id": "c2101cd7",
   "metadata": {
    "execution": {
     "iopub.execute_input": "2022-07-20T06:48:25.998573Z",
     "iopub.status.busy": "2022-07-20T06:48:25.998345Z",
     "iopub.status.idle": "2022-07-20T06:48:26.003751Z",
     "shell.execute_reply": "2022-07-20T06:48:26.002474Z"
    },
    "lines_to_next_cell": 0,
    "papermill": {
     "duration": 0.010303,
     "end_time": "2022-07-20T06:48:26.005430",
     "exception": false,
     "start_time": "2022-07-20T06:48:25.995127",
     "status": "completed"
    },
    "tags": [
     "parameters"
    ]
   },
   "outputs": [],
   "source": [
    "# - During automated runs parameters will be injected in the below cell -"
   ]
  },
  {
   "cell_type": "code",
   "execution_count": 3,
   "id": "d9aa39fa",
   "metadata": {
    "execution": {
     "iopub.execute_input": "2022-07-20T06:48:26.013300Z",
     "iopub.status.busy": "2022-07-20T06:48:26.011945Z",
     "iopub.status.idle": "2022-07-20T06:48:26.017738Z",
     "shell.execute_reply": "2022-07-20T06:48:26.017236Z"
    },
    "papermill": {
     "duration": 0.011743,
     "end_time": "2022-07-20T06:48:26.019325",
     "exception": false,
     "start_time": "2022-07-20T06:48:26.007582",
     "status": "completed"
    },
    "tags": [
     "injected-parameters"
    ]
   },
   "outputs": [],
   "source": [
    "# Parameters\n",
    "P = {\n",
    "    \"pipeline.data_lake_root\": \"/pipeline-outputs/data-lake\",\n",
    "    \"pipeline.run_environment\": \"ci\",\n",
    "    \"pipeline.pipeline_run_id\": \"9b8eb2de-e507-4056-840d-1f7140a936d7\",\n",
    "    \"pipeline.github.repository\": \"pynb-dag-runner/mnist-digits-demo-pipeline\",\n",
    "    \"pipeline.github.workflow\": \"Run automated tests, pipeline and deploy results to static reporting site\",\n",
    "    \"pipeline.github.runner_name\": \"Hosted Agent\",\n",
    "    \"pipeline.github.run_id\": \"2702768688\",\n",
    "    \"pipeline.github.actor\": \"matiasdahl\",\n",
    "    \"pipeline.github.job\": \"run-tests-pipeline-and-persist-pipeline-outputs\",\n",
    "    \"pipeline.github.base_ref\": \"\",\n",
    "    \"pipeline.github.head_ref\": \"\",\n",
    "    \"pipeline.github.sha\": \"5a6f90a9473b3095841d5b5dc7b58f5f049a0f71\",\n",
    "    \"pipeline.github.ref\": \"refs/heads/development\",\n",
    "    \"pipeline.github.ref_type\": \"branch\",\n",
    "    \"pipeline.github.ref_name\": \"development\",\n",
    "    \"pipeline.github.event_name\": \"schedule\",\n",
    "    \"task.notebook\": \"notebooks/ingest.py\",\n",
    "    \"task.max_nr_retries\": \"15\",\n",
    "    \"run.retry_nr\": \"10\",\n",
    "    \"task.timeout_s\": \"10\",\n",
    "    \"task.num_cpus\": 1,\n",
    "    \"_opentelemetry_traceparent\": \"00-bf0e54157d24123a8dfdaf7635805574-8ab963624bd6306c-01\",\n",
    "}\n"
   ]
  },
  {
   "cell_type": "code",
   "execution_count": 4,
   "id": "11fb5be4",
   "metadata": {
    "execution": {
     "iopub.execute_input": "2022-07-20T06:48:26.026069Z",
     "iopub.status.busy": "2022-07-20T06:48:26.025676Z",
     "iopub.status.idle": "2022-07-20T06:48:26.028310Z",
     "shell.execute_reply": "2022-07-20T06:48:26.027802Z"
    },
    "lines_to_next_cell": 0,
    "papermill": {
     "duration": 0.008829,
     "end_time": "2022-07-20T06:48:26.031188",
     "exception": false,
     "start_time": "2022-07-20T06:48:26.022359",
     "status": "completed"
    },
    "tags": []
   },
   "outputs": [],
   "source": [
    "# -----------------------------------------------------------------------"
   ]
  },
  {
   "cell_type": "markdown",
   "id": "5c64c7ac",
   "metadata": {
    "lines_to_next_cell": 2,
    "papermill": {
     "duration": 0.002424,
     "end_time": "2022-07-20T06:48:26.036078",
     "exception": false,
     "start_time": "2022-07-20T06:48:26.033654",
     "status": "completed"
    },
    "tags": []
   },
   "source": [
    "---"
   ]
  },
  {
   "cell_type": "markdown",
   "id": "56610568",
   "metadata": {
    "papermill": {
     "duration": 0.002729,
     "end_time": "2022-07-20T06:48:26.041104",
     "exception": false,
     "start_time": "2022-07-20T06:48:26.038375",
     "status": "completed"
    },
    "tags": []
   },
   "source": [
    "### Simulate different types of failures (for testing timeout and retry logic)"
   ]
  },
  {
   "cell_type": "code",
   "execution_count": 5,
   "id": "63d2b433",
   "metadata": {
    "execution": {
     "iopub.execute_input": "2022-07-20T06:48:26.046767Z",
     "iopub.status.busy": "2022-07-20T06:48:26.046561Z",
     "iopub.status.idle": "2022-07-20T06:48:26.562339Z",
     "shell.execute_reply": "2022-07-20T06:48:26.561663Z"
    },
    "papermill": {
     "duration": 0.522634,
     "end_time": "2022-07-20T06:48:26.566001",
     "exception": false,
     "start_time": "2022-07-20T06:48:26.043367",
     "status": "completed"
    },
    "tags": []
   },
   "outputs": [
    {
     "name": "stderr",
     "output_type": "stream",
     "text": [
      "2022-07-20 06:48:26,379\tINFO worker.py:842 -- Connecting to existing Ray cluster at address: 172.17.0.2:6379\n"
     ]
    }
   ],
   "source": [
    "from pynb_dag_runner.tasks.task_opentelemetry_logging import PydarLogger\n",
    "\n",
    "logger = PydarLogger(P)"
   ]
  },
  {
   "cell_type": "code",
   "execution_count": 6,
   "id": "43f0c042",
   "metadata": {
    "execution": {
     "iopub.execute_input": "2022-07-20T06:48:26.573804Z",
     "iopub.status.busy": "2022-07-20T06:48:26.573294Z",
     "iopub.status.idle": "2022-07-20T06:48:26.580496Z",
     "shell.execute_reply": "2022-07-20T06:48:26.579959Z"
    },
    "papermill": {
     "duration": 0.016548,
     "end_time": "2022-07-20T06:48:26.586079",
     "exception": false,
     "start_time": "2022-07-20T06:48:26.569531",
     "status": "completed"
    },
    "tags": []
   },
   "outputs": [],
   "source": [
    "import time, random\n",
    "\n",
    "\n",
    "def maybe_crash(retry_nr: int, run_environment: str):\n",
    "    if retry_nr == 2 and run_environment == \"ci\":\n",
    "        time.sleep(1e6)\n",
    "\n",
    "    max_retry_nr: int = 3 if run_environment == \"dev\" else 10\n",
    "\n",
    "    if retry_nr < max_retry_nr:\n",
    "        if random.random() < 0.1:\n",
    "            time.sleep(1e6)\n",
    "        else:\n",
    "            raise Exception(\"Simulated exception failure from ingestion step notebook!\")\n",
    "\n",
    "\n",
    "maybe_crash(\n",
    "    retry_nr=int(P[\"run.retry_nr\"]), run_environment=P[\"pipeline.run_environment\"]\n",
    ")"
   ]
  },
  {
   "cell_type": "markdown",
   "id": "89433298",
   "metadata": {
    "lines_to_next_cell": 2,
    "papermill": {
     "duration": 0.002651,
     "end_time": "2022-07-20T06:48:26.592557",
     "exception": false,
     "start_time": "2022-07-20T06:48:26.589906",
     "status": "completed"
    },
    "tags": []
   },
   "source": [
    "### Notebook code"
   ]
  },
  {
   "cell_type": "code",
   "execution_count": 7,
   "id": "77f85ef6",
   "metadata": {
    "execution": {
     "iopub.execute_input": "2022-07-20T06:48:26.598929Z",
     "iopub.status.busy": "2022-07-20T06:48:26.598706Z",
     "iopub.status.idle": "2022-07-20T06:48:27.872539Z",
     "shell.execute_reply": "2022-07-20T06:48:27.871850Z"
    },
    "papermill": {
     "duration": 1.27973,
     "end_time": "2022-07-20T06:48:27.874765",
     "exception": false,
     "start_time": "2022-07-20T06:48:26.595035",
     "status": "completed"
    },
    "tags": []
   },
   "outputs": [
    {
     "name": "stderr",
     "output_type": "stream",
     "text": [
      "2022-07-20 06:48:27,038\tWARNING worker.py:1245 -- (ip=172.17.0.2) The agent on node 7e4106491079 failed to be restarted 5 times. There are 3 possible problems if you see this error.\n",
      "  1. The dashboard might not display correct information on this node.\n",
      "  2. Metrics on this node won't be reported.\n",
      "  3. runtime_env APIs won't work.\n",
      "Check out the `dashboard_agent.log` to see the detailed failure messages.\n"
     ]
    }
   ],
   "source": [
    "from sklearn import datasets\n",
    "\n",
    "#\n",
    "from common.io import datalake_root, write_numpy"
   ]
  },
  {
   "cell_type": "code",
   "execution_count": 8,
   "id": "3086ccca",
   "metadata": {
    "execution": {
     "iopub.execute_input": "2022-07-20T06:48:27.881898Z",
     "iopub.status.busy": "2022-07-20T06:48:27.881523Z",
     "iopub.status.idle": "2022-07-20T06:48:27.894870Z",
     "shell.execute_reply": "2022-07-20T06:48:27.894302Z"
    },
    "lines_to_next_cell": 2,
    "papermill": {
     "duration": 0.018792,
     "end_time": "2022-07-20T06:48:27.896603",
     "exception": false,
     "start_time": "2022-07-20T06:48:27.877811",
     "status": "completed"
    },
    "tags": []
   },
   "outputs": [],
   "source": [
    "digits = datasets.load_digits()\n",
    "\n",
    "X = digits[\"data\"]\n",
    "y = digits[\"target\"]"
   ]
  },
  {
   "cell_type": "code",
   "execution_count": 9,
   "id": "2a7adcd6",
   "metadata": {
    "execution": {
     "iopub.execute_input": "2022-07-20T06:48:27.903610Z",
     "iopub.status.busy": "2022-07-20T06:48:27.903262Z",
     "iopub.status.idle": "2022-07-20T06:48:27.916048Z",
     "shell.execute_reply": "2022-07-20T06:48:27.915352Z"
    },
    "papermill": {
     "duration": 0.017978,
     "end_time": "2022-07-20T06:48:27.917631",
     "exception": false,
     "start_time": "2022-07-20T06:48:27.899653",
     "status": "completed"
    },
    "tags": []
   },
   "outputs": [
    {
     "name": "stdout",
     "output_type": "stream",
     "text": [
      " - Logging data_shape (json) : [1797, 64]\n",
      " - Logging target_shape (json) : [1797]\n"
     ]
    },
    {
     "data": {
      "text/plain": [
       "((1797, 64), (1797,))"
      ]
     },
     "execution_count": 9,
     "metadata": {},
     "output_type": "execute_result"
    }
   ],
   "source": [
    "logger.log_value(\"data_shape\", list(X.shape))\n",
    "logger.log_value(\"target_shape\", list(y.shape))\n",
    "\n",
    "X.shape, y.shape"
   ]
  },
  {
   "cell_type": "code",
   "execution_count": 10,
   "id": "24d352b4",
   "metadata": {
    "execution": {
     "iopub.execute_input": "2022-07-20T06:48:27.925637Z",
     "iopub.status.busy": "2022-07-20T06:48:27.925415Z",
     "iopub.status.idle": "2022-07-20T06:48:27.934030Z",
     "shell.execute_reply": "2022-07-20T06:48:27.933226Z"
    },
    "papermill": {
     "duration": 0.015505,
     "end_time": "2022-07-20T06:48:27.935707",
     "exception": false,
     "start_time": "2022-07-20T06:48:27.920202",
     "status": "completed"
    },
    "tags": []
   },
   "outputs": [],
   "source": [
    "write_numpy(datalake_root(P) / \"raw\" / \"digits.numpy\", X)\n",
    "write_numpy(datalake_root(P) / \"raw\" / \"labels.numpy\", y)"
   ]
  },
  {
   "cell_type": "code",
   "execution_count": null,
   "id": "d6f099ce",
   "metadata": {
    "papermill": {
     "duration": 0.002788,
     "end_time": "2022-07-20T06:48:27.941290",
     "exception": false,
     "start_time": "2022-07-20T06:48:27.938502",
     "status": "completed"
    },
    "tags": []
   },
   "outputs": [],
   "source": []
  }
 ],
 "metadata": {
  "jupytext": {
   "cell_metadata_filter": "tags,-all",
   "main_language": "python",
   "notebook_metadata_filter": "-all"
  },
  "language_info": {
   "codemirror_mode": {
    "name": "ipython",
    "version": 3
   },
   "file_extension": ".py",
   "mimetype": "text/x-python",
   "name": "python",
   "nbconvert_exporter": "python",
   "pygments_lexer": "ipython3",
   "version": "3.8.10"
  },
  "papermill": {
   "default_parameters": {},
   "duration": 4.234364,
   "end_time": "2022-07-20T06:48:28.862348",
   "environment_variables": {},
   "exception": null,
   "input_path": "/home/host_user/workspace/mnist-demo-pipeline/mnist-demo-pipeline/notebooks/temp-notebook-du1s3v3c.ipynb",
   "output_path": "notebooks/ingest.ipynb",
   "parameters": {
    "P": {
     "_opentelemetry_traceparent": "00-bf0e54157d24123a8dfdaf7635805574-8ab963624bd6306c-01",
     "pipeline.data_lake_root": "/pipeline-outputs/data-lake",
     "pipeline.github.actor": "matiasdahl",
     "pipeline.github.base_ref": "",
     "pipeline.github.event_name": "schedule",
     "pipeline.github.head_ref": "",
     "pipeline.github.job": "run-tests-pipeline-and-persist-pipeline-outputs",
     "pipeline.github.ref": "refs/heads/development",
     "pipeline.github.ref_name": "development",
     "pipeline.github.ref_type": "branch",
     "pipeline.github.repository": "pynb-dag-runner/mnist-digits-demo-pipeline",
     "pipeline.github.run_id": "2702768688",
     "pipeline.github.runner_name": "Hosted Agent",
     "pipeline.github.sha": "5a6f90a9473b3095841d5b5dc7b58f5f049a0f71",
     "pipeline.github.workflow": "Run automated tests, pipeline and deploy results to static reporting site",
     "pipeline.pipeline_run_id": "9b8eb2de-e507-4056-840d-1f7140a936d7",
     "pipeline.run_environment": "ci",
     "run.retry_nr": "10",
     "task.max_nr_retries": "15",
     "task.notebook": "notebooks/ingest.py",
     "task.num_cpus": 1,
     "task.timeout_s": "10"
    }
   },
   "start_time": "2022-07-20T06:48:24.627984",
   "version": "2.3.3"
  }
 },
 "nbformat": 4,
 "nbformat_minor": 5
}