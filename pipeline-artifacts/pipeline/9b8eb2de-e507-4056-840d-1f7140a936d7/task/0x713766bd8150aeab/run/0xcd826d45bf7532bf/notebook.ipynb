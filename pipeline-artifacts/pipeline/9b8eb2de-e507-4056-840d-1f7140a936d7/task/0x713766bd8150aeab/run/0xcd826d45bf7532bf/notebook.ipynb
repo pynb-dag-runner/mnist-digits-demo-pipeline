{
 "cells": [
  {
   "cell_type": "markdown",
   "id": "90403790",
   "metadata": {
    "papermill": {
     "duration": 0.00379,
     "end_time": "2022-07-20T06:48:31.400663",
     "exception": false,
     "start_time": "2022-07-20T06:48:31.396873",
     "status": "completed"
    },
    "tags": []
   },
   "source": [
    "# Split digits and labels into separate training and testing data sets"
   ]
  },
  {
   "cell_type": "markdown",
   "id": "208803e6",
   "metadata": {
    "papermill": {
     "duration": 0.002254,
     "end_time": "2022-07-20T06:48:31.405536",
     "exception": false,
     "start_time": "2022-07-20T06:48:31.403282",
     "status": "completed"
    },
    "tags": []
   },
   "source": [
    "### Determine run parameters"
   ]
  },
  {
   "cell_type": "code",
   "execution_count": 1,
   "id": "705c843a",
   "metadata": {
    "execution": {
     "iopub.execute_input": "2022-07-20T06:48:31.411672Z",
     "iopub.status.busy": "2022-07-20T06:48:31.411343Z",
     "iopub.status.idle": "2022-07-20T06:48:31.418575Z",
     "shell.execute_reply": "2022-07-20T06:48:31.417922Z"
    },
    "lines_to_next_cell": 0,
    "papermill": {
     "duration": 0.012704,
     "end_time": "2022-07-20T06:48:31.420437",
     "exception": false,
     "start_time": "2022-07-20T06:48:31.407733",
     "status": "completed"
    },
    "tags": []
   },
   "outputs": [],
   "source": [
    "# ----------------- Parameters for interactive development --------------\n",
    "P = {\n",
    "    \"pipeline.data_lake_root\": \"/pipeline-outputs/data-lake\",\n",
    "    \"task.train_test_ratio\": 0.7,\n",
    "}"
   ]
  },
  {
   "cell_type": "code",
   "execution_count": 2,
   "id": "ff0e2488",
   "metadata": {
    "execution": {
     "iopub.execute_input": "2022-07-20T06:48:31.426613Z",
     "iopub.status.busy": "2022-07-20T06:48:31.426051Z",
     "iopub.status.idle": "2022-07-20T06:48:31.429120Z",
     "shell.execute_reply": "2022-07-20T06:48:31.428523Z"
    },
    "lines_to_next_cell": 0,
    "papermill": {
     "duration": 0.008138,
     "end_time": "2022-07-20T06:48:31.430898",
     "exception": false,
     "start_time": "2022-07-20T06:48:31.422760",
     "status": "completed"
    },
    "tags": [
     "parameters"
    ]
   },
   "outputs": [],
   "source": [
    "# - During automated runs parameters will be injected in the below cell -"
   ]
  },
  {
   "cell_type": "code",
   "execution_count": 3,
   "id": "3b34c7ac",
   "metadata": {
    "execution": {
     "iopub.execute_input": "2022-07-20T06:48:31.436734Z",
     "iopub.status.busy": "2022-07-20T06:48:31.436144Z",
     "iopub.status.idle": "2022-07-20T06:48:31.441000Z",
     "shell.execute_reply": "2022-07-20T06:48:31.440265Z"
    },
    "papermill": {
     "duration": 0.009447,
     "end_time": "2022-07-20T06:48:31.442579",
     "exception": false,
     "start_time": "2022-07-20T06:48:31.433132",
     "status": "completed"
    },
    "tags": [
     "injected-parameters"
    ]
   },
   "outputs": [],
   "source": [
    "# Parameters\n",
    "P = {\n",
    "    \"pipeline.data_lake_root\": \"/pipeline-outputs/data-lake\",\n",
    "    \"pipeline.run_environment\": \"ci\",\n",
    "    \"pipeline.pipeline_run_id\": \"9b8eb2de-e507-4056-840d-1f7140a936d7\",\n",
    "    \"pipeline.github.repository\": \"pynb-dag-runner/mnist-digits-demo-pipeline\",\n",
    "    \"pipeline.github.workflow\": \"Run automated tests, pipeline and deploy results to static reporting site\",\n",
    "    \"pipeline.github.runner_name\": \"Hosted Agent\",\n",
    "    \"pipeline.github.run_id\": \"2702768688\",\n",
    "    \"pipeline.github.actor\": \"matiasdahl\",\n",
    "    \"pipeline.github.job\": \"run-tests-pipeline-and-persist-pipeline-outputs\",\n",
    "    \"pipeline.github.base_ref\": \"\",\n",
    "    \"pipeline.github.head_ref\": \"\",\n",
    "    \"pipeline.github.sha\": \"5a6f90a9473b3095841d5b5dc7b58f5f049a0f71\",\n",
    "    \"pipeline.github.ref\": \"refs/heads/development\",\n",
    "    \"pipeline.github.ref_type\": \"branch\",\n",
    "    \"pipeline.github.ref_name\": \"development\",\n",
    "    \"pipeline.github.event_name\": \"schedule\",\n",
    "    \"task.train_test_ratio\": 0.7,\n",
    "    \"task.notebook\": \"notebooks/split-train-test.py\",\n",
    "    \"task.max_nr_retries\": \"1\",\n",
    "    \"run.retry_nr\": \"0\",\n",
    "    \"task.timeout_s\": \"None\",\n",
    "    \"task.num_cpus\": 1,\n",
    "    \"_opentelemetry_traceparent\": \"00-bf0e54157d24123a8dfdaf7635805574-b2d56860ae081d6d-01\",\n",
    "}\n"
   ]
  },
  {
   "cell_type": "code",
   "execution_count": 4,
   "id": "1f7d6c2a",
   "metadata": {
    "execution": {
     "iopub.execute_input": "2022-07-20T06:48:31.448627Z",
     "iopub.status.busy": "2022-07-20T06:48:31.448404Z",
     "iopub.status.idle": "2022-07-20T06:48:31.451207Z",
     "shell.execute_reply": "2022-07-20T06:48:31.450593Z"
    },
    "lines_to_next_cell": 0,
    "papermill": {
     "duration": 0.007454,
     "end_time": "2022-07-20T06:48:31.452594",
     "exception": false,
     "start_time": "2022-07-20T06:48:31.445140",
     "status": "completed"
    },
    "tags": []
   },
   "outputs": [],
   "source": [
    "# -----------------------------------------------------------------------"
   ]
  },
  {
   "cell_type": "markdown",
   "id": "d2f78aff",
   "metadata": {
    "papermill": {
     "duration": 0.002344,
     "end_time": "2022-07-20T06:48:31.457518",
     "exception": false,
     "start_time": "2022-07-20T06:48:31.455174",
     "status": "completed"
    },
    "tags": []
   },
   "source": [
    "---"
   ]
  },
  {
   "cell_type": "markdown",
   "id": "23d13570",
   "metadata": {
    "lines_to_next_cell": 2,
    "papermill": {
     "duration": 0.002583,
     "end_time": "2022-07-20T06:48:31.462327",
     "exception": false,
     "start_time": "2022-07-20T06:48:31.459744",
     "status": "completed"
    },
    "tags": []
   },
   "source": [
    "### Notebook code"
   ]
  },
  {
   "cell_type": "code",
   "execution_count": 5,
   "id": "0669cb59",
   "metadata": {
    "execution": {
     "iopub.execute_input": "2022-07-20T06:48:31.469390Z",
     "iopub.status.busy": "2022-07-20T06:48:31.468949Z",
     "iopub.status.idle": "2022-07-20T06:48:31.963700Z",
     "shell.execute_reply": "2022-07-20T06:48:31.963057Z"
    },
    "papermill": {
     "duration": 0.501469,
     "end_time": "2022-07-20T06:48:31.966110",
     "exception": false,
     "start_time": "2022-07-20T06:48:31.464641",
     "status": "completed"
    },
    "tags": []
   },
   "outputs": [
    {
     "name": "stderr",
     "output_type": "stream",
     "text": [
      "2022-07-20 06:48:31,788\tINFO worker.py:842 -- Connecting to existing Ray cluster at address: 172.17.0.2:6379\n"
     ]
    }
   ],
   "source": [
    "from common.io import datalake_root, read_numpy, write_numpy\n",
    "from pynb_dag_runner.tasks.task_opentelemetry_logging import PydarLogger\n",
    "\n",
    "logger = PydarLogger(P)"
   ]
  },
  {
   "cell_type": "markdown",
   "id": "8df62cb9",
   "metadata": {
    "papermill": {
     "duration": 0.002949,
     "end_time": "2022-07-20T06:48:31.972602",
     "exception": false,
     "start_time": "2022-07-20T06:48:31.969653",
     "status": "completed"
    },
    "tags": []
   },
   "source": [
    "## Load and split digits data"
   ]
  },
  {
   "cell_type": "code",
   "execution_count": 6,
   "id": "42147fcb",
   "metadata": {
    "execution": {
     "iopub.execute_input": "2022-07-20T06:48:31.981331Z",
     "iopub.status.busy": "2022-07-20T06:48:31.980992Z",
     "iopub.status.idle": "2022-07-20T06:48:31.986947Z",
     "shell.execute_reply": "2022-07-20T06:48:31.986010Z"
    },
    "papermill": {
     "duration": 0.018675,
     "end_time": "2022-07-20T06:48:31.994217",
     "exception": false,
     "start_time": "2022-07-20T06:48:31.975542",
     "status": "completed"
    },
    "tags": []
   },
   "outputs": [],
   "source": [
    "X = read_numpy(datalake_root(P) / \"raw\" / \"digits.numpy\")\n",
    "y = read_numpy(datalake_root(P) / \"raw\" / \"labels.numpy\")"
   ]
  },
  {
   "cell_type": "code",
   "execution_count": 7,
   "id": "8c601f7d",
   "metadata": {
    "execution": {
     "iopub.execute_input": "2022-07-20T06:48:32.000751Z",
     "iopub.status.busy": "2022-07-20T06:48:32.000523Z",
     "iopub.status.idle": "2022-07-20T06:48:32.444728Z",
     "shell.execute_reply": "2022-07-20T06:48:32.443627Z"
    },
    "papermill": {
     "duration": 0.450159,
     "end_time": "2022-07-20T06:48:32.446812",
     "exception": false,
     "start_time": "2022-07-20T06:48:31.996653",
     "status": "completed"
    },
    "tags": []
   },
   "outputs": [],
   "source": [
    "from sklearn.model_selection import train_test_split\n",
    "\n",
    "X_train, X_test, y_train, y_test = train_test_split(\n",
    "    X,\n",
    "    y,\n",
    "    train_size=P[\"task.train_test_ratio\"],\n",
    "    test_size=None,\n",
    "    stratify=y,\n",
    "    shuffle=True,\n",
    "    random_state=1,\n",
    ")\n",
    "\n",
    "# assert nr of pixels per image is the same for all image vectors\n",
    "assert X.shape[1] == X_train.shape[1] == X_test.shape[1]\n",
    "\n",
    "# assert that the (X, y)-pairs have compatible sizes (for both train and test)\n",
    "assert X_train.shape[0] == len(y_train)\n",
    "assert X_test.shape[0] == len(y_test)\n",
    "\n",
    "# assert that all data is used\n",
    "assert len(y) == len(y_train) + len(y_test)"
   ]
  },
  {
   "cell_type": "code",
   "execution_count": 8,
   "id": "5bb2170b",
   "metadata": {
    "execution": {
     "iopub.execute_input": "2022-07-20T06:48:32.454168Z",
     "iopub.status.busy": "2022-07-20T06:48:32.453654Z",
     "iopub.status.idle": "2022-07-20T06:48:32.460224Z",
     "shell.execute_reply": "2022-07-20T06:48:32.459530Z"
    },
    "papermill": {
     "duration": 0.012923,
     "end_time": "2022-07-20T06:48:32.462592",
     "exception": false,
     "start_time": "2022-07-20T06:48:32.449669",
     "status": "completed"
    },
    "tags": []
   },
   "outputs": [
    {
     "name": "stdout",
     "output_type": "stream",
     "text": [
      " - Logging nr_digits_train (int) : 1257\n",
      " - Logging nr_digits_test (int) : 540\n"
     ]
    }
   ],
   "source": [
    "logger.log_int(\"nr_digits_train\", len(y_train))\n",
    "logger.log_int(\"nr_digits_test\", len(y_test))"
   ]
  },
  {
   "cell_type": "markdown",
   "id": "df0724b5",
   "metadata": {
    "papermill": {
     "duration": 0.002675,
     "end_time": "2022-07-20T06:48:32.468192",
     "exception": false,
     "start_time": "2022-07-20T06:48:32.465517",
     "status": "completed"
    },
    "tags": []
   },
   "source": [
    "### Persist training and test data sets to separate files"
   ]
  },
  {
   "cell_type": "code",
   "execution_count": 9,
   "id": "f7063fd0",
   "metadata": {
    "execution": {
     "iopub.execute_input": "2022-07-20T06:48:32.475248Z",
     "iopub.status.busy": "2022-07-20T06:48:32.475013Z",
     "iopub.status.idle": "2022-07-20T06:48:32.480764Z",
     "shell.execute_reply": "2022-07-20T06:48:32.480056Z"
    },
    "papermill": {
     "duration": 0.011701,
     "end_time": "2022-07-20T06:48:32.483016",
     "exception": false,
     "start_time": "2022-07-20T06:48:32.471315",
     "status": "completed"
    },
    "tags": []
   },
   "outputs": [],
   "source": [
    "write_numpy(datalake_root(P) / \"train-data\" / \"digits.numpy\", X_train)\n",
    "write_numpy(datalake_root(P) / \"train-data\" / \"labels.numpy\", y_train)\n",
    "\n",
    "#\n",
    "write_numpy(datalake_root(P) / \"test-data\" / \"digits.numpy\", X_test)\n",
    "write_numpy(datalake_root(P) / \"test-data\" / \"labels.numpy\", y_test)"
   ]
  },
  {
   "cell_type": "code",
   "execution_count": null,
   "id": "d2fc0dcd",
   "metadata": {
    "papermill": {
     "duration": 0.002568,
     "end_time": "2022-07-20T06:48:32.488482",
     "exception": false,
     "start_time": "2022-07-20T06:48:32.485914",
     "status": "completed"
    },
    "tags": []
   },
   "outputs": [],
   "source": []
  }
 ],
 "metadata": {
  "jupytext": {
   "cell_metadata_filter": "tags,-all",
   "main_language": "python",
   "notebook_metadata_filter": "-all"
  },
  "language_info": {
   "codemirror_mode": {
    "name": "ipython",
    "version": 3
   },
   "file_extension": ".py",
   "mimetype": "text/x-python",
   "name": "python",
   "nbconvert_exporter": "python",
   "pygments_lexer": "ipython3",
   "version": "3.8.10"
  },
  "papermill": {
   "default_parameters": {},
   "duration": 3.22853,
   "end_time": "2022-07-20T06:48:33.410077",
   "environment_variables": {},
   "exception": null,
   "input_path": "/home/host_user/workspace/mnist-demo-pipeline/mnist-demo-pipeline/notebooks/temp-notebook-4_heyzik.ipynb",
   "output_path": "notebooks/split-train-test.ipynb",
   "parameters": {
    "P": {
     "_opentelemetry_traceparent": "00-bf0e54157d24123a8dfdaf7635805574-b2d56860ae081d6d-01",
     "pipeline.data_lake_root": "/pipeline-outputs/data-lake",
     "pipeline.github.actor": "matiasdahl",
     "pipeline.github.base_ref": "",
     "pipeline.github.event_name": "schedule",
     "pipeline.github.head_ref": "",
     "pipeline.github.job": "run-tests-pipeline-and-persist-pipeline-outputs",
     "pipeline.github.ref": "refs/heads/development",
     "pipeline.github.ref_name": "development",
     "pipeline.github.ref_type": "branch",
     "pipeline.github.repository": "pynb-dag-runner/mnist-digits-demo-pipeline",
     "pipeline.github.run_id": "2702768688",
     "pipeline.github.runner_name": "Hosted Agent",
     "pipeline.github.sha": "5a6f90a9473b3095841d5b5dc7b58f5f049a0f71",
     "pipeline.github.workflow": "Run automated tests, pipeline and deploy results to static reporting site",
     "pipeline.pipeline_run_id": "9b8eb2de-e507-4056-840d-1f7140a936d7",
     "pipeline.run_environment": "ci",
     "run.retry_nr": "0",
     "task.max_nr_retries": "1",
     "task.notebook": "notebooks/split-train-test.py",
     "task.num_cpus": 1,
     "task.timeout_s": "None",
     "task.train_test_ratio": 0.7
    }
   },
   "start_time": "2022-07-20T06:48:30.181547",
   "version": "2.3.3"
  }
 },
 "nbformat": 4,
 "nbformat_minor": 5
}