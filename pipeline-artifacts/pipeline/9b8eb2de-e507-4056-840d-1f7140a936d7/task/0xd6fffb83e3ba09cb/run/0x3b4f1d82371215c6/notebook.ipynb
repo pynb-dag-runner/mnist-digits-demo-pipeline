{
 "cells": [
  {
   "cell_type": "markdown",
   "id": "9bc0ca6d",
   "metadata": {
    "papermill": {
     "duration": 0.005911,
     "end_time": "2022-07-20T06:49:04.248314",
     "exception": false,
     "start_time": "2022-07-20T06:49:04.242403",
     "status": "completed"
    },
    "tags": []
   },
   "source": [
    "# Benchmark model\n",
    "\n",
    "The purpose of this notebook is to benchmark persisted onnx-model (trained in the\n",
    "previous step) against evaluation set."
   ]
  },
  {
   "cell_type": "markdown",
   "id": "f09daffb",
   "metadata": {
    "papermill": {
     "duration": 0.004478,
     "end_time": "2022-07-20T06:49:04.257536",
     "exception": false,
     "start_time": "2022-07-20T06:49:04.253058",
     "status": "completed"
    },
    "tags": []
   },
   "source": [
    "### Determine run parameters"
   ]
  },
  {
   "cell_type": "code",
   "execution_count": 1,
   "id": "acb66720",
   "metadata": {
    "execution": {
     "iopub.execute_input": "2022-07-20T06:49:04.267615Z",
     "iopub.status.busy": "2022-07-20T06:49:04.267289Z",
     "iopub.status.idle": "2022-07-20T06:49:04.275458Z",
     "shell.execute_reply": "2022-07-20T06:49:04.274790Z"
    },
    "lines_to_next_cell": 0,
    "papermill": {
     "duration": 0.01641,
     "end_time": "2022-07-20T06:49:04.278209",
     "exception": false,
     "start_time": "2022-07-20T06:49:04.261799",
     "status": "completed"
    },
    "tags": []
   },
   "outputs": [],
   "source": [
    "# ----------------- Parameters for interactive development --------------\n",
    "P = {\n",
    "    \"pipeline.data_lake_root\": \"/pipeline-outputs/data-lake\",\n",
    "    \"task.nr_train_images\": 600,\n",
    "}"
   ]
  },
  {
   "cell_type": "code",
   "execution_count": 2,
   "id": "6abf4470",
   "metadata": {
    "execution": {
     "iopub.execute_input": "2022-07-20T06:49:04.288642Z",
     "iopub.status.busy": "2022-07-20T06:49:04.288386Z",
     "iopub.status.idle": "2022-07-20T06:49:04.291931Z",
     "shell.execute_reply": "2022-07-20T06:49:04.291383Z"
    },
    "lines_to_next_cell": 0,
    "papermill": {
     "duration": 0.012199,
     "end_time": "2022-07-20T06:49:04.295209",
     "exception": false,
     "start_time": "2022-07-20T06:49:04.283010",
     "status": "completed"
    },
    "tags": [
     "parameters"
    ]
   },
   "outputs": [],
   "source": [
    "# - During automated runs parameters will be injected in the below cell -"
   ]
  },
  {
   "cell_type": "code",
   "execution_count": 3,
   "id": "4e4c8c87",
   "metadata": {
    "execution": {
     "iopub.execute_input": "2022-07-20T06:49:04.305714Z",
     "iopub.status.busy": "2022-07-20T06:49:04.305486Z",
     "iopub.status.idle": "2022-07-20T06:49:04.310042Z",
     "shell.execute_reply": "2022-07-20T06:49:04.309509Z"
    },
    "papermill": {
     "duration": 0.015178,
     "end_time": "2022-07-20T06:49:04.314310",
     "exception": false,
     "start_time": "2022-07-20T06:49:04.299132",
     "status": "completed"
    },
    "tags": [
     "injected-parameters"
    ]
   },
   "outputs": [],
   "source": [
    "# Parameters\n",
    "P = {\n",
    "    \"pipeline.data_lake_root\": \"/pipeline-outputs/data-lake\",\n",
    "    \"pipeline.run_environment\": \"ci\",\n",
    "    \"pipeline.pipeline_run_id\": \"9b8eb2de-e507-4056-840d-1f7140a936d7\",\n",
    "    \"pipeline.github.repository\": \"pynb-dag-runner/mnist-digits-demo-pipeline\",\n",
    "    \"pipeline.github.workflow\": \"Run automated tests, pipeline and deploy results to static reporting site\",\n",
    "    \"pipeline.github.runner_name\": \"Hosted Agent\",\n",
    "    \"pipeline.github.run_id\": \"2702768688\",\n",
    "    \"pipeline.github.actor\": \"matiasdahl\",\n",
    "    \"pipeline.github.job\": \"run-tests-pipeline-and-persist-pipeline-outputs\",\n",
    "    \"pipeline.github.base_ref\": \"\",\n",
    "    \"pipeline.github.head_ref\": \"\",\n",
    "    \"pipeline.github.sha\": \"5a6f90a9473b3095841d5b5dc7b58f5f049a0f71\",\n",
    "    \"pipeline.github.ref\": \"refs/heads/development\",\n",
    "    \"pipeline.github.ref_type\": \"branch\",\n",
    "    \"pipeline.github.ref_name\": \"development\",\n",
    "    \"pipeline.github.event_name\": \"schedule\",\n",
    "    \"task.nr_train_images\": 1200,\n",
    "    \"task.notebook\": \"notebooks/benchmark-model.py\",\n",
    "    \"task.max_nr_retries\": \"1\",\n",
    "    \"run.retry_nr\": \"0\",\n",
    "    \"task.timeout_s\": \"None\",\n",
    "    \"task.num_cpus\": 1,\n",
    "    \"_opentelemetry_traceparent\": \"00-bf0e54157d24123a8dfdaf7635805574-54103a898f325d0e-01\",\n",
    "}\n"
   ]
  },
  {
   "cell_type": "code",
   "execution_count": 4,
   "id": "f1abd394",
   "metadata": {
    "execution": {
     "iopub.execute_input": "2022-07-20T06:49:04.326144Z",
     "iopub.status.busy": "2022-07-20T06:49:04.325910Z",
     "iopub.status.idle": "2022-07-20T06:49:04.328963Z",
     "shell.execute_reply": "2022-07-20T06:49:04.328140Z"
    },
    "lines_to_next_cell": 0,
    "papermill": {
     "duration": 0.013432,
     "end_time": "2022-07-20T06:49:04.332040",
     "exception": false,
     "start_time": "2022-07-20T06:49:04.318608",
     "status": "completed"
    },
    "tags": []
   },
   "outputs": [],
   "source": [
    "# -----------------------------------------------------------------------"
   ]
  },
  {
   "cell_type": "markdown",
   "id": "4eac18a3",
   "metadata": {
    "papermill": {
     "duration": 0.004401,
     "end_time": "2022-07-20T06:49:04.340470",
     "exception": false,
     "start_time": "2022-07-20T06:49:04.336069",
     "status": "completed"
    },
    "tags": []
   },
   "source": [
    "---"
   ]
  },
  {
   "cell_type": "markdown",
   "id": "1149ac55",
   "metadata": {
    "lines_to_next_cell": 2,
    "papermill": {
     "duration": 0.004205,
     "end_time": "2022-07-20T06:49:04.349426",
     "exception": false,
     "start_time": "2022-07-20T06:49:04.345221",
     "status": "completed"
    },
    "tags": []
   },
   "source": [
    "### Notebook code"
   ]
  },
  {
   "cell_type": "code",
   "execution_count": 5,
   "id": "2382d348",
   "metadata": {
    "execution": {
     "iopub.execute_input": "2022-07-20T06:49:04.360026Z",
     "iopub.status.busy": "2022-07-20T06:49:04.359748Z",
     "iopub.status.idle": "2022-07-20T06:49:05.577887Z",
     "shell.execute_reply": "2022-07-20T06:49:05.575574Z"
    },
    "papermill": {
     "duration": 1.22677,
     "end_time": "2022-07-20T06:49:05.581286",
     "exception": false,
     "start_time": "2022-07-20T06:49:04.354516",
     "status": "completed"
    },
    "tags": []
   },
   "outputs": [
    {
     "name": "stderr",
     "output_type": "stream",
     "text": [
      "2022-07-20 06:49:05,387\tINFO worker.py:842 -- Connecting to existing Ray cluster at address: 172.17.0.2:6379\n"
     ]
    }
   ],
   "source": [
    "import itertools as it\n",
    "\n",
    "#\n",
    "import numpy as np\n",
    "import matplotlib.pyplot as plt\n",
    "\n",
    "#\n",
    "from pynb_dag_runner.tasks.task_opentelemetry_logging import PydarLogger\n",
    "\n",
    "#\n",
    "from common.io import datalake_root\n",
    "\n",
    "logger = PydarLogger(P)"
   ]
  },
  {
   "cell_type": "markdown",
   "id": "8488e0e1",
   "metadata": {
    "papermill": {
     "duration": 0.004926,
     "end_time": "2022-07-20T06:49:05.590299",
     "exception": false,
     "start_time": "2022-07-20T06:49:05.585373",
     "status": "completed"
    },
    "tags": []
   },
   "source": [
    "## Load persisted onnx-model and evaluation data"
   ]
  },
  {
   "cell_type": "code",
   "execution_count": 6,
   "id": "8c26e884",
   "metadata": {
    "execution": {
     "iopub.execute_input": "2022-07-20T06:49:05.599853Z",
     "iopub.status.busy": "2022-07-20T06:49:05.599465Z",
     "iopub.status.idle": "2022-07-20T06:49:05.603830Z",
     "shell.execute_reply": "2022-07-20T06:49:05.603042Z"
    },
    "papermill": {
     "duration": 0.012224,
     "end_time": "2022-07-20T06:49:05.606324",
     "exception": false,
     "start_time": "2022-07-20T06:49:05.594100",
     "status": "completed"
    },
    "tags": []
   },
   "outputs": [],
   "source": [
    "from common.io import read_onnx, get_onnx_inputs, get_onnx_outputs, read_numpy"
   ]
  },
  {
   "cell_type": "code",
   "execution_count": 7,
   "id": "90b8699f",
   "metadata": {
    "execution": {
     "iopub.execute_input": "2022-07-20T06:49:05.620257Z",
     "iopub.status.busy": "2022-07-20T06:49:05.619848Z",
     "iopub.status.idle": "2022-07-20T06:49:05.629952Z",
     "shell.execute_reply": "2022-07-20T06:49:05.629088Z"
    },
    "lines_to_next_cell": 0,
    "papermill": {
     "duration": 0.017003,
     "end_time": "2022-07-20T06:49:05.631657",
     "exception": false,
     "start_time": "2022-07-20T06:49:05.614654",
     "status": "completed"
    },
    "tags": []
   },
   "outputs": [],
   "source": [
    "onnx_inference_session = read_onnx(\n",
    "    datalake_root(P)\n",
    "    / \"models\"\n",
    "    / f\"nr_train_images={P['task.nr_train_images']}\"\n",
    "    / \"model.onnx\"\n",
    ")"
   ]
  },
  {
   "cell_type": "markdown",
   "id": "76a4eea9",
   "metadata": {
    "papermill": {
     "duration": 0.004387,
     "end_time": "2022-07-20T06:49:05.640232",
     "exception": false,
     "start_time": "2022-07-20T06:49:05.635845",
     "status": "completed"
    },
    "tags": []
   },
   "source": [
    "### Record structure of inputs and outputs for ONNX model\n",
    "\n",
    "(this should likely be done in training notebook)"
   ]
  },
  {
   "cell_type": "code",
   "execution_count": 8,
   "id": "956ba3f4",
   "metadata": {
    "execution": {
     "iopub.execute_input": "2022-07-20T06:49:05.650062Z",
     "iopub.status.busy": "2022-07-20T06:49:05.649723Z",
     "iopub.status.idle": "2022-07-20T06:49:05.656111Z",
     "shell.execute_reply": "2022-07-20T06:49:05.655439Z"
    },
    "papermill": {
     "duration": 0.014054,
     "end_time": "2022-07-20T06:49:05.658393",
     "exception": false,
     "start_time": "2022-07-20T06:49:05.644339",
     "status": "completed"
    },
    "tags": []
   },
   "outputs": [
    {
     "name": "stdout",
     "output_type": "stream",
     "text": [
      "{\n",
      "  \"inputs\": [\n",
      "    {\n",
      "      \"name\": \"float_input_8x8_image\",\n",
      "      \"shape\": [\n",
      "        null,\n",
      "        64\n",
      "      ],\n",
      "      \"type\": \"tensor(float)\"\n",
      "    }\n",
      "  ],\n",
      "  \"outputs\": [\n",
      "    {\n",
      "      \"name\": \"output_label\",\n",
      "      \"shape\": [\n",
      "        null\n",
      "      ],\n",
      "      \"type\": \"tensor(int64)\"\n",
      "    },\n",
      "    {\n",
      "      \"name\": \"output_probability\",\n",
      "      \"shape\": [],\n",
      "      \"type\": \"seq(map(int64,tensor(float)))\"\n",
      "    }\n",
      "  ]\n",
      "}\n"
     ]
    }
   ],
   "source": [
    "import json\n",
    "\n",
    "onnx_io = json.dumps(\n",
    "    {\n",
    "        \"inputs\": get_onnx_inputs(onnx_inference_session),\n",
    "        \"outputs\": get_onnx_outputs(onnx_inference_session),\n",
    "    },\n",
    "    indent=2,\n",
    ")\n",
    "\n",
    "\n",
    "logger.log_artefact(\"onnx_io_structure.json\", onnx_io)\n",
    "print(onnx_io)"
   ]
  },
  {
   "cell_type": "markdown",
   "id": "a9b72ee4",
   "metadata": {
    "papermill": {
     "duration": 0.004203,
     "end_time": "2022-07-20T06:49:05.667475",
     "exception": false,
     "start_time": "2022-07-20T06:49:05.663272",
     "status": "completed"
    },
    "tags": []
   },
   "source": [
    "### Evaluate model performance on evaluation data set"
   ]
  },
  {
   "cell_type": "code",
   "execution_count": 9,
   "id": "7c93d8bb",
   "metadata": {
    "execution": {
     "iopub.execute_input": "2022-07-20T06:49:05.677677Z",
     "iopub.status.busy": "2022-07-20T06:49:05.677360Z",
     "iopub.status.idle": "2022-07-20T06:49:05.682787Z",
     "shell.execute_reply": "2022-07-20T06:49:05.681858Z"
    },
    "papermill": {
     "duration": 0.012822,
     "end_time": "2022-07-20T06:49:05.685142",
     "exception": false,
     "start_time": "2022-07-20T06:49:05.672320",
     "status": "completed"
    },
    "tags": []
   },
   "outputs": [],
   "source": [
    "# load evaluation data\n",
    "X_test = read_numpy(datalake_root(P) / \"test-data\" / \"digits.numpy\")\n",
    "y_test = read_numpy(datalake_root(P) / \"test-data\" / \"labels.numpy\")"
   ]
  },
  {
   "cell_type": "code",
   "execution_count": 10,
   "id": "afd1651e",
   "metadata": {
    "execution": {
     "iopub.execute_input": "2022-07-20T06:49:05.695474Z",
     "iopub.status.busy": "2022-07-20T06:49:05.695254Z",
     "iopub.status.idle": "2022-07-20T06:49:05.712221Z",
     "shell.execute_reply": "2022-07-20T06:49:05.709230Z"
    },
    "papermill": {
     "duration": 0.024509,
     "end_time": "2022-07-20T06:49:05.714145",
     "exception": false,
     "start_time": "2022-07-20T06:49:05.689636",
     "status": "completed"
    },
    "tags": []
   },
   "outputs": [],
   "source": [
    "def get_model_outputs(X, onnx_inference_session):\n",
    "    y_pred_labels, y_pred_map = onnx_inference_session.run(\n",
    "        [\"output_label\", \"output_probability\"],\n",
    "        {\"float_input_8x8_image\": X.astype(np.float32)},\n",
    "    )\n",
    "    y_pred_probs = np.array(\n",
    "        [[probabilities[digit] for digit in range(10)] for probabilities in y_pred_map]\n",
    "    )\n",
    "\n",
    "    assert y_pred_labels.shape == (X.shape[0],)\n",
    "    assert y_pred_probs.shape == (X.shape[0], 10)\n",
    "\n",
    "    return y_pred_labels, y_pred_probs\n",
    "\n",
    "\n",
    "# Note: as shown in the training notebook, the predicted labels and probabilities\n",
    "# computed below need not be compatible.\n",
    "y_pred_labels_test, y_pred_probs_test = get_model_outputs(\n",
    "    X_test, onnx_inference_session\n",
    ")"
   ]
  },
  {
   "cell_type": "markdown",
   "id": "55dce1c7",
   "metadata": {
    "papermill": {
     "duration": 0.005697,
     "end_time": "2022-07-20T06:49:05.723864",
     "exception": false,
     "start_time": "2022-07-20T06:49:05.718167",
     "status": "completed"
    },
    "tags": []
   },
   "source": [
    "### Confusion matrix"
   ]
  },
  {
   "cell_type": "code",
   "execution_count": 11,
   "id": "8ba17243",
   "metadata": {
    "execution": {
     "iopub.execute_input": "2022-07-20T06:49:05.734074Z",
     "iopub.status.busy": "2022-07-20T06:49:05.733777Z",
     "iopub.status.idle": "2022-07-20T06:49:05.737062Z",
     "shell.execute_reply": "2022-07-20T06:49:05.736354Z"
    },
    "papermill": {
     "duration": 0.011183,
     "end_time": "2022-07-20T06:49:05.739100",
     "exception": false,
     "start_time": "2022-07-20T06:49:05.727917",
     "status": "completed"
    },
    "tags": []
   },
   "outputs": [],
   "source": [
    "# TODO"
   ]
  },
  {
   "cell_type": "markdown",
   "id": "03f6e281",
   "metadata": {
    "papermill": {
     "duration": 0.005289,
     "end_time": "2022-07-20T06:49:05.750880",
     "exception": false,
     "start_time": "2022-07-20T06:49:05.745591",
     "status": "completed"
    },
    "tags": []
   },
   "source": [
    "### Plot predicted probabilities for each classifier over all evaluation digit images"
   ]
  },
  {
   "cell_type": "code",
   "execution_count": 12,
   "id": "7f7e10f9",
   "metadata": {
    "execution": {
     "iopub.execute_input": "2022-07-20T06:49:05.762115Z",
     "iopub.status.busy": "2022-07-20T06:49:05.761404Z",
     "iopub.status.idle": "2022-07-20T06:49:08.991300Z",
     "shell.execute_reply": "2022-07-20T06:49:08.990617Z"
    },
    "papermill": {
     "duration": 3.237096,
     "end_time": "2022-07-20T06:49:08.993128",
     "exception": false,
     "start_time": "2022-07-20T06:49:05.756032",
     "status": "completed"
    },
    "tags": []
   },
   "outputs": [
    {
     "data": {
      "image/png": "[encoded data removed]",
      "text/plain": [
       "<Figure size 1152x432 with 10 Axes>"
      ]
     },
     "metadata": {
      "needs_background": "light"
     },
     "output_type": "display_data"
    }
   ],
   "source": [
    "def plot_per_digit_probabilities(y_pred_probs):\n",
    "    fig, axs = plt.subplots(nrows=2, ncols=5, figsize=(16, 6))\n",
    "\n",
    "    for (r, c), digit, ax in zip(\n",
    "        it.product(range(2), range(5)), range(10), axs.reshape(-1)\n",
    "    ):\n",
    "        ax.hist(y_pred_probs_test[:, digit], bins=20)\n",
    "\n",
    "        ax.set_title(f\"Digit {digit}\")\n",
    "        if r == 1 and c == 2:\n",
    "            ax.set_xlabel(\"probability\", fontsize=16)\n",
    "\n",
    "        if c == 0:\n",
    "            ax.set_ylabel(\"counts\", fontsize=16)\n",
    "        ax.set_yscale(\"log\")\n",
    "\n",
    "    fig.tight_layout()\n",
    "    fig.suptitle(\n",
    "        f\"Distributions of prediction probabilities for each digit \"\n",
    "        f\"(on evaluation data, n={y_pred_probs.shape[0]})\",\n",
    "        fontsize=20,\n",
    "    )\n",
    "    fig.tight_layout()\n",
    "    fig.show()\n",
    "\n",
    "    return fig\n",
    "\n",
    "\n",
    "fig = plot_per_digit_probabilities(y_pred_probs_test)"
   ]
  },
  {
   "cell_type": "markdown",
   "id": "ed8d40de",
   "metadata": {
    "papermill": {
     "duration": 0.00518,
     "end_time": "2022-07-20T06:49:09.003317",
     "exception": false,
     "start_time": "2022-07-20T06:49:08.998137",
     "status": "completed"
    },
    "tags": []
   },
   "source": [
    "From the above distributions we see that most digits have clear separation between\n",
    "high and lower probabilities. Morover, in each case there is roughly an order of\n",
    "magnitude more of digits with low probabilities. This is compatible with digits\n",
    "being roughly evenly distributed in the data."
   ]
  },
  {
   "cell_type": "code",
   "execution_count": 13,
   "id": "39c0bed6",
   "metadata": {
    "execution": {
     "iopub.execute_input": "2022-07-20T06:49:09.014233Z",
     "iopub.status.busy": "2022-07-20T06:49:09.013882Z",
     "iopub.status.idle": "2022-07-20T06:49:09.431376Z",
     "shell.execute_reply": "2022-07-20T06:49:09.430710Z"
    },
    "papermill": {
     "duration": 0.42552,
     "end_time": "2022-07-20T06:49:09.433259",
     "exception": false,
     "start_time": "2022-07-20T06:49:09.007739",
     "status": "completed"
    },
    "tags": []
   },
   "outputs": [],
   "source": [
    "logger.log_figure(\"per-digit-probabilities.png\", fig)"
   ]
  },
  {
   "cell_type": "markdown",
   "id": "91a8007f",
   "metadata": {
    "papermill": {
     "duration": 0.004681,
     "end_time": "2022-07-20T06:49:09.443858",
     "exception": false,
     "start_time": "2022-07-20T06:49:09.439177",
     "status": "completed"
    },
    "tags": []
   },
   "source": [
    "### Plot ROC curves for individual one-vs-rest classifiers"
   ]
  },
  {
   "cell_type": "code",
   "execution_count": 14,
   "id": "93706867",
   "metadata": {
    "execution": {
     "iopub.execute_input": "2022-07-20T06:49:09.459124Z",
     "iopub.status.busy": "2022-07-20T06:49:09.458473Z",
     "iopub.status.idle": "2022-07-20T06:49:09.838059Z",
     "shell.execute_reply": "2022-07-20T06:49:09.837311Z"
    },
    "papermill": {
     "duration": 0.390575,
     "end_time": "2022-07-20T06:49:09.840159",
     "exception": false,
     "start_time": "2022-07-20T06:49:09.449584",
     "status": "completed"
    },
    "tags": []
   },
   "outputs": [],
   "source": [
    "from sklearn import metrics"
   ]
  },
  {
   "cell_type": "code",
   "execution_count": 15,
   "id": "08acff04",
   "metadata": {
    "execution": {
     "iopub.execute_input": "2022-07-20T06:49:09.851225Z",
     "iopub.status.busy": "2022-07-20T06:49:09.850960Z",
     "iopub.status.idle": "2022-07-20T06:49:10.836632Z",
     "shell.execute_reply": "2022-07-20T06:49:10.835793Z"
    },
    "papermill": {
     "duration": 0.993308,
     "end_time": "2022-07-20T06:49:10.838368",
     "exception": false,
     "start_time": "2022-07-20T06:49:09.845060",
     "status": "completed"
    },
    "tags": []
   },
   "outputs": [
    {
     "data": {
      "image/png": "[encoded data removed]",
      "text/plain": [
       "<Figure size 1152x576 with 10 Axes>"
      ]
     },
     "metadata": {
      "needs_background": "light"
     },
     "output_type": "display_data"
    }
   ],
   "source": [
    "def plot_roc_curves(y, y_pred_probs):\n",
    "    # based on example code\n",
    "    # https://scikit-learn.org/stable/auto_examples/model_selection/plot_roc.html\n",
    "\n",
    "    fig, axs = plt.subplots(nrows=2, ncols=5, figsize=(16, 8))\n",
    "\n",
    "    roc_auc_dict = {}\n",
    "\n",
    "    for (r, c), digit, ax in zip(\n",
    "        it.product(range(2), range(5)), range(10), axs.reshape(-1)\n",
    "    ):\n",
    "        fpr, tpr, _ = metrics.roc_curve(y == digit, y_pred_probs[:, digit])\n",
    "        auc = metrics.auc(fpr, tpr)\n",
    "        roc_auc_dict[str(digit)] = auc\n",
    "\n",
    "        ax.plot(fpr, tpr, label=f\"ROC AUC={round(auc, 3)}\")\n",
    "\n",
    "        ax.set_title(f\"\\nDigit {digit}\", fontsize=16)\n",
    "        if r == 1:\n",
    "            ax.set_xlabel(\"FPR\", fontsize=18)\n",
    "\n",
    "        if c == 0:\n",
    "            ax.set_ylabel(\"TPR\", fontsize=18)\n",
    "\n",
    "        ax.set_xlim([-0.05, 1.05])\n",
    "        ax.set_ylim([-0.05, 1.05])\n",
    "        ax.legend(loc=\"lower right\", frameon=False, fontsize=14)\n",
    "\n",
    "    fig.tight_layout()\n",
    "    fig.suptitle(\n",
    "        f\"ROC plots for one-vs-rest performances \"\n",
    "        f\"(on evaluation data, n={y_pred_probs_test.shape[1]}\",\n",
    "        fontsize=22,\n",
    "    )\n",
    "    fig.tight_layout()\n",
    "    fig.show()\n",
    "\n",
    "    return roc_auc_dict, fig\n",
    "\n",
    "\n",
    "roc_auc_dict, fig = plot_roc_curves(y_test, y_pred_probs_test)"
   ]
  },
  {
   "cell_type": "code",
   "execution_count": 16,
   "id": "543a0c6c",
   "metadata": {
    "execution": {
     "iopub.execute_input": "2022-07-20T06:49:10.850655Z",
     "iopub.status.busy": "2022-07-20T06:49:10.850263Z",
     "iopub.status.idle": "2022-07-20T06:49:11.066292Z",
     "shell.execute_reply": "2022-07-20T06:49:11.065595Z"
    },
    "papermill": {
     "duration": 0.224393,
     "end_time": "2022-07-20T06:49:11.068336",
     "exception": false,
     "start_time": "2022-07-20T06:49:10.843943",
     "status": "completed"
    },
    "tags": []
   },
   "outputs": [],
   "source": [
    "logger.log_figure(\"per-digit-roc-curves.png\", fig)"
   ]
  },
  {
   "cell_type": "code",
   "execution_count": 17,
   "id": "530fa485",
   "metadata": {
    "execution": {
     "iopub.execute_input": "2022-07-20T06:49:11.081447Z",
     "iopub.status.busy": "2022-07-20T06:49:11.080735Z",
     "iopub.status.idle": "2022-07-20T06:49:11.087221Z",
     "shell.execute_reply": "2022-07-20T06:49:11.086606Z"
    },
    "papermill": {
     "duration": 0.014296,
     "end_time": "2022-07-20T06:49:11.088716",
     "exception": false,
     "start_time": "2022-07-20T06:49:11.074420",
     "status": "completed"
    },
    "tags": []
   },
   "outputs": [
    {
     "data": {
      "text/plain": [
       "{'0': 1.0,\n",
       " '1': 0.9990627928772259,\n",
       " '2': 1.0,\n",
       " '3': 0.9998500468603562,\n",
       " '4': 0.9997332723670173,\n",
       " '5': 0.9997000937207123,\n",
       " '6': 0.999923792104862,\n",
       " '7': 0.9998475842097242,\n",
       " '8': 0.9957440100882724,\n",
       " '9': 0.9997713763145862}"
      ]
     },
     "execution_count": 17,
     "metadata": {},
     "output_type": "execute_result"
    }
   ],
   "source": [
    "roc_auc_dict"
   ]
  },
  {
   "cell_type": "code",
   "execution_count": 18,
   "id": "3343f3c8",
   "metadata": {
    "execution": {
     "iopub.execute_input": "2022-07-20T06:49:11.101074Z",
     "iopub.status.busy": "2022-07-20T06:49:11.100854Z",
     "iopub.status.idle": "2022-07-20T06:49:11.105938Z",
     "shell.execute_reply": "2022-07-20T06:49:11.105328Z"
    },
    "papermill": {
     "duration": 0.012959,
     "end_time": "2022-07-20T06:49:11.107514",
     "exception": false,
     "start_time": "2022-07-20T06:49:11.094555",
     "status": "completed"
    },
    "tags": []
   },
   "outputs": [
    {
     "name": "stdout",
     "output_type": "stream",
     "text": [
      " - Logging roc_auc_per_digit (json) : {'0': 1.0, '1': 0.9990627928772259, '2': 1.0, '3': 0.9998500468603562, '4': 0.9997332723670173, '5': 0.9997000937207123, '6': 0.999923792104862, '7': 0.9998475842097242, '8': 0.9957440100882724, '9': 0.9997713763145862}\n"
     ]
    }
   ],
   "source": [
    "logger.log_value(\"roc_auc_per_digit\", roc_auc_dict)"
   ]
  },
  {
   "cell_type": "markdown",
   "id": "8a4d6792",
   "metadata": {
    "papermill": {
     "duration": 0.005431,
     "end_time": "2022-07-20T06:49:11.118939",
     "exception": false,
     "start_time": "2022-07-20T06:49:11.113508",
     "status": "completed"
    },
    "tags": []
   },
   "source": [
    "### Compute and log mean ROC AUC score averaged over all digits"
   ]
  },
  {
   "cell_type": "code",
   "execution_count": 19,
   "id": "e2aea41c",
   "metadata": {
    "execution": {
     "iopub.execute_input": "2022-07-20T06:49:11.131483Z",
     "iopub.status.busy": "2022-07-20T06:49:11.130806Z",
     "iopub.status.idle": "2022-07-20T06:49:11.141912Z",
     "shell.execute_reply": "2022-07-20T06:49:11.141288Z"
    },
    "papermill": {
     "duration": 0.019284,
     "end_time": "2022-07-20T06:49:11.143660",
     "exception": false,
     "start_time": "2022-07-20T06:49:11.124376",
     "status": "completed"
    },
    "tags": []
   },
   "outputs": [
    {
     "name": "stdout",
     "output_type": "stream",
     "text": [
      " - Logging roc_auc_class_mean (float) : 0.9993632968542755\n"
     ]
    }
   ],
   "source": [
    "roc_auc_macro = np.mean(list(roc_auc_dict.values()))\n",
    "\n",
    "logger.log_float(\"roc_auc_class_mean\", roc_auc_macro)\n",
    "\n",
    "# assert that the same value can be computed directly using sklearn\n",
    "assert roc_auc_macro == metrics.roc_auc_score(\n",
    "    y_test, y_pred_probs_test, average=\"macro\", multi_class=\"ovr\"\n",
    ")"
   ]
  },
  {
   "cell_type": "code",
   "execution_count": 20,
   "id": "a514678b",
   "metadata": {
    "execution": {
     "iopub.execute_input": "2022-07-20T06:49:11.156007Z",
     "iopub.status.busy": "2022-07-20T06:49:11.155784Z",
     "iopub.status.idle": "2022-07-20T06:49:11.158596Z",
     "shell.execute_reply": "2022-07-20T06:49:11.157894Z"
    },
    "lines_to_next_cell": 0,
    "papermill": {
     "duration": 0.011127,
     "end_time": "2022-07-20T06:49:11.160090",
     "exception": false,
     "start_time": "2022-07-20T06:49:11.148963",
     "status": "completed"
    },
    "tags": []
   },
   "outputs": [],
   "source": [
    "# ---"
   ]
  },
  {
   "cell_type": "code",
   "execution_count": null,
   "id": "86bd86d0",
   "metadata": {
    "papermill": {
     "duration": 0.005356,
     "end_time": "2022-07-20T06:49:11.170901",
     "exception": false,
     "start_time": "2022-07-20T06:49:11.165545",
     "status": "completed"
    },
    "tags": []
   },
   "outputs": [],
   "source": []
  }
 ],
 "metadata": {
  "jupytext": {
   "cell_metadata_filter": "tags,-all",
   "main_language": "python",
   "notebook_metadata_filter": "-all"
  },
  "language_info": {
   "codemirror_mode": {
    "name": "ipython",
    "version": 3
   },
   "file_extension": ".py",
   "mimetype": "text/x-python",
   "name": "python",
   "nbconvert_exporter": "python",
   "pygments_lexer": "ipython3",
   "version": "3.8.10"
  },
  "papermill": {
   "default_parameters": {},
   "duration": 9.481134,
   "end_time": "2022-07-20T06:49:12.294901",
   "environment_variables": {},
   "exception": null,
   "input_path": "/home/host_user/workspace/mnist-demo-pipeline/mnist-demo-pipeline/notebooks/temp-notebook-ldsgio4w.ipynb",
   "output_path": "notebooks/benchmark-model.ipynb",
   "parameters": {
    "P": {
     "_opentelemetry_traceparent": "00-bf0e54157d24123a8dfdaf7635805574-54103a898f325d0e-01",
     "pipeline.data_lake_root": "/pipeline-outputs/data-lake",
     "pipeline.github.actor": "matiasdahl",
     "pipeline.github.base_ref": "",
     "pipeline.github.event_name": "schedule",
     "pipeline.github.head_ref": "",
     "pipeline.github.job": "run-tests-pipeline-and-persist-pipeline-outputs",
     "pipeline.github.ref": "refs/heads/development",
     "pipeline.github.ref_name": "development",
     "pipeline.github.ref_type": "branch",
     "pipeline.github.repository": "pynb-dag-runner/mnist-digits-demo-pipeline",
     "pipeline.github.run_id": "2702768688",
     "pipeline.github.runner_name": "Hosted Agent",
     "pipeline.github.sha": "5a6f90a9473b3095841d5b5dc7b58f5f049a0f71",
     "pipeline.github.workflow": "Run automated tests, pipeline and deploy results to static reporting site",
     "pipeline.pipeline_run_id": "9b8eb2de-e507-4056-840d-1f7140a936d7",
     "pipeline.run_environment": "ci",
     "run.retry_nr": "0",
     "task.max_nr_retries": "1",
     "task.notebook": "notebooks/benchmark-model.py",
     "task.nr_train_images": 1200,
     "task.num_cpus": 1,
     "task.timeout_s": "None"
    }
   },
   "start_time": "2022-07-20T06:49:02.813767",
   "version": "2.3.3"
  }
 },
 "nbformat": 4,
 "nbformat_minor": 5
}