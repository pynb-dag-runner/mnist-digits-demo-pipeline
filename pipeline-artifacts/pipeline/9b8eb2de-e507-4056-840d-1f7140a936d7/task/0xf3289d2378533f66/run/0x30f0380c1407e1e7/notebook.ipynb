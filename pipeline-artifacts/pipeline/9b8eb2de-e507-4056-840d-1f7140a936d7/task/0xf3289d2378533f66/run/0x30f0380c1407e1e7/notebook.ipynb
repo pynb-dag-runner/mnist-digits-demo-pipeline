{
 "cells": [
  {
   "cell_type": "markdown",
   "id": "d829397a",
   "metadata": {
    "papermill": {
     "duration": 0.004144,
     "end_time": "2022-07-20T06:48:47.009403",
     "exception": false,
     "start_time": "2022-07-20T06:48:47.005259",
     "status": "completed"
    },
    "tags": []
   },
   "source": [
    "# Train model\n",
    "\n",
    "The purpose of this notebook is:\n",
    "\n",
    "- Load all training data (images and labels).\n",
    "- Limit number of train images to `task.nr_train_images` (value provided as run parameter).\n",
    "- Train a support vector machine model using sklearn.\n",
    "- Persist the trained model using the ONNX format."
   ]
  },
  {
   "cell_type": "markdown",
   "id": "c56edc23",
   "metadata": {
    "papermill": {
     "duration": 0.003172,
     "end_time": "2022-07-20T06:48:47.015933",
     "exception": false,
     "start_time": "2022-07-20T06:48:47.012761",
     "status": "completed"
    },
    "tags": []
   },
   "source": [
    "### Determine run parameters"
   ]
  },
  {
   "cell_type": "code",
   "execution_count": 1,
   "id": "506739b7",
   "metadata": {
    "execution": {
     "iopub.execute_input": "2022-07-20T06:48:47.023085Z",
     "iopub.status.busy": "2022-07-20T06:48:47.022737Z",
     "iopub.status.idle": "2022-07-20T06:48:47.031175Z",
     "shell.execute_reply": "2022-07-20T06:48:47.030652Z"
    },
    "lines_to_next_cell": 0,
    "papermill": {
     "duration": 0.014466,
     "end_time": "2022-07-20T06:48:47.033000",
     "exception": false,
     "start_time": "2022-07-20T06:48:47.018534",
     "status": "completed"
    },
    "tags": []
   },
   "outputs": [],
   "source": [
    "# ----------------- Parameters for interactive development --------------\n",
    "P = {\n",
    "    \"pipeline.data_lake_root\": \"/pipeline-outputs/data-lake\",\n",
    "    \"task.nr_train_images\": 600,\n",
    "}"
   ]
  },
  {
   "cell_type": "code",
   "execution_count": 2,
   "id": "3d581a8a",
   "metadata": {
    "execution": {
     "iopub.execute_input": "2022-07-20T06:48:47.040251Z",
     "iopub.status.busy": "2022-07-20T06:48:47.039705Z",
     "iopub.status.idle": "2022-07-20T06:48:47.042688Z",
     "shell.execute_reply": "2022-07-20T06:48:47.042166Z"
    },
    "lines_to_next_cell": 0,
    "papermill": {
     "duration": 0.00894,
     "end_time": "2022-07-20T06:48:47.045010",
     "exception": false,
     "start_time": "2022-07-20T06:48:47.036070",
     "status": "completed"
    },
    "tags": [
     "parameters"
    ]
   },
   "outputs": [],
   "source": [
    "# - During automated runs parameters will be injected in the below cell -"
   ]
  },
  {
   "cell_type": "code",
   "execution_count": 3,
   "id": "d0ae01da",
   "metadata": {
    "execution": {
     "iopub.execute_input": "2022-07-20T06:48:47.051441Z",
     "iopub.status.busy": "2022-07-20T06:48:47.051228Z",
     "iopub.status.idle": "2022-07-20T06:48:47.055744Z",
     "shell.execute_reply": "2022-07-20T06:48:47.055230Z"
    },
    "papermill": {
     "duration": 0.010472,
     "end_time": "2022-07-20T06:48:47.058100",
     "exception": false,
     "start_time": "2022-07-20T06:48:47.047628",
     "status": "completed"
    },
    "tags": [
     "injected-parameters"
    ]
   },
   "outputs": [],
   "source": [
    "# Parameters\n",
    "P = {\n",
    "    \"pipeline.data_lake_root\": \"/pipeline-outputs/data-lake\",\n",
    "    \"pipeline.run_environment\": \"ci\",\n",
    "    \"pipeline.pipeline_run_id\": \"9b8eb2de-e507-4056-840d-1f7140a936d7\",\n",
    "    \"pipeline.github.repository\": \"pynb-dag-runner/mnist-digits-demo-pipeline\",\n",
    "    \"pipeline.github.workflow\": \"Run automated tests, pipeline and deploy results to static reporting site\",\n",
    "    \"pipeline.github.runner_name\": \"Hosted Agent\",\n",
    "    \"pipeline.github.run_id\": \"2702768688\",\n",
    "    \"pipeline.github.actor\": \"matiasdahl\",\n",
    "    \"pipeline.github.job\": \"run-tests-pipeline-and-persist-pipeline-outputs\",\n",
    "    \"pipeline.github.base_ref\": \"\",\n",
    "    \"pipeline.github.head_ref\": \"\",\n",
    "    \"pipeline.github.sha\": \"5a6f90a9473b3095841d5b5dc7b58f5f049a0f71\",\n",
    "    \"pipeline.github.ref\": \"refs/heads/development\",\n",
    "    \"pipeline.github.ref_type\": \"branch\",\n",
    "    \"pipeline.github.ref_name\": \"development\",\n",
    "    \"pipeline.github.event_name\": \"schedule\",\n",
    "    \"task.nr_train_images\": 1200,\n",
    "    \"task.notebook\": \"notebooks/train-model.py\",\n",
    "    \"task.max_nr_retries\": \"1\",\n",
    "    \"run.retry_nr\": \"0\",\n",
    "    \"task.timeout_s\": \"None\",\n",
    "    \"task.num_cpus\": 1,\n",
    "    \"_opentelemetry_traceparent\": \"00-bf0e54157d24123a8dfdaf7635805574-4382bf60e55977f7-01\",\n",
    "}\n"
   ]
  },
  {
   "cell_type": "code",
   "execution_count": 4,
   "id": "31b67e7b",
   "metadata": {
    "execution": {
     "iopub.execute_input": "2022-07-20T06:48:47.064936Z",
     "iopub.status.busy": "2022-07-20T06:48:47.064706Z",
     "iopub.status.idle": "2022-07-20T06:48:47.067367Z",
     "shell.execute_reply": "2022-07-20T06:48:47.066837Z"
    },
    "lines_to_next_cell": 0,
    "papermill": {
     "duration": 0.00865,
     "end_time": "2022-07-20T06:48:47.069776",
     "exception": false,
     "start_time": "2022-07-20T06:48:47.061126",
     "status": "completed"
    },
    "tags": []
   },
   "outputs": [],
   "source": [
    "# -----------------------------------------------------------------------"
   ]
  },
  {
   "cell_type": "markdown",
   "id": "5a27f783",
   "metadata": {
    "papermill": {
     "duration": 0.003062,
     "end_time": "2022-07-20T06:48:47.075544",
     "exception": false,
     "start_time": "2022-07-20T06:48:47.072482",
     "status": "completed"
    },
    "tags": []
   },
   "source": [
    "---"
   ]
  },
  {
   "cell_type": "markdown",
   "id": "5c1c04e1",
   "metadata": {
    "lines_to_next_cell": 2,
    "papermill": {
     "duration": 0.002786,
     "end_time": "2022-07-20T06:48:47.081183",
     "exception": false,
     "start_time": "2022-07-20T06:48:47.078397",
     "status": "completed"
    },
    "tags": []
   },
   "source": [
    "### Notebook code"
   ]
  },
  {
   "cell_type": "code",
   "execution_count": 5,
   "id": "3b3e2b4c",
   "metadata": {
    "execution": {
     "iopub.execute_input": "2022-07-20T06:48:47.088801Z",
     "iopub.status.busy": "2022-07-20T06:48:47.088568Z",
     "iopub.status.idle": "2022-07-20T06:48:47.564831Z",
     "shell.execute_reply": "2022-07-20T06:48:47.564184Z"
    },
    "papermill": {
     "duration": 0.482757,
     "end_time": "2022-07-20T06:48:47.566636",
     "exception": false,
     "start_time": "2022-07-20T06:48:47.083879",
     "status": "completed"
    },
    "tags": []
   },
   "outputs": [
    {
     "name": "stderr",
     "output_type": "stream",
     "text": [
      "2022-07-20 06:48:47,397\tINFO worker.py:842 -- Connecting to existing Ray cluster at address: 172.17.0.2:6379\n"
     ]
    }
   ],
   "source": [
    "from pynb_dag_runner.tasks.task_opentelemetry_logging import PydarLogger\n",
    "\n",
    "logger = PydarLogger(P)"
   ]
  },
  {
   "cell_type": "markdown",
   "id": "be2a31fd",
   "metadata": {
    "papermill": {
     "duration": 0.00306,
     "end_time": "2022-07-20T06:48:47.573051",
     "exception": false,
     "start_time": "2022-07-20T06:48:47.569991",
     "status": "completed"
    },
    "tags": []
   },
   "source": [
    "## Load and limit train data"
   ]
  },
  {
   "cell_type": "code",
   "execution_count": 6,
   "id": "18787046",
   "metadata": {
    "execution": {
     "iopub.execute_input": "2022-07-20T06:48:47.580614Z",
     "iopub.status.busy": "2022-07-20T06:48:47.579936Z",
     "iopub.status.idle": "2022-07-20T06:48:47.991421Z",
     "shell.execute_reply": "2022-07-20T06:48:47.990658Z"
    },
    "papermill": {
     "duration": 0.417473,
     "end_time": "2022-07-20T06:48:47.993389",
     "exception": false,
     "start_time": "2022-07-20T06:48:47.575916",
     "status": "completed"
    },
    "tags": []
   },
   "outputs": [],
   "source": [
    "def load_and_limit_train_data(P):\n",
    "    from common.io import datalake_root, read_numpy\n",
    "    from sklearn.model_selection import train_test_split\n",
    "\n",
    "    X_train_all = read_numpy(datalake_root(P) / \"train-data\" / \"digits.numpy\")\n",
    "    y_train_all = read_numpy(datalake_root(P) / \"train-data\" / \"labels.numpy\")\n",
    "\n",
    "    assert isinstance(P[\"task.nr_train_images\"], int)\n",
    "\n",
    "    # Note: train_test_split will fail if split is 0 or 100%.\n",
    "    assert 0 < P[\"task.nr_train_images\"] < len(y_train_all)\n",
    "\n",
    "    X_train, _, y_train, _ = train_test_split(\n",
    "        X_train_all,\n",
    "        y_train_all,\n",
    "        train_size=P[\"task.nr_train_images\"],\n",
    "        test_size=None,\n",
    "        stratify=y_train_all,\n",
    "        shuffle=True,\n",
    "        random_state=123,\n",
    "    )\n",
    "\n",
    "    assert X_train.shape == (len(y_train), 8 * 8)\n",
    "    return X_train, y_train\n",
    "\n",
    "\n",
    "X_train, y_train = load_and_limit_train_data(P)"
   ]
  },
  {
   "cell_type": "markdown",
   "id": "165ccd30",
   "metadata": {
    "papermill": {
     "duration": 0.003419,
     "end_time": "2022-07-20T06:48:48.000132",
     "exception": false,
     "start_time": "2022-07-20T06:48:47.996713",
     "status": "completed"
    },
    "tags": []
   },
   "source": [
    "## Train support vector classifier model\n",
    "\n",
    "Below we assume that the hyperparameter $C$ is known.\n",
    "\n",
    "However, this should ideally be found by a hyperparameter search. That could be\n",
    "done in parallel on the Ray cluster, but this needs some more work. Ie., to use\n",
    "multiple cores in the notebook, those cores should be reserved when starting the\n",
    "notebook task (TODO).\n",
    "\n",
    "- https://docs.ray.io/en/latest/tune/key-concepts.html\n",
    "\n",
    "Note: cv-scores would need to be computed here, since they depend on the train data.\n",
    "After this notebook only the onnx-model is available."
   ]
  },
  {
   "cell_type": "code",
   "execution_count": 7,
   "id": "3b2923a4",
   "metadata": {
    "execution": {
     "iopub.execute_input": "2022-07-20T06:48:48.007419Z",
     "iopub.status.busy": "2022-07-20T06:48:48.007029Z",
     "iopub.status.idle": "2022-07-20T06:48:48.032962Z",
     "shell.execute_reply": "2022-07-20T06:48:48.032333Z"
    },
    "papermill": {
     "duration": 0.031518,
     "end_time": "2022-07-20T06:48:48.034727",
     "exception": false,
     "start_time": "2022-07-20T06:48:48.003209",
     "status": "completed"
    },
    "tags": []
   },
   "outputs": [],
   "source": [
    "from sklearn.svm import SVC"
   ]
  },
  {
   "cell_type": "code",
   "execution_count": 8,
   "id": "4e868297",
   "metadata": {
    "execution": {
     "iopub.execute_input": "2022-07-20T06:48:48.044870Z",
     "iopub.status.busy": "2022-07-20T06:48:48.044445Z",
     "iopub.status.idle": "2022-07-20T06:48:48.248260Z",
     "shell.execute_reply": "2022-07-20T06:48:48.247071Z"
    },
    "papermill": {
     "duration": 0.212158,
     "end_time": "2022-07-20T06:48:48.250067",
     "exception": false,
     "start_time": "2022-07-20T06:48:48.037909",
     "status": "completed"
    },
    "tags": []
   },
   "outputs": [
    {
     "data": {
      "text/plain": [
       "SVC(C=0.001, kernel='linear', probability=True)"
      ]
     },
     "execution_count": 8,
     "metadata": {},
     "output_type": "execute_result"
    }
   ],
   "source": [
    "model = SVC(C=0.001, kernel=\"linear\", probability=True)\n",
    "\n",
    "model.fit(X_train, y_train)"
   ]
  },
  {
   "cell_type": "markdown",
   "id": "dc4ceaac",
   "metadata": {
    "papermill": {
     "duration": 0.004201,
     "end_time": "2022-07-20T06:48:48.258507",
     "exception": false,
     "start_time": "2022-07-20T06:48:48.254306",
     "status": "completed"
    },
    "tags": []
   },
   "source": [
    "### Q: Can the labels returned by `predict(..)` be computed from probabilities returned by the `predict_prob`-method?"
   ]
  },
  {
   "cell_type": "code",
   "execution_count": 9,
   "id": "f3f95d26",
   "metadata": {
    "execution": {
     "iopub.execute_input": "2022-07-20T06:48:48.266401Z",
     "iopub.status.busy": "2022-07-20T06:48:48.266128Z",
     "iopub.status.idle": "2022-07-20T06:48:48.380858Z",
     "shell.execute_reply": "2022-07-20T06:48:48.379876Z"
    },
    "papermill": {
     "duration": 0.120786,
     "end_time": "2022-07-20T06:48:48.382481",
     "exception": false,
     "start_time": "2022-07-20T06:48:48.261695",
     "status": "completed"
    },
    "tags": []
   },
   "outputs": [
    {
     "name": "stdout",
     "output_type": "stream",
     "text": [
      " - Logging nr_max_prob_neq_label (int) : 2\n"
     ]
    }
   ],
   "source": [
    "import numpy as np\n",
    "\n",
    "y_train_labels = model.predict(X_train)\n",
    "y_train_probabilities = model.predict_proba(X_train)\n",
    "assert y_train_probabilities.shape == (len(y_train), 10)\n",
    "\n",
    "y_train_max_prob_labels = np.argmax(y_train_probabilities, axis=1)\n",
    "assert y_train_labels.shape == y_train_max_prob_labels.shape == y_train.shape\n",
    "\n",
    "# If the predicted labels would coincide with the labels that have\n",
    "# maximum probability, the below number would be zero\n",
    "logger.log_int(\n",
    "    \"nr_max_prob_neq_label\", int(sum(y_train_max_prob_labels != y_train_labels))\n",
    ")"
   ]
  },
  {
   "cell_type": "markdown",
   "id": "afa442bc",
   "metadata": {
    "papermill": {
     "duration": 0.003182,
     "end_time": "2022-07-20T06:48:48.389139",
     "exception": false,
     "start_time": "2022-07-20T06:48:48.385957",
     "status": "completed"
    },
    "tags": []
   },
   "source": [
    "The explanation is (likely) explained in the SVC source, see\n",
    "[here](https://github.com/scikit-learn/scikit-learn/blob/main/sklearn/svm/_base.py).\n",
    "Namely, the outputs from `predict(..)` and `predict_proba(..)` may not in some\n",
    "cases be compatible since the latter is computed using cross-validation while\n",
    "the former is not. Thus, the above number need not be zero."
   ]
  },
  {
   "cell_type": "markdown",
   "id": "ad23203a",
   "metadata": {
    "papermill": {
     "duration": 0.00325,
     "end_time": "2022-07-20T06:48:48.395970",
     "exception": false,
     "start_time": "2022-07-20T06:48:48.392720",
     "status": "completed"
    },
    "tags": []
   },
   "source": [
    "## Persist model"
   ]
  },
  {
   "cell_type": "code",
   "execution_count": 10,
   "id": "30133686",
   "metadata": {
    "execution": {
     "iopub.execute_input": "2022-07-20T06:48:48.403719Z",
     "iopub.status.busy": "2022-07-20T06:48:48.403334Z",
     "iopub.status.idle": "2022-07-20T06:48:49.147902Z",
     "shell.execute_reply": "2022-07-20T06:48:49.147233Z"
    },
    "papermill": {
     "duration": 0.751119,
     "end_time": "2022-07-20T06:48:49.150093",
     "exception": false,
     "start_time": "2022-07-20T06:48:48.398974",
     "status": "completed"
    },
    "tags": []
   },
   "outputs": [],
   "source": [
    "from skl2onnx import convert_sklearn\n",
    "from skl2onnx.common.data_types import FloatTensorType\n",
    "\n",
    "#\n",
    "from common.io import datalake_root, write_onnx"
   ]
  },
  {
   "cell_type": "code",
   "execution_count": 11,
   "id": "2ffa6808",
   "metadata": {
    "execution": {
     "iopub.execute_input": "2022-07-20T06:48:49.161106Z",
     "iopub.status.busy": "2022-07-20T06:48:49.159391Z",
     "iopub.status.idle": "2022-07-20T06:48:49.223111Z",
     "shell.execute_reply": "2022-07-20T06:48:49.222275Z"
    },
    "papermill": {
     "duration": 0.069923,
     "end_time": "2022-07-20T06:48:49.225040",
     "exception": false,
     "start_time": "2022-07-20T06:48:49.155117",
     "status": "completed"
    },
    "tags": []
   },
   "outputs": [],
   "source": [
    "# convert sklearn model into onnx and persist to data lake\n",
    "\n",
    "model_onnx = convert_sklearn(\n",
    "    model, initial_types=[(\"float_input_8x8_image\", FloatTensorType([None, 8 * 8]))]\n",
    ")\n",
    "write_onnx(\n",
    "    datalake_root(P)\n",
    "    / \"models\"\n",
    "    / f\"nr_train_images={P['task.nr_train_images']}\"\n",
    "    / \"model.onnx\",\n",
    "    model_onnx,\n",
    ")"
   ]
  },
  {
   "cell_type": "code",
   "execution_count": null,
   "id": "e9a19097",
   "metadata": {
    "papermill": {
     "duration": 0.00355,
     "end_time": "2022-07-20T06:48:49.232680",
     "exception": false,
     "start_time": "2022-07-20T06:48:49.229130",
     "status": "completed"
    },
    "tags": []
   },
   "outputs": [],
   "source": []
  }
 ],
 "metadata": {
  "jupytext": {
   "cell_metadata_filter": "tags,-all",
   "main_language": "python",
   "notebook_metadata_filter": "-all"
  },
  "language_info": {
   "codemirror_mode": {
    "name": "ipython",
    "version": 3
   },
   "file_extension": ".py",
   "mimetype": "text/x-python",
   "name": "python",
   "nbconvert_exporter": "python",
   "pygments_lexer": "ipython3",
   "version": "3.8.10"
  },
  "papermill": {
   "default_parameters": {},
   "duration": 4.899368,
   "end_time": "2022-07-20T06:48:50.260929",
   "environment_variables": {},
   "exception": null,
   "input_path": "/home/host_user/workspace/mnist-demo-pipeline/mnist-demo-pipeline/notebooks/temp-notebook-mn9thia5.ipynb",
   "output_path": "notebooks/train-model.ipynb",
   "parameters": {
    "P": {
     "_opentelemetry_traceparent": "00-bf0e54157d24123a8dfdaf7635805574-4382bf60e55977f7-01",
     "pipeline.data_lake_root": "/pipeline-outputs/data-lake",
     "pipeline.github.actor": "matiasdahl",
     "pipeline.github.base_ref": "",
     "pipeline.github.event_name": "schedule",
     "pipeline.github.head_ref": "",
     "pipeline.github.job": "run-tests-pipeline-and-persist-pipeline-outputs",
     "pipeline.github.ref": "refs/heads/development",
     "pipeline.github.ref_name": "development",
     "pipeline.github.ref_type": "branch",
     "pipeline.github.repository": "pynb-dag-runner/mnist-digits-demo-pipeline",
     "pipeline.github.run_id": "2702768688",
     "pipeline.github.runner_name": "Hosted Agent",
     "pipeline.github.sha": "5a6f90a9473b3095841d5b5dc7b58f5f049a0f71",
     "pipeline.github.workflow": "Run automated tests, pipeline and deploy results to static reporting site",
     "pipeline.pipeline_run_id": "9b8eb2de-e507-4056-840d-1f7140a936d7",
     "pipeline.run_environment": "ci",
     "run.retry_nr": "0",
     "task.max_nr_retries": "1",
     "task.notebook": "notebooks/train-model.py",
     "task.nr_train_images": 1200,
     "task.num_cpus": 1,
     "task.timeout_s": "None"
    }
   },
   "start_time": "2022-07-20T06:48:45.361561",
   "version": "2.3.3"
  }
 },
 "nbformat": 4,
 "nbformat_minor": 5
}