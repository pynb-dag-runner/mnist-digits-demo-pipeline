{
 "cells": [
  {
   "cell_type": "markdown",
   "id": "8f5e1e89",
   "metadata": {
    "papermill": {
     "duration": 0.006594,
     "end_time": "2022-07-20T06:48:59.802931",
     "exception": false,
     "start_time": "2022-07-20T06:48:59.796337",
     "status": "completed"
    },
    "tags": []
   },
   "source": [
    "# Benchmark model\n",
    "\n",
    "The purpose of this notebook is to benchmark persisted onnx-model (trained in the\n",
    "previous step) against evaluation set."
   ]
  },
  {
   "cell_type": "markdown",
   "id": "3176099a",
   "metadata": {
    "papermill": {
     "duration": 0.004559,
     "end_time": "2022-07-20T06:48:59.812864",
     "exception": false,
     "start_time": "2022-07-20T06:48:59.808305",
     "status": "completed"
    },
    "tags": []
   },
   "source": [
    "### Determine run parameters"
   ]
  },
  {
   "cell_type": "code",
   "execution_count": 1,
   "id": "1631fe72",
   "metadata": {
    "execution": {
     "iopub.execute_input": "2022-07-20T06:48:59.822673Z",
     "iopub.status.busy": "2022-07-20T06:48:59.822326Z",
     "iopub.status.idle": "2022-07-20T06:48:59.830656Z",
     "shell.execute_reply": "2022-07-20T06:48:59.830099Z"
    },
    "lines_to_next_cell": 0,
    "papermill": {
     "duration": 0.017117,
     "end_time": "2022-07-20T06:48:59.833793",
     "exception": false,
     "start_time": "2022-07-20T06:48:59.816676",
     "status": "completed"
    },
    "tags": []
   },
   "outputs": [],
   "source": [
    "# ----------------- Parameters for interactive development --------------\n",
    "P = {\n",
    "    \"pipeline.data_lake_root\": \"/pipeline-outputs/data-lake\",\n",
    "    \"task.nr_train_images\": 600,\n",
    "}"
   ]
  },
  {
   "cell_type": "code",
   "execution_count": 2,
   "id": "6ba07ff2",
   "metadata": {
    "execution": {
     "iopub.execute_input": "2022-07-20T06:48:59.843425Z",
     "iopub.status.busy": "2022-07-20T06:48:59.843215Z",
     "iopub.status.idle": "2022-07-20T06:48:59.846097Z",
     "shell.execute_reply": "2022-07-20T06:48:59.845517Z"
    },
    "lines_to_next_cell": 0,
    "papermill": {
     "duration": 0.011172,
     "end_time": "2022-07-20T06:48:59.849708",
     "exception": false,
     "start_time": "2022-07-20T06:48:59.838536",
     "status": "completed"
    },
    "tags": [
     "parameters"
    ]
   },
   "outputs": [],
   "source": [
    "# - During automated runs parameters will be injected in the below cell -"
   ]
  },
  {
   "cell_type": "code",
   "execution_count": 3,
   "id": "02ae9ad4",
   "metadata": {
    "execution": {
     "iopub.execute_input": "2022-07-20T06:48:59.859543Z",
     "iopub.status.busy": "2022-07-20T06:48:59.859336Z",
     "iopub.status.idle": "2022-07-20T06:48:59.868191Z",
     "shell.execute_reply": "2022-07-20T06:48:59.867638Z"
    },
    "papermill": {
     "duration": 0.019684,
     "end_time": "2022-07-20T06:48:59.873509",
     "exception": false,
     "start_time": "2022-07-20T06:48:59.853825",
     "status": "completed"
    },
    "tags": [
     "injected-parameters"
    ]
   },
   "outputs": [],
   "source": [
    "# Parameters\n",
    "P = {\n",
    "    \"pipeline.data_lake_root\": \"/pipeline-outputs/data-lake\",\n",
    "    \"pipeline.run_environment\": \"ci\",\n",
    "    \"pipeline.pipeline_run_id\": \"9b8eb2de-e507-4056-840d-1f7140a936d7\",\n",
    "    \"pipeline.github.repository\": \"pynb-dag-runner/mnist-digits-demo-pipeline\",\n",
    "    \"pipeline.github.workflow\": \"Run automated tests, pipeline and deploy results to static reporting site\",\n",
    "    \"pipeline.github.runner_name\": \"Hosted Agent\",\n",
    "    \"pipeline.github.run_id\": \"2702768688\",\n",
    "    \"pipeline.github.actor\": \"matiasdahl\",\n",
    "    \"pipeline.github.job\": \"run-tests-pipeline-and-persist-pipeline-outputs\",\n",
    "    \"pipeline.github.base_ref\": \"\",\n",
    "    \"pipeline.github.head_ref\": \"\",\n",
    "    \"pipeline.github.sha\": \"5a6f90a9473b3095841d5b5dc7b58f5f049a0f71\",\n",
    "    \"pipeline.github.ref\": \"refs/heads/development\",\n",
    "    \"pipeline.github.ref_type\": \"branch\",\n",
    "    \"pipeline.github.ref_name\": \"development\",\n",
    "    \"pipeline.github.event_name\": \"schedule\",\n",
    "    \"task.nr_train_images\": 800,\n",
    "    \"task.notebook\": \"notebooks/benchmark-model.py\",\n",
    "    \"task.max_nr_retries\": \"1\",\n",
    "    \"run.retry_nr\": \"0\",\n",
    "    \"task.timeout_s\": \"None\",\n",
    "    \"task.num_cpus\": 1,\n",
    "    \"_opentelemetry_traceparent\": \"00-bf0e54157d24123a8dfdaf7635805574-96257b21a0c044b3-01\",\n",
    "}\n"
   ]
  },
  {
   "cell_type": "code",
   "execution_count": 4,
   "id": "1f5f9e32",
   "metadata": {
    "execution": {
     "iopub.execute_input": "2022-07-20T06:48:59.884391Z",
     "iopub.status.busy": "2022-07-20T06:48:59.884176Z",
     "iopub.status.idle": "2022-07-20T06:48:59.886910Z",
     "shell.execute_reply": "2022-07-20T06:48:59.886370Z"
    },
    "lines_to_next_cell": 0,
    "papermill": {
     "duration": 0.012931,
     "end_time": "2022-07-20T06:48:59.890193",
     "exception": false,
     "start_time": "2022-07-20T06:48:59.877262",
     "status": "completed"
    },
    "tags": []
   },
   "outputs": [],
   "source": [
    "# -----------------------------------------------------------------------"
   ]
  },
  {
   "cell_type": "markdown",
   "id": "fe28c2e5",
   "metadata": {
    "papermill": {
     "duration": 0.004003,
     "end_time": "2022-07-20T06:48:59.898170",
     "exception": false,
     "start_time": "2022-07-20T06:48:59.894167",
     "status": "completed"
    },
    "tags": []
   },
   "source": [
    "---"
   ]
  },
  {
   "cell_type": "markdown",
   "id": "a6630f2e",
   "metadata": {
    "lines_to_next_cell": 2,
    "papermill": {
     "duration": 0.007001,
     "end_time": "2022-07-20T06:48:59.909925",
     "exception": false,
     "start_time": "2022-07-20T06:48:59.902924",
     "status": "completed"
    },
    "tags": []
   },
   "source": [
    "### Notebook code"
   ]
  },
  {
   "cell_type": "code",
   "execution_count": 5,
   "id": "3b4ce23a",
   "metadata": {
    "execution": {
     "iopub.execute_input": "2022-07-20T06:48:59.919064Z",
     "iopub.status.busy": "2022-07-20T06:48:59.918836Z",
     "iopub.status.idle": "2022-07-20T06:49:01.022563Z",
     "shell.execute_reply": "2022-07-20T06:49:01.021829Z"
    },
    "papermill": {
     "duration": 1.110664,
     "end_time": "2022-07-20T06:49:01.024735",
     "exception": false,
     "start_time": "2022-07-20T06:48:59.914071",
     "status": "completed"
    },
    "tags": []
   },
   "outputs": [
    {
     "name": "stderr",
     "output_type": "stream",
     "text": [
      "2022-07-20 06:49:00,858\tINFO worker.py:842 -- Connecting to existing Ray cluster at address: 172.17.0.2:6379\n"
     ]
    }
   ],
   "source": [
    "import itertools as it\n",
    "\n",
    "#\n",
    "import numpy as np\n",
    "import matplotlib.pyplot as plt\n",
    "\n",
    "#\n",
    "from pynb_dag_runner.tasks.task_opentelemetry_logging import PydarLogger\n",
    "\n",
    "#\n",
    "from common.io import datalake_root\n",
    "\n",
    "logger = PydarLogger(P)"
   ]
  },
  {
   "cell_type": "markdown",
   "id": "e0d40922",
   "metadata": {
    "papermill": {
     "duration": 0.004194,
     "end_time": "2022-07-20T06:49:01.033206",
     "exception": false,
     "start_time": "2022-07-20T06:49:01.029012",
     "status": "completed"
    },
    "tags": []
   },
   "source": [
    "## Load persisted onnx-model and evaluation data"
   ]
  },
  {
   "cell_type": "code",
   "execution_count": 6,
   "id": "16becfb2",
   "metadata": {
    "execution": {
     "iopub.execute_input": "2022-07-20T06:49:01.043051Z",
     "iopub.status.busy": "2022-07-20T06:49:01.042278Z",
     "iopub.status.idle": "2022-07-20T06:49:01.046107Z",
     "shell.execute_reply": "2022-07-20T06:49:01.045509Z"
    },
    "papermill": {
     "duration": 0.01159,
     "end_time": "2022-07-20T06:49:01.048761",
     "exception": false,
     "start_time": "2022-07-20T06:49:01.037171",
     "status": "completed"
    },
    "tags": []
   },
   "outputs": [],
   "source": [
    "from common.io import read_onnx, get_onnx_inputs, get_onnx_outputs, read_numpy"
   ]
  },
  {
   "cell_type": "code",
   "execution_count": 7,
   "id": "ad18491d",
   "metadata": {
    "execution": {
     "iopub.execute_input": "2022-07-20T06:49:01.058308Z",
     "iopub.status.busy": "2022-07-20T06:49:01.058088Z",
     "iopub.status.idle": "2022-07-20T06:49:01.068657Z",
     "shell.execute_reply": "2022-07-20T06:49:01.068147Z"
    },
    "lines_to_next_cell": 0,
    "papermill": {
     "duration": 0.017326,
     "end_time": "2022-07-20T06:49:01.070398",
     "exception": false,
     "start_time": "2022-07-20T06:49:01.053072",
     "status": "completed"
    },
    "tags": []
   },
   "outputs": [],
   "source": [
    "onnx_inference_session = read_onnx(\n",
    "    datalake_root(P)\n",
    "    / \"models\"\n",
    "    / f\"nr_train_images={P['task.nr_train_images']}\"\n",
    "    / \"model.onnx\"\n",
    ")"
   ]
  },
  {
   "cell_type": "markdown",
   "id": "d9ee279b",
   "metadata": {
    "papermill": {
     "duration": 0.004183,
     "end_time": "2022-07-20T06:49:01.078970",
     "exception": false,
     "start_time": "2022-07-20T06:49:01.074787",
     "status": "completed"
    },
    "tags": []
   },
   "source": [
    "### Record structure of inputs and outputs for ONNX model\n",
    "\n",
    "(this should likely be done in training notebook)"
   ]
  },
  {
   "cell_type": "code",
   "execution_count": 8,
   "id": "460ae637",
   "metadata": {
    "execution": {
     "iopub.execute_input": "2022-07-20T06:49:01.088459Z",
     "iopub.status.busy": "2022-07-20T06:49:01.088226Z",
     "iopub.status.idle": "2022-07-20T06:49:01.094008Z",
     "shell.execute_reply": "2022-07-20T06:49:01.093458Z"
    },
    "papermill": {
     "duration": 0.014577,
     "end_time": "2022-07-20T06:49:01.097604",
     "exception": false,
     "start_time": "2022-07-20T06:49:01.083027",
     "status": "completed"
    },
    "tags": []
   },
   "outputs": [
    {
     "name": "stdout",
     "output_type": "stream",
     "text": [
      "{\n",
      "  \"inputs\": [\n",
      "    {\n",
      "      \"name\": \"float_input_8x8_image\",\n",
      "      \"shape\": [\n",
      "        null,\n",
      "        64\n",
      "      ],\n",
      "      \"type\": \"tensor(float)\"\n",
      "    }\n",
      "  ],\n",
      "  \"outputs\": [\n",
      "    {\n",
      "      \"name\": \"output_label\",\n",
      "      \"shape\": [\n",
      "        null\n",
      "      ],\n",
      "      \"type\": \"tensor(int64)\"\n",
      "    },\n",
      "    {\n",
      "      \"name\": \"output_probability\",\n",
      "      \"shape\": [],\n",
      "      \"type\": \"seq(map(int64,tensor(float)))\"\n",
      "    }\n",
      "  ]\n",
      "}\n"
     ]
    }
   ],
   "source": [
    "import json\n",
    "\n",
    "onnx_io = json.dumps(\n",
    "    {\n",
    "        \"inputs\": get_onnx_inputs(onnx_inference_session),\n",
    "        \"outputs\": get_onnx_outputs(onnx_inference_session),\n",
    "    },\n",
    "    indent=2,\n",
    ")\n",
    "\n",
    "\n",
    "logger.log_artefact(\"onnx_io_structure.json\", onnx_io)\n",
    "print(onnx_io)"
   ]
  },
  {
   "cell_type": "markdown",
   "id": "cd73ab82",
   "metadata": {
    "papermill": {
     "duration": 0.004355,
     "end_time": "2022-07-20T06:49:01.106683",
     "exception": false,
     "start_time": "2022-07-20T06:49:01.102328",
     "status": "completed"
    },
    "tags": []
   },
   "source": [
    "### Evaluate model performance on evaluation data set"
   ]
  },
  {
   "cell_type": "code",
   "execution_count": 9,
   "id": "a4d4c068",
   "metadata": {
    "execution": {
     "iopub.execute_input": "2022-07-20T06:49:01.116804Z",
     "iopub.status.busy": "2022-07-20T06:49:01.116563Z",
     "iopub.status.idle": "2022-07-20T06:49:01.121044Z",
     "shell.execute_reply": "2022-07-20T06:49:01.120483Z"
    },
    "papermill": {
     "duration": 0.012144,
     "end_time": "2022-07-20T06:49:01.123552",
     "exception": false,
     "start_time": "2022-07-20T06:49:01.111408",
     "status": "completed"
    },
    "tags": []
   },
   "outputs": [],
   "source": [
    "# load evaluation data\n",
    "X_test = read_numpy(datalake_root(P) / \"test-data\" / \"digits.numpy\")\n",
    "y_test = read_numpy(datalake_root(P) / \"test-data\" / \"labels.numpy\")"
   ]
  },
  {
   "cell_type": "code",
   "execution_count": 10,
   "id": "3efee72a",
   "metadata": {
    "execution": {
     "iopub.execute_input": "2022-07-20T06:49:01.133407Z",
     "iopub.status.busy": "2022-07-20T06:49:01.133142Z",
     "iopub.status.idle": "2022-07-20T06:49:01.146940Z",
     "shell.execute_reply": "2022-07-20T06:49:01.146389Z"
    },
    "papermill": {
     "duration": 0.020731,
     "end_time": "2022-07-20T06:49:01.148722",
     "exception": false,
     "start_time": "2022-07-20T06:49:01.127991",
     "status": "completed"
    },
    "tags": []
   },
   "outputs": [],
   "source": [
    "def get_model_outputs(X, onnx_inference_session):\n",
    "    y_pred_labels, y_pred_map = onnx_inference_session.run(\n",
    "        [\"output_label\", \"output_probability\"],\n",
    "        {\"float_input_8x8_image\": X.astype(np.float32)},\n",
    "    )\n",
    "    y_pred_probs = np.array(\n",
    "        [[probabilities[digit] for digit in range(10)] for probabilities in y_pred_map]\n",
    "    )\n",
    "\n",
    "    assert y_pred_labels.shape == (X.shape[0],)\n",
    "    assert y_pred_probs.shape == (X.shape[0], 10)\n",
    "\n",
    "    return y_pred_labels, y_pred_probs\n",
    "\n",
    "\n",
    "# Note: as shown in the training notebook, the predicted labels and probabilities\n",
    "# computed below need not be compatible.\n",
    "y_pred_labels_test, y_pred_probs_test = get_model_outputs(\n",
    "    X_test, onnx_inference_session\n",
    ")"
   ]
  },
  {
   "cell_type": "markdown",
   "id": "6a2cb1bf",
   "metadata": {
    "papermill": {
     "duration": 0.004539,
     "end_time": "2022-07-20T06:49:01.157790",
     "exception": false,
     "start_time": "2022-07-20T06:49:01.153251",
     "status": "completed"
    },
    "tags": []
   },
   "source": [
    "### Confusion matrix"
   ]
  },
  {
   "cell_type": "code",
   "execution_count": 11,
   "id": "e58a598a",
   "metadata": {
    "execution": {
     "iopub.execute_input": "2022-07-20T06:49:01.167458Z",
     "iopub.status.busy": "2022-07-20T06:49:01.167232Z",
     "iopub.status.idle": "2022-07-20T06:49:01.169978Z",
     "shell.execute_reply": "2022-07-20T06:49:01.169419Z"
    },
    "papermill": {
     "duration": 0.010631,
     "end_time": "2022-07-20T06:49:01.172715",
     "exception": false,
     "start_time": "2022-07-20T06:49:01.162084",
     "status": "completed"
    },
    "tags": []
   },
   "outputs": [],
   "source": [
    "# TODO"
   ]
  },
  {
   "cell_type": "markdown",
   "id": "fc0ac088",
   "metadata": {
    "papermill": {
     "duration": 0.004075,
     "end_time": "2022-07-20T06:49:01.181581",
     "exception": false,
     "start_time": "2022-07-20T06:49:01.177506",
     "status": "completed"
    },
    "tags": []
   },
   "source": [
    "### Plot predicted probabilities for each classifier over all evaluation digit images"
   ]
  },
  {
   "cell_type": "code",
   "execution_count": 12,
   "id": "ff3a9503",
   "metadata": {
    "execution": {
     "iopub.execute_input": "2022-07-20T06:49:01.191381Z",
     "iopub.status.busy": "2022-07-20T06:49:01.191160Z",
     "iopub.status.idle": "2022-07-20T06:49:04.441409Z",
     "shell.execute_reply": "2022-07-20T06:49:04.440645Z"
    },
    "papermill": {
     "duration": 3.257035,
     "end_time": "2022-07-20T06:49:04.443106",
     "exception": false,
     "start_time": "2022-07-20T06:49:01.186071",
     "status": "completed"
    },
    "tags": []
   },
   "outputs": [
    {
     "data": {
      "image/png": "[encoded data removed]",
      "text/plain": [
       "<Figure size 1152x432 with 10 Axes>"
      ]
     },
     "metadata": {
      "needs_background": "light"
     },
     "output_type": "display_data"
    }
   ],
   "source": [
    "def plot_per_digit_probabilities(y_pred_probs):\n",
    "    fig, axs = plt.subplots(nrows=2, ncols=5, figsize=(16, 6))\n",
    "\n",
    "    for (r, c), digit, ax in zip(\n",
    "        it.product(range(2), range(5)), range(10), axs.reshape(-1)\n",
    "    ):\n",
    "        ax.hist(y_pred_probs_test[:, digit], bins=20)\n",
    "\n",
    "        ax.set_title(f\"Digit {digit}\")\n",
    "        if r == 1 and c == 2:\n",
    "            ax.set_xlabel(\"probability\", fontsize=16)\n",
    "\n",
    "        if c == 0:\n",
    "            ax.set_ylabel(\"counts\", fontsize=16)\n",
    "        ax.set_yscale(\"log\")\n",
    "\n",
    "    fig.tight_layout()\n",
    "    fig.suptitle(\n",
    "        f\"Distributions of prediction probabilities for each digit \"\n",
    "        f\"(on evaluation data, n={y_pred_probs.shape[0]})\",\n",
    "        fontsize=20,\n",
    "    )\n",
    "    fig.tight_layout()\n",
    "    fig.show()\n",
    "\n",
    "    return fig\n",
    "\n",
    "\n",
    "fig = plot_per_digit_probabilities(y_pred_probs_test)"
   ]
  },
  {
   "cell_type": "markdown",
   "id": "0baf6d7d",
   "metadata": {
    "papermill": {
     "duration": 0.005749,
     "end_time": "2022-07-20T06:49:04.454017",
     "exception": false,
     "start_time": "2022-07-20T06:49:04.448268",
     "status": "completed"
    },
    "tags": []
   },
   "source": [
    "From the above distributions we see that most digits have clear separation between\n",
    "high and lower probabilities. Morover, in each case there is roughly an order of\n",
    "magnitude more of digits with low probabilities. This is compatible with digits\n",
    "being roughly evenly distributed in the data."
   ]
  },
  {
   "cell_type": "code",
   "execution_count": 13,
   "id": "69eef04d",
   "metadata": {
    "execution": {
     "iopub.execute_input": "2022-07-20T06:49:04.465098Z",
     "iopub.status.busy": "2022-07-20T06:49:04.464706Z",
     "iopub.status.idle": "2022-07-20T06:49:04.894197Z",
     "shell.execute_reply": "2022-07-20T06:49:04.893418Z"
    },
    "papermill": {
     "duration": 0.437318,
     "end_time": "2022-07-20T06:49:04.896078",
     "exception": false,
     "start_time": "2022-07-20T06:49:04.458760",
     "status": "completed"
    },
    "tags": []
   },
   "outputs": [],
   "source": [
    "logger.log_figure(\"per-digit-probabilities.png\", fig)"
   ]
  },
  {
   "cell_type": "markdown",
   "id": "5068bf13",
   "metadata": {
    "papermill": {
     "duration": 0.004832,
     "end_time": "2022-07-20T06:49:04.906298",
     "exception": false,
     "start_time": "2022-07-20T06:49:04.901466",
     "status": "completed"
    },
    "tags": []
   },
   "source": [
    "### Plot ROC curves for individual one-vs-rest classifiers"
   ]
  },
  {
   "cell_type": "code",
   "execution_count": 14,
   "id": "5fd96507",
   "metadata": {
    "execution": {
     "iopub.execute_input": "2022-07-20T06:49:04.923283Z",
     "iopub.status.busy": "2022-07-20T06:49:04.922914Z",
     "iopub.status.idle": "2022-07-20T06:49:05.321594Z",
     "shell.execute_reply": "2022-07-20T06:49:05.320798Z"
    },
    "papermill": {
     "duration": 0.411111,
     "end_time": "2022-07-20T06:49:05.323454",
     "exception": false,
     "start_time": "2022-07-20T06:49:04.912343",
     "status": "completed"
    },
    "tags": []
   },
   "outputs": [],
   "source": [
    "from sklearn import metrics"
   ]
  },
  {
   "cell_type": "code",
   "execution_count": 15,
   "id": "4cc893b3",
   "metadata": {
    "execution": {
     "iopub.execute_input": "2022-07-20T06:49:05.337125Z",
     "iopub.status.busy": "2022-07-20T06:49:05.336856Z",
     "iopub.status.idle": "2022-07-20T06:49:06.431501Z",
     "shell.execute_reply": "2022-07-20T06:49:06.430521Z"
    },
    "papermill": {
     "duration": 1.105465,
     "end_time": "2022-07-20T06:49:06.433758",
     "exception": false,
     "start_time": "2022-07-20T06:49:05.328293",
     "status": "completed"
    },
    "tags": []
   },
   "outputs": [
    {
     "data": {
      "image/png": "[encoded data removed]",
      "text/plain": [
       "<Figure size 1152x576 with 10 Axes>"
      ]
     },
     "metadata": {
      "needs_background": "light"
     },
     "output_type": "display_data"
    }
   ],
   "source": [
    "def plot_roc_curves(y, y_pred_probs):\n",
    "    # based on example code\n",
    "    # https://scikit-learn.org/stable/auto_examples/model_selection/plot_roc.html\n",
    "\n",
    "    fig, axs = plt.subplots(nrows=2, ncols=5, figsize=(16, 8))\n",
    "\n",
    "    roc_auc_dict = {}\n",
    "\n",
    "    for (r, c), digit, ax in zip(\n",
    "        it.product(range(2), range(5)), range(10), axs.reshape(-1)\n",
    "    ):\n",
    "        fpr, tpr, _ = metrics.roc_curve(y == digit, y_pred_probs[:, digit])\n",
    "        auc = metrics.auc(fpr, tpr)\n",
    "        roc_auc_dict[str(digit)] = auc\n",
    "\n",
    "        ax.plot(fpr, tpr, label=f\"ROC AUC={round(auc, 3)}\")\n",
    "\n",
    "        ax.set_title(f\"\\nDigit {digit}\", fontsize=16)\n",
    "        if r == 1:\n",
    "            ax.set_xlabel(\"FPR\", fontsize=18)\n",
    "\n",
    "        if c == 0:\n",
    "            ax.set_ylabel(\"TPR\", fontsize=18)\n",
    "\n",
    "        ax.set_xlim([-0.05, 1.05])\n",
    "        ax.set_ylim([-0.05, 1.05])\n",
    "        ax.legend(loc=\"lower right\", frameon=False, fontsize=14)\n",
    "\n",
    "    fig.tight_layout()\n",
    "    fig.suptitle(\n",
    "        f\"ROC plots for one-vs-rest performances \"\n",
    "        f\"(on evaluation data, n={y_pred_probs_test.shape[1]}\",\n",
    "        fontsize=22,\n",
    "    )\n",
    "    fig.tight_layout()\n",
    "    fig.show()\n",
    "\n",
    "    return roc_auc_dict, fig\n",
    "\n",
    "\n",
    "roc_auc_dict, fig = plot_roc_curves(y_test, y_pred_probs_test)"
   ]
  },
  {
   "cell_type": "code",
   "execution_count": 16,
   "id": "326d44d8",
   "metadata": {
    "execution": {
     "iopub.execute_input": "2022-07-20T06:49:06.447327Z",
     "iopub.status.busy": "2022-07-20T06:49:06.446979Z",
     "iopub.status.idle": "2022-07-20T06:49:06.679673Z",
     "shell.execute_reply": "2022-07-20T06:49:06.678862Z"
    },
    "papermill": {
     "duration": 0.241799,
     "end_time": "2022-07-20T06:49:06.681740",
     "exception": false,
     "start_time": "2022-07-20T06:49:06.439941",
     "status": "completed"
    },
    "tags": []
   },
   "outputs": [],
   "source": [
    "logger.log_figure(\"per-digit-roc-curves.png\", fig)"
   ]
  },
  {
   "cell_type": "code",
   "execution_count": 17,
   "id": "4f950a55",
   "metadata": {
    "execution": {
     "iopub.execute_input": "2022-07-20T06:49:06.695195Z",
     "iopub.status.busy": "2022-07-20T06:49:06.694613Z",
     "iopub.status.idle": "2022-07-20T06:49:06.699704Z",
     "shell.execute_reply": "2022-07-20T06:49:06.699004Z"
    },
    "papermill": {
     "duration": 0.014903,
     "end_time": "2022-07-20T06:49:06.702664",
     "exception": false,
     "start_time": "2022-07-20T06:49:06.687761",
     "status": "completed"
    },
    "tags": []
   },
   "outputs": [
    {
     "data": {
      "text/plain": [
       "{'0': 1.0,\n",
       " '1': 0.9987628865979382,\n",
       " '2': 1.0,\n",
       " '3': 0.9998125585754452,\n",
       " '4': 0.9994665447340345,\n",
       " '5': 0.9991002811621369,\n",
       " '6': 0.999961896052431,\n",
       " '7': 0.9998856881572931,\n",
       " '8': 0.9929066834804541,\n",
       " '9': 0.9993903368388964}"
      ]
     },
     "execution_count": 17,
     "metadata": {},
     "output_type": "execute_result"
    }
   ],
   "source": [
    "roc_auc_dict"
   ]
  },
  {
   "cell_type": "code",
   "execution_count": 18,
   "id": "94ad5968",
   "metadata": {
    "execution": {
     "iopub.execute_input": "2022-07-20T06:49:06.715481Z",
     "iopub.status.busy": "2022-07-20T06:49:06.714901Z",
     "iopub.status.idle": "2022-07-20T06:49:06.719801Z",
     "shell.execute_reply": "2022-07-20T06:49:06.718706Z"
    },
    "papermill": {
     "duration": 0.014095,
     "end_time": "2022-07-20T06:49:06.722454",
     "exception": false,
     "start_time": "2022-07-20T06:49:06.708359",
     "status": "completed"
    },
    "tags": []
   },
   "outputs": [
    {
     "name": "stdout",
     "output_type": "stream",
     "text": [
      " - Logging roc_auc_per_digit (json) : {'0': 1.0, '1': 0.9987628865979382, '2': 1.0, '3': 0.9998125585754452, '4': 0.9994665447340345, '5': 0.9991002811621369, '6': 0.999961896052431, '7': 0.9998856881572931, '8': 0.9929066834804541, '9': 0.9993903368388964}\n"
     ]
    }
   ],
   "source": [
    "logger.log_value(\"roc_auc_per_digit\", roc_auc_dict)"
   ]
  },
  {
   "cell_type": "markdown",
   "id": "b6036615",
   "metadata": {
    "papermill": {
     "duration": 0.00596,
     "end_time": "2022-07-20T06:49:06.734022",
     "exception": false,
     "start_time": "2022-07-20T06:49:06.728062",
     "status": "completed"
    },
    "tags": []
   },
   "source": [
    "### Compute and log mean ROC AUC score averaged over all digits"
   ]
  },
  {
   "cell_type": "code",
   "execution_count": 19,
   "id": "5c5c2714",
   "metadata": {
    "execution": {
     "iopub.execute_input": "2022-07-20T06:49:06.747333Z",
     "iopub.status.busy": "2022-07-20T06:49:06.746980Z",
     "iopub.status.idle": "2022-07-20T06:49:06.760795Z",
     "shell.execute_reply": "2022-07-20T06:49:06.759814Z"
    },
    "papermill": {
     "duration": 0.02213,
     "end_time": "2022-07-20T06:49:06.762415",
     "exception": false,
     "start_time": "2022-07-20T06:49:06.740285",
     "status": "completed"
    },
    "tags": []
   },
   "outputs": [
    {
     "name": "stdout",
     "output_type": "stream",
     "text": [
      " - Logging roc_auc_class_mean (float) : 0.998928687559863\n"
     ]
    }
   ],
   "source": [
    "roc_auc_macro = np.mean(list(roc_auc_dict.values()))\n",
    "\n",
    "logger.log_float(\"roc_auc_class_mean\", roc_auc_macro)\n",
    "\n",
    "# assert that the same value can be computed directly using sklearn\n",
    "assert roc_auc_macro == metrics.roc_auc_score(\n",
    "    y_test, y_pred_probs_test, average=\"macro\", multi_class=\"ovr\"\n",
    ")"
   ]
  },
  {
   "cell_type": "code",
   "execution_count": 20,
   "id": "6745fd05",
   "metadata": {
    "execution": {
     "iopub.execute_input": "2022-07-20T06:49:06.780533Z",
     "iopub.status.busy": "2022-07-20T06:49:06.780194Z",
     "iopub.status.idle": "2022-07-20T06:49:06.785021Z",
     "shell.execute_reply": "2022-07-20T06:49:06.784310Z"
    },
    "lines_to_next_cell": 0,
    "papermill": {
     "duration": 0.013644,
     "end_time": "2022-07-20T06:49:06.787104",
     "exception": false,
     "start_time": "2022-07-20T06:49:06.773460",
     "status": "completed"
    },
    "tags": []
   },
   "outputs": [],
   "source": [
    "# ---"
   ]
  },
  {
   "cell_type": "code",
   "execution_count": null,
   "id": "11f58a09",
   "metadata": {
    "papermill": {
     "duration": 0.005864,
     "end_time": "2022-07-20T06:49:06.799343",
     "exception": false,
     "start_time": "2022-07-20T06:49:06.793479",
     "status": "completed"
    },
    "tags": []
   },
   "outputs": [],
   "source": []
  }
 ],
 "metadata": {
  "jupytext": {
   "cell_metadata_filter": "tags,-all",
   "main_language": "python",
   "notebook_metadata_filter": "-all"
  },
  "language_info": {
   "codemirror_mode": {
    "name": "ipython",
    "version": 3
   },
   "file_extension": ".py",
   "mimetype": "text/x-python",
   "name": "python",
   "nbconvert_exporter": "python",
   "pygments_lexer": "ipython3",
   "version": "3.8.10"
  },
  "papermill": {
   "default_parameters": {},
   "duration": 9.542297,
   "end_time": "2022-07-20T06:49:07.925514",
   "environment_variables": {},
   "exception": null,
   "input_path": "/home/host_user/workspace/mnist-demo-pipeline/mnist-demo-pipeline/notebooks/temp-notebook-_1ld3w3q.ipynb",
   "output_path": "notebooks/benchmark-model.ipynb",
   "parameters": {
    "P": {
     "_opentelemetry_traceparent": "00-bf0e54157d24123a8dfdaf7635805574-96257b21a0c044b3-01",
     "pipeline.data_lake_root": "/pipeline-outputs/data-lake",
     "pipeline.github.actor": "matiasdahl",
     "pipeline.github.base_ref": "",
     "pipeline.github.event_name": "schedule",
     "pipeline.github.head_ref": "",
     "pipeline.github.job": "run-tests-pipeline-and-persist-pipeline-outputs",
     "pipeline.github.ref": "refs/heads/development",
     "pipeline.github.ref_name": "development",
     "pipeline.github.ref_type": "branch",
     "pipeline.github.repository": "pynb-dag-runner/mnist-digits-demo-pipeline",
     "pipeline.github.run_id": "2702768688",
     "pipeline.github.runner_name": "Hosted Agent",
     "pipeline.github.sha": "5a6f90a9473b3095841d5b5dc7b58f5f049a0f71",
     "pipeline.github.workflow": "Run automated tests, pipeline and deploy results to static reporting site",
     "pipeline.pipeline_run_id": "9b8eb2de-e507-4056-840d-1f7140a936d7",
     "pipeline.run_environment": "ci",
     "run.retry_nr": "0",
     "task.max_nr_retries": "1",
     "task.notebook": "notebooks/benchmark-model.py",
     "task.nr_train_images": 800,
     "task.num_cpus": 1,
     "task.timeout_s": "None"
    }
   },
   "start_time": "2022-07-20T06:48:58.383217",
   "version": "2.3.3"
  }
 },
 "nbformat": 4,
 "nbformat_minor": 5
}