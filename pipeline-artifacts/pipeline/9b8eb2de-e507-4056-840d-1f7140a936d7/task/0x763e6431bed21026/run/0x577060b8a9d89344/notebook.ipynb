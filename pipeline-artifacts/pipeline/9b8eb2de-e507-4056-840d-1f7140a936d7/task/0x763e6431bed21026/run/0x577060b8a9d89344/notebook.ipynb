{
 "cells": [
  {
   "cell_type": "markdown",
   "id": "20f0d7b6",
   "metadata": {
    "papermill": {
     "duration": 0.004898,
     "end_time": "2022-07-20T06:48:42.490422",
     "exception": false,
     "start_time": "2022-07-20T06:48:42.485524",
     "status": "completed"
    },
    "tags": []
   },
   "source": [
    "# Train model\n",
    "\n",
    "The purpose of this notebook is:\n",
    "\n",
    "- Load all training data (images and labels).\n",
    "- Limit number of train images to `task.nr_train_images` (value provided as run parameter).\n",
    "- Train a support vector machine model using sklearn.\n",
    "- Persist the trained model using the ONNX format."
   ]
  },
  {
   "cell_type": "markdown",
   "id": "9d05ccf2",
   "metadata": {
    "papermill": {
     "duration": 0.002716,
     "end_time": "2022-07-20T06:48:42.496347",
     "exception": false,
     "start_time": "2022-07-20T06:48:42.493631",
     "status": "completed"
    },
    "tags": []
   },
   "source": [
    "### Determine run parameters"
   ]
  },
  {
   "cell_type": "code",
   "execution_count": 1,
   "id": "f694b9e8",
   "metadata": {
    "execution": {
     "iopub.execute_input": "2022-07-20T06:48:42.504777Z",
     "iopub.status.busy": "2022-07-20T06:48:42.503912Z",
     "iopub.status.idle": "2022-07-20T06:48:42.512720Z",
     "shell.execute_reply": "2022-07-20T06:48:42.511951Z"
    },
    "lines_to_next_cell": 0,
    "papermill": {
     "duration": 0.016244,
     "end_time": "2022-07-20T06:48:42.515297",
     "exception": false,
     "start_time": "2022-07-20T06:48:42.499053",
     "status": "completed"
    },
    "tags": []
   },
   "outputs": [],
   "source": [
    "# ----------------- Parameters for interactive development --------------\n",
    "P = {\n",
    "    \"pipeline.data_lake_root\": \"/pipeline-outputs/data-lake\",\n",
    "    \"task.nr_train_images\": 600,\n",
    "}"
   ]
  },
  {
   "cell_type": "code",
   "execution_count": 2,
   "id": "2504cb23",
   "metadata": {
    "execution": {
     "iopub.execute_input": "2022-07-20T06:48:42.525057Z",
     "iopub.status.busy": "2022-07-20T06:48:42.524843Z",
     "iopub.status.idle": "2022-07-20T06:48:42.527793Z",
     "shell.execute_reply": "2022-07-20T06:48:42.527268Z"
    },
    "lines_to_next_cell": 0,
    "papermill": {
     "duration": 0.013132,
     "end_time": "2022-07-20T06:48:42.531411",
     "exception": false,
     "start_time": "2022-07-20T06:48:42.518279",
     "status": "completed"
    },
    "tags": [
     "parameters"
    ]
   },
   "outputs": [],
   "source": [
    "# - During automated runs parameters will be injected in the below cell -"
   ]
  },
  {
   "cell_type": "code",
   "execution_count": 3,
   "id": "53ed8df2",
   "metadata": {
    "execution": {
     "iopub.execute_input": "2022-07-20T06:48:42.538019Z",
     "iopub.status.busy": "2022-07-20T06:48:42.537809Z",
     "iopub.status.idle": "2022-07-20T06:48:42.543037Z",
     "shell.execute_reply": "2022-07-20T06:48:42.542533Z"
    },
    "papermill": {
     "duration": 0.011248,
     "end_time": "2022-07-20T06:48:42.545382",
     "exception": false,
     "start_time": "2022-07-20T06:48:42.534134",
     "status": "completed"
    },
    "tags": [
     "injected-parameters"
    ]
   },
   "outputs": [],
   "source": [
    "# Parameters\n",
    "P = {\n",
    "    \"pipeline.data_lake_root\": \"/pipeline-outputs/data-lake\",\n",
    "    \"pipeline.run_environment\": \"ci\",\n",
    "    \"pipeline.pipeline_run_id\": \"9b8eb2de-e507-4056-840d-1f7140a936d7\",\n",
    "    \"pipeline.github.repository\": \"pynb-dag-runner/mnist-digits-demo-pipeline\",\n",
    "    \"pipeline.github.workflow\": \"Run automated tests, pipeline and deploy results to static reporting site\",\n",
    "    \"pipeline.github.runner_name\": \"Hosted Agent\",\n",
    "    \"pipeline.github.run_id\": \"2702768688\",\n",
    "    \"pipeline.github.actor\": \"matiasdahl\",\n",
    "    \"pipeline.github.job\": \"run-tests-pipeline-and-persist-pipeline-outputs\",\n",
    "    \"pipeline.github.base_ref\": \"\",\n",
    "    \"pipeline.github.head_ref\": \"\",\n",
    "    \"pipeline.github.sha\": \"5a6f90a9473b3095841d5b5dc7b58f5f049a0f71\",\n",
    "    \"pipeline.github.ref\": \"refs/heads/development\",\n",
    "    \"pipeline.github.ref_type\": \"branch\",\n",
    "    \"pipeline.github.ref_name\": \"development\",\n",
    "    \"pipeline.github.event_name\": \"schedule\",\n",
    "    \"task.nr_train_images\": 800,\n",
    "    \"task.notebook\": \"notebooks/train-model.py\",\n",
    "    \"task.max_nr_retries\": \"1\",\n",
    "    \"run.retry_nr\": \"0\",\n",
    "    \"task.timeout_s\": \"None\",\n",
    "    \"task.num_cpus\": 1,\n",
    "    \"_opentelemetry_traceparent\": \"00-bf0e54157d24123a8dfdaf7635805574-bde48ae9363c976b-01\",\n",
    "}\n"
   ]
  },
  {
   "cell_type": "code",
   "execution_count": 4,
   "id": "8238b8c6",
   "metadata": {
    "execution": {
     "iopub.execute_input": "2022-07-20T06:48:42.552907Z",
     "iopub.status.busy": "2022-07-20T06:48:42.552705Z",
     "iopub.status.idle": "2022-07-20T06:48:42.555367Z",
     "shell.execute_reply": "2022-07-20T06:48:42.554833Z"
    },
    "lines_to_next_cell": 0,
    "papermill": {
     "duration": 0.009612,
     "end_time": "2022-07-20T06:48:42.557934",
     "exception": false,
     "start_time": "2022-07-20T06:48:42.548322",
     "status": "completed"
    },
    "tags": []
   },
   "outputs": [],
   "source": [
    "# -----------------------------------------------------------------------"
   ]
  },
  {
   "cell_type": "markdown",
   "id": "de7c3615",
   "metadata": {
    "papermill": {
     "duration": 0.00296,
     "end_time": "2022-07-20T06:48:42.564290",
     "exception": false,
     "start_time": "2022-07-20T06:48:42.561330",
     "status": "completed"
    },
    "tags": []
   },
   "source": [
    "---"
   ]
  },
  {
   "cell_type": "markdown",
   "id": "fc18f811",
   "metadata": {
    "lines_to_next_cell": 2,
    "papermill": {
     "duration": 0.003058,
     "end_time": "2022-07-20T06:48:42.570172",
     "exception": false,
     "start_time": "2022-07-20T06:48:42.567114",
     "status": "completed"
    },
    "tags": []
   },
   "source": [
    "### Notebook code"
   ]
  },
  {
   "cell_type": "code",
   "execution_count": 5,
   "id": "ac5a2b7e",
   "metadata": {
    "execution": {
     "iopub.execute_input": "2022-07-20T06:48:42.583893Z",
     "iopub.status.busy": "2022-07-20T06:48:42.583661Z",
     "iopub.status.idle": "2022-07-20T06:48:43.098332Z",
     "shell.execute_reply": "2022-07-20T06:48:43.096404Z"
    },
    "papermill": {
     "duration": 0.526334,
     "end_time": "2022-07-20T06:48:43.100369",
     "exception": false,
     "start_time": "2022-07-20T06:48:42.574035",
     "status": "completed"
    },
    "tags": []
   },
   "outputs": [
    {
     "name": "stderr",
     "output_type": "stream",
     "text": [
      "2022-07-20 06:48:42,931\tINFO worker.py:842 -- Connecting to existing Ray cluster at address: 172.17.0.2:6379\n"
     ]
    }
   ],
   "source": [
    "from pynb_dag_runner.tasks.task_opentelemetry_logging import PydarLogger\n",
    "\n",
    "logger = PydarLogger(P)"
   ]
  },
  {
   "cell_type": "markdown",
   "id": "bf855333",
   "metadata": {
    "papermill": {
     "duration": 0.003034,
     "end_time": "2022-07-20T06:48:43.106988",
     "exception": false,
     "start_time": "2022-07-20T06:48:43.103954",
     "status": "completed"
    },
    "tags": []
   },
   "source": [
    "## Load and limit train data"
   ]
  },
  {
   "cell_type": "code",
   "execution_count": 6,
   "id": "0f787b23",
   "metadata": {
    "execution": {
     "iopub.execute_input": "2022-07-20T06:48:43.114281Z",
     "iopub.status.busy": "2022-07-20T06:48:43.113791Z",
     "iopub.status.idle": "2022-07-20T06:48:43.492542Z",
     "shell.execute_reply": "2022-07-20T06:48:43.491736Z"
    },
    "papermill": {
     "duration": 0.384722,
     "end_time": "2022-07-20T06:48:43.494717",
     "exception": false,
     "start_time": "2022-07-20T06:48:43.109995",
     "status": "completed"
    },
    "tags": []
   },
   "outputs": [],
   "source": [
    "def load_and_limit_train_data(P):\n",
    "    from common.io import datalake_root, read_numpy\n",
    "    from sklearn.model_selection import train_test_split\n",
    "\n",
    "    X_train_all = read_numpy(datalake_root(P) / \"train-data\" / \"digits.numpy\")\n",
    "    y_train_all = read_numpy(datalake_root(P) / \"train-data\" / \"labels.numpy\")\n",
    "\n",
    "    assert isinstance(P[\"task.nr_train_images\"], int)\n",
    "\n",
    "    # Note: train_test_split will fail if split is 0 or 100%.\n",
    "    assert 0 < P[\"task.nr_train_images\"] < len(y_train_all)\n",
    "\n",
    "    X_train, _, y_train, _ = train_test_split(\n",
    "        X_train_all,\n",
    "        y_train_all,\n",
    "        train_size=P[\"task.nr_train_images\"],\n",
    "        test_size=None,\n",
    "        stratify=y_train_all,\n",
    "        shuffle=True,\n",
    "        random_state=123,\n",
    "    )\n",
    "\n",
    "    assert X_train.shape == (len(y_train), 8 * 8)\n",
    "    return X_train, y_train\n",
    "\n",
    "\n",
    "X_train, y_train = load_and_limit_train_data(P)"
   ]
  },
  {
   "cell_type": "markdown",
   "id": "80ceabc3",
   "metadata": {
    "papermill": {
     "duration": 0.005117,
     "end_time": "2022-07-20T06:48:43.504519",
     "exception": false,
     "start_time": "2022-07-20T06:48:43.499402",
     "status": "completed"
    },
    "tags": []
   },
   "source": [
    "## Train support vector classifier model\n",
    "\n",
    "Below we assume that the hyperparameter $C$ is known.\n",
    "\n",
    "However, this should ideally be found by a hyperparameter search. That could be\n",
    "done in parallel on the Ray cluster, but this needs some more work. Ie., to use\n",
    "multiple cores in the notebook, those cores should be reserved when starting the\n",
    "notebook task (TODO).\n",
    "\n",
    "- https://docs.ray.io/en/latest/tune/key-concepts.html\n",
    "\n",
    "Note: cv-scores would need to be computed here, since they depend on the train data.\n",
    "After this notebook only the onnx-model is available."
   ]
  },
  {
   "cell_type": "code",
   "execution_count": 7,
   "id": "02399faa",
   "metadata": {
    "execution": {
     "iopub.execute_input": "2022-07-20T06:48:43.511958Z",
     "iopub.status.busy": "2022-07-20T06:48:43.511578Z",
     "iopub.status.idle": "2022-07-20T06:48:43.532319Z",
     "shell.execute_reply": "2022-07-20T06:48:43.531663Z"
    },
    "papermill": {
     "duration": 0.026372,
     "end_time": "2022-07-20T06:48:43.533987",
     "exception": false,
     "start_time": "2022-07-20T06:48:43.507615",
     "status": "completed"
    },
    "tags": []
   },
   "outputs": [],
   "source": [
    "from sklearn.svm import SVC"
   ]
  },
  {
   "cell_type": "code",
   "execution_count": 8,
   "id": "6a751700",
   "metadata": {
    "execution": {
     "iopub.execute_input": "2022-07-20T06:48:43.541165Z",
     "iopub.status.busy": "2022-07-20T06:48:43.540940Z",
     "iopub.status.idle": "2022-07-20T06:48:43.658275Z",
     "shell.execute_reply": "2022-07-20T06:48:43.657522Z"
    },
    "papermill": {
     "duration": 0.122848,
     "end_time": "2022-07-20T06:48:43.659881",
     "exception": false,
     "start_time": "2022-07-20T06:48:43.537033",
     "status": "completed"
    },
    "tags": []
   },
   "outputs": [
    {
     "data": {
      "text/plain": [
       "SVC(C=0.001, kernel='linear', probability=True)"
      ]
     },
     "execution_count": 8,
     "metadata": {},
     "output_type": "execute_result"
    }
   ],
   "source": [
    "model = SVC(C=0.001, kernel=\"linear\", probability=True)\n",
    "\n",
    "model.fit(X_train, y_train)"
   ]
  },
  {
   "cell_type": "markdown",
   "id": "9259a7a9",
   "metadata": {
    "papermill": {
     "duration": 0.00381,
     "end_time": "2022-07-20T06:48:43.667086",
     "exception": false,
     "start_time": "2022-07-20T06:48:43.663276",
     "status": "completed"
    },
    "tags": []
   },
   "source": [
    "### Q: Can the labels returned by `predict(..)` be computed from probabilities returned by the `predict_prob`-method?"
   ]
  },
  {
   "cell_type": "code",
   "execution_count": 9,
   "id": "a387f544",
   "metadata": {
    "execution": {
     "iopub.execute_input": "2022-07-20T06:48:43.675302Z",
     "iopub.status.busy": "2022-07-20T06:48:43.675050Z",
     "iopub.status.idle": "2022-07-20T06:48:43.729263Z",
     "shell.execute_reply": "2022-07-20T06:48:43.728100Z"
    },
    "papermill": {
     "duration": 0.060381,
     "end_time": "2022-07-20T06:48:43.730961",
     "exception": false,
     "start_time": "2022-07-20T06:48:43.670580",
     "status": "completed"
    },
    "tags": []
   },
   "outputs": [
    {
     "name": "stdout",
     "output_type": "stream",
     "text": [
      " - Logging nr_max_prob_neq_label (int) : 2\n"
     ]
    }
   ],
   "source": [
    "import numpy as np\n",
    "\n",
    "y_train_labels = model.predict(X_train)\n",
    "y_train_probabilities = model.predict_proba(X_train)\n",
    "assert y_train_probabilities.shape == (len(y_train), 10)\n",
    "\n",
    "y_train_max_prob_labels = np.argmax(y_train_probabilities, axis=1)\n",
    "assert y_train_labels.shape == y_train_max_prob_labels.shape == y_train.shape\n",
    "\n",
    "# If the predicted labels would coincide with the labels that have\n",
    "# maximum probability, the below number would be zero\n",
    "logger.log_int(\n",
    "    \"nr_max_prob_neq_label\", int(sum(y_train_max_prob_labels != y_train_labels))\n",
    ")"
   ]
  },
  {
   "cell_type": "markdown",
   "id": "023cefb2",
   "metadata": {
    "papermill": {
     "duration": 0.003477,
     "end_time": "2022-07-20T06:48:43.738026",
     "exception": false,
     "start_time": "2022-07-20T06:48:43.734549",
     "status": "completed"
    },
    "tags": []
   },
   "source": [
    "The explanation is (likely) explained in the SVC source, see\n",
    "[here](https://github.com/scikit-learn/scikit-learn/blob/main/sklearn/svm/_base.py).\n",
    "Namely, the outputs from `predict(..)` and `predict_proba(..)` may not in some\n",
    "cases be compatible since the latter is computed using cross-validation while\n",
    "the former is not. Thus, the above number need not be zero."
   ]
  },
  {
   "cell_type": "markdown",
   "id": "301edd7b",
   "metadata": {
    "papermill": {
     "duration": 0.003216,
     "end_time": "2022-07-20T06:48:43.744548",
     "exception": false,
     "start_time": "2022-07-20T06:48:43.741332",
     "status": "completed"
    },
    "tags": []
   },
   "source": [
    "## Persist model"
   ]
  },
  {
   "cell_type": "code",
   "execution_count": 10,
   "id": "c6eaf939",
   "metadata": {
    "execution": {
     "iopub.execute_input": "2022-07-20T06:48:43.752709Z",
     "iopub.status.busy": "2022-07-20T06:48:43.752435Z",
     "iopub.status.idle": "2022-07-20T06:48:44.517712Z",
     "shell.execute_reply": "2022-07-20T06:48:44.517020Z"
    },
    "papermill": {
     "duration": 0.771817,
     "end_time": "2022-07-20T06:48:44.519736",
     "exception": false,
     "start_time": "2022-07-20T06:48:43.747919",
     "status": "completed"
    },
    "tags": []
   },
   "outputs": [],
   "source": [
    "from skl2onnx import convert_sklearn\n",
    "from skl2onnx.common.data_types import FloatTensorType\n",
    "\n",
    "#\n",
    "from common.io import datalake_root, write_onnx"
   ]
  },
  {
   "cell_type": "code",
   "execution_count": 11,
   "id": "c8b6693b",
   "metadata": {
    "execution": {
     "iopub.execute_input": "2022-07-20T06:48:44.528387Z",
     "iopub.status.busy": "2022-07-20T06:48:44.527913Z",
     "iopub.status.idle": "2022-07-20T06:48:44.572563Z",
     "shell.execute_reply": "2022-07-20T06:48:44.572013Z"
    },
    "papermill": {
     "duration": 0.051063,
     "end_time": "2022-07-20T06:48:44.574367",
     "exception": false,
     "start_time": "2022-07-20T06:48:44.523304",
     "status": "completed"
    },
    "tags": []
   },
   "outputs": [],
   "source": [
    "# convert sklearn model into onnx and persist to data lake\n",
    "\n",
    "model_onnx = convert_sklearn(\n",
    "    model, initial_types=[(\"float_input_8x8_image\", FloatTensorType([None, 8 * 8]))]\n",
    ")\n",
    "write_onnx(\n",
    "    datalake_root(P)\n",
    "    / \"models\"\n",
    "    / f\"nr_train_images={P['task.nr_train_images']}\"\n",
    "    / \"model.onnx\",\n",
    "    model_onnx,\n",
    ")"
   ]
  },
  {
   "cell_type": "code",
   "execution_count": null,
   "id": "a52eb40b",
   "metadata": {
    "papermill": {
     "duration": 0.004056,
     "end_time": "2022-07-20T06:48:44.582026",
     "exception": false,
     "start_time": "2022-07-20T06:48:44.577970",
     "status": "completed"
    },
    "tags": []
   },
   "outputs": [],
   "source": []
  }
 ],
 "metadata": {
  "jupytext": {
   "cell_metadata_filter": "tags,-all",
   "main_language": "python",
   "notebook_metadata_filter": "-all"
  },
  "language_info": {
   "codemirror_mode": {
    "name": "ipython",
    "version": 3
   },
   "file_extension": ".py",
   "mimetype": "text/x-python",
   "name": "python",
   "nbconvert_exporter": "python",
   "pygments_lexer": "ipython3",
   "version": "3.8.10"
  },
  "papermill": {
   "default_parameters": {},
   "duration": 4.49343,
   "end_time": "2022-07-20T06:48:45.709240",
   "environment_variables": {},
   "exception": null,
   "input_path": "/home/host_user/workspace/mnist-demo-pipeline/mnist-demo-pipeline/notebooks/temp-notebook-ljknbw4s.ipynb",
   "output_path": "notebooks/train-model.ipynb",
   "parameters": {
    "P": {
     "_opentelemetry_traceparent": "00-bf0e54157d24123a8dfdaf7635805574-bde48ae9363c976b-01",
     "pipeline.data_lake_root": "/pipeline-outputs/data-lake",
     "pipeline.github.actor": "matiasdahl",
     "pipeline.github.base_ref": "",
     "pipeline.github.event_name": "schedule",
     "pipeline.github.head_ref": "",
     "pipeline.github.job": "run-tests-pipeline-and-persist-pipeline-outputs",
     "pipeline.github.ref": "refs/heads/development",
     "pipeline.github.ref_name": "development",
     "pipeline.github.ref_type": "branch",
     "pipeline.github.repository": "pynb-dag-runner/mnist-digits-demo-pipeline",
     "pipeline.github.run_id": "2702768688",
     "pipeline.github.runner_name": "Hosted Agent",
     "pipeline.github.sha": "5a6f90a9473b3095841d5b5dc7b58f5f049a0f71",
     "pipeline.github.workflow": "Run automated tests, pipeline and deploy results to static reporting site",
     "pipeline.pipeline_run_id": "9b8eb2de-e507-4056-840d-1f7140a936d7",
     "pipeline.run_environment": "ci",
     "run.retry_nr": "0",
     "task.max_nr_retries": "1",
     "task.notebook": "notebooks/train-model.py",
     "task.nr_train_images": 800,
     "task.num_cpus": 1,
     "task.timeout_s": "None"
    }
   },
   "start_time": "2022-07-20T06:48:41.215810",
   "version": "2.3.3"
  }
 },
 "nbformat": 4,
 "nbformat_minor": 5
}