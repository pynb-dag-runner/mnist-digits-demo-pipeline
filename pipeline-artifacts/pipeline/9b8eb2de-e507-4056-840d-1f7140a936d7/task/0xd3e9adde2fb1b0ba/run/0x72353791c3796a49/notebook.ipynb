{
 "cells": [
  {
   "cell_type": "markdown",
   "id": "6520ed07",
   "metadata": {
    "papermill": {
     "duration": 0.005846,
     "end_time": "2022-07-20T06:48:53.030790",
     "exception": false,
     "start_time": "2022-07-20T06:48:53.024944",
     "status": "completed"
    },
    "tags": []
   },
   "source": [
    "# Benchmark model\n",
    "\n",
    "The purpose of this notebook is to benchmark persisted onnx-model (trained in the\n",
    "previous step) against evaluation set."
   ]
  },
  {
   "cell_type": "markdown",
   "id": "3cc1af16",
   "metadata": {
    "papermill": {
     "duration": 0.004611,
     "end_time": "2022-07-20T06:48:53.040171",
     "exception": false,
     "start_time": "2022-07-20T06:48:53.035560",
     "status": "completed"
    },
    "tags": []
   },
   "source": [
    "### Determine run parameters"
   ]
  },
  {
   "cell_type": "code",
   "execution_count": 1,
   "id": "a5d0e6d2",
   "metadata": {
    "execution": {
     "iopub.execute_input": "2022-07-20T06:48:53.050417Z",
     "iopub.status.busy": "2022-07-20T06:48:53.050103Z",
     "iopub.status.idle": "2022-07-20T06:48:53.058342Z",
     "shell.execute_reply": "2022-07-20T06:48:53.057235Z"
    },
    "lines_to_next_cell": 0,
    "papermill": {
     "duration": 0.016967,
     "end_time": "2022-07-20T06:48:53.061339",
     "exception": false,
     "start_time": "2022-07-20T06:48:53.044372",
     "status": "completed"
    },
    "tags": []
   },
   "outputs": [],
   "source": [
    "# ----------------- Parameters for interactive development --------------\n",
    "P = {\n",
    "    \"pipeline.data_lake_root\": \"/pipeline-outputs/data-lake\",\n",
    "    \"task.nr_train_images\": 600,\n",
    "}"
   ]
  },
  {
   "cell_type": "code",
   "execution_count": 2,
   "id": "73ddc804",
   "metadata": {
    "execution": {
     "iopub.execute_input": "2022-07-20T06:48:53.071195Z",
     "iopub.status.busy": "2022-07-20T06:48:53.070982Z",
     "iopub.status.idle": "2022-07-20T06:48:53.074122Z",
     "shell.execute_reply": "2022-07-20T06:48:53.073582Z"
    },
    "lines_to_next_cell": 0,
    "papermill": {
     "duration": 0.0109,
     "end_time": "2022-07-20T06:48:53.076546",
     "exception": false,
     "start_time": "2022-07-20T06:48:53.065646",
     "status": "completed"
    },
    "tags": [
     "parameters"
    ]
   },
   "outputs": [],
   "source": [
    "# - During automated runs parameters will be injected in the below cell -"
   ]
  },
  {
   "cell_type": "code",
   "execution_count": 3,
   "id": "a33729d9",
   "metadata": {
    "execution": {
     "iopub.execute_input": "2022-07-20T06:48:53.093149Z",
     "iopub.status.busy": "2022-07-20T06:48:53.092927Z",
     "iopub.status.idle": "2022-07-20T06:48:53.097680Z",
     "shell.execute_reply": "2022-07-20T06:48:53.097068Z"
    },
    "papermill": {
     "duration": 0.014203,
     "end_time": "2022-07-20T06:48:53.100826",
     "exception": false,
     "start_time": "2022-07-20T06:48:53.086623",
     "status": "completed"
    },
    "tags": [
     "injected-parameters"
    ]
   },
   "outputs": [],
   "source": [
    "# Parameters\n",
    "P = {\n",
    "    \"pipeline.data_lake_root\": \"/pipeline-outputs/data-lake\",\n",
    "    \"pipeline.run_environment\": \"ci\",\n",
    "    \"pipeline.pipeline_run_id\": \"9b8eb2de-e507-4056-840d-1f7140a936d7\",\n",
    "    \"pipeline.github.repository\": \"pynb-dag-runner/mnist-digits-demo-pipeline\",\n",
    "    \"pipeline.github.workflow\": \"Run automated tests, pipeline and deploy results to static reporting site\",\n",
    "    \"pipeline.github.runner_name\": \"Hosted Agent\",\n",
    "    \"pipeline.github.run_id\": \"2702768688\",\n",
    "    \"pipeline.github.actor\": \"matiasdahl\",\n",
    "    \"pipeline.github.job\": \"run-tests-pipeline-and-persist-pipeline-outputs\",\n",
    "    \"pipeline.github.base_ref\": \"\",\n",
    "    \"pipeline.github.head_ref\": \"\",\n",
    "    \"pipeline.github.sha\": \"5a6f90a9473b3095841d5b5dc7b58f5f049a0f71\",\n",
    "    \"pipeline.github.ref\": \"refs/heads/development\",\n",
    "    \"pipeline.github.ref_type\": \"branch\",\n",
    "    \"pipeline.github.ref_name\": \"development\",\n",
    "    \"pipeline.github.event_name\": \"schedule\",\n",
    "    \"task.nr_train_images\": 1000,\n",
    "    \"task.notebook\": \"notebooks/benchmark-model.py\",\n",
    "    \"task.max_nr_retries\": \"1\",\n",
    "    \"run.retry_nr\": \"0\",\n",
    "    \"task.timeout_s\": \"None\",\n",
    "    \"task.num_cpus\": 1,\n",
    "    \"_opentelemetry_traceparent\": \"00-bf0e54157d24123a8dfdaf7635805574-75fe27f88cf59044-01\",\n",
    "}\n"
   ]
  },
  {
   "cell_type": "code",
   "execution_count": 4,
   "id": "4931404e",
   "metadata": {
    "execution": {
     "iopub.execute_input": "2022-07-20T06:48:53.110634Z",
     "iopub.status.busy": "2022-07-20T06:48:53.110430Z",
     "iopub.status.idle": "2022-07-20T06:48:53.113169Z",
     "shell.execute_reply": "2022-07-20T06:48:53.112503Z"
    },
    "lines_to_next_cell": 0,
    "papermill": {
     "duration": 0.01092,
     "end_time": "2022-07-20T06:48:53.115864",
     "exception": false,
     "start_time": "2022-07-20T06:48:53.104944",
     "status": "completed"
    },
    "tags": []
   },
   "outputs": [],
   "source": [
    "# -----------------------------------------------------------------------"
   ]
  },
  {
   "cell_type": "markdown",
   "id": "d77cd677",
   "metadata": {
    "papermill": {
     "duration": 0.005532,
     "end_time": "2022-07-20T06:48:53.125802",
     "exception": false,
     "start_time": "2022-07-20T06:48:53.120270",
     "status": "completed"
    },
    "tags": []
   },
   "source": [
    "---"
   ]
  },
  {
   "cell_type": "markdown",
   "id": "3e5dc0c2",
   "metadata": {
    "lines_to_next_cell": 2,
    "papermill": {
     "duration": 0.004205,
     "end_time": "2022-07-20T06:48:53.134347",
     "exception": false,
     "start_time": "2022-07-20T06:48:53.130142",
     "status": "completed"
    },
    "tags": []
   },
   "source": [
    "### Notebook code"
   ]
  },
  {
   "cell_type": "code",
   "execution_count": 5,
   "id": "6c6c1416",
   "metadata": {
    "execution": {
     "iopub.execute_input": "2022-07-20T06:48:53.144074Z",
     "iopub.status.busy": "2022-07-20T06:48:53.143843Z",
     "iopub.status.idle": "2022-07-20T06:48:54.312826Z",
     "shell.execute_reply": "2022-07-20T06:48:54.312046Z"
    },
    "papermill": {
     "duration": 1.176181,
     "end_time": "2022-07-20T06:48:54.315074",
     "exception": false,
     "start_time": "2022-07-20T06:48:53.138893",
     "status": "completed"
    },
    "tags": []
   },
   "outputs": [
    {
     "name": "stderr",
     "output_type": "stream",
     "text": [
      "2022-07-20 06:48:54,132\tINFO worker.py:842 -- Connecting to existing Ray cluster at address: 172.17.0.2:6379\n"
     ]
    }
   ],
   "source": [
    "import itertools as it\n",
    "\n",
    "#\n",
    "import numpy as np\n",
    "import matplotlib.pyplot as plt\n",
    "\n",
    "#\n",
    "from pynb_dag_runner.tasks.task_opentelemetry_logging import PydarLogger\n",
    "\n",
    "#\n",
    "from common.io import datalake_root\n",
    "\n",
    "logger = PydarLogger(P)"
   ]
  },
  {
   "cell_type": "markdown",
   "id": "d769f43e",
   "metadata": {
    "papermill": {
     "duration": 0.004962,
     "end_time": "2022-07-20T06:48:54.327948",
     "exception": false,
     "start_time": "2022-07-20T06:48:54.322986",
     "status": "completed"
    },
    "tags": []
   },
   "source": [
    "## Load persisted onnx-model and evaluation data"
   ]
  },
  {
   "cell_type": "code",
   "execution_count": 6,
   "id": "871905ac",
   "metadata": {
    "execution": {
     "iopub.execute_input": "2022-07-20T06:48:54.339029Z",
     "iopub.status.busy": "2022-07-20T06:48:54.338681Z",
     "iopub.status.idle": "2022-07-20T06:48:54.342662Z",
     "shell.execute_reply": "2022-07-20T06:48:54.341690Z"
    },
    "papermill": {
     "duration": 0.012016,
     "end_time": "2022-07-20T06:48:54.345161",
     "exception": false,
     "start_time": "2022-07-20T06:48:54.333145",
     "status": "completed"
    },
    "tags": []
   },
   "outputs": [],
   "source": [
    "from common.io import read_onnx, get_onnx_inputs, get_onnx_outputs, read_numpy"
   ]
  },
  {
   "cell_type": "code",
   "execution_count": 7,
   "id": "1cd2a5d5",
   "metadata": {
    "execution": {
     "iopub.execute_input": "2022-07-20T06:48:54.355748Z",
     "iopub.status.busy": "2022-07-20T06:48:54.355440Z",
     "iopub.status.idle": "2022-07-20T06:48:54.366919Z",
     "shell.execute_reply": "2022-07-20T06:48:54.366257Z"
    },
    "lines_to_next_cell": 0,
    "papermill": {
     "duration": 0.01909,
     "end_time": "2022-07-20T06:48:54.368652",
     "exception": false,
     "start_time": "2022-07-20T06:48:54.349562",
     "status": "completed"
    },
    "tags": []
   },
   "outputs": [],
   "source": [
    "onnx_inference_session = read_onnx(\n",
    "    datalake_root(P)\n",
    "    / \"models\"\n",
    "    / f\"nr_train_images={P['task.nr_train_images']}\"\n",
    "    / \"model.onnx\"\n",
    ")"
   ]
  },
  {
   "cell_type": "markdown",
   "id": "05c33aa6",
   "metadata": {
    "papermill": {
     "duration": 0.00425,
     "end_time": "2022-07-20T06:48:54.376888",
     "exception": false,
     "start_time": "2022-07-20T06:48:54.372638",
     "status": "completed"
    },
    "tags": []
   },
   "source": [
    "### Record structure of inputs and outputs for ONNX model\n",
    "\n",
    "(this should likely be done in training notebook)"
   ]
  },
  {
   "cell_type": "code",
   "execution_count": 8,
   "id": "84a5f517",
   "metadata": {
    "execution": {
     "iopub.execute_input": "2022-07-20T06:48:54.386188Z",
     "iopub.status.busy": "2022-07-20T06:48:54.385892Z",
     "iopub.status.idle": "2022-07-20T06:48:54.391515Z",
     "shell.execute_reply": "2022-07-20T06:48:54.390972Z"
    },
    "papermill": {
     "duration": 0.013463,
     "end_time": "2022-07-20T06:48:54.394445",
     "exception": false,
     "start_time": "2022-07-20T06:48:54.380982",
     "status": "completed"
    },
    "tags": []
   },
   "outputs": [
    {
     "name": "stdout",
     "output_type": "stream",
     "text": [
      "{\n",
      "  \"inputs\": [\n",
      "    {\n",
      "      \"name\": \"float_input_8x8_image\",\n",
      "      \"shape\": [\n",
      "        null,\n",
      "        64\n",
      "      ],\n",
      "      \"type\": \"tensor(float)\"\n",
      "    }\n",
      "  ],\n",
      "  \"outputs\": [\n",
      "    {\n",
      "      \"name\": \"output_label\",\n",
      "      \"shape\": [\n",
      "        null\n",
      "      ],\n",
      "      \"type\": \"tensor(int64)\"\n",
      "    },\n",
      "    {\n",
      "      \"name\": \"output_probability\",\n",
      "      \"shape\": [],\n",
      "      \"type\": \"seq(map(int64,tensor(float)))\"\n",
      "    }\n",
      "  ]\n",
      "}\n"
     ]
    }
   ],
   "source": [
    "import json\n",
    "\n",
    "onnx_io = json.dumps(\n",
    "    {\n",
    "        \"inputs\": get_onnx_inputs(onnx_inference_session),\n",
    "        \"outputs\": get_onnx_outputs(onnx_inference_session),\n",
    "    },\n",
    "    indent=2,\n",
    ")\n",
    "\n",
    "\n",
    "logger.log_artefact(\"onnx_io_structure.json\", onnx_io)\n",
    "print(onnx_io)"
   ]
  },
  {
   "cell_type": "markdown",
   "id": "de1a4f61",
   "metadata": {
    "papermill": {
     "duration": 0.004171,
     "end_time": "2022-07-20T06:48:54.403468",
     "exception": false,
     "start_time": "2022-07-20T06:48:54.399297",
     "status": "completed"
    },
    "tags": []
   },
   "source": [
    "### Evaluate model performance on evaluation data set"
   ]
  },
  {
   "cell_type": "code",
   "execution_count": 9,
   "id": "fd1ee719",
   "metadata": {
    "execution": {
     "iopub.execute_input": "2022-07-20T06:48:54.413149Z",
     "iopub.status.busy": "2022-07-20T06:48:54.412919Z",
     "iopub.status.idle": "2022-07-20T06:48:54.417420Z",
     "shell.execute_reply": "2022-07-20T06:48:54.416796Z"
    },
    "papermill": {
     "duration": 0.012551,
     "end_time": "2022-07-20T06:48:54.420405",
     "exception": false,
     "start_time": "2022-07-20T06:48:54.407854",
     "status": "completed"
    },
    "tags": []
   },
   "outputs": [],
   "source": [
    "# load evaluation data\n",
    "X_test = read_numpy(datalake_root(P) / \"test-data\" / \"digits.numpy\")\n",
    "y_test = read_numpy(datalake_root(P) / \"test-data\" / \"labels.numpy\")"
   ]
  },
  {
   "cell_type": "code",
   "execution_count": 10,
   "id": "e29dbfde",
   "metadata": {
    "execution": {
     "iopub.execute_input": "2022-07-20T06:48:54.431159Z",
     "iopub.status.busy": "2022-07-20T06:48:54.430927Z",
     "iopub.status.idle": "2022-07-20T06:48:54.444846Z",
     "shell.execute_reply": "2022-07-20T06:48:54.444258Z"
    },
    "papermill": {
     "duration": 0.021322,
     "end_time": "2022-07-20T06:48:54.446727",
     "exception": false,
     "start_time": "2022-07-20T06:48:54.425405",
     "status": "completed"
    },
    "tags": []
   },
   "outputs": [],
   "source": [
    "def get_model_outputs(X, onnx_inference_session):\n",
    "    y_pred_labels, y_pred_map = onnx_inference_session.run(\n",
    "        [\"output_label\", \"output_probability\"],\n",
    "        {\"float_input_8x8_image\": X.astype(np.float32)},\n",
    "    )\n",
    "    y_pred_probs = np.array(\n",
    "        [[probabilities[digit] for digit in range(10)] for probabilities in y_pred_map]\n",
    "    )\n",
    "\n",
    "    assert y_pred_labels.shape == (X.shape[0],)\n",
    "    assert y_pred_probs.shape == (X.shape[0], 10)\n",
    "\n",
    "    return y_pred_labels, y_pred_probs\n",
    "\n",
    "\n",
    "# Note: as shown in the training notebook, the predicted labels and probabilities\n",
    "# computed below need not be compatible.\n",
    "y_pred_labels_test, y_pred_probs_test = get_model_outputs(\n",
    "    X_test, onnx_inference_session\n",
    ")"
   ]
  },
  {
   "cell_type": "markdown",
   "id": "0164c192",
   "metadata": {
    "papermill": {
     "duration": 0.004307,
     "end_time": "2022-07-20T06:48:54.455560",
     "exception": false,
     "start_time": "2022-07-20T06:48:54.451253",
     "status": "completed"
    },
    "tags": []
   },
   "source": [
    "### Confusion matrix"
   ]
  },
  {
   "cell_type": "code",
   "execution_count": 11,
   "id": "3d2ceae7",
   "metadata": {
    "execution": {
     "iopub.execute_input": "2022-07-20T06:48:54.465035Z",
     "iopub.status.busy": "2022-07-20T06:48:54.464804Z",
     "iopub.status.idle": "2022-07-20T06:48:54.467819Z",
     "shell.execute_reply": "2022-07-20T06:48:54.467231Z"
    },
    "papermill": {
     "duration": 0.01115,
     "end_time": "2022-07-20T06:48:54.471118",
     "exception": false,
     "start_time": "2022-07-20T06:48:54.459968",
     "status": "completed"
    },
    "tags": []
   },
   "outputs": [],
   "source": [
    "# TODO"
   ]
  },
  {
   "cell_type": "markdown",
   "id": "47ec60e0",
   "metadata": {
    "papermill": {
     "duration": 0.004434,
     "end_time": "2022-07-20T06:48:54.479778",
     "exception": false,
     "start_time": "2022-07-20T06:48:54.475344",
     "status": "completed"
    },
    "tags": []
   },
   "source": [
    "### Plot predicted probabilities for each classifier over all evaluation digit images"
   ]
  },
  {
   "cell_type": "code",
   "execution_count": 12,
   "id": "66d97999",
   "metadata": {
    "execution": {
     "iopub.execute_input": "2022-07-20T06:48:54.489313Z",
     "iopub.status.busy": "2022-07-20T06:48:54.489060Z",
     "iopub.status.idle": "2022-07-20T06:48:58.069398Z",
     "shell.execute_reply": "2022-07-20T06:48:58.068244Z"
    },
    "papermill": {
     "duration": 3.587044,
     "end_time": "2022-07-20T06:48:58.071088",
     "exception": false,
     "start_time": "2022-07-20T06:48:54.484044",
     "status": "completed"
    },
    "tags": []
   },
   "outputs": [
    {
     "data": {
      "image/png": "[encoded data removed]",
      "text/plain": [
       "<Figure size 1152x432 with 10 Axes>"
      ]
     },
     "metadata": {
      "needs_background": "light"
     },
     "output_type": "display_data"
    }
   ],
   "source": [
    "def plot_per_digit_probabilities(y_pred_probs):\n",
    "    fig, axs = plt.subplots(nrows=2, ncols=5, figsize=(16, 6))\n",
    "\n",
    "    for (r, c), digit, ax in zip(\n",
    "        it.product(range(2), range(5)), range(10), axs.reshape(-1)\n",
    "    ):\n",
    "        ax.hist(y_pred_probs_test[:, digit], bins=20)\n",
    "\n",
    "        ax.set_title(f\"Digit {digit}\")\n",
    "        if r == 1 and c == 2:\n",
    "            ax.set_xlabel(\"probability\", fontsize=16)\n",
    "\n",
    "        if c == 0:\n",
    "            ax.set_ylabel(\"counts\", fontsize=16)\n",
    "        ax.set_yscale(\"log\")\n",
    "\n",
    "    fig.tight_layout()\n",
    "    fig.suptitle(\n",
    "        f\"Distributions of prediction probabilities for each digit \"\n",
    "        f\"(on evaluation data, n={y_pred_probs.shape[0]})\",\n",
    "        fontsize=20,\n",
    "    )\n",
    "    fig.tight_layout()\n",
    "    fig.show()\n",
    "\n",
    "    return fig\n",
    "\n",
    "\n",
    "fig = plot_per_digit_probabilities(y_pred_probs_test)"
   ]
  },
  {
   "cell_type": "markdown",
   "id": "924a3fea",
   "metadata": {
    "papermill": {
     "duration": 0.004833,
     "end_time": "2022-07-20T06:48:58.080947",
     "exception": false,
     "start_time": "2022-07-20T06:48:58.076114",
     "status": "completed"
    },
    "tags": []
   },
   "source": [
    "From the above distributions we see that most digits have clear separation between\n",
    "high and lower probabilities. Morover, in each case there is roughly an order of\n",
    "magnitude more of digits with low probabilities. This is compatible with digits\n",
    "being roughly evenly distributed in the data."
   ]
  },
  {
   "cell_type": "code",
   "execution_count": 13,
   "id": "7989a0cb",
   "metadata": {
    "execution": {
     "iopub.execute_input": "2022-07-20T06:48:58.091483Z",
     "iopub.status.busy": "2022-07-20T06:48:58.091230Z",
     "iopub.status.idle": "2022-07-20T06:48:58.496980Z",
     "shell.execute_reply": "2022-07-20T06:48:58.496391Z"
    },
    "papermill": {
     "duration": 0.413398,
     "end_time": "2022-07-20T06:48:58.499143",
     "exception": false,
     "start_time": "2022-07-20T06:48:58.085745",
     "status": "completed"
    },
    "tags": []
   },
   "outputs": [],
   "source": [
    "logger.log_figure(\"per-digit-probabilities.png\", fig)"
   ]
  },
  {
   "cell_type": "markdown",
   "id": "475db56b",
   "metadata": {
    "papermill": {
     "duration": 0.005235,
     "end_time": "2022-07-20T06:48:58.509346",
     "exception": false,
     "start_time": "2022-07-20T06:48:58.504111",
     "status": "completed"
    },
    "tags": []
   },
   "source": [
    "### Plot ROC curves for individual one-vs-rest classifiers"
   ]
  },
  {
   "cell_type": "code",
   "execution_count": 14,
   "id": "73c9824d",
   "metadata": {
    "execution": {
     "iopub.execute_input": "2022-07-20T06:48:58.519994Z",
     "iopub.status.busy": "2022-07-20T06:48:58.519747Z",
     "iopub.status.idle": "2022-07-20T06:48:58.842312Z",
     "shell.execute_reply": "2022-07-20T06:48:58.841631Z"
    },
    "papermill": {
     "duration": 0.330586,
     "end_time": "2022-07-20T06:48:58.844527",
     "exception": false,
     "start_time": "2022-07-20T06:48:58.513941",
     "status": "completed"
    },
    "tags": []
   },
   "outputs": [],
   "source": [
    "from sklearn import metrics"
   ]
  },
  {
   "cell_type": "code",
   "execution_count": 15,
   "id": "590f844b",
   "metadata": {
    "execution": {
     "iopub.execute_input": "2022-07-20T06:48:58.856167Z",
     "iopub.status.busy": "2022-07-20T06:48:58.855919Z",
     "iopub.status.idle": "2022-07-20T06:48:59.955131Z",
     "shell.execute_reply": "2022-07-20T06:48:59.954558Z"
    },
    "papermill": {
     "duration": 1.107187,
     "end_time": "2022-07-20T06:48:59.956883",
     "exception": false,
     "start_time": "2022-07-20T06:48:58.849696",
     "status": "completed"
    },
    "tags": []
   },
   "outputs": [
    {
     "data": {
      "image/png": "[encoded data removed]",
      "text/plain": [
       "<Figure size 1152x576 with 10 Axes>"
      ]
     },
     "metadata": {
      "needs_background": "light"
     },
     "output_type": "display_data"
    }
   ],
   "source": [
    "def plot_roc_curves(y, y_pred_probs):\n",
    "    # based on example code\n",
    "    # https://scikit-learn.org/stable/auto_examples/model_selection/plot_roc.html\n",
    "\n",
    "    fig, axs = plt.subplots(nrows=2, ncols=5, figsize=(16, 8))\n",
    "\n",
    "    roc_auc_dict = {}\n",
    "\n",
    "    for (r, c), digit, ax in zip(\n",
    "        it.product(range(2), range(5)), range(10), axs.reshape(-1)\n",
    "    ):\n",
    "        fpr, tpr, _ = metrics.roc_curve(y == digit, y_pred_probs[:, digit])\n",
    "        auc = metrics.auc(fpr, tpr)\n",
    "        roc_auc_dict[str(digit)] = auc\n",
    "\n",
    "        ax.plot(fpr, tpr, label=f\"ROC AUC={round(auc, 3)}\")\n",
    "\n",
    "        ax.set_title(f\"\\nDigit {digit}\", fontsize=16)\n",
    "        if r == 1:\n",
    "            ax.set_xlabel(\"FPR\", fontsize=18)\n",
    "\n",
    "        if c == 0:\n",
    "            ax.set_ylabel(\"TPR\", fontsize=18)\n",
    "\n",
    "        ax.set_xlim([-0.05, 1.05])\n",
    "        ax.set_ylim([-0.05, 1.05])\n",
    "        ax.legend(loc=\"lower right\", frameon=False, fontsize=14)\n",
    "\n",
    "    fig.tight_layout()\n",
    "    fig.suptitle(\n",
    "        f\"ROC plots for one-vs-rest performances \"\n",
    "        f\"(on evaluation data, n={y_pred_probs_test.shape[1]}\",\n",
    "        fontsize=22,\n",
    "    )\n",
    "    fig.tight_layout()\n",
    "    fig.show()\n",
    "\n",
    "    return roc_auc_dict, fig\n",
    "\n",
    "\n",
    "roc_auc_dict, fig = plot_roc_curves(y_test, y_pred_probs_test)"
   ]
  },
  {
   "cell_type": "code",
   "execution_count": 16,
   "id": "8cc112b0",
   "metadata": {
    "execution": {
     "iopub.execute_input": "2022-07-20T06:48:59.969109Z",
     "iopub.status.busy": "2022-07-20T06:48:59.968873Z",
     "iopub.status.idle": "2022-07-20T06:49:00.181599Z",
     "shell.execute_reply": "2022-07-20T06:49:00.180937Z"
    },
    "papermill": {
     "duration": 0.220906,
     "end_time": "2022-07-20T06:49:00.183754",
     "exception": false,
     "start_time": "2022-07-20T06:48:59.962848",
     "status": "completed"
    },
    "tags": []
   },
   "outputs": [],
   "source": [
    "logger.log_figure(\"per-digit-roc-curves.png\", fig)"
   ]
  },
  {
   "cell_type": "code",
   "execution_count": 17,
   "id": "8ef4f337",
   "metadata": {
    "execution": {
     "iopub.execute_input": "2022-07-20T06:49:00.196630Z",
     "iopub.status.busy": "2022-07-20T06:49:00.196386Z",
     "iopub.status.idle": "2022-07-20T06:49:00.200745Z",
     "shell.execute_reply": "2022-07-20T06:49:00.200212Z"
    },
    "papermill": {
     "duration": 0.014624,
     "end_time": "2022-07-20T06:49:00.204330",
     "exception": false,
     "start_time": "2022-07-20T06:49:00.189706",
     "status": "completed"
    },
    "tags": []
   },
   "outputs": [
    {
     "data": {
      "text/plain": [
       "{'0': 1.0,\n",
       " '1': 0.998950328022493,\n",
       " '2': 1.0,\n",
       " '3': 0.9998125585754452,\n",
       " '4': 0.9996189605243103,\n",
       " '5': 0.9994001874414246,\n",
       " '6': 0.999923792104862,\n",
       " '7': 0.9997713763145862,\n",
       " '8': 0.9943647540983607,\n",
       " '9': 0.9995808565767414}"
      ]
     },
     "execution_count": 17,
     "metadata": {},
     "output_type": "execute_result"
    }
   ],
   "source": [
    "roc_auc_dict"
   ]
  },
  {
   "cell_type": "code",
   "execution_count": 18,
   "id": "4b169189",
   "metadata": {
    "execution": {
     "iopub.execute_input": "2022-07-20T06:49:00.216662Z",
     "iopub.status.busy": "2022-07-20T06:49:00.216442Z",
     "iopub.status.idle": "2022-07-20T06:49:00.220302Z",
     "shell.execute_reply": "2022-07-20T06:49:00.219749Z"
    },
    "papermill": {
     "duration": 0.013456,
     "end_time": "2022-07-20T06:49:00.223590",
     "exception": false,
     "start_time": "2022-07-20T06:49:00.210134",
     "status": "completed"
    },
    "tags": []
   },
   "outputs": [
    {
     "name": "stdout",
     "output_type": "stream",
     "text": [
      " - Logging roc_auc_per_digit (json) : {'0': 1.0, '1': 0.998950328022493, '2': 1.0, '3': 0.9998125585754452, '4': 0.9996189605243103, '5': 0.9994001874414246, '6': 0.999923792104862, '7': 0.9997713763145862, '8': 0.9943647540983607, '9': 0.9995808565767414}\n"
     ]
    }
   ],
   "source": [
    "logger.log_value(\"roc_auc_per_digit\", roc_auc_dict)"
   ]
  },
  {
   "cell_type": "markdown",
   "id": "65b7b9a0",
   "metadata": {
    "papermill": {
     "duration": 0.005502,
     "end_time": "2022-07-20T06:49:00.234652",
     "exception": false,
     "start_time": "2022-07-20T06:49:00.229150",
     "status": "completed"
    },
    "tags": []
   },
   "source": [
    "### Compute and log mean ROC AUC score averaged over all digits"
   ]
  },
  {
   "cell_type": "code",
   "execution_count": 19,
   "id": "b84acb94",
   "metadata": {
    "execution": {
     "iopub.execute_input": "2022-07-20T06:49:00.246720Z",
     "iopub.status.busy": "2022-07-20T06:49:00.246504Z",
     "iopub.status.idle": "2022-07-20T06:49:00.259203Z",
     "shell.execute_reply": "2022-07-20T06:49:00.258677Z"
    },
    "papermill": {
     "duration": 0.020722,
     "end_time": "2022-07-20T06:49:00.260768",
     "exception": false,
     "start_time": "2022-07-20T06:49:00.240046",
     "status": "completed"
    },
    "tags": []
   },
   "outputs": [
    {
     "name": "stdout",
     "output_type": "stream",
     "text": [
      " - Logging roc_auc_class_mean (float) : 0.9991422813658225\n"
     ]
    }
   ],
   "source": [
    "roc_auc_macro = np.mean(list(roc_auc_dict.values()))\n",
    "\n",
    "logger.log_float(\"roc_auc_class_mean\", roc_auc_macro)\n",
    "\n",
    "# assert that the same value can be computed directly using sklearn\n",
    "assert roc_auc_macro == metrics.roc_auc_score(\n",
    "    y_test, y_pred_probs_test, average=\"macro\", multi_class=\"ovr\"\n",
    ")"
   ]
  },
  {
   "cell_type": "code",
   "execution_count": 20,
   "id": "70a9a397",
   "metadata": {
    "execution": {
     "iopub.execute_input": "2022-07-20T06:49:00.272795Z",
     "iopub.status.busy": "2022-07-20T06:49:00.272579Z",
     "iopub.status.idle": "2022-07-20T06:49:00.275533Z",
     "shell.execute_reply": "2022-07-20T06:49:00.274795Z"
    },
    "lines_to_next_cell": 0,
    "papermill": {
     "duration": 0.011414,
     "end_time": "2022-07-20T06:49:00.278029",
     "exception": false,
     "start_time": "2022-07-20T06:49:00.266615",
     "status": "completed"
    },
    "tags": []
   },
   "outputs": [],
   "source": [
    "# ---"
   ]
  },
  {
   "cell_type": "code",
   "execution_count": null,
   "id": "53dcd1e6",
   "metadata": {
    "papermill": {
     "duration": 0.006316,
     "end_time": "2022-07-20T06:49:00.289857",
     "exception": false,
     "start_time": "2022-07-20T06:49:00.283541",
     "status": "completed"
    },
    "tags": []
   },
   "outputs": [],
   "source": []
  }
 ],
 "metadata": {
  "jupytext": {
   "cell_metadata_filter": "tags,-all",
   "main_language": "python",
   "notebook_metadata_filter": "-all"
  },
  "language_info": {
   "codemirror_mode": {
    "name": "ipython",
    "version": 3
   },
   "file_extension": ".py",
   "mimetype": "text/x-python",
   "name": "python",
   "nbconvert_exporter": "python",
   "pygments_lexer": "ipython3",
   "version": "3.8.10"
  },
  "papermill": {
   "default_parameters": {},
   "duration": 9.889215,
   "end_time": "2022-07-20T06:49:01.518558",
   "environment_variables": {},
   "exception": null,
   "input_path": "/home/host_user/workspace/mnist-demo-pipeline/mnist-demo-pipeline/notebooks/temp-notebook-r7koktww.ipynb",
   "output_path": "notebooks/benchmark-model.ipynb",
   "parameters": {
    "P": {
     "_opentelemetry_traceparent": "00-bf0e54157d24123a8dfdaf7635805574-75fe27f88cf59044-01",
     "pipeline.data_lake_root": "/pipeline-outputs/data-lake",
     "pipeline.github.actor": "matiasdahl",
     "pipeline.github.base_ref": "",
     "pipeline.github.event_name": "schedule",
     "pipeline.github.head_ref": "",
     "pipeline.github.job": "run-tests-pipeline-and-persist-pipeline-outputs",
     "pipeline.github.ref": "refs/heads/development",
     "pipeline.github.ref_name": "development",
     "pipeline.github.ref_type": "branch",
     "pipeline.github.repository": "pynb-dag-runner/mnist-digits-demo-pipeline",
     "pipeline.github.run_id": "2702768688",
     "pipeline.github.runner_name": "Hosted Agent",
     "pipeline.github.sha": "5a6f90a9473b3095841d5b5dc7b58f5f049a0f71",
     "pipeline.github.workflow": "Run automated tests, pipeline and deploy results to static reporting site",
     "pipeline.pipeline_run_id": "9b8eb2de-e507-4056-840d-1f7140a936d7",
     "pipeline.run_environment": "ci",
     "run.retry_nr": "0",
     "task.max_nr_retries": "1",
     "task.notebook": "notebooks/benchmark-model.py",
     "task.nr_train_images": 1000,
     "task.num_cpus": 1,
     "task.timeout_s": "None"
    }
   },
   "start_time": "2022-07-20T06:48:51.629343",
   "version": "2.3.3"
  }
 },
 "nbformat": 4,
 "nbformat_minor": 5
}