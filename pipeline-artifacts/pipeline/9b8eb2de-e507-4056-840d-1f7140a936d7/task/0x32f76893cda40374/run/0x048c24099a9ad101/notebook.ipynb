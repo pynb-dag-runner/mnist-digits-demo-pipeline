{
 "cells": [
  {
   "cell_type": "markdown",
   "id": "37a4b99c",
   "metadata": {
    "papermill": {
     "duration": 0.004891,
     "end_time": "2022-07-20T06:48:40.706435",
     "exception": false,
     "start_time": "2022-07-20T06:48:40.701544",
     "status": "completed"
    },
    "tags": []
   },
   "source": [
    "# Train model\n",
    "\n",
    "The purpose of this notebook is:\n",
    "\n",
    "- Load all training data (images and labels).\n",
    "- Limit number of train images to `task.nr_train_images` (value provided as run parameter).\n",
    "- Train a support vector machine model using sklearn.\n",
    "- Persist the trained model using the ONNX format."
   ]
  },
  {
   "cell_type": "markdown",
   "id": "25c10db7",
   "metadata": {
    "papermill": {
     "duration": 0.002554,
     "end_time": "2022-07-20T06:48:40.712637",
     "exception": false,
     "start_time": "2022-07-20T06:48:40.710083",
     "status": "completed"
    },
    "tags": []
   },
   "source": [
    "### Determine run parameters"
   ]
  },
  {
   "cell_type": "code",
   "execution_count": 1,
   "id": "674d4028",
   "metadata": {
    "execution": {
     "iopub.execute_input": "2022-07-20T06:48:40.720400Z",
     "iopub.status.busy": "2022-07-20T06:48:40.720029Z",
     "iopub.status.idle": "2022-07-20T06:48:40.731000Z",
     "shell.execute_reply": "2022-07-20T06:48:40.730342Z"
    },
    "lines_to_next_cell": 0,
    "papermill": {
     "duration": 0.016801,
     "end_time": "2022-07-20T06:48:40.732713",
     "exception": false,
     "start_time": "2022-07-20T06:48:40.715912",
     "status": "completed"
    },
    "tags": []
   },
   "outputs": [],
   "source": [
    "# ----------------- Parameters for interactive development --------------\n",
    "P = {\n",
    "    \"pipeline.data_lake_root\": \"/pipeline-outputs/data-lake\",\n",
    "    \"task.nr_train_images\": 600,\n",
    "}"
   ]
  },
  {
   "cell_type": "code",
   "execution_count": 2,
   "id": "f745be88",
   "metadata": {
    "execution": {
     "iopub.execute_input": "2022-07-20T06:48:40.740614Z",
     "iopub.status.busy": "2022-07-20T06:48:40.740017Z",
     "iopub.status.idle": "2022-07-20T06:48:40.744642Z",
     "shell.execute_reply": "2022-07-20T06:48:40.743699Z"
    },
    "lines_to_next_cell": 0,
    "papermill": {
     "duration": 0.010139,
     "end_time": "2022-07-20T06:48:40.746436",
     "exception": false,
     "start_time": "2022-07-20T06:48:40.736297",
     "status": "completed"
    },
    "tags": [
     "parameters"
    ]
   },
   "outputs": [],
   "source": [
    "# - During automated runs parameters will be injected in the below cell -"
   ]
  },
  {
   "cell_type": "code",
   "execution_count": 3,
   "id": "39e91622",
   "metadata": {
    "execution": {
     "iopub.execute_input": "2022-07-20T06:48:40.759496Z",
     "iopub.status.busy": "2022-07-20T06:48:40.759283Z",
     "iopub.status.idle": "2022-07-20T06:48:40.763683Z",
     "shell.execute_reply": "2022-07-20T06:48:40.763148Z"
    },
    "papermill": {
     "duration": 0.017767,
     "end_time": "2022-07-20T06:48:40.766761",
     "exception": false,
     "start_time": "2022-07-20T06:48:40.748994",
     "status": "completed"
    },
    "tags": [
     "injected-parameters"
    ]
   },
   "outputs": [],
   "source": [
    "# Parameters\n",
    "P = {\n",
    "    \"pipeline.data_lake_root\": \"/pipeline-outputs/data-lake\",\n",
    "    \"pipeline.run_environment\": \"ci\",\n",
    "    \"pipeline.pipeline_run_id\": \"9b8eb2de-e507-4056-840d-1f7140a936d7\",\n",
    "    \"pipeline.github.repository\": \"pynb-dag-runner/mnist-digits-demo-pipeline\",\n",
    "    \"pipeline.github.workflow\": \"Run automated tests, pipeline and deploy results to static reporting site\",\n",
    "    \"pipeline.github.runner_name\": \"Hosted Agent\",\n",
    "    \"pipeline.github.run_id\": \"2702768688\",\n",
    "    \"pipeline.github.actor\": \"matiasdahl\",\n",
    "    \"pipeline.github.job\": \"run-tests-pipeline-and-persist-pipeline-outputs\",\n",
    "    \"pipeline.github.base_ref\": \"\",\n",
    "    \"pipeline.github.head_ref\": \"\",\n",
    "    \"pipeline.github.sha\": \"5a6f90a9473b3095841d5b5dc7b58f5f049a0f71\",\n",
    "    \"pipeline.github.ref\": \"refs/heads/development\",\n",
    "    \"pipeline.github.ref_type\": \"branch\",\n",
    "    \"pipeline.github.ref_name\": \"development\",\n",
    "    \"pipeline.github.event_name\": \"schedule\",\n",
    "    \"task.nr_train_images\": 1000,\n",
    "    \"task.notebook\": \"notebooks/train-model.py\",\n",
    "    \"task.max_nr_retries\": \"1\",\n",
    "    \"run.retry_nr\": \"0\",\n",
    "    \"task.timeout_s\": \"None\",\n",
    "    \"task.num_cpus\": 1,\n",
    "    \"_opentelemetry_traceparent\": \"00-bf0e54157d24123a8dfdaf7635805574-cb72b4217d2160ca-01\",\n",
    "}\n"
   ]
  },
  {
   "cell_type": "code",
   "execution_count": 4,
   "id": "2d44a157",
   "metadata": {
    "execution": {
     "iopub.execute_input": "2022-07-20T06:48:40.773833Z",
     "iopub.status.busy": "2022-07-20T06:48:40.773628Z",
     "iopub.status.idle": "2022-07-20T06:48:40.776526Z",
     "shell.execute_reply": "2022-07-20T06:48:40.776008Z"
    },
    "lines_to_next_cell": 0,
    "papermill": {
     "duration": 0.009525,
     "end_time": "2022-07-20T06:48:40.779607",
     "exception": false,
     "start_time": "2022-07-20T06:48:40.770082",
     "status": "completed"
    },
    "tags": []
   },
   "outputs": [],
   "source": [
    "# -----------------------------------------------------------------------"
   ]
  },
  {
   "cell_type": "markdown",
   "id": "a8761fa7",
   "metadata": {
    "papermill": {
     "duration": 0.003384,
     "end_time": "2022-07-20T06:48:40.786104",
     "exception": false,
     "start_time": "2022-07-20T06:48:40.782720",
     "status": "completed"
    },
    "tags": []
   },
   "source": [
    "---"
   ]
  },
  {
   "cell_type": "markdown",
   "id": "ef8c4558",
   "metadata": {
    "lines_to_next_cell": 2,
    "papermill": {
     "duration": 0.002749,
     "end_time": "2022-07-20T06:48:40.792172",
     "exception": false,
     "start_time": "2022-07-20T06:48:40.789423",
     "status": "completed"
    },
    "tags": []
   },
   "source": [
    "### Notebook code"
   ]
  },
  {
   "cell_type": "code",
   "execution_count": 5,
   "id": "07198b15",
   "metadata": {
    "execution": {
     "iopub.execute_input": "2022-07-20T06:48:40.799619Z",
     "iopub.status.busy": "2022-07-20T06:48:40.799407Z",
     "iopub.status.idle": "2022-07-20T06:48:41.337756Z",
     "shell.execute_reply": "2022-07-20T06:48:41.336889Z"
    },
    "papermill": {
     "duration": 0.5448,
     "end_time": "2022-07-20T06:48:41.339849",
     "exception": false,
     "start_time": "2022-07-20T06:48:40.795049",
     "status": "completed"
    },
    "tags": []
   },
   "outputs": [
    {
     "name": "stderr",
     "output_type": "stream",
     "text": [
      "2022-07-20 06:48:41,149\tINFO worker.py:842 -- Connecting to existing Ray cluster at address: 172.17.0.2:6379\n"
     ]
    }
   ],
   "source": [
    "from pynb_dag_runner.tasks.task_opentelemetry_logging import PydarLogger\n",
    "\n",
    "logger = PydarLogger(P)"
   ]
  },
  {
   "cell_type": "markdown",
   "id": "10949b6b",
   "metadata": {
    "papermill": {
     "duration": 0.002982,
     "end_time": "2022-07-20T06:48:41.346388",
     "exception": false,
     "start_time": "2022-07-20T06:48:41.343406",
     "status": "completed"
    },
    "tags": []
   },
   "source": [
    "## Load and limit train data"
   ]
  },
  {
   "cell_type": "code",
   "execution_count": 6,
   "id": "c76c0512",
   "metadata": {
    "execution": {
     "iopub.execute_input": "2022-07-20T06:48:41.354314Z",
     "iopub.status.busy": "2022-07-20T06:48:41.353376Z",
     "iopub.status.idle": "2022-07-20T06:48:41.773894Z",
     "shell.execute_reply": "2022-07-20T06:48:41.773252Z"
    },
    "papermill": {
     "duration": 0.426631,
     "end_time": "2022-07-20T06:48:41.775997",
     "exception": false,
     "start_time": "2022-07-20T06:48:41.349366",
     "status": "completed"
    },
    "tags": []
   },
   "outputs": [],
   "source": [
    "def load_and_limit_train_data(P):\n",
    "    from common.io import datalake_root, read_numpy\n",
    "    from sklearn.model_selection import train_test_split\n",
    "\n",
    "    X_train_all = read_numpy(datalake_root(P) / \"train-data\" / \"digits.numpy\")\n",
    "    y_train_all = read_numpy(datalake_root(P) / \"train-data\" / \"labels.numpy\")\n",
    "\n",
    "    assert isinstance(P[\"task.nr_train_images\"], int)\n",
    "\n",
    "    # Note: train_test_split will fail if split is 0 or 100%.\n",
    "    assert 0 < P[\"task.nr_train_images\"] < len(y_train_all)\n",
    "\n",
    "    X_train, _, y_train, _ = train_test_split(\n",
    "        X_train_all,\n",
    "        y_train_all,\n",
    "        train_size=P[\"task.nr_train_images\"],\n",
    "        test_size=None,\n",
    "        stratify=y_train_all,\n",
    "        shuffle=True,\n",
    "        random_state=123,\n",
    "    )\n",
    "\n",
    "    assert X_train.shape == (len(y_train), 8 * 8)\n",
    "    return X_train, y_train\n",
    "\n",
    "\n",
    "X_train, y_train = load_and_limit_train_data(P)"
   ]
  },
  {
   "cell_type": "markdown",
   "id": "6a014aef",
   "metadata": {
    "papermill": {
     "duration": 0.003053,
     "end_time": "2022-07-20T06:48:41.784715",
     "exception": false,
     "start_time": "2022-07-20T06:48:41.781662",
     "status": "completed"
    },
    "tags": []
   },
   "source": [
    "## Train support vector classifier model\n",
    "\n",
    "Below we assume that the hyperparameter $C$ is known.\n",
    "\n",
    "However, this should ideally be found by a hyperparameter search. That could be\n",
    "done in parallel on the Ray cluster, but this needs some more work. Ie., to use\n",
    "multiple cores in the notebook, those cores should be reserved when starting the\n",
    "notebook task (TODO).\n",
    "\n",
    "- https://docs.ray.io/en/latest/tune/key-concepts.html\n",
    "\n",
    "Note: cv-scores would need to be computed here, since they depend on the train data.\n",
    "After this notebook only the onnx-model is available."
   ]
  },
  {
   "cell_type": "code",
   "execution_count": 7,
   "id": "71dca0ae",
   "metadata": {
    "execution": {
     "iopub.execute_input": "2022-07-20T06:48:41.792096Z",
     "iopub.status.busy": "2022-07-20T06:48:41.791853Z",
     "iopub.status.idle": "2022-07-20T06:48:41.814532Z",
     "shell.execute_reply": "2022-07-20T06:48:41.813829Z"
    },
    "papermill": {
     "duration": 0.028724,
     "end_time": "2022-07-20T06:48:41.816330",
     "exception": false,
     "start_time": "2022-07-20T06:48:41.787606",
     "status": "completed"
    },
    "tags": []
   },
   "outputs": [],
   "source": [
    "from sklearn.svm import SVC"
   ]
  },
  {
   "cell_type": "code",
   "execution_count": 8,
   "id": "b4e68c55",
   "metadata": {
    "execution": {
     "iopub.execute_input": "2022-07-20T06:48:41.824411Z",
     "iopub.status.busy": "2022-07-20T06:48:41.823981Z",
     "iopub.status.idle": "2022-07-20T06:48:41.989535Z",
     "shell.execute_reply": "2022-07-20T06:48:41.988666Z"
    },
    "papermill": {
     "duration": 0.171496,
     "end_time": "2022-07-20T06:48:41.991237",
     "exception": false,
     "start_time": "2022-07-20T06:48:41.819741",
     "status": "completed"
    },
    "tags": []
   },
   "outputs": [
    {
     "data": {
      "text/plain": [
       "SVC(C=0.001, kernel='linear', probability=True)"
      ]
     },
     "execution_count": 8,
     "metadata": {},
     "output_type": "execute_result"
    }
   ],
   "source": [
    "model = SVC(C=0.001, kernel=\"linear\", probability=True)\n",
    "\n",
    "model.fit(X_train, y_train)"
   ]
  },
  {
   "cell_type": "markdown",
   "id": "faf4194e",
   "metadata": {
    "papermill": {
     "duration": 0.003716,
     "end_time": "2022-07-20T06:48:41.999011",
     "exception": false,
     "start_time": "2022-07-20T06:48:41.995295",
     "status": "completed"
    },
    "tags": []
   },
   "source": [
    "### Q: Can the labels returned by `predict(..)` be computed from probabilities returned by the `predict_prob`-method?"
   ]
  },
  {
   "cell_type": "code",
   "execution_count": 9,
   "id": "c814415f",
   "metadata": {
    "execution": {
     "iopub.execute_input": "2022-07-20T06:48:42.007377Z",
     "iopub.status.busy": "2022-07-20T06:48:42.006935Z",
     "iopub.status.idle": "2022-07-20T06:48:42.097879Z",
     "shell.execute_reply": "2022-07-20T06:48:42.096842Z"
    },
    "papermill": {
     "duration": 0.097542,
     "end_time": "2022-07-20T06:48:42.099575",
     "exception": false,
     "start_time": "2022-07-20T06:48:42.002033",
     "status": "completed"
    },
    "tags": []
   },
   "outputs": [
    {
     "name": "stdout",
     "output_type": "stream",
     "text": [
      " - Logging nr_max_prob_neq_label (int) : 1\n"
     ]
    }
   ],
   "source": [
    "import numpy as np\n",
    "\n",
    "y_train_labels = model.predict(X_train)\n",
    "y_train_probabilities = model.predict_proba(X_train)\n",
    "assert y_train_probabilities.shape == (len(y_train), 10)\n",
    "\n",
    "y_train_max_prob_labels = np.argmax(y_train_probabilities, axis=1)\n",
    "assert y_train_labels.shape == y_train_max_prob_labels.shape == y_train.shape\n",
    "\n",
    "# If the predicted labels would coincide with the labels that have\n",
    "# maximum probability, the below number would be zero\n",
    "logger.log_int(\n",
    "    \"nr_max_prob_neq_label\", int(sum(y_train_max_prob_labels != y_train_labels))\n",
    ")"
   ]
  },
  {
   "cell_type": "markdown",
   "id": "64aa628c",
   "metadata": {
    "papermill": {
     "duration": 0.004004,
     "end_time": "2022-07-20T06:48:42.107443",
     "exception": false,
     "start_time": "2022-07-20T06:48:42.103439",
     "status": "completed"
    },
    "tags": []
   },
   "source": [
    "The explanation is (likely) explained in the SVC source, see\n",
    "[here](https://github.com/scikit-learn/scikit-learn/blob/main/sklearn/svm/_base.py).\n",
    "Namely, the outputs from `predict(..)` and `predict_proba(..)` may not in some\n",
    "cases be compatible since the latter is computed using cross-validation while\n",
    "the former is not. Thus, the above number need not be zero."
   ]
  },
  {
   "cell_type": "markdown",
   "id": "737985f9",
   "metadata": {
    "papermill": {
     "duration": 0.003808,
     "end_time": "2022-07-20T06:48:42.114458",
     "exception": false,
     "start_time": "2022-07-20T06:48:42.110650",
     "status": "completed"
    },
    "tags": []
   },
   "source": [
    "## Persist model"
   ]
  },
  {
   "cell_type": "code",
   "execution_count": 10,
   "id": "bda48361",
   "metadata": {
    "execution": {
     "iopub.execute_input": "2022-07-20T06:48:42.123234Z",
     "iopub.status.busy": "2022-07-20T06:48:42.122873Z",
     "iopub.status.idle": "2022-07-20T06:48:42.885860Z",
     "shell.execute_reply": "2022-07-20T06:48:42.884888Z"
    },
    "papermill": {
     "duration": 0.769327,
     "end_time": "2022-07-20T06:48:42.887906",
     "exception": false,
     "start_time": "2022-07-20T06:48:42.118579",
     "status": "completed"
    },
    "tags": []
   },
   "outputs": [],
   "source": [
    "from skl2onnx import convert_sklearn\n",
    "from skl2onnx.common.data_types import FloatTensorType\n",
    "\n",
    "#\n",
    "from common.io import datalake_root, write_onnx"
   ]
  },
  {
   "cell_type": "code",
   "execution_count": 11,
   "id": "c062343d",
   "metadata": {
    "execution": {
     "iopub.execute_input": "2022-07-20T06:48:42.897239Z",
     "iopub.status.busy": "2022-07-20T06:48:42.896869Z",
     "iopub.status.idle": "2022-07-20T06:48:42.948149Z",
     "shell.execute_reply": "2022-07-20T06:48:42.947413Z"
    },
    "papermill": {
     "duration": 0.058471,
     "end_time": "2022-07-20T06:48:42.949902",
     "exception": false,
     "start_time": "2022-07-20T06:48:42.891431",
     "status": "completed"
    },
    "tags": []
   },
   "outputs": [],
   "source": [
    "# convert sklearn model into onnx and persist to data lake\n",
    "\n",
    "model_onnx = convert_sklearn(\n",
    "    model, initial_types=[(\"float_input_8x8_image\", FloatTensorType([None, 8 * 8]))]\n",
    ")\n",
    "write_onnx(\n",
    "    datalake_root(P)\n",
    "    / \"models\"\n",
    "    / f\"nr_train_images={P['task.nr_train_images']}\"\n",
    "    / \"model.onnx\",\n",
    "    model_onnx,\n",
    ")"
   ]
  },
  {
   "cell_type": "code",
   "execution_count": null,
   "id": "198c1ff6",
   "metadata": {
    "papermill": {
     "duration": 0.004469,
     "end_time": "2022-07-20T06:48:42.957568",
     "exception": false,
     "start_time": "2022-07-20T06:48:42.953099",
     "status": "completed"
    },
    "tags": []
   },
   "outputs": [],
   "source": []
  }
 ],
 "metadata": {
  "jupytext": {
   "cell_metadata_filter": "tags,-all",
   "main_language": "python",
   "notebook_metadata_filter": "-all"
  },
  "language_info": {
   "codemirror_mode": {
    "name": "ipython",
    "version": 3
   },
   "file_extension": ".py",
   "mimetype": "text/x-python",
   "name": "python",
   "nbconvert_exporter": "python",
   "pygments_lexer": "ipython3",
   "version": "3.8.10"
  },
  "papermill": {
   "default_parameters": {},
   "duration": 4.610744,
   "end_time": "2022-07-20T06:48:44.084323",
   "environment_variables": {},
   "exception": null,
   "input_path": "/home/host_user/workspace/mnist-demo-pipeline/mnist-demo-pipeline/notebooks/temp-notebook-x4dr2zla.ipynb",
   "output_path": "notebooks/train-model.ipynb",
   "parameters": {
    "P": {
     "_opentelemetry_traceparent": "00-bf0e54157d24123a8dfdaf7635805574-cb72b4217d2160ca-01",
     "pipeline.data_lake_root": "/pipeline-outputs/data-lake",
     "pipeline.github.actor": "matiasdahl",
     "pipeline.github.base_ref": "",
     "pipeline.github.event_name": "schedule",
     "pipeline.github.head_ref": "",
     "pipeline.github.job": "run-tests-pipeline-and-persist-pipeline-outputs",
     "pipeline.github.ref": "refs/heads/development",
     "pipeline.github.ref_name": "development",
     "pipeline.github.ref_type": "branch",
     "pipeline.github.repository": "pynb-dag-runner/mnist-digits-demo-pipeline",
     "pipeline.github.run_id": "2702768688",
     "pipeline.github.runner_name": "Hosted Agent",
     "pipeline.github.sha": "5a6f90a9473b3095841d5b5dc7b58f5f049a0f71",
     "pipeline.github.workflow": "Run automated tests, pipeline and deploy results to static reporting site",
     "pipeline.pipeline_run_id": "9b8eb2de-e507-4056-840d-1f7140a936d7",
     "pipeline.run_environment": "ci",
     "run.retry_nr": "0",
     "task.max_nr_retries": "1",
     "task.notebook": "notebooks/train-model.py",
     "task.nr_train_images": 1000,
     "task.num_cpus": 1,
     "task.timeout_s": "None"
    }
   },
   "start_time": "2022-07-20T06:48:39.473579",
   "version": "2.3.3"
  }
 },
 "nbformat": 4,
 "nbformat_minor": 5
}