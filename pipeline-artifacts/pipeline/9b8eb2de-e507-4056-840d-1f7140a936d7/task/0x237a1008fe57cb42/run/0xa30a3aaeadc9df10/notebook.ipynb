{
 "cells": [
  {
   "cell_type": "markdown",
   "id": "b285a5fc",
   "metadata": {
    "papermill": {
     "duration": 0.005953,
     "end_time": "2022-07-20T06:48:48.787315",
     "exception": false,
     "start_time": "2022-07-20T06:48:48.781362",
     "status": "completed"
    },
    "tags": []
   },
   "source": [
    "# Benchmark model\n",
    "\n",
    "The purpose of this notebook is to benchmark persisted onnx-model (trained in the\n",
    "previous step) against evaluation set."
   ]
  },
  {
   "cell_type": "markdown",
   "id": "59fed53a",
   "metadata": {
    "papermill": {
     "duration": 0.004784,
     "end_time": "2022-07-20T06:48:48.797139",
     "exception": false,
     "start_time": "2022-07-20T06:48:48.792355",
     "status": "completed"
    },
    "tags": []
   },
   "source": [
    "### Determine run parameters"
   ]
  },
  {
   "cell_type": "code",
   "execution_count": 1,
   "id": "7e2adbdb",
   "metadata": {
    "execution": {
     "iopub.execute_input": "2022-07-20T06:48:48.807802Z",
     "iopub.status.busy": "2022-07-20T06:48:48.807481Z",
     "iopub.status.idle": "2022-07-20T06:48:48.816096Z",
     "shell.execute_reply": "2022-07-20T06:48:48.815259Z"
    },
    "lines_to_next_cell": 0,
    "papermill": {
     "duration": 0.017827,
     "end_time": "2022-07-20T06:48:48.819002",
     "exception": false,
     "start_time": "2022-07-20T06:48:48.801175",
     "status": "completed"
    },
    "tags": []
   },
   "outputs": [],
   "source": [
    "# ----------------- Parameters for interactive development --------------\n",
    "P = {\n",
    "    \"pipeline.data_lake_root\": \"/pipeline-outputs/data-lake\",\n",
    "    \"task.nr_train_images\": 600,\n",
    "}"
   ]
  },
  {
   "cell_type": "code",
   "execution_count": 2,
   "id": "cec814cd",
   "metadata": {
    "execution": {
     "iopub.execute_input": "2022-07-20T06:48:48.828976Z",
     "iopub.status.busy": "2022-07-20T06:48:48.828761Z",
     "iopub.status.idle": "2022-07-20T06:48:48.831832Z",
     "shell.execute_reply": "2022-07-20T06:48:48.831297Z"
    },
    "lines_to_next_cell": 0,
    "papermill": {
     "duration": 0.011322,
     "end_time": "2022-07-20T06:48:48.834706",
     "exception": false,
     "start_time": "2022-07-20T06:48:48.823384",
     "status": "completed"
    },
    "tags": [
     "parameters"
    ]
   },
   "outputs": [],
   "source": [
    "# - During automated runs parameters will be injected in the below cell -"
   ]
  },
  {
   "cell_type": "code",
   "execution_count": 3,
   "id": "d86bf3d0",
   "metadata": {
    "execution": {
     "iopub.execute_input": "2022-07-20T06:48:48.844740Z",
     "iopub.status.busy": "2022-07-20T06:48:48.844505Z",
     "iopub.status.idle": "2022-07-20T06:48:48.849642Z",
     "shell.execute_reply": "2022-07-20T06:48:48.849085Z"
    },
    "papermill": {
     "duration": 0.013009,
     "end_time": "2022-07-20T06:48:48.852597",
     "exception": false,
     "start_time": "2022-07-20T06:48:48.839588",
     "status": "completed"
    },
    "tags": [
     "injected-parameters"
    ]
   },
   "outputs": [],
   "source": [
    "# Parameters\n",
    "P = {\n",
    "    \"pipeline.data_lake_root\": \"/pipeline-outputs/data-lake\",\n",
    "    \"pipeline.run_environment\": \"ci\",\n",
    "    \"pipeline.pipeline_run_id\": \"9b8eb2de-e507-4056-840d-1f7140a936d7\",\n",
    "    \"pipeline.github.repository\": \"pynb-dag-runner/mnist-digits-demo-pipeline\",\n",
    "    \"pipeline.github.workflow\": \"Run automated tests, pipeline and deploy results to static reporting site\",\n",
    "    \"pipeline.github.runner_name\": \"Hosted Agent\",\n",
    "    \"pipeline.github.run_id\": \"2702768688\",\n",
    "    \"pipeline.github.actor\": \"matiasdahl\",\n",
    "    \"pipeline.github.job\": \"run-tests-pipeline-and-persist-pipeline-outputs\",\n",
    "    \"pipeline.github.base_ref\": \"\",\n",
    "    \"pipeline.github.head_ref\": \"\",\n",
    "    \"pipeline.github.sha\": \"5a6f90a9473b3095841d5b5dc7b58f5f049a0f71\",\n",
    "    \"pipeline.github.ref\": \"refs/heads/development\",\n",
    "    \"pipeline.github.ref_type\": \"branch\",\n",
    "    \"pipeline.github.ref_name\": \"development\",\n",
    "    \"pipeline.github.event_name\": \"schedule\",\n",
    "    \"task.nr_train_images\": 600,\n",
    "    \"task.notebook\": \"notebooks/benchmark-model.py\",\n",
    "    \"task.max_nr_retries\": \"1\",\n",
    "    \"run.retry_nr\": \"0\",\n",
    "    \"task.timeout_s\": \"None\",\n",
    "    \"task.num_cpus\": 1,\n",
    "    \"_opentelemetry_traceparent\": \"00-bf0e54157d24123a8dfdaf7635805574-5fa48b3f21b6e6c2-01\",\n",
    "}\n"
   ]
  },
  {
   "cell_type": "code",
   "execution_count": 4,
   "id": "79f6d899",
   "metadata": {
    "execution": {
     "iopub.execute_input": "2022-07-20T06:48:48.866067Z",
     "iopub.status.busy": "2022-07-20T06:48:48.865856Z",
     "iopub.status.idle": "2022-07-20T06:48:48.869435Z",
     "shell.execute_reply": "2022-07-20T06:48:48.868866Z"
    },
    "lines_to_next_cell": 0,
    "papermill": {
     "duration": 0.011431,
     "end_time": "2022-07-20T06:48:48.872415",
     "exception": false,
     "start_time": "2022-07-20T06:48:48.860984",
     "status": "completed"
    },
    "tags": []
   },
   "outputs": [],
   "source": [
    "# -----------------------------------------------------------------------"
   ]
  },
  {
   "cell_type": "markdown",
   "id": "5472a6b2",
   "metadata": {
    "papermill": {
     "duration": 0.003782,
     "end_time": "2022-07-20T06:48:48.879976",
     "exception": false,
     "start_time": "2022-07-20T06:48:48.876194",
     "status": "completed"
    },
    "tags": []
   },
   "source": [
    "---"
   ]
  },
  {
   "cell_type": "markdown",
   "id": "143bf753",
   "metadata": {
    "lines_to_next_cell": 2,
    "papermill": {
     "duration": 0.003823,
     "end_time": "2022-07-20T06:48:48.889061",
     "exception": false,
     "start_time": "2022-07-20T06:48:48.885238",
     "status": "completed"
    },
    "tags": []
   },
   "source": [
    "### Notebook code"
   ]
  },
  {
   "cell_type": "code",
   "execution_count": 5,
   "id": "4a0d550e",
   "metadata": {
    "execution": {
     "iopub.execute_input": "2022-07-20T06:48:48.899114Z",
     "iopub.status.busy": "2022-07-20T06:48:48.898868Z",
     "iopub.status.idle": "2022-07-20T06:48:49.966158Z",
     "shell.execute_reply": "2022-07-20T06:48:49.965500Z"
    },
    "papermill": {
     "duration": 1.074351,
     "end_time": "2022-07-20T06:48:49.968194",
     "exception": false,
     "start_time": "2022-07-20T06:48:48.893843",
     "status": "completed"
    },
    "tags": []
   },
   "outputs": [
    {
     "name": "stderr",
     "output_type": "stream",
     "text": [
      "2022-07-20 06:48:49,808\tINFO worker.py:842 -- Connecting to existing Ray cluster at address: 172.17.0.2:6379\n"
     ]
    }
   ],
   "source": [
    "import itertools as it\n",
    "\n",
    "#\n",
    "import numpy as np\n",
    "import matplotlib.pyplot as plt\n",
    "\n",
    "#\n",
    "from pynb_dag_runner.tasks.task_opentelemetry_logging import PydarLogger\n",
    "\n",
    "#\n",
    "from common.io import datalake_root\n",
    "\n",
    "logger = PydarLogger(P)"
   ]
  },
  {
   "cell_type": "markdown",
   "id": "82c5bf3b",
   "metadata": {
    "papermill": {
     "duration": 0.004846,
     "end_time": "2022-07-20T06:48:49.977788",
     "exception": false,
     "start_time": "2022-07-20T06:48:49.972942",
     "status": "completed"
    },
    "tags": []
   },
   "source": [
    "## Load persisted onnx-model and evaluation data"
   ]
  },
  {
   "cell_type": "code",
   "execution_count": 6,
   "id": "09899b85",
   "metadata": {
    "execution": {
     "iopub.execute_input": "2022-07-20T06:48:49.987774Z",
     "iopub.status.busy": "2022-07-20T06:48:49.987423Z",
     "iopub.status.idle": "2022-07-20T06:48:49.990880Z",
     "shell.execute_reply": "2022-07-20T06:48:49.990234Z"
    },
    "papermill": {
     "duration": 0.012088,
     "end_time": "2022-07-20T06:48:49.993967",
     "exception": false,
     "start_time": "2022-07-20T06:48:49.981879",
     "status": "completed"
    },
    "tags": []
   },
   "outputs": [],
   "source": [
    "from common.io import read_onnx, get_onnx_inputs, get_onnx_outputs, read_numpy"
   ]
  },
  {
   "cell_type": "code",
   "execution_count": 7,
   "id": "fca5167c",
   "metadata": {
    "execution": {
     "iopub.execute_input": "2022-07-20T06:48:50.005115Z",
     "iopub.status.busy": "2022-07-20T06:48:50.004878Z",
     "iopub.status.idle": "2022-07-20T06:48:50.015138Z",
     "shell.execute_reply": "2022-07-20T06:48:50.014592Z"
    },
    "lines_to_next_cell": 0,
    "papermill": {
     "duration": 0.018491,
     "end_time": "2022-07-20T06:48:50.016601",
     "exception": false,
     "start_time": "2022-07-20T06:48:49.998110",
     "status": "completed"
    },
    "tags": []
   },
   "outputs": [],
   "source": [
    "onnx_inference_session = read_onnx(\n",
    "    datalake_root(P)\n",
    "    / \"models\"\n",
    "    / f\"nr_train_images={P['task.nr_train_images']}\"\n",
    "    / \"model.onnx\"\n",
    ")"
   ]
  },
  {
   "cell_type": "markdown",
   "id": "05b87398",
   "metadata": {
    "papermill": {
     "duration": 0.00432,
     "end_time": "2022-07-20T06:48:50.025719",
     "exception": false,
     "start_time": "2022-07-20T06:48:50.021399",
     "status": "completed"
    },
    "tags": []
   },
   "source": [
    "### Record structure of inputs and outputs for ONNX model\n",
    "\n",
    "(this should likely be done in training notebook)"
   ]
  },
  {
   "cell_type": "code",
   "execution_count": 8,
   "id": "83543131",
   "metadata": {
    "execution": {
     "iopub.execute_input": "2022-07-20T06:48:50.035665Z",
     "iopub.status.busy": "2022-07-20T06:48:50.035399Z",
     "iopub.status.idle": "2022-07-20T06:48:50.041573Z",
     "shell.execute_reply": "2022-07-20T06:48:50.040910Z"
    },
    "papermill": {
     "duration": 0.01539,
     "end_time": "2022-07-20T06:48:50.045409",
     "exception": false,
     "start_time": "2022-07-20T06:48:50.030019",
     "status": "completed"
    },
    "tags": []
   },
   "outputs": [
    {
     "name": "stdout",
     "output_type": "stream",
     "text": [
      "{\n",
      "  \"inputs\": [\n",
      "    {\n",
      "      \"name\": \"float_input_8x8_image\",\n",
      "      \"shape\": [\n",
      "        null,\n",
      "        64\n",
      "      ],\n",
      "      \"type\": \"tensor(float)\"\n",
      "    }\n",
      "  ],\n",
      "  \"outputs\": [\n",
      "    {\n",
      "      \"name\": \"output_label\",\n",
      "      \"shape\": [\n",
      "        null\n",
      "      ],\n",
      "      \"type\": \"tensor(int64)\"\n",
      "    },\n",
      "    {\n",
      "      \"name\": \"output_probability\",\n",
      "      \"shape\": [],\n",
      "      \"type\": \"seq(map(int64,tensor(float)))\"\n",
      "    }\n",
      "  ]\n",
      "}\n"
     ]
    }
   ],
   "source": [
    "import json\n",
    "\n",
    "onnx_io = json.dumps(\n",
    "    {\n",
    "        \"inputs\": get_onnx_inputs(onnx_inference_session),\n",
    "        \"outputs\": get_onnx_outputs(onnx_inference_session),\n",
    "    },\n",
    "    indent=2,\n",
    ")\n",
    "\n",
    "\n",
    "logger.log_artefact(\"onnx_io_structure.json\", onnx_io)\n",
    "print(onnx_io)"
   ]
  },
  {
   "cell_type": "markdown",
   "id": "1f40ea41",
   "metadata": {
    "papermill": {
     "duration": 0.004543,
     "end_time": "2022-07-20T06:48:50.054684",
     "exception": false,
     "start_time": "2022-07-20T06:48:50.050141",
     "status": "completed"
    },
    "tags": []
   },
   "source": [
    "### Evaluate model performance on evaluation data set"
   ]
  },
  {
   "cell_type": "code",
   "execution_count": 9,
   "id": "67dfab63",
   "metadata": {
    "execution": {
     "iopub.execute_input": "2022-07-20T06:48:50.064137Z",
     "iopub.status.busy": "2022-07-20T06:48:50.063881Z",
     "iopub.status.idle": "2022-07-20T06:48:50.068912Z",
     "shell.execute_reply": "2022-07-20T06:48:50.068347Z"
    },
    "papermill": {
     "duration": 0.013001,
     "end_time": "2022-07-20T06:48:50.071684",
     "exception": false,
     "start_time": "2022-07-20T06:48:50.058683",
     "status": "completed"
    },
    "tags": []
   },
   "outputs": [],
   "source": [
    "# load evaluation data\n",
    "X_test = read_numpy(datalake_root(P) / \"test-data\" / \"digits.numpy\")\n",
    "y_test = read_numpy(datalake_root(P) / \"test-data\" / \"labels.numpy\")"
   ]
  },
  {
   "cell_type": "code",
   "execution_count": 10,
   "id": "c9b46ddd",
   "metadata": {
    "execution": {
     "iopub.execute_input": "2022-07-20T06:48:50.081748Z",
     "iopub.status.busy": "2022-07-20T06:48:50.081511Z",
     "iopub.status.idle": "2022-07-20T06:48:50.094348Z",
     "shell.execute_reply": "2022-07-20T06:48:50.093790Z"
    },
    "papermill": {
     "duration": 0.019785,
     "end_time": "2022-07-20T06:48:50.096277",
     "exception": false,
     "start_time": "2022-07-20T06:48:50.076492",
     "status": "completed"
    },
    "tags": []
   },
   "outputs": [],
   "source": [
    "def get_model_outputs(X, onnx_inference_session):\n",
    "    y_pred_labels, y_pred_map = onnx_inference_session.run(\n",
    "        [\"output_label\", \"output_probability\"],\n",
    "        {\"float_input_8x8_image\": X.astype(np.float32)},\n",
    "    )\n",
    "    y_pred_probs = np.array(\n",
    "        [[probabilities[digit] for digit in range(10)] for probabilities in y_pred_map]\n",
    "    )\n",
    "\n",
    "    assert y_pred_labels.shape == (X.shape[0],)\n",
    "    assert y_pred_probs.shape == (X.shape[0], 10)\n",
    "\n",
    "    return y_pred_labels, y_pred_probs\n",
    "\n",
    "\n",
    "# Note: as shown in the training notebook, the predicted labels and probabilities\n",
    "# computed below need not be compatible.\n",
    "y_pred_labels_test, y_pred_probs_test = get_model_outputs(\n",
    "    X_test, onnx_inference_session\n",
    ")"
   ]
  },
  {
   "cell_type": "markdown",
   "id": "e646f18d",
   "metadata": {
    "papermill": {
     "duration": 0.009264,
     "end_time": "2022-07-20T06:48:50.109877",
     "exception": false,
     "start_time": "2022-07-20T06:48:50.100613",
     "status": "completed"
    },
    "tags": []
   },
   "source": [
    "### Confusion matrix"
   ]
  },
  {
   "cell_type": "code",
   "execution_count": 11,
   "id": "e2a3abde",
   "metadata": {
    "execution": {
     "iopub.execute_input": "2022-07-20T06:48:50.120357Z",
     "iopub.status.busy": "2022-07-20T06:48:50.120087Z",
     "iopub.status.idle": "2022-07-20T06:48:50.123097Z",
     "shell.execute_reply": "2022-07-20T06:48:50.122538Z"
    },
    "papermill": {
     "duration": 0.01121,
     "end_time": "2022-07-20T06:48:50.125761",
     "exception": false,
     "start_time": "2022-07-20T06:48:50.114551",
     "status": "completed"
    },
    "tags": []
   },
   "outputs": [],
   "source": [
    "# TODO"
   ]
  },
  {
   "cell_type": "markdown",
   "id": "41c32dfe",
   "metadata": {
    "papermill": {
     "duration": 0.004314,
     "end_time": "2022-07-20T06:48:50.134761",
     "exception": false,
     "start_time": "2022-07-20T06:48:50.130447",
     "status": "completed"
    },
    "tags": []
   },
   "source": [
    "### Plot predicted probabilities for each classifier over all evaluation digit images"
   ]
  },
  {
   "cell_type": "code",
   "execution_count": 12,
   "id": "98f6e865",
   "metadata": {
    "execution": {
     "iopub.execute_input": "2022-07-20T06:48:50.145008Z",
     "iopub.status.busy": "2022-07-20T06:48:50.144755Z",
     "iopub.status.idle": "2022-07-20T06:48:53.262835Z",
     "shell.execute_reply": "2022-07-20T06:48:53.262075Z"
    },
    "papermill": {
     "duration": 3.125396,
     "end_time": "2022-07-20T06:48:53.264547",
     "exception": false,
     "start_time": "2022-07-20T06:48:50.139151",
     "status": "completed"
    },
    "tags": []
   },
   "outputs": [
    {
     "data": {
      "image/png": "[encoded data removed]",
      "text/plain": [
       "<Figure size 1152x432 with 10 Axes>"
      ]
     },
     "metadata": {
      "needs_background": "light"
     },
     "output_type": "display_data"
    }
   ],
   "source": [
    "def plot_per_digit_probabilities(y_pred_probs):\n",
    "    fig, axs = plt.subplots(nrows=2, ncols=5, figsize=(16, 6))\n",
    "\n",
    "    for (r, c), digit, ax in zip(\n",
    "        it.product(range(2), range(5)), range(10), axs.reshape(-1)\n",
    "    ):\n",
    "        ax.hist(y_pred_probs_test[:, digit], bins=20)\n",
    "\n",
    "        ax.set_title(f\"Digit {digit}\")\n",
    "        if r == 1 and c == 2:\n",
    "            ax.set_xlabel(\"probability\", fontsize=16)\n",
    "\n",
    "        if c == 0:\n",
    "            ax.set_ylabel(\"counts\", fontsize=16)\n",
    "        ax.set_yscale(\"log\")\n",
    "\n",
    "    fig.tight_layout()\n",
    "    fig.suptitle(\n",
    "        f\"Distributions of prediction probabilities for each digit \"\n",
    "        f\"(on evaluation data, n={y_pred_probs.shape[0]})\",\n",
    "        fontsize=20,\n",
    "    )\n",
    "    fig.tight_layout()\n",
    "    fig.show()\n",
    "\n",
    "    return fig\n",
    "\n",
    "\n",
    "fig = plot_per_digit_probabilities(y_pred_probs_test)"
   ]
  },
  {
   "cell_type": "markdown",
   "id": "ed22900e",
   "metadata": {
    "papermill": {
     "duration": 0.005097,
     "end_time": "2022-07-20T06:48:53.275126",
     "exception": false,
     "start_time": "2022-07-20T06:48:53.270029",
     "status": "completed"
    },
    "tags": []
   },
   "source": [
    "From the above distributions we see that most digits have clear separation between\n",
    "high and lower probabilities. Morover, in each case there is roughly an order of\n",
    "magnitude more of digits with low probabilities. This is compatible with digits\n",
    "being roughly evenly distributed in the data."
   ]
  },
  {
   "cell_type": "code",
   "execution_count": 13,
   "id": "b89247ca",
   "metadata": {
    "execution": {
     "iopub.execute_input": "2022-07-20T06:48:53.286359Z",
     "iopub.status.busy": "2022-07-20T06:48:53.286108Z",
     "iopub.status.idle": "2022-07-20T06:48:53.750495Z",
     "shell.execute_reply": "2022-07-20T06:48:53.749319Z"
    },
    "papermill": {
     "duration": 0.472466,
     "end_time": "2022-07-20T06:48:53.752428",
     "exception": false,
     "start_time": "2022-07-20T06:48:53.279962",
     "status": "completed"
    },
    "tags": []
   },
   "outputs": [],
   "source": [
    "logger.log_figure(\"per-digit-probabilities.png\", fig)"
   ]
  },
  {
   "cell_type": "markdown",
   "id": "18abffc1",
   "metadata": {
    "papermill": {
     "duration": 0.004719,
     "end_time": "2022-07-20T06:48:53.762511",
     "exception": false,
     "start_time": "2022-07-20T06:48:53.757792",
     "status": "completed"
    },
    "tags": []
   },
   "source": [
    "### Plot ROC curves for individual one-vs-rest classifiers"
   ]
  },
  {
   "cell_type": "code",
   "execution_count": 14,
   "id": "86586773",
   "metadata": {
    "execution": {
     "iopub.execute_input": "2022-07-20T06:48:53.773420Z",
     "iopub.status.busy": "2022-07-20T06:48:53.773004Z",
     "iopub.status.idle": "2022-07-20T06:48:54.186840Z",
     "shell.execute_reply": "2022-07-20T06:48:54.186169Z"
    },
    "papermill": {
     "duration": 0.421606,
     "end_time": "2022-07-20T06:48:54.188913",
     "exception": false,
     "start_time": "2022-07-20T06:48:53.767307",
     "status": "completed"
    },
    "tags": []
   },
   "outputs": [],
   "source": [
    "from sklearn import metrics"
   ]
  },
  {
   "cell_type": "code",
   "execution_count": 15,
   "id": "3bd2d8d1",
   "metadata": {
    "execution": {
     "iopub.execute_input": "2022-07-20T06:48:54.200725Z",
     "iopub.status.busy": "2022-07-20T06:48:54.200105Z",
     "iopub.status.idle": "2022-07-20T06:48:55.341654Z",
     "shell.execute_reply": "2022-07-20T06:48:55.340974Z"
    },
    "papermill": {
     "duration": 1.149274,
     "end_time": "2022-07-20T06:48:55.343309",
     "exception": false,
     "start_time": "2022-07-20T06:48:54.194035",
     "status": "completed"
    },
    "tags": []
   },
   "outputs": [
    {
     "data": {
      "image/png": "[encoded data removed]",
      "text/plain": [
       "<Figure size 1152x576 with 10 Axes>"
      ]
     },
     "metadata": {
      "needs_background": "light"
     },
     "output_type": "display_data"
    }
   ],
   "source": [
    "def plot_roc_curves(y, y_pred_probs):\n",
    "    # based on example code\n",
    "    # https://scikit-learn.org/stable/auto_examples/model_selection/plot_roc.html\n",
    "\n",
    "    fig, axs = plt.subplots(nrows=2, ncols=5, figsize=(16, 8))\n",
    "\n",
    "    roc_auc_dict = {}\n",
    "\n",
    "    for (r, c), digit, ax in zip(\n",
    "        it.product(range(2), range(5)), range(10), axs.reshape(-1)\n",
    "    ):\n",
    "        fpr, tpr, _ = metrics.roc_curve(y == digit, y_pred_probs[:, digit])\n",
    "        auc = metrics.auc(fpr, tpr)\n",
    "        roc_auc_dict[str(digit)] = auc\n",
    "\n",
    "        ax.plot(fpr, tpr, label=f\"ROC AUC={round(auc, 3)}\")\n",
    "\n",
    "        ax.set_title(f\"\\nDigit {digit}\", fontsize=16)\n",
    "        if r == 1:\n",
    "            ax.set_xlabel(\"FPR\", fontsize=18)\n",
    "\n",
    "        if c == 0:\n",
    "            ax.set_ylabel(\"TPR\", fontsize=18)\n",
    "\n",
    "        ax.set_xlim([-0.05, 1.05])\n",
    "        ax.set_ylim([-0.05, 1.05])\n",
    "        ax.legend(loc=\"lower right\", frameon=False, fontsize=14)\n",
    "\n",
    "    fig.tight_layout()\n",
    "    fig.suptitle(\n",
    "        f\"ROC plots for one-vs-rest performances \"\n",
    "        f\"(on evaluation data, n={y_pred_probs_test.shape[1]}\",\n",
    "        fontsize=22,\n",
    "    )\n",
    "    fig.tight_layout()\n",
    "    fig.show()\n",
    "\n",
    "    return roc_auc_dict, fig\n",
    "\n",
    "\n",
    "roc_auc_dict, fig = plot_roc_curves(y_test, y_pred_probs_test)"
   ]
  },
  {
   "cell_type": "code",
   "execution_count": 16,
   "id": "0e62907c",
   "metadata": {
    "execution": {
     "iopub.execute_input": "2022-07-20T06:48:55.357869Z",
     "iopub.status.busy": "2022-07-20T06:48:55.357043Z",
     "iopub.status.idle": "2022-07-20T06:48:55.587363Z",
     "shell.execute_reply": "2022-07-20T06:48:55.586679Z"
    },
    "papermill": {
     "duration": 0.240512,
     "end_time": "2022-07-20T06:48:55.589547",
     "exception": false,
     "start_time": "2022-07-20T06:48:55.349035",
     "status": "completed"
    },
    "tags": []
   },
   "outputs": [],
   "source": [
    "logger.log_figure(\"per-digit-roc-curves.png\", fig)"
   ]
  },
  {
   "cell_type": "code",
   "execution_count": 17,
   "id": "4cf1373d",
   "metadata": {
    "execution": {
     "iopub.execute_input": "2022-07-20T06:48:55.603136Z",
     "iopub.status.busy": "2022-07-20T06:48:55.602870Z",
     "iopub.status.idle": "2022-07-20T06:48:55.607767Z",
     "shell.execute_reply": "2022-07-20T06:48:55.607147Z"
    },
    "papermill": {
     "duration": 0.01514,
     "end_time": "2022-07-20T06:48:55.611484",
     "exception": false,
     "start_time": "2022-07-20T06:48:55.596344",
     "status": "completed"
    },
    "tags": []
   },
   "outputs": [
    {
     "data": {
      "text/plain": [
       "{'0': 1.0,\n",
       " '1': 0.9992127460168697,\n",
       " '2': 1.0,\n",
       " '3': 0.9998125585754452,\n",
       " '4': 0.9991617131534827,\n",
       " '5': 0.998912839737582,\n",
       " '6': 0.999923792104862,\n",
       " '7': 0.9998475842097241,\n",
       " '8': 0.994561790668348,\n",
       " '9': 0.9990474013107759}"
      ]
     },
     "execution_count": 17,
     "metadata": {},
     "output_type": "execute_result"
    }
   ],
   "source": [
    "roc_auc_dict"
   ]
  },
  {
   "cell_type": "code",
   "execution_count": 18,
   "id": "5ce40c5d",
   "metadata": {
    "execution": {
     "iopub.execute_input": "2022-07-20T06:48:55.624672Z",
     "iopub.status.busy": "2022-07-20T06:48:55.624433Z",
     "iopub.status.idle": "2022-07-20T06:48:55.628827Z",
     "shell.execute_reply": "2022-07-20T06:48:55.628280Z"
    },
    "papermill": {
     "duration": 0.013965,
     "end_time": "2022-07-20T06:48:55.631940",
     "exception": false,
     "start_time": "2022-07-20T06:48:55.617975",
     "status": "completed"
    },
    "tags": []
   },
   "outputs": [
    {
     "name": "stdout",
     "output_type": "stream",
     "text": [
      " - Logging roc_auc_per_digit (json) : {'0': 1.0, '1': 0.9992127460168697, '2': 1.0, '3': 0.9998125585754452, '4': 0.9991617131534827, '5': 0.998912839737582, '6': 0.999923792104862, '7': 0.9998475842097241, '8': 0.994561790668348, '9': 0.9990474013107759}\n"
     ]
    }
   ],
   "source": [
    "logger.log_value(\"roc_auc_per_digit\", roc_auc_dict)"
   ]
  },
  {
   "cell_type": "markdown",
   "id": "9b540615",
   "metadata": {
    "papermill": {
     "duration": 0.005648,
     "end_time": "2022-07-20T06:48:55.643480",
     "exception": false,
     "start_time": "2022-07-20T06:48:55.637832",
     "status": "completed"
    },
    "tags": []
   },
   "source": [
    "### Compute and log mean ROC AUC score averaged over all digits"
   ]
  },
  {
   "cell_type": "code",
   "execution_count": 19,
   "id": "3595c723",
   "metadata": {
    "execution": {
     "iopub.execute_input": "2022-07-20T06:48:55.655901Z",
     "iopub.status.busy": "2022-07-20T06:48:55.655687Z",
     "iopub.status.idle": "2022-07-20T06:48:55.670308Z",
     "shell.execute_reply": "2022-07-20T06:48:55.669761Z"
    },
    "papermill": {
     "duration": 0.023043,
     "end_time": "2022-07-20T06:48:55.672763",
     "exception": false,
     "start_time": "2022-07-20T06:48:55.649720",
     "status": "completed"
    },
    "tags": []
   },
   "outputs": [
    {
     "name": "stdout",
     "output_type": "stream",
     "text": [
      " - Logging roc_auc_class_mean (float) : 0.999048042577709\n"
     ]
    }
   ],
   "source": [
    "roc_auc_macro = np.mean(list(roc_auc_dict.values()))\n",
    "\n",
    "logger.log_float(\"roc_auc_class_mean\", roc_auc_macro)\n",
    "\n",
    "# assert that the same value can be computed directly using sklearn\n",
    "assert roc_auc_macro == metrics.roc_auc_score(\n",
    "    y_test, y_pred_probs_test, average=\"macro\", multi_class=\"ovr\"\n",
    ")"
   ]
  },
  {
   "cell_type": "code",
   "execution_count": 20,
   "id": "6cc1dec6",
   "metadata": {
    "execution": {
     "iopub.execute_input": "2022-07-20T06:48:55.685362Z",
     "iopub.status.busy": "2022-07-20T06:48:55.685109Z",
     "iopub.status.idle": "2022-07-20T06:48:55.687844Z",
     "shell.execute_reply": "2022-07-20T06:48:55.687246Z"
    },
    "lines_to_next_cell": 0,
    "papermill": {
     "duration": 0.011989,
     "end_time": "2022-07-20T06:48:55.690700",
     "exception": false,
     "start_time": "2022-07-20T06:48:55.678711",
     "status": "completed"
    },
    "tags": []
   },
   "outputs": [],
   "source": [
    "# ---"
   ]
  },
  {
   "cell_type": "code",
   "execution_count": null,
   "id": "763831c6",
   "metadata": {
    "papermill": {
     "duration": 0.005954,
     "end_time": "2022-07-20T06:48:55.702185",
     "exception": false,
     "start_time": "2022-07-20T06:48:55.696231",
     "status": "completed"
    },
    "tags": []
   },
   "outputs": [],
   "source": []
  }
 ],
 "metadata": {
  "jupytext": {
   "cell_metadata_filter": "tags,-all",
   "main_language": "python",
   "notebook_metadata_filter": "-all"
  },
  "language_info": {
   "codemirror_mode": {
    "name": "ipython",
    "version": 3
   },
   "file_extension": ".py",
   "mimetype": "text/x-python",
   "name": "python",
   "nbconvert_exporter": "python",
   "pygments_lexer": "ipython3",
   "version": "3.8.10"
  },
  "papermill": {
   "default_parameters": {},
   "duration": 9.702124,
   "end_time": "2022-07-20T06:48:57.052147",
   "environment_variables": {},
   "exception": null,
   "input_path": "/home/host_user/workspace/mnist-demo-pipeline/mnist-demo-pipeline/notebooks/temp-notebook-00kbkgzr.ipynb",
   "output_path": "notebooks/benchmark-model.ipynb",
   "parameters": {
    "P": {
     "_opentelemetry_traceparent": "00-bf0e54157d24123a8dfdaf7635805574-5fa48b3f21b6e6c2-01",
     "pipeline.data_lake_root": "/pipeline-outputs/data-lake",
     "pipeline.github.actor": "matiasdahl",
     "pipeline.github.base_ref": "",
     "pipeline.github.event_name": "schedule",
     "pipeline.github.head_ref": "",
     "pipeline.github.job": "run-tests-pipeline-and-persist-pipeline-outputs",
     "pipeline.github.ref": "refs/heads/development",
     "pipeline.github.ref_name": "development",
     "pipeline.github.ref_type": "branch",
     "pipeline.github.repository": "pynb-dag-runner/mnist-digits-demo-pipeline",
     "pipeline.github.run_id": "2702768688",
     "pipeline.github.runner_name": "Hosted Agent",
     "pipeline.github.sha": "5a6f90a9473b3095841d5b5dc7b58f5f049a0f71",
     "pipeline.github.workflow": "Run automated tests, pipeline and deploy results to static reporting site",
     "pipeline.pipeline_run_id": "9b8eb2de-e507-4056-840d-1f7140a936d7",
     "pipeline.run_environment": "ci",
     "run.retry_nr": "0",
     "task.max_nr_retries": "1",
     "task.notebook": "notebooks/benchmark-model.py",
     "task.nr_train_images": 600,
     "task.num_cpus": 1,
     "task.timeout_s": "None"
    }
   },
   "start_time": "2022-07-20T06:48:47.350023",
   "version": "2.3.3"
  }
 },
 "nbformat": 4,
 "nbformat_minor": 5
}