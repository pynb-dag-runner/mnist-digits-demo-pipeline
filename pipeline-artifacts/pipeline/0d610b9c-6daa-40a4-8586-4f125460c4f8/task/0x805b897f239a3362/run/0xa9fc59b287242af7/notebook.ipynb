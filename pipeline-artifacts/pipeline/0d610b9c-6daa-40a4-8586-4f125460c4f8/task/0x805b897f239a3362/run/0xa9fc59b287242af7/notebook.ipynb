{
 "cells": [
  {
   "cell_type": "markdown",
   "id": "234e24c3",
   "metadata": {
    "papermill": {
     "duration": 0.005235,
     "end_time": "2022-07-10T06:45:47.809805",
     "exception": false,
     "start_time": "2022-07-10T06:45:47.804570",
     "status": "completed"
    },
    "tags": []
   },
   "source": [
    "# Train model\n",
    "\n",
    "The purpose of this notebook is:\n",
    "\n",
    "- Load all training data (images and labels).\n",
    "- Limit number of train images to `task.nr_train_images` (value provided as run parameter).\n",
    "- Train a support vector machine model using sklearn.\n",
    "- Persist the trained model using the ONNX format."
   ]
  },
  {
   "cell_type": "markdown",
   "id": "6bc8a4e6",
   "metadata": {
    "papermill": {
     "duration": 0.003276,
     "end_time": "2022-07-10T06:45:47.816396",
     "exception": false,
     "start_time": "2022-07-10T06:45:47.813120",
     "status": "completed"
    },
    "tags": []
   },
   "source": [
    "### Determine run parameters"
   ]
  },
  {
   "cell_type": "code",
   "execution_count": 1,
   "id": "b98a01e5",
   "metadata": {
    "execution": {
     "iopub.execute_input": "2022-07-10T06:45:47.824391Z",
     "iopub.status.busy": "2022-07-10T06:45:47.824051Z",
     "iopub.status.idle": "2022-07-10T06:45:47.839886Z",
     "shell.execute_reply": "2022-07-10T06:45:47.837882Z"
    },
    "lines_to_next_cell": 0,
    "papermill": {
     "duration": 0.021673,
     "end_time": "2022-07-10T06:45:47.841691",
     "exception": false,
     "start_time": "2022-07-10T06:45:47.820018",
     "status": "completed"
    },
    "tags": []
   },
   "outputs": [],
   "source": [
    "# ----------------- Parameters for interactive development --------------\n",
    "P = {\n",
    "    \"pipeline.data_lake_root\": \"/pipeline-outputs/data-lake\",\n",
    "    \"task.nr_train_images\": 600,\n",
    "}"
   ]
  },
  {
   "cell_type": "code",
   "execution_count": 2,
   "id": "b3c1f356",
   "metadata": {
    "execution": {
     "iopub.execute_input": "2022-07-10T06:45:47.849012Z",
     "iopub.status.busy": "2022-07-10T06:45:47.848792Z",
     "iopub.status.idle": "2022-07-10T06:45:47.852070Z",
     "shell.execute_reply": "2022-07-10T06:45:47.851524Z"
    },
    "lines_to_next_cell": 0,
    "papermill": {
     "duration": 0.009684,
     "end_time": "2022-07-10T06:45:47.854385",
     "exception": false,
     "start_time": "2022-07-10T06:45:47.844701",
     "status": "completed"
    },
    "tags": [
     "parameters"
    ]
   },
   "outputs": [],
   "source": [
    "# - During automated runs parameters will be injected in the below cell -"
   ]
  },
  {
   "cell_type": "code",
   "execution_count": 3,
   "id": "c61e7d56",
   "metadata": {
    "execution": {
     "iopub.execute_input": "2022-07-10T06:45:47.861671Z",
     "iopub.status.busy": "2022-07-10T06:45:47.861469Z",
     "iopub.status.idle": "2022-07-10T06:45:47.866122Z",
     "shell.execute_reply": "2022-07-10T06:45:47.865490Z"
    },
    "papermill": {
     "duration": 0.011543,
     "end_time": "2022-07-10T06:45:47.869089",
     "exception": false,
     "start_time": "2022-07-10T06:45:47.857546",
     "status": "completed"
    },
    "tags": [
     "injected-parameters"
    ]
   },
   "outputs": [],
   "source": [
    "# Parameters\n",
    "P = {\n",
    "    \"pipeline.data_lake_root\": \"/pipeline-outputs/data-lake\",\n",
    "    \"pipeline.run_environment\": \"ci\",\n",
    "    \"pipeline.pipeline_run_id\": \"0d610b9c-6daa-40a4-8586-4f125460c4f8\",\n",
    "    \"pipeline.github.repository\": \"pynb-dag-runner/mnist-digits-demo-pipeline\",\n",
    "    \"pipeline.github.workflow\": \"Run automated tests, pipeline and deploy results to static reporting site\",\n",
    "    \"pipeline.github.runner_name\": \"Hosted Agent\",\n",
    "    \"pipeline.github.run_id\": \"2643712272\",\n",
    "    \"pipeline.github.actor\": \"matiasdahl\",\n",
    "    \"pipeline.github.job\": \"run-tests-pipeline-and-persist-pipeline-outputs\",\n",
    "    \"pipeline.github.base_ref\": \"\",\n",
    "    \"pipeline.github.head_ref\": \"\",\n",
    "    \"pipeline.github.sha\": \"147a1be9916173fd4d2cd011d8d51e3411215850\",\n",
    "    \"pipeline.github.ref\": \"refs/heads/development\",\n",
    "    \"pipeline.github.ref_type\": \"branch\",\n",
    "    \"pipeline.github.ref_name\": \"development\",\n",
    "    \"pipeline.github.event_name\": \"schedule\",\n",
    "    \"task.nr_train_images\": 600,\n",
    "    \"task.notebook\": \"notebooks/train-model.py\",\n",
    "    \"task.max_nr_retries\": \"1\",\n",
    "    \"run.retry_nr\": \"0\",\n",
    "    \"task.timeout_s\": \"None\",\n",
    "    \"task.num_cpus\": 1,\n",
    "    \"_opentelemetry_traceparent\": \"00-9dec208046dff2972183177a1640172e-77b7d365a3d4fb57-01\",\n",
    "}\n"
   ]
  },
  {
   "cell_type": "code",
   "execution_count": 4,
   "id": "4ceec18b",
   "metadata": {
    "execution": {
     "iopub.execute_input": "2022-07-10T06:45:47.876607Z",
     "iopub.status.busy": "2022-07-10T06:45:47.876402Z",
     "iopub.status.idle": "2022-07-10T06:45:47.879749Z",
     "shell.execute_reply": "2022-07-10T06:45:47.879244Z"
    },
    "lines_to_next_cell": 0,
    "papermill": {
     "duration": 0.010282,
     "end_time": "2022-07-10T06:45:47.882549",
     "exception": false,
     "start_time": "2022-07-10T06:45:47.872267",
     "status": "completed"
    },
    "tags": []
   },
   "outputs": [],
   "source": [
    "# -----------------------------------------------------------------------"
   ]
  },
  {
   "cell_type": "markdown",
   "id": "f1deed9d",
   "metadata": {
    "papermill": {
     "duration": 0.003315,
     "end_time": "2022-07-10T06:45:47.889074",
     "exception": false,
     "start_time": "2022-07-10T06:45:47.885759",
     "status": "completed"
    },
    "tags": []
   },
   "source": [
    "---"
   ]
  },
  {
   "cell_type": "markdown",
   "id": "978e3988",
   "metadata": {
    "lines_to_next_cell": 2,
    "papermill": {
     "duration": 0.002795,
     "end_time": "2022-07-10T06:45:47.895465",
     "exception": false,
     "start_time": "2022-07-10T06:45:47.892670",
     "status": "completed"
    },
    "tags": []
   },
   "source": [
    "### Notebook code"
   ]
  },
  {
   "cell_type": "code",
   "execution_count": 5,
   "id": "6b6805f8",
   "metadata": {
    "execution": {
     "iopub.execute_input": "2022-07-10T06:45:47.902804Z",
     "iopub.status.busy": "2022-07-10T06:45:47.902546Z",
     "iopub.status.idle": "2022-07-10T06:45:48.472432Z",
     "shell.execute_reply": "2022-07-10T06:45:48.471380Z"
    },
    "papermill": {
     "duration": 0.576497,
     "end_time": "2022-07-10T06:45:48.475091",
     "exception": false,
     "start_time": "2022-07-10T06:45:47.898594",
     "status": "completed"
    },
    "tags": []
   },
   "outputs": [
    {
     "name": "stderr",
     "output_type": "stream",
     "text": [
      "2022-07-10 06:45:48,292\tINFO worker.py:842 -- Connecting to existing Ray cluster at address: 172.17.0.2:6379\n"
     ]
    }
   ],
   "source": [
    "from pynb_dag_runner.tasks.task_opentelemetry_logging import PydarLogger\n",
    "\n",
    "logger = PydarLogger(P)"
   ]
  },
  {
   "cell_type": "markdown",
   "id": "aa690eb1",
   "metadata": {
    "papermill": {
     "duration": 0.005009,
     "end_time": "2022-07-10T06:45:48.483988",
     "exception": false,
     "start_time": "2022-07-10T06:45:48.478979",
     "status": "completed"
    },
    "tags": []
   },
   "source": [
    "## Load and limit train data"
   ]
  },
  {
   "cell_type": "code",
   "execution_count": 6,
   "id": "1bc64e61",
   "metadata": {
    "execution": {
     "iopub.execute_input": "2022-07-10T06:45:48.492158Z",
     "iopub.status.busy": "2022-07-10T06:45:48.491766Z",
     "iopub.status.idle": "2022-07-10T06:45:49.024849Z",
     "shell.execute_reply": "2022-07-10T06:45:49.023980Z"
    },
    "papermill": {
     "duration": 0.540145,
     "end_time": "2022-07-10T06:45:49.027008",
     "exception": false,
     "start_time": "2022-07-10T06:45:48.486863",
     "status": "completed"
    },
    "tags": []
   },
   "outputs": [],
   "source": [
    "def load_and_limit_train_data(P):\n",
    "    from common.io import datalake_root, read_numpy\n",
    "    from sklearn.model_selection import train_test_split\n",
    "\n",
    "    X_train_all = read_numpy(datalake_root(P) / \"train-data\" / \"digits.numpy\")\n",
    "    y_train_all = read_numpy(datalake_root(P) / \"train-data\" / \"labels.numpy\")\n",
    "\n",
    "    assert isinstance(P[\"task.nr_train_images\"], int)\n",
    "\n",
    "    # Note: train_test_split will fail if split is 0 or 100%.\n",
    "    assert 0 < P[\"task.nr_train_images\"] < len(y_train_all)\n",
    "\n",
    "    X_train, _, y_train, _ = train_test_split(\n",
    "        X_train_all,\n",
    "        y_train_all,\n",
    "        train_size=P[\"task.nr_train_images\"],\n",
    "        test_size=None,\n",
    "        stratify=y_train_all,\n",
    "        shuffle=True,\n",
    "        random_state=123,\n",
    "    )\n",
    "\n",
    "    assert X_train.shape == (len(y_train), 8 * 8)\n",
    "    return X_train, y_train\n",
    "\n",
    "\n",
    "X_train, y_train = load_and_limit_train_data(P)"
   ]
  },
  {
   "cell_type": "markdown",
   "id": "93a0323d",
   "metadata": {
    "papermill": {
     "duration": 0.00459,
     "end_time": "2022-07-10T06:45:49.037472",
     "exception": false,
     "start_time": "2022-07-10T06:45:49.032882",
     "status": "completed"
    },
    "tags": []
   },
   "source": [
    "## Train support vector classifier model\n",
    "\n",
    "Below we assume that the hyperparameter $C$ is known.\n",
    "\n",
    "However, this should ideally be found by a hyperparameter search. That could be\n",
    "done in parallel on the Ray cluster, but this needs some more work. Ie., to use\n",
    "multiple cores in the notebook, those cores should be reserved when starting the\n",
    "notebook task (TODO).\n",
    "\n",
    "- https://docs.ray.io/en/latest/tune/key-concepts.html\n",
    "\n",
    "Note: cv-scores would need to be computed here, since they depend on the train data.\n",
    "After this notebook only the onnx-model is available."
   ]
  },
  {
   "cell_type": "code",
   "execution_count": 7,
   "id": "ddcc1b99",
   "metadata": {
    "execution": {
     "iopub.execute_input": "2022-07-10T06:45:49.045937Z",
     "iopub.status.busy": "2022-07-10T06:45:49.045644Z",
     "iopub.status.idle": "2022-07-10T06:45:49.169902Z",
     "shell.execute_reply": "2022-07-10T06:45:49.167115Z"
    },
    "papermill": {
     "duration": 0.131776,
     "end_time": "2022-07-10T06:45:49.172080",
     "exception": false,
     "start_time": "2022-07-10T06:45:49.040304",
     "status": "completed"
    },
    "tags": []
   },
   "outputs": [],
   "source": [
    "from sklearn.svm import SVC"
   ]
  },
  {
   "cell_type": "code",
   "execution_count": 8,
   "id": "e4c66b9f",
   "metadata": {
    "execution": {
     "iopub.execute_input": "2022-07-10T06:45:49.186044Z",
     "iopub.status.busy": "2022-07-10T06:45:49.185664Z",
     "iopub.status.idle": "2022-07-10T06:45:49.297372Z",
     "shell.execute_reply": "2022-07-10T06:45:49.296621Z"
    },
    "papermill": {
     "duration": 0.120703,
     "end_time": "2022-07-10T06:45:49.299332",
     "exception": false,
     "start_time": "2022-07-10T06:45:49.178629",
     "status": "completed"
    },
    "tags": []
   },
   "outputs": [
    {
     "data": {
      "text/plain": [
       "SVC(C=0.001, kernel='linear', probability=True)"
      ]
     },
     "execution_count": 8,
     "metadata": {},
     "output_type": "execute_result"
    }
   ],
   "source": [
    "model = SVC(C=0.001, kernel=\"linear\", probability=True)\n",
    "\n",
    "model.fit(X_train, y_train)"
   ]
  },
  {
   "cell_type": "markdown",
   "id": "2560f7ae",
   "metadata": {
    "papermill": {
     "duration": 0.004069,
     "end_time": "2022-07-10T06:45:49.307251",
     "exception": false,
     "start_time": "2022-07-10T06:45:49.303182",
     "status": "completed"
    },
    "tags": []
   },
   "source": [
    "### Q: Can the labels returned by `predict(..)` be computed from probabilities returned by the `predict_prob`-method?"
   ]
  },
  {
   "cell_type": "code",
   "execution_count": 9,
   "id": "145b2b5e",
   "metadata": {
    "execution": {
     "iopub.execute_input": "2022-07-10T06:45:49.315001Z",
     "iopub.status.busy": "2022-07-10T06:45:49.314523Z",
     "iopub.status.idle": "2022-07-10T06:45:49.372173Z",
     "shell.execute_reply": "2022-07-10T06:45:49.371524Z"
    },
    "papermill": {
     "duration": 0.06372,
     "end_time": "2022-07-10T06:45:49.373958",
     "exception": false,
     "start_time": "2022-07-10T06:45:49.310238",
     "status": "completed"
    },
    "tags": []
   },
   "outputs": [
    {
     "name": "stdout",
     "output_type": "stream",
     "text": [
      " - Logging nr_max_prob_neq_label (int) : 2\n"
     ]
    }
   ],
   "source": [
    "import numpy as np\n",
    "\n",
    "y_train_labels = model.predict(X_train)\n",
    "y_train_probabilities = model.predict_proba(X_train)\n",
    "assert y_train_probabilities.shape == (len(y_train), 10)\n",
    "\n",
    "y_train_max_prob_labels = np.argmax(y_train_probabilities, axis=1)\n",
    "assert y_train_labels.shape == y_train_max_prob_labels.shape == y_train.shape\n",
    "\n",
    "# If the predicted labels would coincide with the labels that have\n",
    "# maximum probability, the below number would be zero\n",
    "logger.log_int(\n",
    "    \"nr_max_prob_neq_label\", int(sum(y_train_max_prob_labels != y_train_labels))\n",
    ")"
   ]
  },
  {
   "cell_type": "markdown",
   "id": "0dc4de2e",
   "metadata": {
    "papermill": {
     "duration": 0.007598,
     "end_time": "2022-07-10T06:45:49.386243",
     "exception": false,
     "start_time": "2022-07-10T06:45:49.378645",
     "status": "completed"
    },
    "tags": []
   },
   "source": [
    "The explanation is (likely) explained in the SVC source, see\n",
    "[here](https://github.com/scikit-learn/scikit-learn/blob/main/sklearn/svm/_base.py).\n",
    "Namely, the outputs from `predict(..)` and `predict_proba(..)` may not in some\n",
    "cases be compatible since the latter is computed using cross-validation while\n",
    "the former is not. Thus, the above number need not be zero."
   ]
  },
  {
   "cell_type": "markdown",
   "id": "6c01b605",
   "metadata": {
    "papermill": {
     "duration": 0.003621,
     "end_time": "2022-07-10T06:45:49.393999",
     "exception": false,
     "start_time": "2022-07-10T06:45:49.390378",
     "status": "completed"
    },
    "tags": []
   },
   "source": [
    "## Persist model"
   ]
  },
  {
   "cell_type": "code",
   "execution_count": 10,
   "id": "5c14b9a3",
   "metadata": {
    "execution": {
     "iopub.execute_input": "2022-07-10T06:45:49.403071Z",
     "iopub.status.busy": "2022-07-10T06:45:49.402427Z",
     "iopub.status.idle": "2022-07-10T06:45:50.768658Z",
     "shell.execute_reply": "2022-07-10T06:45:50.767710Z"
    },
    "papermill": {
     "duration": 1.372491,
     "end_time": "2022-07-10T06:45:50.770626",
     "exception": false,
     "start_time": "2022-07-10T06:45:49.398135",
     "status": "completed"
    },
    "tags": []
   },
   "outputs": [
    {
     "name": "stderr",
     "output_type": "stream",
     "text": [
      "2022-07-10 06:45:50,033\tWARNING worker.py:1245 -- (ip=172.17.0.2) The agent on node 49e4d4c3e7a6 failed to be restarted 5 times. There are 3 possible problems if you see this error.\n",
      "  1. The dashboard might not display correct information on this node.\n",
      "  2. Metrics on this node won't be reported.\n",
      "  3. runtime_env APIs won't work.\n",
      "Check out the `dashboard_agent.log` to see the detailed failure messages.\n"
     ]
    }
   ],
   "source": [
    "from skl2onnx import convert_sklearn\n",
    "from skl2onnx.common.data_types import FloatTensorType\n",
    "\n",
    "#\n",
    "from common.io import datalake_root, write_onnx"
   ]
  },
  {
   "cell_type": "code",
   "execution_count": 11,
   "id": "683e8ece",
   "metadata": {
    "execution": {
     "iopub.execute_input": "2022-07-10T06:45:50.779776Z",
     "iopub.status.busy": "2022-07-10T06:45:50.779099Z",
     "iopub.status.idle": "2022-07-10T06:45:50.823332Z",
     "shell.execute_reply": "2022-07-10T06:45:50.822560Z"
    },
    "papermill": {
     "duration": 0.05093,
     "end_time": "2022-07-10T06:45:50.825198",
     "exception": false,
     "start_time": "2022-07-10T06:45:50.774268",
     "status": "completed"
    },
    "tags": []
   },
   "outputs": [],
   "source": [
    "# convert sklearn model into onnx and persist to data lake\n",
    "\n",
    "model_onnx = convert_sklearn(\n",
    "    model, initial_types=[(\"float_input_8x8_image\", FloatTensorType([None, 8 * 8]))]\n",
    ")\n",
    "write_onnx(\n",
    "    datalake_root(P)\n",
    "    / \"models\"\n",
    "    / f\"nr_train_images={P['task.nr_train_images']}\"\n",
    "    / \"model.onnx\",\n",
    "    model_onnx,\n",
    ")"
   ]
  },
  {
   "cell_type": "code",
   "execution_count": null,
   "id": "7f854c75",
   "metadata": {
    "papermill": {
     "duration": 0.004078,
     "end_time": "2022-07-10T06:45:50.832632",
     "exception": false,
     "start_time": "2022-07-10T06:45:50.828554",
     "status": "completed"
    },
    "tags": []
   },
   "outputs": [],
   "source": []
  }
 ],
 "metadata": {
  "jupytext": {
   "cell_metadata_filter": "tags,-all",
   "main_language": "python",
   "notebook_metadata_filter": "-all"
  },
  "language_info": {
   "codemirror_mode": {
    "name": "ipython",
    "version": 3
   },
   "file_extension": ".py",
   "mimetype": "text/x-python",
   "name": "python",
   "nbconvert_exporter": "python",
   "pygments_lexer": "ipython3",
   "version": "3.8.10"
  },
  "papermill": {
   "default_parameters": {},
   "duration": 5.298377,
   "end_time": "2022-07-10T06:45:51.855105",
   "environment_variables": {},
   "exception": null,
   "input_path": "/home/host_user/workspace/mnist-demo-pipeline/mnist-demo-pipeline/notebooks/temp-notebook-mspr9fee.ipynb",
   "output_path": "notebooks/train-model.ipynb",
   "parameters": {
    "P": {
     "_opentelemetry_traceparent": "00-9dec208046dff2972183177a1640172e-77b7d365a3d4fb57-01",
     "pipeline.data_lake_root": "/pipeline-outputs/data-lake",
     "pipeline.github.actor": "matiasdahl",
     "pipeline.github.base_ref": "",
     "pipeline.github.event_name": "schedule",
     "pipeline.github.head_ref": "",
     "pipeline.github.job": "run-tests-pipeline-and-persist-pipeline-outputs",
     "pipeline.github.ref": "refs/heads/development",
     "pipeline.github.ref_name": "development",
     "pipeline.github.ref_type": "branch",
     "pipeline.github.repository": "pynb-dag-runner/mnist-digits-demo-pipeline",
     "pipeline.github.run_id": "2643712272",
     "pipeline.github.runner_name": "Hosted Agent",
     "pipeline.github.sha": "147a1be9916173fd4d2cd011d8d51e3411215850",
     "pipeline.github.workflow": "Run automated tests, pipeline and deploy results to static reporting site",
     "pipeline.pipeline_run_id": "0d610b9c-6daa-40a4-8586-4f125460c4f8",
     "pipeline.run_environment": "ci",
     "run.retry_nr": "0",
     "task.max_nr_retries": "1",
     "task.notebook": "notebooks/train-model.py",
     "task.nr_train_images": 600,
     "task.num_cpus": 1,
     "task.timeout_s": "None"
    }
   },
   "start_time": "2022-07-10T06:45:46.556728",
   "version": "2.3.3"
  }
 },
 "nbformat": 4,
 "nbformat_minor": 5
}