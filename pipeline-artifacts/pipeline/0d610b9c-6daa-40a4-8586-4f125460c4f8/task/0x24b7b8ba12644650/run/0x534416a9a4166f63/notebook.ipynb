{
 "cells": [
  {
   "cell_type": "markdown",
   "id": "54a8798c",
   "metadata": {
    "papermill": {
     "duration": 0.005056,
     "end_time": "2022-07-10T06:45:54.428032",
     "exception": false,
     "start_time": "2022-07-10T06:45:54.422976",
     "status": "completed"
    },
    "tags": []
   },
   "source": [
    "# Train model\n",
    "\n",
    "The purpose of this notebook is:\n",
    "\n",
    "- Load all training data (images and labels).\n",
    "- Limit number of train images to `task.nr_train_images` (value provided as run parameter).\n",
    "- Train a support vector machine model using sklearn.\n",
    "- Persist the trained model using the ONNX format."
   ]
  },
  {
   "cell_type": "markdown",
   "id": "2571f0dc",
   "metadata": {
    "papermill": {
     "duration": 0.002852,
     "end_time": "2022-07-10T06:45:54.434599",
     "exception": false,
     "start_time": "2022-07-10T06:45:54.431747",
     "status": "completed"
    },
    "tags": []
   },
   "source": [
    "### Determine run parameters"
   ]
  },
  {
   "cell_type": "code",
   "execution_count": 1,
   "id": "c97d5af7",
   "metadata": {
    "execution": {
     "iopub.execute_input": "2022-07-10T06:45:54.442346Z",
     "iopub.status.busy": "2022-07-10T06:45:54.441991Z",
     "iopub.status.idle": "2022-07-10T06:45:54.449241Z",
     "shell.execute_reply": "2022-07-10T06:45:54.448683Z"
    },
    "lines_to_next_cell": 0,
    "papermill": {
     "duration": 0.014591,
     "end_time": "2022-07-10T06:45:54.452436",
     "exception": false,
     "start_time": "2022-07-10T06:45:54.437845",
     "status": "completed"
    },
    "tags": []
   },
   "outputs": [],
   "source": [
    "# ----------------- Parameters for interactive development --------------\n",
    "P = {\n",
    "    \"pipeline.data_lake_root\": \"/pipeline-outputs/data-lake\",\n",
    "    \"task.nr_train_images\": 600,\n",
    "}"
   ]
  },
  {
   "cell_type": "code",
   "execution_count": 2,
   "id": "35affc3a",
   "metadata": {
    "execution": {
     "iopub.execute_input": "2022-07-10T06:45:54.459607Z",
     "iopub.status.busy": "2022-07-10T06:45:54.459357Z",
     "iopub.status.idle": "2022-07-10T06:45:54.462372Z",
     "shell.execute_reply": "2022-07-10T06:45:54.461849Z"
    },
    "lines_to_next_cell": 0,
    "papermill": {
     "duration": 0.009538,
     "end_time": "2022-07-10T06:45:54.464919",
     "exception": false,
     "start_time": "2022-07-10T06:45:54.455381",
     "status": "completed"
    },
    "tags": [
     "parameters"
    ]
   },
   "outputs": [],
   "source": [
    "# - During automated runs parameters will be injected in the below cell -"
   ]
  },
  {
   "cell_type": "code",
   "execution_count": 3,
   "id": "c2b22fd7",
   "metadata": {
    "execution": {
     "iopub.execute_input": "2022-07-10T06:45:54.471819Z",
     "iopub.status.busy": "2022-07-10T06:45:54.471570Z",
     "iopub.status.idle": "2022-07-10T06:45:54.480803Z",
     "shell.execute_reply": "2022-07-10T06:45:54.480241Z"
    },
    "papermill": {
     "duration": 0.015988,
     "end_time": "2022-07-10T06:45:54.483700",
     "exception": false,
     "start_time": "2022-07-10T06:45:54.467712",
     "status": "completed"
    },
    "tags": [
     "injected-parameters"
    ]
   },
   "outputs": [],
   "source": [
    "# Parameters\n",
    "P = {\n",
    "    \"pipeline.data_lake_root\": \"/pipeline-outputs/data-lake\",\n",
    "    \"pipeline.run_environment\": \"ci\",\n",
    "    \"pipeline.pipeline_run_id\": \"0d610b9c-6daa-40a4-8586-4f125460c4f8\",\n",
    "    \"pipeline.github.repository\": \"pynb-dag-runner/mnist-digits-demo-pipeline\",\n",
    "    \"pipeline.github.workflow\": \"Run automated tests, pipeline and deploy results to static reporting site\",\n",
    "    \"pipeline.github.runner_name\": \"Hosted Agent\",\n",
    "    \"pipeline.github.run_id\": \"2643712272\",\n",
    "    \"pipeline.github.actor\": \"matiasdahl\",\n",
    "    \"pipeline.github.job\": \"run-tests-pipeline-and-persist-pipeline-outputs\",\n",
    "    \"pipeline.github.base_ref\": \"\",\n",
    "    \"pipeline.github.head_ref\": \"\",\n",
    "    \"pipeline.github.sha\": \"147a1be9916173fd4d2cd011d8d51e3411215850\",\n",
    "    \"pipeline.github.ref\": \"refs/heads/development\",\n",
    "    \"pipeline.github.ref_type\": \"branch\",\n",
    "    \"pipeline.github.ref_name\": \"development\",\n",
    "    \"pipeline.github.event_name\": \"schedule\",\n",
    "    \"task.nr_train_images\": 1000,\n",
    "    \"task.notebook\": \"notebooks/train-model.py\",\n",
    "    \"task.max_nr_retries\": \"1\",\n",
    "    \"run.retry_nr\": \"0\",\n",
    "    \"task.timeout_s\": \"None\",\n",
    "    \"task.num_cpus\": 1,\n",
    "    \"_opentelemetry_traceparent\": \"00-9dec208046dff2972183177a1640172e-a89d37f2a1f87080-01\",\n",
    "}\n"
   ]
  },
  {
   "cell_type": "code",
   "execution_count": 4,
   "id": "55516cbd",
   "metadata": {
    "execution": {
     "iopub.execute_input": "2022-07-10T06:45:54.491334Z",
     "iopub.status.busy": "2022-07-10T06:45:54.491108Z",
     "iopub.status.idle": "2022-07-10T06:45:54.493940Z",
     "shell.execute_reply": "2022-07-10T06:45:54.493435Z"
    },
    "lines_to_next_cell": 0,
    "papermill": {
     "duration": 0.009536,
     "end_time": "2022-07-10T06:45:54.496733",
     "exception": false,
     "start_time": "2022-07-10T06:45:54.487197",
     "status": "completed"
    },
    "tags": []
   },
   "outputs": [],
   "source": [
    "# -----------------------------------------------------------------------"
   ]
  },
  {
   "cell_type": "markdown",
   "id": "5179ed9a",
   "metadata": {
    "papermill": {
     "duration": 0.002691,
     "end_time": "2022-07-10T06:45:54.502520",
     "exception": false,
     "start_time": "2022-07-10T06:45:54.499829",
     "status": "completed"
    },
    "tags": []
   },
   "source": [
    "---"
   ]
  },
  {
   "cell_type": "markdown",
   "id": "09a9e206",
   "metadata": {
    "lines_to_next_cell": 2,
    "papermill": {
     "duration": 0.002775,
     "end_time": "2022-07-10T06:45:54.513341",
     "exception": false,
     "start_time": "2022-07-10T06:45:54.510566",
     "status": "completed"
    },
    "tags": []
   },
   "source": [
    "### Notebook code"
   ]
  },
  {
   "cell_type": "code",
   "execution_count": 5,
   "id": "f8787869",
   "metadata": {
    "execution": {
     "iopub.execute_input": "2022-07-10T06:45:54.520843Z",
     "iopub.status.busy": "2022-07-10T06:45:54.520589Z",
     "iopub.status.idle": "2022-07-10T06:45:55.036371Z",
     "shell.execute_reply": "2022-07-10T06:45:55.035653Z"
    },
    "papermill": {
     "duration": 0.522358,
     "end_time": "2022-07-10T06:45:55.038456",
     "exception": false,
     "start_time": "2022-07-10T06:45:54.516098",
     "status": "completed"
    },
    "tags": []
   },
   "outputs": [
    {
     "name": "stderr",
     "output_type": "stream",
     "text": [
      "2022-07-10 06:45:54,874\tINFO worker.py:842 -- Connecting to existing Ray cluster at address: 172.17.0.2:6379\n"
     ]
    }
   ],
   "source": [
    "from pynb_dag_runner.tasks.task_opentelemetry_logging import PydarLogger\n",
    "\n",
    "logger = PydarLogger(P)"
   ]
  },
  {
   "cell_type": "markdown",
   "id": "bd3a863f",
   "metadata": {
    "papermill": {
     "duration": 0.003317,
     "end_time": "2022-07-10T06:45:55.045653",
     "exception": false,
     "start_time": "2022-07-10T06:45:55.042336",
     "status": "completed"
    },
    "tags": []
   },
   "source": [
    "## Load and limit train data"
   ]
  },
  {
   "cell_type": "code",
   "execution_count": 6,
   "id": "4594be60",
   "metadata": {
    "execution": {
     "iopub.execute_input": "2022-07-10T06:45:55.052807Z",
     "iopub.status.busy": "2022-07-10T06:45:55.052469Z",
     "iopub.status.idle": "2022-07-10T06:45:55.452750Z",
     "shell.execute_reply": "2022-07-10T06:45:55.451613Z"
    },
    "papermill": {
     "duration": 0.406056,
     "end_time": "2022-07-10T06:45:55.454598",
     "exception": false,
     "start_time": "2022-07-10T06:45:55.048542",
     "status": "completed"
    },
    "tags": []
   },
   "outputs": [],
   "source": [
    "def load_and_limit_train_data(P):\n",
    "    from common.io import datalake_root, read_numpy\n",
    "    from sklearn.model_selection import train_test_split\n",
    "\n",
    "    X_train_all = read_numpy(datalake_root(P) / \"train-data\" / \"digits.numpy\")\n",
    "    y_train_all = read_numpy(datalake_root(P) / \"train-data\" / \"labels.numpy\")\n",
    "\n",
    "    assert isinstance(P[\"task.nr_train_images\"], int)\n",
    "\n",
    "    # Note: train_test_split will fail if split is 0 or 100%.\n",
    "    assert 0 < P[\"task.nr_train_images\"] < len(y_train_all)\n",
    "\n",
    "    X_train, _, y_train, _ = train_test_split(\n",
    "        X_train_all,\n",
    "        y_train_all,\n",
    "        train_size=P[\"task.nr_train_images\"],\n",
    "        test_size=None,\n",
    "        stratify=y_train_all,\n",
    "        shuffle=True,\n",
    "        random_state=123,\n",
    "    )\n",
    "\n",
    "    assert X_train.shape == (len(y_train), 8 * 8)\n",
    "    return X_train, y_train\n",
    "\n",
    "\n",
    "X_train, y_train = load_and_limit_train_data(P)"
   ]
  },
  {
   "cell_type": "markdown",
   "id": "212a6bdd",
   "metadata": {
    "papermill": {
     "duration": 0.002917,
     "end_time": "2022-07-10T06:45:55.463185",
     "exception": false,
     "start_time": "2022-07-10T06:45:55.460268",
     "status": "completed"
    },
    "tags": []
   },
   "source": [
    "## Train support vector classifier model\n",
    "\n",
    "Below we assume that the hyperparameter $C$ is known.\n",
    "\n",
    "However, this should ideally be found by a hyperparameter search. That could be\n",
    "done in parallel on the Ray cluster, but this needs some more work. Ie., to use\n",
    "multiple cores in the notebook, those cores should be reserved when starting the\n",
    "notebook task (TODO).\n",
    "\n",
    "- https://docs.ray.io/en/latest/tune/key-concepts.html\n",
    "\n",
    "Note: cv-scores would need to be computed here, since they depend on the train data.\n",
    "After this notebook only the onnx-model is available."
   ]
  },
  {
   "cell_type": "code",
   "execution_count": 7,
   "id": "8323ade0",
   "metadata": {
    "execution": {
     "iopub.execute_input": "2022-07-10T06:45:55.470703Z",
     "iopub.status.busy": "2022-07-10T06:45:55.470402Z",
     "iopub.status.idle": "2022-07-10T06:45:55.491457Z",
     "shell.execute_reply": "2022-07-10T06:45:55.490829Z"
    },
    "papermill": {
     "duration": 0.027243,
     "end_time": "2022-07-10T06:45:55.493295",
     "exception": false,
     "start_time": "2022-07-10T06:45:55.466052",
     "status": "completed"
    },
    "tags": []
   },
   "outputs": [],
   "source": [
    "from sklearn.svm import SVC"
   ]
  },
  {
   "cell_type": "code",
   "execution_count": 8,
   "id": "8962db3d",
   "metadata": {
    "execution": {
     "iopub.execute_input": "2022-07-10T06:45:55.501370Z",
     "iopub.status.busy": "2022-07-10T06:45:55.500968Z",
     "iopub.status.idle": "2022-07-10T06:45:55.650012Z",
     "shell.execute_reply": "2022-07-10T06:45:55.649291Z"
    },
    "papermill": {
     "duration": 0.156051,
     "end_time": "2022-07-10T06:45:55.652828",
     "exception": false,
     "start_time": "2022-07-10T06:45:55.496777",
     "status": "completed"
    },
    "tags": []
   },
   "outputs": [
    {
     "data": {
      "text/plain": [
       "SVC(C=0.001, kernel='linear', probability=True)"
      ]
     },
     "execution_count": 8,
     "metadata": {},
     "output_type": "execute_result"
    }
   ],
   "source": [
    "model = SVC(C=0.001, kernel=\"linear\", probability=True)\n",
    "\n",
    "model.fit(X_train, y_train)"
   ]
  },
  {
   "cell_type": "markdown",
   "id": "4b467463",
   "metadata": {
    "papermill": {
     "duration": 0.003724,
     "end_time": "2022-07-10T06:45:55.660060",
     "exception": false,
     "start_time": "2022-07-10T06:45:55.656336",
     "status": "completed"
    },
    "tags": []
   },
   "source": [
    "### Q: Can the labels returned by `predict(..)` be computed from probabilities returned by the `predict_prob`-method?"
   ]
  },
  {
   "cell_type": "code",
   "execution_count": 9,
   "id": "e69e76e6",
   "metadata": {
    "execution": {
     "iopub.execute_input": "2022-07-10T06:45:55.667908Z",
     "iopub.status.busy": "2022-07-10T06:45:55.667394Z",
     "iopub.status.idle": "2022-07-10T06:45:55.740305Z",
     "shell.execute_reply": "2022-07-10T06:45:55.739352Z"
    },
    "papermill": {
     "duration": 0.078877,
     "end_time": "2022-07-10T06:45:55.742095",
     "exception": false,
     "start_time": "2022-07-10T06:45:55.663218",
     "status": "completed"
    },
    "tags": []
   },
   "outputs": [
    {
     "name": "stdout",
     "output_type": "stream",
     "text": [
      " - Logging nr_max_prob_neq_label (int) : 1\n"
     ]
    }
   ],
   "source": [
    "import numpy as np\n",
    "\n",
    "y_train_labels = model.predict(X_train)\n",
    "y_train_probabilities = model.predict_proba(X_train)\n",
    "assert y_train_probabilities.shape == (len(y_train), 10)\n",
    "\n",
    "y_train_max_prob_labels = np.argmax(y_train_probabilities, axis=1)\n",
    "assert y_train_labels.shape == y_train_max_prob_labels.shape == y_train.shape\n",
    "\n",
    "# If the predicted labels would coincide with the labels that have\n",
    "# maximum probability, the below number would be zero\n",
    "logger.log_int(\n",
    "    \"nr_max_prob_neq_label\", int(sum(y_train_max_prob_labels != y_train_labels))\n",
    ")"
   ]
  },
  {
   "cell_type": "markdown",
   "id": "516e9346",
   "metadata": {
    "papermill": {
     "duration": 0.003306,
     "end_time": "2022-07-10T06:45:55.749304",
     "exception": false,
     "start_time": "2022-07-10T06:45:55.745998",
     "status": "completed"
    },
    "tags": []
   },
   "source": [
    "The explanation is (likely) explained in the SVC source, see\n",
    "[here](https://github.com/scikit-learn/scikit-learn/blob/main/sklearn/svm/_base.py).\n",
    "Namely, the outputs from `predict(..)` and `predict_proba(..)` may not in some\n",
    "cases be compatible since the latter is computed using cross-validation while\n",
    "the former is not. Thus, the above number need not be zero."
   ]
  },
  {
   "cell_type": "markdown",
   "id": "c3fefdf9",
   "metadata": {
    "papermill": {
     "duration": 0.003263,
     "end_time": "2022-07-10T06:45:55.756180",
     "exception": false,
     "start_time": "2022-07-10T06:45:55.752917",
     "status": "completed"
    },
    "tags": []
   },
   "source": [
    "## Persist model"
   ]
  },
  {
   "cell_type": "code",
   "execution_count": 10,
   "id": "32caf536",
   "metadata": {
    "execution": {
     "iopub.execute_input": "2022-07-10T06:45:55.764118Z",
     "iopub.status.busy": "2022-07-10T06:45:55.763707Z",
     "iopub.status.idle": "2022-07-10T06:45:56.549044Z",
     "shell.execute_reply": "2022-07-10T06:45:56.548168Z"
    },
    "papermill": {
     "duration": 0.791439,
     "end_time": "2022-07-10T06:45:56.551063",
     "exception": false,
     "start_time": "2022-07-10T06:45:55.759624",
     "status": "completed"
    },
    "tags": []
   },
   "outputs": [],
   "source": [
    "from skl2onnx import convert_sklearn\n",
    "from skl2onnx.common.data_types import FloatTensorType\n",
    "\n",
    "#\n",
    "from common.io import datalake_root, write_onnx"
   ]
  },
  {
   "cell_type": "code",
   "execution_count": 11,
   "id": "e6a94c35",
   "metadata": {
    "execution": {
     "iopub.execute_input": "2022-07-10T06:45:56.574135Z",
     "iopub.status.busy": "2022-07-10T06:45:56.573343Z",
     "iopub.status.idle": "2022-07-10T06:45:56.628210Z",
     "shell.execute_reply": "2022-07-10T06:45:56.627565Z"
    },
    "papermill": {
     "duration": 0.070678,
     "end_time": "2022-07-10T06:45:56.629914",
     "exception": false,
     "start_time": "2022-07-10T06:45:56.559236",
     "status": "completed"
    },
    "tags": []
   },
   "outputs": [],
   "source": [
    "# convert sklearn model into onnx and persist to data lake\n",
    "\n",
    "model_onnx = convert_sklearn(\n",
    "    model, initial_types=[(\"float_input_8x8_image\", FloatTensorType([None, 8 * 8]))]\n",
    ")\n",
    "write_onnx(\n",
    "    datalake_root(P)\n",
    "    / \"models\"\n",
    "    / f\"nr_train_images={P['task.nr_train_images']}\"\n",
    "    / \"model.onnx\",\n",
    "    model_onnx,\n",
    ")"
   ]
  },
  {
   "cell_type": "code",
   "execution_count": null,
   "id": "3cd59b08",
   "metadata": {
    "papermill": {
     "duration": 0.003387,
     "end_time": "2022-07-10T06:45:56.638277",
     "exception": false,
     "start_time": "2022-07-10T06:45:56.634890",
     "status": "completed"
    },
    "tags": []
   },
   "outputs": [],
   "source": []
  }
 ],
 "metadata": {
  "jupytext": {
   "cell_metadata_filter": "tags,-all",
   "main_language": "python",
   "notebook_metadata_filter": "-all"
  },
  "language_info": {
   "codemirror_mode": {
    "name": "ipython",
    "version": 3
   },
   "file_extension": ".py",
   "mimetype": "text/x-python",
   "name": "python",
   "nbconvert_exporter": "python",
   "pygments_lexer": "ipython3",
   "version": "3.8.10"
  },
  "papermill": {
   "default_parameters": {},
   "duration": 4.605426,
   "end_time": "2022-07-10T06:45:57.766944",
   "environment_variables": {},
   "exception": null,
   "input_path": "/home/host_user/workspace/mnist-demo-pipeline/mnist-demo-pipeline/notebooks/temp-notebook-p2l6h8l9.ipynb",
   "output_path": "notebooks/train-model.ipynb",
   "parameters": {
    "P": {
     "_opentelemetry_traceparent": "00-9dec208046dff2972183177a1640172e-a89d37f2a1f87080-01",
     "pipeline.data_lake_root": "/pipeline-outputs/data-lake",
     "pipeline.github.actor": "matiasdahl",
     "pipeline.github.base_ref": "",
     "pipeline.github.event_name": "schedule",
     "pipeline.github.head_ref": "",
     "pipeline.github.job": "run-tests-pipeline-and-persist-pipeline-outputs",
     "pipeline.github.ref": "refs/heads/development",
     "pipeline.github.ref_name": "development",
     "pipeline.github.ref_type": "branch",
     "pipeline.github.repository": "pynb-dag-runner/mnist-digits-demo-pipeline",
     "pipeline.github.run_id": "2643712272",
     "pipeline.github.runner_name": "Hosted Agent",
     "pipeline.github.sha": "147a1be9916173fd4d2cd011d8d51e3411215850",
     "pipeline.github.workflow": "Run automated tests, pipeline and deploy results to static reporting site",
     "pipeline.pipeline_run_id": "0d610b9c-6daa-40a4-8586-4f125460c4f8",
     "pipeline.run_environment": "ci",
     "run.retry_nr": "0",
     "task.max_nr_retries": "1",
     "task.notebook": "notebooks/train-model.py",
     "task.nr_train_images": 1000,
     "task.num_cpus": 1,
     "task.timeout_s": "None"
    }
   },
   "start_time": "2022-07-10T06:45:53.161518",
   "version": "2.3.3"
  }
 },
 "nbformat": 4,
 "nbformat_minor": 5
}