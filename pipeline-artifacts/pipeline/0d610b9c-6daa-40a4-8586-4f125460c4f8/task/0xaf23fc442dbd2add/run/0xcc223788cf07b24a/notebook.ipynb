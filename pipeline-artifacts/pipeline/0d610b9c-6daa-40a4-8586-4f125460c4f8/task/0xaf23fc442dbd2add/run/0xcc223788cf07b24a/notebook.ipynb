{
 "cells": [
  {
   "cell_type": "markdown",
   "id": "e4d0f37a",
   "metadata": {
    "papermill": {
     "duration": 0.004724,
     "end_time": "2022-07-10T06:45:53.146272",
     "exception": false,
     "start_time": "2022-07-10T06:45:53.141548",
     "status": "completed"
    },
    "tags": []
   },
   "source": [
    "# Train model\n",
    "\n",
    "The purpose of this notebook is:\n",
    "\n",
    "- Load all training data (images and labels).\n",
    "- Limit number of train images to `task.nr_train_images` (value provided as run parameter).\n",
    "- Train a support vector machine model using sklearn.\n",
    "- Persist the trained model using the ONNX format."
   ]
  },
  {
   "cell_type": "markdown",
   "id": "b4a67739",
   "metadata": {
    "papermill": {
     "duration": 0.003208,
     "end_time": "2022-07-10T06:45:53.153261",
     "exception": false,
     "start_time": "2022-07-10T06:45:53.150053",
     "status": "completed"
    },
    "tags": []
   },
   "source": [
    "### Determine run parameters"
   ]
  },
  {
   "cell_type": "code",
   "execution_count": 1,
   "id": "4b642dcf",
   "metadata": {
    "execution": {
     "iopub.execute_input": "2022-07-10T06:45:53.163060Z",
     "iopub.status.busy": "2022-07-10T06:45:53.161054Z",
     "iopub.status.idle": "2022-07-10T06:45:53.182263Z",
     "shell.execute_reply": "2022-07-10T06:45:53.181150Z"
    },
    "lines_to_next_cell": 0,
    "papermill": {
     "duration": 0.027988,
     "end_time": "2022-07-10T06:45:53.184731",
     "exception": false,
     "start_time": "2022-07-10T06:45:53.156743",
     "status": "completed"
    },
    "tags": []
   },
   "outputs": [],
   "source": [
    "# ----------------- Parameters for interactive development --------------\n",
    "P = {\n",
    "    \"pipeline.data_lake_root\": \"/pipeline-outputs/data-lake\",\n",
    "    \"task.nr_train_images\": 600,\n",
    "}"
   ]
  },
  {
   "cell_type": "code",
   "execution_count": 2,
   "id": "197b7fdb",
   "metadata": {
    "execution": {
     "iopub.execute_input": "2022-07-10T06:45:53.192890Z",
     "iopub.status.busy": "2022-07-10T06:45:53.192319Z",
     "iopub.status.idle": "2022-07-10T06:45:53.196692Z",
     "shell.execute_reply": "2022-07-10T06:45:53.195894Z"
    },
    "lines_to_next_cell": 0,
    "papermill": {
     "duration": 0.011088,
     "end_time": "2022-07-10T06:45:53.199176",
     "exception": false,
     "start_time": "2022-07-10T06:45:53.188088",
     "status": "completed"
    },
    "tags": [
     "parameters"
    ]
   },
   "outputs": [],
   "source": [
    "# - During automated runs parameters will be injected in the below cell -"
   ]
  },
  {
   "cell_type": "code",
   "execution_count": 3,
   "id": "e2d3bd90",
   "metadata": {
    "execution": {
     "iopub.execute_input": "2022-07-10T06:45:53.206353Z",
     "iopub.status.busy": "2022-07-10T06:45:53.206127Z",
     "iopub.status.idle": "2022-07-10T06:45:53.211145Z",
     "shell.execute_reply": "2022-07-10T06:45:53.210630Z"
    },
    "papermill": {
     "duration": 0.012084,
     "end_time": "2022-07-10T06:45:53.214208",
     "exception": false,
     "start_time": "2022-07-10T06:45:53.202124",
     "status": "completed"
    },
    "tags": [
     "injected-parameters"
    ]
   },
   "outputs": [],
   "source": [
    "# Parameters\n",
    "P = {\n",
    "    \"pipeline.data_lake_root\": \"/pipeline-outputs/data-lake\",\n",
    "    \"pipeline.run_environment\": \"ci\",\n",
    "    \"pipeline.pipeline_run_id\": \"0d610b9c-6daa-40a4-8586-4f125460c4f8\",\n",
    "    \"pipeline.github.repository\": \"pynb-dag-runner/mnist-digits-demo-pipeline\",\n",
    "    \"pipeline.github.workflow\": \"Run automated tests, pipeline and deploy results to static reporting site\",\n",
    "    \"pipeline.github.runner_name\": \"Hosted Agent\",\n",
    "    \"pipeline.github.run_id\": \"2643712272\",\n",
    "    \"pipeline.github.actor\": \"matiasdahl\",\n",
    "    \"pipeline.github.job\": \"run-tests-pipeline-and-persist-pipeline-outputs\",\n",
    "    \"pipeline.github.base_ref\": \"\",\n",
    "    \"pipeline.github.head_ref\": \"\",\n",
    "    \"pipeline.github.sha\": \"147a1be9916173fd4d2cd011d8d51e3411215850\",\n",
    "    \"pipeline.github.ref\": \"refs/heads/development\",\n",
    "    \"pipeline.github.ref_type\": \"branch\",\n",
    "    \"pipeline.github.ref_name\": \"development\",\n",
    "    \"pipeline.github.event_name\": \"schedule\",\n",
    "    \"task.nr_train_images\": 800,\n",
    "    \"task.notebook\": \"notebooks/train-model.py\",\n",
    "    \"task.max_nr_retries\": \"1\",\n",
    "    \"run.retry_nr\": \"0\",\n",
    "    \"task.timeout_s\": \"None\",\n",
    "    \"task.num_cpus\": 1,\n",
    "    \"_opentelemetry_traceparent\": \"00-9dec208046dff2972183177a1640172e-137ba25998434e95-01\",\n",
    "}\n"
   ]
  },
  {
   "cell_type": "code",
   "execution_count": 4,
   "id": "1a1e0674",
   "metadata": {
    "execution": {
     "iopub.execute_input": "2022-07-10T06:45:53.221440Z",
     "iopub.status.busy": "2022-07-10T06:45:53.221219Z",
     "iopub.status.idle": "2022-07-10T06:45:53.224004Z",
     "shell.execute_reply": "2022-07-10T06:45:53.223473Z"
    },
    "lines_to_next_cell": 0,
    "papermill": {
     "duration": 0.009955,
     "end_time": "2022-07-10T06:45:53.227121",
     "exception": false,
     "start_time": "2022-07-10T06:45:53.217166",
     "status": "completed"
    },
    "tags": []
   },
   "outputs": [],
   "source": [
    "# -----------------------------------------------------------------------"
   ]
  },
  {
   "cell_type": "markdown",
   "id": "18cfc648",
   "metadata": {
    "papermill": {
     "duration": 0.003371,
     "end_time": "2022-07-10T06:45:53.233549",
     "exception": false,
     "start_time": "2022-07-10T06:45:53.230178",
     "status": "completed"
    },
    "tags": []
   },
   "source": [
    "---"
   ]
  },
  {
   "cell_type": "markdown",
   "id": "b7eb8d72",
   "metadata": {
    "lines_to_next_cell": 2,
    "papermill": {
     "duration": 0.003322,
     "end_time": "2022-07-10T06:45:53.239888",
     "exception": false,
     "start_time": "2022-07-10T06:45:53.236566",
     "status": "completed"
    },
    "tags": []
   },
   "source": [
    "### Notebook code"
   ]
  },
  {
   "cell_type": "code",
   "execution_count": 5,
   "id": "fd758aaa",
   "metadata": {
    "execution": {
     "iopub.execute_input": "2022-07-10T06:45:53.247295Z",
     "iopub.status.busy": "2022-07-10T06:45:53.247067Z",
     "iopub.status.idle": "2022-07-10T06:45:53.801734Z",
     "shell.execute_reply": "2022-07-10T06:45:53.801104Z"
    },
    "papermill": {
     "duration": 0.560802,
     "end_time": "2022-07-10T06:45:53.803806",
     "exception": false,
     "start_time": "2022-07-10T06:45:53.243004",
     "status": "completed"
    },
    "tags": []
   },
   "outputs": [
    {
     "name": "stderr",
     "output_type": "stream",
     "text": [
      "2022-07-10 06:45:53,626\tINFO worker.py:842 -- Connecting to existing Ray cluster at address: 172.17.0.2:6379\n"
     ]
    }
   ],
   "source": [
    "from pynb_dag_runner.tasks.task_opentelemetry_logging import PydarLogger\n",
    "\n",
    "logger = PydarLogger(P)"
   ]
  },
  {
   "cell_type": "markdown",
   "id": "a9766dbf",
   "metadata": {
    "papermill": {
     "duration": 0.003434,
     "end_time": "2022-07-10T06:45:53.810663",
     "exception": false,
     "start_time": "2022-07-10T06:45:53.807229",
     "status": "completed"
    },
    "tags": []
   },
   "source": [
    "## Load and limit train data"
   ]
  },
  {
   "cell_type": "code",
   "execution_count": 6,
   "id": "e21609be",
   "metadata": {
    "execution": {
     "iopub.execute_input": "2022-07-10T06:45:53.817894Z",
     "iopub.status.busy": "2022-07-10T06:45:53.817436Z",
     "iopub.status.idle": "2022-07-10T06:45:54.201673Z",
     "shell.execute_reply": "2022-07-10T06:45:54.200958Z"
    },
    "papermill": {
     "duration": 0.390282,
     "end_time": "2022-07-10T06:45:54.203711",
     "exception": false,
     "start_time": "2022-07-10T06:45:53.813429",
     "status": "completed"
    },
    "tags": []
   },
   "outputs": [],
   "source": [
    "def load_and_limit_train_data(P):\n",
    "    from common.io import datalake_root, read_numpy\n",
    "    from sklearn.model_selection import train_test_split\n",
    "\n",
    "    X_train_all = read_numpy(datalake_root(P) / \"train-data\" / \"digits.numpy\")\n",
    "    y_train_all = read_numpy(datalake_root(P) / \"train-data\" / \"labels.numpy\")\n",
    "\n",
    "    assert isinstance(P[\"task.nr_train_images\"], int)\n",
    "\n",
    "    # Note: train_test_split will fail if split is 0 or 100%.\n",
    "    assert 0 < P[\"task.nr_train_images\"] < len(y_train_all)\n",
    "\n",
    "    X_train, _, y_train, _ = train_test_split(\n",
    "        X_train_all,\n",
    "        y_train_all,\n",
    "        train_size=P[\"task.nr_train_images\"],\n",
    "        test_size=None,\n",
    "        stratify=y_train_all,\n",
    "        shuffle=True,\n",
    "        random_state=123,\n",
    "    )\n",
    "\n",
    "    assert X_train.shape == (len(y_train), 8 * 8)\n",
    "    return X_train, y_train\n",
    "\n",
    "\n",
    "X_train, y_train = load_and_limit_train_data(P)"
   ]
  },
  {
   "cell_type": "markdown",
   "id": "1fd71fa4",
   "metadata": {
    "papermill": {
     "duration": 0.003378,
     "end_time": "2022-07-10T06:45:54.212335",
     "exception": false,
     "start_time": "2022-07-10T06:45:54.208957",
     "status": "completed"
    },
    "tags": []
   },
   "source": [
    "## Train support vector classifier model\n",
    "\n",
    "Below we assume that the hyperparameter $C$ is known.\n",
    "\n",
    "However, this should ideally be found by a hyperparameter search. That could be\n",
    "done in parallel on the Ray cluster, but this needs some more work. Ie., to use\n",
    "multiple cores in the notebook, those cores should be reserved when starting the\n",
    "notebook task (TODO).\n",
    "\n",
    "- https://docs.ray.io/en/latest/tune/key-concepts.html\n",
    "\n",
    "Note: cv-scores would need to be computed here, since they depend on the train data.\n",
    "After this notebook only the onnx-model is available."
   ]
  },
  {
   "cell_type": "code",
   "execution_count": 7,
   "id": "59fa74c2",
   "metadata": {
    "execution": {
     "iopub.execute_input": "2022-07-10T06:45:54.222543Z",
     "iopub.status.busy": "2022-07-10T06:45:54.222255Z",
     "iopub.status.idle": "2022-07-10T06:45:54.243573Z",
     "shell.execute_reply": "2022-07-10T06:45:54.242854Z"
    },
    "papermill": {
     "duration": 0.029772,
     "end_time": "2022-07-10T06:45:54.245123",
     "exception": false,
     "start_time": "2022-07-10T06:45:54.215351",
     "status": "completed"
    },
    "tags": []
   },
   "outputs": [],
   "source": [
    "from sklearn.svm import SVC"
   ]
  },
  {
   "cell_type": "code",
   "execution_count": 8,
   "id": "28216ead",
   "metadata": {
    "execution": {
     "iopub.execute_input": "2022-07-10T06:45:54.253184Z",
     "iopub.status.busy": "2022-07-10T06:45:54.252587Z",
     "iopub.status.idle": "2022-07-10T06:45:54.368068Z",
     "shell.execute_reply": "2022-07-10T06:45:54.367303Z"
    },
    "papermill": {
     "duration": 0.121625,
     "end_time": "2022-07-10T06:45:54.370036",
     "exception": false,
     "start_time": "2022-07-10T06:45:54.248411",
     "status": "completed"
    },
    "tags": []
   },
   "outputs": [
    {
     "data": {
      "text/plain": [
       "SVC(C=0.001, kernel='linear', probability=True)"
      ]
     },
     "execution_count": 8,
     "metadata": {},
     "output_type": "execute_result"
    }
   ],
   "source": [
    "model = SVC(C=0.001, kernel=\"linear\", probability=True)\n",
    "\n",
    "model.fit(X_train, y_train)"
   ]
  },
  {
   "cell_type": "markdown",
   "id": "9ba18a59",
   "metadata": {
    "papermill": {
     "duration": 0.003527,
     "end_time": "2022-07-10T06:45:54.377159",
     "exception": false,
     "start_time": "2022-07-10T06:45:54.373632",
     "status": "completed"
    },
    "tags": []
   },
   "source": [
    "### Q: Can the labels returned by `predict(..)` be computed from probabilities returned by the `predict_prob`-method?"
   ]
  },
  {
   "cell_type": "code",
   "execution_count": 9,
   "id": "81526521",
   "metadata": {
    "execution": {
     "iopub.execute_input": "2022-07-10T06:45:54.384927Z",
     "iopub.status.busy": "2022-07-10T06:45:54.384481Z",
     "iopub.status.idle": "2022-07-10T06:45:54.446730Z",
     "shell.execute_reply": "2022-07-10T06:45:54.446051Z"
    },
    "papermill": {
     "duration": 0.069895,
     "end_time": "2022-07-10T06:45:54.450202",
     "exception": false,
     "start_time": "2022-07-10T06:45:54.380307",
     "status": "completed"
    },
    "tags": []
   },
   "outputs": [
    {
     "name": "stdout",
     "output_type": "stream",
     "text": [
      " - Logging nr_max_prob_neq_label (int) : 1\n"
     ]
    }
   ],
   "source": [
    "import numpy as np\n",
    "\n",
    "y_train_labels = model.predict(X_train)\n",
    "y_train_probabilities = model.predict_proba(X_train)\n",
    "assert y_train_probabilities.shape == (len(y_train), 10)\n",
    "\n",
    "y_train_max_prob_labels = np.argmax(y_train_probabilities, axis=1)\n",
    "assert y_train_labels.shape == y_train_max_prob_labels.shape == y_train.shape\n",
    "\n",
    "# If the predicted labels would coincide with the labels that have\n",
    "# maximum probability, the below number would be zero\n",
    "logger.log_int(\n",
    "    \"nr_max_prob_neq_label\", int(sum(y_train_max_prob_labels != y_train_labels))\n",
    ")"
   ]
  },
  {
   "cell_type": "markdown",
   "id": "d6f29dff",
   "metadata": {
    "papermill": {
     "duration": 0.004059,
     "end_time": "2022-07-10T06:45:54.457547",
     "exception": false,
     "start_time": "2022-07-10T06:45:54.453488",
     "status": "completed"
    },
    "tags": []
   },
   "source": [
    "The explanation is (likely) explained in the SVC source, see\n",
    "[here](https://github.com/scikit-learn/scikit-learn/blob/main/sklearn/svm/_base.py).\n",
    "Namely, the outputs from `predict(..)` and `predict_proba(..)` may not in some\n",
    "cases be compatible since the latter is computed using cross-validation while\n",
    "the former is not. Thus, the above number need not be zero."
   ]
  },
  {
   "cell_type": "markdown",
   "id": "b61c04dd",
   "metadata": {
    "papermill": {
     "duration": 0.003206,
     "end_time": "2022-07-10T06:45:54.464328",
     "exception": false,
     "start_time": "2022-07-10T06:45:54.461122",
     "status": "completed"
    },
    "tags": []
   },
   "source": [
    "## Persist model"
   ]
  },
  {
   "cell_type": "code",
   "execution_count": 10,
   "id": "699660d5",
   "metadata": {
    "execution": {
     "iopub.execute_input": "2022-07-10T06:45:54.474685Z",
     "iopub.status.busy": "2022-07-10T06:45:54.474009Z",
     "iopub.status.idle": "2022-07-10T06:45:55.267693Z",
     "shell.execute_reply": "2022-07-10T06:45:55.266495Z"
    },
    "papermill": {
     "duration": 0.800976,
     "end_time": "2022-07-10T06:45:55.270035",
     "exception": false,
     "start_time": "2022-07-10T06:45:54.469059",
     "status": "completed"
    },
    "tags": []
   },
   "outputs": [],
   "source": [
    "from skl2onnx import convert_sklearn\n",
    "from skl2onnx.common.data_types import FloatTensorType\n",
    "\n",
    "#\n",
    "from common.io import datalake_root, write_onnx"
   ]
  },
  {
   "cell_type": "code",
   "execution_count": 11,
   "id": "22494d25",
   "metadata": {
    "execution": {
     "iopub.execute_input": "2022-07-10T06:45:55.279878Z",
     "iopub.status.busy": "2022-07-10T06:45:55.278784Z",
     "iopub.status.idle": "2022-07-10T06:45:55.335070Z",
     "shell.execute_reply": "2022-07-10T06:45:55.334270Z"
    },
    "papermill": {
     "duration": 0.063648,
     "end_time": "2022-07-10T06:45:55.337277",
     "exception": false,
     "start_time": "2022-07-10T06:45:55.273629",
     "status": "completed"
    },
    "tags": []
   },
   "outputs": [],
   "source": [
    "# convert sklearn model into onnx and persist to data lake\n",
    "\n",
    "model_onnx = convert_sklearn(\n",
    "    model, initial_types=[(\"float_input_8x8_image\", FloatTensorType([None, 8 * 8]))]\n",
    ")\n",
    "write_onnx(\n",
    "    datalake_root(P)\n",
    "    / \"models\"\n",
    "    / f\"nr_train_images={P['task.nr_train_images']}\"\n",
    "    / \"model.onnx\",\n",
    "    model_onnx,\n",
    ")"
   ]
  },
  {
   "cell_type": "code",
   "execution_count": null,
   "id": "9ce98ed9",
   "metadata": {
    "papermill": {
     "duration": 0.004512,
     "end_time": "2022-07-10T06:45:55.346776",
     "exception": false,
     "start_time": "2022-07-10T06:45:55.342264",
     "status": "completed"
    },
    "tags": []
   },
   "outputs": [],
   "source": []
  }
 ],
 "metadata": {
  "jupytext": {
   "cell_metadata_filter": "tags,-all",
   "main_language": "python",
   "notebook_metadata_filter": "-all"
  },
  "language_info": {
   "codemirror_mode": {
    "name": "ipython",
    "version": 3
   },
   "file_extension": ".py",
   "mimetype": "text/x-python",
   "name": "python",
   "nbconvert_exporter": "python",
   "pygments_lexer": "ipython3",
   "version": "3.8.10"
  },
  "papermill": {
   "default_parameters": {},
   "duration": 4.60636,
   "end_time": "2022-07-10T06:45:56.473473",
   "environment_variables": {},
   "exception": null,
   "input_path": "/home/host_user/workspace/mnist-demo-pipeline/mnist-demo-pipeline/notebooks/temp-notebook-0ewlhgct.ipynb",
   "output_path": "notebooks/train-model.ipynb",
   "parameters": {
    "P": {
     "_opentelemetry_traceparent": "00-9dec208046dff2972183177a1640172e-137ba25998434e95-01",
     "pipeline.data_lake_root": "/pipeline-outputs/data-lake",
     "pipeline.github.actor": "matiasdahl",
     "pipeline.github.base_ref": "",
     "pipeline.github.event_name": "schedule",
     "pipeline.github.head_ref": "",
     "pipeline.github.job": "run-tests-pipeline-and-persist-pipeline-outputs",
     "pipeline.github.ref": "refs/heads/development",
     "pipeline.github.ref_name": "development",
     "pipeline.github.ref_type": "branch",
     "pipeline.github.repository": "pynb-dag-runner/mnist-digits-demo-pipeline",
     "pipeline.github.run_id": "2643712272",
     "pipeline.github.runner_name": "Hosted Agent",
     "pipeline.github.sha": "147a1be9916173fd4d2cd011d8d51e3411215850",
     "pipeline.github.workflow": "Run automated tests, pipeline and deploy results to static reporting site",
     "pipeline.pipeline_run_id": "0d610b9c-6daa-40a4-8586-4f125460c4f8",
     "pipeline.run_environment": "ci",
     "run.retry_nr": "0",
     "task.max_nr_retries": "1",
     "task.notebook": "notebooks/train-model.py",
     "task.nr_train_images": 800,
     "task.num_cpus": 1,
     "task.timeout_s": "None"
    }
   },
   "start_time": "2022-07-10T06:45:51.867113",
   "version": "2.3.3"
  }
 },
 "nbformat": 4,
 "nbformat_minor": 5
}