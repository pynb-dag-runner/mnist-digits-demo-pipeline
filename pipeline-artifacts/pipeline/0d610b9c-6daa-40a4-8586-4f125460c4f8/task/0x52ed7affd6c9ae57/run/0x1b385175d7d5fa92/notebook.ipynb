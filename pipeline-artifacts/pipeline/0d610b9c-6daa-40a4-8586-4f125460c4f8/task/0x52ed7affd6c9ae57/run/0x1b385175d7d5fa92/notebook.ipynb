{
 "cells": [
  {
   "cell_type": "markdown",
   "id": "b7686fbf",
   "metadata": {
    "papermill": {
     "duration": 0.005522,
     "end_time": "2022-07-10T06:46:05.304609",
     "exception": false,
     "start_time": "2022-07-10T06:46:05.299087",
     "status": "completed"
    },
    "tags": []
   },
   "source": [
    "# Benchmark model\n",
    "\n",
    "The purpose of this notebook is to benchmark persisted onnx-model (trained in the\n",
    "previous step) against evaluation set."
   ]
  },
  {
   "cell_type": "markdown",
   "id": "6ea59e7d",
   "metadata": {
    "papermill": {
     "duration": 0.004004,
     "end_time": "2022-07-10T06:46:05.312754",
     "exception": false,
     "start_time": "2022-07-10T06:46:05.308750",
     "status": "completed"
    },
    "tags": []
   },
   "source": [
    "### Determine run parameters"
   ]
  },
  {
   "cell_type": "code",
   "execution_count": 1,
   "id": "457f59ff",
   "metadata": {
    "execution": {
     "iopub.execute_input": "2022-07-10T06:46:05.321279Z",
     "iopub.status.busy": "2022-07-10T06:46:05.320973Z",
     "iopub.status.idle": "2022-07-10T06:46:05.329054Z",
     "shell.execute_reply": "2022-07-10T06:46:05.328530Z"
    },
    "lines_to_next_cell": 0,
    "papermill": {
     "duration": 0.01467,
     "end_time": "2022-07-10T06:46:05.331191",
     "exception": false,
     "start_time": "2022-07-10T06:46:05.316521",
     "status": "completed"
    },
    "tags": []
   },
   "outputs": [],
   "source": [
    "# ----------------- Parameters for interactive development --------------\n",
    "P = {\n",
    "    \"pipeline.data_lake_root\": \"/pipeline-outputs/data-lake\",\n",
    "    \"task.nr_train_images\": 600,\n",
    "}"
   ]
  },
  {
   "cell_type": "code",
   "execution_count": 2,
   "id": "819b3443",
   "metadata": {
    "execution": {
     "iopub.execute_input": "2022-07-10T06:46:05.340256Z",
     "iopub.status.busy": "2022-07-10T06:46:05.340004Z",
     "iopub.status.idle": "2022-07-10T06:46:05.343094Z",
     "shell.execute_reply": "2022-07-10T06:46:05.342218Z"
    },
    "lines_to_next_cell": 0,
    "papermill": {
     "duration": 0.010217,
     "end_time": "2022-07-10T06:46:05.345730",
     "exception": false,
     "start_time": "2022-07-10T06:46:05.335513",
     "status": "completed"
    },
    "tags": [
     "parameters"
    ]
   },
   "outputs": [],
   "source": [
    "# - During automated runs parameters will be injected in the below cell -"
   ]
  },
  {
   "cell_type": "code",
   "execution_count": 3,
   "id": "95bed1e4",
   "metadata": {
    "execution": {
     "iopub.execute_input": "2022-07-10T06:46:05.353568Z",
     "iopub.status.busy": "2022-07-10T06:46:05.353369Z",
     "iopub.status.idle": "2022-07-10T06:46:05.358110Z",
     "shell.execute_reply": "2022-07-10T06:46:05.357669Z"
    },
    "papermill": {
     "duration": 0.010969,
     "end_time": "2022-07-10T06:46:05.360311",
     "exception": false,
     "start_time": "2022-07-10T06:46:05.349342",
     "status": "completed"
    },
    "tags": [
     "injected-parameters"
    ]
   },
   "outputs": [],
   "source": [
    "# Parameters\n",
    "P = {\n",
    "    \"pipeline.data_lake_root\": \"/pipeline-outputs/data-lake\",\n",
    "    \"pipeline.run_environment\": \"ci\",\n",
    "    \"pipeline.pipeline_run_id\": \"0d610b9c-6daa-40a4-8586-4f125460c4f8\",\n",
    "    \"pipeline.github.repository\": \"pynb-dag-runner/mnist-digits-demo-pipeline\",\n",
    "    \"pipeline.github.workflow\": \"Run automated tests, pipeline and deploy results to static reporting site\",\n",
    "    \"pipeline.github.runner_name\": \"Hosted Agent\",\n",
    "    \"pipeline.github.run_id\": \"2643712272\",\n",
    "    \"pipeline.github.actor\": \"matiasdahl\",\n",
    "    \"pipeline.github.job\": \"run-tests-pipeline-and-persist-pipeline-outputs\",\n",
    "    \"pipeline.github.base_ref\": \"\",\n",
    "    \"pipeline.github.head_ref\": \"\",\n",
    "    \"pipeline.github.sha\": \"147a1be9916173fd4d2cd011d8d51e3411215850\",\n",
    "    \"pipeline.github.ref\": \"refs/heads/development\",\n",
    "    \"pipeline.github.ref_type\": \"branch\",\n",
    "    \"pipeline.github.ref_name\": \"development\",\n",
    "    \"pipeline.github.event_name\": \"schedule\",\n",
    "    \"task.nr_train_images\": 800,\n",
    "    \"task.notebook\": \"notebooks/benchmark-model.py\",\n",
    "    \"task.max_nr_retries\": \"1\",\n",
    "    \"run.retry_nr\": \"0\",\n",
    "    \"task.timeout_s\": \"None\",\n",
    "    \"task.num_cpus\": 1,\n",
    "    \"_opentelemetry_traceparent\": \"00-9dec208046dff2972183177a1640172e-80a53f507d50f46d-01\",\n",
    "}\n"
   ]
  },
  {
   "cell_type": "code",
   "execution_count": 4,
   "id": "23181eb8",
   "metadata": {
    "execution": {
     "iopub.execute_input": "2022-07-10T06:46:05.368493Z",
     "iopub.status.busy": "2022-07-10T06:46:05.368311Z",
     "iopub.status.idle": "2022-07-10T06:46:05.370754Z",
     "shell.execute_reply": "2022-07-10T06:46:05.370273Z"
    },
    "lines_to_next_cell": 0,
    "papermill": {
     "duration": 0.009094,
     "end_time": "2022-07-10T06:46:05.372748",
     "exception": false,
     "start_time": "2022-07-10T06:46:05.363654",
     "status": "completed"
    },
    "tags": []
   },
   "outputs": [],
   "source": [
    "# -----------------------------------------------------------------------"
   ]
  },
  {
   "cell_type": "markdown",
   "id": "06241a15",
   "metadata": {
    "papermill": {
     "duration": 0.00491,
     "end_time": "2022-07-10T06:46:05.382135",
     "exception": false,
     "start_time": "2022-07-10T06:46:05.377225",
     "status": "completed"
    },
    "tags": []
   },
   "source": [
    "---"
   ]
  },
  {
   "cell_type": "markdown",
   "id": "3c5cc7b7",
   "metadata": {
    "lines_to_next_cell": 2,
    "papermill": {
     "duration": 0.003227,
     "end_time": "2022-07-10T06:46:05.389756",
     "exception": false,
     "start_time": "2022-07-10T06:46:05.386529",
     "status": "completed"
    },
    "tags": []
   },
   "source": [
    "### Notebook code"
   ]
  },
  {
   "cell_type": "code",
   "execution_count": 5,
   "id": "b1bf922e",
   "metadata": {
    "execution": {
     "iopub.execute_input": "2022-07-10T06:46:05.398298Z",
     "iopub.status.busy": "2022-07-10T06:46:05.398084Z",
     "iopub.status.idle": "2022-07-10T06:46:06.551121Z",
     "shell.execute_reply": "2022-07-10T06:46:06.550481Z"
    },
    "papermill": {
     "duration": 1.159838,
     "end_time": "2022-07-10T06:46:06.553080",
     "exception": false,
     "start_time": "2022-07-10T06:46:05.393242",
     "status": "completed"
    },
    "tags": []
   },
   "outputs": [
    {
     "name": "stderr",
     "output_type": "stream",
     "text": [
      "2022-07-10 06:46:06,358\tINFO worker.py:842 -- Connecting to existing Ray cluster at address: 172.17.0.2:6379\n"
     ]
    }
   ],
   "source": [
    "import itertools as it\n",
    "\n",
    "#\n",
    "import numpy as np\n",
    "import matplotlib.pyplot as plt\n",
    "\n",
    "#\n",
    "from pynb_dag_runner.tasks.task_opentelemetry_logging import PydarLogger\n",
    "\n",
    "#\n",
    "from common.io import datalake_root\n",
    "\n",
    "logger = PydarLogger(P)"
   ]
  },
  {
   "cell_type": "markdown",
   "id": "77f13957",
   "metadata": {
    "papermill": {
     "duration": 0.004572,
     "end_time": "2022-07-10T06:46:06.562118",
     "exception": false,
     "start_time": "2022-07-10T06:46:06.557546",
     "status": "completed"
    },
    "tags": []
   },
   "source": [
    "## Load persisted onnx-model and evaluation data"
   ]
  },
  {
   "cell_type": "code",
   "execution_count": 6,
   "id": "5f67c270",
   "metadata": {
    "execution": {
     "iopub.execute_input": "2022-07-10T06:46:06.570424Z",
     "iopub.status.busy": "2022-07-10T06:46:06.569921Z",
     "iopub.status.idle": "2022-07-10T06:46:06.574277Z",
     "shell.execute_reply": "2022-07-10T06:46:06.573636Z"
    },
    "papermill": {
     "duration": 0.010447,
     "end_time": "2022-07-10T06:46:06.575883",
     "exception": false,
     "start_time": "2022-07-10T06:46:06.565436",
     "status": "completed"
    },
    "tags": []
   },
   "outputs": [],
   "source": [
    "from common.io import read_onnx, get_onnx_inputs, get_onnx_outputs, read_numpy"
   ]
  },
  {
   "cell_type": "code",
   "execution_count": 7,
   "id": "f203dc52",
   "metadata": {
    "execution": {
     "iopub.execute_input": "2022-07-10T06:46:06.585476Z",
     "iopub.status.busy": "2022-07-10T06:46:06.585129Z",
     "iopub.status.idle": "2022-07-10T06:46:06.595384Z",
     "shell.execute_reply": "2022-07-10T06:46:06.594771Z"
    },
    "lines_to_next_cell": 0,
    "papermill": {
     "duration": 0.017177,
     "end_time": "2022-07-10T06:46:06.597255",
     "exception": false,
     "start_time": "2022-07-10T06:46:06.580078",
     "status": "completed"
    },
    "tags": []
   },
   "outputs": [],
   "source": [
    "onnx_inference_session = read_onnx(\n",
    "    datalake_root(P)\n",
    "    / \"models\"\n",
    "    / f\"nr_train_images={P['task.nr_train_images']}\"\n",
    "    / \"model.onnx\"\n",
    ")"
   ]
  },
  {
   "cell_type": "markdown",
   "id": "abfaf5b2",
   "metadata": {
    "papermill": {
     "duration": 0.004243,
     "end_time": "2022-07-10T06:46:06.604884",
     "exception": false,
     "start_time": "2022-07-10T06:46:06.600641",
     "status": "completed"
    },
    "tags": []
   },
   "source": [
    "### Record structure of inputs and outputs for ONNX model\n",
    "\n",
    "(this should likely be done in training notebook)"
   ]
  },
  {
   "cell_type": "code",
   "execution_count": 8,
   "id": "a1963a81",
   "metadata": {
    "execution": {
     "iopub.execute_input": "2022-07-10T06:46:06.613703Z",
     "iopub.status.busy": "2022-07-10T06:46:06.613395Z",
     "iopub.status.idle": "2022-07-10T06:46:06.619421Z",
     "shell.execute_reply": "2022-07-10T06:46:06.618929Z"
    },
    "papermill": {
     "duration": 0.013907,
     "end_time": "2022-07-10T06:46:06.622575",
     "exception": false,
     "start_time": "2022-07-10T06:46:06.608668",
     "status": "completed"
    },
    "tags": []
   },
   "outputs": [
    {
     "name": "stdout",
     "output_type": "stream",
     "text": [
      "{\n",
      "  \"inputs\": [\n",
      "    {\n",
      "      \"name\": \"float_input_8x8_image\",\n",
      "      \"shape\": [\n",
      "        null,\n",
      "        64\n",
      "      ],\n",
      "      \"type\": \"tensor(float)\"\n",
      "    }\n",
      "  ],\n",
      "  \"outputs\": [\n",
      "    {\n",
      "      \"name\": \"output_label\",\n",
      "      \"shape\": [\n",
      "        null\n",
      "      ],\n",
      "      \"type\": \"tensor(int64)\"\n",
      "    },\n",
      "    {\n",
      "      \"name\": \"output_probability\",\n",
      "      \"shape\": [],\n",
      "      \"type\": \"seq(map(int64,tensor(float)))\"\n",
      "    }\n",
      "  ]\n",
      "}\n"
     ]
    }
   ],
   "source": [
    "import json\n",
    "\n",
    "onnx_io = json.dumps(\n",
    "    {\n",
    "        \"inputs\": get_onnx_inputs(onnx_inference_session),\n",
    "        \"outputs\": get_onnx_outputs(onnx_inference_session),\n",
    "    },\n",
    "    indent=2,\n",
    ")\n",
    "\n",
    "\n",
    "logger.log_artefact(\"onnx_io_structure.json\", onnx_io)\n",
    "print(onnx_io)"
   ]
  },
  {
   "cell_type": "markdown",
   "id": "d270377a",
   "metadata": {
    "papermill": {
     "duration": 0.003903,
     "end_time": "2022-07-10T06:46:06.630488",
     "exception": false,
     "start_time": "2022-07-10T06:46:06.626585",
     "status": "completed"
    },
    "tags": []
   },
   "source": [
    "### Evaluate model performance on evaluation data set"
   ]
  },
  {
   "cell_type": "code",
   "execution_count": 9,
   "id": "6353aadb",
   "metadata": {
    "execution": {
     "iopub.execute_input": "2022-07-10T06:46:06.645805Z",
     "iopub.status.busy": "2022-07-10T06:46:06.645263Z",
     "iopub.status.idle": "2022-07-10T06:46:06.650666Z",
     "shell.execute_reply": "2022-07-10T06:46:06.649998Z"
    },
    "papermill": {
     "duration": 0.01431,
     "end_time": "2022-07-10T06:46:06.653402",
     "exception": false,
     "start_time": "2022-07-10T06:46:06.639092",
     "status": "completed"
    },
    "tags": []
   },
   "outputs": [],
   "source": [
    "# load evaluation data\n",
    "X_test = read_numpy(datalake_root(P) / \"test-data\" / \"digits.numpy\")\n",
    "y_test = read_numpy(datalake_root(P) / \"test-data\" / \"labels.numpy\")"
   ]
  },
  {
   "cell_type": "code",
   "execution_count": 10,
   "id": "49da19de",
   "metadata": {
    "execution": {
     "iopub.execute_input": "2022-07-10T06:46:06.663344Z",
     "iopub.status.busy": "2022-07-10T06:46:06.663017Z",
     "iopub.status.idle": "2022-07-10T06:46:06.676150Z",
     "shell.execute_reply": "2022-07-10T06:46:06.675498Z"
    },
    "papermill": {
     "duration": 0.021108,
     "end_time": "2022-07-10T06:46:06.678444",
     "exception": false,
     "start_time": "2022-07-10T06:46:06.657336",
     "status": "completed"
    },
    "tags": []
   },
   "outputs": [],
   "source": [
    "def get_model_outputs(X, onnx_inference_session):\n",
    "    y_pred_labels, y_pred_map = onnx_inference_session.run(\n",
    "        [\"output_label\", \"output_probability\"],\n",
    "        {\"float_input_8x8_image\": X.astype(np.float32)},\n",
    "    )\n",
    "    y_pred_probs = np.array(\n",
    "        [[probabilities[digit] for digit in range(10)] for probabilities in y_pred_map]\n",
    "    )\n",
    "\n",
    "    assert y_pred_labels.shape == (X.shape[0],)\n",
    "    assert y_pred_probs.shape == (X.shape[0], 10)\n",
    "\n",
    "    return y_pred_labels, y_pred_probs\n",
    "\n",
    "\n",
    "# Note: as shown in the training notebook, the predicted labels and probabilities\n",
    "# computed below need not be compatible.\n",
    "y_pred_labels_test, y_pred_probs_test = get_model_outputs(\n",
    "    X_test, onnx_inference_session\n",
    ")"
   ]
  },
  {
   "cell_type": "markdown",
   "id": "f32328ab",
   "metadata": {
    "papermill": {
     "duration": 0.003832,
     "end_time": "2022-07-10T06:46:06.687566",
     "exception": false,
     "start_time": "2022-07-10T06:46:06.683734",
     "status": "completed"
    },
    "tags": []
   },
   "source": [
    "### Confusion matrix"
   ]
  },
  {
   "cell_type": "code",
   "execution_count": 11,
   "id": "dbce5398",
   "metadata": {
    "execution": {
     "iopub.execute_input": "2022-07-10T06:46:06.697185Z",
     "iopub.status.busy": "2022-07-10T06:46:06.696834Z",
     "iopub.status.idle": "2022-07-10T06:46:06.700103Z",
     "shell.execute_reply": "2022-07-10T06:46:06.699508Z"
    },
    "papermill": {
     "duration": 0.010282,
     "end_time": "2022-07-10T06:46:06.701824",
     "exception": false,
     "start_time": "2022-07-10T06:46:06.691542",
     "status": "completed"
    },
    "tags": []
   },
   "outputs": [],
   "source": [
    "# TODO"
   ]
  },
  {
   "cell_type": "markdown",
   "id": "a3cf2ff3",
   "metadata": {
    "papermill": {
     "duration": 0.008028,
     "end_time": "2022-07-10T06:46:06.719681",
     "exception": false,
     "start_time": "2022-07-10T06:46:06.711653",
     "status": "completed"
    },
    "tags": []
   },
   "source": [
    "### Plot predicted probabilities for each classifier over all evaluation digit images"
   ]
  },
  {
   "cell_type": "code",
   "execution_count": 12,
   "id": "807d45b1",
   "metadata": {
    "execution": {
     "iopub.execute_input": "2022-07-10T06:46:06.733239Z",
     "iopub.status.busy": "2022-07-10T06:46:06.732960Z",
     "iopub.status.idle": "2022-07-10T06:46:10.394742Z",
     "shell.execute_reply": "2022-07-10T06:46:10.394138Z"
    },
    "papermill": {
     "duration": 3.669257,
     "end_time": "2022-07-10T06:46:10.396552",
     "exception": false,
     "start_time": "2022-07-10T06:46:06.727295",
     "status": "completed"
    },
    "tags": []
   },
   "outputs": [
    {
     "data": {
      "image/png": "[encoded data removed]",
      "text/plain": [
       "<Figure size 1152x432 with 10 Axes>"
      ]
     },
     "metadata": {
      "needs_background": "light"
     },
     "output_type": "display_data"
    }
   ],
   "source": [
    "def plot_per_digit_probabilities(y_pred_probs):\n",
    "    fig, axs = plt.subplots(nrows=2, ncols=5, figsize=(16, 6))\n",
    "\n",
    "    for (r, c), digit, ax in zip(\n",
    "        it.product(range(2), range(5)), range(10), axs.reshape(-1)\n",
    "    ):\n",
    "        ax.hist(y_pred_probs_test[:, digit], bins=20)\n",
    "\n",
    "        ax.set_title(f\"Digit {digit}\")\n",
    "        if r == 1 and c == 2:\n",
    "            ax.set_xlabel(\"probability\", fontsize=16)\n",
    "\n",
    "        if c == 0:\n",
    "            ax.set_ylabel(\"counts\", fontsize=16)\n",
    "        ax.set_yscale(\"log\")\n",
    "\n",
    "    fig.tight_layout()\n",
    "    fig.suptitle(\n",
    "        f\"Distributions of prediction probabilities for each digit \"\n",
    "        f\"(on evaluation data, n={y_pred_probs.shape[0]})\",\n",
    "        fontsize=20,\n",
    "    )\n",
    "    fig.tight_layout()\n",
    "    fig.show()\n",
    "\n",
    "    return fig\n",
    "\n",
    "\n",
    "fig = plot_per_digit_probabilities(y_pred_probs_test)"
   ]
  },
  {
   "cell_type": "markdown",
   "id": "c8c2699a",
   "metadata": {
    "papermill": {
     "duration": 0.005353,
     "end_time": "2022-07-10T06:46:10.407596",
     "exception": false,
     "start_time": "2022-07-10T06:46:10.402243",
     "status": "completed"
    },
    "tags": []
   },
   "source": [
    "From the above distributions we see that most digits have clear separation between\n",
    "high and lower probabilities. Morover, in each case there is roughly an order of\n",
    "magnitude more of digits with low probabilities. This is compatible with digits\n",
    "being roughly evenly distributed in the data."
   ]
  },
  {
   "cell_type": "code",
   "execution_count": 13,
   "id": "41be30a2",
   "metadata": {
    "execution": {
     "iopub.execute_input": "2022-07-10T06:46:10.419224Z",
     "iopub.status.busy": "2022-07-10T06:46:10.418928Z",
     "iopub.status.idle": "2022-07-10T06:46:10.874559Z",
     "shell.execute_reply": "2022-07-10T06:46:10.873911Z"
    },
    "papermill": {
     "duration": 0.464424,
     "end_time": "2022-07-10T06:46:10.876993",
     "exception": false,
     "start_time": "2022-07-10T06:46:10.412569",
     "status": "completed"
    },
    "tags": []
   },
   "outputs": [],
   "source": [
    "logger.log_figure(\"per-digit-probabilities.png\", fig)"
   ]
  },
  {
   "cell_type": "markdown",
   "id": "34c96cdc",
   "metadata": {
    "papermill": {
     "duration": 0.005199,
     "end_time": "2022-07-10T06:46:10.887977",
     "exception": false,
     "start_time": "2022-07-10T06:46:10.882778",
     "status": "completed"
    },
    "tags": []
   },
   "source": [
    "### Plot ROC curves for individual one-vs-rest classifiers"
   ]
  },
  {
   "cell_type": "code",
   "execution_count": 14,
   "id": "e2a51446",
   "metadata": {
    "execution": {
     "iopub.execute_input": "2022-07-10T06:46:10.900973Z",
     "iopub.status.busy": "2022-07-10T06:46:10.900684Z",
     "iopub.status.idle": "2022-07-10T06:46:11.253702Z",
     "shell.execute_reply": "2022-07-10T06:46:11.253016Z"
    },
    "papermill": {
     "duration": 0.361756,
     "end_time": "2022-07-10T06:46:11.256323",
     "exception": false,
     "start_time": "2022-07-10T06:46:10.894567",
     "status": "completed"
    },
    "tags": []
   },
   "outputs": [],
   "source": [
    "from sklearn import metrics"
   ]
  },
  {
   "cell_type": "code",
   "execution_count": 15,
   "id": "457c8592",
   "metadata": {
    "execution": {
     "iopub.execute_input": "2022-07-10T06:46:11.267648Z",
     "iopub.status.busy": "2022-07-10T06:46:11.267283Z",
     "iopub.status.idle": "2022-07-10T06:46:12.422716Z",
     "shell.execute_reply": "2022-07-10T06:46:12.421968Z"
    },
    "papermill": {
     "duration": 1.162997,
     "end_time": "2022-07-10T06:46:12.424371",
     "exception": false,
     "start_time": "2022-07-10T06:46:11.261374",
     "status": "completed"
    },
    "tags": []
   },
   "outputs": [
    {
     "data": {
      "image/png": "[encoded data removed]",
      "text/plain": [
       "<Figure size 1152x576 with 10 Axes>"
      ]
     },
     "metadata": {
      "needs_background": "light"
     },
     "output_type": "display_data"
    }
   ],
   "source": [
    "def plot_roc_curves(y, y_pred_probs):\n",
    "    # based on example code\n",
    "    # https://scikit-learn.org/stable/auto_examples/model_selection/plot_roc.html\n",
    "\n",
    "    fig, axs = plt.subplots(nrows=2, ncols=5, figsize=(16, 8))\n",
    "\n",
    "    roc_auc_dict = {}\n",
    "\n",
    "    for (r, c), digit, ax in zip(\n",
    "        it.product(range(2), range(5)), range(10), axs.reshape(-1)\n",
    "    ):\n",
    "        fpr, tpr, _ = metrics.roc_curve(y == digit, y_pred_probs[:, digit])\n",
    "        auc = metrics.auc(fpr, tpr)\n",
    "        roc_auc_dict[str(digit)] = auc\n",
    "\n",
    "        ax.plot(fpr, tpr, label=f\"ROC AUC={round(auc, 3)}\")\n",
    "\n",
    "        ax.set_title(f\"\\nDigit {digit}\", fontsize=16)\n",
    "        if r == 1:\n",
    "            ax.set_xlabel(\"FPR\", fontsize=18)\n",
    "\n",
    "        if c == 0:\n",
    "            ax.set_ylabel(\"TPR\", fontsize=18)\n",
    "\n",
    "        ax.set_xlim([-0.05, 1.05])\n",
    "        ax.set_ylim([-0.05, 1.05])\n",
    "        ax.legend(loc=\"lower right\", frameon=False, fontsize=14)\n",
    "\n",
    "    fig.tight_layout()\n",
    "    fig.suptitle(\n",
    "        f\"ROC plots for one-vs-rest performances \"\n",
    "        f\"(on evaluation data, n={y_pred_probs_test.shape[1]}\",\n",
    "        fontsize=22,\n",
    "    )\n",
    "    fig.tight_layout()\n",
    "    fig.show()\n",
    "\n",
    "    return roc_auc_dict, fig\n",
    "\n",
    "\n",
    "roc_auc_dict, fig = plot_roc_curves(y_test, y_pred_probs_test)"
   ]
  },
  {
   "cell_type": "code",
   "execution_count": 16,
   "id": "7412fb15",
   "metadata": {
    "execution": {
     "iopub.execute_input": "2022-07-10T06:46:12.438554Z",
     "iopub.status.busy": "2022-07-10T06:46:12.438132Z",
     "iopub.status.idle": "2022-07-10T06:46:12.665798Z",
     "shell.execute_reply": "2022-07-10T06:46:12.664855Z"
    },
    "papermill": {
     "duration": 0.237928,
     "end_time": "2022-07-10T06:46:12.669000",
     "exception": false,
     "start_time": "2022-07-10T06:46:12.431072",
     "status": "completed"
    },
    "tags": []
   },
   "outputs": [],
   "source": [
    "logger.log_figure(\"per-digit-roc-curves.png\", fig)"
   ]
  },
  {
   "cell_type": "code",
   "execution_count": 17,
   "id": "49f4e4e4",
   "metadata": {
    "execution": {
     "iopub.execute_input": "2022-07-10T06:46:12.680460Z",
     "iopub.status.busy": "2022-07-10T06:46:12.680207Z",
     "iopub.status.idle": "2022-07-10T06:46:12.684562Z",
     "shell.execute_reply": "2022-07-10T06:46:12.684023Z"
    },
    "papermill": {
     "duration": 0.01798,
     "end_time": "2022-07-10T06:46:12.692049",
     "exception": false,
     "start_time": "2022-07-10T06:46:12.674069",
     "status": "completed"
    },
    "tags": []
   },
   "outputs": [
    {
     "data": {
      "text/plain": [
       "{'0': 1.0,\n",
       " '1': 0.9988003748828491,\n",
       " '2': 1.0,\n",
       " '3': 0.9998500468603562,\n",
       " '4': 0.9995427526291724,\n",
       " '5': 0.998987816307404,\n",
       " '6': 0.999961896052431,\n",
       " '7': 0.9998856881572931,\n",
       " '8': 0.992670239596469,\n",
       " '9': 0.9993903368388964}"
      ]
     },
     "execution_count": 17,
     "metadata": {},
     "output_type": "execute_result"
    }
   ],
   "source": [
    "roc_auc_dict"
   ]
  },
  {
   "cell_type": "code",
   "execution_count": 18,
   "id": "429a98dc",
   "metadata": {
    "execution": {
     "iopub.execute_input": "2022-07-10T06:46:12.703120Z",
     "iopub.status.busy": "2022-07-10T06:46:12.702784Z",
     "iopub.status.idle": "2022-07-10T06:46:12.706859Z",
     "shell.execute_reply": "2022-07-10T06:46:12.706180Z"
    },
    "papermill": {
     "duration": 0.011714,
     "end_time": "2022-07-10T06:46:12.708870",
     "exception": false,
     "start_time": "2022-07-10T06:46:12.697156",
     "status": "completed"
    },
    "tags": []
   },
   "outputs": [
    {
     "name": "stdout",
     "output_type": "stream",
     "text": [
      " - Logging roc_auc_per_digit (json) : {'0': 1.0, '1': 0.9988003748828491, '2': 1.0, '3': 0.9998500468603562, '4': 0.9995427526291724, '5': 0.998987816307404, '6': 0.999961896052431, '7': 0.9998856881572931, '8': 0.992670239596469, '9': 0.9993903368388964}\n"
     ]
    }
   ],
   "source": [
    "logger.log_value(\"roc_auc_per_digit\", roc_auc_dict)"
   ]
  },
  {
   "cell_type": "markdown",
   "id": "6720d44d",
   "metadata": {
    "papermill": {
     "duration": 0.004577,
     "end_time": "2022-07-10T06:46:12.718146",
     "exception": false,
     "start_time": "2022-07-10T06:46:12.713569",
     "status": "completed"
    },
    "tags": []
   },
   "source": [
    "### Compute and log mean ROC AUC score averaged over all digits"
   ]
  },
  {
   "cell_type": "code",
   "execution_count": 19,
   "id": "c461a484",
   "metadata": {
    "execution": {
     "iopub.execute_input": "2022-07-10T06:46:12.729057Z",
     "iopub.status.busy": "2022-07-10T06:46:12.728561Z",
     "iopub.status.idle": "2022-07-10T06:46:12.740904Z",
     "shell.execute_reply": "2022-07-10T06:46:12.740295Z"
    },
    "papermill": {
     "duration": 0.019617,
     "end_time": "2022-07-10T06:46:12.742362",
     "exception": false,
     "start_time": "2022-07-10T06:46:12.722745",
     "status": "completed"
    },
    "tags": []
   },
   "outputs": [
    {
     "name": "stdout",
     "output_type": "stream",
     "text": [
      " - Logging roc_auc_class_mean (float) : 0.998908915132487\n"
     ]
    }
   ],
   "source": [
    "roc_auc_macro = np.mean(list(roc_auc_dict.values()))\n",
    "\n",
    "logger.log_float(\"roc_auc_class_mean\", roc_auc_macro)\n",
    "\n",
    "# assert that the same value can be computed directly using sklearn\n",
    "assert roc_auc_macro == metrics.roc_auc_score(\n",
    "    y_test, y_pred_probs_test, average=\"macro\", multi_class=\"ovr\"\n",
    ")"
   ]
  },
  {
   "cell_type": "code",
   "execution_count": 20,
   "id": "954f67e1",
   "metadata": {
    "execution": {
     "iopub.execute_input": "2022-07-10T06:46:12.753248Z",
     "iopub.status.busy": "2022-07-10T06:46:12.753028Z",
     "iopub.status.idle": "2022-07-10T06:46:12.755845Z",
     "shell.execute_reply": "2022-07-10T06:46:12.755267Z"
    },
    "lines_to_next_cell": 0,
    "papermill": {
     "duration": 0.010124,
     "end_time": "2022-07-10T06:46:12.757316",
     "exception": false,
     "start_time": "2022-07-10T06:46:12.747192",
     "status": "completed"
    },
    "tags": []
   },
   "outputs": [],
   "source": [
    "# ---"
   ]
  },
  {
   "cell_type": "code",
   "execution_count": null,
   "id": "873867a7",
   "metadata": {
    "papermill": {
     "duration": 0.004713,
     "end_time": "2022-07-10T06:46:12.767148",
     "exception": false,
     "start_time": "2022-07-10T06:46:12.762435",
     "status": "completed"
    },
    "tags": []
   },
   "outputs": [],
   "source": []
  }
 ],
 "metadata": {
  "jupytext": {
   "cell_metadata_filter": "tags,-all",
   "main_language": "python",
   "notebook_metadata_filter": "-all"
  },
  "language_info": {
   "codemirror_mode": {
    "name": "ipython",
    "version": 3
   },
   "file_extension": ".py",
   "mimetype": "text/x-python",
   "name": "python",
   "nbconvert_exporter": "python",
   "pygments_lexer": "ipython3",
   "version": "3.8.10"
  },
  "papermill": {
   "default_parameters": {},
   "duration": 10.121731,
   "end_time": "2022-07-10T06:46:13.992300",
   "environment_variables": {},
   "exception": null,
   "input_path": "/home/host_user/workspace/mnist-demo-pipeline/mnist-demo-pipeline/notebooks/temp-notebook-duprwdma.ipynb",
   "output_path": "notebooks/benchmark-model.ipynb",
   "parameters": {
    "P": {
     "_opentelemetry_traceparent": "00-9dec208046dff2972183177a1640172e-80a53f507d50f46d-01",
     "pipeline.data_lake_root": "/pipeline-outputs/data-lake",
     "pipeline.github.actor": "matiasdahl",
     "pipeline.github.base_ref": "",
     "pipeline.github.event_name": "schedule",
     "pipeline.github.head_ref": "",
     "pipeline.github.job": "run-tests-pipeline-and-persist-pipeline-outputs",
     "pipeline.github.ref": "refs/heads/development",
     "pipeline.github.ref_name": "development",
     "pipeline.github.ref_type": "branch",
     "pipeline.github.repository": "pynb-dag-runner/mnist-digits-demo-pipeline",
     "pipeline.github.run_id": "2643712272",
     "pipeline.github.runner_name": "Hosted Agent",
     "pipeline.github.sha": "147a1be9916173fd4d2cd011d8d51e3411215850",
     "pipeline.github.workflow": "Run automated tests, pipeline and deploy results to static reporting site",
     "pipeline.pipeline_run_id": "0d610b9c-6daa-40a4-8586-4f125460c4f8",
     "pipeline.run_environment": "ci",
     "run.retry_nr": "0",
     "task.max_nr_retries": "1",
     "task.notebook": "notebooks/benchmark-model.py",
     "task.nr_train_images": 800,
     "task.num_cpus": 1,
     "task.timeout_s": "None"
    }
   },
   "start_time": "2022-07-10T06:46:03.870569",
   "version": "2.3.3"
  }
 },
 "nbformat": 4,
 "nbformat_minor": 5
}