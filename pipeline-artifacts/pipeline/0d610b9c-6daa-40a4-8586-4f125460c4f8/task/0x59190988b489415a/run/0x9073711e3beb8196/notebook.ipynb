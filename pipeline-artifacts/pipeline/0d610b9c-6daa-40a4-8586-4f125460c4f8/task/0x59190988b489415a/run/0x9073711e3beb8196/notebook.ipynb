{
 "cells": [
  {
   "cell_type": "markdown",
   "id": "1b4d55a8",
   "metadata": {
    "papermill": {
     "duration": 0.005995,
     "end_time": "2022-07-10T06:46:11.617121",
     "exception": false,
     "start_time": "2022-07-10T06:46:11.611126",
     "status": "completed"
    },
    "tags": []
   },
   "source": [
    "# Benchmark model\n",
    "\n",
    "The purpose of this notebook is to benchmark persisted onnx-model (trained in the\n",
    "previous step) against evaluation set."
   ]
  },
  {
   "cell_type": "markdown",
   "id": "86d02f6e",
   "metadata": {
    "papermill": {
     "duration": 0.004173,
     "end_time": "2022-07-10T06:46:11.625068",
     "exception": false,
     "start_time": "2022-07-10T06:46:11.620895",
     "status": "completed"
    },
    "tags": []
   },
   "source": [
    "### Determine run parameters"
   ]
  },
  {
   "cell_type": "code",
   "execution_count": 1,
   "id": "78985e44",
   "metadata": {
    "execution": {
     "iopub.execute_input": "2022-07-10T06:46:11.633682Z",
     "iopub.status.busy": "2022-07-10T06:46:11.633334Z",
     "iopub.status.idle": "2022-07-10T06:46:11.641386Z",
     "shell.execute_reply": "2022-07-10T06:46:11.640888Z"
    },
    "lines_to_next_cell": 0,
    "papermill": {
     "duration": 0.015055,
     "end_time": "2022-07-10T06:46:11.643906",
     "exception": false,
     "start_time": "2022-07-10T06:46:11.628851",
     "status": "completed"
    },
    "tags": []
   },
   "outputs": [],
   "source": [
    "# ----------------- Parameters for interactive development --------------\n",
    "P = {\n",
    "    \"pipeline.data_lake_root\": \"/pipeline-outputs/data-lake\",\n",
    "    \"task.nr_train_images\": 600,\n",
    "}"
   ]
  },
  {
   "cell_type": "code",
   "execution_count": 2,
   "id": "946a633e",
   "metadata": {
    "execution": {
     "iopub.execute_input": "2022-07-10T06:46:11.653525Z",
     "iopub.status.busy": "2022-07-10T06:46:11.653327Z",
     "iopub.status.idle": "2022-07-10T06:46:11.656663Z",
     "shell.execute_reply": "2022-07-10T06:46:11.656178Z"
    },
    "lines_to_next_cell": 0,
    "papermill": {
     "duration": 0.010546,
     "end_time": "2022-07-10T06:46:11.659537",
     "exception": false,
     "start_time": "2022-07-10T06:46:11.648991",
     "status": "completed"
    },
    "tags": [
     "parameters"
    ]
   },
   "outputs": [],
   "source": [
    "# - During automated runs parameters will be injected in the below cell -"
   ]
  },
  {
   "cell_type": "code",
   "execution_count": 3,
   "id": "382eddc3",
   "metadata": {
    "execution": {
     "iopub.execute_input": "2022-07-10T06:46:11.672209Z",
     "iopub.status.busy": "2022-07-10T06:46:11.672011Z",
     "iopub.status.idle": "2022-07-10T06:46:11.677688Z",
     "shell.execute_reply": "2022-07-10T06:46:11.677224Z"
    },
    "papermill": {
     "duration": 0.017646,
     "end_time": "2022-07-10T06:46:11.680451",
     "exception": false,
     "start_time": "2022-07-10T06:46:11.662805",
     "status": "completed"
    },
    "tags": [
     "injected-parameters"
    ]
   },
   "outputs": [],
   "source": [
    "# Parameters\n",
    "P = {\n",
    "    \"pipeline.data_lake_root\": \"/pipeline-outputs/data-lake\",\n",
    "    \"pipeline.run_environment\": \"ci\",\n",
    "    \"pipeline.pipeline_run_id\": \"0d610b9c-6daa-40a4-8586-4f125460c4f8\",\n",
    "    \"pipeline.github.repository\": \"pynb-dag-runner/mnist-digits-demo-pipeline\",\n",
    "    \"pipeline.github.workflow\": \"Run automated tests, pipeline and deploy results to static reporting site\",\n",
    "    \"pipeline.github.runner_name\": \"Hosted Agent\",\n",
    "    \"pipeline.github.run_id\": \"2643712272\",\n",
    "    \"pipeline.github.actor\": \"matiasdahl\",\n",
    "    \"pipeline.github.job\": \"run-tests-pipeline-and-persist-pipeline-outputs\",\n",
    "    \"pipeline.github.base_ref\": \"\",\n",
    "    \"pipeline.github.head_ref\": \"\",\n",
    "    \"pipeline.github.sha\": \"147a1be9916173fd4d2cd011d8d51e3411215850\",\n",
    "    \"pipeline.github.ref\": \"refs/heads/development\",\n",
    "    \"pipeline.github.ref_type\": \"branch\",\n",
    "    \"pipeline.github.ref_name\": \"development\",\n",
    "    \"pipeline.github.event_name\": \"schedule\",\n",
    "    \"task.nr_train_images\": 1000,\n",
    "    \"task.notebook\": \"notebooks/benchmark-model.py\",\n",
    "    \"task.max_nr_retries\": \"1\",\n",
    "    \"run.retry_nr\": \"0\",\n",
    "    \"task.timeout_s\": \"None\",\n",
    "    \"task.num_cpus\": 1,\n",
    "    \"_opentelemetry_traceparent\": \"00-9dec208046dff2972183177a1640172e-00c90f4a0955e522-01\",\n",
    "}\n"
   ]
  },
  {
   "cell_type": "code",
   "execution_count": 4,
   "id": "0bacbfa1",
   "metadata": {
    "execution": {
     "iopub.execute_input": "2022-07-10T06:46:11.689662Z",
     "iopub.status.busy": "2022-07-10T06:46:11.689470Z",
     "iopub.status.idle": "2022-07-10T06:46:11.692195Z",
     "shell.execute_reply": "2022-07-10T06:46:11.691668Z"
    },
    "lines_to_next_cell": 0,
    "papermill": {
     "duration": 0.009838,
     "end_time": "2022-07-10T06:46:11.693724",
     "exception": false,
     "start_time": "2022-07-10T06:46:11.683886",
     "status": "completed"
    },
    "tags": []
   },
   "outputs": [],
   "source": [
    "# -----------------------------------------------------------------------"
   ]
  },
  {
   "cell_type": "markdown",
   "id": "33f33f4e",
   "metadata": {
    "papermill": {
     "duration": 0.005021,
     "end_time": "2022-07-10T06:46:11.702973",
     "exception": false,
     "start_time": "2022-07-10T06:46:11.697952",
     "status": "completed"
    },
    "tags": []
   },
   "source": [
    "---"
   ]
  },
  {
   "cell_type": "markdown",
   "id": "8724e6b2",
   "metadata": {
    "lines_to_next_cell": 2,
    "papermill": {
     "duration": 0.003886,
     "end_time": "2022-07-10T06:46:11.710301",
     "exception": false,
     "start_time": "2022-07-10T06:46:11.706415",
     "status": "completed"
    },
    "tags": []
   },
   "source": [
    "### Notebook code"
   ]
  },
  {
   "cell_type": "code",
   "execution_count": 5,
   "id": "80701b74",
   "metadata": {
    "execution": {
     "iopub.execute_input": "2022-07-10T06:46:11.719183Z",
     "iopub.status.busy": "2022-07-10T06:46:11.718787Z",
     "iopub.status.idle": "2022-07-10T06:46:12.801446Z",
     "shell.execute_reply": "2022-07-10T06:46:12.799995Z"
    },
    "papermill": {
     "duration": 1.090219,
     "end_time": "2022-07-10T06:46:12.804169",
     "exception": false,
     "start_time": "2022-07-10T06:46:11.713950",
     "status": "completed"
    },
    "tags": []
   },
   "outputs": [
    {
     "name": "stderr",
     "output_type": "stream",
     "text": [
      "2022-07-10 06:46:12,636\tINFO worker.py:842 -- Connecting to existing Ray cluster at address: 172.17.0.2:6379\n"
     ]
    }
   ],
   "source": [
    "import itertools as it\n",
    "\n",
    "#\n",
    "import numpy as np\n",
    "import matplotlib.pyplot as plt\n",
    "\n",
    "#\n",
    "from pynb_dag_runner.tasks.task_opentelemetry_logging import PydarLogger\n",
    "\n",
    "#\n",
    "from common.io import datalake_root\n",
    "\n",
    "logger = PydarLogger(P)"
   ]
  },
  {
   "cell_type": "markdown",
   "id": "3af46f41",
   "metadata": {
    "papermill": {
     "duration": 0.004213,
     "end_time": "2022-07-10T06:46:12.813140",
     "exception": false,
     "start_time": "2022-07-10T06:46:12.808927",
     "status": "completed"
    },
    "tags": []
   },
   "source": [
    "## Load persisted onnx-model and evaluation data"
   ]
  },
  {
   "cell_type": "code",
   "execution_count": 6,
   "id": "bfe66faa",
   "metadata": {
    "execution": {
     "iopub.execute_input": "2022-07-10T06:46:12.822152Z",
     "iopub.status.busy": "2022-07-10T06:46:12.821690Z",
     "iopub.status.idle": "2022-07-10T06:46:12.825171Z",
     "shell.execute_reply": "2022-07-10T06:46:12.824542Z"
    },
    "papermill": {
     "duration": 0.009803,
     "end_time": "2022-07-10T06:46:12.826748",
     "exception": false,
     "start_time": "2022-07-10T06:46:12.816945",
     "status": "completed"
    },
    "tags": []
   },
   "outputs": [],
   "source": [
    "from common.io import read_onnx, get_onnx_inputs, get_onnx_outputs, read_numpy"
   ]
  },
  {
   "cell_type": "code",
   "execution_count": 7,
   "id": "0efd0bd9",
   "metadata": {
    "execution": {
     "iopub.execute_input": "2022-07-10T06:46:12.835799Z",
     "iopub.status.busy": "2022-07-10T06:46:12.835456Z",
     "iopub.status.idle": "2022-07-10T06:46:12.845673Z",
     "shell.execute_reply": "2022-07-10T06:46:12.845038Z"
    },
    "lines_to_next_cell": 0,
    "papermill": {
     "duration": 0.01633,
     "end_time": "2022-07-10T06:46:12.847083",
     "exception": false,
     "start_time": "2022-07-10T06:46:12.830753",
     "status": "completed"
    },
    "tags": []
   },
   "outputs": [],
   "source": [
    "onnx_inference_session = read_onnx(\n",
    "    datalake_root(P)\n",
    "    / \"models\"\n",
    "    / f\"nr_train_images={P['task.nr_train_images']}\"\n",
    "    / \"model.onnx\"\n",
    ")"
   ]
  },
  {
   "cell_type": "markdown",
   "id": "f6ab9cf6",
   "metadata": {
    "papermill": {
     "duration": 0.003678,
     "end_time": "2022-07-10T06:46:12.855186",
     "exception": false,
     "start_time": "2022-07-10T06:46:12.851508",
     "status": "completed"
    },
    "tags": []
   },
   "source": [
    "### Record structure of inputs and outputs for ONNX model\n",
    "\n",
    "(this should likely be done in training notebook)"
   ]
  },
  {
   "cell_type": "code",
   "execution_count": 8,
   "id": "13d75320",
   "metadata": {
    "execution": {
     "iopub.execute_input": "2022-07-10T06:46:12.863713Z",
     "iopub.status.busy": "2022-07-10T06:46:12.863335Z",
     "iopub.status.idle": "2022-07-10T06:46:12.869607Z",
     "shell.execute_reply": "2022-07-10T06:46:12.868978Z"
    },
    "papermill": {
     "duration": 0.012619,
     "end_time": "2022-07-10T06:46:12.871238",
     "exception": false,
     "start_time": "2022-07-10T06:46:12.858619",
     "status": "completed"
    },
    "tags": []
   },
   "outputs": [
    {
     "name": "stdout",
     "output_type": "stream",
     "text": [
      "{\n",
      "  \"inputs\": [\n",
      "    {\n",
      "      \"name\": \"float_input_8x8_image\",\n",
      "      \"shape\": [\n",
      "        null,\n",
      "        64\n",
      "      ],\n",
      "      \"type\": \"tensor(float)\"\n",
      "    }\n",
      "  ],\n",
      "  \"outputs\": [\n",
      "    {\n",
      "      \"name\": \"output_label\",\n",
      "      \"shape\": [\n",
      "        null\n",
      "      ],\n",
      "      \"type\": \"tensor(int64)\"\n",
      "    },\n",
      "    {\n",
      "      \"name\": \"output_probability\",\n",
      "      \"shape\": [],\n",
      "      \"type\": \"seq(map(int64,tensor(float)))\"\n",
      "    }\n",
      "  ]\n",
      "}\n"
     ]
    }
   ],
   "source": [
    "import json\n",
    "\n",
    "onnx_io = json.dumps(\n",
    "    {\n",
    "        \"inputs\": get_onnx_inputs(onnx_inference_session),\n",
    "        \"outputs\": get_onnx_outputs(onnx_inference_session),\n",
    "    },\n",
    "    indent=2,\n",
    ")\n",
    "\n",
    "\n",
    "logger.log_artefact(\"onnx_io_structure.json\", onnx_io)\n",
    "print(onnx_io)"
   ]
  },
  {
   "cell_type": "markdown",
   "id": "c3575e76",
   "metadata": {
    "papermill": {
     "duration": 0.003581,
     "end_time": "2022-07-10T06:46:12.878330",
     "exception": false,
     "start_time": "2022-07-10T06:46:12.874749",
     "status": "completed"
    },
    "tags": []
   },
   "source": [
    "### Evaluate model performance on evaluation data set"
   ]
  },
  {
   "cell_type": "code",
   "execution_count": 9,
   "id": "8dabf672",
   "metadata": {
    "execution": {
     "iopub.execute_input": "2022-07-10T06:46:12.886745Z",
     "iopub.status.busy": "2022-07-10T06:46:12.886332Z",
     "iopub.status.idle": "2022-07-10T06:46:12.892675Z",
     "shell.execute_reply": "2022-07-10T06:46:12.892071Z"
    },
    "papermill": {
     "duration": 0.012045,
     "end_time": "2022-07-10T06:46:12.893960",
     "exception": false,
     "start_time": "2022-07-10T06:46:12.881915",
     "status": "completed"
    },
    "tags": []
   },
   "outputs": [],
   "source": [
    "# load evaluation data\n",
    "X_test = read_numpy(datalake_root(P) / \"test-data\" / \"digits.numpy\")\n",
    "y_test = read_numpy(datalake_root(P) / \"test-data\" / \"labels.numpy\")"
   ]
  },
  {
   "cell_type": "code",
   "execution_count": 10,
   "id": "38f152ef",
   "metadata": {
    "execution": {
     "iopub.execute_input": "2022-07-10T06:46:12.904017Z",
     "iopub.status.busy": "2022-07-10T06:46:12.903406Z",
     "iopub.status.idle": "2022-07-10T06:46:12.915391Z",
     "shell.execute_reply": "2022-07-10T06:46:12.914823Z"
    },
    "papermill": {
     "duration": 0.018662,
     "end_time": "2022-07-10T06:46:12.916737",
     "exception": false,
     "start_time": "2022-07-10T06:46:12.898075",
     "status": "completed"
    },
    "tags": []
   },
   "outputs": [],
   "source": [
    "def get_model_outputs(X, onnx_inference_session):\n",
    "    y_pred_labels, y_pred_map = onnx_inference_session.run(\n",
    "        [\"output_label\", \"output_probability\"],\n",
    "        {\"float_input_8x8_image\": X.astype(np.float32)},\n",
    "    )\n",
    "    y_pred_probs = np.array(\n",
    "        [[probabilities[digit] for digit in range(10)] for probabilities in y_pred_map]\n",
    "    )\n",
    "\n",
    "    assert y_pred_labels.shape == (X.shape[0],)\n",
    "    assert y_pred_probs.shape == (X.shape[0], 10)\n",
    "\n",
    "    return y_pred_labels, y_pred_probs\n",
    "\n",
    "\n",
    "# Note: as shown in the training notebook, the predicted labels and probabilities\n",
    "# computed below need not be compatible.\n",
    "y_pred_labels_test, y_pred_probs_test = get_model_outputs(\n",
    "    X_test, onnx_inference_session\n",
    ")"
   ]
  },
  {
   "cell_type": "markdown",
   "id": "dbae072c",
   "metadata": {
    "papermill": {
     "duration": 0.003973,
     "end_time": "2022-07-10T06:46:12.924457",
     "exception": false,
     "start_time": "2022-07-10T06:46:12.920484",
     "status": "completed"
    },
    "tags": []
   },
   "source": [
    "### Confusion matrix"
   ]
  },
  {
   "cell_type": "code",
   "execution_count": 11,
   "id": "6b24a2ed",
   "metadata": {
    "execution": {
     "iopub.execute_input": "2022-07-10T06:46:12.932858Z",
     "iopub.status.busy": "2022-07-10T06:46:12.932514Z",
     "iopub.status.idle": "2022-07-10T06:46:12.935324Z",
     "shell.execute_reply": "2022-07-10T06:46:12.934768Z"
    },
    "papermill": {
     "duration": 0.008747,
     "end_time": "2022-07-10T06:46:12.936735",
     "exception": false,
     "start_time": "2022-07-10T06:46:12.927988",
     "status": "completed"
    },
    "tags": []
   },
   "outputs": [],
   "source": [
    "# TODO"
   ]
  },
  {
   "cell_type": "markdown",
   "id": "8414dee4",
   "metadata": {
    "papermill": {
     "duration": 0.003499,
     "end_time": "2022-07-10T06:46:12.943904",
     "exception": false,
     "start_time": "2022-07-10T06:46:12.940405",
     "status": "completed"
    },
    "tags": []
   },
   "source": [
    "### Plot predicted probabilities for each classifier over all evaluation digit images"
   ]
  },
  {
   "cell_type": "code",
   "execution_count": 12,
   "id": "3fb9b882",
   "metadata": {
    "execution": {
     "iopub.execute_input": "2022-07-10T06:46:12.952937Z",
     "iopub.status.busy": "2022-07-10T06:46:12.952100Z",
     "iopub.status.idle": "2022-07-10T06:46:15.906449Z",
     "shell.execute_reply": "2022-07-10T06:46:15.904859Z"
    },
    "papermill": {
     "duration": 2.960375,
     "end_time": "2022-07-10T06:46:15.907895",
     "exception": false,
     "start_time": "2022-07-10T06:46:12.947520",
     "status": "completed"
    },
    "tags": []
   },
   "outputs": [
    {
     "data": {
      "image/png": "[encoded data removed]",
      "text/plain": [
       "<Figure size 1152x432 with 10 Axes>"
      ]
     },
     "metadata": {
      "needs_background": "light"
     },
     "output_type": "display_data"
    }
   ],
   "source": [
    "def plot_per_digit_probabilities(y_pred_probs):\n",
    "    fig, axs = plt.subplots(nrows=2, ncols=5, figsize=(16, 6))\n",
    "\n",
    "    for (r, c), digit, ax in zip(\n",
    "        it.product(range(2), range(5)), range(10), axs.reshape(-1)\n",
    "    ):\n",
    "        ax.hist(y_pred_probs_test[:, digit], bins=20)\n",
    "\n",
    "        ax.set_title(f\"Digit {digit}\")\n",
    "        if r == 1 and c == 2:\n",
    "            ax.set_xlabel(\"probability\", fontsize=16)\n",
    "\n",
    "        if c == 0:\n",
    "            ax.set_ylabel(\"counts\", fontsize=16)\n",
    "        ax.set_yscale(\"log\")\n",
    "\n",
    "    fig.tight_layout()\n",
    "    fig.suptitle(\n",
    "        f\"Distributions of prediction probabilities for each digit \"\n",
    "        f\"(on evaluation data, n={y_pred_probs.shape[0]})\",\n",
    "        fontsize=20,\n",
    "    )\n",
    "    fig.tight_layout()\n",
    "    fig.show()\n",
    "\n",
    "    return fig\n",
    "\n",
    "\n",
    "fig = plot_per_digit_probabilities(y_pred_probs_test)"
   ]
  },
  {
   "cell_type": "markdown",
   "id": "417b33ac",
   "metadata": {
    "papermill": {
     "duration": 0.009576,
     "end_time": "2022-07-10T06:46:15.922562",
     "exception": false,
     "start_time": "2022-07-10T06:46:15.912986",
     "status": "completed"
    },
    "tags": []
   },
   "source": [
    "From the above distributions we see that most digits have clear separation between\n",
    "high and lower probabilities. Morover, in each case there is roughly an order of\n",
    "magnitude more of digits with low probabilities. This is compatible with digits\n",
    "being roughly evenly distributed in the data."
   ]
  },
  {
   "cell_type": "code",
   "execution_count": 13,
   "id": "44847a8a",
   "metadata": {
    "execution": {
     "iopub.execute_input": "2022-07-10T06:46:15.938810Z",
     "iopub.status.busy": "2022-07-10T06:46:15.938325Z",
     "iopub.status.idle": "2022-07-10T06:46:16.388601Z",
     "shell.execute_reply": "2022-07-10T06:46:16.387757Z"
    },
    "papermill": {
     "duration": 0.463956,
     "end_time": "2022-07-10T06:46:16.390532",
     "exception": false,
     "start_time": "2022-07-10T06:46:15.926576",
     "status": "completed"
    },
    "tags": []
   },
   "outputs": [],
   "source": [
    "logger.log_figure(\"per-digit-probabilities.png\", fig)"
   ]
  },
  {
   "cell_type": "markdown",
   "id": "72c9e7d8",
   "metadata": {
    "papermill": {
     "duration": 0.004352,
     "end_time": "2022-07-10T06:46:16.399267",
     "exception": false,
     "start_time": "2022-07-10T06:46:16.394915",
     "status": "completed"
    },
    "tags": []
   },
   "source": [
    "### Plot ROC curves for individual one-vs-rest classifiers"
   ]
  },
  {
   "cell_type": "code",
   "execution_count": 14,
   "id": "04c684d0",
   "metadata": {
    "execution": {
     "iopub.execute_input": "2022-07-10T06:46:16.409376Z",
     "iopub.status.busy": "2022-07-10T06:46:16.408794Z",
     "iopub.status.idle": "2022-07-10T06:46:16.794504Z",
     "shell.execute_reply": "2022-07-10T06:46:16.793860Z"
    },
    "papermill": {
     "duration": 0.393136,
     "end_time": "2022-07-10T06:46:16.796572",
     "exception": false,
     "start_time": "2022-07-10T06:46:16.403436",
     "status": "completed"
    },
    "tags": []
   },
   "outputs": [],
   "source": [
    "from sklearn import metrics"
   ]
  },
  {
   "cell_type": "code",
   "execution_count": 15,
   "id": "266ca70c",
   "metadata": {
    "execution": {
     "iopub.execute_input": "2022-07-10T06:46:16.808971Z",
     "iopub.status.busy": "2022-07-10T06:46:16.808702Z",
     "iopub.status.idle": "2022-07-10T06:46:17.848666Z",
     "shell.execute_reply": "2022-07-10T06:46:17.847892Z"
    },
    "papermill": {
     "duration": 1.048867,
     "end_time": "2022-07-10T06:46:17.850866",
     "exception": false,
     "start_time": "2022-07-10T06:46:16.801999",
     "status": "completed"
    },
    "tags": []
   },
   "outputs": [
    {
     "data": {
      "image/png": "[encoded data removed]",
      "text/plain": [
       "<Figure size 1152x576 with 10 Axes>"
      ]
     },
     "metadata": {
      "needs_background": "light"
     },
     "output_type": "display_data"
    }
   ],
   "source": [
    "def plot_roc_curves(y, y_pred_probs):\n",
    "    # based on example code\n",
    "    # https://scikit-learn.org/stable/auto_examples/model_selection/plot_roc.html\n",
    "\n",
    "    fig, axs = plt.subplots(nrows=2, ncols=5, figsize=(16, 8))\n",
    "\n",
    "    roc_auc_dict = {}\n",
    "\n",
    "    for (r, c), digit, ax in zip(\n",
    "        it.product(range(2), range(5)), range(10), axs.reshape(-1)\n",
    "    ):\n",
    "        fpr, tpr, _ = metrics.roc_curve(y == digit, y_pred_probs[:, digit])\n",
    "        auc = metrics.auc(fpr, tpr)\n",
    "        roc_auc_dict[str(digit)] = auc\n",
    "\n",
    "        ax.plot(fpr, tpr, label=f\"ROC AUC={round(auc, 3)}\")\n",
    "\n",
    "        ax.set_title(f\"\\nDigit {digit}\", fontsize=16)\n",
    "        if r == 1:\n",
    "            ax.set_xlabel(\"FPR\", fontsize=18)\n",
    "\n",
    "        if c == 0:\n",
    "            ax.set_ylabel(\"TPR\", fontsize=18)\n",
    "\n",
    "        ax.set_xlim([-0.05, 1.05])\n",
    "        ax.set_ylim([-0.05, 1.05])\n",
    "        ax.legend(loc=\"lower right\", frameon=False, fontsize=14)\n",
    "\n",
    "    fig.tight_layout()\n",
    "    fig.suptitle(\n",
    "        f\"ROC plots for one-vs-rest performances \"\n",
    "        f\"(on evaluation data, n={y_pred_probs_test.shape[1]}\",\n",
    "        fontsize=22,\n",
    "    )\n",
    "    fig.tight_layout()\n",
    "    fig.show()\n",
    "\n",
    "    return roc_auc_dict, fig\n",
    "\n",
    "\n",
    "roc_auc_dict, fig = plot_roc_curves(y_test, y_pred_probs_test)"
   ]
  },
  {
   "cell_type": "code",
   "execution_count": 16,
   "id": "d1d1dc94",
   "metadata": {
    "execution": {
     "iopub.execute_input": "2022-07-10T06:46:17.867989Z",
     "iopub.status.busy": "2022-07-10T06:46:17.867486Z",
     "iopub.status.idle": "2022-07-10T06:46:18.154473Z",
     "shell.execute_reply": "2022-07-10T06:46:18.153821Z"
    },
    "papermill": {
     "duration": 0.299737,
     "end_time": "2022-07-10T06:46:18.156641",
     "exception": false,
     "start_time": "2022-07-10T06:46:17.856904",
     "status": "completed"
    },
    "tags": []
   },
   "outputs": [],
   "source": [
    "logger.log_figure(\"per-digit-roc-curves.png\", fig)"
   ]
  },
  {
   "cell_type": "code",
   "execution_count": 17,
   "id": "4398b434",
   "metadata": {
    "execution": {
     "iopub.execute_input": "2022-07-10T06:46:18.169547Z",
     "iopub.status.busy": "2022-07-10T06:46:18.169251Z",
     "iopub.status.idle": "2022-07-10T06:46:18.174659Z",
     "shell.execute_reply": "2022-07-10T06:46:18.174134Z"
    },
    "papermill": {
     "duration": 0.013992,
     "end_time": "2022-07-10T06:46:18.176561",
     "exception": false,
     "start_time": "2022-07-10T06:46:18.162569",
     "status": "completed"
    },
    "tags": []
   },
   "outputs": [
    {
     "data": {
      "text/plain": [
       "{'0': 1.0,\n",
       " '1': 0.998950328022493,\n",
       " '2': 1.0,\n",
       " '3': 0.9998500468603562,\n",
       " '4': 0.9996189605243103,\n",
       " '5': 0.9994001874414246,\n",
       " '6': 0.999923792104862,\n",
       " '7': 0.9997713763145862,\n",
       " '8': 0.9950346784363178,\n",
       " '9': 0.9995427526291724}"
      ]
     },
     "execution_count": 17,
     "metadata": {},
     "output_type": "execute_result"
    }
   ],
   "source": [
    "roc_auc_dict"
   ]
  },
  {
   "cell_type": "code",
   "execution_count": 18,
   "id": "2e827046",
   "metadata": {
    "execution": {
     "iopub.execute_input": "2022-07-10T06:46:18.191109Z",
     "iopub.status.busy": "2022-07-10T06:46:18.190767Z",
     "iopub.status.idle": "2022-07-10T06:46:18.196030Z",
     "shell.execute_reply": "2022-07-10T06:46:18.195273Z"
    },
    "papermill": {
     "duration": 0.016432,
     "end_time": "2022-07-10T06:46:18.200024",
     "exception": false,
     "start_time": "2022-07-10T06:46:18.183592",
     "status": "completed"
    },
    "tags": []
   },
   "outputs": [
    {
     "name": "stdout",
     "output_type": "stream",
     "text": [
      " - Logging roc_auc_per_digit (json) : {'0': 1.0, '1': 0.998950328022493, '2': 1.0, '3': 0.9998500468603562, '4': 0.9996189605243103, '5': 0.9994001874414246, '6': 0.999923792104862, '7': 0.9997713763145862, '8': 0.9950346784363178, '9': 0.9995427526291724}\n"
     ]
    }
   ],
   "source": [
    "logger.log_value(\"roc_auc_per_digit\", roc_auc_dict)"
   ]
  },
  {
   "cell_type": "markdown",
   "id": "92da3522",
   "metadata": {
    "papermill": {
     "duration": 0.005542,
     "end_time": "2022-07-10T06:46:18.211996",
     "exception": false,
     "start_time": "2022-07-10T06:46:18.206454",
     "status": "completed"
    },
    "tags": []
   },
   "source": [
    "### Compute and log mean ROC AUC score averaged over all digits"
   ]
  },
  {
   "cell_type": "code",
   "execution_count": 19,
   "id": "c55030b2",
   "metadata": {
    "execution": {
     "iopub.execute_input": "2022-07-10T06:46:18.225968Z",
     "iopub.status.busy": "2022-07-10T06:46:18.225674Z",
     "iopub.status.idle": "2022-07-10T06:46:18.248127Z",
     "shell.execute_reply": "2022-07-10T06:46:18.247468Z"
    },
    "papermill": {
     "duration": 0.031607,
     "end_time": "2022-07-10T06:46:18.250024",
     "exception": false,
     "start_time": "2022-07-10T06:46:18.218417",
     "status": "completed"
    },
    "tags": []
   },
   "outputs": [
    {
     "name": "stdout",
     "output_type": "stream",
     "text": [
      " - Logging roc_auc_class_mean (float) : 0.9992092122333522\n"
     ]
    }
   ],
   "source": [
    "roc_auc_macro = np.mean(list(roc_auc_dict.values()))\n",
    "\n",
    "logger.log_float(\"roc_auc_class_mean\", roc_auc_macro)\n",
    "\n",
    "# assert that the same value can be computed directly using sklearn\n",
    "assert roc_auc_macro == metrics.roc_auc_score(\n",
    "    y_test, y_pred_probs_test, average=\"macro\", multi_class=\"ovr\"\n",
    ")"
   ]
  },
  {
   "cell_type": "code",
   "execution_count": 20,
   "id": "0ba9848d",
   "metadata": {
    "execution": {
     "iopub.execute_input": "2022-07-10T06:46:18.264059Z",
     "iopub.status.busy": "2022-07-10T06:46:18.263793Z",
     "iopub.status.idle": "2022-07-10T06:46:18.267111Z",
     "shell.execute_reply": "2022-07-10T06:46:18.266537Z"
    },
    "lines_to_next_cell": 0,
    "papermill": {
     "duration": 0.01376,
     "end_time": "2022-07-10T06:46:18.270287",
     "exception": false,
     "start_time": "2022-07-10T06:46:18.256527",
     "status": "completed"
    },
    "tags": []
   },
   "outputs": [],
   "source": [
    "# ---"
   ]
  },
  {
   "cell_type": "code",
   "execution_count": null,
   "id": "8d5ee269",
   "metadata": {
    "papermill": {
     "duration": 0.006181,
     "end_time": "2022-07-10T06:46:18.282143",
     "exception": false,
     "start_time": "2022-07-10T06:46:18.275962",
     "status": "completed"
    },
    "tags": []
   },
   "outputs": [],
   "source": []
  }
 ],
 "metadata": {
  "jupytext": {
   "cell_metadata_filter": "tags,-all",
   "main_language": "python",
   "notebook_metadata_filter": "-all"
  },
  "language_info": {
   "codemirror_mode": {
    "name": "ipython",
    "version": 3
   },
   "file_extension": ".py",
   "mimetype": "text/x-python",
   "name": "python",
   "nbconvert_exporter": "python",
   "pygments_lexer": "ipython3",
   "version": "3.8.10"
  },
  "papermill": {
   "default_parameters": {},
   "duration": 9.173718,
   "end_time": "2022-07-10T06:46:19.414963",
   "environment_variables": {},
   "exception": null,
   "input_path": "/home/host_user/workspace/mnist-demo-pipeline/mnist-demo-pipeline/notebooks/temp-notebook-eeu0qio8.ipynb",
   "output_path": "notebooks/benchmark-model.ipynb",
   "parameters": {
    "P": {
     "_opentelemetry_traceparent": "00-9dec208046dff2972183177a1640172e-00c90f4a0955e522-01",
     "pipeline.data_lake_root": "/pipeline-outputs/data-lake",
     "pipeline.github.actor": "matiasdahl",
     "pipeline.github.base_ref": "",
     "pipeline.github.event_name": "schedule",
     "pipeline.github.head_ref": "",
     "pipeline.github.job": "run-tests-pipeline-and-persist-pipeline-outputs",
     "pipeline.github.ref": "refs/heads/development",
     "pipeline.github.ref_name": "development",
     "pipeline.github.ref_type": "branch",
     "pipeline.github.repository": "pynb-dag-runner/mnist-digits-demo-pipeline",
     "pipeline.github.run_id": "2643712272",
     "pipeline.github.runner_name": "Hosted Agent",
     "pipeline.github.sha": "147a1be9916173fd4d2cd011d8d51e3411215850",
     "pipeline.github.workflow": "Run automated tests, pipeline and deploy results to static reporting site",
     "pipeline.pipeline_run_id": "0d610b9c-6daa-40a4-8586-4f125460c4f8",
     "pipeline.run_environment": "ci",
     "run.retry_nr": "0",
     "task.max_nr_retries": "1",
     "task.notebook": "notebooks/benchmark-model.py",
     "task.nr_train_images": 1000,
     "task.num_cpus": 1,
     "task.timeout_s": "None"
    }
   },
   "start_time": "2022-07-10T06:46:10.241245",
   "version": "2.3.3"
  }
 },
 "nbformat": 4,
 "nbformat_minor": 5
}