{
 "cells": [
  {
   "cell_type": "markdown",
   "id": "a141850b",
   "metadata": {
    "papermill": {
     "duration": 0.006237,
     "end_time": "2022-07-10T06:46:16.655952",
     "exception": false,
     "start_time": "2022-07-10T06:46:16.649715",
     "status": "completed"
    },
    "tags": []
   },
   "source": [
    "# Benchmark model\n",
    "\n",
    "The purpose of this notebook is to benchmark persisted onnx-model (trained in the\n",
    "previous step) against evaluation set."
   ]
  },
  {
   "cell_type": "markdown",
   "id": "424493d3",
   "metadata": {
    "papermill": {
     "duration": 0.004372,
     "end_time": "2022-07-10T06:46:16.666633",
     "exception": false,
     "start_time": "2022-07-10T06:46:16.662261",
     "status": "completed"
    },
    "tags": []
   },
   "source": [
    "### Determine run parameters"
   ]
  },
  {
   "cell_type": "code",
   "execution_count": 1,
   "id": "d76d0809",
   "metadata": {
    "execution": {
     "iopub.execute_input": "2022-07-10T06:46:16.678360Z",
     "iopub.status.busy": "2022-07-10T06:46:16.678008Z",
     "iopub.status.idle": "2022-07-10T06:46:16.692013Z",
     "shell.execute_reply": "2022-07-10T06:46:16.691473Z"
    },
    "lines_to_next_cell": 0,
    "papermill": {
     "duration": 0.023494,
     "end_time": "2022-07-10T06:46:16.694416",
     "exception": false,
     "start_time": "2022-07-10T06:46:16.670922",
     "status": "completed"
    },
    "tags": []
   },
   "outputs": [],
   "source": [
    "# ----------------- Parameters for interactive development --------------\n",
    "P = {\n",
    "    \"pipeline.data_lake_root\": \"/pipeline-outputs/data-lake\",\n",
    "    \"task.nr_train_images\": 600,\n",
    "}"
   ]
  },
  {
   "cell_type": "code",
   "execution_count": 2,
   "id": "69a62bdc",
   "metadata": {
    "execution": {
     "iopub.execute_input": "2022-07-10T06:46:16.704472Z",
     "iopub.status.busy": "2022-07-10T06:46:16.704217Z",
     "iopub.status.idle": "2022-07-10T06:46:16.707258Z",
     "shell.execute_reply": "2022-07-10T06:46:16.706727Z"
    },
    "lines_to_next_cell": 0,
    "papermill": {
     "duration": 0.011148,
     "end_time": "2022-07-10T06:46:16.710530",
     "exception": false,
     "start_time": "2022-07-10T06:46:16.699382",
     "status": "completed"
    },
    "tags": [
     "parameters"
    ]
   },
   "outputs": [],
   "source": [
    "# - During automated runs parameters will be injected in the below cell -"
   ]
  },
  {
   "cell_type": "code",
   "execution_count": 3,
   "id": "98dfe3d5",
   "metadata": {
    "execution": {
     "iopub.execute_input": "2022-07-10T06:46:16.719399Z",
     "iopub.status.busy": "2022-07-10T06:46:16.719192Z",
     "iopub.status.idle": "2022-07-10T06:46:16.723421Z",
     "shell.execute_reply": "2022-07-10T06:46:16.722929Z"
    },
    "papermill": {
     "duration": 0.011187,
     "end_time": "2022-07-10T06:46:16.725631",
     "exception": false,
     "start_time": "2022-07-10T06:46:16.714444",
     "status": "completed"
    },
    "tags": [
     "injected-parameters"
    ]
   },
   "outputs": [],
   "source": [
    "# Parameters\n",
    "P = {\n",
    "    \"pipeline.data_lake_root\": \"/pipeline-outputs/data-lake\",\n",
    "    \"pipeline.run_environment\": \"ci\",\n",
    "    \"pipeline.pipeline_run_id\": \"0d610b9c-6daa-40a4-8586-4f125460c4f8\",\n",
    "    \"pipeline.github.repository\": \"pynb-dag-runner/mnist-digits-demo-pipeline\",\n",
    "    \"pipeline.github.workflow\": \"Run automated tests, pipeline and deploy results to static reporting site\",\n",
    "    \"pipeline.github.runner_name\": \"Hosted Agent\",\n",
    "    \"pipeline.github.run_id\": \"2643712272\",\n",
    "    \"pipeline.github.actor\": \"matiasdahl\",\n",
    "    \"pipeline.github.job\": \"run-tests-pipeline-and-persist-pipeline-outputs\",\n",
    "    \"pipeline.github.base_ref\": \"\",\n",
    "    \"pipeline.github.head_ref\": \"\",\n",
    "    \"pipeline.github.sha\": \"147a1be9916173fd4d2cd011d8d51e3411215850\",\n",
    "    \"pipeline.github.ref\": \"refs/heads/development\",\n",
    "    \"pipeline.github.ref_type\": \"branch\",\n",
    "    \"pipeline.github.ref_name\": \"development\",\n",
    "    \"pipeline.github.event_name\": \"schedule\",\n",
    "    \"task.nr_train_images\": 1200,\n",
    "    \"task.notebook\": \"notebooks/benchmark-model.py\",\n",
    "    \"task.max_nr_retries\": \"1\",\n",
    "    \"run.retry_nr\": \"0\",\n",
    "    \"task.timeout_s\": \"None\",\n",
    "    \"task.num_cpus\": 1,\n",
    "    \"_opentelemetry_traceparent\": \"00-9dec208046dff2972183177a1640172e-d12396e837e39e47-01\",\n",
    "}\n"
   ]
  },
  {
   "cell_type": "code",
   "execution_count": 4,
   "id": "3d8b25ce",
   "metadata": {
    "execution": {
     "iopub.execute_input": "2022-07-10T06:46:16.735586Z",
     "iopub.status.busy": "2022-07-10T06:46:16.735376Z",
     "iopub.status.idle": "2022-07-10T06:46:16.738045Z",
     "shell.execute_reply": "2022-07-10T06:46:16.737552Z"
    },
    "lines_to_next_cell": 0,
    "papermill": {
     "duration": 0.010979,
     "end_time": "2022-07-10T06:46:16.740442",
     "exception": false,
     "start_time": "2022-07-10T06:46:16.729463",
     "status": "completed"
    },
    "tags": []
   },
   "outputs": [],
   "source": [
    "# -----------------------------------------------------------------------"
   ]
  },
  {
   "cell_type": "markdown",
   "id": "fcd72484",
   "metadata": {
    "papermill": {
     "duration": 0.003843,
     "end_time": "2022-07-10T06:46:16.747945",
     "exception": false,
     "start_time": "2022-07-10T06:46:16.744102",
     "status": "completed"
    },
    "tags": []
   },
   "source": [
    "---"
   ]
  },
  {
   "cell_type": "markdown",
   "id": "6a8679a4",
   "metadata": {
    "lines_to_next_cell": 2,
    "papermill": {
     "duration": 0.003689,
     "end_time": "2022-07-10T06:46:16.755572",
     "exception": false,
     "start_time": "2022-07-10T06:46:16.751883",
     "status": "completed"
    },
    "tags": []
   },
   "source": [
    "### Notebook code"
   ]
  },
  {
   "cell_type": "code",
   "execution_count": 5,
   "id": "9725213b",
   "metadata": {
    "execution": {
     "iopub.execute_input": "2022-07-10T06:46:16.764676Z",
     "iopub.status.busy": "2022-07-10T06:46:16.764445Z",
     "iopub.status.idle": "2022-07-10T06:46:17.864123Z",
     "shell.execute_reply": "2022-07-10T06:46:17.862525Z"
    },
    "papermill": {
     "duration": 1.106671,
     "end_time": "2022-07-10T06:46:17.866394",
     "exception": false,
     "start_time": "2022-07-10T06:46:16.759723",
     "status": "completed"
    },
    "tags": []
   },
   "outputs": [
    {
     "name": "stderr",
     "output_type": "stream",
     "text": [
      "2022-07-10 06:46:17,682\tINFO worker.py:842 -- Connecting to existing Ray cluster at address: 172.17.0.2:6379\n"
     ]
    }
   ],
   "source": [
    "import itertools as it\n",
    "\n",
    "#\n",
    "import numpy as np\n",
    "import matplotlib.pyplot as plt\n",
    "\n",
    "#\n",
    "from pynb_dag_runner.tasks.task_opentelemetry_logging import PydarLogger\n",
    "\n",
    "#\n",
    "from common.io import datalake_root\n",
    "\n",
    "logger = PydarLogger(P)"
   ]
  },
  {
   "cell_type": "markdown",
   "id": "0346dd21",
   "metadata": {
    "papermill": {
     "duration": 0.005116,
     "end_time": "2022-07-10T06:46:17.877790",
     "exception": false,
     "start_time": "2022-07-10T06:46:17.872674",
     "status": "completed"
    },
    "tags": []
   },
   "source": [
    "## Load persisted onnx-model and evaluation data"
   ]
  },
  {
   "cell_type": "code",
   "execution_count": 6,
   "id": "557f898f",
   "metadata": {
    "execution": {
     "iopub.execute_input": "2022-07-10T06:46:17.887642Z",
     "iopub.status.busy": "2022-07-10T06:46:17.887275Z",
     "iopub.status.idle": "2022-07-10T06:46:17.890710Z",
     "shell.execute_reply": "2022-07-10T06:46:17.890150Z"
    },
    "papermill": {
     "duration": 0.010514,
     "end_time": "2022-07-10T06:46:17.892760",
     "exception": false,
     "start_time": "2022-07-10T06:46:17.882246",
     "status": "completed"
    },
    "tags": []
   },
   "outputs": [],
   "source": [
    "from common.io import read_onnx, get_onnx_inputs, get_onnx_outputs, read_numpy"
   ]
  },
  {
   "cell_type": "code",
   "execution_count": 7,
   "id": "9baa9f52",
   "metadata": {
    "execution": {
     "iopub.execute_input": "2022-07-10T06:46:17.903628Z",
     "iopub.status.busy": "2022-07-10T06:46:17.903398Z",
     "iopub.status.idle": "2022-07-10T06:46:17.913719Z",
     "shell.execute_reply": "2022-07-10T06:46:17.913041Z"
    },
    "lines_to_next_cell": 0,
    "papermill": {
     "duration": 0.017734,
     "end_time": "2022-07-10T06:46:17.915799",
     "exception": false,
     "start_time": "2022-07-10T06:46:17.898065",
     "status": "completed"
    },
    "tags": []
   },
   "outputs": [],
   "source": [
    "onnx_inference_session = read_onnx(\n",
    "    datalake_root(P)\n",
    "    / \"models\"\n",
    "    / f\"nr_train_images={P['task.nr_train_images']}\"\n",
    "    / \"model.onnx\"\n",
    ")"
   ]
  },
  {
   "cell_type": "markdown",
   "id": "5e1780f1",
   "metadata": {
    "papermill": {
     "duration": 0.004412,
     "end_time": "2022-07-10T06:46:17.927144",
     "exception": false,
     "start_time": "2022-07-10T06:46:17.922732",
     "status": "completed"
    },
    "tags": []
   },
   "source": [
    "### Record structure of inputs and outputs for ONNX model\n",
    "\n",
    "(this should likely be done in training notebook)"
   ]
  },
  {
   "cell_type": "code",
   "execution_count": 8,
   "id": "d8a0ff7a",
   "metadata": {
    "execution": {
     "iopub.execute_input": "2022-07-10T06:46:17.940539Z",
     "iopub.status.busy": "2022-07-10T06:46:17.940160Z",
     "iopub.status.idle": "2022-07-10T06:46:17.946435Z",
     "shell.execute_reply": "2022-07-10T06:46:17.945684Z"
    },
    "papermill": {
     "duration": 0.014857,
     "end_time": "2022-07-10T06:46:17.949511",
     "exception": false,
     "start_time": "2022-07-10T06:46:17.934654",
     "status": "completed"
    },
    "tags": []
   },
   "outputs": [
    {
     "name": "stdout",
     "output_type": "stream",
     "text": [
      "{\n",
      "  \"inputs\": [\n",
      "    {\n",
      "      \"name\": \"float_input_8x8_image\",\n",
      "      \"shape\": [\n",
      "        null,\n",
      "        64\n",
      "      ],\n",
      "      \"type\": \"tensor(float)\"\n",
      "    }\n",
      "  ],\n",
      "  \"outputs\": [\n",
      "    {\n",
      "      \"name\": \"output_label\",\n",
      "      \"shape\": [\n",
      "        null\n",
      "      ],\n",
      "      \"type\": \"tensor(int64)\"\n",
      "    },\n",
      "    {\n",
      "      \"name\": \"output_probability\",\n",
      "      \"shape\": [],\n",
      "      \"type\": \"seq(map(int64,tensor(float)))\"\n",
      "    }\n",
      "  ]\n",
      "}\n"
     ]
    }
   ],
   "source": [
    "import json\n",
    "\n",
    "onnx_io = json.dumps(\n",
    "    {\n",
    "        \"inputs\": get_onnx_inputs(onnx_inference_session),\n",
    "        \"outputs\": get_onnx_outputs(onnx_inference_session),\n",
    "    },\n",
    "    indent=2,\n",
    ")\n",
    "\n",
    "\n",
    "logger.log_artefact(\"onnx_io_structure.json\", onnx_io)\n",
    "print(onnx_io)"
   ]
  },
  {
   "cell_type": "markdown",
   "id": "ba1ef822",
   "metadata": {
    "papermill": {
     "duration": 0.004486,
     "end_time": "2022-07-10T06:46:17.958802",
     "exception": false,
     "start_time": "2022-07-10T06:46:17.954316",
     "status": "completed"
    },
    "tags": []
   },
   "source": [
    "### Evaluate model performance on evaluation data set"
   ]
  },
  {
   "cell_type": "code",
   "execution_count": 9,
   "id": "0782f98e",
   "metadata": {
    "execution": {
     "iopub.execute_input": "2022-07-10T06:46:17.970006Z",
     "iopub.status.busy": "2022-07-10T06:46:17.969087Z",
     "iopub.status.idle": "2022-07-10T06:46:17.974468Z",
     "shell.execute_reply": "2022-07-10T06:46:17.973790Z"
    },
    "papermill": {
     "duration": 0.013631,
     "end_time": "2022-07-10T06:46:17.977451",
     "exception": false,
     "start_time": "2022-07-10T06:46:17.963820",
     "status": "completed"
    },
    "tags": []
   },
   "outputs": [],
   "source": [
    "# load evaluation data\n",
    "X_test = read_numpy(datalake_root(P) / \"test-data\" / \"digits.numpy\")\n",
    "y_test = read_numpy(datalake_root(P) / \"test-data\" / \"labels.numpy\")"
   ]
  },
  {
   "cell_type": "code",
   "execution_count": 10,
   "id": "7d35ad36",
   "metadata": {
    "execution": {
     "iopub.execute_input": "2022-07-10T06:46:17.988729Z",
     "iopub.status.busy": "2022-07-10T06:46:17.988311Z",
     "iopub.status.idle": "2022-07-10T06:46:18.002023Z",
     "shell.execute_reply": "2022-07-10T06:46:18.001212Z"
    },
    "papermill": {
     "duration": 0.020745,
     "end_time": "2022-07-10T06:46:18.003813",
     "exception": false,
     "start_time": "2022-07-10T06:46:17.983068",
     "status": "completed"
    },
    "tags": []
   },
   "outputs": [],
   "source": [
    "def get_model_outputs(X, onnx_inference_session):\n",
    "    y_pred_labels, y_pred_map = onnx_inference_session.run(\n",
    "        [\"output_label\", \"output_probability\"],\n",
    "        {\"float_input_8x8_image\": X.astype(np.float32)},\n",
    "    )\n",
    "    y_pred_probs = np.array(\n",
    "        [[probabilities[digit] for digit in range(10)] for probabilities in y_pred_map]\n",
    "    )\n",
    "\n",
    "    assert y_pred_labels.shape == (X.shape[0],)\n",
    "    assert y_pred_probs.shape == (X.shape[0], 10)\n",
    "\n",
    "    return y_pred_labels, y_pred_probs\n",
    "\n",
    "\n",
    "# Note: as shown in the training notebook, the predicted labels and probabilities\n",
    "# computed below need not be compatible.\n",
    "y_pred_labels_test, y_pred_probs_test = get_model_outputs(\n",
    "    X_test, onnx_inference_session\n",
    ")"
   ]
  },
  {
   "cell_type": "markdown",
   "id": "dbacac9e",
   "metadata": {
    "papermill": {
     "duration": 0.005182,
     "end_time": "2022-07-10T06:46:18.013414",
     "exception": false,
     "start_time": "2022-07-10T06:46:18.008232",
     "status": "completed"
    },
    "tags": []
   },
   "source": [
    "### Confusion matrix"
   ]
  },
  {
   "cell_type": "code",
   "execution_count": 11,
   "id": "9a9edfc6",
   "metadata": {
    "execution": {
     "iopub.execute_input": "2022-07-10T06:46:18.026917Z",
     "iopub.status.busy": "2022-07-10T06:46:18.026119Z",
     "iopub.status.idle": "2022-07-10T06:46:18.030964Z",
     "shell.execute_reply": "2022-07-10T06:46:18.029989Z"
    },
    "papermill": {
     "duration": 0.015716,
     "end_time": "2022-07-10T06:46:18.033832",
     "exception": false,
     "start_time": "2022-07-10T06:46:18.018116",
     "status": "completed"
    },
    "tags": []
   },
   "outputs": [],
   "source": [
    "# TODO"
   ]
  },
  {
   "cell_type": "markdown",
   "id": "3f6b790c",
   "metadata": {
    "papermill": {
     "duration": 0.00519,
     "end_time": "2022-07-10T06:46:18.043609",
     "exception": false,
     "start_time": "2022-07-10T06:46:18.038419",
     "status": "completed"
    },
    "tags": []
   },
   "source": [
    "### Plot predicted probabilities for each classifier over all evaluation digit images"
   ]
  },
  {
   "cell_type": "code",
   "execution_count": 12,
   "id": "fee760e0",
   "metadata": {
    "execution": {
     "iopub.execute_input": "2022-07-10T06:46:18.054267Z",
     "iopub.status.busy": "2022-07-10T06:46:18.053753Z",
     "iopub.status.idle": "2022-07-10T06:46:21.132021Z",
     "shell.execute_reply": "2022-07-10T06:46:21.130949Z"
    },
    "papermill": {
     "duration": 3.086127,
     "end_time": "2022-07-10T06:46:21.133719",
     "exception": false,
     "start_time": "2022-07-10T06:46:18.047592",
     "status": "completed"
    },
    "tags": []
   },
   "outputs": [
    {
     "data": {
      "image/png": "[encoded data removed]",
      "text/plain": [
       "<Figure size 1152x432 with 10 Axes>"
      ]
     },
     "metadata": {
      "needs_background": "light"
     },
     "output_type": "display_data"
    }
   ],
   "source": [
    "def plot_per_digit_probabilities(y_pred_probs):\n",
    "    fig, axs = plt.subplots(nrows=2, ncols=5, figsize=(16, 6))\n",
    "\n",
    "    for (r, c), digit, ax in zip(\n",
    "        it.product(range(2), range(5)), range(10), axs.reshape(-1)\n",
    "    ):\n",
    "        ax.hist(y_pred_probs_test[:, digit], bins=20)\n",
    "\n",
    "        ax.set_title(f\"Digit {digit}\")\n",
    "        if r == 1 and c == 2:\n",
    "            ax.set_xlabel(\"probability\", fontsize=16)\n",
    "\n",
    "        if c == 0:\n",
    "            ax.set_ylabel(\"counts\", fontsize=16)\n",
    "        ax.set_yscale(\"log\")\n",
    "\n",
    "    fig.tight_layout()\n",
    "    fig.suptitle(\n",
    "        f\"Distributions of prediction probabilities for each digit \"\n",
    "        f\"(on evaluation data, n={y_pred_probs.shape[0]})\",\n",
    "        fontsize=20,\n",
    "    )\n",
    "    fig.tight_layout()\n",
    "    fig.show()\n",
    "\n",
    "    return fig\n",
    "\n",
    "\n",
    "fig = plot_per_digit_probabilities(y_pred_probs_test)"
   ]
  },
  {
   "cell_type": "markdown",
   "id": "6b0ddc06",
   "metadata": {
    "papermill": {
     "duration": 0.004568,
     "end_time": "2022-07-10T06:46:21.143899",
     "exception": false,
     "start_time": "2022-07-10T06:46:21.139331",
     "status": "completed"
    },
    "tags": []
   },
   "source": [
    "From the above distributions we see that most digits have clear separation between\n",
    "high and lower probabilities. Morover, in each case there is roughly an order of\n",
    "magnitude more of digits with low probabilities. This is compatible with digits\n",
    "being roughly evenly distributed in the data."
   ]
  },
  {
   "cell_type": "code",
   "execution_count": 13,
   "id": "34c2fdb1",
   "metadata": {
    "execution": {
     "iopub.execute_input": "2022-07-10T06:46:21.154864Z",
     "iopub.status.busy": "2022-07-10T06:46:21.154085Z",
     "iopub.status.idle": "2022-07-10T06:46:21.548850Z",
     "shell.execute_reply": "2022-07-10T06:46:21.548222Z"
    },
    "papermill": {
     "duration": 0.402385,
     "end_time": "2022-07-10T06:46:21.550789",
     "exception": false,
     "start_time": "2022-07-10T06:46:21.148404",
     "status": "completed"
    },
    "tags": []
   },
   "outputs": [],
   "source": [
    "logger.log_figure(\"per-digit-probabilities.png\", fig)"
   ]
  },
  {
   "cell_type": "markdown",
   "id": "5584bbb6",
   "metadata": {
    "papermill": {
     "duration": 0.004236,
     "end_time": "2022-07-10T06:46:21.559685",
     "exception": false,
     "start_time": "2022-07-10T06:46:21.555449",
     "status": "completed"
    },
    "tags": []
   },
   "source": [
    "### Plot ROC curves for individual one-vs-rest classifiers"
   ]
  },
  {
   "cell_type": "code",
   "execution_count": 14,
   "id": "7bbc5344",
   "metadata": {
    "execution": {
     "iopub.execute_input": "2022-07-10T06:46:21.569598Z",
     "iopub.status.busy": "2022-07-10T06:46:21.569338Z",
     "iopub.status.idle": "2022-07-10T06:46:21.925607Z",
     "shell.execute_reply": "2022-07-10T06:46:21.924977Z"
    },
    "papermill": {
     "duration": 0.36341,
     "end_time": "2022-07-10T06:46:21.927645",
     "exception": false,
     "start_time": "2022-07-10T06:46:21.564235",
     "status": "completed"
    },
    "tags": []
   },
   "outputs": [],
   "source": [
    "from sklearn import metrics"
   ]
  },
  {
   "cell_type": "code",
   "execution_count": 15,
   "id": "9826012d",
   "metadata": {
    "execution": {
     "iopub.execute_input": "2022-07-10T06:46:21.938373Z",
     "iopub.status.busy": "2022-07-10T06:46:21.937889Z",
     "iopub.status.idle": "2022-07-10T06:46:22.900188Z",
     "shell.execute_reply": "2022-07-10T06:46:22.899521Z"
    },
    "papermill": {
     "duration": 0.969449,
     "end_time": "2022-07-10T06:46:22.901983",
     "exception": false,
     "start_time": "2022-07-10T06:46:21.932534",
     "status": "completed"
    },
    "tags": []
   },
   "outputs": [
    {
     "data": {
      "image/png": "[encoded data removed]",
      "text/plain": [
       "<Figure size 1152x576 with 10 Axes>"
      ]
     },
     "metadata": {
      "needs_background": "light"
     },
     "output_type": "display_data"
    }
   ],
   "source": [
    "def plot_roc_curves(y, y_pred_probs):\n",
    "    # based on example code\n",
    "    # https://scikit-learn.org/stable/auto_examples/model_selection/plot_roc.html\n",
    "\n",
    "    fig, axs = plt.subplots(nrows=2, ncols=5, figsize=(16, 8))\n",
    "\n",
    "    roc_auc_dict = {}\n",
    "\n",
    "    for (r, c), digit, ax in zip(\n",
    "        it.product(range(2), range(5)), range(10), axs.reshape(-1)\n",
    "    ):\n",
    "        fpr, tpr, _ = metrics.roc_curve(y == digit, y_pred_probs[:, digit])\n",
    "        auc = metrics.auc(fpr, tpr)\n",
    "        roc_auc_dict[str(digit)] = auc\n",
    "\n",
    "        ax.plot(fpr, tpr, label=f\"ROC AUC={round(auc, 3)}\")\n",
    "\n",
    "        ax.set_title(f\"\\nDigit {digit}\", fontsize=16)\n",
    "        if r == 1:\n",
    "            ax.set_xlabel(\"FPR\", fontsize=18)\n",
    "\n",
    "        if c == 0:\n",
    "            ax.set_ylabel(\"TPR\", fontsize=18)\n",
    "\n",
    "        ax.set_xlim([-0.05, 1.05])\n",
    "        ax.set_ylim([-0.05, 1.05])\n",
    "        ax.legend(loc=\"lower right\", frameon=False, fontsize=14)\n",
    "\n",
    "    fig.tight_layout()\n",
    "    fig.suptitle(\n",
    "        f\"ROC plots for one-vs-rest performances \"\n",
    "        f\"(on evaluation data, n={y_pred_probs_test.shape[1]}\",\n",
    "        fontsize=22,\n",
    "    )\n",
    "    fig.tight_layout()\n",
    "    fig.show()\n",
    "\n",
    "    return roc_auc_dict, fig\n",
    "\n",
    "\n",
    "roc_auc_dict, fig = plot_roc_curves(y_test, y_pred_probs_test)"
   ]
  },
  {
   "cell_type": "code",
   "execution_count": 16,
   "id": "781109cd",
   "metadata": {
    "execution": {
     "iopub.execute_input": "2022-07-10T06:46:22.915641Z",
     "iopub.status.busy": "2022-07-10T06:46:22.915229Z",
     "iopub.status.idle": "2022-07-10T06:46:23.114264Z",
     "shell.execute_reply": "2022-07-10T06:46:23.113593Z"
    },
    "papermill": {
     "duration": 0.208605,
     "end_time": "2022-07-10T06:46:23.116190",
     "exception": false,
     "start_time": "2022-07-10T06:46:22.907585",
     "status": "completed"
    },
    "tags": []
   },
   "outputs": [],
   "source": [
    "logger.log_figure(\"per-digit-roc-curves.png\", fig)"
   ]
  },
  {
   "cell_type": "code",
   "execution_count": 17,
   "id": "74597b92",
   "metadata": {
    "execution": {
     "iopub.execute_input": "2022-07-10T06:46:23.129363Z",
     "iopub.status.busy": "2022-07-10T06:46:23.129026Z",
     "iopub.status.idle": "2022-07-10T06:46:23.133877Z",
     "shell.execute_reply": "2022-07-10T06:46:23.133059Z"
    },
    "papermill": {
     "duration": 0.012917,
     "end_time": "2022-07-10T06:46:23.135391",
     "exception": false,
     "start_time": "2022-07-10T06:46:23.122474",
     "status": "completed"
    },
    "tags": []
   },
   "outputs": [
    {
     "data": {
      "text/plain": [
       "{'0': 1.0,\n",
       " '1': 0.998987816307404,\n",
       " '2': 1.0,\n",
       " '3': 0.9998500468603562,\n",
       " '4': 0.9997713763145861,\n",
       " '5': 0.9997000937207123,\n",
       " '6': 0.999923792104862,\n",
       " '7': 0.9998475842097242,\n",
       " '8': 0.9957440100882724,\n",
       " '9': 0.9997713763145862}"
      ]
     },
     "execution_count": 17,
     "metadata": {},
     "output_type": "execute_result"
    }
   ],
   "source": [
    "roc_auc_dict"
   ]
  },
  {
   "cell_type": "code",
   "execution_count": 18,
   "id": "a3d7f85d",
   "metadata": {
    "execution": {
     "iopub.execute_input": "2022-07-10T06:46:23.147469Z",
     "iopub.status.busy": "2022-07-10T06:46:23.147135Z",
     "iopub.status.idle": "2022-07-10T06:46:23.155256Z",
     "shell.execute_reply": "2022-07-10T06:46:23.153347Z"
    },
    "papermill": {
     "duration": 0.016416,
     "end_time": "2022-07-10T06:46:23.157236",
     "exception": false,
     "start_time": "2022-07-10T06:46:23.140820",
     "status": "completed"
    },
    "tags": []
   },
   "outputs": [
    {
     "name": "stdout",
     "output_type": "stream",
     "text": [
      " - Logging roc_auc_per_digit (json) : {'0': 1.0, '1': 0.998987816307404, '2': 1.0, '3': 0.9998500468603562, '4': 0.9997713763145861, '5': 0.9997000937207123, '6': 0.999923792104862, '7': 0.9998475842097242, '8': 0.9957440100882724, '9': 0.9997713763145862}\n"
     ]
    }
   ],
   "source": [
    "logger.log_value(\"roc_auc_per_digit\", roc_auc_dict)"
   ]
  },
  {
   "cell_type": "markdown",
   "id": "cb905255",
   "metadata": {
    "papermill": {
     "duration": 0.005371,
     "end_time": "2022-07-10T06:46:23.167972",
     "exception": false,
     "start_time": "2022-07-10T06:46:23.162601",
     "status": "completed"
    },
    "tags": []
   },
   "source": [
    "### Compute and log mean ROC AUC score averaged over all digits"
   ]
  },
  {
   "cell_type": "code",
   "execution_count": 19,
   "id": "df3cabf4",
   "metadata": {
    "execution": {
     "iopub.execute_input": "2022-07-10T06:46:23.179800Z",
     "iopub.status.busy": "2022-07-10T06:46:23.179405Z",
     "iopub.status.idle": "2022-07-10T06:46:23.192192Z",
     "shell.execute_reply": "2022-07-10T06:46:23.191541Z"
    },
    "papermill": {
     "duration": 0.020562,
     "end_time": "2022-07-10T06:46:23.193827",
     "exception": false,
     "start_time": "2022-07-10T06:46:23.173265",
     "status": "completed"
    },
    "tags": []
   },
   "outputs": [
    {
     "name": "stdout",
     "output_type": "stream",
     "text": [
      " - Logging roc_auc_class_mean (float) : 0.9993596095920502\n"
     ]
    }
   ],
   "source": [
    "roc_auc_macro = np.mean(list(roc_auc_dict.values()))\n",
    "\n",
    "logger.log_float(\"roc_auc_class_mean\", roc_auc_macro)\n",
    "\n",
    "# assert that the same value can be computed directly using sklearn\n",
    "assert roc_auc_macro == metrics.roc_auc_score(\n",
    "    y_test, y_pred_probs_test, average=\"macro\", multi_class=\"ovr\"\n",
    ")"
   ]
  },
  {
   "cell_type": "code",
   "execution_count": 20,
   "id": "09dffac3",
   "metadata": {
    "execution": {
     "iopub.execute_input": "2022-07-10T06:46:23.206381Z",
     "iopub.status.busy": "2022-07-10T06:46:23.205805Z",
     "iopub.status.idle": "2022-07-10T06:46:23.208903Z",
     "shell.execute_reply": "2022-07-10T06:46:23.208171Z"
    },
    "lines_to_next_cell": 0,
    "papermill": {
     "duration": 0.011009,
     "end_time": "2022-07-10T06:46:23.210543",
     "exception": false,
     "start_time": "2022-07-10T06:46:23.199534",
     "status": "completed"
    },
    "tags": []
   },
   "outputs": [],
   "source": [
    "# ---"
   ]
  },
  {
   "cell_type": "code",
   "execution_count": null,
   "id": "a8bdb26c",
   "metadata": {
    "papermill": {
     "duration": 0.005402,
     "end_time": "2022-07-10T06:46:23.221121",
     "exception": false,
     "start_time": "2022-07-10T06:46:23.215719",
     "status": "completed"
    },
    "tags": []
   },
   "outputs": [],
   "source": []
  }
 ],
 "metadata": {
  "jupytext": {
   "cell_metadata_filter": "tags,-all",
   "main_language": "python",
   "notebook_metadata_filter": "-all"
  },
  "language_info": {
   "codemirror_mode": {
    "name": "ipython",
    "version": 3
   },
   "file_extension": ".py",
   "mimetype": "text/x-python",
   "name": "python",
   "nbconvert_exporter": "python",
   "pygments_lexer": "ipython3",
   "version": "3.8.10"
  },
  "papermill": {
   "default_parameters": {},
   "duration": 8.992146,
   "end_time": "2022-07-10T06:46:24.345481",
   "environment_variables": {},
   "exception": null,
   "input_path": "/home/host_user/workspace/mnist-demo-pipeline/mnist-demo-pipeline/notebooks/temp-notebook-yppqubuv.ipynb",
   "output_path": "notebooks/benchmark-model.ipynb",
   "parameters": {
    "P": {
     "_opentelemetry_traceparent": "00-9dec208046dff2972183177a1640172e-d12396e837e39e47-01",
     "pipeline.data_lake_root": "/pipeline-outputs/data-lake",
     "pipeline.github.actor": "matiasdahl",
     "pipeline.github.base_ref": "",
     "pipeline.github.event_name": "schedule",
     "pipeline.github.head_ref": "",
     "pipeline.github.job": "run-tests-pipeline-and-persist-pipeline-outputs",
     "pipeline.github.ref": "refs/heads/development",
     "pipeline.github.ref_name": "development",
     "pipeline.github.ref_type": "branch",
     "pipeline.github.repository": "pynb-dag-runner/mnist-digits-demo-pipeline",
     "pipeline.github.run_id": "2643712272",
     "pipeline.github.runner_name": "Hosted Agent",
     "pipeline.github.sha": "147a1be9916173fd4d2cd011d8d51e3411215850",
     "pipeline.github.workflow": "Run automated tests, pipeline and deploy results to static reporting site",
     "pipeline.pipeline_run_id": "0d610b9c-6daa-40a4-8586-4f125460c4f8",
     "pipeline.run_environment": "ci",
     "run.retry_nr": "0",
     "task.max_nr_retries": "1",
     "task.notebook": "notebooks/benchmark-model.py",
     "task.nr_train_images": 1200,
     "task.num_cpus": 1,
     "task.timeout_s": "None"
    }
   },
   "start_time": "2022-07-10T06:46:15.353335",
   "version": "2.3.3"
  }
 },
 "nbformat": 4,
 "nbformat_minor": 5
}