{
 "cells": [
  {
   "cell_type": "markdown",
   "id": "77b6c6d0",
   "metadata": {
    "papermill": {
     "duration": 0.005796,
     "end_time": "2022-07-10T06:46:00.677641",
     "exception": false,
     "start_time": "2022-07-10T06:46:00.671845",
     "status": "completed"
    },
    "tags": []
   },
   "source": [
    "# Benchmark model\n",
    "\n",
    "The purpose of this notebook is to benchmark persisted onnx-model (trained in the\n",
    "previous step) against evaluation set."
   ]
  },
  {
   "cell_type": "markdown",
   "id": "ff183c3f",
   "metadata": {
    "papermill": {
     "duration": 0.004274,
     "end_time": "2022-07-10T06:46:00.686933",
     "exception": false,
     "start_time": "2022-07-10T06:46:00.682659",
     "status": "completed"
    },
    "tags": []
   },
   "source": [
    "### Determine run parameters"
   ]
  },
  {
   "cell_type": "code",
   "execution_count": 1,
   "id": "23d045ba",
   "metadata": {
    "execution": {
     "iopub.execute_input": "2022-07-10T06:46:00.695607Z",
     "iopub.status.busy": "2022-07-10T06:46:00.695267Z",
     "iopub.status.idle": "2022-07-10T06:46:00.704403Z",
     "shell.execute_reply": "2022-07-10T06:46:00.703794Z"
    },
    "lines_to_next_cell": 0,
    "papermill": {
     "duration": 0.015721,
     "end_time": "2022-07-10T06:46:00.706285",
     "exception": false,
     "start_time": "2022-07-10T06:46:00.690564",
     "status": "completed"
    },
    "tags": []
   },
   "outputs": [],
   "source": [
    "# ----------------- Parameters for interactive development --------------\n",
    "P = {\n",
    "    \"pipeline.data_lake_root\": \"/pipeline-outputs/data-lake\",\n",
    "    \"task.nr_train_images\": 600,\n",
    "}"
   ]
  },
  {
   "cell_type": "code",
   "execution_count": 2,
   "id": "fcba6679",
   "metadata": {
    "execution": {
     "iopub.execute_input": "2022-07-10T06:46:00.715811Z",
     "iopub.status.busy": "2022-07-10T06:46:00.715567Z",
     "iopub.status.idle": "2022-07-10T06:46:00.719284Z",
     "shell.execute_reply": "2022-07-10T06:46:00.718390Z"
    },
    "lines_to_next_cell": 0,
    "papermill": {
     "duration": 0.011092,
     "end_time": "2022-07-10T06:46:00.722016",
     "exception": false,
     "start_time": "2022-07-10T06:46:00.710924",
     "status": "completed"
    },
    "tags": [
     "parameters"
    ]
   },
   "outputs": [],
   "source": [
    "# - During automated runs parameters will be injected in the below cell -"
   ]
  },
  {
   "cell_type": "code",
   "execution_count": 3,
   "id": "257d8f78",
   "metadata": {
    "execution": {
     "iopub.execute_input": "2022-07-10T06:46:00.730982Z",
     "iopub.status.busy": "2022-07-10T06:46:00.730547Z",
     "iopub.status.idle": "2022-07-10T06:46:00.735455Z",
     "shell.execute_reply": "2022-07-10T06:46:00.734729Z"
    },
    "papermill": {
     "duration": 0.012558,
     "end_time": "2022-07-10T06:46:00.738067",
     "exception": false,
     "start_time": "2022-07-10T06:46:00.725509",
     "status": "completed"
    },
    "tags": [
     "injected-parameters"
    ]
   },
   "outputs": [],
   "source": [
    "# Parameters\n",
    "P = {\n",
    "    \"pipeline.data_lake_root\": \"/pipeline-outputs/data-lake\",\n",
    "    \"pipeline.run_environment\": \"ci\",\n",
    "    \"pipeline.pipeline_run_id\": \"0d610b9c-6daa-40a4-8586-4f125460c4f8\",\n",
    "    \"pipeline.github.repository\": \"pynb-dag-runner/mnist-digits-demo-pipeline\",\n",
    "    \"pipeline.github.workflow\": \"Run automated tests, pipeline and deploy results to static reporting site\",\n",
    "    \"pipeline.github.runner_name\": \"Hosted Agent\",\n",
    "    \"pipeline.github.run_id\": \"2643712272\",\n",
    "    \"pipeline.github.actor\": \"matiasdahl\",\n",
    "    \"pipeline.github.job\": \"run-tests-pipeline-and-persist-pipeline-outputs\",\n",
    "    \"pipeline.github.base_ref\": \"\",\n",
    "    \"pipeline.github.head_ref\": \"\",\n",
    "    \"pipeline.github.sha\": \"147a1be9916173fd4d2cd011d8d51e3411215850\",\n",
    "    \"pipeline.github.ref\": \"refs/heads/development\",\n",
    "    \"pipeline.github.ref_type\": \"branch\",\n",
    "    \"pipeline.github.ref_name\": \"development\",\n",
    "    \"pipeline.github.event_name\": \"schedule\",\n",
    "    \"task.nr_train_images\": 600,\n",
    "    \"task.notebook\": \"notebooks/benchmark-model.py\",\n",
    "    \"task.max_nr_retries\": \"1\",\n",
    "    \"run.retry_nr\": \"0\",\n",
    "    \"task.timeout_s\": \"None\",\n",
    "    \"task.num_cpus\": 1,\n",
    "    \"_opentelemetry_traceparent\": \"00-9dec208046dff2972183177a1640172e-6daee5e85f9eec20-01\",\n",
    "}\n"
   ]
  },
  {
   "cell_type": "code",
   "execution_count": 4,
   "id": "8842d31e",
   "metadata": {
    "execution": {
     "iopub.execute_input": "2022-07-10T06:46:00.747952Z",
     "iopub.status.busy": "2022-07-10T06:46:00.747755Z",
     "iopub.status.idle": "2022-07-10T06:46:00.751064Z",
     "shell.execute_reply": "2022-07-10T06:46:00.750519Z"
    },
    "lines_to_next_cell": 0,
    "papermill": {
     "duration": 0.011458,
     "end_time": "2022-07-10T06:46:00.753266",
     "exception": false,
     "start_time": "2022-07-10T06:46:00.741808",
     "status": "completed"
    },
    "tags": []
   },
   "outputs": [],
   "source": [
    "# -----------------------------------------------------------------------"
   ]
  },
  {
   "cell_type": "markdown",
   "id": "5b2e5d9d",
   "metadata": {
    "papermill": {
     "duration": 0.004072,
     "end_time": "2022-07-10T06:46:00.761024",
     "exception": false,
     "start_time": "2022-07-10T06:46:00.756952",
     "status": "completed"
    },
    "tags": []
   },
   "source": [
    "---"
   ]
  },
  {
   "cell_type": "markdown",
   "id": "50580809",
   "metadata": {
    "lines_to_next_cell": 2,
    "papermill": {
     "duration": 0.003272,
     "end_time": "2022-07-10T06:46:00.768004",
     "exception": false,
     "start_time": "2022-07-10T06:46:00.764732",
     "status": "completed"
    },
    "tags": []
   },
   "source": [
    "### Notebook code"
   ]
  },
  {
   "cell_type": "code",
   "execution_count": 5,
   "id": "452c8821",
   "metadata": {
    "execution": {
     "iopub.execute_input": "2022-07-10T06:46:00.777002Z",
     "iopub.status.busy": "2022-07-10T06:46:00.776770Z",
     "iopub.status.idle": "2022-07-10T06:46:01.851933Z",
     "shell.execute_reply": "2022-07-10T06:46:01.851163Z"
    },
    "papermill": {
     "duration": 1.081511,
     "end_time": "2022-07-10T06:46:01.853723",
     "exception": false,
     "start_time": "2022-07-10T06:46:00.772212",
     "status": "completed"
    },
    "tags": []
   },
   "outputs": [
    {
     "name": "stderr",
     "output_type": "stream",
     "text": [
      "2022-07-10 06:46:01,695\tINFO worker.py:842 -- Connecting to existing Ray cluster at address: 172.17.0.2:6379\n"
     ]
    }
   ],
   "source": [
    "import itertools as it\n",
    "\n",
    "#\n",
    "import numpy as np\n",
    "import matplotlib.pyplot as plt\n",
    "\n",
    "#\n",
    "from pynb_dag_runner.tasks.task_opentelemetry_logging import PydarLogger\n",
    "\n",
    "#\n",
    "from common.io import datalake_root\n",
    "\n",
    "logger = PydarLogger(P)"
   ]
  },
  {
   "cell_type": "markdown",
   "id": "2a53a8e1",
   "metadata": {
    "papermill": {
     "duration": 0.003928,
     "end_time": "2022-07-10T06:46:01.861435",
     "exception": false,
     "start_time": "2022-07-10T06:46:01.857507",
     "status": "completed"
    },
    "tags": []
   },
   "source": [
    "## Load persisted onnx-model and evaluation data"
   ]
  },
  {
   "cell_type": "code",
   "execution_count": 6,
   "id": "8808694f",
   "metadata": {
    "execution": {
     "iopub.execute_input": "2022-07-10T06:46:01.869745Z",
     "iopub.status.busy": "2022-07-10T06:46:01.869158Z",
     "iopub.status.idle": "2022-07-10T06:46:01.873454Z",
     "shell.execute_reply": "2022-07-10T06:46:01.872672Z"
    },
    "papermill": {
     "duration": 0.01069,
     "end_time": "2022-07-10T06:46:01.875426",
     "exception": false,
     "start_time": "2022-07-10T06:46:01.864736",
     "status": "completed"
    },
    "tags": []
   },
   "outputs": [],
   "source": [
    "from common.io import read_onnx, get_onnx_inputs, get_onnx_outputs, read_numpy"
   ]
  },
  {
   "cell_type": "code",
   "execution_count": 7,
   "id": "b03e5c33",
   "metadata": {
    "execution": {
     "iopub.execute_input": "2022-07-10T06:46:01.885055Z",
     "iopub.status.busy": "2022-07-10T06:46:01.884634Z",
     "iopub.status.idle": "2022-07-10T06:46:01.894956Z",
     "shell.execute_reply": "2022-07-10T06:46:01.894340Z"
    },
    "lines_to_next_cell": 0,
    "papermill": {
     "duration": 0.016924,
     "end_time": "2022-07-10T06:46:01.896443",
     "exception": false,
     "start_time": "2022-07-10T06:46:01.879519",
     "status": "completed"
    },
    "tags": []
   },
   "outputs": [],
   "source": [
    "onnx_inference_session = read_onnx(\n",
    "    datalake_root(P)\n",
    "    / \"models\"\n",
    "    / f\"nr_train_images={P['task.nr_train_images']}\"\n",
    "    / \"model.onnx\"\n",
    ")"
   ]
  },
  {
   "cell_type": "markdown",
   "id": "6189274e",
   "metadata": {
    "papermill": {
     "duration": 0.004264,
     "end_time": "2022-07-10T06:46:01.904564",
     "exception": false,
     "start_time": "2022-07-10T06:46:01.900300",
     "status": "completed"
    },
    "tags": []
   },
   "source": [
    "### Record structure of inputs and outputs for ONNX model\n",
    "\n",
    "(this should likely be done in training notebook)"
   ]
  },
  {
   "cell_type": "code",
   "execution_count": 8,
   "id": "bbf583d5",
   "metadata": {
    "execution": {
     "iopub.execute_input": "2022-07-10T06:46:01.916498Z",
     "iopub.status.busy": "2022-07-10T06:46:01.916102Z",
     "iopub.status.idle": "2022-07-10T06:46:01.921834Z",
     "shell.execute_reply": "2022-07-10T06:46:01.921139Z"
    },
    "papermill": {
     "duration": 0.012752,
     "end_time": "2022-07-10T06:46:01.923260",
     "exception": false,
     "start_time": "2022-07-10T06:46:01.910508",
     "status": "completed"
    },
    "tags": []
   },
   "outputs": [
    {
     "name": "stdout",
     "output_type": "stream",
     "text": [
      "{\n",
      "  \"inputs\": [\n",
      "    {\n",
      "      \"name\": \"float_input_8x8_image\",\n",
      "      \"shape\": [\n",
      "        null,\n",
      "        64\n",
      "      ],\n",
      "      \"type\": \"tensor(float)\"\n",
      "    }\n",
      "  ],\n",
      "  \"outputs\": [\n",
      "    {\n",
      "      \"name\": \"output_label\",\n",
      "      \"shape\": [\n",
      "        null\n",
      "      ],\n",
      "      \"type\": \"tensor(int64)\"\n",
      "    },\n",
      "    {\n",
      "      \"name\": \"output_probability\",\n",
      "      \"shape\": [],\n",
      "      \"type\": \"seq(map(int64,tensor(float)))\"\n",
      "    }\n",
      "  ]\n",
      "}\n"
     ]
    }
   ],
   "source": [
    "import json\n",
    "\n",
    "onnx_io = json.dumps(\n",
    "    {\n",
    "        \"inputs\": get_onnx_inputs(onnx_inference_session),\n",
    "        \"outputs\": get_onnx_outputs(onnx_inference_session),\n",
    "    },\n",
    "    indent=2,\n",
    ")\n",
    "\n",
    "\n",
    "logger.log_artefact(\"onnx_io_structure.json\", onnx_io)\n",
    "print(onnx_io)"
   ]
  },
  {
   "cell_type": "markdown",
   "id": "e136f7ba",
   "metadata": {
    "papermill": {
     "duration": 0.003899,
     "end_time": "2022-07-10T06:46:01.931152",
     "exception": false,
     "start_time": "2022-07-10T06:46:01.927253",
     "status": "completed"
    },
    "tags": []
   },
   "source": [
    "### Evaluate model performance on evaluation data set"
   ]
  },
  {
   "cell_type": "code",
   "execution_count": 9,
   "id": "bc2535dc",
   "metadata": {
    "execution": {
     "iopub.execute_input": "2022-07-10T06:46:01.939962Z",
     "iopub.status.busy": "2022-07-10T06:46:01.939744Z",
     "iopub.status.idle": "2022-07-10T06:46:01.944759Z",
     "shell.execute_reply": "2022-07-10T06:46:01.943602Z"
    },
    "papermill": {
     "duration": 0.01137,
     "end_time": "2022-07-10T06:46:01.946291",
     "exception": false,
     "start_time": "2022-07-10T06:46:01.934921",
     "status": "completed"
    },
    "tags": []
   },
   "outputs": [],
   "source": [
    "# load evaluation data\n",
    "X_test = read_numpy(datalake_root(P) / \"test-data\" / \"digits.numpy\")\n",
    "y_test = read_numpy(datalake_root(P) / \"test-data\" / \"labels.numpy\")"
   ]
  },
  {
   "cell_type": "code",
   "execution_count": 10,
   "id": "06cb66ac",
   "metadata": {
    "execution": {
     "iopub.execute_input": "2022-07-10T06:46:01.955620Z",
     "iopub.status.busy": "2022-07-10T06:46:01.955292Z",
     "iopub.status.idle": "2022-07-10T06:46:01.966194Z",
     "shell.execute_reply": "2022-07-10T06:46:01.965624Z"
    },
    "papermill": {
     "duration": 0.017105,
     "end_time": "2022-07-10T06:46:01.967589",
     "exception": false,
     "start_time": "2022-07-10T06:46:01.950484",
     "status": "completed"
    },
    "tags": []
   },
   "outputs": [],
   "source": [
    "def get_model_outputs(X, onnx_inference_session):\n",
    "    y_pred_labels, y_pred_map = onnx_inference_session.run(\n",
    "        [\"output_label\", \"output_probability\"],\n",
    "        {\"float_input_8x8_image\": X.astype(np.float32)},\n",
    "    )\n",
    "    y_pred_probs = np.array(\n",
    "        [[probabilities[digit] for digit in range(10)] for probabilities in y_pred_map]\n",
    "    )\n",
    "\n",
    "    assert y_pred_labels.shape == (X.shape[0],)\n",
    "    assert y_pred_probs.shape == (X.shape[0], 10)\n",
    "\n",
    "    return y_pred_labels, y_pred_probs\n",
    "\n",
    "\n",
    "# Note: as shown in the training notebook, the predicted labels and probabilities\n",
    "# computed below need not be compatible.\n",
    "y_pred_labels_test, y_pred_probs_test = get_model_outputs(\n",
    "    X_test, onnx_inference_session\n",
    ")"
   ]
  },
  {
   "cell_type": "markdown",
   "id": "c9bc1457",
   "metadata": {
    "papermill": {
     "duration": 0.004412,
     "end_time": "2022-07-10T06:46:01.976408",
     "exception": false,
     "start_time": "2022-07-10T06:46:01.971996",
     "status": "completed"
    },
    "tags": []
   },
   "source": [
    "### Confusion matrix"
   ]
  },
  {
   "cell_type": "code",
   "execution_count": 11,
   "id": "082cad66",
   "metadata": {
    "execution": {
     "iopub.execute_input": "2022-07-10T06:46:01.985761Z",
     "iopub.status.busy": "2022-07-10T06:46:01.985406Z",
     "iopub.status.idle": "2022-07-10T06:46:01.988263Z",
     "shell.execute_reply": "2022-07-10T06:46:01.987701Z"
    },
    "papermill": {
     "duration": 0.00937,
     "end_time": "2022-07-10T06:46:01.989615",
     "exception": false,
     "start_time": "2022-07-10T06:46:01.980245",
     "status": "completed"
    },
    "tags": []
   },
   "outputs": [],
   "source": [
    "# TODO"
   ]
  },
  {
   "cell_type": "markdown",
   "id": "5c2fcede",
   "metadata": {
    "papermill": {
     "duration": 0.004076,
     "end_time": "2022-07-10T06:46:01.997706",
     "exception": false,
     "start_time": "2022-07-10T06:46:01.993630",
     "status": "completed"
    },
    "tags": []
   },
   "source": [
    "### Plot predicted probabilities for each classifier over all evaluation digit images"
   ]
  },
  {
   "cell_type": "code",
   "execution_count": 12,
   "id": "5cc355ce",
   "metadata": {
    "execution": {
     "iopub.execute_input": "2022-07-10T06:46:02.007087Z",
     "iopub.status.busy": "2022-07-10T06:46:02.006761Z",
     "iopub.status.idle": "2022-07-10T06:46:05.104185Z",
     "shell.execute_reply": "2022-07-10T06:46:05.103507Z"
    },
    "papermill": {
     "duration": 3.104163,
     "end_time": "2022-07-10T06:46:05.105827",
     "exception": false,
     "start_time": "2022-07-10T06:46:02.001664",
     "status": "completed"
    },
    "tags": []
   },
   "outputs": [
    {
     "data": {
      "image/png": "[encoded data removed]",
      "text/plain": [
       "<Figure size 1152x432 with 10 Axes>"
      ]
     },
     "metadata": {
      "needs_background": "light"
     },
     "output_type": "display_data"
    }
   ],
   "source": [
    "def plot_per_digit_probabilities(y_pred_probs):\n",
    "    fig, axs = plt.subplots(nrows=2, ncols=5, figsize=(16, 6))\n",
    "\n",
    "    for (r, c), digit, ax in zip(\n",
    "        it.product(range(2), range(5)), range(10), axs.reshape(-1)\n",
    "    ):\n",
    "        ax.hist(y_pred_probs_test[:, digit], bins=20)\n",
    "\n",
    "        ax.set_title(f\"Digit {digit}\")\n",
    "        if r == 1 and c == 2:\n",
    "            ax.set_xlabel(\"probability\", fontsize=16)\n",
    "\n",
    "        if c == 0:\n",
    "            ax.set_ylabel(\"counts\", fontsize=16)\n",
    "        ax.set_yscale(\"log\")\n",
    "\n",
    "    fig.tight_layout()\n",
    "    fig.suptitle(\n",
    "        f\"Distributions of prediction probabilities for each digit \"\n",
    "        f\"(on evaluation data, n={y_pred_probs.shape[0]})\",\n",
    "        fontsize=20,\n",
    "    )\n",
    "    fig.tight_layout()\n",
    "    fig.show()\n",
    "\n",
    "    return fig\n",
    "\n",
    "\n",
    "fig = plot_per_digit_probabilities(y_pred_probs_test)"
   ]
  },
  {
   "cell_type": "markdown",
   "id": "b0573e57",
   "metadata": {
    "papermill": {
     "duration": 0.00412,
     "end_time": "2022-07-10T06:46:05.114781",
     "exception": false,
     "start_time": "2022-07-10T06:46:05.110661",
     "status": "completed"
    },
    "tags": []
   },
   "source": [
    "From the above distributions we see that most digits have clear separation between\n",
    "high and lower probabilities. Morover, in each case there is roughly an order of\n",
    "magnitude more of digits with low probabilities. This is compatible with digits\n",
    "being roughly evenly distributed in the data."
   ]
  },
  {
   "cell_type": "code",
   "execution_count": 13,
   "id": "d519e621",
   "metadata": {
    "execution": {
     "iopub.execute_input": "2022-07-10T06:46:05.124582Z",
     "iopub.status.busy": "2022-07-10T06:46:05.124164Z",
     "iopub.status.idle": "2022-07-10T06:46:05.538865Z",
     "shell.execute_reply": "2022-07-10T06:46:05.537919Z"
    },
    "papermill": {
     "duration": 0.421791,
     "end_time": "2022-07-10T06:46:05.540681",
     "exception": false,
     "start_time": "2022-07-10T06:46:05.118890",
     "status": "completed"
    },
    "tags": []
   },
   "outputs": [],
   "source": [
    "logger.log_figure(\"per-digit-probabilities.png\", fig)"
   ]
  },
  {
   "cell_type": "markdown",
   "id": "013d72a4",
   "metadata": {
    "papermill": {
     "duration": 0.004564,
     "end_time": "2022-07-10T06:46:05.549681",
     "exception": false,
     "start_time": "2022-07-10T06:46:05.545117",
     "status": "completed"
    },
    "tags": []
   },
   "source": [
    "### Plot ROC curves for individual one-vs-rest classifiers"
   ]
  },
  {
   "cell_type": "code",
   "execution_count": 14,
   "id": "8ce1072c",
   "metadata": {
    "execution": {
     "iopub.execute_input": "2022-07-10T06:46:05.560796Z",
     "iopub.status.busy": "2022-07-10T06:46:05.560244Z",
     "iopub.status.idle": "2022-07-10T06:46:05.957909Z",
     "shell.execute_reply": "2022-07-10T06:46:05.957063Z"
    },
    "papermill": {
     "duration": 0.405404,
     "end_time": "2022-07-10T06:46:05.960146",
     "exception": false,
     "start_time": "2022-07-10T06:46:05.554742",
     "status": "completed"
    },
    "tags": []
   },
   "outputs": [],
   "source": [
    "from sklearn import metrics"
   ]
  },
  {
   "cell_type": "code",
   "execution_count": 15,
   "id": "1d2a2b2e",
   "metadata": {
    "execution": {
     "iopub.execute_input": "2022-07-10T06:46:05.972355Z",
     "iopub.status.busy": "2022-07-10T06:46:05.971991Z",
     "iopub.status.idle": "2022-07-10T06:46:07.052957Z",
     "shell.execute_reply": "2022-07-10T06:46:07.052140Z"
    },
    "papermill": {
     "duration": 1.089982,
     "end_time": "2022-07-10T06:46:07.054472",
     "exception": false,
     "start_time": "2022-07-10T06:46:05.964490",
     "status": "completed"
    },
    "tags": []
   },
   "outputs": [
    {
     "data": {
      "image/png": "[encoded data removed]",
      "text/plain": [
       "<Figure size 1152x576 with 10 Axes>"
      ]
     },
     "metadata": {
      "needs_background": "light"
     },
     "output_type": "display_data"
    }
   ],
   "source": [
    "def plot_roc_curves(y, y_pred_probs):\n",
    "    # based on example code\n",
    "    # https://scikit-learn.org/stable/auto_examples/model_selection/plot_roc.html\n",
    "\n",
    "    fig, axs = plt.subplots(nrows=2, ncols=5, figsize=(16, 8))\n",
    "\n",
    "    roc_auc_dict = {}\n",
    "\n",
    "    for (r, c), digit, ax in zip(\n",
    "        it.product(range(2), range(5)), range(10), axs.reshape(-1)\n",
    "    ):\n",
    "        fpr, tpr, _ = metrics.roc_curve(y == digit, y_pred_probs[:, digit])\n",
    "        auc = metrics.auc(fpr, tpr)\n",
    "        roc_auc_dict[str(digit)] = auc\n",
    "\n",
    "        ax.plot(fpr, tpr, label=f\"ROC AUC={round(auc, 3)}\")\n",
    "\n",
    "        ax.set_title(f\"\\nDigit {digit}\", fontsize=16)\n",
    "        if r == 1:\n",
    "            ax.set_xlabel(\"FPR\", fontsize=18)\n",
    "\n",
    "        if c == 0:\n",
    "            ax.set_ylabel(\"TPR\", fontsize=18)\n",
    "\n",
    "        ax.set_xlim([-0.05, 1.05])\n",
    "        ax.set_ylim([-0.05, 1.05])\n",
    "        ax.legend(loc=\"lower right\", frameon=False, fontsize=14)\n",
    "\n",
    "    fig.tight_layout()\n",
    "    fig.suptitle(\n",
    "        f\"ROC plots for one-vs-rest performances \"\n",
    "        f\"(on evaluation data, n={y_pred_probs_test.shape[1]}\",\n",
    "        fontsize=22,\n",
    "    )\n",
    "    fig.tight_layout()\n",
    "    fig.show()\n",
    "\n",
    "    return roc_auc_dict, fig\n",
    "\n",
    "\n",
    "roc_auc_dict, fig = plot_roc_curves(y_test, y_pred_probs_test)"
   ]
  },
  {
   "cell_type": "code",
   "execution_count": 16,
   "id": "4440fce6",
   "metadata": {
    "execution": {
     "iopub.execute_input": "2022-07-10T06:46:07.066755Z",
     "iopub.status.busy": "2022-07-10T06:46:07.066467Z",
     "iopub.status.idle": "2022-07-10T06:46:07.289993Z",
     "shell.execute_reply": "2022-07-10T06:46:07.289186Z"
    },
    "papermill": {
     "duration": 0.231605,
     "end_time": "2022-07-10T06:46:07.292010",
     "exception": false,
     "start_time": "2022-07-10T06:46:07.060405",
     "status": "completed"
    },
    "tags": []
   },
   "outputs": [],
   "source": [
    "logger.log_figure(\"per-digit-roc-curves.png\", fig)"
   ]
  },
  {
   "cell_type": "code",
   "execution_count": 17,
   "id": "52041749",
   "metadata": {
    "execution": {
     "iopub.execute_input": "2022-07-10T06:46:07.304886Z",
     "iopub.status.busy": "2022-07-10T06:46:07.304165Z",
     "iopub.status.idle": "2022-07-10T06:46:07.309360Z",
     "shell.execute_reply": "2022-07-10T06:46:07.308760Z"
    },
    "papermill": {
     "duration": 0.015028,
     "end_time": "2022-07-10T06:46:07.313089",
     "exception": false,
     "start_time": "2022-07-10T06:46:07.298061",
     "status": "completed"
    },
    "tags": []
   },
   "outputs": [
    {
     "data": {
      "text/plain": [
       "{'0': 1.0,\n",
       " '1': 0.9992127460168697,\n",
       " '2': 1.0,\n",
       " '3': 0.9998125585754452,\n",
       " '4': 0.9990855052583447,\n",
       " '5': 0.998950328022493,\n",
       " '6': 0.999923792104862,\n",
       " '7': 0.9998475842097241,\n",
       " '8': 0.994798234552333,\n",
       " '9': 0.9988949855204999}"
      ]
     },
     "execution_count": 17,
     "metadata": {},
     "output_type": "execute_result"
    }
   ],
   "source": [
    "roc_auc_dict"
   ]
  },
  {
   "cell_type": "code",
   "execution_count": 18,
   "id": "03ac8096",
   "metadata": {
    "execution": {
     "iopub.execute_input": "2022-07-10T06:46:07.324455Z",
     "iopub.status.busy": "2022-07-10T06:46:07.324225Z",
     "iopub.status.idle": "2022-07-10T06:46:07.328499Z",
     "shell.execute_reply": "2022-07-10T06:46:07.327840Z"
    },
    "papermill": {
     "duration": 0.012402,
     "end_time": "2022-07-10T06:46:07.330846",
     "exception": false,
     "start_time": "2022-07-10T06:46:07.318444",
     "status": "completed"
    },
    "tags": []
   },
   "outputs": [
    {
     "name": "stdout",
     "output_type": "stream",
     "text": [
      " - Logging roc_auc_per_digit (json) : {'0': 1.0, '1': 0.9992127460168697, '2': 1.0, '3': 0.9998125585754452, '4': 0.9990855052583447, '5': 0.998950328022493, '6': 0.999923792104862, '7': 0.9998475842097241, '8': 0.994798234552333, '9': 0.9988949855204999}\n"
     ]
    }
   ],
   "source": [
    "logger.log_value(\"roc_auc_per_digit\", roc_auc_dict)"
   ]
  },
  {
   "cell_type": "markdown",
   "id": "c7f4325b",
   "metadata": {
    "papermill": {
     "duration": 0.005605,
     "end_time": "2022-07-10T06:46:07.341152",
     "exception": false,
     "start_time": "2022-07-10T06:46:07.335547",
     "status": "completed"
    },
    "tags": []
   },
   "source": [
    "### Compute and log mean ROC AUC score averaged over all digits"
   ]
  },
  {
   "cell_type": "code",
   "execution_count": 19,
   "id": "d4ccd1f3",
   "metadata": {
    "execution": {
     "iopub.execute_input": "2022-07-10T06:46:07.352950Z",
     "iopub.status.busy": "2022-07-10T06:46:07.352514Z",
     "iopub.status.idle": "2022-07-10T06:46:07.371458Z",
     "shell.execute_reply": "2022-07-10T06:46:07.370544Z"
    },
    "papermill": {
     "duration": 0.027454,
     "end_time": "2022-07-10T06:46:07.373340",
     "exception": false,
     "start_time": "2022-07-10T06:46:07.345886",
     "status": "completed"
    },
    "tags": []
   },
   "outputs": [
    {
     "name": "stdout",
     "output_type": "stream",
     "text": [
      " - Logging roc_auc_class_mean (float) : 0.9990525734260572\n"
     ]
    }
   ],
   "source": [
    "roc_auc_macro = np.mean(list(roc_auc_dict.values()))\n",
    "\n",
    "logger.log_float(\"roc_auc_class_mean\", roc_auc_macro)\n",
    "\n",
    "# assert that the same value can be computed directly using sklearn\n",
    "assert roc_auc_macro == metrics.roc_auc_score(\n",
    "    y_test, y_pred_probs_test, average=\"macro\", multi_class=\"ovr\"\n",
    ")"
   ]
  },
  {
   "cell_type": "code",
   "execution_count": 20,
   "id": "60202397",
   "metadata": {
    "execution": {
     "iopub.execute_input": "2022-07-10T06:46:07.386611Z",
     "iopub.status.busy": "2022-07-10T06:46:07.386279Z",
     "iopub.status.idle": "2022-07-10T06:46:07.389694Z",
     "shell.execute_reply": "2022-07-10T06:46:07.388955Z"
    },
    "lines_to_next_cell": 0,
    "papermill": {
     "duration": 0.011972,
     "end_time": "2022-07-10T06:46:07.391898",
     "exception": false,
     "start_time": "2022-07-10T06:46:07.379926",
     "status": "completed"
    },
    "tags": []
   },
   "outputs": [],
   "source": [
    "# ---"
   ]
  },
  {
   "cell_type": "code",
   "execution_count": null,
   "id": "4b3e3c3f",
   "metadata": {
    "papermill": {
     "duration": 0.005726,
     "end_time": "2022-07-10T06:46:07.402413",
     "exception": false,
     "start_time": "2022-07-10T06:46:07.396687",
     "status": "completed"
    },
    "tags": []
   },
   "outputs": [],
   "source": []
  }
 ],
 "metadata": {
  "jupytext": {
   "cell_metadata_filter": "tags,-all",
   "main_language": "python",
   "notebook_metadata_filter": "-all"
  },
  "language_info": {
   "codemirror_mode": {
    "name": "ipython",
    "version": 3
   },
   "file_extension": ".py",
   "mimetype": "text/x-python",
   "name": "python",
   "nbconvert_exporter": "python",
   "pygments_lexer": "ipython3",
   "version": "3.8.10"
  },
  "papermill": {
   "default_parameters": {},
   "duration": 9.721567,
   "end_time": "2022-07-10T06:46:08.628433",
   "environment_variables": {},
   "exception": null,
   "input_path": "/home/host_user/workspace/mnist-demo-pipeline/mnist-demo-pipeline/notebooks/temp-notebook-pq98njh2.ipynb",
   "output_path": "notebooks/benchmark-model.ipynb",
   "parameters": {
    "P": {
     "_opentelemetry_traceparent": "00-9dec208046dff2972183177a1640172e-6daee5e85f9eec20-01",
     "pipeline.data_lake_root": "/pipeline-outputs/data-lake",
     "pipeline.github.actor": "matiasdahl",
     "pipeline.github.base_ref": "",
     "pipeline.github.event_name": "schedule",
     "pipeline.github.head_ref": "",
     "pipeline.github.job": "run-tests-pipeline-and-persist-pipeline-outputs",
     "pipeline.github.ref": "refs/heads/development",
     "pipeline.github.ref_name": "development",
     "pipeline.github.ref_type": "branch",
     "pipeline.github.repository": "pynb-dag-runner/mnist-digits-demo-pipeline",
     "pipeline.github.run_id": "2643712272",
     "pipeline.github.runner_name": "Hosted Agent",
     "pipeline.github.sha": "147a1be9916173fd4d2cd011d8d51e3411215850",
     "pipeline.github.workflow": "Run automated tests, pipeline and deploy results to static reporting site",
     "pipeline.pipeline_run_id": "0d610b9c-6daa-40a4-8586-4f125460c4f8",
     "pipeline.run_environment": "ci",
     "run.retry_nr": "0",
     "task.max_nr_retries": "1",
     "task.notebook": "notebooks/benchmark-model.py",
     "task.nr_train_images": 600,
     "task.num_cpus": 1,
     "task.timeout_s": "None"
    }
   },
   "start_time": "2022-07-10T06:45:58.906866",
   "version": "2.3.3"
  }
 },
 "nbformat": 4,
 "nbformat_minor": 5
}