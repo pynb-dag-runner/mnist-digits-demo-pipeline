{
 "cells": [
  {
   "cell_type": "markdown",
   "id": "3fbc2840",
   "metadata": {
    "papermill": {
     "duration": 0.003538,
     "end_time": "2022-07-10T06:46:26.454829",
     "exception": false,
     "start_time": "2022-07-10T06:46:26.451291",
     "status": "completed"
    },
    "tags": []
   },
   "source": [
    "# Summarize model performances\n",
    "\n",
    "This notebooks plots the performances (using averaged ROC AUC scores) for models\n",
    "trained with different training sets."
   ]
  },
  {
   "cell_type": "markdown",
   "id": "05b28515",
   "metadata": {
    "papermill": {
     "duration": 0.00218,
     "end_time": "2022-07-10T06:46:26.459607",
     "exception": false,
     "start_time": "2022-07-10T06:46:26.457427",
     "status": "completed"
    },
    "tags": []
   },
   "source": [
    "### Determine run parameters"
   ]
  },
  {
   "cell_type": "code",
   "execution_count": 1,
   "id": "ef72aa75",
   "metadata": {
    "execution": {
     "iopub.execute_input": "2022-07-10T06:46:26.465672Z",
     "iopub.status.busy": "2022-07-10T06:46:26.465115Z",
     "iopub.status.idle": "2022-07-10T06:46:26.472273Z",
     "shell.execute_reply": "2022-07-10T06:46:26.471668Z"
    },
    "lines_to_next_cell": 0,
    "papermill": {
     "duration": 0.012317,
     "end_time": "2022-07-10T06:46:26.473902",
     "exception": false,
     "start_time": "2022-07-10T06:46:26.461585",
     "status": "completed"
    },
    "tags": []
   },
   "outputs": [],
   "source": [
    "# ----------------- Parameters for interactive development --------------\n",
    "P = {\n",
    "    \"pipeline.run_environment\": \"dev\",\n",
    "}"
   ]
  },
  {
   "cell_type": "code",
   "execution_count": 2,
   "id": "ac032dd6",
   "metadata": {
    "execution": {
     "iopub.execute_input": "2022-07-10T06:46:26.479446Z",
     "iopub.status.busy": "2022-07-10T06:46:26.479115Z",
     "iopub.status.idle": "2022-07-10T06:46:26.482188Z",
     "shell.execute_reply": "2022-07-10T06:46:26.481597Z"
    },
    "lines_to_next_cell": 0,
    "papermill": {
     "duration": 0.007148,
     "end_time": "2022-07-10T06:46:26.483420",
     "exception": false,
     "start_time": "2022-07-10T06:46:26.476272",
     "status": "completed"
    },
    "tags": [
     "parameters"
    ]
   },
   "outputs": [],
   "source": [
    "# - During automated runs parameters will be injected in the below cell -"
   ]
  },
  {
   "cell_type": "code",
   "execution_count": 3,
   "id": "9750277e",
   "metadata": {
    "execution": {
     "iopub.execute_input": "2022-07-10T06:46:26.489057Z",
     "iopub.status.busy": "2022-07-10T06:46:26.488674Z",
     "iopub.status.idle": "2022-07-10T06:46:26.493162Z",
     "shell.execute_reply": "2022-07-10T06:46:26.492490Z"
    },
    "papermill": {
     "duration": 0.008906,
     "end_time": "2022-07-10T06:46:26.494647",
     "exception": false,
     "start_time": "2022-07-10T06:46:26.485741",
     "status": "completed"
    },
    "tags": [
     "injected-parameters"
    ]
   },
   "outputs": [],
   "source": [
    "# Parameters\n",
    "P = {\n",
    "    \"pipeline.data_lake_root\": \"/pipeline-outputs/data-lake\",\n",
    "    \"pipeline.run_environment\": \"ci\",\n",
    "    \"pipeline.pipeline_run_id\": \"0d610b9c-6daa-40a4-8586-4f125460c4f8\",\n",
    "    \"pipeline.github.repository\": \"pynb-dag-runner/mnist-digits-demo-pipeline\",\n",
    "    \"pipeline.github.workflow\": \"Run automated tests, pipeline and deploy results to static reporting site\",\n",
    "    \"pipeline.github.runner_name\": \"Hosted Agent\",\n",
    "    \"pipeline.github.run_id\": \"2643712272\",\n",
    "    \"pipeline.github.actor\": \"matiasdahl\",\n",
    "    \"pipeline.github.job\": \"run-tests-pipeline-and-persist-pipeline-outputs\",\n",
    "    \"pipeline.github.base_ref\": \"\",\n",
    "    \"pipeline.github.head_ref\": \"\",\n",
    "    \"pipeline.github.sha\": \"147a1be9916173fd4d2cd011d8d51e3411215850\",\n",
    "    \"pipeline.github.ref\": \"refs/heads/development\",\n",
    "    \"pipeline.github.ref_type\": \"branch\",\n",
    "    \"pipeline.github.ref_name\": \"development\",\n",
    "    \"pipeline.github.event_name\": \"schedule\",\n",
    "    \"task.notebook\": \"notebooks/summary.py\",\n",
    "    \"task.max_nr_retries\": \"1\",\n",
    "    \"run.retry_nr\": \"0\",\n",
    "    \"task.timeout_s\": \"None\",\n",
    "    \"task.num_cpus\": 1,\n",
    "    \"_opentelemetry_traceparent\": \"00-9dec208046dff2972183177a1640172e-3f1feb8f2ae191fa-01\",\n",
    "}\n"
   ]
  },
  {
   "cell_type": "code",
   "execution_count": 4,
   "id": "4672f2da",
   "metadata": {
    "execution": {
     "iopub.execute_input": "2022-07-10T06:46:26.500351Z",
     "iopub.status.busy": "2022-07-10T06:46:26.499762Z",
     "iopub.status.idle": "2022-07-10T06:46:26.502575Z",
     "shell.execute_reply": "2022-07-10T06:46:26.502067Z"
    },
    "lines_to_next_cell": 0,
    "papermill": {
     "duration": 0.006933,
     "end_time": "2022-07-10T06:46:26.503889",
     "exception": false,
     "start_time": "2022-07-10T06:46:26.496956",
     "status": "completed"
    },
    "tags": []
   },
   "outputs": [],
   "source": [
    "# -----------------------------------------------------------------------"
   ]
  },
  {
   "cell_type": "markdown",
   "id": "501e8a8e",
   "metadata": {
    "papermill": {
     "duration": 0.002137,
     "end_time": "2022-07-10T06:46:26.508359",
     "exception": false,
     "start_time": "2022-07-10T06:46:26.506222",
     "status": "completed"
    },
    "tags": []
   },
   "source": [
    "---"
   ]
  },
  {
   "cell_type": "markdown",
   "id": "9c6d046b",
   "metadata": {
    "lines_to_next_cell": 2,
    "papermill": {
     "duration": 0.002083,
     "end_time": "2022-07-10T06:46:26.513135",
     "exception": false,
     "start_time": "2022-07-10T06:46:26.511052",
     "status": "completed"
    },
    "tags": []
   },
   "source": [
    "### Notebook code"
   ]
  },
  {
   "cell_type": "code",
   "execution_count": 5,
   "id": "89be2fa2",
   "metadata": {
    "execution": {
     "iopub.execute_input": "2022-07-10T06:46:26.518905Z",
     "iopub.status.busy": "2022-07-10T06:46:26.518401Z",
     "iopub.status.idle": "2022-07-10T06:46:27.620199Z",
     "shell.execute_reply": "2022-07-10T06:46:27.619434Z"
    },
    "papermill": {
     "duration": 1.106558,
     "end_time": "2022-07-10T06:46:27.621991",
     "exception": false,
     "start_time": "2022-07-10T06:46:26.515433",
     "status": "completed"
    },
    "tags": []
   },
   "outputs": [],
   "source": [
    "#\n",
    "import pandas as pd\n",
    "import matplotlib.pyplot as plt\n",
    "\n",
    "#\n",
    "from pynb_dag_runner.tasks.task_opentelemetry_logging import PydarLogger"
   ]
  },
  {
   "cell_type": "code",
   "execution_count": 6,
   "id": "502565ab",
   "metadata": {
    "execution": {
     "iopub.execute_input": "2022-07-10T06:46:27.629398Z",
     "iopub.status.busy": "2022-07-10T06:46:27.628896Z",
     "iopub.status.idle": "2022-07-10T06:46:27.787122Z",
     "shell.execute_reply": "2022-07-10T06:46:27.786401Z"
    },
    "papermill": {
     "duration": 0.16398,
     "end_time": "2022-07-10T06:46:27.789156",
     "exception": false,
     "start_time": "2022-07-10T06:46:27.625176",
     "status": "completed"
    },
    "tags": []
   },
   "outputs": [
    {
     "name": "stderr",
     "output_type": "stream",
     "text": [
      "2022-07-10 06:46:27,633\tINFO worker.py:842 -- Connecting to existing Ray cluster at address: 172.17.0.2:6379\n"
     ]
    }
   ],
   "source": [
    "logger = PydarLogger(P=P)"
   ]
  },
  {
   "cell_type": "code",
   "execution_count": 7,
   "id": "5ee8d249",
   "metadata": {
    "execution": {
     "iopub.execute_input": "2022-07-10T06:46:27.796388Z",
     "iopub.status.busy": "2022-07-10T06:46:27.796159Z",
     "iopub.status.idle": "2022-07-10T06:46:27.799465Z",
     "shell.execute_reply": "2022-07-10T06:46:27.798654Z"
    },
    "papermill": {
     "duration": 0.008712,
     "end_time": "2022-07-10T06:46:27.801079",
     "exception": false,
     "start_time": "2022-07-10T06:46:27.792367",
     "status": "completed"
    },
    "tags": []
   },
   "outputs": [],
   "source": [
    "from pynb_dag_runner.tasks.task_opentelemetry_logging import (\n",
    "    PydarLogger,\n",
    "    get_logged_values,\n",
    ")\n",
    "from pynb_dag_runner.opentelemetry_helpers import _get_all_spans, Spans"
   ]
  },
  {
   "cell_type": "code",
   "execution_count": 8,
   "id": "ff24ef85",
   "metadata": {
    "execution": {
     "iopub.execute_input": "2022-07-10T06:46:27.808970Z",
     "iopub.status.busy": "2022-07-10T06:46:27.808769Z",
     "iopub.status.idle": "2022-07-10T06:46:27.814984Z",
     "shell.execute_reply": "2022-07-10T06:46:27.814365Z"
    },
    "papermill": {
     "duration": 0.0115,
     "end_time": "2022-07-10T06:46:27.816713",
     "exception": false,
     "start_time": "2022-07-10T06:46:27.805213",
     "status": "completed"
    },
    "tags": []
   },
   "outputs": [],
   "source": [
    "def get_model_benchmarks():\n",
    "    \"\"\"\n",
    "    Query the OpenTelemetry logs for *this pipeline run* and return\n",
    "    all key-values logged from all runs of the benchmark-model.py task\n",
    "\n",
    "    For testing a json file with OpenTelemetry spans (as an array)\n",
    "    can be used as follows:\n",
    "\n",
    "    - Create output directory `mkdir /tmp/spans`\n",
    "    - Run unit tests. This will create pipeline-outputs/opentelemetry-spans.json\n",
    "    - Convert this json-array into jsonl format as follows\n",
    "\n",
    "    jq -c '.[]' /pipeline-outputs/opentelemetry-spans.json > /tmp/spans/data.txt\n",
    "\n",
    "    \"\"\"\n",
    "    spans: Spans = Spans(_get_all_spans())\n",
    "    print(f\"Found {len(spans)} spans\")\n",
    "\n",
    "    benchmark_spans = (\n",
    "        spans\n",
    "        # -\n",
    "        .filter([\"name\"], \"execute-task\")\n",
    "        # -\n",
    "        .filter([\"attributes\", \"task.notebook\"], \"notebooks/benchmark-model.py\")\n",
    "    )\n",
    "\n",
    "    result = []\n",
    "    for s in benchmark_spans:\n",
    "        result.append(\n",
    "            {\n",
    "                \"span_id\": s[\"context\"][\"span_id\"],\n",
    "                \"nr_train_images\": s[\"attributes\"][\"task.nr_train_images\"],\n",
    "                \"data\": get_logged_values(spans.bound_under(s)),\n",
    "            }\n",
    "        )\n",
    "\n",
    "    return result\n",
    "\n",
    "\n",
    "def adjust_pandas(df):\n",
    "    def column_renamer(col_name: str) -> str:\n",
    "        return (\n",
    "            col_name\n",
    "            # -- 'data.roc_auc_per_digit.4' -> 'roc_auc.4'\n",
    "            .replace(\"data.roc_auc_per_digit\", \"roc_auc\")\n",
    "            # -- 'data.roc_auc_class_mean' -> 'roc_auc_mean'\n",
    "            .replace(\"data.roc_auc_class_mean\", \"roc_auc_mean\")\n",
    "        )\n",
    "\n",
    "    return df.rename(column_renamer, axis=\"columns\").sort_values(by=\"nr_train_images\")"
   ]
  },
  {
   "cell_type": "code",
   "execution_count": 9,
   "id": "9a0b1c5a",
   "metadata": {
    "execution": {
     "iopub.execute_input": "2022-07-10T06:46:27.823531Z",
     "iopub.status.busy": "2022-07-10T06:46:27.823129Z",
     "iopub.status.idle": "2022-07-10T06:46:47.472063Z",
     "shell.execute_reply": "2022-07-10T06:46:47.471411Z"
    },
    "papermill": {
     "duration": 19.654546,
     "end_time": "2022-07-10T06:46:47.474101",
     "exception": false,
     "start_time": "2022-07-10T06:46:27.819555",
     "status": "completed"
    },
    "tags": []
   },
   "outputs": [
    {
     "name": "stdout",
     "output_type": "stream",
     "text": [
      "Found 423 spans\n"
     ]
    }
   ],
   "source": [
    "df_data = adjust_pandas(pd.json_normalize(get_model_benchmarks()))"
   ]
  },
  {
   "cell_type": "code",
   "execution_count": 10,
   "id": "821c02d6",
   "metadata": {
    "execution": {
     "iopub.execute_input": "2022-07-10T06:46:47.481739Z",
     "iopub.status.busy": "2022-07-10T06:46:47.480944Z",
     "iopub.status.idle": "2022-07-10T06:46:47.504138Z",
     "shell.execute_reply": "2022-07-10T06:46:47.503445Z"
    },
    "papermill": {
     "duration": 0.028422,
     "end_time": "2022-07-10T06:46:47.505710",
     "exception": false,
     "start_time": "2022-07-10T06:46:47.477288",
     "status": "completed"
    },
    "tags": []
   },
   "outputs": [
    {
     "data": {
      "text/html": [
       "<div>\n",
       "<style scoped>\n",
       "    .dataframe tbody tr th:only-of-type {\n",
       "        vertical-align: middle;\n",
       "    }\n",
       "\n",
       "    .dataframe tbody tr th {\n",
       "        vertical-align: top;\n",
       "    }\n",
       "\n",
       "    .dataframe thead th {\n",
       "        text-align: right;\n",
       "    }\n",
       "</style>\n",
       "<table border=\"1\" class=\"dataframe\">\n",
       "  <thead>\n",
       "    <tr style=\"text-align: right;\">\n",
       "      <th></th>\n",
       "      <th>span_id</th>\n",
       "      <th>nr_train_images</th>\n",
       "      <th>roc_auc_mean</th>\n",
       "      <th>roc_auc.0</th>\n",
       "      <th>roc_auc.1</th>\n",
       "      <th>roc_auc.2</th>\n",
       "      <th>roc_auc.3</th>\n",
       "      <th>roc_auc.4</th>\n",
       "      <th>roc_auc.5</th>\n",
       "      <th>roc_auc.6</th>\n",
       "      <th>roc_auc.7</th>\n",
       "      <th>roc_auc.8</th>\n",
       "      <th>roc_auc.9</th>\n",
       "    </tr>\n",
       "  </thead>\n",
       "  <tbody>\n",
       "    <tr>\n",
       "      <th>0</th>\n",
       "      <td>0x5d60142f5cd05bde</td>\n",
       "      <td>600</td>\n",
       "      <td>0.9991</td>\n",
       "      <td>1.0</td>\n",
       "      <td>0.9992</td>\n",
       "      <td>1.0</td>\n",
       "      <td>0.9998</td>\n",
       "      <td>0.9991</td>\n",
       "      <td>0.9990</td>\n",
       "      <td>0.9999</td>\n",
       "      <td>0.9998</td>\n",
       "      <td>0.9948</td>\n",
       "      <td>0.9989</td>\n",
       "    </tr>\n",
       "    <tr>\n",
       "      <th>1</th>\n",
       "      <td>0x52ed7affd6c9ae57</td>\n",
       "      <td>800</td>\n",
       "      <td>0.9989</td>\n",
       "      <td>1.0</td>\n",
       "      <td>0.9988</td>\n",
       "      <td>1.0</td>\n",
       "      <td>0.9999</td>\n",
       "      <td>0.9995</td>\n",
       "      <td>0.9990</td>\n",
       "      <td>1.0000</td>\n",
       "      <td>0.9999</td>\n",
       "      <td>0.9927</td>\n",
       "      <td>0.9994</td>\n",
       "    </tr>\n",
       "    <tr>\n",
       "      <th>3</th>\n",
       "      <td>0x59190988b489415a</td>\n",
       "      <td>1000</td>\n",
       "      <td>0.9992</td>\n",
       "      <td>1.0</td>\n",
       "      <td>0.9990</td>\n",
       "      <td>1.0</td>\n",
       "      <td>0.9999</td>\n",
       "      <td>0.9996</td>\n",
       "      <td>0.9994</td>\n",
       "      <td>0.9999</td>\n",
       "      <td>0.9998</td>\n",
       "      <td>0.9950</td>\n",
       "      <td>0.9995</td>\n",
       "    </tr>\n",
       "    <tr>\n",
       "      <th>2</th>\n",
       "      <td>0x6087a82a871cb419</td>\n",
       "      <td>1200</td>\n",
       "      <td>0.9994</td>\n",
       "      <td>1.0</td>\n",
       "      <td>0.9990</td>\n",
       "      <td>1.0</td>\n",
       "      <td>0.9999</td>\n",
       "      <td>0.9998</td>\n",
       "      <td>0.9997</td>\n",
       "      <td>0.9999</td>\n",
       "      <td>0.9998</td>\n",
       "      <td>0.9957</td>\n",
       "      <td>0.9998</td>\n",
       "    </tr>\n",
       "  </tbody>\n",
       "</table>\n",
       "</div>"
      ],
      "text/plain": [
       "              span_id  nr_train_images  roc_auc_mean  roc_auc.0  roc_auc.1  \\\n",
       "0  0x5d60142f5cd05bde              600        0.9991        1.0     0.9992   \n",
       "1  0x52ed7affd6c9ae57              800        0.9989        1.0     0.9988   \n",
       "3  0x59190988b489415a             1000        0.9992        1.0     0.9990   \n",
       "2  0x6087a82a871cb419             1200        0.9994        1.0     0.9990   \n",
       "\n",
       "   roc_auc.2  roc_auc.3  roc_auc.4  roc_auc.5  roc_auc.6  roc_auc.7  \\\n",
       "0        1.0     0.9998     0.9991     0.9990     0.9999     0.9998   \n",
       "1        1.0     0.9999     0.9995     0.9990     1.0000     0.9999   \n",
       "3        1.0     0.9999     0.9996     0.9994     0.9999     0.9998   \n",
       "2        1.0     0.9999     0.9998     0.9997     0.9999     0.9998   \n",
       "\n",
       "   roc_auc.8  roc_auc.9  \n",
       "0     0.9948     0.9989  \n",
       "1     0.9927     0.9994  \n",
       "3     0.9950     0.9995  \n",
       "2     0.9957     0.9998  "
      ]
     },
     "execution_count": 10,
     "metadata": {},
     "output_type": "execute_result"
    }
   ],
   "source": [
    "df_data.round(4)"
   ]
  },
  {
   "cell_type": "code",
   "execution_count": 11,
   "id": "c6b8dedf",
   "metadata": {
    "execution": {
     "iopub.execute_input": "2022-07-10T06:46:47.512357Z",
     "iopub.status.busy": "2022-07-10T06:46:47.512009Z",
     "iopub.status.idle": "2022-07-10T06:46:47.647829Z",
     "shell.execute_reply": "2022-07-10T06:46:47.647202Z"
    },
    "papermill": {
     "duration": 0.141256,
     "end_time": "2022-07-10T06:46:47.649748",
     "exception": false,
     "start_time": "2022-07-10T06:46:47.508492",
     "status": "completed"
    },
    "tags": []
   },
   "outputs": [
    {
     "data": {
      "image/png": "[encoded data removed]",
      "text/plain": [
       "<Figure size 1152x288 with 1 Axes>"
      ]
     },
     "metadata": {
      "needs_background": "light"
     },
     "output_type": "display_data"
    }
   ],
   "source": [
    "def plot_classifier_performance_summary(df_data):\n",
    "    fig, ax = plt.subplots(nrows=1, ncols=1, figsize=(16, 4), sharex=True)\n",
    "\n",
    "    #\n",
    "    ax.plot(\n",
    "        df_data[\"nr_train_images\"], df_data[\"roc_auc_mean\"], marker=\"o\", linestyle=\"--\"\n",
    "    )\n",
    "    ax.set_title(\n",
    "        f\"ROC AUC digit classifier performance on evaluation digits\", fontsize=17\n",
    "    )\n",
    "    ax.set_xlabel(\"Total number of digits in training set\", fontsize=14)\n",
    "    ax.set_ylabel(\"Mean ROC AUC\", fontsize=14)\n",
    "\n",
    "    fig.tight_layout()\n",
    "    fig.show()\n",
    "\n",
    "    return fig\n",
    "\n",
    "\n",
    "fig = plot_classifier_performance_summary(df_data)"
   ]
  },
  {
   "cell_type": "code",
   "execution_count": 12,
   "id": "9aef9e12",
   "metadata": {
    "execution": {
     "iopub.execute_input": "2022-07-10T06:46:47.658789Z",
     "iopub.status.busy": "2022-07-10T06:46:47.658394Z",
     "iopub.status.idle": "2022-07-10T06:46:47.706755Z",
     "shell.execute_reply": "2022-07-10T06:46:47.706129Z"
    },
    "papermill": {
     "duration": 0.055123,
     "end_time": "2022-07-10T06:46:47.708701",
     "exception": false,
     "start_time": "2022-07-10T06:46:47.653578",
     "status": "completed"
    },
    "tags": []
   },
   "outputs": [],
   "source": [
    "logger.log_figure(\"auc-roc-model-performances.png\", fig)"
   ]
  },
  {
   "cell_type": "code",
   "execution_count": 13,
   "id": "be9f256c",
   "metadata": {
    "execution": {
     "iopub.execute_input": "2022-07-10T06:46:47.716798Z",
     "iopub.status.busy": "2022-07-10T06:46:47.716458Z",
     "iopub.status.idle": "2022-07-10T06:46:47.719364Z",
     "shell.execute_reply": "2022-07-10T06:46:47.718770Z"
    },
    "papermill": {
     "duration": 0.008581,
     "end_time": "2022-07-10T06:46:47.720861",
     "exception": false,
     "start_time": "2022-07-10T06:46:47.712280",
     "status": "completed"
    },
    "tags": []
   },
   "outputs": [],
   "source": [
    "###"
   ]
  },
  {
   "cell_type": "code",
   "execution_count": null,
   "id": "b7cc8f93",
   "metadata": {
    "papermill": {
     "duration": 0.003184,
     "end_time": "2022-07-10T06:46:47.727278",
     "exception": false,
     "start_time": "2022-07-10T06:46:47.724094",
     "status": "completed"
    },
    "tags": []
   },
   "outputs": [],
   "source": []
  }
 ],
 "metadata": {
  "jupytext": {
   "cell_metadata_filter": "tags,-all",
   "main_language": "python",
   "notebook_metadata_filter": "-all"
  },
  "language_info": {
   "codemirror_mode": {
    "name": "ipython",
    "version": 3
   },
   "file_extension": ".py",
   "mimetype": "text/x-python",
   "name": "python",
   "nbconvert_exporter": "python",
   "pygments_lexer": "ipython3",
   "version": "3.8.10"
  },
  "papermill": {
   "default_parameters": {},
   "duration": 23.222815,
   "end_time": "2022-07-10T06:46:48.648482",
   "environment_variables": {},
   "exception": null,
   "input_path": "/home/host_user/workspace/mnist-demo-pipeline/mnist-demo-pipeline/notebooks/temp-notebook-ovg6ajv2.ipynb",
   "output_path": "notebooks/summary.ipynb",
   "parameters": {
    "P": {
     "_opentelemetry_traceparent": "00-9dec208046dff2972183177a1640172e-3f1feb8f2ae191fa-01",
     "pipeline.data_lake_root": "/pipeline-outputs/data-lake",
     "pipeline.github.actor": "matiasdahl",
     "pipeline.github.base_ref": "",
     "pipeline.github.event_name": "schedule",
     "pipeline.github.head_ref": "",
     "pipeline.github.job": "run-tests-pipeline-and-persist-pipeline-outputs",
     "pipeline.github.ref": "refs/heads/development",
     "pipeline.github.ref_name": "development",
     "pipeline.github.ref_type": "branch",
     "pipeline.github.repository": "pynb-dag-runner/mnist-digits-demo-pipeline",
     "pipeline.github.run_id": "2643712272",
     "pipeline.github.runner_name": "Hosted Agent",
     "pipeline.github.sha": "147a1be9916173fd4d2cd011d8d51e3411215850",
     "pipeline.github.workflow": "Run automated tests, pipeline and deploy results to static reporting site",
     "pipeline.pipeline_run_id": "0d610b9c-6daa-40a4-8586-4f125460c4f8",
     "pipeline.run_environment": "ci",
     "run.retry_nr": "0",
     "task.max_nr_retries": "1",
     "task.notebook": "notebooks/summary.py",
     "task.num_cpus": 1,
     "task.timeout_s": "None"
    }
   },
   "start_time": "2022-07-10T06:46:25.425667",
   "version": "2.3.3"
  }
 },
 "nbformat": 4,
 "nbformat_minor": 5
}