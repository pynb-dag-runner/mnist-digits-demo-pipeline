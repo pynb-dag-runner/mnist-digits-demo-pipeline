{
 "cells": [
  {
   "cell_type": "markdown",
   "id": "0510352b",
   "metadata": {
    "papermill": {
     "duration": 0.005067,
     "end_time": "2022-07-10T06:45:58.894764",
     "exception": false,
     "start_time": "2022-07-10T06:45:58.889697",
     "status": "completed"
    },
    "tags": []
   },
   "source": [
    "# Train model\n",
    "\n",
    "The purpose of this notebook is:\n",
    "\n",
    "- Load all training data (images and labels).\n",
    "- Limit number of train images to `task.nr_train_images` (value provided as run parameter).\n",
    "- Train a support vector machine model using sklearn.\n",
    "- Persist the trained model using the ONNX format."
   ]
  },
  {
   "cell_type": "markdown",
   "id": "76d0a3ed",
   "metadata": {
    "papermill": {
     "duration": 0.002993,
     "end_time": "2022-07-10T06:45:58.901263",
     "exception": false,
     "start_time": "2022-07-10T06:45:58.898270",
     "status": "completed"
    },
    "tags": []
   },
   "source": [
    "### Determine run parameters"
   ]
  },
  {
   "cell_type": "code",
   "execution_count": 1,
   "id": "3daaf6d2",
   "metadata": {
    "execution": {
     "iopub.execute_input": "2022-07-10T06:45:58.908538Z",
     "iopub.status.busy": "2022-07-10T06:45:58.908177Z",
     "iopub.status.idle": "2022-07-10T06:45:58.917495Z",
     "shell.execute_reply": "2022-07-10T06:45:58.916952Z"
    },
    "lines_to_next_cell": 0,
    "papermill": {
     "duration": 0.015926,
     "end_time": "2022-07-10T06:45:58.920001",
     "exception": false,
     "start_time": "2022-07-10T06:45:58.904075",
     "status": "completed"
    },
    "tags": []
   },
   "outputs": [],
   "source": [
    "# ----------------- Parameters for interactive development --------------\n",
    "P = {\n",
    "    \"pipeline.data_lake_root\": \"/pipeline-outputs/data-lake\",\n",
    "    \"task.nr_train_images\": 600,\n",
    "}"
   ]
  },
  {
   "cell_type": "code",
   "execution_count": 2,
   "id": "1c2ab2e3",
   "metadata": {
    "execution": {
     "iopub.execute_input": "2022-07-10T06:45:58.930461Z",
     "iopub.status.busy": "2022-07-10T06:45:58.930237Z",
     "iopub.status.idle": "2022-07-10T06:45:58.934157Z",
     "shell.execute_reply": "2022-07-10T06:45:58.933568Z"
    },
    "lines_to_next_cell": 0,
    "papermill": {
     "duration": 0.010082,
     "end_time": "2022-07-10T06:45:58.936821",
     "exception": false,
     "start_time": "2022-07-10T06:45:58.926739",
     "status": "completed"
    },
    "tags": [
     "parameters"
    ]
   },
   "outputs": [],
   "source": [
    "# - During automated runs parameters will be injected in the below cell -"
   ]
  },
  {
   "cell_type": "code",
   "execution_count": 3,
   "id": "9e438dba",
   "metadata": {
    "execution": {
     "iopub.execute_input": "2022-07-10T06:45:58.943764Z",
     "iopub.status.busy": "2022-07-10T06:45:58.943547Z",
     "iopub.status.idle": "2022-07-10T06:45:58.948461Z",
     "shell.execute_reply": "2022-07-10T06:45:58.947533Z"
    },
    "papermill": {
     "duration": 0.011382,
     "end_time": "2022-07-10T06:45:58.950996",
     "exception": false,
     "start_time": "2022-07-10T06:45:58.939614",
     "status": "completed"
    },
    "tags": [
     "injected-parameters"
    ]
   },
   "outputs": [],
   "source": [
    "# Parameters\n",
    "P = {\n",
    "    \"pipeline.data_lake_root\": \"/pipeline-outputs/data-lake\",\n",
    "    \"pipeline.run_environment\": \"ci\",\n",
    "    \"pipeline.pipeline_run_id\": \"0d610b9c-6daa-40a4-8586-4f125460c4f8\",\n",
    "    \"pipeline.github.repository\": \"pynb-dag-runner/mnist-digits-demo-pipeline\",\n",
    "    \"pipeline.github.workflow\": \"Run automated tests, pipeline and deploy results to static reporting site\",\n",
    "    \"pipeline.github.runner_name\": \"Hosted Agent\",\n",
    "    \"pipeline.github.run_id\": \"2643712272\",\n",
    "    \"pipeline.github.actor\": \"matiasdahl\",\n",
    "    \"pipeline.github.job\": \"run-tests-pipeline-and-persist-pipeline-outputs\",\n",
    "    \"pipeline.github.base_ref\": \"\",\n",
    "    \"pipeline.github.head_ref\": \"\",\n",
    "    \"pipeline.github.sha\": \"147a1be9916173fd4d2cd011d8d51e3411215850\",\n",
    "    \"pipeline.github.ref\": \"refs/heads/development\",\n",
    "    \"pipeline.github.ref_type\": \"branch\",\n",
    "    \"pipeline.github.ref_name\": \"development\",\n",
    "    \"pipeline.github.event_name\": \"schedule\",\n",
    "    \"task.nr_train_images\": 1200,\n",
    "    \"task.notebook\": \"notebooks/train-model.py\",\n",
    "    \"task.max_nr_retries\": \"1\",\n",
    "    \"run.retry_nr\": \"0\",\n",
    "    \"task.timeout_s\": \"None\",\n",
    "    \"task.num_cpus\": 1,\n",
    "    \"_opentelemetry_traceparent\": \"00-9dec208046dff2972183177a1640172e-b54f021409031cb1-01\",\n",
    "}\n"
   ]
  },
  {
   "cell_type": "code",
   "execution_count": 4,
   "id": "c80edbbf",
   "metadata": {
    "execution": {
     "iopub.execute_input": "2022-07-10T06:45:58.958045Z",
     "iopub.status.busy": "2022-07-10T06:45:58.957835Z",
     "iopub.status.idle": "2022-07-10T06:45:58.960436Z",
     "shell.execute_reply": "2022-07-10T06:45:58.959936Z"
    },
    "lines_to_next_cell": 0,
    "papermill": {
     "duration": 0.009062,
     "end_time": "2022-07-10T06:45:58.963089",
     "exception": false,
     "start_time": "2022-07-10T06:45:58.954027",
     "status": "completed"
    },
    "tags": []
   },
   "outputs": [],
   "source": [
    "# -----------------------------------------------------------------------"
   ]
  },
  {
   "cell_type": "markdown",
   "id": "07d9d92d",
   "metadata": {
    "papermill": {
     "duration": 0.003008,
     "end_time": "2022-07-10T06:45:58.969189",
     "exception": false,
     "start_time": "2022-07-10T06:45:58.966181",
     "status": "completed"
    },
    "tags": []
   },
   "source": [
    "---"
   ]
  },
  {
   "cell_type": "markdown",
   "id": "7d784e5a",
   "metadata": {
    "lines_to_next_cell": 2,
    "papermill": {
     "duration": 0.002685,
     "end_time": "2022-07-10T06:45:58.975148",
     "exception": false,
     "start_time": "2022-07-10T06:45:58.972463",
     "status": "completed"
    },
    "tags": []
   },
   "source": [
    "### Notebook code"
   ]
  },
  {
   "cell_type": "code",
   "execution_count": 5,
   "id": "ec820eab",
   "metadata": {
    "execution": {
     "iopub.execute_input": "2022-07-10T06:45:58.981679Z",
     "iopub.status.busy": "2022-07-10T06:45:58.981461Z",
     "iopub.status.idle": "2022-07-10T06:45:59.842720Z",
     "shell.execute_reply": "2022-07-10T06:45:59.842031Z"
    },
    "papermill": {
     "duration": 0.866727,
     "end_time": "2022-07-10T06:45:59.844752",
     "exception": false,
     "start_time": "2022-07-10T06:45:58.978025",
     "status": "completed"
    },
    "tags": []
   },
   "outputs": [
    {
     "name": "stderr",
     "output_type": "stream",
     "text": [
      "2022-07-10 06:45:59,664\tINFO worker.py:842 -- Connecting to existing Ray cluster at address: 172.17.0.2:6379\n"
     ]
    }
   ],
   "source": [
    "from pynb_dag_runner.tasks.task_opentelemetry_logging import PydarLogger\n",
    "\n",
    "logger = PydarLogger(P)"
   ]
  },
  {
   "cell_type": "markdown",
   "id": "32576e72",
   "metadata": {
    "papermill": {
     "duration": 0.008086,
     "end_time": "2022-07-10T06:45:59.856314",
     "exception": false,
     "start_time": "2022-07-10T06:45:59.848228",
     "status": "completed"
    },
    "tags": []
   },
   "source": [
    "## Load and limit train data"
   ]
  },
  {
   "cell_type": "code",
   "execution_count": 6,
   "id": "08b2f81e",
   "metadata": {
    "execution": {
     "iopub.execute_input": "2022-07-10T06:45:59.865150Z",
     "iopub.status.busy": "2022-07-10T06:45:59.864801Z",
     "iopub.status.idle": "2022-07-10T06:46:00.268472Z",
     "shell.execute_reply": "2022-07-10T06:46:00.267679Z"
    },
    "papermill": {
     "duration": 0.410793,
     "end_time": "2022-07-10T06:46:00.270268",
     "exception": false,
     "start_time": "2022-07-10T06:45:59.859475",
     "status": "completed"
    },
    "tags": []
   },
   "outputs": [],
   "source": [
    "def load_and_limit_train_data(P):\n",
    "    from common.io import datalake_root, read_numpy\n",
    "    from sklearn.model_selection import train_test_split\n",
    "\n",
    "    X_train_all = read_numpy(datalake_root(P) / \"train-data\" / \"digits.numpy\")\n",
    "    y_train_all = read_numpy(datalake_root(P) / \"train-data\" / \"labels.numpy\")\n",
    "\n",
    "    assert isinstance(P[\"task.nr_train_images\"], int)\n",
    "\n",
    "    # Note: train_test_split will fail if split is 0 or 100%.\n",
    "    assert 0 < P[\"task.nr_train_images\"] < len(y_train_all)\n",
    "\n",
    "    X_train, _, y_train, _ = train_test_split(\n",
    "        X_train_all,\n",
    "        y_train_all,\n",
    "        train_size=P[\"task.nr_train_images\"],\n",
    "        test_size=None,\n",
    "        stratify=y_train_all,\n",
    "        shuffle=True,\n",
    "        random_state=123,\n",
    "    )\n",
    "\n",
    "    assert X_train.shape == (len(y_train), 8 * 8)\n",
    "    return X_train, y_train\n",
    "\n",
    "\n",
    "X_train, y_train = load_and_limit_train_data(P)"
   ]
  },
  {
   "cell_type": "markdown",
   "id": "d4c0e90e",
   "metadata": {
    "papermill": {
     "duration": 0.002946,
     "end_time": "2022-07-10T06:46:00.276157",
     "exception": false,
     "start_time": "2022-07-10T06:46:00.273211",
     "status": "completed"
    },
    "tags": []
   },
   "source": [
    "## Train support vector classifier model\n",
    "\n",
    "Below we assume that the hyperparameter $C$ is known.\n",
    "\n",
    "However, this should ideally be found by a hyperparameter search. That could be\n",
    "done in parallel on the Ray cluster, but this needs some more work. Ie., to use\n",
    "multiple cores in the notebook, those cores should be reserved when starting the\n",
    "notebook task (TODO).\n",
    "\n",
    "- https://docs.ray.io/en/latest/tune/key-concepts.html\n",
    "\n",
    "Note: cv-scores would need to be computed here, since they depend on the train data.\n",
    "After this notebook only the onnx-model is available."
   ]
  },
  {
   "cell_type": "code",
   "execution_count": 7,
   "id": "852ddeeb",
   "metadata": {
    "execution": {
     "iopub.execute_input": "2022-07-10T06:46:00.283129Z",
     "iopub.status.busy": "2022-07-10T06:46:00.282187Z",
     "iopub.status.idle": "2022-07-10T06:46:00.302868Z",
     "shell.execute_reply": "2022-07-10T06:46:00.302136Z"
    },
    "papermill": {
     "duration": 0.025825,
     "end_time": "2022-07-10T06:46:00.304623",
     "exception": false,
     "start_time": "2022-07-10T06:46:00.278798",
     "status": "completed"
    },
    "tags": []
   },
   "outputs": [],
   "source": [
    "from sklearn.svm import SVC"
   ]
  },
  {
   "cell_type": "code",
   "execution_count": 8,
   "id": "47a2c7a2",
   "metadata": {
    "execution": {
     "iopub.execute_input": "2022-07-10T06:46:00.311558Z",
     "iopub.status.busy": "2022-07-10T06:46:00.311211Z",
     "iopub.status.idle": "2022-07-10T06:46:00.501133Z",
     "shell.execute_reply": "2022-07-10T06:46:00.500489Z"
    },
    "papermill": {
     "duration": 0.194767,
     "end_time": "2022-07-10T06:46:00.502513",
     "exception": false,
     "start_time": "2022-07-10T06:46:00.307746",
     "status": "completed"
    },
    "tags": []
   },
   "outputs": [
    {
     "data": {
      "text/plain": [
       "SVC(C=0.001, kernel='linear', probability=True)"
      ]
     },
     "execution_count": 8,
     "metadata": {},
     "output_type": "execute_result"
    }
   ],
   "source": [
    "model = SVC(C=0.001, kernel=\"linear\", probability=True)\n",
    "\n",
    "model.fit(X_train, y_train)"
   ]
  },
  {
   "cell_type": "markdown",
   "id": "85d4fccc",
   "metadata": {
    "papermill": {
     "duration": 0.002889,
     "end_time": "2022-07-10T06:46:00.508523",
     "exception": false,
     "start_time": "2022-07-10T06:46:00.505634",
     "status": "completed"
    },
    "tags": []
   },
   "source": [
    "### Q: Can the labels returned by `predict(..)` be computed from probabilities returned by the `predict_prob`-method?"
   ]
  },
  {
   "cell_type": "code",
   "execution_count": 9,
   "id": "c80dbc26",
   "metadata": {
    "execution": {
     "iopub.execute_input": "2022-07-10T06:46:00.515453Z",
     "iopub.status.busy": "2022-07-10T06:46:00.515052Z",
     "iopub.status.idle": "2022-07-10T06:46:00.611369Z",
     "shell.execute_reply": "2022-07-10T06:46:00.610315Z"
    },
    "papermill": {
     "duration": 0.101782,
     "end_time": "2022-07-10T06:46:00.613086",
     "exception": false,
     "start_time": "2022-07-10T06:46:00.511304",
     "status": "completed"
    },
    "tags": []
   },
   "outputs": [
    {
     "name": "stdout",
     "output_type": "stream",
     "text": [
      " - Logging nr_max_prob_neq_label (int) : 2\n"
     ]
    }
   ],
   "source": [
    "import numpy as np\n",
    "\n",
    "y_train_labels = model.predict(X_train)\n",
    "y_train_probabilities = model.predict_proba(X_train)\n",
    "assert y_train_probabilities.shape == (len(y_train), 10)\n",
    "\n",
    "y_train_max_prob_labels = np.argmax(y_train_probabilities, axis=1)\n",
    "assert y_train_labels.shape == y_train_max_prob_labels.shape == y_train.shape\n",
    "\n",
    "# If the predicted labels would coincide with the labels that have\n",
    "# maximum probability, the below number would be zero\n",
    "logger.log_int(\n",
    "    \"nr_max_prob_neq_label\", int(sum(y_train_max_prob_labels != y_train_labels))\n",
    ")"
   ]
  },
  {
   "cell_type": "markdown",
   "id": "6e99b71d",
   "metadata": {
    "papermill": {
     "duration": 0.003473,
     "end_time": "2022-07-10T06:46:00.620185",
     "exception": false,
     "start_time": "2022-07-10T06:46:00.616712",
     "status": "completed"
    },
    "tags": []
   },
   "source": [
    "The explanation is (likely) explained in the SVC source, see\n",
    "[here](https://github.com/scikit-learn/scikit-learn/blob/main/sklearn/svm/_base.py).\n",
    "Namely, the outputs from `predict(..)` and `predict_proba(..)` may not in some\n",
    "cases be compatible since the latter is computed using cross-validation while\n",
    "the former is not. Thus, the above number need not be zero."
   ]
  },
  {
   "cell_type": "markdown",
   "id": "6537e4ea",
   "metadata": {
    "papermill": {
     "duration": 0.002982,
     "end_time": "2022-07-10T06:46:00.626447",
     "exception": false,
     "start_time": "2022-07-10T06:46:00.623465",
     "status": "completed"
    },
    "tags": []
   },
   "source": [
    "## Persist model"
   ]
  },
  {
   "cell_type": "code",
   "execution_count": 10,
   "id": "73c875d7",
   "metadata": {
    "execution": {
     "iopub.execute_input": "2022-07-10T06:46:00.634464Z",
     "iopub.status.busy": "2022-07-10T06:46:00.634085Z",
     "iopub.status.idle": "2022-07-10T06:46:01.400915Z",
     "shell.execute_reply": "2022-07-10T06:46:01.400293Z"
    },
    "papermill": {
     "duration": 0.773347,
     "end_time": "2022-07-10T06:46:01.403171",
     "exception": false,
     "start_time": "2022-07-10T06:46:00.629824",
     "status": "completed"
    },
    "tags": []
   },
   "outputs": [],
   "source": [
    "from skl2onnx import convert_sklearn\n",
    "from skl2onnx.common.data_types import FloatTensorType\n",
    "\n",
    "#\n",
    "from common.io import datalake_root, write_onnx"
   ]
  },
  {
   "cell_type": "code",
   "execution_count": 11,
   "id": "6d23996e",
   "metadata": {
    "execution": {
     "iopub.execute_input": "2022-07-10T06:46:01.413417Z",
     "iopub.status.busy": "2022-07-10T06:46:01.412618Z",
     "iopub.status.idle": "2022-07-10T06:46:01.469220Z",
     "shell.execute_reply": "2022-07-10T06:46:01.468483Z"
    },
    "papermill": {
     "duration": 0.064912,
     "end_time": "2022-07-10T06:46:01.471928",
     "exception": false,
     "start_time": "2022-07-10T06:46:01.407016",
     "status": "completed"
    },
    "tags": []
   },
   "outputs": [],
   "source": [
    "# convert sklearn model into onnx and persist to data lake\n",
    "\n",
    "model_onnx = convert_sklearn(\n",
    "    model, initial_types=[(\"float_input_8x8_image\", FloatTensorType([None, 8 * 8]))]\n",
    ")\n",
    "write_onnx(\n",
    "    datalake_root(P)\n",
    "    / \"models\"\n",
    "    / f\"nr_train_images={P['task.nr_train_images']}\"\n",
    "    / \"model.onnx\",\n",
    "    model_onnx,\n",
    ")"
   ]
  },
  {
   "cell_type": "code",
   "execution_count": null,
   "id": "4f578900",
   "metadata": {
    "papermill": {
     "duration": 0.00405,
     "end_time": "2022-07-10T06:46:01.480024",
     "exception": false,
     "start_time": "2022-07-10T06:46:01.475974",
     "status": "completed"
    },
    "tags": []
   },
   "outputs": [],
   "source": []
  }
 ],
 "metadata": {
  "jupytext": {
   "cell_metadata_filter": "tags,-all",
   "main_language": "python",
   "notebook_metadata_filter": "-all"
  },
  "language_info": {
   "codemirror_mode": {
    "name": "ipython",
    "version": 3
   },
   "file_extension": ".py",
   "mimetype": "text/x-python",
   "name": "python",
   "nbconvert_exporter": "python",
   "pygments_lexer": "ipython3",
   "version": "3.8.10"
  },
  "papermill": {
   "default_parameters": {},
   "duration": 4.953311,
   "end_time": "2022-07-10T06:46:02.617208",
   "environment_variables": {},
   "exception": null,
   "input_path": "/home/host_user/workspace/mnist-demo-pipeline/mnist-demo-pipeline/notebooks/temp-notebook-x04qrx0z.ipynb",
   "output_path": "notebooks/train-model.ipynb",
   "parameters": {
    "P": {
     "_opentelemetry_traceparent": "00-9dec208046dff2972183177a1640172e-b54f021409031cb1-01",
     "pipeline.data_lake_root": "/pipeline-outputs/data-lake",
     "pipeline.github.actor": "matiasdahl",
     "pipeline.github.base_ref": "",
     "pipeline.github.event_name": "schedule",
     "pipeline.github.head_ref": "",
     "pipeline.github.job": "run-tests-pipeline-and-persist-pipeline-outputs",
     "pipeline.github.ref": "refs/heads/development",
     "pipeline.github.ref_name": "development",
     "pipeline.github.ref_type": "branch",
     "pipeline.github.repository": "pynb-dag-runner/mnist-digits-demo-pipeline",
     "pipeline.github.run_id": "2643712272",
     "pipeline.github.runner_name": "Hosted Agent",
     "pipeline.github.sha": "147a1be9916173fd4d2cd011d8d51e3411215850",
     "pipeline.github.workflow": "Run automated tests, pipeline and deploy results to static reporting site",
     "pipeline.pipeline_run_id": "0d610b9c-6daa-40a4-8586-4f125460c4f8",
     "pipeline.run_environment": "ci",
     "run.retry_nr": "0",
     "task.max_nr_retries": "1",
     "task.notebook": "notebooks/train-model.py",
     "task.nr_train_images": 1200,
     "task.num_cpus": 1,
     "task.timeout_s": "None"
    }
   },
   "start_time": "2022-07-10T06:45:57.663897",
   "version": "2.3.3"
  }
 },
 "nbformat": 4,
 "nbformat_minor": 5
}