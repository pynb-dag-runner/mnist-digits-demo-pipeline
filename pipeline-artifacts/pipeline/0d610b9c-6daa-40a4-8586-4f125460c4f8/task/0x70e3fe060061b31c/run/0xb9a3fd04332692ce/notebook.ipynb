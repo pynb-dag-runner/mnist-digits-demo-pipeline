{
 "cells": [
  {
   "cell_type": "markdown",
   "id": "4ffe8aa0",
   "metadata": {
    "papermill": {
     "duration": 0.003215,
     "end_time": "2022-07-10T06:45:43.089612",
     "exception": false,
     "start_time": "2022-07-10T06:45:43.086397",
     "status": "completed"
    },
    "tags": []
   },
   "source": [
    "# Split digits and labels into separate training and testing data sets"
   ]
  },
  {
   "cell_type": "markdown",
   "id": "d3db7a5b",
   "metadata": {
    "papermill": {
     "duration": 0.002033,
     "end_time": "2022-07-10T06:45:43.094276",
     "exception": false,
     "start_time": "2022-07-10T06:45:43.092243",
     "status": "completed"
    },
    "tags": []
   },
   "source": [
    "### Determine run parameters"
   ]
  },
  {
   "cell_type": "code",
   "execution_count": 1,
   "id": "e1fd5459",
   "metadata": {
    "execution": {
     "iopub.execute_input": "2022-07-10T06:45:43.100202Z",
     "iopub.status.busy": "2022-07-10T06:45:43.099336Z",
     "iopub.status.idle": "2022-07-10T06:45:43.107015Z",
     "shell.execute_reply": "2022-07-10T06:45:43.106415Z"
    },
    "lines_to_next_cell": 0,
    "papermill": {
     "duration": 0.012279,
     "end_time": "2022-07-10T06:45:43.108402",
     "exception": false,
     "start_time": "2022-07-10T06:45:43.096123",
     "status": "completed"
    },
    "tags": []
   },
   "outputs": [],
   "source": [
    "# ----------------- Parameters for interactive development --------------\n",
    "P = {\n",
    "    \"pipeline.data_lake_root\": \"/pipeline-outputs/data-lake\",\n",
    "    \"task.train_test_ratio\": 0.7,\n",
    "}"
   ]
  },
  {
   "cell_type": "code",
   "execution_count": 2,
   "id": "e26cf172",
   "metadata": {
    "execution": {
     "iopub.execute_input": "2022-07-10T06:45:43.113957Z",
     "iopub.status.busy": "2022-07-10T06:45:43.113618Z",
     "iopub.status.idle": "2022-07-10T06:45:43.116437Z",
     "shell.execute_reply": "2022-07-10T06:45:43.115872Z"
    },
    "lines_to_next_cell": 0,
    "papermill": {
     "duration": 0.007389,
     "end_time": "2022-07-10T06:45:43.117678",
     "exception": false,
     "start_time": "2022-07-10T06:45:43.110289",
     "status": "completed"
    },
    "tags": [
     "parameters"
    ]
   },
   "outputs": [],
   "source": [
    "# - During automated runs parameters will be injected in the below cell -"
   ]
  },
  {
   "cell_type": "code",
   "execution_count": 3,
   "id": "e43c9d48",
   "metadata": {
    "execution": {
     "iopub.execute_input": "2022-07-10T06:45:43.123299Z",
     "iopub.status.busy": "2022-07-10T06:45:43.122669Z",
     "iopub.status.idle": "2022-07-10T06:45:43.127670Z",
     "shell.execute_reply": "2022-07-10T06:45:43.127121Z"
    },
    "papermill": {
     "duration": 0.009401,
     "end_time": "2022-07-10T06:45:43.128969",
     "exception": false,
     "start_time": "2022-07-10T06:45:43.119568",
     "status": "completed"
    },
    "tags": [
     "injected-parameters"
    ]
   },
   "outputs": [],
   "source": [
    "# Parameters\n",
    "P = {\n",
    "    \"pipeline.data_lake_root\": \"/pipeline-outputs/data-lake\",\n",
    "    \"pipeline.run_environment\": \"ci\",\n",
    "    \"pipeline.pipeline_run_id\": \"0d610b9c-6daa-40a4-8586-4f125460c4f8\",\n",
    "    \"pipeline.github.repository\": \"pynb-dag-runner/mnist-digits-demo-pipeline\",\n",
    "    \"pipeline.github.workflow\": \"Run automated tests, pipeline and deploy results to static reporting site\",\n",
    "    \"pipeline.github.runner_name\": \"Hosted Agent\",\n",
    "    \"pipeline.github.run_id\": \"2643712272\",\n",
    "    \"pipeline.github.actor\": \"matiasdahl\",\n",
    "    \"pipeline.github.job\": \"run-tests-pipeline-and-persist-pipeline-outputs\",\n",
    "    \"pipeline.github.base_ref\": \"\",\n",
    "    \"pipeline.github.head_ref\": \"\",\n",
    "    \"pipeline.github.sha\": \"147a1be9916173fd4d2cd011d8d51e3411215850\",\n",
    "    \"pipeline.github.ref\": \"refs/heads/development\",\n",
    "    \"pipeline.github.ref_type\": \"branch\",\n",
    "    \"pipeline.github.ref_name\": \"development\",\n",
    "    \"pipeline.github.event_name\": \"schedule\",\n",
    "    \"task.train_test_ratio\": 0.7,\n",
    "    \"task.notebook\": \"notebooks/split-train-test.py\",\n",
    "    \"task.max_nr_retries\": \"1\",\n",
    "    \"run.retry_nr\": \"0\",\n",
    "    \"task.timeout_s\": \"None\",\n",
    "    \"task.num_cpus\": 1,\n",
    "    \"_opentelemetry_traceparent\": \"00-9dec208046dff2972183177a1640172e-ea4842ad8bc32cbb-01\",\n",
    "}\n"
   ]
  },
  {
   "cell_type": "code",
   "execution_count": 4,
   "id": "4a727e2f",
   "metadata": {
    "execution": {
     "iopub.execute_input": "2022-07-10T06:45:43.134763Z",
     "iopub.status.busy": "2022-07-10T06:45:43.134141Z",
     "iopub.status.idle": "2022-07-10T06:45:43.137181Z",
     "shell.execute_reply": "2022-07-10T06:45:43.136547Z"
    },
    "lines_to_next_cell": 0,
    "papermill": {
     "duration": 0.007519,
     "end_time": "2022-07-10T06:45:43.138450",
     "exception": false,
     "start_time": "2022-07-10T06:45:43.130931",
     "status": "completed"
    },
    "tags": []
   },
   "outputs": [],
   "source": [
    "# -----------------------------------------------------------------------"
   ]
  },
  {
   "cell_type": "markdown",
   "id": "2ab0fd39",
   "metadata": {
    "papermill": {
     "duration": 0.002169,
     "end_time": "2022-07-10T06:45:43.142749",
     "exception": false,
     "start_time": "2022-07-10T06:45:43.140580",
     "status": "completed"
    },
    "tags": []
   },
   "source": [
    "---"
   ]
  },
  {
   "cell_type": "markdown",
   "id": "d8199b59",
   "metadata": {
    "lines_to_next_cell": 2,
    "papermill": {
     "duration": 0.001996,
     "end_time": "2022-07-10T06:45:43.146806",
     "exception": false,
     "start_time": "2022-07-10T06:45:43.144810",
     "status": "completed"
    },
    "tags": []
   },
   "source": [
    "### Notebook code"
   ]
  },
  {
   "cell_type": "code",
   "execution_count": 5,
   "id": "b9457c66",
   "metadata": {
    "execution": {
     "iopub.execute_input": "2022-07-10T06:45:43.152135Z",
     "iopub.status.busy": "2022-07-10T06:45:43.151744Z",
     "iopub.status.idle": "2022-07-10T06:45:43.695970Z",
     "shell.execute_reply": "2022-07-10T06:45:43.695420Z"
    },
    "papermill": {
     "duration": 0.549177,
     "end_time": "2022-07-10T06:45:43.697973",
     "exception": false,
     "start_time": "2022-07-10T06:45:43.148796",
     "status": "completed"
    },
    "tags": []
   },
   "outputs": [
    {
     "name": "stderr",
     "output_type": "stream",
     "text": [
      "2022-07-10 06:45:43,504\tINFO worker.py:842 -- Connecting to existing Ray cluster at address: 172.17.0.2:6379\n"
     ]
    }
   ],
   "source": [
    "from common.io import datalake_root, read_numpy, write_numpy\n",
    "from pynb_dag_runner.tasks.task_opentelemetry_logging import PydarLogger\n",
    "\n",
    "logger = PydarLogger(P)"
   ]
  },
  {
   "cell_type": "markdown",
   "id": "27a77f16",
   "metadata": {
    "papermill": {
     "duration": 0.002221,
     "end_time": "2022-07-10T06:45:43.702637",
     "exception": false,
     "start_time": "2022-07-10T06:45:43.700416",
     "status": "completed"
    },
    "tags": []
   },
   "source": [
    "## Load and split digits data"
   ]
  },
  {
   "cell_type": "code",
   "execution_count": 6,
   "id": "7282127e",
   "metadata": {
    "execution": {
     "iopub.execute_input": "2022-07-10T06:45:43.708984Z",
     "iopub.status.busy": "2022-07-10T06:45:43.708312Z",
     "iopub.status.idle": "2022-07-10T06:45:43.713651Z",
     "shell.execute_reply": "2022-07-10T06:45:43.713191Z"
    },
    "papermill": {
     "duration": 0.010034,
     "end_time": "2022-07-10T06:45:43.715139",
     "exception": false,
     "start_time": "2022-07-10T06:45:43.705105",
     "status": "completed"
    },
    "tags": []
   },
   "outputs": [],
   "source": [
    "X = read_numpy(datalake_root(P) / \"raw\" / \"digits.numpy\")\n",
    "y = read_numpy(datalake_root(P) / \"raw\" / \"labels.numpy\")"
   ]
  },
  {
   "cell_type": "code",
   "execution_count": 7,
   "id": "97ddaf9a",
   "metadata": {
    "execution": {
     "iopub.execute_input": "2022-07-10T06:45:43.721147Z",
     "iopub.status.busy": "2022-07-10T06:45:43.720936Z",
     "iopub.status.idle": "2022-07-10T06:45:44.084316Z",
     "shell.execute_reply": "2022-07-10T06:45:44.083740Z"
    },
    "papermill": {
     "duration": 0.369035,
     "end_time": "2022-07-10T06:45:44.086238",
     "exception": false,
     "start_time": "2022-07-10T06:45:43.717203",
     "status": "completed"
    },
    "tags": []
   },
   "outputs": [],
   "source": [
    "from sklearn.model_selection import train_test_split\n",
    "\n",
    "X_train, X_test, y_train, y_test = train_test_split(\n",
    "    X,\n",
    "    y,\n",
    "    train_size=P[\"task.train_test_ratio\"],\n",
    "    test_size=None,\n",
    "    stratify=y,\n",
    "    shuffle=True,\n",
    "    random_state=1,\n",
    ")\n",
    "\n",
    "# assert nr of pixels per image is the same for all image vectors\n",
    "assert X.shape[1] == X_train.shape[1] == X_test.shape[1]\n",
    "\n",
    "# assert that the (X, y)-pairs have compatible sizes (for both train and test)\n",
    "assert X_train.shape[0] == len(y_train)\n",
    "assert X_test.shape[0] == len(y_test)\n",
    "\n",
    "# assert that all data is used\n",
    "assert len(y) == len(y_train) + len(y_test)"
   ]
  },
  {
   "cell_type": "code",
   "execution_count": 8,
   "id": "14e034ab",
   "metadata": {
    "execution": {
     "iopub.execute_input": "2022-07-10T06:45:44.094235Z",
     "iopub.status.busy": "2022-07-10T06:45:44.093787Z",
     "iopub.status.idle": "2022-07-10T06:45:44.100616Z",
     "shell.execute_reply": "2022-07-10T06:45:44.100138Z"
    },
    "papermill": {
     "duration": 0.013317,
     "end_time": "2022-07-10T06:45:44.102162",
     "exception": false,
     "start_time": "2022-07-10T06:45:44.088845",
     "status": "completed"
    },
    "tags": []
   },
   "outputs": [
    {
     "name": "stdout",
     "output_type": "stream",
     "text": [
      " - Logging nr_digits_train (int) : 1257\n",
      " - Logging nr_digits_test (int) : 540\n"
     ]
    }
   ],
   "source": [
    "logger.log_int(\"nr_digits_train\", len(y_train))\n",
    "logger.log_int(\"nr_digits_test\", len(y_test))"
   ]
  },
  {
   "cell_type": "markdown",
   "id": "bc8fd1c7",
   "metadata": {
    "papermill": {
     "duration": 0.002339,
     "end_time": "2022-07-10T06:45:44.106912",
     "exception": false,
     "start_time": "2022-07-10T06:45:44.104573",
     "status": "completed"
    },
    "tags": []
   },
   "source": [
    "### Persist training and test data sets to separate files"
   ]
  },
  {
   "cell_type": "code",
   "execution_count": 9,
   "id": "cb098533",
   "metadata": {
    "execution": {
     "iopub.execute_input": "2022-07-10T06:45:44.112708Z",
     "iopub.status.busy": "2022-07-10T06:45:44.112478Z",
     "iopub.status.idle": "2022-07-10T06:45:44.117690Z",
     "shell.execute_reply": "2022-07-10T06:45:44.117203Z"
    },
    "papermill": {
     "duration": 0.010644,
     "end_time": "2022-07-10T06:45:44.119813",
     "exception": false,
     "start_time": "2022-07-10T06:45:44.109169",
     "status": "completed"
    },
    "tags": []
   },
   "outputs": [],
   "source": [
    "write_numpy(datalake_root(P) / \"train-data\" / \"digits.numpy\", X_train)\n",
    "write_numpy(datalake_root(P) / \"train-data\" / \"labels.numpy\", y_train)\n",
    "\n",
    "#\n",
    "write_numpy(datalake_root(P) / \"test-data\" / \"digits.numpy\", X_test)\n",
    "write_numpy(datalake_root(P) / \"test-data\" / \"labels.numpy\", y_test)"
   ]
  },
  {
   "cell_type": "code",
   "execution_count": null,
   "id": "3e9ab0c0",
   "metadata": {
    "papermill": {
     "duration": 0.002255,
     "end_time": "2022-07-10T06:45:44.124400",
     "exception": false,
     "start_time": "2022-07-10T06:45:44.122145",
     "status": "completed"
    },
    "tags": []
   },
   "outputs": [],
   "source": []
  }
 ],
 "metadata": {
  "jupytext": {
   "cell_metadata_filter": "tags,-all",
   "main_language": "python",
   "notebook_metadata_filter": "-all"
  },
  "language_info": {
   "codemirror_mode": {
    "name": "ipython",
    "version": 3
   },
   "file_extension": ".py",
   "mimetype": "text/x-python",
   "name": "python",
   "nbconvert_exporter": "python",
   "pygments_lexer": "ipython3",
   "version": "3.8.10"
  },
  "papermill": {
   "default_parameters": {},
   "duration": 3.291649,
   "end_time": "2022-07-10T06:45:45.161804",
   "environment_variables": {},
   "exception": null,
   "input_path": "/home/host_user/workspace/mnist-demo-pipeline/mnist-demo-pipeline/notebooks/temp-notebook-zchyvicx.ipynb",
   "output_path": "notebooks/split-train-test.ipynb",
   "parameters": {
    "P": {
     "_opentelemetry_traceparent": "00-9dec208046dff2972183177a1640172e-ea4842ad8bc32cbb-01",
     "pipeline.data_lake_root": "/pipeline-outputs/data-lake",
     "pipeline.github.actor": "matiasdahl",
     "pipeline.github.base_ref": "",
     "pipeline.github.event_name": "schedule",
     "pipeline.github.head_ref": "",
     "pipeline.github.job": "run-tests-pipeline-and-persist-pipeline-outputs",
     "pipeline.github.ref": "refs/heads/development",
     "pipeline.github.ref_name": "development",
     "pipeline.github.ref_type": "branch",
     "pipeline.github.repository": "pynb-dag-runner/mnist-digits-demo-pipeline",
     "pipeline.github.run_id": "2643712272",
     "pipeline.github.runner_name": "Hosted Agent",
     "pipeline.github.sha": "147a1be9916173fd4d2cd011d8d51e3411215850",
     "pipeline.github.workflow": "Run automated tests, pipeline and deploy results to static reporting site",
     "pipeline.pipeline_run_id": "0d610b9c-6daa-40a4-8586-4f125460c4f8",
     "pipeline.run_environment": "ci",
     "run.retry_nr": "0",
     "task.max_nr_retries": "1",
     "task.notebook": "notebooks/split-train-test.py",
     "task.num_cpus": 1,
     "task.timeout_s": "None",
     "task.train_test_ratio": 0.7
    }
   },
   "start_time": "2022-07-10T06:45:41.870155",
   "version": "2.3.3"
  }
 },
 "nbformat": 4,
 "nbformat_minor": 5
}