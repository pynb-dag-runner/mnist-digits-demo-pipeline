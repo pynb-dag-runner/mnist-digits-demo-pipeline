{
 "cells": [
  {
   "cell_type": "markdown",
   "id": "51cf6e8a",
   "metadata": {
    "papermill": {
     "duration": 0.003744,
     "end_time": "2022-07-10T06:45:37.861399",
     "exception": false,
     "start_time": "2022-07-10T06:45:37.857655",
     "status": "completed"
    },
    "tags": []
   },
   "source": [
    "# Ingest toy version of MNIST digit data from sklearn"
   ]
  },
  {
   "cell_type": "markdown",
   "id": "fff19d25",
   "metadata": {
    "papermill": {
     "duration": 0.002262,
     "end_time": "2022-07-10T06:45:37.866402",
     "exception": false,
     "start_time": "2022-07-10T06:45:37.864140",
     "status": "completed"
    },
    "tags": []
   },
   "source": [
    "### Determine run parameters"
   ]
  },
  {
   "cell_type": "code",
   "execution_count": 1,
   "id": "03dc257a",
   "metadata": {
    "execution": {
     "iopub.execute_input": "2022-07-10T06:45:37.872676Z",
     "iopub.status.busy": "2022-07-10T06:45:37.872239Z",
     "iopub.status.idle": "2022-07-10T06:45:37.879447Z",
     "shell.execute_reply": "2022-07-10T06:45:37.878787Z"
    },
    "lines_to_next_cell": 0,
    "papermill": {
     "duration": 0.012734,
     "end_time": "2022-07-10T06:45:37.881244",
     "exception": false,
     "start_time": "2022-07-10T06:45:37.868510",
     "status": "completed"
    },
    "tags": []
   },
   "outputs": [],
   "source": [
    "# ----------------- Parameters for interactive development --------------\n",
    "P = {\n",
    "    \"pipeline.run_environment\": \"dev\",\n",
    "    \"pipeline.data_lake_root\": \"/pipeline-outputs/data-lake\",\n",
    "    \"run.retry_nr\": \"1\",\n",
    "}"
   ]
  },
  {
   "cell_type": "code",
   "execution_count": 2,
   "id": "aef16482",
   "metadata": {
    "execution": {
     "iopub.execute_input": "2022-07-10T06:45:37.888531Z",
     "iopub.status.busy": "2022-07-10T06:45:37.888126Z",
     "iopub.status.idle": "2022-07-10T06:45:37.892147Z",
     "shell.execute_reply": "2022-07-10T06:45:37.891468Z"
    },
    "lines_to_next_cell": 0,
    "papermill": {
     "duration": 0.010163,
     "end_time": "2022-07-10T06:45:37.893591",
     "exception": false,
     "start_time": "2022-07-10T06:45:37.883428",
     "status": "completed"
    },
    "tags": [
     "parameters"
    ]
   },
   "outputs": [],
   "source": [
    "# - During automated runs parameters will be injected in the below cell -"
   ]
  },
  {
   "cell_type": "code",
   "execution_count": 3,
   "id": "bcf33aac",
   "metadata": {
    "execution": {
     "iopub.execute_input": "2022-07-10T06:45:37.899312Z",
     "iopub.status.busy": "2022-07-10T06:45:37.898769Z",
     "iopub.status.idle": "2022-07-10T06:45:37.903788Z",
     "shell.execute_reply": "2022-07-10T06:45:37.903230Z"
    },
    "papermill": {
     "duration": 0.009495,
     "end_time": "2022-07-10T06:45:37.905195",
     "exception": false,
     "start_time": "2022-07-10T06:45:37.895700",
     "status": "completed"
    },
    "tags": [
     "injected-parameters"
    ]
   },
   "outputs": [],
   "source": [
    "# Parameters\n",
    "P = {\n",
    "    \"pipeline.data_lake_root\": \"/pipeline-outputs/data-lake\",\n",
    "    \"pipeline.run_environment\": \"ci\",\n",
    "    \"pipeline.pipeline_run_id\": \"0d610b9c-6daa-40a4-8586-4f125460c4f8\",\n",
    "    \"pipeline.github.repository\": \"pynb-dag-runner/mnist-digits-demo-pipeline\",\n",
    "    \"pipeline.github.workflow\": \"Run automated tests, pipeline and deploy results to static reporting site\",\n",
    "    \"pipeline.github.runner_name\": \"Hosted Agent\",\n",
    "    \"pipeline.github.run_id\": \"2643712272\",\n",
    "    \"pipeline.github.actor\": \"matiasdahl\",\n",
    "    \"pipeline.github.job\": \"run-tests-pipeline-and-persist-pipeline-outputs\",\n",
    "    \"pipeline.github.base_ref\": \"\",\n",
    "    \"pipeline.github.head_ref\": \"\",\n",
    "    \"pipeline.github.sha\": \"147a1be9916173fd4d2cd011d8d51e3411215850\",\n",
    "    \"pipeline.github.ref\": \"refs/heads/development\",\n",
    "    \"pipeline.github.ref_type\": \"branch\",\n",
    "    \"pipeline.github.ref_name\": \"development\",\n",
    "    \"pipeline.github.event_name\": \"schedule\",\n",
    "    \"task.notebook\": \"notebooks/ingest.py\",\n",
    "    \"task.max_nr_retries\": \"15\",\n",
    "    \"run.retry_nr\": \"10\",\n",
    "    \"task.timeout_s\": \"10\",\n",
    "    \"task.num_cpus\": 1,\n",
    "    \"_opentelemetry_traceparent\": \"00-9dec208046dff2972183177a1640172e-34cd86f8494fbbac-01\",\n",
    "}\n"
   ]
  },
  {
   "cell_type": "code",
   "execution_count": 4,
   "id": "5abddbc0",
   "metadata": {
    "execution": {
     "iopub.execute_input": "2022-07-10T06:45:37.910675Z",
     "iopub.status.busy": "2022-07-10T06:45:37.910293Z",
     "iopub.status.idle": "2022-07-10T06:45:37.913837Z",
     "shell.execute_reply": "2022-07-10T06:45:37.913246Z"
    },
    "lines_to_next_cell": 0,
    "papermill": {
     "duration": 0.007898,
     "end_time": "2022-07-10T06:45:37.915209",
     "exception": false,
     "start_time": "2022-07-10T06:45:37.907311",
     "status": "completed"
    },
    "tags": []
   },
   "outputs": [],
   "source": [
    "# -----------------------------------------------------------------------"
   ]
  },
  {
   "cell_type": "markdown",
   "id": "0c8056e8",
   "metadata": {
    "lines_to_next_cell": 2,
    "papermill": {
     "duration": 0.002274,
     "end_time": "2022-07-10T06:45:37.919809",
     "exception": false,
     "start_time": "2022-07-10T06:45:37.917535",
     "status": "completed"
    },
    "tags": []
   },
   "source": [
    "---"
   ]
  },
  {
   "cell_type": "markdown",
   "id": "e09a07ce",
   "metadata": {
    "papermill": {
     "duration": 0.002195,
     "end_time": "2022-07-10T06:45:37.924505",
     "exception": false,
     "start_time": "2022-07-10T06:45:37.922310",
     "status": "completed"
    },
    "tags": []
   },
   "source": [
    "### Simulate different types of failures (for testing timeout and retry logic)"
   ]
  },
  {
   "cell_type": "code",
   "execution_count": 5,
   "id": "e1e4a2d7",
   "metadata": {
    "execution": {
     "iopub.execute_input": "2022-07-10T06:45:37.930453Z",
     "iopub.status.busy": "2022-07-10T06:45:37.930072Z",
     "iopub.status.idle": "2022-07-10T06:45:38.378715Z",
     "shell.execute_reply": "2022-07-10T06:45:38.378095Z"
    },
    "papermill": {
     "duration": 0.453748,
     "end_time": "2022-07-10T06:45:38.380528",
     "exception": false,
     "start_time": "2022-07-10T06:45:37.926780",
     "status": "completed"
    },
    "tags": []
   },
   "outputs": [
    {
     "name": "stderr",
     "output_type": "stream",
     "text": [
      "2022-07-10 06:45:38,231\tINFO worker.py:842 -- Connecting to existing Ray cluster at address: 172.17.0.2:6379\n"
     ]
    }
   ],
   "source": [
    "from pynb_dag_runner.tasks.task_opentelemetry_logging import PydarLogger\n",
    "\n",
    "logger = PydarLogger(P)"
   ]
  },
  {
   "cell_type": "code",
   "execution_count": 6,
   "id": "4eaa455f",
   "metadata": {
    "execution": {
     "iopub.execute_input": "2022-07-10T06:45:38.386586Z",
     "iopub.status.busy": "2022-07-10T06:45:38.386190Z",
     "iopub.status.idle": "2022-07-10T06:45:38.390879Z",
     "shell.execute_reply": "2022-07-10T06:45:38.390271Z"
    },
    "papermill": {
     "duration": 0.00922,
     "end_time": "2022-07-10T06:45:38.392248",
     "exception": false,
     "start_time": "2022-07-10T06:45:38.383028",
     "status": "completed"
    },
    "tags": []
   },
   "outputs": [],
   "source": [
    "import time, random\n",
    "\n",
    "\n",
    "def maybe_crash(retry_nr: int, run_environment: str):\n",
    "    if retry_nr == 2 and run_environment == \"ci\":\n",
    "        time.sleep(1e6)\n",
    "\n",
    "    max_retry_nr: int = 3 if run_environment == \"dev\" else 10\n",
    "\n",
    "    if retry_nr < max_retry_nr:\n",
    "        if random.random() < 0.1:\n",
    "            time.sleep(1e6)\n",
    "        else:\n",
    "            raise Exception(\"Simulated exception failure from ingestion step notebook!\")\n",
    "\n",
    "\n",
    "maybe_crash(\n",
    "    retry_nr=int(P[\"run.retry_nr\"]), run_environment=P[\"pipeline.run_environment\"]\n",
    ")"
   ]
  },
  {
   "cell_type": "markdown",
   "id": "2ce729bb",
   "metadata": {
    "lines_to_next_cell": 2,
    "papermill": {
     "duration": 0.002367,
     "end_time": "2022-07-10T06:45:38.396706",
     "exception": false,
     "start_time": "2022-07-10T06:45:38.394339",
     "status": "completed"
    },
    "tags": []
   },
   "source": [
    "### Notebook code"
   ]
  },
  {
   "cell_type": "code",
   "execution_count": 7,
   "id": "1963368e",
   "metadata": {
    "execution": {
     "iopub.execute_input": "2022-07-10T06:45:38.403352Z",
     "iopub.status.busy": "2022-07-10T06:45:38.403001Z",
     "iopub.status.idle": "2022-07-10T06:45:39.588839Z",
     "shell.execute_reply": "2022-07-10T06:45:39.588131Z"
    },
    "papermill": {
     "duration": 1.191099,
     "end_time": "2022-07-10T06:45:39.590788",
     "exception": false,
     "start_time": "2022-07-10T06:45:38.399689",
     "status": "completed"
    },
    "tags": []
   },
   "outputs": [],
   "source": [
    "from sklearn import datasets\n",
    "\n",
    "#\n",
    "from common.io import datalake_root, write_numpy"
   ]
  },
  {
   "cell_type": "code",
   "execution_count": 8,
   "id": "45211254",
   "metadata": {
    "execution": {
     "iopub.execute_input": "2022-07-10T06:45:39.599353Z",
     "iopub.status.busy": "2022-07-10T06:45:39.598952Z",
     "iopub.status.idle": "2022-07-10T06:45:39.612389Z",
     "shell.execute_reply": "2022-07-10T06:45:39.611406Z"
    },
    "lines_to_next_cell": 2,
    "papermill": {
     "duration": 0.020569,
     "end_time": "2022-07-10T06:45:39.614368",
     "exception": false,
     "start_time": "2022-07-10T06:45:39.593799",
     "status": "completed"
    },
    "tags": []
   },
   "outputs": [],
   "source": [
    "digits = datasets.load_digits()\n",
    "\n",
    "X = digits[\"data\"]\n",
    "y = digits[\"target\"]"
   ]
  },
  {
   "cell_type": "code",
   "execution_count": 9,
   "id": "feadec6f",
   "metadata": {
    "execution": {
     "iopub.execute_input": "2022-07-10T06:45:39.624024Z",
     "iopub.status.busy": "2022-07-10T06:45:39.621935Z",
     "iopub.status.idle": "2022-07-10T06:45:39.635025Z",
     "shell.execute_reply": "2022-07-10T06:45:39.634344Z"
    },
    "papermill": {
     "duration": 0.02022,
     "end_time": "2022-07-10T06:45:39.637133",
     "exception": false,
     "start_time": "2022-07-10T06:45:39.616913",
     "status": "completed"
    },
    "tags": []
   },
   "outputs": [
    {
     "name": "stdout",
     "output_type": "stream",
     "text": [
      " - Logging data_shape (json) : [1797, 64]\n",
      " - Logging target_shape (json) : [1797]\n"
     ]
    },
    {
     "data": {
      "text/plain": [
       "((1797, 64), (1797,))"
      ]
     },
     "execution_count": 9,
     "metadata": {},
     "output_type": "execute_result"
    }
   ],
   "source": [
    "logger.log_value(\"data_shape\", list(X.shape))\n",
    "logger.log_value(\"target_shape\", list(y.shape))\n",
    "\n",
    "X.shape, y.shape"
   ]
  },
  {
   "cell_type": "code",
   "execution_count": 10,
   "id": "281c7739",
   "metadata": {
    "execution": {
     "iopub.execute_input": "2022-07-10T06:45:39.644568Z",
     "iopub.status.busy": "2022-07-10T06:45:39.644032Z",
     "iopub.status.idle": "2022-07-10T06:45:39.652687Z",
     "shell.execute_reply": "2022-07-10T06:45:39.651966Z"
    },
    "papermill": {
     "duration": 0.014675,
     "end_time": "2022-07-10T06:45:39.654409",
     "exception": false,
     "start_time": "2022-07-10T06:45:39.639734",
     "status": "completed"
    },
    "tags": []
   },
   "outputs": [],
   "source": [
    "write_numpy(datalake_root(P) / \"raw\" / \"digits.numpy\", X)\n",
    "write_numpy(datalake_root(P) / \"raw\" / \"labels.numpy\", y)"
   ]
  },
  {
   "cell_type": "code",
   "execution_count": null,
   "id": "36d825e7",
   "metadata": {
    "papermill": {
     "duration": 0.00258,
     "end_time": "2022-07-10T06:45:39.659741",
     "exception": false,
     "start_time": "2022-07-10T06:45:39.657161",
     "status": "completed"
    },
    "tags": []
   },
   "outputs": [],
   "source": []
  }
 ],
 "metadata": {
  "jupytext": {
   "cell_metadata_filter": "tags,-all",
   "main_language": "python",
   "notebook_metadata_filter": "-all"
  },
  "language_info": {
   "codemirror_mode": {
    "name": "ipython",
    "version": 3
   },
   "file_extension": ".py",
   "mimetype": "text/x-python",
   "name": "python",
   "nbconvert_exporter": "python",
   "pygments_lexer": "ipython3",
   "version": "3.8.10"
  },
  "papermill": {
   "default_parameters": {},
   "duration": 3.996795,
   "end_time": "2022-07-10T06:45:40.681555",
   "environment_variables": {},
   "exception": null,
   "input_path": "/home/host_user/workspace/mnist-demo-pipeline/mnist-demo-pipeline/notebooks/temp-notebook-dmbjuki3.ipynb",
   "output_path": "notebooks/ingest.ipynb",
   "parameters": {
    "P": {
     "_opentelemetry_traceparent": "00-9dec208046dff2972183177a1640172e-34cd86f8494fbbac-01",
     "pipeline.data_lake_root": "/pipeline-outputs/data-lake",
     "pipeline.github.actor": "matiasdahl",
     "pipeline.github.base_ref": "",
     "pipeline.github.event_name": "schedule",
     "pipeline.github.head_ref": "",
     "pipeline.github.job": "run-tests-pipeline-and-persist-pipeline-outputs",
     "pipeline.github.ref": "refs/heads/development",
     "pipeline.github.ref_name": "development",
     "pipeline.github.ref_type": "branch",
     "pipeline.github.repository": "pynb-dag-runner/mnist-digits-demo-pipeline",
     "pipeline.github.run_id": "2643712272",
     "pipeline.github.runner_name": "Hosted Agent",
     "pipeline.github.sha": "147a1be9916173fd4d2cd011d8d51e3411215850",
     "pipeline.github.workflow": "Run automated tests, pipeline and deploy results to static reporting site",
     "pipeline.pipeline_run_id": "0d610b9c-6daa-40a4-8586-4f125460c4f8",
     "pipeline.run_environment": "ci",
     "run.retry_nr": "10",
     "task.max_nr_retries": "15",
     "task.notebook": "notebooks/ingest.py",
     "task.num_cpus": 1,
     "task.timeout_s": "10"
    }
   },
   "start_time": "2022-07-10T06:45:36.684760",
   "version": "2.3.3"
  }
 },
 "nbformat": 4,
 "nbformat_minor": 5
}