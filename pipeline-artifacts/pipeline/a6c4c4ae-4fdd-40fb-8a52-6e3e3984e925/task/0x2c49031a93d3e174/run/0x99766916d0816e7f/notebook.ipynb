{
 "cells": [
  {
   "cell_type": "markdown",
   "id": "a89ac708",
   "metadata": {
    "papermill": {
     "duration": 0.005975,
     "end_time": "2022-07-14T17:37:53.242455",
     "exception": false,
     "start_time": "2022-07-14T17:37:53.236480",
     "status": "completed"
    },
    "tags": []
   },
   "source": [
    "# Benchmark model\n",
    "\n",
    "The purpose of this notebook is to benchmark persisted onnx-model (trained in the\n",
    "previous step) against evaluation set."
   ]
  },
  {
   "cell_type": "markdown",
   "id": "43ebd608",
   "metadata": {
    "papermill": {
     "duration": 0.004268,
     "end_time": "2022-07-14T17:37:53.251241",
     "exception": false,
     "start_time": "2022-07-14T17:37:53.246973",
     "status": "completed"
    },
    "tags": []
   },
   "source": [
    "### Determine run parameters"
   ]
  },
  {
   "cell_type": "code",
   "execution_count": 1,
   "id": "c946e9a6",
   "metadata": {
    "execution": {
     "iopub.execute_input": "2022-07-14T17:37:53.261191Z",
     "iopub.status.busy": "2022-07-14T17:37:53.260394Z",
     "iopub.status.idle": "2022-07-14T17:37:53.268384Z",
     "shell.execute_reply": "2022-07-14T17:37:53.267883Z"
    },
    "lines_to_next_cell": 0,
    "papermill": {
     "duration": 0.017069,
     "end_time": "2022-07-14T17:37:53.272483",
     "exception": false,
     "start_time": "2022-07-14T17:37:53.255414",
     "status": "completed"
    },
    "tags": []
   },
   "outputs": [],
   "source": [
    "# ----------------- Parameters for interactive development --------------\n",
    "P = {\n",
    "    \"pipeline.data_lake_root\": \"/pipeline-outputs/data-lake\",\n",
    "    \"task.nr_train_images\": 600,\n",
    "}"
   ]
  },
  {
   "cell_type": "code",
   "execution_count": 2,
   "id": "d2e408bb",
   "metadata": {
    "execution": {
     "iopub.execute_input": "2022-07-14T17:37:53.282231Z",
     "iopub.status.busy": "2022-07-14T17:37:53.282029Z",
     "iopub.status.idle": "2022-07-14T17:37:53.285029Z",
     "shell.execute_reply": "2022-07-14T17:37:53.284552Z"
    },
    "lines_to_next_cell": 0,
    "papermill": {
     "duration": 0.01055,
     "end_time": "2022-07-14T17:37:53.287435",
     "exception": false,
     "start_time": "2022-07-14T17:37:53.276885",
     "status": "completed"
    },
    "tags": [
     "parameters"
    ]
   },
   "outputs": [],
   "source": [
    "# - During automated runs parameters will be injected in the below cell -"
   ]
  },
  {
   "cell_type": "code",
   "execution_count": 3,
   "id": "32fae867",
   "metadata": {
    "execution": {
     "iopub.execute_input": "2022-07-14T17:37:53.297190Z",
     "iopub.status.busy": "2022-07-14T17:37:53.296995Z",
     "iopub.status.idle": "2022-07-14T17:37:53.301340Z",
     "shell.execute_reply": "2022-07-14T17:37:53.300621Z"
    },
    "papermill": {
     "duration": 0.011694,
     "end_time": "2022-07-14T17:37:53.303785",
     "exception": false,
     "start_time": "2022-07-14T17:37:53.292091",
     "status": "completed"
    },
    "tags": [
     "injected-parameters"
    ]
   },
   "outputs": [],
   "source": [
    "# Parameters\n",
    "P = {\n",
    "    \"pipeline.data_lake_root\": \"/pipeline-outputs/data-lake\",\n",
    "    \"pipeline.run_environment\": \"ci\",\n",
    "    \"pipeline.pipeline_run_id\": \"a6c4c4ae-4fdd-40fb-8a52-6e3e3984e925\",\n",
    "    \"pipeline.github.repository\": \"pynb-dag-runner/mnist-digits-demo-pipeline\",\n",
    "    \"pipeline.github.workflow\": \"Run automated tests, pipeline and deploy results to static reporting site\",\n",
    "    \"pipeline.github.runner_name\": \"GitHub Actions 2\",\n",
    "    \"pipeline.github.run_id\": \"2668450777\",\n",
    "    \"pipeline.github.actor\": \"matiasdahl\",\n",
    "    \"pipeline.github.job\": \"run-tests-pipeline-and-persist-pipeline-outputs\",\n",
    "    \"pipeline.github.base_ref\": \"\",\n",
    "    \"pipeline.github.head_ref\": \"\",\n",
    "    \"pipeline.github.sha\": \"147a1be9916173fd4d2cd011d8d51e3411215850\",\n",
    "    \"pipeline.github.ref\": \"refs/heads/development\",\n",
    "    \"pipeline.github.ref_type\": \"branch\",\n",
    "    \"pipeline.github.ref_name\": \"development\",\n",
    "    \"pipeline.github.event_name\": \"schedule\",\n",
    "    \"task.nr_train_images\": 1200,\n",
    "    \"task.notebook\": \"notebooks/benchmark-model.py\",\n",
    "    \"task.max_nr_retries\": \"1\",\n",
    "    \"run.retry_nr\": \"0\",\n",
    "    \"task.timeout_s\": \"None\",\n",
    "    \"task.num_cpus\": 1,\n",
    "    \"_opentelemetry_traceparent\": \"00-8ed032a1273b4d8d9ed85f02e5fe0471-742051123bc0fa58-01\",\n",
    "}\n"
   ]
  },
  {
   "cell_type": "code",
   "execution_count": 4,
   "id": "7184b5ec",
   "metadata": {
    "execution": {
     "iopub.execute_input": "2022-07-14T17:37:53.314153Z",
     "iopub.status.busy": "2022-07-14T17:37:53.313951Z",
     "iopub.status.idle": "2022-07-14T17:37:53.316886Z",
     "shell.execute_reply": "2022-07-14T17:37:53.316389Z"
    },
    "lines_to_next_cell": 0,
    "papermill": {
     "duration": 0.011288,
     "end_time": "2022-07-14T17:37:53.319129",
     "exception": false,
     "start_time": "2022-07-14T17:37:53.307841",
     "status": "completed"
    },
    "tags": []
   },
   "outputs": [],
   "source": [
    "# -----------------------------------------------------------------------"
   ]
  },
  {
   "cell_type": "markdown",
   "id": "f30c35a2",
   "metadata": {
    "papermill": {
     "duration": 0.004221,
     "end_time": "2022-07-14T17:37:53.327475",
     "exception": false,
     "start_time": "2022-07-14T17:37:53.323254",
     "status": "completed"
    },
    "tags": []
   },
   "source": [
    "---"
   ]
  },
  {
   "cell_type": "markdown",
   "id": "894baccb",
   "metadata": {
    "lines_to_next_cell": 2,
    "papermill": {
     "duration": 0.004284,
     "end_time": "2022-07-14T17:37:53.335848",
     "exception": false,
     "start_time": "2022-07-14T17:37:53.331564",
     "status": "completed"
    },
    "tags": []
   },
   "source": [
    "### Notebook code"
   ]
  },
  {
   "cell_type": "code",
   "execution_count": 5,
   "id": "d916e15a",
   "metadata": {
    "execution": {
     "iopub.execute_input": "2022-07-14T17:37:53.344635Z",
     "iopub.status.busy": "2022-07-14T17:37:53.344419Z",
     "iopub.status.idle": "2022-07-14T17:37:54.443463Z",
     "shell.execute_reply": "2022-07-14T17:37:54.442726Z"
    },
    "papermill": {
     "duration": 1.105625,
     "end_time": "2022-07-14T17:37:54.445220",
     "exception": false,
     "start_time": "2022-07-14T17:37:53.339595",
     "status": "completed"
    },
    "tags": []
   },
   "outputs": [
    {
     "name": "stderr",
     "output_type": "stream",
     "text": [
      "2022-07-14 17:37:54,271\tINFO worker.py:842 -- Connecting to existing Ray cluster at address: 172.17.0.2:6379\n"
     ]
    }
   ],
   "source": [
    "import itertools as it\n",
    "\n",
    "#\n",
    "import numpy as np\n",
    "import matplotlib.pyplot as plt\n",
    "\n",
    "#\n",
    "from pynb_dag_runner.tasks.task_opentelemetry_logging import PydarLogger\n",
    "\n",
    "#\n",
    "from common.io import datalake_root\n",
    "\n",
    "logger = PydarLogger(P)"
   ]
  },
  {
   "cell_type": "markdown",
   "id": "a97ab0d1",
   "metadata": {
    "papermill": {
     "duration": 0.00465,
     "end_time": "2022-07-14T17:37:54.454384",
     "exception": false,
     "start_time": "2022-07-14T17:37:54.449734",
     "status": "completed"
    },
    "tags": []
   },
   "source": [
    "## Load persisted onnx-model and evaluation data"
   ]
  },
  {
   "cell_type": "code",
   "execution_count": 6,
   "id": "c184b69b",
   "metadata": {
    "execution": {
     "iopub.execute_input": "2022-07-14T17:37:54.464645Z",
     "iopub.status.busy": "2022-07-14T17:37:54.464049Z",
     "iopub.status.idle": "2022-07-14T17:37:54.467655Z",
     "shell.execute_reply": "2022-07-14T17:37:54.467019Z"
    },
    "papermill": {
     "duration": 0.010951,
     "end_time": "2022-07-14T17:37:54.469377",
     "exception": false,
     "start_time": "2022-07-14T17:37:54.458426",
     "status": "completed"
    },
    "tags": []
   },
   "outputs": [],
   "source": [
    "from common.io import read_onnx, get_onnx_inputs, get_onnx_outputs, read_numpy"
   ]
  },
  {
   "cell_type": "code",
   "execution_count": 7,
   "id": "a776ddb5",
   "metadata": {
    "execution": {
     "iopub.execute_input": "2022-07-14T17:37:54.479523Z",
     "iopub.status.busy": "2022-07-14T17:37:54.479211Z",
     "iopub.status.idle": "2022-07-14T17:37:54.489198Z",
     "shell.execute_reply": "2022-07-14T17:37:54.488560Z"
    },
    "lines_to_next_cell": 0,
    "papermill": {
     "duration": 0.016722,
     "end_time": "2022-07-14T17:37:54.490937",
     "exception": false,
     "start_time": "2022-07-14T17:37:54.474215",
     "status": "completed"
    },
    "tags": []
   },
   "outputs": [],
   "source": [
    "onnx_inference_session = read_onnx(\n",
    "    datalake_root(P)\n",
    "    / \"models\"\n",
    "    / f\"nr_train_images={P['task.nr_train_images']}\"\n",
    "    / \"model.onnx\"\n",
    ")"
   ]
  },
  {
   "cell_type": "markdown",
   "id": "82511a27",
   "metadata": {
    "papermill": {
     "duration": 0.005247,
     "end_time": "2022-07-14T17:37:54.504432",
     "exception": false,
     "start_time": "2022-07-14T17:37:54.499185",
     "status": "completed"
    },
    "tags": []
   },
   "source": [
    "### Record structure of inputs and outputs for ONNX model\n",
    "\n",
    "(this should likely be done in training notebook)"
   ]
  },
  {
   "cell_type": "code",
   "execution_count": 8,
   "id": "7b3fc475",
   "metadata": {
    "execution": {
     "iopub.execute_input": "2022-07-14T17:37:54.514182Z",
     "iopub.status.busy": "2022-07-14T17:37:54.513928Z",
     "iopub.status.idle": "2022-07-14T17:37:54.519707Z",
     "shell.execute_reply": "2022-07-14T17:37:54.519068Z"
    },
    "papermill": {
     "duration": 0.013052,
     "end_time": "2022-07-14T17:37:54.521794",
     "exception": false,
     "start_time": "2022-07-14T17:37:54.508742",
     "status": "completed"
    },
    "tags": []
   },
   "outputs": [
    {
     "name": "stdout",
     "output_type": "stream",
     "text": [
      "{\n",
      "  \"inputs\": [\n",
      "    {\n",
      "      \"name\": \"float_input_8x8_image\",\n",
      "      \"shape\": [\n",
      "        null,\n",
      "        64\n",
      "      ],\n",
      "      \"type\": \"tensor(float)\"\n",
      "    }\n",
      "  ],\n",
      "  \"outputs\": [\n",
      "    {\n",
      "      \"name\": \"output_label\",\n",
      "      \"shape\": [\n",
      "        null\n",
      "      ],\n",
      "      \"type\": \"tensor(int64)\"\n",
      "    },\n",
      "    {\n",
      "      \"name\": \"output_probability\",\n",
      "      \"shape\": [],\n",
      "      \"type\": \"seq(map(int64,tensor(float)))\"\n",
      "    }\n",
      "  ]\n",
      "}\n"
     ]
    }
   ],
   "source": [
    "import json\n",
    "\n",
    "onnx_io = json.dumps(\n",
    "    {\n",
    "        \"inputs\": get_onnx_inputs(onnx_inference_session),\n",
    "        \"outputs\": get_onnx_outputs(onnx_inference_session),\n",
    "    },\n",
    "    indent=2,\n",
    ")\n",
    "\n",
    "\n",
    "logger.log_artefact(\"onnx_io_structure.json\", onnx_io)\n",
    "print(onnx_io)"
   ]
  },
  {
   "cell_type": "markdown",
   "id": "e6141e8f",
   "metadata": {
    "papermill": {
     "duration": 0.004771,
     "end_time": "2022-07-14T17:37:54.531127",
     "exception": false,
     "start_time": "2022-07-14T17:37:54.526356",
     "status": "completed"
    },
    "tags": []
   },
   "source": [
    "### Evaluate model performance on evaluation data set"
   ]
  },
  {
   "cell_type": "code",
   "execution_count": 9,
   "id": "4a6faae0",
   "metadata": {
    "execution": {
     "iopub.execute_input": "2022-07-14T17:37:54.540969Z",
     "iopub.status.busy": "2022-07-14T17:37:54.540638Z",
     "iopub.status.idle": "2022-07-14T17:37:54.545591Z",
     "shell.execute_reply": "2022-07-14T17:37:54.544960Z"
    },
    "papermill": {
     "duration": 0.012323,
     "end_time": "2022-07-14T17:37:54.547670",
     "exception": false,
     "start_time": "2022-07-14T17:37:54.535347",
     "status": "completed"
    },
    "tags": []
   },
   "outputs": [],
   "source": [
    "# load evaluation data\n",
    "X_test = read_numpy(datalake_root(P) / \"test-data\" / \"digits.numpy\")\n",
    "y_test = read_numpy(datalake_root(P) / \"test-data\" / \"labels.numpy\")"
   ]
  },
  {
   "cell_type": "code",
   "execution_count": 10,
   "id": "7c03d953",
   "metadata": {
    "execution": {
     "iopub.execute_input": "2022-07-14T17:37:54.557995Z",
     "iopub.status.busy": "2022-07-14T17:37:54.557768Z",
     "iopub.status.idle": "2022-07-14T17:37:54.572499Z",
     "shell.execute_reply": "2022-07-14T17:37:54.571834Z"
    },
    "papermill": {
     "duration": 0.021647,
     "end_time": "2022-07-14T17:37:54.574261",
     "exception": false,
     "start_time": "2022-07-14T17:37:54.552614",
     "status": "completed"
    },
    "tags": []
   },
   "outputs": [],
   "source": [
    "def get_model_outputs(X, onnx_inference_session):\n",
    "    y_pred_labels, y_pred_map = onnx_inference_session.run(\n",
    "        [\"output_label\", \"output_probability\"],\n",
    "        {\"float_input_8x8_image\": X.astype(np.float32)},\n",
    "    )\n",
    "    y_pred_probs = np.array(\n",
    "        [[probabilities[digit] for digit in range(10)] for probabilities in y_pred_map]\n",
    "    )\n",
    "\n",
    "    assert y_pred_labels.shape == (X.shape[0],)\n",
    "    assert y_pred_probs.shape == (X.shape[0], 10)\n",
    "\n",
    "    return y_pred_labels, y_pred_probs\n",
    "\n",
    "\n",
    "# Note: as shown in the training notebook, the predicted labels and probabilities\n",
    "# computed below need not be compatible.\n",
    "y_pred_labels_test, y_pred_probs_test = get_model_outputs(\n",
    "    X_test, onnx_inference_session\n",
    ")"
   ]
  },
  {
   "cell_type": "markdown",
   "id": "c96c665a",
   "metadata": {
    "papermill": {
     "duration": 0.00506,
     "end_time": "2022-07-14T17:37:54.583982",
     "exception": false,
     "start_time": "2022-07-14T17:37:54.578922",
     "status": "completed"
    },
    "tags": []
   },
   "source": [
    "### Confusion matrix"
   ]
  },
  {
   "cell_type": "code",
   "execution_count": 11,
   "id": "38dbac0e",
   "metadata": {
    "execution": {
     "iopub.execute_input": "2022-07-14T17:37:54.594224Z",
     "iopub.status.busy": "2022-07-14T17:37:54.593983Z",
     "iopub.status.idle": "2022-07-14T17:37:54.597078Z",
     "shell.execute_reply": "2022-07-14T17:37:54.596554Z"
    },
    "papermill": {
     "duration": 0.015251,
     "end_time": "2022-07-14T17:37:54.603612",
     "exception": false,
     "start_time": "2022-07-14T17:37:54.588361",
     "status": "completed"
    },
    "tags": []
   },
   "outputs": [],
   "source": [
    "# TODO"
   ]
  },
  {
   "cell_type": "markdown",
   "id": "430259d3",
   "metadata": {
    "papermill": {
     "duration": 0.004534,
     "end_time": "2022-07-14T17:37:54.613674",
     "exception": false,
     "start_time": "2022-07-14T17:37:54.609140",
     "status": "completed"
    },
    "tags": []
   },
   "source": [
    "### Plot predicted probabilities for each classifier over all evaluation digit images"
   ]
  },
  {
   "cell_type": "code",
   "execution_count": 12,
   "id": "a9b66a81",
   "metadata": {
    "execution": {
     "iopub.execute_input": "2022-07-14T17:37:54.623577Z",
     "iopub.status.busy": "2022-07-14T17:37:54.623347Z",
     "iopub.status.idle": "2022-07-14T17:37:57.584584Z",
     "shell.execute_reply": "2022-07-14T17:37:57.583900Z"
    },
    "papermill": {
     "duration": 2.96833,
     "end_time": "2022-07-14T17:37:57.586469",
     "exception": false,
     "start_time": "2022-07-14T17:37:54.618139",
     "status": "completed"
    },
    "tags": []
   },
   "outputs": [
    {
     "data": {
      "image/png": "[encoded data removed]",
      "text/plain": [
       "<Figure size 1152x432 with 10 Axes>"
      ]
     },
     "metadata": {
      "needs_background": "light"
     },
     "output_type": "display_data"
    }
   ],
   "source": [
    "def plot_per_digit_probabilities(y_pred_probs):\n",
    "    fig, axs = plt.subplots(nrows=2, ncols=5, figsize=(16, 6))\n",
    "\n",
    "    for (r, c), digit, ax in zip(\n",
    "        it.product(range(2), range(5)), range(10), axs.reshape(-1)\n",
    "    ):\n",
    "        ax.hist(y_pred_probs_test[:, digit], bins=20)\n",
    "\n",
    "        ax.set_title(f\"Digit {digit}\")\n",
    "        if r == 1 and c == 2:\n",
    "            ax.set_xlabel(\"probability\", fontsize=16)\n",
    "\n",
    "        if c == 0:\n",
    "            ax.set_ylabel(\"counts\", fontsize=16)\n",
    "        ax.set_yscale(\"log\")\n",
    "\n",
    "    fig.tight_layout()\n",
    "    fig.suptitle(\n",
    "        f\"Distributions of prediction probabilities for each digit \"\n",
    "        f\"(on evaluation data, n={y_pred_probs.shape[0]})\",\n",
    "        fontsize=20,\n",
    "    )\n",
    "    fig.tight_layout()\n",
    "    fig.show()\n",
    "\n",
    "    return fig\n",
    "\n",
    "\n",
    "fig = plot_per_digit_probabilities(y_pred_probs_test)"
   ]
  },
  {
   "cell_type": "markdown",
   "id": "07439daa",
   "metadata": {
    "papermill": {
     "duration": 0.00484,
     "end_time": "2022-07-14T17:37:57.596438",
     "exception": false,
     "start_time": "2022-07-14T17:37:57.591598",
     "status": "completed"
    },
    "tags": []
   },
   "source": [
    "From the above distributions we see that most digits have clear separation between\n",
    "high and lower probabilities. Morover, in each case there is roughly an order of\n",
    "magnitude more of digits with low probabilities. This is compatible with digits\n",
    "being roughly evenly distributed in the data."
   ]
  },
  {
   "cell_type": "code",
   "execution_count": 13,
   "id": "409e6716",
   "metadata": {
    "execution": {
     "iopub.execute_input": "2022-07-14T17:37:57.606621Z",
     "iopub.status.busy": "2022-07-14T17:37:57.606327Z",
     "iopub.status.idle": "2022-07-14T17:37:57.999503Z",
     "shell.execute_reply": "2022-07-14T17:37:57.998878Z"
    },
    "papermill": {
     "duration": 0.40039,
     "end_time": "2022-07-14T17:37:58.001357",
     "exception": false,
     "start_time": "2022-07-14T17:37:57.600967",
     "status": "completed"
    },
    "tags": []
   },
   "outputs": [],
   "source": [
    "logger.log_figure(\"per-digit-probabilities.png\", fig)"
   ]
  },
  {
   "cell_type": "markdown",
   "id": "e43f1378",
   "metadata": {
    "papermill": {
     "duration": 0.00487,
     "end_time": "2022-07-14T17:37:58.011229",
     "exception": false,
     "start_time": "2022-07-14T17:37:58.006359",
     "status": "completed"
    },
    "tags": []
   },
   "source": [
    "### Plot ROC curves for individual one-vs-rest classifiers"
   ]
  },
  {
   "cell_type": "code",
   "execution_count": 14,
   "id": "aafa3c23",
   "metadata": {
    "execution": {
     "iopub.execute_input": "2022-07-14T17:37:58.022617Z",
     "iopub.status.busy": "2022-07-14T17:37:58.022176Z",
     "iopub.status.idle": "2022-07-14T17:37:58.345042Z",
     "shell.execute_reply": "2022-07-14T17:37:58.344334Z"
    },
    "papermill": {
     "duration": 0.330165,
     "end_time": "2022-07-14T17:37:58.346793",
     "exception": false,
     "start_time": "2022-07-14T17:37:58.016628",
     "status": "completed"
    },
    "tags": []
   },
   "outputs": [],
   "source": [
    "from sklearn import metrics"
   ]
  },
  {
   "cell_type": "code",
   "execution_count": 15,
   "id": "c1e01ce3",
   "metadata": {
    "execution": {
     "iopub.execute_input": "2022-07-14T17:37:58.358208Z",
     "iopub.status.busy": "2022-07-14T17:37:58.357971Z",
     "iopub.status.idle": "2022-07-14T17:37:59.297803Z",
     "shell.execute_reply": "2022-07-14T17:37:59.297147Z"
    },
    "papermill": {
     "duration": 0.947637,
     "end_time": "2022-07-14T17:37:59.299572",
     "exception": false,
     "start_time": "2022-07-14T17:37:58.351935",
     "status": "completed"
    },
    "tags": []
   },
   "outputs": [
    {
     "data": {
      "image/png": "[encoded data removed]",
      "text/plain": [
       "<Figure size 1152x576 with 10 Axes>"
      ]
     },
     "metadata": {
      "needs_background": "light"
     },
     "output_type": "display_data"
    }
   ],
   "source": [
    "def plot_roc_curves(y, y_pred_probs):\n",
    "    # based on example code\n",
    "    # https://scikit-learn.org/stable/auto_examples/model_selection/plot_roc.html\n",
    "\n",
    "    fig, axs = plt.subplots(nrows=2, ncols=5, figsize=(16, 8))\n",
    "\n",
    "    roc_auc_dict = {}\n",
    "\n",
    "    for (r, c), digit, ax in zip(\n",
    "        it.product(range(2), range(5)), range(10), axs.reshape(-1)\n",
    "    ):\n",
    "        fpr, tpr, _ = metrics.roc_curve(y == digit, y_pred_probs[:, digit])\n",
    "        auc = metrics.auc(fpr, tpr)\n",
    "        roc_auc_dict[str(digit)] = auc\n",
    "\n",
    "        ax.plot(fpr, tpr, label=f\"ROC AUC={round(auc, 3)}\")\n",
    "\n",
    "        ax.set_title(f\"\\nDigit {digit}\", fontsize=16)\n",
    "        if r == 1:\n",
    "            ax.set_xlabel(\"FPR\", fontsize=18)\n",
    "\n",
    "        if c == 0:\n",
    "            ax.set_ylabel(\"TPR\", fontsize=18)\n",
    "\n",
    "        ax.set_xlim([-0.05, 1.05])\n",
    "        ax.set_ylim([-0.05, 1.05])\n",
    "        ax.legend(loc=\"lower right\", frameon=False, fontsize=14)\n",
    "\n",
    "    fig.tight_layout()\n",
    "    fig.suptitle(\n",
    "        f\"ROC plots for one-vs-rest performances \"\n",
    "        f\"(on evaluation data, n={y_pred_probs_test.shape[1]}\",\n",
    "        fontsize=22,\n",
    "    )\n",
    "    fig.tight_layout()\n",
    "    fig.show()\n",
    "\n",
    "    return roc_auc_dict, fig\n",
    "\n",
    "\n",
    "roc_auc_dict, fig = plot_roc_curves(y_test, y_pred_probs_test)"
   ]
  },
  {
   "cell_type": "code",
   "execution_count": 16,
   "id": "11e58094",
   "metadata": {
    "execution": {
     "iopub.execute_input": "2022-07-14T17:37:59.315940Z",
     "iopub.status.busy": "2022-07-14T17:37:59.315710Z",
     "iopub.status.idle": "2022-07-14T17:37:59.509993Z",
     "shell.execute_reply": "2022-07-14T17:37:59.509370Z"
    },
    "papermill": {
     "duration": 0.206256,
     "end_time": "2022-07-14T17:37:59.511499",
     "exception": false,
     "start_time": "2022-07-14T17:37:59.305243",
     "status": "completed"
    },
    "tags": []
   },
   "outputs": [],
   "source": [
    "logger.log_figure(\"per-digit-roc-curves.png\", fig)"
   ]
  },
  {
   "cell_type": "code",
   "execution_count": 17,
   "id": "d420b806",
   "metadata": {
    "execution": {
     "iopub.execute_input": "2022-07-14T17:37:59.523665Z",
     "iopub.status.busy": "2022-07-14T17:37:59.523212Z",
     "iopub.status.idle": "2022-07-14T17:37:59.528261Z",
     "shell.execute_reply": "2022-07-14T17:37:59.527353Z"
    },
    "papermill": {
     "duration": 0.013229,
     "end_time": "2022-07-14T17:37:59.530248",
     "exception": false,
     "start_time": "2022-07-14T17:37:59.517019",
     "status": "completed"
    },
    "tags": []
   },
   "outputs": [
    {
     "data": {
      "text/plain": [
       "{'0': 1.0,\n",
       " '1': 0.9991002811621369,\n",
       " '2': 1.0,\n",
       " '3': 0.9998500468603562,\n",
       " '4': 0.9997332723670173,\n",
       " '5': 0.9997000937207123,\n",
       " '6': 0.999923792104862,\n",
       " '7': 0.9998475842097242,\n",
       " '8': 0.9957834174022698,\n",
       " '9': 0.9998094802621552}"
      ]
     },
     "execution_count": 17,
     "metadata": {},
     "output_type": "execute_result"
    }
   ],
   "source": [
    "roc_auc_dict"
   ]
  },
  {
   "cell_type": "code",
   "execution_count": 18,
   "id": "66a7ed4e",
   "metadata": {
    "execution": {
     "iopub.execute_input": "2022-07-14T17:37:59.543021Z",
     "iopub.status.busy": "2022-07-14T17:37:59.542415Z",
     "iopub.status.idle": "2022-07-14T17:37:59.547552Z",
     "shell.execute_reply": "2022-07-14T17:37:59.546980Z"
    },
    "papermill": {
     "duration": 0.013336,
     "end_time": "2022-07-14T17:37:59.549046",
     "exception": false,
     "start_time": "2022-07-14T17:37:59.535710",
     "status": "completed"
    },
    "tags": []
   },
   "outputs": [
    {
     "name": "stdout",
     "output_type": "stream",
     "text": [
      " - Logging roc_auc_per_digit (json) : {'0': 1.0, '1': 0.9991002811621369, '2': 1.0, '3': 0.9998500468603562, '4': 0.9997332723670173, '5': 0.9997000937207123, '6': 0.999923792104862, '7': 0.9998475842097242, '8': 0.9957834174022698, '9': 0.9998094802621552}\n"
     ]
    }
   ],
   "source": [
    "logger.log_value(\"roc_auc_per_digit\", roc_auc_dict)"
   ]
  },
  {
   "cell_type": "markdown",
   "id": "596c7999",
   "metadata": {
    "papermill": {
     "duration": 0.005322,
     "end_time": "2022-07-14T17:37:59.559797",
     "exception": false,
     "start_time": "2022-07-14T17:37:59.554475",
     "status": "completed"
    },
    "tags": []
   },
   "source": [
    "### Compute and log mean ROC AUC score averaged over all digits"
   ]
  },
  {
   "cell_type": "code",
   "execution_count": 19,
   "id": "ce296caf",
   "metadata": {
    "execution": {
     "iopub.execute_input": "2022-07-14T17:37:59.571584Z",
     "iopub.status.busy": "2022-07-14T17:37:59.571190Z",
     "iopub.status.idle": "2022-07-14T17:37:59.581767Z",
     "shell.execute_reply": "2022-07-14T17:37:59.581196Z"
    },
    "papermill": {
     "duration": 0.017991,
     "end_time": "2022-07-14T17:37:59.583200",
     "exception": false,
     "start_time": "2022-07-14T17:37:59.565209",
     "status": "completed"
    },
    "tags": []
   },
   "outputs": [
    {
     "name": "stdout",
     "output_type": "stream",
     "text": [
      " - Logging roc_auc_class_mean (float) : 0.9993747968089235\n"
     ]
    }
   ],
   "source": [
    "roc_auc_macro = np.mean(list(roc_auc_dict.values()))\n",
    "\n",
    "logger.log_float(\"roc_auc_class_mean\", roc_auc_macro)\n",
    "\n",
    "# assert that the same value can be computed directly using sklearn\n",
    "assert roc_auc_macro == metrics.roc_auc_score(\n",
    "    y_test, y_pred_probs_test, average=\"macro\", multi_class=\"ovr\"\n",
    ")"
   ]
  },
  {
   "cell_type": "code",
   "execution_count": 20,
   "id": "fa6c55c8",
   "metadata": {
    "execution": {
     "iopub.execute_input": "2022-07-14T17:37:59.595283Z",
     "iopub.status.busy": "2022-07-14T17:37:59.594830Z",
     "iopub.status.idle": "2022-07-14T17:37:59.598395Z",
     "shell.execute_reply": "2022-07-14T17:37:59.597718Z"
    },
    "lines_to_next_cell": 0,
    "papermill": {
     "duration": 0.011197,
     "end_time": "2022-07-14T17:37:59.599858",
     "exception": false,
     "start_time": "2022-07-14T17:37:59.588661",
     "status": "completed"
    },
    "tags": []
   },
   "outputs": [],
   "source": [
    "# ---"
   ]
  },
  {
   "cell_type": "code",
   "execution_count": null,
   "id": "5fbda07a",
   "metadata": {
    "papermill": {
     "duration": 0.005526,
     "end_time": "2022-07-14T17:37:59.610675",
     "exception": false,
     "start_time": "2022-07-14T17:37:59.605149",
     "status": "completed"
    },
    "tags": []
   },
   "outputs": [],
   "source": []
  }
 ],
 "metadata": {
  "jupytext": {
   "cell_metadata_filter": "tags,-all",
   "main_language": "python",
   "notebook_metadata_filter": "-all"
  },
  "language_info": {
   "codemirror_mode": {
    "name": "ipython",
    "version": 3
   },
   "file_extension": ".py",
   "mimetype": "text/x-python",
   "name": "python",
   "nbconvert_exporter": "python",
   "pygments_lexer": "ipython3",
   "version": "3.8.10"
  },
  "papermill": {
   "default_parameters": {},
   "duration": 8.576592,
   "end_time": "2022-07-14T17:38:00.434659",
   "environment_variables": {},
   "exception": null,
   "input_path": "/home/host_user/workspace/mnist-demo-pipeline/mnist-demo-pipeline/notebooks/temp-notebook-ynyd9pwc.ipynb",
   "output_path": "notebooks/benchmark-model.ipynb",
   "parameters": {
    "P": {
     "_opentelemetry_traceparent": "00-8ed032a1273b4d8d9ed85f02e5fe0471-742051123bc0fa58-01",
     "pipeline.data_lake_root": "/pipeline-outputs/data-lake",
     "pipeline.github.actor": "matiasdahl",
     "pipeline.github.base_ref": "",
     "pipeline.github.event_name": "schedule",
     "pipeline.github.head_ref": "",
     "pipeline.github.job": "run-tests-pipeline-and-persist-pipeline-outputs",
     "pipeline.github.ref": "refs/heads/development",
     "pipeline.github.ref_name": "development",
     "pipeline.github.ref_type": "branch",
     "pipeline.github.repository": "pynb-dag-runner/mnist-digits-demo-pipeline",
     "pipeline.github.run_id": "2668450777",
     "pipeline.github.runner_name": "GitHub Actions 2",
     "pipeline.github.sha": "147a1be9916173fd4d2cd011d8d51e3411215850",
     "pipeline.github.workflow": "Run automated tests, pipeline and deploy results to static reporting site",
     "pipeline.pipeline_run_id": "a6c4c4ae-4fdd-40fb-8a52-6e3e3984e925",
     "pipeline.run_environment": "ci",
     "run.retry_nr": "0",
     "task.max_nr_retries": "1",
     "task.notebook": "notebooks/benchmark-model.py",
     "task.nr_train_images": 1200,
     "task.num_cpus": 1,
     "task.timeout_s": "None"
    }
   },
   "start_time": "2022-07-14T17:37:51.858067",
   "version": "2.3.3"
  }
 },
 "nbformat": 4,
 "nbformat_minor": 5
}