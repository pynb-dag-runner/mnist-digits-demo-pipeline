{
 "cells": [
  {
   "cell_type": "markdown",
   "id": "8ea52b19",
   "metadata": {
    "papermill": {
     "duration": 0.003653,
     "end_time": "2022-07-14T17:38:02.768903",
     "exception": false,
     "start_time": "2022-07-14T17:38:02.765250",
     "status": "completed"
    },
    "tags": []
   },
   "source": [
    "# Summarize model performances\n",
    "\n",
    "This notebooks plots the performances (using averaged ROC AUC scores) for models\n",
    "trained with different training sets."
   ]
  },
  {
   "cell_type": "markdown",
   "id": "97dceded",
   "metadata": {
    "papermill": {
     "duration": 0.002346,
     "end_time": "2022-07-14T17:38:02.774129",
     "exception": false,
     "start_time": "2022-07-14T17:38:02.771783",
     "status": "completed"
    },
    "tags": []
   },
   "source": [
    "### Determine run parameters"
   ]
  },
  {
   "cell_type": "code",
   "execution_count": 1,
   "id": "5b1f0467",
   "metadata": {
    "execution": {
     "iopub.execute_input": "2022-07-14T17:38:02.780266Z",
     "iopub.status.busy": "2022-07-14T17:38:02.779969Z",
     "iopub.status.idle": "2022-07-14T17:38:02.786960Z",
     "shell.execute_reply": "2022-07-14T17:38:02.786378Z"
    },
    "lines_to_next_cell": 0,
    "papermill": {
     "duration": 0.011773,
     "end_time": "2022-07-14T17:38:02.788357",
     "exception": false,
     "start_time": "2022-07-14T17:38:02.776584",
     "status": "completed"
    },
    "tags": []
   },
   "outputs": [],
   "source": [
    "# ----------------- Parameters for interactive development --------------\n",
    "P = {\n",
    "    \"pipeline.run_environment\": \"dev\",\n",
    "}"
   ]
  },
  {
   "cell_type": "code",
   "execution_count": 2,
   "id": "78e3f66f",
   "metadata": {
    "execution": {
     "iopub.execute_input": "2022-07-14T17:38:02.796136Z",
     "iopub.status.busy": "2022-07-14T17:38:02.795584Z",
     "iopub.status.idle": "2022-07-14T17:38:02.798712Z",
     "shell.execute_reply": "2022-07-14T17:38:02.798136Z"
    },
    "lines_to_next_cell": 0,
    "papermill": {
     "duration": 0.008219,
     "end_time": "2022-07-14T17:38:02.800047",
     "exception": false,
     "start_time": "2022-07-14T17:38:02.791828",
     "status": "completed"
    },
    "tags": [
     "parameters"
    ]
   },
   "outputs": [],
   "source": [
    "# - During automated runs parameters will be injected in the below cell -"
   ]
  },
  {
   "cell_type": "code",
   "execution_count": 3,
   "id": "cbd66c26",
   "metadata": {
    "execution": {
     "iopub.execute_input": "2022-07-14T17:38:02.806307Z",
     "iopub.status.busy": "2022-07-14T17:38:02.805997Z",
     "iopub.status.idle": "2022-07-14T17:38:02.810067Z",
     "shell.execute_reply": "2022-07-14T17:38:02.809506Z"
    },
    "papermill": {
     "duration": 0.00869,
     "end_time": "2022-07-14T17:38:02.811342",
     "exception": false,
     "start_time": "2022-07-14T17:38:02.802652",
     "status": "completed"
    },
    "tags": [
     "injected-parameters"
    ]
   },
   "outputs": [],
   "source": [
    "# Parameters\n",
    "P = {\n",
    "    \"pipeline.data_lake_root\": \"/pipeline-outputs/data-lake\",\n",
    "    \"pipeline.run_environment\": \"ci\",\n",
    "    \"pipeline.pipeline_run_id\": \"a6c4c4ae-4fdd-40fb-8a52-6e3e3984e925\",\n",
    "    \"pipeline.github.repository\": \"pynb-dag-runner/mnist-digits-demo-pipeline\",\n",
    "    \"pipeline.github.workflow\": \"Run automated tests, pipeline and deploy results to static reporting site\",\n",
    "    \"pipeline.github.runner_name\": \"GitHub Actions 2\",\n",
    "    \"pipeline.github.run_id\": \"2668450777\",\n",
    "    \"pipeline.github.actor\": \"matiasdahl\",\n",
    "    \"pipeline.github.job\": \"run-tests-pipeline-and-persist-pipeline-outputs\",\n",
    "    \"pipeline.github.base_ref\": \"\",\n",
    "    \"pipeline.github.head_ref\": \"\",\n",
    "    \"pipeline.github.sha\": \"147a1be9916173fd4d2cd011d8d51e3411215850\",\n",
    "    \"pipeline.github.ref\": \"refs/heads/development\",\n",
    "    \"pipeline.github.ref_type\": \"branch\",\n",
    "    \"pipeline.github.ref_name\": \"development\",\n",
    "    \"pipeline.github.event_name\": \"schedule\",\n",
    "    \"task.notebook\": \"notebooks/summary.py\",\n",
    "    \"task.max_nr_retries\": \"1\",\n",
    "    \"run.retry_nr\": \"0\",\n",
    "    \"task.timeout_s\": \"None\",\n",
    "    \"task.num_cpus\": 1,\n",
    "    \"_opentelemetry_traceparent\": \"00-8ed032a1273b4d8d9ed85f02e5fe0471-9e60dd331f307453-01\",\n",
    "}\n"
   ]
  },
  {
   "cell_type": "code",
   "execution_count": 4,
   "id": "ff82ea17",
   "metadata": {
    "execution": {
     "iopub.execute_input": "2022-07-14T17:38:02.817492Z",
     "iopub.status.busy": "2022-07-14T17:38:02.817291Z",
     "iopub.status.idle": "2022-07-14T17:38:02.819781Z",
     "shell.execute_reply": "2022-07-14T17:38:02.819235Z"
    },
    "lines_to_next_cell": 0,
    "papermill": {
     "duration": 0.007151,
     "end_time": "2022-07-14T17:38:02.821107",
     "exception": false,
     "start_time": "2022-07-14T17:38:02.813956",
     "status": "completed"
    },
    "tags": []
   },
   "outputs": [],
   "source": [
    "# -----------------------------------------------------------------------"
   ]
  },
  {
   "cell_type": "markdown",
   "id": "ef73fd98",
   "metadata": {
    "papermill": {
     "duration": 0.002596,
     "end_time": "2022-07-14T17:38:02.826167",
     "exception": false,
     "start_time": "2022-07-14T17:38:02.823571",
     "status": "completed"
    },
    "tags": []
   },
   "source": [
    "---"
   ]
  },
  {
   "cell_type": "markdown",
   "id": "76d0e110",
   "metadata": {
    "lines_to_next_cell": 2,
    "papermill": {
     "duration": 0.002475,
     "end_time": "2022-07-14T17:38:02.831172",
     "exception": false,
     "start_time": "2022-07-14T17:38:02.828697",
     "status": "completed"
    },
    "tags": []
   },
   "source": [
    "### Notebook code"
   ]
  },
  {
   "cell_type": "code",
   "execution_count": 5,
   "id": "360dfd99",
   "metadata": {
    "execution": {
     "iopub.execute_input": "2022-07-14T17:38:02.838112Z",
     "iopub.status.busy": "2022-07-14T17:38:02.836898Z",
     "iopub.status.idle": "2022-07-14T17:38:03.868299Z",
     "shell.execute_reply": "2022-07-14T17:38:03.867643Z"
    },
    "papermill": {
     "duration": 1.036404,
     "end_time": "2022-07-14T17:38:03.869953",
     "exception": false,
     "start_time": "2022-07-14T17:38:02.833549",
     "status": "completed"
    },
    "tags": []
   },
   "outputs": [],
   "source": [
    "#\n",
    "import pandas as pd\n",
    "import matplotlib.pyplot as plt\n",
    "\n",
    "#\n",
    "from pynb_dag_runner.tasks.task_opentelemetry_logging import PydarLogger"
   ]
  },
  {
   "cell_type": "code",
   "execution_count": 6,
   "id": "47259e57",
   "metadata": {
    "execution": {
     "iopub.execute_input": "2022-07-14T17:38:03.877008Z",
     "iopub.status.busy": "2022-07-14T17:38:03.876497Z",
     "iopub.status.idle": "2022-07-14T17:38:04.029612Z",
     "shell.execute_reply": "2022-07-14T17:38:04.028895Z"
    },
    "papermill": {
     "duration": 0.158394,
     "end_time": "2022-07-14T17:38:04.031434",
     "exception": false,
     "start_time": "2022-07-14T17:38:03.873040",
     "status": "completed"
    },
    "tags": []
   },
   "outputs": [
    {
     "name": "stderr",
     "output_type": "stream",
     "text": [
      "2022-07-14 17:38:03,880\tINFO worker.py:842 -- Connecting to existing Ray cluster at address: 172.17.0.2:6379\n"
     ]
    }
   ],
   "source": [
    "logger = PydarLogger(P=P)"
   ]
  },
  {
   "cell_type": "code",
   "execution_count": 7,
   "id": "8415c8d3",
   "metadata": {
    "execution": {
     "iopub.execute_input": "2022-07-14T17:38:04.038347Z",
     "iopub.status.busy": "2022-07-14T17:38:04.037935Z",
     "iopub.status.idle": "2022-07-14T17:38:04.041536Z",
     "shell.execute_reply": "2022-07-14T17:38:04.040856Z"
    },
    "papermill": {
     "duration": 0.008655,
     "end_time": "2022-07-14T17:38:04.042941",
     "exception": false,
     "start_time": "2022-07-14T17:38:04.034286",
     "status": "completed"
    },
    "tags": []
   },
   "outputs": [],
   "source": [
    "from pynb_dag_runner.tasks.task_opentelemetry_logging import (\n",
    "    PydarLogger,\n",
    "    get_logged_values,\n",
    ")\n",
    "from pynb_dag_runner.opentelemetry_helpers import _get_all_spans, Spans"
   ]
  },
  {
   "cell_type": "code",
   "execution_count": 8,
   "id": "c467f6d3",
   "metadata": {
    "execution": {
     "iopub.execute_input": "2022-07-14T17:38:04.050798Z",
     "iopub.status.busy": "2022-07-14T17:38:04.050593Z",
     "iopub.status.idle": "2022-07-14T17:38:04.056895Z",
     "shell.execute_reply": "2022-07-14T17:38:04.056230Z"
    },
    "papermill": {
     "duration": 0.011349,
     "end_time": "2022-07-14T17:38:04.058345",
     "exception": false,
     "start_time": "2022-07-14T17:38:04.046996",
     "status": "completed"
    },
    "tags": []
   },
   "outputs": [],
   "source": [
    "def get_model_benchmarks():\n",
    "    \"\"\"\n",
    "    Query the OpenTelemetry logs for *this pipeline run* and return\n",
    "    all key-values logged from all runs of the benchmark-model.py task\n",
    "\n",
    "    For testing a json file with OpenTelemetry spans (as an array)\n",
    "    can be used as follows:\n",
    "\n",
    "    - Create output directory `mkdir /tmp/spans`\n",
    "    - Run unit tests. This will create pipeline-outputs/opentelemetry-spans.json\n",
    "    - Convert this json-array into jsonl format as follows\n",
    "\n",
    "    jq -c '.[]' /pipeline-outputs/opentelemetry-spans.json > /tmp/spans/data.txt\n",
    "\n",
    "    \"\"\"\n",
    "    spans: Spans = Spans(_get_all_spans())\n",
    "    print(f\"Found {len(spans)} spans\")\n",
    "\n",
    "    benchmark_spans = (\n",
    "        spans\n",
    "        # -\n",
    "        .filter([\"name\"], \"execute-task\")\n",
    "        # -\n",
    "        .filter([\"attributes\", \"task.notebook\"], \"notebooks/benchmark-model.py\")\n",
    "    )\n",
    "\n",
    "    result = []\n",
    "    for s in benchmark_spans:\n",
    "        result.append(\n",
    "            {\n",
    "                \"span_id\": s[\"context\"][\"span_id\"],\n",
    "                \"nr_train_images\": s[\"attributes\"][\"task.nr_train_images\"],\n",
    "                \"data\": get_logged_values(spans.bound_under(s)),\n",
    "            }\n",
    "        )\n",
    "\n",
    "    return result\n",
    "\n",
    "\n",
    "def adjust_pandas(df):\n",
    "    def column_renamer(col_name: str) -> str:\n",
    "        return (\n",
    "            col_name\n",
    "            # -- 'data.roc_auc_per_digit.4' -> 'roc_auc.4'\n",
    "            .replace(\"data.roc_auc_per_digit\", \"roc_auc\")\n",
    "            # -- 'data.roc_auc_class_mean' -> 'roc_auc_mean'\n",
    "            .replace(\"data.roc_auc_class_mean\", \"roc_auc_mean\")\n",
    "        )\n",
    "\n",
    "    return df.rename(column_renamer, axis=\"columns\").sort_values(by=\"nr_train_images\")"
   ]
  },
  {
   "cell_type": "code",
   "execution_count": 9,
   "id": "f1087256",
   "metadata": {
    "execution": {
     "iopub.execute_input": "2022-07-14T17:38:04.064835Z",
     "iopub.status.busy": "2022-07-14T17:38:04.064575Z",
     "iopub.status.idle": "2022-07-14T17:38:24.112326Z",
     "shell.execute_reply": "2022-07-14T17:38:24.111584Z"
    },
    "papermill": {
     "duration": 20.053334,
     "end_time": "2022-07-14T17:38:24.114378",
     "exception": false,
     "start_time": "2022-07-14T17:38:04.061044",
     "status": "completed"
    },
    "tags": []
   },
   "outputs": [
    {
     "name": "stdout",
     "output_type": "stream",
     "text": [
      "Found 420 spans\n"
     ]
    }
   ],
   "source": [
    "df_data = adjust_pandas(pd.json_normalize(get_model_benchmarks()))"
   ]
  },
  {
   "cell_type": "code",
   "execution_count": 10,
   "id": "e9ca88d6",
   "metadata": {
    "execution": {
     "iopub.execute_input": "2022-07-14T17:38:24.122387Z",
     "iopub.status.busy": "2022-07-14T17:38:24.121744Z",
     "iopub.status.idle": "2022-07-14T17:38:24.144807Z",
     "shell.execute_reply": "2022-07-14T17:38:24.144118Z"
    },
    "papermill": {
     "duration": 0.028821,
     "end_time": "2022-07-14T17:38:24.146433",
     "exception": false,
     "start_time": "2022-07-14T17:38:24.117612",
     "status": "completed"
    },
    "tags": []
   },
   "outputs": [
    {
     "data": {
      "text/html": [
       "<div>\n",
       "<style scoped>\n",
       "    .dataframe tbody tr th:only-of-type {\n",
       "        vertical-align: middle;\n",
       "    }\n",
       "\n",
       "    .dataframe tbody tr th {\n",
       "        vertical-align: top;\n",
       "    }\n",
       "\n",
       "    .dataframe thead th {\n",
       "        text-align: right;\n",
       "    }\n",
       "</style>\n",
       "<table border=\"1\" class=\"dataframe\">\n",
       "  <thead>\n",
       "    <tr style=\"text-align: right;\">\n",
       "      <th></th>\n",
       "      <th>span_id</th>\n",
       "      <th>nr_train_images</th>\n",
       "      <th>roc_auc_mean</th>\n",
       "      <th>roc_auc.0</th>\n",
       "      <th>roc_auc.1</th>\n",
       "      <th>roc_auc.2</th>\n",
       "      <th>roc_auc.3</th>\n",
       "      <th>roc_auc.4</th>\n",
       "      <th>roc_auc.5</th>\n",
       "      <th>roc_auc.6</th>\n",
       "      <th>roc_auc.7</th>\n",
       "      <th>roc_auc.8</th>\n",
       "      <th>roc_auc.9</th>\n",
       "    </tr>\n",
       "  </thead>\n",
       "  <tbody>\n",
       "    <tr>\n",
       "      <th>1</th>\n",
       "      <td>0x81d73d87ee1a0acc</td>\n",
       "      <td>600</td>\n",
       "      <td>0.9990</td>\n",
       "      <td>1.0</td>\n",
       "      <td>0.9991</td>\n",
       "      <td>1.0</td>\n",
       "      <td>0.9998</td>\n",
       "      <td>0.9992</td>\n",
       "      <td>0.9988</td>\n",
       "      <td>0.9999</td>\n",
       "      <td>0.9998</td>\n",
       "      <td>0.9944</td>\n",
       "      <td>0.9987</td>\n",
       "    </tr>\n",
       "    <tr>\n",
       "      <th>2</th>\n",
       "      <td>0xabd1eb01c58cb180</td>\n",
       "      <td>800</td>\n",
       "      <td>0.9989</td>\n",
       "      <td>1.0</td>\n",
       "      <td>0.9988</td>\n",
       "      <td>1.0</td>\n",
       "      <td>0.9998</td>\n",
       "      <td>0.9995</td>\n",
       "      <td>0.9993</td>\n",
       "      <td>1.0000</td>\n",
       "      <td>0.9999</td>\n",
       "      <td>0.9929</td>\n",
       "      <td>0.9994</td>\n",
       "    </tr>\n",
       "    <tr>\n",
       "      <th>0</th>\n",
       "      <td>0xb20c71390f6f318e</td>\n",
       "      <td>1000</td>\n",
       "      <td>0.9992</td>\n",
       "      <td>1.0</td>\n",
       "      <td>0.9990</td>\n",
       "      <td>1.0</td>\n",
       "      <td>0.9999</td>\n",
       "      <td>0.9997</td>\n",
       "      <td>0.9994</td>\n",
       "      <td>0.9999</td>\n",
       "      <td>0.9998</td>\n",
       "      <td>0.9948</td>\n",
       "      <td>0.9996</td>\n",
       "    </tr>\n",
       "    <tr>\n",
       "      <th>3</th>\n",
       "      <td>0x2c49031a93d3e174</td>\n",
       "      <td>1200</td>\n",
       "      <td>0.9994</td>\n",
       "      <td>1.0</td>\n",
       "      <td>0.9991</td>\n",
       "      <td>1.0</td>\n",
       "      <td>0.9999</td>\n",
       "      <td>0.9997</td>\n",
       "      <td>0.9997</td>\n",
       "      <td>0.9999</td>\n",
       "      <td>0.9998</td>\n",
       "      <td>0.9958</td>\n",
       "      <td>0.9998</td>\n",
       "    </tr>\n",
       "  </tbody>\n",
       "</table>\n",
       "</div>"
      ],
      "text/plain": [
       "              span_id  nr_train_images  roc_auc_mean  roc_auc.0  roc_auc.1  \\\n",
       "1  0x81d73d87ee1a0acc              600        0.9990        1.0     0.9991   \n",
       "2  0xabd1eb01c58cb180              800        0.9989        1.0     0.9988   \n",
       "0  0xb20c71390f6f318e             1000        0.9992        1.0     0.9990   \n",
       "3  0x2c49031a93d3e174             1200        0.9994        1.0     0.9991   \n",
       "\n",
       "   roc_auc.2  roc_auc.3  roc_auc.4  roc_auc.5  roc_auc.6  roc_auc.7  \\\n",
       "1        1.0     0.9998     0.9992     0.9988     0.9999     0.9998   \n",
       "2        1.0     0.9998     0.9995     0.9993     1.0000     0.9999   \n",
       "0        1.0     0.9999     0.9997     0.9994     0.9999     0.9998   \n",
       "3        1.0     0.9999     0.9997     0.9997     0.9999     0.9998   \n",
       "\n",
       "   roc_auc.8  roc_auc.9  \n",
       "1     0.9944     0.9987  \n",
       "2     0.9929     0.9994  \n",
       "0     0.9948     0.9996  \n",
       "3     0.9958     0.9998  "
      ]
     },
     "execution_count": 10,
     "metadata": {},
     "output_type": "execute_result"
    }
   ],
   "source": [
    "df_data.round(4)"
   ]
  },
  {
   "cell_type": "code",
   "execution_count": 11,
   "id": "39fca0c9",
   "metadata": {
    "execution": {
     "iopub.execute_input": "2022-07-14T17:38:24.153868Z",
     "iopub.status.busy": "2022-07-14T17:38:24.153652Z",
     "iopub.status.idle": "2022-07-14T17:38:24.279011Z",
     "shell.execute_reply": "2022-07-14T17:38:24.278528Z"
    },
    "papermill": {
     "duration": 0.130895,
     "end_time": "2022-07-14T17:38:24.280282",
     "exception": false,
     "start_time": "2022-07-14T17:38:24.149387",
     "status": "completed"
    },
    "tags": []
   },
   "outputs": [
    {
     "data": {
      "image/png": "[encoded data removed]",
      "text/plain": [
       "<Figure size 1152x288 with 1 Axes>"
      ]
     },
     "metadata": {
      "needs_background": "light"
     },
     "output_type": "display_data"
    }
   ],
   "source": [
    "def plot_classifier_performance_summary(df_data):\n",
    "    fig, ax = plt.subplots(nrows=1, ncols=1, figsize=(16, 4), sharex=True)\n",
    "\n",
    "    #\n",
    "    ax.plot(\n",
    "        df_data[\"nr_train_images\"], df_data[\"roc_auc_mean\"], marker=\"o\", linestyle=\"--\"\n",
    "    )\n",
    "    ax.set_title(\n",
    "        f\"ROC AUC digit classifier performance on evaluation digits\", fontsize=17\n",
    "    )\n",
    "    ax.set_xlabel(\"Total number of digits in training set\", fontsize=14)\n",
    "    ax.set_ylabel(\"Mean ROC AUC\", fontsize=14)\n",
    "\n",
    "    fig.tight_layout()\n",
    "    fig.show()\n",
    "\n",
    "    return fig\n",
    "\n",
    "\n",
    "fig = plot_classifier_performance_summary(df_data)"
   ]
  },
  {
   "cell_type": "code",
   "execution_count": 12,
   "id": "f480069a",
   "metadata": {
    "execution": {
     "iopub.execute_input": "2022-07-14T17:38:24.289123Z",
     "iopub.status.busy": "2022-07-14T17:38:24.288890Z",
     "iopub.status.idle": "2022-07-14T17:38:24.337623Z",
     "shell.execute_reply": "2022-07-14T17:38:24.336955Z"
    },
    "papermill": {
     "duration": 0.054753,
     "end_time": "2022-07-14T17:38:24.339153",
     "exception": false,
     "start_time": "2022-07-14T17:38:24.284400",
     "status": "completed"
    },
    "tags": []
   },
   "outputs": [],
   "source": [
    "logger.log_figure(\"auc-roc-model-performances.png\", fig)"
   ]
  },
  {
   "cell_type": "code",
   "execution_count": 13,
   "id": "57de036a",
   "metadata": {
    "execution": {
     "iopub.execute_input": "2022-07-14T17:38:24.347617Z",
     "iopub.status.busy": "2022-07-14T17:38:24.347386Z",
     "iopub.status.idle": "2022-07-14T17:38:24.349985Z",
     "shell.execute_reply": "2022-07-14T17:38:24.349412Z"
    },
    "papermill": {
     "duration": 0.008857,
     "end_time": "2022-07-14T17:38:24.351513",
     "exception": false,
     "start_time": "2022-07-14T17:38:24.342656",
     "status": "completed"
    },
    "tags": []
   },
   "outputs": [],
   "source": [
    "###"
   ]
  },
  {
   "cell_type": "code",
   "execution_count": null,
   "id": "8c88c388",
   "metadata": {
    "papermill": {
     "duration": 0.003586,
     "end_time": "2022-07-14T17:38:24.358833",
     "exception": false,
     "start_time": "2022-07-14T17:38:24.355247",
     "status": "completed"
    },
    "tags": []
   },
   "outputs": [],
   "source": []
  }
 ],
 "metadata": {
  "jupytext": {
   "cell_metadata_filter": "tags,-all",
   "main_language": "python",
   "notebook_metadata_filter": "-all"
  },
  "language_info": {
   "codemirror_mode": {
    "name": "ipython",
    "version": 3
   },
   "file_extension": ".py",
   "mimetype": "text/x-python",
   "name": "python",
   "nbconvert_exporter": "python",
   "pygments_lexer": "ipython3",
   "version": "3.8.10"
  },
  "papermill": {
   "default_parameters": {},
   "duration": 23.639244,
   "end_time": "2022-07-14T17:38:25.182490",
   "environment_variables": {},
   "exception": null,
   "input_path": "/home/host_user/workspace/mnist-demo-pipeline/mnist-demo-pipeline/notebooks/temp-notebook-axid3rt2.ipynb",
   "output_path": "notebooks/summary.ipynb",
   "parameters": {
    "P": {
     "_opentelemetry_traceparent": "00-8ed032a1273b4d8d9ed85f02e5fe0471-9e60dd331f307453-01",
     "pipeline.data_lake_root": "/pipeline-outputs/data-lake",
     "pipeline.github.actor": "matiasdahl",
     "pipeline.github.base_ref": "",
     "pipeline.github.event_name": "schedule",
     "pipeline.github.head_ref": "",
     "pipeline.github.job": "run-tests-pipeline-and-persist-pipeline-outputs",
     "pipeline.github.ref": "refs/heads/development",
     "pipeline.github.ref_name": "development",
     "pipeline.github.ref_type": "branch",
     "pipeline.github.repository": "pynb-dag-runner/mnist-digits-demo-pipeline",
     "pipeline.github.run_id": "2668450777",
     "pipeline.github.runner_name": "GitHub Actions 2",
     "pipeline.github.sha": "147a1be9916173fd4d2cd011d8d51e3411215850",
     "pipeline.github.workflow": "Run automated tests, pipeline and deploy results to static reporting site",
     "pipeline.pipeline_run_id": "a6c4c4ae-4fdd-40fb-8a52-6e3e3984e925",
     "pipeline.run_environment": "ci",
     "run.retry_nr": "0",
     "task.max_nr_retries": "1",
     "task.notebook": "notebooks/summary.py",
     "task.num_cpus": 1,
     "task.timeout_s": "None"
    }
   },
   "start_time": "2022-07-14T17:38:01.543246",
   "version": "2.3.3"
  }
 },
 "nbformat": 4,
 "nbformat_minor": 5
}