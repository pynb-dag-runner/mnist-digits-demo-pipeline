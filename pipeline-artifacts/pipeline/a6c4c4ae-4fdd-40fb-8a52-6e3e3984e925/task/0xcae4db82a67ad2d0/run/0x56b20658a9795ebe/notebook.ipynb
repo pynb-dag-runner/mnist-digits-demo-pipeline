{
 "cells": [
  {
   "cell_type": "markdown",
   "id": "ff3716ff",
   "metadata": {
    "tags": [
     "papermill-error-cell-tag"
    ]
   },
   "source": [
    "<span style=\"color:red; font-family:Helvetica Neue, Helvetica, Arial, sans-serif; font-size:2em;\">An Exception was encountered at '<a href=\"#papermill-error-cell\">In [6]</a>'.</span>"
   ]
  },
  {
   "cell_type": "markdown",
   "id": "f63f6a8e",
   "metadata": {
    "papermill": {
     "duration": 0.003282,
     "end_time": "2022-07-14T17:36:26.847709",
     "exception": false,
     "start_time": "2022-07-14T17:36:26.844427",
     "status": "completed"
    },
    "tags": []
   },
   "source": [
    "# Ingest toy version of MNIST digit data from sklearn"
   ]
  },
  {
   "cell_type": "markdown",
   "id": "cb92d1cb",
   "metadata": {
    "papermill": {
     "duration": 0.002556,
     "end_time": "2022-07-14T17:36:26.853890",
     "exception": false,
     "start_time": "2022-07-14T17:36:26.851334",
     "status": "completed"
    },
    "tags": []
   },
   "source": [
    "### Determine run parameters"
   ]
  },
  {
   "cell_type": "code",
   "execution_count": 1,
   "id": "08b7ac30",
   "metadata": {
    "execution": {
     "iopub.execute_input": "2022-07-14T17:36:26.859515Z",
     "iopub.status.busy": "2022-07-14T17:36:26.859221Z",
     "iopub.status.idle": "2022-07-14T17:36:26.867959Z",
     "shell.execute_reply": "2022-07-14T17:36:26.867424Z"
    },
    "lines_to_next_cell": 0,
    "papermill": {
     "duration": 0.01347,
     "end_time": "2022-07-14T17:36:26.869532",
     "exception": false,
     "start_time": "2022-07-14T17:36:26.856062",
     "status": "completed"
    },
    "tags": []
   },
   "outputs": [],
   "source": [
    "# ----------------- Parameters for interactive development --------------\n",
    "P = {\n",
    "    \"pipeline.run_environment\": \"dev\",\n",
    "    \"pipeline.data_lake_root\": \"/pipeline-outputs/data-lake\",\n",
    "    \"run.retry_nr\": \"1\",\n",
    "}"
   ]
  },
  {
   "cell_type": "code",
   "execution_count": 2,
   "id": "f3fe2884",
   "metadata": {
    "execution": {
     "iopub.execute_input": "2022-07-14T17:36:26.875705Z",
     "iopub.status.busy": "2022-07-14T17:36:26.875495Z",
     "iopub.status.idle": "2022-07-14T17:36:26.878492Z",
     "shell.execute_reply": "2022-07-14T17:36:26.877970Z"
    },
    "lines_to_next_cell": 0,
    "papermill": {
     "duration": 0.008855,
     "end_time": "2022-07-14T17:36:26.881351",
     "exception": false,
     "start_time": "2022-07-14T17:36:26.872496",
     "status": "completed"
    },
    "tags": [
     "parameters"
    ]
   },
   "outputs": [],
   "source": [
    "# - During automated runs parameters will be injected in the below cell -"
   ]
  },
  {
   "cell_type": "code",
   "execution_count": 3,
   "id": "8cb6a55b",
   "metadata": {
    "execution": {
     "iopub.execute_input": "2022-07-14T17:36:26.887501Z",
     "iopub.status.busy": "2022-07-14T17:36:26.887297Z",
     "iopub.status.idle": "2022-07-14T17:36:26.891879Z",
     "shell.execute_reply": "2022-07-14T17:36:26.890818Z"
    },
    "papermill": {
     "duration": 0.009946,
     "end_time": "2022-07-14T17:36:26.894118",
     "exception": false,
     "start_time": "2022-07-14T17:36:26.884172",
     "status": "completed"
    },
    "tags": [
     "injected-parameters"
    ]
   },
   "outputs": [],
   "source": [
    "# Parameters\n",
    "P = {\n",
    "    \"pipeline.data_lake_root\": \"/pipeline-outputs/data-lake\",\n",
    "    \"pipeline.run_environment\": \"ci\",\n",
    "    \"pipeline.pipeline_run_id\": \"a6c4c4ae-4fdd-40fb-8a52-6e3e3984e925\",\n",
    "    \"pipeline.github.repository\": \"pynb-dag-runner/mnist-digits-demo-pipeline\",\n",
    "    \"pipeline.github.workflow\": \"Run automated tests, pipeline and deploy results to static reporting site\",\n",
    "    \"pipeline.github.runner_name\": \"GitHub Actions 2\",\n",
    "    \"pipeline.github.run_id\": \"2668450777\",\n",
    "    \"pipeline.github.actor\": \"matiasdahl\",\n",
    "    \"pipeline.github.job\": \"run-tests-pipeline-and-persist-pipeline-outputs\",\n",
    "    \"pipeline.github.base_ref\": \"\",\n",
    "    \"pipeline.github.head_ref\": \"\",\n",
    "    \"pipeline.github.sha\": \"147a1be9916173fd4d2cd011d8d51e3411215850\",\n",
    "    \"pipeline.github.ref\": \"refs/heads/development\",\n",
    "    \"pipeline.github.ref_type\": \"branch\",\n",
    "    \"pipeline.github.ref_name\": \"development\",\n",
    "    \"pipeline.github.event_name\": \"schedule\",\n",
    "    \"task.notebook\": \"notebooks/ingest.py\",\n",
    "    \"task.max_nr_retries\": \"15\",\n",
    "    \"run.retry_nr\": \"0\",\n",
    "    \"task.timeout_s\": \"10\",\n",
    "    \"task.num_cpus\": 1,\n",
    "    \"_opentelemetry_traceparent\": \"00-8ed032a1273b4d8d9ed85f02e5fe0471-dcc9f5a7936b222b-01\",\n",
    "}\n"
   ]
  },
  {
   "cell_type": "code",
   "execution_count": 4,
   "id": "9215bffa",
   "metadata": {
    "execution": {
     "iopub.execute_input": "2022-07-14T17:36:26.899863Z",
     "iopub.status.busy": "2022-07-14T17:36:26.899667Z",
     "iopub.status.idle": "2022-07-14T17:36:26.903179Z",
     "shell.execute_reply": "2022-07-14T17:36:26.902685Z"
    },
    "lines_to_next_cell": 0,
    "papermill": {
     "duration": 0.008914,
     "end_time": "2022-07-14T17:36:26.905540",
     "exception": false,
     "start_time": "2022-07-14T17:36:26.896626",
     "status": "completed"
    },
    "tags": []
   },
   "outputs": [],
   "source": [
    "# -----------------------------------------------------------------------"
   ]
  },
  {
   "cell_type": "markdown",
   "id": "fc30e62a",
   "metadata": {
    "lines_to_next_cell": 2,
    "papermill": {
     "duration": 0.002343,
     "end_time": "2022-07-14T17:36:26.910306",
     "exception": false,
     "start_time": "2022-07-14T17:36:26.907963",
     "status": "completed"
    },
    "tags": []
   },
   "source": [
    "---"
   ]
  },
  {
   "cell_type": "markdown",
   "id": "432aba61",
   "metadata": {
    "papermill": {
     "duration": 0.00259,
     "end_time": "2022-07-14T17:36:26.915770",
     "exception": false,
     "start_time": "2022-07-14T17:36:26.913180",
     "status": "completed"
    },
    "tags": []
   },
   "source": [
    "### Simulate different types of failures (for testing timeout and retry logic)"
   ]
  },
  {
   "cell_type": "code",
   "execution_count": 5,
   "id": "8a2354e0",
   "metadata": {
    "execution": {
     "iopub.execute_input": "2022-07-14T17:36:26.921649Z",
     "iopub.status.busy": "2022-07-14T17:36:26.921407Z",
     "iopub.status.idle": "2022-07-14T17:36:27.380611Z",
     "shell.execute_reply": "2022-07-14T17:36:27.379799Z"
    },
    "papermill": {
     "duration": 0.463941,
     "end_time": "2022-07-14T17:36:27.382284",
     "exception": false,
     "start_time": "2022-07-14T17:36:26.918343",
     "status": "completed"
    },
    "tags": []
   },
   "outputs": [
    {
     "name": "stderr",
     "output_type": "stream",
     "text": [
      "2022-07-14 17:36:27,233\tINFO worker.py:842 -- Connecting to existing Ray cluster at address: 172.17.0.2:6379\n"
     ]
    }
   ],
   "source": [
    "from pynb_dag_runner.tasks.task_opentelemetry_logging import PydarLogger\n",
    "\n",
    "logger = PydarLogger(P)"
   ]
  },
  {
   "cell_type": "markdown",
   "id": "e6740c50",
   "metadata": {
    "tags": [
     "papermill-error-cell-tag"
    ]
   },
   "source": [
    "<span id=\"papermill-error-cell\" style=\"color:red; font-family:Helvetica Neue, Helvetica, Arial, sans-serif; font-size:2em;\">Execution using papermill encountered an exception here and stopped:</span>"
   ]
  },
  {
   "cell_type": "code",
   "execution_count": 6,
   "id": "d8dbc878",
   "metadata": {
    "execution": {
     "iopub.execute_input": "2022-07-14T17:36:27.389165Z",
     "iopub.status.busy": "2022-07-14T17:36:27.388888Z",
     "iopub.status.idle": "2022-07-14T17:36:27.834112Z",
     "shell.execute_reply": "2022-07-14T17:36:27.832437Z"
    },
    "papermill": {
     "duration": 0.450167,
     "end_time": "2022-07-14T17:36:27.835358",
     "exception": true,
     "start_time": "2022-07-14T17:36:27.385191",
     "status": "failed"
    },
    "tags": []
   },
   "outputs": [
    {
     "ename": "Exception",
     "evalue": "Simulated exception failure from ingestion step notebook!",
     "output_type": "error",
     "traceback": [
      "\u001b[0;31m---------------------------------------------------------------------------\u001b[0m",
      "\u001b[0;31mException\u001b[0m                                 Traceback (most recent call last)",
      "Input \u001b[0;32mIn [6]\u001b[0m, in \u001b[0;36m<cell line: 17>\u001b[0;34m()\u001b[0m\n\u001b[1;32m     13\u001b[0m         \u001b[38;5;28;01melse\u001b[39;00m:\n\u001b[1;32m     14\u001b[0m             \u001b[38;5;28;01mraise\u001b[39;00m \u001b[38;5;167;01mException\u001b[39;00m(\u001b[38;5;124m\"\u001b[39m\u001b[38;5;124mSimulated exception failure from ingestion step notebook!\u001b[39m\u001b[38;5;124m\"\u001b[39m)\n\u001b[0;32m---> 17\u001b[0m \u001b[43mmaybe_crash\u001b[49m\u001b[43m(\u001b[49m\n\u001b[1;32m     18\u001b[0m \u001b[43m    \u001b[49m\u001b[43mretry_nr\u001b[49m\u001b[38;5;241;43m=\u001b[39;49m\u001b[38;5;28;43mint\u001b[39;49m\u001b[43m(\u001b[49m\u001b[43mP\u001b[49m\u001b[43m[\u001b[49m\u001b[38;5;124;43m\"\u001b[39;49m\u001b[38;5;124;43mrun.retry_nr\u001b[39;49m\u001b[38;5;124;43m\"\u001b[39;49m\u001b[43m]\u001b[49m\u001b[43m)\u001b[49m\u001b[43m,\u001b[49m\u001b[43m \u001b[49m\u001b[43mrun_environment\u001b[49m\u001b[38;5;241;43m=\u001b[39;49m\u001b[43mP\u001b[49m\u001b[43m[\u001b[49m\u001b[38;5;124;43m\"\u001b[39;49m\u001b[38;5;124;43mpipeline.run_environment\u001b[39;49m\u001b[38;5;124;43m\"\u001b[39;49m\u001b[43m]\u001b[49m\n\u001b[1;32m     19\u001b[0m \u001b[43m)\u001b[49m\n",
      "Input \u001b[0;32mIn [6]\u001b[0m, in \u001b[0;36mmaybe_crash\u001b[0;34m(retry_nr, run_environment)\u001b[0m\n\u001b[1;32m     12\u001b[0m     time\u001b[38;5;241m.\u001b[39msleep(\u001b[38;5;241m1e6\u001b[39m)\n\u001b[1;32m     13\u001b[0m \u001b[38;5;28;01melse\u001b[39;00m:\n\u001b[0;32m---> 14\u001b[0m     \u001b[38;5;28;01mraise\u001b[39;00m \u001b[38;5;167;01mException\u001b[39;00m(\u001b[38;5;124m\"\u001b[39m\u001b[38;5;124mSimulated exception failure from ingestion step notebook!\u001b[39m\u001b[38;5;124m\"\u001b[39m)\n",
      "\u001b[0;31mException\u001b[0m: Simulated exception failure from ingestion step notebook!"
     ]
    }
   ],
   "source": [
    "import time, random\n",
    "\n",
    "\n",
    "def maybe_crash(retry_nr: int, run_environment: str):\n",
    "    if retry_nr == 2 and run_environment == \"ci\":\n",
    "        time.sleep(1e6)\n",
    "\n",
    "    max_retry_nr: int = 3 if run_environment == \"dev\" else 10\n",
    "\n",
    "    if retry_nr < max_retry_nr:\n",
    "        if random.random() < 0.1:\n",
    "            time.sleep(1e6)\n",
    "        else:\n",
    "            raise Exception(\"Simulated exception failure from ingestion step notebook!\")\n",
    "\n",
    "\n",
    "maybe_crash(\n",
    "    retry_nr=int(P[\"run.retry_nr\"]), run_environment=P[\"pipeline.run_environment\"]\n",
    ")"
   ]
  },
  {
   "cell_type": "markdown",
   "id": "c29850c6",
   "metadata": {
    "lines_to_next_cell": 2,
    "papermill": {
     "duration": null,
     "end_time": null,
     "exception": null,
     "start_time": null,
     "status": "pending"
    },
    "tags": []
   },
   "source": [
    "### Notebook code"
   ]
  },
  {
   "cell_type": "code",
   "execution_count": null,
   "id": "12d7a4e9",
   "metadata": {
    "papermill": {
     "duration": null,
     "end_time": null,
     "exception": null,
     "start_time": null,
     "status": "pending"
    },
    "tags": []
   },
   "outputs": [],
   "source": [
    "from sklearn import datasets\n",
    "\n",
    "#\n",
    "from common.io import datalake_root, write_numpy"
   ]
  },
  {
   "cell_type": "code",
   "execution_count": null,
   "id": "8d3a4e27",
   "metadata": {
    "lines_to_next_cell": 2,
    "papermill": {
     "duration": null,
     "end_time": null,
     "exception": null,
     "start_time": null,
     "status": "pending"
    },
    "tags": []
   },
   "outputs": [],
   "source": [
    "digits = datasets.load_digits()\n",
    "\n",
    "X = digits[\"data\"]\n",
    "y = digits[\"target\"]"
   ]
  },
  {
   "cell_type": "code",
   "execution_count": null,
   "id": "7e3f5f51",
   "metadata": {
    "papermill": {
     "duration": null,
     "end_time": null,
     "exception": null,
     "start_time": null,
     "status": "pending"
    },
    "tags": []
   },
   "outputs": [],
   "source": [
    "logger.log_value(\"data_shape\", list(X.shape))\n",
    "logger.log_value(\"target_shape\", list(y.shape))\n",
    "\n",
    "X.shape, y.shape"
   ]
  },
  {
   "cell_type": "code",
   "execution_count": null,
   "id": "9f2104f3",
   "metadata": {
    "papermill": {
     "duration": null,
     "end_time": null,
     "exception": null,
     "start_time": null,
     "status": "pending"
    },
    "tags": []
   },
   "outputs": [],
   "source": [
    "write_numpy(datalake_root(P) / \"raw\" / \"digits.numpy\", X)\n",
    "write_numpy(datalake_root(P) / \"raw\" / \"labels.numpy\", y)"
   ]
  },
  {
   "cell_type": "code",
   "execution_count": null,
   "id": "13dbca97",
   "metadata": {
    "papermill": {
     "duration": null,
     "end_time": null,
     "exception": null,
     "start_time": null,
     "status": "pending"
    },
    "tags": []
   },
   "outputs": [],
   "source": []
  }
 ],
 "metadata": {
  "jupytext": {
   "cell_metadata_filter": "tags,-all",
   "main_language": "python",
   "notebook_metadata_filter": "-all"
  },
  "language_info": {
   "codemirror_mode": {
    "name": "ipython",
    "version": 3
   },
   "file_extension": ".py",
   "mimetype": "text/x-python",
   "name": "python",
   "nbconvert_exporter": "python",
   "pygments_lexer": "ipython3",
   "version": "3.8.10"
  },
  "papermill": {
   "default_parameters": {},
   "duration": 3.798795,
   "end_time": "2022-07-14T17:36:28.558910",
   "environment_variables": {},
   "exception": true,
   "input_path": "/home/host_user/workspace/mnist-demo-pipeline/mnist-demo-pipeline/notebooks/temp-notebook-561u9kqa.ipynb",
   "output_path": "notebooks/ingest.ipynb",
   "parameters": {
    "P": {
     "_opentelemetry_traceparent": "00-8ed032a1273b4d8d9ed85f02e5fe0471-dcc9f5a7936b222b-01",
     "pipeline.data_lake_root": "/pipeline-outputs/data-lake",
     "pipeline.github.actor": "matiasdahl",
     "pipeline.github.base_ref": "",
     "pipeline.github.event_name": "schedule",
     "pipeline.github.head_ref": "",
     "pipeline.github.job": "run-tests-pipeline-and-persist-pipeline-outputs",
     "pipeline.github.ref": "refs/heads/development",
     "pipeline.github.ref_name": "development",
     "pipeline.github.ref_type": "branch",
     "pipeline.github.repository": "pynb-dag-runner/mnist-digits-demo-pipeline",
     "pipeline.github.run_id": "2668450777",
     "pipeline.github.runner_name": "GitHub Actions 2",
     "pipeline.github.sha": "147a1be9916173fd4d2cd011d8d51e3411215850",
     "pipeline.github.workflow": "Run automated tests, pipeline and deploy results to static reporting site",
     "pipeline.pipeline_run_id": "a6c4c4ae-4fdd-40fb-8a52-6e3e3984e925",
     "pipeline.run_environment": "ci",
     "run.retry_nr": "0",
     "task.max_nr_retries": "15",
     "task.notebook": "notebooks/ingest.py",
     "task.num_cpus": 1,
     "task.timeout_s": "10"
    }
   },
   "start_time": "2022-07-14T17:36:24.760115",
   "version": "2.3.3"
  }
 },
 "nbformat": 4,
 "nbformat_minor": 5
}