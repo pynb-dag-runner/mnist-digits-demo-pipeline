{
 "cells": [
  {
   "cell_type": "markdown",
   "id": "44519471",
   "metadata": {
    "papermill": {
     "duration": 0.003433,
     "end_time": "2022-07-14T17:37:18.410507",
     "exception": false,
     "start_time": "2022-07-14T17:37:18.407074",
     "status": "completed"
    },
    "tags": []
   },
   "source": [
    "# Ingest toy version of MNIST digit data from sklearn"
   ]
  },
  {
   "cell_type": "markdown",
   "id": "de9ceb2d",
   "metadata": {
    "papermill": {
     "duration": 0.002275,
     "end_time": "2022-07-14T17:37:18.415725",
     "exception": false,
     "start_time": "2022-07-14T17:37:18.413450",
     "status": "completed"
    },
    "tags": []
   },
   "source": [
    "### Determine run parameters"
   ]
  },
  {
   "cell_type": "code",
   "execution_count": 1,
   "id": "2b685c82",
   "metadata": {
    "execution": {
     "iopub.execute_input": "2022-07-14T17:37:18.421801Z",
     "iopub.status.busy": "2022-07-14T17:37:18.421098Z",
     "iopub.status.idle": "2022-07-14T17:37:18.428542Z",
     "shell.execute_reply": "2022-07-14T17:37:18.427947Z"
    },
    "lines_to_next_cell": 0,
    "papermill": {
     "duration": 0.012075,
     "end_time": "2022-07-14T17:37:18.429938",
     "exception": false,
     "start_time": "2022-07-14T17:37:18.417863",
     "status": "completed"
    },
    "tags": []
   },
   "outputs": [],
   "source": [
    "# ----------------- Parameters for interactive development --------------\n",
    "P = {\n",
    "    \"pipeline.run_environment\": \"dev\",\n",
    "    \"pipeline.data_lake_root\": \"/pipeline-outputs/data-lake\",\n",
    "    \"run.retry_nr\": \"1\",\n",
    "}"
   ]
  },
  {
   "cell_type": "code",
   "execution_count": 2,
   "id": "155f1b87",
   "metadata": {
    "execution": {
     "iopub.execute_input": "2022-07-14T17:37:18.435982Z",
     "iopub.status.busy": "2022-07-14T17:37:18.435600Z",
     "iopub.status.idle": "2022-07-14T17:37:18.438606Z",
     "shell.execute_reply": "2022-07-14T17:37:18.438062Z"
    },
    "lines_to_next_cell": 0,
    "papermill": {
     "duration": 0.007792,
     "end_time": "2022-07-14T17:37:18.439876",
     "exception": false,
     "start_time": "2022-07-14T17:37:18.432084",
     "status": "completed"
    },
    "tags": [
     "parameters"
    ]
   },
   "outputs": [],
   "source": [
    "# - During automated runs parameters will be injected in the below cell -"
   ]
  },
  {
   "cell_type": "code",
   "execution_count": 3,
   "id": "2ea3f721",
   "metadata": {
    "execution": {
     "iopub.execute_input": "2022-07-14T17:37:18.445577Z",
     "iopub.status.busy": "2022-07-14T17:37:18.445205Z",
     "iopub.status.idle": "2022-07-14T17:37:18.449293Z",
     "shell.execute_reply": "2022-07-14T17:37:18.448758Z"
    },
    "papermill": {
     "duration": 0.008497,
     "end_time": "2022-07-14T17:37:18.450556",
     "exception": false,
     "start_time": "2022-07-14T17:37:18.442059",
     "status": "completed"
    },
    "tags": [
     "injected-parameters"
    ]
   },
   "outputs": [],
   "source": [
    "# Parameters\n",
    "P = {\n",
    "    \"pipeline.data_lake_root\": \"/pipeline-outputs/data-lake\",\n",
    "    \"pipeline.run_environment\": \"ci\",\n",
    "    \"pipeline.pipeline_run_id\": \"a6c4c4ae-4fdd-40fb-8a52-6e3e3984e925\",\n",
    "    \"pipeline.github.repository\": \"pynb-dag-runner/mnist-digits-demo-pipeline\",\n",
    "    \"pipeline.github.workflow\": \"Run automated tests, pipeline and deploy results to static reporting site\",\n",
    "    \"pipeline.github.runner_name\": \"GitHub Actions 2\",\n",
    "    \"pipeline.github.run_id\": \"2668450777\",\n",
    "    \"pipeline.github.actor\": \"matiasdahl\",\n",
    "    \"pipeline.github.job\": \"run-tests-pipeline-and-persist-pipeline-outputs\",\n",
    "    \"pipeline.github.base_ref\": \"\",\n",
    "    \"pipeline.github.head_ref\": \"\",\n",
    "    \"pipeline.github.sha\": \"147a1be9916173fd4d2cd011d8d51e3411215850\",\n",
    "    \"pipeline.github.ref\": \"refs/heads/development\",\n",
    "    \"pipeline.github.ref_type\": \"branch\",\n",
    "    \"pipeline.github.ref_name\": \"development\",\n",
    "    \"pipeline.github.event_name\": \"schedule\",\n",
    "    \"task.notebook\": \"notebooks/ingest.py\",\n",
    "    \"task.max_nr_retries\": \"15\",\n",
    "    \"run.retry_nr\": \"10\",\n",
    "    \"task.timeout_s\": \"10\",\n",
    "    \"task.num_cpus\": 1,\n",
    "    \"_opentelemetry_traceparent\": \"00-8ed032a1273b4d8d9ed85f02e5fe0471-48038201aab6db43-01\",\n",
    "}\n"
   ]
  },
  {
   "cell_type": "code",
   "execution_count": 4,
   "id": "dece42b0",
   "metadata": {
    "execution": {
     "iopub.execute_input": "2022-07-14T17:37:18.456207Z",
     "iopub.status.busy": "2022-07-14T17:37:18.456006Z",
     "iopub.status.idle": "2022-07-14T17:37:18.458512Z",
     "shell.execute_reply": "2022-07-14T17:37:18.458059Z"
    },
    "lines_to_next_cell": 0,
    "papermill": {
     "duration": 0.006814,
     "end_time": "2022-07-14T17:37:18.459775",
     "exception": false,
     "start_time": "2022-07-14T17:37:18.452961",
     "status": "completed"
    },
    "tags": []
   },
   "outputs": [],
   "source": [
    "# -----------------------------------------------------------------------"
   ]
  },
  {
   "cell_type": "markdown",
   "id": "f362aa13",
   "metadata": {
    "lines_to_next_cell": 2,
    "papermill": {
     "duration": 0.002401,
     "end_time": "2022-07-14T17:37:18.464608",
     "exception": false,
     "start_time": "2022-07-14T17:37:18.462207",
     "status": "completed"
    },
    "tags": []
   },
   "source": [
    "---"
   ]
  },
  {
   "cell_type": "markdown",
   "id": "d38b7e67",
   "metadata": {
    "papermill": {
     "duration": 0.00222,
     "end_time": "2022-07-14T17:37:18.469189",
     "exception": false,
     "start_time": "2022-07-14T17:37:18.466969",
     "status": "completed"
    },
    "tags": []
   },
   "source": [
    "### Simulate different types of failures (for testing timeout and retry logic)"
   ]
  },
  {
   "cell_type": "code",
   "execution_count": 5,
   "id": "59f49d0f",
   "metadata": {
    "execution": {
     "iopub.execute_input": "2022-07-14T17:37:18.476854Z",
     "iopub.status.busy": "2022-07-14T17:37:18.476412Z",
     "iopub.status.idle": "2022-07-14T17:37:18.887618Z",
     "shell.execute_reply": "2022-07-14T17:37:18.886829Z"
    },
    "papermill": {
     "duration": 0.418266,
     "end_time": "2022-07-14T17:37:18.889632",
     "exception": false,
     "start_time": "2022-07-14T17:37:18.471366",
     "status": "completed"
    },
    "tags": []
   },
   "outputs": [
    {
     "name": "stderr",
     "output_type": "stream",
     "text": [
      "2022-07-14 17:37:18,745\tINFO worker.py:842 -- Connecting to existing Ray cluster at address: 172.17.0.2:6379\n"
     ]
    }
   ],
   "source": [
    "from pynb_dag_runner.tasks.task_opentelemetry_logging import PydarLogger\n",
    "\n",
    "logger = PydarLogger(P)"
   ]
  },
  {
   "cell_type": "code",
   "execution_count": 6,
   "id": "5626d6c5",
   "metadata": {
    "execution": {
     "iopub.execute_input": "2022-07-14T17:37:18.896426Z",
     "iopub.status.busy": "2022-07-14T17:37:18.895843Z",
     "iopub.status.idle": "2022-07-14T17:37:18.901041Z",
     "shell.execute_reply": "2022-07-14T17:37:18.900394Z"
    },
    "papermill": {
     "duration": 0.010166,
     "end_time": "2022-07-14T17:37:18.902571",
     "exception": false,
     "start_time": "2022-07-14T17:37:18.892405",
     "status": "completed"
    },
    "tags": []
   },
   "outputs": [],
   "source": [
    "import time, random\n",
    "\n",
    "\n",
    "def maybe_crash(retry_nr: int, run_environment: str):\n",
    "    if retry_nr == 2 and run_environment == \"ci\":\n",
    "        time.sleep(1e6)\n",
    "\n",
    "    max_retry_nr: int = 3 if run_environment == \"dev\" else 10\n",
    "\n",
    "    if retry_nr < max_retry_nr:\n",
    "        if random.random() < 0.1:\n",
    "            time.sleep(1e6)\n",
    "        else:\n",
    "            raise Exception(\"Simulated exception failure from ingestion step notebook!\")\n",
    "\n",
    "\n",
    "maybe_crash(\n",
    "    retry_nr=int(P[\"run.retry_nr\"]), run_environment=P[\"pipeline.run_environment\"]\n",
    ")"
   ]
  },
  {
   "cell_type": "markdown",
   "id": "a44b9c23",
   "metadata": {
    "lines_to_next_cell": 2,
    "papermill": {
     "duration": 0.002816,
     "end_time": "2022-07-14T17:37:18.907852",
     "exception": false,
     "start_time": "2022-07-14T17:37:18.905036",
     "status": "completed"
    },
    "tags": []
   },
   "source": [
    "### Notebook code"
   ]
  },
  {
   "cell_type": "code",
   "execution_count": 7,
   "id": "2b3d94ff",
   "metadata": {
    "execution": {
     "iopub.execute_input": "2022-07-14T17:37:18.913794Z",
     "iopub.status.busy": "2022-07-14T17:37:18.913306Z",
     "iopub.status.idle": "2022-07-14T17:37:20.061079Z",
     "shell.execute_reply": "2022-07-14T17:37:20.060261Z"
    },
    "papermill": {
     "duration": 1.152529,
     "end_time": "2022-07-14T17:37:20.062745",
     "exception": false,
     "start_time": "2022-07-14T17:37:18.910216",
     "status": "completed"
    },
    "tags": []
   },
   "outputs": [],
   "source": [
    "from sklearn import datasets\n",
    "\n",
    "#\n",
    "from common.io import datalake_root, write_numpy"
   ]
  },
  {
   "cell_type": "code",
   "execution_count": 8,
   "id": "54baa519",
   "metadata": {
    "execution": {
     "iopub.execute_input": "2022-07-14T17:37:20.071122Z",
     "iopub.status.busy": "2022-07-14T17:37:20.070409Z",
     "iopub.status.idle": "2022-07-14T17:37:20.082516Z",
     "shell.execute_reply": "2022-07-14T17:37:20.081953Z"
    },
    "lines_to_next_cell": 2,
    "papermill": {
     "duration": 0.018445,
     "end_time": "2022-07-14T17:37:20.083919",
     "exception": false,
     "start_time": "2022-07-14T17:37:20.065474",
     "status": "completed"
    },
    "tags": []
   },
   "outputs": [],
   "source": [
    "digits = datasets.load_digits()\n",
    "\n",
    "X = digits[\"data\"]\n",
    "y = digits[\"target\"]"
   ]
  },
  {
   "cell_type": "code",
   "execution_count": 9,
   "id": "e3dbb3e8",
   "metadata": {
    "execution": {
     "iopub.execute_input": "2022-07-14T17:37:20.090233Z",
     "iopub.status.busy": "2022-07-14T17:37:20.090027Z",
     "iopub.status.idle": "2022-07-14T17:37:20.100123Z",
     "shell.execute_reply": "2022-07-14T17:37:20.099629Z"
    },
    "papermill": {
     "duration": 0.014943,
     "end_time": "2022-07-14T17:37:20.101416",
     "exception": false,
     "start_time": "2022-07-14T17:37:20.086473",
     "status": "completed"
    },
    "tags": []
   },
   "outputs": [
    {
     "name": "stdout",
     "output_type": "stream",
     "text": [
      " - Logging data_shape (json) : [1797, 64]\n",
      " - Logging target_shape (json) : [1797]\n"
     ]
    },
    {
     "data": {
      "text/plain": [
       "((1797, 64), (1797,))"
      ]
     },
     "execution_count": 9,
     "metadata": {},
     "output_type": "execute_result"
    }
   ],
   "source": [
    "logger.log_value(\"data_shape\", list(X.shape))\n",
    "logger.log_value(\"target_shape\", list(y.shape))\n",
    "\n",
    "X.shape, y.shape"
   ]
  },
  {
   "cell_type": "code",
   "execution_count": 10,
   "id": "b9808248",
   "metadata": {
    "execution": {
     "iopub.execute_input": "2022-07-14T17:37:20.108319Z",
     "iopub.status.busy": "2022-07-14T17:37:20.107545Z",
     "iopub.status.idle": "2022-07-14T17:37:20.116391Z",
     "shell.execute_reply": "2022-07-14T17:37:20.115821Z"
    },
    "papermill": {
     "duration": 0.013827,
     "end_time": "2022-07-14T17:37:20.117903",
     "exception": false,
     "start_time": "2022-07-14T17:37:20.104076",
     "status": "completed"
    },
    "tags": []
   },
   "outputs": [],
   "source": [
    "write_numpy(datalake_root(P) / \"raw\" / \"digits.numpy\", X)\n",
    "write_numpy(datalake_root(P) / \"raw\" / \"labels.numpy\", y)"
   ]
  },
  {
   "cell_type": "code",
   "execution_count": null,
   "id": "e2eced1d",
   "metadata": {
    "papermill": {
     "duration": 0.003076,
     "end_time": "2022-07-14T17:37:20.123945",
     "exception": false,
     "start_time": "2022-07-14T17:37:20.120869",
     "status": "completed"
    },
    "tags": []
   },
   "outputs": [],
   "source": []
  }
 ],
 "metadata": {
  "jupytext": {
   "cell_metadata_filter": "tags,-all",
   "main_language": "python",
   "notebook_metadata_filter": "-all"
  },
  "language_info": {
   "codemirror_mode": {
    "name": "ipython",
    "version": 3
   },
   "file_extension": ".py",
   "mimetype": "text/x-python",
   "name": "python",
   "nbconvert_exporter": "python",
   "pygments_lexer": "ipython3",
   "version": "3.8.10"
  },
  "papermill": {
   "default_parameters": {},
   "duration": 3.666252,
   "end_time": "2022-07-14T17:37:20.943427",
   "environment_variables": {},
   "exception": null,
   "input_path": "/home/host_user/workspace/mnist-demo-pipeline/mnist-demo-pipeline/notebooks/temp-notebook-utesuri6.ipynb",
   "output_path": "notebooks/ingest.ipynb",
   "parameters": {
    "P": {
     "_opentelemetry_traceparent": "00-8ed032a1273b4d8d9ed85f02e5fe0471-48038201aab6db43-01",
     "pipeline.data_lake_root": "/pipeline-outputs/data-lake",
     "pipeline.github.actor": "matiasdahl",
     "pipeline.github.base_ref": "",
     "pipeline.github.event_name": "schedule",
     "pipeline.github.head_ref": "",
     "pipeline.github.job": "run-tests-pipeline-and-persist-pipeline-outputs",
     "pipeline.github.ref": "refs/heads/development",
     "pipeline.github.ref_name": "development",
     "pipeline.github.ref_type": "branch",
     "pipeline.github.repository": "pynb-dag-runner/mnist-digits-demo-pipeline",
     "pipeline.github.run_id": "2668450777",
     "pipeline.github.runner_name": "GitHub Actions 2",
     "pipeline.github.sha": "147a1be9916173fd4d2cd011d8d51e3411215850",
     "pipeline.github.workflow": "Run automated tests, pipeline and deploy results to static reporting site",
     "pipeline.pipeline_run_id": "a6c4c4ae-4fdd-40fb-8a52-6e3e3984e925",
     "pipeline.run_environment": "ci",
     "run.retry_nr": "10",
     "task.max_nr_retries": "15",
     "task.notebook": "notebooks/ingest.py",
     "task.num_cpus": 1,
     "task.timeout_s": "10"
    }
   },
   "start_time": "2022-07-14T17:37:17.277175",
   "version": "2.3.3"
  }
 },
 "nbformat": 4,
 "nbformat_minor": 5
}