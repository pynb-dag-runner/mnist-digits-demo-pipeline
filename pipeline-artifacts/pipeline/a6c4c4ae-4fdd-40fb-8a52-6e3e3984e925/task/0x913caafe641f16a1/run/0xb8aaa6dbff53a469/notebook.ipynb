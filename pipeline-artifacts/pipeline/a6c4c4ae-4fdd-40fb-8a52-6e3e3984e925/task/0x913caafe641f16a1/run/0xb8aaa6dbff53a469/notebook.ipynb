{
 "cells": [
  {
   "cell_type": "markdown",
   "id": "3386616c",
   "metadata": {
    "papermill": {
     "duration": 0.003924,
     "end_time": "2022-07-14T17:37:37.755771",
     "exception": false,
     "start_time": "2022-07-14T17:37:37.751847",
     "status": "completed"
    },
    "tags": []
   },
   "source": [
    "# Train model\n",
    "\n",
    "The purpose of this notebook is:\n",
    "\n",
    "- Load all training data (images and labels).\n",
    "- Limit number of train images to `task.nr_train_images` (value provided as run parameter).\n",
    "- Train a support vector machine model using sklearn.\n",
    "- Persist the trained model using the ONNX format."
   ]
  },
  {
   "cell_type": "markdown",
   "id": "877de751",
   "metadata": {
    "papermill": {
     "duration": 0.002818,
     "end_time": "2022-07-14T17:37:37.761841",
     "exception": false,
     "start_time": "2022-07-14T17:37:37.759023",
     "status": "completed"
    },
    "tags": []
   },
   "source": [
    "### Determine run parameters"
   ]
  },
  {
   "cell_type": "code",
   "execution_count": 1,
   "id": "e86b3120",
   "metadata": {
    "execution": {
     "iopub.execute_input": "2022-07-14T17:37:37.768807Z",
     "iopub.status.busy": "2022-07-14T17:37:37.768103Z",
     "iopub.status.idle": "2022-07-14T17:37:37.775684Z",
     "shell.execute_reply": "2022-07-14T17:37:37.774904Z"
    },
    "lines_to_next_cell": 0,
    "papermill": {
     "duration": 0.0128,
     "end_time": "2022-07-14T17:37:37.777169",
     "exception": false,
     "start_time": "2022-07-14T17:37:37.764369",
     "status": "completed"
    },
    "tags": []
   },
   "outputs": [],
   "source": [
    "# ----------------- Parameters for interactive development --------------\n",
    "P = {\n",
    "    \"pipeline.data_lake_root\": \"/pipeline-outputs/data-lake\",\n",
    "    \"task.nr_train_images\": 600,\n",
    "}"
   ]
  },
  {
   "cell_type": "code",
   "execution_count": 2,
   "id": "3398dc20",
   "metadata": {
    "execution": {
     "iopub.execute_input": "2022-07-14T17:37:37.784101Z",
     "iopub.status.busy": "2022-07-14T17:37:37.783690Z",
     "iopub.status.idle": "2022-07-14T17:37:37.787049Z",
     "shell.execute_reply": "2022-07-14T17:37:37.786413Z"
    },
    "lines_to_next_cell": 0,
    "papermill": {
     "duration": 0.008264,
     "end_time": "2022-07-14T17:37:37.788303",
     "exception": false,
     "start_time": "2022-07-14T17:37:37.780039",
     "status": "completed"
    },
    "tags": [
     "parameters"
    ]
   },
   "outputs": [],
   "source": [
    "# - During automated runs parameters will be injected in the below cell -"
   ]
  },
  {
   "cell_type": "code",
   "execution_count": 3,
   "id": "f20b697c",
   "metadata": {
    "execution": {
     "iopub.execute_input": "2022-07-14T17:37:37.794955Z",
     "iopub.status.busy": "2022-07-14T17:37:37.794580Z",
     "iopub.status.idle": "2022-07-14T17:37:37.799272Z",
     "shell.execute_reply": "2022-07-14T17:37:37.798719Z"
    },
    "papermill": {
     "duration": 0.009567,
     "end_time": "2022-07-14T17:37:37.800562",
     "exception": false,
     "start_time": "2022-07-14T17:37:37.790995",
     "status": "completed"
    },
    "tags": [
     "injected-parameters"
    ]
   },
   "outputs": [],
   "source": [
    "# Parameters\n",
    "P = {\n",
    "    \"pipeline.data_lake_root\": \"/pipeline-outputs/data-lake\",\n",
    "    \"pipeline.run_environment\": \"ci\",\n",
    "    \"pipeline.pipeline_run_id\": \"a6c4c4ae-4fdd-40fb-8a52-6e3e3984e925\",\n",
    "    \"pipeline.github.repository\": \"pynb-dag-runner/mnist-digits-demo-pipeline\",\n",
    "    \"pipeline.github.workflow\": \"Run automated tests, pipeline and deploy results to static reporting site\",\n",
    "    \"pipeline.github.runner_name\": \"GitHub Actions 2\",\n",
    "    \"pipeline.github.run_id\": \"2668450777\",\n",
    "    \"pipeline.github.actor\": \"matiasdahl\",\n",
    "    \"pipeline.github.job\": \"run-tests-pipeline-and-persist-pipeline-outputs\",\n",
    "    \"pipeline.github.base_ref\": \"\",\n",
    "    \"pipeline.github.head_ref\": \"\",\n",
    "    \"pipeline.github.sha\": \"147a1be9916173fd4d2cd011d8d51e3411215850\",\n",
    "    \"pipeline.github.ref\": \"refs/heads/development\",\n",
    "    \"pipeline.github.ref_type\": \"branch\",\n",
    "    \"pipeline.github.ref_name\": \"development\",\n",
    "    \"pipeline.github.event_name\": \"schedule\",\n",
    "    \"task.nr_train_images\": 1200,\n",
    "    \"task.notebook\": \"notebooks/train-model.py\",\n",
    "    \"task.max_nr_retries\": \"1\",\n",
    "    \"run.retry_nr\": \"0\",\n",
    "    \"task.timeout_s\": \"None\",\n",
    "    \"task.num_cpus\": 1,\n",
    "    \"_opentelemetry_traceparent\": \"00-8ed032a1273b4d8d9ed85f02e5fe0471-1d5498884fb22db0-01\",\n",
    "}\n"
   ]
  },
  {
   "cell_type": "code",
   "execution_count": 4,
   "id": "5bd21473",
   "metadata": {
    "execution": {
     "iopub.execute_input": "2022-07-14T17:37:37.807863Z",
     "iopub.status.busy": "2022-07-14T17:37:37.807475Z",
     "iopub.status.idle": "2022-07-14T17:37:37.810173Z",
     "shell.execute_reply": "2022-07-14T17:37:37.809618Z"
    },
    "lines_to_next_cell": 0,
    "papermill": {
     "duration": 0.007687,
     "end_time": "2022-07-14T17:37:37.811585",
     "exception": false,
     "start_time": "2022-07-14T17:37:37.803898",
     "status": "completed"
    },
    "tags": []
   },
   "outputs": [],
   "source": [
    "# -----------------------------------------------------------------------"
   ]
  },
  {
   "cell_type": "markdown",
   "id": "f182178e",
   "metadata": {
    "papermill": {
     "duration": 0.00292,
     "end_time": "2022-07-14T17:37:37.817358",
     "exception": false,
     "start_time": "2022-07-14T17:37:37.814438",
     "status": "completed"
    },
    "tags": []
   },
   "source": [
    "---"
   ]
  },
  {
   "cell_type": "markdown",
   "id": "fa32f6e8",
   "metadata": {
    "lines_to_next_cell": 2,
    "papermill": {
     "duration": 0.002714,
     "end_time": "2022-07-14T17:37:37.822686",
     "exception": false,
     "start_time": "2022-07-14T17:37:37.819972",
     "status": "completed"
    },
    "tags": []
   },
   "source": [
    "### Notebook code"
   ]
  },
  {
   "cell_type": "code",
   "execution_count": 5,
   "id": "5b35d38a",
   "metadata": {
    "execution": {
     "iopub.execute_input": "2022-07-14T17:37:37.829460Z",
     "iopub.status.busy": "2022-07-14T17:37:37.828975Z",
     "iopub.status.idle": "2022-07-14T17:37:38.290701Z",
     "shell.execute_reply": "2022-07-14T17:37:38.289972Z"
    },
    "papermill": {
     "duration": 0.46766,
     "end_time": "2022-07-14T17:37:38.293004",
     "exception": false,
     "start_time": "2022-07-14T17:37:37.825344",
     "status": "completed"
    },
    "tags": []
   },
   "outputs": [
    {
     "name": "stderr",
     "output_type": "stream",
     "text": [
      "2022-07-14 17:37:38,115\tINFO worker.py:842 -- Connecting to existing Ray cluster at address: 172.17.0.2:6379\n"
     ]
    }
   ],
   "source": [
    "from pynb_dag_runner.tasks.task_opentelemetry_logging import PydarLogger\n",
    "\n",
    "logger = PydarLogger(P)"
   ]
  },
  {
   "cell_type": "markdown",
   "id": "287909fc",
   "metadata": {
    "papermill": {
     "duration": 0.003197,
     "end_time": "2022-07-14T17:37:38.299634",
     "exception": false,
     "start_time": "2022-07-14T17:37:38.296437",
     "status": "completed"
    },
    "tags": []
   },
   "source": [
    "## Load and limit train data"
   ]
  },
  {
   "cell_type": "code",
   "execution_count": 6,
   "id": "a5c9aee6",
   "metadata": {
    "execution": {
     "iopub.execute_input": "2022-07-14T17:37:38.307364Z",
     "iopub.status.busy": "2022-07-14T17:37:38.307080Z",
     "iopub.status.idle": "2022-07-14T17:37:38.690507Z",
     "shell.execute_reply": "2022-07-14T17:37:38.689746Z"
    },
    "papermill": {
     "duration": 0.389837,
     "end_time": "2022-07-14T17:37:38.692916",
     "exception": false,
     "start_time": "2022-07-14T17:37:38.303079",
     "status": "completed"
    },
    "tags": []
   },
   "outputs": [],
   "source": [
    "def load_and_limit_train_data(P):\n",
    "    from common.io import datalake_root, read_numpy\n",
    "    from sklearn.model_selection import train_test_split\n",
    "\n",
    "    X_train_all = read_numpy(datalake_root(P) / \"train-data\" / \"digits.numpy\")\n",
    "    y_train_all = read_numpy(datalake_root(P) / \"train-data\" / \"labels.numpy\")\n",
    "\n",
    "    assert isinstance(P[\"task.nr_train_images\"], int)\n",
    "\n",
    "    # Note: train_test_split will fail if split is 0 or 100%.\n",
    "    assert 0 < P[\"task.nr_train_images\"] < len(y_train_all)\n",
    "\n",
    "    X_train, _, y_train, _ = train_test_split(\n",
    "        X_train_all,\n",
    "        y_train_all,\n",
    "        train_size=P[\"task.nr_train_images\"],\n",
    "        test_size=None,\n",
    "        stratify=y_train_all,\n",
    "        shuffle=True,\n",
    "        random_state=123,\n",
    "    )\n",
    "\n",
    "    assert X_train.shape == (len(y_train), 8 * 8)\n",
    "    return X_train, y_train\n",
    "\n",
    "\n",
    "X_train, y_train = load_and_limit_train_data(P)"
   ]
  },
  {
   "cell_type": "markdown",
   "id": "f4be9f36",
   "metadata": {
    "papermill": {
     "duration": 0.003463,
     "end_time": "2022-07-14T17:37:38.699594",
     "exception": false,
     "start_time": "2022-07-14T17:37:38.696131",
     "status": "completed"
    },
    "tags": []
   },
   "source": [
    "## Train support vector classifier model\n",
    "\n",
    "Below we assume that the hyperparameter $C$ is known.\n",
    "\n",
    "However, this should ideally be found by a hyperparameter search. That could be\n",
    "done in parallel on the Ray cluster, but this needs some more work. Ie., to use\n",
    "multiple cores in the notebook, those cores should be reserved when starting the\n",
    "notebook task (TODO).\n",
    "\n",
    "- https://docs.ray.io/en/latest/tune/key-concepts.html\n",
    "\n",
    "Note: cv-scores would need to be computed here, since they depend on the train data.\n",
    "After this notebook only the onnx-model is available."
   ]
  },
  {
   "cell_type": "code",
   "execution_count": 7,
   "id": "93f61f7b",
   "metadata": {
    "execution": {
     "iopub.execute_input": "2022-07-14T17:37:38.709129Z",
     "iopub.status.busy": "2022-07-14T17:37:38.708808Z",
     "iopub.status.idle": "2022-07-14T17:37:38.730519Z",
     "shell.execute_reply": "2022-07-14T17:37:38.729879Z"
    },
    "papermill": {
     "duration": 0.027863,
     "end_time": "2022-07-14T17:37:38.732250",
     "exception": false,
     "start_time": "2022-07-14T17:37:38.704387",
     "status": "completed"
    },
    "tags": []
   },
   "outputs": [],
   "source": [
    "from sklearn.svm import SVC"
   ]
  },
  {
   "cell_type": "code",
   "execution_count": 8,
   "id": "33e177ec",
   "metadata": {
    "execution": {
     "iopub.execute_input": "2022-07-14T17:37:38.743566Z",
     "iopub.status.busy": "2022-07-14T17:37:38.743343Z",
     "iopub.status.idle": "2022-07-14T17:37:38.949876Z",
     "shell.execute_reply": "2022-07-14T17:37:38.949069Z"
    },
    "papermill": {
     "duration": 0.212322,
     "end_time": "2022-07-14T17:37:38.951510",
     "exception": false,
     "start_time": "2022-07-14T17:37:38.739188",
     "status": "completed"
    },
    "tags": []
   },
   "outputs": [
    {
     "data": {
      "text/plain": [
       "SVC(C=0.001, kernel='linear', probability=True)"
      ]
     },
     "execution_count": 8,
     "metadata": {},
     "output_type": "execute_result"
    }
   ],
   "source": [
    "model = SVC(C=0.001, kernel=\"linear\", probability=True)\n",
    "\n",
    "model.fit(X_train, y_train)"
   ]
  },
  {
   "cell_type": "markdown",
   "id": "cde5030e",
   "metadata": {
    "papermill": {
     "duration": 0.00342,
     "end_time": "2022-07-14T17:37:38.958840",
     "exception": false,
     "start_time": "2022-07-14T17:37:38.955420",
     "status": "completed"
    },
    "tags": []
   },
   "source": [
    "### Q: Can the labels returned by `predict(..)` be computed from probabilities returned by the `predict_prob`-method?"
   ]
  },
  {
   "cell_type": "code",
   "execution_count": 9,
   "id": "75f4163f",
   "metadata": {
    "execution": {
     "iopub.execute_input": "2022-07-14T17:37:38.966523Z",
     "iopub.status.busy": "2022-07-14T17:37:38.966220Z",
     "iopub.status.idle": "2022-07-14T17:37:39.076971Z",
     "shell.execute_reply": "2022-07-14T17:37:39.076280Z"
    },
    "papermill": {
     "duration": 0.116368,
     "end_time": "2022-07-14T17:37:39.078403",
     "exception": false,
     "start_time": "2022-07-14T17:37:38.962035",
     "status": "completed"
    },
    "tags": []
   },
   "outputs": [
    {
     "name": "stdout",
     "output_type": "stream",
     "text": [
      " - Logging nr_max_prob_neq_label (int) : 3\n"
     ]
    }
   ],
   "source": [
    "import numpy as np\n",
    "\n",
    "y_train_labels = model.predict(X_train)\n",
    "y_train_probabilities = model.predict_proba(X_train)\n",
    "assert y_train_probabilities.shape == (len(y_train), 10)\n",
    "\n",
    "y_train_max_prob_labels = np.argmax(y_train_probabilities, axis=1)\n",
    "assert y_train_labels.shape == y_train_max_prob_labels.shape == y_train.shape\n",
    "\n",
    "# If the predicted labels would coincide with the labels that have\n",
    "# maximum probability, the below number would be zero\n",
    "logger.log_int(\n",
    "    \"nr_max_prob_neq_label\", int(sum(y_train_max_prob_labels != y_train_labels))\n",
    ")"
   ]
  },
  {
   "cell_type": "markdown",
   "id": "4a5f55ef",
   "metadata": {
    "papermill": {
     "duration": 0.003871,
     "end_time": "2022-07-14T17:37:39.085994",
     "exception": false,
     "start_time": "2022-07-14T17:37:39.082123",
     "status": "completed"
    },
    "tags": []
   },
   "source": [
    "The explanation is (likely) explained in the SVC source, see\n",
    "[here](https://github.com/scikit-learn/scikit-learn/blob/main/sklearn/svm/_base.py).\n",
    "Namely, the outputs from `predict(..)` and `predict_proba(..)` may not in some\n",
    "cases be compatible since the latter is computed using cross-validation while\n",
    "the former is not. Thus, the above number need not be zero."
   ]
  },
  {
   "cell_type": "markdown",
   "id": "ed6e02fc",
   "metadata": {
    "papermill": {
     "duration": 0.003312,
     "end_time": "2022-07-14T17:37:39.092441",
     "exception": false,
     "start_time": "2022-07-14T17:37:39.089129",
     "status": "completed"
    },
    "tags": []
   },
   "source": [
    "## Persist model"
   ]
  },
  {
   "cell_type": "code",
   "execution_count": 10,
   "id": "5002d8b3",
   "metadata": {
    "execution": {
     "iopub.execute_input": "2022-07-14T17:37:39.100047Z",
     "iopub.status.busy": "2022-07-14T17:37:39.099749Z",
     "iopub.status.idle": "2022-07-14T17:37:39.803170Z",
     "shell.execute_reply": "2022-07-14T17:37:39.802495Z"
    },
    "papermill": {
     "duration": 0.709466,
     "end_time": "2022-07-14T17:37:39.805235",
     "exception": false,
     "start_time": "2022-07-14T17:37:39.095769",
     "status": "completed"
    },
    "tags": []
   },
   "outputs": [],
   "source": [
    "from skl2onnx import convert_sklearn\n",
    "from skl2onnx.common.data_types import FloatTensorType\n",
    "\n",
    "#\n",
    "from common.io import datalake_root, write_onnx"
   ]
  },
  {
   "cell_type": "code",
   "execution_count": 11,
   "id": "0f3fa9d0",
   "metadata": {
    "execution": {
     "iopub.execute_input": "2022-07-14T17:37:39.814165Z",
     "iopub.status.busy": "2022-07-14T17:37:39.813589Z",
     "iopub.status.idle": "2022-07-14T17:37:39.875183Z",
     "shell.execute_reply": "2022-07-14T17:37:39.874650Z"
    },
    "papermill": {
     "duration": 0.068021,
     "end_time": "2022-07-14T17:37:39.877204",
     "exception": false,
     "start_time": "2022-07-14T17:37:39.809183",
     "status": "completed"
    },
    "tags": []
   },
   "outputs": [],
   "source": [
    "# convert sklearn model into onnx and persist to data lake\n",
    "\n",
    "model_onnx = convert_sklearn(\n",
    "    model, initial_types=[(\"float_input_8x8_image\", FloatTensorType([None, 8 * 8]))]\n",
    ")\n",
    "write_onnx(\n",
    "    datalake_root(P)\n",
    "    / \"models\"\n",
    "    / f\"nr_train_images={P['task.nr_train_images']}\"\n",
    "    / \"model.onnx\",\n",
    "    model_onnx,\n",
    ")"
   ]
  },
  {
   "cell_type": "code",
   "execution_count": null,
   "id": "c3186271",
   "metadata": {
    "papermill": {
     "duration": 0.003674,
     "end_time": "2022-07-14T17:37:39.884560",
     "exception": false,
     "start_time": "2022-07-14T17:37:39.880886",
     "status": "completed"
    },
    "tags": []
   },
   "outputs": [],
   "source": []
  }
 ],
 "metadata": {
  "jupytext": {
   "cell_metadata_filter": "tags,-all",
   "main_language": "python",
   "notebook_metadata_filter": "-all"
  },
  "language_info": {
   "codemirror_mode": {
    "name": "ipython",
    "version": 3
   },
   "file_extension": ".py",
   "mimetype": "text/x-python",
   "name": "python",
   "nbconvert_exporter": "python",
   "pygments_lexer": "ipython3",
   "version": "3.8.10"
  },
  "papermill": {
   "default_parameters": {},
   "duration": 4.297637,
   "end_time": "2022-07-14T17:37:40.910879",
   "environment_variables": {},
   "exception": null,
   "input_path": "/home/host_user/workspace/mnist-demo-pipeline/mnist-demo-pipeline/notebooks/temp-notebook-8_o60ddc.ipynb",
   "output_path": "notebooks/train-model.ipynb",
   "parameters": {
    "P": {
     "_opentelemetry_traceparent": "00-8ed032a1273b4d8d9ed85f02e5fe0471-1d5498884fb22db0-01",
     "pipeline.data_lake_root": "/pipeline-outputs/data-lake",
     "pipeline.github.actor": "matiasdahl",
     "pipeline.github.base_ref": "",
     "pipeline.github.event_name": "schedule",
     "pipeline.github.head_ref": "",
     "pipeline.github.job": "run-tests-pipeline-and-persist-pipeline-outputs",
     "pipeline.github.ref": "refs/heads/development",
     "pipeline.github.ref_name": "development",
     "pipeline.github.ref_type": "branch",
     "pipeline.github.repository": "pynb-dag-runner/mnist-digits-demo-pipeline",
     "pipeline.github.run_id": "2668450777",
     "pipeline.github.runner_name": "GitHub Actions 2",
     "pipeline.github.sha": "147a1be9916173fd4d2cd011d8d51e3411215850",
     "pipeline.github.workflow": "Run automated tests, pipeline and deploy results to static reporting site",
     "pipeline.pipeline_run_id": "a6c4c4ae-4fdd-40fb-8a52-6e3e3984e925",
     "pipeline.run_environment": "ci",
     "run.retry_nr": "0",
     "task.max_nr_retries": "1",
     "task.notebook": "notebooks/train-model.py",
     "task.nr_train_images": 1200,
     "task.num_cpus": 1,
     "task.timeout_s": "None"
    }
   },
   "start_time": "2022-07-14T17:37:36.613242",
   "version": "2.3.3"
  }
 },
 "nbformat": 4,
 "nbformat_minor": 5
}