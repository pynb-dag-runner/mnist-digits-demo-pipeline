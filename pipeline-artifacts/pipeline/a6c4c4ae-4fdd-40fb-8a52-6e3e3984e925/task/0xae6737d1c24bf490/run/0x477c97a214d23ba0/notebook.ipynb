{
 "cells": [
  {
   "cell_type": "markdown",
   "id": "5e21b190",
   "metadata": {
    "papermill": {
     "duration": 0.004049,
     "end_time": "2022-07-14T17:37:32.578469",
     "exception": false,
     "start_time": "2022-07-14T17:37:32.574420",
     "status": "completed"
    },
    "tags": []
   },
   "source": [
    "# Train model\n",
    "\n",
    "The purpose of this notebook is:\n",
    "\n",
    "- Load all training data (images and labels).\n",
    "- Limit number of train images to `task.nr_train_images` (value provided as run parameter).\n",
    "- Train a support vector machine model using sklearn.\n",
    "- Persist the trained model using the ONNX format."
   ]
  },
  {
   "cell_type": "markdown",
   "id": "98ec66f4",
   "metadata": {
    "papermill": {
     "duration": 0.003152,
     "end_time": "2022-07-14T17:37:32.585501",
     "exception": false,
     "start_time": "2022-07-14T17:37:32.582349",
     "status": "completed"
    },
    "tags": []
   },
   "source": [
    "### Determine run parameters"
   ]
  },
  {
   "cell_type": "code",
   "execution_count": 1,
   "id": "c8a3783f",
   "metadata": {
    "execution": {
     "iopub.execute_input": "2022-07-14T17:37:32.593131Z",
     "iopub.status.busy": "2022-07-14T17:37:32.592411Z",
     "iopub.status.idle": "2022-07-14T17:37:32.600347Z",
     "shell.execute_reply": "2022-07-14T17:37:32.599727Z"
    },
    "lines_to_next_cell": 0,
    "papermill": {
     "duration": 0.01482,
     "end_time": "2022-07-14T17:37:32.603123",
     "exception": false,
     "start_time": "2022-07-14T17:37:32.588303",
     "status": "completed"
    },
    "tags": []
   },
   "outputs": [],
   "source": [
    "# ----------------- Parameters for interactive development --------------\n",
    "P = {\n",
    "    \"pipeline.data_lake_root\": \"/pipeline-outputs/data-lake\",\n",
    "    \"task.nr_train_images\": 600,\n",
    "}"
   ]
  },
  {
   "cell_type": "code",
   "execution_count": 2,
   "id": "03b36fb2",
   "metadata": {
    "execution": {
     "iopub.execute_input": "2022-07-14T17:37:32.610435Z",
     "iopub.status.busy": "2022-07-14T17:37:32.610214Z",
     "iopub.status.idle": "2022-07-14T17:37:32.613551Z",
     "shell.execute_reply": "2022-07-14T17:37:32.612558Z"
    },
    "lines_to_next_cell": 0,
    "papermill": {
     "duration": 0.009625,
     "end_time": "2022-07-14T17:37:32.615936",
     "exception": false,
     "start_time": "2022-07-14T17:37:32.606311",
     "status": "completed"
    },
    "tags": [
     "parameters"
    ]
   },
   "outputs": [],
   "source": [
    "# - During automated runs parameters will be injected in the below cell -"
   ]
  },
  {
   "cell_type": "code",
   "execution_count": 3,
   "id": "4a796957",
   "metadata": {
    "execution": {
     "iopub.execute_input": "2022-07-14T17:37:32.622730Z",
     "iopub.status.busy": "2022-07-14T17:37:32.622524Z",
     "iopub.status.idle": "2022-07-14T17:37:32.627491Z",
     "shell.execute_reply": "2022-07-14T17:37:32.627013Z"
    },
    "papermill": {
     "duration": 0.011093,
     "end_time": "2022-07-14T17:37:32.629888",
     "exception": false,
     "start_time": "2022-07-14T17:37:32.618795",
     "status": "completed"
    },
    "tags": [
     "injected-parameters"
    ]
   },
   "outputs": [],
   "source": [
    "# Parameters\n",
    "P = {\n",
    "    \"pipeline.data_lake_root\": \"/pipeline-outputs/data-lake\",\n",
    "    \"pipeline.run_environment\": \"ci\",\n",
    "    \"pipeline.pipeline_run_id\": \"a6c4c4ae-4fdd-40fb-8a52-6e3e3984e925\",\n",
    "    \"pipeline.github.repository\": \"pynb-dag-runner/mnist-digits-demo-pipeline\",\n",
    "    \"pipeline.github.workflow\": \"Run automated tests, pipeline and deploy results to static reporting site\",\n",
    "    \"pipeline.github.runner_name\": \"GitHub Actions 2\",\n",
    "    \"pipeline.github.run_id\": \"2668450777\",\n",
    "    \"pipeline.github.actor\": \"matiasdahl\",\n",
    "    \"pipeline.github.job\": \"run-tests-pipeline-and-persist-pipeline-outputs\",\n",
    "    \"pipeline.github.base_ref\": \"\",\n",
    "    \"pipeline.github.head_ref\": \"\",\n",
    "    \"pipeline.github.sha\": \"147a1be9916173fd4d2cd011d8d51e3411215850\",\n",
    "    \"pipeline.github.ref\": \"refs/heads/development\",\n",
    "    \"pipeline.github.ref_type\": \"branch\",\n",
    "    \"pipeline.github.ref_name\": \"development\",\n",
    "    \"pipeline.github.event_name\": \"schedule\",\n",
    "    \"task.nr_train_images\": 800,\n",
    "    \"task.notebook\": \"notebooks/train-model.py\",\n",
    "    \"task.max_nr_retries\": \"1\",\n",
    "    \"run.retry_nr\": \"0\",\n",
    "    \"task.timeout_s\": \"None\",\n",
    "    \"task.num_cpus\": 1,\n",
    "    \"_opentelemetry_traceparent\": \"00-8ed032a1273b4d8d9ed85f02e5fe0471-673e622bbeda83d2-01\",\n",
    "}\n"
   ]
  },
  {
   "cell_type": "code",
   "execution_count": 4,
   "id": "336630a1",
   "metadata": {
    "execution": {
     "iopub.execute_input": "2022-07-14T17:37:32.636981Z",
     "iopub.status.busy": "2022-07-14T17:37:32.636779Z",
     "iopub.status.idle": "2022-07-14T17:37:32.639438Z",
     "shell.execute_reply": "2022-07-14T17:37:32.638964Z"
    },
    "lines_to_next_cell": 0,
    "papermill": {
     "duration": 0.009014,
     "end_time": "2022-07-14T17:37:32.641782",
     "exception": false,
     "start_time": "2022-07-14T17:37:32.632768",
     "status": "completed"
    },
    "tags": []
   },
   "outputs": [],
   "source": [
    "# -----------------------------------------------------------------------"
   ]
  },
  {
   "cell_type": "markdown",
   "id": "3799e61a",
   "metadata": {
    "papermill": {
     "duration": 0.003,
     "end_time": "2022-07-14T17:37:32.647931",
     "exception": false,
     "start_time": "2022-07-14T17:37:32.644931",
     "status": "completed"
    },
    "tags": []
   },
   "source": [
    "---"
   ]
  },
  {
   "cell_type": "markdown",
   "id": "7e8cbc28",
   "metadata": {
    "lines_to_next_cell": 2,
    "papermill": {
     "duration": 0.002816,
     "end_time": "2022-07-14T17:37:32.653584",
     "exception": false,
     "start_time": "2022-07-14T17:37:32.650768",
     "status": "completed"
    },
    "tags": []
   },
   "source": [
    "### Notebook code"
   ]
  },
  {
   "cell_type": "code",
   "execution_count": 5,
   "id": "bf95f117",
   "metadata": {
    "execution": {
     "iopub.execute_input": "2022-07-14T17:37:32.661222Z",
     "iopub.status.busy": "2022-07-14T17:37:32.661022Z",
     "iopub.status.idle": "2022-07-14T17:37:33.168059Z",
     "shell.execute_reply": "2022-07-14T17:37:33.167283Z"
    },
    "papermill": {
     "duration": 0.512968,
     "end_time": "2022-07-14T17:37:33.169925",
     "exception": false,
     "start_time": "2022-07-14T17:37:32.656957",
     "status": "completed"
    },
    "tags": []
   },
   "outputs": [
    {
     "name": "stderr",
     "output_type": "stream",
     "text": [
      "2022-07-14 17:37:32,984\tINFO worker.py:842 -- Connecting to existing Ray cluster at address: 172.17.0.2:6379\n"
     ]
    }
   ],
   "source": [
    "from pynb_dag_runner.tasks.task_opentelemetry_logging import PydarLogger\n",
    "\n",
    "logger = PydarLogger(P)"
   ]
  },
  {
   "cell_type": "markdown",
   "id": "dee4e7af",
   "metadata": {
    "papermill": {
     "duration": 0.003419,
     "end_time": "2022-07-14T17:37:33.177339",
     "exception": false,
     "start_time": "2022-07-14T17:37:33.173920",
     "status": "completed"
    },
    "tags": []
   },
   "source": [
    "## Load and limit train data"
   ]
  },
  {
   "cell_type": "code",
   "execution_count": 6,
   "id": "2ac0b926",
   "metadata": {
    "execution": {
     "iopub.execute_input": "2022-07-14T17:37:33.185500Z",
     "iopub.status.busy": "2022-07-14T17:37:33.185195Z",
     "iopub.status.idle": "2022-07-14T17:37:33.510375Z",
     "shell.execute_reply": "2022-07-14T17:37:33.509708Z"
    },
    "papermill": {
     "duration": 0.331771,
     "end_time": "2022-07-14T17:37:33.512256",
     "exception": false,
     "start_time": "2022-07-14T17:37:33.180485",
     "status": "completed"
    },
    "tags": []
   },
   "outputs": [],
   "source": [
    "def load_and_limit_train_data(P):\n",
    "    from common.io import datalake_root, read_numpy\n",
    "    from sklearn.model_selection import train_test_split\n",
    "\n",
    "    X_train_all = read_numpy(datalake_root(P) / \"train-data\" / \"digits.numpy\")\n",
    "    y_train_all = read_numpy(datalake_root(P) / \"train-data\" / \"labels.numpy\")\n",
    "\n",
    "    assert isinstance(P[\"task.nr_train_images\"], int)\n",
    "\n",
    "    # Note: train_test_split will fail if split is 0 or 100%.\n",
    "    assert 0 < P[\"task.nr_train_images\"] < len(y_train_all)\n",
    "\n",
    "    X_train, _, y_train, _ = train_test_split(\n",
    "        X_train_all,\n",
    "        y_train_all,\n",
    "        train_size=P[\"task.nr_train_images\"],\n",
    "        test_size=None,\n",
    "        stratify=y_train_all,\n",
    "        shuffle=True,\n",
    "        random_state=123,\n",
    "    )\n",
    "\n",
    "    assert X_train.shape == (len(y_train), 8 * 8)\n",
    "    return X_train, y_train\n",
    "\n",
    "\n",
    "X_train, y_train = load_and_limit_train_data(P)"
   ]
  },
  {
   "cell_type": "markdown",
   "id": "ec6b2103",
   "metadata": {
    "papermill": {
     "duration": 0.003111,
     "end_time": "2022-07-14T17:37:33.518701",
     "exception": false,
     "start_time": "2022-07-14T17:37:33.515590",
     "status": "completed"
    },
    "tags": []
   },
   "source": [
    "## Train support vector classifier model\n",
    "\n",
    "Below we assume that the hyperparameter $C$ is known.\n",
    "\n",
    "However, this should ideally be found by a hyperparameter search. That could be\n",
    "done in parallel on the Ray cluster, but this needs some more work. Ie., to use\n",
    "multiple cores in the notebook, those cores should be reserved when starting the\n",
    "notebook task (TODO).\n",
    "\n",
    "- https://docs.ray.io/en/latest/tune/key-concepts.html\n",
    "\n",
    "Note: cv-scores would need to be computed here, since they depend on the train data.\n",
    "After this notebook only the onnx-model is available."
   ]
  },
  {
   "cell_type": "code",
   "execution_count": 7,
   "id": "6ceda061",
   "metadata": {
    "execution": {
     "iopub.execute_input": "2022-07-14T17:37:33.526809Z",
     "iopub.status.busy": "2022-07-14T17:37:33.526499Z",
     "iopub.status.idle": "2022-07-14T17:37:33.546726Z",
     "shell.execute_reply": "2022-07-14T17:37:33.546123Z"
    },
    "papermill": {
     "duration": 0.026673,
     "end_time": "2022-07-14T17:37:33.548355",
     "exception": false,
     "start_time": "2022-07-14T17:37:33.521682",
     "status": "completed"
    },
    "tags": []
   },
   "outputs": [],
   "source": [
    "from sklearn.svm import SVC"
   ]
  },
  {
   "cell_type": "code",
   "execution_count": 8,
   "id": "575a8806",
   "metadata": {
    "execution": {
     "iopub.execute_input": "2022-07-14T17:37:33.555967Z",
     "iopub.status.busy": "2022-07-14T17:37:33.555431Z",
     "iopub.status.idle": "2022-07-14T17:37:33.679006Z",
     "shell.execute_reply": "2022-07-14T17:37:33.678375Z"
    },
    "papermill": {
     "duration": 0.129461,
     "end_time": "2022-07-14T17:37:33.680767",
     "exception": false,
     "start_time": "2022-07-14T17:37:33.551306",
     "status": "completed"
    },
    "tags": []
   },
   "outputs": [
    {
     "data": {
      "text/plain": [
       "SVC(C=0.001, kernel='linear', probability=True)"
      ]
     },
     "execution_count": 8,
     "metadata": {},
     "output_type": "execute_result"
    }
   ],
   "source": [
    "model = SVC(C=0.001, kernel=\"linear\", probability=True)\n",
    "\n",
    "model.fit(X_train, y_train)"
   ]
  },
  {
   "cell_type": "markdown",
   "id": "837ea335",
   "metadata": {
    "papermill": {
     "duration": 0.003554,
     "end_time": "2022-07-14T17:37:33.687821",
     "exception": false,
     "start_time": "2022-07-14T17:37:33.684267",
     "status": "completed"
    },
    "tags": []
   },
   "source": [
    "### Q: Can the labels returned by `predict(..)` be computed from probabilities returned by the `predict_prob`-method?"
   ]
  },
  {
   "cell_type": "code",
   "execution_count": 9,
   "id": "2f3a3d81",
   "metadata": {
    "execution": {
     "iopub.execute_input": "2022-07-14T17:37:33.694843Z",
     "iopub.status.busy": "2022-07-14T17:37:33.694603Z",
     "iopub.status.idle": "2022-07-14T17:37:33.751280Z",
     "shell.execute_reply": "2022-07-14T17:37:33.750632Z"
    },
    "papermill": {
     "duration": 0.062092,
     "end_time": "2022-07-14T17:37:33.752878",
     "exception": false,
     "start_time": "2022-07-14T17:37:33.690786",
     "status": "completed"
    },
    "tags": []
   },
   "outputs": [
    {
     "name": "stdout",
     "output_type": "stream",
     "text": [
      " - Logging nr_max_prob_neq_label (int) : 1\n"
     ]
    }
   ],
   "source": [
    "import numpy as np\n",
    "\n",
    "y_train_labels = model.predict(X_train)\n",
    "y_train_probabilities = model.predict_proba(X_train)\n",
    "assert y_train_probabilities.shape == (len(y_train), 10)\n",
    "\n",
    "y_train_max_prob_labels = np.argmax(y_train_probabilities, axis=1)\n",
    "assert y_train_labels.shape == y_train_max_prob_labels.shape == y_train.shape\n",
    "\n",
    "# If the predicted labels would coincide with the labels that have\n",
    "# maximum probability, the below number would be zero\n",
    "logger.log_int(\n",
    "    \"nr_max_prob_neq_label\", int(sum(y_train_max_prob_labels != y_train_labels))\n",
    ")"
   ]
  },
  {
   "cell_type": "markdown",
   "id": "9e33f254",
   "metadata": {
    "papermill": {
     "duration": 0.003635,
     "end_time": "2022-07-14T17:37:33.759610",
     "exception": false,
     "start_time": "2022-07-14T17:37:33.755975",
     "status": "completed"
    },
    "tags": []
   },
   "source": [
    "The explanation is (likely) explained in the SVC source, see\n",
    "[here](https://github.com/scikit-learn/scikit-learn/blob/main/sklearn/svm/_base.py).\n",
    "Namely, the outputs from `predict(..)` and `predict_proba(..)` may not in some\n",
    "cases be compatible since the latter is computed using cross-validation while\n",
    "the former is not. Thus, the above number need not be zero."
   ]
  },
  {
   "cell_type": "markdown",
   "id": "040705c1",
   "metadata": {
    "papermill": {
     "duration": 0.003007,
     "end_time": "2022-07-14T17:37:33.765863",
     "exception": false,
     "start_time": "2022-07-14T17:37:33.762856",
     "status": "completed"
    },
    "tags": []
   },
   "source": [
    "## Persist model"
   ]
  },
  {
   "cell_type": "code",
   "execution_count": 10,
   "id": "756cc417",
   "metadata": {
    "execution": {
     "iopub.execute_input": "2022-07-14T17:37:33.773386Z",
     "iopub.status.busy": "2022-07-14T17:37:33.773154Z",
     "iopub.status.idle": "2022-07-14T17:37:34.478113Z",
     "shell.execute_reply": "2022-07-14T17:37:34.477541Z"
    },
    "papermill": {
     "duration": 0.710997,
     "end_time": "2022-07-14T17:37:34.480059",
     "exception": false,
     "start_time": "2022-07-14T17:37:33.769062",
     "status": "completed"
    },
    "tags": []
   },
   "outputs": [],
   "source": [
    "from skl2onnx import convert_sklearn\n",
    "from skl2onnx.common.data_types import FloatTensorType\n",
    "\n",
    "#\n",
    "from common.io import datalake_root, write_onnx"
   ]
  },
  {
   "cell_type": "code",
   "execution_count": 11,
   "id": "a35e0204",
   "metadata": {
    "execution": {
     "iopub.execute_input": "2022-07-14T17:37:34.489356Z",
     "iopub.status.busy": "2022-07-14T17:37:34.488646Z",
     "iopub.status.idle": "2022-07-14T17:37:34.546624Z",
     "shell.execute_reply": "2022-07-14T17:37:34.545956Z"
    },
    "papermill": {
     "duration": 0.064724,
     "end_time": "2022-07-14T17:37:34.548394",
     "exception": false,
     "start_time": "2022-07-14T17:37:34.483670",
     "status": "completed"
    },
    "tags": []
   },
   "outputs": [],
   "source": [
    "# convert sklearn model into onnx and persist to data lake\n",
    "\n",
    "model_onnx = convert_sklearn(\n",
    "    model, initial_types=[(\"float_input_8x8_image\", FloatTensorType([None, 8 * 8]))]\n",
    ")\n",
    "write_onnx(\n",
    "    datalake_root(P)\n",
    "    / \"models\"\n",
    "    / f\"nr_train_images={P['task.nr_train_images']}\"\n",
    "    / \"model.onnx\",\n",
    "    model_onnx,\n",
    ")"
   ]
  },
  {
   "cell_type": "code",
   "execution_count": null,
   "id": "47d493de",
   "metadata": {
    "papermill": {
     "duration": 0.003441,
     "end_time": "2022-07-14T17:37:34.555237",
     "exception": false,
     "start_time": "2022-07-14T17:37:34.551796",
     "status": "completed"
    },
    "tags": []
   },
   "outputs": [],
   "source": []
  }
 ],
 "metadata": {
  "jupytext": {
   "cell_metadata_filter": "tags,-all",
   "main_language": "python",
   "notebook_metadata_filter": "-all"
  },
  "language_info": {
   "codemirror_mode": {
    "name": "ipython",
    "version": 3
   },
   "file_extension": ".py",
   "mimetype": "text/x-python",
   "name": "python",
   "nbconvert_exporter": "python",
   "pygments_lexer": "ipython3",
   "version": "3.8.10"
  },
  "papermill": {
   "default_parameters": {},
   "duration": 4.260909,
   "end_time": "2022-07-14T17:37:35.477528",
   "environment_variables": {},
   "exception": null,
   "input_path": "/home/host_user/workspace/mnist-demo-pipeline/mnist-demo-pipeline/notebooks/temp-notebook-h4x2_xba.ipynb",
   "output_path": "notebooks/train-model.ipynb",
   "parameters": {
    "P": {
     "_opentelemetry_traceparent": "00-8ed032a1273b4d8d9ed85f02e5fe0471-673e622bbeda83d2-01",
     "pipeline.data_lake_root": "/pipeline-outputs/data-lake",
     "pipeline.github.actor": "matiasdahl",
     "pipeline.github.base_ref": "",
     "pipeline.github.event_name": "schedule",
     "pipeline.github.head_ref": "",
     "pipeline.github.job": "run-tests-pipeline-and-persist-pipeline-outputs",
     "pipeline.github.ref": "refs/heads/development",
     "pipeline.github.ref_name": "development",
     "pipeline.github.ref_type": "branch",
     "pipeline.github.repository": "pynb-dag-runner/mnist-digits-demo-pipeline",
     "pipeline.github.run_id": "2668450777",
     "pipeline.github.runner_name": "GitHub Actions 2",
     "pipeline.github.sha": "147a1be9916173fd4d2cd011d8d51e3411215850",
     "pipeline.github.workflow": "Run automated tests, pipeline and deploy results to static reporting site",
     "pipeline.pipeline_run_id": "a6c4c4ae-4fdd-40fb-8a52-6e3e3984e925",
     "pipeline.run_environment": "ci",
     "run.retry_nr": "0",
     "task.max_nr_retries": "1",
     "task.notebook": "notebooks/train-model.py",
     "task.nr_train_images": 800,
     "task.num_cpus": 1,
     "task.timeout_s": "None"
    }
   },
   "start_time": "2022-07-14T17:37:31.216619",
   "version": "2.3.3"
  }
 },
 "nbformat": 4,
 "nbformat_minor": 5
}