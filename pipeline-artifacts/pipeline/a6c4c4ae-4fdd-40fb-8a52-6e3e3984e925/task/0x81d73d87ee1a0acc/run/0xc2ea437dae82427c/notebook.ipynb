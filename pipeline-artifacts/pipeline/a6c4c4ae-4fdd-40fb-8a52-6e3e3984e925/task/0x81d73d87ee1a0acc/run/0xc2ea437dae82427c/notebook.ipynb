{
 "cells": [
  {
   "cell_type": "markdown",
   "id": "bb7b632d",
   "metadata": {
    "papermill": {
     "duration": 0.005178,
     "end_time": "2022-07-14T17:37:39.777559",
     "exception": false,
     "start_time": "2022-07-14T17:37:39.772381",
     "status": "completed"
    },
    "tags": []
   },
   "source": [
    "# Benchmark model\n",
    "\n",
    "The purpose of this notebook is to benchmark persisted onnx-model (trained in the\n",
    "previous step) against evaluation set."
   ]
  },
  {
   "cell_type": "markdown",
   "id": "5fe636b0",
   "metadata": {
    "papermill": {
     "duration": 0.004157,
     "end_time": "2022-07-14T17:37:39.786923",
     "exception": false,
     "start_time": "2022-07-14T17:37:39.782766",
     "status": "completed"
    },
    "tags": []
   },
   "source": [
    "### Determine run parameters"
   ]
  },
  {
   "cell_type": "code",
   "execution_count": 1,
   "id": "b5fb9657",
   "metadata": {
    "execution": {
     "iopub.execute_input": "2022-07-14T17:37:39.796568Z",
     "iopub.status.busy": "2022-07-14T17:37:39.796255Z",
     "iopub.status.idle": "2022-07-14T17:37:39.805370Z",
     "shell.execute_reply": "2022-07-14T17:37:39.804798Z"
    },
    "lines_to_next_cell": 0,
    "papermill": {
     "duration": 0.016484,
     "end_time": "2022-07-14T17:37:39.807229",
     "exception": false,
     "start_time": "2022-07-14T17:37:39.790745",
     "status": "completed"
    },
    "tags": []
   },
   "outputs": [],
   "source": [
    "# ----------------- Parameters for interactive development --------------\n",
    "P = {\n",
    "    \"pipeline.data_lake_root\": \"/pipeline-outputs/data-lake\",\n",
    "    \"task.nr_train_images\": 600,\n",
    "}"
   ]
  },
  {
   "cell_type": "code",
   "execution_count": 2,
   "id": "9fb094e1",
   "metadata": {
    "execution": {
     "iopub.execute_input": "2022-07-14T17:37:39.817098Z",
     "iopub.status.busy": "2022-07-14T17:37:39.816890Z",
     "iopub.status.idle": "2022-07-14T17:37:39.819737Z",
     "shell.execute_reply": "2022-07-14T17:37:39.819234Z"
    },
    "lines_to_next_cell": 0,
    "papermill": {
     "duration": 0.010266,
     "end_time": "2022-07-14T17:37:39.822063",
     "exception": false,
     "start_time": "2022-07-14T17:37:39.811797",
     "status": "completed"
    },
    "tags": [
     "parameters"
    ]
   },
   "outputs": [],
   "source": [
    "# - During automated runs parameters will be injected in the below cell -"
   ]
  },
  {
   "cell_type": "code",
   "execution_count": 3,
   "id": "cd59f04b",
   "metadata": {
    "execution": {
     "iopub.execute_input": "2022-07-14T17:37:39.831115Z",
     "iopub.status.busy": "2022-07-14T17:37:39.830896Z",
     "iopub.status.idle": "2022-07-14T17:37:39.835201Z",
     "shell.execute_reply": "2022-07-14T17:37:39.834597Z"
    },
    "papermill": {
     "duration": 0.011293,
     "end_time": "2022-07-14T17:37:39.837394",
     "exception": false,
     "start_time": "2022-07-14T17:37:39.826101",
     "status": "completed"
    },
    "tags": [
     "injected-parameters"
    ]
   },
   "outputs": [],
   "source": [
    "# Parameters\n",
    "P = {\n",
    "    \"pipeline.data_lake_root\": \"/pipeline-outputs/data-lake\",\n",
    "    \"pipeline.run_environment\": \"ci\",\n",
    "    \"pipeline.pipeline_run_id\": \"a6c4c4ae-4fdd-40fb-8a52-6e3e3984e925\",\n",
    "    \"pipeline.github.repository\": \"pynb-dag-runner/mnist-digits-demo-pipeline\",\n",
    "    \"pipeline.github.workflow\": \"Run automated tests, pipeline and deploy results to static reporting site\",\n",
    "    \"pipeline.github.runner_name\": \"GitHub Actions 2\",\n",
    "    \"pipeline.github.run_id\": \"2668450777\",\n",
    "    \"pipeline.github.actor\": \"matiasdahl\",\n",
    "    \"pipeline.github.job\": \"run-tests-pipeline-and-persist-pipeline-outputs\",\n",
    "    \"pipeline.github.base_ref\": \"\",\n",
    "    \"pipeline.github.head_ref\": \"\",\n",
    "    \"pipeline.github.sha\": \"147a1be9916173fd4d2cd011d8d51e3411215850\",\n",
    "    \"pipeline.github.ref\": \"refs/heads/development\",\n",
    "    \"pipeline.github.ref_type\": \"branch\",\n",
    "    \"pipeline.github.ref_name\": \"development\",\n",
    "    \"pipeline.github.event_name\": \"schedule\",\n",
    "    \"task.nr_train_images\": 600,\n",
    "    \"task.notebook\": \"notebooks/benchmark-model.py\",\n",
    "    \"task.max_nr_retries\": \"1\",\n",
    "    \"run.retry_nr\": \"0\",\n",
    "    \"task.timeout_s\": \"None\",\n",
    "    \"task.num_cpus\": 1,\n",
    "    \"_opentelemetry_traceparent\": \"00-8ed032a1273b4d8d9ed85f02e5fe0471-22a6a0afc85f0349-01\",\n",
    "}\n"
   ]
  },
  {
   "cell_type": "code",
   "execution_count": 4,
   "id": "9b027ff0",
   "metadata": {
    "execution": {
     "iopub.execute_input": "2022-07-14T17:37:39.846248Z",
     "iopub.status.busy": "2022-07-14T17:37:39.846054Z",
     "iopub.status.idle": "2022-07-14T17:37:39.848664Z",
     "shell.execute_reply": "2022-07-14T17:37:39.848099Z"
    },
    "lines_to_next_cell": 0,
    "papermill": {
     "duration": 0.009819,
     "end_time": "2022-07-14T17:37:39.851126",
     "exception": false,
     "start_time": "2022-07-14T17:37:39.841307",
     "status": "completed"
    },
    "tags": []
   },
   "outputs": [],
   "source": [
    "# -----------------------------------------------------------------------"
   ]
  },
  {
   "cell_type": "markdown",
   "id": "7c89934a",
   "metadata": {
    "papermill": {
     "duration": 0.005827,
     "end_time": "2022-07-14T17:37:39.861485",
     "exception": false,
     "start_time": "2022-07-14T17:37:39.855658",
     "status": "completed"
    },
    "tags": []
   },
   "source": [
    "---"
   ]
  },
  {
   "cell_type": "markdown",
   "id": "e0e0516c",
   "metadata": {
    "lines_to_next_cell": 2,
    "papermill": {
     "duration": 0.004458,
     "end_time": "2022-07-14T17:37:39.870322",
     "exception": false,
     "start_time": "2022-07-14T17:37:39.865864",
     "status": "completed"
    },
    "tags": []
   },
   "source": [
    "### Notebook code"
   ]
  },
  {
   "cell_type": "code",
   "execution_count": 5,
   "id": "be4d3bc1",
   "metadata": {
    "execution": {
     "iopub.execute_input": "2022-07-14T17:37:39.879596Z",
     "iopub.status.busy": "2022-07-14T17:37:39.879380Z",
     "iopub.status.idle": "2022-07-14T17:37:40.870912Z",
     "shell.execute_reply": "2022-07-14T17:37:40.869898Z"
    },
    "papermill": {
     "duration": 0.998463,
     "end_time": "2022-07-14T17:37:40.872860",
     "exception": false,
     "start_time": "2022-07-14T17:37:39.874397",
     "status": "completed"
    },
    "tags": []
   },
   "outputs": [
    {
     "name": "stderr",
     "output_type": "stream",
     "text": [
      "2022-07-14 17:37:40,707\tINFO worker.py:842 -- Connecting to existing Ray cluster at address: 172.17.0.2:6379\n"
     ]
    }
   ],
   "source": [
    "import itertools as it\n",
    "\n",
    "#\n",
    "import numpy as np\n",
    "import matplotlib.pyplot as plt\n",
    "\n",
    "#\n",
    "from pynb_dag_runner.tasks.task_opentelemetry_logging import PydarLogger\n",
    "\n",
    "#\n",
    "from common.io import datalake_root\n",
    "\n",
    "logger = PydarLogger(P)"
   ]
  },
  {
   "cell_type": "markdown",
   "id": "67417bcb",
   "metadata": {
    "papermill": {
     "duration": 0.004318,
     "end_time": "2022-07-14T17:37:40.885649",
     "exception": false,
     "start_time": "2022-07-14T17:37:40.881331",
     "status": "completed"
    },
    "tags": []
   },
   "source": [
    "## Load persisted onnx-model and evaluation data"
   ]
  },
  {
   "cell_type": "code",
   "execution_count": 6,
   "id": "9ed561bd",
   "metadata": {
    "execution": {
     "iopub.execute_input": "2022-07-14T17:37:40.894604Z",
     "iopub.status.busy": "2022-07-14T17:37:40.894308Z",
     "iopub.status.idle": "2022-07-14T17:37:40.897499Z",
     "shell.execute_reply": "2022-07-14T17:37:40.896942Z"
    },
    "papermill": {
     "duration": 0.00973,
     "end_time": "2022-07-14T17:37:40.899217",
     "exception": false,
     "start_time": "2022-07-14T17:37:40.889487",
     "status": "completed"
    },
    "tags": []
   },
   "outputs": [],
   "source": [
    "from common.io import read_onnx, get_onnx_inputs, get_onnx_outputs, read_numpy"
   ]
  },
  {
   "cell_type": "code",
   "execution_count": 7,
   "id": "851cf60e",
   "metadata": {
    "execution": {
     "iopub.execute_input": "2022-07-14T17:37:40.908870Z",
     "iopub.status.busy": "2022-07-14T17:37:40.908255Z",
     "iopub.status.idle": "2022-07-14T17:37:40.922652Z",
     "shell.execute_reply": "2022-07-14T17:37:40.921541Z"
    },
    "lines_to_next_cell": 0,
    "papermill": {
     "duration": 0.021194,
     "end_time": "2022-07-14T17:37:40.924569",
     "exception": false,
     "start_time": "2022-07-14T17:37:40.903375",
     "status": "completed"
    },
    "tags": []
   },
   "outputs": [],
   "source": [
    "onnx_inference_session = read_onnx(\n",
    "    datalake_root(P)\n",
    "    / \"models\"\n",
    "    / f\"nr_train_images={P['task.nr_train_images']}\"\n",
    "    / \"model.onnx\"\n",
    ")"
   ]
  },
  {
   "cell_type": "markdown",
   "id": "103a20f3",
   "metadata": {
    "papermill": {
     "duration": 0.012711,
     "end_time": "2022-07-14T17:37:40.941438",
     "exception": false,
     "start_time": "2022-07-14T17:37:40.928727",
     "status": "completed"
    },
    "tags": []
   },
   "source": [
    "### Record structure of inputs and outputs for ONNX model\n",
    "\n",
    "(this should likely be done in training notebook)"
   ]
  },
  {
   "cell_type": "code",
   "execution_count": 8,
   "id": "0f3f8a11",
   "metadata": {
    "execution": {
     "iopub.execute_input": "2022-07-14T17:37:40.961020Z",
     "iopub.status.busy": "2022-07-14T17:37:40.960769Z",
     "iopub.status.idle": "2022-07-14T17:37:40.967012Z",
     "shell.execute_reply": "2022-07-14T17:37:40.966503Z"
    },
    "papermill": {
     "duration": 0.019206,
     "end_time": "2022-07-14T17:37:40.968308",
     "exception": false,
     "start_time": "2022-07-14T17:37:40.949102",
     "status": "completed"
    },
    "tags": []
   },
   "outputs": [
    {
     "name": "stdout",
     "output_type": "stream",
     "text": [
      "{\n",
      "  \"inputs\": [\n",
      "    {\n",
      "      \"name\": \"float_input_8x8_image\",\n",
      "      \"shape\": [\n",
      "        null,\n",
      "        64\n",
      "      ],\n",
      "      \"type\": \"tensor(float)\"\n",
      "    }\n",
      "  ],\n",
      "  \"outputs\": [\n",
      "    {\n",
      "      \"name\": \"output_label\",\n",
      "      \"shape\": [\n",
      "        null\n",
      "      ],\n",
      "      \"type\": \"tensor(int64)\"\n",
      "    },\n",
      "    {\n",
      "      \"name\": \"output_probability\",\n",
      "      \"shape\": [],\n",
      "      \"type\": \"seq(map(int64,tensor(float)))\"\n",
      "    }\n",
      "  ]\n",
      "}\n"
     ]
    }
   ],
   "source": [
    "import json\n",
    "\n",
    "onnx_io = json.dumps(\n",
    "    {\n",
    "        \"inputs\": get_onnx_inputs(onnx_inference_session),\n",
    "        \"outputs\": get_onnx_outputs(onnx_inference_session),\n",
    "    },\n",
    "    indent=2,\n",
    ")\n",
    "\n",
    "\n",
    "logger.log_artefact(\"onnx_io_structure.json\", onnx_io)\n",
    "print(onnx_io)"
   ]
  },
  {
   "cell_type": "markdown",
   "id": "f654f94c",
   "metadata": {
    "papermill": {
     "duration": 0.004564,
     "end_time": "2022-07-14T17:37:40.977445",
     "exception": false,
     "start_time": "2022-07-14T17:37:40.972881",
     "status": "completed"
    },
    "tags": []
   },
   "source": [
    "### Evaluate model performance on evaluation data set"
   ]
  },
  {
   "cell_type": "code",
   "execution_count": 9,
   "id": "f139ff04",
   "metadata": {
    "execution": {
     "iopub.execute_input": "2022-07-14T17:37:40.989155Z",
     "iopub.status.busy": "2022-07-14T17:37:40.988937Z",
     "iopub.status.idle": "2022-07-14T17:37:40.993114Z",
     "shell.execute_reply": "2022-07-14T17:37:40.992550Z"
    },
    "papermill": {
     "duration": 0.01294,
     "end_time": "2022-07-14T17:37:40.995494",
     "exception": false,
     "start_time": "2022-07-14T17:37:40.982554",
     "status": "completed"
    },
    "tags": []
   },
   "outputs": [],
   "source": [
    "# load evaluation data\n",
    "X_test = read_numpy(datalake_root(P) / \"test-data\" / \"digits.numpy\")\n",
    "y_test = read_numpy(datalake_root(P) / \"test-data\" / \"labels.numpy\")"
   ]
  },
  {
   "cell_type": "code",
   "execution_count": 10,
   "id": "e75bf987",
   "metadata": {
    "execution": {
     "iopub.execute_input": "2022-07-14T17:37:41.006037Z",
     "iopub.status.busy": "2022-07-14T17:37:41.005813Z",
     "iopub.status.idle": "2022-07-14T17:37:41.018501Z",
     "shell.execute_reply": "2022-07-14T17:37:41.017894Z"
    },
    "papermill": {
     "duration": 0.019459,
     "end_time": "2022-07-14T17:37:41.020161",
     "exception": false,
     "start_time": "2022-07-14T17:37:41.000702",
     "status": "completed"
    },
    "tags": []
   },
   "outputs": [],
   "source": [
    "def get_model_outputs(X, onnx_inference_session):\n",
    "    y_pred_labels, y_pred_map = onnx_inference_session.run(\n",
    "        [\"output_label\", \"output_probability\"],\n",
    "        {\"float_input_8x8_image\": X.astype(np.float32)},\n",
    "    )\n",
    "    y_pred_probs = np.array(\n",
    "        [[probabilities[digit] for digit in range(10)] for probabilities in y_pred_map]\n",
    "    )\n",
    "\n",
    "    assert y_pred_labels.shape == (X.shape[0],)\n",
    "    assert y_pred_probs.shape == (X.shape[0], 10)\n",
    "\n",
    "    return y_pred_labels, y_pred_probs\n",
    "\n",
    "\n",
    "# Note: as shown in the training notebook, the predicted labels and probabilities\n",
    "# computed below need not be compatible.\n",
    "y_pred_labels_test, y_pred_probs_test = get_model_outputs(\n",
    "    X_test, onnx_inference_session\n",
    ")"
   ]
  },
  {
   "cell_type": "markdown",
   "id": "880be1c8",
   "metadata": {
    "papermill": {
     "duration": 0.00435,
     "end_time": "2022-07-14T17:37:41.028970",
     "exception": false,
     "start_time": "2022-07-14T17:37:41.024620",
     "status": "completed"
    },
    "tags": []
   },
   "source": [
    "### Confusion matrix"
   ]
  },
  {
   "cell_type": "code",
   "execution_count": 11,
   "id": "919cafcb",
   "metadata": {
    "execution": {
     "iopub.execute_input": "2022-07-14T17:37:41.038460Z",
     "iopub.status.busy": "2022-07-14T17:37:41.038234Z",
     "iopub.status.idle": "2022-07-14T17:37:41.041060Z",
     "shell.execute_reply": "2022-07-14T17:37:41.040552Z"
    },
    "papermill": {
     "duration": 0.010058,
     "end_time": "2022-07-14T17:37:41.043437",
     "exception": false,
     "start_time": "2022-07-14T17:37:41.033379",
     "status": "completed"
    },
    "tags": []
   },
   "outputs": [],
   "source": [
    "# TODO"
   ]
  },
  {
   "cell_type": "markdown",
   "id": "b47a15ce",
   "metadata": {
    "papermill": {
     "duration": 0.004299,
     "end_time": "2022-07-14T17:37:41.052180",
     "exception": false,
     "start_time": "2022-07-14T17:37:41.047881",
     "status": "completed"
    },
    "tags": []
   },
   "source": [
    "### Plot predicted probabilities for each classifier over all evaluation digit images"
   ]
  },
  {
   "cell_type": "code",
   "execution_count": 12,
   "id": "e2ca41f6",
   "metadata": {
    "execution": {
     "iopub.execute_input": "2022-07-14T17:37:41.063541Z",
     "iopub.status.busy": "2022-07-14T17:37:41.063329Z",
     "iopub.status.idle": "2022-07-14T17:37:44.007372Z",
     "shell.execute_reply": "2022-07-14T17:37:44.006855Z"
    },
    "papermill": {
     "duration": 2.952157,
     "end_time": "2022-07-14T17:37:44.008848",
     "exception": false,
     "start_time": "2022-07-14T17:37:41.056691",
     "status": "completed"
    },
    "tags": []
   },
   "outputs": [
    {
     "data": {
      "image/png": "[encoded data removed]",
      "text/plain": [
       "<Figure size 1152x432 with 10 Axes>"
      ]
     },
     "metadata": {
      "needs_background": "light"
     },
     "output_type": "display_data"
    }
   ],
   "source": [
    "def plot_per_digit_probabilities(y_pred_probs):\n",
    "    fig, axs = plt.subplots(nrows=2, ncols=5, figsize=(16, 6))\n",
    "\n",
    "    for (r, c), digit, ax in zip(\n",
    "        it.product(range(2), range(5)), range(10), axs.reshape(-1)\n",
    "    ):\n",
    "        ax.hist(y_pred_probs_test[:, digit], bins=20)\n",
    "\n",
    "        ax.set_title(f\"Digit {digit}\")\n",
    "        if r == 1 and c == 2:\n",
    "            ax.set_xlabel(\"probability\", fontsize=16)\n",
    "\n",
    "        if c == 0:\n",
    "            ax.set_ylabel(\"counts\", fontsize=16)\n",
    "        ax.set_yscale(\"log\")\n",
    "\n",
    "    fig.tight_layout()\n",
    "    fig.suptitle(\n",
    "        f\"Distributions of prediction probabilities for each digit \"\n",
    "        f\"(on evaluation data, n={y_pred_probs.shape[0]})\",\n",
    "        fontsize=20,\n",
    "    )\n",
    "    fig.tight_layout()\n",
    "    fig.show()\n",
    "\n",
    "    return fig\n",
    "\n",
    "\n",
    "fig = plot_per_digit_probabilities(y_pred_probs_test)"
   ]
  },
  {
   "cell_type": "markdown",
   "id": "54506118",
   "metadata": {
    "papermill": {
     "duration": 0.004756,
     "end_time": "2022-07-14T17:37:44.019255",
     "exception": false,
     "start_time": "2022-07-14T17:37:44.014499",
     "status": "completed"
    },
    "tags": []
   },
   "source": [
    "From the above distributions we see that most digits have clear separation between\n",
    "high and lower probabilities. Morover, in each case there is roughly an order of\n",
    "magnitude more of digits with low probabilities. This is compatible with digits\n",
    "being roughly evenly distributed in the data."
   ]
  },
  {
   "cell_type": "code",
   "execution_count": 13,
   "id": "165c66f5",
   "metadata": {
    "execution": {
     "iopub.execute_input": "2022-07-14T17:37:44.030073Z",
     "iopub.status.busy": "2022-07-14T17:37:44.029762Z",
     "iopub.status.idle": "2022-07-14T17:37:44.429806Z",
     "shell.execute_reply": "2022-07-14T17:37:44.429150Z"
    },
    "papermill": {
     "duration": 0.40738,
     "end_time": "2022-07-14T17:37:44.431502",
     "exception": false,
     "start_time": "2022-07-14T17:37:44.024122",
     "status": "completed"
    },
    "tags": []
   },
   "outputs": [],
   "source": [
    "logger.log_figure(\"per-digit-probabilities.png\", fig)"
   ]
  },
  {
   "cell_type": "markdown",
   "id": "5618267f",
   "metadata": {
    "papermill": {
     "duration": 0.004663,
     "end_time": "2022-07-14T17:37:44.441349",
     "exception": false,
     "start_time": "2022-07-14T17:37:44.436686",
     "status": "completed"
    },
    "tags": []
   },
   "source": [
    "### Plot ROC curves for individual one-vs-rest classifiers"
   ]
  },
  {
   "cell_type": "code",
   "execution_count": 14,
   "id": "ef3b8b13",
   "metadata": {
    "execution": {
     "iopub.execute_input": "2022-07-14T17:37:44.452320Z",
     "iopub.status.busy": "2022-07-14T17:37:44.451873Z",
     "iopub.status.idle": "2022-07-14T17:37:44.850977Z",
     "shell.execute_reply": "2022-07-14T17:37:44.850233Z"
    },
    "papermill": {
     "duration": 0.406548,
     "end_time": "2022-07-14T17:37:44.852681",
     "exception": false,
     "start_time": "2022-07-14T17:37:44.446133",
     "status": "completed"
    },
    "tags": []
   },
   "outputs": [],
   "source": [
    "from sklearn import metrics"
   ]
  },
  {
   "cell_type": "code",
   "execution_count": 15,
   "id": "1051c890",
   "metadata": {
    "execution": {
     "iopub.execute_input": "2022-07-14T17:37:44.867848Z",
     "iopub.status.busy": "2022-07-14T17:37:44.865034Z",
     "iopub.status.idle": "2022-07-14T17:37:45.895150Z",
     "shell.execute_reply": "2022-07-14T17:37:45.894421Z"
    },
    "papermill": {
     "duration": 1.038587,
     "end_time": "2022-07-14T17:37:45.896982",
     "exception": false,
     "start_time": "2022-07-14T17:37:44.858395",
     "status": "completed"
    },
    "tags": []
   },
   "outputs": [
    {
     "data": {
      "image/png": "[encoded data removed]",
      "text/plain": [
       "<Figure size 1152x576 with 10 Axes>"
      ]
     },
     "metadata": {
      "needs_background": "light"
     },
     "output_type": "display_data"
    }
   ],
   "source": [
    "def plot_roc_curves(y, y_pred_probs):\n",
    "    # based on example code\n",
    "    # https://scikit-learn.org/stable/auto_examples/model_selection/plot_roc.html\n",
    "\n",
    "    fig, axs = plt.subplots(nrows=2, ncols=5, figsize=(16, 8))\n",
    "\n",
    "    roc_auc_dict = {}\n",
    "\n",
    "    for (r, c), digit, ax in zip(\n",
    "        it.product(range(2), range(5)), range(10), axs.reshape(-1)\n",
    "    ):\n",
    "        fpr, tpr, _ = metrics.roc_curve(y == digit, y_pred_probs[:, digit])\n",
    "        auc = metrics.auc(fpr, tpr)\n",
    "        roc_auc_dict[str(digit)] = auc\n",
    "\n",
    "        ax.plot(fpr, tpr, label=f\"ROC AUC={round(auc, 3)}\")\n",
    "\n",
    "        ax.set_title(f\"\\nDigit {digit}\", fontsize=16)\n",
    "        if r == 1:\n",
    "            ax.set_xlabel(\"FPR\", fontsize=18)\n",
    "\n",
    "        if c == 0:\n",
    "            ax.set_ylabel(\"TPR\", fontsize=18)\n",
    "\n",
    "        ax.set_xlim([-0.05, 1.05])\n",
    "        ax.set_ylim([-0.05, 1.05])\n",
    "        ax.legend(loc=\"lower right\", frameon=False, fontsize=14)\n",
    "\n",
    "    fig.tight_layout()\n",
    "    fig.suptitle(\n",
    "        f\"ROC plots for one-vs-rest performances \"\n",
    "        f\"(on evaluation data, n={y_pred_probs_test.shape[1]}\",\n",
    "        fontsize=22,\n",
    "    )\n",
    "    fig.tight_layout()\n",
    "    fig.show()\n",
    "\n",
    "    return roc_auc_dict, fig\n",
    "\n",
    "\n",
    "roc_auc_dict, fig = plot_roc_curves(y_test, y_pred_probs_test)"
   ]
  },
  {
   "cell_type": "code",
   "execution_count": 16,
   "id": "ea95947f",
   "metadata": {
    "execution": {
     "iopub.execute_input": "2022-07-14T17:37:45.910008Z",
     "iopub.status.busy": "2022-07-14T17:37:45.909707Z",
     "iopub.status.idle": "2022-07-14T17:37:46.123563Z",
     "shell.execute_reply": "2022-07-14T17:37:46.122837Z"
    },
    "papermill": {
     "duration": 0.222504,
     "end_time": "2022-07-14T17:37:46.125892",
     "exception": false,
     "start_time": "2022-07-14T17:37:45.903388",
     "status": "completed"
    },
    "tags": []
   },
   "outputs": [],
   "source": [
    "logger.log_figure(\"per-digit-roc-curves.png\", fig)"
   ]
  },
  {
   "cell_type": "code",
   "execution_count": 17,
   "id": "4175c120",
   "metadata": {
    "execution": {
     "iopub.execute_input": "2022-07-14T17:37:46.139115Z",
     "iopub.status.busy": "2022-07-14T17:37:46.138810Z",
     "iopub.status.idle": "2022-07-14T17:37:46.143496Z",
     "shell.execute_reply": "2022-07-14T17:37:46.142884Z"
    },
    "papermill": {
     "duration": 0.014536,
     "end_time": "2022-07-14T17:37:46.146448",
     "exception": false,
     "start_time": "2022-07-14T17:37:46.131912",
     "status": "completed"
    },
    "tags": []
   },
   "outputs": [
    {
     "data": {
      "text/plain": [
       "{'0': 1.0,\n",
       " '1': 0.9991377694470478,\n",
       " '2': 1.0,\n",
       " '3': 0.9998125585754452,\n",
       " '4': 0.9991617131534827,\n",
       " '5': 0.9987628865979381,\n",
       " '6': 0.999923792104862,\n",
       " '7': 0.9998475842097241,\n",
       " '8': 0.9944041614123581,\n",
       " '9': 0.998704465782655}"
      ]
     },
     "execution_count": 17,
     "metadata": {},
     "output_type": "execute_result"
    }
   ],
   "source": [
    "roc_auc_dict"
   ]
  },
  {
   "cell_type": "code",
   "execution_count": 18,
   "id": "47ce5bda",
   "metadata": {
    "execution": {
     "iopub.execute_input": "2022-07-14T17:37:46.158967Z",
     "iopub.status.busy": "2022-07-14T17:37:46.158688Z",
     "iopub.status.idle": "2022-07-14T17:37:46.162612Z",
     "shell.execute_reply": "2022-07-14T17:37:46.161993Z"
    },
    "papermill": {
     "duration": 0.01382,
     "end_time": "2022-07-14T17:37:46.165619",
     "exception": false,
     "start_time": "2022-07-14T17:37:46.151799",
     "status": "completed"
    },
    "tags": []
   },
   "outputs": [
    {
     "name": "stdout",
     "output_type": "stream",
     "text": [
      " - Logging roc_auc_per_digit (json) : {'0': 1.0, '1': 0.9991377694470478, '2': 1.0, '3': 0.9998125585754452, '4': 0.9991617131534827, '5': 0.9987628865979381, '6': 0.999923792104862, '7': 0.9998475842097241, '8': 0.9944041614123581, '9': 0.998704465782655}\n"
     ]
    }
   ],
   "source": [
    "logger.log_value(\"roc_auc_per_digit\", roc_auc_dict)"
   ]
  },
  {
   "cell_type": "markdown",
   "id": "057046c6",
   "metadata": {
    "papermill": {
     "duration": 0.006011,
     "end_time": "2022-07-14T17:37:46.176959",
     "exception": false,
     "start_time": "2022-07-14T17:37:46.170948",
     "status": "completed"
    },
    "tags": []
   },
   "source": [
    "### Compute and log mean ROC AUC score averaged over all digits"
   ]
  },
  {
   "cell_type": "code",
   "execution_count": 19,
   "id": "c0730c2d",
   "metadata": {
    "execution": {
     "iopub.execute_input": "2022-07-14T17:37:46.190050Z",
     "iopub.status.busy": "2022-07-14T17:37:46.189721Z",
     "iopub.status.idle": "2022-07-14T17:37:46.207687Z",
     "shell.execute_reply": "2022-07-14T17:37:46.206995Z"
    },
    "papermill": {
     "duration": 0.026665,
     "end_time": "2022-07-14T17:37:46.209363",
     "exception": false,
     "start_time": "2022-07-14T17:37:46.182698",
     "status": "completed"
    },
    "tags": []
   },
   "outputs": [
    {
     "name": "stdout",
     "output_type": "stream",
     "text": [
      " - Logging roc_auc_class_mean (float) : 0.9989754931283514\n"
     ]
    }
   ],
   "source": [
    "roc_auc_macro = np.mean(list(roc_auc_dict.values()))\n",
    "\n",
    "logger.log_float(\"roc_auc_class_mean\", roc_auc_macro)\n",
    "\n",
    "# assert that the same value can be computed directly using sklearn\n",
    "assert roc_auc_macro == metrics.roc_auc_score(\n",
    "    y_test, y_pred_probs_test, average=\"macro\", multi_class=\"ovr\"\n",
    ")"
   ]
  },
  {
   "cell_type": "code",
   "execution_count": 20,
   "id": "7e16bb92",
   "metadata": {
    "execution": {
     "iopub.execute_input": "2022-07-14T17:37:46.222807Z",
     "iopub.status.busy": "2022-07-14T17:37:46.222479Z",
     "iopub.status.idle": "2022-07-14T17:37:46.225421Z",
     "shell.execute_reply": "2022-07-14T17:37:46.224805Z"
    },
    "lines_to_next_cell": 0,
    "papermill": {
     "duration": 0.012387,
     "end_time": "2022-07-14T17:37:46.227672",
     "exception": false,
     "start_time": "2022-07-14T17:37:46.215285",
     "status": "completed"
    },
    "tags": []
   },
   "outputs": [],
   "source": [
    "# ---"
   ]
  },
  {
   "cell_type": "code",
   "execution_count": null,
   "id": "e410e35d",
   "metadata": {
    "papermill": {
     "duration": 0.006205,
     "end_time": "2022-07-14T17:37:46.239980",
     "exception": false,
     "start_time": "2022-07-14T17:37:46.233775",
     "status": "completed"
    },
    "tags": []
   },
   "outputs": [],
   "source": []
  }
 ],
 "metadata": {
  "jupytext": {
   "cell_metadata_filter": "tags,-all",
   "main_language": "python",
   "notebook_metadata_filter": "-all"
  },
  "language_info": {
   "codemirror_mode": {
    "name": "ipython",
    "version": 3
   },
   "file_extension": ".py",
   "mimetype": "text/x-python",
   "name": "python",
   "nbconvert_exporter": "python",
   "pygments_lexer": "ipython3",
   "version": "3.8.10"
  },
  "papermill": {
   "default_parameters": {},
   "duration": 8.649326,
   "end_time": "2022-07-14T17:37:47.063057",
   "environment_variables": {},
   "exception": null,
   "input_path": "/home/host_user/workspace/mnist-demo-pipeline/mnist-demo-pipeline/notebooks/temp-notebook-owo13yag.ipynb",
   "output_path": "notebooks/benchmark-model.ipynb",
   "parameters": {
    "P": {
     "_opentelemetry_traceparent": "00-8ed032a1273b4d8d9ed85f02e5fe0471-22a6a0afc85f0349-01",
     "pipeline.data_lake_root": "/pipeline-outputs/data-lake",
     "pipeline.github.actor": "matiasdahl",
     "pipeline.github.base_ref": "",
     "pipeline.github.event_name": "schedule",
     "pipeline.github.head_ref": "",
     "pipeline.github.job": "run-tests-pipeline-and-persist-pipeline-outputs",
     "pipeline.github.ref": "refs/heads/development",
     "pipeline.github.ref_name": "development",
     "pipeline.github.ref_type": "branch",
     "pipeline.github.repository": "pynb-dag-runner/mnist-digits-demo-pipeline",
     "pipeline.github.run_id": "2668450777",
     "pipeline.github.runner_name": "GitHub Actions 2",
     "pipeline.github.sha": "147a1be9916173fd4d2cd011d8d51e3411215850",
     "pipeline.github.workflow": "Run automated tests, pipeline and deploy results to static reporting site",
     "pipeline.pipeline_run_id": "a6c4c4ae-4fdd-40fb-8a52-6e3e3984e925",
     "pipeline.run_environment": "ci",
     "run.retry_nr": "0",
     "task.max_nr_retries": "1",
     "task.notebook": "notebooks/benchmark-model.py",
     "task.nr_train_images": 600,
     "task.num_cpus": 1,
     "task.timeout_s": "None"
    }
   },
   "start_time": "2022-07-14T17:37:38.413731",
   "version": "2.3.3"
  }
 },
 "nbformat": 4,
 "nbformat_minor": 5
}