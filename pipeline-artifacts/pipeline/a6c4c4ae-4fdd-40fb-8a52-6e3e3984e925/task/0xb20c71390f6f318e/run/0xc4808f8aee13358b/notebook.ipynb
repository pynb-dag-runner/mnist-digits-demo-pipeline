{
 "cells": [
  {
   "cell_type": "markdown",
   "id": "7d49bbb0",
   "metadata": {
    "papermill": {
     "duration": 0.00541,
     "end_time": "2022-07-14T17:37:49.662761",
     "exception": false,
     "start_time": "2022-07-14T17:37:49.657351",
     "status": "completed"
    },
    "tags": []
   },
   "source": [
    "# Benchmark model\n",
    "\n",
    "The purpose of this notebook is to benchmark persisted onnx-model (trained in the\n",
    "previous step) against evaluation set."
   ]
  },
  {
   "cell_type": "markdown",
   "id": "8bef0adf",
   "metadata": {
    "papermill": {
     "duration": 0.003893,
     "end_time": "2022-07-14T17:37:49.671466",
     "exception": false,
     "start_time": "2022-07-14T17:37:49.667573",
     "status": "completed"
    },
    "tags": []
   },
   "source": [
    "### Determine run parameters"
   ]
  },
  {
   "cell_type": "code",
   "execution_count": 1,
   "id": "7ad9f951",
   "metadata": {
    "execution": {
     "iopub.execute_input": "2022-07-14T17:37:49.682025Z",
     "iopub.status.busy": "2022-07-14T17:37:49.681627Z",
     "iopub.status.idle": "2022-07-14T17:37:49.692233Z",
     "shell.execute_reply": "2022-07-14T17:37:49.691725Z"
    },
    "lines_to_next_cell": 0,
    "papermill": {
     "duration": 0.019255,
     "end_time": "2022-07-14T17:37:49.694530",
     "exception": false,
     "start_time": "2022-07-14T17:37:49.675275",
     "status": "completed"
    },
    "tags": []
   },
   "outputs": [],
   "source": [
    "# ----------------- Parameters for interactive development --------------\n",
    "P = {\n",
    "    \"pipeline.data_lake_root\": \"/pipeline-outputs/data-lake\",\n",
    "    \"task.nr_train_images\": 600,\n",
    "}"
   ]
  },
  {
   "cell_type": "code",
   "execution_count": 2,
   "id": "ff451de7",
   "metadata": {
    "execution": {
     "iopub.execute_input": "2022-07-14T17:37:49.705853Z",
     "iopub.status.busy": "2022-07-14T17:37:49.705644Z",
     "iopub.status.idle": "2022-07-14T17:37:49.709022Z",
     "shell.execute_reply": "2022-07-14T17:37:49.708370Z"
    },
    "lines_to_next_cell": 0,
    "papermill": {
     "duration": 0.010632,
     "end_time": "2022-07-14T17:37:49.711211",
     "exception": false,
     "start_time": "2022-07-14T17:37:49.700579",
     "status": "completed"
    },
    "tags": [
     "parameters"
    ]
   },
   "outputs": [],
   "source": [
    "# - During automated runs parameters will be injected in the below cell -"
   ]
  },
  {
   "cell_type": "code",
   "execution_count": 3,
   "id": "8399ce13",
   "metadata": {
    "execution": {
     "iopub.execute_input": "2022-07-14T17:37:49.721484Z",
     "iopub.status.busy": "2022-07-14T17:37:49.721279Z",
     "iopub.status.idle": "2022-07-14T17:37:49.725449Z",
     "shell.execute_reply": "2022-07-14T17:37:49.724970Z"
    },
    "papermill": {
     "duration": 0.012905,
     "end_time": "2022-07-14T17:37:49.728453",
     "exception": false,
     "start_time": "2022-07-14T17:37:49.715548",
     "status": "completed"
    },
    "tags": [
     "injected-parameters"
    ]
   },
   "outputs": [],
   "source": [
    "# Parameters\n",
    "P = {\n",
    "    \"pipeline.data_lake_root\": \"/pipeline-outputs/data-lake\",\n",
    "    \"pipeline.run_environment\": \"ci\",\n",
    "    \"pipeline.pipeline_run_id\": \"a6c4c4ae-4fdd-40fb-8a52-6e3e3984e925\",\n",
    "    \"pipeline.github.repository\": \"pynb-dag-runner/mnist-digits-demo-pipeline\",\n",
    "    \"pipeline.github.workflow\": \"Run automated tests, pipeline and deploy results to static reporting site\",\n",
    "    \"pipeline.github.runner_name\": \"GitHub Actions 2\",\n",
    "    \"pipeline.github.run_id\": \"2668450777\",\n",
    "    \"pipeline.github.actor\": \"matiasdahl\",\n",
    "    \"pipeline.github.job\": \"run-tests-pipeline-and-persist-pipeline-outputs\",\n",
    "    \"pipeline.github.base_ref\": \"\",\n",
    "    \"pipeline.github.head_ref\": \"\",\n",
    "    \"pipeline.github.sha\": \"147a1be9916173fd4d2cd011d8d51e3411215850\",\n",
    "    \"pipeline.github.ref\": \"refs/heads/development\",\n",
    "    \"pipeline.github.ref_type\": \"branch\",\n",
    "    \"pipeline.github.ref_name\": \"development\",\n",
    "    \"pipeline.github.event_name\": \"schedule\",\n",
    "    \"task.nr_train_images\": 1000,\n",
    "    \"task.notebook\": \"notebooks/benchmark-model.py\",\n",
    "    \"task.max_nr_retries\": \"1\",\n",
    "    \"run.retry_nr\": \"0\",\n",
    "    \"task.timeout_s\": \"None\",\n",
    "    \"task.num_cpus\": 1,\n",
    "    \"_opentelemetry_traceparent\": \"00-8ed032a1273b4d8d9ed85f02e5fe0471-f6240c8def632f63-01\",\n",
    "}\n"
   ]
  },
  {
   "cell_type": "code",
   "execution_count": 4,
   "id": "a76fe542",
   "metadata": {
    "execution": {
     "iopub.execute_input": "2022-07-14T17:37:49.739577Z",
     "iopub.status.busy": "2022-07-14T17:37:49.739074Z",
     "iopub.status.idle": "2022-07-14T17:37:49.741899Z",
     "shell.execute_reply": "2022-07-14T17:37:49.741316Z"
    },
    "lines_to_next_cell": 0,
    "papermill": {
     "duration": 0.010268,
     "end_time": "2022-07-14T17:37:49.743328",
     "exception": false,
     "start_time": "2022-07-14T17:37:49.733060",
     "status": "completed"
    },
    "tags": []
   },
   "outputs": [],
   "source": [
    "# -----------------------------------------------------------------------"
   ]
  },
  {
   "cell_type": "markdown",
   "id": "2a03fe0d",
   "metadata": {
    "papermill": {
     "duration": 0.003933,
     "end_time": "2022-07-14T17:37:49.751203",
     "exception": false,
     "start_time": "2022-07-14T17:37:49.747270",
     "status": "completed"
    },
    "tags": []
   },
   "source": [
    "---"
   ]
  },
  {
   "cell_type": "markdown",
   "id": "f86aec06",
   "metadata": {
    "lines_to_next_cell": 2,
    "papermill": {
     "duration": 0.003969,
     "end_time": "2022-07-14T17:37:49.759011",
     "exception": false,
     "start_time": "2022-07-14T17:37:49.755042",
     "status": "completed"
    },
    "tags": []
   },
   "source": [
    "### Notebook code"
   ]
  },
  {
   "cell_type": "code",
   "execution_count": 5,
   "id": "a601a793",
   "metadata": {
    "execution": {
     "iopub.execute_input": "2022-07-14T17:37:49.768093Z",
     "iopub.status.busy": "2022-07-14T17:37:49.767695Z",
     "iopub.status.idle": "2022-07-14T17:37:50.843842Z",
     "shell.execute_reply": "2022-07-14T17:37:50.843160Z"
    },
    "papermill": {
     "duration": 1.08265,
     "end_time": "2022-07-14T17:37:50.845550",
     "exception": false,
     "start_time": "2022-07-14T17:37:49.762900",
     "status": "completed"
    },
    "tags": []
   },
   "outputs": [
    {
     "name": "stderr",
     "output_type": "stream",
     "text": [
      "2022-07-14 17:37:50,651\tINFO worker.py:842 -- Connecting to existing Ray cluster at address: 172.17.0.2:6379\n"
     ]
    }
   ],
   "source": [
    "import itertools as it\n",
    "\n",
    "#\n",
    "import numpy as np\n",
    "import matplotlib.pyplot as plt\n",
    "\n",
    "#\n",
    "from pynb_dag_runner.tasks.task_opentelemetry_logging import PydarLogger\n",
    "\n",
    "#\n",
    "from common.io import datalake_root\n",
    "\n",
    "logger = PydarLogger(P)"
   ]
  },
  {
   "cell_type": "markdown",
   "id": "5103e99f",
   "metadata": {
    "papermill": {
     "duration": 0.00418,
     "end_time": "2022-07-14T17:37:50.857077",
     "exception": false,
     "start_time": "2022-07-14T17:37:50.852897",
     "status": "completed"
    },
    "tags": []
   },
   "source": [
    "## Load persisted onnx-model and evaluation data"
   ]
  },
  {
   "cell_type": "code",
   "execution_count": 6,
   "id": "f2316f2f",
   "metadata": {
    "execution": {
     "iopub.execute_input": "2022-07-14T17:37:50.867006Z",
     "iopub.status.busy": "2022-07-14T17:37:50.866693Z",
     "iopub.status.idle": "2022-07-14T17:37:50.870169Z",
     "shell.execute_reply": "2022-07-14T17:37:50.869558Z"
    },
    "papermill": {
     "duration": 0.011022,
     "end_time": "2022-07-14T17:37:50.872868",
     "exception": false,
     "start_time": "2022-07-14T17:37:50.861846",
     "status": "completed"
    },
    "tags": []
   },
   "outputs": [],
   "source": [
    "from common.io import read_onnx, get_onnx_inputs, get_onnx_outputs, read_numpy"
   ]
  },
  {
   "cell_type": "code",
   "execution_count": 7,
   "id": "a61c1574",
   "metadata": {
    "execution": {
     "iopub.execute_input": "2022-07-14T17:37:50.882650Z",
     "iopub.status.busy": "2022-07-14T17:37:50.882361Z",
     "iopub.status.idle": "2022-07-14T17:37:50.893714Z",
     "shell.execute_reply": "2022-07-14T17:37:50.893108Z"
    },
    "lines_to_next_cell": 0,
    "papermill": {
     "duration": 0.018283,
     "end_time": "2022-07-14T17:37:50.895209",
     "exception": false,
     "start_time": "2022-07-14T17:37:50.876926",
     "status": "completed"
    },
    "tags": []
   },
   "outputs": [],
   "source": [
    "onnx_inference_session = read_onnx(\n",
    "    datalake_root(P)\n",
    "    / \"models\"\n",
    "    / f\"nr_train_images={P['task.nr_train_images']}\"\n",
    "    / \"model.onnx\"\n",
    ")"
   ]
  },
  {
   "cell_type": "markdown",
   "id": "8672bf0b",
   "metadata": {
    "papermill": {
     "duration": 0.003959,
     "end_time": "2022-07-14T17:37:50.903034",
     "exception": false,
     "start_time": "2022-07-14T17:37:50.899075",
     "status": "completed"
    },
    "tags": []
   },
   "source": [
    "### Record structure of inputs and outputs for ONNX model\n",
    "\n",
    "(this should likely be done in training notebook)"
   ]
  },
  {
   "cell_type": "code",
   "execution_count": 8,
   "id": "26bb55ce",
   "metadata": {
    "execution": {
     "iopub.execute_input": "2022-07-14T17:37:50.915295Z",
     "iopub.status.busy": "2022-07-14T17:37:50.915013Z",
     "iopub.status.idle": "2022-07-14T17:37:50.920954Z",
     "shell.execute_reply": "2022-07-14T17:37:50.920225Z"
    },
    "papermill": {
     "duration": 0.01681,
     "end_time": "2022-07-14T17:37:50.923835",
     "exception": false,
     "start_time": "2022-07-14T17:37:50.907025",
     "status": "completed"
    },
    "tags": []
   },
   "outputs": [
    {
     "name": "stdout",
     "output_type": "stream",
     "text": [
      "{\n",
      "  \"inputs\": [\n",
      "    {\n",
      "      \"name\": \"float_input_8x8_image\",\n",
      "      \"shape\": [\n",
      "        null,\n",
      "        64\n",
      "      ],\n",
      "      \"type\": \"tensor(float)\"\n",
      "    }\n",
      "  ],\n",
      "  \"outputs\": [\n",
      "    {\n",
      "      \"name\": \"output_label\",\n",
      "      \"shape\": [\n",
      "        null\n",
      "      ],\n",
      "      \"type\": \"tensor(int64)\"\n",
      "    },\n",
      "    {\n",
      "      \"name\": \"output_probability\",\n",
      "      \"shape\": [],\n",
      "      \"type\": \"seq(map(int64,tensor(float)))\"\n",
      "    }\n",
      "  ]\n",
      "}\n"
     ]
    }
   ],
   "source": [
    "import json\n",
    "\n",
    "onnx_io = json.dumps(\n",
    "    {\n",
    "        \"inputs\": get_onnx_inputs(onnx_inference_session),\n",
    "        \"outputs\": get_onnx_outputs(onnx_inference_session),\n",
    "    },\n",
    "    indent=2,\n",
    ")\n",
    "\n",
    "\n",
    "logger.log_artefact(\"onnx_io_structure.json\", onnx_io)\n",
    "print(onnx_io)"
   ]
  },
  {
   "cell_type": "markdown",
   "id": "e34a1d6c",
   "metadata": {
    "papermill": {
     "duration": 0.005087,
     "end_time": "2022-07-14T17:37:50.933007",
     "exception": false,
     "start_time": "2022-07-14T17:37:50.927920",
     "status": "completed"
    },
    "tags": []
   },
   "source": [
    "### Evaluate model performance on evaluation data set"
   ]
  },
  {
   "cell_type": "code",
   "execution_count": 9,
   "id": "61eba703",
   "metadata": {
    "execution": {
     "iopub.execute_input": "2022-07-14T17:37:50.943123Z",
     "iopub.status.busy": "2022-07-14T17:37:50.942483Z",
     "iopub.status.idle": "2022-07-14T17:37:50.947079Z",
     "shell.execute_reply": "2022-07-14T17:37:50.946433Z"
    },
    "papermill": {
     "duration": 0.012235,
     "end_time": "2022-07-14T17:37:50.949317",
     "exception": false,
     "start_time": "2022-07-14T17:37:50.937082",
     "status": "completed"
    },
    "tags": []
   },
   "outputs": [],
   "source": [
    "# load evaluation data\n",
    "X_test = read_numpy(datalake_root(P) / \"test-data\" / \"digits.numpy\")\n",
    "y_test = read_numpy(datalake_root(P) / \"test-data\" / \"labels.numpy\")"
   ]
  },
  {
   "cell_type": "code",
   "execution_count": 10,
   "id": "3ced0f61",
   "metadata": {
    "execution": {
     "iopub.execute_input": "2022-07-14T17:37:50.960079Z",
     "iopub.status.busy": "2022-07-14T17:37:50.959406Z",
     "iopub.status.idle": "2022-07-14T17:37:50.973644Z",
     "shell.execute_reply": "2022-07-14T17:37:50.972964Z"
    },
    "papermill": {
     "duration": 0.020741,
     "end_time": "2022-07-14T17:37:50.974974",
     "exception": false,
     "start_time": "2022-07-14T17:37:50.954233",
     "status": "completed"
    },
    "tags": []
   },
   "outputs": [],
   "source": [
    "def get_model_outputs(X, onnx_inference_session):\n",
    "    y_pred_labels, y_pred_map = onnx_inference_session.run(\n",
    "        [\"output_label\", \"output_probability\"],\n",
    "        {\"float_input_8x8_image\": X.astype(np.float32)},\n",
    "    )\n",
    "    y_pred_probs = np.array(\n",
    "        [[probabilities[digit] for digit in range(10)] for probabilities in y_pred_map]\n",
    "    )\n",
    "\n",
    "    assert y_pred_labels.shape == (X.shape[0],)\n",
    "    assert y_pred_probs.shape == (X.shape[0], 10)\n",
    "\n",
    "    return y_pred_labels, y_pred_probs\n",
    "\n",
    "\n",
    "# Note: as shown in the training notebook, the predicted labels and probabilities\n",
    "# computed below need not be compatible.\n",
    "y_pred_labels_test, y_pred_probs_test = get_model_outputs(\n",
    "    X_test, onnx_inference_session\n",
    ")"
   ]
  },
  {
   "cell_type": "markdown",
   "id": "791dbca6",
   "metadata": {
    "papermill": {
     "duration": 0.00485,
     "end_time": "2022-07-14T17:37:50.984242",
     "exception": false,
     "start_time": "2022-07-14T17:37:50.979392",
     "status": "completed"
    },
    "tags": []
   },
   "source": [
    "### Confusion matrix"
   ]
  },
  {
   "cell_type": "code",
   "execution_count": 11,
   "id": "27d8b629",
   "metadata": {
    "execution": {
     "iopub.execute_input": "2022-07-14T17:37:50.994703Z",
     "iopub.status.busy": "2022-07-14T17:37:50.994353Z",
     "iopub.status.idle": "2022-07-14T17:37:50.997385Z",
     "shell.execute_reply": "2022-07-14T17:37:50.996760Z"
    },
    "papermill": {
     "duration": 0.010187,
     "end_time": "2022-07-14T17:37:50.998992",
     "exception": false,
     "start_time": "2022-07-14T17:37:50.988805",
     "status": "completed"
    },
    "tags": []
   },
   "outputs": [],
   "source": [
    "# TODO"
   ]
  },
  {
   "cell_type": "markdown",
   "id": "b6740509",
   "metadata": {
    "papermill": {
     "duration": 0.004266,
     "end_time": "2022-07-14T17:37:51.008286",
     "exception": false,
     "start_time": "2022-07-14T17:37:51.004020",
     "status": "completed"
    },
    "tags": []
   },
   "source": [
    "### Plot predicted probabilities for each classifier over all evaluation digit images"
   ]
  },
  {
   "cell_type": "code",
   "execution_count": 12,
   "id": "4c1fe518",
   "metadata": {
    "execution": {
     "iopub.execute_input": "2022-07-14T17:37:51.024496Z",
     "iopub.status.busy": "2022-07-14T17:37:51.024204Z",
     "iopub.status.idle": "2022-07-14T17:37:53.936375Z",
     "shell.execute_reply": "2022-07-14T17:37:53.934820Z"
    },
    "papermill": {
     "duration": 2.919267,
     "end_time": "2022-07-14T17:37:53.937880",
     "exception": false,
     "start_time": "2022-07-14T17:37:51.018613",
     "status": "completed"
    },
    "tags": []
   },
   "outputs": [
    {
     "data": {
      "image/png": "[encoded data removed]",
      "text/plain": [
       "<Figure size 1152x432 with 10 Axes>"
      ]
     },
     "metadata": {
      "needs_background": "light"
     },
     "output_type": "display_data"
    }
   ],
   "source": [
    "def plot_per_digit_probabilities(y_pred_probs):\n",
    "    fig, axs = plt.subplots(nrows=2, ncols=5, figsize=(16, 6))\n",
    "\n",
    "    for (r, c), digit, ax in zip(\n",
    "        it.product(range(2), range(5)), range(10), axs.reshape(-1)\n",
    "    ):\n",
    "        ax.hist(y_pred_probs_test[:, digit], bins=20)\n",
    "\n",
    "        ax.set_title(f\"Digit {digit}\")\n",
    "        if r == 1 and c == 2:\n",
    "            ax.set_xlabel(\"probability\", fontsize=16)\n",
    "\n",
    "        if c == 0:\n",
    "            ax.set_ylabel(\"counts\", fontsize=16)\n",
    "        ax.set_yscale(\"log\")\n",
    "\n",
    "    fig.tight_layout()\n",
    "    fig.suptitle(\n",
    "        f\"Distributions of prediction probabilities for each digit \"\n",
    "        f\"(on evaluation data, n={y_pred_probs.shape[0]})\",\n",
    "        fontsize=20,\n",
    "    )\n",
    "    fig.tight_layout()\n",
    "    fig.show()\n",
    "\n",
    "    return fig\n",
    "\n",
    "\n",
    "fig = plot_per_digit_probabilities(y_pred_probs_test)"
   ]
  },
  {
   "cell_type": "markdown",
   "id": "ea707f5d",
   "metadata": {
    "papermill": {
     "duration": 0.0052,
     "end_time": "2022-07-14T17:37:53.948374",
     "exception": false,
     "start_time": "2022-07-14T17:37:53.943174",
     "status": "completed"
    },
    "tags": []
   },
   "source": [
    "From the above distributions we see that most digits have clear separation between\n",
    "high and lower probabilities. Morover, in each case there is roughly an order of\n",
    "magnitude more of digits with low probabilities. This is compatible with digits\n",
    "being roughly evenly distributed in the data."
   ]
  },
  {
   "cell_type": "code",
   "execution_count": 13,
   "id": "f2bbdb08",
   "metadata": {
    "execution": {
     "iopub.execute_input": "2022-07-14T17:37:53.959450Z",
     "iopub.status.busy": "2022-07-14T17:37:53.959142Z",
     "iopub.status.idle": "2022-07-14T17:37:54.355439Z",
     "shell.execute_reply": "2022-07-14T17:37:54.354815Z"
    },
    "papermill": {
     "duration": 0.4042,
     "end_time": "2022-07-14T17:37:54.357213",
     "exception": false,
     "start_time": "2022-07-14T17:37:53.953013",
     "status": "completed"
    },
    "tags": []
   },
   "outputs": [],
   "source": [
    "logger.log_figure(\"per-digit-probabilities.png\", fig)"
   ]
  },
  {
   "cell_type": "markdown",
   "id": "c5e52672",
   "metadata": {
    "papermill": {
     "duration": 0.004735,
     "end_time": "2022-07-14T17:37:54.367245",
     "exception": false,
     "start_time": "2022-07-14T17:37:54.362510",
     "status": "completed"
    },
    "tags": []
   },
   "source": [
    "### Plot ROC curves for individual one-vs-rest classifiers"
   ]
  },
  {
   "cell_type": "code",
   "execution_count": 14,
   "id": "c320b3a6",
   "metadata": {
    "execution": {
     "iopub.execute_input": "2022-07-14T17:37:54.378766Z",
     "iopub.status.busy": "2022-07-14T17:37:54.378134Z",
     "iopub.status.idle": "2022-07-14T17:37:54.770450Z",
     "shell.execute_reply": "2022-07-14T17:37:54.769708Z"
    },
    "papermill": {
     "duration": 0.399494,
     "end_time": "2022-07-14T17:37:54.772197",
     "exception": false,
     "start_time": "2022-07-14T17:37:54.372703",
     "status": "completed"
    },
    "tags": []
   },
   "outputs": [],
   "source": [
    "from sklearn import metrics"
   ]
  },
  {
   "cell_type": "code",
   "execution_count": 15,
   "id": "39ebf9d6",
   "metadata": {
    "execution": {
     "iopub.execute_input": "2022-07-14T17:37:54.783994Z",
     "iopub.status.busy": "2022-07-14T17:37:54.783539Z",
     "iopub.status.idle": "2022-07-14T17:37:55.763920Z",
     "shell.execute_reply": "2022-07-14T17:37:55.763407Z"
    },
    "papermill": {
     "duration": 0.988047,
     "end_time": "2022-07-14T17:37:55.765572",
     "exception": false,
     "start_time": "2022-07-14T17:37:54.777525",
     "status": "completed"
    },
    "tags": []
   },
   "outputs": [
    {
     "data": {
      "image/png": "[encoded data removed]",
      "text/plain": [
       "<Figure size 1152x576 with 10 Axes>"
      ]
     },
     "metadata": {
      "needs_background": "light"
     },
     "output_type": "display_data"
    }
   ],
   "source": [
    "def plot_roc_curves(y, y_pred_probs):\n",
    "    # based on example code\n",
    "    # https://scikit-learn.org/stable/auto_examples/model_selection/plot_roc.html\n",
    "\n",
    "    fig, axs = plt.subplots(nrows=2, ncols=5, figsize=(16, 8))\n",
    "\n",
    "    roc_auc_dict = {}\n",
    "\n",
    "    for (r, c), digit, ax in zip(\n",
    "        it.product(range(2), range(5)), range(10), axs.reshape(-1)\n",
    "    ):\n",
    "        fpr, tpr, _ = metrics.roc_curve(y == digit, y_pred_probs[:, digit])\n",
    "        auc = metrics.auc(fpr, tpr)\n",
    "        roc_auc_dict[str(digit)] = auc\n",
    "\n",
    "        ax.plot(fpr, tpr, label=f\"ROC AUC={round(auc, 3)}\")\n",
    "\n",
    "        ax.set_title(f\"\\nDigit {digit}\", fontsize=16)\n",
    "        if r == 1:\n",
    "            ax.set_xlabel(\"FPR\", fontsize=18)\n",
    "\n",
    "        if c == 0:\n",
    "            ax.set_ylabel(\"TPR\", fontsize=18)\n",
    "\n",
    "        ax.set_xlim([-0.05, 1.05])\n",
    "        ax.set_ylim([-0.05, 1.05])\n",
    "        ax.legend(loc=\"lower right\", frameon=False, fontsize=14)\n",
    "\n",
    "    fig.tight_layout()\n",
    "    fig.suptitle(\n",
    "        f\"ROC plots for one-vs-rest performances \"\n",
    "        f\"(on evaluation data, n={y_pred_probs_test.shape[1]}\",\n",
    "        fontsize=22,\n",
    "    )\n",
    "    fig.tight_layout()\n",
    "    fig.show()\n",
    "\n",
    "    return roc_auc_dict, fig\n",
    "\n",
    "\n",
    "roc_auc_dict, fig = plot_roc_curves(y_test, y_pred_probs_test)"
   ]
  },
  {
   "cell_type": "code",
   "execution_count": 16,
   "id": "c78af616",
   "metadata": {
    "execution": {
     "iopub.execute_input": "2022-07-14T17:37:55.778201Z",
     "iopub.status.busy": "2022-07-14T17:37:55.777890Z",
     "iopub.status.idle": "2022-07-14T17:37:55.997527Z",
     "shell.execute_reply": "2022-07-14T17:37:55.996763Z"
    },
    "papermill": {
     "duration": 0.227985,
     "end_time": "2022-07-14T17:37:55.999406",
     "exception": false,
     "start_time": "2022-07-14T17:37:55.771421",
     "status": "completed"
    },
    "tags": []
   },
   "outputs": [],
   "source": [
    "logger.log_figure(\"per-digit-roc-curves.png\", fig)"
   ]
  },
  {
   "cell_type": "code",
   "execution_count": 17,
   "id": "7086cefb",
   "metadata": {
    "execution": {
     "iopub.execute_input": "2022-07-14T17:37:56.012985Z",
     "iopub.status.busy": "2022-07-14T17:37:56.012656Z",
     "iopub.status.idle": "2022-07-14T17:37:56.017306Z",
     "shell.execute_reply": "2022-07-14T17:37:56.016694Z"
    },
    "papermill": {
     "duration": 0.014731,
     "end_time": "2022-07-14T17:37:56.020295",
     "exception": false,
     "start_time": "2022-07-14T17:37:56.005564",
     "status": "completed"
    },
    "tags": []
   },
   "outputs": [
    {
     "data": {
      "text/plain": [
       "{'0': 1.0,\n",
       " '1': 0.998987816307404,\n",
       " '2': 1.0,\n",
       " '3': 0.9998875351452671,\n",
       " '4': 0.9996570644718793,\n",
       " '5': 0.9994001874414246,\n",
       " '6': 0.999923792104862,\n",
       " '7': 0.9997713763145862,\n",
       " '8': 0.9948376418663304,\n",
       " '9': 0.9995808565767414}"
      ]
     },
     "execution_count": 17,
     "metadata": {},
     "output_type": "execute_result"
    }
   ],
   "source": [
    "roc_auc_dict"
   ]
  },
  {
   "cell_type": "code",
   "execution_count": 18,
   "id": "a0d36ac6",
   "metadata": {
    "execution": {
     "iopub.execute_input": "2022-07-14T17:37:56.037303Z",
     "iopub.status.busy": "2022-07-14T17:37:56.036943Z",
     "iopub.status.idle": "2022-07-14T17:37:56.041923Z",
     "shell.execute_reply": "2022-07-14T17:37:56.041424Z"
    },
    "papermill": {
     "duration": 0.017179,
     "end_time": "2022-07-14T17:37:56.043319",
     "exception": false,
     "start_time": "2022-07-14T17:37:56.026140",
     "status": "completed"
    },
    "tags": []
   },
   "outputs": [
    {
     "name": "stdout",
     "output_type": "stream",
     "text": [
      " - Logging roc_auc_per_digit (json) : {'0': 1.0, '1': 0.998987816307404, '2': 1.0, '3': 0.9998875351452671, '4': 0.9996570644718793, '5': 0.9994001874414246, '6': 0.999923792104862, '7': 0.9997713763145862, '8': 0.9948376418663304, '9': 0.9995808565767414}\n"
     ]
    }
   ],
   "source": [
    "logger.log_value(\"roc_auc_per_digit\", roc_auc_dict)"
   ]
  },
  {
   "cell_type": "markdown",
   "id": "1ffb7735",
   "metadata": {
    "papermill": {
     "duration": 0.006057,
     "end_time": "2022-07-14T17:37:56.059175",
     "exception": false,
     "start_time": "2022-07-14T17:37:56.053118",
     "status": "completed"
    },
    "tags": []
   },
   "source": [
    "### Compute and log mean ROC AUC score averaged over all digits"
   ]
  },
  {
   "cell_type": "code",
   "execution_count": 19,
   "id": "456aab53",
   "metadata": {
    "execution": {
     "iopub.execute_input": "2022-07-14T17:37:56.072317Z",
     "iopub.status.busy": "2022-07-14T17:37:56.072108Z",
     "iopub.status.idle": "2022-07-14T17:37:56.085399Z",
     "shell.execute_reply": "2022-07-14T17:37:56.084659Z"
    },
    "papermill": {
     "duration": 0.022067,
     "end_time": "2022-07-14T17:37:56.087134",
     "exception": false,
     "start_time": "2022-07-14T17:37:56.065067",
     "status": "completed"
    },
    "tags": []
   },
   "outputs": [
    {
     "name": "stdout",
     "output_type": "stream",
     "text": [
      " - Logging roc_auc_class_mean (float) : 0.9992046270228496\n"
     ]
    }
   ],
   "source": [
    "roc_auc_macro = np.mean(list(roc_auc_dict.values()))\n",
    "\n",
    "logger.log_float(\"roc_auc_class_mean\", roc_auc_macro)\n",
    "\n",
    "# assert that the same value can be computed directly using sklearn\n",
    "assert roc_auc_macro == metrics.roc_auc_score(\n",
    "    y_test, y_pred_probs_test, average=\"macro\", multi_class=\"ovr\"\n",
    ")"
   ]
  },
  {
   "cell_type": "code",
   "execution_count": 20,
   "id": "14b4a260",
   "metadata": {
    "execution": {
     "iopub.execute_input": "2022-07-14T17:37:56.100669Z",
     "iopub.status.busy": "2022-07-14T17:37:56.100445Z",
     "iopub.status.idle": "2022-07-14T17:37:56.103061Z",
     "shell.execute_reply": "2022-07-14T17:37:56.102544Z"
    },
    "lines_to_next_cell": 0,
    "papermill": {
     "duration": 0.012308,
     "end_time": "2022-07-14T17:37:56.105896",
     "exception": false,
     "start_time": "2022-07-14T17:37:56.093588",
     "status": "completed"
    },
    "tags": []
   },
   "outputs": [],
   "source": [
    "# ---"
   ]
  },
  {
   "cell_type": "code",
   "execution_count": null,
   "id": "c102cf61",
   "metadata": {
    "papermill": {
     "duration": 0.005881,
     "end_time": "2022-07-14T17:37:56.117613",
     "exception": false,
     "start_time": "2022-07-14T17:37:56.111732",
     "status": "completed"
    },
    "tags": []
   },
   "outputs": [],
   "source": []
  }
 ],
 "metadata": {
  "jupytext": {
   "cell_metadata_filter": "tags,-all",
   "main_language": "python",
   "notebook_metadata_filter": "-all"
  },
  "language_info": {
   "codemirror_mode": {
    "name": "ipython",
    "version": 3
   },
   "file_extension": ".py",
   "mimetype": "text/x-python",
   "name": "python",
   "nbconvert_exporter": "python",
   "pygments_lexer": "ipython3",
   "version": "3.8.10"
  },
  "papermill": {
   "default_parameters": {},
   "duration": 8.854632,
   "end_time": "2022-07-14T17:37:57.145880",
   "environment_variables": {},
   "exception": null,
   "input_path": "/home/host_user/workspace/mnist-demo-pipeline/mnist-demo-pipeline/notebooks/temp-notebook-b84bhj4t.ipynb",
   "output_path": "notebooks/benchmark-model.ipynb",
   "parameters": {
    "P": {
     "_opentelemetry_traceparent": "00-8ed032a1273b4d8d9ed85f02e5fe0471-f6240c8def632f63-01",
     "pipeline.data_lake_root": "/pipeline-outputs/data-lake",
     "pipeline.github.actor": "matiasdahl",
     "pipeline.github.base_ref": "",
     "pipeline.github.event_name": "schedule",
     "pipeline.github.head_ref": "",
     "pipeline.github.job": "run-tests-pipeline-and-persist-pipeline-outputs",
     "pipeline.github.ref": "refs/heads/development",
     "pipeline.github.ref_name": "development",
     "pipeline.github.ref_type": "branch",
     "pipeline.github.repository": "pynb-dag-runner/mnist-digits-demo-pipeline",
     "pipeline.github.run_id": "2668450777",
     "pipeline.github.runner_name": "GitHub Actions 2",
     "pipeline.github.sha": "147a1be9916173fd4d2cd011d8d51e3411215850",
     "pipeline.github.workflow": "Run automated tests, pipeline and deploy results to static reporting site",
     "pipeline.pipeline_run_id": "a6c4c4ae-4fdd-40fb-8a52-6e3e3984e925",
     "pipeline.run_environment": "ci",
     "run.retry_nr": "0",
     "task.max_nr_retries": "1",
     "task.notebook": "notebooks/benchmark-model.py",
     "task.nr_train_images": 1000,
     "task.num_cpus": 1,
     "task.timeout_s": "None"
    }
   },
   "start_time": "2022-07-14T17:37:48.291248",
   "version": "2.3.3"
  }
 },
 "nbformat": 4,
 "nbformat_minor": 5
}