{
 "cells": [
  {
   "cell_type": "markdown",
   "id": "04e43079",
   "metadata": {
    "papermill": {
     "duration": 0.005169,
     "end_time": "2022-07-14T17:37:28.348286",
     "exception": false,
     "start_time": "2022-07-14T17:37:28.343117",
     "status": "completed"
    },
    "tags": []
   },
   "source": [
    "# Train model\n",
    "\n",
    "The purpose of this notebook is:\n",
    "\n",
    "- Load all training data (images and labels).\n",
    "- Limit number of train images to `task.nr_train_images` (value provided as run parameter).\n",
    "- Train a support vector machine model using sklearn.\n",
    "- Persist the trained model using the ONNX format."
   ]
  },
  {
   "cell_type": "markdown",
   "id": "3d3d6c46",
   "metadata": {
    "papermill": {
     "duration": 0.003513,
     "end_time": "2022-07-14T17:37:28.355925",
     "exception": false,
     "start_time": "2022-07-14T17:37:28.352412",
     "status": "completed"
    },
    "tags": []
   },
   "source": [
    "### Determine run parameters"
   ]
  },
  {
   "cell_type": "code",
   "execution_count": 1,
   "id": "05cbc770",
   "metadata": {
    "execution": {
     "iopub.execute_input": "2022-07-14T17:37:28.364946Z",
     "iopub.status.busy": "2022-07-14T17:37:28.364640Z",
     "iopub.status.idle": "2022-07-14T17:37:28.377904Z",
     "shell.execute_reply": "2022-07-14T17:37:28.372576Z"
    },
    "lines_to_next_cell": 0,
    "papermill": {
     "duration": 0.019058,
     "end_time": "2022-07-14T17:37:28.379835",
     "exception": false,
     "start_time": "2022-07-14T17:37:28.360777",
     "status": "completed"
    },
    "tags": []
   },
   "outputs": [],
   "source": [
    "# ----------------- Parameters for interactive development --------------\n",
    "P = {\n",
    "    \"pipeline.data_lake_root\": \"/pipeline-outputs/data-lake\",\n",
    "    \"task.nr_train_images\": 600,\n",
    "}"
   ]
  },
  {
   "cell_type": "code",
   "execution_count": 2,
   "id": "d237212c",
   "metadata": {
    "execution": {
     "iopub.execute_input": "2022-07-14T17:37:28.387038Z",
     "iopub.status.busy": "2022-07-14T17:37:28.386797Z",
     "iopub.status.idle": "2022-07-14T17:37:28.390503Z",
     "shell.execute_reply": "2022-07-14T17:37:28.389974Z"
    },
    "lines_to_next_cell": 0,
    "papermill": {
     "duration": 0.009491,
     "end_time": "2022-07-14T17:37:28.392778",
     "exception": false,
     "start_time": "2022-07-14T17:37:28.383287",
     "status": "completed"
    },
    "tags": [
     "parameters"
    ]
   },
   "outputs": [],
   "source": [
    "# - During automated runs parameters will be injected in the below cell -"
   ]
  },
  {
   "cell_type": "code",
   "execution_count": 3,
   "id": "ae9b91d3",
   "metadata": {
    "execution": {
     "iopub.execute_input": "2022-07-14T17:37:28.400068Z",
     "iopub.status.busy": "2022-07-14T17:37:28.399860Z",
     "iopub.status.idle": "2022-07-14T17:37:28.404191Z",
     "shell.execute_reply": "2022-07-14T17:37:28.403695Z"
    },
    "papermill": {
     "duration": 0.010738,
     "end_time": "2022-07-14T17:37:28.406360",
     "exception": false,
     "start_time": "2022-07-14T17:37:28.395622",
     "status": "completed"
    },
    "tags": [
     "injected-parameters"
    ]
   },
   "outputs": [],
   "source": [
    "# Parameters\n",
    "P = {\n",
    "    \"pipeline.data_lake_root\": \"/pipeline-outputs/data-lake\",\n",
    "    \"pipeline.run_environment\": \"ci\",\n",
    "    \"pipeline.pipeline_run_id\": \"a6c4c4ae-4fdd-40fb-8a52-6e3e3984e925\",\n",
    "    \"pipeline.github.repository\": \"pynb-dag-runner/mnist-digits-demo-pipeline\",\n",
    "    \"pipeline.github.workflow\": \"Run automated tests, pipeline and deploy results to static reporting site\",\n",
    "    \"pipeline.github.runner_name\": \"GitHub Actions 2\",\n",
    "    \"pipeline.github.run_id\": \"2668450777\",\n",
    "    \"pipeline.github.actor\": \"matiasdahl\",\n",
    "    \"pipeline.github.job\": \"run-tests-pipeline-and-persist-pipeline-outputs\",\n",
    "    \"pipeline.github.base_ref\": \"\",\n",
    "    \"pipeline.github.head_ref\": \"\",\n",
    "    \"pipeline.github.sha\": \"147a1be9916173fd4d2cd011d8d51e3411215850\",\n",
    "    \"pipeline.github.ref\": \"refs/heads/development\",\n",
    "    \"pipeline.github.ref_type\": \"branch\",\n",
    "    \"pipeline.github.ref_name\": \"development\",\n",
    "    \"pipeline.github.event_name\": \"schedule\",\n",
    "    \"task.nr_train_images\": 600,\n",
    "    \"task.notebook\": \"notebooks/train-model.py\",\n",
    "    \"task.max_nr_retries\": \"1\",\n",
    "    \"run.retry_nr\": \"0\",\n",
    "    \"task.timeout_s\": \"None\",\n",
    "    \"task.num_cpus\": 1,\n",
    "    \"_opentelemetry_traceparent\": \"00-8ed032a1273b4d8d9ed85f02e5fe0471-d084f96f38700d50-01\",\n",
    "}\n"
   ]
  },
  {
   "cell_type": "code",
   "execution_count": 4,
   "id": "1053ff33",
   "metadata": {
    "execution": {
     "iopub.execute_input": "2022-07-14T17:37:28.414211Z",
     "iopub.status.busy": "2022-07-14T17:37:28.414005Z",
     "iopub.status.idle": "2022-07-14T17:37:28.416565Z",
     "shell.execute_reply": "2022-07-14T17:37:28.416072Z"
    },
    "lines_to_next_cell": 0,
    "papermill": {
     "duration": 0.009418,
     "end_time": "2022-07-14T17:37:28.419614",
     "exception": false,
     "start_time": "2022-07-14T17:37:28.410196",
     "status": "completed"
    },
    "tags": []
   },
   "outputs": [],
   "source": [
    "# -----------------------------------------------------------------------"
   ]
  },
  {
   "cell_type": "markdown",
   "id": "d0462330",
   "metadata": {
    "papermill": {
     "duration": 0.005419,
     "end_time": "2022-07-14T17:37:28.427842",
     "exception": false,
     "start_time": "2022-07-14T17:37:28.422423",
     "status": "completed"
    },
    "tags": []
   },
   "source": [
    "---"
   ]
  },
  {
   "cell_type": "markdown",
   "id": "7d80d9d8",
   "metadata": {
    "lines_to_next_cell": 2,
    "papermill": {
     "duration": 0.002709,
     "end_time": "2022-07-14T17:37:28.434505",
     "exception": false,
     "start_time": "2022-07-14T17:37:28.431796",
     "status": "completed"
    },
    "tags": []
   },
   "source": [
    "### Notebook code"
   ]
  },
  {
   "cell_type": "code",
   "execution_count": 5,
   "id": "1e38900b",
   "metadata": {
    "execution": {
     "iopub.execute_input": "2022-07-14T17:37:28.441732Z",
     "iopub.status.busy": "2022-07-14T17:37:28.441495Z",
     "iopub.status.idle": "2022-07-14T17:37:28.934531Z",
     "shell.execute_reply": "2022-07-14T17:37:28.933947Z"
    },
    "papermill": {
     "duration": 0.499268,
     "end_time": "2022-07-14T17:37:28.936460",
     "exception": false,
     "start_time": "2022-07-14T17:37:28.437192",
     "status": "completed"
    },
    "tags": []
   },
   "outputs": [
    {
     "name": "stderr",
     "output_type": "stream",
     "text": [
      "2022-07-14 17:37:28,764\tINFO worker.py:842 -- Connecting to existing Ray cluster at address: 172.17.0.2:6379\n"
     ]
    }
   ],
   "source": [
    "from pynb_dag_runner.tasks.task_opentelemetry_logging import PydarLogger\n",
    "\n",
    "logger = PydarLogger(P)"
   ]
  },
  {
   "cell_type": "markdown",
   "id": "1ce05060",
   "metadata": {
    "papermill": {
     "duration": 0.003232,
     "end_time": "2022-07-14T17:37:28.943891",
     "exception": false,
     "start_time": "2022-07-14T17:37:28.940659",
     "status": "completed"
    },
    "tags": []
   },
   "source": [
    "## Load and limit train data"
   ]
  },
  {
   "cell_type": "code",
   "execution_count": 6,
   "id": "62ff1093",
   "metadata": {
    "execution": {
     "iopub.execute_input": "2022-07-14T17:37:28.951469Z",
     "iopub.status.busy": "2022-07-14T17:37:28.951154Z",
     "iopub.status.idle": "2022-07-14T17:37:29.313857Z",
     "shell.execute_reply": "2022-07-14T17:37:29.313257Z"
    },
    "papermill": {
     "duration": 0.368817,
     "end_time": "2022-07-14T17:37:29.316101",
     "exception": false,
     "start_time": "2022-07-14T17:37:28.947284",
     "status": "completed"
    },
    "tags": []
   },
   "outputs": [],
   "source": [
    "def load_and_limit_train_data(P):\n",
    "    from common.io import datalake_root, read_numpy\n",
    "    from sklearn.model_selection import train_test_split\n",
    "\n",
    "    X_train_all = read_numpy(datalake_root(P) / \"train-data\" / \"digits.numpy\")\n",
    "    y_train_all = read_numpy(datalake_root(P) / \"train-data\" / \"labels.numpy\")\n",
    "\n",
    "    assert isinstance(P[\"task.nr_train_images\"], int)\n",
    "\n",
    "    # Note: train_test_split will fail if split is 0 or 100%.\n",
    "    assert 0 < P[\"task.nr_train_images\"] < len(y_train_all)\n",
    "\n",
    "    X_train, _, y_train, _ = train_test_split(\n",
    "        X_train_all,\n",
    "        y_train_all,\n",
    "        train_size=P[\"task.nr_train_images\"],\n",
    "        test_size=None,\n",
    "        stratify=y_train_all,\n",
    "        shuffle=True,\n",
    "        random_state=123,\n",
    "    )\n",
    "\n",
    "    assert X_train.shape == (len(y_train), 8 * 8)\n",
    "    return X_train, y_train\n",
    "\n",
    "\n",
    "X_train, y_train = load_and_limit_train_data(P)"
   ]
  },
  {
   "cell_type": "markdown",
   "id": "4b37b51c",
   "metadata": {
    "papermill": {
     "duration": 0.003355,
     "end_time": "2022-07-14T17:37:29.322980",
     "exception": false,
     "start_time": "2022-07-14T17:37:29.319625",
     "status": "completed"
    },
    "tags": []
   },
   "source": [
    "## Train support vector classifier model\n",
    "\n",
    "Below we assume that the hyperparameter $C$ is known.\n",
    "\n",
    "However, this should ideally be found by a hyperparameter search. That could be\n",
    "done in parallel on the Ray cluster, but this needs some more work. Ie., to use\n",
    "multiple cores in the notebook, those cores should be reserved when starting the\n",
    "notebook task (TODO).\n",
    "\n",
    "- https://docs.ray.io/en/latest/tune/key-concepts.html\n",
    "\n",
    "Note: cv-scores would need to be computed here, since they depend on the train data.\n",
    "After this notebook only the onnx-model is available."
   ]
  },
  {
   "cell_type": "code",
   "execution_count": 7,
   "id": "9cdde58c",
   "metadata": {
    "execution": {
     "iopub.execute_input": "2022-07-14T17:37:29.330254Z",
     "iopub.status.busy": "2022-07-14T17:37:29.329822Z",
     "iopub.status.idle": "2022-07-14T17:37:29.407714Z",
     "shell.execute_reply": "2022-07-14T17:37:29.407046Z"
    },
    "papermill": {
     "duration": 0.083852,
     "end_time": "2022-07-14T17:37:29.409824",
     "exception": false,
     "start_time": "2022-07-14T17:37:29.325972",
     "status": "completed"
    },
    "tags": []
   },
   "outputs": [],
   "source": [
    "from sklearn.svm import SVC"
   ]
  },
  {
   "cell_type": "code",
   "execution_count": 8,
   "id": "a78f9d87",
   "metadata": {
    "execution": {
     "iopub.execute_input": "2022-07-14T17:37:29.418613Z",
     "iopub.status.busy": "2022-07-14T17:37:29.418385Z",
     "iopub.status.idle": "2022-07-14T17:37:29.507430Z",
     "shell.execute_reply": "2022-07-14T17:37:29.506790Z"
    },
    "papermill": {
     "duration": 0.095178,
     "end_time": "2022-07-14T17:37:29.509489",
     "exception": false,
     "start_time": "2022-07-14T17:37:29.414311",
     "status": "completed"
    },
    "tags": []
   },
   "outputs": [
    {
     "data": {
      "text/plain": [
       "SVC(C=0.001, kernel='linear', probability=True)"
      ]
     },
     "execution_count": 8,
     "metadata": {},
     "output_type": "execute_result"
    }
   ],
   "source": [
    "model = SVC(C=0.001, kernel=\"linear\", probability=True)\n",
    "\n",
    "model.fit(X_train, y_train)"
   ]
  },
  {
   "cell_type": "markdown",
   "id": "5d3c49c9",
   "metadata": {
    "papermill": {
     "duration": 0.003737,
     "end_time": "2022-07-14T17:37:29.516485",
     "exception": false,
     "start_time": "2022-07-14T17:37:29.512748",
     "status": "completed"
    },
    "tags": []
   },
   "source": [
    "### Q: Can the labels returned by `predict(..)` be computed from probabilities returned by the `predict_prob`-method?"
   ]
  },
  {
   "cell_type": "code",
   "execution_count": 9,
   "id": "a0b2b39f",
   "metadata": {
    "execution": {
     "iopub.execute_input": "2022-07-14T17:37:29.523751Z",
     "iopub.status.busy": "2022-07-14T17:37:29.523519Z",
     "iopub.status.idle": "2022-07-14T17:37:29.561155Z",
     "shell.execute_reply": "2022-07-14T17:37:29.560557Z"
    },
    "papermill": {
     "duration": 0.043086,
     "end_time": "2022-07-14T17:37:29.562576",
     "exception": false,
     "start_time": "2022-07-14T17:37:29.519490",
     "status": "completed"
    },
    "tags": []
   },
   "outputs": [
    {
     "name": "stdout",
     "output_type": "stream",
     "text": [
      " - Logging nr_max_prob_neq_label (int) : 2\n"
     ]
    }
   ],
   "source": [
    "import numpy as np\n",
    "\n",
    "y_train_labels = model.predict(X_train)\n",
    "y_train_probabilities = model.predict_proba(X_train)\n",
    "assert y_train_probabilities.shape == (len(y_train), 10)\n",
    "\n",
    "y_train_max_prob_labels = np.argmax(y_train_probabilities, axis=1)\n",
    "assert y_train_labels.shape == y_train_max_prob_labels.shape == y_train.shape\n",
    "\n",
    "# If the predicted labels would coincide with the labels that have\n",
    "# maximum probability, the below number would be zero\n",
    "logger.log_int(\n",
    "    \"nr_max_prob_neq_label\", int(sum(y_train_max_prob_labels != y_train_labels))\n",
    ")"
   ]
  },
  {
   "cell_type": "markdown",
   "id": "4360569c",
   "metadata": {
    "papermill": {
     "duration": 0.003293,
     "end_time": "2022-07-14T17:37:29.569099",
     "exception": false,
     "start_time": "2022-07-14T17:37:29.565806",
     "status": "completed"
    },
    "tags": []
   },
   "source": [
    "The explanation is (likely) explained in the SVC source, see\n",
    "[here](https://github.com/scikit-learn/scikit-learn/blob/main/sklearn/svm/_base.py).\n",
    "Namely, the outputs from `predict(..)` and `predict_proba(..)` may not in some\n",
    "cases be compatible since the latter is computed using cross-validation while\n",
    "the former is not. Thus, the above number need not be zero."
   ]
  },
  {
   "cell_type": "markdown",
   "id": "6783b2c4",
   "metadata": {
    "papermill": {
     "duration": 0.003095,
     "end_time": "2022-07-14T17:37:29.575223",
     "exception": false,
     "start_time": "2022-07-14T17:37:29.572128",
     "status": "completed"
    },
    "tags": []
   },
   "source": [
    "## Persist model"
   ]
  },
  {
   "cell_type": "code",
   "execution_count": 10,
   "id": "9a17718f",
   "metadata": {
    "execution": {
     "iopub.execute_input": "2022-07-14T17:37:29.583316Z",
     "iopub.status.busy": "2022-07-14T17:37:29.582767Z",
     "iopub.status.idle": "2022-07-14T17:37:30.638391Z",
     "shell.execute_reply": "2022-07-14T17:37:30.637359Z"
    },
    "papermill": {
     "duration": 1.061583,
     "end_time": "2022-07-14T17:37:30.640197",
     "exception": false,
     "start_time": "2022-07-14T17:37:29.578614",
     "status": "completed"
    },
    "tags": []
   },
   "outputs": [
    {
     "name": "stdout",
     "output_type": "stream",
     "text": [
      "\u001b[2m\u001b[1m\u001b[36m(scheduler +1s)\u001b[0m Tip: use `ray status` to view detailed cluster status. To disable these messages, set RAY_SCHEDULER_EVENTS=0.\n",
      "\u001b[2m\u001b[1m\u001b[33m(scheduler +1s)\u001b[0m Warning: The following resource request cannot be scheduled right now: {'CPU': 1.0}. This is likely due to all cluster resources being claimed by actors. Consider creating fewer actors or adding more nodes to this Ray cluster.\n"
     ]
    }
   ],
   "source": [
    "from skl2onnx import convert_sklearn\n",
    "from skl2onnx.common.data_types import FloatTensorType\n",
    "\n",
    "#\n",
    "from common.io import datalake_root, write_onnx"
   ]
  },
  {
   "cell_type": "code",
   "execution_count": 11,
   "id": "939c1648",
   "metadata": {
    "execution": {
     "iopub.execute_input": "2022-07-14T17:37:30.648780Z",
     "iopub.status.busy": "2022-07-14T17:37:30.648227Z",
     "iopub.status.idle": "2022-07-14T17:37:30.686694Z",
     "shell.execute_reply": "2022-07-14T17:37:30.686131Z"
    },
    "papermill": {
     "duration": 0.044604,
     "end_time": "2022-07-14T17:37:30.688293",
     "exception": false,
     "start_time": "2022-07-14T17:37:30.643689",
     "status": "completed"
    },
    "tags": []
   },
   "outputs": [],
   "source": [
    "# convert sklearn model into onnx and persist to data lake\n",
    "\n",
    "model_onnx = convert_sklearn(\n",
    "    model, initial_types=[(\"float_input_8x8_image\", FloatTensorType([None, 8 * 8]))]\n",
    ")\n",
    "write_onnx(\n",
    "    datalake_root(P)\n",
    "    / \"models\"\n",
    "    / f\"nr_train_images={P['task.nr_train_images']}\"\n",
    "    / \"model.onnx\",\n",
    "    model_onnx,\n",
    ")"
   ]
  },
  {
   "cell_type": "code",
   "execution_count": null,
   "id": "91b97c5d",
   "metadata": {
    "papermill": {
     "duration": 0.003443,
     "end_time": "2022-07-14T17:37:30.695106",
     "exception": false,
     "start_time": "2022-07-14T17:37:30.691663",
     "status": "completed"
    },
    "tags": []
   },
   "outputs": [],
   "source": []
  }
 ],
 "metadata": {
  "jupytext": {
   "cell_metadata_filter": "tags,-all",
   "main_language": "python",
   "notebook_metadata_filter": "-all"
  },
  "language_info": {
   "codemirror_mode": {
    "name": "ipython",
    "version": 3
   },
   "file_extension": ".py",
   "mimetype": "text/x-python",
   "name": "python",
   "nbconvert_exporter": "python",
   "pygments_lexer": "ipython3",
   "version": "3.8.10"
  },
  "papermill": {
   "default_parameters": {},
   "duration": 4.573418,
   "end_time": "2022-07-14T17:37:31.616546",
   "environment_variables": {},
   "exception": null,
   "input_path": "/home/host_user/workspace/mnist-demo-pipeline/mnist-demo-pipeline/notebooks/temp-notebook-s4rhmar7.ipynb",
   "output_path": "notebooks/train-model.ipynb",
   "parameters": {
    "P": {
     "_opentelemetry_traceparent": "00-8ed032a1273b4d8d9ed85f02e5fe0471-d084f96f38700d50-01",
     "pipeline.data_lake_root": "/pipeline-outputs/data-lake",
     "pipeline.github.actor": "matiasdahl",
     "pipeline.github.base_ref": "",
     "pipeline.github.event_name": "schedule",
     "pipeline.github.head_ref": "",
     "pipeline.github.job": "run-tests-pipeline-and-persist-pipeline-outputs",
     "pipeline.github.ref": "refs/heads/development",
     "pipeline.github.ref_name": "development",
     "pipeline.github.ref_type": "branch",
     "pipeline.github.repository": "pynb-dag-runner/mnist-digits-demo-pipeline",
     "pipeline.github.run_id": "2668450777",
     "pipeline.github.runner_name": "GitHub Actions 2",
     "pipeline.github.sha": "147a1be9916173fd4d2cd011d8d51e3411215850",
     "pipeline.github.workflow": "Run automated tests, pipeline and deploy results to static reporting site",
     "pipeline.pipeline_run_id": "a6c4c4ae-4fdd-40fb-8a52-6e3e3984e925",
     "pipeline.run_environment": "ci",
     "run.retry_nr": "0",
     "task.max_nr_retries": "1",
     "task.notebook": "notebooks/train-model.py",
     "task.nr_train_images": 600,
     "task.num_cpus": 1,
     "task.timeout_s": "None"
    }
   },
   "start_time": "2022-07-14T17:37:27.043128",
   "version": "2.3.3"
  }
 },
 "nbformat": 4,
 "nbformat_minor": 5
}