{
 "cells": [
  {
   "cell_type": "markdown",
   "id": "88f787bb",
   "metadata": {
    "papermill": {
     "duration": 0.005608,
     "end_time": "2022-07-14T17:37:43.335587",
     "exception": false,
     "start_time": "2022-07-14T17:37:43.329979",
     "status": "completed"
    },
    "tags": []
   },
   "source": [
    "# Benchmark model\n",
    "\n",
    "The purpose of this notebook is to benchmark persisted onnx-model (trained in the\n",
    "previous step) against evaluation set."
   ]
  },
  {
   "cell_type": "markdown",
   "id": "bf7ff2d2",
   "metadata": {
    "papermill": {
     "duration": 0.004267,
     "end_time": "2022-07-14T17:37:43.344733",
     "exception": false,
     "start_time": "2022-07-14T17:37:43.340466",
     "status": "completed"
    },
    "tags": []
   },
   "source": [
    "### Determine run parameters"
   ]
  },
  {
   "cell_type": "code",
   "execution_count": 1,
   "id": "45207307",
   "metadata": {
    "execution": {
     "iopub.execute_input": "2022-07-14T17:37:43.354707Z",
     "iopub.status.busy": "2022-07-14T17:37:43.354415Z",
     "iopub.status.idle": "2022-07-14T17:37:43.362934Z",
     "shell.execute_reply": "2022-07-14T17:37:43.362165Z"
    },
    "lines_to_next_cell": 0,
    "papermill": {
     "duration": 0.015465,
     "end_time": "2022-07-14T17:37:43.364783",
     "exception": false,
     "start_time": "2022-07-14T17:37:43.349318",
     "status": "completed"
    },
    "tags": []
   },
   "outputs": [],
   "source": [
    "# ----------------- Parameters for interactive development --------------\n",
    "P = {\n",
    "    \"pipeline.data_lake_root\": \"/pipeline-outputs/data-lake\",\n",
    "    \"task.nr_train_images\": 600,\n",
    "}"
   ]
  },
  {
   "cell_type": "code",
   "execution_count": 2,
   "id": "06dde6b6",
   "metadata": {
    "execution": {
     "iopub.execute_input": "2022-07-14T17:37:43.374245Z",
     "iopub.status.busy": "2022-07-14T17:37:43.374039Z",
     "iopub.status.idle": "2022-07-14T17:37:43.377016Z",
     "shell.execute_reply": "2022-07-14T17:37:43.376411Z"
    },
    "lines_to_next_cell": 0,
    "papermill": {
     "duration": 0.010735,
     "end_time": "2022-07-14T17:37:43.379550",
     "exception": false,
     "start_time": "2022-07-14T17:37:43.368815",
     "status": "completed"
    },
    "tags": [
     "parameters"
    ]
   },
   "outputs": [],
   "source": [
    "# - During automated runs parameters will be injected in the below cell -"
   ]
  },
  {
   "cell_type": "code",
   "execution_count": 3,
   "id": "1bbc601e",
   "metadata": {
    "execution": {
     "iopub.execute_input": "2022-07-14T17:37:43.388928Z",
     "iopub.status.busy": "2022-07-14T17:37:43.388724Z",
     "iopub.status.idle": "2022-07-14T17:37:43.393189Z",
     "shell.execute_reply": "2022-07-14T17:37:43.392472Z"
    },
    "papermill": {
     "duration": 0.011765,
     "end_time": "2022-07-14T17:37:43.395588",
     "exception": false,
     "start_time": "2022-07-14T17:37:43.383823",
     "status": "completed"
    },
    "tags": [
     "injected-parameters"
    ]
   },
   "outputs": [],
   "source": [
    "# Parameters\n",
    "P = {\n",
    "    \"pipeline.data_lake_root\": \"/pipeline-outputs/data-lake\",\n",
    "    \"pipeline.run_environment\": \"ci\",\n",
    "    \"pipeline.pipeline_run_id\": \"a6c4c4ae-4fdd-40fb-8a52-6e3e3984e925\",\n",
    "    \"pipeline.github.repository\": \"pynb-dag-runner/mnist-digits-demo-pipeline\",\n",
    "    \"pipeline.github.workflow\": \"Run automated tests, pipeline and deploy results to static reporting site\",\n",
    "    \"pipeline.github.runner_name\": \"GitHub Actions 2\",\n",
    "    \"pipeline.github.run_id\": \"2668450777\",\n",
    "    \"pipeline.github.actor\": \"matiasdahl\",\n",
    "    \"pipeline.github.job\": \"run-tests-pipeline-and-persist-pipeline-outputs\",\n",
    "    \"pipeline.github.base_ref\": \"\",\n",
    "    \"pipeline.github.head_ref\": \"\",\n",
    "    \"pipeline.github.sha\": \"147a1be9916173fd4d2cd011d8d51e3411215850\",\n",
    "    \"pipeline.github.ref\": \"refs/heads/development\",\n",
    "    \"pipeline.github.ref_type\": \"branch\",\n",
    "    \"pipeline.github.ref_name\": \"development\",\n",
    "    \"pipeline.github.event_name\": \"schedule\",\n",
    "    \"task.nr_train_images\": 800,\n",
    "    \"task.notebook\": \"notebooks/benchmark-model.py\",\n",
    "    \"task.max_nr_retries\": \"1\",\n",
    "    \"run.retry_nr\": \"0\",\n",
    "    \"task.timeout_s\": \"None\",\n",
    "    \"task.num_cpus\": 1,\n",
    "    \"_opentelemetry_traceparent\": \"00-8ed032a1273b4d8d9ed85f02e5fe0471-b7f12d95a3ea658a-01\",\n",
    "}\n"
   ]
  },
  {
   "cell_type": "code",
   "execution_count": 4,
   "id": "b110f235",
   "metadata": {
    "execution": {
     "iopub.execute_input": "2022-07-14T17:37:43.406055Z",
     "iopub.status.busy": "2022-07-14T17:37:43.405854Z",
     "iopub.status.idle": "2022-07-14T17:37:43.408684Z",
     "shell.execute_reply": "2022-07-14T17:37:43.408124Z"
    },
    "lines_to_next_cell": 0,
    "papermill": {
     "duration": 0.011895,
     "end_time": "2022-07-14T17:37:43.411471",
     "exception": false,
     "start_time": "2022-07-14T17:37:43.399576",
     "status": "completed"
    },
    "tags": []
   },
   "outputs": [],
   "source": [
    "# -----------------------------------------------------------------------"
   ]
  },
  {
   "cell_type": "markdown",
   "id": "a240cd81",
   "metadata": {
    "papermill": {
     "duration": 0.004089,
     "end_time": "2022-07-14T17:37:43.419795",
     "exception": false,
     "start_time": "2022-07-14T17:37:43.415706",
     "status": "completed"
    },
    "tags": []
   },
   "source": [
    "---"
   ]
  },
  {
   "cell_type": "markdown",
   "id": "e1bd84cd",
   "metadata": {
    "lines_to_next_cell": 2,
    "papermill": {
     "duration": 0.004099,
     "end_time": "2022-07-14T17:37:43.428104",
     "exception": false,
     "start_time": "2022-07-14T17:37:43.424005",
     "status": "completed"
    },
    "tags": []
   },
   "source": [
    "### Notebook code"
   ]
  },
  {
   "cell_type": "code",
   "execution_count": 5,
   "id": "8fa8e02a",
   "metadata": {
    "execution": {
     "iopub.execute_input": "2022-07-14T17:37:43.441555Z",
     "iopub.status.busy": "2022-07-14T17:37:43.441353Z",
     "iopub.status.idle": "2022-07-14T17:37:44.552475Z",
     "shell.execute_reply": "2022-07-14T17:37:44.551694Z"
    },
    "papermill": {
     "duration": 1.117683,
     "end_time": "2022-07-14T17:37:44.554099",
     "exception": false,
     "start_time": "2022-07-14T17:37:43.436416",
     "status": "completed"
    },
    "tags": []
   },
   "outputs": [
    {
     "name": "stderr",
     "output_type": "stream",
     "text": [
      "2022-07-14 17:37:44,382\tINFO worker.py:842 -- Connecting to existing Ray cluster at address: 172.17.0.2:6379\n"
     ]
    }
   ],
   "source": [
    "import itertools as it\n",
    "\n",
    "#\n",
    "import numpy as np\n",
    "import matplotlib.pyplot as plt\n",
    "\n",
    "#\n",
    "from pynb_dag_runner.tasks.task_opentelemetry_logging import PydarLogger\n",
    "\n",
    "#\n",
    "from common.io import datalake_root\n",
    "\n",
    "logger = PydarLogger(P)"
   ]
  },
  {
   "cell_type": "markdown",
   "id": "f3387200",
   "metadata": {
    "papermill": {
     "duration": 0.004401,
     "end_time": "2022-07-14T17:37:44.563830",
     "exception": false,
     "start_time": "2022-07-14T17:37:44.559429",
     "status": "completed"
    },
    "tags": []
   },
   "source": [
    "## Load persisted onnx-model and evaluation data"
   ]
  },
  {
   "cell_type": "code",
   "execution_count": 6,
   "id": "cce448ba",
   "metadata": {
    "execution": {
     "iopub.execute_input": "2022-07-14T17:37:44.573375Z",
     "iopub.status.busy": "2022-07-14T17:37:44.572696Z",
     "iopub.status.idle": "2022-07-14T17:37:44.576258Z",
     "shell.execute_reply": "2022-07-14T17:37:44.575764Z"
    },
    "papermill": {
     "duration": 0.009815,
     "end_time": "2022-07-14T17:37:44.577640",
     "exception": false,
     "start_time": "2022-07-14T17:37:44.567825",
     "status": "completed"
    },
    "tags": []
   },
   "outputs": [],
   "source": [
    "from common.io import read_onnx, get_onnx_inputs, get_onnx_outputs, read_numpy"
   ]
  },
  {
   "cell_type": "code",
   "execution_count": 7,
   "id": "3510c2f5",
   "metadata": {
    "execution": {
     "iopub.execute_input": "2022-07-14T17:37:44.593194Z",
     "iopub.status.busy": "2022-07-14T17:37:44.592574Z",
     "iopub.status.idle": "2022-07-14T17:37:44.601248Z",
     "shell.execute_reply": "2022-07-14T17:37:44.600720Z"
    },
    "lines_to_next_cell": 0,
    "papermill": {
     "duration": 0.014847,
     "end_time": "2022-07-14T17:37:44.602712",
     "exception": false,
     "start_time": "2022-07-14T17:37:44.587865",
     "status": "completed"
    },
    "tags": []
   },
   "outputs": [],
   "source": [
    "onnx_inference_session = read_onnx(\n",
    "    datalake_root(P)\n",
    "    / \"models\"\n",
    "    / f\"nr_train_images={P['task.nr_train_images']}\"\n",
    "    / \"model.onnx\"\n",
    ")"
   ]
  },
  {
   "cell_type": "markdown",
   "id": "4f362634",
   "metadata": {
    "papermill": {
     "duration": 0.004382,
     "end_time": "2022-07-14T17:37:44.611247",
     "exception": false,
     "start_time": "2022-07-14T17:37:44.606865",
     "status": "completed"
    },
    "tags": []
   },
   "source": [
    "### Record structure of inputs and outputs for ONNX model\n",
    "\n",
    "(this should likely be done in training notebook)"
   ]
  },
  {
   "cell_type": "code",
   "execution_count": 8,
   "id": "fe549c5c",
   "metadata": {
    "execution": {
     "iopub.execute_input": "2022-07-14T17:37:44.621357Z",
     "iopub.status.busy": "2022-07-14T17:37:44.620605Z",
     "iopub.status.idle": "2022-07-14T17:37:44.626718Z",
     "shell.execute_reply": "2022-07-14T17:37:44.626219Z"
    },
    "papermill": {
     "duration": 0.013091,
     "end_time": "2022-07-14T17:37:44.628634",
     "exception": false,
     "start_time": "2022-07-14T17:37:44.615543",
     "status": "completed"
    },
    "tags": []
   },
   "outputs": [
    {
     "name": "stdout",
     "output_type": "stream",
     "text": [
      "{\n",
      "  \"inputs\": [\n",
      "    {\n",
      "      \"name\": \"float_input_8x8_image\",\n",
      "      \"shape\": [\n",
      "        null,\n",
      "        64\n",
      "      ],\n",
      "      \"type\": \"tensor(float)\"\n",
      "    }\n",
      "  ],\n",
      "  \"outputs\": [\n",
      "    {\n",
      "      \"name\": \"output_label\",\n",
      "      \"shape\": [\n",
      "        null\n",
      "      ],\n",
      "      \"type\": \"tensor(int64)\"\n",
      "    },\n",
      "    {\n",
      "      \"name\": \"output_probability\",\n",
      "      \"shape\": [],\n",
      "      \"type\": \"seq(map(int64,tensor(float)))\"\n",
      "    }\n",
      "  ]\n",
      "}\n"
     ]
    }
   ],
   "source": [
    "import json\n",
    "\n",
    "onnx_io = json.dumps(\n",
    "    {\n",
    "        \"inputs\": get_onnx_inputs(onnx_inference_session),\n",
    "        \"outputs\": get_onnx_outputs(onnx_inference_session),\n",
    "    },\n",
    "    indent=2,\n",
    ")\n",
    "\n",
    "\n",
    "logger.log_artefact(\"onnx_io_structure.json\", onnx_io)\n",
    "print(onnx_io)"
   ]
  },
  {
   "cell_type": "markdown",
   "id": "f26436f7",
   "metadata": {
    "papermill": {
     "duration": 0.004117,
     "end_time": "2022-07-14T17:37:44.636801",
     "exception": false,
     "start_time": "2022-07-14T17:37:44.632684",
     "status": "completed"
    },
    "tags": []
   },
   "source": [
    "### Evaluate model performance on evaluation data set"
   ]
  },
  {
   "cell_type": "code",
   "execution_count": 9,
   "id": "162264bb",
   "metadata": {
    "execution": {
     "iopub.execute_input": "2022-07-14T17:37:44.646300Z",
     "iopub.status.busy": "2022-07-14T17:37:44.645851Z",
     "iopub.status.idle": "2022-07-14T17:37:44.650358Z",
     "shell.execute_reply": "2022-07-14T17:37:44.649820Z"
    },
    "papermill": {
     "duration": 0.010902,
     "end_time": "2022-07-14T17:37:44.651818",
     "exception": false,
     "start_time": "2022-07-14T17:37:44.640916",
     "status": "completed"
    },
    "tags": []
   },
   "outputs": [],
   "source": [
    "# load evaluation data\n",
    "X_test = read_numpy(datalake_root(P) / \"test-data\" / \"digits.numpy\")\n",
    "y_test = read_numpy(datalake_root(P) / \"test-data\" / \"labels.numpy\")"
   ]
  },
  {
   "cell_type": "code",
   "execution_count": 10,
   "id": "8e5a55cf",
   "metadata": {
    "execution": {
     "iopub.execute_input": "2022-07-14T17:37:44.662334Z",
     "iopub.status.busy": "2022-07-14T17:37:44.662117Z",
     "iopub.status.idle": "2022-07-14T17:37:44.675964Z",
     "shell.execute_reply": "2022-07-14T17:37:44.675167Z"
    },
    "papermill": {
     "duration": 0.021603,
     "end_time": "2022-07-14T17:37:44.677859",
     "exception": false,
     "start_time": "2022-07-14T17:37:44.656256",
     "status": "completed"
    },
    "tags": []
   },
   "outputs": [],
   "source": [
    "def get_model_outputs(X, onnx_inference_session):\n",
    "    y_pred_labels, y_pred_map = onnx_inference_session.run(\n",
    "        [\"output_label\", \"output_probability\"],\n",
    "        {\"float_input_8x8_image\": X.astype(np.float32)},\n",
    "    )\n",
    "    y_pred_probs = np.array(\n",
    "        [[probabilities[digit] for digit in range(10)] for probabilities in y_pred_map]\n",
    "    )\n",
    "\n",
    "    assert y_pred_labels.shape == (X.shape[0],)\n",
    "    assert y_pred_probs.shape == (X.shape[0], 10)\n",
    "\n",
    "    return y_pred_labels, y_pred_probs\n",
    "\n",
    "\n",
    "# Note: as shown in the training notebook, the predicted labels and probabilities\n",
    "# computed below need not be compatible.\n",
    "y_pred_labels_test, y_pred_probs_test = get_model_outputs(\n",
    "    X_test, onnx_inference_session\n",
    ")"
   ]
  },
  {
   "cell_type": "markdown",
   "id": "40cd0962",
   "metadata": {
    "papermill": {
     "duration": 0.004493,
     "end_time": "2022-07-14T17:37:44.686895",
     "exception": false,
     "start_time": "2022-07-14T17:37:44.682402",
     "status": "completed"
    },
    "tags": []
   },
   "source": [
    "### Confusion matrix"
   ]
  },
  {
   "cell_type": "code",
   "execution_count": 11,
   "id": "fee9027c",
   "metadata": {
    "execution": {
     "iopub.execute_input": "2022-07-14T17:37:44.696937Z",
     "iopub.status.busy": "2022-07-14T17:37:44.696074Z",
     "iopub.status.idle": "2022-07-14T17:37:44.699338Z",
     "shell.execute_reply": "2022-07-14T17:37:44.698841Z"
    },
    "papermill": {
     "duration": 0.01047,
     "end_time": "2022-07-14T17:37:44.701524",
     "exception": false,
     "start_time": "2022-07-14T17:37:44.691054",
     "status": "completed"
    },
    "tags": []
   },
   "outputs": [],
   "source": [
    "# TODO"
   ]
  },
  {
   "cell_type": "markdown",
   "id": "f900b937",
   "metadata": {
    "papermill": {
     "duration": 0.00458,
     "end_time": "2022-07-14T17:37:44.710675",
     "exception": false,
     "start_time": "2022-07-14T17:37:44.706095",
     "status": "completed"
    },
    "tags": []
   },
   "source": [
    "### Plot predicted probabilities for each classifier over all evaluation digit images"
   ]
  },
  {
   "cell_type": "code",
   "execution_count": 12,
   "id": "0e038590",
   "metadata": {
    "execution": {
     "iopub.execute_input": "2022-07-14T17:37:44.720591Z",
     "iopub.status.busy": "2022-07-14T17:37:44.720341Z",
     "iopub.status.idle": "2022-07-14T17:37:47.619787Z",
     "shell.execute_reply": "2022-07-14T17:37:47.619169Z"
    },
    "papermill": {
     "duration": 2.906794,
     "end_time": "2022-07-14T17:37:47.621754",
     "exception": false,
     "start_time": "2022-07-14T17:37:44.714960",
     "status": "completed"
    },
    "tags": []
   },
   "outputs": [
    {
     "data": {
      "image/png": "[encoded data removed]",
      "text/plain": [
       "<Figure size 1152x432 with 10 Axes>"
      ]
     },
     "metadata": {
      "needs_background": "light"
     },
     "output_type": "display_data"
    }
   ],
   "source": [
    "def plot_per_digit_probabilities(y_pred_probs):\n",
    "    fig, axs = plt.subplots(nrows=2, ncols=5, figsize=(16, 6))\n",
    "\n",
    "    for (r, c), digit, ax in zip(\n",
    "        it.product(range(2), range(5)), range(10), axs.reshape(-1)\n",
    "    ):\n",
    "        ax.hist(y_pred_probs_test[:, digit], bins=20)\n",
    "\n",
    "        ax.set_title(f\"Digit {digit}\")\n",
    "        if r == 1 and c == 2:\n",
    "            ax.set_xlabel(\"probability\", fontsize=16)\n",
    "\n",
    "        if c == 0:\n",
    "            ax.set_ylabel(\"counts\", fontsize=16)\n",
    "        ax.set_yscale(\"log\")\n",
    "\n",
    "    fig.tight_layout()\n",
    "    fig.suptitle(\n",
    "        f\"Distributions of prediction probabilities for each digit \"\n",
    "        f\"(on evaluation data, n={y_pred_probs.shape[0]})\",\n",
    "        fontsize=20,\n",
    "    )\n",
    "    fig.tight_layout()\n",
    "    fig.show()\n",
    "\n",
    "    return fig\n",
    "\n",
    "\n",
    "fig = plot_per_digit_probabilities(y_pred_probs_test)"
   ]
  },
  {
   "cell_type": "markdown",
   "id": "69ee0be4",
   "metadata": {
    "papermill": {
     "duration": 0.005319,
     "end_time": "2022-07-14T17:37:47.632302",
     "exception": false,
     "start_time": "2022-07-14T17:37:47.626983",
     "status": "completed"
    },
    "tags": []
   },
   "source": [
    "From the above distributions we see that most digits have clear separation between\n",
    "high and lower probabilities. Morover, in each case there is roughly an order of\n",
    "magnitude more of digits with low probabilities. This is compatible with digits\n",
    "being roughly evenly distributed in the data."
   ]
  },
  {
   "cell_type": "code",
   "execution_count": 13,
   "id": "8d0ef355",
   "metadata": {
    "execution": {
     "iopub.execute_input": "2022-07-14T17:37:47.643148Z",
     "iopub.status.busy": "2022-07-14T17:37:47.642914Z",
     "iopub.status.idle": "2022-07-14T17:37:48.021446Z",
     "shell.execute_reply": "2022-07-14T17:37:48.020749Z"
    },
    "papermill": {
     "duration": 0.386221,
     "end_time": "2022-07-14T17:37:48.023089",
     "exception": false,
     "start_time": "2022-07-14T17:37:47.636868",
     "status": "completed"
    },
    "tags": []
   },
   "outputs": [],
   "source": [
    "logger.log_figure(\"per-digit-probabilities.png\", fig)"
   ]
  },
  {
   "cell_type": "markdown",
   "id": "3256349d",
   "metadata": {
    "papermill": {
     "duration": 0.012149,
     "end_time": "2022-07-14T17:37:48.040434",
     "exception": false,
     "start_time": "2022-07-14T17:37:48.028285",
     "status": "completed"
    },
    "tags": []
   },
   "source": [
    "### Plot ROC curves for individual one-vs-rest classifiers"
   ]
  },
  {
   "cell_type": "code",
   "execution_count": 14,
   "id": "d479f963",
   "metadata": {
    "execution": {
     "iopub.execute_input": "2022-07-14T17:37:48.053511Z",
     "iopub.status.busy": "2022-07-14T17:37:48.053267Z",
     "iopub.status.idle": "2022-07-14T17:37:48.404881Z",
     "shell.execute_reply": "2022-07-14T17:37:48.404275Z"
    },
    "papermill": {
     "duration": 0.359868,
     "end_time": "2022-07-14T17:37:48.406722",
     "exception": false,
     "start_time": "2022-07-14T17:37:48.046854",
     "status": "completed"
    },
    "tags": []
   },
   "outputs": [],
   "source": [
    "from sklearn import metrics"
   ]
  },
  {
   "cell_type": "code",
   "execution_count": 15,
   "id": "a26d8b6a",
   "metadata": {
    "execution": {
     "iopub.execute_input": "2022-07-14T17:37:48.418789Z",
     "iopub.status.busy": "2022-07-14T17:37:48.418535Z",
     "iopub.status.idle": "2022-07-14T17:37:49.379849Z",
     "shell.execute_reply": "2022-07-14T17:37:49.379184Z"
    },
    "papermill": {
     "duration": 0.969356,
     "end_time": "2022-07-14T17:37:49.381473",
     "exception": false,
     "start_time": "2022-07-14T17:37:48.412117",
     "status": "completed"
    },
    "tags": []
   },
   "outputs": [
    {
     "data": {
      "image/png": "[encoded data removed]",
      "text/plain": [
       "<Figure size 1152x576 with 10 Axes>"
      ]
     },
     "metadata": {
      "needs_background": "light"
     },
     "output_type": "display_data"
    }
   ],
   "source": [
    "def plot_roc_curves(y, y_pred_probs):\n",
    "    # based on example code\n",
    "    # https://scikit-learn.org/stable/auto_examples/model_selection/plot_roc.html\n",
    "\n",
    "    fig, axs = plt.subplots(nrows=2, ncols=5, figsize=(16, 8))\n",
    "\n",
    "    roc_auc_dict = {}\n",
    "\n",
    "    for (r, c), digit, ax in zip(\n",
    "        it.product(range(2), range(5)), range(10), axs.reshape(-1)\n",
    "    ):\n",
    "        fpr, tpr, _ = metrics.roc_curve(y == digit, y_pred_probs[:, digit])\n",
    "        auc = metrics.auc(fpr, tpr)\n",
    "        roc_auc_dict[str(digit)] = auc\n",
    "\n",
    "        ax.plot(fpr, tpr, label=f\"ROC AUC={round(auc, 3)}\")\n",
    "\n",
    "        ax.set_title(f\"\\nDigit {digit}\", fontsize=16)\n",
    "        if r == 1:\n",
    "            ax.set_xlabel(\"FPR\", fontsize=18)\n",
    "\n",
    "        if c == 0:\n",
    "            ax.set_ylabel(\"TPR\", fontsize=18)\n",
    "\n",
    "        ax.set_xlim([-0.05, 1.05])\n",
    "        ax.set_ylim([-0.05, 1.05])\n",
    "        ax.legend(loc=\"lower right\", frameon=False, fontsize=14)\n",
    "\n",
    "    fig.tight_layout()\n",
    "    fig.suptitle(\n",
    "        f\"ROC plots for one-vs-rest performances \"\n",
    "        f\"(on evaluation data, n={y_pred_probs_test.shape[1]}\",\n",
    "        fontsize=22,\n",
    "    )\n",
    "    fig.tight_layout()\n",
    "    fig.show()\n",
    "\n",
    "    return roc_auc_dict, fig\n",
    "\n",
    "\n",
    "roc_auc_dict, fig = plot_roc_curves(y_test, y_pred_probs_test)"
   ]
  },
  {
   "cell_type": "code",
   "execution_count": 16,
   "id": "adf690ea",
   "metadata": {
    "execution": {
     "iopub.execute_input": "2022-07-14T17:37:49.394218Z",
     "iopub.status.busy": "2022-07-14T17:37:49.393859Z",
     "iopub.status.idle": "2022-07-14T17:37:49.596983Z",
     "shell.execute_reply": "2022-07-14T17:37:49.596274Z"
    },
    "papermill": {
     "duration": 0.211398,
     "end_time": "2022-07-14T17:37:49.598620",
     "exception": false,
     "start_time": "2022-07-14T17:37:49.387222",
     "status": "completed"
    },
    "tags": []
   },
   "outputs": [],
   "source": [
    "logger.log_figure(\"per-digit-roc-curves.png\", fig)"
   ]
  },
  {
   "cell_type": "code",
   "execution_count": 17,
   "id": "3f7f0263",
   "metadata": {
    "execution": {
     "iopub.execute_input": "2022-07-14T17:37:49.611859Z",
     "iopub.status.busy": "2022-07-14T17:37:49.611208Z",
     "iopub.status.idle": "2022-07-14T17:37:49.616347Z",
     "shell.execute_reply": "2022-07-14T17:37:49.615492Z"
    },
    "papermill": {
     "duration": 0.016519,
     "end_time": "2022-07-14T17:37:49.620938",
     "exception": false,
     "start_time": "2022-07-14T17:37:49.604419",
     "status": "completed"
    },
    "tags": []
   },
   "outputs": [
    {
     "data": {
      "text/plain": [
       "{'0': 1.0,\n",
       " '1': 0.9988003748828491,\n",
       " '2': 1.0,\n",
       " '3': 0.9998125585754452,\n",
       " '4': 0.9994665447340345,\n",
       " '5': 0.9992502343017807,\n",
       " '6': 0.999961896052431,\n",
       " '7': 0.9998856881572931,\n",
       " '8': 0.9928672761664565,\n",
       " '9': 0.9994284407864655}"
      ]
     },
     "execution_count": 17,
     "metadata": {},
     "output_type": "execute_result"
    }
   ],
   "source": [
    "roc_auc_dict"
   ]
  },
  {
   "cell_type": "code",
   "execution_count": 18,
   "id": "54e7988c",
   "metadata": {
    "execution": {
     "iopub.execute_input": "2022-07-14T17:37:49.633081Z",
     "iopub.status.busy": "2022-07-14T17:37:49.632857Z",
     "iopub.status.idle": "2022-07-14T17:37:49.636974Z",
     "shell.execute_reply": "2022-07-14T17:37:49.636352Z"
    },
    "papermill": {
     "duration": 0.012551,
     "end_time": "2022-07-14T17:37:49.639013",
     "exception": false,
     "start_time": "2022-07-14T17:37:49.626462",
     "status": "completed"
    },
    "tags": []
   },
   "outputs": [
    {
     "name": "stdout",
     "output_type": "stream",
     "text": [
      " - Logging roc_auc_per_digit (json) : {'0': 1.0, '1': 0.9988003748828491, '2': 1.0, '3': 0.9998125585754452, '4': 0.9994665447340345, '5': 0.9992502343017807, '6': 0.999961896052431, '7': 0.9998856881572931, '8': 0.9928672761664565, '9': 0.9994284407864655}\n"
     ]
    }
   ],
   "source": [
    "logger.log_value(\"roc_auc_per_digit\", roc_auc_dict)"
   ]
  },
  {
   "cell_type": "markdown",
   "id": "ff4fb548",
   "metadata": {
    "papermill": {
     "duration": 0.005402,
     "end_time": "2022-07-14T17:37:49.649809",
     "exception": false,
     "start_time": "2022-07-14T17:37:49.644407",
     "status": "completed"
    },
    "tags": []
   },
   "source": [
    "### Compute and log mean ROC AUC score averaged over all digits"
   ]
  },
  {
   "cell_type": "code",
   "execution_count": 19,
   "id": "8a324ee9",
   "metadata": {
    "execution": {
     "iopub.execute_input": "2022-07-14T17:37:49.665491Z",
     "iopub.status.busy": "2022-07-14T17:37:49.665046Z",
     "iopub.status.idle": "2022-07-14T17:37:49.680761Z",
     "shell.execute_reply": "2022-07-14T17:37:49.680138Z"
    },
    "papermill": {
     "duration": 0.027609,
     "end_time": "2022-07-14T17:37:49.682886",
     "exception": false,
     "start_time": "2022-07-14T17:37:49.655277",
     "status": "completed"
    },
    "tags": []
   },
   "outputs": [
    {
     "name": "stdout",
     "output_type": "stream",
     "text": [
      " - Logging roc_auc_class_mean (float) : 0.9989473013656756\n"
     ]
    }
   ],
   "source": [
    "roc_auc_macro = np.mean(list(roc_auc_dict.values()))\n",
    "\n",
    "logger.log_float(\"roc_auc_class_mean\", roc_auc_macro)\n",
    "\n",
    "# assert that the same value can be computed directly using sklearn\n",
    "assert roc_auc_macro == metrics.roc_auc_score(\n",
    "    y_test, y_pred_probs_test, average=\"macro\", multi_class=\"ovr\"\n",
    ")"
   ]
  },
  {
   "cell_type": "code",
   "execution_count": 20,
   "id": "66d04001",
   "metadata": {
    "execution": {
     "iopub.execute_input": "2022-07-14T17:37:49.695883Z",
     "iopub.status.busy": "2022-07-14T17:37:49.695607Z",
     "iopub.status.idle": "2022-07-14T17:37:49.698533Z",
     "shell.execute_reply": "2022-07-14T17:37:49.697839Z"
    },
    "lines_to_next_cell": 0,
    "papermill": {
     "duration": 0.011298,
     "end_time": "2022-07-14T17:37:49.700351",
     "exception": false,
     "start_time": "2022-07-14T17:37:49.689053",
     "status": "completed"
    },
    "tags": []
   },
   "outputs": [],
   "source": [
    "# ---"
   ]
  },
  {
   "cell_type": "code",
   "execution_count": null,
   "id": "47c2ebe1",
   "metadata": {
    "papermill": {
     "duration": 0.005941,
     "end_time": "2022-07-14T17:37:49.712147",
     "exception": false,
     "start_time": "2022-07-14T17:37:49.706206",
     "status": "completed"
    },
    "tags": []
   },
   "outputs": [],
   "source": []
  }
 ],
 "metadata": {
  "jupytext": {
   "cell_metadata_filter": "tags,-all",
   "main_language": "python",
   "notebook_metadata_filter": "-all"
  },
  "language_info": {
   "codemirror_mode": {
    "name": "ipython",
    "version": 3
   },
   "file_extension": ".py",
   "mimetype": "text/x-python",
   "name": "python",
   "nbconvert_exporter": "python",
   "pygments_lexer": "ipython3",
   "version": "3.8.10"
  },
  "papermill": {
   "default_parameters": {},
   "duration": 8.502683,
   "end_time": "2022-07-14T17:37:50.636181",
   "environment_variables": {},
   "exception": null,
   "input_path": "/home/host_user/workspace/mnist-demo-pipeline/mnist-demo-pipeline/notebooks/temp-notebook-k5liml61.ipynb",
   "output_path": "notebooks/benchmark-model.ipynb",
   "parameters": {
    "P": {
     "_opentelemetry_traceparent": "00-8ed032a1273b4d8d9ed85f02e5fe0471-b7f12d95a3ea658a-01",
     "pipeline.data_lake_root": "/pipeline-outputs/data-lake",
     "pipeline.github.actor": "matiasdahl",
     "pipeline.github.base_ref": "",
     "pipeline.github.event_name": "schedule",
     "pipeline.github.head_ref": "",
     "pipeline.github.job": "run-tests-pipeline-and-persist-pipeline-outputs",
     "pipeline.github.ref": "refs/heads/development",
     "pipeline.github.ref_name": "development",
     "pipeline.github.ref_type": "branch",
     "pipeline.github.repository": "pynb-dag-runner/mnist-digits-demo-pipeline",
     "pipeline.github.run_id": "2668450777",
     "pipeline.github.runner_name": "GitHub Actions 2",
     "pipeline.github.sha": "147a1be9916173fd4d2cd011d8d51e3411215850",
     "pipeline.github.workflow": "Run automated tests, pipeline and deploy results to static reporting site",
     "pipeline.pipeline_run_id": "a6c4c4ae-4fdd-40fb-8a52-6e3e3984e925",
     "pipeline.run_environment": "ci",
     "run.retry_nr": "0",
     "task.max_nr_retries": "1",
     "task.notebook": "notebooks/benchmark-model.py",
     "task.nr_train_images": 800,
     "task.num_cpus": 1,
     "task.timeout_s": "None"
    }
   },
   "start_time": "2022-07-14T17:37:42.133498",
   "version": "2.3.3"
  }
 },
 "nbformat": 4,
 "nbformat_minor": 5
}