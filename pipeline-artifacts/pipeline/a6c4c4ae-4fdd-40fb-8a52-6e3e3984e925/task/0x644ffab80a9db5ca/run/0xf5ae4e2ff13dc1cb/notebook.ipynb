{
 "cells": [
  {
   "cell_type": "markdown",
   "id": "fbf3f271",
   "metadata": {
    "papermill": {
     "duration": 0.003966,
     "end_time": "2022-07-14T17:37:34.116437",
     "exception": false,
     "start_time": "2022-07-14T17:37:34.112471",
     "status": "completed"
    },
    "tags": []
   },
   "source": [
    "# Train model\n",
    "\n",
    "The purpose of this notebook is:\n",
    "\n",
    "- Load all training data (images and labels).\n",
    "- Limit number of train images to `task.nr_train_images` (value provided as run parameter).\n",
    "- Train a support vector machine model using sklearn.\n",
    "- Persist the trained model using the ONNX format."
   ]
  },
  {
   "cell_type": "markdown",
   "id": "afbe951e",
   "metadata": {
    "papermill": {
     "duration": 0.003707,
     "end_time": "2022-07-14T17:37:34.123601",
     "exception": false,
     "start_time": "2022-07-14T17:37:34.119894",
     "status": "completed"
    },
    "tags": []
   },
   "source": [
    "### Determine run parameters"
   ]
  },
  {
   "cell_type": "code",
   "execution_count": 1,
   "id": "5817fab2",
   "metadata": {
    "execution": {
     "iopub.execute_input": "2022-07-14T17:37:34.134332Z",
     "iopub.status.busy": "2022-07-14T17:37:34.134003Z",
     "iopub.status.idle": "2022-07-14T17:37:34.141069Z",
     "shell.execute_reply": "2022-07-14T17:37:34.140440Z"
    },
    "lines_to_next_cell": 0,
    "papermill": {
     "duration": 0.013051,
     "end_time": "2022-07-14T17:37:34.142649",
     "exception": false,
     "start_time": "2022-07-14T17:37:34.129598",
     "status": "completed"
    },
    "tags": []
   },
   "outputs": [],
   "source": [
    "# ----------------- Parameters for interactive development --------------\n",
    "P = {\n",
    "    \"pipeline.data_lake_root\": \"/pipeline-outputs/data-lake\",\n",
    "    \"task.nr_train_images\": 600,\n",
    "}"
   ]
  },
  {
   "cell_type": "code",
   "execution_count": 2,
   "id": "8d7f3f6c",
   "metadata": {
    "execution": {
     "iopub.execute_input": "2022-07-14T17:37:34.149681Z",
     "iopub.status.busy": "2022-07-14T17:37:34.149480Z",
     "iopub.status.idle": "2022-07-14T17:37:34.152235Z",
     "shell.execute_reply": "2022-07-14T17:37:34.151751Z"
    },
    "lines_to_next_cell": 0,
    "papermill": {
     "duration": 0.008745,
     "end_time": "2022-07-14T17:37:34.154786",
     "exception": false,
     "start_time": "2022-07-14T17:37:34.146041",
     "status": "completed"
    },
    "tags": [
     "parameters"
    ]
   },
   "outputs": [],
   "source": [
    "# - During automated runs parameters will be injected in the below cell -"
   ]
  },
  {
   "cell_type": "code",
   "execution_count": 3,
   "id": "0f676808",
   "metadata": {
    "execution": {
     "iopub.execute_input": "2022-07-14T17:37:34.161507Z",
     "iopub.status.busy": "2022-07-14T17:37:34.161311Z",
     "iopub.status.idle": "2022-07-14T17:37:34.165821Z",
     "shell.execute_reply": "2022-07-14T17:37:34.165229Z"
    },
    "papermill": {
     "duration": 0.010733,
     "end_time": "2022-07-14T17:37:34.168138",
     "exception": false,
     "start_time": "2022-07-14T17:37:34.157405",
     "status": "completed"
    },
    "tags": [
     "injected-parameters"
    ]
   },
   "outputs": [],
   "source": [
    "# Parameters\n",
    "P = {\n",
    "    \"pipeline.data_lake_root\": \"/pipeline-outputs/data-lake\",\n",
    "    \"pipeline.run_environment\": \"ci\",\n",
    "    \"pipeline.pipeline_run_id\": \"a6c4c4ae-4fdd-40fb-8a52-6e3e3984e925\",\n",
    "    \"pipeline.github.repository\": \"pynb-dag-runner/mnist-digits-demo-pipeline\",\n",
    "    \"pipeline.github.workflow\": \"Run automated tests, pipeline and deploy results to static reporting site\",\n",
    "    \"pipeline.github.runner_name\": \"GitHub Actions 2\",\n",
    "    \"pipeline.github.run_id\": \"2668450777\",\n",
    "    \"pipeline.github.actor\": \"matiasdahl\",\n",
    "    \"pipeline.github.job\": \"run-tests-pipeline-and-persist-pipeline-outputs\",\n",
    "    \"pipeline.github.base_ref\": \"\",\n",
    "    \"pipeline.github.head_ref\": \"\",\n",
    "    \"pipeline.github.sha\": \"147a1be9916173fd4d2cd011d8d51e3411215850\",\n",
    "    \"pipeline.github.ref\": \"refs/heads/development\",\n",
    "    \"pipeline.github.ref_type\": \"branch\",\n",
    "    \"pipeline.github.ref_name\": \"development\",\n",
    "    \"pipeline.github.event_name\": \"schedule\",\n",
    "    \"task.nr_train_images\": 1000,\n",
    "    \"task.notebook\": \"notebooks/train-model.py\",\n",
    "    \"task.max_nr_retries\": \"1\",\n",
    "    \"run.retry_nr\": \"0\",\n",
    "    \"task.timeout_s\": \"None\",\n",
    "    \"task.num_cpus\": 1,\n",
    "    \"_opentelemetry_traceparent\": \"00-8ed032a1273b4d8d9ed85f02e5fe0471-1b69faeb2fe034b2-01\",\n",
    "}\n"
   ]
  },
  {
   "cell_type": "code",
   "execution_count": 4,
   "id": "7d08f683",
   "metadata": {
    "execution": {
     "iopub.execute_input": "2022-07-14T17:37:34.174856Z",
     "iopub.status.busy": "2022-07-14T17:37:34.174655Z",
     "iopub.status.idle": "2022-07-14T17:37:34.177278Z",
     "shell.execute_reply": "2022-07-14T17:37:34.176710Z"
    },
    "lines_to_next_cell": 0,
    "papermill": {
     "duration": 0.008529,
     "end_time": "2022-07-14T17:37:34.179495",
     "exception": false,
     "start_time": "2022-07-14T17:37:34.170966",
     "status": "completed"
    },
    "tags": []
   },
   "outputs": [],
   "source": [
    "# -----------------------------------------------------------------------"
   ]
  },
  {
   "cell_type": "markdown",
   "id": "2de3deb0",
   "metadata": {
    "papermill": {
     "duration": 0.003011,
     "end_time": "2022-07-14T17:37:34.185415",
     "exception": false,
     "start_time": "2022-07-14T17:37:34.182404",
     "status": "completed"
    },
    "tags": []
   },
   "source": [
    "---"
   ]
  },
  {
   "cell_type": "markdown",
   "id": "f8d1f16d",
   "metadata": {
    "lines_to_next_cell": 2,
    "papermill": {
     "duration": 0.002752,
     "end_time": "2022-07-14T17:37:34.191201",
     "exception": false,
     "start_time": "2022-07-14T17:37:34.188449",
     "status": "completed"
    },
    "tags": []
   },
   "source": [
    "### Notebook code"
   ]
  },
  {
   "cell_type": "code",
   "execution_count": 5,
   "id": "138a95d9",
   "metadata": {
    "execution": {
     "iopub.execute_input": "2022-07-14T17:37:34.197625Z",
     "iopub.status.busy": "2022-07-14T17:37:34.197418Z",
     "iopub.status.idle": "2022-07-14T17:37:34.667909Z",
     "shell.execute_reply": "2022-07-14T17:37:34.666183Z"
    },
    "papermill": {
     "duration": 0.476089,
     "end_time": "2022-07-14T17:37:34.670106",
     "exception": false,
     "start_time": "2022-07-14T17:37:34.194017",
     "status": "completed"
    },
    "tags": []
   },
   "outputs": [
    {
     "name": "stderr",
     "output_type": "stream",
     "text": [
      "2022-07-14 17:37:34,492\tINFO worker.py:842 -- Connecting to existing Ray cluster at address: 172.17.0.2:6379\n"
     ]
    }
   ],
   "source": [
    "from pynb_dag_runner.tasks.task_opentelemetry_logging import PydarLogger\n",
    "\n",
    "logger = PydarLogger(P)"
   ]
  },
  {
   "cell_type": "markdown",
   "id": "9affcc2c",
   "metadata": {
    "papermill": {
     "duration": 0.00299,
     "end_time": "2022-07-14T17:37:34.676464",
     "exception": false,
     "start_time": "2022-07-14T17:37:34.673474",
     "status": "completed"
    },
    "tags": []
   },
   "source": [
    "## Load and limit train data"
   ]
  },
  {
   "cell_type": "code",
   "execution_count": 6,
   "id": "2f2f2cb2",
   "metadata": {
    "execution": {
     "iopub.execute_input": "2022-07-14T17:37:34.683761Z",
     "iopub.status.busy": "2022-07-14T17:37:34.683301Z",
     "iopub.status.idle": "2022-07-14T17:37:35.010641Z",
     "shell.execute_reply": "2022-07-14T17:37:35.009954Z"
    },
    "papermill": {
     "duration": 0.332956,
     "end_time": "2022-07-14T17:37:35.012615",
     "exception": false,
     "start_time": "2022-07-14T17:37:34.679659",
     "status": "completed"
    },
    "tags": []
   },
   "outputs": [],
   "source": [
    "def load_and_limit_train_data(P):\n",
    "    from common.io import datalake_root, read_numpy\n",
    "    from sklearn.model_selection import train_test_split\n",
    "\n",
    "    X_train_all = read_numpy(datalake_root(P) / \"train-data\" / \"digits.numpy\")\n",
    "    y_train_all = read_numpy(datalake_root(P) / \"train-data\" / \"labels.numpy\")\n",
    "\n",
    "    assert isinstance(P[\"task.nr_train_images\"], int)\n",
    "\n",
    "    # Note: train_test_split will fail if split is 0 or 100%.\n",
    "    assert 0 < P[\"task.nr_train_images\"] < len(y_train_all)\n",
    "\n",
    "    X_train, _, y_train, _ = train_test_split(\n",
    "        X_train_all,\n",
    "        y_train_all,\n",
    "        train_size=P[\"task.nr_train_images\"],\n",
    "        test_size=None,\n",
    "        stratify=y_train_all,\n",
    "        shuffle=True,\n",
    "        random_state=123,\n",
    "    )\n",
    "\n",
    "    assert X_train.shape == (len(y_train), 8 * 8)\n",
    "    return X_train, y_train\n",
    "\n",
    "\n",
    "X_train, y_train = load_and_limit_train_data(P)"
   ]
  },
  {
   "cell_type": "markdown",
   "id": "7ecc03c8",
   "metadata": {
    "papermill": {
     "duration": 0.003034,
     "end_time": "2022-07-14T17:37:35.020217",
     "exception": false,
     "start_time": "2022-07-14T17:37:35.017183",
     "status": "completed"
    },
    "tags": []
   },
   "source": [
    "## Train support vector classifier model\n",
    "\n",
    "Below we assume that the hyperparameter $C$ is known.\n",
    "\n",
    "However, this should ideally be found by a hyperparameter search. That could be\n",
    "done in parallel on the Ray cluster, but this needs some more work. Ie., to use\n",
    "multiple cores in the notebook, those cores should be reserved when starting the\n",
    "notebook task (TODO).\n",
    "\n",
    "- https://docs.ray.io/en/latest/tune/key-concepts.html\n",
    "\n",
    "Note: cv-scores would need to be computed here, since they depend on the train data.\n",
    "After this notebook only the onnx-model is available."
   ]
  },
  {
   "cell_type": "code",
   "execution_count": 7,
   "id": "7901e800",
   "metadata": {
    "execution": {
     "iopub.execute_input": "2022-07-14T17:37:35.027454Z",
     "iopub.status.busy": "2022-07-14T17:37:35.026859Z",
     "iopub.status.idle": "2022-07-14T17:37:35.049953Z",
     "shell.execute_reply": "2022-07-14T17:37:35.049400Z"
    },
    "papermill": {
     "duration": 0.028473,
     "end_time": "2022-07-14T17:37:35.051630",
     "exception": false,
     "start_time": "2022-07-14T17:37:35.023157",
     "status": "completed"
    },
    "tags": []
   },
   "outputs": [],
   "source": [
    "from sklearn.svm import SVC"
   ]
  },
  {
   "cell_type": "code",
   "execution_count": 8,
   "id": "24377371",
   "metadata": {
    "execution": {
     "iopub.execute_input": "2022-07-14T17:37:35.058823Z",
     "iopub.status.busy": "2022-07-14T17:37:35.058613Z",
     "iopub.status.idle": "2022-07-14T17:37:35.217230Z",
     "shell.execute_reply": "2022-07-14T17:37:35.216578Z"
    },
    "papermill": {
     "duration": 0.163916,
     "end_time": "2022-07-14T17:37:35.218759",
     "exception": false,
     "start_time": "2022-07-14T17:37:35.054843",
     "status": "completed"
    },
    "tags": []
   },
   "outputs": [
    {
     "data": {
      "text/plain": [
       "SVC(C=0.001, kernel='linear', probability=True)"
      ]
     },
     "execution_count": 8,
     "metadata": {},
     "output_type": "execute_result"
    }
   ],
   "source": [
    "model = SVC(C=0.001, kernel=\"linear\", probability=True)\n",
    "\n",
    "model.fit(X_train, y_train)"
   ]
  },
  {
   "cell_type": "markdown",
   "id": "90b3fb01",
   "metadata": {
    "papermill": {
     "duration": 0.003613,
     "end_time": "2022-07-14T17:37:35.225996",
     "exception": false,
     "start_time": "2022-07-14T17:37:35.222383",
     "status": "completed"
    },
    "tags": []
   },
   "source": [
    "### Q: Can the labels returned by `predict(..)` be computed from probabilities returned by the `predict_prob`-method?"
   ]
  },
  {
   "cell_type": "code",
   "execution_count": 9,
   "id": "95588e68",
   "metadata": {
    "execution": {
     "iopub.execute_input": "2022-07-14T17:37:35.234211Z",
     "iopub.status.busy": "2022-07-14T17:37:35.233960Z",
     "iopub.status.idle": "2022-07-14T17:37:35.316962Z",
     "shell.execute_reply": "2022-07-14T17:37:35.316384Z"
    },
    "papermill": {
     "duration": 0.089322,
     "end_time": "2022-07-14T17:37:35.318574",
     "exception": false,
     "start_time": "2022-07-14T17:37:35.229252",
     "status": "completed"
    },
    "tags": []
   },
   "outputs": [
    {
     "name": "stdout",
     "output_type": "stream",
     "text": [
      " - Logging nr_max_prob_neq_label (int) : 1\n"
     ]
    }
   ],
   "source": [
    "import numpy as np\n",
    "\n",
    "y_train_labels = model.predict(X_train)\n",
    "y_train_probabilities = model.predict_proba(X_train)\n",
    "assert y_train_probabilities.shape == (len(y_train), 10)\n",
    "\n",
    "y_train_max_prob_labels = np.argmax(y_train_probabilities, axis=1)\n",
    "assert y_train_labels.shape == y_train_max_prob_labels.shape == y_train.shape\n",
    "\n",
    "# If the predicted labels would coincide with the labels that have\n",
    "# maximum probability, the below number would be zero\n",
    "logger.log_int(\n",
    "    \"nr_max_prob_neq_label\", int(sum(y_train_max_prob_labels != y_train_labels))\n",
    ")"
   ]
  },
  {
   "cell_type": "markdown",
   "id": "e9be8e39",
   "metadata": {
    "papermill": {
     "duration": 0.003257,
     "end_time": "2022-07-14T17:37:35.325247",
     "exception": false,
     "start_time": "2022-07-14T17:37:35.321990",
     "status": "completed"
    },
    "tags": []
   },
   "source": [
    "The explanation is (likely) explained in the SVC source, see\n",
    "[here](https://github.com/scikit-learn/scikit-learn/blob/main/sklearn/svm/_base.py).\n",
    "Namely, the outputs from `predict(..)` and `predict_proba(..)` may not in some\n",
    "cases be compatible since the latter is computed using cross-validation while\n",
    "the former is not. Thus, the above number need not be zero."
   ]
  },
  {
   "cell_type": "markdown",
   "id": "38d94edc",
   "metadata": {
    "papermill": {
     "duration": 0.003309,
     "end_time": "2022-07-14T17:37:35.331929",
     "exception": false,
     "start_time": "2022-07-14T17:37:35.328620",
     "status": "completed"
    },
    "tags": []
   },
   "source": [
    "## Persist model"
   ]
  },
  {
   "cell_type": "code",
   "execution_count": 10,
   "id": "c11be177",
   "metadata": {
    "execution": {
     "iopub.execute_input": "2022-07-14T17:37:35.339694Z",
     "iopub.status.busy": "2022-07-14T17:37:35.339428Z",
     "iopub.status.idle": "2022-07-14T17:37:36.117092Z",
     "shell.execute_reply": "2022-07-14T17:37:36.116473Z"
    },
    "papermill": {
     "duration": 0.783686,
     "end_time": "2022-07-14T17:37:36.118915",
     "exception": false,
     "start_time": "2022-07-14T17:37:35.335229",
     "status": "completed"
    },
    "tags": []
   },
   "outputs": [],
   "source": [
    "from skl2onnx import convert_sklearn\n",
    "from skl2onnx.common.data_types import FloatTensorType\n",
    "\n",
    "#\n",
    "from common.io import datalake_root, write_onnx"
   ]
  },
  {
   "cell_type": "code",
   "execution_count": 11,
   "id": "c2387758",
   "metadata": {
    "execution": {
     "iopub.execute_input": "2022-07-14T17:37:36.128330Z",
     "iopub.status.busy": "2022-07-14T17:37:36.127814Z",
     "iopub.status.idle": "2022-07-14T17:37:36.184800Z",
     "shell.execute_reply": "2022-07-14T17:37:36.184226Z"
    },
    "papermill": {
     "duration": 0.063964,
     "end_time": "2022-07-14T17:37:36.186950",
     "exception": false,
     "start_time": "2022-07-14T17:37:36.122986",
     "status": "completed"
    },
    "tags": []
   },
   "outputs": [],
   "source": [
    "# convert sklearn model into onnx and persist to data lake\n",
    "\n",
    "model_onnx = convert_sklearn(\n",
    "    model, initial_types=[(\"float_input_8x8_image\", FloatTensorType([None, 8 * 8]))]\n",
    ")\n",
    "write_onnx(\n",
    "    datalake_root(P)\n",
    "    / \"models\"\n",
    "    / f\"nr_train_images={P['task.nr_train_images']}\"\n",
    "    / \"model.onnx\",\n",
    "    model_onnx,\n",
    ")"
   ]
  },
  {
   "cell_type": "code",
   "execution_count": null,
   "id": "fae04d33",
   "metadata": {
    "papermill": {
     "duration": 0.003889,
     "end_time": "2022-07-14T17:37:36.194285",
     "exception": false,
     "start_time": "2022-07-14T17:37:36.190396",
     "status": "completed"
    },
    "tags": []
   },
   "outputs": [],
   "source": []
  }
 ],
 "metadata": {
  "jupytext": {
   "cell_metadata_filter": "tags,-all",
   "main_language": "python",
   "notebook_metadata_filter": "-all"
  },
  "language_info": {
   "codemirror_mode": {
    "name": "ipython",
    "version": 3
   },
   "file_extension": ".py",
   "mimetype": "text/x-python",
   "name": "python",
   "nbconvert_exporter": "python",
   "pygments_lexer": "ipython3",
   "version": "3.8.10"
  },
  "papermill": {
   "default_parameters": {},
   "duration": 4.449668,
   "end_time": "2022-07-14T17:37:37.215843",
   "environment_variables": {},
   "exception": null,
   "input_path": "/home/host_user/workspace/mnist-demo-pipeline/mnist-demo-pipeline/notebooks/temp-notebook-_xkw3mq0.ipynb",
   "output_path": "notebooks/train-model.ipynb",
   "parameters": {
    "P": {
     "_opentelemetry_traceparent": "00-8ed032a1273b4d8d9ed85f02e5fe0471-1b69faeb2fe034b2-01",
     "pipeline.data_lake_root": "/pipeline-outputs/data-lake",
     "pipeline.github.actor": "matiasdahl",
     "pipeline.github.base_ref": "",
     "pipeline.github.event_name": "schedule",
     "pipeline.github.head_ref": "",
     "pipeline.github.job": "run-tests-pipeline-and-persist-pipeline-outputs",
     "pipeline.github.ref": "refs/heads/development",
     "pipeline.github.ref_name": "development",
     "pipeline.github.ref_type": "branch",
     "pipeline.github.repository": "pynb-dag-runner/mnist-digits-demo-pipeline",
     "pipeline.github.run_id": "2668450777",
     "pipeline.github.runner_name": "GitHub Actions 2",
     "pipeline.github.sha": "147a1be9916173fd4d2cd011d8d51e3411215850",
     "pipeline.github.workflow": "Run automated tests, pipeline and deploy results to static reporting site",
     "pipeline.pipeline_run_id": "a6c4c4ae-4fdd-40fb-8a52-6e3e3984e925",
     "pipeline.run_environment": "ci",
     "run.retry_nr": "0",
     "task.max_nr_retries": "1",
     "task.notebook": "notebooks/train-model.py",
     "task.nr_train_images": 1000,
     "task.num_cpus": 1,
     "task.timeout_s": "None"
    }
   },
   "start_time": "2022-07-14T17:37:32.766175",
   "version": "2.3.3"
  }
 },
 "nbformat": 4,
 "nbformat_minor": 5
}