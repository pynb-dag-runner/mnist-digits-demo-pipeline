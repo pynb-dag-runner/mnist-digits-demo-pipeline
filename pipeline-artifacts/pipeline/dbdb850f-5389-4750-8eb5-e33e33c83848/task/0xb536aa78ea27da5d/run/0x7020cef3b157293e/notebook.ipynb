{
 "cells": [
  {
   "cell_type": "markdown",
   "id": "c22980bb",
   "metadata": {
    "papermill": {
     "duration": 0.004937,
     "end_time": "2022-07-14T19:56:55.545711",
     "exception": false,
     "start_time": "2022-07-14T19:56:55.540774",
     "status": "completed"
    },
    "tags": []
   },
   "source": [
    "# Train model\n",
    "\n",
    "The purpose of this notebook is:\n",
    "\n",
    "- Load all training data (images and labels).\n",
    "- Limit number of train images to `task.nr_train_images` (value provided as run parameter).\n",
    "- Train a support vector machine model using sklearn.\n",
    "- Persist the trained model using the ONNX format."
   ]
  },
  {
   "cell_type": "markdown",
   "id": "70016267",
   "metadata": {
    "papermill": {
     "duration": 0.002719,
     "end_time": "2022-07-14T19:56:55.551670",
     "exception": false,
     "start_time": "2022-07-14T19:56:55.548951",
     "status": "completed"
    },
    "tags": []
   },
   "source": [
    "### Determine run parameters"
   ]
  },
  {
   "cell_type": "code",
   "execution_count": 1,
   "id": "b5550115",
   "metadata": {
    "execution": {
     "iopub.execute_input": "2022-07-14T19:56:55.559542Z",
     "iopub.status.busy": "2022-07-14T19:56:55.559146Z",
     "iopub.status.idle": "2022-07-14T19:56:55.568431Z",
     "shell.execute_reply": "2022-07-14T19:56:55.567830Z"
    },
    "lines_to_next_cell": 0,
    "papermill": {
     "duration": 0.015368,
     "end_time": "2022-07-14T19:56:55.570274",
     "exception": false,
     "start_time": "2022-07-14T19:56:55.554906",
     "status": "completed"
    },
    "tags": []
   },
   "outputs": [],
   "source": [
    "# ----------------- Parameters for interactive development --------------\n",
    "P = {\n",
    "    \"pipeline.data_lake_root\": \"/pipeline-outputs/data-lake\",\n",
    "    \"task.nr_train_images\": 600,\n",
    "}"
   ]
  },
  {
   "cell_type": "code",
   "execution_count": 2,
   "id": "65165a90",
   "metadata": {
    "execution": {
     "iopub.execute_input": "2022-07-14T19:56:55.577456Z",
     "iopub.status.busy": "2022-07-14T19:56:55.577201Z",
     "iopub.status.idle": "2022-07-14T19:56:55.580075Z",
     "shell.execute_reply": "2022-07-14T19:56:55.579562Z"
    },
    "lines_to_next_cell": 0,
    "papermill": {
     "duration": 0.009062,
     "end_time": "2022-07-14T19:56:55.582638",
     "exception": false,
     "start_time": "2022-07-14T19:56:55.573576",
     "status": "completed"
    },
    "tags": [
     "parameters"
    ]
   },
   "outputs": [],
   "source": [
    "# - During automated runs parameters will be injected in the below cell -"
   ]
  },
  {
   "cell_type": "code",
   "execution_count": 3,
   "id": "66bcb7ee",
   "metadata": {
    "execution": {
     "iopub.execute_input": "2022-07-14T19:56:55.590108Z",
     "iopub.status.busy": "2022-07-14T19:56:55.589852Z",
     "iopub.status.idle": "2022-07-14T19:56:55.594800Z",
     "shell.execute_reply": "2022-07-14T19:56:55.594230Z"
    },
    "papermill": {
     "duration": 0.011821,
     "end_time": "2022-07-14T19:56:55.597744",
     "exception": false,
     "start_time": "2022-07-14T19:56:55.585923",
     "status": "completed"
    },
    "tags": [
     "injected-parameters"
    ]
   },
   "outputs": [],
   "source": [
    "# Parameters\n",
    "P = {\n",
    "    \"pipeline.data_lake_root\": \"/pipeline-outputs/data-lake\",\n",
    "    \"pipeline.run_environment\": \"ci\",\n",
    "    \"pipeline.pipeline_run_id\": \"dbdb850f-5389-4750-8eb5-e33e33c83848\",\n",
    "    \"pipeline.github.repository\": \"pynb-dag-runner/mnist-digits-demo-pipeline\",\n",
    "    \"pipeline.github.workflow\": \"Run automated tests, pipeline and deploy results to static reporting site\",\n",
    "    \"pipeline.github.runner_name\": \"GitHub Actions 2\",\n",
    "    \"pipeline.github.run_id\": \"2672052849\",\n",
    "    \"pipeline.github.actor\": \"matiasdahl\",\n",
    "    \"pipeline.github.job\": \"run-tests-pipeline-and-persist-pipeline-outputs\",\n",
    "    \"pipeline.github.base_ref\": \"development\",\n",
    "    \"pipeline.github.head_ref\": \"try-C-hyperparameter\",\n",
    "    \"pipeline.github.sha\": \"1150ca0bf632c46a3bc0535697829c0df0420613\",\n",
    "    \"pipeline.github.ref\": \"refs/pull/55/merge\",\n",
    "    \"pipeline.github.ref_type\": \"branch\",\n",
    "    \"pipeline.github.ref_name\": \"55/merge\",\n",
    "    \"pipeline.github.event_name\": \"pull_request\",\n",
    "    \"task.nr_train_images\": 800,\n",
    "    \"task.notebook\": \"notebooks/train-model.py\",\n",
    "    \"task.max_nr_retries\": \"1\",\n",
    "    \"run.retry_nr\": \"0\",\n",
    "    \"task.timeout_s\": \"None\",\n",
    "    \"task.num_cpus\": 1,\n",
    "    \"_opentelemetry_traceparent\": \"00-7fe56a2882a4c11ac86715a3e8709335-759717cb85c346a3-01\",\n",
    "}\n"
   ]
  },
  {
   "cell_type": "code",
   "execution_count": 4,
   "id": "13199c94",
   "metadata": {
    "execution": {
     "iopub.execute_input": "2022-07-14T19:56:55.605074Z",
     "iopub.status.busy": "2022-07-14T19:56:55.604831Z",
     "iopub.status.idle": "2022-07-14T19:56:55.607700Z",
     "shell.execute_reply": "2022-07-14T19:56:55.607195Z"
    },
    "lines_to_next_cell": 0,
    "papermill": {
     "duration": 0.009748,
     "end_time": "2022-07-14T19:56:55.610560",
     "exception": false,
     "start_time": "2022-07-14T19:56:55.600812",
     "status": "completed"
    },
    "tags": []
   },
   "outputs": [],
   "source": [
    "# -----------------------------------------------------------------------"
   ]
  },
  {
   "cell_type": "markdown",
   "id": "cb328566",
   "metadata": {
    "papermill": {
     "duration": 0.003192,
     "end_time": "2022-07-14T19:56:55.617477",
     "exception": false,
     "start_time": "2022-07-14T19:56:55.614285",
     "status": "completed"
    },
    "tags": []
   },
   "source": [
    "---"
   ]
  },
  {
   "cell_type": "markdown",
   "id": "f7b0a8d3",
   "metadata": {
    "lines_to_next_cell": 2,
    "papermill": {
     "duration": 0.003075,
     "end_time": "2022-07-14T19:56:55.623330",
     "exception": false,
     "start_time": "2022-07-14T19:56:55.620255",
     "status": "completed"
    },
    "tags": []
   },
   "source": [
    "### Notebook code"
   ]
  },
  {
   "cell_type": "code",
   "execution_count": 5,
   "id": "cac87871",
   "metadata": {
    "execution": {
     "iopub.execute_input": "2022-07-14T19:56:55.631907Z",
     "iopub.status.busy": "2022-07-14T19:56:55.631225Z",
     "iopub.status.idle": "2022-07-14T19:56:56.094874Z",
     "shell.execute_reply": "2022-07-14T19:56:56.094241Z"
    },
    "papermill": {
     "duration": 0.46937,
     "end_time": "2022-07-14T19:56:56.096546",
     "exception": false,
     "start_time": "2022-07-14T19:56:55.627176",
     "status": "completed"
    },
    "tags": []
   },
   "outputs": [
    {
     "name": "stderr",
     "output_type": "stream",
     "text": [
      "2022-07-14 19:56:55,928\tINFO worker.py:842 -- Connecting to existing Ray cluster at address: 172.17.0.2:6379\n"
     ]
    }
   ],
   "source": [
    "from pynb_dag_runner.tasks.task_opentelemetry_logging import PydarLogger\n",
    "\n",
    "logger = PydarLogger(P)"
   ]
  },
  {
   "cell_type": "markdown",
   "id": "30653530",
   "metadata": {
    "papermill": {
     "duration": 0.003025,
     "end_time": "2022-07-14T19:56:56.102859",
     "exception": false,
     "start_time": "2022-07-14T19:56:56.099834",
     "status": "completed"
    },
    "tags": []
   },
   "source": [
    "## Load and limit train data"
   ]
  },
  {
   "cell_type": "code",
   "execution_count": 6,
   "id": "720803ab",
   "metadata": {
    "execution": {
     "iopub.execute_input": "2022-07-14T19:56:56.109750Z",
     "iopub.status.busy": "2022-07-14T19:56:56.109435Z",
     "iopub.status.idle": "2022-07-14T19:56:56.752033Z",
     "shell.execute_reply": "2022-07-14T19:56:56.751280Z"
    },
    "papermill": {
     "duration": 0.648244,
     "end_time": "2022-07-14T19:56:56.753957",
     "exception": false,
     "start_time": "2022-07-14T19:56:56.105713",
     "status": "completed"
    },
    "tags": []
   },
   "outputs": [],
   "source": [
    "def load_and_limit_train_data(P):\n",
    "    from common.io import datalake_root, read_numpy\n",
    "    from sklearn.model_selection import train_test_split\n",
    "\n",
    "    X_train_all = read_numpy(datalake_root(P) / \"train-data\" / \"digits.numpy\")\n",
    "    y_train_all = read_numpy(datalake_root(P) / \"train-data\" / \"labels.numpy\")\n",
    "\n",
    "    assert isinstance(P[\"task.nr_train_images\"], int)\n",
    "\n",
    "    # Note: train_test_split will fail if split is 0 or 100%.\n",
    "    assert 0 < P[\"task.nr_train_images\"] < len(y_train_all)\n",
    "\n",
    "    X_train, _, y_train, _ = train_test_split(\n",
    "        X_train_all,\n",
    "        y_train_all,\n",
    "        train_size=P[\"task.nr_train_images\"],\n",
    "        test_size=None,\n",
    "        stratify=y_train_all,\n",
    "        shuffle=True,\n",
    "        random_state=123,\n",
    "    )\n",
    "\n",
    "    assert X_train.shape == (len(y_train), 8 * 8)\n",
    "    return X_train, y_train\n",
    "\n",
    "\n",
    "X_train, y_train = load_and_limit_train_data(P)"
   ]
  },
  {
   "cell_type": "markdown",
   "id": "4fcd37b6",
   "metadata": {
    "papermill": {
     "duration": 0.002953,
     "end_time": "2022-07-14T19:56:56.760943",
     "exception": false,
     "start_time": "2022-07-14T19:56:56.757990",
     "status": "completed"
    },
    "tags": []
   },
   "source": [
    "## Train support vector classifier model\n",
    "\n",
    "Below we assume that the hyperparameter $C$ is known.\n",
    "\n",
    "However, this should ideally be found by a hyperparameter search. That could be\n",
    "done in parallel on the Ray cluster, but this needs some more work. Ie., to use\n",
    "multiple cores in the notebook, those cores should be reserved when starting the\n",
    "notebook task (TODO).\n",
    "\n",
    "- https://docs.ray.io/en/latest/tune/key-concepts.html\n",
    "\n",
    "Note: cv-scores would need to be computed here, since they depend on the train data.\n",
    "After this notebook only the onnx-model is available."
   ]
  },
  {
   "cell_type": "code",
   "execution_count": 7,
   "id": "2e03c0e4",
   "metadata": {
    "execution": {
     "iopub.execute_input": "2022-07-14T19:56:56.768209Z",
     "iopub.status.busy": "2022-07-14T19:56:56.767943Z",
     "iopub.status.idle": "2022-07-14T19:56:56.789646Z",
     "shell.execute_reply": "2022-07-14T19:56:56.789073Z"
    },
    "papermill": {
     "duration": 0.027219,
     "end_time": "2022-07-14T19:56:56.791346",
     "exception": false,
     "start_time": "2022-07-14T19:56:56.764127",
     "status": "completed"
    },
    "tags": []
   },
   "outputs": [],
   "source": [
    "from sklearn.svm import SVC"
   ]
  },
  {
   "cell_type": "code",
   "execution_count": 8,
   "id": "b61d9141",
   "metadata": {
    "execution": {
     "iopub.execute_input": "2022-07-14T19:56:56.799097Z",
     "iopub.status.busy": "2022-07-14T19:56:56.798645Z",
     "iopub.status.idle": "2022-07-14T19:56:56.911568Z",
     "shell.execute_reply": "2022-07-14T19:56:56.910994Z"
    },
    "papermill": {
     "duration": 0.118664,
     "end_time": "2022-07-14T19:56:56.913274",
     "exception": false,
     "start_time": "2022-07-14T19:56:56.794610",
     "status": "completed"
    },
    "tags": []
   },
   "outputs": [
    {
     "data": {
      "text/plain": [
       "SVC(C=10.0, kernel='linear', probability=True)"
      ]
     },
     "execution_count": 8,
     "metadata": {},
     "output_type": "execute_result"
    }
   ],
   "source": [
    "model = SVC(C=10.0, kernel=\"linear\", probability=True)\n",
    "\n",
    "model.fit(X_train, y_train)"
   ]
  },
  {
   "cell_type": "markdown",
   "id": "a9219394",
   "metadata": {
    "papermill": {
     "duration": 0.0037,
     "end_time": "2022-07-14T19:56:56.920432",
     "exception": false,
     "start_time": "2022-07-14T19:56:56.916732",
     "status": "completed"
    },
    "tags": []
   },
   "source": [
    "### Q: Can the labels returned by `predict(..)` be computed from probabilities returned by the `predict_prob`-method?"
   ]
  },
  {
   "cell_type": "code",
   "execution_count": 9,
   "id": "08d4b80a",
   "metadata": {
    "execution": {
     "iopub.execute_input": "2022-07-14T19:56:56.928047Z",
     "iopub.status.busy": "2022-07-14T19:56:56.927761Z",
     "iopub.status.idle": "2022-07-14T19:56:56.979247Z",
     "shell.execute_reply": "2022-07-14T19:56:56.978647Z"
    },
    "papermill": {
     "duration": 0.057524,
     "end_time": "2022-07-14T19:56:56.981064",
     "exception": false,
     "start_time": "2022-07-14T19:56:56.923540",
     "status": "completed"
    },
    "tags": []
   },
   "outputs": [
    {
     "name": "stdout",
     "output_type": "stream",
     "text": [
      " - Logging nr_max_prob_neq_label (int) : 0\n"
     ]
    }
   ],
   "source": [
    "import numpy as np\n",
    "\n",
    "y_train_labels = model.predict(X_train)\n",
    "y_train_probabilities = model.predict_proba(X_train)\n",
    "assert y_train_probabilities.shape == (len(y_train), 10)\n",
    "\n",
    "y_train_max_prob_labels = np.argmax(y_train_probabilities, axis=1)\n",
    "assert y_train_labels.shape == y_train_max_prob_labels.shape == y_train.shape\n",
    "\n",
    "# If the predicted labels would coincide with the labels that have\n",
    "# maximum probability, the below number would be zero\n",
    "logger.log_int(\n",
    "    \"nr_max_prob_neq_label\", int(sum(y_train_max_prob_labels != y_train_labels))\n",
    ")"
   ]
  },
  {
   "cell_type": "markdown",
   "id": "87fa411f",
   "metadata": {
    "papermill": {
     "duration": 0.003202,
     "end_time": "2022-07-14T19:56:56.988987",
     "exception": false,
     "start_time": "2022-07-14T19:56:56.985785",
     "status": "completed"
    },
    "tags": []
   },
   "source": [
    "The explanation is (likely) explained in the SVC source, see\n",
    "[here](https://github.com/scikit-learn/scikit-learn/blob/main/sklearn/svm/_base.py).\n",
    "Namely, the outputs from `predict(..)` and `predict_proba(..)` may not in some\n",
    "cases be compatible since the latter is computed using cross-validation while\n",
    "the former is not. Thus, the above number need not be zero."
   ]
  },
  {
   "cell_type": "markdown",
   "id": "6068c5ed",
   "metadata": {
    "papermill": {
     "duration": 0.003788,
     "end_time": "2022-07-14T19:56:56.996162",
     "exception": false,
     "start_time": "2022-07-14T19:56:56.992374",
     "status": "completed"
    },
    "tags": []
   },
   "source": [
    "## Persist model"
   ]
  },
  {
   "cell_type": "code",
   "execution_count": 10,
   "id": "efdc2e75",
   "metadata": {
    "execution": {
     "iopub.execute_input": "2022-07-14T19:56:57.003891Z",
     "iopub.status.busy": "2022-07-14T19:56:57.003625Z",
     "iopub.status.idle": "2022-07-14T19:56:57.726927Z",
     "shell.execute_reply": "2022-07-14T19:56:57.726236Z"
    },
    "papermill": {
     "duration": 0.729465,
     "end_time": "2022-07-14T19:56:57.728663",
     "exception": false,
     "start_time": "2022-07-14T19:56:56.999198",
     "status": "completed"
    },
    "tags": []
   },
   "outputs": [],
   "source": [
    "from skl2onnx import convert_sklearn\n",
    "from skl2onnx.common.data_types import FloatTensorType\n",
    "\n",
    "#\n",
    "from common.io import datalake_root, write_onnx"
   ]
  },
  {
   "cell_type": "code",
   "execution_count": 11,
   "id": "ae659d97",
   "metadata": {
    "execution": {
     "iopub.execute_input": "2022-07-14T19:56:57.737843Z",
     "iopub.status.busy": "2022-07-14T19:56:57.737295Z",
     "iopub.status.idle": "2022-07-14T19:56:57.780033Z",
     "shell.execute_reply": "2022-07-14T19:56:57.779388Z"
    },
    "papermill": {
     "duration": 0.048646,
     "end_time": "2022-07-14T19:56:57.781760",
     "exception": false,
     "start_time": "2022-07-14T19:56:57.733114",
     "status": "completed"
    },
    "tags": []
   },
   "outputs": [],
   "source": [
    "# convert sklearn model into onnx and persist to data lake\n",
    "\n",
    "model_onnx = convert_sklearn(\n",
    "    model, initial_types=[(\"float_input_8x8_image\", FloatTensorType([None, 8 * 8]))]\n",
    ")\n",
    "write_onnx(\n",
    "    datalake_root(P)\n",
    "    / \"models\"\n",
    "    / f\"nr_train_images={P['task.nr_train_images']}\"\n",
    "    / \"model.onnx\",\n",
    "    model_onnx,\n",
    ")"
   ]
  },
  {
   "cell_type": "code",
   "execution_count": null,
   "id": "cdcab24b",
   "metadata": {
    "papermill": {
     "duration": 0.003431,
     "end_time": "2022-07-14T19:56:57.788785",
     "exception": false,
     "start_time": "2022-07-14T19:56:57.785354",
     "status": "completed"
    },
    "tags": []
   },
   "outputs": [],
   "source": []
  }
 ],
 "metadata": {
  "jupytext": {
   "cell_metadata_filter": "tags,-all",
   "main_language": "python",
   "notebook_metadata_filter": "-all"
  },
  "language_info": {
   "codemirror_mode": {
    "name": "ipython",
    "version": 3
   },
   "file_extension": ".py",
   "mimetype": "text/x-python",
   "name": "python",
   "nbconvert_exporter": "python",
   "pygments_lexer": "ipython3",
   "version": "3.8.10"
  },
  "papermill": {
   "default_parameters": {},
   "duration": 4.653261,
   "end_time": "2022-07-14T19:56:58.914800",
   "environment_variables": {},
   "exception": null,
   "input_path": "/home/host_user/workspace/mnist-demo-pipeline/mnist-demo-pipeline/notebooks/temp-notebook-231xftuw.ipynb",
   "output_path": "notebooks/train-model.ipynb",
   "parameters": {
    "P": {
     "_opentelemetry_traceparent": "00-7fe56a2882a4c11ac86715a3e8709335-759717cb85c346a3-01",
     "pipeline.data_lake_root": "/pipeline-outputs/data-lake",
     "pipeline.github.actor": "matiasdahl",
     "pipeline.github.base_ref": "development",
     "pipeline.github.event_name": "pull_request",
     "pipeline.github.head_ref": "try-C-hyperparameter",
     "pipeline.github.job": "run-tests-pipeline-and-persist-pipeline-outputs",
     "pipeline.github.ref": "refs/pull/55/merge",
     "pipeline.github.ref_name": "55/merge",
     "pipeline.github.ref_type": "branch",
     "pipeline.github.repository": "pynb-dag-runner/mnist-digits-demo-pipeline",
     "pipeline.github.run_id": "2672052849",
     "pipeline.github.runner_name": "GitHub Actions 2",
     "pipeline.github.sha": "1150ca0bf632c46a3bc0535697829c0df0420613",
     "pipeline.github.workflow": "Run automated tests, pipeline and deploy results to static reporting site",
     "pipeline.pipeline_run_id": "dbdb850f-5389-4750-8eb5-e33e33c83848",
     "pipeline.run_environment": "ci",
     "run.retry_nr": "0",
     "task.max_nr_retries": "1",
     "task.notebook": "notebooks/train-model.py",
     "task.nr_train_images": 800,
     "task.num_cpus": 1,
     "task.timeout_s": "None"
    }
   },
   "start_time": "2022-07-14T19:56:54.261539",
   "version": "2.3.3"
  }
 },
 "nbformat": 4,
 "nbformat_minor": 5
}