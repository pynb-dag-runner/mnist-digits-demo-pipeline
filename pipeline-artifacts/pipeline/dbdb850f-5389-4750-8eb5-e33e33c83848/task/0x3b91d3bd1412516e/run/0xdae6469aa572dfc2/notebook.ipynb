{
 "cells": [
  {
   "cell_type": "markdown",
   "id": "c8d0f981",
   "metadata": {
    "papermill": {
     "duration": 0.008711,
     "end_time": "2022-07-14T19:56:40.634607",
     "exception": false,
     "start_time": "2022-07-14T19:56:40.625896",
     "status": "completed"
    },
    "tags": []
   },
   "source": [
    "# Split digits and labels into separate training and testing data sets"
   ]
  },
  {
   "cell_type": "markdown",
   "id": "327d628e",
   "metadata": {
    "papermill": {
     "duration": 0.00309,
     "end_time": "2022-07-14T19:56:40.640266",
     "exception": false,
     "start_time": "2022-07-14T19:56:40.637176",
     "status": "completed"
    },
    "tags": []
   },
   "source": [
    "### Determine run parameters"
   ]
  },
  {
   "cell_type": "code",
   "execution_count": 1,
   "id": "6488cfbe",
   "metadata": {
    "execution": {
     "iopub.execute_input": "2022-07-14T19:56:40.646330Z",
     "iopub.status.busy": "2022-07-14T19:56:40.646017Z",
     "iopub.status.idle": "2022-07-14T19:56:40.653863Z",
     "shell.execute_reply": "2022-07-14T19:56:40.653292Z"
    },
    "lines_to_next_cell": 0,
    "papermill": {
     "duration": 0.014915,
     "end_time": "2022-07-14T19:56:40.657543",
     "exception": false,
     "start_time": "2022-07-14T19:56:40.642628",
     "status": "completed"
    },
    "tags": []
   },
   "outputs": [],
   "source": [
    "# ----------------- Parameters for interactive development --------------\n",
    "P = {\n",
    "    \"pipeline.data_lake_root\": \"/pipeline-outputs/data-lake\",\n",
    "    \"task.train_test_ratio\": 0.7,\n",
    "}"
   ]
  },
  {
   "cell_type": "code",
   "execution_count": 2,
   "id": "4659ff87",
   "metadata": {
    "execution": {
     "iopub.execute_input": "2022-07-14T19:56:40.669689Z",
     "iopub.status.busy": "2022-07-14T19:56:40.669430Z",
     "iopub.status.idle": "2022-07-14T19:56:40.673052Z",
     "shell.execute_reply": "2022-07-14T19:56:40.672373Z"
    },
    "lines_to_next_cell": 0,
    "papermill": {
     "duration": 0.009655,
     "end_time": "2022-07-14T19:56:40.675546",
     "exception": false,
     "start_time": "2022-07-14T19:56:40.665891",
     "status": "completed"
    },
    "tags": [
     "parameters"
    ]
   },
   "outputs": [],
   "source": [
    "# - During automated runs parameters will be injected in the below cell -"
   ]
  },
  {
   "cell_type": "code",
   "execution_count": 3,
   "id": "7c2050a3",
   "metadata": {
    "execution": {
     "iopub.execute_input": "2022-07-14T19:56:40.681862Z",
     "iopub.status.busy": "2022-07-14T19:56:40.681218Z",
     "iopub.status.idle": "2022-07-14T19:56:40.686019Z",
     "shell.execute_reply": "2022-07-14T19:56:40.685529Z"
    },
    "papermill": {
     "duration": 0.010592,
     "end_time": "2022-07-14T19:56:40.688652",
     "exception": false,
     "start_time": "2022-07-14T19:56:40.678060",
     "status": "completed"
    },
    "tags": [
     "injected-parameters"
    ]
   },
   "outputs": [],
   "source": [
    "# Parameters\n",
    "P = {\n",
    "    \"pipeline.data_lake_root\": \"/pipeline-outputs/data-lake\",\n",
    "    \"pipeline.run_environment\": \"ci\",\n",
    "    \"pipeline.pipeline_run_id\": \"dbdb850f-5389-4750-8eb5-e33e33c83848\",\n",
    "    \"pipeline.github.repository\": \"pynb-dag-runner/mnist-digits-demo-pipeline\",\n",
    "    \"pipeline.github.workflow\": \"Run automated tests, pipeline and deploy results to static reporting site\",\n",
    "    \"pipeline.github.runner_name\": \"GitHub Actions 2\",\n",
    "    \"pipeline.github.run_id\": \"2672052849\",\n",
    "    \"pipeline.github.actor\": \"matiasdahl\",\n",
    "    \"pipeline.github.job\": \"run-tests-pipeline-and-persist-pipeline-outputs\",\n",
    "    \"pipeline.github.base_ref\": \"development\",\n",
    "    \"pipeline.github.head_ref\": \"try-C-hyperparameter\",\n",
    "    \"pipeline.github.sha\": \"1150ca0bf632c46a3bc0535697829c0df0420613\",\n",
    "    \"pipeline.github.ref\": \"refs/pull/55/merge\",\n",
    "    \"pipeline.github.ref_type\": \"branch\",\n",
    "    \"pipeline.github.ref_name\": \"55/merge\",\n",
    "    \"pipeline.github.event_name\": \"pull_request\",\n",
    "    \"task.train_test_ratio\": 0.7,\n",
    "    \"task.notebook\": \"notebooks/split-train-test.py\",\n",
    "    \"task.max_nr_retries\": \"1\",\n",
    "    \"run.retry_nr\": \"0\",\n",
    "    \"task.timeout_s\": \"None\",\n",
    "    \"task.num_cpus\": 1,\n",
    "    \"_opentelemetry_traceparent\": \"00-7fe56a2882a4c11ac86715a3e8709335-4f7bd67ecde7a6d3-01\",\n",
    "}\n"
   ]
  },
  {
   "cell_type": "code",
   "execution_count": 4,
   "id": "9e1a8729",
   "metadata": {
    "execution": {
     "iopub.execute_input": "2022-07-14T19:56:40.694980Z",
     "iopub.status.busy": "2022-07-14T19:56:40.694767Z",
     "iopub.status.idle": "2022-07-14T19:56:40.697455Z",
     "shell.execute_reply": "2022-07-14T19:56:40.696936Z"
    },
    "lines_to_next_cell": 0,
    "papermill": {
     "duration": 0.00888,
     "end_time": "2022-07-14T19:56:40.700027",
     "exception": false,
     "start_time": "2022-07-14T19:56:40.691147",
     "status": "completed"
    },
    "tags": []
   },
   "outputs": [],
   "source": [
    "# -----------------------------------------------------------------------"
   ]
  },
  {
   "cell_type": "markdown",
   "id": "08471022",
   "metadata": {
    "papermill": {
     "duration": 0.002758,
     "end_time": "2022-07-14T19:56:40.705796",
     "exception": false,
     "start_time": "2022-07-14T19:56:40.703038",
     "status": "completed"
    },
    "tags": []
   },
   "source": [
    "---"
   ]
  },
  {
   "cell_type": "markdown",
   "id": "aab27231",
   "metadata": {
    "lines_to_next_cell": 2,
    "papermill": {
     "duration": 0.002378,
     "end_time": "2022-07-14T19:56:40.710422",
     "exception": false,
     "start_time": "2022-07-14T19:56:40.708044",
     "status": "completed"
    },
    "tags": []
   },
   "source": [
    "### Notebook code"
   ]
  },
  {
   "cell_type": "code",
   "execution_count": 5,
   "id": "b75f45dd",
   "metadata": {
    "execution": {
     "iopub.execute_input": "2022-07-14T19:56:40.716899Z",
     "iopub.status.busy": "2022-07-14T19:56:40.716641Z",
     "iopub.status.idle": "2022-07-14T19:56:41.242349Z",
     "shell.execute_reply": "2022-07-14T19:56:41.241747Z"
    },
    "papermill": {
     "duration": 0.531673,
     "end_time": "2022-07-14T19:56:41.244706",
     "exception": false,
     "start_time": "2022-07-14T19:56:40.713033",
     "status": "completed"
    },
    "tags": []
   },
   "outputs": [
    {
     "name": "stderr",
     "output_type": "stream",
     "text": [
      "2022-07-14 19:56:41,052\tINFO worker.py:842 -- Connecting to existing Ray cluster at address: 172.17.0.2:6379\n"
     ]
    }
   ],
   "source": [
    "from common.io import datalake_root, read_numpy, write_numpy\n",
    "from pynb_dag_runner.tasks.task_opentelemetry_logging import PydarLogger\n",
    "\n",
    "logger = PydarLogger(P)"
   ]
  },
  {
   "cell_type": "markdown",
   "id": "ef708c04",
   "metadata": {
    "papermill": {
     "duration": 0.002843,
     "end_time": "2022-07-14T19:56:41.250825",
     "exception": false,
     "start_time": "2022-07-14T19:56:41.247982",
     "status": "completed"
    },
    "tags": []
   },
   "source": [
    "## Load and split digits data"
   ]
  },
  {
   "cell_type": "code",
   "execution_count": 6,
   "id": "45db1530",
   "metadata": {
    "execution": {
     "iopub.execute_input": "2022-07-14T19:56:41.257673Z",
     "iopub.status.busy": "2022-07-14T19:56:41.257343Z",
     "iopub.status.idle": "2022-07-14T19:56:41.264259Z",
     "shell.execute_reply": "2022-07-14T19:56:41.262372Z"
    },
    "papermill": {
     "duration": 0.013136,
     "end_time": "2022-07-14T19:56:41.266844",
     "exception": false,
     "start_time": "2022-07-14T19:56:41.253708",
     "status": "completed"
    },
    "tags": []
   },
   "outputs": [],
   "source": [
    "X = read_numpy(datalake_root(P) / \"raw\" / \"digits.numpy\")\n",
    "y = read_numpy(datalake_root(P) / \"raw\" / \"labels.numpy\")"
   ]
  },
  {
   "cell_type": "code",
   "execution_count": 7,
   "id": "088a7a21",
   "metadata": {
    "execution": {
     "iopub.execute_input": "2022-07-14T19:56:41.274053Z",
     "iopub.status.busy": "2022-07-14T19:56:41.273805Z",
     "iopub.status.idle": "2022-07-14T19:56:41.723515Z",
     "shell.execute_reply": "2022-07-14T19:56:41.722911Z"
    },
    "papermill": {
     "duration": 0.455981,
     "end_time": "2022-07-14T19:56:41.725439",
     "exception": false,
     "start_time": "2022-07-14T19:56:41.269458",
     "status": "completed"
    },
    "tags": []
   },
   "outputs": [],
   "source": [
    "from sklearn.model_selection import train_test_split\n",
    "\n",
    "X_train, X_test, y_train, y_test = train_test_split(\n",
    "    X,\n",
    "    y,\n",
    "    train_size=P[\"task.train_test_ratio\"],\n",
    "    test_size=None,\n",
    "    stratify=y,\n",
    "    shuffle=True,\n",
    "    random_state=1,\n",
    ")\n",
    "\n",
    "# assert nr of pixels per image is the same for all image vectors\n",
    "assert X.shape[1] == X_train.shape[1] == X_test.shape[1]\n",
    "\n",
    "# assert that the (X, y)-pairs have compatible sizes (for both train and test)\n",
    "assert X_train.shape[0] == len(y_train)\n",
    "assert X_test.shape[0] == len(y_test)\n",
    "\n",
    "# assert that all data is used\n",
    "assert len(y) == len(y_train) + len(y_test)"
   ]
  },
  {
   "cell_type": "code",
   "execution_count": 8,
   "id": "0a7ed58a",
   "metadata": {
    "execution": {
     "iopub.execute_input": "2022-07-14T19:56:41.735733Z",
     "iopub.status.busy": "2022-07-14T19:56:41.735050Z",
     "iopub.status.idle": "2022-07-14T19:56:41.743824Z",
     "shell.execute_reply": "2022-07-14T19:56:41.743162Z"
    },
    "papermill": {
     "duration": 0.016274,
     "end_time": "2022-07-14T19:56:41.745778",
     "exception": false,
     "start_time": "2022-07-14T19:56:41.729504",
     "status": "completed"
    },
    "tags": []
   },
   "outputs": [
    {
     "name": "stdout",
     "output_type": "stream",
     "text": [
      " - Logging nr_digits_train (int) : 1257\n",
      " - Logging nr_digits_test (int) : 540\n"
     ]
    }
   ],
   "source": [
    "logger.log_int(\"nr_digits_train\", len(y_train))\n",
    "logger.log_int(\"nr_digits_test\", len(y_test))"
   ]
  },
  {
   "cell_type": "markdown",
   "id": "67f8f02d",
   "metadata": {
    "papermill": {
     "duration": 0.003022,
     "end_time": "2022-07-14T19:56:41.752344",
     "exception": false,
     "start_time": "2022-07-14T19:56:41.749322",
     "status": "completed"
    },
    "tags": []
   },
   "source": [
    "### Persist training and test data sets to separate files"
   ]
  },
  {
   "cell_type": "code",
   "execution_count": 9,
   "id": "c4102ed1",
   "metadata": {
    "execution": {
     "iopub.execute_input": "2022-07-14T19:56:41.760446Z",
     "iopub.status.busy": "2022-07-14T19:56:41.759636Z",
     "iopub.status.idle": "2022-07-14T19:56:41.767229Z",
     "shell.execute_reply": "2022-07-14T19:56:41.766118Z"
    },
    "papermill": {
     "duration": 0.013489,
     "end_time": "2022-07-14T19:56:41.768879",
     "exception": false,
     "start_time": "2022-07-14T19:56:41.755390",
     "status": "completed"
    },
    "tags": []
   },
   "outputs": [],
   "source": [
    "write_numpy(datalake_root(P) / \"train-data\" / \"digits.numpy\", X_train)\n",
    "write_numpy(datalake_root(P) / \"train-data\" / \"labels.numpy\", y_train)\n",
    "\n",
    "#\n",
    "write_numpy(datalake_root(P) / \"test-data\" / \"digits.numpy\", X_test)\n",
    "write_numpy(datalake_root(P) / \"test-data\" / \"labels.numpy\", y_test)"
   ]
  },
  {
   "cell_type": "code",
   "execution_count": null,
   "id": "58b9cfa8",
   "metadata": {
    "papermill": {
     "duration": 0.002817,
     "end_time": "2022-07-14T19:56:41.774856",
     "exception": false,
     "start_time": "2022-07-14T19:56:41.772039",
     "status": "completed"
    },
    "tags": []
   },
   "outputs": [],
   "source": []
  }
 ],
 "metadata": {
  "jupytext": {
   "cell_metadata_filter": "tags,-all",
   "main_language": "python",
   "notebook_metadata_filter": "-all"
  },
  "language_info": {
   "codemirror_mode": {
    "name": "ipython",
    "version": 3
   },
   "file_extension": ".py",
   "mimetype": "text/x-python",
   "name": "python",
   "nbconvert_exporter": "python",
   "pygments_lexer": "ipython3",
   "version": "3.8.10"
  },
  "papermill": {
   "default_parameters": {},
   "duration": 3.294914,
   "end_time": "2022-07-14T19:56:42.697664",
   "environment_variables": {},
   "exception": null,
   "input_path": "/home/host_user/workspace/mnist-demo-pipeline/mnist-demo-pipeline/notebooks/temp-notebook-t54m0y7m.ipynb",
   "output_path": "notebooks/split-train-test.ipynb",
   "parameters": {
    "P": {
     "_opentelemetry_traceparent": "00-7fe56a2882a4c11ac86715a3e8709335-4f7bd67ecde7a6d3-01",
     "pipeline.data_lake_root": "/pipeline-outputs/data-lake",
     "pipeline.github.actor": "matiasdahl",
     "pipeline.github.base_ref": "development",
     "pipeline.github.event_name": "pull_request",
     "pipeline.github.head_ref": "try-C-hyperparameter",
     "pipeline.github.job": "run-tests-pipeline-and-persist-pipeline-outputs",
     "pipeline.github.ref": "refs/pull/55/merge",
     "pipeline.github.ref_name": "55/merge",
     "pipeline.github.ref_type": "branch",
     "pipeline.github.repository": "pynb-dag-runner/mnist-digits-demo-pipeline",
     "pipeline.github.run_id": "2672052849",
     "pipeline.github.runner_name": "GitHub Actions 2",
     "pipeline.github.sha": "1150ca0bf632c46a3bc0535697829c0df0420613",
     "pipeline.github.workflow": "Run automated tests, pipeline and deploy results to static reporting site",
     "pipeline.pipeline_run_id": "dbdb850f-5389-4750-8eb5-e33e33c83848",
     "pipeline.run_environment": "ci",
     "run.retry_nr": "0",
     "task.max_nr_retries": "1",
     "task.notebook": "notebooks/split-train-test.py",
     "task.num_cpus": 1,
     "task.timeout_s": "None",
     "task.train_test_ratio": 0.7
    }
   },
   "start_time": "2022-07-14T19:56:39.402750",
   "version": "2.3.3"
  }
 },
 "nbformat": 4,
 "nbformat_minor": 5
}