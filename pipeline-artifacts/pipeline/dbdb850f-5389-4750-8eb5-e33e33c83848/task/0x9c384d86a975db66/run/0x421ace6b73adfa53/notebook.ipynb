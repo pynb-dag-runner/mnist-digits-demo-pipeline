{
 "cells": [
  {
   "cell_type": "markdown",
   "id": "07eaa020",
   "metadata": {
    "papermill": {
     "duration": 0.004322,
     "end_time": "2022-07-14T19:56:51.945897",
     "exception": false,
     "start_time": "2022-07-14T19:56:51.941575",
     "status": "completed"
    },
    "tags": []
   },
   "source": [
    "# Train model\n",
    "\n",
    "The purpose of this notebook is:\n",
    "\n",
    "- Load all training data (images and labels).\n",
    "- Limit number of train images to `task.nr_train_images` (value provided as run parameter).\n",
    "- Train a support vector machine model using sklearn.\n",
    "- Persist the trained model using the ONNX format."
   ]
  },
  {
   "cell_type": "markdown",
   "id": "ab39c74c",
   "metadata": {
    "papermill": {
     "duration": 0.003028,
     "end_time": "2022-07-14T19:56:51.952122",
     "exception": false,
     "start_time": "2022-07-14T19:56:51.949094",
     "status": "completed"
    },
    "tags": []
   },
   "source": [
    "### Determine run parameters"
   ]
  },
  {
   "cell_type": "code",
   "execution_count": 1,
   "id": "8c145990",
   "metadata": {
    "execution": {
     "iopub.execute_input": "2022-07-14T19:56:51.967842Z",
     "iopub.status.busy": "2022-07-14T19:56:51.967274Z",
     "iopub.status.idle": "2022-07-14T19:56:51.976343Z",
     "shell.execute_reply": "2022-07-14T19:56:51.975808Z"
    },
    "lines_to_next_cell": 0,
    "papermill": {
     "duration": 0.023365,
     "end_time": "2022-07-14T19:56:51.978180",
     "exception": false,
     "start_time": "2022-07-14T19:56:51.954815",
     "status": "completed"
    },
    "tags": []
   },
   "outputs": [],
   "source": [
    "# ----------------- Parameters for interactive development --------------\n",
    "P = {\n",
    "    \"pipeline.data_lake_root\": \"/pipeline-outputs/data-lake\",\n",
    "    \"task.nr_train_images\": 600,\n",
    "}"
   ]
  },
  {
   "cell_type": "code",
   "execution_count": 2,
   "id": "146a1f13",
   "metadata": {
    "execution": {
     "iopub.execute_input": "2022-07-14T19:56:51.985497Z",
     "iopub.status.busy": "2022-07-14T19:56:51.985270Z",
     "iopub.status.idle": "2022-07-14T19:56:51.988440Z",
     "shell.execute_reply": "2022-07-14T19:56:51.987917Z"
    },
    "lines_to_next_cell": 0,
    "papermill": {
     "duration": 0.009432,
     "end_time": "2022-07-14T19:56:51.990963",
     "exception": false,
     "start_time": "2022-07-14T19:56:51.981531",
     "status": "completed"
    },
    "tags": [
     "parameters"
    ]
   },
   "outputs": [],
   "source": [
    "# - During automated runs parameters will be injected in the below cell -"
   ]
  },
  {
   "cell_type": "code",
   "execution_count": 3,
   "id": "8be6eb08",
   "metadata": {
    "execution": {
     "iopub.execute_input": "2022-07-14T19:56:51.998250Z",
     "iopub.status.busy": "2022-07-14T19:56:51.998022Z",
     "iopub.status.idle": "2022-07-14T19:56:52.003057Z",
     "shell.execute_reply": "2022-07-14T19:56:52.002540Z"
    },
    "papermill": {
     "duration": 0.011876,
     "end_time": "2022-07-14T19:56:52.005656",
     "exception": false,
     "start_time": "2022-07-14T19:56:51.993780",
     "status": "completed"
    },
    "tags": [
     "injected-parameters"
    ]
   },
   "outputs": [],
   "source": [
    "# Parameters\n",
    "P = {\n",
    "    \"pipeline.data_lake_root\": \"/pipeline-outputs/data-lake\",\n",
    "    \"pipeline.run_environment\": \"ci\",\n",
    "    \"pipeline.pipeline_run_id\": \"dbdb850f-5389-4750-8eb5-e33e33c83848\",\n",
    "    \"pipeline.github.repository\": \"pynb-dag-runner/mnist-digits-demo-pipeline\",\n",
    "    \"pipeline.github.workflow\": \"Run automated tests, pipeline and deploy results to static reporting site\",\n",
    "    \"pipeline.github.runner_name\": \"GitHub Actions 2\",\n",
    "    \"pipeline.github.run_id\": \"2672052849\",\n",
    "    \"pipeline.github.actor\": \"matiasdahl\",\n",
    "    \"pipeline.github.job\": \"run-tests-pipeline-and-persist-pipeline-outputs\",\n",
    "    \"pipeline.github.base_ref\": \"development\",\n",
    "    \"pipeline.github.head_ref\": \"try-C-hyperparameter\",\n",
    "    \"pipeline.github.sha\": \"1150ca0bf632c46a3bc0535697829c0df0420613\",\n",
    "    \"pipeline.github.ref\": \"refs/pull/55/merge\",\n",
    "    \"pipeline.github.ref_type\": \"branch\",\n",
    "    \"pipeline.github.ref_name\": \"55/merge\",\n",
    "    \"pipeline.github.event_name\": \"pull_request\",\n",
    "    \"task.nr_train_images\": 1200,\n",
    "    \"task.notebook\": \"notebooks/train-model.py\",\n",
    "    \"task.max_nr_retries\": \"1\",\n",
    "    \"run.retry_nr\": \"0\",\n",
    "    \"task.timeout_s\": \"None\",\n",
    "    \"task.num_cpus\": 1,\n",
    "    \"_opentelemetry_traceparent\": \"00-7fe56a2882a4c11ac86715a3e8709335-3b95c8f999b9b3e2-01\",\n",
    "}\n"
   ]
  },
  {
   "cell_type": "code",
   "execution_count": 4,
   "id": "78fb02df",
   "metadata": {
    "execution": {
     "iopub.execute_input": "2022-07-14T19:56:52.012707Z",
     "iopub.status.busy": "2022-07-14T19:56:52.012498Z",
     "iopub.status.idle": "2022-07-14T19:56:52.015328Z",
     "shell.execute_reply": "2022-07-14T19:56:52.014578Z"
    },
    "lines_to_next_cell": 0,
    "papermill": {
     "duration": 0.009978,
     "end_time": "2022-07-14T19:56:52.018717",
     "exception": false,
     "start_time": "2022-07-14T19:56:52.008739",
     "status": "completed"
    },
    "tags": []
   },
   "outputs": [],
   "source": [
    "# -----------------------------------------------------------------------"
   ]
  },
  {
   "cell_type": "markdown",
   "id": "4c0f8619",
   "metadata": {
    "papermill": {
     "duration": 0.003068,
     "end_time": "2022-07-14T19:56:52.025234",
     "exception": false,
     "start_time": "2022-07-14T19:56:52.022166",
     "status": "completed"
    },
    "tags": []
   },
   "source": [
    "---"
   ]
  },
  {
   "cell_type": "markdown",
   "id": "a31ad33a",
   "metadata": {
    "lines_to_next_cell": 2,
    "papermill": {
     "duration": 0.004347,
     "end_time": "2022-07-14T19:56:52.032522",
     "exception": false,
     "start_time": "2022-07-14T19:56:52.028175",
     "status": "completed"
    },
    "tags": []
   },
   "source": [
    "### Notebook code"
   ]
  },
  {
   "cell_type": "code",
   "execution_count": 5,
   "id": "0a4ed01a",
   "metadata": {
    "execution": {
     "iopub.execute_input": "2022-07-14T19:56:52.045091Z",
     "iopub.status.busy": "2022-07-14T19:56:52.044624Z",
     "iopub.status.idle": "2022-07-14T19:56:52.477793Z",
     "shell.execute_reply": "2022-07-14T19:56:52.476645Z"
    },
    "papermill": {
     "duration": 0.438961,
     "end_time": "2022-07-14T19:56:52.479667",
     "exception": false,
     "start_time": "2022-07-14T19:56:52.040706",
     "status": "completed"
    },
    "tags": []
   },
   "outputs": [
    {
     "name": "stderr",
     "output_type": "stream",
     "text": [
      "2022-07-14 19:56:52,326\tINFO worker.py:842 -- Connecting to existing Ray cluster at address: 172.17.0.2:6379\n"
     ]
    }
   ],
   "source": [
    "from pynb_dag_runner.tasks.task_opentelemetry_logging import PydarLogger\n",
    "\n",
    "logger = PydarLogger(P)"
   ]
  },
  {
   "cell_type": "markdown",
   "id": "29bd0626",
   "metadata": {
    "papermill": {
     "duration": 0.003096,
     "end_time": "2022-07-14T19:56:52.486532",
     "exception": false,
     "start_time": "2022-07-14T19:56:52.483436",
     "status": "completed"
    },
    "tags": []
   },
   "source": [
    "## Load and limit train data"
   ]
  },
  {
   "cell_type": "code",
   "execution_count": 6,
   "id": "38e64a3e",
   "metadata": {
    "execution": {
     "iopub.execute_input": "2022-07-14T19:56:52.493900Z",
     "iopub.status.busy": "2022-07-14T19:56:52.493436Z",
     "iopub.status.idle": "2022-07-14T19:56:52.841669Z",
     "shell.execute_reply": "2022-07-14T19:56:52.841082Z"
    },
    "papermill": {
     "duration": 0.354242,
     "end_time": "2022-07-14T19:56:52.843660",
     "exception": false,
     "start_time": "2022-07-14T19:56:52.489418",
     "status": "completed"
    },
    "tags": []
   },
   "outputs": [],
   "source": [
    "def load_and_limit_train_data(P):\n",
    "    from common.io import datalake_root, read_numpy\n",
    "    from sklearn.model_selection import train_test_split\n",
    "\n",
    "    X_train_all = read_numpy(datalake_root(P) / \"train-data\" / \"digits.numpy\")\n",
    "    y_train_all = read_numpy(datalake_root(P) / \"train-data\" / \"labels.numpy\")\n",
    "\n",
    "    assert isinstance(P[\"task.nr_train_images\"], int)\n",
    "\n",
    "    # Note: train_test_split will fail if split is 0 or 100%.\n",
    "    assert 0 < P[\"task.nr_train_images\"] < len(y_train_all)\n",
    "\n",
    "    X_train, _, y_train, _ = train_test_split(\n",
    "        X_train_all,\n",
    "        y_train_all,\n",
    "        train_size=P[\"task.nr_train_images\"],\n",
    "        test_size=None,\n",
    "        stratify=y_train_all,\n",
    "        shuffle=True,\n",
    "        random_state=123,\n",
    "    )\n",
    "\n",
    "    assert X_train.shape == (len(y_train), 8 * 8)\n",
    "    return X_train, y_train\n",
    "\n",
    "\n",
    "X_train, y_train = load_and_limit_train_data(P)"
   ]
  },
  {
   "cell_type": "markdown",
   "id": "90f1933d",
   "metadata": {
    "papermill": {
     "duration": 0.00385,
     "end_time": "2022-07-14T19:56:52.855259",
     "exception": false,
     "start_time": "2022-07-14T19:56:52.851409",
     "status": "completed"
    },
    "tags": []
   },
   "source": [
    "## Train support vector classifier model\n",
    "\n",
    "Below we assume that the hyperparameter $C$ is known.\n",
    "\n",
    "However, this should ideally be found by a hyperparameter search. That could be\n",
    "done in parallel on the Ray cluster, but this needs some more work. Ie., to use\n",
    "multiple cores in the notebook, those cores should be reserved when starting the\n",
    "notebook task (TODO).\n",
    "\n",
    "- https://docs.ray.io/en/latest/tune/key-concepts.html\n",
    "\n",
    "Note: cv-scores would need to be computed here, since they depend on the train data.\n",
    "After this notebook only the onnx-model is available."
   ]
  },
  {
   "cell_type": "code",
   "execution_count": 7,
   "id": "a822a426",
   "metadata": {
    "execution": {
     "iopub.execute_input": "2022-07-14T19:56:52.862734Z",
     "iopub.status.busy": "2022-07-14T19:56:52.862431Z",
     "iopub.status.idle": "2022-07-14T19:56:52.887199Z",
     "shell.execute_reply": "2022-07-14T19:56:52.886254Z"
    },
    "papermill": {
     "duration": 0.030592,
     "end_time": "2022-07-14T19:56:52.889062",
     "exception": false,
     "start_time": "2022-07-14T19:56:52.858470",
     "status": "completed"
    },
    "tags": []
   },
   "outputs": [],
   "source": [
    "from sklearn.svm import SVC"
   ]
  },
  {
   "cell_type": "code",
   "execution_count": 8,
   "id": "ee2acd83",
   "metadata": {
    "execution": {
     "iopub.execute_input": "2022-07-14T19:56:52.897930Z",
     "iopub.status.busy": "2022-07-14T19:56:52.897330Z",
     "iopub.status.idle": "2022-07-14T19:56:53.108110Z",
     "shell.execute_reply": "2022-07-14T19:56:53.107555Z"
    },
    "papermill": {
     "duration": 0.217451,
     "end_time": "2022-07-14T19:56:53.109872",
     "exception": false,
     "start_time": "2022-07-14T19:56:52.892421",
     "status": "completed"
    },
    "tags": []
   },
   "outputs": [
    {
     "data": {
      "text/plain": [
       "SVC(C=10.0, kernel='linear', probability=True)"
      ]
     },
     "execution_count": 8,
     "metadata": {},
     "output_type": "execute_result"
    }
   ],
   "source": [
    "model = SVC(C=10.0, kernel=\"linear\", probability=True)\n",
    "\n",
    "model.fit(X_train, y_train)"
   ]
  },
  {
   "cell_type": "markdown",
   "id": "2143be76",
   "metadata": {
    "papermill": {
     "duration": 0.004428,
     "end_time": "2022-07-14T19:56:53.117590",
     "exception": false,
     "start_time": "2022-07-14T19:56:53.113162",
     "status": "completed"
    },
    "tags": []
   },
   "source": [
    "### Q: Can the labels returned by `predict(..)` be computed from probabilities returned by the `predict_prob`-method?"
   ]
  },
  {
   "cell_type": "code",
   "execution_count": 9,
   "id": "a4eb9880",
   "metadata": {
    "execution": {
     "iopub.execute_input": "2022-07-14T19:56:53.125448Z",
     "iopub.status.busy": "2022-07-14T19:56:53.125164Z",
     "iopub.status.idle": "2022-07-14T19:56:53.209229Z",
     "shell.execute_reply": "2022-07-14T19:56:53.208693Z"
    },
    "papermill": {
     "duration": 0.090181,
     "end_time": "2022-07-14T19:56:53.210871",
     "exception": false,
     "start_time": "2022-07-14T19:56:53.120690",
     "status": "completed"
    },
    "tags": []
   },
   "outputs": [
    {
     "name": "stdout",
     "output_type": "stream",
     "text": [
      " - Logging nr_max_prob_neq_label (int) : 0\n"
     ]
    }
   ],
   "source": [
    "import numpy as np\n",
    "\n",
    "y_train_labels = model.predict(X_train)\n",
    "y_train_probabilities = model.predict_proba(X_train)\n",
    "assert y_train_probabilities.shape == (len(y_train), 10)\n",
    "\n",
    "y_train_max_prob_labels = np.argmax(y_train_probabilities, axis=1)\n",
    "assert y_train_labels.shape == y_train_max_prob_labels.shape == y_train.shape\n",
    "\n",
    "# If the predicted labels would coincide with the labels that have\n",
    "# maximum probability, the below number would be zero\n",
    "logger.log_int(\n",
    "    \"nr_max_prob_neq_label\", int(sum(y_train_max_prob_labels != y_train_labels))\n",
    ")"
   ]
  },
  {
   "cell_type": "markdown",
   "id": "85e456e8",
   "metadata": {
    "papermill": {
     "duration": 0.003274,
     "end_time": "2022-07-14T19:56:53.217722",
     "exception": false,
     "start_time": "2022-07-14T19:56:53.214448",
     "status": "completed"
    },
    "tags": []
   },
   "source": [
    "The explanation is (likely) explained in the SVC source, see\n",
    "[here](https://github.com/scikit-learn/scikit-learn/blob/main/sklearn/svm/_base.py).\n",
    "Namely, the outputs from `predict(..)` and `predict_proba(..)` may not in some\n",
    "cases be compatible since the latter is computed using cross-validation while\n",
    "the former is not. Thus, the above number need not be zero."
   ]
  },
  {
   "cell_type": "markdown",
   "id": "e2feb712",
   "metadata": {
    "papermill": {
     "duration": 0.003123,
     "end_time": "2022-07-14T19:56:53.224128",
     "exception": false,
     "start_time": "2022-07-14T19:56:53.221005",
     "status": "completed"
    },
    "tags": []
   },
   "source": [
    "## Persist model"
   ]
  },
  {
   "cell_type": "code",
   "execution_count": 10,
   "id": "76070406",
   "metadata": {
    "execution": {
     "iopub.execute_input": "2022-07-14T19:56:53.231849Z",
     "iopub.status.busy": "2022-07-14T19:56:53.231610Z",
     "iopub.status.idle": "2022-07-14T19:56:53.939910Z",
     "shell.execute_reply": "2022-07-14T19:56:53.939234Z"
    },
    "papermill": {
     "duration": 0.714253,
     "end_time": "2022-07-14T19:56:53.941828",
     "exception": false,
     "start_time": "2022-07-14T19:56:53.227575",
     "status": "completed"
    },
    "tags": []
   },
   "outputs": [],
   "source": [
    "from skl2onnx import convert_sklearn\n",
    "from skl2onnx.common.data_types import FloatTensorType\n",
    "\n",
    "#\n",
    "from common.io import datalake_root, write_onnx"
   ]
  },
  {
   "cell_type": "code",
   "execution_count": 11,
   "id": "3dad9609",
   "metadata": {
    "execution": {
     "iopub.execute_input": "2022-07-14T19:56:53.950687Z",
     "iopub.status.busy": "2022-07-14T19:56:53.950196Z",
     "iopub.status.idle": "2022-07-14T19:56:54.000445Z",
     "shell.execute_reply": "2022-07-14T19:56:53.996383Z"
    },
    "papermill": {
     "duration": 0.056621,
     "end_time": "2022-07-14T19:56:54.002299",
     "exception": false,
     "start_time": "2022-07-14T19:56:53.945678",
     "status": "completed"
    },
    "tags": []
   },
   "outputs": [],
   "source": [
    "# convert sklearn model into onnx and persist to data lake\n",
    "\n",
    "model_onnx = convert_sklearn(\n",
    "    model, initial_types=[(\"float_input_8x8_image\", FloatTensorType([None, 8 * 8]))]\n",
    ")\n",
    "write_onnx(\n",
    "    datalake_root(P)\n",
    "    / \"models\"\n",
    "    / f\"nr_train_images={P['task.nr_train_images']}\"\n",
    "    / \"model.onnx\",\n",
    "    model_onnx,\n",
    ")"
   ]
  },
  {
   "cell_type": "code",
   "execution_count": null,
   "id": "425b5e03",
   "metadata": {
    "papermill": {
     "duration": 0.004225,
     "end_time": "2022-07-14T19:56:54.010183",
     "exception": false,
     "start_time": "2022-07-14T19:56:54.005958",
     "status": "completed"
    },
    "tags": []
   },
   "outputs": [],
   "source": []
  }
 ],
 "metadata": {
  "jupytext": {
   "cell_metadata_filter": "tags,-all",
   "main_language": "python",
   "notebook_metadata_filter": "-all"
  },
  "language_info": {
   "codemirror_mode": {
    "name": "ipython",
    "version": 3
   },
   "file_extension": ".py",
   "mimetype": "text/x-python",
   "name": "python",
   "nbconvert_exporter": "python",
   "pygments_lexer": "ipython3",
   "version": "3.8.10"
  },
  "papermill": {
   "default_parameters": {},
   "duration": 4.581654,
   "end_time": "2022-07-14T19:56:55.135917",
   "environment_variables": {},
   "exception": null,
   "input_path": "/home/host_user/workspace/mnist-demo-pipeline/mnist-demo-pipeline/notebooks/temp-notebook-htobk962.ipynb",
   "output_path": "notebooks/train-model.ipynb",
   "parameters": {
    "P": {
     "_opentelemetry_traceparent": "00-7fe56a2882a4c11ac86715a3e8709335-3b95c8f999b9b3e2-01",
     "pipeline.data_lake_root": "/pipeline-outputs/data-lake",
     "pipeline.github.actor": "matiasdahl",
     "pipeline.github.base_ref": "development",
     "pipeline.github.event_name": "pull_request",
     "pipeline.github.head_ref": "try-C-hyperparameter",
     "pipeline.github.job": "run-tests-pipeline-and-persist-pipeline-outputs",
     "pipeline.github.ref": "refs/pull/55/merge",
     "pipeline.github.ref_name": "55/merge",
     "pipeline.github.ref_type": "branch",
     "pipeline.github.repository": "pynb-dag-runner/mnist-digits-demo-pipeline",
     "pipeline.github.run_id": "2672052849",
     "pipeline.github.runner_name": "GitHub Actions 2",
     "pipeline.github.sha": "1150ca0bf632c46a3bc0535697829c0df0420613",
     "pipeline.github.workflow": "Run automated tests, pipeline and deploy results to static reporting site",
     "pipeline.pipeline_run_id": "dbdb850f-5389-4750-8eb5-e33e33c83848",
     "pipeline.run_environment": "ci",
     "run.retry_nr": "0",
     "task.max_nr_retries": "1",
     "task.notebook": "notebooks/train-model.py",
     "task.nr_train_images": 1200,
     "task.num_cpus": 1,
     "task.timeout_s": "None"
    }
   },
   "start_time": "2022-07-14T19:56:50.554263",
   "version": "2.3.3"
  }
 },
 "nbformat": 4,
 "nbformat_minor": 5
}