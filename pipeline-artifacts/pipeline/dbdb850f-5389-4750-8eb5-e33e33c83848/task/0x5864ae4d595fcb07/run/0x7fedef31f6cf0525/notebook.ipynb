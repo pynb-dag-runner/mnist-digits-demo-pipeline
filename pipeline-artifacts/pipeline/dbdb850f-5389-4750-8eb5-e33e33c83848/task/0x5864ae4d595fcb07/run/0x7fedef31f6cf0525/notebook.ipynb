{
 "cells": [
  {
   "cell_type": "markdown",
   "id": "b1e6ed7e",
   "metadata": {
    "papermill": {
     "duration": 0.004127,
     "end_time": "2022-07-14T19:56:45.577720",
     "exception": false,
     "start_time": "2022-07-14T19:56:45.573593",
     "status": "completed"
    },
    "tags": []
   },
   "source": [
    "# Train model\n",
    "\n",
    "The purpose of this notebook is:\n",
    "\n",
    "- Load all training data (images and labels).\n",
    "- Limit number of train images to `task.nr_train_images` (value provided as run parameter).\n",
    "- Train a support vector machine model using sklearn.\n",
    "- Persist the trained model using the ONNX format."
   ]
  },
  {
   "cell_type": "markdown",
   "id": "c38e1c20",
   "metadata": {
    "papermill": {
     "duration": 0.002965,
     "end_time": "2022-07-14T19:56:45.586359",
     "exception": false,
     "start_time": "2022-07-14T19:56:45.583394",
     "status": "completed"
    },
    "tags": []
   },
   "source": [
    "### Determine run parameters"
   ]
  },
  {
   "cell_type": "code",
   "execution_count": 1,
   "id": "4889e3ac",
   "metadata": {
    "execution": {
     "iopub.execute_input": "2022-07-14T19:56:45.594212Z",
     "iopub.status.busy": "2022-07-14T19:56:45.593905Z",
     "iopub.status.idle": "2022-07-14T19:56:45.601683Z",
     "shell.execute_reply": "2022-07-14T19:56:45.601101Z"
    },
    "lines_to_next_cell": 0,
    "papermill": {
     "duration": 0.015536,
     "end_time": "2022-07-14T19:56:45.604607",
     "exception": false,
     "start_time": "2022-07-14T19:56:45.589071",
     "status": "completed"
    },
    "tags": []
   },
   "outputs": [],
   "source": [
    "# ----------------- Parameters for interactive development --------------\n",
    "P = {\n",
    "    \"pipeline.data_lake_root\": \"/pipeline-outputs/data-lake\",\n",
    "    \"task.nr_train_images\": 600,\n",
    "}"
   ]
  },
  {
   "cell_type": "code",
   "execution_count": 2,
   "id": "117ccfbf",
   "metadata": {
    "execution": {
     "iopub.execute_input": "2022-07-14T19:56:45.612687Z",
     "iopub.status.busy": "2022-07-14T19:56:45.612436Z",
     "iopub.status.idle": "2022-07-14T19:56:45.616382Z",
     "shell.execute_reply": "2022-07-14T19:56:45.615663Z"
    },
    "lines_to_next_cell": 0,
    "papermill": {
     "duration": 0.011311,
     "end_time": "2022-07-14T19:56:45.619058",
     "exception": false,
     "start_time": "2022-07-14T19:56:45.607747",
     "status": "completed"
    },
    "tags": [
     "parameters"
    ]
   },
   "outputs": [],
   "source": [
    "# - During automated runs parameters will be injected in the below cell -"
   ]
  },
  {
   "cell_type": "code",
   "execution_count": 3,
   "id": "7557e3cf",
   "metadata": {
    "execution": {
     "iopub.execute_input": "2022-07-14T19:56:45.628449Z",
     "iopub.status.busy": "2022-07-14T19:56:45.628229Z",
     "iopub.status.idle": "2022-07-14T19:56:45.633316Z",
     "shell.execute_reply": "2022-07-14T19:56:45.632795Z"
    },
    "papermill": {
     "duration": 0.011637,
     "end_time": "2022-07-14T19:56:45.635899",
     "exception": false,
     "start_time": "2022-07-14T19:56:45.624262",
     "status": "completed"
    },
    "tags": [
     "injected-parameters"
    ]
   },
   "outputs": [],
   "source": [
    "# Parameters\n",
    "P = {\n",
    "    \"pipeline.data_lake_root\": \"/pipeline-outputs/data-lake\",\n",
    "    \"pipeline.run_environment\": \"ci\",\n",
    "    \"pipeline.pipeline_run_id\": \"dbdb850f-5389-4750-8eb5-e33e33c83848\",\n",
    "    \"pipeline.github.repository\": \"pynb-dag-runner/mnist-digits-demo-pipeline\",\n",
    "    \"pipeline.github.workflow\": \"Run automated tests, pipeline and deploy results to static reporting site\",\n",
    "    \"pipeline.github.runner_name\": \"GitHub Actions 2\",\n",
    "    \"pipeline.github.run_id\": \"2672052849\",\n",
    "    \"pipeline.github.actor\": \"matiasdahl\",\n",
    "    \"pipeline.github.job\": \"run-tests-pipeline-and-persist-pipeline-outputs\",\n",
    "    \"pipeline.github.base_ref\": \"development\",\n",
    "    \"pipeline.github.head_ref\": \"try-C-hyperparameter\",\n",
    "    \"pipeline.github.sha\": \"1150ca0bf632c46a3bc0535697829c0df0420613\",\n",
    "    \"pipeline.github.ref\": \"refs/pull/55/merge\",\n",
    "    \"pipeline.github.ref_type\": \"branch\",\n",
    "    \"pipeline.github.ref_name\": \"55/merge\",\n",
    "    \"pipeline.github.event_name\": \"pull_request\",\n",
    "    \"task.nr_train_images\": 600,\n",
    "    \"task.notebook\": \"notebooks/train-model.py\",\n",
    "    \"task.max_nr_retries\": \"1\",\n",
    "    \"run.retry_nr\": \"0\",\n",
    "    \"task.timeout_s\": \"None\",\n",
    "    \"task.num_cpus\": 1,\n",
    "    \"_opentelemetry_traceparent\": \"00-7fe56a2882a4c11ac86715a3e8709335-76f3d1cfb58ae2a3-01\",\n",
    "}\n"
   ]
  },
  {
   "cell_type": "code",
   "execution_count": 4,
   "id": "99487b09",
   "metadata": {
    "execution": {
     "iopub.execute_input": "2022-07-14T19:56:45.643730Z",
     "iopub.status.busy": "2022-07-14T19:56:45.643497Z",
     "iopub.status.idle": "2022-07-14T19:56:45.646325Z",
     "shell.execute_reply": "2022-07-14T19:56:45.645752Z"
    },
    "lines_to_next_cell": 0,
    "papermill": {
     "duration": 0.009882,
     "end_time": "2022-07-14T19:56:45.648880",
     "exception": false,
     "start_time": "2022-07-14T19:56:45.638998",
     "status": "completed"
    },
    "tags": []
   },
   "outputs": [],
   "source": [
    "# -----------------------------------------------------------------------"
   ]
  },
  {
   "cell_type": "markdown",
   "id": "41a4049d",
   "metadata": {
    "papermill": {
     "duration": 0.003043,
     "end_time": "2022-07-14T19:56:45.655493",
     "exception": false,
     "start_time": "2022-07-14T19:56:45.652450",
     "status": "completed"
    },
    "tags": []
   },
   "source": [
    "---"
   ]
  },
  {
   "cell_type": "markdown",
   "id": "1477a33f",
   "metadata": {
    "lines_to_next_cell": 2,
    "papermill": {
     "duration": 0.005803,
     "end_time": "2022-07-14T19:56:45.664512",
     "exception": false,
     "start_time": "2022-07-14T19:56:45.658709",
     "status": "completed"
    },
    "tags": []
   },
   "source": [
    "### Notebook code"
   ]
  },
  {
   "cell_type": "code",
   "execution_count": 5,
   "id": "e18197ec",
   "metadata": {
    "execution": {
     "iopub.execute_input": "2022-07-14T19:56:45.672126Z",
     "iopub.status.busy": "2022-07-14T19:56:45.671834Z",
     "iopub.status.idle": "2022-07-14T19:56:46.192627Z",
     "shell.execute_reply": "2022-07-14T19:56:46.191848Z"
    },
    "papermill": {
     "duration": 0.528185,
     "end_time": "2022-07-14T19:56:46.196185",
     "exception": false,
     "start_time": "2022-07-14T19:56:45.668000",
     "status": "completed"
    },
    "tags": []
   },
   "outputs": [
    {
     "name": "stderr",
     "output_type": "stream",
     "text": [
      "2022-07-14 19:56:46,014\tINFO worker.py:842 -- Connecting to existing Ray cluster at address: 172.17.0.2:6379\n"
     ]
    }
   ],
   "source": [
    "from pynb_dag_runner.tasks.task_opentelemetry_logging import PydarLogger\n",
    "\n",
    "logger = PydarLogger(P)"
   ]
  },
  {
   "cell_type": "markdown",
   "id": "fd99c34a",
   "metadata": {
    "papermill": {
     "duration": 0.00353,
     "end_time": "2022-07-14T19:56:46.203044",
     "exception": false,
     "start_time": "2022-07-14T19:56:46.199514",
     "status": "completed"
    },
    "tags": []
   },
   "source": [
    "## Load and limit train data"
   ]
  },
  {
   "cell_type": "code",
   "execution_count": 6,
   "id": "f1992d17",
   "metadata": {
    "execution": {
     "iopub.execute_input": "2022-07-14T19:56:46.210501Z",
     "iopub.status.busy": "2022-07-14T19:56:46.209932Z",
     "iopub.status.idle": "2022-07-14T19:56:46.541725Z",
     "shell.execute_reply": "2022-07-14T19:56:46.541024Z"
    },
    "papermill": {
     "duration": 0.337425,
     "end_time": "2022-07-14T19:56:46.543498",
     "exception": false,
     "start_time": "2022-07-14T19:56:46.206073",
     "status": "completed"
    },
    "tags": []
   },
   "outputs": [],
   "source": [
    "def load_and_limit_train_data(P):\n",
    "    from common.io import datalake_root, read_numpy\n",
    "    from sklearn.model_selection import train_test_split\n",
    "\n",
    "    X_train_all = read_numpy(datalake_root(P) / \"train-data\" / \"digits.numpy\")\n",
    "    y_train_all = read_numpy(datalake_root(P) / \"train-data\" / \"labels.numpy\")\n",
    "\n",
    "    assert isinstance(P[\"task.nr_train_images\"], int)\n",
    "\n",
    "    # Note: train_test_split will fail if split is 0 or 100%.\n",
    "    assert 0 < P[\"task.nr_train_images\"] < len(y_train_all)\n",
    "\n",
    "    X_train, _, y_train, _ = train_test_split(\n",
    "        X_train_all,\n",
    "        y_train_all,\n",
    "        train_size=P[\"task.nr_train_images\"],\n",
    "        test_size=None,\n",
    "        stratify=y_train_all,\n",
    "        shuffle=True,\n",
    "        random_state=123,\n",
    "    )\n",
    "\n",
    "    assert X_train.shape == (len(y_train), 8 * 8)\n",
    "    return X_train, y_train\n",
    "\n",
    "\n",
    "X_train, y_train = load_and_limit_train_data(P)"
   ]
  },
  {
   "cell_type": "markdown",
   "id": "7910cb93",
   "metadata": {
    "papermill": {
     "duration": 0.003388,
     "end_time": "2022-07-14T19:56:46.552434",
     "exception": false,
     "start_time": "2022-07-14T19:56:46.549046",
     "status": "completed"
    },
    "tags": []
   },
   "source": [
    "## Train support vector classifier model\n",
    "\n",
    "Below we assume that the hyperparameter $C$ is known.\n",
    "\n",
    "However, this should ideally be found by a hyperparameter search. That could be\n",
    "done in parallel on the Ray cluster, but this needs some more work. Ie., to use\n",
    "multiple cores in the notebook, those cores should be reserved when starting the\n",
    "notebook task (TODO).\n",
    "\n",
    "- https://docs.ray.io/en/latest/tune/key-concepts.html\n",
    "\n",
    "Note: cv-scores would need to be computed here, since they depend on the train data.\n",
    "After this notebook only the onnx-model is available."
   ]
  },
  {
   "cell_type": "code",
   "execution_count": 7,
   "id": "c7600874",
   "metadata": {
    "execution": {
     "iopub.execute_input": "2022-07-14T19:56:46.560375Z",
     "iopub.status.busy": "2022-07-14T19:56:46.560044Z",
     "iopub.status.idle": "2022-07-14T19:56:46.651888Z",
     "shell.execute_reply": "2022-07-14T19:56:46.651314Z"
    },
    "papermill": {
     "duration": 0.098526,
     "end_time": "2022-07-14T19:56:46.653959",
     "exception": false,
     "start_time": "2022-07-14T19:56:46.555433",
     "status": "completed"
    },
    "tags": []
   },
   "outputs": [],
   "source": [
    "from sklearn.svm import SVC"
   ]
  },
  {
   "cell_type": "code",
   "execution_count": 8,
   "id": "2cc14061",
   "metadata": {
    "execution": {
     "iopub.execute_input": "2022-07-14T19:56:46.663237Z",
     "iopub.status.busy": "2022-07-14T19:56:46.662673Z",
     "iopub.status.idle": "2022-07-14T19:56:46.761869Z",
     "shell.execute_reply": "2022-07-14T19:56:46.761311Z"
    },
    "papermill": {
     "duration": 0.105855,
     "end_time": "2022-07-14T19:56:46.763685",
     "exception": false,
     "start_time": "2022-07-14T19:56:46.657830",
     "status": "completed"
    },
    "tags": []
   },
   "outputs": [
    {
     "data": {
      "text/plain": [
       "SVC(C=10.0, kernel='linear', probability=True)"
      ]
     },
     "execution_count": 8,
     "metadata": {},
     "output_type": "execute_result"
    }
   ],
   "source": [
    "model = SVC(C=10.0, kernel=\"linear\", probability=True)\n",
    "\n",
    "model.fit(X_train, y_train)"
   ]
  },
  {
   "cell_type": "markdown",
   "id": "cc24e087",
   "metadata": {
    "papermill": {
     "duration": 0.015442,
     "end_time": "2022-07-14T19:56:46.782705",
     "exception": false,
     "start_time": "2022-07-14T19:56:46.767263",
     "status": "completed"
    },
    "tags": []
   },
   "source": [
    "### Q: Can the labels returned by `predict(..)` be computed from probabilities returned by the `predict_prob`-method?"
   ]
  },
  {
   "cell_type": "code",
   "execution_count": 9,
   "id": "fee6cebe",
   "metadata": {
    "execution": {
     "iopub.execute_input": "2022-07-14T19:56:46.801586Z",
     "iopub.status.busy": "2022-07-14T19:56:46.801307Z",
     "iopub.status.idle": "2022-07-14T19:56:46.842590Z",
     "shell.execute_reply": "2022-07-14T19:56:46.842047Z"
    },
    "papermill": {
     "duration": 0.053014,
     "end_time": "2022-07-14T19:56:46.844226",
     "exception": false,
     "start_time": "2022-07-14T19:56:46.791212",
     "status": "completed"
    },
    "tags": []
   },
   "outputs": [
    {
     "name": "stdout",
     "output_type": "stream",
     "text": [
      " - Logging nr_max_prob_neq_label (int) : 0\n"
     ]
    }
   ],
   "source": [
    "import numpy as np\n",
    "\n",
    "y_train_labels = model.predict(X_train)\n",
    "y_train_probabilities = model.predict_proba(X_train)\n",
    "assert y_train_probabilities.shape == (len(y_train), 10)\n",
    "\n",
    "y_train_max_prob_labels = np.argmax(y_train_probabilities, axis=1)\n",
    "assert y_train_labels.shape == y_train_max_prob_labels.shape == y_train.shape\n",
    "\n",
    "# If the predicted labels would coincide with the labels that have\n",
    "# maximum probability, the below number would be zero\n",
    "logger.log_int(\n",
    "    \"nr_max_prob_neq_label\", int(sum(y_train_max_prob_labels != y_train_labels))\n",
    ")"
   ]
  },
  {
   "cell_type": "markdown",
   "id": "61c31fba",
   "metadata": {
    "papermill": {
     "duration": 0.004312,
     "end_time": "2022-07-14T19:56:46.852401",
     "exception": false,
     "start_time": "2022-07-14T19:56:46.848089",
     "status": "completed"
    },
    "tags": []
   },
   "source": [
    "The explanation is (likely) explained in the SVC source, see\n",
    "[here](https://github.com/scikit-learn/scikit-learn/blob/main/sklearn/svm/_base.py).\n",
    "Namely, the outputs from `predict(..)` and `predict_proba(..)` may not in some\n",
    "cases be compatible since the latter is computed using cross-validation while\n",
    "the former is not. Thus, the above number need not be zero."
   ]
  },
  {
   "cell_type": "markdown",
   "id": "3787a333",
   "metadata": {
    "papermill": {
     "duration": 0.003532,
     "end_time": "2022-07-14T19:56:46.859467",
     "exception": false,
     "start_time": "2022-07-14T19:56:46.855935",
     "status": "completed"
    },
    "tags": []
   },
   "source": [
    "## Persist model"
   ]
  },
  {
   "cell_type": "code",
   "execution_count": 10,
   "id": "12806cac",
   "metadata": {
    "execution": {
     "iopub.execute_input": "2022-07-14T19:56:46.868071Z",
     "iopub.status.busy": "2022-07-14T19:56:46.867796Z",
     "iopub.status.idle": "2022-07-14T19:56:48.372316Z",
     "shell.execute_reply": "2022-07-14T19:56:48.371507Z"
    },
    "papermill": {
     "duration": 1.511257,
     "end_time": "2022-07-14T19:56:48.374537",
     "exception": false,
     "start_time": "2022-07-14T19:56:46.863280",
     "status": "completed"
    },
    "tags": []
   },
   "outputs": [
    {
     "name": "stderr",
     "output_type": "stream",
     "text": [
      "2022-07-14 19:56:47,766\tWARNING worker.py:1245 -- (ip=172.17.0.2) The agent on node 4da8751e090c failed to be restarted 5 times. There are 3 possible problems if you see this error.\n",
      "  1. The dashboard might not display correct information on this node.\n",
      "  2. Metrics on this node won't be reported.\n",
      "  3. runtime_env APIs won't work.\n",
      "Check out the `dashboard_agent.log` to see the detailed failure messages.\n"
     ]
    }
   ],
   "source": [
    "from skl2onnx import convert_sklearn\n",
    "from skl2onnx.common.data_types import FloatTensorType\n",
    "\n",
    "#\n",
    "from common.io import datalake_root, write_onnx"
   ]
  },
  {
   "cell_type": "code",
   "execution_count": 11,
   "id": "a9b09692",
   "metadata": {
    "execution": {
     "iopub.execute_input": "2022-07-14T19:56:48.383694Z",
     "iopub.status.busy": "2022-07-14T19:56:48.383351Z",
     "iopub.status.idle": "2022-07-14T19:56:48.423207Z",
     "shell.execute_reply": "2022-07-14T19:56:48.422345Z"
    },
    "papermill": {
     "duration": 0.046538,
     "end_time": "2022-07-14T19:56:48.424987",
     "exception": false,
     "start_time": "2022-07-14T19:56:48.378449",
     "status": "completed"
    },
    "tags": []
   },
   "outputs": [],
   "source": [
    "# convert sklearn model into onnx and persist to data lake\n",
    "\n",
    "model_onnx = convert_sklearn(\n",
    "    model, initial_types=[(\"float_input_8x8_image\", FloatTensorType([None, 8 * 8]))]\n",
    ")\n",
    "write_onnx(\n",
    "    datalake_root(P)\n",
    "    / \"models\"\n",
    "    / f\"nr_train_images={P['task.nr_train_images']}\"\n",
    "    / \"model.onnx\",\n",
    "    model_onnx,\n",
    ")"
   ]
  },
  {
   "cell_type": "code",
   "execution_count": null,
   "id": "de8afb4b",
   "metadata": {
    "papermill": {
     "duration": 0.004874,
     "end_time": "2022-07-14T19:56:48.433494",
     "exception": false,
     "start_time": "2022-07-14T19:56:48.428620",
     "status": "completed"
    },
    "tags": []
   },
   "outputs": [],
   "source": []
  }
 ],
 "metadata": {
  "jupytext": {
   "cell_metadata_filter": "tags,-all",
   "main_language": "python",
   "notebook_metadata_filter": "-all"
  },
  "language_info": {
   "codemirror_mode": {
    "name": "ipython",
    "version": 3
   },
   "file_extension": ".py",
   "mimetype": "text/x-python",
   "name": "python",
   "nbconvert_exporter": "python",
   "pygments_lexer": "ipython3",
   "version": "3.8.10"
  },
  "papermill": {
   "default_parameters": {},
   "duration": 5.285501,
   "end_time": "2022-07-14T19:56:49.356279",
   "environment_variables": {},
   "exception": null,
   "input_path": "/home/host_user/workspace/mnist-demo-pipeline/mnist-demo-pipeline/notebooks/temp-notebook-og53ppfk.ipynb",
   "output_path": "notebooks/train-model.ipynb",
   "parameters": {
    "P": {
     "_opentelemetry_traceparent": "00-7fe56a2882a4c11ac86715a3e8709335-76f3d1cfb58ae2a3-01",
     "pipeline.data_lake_root": "/pipeline-outputs/data-lake",
     "pipeline.github.actor": "matiasdahl",
     "pipeline.github.base_ref": "development",
     "pipeline.github.event_name": "pull_request",
     "pipeline.github.head_ref": "try-C-hyperparameter",
     "pipeline.github.job": "run-tests-pipeline-and-persist-pipeline-outputs",
     "pipeline.github.ref": "refs/pull/55/merge",
     "pipeline.github.ref_name": "55/merge",
     "pipeline.github.ref_type": "branch",
     "pipeline.github.repository": "pynb-dag-runner/mnist-digits-demo-pipeline",
     "pipeline.github.run_id": "2672052849",
     "pipeline.github.runner_name": "GitHub Actions 2",
     "pipeline.github.sha": "1150ca0bf632c46a3bc0535697829c0df0420613",
     "pipeline.github.workflow": "Run automated tests, pipeline and deploy results to static reporting site",
     "pipeline.pipeline_run_id": "dbdb850f-5389-4750-8eb5-e33e33c83848",
     "pipeline.run_environment": "ci",
     "run.retry_nr": "0",
     "task.max_nr_retries": "1",
     "task.notebook": "notebooks/train-model.py",
     "task.nr_train_images": 600,
     "task.num_cpus": 1,
     "task.timeout_s": "None"
    }
   },
   "start_time": "2022-07-14T19:56:44.070778",
   "version": "2.3.3"
  }
 },
 "nbformat": 4,
 "nbformat_minor": 5
}