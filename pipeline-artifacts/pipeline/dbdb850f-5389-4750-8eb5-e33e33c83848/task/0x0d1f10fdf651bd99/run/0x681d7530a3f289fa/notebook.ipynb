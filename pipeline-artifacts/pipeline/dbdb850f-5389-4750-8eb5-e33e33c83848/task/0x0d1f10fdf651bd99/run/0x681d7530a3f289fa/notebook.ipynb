{
 "cells": [
  {
   "cell_type": "markdown",
   "id": "8940cbaa",
   "metadata": {
    "papermill": {
     "duration": 0.00549,
     "end_time": "2022-07-14T19:57:08.972755",
     "exception": false,
     "start_time": "2022-07-14T19:57:08.967265",
     "status": "completed"
    },
    "tags": []
   },
   "source": [
    "# Benchmark model\n",
    "\n",
    "The purpose of this notebook is to benchmark persisted onnx-model (trained in the\n",
    "previous step) against evaluation set."
   ]
  },
  {
   "cell_type": "markdown",
   "id": "8f9e8c91",
   "metadata": {
    "papermill": {
     "duration": 0.004141,
     "end_time": "2022-07-14T19:57:08.981889",
     "exception": false,
     "start_time": "2022-07-14T19:57:08.977748",
     "status": "completed"
    },
    "tags": []
   },
   "source": [
    "### Determine run parameters"
   ]
  },
  {
   "cell_type": "code",
   "execution_count": 1,
   "id": "c0eec274",
   "metadata": {
    "execution": {
     "iopub.execute_input": "2022-07-14T19:57:08.991925Z",
     "iopub.status.busy": "2022-07-14T19:57:08.991611Z",
     "iopub.status.idle": "2022-07-14T19:57:09.000117Z",
     "shell.execute_reply": "2022-07-14T19:57:08.999551Z"
    },
    "lines_to_next_cell": 0,
    "papermill": {
     "duration": 0.016104,
     "end_time": "2022-07-14T19:57:09.002070",
     "exception": false,
     "start_time": "2022-07-14T19:57:08.985966",
     "status": "completed"
    },
    "tags": []
   },
   "outputs": [],
   "source": [
    "# ----------------- Parameters for interactive development --------------\n",
    "P = {\n",
    "    \"pipeline.data_lake_root\": \"/pipeline-outputs/data-lake\",\n",
    "    \"task.nr_train_images\": 600,\n",
    "}"
   ]
  },
  {
   "cell_type": "code",
   "execution_count": 2,
   "id": "87dfbb0a",
   "metadata": {
    "execution": {
     "iopub.execute_input": "2022-07-14T19:57:09.011526Z",
     "iopub.status.busy": "2022-07-14T19:57:09.011276Z",
     "iopub.status.idle": "2022-07-14T19:57:09.014171Z",
     "shell.execute_reply": "2022-07-14T19:57:09.013655Z"
    },
    "lines_to_next_cell": 0,
    "papermill": {
     "duration": 0.009988,
     "end_time": "2022-07-14T19:57:09.016409",
     "exception": false,
     "start_time": "2022-07-14T19:57:09.006421",
     "status": "completed"
    },
    "tags": [
     "parameters"
    ]
   },
   "outputs": [],
   "source": [
    "# - During automated runs parameters will be injected in the below cell -"
   ]
  },
  {
   "cell_type": "code",
   "execution_count": 3,
   "id": "9c7ad3dd",
   "metadata": {
    "execution": {
     "iopub.execute_input": "2022-07-14T19:57:09.025404Z",
     "iopub.status.busy": "2022-07-14T19:57:09.025156Z",
     "iopub.status.idle": "2022-07-14T19:57:09.029734Z",
     "shell.execute_reply": "2022-07-14T19:57:09.029210Z"
    },
    "papermill": {
     "duration": 0.011498,
     "end_time": "2022-07-14T19:57:09.032055",
     "exception": false,
     "start_time": "2022-07-14T19:57:09.020557",
     "status": "completed"
    },
    "tags": [
     "injected-parameters"
    ]
   },
   "outputs": [],
   "source": [
    "# Parameters\n",
    "P = {\n",
    "    \"pipeline.data_lake_root\": \"/pipeline-outputs/data-lake\",\n",
    "    \"pipeline.run_environment\": \"ci\",\n",
    "    \"pipeline.pipeline_run_id\": \"dbdb850f-5389-4750-8eb5-e33e33c83848\",\n",
    "    \"pipeline.github.repository\": \"pynb-dag-runner/mnist-digits-demo-pipeline\",\n",
    "    \"pipeline.github.workflow\": \"Run automated tests, pipeline and deploy results to static reporting site\",\n",
    "    \"pipeline.github.runner_name\": \"GitHub Actions 2\",\n",
    "    \"pipeline.github.run_id\": \"2672052849\",\n",
    "    \"pipeline.github.actor\": \"matiasdahl\",\n",
    "    \"pipeline.github.job\": \"run-tests-pipeline-and-persist-pipeline-outputs\",\n",
    "    \"pipeline.github.base_ref\": \"development\",\n",
    "    \"pipeline.github.head_ref\": \"try-C-hyperparameter\",\n",
    "    \"pipeline.github.sha\": \"1150ca0bf632c46a3bc0535697829c0df0420613\",\n",
    "    \"pipeline.github.ref\": \"refs/pull/55/merge\",\n",
    "    \"pipeline.github.ref_type\": \"branch\",\n",
    "    \"pipeline.github.ref_name\": \"55/merge\",\n",
    "    \"pipeline.github.event_name\": \"pull_request\",\n",
    "    \"task.nr_train_images\": 1200,\n",
    "    \"task.notebook\": \"notebooks/benchmark-model.py\",\n",
    "    \"task.max_nr_retries\": \"1\",\n",
    "    \"run.retry_nr\": \"0\",\n",
    "    \"task.timeout_s\": \"None\",\n",
    "    \"task.num_cpus\": 1,\n",
    "    \"_opentelemetry_traceparent\": \"00-7fe56a2882a4c11ac86715a3e8709335-8cf867805889f634-01\",\n",
    "}\n"
   ]
  },
  {
   "cell_type": "code",
   "execution_count": 4,
   "id": "205dd4ca",
   "metadata": {
    "execution": {
     "iopub.execute_input": "2022-07-14T19:57:09.042094Z",
     "iopub.status.busy": "2022-07-14T19:57:09.041874Z",
     "iopub.status.idle": "2022-07-14T19:57:09.044540Z",
     "shell.execute_reply": "2022-07-14T19:57:09.044034Z"
    },
    "lines_to_next_cell": 0,
    "papermill": {
     "duration": 0.010905,
     "end_time": "2022-07-14T19:57:09.046715",
     "exception": false,
     "start_time": "2022-07-14T19:57:09.035810",
     "status": "completed"
    },
    "tags": []
   },
   "outputs": [],
   "source": [
    "# -----------------------------------------------------------------------"
   ]
  },
  {
   "cell_type": "markdown",
   "id": "49060972",
   "metadata": {
    "papermill": {
     "duration": 0.004104,
     "end_time": "2022-07-14T19:57:09.054911",
     "exception": false,
     "start_time": "2022-07-14T19:57:09.050807",
     "status": "completed"
    },
    "tags": []
   },
   "source": [
    "---"
   ]
  },
  {
   "cell_type": "markdown",
   "id": "a9b86b04",
   "metadata": {
    "lines_to_next_cell": 2,
    "papermill": {
     "duration": 0.005389,
     "end_time": "2022-07-14T19:57:09.064485",
     "exception": false,
     "start_time": "2022-07-14T19:57:09.059096",
     "status": "completed"
    },
    "tags": []
   },
   "source": [
    "### Notebook code"
   ]
  },
  {
   "cell_type": "code",
   "execution_count": 5,
   "id": "0324dea6",
   "metadata": {
    "execution": {
     "iopub.execute_input": "2022-07-14T19:57:09.075102Z",
     "iopub.status.busy": "2022-07-14T19:57:09.074843Z",
     "iopub.status.idle": "2022-07-14T19:57:10.113346Z",
     "shell.execute_reply": "2022-07-14T19:57:10.112718Z"
    },
    "papermill": {
     "duration": 1.046735,
     "end_time": "2022-07-14T19:57:10.116250",
     "exception": false,
     "start_time": "2022-07-14T19:57:09.069515",
     "status": "completed"
    },
    "tags": []
   },
   "outputs": [
    {
     "name": "stderr",
     "output_type": "stream",
     "text": [
      "2022-07-14 19:57:09,960\tINFO worker.py:842 -- Connecting to existing Ray cluster at address: 172.17.0.2:6379\n"
     ]
    }
   ],
   "source": [
    "import itertools as it\n",
    "\n",
    "#\n",
    "import numpy as np\n",
    "import matplotlib.pyplot as plt\n",
    "\n",
    "#\n",
    "from pynb_dag_runner.tasks.task_opentelemetry_logging import PydarLogger\n",
    "\n",
    "#\n",
    "from common.io import datalake_root\n",
    "\n",
    "logger = PydarLogger(P)"
   ]
  },
  {
   "cell_type": "markdown",
   "id": "84d941e8",
   "metadata": {
    "papermill": {
     "duration": 0.004727,
     "end_time": "2022-07-14T19:57:10.125333",
     "exception": false,
     "start_time": "2022-07-14T19:57:10.120606",
     "status": "completed"
    },
    "tags": []
   },
   "source": [
    "## Load persisted onnx-model and evaluation data"
   ]
  },
  {
   "cell_type": "code",
   "execution_count": 6,
   "id": "69357f6b",
   "metadata": {
    "execution": {
     "iopub.execute_input": "2022-07-14T19:57:10.134974Z",
     "iopub.status.busy": "2022-07-14T19:57:10.134610Z",
     "iopub.status.idle": "2022-07-14T19:57:10.139243Z",
     "shell.execute_reply": "2022-07-14T19:57:10.138527Z"
    },
    "papermill": {
     "duration": 0.012384,
     "end_time": "2022-07-14T19:57:10.141794",
     "exception": false,
     "start_time": "2022-07-14T19:57:10.129410",
     "status": "completed"
    },
    "tags": []
   },
   "outputs": [],
   "source": [
    "from common.io import read_onnx, get_onnx_inputs, get_onnx_outputs, read_numpy"
   ]
  },
  {
   "cell_type": "code",
   "execution_count": 7,
   "id": "c8c9e55b",
   "metadata": {
    "execution": {
     "iopub.execute_input": "2022-07-14T19:57:10.151172Z",
     "iopub.status.busy": "2022-07-14T19:57:10.150934Z",
     "iopub.status.idle": "2022-07-14T19:57:10.161753Z",
     "shell.execute_reply": "2022-07-14T19:57:10.161182Z"
    },
    "lines_to_next_cell": 0,
    "papermill": {
     "duration": 0.017596,
     "end_time": "2022-07-14T19:57:10.163492",
     "exception": false,
     "start_time": "2022-07-14T19:57:10.145896",
     "status": "completed"
    },
    "tags": []
   },
   "outputs": [],
   "source": [
    "onnx_inference_session = read_onnx(\n",
    "    datalake_root(P)\n",
    "    / \"models\"\n",
    "    / f\"nr_train_images={P['task.nr_train_images']}\"\n",
    "    / \"model.onnx\"\n",
    ")"
   ]
  },
  {
   "cell_type": "markdown",
   "id": "fd5d1a34",
   "metadata": {
    "papermill": {
     "duration": 0.004254,
     "end_time": "2022-07-14T19:57:10.172017",
     "exception": false,
     "start_time": "2022-07-14T19:57:10.167763",
     "status": "completed"
    },
    "tags": []
   },
   "source": [
    "### Record structure of inputs and outputs for ONNX model\n",
    "\n",
    "(this should likely be done in training notebook)"
   ]
  },
  {
   "cell_type": "code",
   "execution_count": 8,
   "id": "8108873f",
   "metadata": {
    "execution": {
     "iopub.execute_input": "2022-07-14T19:57:10.181636Z",
     "iopub.status.busy": "2022-07-14T19:57:10.181360Z",
     "iopub.status.idle": "2022-07-14T19:57:10.191115Z",
     "shell.execute_reply": "2022-07-14T19:57:10.186214Z"
    },
    "papermill": {
     "duration": 0.017964,
     "end_time": "2022-07-14T19:57:10.194003",
     "exception": false,
     "start_time": "2022-07-14T19:57:10.176039",
     "status": "completed"
    },
    "tags": []
   },
   "outputs": [
    {
     "name": "stdout",
     "output_type": "stream",
     "text": [
      "{\n",
      "  \"inputs\": [\n",
      "    {\n",
      "      \"name\": \"float_input_8x8_image\",\n",
      "      \"shape\": [\n",
      "        null,\n",
      "        64\n",
      "      ],\n",
      "      \"type\": \"tensor(float)\"\n",
      "    }\n",
      "  ],\n",
      "  \"outputs\": [\n",
      "    {\n",
      "      \"name\": \"output_label\",\n",
      "      \"shape\": [\n",
      "        null\n",
      "      ],\n",
      "      \"type\": \"tensor(int64)\"\n",
      "    },\n",
      "    {\n",
      "      \"name\": \"output_probability\",\n",
      "      \"shape\": [],\n",
      "      \"type\": \"seq(map(int64,tensor(float)))\"\n",
      "    }\n",
      "  ]\n",
      "}\n"
     ]
    }
   ],
   "source": [
    "import json\n",
    "\n",
    "onnx_io = json.dumps(\n",
    "    {\n",
    "        \"inputs\": get_onnx_inputs(onnx_inference_session),\n",
    "        \"outputs\": get_onnx_outputs(onnx_inference_session),\n",
    "    },\n",
    "    indent=2,\n",
    ")\n",
    "\n",
    "\n",
    "logger.log_artefact(\"onnx_io_structure.json\", onnx_io)\n",
    "print(onnx_io)"
   ]
  },
  {
   "cell_type": "markdown",
   "id": "f70aec20",
   "metadata": {
    "papermill": {
     "duration": 0.004182,
     "end_time": "2022-07-14T19:57:10.202940",
     "exception": false,
     "start_time": "2022-07-14T19:57:10.198758",
     "status": "completed"
    },
    "tags": []
   },
   "source": [
    "### Evaluate model performance on evaluation data set"
   ]
  },
  {
   "cell_type": "code",
   "execution_count": 9,
   "id": "d28c949b",
   "metadata": {
    "execution": {
     "iopub.execute_input": "2022-07-14T19:57:10.212496Z",
     "iopub.status.busy": "2022-07-14T19:57:10.212240Z",
     "iopub.status.idle": "2022-07-14T19:57:10.216888Z",
     "shell.execute_reply": "2022-07-14T19:57:10.216349Z"
    },
    "papermill": {
     "duration": 0.012269,
     "end_time": "2022-07-14T19:57:10.219229",
     "exception": false,
     "start_time": "2022-07-14T19:57:10.206960",
     "status": "completed"
    },
    "tags": []
   },
   "outputs": [],
   "source": [
    "# load evaluation data\n",
    "X_test = read_numpy(datalake_root(P) / \"test-data\" / \"digits.numpy\")\n",
    "y_test = read_numpy(datalake_root(P) / \"test-data\" / \"labels.numpy\")"
   ]
  },
  {
   "cell_type": "code",
   "execution_count": 10,
   "id": "76c88475",
   "metadata": {
    "execution": {
     "iopub.execute_input": "2022-07-14T19:57:10.229098Z",
     "iopub.status.busy": "2022-07-14T19:57:10.228685Z",
     "iopub.status.idle": "2022-07-14T19:57:10.242488Z",
     "shell.execute_reply": "2022-07-14T19:57:10.241717Z"
    },
    "papermill": {
     "duration": 0.020424,
     "end_time": "2022-07-14T19:57:10.244113",
     "exception": false,
     "start_time": "2022-07-14T19:57:10.223689",
     "status": "completed"
    },
    "tags": []
   },
   "outputs": [],
   "source": [
    "def get_model_outputs(X, onnx_inference_session):\n",
    "    y_pred_labels, y_pred_map = onnx_inference_session.run(\n",
    "        [\"output_label\", \"output_probability\"],\n",
    "        {\"float_input_8x8_image\": X.astype(np.float32)},\n",
    "    )\n",
    "    y_pred_probs = np.array(\n",
    "        [[probabilities[digit] for digit in range(10)] for probabilities in y_pred_map]\n",
    "    )\n",
    "\n",
    "    assert y_pred_labels.shape == (X.shape[0],)\n",
    "    assert y_pred_probs.shape == (X.shape[0], 10)\n",
    "\n",
    "    return y_pred_labels, y_pred_probs\n",
    "\n",
    "\n",
    "# Note: as shown in the training notebook, the predicted labels and probabilities\n",
    "# computed below need not be compatible.\n",
    "y_pred_labels_test, y_pred_probs_test = get_model_outputs(\n",
    "    X_test, onnx_inference_session\n",
    ")"
   ]
  },
  {
   "cell_type": "markdown",
   "id": "c697afa4",
   "metadata": {
    "papermill": {
     "duration": 0.005013,
     "end_time": "2022-07-14T19:57:10.253319",
     "exception": false,
     "start_time": "2022-07-14T19:57:10.248306",
     "status": "completed"
    },
    "tags": []
   },
   "source": [
    "### Confusion matrix"
   ]
  },
  {
   "cell_type": "code",
   "execution_count": 11,
   "id": "392099d7",
   "metadata": {
    "execution": {
     "iopub.execute_input": "2022-07-14T19:57:10.263765Z",
     "iopub.status.busy": "2022-07-14T19:57:10.263516Z",
     "iopub.status.idle": "2022-07-14T19:57:10.266314Z",
     "shell.execute_reply": "2022-07-14T19:57:10.265777Z"
    },
    "papermill": {
     "duration": 0.011039,
     "end_time": "2022-07-14T19:57:10.268564",
     "exception": false,
     "start_time": "2022-07-14T19:57:10.257525",
     "status": "completed"
    },
    "tags": []
   },
   "outputs": [],
   "source": [
    "# TODO"
   ]
  },
  {
   "cell_type": "markdown",
   "id": "ac993ae5",
   "metadata": {
    "papermill": {
     "duration": 0.004199,
     "end_time": "2022-07-14T19:57:10.277415",
     "exception": false,
     "start_time": "2022-07-14T19:57:10.273216",
     "status": "completed"
    },
    "tags": []
   },
   "source": [
    "### Plot predicted probabilities for each classifier over all evaluation digit images"
   ]
  },
  {
   "cell_type": "code",
   "execution_count": 12,
   "id": "21e8bac7",
   "metadata": {
    "execution": {
     "iopub.execute_input": "2022-07-14T19:57:10.287263Z",
     "iopub.status.busy": "2022-07-14T19:57:10.287019Z",
     "iopub.status.idle": "2022-07-14T19:57:13.244855Z",
     "shell.execute_reply": "2022-07-14T19:57:13.244221Z"
    },
    "papermill": {
     "duration": 2.964849,
     "end_time": "2022-07-14T19:57:13.246895",
     "exception": false,
     "start_time": "2022-07-14T19:57:10.282046",
     "status": "completed"
    },
    "tags": []
   },
   "outputs": [
    {
     "data": {
      "image/png": "[encoded data removed]",
      "text/plain": [
       "<Figure size 1152x432 with 10 Axes>"
      ]
     },
     "metadata": {
      "needs_background": "light"
     },
     "output_type": "display_data"
    }
   ],
   "source": [
    "def plot_per_digit_probabilities(y_pred_probs):\n",
    "    fig, axs = plt.subplots(nrows=2, ncols=5, figsize=(16, 6))\n",
    "\n",
    "    for (r, c), digit, ax in zip(\n",
    "        it.product(range(2), range(5)), range(10), axs.reshape(-1)\n",
    "    ):\n",
    "        ax.hist(y_pred_probs_test[:, digit], bins=20)\n",
    "\n",
    "        ax.set_title(f\"Digit {digit}\")\n",
    "        if r == 1 and c == 2:\n",
    "            ax.set_xlabel(\"probability\", fontsize=16)\n",
    "\n",
    "        if c == 0:\n",
    "            ax.set_ylabel(\"counts\", fontsize=16)\n",
    "        ax.set_yscale(\"log\")\n",
    "\n",
    "    fig.tight_layout()\n",
    "    fig.suptitle(\n",
    "        f\"Distributions of prediction probabilities for each digit \"\n",
    "        f\"(on evaluation data, n={y_pred_probs.shape[0]})\",\n",
    "        fontsize=20,\n",
    "    )\n",
    "    fig.tight_layout()\n",
    "    fig.show()\n",
    "\n",
    "    return fig\n",
    "\n",
    "\n",
    "fig = plot_per_digit_probabilities(y_pred_probs_test)"
   ]
  },
  {
   "cell_type": "markdown",
   "id": "1fef975e",
   "metadata": {
    "papermill": {
     "duration": 0.005222,
     "end_time": "2022-07-14T19:57:13.257699",
     "exception": false,
     "start_time": "2022-07-14T19:57:13.252477",
     "status": "completed"
    },
    "tags": []
   },
   "source": [
    "From the above distributions we see that most digits have clear separation between\n",
    "high and lower probabilities. Morover, in each case there is roughly an order of\n",
    "magnitude more of digits with low probabilities. This is compatible with digits\n",
    "being roughly evenly distributed in the data."
   ]
  },
  {
   "cell_type": "code",
   "execution_count": 13,
   "id": "bba0ef6f",
   "metadata": {
    "execution": {
     "iopub.execute_input": "2022-07-14T19:57:13.275529Z",
     "iopub.status.busy": "2022-07-14T19:57:13.275168Z",
     "iopub.status.idle": "2022-07-14T19:57:13.732354Z",
     "shell.execute_reply": "2022-07-14T19:57:13.731694Z"
    },
    "papermill": {
     "duration": 0.467962,
     "end_time": "2022-07-14T19:57:13.733979",
     "exception": false,
     "start_time": "2022-07-14T19:57:13.266017",
     "status": "completed"
    },
    "tags": []
   },
   "outputs": [],
   "source": [
    "logger.log_figure(\"per-digit-probabilities.png\", fig)"
   ]
  },
  {
   "cell_type": "markdown",
   "id": "88608941",
   "metadata": {
    "papermill": {
     "duration": 0.008876,
     "end_time": "2022-07-14T19:57:13.748760",
     "exception": false,
     "start_time": "2022-07-14T19:57:13.739884",
     "status": "completed"
    },
    "tags": []
   },
   "source": [
    "### Plot ROC curves for individual one-vs-rest classifiers"
   ]
  },
  {
   "cell_type": "code",
   "execution_count": 14,
   "id": "ea07fd34",
   "metadata": {
    "execution": {
     "iopub.execute_input": "2022-07-14T19:57:13.760644Z",
     "iopub.status.busy": "2022-07-14T19:57:13.760132Z",
     "iopub.status.idle": "2022-07-14T19:57:14.173744Z",
     "shell.execute_reply": "2022-07-14T19:57:14.172971Z"
    },
    "papermill": {
     "duration": 0.421239,
     "end_time": "2022-07-14T19:57:14.175518",
     "exception": false,
     "start_time": "2022-07-14T19:57:13.754279",
     "status": "completed"
    },
    "tags": []
   },
   "outputs": [],
   "source": [
    "from sklearn import metrics"
   ]
  },
  {
   "cell_type": "code",
   "execution_count": 15,
   "id": "81e39e19",
   "metadata": {
    "execution": {
     "iopub.execute_input": "2022-07-14T19:57:14.187609Z",
     "iopub.status.busy": "2022-07-14T19:57:14.187353Z",
     "iopub.status.idle": "2022-07-14T19:57:15.248511Z",
     "shell.execute_reply": "2022-07-14T19:57:15.247747Z"
    },
    "papermill": {
     "duration": 1.069049,
     "end_time": "2022-07-14T19:57:15.250198",
     "exception": false,
     "start_time": "2022-07-14T19:57:14.181149",
     "status": "completed"
    },
    "tags": []
   },
   "outputs": [
    {
     "data": {
      "image/png": "[encoded data removed]",
      "text/plain": [
       "<Figure size 1152x576 with 10 Axes>"
      ]
     },
     "metadata": {
      "needs_background": "light"
     },
     "output_type": "display_data"
    }
   ],
   "source": [
    "def plot_roc_curves(y, y_pred_probs):\n",
    "    # based on example code\n",
    "    # https://scikit-learn.org/stable/auto_examples/model_selection/plot_roc.html\n",
    "\n",
    "    fig, axs = plt.subplots(nrows=2, ncols=5, figsize=(16, 8))\n",
    "\n",
    "    roc_auc_dict = {}\n",
    "\n",
    "    for (r, c), digit, ax in zip(\n",
    "        it.product(range(2), range(5)), range(10), axs.reshape(-1)\n",
    "    ):\n",
    "        fpr, tpr, _ = metrics.roc_curve(y == digit, y_pred_probs[:, digit])\n",
    "        auc = metrics.auc(fpr, tpr)\n",
    "        roc_auc_dict[str(digit)] = auc\n",
    "\n",
    "        ax.plot(fpr, tpr, label=f\"ROC AUC={round(auc, 3)}\")\n",
    "\n",
    "        ax.set_title(f\"\\nDigit {digit}\", fontsize=16)\n",
    "        if r == 1:\n",
    "            ax.set_xlabel(\"FPR\", fontsize=18)\n",
    "\n",
    "        if c == 0:\n",
    "            ax.set_ylabel(\"TPR\", fontsize=18)\n",
    "\n",
    "        ax.set_xlim([-0.05, 1.05])\n",
    "        ax.set_ylim([-0.05, 1.05])\n",
    "        ax.legend(loc=\"lower right\", frameon=False, fontsize=14)\n",
    "\n",
    "    fig.tight_layout()\n",
    "    fig.suptitle(\n",
    "        f\"ROC plots for one-vs-rest performances \"\n",
    "        f\"(on evaluation data, n={y_pred_probs_test.shape[1]}\",\n",
    "        fontsize=22,\n",
    "    )\n",
    "    fig.tight_layout()\n",
    "    fig.show()\n",
    "\n",
    "    return roc_auc_dict, fig\n",
    "\n",
    "\n",
    "roc_auc_dict, fig = plot_roc_curves(y_test, y_pred_probs_test)"
   ]
  },
  {
   "cell_type": "code",
   "execution_count": 16,
   "id": "10727e05",
   "metadata": {
    "execution": {
     "iopub.execute_input": "2022-07-14T19:57:15.263404Z",
     "iopub.status.busy": "2022-07-14T19:57:15.263135Z",
     "iopub.status.idle": "2022-07-14T19:57:15.482654Z",
     "shell.execute_reply": "2022-07-14T19:57:15.481894Z"
    },
    "papermill": {
     "duration": 0.228175,
     "end_time": "2022-07-14T19:57:15.484511",
     "exception": false,
     "start_time": "2022-07-14T19:57:15.256336",
     "status": "completed"
    },
    "tags": []
   },
   "outputs": [],
   "source": [
    "logger.log_figure(\"per-digit-roc-curves.png\", fig)"
   ]
  },
  {
   "cell_type": "code",
   "execution_count": 17,
   "id": "667183eb",
   "metadata": {
    "execution": {
     "iopub.execute_input": "2022-07-14T19:57:15.497818Z",
     "iopub.status.busy": "2022-07-14T19:57:15.497331Z",
     "iopub.status.idle": "2022-07-14T19:57:15.502046Z",
     "shell.execute_reply": "2022-07-14T19:57:15.501507Z"
    },
    "papermill": {
     "duration": 0.014111,
     "end_time": "2022-07-14T19:57:15.504969",
     "exception": false,
     "start_time": "2022-07-14T19:57:15.490858",
     "status": "completed"
    },
    "tags": []
   },
   "outputs": [
    {
     "data": {
      "text/plain": [
       "{'0': 1.0,\n",
       " '1': 0.998912839737582,\n",
       " '2': 1.0,\n",
       " '3': 0.9997750702905343,\n",
       " '4': 1.0,\n",
       " '5': 0.9992877225866916,\n",
       " '6': 0.999961896052431,\n",
       " '7': 0.9998094802621552,\n",
       " '8': 0.9934977931904162,\n",
       " '9': 0.9991236092059138}"
      ]
     },
     "execution_count": 17,
     "metadata": {},
     "output_type": "execute_result"
    }
   ],
   "source": [
    "roc_auc_dict"
   ]
  },
  {
   "cell_type": "code",
   "execution_count": 18,
   "id": "80b42d8e",
   "metadata": {
    "execution": {
     "iopub.execute_input": "2022-07-14T19:57:15.522204Z",
     "iopub.status.busy": "2022-07-14T19:57:15.521966Z",
     "iopub.status.idle": "2022-07-14T19:57:15.525694Z",
     "shell.execute_reply": "2022-07-14T19:57:15.525138Z"
    },
    "papermill": {
     "duration": 0.018348,
     "end_time": "2022-07-14T19:57:15.529367",
     "exception": false,
     "start_time": "2022-07-14T19:57:15.511019",
     "status": "completed"
    },
    "tags": []
   },
   "outputs": [
    {
     "name": "stdout",
     "output_type": "stream",
     "text": [
      " - Logging roc_auc_per_digit (json) : {'0': 1.0, '1': 0.998912839737582, '2': 1.0, '3': 0.9997750702905343, '4': 1.0, '5': 0.9992877225866916, '6': 0.999961896052431, '7': 0.9998094802621552, '8': 0.9934977931904162, '9': 0.9991236092059138}\n"
     ]
    }
   ],
   "source": [
    "logger.log_value(\"roc_auc_per_digit\", roc_auc_dict)"
   ]
  },
  {
   "cell_type": "markdown",
   "id": "ef4776da",
   "metadata": {
    "papermill": {
     "duration": 0.005967,
     "end_time": "2022-07-14T19:57:15.540849",
     "exception": false,
     "start_time": "2022-07-14T19:57:15.534882",
     "status": "completed"
    },
    "tags": []
   },
   "source": [
    "### Compute and log mean ROC AUC score averaged over all digits"
   ]
  },
  {
   "cell_type": "code",
   "execution_count": 19,
   "id": "f0aedf83",
   "metadata": {
    "execution": {
     "iopub.execute_input": "2022-07-14T19:57:15.553706Z",
     "iopub.status.busy": "2022-07-14T19:57:15.553434Z",
     "iopub.status.idle": "2022-07-14T19:57:15.567443Z",
     "shell.execute_reply": "2022-07-14T19:57:15.566912Z"
    },
    "papermill": {
     "duration": 0.022293,
     "end_time": "2022-07-14T19:57:15.568841",
     "exception": false,
     "start_time": "2022-07-14T19:57:15.546548",
     "status": "completed"
    },
    "tags": []
   },
   "outputs": [
    {
     "name": "stdout",
     "output_type": "stream",
     "text": [
      " - Logging roc_auc_class_mean (float) : 0.9990368411325724\n"
     ]
    }
   ],
   "source": [
    "roc_auc_macro = np.mean(list(roc_auc_dict.values()))\n",
    "\n",
    "logger.log_float(\"roc_auc_class_mean\", roc_auc_macro)\n",
    "\n",
    "# assert that the same value can be computed directly using sklearn\n",
    "assert roc_auc_macro == metrics.roc_auc_score(\n",
    "    y_test, y_pred_probs_test, average=\"macro\", multi_class=\"ovr\"\n",
    ")"
   ]
  },
  {
   "cell_type": "code",
   "execution_count": 20,
   "id": "efed5929",
   "metadata": {
    "execution": {
     "iopub.execute_input": "2022-07-14T19:57:15.582323Z",
     "iopub.status.busy": "2022-07-14T19:57:15.582077Z",
     "iopub.status.idle": "2022-07-14T19:57:15.584896Z",
     "shell.execute_reply": "2022-07-14T19:57:15.584362Z"
    },
    "lines_to_next_cell": 0,
    "papermill": {
     "duration": 0.012888,
     "end_time": "2022-07-14T19:57:15.587835",
     "exception": false,
     "start_time": "2022-07-14T19:57:15.574947",
     "status": "completed"
    },
    "tags": []
   },
   "outputs": [],
   "source": [
    "# ---"
   ]
  },
  {
   "cell_type": "code",
   "execution_count": null,
   "id": "d60bf75a",
   "metadata": {
    "papermill": {
     "duration": 0.006076,
     "end_time": "2022-07-14T19:57:15.599711",
     "exception": false,
     "start_time": "2022-07-14T19:57:15.593635",
     "status": "completed"
    },
    "tags": []
   },
   "outputs": [],
   "source": []
  }
 ],
 "metadata": {
  "jupytext": {
   "cell_metadata_filter": "tags,-all",
   "main_language": "python",
   "notebook_metadata_filter": "-all"
  },
  "language_info": {
   "codemirror_mode": {
    "name": "ipython",
    "version": 3
   },
   "file_extension": ".py",
   "mimetype": "text/x-python",
   "name": "python",
   "nbconvert_exporter": "python",
   "pygments_lexer": "ipython3",
   "version": "3.8.10"
  },
  "papermill": {
   "default_parameters": {},
   "duration": 9.171111,
   "end_time": "2022-07-14T19:57:16.728145",
   "environment_variables": {},
   "exception": null,
   "input_path": "/home/host_user/workspace/mnist-demo-pipeline/mnist-demo-pipeline/notebooks/temp-notebook-lg7a6qco.ipynb",
   "output_path": "notebooks/benchmark-model.ipynb",
   "parameters": {
    "P": {
     "_opentelemetry_traceparent": "00-7fe56a2882a4c11ac86715a3e8709335-8cf867805889f634-01",
     "pipeline.data_lake_root": "/pipeline-outputs/data-lake",
     "pipeline.github.actor": "matiasdahl",
     "pipeline.github.base_ref": "development",
     "pipeline.github.event_name": "pull_request",
     "pipeline.github.head_ref": "try-C-hyperparameter",
     "pipeline.github.job": "run-tests-pipeline-and-persist-pipeline-outputs",
     "pipeline.github.ref": "refs/pull/55/merge",
     "pipeline.github.ref_name": "55/merge",
     "pipeline.github.ref_type": "branch",
     "pipeline.github.repository": "pynb-dag-runner/mnist-digits-demo-pipeline",
     "pipeline.github.run_id": "2672052849",
     "pipeline.github.runner_name": "GitHub Actions 2",
     "pipeline.github.sha": "1150ca0bf632c46a3bc0535697829c0df0420613",
     "pipeline.github.workflow": "Run automated tests, pipeline and deploy results to static reporting site",
     "pipeline.pipeline_run_id": "dbdb850f-5389-4750-8eb5-e33e33c83848",
     "pipeline.run_environment": "ci",
     "run.retry_nr": "0",
     "task.max_nr_retries": "1",
     "task.notebook": "notebooks/benchmark-model.py",
     "task.nr_train_images": 1200,
     "task.num_cpus": 1,
     "task.timeout_s": "None"
    }
   },
   "start_time": "2022-07-14T19:57:07.557034",
   "version": "2.3.3"
  }
 },
 "nbformat": 4,
 "nbformat_minor": 5
}