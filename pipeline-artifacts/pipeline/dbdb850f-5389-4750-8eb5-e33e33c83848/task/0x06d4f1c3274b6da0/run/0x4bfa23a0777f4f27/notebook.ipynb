{
 "cells": [
  {
   "cell_type": "markdown",
   "id": "40e25812",
   "metadata": {
    "papermill": {
     "duration": 0.004336,
     "end_time": "2022-07-14T19:56:49.908735",
     "exception": false,
     "start_time": "2022-07-14T19:56:49.904399",
     "status": "completed"
    },
    "tags": []
   },
   "source": [
    "# Train model\n",
    "\n",
    "The purpose of this notebook is:\n",
    "\n",
    "- Load all training data (images and labels).\n",
    "- Limit number of train images to `task.nr_train_images` (value provided as run parameter).\n",
    "- Train a support vector machine model using sklearn.\n",
    "- Persist the trained model using the ONNX format."
   ]
  },
  {
   "cell_type": "markdown",
   "id": "0c503510",
   "metadata": {
    "papermill": {
     "duration": 0.002888,
     "end_time": "2022-07-14T19:56:49.914916",
     "exception": false,
     "start_time": "2022-07-14T19:56:49.912028",
     "status": "completed"
    },
    "tags": []
   },
   "source": [
    "### Determine run parameters"
   ]
  },
  {
   "cell_type": "code",
   "execution_count": 1,
   "id": "c52a4c06",
   "metadata": {
    "execution": {
     "iopub.execute_input": "2022-07-14T19:56:49.922173Z",
     "iopub.status.busy": "2022-07-14T19:56:49.921610Z",
     "iopub.status.idle": "2022-07-14T19:56:49.929264Z",
     "shell.execute_reply": "2022-07-14T19:56:49.928689Z"
    },
    "lines_to_next_cell": 0,
    "papermill": {
     "duration": 0.013117,
     "end_time": "2022-07-14T19:56:49.930886",
     "exception": false,
     "start_time": "2022-07-14T19:56:49.917769",
     "status": "completed"
    },
    "tags": []
   },
   "outputs": [],
   "source": [
    "# ----------------- Parameters for interactive development --------------\n",
    "P = {\n",
    "    \"pipeline.data_lake_root\": \"/pipeline-outputs/data-lake\",\n",
    "    \"task.nr_train_images\": 600,\n",
    "}"
   ]
  },
  {
   "cell_type": "code",
   "execution_count": 2,
   "id": "0f3187e6",
   "metadata": {
    "execution": {
     "iopub.execute_input": "2022-07-14T19:56:49.938002Z",
     "iopub.status.busy": "2022-07-14T19:56:49.937572Z",
     "iopub.status.idle": "2022-07-14T19:56:49.940553Z",
     "shell.execute_reply": "2022-07-14T19:56:49.939972Z"
    },
    "lines_to_next_cell": 0,
    "papermill": {
     "duration": 0.007974,
     "end_time": "2022-07-14T19:56:49.941820",
     "exception": false,
     "start_time": "2022-07-14T19:56:49.933846",
     "status": "completed"
    },
    "tags": [
     "parameters"
    ]
   },
   "outputs": [],
   "source": [
    "# - During automated runs parameters will be injected in the below cell -"
   ]
  },
  {
   "cell_type": "code",
   "execution_count": 3,
   "id": "8ff5a6fa",
   "metadata": {
    "execution": {
     "iopub.execute_input": "2022-07-14T19:56:49.948429Z",
     "iopub.status.busy": "2022-07-14T19:56:49.948209Z",
     "iopub.status.idle": "2022-07-14T19:56:49.952384Z",
     "shell.execute_reply": "2022-07-14T19:56:49.951801Z"
    },
    "papermill": {
     "duration": 0.009173,
     "end_time": "2022-07-14T19:56:49.953683",
     "exception": false,
     "start_time": "2022-07-14T19:56:49.944510",
     "status": "completed"
    },
    "tags": [
     "injected-parameters"
    ]
   },
   "outputs": [],
   "source": [
    "# Parameters\n",
    "P = {\n",
    "    \"pipeline.data_lake_root\": \"/pipeline-outputs/data-lake\",\n",
    "    \"pipeline.run_environment\": \"ci\",\n",
    "    \"pipeline.pipeline_run_id\": \"dbdb850f-5389-4750-8eb5-e33e33c83848\",\n",
    "    \"pipeline.github.repository\": \"pynb-dag-runner/mnist-digits-demo-pipeline\",\n",
    "    \"pipeline.github.workflow\": \"Run automated tests, pipeline and deploy results to static reporting site\",\n",
    "    \"pipeline.github.runner_name\": \"GitHub Actions 2\",\n",
    "    \"pipeline.github.run_id\": \"2672052849\",\n",
    "    \"pipeline.github.actor\": \"matiasdahl\",\n",
    "    \"pipeline.github.job\": \"run-tests-pipeline-and-persist-pipeline-outputs\",\n",
    "    \"pipeline.github.base_ref\": \"development\",\n",
    "    \"pipeline.github.head_ref\": \"try-C-hyperparameter\",\n",
    "    \"pipeline.github.sha\": \"1150ca0bf632c46a3bc0535697829c0df0420613\",\n",
    "    \"pipeline.github.ref\": \"refs/pull/55/merge\",\n",
    "    \"pipeline.github.ref_type\": \"branch\",\n",
    "    \"pipeline.github.ref_name\": \"55/merge\",\n",
    "    \"pipeline.github.event_name\": \"pull_request\",\n",
    "    \"task.nr_train_images\": 1000,\n",
    "    \"task.notebook\": \"notebooks/train-model.py\",\n",
    "    \"task.max_nr_retries\": \"1\",\n",
    "    \"run.retry_nr\": \"0\",\n",
    "    \"task.timeout_s\": \"None\",\n",
    "    \"task.num_cpus\": 1,\n",
    "    \"_opentelemetry_traceparent\": \"00-7fe56a2882a4c11ac86715a3e8709335-57e975490be6ab81-01\",\n",
    "}\n"
   ]
  },
  {
   "cell_type": "code",
   "execution_count": 4,
   "id": "19be1ae3",
   "metadata": {
    "execution": {
     "iopub.execute_input": "2022-07-14T19:56:49.960556Z",
     "iopub.status.busy": "2022-07-14T19:56:49.960355Z",
     "iopub.status.idle": "2022-07-14T19:56:49.963004Z",
     "shell.execute_reply": "2022-07-14T19:56:49.962511Z"
    },
    "lines_to_next_cell": 0,
    "papermill": {
     "duration": 0.007843,
     "end_time": "2022-07-14T19:56:49.964421",
     "exception": false,
     "start_time": "2022-07-14T19:56:49.956578",
     "status": "completed"
    },
    "tags": []
   },
   "outputs": [],
   "source": [
    "# -----------------------------------------------------------------------"
   ]
  },
  {
   "cell_type": "markdown",
   "id": "31adc2e1",
   "metadata": {
    "papermill": {
     "duration": 0.003623,
     "end_time": "2022-07-14T19:56:49.970793",
     "exception": false,
     "start_time": "2022-07-14T19:56:49.967170",
     "status": "completed"
    },
    "tags": []
   },
   "source": [
    "---"
   ]
  },
  {
   "cell_type": "markdown",
   "id": "f3bc854f",
   "metadata": {
    "lines_to_next_cell": 2,
    "papermill": {
     "duration": 0.002726,
     "end_time": "2022-07-14T19:56:49.976580",
     "exception": false,
     "start_time": "2022-07-14T19:56:49.973854",
     "status": "completed"
    },
    "tags": []
   },
   "source": [
    "### Notebook code"
   ]
  },
  {
   "cell_type": "code",
   "execution_count": 5,
   "id": "469d5ae8",
   "metadata": {
    "execution": {
     "iopub.execute_input": "2022-07-14T19:56:49.985521Z",
     "iopub.status.busy": "2022-07-14T19:56:49.985268Z",
     "iopub.status.idle": "2022-07-14T19:56:50.478688Z",
     "shell.execute_reply": "2022-07-14T19:56:50.478111Z"
    },
    "papermill": {
     "duration": 0.500962,
     "end_time": "2022-07-14T19:56:50.480524",
     "exception": false,
     "start_time": "2022-07-14T19:56:49.979562",
     "status": "completed"
    },
    "tags": []
   },
   "outputs": [
    {
     "name": "stderr",
     "output_type": "stream",
     "text": [
      "2022-07-14 19:56:50,297\tINFO worker.py:842 -- Connecting to existing Ray cluster at address: 172.17.0.2:6379\n"
     ]
    }
   ],
   "source": [
    "from pynb_dag_runner.tasks.task_opentelemetry_logging import PydarLogger\n",
    "\n",
    "logger = PydarLogger(P)"
   ]
  },
  {
   "cell_type": "markdown",
   "id": "819f84a0",
   "metadata": {
    "papermill": {
     "duration": 0.003733,
     "end_time": "2022-07-14T19:56:50.488420",
     "exception": false,
     "start_time": "2022-07-14T19:56:50.484687",
     "status": "completed"
    },
    "tags": []
   },
   "source": [
    "## Load and limit train data"
   ]
  },
  {
   "cell_type": "code",
   "execution_count": 6,
   "id": "2f5b0a8b",
   "metadata": {
    "execution": {
     "iopub.execute_input": "2022-07-14T19:56:50.496141Z",
     "iopub.status.busy": "2022-07-14T19:56:50.495816Z",
     "iopub.status.idle": "2022-07-14T19:56:50.910910Z",
     "shell.execute_reply": "2022-07-14T19:56:50.908667Z"
    },
    "papermill": {
     "duration": 0.421436,
     "end_time": "2022-07-14T19:56:50.912791",
     "exception": false,
     "start_time": "2022-07-14T19:56:50.491355",
     "status": "completed"
    },
    "tags": []
   },
   "outputs": [],
   "source": [
    "def load_and_limit_train_data(P):\n",
    "    from common.io import datalake_root, read_numpy\n",
    "    from sklearn.model_selection import train_test_split\n",
    "\n",
    "    X_train_all = read_numpy(datalake_root(P) / \"train-data\" / \"digits.numpy\")\n",
    "    y_train_all = read_numpy(datalake_root(P) / \"train-data\" / \"labels.numpy\")\n",
    "\n",
    "    assert isinstance(P[\"task.nr_train_images\"], int)\n",
    "\n",
    "    # Note: train_test_split will fail if split is 0 or 100%.\n",
    "    assert 0 < P[\"task.nr_train_images\"] < len(y_train_all)\n",
    "\n",
    "    X_train, _, y_train, _ = train_test_split(\n",
    "        X_train_all,\n",
    "        y_train_all,\n",
    "        train_size=P[\"task.nr_train_images\"],\n",
    "        test_size=None,\n",
    "        stratify=y_train_all,\n",
    "        shuffle=True,\n",
    "        random_state=123,\n",
    "    )\n",
    "\n",
    "    assert X_train.shape == (len(y_train), 8 * 8)\n",
    "    return X_train, y_train\n",
    "\n",
    "\n",
    "X_train, y_train = load_and_limit_train_data(P)"
   ]
  },
  {
   "cell_type": "markdown",
   "id": "870e93f4",
   "metadata": {
    "papermill": {
     "duration": 0.003652,
     "end_time": "2022-07-14T19:56:50.921616",
     "exception": false,
     "start_time": "2022-07-14T19:56:50.917964",
     "status": "completed"
    },
    "tags": []
   },
   "source": [
    "## Train support vector classifier model\n",
    "\n",
    "Below we assume that the hyperparameter $C$ is known.\n",
    "\n",
    "However, this should ideally be found by a hyperparameter search. That could be\n",
    "done in parallel on the Ray cluster, but this needs some more work. Ie., to use\n",
    "multiple cores in the notebook, those cores should be reserved when starting the\n",
    "notebook task (TODO).\n",
    "\n",
    "- https://docs.ray.io/en/latest/tune/key-concepts.html\n",
    "\n",
    "Note: cv-scores would need to be computed here, since they depend on the train data.\n",
    "After this notebook only the onnx-model is available."
   ]
  },
  {
   "cell_type": "code",
   "execution_count": 7,
   "id": "4ddda82e",
   "metadata": {
    "execution": {
     "iopub.execute_input": "2022-07-14T19:56:50.929365Z",
     "iopub.status.busy": "2022-07-14T19:56:50.929088Z",
     "iopub.status.idle": "2022-07-14T19:56:50.950505Z",
     "shell.execute_reply": "2022-07-14T19:56:50.949947Z"
    },
    "papermill": {
     "duration": 0.027265,
     "end_time": "2022-07-14T19:56:50.952408",
     "exception": false,
     "start_time": "2022-07-14T19:56:50.925143",
     "status": "completed"
    },
    "tags": []
   },
   "outputs": [],
   "source": [
    "from sklearn.svm import SVC"
   ]
  },
  {
   "cell_type": "code",
   "execution_count": 8,
   "id": "9fc6d993",
   "metadata": {
    "execution": {
     "iopub.execute_input": "2022-07-14T19:56:50.960799Z",
     "iopub.status.busy": "2022-07-14T19:56:50.960363Z",
     "iopub.status.idle": "2022-07-14T19:56:51.116704Z",
     "shell.execute_reply": "2022-07-14T19:56:51.115893Z"
    },
    "papermill": {
     "duration": 0.162938,
     "end_time": "2022-07-14T19:56:51.118850",
     "exception": false,
     "start_time": "2022-07-14T19:56:50.955912",
     "status": "completed"
    },
    "tags": []
   },
   "outputs": [
    {
     "data": {
      "text/plain": [
       "SVC(C=10.0, kernel='linear', probability=True)"
      ]
     },
     "execution_count": 8,
     "metadata": {},
     "output_type": "execute_result"
    }
   ],
   "source": [
    "model = SVC(C=10.0, kernel=\"linear\", probability=True)\n",
    "\n",
    "model.fit(X_train, y_train)"
   ]
  },
  {
   "cell_type": "markdown",
   "id": "847e746b",
   "metadata": {
    "papermill": {
     "duration": 0.003835,
     "end_time": "2022-07-14T19:56:51.126202",
     "exception": false,
     "start_time": "2022-07-14T19:56:51.122367",
     "status": "completed"
    },
    "tags": []
   },
   "source": [
    "### Q: Can the labels returned by `predict(..)` be computed from probabilities returned by the `predict_prob`-method?"
   ]
  },
  {
   "cell_type": "code",
   "execution_count": 9,
   "id": "ff139717",
   "metadata": {
    "execution": {
     "iopub.execute_input": "2022-07-14T19:56:51.134024Z",
     "iopub.status.busy": "2022-07-14T19:56:51.133769Z",
     "iopub.status.idle": "2022-07-14T19:56:51.202656Z",
     "shell.execute_reply": "2022-07-14T19:56:51.202025Z"
    },
    "papermill": {
     "duration": 0.07479,
     "end_time": "2022-07-14T19:56:51.204302",
     "exception": false,
     "start_time": "2022-07-14T19:56:51.129512",
     "status": "completed"
    },
    "tags": []
   },
   "outputs": [
    {
     "name": "stdout",
     "output_type": "stream",
     "text": [
      " - Logging nr_max_prob_neq_label (int) : 0\n"
     ]
    }
   ],
   "source": [
    "import numpy as np\n",
    "\n",
    "y_train_labels = model.predict(X_train)\n",
    "y_train_probabilities = model.predict_proba(X_train)\n",
    "assert y_train_probabilities.shape == (len(y_train), 10)\n",
    "\n",
    "y_train_max_prob_labels = np.argmax(y_train_probabilities, axis=1)\n",
    "assert y_train_labels.shape == y_train_max_prob_labels.shape == y_train.shape\n",
    "\n",
    "# If the predicted labels would coincide with the labels that have\n",
    "# maximum probability, the below number would be zero\n",
    "logger.log_int(\n",
    "    \"nr_max_prob_neq_label\", int(sum(y_train_max_prob_labels != y_train_labels))\n",
    ")"
   ]
  },
  {
   "cell_type": "markdown",
   "id": "2133e74c",
   "metadata": {
    "papermill": {
     "duration": 0.003545,
     "end_time": "2022-07-14T19:56:51.211593",
     "exception": false,
     "start_time": "2022-07-14T19:56:51.208048",
     "status": "completed"
    },
    "tags": []
   },
   "source": [
    "The explanation is (likely) explained in the SVC source, see\n",
    "[here](https://github.com/scikit-learn/scikit-learn/blob/main/sklearn/svm/_base.py).\n",
    "Namely, the outputs from `predict(..)` and `predict_proba(..)` may not in some\n",
    "cases be compatible since the latter is computed using cross-validation while\n",
    "the former is not. Thus, the above number need not be zero."
   ]
  },
  {
   "cell_type": "markdown",
   "id": "e3ac55f7",
   "metadata": {
    "papermill": {
     "duration": 0.007787,
     "end_time": "2022-07-14T19:56:51.222536",
     "exception": false,
     "start_time": "2022-07-14T19:56:51.214749",
     "status": "completed"
    },
    "tags": []
   },
   "source": [
    "## Persist model"
   ]
  },
  {
   "cell_type": "code",
   "execution_count": 10,
   "id": "f578cb38",
   "metadata": {
    "execution": {
     "iopub.execute_input": "2022-07-14T19:56:51.230918Z",
     "iopub.status.busy": "2022-07-14T19:56:51.230659Z",
     "iopub.status.idle": "2022-07-14T19:56:51.956690Z",
     "shell.execute_reply": "2022-07-14T19:56:51.956128Z"
    },
    "papermill": {
     "duration": 0.732204,
     "end_time": "2022-07-14T19:56:51.958430",
     "exception": false,
     "start_time": "2022-07-14T19:56:51.226226",
     "status": "completed"
    },
    "tags": []
   },
   "outputs": [],
   "source": [
    "from skl2onnx import convert_sklearn\n",
    "from skl2onnx.common.data_types import FloatTensorType\n",
    "\n",
    "#\n",
    "from common.io import datalake_root, write_onnx"
   ]
  },
  {
   "cell_type": "code",
   "execution_count": 11,
   "id": "b6836443",
   "metadata": {
    "execution": {
     "iopub.execute_input": "2022-07-14T19:56:51.970590Z",
     "iopub.status.busy": "2022-07-14T19:56:51.970084Z",
     "iopub.status.idle": "2022-07-14T19:56:52.016380Z",
     "shell.execute_reply": "2022-07-14T19:56:52.015683Z"
    },
    "papermill": {
     "duration": 0.056161,
     "end_time": "2022-07-14T19:56:52.018146",
     "exception": false,
     "start_time": "2022-07-14T19:56:51.961985",
     "status": "completed"
    },
    "tags": []
   },
   "outputs": [],
   "source": [
    "# convert sklearn model into onnx and persist to data lake\n",
    "\n",
    "model_onnx = convert_sklearn(\n",
    "    model, initial_types=[(\"float_input_8x8_image\", FloatTensorType([None, 8 * 8]))]\n",
    ")\n",
    "write_onnx(\n",
    "    datalake_root(P)\n",
    "    / \"models\"\n",
    "    / f\"nr_train_images={P['task.nr_train_images']}\"\n",
    "    / \"model.onnx\",\n",
    "    model_onnx,\n",
    ")"
   ]
  },
  {
   "cell_type": "code",
   "execution_count": null,
   "id": "746c282b",
   "metadata": {
    "papermill": {
     "duration": 0.00392,
     "end_time": "2022-07-14T19:56:52.025838",
     "exception": false,
     "start_time": "2022-07-14T19:56:52.021918",
     "status": "completed"
    },
    "tags": []
   },
   "outputs": [],
   "source": []
  }
 ],
 "metadata": {
  "jupytext": {
   "cell_metadata_filter": "tags,-all",
   "main_language": "python",
   "notebook_metadata_filter": "-all"
  },
  "language_info": {
   "codemirror_mode": {
    "name": "ipython",
    "version": 3
   },
   "file_extension": ".py",
   "mimetype": "text/x-python",
   "name": "python",
   "nbconvert_exporter": "python",
   "pygments_lexer": "ipython3",
   "version": "3.8.10"
  },
  "papermill": {
   "default_parameters": {},
   "duration": 4.217442,
   "end_time": "2022-07-14T19:56:52.953430",
   "environment_variables": {},
   "exception": null,
   "input_path": "/home/host_user/workspace/mnist-demo-pipeline/mnist-demo-pipeline/notebooks/temp-notebook-cam75uk0.ipynb",
   "output_path": "notebooks/train-model.ipynb",
   "parameters": {
    "P": {
     "_opentelemetry_traceparent": "00-7fe56a2882a4c11ac86715a3e8709335-57e975490be6ab81-01",
     "pipeline.data_lake_root": "/pipeline-outputs/data-lake",
     "pipeline.github.actor": "matiasdahl",
     "pipeline.github.base_ref": "development",
     "pipeline.github.event_name": "pull_request",
     "pipeline.github.head_ref": "try-C-hyperparameter",
     "pipeline.github.job": "run-tests-pipeline-and-persist-pipeline-outputs",
     "pipeline.github.ref": "refs/pull/55/merge",
     "pipeline.github.ref_name": "55/merge",
     "pipeline.github.ref_type": "branch",
     "pipeline.github.repository": "pynb-dag-runner/mnist-digits-demo-pipeline",
     "pipeline.github.run_id": "2672052849",
     "pipeline.github.runner_name": "GitHub Actions 2",
     "pipeline.github.sha": "1150ca0bf632c46a3bc0535697829c0df0420613",
     "pipeline.github.workflow": "Run automated tests, pipeline and deploy results to static reporting site",
     "pipeline.pipeline_run_id": "dbdb850f-5389-4750-8eb5-e33e33c83848",
     "pipeline.run_environment": "ci",
     "run.retry_nr": "0",
     "task.max_nr_retries": "1",
     "task.notebook": "notebooks/train-model.py",
     "task.nr_train_images": 1000,
     "task.num_cpus": 1,
     "task.timeout_s": "None"
    }
   },
   "start_time": "2022-07-14T19:56:48.735988",
   "version": "2.3.3"
  }
 },
 "nbformat": 4,
 "nbformat_minor": 5
}