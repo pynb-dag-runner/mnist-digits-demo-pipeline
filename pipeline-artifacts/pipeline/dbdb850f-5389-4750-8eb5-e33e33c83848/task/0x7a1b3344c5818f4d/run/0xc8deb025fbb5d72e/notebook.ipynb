{
 "cells": [
  {
   "cell_type": "markdown",
   "id": "9928ec7d",
   "metadata": {
    "papermill": {
     "duration": 0.016852,
     "end_time": "2022-07-14T19:57:21.861843",
     "exception": false,
     "start_time": "2022-07-14T19:57:21.844991",
     "status": "completed"
    },
    "tags": []
   },
   "source": [
    "# Summarize model performances\n",
    "\n",
    "This notebooks plots the performances (using averaged ROC AUC scores) for models\n",
    "trained with different training sets."
   ]
  },
  {
   "cell_type": "markdown",
   "id": "c1f4b2fe",
   "metadata": {
    "papermill": {
     "duration": 0.003417,
     "end_time": "2022-07-14T19:57:21.868235",
     "exception": false,
     "start_time": "2022-07-14T19:57:21.864818",
     "status": "completed"
    },
    "tags": []
   },
   "source": [
    "### Determine run parameters"
   ]
  },
  {
   "cell_type": "code",
   "execution_count": 1,
   "id": "3517d809",
   "metadata": {
    "execution": {
     "iopub.execute_input": "2022-07-14T19:57:21.875122Z",
     "iopub.status.busy": "2022-07-14T19:57:21.874435Z",
     "iopub.status.idle": "2022-07-14T19:57:21.882559Z",
     "shell.execute_reply": "2022-07-14T19:57:21.881937Z"
    },
    "lines_to_next_cell": 0,
    "papermill": {
     "duration": 0.013296,
     "end_time": "2022-07-14T19:57:21.884012",
     "exception": false,
     "start_time": "2022-07-14T19:57:21.870716",
     "status": "completed"
    },
    "tags": []
   },
   "outputs": [],
   "source": [
    "# ----------------- Parameters for interactive development --------------\n",
    "P = {\n",
    "    \"pipeline.run_environment\": \"dev\",\n",
    "}"
   ]
  },
  {
   "cell_type": "code",
   "execution_count": 2,
   "id": "cb8cb02a",
   "metadata": {
    "execution": {
     "iopub.execute_input": "2022-07-14T19:57:21.890594Z",
     "iopub.status.busy": "2022-07-14T19:57:21.890176Z",
     "iopub.status.idle": "2022-07-14T19:57:21.893187Z",
     "shell.execute_reply": "2022-07-14T19:57:21.892592Z"
    },
    "lines_to_next_cell": 0,
    "papermill": {
     "duration": 0.007786,
     "end_time": "2022-07-14T19:57:21.894492",
     "exception": false,
     "start_time": "2022-07-14T19:57:21.886706",
     "status": "completed"
    },
    "tags": [
     "parameters"
    ]
   },
   "outputs": [],
   "source": [
    "# - During automated runs parameters will be injected in the below cell -"
   ]
  },
  {
   "cell_type": "code",
   "execution_count": 3,
   "id": "9328d340",
   "metadata": {
    "execution": {
     "iopub.execute_input": "2022-07-14T19:57:21.900625Z",
     "iopub.status.busy": "2022-07-14T19:57:21.900238Z",
     "iopub.status.idle": "2022-07-14T19:57:21.904462Z",
     "shell.execute_reply": "2022-07-14T19:57:21.903934Z"
    },
    "papermill": {
     "duration": 0.008904,
     "end_time": "2022-07-14T19:57:21.905782",
     "exception": false,
     "start_time": "2022-07-14T19:57:21.896878",
     "status": "completed"
    },
    "tags": [
     "injected-parameters"
    ]
   },
   "outputs": [],
   "source": [
    "# Parameters\n",
    "P = {\n",
    "    \"pipeline.data_lake_root\": \"/pipeline-outputs/data-lake\",\n",
    "    \"pipeline.run_environment\": \"ci\",\n",
    "    \"pipeline.pipeline_run_id\": \"dbdb850f-5389-4750-8eb5-e33e33c83848\",\n",
    "    \"pipeline.github.repository\": \"pynb-dag-runner/mnist-digits-demo-pipeline\",\n",
    "    \"pipeline.github.workflow\": \"Run automated tests, pipeline and deploy results to static reporting site\",\n",
    "    \"pipeline.github.runner_name\": \"GitHub Actions 2\",\n",
    "    \"pipeline.github.run_id\": \"2672052849\",\n",
    "    \"pipeline.github.actor\": \"matiasdahl\",\n",
    "    \"pipeline.github.job\": \"run-tests-pipeline-and-persist-pipeline-outputs\",\n",
    "    \"pipeline.github.base_ref\": \"development\",\n",
    "    \"pipeline.github.head_ref\": \"try-C-hyperparameter\",\n",
    "    \"pipeline.github.sha\": \"1150ca0bf632c46a3bc0535697829c0df0420613\",\n",
    "    \"pipeline.github.ref\": \"refs/pull/55/merge\",\n",
    "    \"pipeline.github.ref_type\": \"branch\",\n",
    "    \"pipeline.github.ref_name\": \"55/merge\",\n",
    "    \"pipeline.github.event_name\": \"pull_request\",\n",
    "    \"task.notebook\": \"notebooks/summary.py\",\n",
    "    \"task.max_nr_retries\": \"1\",\n",
    "    \"run.retry_nr\": \"0\",\n",
    "    \"task.timeout_s\": \"None\",\n",
    "    \"task.num_cpus\": 1,\n",
    "    \"_opentelemetry_traceparent\": \"00-7fe56a2882a4c11ac86715a3e8709335-c0233e8609633c4a-01\",\n",
    "}\n"
   ]
  },
  {
   "cell_type": "code",
   "execution_count": 4,
   "id": "7c1321db",
   "metadata": {
    "execution": {
     "iopub.execute_input": "2022-07-14T19:57:21.912070Z",
     "iopub.status.busy": "2022-07-14T19:57:21.911860Z",
     "iopub.status.idle": "2022-07-14T19:57:21.914408Z",
     "shell.execute_reply": "2022-07-14T19:57:21.913870Z"
    },
    "lines_to_next_cell": 0,
    "papermill": {
     "duration": 0.007225,
     "end_time": "2022-07-14T19:57:21.915798",
     "exception": false,
     "start_time": "2022-07-14T19:57:21.908573",
     "status": "completed"
    },
    "tags": []
   },
   "outputs": [],
   "source": [
    "# -----------------------------------------------------------------------"
   ]
  },
  {
   "cell_type": "markdown",
   "id": "e715701c",
   "metadata": {
    "papermill": {
     "duration": 0.002577,
     "end_time": "2022-07-14T19:57:21.922204",
     "exception": false,
     "start_time": "2022-07-14T19:57:21.919627",
     "status": "completed"
    },
    "tags": []
   },
   "source": [
    "---"
   ]
  },
  {
   "cell_type": "markdown",
   "id": "7bb772d6",
   "metadata": {
    "lines_to_next_cell": 2,
    "papermill": {
     "duration": 0.002428,
     "end_time": "2022-07-14T19:57:21.927274",
     "exception": false,
     "start_time": "2022-07-14T19:57:21.924846",
     "status": "completed"
    },
    "tags": []
   },
   "source": [
    "### Notebook code"
   ]
  },
  {
   "cell_type": "code",
   "execution_count": 5,
   "id": "b5948b5a",
   "metadata": {
    "execution": {
     "iopub.execute_input": "2022-07-14T19:57:21.933612Z",
     "iopub.status.busy": "2022-07-14T19:57:21.933198Z",
     "iopub.status.idle": "2022-07-14T19:57:22.991585Z",
     "shell.execute_reply": "2022-07-14T19:57:22.990940Z"
    },
    "papermill": {
     "duration": 1.063932,
     "end_time": "2022-07-14T19:57:22.993620",
     "exception": false,
     "start_time": "2022-07-14T19:57:21.929688",
     "status": "completed"
    },
    "tags": []
   },
   "outputs": [],
   "source": [
    "#\n",
    "import pandas as pd\n",
    "import matplotlib.pyplot as plt\n",
    "\n",
    "#\n",
    "from pynb_dag_runner.tasks.task_opentelemetry_logging import PydarLogger"
   ]
  },
  {
   "cell_type": "code",
   "execution_count": 6,
   "id": "9e6d05a3",
   "metadata": {
    "execution": {
     "iopub.execute_input": "2022-07-14T19:57:23.000856Z",
     "iopub.status.busy": "2022-07-14T19:57:23.000246Z",
     "iopub.status.idle": "2022-07-14T19:57:23.150534Z",
     "shell.execute_reply": "2022-07-14T19:57:23.149453Z"
    },
    "papermill": {
     "duration": 0.156923,
     "end_time": "2022-07-14T19:57:23.153551",
     "exception": false,
     "start_time": "2022-07-14T19:57:22.996628",
     "status": "completed"
    },
    "tags": []
   },
   "outputs": [
    {
     "name": "stderr",
     "output_type": "stream",
     "text": [
      "2022-07-14 19:57:23,004\tINFO worker.py:842 -- Connecting to existing Ray cluster at address: 172.17.0.2:6379\n"
     ]
    }
   ],
   "source": [
    "logger = PydarLogger(P=P)"
   ]
  },
  {
   "cell_type": "code",
   "execution_count": 7,
   "id": "1ddf397c",
   "metadata": {
    "execution": {
     "iopub.execute_input": "2022-07-14T19:57:23.160983Z",
     "iopub.status.busy": "2022-07-14T19:57:23.160727Z",
     "iopub.status.idle": "2022-07-14T19:57:23.164339Z",
     "shell.execute_reply": "2022-07-14T19:57:23.163704Z"
    },
    "papermill": {
     "duration": 0.008909,
     "end_time": "2022-07-14T19:57:23.165930",
     "exception": false,
     "start_time": "2022-07-14T19:57:23.157021",
     "status": "completed"
    },
    "tags": []
   },
   "outputs": [],
   "source": [
    "from pynb_dag_runner.tasks.task_opentelemetry_logging import (\n",
    "    PydarLogger,\n",
    "    get_logged_values,\n",
    ")\n",
    "from pynb_dag_runner.opentelemetry_helpers import _get_all_spans, Spans"
   ]
  },
  {
   "cell_type": "code",
   "execution_count": 8,
   "id": "4e951642",
   "metadata": {
    "execution": {
     "iopub.execute_input": "2022-07-14T19:57:23.172978Z",
     "iopub.status.busy": "2022-07-14T19:57:23.172745Z",
     "iopub.status.idle": "2022-07-14T19:57:23.179646Z",
     "shell.execute_reply": "2022-07-14T19:57:23.178633Z"
    },
    "papermill": {
     "duration": 0.012231,
     "end_time": "2022-07-14T19:57:23.181141",
     "exception": false,
     "start_time": "2022-07-14T19:57:23.168910",
     "status": "completed"
    },
    "tags": []
   },
   "outputs": [],
   "source": [
    "def get_model_benchmarks():\n",
    "    \"\"\"\n",
    "    Query the OpenTelemetry logs for *this pipeline run* and return\n",
    "    all key-values logged from all runs of the benchmark-model.py task\n",
    "\n",
    "    For testing a json file with OpenTelemetry spans (as an array)\n",
    "    can be used as follows:\n",
    "\n",
    "    - Create output directory `mkdir /tmp/spans`\n",
    "    - Run unit tests. This will create pipeline-outputs/opentelemetry-spans.json\n",
    "    - Convert this json-array into jsonl format as follows\n",
    "\n",
    "    jq -c '.[]' /pipeline-outputs/opentelemetry-spans.json > /tmp/spans/data.txt\n",
    "\n",
    "    \"\"\"\n",
    "    spans: Spans = Spans(_get_all_spans())\n",
    "    print(f\"Found {len(spans)} spans\")\n",
    "\n",
    "    benchmark_spans = (\n",
    "        spans\n",
    "        # -\n",
    "        .filter([\"name\"], \"execute-task\")\n",
    "        # -\n",
    "        .filter([\"attributes\", \"task.notebook\"], \"notebooks/benchmark-model.py\")\n",
    "    )\n",
    "\n",
    "    result = []\n",
    "    for s in benchmark_spans:\n",
    "        result.append(\n",
    "            {\n",
    "                \"span_id\": s[\"context\"][\"span_id\"],\n",
    "                \"nr_train_images\": s[\"attributes\"][\"task.nr_train_images\"],\n",
    "                \"data\": get_logged_values(spans.bound_under(s)),\n",
    "            }\n",
    "        )\n",
    "\n",
    "    return result\n",
    "\n",
    "\n",
    "def adjust_pandas(df):\n",
    "    def column_renamer(col_name: str) -> str:\n",
    "        return (\n",
    "            col_name\n",
    "            # -- 'data.roc_auc_per_digit.4' -> 'roc_auc.4'\n",
    "            .replace(\"data.roc_auc_per_digit\", \"roc_auc\")\n",
    "            # -- 'data.roc_auc_class_mean' -> 'roc_auc_mean'\n",
    "            .replace(\"data.roc_auc_class_mean\", \"roc_auc_mean\")\n",
    "        )\n",
    "\n",
    "    return df.rename(column_renamer, axis=\"columns\").sort_values(by=\"nr_train_images\")"
   ]
  },
  {
   "cell_type": "code",
   "execution_count": 9,
   "id": "a4abef27",
   "metadata": {
    "execution": {
     "iopub.execute_input": "2022-07-14T19:57:23.188692Z",
     "iopub.status.busy": "2022-07-14T19:57:23.188129Z",
     "iopub.status.idle": "2022-07-14T19:57:43.635582Z",
     "shell.execute_reply": "2022-07-14T19:57:43.634905Z"
    },
    "papermill": {
     "duration": 20.45315,
     "end_time": "2022-07-14T19:57:43.637577",
     "exception": false,
     "start_time": "2022-07-14T19:57:23.184427",
     "status": "completed"
    },
    "tags": []
   },
   "outputs": [
    {
     "name": "stdout",
     "output_type": "stream",
     "text": [
      "Found 423 spans\n"
     ]
    }
   ],
   "source": [
    "df_data = adjust_pandas(pd.json_normalize(get_model_benchmarks()))"
   ]
  },
  {
   "cell_type": "code",
   "execution_count": 10,
   "id": "a21cc85c",
   "metadata": {
    "execution": {
     "iopub.execute_input": "2022-07-14T19:57:43.646055Z",
     "iopub.status.busy": "2022-07-14T19:57:43.645805Z",
     "iopub.status.idle": "2022-07-14T19:57:43.670583Z",
     "shell.execute_reply": "2022-07-14T19:57:43.669984Z"
    },
    "papermill": {
     "duration": 0.030486,
     "end_time": "2022-07-14T19:57:43.672170",
     "exception": false,
     "start_time": "2022-07-14T19:57:43.641684",
     "status": "completed"
    },
    "tags": []
   },
   "outputs": [
    {
     "data": {
      "text/html": [
       "<div>\n",
       "<style scoped>\n",
       "    .dataframe tbody tr th:only-of-type {\n",
       "        vertical-align: middle;\n",
       "    }\n",
       "\n",
       "    .dataframe tbody tr th {\n",
       "        vertical-align: top;\n",
       "    }\n",
       "\n",
       "    .dataframe thead th {\n",
       "        text-align: right;\n",
       "    }\n",
       "</style>\n",
       "<table border=\"1\" class=\"dataframe\">\n",
       "  <thead>\n",
       "    <tr style=\"text-align: right;\">\n",
       "      <th></th>\n",
       "      <th>span_id</th>\n",
       "      <th>nr_train_images</th>\n",
       "      <th>roc_auc_mean</th>\n",
       "      <th>roc_auc.0</th>\n",
       "      <th>roc_auc.1</th>\n",
       "      <th>roc_auc.2</th>\n",
       "      <th>roc_auc.3</th>\n",
       "      <th>roc_auc.4</th>\n",
       "      <th>roc_auc.5</th>\n",
       "      <th>roc_auc.6</th>\n",
       "      <th>roc_auc.7</th>\n",
       "      <th>roc_auc.8</th>\n",
       "      <th>roc_auc.9</th>\n",
       "    </tr>\n",
       "  </thead>\n",
       "  <tbody>\n",
       "    <tr>\n",
       "      <th>2</th>\n",
       "      <td>0x34880e255cac081c</td>\n",
       "      <td>600</td>\n",
       "      <td>0.9989</td>\n",
       "      <td>1.0</td>\n",
       "      <td>0.9997</td>\n",
       "      <td>1.0</td>\n",
       "      <td>0.9997</td>\n",
       "      <td>1.0</td>\n",
       "      <td>0.9988</td>\n",
       "      <td>1.0000</td>\n",
       "      <td>0.9999</td>\n",
       "      <td>0.9922</td>\n",
       "      <td>0.9989</td>\n",
       "    </tr>\n",
       "    <tr>\n",
       "      <th>3</th>\n",
       "      <td>0xfb55059560c880f4</td>\n",
       "      <td>800</td>\n",
       "      <td>0.9987</td>\n",
       "      <td>1.0</td>\n",
       "      <td>0.9988</td>\n",
       "      <td>1.0</td>\n",
       "      <td>0.9998</td>\n",
       "      <td>1.0</td>\n",
       "      <td>0.9989</td>\n",
       "      <td>1.0000</td>\n",
       "      <td>0.9998</td>\n",
       "      <td>0.9909</td>\n",
       "      <td>0.9989</td>\n",
       "    </tr>\n",
       "    <tr>\n",
       "      <th>0</th>\n",
       "      <td>0xd29aecb8bad6eadd</td>\n",
       "      <td>1000</td>\n",
       "      <td>0.9985</td>\n",
       "      <td>1.0</td>\n",
       "      <td>0.9988</td>\n",
       "      <td>1.0</td>\n",
       "      <td>0.9997</td>\n",
       "      <td>1.0</td>\n",
       "      <td>0.9995</td>\n",
       "      <td>0.9999</td>\n",
       "      <td>0.9998</td>\n",
       "      <td>0.9877</td>\n",
       "      <td>0.9992</td>\n",
       "    </tr>\n",
       "    <tr>\n",
       "      <th>1</th>\n",
       "      <td>0x0d1f10fdf651bd99</td>\n",
       "      <td>1200</td>\n",
       "      <td>0.9990</td>\n",
       "      <td>1.0</td>\n",
       "      <td>0.9989</td>\n",
       "      <td>1.0</td>\n",
       "      <td>0.9998</td>\n",
       "      <td>1.0</td>\n",
       "      <td>0.9993</td>\n",
       "      <td>1.0000</td>\n",
       "      <td>0.9998</td>\n",
       "      <td>0.9935</td>\n",
       "      <td>0.9991</td>\n",
       "    </tr>\n",
       "  </tbody>\n",
       "</table>\n",
       "</div>"
      ],
      "text/plain": [
       "              span_id  nr_train_images  roc_auc_mean  roc_auc.0  roc_auc.1  \\\n",
       "2  0x34880e255cac081c              600        0.9989        1.0     0.9997   \n",
       "3  0xfb55059560c880f4              800        0.9987        1.0     0.9988   \n",
       "0  0xd29aecb8bad6eadd             1000        0.9985        1.0     0.9988   \n",
       "1  0x0d1f10fdf651bd99             1200        0.9990        1.0     0.9989   \n",
       "\n",
       "   roc_auc.2  roc_auc.3  roc_auc.4  roc_auc.5  roc_auc.6  roc_auc.7  \\\n",
       "2        1.0     0.9997        1.0     0.9988     1.0000     0.9999   \n",
       "3        1.0     0.9998        1.0     0.9989     1.0000     0.9998   \n",
       "0        1.0     0.9997        1.0     0.9995     0.9999     0.9998   \n",
       "1        1.0     0.9998        1.0     0.9993     1.0000     0.9998   \n",
       "\n",
       "   roc_auc.8  roc_auc.9  \n",
       "2     0.9922     0.9989  \n",
       "3     0.9909     0.9989  \n",
       "0     0.9877     0.9992  \n",
       "1     0.9935     0.9991  "
      ]
     },
     "execution_count": 10,
     "metadata": {},
     "output_type": "execute_result"
    }
   ],
   "source": [
    "df_data.round(4)"
   ]
  },
  {
   "cell_type": "code",
   "execution_count": 11,
   "id": "92caab7e",
   "metadata": {
    "execution": {
     "iopub.execute_input": "2022-07-14T19:57:43.679818Z",
     "iopub.status.busy": "2022-07-14T19:57:43.679570Z",
     "iopub.status.idle": "2022-07-14T19:57:43.821878Z",
     "shell.execute_reply": "2022-07-14T19:57:43.821253Z"
    },
    "papermill": {
     "duration": 0.147914,
     "end_time": "2022-07-14T19:57:43.823560",
     "exception": false,
     "start_time": "2022-07-14T19:57:43.675646",
     "status": "completed"
    },
    "tags": []
   },
   "outputs": [
    {
     "data": {
      "image/png": "[encoded data removed]",
      "text/plain": [
       "<Figure size 1152x288 with 1 Axes>"
      ]
     },
     "metadata": {
      "needs_background": "light"
     },
     "output_type": "display_data"
    }
   ],
   "source": [
    "def plot_classifier_performance_summary(df_data):\n",
    "    fig, ax = plt.subplots(nrows=1, ncols=1, figsize=(16, 4), sharex=True)\n",
    "\n",
    "    #\n",
    "    ax.plot(\n",
    "        df_data[\"nr_train_images\"], df_data[\"roc_auc_mean\"], marker=\"o\", linestyle=\"--\"\n",
    "    )\n",
    "    ax.set_title(\n",
    "        f\"ROC AUC digit classifier performance on evaluation digits\", fontsize=17\n",
    "    )\n",
    "    ax.set_xlabel(\"Total number of digits in training set\", fontsize=14)\n",
    "    ax.set_ylabel(\"Mean ROC AUC\", fontsize=14)\n",
    "\n",
    "    fig.tight_layout()\n",
    "    fig.show()\n",
    "\n",
    "    return fig\n",
    "\n",
    "\n",
    "fig = plot_classifier_performance_summary(df_data)"
   ]
  },
  {
   "cell_type": "code",
   "execution_count": 12,
   "id": "0610e435",
   "metadata": {
    "execution": {
     "iopub.execute_input": "2022-07-14T19:57:43.833643Z",
     "iopub.status.busy": "2022-07-14T19:57:43.832941Z",
     "iopub.status.idle": "2022-07-14T19:57:43.886202Z",
     "shell.execute_reply": "2022-07-14T19:57:43.885397Z"
    },
    "papermill": {
     "duration": 0.060038,
     "end_time": "2022-07-14T19:57:43.888343",
     "exception": false,
     "start_time": "2022-07-14T19:57:43.828305",
     "status": "completed"
    },
    "tags": []
   },
   "outputs": [],
   "source": [
    "logger.log_figure(\"auc-roc-model-performances.png\", fig)"
   ]
  },
  {
   "cell_type": "code",
   "execution_count": 13,
   "id": "a5706163",
   "metadata": {
    "execution": {
     "iopub.execute_input": "2022-07-14T19:57:43.897122Z",
     "iopub.status.busy": "2022-07-14T19:57:43.896865Z",
     "iopub.status.idle": "2022-07-14T19:57:43.902139Z",
     "shell.execute_reply": "2022-07-14T19:57:43.899431Z"
    },
    "papermill": {
     "duration": 0.01184,
     "end_time": "2022-07-14T19:57:43.903942",
     "exception": false,
     "start_time": "2022-07-14T19:57:43.892102",
     "status": "completed"
    },
    "tags": []
   },
   "outputs": [],
   "source": [
    "###"
   ]
  },
  {
   "cell_type": "code",
   "execution_count": null,
   "id": "2f3849ab",
   "metadata": {
    "papermill": {
     "duration": 0.003598,
     "end_time": "2022-07-14T19:57:43.911538",
     "exception": false,
     "start_time": "2022-07-14T19:57:43.907940",
     "status": "completed"
    },
    "tags": []
   },
   "outputs": [],
   "source": []
  }
 ],
 "metadata": {
  "jupytext": {
   "cell_metadata_filter": "tags,-all",
   "main_language": "python",
   "notebook_metadata_filter": "-all"
  },
  "language_info": {
   "codemirror_mode": {
    "name": "ipython",
    "version": 3
   },
   "file_extension": ".py",
   "mimetype": "text/x-python",
   "name": "python",
   "nbconvert_exporter": "python",
   "pygments_lexer": "ipython3",
   "version": "3.8.10"
  },
  "papermill": {
   "default_parameters": {},
   "duration": 24.130514,
   "end_time": "2022-07-14T19:57:44.832965",
   "environment_variables": {},
   "exception": null,
   "input_path": "/home/host_user/workspace/mnist-demo-pipeline/mnist-demo-pipeline/notebooks/temp-notebook-46_6v6vd.ipynb",
   "output_path": "notebooks/summary.ipynb",
   "parameters": {
    "P": {
     "_opentelemetry_traceparent": "00-7fe56a2882a4c11ac86715a3e8709335-c0233e8609633c4a-01",
     "pipeline.data_lake_root": "/pipeline-outputs/data-lake",
     "pipeline.github.actor": "matiasdahl",
     "pipeline.github.base_ref": "development",
     "pipeline.github.event_name": "pull_request",
     "pipeline.github.head_ref": "try-C-hyperparameter",
     "pipeline.github.job": "run-tests-pipeline-and-persist-pipeline-outputs",
     "pipeline.github.ref": "refs/pull/55/merge",
     "pipeline.github.ref_name": "55/merge",
     "pipeline.github.ref_type": "branch",
     "pipeline.github.repository": "pynb-dag-runner/mnist-digits-demo-pipeline",
     "pipeline.github.run_id": "2672052849",
     "pipeline.github.runner_name": "GitHub Actions 2",
     "pipeline.github.sha": "1150ca0bf632c46a3bc0535697829c0df0420613",
     "pipeline.github.workflow": "Run automated tests, pipeline and deploy results to static reporting site",
     "pipeline.pipeline_run_id": "dbdb850f-5389-4750-8eb5-e33e33c83848",
     "pipeline.run_environment": "ci",
     "run.retry_nr": "0",
     "task.max_nr_retries": "1",
     "task.notebook": "notebooks/summary.py",
     "task.num_cpus": 1,
     "task.timeout_s": "None"
    }
   },
   "start_time": "2022-07-14T19:57:20.702451",
   "version": "2.3.3"
  }
 },
 "nbformat": 4,
 "nbformat_minor": 5
}