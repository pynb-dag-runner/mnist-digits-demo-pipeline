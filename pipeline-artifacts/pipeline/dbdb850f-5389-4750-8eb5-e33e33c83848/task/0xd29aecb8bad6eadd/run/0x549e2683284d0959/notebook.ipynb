{
 "cells": [
  {
   "cell_type": "markdown",
   "id": "faaf7d91",
   "metadata": {
    "papermill": {
     "duration": 0.005697,
     "end_time": "2022-07-14T19:57:01.361389",
     "exception": false,
     "start_time": "2022-07-14T19:57:01.355692",
     "status": "completed"
    },
    "tags": []
   },
   "source": [
    "# Benchmark model\n",
    "\n",
    "The purpose of this notebook is to benchmark persisted onnx-model (trained in the\n",
    "previous step) against evaluation set."
   ]
  },
  {
   "cell_type": "markdown",
   "id": "ce9508e9",
   "metadata": {
    "papermill": {
     "duration": 0.004093,
     "end_time": "2022-07-14T19:57:01.370012",
     "exception": false,
     "start_time": "2022-07-14T19:57:01.365919",
     "status": "completed"
    },
    "tags": []
   },
   "source": [
    "### Determine run parameters"
   ]
  },
  {
   "cell_type": "code",
   "execution_count": 1,
   "id": "9ec7009f",
   "metadata": {
    "execution": {
     "iopub.execute_input": "2022-07-14T19:57:01.379145Z",
     "iopub.status.busy": "2022-07-14T19:57:01.378823Z",
     "iopub.status.idle": "2022-07-14T19:57:01.386907Z",
     "shell.execute_reply": "2022-07-14T19:57:01.386408Z"
    },
    "lines_to_next_cell": 0,
    "papermill": {
     "duration": 0.0151,
     "end_time": "2022-07-14T19:57:01.388929",
     "exception": false,
     "start_time": "2022-07-14T19:57:01.373829",
     "status": "completed"
    },
    "tags": []
   },
   "outputs": [],
   "source": [
    "# ----------------- Parameters for interactive development --------------\n",
    "P = {\n",
    "    \"pipeline.data_lake_root\": \"/pipeline-outputs/data-lake\",\n",
    "    \"task.nr_train_images\": 600,\n",
    "}"
   ]
  },
  {
   "cell_type": "code",
   "execution_count": 2,
   "id": "f80b3ac3",
   "metadata": {
    "execution": {
     "iopub.execute_input": "2022-07-14T19:57:01.399624Z",
     "iopub.status.busy": "2022-07-14T19:57:01.399406Z",
     "iopub.status.idle": "2022-07-14T19:57:01.402413Z",
     "shell.execute_reply": "2022-07-14T19:57:01.401902Z"
    },
    "lines_to_next_cell": 0,
    "papermill": {
     "duration": 0.011474,
     "end_time": "2022-07-14T19:57:01.405197",
     "exception": false,
     "start_time": "2022-07-14T19:57:01.393723",
     "status": "completed"
    },
    "tags": [
     "parameters"
    ]
   },
   "outputs": [],
   "source": [
    "# - During automated runs parameters will be injected in the below cell -"
   ]
  },
  {
   "cell_type": "code",
   "execution_count": 3,
   "id": "55aa16eb",
   "metadata": {
    "execution": {
     "iopub.execute_input": "2022-07-14T19:57:01.414048Z",
     "iopub.status.busy": "2022-07-14T19:57:01.413837Z",
     "iopub.status.idle": "2022-07-14T19:57:01.418201Z",
     "shell.execute_reply": "2022-07-14T19:57:01.417688Z"
    },
    "papermill": {
     "duration": 0.011381,
     "end_time": "2022-07-14T19:57:01.420559",
     "exception": false,
     "start_time": "2022-07-14T19:57:01.409178",
     "status": "completed"
    },
    "tags": [
     "injected-parameters"
    ]
   },
   "outputs": [],
   "source": [
    "# Parameters\n",
    "P = {\n",
    "    \"pipeline.data_lake_root\": \"/pipeline-outputs/data-lake\",\n",
    "    \"pipeline.run_environment\": \"ci\",\n",
    "    \"pipeline.pipeline_run_id\": \"dbdb850f-5389-4750-8eb5-e33e33c83848\",\n",
    "    \"pipeline.github.repository\": \"pynb-dag-runner/mnist-digits-demo-pipeline\",\n",
    "    \"pipeline.github.workflow\": \"Run automated tests, pipeline and deploy results to static reporting site\",\n",
    "    \"pipeline.github.runner_name\": \"GitHub Actions 2\",\n",
    "    \"pipeline.github.run_id\": \"2672052849\",\n",
    "    \"pipeline.github.actor\": \"matiasdahl\",\n",
    "    \"pipeline.github.job\": \"run-tests-pipeline-and-persist-pipeline-outputs\",\n",
    "    \"pipeline.github.base_ref\": \"development\",\n",
    "    \"pipeline.github.head_ref\": \"try-C-hyperparameter\",\n",
    "    \"pipeline.github.sha\": \"1150ca0bf632c46a3bc0535697829c0df0420613\",\n",
    "    \"pipeline.github.ref\": \"refs/pull/55/merge\",\n",
    "    \"pipeline.github.ref_type\": \"branch\",\n",
    "    \"pipeline.github.ref_name\": \"55/merge\",\n",
    "    \"pipeline.github.event_name\": \"pull_request\",\n",
    "    \"task.nr_train_images\": 1000,\n",
    "    \"task.notebook\": \"notebooks/benchmark-model.py\",\n",
    "    \"task.max_nr_retries\": \"1\",\n",
    "    \"run.retry_nr\": \"0\",\n",
    "    \"task.timeout_s\": \"None\",\n",
    "    \"task.num_cpus\": 1,\n",
    "    \"_opentelemetry_traceparent\": \"00-7fe56a2882a4c11ac86715a3e8709335-0bf33b7d1800ba45-01\",\n",
    "}\n"
   ]
  },
  {
   "cell_type": "code",
   "execution_count": 4,
   "id": "b1cfafc1",
   "metadata": {
    "execution": {
     "iopub.execute_input": "2022-07-14T19:57:01.431248Z",
     "iopub.status.busy": "2022-07-14T19:57:01.431028Z",
     "iopub.status.idle": "2022-07-14T19:57:01.433819Z",
     "shell.execute_reply": "2022-07-14T19:57:01.433297Z"
    },
    "lines_to_next_cell": 0,
    "papermill": {
     "duration": 0.011933,
     "end_time": "2022-07-14T19:57:01.436366",
     "exception": false,
     "start_time": "2022-07-14T19:57:01.424433",
     "status": "completed"
    },
    "tags": []
   },
   "outputs": [],
   "source": [
    "# -----------------------------------------------------------------------"
   ]
  },
  {
   "cell_type": "markdown",
   "id": "45ffc273",
   "metadata": {
    "papermill": {
     "duration": 0.004115,
     "end_time": "2022-07-14T19:57:01.444494",
     "exception": false,
     "start_time": "2022-07-14T19:57:01.440379",
     "status": "completed"
    },
    "tags": []
   },
   "source": [
    "---"
   ]
  },
  {
   "cell_type": "markdown",
   "id": "6b3f9d9b",
   "metadata": {
    "lines_to_next_cell": 2,
    "papermill": {
     "duration": 0.00393,
     "end_time": "2022-07-14T19:57:01.452543",
     "exception": false,
     "start_time": "2022-07-14T19:57:01.448613",
     "status": "completed"
    },
    "tags": []
   },
   "source": [
    "### Notebook code"
   ]
  },
  {
   "cell_type": "code",
   "execution_count": 5,
   "id": "5f481938",
   "metadata": {
    "execution": {
     "iopub.execute_input": "2022-07-14T19:57:01.462497Z",
     "iopub.status.busy": "2022-07-14T19:57:01.462229Z",
     "iopub.status.idle": "2022-07-14T19:57:02.559230Z",
     "shell.execute_reply": "2022-07-14T19:57:02.558304Z"
    },
    "papermill": {
     "duration": 1.104137,
     "end_time": "2022-07-14T19:57:02.561405",
     "exception": false,
     "start_time": "2022-07-14T19:57:01.457268",
     "status": "completed"
    },
    "tags": []
   },
   "outputs": [
    {
     "name": "stderr",
     "output_type": "stream",
     "text": [
      "2022-07-14 19:57:02,384\tINFO worker.py:842 -- Connecting to existing Ray cluster at address: 172.17.0.2:6379\n"
     ]
    }
   ],
   "source": [
    "import itertools as it\n",
    "\n",
    "#\n",
    "import numpy as np\n",
    "import matplotlib.pyplot as plt\n",
    "\n",
    "#\n",
    "from pynb_dag_runner.tasks.task_opentelemetry_logging import PydarLogger\n",
    "\n",
    "#\n",
    "from common.io import datalake_root\n",
    "\n",
    "logger = PydarLogger(P)"
   ]
  },
  {
   "cell_type": "markdown",
   "id": "d32b4d5a",
   "metadata": {
    "papermill": {
     "duration": 0.004254,
     "end_time": "2022-07-14T19:57:02.575078",
     "exception": false,
     "start_time": "2022-07-14T19:57:02.570824",
     "status": "completed"
    },
    "tags": []
   },
   "source": [
    "## Load persisted onnx-model and evaluation data"
   ]
  },
  {
   "cell_type": "code",
   "execution_count": 6,
   "id": "a4f89404",
   "metadata": {
    "execution": {
     "iopub.execute_input": "2022-07-14T19:57:02.585299Z",
     "iopub.status.busy": "2022-07-14T19:57:02.584749Z",
     "iopub.status.idle": "2022-07-14T19:57:02.588313Z",
     "shell.execute_reply": "2022-07-14T19:57:02.587656Z"
    },
    "papermill": {
     "duration": 0.011042,
     "end_time": "2022-07-14T19:57:02.590054",
     "exception": false,
     "start_time": "2022-07-14T19:57:02.579012",
     "status": "completed"
    },
    "tags": []
   },
   "outputs": [],
   "source": [
    "from common.io import read_onnx, get_onnx_inputs, get_onnx_outputs, read_numpy"
   ]
  },
  {
   "cell_type": "code",
   "execution_count": 7,
   "id": "6670091d",
   "metadata": {
    "execution": {
     "iopub.execute_input": "2022-07-14T19:57:02.600434Z",
     "iopub.status.busy": "2022-07-14T19:57:02.599813Z",
     "iopub.status.idle": "2022-07-14T19:57:02.609664Z",
     "shell.execute_reply": "2022-07-14T19:57:02.608900Z"
    },
    "lines_to_next_cell": 0,
    "papermill": {
     "duration": 0.016391,
     "end_time": "2022-07-14T19:57:02.611146",
     "exception": false,
     "start_time": "2022-07-14T19:57:02.594755",
     "status": "completed"
    },
    "tags": []
   },
   "outputs": [],
   "source": [
    "onnx_inference_session = read_onnx(\n",
    "    datalake_root(P)\n",
    "    / \"models\"\n",
    "    / f\"nr_train_images={P['task.nr_train_images']}\"\n",
    "    / \"model.onnx\"\n",
    ")"
   ]
  },
  {
   "cell_type": "markdown",
   "id": "70a6e66c",
   "metadata": {
    "papermill": {
     "duration": 0.004106,
     "end_time": "2022-07-14T19:57:02.621822",
     "exception": false,
     "start_time": "2022-07-14T19:57:02.617716",
     "status": "completed"
    },
    "tags": []
   },
   "source": [
    "### Record structure of inputs and outputs for ONNX model\n",
    "\n",
    "(this should likely be done in training notebook)"
   ]
  },
  {
   "cell_type": "code",
   "execution_count": 8,
   "id": "e90bad02",
   "metadata": {
    "execution": {
     "iopub.execute_input": "2022-07-14T19:57:02.632301Z",
     "iopub.status.busy": "2022-07-14T19:57:02.631975Z",
     "iopub.status.idle": "2022-07-14T19:57:02.637726Z",
     "shell.execute_reply": "2022-07-14T19:57:02.637204Z"
    },
    "papermill": {
     "duration": 0.013942,
     "end_time": "2022-07-14T19:57:02.640570",
     "exception": false,
     "start_time": "2022-07-14T19:57:02.626628",
     "status": "completed"
    },
    "tags": []
   },
   "outputs": [
    {
     "name": "stdout",
     "output_type": "stream",
     "text": [
      "{\n",
      "  \"inputs\": [\n",
      "    {\n",
      "      \"name\": \"float_input_8x8_image\",\n",
      "      \"shape\": [\n",
      "        null,\n",
      "        64\n",
      "      ],\n",
      "      \"type\": \"tensor(float)\"\n",
      "    }\n",
      "  ],\n",
      "  \"outputs\": [\n",
      "    {\n",
      "      \"name\": \"output_label\",\n",
      "      \"shape\": [\n",
      "        null\n",
      "      ],\n",
      "      \"type\": \"tensor(int64)\"\n",
      "    },\n",
      "    {\n",
      "      \"name\": \"output_probability\",\n",
      "      \"shape\": [],\n",
      "      \"type\": \"seq(map(int64,tensor(float)))\"\n",
      "    }\n",
      "  ]\n",
      "}\n"
     ]
    }
   ],
   "source": [
    "import json\n",
    "\n",
    "onnx_io = json.dumps(\n",
    "    {\n",
    "        \"inputs\": get_onnx_inputs(onnx_inference_session),\n",
    "        \"outputs\": get_onnx_outputs(onnx_inference_session),\n",
    "    },\n",
    "    indent=2,\n",
    ")\n",
    "\n",
    "\n",
    "logger.log_artefact(\"onnx_io_structure.json\", onnx_io)\n",
    "print(onnx_io)"
   ]
  },
  {
   "cell_type": "markdown",
   "id": "6304c76e",
   "metadata": {
    "papermill": {
     "duration": 0.004463,
     "end_time": "2022-07-14T19:57:02.650042",
     "exception": false,
     "start_time": "2022-07-14T19:57:02.645579",
     "status": "completed"
    },
    "tags": []
   },
   "source": [
    "### Evaluate model performance on evaluation data set"
   ]
  },
  {
   "cell_type": "code",
   "execution_count": 9,
   "id": "02e1b8d4",
   "metadata": {
    "execution": {
     "iopub.execute_input": "2022-07-14T19:57:02.660536Z",
     "iopub.status.busy": "2022-07-14T19:57:02.659827Z",
     "iopub.status.idle": "2022-07-14T19:57:02.664602Z",
     "shell.execute_reply": "2022-07-14T19:57:02.663903Z"
    },
    "papermill": {
     "duration": 0.013036,
     "end_time": "2022-07-14T19:57:02.667131",
     "exception": false,
     "start_time": "2022-07-14T19:57:02.654095",
     "status": "completed"
    },
    "tags": []
   },
   "outputs": [],
   "source": [
    "# load evaluation data\n",
    "X_test = read_numpy(datalake_root(P) / \"test-data\" / \"digits.numpy\")\n",
    "y_test = read_numpy(datalake_root(P) / \"test-data\" / \"labels.numpy\")"
   ]
  },
  {
   "cell_type": "code",
   "execution_count": 10,
   "id": "9c0d7440",
   "metadata": {
    "execution": {
     "iopub.execute_input": "2022-07-14T19:57:02.677370Z",
     "iopub.status.busy": "2022-07-14T19:57:02.677117Z",
     "iopub.status.idle": "2022-07-14T19:57:02.690097Z",
     "shell.execute_reply": "2022-07-14T19:57:02.689436Z"
    },
    "papermill": {
     "duration": 0.019766,
     "end_time": "2022-07-14T19:57:02.691485",
     "exception": false,
     "start_time": "2022-07-14T19:57:02.671719",
     "status": "completed"
    },
    "tags": []
   },
   "outputs": [],
   "source": [
    "def get_model_outputs(X, onnx_inference_session):\n",
    "    y_pred_labels, y_pred_map = onnx_inference_session.run(\n",
    "        [\"output_label\", \"output_probability\"],\n",
    "        {\"float_input_8x8_image\": X.astype(np.float32)},\n",
    "    )\n",
    "    y_pred_probs = np.array(\n",
    "        [[probabilities[digit] for digit in range(10)] for probabilities in y_pred_map]\n",
    "    )\n",
    "\n",
    "    assert y_pred_labels.shape == (X.shape[0],)\n",
    "    assert y_pred_probs.shape == (X.shape[0], 10)\n",
    "\n",
    "    return y_pred_labels, y_pred_probs\n",
    "\n",
    "\n",
    "# Note: as shown in the training notebook, the predicted labels and probabilities\n",
    "# computed below need not be compatible.\n",
    "y_pred_labels_test, y_pred_probs_test = get_model_outputs(\n",
    "    X_test, onnx_inference_session\n",
    ")"
   ]
  },
  {
   "cell_type": "markdown",
   "id": "f5ee6bca",
   "metadata": {
    "papermill": {
     "duration": 0.005055,
     "end_time": "2022-07-14T19:57:02.701562",
     "exception": false,
     "start_time": "2022-07-14T19:57:02.696507",
     "status": "completed"
    },
    "tags": []
   },
   "source": [
    "### Confusion matrix"
   ]
  },
  {
   "cell_type": "code",
   "execution_count": 11,
   "id": "79998feb",
   "metadata": {
    "execution": {
     "iopub.execute_input": "2022-07-14T19:57:02.712461Z",
     "iopub.status.busy": "2022-07-14T19:57:02.712140Z",
     "iopub.status.idle": "2022-07-14T19:57:02.715285Z",
     "shell.execute_reply": "2022-07-14T19:57:02.714582Z"
    },
    "papermill": {
     "duration": 0.010208,
     "end_time": "2022-07-14T19:57:02.717132",
     "exception": false,
     "start_time": "2022-07-14T19:57:02.706924",
     "status": "completed"
    },
    "tags": []
   },
   "outputs": [],
   "source": [
    "# TODO"
   ]
  },
  {
   "cell_type": "markdown",
   "id": "8d4c3a51",
   "metadata": {
    "papermill": {
     "duration": 0.005108,
     "end_time": "2022-07-14T19:57:02.726591",
     "exception": false,
     "start_time": "2022-07-14T19:57:02.721483",
     "status": "completed"
    },
    "tags": []
   },
   "source": [
    "### Plot predicted probabilities for each classifier over all evaluation digit images"
   ]
  },
  {
   "cell_type": "code",
   "execution_count": 12,
   "id": "e952a47c",
   "metadata": {
    "execution": {
     "iopub.execute_input": "2022-07-14T19:57:02.736949Z",
     "iopub.status.busy": "2022-07-14T19:57:02.736612Z",
     "iopub.status.idle": "2022-07-14T19:57:05.661148Z",
     "shell.execute_reply": "2022-07-14T19:57:05.660577Z"
    },
    "papermill": {
     "duration": 2.932179,
     "end_time": "2022-07-14T19:57:05.662968",
     "exception": false,
     "start_time": "2022-07-14T19:57:02.730789",
     "status": "completed"
    },
    "tags": []
   },
   "outputs": [
    {
     "data": {
      "image/png": "[encoded data removed]",
      "text/plain": [
       "<Figure size 1152x432 with 10 Axes>"
      ]
     },
     "metadata": {
      "needs_background": "light"
     },
     "output_type": "display_data"
    }
   ],
   "source": [
    "def plot_per_digit_probabilities(y_pred_probs):\n",
    "    fig, axs = plt.subplots(nrows=2, ncols=5, figsize=(16, 6))\n",
    "\n",
    "    for (r, c), digit, ax in zip(\n",
    "        it.product(range(2), range(5)), range(10), axs.reshape(-1)\n",
    "    ):\n",
    "        ax.hist(y_pred_probs_test[:, digit], bins=20)\n",
    "\n",
    "        ax.set_title(f\"Digit {digit}\")\n",
    "        if r == 1 and c == 2:\n",
    "            ax.set_xlabel(\"probability\", fontsize=16)\n",
    "\n",
    "        if c == 0:\n",
    "            ax.set_ylabel(\"counts\", fontsize=16)\n",
    "        ax.set_yscale(\"log\")\n",
    "\n",
    "    fig.tight_layout()\n",
    "    fig.suptitle(\n",
    "        f\"Distributions of prediction probabilities for each digit \"\n",
    "        f\"(on evaluation data, n={y_pred_probs.shape[0]})\",\n",
    "        fontsize=20,\n",
    "    )\n",
    "    fig.tight_layout()\n",
    "    fig.show()\n",
    "\n",
    "    return fig\n",
    "\n",
    "\n",
    "fig = plot_per_digit_probabilities(y_pred_probs_test)"
   ]
  },
  {
   "cell_type": "markdown",
   "id": "65424090",
   "metadata": {
    "papermill": {
     "duration": 0.005136,
     "end_time": "2022-07-14T19:57:05.674495",
     "exception": false,
     "start_time": "2022-07-14T19:57:05.669359",
     "status": "completed"
    },
    "tags": []
   },
   "source": [
    "From the above distributions we see that most digits have clear separation between\n",
    "high and lower probabilities. Morover, in each case there is roughly an order of\n",
    "magnitude more of digits with low probabilities. This is compatible with digits\n",
    "being roughly evenly distributed in the data."
   ]
  },
  {
   "cell_type": "code",
   "execution_count": 13,
   "id": "73138058",
   "metadata": {
    "execution": {
     "iopub.execute_input": "2022-07-14T19:57:05.687455Z",
     "iopub.status.busy": "2022-07-14T19:57:05.686495Z",
     "iopub.status.idle": "2022-07-14T19:57:06.137425Z",
     "shell.execute_reply": "2022-07-14T19:57:06.136827Z"
    },
    "papermill": {
     "duration": 0.459805,
     "end_time": "2022-07-14T19:57:06.139495",
     "exception": false,
     "start_time": "2022-07-14T19:57:05.679690",
     "status": "completed"
    },
    "tags": []
   },
   "outputs": [],
   "source": [
    "logger.log_figure(\"per-digit-probabilities.png\", fig)"
   ]
  },
  {
   "cell_type": "markdown",
   "id": "bbc7f5e7",
   "metadata": {
    "papermill": {
     "duration": 0.005097,
     "end_time": "2022-07-14T19:57:06.150680",
     "exception": false,
     "start_time": "2022-07-14T19:57:06.145583",
     "status": "completed"
    },
    "tags": []
   },
   "source": [
    "### Plot ROC curves for individual one-vs-rest classifiers"
   ]
  },
  {
   "cell_type": "code",
   "execution_count": 14,
   "id": "cc379192",
   "metadata": {
    "execution": {
     "iopub.execute_input": "2022-07-14T19:57:06.163044Z",
     "iopub.status.busy": "2022-07-14T19:57:06.162773Z",
     "iopub.status.idle": "2022-07-14T19:57:06.910625Z",
     "shell.execute_reply": "2022-07-14T19:57:06.909729Z"
    },
    "papermill": {
     "duration": 0.7557,
     "end_time": "2022-07-14T19:57:06.912506",
     "exception": false,
     "start_time": "2022-07-14T19:57:06.156806",
     "status": "completed"
    },
    "tags": []
   },
   "outputs": [],
   "source": [
    "from sklearn import metrics"
   ]
  },
  {
   "cell_type": "code",
   "execution_count": 15,
   "id": "5a09ee08",
   "metadata": {
    "execution": {
     "iopub.execute_input": "2022-07-14T19:57:06.924145Z",
     "iopub.status.busy": "2022-07-14T19:57:06.923666Z",
     "iopub.status.idle": "2022-07-14T19:57:07.965779Z",
     "shell.execute_reply": "2022-07-14T19:57:07.964303Z"
    },
    "papermill": {
     "duration": 1.049767,
     "end_time": "2022-07-14T19:57:07.967406",
     "exception": false,
     "start_time": "2022-07-14T19:57:06.917639",
     "status": "completed"
    },
    "tags": []
   },
   "outputs": [
    {
     "data": {
      "image/png": "[encoded data removed]",
      "text/plain": [
       "<Figure size 1152x576 with 10 Axes>"
      ]
     },
     "metadata": {
      "needs_background": "light"
     },
     "output_type": "display_data"
    }
   ],
   "source": [
    "def plot_roc_curves(y, y_pred_probs):\n",
    "    # based on example code\n",
    "    # https://scikit-learn.org/stable/auto_examples/model_selection/plot_roc.html\n",
    "\n",
    "    fig, axs = plt.subplots(nrows=2, ncols=5, figsize=(16, 8))\n",
    "\n",
    "    roc_auc_dict = {}\n",
    "\n",
    "    for (r, c), digit, ax in zip(\n",
    "        it.product(range(2), range(5)), range(10), axs.reshape(-1)\n",
    "    ):\n",
    "        fpr, tpr, _ = metrics.roc_curve(y == digit, y_pred_probs[:, digit])\n",
    "        auc = metrics.auc(fpr, tpr)\n",
    "        roc_auc_dict[str(digit)] = auc\n",
    "\n",
    "        ax.plot(fpr, tpr, label=f\"ROC AUC={round(auc, 3)}\")\n",
    "\n",
    "        ax.set_title(f\"\\nDigit {digit}\", fontsize=16)\n",
    "        if r == 1:\n",
    "            ax.set_xlabel(\"FPR\", fontsize=18)\n",
    "\n",
    "        if c == 0:\n",
    "            ax.set_ylabel(\"TPR\", fontsize=18)\n",
    "\n",
    "        ax.set_xlim([-0.05, 1.05])\n",
    "        ax.set_ylim([-0.05, 1.05])\n",
    "        ax.legend(loc=\"lower right\", frameon=False, fontsize=14)\n",
    "\n",
    "    fig.tight_layout()\n",
    "    fig.suptitle(\n",
    "        f\"ROC plots for one-vs-rest performances \"\n",
    "        f\"(on evaluation data, n={y_pred_probs_test.shape[1]}\",\n",
    "        fontsize=22,\n",
    "    )\n",
    "    fig.tight_layout()\n",
    "    fig.show()\n",
    "\n",
    "    return roc_auc_dict, fig\n",
    "\n",
    "\n",
    "roc_auc_dict, fig = plot_roc_curves(y_test, y_pred_probs_test)"
   ]
  },
  {
   "cell_type": "code",
   "execution_count": 16,
   "id": "88f70b15",
   "metadata": {
    "execution": {
     "iopub.execute_input": "2022-07-14T19:57:07.980405Z",
     "iopub.status.busy": "2022-07-14T19:57:07.980155Z",
     "iopub.status.idle": "2022-07-14T19:57:08.200221Z",
     "shell.execute_reply": "2022-07-14T19:57:08.199420Z"
    },
    "papermill": {
     "duration": 0.229015,
     "end_time": "2022-07-14T19:57:08.202325",
     "exception": false,
     "start_time": "2022-07-14T19:57:07.973310",
     "status": "completed"
    },
    "tags": []
   },
   "outputs": [],
   "source": [
    "logger.log_figure(\"per-digit-roc-curves.png\", fig)"
   ]
  },
  {
   "cell_type": "code",
   "execution_count": 17,
   "id": "085ec128",
   "metadata": {
    "execution": {
     "iopub.execute_input": "2022-07-14T19:57:08.215670Z",
     "iopub.status.busy": "2022-07-14T19:57:08.215332Z",
     "iopub.status.idle": "2022-07-14T19:57:08.220329Z",
     "shell.execute_reply": "2022-07-14T19:57:08.219727Z"
    },
    "papermill": {
     "duration": 0.014264,
     "end_time": "2022-07-14T19:57:08.222765",
     "exception": false,
     "start_time": "2022-07-14T19:57:08.208501",
     "status": "completed"
    },
    "tags": []
   },
   "outputs": [
    {
     "data": {
      "text/plain": [
       "{'0': 1.0,\n",
       " '1': 0.9987628865979382,\n",
       " '2': 1.0,\n",
       " '3': 0.9997000937207123,\n",
       " '4': 1.0,\n",
       " '5': 0.9995126522961574,\n",
       " '6': 0.999923792104862,\n",
       " '7': 0.9998094802621552,\n",
       " '8': 0.9877443253467844,\n",
       " '9': 0.9991998171010518}"
      ]
     },
     "execution_count": 17,
     "metadata": {},
     "output_type": "execute_result"
    }
   ],
   "source": [
    "roc_auc_dict"
   ]
  },
  {
   "cell_type": "code",
   "execution_count": 18,
   "id": "c18da276",
   "metadata": {
    "execution": {
     "iopub.execute_input": "2022-07-14T19:57:08.236057Z",
     "iopub.status.busy": "2022-07-14T19:57:08.235797Z",
     "iopub.status.idle": "2022-07-14T19:57:08.241599Z",
     "shell.execute_reply": "2022-07-14T19:57:08.239917Z"
    },
    "papermill": {
     "duration": 0.014514,
     "end_time": "2022-07-14T19:57:08.243381",
     "exception": false,
     "start_time": "2022-07-14T19:57:08.228867",
     "status": "completed"
    },
    "tags": []
   },
   "outputs": [
    {
     "name": "stdout",
     "output_type": "stream",
     "text": [
      " - Logging roc_auc_per_digit (json) : {'0': 1.0, '1': 0.9987628865979382, '2': 1.0, '3': 0.9997000937207123, '4': 1.0, '5': 0.9995126522961574, '6': 0.999923792104862, '7': 0.9998094802621552, '8': 0.9877443253467844, '9': 0.9991998171010518}\n"
     ]
    }
   ],
   "source": [
    "logger.log_value(\"roc_auc_per_digit\", roc_auc_dict)"
   ]
  },
  {
   "cell_type": "markdown",
   "id": "019117a8",
   "metadata": {
    "papermill": {
     "duration": 0.005918,
     "end_time": "2022-07-14T19:57:08.256410",
     "exception": false,
     "start_time": "2022-07-14T19:57:08.250492",
     "status": "completed"
    },
    "tags": []
   },
   "source": [
    "### Compute and log mean ROC AUC score averaged over all digits"
   ]
  },
  {
   "cell_type": "code",
   "execution_count": 19,
   "id": "7ebd13d3",
   "metadata": {
    "execution": {
     "iopub.execute_input": "2022-07-14T19:57:08.269828Z",
     "iopub.status.busy": "2022-07-14T19:57:08.269564Z",
     "iopub.status.idle": "2022-07-14T19:57:08.283543Z",
     "shell.execute_reply": "2022-07-14T19:57:08.282576Z"
    },
    "papermill": {
     "duration": 0.022657,
     "end_time": "2022-07-14T19:57:08.285340",
     "exception": false,
     "start_time": "2022-07-14T19:57:08.262683",
     "status": "completed"
    },
    "tags": []
   },
   "outputs": [
    {
     "name": "stdout",
     "output_type": "stream",
     "text": [
      " - Logging roc_auc_class_mean (float) : 0.9984653047429661\n"
     ]
    }
   ],
   "source": [
    "roc_auc_macro = np.mean(list(roc_auc_dict.values()))\n",
    "\n",
    "logger.log_float(\"roc_auc_class_mean\", roc_auc_macro)\n",
    "\n",
    "# assert that the same value can be computed directly using sklearn\n",
    "assert roc_auc_macro == metrics.roc_auc_score(\n",
    "    y_test, y_pred_probs_test, average=\"macro\", multi_class=\"ovr\"\n",
    ")"
   ]
  },
  {
   "cell_type": "code",
   "execution_count": 20,
   "id": "cbde7d5f",
   "metadata": {
    "execution": {
     "iopub.execute_input": "2022-07-14T19:57:08.299262Z",
     "iopub.status.busy": "2022-07-14T19:57:08.298729Z",
     "iopub.status.idle": "2022-07-14T19:57:08.302184Z",
     "shell.execute_reply": "2022-07-14T19:57:08.301495Z"
    },
    "lines_to_next_cell": 0,
    "papermill": {
     "duration": 0.012494,
     "end_time": "2022-07-14T19:57:08.304071",
     "exception": false,
     "start_time": "2022-07-14T19:57:08.291577",
     "status": "completed"
    },
    "tags": []
   },
   "outputs": [],
   "source": [
    "# ---"
   ]
  },
  {
   "cell_type": "code",
   "execution_count": null,
   "id": "953a4877",
   "metadata": {
    "papermill": {
     "duration": 0.005999,
     "end_time": "2022-07-14T19:57:08.316395",
     "exception": false,
     "start_time": "2022-07-14T19:57:08.310396",
     "status": "completed"
    },
    "tags": []
   },
   "outputs": [],
   "source": []
  }
 ],
 "metadata": {
  "jupytext": {
   "cell_metadata_filter": "tags,-all",
   "main_language": "python",
   "notebook_metadata_filter": "-all"
  },
  "language_info": {
   "codemirror_mode": {
    "name": "ipython",
    "version": 3
   },
   "file_extension": ".py",
   "mimetype": "text/x-python",
   "name": "python",
   "nbconvert_exporter": "python",
   "pygments_lexer": "ipython3",
   "version": "3.8.10"
  },
  "papermill": {
   "default_parameters": {},
   "duration": 9.193457,
   "end_time": "2022-07-14T19:57:09.342115",
   "environment_variables": {},
   "exception": null,
   "input_path": "/home/host_user/workspace/mnist-demo-pipeline/mnist-demo-pipeline/notebooks/temp-notebook-3pqokvtf.ipynb",
   "output_path": "notebooks/benchmark-model.ipynb",
   "parameters": {
    "P": {
     "_opentelemetry_traceparent": "00-7fe56a2882a4c11ac86715a3e8709335-0bf33b7d1800ba45-01",
     "pipeline.data_lake_root": "/pipeline-outputs/data-lake",
     "pipeline.github.actor": "matiasdahl",
     "pipeline.github.base_ref": "development",
     "pipeline.github.event_name": "pull_request",
     "pipeline.github.head_ref": "try-C-hyperparameter",
     "pipeline.github.job": "run-tests-pipeline-and-persist-pipeline-outputs",
     "pipeline.github.ref": "refs/pull/55/merge",
     "pipeline.github.ref_name": "55/merge",
     "pipeline.github.ref_type": "branch",
     "pipeline.github.repository": "pynb-dag-runner/mnist-digits-demo-pipeline",
     "pipeline.github.run_id": "2672052849",
     "pipeline.github.runner_name": "GitHub Actions 2",
     "pipeline.github.sha": "1150ca0bf632c46a3bc0535697829c0df0420613",
     "pipeline.github.workflow": "Run automated tests, pipeline and deploy results to static reporting site",
     "pipeline.pipeline_run_id": "dbdb850f-5389-4750-8eb5-e33e33c83848",
     "pipeline.run_environment": "ci",
     "run.retry_nr": "0",
     "task.max_nr_retries": "1",
     "task.notebook": "notebooks/benchmark-model.py",
     "task.nr_train_images": 1000,
     "task.num_cpus": 1,
     "task.timeout_s": "None"
    }
   },
   "start_time": "2022-07-14T19:57:00.148658",
   "version": "2.3.3"
  }
 },
 "nbformat": 4,
 "nbformat_minor": 5
}