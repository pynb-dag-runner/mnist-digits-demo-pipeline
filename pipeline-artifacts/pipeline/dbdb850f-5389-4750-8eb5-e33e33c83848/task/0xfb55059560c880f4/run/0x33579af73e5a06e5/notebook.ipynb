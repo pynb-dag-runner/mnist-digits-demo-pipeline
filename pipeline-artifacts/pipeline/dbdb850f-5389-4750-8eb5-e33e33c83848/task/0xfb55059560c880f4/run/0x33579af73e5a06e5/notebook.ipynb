{
 "cells": [
  {
   "cell_type": "markdown",
   "id": "157ab43a",
   "metadata": {
    "papermill": {
     "duration": 0.006104,
     "end_time": "2022-07-14T19:57:12.044736",
     "exception": false,
     "start_time": "2022-07-14T19:57:12.038632",
     "status": "completed"
    },
    "tags": []
   },
   "source": [
    "# Benchmark model\n",
    "\n",
    "The purpose of this notebook is to benchmark persisted onnx-model (trained in the\n",
    "previous step) against evaluation set."
   ]
  },
  {
   "cell_type": "markdown",
   "id": "04cf263e",
   "metadata": {
    "papermill": {
     "duration": 0.004845,
     "end_time": "2022-07-14T19:57:12.054239",
     "exception": false,
     "start_time": "2022-07-14T19:57:12.049394",
     "status": "completed"
    },
    "tags": []
   },
   "source": [
    "### Determine run parameters"
   ]
  },
  {
   "cell_type": "code",
   "execution_count": 1,
   "id": "eab2d639",
   "metadata": {
    "execution": {
     "iopub.execute_input": "2022-07-14T19:57:12.064907Z",
     "iopub.status.busy": "2022-07-14T19:57:12.064610Z",
     "iopub.status.idle": "2022-07-14T19:57:12.072706Z",
     "shell.execute_reply": "2022-07-14T19:57:12.071470Z"
    },
    "lines_to_next_cell": 0,
    "papermill": {
     "duration": 0.016748,
     "end_time": "2022-07-14T19:57:12.075376",
     "exception": false,
     "start_time": "2022-07-14T19:57:12.058628",
     "status": "completed"
    },
    "tags": []
   },
   "outputs": [],
   "source": [
    "# ----------------- Parameters for interactive development --------------\n",
    "P = {\n",
    "    \"pipeline.data_lake_root\": \"/pipeline-outputs/data-lake\",\n",
    "    \"task.nr_train_images\": 600,\n",
    "}"
   ]
  },
  {
   "cell_type": "code",
   "execution_count": 2,
   "id": "5be0f132",
   "metadata": {
    "execution": {
     "iopub.execute_input": "2022-07-14T19:57:12.085754Z",
     "iopub.status.busy": "2022-07-14T19:57:12.085516Z",
     "iopub.status.idle": "2022-07-14T19:57:12.088435Z",
     "shell.execute_reply": "2022-07-14T19:57:12.087888Z"
    },
    "lines_to_next_cell": 0,
    "papermill": {
     "duration": 0.01112,
     "end_time": "2022-07-14T19:57:12.091012",
     "exception": false,
     "start_time": "2022-07-14T19:57:12.079892",
     "status": "completed"
    },
    "tags": [
     "parameters"
    ]
   },
   "outputs": [],
   "source": [
    "# - During automated runs parameters will be injected in the below cell -"
   ]
  },
  {
   "cell_type": "code",
   "execution_count": 3,
   "id": "ec45b6e1",
   "metadata": {
    "execution": {
     "iopub.execute_input": "2022-07-14T19:57:12.100987Z",
     "iopub.status.busy": "2022-07-14T19:57:12.100775Z",
     "iopub.status.idle": "2022-07-14T19:57:12.105778Z",
     "shell.execute_reply": "2022-07-14T19:57:12.105295Z"
    },
    "papermill": {
     "duration": 0.012264,
     "end_time": "2022-07-14T19:57:12.107978",
     "exception": false,
     "start_time": "2022-07-14T19:57:12.095714",
     "status": "completed"
    },
    "tags": [
     "injected-parameters"
    ]
   },
   "outputs": [],
   "source": [
    "# Parameters\n",
    "P = {\n",
    "    \"pipeline.data_lake_root\": \"/pipeline-outputs/data-lake\",\n",
    "    \"pipeline.run_environment\": \"ci\",\n",
    "    \"pipeline.pipeline_run_id\": \"dbdb850f-5389-4750-8eb5-e33e33c83848\",\n",
    "    \"pipeline.github.repository\": \"pynb-dag-runner/mnist-digits-demo-pipeline\",\n",
    "    \"pipeline.github.workflow\": \"Run automated tests, pipeline and deploy results to static reporting site\",\n",
    "    \"pipeline.github.runner_name\": \"GitHub Actions 2\",\n",
    "    \"pipeline.github.run_id\": \"2672052849\",\n",
    "    \"pipeline.github.actor\": \"matiasdahl\",\n",
    "    \"pipeline.github.job\": \"run-tests-pipeline-and-persist-pipeline-outputs\",\n",
    "    \"pipeline.github.base_ref\": \"development\",\n",
    "    \"pipeline.github.head_ref\": \"try-C-hyperparameter\",\n",
    "    \"pipeline.github.sha\": \"1150ca0bf632c46a3bc0535697829c0df0420613\",\n",
    "    \"pipeline.github.ref\": \"refs/pull/55/merge\",\n",
    "    \"pipeline.github.ref_type\": \"branch\",\n",
    "    \"pipeline.github.ref_name\": \"55/merge\",\n",
    "    \"pipeline.github.event_name\": \"pull_request\",\n",
    "    \"task.nr_train_images\": 800,\n",
    "    \"task.notebook\": \"notebooks/benchmark-model.py\",\n",
    "    \"task.max_nr_retries\": \"1\",\n",
    "    \"run.retry_nr\": \"0\",\n",
    "    \"task.timeout_s\": \"None\",\n",
    "    \"task.num_cpus\": 1,\n",
    "    \"_opentelemetry_traceparent\": \"00-7fe56a2882a4c11ac86715a3e8709335-a4d292968659691c-01\",\n",
    "}\n"
   ]
  },
  {
   "cell_type": "code",
   "execution_count": 4,
   "id": "e6a9165a",
   "metadata": {
    "execution": {
     "iopub.execute_input": "2022-07-14T19:57:12.118287Z",
     "iopub.status.busy": "2022-07-14T19:57:12.118071Z",
     "iopub.status.idle": "2022-07-14T19:57:12.120667Z",
     "shell.execute_reply": "2022-07-14T19:57:12.120171Z"
    },
    "lines_to_next_cell": 0,
    "papermill": {
     "duration": 0.012041,
     "end_time": "2022-07-14T19:57:12.124226",
     "exception": false,
     "start_time": "2022-07-14T19:57:12.112185",
     "status": "completed"
    },
    "tags": []
   },
   "outputs": [],
   "source": [
    "# -----------------------------------------------------------------------"
   ]
  },
  {
   "cell_type": "markdown",
   "id": "a2eeb89c",
   "metadata": {
    "papermill": {
     "duration": 0.009598,
     "end_time": "2022-07-14T19:57:12.137635",
     "exception": false,
     "start_time": "2022-07-14T19:57:12.128037",
     "status": "completed"
    },
    "tags": []
   },
   "source": [
    "---"
   ]
  },
  {
   "cell_type": "markdown",
   "id": "5f5c7892",
   "metadata": {
    "lines_to_next_cell": 2,
    "papermill": {
     "duration": 0.006102,
     "end_time": "2022-07-14T19:57:12.147617",
     "exception": false,
     "start_time": "2022-07-14T19:57:12.141515",
     "status": "completed"
    },
    "tags": []
   },
   "source": [
    "### Notebook code"
   ]
  },
  {
   "cell_type": "code",
   "execution_count": 5,
   "id": "edc7d266",
   "metadata": {
    "execution": {
     "iopub.execute_input": "2022-07-14T19:57:12.157651Z",
     "iopub.status.busy": "2022-07-14T19:57:12.157391Z",
     "iopub.status.idle": "2022-07-14T19:57:13.288626Z",
     "shell.execute_reply": "2022-07-14T19:57:13.287892Z"
    },
    "papermill": {
     "duration": 1.13852,
     "end_time": "2022-07-14T19:57:13.290232",
     "exception": false,
     "start_time": "2022-07-14T19:57:12.151712",
     "status": "completed"
    },
    "tags": []
   },
   "outputs": [
    {
     "name": "stderr",
     "output_type": "stream",
     "text": [
      "2022-07-14 19:57:13,120\tINFO worker.py:842 -- Connecting to existing Ray cluster at address: 172.17.0.2:6379\n"
     ]
    }
   ],
   "source": [
    "import itertools as it\n",
    "\n",
    "#\n",
    "import numpy as np\n",
    "import matplotlib.pyplot as plt\n",
    "\n",
    "#\n",
    "from pynb_dag_runner.tasks.task_opentelemetry_logging import PydarLogger\n",
    "\n",
    "#\n",
    "from common.io import datalake_root\n",
    "\n",
    "logger = PydarLogger(P)"
   ]
  },
  {
   "cell_type": "markdown",
   "id": "adbb71eb",
   "metadata": {
    "papermill": {
     "duration": 0.009151,
     "end_time": "2022-07-14T19:57:13.303633",
     "exception": false,
     "start_time": "2022-07-14T19:57:13.294482",
     "status": "completed"
    },
    "tags": []
   },
   "source": [
    "## Load persisted onnx-model and evaluation data"
   ]
  },
  {
   "cell_type": "code",
   "execution_count": 6,
   "id": "3d5d63d0",
   "metadata": {
    "execution": {
     "iopub.execute_input": "2022-07-14T19:57:13.323244Z",
     "iopub.status.busy": "2022-07-14T19:57:13.322448Z",
     "iopub.status.idle": "2022-07-14T19:57:13.326041Z",
     "shell.execute_reply": "2022-07-14T19:57:13.325439Z"
    },
    "papermill": {
     "duration": 0.011051,
     "end_time": "2022-07-14T19:57:13.327714",
     "exception": false,
     "start_time": "2022-07-14T19:57:13.316663",
     "status": "completed"
    },
    "tags": []
   },
   "outputs": [],
   "source": [
    "from common.io import read_onnx, get_onnx_inputs, get_onnx_outputs, read_numpy"
   ]
  },
  {
   "cell_type": "code",
   "execution_count": 7,
   "id": "e0efe6bb",
   "metadata": {
    "execution": {
     "iopub.execute_input": "2022-07-14T19:57:13.337331Z",
     "iopub.status.busy": "2022-07-14T19:57:13.337083Z",
     "iopub.status.idle": "2022-07-14T19:57:13.346848Z",
     "shell.execute_reply": "2022-07-14T19:57:13.346361Z"
    },
    "lines_to_next_cell": 0,
    "papermill": {
     "duration": 0.016297,
     "end_time": "2022-07-14T19:57:13.348557",
     "exception": false,
     "start_time": "2022-07-14T19:57:13.332260",
     "status": "completed"
    },
    "tags": []
   },
   "outputs": [],
   "source": [
    "onnx_inference_session = read_onnx(\n",
    "    datalake_root(P)\n",
    "    / \"models\"\n",
    "    / f\"nr_train_images={P['task.nr_train_images']}\"\n",
    "    / \"model.onnx\"\n",
    ")"
   ]
  },
  {
   "cell_type": "markdown",
   "id": "d5c030ca",
   "metadata": {
    "papermill": {
     "duration": 0.004291,
     "end_time": "2022-07-14T19:57:13.357212",
     "exception": false,
     "start_time": "2022-07-14T19:57:13.352921",
     "status": "completed"
    },
    "tags": []
   },
   "source": [
    "### Record structure of inputs and outputs for ONNX model\n",
    "\n",
    "(this should likely be done in training notebook)"
   ]
  },
  {
   "cell_type": "code",
   "execution_count": 8,
   "id": "26f30b81",
   "metadata": {
    "execution": {
     "iopub.execute_input": "2022-07-14T19:57:13.367237Z",
     "iopub.status.busy": "2022-07-14T19:57:13.366977Z",
     "iopub.status.idle": "2022-07-14T19:57:13.372417Z",
     "shell.execute_reply": "2022-07-14T19:57:13.371907Z"
    },
    "papermill": {
     "duration": 0.014606,
     "end_time": "2022-07-14T19:57:13.376463",
     "exception": false,
     "start_time": "2022-07-14T19:57:13.361857",
     "status": "completed"
    },
    "tags": []
   },
   "outputs": [
    {
     "name": "stdout",
     "output_type": "stream",
     "text": [
      "{\n",
      "  \"inputs\": [\n",
      "    {\n",
      "      \"name\": \"float_input_8x8_image\",\n",
      "      \"shape\": [\n",
      "        null,\n",
      "        64\n",
      "      ],\n",
      "      \"type\": \"tensor(float)\"\n",
      "    }\n",
      "  ],\n",
      "  \"outputs\": [\n",
      "    {\n",
      "      \"name\": \"output_label\",\n",
      "      \"shape\": [\n",
      "        null\n",
      "      ],\n",
      "      \"type\": \"tensor(int64)\"\n",
      "    },\n",
      "    {\n",
      "      \"name\": \"output_probability\",\n",
      "      \"shape\": [],\n",
      "      \"type\": \"seq(map(int64,tensor(float)))\"\n",
      "    }\n",
      "  ]\n",
      "}\n"
     ]
    }
   ],
   "source": [
    "import json\n",
    "\n",
    "onnx_io = json.dumps(\n",
    "    {\n",
    "        \"inputs\": get_onnx_inputs(onnx_inference_session),\n",
    "        \"outputs\": get_onnx_outputs(onnx_inference_session),\n",
    "    },\n",
    "    indent=2,\n",
    ")\n",
    "\n",
    "\n",
    "logger.log_artefact(\"onnx_io_structure.json\", onnx_io)\n",
    "print(onnx_io)"
   ]
  },
  {
   "cell_type": "markdown",
   "id": "7cc1e493",
   "metadata": {
    "papermill": {
     "duration": 0.004448,
     "end_time": "2022-07-14T19:57:13.385068",
     "exception": false,
     "start_time": "2022-07-14T19:57:13.380620",
     "status": "completed"
    },
    "tags": []
   },
   "source": [
    "### Evaluate model performance on evaluation data set"
   ]
  },
  {
   "cell_type": "code",
   "execution_count": 9,
   "id": "8cafd5d0",
   "metadata": {
    "execution": {
     "iopub.execute_input": "2022-07-14T19:57:13.394796Z",
     "iopub.status.busy": "2022-07-14T19:57:13.394538Z",
     "iopub.status.idle": "2022-07-14T19:57:13.399299Z",
     "shell.execute_reply": "2022-07-14T19:57:13.398454Z"
    },
    "papermill": {
     "duration": 0.012549,
     "end_time": "2022-07-14T19:57:13.401792",
     "exception": false,
     "start_time": "2022-07-14T19:57:13.389243",
     "status": "completed"
    },
    "tags": []
   },
   "outputs": [],
   "source": [
    "# load evaluation data\n",
    "X_test = read_numpy(datalake_root(P) / \"test-data\" / \"digits.numpy\")\n",
    "y_test = read_numpy(datalake_root(P) / \"test-data\" / \"labels.numpy\")"
   ]
  },
  {
   "cell_type": "code",
   "execution_count": 10,
   "id": "2713b5d8",
   "metadata": {
    "execution": {
     "iopub.execute_input": "2022-07-14T19:57:13.411880Z",
     "iopub.status.busy": "2022-07-14T19:57:13.411634Z",
     "iopub.status.idle": "2022-07-14T19:57:13.424365Z",
     "shell.execute_reply": "2022-07-14T19:57:13.423835Z"
    },
    "papermill": {
     "duration": 0.019681,
     "end_time": "2022-07-14T19:57:13.425931",
     "exception": false,
     "start_time": "2022-07-14T19:57:13.406250",
     "status": "completed"
    },
    "tags": []
   },
   "outputs": [],
   "source": [
    "def get_model_outputs(X, onnx_inference_session):\n",
    "    y_pred_labels, y_pred_map = onnx_inference_session.run(\n",
    "        [\"output_label\", \"output_probability\"],\n",
    "        {\"float_input_8x8_image\": X.astype(np.float32)},\n",
    "    )\n",
    "    y_pred_probs = np.array(\n",
    "        [[probabilities[digit] for digit in range(10)] for probabilities in y_pred_map]\n",
    "    )\n",
    "\n",
    "    assert y_pred_labels.shape == (X.shape[0],)\n",
    "    assert y_pred_probs.shape == (X.shape[0], 10)\n",
    "\n",
    "    return y_pred_labels, y_pred_probs\n",
    "\n",
    "\n",
    "# Note: as shown in the training notebook, the predicted labels and probabilities\n",
    "# computed below need not be compatible.\n",
    "y_pred_labels_test, y_pred_probs_test = get_model_outputs(\n",
    "    X_test, onnx_inference_session\n",
    ")"
   ]
  },
  {
   "cell_type": "markdown",
   "id": "d4611a81",
   "metadata": {
    "papermill": {
     "duration": 0.004495,
     "end_time": "2022-07-14T19:57:13.435358",
     "exception": false,
     "start_time": "2022-07-14T19:57:13.430863",
     "status": "completed"
    },
    "tags": []
   },
   "source": [
    "### Confusion matrix"
   ]
  },
  {
   "cell_type": "code",
   "execution_count": 11,
   "id": "dfeeef61",
   "metadata": {
    "execution": {
     "iopub.execute_input": "2022-07-14T19:57:13.445110Z",
     "iopub.status.busy": "2022-07-14T19:57:13.444863Z",
     "iopub.status.idle": "2022-07-14T19:57:13.447790Z",
     "shell.execute_reply": "2022-07-14T19:57:13.447152Z"
    },
    "papermill": {
     "duration": 0.010622,
     "end_time": "2022-07-14T19:57:13.450171",
     "exception": false,
     "start_time": "2022-07-14T19:57:13.439549",
     "status": "completed"
    },
    "tags": []
   },
   "outputs": [],
   "source": [
    "# TODO"
   ]
  },
  {
   "cell_type": "markdown",
   "id": "f64a385a",
   "metadata": {
    "papermill": {
     "duration": 0.004426,
     "end_time": "2022-07-14T19:57:13.459452",
     "exception": false,
     "start_time": "2022-07-14T19:57:13.455026",
     "status": "completed"
    },
    "tags": []
   },
   "source": [
    "### Plot predicted probabilities for each classifier over all evaluation digit images"
   ]
  },
  {
   "cell_type": "code",
   "execution_count": 12,
   "id": "10ec8f5f",
   "metadata": {
    "execution": {
     "iopub.execute_input": "2022-07-14T19:57:13.469914Z",
     "iopub.status.busy": "2022-07-14T19:57:13.469651Z",
     "iopub.status.idle": "2022-07-14T19:57:16.448885Z",
     "shell.execute_reply": "2022-07-14T19:57:16.447613Z"
    },
    "papermill": {
     "duration": 2.986616,
     "end_time": "2022-07-14T19:57:16.450988",
     "exception": false,
     "start_time": "2022-07-14T19:57:13.464372",
     "status": "completed"
    },
    "tags": []
   },
   "outputs": [
    {
     "data": {
      "image/png": "[encoded data removed]",
      "text/plain": [
       "<Figure size 1152x432 with 10 Axes>"
      ]
     },
     "metadata": {
      "needs_background": "light"
     },
     "output_type": "display_data"
    }
   ],
   "source": [
    "def plot_per_digit_probabilities(y_pred_probs):\n",
    "    fig, axs = plt.subplots(nrows=2, ncols=5, figsize=(16, 6))\n",
    "\n",
    "    for (r, c), digit, ax in zip(\n",
    "        it.product(range(2), range(5)), range(10), axs.reshape(-1)\n",
    "    ):\n",
    "        ax.hist(y_pred_probs_test[:, digit], bins=20)\n",
    "\n",
    "        ax.set_title(f\"Digit {digit}\")\n",
    "        if r == 1 and c == 2:\n",
    "            ax.set_xlabel(\"probability\", fontsize=16)\n",
    "\n",
    "        if c == 0:\n",
    "            ax.set_ylabel(\"counts\", fontsize=16)\n",
    "        ax.set_yscale(\"log\")\n",
    "\n",
    "    fig.tight_layout()\n",
    "    fig.suptitle(\n",
    "        f\"Distributions of prediction probabilities for each digit \"\n",
    "        f\"(on evaluation data, n={y_pred_probs.shape[0]})\",\n",
    "        fontsize=20,\n",
    "    )\n",
    "    fig.tight_layout()\n",
    "    fig.show()\n",
    "\n",
    "    return fig\n",
    "\n",
    "\n",
    "fig = plot_per_digit_probabilities(y_pred_probs_test)"
   ]
  },
  {
   "cell_type": "markdown",
   "id": "864116a3",
   "metadata": {
    "papermill": {
     "duration": 0.006108,
     "end_time": "2022-07-14T19:57:16.463040",
     "exception": false,
     "start_time": "2022-07-14T19:57:16.456932",
     "status": "completed"
    },
    "tags": []
   },
   "source": [
    "From the above distributions we see that most digits have clear separation between\n",
    "high and lower probabilities. Morover, in each case there is roughly an order of\n",
    "magnitude more of digits with low probabilities. This is compatible with digits\n",
    "being roughly evenly distributed in the data."
   ]
  },
  {
   "cell_type": "code",
   "execution_count": 13,
   "id": "7454e150",
   "metadata": {
    "execution": {
     "iopub.execute_input": "2022-07-14T19:57:16.475529Z",
     "iopub.status.busy": "2022-07-14T19:57:16.475258Z",
     "iopub.status.idle": "2022-07-14T19:57:16.899401Z",
     "shell.execute_reply": "2022-07-14T19:57:16.898710Z"
    },
    "papermill": {
     "duration": 0.432855,
     "end_time": "2022-07-14T19:57:16.901280",
     "exception": false,
     "start_time": "2022-07-14T19:57:16.468425",
     "status": "completed"
    },
    "tags": []
   },
   "outputs": [],
   "source": [
    "logger.log_figure(\"per-digit-probabilities.png\", fig)"
   ]
  },
  {
   "cell_type": "markdown",
   "id": "9eb50db4",
   "metadata": {
    "papermill": {
     "duration": 0.005048,
     "end_time": "2022-07-14T19:57:16.911076",
     "exception": false,
     "start_time": "2022-07-14T19:57:16.906028",
     "status": "completed"
    },
    "tags": []
   },
   "source": [
    "### Plot ROC curves for individual one-vs-rest classifiers"
   ]
  },
  {
   "cell_type": "code",
   "execution_count": 14,
   "id": "f569c15d",
   "metadata": {
    "execution": {
     "iopub.execute_input": "2022-07-14T19:57:16.922413Z",
     "iopub.status.busy": "2022-07-14T19:57:16.921978Z",
     "iopub.status.idle": "2022-07-14T19:57:17.267663Z",
     "shell.execute_reply": "2022-07-14T19:57:17.266997Z"
    },
    "papermill": {
     "duration": 0.353481,
     "end_time": "2022-07-14T19:57:17.269350",
     "exception": false,
     "start_time": "2022-07-14T19:57:16.915869",
     "status": "completed"
    },
    "tags": []
   },
   "outputs": [],
   "source": [
    "from sklearn import metrics"
   ]
  },
  {
   "cell_type": "code",
   "execution_count": 15,
   "id": "1dacd2b7",
   "metadata": {
    "execution": {
     "iopub.execute_input": "2022-07-14T19:57:17.281633Z",
     "iopub.status.busy": "2022-07-14T19:57:17.281381Z",
     "iopub.status.idle": "2022-07-14T19:57:18.237730Z",
     "shell.execute_reply": "2022-07-14T19:57:18.237069Z"
    },
    "papermill": {
     "duration": 0.964396,
     "end_time": "2022-07-14T19:57:18.239224",
     "exception": false,
     "start_time": "2022-07-14T19:57:17.274828",
     "status": "completed"
    },
    "tags": []
   },
   "outputs": [
    {
     "data": {
      "image/png": "[encoded data removed]",
      "text/plain": [
       "<Figure size 1152x576 with 10 Axes>"
      ]
     },
     "metadata": {
      "needs_background": "light"
     },
     "output_type": "display_data"
    }
   ],
   "source": [
    "def plot_roc_curves(y, y_pred_probs):\n",
    "    # based on example code\n",
    "    # https://scikit-learn.org/stable/auto_examples/model_selection/plot_roc.html\n",
    "\n",
    "    fig, axs = plt.subplots(nrows=2, ncols=5, figsize=(16, 8))\n",
    "\n",
    "    roc_auc_dict = {}\n",
    "\n",
    "    for (r, c), digit, ax in zip(\n",
    "        it.product(range(2), range(5)), range(10), axs.reshape(-1)\n",
    "    ):\n",
    "        fpr, tpr, _ = metrics.roc_curve(y == digit, y_pred_probs[:, digit])\n",
    "        auc = metrics.auc(fpr, tpr)\n",
    "        roc_auc_dict[str(digit)] = auc\n",
    "\n",
    "        ax.plot(fpr, tpr, label=f\"ROC AUC={round(auc, 3)}\")\n",
    "\n",
    "        ax.set_title(f\"\\nDigit {digit}\", fontsize=16)\n",
    "        if r == 1:\n",
    "            ax.set_xlabel(\"FPR\", fontsize=18)\n",
    "\n",
    "        if c == 0:\n",
    "            ax.set_ylabel(\"TPR\", fontsize=18)\n",
    "\n",
    "        ax.set_xlim([-0.05, 1.05])\n",
    "        ax.set_ylim([-0.05, 1.05])\n",
    "        ax.legend(loc=\"lower right\", frameon=False, fontsize=14)\n",
    "\n",
    "    fig.tight_layout()\n",
    "    fig.suptitle(\n",
    "        f\"ROC plots for one-vs-rest performances \"\n",
    "        f\"(on evaluation data, n={y_pred_probs_test.shape[1]}\",\n",
    "        fontsize=22,\n",
    "    )\n",
    "    fig.tight_layout()\n",
    "    fig.show()\n",
    "\n",
    "    return roc_auc_dict, fig\n",
    "\n",
    "\n",
    "roc_auc_dict, fig = plot_roc_curves(y_test, y_pred_probs_test)"
   ]
  },
  {
   "cell_type": "code",
   "execution_count": 16,
   "id": "4ff5e5fd",
   "metadata": {
    "execution": {
     "iopub.execute_input": "2022-07-14T19:57:18.251706Z",
     "iopub.status.busy": "2022-07-14T19:57:18.251145Z",
     "iopub.status.idle": "2022-07-14T19:57:18.451564Z",
     "shell.execute_reply": "2022-07-14T19:57:18.450884Z"
    },
    "papermill": {
     "duration": 0.208558,
     "end_time": "2022-07-14T19:57:18.453239",
     "exception": false,
     "start_time": "2022-07-14T19:57:18.244681",
     "status": "completed"
    },
    "tags": []
   },
   "outputs": [],
   "source": [
    "logger.log_figure(\"per-digit-roc-curves.png\", fig)"
   ]
  },
  {
   "cell_type": "code",
   "execution_count": 17,
   "id": "37a1da4f",
   "metadata": {
    "execution": {
     "iopub.execute_input": "2022-07-14T19:57:18.465918Z",
     "iopub.status.busy": "2022-07-14T19:57:18.465654Z",
     "iopub.status.idle": "2022-07-14T19:57:18.470994Z",
     "shell.execute_reply": "2022-07-14T19:57:18.470362Z"
    },
    "papermill": {
     "duration": 0.013303,
     "end_time": "2022-07-14T19:57:18.472628",
     "exception": false,
     "start_time": "2022-07-14T19:57:18.459325",
     "status": "completed"
    },
    "tags": []
   },
   "outputs": [
    {
     "data": {
      "text/plain": [
       "{'0': 1.0,\n",
       " '1': 0.9988003748828491,\n",
       " '2': 1.0,\n",
       " '3': 0.9997750702905343,\n",
       " '4': 1.0,\n",
       " '5': 0.998875351452671,\n",
       " '6': 0.999961896052431,\n",
       " '7': 0.9998475842097242,\n",
       " '8': 0.9908969104665826,\n",
       " '9': 0.9989330894680688}"
      ]
     },
     "execution_count": 17,
     "metadata": {},
     "output_type": "execute_result"
    }
   ],
   "source": [
    "roc_auc_dict"
   ]
  },
  {
   "cell_type": "code",
   "execution_count": 18,
   "id": "bb845f88",
   "metadata": {
    "execution": {
     "iopub.execute_input": "2022-07-14T19:57:18.485508Z",
     "iopub.status.busy": "2022-07-14T19:57:18.485031Z",
     "iopub.status.idle": "2022-07-14T19:57:18.490966Z",
     "shell.execute_reply": "2022-07-14T19:57:18.489297Z"
    },
    "papermill": {
     "duration": 0.01392,
     "end_time": "2022-07-14T19:57:18.492458",
     "exception": false,
     "start_time": "2022-07-14T19:57:18.478538",
     "status": "completed"
    },
    "tags": []
   },
   "outputs": [
    {
     "name": "stdout",
     "output_type": "stream",
     "text": [
      " - Logging roc_auc_per_digit (json) : {'0': 1.0, '1': 0.9988003748828491, '2': 1.0, '3': 0.9997750702905343, '4': 1.0, '5': 0.998875351452671, '6': 0.999961896052431, '7': 0.9998475842097242, '8': 0.9908969104665826, '9': 0.9989330894680688}\n"
     ]
    }
   ],
   "source": [
    "logger.log_value(\"roc_auc_per_digit\", roc_auc_dict)"
   ]
  },
  {
   "cell_type": "markdown",
   "id": "b0216a36",
   "metadata": {
    "papermill": {
     "duration": 0.005589,
     "end_time": "2022-07-14T19:57:18.503565",
     "exception": false,
     "start_time": "2022-07-14T19:57:18.497976",
     "status": "completed"
    },
    "tags": []
   },
   "source": [
    "### Compute and log mean ROC AUC score averaged over all digits"
   ]
  },
  {
   "cell_type": "code",
   "execution_count": 19,
   "id": "383e7d07",
   "metadata": {
    "execution": {
     "iopub.execute_input": "2022-07-14T19:57:18.515782Z",
     "iopub.status.busy": "2022-07-14T19:57:18.515463Z",
     "iopub.status.idle": "2022-07-14T19:57:18.526293Z",
     "shell.execute_reply": "2022-07-14T19:57:18.525684Z"
    },
    "papermill": {
     "duration": 0.018685,
     "end_time": "2022-07-14T19:57:18.527843",
     "exception": false,
     "start_time": "2022-07-14T19:57:18.509158",
     "status": "completed"
    },
    "tags": []
   },
   "outputs": [
    {
     "name": "stdout",
     "output_type": "stream",
     "text": [
      " - Logging roc_auc_class_mean (float) : 0.9987090276822862\n"
     ]
    }
   ],
   "source": [
    "roc_auc_macro = np.mean(list(roc_auc_dict.values()))\n",
    "\n",
    "logger.log_float(\"roc_auc_class_mean\", roc_auc_macro)\n",
    "\n",
    "# assert that the same value can be computed directly using sklearn\n",
    "assert roc_auc_macro == metrics.roc_auc_score(\n",
    "    y_test, y_pred_probs_test, average=\"macro\", multi_class=\"ovr\"\n",
    ")"
   ]
  },
  {
   "cell_type": "code",
   "execution_count": 20,
   "id": "4b07d1e3",
   "metadata": {
    "execution": {
     "iopub.execute_input": "2022-07-14T19:57:18.541737Z",
     "iopub.status.busy": "2022-07-14T19:57:18.541354Z",
     "iopub.status.idle": "2022-07-14T19:57:18.544485Z",
     "shell.execute_reply": "2022-07-14T19:57:18.543853Z"
    },
    "lines_to_next_cell": 0,
    "papermill": {
     "duration": 0.011822,
     "end_time": "2022-07-14T19:57:18.545970",
     "exception": false,
     "start_time": "2022-07-14T19:57:18.534148",
     "status": "completed"
    },
    "tags": []
   },
   "outputs": [],
   "source": [
    "# ---"
   ]
  },
  {
   "cell_type": "code",
   "execution_count": null,
   "id": "6852c782",
   "metadata": {
    "papermill": {
     "duration": 0.005551,
     "end_time": "2022-07-14T19:57:18.557984",
     "exception": false,
     "start_time": "2022-07-14T19:57:18.552433",
     "status": "completed"
    },
    "tags": []
   },
   "outputs": [],
   "source": []
  }
 ],
 "metadata": {
  "jupytext": {
   "cell_metadata_filter": "tags,-all",
   "main_language": "python",
   "notebook_metadata_filter": "-all"
  },
  "language_info": {
   "codemirror_mode": {
    "name": "ipython",
    "version": 3
   },
   "file_extension": ".py",
   "mimetype": "text/x-python",
   "name": "python",
   "nbconvert_exporter": "python",
   "pygments_lexer": "ipython3",
   "version": "3.8.10"
  },
  "papermill": {
   "default_parameters": {},
   "duration": 8.96066,
   "end_time": "2022-07-14T19:57:19.581754",
   "environment_variables": {},
   "exception": null,
   "input_path": "/home/host_user/workspace/mnist-demo-pipeline/mnist-demo-pipeline/notebooks/temp-notebook-9_ir44qp.ipynb",
   "output_path": "notebooks/benchmark-model.ipynb",
   "parameters": {
    "P": {
     "_opentelemetry_traceparent": "00-7fe56a2882a4c11ac86715a3e8709335-a4d292968659691c-01",
     "pipeline.data_lake_root": "/pipeline-outputs/data-lake",
     "pipeline.github.actor": "matiasdahl",
     "pipeline.github.base_ref": "development",
     "pipeline.github.event_name": "pull_request",
     "pipeline.github.head_ref": "try-C-hyperparameter",
     "pipeline.github.job": "run-tests-pipeline-and-persist-pipeline-outputs",
     "pipeline.github.ref": "refs/pull/55/merge",
     "pipeline.github.ref_name": "55/merge",
     "pipeline.github.ref_type": "branch",
     "pipeline.github.repository": "pynb-dag-runner/mnist-digits-demo-pipeline",
     "pipeline.github.run_id": "2672052849",
     "pipeline.github.runner_name": "GitHub Actions 2",
     "pipeline.github.sha": "1150ca0bf632c46a3bc0535697829c0df0420613",
     "pipeline.github.workflow": "Run automated tests, pipeline and deploy results to static reporting site",
     "pipeline.pipeline_run_id": "dbdb850f-5389-4750-8eb5-e33e33c83848",
     "pipeline.run_environment": "ci",
     "run.retry_nr": "0",
     "task.max_nr_retries": "1",
     "task.notebook": "notebooks/benchmark-model.py",
     "task.nr_train_images": 800,
     "task.num_cpus": 1,
     "task.timeout_s": "None"
    }
   },
   "start_time": "2022-07-14T19:57:10.621094",
   "version": "2.3.3"
  }
 },
 "nbformat": 4,
 "nbformat_minor": 5
}