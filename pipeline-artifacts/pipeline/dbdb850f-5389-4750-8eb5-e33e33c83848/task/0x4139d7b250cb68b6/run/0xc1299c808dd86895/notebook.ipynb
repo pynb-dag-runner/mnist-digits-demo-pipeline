{
 "cells": [
  {
   "cell_type": "markdown",
   "id": "3558ade4",
   "metadata": {
    "papermill": {
     "duration": 0.003337,
     "end_time": "2022-07-14T19:56:35.398937",
     "exception": false,
     "start_time": "2022-07-14T19:56:35.395600",
     "status": "completed"
    },
    "tags": []
   },
   "source": [
    "# Ingest toy version of MNIST digit data from sklearn"
   ]
  },
  {
   "cell_type": "markdown",
   "id": "514ad782",
   "metadata": {
    "papermill": {
     "duration": 0.002407,
     "end_time": "2022-07-14T19:56:35.404503",
     "exception": false,
     "start_time": "2022-07-14T19:56:35.402096",
     "status": "completed"
    },
    "tags": []
   },
   "source": [
    "### Determine run parameters"
   ]
  },
  {
   "cell_type": "code",
   "execution_count": 1,
   "id": "931b2835",
   "metadata": {
    "execution": {
     "iopub.execute_input": "2022-07-14T19:56:35.410972Z",
     "iopub.status.busy": "2022-07-14T19:56:35.410515Z",
     "iopub.status.idle": "2022-07-14T19:56:35.417752Z",
     "shell.execute_reply": "2022-07-14T19:56:35.417118Z"
    },
    "lines_to_next_cell": 0,
    "papermill": {
     "duration": 0.012546,
     "end_time": "2022-07-14T19:56:35.419182",
     "exception": false,
     "start_time": "2022-07-14T19:56:35.406636",
     "status": "completed"
    },
    "tags": []
   },
   "outputs": [],
   "source": [
    "# ----------------- Parameters for interactive development --------------\n",
    "P = {\n",
    "    \"pipeline.run_environment\": \"dev\",\n",
    "    \"pipeline.data_lake_root\": \"/pipeline-outputs/data-lake\",\n",
    "    \"run.retry_nr\": \"1\",\n",
    "}"
   ]
  },
  {
   "cell_type": "code",
   "execution_count": 2,
   "id": "307845c6",
   "metadata": {
    "execution": {
     "iopub.execute_input": "2022-07-14T19:56:35.425922Z",
     "iopub.status.busy": "2022-07-14T19:56:35.425547Z",
     "iopub.status.idle": "2022-07-14T19:56:35.428536Z",
     "shell.execute_reply": "2022-07-14T19:56:35.428050Z"
    },
    "lines_to_next_cell": 0,
    "papermill": {
     "duration": 0.008492,
     "end_time": "2022-07-14T19:56:35.430503",
     "exception": false,
     "start_time": "2022-07-14T19:56:35.422011",
     "status": "completed"
    },
    "tags": [
     "parameters"
    ]
   },
   "outputs": [],
   "source": [
    "# - During automated runs parameters will be injected in the below cell -"
   ]
  },
  {
   "cell_type": "code",
   "execution_count": 3,
   "id": "d154e54c",
   "metadata": {
    "execution": {
     "iopub.execute_input": "2022-07-14T19:56:35.436425Z",
     "iopub.status.busy": "2022-07-14T19:56:35.436014Z",
     "iopub.status.idle": "2022-07-14T19:56:35.440859Z",
     "shell.execute_reply": "2022-07-14T19:56:35.440270Z"
    },
    "papermill": {
     "duration": 0.009399,
     "end_time": "2022-07-14T19:56:35.442180",
     "exception": false,
     "start_time": "2022-07-14T19:56:35.432781",
     "status": "completed"
    },
    "tags": [
     "injected-parameters"
    ]
   },
   "outputs": [],
   "source": [
    "# Parameters\n",
    "P = {\n",
    "    \"pipeline.data_lake_root\": \"/pipeline-outputs/data-lake\",\n",
    "    \"pipeline.run_environment\": \"ci\",\n",
    "    \"pipeline.pipeline_run_id\": \"dbdb850f-5389-4750-8eb5-e33e33c83848\",\n",
    "    \"pipeline.github.repository\": \"pynb-dag-runner/mnist-digits-demo-pipeline\",\n",
    "    \"pipeline.github.workflow\": \"Run automated tests, pipeline and deploy results to static reporting site\",\n",
    "    \"pipeline.github.runner_name\": \"GitHub Actions 2\",\n",
    "    \"pipeline.github.run_id\": \"2672052849\",\n",
    "    \"pipeline.github.actor\": \"matiasdahl\",\n",
    "    \"pipeline.github.job\": \"run-tests-pipeline-and-persist-pipeline-outputs\",\n",
    "    \"pipeline.github.base_ref\": \"development\",\n",
    "    \"pipeline.github.head_ref\": \"try-C-hyperparameter\",\n",
    "    \"pipeline.github.sha\": \"1150ca0bf632c46a3bc0535697829c0df0420613\",\n",
    "    \"pipeline.github.ref\": \"refs/pull/55/merge\",\n",
    "    \"pipeline.github.ref_type\": \"branch\",\n",
    "    \"pipeline.github.ref_name\": \"55/merge\",\n",
    "    \"pipeline.github.event_name\": \"pull_request\",\n",
    "    \"task.notebook\": \"notebooks/ingest.py\",\n",
    "    \"task.max_nr_retries\": \"15\",\n",
    "    \"run.retry_nr\": \"10\",\n",
    "    \"task.timeout_s\": \"10\",\n",
    "    \"task.num_cpus\": 1,\n",
    "    \"_opentelemetry_traceparent\": \"00-7fe56a2882a4c11ac86715a3e8709335-8873fc279f342487-01\",\n",
    "}\n"
   ]
  },
  {
   "cell_type": "code",
   "execution_count": 4,
   "id": "bc6fbcee",
   "metadata": {
    "execution": {
     "iopub.execute_input": "2022-07-14T19:56:35.448093Z",
     "iopub.status.busy": "2022-07-14T19:56:35.447682Z",
     "iopub.status.idle": "2022-07-14T19:56:35.451003Z",
     "shell.execute_reply": "2022-07-14T19:56:35.450429Z"
    },
    "lines_to_next_cell": 0,
    "papermill": {
     "duration": 0.007849,
     "end_time": "2022-07-14T19:56:35.452403",
     "exception": false,
     "start_time": "2022-07-14T19:56:35.444554",
     "status": "completed"
    },
    "tags": []
   },
   "outputs": [],
   "source": [
    "# -----------------------------------------------------------------------"
   ]
  },
  {
   "cell_type": "markdown",
   "id": "ef05da61",
   "metadata": {
    "lines_to_next_cell": 2,
    "papermill": {
     "duration": 0.00234,
     "end_time": "2022-07-14T19:56:35.457354",
     "exception": false,
     "start_time": "2022-07-14T19:56:35.455014",
     "status": "completed"
    },
    "tags": []
   },
   "source": [
    "---"
   ]
  },
  {
   "cell_type": "markdown",
   "id": "a206a8b3",
   "metadata": {
    "papermill": {
     "duration": 0.002802,
     "end_time": "2022-07-14T19:56:35.462418",
     "exception": false,
     "start_time": "2022-07-14T19:56:35.459616",
     "status": "completed"
    },
    "tags": []
   },
   "source": [
    "### Simulate different types of failures (for testing timeout and retry logic)"
   ]
  },
  {
   "cell_type": "code",
   "execution_count": 5,
   "id": "a2eb0d2d",
   "metadata": {
    "execution": {
     "iopub.execute_input": "2022-07-14T19:56:35.468557Z",
     "iopub.status.busy": "2022-07-14T19:56:35.468080Z",
     "iopub.status.idle": "2022-07-14T19:56:35.904243Z",
     "shell.execute_reply": "2022-07-14T19:56:35.903567Z"
    },
    "papermill": {
     "duration": 0.442041,
     "end_time": "2022-07-14T19:56:35.906669",
     "exception": false,
     "start_time": "2022-07-14T19:56:35.464628",
     "status": "completed"
    },
    "tags": []
   },
   "outputs": [
    {
     "name": "stderr",
     "output_type": "stream",
     "text": [
      "2022-07-14 19:56:35,755\tINFO worker.py:842 -- Connecting to existing Ray cluster at address: 172.17.0.2:6379\n"
     ]
    }
   ],
   "source": [
    "from pynb_dag_runner.tasks.task_opentelemetry_logging import PydarLogger\n",
    "\n",
    "logger = PydarLogger(P)"
   ]
  },
  {
   "cell_type": "code",
   "execution_count": 6,
   "id": "4cd3ffb7",
   "metadata": {
    "execution": {
     "iopub.execute_input": "2022-07-14T19:56:35.913614Z",
     "iopub.status.busy": "2022-07-14T19:56:35.913099Z",
     "iopub.status.idle": "2022-07-14T19:56:35.918154Z",
     "shell.execute_reply": "2022-07-14T19:56:35.917620Z"
    },
    "papermill": {
     "duration": 0.010242,
     "end_time": "2022-07-14T19:56:35.919561",
     "exception": false,
     "start_time": "2022-07-14T19:56:35.909319",
     "status": "completed"
    },
    "tags": []
   },
   "outputs": [],
   "source": [
    "import time, random\n",
    "\n",
    "\n",
    "def maybe_crash(retry_nr: int, run_environment: str):\n",
    "    if retry_nr == 2 and run_environment == \"ci\":\n",
    "        time.sleep(1e6)\n",
    "\n",
    "    max_retry_nr: int = 3 if run_environment == \"dev\" else 10\n",
    "\n",
    "    if retry_nr < max_retry_nr:\n",
    "        if random.random() < 0.1:\n",
    "            time.sleep(1e6)\n",
    "        else:\n",
    "            raise Exception(\"Simulated exception failure from ingestion step notebook!\")\n",
    "\n",
    "\n",
    "maybe_crash(\n",
    "    retry_nr=int(P[\"run.retry_nr\"]), run_environment=P[\"pipeline.run_environment\"]\n",
    ")"
   ]
  },
  {
   "cell_type": "markdown",
   "id": "70b187ce",
   "metadata": {
    "lines_to_next_cell": 2,
    "papermill": {
     "duration": 0.00269,
     "end_time": "2022-07-14T19:56:35.924690",
     "exception": false,
     "start_time": "2022-07-14T19:56:35.922000",
     "status": "completed"
    },
    "tags": []
   },
   "source": [
    "### Notebook code"
   ]
  },
  {
   "cell_type": "code",
   "execution_count": 7,
   "id": "82f3f25f",
   "metadata": {
    "execution": {
     "iopub.execute_input": "2022-07-14T19:56:35.931023Z",
     "iopub.status.busy": "2022-07-14T19:56:35.930600Z",
     "iopub.status.idle": "2022-07-14T19:56:37.110833Z",
     "shell.execute_reply": "2022-07-14T19:56:37.110192Z"
    },
    "papermill": {
     "duration": 1.185465,
     "end_time": "2022-07-14T19:56:37.112844",
     "exception": false,
     "start_time": "2022-07-14T19:56:35.927379",
     "status": "completed"
    },
    "tags": []
   },
   "outputs": [],
   "source": [
    "from sklearn import datasets\n",
    "\n",
    "#\n",
    "from common.io import datalake_root, write_numpy"
   ]
  },
  {
   "cell_type": "code",
   "execution_count": 8,
   "id": "5534a8e8",
   "metadata": {
    "execution": {
     "iopub.execute_input": "2022-07-14T19:56:37.122483Z",
     "iopub.status.busy": "2022-07-14T19:56:37.122159Z",
     "iopub.status.idle": "2022-07-14T19:56:37.135315Z",
     "shell.execute_reply": "2022-07-14T19:56:37.134554Z"
    },
    "lines_to_next_cell": 2,
    "papermill": {
     "duration": 0.02075,
     "end_time": "2022-07-14T19:56:37.136665",
     "exception": false,
     "start_time": "2022-07-14T19:56:37.115915",
     "status": "completed"
    },
    "tags": []
   },
   "outputs": [],
   "source": [
    "digits = datasets.load_digits()\n",
    "\n",
    "X = digits[\"data\"]\n",
    "y = digits[\"target\"]"
   ]
  },
  {
   "cell_type": "code",
   "execution_count": 9,
   "id": "2a13c287",
   "metadata": {
    "execution": {
     "iopub.execute_input": "2022-07-14T19:56:37.143228Z",
     "iopub.status.busy": "2022-07-14T19:56:37.142836Z",
     "iopub.status.idle": "2022-07-14T19:56:37.157326Z",
     "shell.execute_reply": "2022-07-14T19:56:37.156712Z"
    },
    "papermill": {
     "duration": 0.019495,
     "end_time": "2022-07-14T19:56:37.158743",
     "exception": false,
     "start_time": "2022-07-14T19:56:37.139248",
     "status": "completed"
    },
    "tags": []
   },
   "outputs": [
    {
     "name": "stdout",
     "output_type": "stream",
     "text": [
      " - Logging data_shape (json) : [1797, 64]\n",
      " - Logging target_shape (json) : [1797]\n"
     ]
    },
    {
     "data": {
      "text/plain": [
       "((1797, 64), (1797,))"
      ]
     },
     "execution_count": 9,
     "metadata": {},
     "output_type": "execute_result"
    }
   ],
   "source": [
    "logger.log_value(\"data_shape\", list(X.shape))\n",
    "logger.log_value(\"target_shape\", list(y.shape))\n",
    "\n",
    "X.shape, y.shape"
   ]
  },
  {
   "cell_type": "code",
   "execution_count": 10,
   "id": "af508faf",
   "metadata": {
    "execution": {
     "iopub.execute_input": "2022-07-14T19:56:37.166986Z",
     "iopub.status.busy": "2022-07-14T19:56:37.166544Z",
     "iopub.status.idle": "2022-07-14T19:56:37.174985Z",
     "shell.execute_reply": "2022-07-14T19:56:37.174391Z"
    },
    "papermill": {
     "duration": 0.014872,
     "end_time": "2022-07-14T19:56:37.176396",
     "exception": false,
     "start_time": "2022-07-14T19:56:37.161524",
     "status": "completed"
    },
    "tags": []
   },
   "outputs": [],
   "source": [
    "write_numpy(datalake_root(P) / \"raw\" / \"digits.numpy\", X)\n",
    "write_numpy(datalake_root(P) / \"raw\" / \"labels.numpy\", y)"
   ]
  },
  {
   "cell_type": "code",
   "execution_count": null,
   "id": "1c16238b",
   "metadata": {
    "papermill": {
     "duration": 0.002936,
     "end_time": "2022-07-14T19:56:37.182103",
     "exception": false,
     "start_time": "2022-07-14T19:56:37.179167",
     "status": "completed"
    },
    "tags": []
   },
   "outputs": [],
   "source": []
  }
 ],
 "metadata": {
  "jupytext": {
   "cell_metadata_filter": "tags,-all",
   "main_language": "python",
   "notebook_metadata_filter": "-all"
  },
  "language_info": {
   "codemirror_mode": {
    "name": "ipython",
    "version": 3
   },
   "file_extension": ".py",
   "mimetype": "text/x-python",
   "name": "python",
   "nbconvert_exporter": "python",
   "pygments_lexer": "ipython3",
   "version": "3.8.10"
  },
  "papermill": {
   "default_parameters": {},
   "duration": 3.864907,
   "end_time": "2022-07-14T19:56:38.103475",
   "environment_variables": {},
   "exception": null,
   "input_path": "/home/host_user/workspace/mnist-demo-pipeline/mnist-demo-pipeline/notebooks/temp-notebook-iy8tdl1f.ipynb",
   "output_path": "notebooks/ingest.ipynb",
   "parameters": {
    "P": {
     "_opentelemetry_traceparent": "00-7fe56a2882a4c11ac86715a3e8709335-8873fc279f342487-01",
     "pipeline.data_lake_root": "/pipeline-outputs/data-lake",
     "pipeline.github.actor": "matiasdahl",
     "pipeline.github.base_ref": "development",
     "pipeline.github.event_name": "pull_request",
     "pipeline.github.head_ref": "try-C-hyperparameter",
     "pipeline.github.job": "run-tests-pipeline-and-persist-pipeline-outputs",
     "pipeline.github.ref": "refs/pull/55/merge",
     "pipeline.github.ref_name": "55/merge",
     "pipeline.github.ref_type": "branch",
     "pipeline.github.repository": "pynb-dag-runner/mnist-digits-demo-pipeline",
     "pipeline.github.run_id": "2672052849",
     "pipeline.github.runner_name": "GitHub Actions 2",
     "pipeline.github.sha": "1150ca0bf632c46a3bc0535697829c0df0420613",
     "pipeline.github.workflow": "Run automated tests, pipeline and deploy results to static reporting site",
     "pipeline.pipeline_run_id": "dbdb850f-5389-4750-8eb5-e33e33c83848",
     "pipeline.run_environment": "ci",
     "run.retry_nr": "10",
     "task.max_nr_retries": "15",
     "task.notebook": "notebooks/ingest.py",
     "task.num_cpus": 1,
     "task.timeout_s": "10"
    }
   },
   "start_time": "2022-07-14T19:56:34.238568",
   "version": "2.3.3"
  }
 },
 "nbformat": 4,
 "nbformat_minor": 5
}