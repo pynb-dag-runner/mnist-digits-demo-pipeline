{
 "cells": [
  {
   "cell_type": "markdown",
   "id": "a8e6416e",
   "metadata": {
    "papermill": {
     "duration": 0.005464,
     "end_time": "2022-07-14T19:56:58.097713",
     "exception": false,
     "start_time": "2022-07-14T19:56:58.092249",
     "status": "completed"
    },
    "tags": []
   },
   "source": [
    "# Benchmark model\n",
    "\n",
    "The purpose of this notebook is to benchmark persisted onnx-model (trained in the\n",
    "previous step) against evaluation set."
   ]
  },
  {
   "cell_type": "markdown",
   "id": "8b5f89ff",
   "metadata": {
    "papermill": {
     "duration": 0.003811,
     "end_time": "2022-07-14T19:56:58.105746",
     "exception": false,
     "start_time": "2022-07-14T19:56:58.101935",
     "status": "completed"
    },
    "tags": []
   },
   "source": [
    "### Determine run parameters"
   ]
  },
  {
   "cell_type": "code",
   "execution_count": 1,
   "id": "e60bb1db",
   "metadata": {
    "execution": {
     "iopub.execute_input": "2022-07-14T19:56:58.114928Z",
     "iopub.status.busy": "2022-07-14T19:56:58.114618Z",
     "iopub.status.idle": "2022-07-14T19:56:58.122367Z",
     "shell.execute_reply": "2022-07-14T19:56:58.121738Z"
    },
    "lines_to_next_cell": 0,
    "papermill": {
     "duration": 0.014035,
     "end_time": "2022-07-14T19:56:58.123850",
     "exception": false,
     "start_time": "2022-07-14T19:56:58.109815",
     "status": "completed"
    },
    "tags": []
   },
   "outputs": [],
   "source": [
    "# ----------------- Parameters for interactive development --------------\n",
    "P = {\n",
    "    \"pipeline.data_lake_root\": \"/pipeline-outputs/data-lake\",\n",
    "    \"task.nr_train_images\": 600,\n",
    "}"
   ]
  },
  {
   "cell_type": "code",
   "execution_count": 2,
   "id": "66ec9413",
   "metadata": {
    "execution": {
     "iopub.execute_input": "2022-07-14T19:56:58.134614Z",
     "iopub.status.busy": "2022-07-14T19:56:58.134269Z",
     "iopub.status.idle": "2022-07-14T19:56:58.137667Z",
     "shell.execute_reply": "2022-07-14T19:56:58.136727Z"
    },
    "lines_to_next_cell": 0,
    "papermill": {
     "duration": 0.009366,
     "end_time": "2022-07-14T19:56:58.138988",
     "exception": false,
     "start_time": "2022-07-14T19:56:58.129622",
     "status": "completed"
    },
    "tags": [
     "parameters"
    ]
   },
   "outputs": [],
   "source": [
    "# - During automated runs parameters will be injected in the below cell -"
   ]
  },
  {
   "cell_type": "code",
   "execution_count": 3,
   "id": "0793c4ea",
   "metadata": {
    "execution": {
     "iopub.execute_input": "2022-07-14T19:56:58.148589Z",
     "iopub.status.busy": "2022-07-14T19:56:58.148063Z",
     "iopub.status.idle": "2022-07-14T19:56:58.152550Z",
     "shell.execute_reply": "2022-07-14T19:56:58.152007Z"
    },
    "papermill": {
     "duration": 0.011318,
     "end_time": "2022-07-14T19:56:58.154051",
     "exception": false,
     "start_time": "2022-07-14T19:56:58.142733",
     "status": "completed"
    },
    "tags": [
     "injected-parameters"
    ]
   },
   "outputs": [],
   "source": [
    "# Parameters\n",
    "P = {\n",
    "    \"pipeline.data_lake_root\": \"/pipeline-outputs/data-lake\",\n",
    "    \"pipeline.run_environment\": \"ci\",\n",
    "    \"pipeline.pipeline_run_id\": \"dbdb850f-5389-4750-8eb5-e33e33c83848\",\n",
    "    \"pipeline.github.repository\": \"pynb-dag-runner/mnist-digits-demo-pipeline\",\n",
    "    \"pipeline.github.workflow\": \"Run automated tests, pipeline and deploy results to static reporting site\",\n",
    "    \"pipeline.github.runner_name\": \"GitHub Actions 2\",\n",
    "    \"pipeline.github.run_id\": \"2672052849\",\n",
    "    \"pipeline.github.actor\": \"matiasdahl\",\n",
    "    \"pipeline.github.job\": \"run-tests-pipeline-and-persist-pipeline-outputs\",\n",
    "    \"pipeline.github.base_ref\": \"development\",\n",
    "    \"pipeline.github.head_ref\": \"try-C-hyperparameter\",\n",
    "    \"pipeline.github.sha\": \"1150ca0bf632c46a3bc0535697829c0df0420613\",\n",
    "    \"pipeline.github.ref\": \"refs/pull/55/merge\",\n",
    "    \"pipeline.github.ref_type\": \"branch\",\n",
    "    \"pipeline.github.ref_name\": \"55/merge\",\n",
    "    \"pipeline.github.event_name\": \"pull_request\",\n",
    "    \"task.nr_train_images\": 600,\n",
    "    \"task.notebook\": \"notebooks/benchmark-model.py\",\n",
    "    \"task.max_nr_retries\": \"1\",\n",
    "    \"run.retry_nr\": \"0\",\n",
    "    \"task.timeout_s\": \"None\",\n",
    "    \"task.num_cpus\": 1,\n",
    "    \"_opentelemetry_traceparent\": \"00-7fe56a2882a4c11ac86715a3e8709335-4e3cc10ce9e07e25-01\",\n",
    "}\n"
   ]
  },
  {
   "cell_type": "code",
   "execution_count": 4,
   "id": "82c8a8e0",
   "metadata": {
    "execution": {
     "iopub.execute_input": "2022-07-14T19:56:58.163705Z",
     "iopub.status.busy": "2022-07-14T19:56:58.163165Z",
     "iopub.status.idle": "2022-07-14T19:56:58.166030Z",
     "shell.execute_reply": "2022-07-14T19:56:58.165478Z"
    },
    "lines_to_next_cell": 0,
    "papermill": {
     "duration": 0.009041,
     "end_time": "2022-07-14T19:56:58.167323",
     "exception": false,
     "start_time": "2022-07-14T19:56:58.158282",
     "status": "completed"
    },
    "tags": []
   },
   "outputs": [],
   "source": [
    "# -----------------------------------------------------------------------"
   ]
  },
  {
   "cell_type": "markdown",
   "id": "36fd7a25",
   "metadata": {
    "papermill": {
     "duration": 0.003951,
     "end_time": "2022-07-14T19:56:58.175619",
     "exception": false,
     "start_time": "2022-07-14T19:56:58.171668",
     "status": "completed"
    },
    "tags": []
   },
   "source": [
    "---"
   ]
  },
  {
   "cell_type": "markdown",
   "id": "5f9e5d38",
   "metadata": {
    "lines_to_next_cell": 2,
    "papermill": {
     "duration": 0.003921,
     "end_time": "2022-07-14T19:56:58.183766",
     "exception": false,
     "start_time": "2022-07-14T19:56:58.179845",
     "status": "completed"
    },
    "tags": []
   },
   "source": [
    "### Notebook code"
   ]
  },
  {
   "cell_type": "code",
   "execution_count": 5,
   "id": "58303f45",
   "metadata": {
    "execution": {
     "iopub.execute_input": "2022-07-14T19:56:58.193401Z",
     "iopub.status.busy": "2022-07-14T19:56:58.192983Z",
     "iopub.status.idle": "2022-07-14T19:56:59.291846Z",
     "shell.execute_reply": "2022-07-14T19:56:59.291282Z"
    },
    "papermill": {
     "duration": 1.105716,
     "end_time": "2022-07-14T19:56:59.293738",
     "exception": false,
     "start_time": "2022-07-14T19:56:58.188022",
     "status": "completed"
    },
    "tags": []
   },
   "outputs": [
    {
     "name": "stderr",
     "output_type": "stream",
     "text": [
      "2022-07-14 19:56:59,117\tINFO worker.py:842 -- Connecting to existing Ray cluster at address: 172.17.0.2:6379\n"
     ]
    }
   ],
   "source": [
    "import itertools as it\n",
    "\n",
    "#\n",
    "import numpy as np\n",
    "import matplotlib.pyplot as plt\n",
    "\n",
    "#\n",
    "from pynb_dag_runner.tasks.task_opentelemetry_logging import PydarLogger\n",
    "\n",
    "#\n",
    "from common.io import datalake_root\n",
    "\n",
    "logger = PydarLogger(P)"
   ]
  },
  {
   "cell_type": "markdown",
   "id": "d14c3397",
   "metadata": {
    "papermill": {
     "duration": 0.004863,
     "end_time": "2022-07-14T19:56:59.303806",
     "exception": false,
     "start_time": "2022-07-14T19:56:59.298943",
     "status": "completed"
    },
    "tags": []
   },
   "source": [
    "## Load persisted onnx-model and evaluation data"
   ]
  },
  {
   "cell_type": "code",
   "execution_count": 6,
   "id": "630bc173",
   "metadata": {
    "execution": {
     "iopub.execute_input": "2022-07-14T19:56:59.314299Z",
     "iopub.status.busy": "2022-07-14T19:56:59.313950Z",
     "iopub.status.idle": "2022-07-14T19:56:59.317865Z",
     "shell.execute_reply": "2022-07-14T19:56:59.317289Z"
    },
    "papermill": {
     "duration": 0.011777,
     "end_time": "2022-07-14T19:56:59.320336",
     "exception": false,
     "start_time": "2022-07-14T19:56:59.308559",
     "status": "completed"
    },
    "tags": []
   },
   "outputs": [],
   "source": [
    "from common.io import read_onnx, get_onnx_inputs, get_onnx_outputs, read_numpy"
   ]
  },
  {
   "cell_type": "code",
   "execution_count": 7,
   "id": "7904f349",
   "metadata": {
    "execution": {
     "iopub.execute_input": "2022-07-14T19:56:59.330791Z",
     "iopub.status.busy": "2022-07-14T19:56:59.330543Z",
     "iopub.status.idle": "2022-07-14T19:56:59.346151Z",
     "shell.execute_reply": "2022-07-14T19:56:59.345421Z"
    },
    "lines_to_next_cell": 0,
    "papermill": {
     "duration": 0.023239,
     "end_time": "2022-07-14T19:56:59.348218",
     "exception": false,
     "start_time": "2022-07-14T19:56:59.324979",
     "status": "completed"
    },
    "tags": []
   },
   "outputs": [],
   "source": [
    "onnx_inference_session = read_onnx(\n",
    "    datalake_root(P)\n",
    "    / \"models\"\n",
    "    / f\"nr_train_images={P['task.nr_train_images']}\"\n",
    "    / \"model.onnx\"\n",
    ")"
   ]
  },
  {
   "cell_type": "markdown",
   "id": "8b0c1458",
   "metadata": {
    "papermill": {
     "duration": 0.004753,
     "end_time": "2022-07-14T19:56:59.357994",
     "exception": false,
     "start_time": "2022-07-14T19:56:59.353241",
     "status": "completed"
    },
    "tags": []
   },
   "source": [
    "### Record structure of inputs and outputs for ONNX model\n",
    "\n",
    "(this should likely be done in training notebook)"
   ]
  },
  {
   "cell_type": "code",
   "execution_count": 8,
   "id": "ccbe71dc",
   "metadata": {
    "execution": {
     "iopub.execute_input": "2022-07-14T19:56:59.368237Z",
     "iopub.status.busy": "2022-07-14T19:56:59.367658Z",
     "iopub.status.idle": "2022-07-14T19:56:59.373567Z",
     "shell.execute_reply": "2022-07-14T19:56:59.372722Z"
    },
    "papermill": {
     "duration": 0.013847,
     "end_time": "2022-07-14T19:56:59.376049",
     "exception": false,
     "start_time": "2022-07-14T19:56:59.362202",
     "status": "completed"
    },
    "tags": []
   },
   "outputs": [
    {
     "name": "stdout",
     "output_type": "stream",
     "text": [
      "{\n",
      "  \"inputs\": [\n",
      "    {\n",
      "      \"name\": \"float_input_8x8_image\",\n",
      "      \"shape\": [\n",
      "        null,\n",
      "        64\n",
      "      ],\n",
      "      \"type\": \"tensor(float)\"\n",
      "    }\n",
      "  ],\n",
      "  \"outputs\": [\n",
      "    {\n",
      "      \"name\": \"output_label\",\n",
      "      \"shape\": [\n",
      "        null\n",
      "      ],\n",
      "      \"type\": \"tensor(int64)\"\n",
      "    },\n",
      "    {\n",
      "      \"name\": \"output_probability\",\n",
      "      \"shape\": [],\n",
      "      \"type\": \"seq(map(int64,tensor(float)))\"\n",
      "    }\n",
      "  ]\n",
      "}\n"
     ]
    }
   ],
   "source": [
    "import json\n",
    "\n",
    "onnx_io = json.dumps(\n",
    "    {\n",
    "        \"inputs\": get_onnx_inputs(onnx_inference_session),\n",
    "        \"outputs\": get_onnx_outputs(onnx_inference_session),\n",
    "    },\n",
    "    indent=2,\n",
    ")\n",
    "\n",
    "\n",
    "logger.log_artefact(\"onnx_io_structure.json\", onnx_io)\n",
    "print(onnx_io)"
   ]
  },
  {
   "cell_type": "markdown",
   "id": "347a6ed1",
   "metadata": {
    "papermill": {
     "duration": 0.00464,
     "end_time": "2022-07-14T19:56:59.385782",
     "exception": false,
     "start_time": "2022-07-14T19:56:59.381142",
     "status": "completed"
    },
    "tags": []
   },
   "source": [
    "### Evaluate model performance on evaluation data set"
   ]
  },
  {
   "cell_type": "code",
   "execution_count": 9,
   "id": "4d18918d",
   "metadata": {
    "execution": {
     "iopub.execute_input": "2022-07-14T19:56:59.396458Z",
     "iopub.status.busy": "2022-07-14T19:56:59.396099Z",
     "iopub.status.idle": "2022-07-14T19:56:59.401445Z",
     "shell.execute_reply": "2022-07-14T19:56:59.400746Z"
    },
    "papermill": {
     "duration": 0.012972,
     "end_time": "2022-07-14T19:56:59.403301",
     "exception": false,
     "start_time": "2022-07-14T19:56:59.390329",
     "status": "completed"
    },
    "tags": []
   },
   "outputs": [],
   "source": [
    "# load evaluation data\n",
    "X_test = read_numpy(datalake_root(P) / \"test-data\" / \"digits.numpy\")\n",
    "y_test = read_numpy(datalake_root(P) / \"test-data\" / \"labels.numpy\")"
   ]
  },
  {
   "cell_type": "code",
   "execution_count": 10,
   "id": "eb9b9da1",
   "metadata": {
    "execution": {
     "iopub.execute_input": "2022-07-14T19:56:59.414966Z",
     "iopub.status.busy": "2022-07-14T19:56:59.414706Z",
     "iopub.status.idle": "2022-07-14T19:56:59.426761Z",
     "shell.execute_reply": "2022-07-14T19:56:59.425641Z"
    },
    "papermill": {
     "duration": 0.020822,
     "end_time": "2022-07-14T19:56:59.429615",
     "exception": false,
     "start_time": "2022-07-14T19:56:59.408793",
     "status": "completed"
    },
    "tags": []
   },
   "outputs": [],
   "source": [
    "def get_model_outputs(X, onnx_inference_session):\n",
    "    y_pred_labels, y_pred_map = onnx_inference_session.run(\n",
    "        [\"output_label\", \"output_probability\"],\n",
    "        {\"float_input_8x8_image\": X.astype(np.float32)},\n",
    "    )\n",
    "    y_pred_probs = np.array(\n",
    "        [[probabilities[digit] for digit in range(10)] for probabilities in y_pred_map]\n",
    "    )\n",
    "\n",
    "    assert y_pred_labels.shape == (X.shape[0],)\n",
    "    assert y_pred_probs.shape == (X.shape[0], 10)\n",
    "\n",
    "    return y_pred_labels, y_pred_probs\n",
    "\n",
    "\n",
    "# Note: as shown in the training notebook, the predicted labels and probabilities\n",
    "# computed below need not be compatible.\n",
    "y_pred_labels_test, y_pred_probs_test = get_model_outputs(\n",
    "    X_test, onnx_inference_session\n",
    ")"
   ]
  },
  {
   "cell_type": "markdown",
   "id": "fe9abdd8",
   "metadata": {
    "papermill": {
     "duration": 0.004535,
     "end_time": "2022-07-14T19:56:59.438794",
     "exception": false,
     "start_time": "2022-07-14T19:56:59.434259",
     "status": "completed"
    },
    "tags": []
   },
   "source": [
    "### Confusion matrix"
   ]
  },
  {
   "cell_type": "code",
   "execution_count": 11,
   "id": "e4cedb4f",
   "metadata": {
    "execution": {
     "iopub.execute_input": "2022-07-14T19:56:59.450871Z",
     "iopub.status.busy": "2022-07-14T19:56:59.449637Z",
     "iopub.status.idle": "2022-07-14T19:56:59.453413Z",
     "shell.execute_reply": "2022-07-14T19:56:59.452878Z"
    },
    "papermill": {
     "duration": 0.010687,
     "end_time": "2022-07-14T19:56:59.454826",
     "exception": false,
     "start_time": "2022-07-14T19:56:59.444139",
     "status": "completed"
    },
    "tags": []
   },
   "outputs": [],
   "source": [
    "# TODO"
   ]
  },
  {
   "cell_type": "markdown",
   "id": "bdbc2984",
   "metadata": {
    "papermill": {
     "duration": 0.004124,
     "end_time": "2022-07-14T19:56:59.463483",
     "exception": false,
     "start_time": "2022-07-14T19:56:59.459359",
     "status": "completed"
    },
    "tags": []
   },
   "source": [
    "### Plot predicted probabilities for each classifier over all evaluation digit images"
   ]
  },
  {
   "cell_type": "code",
   "execution_count": 12,
   "id": "bedf2634",
   "metadata": {
    "execution": {
     "iopub.execute_input": "2022-07-14T19:56:59.473094Z",
     "iopub.status.busy": "2022-07-14T19:56:59.472615Z",
     "iopub.status.idle": "2022-07-14T19:57:02.527049Z",
     "shell.execute_reply": "2022-07-14T19:57:02.526103Z"
    },
    "papermill": {
     "duration": 3.061423,
     "end_time": "2022-07-14T19:57:02.528922",
     "exception": false,
     "start_time": "2022-07-14T19:56:59.467499",
     "status": "completed"
    },
    "tags": []
   },
   "outputs": [
    {
     "data": {
      "image/png": "[encoded data removed]",
      "text/plain": [
       "<Figure size 1152x432 with 10 Axes>"
      ]
     },
     "metadata": {
      "needs_background": "light"
     },
     "output_type": "display_data"
    }
   ],
   "source": [
    "def plot_per_digit_probabilities(y_pred_probs):\n",
    "    fig, axs = plt.subplots(nrows=2, ncols=5, figsize=(16, 6))\n",
    "\n",
    "    for (r, c), digit, ax in zip(\n",
    "        it.product(range(2), range(5)), range(10), axs.reshape(-1)\n",
    "    ):\n",
    "        ax.hist(y_pred_probs_test[:, digit], bins=20)\n",
    "\n",
    "        ax.set_title(f\"Digit {digit}\")\n",
    "        if r == 1 and c == 2:\n",
    "            ax.set_xlabel(\"probability\", fontsize=16)\n",
    "\n",
    "        if c == 0:\n",
    "            ax.set_ylabel(\"counts\", fontsize=16)\n",
    "        ax.set_yscale(\"log\")\n",
    "\n",
    "    fig.tight_layout()\n",
    "    fig.suptitle(\n",
    "        f\"Distributions of prediction probabilities for each digit \"\n",
    "        f\"(on evaluation data, n={y_pred_probs.shape[0]})\",\n",
    "        fontsize=20,\n",
    "    )\n",
    "    fig.tight_layout()\n",
    "    fig.show()\n",
    "\n",
    "    return fig\n",
    "\n",
    "\n",
    "fig = plot_per_digit_probabilities(y_pred_probs_test)"
   ]
  },
  {
   "cell_type": "markdown",
   "id": "b1ae92b8",
   "metadata": {
    "papermill": {
     "duration": 0.007669,
     "end_time": "2022-07-14T19:57:02.542400",
     "exception": false,
     "start_time": "2022-07-14T19:57:02.534731",
     "status": "completed"
    },
    "tags": []
   },
   "source": [
    "From the above distributions we see that most digits have clear separation between\n",
    "high and lower probabilities. Morover, in each case there is roughly an order of\n",
    "magnitude more of digits with low probabilities. This is compatible with digits\n",
    "being roughly evenly distributed in the data."
   ]
  },
  {
   "cell_type": "code",
   "execution_count": 13,
   "id": "290800a3",
   "metadata": {
    "execution": {
     "iopub.execute_input": "2022-07-14T19:57:02.563677Z",
     "iopub.status.busy": "2022-07-14T19:57:02.562962Z",
     "iopub.status.idle": "2022-07-14T19:57:03.040003Z",
     "shell.execute_reply": "2022-07-14T19:57:03.039404Z"
    },
    "papermill": {
     "duration": 0.485078,
     "end_time": "2022-07-14T19:57:03.041879",
     "exception": false,
     "start_time": "2022-07-14T19:57:02.556801",
     "status": "completed"
    },
    "tags": []
   },
   "outputs": [],
   "source": [
    "logger.log_figure(\"per-digit-probabilities.png\", fig)"
   ]
  },
  {
   "cell_type": "markdown",
   "id": "fcd92b53",
   "metadata": {
    "papermill": {
     "duration": 0.00518,
     "end_time": "2022-07-14T19:57:03.052661",
     "exception": false,
     "start_time": "2022-07-14T19:57:03.047481",
     "status": "completed"
    },
    "tags": []
   },
   "source": [
    "### Plot ROC curves for individual one-vs-rest classifiers"
   ]
  },
  {
   "cell_type": "code",
   "execution_count": 14,
   "id": "7ebc8446",
   "metadata": {
    "execution": {
     "iopub.execute_input": "2022-07-14T19:57:03.064276Z",
     "iopub.status.busy": "2022-07-14T19:57:03.064020Z",
     "iopub.status.idle": "2022-07-14T19:57:03.448176Z",
     "shell.execute_reply": "2022-07-14T19:57:03.447578Z"
    },
    "papermill": {
     "duration": 0.391829,
     "end_time": "2022-07-14T19:57:03.449992",
     "exception": false,
     "start_time": "2022-07-14T19:57:03.058163",
     "status": "completed"
    },
    "tags": []
   },
   "outputs": [],
   "source": [
    "from sklearn import metrics"
   ]
  },
  {
   "cell_type": "code",
   "execution_count": 15,
   "id": "8af6b7b3",
   "metadata": {
    "execution": {
     "iopub.execute_input": "2022-07-14T19:57:03.462852Z",
     "iopub.status.busy": "2022-07-14T19:57:03.462571Z",
     "iopub.status.idle": "2022-07-14T19:57:04.515411Z",
     "shell.execute_reply": "2022-07-14T19:57:04.514871Z"
    },
    "papermill": {
     "duration": 1.061172,
     "end_time": "2022-07-14T19:57:04.517002",
     "exception": false,
     "start_time": "2022-07-14T19:57:03.455830",
     "status": "completed"
    },
    "tags": []
   },
   "outputs": [
    {
     "data": {
      "image/png": "[encoded data removed]",
      "text/plain": [
       "<Figure size 1152x576 with 10 Axes>"
      ]
     },
     "metadata": {
      "needs_background": "light"
     },
     "output_type": "display_data"
    }
   ],
   "source": [
    "def plot_roc_curves(y, y_pred_probs):\n",
    "    # based on example code\n",
    "    # https://scikit-learn.org/stable/auto_examples/model_selection/plot_roc.html\n",
    "\n",
    "    fig, axs = plt.subplots(nrows=2, ncols=5, figsize=(16, 8))\n",
    "\n",
    "    roc_auc_dict = {}\n",
    "\n",
    "    for (r, c), digit, ax in zip(\n",
    "        it.product(range(2), range(5)), range(10), axs.reshape(-1)\n",
    "    ):\n",
    "        fpr, tpr, _ = metrics.roc_curve(y == digit, y_pred_probs[:, digit])\n",
    "        auc = metrics.auc(fpr, tpr)\n",
    "        roc_auc_dict[str(digit)] = auc\n",
    "\n",
    "        ax.plot(fpr, tpr, label=f\"ROC AUC={round(auc, 3)}\")\n",
    "\n",
    "        ax.set_title(f\"\\nDigit {digit}\", fontsize=16)\n",
    "        if r == 1:\n",
    "            ax.set_xlabel(\"FPR\", fontsize=18)\n",
    "\n",
    "        if c == 0:\n",
    "            ax.set_ylabel(\"TPR\", fontsize=18)\n",
    "\n",
    "        ax.set_xlim([-0.05, 1.05])\n",
    "        ax.set_ylim([-0.05, 1.05])\n",
    "        ax.legend(loc=\"lower right\", frameon=False, fontsize=14)\n",
    "\n",
    "    fig.tight_layout()\n",
    "    fig.suptitle(\n",
    "        f\"ROC plots for one-vs-rest performances \"\n",
    "        f\"(on evaluation data, n={y_pred_probs_test.shape[1]}\",\n",
    "        fontsize=22,\n",
    "    )\n",
    "    fig.tight_layout()\n",
    "    fig.show()\n",
    "\n",
    "    return roc_auc_dict, fig\n",
    "\n",
    "\n",
    "roc_auc_dict, fig = plot_roc_curves(y_test, y_pred_probs_test)"
   ]
  },
  {
   "cell_type": "code",
   "execution_count": 16,
   "id": "979540bc",
   "metadata": {
    "execution": {
     "iopub.execute_input": "2022-07-14T19:57:04.531526Z",
     "iopub.status.busy": "2022-07-14T19:57:04.531255Z",
     "iopub.status.idle": "2022-07-14T19:57:04.759271Z",
     "shell.execute_reply": "2022-07-14T19:57:04.758700Z"
    },
    "papermill": {
     "duration": 0.239534,
     "end_time": "2022-07-14T19:57:04.763200",
     "exception": false,
     "start_time": "2022-07-14T19:57:04.523666",
     "status": "completed"
    },
    "tags": []
   },
   "outputs": [],
   "source": [
    "logger.log_figure(\"per-digit-roc-curves.png\", fig)"
   ]
  },
  {
   "cell_type": "code",
   "execution_count": 17,
   "id": "d6242ef0",
   "metadata": {
    "execution": {
     "iopub.execute_input": "2022-07-14T19:57:04.777519Z",
     "iopub.status.busy": "2022-07-14T19:57:04.777217Z",
     "iopub.status.idle": "2022-07-14T19:57:04.781717Z",
     "shell.execute_reply": "2022-07-14T19:57:04.781181Z"
    },
    "papermill": {
     "duration": 0.015752,
     "end_time": "2022-07-14T19:57:04.785477",
     "exception": false,
     "start_time": "2022-07-14T19:57:04.769725",
     "status": "completed"
    },
    "tags": []
   },
   "outputs": [
    {
     "data": {
      "text/plain": [
       "{'0': 1.0,\n",
       " '1': 0.9996626054358013,\n",
       " '2': 1.0,\n",
       " '3': 0.9997000937207123,\n",
       " '4': 1.0,\n",
       " '5': 0.9987628865979381,\n",
       " '6': 0.999961896052431,\n",
       " '7': 0.9998856881572931,\n",
       " '8': 0.9921973518284994,\n",
       " '9': 0.9988949855204999}"
      ]
     },
     "execution_count": 17,
     "metadata": {},
     "output_type": "execute_result"
    }
   ],
   "source": [
    "roc_auc_dict"
   ]
  },
  {
   "cell_type": "code",
   "execution_count": 18,
   "id": "6d56155c",
   "metadata": {
    "execution": {
     "iopub.execute_input": "2022-07-14T19:57:04.805506Z",
     "iopub.status.busy": "2022-07-14T19:57:04.804744Z",
     "iopub.status.idle": "2022-07-14T19:57:04.809627Z",
     "shell.execute_reply": "2022-07-14T19:57:04.809052Z"
    },
    "papermill": {
     "duration": 0.021531,
     "end_time": "2022-07-14T19:57:04.813278",
     "exception": false,
     "start_time": "2022-07-14T19:57:04.791747",
     "status": "completed"
    },
    "tags": []
   },
   "outputs": [
    {
     "name": "stdout",
     "output_type": "stream",
     "text": [
      " - Logging roc_auc_per_digit (json) : {'0': 1.0, '1': 0.9996626054358013, '2': 1.0, '3': 0.9997000937207123, '4': 1.0, '5': 0.9987628865979381, '6': 0.999961896052431, '7': 0.9998856881572931, '8': 0.9921973518284994, '9': 0.9988949855204999}\n"
     ]
    }
   ],
   "source": [
    "logger.log_value(\"roc_auc_per_digit\", roc_auc_dict)"
   ]
  },
  {
   "cell_type": "markdown",
   "id": "9c235ee2",
   "metadata": {
    "papermill": {
     "duration": 0.006351,
     "end_time": "2022-07-14T19:57:04.825880",
     "exception": false,
     "start_time": "2022-07-14T19:57:04.819529",
     "status": "completed"
    },
    "tags": []
   },
   "source": [
    "### Compute and log mean ROC AUC score averaged over all digits"
   ]
  },
  {
   "cell_type": "code",
   "execution_count": 19,
   "id": "d78012ca",
   "metadata": {
    "execution": {
     "iopub.execute_input": "2022-07-14T19:57:04.839879Z",
     "iopub.status.busy": "2022-07-14T19:57:04.839511Z",
     "iopub.status.idle": "2022-07-14T19:57:04.854385Z",
     "shell.execute_reply": "2022-07-14T19:57:04.853536Z"
    },
    "papermill": {
     "duration": 0.023756,
     "end_time": "2022-07-14T19:57:04.855879",
     "exception": false,
     "start_time": "2022-07-14T19:57:04.832123",
     "status": "completed"
    },
    "tags": []
   },
   "outputs": [
    {
     "name": "stdout",
     "output_type": "stream",
     "text": [
      " - Logging roc_auc_class_mean (float) : 0.9989065507313176\n"
     ]
    }
   ],
   "source": [
    "roc_auc_macro = np.mean(list(roc_auc_dict.values()))\n",
    "\n",
    "logger.log_float(\"roc_auc_class_mean\", roc_auc_macro)\n",
    "\n",
    "# assert that the same value can be computed directly using sklearn\n",
    "assert roc_auc_macro == metrics.roc_auc_score(\n",
    "    y_test, y_pred_probs_test, average=\"macro\", multi_class=\"ovr\"\n",
    ")"
   ]
  },
  {
   "cell_type": "code",
   "execution_count": 20,
   "id": "b4965cde",
   "metadata": {
    "execution": {
     "iopub.execute_input": "2022-07-14T19:57:04.875035Z",
     "iopub.status.busy": "2022-07-14T19:57:04.873870Z",
     "iopub.status.idle": "2022-07-14T19:57:04.877733Z",
     "shell.execute_reply": "2022-07-14T19:57:04.877063Z"
    },
    "lines_to_next_cell": 0,
    "papermill": {
     "duration": 0.013947,
     "end_time": "2022-07-14T19:57:04.880033",
     "exception": false,
     "start_time": "2022-07-14T19:57:04.866086",
     "status": "completed"
    },
    "tags": []
   },
   "outputs": [],
   "source": [
    "# ---"
   ]
  },
  {
   "cell_type": "code",
   "execution_count": null,
   "id": "08d54749",
   "metadata": {
    "papermill": {
     "duration": 0.006175,
     "end_time": "2022-07-14T19:57:04.892452",
     "exception": false,
     "start_time": "2022-07-14T19:57:04.886277",
     "status": "completed"
    },
    "tags": []
   },
   "outputs": [],
   "source": []
  }
 ],
 "metadata": {
  "jupytext": {
   "cell_metadata_filter": "tags,-all",
   "main_language": "python",
   "notebook_metadata_filter": "-all"
  },
  "language_info": {
   "codemirror_mode": {
    "name": "ipython",
    "version": 3
   },
   "file_extension": ".py",
   "mimetype": "text/x-python",
   "name": "python",
   "nbconvert_exporter": "python",
   "pygments_lexer": "ipython3",
   "version": "3.8.10"
  },
  "papermill": {
   "default_parameters": {},
   "duration": 9.653927,
   "end_time": "2022-07-14T19:57:06.018885",
   "environment_variables": {},
   "exception": null,
   "input_path": "/home/host_user/workspace/mnist-demo-pipeline/mnist-demo-pipeline/notebooks/temp-notebook-2m7g4ikf.ipynb",
   "output_path": "notebooks/benchmark-model.ipynb",
   "parameters": {
    "P": {
     "_opentelemetry_traceparent": "00-7fe56a2882a4c11ac86715a3e8709335-4e3cc10ce9e07e25-01",
     "pipeline.data_lake_root": "/pipeline-outputs/data-lake",
     "pipeline.github.actor": "matiasdahl",
     "pipeline.github.base_ref": "development",
     "pipeline.github.event_name": "pull_request",
     "pipeline.github.head_ref": "try-C-hyperparameter",
     "pipeline.github.job": "run-tests-pipeline-and-persist-pipeline-outputs",
     "pipeline.github.ref": "refs/pull/55/merge",
     "pipeline.github.ref_name": "55/merge",
     "pipeline.github.ref_type": "branch",
     "pipeline.github.repository": "pynb-dag-runner/mnist-digits-demo-pipeline",
     "pipeline.github.run_id": "2672052849",
     "pipeline.github.runner_name": "GitHub Actions 2",
     "pipeline.github.sha": "1150ca0bf632c46a3bc0535697829c0df0420613",
     "pipeline.github.workflow": "Run automated tests, pipeline and deploy results to static reporting site",
     "pipeline.pipeline_run_id": "dbdb850f-5389-4750-8eb5-e33e33c83848",
     "pipeline.run_environment": "ci",
     "run.retry_nr": "0",
     "task.max_nr_retries": "1",
     "task.notebook": "notebooks/benchmark-model.py",
     "task.nr_train_images": 600,
     "task.num_cpus": 1,
     "task.timeout_s": "None"
    }
   },
   "start_time": "2022-07-14T19:56:56.364958",
   "version": "2.3.3"
  }
 },
 "nbformat": 4,
 "nbformat_minor": 5
}