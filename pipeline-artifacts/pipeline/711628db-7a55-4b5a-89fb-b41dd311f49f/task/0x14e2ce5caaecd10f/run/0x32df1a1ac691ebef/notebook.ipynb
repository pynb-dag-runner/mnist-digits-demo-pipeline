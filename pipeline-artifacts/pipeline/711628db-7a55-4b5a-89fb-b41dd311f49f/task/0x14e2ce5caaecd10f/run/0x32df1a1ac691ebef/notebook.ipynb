{
 "cells": [
  {
   "cell_type": "markdown",
   "id": "7734d6fa",
   "metadata": {
    "papermill": {
     "duration": 0.006944,
     "end_time": "2022-07-18T11:25:30.078432",
     "exception": false,
     "start_time": "2022-07-18T11:25:30.071488",
     "status": "completed"
    },
    "tags": []
   },
   "source": [
    "# Train model\n",
    "\n",
    "The purpose of this notebook is:\n",
    "\n",
    "- Load all training data (images and labels).\n",
    "- Limit number of train images to `task.nr_train_images` (value provided as run parameter).\n",
    "- Train a support vector machine model using sklearn.\n",
    "- Persist the trained model using the ONNX format."
   ]
  },
  {
   "cell_type": "markdown",
   "id": "4087ed6f",
   "metadata": {
    "papermill": {
     "duration": 0.00682,
     "end_time": "2022-07-18T11:25:30.089966",
     "exception": false,
     "start_time": "2022-07-18T11:25:30.083146",
     "status": "completed"
    },
    "tags": []
   },
   "source": [
    "### Determine run parameters"
   ]
  },
  {
   "cell_type": "code",
   "execution_count": 1,
   "id": "9cd616c1",
   "metadata": {
    "execution": {
     "iopub.execute_input": "2022-07-18T11:25:30.101068Z",
     "iopub.status.busy": "2022-07-18T11:25:30.099903Z",
     "iopub.status.idle": "2022-07-18T11:25:30.112892Z",
     "shell.execute_reply": "2022-07-18T11:25:30.111877Z"
    },
    "lines_to_next_cell": 0,
    "papermill": {
     "duration": 0.021191,
     "end_time": "2022-07-18T11:25:30.115176",
     "exception": false,
     "start_time": "2022-07-18T11:25:30.093985",
     "status": "completed"
    },
    "tags": []
   },
   "outputs": [],
   "source": [
    "# ----------------- Parameters for interactive development --------------\n",
    "P = {\n",
    "    \"pipeline.data_lake_root\": \"/pipeline-outputs/data-lake\",\n",
    "    \"task.nr_train_images\": 600,\n",
    "}"
   ]
  },
  {
   "cell_type": "code",
   "execution_count": 2,
   "id": "8d3b24f0",
   "metadata": {
    "execution": {
     "iopub.execute_input": "2022-07-18T11:25:30.124369Z",
     "iopub.status.busy": "2022-07-18T11:25:30.124060Z",
     "iopub.status.idle": "2022-07-18T11:25:30.128119Z",
     "shell.execute_reply": "2022-07-18T11:25:30.127007Z"
    },
    "lines_to_next_cell": 0,
    "papermill": {
     "duration": 0.012789,
     "end_time": "2022-07-18T11:25:30.131504",
     "exception": false,
     "start_time": "2022-07-18T11:25:30.118715",
     "status": "completed"
    },
    "tags": [
     "parameters"
    ]
   },
   "outputs": [],
   "source": [
    "# - During automated runs parameters will be injected in the below cell -"
   ]
  },
  {
   "cell_type": "code",
   "execution_count": 3,
   "id": "a74e4a2b",
   "metadata": {
    "execution": {
     "iopub.execute_input": "2022-07-18T11:25:30.140189Z",
     "iopub.status.busy": "2022-07-18T11:25:30.139867Z",
     "iopub.status.idle": "2022-07-18T11:25:30.145326Z",
     "shell.execute_reply": "2022-07-18T11:25:30.144623Z"
    },
    "papermill": {
     "duration": 0.013412,
     "end_time": "2022-07-18T11:25:30.148554",
     "exception": false,
     "start_time": "2022-07-18T11:25:30.135142",
     "status": "completed"
    },
    "tags": [
     "injected-parameters"
    ]
   },
   "outputs": [],
   "source": [
    "# Parameters\n",
    "P = {\n",
    "    \"pipeline.data_lake_root\": \"/pipeline-outputs/data-lake\",\n",
    "    \"pipeline.run_environment\": \"ci\",\n",
    "    \"pipeline.pipeline_run_id\": \"711628db-7a55-4b5a-89fb-b41dd311f49f\",\n",
    "    \"pipeline.github.repository\": \"pynb-dag-runner/mnist-digits-demo-pipeline\",\n",
    "    \"pipeline.github.workflow\": \"Run automated tests, pipeline and deploy results to static reporting site\",\n",
    "    \"pipeline.github.runner_name\": \"GitHub Actions 2\",\n",
    "    \"pipeline.github.run_id\": \"2690097514\",\n",
    "    \"pipeline.github.actor\": \"matiasdahl\",\n",
    "    \"pipeline.github.job\": \"run-tests-pipeline-and-persist-pipeline-outputs\",\n",
    "    \"pipeline.github.base_ref\": \"development\",\n",
    "    \"pipeline.github.head_ref\": \"graph-parsing\",\n",
    "    \"pipeline.github.sha\": \"8283f417a1f6964b1fa1c6cda8e5c5ec877446d4\",\n",
    "    \"pipeline.github.ref\": \"refs/pull/57/merge\",\n",
    "    \"pipeline.github.ref_type\": \"branch\",\n",
    "    \"pipeline.github.ref_name\": \"57/merge\",\n",
    "    \"pipeline.github.event_name\": \"pull_request\",\n",
    "    \"task.nr_train_images\": 1000,\n",
    "    \"task.notebook\": \"notebooks/train-model.py\",\n",
    "    \"task.max_nr_retries\": \"1\",\n",
    "    \"run.retry_nr\": \"0\",\n",
    "    \"task.timeout_s\": \"None\",\n",
    "    \"task.num_cpus\": 1,\n",
    "    \"_opentelemetry_traceparent\": \"00-b0e446e89b17bdeb058dbb10a0b42255-cd5931f89813c89c-01\",\n",
    "}\n"
   ]
  },
  {
   "cell_type": "code",
   "execution_count": 4,
   "id": "d4ab610a",
   "metadata": {
    "execution": {
     "iopub.execute_input": "2022-07-18T11:25:30.156588Z",
     "iopub.status.busy": "2022-07-18T11:25:30.156306Z",
     "iopub.status.idle": "2022-07-18T11:25:30.159855Z",
     "shell.execute_reply": "2022-07-18T11:25:30.158990Z"
    },
    "lines_to_next_cell": 0,
    "papermill": {
     "duration": 0.01116,
     "end_time": "2022-07-18T11:25:30.163188",
     "exception": false,
     "start_time": "2022-07-18T11:25:30.152028",
     "status": "completed"
    },
    "tags": []
   },
   "outputs": [],
   "source": [
    "# -----------------------------------------------------------------------"
   ]
  },
  {
   "cell_type": "markdown",
   "id": "f1dc72ad",
   "metadata": {
    "papermill": {
     "duration": 0.004429,
     "end_time": "2022-07-18T11:25:30.170872",
     "exception": false,
     "start_time": "2022-07-18T11:25:30.166443",
     "status": "completed"
    },
    "tags": []
   },
   "source": [
    "---"
   ]
  },
  {
   "cell_type": "markdown",
   "id": "120d3229",
   "metadata": {
    "lines_to_next_cell": 2,
    "papermill": {
     "duration": 0.006382,
     "end_time": "2022-07-18T11:25:30.181357",
     "exception": false,
     "start_time": "2022-07-18T11:25:30.174975",
     "status": "completed"
    },
    "tags": []
   },
   "source": [
    "### Notebook code"
   ]
  },
  {
   "cell_type": "code",
   "execution_count": 5,
   "id": "0ac77d71",
   "metadata": {
    "execution": {
     "iopub.execute_input": "2022-07-18T11:25:30.193578Z",
     "iopub.status.busy": "2022-07-18T11:25:30.193265Z",
     "iopub.status.idle": "2022-07-18T11:25:30.752788Z",
     "shell.execute_reply": "2022-07-18T11:25:30.751831Z"
    },
    "papermill": {
     "duration": 0.567816,
     "end_time": "2022-07-18T11:25:30.755494",
     "exception": false,
     "start_time": "2022-07-18T11:25:30.187678",
     "status": "completed"
    },
    "tags": []
   },
   "outputs": [
    {
     "name": "stderr",
     "output_type": "stream",
     "text": [
      "2022-07-18 11:25:30,577\tINFO worker.py:842 -- Connecting to existing Ray cluster at address: 172.17.0.2:6379\n"
     ]
    }
   ],
   "source": [
    "from pynb_dag_runner.tasks.task_opentelemetry_logging import PydarLogger\n",
    "\n",
    "logger = PydarLogger(P)"
   ]
  },
  {
   "cell_type": "markdown",
   "id": "5390be49",
   "metadata": {
    "papermill": {
     "duration": 0.004103,
     "end_time": "2022-07-18T11:25:30.766398",
     "exception": false,
     "start_time": "2022-07-18T11:25:30.762295",
     "status": "completed"
    },
    "tags": []
   },
   "source": [
    "## Load and limit train data"
   ]
  },
  {
   "cell_type": "code",
   "execution_count": 6,
   "id": "c1315249",
   "metadata": {
    "execution": {
     "iopub.execute_input": "2022-07-18T11:25:30.779349Z",
     "iopub.status.busy": "2022-07-18T11:25:30.777907Z",
     "iopub.status.idle": "2022-07-18T11:25:31.317326Z",
     "shell.execute_reply": "2022-07-18T11:25:31.316263Z"
    },
    "papermill": {
     "duration": 0.54816,
     "end_time": "2022-07-18T11:25:31.320348",
     "exception": false,
     "start_time": "2022-07-18T11:25:30.772188",
     "status": "completed"
    },
    "tags": []
   },
   "outputs": [],
   "source": [
    "def load_and_limit_train_data(P):\n",
    "    from common.io import datalake_root, read_numpy\n",
    "    from sklearn.model_selection import train_test_split\n",
    "\n",
    "    X_train_all = read_numpy(datalake_root(P) / \"train-data\" / \"digits.numpy\")\n",
    "    y_train_all = read_numpy(datalake_root(P) / \"train-data\" / \"labels.numpy\")\n",
    "\n",
    "    assert isinstance(P[\"task.nr_train_images\"], int)\n",
    "\n",
    "    # Note: train_test_split will fail if split is 0 or 100%.\n",
    "    assert 0 < P[\"task.nr_train_images\"] < len(y_train_all)\n",
    "\n",
    "    X_train, _, y_train, _ = train_test_split(\n",
    "        X_train_all,\n",
    "        y_train_all,\n",
    "        train_size=P[\"task.nr_train_images\"],\n",
    "        test_size=None,\n",
    "        stratify=y_train_all,\n",
    "        shuffle=True,\n",
    "        random_state=123,\n",
    "    )\n",
    "\n",
    "    assert X_train.shape == (len(y_train), 8 * 8)\n",
    "    return X_train, y_train\n",
    "\n",
    "\n",
    "X_train, y_train = load_and_limit_train_data(P)"
   ]
  },
  {
   "cell_type": "markdown",
   "id": "de05f3ca",
   "metadata": {
    "papermill": {
     "duration": 0.004215,
     "end_time": "2022-07-18T11:25:31.329162",
     "exception": false,
     "start_time": "2022-07-18T11:25:31.324947",
     "status": "completed"
    },
    "tags": []
   },
   "source": [
    "## Train support vector classifier model\n",
    "\n",
    "Below we assume that the hyperparameter $C$ is known.\n",
    "\n",
    "However, this should ideally be found by a hyperparameter search. That could be\n",
    "done in parallel on the Ray cluster, but this needs some more work. Ie., to use\n",
    "multiple cores in the notebook, those cores should be reserved when starting the\n",
    "notebook task (TODO).\n",
    "\n",
    "- https://docs.ray.io/en/latest/tune/key-concepts.html\n",
    "\n",
    "Note: cv-scores would need to be computed here, since they depend on the train data.\n",
    "After this notebook only the onnx-model is available."
   ]
  },
  {
   "cell_type": "code",
   "execution_count": 7,
   "id": "a2985131",
   "metadata": {
    "execution": {
     "iopub.execute_input": "2022-07-18T11:25:31.341264Z",
     "iopub.status.busy": "2022-07-18T11:25:31.340390Z",
     "iopub.status.idle": "2022-07-18T11:25:31.370313Z",
     "shell.execute_reply": "2022-07-18T11:25:31.369247Z"
    },
    "papermill": {
     "duration": 0.039397,
     "end_time": "2022-07-18T11:25:31.372857",
     "exception": false,
     "start_time": "2022-07-18T11:25:31.333460",
     "status": "completed"
    },
    "tags": []
   },
   "outputs": [],
   "source": [
    "from sklearn.svm import SVC"
   ]
  },
  {
   "cell_type": "code",
   "execution_count": 8,
   "id": "acefde4b",
   "metadata": {
    "execution": {
     "iopub.execute_input": "2022-07-18T11:25:31.384382Z",
     "iopub.status.busy": "2022-07-18T11:25:31.383627Z",
     "iopub.status.idle": "2022-07-18T11:25:31.601615Z",
     "shell.execute_reply": "2022-07-18T11:25:31.600394Z"
    },
    "papermill": {
     "duration": 0.226092,
     "end_time": "2022-07-18T11:25:31.603866",
     "exception": false,
     "start_time": "2022-07-18T11:25:31.377774",
     "status": "completed"
    },
    "tags": []
   },
   "outputs": [
    {
     "data": {
      "text/plain": [
       "SVC(C=0.001, kernel='linear', probability=True)"
      ]
     },
     "execution_count": 8,
     "metadata": {},
     "output_type": "execute_result"
    }
   ],
   "source": [
    "model = SVC(C=0.001, kernel=\"linear\", probability=True)\n",
    "\n",
    "model.fit(X_train, y_train)"
   ]
  },
  {
   "cell_type": "markdown",
   "id": "136de1ff",
   "metadata": {
    "papermill": {
     "duration": 0.008013,
     "end_time": "2022-07-18T11:25:31.616578",
     "exception": false,
     "start_time": "2022-07-18T11:25:31.608565",
     "status": "completed"
    },
    "tags": []
   },
   "source": [
    "### Q: Can the labels returned by `predict(..)` be computed from probabilities returned by the `predict_prob`-method?"
   ]
  },
  {
   "cell_type": "code",
   "execution_count": 9,
   "id": "11eeb5b6",
   "metadata": {
    "execution": {
     "iopub.execute_input": "2022-07-18T11:25:31.627849Z",
     "iopub.status.busy": "2022-07-18T11:25:31.627144Z",
     "iopub.status.idle": "2022-07-18T11:25:31.730238Z",
     "shell.execute_reply": "2022-07-18T11:25:31.727981Z"
    },
    "papermill": {
     "duration": 0.111391,
     "end_time": "2022-07-18T11:25:31.732424",
     "exception": false,
     "start_time": "2022-07-18T11:25:31.621033",
     "status": "completed"
    },
    "tags": []
   },
   "outputs": [
    {
     "name": "stdout",
     "output_type": "stream",
     "text": [
      " - Logging nr_max_prob_neq_label (int) : 2\n"
     ]
    }
   ],
   "source": [
    "import numpy as np\n",
    "\n",
    "y_train_labels = model.predict(X_train)\n",
    "y_train_probabilities = model.predict_proba(X_train)\n",
    "assert y_train_probabilities.shape == (len(y_train), 10)\n",
    "\n",
    "y_train_max_prob_labels = np.argmax(y_train_probabilities, axis=1)\n",
    "assert y_train_labels.shape == y_train_max_prob_labels.shape == y_train.shape\n",
    "\n",
    "# If the predicted labels would coincide with the labels that have\n",
    "# maximum probability, the below number would be zero\n",
    "logger.log_int(\n",
    "    \"nr_max_prob_neq_label\", int(sum(y_train_max_prob_labels != y_train_labels))\n",
    ")"
   ]
  },
  {
   "cell_type": "markdown",
   "id": "47d29622",
   "metadata": {
    "papermill": {
     "duration": 0.005451,
     "end_time": "2022-07-18T11:25:31.742709",
     "exception": false,
     "start_time": "2022-07-18T11:25:31.737258",
     "status": "completed"
    },
    "tags": []
   },
   "source": [
    "The explanation is (likely) explained in the SVC source, see\n",
    "[here](https://github.com/scikit-learn/scikit-learn/blob/main/sklearn/svm/_base.py).\n",
    "Namely, the outputs from `predict(..)` and `predict_proba(..)` may not in some\n",
    "cases be compatible since the latter is computed using cross-validation while\n",
    "the former is not. Thus, the above number need not be zero."
   ]
  },
  {
   "cell_type": "markdown",
   "id": "5f7f125f",
   "metadata": {
    "papermill": {
     "duration": 0.005252,
     "end_time": "2022-07-18T11:25:31.753587",
     "exception": false,
     "start_time": "2022-07-18T11:25:31.748335",
     "status": "completed"
    },
    "tags": []
   },
   "source": [
    "## Persist model"
   ]
  },
  {
   "cell_type": "code",
   "execution_count": 10,
   "id": "5c72265b",
   "metadata": {
    "execution": {
     "iopub.execute_input": "2022-07-18T11:25:31.765966Z",
     "iopub.status.busy": "2022-07-18T11:25:31.765632Z",
     "iopub.status.idle": "2022-07-18T11:25:32.801712Z",
     "shell.execute_reply": "2022-07-18T11:25:32.800732Z"
    },
    "papermill": {
     "duration": 1.045595,
     "end_time": "2022-07-18T11:25:32.803880",
     "exception": false,
     "start_time": "2022-07-18T11:25:31.758285",
     "status": "completed"
    },
    "tags": []
   },
   "outputs": [],
   "source": [
    "from skl2onnx import convert_sklearn\n",
    "from skl2onnx.common.data_types import FloatTensorType\n",
    "\n",
    "#\n",
    "from common.io import datalake_root, write_onnx"
   ]
  },
  {
   "cell_type": "code",
   "execution_count": 11,
   "id": "4e476579",
   "metadata": {
    "execution": {
     "iopub.execute_input": "2022-07-18T11:25:32.814472Z",
     "iopub.status.busy": "2022-07-18T11:25:32.814061Z",
     "iopub.status.idle": "2022-07-18T11:25:32.878050Z",
     "shell.execute_reply": "2022-07-18T11:25:32.876824Z"
    },
    "papermill": {
     "duration": 0.072163,
     "end_time": "2022-07-18T11:25:32.880435",
     "exception": false,
     "start_time": "2022-07-18T11:25:32.808272",
     "status": "completed"
    },
    "tags": []
   },
   "outputs": [],
   "source": [
    "# convert sklearn model into onnx and persist to data lake\n",
    "\n",
    "model_onnx = convert_sklearn(\n",
    "    model, initial_types=[(\"float_input_8x8_image\", FloatTensorType([None, 8 * 8]))]\n",
    ")\n",
    "write_onnx(\n",
    "    datalake_root(P)\n",
    "    / \"models\"\n",
    "    / f\"nr_train_images={P['task.nr_train_images']}\"\n",
    "    / \"model.onnx\",\n",
    "    model_onnx,\n",
    ")"
   ]
  },
  {
   "cell_type": "code",
   "execution_count": null,
   "id": "d17dd9c5",
   "metadata": {
    "papermill": {
     "duration": 0.004068,
     "end_time": "2022-07-18T11:25:32.888972",
     "exception": false,
     "start_time": "2022-07-18T11:25:32.884904",
     "status": "completed"
    },
    "tags": []
   },
   "outputs": [],
   "source": []
  }
 ],
 "metadata": {
  "jupytext": {
   "cell_metadata_filter": "tags,-all",
   "main_language": "python",
   "notebook_metadata_filter": "-all"
  },
  "language_info": {
   "codemirror_mode": {
    "name": "ipython",
    "version": 3
   },
   "file_extension": ".py",
   "mimetype": "text/x-python",
   "name": "python",
   "nbconvert_exporter": "python",
   "pygments_lexer": "ipython3",
   "version": "3.8.10"
  },
  "papermill": {
   "default_parameters": {},
   "duration": 5.449212,
   "end_time": "2022-07-18T11:25:34.113978",
   "environment_variables": {},
   "exception": null,
   "input_path": "/home/host_user/workspace/mnist-demo-pipeline/mnist-demo-pipeline/notebooks/temp-notebook-g6v1xmw2.ipynb",
   "output_path": "notebooks/train-model.ipynb",
   "parameters": {
    "P": {
     "_opentelemetry_traceparent": "00-b0e446e89b17bdeb058dbb10a0b42255-cd5931f89813c89c-01",
     "pipeline.data_lake_root": "/pipeline-outputs/data-lake",
     "pipeline.github.actor": "matiasdahl",
     "pipeline.github.base_ref": "development",
     "pipeline.github.event_name": "pull_request",
     "pipeline.github.head_ref": "graph-parsing",
     "pipeline.github.job": "run-tests-pipeline-and-persist-pipeline-outputs",
     "pipeline.github.ref": "refs/pull/57/merge",
     "pipeline.github.ref_name": "57/merge",
     "pipeline.github.ref_type": "branch",
     "pipeline.github.repository": "pynb-dag-runner/mnist-digits-demo-pipeline",
     "pipeline.github.run_id": "2690097514",
     "pipeline.github.runner_name": "GitHub Actions 2",
     "pipeline.github.sha": "8283f417a1f6964b1fa1c6cda8e5c5ec877446d4",
     "pipeline.github.workflow": "Run automated tests, pipeline and deploy results to static reporting site",
     "pipeline.pipeline_run_id": "711628db-7a55-4b5a-89fb-b41dd311f49f",
     "pipeline.run_environment": "ci",
     "run.retry_nr": "0",
     "task.max_nr_retries": "1",
     "task.notebook": "notebooks/train-model.py",
     "task.nr_train_images": 1000,
     "task.num_cpus": 1,
     "task.timeout_s": "None"
    }
   },
   "start_time": "2022-07-18T11:25:28.664766",
   "version": "2.3.3"
  }
 },
 "nbformat": 4,
 "nbformat_minor": 5
}