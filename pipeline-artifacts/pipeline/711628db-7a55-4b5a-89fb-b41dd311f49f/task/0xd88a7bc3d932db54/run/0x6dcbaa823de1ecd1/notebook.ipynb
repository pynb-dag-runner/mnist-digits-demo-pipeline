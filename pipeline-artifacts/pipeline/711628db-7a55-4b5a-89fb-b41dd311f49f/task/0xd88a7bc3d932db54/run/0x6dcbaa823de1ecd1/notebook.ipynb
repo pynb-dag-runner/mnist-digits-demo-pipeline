{
 "cells": [
  {
   "cell_type": "markdown",
   "id": "bfc04a7c",
   "metadata": {
    "papermill": {
     "duration": 0.006301,
     "end_time": "2022-07-18T11:25:37.983201",
     "exception": false,
     "start_time": "2022-07-18T11:25:37.976900",
     "status": "completed"
    },
    "tags": []
   },
   "source": [
    "# Benchmark model\n",
    "\n",
    "The purpose of this notebook is to benchmark persisted onnx-model (trained in the\n",
    "previous step) against evaluation set."
   ]
  },
  {
   "cell_type": "markdown",
   "id": "8aba9333",
   "metadata": {
    "papermill": {
     "duration": 0.011388,
     "end_time": "2022-07-18T11:25:38.000173",
     "exception": false,
     "start_time": "2022-07-18T11:25:37.988785",
     "status": "completed"
    },
    "tags": []
   },
   "source": [
    "### Determine run parameters"
   ]
  },
  {
   "cell_type": "code",
   "execution_count": 1,
   "id": "48ab9bbc",
   "metadata": {
    "execution": {
     "iopub.execute_input": "2022-07-18T11:25:38.014494Z",
     "iopub.status.busy": "2022-07-18T11:25:38.014111Z",
     "iopub.status.idle": "2022-07-18T11:25:38.025043Z",
     "shell.execute_reply": "2022-07-18T11:25:38.024345Z"
    },
    "lines_to_next_cell": 0,
    "papermill": {
     "duration": 0.021485,
     "end_time": "2022-07-18T11:25:38.028677",
     "exception": false,
     "start_time": "2022-07-18T11:25:38.007192",
     "status": "completed"
    },
    "tags": []
   },
   "outputs": [],
   "source": [
    "# ----------------- Parameters for interactive development --------------\n",
    "P = {\n",
    "    \"pipeline.data_lake_root\": \"/pipeline-outputs/data-lake\",\n",
    "    \"task.nr_train_images\": 600,\n",
    "}"
   ]
  },
  {
   "cell_type": "code",
   "execution_count": 2,
   "id": "94bd908c",
   "metadata": {
    "execution": {
     "iopub.execute_input": "2022-07-18T11:25:38.041762Z",
     "iopub.status.busy": "2022-07-18T11:25:38.041474Z",
     "iopub.status.idle": "2022-07-18T11:25:38.045770Z",
     "shell.execute_reply": "2022-07-18T11:25:38.044884Z"
    },
    "lines_to_next_cell": 0,
    "papermill": {
     "duration": 0.014224,
     "end_time": "2022-07-18T11:25:38.049492",
     "exception": false,
     "start_time": "2022-07-18T11:25:38.035268",
     "status": "completed"
    },
    "tags": [
     "parameters"
    ]
   },
   "outputs": [],
   "source": [
    "# - During automated runs parameters will be injected in the below cell -"
   ]
  },
  {
   "cell_type": "code",
   "execution_count": 3,
   "id": "5a6d0668",
   "metadata": {
    "execution": {
     "iopub.execute_input": "2022-07-18T11:25:38.062226Z",
     "iopub.status.busy": "2022-07-18T11:25:38.061933Z",
     "iopub.status.idle": "2022-07-18T11:25:38.068470Z",
     "shell.execute_reply": "2022-07-18T11:25:38.067782Z"
    },
    "papermill": {
     "duration": 0.016185,
     "end_time": "2022-07-18T11:25:38.071715",
     "exception": false,
     "start_time": "2022-07-18T11:25:38.055530",
     "status": "completed"
    },
    "tags": [
     "injected-parameters"
    ]
   },
   "outputs": [],
   "source": [
    "# Parameters\n",
    "P = {\n",
    "    \"pipeline.data_lake_root\": \"/pipeline-outputs/data-lake\",\n",
    "    \"pipeline.run_environment\": \"ci\",\n",
    "    \"pipeline.pipeline_run_id\": \"711628db-7a55-4b5a-89fb-b41dd311f49f\",\n",
    "    \"pipeline.github.repository\": \"pynb-dag-runner/mnist-digits-demo-pipeline\",\n",
    "    \"pipeline.github.workflow\": \"Run automated tests, pipeline and deploy results to static reporting site\",\n",
    "    \"pipeline.github.runner_name\": \"GitHub Actions 2\",\n",
    "    \"pipeline.github.run_id\": \"2690097514\",\n",
    "    \"pipeline.github.actor\": \"matiasdahl\",\n",
    "    \"pipeline.github.job\": \"run-tests-pipeline-and-persist-pipeline-outputs\",\n",
    "    \"pipeline.github.base_ref\": \"development\",\n",
    "    \"pipeline.github.head_ref\": \"graph-parsing\",\n",
    "    \"pipeline.github.sha\": \"8283f417a1f6964b1fa1c6cda8e5c5ec877446d4\",\n",
    "    \"pipeline.github.ref\": \"refs/pull/57/merge\",\n",
    "    \"pipeline.github.ref_type\": \"branch\",\n",
    "    \"pipeline.github.ref_name\": \"57/merge\",\n",
    "    \"pipeline.github.event_name\": \"pull_request\",\n",
    "    \"task.nr_train_images\": 600,\n",
    "    \"task.notebook\": \"notebooks/benchmark-model.py\",\n",
    "    \"task.max_nr_retries\": \"1\",\n",
    "    \"run.retry_nr\": \"0\",\n",
    "    \"task.timeout_s\": \"None\",\n",
    "    \"task.num_cpus\": 1,\n",
    "    \"_opentelemetry_traceparent\": \"00-b0e446e89b17bdeb058dbb10a0b42255-77b52c795a1f38da-01\",\n",
    "}\n"
   ]
  },
  {
   "cell_type": "code",
   "execution_count": 4,
   "id": "73b247a7",
   "metadata": {
    "execution": {
     "iopub.execute_input": "2022-07-18T11:25:38.084226Z",
     "iopub.status.busy": "2022-07-18T11:25:38.083937Z",
     "iopub.status.idle": "2022-07-18T11:25:38.088018Z",
     "shell.execute_reply": "2022-07-18T11:25:38.087325Z"
    },
    "lines_to_next_cell": 0,
    "papermill": {
     "duration": 0.013804,
     "end_time": "2022-07-18T11:25:38.091955",
     "exception": false,
     "start_time": "2022-07-18T11:25:38.078151",
     "status": "completed"
    },
    "tags": []
   },
   "outputs": [],
   "source": [
    "# -----------------------------------------------------------------------"
   ]
  },
  {
   "cell_type": "markdown",
   "id": "cffc65bb",
   "metadata": {
    "papermill": {
     "duration": 0.004831,
     "end_time": "2022-07-18T11:25:38.105063",
     "exception": false,
     "start_time": "2022-07-18T11:25:38.100232",
     "status": "completed"
    },
    "tags": []
   },
   "source": [
    "---"
   ]
  },
  {
   "cell_type": "markdown",
   "id": "7a58b168",
   "metadata": {
    "lines_to_next_cell": 2,
    "papermill": {
     "duration": 0.004896,
     "end_time": "2022-07-18T11:25:38.115748",
     "exception": false,
     "start_time": "2022-07-18T11:25:38.110852",
     "status": "completed"
    },
    "tags": []
   },
   "source": [
    "### Notebook code"
   ]
  },
  {
   "cell_type": "code",
   "execution_count": 5,
   "id": "bb0dd02a",
   "metadata": {
    "execution": {
     "iopub.execute_input": "2022-07-18T11:25:38.129253Z",
     "iopub.status.busy": "2022-07-18T11:25:38.128955Z",
     "iopub.status.idle": "2022-07-18T11:25:39.669664Z",
     "shell.execute_reply": "2022-07-18T11:25:39.668632Z"
    },
    "papermill": {
     "duration": 1.550007,
     "end_time": "2022-07-18T11:25:39.672067",
     "exception": false,
     "start_time": "2022-07-18T11:25:38.122060",
     "status": "completed"
    },
    "tags": []
   },
   "outputs": [
    {
     "name": "stderr",
     "output_type": "stream",
     "text": [
      "2022-07-18 11:25:39,481\tINFO worker.py:842 -- Connecting to existing Ray cluster at address: 172.17.0.2:6379\n"
     ]
    }
   ],
   "source": [
    "import itertools as it\n",
    "\n",
    "#\n",
    "import numpy as np\n",
    "import matplotlib.pyplot as plt\n",
    "\n",
    "#\n",
    "from pynb_dag_runner.tasks.task_opentelemetry_logging import PydarLogger\n",
    "\n",
    "#\n",
    "from common.io import datalake_root\n",
    "\n",
    "logger = PydarLogger(P)"
   ]
  },
  {
   "cell_type": "markdown",
   "id": "df9da355",
   "metadata": {
    "papermill": {
     "duration": 0.005447,
     "end_time": "2022-07-18T11:25:39.683614",
     "exception": false,
     "start_time": "2022-07-18T11:25:39.678167",
     "status": "completed"
    },
    "tags": []
   },
   "source": [
    "## Load persisted onnx-model and evaluation data"
   ]
  },
  {
   "cell_type": "code",
   "execution_count": 6,
   "id": "894b9c59",
   "metadata": {
    "execution": {
     "iopub.execute_input": "2022-07-18T11:25:39.696488Z",
     "iopub.status.busy": "2022-07-18T11:25:39.696011Z",
     "iopub.status.idle": "2022-07-18T11:25:39.700606Z",
     "shell.execute_reply": "2022-07-18T11:25:39.699723Z"
    },
    "papermill": {
     "duration": 0.015035,
     "end_time": "2022-07-18T11:25:39.704072",
     "exception": false,
     "start_time": "2022-07-18T11:25:39.689037",
     "status": "completed"
    },
    "tags": []
   },
   "outputs": [],
   "source": [
    "from common.io import read_onnx, get_onnx_inputs, get_onnx_outputs, read_numpy"
   ]
  },
  {
   "cell_type": "code",
   "execution_count": 7,
   "id": "4388d2fd",
   "metadata": {
    "execution": {
     "iopub.execute_input": "2022-07-18T11:25:39.716234Z",
     "iopub.status.busy": "2022-07-18T11:25:39.715954Z",
     "iopub.status.idle": "2022-07-18T11:25:39.729597Z",
     "shell.execute_reply": "2022-07-18T11:25:39.728765Z"
    },
    "lines_to_next_cell": 0,
    "papermill": {
     "duration": 0.021913,
     "end_time": "2022-07-18T11:25:39.731771",
     "exception": false,
     "start_time": "2022-07-18T11:25:39.709858",
     "status": "completed"
    },
    "tags": []
   },
   "outputs": [],
   "source": [
    "onnx_inference_session = read_onnx(\n",
    "    datalake_root(P)\n",
    "    / \"models\"\n",
    "    / f\"nr_train_images={P['task.nr_train_images']}\"\n",
    "    / \"model.onnx\"\n",
    ")"
   ]
  },
  {
   "cell_type": "markdown",
   "id": "23c9db5b",
   "metadata": {
    "papermill": {
     "duration": 0.012586,
     "end_time": "2022-07-18T11:25:39.750081",
     "exception": false,
     "start_time": "2022-07-18T11:25:39.737495",
     "status": "completed"
    },
    "tags": []
   },
   "source": [
    "### Record structure of inputs and outputs for ONNX model\n",
    "\n",
    "(this should likely be done in training notebook)"
   ]
  },
  {
   "cell_type": "code",
   "execution_count": 8,
   "id": "e33a7686",
   "metadata": {
    "execution": {
     "iopub.execute_input": "2022-07-18T11:25:39.762984Z",
     "iopub.status.busy": "2022-07-18T11:25:39.762662Z",
     "iopub.status.idle": "2022-07-18T11:25:39.770686Z",
     "shell.execute_reply": "2022-07-18T11:25:39.769929Z"
    },
    "papermill": {
     "duration": 0.019708,
     "end_time": "2022-07-18T11:25:39.775461",
     "exception": false,
     "start_time": "2022-07-18T11:25:39.755753",
     "status": "completed"
    },
    "tags": []
   },
   "outputs": [
    {
     "name": "stdout",
     "output_type": "stream",
     "text": [
      "{\n",
      "  \"inputs\": [\n",
      "    {\n",
      "      \"name\": \"float_input_8x8_image\",\n",
      "      \"shape\": [\n",
      "        null,\n",
      "        64\n",
      "      ],\n",
      "      \"type\": \"tensor(float)\"\n",
      "    }\n",
      "  ],\n",
      "  \"outputs\": [\n",
      "    {\n",
      "      \"name\": \"output_label\",\n",
      "      \"shape\": [\n",
      "        null\n",
      "      ],\n",
      "      \"type\": \"tensor(int64)\"\n",
      "    },\n",
      "    {\n",
      "      \"name\": \"output_probability\",\n",
      "      \"shape\": [],\n",
      "      \"type\": \"seq(map(int64,tensor(float)))\"\n",
      "    }\n",
      "  ]\n",
      "}\n"
     ]
    }
   ],
   "source": [
    "import json\n",
    "\n",
    "onnx_io = json.dumps(\n",
    "    {\n",
    "        \"inputs\": get_onnx_inputs(onnx_inference_session),\n",
    "        \"outputs\": get_onnx_outputs(onnx_inference_session),\n",
    "    },\n",
    "    indent=2,\n",
    ")\n",
    "\n",
    "\n",
    "logger.log_artefact(\"onnx_io_structure.json\", onnx_io)\n",
    "print(onnx_io)"
   ]
  },
  {
   "cell_type": "markdown",
   "id": "e30621be",
   "metadata": {
    "papermill": {
     "duration": 0.005391,
     "end_time": "2022-07-18T11:25:39.786730",
     "exception": false,
     "start_time": "2022-07-18T11:25:39.781339",
     "status": "completed"
    },
    "tags": []
   },
   "source": [
    "### Evaluate model performance on evaluation data set"
   ]
  },
  {
   "cell_type": "code",
   "execution_count": 9,
   "id": "c18329ac",
   "metadata": {
    "execution": {
     "iopub.execute_input": "2022-07-18T11:25:39.798958Z",
     "iopub.status.busy": "2022-07-18T11:25:39.798655Z",
     "iopub.status.idle": "2022-07-18T11:25:39.804659Z",
     "shell.execute_reply": "2022-07-18T11:25:39.803821Z"
    },
    "papermill": {
     "duration": 0.016102,
     "end_time": "2022-07-18T11:25:39.808431",
     "exception": false,
     "start_time": "2022-07-18T11:25:39.792329",
     "status": "completed"
    },
    "tags": []
   },
   "outputs": [],
   "source": [
    "# load evaluation data\n",
    "X_test = read_numpy(datalake_root(P) / \"test-data\" / \"digits.numpy\")\n",
    "y_test = read_numpy(datalake_root(P) / \"test-data\" / \"labels.numpy\")"
   ]
  },
  {
   "cell_type": "code",
   "execution_count": 10,
   "id": "098e8cbc",
   "metadata": {
    "execution": {
     "iopub.execute_input": "2022-07-18T11:25:39.821219Z",
     "iopub.status.busy": "2022-07-18T11:25:39.820917Z",
     "iopub.status.idle": "2022-07-18T11:25:39.836821Z",
     "shell.execute_reply": "2022-07-18T11:25:39.835972Z"
    },
    "papermill": {
     "duration": 0.024473,
     "end_time": "2022-07-18T11:25:39.838910",
     "exception": false,
     "start_time": "2022-07-18T11:25:39.814437",
     "status": "completed"
    },
    "tags": []
   },
   "outputs": [],
   "source": [
    "def get_model_outputs(X, onnx_inference_session):\n",
    "    y_pred_labels, y_pred_map = onnx_inference_session.run(\n",
    "        [\"output_label\", \"output_probability\"],\n",
    "        {\"float_input_8x8_image\": X.astype(np.float32)},\n",
    "    )\n",
    "    y_pred_probs = np.array(\n",
    "        [[probabilities[digit] for digit in range(10)] for probabilities in y_pred_map]\n",
    "    )\n",
    "\n",
    "    assert y_pred_labels.shape == (X.shape[0],)\n",
    "    assert y_pred_probs.shape == (X.shape[0], 10)\n",
    "\n",
    "    return y_pred_labels, y_pred_probs\n",
    "\n",
    "\n",
    "# Note: as shown in the training notebook, the predicted labels and probabilities\n",
    "# computed below need not be compatible.\n",
    "y_pred_labels_test, y_pred_probs_test = get_model_outputs(\n",
    "    X_test, onnx_inference_session\n",
    ")"
   ]
  },
  {
   "cell_type": "markdown",
   "id": "40a26b44",
   "metadata": {
    "papermill": {
     "duration": 0.007411,
     "end_time": "2022-07-18T11:25:39.856839",
     "exception": false,
     "start_time": "2022-07-18T11:25:39.849428",
     "status": "completed"
    },
    "tags": []
   },
   "source": [
    "### Confusion matrix"
   ]
  },
  {
   "cell_type": "code",
   "execution_count": 11,
   "id": "d71b69c9",
   "metadata": {
    "execution": {
     "iopub.execute_input": "2022-07-18T11:25:39.869967Z",
     "iopub.status.busy": "2022-07-18T11:25:39.869350Z",
     "iopub.status.idle": "2022-07-18T11:25:39.874026Z",
     "shell.execute_reply": "2022-07-18T11:25:39.873137Z"
    },
    "papermill": {
     "duration": 0.014696,
     "end_time": "2022-07-18T11:25:39.876900",
     "exception": false,
     "start_time": "2022-07-18T11:25:39.862204",
     "status": "completed"
    },
    "tags": []
   },
   "outputs": [],
   "source": [
    "# TODO"
   ]
  },
  {
   "cell_type": "markdown",
   "id": "ad953ae8",
   "metadata": {
    "papermill": {
     "duration": 0.006146,
     "end_time": "2022-07-18T11:25:39.889517",
     "exception": false,
     "start_time": "2022-07-18T11:25:39.883371",
     "status": "completed"
    },
    "tags": []
   },
   "source": [
    "### Plot predicted probabilities for each classifier over all evaluation digit images"
   ]
  },
  {
   "cell_type": "code",
   "execution_count": 12,
   "id": "3a447462",
   "metadata": {
    "execution": {
     "iopub.execute_input": "2022-07-18T11:25:39.903098Z",
     "iopub.status.busy": "2022-07-18T11:25:39.902620Z",
     "iopub.status.idle": "2022-07-18T11:25:44.771392Z",
     "shell.execute_reply": "2022-07-18T11:25:44.770024Z"
    },
    "papermill": {
     "duration": 4.878911,
     "end_time": "2022-07-18T11:25:44.774101",
     "exception": false,
     "start_time": "2022-07-18T11:25:39.895190",
     "status": "completed"
    },
    "tags": []
   },
   "outputs": [
    {
     "data": {
      "image/png": "[encoded data removed]",
      "text/plain": [
       "<Figure size 1152x432 with 10 Axes>"
      ]
     },
     "metadata": {
      "needs_background": "light"
     },
     "output_type": "display_data"
    }
   ],
   "source": [
    "def plot_per_digit_probabilities(y_pred_probs):\n",
    "    fig, axs = plt.subplots(nrows=2, ncols=5, figsize=(16, 6))\n",
    "\n",
    "    for (r, c), digit, ax in zip(\n",
    "        it.product(range(2), range(5)), range(10), axs.reshape(-1)\n",
    "    ):\n",
    "        ax.hist(y_pred_probs_test[:, digit], bins=20)\n",
    "\n",
    "        ax.set_title(f\"Digit {digit}\")\n",
    "        if r == 1 and c == 2:\n",
    "            ax.set_xlabel(\"probability\", fontsize=16)\n",
    "\n",
    "        if c == 0:\n",
    "            ax.set_ylabel(\"counts\", fontsize=16)\n",
    "        ax.set_yscale(\"log\")\n",
    "\n",
    "    fig.tight_layout()\n",
    "    fig.suptitle(\n",
    "        f\"Distributions of prediction probabilities for each digit \"\n",
    "        f\"(on evaluation data, n={y_pred_probs.shape[0]})\",\n",
    "        fontsize=20,\n",
    "    )\n",
    "    fig.tight_layout()\n",
    "    fig.show()\n",
    "\n",
    "    return fig\n",
    "\n",
    "\n",
    "fig = plot_per_digit_probabilities(y_pred_probs_test)"
   ]
  },
  {
   "cell_type": "markdown",
   "id": "d264c067",
   "metadata": {
    "papermill": {
     "duration": 0.005836,
     "end_time": "2022-07-18T11:25:44.788612",
     "exception": false,
     "start_time": "2022-07-18T11:25:44.782776",
     "status": "completed"
    },
    "tags": []
   },
   "source": [
    "From the above distributions we see that most digits have clear separation between\n",
    "high and lower probabilities. Morover, in each case there is roughly an order of\n",
    "magnitude more of digits with low probabilities. This is compatible with digits\n",
    "being roughly evenly distributed in the data."
   ]
  },
  {
   "cell_type": "code",
   "execution_count": 13,
   "id": "7a80c643",
   "metadata": {
    "execution": {
     "iopub.execute_input": "2022-07-18T11:25:44.801278Z",
     "iopub.status.busy": "2022-07-18T11:25:44.800985Z",
     "iopub.status.idle": "2022-07-18T11:25:45.410993Z",
     "shell.execute_reply": "2022-07-18T11:25:45.410049Z"
    },
    "papermill": {
     "duration": 0.619713,
     "end_time": "2022-07-18T11:25:45.414140",
     "exception": false,
     "start_time": "2022-07-18T11:25:44.794427",
     "status": "completed"
    },
    "tags": []
   },
   "outputs": [],
   "source": [
    "logger.log_figure(\"per-digit-probabilities.png\", fig)"
   ]
  },
  {
   "cell_type": "markdown",
   "id": "fb737ffc",
   "metadata": {
    "papermill": {
     "duration": 0.006254,
     "end_time": "2022-07-18T11:25:45.427543",
     "exception": false,
     "start_time": "2022-07-18T11:25:45.421289",
     "status": "completed"
    },
    "tags": []
   },
   "source": [
    "### Plot ROC curves for individual one-vs-rest classifiers"
   ]
  },
  {
   "cell_type": "code",
   "execution_count": 14,
   "id": "acd331f4",
   "metadata": {
    "execution": {
     "iopub.execute_input": "2022-07-18T11:25:45.442636Z",
     "iopub.status.busy": "2022-07-18T11:25:45.442297Z",
     "iopub.status.idle": "2022-07-18T11:25:45.976980Z",
     "shell.execute_reply": "2022-07-18T11:25:45.976150Z"
    },
    "papermill": {
     "duration": 0.545763,
     "end_time": "2022-07-18T11:25:45.979156",
     "exception": false,
     "start_time": "2022-07-18T11:25:45.433393",
     "status": "completed"
    },
    "tags": []
   },
   "outputs": [],
   "source": [
    "from sklearn import metrics"
   ]
  },
  {
   "cell_type": "code",
   "execution_count": 15,
   "id": "9fe8a47a",
   "metadata": {
    "execution": {
     "iopub.execute_input": "2022-07-18T11:25:45.991938Z",
     "iopub.status.busy": "2022-07-18T11:25:45.991679Z",
     "iopub.status.idle": "2022-07-18T11:25:48.037870Z",
     "shell.execute_reply": "2022-07-18T11:25:48.037046Z"
    },
    "papermill": {
     "duration": 2.054764,
     "end_time": "2022-07-18T11:25:48.039892",
     "exception": false,
     "start_time": "2022-07-18T11:25:45.985128",
     "status": "completed"
    },
    "tags": []
   },
   "outputs": [
    {
     "data": {
      "image/png": "[encoded data removed]",
      "text/plain": [
       "<Figure size 1152x576 with 10 Axes>"
      ]
     },
     "metadata": {
      "needs_background": "light"
     },
     "output_type": "display_data"
    }
   ],
   "source": [
    "def plot_roc_curves(y, y_pred_probs):\n",
    "    # based on example code\n",
    "    # https://scikit-learn.org/stable/auto_examples/model_selection/plot_roc.html\n",
    "\n",
    "    fig, axs = plt.subplots(nrows=2, ncols=5, figsize=(16, 8))\n",
    "\n",
    "    roc_auc_dict = {}\n",
    "\n",
    "    for (r, c), digit, ax in zip(\n",
    "        it.product(range(2), range(5)), range(10), axs.reshape(-1)\n",
    "    ):\n",
    "        fpr, tpr, _ = metrics.roc_curve(y == digit, y_pred_probs[:, digit])\n",
    "        auc = metrics.auc(fpr, tpr)\n",
    "        roc_auc_dict[str(digit)] = auc\n",
    "\n",
    "        ax.plot(fpr, tpr, label=f\"ROC AUC={round(auc, 3)}\")\n",
    "\n",
    "        ax.set_title(f\"\\nDigit {digit}\", fontsize=16)\n",
    "        if r == 1:\n",
    "            ax.set_xlabel(\"FPR\", fontsize=18)\n",
    "\n",
    "        if c == 0:\n",
    "            ax.set_ylabel(\"TPR\", fontsize=18)\n",
    "\n",
    "        ax.set_xlim([-0.05, 1.05])\n",
    "        ax.set_ylim([-0.05, 1.05])\n",
    "        ax.legend(loc=\"lower right\", frameon=False, fontsize=14)\n",
    "\n",
    "    fig.tight_layout()\n",
    "    fig.suptitle(\n",
    "        f\"ROC plots for one-vs-rest performances \"\n",
    "        f\"(on evaluation data, n={y_pred_probs_test.shape[1]}\",\n",
    "        fontsize=22,\n",
    "    )\n",
    "    fig.tight_layout()\n",
    "    fig.show()\n",
    "\n",
    "    return roc_auc_dict, fig\n",
    "\n",
    "\n",
    "roc_auc_dict, fig = plot_roc_curves(y_test, y_pred_probs_test)"
   ]
  },
  {
   "cell_type": "code",
   "execution_count": 16,
   "id": "6c3b6530",
   "metadata": {
    "execution": {
     "iopub.execute_input": "2022-07-18T11:25:48.053870Z",
     "iopub.status.busy": "2022-07-18T11:25:48.053579Z",
     "iopub.status.idle": "2022-07-18T11:25:48.372360Z",
     "shell.execute_reply": "2022-07-18T11:25:48.370756Z"
    },
    "papermill": {
     "duration": 0.327778,
     "end_time": "2022-07-18T11:25:48.374506",
     "exception": false,
     "start_time": "2022-07-18T11:25:48.046728",
     "status": "completed"
    },
    "tags": []
   },
   "outputs": [],
   "source": [
    "logger.log_figure(\"per-digit-roc-curves.png\", fig)"
   ]
  },
  {
   "cell_type": "code",
   "execution_count": 17,
   "id": "1a6528a9",
   "metadata": {
    "execution": {
     "iopub.execute_input": "2022-07-18T11:25:48.391333Z",
     "iopub.status.busy": "2022-07-18T11:25:48.391000Z",
     "iopub.status.idle": "2022-07-18T11:25:48.398349Z",
     "shell.execute_reply": "2022-07-18T11:25:48.397391Z"
    },
    "papermill": {
     "duration": 0.020129,
     "end_time": "2022-07-18T11:25:48.401336",
     "exception": false,
     "start_time": "2022-07-18T11:25:48.381207",
     "status": "completed"
    },
    "tags": []
   },
   "outputs": [
    {
     "data": {
      "text/plain": [
       "{'0': 1.0,\n",
       " '1': 0.9991377694470478,\n",
       " '2': 1.0,\n",
       " '3': 0.9997750702905343,\n",
       " '4': 0.9991617131534827,\n",
       " '5': 0.9989503280224931,\n",
       " '6': 0.999961896052431,\n",
       " '7': 0.9998475842097241,\n",
       " '8': 0.994640605296343,\n",
       " '9': 0.9988949855204999}"
      ]
     },
     "execution_count": 17,
     "metadata": {},
     "output_type": "execute_result"
    }
   ],
   "source": [
    "roc_auc_dict"
   ]
  },
  {
   "cell_type": "code",
   "execution_count": 18,
   "id": "04db5a21",
   "metadata": {
    "execution": {
     "iopub.execute_input": "2022-07-18T11:25:48.418393Z",
     "iopub.status.busy": "2022-07-18T11:25:48.417902Z",
     "iopub.status.idle": "2022-07-18T11:25:48.423347Z",
     "shell.execute_reply": "2022-07-18T11:25:48.422503Z"
    },
    "papermill": {
     "duration": 0.018175,
     "end_time": "2022-07-18T11:25:48.427716",
     "exception": false,
     "start_time": "2022-07-18T11:25:48.409541",
     "status": "completed"
    },
    "tags": []
   },
   "outputs": [
    {
     "name": "stdout",
     "output_type": "stream",
     "text": [
      " - Logging roc_auc_per_digit (json) : {'0': 1.0, '1': 0.9991377694470478, '2': 1.0, '3': 0.9997750702905343, '4': 0.9991617131534827, '5': 0.9989503280224931, '6': 0.999961896052431, '7': 0.9998475842097241, '8': 0.994640605296343, '9': 0.9988949855204999}\n"
     ]
    }
   ],
   "source": [
    "logger.log_value(\"roc_auc_per_digit\", roc_auc_dict)"
   ]
  },
  {
   "cell_type": "markdown",
   "id": "948d3def",
   "metadata": {
    "papermill": {
     "duration": 0.006299,
     "end_time": "2022-07-18T11:25:48.441225",
     "exception": false,
     "start_time": "2022-07-18T11:25:48.434926",
     "status": "completed"
    },
    "tags": []
   },
   "source": [
    "### Compute and log mean ROC AUC score averaged over all digits"
   ]
  },
  {
   "cell_type": "code",
   "execution_count": 19,
   "id": "1b2c390e",
   "metadata": {
    "execution": {
     "iopub.execute_input": "2022-07-18T11:25:48.457776Z",
     "iopub.status.busy": "2022-07-18T11:25:48.457253Z",
     "iopub.status.idle": "2022-07-18T11:25:48.477424Z",
     "shell.execute_reply": "2022-07-18T11:25:48.476359Z"
    },
    "papermill": {
     "duration": 0.02965,
     "end_time": "2022-07-18T11:25:48.479195",
     "exception": false,
     "start_time": "2022-07-18T11:25:48.449545",
     "status": "completed"
    },
    "tags": []
   },
   "outputs": [
    {
     "name": "stdout",
     "output_type": "stream",
     "text": [
      " - Logging roc_auc_class_mean (float) : 0.9990369951992557\n"
     ]
    }
   ],
   "source": [
    "roc_auc_macro = np.mean(list(roc_auc_dict.values()))\n",
    "\n",
    "logger.log_float(\"roc_auc_class_mean\", roc_auc_macro)\n",
    "\n",
    "# assert that the same value can be computed directly using sklearn\n",
    "assert roc_auc_macro == metrics.roc_auc_score(\n",
    "    y_test, y_pred_probs_test, average=\"macro\", multi_class=\"ovr\"\n",
    ")"
   ]
  },
  {
   "cell_type": "code",
   "execution_count": 20,
   "id": "2fd48233",
   "metadata": {
    "execution": {
     "iopub.execute_input": "2022-07-18T11:25:48.493849Z",
     "iopub.status.busy": "2022-07-18T11:25:48.493408Z",
     "iopub.status.idle": "2022-07-18T11:25:48.497663Z",
     "shell.execute_reply": "2022-07-18T11:25:48.496510Z"
    },
    "lines_to_next_cell": 0,
    "papermill": {
     "duration": 0.014055,
     "end_time": "2022-07-18T11:25:48.500372",
     "exception": false,
     "start_time": "2022-07-18T11:25:48.486317",
     "status": "completed"
    },
    "tags": []
   },
   "outputs": [],
   "source": [
    "# ---"
   ]
  },
  {
   "cell_type": "code",
   "execution_count": null,
   "id": "5280947b",
   "metadata": {
    "papermill": {
     "duration": 0.007239,
     "end_time": "2022-07-18T11:25:48.515423",
     "exception": false,
     "start_time": "2022-07-18T11:25:48.508184",
     "status": "completed"
    },
    "tags": []
   },
   "outputs": [],
   "source": []
  }
 ],
 "metadata": {
  "jupytext": {
   "cell_metadata_filter": "tags,-all",
   "main_language": "python",
   "notebook_metadata_filter": "-all"
  },
  "language_info": {
   "codemirror_mode": {
    "name": "ipython",
    "version": 3
   },
   "file_extension": ".py",
   "mimetype": "text/x-python",
   "name": "python",
   "nbconvert_exporter": "python",
   "pygments_lexer": "ipython3",
   "version": "3.8.10"
  },
  "papermill": {
   "default_parameters": {},
   "duration": 13.829452,
   "end_time": "2022-07-18T11:25:49.648576",
   "environment_variables": {},
   "exception": null,
   "input_path": "/home/host_user/workspace/mnist-demo-pipeline/mnist-demo-pipeline/notebooks/temp-notebook-cfzlj5pk.ipynb",
   "output_path": "notebooks/benchmark-model.ipynb",
   "parameters": {
    "P": {
     "_opentelemetry_traceparent": "00-b0e446e89b17bdeb058dbb10a0b42255-77b52c795a1f38da-01",
     "pipeline.data_lake_root": "/pipeline-outputs/data-lake",
     "pipeline.github.actor": "matiasdahl",
     "pipeline.github.base_ref": "development",
     "pipeline.github.event_name": "pull_request",
     "pipeline.github.head_ref": "graph-parsing",
     "pipeline.github.job": "run-tests-pipeline-and-persist-pipeline-outputs",
     "pipeline.github.ref": "refs/pull/57/merge",
     "pipeline.github.ref_name": "57/merge",
     "pipeline.github.ref_type": "branch",
     "pipeline.github.repository": "pynb-dag-runner/mnist-digits-demo-pipeline",
     "pipeline.github.run_id": "2690097514",
     "pipeline.github.runner_name": "GitHub Actions 2",
     "pipeline.github.sha": "8283f417a1f6964b1fa1c6cda8e5c5ec877446d4",
     "pipeline.github.workflow": "Run automated tests, pipeline and deploy results to static reporting site",
     "pipeline.pipeline_run_id": "711628db-7a55-4b5a-89fb-b41dd311f49f",
     "pipeline.run_environment": "ci",
     "run.retry_nr": "0",
     "task.max_nr_retries": "1",
     "task.notebook": "notebooks/benchmark-model.py",
     "task.nr_train_images": 600,
     "task.num_cpus": 1,
     "task.timeout_s": "None"
    }
   },
   "start_time": "2022-07-18T11:25:35.819124",
   "version": "2.3.3"
  }
 },
 "nbformat": 4,
 "nbformat_minor": 5
}