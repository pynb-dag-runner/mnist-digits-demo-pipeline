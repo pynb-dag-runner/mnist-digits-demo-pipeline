{
 "cells": [
  {
   "cell_type": "markdown",
   "id": "7b4d86dc",
   "metadata": {
    "papermill": {
     "duration": 0.007591,
     "end_time": "2022-07-18T11:25:25.438536",
     "exception": false,
     "start_time": "2022-07-18T11:25:25.430945",
     "status": "completed"
    },
    "tags": []
   },
   "source": [
    "# Train model\n",
    "\n",
    "The purpose of this notebook is:\n",
    "\n",
    "- Load all training data (images and labels).\n",
    "- Limit number of train images to `task.nr_train_images` (value provided as run parameter).\n",
    "- Train a support vector machine model using sklearn.\n",
    "- Persist the trained model using the ONNX format."
   ]
  },
  {
   "cell_type": "markdown",
   "id": "4133b62b",
   "metadata": {
    "papermill": {
     "duration": 0.003507,
     "end_time": "2022-07-18T11:25:25.446702",
     "exception": false,
     "start_time": "2022-07-18T11:25:25.443195",
     "status": "completed"
    },
    "tags": []
   },
   "source": [
    "### Determine run parameters"
   ]
  },
  {
   "cell_type": "code",
   "execution_count": 1,
   "id": "0dcc6b61",
   "metadata": {
    "execution": {
     "iopub.execute_input": "2022-07-18T11:25:25.455228Z",
     "iopub.status.busy": "2022-07-18T11:25:25.454823Z",
     "iopub.status.idle": "2022-07-18T11:25:25.464353Z",
     "shell.execute_reply": "2022-07-18T11:25:25.463414Z"
    },
    "lines_to_next_cell": 0,
    "papermill": {
     "duration": 0.016233,
     "end_time": "2022-07-18T11:25:25.466423",
     "exception": false,
     "start_time": "2022-07-18T11:25:25.450190",
     "status": "completed"
    },
    "tags": []
   },
   "outputs": [],
   "source": [
    "# ----------------- Parameters for interactive development --------------\n",
    "P = {\n",
    "    \"pipeline.data_lake_root\": \"/pipeline-outputs/data-lake\",\n",
    "    \"task.nr_train_images\": 600,\n",
    "}"
   ]
  },
  {
   "cell_type": "code",
   "execution_count": 2,
   "id": "68ae1c7e",
   "metadata": {
    "execution": {
     "iopub.execute_input": "2022-07-18T11:25:25.476672Z",
     "iopub.status.busy": "2022-07-18T11:25:25.475841Z",
     "iopub.status.idle": "2022-07-18T11:25:25.480470Z",
     "shell.execute_reply": "2022-07-18T11:25:25.479568Z"
    },
    "lines_to_next_cell": 0,
    "papermill": {
     "duration": 0.011644,
     "end_time": "2022-07-18T11:25:25.482347",
     "exception": false,
     "start_time": "2022-07-18T11:25:25.470703",
     "status": "completed"
    },
    "tags": [
     "parameters"
    ]
   },
   "outputs": [],
   "source": [
    "# - During automated runs parameters will be injected in the below cell -"
   ]
  },
  {
   "cell_type": "code",
   "execution_count": 3,
   "id": "c2835697",
   "metadata": {
    "execution": {
     "iopub.execute_input": "2022-07-18T11:25:25.491272Z",
     "iopub.status.busy": "2022-07-18T11:25:25.490825Z",
     "iopub.status.idle": "2022-07-18T11:25:25.497432Z",
     "shell.execute_reply": "2022-07-18T11:25:25.496395Z"
    },
    "papermill": {
     "duration": 0.014168,
     "end_time": "2022-07-18T11:25:25.499957",
     "exception": false,
     "start_time": "2022-07-18T11:25:25.485789",
     "status": "completed"
    },
    "tags": [
     "injected-parameters"
    ]
   },
   "outputs": [],
   "source": [
    "# Parameters\n",
    "P = {\n",
    "    \"pipeline.data_lake_root\": \"/pipeline-outputs/data-lake\",\n",
    "    \"pipeline.run_environment\": \"ci\",\n",
    "    \"pipeline.pipeline_run_id\": \"711628db-7a55-4b5a-89fb-b41dd311f49f\",\n",
    "    \"pipeline.github.repository\": \"pynb-dag-runner/mnist-digits-demo-pipeline\",\n",
    "    \"pipeline.github.workflow\": \"Run automated tests, pipeline and deploy results to static reporting site\",\n",
    "    \"pipeline.github.runner_name\": \"GitHub Actions 2\",\n",
    "    \"pipeline.github.run_id\": \"2690097514\",\n",
    "    \"pipeline.github.actor\": \"matiasdahl\",\n",
    "    \"pipeline.github.job\": \"run-tests-pipeline-and-persist-pipeline-outputs\",\n",
    "    \"pipeline.github.base_ref\": \"development\",\n",
    "    \"pipeline.github.head_ref\": \"graph-parsing\",\n",
    "    \"pipeline.github.sha\": \"8283f417a1f6964b1fa1c6cda8e5c5ec877446d4\",\n",
    "    \"pipeline.github.ref\": \"refs/pull/57/merge\",\n",
    "    \"pipeline.github.ref_type\": \"branch\",\n",
    "    \"pipeline.github.ref_name\": \"57/merge\",\n",
    "    \"pipeline.github.event_name\": \"pull_request\",\n",
    "    \"task.nr_train_images\": 800,\n",
    "    \"task.notebook\": \"notebooks/train-model.py\",\n",
    "    \"task.max_nr_retries\": \"1\",\n",
    "    \"run.retry_nr\": \"0\",\n",
    "    \"task.timeout_s\": \"None\",\n",
    "    \"task.num_cpus\": 1,\n",
    "    \"_opentelemetry_traceparent\": \"00-b0e446e89b17bdeb058dbb10a0b42255-c9ea53867088198a-01\",\n",
    "}\n"
   ]
  },
  {
   "cell_type": "code",
   "execution_count": 4,
   "id": "c4d75a67",
   "metadata": {
    "execution": {
     "iopub.execute_input": "2022-07-18T11:25:25.508654Z",
     "iopub.status.busy": "2022-07-18T11:25:25.508217Z",
     "iopub.status.idle": "2022-07-18T11:25:25.512764Z",
     "shell.execute_reply": "2022-07-18T11:25:25.511928Z"
    },
    "lines_to_next_cell": 0,
    "papermill": {
     "duration": 0.010901,
     "end_time": "2022-07-18T11:25:25.514640",
     "exception": false,
     "start_time": "2022-07-18T11:25:25.503739",
     "status": "completed"
    },
    "tags": []
   },
   "outputs": [],
   "source": [
    "# -----------------------------------------------------------------------"
   ]
  },
  {
   "cell_type": "markdown",
   "id": "081ac242",
   "metadata": {
    "papermill": {
     "duration": 0.004442,
     "end_time": "2022-07-18T11:25:25.522362",
     "exception": false,
     "start_time": "2022-07-18T11:25:25.517920",
     "status": "completed"
    },
    "tags": []
   },
   "source": [
    "---"
   ]
  },
  {
   "cell_type": "markdown",
   "id": "87938ec3",
   "metadata": {
    "lines_to_next_cell": 2,
    "papermill": {
     "duration": 0.003792,
     "end_time": "2022-07-18T11:25:25.529719",
     "exception": false,
     "start_time": "2022-07-18T11:25:25.525927",
     "status": "completed"
    },
    "tags": []
   },
   "source": [
    "### Notebook code"
   ]
  },
  {
   "cell_type": "code",
   "execution_count": 5,
   "id": "31ef4021",
   "metadata": {
    "execution": {
     "iopub.execute_input": "2022-07-18T11:25:25.540325Z",
     "iopub.status.busy": "2022-07-18T11:25:25.539495Z",
     "iopub.status.idle": "2022-07-18T11:25:26.094464Z",
     "shell.execute_reply": "2022-07-18T11:25:26.093521Z"
    },
    "papermill": {
     "duration": 0.56415,
     "end_time": "2022-07-18T11:25:26.097419",
     "exception": false,
     "start_time": "2022-07-18T11:25:25.533269",
     "status": "completed"
    },
    "tags": []
   },
   "outputs": [
    {
     "name": "stderr",
     "output_type": "stream",
     "text": [
      "2022-07-18 11:25:25,911\tINFO worker.py:842 -- Connecting to existing Ray cluster at address: 172.17.0.2:6379\n"
     ]
    }
   ],
   "source": [
    "from pynb_dag_runner.tasks.task_opentelemetry_logging import PydarLogger\n",
    "\n",
    "logger = PydarLogger(P)"
   ]
  },
  {
   "cell_type": "markdown",
   "id": "6c83c029",
   "metadata": {
    "papermill": {
     "duration": 0.00371,
     "end_time": "2022-07-18T11:25:26.107490",
     "exception": false,
     "start_time": "2022-07-18T11:25:26.103780",
     "status": "completed"
    },
    "tags": []
   },
   "source": [
    "## Load and limit train data"
   ]
  },
  {
   "cell_type": "code",
   "execution_count": 6,
   "id": "644889ac",
   "metadata": {
    "execution": {
     "iopub.execute_input": "2022-07-18T11:25:26.118098Z",
     "iopub.status.busy": "2022-07-18T11:25:26.117686Z",
     "iopub.status.idle": "2022-07-18T11:25:26.706163Z",
     "shell.execute_reply": "2022-07-18T11:25:26.705382Z"
    },
    "papermill": {
     "duration": 0.596302,
     "end_time": "2022-07-18T11:25:26.708667",
     "exception": false,
     "start_time": "2022-07-18T11:25:26.112365",
     "status": "completed"
    },
    "tags": []
   },
   "outputs": [],
   "source": [
    "def load_and_limit_train_data(P):\n",
    "    from common.io import datalake_root, read_numpy\n",
    "    from sklearn.model_selection import train_test_split\n",
    "\n",
    "    X_train_all = read_numpy(datalake_root(P) / \"train-data\" / \"digits.numpy\")\n",
    "    y_train_all = read_numpy(datalake_root(P) / \"train-data\" / \"labels.numpy\")\n",
    "\n",
    "    assert isinstance(P[\"task.nr_train_images\"], int)\n",
    "\n",
    "    # Note: train_test_split will fail if split is 0 or 100%.\n",
    "    assert 0 < P[\"task.nr_train_images\"] < len(y_train_all)\n",
    "\n",
    "    X_train, _, y_train, _ = train_test_split(\n",
    "        X_train_all,\n",
    "        y_train_all,\n",
    "        train_size=P[\"task.nr_train_images\"],\n",
    "        test_size=None,\n",
    "        stratify=y_train_all,\n",
    "        shuffle=True,\n",
    "        random_state=123,\n",
    "    )\n",
    "\n",
    "    assert X_train.shape == (len(y_train), 8 * 8)\n",
    "    return X_train, y_train\n",
    "\n",
    "\n",
    "X_train, y_train = load_and_limit_train_data(P)"
   ]
  },
  {
   "cell_type": "markdown",
   "id": "6343b7f9",
   "metadata": {
    "papermill": {
     "duration": 0.004314,
     "end_time": "2022-07-18T11:25:26.718505",
     "exception": false,
     "start_time": "2022-07-18T11:25:26.714191",
     "status": "completed"
    },
    "tags": []
   },
   "source": [
    "## Train support vector classifier model\n",
    "\n",
    "Below we assume that the hyperparameter $C$ is known.\n",
    "\n",
    "However, this should ideally be found by a hyperparameter search. That could be\n",
    "done in parallel on the Ray cluster, but this needs some more work. Ie., to use\n",
    "multiple cores in the notebook, those cores should be reserved when starting the\n",
    "notebook task (TODO).\n",
    "\n",
    "- https://docs.ray.io/en/latest/tune/key-concepts.html\n",
    "\n",
    "Note: cv-scores would need to be computed here, since they depend on the train data.\n",
    "After this notebook only the onnx-model is available."
   ]
  },
  {
   "cell_type": "code",
   "execution_count": 7,
   "id": "a31650d6",
   "metadata": {
    "execution": {
     "iopub.execute_input": "2022-07-18T11:25:26.728353Z",
     "iopub.status.busy": "2022-07-18T11:25:26.728019Z",
     "iopub.status.idle": "2022-07-18T11:25:26.754840Z",
     "shell.execute_reply": "2022-07-18T11:25:26.754078Z"
    },
    "papermill": {
     "duration": 0.035156,
     "end_time": "2022-07-18T11:25:26.757147",
     "exception": false,
     "start_time": "2022-07-18T11:25:26.721991",
     "status": "completed"
    },
    "tags": []
   },
   "outputs": [],
   "source": [
    "from sklearn.svm import SVC"
   ]
  },
  {
   "cell_type": "code",
   "execution_count": 8,
   "id": "6756b59f",
   "metadata": {
    "execution": {
     "iopub.execute_input": "2022-07-18T11:25:26.770843Z",
     "iopub.status.busy": "2022-07-18T11:25:26.770113Z",
     "iopub.status.idle": "2022-07-18T11:25:27.323173Z",
     "shell.execute_reply": "2022-07-18T11:25:27.322428Z"
    },
    "papermill": {
     "duration": 0.562678,
     "end_time": "2022-07-18T11:25:27.325493",
     "exception": false,
     "start_time": "2022-07-18T11:25:26.762815",
     "status": "completed"
    },
    "tags": []
   },
   "outputs": [
    {
     "data": {
      "text/plain": [
       "SVC(C=0.001, kernel='linear', probability=True)"
      ]
     },
     "execution_count": 8,
     "metadata": {},
     "output_type": "execute_result"
    }
   ],
   "source": [
    "model = SVC(C=0.001, kernel=\"linear\", probability=True)\n",
    "\n",
    "model.fit(X_train, y_train)"
   ]
  },
  {
   "cell_type": "markdown",
   "id": "d3af4a03",
   "metadata": {
    "papermill": {
     "duration": 0.005045,
     "end_time": "2022-07-18T11:25:27.334876",
     "exception": false,
     "start_time": "2022-07-18T11:25:27.329831",
     "status": "completed"
    },
    "tags": []
   },
   "source": [
    "### Q: Can the labels returned by `predict(..)` be computed from probabilities returned by the `predict_prob`-method?"
   ]
  },
  {
   "cell_type": "code",
   "execution_count": 9,
   "id": "ec1f5799",
   "metadata": {
    "execution": {
     "iopub.execute_input": "2022-07-18T11:25:27.344506Z",
     "iopub.status.busy": "2022-07-18T11:25:27.344177Z",
     "iopub.status.idle": "2022-07-18T11:25:27.426267Z",
     "shell.execute_reply": "2022-07-18T11:25:27.425325Z"
    },
    "papermill": {
     "duration": 0.089948,
     "end_time": "2022-07-18T11:25:27.429111",
     "exception": false,
     "start_time": "2022-07-18T11:25:27.339163",
     "status": "completed"
    },
    "tags": []
   },
   "outputs": [
    {
     "name": "stdout",
     "output_type": "stream",
     "text": [
      " - Logging nr_max_prob_neq_label (int) : 2\n"
     ]
    }
   ],
   "source": [
    "import numpy as np\n",
    "\n",
    "y_train_labels = model.predict(X_train)\n",
    "y_train_probabilities = model.predict_proba(X_train)\n",
    "assert y_train_probabilities.shape == (len(y_train), 10)\n",
    "\n",
    "y_train_max_prob_labels = np.argmax(y_train_probabilities, axis=1)\n",
    "assert y_train_labels.shape == y_train_max_prob_labels.shape == y_train.shape\n",
    "\n",
    "# If the predicted labels would coincide with the labels that have\n",
    "# maximum probability, the below number would be zero\n",
    "logger.log_int(\n",
    "    \"nr_max_prob_neq_label\", int(sum(y_train_max_prob_labels != y_train_labels))\n",
    ")"
   ]
  },
  {
   "cell_type": "markdown",
   "id": "cf46b7bf",
   "metadata": {
    "papermill": {
     "duration": 0.005432,
     "end_time": "2022-07-18T11:25:27.438762",
     "exception": false,
     "start_time": "2022-07-18T11:25:27.433330",
     "status": "completed"
    },
    "tags": []
   },
   "source": [
    "The explanation is (likely) explained in the SVC source, see\n",
    "[here](https://github.com/scikit-learn/scikit-learn/blob/main/sklearn/svm/_base.py).\n",
    "Namely, the outputs from `predict(..)` and `predict_proba(..)` may not in some\n",
    "cases be compatible since the latter is computed using cross-validation while\n",
    "the former is not. Thus, the above number need not be zero."
   ]
  },
  {
   "cell_type": "markdown",
   "id": "ec0e3b72",
   "metadata": {
    "papermill": {
     "duration": 0.003907,
     "end_time": "2022-07-18T11:25:27.446423",
     "exception": false,
     "start_time": "2022-07-18T11:25:27.442516",
     "status": "completed"
    },
    "tags": []
   },
   "source": [
    "## Persist model"
   ]
  },
  {
   "cell_type": "code",
   "execution_count": 10,
   "id": "8c1866c8",
   "metadata": {
    "execution": {
     "iopub.execute_input": "2022-07-18T11:25:27.460926Z",
     "iopub.status.busy": "2022-07-18T11:25:27.460603Z",
     "iopub.status.idle": "2022-07-18T11:25:28.493158Z",
     "shell.execute_reply": "2022-07-18T11:25:28.492232Z"
    },
    "papermill": {
     "duration": 1.044638,
     "end_time": "2022-07-18T11:25:28.495707",
     "exception": false,
     "start_time": "2022-07-18T11:25:27.451069",
     "status": "completed"
    },
    "tags": []
   },
   "outputs": [],
   "source": [
    "from skl2onnx import convert_sklearn\n",
    "from skl2onnx.common.data_types import FloatTensorType\n",
    "\n",
    "#\n",
    "from common.io import datalake_root, write_onnx"
   ]
  },
  {
   "cell_type": "code",
   "execution_count": 11,
   "id": "32b6702e",
   "metadata": {
    "execution": {
     "iopub.execute_input": "2022-07-18T11:25:28.508635Z",
     "iopub.status.busy": "2022-07-18T11:25:28.507951Z",
     "iopub.status.idle": "2022-07-18T11:25:28.571231Z",
     "shell.execute_reply": "2022-07-18T11:25:28.570377Z"
    },
    "papermill": {
     "duration": 0.072851,
     "end_time": "2022-07-18T11:25:28.573402",
     "exception": false,
     "start_time": "2022-07-18T11:25:28.500551",
     "status": "completed"
    },
    "tags": []
   },
   "outputs": [],
   "source": [
    "# convert sklearn model into onnx and persist to data lake\n",
    "\n",
    "model_onnx = convert_sklearn(\n",
    "    model, initial_types=[(\"float_input_8x8_image\", FloatTensorType([None, 8 * 8]))]\n",
    ")\n",
    "write_onnx(\n",
    "    datalake_root(P)\n",
    "    / \"models\"\n",
    "    / f\"nr_train_images={P['task.nr_train_images']}\"\n",
    "    / \"model.onnx\",\n",
    "    model_onnx,\n",
    ")"
   ]
  },
  {
   "cell_type": "code",
   "execution_count": null,
   "id": "17fcbf9d",
   "metadata": {
    "papermill": {
     "duration": 0.003788,
     "end_time": "2022-07-18T11:25:28.581876",
     "exception": false,
     "start_time": "2022-07-18T11:25:28.578088",
     "status": "completed"
    },
    "tags": []
   },
   "outputs": [],
   "source": []
  }
 ],
 "metadata": {
  "jupytext": {
   "cell_metadata_filter": "tags,-all",
   "main_language": "python",
   "notebook_metadata_filter": "-all"
  },
  "language_info": {
   "codemirror_mode": {
    "name": "ipython",
    "version": 3
   },
   "file_extension": ".py",
   "mimetype": "text/x-python",
   "name": "python",
   "nbconvert_exporter": "python",
   "pygments_lexer": "ipython3",
   "version": "3.8.10"
  },
  "papermill": {
   "default_parameters": {},
   "duration": 6.116918,
   "end_time": "2022-07-18T11:25:29.816719",
   "environment_variables": {},
   "exception": null,
   "input_path": "/home/host_user/workspace/mnist-demo-pipeline/mnist-demo-pipeline/notebooks/temp-notebook-as78zjts.ipynb",
   "output_path": "notebooks/train-model.ipynb",
   "parameters": {
    "P": {
     "_opentelemetry_traceparent": "00-b0e446e89b17bdeb058dbb10a0b42255-c9ea53867088198a-01",
     "pipeline.data_lake_root": "/pipeline-outputs/data-lake",
     "pipeline.github.actor": "matiasdahl",
     "pipeline.github.base_ref": "development",
     "pipeline.github.event_name": "pull_request",
     "pipeline.github.head_ref": "graph-parsing",
     "pipeline.github.job": "run-tests-pipeline-and-persist-pipeline-outputs",
     "pipeline.github.ref": "refs/pull/57/merge",
     "pipeline.github.ref_name": "57/merge",
     "pipeline.github.ref_type": "branch",
     "pipeline.github.repository": "pynb-dag-runner/mnist-digits-demo-pipeline",
     "pipeline.github.run_id": "2690097514",
     "pipeline.github.runner_name": "GitHub Actions 2",
     "pipeline.github.sha": "8283f417a1f6964b1fa1c6cda8e5c5ec877446d4",
     "pipeline.github.workflow": "Run automated tests, pipeline and deploy results to static reporting site",
     "pipeline.pipeline_run_id": "711628db-7a55-4b5a-89fb-b41dd311f49f",
     "pipeline.run_environment": "ci",
     "run.retry_nr": "0",
     "task.max_nr_retries": "1",
     "task.notebook": "notebooks/train-model.py",
     "task.nr_train_images": 800,
     "task.num_cpus": 1,
     "task.timeout_s": "None"
    }
   },
   "start_time": "2022-07-18T11:25:23.699801",
   "version": "2.3.3"
  }
 },
 "nbformat": 4,
 "nbformat_minor": 5
}