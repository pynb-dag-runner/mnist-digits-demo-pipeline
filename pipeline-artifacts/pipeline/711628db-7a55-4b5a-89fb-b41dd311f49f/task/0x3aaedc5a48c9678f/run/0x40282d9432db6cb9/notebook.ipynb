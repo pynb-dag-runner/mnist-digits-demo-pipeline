{
 "cells": [
  {
   "cell_type": "markdown",
   "id": "94cc6e22",
   "metadata": {
    "papermill": {
     "duration": 0.020095,
     "end_time": "2022-07-18T11:25:11.439358",
     "exception": false,
     "start_time": "2022-07-18T11:25:11.419263",
     "status": "completed"
    },
    "tags": []
   },
   "source": [
    "# Split digits and labels into separate training and testing data sets"
   ]
  },
  {
   "cell_type": "markdown",
   "id": "41e1593f",
   "metadata": {
    "papermill": {
     "duration": 0.002739,
     "end_time": "2022-07-18T11:25:11.445383",
     "exception": false,
     "start_time": "2022-07-18T11:25:11.442644",
     "status": "completed"
    },
    "tags": []
   },
   "source": [
    "### Determine run parameters"
   ]
  },
  {
   "cell_type": "code",
   "execution_count": 1,
   "id": "42263a9e",
   "metadata": {
    "execution": {
     "iopub.execute_input": "2022-07-18T11:25:11.452992Z",
     "iopub.status.busy": "2022-07-18T11:25:11.452591Z",
     "iopub.status.idle": "2022-07-18T11:25:11.461191Z",
     "shell.execute_reply": "2022-07-18T11:25:11.460116Z"
    },
    "lines_to_next_cell": 0,
    "papermill": {
     "duration": 0.015529,
     "end_time": "2022-07-18T11:25:11.463494",
     "exception": false,
     "start_time": "2022-07-18T11:25:11.447965",
     "status": "completed"
    },
    "tags": []
   },
   "outputs": [],
   "source": [
    "# ----------------- Parameters for interactive development --------------\n",
    "P = {\n",
    "    \"pipeline.data_lake_root\": \"/pipeline-outputs/data-lake\",\n",
    "    \"task.train_test_ratio\": 0.7,\n",
    "}"
   ]
  },
  {
   "cell_type": "code",
   "execution_count": 2,
   "id": "04c35c00",
   "metadata": {
    "execution": {
     "iopub.execute_input": "2022-07-18T11:25:11.471343Z",
     "iopub.status.busy": "2022-07-18T11:25:11.470905Z",
     "iopub.status.idle": "2022-07-18T11:25:11.474835Z",
     "shell.execute_reply": "2022-07-18T11:25:11.474157Z"
    },
    "lines_to_next_cell": 0,
    "papermill": {
     "duration": 0.013641,
     "end_time": "2022-07-18T11:25:11.480489",
     "exception": false,
     "start_time": "2022-07-18T11:25:11.466848",
     "status": "completed"
    },
    "tags": [
     "parameters"
    ]
   },
   "outputs": [],
   "source": [
    "# - During automated runs parameters will be injected in the below cell -"
   ]
  },
  {
   "cell_type": "code",
   "execution_count": 3,
   "id": "8d1a8fed",
   "metadata": {
    "execution": {
     "iopub.execute_input": "2022-07-18T11:25:11.488524Z",
     "iopub.status.busy": "2022-07-18T11:25:11.487880Z",
     "iopub.status.idle": "2022-07-18T11:25:11.496515Z",
     "shell.execute_reply": "2022-07-18T11:25:11.495602Z"
    },
    "papermill": {
     "duration": 0.020008,
     "end_time": "2022-07-18T11:25:11.503667",
     "exception": false,
     "start_time": "2022-07-18T11:25:11.483659",
     "status": "completed"
    },
    "tags": [
     "injected-parameters"
    ]
   },
   "outputs": [],
   "source": [
    "# Parameters\n",
    "P = {\n",
    "    \"pipeline.data_lake_root\": \"/pipeline-outputs/data-lake\",\n",
    "    \"pipeline.run_environment\": \"ci\",\n",
    "    \"pipeline.pipeline_run_id\": \"711628db-7a55-4b5a-89fb-b41dd311f49f\",\n",
    "    \"pipeline.github.repository\": \"pynb-dag-runner/mnist-digits-demo-pipeline\",\n",
    "    \"pipeline.github.workflow\": \"Run automated tests, pipeline and deploy results to static reporting site\",\n",
    "    \"pipeline.github.runner_name\": \"GitHub Actions 2\",\n",
    "    \"pipeline.github.run_id\": \"2690097514\",\n",
    "    \"pipeline.github.actor\": \"matiasdahl\",\n",
    "    \"pipeline.github.job\": \"run-tests-pipeline-and-persist-pipeline-outputs\",\n",
    "    \"pipeline.github.base_ref\": \"development\",\n",
    "    \"pipeline.github.head_ref\": \"graph-parsing\",\n",
    "    \"pipeline.github.sha\": \"8283f417a1f6964b1fa1c6cda8e5c5ec877446d4\",\n",
    "    \"pipeline.github.ref\": \"refs/pull/57/merge\",\n",
    "    \"pipeline.github.ref_type\": \"branch\",\n",
    "    \"pipeline.github.ref_name\": \"57/merge\",\n",
    "    \"pipeline.github.event_name\": \"pull_request\",\n",
    "    \"task.train_test_ratio\": 0.7,\n",
    "    \"task.notebook\": \"notebooks/split-train-test.py\",\n",
    "    \"task.max_nr_retries\": \"1\",\n",
    "    \"run.retry_nr\": \"0\",\n",
    "    \"task.timeout_s\": \"None\",\n",
    "    \"task.num_cpus\": 1,\n",
    "    \"_opentelemetry_traceparent\": \"00-b0e446e89b17bdeb058dbb10a0b42255-2ec3a0076d9f1555-01\",\n",
    "}\n"
   ]
  },
  {
   "cell_type": "code",
   "execution_count": 4,
   "id": "1f456b1d",
   "metadata": {
    "execution": {
     "iopub.execute_input": "2022-07-18T11:25:11.514208Z",
     "iopub.status.busy": "2022-07-18T11:25:11.513729Z",
     "iopub.status.idle": "2022-07-18T11:25:11.519112Z",
     "shell.execute_reply": "2022-07-18T11:25:11.518346Z"
    },
    "lines_to_next_cell": 0,
    "papermill": {
     "duration": 0.011471,
     "end_time": "2022-07-18T11:25:11.521079",
     "exception": false,
     "start_time": "2022-07-18T11:25:11.509608",
     "status": "completed"
    },
    "tags": []
   },
   "outputs": [],
   "source": [
    "# -----------------------------------------------------------------------"
   ]
  },
  {
   "cell_type": "markdown",
   "id": "5f677340",
   "metadata": {
    "papermill": {
     "duration": 0.003097,
     "end_time": "2022-07-18T11:25:11.533407",
     "exception": false,
     "start_time": "2022-07-18T11:25:11.530310",
     "status": "completed"
    },
    "tags": []
   },
   "source": [
    "---"
   ]
  },
  {
   "cell_type": "markdown",
   "id": "4970fe5c",
   "metadata": {
    "lines_to_next_cell": 2,
    "papermill": {
     "duration": 0.002762,
     "end_time": "2022-07-18T11:25:11.538987",
     "exception": false,
     "start_time": "2022-07-18T11:25:11.536225",
     "status": "completed"
    },
    "tags": []
   },
   "source": [
    "### Notebook code"
   ]
  },
  {
   "cell_type": "code",
   "execution_count": 5,
   "id": "58b01143",
   "metadata": {
    "execution": {
     "iopub.execute_input": "2022-07-18T11:25:11.546273Z",
     "iopub.status.busy": "2022-07-18T11:25:11.546002Z",
     "iopub.status.idle": "2022-07-18T11:25:12.113434Z",
     "shell.execute_reply": "2022-07-18T11:25:12.112434Z"
    },
    "papermill": {
     "duration": 0.57346,
     "end_time": "2022-07-18T11:25:12.115668",
     "exception": false,
     "start_time": "2022-07-18T11:25:11.542208",
     "status": "completed"
    },
    "tags": []
   },
   "outputs": [
    {
     "name": "stderr",
     "output_type": "stream",
     "text": [
      "2022-07-18 11:25:11,936\tINFO worker.py:842 -- Connecting to existing Ray cluster at address: 172.17.0.2:6379\n"
     ]
    }
   ],
   "source": [
    "from common.io import datalake_root, read_numpy, write_numpy\n",
    "from pynb_dag_runner.tasks.task_opentelemetry_logging import PydarLogger\n",
    "\n",
    "logger = PydarLogger(P)"
   ]
  },
  {
   "cell_type": "markdown",
   "id": "9cf16cc6",
   "metadata": {
    "papermill": {
     "duration": 0.004024,
     "end_time": "2022-07-18T11:25:12.125370",
     "exception": false,
     "start_time": "2022-07-18T11:25:12.121346",
     "status": "completed"
    },
    "tags": []
   },
   "source": [
    "## Load and split digits data"
   ]
  },
  {
   "cell_type": "code",
   "execution_count": 6,
   "id": "162d9777",
   "metadata": {
    "execution": {
     "iopub.execute_input": "2022-07-18T11:25:12.135454Z",
     "iopub.status.busy": "2022-07-18T11:25:12.135008Z",
     "iopub.status.idle": "2022-07-18T11:25:12.141431Z",
     "shell.execute_reply": "2022-07-18T11:25:12.140728Z"
    },
    "papermill": {
     "duration": 0.015943,
     "end_time": "2022-07-18T11:25:12.145370",
     "exception": false,
     "start_time": "2022-07-18T11:25:12.129427",
     "status": "completed"
    },
    "tags": []
   },
   "outputs": [],
   "source": [
    "X = read_numpy(datalake_root(P) / \"raw\" / \"digits.numpy\")\n",
    "y = read_numpy(datalake_root(P) / \"raw\" / \"labels.numpy\")"
   ]
  },
  {
   "cell_type": "code",
   "execution_count": 7,
   "id": "19ccce8c",
   "metadata": {
    "execution": {
     "iopub.execute_input": "2022-07-18T11:25:12.153216Z",
     "iopub.status.busy": "2022-07-18T11:25:12.152953Z",
     "iopub.status.idle": "2022-07-18T11:25:12.709255Z",
     "shell.execute_reply": "2022-07-18T11:25:12.708049Z"
    },
    "papermill": {
     "duration": 0.563538,
     "end_time": "2022-07-18T11:25:12.711916",
     "exception": false,
     "start_time": "2022-07-18T11:25:12.148378",
     "status": "completed"
    },
    "tags": []
   },
   "outputs": [],
   "source": [
    "from sklearn.model_selection import train_test_split\n",
    "\n",
    "X_train, X_test, y_train, y_test = train_test_split(\n",
    "    X,\n",
    "    y,\n",
    "    train_size=P[\"task.train_test_ratio\"],\n",
    "    test_size=None,\n",
    "    stratify=y,\n",
    "    shuffle=True,\n",
    "    random_state=1,\n",
    ")\n",
    "\n",
    "# assert nr of pixels per image is the same for all image vectors\n",
    "assert X.shape[1] == X_train.shape[1] == X_test.shape[1]\n",
    "\n",
    "# assert that the (X, y)-pairs have compatible sizes (for both train and test)\n",
    "assert X_train.shape[0] == len(y_train)\n",
    "assert X_test.shape[0] == len(y_test)\n",
    "\n",
    "# assert that all data is used\n",
    "assert len(y) == len(y_train) + len(y_test)"
   ]
  },
  {
   "cell_type": "code",
   "execution_count": 8,
   "id": "fdb4097a",
   "metadata": {
    "execution": {
     "iopub.execute_input": "2022-07-18T11:25:12.722713Z",
     "iopub.status.busy": "2022-07-18T11:25:12.721945Z",
     "iopub.status.idle": "2022-07-18T11:25:12.732907Z",
     "shell.execute_reply": "2022-07-18T11:25:12.732078Z"
    },
    "papermill": {
     "duration": 0.019396,
     "end_time": "2022-07-18T11:25:12.734975",
     "exception": false,
     "start_time": "2022-07-18T11:25:12.715579",
     "status": "completed"
    },
    "tags": []
   },
   "outputs": [
    {
     "name": "stdout",
     "output_type": "stream",
     "text": [
      " - Logging nr_digits_train (int) : 1257\n",
      " - Logging nr_digits_test (int) : 540\n"
     ]
    }
   ],
   "source": [
    "logger.log_int(\"nr_digits_train\", len(y_train))\n",
    "logger.log_int(\"nr_digits_test\", len(y_test))"
   ]
  },
  {
   "cell_type": "markdown",
   "id": "39846f83",
   "metadata": {
    "papermill": {
     "duration": 0.003987,
     "end_time": "2022-07-18T11:25:12.744485",
     "exception": false,
     "start_time": "2022-07-18T11:25:12.740498",
     "status": "completed"
    },
    "tags": []
   },
   "source": [
    "### Persist training and test data sets to separate files"
   ]
  },
  {
   "cell_type": "code",
   "execution_count": 9,
   "id": "85a6aaa7",
   "metadata": {
    "execution": {
     "iopub.execute_input": "2022-07-18T11:25:12.756601Z",
     "iopub.status.busy": "2022-07-18T11:25:12.756250Z",
     "iopub.status.idle": "2022-07-18T11:25:12.766274Z",
     "shell.execute_reply": "2022-07-18T11:25:12.765419Z"
    },
    "papermill": {
     "duration": 0.020655,
     "end_time": "2022-07-18T11:25:12.772319",
     "exception": false,
     "start_time": "2022-07-18T11:25:12.751664",
     "status": "completed"
    },
    "tags": []
   },
   "outputs": [],
   "source": [
    "write_numpy(datalake_root(P) / \"train-data\" / \"digits.numpy\", X_train)\n",
    "write_numpy(datalake_root(P) / \"train-data\" / \"labels.numpy\", y_train)\n",
    "\n",
    "#\n",
    "write_numpy(datalake_root(P) / \"test-data\" / \"digits.numpy\", X_test)\n",
    "write_numpy(datalake_root(P) / \"test-data\" / \"labels.numpy\", y_test)"
   ]
  },
  {
   "cell_type": "code",
   "execution_count": null,
   "id": "6f532cef",
   "metadata": {
    "papermill": {
     "duration": 0.004615,
     "end_time": "2022-07-18T11:25:12.780703",
     "exception": false,
     "start_time": "2022-07-18T11:25:12.776088",
     "status": "completed"
    },
    "tags": []
   },
   "outputs": [],
   "source": []
  }
 ],
 "metadata": {
  "jupytext": {
   "cell_metadata_filter": "tags,-all",
   "main_language": "python",
   "notebook_metadata_filter": "-all"
  },
  "language_info": {
   "codemirror_mode": {
    "name": "ipython",
    "version": 3
   },
   "file_extension": ".py",
   "mimetype": "text/x-python",
   "name": "python",
   "nbconvert_exporter": "python",
   "pygments_lexer": "ipython3",
   "version": "3.8.10"
  },
  "papermill": {
   "default_parameters": {},
   "duration": 4.09318,
   "end_time": "2022-07-18T11:25:13.922957",
   "environment_variables": {},
   "exception": null,
   "input_path": "/home/host_user/workspace/mnist-demo-pipeline/mnist-demo-pipeline/notebooks/temp-notebook-kfcw5w6b.ipynb",
   "output_path": "notebooks/split-train-test.ipynb",
   "parameters": {
    "P": {
     "_opentelemetry_traceparent": "00-b0e446e89b17bdeb058dbb10a0b42255-2ec3a0076d9f1555-01",
     "pipeline.data_lake_root": "/pipeline-outputs/data-lake",
     "pipeline.github.actor": "matiasdahl",
     "pipeline.github.base_ref": "development",
     "pipeline.github.event_name": "pull_request",
     "pipeline.github.head_ref": "graph-parsing",
     "pipeline.github.job": "run-tests-pipeline-and-persist-pipeline-outputs",
     "pipeline.github.ref": "refs/pull/57/merge",
     "pipeline.github.ref_name": "57/merge",
     "pipeline.github.ref_type": "branch",
     "pipeline.github.repository": "pynb-dag-runner/mnist-digits-demo-pipeline",
     "pipeline.github.run_id": "2690097514",
     "pipeline.github.runner_name": "GitHub Actions 2",
     "pipeline.github.sha": "8283f417a1f6964b1fa1c6cda8e5c5ec877446d4",
     "pipeline.github.workflow": "Run automated tests, pipeline and deploy results to static reporting site",
     "pipeline.pipeline_run_id": "711628db-7a55-4b5a-89fb-b41dd311f49f",
     "pipeline.run_environment": "ci",
     "run.retry_nr": "0",
     "task.max_nr_retries": "1",
     "task.notebook": "notebooks/split-train-test.py",
     "task.num_cpus": 1,
     "task.timeout_s": "None",
     "task.train_test_ratio": 0.7
    }
   },
   "start_time": "2022-07-18T11:25:09.829777",
   "version": "2.3.3"
  }
 },
 "nbformat": 4,
 "nbformat_minor": 5
}