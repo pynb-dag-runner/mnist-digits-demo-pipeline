{
 "cells": [
  {
   "cell_type": "markdown",
   "id": "8dd433c6",
   "metadata": {
    "papermill": {
     "duration": 0.006725,
     "end_time": "2022-07-18T11:25:17.374623",
     "exception": false,
     "start_time": "2022-07-18T11:25:17.367898",
     "status": "completed"
    },
    "tags": []
   },
   "source": [
    "# Train model\n",
    "\n",
    "The purpose of this notebook is:\n",
    "\n",
    "- Load all training data (images and labels).\n",
    "- Limit number of train images to `task.nr_train_images` (value provided as run parameter).\n",
    "- Train a support vector machine model using sklearn.\n",
    "- Persist the trained model using the ONNX format."
   ]
  },
  {
   "cell_type": "markdown",
   "id": "89acb5d6",
   "metadata": {
    "papermill": {
     "duration": 0.004464,
     "end_time": "2022-07-18T11:25:17.383662",
     "exception": false,
     "start_time": "2022-07-18T11:25:17.379198",
     "status": "completed"
    },
    "tags": []
   },
   "source": [
    "### Determine run parameters"
   ]
  },
  {
   "cell_type": "code",
   "execution_count": 1,
   "id": "474f12b3",
   "metadata": {
    "execution": {
     "iopub.execute_input": "2022-07-18T11:25:17.392483Z",
     "iopub.status.busy": "2022-07-18T11:25:17.392134Z",
     "iopub.status.idle": "2022-07-18T11:25:17.405115Z",
     "shell.execute_reply": "2022-07-18T11:25:17.404250Z"
    },
    "lines_to_next_cell": 0,
    "papermill": {
     "duration": 0.020924,
     "end_time": "2022-07-18T11:25:17.408001",
     "exception": false,
     "start_time": "2022-07-18T11:25:17.387077",
     "status": "completed"
    },
    "tags": []
   },
   "outputs": [],
   "source": [
    "# ----------------- Parameters for interactive development --------------\n",
    "P = {\n",
    "    \"pipeline.data_lake_root\": \"/pipeline-outputs/data-lake\",\n",
    "    \"task.nr_train_images\": 600,\n",
    "}"
   ]
  },
  {
   "cell_type": "code",
   "execution_count": 2,
   "id": "48cb9297",
   "metadata": {
    "execution": {
     "iopub.execute_input": "2022-07-18T11:25:17.417067Z",
     "iopub.status.busy": "2022-07-18T11:25:17.416771Z",
     "iopub.status.idle": "2022-07-18T11:25:17.420584Z",
     "shell.execute_reply": "2022-07-18T11:25:17.419895Z"
    },
    "lines_to_next_cell": 0,
    "papermill": {
     "duration": 0.013209,
     "end_time": "2022-07-18T11:25:17.424871",
     "exception": false,
     "start_time": "2022-07-18T11:25:17.411662",
     "status": "completed"
    },
    "tags": [
     "parameters"
    ]
   },
   "outputs": [],
   "source": [
    "# - During automated runs parameters will be injected in the below cell -"
   ]
  },
  {
   "cell_type": "code",
   "execution_count": 3,
   "id": "2ed67022",
   "metadata": {
    "execution": {
     "iopub.execute_input": "2022-07-18T11:25:17.433737Z",
     "iopub.status.busy": "2022-07-18T11:25:17.433444Z",
     "iopub.status.idle": "2022-07-18T11:25:17.439977Z",
     "shell.execute_reply": "2022-07-18T11:25:17.439334Z"
    },
    "papermill": {
     "duration": 0.014895,
     "end_time": "2022-07-18T11:25:17.443570",
     "exception": false,
     "start_time": "2022-07-18T11:25:17.428675",
     "status": "completed"
    },
    "tags": [
     "injected-parameters"
    ]
   },
   "outputs": [],
   "source": [
    "# Parameters\n",
    "P = {\n",
    "    \"pipeline.data_lake_root\": \"/pipeline-outputs/data-lake\",\n",
    "    \"pipeline.run_environment\": \"ci\",\n",
    "    \"pipeline.pipeline_run_id\": \"711628db-7a55-4b5a-89fb-b41dd311f49f\",\n",
    "    \"pipeline.github.repository\": \"pynb-dag-runner/mnist-digits-demo-pipeline\",\n",
    "    \"pipeline.github.workflow\": \"Run automated tests, pipeline and deploy results to static reporting site\",\n",
    "    \"pipeline.github.runner_name\": \"GitHub Actions 2\",\n",
    "    \"pipeline.github.run_id\": \"2690097514\",\n",
    "    \"pipeline.github.actor\": \"matiasdahl\",\n",
    "    \"pipeline.github.job\": \"run-tests-pipeline-and-persist-pipeline-outputs\",\n",
    "    \"pipeline.github.base_ref\": \"development\",\n",
    "    \"pipeline.github.head_ref\": \"graph-parsing\",\n",
    "    \"pipeline.github.sha\": \"8283f417a1f6964b1fa1c6cda8e5c5ec877446d4\",\n",
    "    \"pipeline.github.ref\": \"refs/pull/57/merge\",\n",
    "    \"pipeline.github.ref_type\": \"branch\",\n",
    "    \"pipeline.github.ref_name\": \"57/merge\",\n",
    "    \"pipeline.github.event_name\": \"pull_request\",\n",
    "    \"task.nr_train_images\": 1200,\n",
    "    \"task.notebook\": \"notebooks/train-model.py\",\n",
    "    \"task.max_nr_retries\": \"1\",\n",
    "    \"run.retry_nr\": \"0\",\n",
    "    \"task.timeout_s\": \"None\",\n",
    "    \"task.num_cpus\": 1,\n",
    "    \"_opentelemetry_traceparent\": \"00-b0e446e89b17bdeb058dbb10a0b42255-ba04cd6fb4f66313-01\",\n",
    "}\n"
   ]
  },
  {
   "cell_type": "code",
   "execution_count": 4,
   "id": "285ac96e",
   "metadata": {
    "execution": {
     "iopub.execute_input": "2022-07-18T11:25:17.455432Z",
     "iopub.status.busy": "2022-07-18T11:25:17.455076Z",
     "iopub.status.idle": "2022-07-18T11:25:17.459484Z",
     "shell.execute_reply": "2022-07-18T11:25:17.458654Z"
    },
    "lines_to_next_cell": 0,
    "papermill": {
     "duration": 0.012394,
     "end_time": "2022-07-18T11:25:17.462784",
     "exception": false,
     "start_time": "2022-07-18T11:25:17.450390",
     "status": "completed"
    },
    "tags": []
   },
   "outputs": [],
   "source": [
    "# -----------------------------------------------------------------------"
   ]
  },
  {
   "cell_type": "markdown",
   "id": "d15699f2",
   "metadata": {
    "papermill": {
     "duration": 0.003399,
     "end_time": "2022-07-18T11:25:17.473454",
     "exception": false,
     "start_time": "2022-07-18T11:25:17.470055",
     "status": "completed"
    },
    "tags": []
   },
   "source": [
    "---"
   ]
  },
  {
   "cell_type": "markdown",
   "id": "74268c0c",
   "metadata": {
    "lines_to_next_cell": 2,
    "papermill": {
     "duration": 0.004384,
     "end_time": "2022-07-18T11:25:17.481137",
     "exception": false,
     "start_time": "2022-07-18T11:25:17.476753",
     "status": "completed"
    },
    "tags": []
   },
   "source": [
    "### Notebook code"
   ]
  },
  {
   "cell_type": "code",
   "execution_count": 5,
   "id": "b816a58e",
   "metadata": {
    "execution": {
     "iopub.execute_input": "2022-07-18T11:25:17.489964Z",
     "iopub.status.busy": "2022-07-18T11:25:17.489642Z",
     "iopub.status.idle": "2022-07-18T11:25:18.115742Z",
     "shell.execute_reply": "2022-07-18T11:25:18.114659Z"
    },
    "papermill": {
     "duration": 0.633579,
     "end_time": "2022-07-18T11:25:18.118261",
     "exception": false,
     "start_time": "2022-07-18T11:25:17.484682",
     "status": "completed"
    },
    "tags": []
   },
   "outputs": [
    {
     "name": "stderr",
     "output_type": "stream",
     "text": [
      "2022-07-18 11:25:17,922\tINFO worker.py:842 -- Connecting to existing Ray cluster at address: 172.17.0.2:6379\n"
     ]
    }
   ],
   "source": [
    "from pynb_dag_runner.tasks.task_opentelemetry_logging import PydarLogger\n",
    "\n",
    "logger = PydarLogger(P)"
   ]
  },
  {
   "cell_type": "markdown",
   "id": "5c22cf93",
   "metadata": {
    "papermill": {
     "duration": 0.004826,
     "end_time": "2022-07-18T11:25:18.127162",
     "exception": false,
     "start_time": "2022-07-18T11:25:18.122336",
     "status": "completed"
    },
    "tags": []
   },
   "source": [
    "## Load and limit train data"
   ]
  },
  {
   "cell_type": "code",
   "execution_count": 6,
   "id": "1a374d3a",
   "metadata": {
    "execution": {
     "iopub.execute_input": "2022-07-18T11:25:18.136708Z",
     "iopub.status.busy": "2022-07-18T11:25:18.135945Z",
     "iopub.status.idle": "2022-07-18T11:25:18.727736Z",
     "shell.execute_reply": "2022-07-18T11:25:18.726501Z"
    },
    "papermill": {
     "duration": 0.599483,
     "end_time": "2022-07-18T11:25:18.730065",
     "exception": false,
     "start_time": "2022-07-18T11:25:18.130582",
     "status": "completed"
    },
    "tags": []
   },
   "outputs": [],
   "source": [
    "def load_and_limit_train_data(P):\n",
    "    from common.io import datalake_root, read_numpy\n",
    "    from sklearn.model_selection import train_test_split\n",
    "\n",
    "    X_train_all = read_numpy(datalake_root(P) / \"train-data\" / \"digits.numpy\")\n",
    "    y_train_all = read_numpy(datalake_root(P) / \"train-data\" / \"labels.numpy\")\n",
    "\n",
    "    assert isinstance(P[\"task.nr_train_images\"], int)\n",
    "\n",
    "    # Note: train_test_split will fail if split is 0 or 100%.\n",
    "    assert 0 < P[\"task.nr_train_images\"] < len(y_train_all)\n",
    "\n",
    "    X_train, _, y_train, _ = train_test_split(\n",
    "        X_train_all,\n",
    "        y_train_all,\n",
    "        train_size=P[\"task.nr_train_images\"],\n",
    "        test_size=None,\n",
    "        stratify=y_train_all,\n",
    "        shuffle=True,\n",
    "        random_state=123,\n",
    "    )\n",
    "\n",
    "    assert X_train.shape == (len(y_train), 8 * 8)\n",
    "    return X_train, y_train\n",
    "\n",
    "\n",
    "X_train, y_train = load_and_limit_train_data(P)"
   ]
  },
  {
   "cell_type": "markdown",
   "id": "b4eaa214",
   "metadata": {
    "papermill": {
     "duration": 0.003846,
     "end_time": "2022-07-18T11:25:18.739408",
     "exception": false,
     "start_time": "2022-07-18T11:25:18.735562",
     "status": "completed"
    },
    "tags": []
   },
   "source": [
    "## Train support vector classifier model\n",
    "\n",
    "Below we assume that the hyperparameter $C$ is known.\n",
    "\n",
    "However, this should ideally be found by a hyperparameter search. That could be\n",
    "done in parallel on the Ray cluster, but this needs some more work. Ie., to use\n",
    "multiple cores in the notebook, those cores should be reserved when starting the\n",
    "notebook task (TODO).\n",
    "\n",
    "- https://docs.ray.io/en/latest/tune/key-concepts.html\n",
    "\n",
    "Note: cv-scores would need to be computed here, since they depend on the train data.\n",
    "After this notebook only the onnx-model is available."
   ]
  },
  {
   "cell_type": "code",
   "execution_count": 7,
   "id": "4b0ed450",
   "metadata": {
    "execution": {
     "iopub.execute_input": "2022-07-18T11:25:18.749177Z",
     "iopub.status.busy": "2022-07-18T11:25:18.748682Z",
     "iopub.status.idle": "2022-07-18T11:25:18.850844Z",
     "shell.execute_reply": "2022-07-18T11:25:18.849670Z"
    },
    "papermill": {
     "duration": 0.110351,
     "end_time": "2022-07-18T11:25:18.853542",
     "exception": false,
     "start_time": "2022-07-18T11:25:18.743191",
     "status": "completed"
    },
    "tags": []
   },
   "outputs": [],
   "source": [
    "from sklearn.svm import SVC"
   ]
  },
  {
   "cell_type": "code",
   "execution_count": 8,
   "id": "4d6e1de5",
   "metadata": {
    "execution": {
     "iopub.execute_input": "2022-07-18T11:25:18.864040Z",
     "iopub.status.busy": "2022-07-18T11:25:18.863709Z",
     "iopub.status.idle": "2022-07-18T11:25:19.085361Z",
     "shell.execute_reply": "2022-07-18T11:25:19.084360Z"
    },
    "papermill": {
     "duration": 0.229382,
     "end_time": "2022-07-18T11:25:19.087302",
     "exception": false,
     "start_time": "2022-07-18T11:25:18.857920",
     "status": "completed"
    },
    "tags": []
   },
   "outputs": [
    {
     "name": "stdout",
     "output_type": "stream",
     "text": [
      "\u001b[2m\u001b[1m\u001b[36m(scheduler +1s)\u001b[0m Tip: use `ray status` to view detailed cluster status. To disable these messages, set RAY_SCHEDULER_EVENTS=0.\n",
      "\u001b[2m\u001b[1m\u001b[33m(scheduler +1s)\u001b[0m Warning: The following resource request cannot be scheduled right now: {'CPU': 1.0}. This is likely due to all cluster resources being claimed by actors. Consider creating fewer actors or adding more nodes to this Ray cluster.\n"
     ]
    },
    {
     "data": {
      "text/plain": [
       "SVC(C=0.001, kernel='linear', probability=True)"
      ]
     },
     "execution_count": 8,
     "metadata": {},
     "output_type": "execute_result"
    }
   ],
   "source": [
    "model = SVC(C=0.001, kernel=\"linear\", probability=True)\n",
    "\n",
    "model.fit(X_train, y_train)"
   ]
  },
  {
   "cell_type": "markdown",
   "id": "c89da666",
   "metadata": {
    "papermill": {
     "duration": 0.003818,
     "end_time": "2022-07-18T11:25:19.095444",
     "exception": false,
     "start_time": "2022-07-18T11:25:19.091626",
     "status": "completed"
    },
    "tags": []
   },
   "source": [
    "### Q: Can the labels returned by `predict(..)` be computed from probabilities returned by the `predict_prob`-method?"
   ]
  },
  {
   "cell_type": "code",
   "execution_count": 9,
   "id": "9729c776",
   "metadata": {
    "execution": {
     "iopub.execute_input": "2022-07-18T11:25:19.104832Z",
     "iopub.status.busy": "2022-07-18T11:25:19.104389Z",
     "iopub.status.idle": "2022-07-18T11:25:19.207182Z",
     "shell.execute_reply": "2022-07-18T11:25:19.206263Z"
    },
    "papermill": {
     "duration": 0.109765,
     "end_time": "2022-07-18T11:25:19.208937",
     "exception": false,
     "start_time": "2022-07-18T11:25:19.099172",
     "status": "completed"
    },
    "tags": []
   },
   "outputs": [
    {
     "name": "stdout",
     "output_type": "stream",
     "text": [
      " - Logging nr_max_prob_neq_label (int) : 4\n"
     ]
    }
   ],
   "source": [
    "import numpy as np\n",
    "\n",
    "y_train_labels = model.predict(X_train)\n",
    "y_train_probabilities = model.predict_proba(X_train)\n",
    "assert y_train_probabilities.shape == (len(y_train), 10)\n",
    "\n",
    "y_train_max_prob_labels = np.argmax(y_train_probabilities, axis=1)\n",
    "assert y_train_labels.shape == y_train_max_prob_labels.shape == y_train.shape\n",
    "\n",
    "# If the predicted labels would coincide with the labels that have\n",
    "# maximum probability, the below number would be zero\n",
    "logger.log_int(\n",
    "    \"nr_max_prob_neq_label\", int(sum(y_train_max_prob_labels != y_train_labels))\n",
    ")"
   ]
  },
  {
   "cell_type": "markdown",
   "id": "10e1deeb",
   "metadata": {
    "papermill": {
     "duration": 0.005271,
     "end_time": "2022-07-18T11:25:19.218168",
     "exception": false,
     "start_time": "2022-07-18T11:25:19.212897",
     "status": "completed"
    },
    "tags": []
   },
   "source": [
    "The explanation is (likely) explained in the SVC source, see\n",
    "[here](https://github.com/scikit-learn/scikit-learn/blob/main/sklearn/svm/_base.py).\n",
    "Namely, the outputs from `predict(..)` and `predict_proba(..)` may not in some\n",
    "cases be compatible since the latter is computed using cross-validation while\n",
    "the former is not. Thus, the above number need not be zero."
   ]
  },
  {
   "cell_type": "markdown",
   "id": "0e35636f",
   "metadata": {
    "papermill": {
     "duration": 0.00457,
     "end_time": "2022-07-18T11:25:19.227222",
     "exception": false,
     "start_time": "2022-07-18T11:25:19.222652",
     "status": "completed"
    },
    "tags": []
   },
   "source": [
    "## Persist model"
   ]
  },
  {
   "cell_type": "code",
   "execution_count": 10,
   "id": "71e0017d",
   "metadata": {
    "execution": {
     "iopub.execute_input": "2022-07-18T11:25:19.237912Z",
     "iopub.status.busy": "2022-07-18T11:25:19.237535Z",
     "iopub.status.idle": "2022-07-18T11:25:20.668506Z",
     "shell.execute_reply": "2022-07-18T11:25:20.667572Z"
    },
    "papermill": {
     "duration": 1.438967,
     "end_time": "2022-07-18T11:25:20.671093",
     "exception": false,
     "start_time": "2022-07-18T11:25:19.232126",
     "status": "completed"
    },
    "tags": []
   },
   "outputs": [],
   "source": [
    "from skl2onnx import convert_sklearn\n",
    "from skl2onnx.common.data_types import FloatTensorType\n",
    "\n",
    "#\n",
    "from common.io import datalake_root, write_onnx"
   ]
  },
  {
   "cell_type": "code",
   "execution_count": 11,
   "id": "b4e7e0ed",
   "metadata": {
    "execution": {
     "iopub.execute_input": "2022-07-18T11:25:20.684682Z",
     "iopub.status.busy": "2022-07-18T11:25:20.684249Z",
     "iopub.status.idle": "2022-07-18T11:25:20.755976Z",
     "shell.execute_reply": "2022-07-18T11:25:20.754993Z"
    },
    "papermill": {
     "duration": 0.079703,
     "end_time": "2022-07-18T11:25:20.758095",
     "exception": false,
     "start_time": "2022-07-18T11:25:20.678392",
     "status": "completed"
    },
    "tags": []
   },
   "outputs": [],
   "source": [
    "# convert sklearn model into onnx and persist to data lake\n",
    "\n",
    "model_onnx = convert_sklearn(\n",
    "    model, initial_types=[(\"float_input_8x8_image\", FloatTensorType([None, 8 * 8]))]\n",
    ")\n",
    "write_onnx(\n",
    "    datalake_root(P)\n",
    "    / \"models\"\n",
    "    / f\"nr_train_images={P['task.nr_train_images']}\"\n",
    "    / \"model.onnx\",\n",
    "    model_onnx,\n",
    ")"
   ]
  },
  {
   "cell_type": "code",
   "execution_count": null,
   "id": "2056d6b1",
   "metadata": {
    "papermill": {
     "duration": 0.010999,
     "end_time": "2022-07-18T11:25:20.773837",
     "exception": false,
     "start_time": "2022-07-18T11:25:20.762838",
     "status": "completed"
    },
    "tags": []
   },
   "outputs": [],
   "source": []
  }
 ],
 "metadata": {
  "jupytext": {
   "cell_metadata_filter": "tags,-all",
   "main_language": "python",
   "notebook_metadata_filter": "-all"
  },
  "language_info": {
   "codemirror_mode": {
    "name": "ipython",
    "version": 3
   },
   "file_extension": ".py",
   "mimetype": "text/x-python",
   "name": "python",
   "nbconvert_exporter": "python",
   "pygments_lexer": "ipython3",
   "version": "3.8.10"
  },
  "papermill": {
   "default_parameters": {},
   "duration": 6.316603,
   "end_time": "2022-07-18T11:25:22.002226",
   "environment_variables": {},
   "exception": null,
   "input_path": "/home/host_user/workspace/mnist-demo-pipeline/mnist-demo-pipeline/notebooks/temp-notebook-1klzsav5.ipynb",
   "output_path": "notebooks/train-model.ipynb",
   "parameters": {
    "P": {
     "_opentelemetry_traceparent": "00-b0e446e89b17bdeb058dbb10a0b42255-ba04cd6fb4f66313-01",
     "pipeline.data_lake_root": "/pipeline-outputs/data-lake",
     "pipeline.github.actor": "matiasdahl",
     "pipeline.github.base_ref": "development",
     "pipeline.github.event_name": "pull_request",
     "pipeline.github.head_ref": "graph-parsing",
     "pipeline.github.job": "run-tests-pipeline-and-persist-pipeline-outputs",
     "pipeline.github.ref": "refs/pull/57/merge",
     "pipeline.github.ref_name": "57/merge",
     "pipeline.github.ref_type": "branch",
     "pipeline.github.repository": "pynb-dag-runner/mnist-digits-demo-pipeline",
     "pipeline.github.run_id": "2690097514",
     "pipeline.github.runner_name": "GitHub Actions 2",
     "pipeline.github.sha": "8283f417a1f6964b1fa1c6cda8e5c5ec877446d4",
     "pipeline.github.workflow": "Run automated tests, pipeline and deploy results to static reporting site",
     "pipeline.pipeline_run_id": "711628db-7a55-4b5a-89fb-b41dd311f49f",
     "pipeline.run_environment": "ci",
     "run.retry_nr": "0",
     "task.max_nr_retries": "1",
     "task.notebook": "notebooks/train-model.py",
     "task.nr_train_images": 1200,
     "task.num_cpus": 1,
     "task.timeout_s": "None"
    }
   },
   "start_time": "2022-07-18T11:25:15.685623",
   "version": "2.3.3"
  }
 },
 "nbformat": 4,
 "nbformat_minor": 5
}