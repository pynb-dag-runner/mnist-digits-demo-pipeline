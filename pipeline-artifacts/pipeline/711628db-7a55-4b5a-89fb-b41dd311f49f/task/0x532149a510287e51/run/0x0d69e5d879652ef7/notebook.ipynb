{
 "cells": [
  {
   "cell_type": "markdown",
   "id": "5f3eb93a",
   "metadata": {
    "papermill": {
     "duration": 0.004394,
     "end_time": "2022-07-18T11:25:05.274577",
     "exception": false,
     "start_time": "2022-07-18T11:25:05.270183",
     "status": "completed"
    },
    "tags": []
   },
   "source": [
    "# Ingest toy version of MNIST digit data from sklearn"
   ]
  },
  {
   "cell_type": "markdown",
   "id": "df43492a",
   "metadata": {
    "papermill": {
     "duration": 0.002977,
     "end_time": "2022-07-18T11:25:05.280291",
     "exception": false,
     "start_time": "2022-07-18T11:25:05.277314",
     "status": "completed"
    },
    "tags": []
   },
   "source": [
    "### Determine run parameters"
   ]
  },
  {
   "cell_type": "code",
   "execution_count": 1,
   "id": "a7761c26",
   "metadata": {
    "execution": {
     "iopub.execute_input": "2022-07-18T11:25:05.287781Z",
     "iopub.status.busy": "2022-07-18T11:25:05.287112Z",
     "iopub.status.idle": "2022-07-18T11:25:05.298306Z",
     "shell.execute_reply": "2022-07-18T11:25:05.296974Z"
    },
    "lines_to_next_cell": 0,
    "papermill": {
     "duration": 0.018691,
     "end_time": "2022-07-18T11:25:05.301538",
     "exception": false,
     "start_time": "2022-07-18T11:25:05.282847",
     "status": "completed"
    },
    "tags": []
   },
   "outputs": [],
   "source": [
    "# ----------------- Parameters for interactive development --------------\n",
    "P = {\n",
    "    \"pipeline.run_environment\": \"dev\",\n",
    "    \"pipeline.data_lake_root\": \"/pipeline-outputs/data-lake\",\n",
    "    \"run.retry_nr\": \"1\",\n",
    "}"
   ]
  },
  {
   "cell_type": "code",
   "execution_count": 2,
   "id": "f231aa33",
   "metadata": {
    "execution": {
     "iopub.execute_input": "2022-07-18T11:25:05.308667Z",
     "iopub.status.busy": "2022-07-18T11:25:05.308375Z",
     "iopub.status.idle": "2022-07-18T11:25:05.312217Z",
     "shell.execute_reply": "2022-07-18T11:25:05.311367Z"
    },
    "lines_to_next_cell": 0,
    "papermill": {
     "duration": 0.009658,
     "end_time": "2022-07-18T11:25:05.313814",
     "exception": false,
     "start_time": "2022-07-18T11:25:05.304156",
     "status": "completed"
    },
    "tags": [
     "parameters"
    ]
   },
   "outputs": [],
   "source": [
    "# - During automated runs parameters will be injected in the below cell -"
   ]
  },
  {
   "cell_type": "code",
   "execution_count": 3,
   "id": "d55f3074",
   "metadata": {
    "execution": {
     "iopub.execute_input": "2022-07-18T11:25:05.320843Z",
     "iopub.status.busy": "2022-07-18T11:25:05.320267Z",
     "iopub.status.idle": "2022-07-18T11:25:05.325599Z",
     "shell.execute_reply": "2022-07-18T11:25:05.324811Z"
    },
    "papermill": {
     "duration": 0.011031,
     "end_time": "2022-07-18T11:25:05.327275",
     "exception": false,
     "start_time": "2022-07-18T11:25:05.316244",
     "status": "completed"
    },
    "tags": [
     "injected-parameters"
    ]
   },
   "outputs": [],
   "source": [
    "# Parameters\n",
    "P = {\n",
    "    \"pipeline.data_lake_root\": \"/pipeline-outputs/data-lake\",\n",
    "    \"pipeline.run_environment\": \"ci\",\n",
    "    \"pipeline.pipeline_run_id\": \"711628db-7a55-4b5a-89fb-b41dd311f49f\",\n",
    "    \"pipeline.github.repository\": \"pynb-dag-runner/mnist-digits-demo-pipeline\",\n",
    "    \"pipeline.github.workflow\": \"Run automated tests, pipeline and deploy results to static reporting site\",\n",
    "    \"pipeline.github.runner_name\": \"GitHub Actions 2\",\n",
    "    \"pipeline.github.run_id\": \"2690097514\",\n",
    "    \"pipeline.github.actor\": \"matiasdahl\",\n",
    "    \"pipeline.github.job\": \"run-tests-pipeline-and-persist-pipeline-outputs\",\n",
    "    \"pipeline.github.base_ref\": \"development\",\n",
    "    \"pipeline.github.head_ref\": \"graph-parsing\",\n",
    "    \"pipeline.github.sha\": \"8283f417a1f6964b1fa1c6cda8e5c5ec877446d4\",\n",
    "    \"pipeline.github.ref\": \"refs/pull/57/merge\",\n",
    "    \"pipeline.github.ref_type\": \"branch\",\n",
    "    \"pipeline.github.ref_name\": \"57/merge\",\n",
    "    \"pipeline.github.event_name\": \"pull_request\",\n",
    "    \"task.notebook\": \"notebooks/ingest.py\",\n",
    "    \"task.max_nr_retries\": \"15\",\n",
    "    \"run.retry_nr\": \"10\",\n",
    "    \"task.timeout_s\": \"10\",\n",
    "    \"task.num_cpus\": 1,\n",
    "    \"_opentelemetry_traceparent\": \"00-b0e446e89b17bdeb058dbb10a0b42255-1c9d8b576e915a7f-01\",\n",
    "}\n"
   ]
  },
  {
   "cell_type": "code",
   "execution_count": 4,
   "id": "68a87636",
   "metadata": {
    "execution": {
     "iopub.execute_input": "2022-07-18T11:25:05.334509Z",
     "iopub.status.busy": "2022-07-18T11:25:05.334280Z",
     "iopub.status.idle": "2022-07-18T11:25:05.337369Z",
     "shell.execute_reply": "2022-07-18T11:25:05.336664Z"
    },
    "lines_to_next_cell": 0,
    "papermill": {
     "duration": 0.00904,
     "end_time": "2022-07-18T11:25:05.339281",
     "exception": false,
     "start_time": "2022-07-18T11:25:05.330241",
     "status": "completed"
    },
    "tags": []
   },
   "outputs": [],
   "source": [
    "# -----------------------------------------------------------------------"
   ]
  },
  {
   "cell_type": "markdown",
   "id": "a1fdcd9f",
   "metadata": {
    "lines_to_next_cell": 2,
    "papermill": {
     "duration": 0.0029,
     "end_time": "2022-07-18T11:25:05.345373",
     "exception": false,
     "start_time": "2022-07-18T11:25:05.342473",
     "status": "completed"
    },
    "tags": []
   },
   "source": [
    "---"
   ]
  },
  {
   "cell_type": "markdown",
   "id": "aae630a2",
   "metadata": {
    "papermill": {
     "duration": 0.003121,
     "end_time": "2022-07-18T11:25:05.351026",
     "exception": false,
     "start_time": "2022-07-18T11:25:05.347905",
     "status": "completed"
    },
    "tags": []
   },
   "source": [
    "### Simulate different types of failures (for testing timeout and retry logic)"
   ]
  },
  {
   "cell_type": "code",
   "execution_count": 5,
   "id": "443784c2",
   "metadata": {
    "execution": {
     "iopub.execute_input": "2022-07-18T11:25:05.357986Z",
     "iopub.status.busy": "2022-07-18T11:25:05.357570Z",
     "iopub.status.idle": "2022-07-18T11:25:05.861401Z",
     "shell.execute_reply": "2022-07-18T11:25:05.859999Z"
    },
    "papermill": {
     "duration": 0.509583,
     "end_time": "2022-07-18T11:25:05.863552",
     "exception": false,
     "start_time": "2022-07-18T11:25:05.353969",
     "status": "completed"
    },
    "tags": []
   },
   "outputs": [
    {
     "name": "stderr",
     "output_type": "stream",
     "text": [
      "2022-07-18 11:25:05,707\tINFO worker.py:842 -- Connecting to existing Ray cluster at address: 172.17.0.2:6379\n"
     ]
    }
   ],
   "source": [
    "from pynb_dag_runner.tasks.task_opentelemetry_logging import PydarLogger\n",
    "\n",
    "logger = PydarLogger(P)"
   ]
  },
  {
   "cell_type": "code",
   "execution_count": 6,
   "id": "002221d9",
   "metadata": {
    "execution": {
     "iopub.execute_input": "2022-07-18T11:25:05.871419Z",
     "iopub.status.busy": "2022-07-18T11:25:05.871102Z",
     "iopub.status.idle": "2022-07-18T11:25:05.878444Z",
     "shell.execute_reply": "2022-07-18T11:25:05.877443Z"
    },
    "papermill": {
     "duration": 0.014992,
     "end_time": "2022-07-18T11:25:05.881749",
     "exception": false,
     "start_time": "2022-07-18T11:25:05.866757",
     "status": "completed"
    },
    "tags": []
   },
   "outputs": [],
   "source": [
    "import time, random\n",
    "\n",
    "\n",
    "def maybe_crash(retry_nr: int, run_environment: str):\n",
    "    if retry_nr == 2 and run_environment == \"ci\":\n",
    "        time.sleep(1e6)\n",
    "\n",
    "    max_retry_nr: int = 3 if run_environment == \"dev\" else 10\n",
    "\n",
    "    if retry_nr < max_retry_nr:\n",
    "        if random.random() < 0.1:\n",
    "            time.sleep(1e6)\n",
    "        else:\n",
    "            raise Exception(\"Simulated exception failure from ingestion step notebook!\")\n",
    "\n",
    "\n",
    "maybe_crash(\n",
    "    retry_nr=int(P[\"run.retry_nr\"]), run_environment=P[\"pipeline.run_environment\"]\n",
    ")"
   ]
  },
  {
   "cell_type": "markdown",
   "id": "3a595313",
   "metadata": {
    "lines_to_next_cell": 2,
    "papermill": {
     "duration": 0.003136,
     "end_time": "2022-07-18T11:25:05.887639",
     "exception": false,
     "start_time": "2022-07-18T11:25:05.884503",
     "status": "completed"
    },
    "tags": []
   },
   "source": [
    "### Notebook code"
   ]
  },
  {
   "cell_type": "code",
   "execution_count": 7,
   "id": "ddee69d0",
   "metadata": {
    "execution": {
     "iopub.execute_input": "2022-07-18T11:25:05.894390Z",
     "iopub.status.busy": "2022-07-18T11:25:05.894149Z",
     "iopub.status.idle": "2022-07-18T11:25:07.232118Z",
     "shell.execute_reply": "2022-07-18T11:25:07.231167Z"
    },
    "papermill": {
     "duration": 1.34447,
     "end_time": "2022-07-18T11:25:07.234591",
     "exception": false,
     "start_time": "2022-07-18T11:25:05.890121",
     "status": "completed"
    },
    "tags": []
   },
   "outputs": [],
   "source": [
    "from sklearn import datasets\n",
    "\n",
    "#\n",
    "from common.io import datalake_root, write_numpy"
   ]
  },
  {
   "cell_type": "code",
   "execution_count": 8,
   "id": "4a831341",
   "metadata": {
    "execution": {
     "iopub.execute_input": "2022-07-18T11:25:07.242996Z",
     "iopub.status.busy": "2022-07-18T11:25:07.242468Z",
     "iopub.status.idle": "2022-07-18T11:25:07.256537Z",
     "shell.execute_reply": "2022-07-18T11:25:07.255770Z"
    },
    "lines_to_next_cell": 2,
    "papermill": {
     "duration": 0.020542,
     "end_time": "2022-07-18T11:25:07.258410",
     "exception": false,
     "start_time": "2022-07-18T11:25:07.237868",
     "status": "completed"
    },
    "tags": []
   },
   "outputs": [],
   "source": [
    "digits = datasets.load_digits()\n",
    "\n",
    "X = digits[\"data\"]\n",
    "y = digits[\"target\"]"
   ]
  },
  {
   "cell_type": "code",
   "execution_count": 9,
   "id": "b298001f",
   "metadata": {
    "execution": {
     "iopub.execute_input": "2022-07-18T11:25:07.266078Z",
     "iopub.status.busy": "2022-07-18T11:25:07.265839Z",
     "iopub.status.idle": "2022-07-18T11:25:07.288805Z",
     "shell.execute_reply": "2022-07-18T11:25:07.288039Z"
    },
    "papermill": {
     "duration": 0.028721,
     "end_time": "2022-07-18T11:25:07.290488",
     "exception": false,
     "start_time": "2022-07-18T11:25:07.261767",
     "status": "completed"
    },
    "tags": []
   },
   "outputs": [
    {
     "name": "stdout",
     "output_type": "stream",
     "text": [
      " - Logging data_shape (json) : [1797, 64]\n",
      " - Logging target_shape (json) : [1797]\n"
     ]
    },
    {
     "data": {
      "text/plain": [
       "((1797, 64), (1797,))"
      ]
     },
     "execution_count": 9,
     "metadata": {},
     "output_type": "execute_result"
    }
   ],
   "source": [
    "logger.log_value(\"data_shape\", list(X.shape))\n",
    "logger.log_value(\"target_shape\", list(y.shape))\n",
    "\n",
    "X.shape, y.shape"
   ]
  },
  {
   "cell_type": "code",
   "execution_count": 10,
   "id": "6d109d62",
   "metadata": {
    "execution": {
     "iopub.execute_input": "2022-07-18T11:25:07.299443Z",
     "iopub.status.busy": "2022-07-18T11:25:07.299028Z",
     "iopub.status.idle": "2022-07-18T11:25:07.308839Z",
     "shell.execute_reply": "2022-07-18T11:25:07.307997Z"
    },
    "papermill": {
     "duration": 0.016933,
     "end_time": "2022-07-18T11:25:07.311223",
     "exception": false,
     "start_time": "2022-07-18T11:25:07.294290",
     "status": "completed"
    },
    "tags": []
   },
   "outputs": [],
   "source": [
    "write_numpy(datalake_root(P) / \"raw\" / \"digits.numpy\", X)\n",
    "write_numpy(datalake_root(P) / \"raw\" / \"labels.numpy\", y)"
   ]
  },
  {
   "cell_type": "code",
   "execution_count": null,
   "id": "ebf08791",
   "metadata": {
    "papermill": {
     "duration": 0.003455,
     "end_time": "2022-07-18T11:25:07.318131",
     "exception": false,
     "start_time": "2022-07-18T11:25:07.314676",
     "status": "completed"
    },
    "tags": []
   },
   "outputs": [],
   "source": []
  }
 ],
 "metadata": {
  "jupytext": {
   "cell_metadata_filter": "tags,-all",
   "main_language": "python",
   "notebook_metadata_filter": "-all"
  },
  "language_info": {
   "codemirror_mode": {
    "name": "ipython",
    "version": 3
   },
   "file_extension": ".py",
   "mimetype": "text/x-python",
   "name": "python",
   "nbconvert_exporter": "python",
   "pygments_lexer": "ipython3",
   "version": "3.8.10"
  },
  "papermill": {
   "default_parameters": {},
   "duration": 4.181042,
   "end_time": "2022-07-18T11:25:08.241360",
   "environment_variables": {},
   "exception": null,
   "input_path": "/home/host_user/workspace/mnist-demo-pipeline/mnist-demo-pipeline/notebooks/temp-notebook-nwxxtmof.ipynb",
   "output_path": "notebooks/ingest.ipynb",
   "parameters": {
    "P": {
     "_opentelemetry_traceparent": "00-b0e446e89b17bdeb058dbb10a0b42255-1c9d8b576e915a7f-01",
     "pipeline.data_lake_root": "/pipeline-outputs/data-lake",
     "pipeline.github.actor": "matiasdahl",
     "pipeline.github.base_ref": "development",
     "pipeline.github.event_name": "pull_request",
     "pipeline.github.head_ref": "graph-parsing",
     "pipeline.github.job": "run-tests-pipeline-and-persist-pipeline-outputs",
     "pipeline.github.ref": "refs/pull/57/merge",
     "pipeline.github.ref_name": "57/merge",
     "pipeline.github.ref_type": "branch",
     "pipeline.github.repository": "pynb-dag-runner/mnist-digits-demo-pipeline",
     "pipeline.github.run_id": "2690097514",
     "pipeline.github.runner_name": "GitHub Actions 2",
     "pipeline.github.sha": "8283f417a1f6964b1fa1c6cda8e5c5ec877446d4",
     "pipeline.github.workflow": "Run automated tests, pipeline and deploy results to static reporting site",
     "pipeline.pipeline_run_id": "711628db-7a55-4b5a-89fb-b41dd311f49f",
     "pipeline.run_environment": "ci",
     "run.retry_nr": "10",
     "task.max_nr_retries": "15",
     "task.notebook": "notebooks/ingest.py",
     "task.num_cpus": 1,
     "task.timeout_s": "10"
    }
   },
   "start_time": "2022-07-18T11:25:04.060318",
   "version": "2.3.3"
  }
 },
 "nbformat": 4,
 "nbformat_minor": 5
}