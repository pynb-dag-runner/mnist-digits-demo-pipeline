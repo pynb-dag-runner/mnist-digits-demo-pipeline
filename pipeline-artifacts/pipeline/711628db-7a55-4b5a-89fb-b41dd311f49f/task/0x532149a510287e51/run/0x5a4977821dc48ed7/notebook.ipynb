{
 "cells": [
  {
   "cell_type": "markdown",
   "id": "73c3a769",
   "metadata": {
    "tags": [
     "papermill-error-cell-tag"
    ]
   },
   "source": [
    "<span style=\"color:red; font-family:Helvetica Neue, Helvetica, Arial, sans-serif; font-size:2em;\">An Exception was encountered at '<a href=\"#papermill-error-cell\">In [6]</a>'.</span>"
   ]
  },
  {
   "cell_type": "markdown",
   "id": "9aa0308f",
   "metadata": {
    "papermill": {
     "duration": 0.004158,
     "end_time": "2022-07-18T11:24:45.645782",
     "exception": false,
     "start_time": "2022-07-18T11:24:45.641624",
     "status": "completed"
    },
    "tags": []
   },
   "source": [
    "# Ingest toy version of MNIST digit data from sklearn"
   ]
  },
  {
   "cell_type": "markdown",
   "id": "65689b44",
   "metadata": {
    "papermill": {
     "duration": 0.002666,
     "end_time": "2022-07-18T11:24:45.651856",
     "exception": false,
     "start_time": "2022-07-18T11:24:45.649190",
     "status": "completed"
    },
    "tags": []
   },
   "source": [
    "### Determine run parameters"
   ]
  },
  {
   "cell_type": "code",
   "execution_count": 1,
   "id": "df791359",
   "metadata": {
    "execution": {
     "iopub.execute_input": "2022-07-18T11:24:45.659299Z",
     "iopub.status.busy": "2022-07-18T11:24:45.658677Z",
     "iopub.status.idle": "2022-07-18T11:24:45.668204Z",
     "shell.execute_reply": "2022-07-18T11:24:45.666921Z"
    },
    "lines_to_next_cell": 0,
    "papermill": {
     "duration": 0.016191,
     "end_time": "2022-07-18T11:24:45.670531",
     "exception": false,
     "start_time": "2022-07-18T11:24:45.654340",
     "status": "completed"
    },
    "tags": []
   },
   "outputs": [],
   "source": [
    "# ----------------- Parameters for interactive development --------------\n",
    "P = {\n",
    "    \"pipeline.run_environment\": \"dev\",\n",
    "    \"pipeline.data_lake_root\": \"/pipeline-outputs/data-lake\",\n",
    "    \"run.retry_nr\": \"1\",\n",
    "}"
   ]
  },
  {
   "cell_type": "code",
   "execution_count": 2,
   "id": "4df650fe",
   "metadata": {
    "execution": {
     "iopub.execute_input": "2022-07-18T11:24:45.677413Z",
     "iopub.status.busy": "2022-07-18T11:24:45.677150Z",
     "iopub.status.idle": "2022-07-18T11:24:45.681865Z",
     "shell.execute_reply": "2022-07-18T11:24:45.680139Z"
    },
    "lines_to_next_cell": 0,
    "papermill": {
     "duration": 0.010954,
     "end_time": "2022-07-18T11:24:45.684124",
     "exception": false,
     "start_time": "2022-07-18T11:24:45.673170",
     "status": "completed"
    },
    "tags": [
     "parameters"
    ]
   },
   "outputs": [],
   "source": [
    "# - During automated runs parameters will be injected in the below cell -"
   ]
  },
  {
   "cell_type": "code",
   "execution_count": 3,
   "id": "116032c3",
   "metadata": {
    "execution": {
     "iopub.execute_input": "2022-07-18T11:24:45.692443Z",
     "iopub.status.busy": "2022-07-18T11:24:45.691953Z",
     "iopub.status.idle": "2022-07-18T11:24:45.697800Z",
     "shell.execute_reply": "2022-07-18T11:24:45.696408Z"
    },
    "papermill": {
     "duration": 0.012891,
     "end_time": "2022-07-18T11:24:45.700091",
     "exception": false,
     "start_time": "2022-07-18T11:24:45.687200",
     "status": "completed"
    },
    "tags": [
     "injected-parameters"
    ]
   },
   "outputs": [],
   "source": [
    "# Parameters\n",
    "P = {\n",
    "    \"pipeline.data_lake_root\": \"/pipeline-outputs/data-lake\",\n",
    "    \"pipeline.run_environment\": \"ci\",\n",
    "    \"pipeline.pipeline_run_id\": \"711628db-7a55-4b5a-89fb-b41dd311f49f\",\n",
    "    \"pipeline.github.repository\": \"pynb-dag-runner/mnist-digits-demo-pipeline\",\n",
    "    \"pipeline.github.workflow\": \"Run automated tests, pipeline and deploy results to static reporting site\",\n",
    "    \"pipeline.github.runner_name\": \"GitHub Actions 2\",\n",
    "    \"pipeline.github.run_id\": \"2690097514\",\n",
    "    \"pipeline.github.actor\": \"matiasdahl\",\n",
    "    \"pipeline.github.job\": \"run-tests-pipeline-and-persist-pipeline-outputs\",\n",
    "    \"pipeline.github.base_ref\": \"development\",\n",
    "    \"pipeline.github.head_ref\": \"graph-parsing\",\n",
    "    \"pipeline.github.sha\": \"8283f417a1f6964b1fa1c6cda8e5c5ec877446d4\",\n",
    "    \"pipeline.github.ref\": \"refs/pull/57/merge\",\n",
    "    \"pipeline.github.ref_type\": \"branch\",\n",
    "    \"pipeline.github.ref_name\": \"57/merge\",\n",
    "    \"pipeline.github.event_name\": \"pull_request\",\n",
    "    \"task.notebook\": \"notebooks/ingest.py\",\n",
    "    \"task.max_nr_retries\": \"15\",\n",
    "    \"run.retry_nr\": \"7\",\n",
    "    \"task.timeout_s\": \"10\",\n",
    "    \"task.num_cpus\": 1,\n",
    "    \"_opentelemetry_traceparent\": \"00-b0e446e89b17bdeb058dbb10a0b42255-ef6b882fa02591e9-01\",\n",
    "}\n"
   ]
  },
  {
   "cell_type": "code",
   "execution_count": 4,
   "id": "8f160a0f",
   "metadata": {
    "execution": {
     "iopub.execute_input": "2022-07-18T11:24:45.708226Z",
     "iopub.status.busy": "2022-07-18T11:24:45.707807Z",
     "iopub.status.idle": "2022-07-18T11:24:45.711497Z",
     "shell.execute_reply": "2022-07-18T11:24:45.710718Z"
    },
    "lines_to_next_cell": 0,
    "papermill": {
     "duration": 0.00972,
     "end_time": "2022-07-18T11:24:45.713310",
     "exception": false,
     "start_time": "2022-07-18T11:24:45.703590",
     "status": "completed"
    },
    "tags": []
   },
   "outputs": [],
   "source": [
    "# -----------------------------------------------------------------------"
   ]
  },
  {
   "cell_type": "markdown",
   "id": "376aba13",
   "metadata": {
    "lines_to_next_cell": 2,
    "papermill": {
     "duration": 0.003038,
     "end_time": "2022-07-18T11:24:45.719558",
     "exception": false,
     "start_time": "2022-07-18T11:24:45.716520",
     "status": "completed"
    },
    "tags": []
   },
   "source": [
    "---"
   ]
  },
  {
   "cell_type": "markdown",
   "id": "3bce92ff",
   "metadata": {
    "papermill": {
     "duration": 0.002756,
     "end_time": "2022-07-18T11:24:45.725364",
     "exception": false,
     "start_time": "2022-07-18T11:24:45.722608",
     "status": "completed"
    },
    "tags": []
   },
   "source": [
    "### Simulate different types of failures (for testing timeout and retry logic)"
   ]
  },
  {
   "cell_type": "code",
   "execution_count": 5,
   "id": "b67f035a",
   "metadata": {
    "execution": {
     "iopub.execute_input": "2022-07-18T11:24:45.732920Z",
     "iopub.status.busy": "2022-07-18T11:24:45.732466Z",
     "iopub.status.idle": "2022-07-18T11:24:46.229202Z",
     "shell.execute_reply": "2022-07-18T11:24:46.228013Z"
    },
    "papermill": {
     "duration": 0.503279,
     "end_time": "2022-07-18T11:24:46.231419",
     "exception": false,
     "start_time": "2022-07-18T11:24:45.728140",
     "status": "completed"
    },
    "tags": []
   },
   "outputs": [
    {
     "name": "stderr",
     "output_type": "stream",
     "text": [
      "2022-07-18 11:24:46,075\tINFO worker.py:842 -- Connecting to existing Ray cluster at address: 172.17.0.2:6379\n"
     ]
    }
   ],
   "source": [
    "from pynb_dag_runner.tasks.task_opentelemetry_logging import PydarLogger\n",
    "\n",
    "logger = PydarLogger(P)"
   ]
  },
  {
   "cell_type": "markdown",
   "id": "d4b29671",
   "metadata": {
    "tags": [
     "papermill-error-cell-tag"
    ]
   },
   "source": [
    "<span id=\"papermill-error-cell\" style=\"color:red; font-family:Helvetica Neue, Helvetica, Arial, sans-serif; font-size:2em;\">Execution using papermill encountered an exception here and stopped:</span>"
   ]
  },
  {
   "cell_type": "code",
   "execution_count": 6,
   "id": "bcd18159",
   "metadata": {
    "execution": {
     "iopub.execute_input": "2022-07-18T11:24:46.240123Z",
     "iopub.status.busy": "2022-07-18T11:24:46.239493Z",
     "iopub.status.idle": "2022-07-18T11:24:46.816096Z",
     "shell.execute_reply": "2022-07-18T11:24:46.813924Z"
    },
    "papermill": {
     "duration": 0.582705,
     "end_time": "2022-07-18T11:24:46.817578",
     "exception": true,
     "start_time": "2022-07-18T11:24:46.234873",
     "status": "failed"
    },
    "tags": []
   },
   "outputs": [
    {
     "ename": "Exception",
     "evalue": "Simulated exception failure from ingestion step notebook!",
     "output_type": "error",
     "traceback": [
      "\u001b[0;31m---------------------------------------------------------------------------\u001b[0m",
      "\u001b[0;31mException\u001b[0m                                 Traceback (most recent call last)",
      "Input \u001b[0;32mIn [6]\u001b[0m, in \u001b[0;36m<cell line: 17>\u001b[0;34m()\u001b[0m\n\u001b[1;32m     13\u001b[0m         \u001b[38;5;28;01melse\u001b[39;00m:\n\u001b[1;32m     14\u001b[0m             \u001b[38;5;28;01mraise\u001b[39;00m \u001b[38;5;167;01mException\u001b[39;00m(\u001b[38;5;124m\"\u001b[39m\u001b[38;5;124mSimulated exception failure from ingestion step notebook!\u001b[39m\u001b[38;5;124m\"\u001b[39m)\n\u001b[0;32m---> 17\u001b[0m \u001b[43mmaybe_crash\u001b[49m\u001b[43m(\u001b[49m\n\u001b[1;32m     18\u001b[0m \u001b[43m    \u001b[49m\u001b[43mretry_nr\u001b[49m\u001b[38;5;241;43m=\u001b[39;49m\u001b[38;5;28;43mint\u001b[39;49m\u001b[43m(\u001b[49m\u001b[43mP\u001b[49m\u001b[43m[\u001b[49m\u001b[38;5;124;43m\"\u001b[39;49m\u001b[38;5;124;43mrun.retry_nr\u001b[39;49m\u001b[38;5;124;43m\"\u001b[39;49m\u001b[43m]\u001b[49m\u001b[43m)\u001b[49m\u001b[43m,\u001b[49m\u001b[43m \u001b[49m\u001b[43mrun_environment\u001b[49m\u001b[38;5;241;43m=\u001b[39;49m\u001b[43mP\u001b[49m\u001b[43m[\u001b[49m\u001b[38;5;124;43m\"\u001b[39;49m\u001b[38;5;124;43mpipeline.run_environment\u001b[39;49m\u001b[38;5;124;43m\"\u001b[39;49m\u001b[43m]\u001b[49m\n\u001b[1;32m     19\u001b[0m \u001b[43m)\u001b[49m\n",
      "Input \u001b[0;32mIn [6]\u001b[0m, in \u001b[0;36mmaybe_crash\u001b[0;34m(retry_nr, run_environment)\u001b[0m\n\u001b[1;32m     12\u001b[0m     time\u001b[38;5;241m.\u001b[39msleep(\u001b[38;5;241m1e6\u001b[39m)\n\u001b[1;32m     13\u001b[0m \u001b[38;5;28;01melse\u001b[39;00m:\n\u001b[0;32m---> 14\u001b[0m     \u001b[38;5;28;01mraise\u001b[39;00m \u001b[38;5;167;01mException\u001b[39;00m(\u001b[38;5;124m\"\u001b[39m\u001b[38;5;124mSimulated exception failure from ingestion step notebook!\u001b[39m\u001b[38;5;124m\"\u001b[39m)\n",
      "\u001b[0;31mException\u001b[0m: Simulated exception failure from ingestion step notebook!"
     ]
    }
   ],
   "source": [
    "import time, random\n",
    "\n",
    "\n",
    "def maybe_crash(retry_nr: int, run_environment: str):\n",
    "    if retry_nr == 2 and run_environment == \"ci\":\n",
    "        time.sleep(1e6)\n",
    "\n",
    "    max_retry_nr: int = 3 if run_environment == \"dev\" else 10\n",
    "\n",
    "    if retry_nr < max_retry_nr:\n",
    "        if random.random() < 0.1:\n",
    "            time.sleep(1e6)\n",
    "        else:\n",
    "            raise Exception(\"Simulated exception failure from ingestion step notebook!\")\n",
    "\n",
    "\n",
    "maybe_crash(\n",
    "    retry_nr=int(P[\"run.retry_nr\"]), run_environment=P[\"pipeline.run_environment\"]\n",
    ")"
   ]
  },
  {
   "cell_type": "markdown",
   "id": "c8a2b74a",
   "metadata": {
    "lines_to_next_cell": 2,
    "papermill": {
     "duration": null,
     "end_time": null,
     "exception": null,
     "start_time": null,
     "status": "pending"
    },
    "tags": []
   },
   "source": [
    "### Notebook code"
   ]
  },
  {
   "cell_type": "code",
   "execution_count": null,
   "id": "5b3c9beb",
   "metadata": {
    "papermill": {
     "duration": null,
     "end_time": null,
     "exception": null,
     "start_time": null,
     "status": "pending"
    },
    "tags": []
   },
   "outputs": [],
   "source": [
    "from sklearn import datasets\n",
    "\n",
    "#\n",
    "from common.io import datalake_root, write_numpy"
   ]
  },
  {
   "cell_type": "code",
   "execution_count": null,
   "id": "4ebd0678",
   "metadata": {
    "lines_to_next_cell": 2,
    "papermill": {
     "duration": null,
     "end_time": null,
     "exception": null,
     "start_time": null,
     "status": "pending"
    },
    "tags": []
   },
   "outputs": [],
   "source": [
    "digits = datasets.load_digits()\n",
    "\n",
    "X = digits[\"data\"]\n",
    "y = digits[\"target\"]"
   ]
  },
  {
   "cell_type": "code",
   "execution_count": null,
   "id": "4e09d425",
   "metadata": {
    "papermill": {
     "duration": null,
     "end_time": null,
     "exception": null,
     "start_time": null,
     "status": "pending"
    },
    "tags": []
   },
   "outputs": [],
   "source": [
    "logger.log_value(\"data_shape\", list(X.shape))\n",
    "logger.log_value(\"target_shape\", list(y.shape))\n",
    "\n",
    "X.shape, y.shape"
   ]
  },
  {
   "cell_type": "code",
   "execution_count": null,
   "id": "fe50cadb",
   "metadata": {
    "papermill": {
     "duration": null,
     "end_time": null,
     "exception": null,
     "start_time": null,
     "status": "pending"
    },
    "tags": []
   },
   "outputs": [],
   "source": [
    "write_numpy(datalake_root(P) / \"raw\" / \"digits.numpy\", X)\n",
    "write_numpy(datalake_root(P) / \"raw\" / \"labels.numpy\", y)"
   ]
  },
  {
   "cell_type": "code",
   "execution_count": null,
   "id": "1d23af81",
   "metadata": {
    "papermill": {
     "duration": null,
     "end_time": null,
     "exception": null,
     "start_time": null,
     "status": "pending"
    },
    "tags": []
   },
   "outputs": [],
   "source": []
  }
 ],
 "metadata": {
  "jupytext": {
   "cell_metadata_filter": "tags,-all",
   "main_language": "python",
   "notebook_metadata_filter": "-all"
  },
  "language_info": {
   "codemirror_mode": {
    "name": "ipython",
    "version": 3
   },
   "file_extension": ".py",
   "mimetype": "text/x-python",
   "name": "python",
   "nbconvert_exporter": "python",
   "pygments_lexer": "ipython3",
   "version": "3.8.10"
  },
  "papermill": {
   "default_parameters": {},
   "duration": 3.622588,
   "end_time": "2022-07-18T11:24:47.844852",
   "environment_variables": {},
   "exception": true,
   "input_path": "/home/host_user/workspace/mnist-demo-pipeline/mnist-demo-pipeline/notebooks/temp-notebook-6cs_xpyr.ipynb",
   "output_path": "notebooks/ingest.ipynb",
   "parameters": {
    "P": {
     "_opentelemetry_traceparent": "00-b0e446e89b17bdeb058dbb10a0b42255-ef6b882fa02591e9-01",
     "pipeline.data_lake_root": "/pipeline-outputs/data-lake",
     "pipeline.github.actor": "matiasdahl",
     "pipeline.github.base_ref": "development",
     "pipeline.github.event_name": "pull_request",
     "pipeline.github.head_ref": "graph-parsing",
     "pipeline.github.job": "run-tests-pipeline-and-persist-pipeline-outputs",
     "pipeline.github.ref": "refs/pull/57/merge",
     "pipeline.github.ref_name": "57/merge",
     "pipeline.github.ref_type": "branch",
     "pipeline.github.repository": "pynb-dag-runner/mnist-digits-demo-pipeline",
     "pipeline.github.run_id": "2690097514",
     "pipeline.github.runner_name": "GitHub Actions 2",
     "pipeline.github.sha": "8283f417a1f6964b1fa1c6cda8e5c5ec877446d4",
     "pipeline.github.workflow": "Run automated tests, pipeline and deploy results to static reporting site",
     "pipeline.pipeline_run_id": "711628db-7a55-4b5a-89fb-b41dd311f49f",
     "pipeline.run_environment": "ci",
     "run.retry_nr": "7",
     "task.max_nr_retries": "15",
     "task.notebook": "notebooks/ingest.py",
     "task.num_cpus": 1,
     "task.timeout_s": "10"
    }
   },
   "start_time": "2022-07-18T11:24:44.222264",
   "version": "2.3.3"
  }
 },
 "nbformat": 4,
 "nbformat_minor": 5
}