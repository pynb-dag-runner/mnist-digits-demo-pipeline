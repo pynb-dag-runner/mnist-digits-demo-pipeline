{
 "cells": [
  {
   "cell_type": "markdown",
   "id": "3d6d45d4",
   "metadata": {
    "papermill": {
     "duration": 0.006986,
     "end_time": "2022-07-18T11:25:52.755752",
     "exception": false,
     "start_time": "2022-07-18T11:25:52.748766",
     "status": "completed"
    },
    "tags": []
   },
   "source": [
    "# Benchmark model\n",
    "\n",
    "The purpose of this notebook is to benchmark persisted onnx-model (trained in the\n",
    "previous step) against evaluation set."
   ]
  },
  {
   "cell_type": "markdown",
   "id": "b08b3141",
   "metadata": {
    "papermill": {
     "duration": 0.00711,
     "end_time": "2022-07-18T11:25:52.769080",
     "exception": false,
     "start_time": "2022-07-18T11:25:52.761970",
     "status": "completed"
    },
    "tags": []
   },
   "source": [
    "### Determine run parameters"
   ]
  },
  {
   "cell_type": "code",
   "execution_count": 1,
   "id": "d6b1d8eb",
   "metadata": {
    "execution": {
     "iopub.execute_input": "2022-07-18T11:25:52.782252Z",
     "iopub.status.busy": "2022-07-18T11:25:52.781821Z",
     "iopub.status.idle": "2022-07-18T11:25:52.792100Z",
     "shell.execute_reply": "2022-07-18T11:25:52.791324Z"
    },
    "lines_to_next_cell": 0,
    "papermill": {
     "duration": 0.020351,
     "end_time": "2022-07-18T11:25:52.794187",
     "exception": false,
     "start_time": "2022-07-18T11:25:52.773836",
     "status": "completed"
    },
    "tags": []
   },
   "outputs": [],
   "source": [
    "# ----------------- Parameters for interactive development --------------\n",
    "P = {\n",
    "    \"pipeline.data_lake_root\": \"/pipeline-outputs/data-lake\",\n",
    "    \"task.nr_train_images\": 600,\n",
    "}"
   ]
  },
  {
   "cell_type": "code",
   "execution_count": 2,
   "id": "b4c96ba3",
   "metadata": {
    "execution": {
     "iopub.execute_input": "2022-07-18T11:25:52.811289Z",
     "iopub.status.busy": "2022-07-18T11:25:52.810981Z",
     "iopub.status.idle": "2022-07-18T11:25:52.814600Z",
     "shell.execute_reply": "2022-07-18T11:25:52.813832Z"
    },
    "lines_to_next_cell": 0,
    "papermill": {
     "duration": 0.01295,
     "end_time": "2022-07-18T11:25:52.817716",
     "exception": false,
     "start_time": "2022-07-18T11:25:52.804766",
     "status": "completed"
    },
    "tags": [
     "parameters"
    ]
   },
   "outputs": [],
   "source": [
    "# - During automated runs parameters will be injected in the below cell -"
   ]
  },
  {
   "cell_type": "code",
   "execution_count": 3,
   "id": "2c64c716",
   "metadata": {
    "execution": {
     "iopub.execute_input": "2022-07-18T11:25:52.828674Z",
     "iopub.status.busy": "2022-07-18T11:25:52.828399Z",
     "iopub.status.idle": "2022-07-18T11:25:52.833823Z",
     "shell.execute_reply": "2022-07-18T11:25:52.833161Z"
    },
    "papermill": {
     "duration": 0.01412,
     "end_time": "2022-07-18T11:25:52.837070",
     "exception": false,
     "start_time": "2022-07-18T11:25:52.822950",
     "status": "completed"
    },
    "tags": [
     "injected-parameters"
    ]
   },
   "outputs": [],
   "source": [
    "# Parameters\n",
    "P = {\n",
    "    \"pipeline.data_lake_root\": \"/pipeline-outputs/data-lake\",\n",
    "    \"pipeline.run_environment\": \"ci\",\n",
    "    \"pipeline.pipeline_run_id\": \"711628db-7a55-4b5a-89fb-b41dd311f49f\",\n",
    "    \"pipeline.github.repository\": \"pynb-dag-runner/mnist-digits-demo-pipeline\",\n",
    "    \"pipeline.github.workflow\": \"Run automated tests, pipeline and deploy results to static reporting site\",\n",
    "    \"pipeline.github.runner_name\": \"GitHub Actions 2\",\n",
    "    \"pipeline.github.run_id\": \"2690097514\",\n",
    "    \"pipeline.github.actor\": \"matiasdahl\",\n",
    "    \"pipeline.github.job\": \"run-tests-pipeline-and-persist-pipeline-outputs\",\n",
    "    \"pipeline.github.base_ref\": \"development\",\n",
    "    \"pipeline.github.head_ref\": \"graph-parsing\",\n",
    "    \"pipeline.github.sha\": \"8283f417a1f6964b1fa1c6cda8e5c5ec877446d4\",\n",
    "    \"pipeline.github.ref\": \"refs/pull/57/merge\",\n",
    "    \"pipeline.github.ref_type\": \"branch\",\n",
    "    \"pipeline.github.ref_name\": \"57/merge\",\n",
    "    \"pipeline.github.event_name\": \"pull_request\",\n",
    "    \"task.nr_train_images\": 1000,\n",
    "    \"task.notebook\": \"notebooks/benchmark-model.py\",\n",
    "    \"task.max_nr_retries\": \"1\",\n",
    "    \"run.retry_nr\": \"0\",\n",
    "    \"task.timeout_s\": \"None\",\n",
    "    \"task.num_cpus\": 1,\n",
    "    \"_opentelemetry_traceparent\": \"00-b0e446e89b17bdeb058dbb10a0b42255-a09dbbdadb552058-01\",\n",
    "}\n"
   ]
  },
  {
   "cell_type": "code",
   "execution_count": 4,
   "id": "6fec7530",
   "metadata": {
    "execution": {
     "iopub.execute_input": "2022-07-18T11:25:52.849046Z",
     "iopub.status.busy": "2022-07-18T11:25:52.848805Z",
     "iopub.status.idle": "2022-07-18T11:25:52.852270Z",
     "shell.execute_reply": "2022-07-18T11:25:52.851258Z"
    },
    "lines_to_next_cell": 0,
    "papermill": {
     "duration": 0.013708,
     "end_time": "2022-07-18T11:25:52.855450",
     "exception": false,
     "start_time": "2022-07-18T11:25:52.841742",
     "status": "completed"
    },
    "tags": []
   },
   "outputs": [],
   "source": [
    "# -----------------------------------------------------------------------"
   ]
  },
  {
   "cell_type": "markdown",
   "id": "f7561820",
   "metadata": {
    "papermill": {
     "duration": 0.005156,
     "end_time": "2022-07-18T11:25:52.864996",
     "exception": false,
     "start_time": "2022-07-18T11:25:52.859840",
     "status": "completed"
    },
    "tags": []
   },
   "source": [
    "---"
   ]
  },
  {
   "cell_type": "markdown",
   "id": "1038deeb",
   "metadata": {
    "lines_to_next_cell": 2,
    "papermill": {
     "duration": 0.005101,
     "end_time": "2022-07-18T11:25:52.875423",
     "exception": false,
     "start_time": "2022-07-18T11:25:52.870322",
     "status": "completed"
    },
    "tags": []
   },
   "source": [
    "### Notebook code"
   ]
  },
  {
   "cell_type": "code",
   "execution_count": 5,
   "id": "7b864f81",
   "metadata": {
    "execution": {
     "iopub.execute_input": "2022-07-18T11:25:52.886782Z",
     "iopub.status.busy": "2022-07-18T11:25:52.886525Z",
     "iopub.status.idle": "2022-07-18T11:25:54.193526Z",
     "shell.execute_reply": "2022-07-18T11:25:54.192073Z"
    },
    "papermill": {
     "duration": 1.316125,
     "end_time": "2022-07-18T11:25:54.196086",
     "exception": false,
     "start_time": "2022-07-18T11:25:52.879961",
     "status": "completed"
    },
    "tags": []
   },
   "outputs": [
    {
     "name": "stderr",
     "output_type": "stream",
     "text": [
      "2022-07-18 11:25:54,018\tINFO worker.py:842 -- Connecting to existing Ray cluster at address: 172.17.0.2:6379\n"
     ]
    }
   ],
   "source": [
    "import itertools as it\n",
    "\n",
    "#\n",
    "import numpy as np\n",
    "import matplotlib.pyplot as plt\n",
    "\n",
    "#\n",
    "from pynb_dag_runner.tasks.task_opentelemetry_logging import PydarLogger\n",
    "\n",
    "#\n",
    "from common.io import datalake_root\n",
    "\n",
    "logger = PydarLogger(P)"
   ]
  },
  {
   "cell_type": "markdown",
   "id": "7501e3a0",
   "metadata": {
    "papermill": {
     "duration": 0.005265,
     "end_time": "2022-07-18T11:25:54.206837",
     "exception": false,
     "start_time": "2022-07-18T11:25:54.201572",
     "status": "completed"
    },
    "tags": []
   },
   "source": [
    "## Load persisted onnx-model and evaluation data"
   ]
  },
  {
   "cell_type": "code",
   "execution_count": 6,
   "id": "78fa3a4c",
   "metadata": {
    "execution": {
     "iopub.execute_input": "2022-07-18T11:25:54.218833Z",
     "iopub.status.busy": "2022-07-18T11:25:54.218162Z",
     "iopub.status.idle": "2022-07-18T11:25:54.222877Z",
     "shell.execute_reply": "2022-07-18T11:25:54.222038Z"
    },
    "papermill": {
     "duration": 0.0142,
     "end_time": "2022-07-18T11:25:54.226332",
     "exception": false,
     "start_time": "2022-07-18T11:25:54.212132",
     "status": "completed"
    },
    "tags": []
   },
   "outputs": [],
   "source": [
    "from common.io import read_onnx, get_onnx_inputs, get_onnx_outputs, read_numpy"
   ]
  },
  {
   "cell_type": "code",
   "execution_count": 7,
   "id": "e5c24c00",
   "metadata": {
    "execution": {
     "iopub.execute_input": "2022-07-18T11:25:54.244016Z",
     "iopub.status.busy": "2022-07-18T11:25:54.243605Z",
     "iopub.status.idle": "2022-07-18T11:25:54.258052Z",
     "shell.execute_reply": "2022-07-18T11:25:54.257202Z"
    },
    "lines_to_next_cell": 0,
    "papermill": {
     "duration": 0.027773,
     "end_time": "2022-07-18T11:25:54.259857",
     "exception": false,
     "start_time": "2022-07-18T11:25:54.232084",
     "status": "completed"
    },
    "tags": []
   },
   "outputs": [],
   "source": [
    "onnx_inference_session = read_onnx(\n",
    "    datalake_root(P)\n",
    "    / \"models\"\n",
    "    / f\"nr_train_images={P['task.nr_train_images']}\"\n",
    "    / \"model.onnx\"\n",
    ")"
   ]
  },
  {
   "cell_type": "markdown",
   "id": "afa57b9e",
   "metadata": {
    "papermill": {
     "duration": 0.00583,
     "end_time": "2022-07-18T11:25:54.271225",
     "exception": false,
     "start_time": "2022-07-18T11:25:54.265395",
     "status": "completed"
    },
    "tags": []
   },
   "source": [
    "### Record structure of inputs and outputs for ONNX model\n",
    "\n",
    "(this should likely be done in training notebook)"
   ]
  },
  {
   "cell_type": "code",
   "execution_count": 8,
   "id": "fa5dab4e",
   "metadata": {
    "execution": {
     "iopub.execute_input": "2022-07-18T11:25:54.284103Z",
     "iopub.status.busy": "2022-07-18T11:25:54.283688Z",
     "iopub.status.idle": "2022-07-18T11:25:54.293961Z",
     "shell.execute_reply": "2022-07-18T11:25:54.292782Z"
    },
    "papermill": {
     "duration": 0.020383,
     "end_time": "2022-07-18T11:25:54.297331",
     "exception": false,
     "start_time": "2022-07-18T11:25:54.276948",
     "status": "completed"
    },
    "tags": []
   },
   "outputs": [
    {
     "name": "stdout",
     "output_type": "stream",
     "text": [
      "{\n",
      "  \"inputs\": [\n",
      "    {\n",
      "      \"name\": \"float_input_8x8_image\",\n",
      "      \"shape\": [\n",
      "        null,\n",
      "        64\n",
      "      ],\n",
      "      \"type\": \"tensor(float)\"\n",
      "    }\n",
      "  ],\n",
      "  \"outputs\": [\n",
      "    {\n",
      "      \"name\": \"output_label\",\n",
      "      \"shape\": [\n",
      "        null\n",
      "      ],\n",
      "      \"type\": \"tensor(int64)\"\n",
      "    },\n",
      "    {\n",
      "      \"name\": \"output_probability\",\n",
      "      \"shape\": [],\n",
      "      \"type\": \"seq(map(int64,tensor(float)))\"\n",
      "    }\n",
      "  ]\n",
      "}\n"
     ]
    }
   ],
   "source": [
    "import json\n",
    "\n",
    "onnx_io = json.dumps(\n",
    "    {\n",
    "        \"inputs\": get_onnx_inputs(onnx_inference_session),\n",
    "        \"outputs\": get_onnx_outputs(onnx_inference_session),\n",
    "    },\n",
    "    indent=2,\n",
    ")\n",
    "\n",
    "\n",
    "logger.log_artefact(\"onnx_io_structure.json\", onnx_io)\n",
    "print(onnx_io)"
   ]
  },
  {
   "cell_type": "markdown",
   "id": "d4bc2518",
   "metadata": {
    "papermill": {
     "duration": 0.005904,
     "end_time": "2022-07-18T11:25:54.308969",
     "exception": false,
     "start_time": "2022-07-18T11:25:54.303065",
     "status": "completed"
    },
    "tags": []
   },
   "source": [
    "### Evaluate model performance on evaluation data set"
   ]
  },
  {
   "cell_type": "code",
   "execution_count": 9,
   "id": "a328c53c",
   "metadata": {
    "execution": {
     "iopub.execute_input": "2022-07-18T11:25:54.321689Z",
     "iopub.status.busy": "2022-07-18T11:25:54.321281Z",
     "iopub.status.idle": "2022-07-18T11:25:54.329706Z",
     "shell.execute_reply": "2022-07-18T11:25:54.326570Z"
    },
    "papermill": {
     "duration": 0.017657,
     "end_time": "2022-07-18T11:25:54.332071",
     "exception": false,
     "start_time": "2022-07-18T11:25:54.314414",
     "status": "completed"
    },
    "tags": []
   },
   "outputs": [],
   "source": [
    "# load evaluation data\n",
    "X_test = read_numpy(datalake_root(P) / \"test-data\" / \"digits.numpy\")\n",
    "y_test = read_numpy(datalake_root(P) / \"test-data\" / \"labels.numpy\")"
   ]
  },
  {
   "cell_type": "code",
   "execution_count": 10,
   "id": "77e4ecf7",
   "metadata": {
    "execution": {
     "iopub.execute_input": "2022-07-18T11:25:54.352381Z",
     "iopub.status.busy": "2022-07-18T11:25:54.351853Z",
     "iopub.status.idle": "2022-07-18T11:25:54.370719Z",
     "shell.execute_reply": "2022-07-18T11:25:54.369433Z"
    },
    "papermill": {
     "duration": 0.035062,
     "end_time": "2022-07-18T11:25:54.373587",
     "exception": false,
     "start_time": "2022-07-18T11:25:54.338525",
     "status": "completed"
    },
    "tags": []
   },
   "outputs": [],
   "source": [
    "def get_model_outputs(X, onnx_inference_session):\n",
    "    y_pred_labels, y_pred_map = onnx_inference_session.run(\n",
    "        [\"output_label\", \"output_probability\"],\n",
    "        {\"float_input_8x8_image\": X.astype(np.float32)},\n",
    "    )\n",
    "    y_pred_probs = np.array(\n",
    "        [[probabilities[digit] for digit in range(10)] for probabilities in y_pred_map]\n",
    "    )\n",
    "\n",
    "    assert y_pred_labels.shape == (X.shape[0],)\n",
    "    assert y_pred_probs.shape == (X.shape[0], 10)\n",
    "\n",
    "    return y_pred_labels, y_pred_probs\n",
    "\n",
    "\n",
    "# Note: as shown in the training notebook, the predicted labels and probabilities\n",
    "# computed below need not be compatible.\n",
    "y_pred_labels_test, y_pred_probs_test = get_model_outputs(\n",
    "    X_test, onnx_inference_session\n",
    ")"
   ]
  },
  {
   "cell_type": "markdown",
   "id": "bf7fcb5a",
   "metadata": {
    "papermill": {
     "duration": 0.006002,
     "end_time": "2022-07-18T11:25:54.385670",
     "exception": false,
     "start_time": "2022-07-18T11:25:54.379668",
     "status": "completed"
    },
    "tags": []
   },
   "source": [
    "### Confusion matrix"
   ]
  },
  {
   "cell_type": "code",
   "execution_count": 11,
   "id": "6fd90638",
   "metadata": {
    "execution": {
     "iopub.execute_input": "2022-07-18T11:25:54.398944Z",
     "iopub.status.busy": "2022-07-18T11:25:54.398478Z",
     "iopub.status.idle": "2022-07-18T11:25:54.402914Z",
     "shell.execute_reply": "2022-07-18T11:25:54.401769Z"
    },
    "papermill": {
     "duration": 0.014436,
     "end_time": "2022-07-18T11:25:54.406293",
     "exception": false,
     "start_time": "2022-07-18T11:25:54.391857",
     "status": "completed"
    },
    "tags": []
   },
   "outputs": [],
   "source": [
    "# TODO"
   ]
  },
  {
   "cell_type": "markdown",
   "id": "f7857a6e",
   "metadata": {
    "papermill": {
     "duration": 0.006191,
     "end_time": "2022-07-18T11:25:54.418282",
     "exception": false,
     "start_time": "2022-07-18T11:25:54.412091",
     "status": "completed"
    },
    "tags": []
   },
   "source": [
    "### Plot predicted probabilities for each classifier over all evaluation digit images"
   ]
  },
  {
   "cell_type": "code",
   "execution_count": 12,
   "id": "5c2bbbdc",
   "metadata": {
    "execution": {
     "iopub.execute_input": "2022-07-18T11:25:54.431933Z",
     "iopub.status.busy": "2022-07-18T11:25:54.431229Z",
     "iopub.status.idle": "2022-07-18T11:25:59.044893Z",
     "shell.execute_reply": "2022-07-18T11:25:59.044019Z"
    },
    "papermill": {
     "duration": 4.623401,
     "end_time": "2022-07-18T11:25:59.047629",
     "exception": false,
     "start_time": "2022-07-18T11:25:54.424228",
     "status": "completed"
    },
    "tags": []
   },
   "outputs": [
    {
     "data": {
      "image/png": "[encoded data removed]",
      "text/plain": [
       "<Figure size 1152x432 with 10 Axes>"
      ]
     },
     "metadata": {
      "needs_background": "light"
     },
     "output_type": "display_data"
    }
   ],
   "source": [
    "def plot_per_digit_probabilities(y_pred_probs):\n",
    "    fig, axs = plt.subplots(nrows=2, ncols=5, figsize=(16, 6))\n",
    "\n",
    "    for (r, c), digit, ax in zip(\n",
    "        it.product(range(2), range(5)), range(10), axs.reshape(-1)\n",
    "    ):\n",
    "        ax.hist(y_pred_probs_test[:, digit], bins=20)\n",
    "\n",
    "        ax.set_title(f\"Digit {digit}\")\n",
    "        if r == 1 and c == 2:\n",
    "            ax.set_xlabel(\"probability\", fontsize=16)\n",
    "\n",
    "        if c == 0:\n",
    "            ax.set_ylabel(\"counts\", fontsize=16)\n",
    "        ax.set_yscale(\"log\")\n",
    "\n",
    "    fig.tight_layout()\n",
    "    fig.suptitle(\n",
    "        f\"Distributions of prediction probabilities for each digit \"\n",
    "        f\"(on evaluation data, n={y_pred_probs.shape[0]})\",\n",
    "        fontsize=20,\n",
    "    )\n",
    "    fig.tight_layout()\n",
    "    fig.show()\n",
    "\n",
    "    return fig\n",
    "\n",
    "\n",
    "fig = plot_per_digit_probabilities(y_pred_probs_test)"
   ]
  },
  {
   "cell_type": "markdown",
   "id": "245b9e96",
   "metadata": {
    "papermill": {
     "duration": 0.00652,
     "end_time": "2022-07-18T11:25:59.060086",
     "exception": false,
     "start_time": "2022-07-18T11:25:59.053566",
     "status": "completed"
    },
    "tags": []
   },
   "source": [
    "From the above distributions we see that most digits have clear separation between\n",
    "high and lower probabilities. Morover, in each case there is roughly an order of\n",
    "magnitude more of digits with low probabilities. This is compatible with digits\n",
    "being roughly evenly distributed in the data."
   ]
  },
  {
   "cell_type": "code",
   "execution_count": 13,
   "id": "dde7260c",
   "metadata": {
    "execution": {
     "iopub.execute_input": "2022-07-18T11:25:59.079936Z",
     "iopub.status.busy": "2022-07-18T11:25:59.079465Z",
     "iopub.status.idle": "2022-07-18T11:25:59.663700Z",
     "shell.execute_reply": "2022-07-18T11:25:59.662565Z"
    },
    "papermill": {
     "duration": 0.594143,
     "end_time": "2022-07-18T11:25:59.665870",
     "exception": false,
     "start_time": "2022-07-18T11:25:59.071727",
     "status": "completed"
    },
    "tags": []
   },
   "outputs": [],
   "source": [
    "logger.log_figure(\"per-digit-probabilities.png\", fig)"
   ]
  },
  {
   "cell_type": "markdown",
   "id": "c1581229",
   "metadata": {
    "papermill": {
     "duration": 0.005633,
     "end_time": "2022-07-18T11:25:59.677792",
     "exception": false,
     "start_time": "2022-07-18T11:25:59.672159",
     "status": "completed"
    },
    "tags": []
   },
   "source": [
    "### Plot ROC curves for individual one-vs-rest classifiers"
   ]
  },
  {
   "cell_type": "code",
   "execution_count": 14,
   "id": "327d9568",
   "metadata": {
    "execution": {
     "iopub.execute_input": "2022-07-18T11:25:59.693678Z",
     "iopub.status.busy": "2022-07-18T11:25:59.692710Z",
     "iopub.status.idle": "2022-07-18T11:26:00.165820Z",
     "shell.execute_reply": "2022-07-18T11:26:00.164451Z"
    },
    "papermill": {
     "duration": 0.483877,
     "end_time": "2022-07-18T11:26:00.167985",
     "exception": false,
     "start_time": "2022-07-18T11:25:59.684108",
     "status": "completed"
    },
    "tags": []
   },
   "outputs": [],
   "source": [
    "from sklearn import metrics"
   ]
  },
  {
   "cell_type": "code",
   "execution_count": 15,
   "id": "4c47935e",
   "metadata": {
    "execution": {
     "iopub.execute_input": "2022-07-18T11:26:00.181870Z",
     "iopub.status.busy": "2022-07-18T11:26:00.181508Z",
     "iopub.status.idle": "2022-07-18T11:26:01.641180Z",
     "shell.execute_reply": "2022-07-18T11:26:01.639887Z"
    },
    "papermill": {
     "duration": 1.468914,
     "end_time": "2022-07-18T11:26:01.642971",
     "exception": false,
     "start_time": "2022-07-18T11:26:00.174057",
     "status": "completed"
    },
    "tags": []
   },
   "outputs": [
    {
     "data": {
      "image/png": "[encoded data removed]",
      "text/plain": [
       "<Figure size 1152x576 with 10 Axes>"
      ]
     },
     "metadata": {
      "needs_background": "light"
     },
     "output_type": "display_data"
    }
   ],
   "source": [
    "def plot_roc_curves(y, y_pred_probs):\n",
    "    # based on example code\n",
    "    # https://scikit-learn.org/stable/auto_examples/model_selection/plot_roc.html\n",
    "\n",
    "    fig, axs = plt.subplots(nrows=2, ncols=5, figsize=(16, 8))\n",
    "\n",
    "    roc_auc_dict = {}\n",
    "\n",
    "    for (r, c), digit, ax in zip(\n",
    "        it.product(range(2), range(5)), range(10), axs.reshape(-1)\n",
    "    ):\n",
    "        fpr, tpr, _ = metrics.roc_curve(y == digit, y_pred_probs[:, digit])\n",
    "        auc = metrics.auc(fpr, tpr)\n",
    "        roc_auc_dict[str(digit)] = auc\n",
    "\n",
    "        ax.plot(fpr, tpr, label=f\"ROC AUC={round(auc, 3)}\")\n",
    "\n",
    "        ax.set_title(f\"\\nDigit {digit}\", fontsize=16)\n",
    "        if r == 1:\n",
    "            ax.set_xlabel(\"FPR\", fontsize=18)\n",
    "\n",
    "        if c == 0:\n",
    "            ax.set_ylabel(\"TPR\", fontsize=18)\n",
    "\n",
    "        ax.set_xlim([-0.05, 1.05])\n",
    "        ax.set_ylim([-0.05, 1.05])\n",
    "        ax.legend(loc=\"lower right\", frameon=False, fontsize=14)\n",
    "\n",
    "    fig.tight_layout()\n",
    "    fig.suptitle(\n",
    "        f\"ROC plots for one-vs-rest performances \"\n",
    "        f\"(on evaluation data, n={y_pred_probs_test.shape[1]}\",\n",
    "        fontsize=22,\n",
    "    )\n",
    "    fig.tight_layout()\n",
    "    fig.show()\n",
    "\n",
    "    return roc_auc_dict, fig\n",
    "\n",
    "\n",
    "roc_auc_dict, fig = plot_roc_curves(y_test, y_pred_probs_test)"
   ]
  },
  {
   "cell_type": "code",
   "execution_count": 16,
   "id": "7bdfd8b3",
   "metadata": {
    "execution": {
     "iopub.execute_input": "2022-07-18T11:26:01.657677Z",
     "iopub.status.busy": "2022-07-18T11:26:01.657137Z",
     "iopub.status.idle": "2022-07-18T11:26:01.935639Z",
     "shell.execute_reply": "2022-07-18T11:26:01.934733Z"
    },
    "papermill": {
     "duration": 0.288541,
     "end_time": "2022-07-18T11:26:01.937724",
     "exception": false,
     "start_time": "2022-07-18T11:26:01.649183",
     "status": "completed"
    },
    "tags": []
   },
   "outputs": [],
   "source": [
    "logger.log_figure(\"per-digit-roc-curves.png\", fig)"
   ]
  },
  {
   "cell_type": "code",
   "execution_count": 17,
   "id": "fda349de",
   "metadata": {
    "execution": {
     "iopub.execute_input": "2022-07-18T11:26:01.952019Z",
     "iopub.status.busy": "2022-07-18T11:26:01.951490Z",
     "iopub.status.idle": "2022-07-18T11:26:01.957482Z",
     "shell.execute_reply": "2022-07-18T11:26:01.956717Z"
    },
    "papermill": {
     "duration": 0.015587,
     "end_time": "2022-07-18T11:26:01.960282",
     "exception": false,
     "start_time": "2022-07-18T11:26:01.944695",
     "status": "completed"
    },
    "tags": []
   },
   "outputs": [
    {
     "data": {
      "text/plain": [
       "{'0': 1.0,\n",
       " '1': 0.999025304592315,\n",
       " '2': 1.0,\n",
       " '3': 0.9999250234301781,\n",
       " '4': 0.9996570644718793,\n",
       " '5': 0.9994001874414246,\n",
       " '6': 0.999923792104862,\n",
       " '7': 0.9997713763145862,\n",
       " '8': 0.9950346784363178,\n",
       " '9': 0.9996189605243103}"
      ]
     },
     "execution_count": 17,
     "metadata": {},
     "output_type": "execute_result"
    }
   ],
   "source": [
    "roc_auc_dict"
   ]
  },
  {
   "cell_type": "code",
   "execution_count": 18,
   "id": "dc8b6ef7",
   "metadata": {
    "execution": {
     "iopub.execute_input": "2022-07-18T11:26:01.974066Z",
     "iopub.status.busy": "2022-07-18T11:26:01.973193Z",
     "iopub.status.idle": "2022-07-18T11:26:01.978627Z",
     "shell.execute_reply": "2022-07-18T11:26:01.977823Z"
    },
    "papermill": {
     "duration": 0.014463,
     "end_time": "2022-07-18T11:26:01.980921",
     "exception": false,
     "start_time": "2022-07-18T11:26:01.966458",
     "status": "completed"
    },
    "tags": []
   },
   "outputs": [
    {
     "name": "stdout",
     "output_type": "stream",
     "text": [
      " - Logging roc_auc_per_digit (json) : {'0': 1.0, '1': 0.999025304592315, '2': 1.0, '3': 0.9999250234301781, '4': 0.9996570644718793, '5': 0.9994001874414246, '6': 0.999923792104862, '7': 0.9997713763145862, '8': 0.9950346784363178, '9': 0.9996189605243103}\n"
     ]
    }
   ],
   "source": [
    "logger.log_value(\"roc_auc_per_digit\", roc_auc_dict)"
   ]
  },
  {
   "cell_type": "markdown",
   "id": "e4ee6cbe",
   "metadata": {
    "papermill": {
     "duration": 0.006162,
     "end_time": "2022-07-18T11:26:01.992903",
     "exception": false,
     "start_time": "2022-07-18T11:26:01.986741",
     "status": "completed"
    },
    "tags": []
   },
   "source": [
    "### Compute and log mean ROC AUC score averaged over all digits"
   ]
  },
  {
   "cell_type": "code",
   "execution_count": 19,
   "id": "a56cfc01",
   "metadata": {
    "execution": {
     "iopub.execute_input": "2022-07-18T11:26:02.006531Z",
     "iopub.status.busy": "2022-07-18T11:26:02.006077Z",
     "iopub.status.idle": "2022-07-18T11:26:02.021229Z",
     "shell.execute_reply": "2022-07-18T11:26:02.019727Z"
    },
    "papermill": {
     "duration": 0.024378,
     "end_time": "2022-07-18T11:26:02.023168",
     "exception": false,
     "start_time": "2022-07-18T11:26:01.998790",
     "status": "completed"
    },
    "tags": []
   },
   "outputs": [
    {
     "name": "stdout",
     "output_type": "stream",
     "text": [
      " - Logging roc_auc_class_mean (float) : 0.9992356387315873\n"
     ]
    }
   ],
   "source": [
    "roc_auc_macro = np.mean(list(roc_auc_dict.values()))\n",
    "\n",
    "logger.log_float(\"roc_auc_class_mean\", roc_auc_macro)\n",
    "\n",
    "# assert that the same value can be computed directly using sklearn\n",
    "assert roc_auc_macro == metrics.roc_auc_score(\n",
    "    y_test, y_pred_probs_test, average=\"macro\", multi_class=\"ovr\"\n",
    ")"
   ]
  },
  {
   "cell_type": "code",
   "execution_count": 20,
   "id": "47459ffc",
   "metadata": {
    "execution": {
     "iopub.execute_input": "2022-07-18T11:26:02.037268Z",
     "iopub.status.busy": "2022-07-18T11:26:02.036907Z",
     "iopub.status.idle": "2022-07-18T11:26:02.040247Z",
     "shell.execute_reply": "2022-07-18T11:26:02.039425Z"
    },
    "lines_to_next_cell": 0,
    "papermill": {
     "duration": 0.013031,
     "end_time": "2022-07-18T11:26:02.042382",
     "exception": false,
     "start_time": "2022-07-18T11:26:02.029351",
     "status": "completed"
    },
    "tags": []
   },
   "outputs": [],
   "source": [
    "# ---"
   ]
  },
  {
   "cell_type": "code",
   "execution_count": null,
   "id": "e536e7ed",
   "metadata": {
    "papermill": {
     "duration": 0.006325,
     "end_time": "2022-07-18T11:26:02.055281",
     "exception": false,
     "start_time": "2022-07-18T11:26:02.048956",
     "status": "completed"
    },
    "tags": []
   },
   "outputs": [],
   "source": []
  }
 ],
 "metadata": {
  "jupytext": {
   "cell_metadata_filter": "tags,-all",
   "main_language": "python",
   "notebook_metadata_filter": "-all"
  },
  "language_info": {
   "codemirror_mode": {
    "name": "ipython",
    "version": 3
   },
   "file_extension": ".py",
   "mimetype": "text/x-python",
   "name": "python",
   "nbconvert_exporter": "python",
   "pygments_lexer": "ipython3",
   "version": "3.8.10"
  },
  "papermill": {
   "default_parameters": {},
   "duration": 11.836392,
   "end_time": "2022-07-18T11:26:03.084225",
   "environment_variables": {},
   "exception": null,
   "input_path": "/home/host_user/workspace/mnist-demo-pipeline/mnist-demo-pipeline/notebooks/temp-notebook-6gjo9ojs.ipynb",
   "output_path": "notebooks/benchmark-model.ipynb",
   "parameters": {
    "P": {
     "_opentelemetry_traceparent": "00-b0e446e89b17bdeb058dbb10a0b42255-a09dbbdadb552058-01",
     "pipeline.data_lake_root": "/pipeline-outputs/data-lake",
     "pipeline.github.actor": "matiasdahl",
     "pipeline.github.base_ref": "development",
     "pipeline.github.event_name": "pull_request",
     "pipeline.github.head_ref": "graph-parsing",
     "pipeline.github.job": "run-tests-pipeline-and-persist-pipeline-outputs",
     "pipeline.github.ref": "refs/pull/57/merge",
     "pipeline.github.ref_name": "57/merge",
     "pipeline.github.ref_type": "branch",
     "pipeline.github.repository": "pynb-dag-runner/mnist-digits-demo-pipeline",
     "pipeline.github.run_id": "2690097514",
     "pipeline.github.runner_name": "GitHub Actions 2",
     "pipeline.github.sha": "8283f417a1f6964b1fa1c6cda8e5c5ec877446d4",
     "pipeline.github.workflow": "Run automated tests, pipeline and deploy results to static reporting site",
     "pipeline.pipeline_run_id": "711628db-7a55-4b5a-89fb-b41dd311f49f",
     "pipeline.run_environment": "ci",
     "run.retry_nr": "0",
     "task.max_nr_retries": "1",
     "task.notebook": "notebooks/benchmark-model.py",
     "task.nr_train_images": 1000,
     "task.num_cpus": 1,
     "task.timeout_s": "None"
    }
   },
   "start_time": "2022-07-18T11:25:51.247833",
   "version": "2.3.3"
  }
 },
 "nbformat": 4,
 "nbformat_minor": 5
}