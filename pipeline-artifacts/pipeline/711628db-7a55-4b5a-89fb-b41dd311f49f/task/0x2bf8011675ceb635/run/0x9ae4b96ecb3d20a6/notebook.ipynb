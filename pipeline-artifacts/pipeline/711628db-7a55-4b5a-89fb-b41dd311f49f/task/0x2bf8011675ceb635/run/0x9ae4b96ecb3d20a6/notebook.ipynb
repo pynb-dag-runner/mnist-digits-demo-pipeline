{
 "cells": [
  {
   "cell_type": "markdown",
   "id": "ed64a7f9",
   "metadata": {
    "papermill": {
     "duration": 0.006327,
     "end_time": "2022-07-18T11:25:32.922701",
     "exception": false,
     "start_time": "2022-07-18T11:25:32.916374",
     "status": "completed"
    },
    "tags": []
   },
   "source": [
    "# Benchmark model\n",
    "\n",
    "The purpose of this notebook is to benchmark persisted onnx-model (trained in the\n",
    "previous step) against evaluation set."
   ]
  },
  {
   "cell_type": "markdown",
   "id": "5a27ae15",
   "metadata": {
    "papermill": {
     "duration": 0.004594,
     "end_time": "2022-07-18T11:25:32.932303",
     "exception": false,
     "start_time": "2022-07-18T11:25:32.927709",
     "status": "completed"
    },
    "tags": []
   },
   "source": [
    "### Determine run parameters"
   ]
  },
  {
   "cell_type": "code",
   "execution_count": 1,
   "id": "5a1c1473",
   "metadata": {
    "execution": {
     "iopub.execute_input": "2022-07-18T11:25:32.943275Z",
     "iopub.status.busy": "2022-07-18T11:25:32.942387Z",
     "iopub.status.idle": "2022-07-18T11:25:32.956603Z",
     "shell.execute_reply": "2022-07-18T11:25:32.955628Z"
    },
    "lines_to_next_cell": 0,
    "papermill": {
     "duration": 0.027939,
     "end_time": "2022-07-18T11:25:32.964675",
     "exception": false,
     "start_time": "2022-07-18T11:25:32.936736",
     "status": "completed"
    },
    "tags": []
   },
   "outputs": [],
   "source": [
    "# ----------------- Parameters for interactive development --------------\n",
    "P = {\n",
    "    \"pipeline.data_lake_root\": \"/pipeline-outputs/data-lake\",\n",
    "    \"task.nr_train_images\": 600,\n",
    "}"
   ]
  },
  {
   "cell_type": "code",
   "execution_count": 2,
   "id": "ad4c92d8",
   "metadata": {
    "execution": {
     "iopub.execute_input": "2022-07-18T11:25:32.976837Z",
     "iopub.status.busy": "2022-07-18T11:25:32.976513Z",
     "iopub.status.idle": "2022-07-18T11:25:32.989234Z",
     "shell.execute_reply": "2022-07-18T11:25:32.988526Z"
    },
    "lines_to_next_cell": 0,
    "papermill": {
     "duration": 0.020538,
     "end_time": "2022-07-18T11:25:32.990966",
     "exception": false,
     "start_time": "2022-07-18T11:25:32.970428",
     "status": "completed"
    },
    "tags": [
     "parameters"
    ]
   },
   "outputs": [],
   "source": [
    "# - During automated runs parameters will be injected in the below cell -"
   ]
  },
  {
   "cell_type": "code",
   "execution_count": 3,
   "id": "b00522c9",
   "metadata": {
    "execution": {
     "iopub.execute_input": "2022-07-18T11:25:33.002723Z",
     "iopub.status.busy": "2022-07-18T11:25:33.002151Z",
     "iopub.status.idle": "2022-07-18T11:25:33.009110Z",
     "shell.execute_reply": "2022-07-18T11:25:33.007366Z"
    },
    "papermill": {
     "duration": 0.015125,
     "end_time": "2022-07-18T11:25:33.010923",
     "exception": false,
     "start_time": "2022-07-18T11:25:32.995798",
     "status": "completed"
    },
    "tags": [
     "injected-parameters"
    ]
   },
   "outputs": [],
   "source": [
    "# Parameters\n",
    "P = {\n",
    "    \"pipeline.data_lake_root\": \"/pipeline-outputs/data-lake\",\n",
    "    \"pipeline.run_environment\": \"ci\",\n",
    "    \"pipeline.pipeline_run_id\": \"711628db-7a55-4b5a-89fb-b41dd311f49f\",\n",
    "    \"pipeline.github.repository\": \"pynb-dag-runner/mnist-digits-demo-pipeline\",\n",
    "    \"pipeline.github.workflow\": \"Run automated tests, pipeline and deploy results to static reporting site\",\n",
    "    \"pipeline.github.runner_name\": \"GitHub Actions 2\",\n",
    "    \"pipeline.github.run_id\": \"2690097514\",\n",
    "    \"pipeline.github.actor\": \"matiasdahl\",\n",
    "    \"pipeline.github.job\": \"run-tests-pipeline-and-persist-pipeline-outputs\",\n",
    "    \"pipeline.github.base_ref\": \"development\",\n",
    "    \"pipeline.github.head_ref\": \"graph-parsing\",\n",
    "    \"pipeline.github.sha\": \"8283f417a1f6964b1fa1c6cda8e5c5ec877446d4\",\n",
    "    \"pipeline.github.ref\": \"refs/pull/57/merge\",\n",
    "    \"pipeline.github.ref_type\": \"branch\",\n",
    "    \"pipeline.github.ref_name\": \"57/merge\",\n",
    "    \"pipeline.github.event_name\": \"pull_request\",\n",
    "    \"task.nr_train_images\": 1200,\n",
    "    \"task.notebook\": \"notebooks/benchmark-model.py\",\n",
    "    \"task.max_nr_retries\": \"1\",\n",
    "    \"run.retry_nr\": \"0\",\n",
    "    \"task.timeout_s\": \"None\",\n",
    "    \"task.num_cpus\": 1,\n",
    "    \"_opentelemetry_traceparent\": \"00-b0e446e89b17bdeb058dbb10a0b42255-3bc283d6103c48ef-01\",\n",
    "}\n"
   ]
  },
  {
   "cell_type": "code",
   "execution_count": 4,
   "id": "f0f12f91",
   "metadata": {
    "execution": {
     "iopub.execute_input": "2022-07-18T11:25:33.023728Z",
     "iopub.status.busy": "2022-07-18T11:25:33.023225Z",
     "iopub.status.idle": "2022-07-18T11:25:33.026863Z",
     "shell.execute_reply": "2022-07-18T11:25:33.025997Z"
    },
    "lines_to_next_cell": 0,
    "papermill": {
     "duration": 0.012259,
     "end_time": "2022-07-18T11:25:33.029599",
     "exception": false,
     "start_time": "2022-07-18T11:25:33.017340",
     "status": "completed"
    },
    "tags": []
   },
   "outputs": [],
   "source": [
    "# -----------------------------------------------------------------------"
   ]
  },
  {
   "cell_type": "markdown",
   "id": "7d084f09",
   "metadata": {
    "papermill": {
     "duration": 0.004969,
     "end_time": "2022-07-18T11:25:33.039681",
     "exception": false,
     "start_time": "2022-07-18T11:25:33.034712",
     "status": "completed"
    },
    "tags": []
   },
   "source": [
    "---"
   ]
  },
  {
   "cell_type": "markdown",
   "id": "b9bb23fd",
   "metadata": {
    "lines_to_next_cell": 2,
    "papermill": {
     "duration": 0.004832,
     "end_time": "2022-07-18T11:25:33.048856",
     "exception": false,
     "start_time": "2022-07-18T11:25:33.044024",
     "status": "completed"
    },
    "tags": []
   },
   "source": [
    "### Notebook code"
   ]
  },
  {
   "cell_type": "code",
   "execution_count": 5,
   "id": "00f34eac",
   "metadata": {
    "execution": {
     "iopub.execute_input": "2022-07-18T11:25:33.072571Z",
     "iopub.status.busy": "2022-07-18T11:25:33.072238Z",
     "iopub.status.idle": "2022-07-18T11:25:34.425600Z",
     "shell.execute_reply": "2022-07-18T11:25:34.423218Z"
    },
    "papermill": {
     "duration": 1.374361,
     "end_time": "2022-07-18T11:25:34.427906",
     "exception": false,
     "start_time": "2022-07-18T11:25:33.053545",
     "status": "completed"
    },
    "tags": []
   },
   "outputs": [
    {
     "name": "stderr",
     "output_type": "stream",
     "text": [
      "2022-07-18 11:25:34,235\tINFO worker.py:842 -- Connecting to existing Ray cluster at address: 172.17.0.2:6379\n"
     ]
    }
   ],
   "source": [
    "import itertools as it\n",
    "\n",
    "#\n",
    "import numpy as np\n",
    "import matplotlib.pyplot as plt\n",
    "\n",
    "#\n",
    "from pynb_dag_runner.tasks.task_opentelemetry_logging import PydarLogger\n",
    "\n",
    "#\n",
    "from common.io import datalake_root\n",
    "\n",
    "logger = PydarLogger(P)"
   ]
  },
  {
   "cell_type": "markdown",
   "id": "7c3feaee",
   "metadata": {
    "papermill": {
     "duration": 0.004675,
     "end_time": "2022-07-18T11:25:34.438047",
     "exception": false,
     "start_time": "2022-07-18T11:25:34.433372",
     "status": "completed"
    },
    "tags": []
   },
   "source": [
    "## Load persisted onnx-model and evaluation data"
   ]
  },
  {
   "cell_type": "code",
   "execution_count": 6,
   "id": "a4638e40",
   "metadata": {
    "execution": {
     "iopub.execute_input": "2022-07-18T11:25:34.448804Z",
     "iopub.status.busy": "2022-07-18T11:25:34.448400Z",
     "iopub.status.idle": "2022-07-18T11:25:34.452504Z",
     "shell.execute_reply": "2022-07-18T11:25:34.451687Z"
    },
    "papermill": {
     "duration": 0.012888,
     "end_time": "2022-07-18T11:25:34.455621",
     "exception": false,
     "start_time": "2022-07-18T11:25:34.442733",
     "status": "completed"
    },
    "tags": []
   },
   "outputs": [],
   "source": [
    "from common.io import read_onnx, get_onnx_inputs, get_onnx_outputs, read_numpy"
   ]
  },
  {
   "cell_type": "code",
   "execution_count": 7,
   "id": "f4667958",
   "metadata": {
    "execution": {
     "iopub.execute_input": "2022-07-18T11:25:34.466708Z",
     "iopub.status.busy": "2022-07-18T11:25:34.466420Z",
     "iopub.status.idle": "2022-07-18T11:25:34.479143Z",
     "shell.execute_reply": "2022-07-18T11:25:34.478359Z"
    },
    "lines_to_next_cell": 0,
    "papermill": {
     "duration": 0.020664,
     "end_time": "2022-07-18T11:25:34.481163",
     "exception": false,
     "start_time": "2022-07-18T11:25:34.460499",
     "status": "completed"
    },
    "tags": []
   },
   "outputs": [],
   "source": [
    "onnx_inference_session = read_onnx(\n",
    "    datalake_root(P)\n",
    "    / \"models\"\n",
    "    / f\"nr_train_images={P['task.nr_train_images']}\"\n",
    "    / \"model.onnx\"\n",
    ")"
   ]
  },
  {
   "cell_type": "markdown",
   "id": "31f94966",
   "metadata": {
    "papermill": {
     "duration": 0.004927,
     "end_time": "2022-07-18T11:25:34.491317",
     "exception": false,
     "start_time": "2022-07-18T11:25:34.486390",
     "status": "completed"
    },
    "tags": []
   },
   "source": [
    "### Record structure of inputs and outputs for ONNX model\n",
    "\n",
    "(this should likely be done in training notebook)"
   ]
  },
  {
   "cell_type": "code",
   "execution_count": 8,
   "id": "fce2f30c",
   "metadata": {
    "execution": {
     "iopub.execute_input": "2022-07-18T11:25:34.502399Z",
     "iopub.status.busy": "2022-07-18T11:25:34.502085Z",
     "iopub.status.idle": "2022-07-18T11:25:34.512637Z",
     "shell.execute_reply": "2022-07-18T11:25:34.511887Z"
    },
    "papermill": {
     "duration": 0.01856,
     "end_time": "2022-07-18T11:25:34.514678",
     "exception": false,
     "start_time": "2022-07-18T11:25:34.496118",
     "status": "completed"
    },
    "tags": []
   },
   "outputs": [
    {
     "name": "stdout",
     "output_type": "stream",
     "text": [
      "{\n",
      "  \"inputs\": [\n",
      "    {\n",
      "      \"name\": \"float_input_8x8_image\",\n",
      "      \"shape\": [\n",
      "        null,\n",
      "        64\n",
      "      ],\n",
      "      \"type\": \"tensor(float)\"\n",
      "    }\n",
      "  ],\n",
      "  \"outputs\": [\n",
      "    {\n",
      "      \"name\": \"output_label\",\n",
      "      \"shape\": [\n",
      "        null\n",
      "      ],\n",
      "      \"type\": \"tensor(int64)\"\n",
      "    },\n",
      "    {\n",
      "      \"name\": \"output_probability\",\n",
      "      \"shape\": [],\n",
      "      \"type\": \"seq(map(int64,tensor(float)))\"\n",
      "    }\n",
      "  ]\n",
      "}\n"
     ]
    }
   ],
   "source": [
    "import json\n",
    "\n",
    "onnx_io = json.dumps(\n",
    "    {\n",
    "        \"inputs\": get_onnx_inputs(onnx_inference_session),\n",
    "        \"outputs\": get_onnx_outputs(onnx_inference_session),\n",
    "    },\n",
    "    indent=2,\n",
    ")\n",
    "\n",
    "\n",
    "logger.log_artefact(\"onnx_io_structure.json\", onnx_io)\n",
    "print(onnx_io)"
   ]
  },
  {
   "cell_type": "markdown",
   "id": "6167303e",
   "metadata": {
    "papermill": {
     "duration": 0.010323,
     "end_time": "2022-07-18T11:25:34.530381",
     "exception": false,
     "start_time": "2022-07-18T11:25:34.520058",
     "status": "completed"
    },
    "tags": []
   },
   "source": [
    "### Evaluate model performance on evaluation data set"
   ]
  },
  {
   "cell_type": "code",
   "execution_count": 9,
   "id": "2a487cfb",
   "metadata": {
    "execution": {
     "iopub.execute_input": "2022-07-18T11:25:34.541710Z",
     "iopub.status.busy": "2022-07-18T11:25:34.541402Z",
     "iopub.status.idle": "2022-07-18T11:25:34.547175Z",
     "shell.execute_reply": "2022-07-18T11:25:34.546421Z"
    },
    "papermill": {
     "duration": 0.01506,
     "end_time": "2022-07-18T11:25:34.550455",
     "exception": false,
     "start_time": "2022-07-18T11:25:34.535395",
     "status": "completed"
    },
    "tags": []
   },
   "outputs": [],
   "source": [
    "# load evaluation data\n",
    "X_test = read_numpy(datalake_root(P) / \"test-data\" / \"digits.numpy\")\n",
    "y_test = read_numpy(datalake_root(P) / \"test-data\" / \"labels.numpy\")"
   ]
  },
  {
   "cell_type": "code",
   "execution_count": 10,
   "id": "1174a139",
   "metadata": {
    "execution": {
     "iopub.execute_input": "2022-07-18T11:25:34.562280Z",
     "iopub.status.busy": "2022-07-18T11:25:34.561977Z",
     "iopub.status.idle": "2022-07-18T11:25:34.577902Z",
     "shell.execute_reply": "2022-07-18T11:25:34.577109Z"
    },
    "papermill": {
     "duration": 0.024245,
     "end_time": "2022-07-18T11:25:34.580116",
     "exception": false,
     "start_time": "2022-07-18T11:25:34.555871",
     "status": "completed"
    },
    "tags": []
   },
   "outputs": [],
   "source": [
    "def get_model_outputs(X, onnx_inference_session):\n",
    "    y_pred_labels, y_pred_map = onnx_inference_session.run(\n",
    "        [\"output_label\", \"output_probability\"],\n",
    "        {\"float_input_8x8_image\": X.astype(np.float32)},\n",
    "    )\n",
    "    y_pred_probs = np.array(\n",
    "        [[probabilities[digit] for digit in range(10)] for probabilities in y_pred_map]\n",
    "    )\n",
    "\n",
    "    assert y_pred_labels.shape == (X.shape[0],)\n",
    "    assert y_pred_probs.shape == (X.shape[0], 10)\n",
    "\n",
    "    return y_pred_labels, y_pred_probs\n",
    "\n",
    "\n",
    "# Note: as shown in the training notebook, the predicted labels and probabilities\n",
    "# computed below need not be compatible.\n",
    "y_pred_labels_test, y_pred_probs_test = get_model_outputs(\n",
    "    X_test, onnx_inference_session\n",
    ")"
   ]
  },
  {
   "cell_type": "markdown",
   "id": "d35d8a9e",
   "metadata": {
    "papermill": {
     "duration": 0.005228,
     "end_time": "2022-07-18T11:25:34.590837",
     "exception": false,
     "start_time": "2022-07-18T11:25:34.585609",
     "status": "completed"
    },
    "tags": []
   },
   "source": [
    "### Confusion matrix"
   ]
  },
  {
   "cell_type": "code",
   "execution_count": 11,
   "id": "bc8527bf",
   "metadata": {
    "execution": {
     "iopub.execute_input": "2022-07-18T11:25:34.602140Z",
     "iopub.status.busy": "2022-07-18T11:25:34.601855Z",
     "iopub.status.idle": "2022-07-18T11:25:34.605389Z",
     "shell.execute_reply": "2022-07-18T11:25:34.604665Z"
    },
    "papermill": {
     "duration": 0.013077,
     "end_time": "2022-07-18T11:25:34.608693",
     "exception": false,
     "start_time": "2022-07-18T11:25:34.595616",
     "status": "completed"
    },
    "tags": []
   },
   "outputs": [],
   "source": [
    "# TODO"
   ]
  },
  {
   "cell_type": "markdown",
   "id": "6c02d17c",
   "metadata": {
    "papermill": {
     "duration": 0.005585,
     "end_time": "2022-07-18T11:25:34.620212",
     "exception": false,
     "start_time": "2022-07-18T11:25:34.614627",
     "status": "completed"
    },
    "tags": []
   },
   "source": [
    "### Plot predicted probabilities for each classifier over all evaluation digit images"
   ]
  },
  {
   "cell_type": "code",
   "execution_count": 12,
   "id": "2fed2ff8",
   "metadata": {
    "execution": {
     "iopub.execute_input": "2022-07-18T11:25:34.632808Z",
     "iopub.status.busy": "2022-07-18T11:25:34.632496Z",
     "iopub.status.idle": "2022-07-18T11:25:39.953447Z",
     "shell.execute_reply": "2022-07-18T11:25:39.951831Z"
    },
    "papermill": {
     "duration": 5.330097,
     "end_time": "2022-07-18T11:25:39.955832",
     "exception": false,
     "start_time": "2022-07-18T11:25:34.625735",
     "status": "completed"
    },
    "tags": []
   },
   "outputs": [
    {
     "data": {
      "image/png": "[encoded data removed]",
      "text/plain": [
       "<Figure size 1152x432 with 10 Axes>"
      ]
     },
     "metadata": {
      "needs_background": "light"
     },
     "output_type": "display_data"
    }
   ],
   "source": [
    "def plot_per_digit_probabilities(y_pred_probs):\n",
    "    fig, axs = plt.subplots(nrows=2, ncols=5, figsize=(16, 6))\n",
    "\n",
    "    for (r, c), digit, ax in zip(\n",
    "        it.product(range(2), range(5)), range(10), axs.reshape(-1)\n",
    "    ):\n",
    "        ax.hist(y_pred_probs_test[:, digit], bins=20)\n",
    "\n",
    "        ax.set_title(f\"Digit {digit}\")\n",
    "        if r == 1 and c == 2:\n",
    "            ax.set_xlabel(\"probability\", fontsize=16)\n",
    "\n",
    "        if c == 0:\n",
    "            ax.set_ylabel(\"counts\", fontsize=16)\n",
    "        ax.set_yscale(\"log\")\n",
    "\n",
    "    fig.tight_layout()\n",
    "    fig.suptitle(\n",
    "        f\"Distributions of prediction probabilities for each digit \"\n",
    "        f\"(on evaluation data, n={y_pred_probs.shape[0]})\",\n",
    "        fontsize=20,\n",
    "    )\n",
    "    fig.tight_layout()\n",
    "    fig.show()\n",
    "\n",
    "    return fig\n",
    "\n",
    "\n",
    "fig = plot_per_digit_probabilities(y_pred_probs_test)"
   ]
  },
  {
   "cell_type": "markdown",
   "id": "8ee2d431",
   "metadata": {
    "papermill": {
     "duration": 0.007658,
     "end_time": "2022-07-18T11:25:39.971565",
     "exception": false,
     "start_time": "2022-07-18T11:25:39.963907",
     "status": "completed"
    },
    "tags": []
   },
   "source": [
    "From the above distributions we see that most digits have clear separation between\n",
    "high and lower probabilities. Morover, in each case there is roughly an order of\n",
    "magnitude more of digits with low probabilities. This is compatible with digits\n",
    "being roughly evenly distributed in the data."
   ]
  },
  {
   "cell_type": "code",
   "execution_count": 13,
   "id": "a01dccae",
   "metadata": {
    "execution": {
     "iopub.execute_input": "2022-07-18T11:25:39.987256Z",
     "iopub.status.busy": "2022-07-18T11:25:39.986866Z",
     "iopub.status.idle": "2022-07-18T11:25:40.646869Z",
     "shell.execute_reply": "2022-07-18T11:25:40.646083Z"
    },
    "papermill": {
     "duration": 0.670867,
     "end_time": "2022-07-18T11:25:40.649107",
     "exception": false,
     "start_time": "2022-07-18T11:25:39.978240",
     "status": "completed"
    },
    "tags": []
   },
   "outputs": [],
   "source": [
    "logger.log_figure(\"per-digit-probabilities.png\", fig)"
   ]
  },
  {
   "cell_type": "markdown",
   "id": "63e0b87c",
   "metadata": {
    "papermill": {
     "duration": 0.006008,
     "end_time": "2022-07-18T11:25:40.662130",
     "exception": false,
     "start_time": "2022-07-18T11:25:40.656122",
     "status": "completed"
    },
    "tags": []
   },
   "source": [
    "### Plot ROC curves for individual one-vs-rest classifiers"
   ]
  },
  {
   "cell_type": "code",
   "execution_count": 14,
   "id": "3ebf0eb5",
   "metadata": {
    "execution": {
     "iopub.execute_input": "2022-07-18T11:25:40.692102Z",
     "iopub.status.busy": "2022-07-18T11:25:40.691792Z",
     "iopub.status.idle": "2022-07-18T11:25:41.053977Z",
     "shell.execute_reply": "2022-07-18T11:25:41.053200Z"
    },
    "papermill": {
     "duration": 0.387959,
     "end_time": "2022-07-18T11:25:41.056256",
     "exception": false,
     "start_time": "2022-07-18T11:25:40.668297",
     "status": "completed"
    },
    "tags": []
   },
   "outputs": [],
   "source": [
    "from sklearn import metrics"
   ]
  },
  {
   "cell_type": "code",
   "execution_count": 15,
   "id": "96d710f4",
   "metadata": {
    "execution": {
     "iopub.execute_input": "2022-07-18T11:25:41.071887Z",
     "iopub.status.busy": "2022-07-18T11:25:41.071550Z",
     "iopub.status.idle": "2022-07-18T11:25:42.702293Z",
     "shell.execute_reply": "2022-07-18T11:25:42.701390Z"
    },
    "papermill": {
     "duration": 1.63987,
     "end_time": "2022-07-18T11:25:42.704390",
     "exception": false,
     "start_time": "2022-07-18T11:25:41.064520",
     "status": "completed"
    },
    "tags": []
   },
   "outputs": [
    {
     "data": {
      "image/png": "[encoded data removed]",
      "text/plain": [
       "<Figure size 1152x576 with 10 Axes>"
      ]
     },
     "metadata": {
      "needs_background": "light"
     },
     "output_type": "display_data"
    }
   ],
   "source": [
    "def plot_roc_curves(y, y_pred_probs):\n",
    "    # based on example code\n",
    "    # https://scikit-learn.org/stable/auto_examples/model_selection/plot_roc.html\n",
    "\n",
    "    fig, axs = plt.subplots(nrows=2, ncols=5, figsize=(16, 8))\n",
    "\n",
    "    roc_auc_dict = {}\n",
    "\n",
    "    for (r, c), digit, ax in zip(\n",
    "        it.product(range(2), range(5)), range(10), axs.reshape(-1)\n",
    "    ):\n",
    "        fpr, tpr, _ = metrics.roc_curve(y == digit, y_pred_probs[:, digit])\n",
    "        auc = metrics.auc(fpr, tpr)\n",
    "        roc_auc_dict[str(digit)] = auc\n",
    "\n",
    "        ax.plot(fpr, tpr, label=f\"ROC AUC={round(auc, 3)}\")\n",
    "\n",
    "        ax.set_title(f\"\\nDigit {digit}\", fontsize=16)\n",
    "        if r == 1:\n",
    "            ax.set_xlabel(\"FPR\", fontsize=18)\n",
    "\n",
    "        if c == 0:\n",
    "            ax.set_ylabel(\"TPR\", fontsize=18)\n",
    "\n",
    "        ax.set_xlim([-0.05, 1.05])\n",
    "        ax.set_ylim([-0.05, 1.05])\n",
    "        ax.legend(loc=\"lower right\", frameon=False, fontsize=14)\n",
    "\n",
    "    fig.tight_layout()\n",
    "    fig.suptitle(\n",
    "        f\"ROC plots for one-vs-rest performances \"\n",
    "        f\"(on evaluation data, n={y_pred_probs_test.shape[1]}\",\n",
    "        fontsize=22,\n",
    "    )\n",
    "    fig.tight_layout()\n",
    "    fig.show()\n",
    "\n",
    "    return roc_auc_dict, fig\n",
    "\n",
    "\n",
    "roc_auc_dict, fig = plot_roc_curves(y_test, y_pred_probs_test)"
   ]
  },
  {
   "cell_type": "code",
   "execution_count": 16,
   "id": "c2185230",
   "metadata": {
    "execution": {
     "iopub.execute_input": "2022-07-18T11:25:42.726657Z",
     "iopub.status.busy": "2022-07-18T11:25:42.726319Z",
     "iopub.status.idle": "2022-07-18T11:25:43.051687Z",
     "shell.execute_reply": "2022-07-18T11:25:43.050746Z"
    },
    "papermill": {
     "duration": 0.341819,
     "end_time": "2022-07-18T11:25:43.054131",
     "exception": false,
     "start_time": "2022-07-18T11:25:42.712312",
     "status": "completed"
    },
    "tags": []
   },
   "outputs": [],
   "source": [
    "logger.log_figure(\"per-digit-roc-curves.png\", fig)"
   ]
  },
  {
   "cell_type": "code",
   "execution_count": 17,
   "id": "e20b92d6",
   "metadata": {
    "execution": {
     "iopub.execute_input": "2022-07-18T11:25:43.070469Z",
     "iopub.status.busy": "2022-07-18T11:25:43.070156Z",
     "iopub.status.idle": "2022-07-18T11:25:43.078003Z",
     "shell.execute_reply": "2022-07-18T11:25:43.075376Z"
    },
    "papermill": {
     "duration": 0.021478,
     "end_time": "2022-07-18T11:25:43.083558",
     "exception": false,
     "start_time": "2022-07-18T11:25:43.062080",
     "status": "completed"
    },
    "tags": []
   },
   "outputs": [
    {
     "data": {
      "text/plain": [
       "{'0': 1.0,\n",
       " '1': 0.998950328022493,\n",
       " '2': 1.0,\n",
       " '3': 0.9998500468603562,\n",
       " '4': 0.9997713763145861,\n",
       " '5': 0.9996626054358013,\n",
       " '6': 0.999923792104862,\n",
       " '7': 0.9998475842097242,\n",
       " '8': 0.9957046027742749,\n",
       " '9': 0.9997713763145862}"
      ]
     },
     "execution_count": 17,
     "metadata": {},
     "output_type": "execute_result"
    }
   ],
   "source": [
    "roc_auc_dict"
   ]
  },
  {
   "cell_type": "code",
   "execution_count": 18,
   "id": "bccc3cb8",
   "metadata": {
    "execution": {
     "iopub.execute_input": "2022-07-18T11:25:43.100054Z",
     "iopub.status.busy": "2022-07-18T11:25:43.099763Z",
     "iopub.status.idle": "2022-07-18T11:25:43.105413Z",
     "shell.execute_reply": "2022-07-18T11:25:43.104453Z"
    },
    "papermill": {
     "duration": 0.018782,
     "end_time": "2022-07-18T11:25:43.110265",
     "exception": false,
     "start_time": "2022-07-18T11:25:43.091483",
     "status": "completed"
    },
    "tags": []
   },
   "outputs": [
    {
     "name": "stdout",
     "output_type": "stream",
     "text": [
      " - Logging roc_auc_per_digit (json) : {'0': 1.0, '1': 0.998950328022493, '2': 1.0, '3': 0.9998500468603562, '4': 0.9997713763145861, '5': 0.9996626054358013, '6': 0.999923792104862, '7': 0.9998475842097242, '8': 0.9957046027742749, '9': 0.9997713763145862}\n"
     ]
    }
   ],
   "source": [
    "logger.log_value(\"roc_auc_per_digit\", roc_auc_dict)"
   ]
  },
  {
   "cell_type": "markdown",
   "id": "4ee2c653",
   "metadata": {
    "papermill": {
     "duration": 0.006718,
     "end_time": "2022-07-18T11:25:43.124454",
     "exception": false,
     "start_time": "2022-07-18T11:25:43.117736",
     "status": "completed"
    },
    "tags": []
   },
   "source": [
    "### Compute and log mean ROC AUC score averaged over all digits"
   ]
  },
  {
   "cell_type": "code",
   "execution_count": 19,
   "id": "3d91ff16",
   "metadata": {
    "execution": {
     "iopub.execute_input": "2022-07-18T11:25:43.144959Z",
     "iopub.status.busy": "2022-07-18T11:25:43.144655Z",
     "iopub.status.idle": "2022-07-18T11:25:43.162824Z",
     "shell.execute_reply": "2022-07-18T11:25:43.161928Z"
    },
    "papermill": {
     "duration": 0.027721,
     "end_time": "2022-07-18T11:25:43.164804",
     "exception": false,
     "start_time": "2022-07-18T11:25:43.137083",
     "status": "completed"
    },
    "tags": []
   },
   "outputs": [
    {
     "name": "stdout",
     "output_type": "stream",
     "text": [
      " - Logging roc_auc_class_mean (float) : 0.9993481712036683\n"
     ]
    }
   ],
   "source": [
    "roc_auc_macro = np.mean(list(roc_auc_dict.values()))\n",
    "\n",
    "logger.log_float(\"roc_auc_class_mean\", roc_auc_macro)\n",
    "\n",
    "# assert that the same value can be computed directly using sklearn\n",
    "assert roc_auc_macro == metrics.roc_auc_score(\n",
    "    y_test, y_pred_probs_test, average=\"macro\", multi_class=\"ovr\"\n",
    ")"
   ]
  },
  {
   "cell_type": "code",
   "execution_count": 20,
   "id": "b9129aaa",
   "metadata": {
    "execution": {
     "iopub.execute_input": "2022-07-18T11:25:43.180854Z",
     "iopub.status.busy": "2022-07-18T11:25:43.180504Z",
     "iopub.status.idle": "2022-07-18T11:25:43.183969Z",
     "shell.execute_reply": "2022-07-18T11:25:43.183238Z"
    },
    "lines_to_next_cell": 0,
    "papermill": {
     "duration": 0.015132,
     "end_time": "2022-07-18T11:25:43.187737",
     "exception": false,
     "start_time": "2022-07-18T11:25:43.172605",
     "status": "completed"
    },
    "tags": []
   },
   "outputs": [],
   "source": [
    "# ---"
   ]
  },
  {
   "cell_type": "code",
   "execution_count": null,
   "id": "888b6a1e",
   "metadata": {
    "papermill": {
     "duration": 0.007385,
     "end_time": "2022-07-18T11:25:43.201875",
     "exception": false,
     "start_time": "2022-07-18T11:25:43.194490",
     "status": "completed"
    },
    "tags": []
   },
   "outputs": [],
   "source": []
  }
 ],
 "metadata": {
  "jupytext": {
   "cell_metadata_filter": "tags,-all",
   "main_language": "python",
   "notebook_metadata_filter": "-all"
  },
  "language_info": {
   "codemirror_mode": {
    "name": "ipython",
    "version": 3
   },
   "file_extension": ".py",
   "mimetype": "text/x-python",
   "name": "python",
   "nbconvert_exporter": "python",
   "pygments_lexer": "ipython3",
   "version": "3.8.10"
  },
  "papermill": {
   "default_parameters": {},
   "duration": 13.013864,
   "end_time": "2022-07-18T11:25:44.435525",
   "environment_variables": {},
   "exception": null,
   "input_path": "/home/host_user/workspace/mnist-demo-pipeline/mnist-demo-pipeline/notebooks/temp-notebook-bisqcuhg.ipynb",
   "output_path": "notebooks/benchmark-model.ipynb",
   "parameters": {
    "P": {
     "_opentelemetry_traceparent": "00-b0e446e89b17bdeb058dbb10a0b42255-3bc283d6103c48ef-01",
     "pipeline.data_lake_root": "/pipeline-outputs/data-lake",
     "pipeline.github.actor": "matiasdahl",
     "pipeline.github.base_ref": "development",
     "pipeline.github.event_name": "pull_request",
     "pipeline.github.head_ref": "graph-parsing",
     "pipeline.github.job": "run-tests-pipeline-and-persist-pipeline-outputs",
     "pipeline.github.ref": "refs/pull/57/merge",
     "pipeline.github.ref_name": "57/merge",
     "pipeline.github.ref_type": "branch",
     "pipeline.github.repository": "pynb-dag-runner/mnist-digits-demo-pipeline",
     "pipeline.github.run_id": "2690097514",
     "pipeline.github.runner_name": "GitHub Actions 2",
     "pipeline.github.sha": "8283f417a1f6964b1fa1c6cda8e5c5ec877446d4",
     "pipeline.github.workflow": "Run automated tests, pipeline and deploy results to static reporting site",
     "pipeline.pipeline_run_id": "711628db-7a55-4b5a-89fb-b41dd311f49f",
     "pipeline.run_environment": "ci",
     "run.retry_nr": "0",
     "task.max_nr_retries": "1",
     "task.notebook": "notebooks/benchmark-model.py",
     "task.nr_train_images": 1200,
     "task.num_cpus": 1,
     "task.timeout_s": "None"
    }
   },
   "start_time": "2022-07-18T11:25:31.421661",
   "version": "2.3.3"
  }
 },
 "nbformat": 4,
 "nbformat_minor": 5
}