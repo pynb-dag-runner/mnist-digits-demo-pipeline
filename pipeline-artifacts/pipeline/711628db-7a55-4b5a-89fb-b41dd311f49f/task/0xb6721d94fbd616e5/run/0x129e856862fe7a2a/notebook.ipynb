{
 "cells": [
  {
   "cell_type": "markdown",
   "id": "5c14d988",
   "metadata": {
    "papermill": {
     "duration": 0.006257,
     "end_time": "2022-07-18T11:25:48.017478",
     "exception": false,
     "start_time": "2022-07-18T11:25:48.011221",
     "status": "completed"
    },
    "tags": []
   },
   "source": [
    "# Benchmark model\n",
    "\n",
    "The purpose of this notebook is to benchmark persisted onnx-model (trained in the\n",
    "previous step) against evaluation set."
   ]
  },
  {
   "cell_type": "markdown",
   "id": "da941384",
   "metadata": {
    "papermill": {
     "duration": 0.005186,
     "end_time": "2022-07-18T11:25:48.027911",
     "exception": false,
     "start_time": "2022-07-18T11:25:48.022725",
     "status": "completed"
    },
    "tags": []
   },
   "source": [
    "### Determine run parameters"
   ]
  },
  {
   "cell_type": "code",
   "execution_count": 1,
   "id": "81a2d760",
   "metadata": {
    "execution": {
     "iopub.execute_input": "2022-07-18T11:25:48.040107Z",
     "iopub.status.busy": "2022-07-18T11:25:48.039745Z",
     "iopub.status.idle": "2022-07-18T11:25:48.051925Z",
     "shell.execute_reply": "2022-07-18T11:25:48.050942Z"
    },
    "lines_to_next_cell": 0,
    "papermill": {
     "duration": 0.021305,
     "end_time": "2022-07-18T11:25:48.054150",
     "exception": false,
     "start_time": "2022-07-18T11:25:48.032845",
     "status": "completed"
    },
    "tags": []
   },
   "outputs": [],
   "source": [
    "# ----------------- Parameters for interactive development --------------\n",
    "P = {\n",
    "    \"pipeline.data_lake_root\": \"/pipeline-outputs/data-lake\",\n",
    "    \"task.nr_train_images\": 600,\n",
    "}"
   ]
  },
  {
   "cell_type": "code",
   "execution_count": 2,
   "id": "87393783",
   "metadata": {
    "execution": {
     "iopub.execute_input": "2022-07-18T11:25:48.074521Z",
     "iopub.status.busy": "2022-07-18T11:25:48.074233Z",
     "iopub.status.idle": "2022-07-18T11:25:48.078930Z",
     "shell.execute_reply": "2022-07-18T11:25:48.077704Z"
    },
    "lines_to_next_cell": 0,
    "papermill": {
     "duration": 0.020706,
     "end_time": "2022-07-18T11:25:48.083301",
     "exception": false,
     "start_time": "2022-07-18T11:25:48.062595",
     "status": "completed"
    },
    "tags": [
     "parameters"
    ]
   },
   "outputs": [],
   "source": [
    "# - During automated runs parameters will be injected in the below cell -"
   ]
  },
  {
   "cell_type": "code",
   "execution_count": 3,
   "id": "ba1effb3",
   "metadata": {
    "execution": {
     "iopub.execute_input": "2022-07-18T11:25:48.096761Z",
     "iopub.status.busy": "2022-07-18T11:25:48.096443Z",
     "iopub.status.idle": "2022-07-18T11:25:48.104475Z",
     "shell.execute_reply": "2022-07-18T11:25:48.103700Z"
    },
    "papermill": {
     "duration": 0.018312,
     "end_time": "2022-07-18T11:25:48.108531",
     "exception": false,
     "start_time": "2022-07-18T11:25:48.090219",
     "status": "completed"
    },
    "tags": [
     "injected-parameters"
    ]
   },
   "outputs": [],
   "source": [
    "# Parameters\n",
    "P = {\n",
    "    \"pipeline.data_lake_root\": \"/pipeline-outputs/data-lake\",\n",
    "    \"pipeline.run_environment\": \"ci\",\n",
    "    \"pipeline.pipeline_run_id\": \"711628db-7a55-4b5a-89fb-b41dd311f49f\",\n",
    "    \"pipeline.github.repository\": \"pynb-dag-runner/mnist-digits-demo-pipeline\",\n",
    "    \"pipeline.github.workflow\": \"Run automated tests, pipeline and deploy results to static reporting site\",\n",
    "    \"pipeline.github.runner_name\": \"GitHub Actions 2\",\n",
    "    \"pipeline.github.run_id\": \"2690097514\",\n",
    "    \"pipeline.github.actor\": \"matiasdahl\",\n",
    "    \"pipeline.github.job\": \"run-tests-pipeline-and-persist-pipeline-outputs\",\n",
    "    \"pipeline.github.base_ref\": \"development\",\n",
    "    \"pipeline.github.head_ref\": \"graph-parsing\",\n",
    "    \"pipeline.github.sha\": \"8283f417a1f6964b1fa1c6cda8e5c5ec877446d4\",\n",
    "    \"pipeline.github.ref\": \"refs/pull/57/merge\",\n",
    "    \"pipeline.github.ref_type\": \"branch\",\n",
    "    \"pipeline.github.ref_name\": \"57/merge\",\n",
    "    \"pipeline.github.event_name\": \"pull_request\",\n",
    "    \"task.nr_train_images\": 800,\n",
    "    \"task.notebook\": \"notebooks/benchmark-model.py\",\n",
    "    \"task.max_nr_retries\": \"1\",\n",
    "    \"run.retry_nr\": \"0\",\n",
    "    \"task.timeout_s\": \"None\",\n",
    "    \"task.num_cpus\": 1,\n",
    "    \"_opentelemetry_traceparent\": \"00-b0e446e89b17bdeb058dbb10a0b42255-c417ea402fc40f12-01\",\n",
    "}\n"
   ]
  },
  {
   "cell_type": "code",
   "execution_count": 4,
   "id": "48bb5f07",
   "metadata": {
    "execution": {
     "iopub.execute_input": "2022-07-18T11:25:48.121075Z",
     "iopub.status.busy": "2022-07-18T11:25:48.120802Z",
     "iopub.status.idle": "2022-07-18T11:25:48.124602Z",
     "shell.execute_reply": "2022-07-18T11:25:48.123893Z"
    },
    "lines_to_next_cell": 0,
    "papermill": {
     "duration": 0.013712,
     "end_time": "2022-07-18T11:25:48.128050",
     "exception": false,
     "start_time": "2022-07-18T11:25:48.114338",
     "status": "completed"
    },
    "tags": []
   },
   "outputs": [],
   "source": [
    "# -----------------------------------------------------------------------"
   ]
  },
  {
   "cell_type": "markdown",
   "id": "72f814dd",
   "metadata": {
    "papermill": {
     "duration": 0.00601,
     "end_time": "2022-07-18T11:25:48.140078",
     "exception": false,
     "start_time": "2022-07-18T11:25:48.134068",
     "status": "completed"
    },
    "tags": []
   },
   "source": [
    "---"
   ]
  },
  {
   "cell_type": "markdown",
   "id": "771d4a4e",
   "metadata": {
    "lines_to_next_cell": 2,
    "papermill": {
     "duration": 0.005275,
     "end_time": "2022-07-18T11:25:48.150630",
     "exception": false,
     "start_time": "2022-07-18T11:25:48.145355",
     "status": "completed"
    },
    "tags": []
   },
   "source": [
    "### Notebook code"
   ]
  },
  {
   "cell_type": "code",
   "execution_count": 5,
   "id": "06661e54",
   "metadata": {
    "execution": {
     "iopub.execute_input": "2022-07-18T11:25:48.163505Z",
     "iopub.status.busy": "2022-07-18T11:25:48.162917Z",
     "iopub.status.idle": "2022-07-18T11:25:49.491306Z",
     "shell.execute_reply": "2022-07-18T11:25:49.490381Z"
    },
    "papermill": {
     "duration": 1.337532,
     "end_time": "2022-07-18T11:25:49.493511",
     "exception": false,
     "start_time": "2022-07-18T11:25:48.155979",
     "status": "completed"
    },
    "tags": []
   },
   "outputs": [
    {
     "name": "stderr",
     "output_type": "stream",
     "text": [
      "2022-07-18 11:25:49,304\tINFO worker.py:842 -- Connecting to existing Ray cluster at address: 172.17.0.2:6379\n"
     ]
    }
   ],
   "source": [
    "import itertools as it\n",
    "\n",
    "#\n",
    "import numpy as np\n",
    "import matplotlib.pyplot as plt\n",
    "\n",
    "#\n",
    "from pynb_dag_runner.tasks.task_opentelemetry_logging import PydarLogger\n",
    "\n",
    "#\n",
    "from common.io import datalake_root\n",
    "\n",
    "logger = PydarLogger(P)"
   ]
  },
  {
   "cell_type": "markdown",
   "id": "38a493f2",
   "metadata": {
    "papermill": {
     "duration": 0.005303,
     "end_time": "2022-07-18T11:25:49.506466",
     "exception": false,
     "start_time": "2022-07-18T11:25:49.501163",
     "status": "completed"
    },
    "tags": []
   },
   "source": [
    "## Load persisted onnx-model and evaluation data"
   ]
  },
  {
   "cell_type": "code",
   "execution_count": 6,
   "id": "057a1605",
   "metadata": {
    "execution": {
     "iopub.execute_input": "2022-07-18T11:25:49.522732Z",
     "iopub.status.busy": "2022-07-18T11:25:49.522310Z",
     "iopub.status.idle": "2022-07-18T11:25:49.527074Z",
     "shell.execute_reply": "2022-07-18T11:25:49.526332Z"
    },
    "papermill": {
     "duration": 0.014566,
     "end_time": "2022-07-18T11:25:49.528991",
     "exception": false,
     "start_time": "2022-07-18T11:25:49.514425",
     "status": "completed"
    },
    "tags": []
   },
   "outputs": [],
   "source": [
    "from common.io import read_onnx, get_onnx_inputs, get_onnx_outputs, read_numpy"
   ]
  },
  {
   "cell_type": "code",
   "execution_count": 7,
   "id": "d67ec550",
   "metadata": {
    "execution": {
     "iopub.execute_input": "2022-07-18T11:25:49.543716Z",
     "iopub.status.busy": "2022-07-18T11:25:49.543385Z",
     "iopub.status.idle": "2022-07-18T11:25:49.557423Z",
     "shell.execute_reply": "2022-07-18T11:25:49.556656Z"
    },
    "lines_to_next_cell": 0,
    "papermill": {
     "duration": 0.02341,
     "end_time": "2022-07-18T11:25:49.559600",
     "exception": false,
     "start_time": "2022-07-18T11:25:49.536190",
     "status": "completed"
    },
    "tags": []
   },
   "outputs": [],
   "source": [
    "onnx_inference_session = read_onnx(\n",
    "    datalake_root(P)\n",
    "    / \"models\"\n",
    "    / f\"nr_train_images={P['task.nr_train_images']}\"\n",
    "    / \"model.onnx\"\n",
    ")"
   ]
  },
  {
   "cell_type": "markdown",
   "id": "98cf8335",
   "metadata": {
    "papermill": {
     "duration": 0.005594,
     "end_time": "2022-07-18T11:25:49.572487",
     "exception": false,
     "start_time": "2022-07-18T11:25:49.566893",
     "status": "completed"
    },
    "tags": []
   },
   "source": [
    "### Record structure of inputs and outputs for ONNX model\n",
    "\n",
    "(this should likely be done in training notebook)"
   ]
  },
  {
   "cell_type": "code",
   "execution_count": 8,
   "id": "5654a462",
   "metadata": {
    "execution": {
     "iopub.execute_input": "2022-07-18T11:25:49.585112Z",
     "iopub.status.busy": "2022-07-18T11:25:49.584785Z",
     "iopub.status.idle": "2022-07-18T11:25:49.592521Z",
     "shell.execute_reply": "2022-07-18T11:25:49.591799Z"
    },
    "papermill": {
     "duration": 0.019375,
     "end_time": "2022-07-18T11:25:49.597534",
     "exception": false,
     "start_time": "2022-07-18T11:25:49.578159",
     "status": "completed"
    },
    "tags": []
   },
   "outputs": [
    {
     "name": "stdout",
     "output_type": "stream",
     "text": [
      "{\n",
      "  \"inputs\": [\n",
      "    {\n",
      "      \"name\": \"float_input_8x8_image\",\n",
      "      \"shape\": [\n",
      "        null,\n",
      "        64\n",
      "      ],\n",
      "      \"type\": \"tensor(float)\"\n",
      "    }\n",
      "  ],\n",
      "  \"outputs\": [\n",
      "    {\n",
      "      \"name\": \"output_label\",\n",
      "      \"shape\": [\n",
      "        null\n",
      "      ],\n",
      "      \"type\": \"tensor(int64)\"\n",
      "    },\n",
      "    {\n",
      "      \"name\": \"output_probability\",\n",
      "      \"shape\": [],\n",
      "      \"type\": \"seq(map(int64,tensor(float)))\"\n",
      "    }\n",
      "  ]\n",
      "}\n"
     ]
    }
   ],
   "source": [
    "import json\n",
    "\n",
    "onnx_io = json.dumps(\n",
    "    {\n",
    "        \"inputs\": get_onnx_inputs(onnx_inference_session),\n",
    "        \"outputs\": get_onnx_outputs(onnx_inference_session),\n",
    "    },\n",
    "    indent=2,\n",
    ")\n",
    "\n",
    "\n",
    "logger.log_artefact(\"onnx_io_structure.json\", onnx_io)\n",
    "print(onnx_io)"
   ]
  },
  {
   "cell_type": "markdown",
   "id": "3b6d6c81",
   "metadata": {
    "papermill": {
     "duration": 0.010504,
     "end_time": "2022-07-18T11:25:49.614759",
     "exception": false,
     "start_time": "2022-07-18T11:25:49.604255",
     "status": "completed"
    },
    "tags": []
   },
   "source": [
    "### Evaluate model performance on evaluation data set"
   ]
  },
  {
   "cell_type": "code",
   "execution_count": 9,
   "id": "3dccd870",
   "metadata": {
    "execution": {
     "iopub.execute_input": "2022-07-18T11:25:49.629410Z",
     "iopub.status.busy": "2022-07-18T11:25:49.629062Z",
     "iopub.status.idle": "2022-07-18T11:25:49.636493Z",
     "shell.execute_reply": "2022-07-18T11:25:49.635536Z"
    },
    "papermill": {
     "duration": 0.018134,
     "end_time": "2022-07-18T11:25:49.639098",
     "exception": false,
     "start_time": "2022-07-18T11:25:49.620964",
     "status": "completed"
    },
    "tags": []
   },
   "outputs": [],
   "source": [
    "# load evaluation data\n",
    "X_test = read_numpy(datalake_root(P) / \"test-data\" / \"digits.numpy\")\n",
    "y_test = read_numpy(datalake_root(P) / \"test-data\" / \"labels.numpy\")"
   ]
  },
  {
   "cell_type": "code",
   "execution_count": 10,
   "id": "caec2245",
   "metadata": {
    "execution": {
     "iopub.execute_input": "2022-07-18T11:25:49.651435Z",
     "iopub.status.busy": "2022-07-18T11:25:49.651174Z",
     "iopub.status.idle": "2022-07-18T11:25:49.668130Z",
     "shell.execute_reply": "2022-07-18T11:25:49.667264Z"
    },
    "papermill": {
     "duration": 0.025999,
     "end_time": "2022-07-18T11:25:49.670338",
     "exception": false,
     "start_time": "2022-07-18T11:25:49.644339",
     "status": "completed"
    },
    "tags": []
   },
   "outputs": [],
   "source": [
    "def get_model_outputs(X, onnx_inference_session):\n",
    "    y_pred_labels, y_pred_map = onnx_inference_session.run(\n",
    "        [\"output_label\", \"output_probability\"],\n",
    "        {\"float_input_8x8_image\": X.astype(np.float32)},\n",
    "    )\n",
    "    y_pred_probs = np.array(\n",
    "        [[probabilities[digit] for digit in range(10)] for probabilities in y_pred_map]\n",
    "    )\n",
    "\n",
    "    assert y_pred_labels.shape == (X.shape[0],)\n",
    "    assert y_pred_probs.shape == (X.shape[0], 10)\n",
    "\n",
    "    return y_pred_labels, y_pred_probs\n",
    "\n",
    "\n",
    "# Note: as shown in the training notebook, the predicted labels and probabilities\n",
    "# computed below need not be compatible.\n",
    "y_pred_labels_test, y_pred_probs_test = get_model_outputs(\n",
    "    X_test, onnx_inference_session\n",
    ")"
   ]
  },
  {
   "cell_type": "markdown",
   "id": "cc82b6e9",
   "metadata": {
    "papermill": {
     "duration": 0.007461,
     "end_time": "2022-07-18T11:25:49.682825",
     "exception": false,
     "start_time": "2022-07-18T11:25:49.675364",
     "status": "completed"
    },
    "tags": []
   },
   "source": [
    "### Confusion matrix"
   ]
  },
  {
   "cell_type": "code",
   "execution_count": 11,
   "id": "9fda98f9",
   "metadata": {
    "execution": {
     "iopub.execute_input": "2022-07-18T11:25:49.710167Z",
     "iopub.status.busy": "2022-07-18T11:25:49.709806Z",
     "iopub.status.idle": "2022-07-18T11:25:49.713335Z",
     "shell.execute_reply": "2022-07-18T11:25:49.712620Z"
    },
    "papermill": {
     "duration": 0.02403,
     "end_time": "2022-07-18T11:25:49.723379",
     "exception": false,
     "start_time": "2022-07-18T11:25:49.699349",
     "status": "completed"
    },
    "tags": []
   },
   "outputs": [],
   "source": [
    "# TODO"
   ]
  },
  {
   "cell_type": "markdown",
   "id": "12db00f7",
   "metadata": {
    "papermill": {
     "duration": 0.005241,
     "end_time": "2022-07-18T11:25:49.734802",
     "exception": false,
     "start_time": "2022-07-18T11:25:49.729561",
     "status": "completed"
    },
    "tags": []
   },
   "source": [
    "### Plot predicted probabilities for each classifier over all evaluation digit images"
   ]
  },
  {
   "cell_type": "code",
   "execution_count": 12,
   "id": "ba0f9e87",
   "metadata": {
    "execution": {
     "iopub.execute_input": "2022-07-18T11:25:49.746808Z",
     "iopub.status.busy": "2022-07-18T11:25:49.746418Z",
     "iopub.status.idle": "2022-07-18T11:25:54.334581Z",
     "shell.execute_reply": "2022-07-18T11:25:54.333020Z"
    },
    "papermill": {
     "duration": 4.596289,
     "end_time": "2022-07-18T11:25:54.336744",
     "exception": false,
     "start_time": "2022-07-18T11:25:49.740455",
     "status": "completed"
    },
    "tags": []
   },
   "outputs": [
    {
     "data": {
      "image/png": "[encoded data removed]",
      "text/plain": [
       "<Figure size 1152x432 with 10 Axes>"
      ]
     },
     "metadata": {
      "needs_background": "light"
     },
     "output_type": "display_data"
    }
   ],
   "source": [
    "def plot_per_digit_probabilities(y_pred_probs):\n",
    "    fig, axs = plt.subplots(nrows=2, ncols=5, figsize=(16, 6))\n",
    "\n",
    "    for (r, c), digit, ax in zip(\n",
    "        it.product(range(2), range(5)), range(10), axs.reshape(-1)\n",
    "    ):\n",
    "        ax.hist(y_pred_probs_test[:, digit], bins=20)\n",
    "\n",
    "        ax.set_title(f\"Digit {digit}\")\n",
    "        if r == 1 and c == 2:\n",
    "            ax.set_xlabel(\"probability\", fontsize=16)\n",
    "\n",
    "        if c == 0:\n",
    "            ax.set_ylabel(\"counts\", fontsize=16)\n",
    "        ax.set_yscale(\"log\")\n",
    "\n",
    "    fig.tight_layout()\n",
    "    fig.suptitle(\n",
    "        f\"Distributions of prediction probabilities for each digit \"\n",
    "        f\"(on evaluation data, n={y_pred_probs.shape[0]})\",\n",
    "        fontsize=20,\n",
    "    )\n",
    "    fig.tight_layout()\n",
    "    fig.show()\n",
    "\n",
    "    return fig\n",
    "\n",
    "\n",
    "fig = plot_per_digit_probabilities(y_pred_probs_test)"
   ]
  },
  {
   "cell_type": "markdown",
   "id": "d21dd23f",
   "metadata": {
    "papermill": {
     "duration": 0.005596,
     "end_time": "2022-07-18T11:25:54.349632",
     "exception": false,
     "start_time": "2022-07-18T11:25:54.344036",
     "status": "completed"
    },
    "tags": []
   },
   "source": [
    "From the above distributions we see that most digits have clear separation between\n",
    "high and lower probabilities. Morover, in each case there is roughly an order of\n",
    "magnitude more of digits with low probabilities. This is compatible with digits\n",
    "being roughly evenly distributed in the data."
   ]
  },
  {
   "cell_type": "code",
   "execution_count": 13,
   "id": "169b0c87",
   "metadata": {
    "execution": {
     "iopub.execute_input": "2022-07-18T11:25:54.364758Z",
     "iopub.status.busy": "2022-07-18T11:25:54.364443Z",
     "iopub.status.idle": "2022-07-18T11:25:55.002848Z",
     "shell.execute_reply": "2022-07-18T11:25:55.001941Z"
    },
    "papermill": {
     "duration": 0.648953,
     "end_time": "2022-07-18T11:25:55.005315",
     "exception": false,
     "start_time": "2022-07-18T11:25:54.356362",
     "status": "completed"
    },
    "tags": []
   },
   "outputs": [],
   "source": [
    "logger.log_figure(\"per-digit-probabilities.png\", fig)"
   ]
  },
  {
   "cell_type": "markdown",
   "id": "f328b173",
   "metadata": {
    "papermill": {
     "duration": 0.005511,
     "end_time": "2022-07-18T11:25:55.017946",
     "exception": false,
     "start_time": "2022-07-18T11:25:55.012435",
     "status": "completed"
    },
    "tags": []
   },
   "source": [
    "### Plot ROC curves for individual one-vs-rest classifiers"
   ]
  },
  {
   "cell_type": "code",
   "execution_count": 14,
   "id": "27b5f69a",
   "metadata": {
    "execution": {
     "iopub.execute_input": "2022-07-18T11:25:55.032289Z",
     "iopub.status.busy": "2022-07-18T11:25:55.032002Z",
     "iopub.status.idle": "2022-07-18T11:25:55.530509Z",
     "shell.execute_reply": "2022-07-18T11:25:55.529761Z"
    },
    "papermill": {
     "duration": 0.508315,
     "end_time": "2022-07-18T11:25:55.532963",
     "exception": false,
     "start_time": "2022-07-18T11:25:55.024648",
     "status": "completed"
    },
    "tags": []
   },
   "outputs": [],
   "source": [
    "from sklearn import metrics"
   ]
  },
  {
   "cell_type": "code",
   "execution_count": 15,
   "id": "3f0c43d9",
   "metadata": {
    "execution": {
     "iopub.execute_input": "2022-07-18T11:25:55.547142Z",
     "iopub.status.busy": "2022-07-18T11:25:55.546856Z",
     "iopub.status.idle": "2022-07-18T11:25:57.055778Z",
     "shell.execute_reply": "2022-07-18T11:25:57.054995Z"
    },
    "papermill": {
     "duration": 1.518381,
     "end_time": "2022-07-18T11:25:57.058196",
     "exception": false,
     "start_time": "2022-07-18T11:25:55.539815",
     "status": "completed"
    },
    "tags": []
   },
   "outputs": [
    {
     "data": {
      "image/png": "[encoded data removed]",
      "text/plain": [
       "<Figure size 1152x576 with 10 Axes>"
      ]
     },
     "metadata": {
      "needs_background": "light"
     },
     "output_type": "display_data"
    }
   ],
   "source": [
    "def plot_roc_curves(y, y_pred_probs):\n",
    "    # based on example code\n",
    "    # https://scikit-learn.org/stable/auto_examples/model_selection/plot_roc.html\n",
    "\n",
    "    fig, axs = plt.subplots(nrows=2, ncols=5, figsize=(16, 8))\n",
    "\n",
    "    roc_auc_dict = {}\n",
    "\n",
    "    for (r, c), digit, ax in zip(\n",
    "        it.product(range(2), range(5)), range(10), axs.reshape(-1)\n",
    "    ):\n",
    "        fpr, tpr, _ = metrics.roc_curve(y == digit, y_pred_probs[:, digit])\n",
    "        auc = metrics.auc(fpr, tpr)\n",
    "        roc_auc_dict[str(digit)] = auc\n",
    "\n",
    "        ax.plot(fpr, tpr, label=f\"ROC AUC={round(auc, 3)}\")\n",
    "\n",
    "        ax.set_title(f\"\\nDigit {digit}\", fontsize=16)\n",
    "        if r == 1:\n",
    "            ax.set_xlabel(\"FPR\", fontsize=18)\n",
    "\n",
    "        if c == 0:\n",
    "            ax.set_ylabel(\"TPR\", fontsize=18)\n",
    "\n",
    "        ax.set_xlim([-0.05, 1.05])\n",
    "        ax.set_ylim([-0.05, 1.05])\n",
    "        ax.legend(loc=\"lower right\", frameon=False, fontsize=14)\n",
    "\n",
    "    fig.tight_layout()\n",
    "    fig.suptitle(\n",
    "        f\"ROC plots for one-vs-rest performances \"\n",
    "        f\"(on evaluation data, n={y_pred_probs_test.shape[1]}\",\n",
    "        fontsize=22,\n",
    "    )\n",
    "    fig.tight_layout()\n",
    "    fig.show()\n",
    "\n",
    "    return roc_auc_dict, fig\n",
    "\n",
    "\n",
    "roc_auc_dict, fig = plot_roc_curves(y_test, y_pred_probs_test)"
   ]
  },
  {
   "cell_type": "code",
   "execution_count": 16,
   "id": "60423768",
   "metadata": {
    "execution": {
     "iopub.execute_input": "2022-07-18T11:25:57.074217Z",
     "iopub.status.busy": "2022-07-18T11:25:57.073905Z",
     "iopub.status.idle": "2022-07-18T11:25:57.366449Z",
     "shell.execute_reply": "2022-07-18T11:25:57.365701Z"
    },
    "papermill": {
     "duration": 0.302413,
     "end_time": "2022-07-18T11:25:57.368835",
     "exception": false,
     "start_time": "2022-07-18T11:25:57.066422",
     "status": "completed"
    },
    "tags": []
   },
   "outputs": [],
   "source": [
    "logger.log_figure(\"per-digit-roc-curves.png\", fig)"
   ]
  },
  {
   "cell_type": "code",
   "execution_count": 17,
   "id": "9c013dd6",
   "metadata": {
    "execution": {
     "iopub.execute_input": "2022-07-18T11:25:57.385990Z",
     "iopub.status.busy": "2022-07-18T11:25:57.385719Z",
     "iopub.status.idle": "2022-07-18T11:25:57.391798Z",
     "shell.execute_reply": "2022-07-18T11:25:57.390849Z"
    },
    "papermill": {
     "duration": 0.021078,
     "end_time": "2022-07-18T11:25:57.397989",
     "exception": false,
     "start_time": "2022-07-18T11:25:57.376911",
     "status": "completed"
    },
    "tags": []
   },
   "outputs": [
    {
     "data": {
      "text/plain": [
       "{'0': 1.0,\n",
       " '1': 0.9988003748828491,\n",
       " '2': 1.0,\n",
       " '3': 0.9997750702905343,\n",
       " '4': 0.9995427526291724,\n",
       " '5': 0.9992127460168697,\n",
       " '6': 0.999961896052431,\n",
       " '7': 0.9998856881572931,\n",
       " '8': 0.992827868852459,\n",
       " '9': 0.9994284407864655}"
      ]
     },
     "execution_count": 17,
     "metadata": {},
     "output_type": "execute_result"
    }
   ],
   "source": [
    "roc_auc_dict"
   ]
  },
  {
   "cell_type": "code",
   "execution_count": 18,
   "id": "6100e722",
   "metadata": {
    "execution": {
     "iopub.execute_input": "2022-07-18T11:25:57.415102Z",
     "iopub.status.busy": "2022-07-18T11:25:57.414785Z",
     "iopub.status.idle": "2022-07-18T11:25:57.419813Z",
     "shell.execute_reply": "2022-07-18T11:25:57.419091Z"
    },
    "papermill": {
     "duration": 0.01839,
     "end_time": "2022-07-18T11:25:57.424548",
     "exception": false,
     "start_time": "2022-07-18T11:25:57.406158",
     "status": "completed"
    },
    "tags": []
   },
   "outputs": [
    {
     "name": "stdout",
     "output_type": "stream",
     "text": [
      " - Logging roc_auc_per_digit (json) : {'0': 1.0, '1': 0.9988003748828491, '2': 1.0, '3': 0.9997750702905343, '4': 0.9995427526291724, '5': 0.9992127460168697, '6': 0.999961896052431, '7': 0.9998856881572931, '8': 0.992827868852459, '9': 0.9994284407864655}\n"
     ]
    }
   ],
   "source": [
    "logger.log_value(\"roc_auc_per_digit\", roc_auc_dict)"
   ]
  },
  {
   "cell_type": "markdown",
   "id": "7c1d7389",
   "metadata": {
    "papermill": {
     "duration": 0.007297,
     "end_time": "2022-07-18T11:25:57.438879",
     "exception": false,
     "start_time": "2022-07-18T11:25:57.431582",
     "status": "completed"
    },
    "tags": []
   },
   "source": [
    "### Compute and log mean ROC AUC score averaged over all digits"
   ]
  },
  {
   "cell_type": "code",
   "execution_count": 19,
   "id": "1f1615cd",
   "metadata": {
    "execution": {
     "iopub.execute_input": "2022-07-18T11:25:57.454426Z",
     "iopub.status.busy": "2022-07-18T11:25:57.454141Z",
     "iopub.status.idle": "2022-07-18T11:25:57.474399Z",
     "shell.execute_reply": "2022-07-18T11:25:57.473680Z"
    },
    "papermill": {
     "duration": 0.030378,
     "end_time": "2022-07-18T11:25:57.476344",
     "exception": false,
     "start_time": "2022-07-18T11:25:57.445966",
     "status": "completed"
    },
    "tags": []
   },
   "outputs": [
    {
     "name": "stdout",
     "output_type": "stream",
     "text": [
      " - Logging roc_auc_class_mean (float) : 0.9989434837668073\n"
     ]
    }
   ],
   "source": [
    "roc_auc_macro = np.mean(list(roc_auc_dict.values()))\n",
    "\n",
    "logger.log_float(\"roc_auc_class_mean\", roc_auc_macro)\n",
    "\n",
    "# assert that the same value can be computed directly using sklearn\n",
    "assert roc_auc_macro == metrics.roc_auc_score(\n",
    "    y_test, y_pred_probs_test, average=\"macro\", multi_class=\"ovr\"\n",
    ")"
   ]
  },
  {
   "cell_type": "code",
   "execution_count": 20,
   "id": "68d47403",
   "metadata": {
    "execution": {
     "iopub.execute_input": "2022-07-18T11:25:57.492629Z",
     "iopub.status.busy": "2022-07-18T11:25:57.492331Z",
     "iopub.status.idle": "2022-07-18T11:25:57.496164Z",
     "shell.execute_reply": "2022-07-18T11:25:57.495419Z"
    },
    "lines_to_next_cell": 0,
    "papermill": {
     "duration": 0.015787,
     "end_time": "2022-07-18T11:25:57.499971",
     "exception": false,
     "start_time": "2022-07-18T11:25:57.484184",
     "status": "completed"
    },
    "tags": []
   },
   "outputs": [],
   "source": [
    "# ---"
   ]
  },
  {
   "cell_type": "code",
   "execution_count": null,
   "id": "b14c6529",
   "metadata": {
    "papermill": {
     "duration": 0.006877,
     "end_time": "2022-07-18T11:25:57.514368",
     "exception": false,
     "start_time": "2022-07-18T11:25:57.507491",
     "status": "completed"
    },
    "tags": []
   },
   "outputs": [],
   "source": []
  }
 ],
 "metadata": {
  "jupytext": {
   "cell_metadata_filter": "tags,-all",
   "main_language": "python",
   "notebook_metadata_filter": "-all"
  },
  "language_info": {
   "codemirror_mode": {
    "name": "ipython",
    "version": 3
   },
   "file_extension": ".py",
   "mimetype": "text/x-python",
   "name": "python",
   "nbconvert_exporter": "python",
   "pygments_lexer": "ipython3",
   "version": "3.8.10"
  },
  "papermill": {
   "default_parameters": {},
   "duration": 12.706975,
   "end_time": "2022-07-18T11:25:58.752415",
   "environment_variables": {},
   "exception": null,
   "input_path": "/home/host_user/workspace/mnist-demo-pipeline/mnist-demo-pipeline/notebooks/temp-notebook-yhsh6p3g.ipynb",
   "output_path": "notebooks/benchmark-model.ipynb",
   "parameters": {
    "P": {
     "_opentelemetry_traceparent": "00-b0e446e89b17bdeb058dbb10a0b42255-c417ea402fc40f12-01",
     "pipeline.data_lake_root": "/pipeline-outputs/data-lake",
     "pipeline.github.actor": "matiasdahl",
     "pipeline.github.base_ref": "development",
     "pipeline.github.event_name": "pull_request",
     "pipeline.github.head_ref": "graph-parsing",
     "pipeline.github.job": "run-tests-pipeline-and-persist-pipeline-outputs",
     "pipeline.github.ref": "refs/pull/57/merge",
     "pipeline.github.ref_name": "57/merge",
     "pipeline.github.ref_type": "branch",
     "pipeline.github.repository": "pynb-dag-runner/mnist-digits-demo-pipeline",
     "pipeline.github.run_id": "2690097514",
     "pipeline.github.runner_name": "GitHub Actions 2",
     "pipeline.github.sha": "8283f417a1f6964b1fa1c6cda8e5c5ec877446d4",
     "pipeline.github.workflow": "Run automated tests, pipeline and deploy results to static reporting site",
     "pipeline.pipeline_run_id": "711628db-7a55-4b5a-89fb-b41dd311f49f",
     "pipeline.run_environment": "ci",
     "run.retry_nr": "0",
     "task.max_nr_retries": "1",
     "task.notebook": "notebooks/benchmark-model.py",
     "task.nr_train_images": 800,
     "task.num_cpus": 1,
     "task.timeout_s": "None"
    }
   },
   "start_time": "2022-07-18T11:25:46.045440",
   "version": "2.3.3"
  }
 },
 "nbformat": 4,
 "nbformat_minor": 5
}