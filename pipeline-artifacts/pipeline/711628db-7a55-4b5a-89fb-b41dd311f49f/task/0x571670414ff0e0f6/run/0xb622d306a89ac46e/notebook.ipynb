{
 "cells": [
  {
   "cell_type": "markdown",
   "id": "8e75d166",
   "metadata": {
    "papermill": {
     "duration": 0.025084,
     "end_time": "2022-07-18T11:26:05.775334",
     "exception": false,
     "start_time": "2022-07-18T11:26:05.750250",
     "status": "completed"
    },
    "tags": []
   },
   "source": [
    "# Summarize model performances\n",
    "\n",
    "This notebooks plots the performances (using averaged ROC AUC scores) for models\n",
    "trained with different training sets."
   ]
  },
  {
   "cell_type": "markdown",
   "id": "9225e81e",
   "metadata": {
    "papermill": {
     "duration": 0.003139,
     "end_time": "2022-07-18T11:26:05.782358",
     "exception": false,
     "start_time": "2022-07-18T11:26:05.779219",
     "status": "completed"
    },
    "tags": []
   },
   "source": [
    "### Determine run parameters"
   ]
  },
  {
   "cell_type": "code",
   "execution_count": 1,
   "id": "00791dbd",
   "metadata": {
    "execution": {
     "iopub.execute_input": "2022-07-18T11:26:05.789769Z",
     "iopub.status.busy": "2022-07-18T11:26:05.789388Z",
     "iopub.status.idle": "2022-07-18T11:26:05.797734Z",
     "shell.execute_reply": "2022-07-18T11:26:05.796708Z"
    },
    "lines_to_next_cell": 0,
    "papermill": {
     "duration": 0.017796,
     "end_time": "2022-07-18T11:26:05.802953",
     "exception": false,
     "start_time": "2022-07-18T11:26:05.785157",
     "status": "completed"
    },
    "tags": []
   },
   "outputs": [],
   "source": [
    "# ----------------- Parameters for interactive development --------------\n",
    "P = {\n",
    "    \"pipeline.run_environment\": \"dev\",\n",
    "}"
   ]
  },
  {
   "cell_type": "code",
   "execution_count": 2,
   "id": "bac3c8cc",
   "metadata": {
    "execution": {
     "iopub.execute_input": "2022-07-18T11:26:05.817109Z",
     "iopub.status.busy": "2022-07-18T11:26:05.814789Z",
     "iopub.status.idle": "2022-07-18T11:26:05.823764Z",
     "shell.execute_reply": "2022-07-18T11:26:05.822688Z"
    },
    "lines_to_next_cell": 0,
    "papermill": {
     "duration": 0.019351,
     "end_time": "2022-07-18T11:26:05.825688",
     "exception": false,
     "start_time": "2022-07-18T11:26:05.806337",
     "status": "completed"
    },
    "tags": [
     "parameters"
    ]
   },
   "outputs": [],
   "source": [
    "# - During automated runs parameters will be injected in the below cell -"
   ]
  },
  {
   "cell_type": "code",
   "execution_count": 3,
   "id": "bb7d078c",
   "metadata": {
    "execution": {
     "iopub.execute_input": "2022-07-18T11:26:05.834096Z",
     "iopub.status.busy": "2022-07-18T11:26:05.833535Z",
     "iopub.status.idle": "2022-07-18T11:26:05.839531Z",
     "shell.execute_reply": "2022-07-18T11:26:05.838641Z"
    },
    "papermill": {
     "duration": 0.012975,
     "end_time": "2022-07-18T11:26:05.841777",
     "exception": false,
     "start_time": "2022-07-18T11:26:05.828802",
     "status": "completed"
    },
    "tags": [
     "injected-parameters"
    ]
   },
   "outputs": [],
   "source": [
    "# Parameters\n",
    "P = {\n",
    "    \"pipeline.data_lake_root\": \"/pipeline-outputs/data-lake\",\n",
    "    \"pipeline.run_environment\": \"ci\",\n",
    "    \"pipeline.pipeline_run_id\": \"711628db-7a55-4b5a-89fb-b41dd311f49f\",\n",
    "    \"pipeline.github.repository\": \"pynb-dag-runner/mnist-digits-demo-pipeline\",\n",
    "    \"pipeline.github.workflow\": \"Run automated tests, pipeline and deploy results to static reporting site\",\n",
    "    \"pipeline.github.runner_name\": \"GitHub Actions 2\",\n",
    "    \"pipeline.github.run_id\": \"2690097514\",\n",
    "    \"pipeline.github.actor\": \"matiasdahl\",\n",
    "    \"pipeline.github.job\": \"run-tests-pipeline-and-persist-pipeline-outputs\",\n",
    "    \"pipeline.github.base_ref\": \"development\",\n",
    "    \"pipeline.github.head_ref\": \"graph-parsing\",\n",
    "    \"pipeline.github.sha\": \"8283f417a1f6964b1fa1c6cda8e5c5ec877446d4\",\n",
    "    \"pipeline.github.ref\": \"refs/pull/57/merge\",\n",
    "    \"pipeline.github.ref_type\": \"branch\",\n",
    "    \"pipeline.github.ref_name\": \"57/merge\",\n",
    "    \"pipeline.github.event_name\": \"pull_request\",\n",
    "    \"task.notebook\": \"notebooks/summary.py\",\n",
    "    \"task.max_nr_retries\": \"1\",\n",
    "    \"run.retry_nr\": \"0\",\n",
    "    \"task.timeout_s\": \"None\",\n",
    "    \"task.num_cpus\": 1,\n",
    "    \"_opentelemetry_traceparent\": \"00-b0e446e89b17bdeb058dbb10a0b42255-92b814fb339cedc9-01\",\n",
    "}\n"
   ]
  },
  {
   "cell_type": "code",
   "execution_count": 4,
   "id": "e1a63d55",
   "metadata": {
    "execution": {
     "iopub.execute_input": "2022-07-18T11:26:05.849346Z",
     "iopub.status.busy": "2022-07-18T11:26:05.848973Z",
     "iopub.status.idle": "2022-07-18T11:26:05.853276Z",
     "shell.execute_reply": "2022-07-18T11:26:05.852496Z"
    },
    "lines_to_next_cell": 0,
    "papermill": {
     "duration": 0.013403,
     "end_time": "2022-07-18T11:26:05.858372",
     "exception": false,
     "start_time": "2022-07-18T11:26:05.844969",
     "status": "completed"
    },
    "tags": []
   },
   "outputs": [],
   "source": [
    "# -----------------------------------------------------------------------"
   ]
  },
  {
   "cell_type": "markdown",
   "id": "e9509006",
   "metadata": {
    "papermill": {
     "duration": 0.006028,
     "end_time": "2022-07-18T11:26:05.868334",
     "exception": false,
     "start_time": "2022-07-18T11:26:05.862306",
     "status": "completed"
    },
    "tags": []
   },
   "source": [
    "---"
   ]
  },
  {
   "cell_type": "markdown",
   "id": "de66a2b9",
   "metadata": {
    "lines_to_next_cell": 2,
    "papermill": {
     "duration": 0.002987,
     "end_time": "2022-07-18T11:26:05.874463",
     "exception": false,
     "start_time": "2022-07-18T11:26:05.871476",
     "status": "completed"
    },
    "tags": []
   },
   "source": [
    "### Notebook code"
   ]
  },
  {
   "cell_type": "code",
   "execution_count": 5,
   "id": "9aa42753",
   "metadata": {
    "execution": {
     "iopub.execute_input": "2022-07-18T11:26:05.882440Z",
     "iopub.status.busy": "2022-07-18T11:26:05.881746Z",
     "iopub.status.idle": "2022-07-18T11:26:07.186445Z",
     "shell.execute_reply": "2022-07-18T11:26:07.185541Z"
    },
    "papermill": {
     "duration": 1.311538,
     "end_time": "2022-07-18T11:26:07.188979",
     "exception": false,
     "start_time": "2022-07-18T11:26:05.877441",
     "status": "completed"
    },
    "tags": []
   },
   "outputs": [],
   "source": [
    "#\n",
    "import pandas as pd\n",
    "import matplotlib.pyplot as plt\n",
    "\n",
    "#\n",
    "from pynb_dag_runner.tasks.task_opentelemetry_logging import PydarLogger"
   ]
  },
  {
   "cell_type": "code",
   "execution_count": 6,
   "id": "eaa02d5c",
   "metadata": {
    "execution": {
     "iopub.execute_input": "2022-07-18T11:26:07.198350Z",
     "iopub.status.busy": "2022-07-18T11:26:07.197966Z",
     "iopub.status.idle": "2022-07-18T11:26:07.368891Z",
     "shell.execute_reply": "2022-07-18T11:26:07.367968Z"
    },
    "papermill": {
     "duration": 0.178378,
     "end_time": "2022-07-18T11:26:07.371712",
     "exception": false,
     "start_time": "2022-07-18T11:26:07.193334",
     "status": "completed"
    },
    "tags": []
   },
   "outputs": [
    {
     "name": "stderr",
     "output_type": "stream",
     "text": [
      "2022-07-18 11:26:07,203\tINFO worker.py:842 -- Connecting to existing Ray cluster at address: 172.17.0.2:6379\n"
     ]
    }
   ],
   "source": [
    "logger = PydarLogger(P=P)"
   ]
  },
  {
   "cell_type": "code",
   "execution_count": 7,
   "id": "a00023c7",
   "metadata": {
    "execution": {
     "iopub.execute_input": "2022-07-18T11:26:07.380395Z",
     "iopub.status.busy": "2022-07-18T11:26:07.380115Z",
     "iopub.status.idle": "2022-07-18T11:26:07.384459Z",
     "shell.execute_reply": "2022-07-18T11:26:07.383659Z"
    },
    "papermill": {
     "duration": 0.011345,
     "end_time": "2022-07-18T11:26:07.386682",
     "exception": false,
     "start_time": "2022-07-18T11:26:07.375337",
     "status": "completed"
    },
    "tags": []
   },
   "outputs": [],
   "source": [
    "from pynb_dag_runner.tasks.task_opentelemetry_logging import (\n",
    "    PydarLogger,\n",
    "    get_logged_values,\n",
    ")\n",
    "from pynb_dag_runner.opentelemetry_helpers import _get_all_spans, Spans"
   ]
  },
  {
   "cell_type": "code",
   "execution_count": 8,
   "id": "4666d7ea",
   "metadata": {
    "execution": {
     "iopub.execute_input": "2022-07-18T11:26:07.399444Z",
     "iopub.status.busy": "2022-07-18T11:26:07.399133Z",
     "iopub.status.idle": "2022-07-18T11:26:07.407420Z",
     "shell.execute_reply": "2022-07-18T11:26:07.406507Z"
    },
    "papermill": {
     "duration": 0.01757,
     "end_time": "2022-07-18T11:26:07.409476",
     "exception": false,
     "start_time": "2022-07-18T11:26:07.391906",
     "status": "completed"
    },
    "tags": []
   },
   "outputs": [],
   "source": [
    "def get_model_benchmarks():\n",
    "    \"\"\"\n",
    "    Query the OpenTelemetry logs for *this pipeline run* and return\n",
    "    all key-values logged from all runs of the benchmark-model.py task\n",
    "\n",
    "    For testing a json file with OpenTelemetry spans (as an array)\n",
    "    can be used as follows:\n",
    "\n",
    "    - Create output directory `mkdir /tmp/spans`\n",
    "    - Run unit tests. This will create pipeline-outputs/opentelemetry-spans.json\n",
    "    - Convert this json-array into jsonl format as follows\n",
    "\n",
    "    jq -c '.[]' /pipeline-outputs/opentelemetry-spans.json > /tmp/spans/data.txt\n",
    "\n",
    "    \"\"\"\n",
    "    spans: Spans = Spans(_get_all_spans())\n",
    "    print(f\"Found {len(spans)} spans\")\n",
    "\n",
    "    benchmark_spans = (\n",
    "        spans\n",
    "        # -\n",
    "        .filter([\"name\"], \"execute-task\")\n",
    "        # -\n",
    "        .filter([\"attributes\", \"task.notebook\"], \"notebooks/benchmark-model.py\")\n",
    "    )\n",
    "\n",
    "    result = []\n",
    "    for s in benchmark_spans:\n",
    "        result.append(\n",
    "            {\n",
    "                \"span_id\": s[\"context\"][\"span_id\"],\n",
    "                \"nr_train_images\": s[\"attributes\"][\"task.nr_train_images\"],\n",
    "                \"data\": get_logged_values(spans.bound_under(s)),\n",
    "            }\n",
    "        )\n",
    "\n",
    "    return result\n",
    "\n",
    "\n",
    "def adjust_pandas(df):\n",
    "    def column_renamer(col_name: str) -> str:\n",
    "        return (\n",
    "            col_name\n",
    "            # -- 'data.roc_auc_per_digit.4' -> 'roc_auc.4'\n",
    "            .replace(\"data.roc_auc_per_digit\", \"roc_auc\")\n",
    "            # -- 'data.roc_auc_class_mean' -> 'roc_auc_mean'\n",
    "            .replace(\"data.roc_auc_class_mean\", \"roc_auc_mean\")\n",
    "        )\n",
    "\n",
    "    return df.rename(column_renamer, axis=\"columns\").sort_values(by=\"nr_train_images\")"
   ]
  },
  {
   "cell_type": "code",
   "execution_count": 9,
   "id": "bcb959fe",
   "metadata": {
    "execution": {
     "iopub.execute_input": "2022-07-18T11:26:07.418467Z",
     "iopub.status.busy": "2022-07-18T11:26:07.417620Z",
     "iopub.status.idle": "2022-07-18T11:26:07.459195Z",
     "shell.execute_reply": "2022-07-18T11:26:07.458347Z"
    },
    "papermill": {
     "duration": 0.04803,
     "end_time": "2022-07-18T11:26:07.461256",
     "exception": false,
     "start_time": "2022-07-18T11:26:07.413226",
     "status": "completed"
    },
    "tags": []
   },
   "outputs": [
    {
     "name": "stdout",
     "output_type": "stream",
     "text": [
      "Found 417 spans\n"
     ]
    }
   ],
   "source": [
    "df_data = adjust_pandas(pd.json_normalize(get_model_benchmarks()))"
   ]
  },
  {
   "cell_type": "code",
   "execution_count": 10,
   "id": "b372e49f",
   "metadata": {
    "execution": {
     "iopub.execute_input": "2022-07-18T11:26:07.470785Z",
     "iopub.status.busy": "2022-07-18T11:26:07.470429Z",
     "iopub.status.idle": "2022-07-18T11:26:07.503244Z",
     "shell.execute_reply": "2022-07-18T11:26:07.500250Z"
    },
    "papermill": {
     "duration": 0.040176,
     "end_time": "2022-07-18T11:26:07.505775",
     "exception": false,
     "start_time": "2022-07-18T11:26:07.465599",
     "status": "completed"
    },
    "tags": []
   },
   "outputs": [
    {
     "data": {
      "text/html": [
       "<div>\n",
       "<style scoped>\n",
       "    .dataframe tbody tr th:only-of-type {\n",
       "        vertical-align: middle;\n",
       "    }\n",
       "\n",
       "    .dataframe tbody tr th {\n",
       "        vertical-align: top;\n",
       "    }\n",
       "\n",
       "    .dataframe thead th {\n",
       "        text-align: right;\n",
       "    }\n",
       "</style>\n",
       "<table border=\"1\" class=\"dataframe\">\n",
       "  <thead>\n",
       "    <tr style=\"text-align: right;\">\n",
       "      <th></th>\n",
       "      <th>span_id</th>\n",
       "      <th>nr_train_images</th>\n",
       "      <th>roc_auc_mean</th>\n",
       "      <th>roc_auc.0</th>\n",
       "      <th>roc_auc.1</th>\n",
       "      <th>roc_auc.2</th>\n",
       "      <th>roc_auc.3</th>\n",
       "      <th>roc_auc.4</th>\n",
       "      <th>roc_auc.5</th>\n",
       "      <th>roc_auc.6</th>\n",
       "      <th>roc_auc.7</th>\n",
       "      <th>roc_auc.8</th>\n",
       "      <th>roc_auc.9</th>\n",
       "    </tr>\n",
       "  </thead>\n",
       "  <tbody>\n",
       "    <tr>\n",
       "      <th>3</th>\n",
       "      <td>0xd88a7bc3d932db54</td>\n",
       "      <td>600</td>\n",
       "      <td>0.9990</td>\n",
       "      <td>1.0</td>\n",
       "      <td>0.9991</td>\n",
       "      <td>1.0</td>\n",
       "      <td>0.9998</td>\n",
       "      <td>0.9992</td>\n",
       "      <td>0.9990</td>\n",
       "      <td>1.0000</td>\n",
       "      <td>0.9998</td>\n",
       "      <td>0.9946</td>\n",
       "      <td>0.9989</td>\n",
       "    </tr>\n",
       "    <tr>\n",
       "      <th>0</th>\n",
       "      <td>0xb6721d94fbd616e5</td>\n",
       "      <td>800</td>\n",
       "      <td>0.9989</td>\n",
       "      <td>1.0</td>\n",
       "      <td>0.9988</td>\n",
       "      <td>1.0</td>\n",
       "      <td>0.9998</td>\n",
       "      <td>0.9995</td>\n",
       "      <td>0.9992</td>\n",
       "      <td>1.0000</td>\n",
       "      <td>0.9999</td>\n",
       "      <td>0.9928</td>\n",
       "      <td>0.9994</td>\n",
       "    </tr>\n",
       "    <tr>\n",
       "      <th>2</th>\n",
       "      <td>0xbd7c1b293085ea48</td>\n",
       "      <td>1000</td>\n",
       "      <td>0.9992</td>\n",
       "      <td>1.0</td>\n",
       "      <td>0.9990</td>\n",
       "      <td>1.0</td>\n",
       "      <td>0.9999</td>\n",
       "      <td>0.9997</td>\n",
       "      <td>0.9994</td>\n",
       "      <td>0.9999</td>\n",
       "      <td>0.9998</td>\n",
       "      <td>0.9950</td>\n",
       "      <td>0.9996</td>\n",
       "    </tr>\n",
       "    <tr>\n",
       "      <th>1</th>\n",
       "      <td>0x2bf8011675ceb635</td>\n",
       "      <td>1200</td>\n",
       "      <td>0.9993</td>\n",
       "      <td>1.0</td>\n",
       "      <td>0.9990</td>\n",
       "      <td>1.0</td>\n",
       "      <td>0.9999</td>\n",
       "      <td>0.9998</td>\n",
       "      <td>0.9997</td>\n",
       "      <td>0.9999</td>\n",
       "      <td>0.9998</td>\n",
       "      <td>0.9957</td>\n",
       "      <td>0.9998</td>\n",
       "    </tr>\n",
       "  </tbody>\n",
       "</table>\n",
       "</div>"
      ],
      "text/plain": [
       "              span_id  nr_train_images  roc_auc_mean  roc_auc.0  roc_auc.1  \\\n",
       "3  0xd88a7bc3d932db54              600        0.9990        1.0     0.9991   \n",
       "0  0xb6721d94fbd616e5              800        0.9989        1.0     0.9988   \n",
       "2  0xbd7c1b293085ea48             1000        0.9992        1.0     0.9990   \n",
       "1  0x2bf8011675ceb635             1200        0.9993        1.0     0.9990   \n",
       "\n",
       "   roc_auc.2  roc_auc.3  roc_auc.4  roc_auc.5  roc_auc.6  roc_auc.7  \\\n",
       "3        1.0     0.9998     0.9992     0.9990     1.0000     0.9998   \n",
       "0        1.0     0.9998     0.9995     0.9992     1.0000     0.9999   \n",
       "2        1.0     0.9999     0.9997     0.9994     0.9999     0.9998   \n",
       "1        1.0     0.9999     0.9998     0.9997     0.9999     0.9998   \n",
       "\n",
       "   roc_auc.8  roc_auc.9  \n",
       "3     0.9946     0.9989  \n",
       "0     0.9928     0.9994  \n",
       "2     0.9950     0.9996  \n",
       "1     0.9957     0.9998  "
      ]
     },
     "execution_count": 10,
     "metadata": {},
     "output_type": "execute_result"
    }
   ],
   "source": [
    "df_data.round(4)"
   ]
  },
  {
   "cell_type": "code",
   "execution_count": 11,
   "id": "13382ecd",
   "metadata": {
    "execution": {
     "iopub.execute_input": "2022-07-18T11:26:07.515110Z",
     "iopub.status.busy": "2022-07-18T11:26:07.514802Z",
     "iopub.status.idle": "2022-07-18T11:26:07.720290Z",
     "shell.execute_reply": "2022-07-18T11:26:07.719385Z"
    },
    "papermill": {
     "duration": 0.212335,
     "end_time": "2022-07-18T11:26:07.722170",
     "exception": false,
     "start_time": "2022-07-18T11:26:07.509835",
     "status": "completed"
    },
    "tags": []
   },
   "outputs": [
    {
     "data": {
      "image/png": "[encoded data removed]",
      "text/plain": [
       "<Figure size 1152x288 with 1 Axes>"
      ]
     },
     "metadata": {
      "needs_background": "light"
     },
     "output_type": "display_data"
    }
   ],
   "source": [
    "def plot_classifier_performance_summary(df_data):\n",
    "    fig, ax = plt.subplots(nrows=1, ncols=1, figsize=(16, 4), sharex=True)\n",
    "\n",
    "    #\n",
    "    ax.plot(\n",
    "        df_data[\"nr_train_images\"], df_data[\"roc_auc_mean\"], marker=\"o\", linestyle=\"--\"\n",
    "    )\n",
    "    ax.set_title(\n",
    "        f\"ROC AUC digit classifier performance on evaluation digits\", fontsize=17\n",
    "    )\n",
    "    ax.set_xlabel(\"Total number of digits in training set\", fontsize=14)\n",
    "    ax.set_ylabel(\"Mean ROC AUC\", fontsize=14)\n",
    "\n",
    "    fig.tight_layout()\n",
    "    fig.show()\n",
    "\n",
    "    return fig\n",
    "\n",
    "\n",
    "fig = plot_classifier_performance_summary(df_data)"
   ]
  },
  {
   "cell_type": "code",
   "execution_count": 12,
   "id": "eed00bf6",
   "metadata": {
    "execution": {
     "iopub.execute_input": "2022-07-18T11:26:07.732437Z",
     "iopub.status.busy": "2022-07-18T11:26:07.731966Z",
     "iopub.status.idle": "2022-07-18T11:26:07.801898Z",
     "shell.execute_reply": "2022-07-18T11:26:07.801028Z"
    },
    "papermill": {
     "duration": 0.07749,
     "end_time": "2022-07-18T11:26:07.804049",
     "exception": false,
     "start_time": "2022-07-18T11:26:07.726559",
     "status": "completed"
    },
    "tags": []
   },
   "outputs": [],
   "source": [
    "logger.log_figure(\"auc-roc-model-performances.png\", fig)"
   ]
  },
  {
   "cell_type": "code",
   "execution_count": 13,
   "id": "466e1593",
   "metadata": {
    "execution": {
     "iopub.execute_input": "2022-07-18T11:26:07.820457Z",
     "iopub.status.busy": "2022-07-18T11:26:07.820184Z",
     "iopub.status.idle": "2022-07-18T11:26:07.824125Z",
     "shell.execute_reply": "2022-07-18T11:26:07.822729Z"
    },
    "papermill": {
     "duration": 0.017918,
     "end_time": "2022-07-18T11:26:07.826809",
     "exception": false,
     "start_time": "2022-07-18T11:26:07.808891",
     "status": "completed"
    },
    "tags": []
   },
   "outputs": [],
   "source": [
    "###"
   ]
  },
  {
   "cell_type": "code",
   "execution_count": null,
   "id": "552ffa1c",
   "metadata": {
    "papermill": {
     "duration": 0.004617,
     "end_time": "2022-07-18T11:26:07.836039",
     "exception": false,
     "start_time": "2022-07-18T11:26:07.831422",
     "status": "completed"
    },
    "tags": []
   },
   "outputs": [],
   "source": []
  }
 ],
 "metadata": {
  "jupytext": {
   "cell_metadata_filter": "tags,-all",
   "main_language": "python",
   "notebook_metadata_filter": "-all"
  },
  "language_info": {
   "codemirror_mode": {
    "name": "ipython",
    "version": 3
   },
   "file_extension": ".py",
   "mimetype": "text/x-python",
   "name": "python",
   "nbconvert_exporter": "python",
   "pygments_lexer": "ipython3",
   "version": "3.8.10"
  },
  "papermill": {
   "default_parameters": {},
   "duration": 4.477065,
   "end_time": "2022-07-18T11:26:08.961375",
   "environment_variables": {},
   "exception": null,
   "input_path": "/home/host_user/workspace/mnist-demo-pipeline/mnist-demo-pipeline/notebooks/temp-notebook-tkwsv5iv.ipynb",
   "output_path": "notebooks/summary.ipynb",
   "parameters": {
    "P": {
     "_opentelemetry_traceparent": "00-b0e446e89b17bdeb058dbb10a0b42255-92b814fb339cedc9-01",
     "pipeline.data_lake_root": "/pipeline-outputs/data-lake",
     "pipeline.github.actor": "matiasdahl",
     "pipeline.github.base_ref": "development",
     "pipeline.github.event_name": "pull_request",
     "pipeline.github.head_ref": "graph-parsing",
     "pipeline.github.job": "run-tests-pipeline-and-persist-pipeline-outputs",
     "pipeline.github.ref": "refs/pull/57/merge",
     "pipeline.github.ref_name": "57/merge",
     "pipeline.github.ref_type": "branch",
     "pipeline.github.repository": "pynb-dag-runner/mnist-digits-demo-pipeline",
     "pipeline.github.run_id": "2690097514",
     "pipeline.github.runner_name": "GitHub Actions 2",
     "pipeline.github.sha": "8283f417a1f6964b1fa1c6cda8e5c5ec877446d4",
     "pipeline.github.workflow": "Run automated tests, pipeline and deploy results to static reporting site",
     "pipeline.pipeline_run_id": "711628db-7a55-4b5a-89fb-b41dd311f49f",
     "pipeline.run_environment": "ci",
     "run.retry_nr": "0",
     "task.max_nr_retries": "1",
     "task.notebook": "notebooks/summary.py",
     "task.num_cpus": 1,
     "task.timeout_s": "None"
    }
   },
   "start_time": "2022-07-18T11:26:04.484310",
   "version": "2.3.3"
  }
 },
 "nbformat": 4,
 "nbformat_minor": 5
}