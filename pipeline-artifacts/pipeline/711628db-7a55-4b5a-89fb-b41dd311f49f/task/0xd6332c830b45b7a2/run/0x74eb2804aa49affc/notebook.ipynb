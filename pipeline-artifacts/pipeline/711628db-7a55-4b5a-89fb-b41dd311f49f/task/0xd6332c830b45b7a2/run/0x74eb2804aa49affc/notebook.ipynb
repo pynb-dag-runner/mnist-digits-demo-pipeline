{
 "cells": [
  {
   "cell_type": "markdown",
   "id": "8d1de6f6",
   "metadata": {
    "papermill": {
     "duration": 0.005089,
     "end_time": "2022-07-18T11:25:22.668517",
     "exception": false,
     "start_time": "2022-07-18T11:25:22.663428",
     "status": "completed"
    },
    "tags": []
   },
   "source": [
    "# Train model\n",
    "\n",
    "The purpose of this notebook is:\n",
    "\n",
    "- Load all training data (images and labels).\n",
    "- Limit number of train images to `task.nr_train_images` (value provided as run parameter).\n",
    "- Train a support vector machine model using sklearn.\n",
    "- Persist the trained model using the ONNX format."
   ]
  },
  {
   "cell_type": "markdown",
   "id": "8e3371fb",
   "metadata": {
    "papermill": {
     "duration": 0.003322,
     "end_time": "2022-07-18T11:25:22.676225",
     "exception": false,
     "start_time": "2022-07-18T11:25:22.672903",
     "status": "completed"
    },
    "tags": []
   },
   "source": [
    "### Determine run parameters"
   ]
  },
  {
   "cell_type": "code",
   "execution_count": 1,
   "id": "e9ef0371",
   "metadata": {
    "execution": {
     "iopub.execute_input": "2022-07-18T11:25:22.686162Z",
     "iopub.status.busy": "2022-07-18T11:25:22.685310Z",
     "iopub.status.idle": "2022-07-18T11:25:22.695977Z",
     "shell.execute_reply": "2022-07-18T11:25:22.695250Z"
    },
    "lines_to_next_cell": 0,
    "papermill": {
     "duration": 0.01836,
     "end_time": "2022-07-18T11:25:22.698892",
     "exception": false,
     "start_time": "2022-07-18T11:25:22.680532",
     "status": "completed"
    },
    "tags": []
   },
   "outputs": [],
   "source": [
    "# ----------------- Parameters for interactive development --------------\n",
    "P = {\n",
    "    \"pipeline.data_lake_root\": \"/pipeline-outputs/data-lake\",\n",
    "    \"task.nr_train_images\": 600,\n",
    "}"
   ]
  },
  {
   "cell_type": "code",
   "execution_count": 2,
   "id": "2d9fee19",
   "metadata": {
    "execution": {
     "iopub.execute_input": "2022-07-18T11:25:22.710003Z",
     "iopub.status.busy": "2022-07-18T11:25:22.709662Z",
     "iopub.status.idle": "2022-07-18T11:25:22.714478Z",
     "shell.execute_reply": "2022-07-18T11:25:22.713582Z"
    },
    "lines_to_next_cell": 0,
    "papermill": {
     "duration": 0.01394,
     "end_time": "2022-07-18T11:25:22.718517",
     "exception": false,
     "start_time": "2022-07-18T11:25:22.704577",
     "status": "completed"
    },
    "tags": [
     "parameters"
    ]
   },
   "outputs": [],
   "source": [
    "# - During automated runs parameters will be injected in the below cell -"
   ]
  },
  {
   "cell_type": "code",
   "execution_count": 3,
   "id": "11be7de6",
   "metadata": {
    "execution": {
     "iopub.execute_input": "2022-07-18T11:25:22.729316Z",
     "iopub.status.busy": "2022-07-18T11:25:22.728995Z",
     "iopub.status.idle": "2022-07-18T11:25:22.734842Z",
     "shell.execute_reply": "2022-07-18T11:25:22.733860Z"
    },
    "papermill": {
     "duration": 0.013853,
     "end_time": "2022-07-18T11:25:22.736999",
     "exception": false,
     "start_time": "2022-07-18T11:25:22.723146",
     "status": "completed"
    },
    "tags": [
     "injected-parameters"
    ]
   },
   "outputs": [],
   "source": [
    "# Parameters\n",
    "P = {\n",
    "    \"pipeline.data_lake_root\": \"/pipeline-outputs/data-lake\",\n",
    "    \"pipeline.run_environment\": \"ci\",\n",
    "    \"pipeline.pipeline_run_id\": \"711628db-7a55-4b5a-89fb-b41dd311f49f\",\n",
    "    \"pipeline.github.repository\": \"pynb-dag-runner/mnist-digits-demo-pipeline\",\n",
    "    \"pipeline.github.workflow\": \"Run automated tests, pipeline and deploy results to static reporting site\",\n",
    "    \"pipeline.github.runner_name\": \"GitHub Actions 2\",\n",
    "    \"pipeline.github.run_id\": \"2690097514\",\n",
    "    \"pipeline.github.actor\": \"matiasdahl\",\n",
    "    \"pipeline.github.job\": \"run-tests-pipeline-and-persist-pipeline-outputs\",\n",
    "    \"pipeline.github.base_ref\": \"development\",\n",
    "    \"pipeline.github.head_ref\": \"graph-parsing\",\n",
    "    \"pipeline.github.sha\": \"8283f417a1f6964b1fa1c6cda8e5c5ec877446d4\",\n",
    "    \"pipeline.github.ref\": \"refs/pull/57/merge\",\n",
    "    \"pipeline.github.ref_type\": \"branch\",\n",
    "    \"pipeline.github.ref_name\": \"57/merge\",\n",
    "    \"pipeline.github.event_name\": \"pull_request\",\n",
    "    \"task.nr_train_images\": 600,\n",
    "    \"task.notebook\": \"notebooks/train-model.py\",\n",
    "    \"task.max_nr_retries\": \"1\",\n",
    "    \"run.retry_nr\": \"0\",\n",
    "    \"task.timeout_s\": \"None\",\n",
    "    \"task.num_cpus\": 1,\n",
    "    \"_opentelemetry_traceparent\": \"00-b0e446e89b17bdeb058dbb10a0b42255-ed2bc50ced6764d8-01\",\n",
    "}\n"
   ]
  },
  {
   "cell_type": "code",
   "execution_count": 4,
   "id": "dfd8bcf9",
   "metadata": {
    "execution": {
     "iopub.execute_input": "2022-07-18T11:25:22.745754Z",
     "iopub.status.busy": "2022-07-18T11:25:22.745332Z",
     "iopub.status.idle": "2022-07-18T11:25:22.754496Z",
     "shell.execute_reply": "2022-07-18T11:25:22.753607Z"
    },
    "lines_to_next_cell": 0,
    "papermill": {
     "duration": 0.015597,
     "end_time": "2022-07-18T11:25:22.756486",
     "exception": false,
     "start_time": "2022-07-18T11:25:22.740889",
     "status": "completed"
    },
    "tags": []
   },
   "outputs": [],
   "source": [
    "# -----------------------------------------------------------------------"
   ]
  },
  {
   "cell_type": "markdown",
   "id": "fdab805e",
   "metadata": {
    "papermill": {
     "duration": 0.003639,
     "end_time": "2022-07-18T11:25:22.763560",
     "exception": false,
     "start_time": "2022-07-18T11:25:22.759921",
     "status": "completed"
    },
    "tags": []
   },
   "source": [
    "---"
   ]
  },
  {
   "cell_type": "markdown",
   "id": "5645ed85",
   "metadata": {
    "lines_to_next_cell": 2,
    "papermill": {
     "duration": 0.00408,
     "end_time": "2022-07-18T11:25:22.770904",
     "exception": false,
     "start_time": "2022-07-18T11:25:22.766824",
     "status": "completed"
    },
    "tags": []
   },
   "source": [
    "### Notebook code"
   ]
  },
  {
   "cell_type": "code",
   "execution_count": 5,
   "id": "dc7accd4",
   "metadata": {
    "execution": {
     "iopub.execute_input": "2022-07-18T11:25:22.779164Z",
     "iopub.status.busy": "2022-07-18T11:25:22.778833Z",
     "iopub.status.idle": "2022-07-18T11:25:23.361332Z",
     "shell.execute_reply": "2022-07-18T11:25:23.360409Z"
    },
    "papermill": {
     "duration": 0.58916,
     "end_time": "2022-07-18T11:25:23.363614",
     "exception": false,
     "start_time": "2022-07-18T11:25:22.774454",
     "status": "completed"
    },
    "tags": []
   },
   "outputs": [
    {
     "name": "stderr",
     "output_type": "stream",
     "text": [
      "2022-07-18 11:25:23,145\tINFO worker.py:842 -- Connecting to existing Ray cluster at address: 172.17.0.2:6379\n"
     ]
    }
   ],
   "source": [
    "from pynb_dag_runner.tasks.task_opentelemetry_logging import PydarLogger\n",
    "\n",
    "logger = PydarLogger(P)"
   ]
  },
  {
   "cell_type": "markdown",
   "id": "8dc4f83c",
   "metadata": {
    "papermill": {
     "duration": 0.004265,
     "end_time": "2022-07-18T11:25:23.375194",
     "exception": false,
     "start_time": "2022-07-18T11:25:23.370929",
     "status": "completed"
    },
    "tags": []
   },
   "source": [
    "## Load and limit train data"
   ]
  },
  {
   "cell_type": "code",
   "execution_count": 6,
   "id": "6a53faec",
   "metadata": {
    "execution": {
     "iopub.execute_input": "2022-07-18T11:25:23.385753Z",
     "iopub.status.busy": "2022-07-18T11:25:23.385279Z",
     "iopub.status.idle": "2022-07-18T11:25:23.879898Z",
     "shell.execute_reply": "2022-07-18T11:25:23.879116Z"
    },
    "papermill": {
     "duration": 0.50236,
     "end_time": "2022-07-18T11:25:23.882315",
     "exception": false,
     "start_time": "2022-07-18T11:25:23.379955",
     "status": "completed"
    },
    "tags": []
   },
   "outputs": [],
   "source": [
    "def load_and_limit_train_data(P):\n",
    "    from common.io import datalake_root, read_numpy\n",
    "    from sklearn.model_selection import train_test_split\n",
    "\n",
    "    X_train_all = read_numpy(datalake_root(P) / \"train-data\" / \"digits.numpy\")\n",
    "    y_train_all = read_numpy(datalake_root(P) / \"train-data\" / \"labels.numpy\")\n",
    "\n",
    "    assert isinstance(P[\"task.nr_train_images\"], int)\n",
    "\n",
    "    # Note: train_test_split will fail if split is 0 or 100%.\n",
    "    assert 0 < P[\"task.nr_train_images\"] < len(y_train_all)\n",
    "\n",
    "    X_train, _, y_train, _ = train_test_split(\n",
    "        X_train_all,\n",
    "        y_train_all,\n",
    "        train_size=P[\"task.nr_train_images\"],\n",
    "        test_size=None,\n",
    "        stratify=y_train_all,\n",
    "        shuffle=True,\n",
    "        random_state=123,\n",
    "    )\n",
    "\n",
    "    assert X_train.shape == (len(y_train), 8 * 8)\n",
    "    return X_train, y_train\n",
    "\n",
    "\n",
    "X_train, y_train = load_and_limit_train_data(P)"
   ]
  },
  {
   "cell_type": "markdown",
   "id": "8408793b",
   "metadata": {
    "papermill": {
     "duration": 0.004576,
     "end_time": "2022-07-18T11:25:23.894608",
     "exception": false,
     "start_time": "2022-07-18T11:25:23.890032",
     "status": "completed"
    },
    "tags": []
   },
   "source": [
    "## Train support vector classifier model\n",
    "\n",
    "Below we assume that the hyperparameter $C$ is known.\n",
    "\n",
    "However, this should ideally be found by a hyperparameter search. That could be\n",
    "done in parallel on the Ray cluster, but this needs some more work. Ie., to use\n",
    "multiple cores in the notebook, those cores should be reserved when starting the\n",
    "notebook task (TODO).\n",
    "\n",
    "- https://docs.ray.io/en/latest/tune/key-concepts.html\n",
    "\n",
    "Note: cv-scores would need to be computed here, since they depend on the train data.\n",
    "After this notebook only the onnx-model is available."
   ]
  },
  {
   "cell_type": "code",
   "execution_count": 7,
   "id": "346783ee",
   "metadata": {
    "execution": {
     "iopub.execute_input": "2022-07-18T11:25:23.904817Z",
     "iopub.status.busy": "2022-07-18T11:25:23.904464Z",
     "iopub.status.idle": "2022-07-18T11:25:23.931282Z",
     "shell.execute_reply": "2022-07-18T11:25:23.930143Z"
    },
    "papermill": {
     "duration": 0.034908,
     "end_time": "2022-07-18T11:25:23.933917",
     "exception": false,
     "start_time": "2022-07-18T11:25:23.899009",
     "status": "completed"
    },
    "tags": []
   },
   "outputs": [],
   "source": [
    "from sklearn.svm import SVC"
   ]
  },
  {
   "cell_type": "code",
   "execution_count": 8,
   "id": "6ce04d26",
   "metadata": {
    "execution": {
     "iopub.execute_input": "2022-07-18T11:25:23.944399Z",
     "iopub.status.busy": "2022-07-18T11:25:23.943837Z",
     "iopub.status.idle": "2022-07-18T11:25:24.048895Z",
     "shell.execute_reply": "2022-07-18T11:25:24.048116Z"
    },
    "papermill": {
     "duration": 0.112795,
     "end_time": "2022-07-18T11:25:24.050959",
     "exception": false,
     "start_time": "2022-07-18T11:25:23.938164",
     "status": "completed"
    },
    "tags": []
   },
   "outputs": [
    {
     "data": {
      "text/plain": [
       "SVC(C=0.001, kernel='linear', probability=True)"
      ]
     },
     "execution_count": 8,
     "metadata": {},
     "output_type": "execute_result"
    }
   ],
   "source": [
    "model = SVC(C=0.001, kernel=\"linear\", probability=True)\n",
    "\n",
    "model.fit(X_train, y_train)"
   ]
  },
  {
   "cell_type": "markdown",
   "id": "8d5eebab",
   "metadata": {
    "papermill": {
     "duration": 0.004629,
     "end_time": "2022-07-18T11:25:24.065870",
     "exception": false,
     "start_time": "2022-07-18T11:25:24.061241",
     "status": "completed"
    },
    "tags": []
   },
   "source": [
    "### Q: Can the labels returned by `predict(..)` be computed from probabilities returned by the `predict_prob`-method?"
   ]
  },
  {
   "cell_type": "code",
   "execution_count": 9,
   "id": "c90b8b43",
   "metadata": {
    "execution": {
     "iopub.execute_input": "2022-07-18T11:25:24.077030Z",
     "iopub.status.busy": "2022-07-18T11:25:24.076570Z",
     "iopub.status.idle": "2022-07-18T11:25:24.124216Z",
     "shell.execute_reply": "2022-07-18T11:25:24.123232Z"
    },
    "papermill": {
     "duration": 0.056552,
     "end_time": "2022-07-18T11:25:24.126674",
     "exception": false,
     "start_time": "2022-07-18T11:25:24.070122",
     "status": "completed"
    },
    "tags": []
   },
   "outputs": [
    {
     "name": "stdout",
     "output_type": "stream",
     "text": [
      " - Logging nr_max_prob_neq_label (int) : 2\n"
     ]
    }
   ],
   "source": [
    "import numpy as np\n",
    "\n",
    "y_train_labels = model.predict(X_train)\n",
    "y_train_probabilities = model.predict_proba(X_train)\n",
    "assert y_train_probabilities.shape == (len(y_train), 10)\n",
    "\n",
    "y_train_max_prob_labels = np.argmax(y_train_probabilities, axis=1)\n",
    "assert y_train_labels.shape == y_train_max_prob_labels.shape == y_train.shape\n",
    "\n",
    "# If the predicted labels would coincide with the labels that have\n",
    "# maximum probability, the below number would be zero\n",
    "logger.log_int(\n",
    "    \"nr_max_prob_neq_label\", int(sum(y_train_max_prob_labels != y_train_labels))\n",
    ")"
   ]
  },
  {
   "cell_type": "markdown",
   "id": "3e2cfce5",
   "metadata": {
    "papermill": {
     "duration": 0.004537,
     "end_time": "2022-07-18T11:25:24.136143",
     "exception": false,
     "start_time": "2022-07-18T11:25:24.131606",
     "status": "completed"
    },
    "tags": []
   },
   "source": [
    "The explanation is (likely) explained in the SVC source, see\n",
    "[here](https://github.com/scikit-learn/scikit-learn/blob/main/sklearn/svm/_base.py).\n",
    "Namely, the outputs from `predict(..)` and `predict_proba(..)` may not in some\n",
    "cases be compatible since the latter is computed using cross-validation while\n",
    "the former is not. Thus, the above number need not be zero."
   ]
  },
  {
   "cell_type": "markdown",
   "id": "58b1548e",
   "metadata": {
    "papermill": {
     "duration": 0.004378,
     "end_time": "2022-07-18T11:25:24.144724",
     "exception": false,
     "start_time": "2022-07-18T11:25:24.140346",
     "status": "completed"
    },
    "tags": []
   },
   "source": [
    "## Persist model"
   ]
  },
  {
   "cell_type": "code",
   "execution_count": 10,
   "id": "06e86406",
   "metadata": {
    "execution": {
     "iopub.execute_input": "2022-07-18T11:25:24.155483Z",
     "iopub.status.busy": "2022-07-18T11:25:24.154893Z",
     "iopub.status.idle": "2022-07-18T11:25:25.236824Z",
     "shell.execute_reply": "2022-07-18T11:25:25.235838Z"
    },
    "papermill": {
     "duration": 1.089887,
     "end_time": "2022-07-18T11:25:25.239080",
     "exception": false,
     "start_time": "2022-07-18T11:25:24.149193",
     "status": "completed"
    },
    "tags": []
   },
   "outputs": [],
   "source": [
    "from skl2onnx import convert_sklearn\n",
    "from skl2onnx.common.data_types import FloatTensorType\n",
    "\n",
    "#\n",
    "from common.io import datalake_root, write_onnx"
   ]
  },
  {
   "cell_type": "code",
   "execution_count": 11,
   "id": "cce1dd6d",
   "metadata": {
    "execution": {
     "iopub.execute_input": "2022-07-18T11:25:25.250727Z",
     "iopub.status.busy": "2022-07-18T11:25:25.250186Z",
     "iopub.status.idle": "2022-07-18T11:25:25.299983Z",
     "shell.execute_reply": "2022-07-18T11:25:25.298920Z"
    },
    "papermill": {
     "duration": 0.057973,
     "end_time": "2022-07-18T11:25:25.302215",
     "exception": false,
     "start_time": "2022-07-18T11:25:25.244242",
     "status": "completed"
    },
    "tags": []
   },
   "outputs": [],
   "source": [
    "# convert sklearn model into onnx and persist to data lake\n",
    "\n",
    "model_onnx = convert_sklearn(\n",
    "    model, initial_types=[(\"float_input_8x8_image\", FloatTensorType([None, 8 * 8]))]\n",
    ")\n",
    "write_onnx(\n",
    "    datalake_root(P)\n",
    "    / \"models\"\n",
    "    / f\"nr_train_images={P['task.nr_train_images']}\"\n",
    "    / \"model.onnx\",\n",
    "    model_onnx,\n",
    ")"
   ]
  },
  {
   "cell_type": "code",
   "execution_count": null,
   "id": "7386d588",
   "metadata": {
    "papermill": {
     "duration": 0.004937,
     "end_time": "2022-07-18T11:25:25.311849",
     "exception": false,
     "start_time": "2022-07-18T11:25:25.306912",
     "status": "completed"
    },
    "tags": []
   },
   "outputs": [],
   "source": []
  }
 ],
 "metadata": {
  "jupytext": {
   "cell_metadata_filter": "tags,-all",
   "main_language": "python",
   "notebook_metadata_filter": "-all"
  },
  "language_info": {
   "codemirror_mode": {
    "name": "ipython",
    "version": 3
   },
   "file_extension": ".py",
   "mimetype": "text/x-python",
   "name": "python",
   "nbconvert_exporter": "python",
   "pygments_lexer": "ipython3",
   "version": "3.8.10"
  },
  "papermill": {
   "default_parameters": {},
   "duration": 5.341446,
   "end_time": "2022-07-18T11:25:26.540660",
   "environment_variables": {},
   "exception": null,
   "input_path": "/home/host_user/workspace/mnist-demo-pipeline/mnist-demo-pipeline/notebooks/temp-notebook-i4ma56sk.ipynb",
   "output_path": "notebooks/train-model.ipynb",
   "parameters": {
    "P": {
     "_opentelemetry_traceparent": "00-b0e446e89b17bdeb058dbb10a0b42255-ed2bc50ced6764d8-01",
     "pipeline.data_lake_root": "/pipeline-outputs/data-lake",
     "pipeline.github.actor": "matiasdahl",
     "pipeline.github.base_ref": "development",
     "pipeline.github.event_name": "pull_request",
     "pipeline.github.head_ref": "graph-parsing",
     "pipeline.github.job": "run-tests-pipeline-and-persist-pipeline-outputs",
     "pipeline.github.ref": "refs/pull/57/merge",
     "pipeline.github.ref_name": "57/merge",
     "pipeline.github.ref_type": "branch",
     "pipeline.github.repository": "pynb-dag-runner/mnist-digits-demo-pipeline",
     "pipeline.github.run_id": "2690097514",
     "pipeline.github.runner_name": "GitHub Actions 2",
     "pipeline.github.sha": "8283f417a1f6964b1fa1c6cda8e5c5ec877446d4",
     "pipeline.github.workflow": "Run automated tests, pipeline and deploy results to static reporting site",
     "pipeline.pipeline_run_id": "711628db-7a55-4b5a-89fb-b41dd311f49f",
     "pipeline.run_environment": "ci",
     "run.retry_nr": "0",
     "task.max_nr_retries": "1",
     "task.notebook": "notebooks/train-model.py",
     "task.nr_train_images": 600,
     "task.num_cpus": 1,
     "task.timeout_s": "None"
    }
   },
   "start_time": "2022-07-18T11:25:21.199214",
   "version": "2.3.3"
  }
 },
 "nbformat": 4,
 "nbformat_minor": 5
}