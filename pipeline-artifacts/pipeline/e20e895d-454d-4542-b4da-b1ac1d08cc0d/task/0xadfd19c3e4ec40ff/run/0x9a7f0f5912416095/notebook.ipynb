{
 "cells": [
  {
   "cell_type": "markdown",
   "id": "450460ac",
   "metadata": {
    "papermill": {
     "duration": 0.003614,
     "end_time": "2022-07-07T14:36:29.042068",
     "exception": false,
     "start_time": "2022-07-07T14:36:29.038454",
     "status": "completed"
    },
    "tags": []
   },
   "source": [
    "# Summarize model performances\n",
    "\n",
    "This notebooks plots the performances (using averaged ROC AUC scores) for models\n",
    "trained with different training sets."
   ]
  },
  {
   "cell_type": "markdown",
   "id": "fcfd8676",
   "metadata": {
    "papermill": {
     "duration": 0.002868,
     "end_time": "2022-07-07T14:36:29.047831",
     "exception": false,
     "start_time": "2022-07-07T14:36:29.044963",
     "status": "completed"
    },
    "tags": []
   },
   "source": [
    "### Determine run parameters"
   ]
  },
  {
   "cell_type": "code",
   "execution_count": 1,
   "id": "9296fc5e",
   "metadata": {
    "execution": {
     "iopub.execute_input": "2022-07-07T14:36:29.054528Z",
     "iopub.status.busy": "2022-07-07T14:36:29.053975Z",
     "iopub.status.idle": "2022-07-07T14:36:29.061686Z",
     "shell.execute_reply": "2022-07-07T14:36:29.061076Z"
    },
    "lines_to_next_cell": 0,
    "papermill": {
     "duration": 0.012962,
     "end_time": "2022-07-07T14:36:29.063176",
     "exception": false,
     "start_time": "2022-07-07T14:36:29.050214",
     "status": "completed"
    },
    "tags": []
   },
   "outputs": [],
   "source": [
    "# ----------------- Parameters for interactive development --------------\n",
    "P = {\n",
    "    \"pipeline.run_environment\": \"dev\",\n",
    "}"
   ]
  },
  {
   "cell_type": "code",
   "execution_count": 2,
   "id": "ff8df164",
   "metadata": {
    "execution": {
     "iopub.execute_input": "2022-07-07T14:36:29.069802Z",
     "iopub.status.busy": "2022-07-07T14:36:29.069391Z",
     "iopub.status.idle": "2022-07-07T14:36:29.072357Z",
     "shell.execute_reply": "2022-07-07T14:36:29.071812Z"
    },
    "lines_to_next_cell": 0,
    "papermill": {
     "duration": 0.00793,
     "end_time": "2022-07-07T14:36:29.073723",
     "exception": false,
     "start_time": "2022-07-07T14:36:29.065793",
     "status": "completed"
    },
    "tags": [
     "parameters"
    ]
   },
   "outputs": [],
   "source": [
    "# - During automated runs parameters will be injected in the below cell -"
   ]
  },
  {
   "cell_type": "code",
   "execution_count": 3,
   "id": "b63cd7b4",
   "metadata": {
    "execution": {
     "iopub.execute_input": "2022-07-07T14:36:29.079958Z",
     "iopub.status.busy": "2022-07-07T14:36:29.079566Z",
     "iopub.status.idle": "2022-07-07T14:36:29.083807Z",
     "shell.execute_reply": "2022-07-07T14:36:29.083250Z"
    },
    "papermill": {
     "duration": 0.009064,
     "end_time": "2022-07-07T14:36:29.085142",
     "exception": false,
     "start_time": "2022-07-07T14:36:29.076078",
     "status": "completed"
    },
    "tags": [
     "injected-parameters"
    ]
   },
   "outputs": [],
   "source": [
    "# Parameters\n",
    "P = {\n",
    "    \"pipeline.data_lake_root\": \"/pipeline-outputs/data-lake\",\n",
    "    \"pipeline.run_environment\": \"ci\",\n",
    "    \"pipeline.pipeline_run_id\": \"e20e895d-454d-4542-b4da-b1ac1d08cc0d\",\n",
    "    \"pipeline.github.repository\": \"pynb-dag-runner/mnist-digits-demo-pipeline\",\n",
    "    \"pipeline.github.workflow\": \"Run automated tests, pipeline and deploy results to static reporting site\",\n",
    "    \"pipeline.github.runner_name\": \"GitHub Actions 4\",\n",
    "    \"pipeline.github.run_id\": \"2630256446\",\n",
    "    \"pipeline.github.actor\": \"matiasdahl\",\n",
    "    \"pipeline.github.job\": \"run-tests-pipeline-and-persist-pipeline-outputs\",\n",
    "    \"pipeline.github.base_ref\": \"development\",\n",
    "    \"pipeline.github.head_ref\": \"readme-link-to-docs\",\n",
    "    \"pipeline.github.sha\": \"9618eea67de36c0cc64d4fc66ed9a3f1b50bbff3\",\n",
    "    \"pipeline.github.ref\": \"refs/pull/56/merge\",\n",
    "    \"pipeline.github.ref_type\": \"branch\",\n",
    "    \"pipeline.github.ref_name\": \"56/merge\",\n",
    "    \"pipeline.github.event_name\": \"pull_request\",\n",
    "    \"task.notebook\": \"notebooks/summary.py\",\n",
    "    \"task.max_nr_retries\": \"1\",\n",
    "    \"run.retry_nr\": \"0\",\n",
    "    \"task.timeout_s\": \"None\",\n",
    "    \"task.num_cpus\": 1,\n",
    "    \"_opentelemetry_traceparent\": \"00-b43d28cb3639d104708e53a0cb86f226-8506ba9b424a4559-01\",\n",
    "}\n"
   ]
  },
  {
   "cell_type": "code",
   "execution_count": 4,
   "id": "df8882b9",
   "metadata": {
    "execution": {
     "iopub.execute_input": "2022-07-07T14:36:29.093463Z",
     "iopub.status.busy": "2022-07-07T14:36:29.093078Z",
     "iopub.status.idle": "2022-07-07T14:36:29.095940Z",
     "shell.execute_reply": "2022-07-07T14:36:29.095331Z"
    },
    "lines_to_next_cell": 0,
    "papermill": {
     "duration": 0.009236,
     "end_time": "2022-07-07T14:36:29.097256",
     "exception": false,
     "start_time": "2022-07-07T14:36:29.088020",
     "status": "completed"
    },
    "tags": []
   },
   "outputs": [],
   "source": [
    "# -----------------------------------------------------------------------"
   ]
  },
  {
   "cell_type": "markdown",
   "id": "38b78d20",
   "metadata": {
    "papermill": {
     "duration": 0.002521,
     "end_time": "2022-07-07T14:36:29.102890",
     "exception": false,
     "start_time": "2022-07-07T14:36:29.100369",
     "status": "completed"
    },
    "tags": []
   },
   "source": [
    "---"
   ]
  },
  {
   "cell_type": "markdown",
   "id": "af77d8dc",
   "metadata": {
    "lines_to_next_cell": 2,
    "papermill": {
     "duration": 0.002564,
     "end_time": "2022-07-07T14:36:29.107923",
     "exception": false,
     "start_time": "2022-07-07T14:36:29.105359",
     "status": "completed"
    },
    "tags": []
   },
   "source": [
    "### Notebook code"
   ]
  },
  {
   "cell_type": "code",
   "execution_count": 5,
   "id": "f1217c18",
   "metadata": {
    "execution": {
     "iopub.execute_input": "2022-07-07T14:36:29.114095Z",
     "iopub.status.busy": "2022-07-07T14:36:29.113657Z",
     "iopub.status.idle": "2022-07-07T14:36:30.168051Z",
     "shell.execute_reply": "2022-07-07T14:36:30.167422Z"
    },
    "papermill": {
     "duration": 1.059418,
     "end_time": "2022-07-07T14:36:30.169731",
     "exception": false,
     "start_time": "2022-07-07T14:36:29.110313",
     "status": "completed"
    },
    "tags": []
   },
   "outputs": [],
   "source": [
    "#\n",
    "import pandas as pd\n",
    "import matplotlib.pyplot as plt\n",
    "\n",
    "#\n",
    "from pynb_dag_runner.tasks.task_opentelemetry_logging import PydarLogger"
   ]
  },
  {
   "cell_type": "code",
   "execution_count": 6,
   "id": "e1801b8b",
   "metadata": {
    "execution": {
     "iopub.execute_input": "2022-07-07T14:36:30.177443Z",
     "iopub.status.busy": "2022-07-07T14:36:30.177008Z",
     "iopub.status.idle": "2022-07-07T14:36:30.327804Z",
     "shell.execute_reply": "2022-07-07T14:36:30.326579Z"
    },
    "papermill": {
     "duration": 0.155952,
     "end_time": "2022-07-07T14:36:30.329450",
     "exception": false,
     "start_time": "2022-07-07T14:36:30.173498",
     "status": "completed"
    },
    "tags": []
   },
   "outputs": [
    {
     "name": "stderr",
     "output_type": "stream",
     "text": [
      "2022-07-07 14:36:30,181\tINFO worker.py:842 -- Connecting to existing Ray cluster at address: 172.17.0.2:6379\n"
     ]
    }
   ],
   "source": [
    "logger = PydarLogger(P=P)"
   ]
  },
  {
   "cell_type": "code",
   "execution_count": 7,
   "id": "d000eb6c",
   "metadata": {
    "execution": {
     "iopub.execute_input": "2022-07-07T14:36:30.336550Z",
     "iopub.status.busy": "2022-07-07T14:36:30.336116Z",
     "iopub.status.idle": "2022-07-07T14:36:30.339448Z",
     "shell.execute_reply": "2022-07-07T14:36:30.338829Z"
    },
    "papermill": {
     "duration": 0.009106,
     "end_time": "2022-07-07T14:36:30.341429",
     "exception": false,
     "start_time": "2022-07-07T14:36:30.332323",
     "status": "completed"
    },
    "tags": []
   },
   "outputs": [],
   "source": [
    "from pynb_dag_runner.tasks.task_opentelemetry_logging import (\n",
    "    PydarLogger,\n",
    "    get_logged_values,\n",
    ")\n",
    "from pynb_dag_runner.opentelemetry_helpers import _get_all_spans, Spans"
   ]
  },
  {
   "cell_type": "code",
   "execution_count": 8,
   "id": "86e2467f",
   "metadata": {
    "execution": {
     "iopub.execute_input": "2022-07-07T14:36:30.349484Z",
     "iopub.status.busy": "2022-07-07T14:36:30.348989Z",
     "iopub.status.idle": "2022-07-07T14:36:30.356942Z",
     "shell.execute_reply": "2022-07-07T14:36:30.356201Z"
    },
    "papermill": {
     "duration": 0.012845,
     "end_time": "2022-07-07T14:36:30.358352",
     "exception": false,
     "start_time": "2022-07-07T14:36:30.345507",
     "status": "completed"
    },
    "tags": []
   },
   "outputs": [],
   "source": [
    "def get_model_benchmarks():\n",
    "    \"\"\"\n",
    "    Query the OpenTelemetry logs for *this pipeline run* and return\n",
    "    all key-values logged from all runs of the benchmark-model.py task\n",
    "\n",
    "    For testing a json file with OpenTelemetry spans (as an array)\n",
    "    can be used as follows:\n",
    "\n",
    "    - Create output directory `mkdir /tmp/spans`\n",
    "    - Run unit tests. This will create pipeline-outputs/opentelemetry-spans.json\n",
    "    - Convert this json-array into jsonl format as follows\n",
    "\n",
    "    jq -c '.[]' /pipeline-outputs/opentelemetry-spans.json > /tmp/spans/data.txt\n",
    "\n",
    "    \"\"\"\n",
    "    spans: Spans = Spans(_get_all_spans())\n",
    "    print(f\"Found {len(spans)} spans\")\n",
    "\n",
    "    benchmark_spans = (\n",
    "        spans\n",
    "        # -\n",
    "        .filter([\"name\"], \"execute-task\")\n",
    "        # -\n",
    "        .filter([\"attributes\", \"task.notebook\"], \"notebooks/benchmark-model.py\")\n",
    "    )\n",
    "\n",
    "    result = []\n",
    "    for s in benchmark_spans:\n",
    "        result.append(\n",
    "            {\n",
    "                \"span_id\": s[\"context\"][\"span_id\"],\n",
    "                \"nr_train_images\": s[\"attributes\"][\"task.nr_train_images\"],\n",
    "                \"data\": get_logged_values(spans.bound_under(s)),\n",
    "            }\n",
    "        )\n",
    "\n",
    "    return result\n",
    "\n",
    "\n",
    "def adjust_pandas(df):\n",
    "    def column_renamer(col_name: str) -> str:\n",
    "        return (\n",
    "            col_name\n",
    "            # -- 'data.roc_auc_per_digit.4' -> 'roc_auc.4'\n",
    "            .replace(\"data.roc_auc_per_digit\", \"roc_auc\")\n",
    "            # -- 'data.roc_auc_class_mean' -> 'roc_auc_mean'\n",
    "            .replace(\"data.roc_auc_class_mean\", \"roc_auc_mean\")\n",
    "        )\n",
    "\n",
    "    return df.rename(column_renamer, axis=\"columns\").sort_values(by=\"nr_train_images\")"
   ]
  },
  {
   "cell_type": "code",
   "execution_count": 9,
   "id": "8cf75fd1",
   "metadata": {
    "execution": {
     "iopub.execute_input": "2022-07-07T14:36:30.365193Z",
     "iopub.status.busy": "2022-07-07T14:36:30.364763Z",
     "iopub.status.idle": "2022-07-07T14:36:51.226249Z",
     "shell.execute_reply": "2022-07-07T14:36:51.225545Z"
    },
    "papermill": {
     "duration": 20.867377,
     "end_time": "2022-07-07T14:36:51.228379",
     "exception": false,
     "start_time": "2022-07-07T14:36:30.361002",
     "status": "completed"
    },
    "tags": []
   },
   "outputs": [
    {
     "name": "stdout",
     "output_type": "stream",
     "text": [
      "Found 423 spans\n"
     ]
    }
   ],
   "source": [
    "df_data = adjust_pandas(pd.json_normalize(get_model_benchmarks()))"
   ]
  },
  {
   "cell_type": "code",
   "execution_count": 10,
   "id": "bdb2f45c",
   "metadata": {
    "execution": {
     "iopub.execute_input": "2022-07-07T14:36:51.235887Z",
     "iopub.status.busy": "2022-07-07T14:36:51.235503Z",
     "iopub.status.idle": "2022-07-07T14:36:51.264756Z",
     "shell.execute_reply": "2022-07-07T14:36:51.264215Z"
    },
    "papermill": {
     "duration": 0.034868,
     "end_time": "2022-07-07T14:36:51.266649",
     "exception": false,
     "start_time": "2022-07-07T14:36:51.231781",
     "status": "completed"
    },
    "tags": []
   },
   "outputs": [
    {
     "data": {
      "text/html": [
       "<div>\n",
       "<style scoped>\n",
       "    .dataframe tbody tr th:only-of-type {\n",
       "        vertical-align: middle;\n",
       "    }\n",
       "\n",
       "    .dataframe tbody tr th {\n",
       "        vertical-align: top;\n",
       "    }\n",
       "\n",
       "    .dataframe thead th {\n",
       "        text-align: right;\n",
       "    }\n",
       "</style>\n",
       "<table border=\"1\" class=\"dataframe\">\n",
       "  <thead>\n",
       "    <tr style=\"text-align: right;\">\n",
       "      <th></th>\n",
       "      <th>span_id</th>\n",
       "      <th>nr_train_images</th>\n",
       "      <th>roc_auc_mean</th>\n",
       "      <th>roc_auc.0</th>\n",
       "      <th>roc_auc.1</th>\n",
       "      <th>roc_auc.2</th>\n",
       "      <th>roc_auc.3</th>\n",
       "      <th>roc_auc.4</th>\n",
       "      <th>roc_auc.5</th>\n",
       "      <th>roc_auc.6</th>\n",
       "      <th>roc_auc.7</th>\n",
       "      <th>roc_auc.8</th>\n",
       "      <th>roc_auc.9</th>\n",
       "    </tr>\n",
       "  </thead>\n",
       "  <tbody>\n",
       "    <tr>\n",
       "      <th>2</th>\n",
       "      <td>0xe88cab453045ea29</td>\n",
       "      <td>600</td>\n",
       "      <td>0.9990</td>\n",
       "      <td>1.0</td>\n",
       "      <td>0.9992</td>\n",
       "      <td>1.0</td>\n",
       "      <td>0.9999</td>\n",
       "      <td>0.9992</td>\n",
       "      <td>0.9989</td>\n",
       "      <td>0.9999</td>\n",
       "      <td>0.9998</td>\n",
       "      <td>0.9940</td>\n",
       "      <td>0.9988</td>\n",
       "    </tr>\n",
       "    <tr>\n",
       "      <th>1</th>\n",
       "      <td>0x465f2bcaac1b0533</td>\n",
       "      <td>800</td>\n",
       "      <td>0.9989</td>\n",
       "      <td>1.0</td>\n",
       "      <td>0.9988</td>\n",
       "      <td>1.0</td>\n",
       "      <td>0.9998</td>\n",
       "      <td>0.9993</td>\n",
       "      <td>0.9991</td>\n",
       "      <td>0.9999</td>\n",
       "      <td>0.9999</td>\n",
       "      <td>0.9932</td>\n",
       "      <td>0.9995</td>\n",
       "    </tr>\n",
       "    <tr>\n",
       "      <th>3</th>\n",
       "      <td>0xe9cc7c992c3ef27b</td>\n",
       "      <td>1000</td>\n",
       "      <td>0.9993</td>\n",
       "      <td>1.0</td>\n",
       "      <td>0.9990</td>\n",
       "      <td>1.0</td>\n",
       "      <td>0.9998</td>\n",
       "      <td>0.9996</td>\n",
       "      <td>0.9994</td>\n",
       "      <td>0.9999</td>\n",
       "      <td>0.9998</td>\n",
       "      <td>0.9955</td>\n",
       "      <td>0.9996</td>\n",
       "    </tr>\n",
       "    <tr>\n",
       "      <th>0</th>\n",
       "      <td>0x27cc6adeb263e815</td>\n",
       "      <td>1200</td>\n",
       "      <td>0.9994</td>\n",
       "      <td>1.0</td>\n",
       "      <td>0.9990</td>\n",
       "      <td>1.0</td>\n",
       "      <td>0.9999</td>\n",
       "      <td>0.9997</td>\n",
       "      <td>0.9997</td>\n",
       "      <td>0.9999</td>\n",
       "      <td>0.9998</td>\n",
       "      <td>0.9957</td>\n",
       "      <td>0.9998</td>\n",
       "    </tr>\n",
       "  </tbody>\n",
       "</table>\n",
       "</div>"
      ],
      "text/plain": [
       "              span_id  nr_train_images  roc_auc_mean  roc_auc.0  roc_auc.1  \\\n",
       "2  0xe88cab453045ea29              600        0.9990        1.0     0.9992   \n",
       "1  0x465f2bcaac1b0533              800        0.9989        1.0     0.9988   \n",
       "3  0xe9cc7c992c3ef27b             1000        0.9993        1.0     0.9990   \n",
       "0  0x27cc6adeb263e815             1200        0.9994        1.0     0.9990   \n",
       "\n",
       "   roc_auc.2  roc_auc.3  roc_auc.4  roc_auc.5  roc_auc.6  roc_auc.7  \\\n",
       "2        1.0     0.9999     0.9992     0.9989     0.9999     0.9998   \n",
       "1        1.0     0.9998     0.9993     0.9991     0.9999     0.9999   \n",
       "3        1.0     0.9998     0.9996     0.9994     0.9999     0.9998   \n",
       "0        1.0     0.9999     0.9997     0.9997     0.9999     0.9998   \n",
       "\n",
       "   roc_auc.8  roc_auc.9  \n",
       "2     0.9940     0.9988  \n",
       "1     0.9932     0.9995  \n",
       "3     0.9955     0.9996  \n",
       "0     0.9957     0.9998  "
      ]
     },
     "execution_count": 10,
     "metadata": {},
     "output_type": "execute_result"
    }
   ],
   "source": [
    "df_data.round(4)"
   ]
  },
  {
   "cell_type": "code",
   "execution_count": 11,
   "id": "2d65006e",
   "metadata": {
    "execution": {
     "iopub.execute_input": "2022-07-07T14:36:51.274656Z",
     "iopub.status.busy": "2022-07-07T14:36:51.274222Z",
     "iopub.status.idle": "2022-07-07T14:36:51.426199Z",
     "shell.execute_reply": "2022-07-07T14:36:51.425571Z"
    },
    "papermill": {
     "duration": 0.158147,
     "end_time": "2022-07-07T14:36:51.427864",
     "exception": false,
     "start_time": "2022-07-07T14:36:51.269717",
     "status": "completed"
    },
    "tags": []
   },
   "outputs": [
    {
     "data": {
      "image/png": "[encoded data removed]",
      "text/plain": [
       "<Figure size 1152x288 with 1 Axes>"
      ]
     },
     "metadata": {
      "needs_background": "light"
     },
     "output_type": "display_data"
    }
   ],
   "source": [
    "def plot_classifier_performance_summary(df_data):\n",
    "    fig, ax = plt.subplots(nrows=1, ncols=1, figsize=(16, 4), sharex=True)\n",
    "\n",
    "    #\n",
    "    ax.plot(\n",
    "        df_data[\"nr_train_images\"], df_data[\"roc_auc_mean\"], marker=\"o\", linestyle=\"--\"\n",
    "    )\n",
    "    ax.set_title(\n",
    "        f\"ROC AUC digit classifier performance on evaluation digits\", fontsize=17\n",
    "    )\n",
    "    ax.set_xlabel(\"Total number of digits in training set\", fontsize=14)\n",
    "    ax.set_ylabel(\"Mean ROC AUC\", fontsize=14)\n",
    "\n",
    "    fig.tight_layout()\n",
    "    fig.show()\n",
    "\n",
    "    return fig\n",
    "\n",
    "\n",
    "fig = plot_classifier_performance_summary(df_data)"
   ]
  },
  {
   "cell_type": "code",
   "execution_count": 12,
   "id": "7be1be2f",
   "metadata": {
    "execution": {
     "iopub.execute_input": "2022-07-07T14:36:51.437367Z",
     "iopub.status.busy": "2022-07-07T14:36:51.436601Z",
     "iopub.status.idle": "2022-07-07T14:36:51.493666Z",
     "shell.execute_reply": "2022-07-07T14:36:51.493031Z"
    },
    "papermill": {
     "duration": 0.063515,
     "end_time": "2022-07-07T14:36:51.495579",
     "exception": false,
     "start_time": "2022-07-07T14:36:51.432064",
     "status": "completed"
    },
    "tags": []
   },
   "outputs": [],
   "source": [
    "logger.log_figure(\"auc-roc-model-performances.png\", fig)"
   ]
  },
  {
   "cell_type": "code",
   "execution_count": 13,
   "id": "3aedf1f2",
   "metadata": {
    "execution": {
     "iopub.execute_input": "2022-07-07T14:36:51.504408Z",
     "iopub.status.busy": "2022-07-07T14:36:51.504159Z",
     "iopub.status.idle": "2022-07-07T14:36:51.507076Z",
     "shell.execute_reply": "2022-07-07T14:36:51.506475Z"
    },
    "papermill": {
     "duration": 0.009137,
     "end_time": "2022-07-07T14:36:51.508616",
     "exception": false,
     "start_time": "2022-07-07T14:36:51.499479",
     "status": "completed"
    },
    "tags": []
   },
   "outputs": [],
   "source": [
    "###"
   ]
  },
  {
   "cell_type": "code",
   "execution_count": null,
   "id": "87797524",
   "metadata": {
    "papermill": {
     "duration": 0.003504,
     "end_time": "2022-07-07T14:36:51.515641",
     "exception": false,
     "start_time": "2022-07-07T14:36:51.512137",
     "status": "completed"
    },
    "tags": []
   },
   "outputs": [],
   "source": []
  }
 ],
 "metadata": {
  "jupytext": {
   "cell_metadata_filter": "tags,-all",
   "main_language": "python",
   "notebook_metadata_filter": "-all"
  },
  "language_info": {
   "codemirror_mode": {
    "name": "ipython",
    "version": 3
   },
   "file_extension": ".py",
   "mimetype": "text/x-python",
   "name": "python",
   "nbconvert_exporter": "python",
   "pygments_lexer": "ipython3",
   "version": "3.8.10"
  },
  "papermill": {
   "default_parameters": {},
   "duration": 24.526688,
   "end_time": "2022-07-07T14:36:52.437352",
   "environment_variables": {},
   "exception": null,
   "input_path": "/home/host_user/workspace/mnist-demo-pipeline/mnist-demo-pipeline/notebooks/temp-notebook-o0_81hdm.ipynb",
   "output_path": "notebooks/summary.ipynb",
   "parameters": {
    "P": {
     "_opentelemetry_traceparent": "00-b43d28cb3639d104708e53a0cb86f226-8506ba9b424a4559-01",
     "pipeline.data_lake_root": "/pipeline-outputs/data-lake",
     "pipeline.github.actor": "matiasdahl",
     "pipeline.github.base_ref": "development",
     "pipeline.github.event_name": "pull_request",
     "pipeline.github.head_ref": "readme-link-to-docs",
     "pipeline.github.job": "run-tests-pipeline-and-persist-pipeline-outputs",
     "pipeline.github.ref": "refs/pull/56/merge",
     "pipeline.github.ref_name": "56/merge",
     "pipeline.github.ref_type": "branch",
     "pipeline.github.repository": "pynb-dag-runner/mnist-digits-demo-pipeline",
     "pipeline.github.run_id": "2630256446",
     "pipeline.github.runner_name": "GitHub Actions 4",
     "pipeline.github.sha": "9618eea67de36c0cc64d4fc66ed9a3f1b50bbff3",
     "pipeline.github.workflow": "Run automated tests, pipeline and deploy results to static reporting site",
     "pipeline.pipeline_run_id": "e20e895d-454d-4542-b4da-b1ac1d08cc0d",
     "pipeline.run_environment": "ci",
     "run.retry_nr": "0",
     "task.max_nr_retries": "1",
     "task.notebook": "notebooks/summary.py",
     "task.num_cpus": 1,
     "task.timeout_s": "None"
    }
   },
   "start_time": "2022-07-07T14:36:27.910664",
   "version": "2.3.3"
  }
 },
 "nbformat": 4,
 "nbformat_minor": 5
}