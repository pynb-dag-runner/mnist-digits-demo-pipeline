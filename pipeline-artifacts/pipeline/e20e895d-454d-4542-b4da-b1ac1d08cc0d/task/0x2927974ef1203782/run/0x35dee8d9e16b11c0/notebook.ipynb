{
 "cells": [
  {
   "cell_type": "markdown",
   "id": "428b588d",
   "metadata": {
    "papermill": {
     "duration": 0.003346,
     "end_time": "2022-07-07T14:35:43.917316",
     "exception": false,
     "start_time": "2022-07-07T14:35:43.913970",
     "status": "completed"
    },
    "tags": []
   },
   "source": [
    "# Ingest toy version of MNIST digit data from sklearn"
   ]
  },
  {
   "cell_type": "markdown",
   "id": "c6f345b5",
   "metadata": {
    "papermill": {
     "duration": 0.002478,
     "end_time": "2022-07-07T14:35:43.922333",
     "exception": false,
     "start_time": "2022-07-07T14:35:43.919855",
     "status": "completed"
    },
    "tags": []
   },
   "source": [
    "### Determine run parameters"
   ]
  },
  {
   "cell_type": "code",
   "execution_count": 1,
   "id": "b6b0114d",
   "metadata": {
    "execution": {
     "iopub.execute_input": "2022-07-07T14:35:43.928385Z",
     "iopub.status.busy": "2022-07-07T14:35:43.927639Z",
     "iopub.status.idle": "2022-07-07T14:35:43.935384Z",
     "shell.execute_reply": "2022-07-07T14:35:43.934802Z"
    },
    "lines_to_next_cell": 0,
    "papermill": {
     "duration": 0.012468,
     "end_time": "2022-07-07T14:35:43.936861",
     "exception": false,
     "start_time": "2022-07-07T14:35:43.924393",
     "status": "completed"
    },
    "tags": []
   },
   "outputs": [],
   "source": [
    "# ----------------- Parameters for interactive development --------------\n",
    "P = {\n",
    "    \"pipeline.run_environment\": \"dev\",\n",
    "    \"pipeline.data_lake_root\": \"/pipeline-outputs/data-lake\",\n",
    "    \"run.retry_nr\": \"1\",\n",
    "}"
   ]
  },
  {
   "cell_type": "code",
   "execution_count": 2,
   "id": "02ef988e",
   "metadata": {
    "execution": {
     "iopub.execute_input": "2022-07-07T14:35:43.942739Z",
     "iopub.status.busy": "2022-07-07T14:35:43.942353Z",
     "iopub.status.idle": "2022-07-07T14:35:43.945234Z",
     "shell.execute_reply": "2022-07-07T14:35:43.944692Z"
    },
    "lines_to_next_cell": 0,
    "papermill": {
     "duration": 0.007411,
     "end_time": "2022-07-07T14:35:43.946453",
     "exception": false,
     "start_time": "2022-07-07T14:35:43.939042",
     "status": "completed"
    },
    "tags": [
     "parameters"
    ]
   },
   "outputs": [],
   "source": [
    "# - During automated runs parameters will be injected in the below cell -"
   ]
  },
  {
   "cell_type": "code",
   "execution_count": 3,
   "id": "ea93e5f9",
   "metadata": {
    "execution": {
     "iopub.execute_input": "2022-07-07T14:35:43.952020Z",
     "iopub.status.busy": "2022-07-07T14:35:43.951825Z",
     "iopub.status.idle": "2022-07-07T14:35:43.955915Z",
     "shell.execute_reply": "2022-07-07T14:35:43.955377Z"
    },
    "papermill": {
     "duration": 0.008537,
     "end_time": "2022-07-07T14:35:43.957125",
     "exception": false,
     "start_time": "2022-07-07T14:35:43.948588",
     "status": "completed"
    },
    "tags": [
     "injected-parameters"
    ]
   },
   "outputs": [],
   "source": [
    "# Parameters\n",
    "P = {\n",
    "    \"pipeline.data_lake_root\": \"/pipeline-outputs/data-lake\",\n",
    "    \"pipeline.run_environment\": \"ci\",\n",
    "    \"pipeline.pipeline_run_id\": \"e20e895d-454d-4542-b4da-b1ac1d08cc0d\",\n",
    "    \"pipeline.github.repository\": \"pynb-dag-runner/mnist-digits-demo-pipeline\",\n",
    "    \"pipeline.github.workflow\": \"Run automated tests, pipeline and deploy results to static reporting site\",\n",
    "    \"pipeline.github.runner_name\": \"GitHub Actions 4\",\n",
    "    \"pipeline.github.run_id\": \"2630256446\",\n",
    "    \"pipeline.github.actor\": \"matiasdahl\",\n",
    "    \"pipeline.github.job\": \"run-tests-pipeline-and-persist-pipeline-outputs\",\n",
    "    \"pipeline.github.base_ref\": \"development\",\n",
    "    \"pipeline.github.head_ref\": \"readme-link-to-docs\",\n",
    "    \"pipeline.github.sha\": \"9618eea67de36c0cc64d4fc66ed9a3f1b50bbff3\",\n",
    "    \"pipeline.github.ref\": \"refs/pull/56/merge\",\n",
    "    \"pipeline.github.ref_type\": \"branch\",\n",
    "    \"pipeline.github.ref_name\": \"56/merge\",\n",
    "    \"pipeline.github.event_name\": \"pull_request\",\n",
    "    \"task.notebook\": \"notebooks/ingest.py\",\n",
    "    \"task.max_nr_retries\": \"15\",\n",
    "    \"run.retry_nr\": \"10\",\n",
    "    \"task.timeout_s\": \"10\",\n",
    "    \"task.num_cpus\": 1,\n",
    "    \"_opentelemetry_traceparent\": \"00-b43d28cb3639d104708e53a0cb86f226-55145dde7552e0a9-01\",\n",
    "}\n"
   ]
  },
  {
   "cell_type": "code",
   "execution_count": 4,
   "id": "81941a83",
   "metadata": {
    "execution": {
     "iopub.execute_input": "2022-07-07T14:35:43.962722Z",
     "iopub.status.busy": "2022-07-07T14:35:43.962377Z",
     "iopub.status.idle": "2022-07-07T14:35:43.964968Z",
     "shell.execute_reply": "2022-07-07T14:35:43.964452Z"
    },
    "lines_to_next_cell": 0,
    "papermill": {
     "duration": 0.006952,
     "end_time": "2022-07-07T14:35:43.966229",
     "exception": false,
     "start_time": "2022-07-07T14:35:43.959277",
     "status": "completed"
    },
    "tags": []
   },
   "outputs": [],
   "source": [
    "# -----------------------------------------------------------------------"
   ]
  },
  {
   "cell_type": "markdown",
   "id": "7ff56f96",
   "metadata": {
    "lines_to_next_cell": 2,
    "papermill": {
     "duration": 0.00219,
     "end_time": "2022-07-07T14:35:43.970759",
     "exception": false,
     "start_time": "2022-07-07T14:35:43.968569",
     "status": "completed"
    },
    "tags": []
   },
   "source": [
    "---"
   ]
  },
  {
   "cell_type": "markdown",
   "id": "faac6a3d",
   "metadata": {
    "papermill": {
     "duration": 0.002193,
     "end_time": "2022-07-07T14:35:43.975466",
     "exception": false,
     "start_time": "2022-07-07T14:35:43.973273",
     "status": "completed"
    },
    "tags": []
   },
   "source": [
    "### Simulate different types of failures (for testing timeout and retry logic)"
   ]
  },
  {
   "cell_type": "code",
   "execution_count": 5,
   "id": "e15f09fd",
   "metadata": {
    "execution": {
     "iopub.execute_input": "2022-07-07T14:35:43.983428Z",
     "iopub.status.busy": "2022-07-07T14:35:43.982965Z",
     "iopub.status.idle": "2022-07-07T14:35:44.396693Z",
     "shell.execute_reply": "2022-07-07T14:35:44.395287Z"
    },
    "papermill": {
     "duration": 0.420839,
     "end_time": "2022-07-07T14:35:44.398433",
     "exception": false,
     "start_time": "2022-07-07T14:35:43.977594",
     "status": "completed"
    },
    "tags": []
   },
   "outputs": [
    {
     "name": "stderr",
     "output_type": "stream",
     "text": [
      "2022-07-07 14:35:44,252\tINFO worker.py:842 -- Connecting to existing Ray cluster at address: 172.17.0.2:6379\n"
     ]
    }
   ],
   "source": [
    "from pynb_dag_runner.tasks.task_opentelemetry_logging import PydarLogger\n",
    "\n",
    "logger = PydarLogger(P)"
   ]
  },
  {
   "cell_type": "code",
   "execution_count": 6,
   "id": "cfe84c1a",
   "metadata": {
    "execution": {
     "iopub.execute_input": "2022-07-07T14:35:44.405170Z",
     "iopub.status.busy": "2022-07-07T14:35:44.404629Z",
     "iopub.status.idle": "2022-07-07T14:35:44.409985Z",
     "shell.execute_reply": "2022-07-07T14:35:44.409386Z"
    },
    "papermill": {
     "duration": 0.010472,
     "end_time": "2022-07-07T14:35:44.411567",
     "exception": false,
     "start_time": "2022-07-07T14:35:44.401095",
     "status": "completed"
    },
    "tags": []
   },
   "outputs": [],
   "source": [
    "import time, random\n",
    "\n",
    "\n",
    "def maybe_crash(retry_nr: int, run_environment: str):\n",
    "    if retry_nr == 2 and run_environment == \"ci\":\n",
    "        time.sleep(1e6)\n",
    "\n",
    "    max_retry_nr: int = 3 if run_environment == \"dev\" else 10\n",
    "\n",
    "    if retry_nr < max_retry_nr:\n",
    "        if random.random() < 0.1:\n",
    "            time.sleep(1e6)\n",
    "        else:\n",
    "            raise Exception(\"Simulated exception failure from ingestion step notebook!\")\n",
    "\n",
    "\n",
    "maybe_crash(\n",
    "    retry_nr=int(P[\"run.retry_nr\"]), run_environment=P[\"pipeline.run_environment\"]\n",
    ")"
   ]
  },
  {
   "cell_type": "markdown",
   "id": "0aa0acf2",
   "metadata": {
    "lines_to_next_cell": 2,
    "papermill": {
     "duration": 0.002545,
     "end_time": "2022-07-07T14:35:44.416427",
     "exception": false,
     "start_time": "2022-07-07T14:35:44.413882",
     "status": "completed"
    },
    "tags": []
   },
   "source": [
    "### Notebook code"
   ]
  },
  {
   "cell_type": "code",
   "execution_count": 7,
   "id": "6e405f53",
   "metadata": {
    "execution": {
     "iopub.execute_input": "2022-07-07T14:35:44.422549Z",
     "iopub.status.busy": "2022-07-07T14:35:44.421947Z",
     "iopub.status.idle": "2022-07-07T14:35:45.577382Z",
     "shell.execute_reply": "2022-07-07T14:35:45.576717Z"
    },
    "papermill": {
     "duration": 1.160697,
     "end_time": "2022-07-07T14:35:45.579476",
     "exception": false,
     "start_time": "2022-07-07T14:35:44.418779",
     "status": "completed"
    },
    "tags": []
   },
   "outputs": [],
   "source": [
    "from sklearn import datasets\n",
    "\n",
    "#\n",
    "from common.io import datalake_root, write_numpy"
   ]
  },
  {
   "cell_type": "code",
   "execution_count": 8,
   "id": "30c23fc1",
   "metadata": {
    "execution": {
     "iopub.execute_input": "2022-07-07T14:35:45.586423Z",
     "iopub.status.busy": "2022-07-07T14:35:45.586064Z",
     "iopub.status.idle": "2022-07-07T14:35:45.597813Z",
     "shell.execute_reply": "2022-07-07T14:35:45.597271Z"
    },
    "lines_to_next_cell": 2,
    "papermill": {
     "duration": 0.016975,
     "end_time": "2022-07-07T14:35:45.599254",
     "exception": false,
     "start_time": "2022-07-07T14:35:45.582279",
     "status": "completed"
    },
    "tags": []
   },
   "outputs": [],
   "source": [
    "digits = datasets.load_digits()\n",
    "\n",
    "X = digits[\"data\"]\n",
    "y = digits[\"target\"]"
   ]
  },
  {
   "cell_type": "code",
   "execution_count": 9,
   "id": "c3fa5099",
   "metadata": {
    "execution": {
     "iopub.execute_input": "2022-07-07T14:35:45.605880Z",
     "iopub.status.busy": "2022-07-07T14:35:45.605385Z",
     "iopub.status.idle": "2022-07-07T14:35:45.618884Z",
     "shell.execute_reply": "2022-07-07T14:35:45.618182Z"
    },
    "papermill": {
     "duration": 0.019131,
     "end_time": "2022-07-07T14:35:45.621116",
     "exception": false,
     "start_time": "2022-07-07T14:35:45.601985",
     "status": "completed"
    },
    "tags": []
   },
   "outputs": [
    {
     "name": "stdout",
     "output_type": "stream",
     "text": [
      " - Logging data_shape (json) : [1797, 64]\n",
      " - Logging target_shape (json) : [1797]\n"
     ]
    },
    {
     "data": {
      "text/plain": [
       "((1797, 64), (1797,))"
      ]
     },
     "execution_count": 9,
     "metadata": {},
     "output_type": "execute_result"
    }
   ],
   "source": [
    "logger.log_value(\"data_shape\", list(X.shape))\n",
    "logger.log_value(\"target_shape\", list(y.shape))\n",
    "\n",
    "X.shape, y.shape"
   ]
  },
  {
   "cell_type": "code",
   "execution_count": 10,
   "id": "4c707f50",
   "metadata": {
    "execution": {
     "iopub.execute_input": "2022-07-07T14:35:45.628597Z",
     "iopub.status.busy": "2022-07-07T14:35:45.628106Z",
     "iopub.status.idle": "2022-07-07T14:35:45.641096Z",
     "shell.execute_reply": "2022-07-07T14:35:45.638828Z"
    },
    "papermill": {
     "duration": 0.019287,
     "end_time": "2022-07-07T14:35:45.642921",
     "exception": false,
     "start_time": "2022-07-07T14:35:45.623634",
     "status": "completed"
    },
    "tags": []
   },
   "outputs": [],
   "source": [
    "write_numpy(datalake_root(P) / \"raw\" / \"digits.numpy\", X)\n",
    "write_numpy(datalake_root(P) / \"raw\" / \"labels.numpy\", y)"
   ]
  },
  {
   "cell_type": "code",
   "execution_count": null,
   "id": "b2994f35",
   "metadata": {
    "papermill": {
     "duration": 0.002644,
     "end_time": "2022-07-07T14:35:45.648638",
     "exception": false,
     "start_time": "2022-07-07T14:35:45.645994",
     "status": "completed"
    },
    "tags": []
   },
   "outputs": [],
   "source": []
  }
 ],
 "metadata": {
  "jupytext": {
   "cell_metadata_filter": "tags,-all",
   "main_language": "python",
   "notebook_metadata_filter": "-all"
  },
  "language_info": {
   "codemirror_mode": {
    "name": "ipython",
    "version": 3
   },
   "file_extension": ".py",
   "mimetype": "text/x-python",
   "name": "python",
   "nbconvert_exporter": "python",
   "pygments_lexer": "ipython3",
   "version": "3.8.10"
  },
  "papermill": {
   "default_parameters": {},
   "duration": 3.672029,
   "end_time": "2022-07-07T14:35:46.469422",
   "environment_variables": {},
   "exception": null,
   "input_path": "/home/host_user/workspace/mnist-demo-pipeline/mnist-demo-pipeline/notebooks/temp-notebook-b63ph764.ipynb",
   "output_path": "notebooks/ingest.ipynb",
   "parameters": {
    "P": {
     "_opentelemetry_traceparent": "00-b43d28cb3639d104708e53a0cb86f226-55145dde7552e0a9-01",
     "pipeline.data_lake_root": "/pipeline-outputs/data-lake",
     "pipeline.github.actor": "matiasdahl",
     "pipeline.github.base_ref": "development",
     "pipeline.github.event_name": "pull_request",
     "pipeline.github.head_ref": "readme-link-to-docs",
     "pipeline.github.job": "run-tests-pipeline-and-persist-pipeline-outputs",
     "pipeline.github.ref": "refs/pull/56/merge",
     "pipeline.github.ref_name": "56/merge",
     "pipeline.github.ref_type": "branch",
     "pipeline.github.repository": "pynb-dag-runner/mnist-digits-demo-pipeline",
     "pipeline.github.run_id": "2630256446",
     "pipeline.github.runner_name": "GitHub Actions 4",
     "pipeline.github.sha": "9618eea67de36c0cc64d4fc66ed9a3f1b50bbff3",
     "pipeline.github.workflow": "Run automated tests, pipeline and deploy results to static reporting site",
     "pipeline.pipeline_run_id": "e20e895d-454d-4542-b4da-b1ac1d08cc0d",
     "pipeline.run_environment": "ci",
     "run.retry_nr": "10",
     "task.max_nr_retries": "15",
     "task.notebook": "notebooks/ingest.py",
     "task.num_cpus": 1,
     "task.timeout_s": "10"
    }
   },
   "start_time": "2022-07-07T14:35:42.797393",
   "version": "2.3.3"
  }
 },
 "nbformat": 4,
 "nbformat_minor": 5
}