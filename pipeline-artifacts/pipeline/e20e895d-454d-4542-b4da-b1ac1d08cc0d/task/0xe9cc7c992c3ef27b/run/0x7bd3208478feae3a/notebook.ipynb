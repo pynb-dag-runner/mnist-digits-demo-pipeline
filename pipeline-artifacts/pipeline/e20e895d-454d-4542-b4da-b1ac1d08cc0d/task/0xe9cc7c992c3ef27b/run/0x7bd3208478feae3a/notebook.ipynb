{
 "cells": [
  {
   "cell_type": "markdown",
   "id": "48444d65",
   "metadata": {
    "papermill": {
     "duration": 0.006462,
     "end_time": "2022-07-07T14:36:15.427298",
     "exception": false,
     "start_time": "2022-07-07T14:36:15.420836",
     "status": "completed"
    },
    "tags": []
   },
   "source": [
    "# Benchmark model\n",
    "\n",
    "The purpose of this notebook is to benchmark persisted onnx-model (trained in the\n",
    "previous step) against evaluation set."
   ]
  },
  {
   "cell_type": "markdown",
   "id": "8a0ce67e",
   "metadata": {
    "papermill": {
     "duration": 0.00426,
     "end_time": "2022-07-07T14:36:15.437104",
     "exception": false,
     "start_time": "2022-07-07T14:36:15.432844",
     "status": "completed"
    },
    "tags": []
   },
   "source": [
    "### Determine run parameters"
   ]
  },
  {
   "cell_type": "code",
   "execution_count": 1,
   "id": "6d516e93",
   "metadata": {
    "execution": {
     "iopub.execute_input": "2022-07-07T14:36:15.452668Z",
     "iopub.status.busy": "2022-07-07T14:36:15.452339Z",
     "iopub.status.idle": "2022-07-07T14:36:15.463874Z",
     "shell.execute_reply": "2022-07-07T14:36:15.463379Z"
    },
    "lines_to_next_cell": 0,
    "papermill": {
     "duration": 0.024377,
     "end_time": "2022-07-07T14:36:15.466091",
     "exception": false,
     "start_time": "2022-07-07T14:36:15.441714",
     "status": "completed"
    },
    "tags": []
   },
   "outputs": [],
   "source": [
    "# ----------------- Parameters for interactive development --------------\n",
    "P = {\n",
    "    \"pipeline.data_lake_root\": \"/pipeline-outputs/data-lake\",\n",
    "    \"task.nr_train_images\": 600,\n",
    "}"
   ]
  },
  {
   "cell_type": "code",
   "execution_count": 2,
   "id": "867ea913",
   "metadata": {
    "execution": {
     "iopub.execute_input": "2022-07-07T14:36:15.474847Z",
     "iopub.status.busy": "2022-07-07T14:36:15.474551Z",
     "iopub.status.idle": "2022-07-07T14:36:15.477837Z",
     "shell.execute_reply": "2022-07-07T14:36:15.476951Z"
    },
    "lines_to_next_cell": 0,
    "papermill": {
     "duration": 0.009461,
     "end_time": "2022-07-07T14:36:15.479388",
     "exception": false,
     "start_time": "2022-07-07T14:36:15.469927",
     "status": "completed"
    },
    "tags": [
     "parameters"
    ]
   },
   "outputs": [],
   "source": [
    "# - During automated runs parameters will be injected in the below cell -"
   ]
  },
  {
   "cell_type": "code",
   "execution_count": 3,
   "id": "c0d32b26",
   "metadata": {
    "execution": {
     "iopub.execute_input": "2022-07-07T14:36:15.487888Z",
     "iopub.status.busy": "2022-07-07T14:36:15.487433Z",
     "iopub.status.idle": "2022-07-07T14:36:15.496385Z",
     "shell.execute_reply": "2022-07-07T14:36:15.495393Z"
    },
    "papermill": {
     "duration": 0.015103,
     "end_time": "2022-07-07T14:36:15.498149",
     "exception": false,
     "start_time": "2022-07-07T14:36:15.483046",
     "status": "completed"
    },
    "tags": [
     "injected-parameters"
    ]
   },
   "outputs": [],
   "source": [
    "# Parameters\n",
    "P = {\n",
    "    \"pipeline.data_lake_root\": \"/pipeline-outputs/data-lake\",\n",
    "    \"pipeline.run_environment\": \"ci\",\n",
    "    \"pipeline.pipeline_run_id\": \"e20e895d-454d-4542-b4da-b1ac1d08cc0d\",\n",
    "    \"pipeline.github.repository\": \"pynb-dag-runner/mnist-digits-demo-pipeline\",\n",
    "    \"pipeline.github.workflow\": \"Run automated tests, pipeline and deploy results to static reporting site\",\n",
    "    \"pipeline.github.runner_name\": \"GitHub Actions 4\",\n",
    "    \"pipeline.github.run_id\": \"2630256446\",\n",
    "    \"pipeline.github.actor\": \"matiasdahl\",\n",
    "    \"pipeline.github.job\": \"run-tests-pipeline-and-persist-pipeline-outputs\",\n",
    "    \"pipeline.github.base_ref\": \"development\",\n",
    "    \"pipeline.github.head_ref\": \"readme-link-to-docs\",\n",
    "    \"pipeline.github.sha\": \"9618eea67de36c0cc64d4fc66ed9a3f1b50bbff3\",\n",
    "    \"pipeline.github.ref\": \"refs/pull/56/merge\",\n",
    "    \"pipeline.github.ref_type\": \"branch\",\n",
    "    \"pipeline.github.ref_name\": \"56/merge\",\n",
    "    \"pipeline.github.event_name\": \"pull_request\",\n",
    "    \"task.nr_train_images\": 1000,\n",
    "    \"task.notebook\": \"notebooks/benchmark-model.py\",\n",
    "    \"task.max_nr_retries\": \"1\",\n",
    "    \"run.retry_nr\": \"0\",\n",
    "    \"task.timeout_s\": \"None\",\n",
    "    \"task.num_cpus\": 1,\n",
    "    \"_opentelemetry_traceparent\": \"00-b43d28cb3639d104708e53a0cb86f226-c10cc863802a0a95-01\",\n",
    "}\n"
   ]
  },
  {
   "cell_type": "code",
   "execution_count": 4,
   "id": "9808d0c1",
   "metadata": {
    "execution": {
     "iopub.execute_input": "2022-07-07T14:36:15.508608Z",
     "iopub.status.busy": "2022-07-07T14:36:15.508112Z",
     "iopub.status.idle": "2022-07-07T14:36:15.511188Z",
     "shell.execute_reply": "2022-07-07T14:36:15.510506Z"
    },
    "lines_to_next_cell": 0,
    "papermill": {
     "duration": 0.00915,
     "end_time": "2022-07-07T14:36:15.512485",
     "exception": false,
     "start_time": "2022-07-07T14:36:15.503335",
     "status": "completed"
    },
    "tags": []
   },
   "outputs": [],
   "source": [
    "# -----------------------------------------------------------------------"
   ]
  },
  {
   "cell_type": "markdown",
   "id": "5da3b663",
   "metadata": {
    "papermill": {
     "duration": 0.003934,
     "end_time": "2022-07-07T14:36:15.520275",
     "exception": false,
     "start_time": "2022-07-07T14:36:15.516341",
     "status": "completed"
    },
    "tags": []
   },
   "source": [
    "---"
   ]
  },
  {
   "cell_type": "markdown",
   "id": "bb9bd51f",
   "metadata": {
    "lines_to_next_cell": 2,
    "papermill": {
     "duration": 0.003688,
     "end_time": "2022-07-07T14:36:15.527650",
     "exception": false,
     "start_time": "2022-07-07T14:36:15.523962",
     "status": "completed"
    },
    "tags": []
   },
   "source": [
    "### Notebook code"
   ]
  },
  {
   "cell_type": "code",
   "execution_count": 5,
   "id": "d0f04aa4",
   "metadata": {
    "execution": {
     "iopub.execute_input": "2022-07-07T14:36:15.536242Z",
     "iopub.status.busy": "2022-07-07T14:36:15.535809Z",
     "iopub.status.idle": "2022-07-07T14:36:16.636195Z",
     "shell.execute_reply": "2022-07-07T14:36:16.635505Z"
    },
    "papermill": {
     "duration": 1.23281,
     "end_time": "2022-07-07T14:36:16.764274",
     "exception": false,
     "start_time": "2022-07-07T14:36:15.531464",
     "status": "completed"
    },
    "tags": []
   },
   "outputs": [
    {
     "name": "stderr",
     "output_type": "stream",
     "text": [
      "2022-07-07 14:36:16,422\tINFO worker.py:842 -- Connecting to existing Ray cluster at address: 172.17.0.2:6379\n"
     ]
    }
   ],
   "source": [
    "import itertools as it\n",
    "\n",
    "#\n",
    "import numpy as np\n",
    "import matplotlib.pyplot as plt\n",
    "\n",
    "#\n",
    "from pynb_dag_runner.tasks.task_opentelemetry_logging import PydarLogger\n",
    "\n",
    "#\n",
    "from common.io import datalake_root\n",
    "\n",
    "logger = PydarLogger(P)"
   ]
  },
  {
   "cell_type": "markdown",
   "id": "60b88b9a",
   "metadata": {
    "papermill": {
     "duration": 0.004987,
     "end_time": "2022-07-07T14:36:16.773452",
     "exception": false,
     "start_time": "2022-07-07T14:36:16.768465",
     "status": "completed"
    },
    "tags": []
   },
   "source": [
    "## Load persisted onnx-model and evaluation data"
   ]
  },
  {
   "cell_type": "code",
   "execution_count": 6,
   "id": "b3299fdb",
   "metadata": {
    "execution": {
     "iopub.execute_input": "2022-07-07T14:36:16.788111Z",
     "iopub.status.busy": "2022-07-07T14:36:16.787659Z",
     "iopub.status.idle": "2022-07-07T14:36:16.792038Z",
     "shell.execute_reply": "2022-07-07T14:36:16.791391Z"
    },
    "papermill": {
     "duration": 0.014923,
     "end_time": "2022-07-07T14:36:16.797151",
     "exception": false,
     "start_time": "2022-07-07T14:36:16.782228",
     "status": "completed"
    },
    "tags": []
   },
   "outputs": [],
   "source": [
    "from common.io import read_onnx, get_onnx_inputs, get_onnx_outputs, read_numpy"
   ]
  },
  {
   "cell_type": "code",
   "execution_count": 7,
   "id": "4789666d",
   "metadata": {
    "execution": {
     "iopub.execute_input": "2022-07-07T14:36:16.817410Z",
     "iopub.status.busy": "2022-07-07T14:36:16.817095Z",
     "iopub.status.idle": "2022-07-07T14:36:16.828109Z",
     "shell.execute_reply": "2022-07-07T14:36:16.827474Z"
    },
    "lines_to_next_cell": 0,
    "papermill": {
     "duration": 0.020649,
     "end_time": "2022-07-07T14:36:16.829584",
     "exception": false,
     "start_time": "2022-07-07T14:36:16.808935",
     "status": "completed"
    },
    "tags": []
   },
   "outputs": [],
   "source": [
    "onnx_inference_session = read_onnx(\n",
    "    datalake_root(P)\n",
    "    / \"models\"\n",
    "    / f\"nr_train_images={P['task.nr_train_images']}\"\n",
    "    / \"model.onnx\"\n",
    ")"
   ]
  },
  {
   "cell_type": "markdown",
   "id": "0dd2e292",
   "metadata": {
    "papermill": {
     "duration": 0.00413,
     "end_time": "2022-07-07T14:36:16.838146",
     "exception": false,
     "start_time": "2022-07-07T14:36:16.834016",
     "status": "completed"
    },
    "tags": []
   },
   "source": [
    "### Record structure of inputs and outputs for ONNX model\n",
    "\n",
    "(this should likely be done in training notebook)"
   ]
  },
  {
   "cell_type": "code",
   "execution_count": 8,
   "id": "6ba0e835",
   "metadata": {
    "execution": {
     "iopub.execute_input": "2022-07-07T14:36:16.847658Z",
     "iopub.status.busy": "2022-07-07T14:36:16.847341Z",
     "iopub.status.idle": "2022-07-07T14:36:16.853005Z",
     "shell.execute_reply": "2022-07-07T14:36:16.852246Z"
    },
    "papermill": {
     "duration": 0.019358,
     "end_time": "2022-07-07T14:36:16.861675",
     "exception": false,
     "start_time": "2022-07-07T14:36:16.842317",
     "status": "completed"
    },
    "tags": []
   },
   "outputs": [
    {
     "name": "stdout",
     "output_type": "stream",
     "text": [
      "{\n",
      "  \"inputs\": [\n",
      "    {\n",
      "      \"name\": \"float_input_8x8_image\",\n",
      "      \"shape\": [\n",
      "        null,\n",
      "        64\n",
      "      ],\n",
      "      \"type\": \"tensor(float)\"\n",
      "    }\n",
      "  ],\n",
      "  \"outputs\": [\n",
      "    {\n",
      "      \"name\": \"output_label\",\n",
      "      \"shape\": [\n",
      "        null\n",
      "      ],\n",
      "      \"type\": \"tensor(int64)\"\n",
      "    },\n",
      "    {\n",
      "      \"name\": \"output_probability\",\n",
      "      \"shape\": [],\n",
      "      \"type\": \"seq(map(int64,tensor(float)))\"\n",
      "    }\n",
      "  ]\n",
      "}\n"
     ]
    }
   ],
   "source": [
    "import json\n",
    "\n",
    "onnx_io = json.dumps(\n",
    "    {\n",
    "        \"inputs\": get_onnx_inputs(onnx_inference_session),\n",
    "        \"outputs\": get_onnx_outputs(onnx_inference_session),\n",
    "    },\n",
    "    indent=2,\n",
    ")\n",
    "\n",
    "\n",
    "logger.log_artefact(\"onnx_io_structure.json\", onnx_io)\n",
    "print(onnx_io)"
   ]
  },
  {
   "cell_type": "markdown",
   "id": "80399b78",
   "metadata": {
    "papermill": {
     "duration": 0.004025,
     "end_time": "2022-07-07T14:36:16.870119",
     "exception": false,
     "start_time": "2022-07-07T14:36:16.866094",
     "status": "completed"
    },
    "tags": []
   },
   "source": [
    "### Evaluate model performance on evaluation data set"
   ]
  },
  {
   "cell_type": "code",
   "execution_count": 9,
   "id": "f398ca0d",
   "metadata": {
    "execution": {
     "iopub.execute_input": "2022-07-07T14:36:16.880043Z",
     "iopub.status.busy": "2022-07-07T14:36:16.879745Z",
     "iopub.status.idle": "2022-07-07T14:36:16.884829Z",
     "shell.execute_reply": "2022-07-07T14:36:16.884152Z"
    },
    "papermill": {
     "duration": 0.011963,
     "end_time": "2022-07-07T14:36:16.886676",
     "exception": false,
     "start_time": "2022-07-07T14:36:16.874713",
     "status": "completed"
    },
    "tags": []
   },
   "outputs": [],
   "source": [
    "# load evaluation data\n",
    "X_test = read_numpy(datalake_root(P) / \"test-data\" / \"digits.numpy\")\n",
    "y_test = read_numpy(datalake_root(P) / \"test-data\" / \"labels.numpy\")"
   ]
  },
  {
   "cell_type": "code",
   "execution_count": 10,
   "id": "b18c7924",
   "metadata": {
    "execution": {
     "iopub.execute_input": "2022-07-07T14:36:16.896346Z",
     "iopub.status.busy": "2022-07-07T14:36:16.895987Z",
     "iopub.status.idle": "2022-07-07T14:36:16.914418Z",
     "shell.execute_reply": "2022-07-07T14:36:16.913806Z"
    },
    "papermill": {
     "duration": 0.026818,
     "end_time": "2022-07-07T14:36:16.917578",
     "exception": false,
     "start_time": "2022-07-07T14:36:16.890760",
     "status": "completed"
    },
    "tags": []
   },
   "outputs": [],
   "source": [
    "def get_model_outputs(X, onnx_inference_session):\n",
    "    y_pred_labels, y_pred_map = onnx_inference_session.run(\n",
    "        [\"output_label\", \"output_probability\"],\n",
    "        {\"float_input_8x8_image\": X.astype(np.float32)},\n",
    "    )\n",
    "    y_pred_probs = np.array(\n",
    "        [[probabilities[digit] for digit in range(10)] for probabilities in y_pred_map]\n",
    "    )\n",
    "\n",
    "    assert y_pred_labels.shape == (X.shape[0],)\n",
    "    assert y_pred_probs.shape == (X.shape[0], 10)\n",
    "\n",
    "    return y_pred_labels, y_pred_probs\n",
    "\n",
    "\n",
    "# Note: as shown in the training notebook, the predicted labels and probabilities\n",
    "# computed below need not be compatible.\n",
    "y_pred_labels_test, y_pred_probs_test = get_model_outputs(\n",
    "    X_test, onnx_inference_session\n",
    ")"
   ]
  },
  {
   "cell_type": "markdown",
   "id": "24d8149f",
   "metadata": {
    "papermill": {
     "duration": 0.004699,
     "end_time": "2022-07-07T14:36:16.926881",
     "exception": false,
     "start_time": "2022-07-07T14:36:16.922182",
     "status": "completed"
    },
    "tags": []
   },
   "source": [
    "### Confusion matrix"
   ]
  },
  {
   "cell_type": "code",
   "execution_count": 11,
   "id": "6b45136f",
   "metadata": {
    "execution": {
     "iopub.execute_input": "2022-07-07T14:36:16.936803Z",
     "iopub.status.busy": "2022-07-07T14:36:16.936269Z",
     "iopub.status.idle": "2022-07-07T14:36:16.939339Z",
     "shell.execute_reply": "2022-07-07T14:36:16.938708Z"
    },
    "papermill": {
     "duration": 0.010247,
     "end_time": "2022-07-07T14:36:16.941332",
     "exception": false,
     "start_time": "2022-07-07T14:36:16.931085",
     "status": "completed"
    },
    "tags": []
   },
   "outputs": [],
   "source": [
    "# TODO"
   ]
  },
  {
   "cell_type": "markdown",
   "id": "00dd531a",
   "metadata": {
    "papermill": {
     "duration": 0.004382,
     "end_time": "2022-07-07T14:36:16.950000",
     "exception": false,
     "start_time": "2022-07-07T14:36:16.945618",
     "status": "completed"
    },
    "tags": []
   },
   "source": [
    "### Plot predicted probabilities for each classifier over all evaluation digit images"
   ]
  },
  {
   "cell_type": "code",
   "execution_count": 12,
   "id": "0d47120a",
   "metadata": {
    "execution": {
     "iopub.execute_input": "2022-07-07T14:36:16.959703Z",
     "iopub.status.busy": "2022-07-07T14:36:16.959417Z",
     "iopub.status.idle": "2022-07-07T14:36:19.863028Z",
     "shell.execute_reply": "2022-07-07T14:36:19.862481Z"
    },
    "papermill": {
     "duration": 2.910433,
     "end_time": "2022-07-07T14:36:19.864712",
     "exception": false,
     "start_time": "2022-07-07T14:36:16.954279",
     "status": "completed"
    },
    "tags": []
   },
   "outputs": [
    {
     "data": {
      "image/png": "[encoded data removed]",
      "text/plain": [
       "<Figure size 1152x432 with 10 Axes>"
      ]
     },
     "metadata": {
      "needs_background": "light"
     },
     "output_type": "display_data"
    }
   ],
   "source": [
    "def plot_per_digit_probabilities(y_pred_probs):\n",
    "    fig, axs = plt.subplots(nrows=2, ncols=5, figsize=(16, 6))\n",
    "\n",
    "    for (r, c), digit, ax in zip(\n",
    "        it.product(range(2), range(5)), range(10), axs.reshape(-1)\n",
    "    ):\n",
    "        ax.hist(y_pred_probs_test[:, digit], bins=20)\n",
    "\n",
    "        ax.set_title(f\"Digit {digit}\")\n",
    "        if r == 1 and c == 2:\n",
    "            ax.set_xlabel(\"probability\", fontsize=16)\n",
    "\n",
    "        if c == 0:\n",
    "            ax.set_ylabel(\"counts\", fontsize=16)\n",
    "        ax.set_yscale(\"log\")\n",
    "\n",
    "    fig.tight_layout()\n",
    "    fig.suptitle(\n",
    "        f\"Distributions of prediction probabilities for each digit \"\n",
    "        f\"(on evaluation data, n={y_pred_probs.shape[0]})\",\n",
    "        fontsize=20,\n",
    "    )\n",
    "    fig.tight_layout()\n",
    "    fig.show()\n",
    "\n",
    "    return fig\n",
    "\n",
    "\n",
    "fig = plot_per_digit_probabilities(y_pred_probs_test)"
   ]
  },
  {
   "cell_type": "markdown",
   "id": "331e052b",
   "metadata": {
    "papermill": {
     "duration": 0.006693,
     "end_time": "2022-07-07T14:36:19.878435",
     "exception": false,
     "start_time": "2022-07-07T14:36:19.871742",
     "status": "completed"
    },
    "tags": []
   },
   "source": [
    "From the above distributions we see that most digits have clear separation between\n",
    "high and lower probabilities. Morover, in each case there is roughly an order of\n",
    "magnitude more of digits with low probabilities. This is compatible with digits\n",
    "being roughly evenly distributed in the data."
   ]
  },
  {
   "cell_type": "code",
   "execution_count": 13,
   "id": "86b6c37d",
   "metadata": {
    "execution": {
     "iopub.execute_input": "2022-07-07T14:36:19.889599Z",
     "iopub.status.busy": "2022-07-07T14:36:19.889320Z",
     "iopub.status.idle": "2022-07-07T14:36:20.284696Z",
     "shell.execute_reply": "2022-07-07T14:36:20.284056Z"
    },
    "papermill": {
     "duration": 0.403226,
     "end_time": "2022-07-07T14:36:20.286526",
     "exception": false,
     "start_time": "2022-07-07T14:36:19.883300",
     "status": "completed"
    },
    "tags": []
   },
   "outputs": [],
   "source": [
    "logger.log_figure(\"per-digit-probabilities.png\", fig)"
   ]
  },
  {
   "cell_type": "markdown",
   "id": "54ee4684",
   "metadata": {
    "papermill": {
     "duration": 0.004945,
     "end_time": "2022-07-07T14:36:20.296581",
     "exception": false,
     "start_time": "2022-07-07T14:36:20.291636",
     "status": "completed"
    },
    "tags": []
   },
   "source": [
    "### Plot ROC curves for individual one-vs-rest classifiers"
   ]
  },
  {
   "cell_type": "code",
   "execution_count": 14,
   "id": "d63f62a2",
   "metadata": {
    "execution": {
     "iopub.execute_input": "2022-07-07T14:36:20.308004Z",
     "iopub.status.busy": "2022-07-07T14:36:20.307739Z",
     "iopub.status.idle": "2022-07-07T14:36:20.673267Z",
     "shell.execute_reply": "2022-07-07T14:36:20.672614Z"
    },
    "papermill": {
     "duration": 0.372937,
     "end_time": "2022-07-07T14:36:20.674890",
     "exception": false,
     "start_time": "2022-07-07T14:36:20.301953",
     "status": "completed"
    },
    "tags": []
   },
   "outputs": [],
   "source": [
    "from sklearn import metrics"
   ]
  },
  {
   "cell_type": "code",
   "execution_count": 15,
   "id": "588d01c5",
   "metadata": {
    "execution": {
     "iopub.execute_input": "2022-07-07T14:36:20.686301Z",
     "iopub.status.busy": "2022-07-07T14:36:20.685993Z",
     "iopub.status.idle": "2022-07-07T14:36:21.679889Z",
     "shell.execute_reply": "2022-07-07T14:36:21.679313Z"
    },
    "papermill": {
     "duration": 1.001814,
     "end_time": "2022-07-07T14:36:21.681621",
     "exception": false,
     "start_time": "2022-07-07T14:36:20.679807",
     "status": "completed"
    },
    "tags": []
   },
   "outputs": [
    {
     "data": {
      "image/png": "[encoded data removed]",
      "text/plain": [
       "<Figure size 1152x576 with 10 Axes>"
      ]
     },
     "metadata": {
      "needs_background": "light"
     },
     "output_type": "display_data"
    }
   ],
   "source": [
    "def plot_roc_curves(y, y_pred_probs):\n",
    "    # based on example code\n",
    "    # https://scikit-learn.org/stable/auto_examples/model_selection/plot_roc.html\n",
    "\n",
    "    fig, axs = plt.subplots(nrows=2, ncols=5, figsize=(16, 8))\n",
    "\n",
    "    roc_auc_dict = {}\n",
    "\n",
    "    for (r, c), digit, ax in zip(\n",
    "        it.product(range(2), range(5)), range(10), axs.reshape(-1)\n",
    "    ):\n",
    "        fpr, tpr, _ = metrics.roc_curve(y == digit, y_pred_probs[:, digit])\n",
    "        auc = metrics.auc(fpr, tpr)\n",
    "        roc_auc_dict[str(digit)] = auc\n",
    "\n",
    "        ax.plot(fpr, tpr, label=f\"ROC AUC={round(auc, 3)}\")\n",
    "\n",
    "        ax.set_title(f\"\\nDigit {digit}\", fontsize=16)\n",
    "        if r == 1:\n",
    "            ax.set_xlabel(\"FPR\", fontsize=18)\n",
    "\n",
    "        if c == 0:\n",
    "            ax.set_ylabel(\"TPR\", fontsize=18)\n",
    "\n",
    "        ax.set_xlim([-0.05, 1.05])\n",
    "        ax.set_ylim([-0.05, 1.05])\n",
    "        ax.legend(loc=\"lower right\", frameon=False, fontsize=14)\n",
    "\n",
    "    fig.tight_layout()\n",
    "    fig.suptitle(\n",
    "        f\"ROC plots for one-vs-rest performances \"\n",
    "        f\"(on evaluation data, n={y_pred_probs_test.shape[1]}\",\n",
    "        fontsize=22,\n",
    "    )\n",
    "    fig.tight_layout()\n",
    "    fig.show()\n",
    "\n",
    "    return roc_auc_dict, fig\n",
    "\n",
    "\n",
    "roc_auc_dict, fig = plot_roc_curves(y_test, y_pred_probs_test)"
   ]
  },
  {
   "cell_type": "code",
   "execution_count": 16,
   "id": "4a43e4d7",
   "metadata": {
    "execution": {
     "iopub.execute_input": "2022-07-07T14:36:21.693889Z",
     "iopub.status.busy": "2022-07-07T14:36:21.693645Z",
     "iopub.status.idle": "2022-07-07T14:36:21.902647Z",
     "shell.execute_reply": "2022-07-07T14:36:21.901973Z"
    },
    "papermill": {
     "duration": 0.217634,
     "end_time": "2022-07-07T14:36:21.904944",
     "exception": false,
     "start_time": "2022-07-07T14:36:21.687310",
     "status": "completed"
    },
    "tags": []
   },
   "outputs": [],
   "source": [
    "logger.log_figure(\"per-digit-roc-curves.png\", fig)"
   ]
  },
  {
   "cell_type": "code",
   "execution_count": 17,
   "id": "59cd3516",
   "metadata": {
    "execution": {
     "iopub.execute_input": "2022-07-07T14:36:21.917566Z",
     "iopub.status.busy": "2022-07-07T14:36:21.917318Z",
     "iopub.status.idle": "2022-07-07T14:36:21.921902Z",
     "shell.execute_reply": "2022-07-07T14:36:21.921384Z"
    },
    "papermill": {
     "duration": 0.014456,
     "end_time": "2022-07-07T14:36:21.925527",
     "exception": false,
     "start_time": "2022-07-07T14:36:21.911071",
     "status": "completed"
    },
    "tags": []
   },
   "outputs": [
    {
     "data": {
      "text/plain": [
       "{'0': 1.0,\n",
       " '1': 0.999025304592315,\n",
       " '2': 1.0,\n",
       " '3': 0.9998125585754452,\n",
       " '4': 0.9996189605243103,\n",
       " '5': 0.9994001874414246,\n",
       " '6': 0.999923792104862,\n",
       " '7': 0.9997713763145862,\n",
       " '8': 0.9955075662042875,\n",
       " '9': 0.9996189605243103}"
      ]
     },
     "execution_count": 17,
     "metadata": {},
     "output_type": "execute_result"
    }
   ],
   "source": [
    "roc_auc_dict"
   ]
  },
  {
   "cell_type": "code",
   "execution_count": 18,
   "id": "4621c145",
   "metadata": {
    "execution": {
     "iopub.execute_input": "2022-07-07T14:36:21.939007Z",
     "iopub.status.busy": "2022-07-07T14:36:21.938777Z",
     "iopub.status.idle": "2022-07-07T14:36:21.942400Z",
     "shell.execute_reply": "2022-07-07T14:36:21.941883Z"
    },
    "papermill": {
     "duration": 0.013786,
     "end_time": "2022-07-07T14:36:21.945596",
     "exception": false,
     "start_time": "2022-07-07T14:36:21.931810",
     "status": "completed"
    },
    "tags": []
   },
   "outputs": [
    {
     "name": "stdout",
     "output_type": "stream",
     "text": [
      " - Logging roc_auc_per_digit (json) : {'0': 1.0, '1': 0.999025304592315, '2': 1.0, '3': 0.9998125585754452, '4': 0.9996189605243103, '5': 0.9994001874414246, '6': 0.999923792104862, '7': 0.9997713763145862, '8': 0.9955075662042875, '9': 0.9996189605243103}\n"
     ]
    }
   ],
   "source": [
    "logger.log_value(\"roc_auc_per_digit\", roc_auc_dict)"
   ]
  },
  {
   "cell_type": "markdown",
   "id": "3bfaaf77",
   "metadata": {
    "papermill": {
     "duration": 0.005703,
     "end_time": "2022-07-07T14:36:21.956577",
     "exception": false,
     "start_time": "2022-07-07T14:36:21.950874",
     "status": "completed"
    },
    "tags": []
   },
   "source": [
    "### Compute and log mean ROC AUC score averaged over all digits"
   ]
  },
  {
   "cell_type": "code",
   "execution_count": 19,
   "id": "bac0bfa4",
   "metadata": {
    "execution": {
     "iopub.execute_input": "2022-07-07T14:36:21.968472Z",
     "iopub.status.busy": "2022-07-07T14:36:21.968242Z",
     "iopub.status.idle": "2022-07-07T14:36:21.981024Z",
     "shell.execute_reply": "2022-07-07T14:36:21.980532Z"
    },
    "papermill": {
     "duration": 0.020685,
     "end_time": "2022-07-07T14:36:21.982628",
     "exception": false,
     "start_time": "2022-07-07T14:36:21.961943",
     "status": "completed"
    },
    "tags": []
   },
   "outputs": [
    {
     "name": "stdout",
     "output_type": "stream",
     "text": [
      " - Logging roc_auc_class_mean (float) : 0.9992678706281541\n"
     ]
    }
   ],
   "source": [
    "roc_auc_macro = np.mean(list(roc_auc_dict.values()))\n",
    "\n",
    "logger.log_float(\"roc_auc_class_mean\", roc_auc_macro)\n",
    "\n",
    "# assert that the same value can be computed directly using sklearn\n",
    "assert roc_auc_macro == metrics.roc_auc_score(\n",
    "    y_test, y_pred_probs_test, average=\"macro\", multi_class=\"ovr\"\n",
    ")"
   ]
  },
  {
   "cell_type": "code",
   "execution_count": 20,
   "id": "282f1e85",
   "metadata": {
    "execution": {
     "iopub.execute_input": "2022-07-07T14:36:21.995211Z",
     "iopub.status.busy": "2022-07-07T14:36:21.994990Z",
     "iopub.status.idle": "2022-07-07T14:36:21.997747Z",
     "shell.execute_reply": "2022-07-07T14:36:21.997232Z"
    },
    "lines_to_next_cell": 0,
    "papermill": {
     "duration": 0.011565,
     "end_time": "2022-07-07T14:36:22.000051",
     "exception": false,
     "start_time": "2022-07-07T14:36:21.988486",
     "status": "completed"
    },
    "tags": []
   },
   "outputs": [],
   "source": [
    "# ---"
   ]
  },
  {
   "cell_type": "code",
   "execution_count": null,
   "id": "735883fd",
   "metadata": {
    "papermill": {
     "duration": 0.006301,
     "end_time": "2022-07-07T14:36:22.012340",
     "exception": false,
     "start_time": "2022-07-07T14:36:22.006039",
     "status": "completed"
    },
    "tags": []
   },
   "outputs": [],
   "source": []
  }
 ],
 "metadata": {
  "jupytext": {
   "cell_metadata_filter": "tags,-all",
   "main_language": "python",
   "notebook_metadata_filter": "-all"
  },
  "language_info": {
   "codemirror_mode": {
    "name": "ipython",
    "version": 3
   },
   "file_extension": ".py",
   "mimetype": "text/x-python",
   "name": "python",
   "nbconvert_exporter": "python",
   "pygments_lexer": "ipython3",
   "version": "3.8.10"
  },
  "papermill": {
   "default_parameters": {},
   "duration": 9.113211,
   "end_time": "2022-07-07T14:36:23.140640",
   "environment_variables": {},
   "exception": null,
   "input_path": "/home/host_user/workspace/mnist-demo-pipeline/mnist-demo-pipeline/notebooks/temp-notebook-8piio_62.ipynb",
   "output_path": "notebooks/benchmark-model.ipynb",
   "parameters": {
    "P": {
     "_opentelemetry_traceparent": "00-b43d28cb3639d104708e53a0cb86f226-c10cc863802a0a95-01",
     "pipeline.data_lake_root": "/pipeline-outputs/data-lake",
     "pipeline.github.actor": "matiasdahl",
     "pipeline.github.base_ref": "development",
     "pipeline.github.event_name": "pull_request",
     "pipeline.github.head_ref": "readme-link-to-docs",
     "pipeline.github.job": "run-tests-pipeline-and-persist-pipeline-outputs",
     "pipeline.github.ref": "refs/pull/56/merge",
     "pipeline.github.ref_name": "56/merge",
     "pipeline.github.ref_type": "branch",
     "pipeline.github.repository": "pynb-dag-runner/mnist-digits-demo-pipeline",
     "pipeline.github.run_id": "2630256446",
     "pipeline.github.runner_name": "GitHub Actions 4",
     "pipeline.github.sha": "9618eea67de36c0cc64d4fc66ed9a3f1b50bbff3",
     "pipeline.github.workflow": "Run automated tests, pipeline and deploy results to static reporting site",
     "pipeline.pipeline_run_id": "e20e895d-454d-4542-b4da-b1ac1d08cc0d",
     "pipeline.run_environment": "ci",
     "run.retry_nr": "0",
     "task.max_nr_retries": "1",
     "task.notebook": "notebooks/benchmark-model.py",
     "task.nr_train_images": 1000,
     "task.num_cpus": 1,
     "task.timeout_s": "None"
    }
   },
   "start_time": "2022-07-07T14:36:14.027429",
   "version": "2.3.3"
  }
 },
 "nbformat": 4,
 "nbformat_minor": 5
}