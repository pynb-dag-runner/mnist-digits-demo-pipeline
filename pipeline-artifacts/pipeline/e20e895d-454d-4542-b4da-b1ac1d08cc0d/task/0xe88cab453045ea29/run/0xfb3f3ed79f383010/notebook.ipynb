{
 "cells": [
  {
   "cell_type": "markdown",
   "id": "70bce041",
   "metadata": {
    "papermill": {
     "duration": 0.004995,
     "end_time": "2022-07-07T14:36:05.277854",
     "exception": false,
     "start_time": "2022-07-07T14:36:05.272859",
     "status": "completed"
    },
    "tags": []
   },
   "source": [
    "# Benchmark model\n",
    "\n",
    "The purpose of this notebook is to benchmark persisted onnx-model (trained in the\n",
    "previous step) against evaluation set."
   ]
  },
  {
   "cell_type": "markdown",
   "id": "45715819",
   "metadata": {
    "papermill": {
     "duration": 0.003714,
     "end_time": "2022-07-07T14:36:05.286496",
     "exception": false,
     "start_time": "2022-07-07T14:36:05.282782",
     "status": "completed"
    },
    "tags": []
   },
   "source": [
    "### Determine run parameters"
   ]
  },
  {
   "cell_type": "code",
   "execution_count": 1,
   "id": "f4a897ee",
   "metadata": {
    "execution": {
     "iopub.execute_input": "2022-07-07T14:36:05.300048Z",
     "iopub.status.busy": "2022-07-07T14:36:05.299744Z",
     "iopub.status.idle": "2022-07-07T14:36:05.307017Z",
     "shell.execute_reply": "2022-07-07T14:36:05.306368Z"
    },
    "lines_to_next_cell": 0,
    "papermill": {
     "duration": 0.01912,
     "end_time": "2022-07-07T14:36:05.309540",
     "exception": false,
     "start_time": "2022-07-07T14:36:05.290420",
     "status": "completed"
    },
    "tags": []
   },
   "outputs": [],
   "source": [
    "# ----------------- Parameters for interactive development --------------\n",
    "P = {\n",
    "    \"pipeline.data_lake_root\": \"/pipeline-outputs/data-lake\",\n",
    "    \"task.nr_train_images\": 600,\n",
    "}"
   ]
  },
  {
   "cell_type": "code",
   "execution_count": 2,
   "id": "388f19d5",
   "metadata": {
    "execution": {
     "iopub.execute_input": "2022-07-07T14:36:05.318787Z",
     "iopub.status.busy": "2022-07-07T14:36:05.318561Z",
     "iopub.status.idle": "2022-07-07T14:36:05.321690Z",
     "shell.execute_reply": "2022-07-07T14:36:05.321190Z"
    },
    "lines_to_next_cell": 0,
    "papermill": {
     "duration": 0.010318,
     "end_time": "2022-07-07T14:36:05.324163",
     "exception": false,
     "start_time": "2022-07-07T14:36:05.313845",
     "status": "completed"
    },
    "tags": [
     "parameters"
    ]
   },
   "outputs": [],
   "source": [
    "# - During automated runs parameters will be injected in the below cell -"
   ]
  },
  {
   "cell_type": "code",
   "execution_count": 3,
   "id": "8aa78840",
   "metadata": {
    "execution": {
     "iopub.execute_input": "2022-07-07T14:36:05.332462Z",
     "iopub.status.busy": "2022-07-07T14:36:05.332257Z",
     "iopub.status.idle": "2022-07-07T14:36:05.336440Z",
     "shell.execute_reply": "2022-07-07T14:36:05.335960Z"
    },
    "papermill": {
     "duration": 0.010773,
     "end_time": "2022-07-07T14:36:05.338604",
     "exception": false,
     "start_time": "2022-07-07T14:36:05.327831",
     "status": "completed"
    },
    "tags": [
     "injected-parameters"
    ]
   },
   "outputs": [],
   "source": [
    "# Parameters\n",
    "P = {\n",
    "    \"pipeline.data_lake_root\": \"/pipeline-outputs/data-lake\",\n",
    "    \"pipeline.run_environment\": \"ci\",\n",
    "    \"pipeline.pipeline_run_id\": \"e20e895d-454d-4542-b4da-b1ac1d08cc0d\",\n",
    "    \"pipeline.github.repository\": \"pynb-dag-runner/mnist-digits-demo-pipeline\",\n",
    "    \"pipeline.github.workflow\": \"Run automated tests, pipeline and deploy results to static reporting site\",\n",
    "    \"pipeline.github.runner_name\": \"GitHub Actions 4\",\n",
    "    \"pipeline.github.run_id\": \"2630256446\",\n",
    "    \"pipeline.github.actor\": \"matiasdahl\",\n",
    "    \"pipeline.github.job\": \"run-tests-pipeline-and-persist-pipeline-outputs\",\n",
    "    \"pipeline.github.base_ref\": \"development\",\n",
    "    \"pipeline.github.head_ref\": \"readme-link-to-docs\",\n",
    "    \"pipeline.github.sha\": \"9618eea67de36c0cc64d4fc66ed9a3f1b50bbff3\",\n",
    "    \"pipeline.github.ref\": \"refs/pull/56/merge\",\n",
    "    \"pipeline.github.ref_type\": \"branch\",\n",
    "    \"pipeline.github.ref_name\": \"56/merge\",\n",
    "    \"pipeline.github.event_name\": \"pull_request\",\n",
    "    \"task.nr_train_images\": 600,\n",
    "    \"task.notebook\": \"notebooks/benchmark-model.py\",\n",
    "    \"task.max_nr_retries\": \"1\",\n",
    "    \"run.retry_nr\": \"0\",\n",
    "    \"task.timeout_s\": \"None\",\n",
    "    \"task.num_cpus\": 1,\n",
    "    \"_opentelemetry_traceparent\": \"00-b43d28cb3639d104708e53a0cb86f226-2eb74c5d0a7ff1d1-01\",\n",
    "}\n"
   ]
  },
  {
   "cell_type": "code",
   "execution_count": 4,
   "id": "9c4f1718",
   "metadata": {
    "execution": {
     "iopub.execute_input": "2022-07-07T14:36:05.348622Z",
     "iopub.status.busy": "2022-07-07T14:36:05.348416Z",
     "iopub.status.idle": "2022-07-07T14:36:05.350887Z",
     "shell.execute_reply": "2022-07-07T14:36:05.350409Z"
    },
    "lines_to_next_cell": 0,
    "papermill": {
     "duration": 0.010879,
     "end_time": "2022-07-07T14:36:05.353334",
     "exception": false,
     "start_time": "2022-07-07T14:36:05.342455",
     "status": "completed"
    },
    "tags": []
   },
   "outputs": [],
   "source": [
    "# -----------------------------------------------------------------------"
   ]
  },
  {
   "cell_type": "markdown",
   "id": "e6973209",
   "metadata": {
    "papermill": {
     "duration": 0.00384,
     "end_time": "2022-07-07T14:36:05.361112",
     "exception": false,
     "start_time": "2022-07-07T14:36:05.357272",
     "status": "completed"
    },
    "tags": []
   },
   "source": [
    "---"
   ]
  },
  {
   "cell_type": "markdown",
   "id": "61c797b2",
   "metadata": {
    "lines_to_next_cell": 2,
    "papermill": {
     "duration": 0.003894,
     "end_time": "2022-07-07T14:36:05.368707",
     "exception": false,
     "start_time": "2022-07-07T14:36:05.364813",
     "status": "completed"
    },
    "tags": []
   },
   "source": [
    "### Notebook code"
   ]
  },
  {
   "cell_type": "code",
   "execution_count": 5,
   "id": "ae8a3990",
   "metadata": {
    "execution": {
     "iopub.execute_input": "2022-07-07T14:36:05.377335Z",
     "iopub.status.busy": "2022-07-07T14:36:05.377127Z",
     "iopub.status.idle": "2022-07-07T14:36:06.385425Z",
     "shell.execute_reply": "2022-07-07T14:36:06.384724Z"
    },
    "papermill": {
     "duration": 1.014594,
     "end_time": "2022-07-07T14:36:06.387058",
     "exception": false,
     "start_time": "2022-07-07T14:36:05.372464",
     "status": "completed"
    },
    "tags": []
   },
   "outputs": [
    {
     "name": "stderr",
     "output_type": "stream",
     "text": [
      "2022-07-07 14:36:06,221\tINFO worker.py:842 -- Connecting to existing Ray cluster at address: 172.17.0.2:6379\n"
     ]
    }
   ],
   "source": [
    "import itertools as it\n",
    "\n",
    "#\n",
    "import numpy as np\n",
    "import matplotlib.pyplot as plt\n",
    "\n",
    "#\n",
    "from pynb_dag_runner.tasks.task_opentelemetry_logging import PydarLogger\n",
    "\n",
    "#\n",
    "from common.io import datalake_root\n",
    "\n",
    "logger = PydarLogger(P)"
   ]
  },
  {
   "cell_type": "markdown",
   "id": "f5756bc0",
   "metadata": {
    "papermill": {
     "duration": 0.004079,
     "end_time": "2022-07-07T14:36:06.395211",
     "exception": false,
     "start_time": "2022-07-07T14:36:06.391132",
     "status": "completed"
    },
    "tags": []
   },
   "source": [
    "## Load persisted onnx-model and evaluation data"
   ]
  },
  {
   "cell_type": "code",
   "execution_count": 6,
   "id": "fb399b4c",
   "metadata": {
    "execution": {
     "iopub.execute_input": "2022-07-07T14:36:06.404427Z",
     "iopub.status.busy": "2022-07-07T14:36:06.403701Z",
     "iopub.status.idle": "2022-07-07T14:36:06.407176Z",
     "shell.execute_reply": "2022-07-07T14:36:06.406572Z"
    },
    "papermill": {
     "duration": 0.010235,
     "end_time": "2022-07-07T14:36:06.409269",
     "exception": false,
     "start_time": "2022-07-07T14:36:06.399034",
     "status": "completed"
    },
    "tags": []
   },
   "outputs": [],
   "source": [
    "from common.io import read_onnx, get_onnx_inputs, get_onnx_outputs, read_numpy"
   ]
  },
  {
   "cell_type": "code",
   "execution_count": 7,
   "id": "6f91d809",
   "metadata": {
    "execution": {
     "iopub.execute_input": "2022-07-07T14:36:06.418613Z",
     "iopub.status.busy": "2022-07-07T14:36:06.418387Z",
     "iopub.status.idle": "2022-07-07T14:36:06.428673Z",
     "shell.execute_reply": "2022-07-07T14:36:06.428155Z"
    },
    "lines_to_next_cell": 0,
    "papermill": {
     "duration": 0.017067,
     "end_time": "2022-07-07T14:36:06.430283",
     "exception": false,
     "start_time": "2022-07-07T14:36:06.413216",
     "status": "completed"
    },
    "tags": []
   },
   "outputs": [],
   "source": [
    "onnx_inference_session = read_onnx(\n",
    "    datalake_root(P)\n",
    "    / \"models\"\n",
    "    / f\"nr_train_images={P['task.nr_train_images']}\"\n",
    "    / \"model.onnx\"\n",
    ")"
   ]
  },
  {
   "cell_type": "markdown",
   "id": "0ccb2533",
   "metadata": {
    "papermill": {
     "duration": 0.004917,
     "end_time": "2022-07-07T14:36:06.439097",
     "exception": false,
     "start_time": "2022-07-07T14:36:06.434180",
     "status": "completed"
    },
    "tags": []
   },
   "source": [
    "### Record structure of inputs and outputs for ONNX model\n",
    "\n",
    "(this should likely be done in training notebook)"
   ]
  },
  {
   "cell_type": "code",
   "execution_count": 8,
   "id": "ed334e1f",
   "metadata": {
    "execution": {
     "iopub.execute_input": "2022-07-07T14:36:06.448435Z",
     "iopub.status.busy": "2022-07-07T14:36:06.448181Z",
     "iopub.status.idle": "2022-07-07T14:36:06.453716Z",
     "shell.execute_reply": "2022-07-07T14:36:06.453184Z"
    },
    "papermill": {
     "duration": 0.013735,
     "end_time": "2022-07-07T14:36:06.456791",
     "exception": false,
     "start_time": "2022-07-07T14:36:06.443056",
     "status": "completed"
    },
    "tags": []
   },
   "outputs": [
    {
     "name": "stdout",
     "output_type": "stream",
     "text": [
      "{\n",
      "  \"inputs\": [\n",
      "    {\n",
      "      \"name\": \"float_input_8x8_image\",\n",
      "      \"shape\": [\n",
      "        null,\n",
      "        64\n",
      "      ],\n",
      "      \"type\": \"tensor(float)\"\n",
      "    }\n",
      "  ],\n",
      "  \"outputs\": [\n",
      "    {\n",
      "      \"name\": \"output_label\",\n",
      "      \"shape\": [\n",
      "        null\n",
      "      ],\n",
      "      \"type\": \"tensor(int64)\"\n",
      "    },\n",
      "    {\n",
      "      \"name\": \"output_probability\",\n",
      "      \"shape\": [],\n",
      "      \"type\": \"seq(map(int64,tensor(float)))\"\n",
      "    }\n",
      "  ]\n",
      "}\n"
     ]
    }
   ],
   "source": [
    "import json\n",
    "\n",
    "onnx_io = json.dumps(\n",
    "    {\n",
    "        \"inputs\": get_onnx_inputs(onnx_inference_session),\n",
    "        \"outputs\": get_onnx_outputs(onnx_inference_session),\n",
    "    },\n",
    "    indent=2,\n",
    ")\n",
    "\n",
    "\n",
    "logger.log_artefact(\"onnx_io_structure.json\", onnx_io)\n",
    "print(onnx_io)"
   ]
  },
  {
   "cell_type": "markdown",
   "id": "319414c8",
   "metadata": {
    "papermill": {
     "duration": 0.004279,
     "end_time": "2022-07-07T14:36:06.465346",
     "exception": false,
     "start_time": "2022-07-07T14:36:06.461067",
     "status": "completed"
    },
    "tags": []
   },
   "source": [
    "### Evaluate model performance on evaluation data set"
   ]
  },
  {
   "cell_type": "code",
   "execution_count": 9,
   "id": "23a5126d",
   "metadata": {
    "execution": {
     "iopub.execute_input": "2022-07-07T14:36:06.474912Z",
     "iopub.status.busy": "2022-07-07T14:36:06.474613Z",
     "iopub.status.idle": "2022-07-07T14:36:06.479243Z",
     "shell.execute_reply": "2022-07-07T14:36:06.478688Z"
    },
    "papermill": {
     "duration": 0.01278,
     "end_time": "2022-07-07T14:36:06.482093",
     "exception": false,
     "start_time": "2022-07-07T14:36:06.469313",
     "status": "completed"
    },
    "tags": []
   },
   "outputs": [],
   "source": [
    "# load evaluation data\n",
    "X_test = read_numpy(datalake_root(P) / \"test-data\" / \"digits.numpy\")\n",
    "y_test = read_numpy(datalake_root(P) / \"test-data\" / \"labels.numpy\")"
   ]
  },
  {
   "cell_type": "code",
   "execution_count": 10,
   "id": "801a03fe",
   "metadata": {
    "execution": {
     "iopub.execute_input": "2022-07-07T14:36:06.491660Z",
     "iopub.status.busy": "2022-07-07T14:36:06.491420Z",
     "iopub.status.idle": "2022-07-07T14:36:06.503953Z",
     "shell.execute_reply": "2022-07-07T14:36:06.503400Z"
    },
    "papermill": {
     "duration": 0.019387,
     "end_time": "2022-07-07T14:36:06.505723",
     "exception": false,
     "start_time": "2022-07-07T14:36:06.486336",
     "status": "completed"
    },
    "tags": []
   },
   "outputs": [],
   "source": [
    "def get_model_outputs(X, onnx_inference_session):\n",
    "    y_pred_labels, y_pred_map = onnx_inference_session.run(\n",
    "        [\"output_label\", \"output_probability\"],\n",
    "        {\"float_input_8x8_image\": X.astype(np.float32)},\n",
    "    )\n",
    "    y_pred_probs = np.array(\n",
    "        [[probabilities[digit] for digit in range(10)] for probabilities in y_pred_map]\n",
    "    )\n",
    "\n",
    "    assert y_pred_labels.shape == (X.shape[0],)\n",
    "    assert y_pred_probs.shape == (X.shape[0], 10)\n",
    "\n",
    "    return y_pred_labels, y_pred_probs\n",
    "\n",
    "\n",
    "# Note: as shown in the training notebook, the predicted labels and probabilities\n",
    "# computed below need not be compatible.\n",
    "y_pred_labels_test, y_pred_probs_test = get_model_outputs(\n",
    "    X_test, onnx_inference_session\n",
    ")"
   ]
  },
  {
   "cell_type": "markdown",
   "id": "40cde7fb",
   "metadata": {
    "papermill": {
     "duration": 0.004262,
     "end_time": "2022-07-07T14:36:06.514251",
     "exception": false,
     "start_time": "2022-07-07T14:36:06.509989",
     "status": "completed"
    },
    "tags": []
   },
   "source": [
    "### Confusion matrix"
   ]
  },
  {
   "cell_type": "code",
   "execution_count": 11,
   "id": "358c5995",
   "metadata": {
    "execution": {
     "iopub.execute_input": "2022-07-07T14:36:06.523825Z",
     "iopub.status.busy": "2022-07-07T14:36:06.523220Z",
     "iopub.status.idle": "2022-07-07T14:36:06.526393Z",
     "shell.execute_reply": "2022-07-07T14:36:06.525793Z"
    },
    "papermill": {
     "duration": 0.009346,
     "end_time": "2022-07-07T14:36:06.527763",
     "exception": false,
     "start_time": "2022-07-07T14:36:06.518417",
     "status": "completed"
    },
    "tags": []
   },
   "outputs": [],
   "source": [
    "# TODO"
   ]
  },
  {
   "cell_type": "markdown",
   "id": "e98bd23e",
   "metadata": {
    "papermill": {
     "duration": 0.003943,
     "end_time": "2022-07-07T14:36:06.536070",
     "exception": false,
     "start_time": "2022-07-07T14:36:06.532127",
     "status": "completed"
    },
    "tags": []
   },
   "source": [
    "### Plot predicted probabilities for each classifier over all evaluation digit images"
   ]
  },
  {
   "cell_type": "code",
   "execution_count": 12,
   "id": "4482b25c",
   "metadata": {
    "execution": {
     "iopub.execute_input": "2022-07-07T14:36:06.545776Z",
     "iopub.status.busy": "2022-07-07T14:36:06.545335Z",
     "iopub.status.idle": "2022-07-07T14:36:09.506037Z",
     "shell.execute_reply": "2022-07-07T14:36:09.505432Z"
    },
    "papermill": {
     "duration": 2.967305,
     "end_time": "2022-07-07T14:36:09.507717",
     "exception": false,
     "start_time": "2022-07-07T14:36:06.540412",
     "status": "completed"
    },
    "tags": []
   },
   "outputs": [
    {
     "data": {
      "image/png": "[encoded data removed]",
      "text/plain": [
       "<Figure size 1152x432 with 10 Axes>"
      ]
     },
     "metadata": {
      "needs_background": "light"
     },
     "output_type": "display_data"
    }
   ],
   "source": [
    "def plot_per_digit_probabilities(y_pred_probs):\n",
    "    fig, axs = plt.subplots(nrows=2, ncols=5, figsize=(16, 6))\n",
    "\n",
    "    for (r, c), digit, ax in zip(\n",
    "        it.product(range(2), range(5)), range(10), axs.reshape(-1)\n",
    "    ):\n",
    "        ax.hist(y_pred_probs_test[:, digit], bins=20)\n",
    "\n",
    "        ax.set_title(f\"Digit {digit}\")\n",
    "        if r == 1 and c == 2:\n",
    "            ax.set_xlabel(\"probability\", fontsize=16)\n",
    "\n",
    "        if c == 0:\n",
    "            ax.set_ylabel(\"counts\", fontsize=16)\n",
    "        ax.set_yscale(\"log\")\n",
    "\n",
    "    fig.tight_layout()\n",
    "    fig.suptitle(\n",
    "        f\"Distributions of prediction probabilities for each digit \"\n",
    "        f\"(on evaluation data, n={y_pred_probs.shape[0]})\",\n",
    "        fontsize=20,\n",
    "    )\n",
    "    fig.tight_layout()\n",
    "    fig.show()\n",
    "\n",
    "    return fig\n",
    "\n",
    "\n",
    "fig = plot_per_digit_probabilities(y_pred_probs_test)"
   ]
  },
  {
   "cell_type": "markdown",
   "id": "d3d46ab9",
   "metadata": {
    "papermill": {
     "duration": 0.004773,
     "end_time": "2022-07-07T14:36:09.517559",
     "exception": false,
     "start_time": "2022-07-07T14:36:09.512786",
     "status": "completed"
    },
    "tags": []
   },
   "source": [
    "From the above distributions we see that most digits have clear separation between\n",
    "high and lower probabilities. Morover, in each case there is roughly an order of\n",
    "magnitude more of digits with low probabilities. This is compatible with digits\n",
    "being roughly evenly distributed in the data."
   ]
  },
  {
   "cell_type": "code",
   "execution_count": 13,
   "id": "269adbfe",
   "metadata": {
    "execution": {
     "iopub.execute_input": "2022-07-07T14:36:09.527749Z",
     "iopub.status.busy": "2022-07-07T14:36:09.527518Z",
     "iopub.status.idle": "2022-07-07T14:36:09.903523Z",
     "shell.execute_reply": "2022-07-07T14:36:09.902939Z"
    },
    "papermill": {
     "duration": 0.384764,
     "end_time": "2022-07-07T14:36:09.906680",
     "exception": false,
     "start_time": "2022-07-07T14:36:09.521916",
     "status": "completed"
    },
    "tags": []
   },
   "outputs": [],
   "source": [
    "logger.log_figure(\"per-digit-probabilities.png\", fig)"
   ]
  },
  {
   "cell_type": "markdown",
   "id": "a11afbd5",
   "metadata": {
    "papermill": {
     "duration": 0.004866,
     "end_time": "2022-07-07T14:36:09.916303",
     "exception": false,
     "start_time": "2022-07-07T14:36:09.911437",
     "status": "completed"
    },
    "tags": []
   },
   "source": [
    "### Plot ROC curves for individual one-vs-rest classifiers"
   ]
  },
  {
   "cell_type": "code",
   "execution_count": 14,
   "id": "f8328623",
   "metadata": {
    "execution": {
     "iopub.execute_input": "2022-07-07T14:36:09.927418Z",
     "iopub.status.busy": "2022-07-07T14:36:09.927159Z",
     "iopub.status.idle": "2022-07-07T14:36:10.288261Z",
     "shell.execute_reply": "2022-07-07T14:36:10.287405Z"
    },
    "papermill": {
     "duration": 0.368864,
     "end_time": "2022-07-07T14:36:10.290351",
     "exception": false,
     "start_time": "2022-07-07T14:36:09.921487",
     "status": "completed"
    },
    "tags": []
   },
   "outputs": [
    {
     "name": "stdout",
     "output_type": "stream",
     "text": [
      "\u001b[2m\u001b[1m\u001b[36m(scheduler +3s)\u001b[0m Tip: use `ray status` to view detailed cluster status. To disable these messages, set RAY_SCHEDULER_EVENTS=0.\n",
      "\u001b[2m\u001b[1m\u001b[33m(scheduler +3s)\u001b[0m Warning: The following resource request cannot be scheduled right now: {'CPU': 1.0}. This is likely due to all cluster resources being claimed by actors. Consider creating fewer actors or adding more nodes to this Ray cluster.\n"
     ]
    }
   ],
   "source": [
    "from sklearn import metrics"
   ]
  },
  {
   "cell_type": "code",
   "execution_count": 15,
   "id": "80861651",
   "metadata": {
    "execution": {
     "iopub.execute_input": "2022-07-07T14:36:10.302318Z",
     "iopub.status.busy": "2022-07-07T14:36:10.302085Z",
     "iopub.status.idle": "2022-07-07T14:36:11.305542Z",
     "shell.execute_reply": "2022-07-07T14:36:11.304960Z"
    },
    "papermill": {
     "duration": 1.011468,
     "end_time": "2022-07-07T14:36:11.307160",
     "exception": false,
     "start_time": "2022-07-07T14:36:10.295692",
     "status": "completed"
    },
    "tags": []
   },
   "outputs": [
    {
     "data": {
      "image/png": "[encoded data removed]",
      "text/plain": [
       "<Figure size 1152x576 with 10 Axes>"
      ]
     },
     "metadata": {
      "needs_background": "light"
     },
     "output_type": "display_data"
    }
   ],
   "source": [
    "def plot_roc_curves(y, y_pred_probs):\n",
    "    # based on example code\n",
    "    # https://scikit-learn.org/stable/auto_examples/model_selection/plot_roc.html\n",
    "\n",
    "    fig, axs = plt.subplots(nrows=2, ncols=5, figsize=(16, 8))\n",
    "\n",
    "    roc_auc_dict = {}\n",
    "\n",
    "    for (r, c), digit, ax in zip(\n",
    "        it.product(range(2), range(5)), range(10), axs.reshape(-1)\n",
    "    ):\n",
    "        fpr, tpr, _ = metrics.roc_curve(y == digit, y_pred_probs[:, digit])\n",
    "        auc = metrics.auc(fpr, tpr)\n",
    "        roc_auc_dict[str(digit)] = auc\n",
    "\n",
    "        ax.plot(fpr, tpr, label=f\"ROC AUC={round(auc, 3)}\")\n",
    "\n",
    "        ax.set_title(f\"\\nDigit {digit}\", fontsize=16)\n",
    "        if r == 1:\n",
    "            ax.set_xlabel(\"FPR\", fontsize=18)\n",
    "\n",
    "        if c == 0:\n",
    "            ax.set_ylabel(\"TPR\", fontsize=18)\n",
    "\n",
    "        ax.set_xlim([-0.05, 1.05])\n",
    "        ax.set_ylim([-0.05, 1.05])\n",
    "        ax.legend(loc=\"lower right\", frameon=False, fontsize=14)\n",
    "\n",
    "    fig.tight_layout()\n",
    "    fig.suptitle(\n",
    "        f\"ROC plots for one-vs-rest performances \"\n",
    "        f\"(on evaluation data, n={y_pred_probs_test.shape[1]}\",\n",
    "        fontsize=22,\n",
    "    )\n",
    "    fig.tight_layout()\n",
    "    fig.show()\n",
    "\n",
    "    return roc_auc_dict, fig\n",
    "\n",
    "\n",
    "roc_auc_dict, fig = plot_roc_curves(y_test, y_pred_probs_test)"
   ]
  },
  {
   "cell_type": "code",
   "execution_count": 16,
   "id": "2572ab09",
   "metadata": {
    "execution": {
     "iopub.execute_input": "2022-07-07T14:36:11.320061Z",
     "iopub.status.busy": "2022-07-07T14:36:11.319821Z",
     "iopub.status.idle": "2022-07-07T14:36:11.537359Z",
     "shell.execute_reply": "2022-07-07T14:36:11.536787Z"
    },
    "papermill": {
     "duration": 0.225592,
     "end_time": "2022-07-07T14:36:11.539200",
     "exception": false,
     "start_time": "2022-07-07T14:36:11.313608",
     "status": "completed"
    },
    "tags": []
   },
   "outputs": [],
   "source": [
    "logger.log_figure(\"per-digit-roc-curves.png\", fig)"
   ]
  },
  {
   "cell_type": "code",
   "execution_count": 17,
   "id": "86e4a3c8",
   "metadata": {
    "execution": {
     "iopub.execute_input": "2022-07-07T14:36:11.553535Z",
     "iopub.status.busy": "2022-07-07T14:36:11.553285Z",
     "iopub.status.idle": "2022-07-07T14:36:11.558253Z",
     "shell.execute_reply": "2022-07-07T14:36:11.557746Z"
    },
    "papermill": {
     "duration": 0.016443,
     "end_time": "2022-07-07T14:36:11.561451",
     "exception": false,
     "start_time": "2022-07-07T14:36:11.545008",
     "status": "completed"
    },
    "tags": []
   },
   "outputs": [
    {
     "data": {
      "text/plain": [
       "{'0': 1.0,\n",
       " '1': 0.9992127460168697,\n",
       " '2': 1.0,\n",
       " '3': 0.9998500468603562,\n",
       " '4': 0.9991617131534827,\n",
       " '5': 0.998912839737582,\n",
       " '6': 0.999923792104862,\n",
       " '7': 0.9998475842097241,\n",
       " '8': 0.9940494955863808,\n",
       " '9': 0.998818777625362}"
      ]
     },
     "execution_count": 17,
     "metadata": {},
     "output_type": "execute_result"
    }
   ],
   "source": [
    "roc_auc_dict"
   ]
  },
  {
   "cell_type": "code",
   "execution_count": 18,
   "id": "4429e70c",
   "metadata": {
    "execution": {
     "iopub.execute_input": "2022-07-07T14:36:11.573933Z",
     "iopub.status.busy": "2022-07-07T14:36:11.573708Z",
     "iopub.status.idle": "2022-07-07T14:36:11.577857Z",
     "shell.execute_reply": "2022-07-07T14:36:11.577335Z"
    },
    "papermill": {
     "duration": 0.013246,
     "end_time": "2022-07-07T14:36:11.580720",
     "exception": false,
     "start_time": "2022-07-07T14:36:11.567474",
     "status": "completed"
    },
    "tags": []
   },
   "outputs": [
    {
     "name": "stdout",
     "output_type": "stream",
     "text": [
      " - Logging roc_auc_per_digit (json) : {'0': 1.0, '1': 0.9992127460168697, '2': 1.0, '3': 0.9998500468603562, '4': 0.9991617131534827, '5': 0.998912839737582, '6': 0.999923792104862, '7': 0.9998475842097241, '8': 0.9940494955863808, '9': 0.998818777625362}\n"
     ]
    }
   ],
   "source": [
    "logger.log_value(\"roc_auc_per_digit\", roc_auc_dict)"
   ]
  },
  {
   "cell_type": "markdown",
   "id": "75e949dd",
   "metadata": {
    "papermill": {
     "duration": 0.006042,
     "end_time": "2022-07-07T14:36:11.591984",
     "exception": false,
     "start_time": "2022-07-07T14:36:11.585942",
     "status": "completed"
    },
    "tags": []
   },
   "source": [
    "### Compute and log mean ROC AUC score averaged over all digits"
   ]
  },
  {
   "cell_type": "code",
   "execution_count": 19,
   "id": "e497c0a5",
   "metadata": {
    "execution": {
     "iopub.execute_input": "2022-07-07T14:36:11.604273Z",
     "iopub.status.busy": "2022-07-07T14:36:11.604053Z",
     "iopub.status.idle": "2022-07-07T14:36:11.617129Z",
     "shell.execute_reply": "2022-07-07T14:36:11.616171Z"
    },
    "papermill": {
     "duration": 0.020875,
     "end_time": "2022-07-07T14:36:11.618877",
     "exception": false,
     "start_time": "2022-07-07T14:36:11.598002",
     "status": "completed"
    },
    "tags": []
   },
   "outputs": [
    {
     "name": "stdout",
     "output_type": "stream",
     "text": [
      " - Logging roc_auc_class_mean (float) : 0.9989776995294619\n"
     ]
    }
   ],
   "source": [
    "roc_auc_macro = np.mean(list(roc_auc_dict.values()))\n",
    "\n",
    "logger.log_float(\"roc_auc_class_mean\", roc_auc_macro)\n",
    "\n",
    "# assert that the same value can be computed directly using sklearn\n",
    "assert roc_auc_macro == metrics.roc_auc_score(\n",
    "    y_test, y_pred_probs_test, average=\"macro\", multi_class=\"ovr\"\n",
    ")"
   ]
  },
  {
   "cell_type": "code",
   "execution_count": 20,
   "id": "4e087db2",
   "metadata": {
    "execution": {
     "iopub.execute_input": "2022-07-07T14:36:11.631548Z",
     "iopub.status.busy": "2022-07-07T14:36:11.631313Z",
     "iopub.status.idle": "2022-07-07T14:36:11.633879Z",
     "shell.execute_reply": "2022-07-07T14:36:11.633379Z"
    },
    "lines_to_next_cell": 0,
    "papermill": {
     "duration": 0.011753,
     "end_time": "2022-07-07T14:36:11.636255",
     "exception": false,
     "start_time": "2022-07-07T14:36:11.624502",
     "status": "completed"
    },
    "tags": []
   },
   "outputs": [],
   "source": [
    "# ---"
   ]
  },
  {
   "cell_type": "code",
   "execution_count": null,
   "id": "5d745e18",
   "metadata": {
    "papermill": {
     "duration": 0.006346,
     "end_time": "2022-07-07T14:36:11.648491",
     "exception": false,
     "start_time": "2022-07-07T14:36:11.642145",
     "status": "completed"
    },
    "tags": []
   },
   "outputs": [],
   "source": []
  }
 ],
 "metadata": {
  "jupytext": {
   "cell_metadata_filter": "tags,-all",
   "main_language": "python",
   "notebook_metadata_filter": "-all"
  },
  "language_info": {
   "codemirror_mode": {
    "name": "ipython",
    "version": 3
   },
   "file_extension": ".py",
   "mimetype": "text/x-python",
   "name": "python",
   "nbconvert_exporter": "python",
   "pygments_lexer": "ipython3",
   "version": "3.8.10"
  },
  "papermill": {
   "default_parameters": {},
   "duration": 8.896419,
   "end_time": "2022-07-07T14:36:12.781971",
   "environment_variables": {},
   "exception": null,
   "input_path": "/home/host_user/workspace/mnist-demo-pipeline/mnist-demo-pipeline/notebooks/temp-notebook-uetkik4g.ipynb",
   "output_path": "notebooks/benchmark-model.ipynb",
   "parameters": {
    "P": {
     "_opentelemetry_traceparent": "00-b43d28cb3639d104708e53a0cb86f226-2eb74c5d0a7ff1d1-01",
     "pipeline.data_lake_root": "/pipeline-outputs/data-lake",
     "pipeline.github.actor": "matiasdahl",
     "pipeline.github.base_ref": "development",
     "pipeline.github.event_name": "pull_request",
     "pipeline.github.head_ref": "readme-link-to-docs",
     "pipeline.github.job": "run-tests-pipeline-and-persist-pipeline-outputs",
     "pipeline.github.ref": "refs/pull/56/merge",
     "pipeline.github.ref_name": "56/merge",
     "pipeline.github.ref_type": "branch",
     "pipeline.github.repository": "pynb-dag-runner/mnist-digits-demo-pipeline",
     "pipeline.github.run_id": "2630256446",
     "pipeline.github.runner_name": "GitHub Actions 4",
     "pipeline.github.sha": "9618eea67de36c0cc64d4fc66ed9a3f1b50bbff3",
     "pipeline.github.workflow": "Run automated tests, pipeline and deploy results to static reporting site",
     "pipeline.pipeline_run_id": "e20e895d-454d-4542-b4da-b1ac1d08cc0d",
     "pipeline.run_environment": "ci",
     "run.retry_nr": "0",
     "task.max_nr_retries": "1",
     "task.notebook": "notebooks/benchmark-model.py",
     "task.nr_train_images": 600,
     "task.num_cpus": 1,
     "task.timeout_s": "None"
    }
   },
   "start_time": "2022-07-07T14:36:03.885552",
   "version": "2.3.3"
  }
 },
 "nbformat": 4,
 "nbformat_minor": 5
}