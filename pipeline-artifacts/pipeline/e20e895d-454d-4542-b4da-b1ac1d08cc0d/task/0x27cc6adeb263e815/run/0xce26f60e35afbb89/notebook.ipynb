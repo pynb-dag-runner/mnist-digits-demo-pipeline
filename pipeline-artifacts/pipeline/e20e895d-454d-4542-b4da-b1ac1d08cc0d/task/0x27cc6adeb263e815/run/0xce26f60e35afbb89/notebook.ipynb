{
 "cells": [
  {
   "cell_type": "markdown",
   "id": "df3799f9",
   "metadata": {
    "papermill": {
     "duration": 0.005541,
     "end_time": "2022-07-07T14:36:19.339851",
     "exception": false,
     "start_time": "2022-07-07T14:36:19.334310",
     "status": "completed"
    },
    "tags": []
   },
   "source": [
    "# Benchmark model\n",
    "\n",
    "The purpose of this notebook is to benchmark persisted onnx-model (trained in the\n",
    "previous step) against evaluation set."
   ]
  },
  {
   "cell_type": "markdown",
   "id": "784efd72",
   "metadata": {
    "papermill": {
     "duration": 0.004352,
     "end_time": "2022-07-07T14:36:19.348957",
     "exception": false,
     "start_time": "2022-07-07T14:36:19.344605",
     "status": "completed"
    },
    "tags": []
   },
   "source": [
    "### Determine run parameters"
   ]
  },
  {
   "cell_type": "code",
   "execution_count": 1,
   "id": "b04b7f86",
   "metadata": {
    "execution": {
     "iopub.execute_input": "2022-07-07T14:36:19.359093Z",
     "iopub.status.busy": "2022-07-07T14:36:19.358789Z",
     "iopub.status.idle": "2022-07-07T14:36:19.367849Z",
     "shell.execute_reply": "2022-07-07T14:36:19.366760Z"
    },
    "lines_to_next_cell": 0,
    "papermill": {
     "duration": 0.01814,
     "end_time": "2022-07-07T14:36:19.370802",
     "exception": false,
     "start_time": "2022-07-07T14:36:19.352662",
     "status": "completed"
    },
    "tags": []
   },
   "outputs": [],
   "source": [
    "# ----------------- Parameters for interactive development --------------\n",
    "P = {\n",
    "    \"pipeline.data_lake_root\": \"/pipeline-outputs/data-lake\",\n",
    "    \"task.nr_train_images\": 600,\n",
    "}"
   ]
  },
  {
   "cell_type": "code",
   "execution_count": 2,
   "id": "b88e435c",
   "metadata": {
    "execution": {
     "iopub.execute_input": "2022-07-07T14:36:19.380578Z",
     "iopub.status.busy": "2022-07-07T14:36:19.380357Z",
     "iopub.status.idle": "2022-07-07T14:36:19.383460Z",
     "shell.execute_reply": "2022-07-07T14:36:19.382920Z"
    },
    "lines_to_next_cell": 0,
    "papermill": {
     "duration": 0.011385,
     "end_time": "2022-07-07T14:36:19.386464",
     "exception": false,
     "start_time": "2022-07-07T14:36:19.375079",
     "status": "completed"
    },
    "tags": [
     "parameters"
    ]
   },
   "outputs": [],
   "source": [
    "# - During automated runs parameters will be injected in the below cell -"
   ]
  },
  {
   "cell_type": "code",
   "execution_count": 3,
   "id": "09322bd7",
   "metadata": {
    "execution": {
     "iopub.execute_input": "2022-07-07T14:36:19.395770Z",
     "iopub.status.busy": "2022-07-07T14:36:19.395531Z",
     "iopub.status.idle": "2022-07-07T14:36:19.400082Z",
     "shell.execute_reply": "2022-07-07T14:36:19.399607Z"
    },
    "papermill": {
     "duration": 0.012498,
     "end_time": "2022-07-07T14:36:19.403218",
     "exception": false,
     "start_time": "2022-07-07T14:36:19.390720",
     "status": "completed"
    },
    "tags": [
     "injected-parameters"
    ]
   },
   "outputs": [],
   "source": [
    "# Parameters\n",
    "P = {\n",
    "    \"pipeline.data_lake_root\": \"/pipeline-outputs/data-lake\",\n",
    "    \"pipeline.run_environment\": \"ci\",\n",
    "    \"pipeline.pipeline_run_id\": \"e20e895d-454d-4542-b4da-b1ac1d08cc0d\",\n",
    "    \"pipeline.github.repository\": \"pynb-dag-runner/mnist-digits-demo-pipeline\",\n",
    "    \"pipeline.github.workflow\": \"Run automated tests, pipeline and deploy results to static reporting site\",\n",
    "    \"pipeline.github.runner_name\": \"GitHub Actions 4\",\n",
    "    \"pipeline.github.run_id\": \"2630256446\",\n",
    "    \"pipeline.github.actor\": \"matiasdahl\",\n",
    "    \"pipeline.github.job\": \"run-tests-pipeline-and-persist-pipeline-outputs\",\n",
    "    \"pipeline.github.base_ref\": \"development\",\n",
    "    \"pipeline.github.head_ref\": \"readme-link-to-docs\",\n",
    "    \"pipeline.github.sha\": \"9618eea67de36c0cc64d4fc66ed9a3f1b50bbff3\",\n",
    "    \"pipeline.github.ref\": \"refs/pull/56/merge\",\n",
    "    \"pipeline.github.ref_type\": \"branch\",\n",
    "    \"pipeline.github.ref_name\": \"56/merge\",\n",
    "    \"pipeline.github.event_name\": \"pull_request\",\n",
    "    \"task.nr_train_images\": 1200,\n",
    "    \"task.notebook\": \"notebooks/benchmark-model.py\",\n",
    "    \"task.max_nr_retries\": \"1\",\n",
    "    \"run.retry_nr\": \"0\",\n",
    "    \"task.timeout_s\": \"None\",\n",
    "    \"task.num_cpus\": 1,\n",
    "    \"_opentelemetry_traceparent\": \"00-b43d28cb3639d104708e53a0cb86f226-82fbf2e40a764eb2-01\",\n",
    "}\n"
   ]
  },
  {
   "cell_type": "code",
   "execution_count": 4,
   "id": "397922ef",
   "metadata": {
    "execution": {
     "iopub.execute_input": "2022-07-07T14:36:19.413561Z",
     "iopub.status.busy": "2022-07-07T14:36:19.413359Z",
     "iopub.status.idle": "2022-07-07T14:36:19.416106Z",
     "shell.execute_reply": "2022-07-07T14:36:19.415593Z"
    },
    "lines_to_next_cell": 0,
    "papermill": {
     "duration": 0.011613,
     "end_time": "2022-07-07T14:36:19.418823",
     "exception": false,
     "start_time": "2022-07-07T14:36:19.407210",
     "status": "completed"
    },
    "tags": []
   },
   "outputs": [],
   "source": [
    "# -----------------------------------------------------------------------"
   ]
  },
  {
   "cell_type": "markdown",
   "id": "f4faeab3",
   "metadata": {
    "papermill": {
     "duration": 0.004042,
     "end_time": "2022-07-07T14:36:19.426922",
     "exception": false,
     "start_time": "2022-07-07T14:36:19.422880",
     "status": "completed"
    },
    "tags": []
   },
   "source": [
    "---"
   ]
  },
  {
   "cell_type": "markdown",
   "id": "10a958b6",
   "metadata": {
    "lines_to_next_cell": 2,
    "papermill": {
     "duration": 0.003884,
     "end_time": "2022-07-07T14:36:19.435556",
     "exception": false,
     "start_time": "2022-07-07T14:36:19.431672",
     "status": "completed"
    },
    "tags": []
   },
   "source": [
    "### Notebook code"
   ]
  },
  {
   "cell_type": "code",
   "execution_count": 5,
   "id": "8170033c",
   "metadata": {
    "execution": {
     "iopub.execute_input": "2022-07-07T14:36:19.445326Z",
     "iopub.status.busy": "2022-07-07T14:36:19.445082Z",
     "iopub.status.idle": "2022-07-07T14:36:20.546554Z",
     "shell.execute_reply": "2022-07-07T14:36:20.545982Z"
    },
    "papermill": {
     "duration": 1.108219,
     "end_time": "2022-07-07T14:36:20.548299",
     "exception": false,
     "start_time": "2022-07-07T14:36:19.440080",
     "status": "completed"
    },
    "tags": []
   },
   "outputs": [
    {
     "name": "stderr",
     "output_type": "stream",
     "text": [
      "2022-07-07 14:36:20,376\tINFO worker.py:842 -- Connecting to existing Ray cluster at address: 172.17.0.2:6379\n"
     ]
    }
   ],
   "source": [
    "import itertools as it\n",
    "\n",
    "#\n",
    "import numpy as np\n",
    "import matplotlib.pyplot as plt\n",
    "\n",
    "#\n",
    "from pynb_dag_runner.tasks.task_opentelemetry_logging import PydarLogger\n",
    "\n",
    "#\n",
    "from common.io import datalake_root\n",
    "\n",
    "logger = PydarLogger(P)"
   ]
  },
  {
   "cell_type": "markdown",
   "id": "bce4ee0d",
   "metadata": {
    "papermill": {
     "duration": 0.004443,
     "end_time": "2022-07-07T14:36:20.556936",
     "exception": false,
     "start_time": "2022-07-07T14:36:20.552493",
     "status": "completed"
    },
    "tags": []
   },
   "source": [
    "## Load persisted onnx-model and evaluation data"
   ]
  },
  {
   "cell_type": "code",
   "execution_count": 6,
   "id": "0de4ad39",
   "metadata": {
    "execution": {
     "iopub.execute_input": "2022-07-07T14:36:20.566027Z",
     "iopub.status.busy": "2022-07-07T14:36:20.565710Z",
     "iopub.status.idle": "2022-07-07T14:36:20.569213Z",
     "shell.execute_reply": "2022-07-07T14:36:20.568559Z"
    },
    "papermill": {
     "duration": 0.010152,
     "end_time": "2022-07-07T14:36:20.570867",
     "exception": false,
     "start_time": "2022-07-07T14:36:20.560715",
     "status": "completed"
    },
    "tags": []
   },
   "outputs": [],
   "source": [
    "from common.io import read_onnx, get_onnx_inputs, get_onnx_outputs, read_numpy"
   ]
  },
  {
   "cell_type": "code",
   "execution_count": 7,
   "id": "e597a98a",
   "metadata": {
    "execution": {
     "iopub.execute_input": "2022-07-07T14:36:20.580417Z",
     "iopub.status.busy": "2022-07-07T14:36:20.580034Z",
     "iopub.status.idle": "2022-07-07T14:36:20.594804Z",
     "shell.execute_reply": "2022-07-07T14:36:20.594280Z"
    },
    "lines_to_next_cell": 0,
    "papermill": {
     "duration": 0.021196,
     "end_time": "2022-07-07T14:36:20.596319",
     "exception": false,
     "start_time": "2022-07-07T14:36:20.575123",
     "status": "completed"
    },
    "tags": []
   },
   "outputs": [],
   "source": [
    "onnx_inference_session = read_onnx(\n",
    "    datalake_root(P)\n",
    "    / \"models\"\n",
    "    / f\"nr_train_images={P['task.nr_train_images']}\"\n",
    "    / \"model.onnx\"\n",
    ")"
   ]
  },
  {
   "cell_type": "markdown",
   "id": "4b032f7f",
   "metadata": {
    "papermill": {
     "duration": 0.004562,
     "end_time": "2022-07-07T14:36:20.604905",
     "exception": false,
     "start_time": "2022-07-07T14:36:20.600343",
     "status": "completed"
    },
    "tags": []
   },
   "source": [
    "### Record structure of inputs and outputs for ONNX model\n",
    "\n",
    "(this should likely be done in training notebook)"
   ]
  },
  {
   "cell_type": "code",
   "execution_count": 8,
   "id": "94c038ff",
   "metadata": {
    "execution": {
     "iopub.execute_input": "2022-07-07T14:36:20.618632Z",
     "iopub.status.busy": "2022-07-07T14:36:20.618284Z",
     "iopub.status.idle": "2022-07-07T14:36:20.624164Z",
     "shell.execute_reply": "2022-07-07T14:36:20.623645Z"
    },
    "papermill": {
     "duration": 0.018194,
     "end_time": "2022-07-07T14:36:20.627491",
     "exception": false,
     "start_time": "2022-07-07T14:36:20.609297",
     "status": "completed"
    },
    "tags": []
   },
   "outputs": [
    {
     "name": "stdout",
     "output_type": "stream",
     "text": [
      "{\n",
      "  \"inputs\": [\n",
      "    {\n",
      "      \"name\": \"float_input_8x8_image\",\n",
      "      \"shape\": [\n",
      "        null,\n",
      "        64\n",
      "      ],\n",
      "      \"type\": \"tensor(float)\"\n",
      "    }\n",
      "  ],\n",
      "  \"outputs\": [\n",
      "    {\n",
      "      \"name\": \"output_label\",\n",
      "      \"shape\": [\n",
      "        null\n",
      "      ],\n",
      "      \"type\": \"tensor(int64)\"\n",
      "    },\n",
      "    {\n",
      "      \"name\": \"output_probability\",\n",
      "      \"shape\": [],\n",
      "      \"type\": \"seq(map(int64,tensor(float)))\"\n",
      "    }\n",
      "  ]\n",
      "}\n"
     ]
    }
   ],
   "source": [
    "import json\n",
    "\n",
    "onnx_io = json.dumps(\n",
    "    {\n",
    "        \"inputs\": get_onnx_inputs(onnx_inference_session),\n",
    "        \"outputs\": get_onnx_outputs(onnx_inference_session),\n",
    "    },\n",
    "    indent=2,\n",
    ")\n",
    "\n",
    "\n",
    "logger.log_artefact(\"onnx_io_structure.json\", onnx_io)\n",
    "print(onnx_io)"
   ]
  },
  {
   "cell_type": "markdown",
   "id": "23b42f2a",
   "metadata": {
    "papermill": {
     "duration": 0.004351,
     "end_time": "2022-07-07T14:36:20.636063",
     "exception": false,
     "start_time": "2022-07-07T14:36:20.631712",
     "status": "completed"
    },
    "tags": []
   },
   "source": [
    "### Evaluate model performance on evaluation data set"
   ]
  },
  {
   "cell_type": "code",
   "execution_count": 9,
   "id": "7c3e95e3",
   "metadata": {
    "execution": {
     "iopub.execute_input": "2022-07-07T14:36:20.645993Z",
     "iopub.status.busy": "2022-07-07T14:36:20.645722Z",
     "iopub.status.idle": "2022-07-07T14:36:20.650963Z",
     "shell.execute_reply": "2022-07-07T14:36:20.650033Z"
    },
    "papermill": {
     "duration": 0.013126,
     "end_time": "2022-07-07T14:36:20.653357",
     "exception": false,
     "start_time": "2022-07-07T14:36:20.640231",
     "status": "completed"
    },
    "tags": []
   },
   "outputs": [],
   "source": [
    "# load evaluation data\n",
    "X_test = read_numpy(datalake_root(P) / \"test-data\" / \"digits.numpy\")\n",
    "y_test = read_numpy(datalake_root(P) / \"test-data\" / \"labels.numpy\")"
   ]
  },
  {
   "cell_type": "code",
   "execution_count": 10,
   "id": "0b7637b8",
   "metadata": {
    "execution": {
     "iopub.execute_input": "2022-07-07T14:36:20.663320Z",
     "iopub.status.busy": "2022-07-07T14:36:20.663103Z",
     "iopub.status.idle": "2022-07-07T14:36:20.678797Z",
     "shell.execute_reply": "2022-07-07T14:36:20.678017Z"
    },
    "papermill": {
     "duration": 0.022506,
     "end_time": "2022-07-07T14:36:20.680496",
     "exception": false,
     "start_time": "2022-07-07T14:36:20.657990",
     "status": "completed"
    },
    "tags": []
   },
   "outputs": [],
   "source": [
    "def get_model_outputs(X, onnx_inference_session):\n",
    "    y_pred_labels, y_pred_map = onnx_inference_session.run(\n",
    "        [\"output_label\", \"output_probability\"],\n",
    "        {\"float_input_8x8_image\": X.astype(np.float32)},\n",
    "    )\n",
    "    y_pred_probs = np.array(\n",
    "        [[probabilities[digit] for digit in range(10)] for probabilities in y_pred_map]\n",
    "    )\n",
    "\n",
    "    assert y_pred_labels.shape == (X.shape[0],)\n",
    "    assert y_pred_probs.shape == (X.shape[0], 10)\n",
    "\n",
    "    return y_pred_labels, y_pred_probs\n",
    "\n",
    "\n",
    "# Note: as shown in the training notebook, the predicted labels and probabilities\n",
    "# computed below need not be compatible.\n",
    "y_pred_labels_test, y_pred_probs_test = get_model_outputs(\n",
    "    X_test, onnx_inference_session\n",
    ")"
   ]
  },
  {
   "cell_type": "markdown",
   "id": "b92dc0b4",
   "metadata": {
    "papermill": {
     "duration": 0.009796,
     "end_time": "2022-07-07T14:36:20.694683",
     "exception": false,
     "start_time": "2022-07-07T14:36:20.684887",
     "status": "completed"
    },
    "tags": []
   },
   "source": [
    "### Confusion matrix"
   ]
  },
  {
   "cell_type": "code",
   "execution_count": 11,
   "id": "c76fe3e1",
   "metadata": {
    "execution": {
     "iopub.execute_input": "2022-07-07T14:36:20.704931Z",
     "iopub.status.busy": "2022-07-07T14:36:20.704713Z",
     "iopub.status.idle": "2022-07-07T14:36:20.707678Z",
     "shell.execute_reply": "2022-07-07T14:36:20.707112Z"
    },
    "papermill": {
     "duration": 0.010917,
     "end_time": "2022-07-07T14:36:20.710505",
     "exception": false,
     "start_time": "2022-07-07T14:36:20.699588",
     "status": "completed"
    },
    "tags": []
   },
   "outputs": [],
   "source": [
    "# TODO"
   ]
  },
  {
   "cell_type": "markdown",
   "id": "e09ebef4",
   "metadata": {
    "papermill": {
     "duration": 0.004583,
     "end_time": "2022-07-07T14:36:20.719232",
     "exception": false,
     "start_time": "2022-07-07T14:36:20.714649",
     "status": "completed"
    },
    "tags": []
   },
   "source": [
    "### Plot predicted probabilities for each classifier over all evaluation digit images"
   ]
  },
  {
   "cell_type": "code",
   "execution_count": 12,
   "id": "a14782bc",
   "metadata": {
    "execution": {
     "iopub.execute_input": "2022-07-07T14:36:20.728869Z",
     "iopub.status.busy": "2022-07-07T14:36:20.728642Z",
     "iopub.status.idle": "2022-07-07T14:36:23.709230Z",
     "shell.execute_reply": "2022-07-07T14:36:23.708580Z"
    },
    "papermill": {
     "duration": 2.987863,
     "end_time": "2022-07-07T14:36:23.711389",
     "exception": false,
     "start_time": "2022-07-07T14:36:20.723526",
     "status": "completed"
    },
    "tags": []
   },
   "outputs": [
    {
     "data": {
      "image/png": "[encoded data removed]",
      "text/plain": [
       "<Figure size 1152x432 with 10 Axes>"
      ]
     },
     "metadata": {
      "needs_background": "light"
     },
     "output_type": "display_data"
    }
   ],
   "source": [
    "def plot_per_digit_probabilities(y_pred_probs):\n",
    "    fig, axs = plt.subplots(nrows=2, ncols=5, figsize=(16, 6))\n",
    "\n",
    "    for (r, c), digit, ax in zip(\n",
    "        it.product(range(2), range(5)), range(10), axs.reshape(-1)\n",
    "    ):\n",
    "        ax.hist(y_pred_probs_test[:, digit], bins=20)\n",
    "\n",
    "        ax.set_title(f\"Digit {digit}\")\n",
    "        if r == 1 and c == 2:\n",
    "            ax.set_xlabel(\"probability\", fontsize=16)\n",
    "\n",
    "        if c == 0:\n",
    "            ax.set_ylabel(\"counts\", fontsize=16)\n",
    "        ax.set_yscale(\"log\")\n",
    "\n",
    "    fig.tight_layout()\n",
    "    fig.suptitle(\n",
    "        f\"Distributions of prediction probabilities for each digit \"\n",
    "        f\"(on evaluation data, n={y_pred_probs.shape[0]})\",\n",
    "        fontsize=20,\n",
    "    )\n",
    "    fig.tight_layout()\n",
    "    fig.show()\n",
    "\n",
    "    return fig\n",
    "\n",
    "\n",
    "fig = plot_per_digit_probabilities(y_pred_probs_test)"
   ]
  },
  {
   "cell_type": "markdown",
   "id": "c3470b68",
   "metadata": {
    "papermill": {
     "duration": 0.004945,
     "end_time": "2022-07-07T14:36:23.721408",
     "exception": false,
     "start_time": "2022-07-07T14:36:23.716463",
     "status": "completed"
    },
    "tags": []
   },
   "source": [
    "From the above distributions we see that most digits have clear separation between\n",
    "high and lower probabilities. Morover, in each case there is roughly an order of\n",
    "magnitude more of digits with low probabilities. This is compatible with digits\n",
    "being roughly evenly distributed in the data."
   ]
  },
  {
   "cell_type": "code",
   "execution_count": 13,
   "id": "060fb45a",
   "metadata": {
    "execution": {
     "iopub.execute_input": "2022-07-07T14:36:23.732869Z",
     "iopub.status.busy": "2022-07-07T14:36:23.732071Z",
     "iopub.status.idle": "2022-07-07T14:36:24.125008Z",
     "shell.execute_reply": "2022-07-07T14:36:24.124319Z"
    },
    "papermill": {
     "duration": 0.400819,
     "end_time": "2022-07-07T14:36:24.126907",
     "exception": false,
     "start_time": "2022-07-07T14:36:23.726088",
     "status": "completed"
    },
    "tags": []
   },
   "outputs": [],
   "source": [
    "logger.log_figure(\"per-digit-probabilities.png\", fig)"
   ]
  },
  {
   "cell_type": "markdown",
   "id": "a4751adf",
   "metadata": {
    "papermill": {
     "duration": 0.004651,
     "end_time": "2022-07-07T14:36:24.137020",
     "exception": false,
     "start_time": "2022-07-07T14:36:24.132369",
     "status": "completed"
    },
    "tags": []
   },
   "source": [
    "### Plot ROC curves for individual one-vs-rest classifiers"
   ]
  },
  {
   "cell_type": "code",
   "execution_count": 14,
   "id": "526055b6",
   "metadata": {
    "execution": {
     "iopub.execute_input": "2022-07-07T14:36:24.148594Z",
     "iopub.status.busy": "2022-07-07T14:36:24.148117Z",
     "iopub.status.idle": "2022-07-07T14:36:24.489304Z",
     "shell.execute_reply": "2022-07-07T14:36:24.488666Z"
    },
    "papermill": {
     "duration": 0.348817,
     "end_time": "2022-07-07T14:36:24.491431",
     "exception": false,
     "start_time": "2022-07-07T14:36:24.142614",
     "status": "completed"
    },
    "tags": []
   },
   "outputs": [],
   "source": [
    "from sklearn import metrics"
   ]
  },
  {
   "cell_type": "code",
   "execution_count": 15,
   "id": "150597fc",
   "metadata": {
    "execution": {
     "iopub.execute_input": "2022-07-07T14:36:24.502477Z",
     "iopub.status.busy": "2022-07-07T14:36:24.502051Z",
     "iopub.status.idle": "2022-07-07T14:36:25.447496Z",
     "shell.execute_reply": "2022-07-07T14:36:25.446879Z"
    },
    "papermill": {
     "duration": 0.952866,
     "end_time": "2022-07-07T14:36:25.449370",
     "exception": false,
     "start_time": "2022-07-07T14:36:24.496504",
     "status": "completed"
    },
    "tags": []
   },
   "outputs": [
    {
     "data": {
      "image/png": "[encoded data removed]",
      "text/plain": [
       "<Figure size 1152x576 with 10 Axes>"
      ]
     },
     "metadata": {
      "needs_background": "light"
     },
     "output_type": "display_data"
    }
   ],
   "source": [
    "def plot_roc_curves(y, y_pred_probs):\n",
    "    # based on example code\n",
    "    # https://scikit-learn.org/stable/auto_examples/model_selection/plot_roc.html\n",
    "\n",
    "    fig, axs = plt.subplots(nrows=2, ncols=5, figsize=(16, 8))\n",
    "\n",
    "    roc_auc_dict = {}\n",
    "\n",
    "    for (r, c), digit, ax in zip(\n",
    "        it.product(range(2), range(5)), range(10), axs.reshape(-1)\n",
    "    ):\n",
    "        fpr, tpr, _ = metrics.roc_curve(y == digit, y_pred_probs[:, digit])\n",
    "        auc = metrics.auc(fpr, tpr)\n",
    "        roc_auc_dict[str(digit)] = auc\n",
    "\n",
    "        ax.plot(fpr, tpr, label=f\"ROC AUC={round(auc, 3)}\")\n",
    "\n",
    "        ax.set_title(f\"\\nDigit {digit}\", fontsize=16)\n",
    "        if r == 1:\n",
    "            ax.set_xlabel(\"FPR\", fontsize=18)\n",
    "\n",
    "        if c == 0:\n",
    "            ax.set_ylabel(\"TPR\", fontsize=18)\n",
    "\n",
    "        ax.set_xlim([-0.05, 1.05])\n",
    "        ax.set_ylim([-0.05, 1.05])\n",
    "        ax.legend(loc=\"lower right\", frameon=False, fontsize=14)\n",
    "\n",
    "    fig.tight_layout()\n",
    "    fig.suptitle(\n",
    "        f\"ROC plots for one-vs-rest performances \"\n",
    "        f\"(on evaluation data, n={y_pred_probs_test.shape[1]}\",\n",
    "        fontsize=22,\n",
    "    )\n",
    "    fig.tight_layout()\n",
    "    fig.show()\n",
    "\n",
    "    return roc_auc_dict, fig\n",
    "\n",
    "\n",
    "roc_auc_dict, fig = plot_roc_curves(y_test, y_pred_probs_test)"
   ]
  },
  {
   "cell_type": "code",
   "execution_count": 16,
   "id": "7124309d",
   "metadata": {
    "execution": {
     "iopub.execute_input": "2022-07-07T14:36:25.461801Z",
     "iopub.status.busy": "2022-07-07T14:36:25.461405Z",
     "iopub.status.idle": "2022-07-07T14:36:25.660841Z",
     "shell.execute_reply": "2022-07-07T14:36:25.660204Z"
    },
    "papermill": {
     "duration": 0.20717,
     "end_time": "2022-07-07T14:36:25.662448",
     "exception": false,
     "start_time": "2022-07-07T14:36:25.455278",
     "status": "completed"
    },
    "tags": []
   },
   "outputs": [],
   "source": [
    "logger.log_figure(\"per-digit-roc-curves.png\", fig)"
   ]
  },
  {
   "cell_type": "code",
   "execution_count": 17,
   "id": "77e0b9ad",
   "metadata": {
    "execution": {
     "iopub.execute_input": "2022-07-07T14:36:25.674747Z",
     "iopub.status.busy": "2022-07-07T14:36:25.674350Z",
     "iopub.status.idle": "2022-07-07T14:36:25.679379Z",
     "shell.execute_reply": "2022-07-07T14:36:25.678741Z"
    },
    "papermill": {
     "duration": 0.013308,
     "end_time": "2022-07-07T14:36:25.681653",
     "exception": false,
     "start_time": "2022-07-07T14:36:25.668345",
     "status": "completed"
    },
    "tags": []
   },
   "outputs": [
    {
     "data": {
      "text/plain": [
       "{'0': 1.0,\n",
       " '1': 0.998987816307404,\n",
       " '2': 1.0,\n",
       " '3': 0.9998500468603562,\n",
       " '4': 0.9997332723670173,\n",
       " '5': 0.9996626054358013,\n",
       " '6': 0.999923792104862,\n",
       " '7': 0.9998475842097242,\n",
       " '8': 0.9957440100882723,\n",
       " '9': 0.9997713763145862}"
      ]
     },
     "execution_count": 17,
     "metadata": {},
     "output_type": "execute_result"
    }
   ],
   "source": [
    "roc_auc_dict"
   ]
  },
  {
   "cell_type": "code",
   "execution_count": 18,
   "id": "e3cd0388",
   "metadata": {
    "execution": {
     "iopub.execute_input": "2022-07-07T14:36:25.694293Z",
     "iopub.status.busy": "2022-07-07T14:36:25.694070Z",
     "iopub.status.idle": "2022-07-07T14:36:25.698066Z",
     "shell.execute_reply": "2022-07-07T14:36:25.697172Z"
    },
    "papermill": {
     "duration": 0.012849,
     "end_time": "2022-07-07T14:36:25.700429",
     "exception": false,
     "start_time": "2022-07-07T14:36:25.687580",
     "status": "completed"
    },
    "tags": []
   },
   "outputs": [
    {
     "name": "stdout",
     "output_type": "stream",
     "text": [
      " - Logging roc_auc_per_digit (json) : {'0': 1.0, '1': 0.998987816307404, '2': 1.0, '3': 0.9998500468603562, '4': 0.9997332723670173, '5': 0.9996626054358013, '6': 0.999923792104862, '7': 0.9998475842097242, '8': 0.9957440100882723, '9': 0.9997713763145862}\n"
     ]
    }
   ],
   "source": [
    "logger.log_value(\"roc_auc_per_digit\", roc_auc_dict)"
   ]
  },
  {
   "cell_type": "markdown",
   "id": "ab5e9e70",
   "metadata": {
    "papermill": {
     "duration": 0.006371,
     "end_time": "2022-07-07T14:36:25.712165",
     "exception": false,
     "start_time": "2022-07-07T14:36:25.705794",
     "status": "completed"
    },
    "tags": []
   },
   "source": [
    "### Compute and log mean ROC AUC score averaged over all digits"
   ]
  },
  {
   "cell_type": "code",
   "execution_count": 19,
   "id": "e2945b4c",
   "metadata": {
    "execution": {
     "iopub.execute_input": "2022-07-07T14:36:25.724777Z",
     "iopub.status.busy": "2022-07-07T14:36:25.724331Z",
     "iopub.status.idle": "2022-07-07T14:36:25.738403Z",
     "shell.execute_reply": "2022-07-07T14:36:25.735917Z"
    },
    "papermill": {
     "duration": 0.022959,
     "end_time": "2022-07-07T14:36:25.740598",
     "exception": false,
     "start_time": "2022-07-07T14:36:25.717639",
     "status": "completed"
    },
    "tags": []
   },
   "outputs": [
    {
     "name": "stdout",
     "output_type": "stream",
     "text": [
      " - Logging roc_auc_class_mean (float) : 0.9993520503688023\n"
     ]
    }
   ],
   "source": [
    "roc_auc_macro = np.mean(list(roc_auc_dict.values()))\n",
    "\n",
    "logger.log_float(\"roc_auc_class_mean\", roc_auc_macro)\n",
    "\n",
    "# assert that the same value can be computed directly using sklearn\n",
    "assert roc_auc_macro == metrics.roc_auc_score(\n",
    "    y_test, y_pred_probs_test, average=\"macro\", multi_class=\"ovr\"\n",
    ")"
   ]
  },
  {
   "cell_type": "code",
   "execution_count": 20,
   "id": "ad107bca",
   "metadata": {
    "execution": {
     "iopub.execute_input": "2022-07-07T14:36:25.753567Z",
     "iopub.status.busy": "2022-07-07T14:36:25.752944Z",
     "iopub.status.idle": "2022-07-07T14:36:25.756790Z",
     "shell.execute_reply": "2022-07-07T14:36:25.756137Z"
    },
    "lines_to_next_cell": 0,
    "papermill": {
     "duration": 0.01239,
     "end_time": "2022-07-07T14:36:25.758537",
     "exception": false,
     "start_time": "2022-07-07T14:36:25.746147",
     "status": "completed"
    },
    "tags": []
   },
   "outputs": [],
   "source": [
    "# ---"
   ]
  },
  {
   "cell_type": "code",
   "execution_count": null,
   "id": "fae96e96",
   "metadata": {
    "papermill": {
     "duration": 0.005636,
     "end_time": "2022-07-07T14:36:25.769778",
     "exception": false,
     "start_time": "2022-07-07T14:36:25.764142",
     "status": "completed"
    },
    "tags": []
   },
   "outputs": [],
   "source": []
  }
 ],
 "metadata": {
  "jupytext": {
   "cell_metadata_filter": "tags,-all",
   "main_language": "python",
   "notebook_metadata_filter": "-all"
  },
  "language_info": {
   "codemirror_mode": {
    "name": "ipython",
    "version": 3
   },
   "file_extension": ".py",
   "mimetype": "text/x-python",
   "name": "python",
   "nbconvert_exporter": "python",
   "pygments_lexer": "ipython3",
   "version": "3.8.10"
  },
  "papermill": {
   "default_parameters": {},
   "duration": 8.789966,
   "end_time": "2022-07-07T14:36:26.793132",
   "environment_variables": {},
   "exception": null,
   "input_path": "/home/host_user/workspace/mnist-demo-pipeline/mnist-demo-pipeline/notebooks/temp-notebook-sybyr_z0.ipynb",
   "output_path": "notebooks/benchmark-model.ipynb",
   "parameters": {
    "P": {
     "_opentelemetry_traceparent": "00-b43d28cb3639d104708e53a0cb86f226-82fbf2e40a764eb2-01",
     "pipeline.data_lake_root": "/pipeline-outputs/data-lake",
     "pipeline.github.actor": "matiasdahl",
     "pipeline.github.base_ref": "development",
     "pipeline.github.event_name": "pull_request",
     "pipeline.github.head_ref": "readme-link-to-docs",
     "pipeline.github.job": "run-tests-pipeline-and-persist-pipeline-outputs",
     "pipeline.github.ref": "refs/pull/56/merge",
     "pipeline.github.ref_name": "56/merge",
     "pipeline.github.ref_type": "branch",
     "pipeline.github.repository": "pynb-dag-runner/mnist-digits-demo-pipeline",
     "pipeline.github.run_id": "2630256446",
     "pipeline.github.runner_name": "GitHub Actions 4",
     "pipeline.github.sha": "9618eea67de36c0cc64d4fc66ed9a3f1b50bbff3",
     "pipeline.github.workflow": "Run automated tests, pipeline and deploy results to static reporting site",
     "pipeline.pipeline_run_id": "e20e895d-454d-4542-b4da-b1ac1d08cc0d",
     "pipeline.run_environment": "ci",
     "run.retry_nr": "0",
     "task.max_nr_retries": "1",
     "task.notebook": "notebooks/benchmark-model.py",
     "task.nr_train_images": 1200,
     "task.num_cpus": 1,
     "task.timeout_s": "None"
    }
   },
   "start_time": "2022-07-07T14:36:18.003166",
   "version": "2.3.3"
  }
 },
 "nbformat": 4,
 "nbformat_minor": 5
}