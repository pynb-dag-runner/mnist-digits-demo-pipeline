{
 "cells": [
  {
   "cell_type": "markdown",
   "id": "71abe204",
   "metadata": {
    "papermill": {
     "duration": 0.004244,
     "end_time": "2022-07-07T14:35:59.774971",
     "exception": false,
     "start_time": "2022-07-07T14:35:59.770727",
     "status": "completed"
    },
    "tags": []
   },
   "source": [
    "# Train model\n",
    "\n",
    "The purpose of this notebook is:\n",
    "\n",
    "- Load all training data (images and labels).\n",
    "- Limit number of train images to `task.nr_train_images` (value provided as run parameter).\n",
    "- Train a support vector machine model using sklearn.\n",
    "- Persist the trained model using the ONNX format."
   ]
  },
  {
   "cell_type": "markdown",
   "id": "0243056b",
   "metadata": {
    "papermill": {
     "duration": 0.003226,
     "end_time": "2022-07-07T14:35:59.781724",
     "exception": false,
     "start_time": "2022-07-07T14:35:59.778498",
     "status": "completed"
    },
    "tags": []
   },
   "source": [
    "### Determine run parameters"
   ]
  },
  {
   "cell_type": "code",
   "execution_count": 1,
   "id": "3e3bc303",
   "metadata": {
    "execution": {
     "iopub.execute_input": "2022-07-07T14:35:59.788634Z",
     "iopub.status.busy": "2022-07-07T14:35:59.788319Z",
     "iopub.status.idle": "2022-07-07T14:35:59.797301Z",
     "shell.execute_reply": "2022-07-07T14:35:59.796177Z"
    },
    "lines_to_next_cell": 0,
    "papermill": {
     "duration": 0.01622,
     "end_time": "2022-07-07T14:35:59.800657",
     "exception": false,
     "start_time": "2022-07-07T14:35:59.784437",
     "status": "completed"
    },
    "tags": []
   },
   "outputs": [],
   "source": [
    "# ----------------- Parameters for interactive development --------------\n",
    "P = {\n",
    "    \"pipeline.data_lake_root\": \"/pipeline-outputs/data-lake\",\n",
    "    \"task.nr_train_images\": 600,\n",
    "}"
   ]
  },
  {
   "cell_type": "code",
   "execution_count": 2,
   "id": "27148efc",
   "metadata": {
    "execution": {
     "iopub.execute_input": "2022-07-07T14:35:59.807750Z",
     "iopub.status.busy": "2022-07-07T14:35:59.807316Z",
     "iopub.status.idle": "2022-07-07T14:35:59.810696Z",
     "shell.execute_reply": "2022-07-07T14:35:59.809783Z"
    },
    "lines_to_next_cell": 0,
    "papermill": {
     "duration": 0.009708,
     "end_time": "2022-07-07T14:35:59.813525",
     "exception": false,
     "start_time": "2022-07-07T14:35:59.803817",
     "status": "completed"
    },
    "tags": [
     "parameters"
    ]
   },
   "outputs": [],
   "source": [
    "# - During automated runs parameters will be injected in the below cell -"
   ]
  },
  {
   "cell_type": "code",
   "execution_count": 3,
   "id": "2d6ee731",
   "metadata": {
    "execution": {
     "iopub.execute_input": "2022-07-07T14:35:59.820520Z",
     "iopub.status.busy": "2022-07-07T14:35:59.820292Z",
     "iopub.status.idle": "2022-07-07T14:35:59.824978Z",
     "shell.execute_reply": "2022-07-07T14:35:59.824494Z"
    },
    "papermill": {
     "duration": 0.010716,
     "end_time": "2022-07-07T14:35:59.827250",
     "exception": false,
     "start_time": "2022-07-07T14:35:59.816534",
     "status": "completed"
    },
    "tags": [
     "injected-parameters"
    ]
   },
   "outputs": [],
   "source": [
    "# Parameters\n",
    "P = {\n",
    "    \"pipeline.data_lake_root\": \"/pipeline-outputs/data-lake\",\n",
    "    \"pipeline.run_environment\": \"ci\",\n",
    "    \"pipeline.pipeline_run_id\": \"e20e895d-454d-4542-b4da-b1ac1d08cc0d\",\n",
    "    \"pipeline.github.repository\": \"pynb-dag-runner/mnist-digits-demo-pipeline\",\n",
    "    \"pipeline.github.workflow\": \"Run automated tests, pipeline and deploy results to static reporting site\",\n",
    "    \"pipeline.github.runner_name\": \"GitHub Actions 4\",\n",
    "    \"pipeline.github.run_id\": \"2630256446\",\n",
    "    \"pipeline.github.actor\": \"matiasdahl\",\n",
    "    \"pipeline.github.job\": \"run-tests-pipeline-and-persist-pipeline-outputs\",\n",
    "    \"pipeline.github.base_ref\": \"development\",\n",
    "    \"pipeline.github.head_ref\": \"readme-link-to-docs\",\n",
    "    \"pipeline.github.sha\": \"9618eea67de36c0cc64d4fc66ed9a3f1b50bbff3\",\n",
    "    \"pipeline.github.ref\": \"refs/pull/56/merge\",\n",
    "    \"pipeline.github.ref_type\": \"branch\",\n",
    "    \"pipeline.github.ref_name\": \"56/merge\",\n",
    "    \"pipeline.github.event_name\": \"pull_request\",\n",
    "    \"task.nr_train_images\": 1000,\n",
    "    \"task.notebook\": \"notebooks/train-model.py\",\n",
    "    \"task.max_nr_retries\": \"1\",\n",
    "    \"run.retry_nr\": \"0\",\n",
    "    \"task.timeout_s\": \"None\",\n",
    "    \"task.num_cpus\": 1,\n",
    "    \"_opentelemetry_traceparent\": \"00-b43d28cb3639d104708e53a0cb86f226-2596eccef1ed88d7-01\",\n",
    "}\n"
   ]
  },
  {
   "cell_type": "code",
   "execution_count": 4,
   "id": "19586636",
   "metadata": {
    "execution": {
     "iopub.execute_input": "2022-07-07T14:35:59.834502Z",
     "iopub.status.busy": "2022-07-07T14:35:59.834287Z",
     "iopub.status.idle": "2022-07-07T14:35:59.836913Z",
     "shell.execute_reply": "2022-07-07T14:35:59.836383Z"
    },
    "lines_to_next_cell": 0,
    "papermill": {
     "duration": 0.009036,
     "end_time": "2022-07-07T14:35:59.839406",
     "exception": false,
     "start_time": "2022-07-07T14:35:59.830370",
     "status": "completed"
    },
    "tags": []
   },
   "outputs": [],
   "source": [
    "# -----------------------------------------------------------------------"
   ]
  },
  {
   "cell_type": "markdown",
   "id": "b1d147b9",
   "metadata": {
    "papermill": {
     "duration": 0.003587,
     "end_time": "2022-07-07T14:35:59.845690",
     "exception": false,
     "start_time": "2022-07-07T14:35:59.842103",
     "status": "completed"
    },
    "tags": []
   },
   "source": [
    "---"
   ]
  },
  {
   "cell_type": "markdown",
   "id": "0a2b76c8",
   "metadata": {
    "lines_to_next_cell": 2,
    "papermill": {
     "duration": 0.002961,
     "end_time": "2022-07-07T14:35:59.857346",
     "exception": false,
     "start_time": "2022-07-07T14:35:59.854385",
     "status": "completed"
    },
    "tags": []
   },
   "source": [
    "### Notebook code"
   ]
  },
  {
   "cell_type": "code",
   "execution_count": 5,
   "id": "730efc8f",
   "metadata": {
    "execution": {
     "iopub.execute_input": "2022-07-07T14:35:59.865824Z",
     "iopub.status.busy": "2022-07-07T14:35:59.865594Z",
     "iopub.status.idle": "2022-07-07T14:36:00.300054Z",
     "shell.execute_reply": "2022-07-07T14:36:00.299292Z"
    },
    "papermill": {
     "duration": 0.440589,
     "end_time": "2022-07-07T14:36:00.301845",
     "exception": false,
     "start_time": "2022-07-07T14:35:59.861256",
     "status": "completed"
    },
    "tags": []
   },
   "outputs": [
    {
     "name": "stderr",
     "output_type": "stream",
     "text": [
      "2022-07-07 14:36:00,149\tINFO worker.py:842 -- Connecting to existing Ray cluster at address: 172.17.0.2:6379\n"
     ]
    }
   ],
   "source": [
    "from pynb_dag_runner.tasks.task_opentelemetry_logging import PydarLogger\n",
    "\n",
    "logger = PydarLogger(P)"
   ]
  },
  {
   "cell_type": "markdown",
   "id": "fa71aba0",
   "metadata": {
    "papermill": {
     "duration": 0.002931,
     "end_time": "2022-07-07T14:36:00.308391",
     "exception": false,
     "start_time": "2022-07-07T14:36:00.305460",
     "status": "completed"
    },
    "tags": []
   },
   "source": [
    "## Load and limit train data"
   ]
  },
  {
   "cell_type": "code",
   "execution_count": 6,
   "id": "f6455ae4",
   "metadata": {
    "execution": {
     "iopub.execute_input": "2022-07-07T14:36:00.315791Z",
     "iopub.status.busy": "2022-07-07T14:36:00.315032Z",
     "iopub.status.idle": "2022-07-07T14:36:00.677812Z",
     "shell.execute_reply": "2022-07-07T14:36:00.676980Z"
    },
    "papermill": {
     "duration": 0.36858,
     "end_time": "2022-07-07T14:36:00.679624",
     "exception": false,
     "start_time": "2022-07-07T14:36:00.311044",
     "status": "completed"
    },
    "tags": []
   },
   "outputs": [],
   "source": [
    "def load_and_limit_train_data(P):\n",
    "    from common.io import datalake_root, read_numpy\n",
    "    from sklearn.model_selection import train_test_split\n",
    "\n",
    "    X_train_all = read_numpy(datalake_root(P) / \"train-data\" / \"digits.numpy\")\n",
    "    y_train_all = read_numpy(datalake_root(P) / \"train-data\" / \"labels.numpy\")\n",
    "\n",
    "    assert isinstance(P[\"task.nr_train_images\"], int)\n",
    "\n",
    "    # Note: train_test_split will fail if split is 0 or 100%.\n",
    "    assert 0 < P[\"task.nr_train_images\"] < len(y_train_all)\n",
    "\n",
    "    X_train, _, y_train, _ = train_test_split(\n",
    "        X_train_all,\n",
    "        y_train_all,\n",
    "        train_size=P[\"task.nr_train_images\"],\n",
    "        test_size=None,\n",
    "        stratify=y_train_all,\n",
    "        shuffle=True,\n",
    "        random_state=123,\n",
    "    )\n",
    "\n",
    "    assert X_train.shape == (len(y_train), 8 * 8)\n",
    "    return X_train, y_train\n",
    "\n",
    "\n",
    "X_train, y_train = load_and_limit_train_data(P)"
   ]
  },
  {
   "cell_type": "markdown",
   "id": "da5ea4df",
   "metadata": {
    "papermill": {
     "duration": 0.00464,
     "end_time": "2022-07-07T14:36:00.689034",
     "exception": false,
     "start_time": "2022-07-07T14:36:00.684394",
     "status": "completed"
    },
    "tags": []
   },
   "source": [
    "## Train support vector classifier model\n",
    "\n",
    "Below we assume that the hyperparameter $C$ is known.\n",
    "\n",
    "However, this should ideally be found by a hyperparameter search. That could be\n",
    "done in parallel on the Ray cluster, but this needs some more work. Ie., to use\n",
    "multiple cores in the notebook, those cores should be reserved when starting the\n",
    "notebook task (TODO).\n",
    "\n",
    "- https://docs.ray.io/en/latest/tune/key-concepts.html\n",
    "\n",
    "Note: cv-scores would need to be computed here, since they depend on the train data.\n",
    "After this notebook only the onnx-model is available."
   ]
  },
  {
   "cell_type": "code",
   "execution_count": 7,
   "id": "be75601a",
   "metadata": {
    "execution": {
     "iopub.execute_input": "2022-07-07T14:36:00.696445Z",
     "iopub.status.busy": "2022-07-07T14:36:00.696172Z",
     "iopub.status.idle": "2022-07-07T14:36:00.723651Z",
     "shell.execute_reply": "2022-07-07T14:36:00.722790Z"
    },
    "papermill": {
     "duration": 0.033535,
     "end_time": "2022-07-07T14:36:00.725473",
     "exception": false,
     "start_time": "2022-07-07T14:36:00.691938",
     "status": "completed"
    },
    "tags": []
   },
   "outputs": [],
   "source": [
    "from sklearn.svm import SVC"
   ]
  },
  {
   "cell_type": "code",
   "execution_count": 8,
   "id": "02f06f2a",
   "metadata": {
    "execution": {
     "iopub.execute_input": "2022-07-07T14:36:00.733272Z",
     "iopub.status.busy": "2022-07-07T14:36:00.732789Z",
     "iopub.status.idle": "2022-07-07T14:36:00.910813Z",
     "shell.execute_reply": "2022-07-07T14:36:00.910100Z"
    },
    "papermill": {
     "duration": 0.183612,
     "end_time": "2022-07-07T14:36:00.912362",
     "exception": false,
     "start_time": "2022-07-07T14:36:00.728750",
     "status": "completed"
    },
    "tags": []
   },
   "outputs": [
    {
     "data": {
      "text/plain": [
       "SVC(C=0.001, kernel='linear', probability=True)"
      ]
     },
     "execution_count": 8,
     "metadata": {},
     "output_type": "execute_result"
    }
   ],
   "source": [
    "model = SVC(C=0.001, kernel=\"linear\", probability=True)\n",
    "\n",
    "model.fit(X_train, y_train)"
   ]
  },
  {
   "cell_type": "markdown",
   "id": "303351c7",
   "metadata": {
    "papermill": {
     "duration": 0.003823,
     "end_time": "2022-07-07T14:36:00.919467",
     "exception": false,
     "start_time": "2022-07-07T14:36:00.915644",
     "status": "completed"
    },
    "tags": []
   },
   "source": [
    "### Q: Can the labels returned by `predict(..)` be computed from probabilities returned by the `predict_prob`-method?"
   ]
  },
  {
   "cell_type": "code",
   "execution_count": 9,
   "id": "79bc20b2",
   "metadata": {
    "execution": {
     "iopub.execute_input": "2022-07-07T14:36:00.926711Z",
     "iopub.status.busy": "2022-07-07T14:36:00.926389Z",
     "iopub.status.idle": "2022-07-07T14:36:01.008815Z",
     "shell.execute_reply": "2022-07-07T14:36:01.008130Z"
    },
    "papermill": {
     "duration": 0.088155,
     "end_time": "2022-07-07T14:36:01.010604",
     "exception": false,
     "start_time": "2022-07-07T14:36:00.922449",
     "status": "completed"
    },
    "tags": []
   },
   "outputs": [
    {
     "name": "stdout",
     "output_type": "stream",
     "text": [
      " - Logging nr_max_prob_neq_label (int) : 1\n"
     ]
    }
   ],
   "source": [
    "import numpy as np\n",
    "\n",
    "y_train_labels = model.predict(X_train)\n",
    "y_train_probabilities = model.predict_proba(X_train)\n",
    "assert y_train_probabilities.shape == (len(y_train), 10)\n",
    "\n",
    "y_train_max_prob_labels = np.argmax(y_train_probabilities, axis=1)\n",
    "assert y_train_labels.shape == y_train_max_prob_labels.shape == y_train.shape\n",
    "\n",
    "# If the predicted labels would coincide with the labels that have\n",
    "# maximum probability, the below number would be zero\n",
    "logger.log_int(\n",
    "    \"nr_max_prob_neq_label\", int(sum(y_train_max_prob_labels != y_train_labels))\n",
    ")"
   ]
  },
  {
   "cell_type": "markdown",
   "id": "ca8bbdd8",
   "metadata": {
    "papermill": {
     "duration": 0.004001,
     "end_time": "2022-07-07T14:36:01.017879",
     "exception": false,
     "start_time": "2022-07-07T14:36:01.013878",
     "status": "completed"
    },
    "tags": []
   },
   "source": [
    "The explanation is (likely) explained in the SVC source, see\n",
    "[here](https://github.com/scikit-learn/scikit-learn/blob/main/sklearn/svm/_base.py).\n",
    "Namely, the outputs from `predict(..)` and `predict_proba(..)` may not in some\n",
    "cases be compatible since the latter is computed using cross-validation while\n",
    "the former is not. Thus, the above number need not be zero."
   ]
  },
  {
   "cell_type": "markdown",
   "id": "b52d45af",
   "metadata": {
    "papermill": {
     "duration": 0.003226,
     "end_time": "2022-07-07T14:36:01.024653",
     "exception": false,
     "start_time": "2022-07-07T14:36:01.021427",
     "status": "completed"
    },
    "tags": []
   },
   "source": [
    "## Persist model"
   ]
  },
  {
   "cell_type": "code",
   "execution_count": 10,
   "id": "8767270c",
   "metadata": {
    "execution": {
     "iopub.execute_input": "2022-07-07T14:36:01.032897Z",
     "iopub.status.busy": "2022-07-07T14:36:01.032356Z",
     "iopub.status.idle": "2022-07-07T14:36:01.720171Z",
     "shell.execute_reply": "2022-07-07T14:36:01.719455Z"
    },
    "papermill": {
     "duration": 0.694084,
     "end_time": "2022-07-07T14:36:01.721884",
     "exception": false,
     "start_time": "2022-07-07T14:36:01.027800",
     "status": "completed"
    },
    "tags": []
   },
   "outputs": [],
   "source": [
    "from skl2onnx import convert_sklearn\n",
    "from skl2onnx.common.data_types import FloatTensorType\n",
    "\n",
    "#\n",
    "from common.io import datalake_root, write_onnx"
   ]
  },
  {
   "cell_type": "code",
   "execution_count": 11,
   "id": "d90c5d58",
   "metadata": {
    "execution": {
     "iopub.execute_input": "2022-07-07T14:36:01.730368Z",
     "iopub.status.busy": "2022-07-07T14:36:01.729776Z",
     "iopub.status.idle": "2022-07-07T14:36:01.781016Z",
     "shell.execute_reply": "2022-07-07T14:36:01.780469Z"
    },
    "papermill": {
     "duration": 0.057417,
     "end_time": "2022-07-07T14:36:01.782756",
     "exception": false,
     "start_time": "2022-07-07T14:36:01.725339",
     "status": "completed"
    },
    "tags": []
   },
   "outputs": [],
   "source": [
    "# convert sklearn model into onnx and persist to data lake\n",
    "\n",
    "model_onnx = convert_sklearn(\n",
    "    model, initial_types=[(\"float_input_8x8_image\", FloatTensorType([None, 8 * 8]))]\n",
    ")\n",
    "write_onnx(\n",
    "    datalake_root(P)\n",
    "    / \"models\"\n",
    "    / f\"nr_train_images={P['task.nr_train_images']}\"\n",
    "    / \"model.onnx\",\n",
    "    model_onnx,\n",
    ")"
   ]
  },
  {
   "cell_type": "code",
   "execution_count": null,
   "id": "677e2695",
   "metadata": {
    "papermill": {
     "duration": 0.003553,
     "end_time": "2022-07-07T14:36:01.789770",
     "exception": false,
     "start_time": "2022-07-07T14:36:01.786217",
     "status": "completed"
    },
    "tags": []
   },
   "outputs": [],
   "source": []
  }
 ],
 "metadata": {
  "jupytext": {
   "cell_metadata_filter": "tags,-all",
   "main_language": "python",
   "notebook_metadata_filter": "-all"
  },
  "language_info": {
   "codemirror_mode": {
    "name": "ipython",
    "version": 3
   },
   "file_extension": ".py",
   "mimetype": "text/x-python",
   "name": "python",
   "nbconvert_exporter": "python",
   "pygments_lexer": "ipython3",
   "version": "3.8.10"
  },
  "papermill": {
   "default_parameters": {},
   "duration": 4.350494,
   "end_time": "2022-07-07T14:36:02.715655",
   "environment_variables": {},
   "exception": null,
   "input_path": "/home/host_user/workspace/mnist-demo-pipeline/mnist-demo-pipeline/notebooks/temp-notebook-hqmm7jba.ipynb",
   "output_path": "notebooks/train-model.ipynb",
   "parameters": {
    "P": {
     "_opentelemetry_traceparent": "00-b43d28cb3639d104708e53a0cb86f226-2596eccef1ed88d7-01",
     "pipeline.data_lake_root": "/pipeline-outputs/data-lake",
     "pipeline.github.actor": "matiasdahl",
     "pipeline.github.base_ref": "development",
     "pipeline.github.event_name": "pull_request",
     "pipeline.github.head_ref": "readme-link-to-docs",
     "pipeline.github.job": "run-tests-pipeline-and-persist-pipeline-outputs",
     "pipeline.github.ref": "refs/pull/56/merge",
     "pipeline.github.ref_name": "56/merge",
     "pipeline.github.ref_type": "branch",
     "pipeline.github.repository": "pynb-dag-runner/mnist-digits-demo-pipeline",
     "pipeline.github.run_id": "2630256446",
     "pipeline.github.runner_name": "GitHub Actions 4",
     "pipeline.github.sha": "9618eea67de36c0cc64d4fc66ed9a3f1b50bbff3",
     "pipeline.github.workflow": "Run automated tests, pipeline and deploy results to static reporting site",
     "pipeline.pipeline_run_id": "e20e895d-454d-4542-b4da-b1ac1d08cc0d",
     "pipeline.run_environment": "ci",
     "run.retry_nr": "0",
     "task.max_nr_retries": "1",
     "task.notebook": "notebooks/train-model.py",
     "task.nr_train_images": 1000,
     "task.num_cpus": 1,
     "task.timeout_s": "None"
    }
   },
   "start_time": "2022-07-07T14:35:58.365161",
   "version": "2.3.3"
  }
 },
 "nbformat": 4,
 "nbformat_minor": 5
}