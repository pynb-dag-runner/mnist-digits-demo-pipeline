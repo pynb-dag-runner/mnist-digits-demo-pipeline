{
 "cells": [
  {
   "cell_type": "markdown",
   "id": "f2accdca",
   "metadata": {
    "papermill": {
     "duration": 0.006917,
     "end_time": "2022-07-07T14:36:09.000942",
     "exception": false,
     "start_time": "2022-07-07T14:36:08.994025",
     "status": "completed"
    },
    "tags": []
   },
   "source": [
    "# Benchmark model\n",
    "\n",
    "The purpose of this notebook is to benchmark persisted onnx-model (trained in the\n",
    "previous step) against evaluation set."
   ]
  },
  {
   "cell_type": "markdown",
   "id": "4e7d4bf2",
   "metadata": {
    "papermill": {
     "duration": 0.004146,
     "end_time": "2022-07-07T14:36:09.010066",
     "exception": false,
     "start_time": "2022-07-07T14:36:09.005920",
     "status": "completed"
    },
    "tags": []
   },
   "source": [
    "### Determine run parameters"
   ]
  },
  {
   "cell_type": "code",
   "execution_count": 1,
   "id": "a601271e",
   "metadata": {
    "execution": {
     "iopub.execute_input": "2022-07-07T14:36:09.019902Z",
     "iopub.status.busy": "2022-07-07T14:36:09.019598Z",
     "iopub.status.idle": "2022-07-07T14:36:09.027337Z",
     "shell.execute_reply": "2022-07-07T14:36:09.026831Z"
    },
    "lines_to_next_cell": 0,
    "papermill": {
     "duration": 0.015615,
     "end_time": "2022-07-07T14:36:09.029856",
     "exception": false,
     "start_time": "2022-07-07T14:36:09.014241",
     "status": "completed"
    },
    "tags": []
   },
   "outputs": [],
   "source": [
    "# ----------------- Parameters for interactive development --------------\n",
    "P = {\n",
    "    \"pipeline.data_lake_root\": \"/pipeline-outputs/data-lake\",\n",
    "    \"task.nr_train_images\": 600,\n",
    "}"
   ]
  },
  {
   "cell_type": "code",
   "execution_count": 2,
   "id": "45272c8c",
   "metadata": {
    "execution": {
     "iopub.execute_input": "2022-07-07T14:36:09.039340Z",
     "iopub.status.busy": "2022-07-07T14:36:09.039132Z",
     "iopub.status.idle": "2022-07-07T14:36:09.041846Z",
     "shell.execute_reply": "2022-07-07T14:36:09.041367Z"
    },
    "lines_to_next_cell": 0,
    "papermill": {
     "duration": 0.010453,
     "end_time": "2022-07-07T14:36:09.044658",
     "exception": false,
     "start_time": "2022-07-07T14:36:09.034205",
     "status": "completed"
    },
    "tags": [
     "parameters"
    ]
   },
   "outputs": [],
   "source": [
    "# - During automated runs parameters will be injected in the below cell -"
   ]
  },
  {
   "cell_type": "code",
   "execution_count": 3,
   "id": "d1781d84",
   "metadata": {
    "execution": {
     "iopub.execute_input": "2022-07-07T14:36:09.054101Z",
     "iopub.status.busy": "2022-07-07T14:36:09.053888Z",
     "iopub.status.idle": "2022-07-07T14:36:09.058974Z",
     "shell.execute_reply": "2022-07-07T14:36:09.058466Z"
    },
    "papermill": {
     "duration": 0.012221,
     "end_time": "2022-07-07T14:36:09.061293",
     "exception": false,
     "start_time": "2022-07-07T14:36:09.049072",
     "status": "completed"
    },
    "tags": [
     "injected-parameters"
    ]
   },
   "outputs": [],
   "source": [
    "# Parameters\n",
    "P = {\n",
    "    \"pipeline.data_lake_root\": \"/pipeline-outputs/data-lake\",\n",
    "    \"pipeline.run_environment\": \"ci\",\n",
    "    \"pipeline.pipeline_run_id\": \"e20e895d-454d-4542-b4da-b1ac1d08cc0d\",\n",
    "    \"pipeline.github.repository\": \"pynb-dag-runner/mnist-digits-demo-pipeline\",\n",
    "    \"pipeline.github.workflow\": \"Run automated tests, pipeline and deploy results to static reporting site\",\n",
    "    \"pipeline.github.runner_name\": \"GitHub Actions 4\",\n",
    "    \"pipeline.github.run_id\": \"2630256446\",\n",
    "    \"pipeline.github.actor\": \"matiasdahl\",\n",
    "    \"pipeline.github.job\": \"run-tests-pipeline-and-persist-pipeline-outputs\",\n",
    "    \"pipeline.github.base_ref\": \"development\",\n",
    "    \"pipeline.github.head_ref\": \"readme-link-to-docs\",\n",
    "    \"pipeline.github.sha\": \"9618eea67de36c0cc64d4fc66ed9a3f1b50bbff3\",\n",
    "    \"pipeline.github.ref\": \"refs/pull/56/merge\",\n",
    "    \"pipeline.github.ref_type\": \"branch\",\n",
    "    \"pipeline.github.ref_name\": \"56/merge\",\n",
    "    \"pipeline.github.event_name\": \"pull_request\",\n",
    "    \"task.nr_train_images\": 800,\n",
    "    \"task.notebook\": \"notebooks/benchmark-model.py\",\n",
    "    \"task.max_nr_retries\": \"1\",\n",
    "    \"run.retry_nr\": \"0\",\n",
    "    \"task.timeout_s\": \"None\",\n",
    "    \"task.num_cpus\": 1,\n",
    "    \"_opentelemetry_traceparent\": \"00-b43d28cb3639d104708e53a0cb86f226-c6d949b94470f6b7-01\",\n",
    "}\n"
   ]
  },
  {
   "cell_type": "code",
   "execution_count": 4,
   "id": "2553cd63",
   "metadata": {
    "execution": {
     "iopub.execute_input": "2022-07-07T14:36:09.071762Z",
     "iopub.status.busy": "2022-07-07T14:36:09.071557Z",
     "iopub.status.idle": "2022-07-07T14:36:09.074027Z",
     "shell.execute_reply": "2022-07-07T14:36:09.073561Z"
    },
    "lines_to_next_cell": 0,
    "papermill": {
     "duration": 0.011974,
     "end_time": "2022-07-07T14:36:09.077011",
     "exception": false,
     "start_time": "2022-07-07T14:36:09.065037",
     "status": "completed"
    },
    "tags": []
   },
   "outputs": [],
   "source": [
    "# -----------------------------------------------------------------------"
   ]
  },
  {
   "cell_type": "markdown",
   "id": "bcc0c6da",
   "metadata": {
    "papermill": {
     "duration": 0.008883,
     "end_time": "2022-07-07T14:36:09.089737",
     "exception": false,
     "start_time": "2022-07-07T14:36:09.080854",
     "status": "completed"
    },
    "tags": []
   },
   "source": [
    "---"
   ]
  },
  {
   "cell_type": "markdown",
   "id": "06cfa435",
   "metadata": {
    "lines_to_next_cell": 2,
    "papermill": {
     "duration": 0.004493,
     "end_time": "2022-07-07T14:36:09.097991",
     "exception": false,
     "start_time": "2022-07-07T14:36:09.093498",
     "status": "completed"
    },
    "tags": []
   },
   "source": [
    "### Notebook code"
   ]
  },
  {
   "cell_type": "code",
   "execution_count": 5,
   "id": "eb4c707f",
   "metadata": {
    "execution": {
     "iopub.execute_input": "2022-07-07T14:36:09.107150Z",
     "iopub.status.busy": "2022-07-07T14:36:09.106919Z",
     "iopub.status.idle": "2022-07-07T14:36:10.232607Z",
     "shell.execute_reply": "2022-07-07T14:36:10.231948Z"
    },
    "papermill": {
     "duration": 1.132429,
     "end_time": "2022-07-07T14:36:10.234204",
     "exception": false,
     "start_time": "2022-07-07T14:36:09.101775",
     "status": "completed"
    },
    "tags": []
   },
   "outputs": [
    {
     "name": "stderr",
     "output_type": "stream",
     "text": [
      "2022-07-07 14:36:10,065\tINFO worker.py:842 -- Connecting to existing Ray cluster at address: 172.17.0.2:6379\n"
     ]
    }
   ],
   "source": [
    "import itertools as it\n",
    "\n",
    "#\n",
    "import numpy as np\n",
    "import matplotlib.pyplot as plt\n",
    "\n",
    "#\n",
    "from pynb_dag_runner.tasks.task_opentelemetry_logging import PydarLogger\n",
    "\n",
    "#\n",
    "from common.io import datalake_root\n",
    "\n",
    "logger = PydarLogger(P)"
   ]
  },
  {
   "cell_type": "markdown",
   "id": "4cac46a8",
   "metadata": {
    "papermill": {
     "duration": 0.004456,
     "end_time": "2022-07-07T14:36:10.244231",
     "exception": false,
     "start_time": "2022-07-07T14:36:10.239775",
     "status": "completed"
    },
    "tags": []
   },
   "source": [
    "## Load persisted onnx-model and evaluation data"
   ]
  },
  {
   "cell_type": "code",
   "execution_count": 6,
   "id": "77ea5164",
   "metadata": {
    "execution": {
     "iopub.execute_input": "2022-07-07T14:36:10.253865Z",
     "iopub.status.busy": "2022-07-07T14:36:10.253551Z",
     "iopub.status.idle": "2022-07-07T14:36:10.256832Z",
     "shell.execute_reply": "2022-07-07T14:36:10.256253Z"
    },
    "papermill": {
     "duration": 0.011364,
     "end_time": "2022-07-07T14:36:10.259826",
     "exception": false,
     "start_time": "2022-07-07T14:36:10.248462",
     "status": "completed"
    },
    "tags": []
   },
   "outputs": [],
   "source": [
    "from common.io import read_onnx, get_onnx_inputs, get_onnx_outputs, read_numpy"
   ]
  },
  {
   "cell_type": "code",
   "execution_count": 7,
   "id": "fddfa7b7",
   "metadata": {
    "execution": {
     "iopub.execute_input": "2022-07-07T14:36:10.269654Z",
     "iopub.status.busy": "2022-07-07T14:36:10.269433Z",
     "iopub.status.idle": "2022-07-07T14:36:10.279528Z",
     "shell.execute_reply": "2022-07-07T14:36:10.278986Z"
    },
    "lines_to_next_cell": 0,
    "papermill": {
     "duration": 0.017234,
     "end_time": "2022-07-07T14:36:10.281313",
     "exception": false,
     "start_time": "2022-07-07T14:36:10.264079",
     "status": "completed"
    },
    "tags": []
   },
   "outputs": [],
   "source": [
    "onnx_inference_session = read_onnx(\n",
    "    datalake_root(P)\n",
    "    / \"models\"\n",
    "    / f\"nr_train_images={P['task.nr_train_images']}\"\n",
    "    / \"model.onnx\"\n",
    ")"
   ]
  },
  {
   "cell_type": "markdown",
   "id": "97682939",
   "metadata": {
    "papermill": {
     "duration": 0.004595,
     "end_time": "2022-07-07T14:36:10.290264",
     "exception": false,
     "start_time": "2022-07-07T14:36:10.285669",
     "status": "completed"
    },
    "tags": []
   },
   "source": [
    "### Record structure of inputs and outputs for ONNX model\n",
    "\n",
    "(this should likely be done in training notebook)"
   ]
  },
  {
   "cell_type": "code",
   "execution_count": 8,
   "id": "71fd7451",
   "metadata": {
    "execution": {
     "iopub.execute_input": "2022-07-07T14:36:10.299790Z",
     "iopub.status.busy": "2022-07-07T14:36:10.299579Z",
     "iopub.status.idle": "2022-07-07T14:36:10.304959Z",
     "shell.execute_reply": "2022-07-07T14:36:10.304473Z"
    },
    "papermill": {
     "duration": 0.013921,
     "end_time": "2022-07-07T14:36:10.308436",
     "exception": false,
     "start_time": "2022-07-07T14:36:10.294515",
     "status": "completed"
    },
    "tags": []
   },
   "outputs": [
    {
     "name": "stdout",
     "output_type": "stream",
     "text": [
      "{\n",
      "  \"inputs\": [\n",
      "    {\n",
      "      \"name\": \"float_input_8x8_image\",\n",
      "      \"shape\": [\n",
      "        null,\n",
      "        64\n",
      "      ],\n",
      "      \"type\": \"tensor(float)\"\n",
      "    }\n",
      "  ],\n",
      "  \"outputs\": [\n",
      "    {\n",
      "      \"name\": \"output_label\",\n",
      "      \"shape\": [\n",
      "        null\n",
      "      ],\n",
      "      \"type\": \"tensor(int64)\"\n",
      "    },\n",
      "    {\n",
      "      \"name\": \"output_probability\",\n",
      "      \"shape\": [],\n",
      "      \"type\": \"seq(map(int64,tensor(float)))\"\n",
      "    }\n",
      "  ]\n",
      "}\n"
     ]
    }
   ],
   "source": [
    "import json\n",
    "\n",
    "onnx_io = json.dumps(\n",
    "    {\n",
    "        \"inputs\": get_onnx_inputs(onnx_inference_session),\n",
    "        \"outputs\": get_onnx_outputs(onnx_inference_session),\n",
    "    },\n",
    "    indent=2,\n",
    ")\n",
    "\n",
    "\n",
    "logger.log_artefact(\"onnx_io_structure.json\", onnx_io)\n",
    "print(onnx_io)"
   ]
  },
  {
   "cell_type": "markdown",
   "id": "33eb1c61",
   "metadata": {
    "papermill": {
     "duration": 0.004594,
     "end_time": "2022-07-07T14:36:10.317384",
     "exception": false,
     "start_time": "2022-07-07T14:36:10.312790",
     "status": "completed"
    },
    "tags": []
   },
   "source": [
    "### Evaluate model performance on evaluation data set"
   ]
  },
  {
   "cell_type": "code",
   "execution_count": 9,
   "id": "086e7dcc",
   "metadata": {
    "execution": {
     "iopub.execute_input": "2022-07-07T14:36:10.327159Z",
     "iopub.status.busy": "2022-07-07T14:36:10.326894Z",
     "iopub.status.idle": "2022-07-07T14:36:10.331455Z",
     "shell.execute_reply": "2022-07-07T14:36:10.330942Z"
    },
    "papermill": {
     "duration": 0.012034,
     "end_time": "2022-07-07T14:36:10.333910",
     "exception": false,
     "start_time": "2022-07-07T14:36:10.321876",
     "status": "completed"
    },
    "tags": []
   },
   "outputs": [],
   "source": [
    "# load evaluation data\n",
    "X_test = read_numpy(datalake_root(P) / \"test-data\" / \"digits.numpy\")\n",
    "y_test = read_numpy(datalake_root(P) / \"test-data\" / \"labels.numpy\")"
   ]
  },
  {
   "cell_type": "code",
   "execution_count": 10,
   "id": "896e779c",
   "metadata": {
    "execution": {
     "iopub.execute_input": "2022-07-07T14:36:10.343483Z",
     "iopub.status.busy": "2022-07-07T14:36:10.343256Z",
     "iopub.status.idle": "2022-07-07T14:36:10.356853Z",
     "shell.execute_reply": "2022-07-07T14:36:10.356276Z"
    },
    "papermill": {
     "duration": 0.020232,
     "end_time": "2022-07-07T14:36:10.358425",
     "exception": false,
     "start_time": "2022-07-07T14:36:10.338193",
     "status": "completed"
    },
    "tags": []
   },
   "outputs": [],
   "source": [
    "def get_model_outputs(X, onnx_inference_session):\n",
    "    y_pred_labels, y_pred_map = onnx_inference_session.run(\n",
    "        [\"output_label\", \"output_probability\"],\n",
    "        {\"float_input_8x8_image\": X.astype(np.float32)},\n",
    "    )\n",
    "    y_pred_probs = np.array(\n",
    "        [[probabilities[digit] for digit in range(10)] for probabilities in y_pred_map]\n",
    "    )\n",
    "\n",
    "    assert y_pred_labels.shape == (X.shape[0],)\n",
    "    assert y_pred_probs.shape == (X.shape[0], 10)\n",
    "\n",
    "    return y_pred_labels, y_pred_probs\n",
    "\n",
    "\n",
    "# Note: as shown in the training notebook, the predicted labels and probabilities\n",
    "# computed below need not be compatible.\n",
    "y_pred_labels_test, y_pred_probs_test = get_model_outputs(\n",
    "    X_test, onnx_inference_session\n",
    ")"
   ]
  },
  {
   "cell_type": "markdown",
   "id": "9283fce5",
   "metadata": {
    "papermill": {
     "duration": 0.00438,
     "end_time": "2022-07-07T14:36:10.367820",
     "exception": false,
     "start_time": "2022-07-07T14:36:10.363440",
     "status": "completed"
    },
    "tags": []
   },
   "source": [
    "### Confusion matrix"
   ]
  },
  {
   "cell_type": "code",
   "execution_count": 11,
   "id": "35edb49d",
   "metadata": {
    "execution": {
     "iopub.execute_input": "2022-07-07T14:36:10.377325Z",
     "iopub.status.busy": "2022-07-07T14:36:10.377117Z",
     "iopub.status.idle": "2022-07-07T14:36:10.379964Z",
     "shell.execute_reply": "2022-07-07T14:36:10.379203Z"
    },
    "papermill": {
     "duration": 0.010223,
     "end_time": "2022-07-07T14:36:10.382346",
     "exception": false,
     "start_time": "2022-07-07T14:36:10.372123",
     "status": "completed"
    },
    "tags": []
   },
   "outputs": [],
   "source": [
    "# TODO"
   ]
  },
  {
   "cell_type": "markdown",
   "id": "301ef49b",
   "metadata": {
    "papermill": {
     "duration": 0.004409,
     "end_time": "2022-07-07T14:36:10.391312",
     "exception": false,
     "start_time": "2022-07-07T14:36:10.386903",
     "status": "completed"
    },
    "tags": []
   },
   "source": [
    "### Plot predicted probabilities for each classifier over all evaluation digit images"
   ]
  },
  {
   "cell_type": "code",
   "execution_count": 12,
   "id": "c7dc7597",
   "metadata": {
    "execution": {
     "iopub.execute_input": "2022-07-07T14:36:10.401258Z",
     "iopub.status.busy": "2022-07-07T14:36:10.401038Z",
     "iopub.status.idle": "2022-07-07T14:36:13.306797Z",
     "shell.execute_reply": "2022-07-07T14:36:13.306177Z"
    },
    "papermill": {
     "duration": 2.913289,
     "end_time": "2022-07-07T14:36:13.308796",
     "exception": false,
     "start_time": "2022-07-07T14:36:10.395507",
     "status": "completed"
    },
    "tags": []
   },
   "outputs": [
    {
     "data": {
      "image/png": "[encoded data removed]",
      "text/plain": [
       "<Figure size 1152x432 with 10 Axes>"
      ]
     },
     "metadata": {
      "needs_background": "light"
     },
     "output_type": "display_data"
    }
   ],
   "source": [
    "def plot_per_digit_probabilities(y_pred_probs):\n",
    "    fig, axs = plt.subplots(nrows=2, ncols=5, figsize=(16, 6))\n",
    "\n",
    "    for (r, c), digit, ax in zip(\n",
    "        it.product(range(2), range(5)), range(10), axs.reshape(-1)\n",
    "    ):\n",
    "        ax.hist(y_pred_probs_test[:, digit], bins=20)\n",
    "\n",
    "        ax.set_title(f\"Digit {digit}\")\n",
    "        if r == 1 and c == 2:\n",
    "            ax.set_xlabel(\"probability\", fontsize=16)\n",
    "\n",
    "        if c == 0:\n",
    "            ax.set_ylabel(\"counts\", fontsize=16)\n",
    "        ax.set_yscale(\"log\")\n",
    "\n",
    "    fig.tight_layout()\n",
    "    fig.suptitle(\n",
    "        f\"Distributions of prediction probabilities for each digit \"\n",
    "        f\"(on evaluation data, n={y_pred_probs.shape[0]})\",\n",
    "        fontsize=20,\n",
    "    )\n",
    "    fig.tight_layout()\n",
    "    fig.show()\n",
    "\n",
    "    return fig\n",
    "\n",
    "\n",
    "fig = plot_per_digit_probabilities(y_pred_probs_test)"
   ]
  },
  {
   "cell_type": "markdown",
   "id": "2d9e219a",
   "metadata": {
    "papermill": {
     "duration": 0.004955,
     "end_time": "2022-07-07T14:36:13.319011",
     "exception": false,
     "start_time": "2022-07-07T14:36:13.314056",
     "status": "completed"
    },
    "tags": []
   },
   "source": [
    "From the above distributions we see that most digits have clear separation between\n",
    "high and lower probabilities. Morover, in each case there is roughly an order of\n",
    "magnitude more of digits with low probabilities. This is compatible with digits\n",
    "being roughly evenly distributed in the data."
   ]
  },
  {
   "cell_type": "code",
   "execution_count": 13,
   "id": "f715b17a",
   "metadata": {
    "execution": {
     "iopub.execute_input": "2022-07-07T14:36:13.329693Z",
     "iopub.status.busy": "2022-07-07T14:36:13.329343Z",
     "iopub.status.idle": "2022-07-07T14:36:13.719717Z",
     "shell.execute_reply": "2022-07-07T14:36:13.719118Z"
    },
    "papermill": {
     "duration": 0.397837,
     "end_time": "2022-07-07T14:36:13.721437",
     "exception": false,
     "start_time": "2022-07-07T14:36:13.323600",
     "status": "completed"
    },
    "tags": []
   },
   "outputs": [],
   "source": [
    "logger.log_figure(\"per-digit-probabilities.png\", fig)"
   ]
  },
  {
   "cell_type": "markdown",
   "id": "c62fe63e",
   "metadata": {
    "papermill": {
     "duration": 0.004743,
     "end_time": "2022-07-07T14:36:13.731633",
     "exception": false,
     "start_time": "2022-07-07T14:36:13.726890",
     "status": "completed"
    },
    "tags": []
   },
   "source": [
    "### Plot ROC curves for individual one-vs-rest classifiers"
   ]
  },
  {
   "cell_type": "code",
   "execution_count": 14,
   "id": "8aa3dd1a",
   "metadata": {
    "execution": {
     "iopub.execute_input": "2022-07-07T14:36:13.743471Z",
     "iopub.status.busy": "2022-07-07T14:36:13.742914Z",
     "iopub.status.idle": "2022-07-07T14:36:14.108509Z",
     "shell.execute_reply": "2022-07-07T14:36:14.107904Z"
    },
    "papermill": {
     "duration": 0.373298,
     "end_time": "2022-07-07T14:36:14.110340",
     "exception": false,
     "start_time": "2022-07-07T14:36:13.737042",
     "status": "completed"
    },
    "tags": []
   },
   "outputs": [],
   "source": [
    "from sklearn import metrics"
   ]
  },
  {
   "cell_type": "code",
   "execution_count": 15,
   "id": "c1573d9d",
   "metadata": {
    "execution": {
     "iopub.execute_input": "2022-07-07T14:36:14.123398Z",
     "iopub.status.busy": "2022-07-07T14:36:14.123119Z",
     "iopub.status.idle": "2022-07-07T14:36:15.124048Z",
     "shell.execute_reply": "2022-07-07T14:36:15.123314Z"
    },
    "papermill": {
     "duration": 1.010042,
     "end_time": "2022-07-07T14:36:15.126046",
     "exception": false,
     "start_time": "2022-07-07T14:36:14.116004",
     "status": "completed"
    },
    "tags": []
   },
   "outputs": [
    {
     "data": {
      "image/png": "[encoded data removed]",
      "text/plain": [
       "<Figure size 1152x576 with 10 Axes>"
      ]
     },
     "metadata": {
      "needs_background": "light"
     },
     "output_type": "display_data"
    }
   ],
   "source": [
    "def plot_roc_curves(y, y_pred_probs):\n",
    "    # based on example code\n",
    "    # https://scikit-learn.org/stable/auto_examples/model_selection/plot_roc.html\n",
    "\n",
    "    fig, axs = plt.subplots(nrows=2, ncols=5, figsize=(16, 8))\n",
    "\n",
    "    roc_auc_dict = {}\n",
    "\n",
    "    for (r, c), digit, ax in zip(\n",
    "        it.product(range(2), range(5)), range(10), axs.reshape(-1)\n",
    "    ):\n",
    "        fpr, tpr, _ = metrics.roc_curve(y == digit, y_pred_probs[:, digit])\n",
    "        auc = metrics.auc(fpr, tpr)\n",
    "        roc_auc_dict[str(digit)] = auc\n",
    "\n",
    "        ax.plot(fpr, tpr, label=f\"ROC AUC={round(auc, 3)}\")\n",
    "\n",
    "        ax.set_title(f\"\\nDigit {digit}\", fontsize=16)\n",
    "        if r == 1:\n",
    "            ax.set_xlabel(\"FPR\", fontsize=18)\n",
    "\n",
    "        if c == 0:\n",
    "            ax.set_ylabel(\"TPR\", fontsize=18)\n",
    "\n",
    "        ax.set_xlim([-0.05, 1.05])\n",
    "        ax.set_ylim([-0.05, 1.05])\n",
    "        ax.legend(loc=\"lower right\", frameon=False, fontsize=14)\n",
    "\n",
    "    fig.tight_layout()\n",
    "    fig.suptitle(\n",
    "        f\"ROC plots for one-vs-rest performances \"\n",
    "        f\"(on evaluation data, n={y_pred_probs_test.shape[1]}\",\n",
    "        fontsize=22,\n",
    "    )\n",
    "    fig.tight_layout()\n",
    "    fig.show()\n",
    "\n",
    "    return roc_auc_dict, fig\n",
    "\n",
    "\n",
    "roc_auc_dict, fig = plot_roc_curves(y_test, y_pred_probs_test)"
   ]
  },
  {
   "cell_type": "code",
   "execution_count": 16,
   "id": "8b2c0286",
   "metadata": {
    "execution": {
     "iopub.execute_input": "2022-07-07T14:36:15.137507Z",
     "iopub.status.busy": "2022-07-07T14:36:15.137277Z",
     "iopub.status.idle": "2022-07-07T14:36:15.339100Z",
     "shell.execute_reply": "2022-07-07T14:36:15.338399Z"
    },
    "papermill": {
     "duration": 0.209841,
     "end_time": "2022-07-07T14:36:15.341125",
     "exception": false,
     "start_time": "2022-07-07T14:36:15.131284",
     "status": "completed"
    },
    "tags": []
   },
   "outputs": [],
   "source": [
    "logger.log_figure(\"per-digit-roc-curves.png\", fig)"
   ]
  },
  {
   "cell_type": "code",
   "execution_count": 17,
   "id": "3e4c32f0",
   "metadata": {
    "execution": {
     "iopub.execute_input": "2022-07-07T14:36:15.353293Z",
     "iopub.status.busy": "2022-07-07T14:36:15.353035Z",
     "iopub.status.idle": "2022-07-07T14:36:15.357991Z",
     "shell.execute_reply": "2022-07-07T14:36:15.357391Z"
    },
    "papermill": {
     "duration": 0.013324,
     "end_time": "2022-07-07T14:36:15.360034",
     "exception": false,
     "start_time": "2022-07-07T14:36:15.346710",
     "status": "completed"
    },
    "tags": []
   },
   "outputs": [
    {
     "data": {
      "text/plain": [
       "{'0': 1.0,\n",
       " '1': 0.9988003748828491,\n",
       " '2': 1.0,\n",
       " '3': 0.9997750702905343,\n",
       " '4': 0.9993141289437586,\n",
       " '5': 0.9991002811621369,\n",
       " '6': 0.999923792104862,\n",
       " '7': 0.9998856881572931,\n",
       " '8': 0.9931825346784363,\n",
       " '9': 0.9994665447340345}"
      ]
     },
     "execution_count": 17,
     "metadata": {},
     "output_type": "execute_result"
    }
   ],
   "source": [
    "roc_auc_dict"
   ]
  },
  {
   "cell_type": "code",
   "execution_count": 18,
   "id": "c4b77a88",
   "metadata": {
    "execution": {
     "iopub.execute_input": "2022-07-07T14:36:15.372194Z",
     "iopub.status.busy": "2022-07-07T14:36:15.371640Z",
     "iopub.status.idle": "2022-07-07T14:36:15.375880Z",
     "shell.execute_reply": "2022-07-07T14:36:15.375220Z"
    },
    "papermill": {
     "duration": 0.012088,
     "end_time": "2022-07-07T14:36:15.377410",
     "exception": false,
     "start_time": "2022-07-07T14:36:15.365322",
     "status": "completed"
    },
    "tags": []
   },
   "outputs": [
    {
     "name": "stdout",
     "output_type": "stream",
     "text": [
      " - Logging roc_auc_per_digit (json) : {'0': 1.0, '1': 0.9988003748828491, '2': 1.0, '3': 0.9997750702905343, '4': 0.9993141289437586, '5': 0.9991002811621369, '6': 0.999923792104862, '7': 0.9998856881572931, '8': 0.9931825346784363, '9': 0.9994665447340345}\n"
     ]
    }
   ],
   "source": [
    "logger.log_value(\"roc_auc_per_digit\", roc_auc_dict)"
   ]
  },
  {
   "cell_type": "markdown",
   "id": "85883108",
   "metadata": {
    "papermill": {
     "duration": 0.005318,
     "end_time": "2022-07-07T14:36:15.388169",
     "exception": false,
     "start_time": "2022-07-07T14:36:15.382851",
     "status": "completed"
    },
    "tags": []
   },
   "source": [
    "### Compute and log mean ROC AUC score averaged over all digits"
   ]
  },
  {
   "cell_type": "code",
   "execution_count": 19,
   "id": "35acb102",
   "metadata": {
    "execution": {
     "iopub.execute_input": "2022-07-07T14:36:15.400609Z",
     "iopub.status.busy": "2022-07-07T14:36:15.399963Z",
     "iopub.status.idle": "2022-07-07T14:36:15.411602Z",
     "shell.execute_reply": "2022-07-07T14:36:15.411001Z"
    },
    "papermill": {
     "duration": 0.019375,
     "end_time": "2022-07-07T14:36:15.412982",
     "exception": false,
     "start_time": "2022-07-07T14:36:15.393607",
     "status": "completed"
    },
    "tags": []
   },
   "outputs": [
    {
     "name": "stdout",
     "output_type": "stream",
     "text": [
      " - Logging roc_auc_class_mean (float) : 0.9989448414953903\n"
     ]
    }
   ],
   "source": [
    "roc_auc_macro = np.mean(list(roc_auc_dict.values()))\n",
    "\n",
    "logger.log_float(\"roc_auc_class_mean\", roc_auc_macro)\n",
    "\n",
    "# assert that the same value can be computed directly using sklearn\n",
    "assert roc_auc_macro == metrics.roc_auc_score(\n",
    "    y_test, y_pred_probs_test, average=\"macro\", multi_class=\"ovr\"\n",
    ")"
   ]
  },
  {
   "cell_type": "code",
   "execution_count": 20,
   "id": "e1c78c8b",
   "metadata": {
    "execution": {
     "iopub.execute_input": "2022-07-07T14:36:15.429327Z",
     "iopub.status.busy": "2022-07-07T14:36:15.426197Z",
     "iopub.status.idle": "2022-07-07T14:36:15.432642Z",
     "shell.execute_reply": "2022-07-07T14:36:15.432145Z"
    },
    "lines_to_next_cell": 0,
    "papermill": {
     "duration": 0.01587,
     "end_time": "2022-07-07T14:36:15.434223",
     "exception": false,
     "start_time": "2022-07-07T14:36:15.418353",
     "status": "completed"
    },
    "tags": []
   },
   "outputs": [],
   "source": [
    "# ---"
   ]
  },
  {
   "cell_type": "code",
   "execution_count": null,
   "id": "3632f3f0",
   "metadata": {
    "papermill": {
     "duration": 0.005446,
     "end_time": "2022-07-07T14:36:15.445486",
     "exception": false,
     "start_time": "2022-07-07T14:36:15.440040",
     "status": "completed"
    },
    "tags": []
   },
   "outputs": [],
   "source": []
  }
 ],
 "metadata": {
  "jupytext": {
   "cell_metadata_filter": "tags,-all",
   "main_language": "python",
   "notebook_metadata_filter": "-all"
  },
  "language_info": {
   "codemirror_mode": {
    "name": "ipython",
    "version": 3
   },
   "file_extension": ".py",
   "mimetype": "text/x-python",
   "name": "python",
   "nbconvert_exporter": "python",
   "pygments_lexer": "ipython3",
   "version": "3.8.10"
  },
  "papermill": {
   "default_parameters": {},
   "duration": 8.99551,
   "end_time": "2022-07-07T14:36:16.774254",
   "environment_variables": {},
   "exception": null,
   "input_path": "/home/host_user/workspace/mnist-demo-pipeline/mnist-demo-pipeline/notebooks/temp-notebook-00khjthk.ipynb",
   "output_path": "notebooks/benchmark-model.ipynb",
   "parameters": {
    "P": {
     "_opentelemetry_traceparent": "00-b43d28cb3639d104708e53a0cb86f226-c6d949b94470f6b7-01",
     "pipeline.data_lake_root": "/pipeline-outputs/data-lake",
     "pipeline.github.actor": "matiasdahl",
     "pipeline.github.base_ref": "development",
     "pipeline.github.event_name": "pull_request",
     "pipeline.github.head_ref": "readme-link-to-docs",
     "pipeline.github.job": "run-tests-pipeline-and-persist-pipeline-outputs",
     "pipeline.github.ref": "refs/pull/56/merge",
     "pipeline.github.ref_name": "56/merge",
     "pipeline.github.ref_type": "branch",
     "pipeline.github.repository": "pynb-dag-runner/mnist-digits-demo-pipeline",
     "pipeline.github.run_id": "2630256446",
     "pipeline.github.runner_name": "GitHub Actions 4",
     "pipeline.github.sha": "9618eea67de36c0cc64d4fc66ed9a3f1b50bbff3",
     "pipeline.github.workflow": "Run automated tests, pipeline and deploy results to static reporting site",
     "pipeline.pipeline_run_id": "e20e895d-454d-4542-b4da-b1ac1d08cc0d",
     "pipeline.run_environment": "ci",
     "run.retry_nr": "0",
     "task.max_nr_retries": "1",
     "task.notebook": "notebooks/benchmark-model.py",
     "task.nr_train_images": 800,
     "task.num_cpus": 1,
     "task.timeout_s": "None"
    }
   },
   "start_time": "2022-07-07T14:36:07.778744",
   "version": "2.3.3"
  }
 },
 "nbformat": 4,
 "nbformat_minor": 5
}