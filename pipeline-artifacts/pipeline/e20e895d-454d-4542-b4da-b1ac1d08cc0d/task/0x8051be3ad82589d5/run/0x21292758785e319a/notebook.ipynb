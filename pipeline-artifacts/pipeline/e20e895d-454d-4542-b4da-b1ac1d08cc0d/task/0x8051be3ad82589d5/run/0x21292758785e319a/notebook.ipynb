{
 "cells": [
  {
   "cell_type": "markdown",
   "id": "04fbb96e",
   "metadata": {
    "papermill": {
     "duration": 0.004349,
     "end_time": "2022-07-07T14:35:53.603153",
     "exception": false,
     "start_time": "2022-07-07T14:35:53.598804",
     "status": "completed"
    },
    "tags": []
   },
   "source": [
    "# Train model\n",
    "\n",
    "The purpose of this notebook is:\n",
    "\n",
    "- Load all training data (images and labels).\n",
    "- Limit number of train images to `task.nr_train_images` (value provided as run parameter).\n",
    "- Train a support vector machine model using sklearn.\n",
    "- Persist the trained model using the ONNX format."
   ]
  },
  {
   "cell_type": "markdown",
   "id": "c4682eeb",
   "metadata": {
    "papermill": {
     "duration": 0.003614,
     "end_time": "2022-07-07T14:35:53.610823",
     "exception": false,
     "start_time": "2022-07-07T14:35:53.607209",
     "status": "completed"
    },
    "tags": []
   },
   "source": [
    "### Determine run parameters"
   ]
  },
  {
   "cell_type": "code",
   "execution_count": 1,
   "id": "b6ce3713",
   "metadata": {
    "execution": {
     "iopub.execute_input": "2022-07-07T14:35:53.619017Z",
     "iopub.status.busy": "2022-07-07T14:35:53.618695Z",
     "iopub.status.idle": "2022-07-07T14:35:53.627009Z",
     "shell.execute_reply": "2022-07-07T14:35:53.626484Z"
    },
    "lines_to_next_cell": 0,
    "papermill": {
     "duration": 0.015126,
     "end_time": "2022-07-07T14:35:53.628696",
     "exception": false,
     "start_time": "2022-07-07T14:35:53.613570",
     "status": "completed"
    },
    "tags": []
   },
   "outputs": [],
   "source": [
    "# ----------------- Parameters for interactive development --------------\n",
    "P = {\n",
    "    \"pipeline.data_lake_root\": \"/pipeline-outputs/data-lake\",\n",
    "    \"task.nr_train_images\": 600,\n",
    "}"
   ]
  },
  {
   "cell_type": "code",
   "execution_count": 2,
   "id": "3947ae3e",
   "metadata": {
    "execution": {
     "iopub.execute_input": "2022-07-07T14:35:53.636062Z",
     "iopub.status.busy": "2022-07-07T14:35:53.635602Z",
     "iopub.status.idle": "2022-07-07T14:35:53.638630Z",
     "shell.execute_reply": "2022-07-07T14:35:53.638147Z"
    },
    "lines_to_next_cell": 0,
    "papermill": {
     "duration": 0.009589,
     "end_time": "2022-07-07T14:35:53.641124",
     "exception": false,
     "start_time": "2022-07-07T14:35:53.631535",
     "status": "completed"
    },
    "tags": [
     "parameters"
    ]
   },
   "outputs": [],
   "source": [
    "# - During automated runs parameters will be injected in the below cell -"
   ]
  },
  {
   "cell_type": "code",
   "execution_count": 3,
   "id": "1293e560",
   "metadata": {
    "execution": {
     "iopub.execute_input": "2022-07-07T14:35:53.647922Z",
     "iopub.status.busy": "2022-07-07T14:35:53.647711Z",
     "iopub.status.idle": "2022-07-07T14:35:53.652099Z",
     "shell.execute_reply": "2022-07-07T14:35:53.651597Z"
    },
    "papermill": {
     "duration": 0.010388,
     "end_time": "2022-07-07T14:35:53.654319",
     "exception": false,
     "start_time": "2022-07-07T14:35:53.643931",
     "status": "completed"
    },
    "tags": [
     "injected-parameters"
    ]
   },
   "outputs": [],
   "source": [
    "# Parameters\n",
    "P = {\n",
    "    \"pipeline.data_lake_root\": \"/pipeline-outputs/data-lake\",\n",
    "    \"pipeline.run_environment\": \"ci\",\n",
    "    \"pipeline.pipeline_run_id\": \"e20e895d-454d-4542-b4da-b1ac1d08cc0d\",\n",
    "    \"pipeline.github.repository\": \"pynb-dag-runner/mnist-digits-demo-pipeline\",\n",
    "    \"pipeline.github.workflow\": \"Run automated tests, pipeline and deploy results to static reporting site\",\n",
    "    \"pipeline.github.runner_name\": \"GitHub Actions 4\",\n",
    "    \"pipeline.github.run_id\": \"2630256446\",\n",
    "    \"pipeline.github.actor\": \"matiasdahl\",\n",
    "    \"pipeline.github.job\": \"run-tests-pipeline-and-persist-pipeline-outputs\",\n",
    "    \"pipeline.github.base_ref\": \"development\",\n",
    "    \"pipeline.github.head_ref\": \"readme-link-to-docs\",\n",
    "    \"pipeline.github.sha\": \"9618eea67de36c0cc64d4fc66ed9a3f1b50bbff3\",\n",
    "    \"pipeline.github.ref\": \"refs/pull/56/merge\",\n",
    "    \"pipeline.github.ref_type\": \"branch\",\n",
    "    \"pipeline.github.ref_name\": \"56/merge\",\n",
    "    \"pipeline.github.event_name\": \"pull_request\",\n",
    "    \"task.nr_train_images\": 600,\n",
    "    \"task.notebook\": \"notebooks/train-model.py\",\n",
    "    \"task.max_nr_retries\": \"1\",\n",
    "    \"run.retry_nr\": \"0\",\n",
    "    \"task.timeout_s\": \"None\",\n",
    "    \"task.num_cpus\": 1,\n",
    "    \"_opentelemetry_traceparent\": \"00-b43d28cb3639d104708e53a0cb86f226-1fcb0f050691c53a-01\",\n",
    "}\n"
   ]
  },
  {
   "cell_type": "code",
   "execution_count": 4,
   "id": "bc2048fe",
   "metadata": {
    "execution": {
     "iopub.execute_input": "2022-07-07T14:35:53.661021Z",
     "iopub.status.busy": "2022-07-07T14:35:53.660806Z",
     "iopub.status.idle": "2022-07-07T14:35:53.663399Z",
     "shell.execute_reply": "2022-07-07T14:35:53.662880Z"
    },
    "lines_to_next_cell": 0,
    "papermill": {
     "duration": 0.008302,
     "end_time": "2022-07-07T14:35:53.665720",
     "exception": false,
     "start_time": "2022-07-07T14:35:53.657418",
     "status": "completed"
    },
    "tags": []
   },
   "outputs": [],
   "source": [
    "# -----------------------------------------------------------------------"
   ]
  },
  {
   "cell_type": "markdown",
   "id": "03838360",
   "metadata": {
    "papermill": {
     "duration": 0.002751,
     "end_time": "2022-07-07T14:35:53.671699",
     "exception": false,
     "start_time": "2022-07-07T14:35:53.668948",
     "status": "completed"
    },
    "tags": []
   },
   "source": [
    "---"
   ]
  },
  {
   "cell_type": "markdown",
   "id": "4ef06a75",
   "metadata": {
    "lines_to_next_cell": 2,
    "papermill": {
     "duration": 0.00292,
     "end_time": "2022-07-07T14:35:53.677349",
     "exception": false,
     "start_time": "2022-07-07T14:35:53.674429",
     "status": "completed"
    },
    "tags": []
   },
   "source": [
    "### Notebook code"
   ]
  },
  {
   "cell_type": "code",
   "execution_count": 5,
   "id": "1782c51d",
   "metadata": {
    "execution": {
     "iopub.execute_input": "2022-07-07T14:35:53.684590Z",
     "iopub.status.busy": "2022-07-07T14:35:53.684275Z",
     "iopub.status.idle": "2022-07-07T14:35:54.167195Z",
     "shell.execute_reply": "2022-07-07T14:35:54.166606Z"
    },
    "papermill": {
     "duration": 0.489843,
     "end_time": "2022-07-07T14:35:54.169924",
     "exception": false,
     "start_time": "2022-07-07T14:35:53.680081",
     "status": "completed"
    },
    "tags": []
   },
   "outputs": [
    {
     "name": "stderr",
     "output_type": "stream",
     "text": [
      "2022-07-07 14:35:53,992\tINFO worker.py:842 -- Connecting to existing Ray cluster at address: 172.17.0.2:6379\n"
     ]
    }
   ],
   "source": [
    "from pynb_dag_runner.tasks.task_opentelemetry_logging import PydarLogger\n",
    "\n",
    "logger = PydarLogger(P)"
   ]
  },
  {
   "cell_type": "markdown",
   "id": "cfa9914b",
   "metadata": {
    "papermill": {
     "duration": 0.002937,
     "end_time": "2022-07-07T14:35:54.182953",
     "exception": false,
     "start_time": "2022-07-07T14:35:54.180016",
     "status": "completed"
    },
    "tags": []
   },
   "source": [
    "## Load and limit train data"
   ]
  },
  {
   "cell_type": "code",
   "execution_count": 6,
   "id": "2c954048",
   "metadata": {
    "execution": {
     "iopub.execute_input": "2022-07-07T14:35:54.190324Z",
     "iopub.status.busy": "2022-07-07T14:35:54.190000Z",
     "iopub.status.idle": "2022-07-07T14:35:54.539406Z",
     "shell.execute_reply": "2022-07-07T14:35:54.538749Z"
    },
    "papermill": {
     "duration": 0.35541,
     "end_time": "2022-07-07T14:35:54.541175",
     "exception": false,
     "start_time": "2022-07-07T14:35:54.185765",
     "status": "completed"
    },
    "tags": []
   },
   "outputs": [],
   "source": [
    "def load_and_limit_train_data(P):\n",
    "    from common.io import datalake_root, read_numpy\n",
    "    from sklearn.model_selection import train_test_split\n",
    "\n",
    "    X_train_all = read_numpy(datalake_root(P) / \"train-data\" / \"digits.numpy\")\n",
    "    y_train_all = read_numpy(datalake_root(P) / \"train-data\" / \"labels.numpy\")\n",
    "\n",
    "    assert isinstance(P[\"task.nr_train_images\"], int)\n",
    "\n",
    "    # Note: train_test_split will fail if split is 0 or 100%.\n",
    "    assert 0 < P[\"task.nr_train_images\"] < len(y_train_all)\n",
    "\n",
    "    X_train, _, y_train, _ = train_test_split(\n",
    "        X_train_all,\n",
    "        y_train_all,\n",
    "        train_size=P[\"task.nr_train_images\"],\n",
    "        test_size=None,\n",
    "        stratify=y_train_all,\n",
    "        shuffle=True,\n",
    "        random_state=123,\n",
    "    )\n",
    "\n",
    "    assert X_train.shape == (len(y_train), 8 * 8)\n",
    "    return X_train, y_train\n",
    "\n",
    "\n",
    "X_train, y_train = load_and_limit_train_data(P)"
   ]
  },
  {
   "cell_type": "markdown",
   "id": "df39b3f3",
   "metadata": {
    "papermill": {
     "duration": 0.003202,
     "end_time": "2022-07-07T14:35:54.549191",
     "exception": false,
     "start_time": "2022-07-07T14:35:54.545989",
     "status": "completed"
    },
    "tags": []
   },
   "source": [
    "## Train support vector classifier model\n",
    "\n",
    "Below we assume that the hyperparameter $C$ is known.\n",
    "\n",
    "However, this should ideally be found by a hyperparameter search. That could be\n",
    "done in parallel on the Ray cluster, but this needs some more work. Ie., to use\n",
    "multiple cores in the notebook, those cores should be reserved when starting the\n",
    "notebook task (TODO).\n",
    "\n",
    "- https://docs.ray.io/en/latest/tune/key-concepts.html\n",
    "\n",
    "Note: cv-scores would need to be computed here, since they depend on the train data.\n",
    "After this notebook only the onnx-model is available."
   ]
  },
  {
   "cell_type": "code",
   "execution_count": 7,
   "id": "b5241e7a",
   "metadata": {
    "execution": {
     "iopub.execute_input": "2022-07-07T14:35:54.556205Z",
     "iopub.status.busy": "2022-07-07T14:35:54.555950Z",
     "iopub.status.idle": "2022-07-07T14:35:54.634430Z",
     "shell.execute_reply": "2022-07-07T14:35:54.633686Z"
    },
    "papermill": {
     "duration": 0.084362,
     "end_time": "2022-07-07T14:35:54.636379",
     "exception": false,
     "start_time": "2022-07-07T14:35:54.552017",
     "status": "completed"
    },
    "tags": []
   },
   "outputs": [],
   "source": [
    "from sklearn.svm import SVC"
   ]
  },
  {
   "cell_type": "code",
   "execution_count": 8,
   "id": "9359c2ea",
   "metadata": {
    "execution": {
     "iopub.execute_input": "2022-07-07T14:35:54.644398Z",
     "iopub.status.busy": "2022-07-07T14:35:54.643821Z",
     "iopub.status.idle": "2022-07-07T14:35:54.733768Z",
     "shell.execute_reply": "2022-07-07T14:35:54.733077Z"
    },
    "papermill": {
     "duration": 0.096348,
     "end_time": "2022-07-07T14:35:54.736026",
     "exception": false,
     "start_time": "2022-07-07T14:35:54.639678",
     "status": "completed"
    },
    "tags": []
   },
   "outputs": [
    {
     "data": {
      "text/plain": [
       "SVC(C=0.001, kernel='linear', probability=True)"
      ]
     },
     "execution_count": 8,
     "metadata": {},
     "output_type": "execute_result"
    }
   ],
   "source": [
    "model = SVC(C=0.001, kernel=\"linear\", probability=True)\n",
    "\n",
    "model.fit(X_train, y_train)"
   ]
  },
  {
   "cell_type": "markdown",
   "id": "30bac7bd",
   "metadata": {
    "papermill": {
     "duration": 0.003039,
     "end_time": "2022-07-07T14:35:54.742735",
     "exception": false,
     "start_time": "2022-07-07T14:35:54.739696",
     "status": "completed"
    },
    "tags": []
   },
   "source": [
    "### Q: Can the labels returned by `predict(..)` be computed from probabilities returned by the `predict_prob`-method?"
   ]
  },
  {
   "cell_type": "code",
   "execution_count": 9,
   "id": "2e773d53",
   "metadata": {
    "execution": {
     "iopub.execute_input": "2022-07-07T14:35:54.752216Z",
     "iopub.status.busy": "2022-07-07T14:35:54.751886Z",
     "iopub.status.idle": "2022-07-07T14:35:54.790355Z",
     "shell.execute_reply": "2022-07-07T14:35:54.789731Z"
    },
    "papermill": {
     "duration": 0.046147,
     "end_time": "2022-07-07T14:35:54.791929",
     "exception": false,
     "start_time": "2022-07-07T14:35:54.745782",
     "status": "completed"
    },
    "tags": []
   },
   "outputs": [
    {
     "name": "stdout",
     "output_type": "stream",
     "text": [
      " - Logging nr_max_prob_neq_label (int) : 2\n"
     ]
    }
   ],
   "source": [
    "import numpy as np\n",
    "\n",
    "y_train_labels = model.predict(X_train)\n",
    "y_train_probabilities = model.predict_proba(X_train)\n",
    "assert y_train_probabilities.shape == (len(y_train), 10)\n",
    "\n",
    "y_train_max_prob_labels = np.argmax(y_train_probabilities, axis=1)\n",
    "assert y_train_labels.shape == y_train_max_prob_labels.shape == y_train.shape\n",
    "\n",
    "# If the predicted labels would coincide with the labels that have\n",
    "# maximum probability, the below number would be zero\n",
    "logger.log_int(\n",
    "    \"nr_max_prob_neq_label\", int(sum(y_train_max_prob_labels != y_train_labels))\n",
    ")"
   ]
  },
  {
   "cell_type": "markdown",
   "id": "bdb613c8",
   "metadata": {
    "papermill": {
     "duration": 0.003298,
     "end_time": "2022-07-07T14:35:54.798351",
     "exception": false,
     "start_time": "2022-07-07T14:35:54.795053",
     "status": "completed"
    },
    "tags": []
   },
   "source": [
    "The explanation is (likely) explained in the SVC source, see\n",
    "[here](https://github.com/scikit-learn/scikit-learn/blob/main/sklearn/svm/_base.py).\n",
    "Namely, the outputs from `predict(..)` and `predict_proba(..)` may not in some\n",
    "cases be compatible since the latter is computed using cross-validation while\n",
    "the former is not. Thus, the above number need not be zero."
   ]
  },
  {
   "cell_type": "markdown",
   "id": "c9b4bae9",
   "metadata": {
    "papermill": {
     "duration": 0.003091,
     "end_time": "2022-07-07T14:35:54.804492",
     "exception": false,
     "start_time": "2022-07-07T14:35:54.801401",
     "status": "completed"
    },
    "tags": []
   },
   "source": [
    "## Persist model"
   ]
  },
  {
   "cell_type": "code",
   "execution_count": 10,
   "id": "8afd3e07",
   "metadata": {
    "execution": {
     "iopub.execute_input": "2022-07-07T14:35:54.812409Z",
     "iopub.status.busy": "2022-07-07T14:35:54.812037Z",
     "iopub.status.idle": "2022-07-07T14:35:55.878286Z",
     "shell.execute_reply": "2022-07-07T14:35:55.877568Z"
    },
    "papermill": {
     "duration": 1.072658,
     "end_time": "2022-07-07T14:35:55.880469",
     "exception": false,
     "start_time": "2022-07-07T14:35:54.807811",
     "status": "completed"
    },
    "tags": []
   },
   "outputs": [],
   "source": [
    "from skl2onnx import convert_sklearn\n",
    "from skl2onnx.common.data_types import FloatTensorType\n",
    "\n",
    "#\n",
    "from common.io import datalake_root, write_onnx"
   ]
  },
  {
   "cell_type": "code",
   "execution_count": 11,
   "id": "a9afea5c",
   "metadata": {
    "execution": {
     "iopub.execute_input": "2022-07-07T14:35:55.893191Z",
     "iopub.status.busy": "2022-07-07T14:35:55.892768Z",
     "iopub.status.idle": "2022-07-07T14:35:55.967018Z",
     "shell.execute_reply": "2022-07-07T14:35:55.966290Z"
    },
    "papermill": {
     "duration": 0.084879,
     "end_time": "2022-07-07T14:35:55.969042",
     "exception": false,
     "start_time": "2022-07-07T14:35:55.884163",
     "status": "completed"
    },
    "tags": []
   },
   "outputs": [],
   "source": [
    "# convert sklearn model into onnx and persist to data lake\n",
    "\n",
    "model_onnx = convert_sklearn(\n",
    "    model, initial_types=[(\"float_input_8x8_image\", FloatTensorType([None, 8 * 8]))]\n",
    ")\n",
    "write_onnx(\n",
    "    datalake_root(P)\n",
    "    / \"models\"\n",
    "    / f\"nr_train_images={P['task.nr_train_images']}\"\n",
    "    / \"model.onnx\",\n",
    "    model_onnx,\n",
    ")"
   ]
  },
  {
   "cell_type": "code",
   "execution_count": null,
   "id": "53a714ed",
   "metadata": {
    "papermill": {
     "duration": 0.006913,
     "end_time": "2022-07-07T14:35:55.979527",
     "exception": false,
     "start_time": "2022-07-07T14:35:55.972614",
     "status": "completed"
    },
    "tags": []
   },
   "outputs": [],
   "source": []
  }
 ],
 "metadata": {
  "jupytext": {
   "cell_metadata_filter": "tags,-all",
   "main_language": "python",
   "notebook_metadata_filter": "-all"
  },
  "language_info": {
   "codemirror_mode": {
    "name": "ipython",
    "version": 3
   },
   "file_extension": ".py",
   "mimetype": "text/x-python",
   "name": "python",
   "nbconvert_exporter": "python",
   "pygments_lexer": "ipython3",
   "version": "3.8.10"
  },
  "papermill": {
   "default_parameters": {},
   "duration": 4.81769,
   "end_time": "2022-07-07T14:35:57.205365",
   "environment_variables": {},
   "exception": null,
   "input_path": "/home/host_user/workspace/mnist-demo-pipeline/mnist-demo-pipeline/notebooks/temp-notebook-0zxbs987.ipynb",
   "output_path": "notebooks/train-model.ipynb",
   "parameters": {
    "P": {
     "_opentelemetry_traceparent": "00-b43d28cb3639d104708e53a0cb86f226-1fcb0f050691c53a-01",
     "pipeline.data_lake_root": "/pipeline-outputs/data-lake",
     "pipeline.github.actor": "matiasdahl",
     "pipeline.github.base_ref": "development",
     "pipeline.github.event_name": "pull_request",
     "pipeline.github.head_ref": "readme-link-to-docs",
     "pipeline.github.job": "run-tests-pipeline-and-persist-pipeline-outputs",
     "pipeline.github.ref": "refs/pull/56/merge",
     "pipeline.github.ref_name": "56/merge",
     "pipeline.github.ref_type": "branch",
     "pipeline.github.repository": "pynb-dag-runner/mnist-digits-demo-pipeline",
     "pipeline.github.run_id": "2630256446",
     "pipeline.github.runner_name": "GitHub Actions 4",
     "pipeline.github.sha": "9618eea67de36c0cc64d4fc66ed9a3f1b50bbff3",
     "pipeline.github.workflow": "Run automated tests, pipeline and deploy results to static reporting site",
     "pipeline.pipeline_run_id": "e20e895d-454d-4542-b4da-b1ac1d08cc0d",
     "pipeline.run_environment": "ci",
     "run.retry_nr": "0",
     "task.max_nr_retries": "1",
     "task.notebook": "notebooks/train-model.py",
     "task.nr_train_images": 600,
     "task.num_cpus": 1,
     "task.timeout_s": "None"
    }
   },
   "start_time": "2022-07-07T14:35:52.387675",
   "version": "2.3.3"
  }
 },
 "nbformat": 4,
 "nbformat_minor": 5
}