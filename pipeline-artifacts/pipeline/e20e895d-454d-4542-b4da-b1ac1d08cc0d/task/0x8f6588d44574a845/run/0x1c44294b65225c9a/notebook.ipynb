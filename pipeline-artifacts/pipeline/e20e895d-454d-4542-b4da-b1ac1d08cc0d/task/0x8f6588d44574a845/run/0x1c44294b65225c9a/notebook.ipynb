{
 "cells": [
  {
   "cell_type": "markdown",
   "id": "dc9495b1",
   "metadata": {
    "papermill": {
     "duration": 0.003768,
     "end_time": "2022-07-07T14:35:57.909670",
     "exception": false,
     "start_time": "2022-07-07T14:35:57.905902",
     "status": "completed"
    },
    "tags": []
   },
   "source": [
    "# Train model\n",
    "\n",
    "The purpose of this notebook is:\n",
    "\n",
    "- Load all training data (images and labels).\n",
    "- Limit number of train images to `task.nr_train_images` (value provided as run parameter).\n",
    "- Train a support vector machine model using sklearn.\n",
    "- Persist the trained model using the ONNX format."
   ]
  },
  {
   "cell_type": "markdown",
   "id": "f39211fd",
   "metadata": {
    "papermill": {
     "duration": 0.002787,
     "end_time": "2022-07-07T14:35:57.915477",
     "exception": false,
     "start_time": "2022-07-07T14:35:57.912690",
     "status": "completed"
    },
    "tags": []
   },
   "source": [
    "### Determine run parameters"
   ]
  },
  {
   "cell_type": "code",
   "execution_count": 1,
   "id": "a9563860",
   "metadata": {
    "execution": {
     "iopub.execute_input": "2022-07-07T14:35:57.922400Z",
     "iopub.status.busy": "2022-07-07T14:35:57.922102Z",
     "iopub.status.idle": "2022-07-07T14:35:57.929957Z",
     "shell.execute_reply": "2022-07-07T14:35:57.929426Z"
    },
    "lines_to_next_cell": 0,
    "papermill": {
     "duration": 0.013354,
     "end_time": "2022-07-07T14:35:57.931647",
     "exception": false,
     "start_time": "2022-07-07T14:35:57.918293",
     "status": "completed"
    },
    "tags": []
   },
   "outputs": [],
   "source": [
    "# ----------------- Parameters for interactive development --------------\n",
    "P = {\n",
    "    \"pipeline.data_lake_root\": \"/pipeline-outputs/data-lake\",\n",
    "    \"task.nr_train_images\": 600,\n",
    "}"
   ]
  },
  {
   "cell_type": "code",
   "execution_count": 2,
   "id": "ba190b4e",
   "metadata": {
    "execution": {
     "iopub.execute_input": "2022-07-07T14:35:57.938220Z",
     "iopub.status.busy": "2022-07-07T14:35:57.938014Z",
     "iopub.status.idle": "2022-07-07T14:35:57.940795Z",
     "shell.execute_reply": "2022-07-07T14:35:57.940305Z"
    },
    "lines_to_next_cell": 0,
    "papermill": {
     "duration": 0.008511,
     "end_time": "2022-07-07T14:35:57.943061",
     "exception": false,
     "start_time": "2022-07-07T14:35:57.934550",
     "status": "completed"
    },
    "tags": [
     "parameters"
    ]
   },
   "outputs": [],
   "source": [
    "# - During automated runs parameters will be injected in the below cell -"
   ]
  },
  {
   "cell_type": "code",
   "execution_count": 3,
   "id": "e716bbea",
   "metadata": {
    "execution": {
     "iopub.execute_input": "2022-07-07T14:35:57.949431Z",
     "iopub.status.busy": "2022-07-07T14:35:57.949214Z",
     "iopub.status.idle": "2022-07-07T14:35:57.953333Z",
     "shell.execute_reply": "2022-07-07T14:35:57.952849Z"
    },
    "papermill": {
     "duration": 0.009964,
     "end_time": "2022-07-07T14:35:57.955733",
     "exception": false,
     "start_time": "2022-07-07T14:35:57.945769",
     "status": "completed"
    },
    "tags": [
     "injected-parameters"
    ]
   },
   "outputs": [],
   "source": [
    "# Parameters\n",
    "P = {\n",
    "    \"pipeline.data_lake_root\": \"/pipeline-outputs/data-lake\",\n",
    "    \"pipeline.run_environment\": \"ci\",\n",
    "    \"pipeline.pipeline_run_id\": \"e20e895d-454d-4542-b4da-b1ac1d08cc0d\",\n",
    "    \"pipeline.github.repository\": \"pynb-dag-runner/mnist-digits-demo-pipeline\",\n",
    "    \"pipeline.github.workflow\": \"Run automated tests, pipeline and deploy results to static reporting site\",\n",
    "    \"pipeline.github.runner_name\": \"GitHub Actions 4\",\n",
    "    \"pipeline.github.run_id\": \"2630256446\",\n",
    "    \"pipeline.github.actor\": \"matiasdahl\",\n",
    "    \"pipeline.github.job\": \"run-tests-pipeline-and-persist-pipeline-outputs\",\n",
    "    \"pipeline.github.base_ref\": \"development\",\n",
    "    \"pipeline.github.head_ref\": \"readme-link-to-docs\",\n",
    "    \"pipeline.github.sha\": \"9618eea67de36c0cc64d4fc66ed9a3f1b50bbff3\",\n",
    "    \"pipeline.github.ref\": \"refs/pull/56/merge\",\n",
    "    \"pipeline.github.ref_type\": \"branch\",\n",
    "    \"pipeline.github.ref_name\": \"56/merge\",\n",
    "    \"pipeline.github.event_name\": \"pull_request\",\n",
    "    \"task.nr_train_images\": 800,\n",
    "    \"task.notebook\": \"notebooks/train-model.py\",\n",
    "    \"task.max_nr_retries\": \"1\",\n",
    "    \"run.retry_nr\": \"0\",\n",
    "    \"task.timeout_s\": \"None\",\n",
    "    \"task.num_cpus\": 1,\n",
    "    \"_opentelemetry_traceparent\": \"00-b43d28cb3639d104708e53a0cb86f226-1c3d5565b448e00b-01\",\n",
    "}\n"
   ]
  },
  {
   "cell_type": "code",
   "execution_count": 4,
   "id": "028a296e",
   "metadata": {
    "execution": {
     "iopub.execute_input": "2022-07-07T14:35:57.962030Z",
     "iopub.status.busy": "2022-07-07T14:35:57.961818Z",
     "iopub.status.idle": "2022-07-07T14:35:57.964313Z",
     "shell.execute_reply": "2022-07-07T14:35:57.963837Z"
    },
    "lines_to_next_cell": 0,
    "papermill": {
     "duration": 0.008246,
     "end_time": "2022-07-07T14:35:57.966782",
     "exception": false,
     "start_time": "2022-07-07T14:35:57.958536",
     "status": "completed"
    },
    "tags": []
   },
   "outputs": [],
   "source": [
    "# -----------------------------------------------------------------------"
   ]
  },
  {
   "cell_type": "markdown",
   "id": "fd209445",
   "metadata": {
    "papermill": {
     "duration": 0.002647,
     "end_time": "2022-07-07T14:35:57.972054",
     "exception": false,
     "start_time": "2022-07-07T14:35:57.969407",
     "status": "completed"
    },
    "tags": []
   },
   "source": [
    "---"
   ]
  },
  {
   "cell_type": "markdown",
   "id": "1e97e50f",
   "metadata": {
    "lines_to_next_cell": 2,
    "papermill": {
     "duration": 0.002931,
     "end_time": "2022-07-07T14:35:57.977726",
     "exception": false,
     "start_time": "2022-07-07T14:35:57.974795",
     "status": "completed"
    },
    "tags": []
   },
   "source": [
    "### Notebook code"
   ]
  },
  {
   "cell_type": "code",
   "execution_count": 5,
   "id": "4dd49710",
   "metadata": {
    "execution": {
     "iopub.execute_input": "2022-07-07T14:35:57.983912Z",
     "iopub.status.busy": "2022-07-07T14:35:57.983712Z",
     "iopub.status.idle": "2022-07-07T14:35:58.450907Z",
     "shell.execute_reply": "2022-07-07T14:35:58.450100Z"
    },
    "papermill": {
     "duration": 0.472502,
     "end_time": "2022-07-07T14:35:58.452841",
     "exception": false,
     "start_time": "2022-07-07T14:35:57.980339",
     "status": "completed"
    },
    "tags": []
   },
   "outputs": [
    {
     "name": "stderr",
     "output_type": "stream",
     "text": [
      "2022-07-07 14:35:58,271\tINFO worker.py:842 -- Connecting to existing Ray cluster at address: 172.17.0.2:6379\n"
     ]
    }
   ],
   "source": [
    "from pynb_dag_runner.tasks.task_opentelemetry_logging import PydarLogger\n",
    "\n",
    "logger = PydarLogger(P)"
   ]
  },
  {
   "cell_type": "markdown",
   "id": "04fda120",
   "metadata": {
    "papermill": {
     "duration": 0.003027,
     "end_time": "2022-07-07T14:35:58.459285",
     "exception": false,
     "start_time": "2022-07-07T14:35:58.456258",
     "status": "completed"
    },
    "tags": []
   },
   "source": [
    "## Load and limit train data"
   ]
  },
  {
   "cell_type": "code",
   "execution_count": 6,
   "id": "90ca2d16",
   "metadata": {
    "execution": {
     "iopub.execute_input": "2022-07-07T14:35:58.466900Z",
     "iopub.status.busy": "2022-07-07T14:35:58.466391Z",
     "iopub.status.idle": "2022-07-07T14:35:58.839856Z",
     "shell.execute_reply": "2022-07-07T14:35:58.839265Z"
    },
    "papermill": {
     "duration": 0.379242,
     "end_time": "2022-07-07T14:35:58.841801",
     "exception": false,
     "start_time": "2022-07-07T14:35:58.462559",
     "status": "completed"
    },
    "tags": []
   },
   "outputs": [],
   "source": [
    "def load_and_limit_train_data(P):\n",
    "    from common.io import datalake_root, read_numpy\n",
    "    from sklearn.model_selection import train_test_split\n",
    "\n",
    "    X_train_all = read_numpy(datalake_root(P) / \"train-data\" / \"digits.numpy\")\n",
    "    y_train_all = read_numpy(datalake_root(P) / \"train-data\" / \"labels.numpy\")\n",
    "\n",
    "    assert isinstance(P[\"task.nr_train_images\"], int)\n",
    "\n",
    "    # Note: train_test_split will fail if split is 0 or 100%.\n",
    "    assert 0 < P[\"task.nr_train_images\"] < len(y_train_all)\n",
    "\n",
    "    X_train, _, y_train, _ = train_test_split(\n",
    "        X_train_all,\n",
    "        y_train_all,\n",
    "        train_size=P[\"task.nr_train_images\"],\n",
    "        test_size=None,\n",
    "        stratify=y_train_all,\n",
    "        shuffle=True,\n",
    "        random_state=123,\n",
    "    )\n",
    "\n",
    "    assert X_train.shape == (len(y_train), 8 * 8)\n",
    "    return X_train, y_train\n",
    "\n",
    "\n",
    "X_train, y_train = load_and_limit_train_data(P)"
   ]
  },
  {
   "cell_type": "markdown",
   "id": "3d907240",
   "metadata": {
    "papermill": {
     "duration": 0.002874,
     "end_time": "2022-07-07T14:35:58.849647",
     "exception": false,
     "start_time": "2022-07-07T14:35:58.846773",
     "status": "completed"
    },
    "tags": []
   },
   "source": [
    "## Train support vector classifier model\n",
    "\n",
    "Below we assume that the hyperparameter $C$ is known.\n",
    "\n",
    "However, this should ideally be found by a hyperparameter search. That could be\n",
    "done in parallel on the Ray cluster, but this needs some more work. Ie., to use\n",
    "multiple cores in the notebook, those cores should be reserved when starting the\n",
    "notebook task (TODO).\n",
    "\n",
    "- https://docs.ray.io/en/latest/tune/key-concepts.html\n",
    "\n",
    "Note: cv-scores would need to be computed here, since they depend on the train data.\n",
    "After this notebook only the onnx-model is available."
   ]
  },
  {
   "cell_type": "code",
   "execution_count": 7,
   "id": "c4edae7b",
   "metadata": {
    "execution": {
     "iopub.execute_input": "2022-07-07T14:35:58.857138Z",
     "iopub.status.busy": "2022-07-07T14:35:58.856896Z",
     "iopub.status.idle": "2022-07-07T14:35:58.877831Z",
     "shell.execute_reply": "2022-07-07T14:35:58.877299Z"
    },
    "papermill": {
     "duration": 0.026471,
     "end_time": "2022-07-07T14:35:58.879406",
     "exception": false,
     "start_time": "2022-07-07T14:35:58.852935",
     "status": "completed"
    },
    "tags": []
   },
   "outputs": [],
   "source": [
    "from sklearn.svm import SVC"
   ]
  },
  {
   "cell_type": "code",
   "execution_count": 8,
   "id": "8f44cba4",
   "metadata": {
    "execution": {
     "iopub.execute_input": "2022-07-07T14:35:58.887157Z",
     "iopub.status.busy": "2022-07-07T14:35:58.886758Z",
     "iopub.status.idle": "2022-07-07T14:35:59.013734Z",
     "shell.execute_reply": "2022-07-07T14:35:59.013196Z"
    },
    "papermill": {
     "duration": 0.132987,
     "end_time": "2022-07-07T14:35:59.015488",
     "exception": false,
     "start_time": "2022-07-07T14:35:58.882501",
     "status": "completed"
    },
    "tags": []
   },
   "outputs": [
    {
     "data": {
      "text/plain": [
       "SVC(C=0.001, kernel='linear', probability=True)"
      ]
     },
     "execution_count": 8,
     "metadata": {},
     "output_type": "execute_result"
    }
   ],
   "source": [
    "model = SVC(C=0.001, kernel=\"linear\", probability=True)\n",
    "\n",
    "model.fit(X_train, y_train)"
   ]
  },
  {
   "cell_type": "markdown",
   "id": "8761c461",
   "metadata": {
    "papermill": {
     "duration": 0.003328,
     "end_time": "2022-07-07T14:35:59.022211",
     "exception": false,
     "start_time": "2022-07-07T14:35:59.018883",
     "status": "completed"
    },
    "tags": []
   },
   "source": [
    "### Q: Can the labels returned by `predict(..)` be computed from probabilities returned by the `predict_prob`-method?"
   ]
  },
  {
   "cell_type": "code",
   "execution_count": 9,
   "id": "955117ed",
   "metadata": {
    "execution": {
     "iopub.execute_input": "2022-07-07T14:35:59.029790Z",
     "iopub.status.busy": "2022-07-07T14:35:59.029557Z",
     "iopub.status.idle": "2022-07-07T14:35:59.089031Z",
     "shell.execute_reply": "2022-07-07T14:35:59.088485Z"
    },
    "papermill": {
     "duration": 0.065283,
     "end_time": "2022-07-07T14:35:59.090684",
     "exception": false,
     "start_time": "2022-07-07T14:35:59.025401",
     "status": "completed"
    },
    "tags": []
   },
   "outputs": [
    {
     "name": "stdout",
     "output_type": "stream",
     "text": [
      " - Logging nr_max_prob_neq_label (int) : 2\n"
     ]
    }
   ],
   "source": [
    "import numpy as np\n",
    "\n",
    "y_train_labels = model.predict(X_train)\n",
    "y_train_probabilities = model.predict_proba(X_train)\n",
    "assert y_train_probabilities.shape == (len(y_train), 10)\n",
    "\n",
    "y_train_max_prob_labels = np.argmax(y_train_probabilities, axis=1)\n",
    "assert y_train_labels.shape == y_train_max_prob_labels.shape == y_train.shape\n",
    "\n",
    "# If the predicted labels would coincide with the labels that have\n",
    "# maximum probability, the below number would be zero\n",
    "logger.log_int(\n",
    "    \"nr_max_prob_neq_label\", int(sum(y_train_max_prob_labels != y_train_labels))\n",
    ")"
   ]
  },
  {
   "cell_type": "markdown",
   "id": "fb6979de",
   "metadata": {
    "papermill": {
     "duration": 0.003754,
     "end_time": "2022-07-07T14:35:59.097711",
     "exception": false,
     "start_time": "2022-07-07T14:35:59.093957",
     "status": "completed"
    },
    "tags": []
   },
   "source": [
    "The explanation is (likely) explained in the SVC source, see\n",
    "[here](https://github.com/scikit-learn/scikit-learn/blob/main/sklearn/svm/_base.py).\n",
    "Namely, the outputs from `predict(..)` and `predict_proba(..)` may not in some\n",
    "cases be compatible since the latter is computed using cross-validation while\n",
    "the former is not. Thus, the above number need not be zero."
   ]
  },
  {
   "cell_type": "markdown",
   "id": "9942bcd7",
   "metadata": {
    "papermill": {
     "duration": 0.003237,
     "end_time": "2022-07-07T14:35:59.104053",
     "exception": false,
     "start_time": "2022-07-07T14:35:59.100816",
     "status": "completed"
    },
    "tags": []
   },
   "source": [
    "## Persist model"
   ]
  },
  {
   "cell_type": "code",
   "execution_count": 10,
   "id": "e41e1451",
   "metadata": {
    "execution": {
     "iopub.execute_input": "2022-07-07T14:35:59.111778Z",
     "iopub.status.busy": "2022-07-07T14:35:59.111540Z",
     "iopub.status.idle": "2022-07-07T14:35:59.797351Z",
     "shell.execute_reply": "2022-07-07T14:35:59.796707Z"
    },
    "papermill": {
     "duration": 0.691791,
     "end_time": "2022-07-07T14:35:59.799159",
     "exception": false,
     "start_time": "2022-07-07T14:35:59.107368",
     "status": "completed"
    },
    "tags": []
   },
   "outputs": [],
   "source": [
    "from skl2onnx import convert_sklearn\n",
    "from skl2onnx.common.data_types import FloatTensorType\n",
    "\n",
    "#\n",
    "from common.io import datalake_root, write_onnx"
   ]
  },
  {
   "cell_type": "code",
   "execution_count": 11,
   "id": "ee7890e1",
   "metadata": {
    "execution": {
     "iopub.execute_input": "2022-07-07T14:35:59.807389Z",
     "iopub.status.busy": "2022-07-07T14:35:59.806884Z",
     "iopub.status.idle": "2022-07-07T14:35:59.850472Z",
     "shell.execute_reply": "2022-07-07T14:35:59.849941Z"
    },
    "papermill": {
     "duration": 0.049576,
     "end_time": "2022-07-07T14:35:59.852370",
     "exception": false,
     "start_time": "2022-07-07T14:35:59.802794",
     "status": "completed"
    },
    "tags": []
   },
   "outputs": [],
   "source": [
    "# convert sklearn model into onnx and persist to data lake\n",
    "\n",
    "model_onnx = convert_sklearn(\n",
    "    model, initial_types=[(\"float_input_8x8_image\", FloatTensorType([None, 8 * 8]))]\n",
    ")\n",
    "write_onnx(\n",
    "    datalake_root(P)\n",
    "    / \"models\"\n",
    "    / f\"nr_train_images={P['task.nr_train_images']}\"\n",
    "    / \"model.onnx\",\n",
    "    model_onnx,\n",
    ")"
   ]
  },
  {
   "cell_type": "code",
   "execution_count": null,
   "id": "3792d181",
   "metadata": {
    "papermill": {
     "duration": 0.004814,
     "end_time": "2022-07-07T14:35:59.860738",
     "exception": false,
     "start_time": "2022-07-07T14:35:59.855924",
     "status": "completed"
    },
    "tags": []
   },
   "outputs": [],
   "source": []
  }
 ],
 "metadata": {
  "jupytext": {
   "cell_metadata_filter": "tags,-all",
   "main_language": "python",
   "notebook_metadata_filter": "-all"
  },
  "language_info": {
   "codemirror_mode": {
    "name": "ipython",
    "version": 3
   },
   "file_extension": ".py",
   "mimetype": "text/x-python",
   "name": "python",
   "nbconvert_exporter": "python",
   "pygments_lexer": "ipython3",
   "version": "3.8.10"
  },
  "papermill": {
   "default_parameters": {},
   "duration": 4.286308,
   "end_time": "2022-07-07T14:36:00.786218",
   "environment_variables": {},
   "exception": null,
   "input_path": "/home/host_user/workspace/mnist-demo-pipeline/mnist-demo-pipeline/notebooks/temp-notebook-61oqdocj.ipynb",
   "output_path": "notebooks/train-model.ipynb",
   "parameters": {
    "P": {
     "_opentelemetry_traceparent": "00-b43d28cb3639d104708e53a0cb86f226-1c3d5565b448e00b-01",
     "pipeline.data_lake_root": "/pipeline-outputs/data-lake",
     "pipeline.github.actor": "matiasdahl",
     "pipeline.github.base_ref": "development",
     "pipeline.github.event_name": "pull_request",
     "pipeline.github.head_ref": "readme-link-to-docs",
     "pipeline.github.job": "run-tests-pipeline-and-persist-pipeline-outputs",
     "pipeline.github.ref": "refs/pull/56/merge",
     "pipeline.github.ref_name": "56/merge",
     "pipeline.github.ref_type": "branch",
     "pipeline.github.repository": "pynb-dag-runner/mnist-digits-demo-pipeline",
     "pipeline.github.run_id": "2630256446",
     "pipeline.github.runner_name": "GitHub Actions 4",
     "pipeline.github.sha": "9618eea67de36c0cc64d4fc66ed9a3f1b50bbff3",
     "pipeline.github.workflow": "Run automated tests, pipeline and deploy results to static reporting site",
     "pipeline.pipeline_run_id": "e20e895d-454d-4542-b4da-b1ac1d08cc0d",
     "pipeline.run_environment": "ci",
     "run.retry_nr": "0",
     "task.max_nr_retries": "1",
     "task.notebook": "notebooks/train-model.py",
     "task.nr_train_images": 800,
     "task.num_cpus": 1,
     "task.timeout_s": "None"
    }
   },
   "start_time": "2022-07-07T14:35:56.499910",
   "version": "2.3.3"
  }
 },
 "nbformat": 4,
 "nbformat_minor": 5
}