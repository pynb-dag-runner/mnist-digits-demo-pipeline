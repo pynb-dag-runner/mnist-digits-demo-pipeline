{
 "cells": [
  {
   "cell_type": "markdown",
   "id": "ffa97014",
   "metadata": {
    "papermill": {
     "duration": 0.003688,
     "end_time": "2022-07-07T14:35:49.052166",
     "exception": false,
     "start_time": "2022-07-07T14:35:49.048478",
     "status": "completed"
    },
    "tags": []
   },
   "source": [
    "# Split digits and labels into separate training and testing data sets"
   ]
  },
  {
   "cell_type": "markdown",
   "id": "d59c7ec5",
   "metadata": {
    "papermill": {
     "duration": 0.002502,
     "end_time": "2022-07-07T14:35:49.057560",
     "exception": false,
     "start_time": "2022-07-07T14:35:49.055058",
     "status": "completed"
    },
    "tags": []
   },
   "source": [
    "### Determine run parameters"
   ]
  },
  {
   "cell_type": "code",
   "execution_count": 1,
   "id": "e8471af2",
   "metadata": {
    "execution": {
     "iopub.execute_input": "2022-07-07T14:35:49.064009Z",
     "iopub.status.busy": "2022-07-07T14:35:49.063702Z",
     "iopub.status.idle": "2022-07-07T14:35:49.072225Z",
     "shell.execute_reply": "2022-07-07T14:35:49.071685Z"
    },
    "lines_to_next_cell": 0,
    "papermill": {
     "duration": 0.01411,
     "end_time": "2022-07-07T14:35:49.074021",
     "exception": false,
     "start_time": "2022-07-07T14:35:49.059911",
     "status": "completed"
    },
    "tags": []
   },
   "outputs": [],
   "source": [
    "# ----------------- Parameters for interactive development --------------\n",
    "P = {\n",
    "    \"pipeline.data_lake_root\": \"/pipeline-outputs/data-lake\",\n",
    "    \"task.train_test_ratio\": 0.7,\n",
    "}"
   ]
  },
  {
   "cell_type": "code",
   "execution_count": 2,
   "id": "3f9f294c",
   "metadata": {
    "execution": {
     "iopub.execute_input": "2022-07-07T14:35:49.081453Z",
     "iopub.status.busy": "2022-07-07T14:35:49.081216Z",
     "iopub.status.idle": "2022-07-07T14:35:49.084870Z",
     "shell.execute_reply": "2022-07-07T14:35:49.084361Z"
    },
    "lines_to_next_cell": 0,
    "papermill": {
     "duration": 0.011879,
     "end_time": "2022-07-07T14:35:49.088066",
     "exception": false,
     "start_time": "2022-07-07T14:35:49.076187",
     "status": "completed"
    },
    "tags": [
     "parameters"
    ]
   },
   "outputs": [],
   "source": [
    "# - During automated runs parameters will be injected in the below cell -"
   ]
  },
  {
   "cell_type": "code",
   "execution_count": 3,
   "id": "86aeedd4",
   "metadata": {
    "execution": {
     "iopub.execute_input": "2022-07-07T14:35:49.093614Z",
     "iopub.status.busy": "2022-07-07T14:35:49.093398Z",
     "iopub.status.idle": "2022-07-07T14:35:49.098004Z",
     "shell.execute_reply": "2022-07-07T14:35:49.097477Z"
    },
    "papermill": {
     "duration": 0.010056,
     "end_time": "2022-07-07T14:35:49.100402",
     "exception": false,
     "start_time": "2022-07-07T14:35:49.090346",
     "status": "completed"
    },
    "tags": [
     "injected-parameters"
    ]
   },
   "outputs": [],
   "source": [
    "# Parameters\n",
    "P = {\n",
    "    \"pipeline.data_lake_root\": \"/pipeline-outputs/data-lake\",\n",
    "    \"pipeline.run_environment\": \"ci\",\n",
    "    \"pipeline.pipeline_run_id\": \"e20e895d-454d-4542-b4da-b1ac1d08cc0d\",\n",
    "    \"pipeline.github.repository\": \"pynb-dag-runner/mnist-digits-demo-pipeline\",\n",
    "    \"pipeline.github.workflow\": \"Run automated tests, pipeline and deploy results to static reporting site\",\n",
    "    \"pipeline.github.runner_name\": \"GitHub Actions 4\",\n",
    "    \"pipeline.github.run_id\": \"2630256446\",\n",
    "    \"pipeline.github.actor\": \"matiasdahl\",\n",
    "    \"pipeline.github.job\": \"run-tests-pipeline-and-persist-pipeline-outputs\",\n",
    "    \"pipeline.github.base_ref\": \"development\",\n",
    "    \"pipeline.github.head_ref\": \"readme-link-to-docs\",\n",
    "    \"pipeline.github.sha\": \"9618eea67de36c0cc64d4fc66ed9a3f1b50bbff3\",\n",
    "    \"pipeline.github.ref\": \"refs/pull/56/merge\",\n",
    "    \"pipeline.github.ref_type\": \"branch\",\n",
    "    \"pipeline.github.ref_name\": \"56/merge\",\n",
    "    \"pipeline.github.event_name\": \"pull_request\",\n",
    "    \"task.train_test_ratio\": 0.7,\n",
    "    \"task.notebook\": \"notebooks/split-train-test.py\",\n",
    "    \"task.max_nr_retries\": \"1\",\n",
    "    \"run.retry_nr\": \"0\",\n",
    "    \"task.timeout_s\": \"None\",\n",
    "    \"task.num_cpus\": 1,\n",
    "    \"_opentelemetry_traceparent\": \"00-b43d28cb3639d104708e53a0cb86f226-e23b5f5645dafbea-01\",\n",
    "}\n"
   ]
  },
  {
   "cell_type": "code",
   "execution_count": 4,
   "id": "3e53a01f",
   "metadata": {
    "execution": {
     "iopub.execute_input": "2022-07-07T14:35:49.105650Z",
     "iopub.status.busy": "2022-07-07T14:35:49.105421Z",
     "iopub.status.idle": "2022-07-07T14:35:49.108990Z",
     "shell.execute_reply": "2022-07-07T14:35:49.108490Z"
    },
    "lines_to_next_cell": 0,
    "papermill": {
     "duration": 0.008769,
     "end_time": "2022-07-07T14:35:49.111303",
     "exception": false,
     "start_time": "2022-07-07T14:35:49.102534",
     "status": "completed"
    },
    "tags": []
   },
   "outputs": [],
   "source": [
    "# -----------------------------------------------------------------------"
   ]
  },
  {
   "cell_type": "markdown",
   "id": "d8420f40",
   "metadata": {
    "papermill": {
     "duration": 0.002264,
     "end_time": "2022-07-07T14:35:49.115937",
     "exception": false,
     "start_time": "2022-07-07T14:35:49.113673",
     "status": "completed"
    },
    "tags": []
   },
   "source": [
    "---"
   ]
  },
  {
   "cell_type": "markdown",
   "id": "d5eaf8b8",
   "metadata": {
    "lines_to_next_cell": 2,
    "papermill": {
     "duration": 0.002239,
     "end_time": "2022-07-07T14:35:49.121283",
     "exception": false,
     "start_time": "2022-07-07T14:35:49.119044",
     "status": "completed"
    },
    "tags": []
   },
   "source": [
    "### Notebook code"
   ]
  },
  {
   "cell_type": "code",
   "execution_count": 5,
   "id": "99f386a6",
   "metadata": {
    "execution": {
     "iopub.execute_input": "2022-07-07T14:35:49.126973Z",
     "iopub.status.busy": "2022-07-07T14:35:49.126766Z",
     "iopub.status.idle": "2022-07-07T14:35:49.635025Z",
     "shell.execute_reply": "2022-07-07T14:35:49.634351Z"
    },
    "papermill": {
     "duration": 0.513306,
     "end_time": "2022-07-07T14:35:49.636791",
     "exception": false,
     "start_time": "2022-07-07T14:35:49.123485",
     "status": "completed"
    },
    "tags": []
   },
   "outputs": [
    {
     "name": "stderr",
     "output_type": "stream",
     "text": [
      "2022-07-07 14:35:49,468\tINFO worker.py:842 -- Connecting to existing Ray cluster at address: 172.17.0.2:6379\n"
     ]
    }
   ],
   "source": [
    "from common.io import datalake_root, read_numpy, write_numpy\n",
    "from pynb_dag_runner.tasks.task_opentelemetry_logging import PydarLogger\n",
    "\n",
    "logger = PydarLogger(P)"
   ]
  },
  {
   "cell_type": "markdown",
   "id": "d323c510",
   "metadata": {
    "papermill": {
     "duration": 0.002485,
     "end_time": "2022-07-07T14:35:49.642081",
     "exception": false,
     "start_time": "2022-07-07T14:35:49.639596",
     "status": "completed"
    },
    "tags": []
   },
   "source": [
    "## Load and split digits data"
   ]
  },
  {
   "cell_type": "code",
   "execution_count": 6,
   "id": "70e648c5",
   "metadata": {
    "execution": {
     "iopub.execute_input": "2022-07-07T14:35:49.657659Z",
     "iopub.status.busy": "2022-07-07T14:35:49.656946Z",
     "iopub.status.idle": "2022-07-07T14:35:49.663016Z",
     "shell.execute_reply": "2022-07-07T14:35:49.662484Z"
    },
    "papermill": {
     "duration": 0.015932,
     "end_time": "2022-07-07T14:35:49.669281",
     "exception": false,
     "start_time": "2022-07-07T14:35:49.653349",
     "status": "completed"
    },
    "tags": []
   },
   "outputs": [],
   "source": [
    "X = read_numpy(datalake_root(P) / \"raw\" / \"digits.numpy\")\n",
    "y = read_numpy(datalake_root(P) / \"raw\" / \"labels.numpy\")"
   ]
  },
  {
   "cell_type": "code",
   "execution_count": 7,
   "id": "f6fa94d3",
   "metadata": {
    "execution": {
     "iopub.execute_input": "2022-07-07T14:35:49.675279Z",
     "iopub.status.busy": "2022-07-07T14:35:49.674876Z",
     "iopub.status.idle": "2022-07-07T14:35:50.048214Z",
     "shell.execute_reply": "2022-07-07T14:35:50.047266Z"
    },
    "papermill": {
     "duration": 0.378419,
     "end_time": "2022-07-07T14:35:50.050013",
     "exception": false,
     "start_time": "2022-07-07T14:35:49.671594",
     "status": "completed"
    },
    "tags": []
   },
   "outputs": [],
   "source": [
    "from sklearn.model_selection import train_test_split\n",
    "\n",
    "X_train, X_test, y_train, y_test = train_test_split(\n",
    "    X,\n",
    "    y,\n",
    "    train_size=P[\"task.train_test_ratio\"],\n",
    "    test_size=None,\n",
    "    stratify=y,\n",
    "    shuffle=True,\n",
    "    random_state=1,\n",
    ")\n",
    "\n",
    "# assert nr of pixels per image is the same for all image vectors\n",
    "assert X.shape[1] == X_train.shape[1] == X_test.shape[1]\n",
    "\n",
    "# assert that the (X, y)-pairs have compatible sizes (for both train and test)\n",
    "assert X_train.shape[0] == len(y_train)\n",
    "assert X_test.shape[0] == len(y_test)\n",
    "\n",
    "# assert that all data is used\n",
    "assert len(y) == len(y_train) + len(y_test)"
   ]
  },
  {
   "cell_type": "code",
   "execution_count": 8,
   "id": "a35f90e9",
   "metadata": {
    "execution": {
     "iopub.execute_input": "2022-07-07T14:35:50.058281Z",
     "iopub.status.busy": "2022-07-07T14:35:50.057820Z",
     "iopub.status.idle": "2022-07-07T14:35:50.064844Z",
     "shell.execute_reply": "2022-07-07T14:35:50.064324Z"
    },
    "papermill": {
     "duration": 0.013551,
     "end_time": "2022-07-07T14:35:50.066336",
     "exception": false,
     "start_time": "2022-07-07T14:35:50.052785",
     "status": "completed"
    },
    "tags": []
   },
   "outputs": [
    {
     "name": "stdout",
     "output_type": "stream",
     "text": [
      " - Logging nr_digits_train (int) : 1257\n",
      " - Logging nr_digits_test (int) : 540\n"
     ]
    }
   ],
   "source": [
    "logger.log_int(\"nr_digits_train\", len(y_train))\n",
    "logger.log_int(\"nr_digits_test\", len(y_test))"
   ]
  },
  {
   "cell_type": "markdown",
   "id": "f22c07a5",
   "metadata": {
    "papermill": {
     "duration": 0.002412,
     "end_time": "2022-07-07T14:35:50.071238",
     "exception": false,
     "start_time": "2022-07-07T14:35:50.068826",
     "status": "completed"
    },
    "tags": []
   },
   "source": [
    "### Persist training and test data sets to separate files"
   ]
  },
  {
   "cell_type": "code",
   "execution_count": 9,
   "id": "a79d09a2",
   "metadata": {
    "execution": {
     "iopub.execute_input": "2022-07-07T14:35:50.077402Z",
     "iopub.status.busy": "2022-07-07T14:35:50.077190Z",
     "iopub.status.idle": "2022-07-07T14:35:50.082278Z",
     "shell.execute_reply": "2022-07-07T14:35:50.081775Z"
    },
    "papermill": {
     "duration": 0.011143,
     "end_time": "2022-07-07T14:35:50.084866",
     "exception": false,
     "start_time": "2022-07-07T14:35:50.073723",
     "status": "completed"
    },
    "tags": []
   },
   "outputs": [],
   "source": [
    "write_numpy(datalake_root(P) / \"train-data\" / \"digits.numpy\", X_train)\n",
    "write_numpy(datalake_root(P) / \"train-data\" / \"labels.numpy\", y_train)\n",
    "\n",
    "#\n",
    "write_numpy(datalake_root(P) / \"test-data\" / \"digits.numpy\", X_test)\n",
    "write_numpy(datalake_root(P) / \"test-data\" / \"labels.numpy\", y_test)"
   ]
  },
  {
   "cell_type": "code",
   "execution_count": null,
   "id": "914f09ee",
   "metadata": {
    "papermill": {
     "duration": 0.002538,
     "end_time": "2022-07-07T14:35:50.089843",
     "exception": false,
     "start_time": "2022-07-07T14:35:50.087305",
     "status": "completed"
    },
    "tags": []
   },
   "outputs": [],
   "source": []
  }
 ],
 "metadata": {
  "jupytext": {
   "cell_metadata_filter": "tags,-all",
   "main_language": "python",
   "notebook_metadata_filter": "-all"
  },
  "language_info": {
   "codemirror_mode": {
    "name": "ipython",
    "version": 3
   },
   "file_extension": ".py",
   "mimetype": "text/x-python",
   "name": "python",
   "nbconvert_exporter": "python",
   "pygments_lexer": "ipython3",
   "version": "3.8.10"
  },
  "papermill": {
   "default_parameters": {},
   "duration": 3.325035,
   "end_time": "2022-07-07T14:35:51.015949",
   "environment_variables": {},
   "exception": null,
   "input_path": "/home/host_user/workspace/mnist-demo-pipeline/mnist-demo-pipeline/notebooks/temp-notebook-ayq4gokm.ipynb",
   "output_path": "notebooks/split-train-test.ipynb",
   "parameters": {
    "P": {
     "_opentelemetry_traceparent": "00-b43d28cb3639d104708e53a0cb86f226-e23b5f5645dafbea-01",
     "pipeline.data_lake_root": "/pipeline-outputs/data-lake",
     "pipeline.github.actor": "matiasdahl",
     "pipeline.github.base_ref": "development",
     "pipeline.github.event_name": "pull_request",
     "pipeline.github.head_ref": "readme-link-to-docs",
     "pipeline.github.job": "run-tests-pipeline-and-persist-pipeline-outputs",
     "pipeline.github.ref": "refs/pull/56/merge",
     "pipeline.github.ref_name": "56/merge",
     "pipeline.github.ref_type": "branch",
     "pipeline.github.repository": "pynb-dag-runner/mnist-digits-demo-pipeline",
     "pipeline.github.run_id": "2630256446",
     "pipeline.github.runner_name": "GitHub Actions 4",
     "pipeline.github.sha": "9618eea67de36c0cc64d4fc66ed9a3f1b50bbff3",
     "pipeline.github.workflow": "Run automated tests, pipeline and deploy results to static reporting site",
     "pipeline.pipeline_run_id": "e20e895d-454d-4542-b4da-b1ac1d08cc0d",
     "pipeline.run_environment": "ci",
     "run.retry_nr": "0",
     "task.max_nr_retries": "1",
     "task.notebook": "notebooks/split-train-test.py",
     "task.num_cpus": 1,
     "task.timeout_s": "None",
     "task.train_test_ratio": 0.7
    }
   },
   "start_time": "2022-07-07T14:35:47.690914",
   "version": "2.3.3"
  }
 },
 "nbformat": 4,
 "nbformat_minor": 5
}