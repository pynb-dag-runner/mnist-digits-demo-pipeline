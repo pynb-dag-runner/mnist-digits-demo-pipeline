{
 "cells": [
  {
   "cell_type": "markdown",
   "id": "eb65878d",
   "metadata": {
    "papermill": {
     "duration": 0.004439,
     "end_time": "2022-07-07T14:36:03.400101",
     "exception": false,
     "start_time": "2022-07-07T14:36:03.395662",
     "status": "completed"
    },
    "tags": []
   },
   "source": [
    "# Train model\n",
    "\n",
    "The purpose of this notebook is:\n",
    "\n",
    "- Load all training data (images and labels).\n",
    "- Limit number of train images to `task.nr_train_images` (value provided as run parameter).\n",
    "- Train a support vector machine model using sklearn.\n",
    "- Persist the trained model using the ONNX format."
   ]
  },
  {
   "cell_type": "markdown",
   "id": "a38df6e4",
   "metadata": {
    "papermill": {
     "duration": 0.003048,
     "end_time": "2022-07-07T14:36:03.406375",
     "exception": false,
     "start_time": "2022-07-07T14:36:03.403327",
     "status": "completed"
    },
    "tags": []
   },
   "source": [
    "### Determine run parameters"
   ]
  },
  {
   "cell_type": "code",
   "execution_count": 1,
   "id": "67378ed6",
   "metadata": {
    "execution": {
     "iopub.execute_input": "2022-07-07T14:36:03.413352Z",
     "iopub.status.busy": "2022-07-07T14:36:03.413048Z",
     "iopub.status.idle": "2022-07-07T14:36:03.421294Z",
     "shell.execute_reply": "2022-07-07T14:36:03.420706Z"
    },
    "lines_to_next_cell": 0,
    "papermill": {
     "duration": 0.013972,
     "end_time": "2022-07-07T14:36:03.423296",
     "exception": false,
     "start_time": "2022-07-07T14:36:03.409324",
     "status": "completed"
    },
    "tags": []
   },
   "outputs": [],
   "source": [
    "# ----------------- Parameters for interactive development --------------\n",
    "P = {\n",
    "    \"pipeline.data_lake_root\": \"/pipeline-outputs/data-lake\",\n",
    "    \"task.nr_train_images\": 600,\n",
    "}"
   ]
  },
  {
   "cell_type": "code",
   "execution_count": 2,
   "id": "23d86a5c",
   "metadata": {
    "execution": {
     "iopub.execute_input": "2022-07-07T14:36:03.431550Z",
     "iopub.status.busy": "2022-07-07T14:36:03.431322Z",
     "iopub.status.idle": "2022-07-07T14:36:03.434235Z",
     "shell.execute_reply": "2022-07-07T14:36:03.433752Z"
    },
    "lines_to_next_cell": 0,
    "papermill": {
     "duration": 0.010363,
     "end_time": "2022-07-07T14:36:03.436639",
     "exception": false,
     "start_time": "2022-07-07T14:36:03.426276",
     "status": "completed"
    },
    "tags": [
     "parameters"
    ]
   },
   "outputs": [],
   "source": [
    "# - During automated runs parameters will be injected in the below cell -"
   ]
  },
  {
   "cell_type": "code",
   "execution_count": 3,
   "id": "a9e85b1f",
   "metadata": {
    "execution": {
     "iopub.execute_input": "2022-07-07T14:36:03.443241Z",
     "iopub.status.busy": "2022-07-07T14:36:03.443043Z",
     "iopub.status.idle": "2022-07-07T14:36:03.450854Z",
     "shell.execute_reply": "2022-07-07T14:36:03.450342Z"
    },
    "papermill": {
     "duration": 0.013556,
     "end_time": "2022-07-07T14:36:03.453128",
     "exception": false,
     "start_time": "2022-07-07T14:36:03.439572",
     "status": "completed"
    },
    "tags": [
     "injected-parameters"
    ]
   },
   "outputs": [],
   "source": [
    "# Parameters\n",
    "P = {\n",
    "    \"pipeline.data_lake_root\": \"/pipeline-outputs/data-lake\",\n",
    "    \"pipeline.run_environment\": \"ci\",\n",
    "    \"pipeline.pipeline_run_id\": \"e20e895d-454d-4542-b4da-b1ac1d08cc0d\",\n",
    "    \"pipeline.github.repository\": \"pynb-dag-runner/mnist-digits-demo-pipeline\",\n",
    "    \"pipeline.github.workflow\": \"Run automated tests, pipeline and deploy results to static reporting site\",\n",
    "    \"pipeline.github.runner_name\": \"GitHub Actions 4\",\n",
    "    \"pipeline.github.run_id\": \"2630256446\",\n",
    "    \"pipeline.github.actor\": \"matiasdahl\",\n",
    "    \"pipeline.github.job\": \"run-tests-pipeline-and-persist-pipeline-outputs\",\n",
    "    \"pipeline.github.base_ref\": \"development\",\n",
    "    \"pipeline.github.head_ref\": \"readme-link-to-docs\",\n",
    "    \"pipeline.github.sha\": \"9618eea67de36c0cc64d4fc66ed9a3f1b50bbff3\",\n",
    "    \"pipeline.github.ref\": \"refs/pull/56/merge\",\n",
    "    \"pipeline.github.ref_type\": \"branch\",\n",
    "    \"pipeline.github.ref_name\": \"56/merge\",\n",
    "    \"pipeline.github.event_name\": \"pull_request\",\n",
    "    \"task.nr_train_images\": 1200,\n",
    "    \"task.notebook\": \"notebooks/train-model.py\",\n",
    "    \"task.max_nr_retries\": \"1\",\n",
    "    \"run.retry_nr\": \"0\",\n",
    "    \"task.timeout_s\": \"None\",\n",
    "    \"task.num_cpus\": 1,\n",
    "    \"_opentelemetry_traceparent\": \"00-b43d28cb3639d104708e53a0cb86f226-1ee918380abc46dc-01\",\n",
    "}\n"
   ]
  },
  {
   "cell_type": "code",
   "execution_count": 4,
   "id": "9d361f57",
   "metadata": {
    "execution": {
     "iopub.execute_input": "2022-07-07T14:36:03.460211Z",
     "iopub.status.busy": "2022-07-07T14:36:03.460013Z",
     "iopub.status.idle": "2022-07-07T14:36:03.462612Z",
     "shell.execute_reply": "2022-07-07T14:36:03.462064Z"
    },
    "lines_to_next_cell": 0,
    "papermill": {
     "duration": 0.00851,
     "end_time": "2022-07-07T14:36:03.464996",
     "exception": false,
     "start_time": "2022-07-07T14:36:03.456486",
     "status": "completed"
    },
    "tags": []
   },
   "outputs": [],
   "source": [
    "# -----------------------------------------------------------------------"
   ]
  },
  {
   "cell_type": "markdown",
   "id": "efdac0a7",
   "metadata": {
    "papermill": {
     "duration": 0.002984,
     "end_time": "2022-07-07T14:36:03.470833",
     "exception": false,
     "start_time": "2022-07-07T14:36:03.467849",
     "status": "completed"
    },
    "tags": []
   },
   "source": [
    "---"
   ]
  },
  {
   "cell_type": "markdown",
   "id": "13dd353f",
   "metadata": {
    "lines_to_next_cell": 2,
    "papermill": {
     "duration": 0.003183,
     "end_time": "2022-07-07T14:36:03.476802",
     "exception": false,
     "start_time": "2022-07-07T14:36:03.473619",
     "status": "completed"
    },
    "tags": []
   },
   "source": [
    "### Notebook code"
   ]
  },
  {
   "cell_type": "code",
   "execution_count": 5,
   "id": "93cc35ff",
   "metadata": {
    "execution": {
     "iopub.execute_input": "2022-07-07T14:36:03.483519Z",
     "iopub.status.busy": "2022-07-07T14:36:03.483164Z",
     "iopub.status.idle": "2022-07-07T14:36:03.959144Z",
     "shell.execute_reply": "2022-07-07T14:36:03.956575Z"
    },
    "papermill": {
     "duration": 0.483005,
     "end_time": "2022-07-07T14:36:03.962612",
     "exception": false,
     "start_time": "2022-07-07T14:36:03.479607",
     "status": "completed"
    },
    "tags": []
   },
   "outputs": [
    {
     "name": "stderr",
     "output_type": "stream",
     "text": [
      "2022-07-07 14:36:03,793\tINFO worker.py:842 -- Connecting to existing Ray cluster at address: 172.17.0.2:6379\n"
     ]
    }
   ],
   "source": [
    "from pynb_dag_runner.tasks.task_opentelemetry_logging import PydarLogger\n",
    "\n",
    "logger = PydarLogger(P)"
   ]
  },
  {
   "cell_type": "markdown",
   "id": "13a5eff4",
   "metadata": {
    "papermill": {
     "duration": 0.004255,
     "end_time": "2022-07-07T14:36:03.970442",
     "exception": false,
     "start_time": "2022-07-07T14:36:03.966187",
     "status": "completed"
    },
    "tags": []
   },
   "source": [
    "## Load and limit train data"
   ]
  },
  {
   "cell_type": "code",
   "execution_count": 6,
   "id": "c66acdeb",
   "metadata": {
    "execution": {
     "iopub.execute_input": "2022-07-07T14:36:03.977211Z",
     "iopub.status.busy": "2022-07-07T14:36:03.976902Z",
     "iopub.status.idle": "2022-07-07T14:36:04.324410Z",
     "shell.execute_reply": "2022-07-07T14:36:04.323675Z"
    },
    "papermill": {
     "duration": 0.353165,
     "end_time": "2022-07-07T14:36:04.326422",
     "exception": false,
     "start_time": "2022-07-07T14:36:03.973257",
     "status": "completed"
    },
    "tags": []
   },
   "outputs": [],
   "source": [
    "def load_and_limit_train_data(P):\n",
    "    from common.io import datalake_root, read_numpy\n",
    "    from sklearn.model_selection import train_test_split\n",
    "\n",
    "    X_train_all = read_numpy(datalake_root(P) / \"train-data\" / \"digits.numpy\")\n",
    "    y_train_all = read_numpy(datalake_root(P) / \"train-data\" / \"labels.numpy\")\n",
    "\n",
    "    assert isinstance(P[\"task.nr_train_images\"], int)\n",
    "\n",
    "    # Note: train_test_split will fail if split is 0 or 100%.\n",
    "    assert 0 < P[\"task.nr_train_images\"] < len(y_train_all)\n",
    "\n",
    "    X_train, _, y_train, _ = train_test_split(\n",
    "        X_train_all,\n",
    "        y_train_all,\n",
    "        train_size=P[\"task.nr_train_images\"],\n",
    "        test_size=None,\n",
    "        stratify=y_train_all,\n",
    "        shuffle=True,\n",
    "        random_state=123,\n",
    "    )\n",
    "\n",
    "    assert X_train.shape == (len(y_train), 8 * 8)\n",
    "    return X_train, y_train\n",
    "\n",
    "\n",
    "X_train, y_train = load_and_limit_train_data(P)"
   ]
  },
  {
   "cell_type": "markdown",
   "id": "c249241f",
   "metadata": {
    "papermill": {
     "duration": 0.003424,
     "end_time": "2022-07-07T14:36:04.334702",
     "exception": false,
     "start_time": "2022-07-07T14:36:04.331278",
     "status": "completed"
    },
    "tags": []
   },
   "source": [
    "## Train support vector classifier model\n",
    "\n",
    "Below we assume that the hyperparameter $C$ is known.\n",
    "\n",
    "However, this should ideally be found by a hyperparameter search. That could be\n",
    "done in parallel on the Ray cluster, but this needs some more work. Ie., to use\n",
    "multiple cores in the notebook, those cores should be reserved when starting the\n",
    "notebook task (TODO).\n",
    "\n",
    "- https://docs.ray.io/en/latest/tune/key-concepts.html\n",
    "\n",
    "Note: cv-scores would need to be computed here, since they depend on the train data.\n",
    "After this notebook only the onnx-model is available."
   ]
  },
  {
   "cell_type": "code",
   "execution_count": 7,
   "id": "77b1df7a",
   "metadata": {
    "execution": {
     "iopub.execute_input": "2022-07-07T14:36:04.342319Z",
     "iopub.status.busy": "2022-07-07T14:36:04.341959Z",
     "iopub.status.idle": "2022-07-07T14:36:04.364690Z",
     "shell.execute_reply": "2022-07-07T14:36:04.363960Z"
    },
    "papermill": {
     "duration": 0.028658,
     "end_time": "2022-07-07T14:36:04.366271",
     "exception": false,
     "start_time": "2022-07-07T14:36:04.337613",
     "status": "completed"
    },
    "tags": []
   },
   "outputs": [],
   "source": [
    "from sklearn.svm import SVC"
   ]
  },
  {
   "cell_type": "code",
   "execution_count": 8,
   "id": "92ec10f5",
   "metadata": {
    "execution": {
     "iopub.execute_input": "2022-07-07T14:36:04.379873Z",
     "iopub.status.busy": "2022-07-07T14:36:04.379268Z",
     "iopub.status.idle": "2022-07-07T14:36:04.597061Z",
     "shell.execute_reply": "2022-07-07T14:36:04.596450Z"
    },
    "papermill": {
     "duration": 0.229172,
     "end_time": "2022-07-07T14:36:04.598733",
     "exception": false,
     "start_time": "2022-07-07T14:36:04.369561",
     "status": "completed"
    },
    "tags": []
   },
   "outputs": [
    {
     "data": {
      "text/plain": [
       "SVC(C=0.001, kernel='linear', probability=True)"
      ]
     },
     "execution_count": 8,
     "metadata": {},
     "output_type": "execute_result"
    }
   ],
   "source": [
    "model = SVC(C=0.001, kernel=\"linear\", probability=True)\n",
    "\n",
    "model.fit(X_train, y_train)"
   ]
  },
  {
   "cell_type": "markdown",
   "id": "bc50dc4d",
   "metadata": {
    "papermill": {
     "duration": 0.003662,
     "end_time": "2022-07-07T14:36:04.606222",
     "exception": false,
     "start_time": "2022-07-07T14:36:04.602560",
     "status": "completed"
    },
    "tags": []
   },
   "source": [
    "### Q: Can the labels returned by `predict(..)` be computed from probabilities returned by the `predict_prob`-method?"
   ]
  },
  {
   "cell_type": "code",
   "execution_count": 9,
   "id": "6492dde9",
   "metadata": {
    "execution": {
     "iopub.execute_input": "2022-07-07T14:36:04.613931Z",
     "iopub.status.busy": "2022-07-07T14:36:04.613543Z",
     "iopub.status.idle": "2022-07-07T14:36:04.727345Z",
     "shell.execute_reply": "2022-07-07T14:36:04.726683Z"
    },
    "papermill": {
     "duration": 0.119626,
     "end_time": "2022-07-07T14:36:04.728972",
     "exception": false,
     "start_time": "2022-07-07T14:36:04.609346",
     "status": "completed"
    },
    "tags": []
   },
   "outputs": [
    {
     "name": "stdout",
     "output_type": "stream",
     "text": [
      " - Logging nr_max_prob_neq_label (int) : 2\n"
     ]
    }
   ],
   "source": [
    "import numpy as np\n",
    "\n",
    "y_train_labels = model.predict(X_train)\n",
    "y_train_probabilities = model.predict_proba(X_train)\n",
    "assert y_train_probabilities.shape == (len(y_train), 10)\n",
    "\n",
    "y_train_max_prob_labels = np.argmax(y_train_probabilities, axis=1)\n",
    "assert y_train_labels.shape == y_train_max_prob_labels.shape == y_train.shape\n",
    "\n",
    "# If the predicted labels would coincide with the labels that have\n",
    "# maximum probability, the below number would be zero\n",
    "logger.log_int(\n",
    "    \"nr_max_prob_neq_label\", int(sum(y_train_max_prob_labels != y_train_labels))\n",
    ")"
   ]
  },
  {
   "cell_type": "markdown",
   "id": "235d6cd0",
   "metadata": {
    "papermill": {
     "duration": 0.003555,
     "end_time": "2022-07-07T14:36:04.736329",
     "exception": false,
     "start_time": "2022-07-07T14:36:04.732774",
     "status": "completed"
    },
    "tags": []
   },
   "source": [
    "The explanation is (likely) explained in the SVC source, see\n",
    "[here](https://github.com/scikit-learn/scikit-learn/blob/main/sklearn/svm/_base.py).\n",
    "Namely, the outputs from `predict(..)` and `predict_proba(..)` may not in some\n",
    "cases be compatible since the latter is computed using cross-validation while\n",
    "the former is not. Thus, the above number need not be zero."
   ]
  },
  {
   "cell_type": "markdown",
   "id": "17cca62b",
   "metadata": {
    "papermill": {
     "duration": 0.003477,
     "end_time": "2022-07-07T14:36:04.742946",
     "exception": false,
     "start_time": "2022-07-07T14:36:04.739469",
     "status": "completed"
    },
    "tags": []
   },
   "source": [
    "## Persist model"
   ]
  },
  {
   "cell_type": "code",
   "execution_count": 10,
   "id": "e6fb4dd0",
   "metadata": {
    "execution": {
     "iopub.execute_input": "2022-07-07T14:36:04.751004Z",
     "iopub.status.busy": "2022-07-07T14:36:04.750456Z",
     "iopub.status.idle": "2022-07-07T14:36:05.460682Z",
     "shell.execute_reply": "2022-07-07T14:36:05.460116Z"
    },
    "papermill": {
     "duration": 0.716035,
     "end_time": "2022-07-07T14:36:05.462436",
     "exception": false,
     "start_time": "2022-07-07T14:36:04.746401",
     "status": "completed"
    },
    "tags": []
   },
   "outputs": [],
   "source": [
    "from skl2onnx import convert_sklearn\n",
    "from skl2onnx.common.data_types import FloatTensorType\n",
    "\n",
    "#\n",
    "from common.io import datalake_root, write_onnx"
   ]
  },
  {
   "cell_type": "code",
   "execution_count": 11,
   "id": "c6a946e6",
   "metadata": {
    "execution": {
     "iopub.execute_input": "2022-07-07T14:36:05.471857Z",
     "iopub.status.busy": "2022-07-07T14:36:05.471201Z",
     "iopub.status.idle": "2022-07-07T14:36:05.529743Z",
     "shell.execute_reply": "2022-07-07T14:36:05.529052Z"
    },
    "papermill": {
     "duration": 0.065402,
     "end_time": "2022-07-07T14:36:05.531746",
     "exception": false,
     "start_time": "2022-07-07T14:36:05.466344",
     "status": "completed"
    },
    "tags": []
   },
   "outputs": [],
   "source": [
    "# convert sklearn model into onnx and persist to data lake\n",
    "\n",
    "model_onnx = convert_sklearn(\n",
    "    model, initial_types=[(\"float_input_8x8_image\", FloatTensorType([None, 8 * 8]))]\n",
    ")\n",
    "write_onnx(\n",
    "    datalake_root(P)\n",
    "    / \"models\"\n",
    "    / f\"nr_train_images={P['task.nr_train_images']}\"\n",
    "    / \"model.onnx\",\n",
    "    model_onnx,\n",
    ")"
   ]
  },
  {
   "cell_type": "code",
   "execution_count": null,
   "id": "71e483e1",
   "metadata": {
    "papermill": {
     "duration": 0.00392,
     "end_time": "2022-07-07T14:36:05.539292",
     "exception": false,
     "start_time": "2022-07-07T14:36:05.535372",
     "status": "completed"
    },
    "tags": []
   },
   "outputs": [],
   "source": []
  }
 ],
 "metadata": {
  "jupytext": {
   "cell_metadata_filter": "tags,-all",
   "main_language": "python",
   "notebook_metadata_filter": "-all"
  },
  "language_info": {
   "codemirror_mode": {
    "name": "ipython",
    "version": 3
   },
   "file_extension": ".py",
   "mimetype": "text/x-python",
   "name": "python",
   "nbconvert_exporter": "python",
   "pygments_lexer": "ipython3",
   "version": "3.8.10"
  },
  "papermill": {
   "default_parameters": {},
   "duration": 4.508852,
   "end_time": "2022-07-07T14:36:06.560957",
   "environment_variables": {},
   "exception": null,
   "input_path": "/home/host_user/workspace/mnist-demo-pipeline/mnist-demo-pipeline/notebooks/temp-notebook-_y2zj0zl.ipynb",
   "output_path": "notebooks/train-model.ipynb",
   "parameters": {
    "P": {
     "_opentelemetry_traceparent": "00-b43d28cb3639d104708e53a0cb86f226-1ee918380abc46dc-01",
     "pipeline.data_lake_root": "/pipeline-outputs/data-lake",
     "pipeline.github.actor": "matiasdahl",
     "pipeline.github.base_ref": "development",
     "pipeline.github.event_name": "pull_request",
     "pipeline.github.head_ref": "readme-link-to-docs",
     "pipeline.github.job": "run-tests-pipeline-and-persist-pipeline-outputs",
     "pipeline.github.ref": "refs/pull/56/merge",
     "pipeline.github.ref_name": "56/merge",
     "pipeline.github.ref_type": "branch",
     "pipeline.github.repository": "pynb-dag-runner/mnist-digits-demo-pipeline",
     "pipeline.github.run_id": "2630256446",
     "pipeline.github.runner_name": "GitHub Actions 4",
     "pipeline.github.sha": "9618eea67de36c0cc64d4fc66ed9a3f1b50bbff3",
     "pipeline.github.workflow": "Run automated tests, pipeline and deploy results to static reporting site",
     "pipeline.pipeline_run_id": "e20e895d-454d-4542-b4da-b1ac1d08cc0d",
     "pipeline.run_environment": "ci",
     "run.retry_nr": "0",
     "task.max_nr_retries": "1",
     "task.notebook": "notebooks/train-model.py",
     "task.nr_train_images": 1200,
     "task.num_cpus": 1,
     "task.timeout_s": "None"
    }
   },
   "start_time": "2022-07-07T14:36:02.052105",
   "version": "2.3.3"
  }
 },
 "nbformat": 4,
 "nbformat_minor": 5
}