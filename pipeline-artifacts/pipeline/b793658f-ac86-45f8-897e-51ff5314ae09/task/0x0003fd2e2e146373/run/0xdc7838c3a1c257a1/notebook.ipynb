{
 "cells": [
  {
   "cell_type": "markdown",
   "id": "5c7bdf94",
   "metadata": {
    "papermill": {
     "duration": 0.006117,
     "end_time": "2022-07-13T06:51:07.476216",
     "exception": false,
     "start_time": "2022-07-13T06:51:07.470099",
     "status": "completed"
    },
    "tags": []
   },
   "source": [
    "# Benchmark model\n",
    "\n",
    "The purpose of this notebook is to benchmark persisted onnx-model (trained in the\n",
    "previous step) against evaluation set."
   ]
  },
  {
   "cell_type": "markdown",
   "id": "cccac3c2",
   "metadata": {
    "papermill": {
     "duration": 0.005557,
     "end_time": "2022-07-13T06:51:07.489052",
     "exception": false,
     "start_time": "2022-07-13T06:51:07.483495",
     "status": "completed"
    },
    "tags": []
   },
   "source": [
    "### Determine run parameters"
   ]
  },
  {
   "cell_type": "code",
   "execution_count": 1,
   "id": "d62faa58",
   "metadata": {
    "execution": {
     "iopub.execute_input": "2022-07-13T06:51:07.500034Z",
     "iopub.status.busy": "2022-07-13T06:51:07.499647Z",
     "iopub.status.idle": "2022-07-13T06:51:07.509980Z",
     "shell.execute_reply": "2022-07-13T06:51:07.509371Z"
    },
    "lines_to_next_cell": 0,
    "papermill": {
     "duration": 0.019064,
     "end_time": "2022-07-13T06:51:07.512524",
     "exception": false,
     "start_time": "2022-07-13T06:51:07.493460",
     "status": "completed"
    },
    "tags": []
   },
   "outputs": [],
   "source": [
    "# ----------------- Parameters for interactive development --------------\n",
    "P = {\n",
    "    \"pipeline.data_lake_root\": \"/pipeline-outputs/data-lake\",\n",
    "    \"task.nr_train_images\": 600,\n",
    "}"
   ]
  },
  {
   "cell_type": "code",
   "execution_count": 2,
   "id": "77733421",
   "metadata": {
    "execution": {
     "iopub.execute_input": "2022-07-13T06:51:07.524474Z",
     "iopub.status.busy": "2022-07-13T06:51:07.524245Z",
     "iopub.status.idle": "2022-07-13T06:51:07.527617Z",
     "shell.execute_reply": "2022-07-13T06:51:07.526974Z"
    },
    "lines_to_next_cell": 0,
    "papermill": {
     "duration": 0.012963,
     "end_time": "2022-07-13T06:51:07.530652",
     "exception": false,
     "start_time": "2022-07-13T06:51:07.517689",
     "status": "completed"
    },
    "tags": [
     "parameters"
    ]
   },
   "outputs": [],
   "source": [
    "# - During automated runs parameters will be injected in the below cell -"
   ]
  },
  {
   "cell_type": "code",
   "execution_count": 3,
   "id": "f63ec52b",
   "metadata": {
    "execution": {
     "iopub.execute_input": "2022-07-13T06:51:07.542303Z",
     "iopub.status.busy": "2022-07-13T06:51:07.542043Z",
     "iopub.status.idle": "2022-07-13T06:51:07.548281Z",
     "shell.execute_reply": "2022-07-13T06:51:07.547601Z"
    },
    "papermill": {
     "duration": 0.014992,
     "end_time": "2022-07-13T06:51:07.551751",
     "exception": false,
     "start_time": "2022-07-13T06:51:07.536759",
     "status": "completed"
    },
    "tags": [
     "injected-parameters"
    ]
   },
   "outputs": [],
   "source": [
    "# Parameters\n",
    "P = {\n",
    "    \"pipeline.data_lake_root\": \"/pipeline-outputs/data-lake\",\n",
    "    \"pipeline.run_environment\": \"ci\",\n",
    "    \"pipeline.pipeline_run_id\": \"b793658f-ac86-45f8-897e-51ff5314ae09\",\n",
    "    \"pipeline.github.repository\": \"pynb-dag-runner/mnist-digits-demo-pipeline\",\n",
    "    \"pipeline.github.workflow\": \"Run automated tests, pipeline and deploy results to static reporting site\",\n",
    "    \"pipeline.github.runner_name\": \"Hosted Agent\",\n",
    "    \"pipeline.github.run_id\": \"2661518739\",\n",
    "    \"pipeline.github.actor\": \"matiasdahl\",\n",
    "    \"pipeline.github.job\": \"run-tests-pipeline-and-persist-pipeline-outputs\",\n",
    "    \"pipeline.github.base_ref\": \"\",\n",
    "    \"pipeline.github.head_ref\": \"\",\n",
    "    \"pipeline.github.sha\": \"147a1be9916173fd4d2cd011d8d51e3411215850\",\n",
    "    \"pipeline.github.ref\": \"refs/heads/development\",\n",
    "    \"pipeline.github.ref_type\": \"branch\",\n",
    "    \"pipeline.github.ref_name\": \"development\",\n",
    "    \"pipeline.github.event_name\": \"schedule\",\n",
    "    \"task.nr_train_images\": 600,\n",
    "    \"task.notebook\": \"notebooks/benchmark-model.py\",\n",
    "    \"task.max_nr_retries\": \"1\",\n",
    "    \"run.retry_nr\": \"0\",\n",
    "    \"task.timeout_s\": \"None\",\n",
    "    \"task.num_cpus\": 1,\n",
    "    \"_opentelemetry_traceparent\": \"00-5f05c8a8f596272cb475eba0e8c4eafa-82ab819de21303fc-01\",\n",
    "}\n"
   ]
  },
  {
   "cell_type": "code",
   "execution_count": 4,
   "id": "3c6810b4",
   "metadata": {
    "execution": {
     "iopub.execute_input": "2022-07-13T06:51:07.563835Z",
     "iopub.status.busy": "2022-07-13T06:51:07.563594Z",
     "iopub.status.idle": "2022-07-13T06:51:07.567719Z",
     "shell.execute_reply": "2022-07-13T06:51:07.566926Z"
    },
    "lines_to_next_cell": 0,
    "papermill": {
     "duration": 0.014684,
     "end_time": "2022-07-13T06:51:07.572083",
     "exception": false,
     "start_time": "2022-07-13T06:51:07.557399",
     "status": "completed"
    },
    "tags": []
   },
   "outputs": [],
   "source": [
    "# -----------------------------------------------------------------------"
   ]
  },
  {
   "cell_type": "markdown",
   "id": "59f6db2a",
   "metadata": {
    "papermill": {
     "duration": 0.004609,
     "end_time": "2022-07-13T06:51:07.582004",
     "exception": false,
     "start_time": "2022-07-13T06:51:07.577395",
     "status": "completed"
    },
    "tags": []
   },
   "source": [
    "---"
   ]
  },
  {
   "cell_type": "markdown",
   "id": "4a8272a8",
   "metadata": {
    "lines_to_next_cell": 2,
    "papermill": {
     "duration": 0.005111,
     "end_time": "2022-07-13T06:51:07.597234",
     "exception": false,
     "start_time": "2022-07-13T06:51:07.592123",
     "status": "completed"
    },
    "tags": []
   },
   "source": [
    "### Notebook code"
   ]
  },
  {
   "cell_type": "code",
   "execution_count": 5,
   "id": "dea58d8f",
   "metadata": {
    "execution": {
     "iopub.execute_input": "2022-07-13T06:51:07.607770Z",
     "iopub.status.busy": "2022-07-13T06:51:07.607564Z",
     "iopub.status.idle": "2022-07-13T06:51:09.011335Z",
     "shell.execute_reply": "2022-07-13T06:51:09.010532Z"
    },
    "papermill": {
     "duration": 1.411622,
     "end_time": "2022-07-13T06:51:09.013550",
     "exception": false,
     "start_time": "2022-07-13T06:51:07.601928",
     "status": "completed"
    },
    "tags": []
   },
   "outputs": [
    {
     "name": "stderr",
     "output_type": "stream",
     "text": [
      "2022-07-13 06:51:08,832\tINFO worker.py:842 -- Connecting to existing Ray cluster at address: 172.17.0.2:6379\n"
     ]
    }
   ],
   "source": [
    "import itertools as it\n",
    "\n",
    "#\n",
    "import numpy as np\n",
    "import matplotlib.pyplot as plt\n",
    "\n",
    "#\n",
    "from pynb_dag_runner.tasks.task_opentelemetry_logging import PydarLogger\n",
    "\n",
    "#\n",
    "from common.io import datalake_root\n",
    "\n",
    "logger = PydarLogger(P)"
   ]
  },
  {
   "cell_type": "markdown",
   "id": "5d6799a7",
   "metadata": {
    "papermill": {
     "duration": 0.005938,
     "end_time": "2022-07-13T06:51:09.024276",
     "exception": false,
     "start_time": "2022-07-13T06:51:09.018338",
     "status": "completed"
    },
    "tags": []
   },
   "source": [
    "## Load persisted onnx-model and evaluation data"
   ]
  },
  {
   "cell_type": "code",
   "execution_count": 6,
   "id": "042e899b",
   "metadata": {
    "execution": {
     "iopub.execute_input": "2022-07-13T06:51:09.035968Z",
     "iopub.status.busy": "2022-07-13T06:51:09.035618Z",
     "iopub.status.idle": "2022-07-13T06:51:09.040279Z",
     "shell.execute_reply": "2022-07-13T06:51:09.039036Z"
    },
    "papermill": {
     "duration": 0.014899,
     "end_time": "2022-07-13T06:51:09.043980",
     "exception": false,
     "start_time": "2022-07-13T06:51:09.029081",
     "status": "completed"
    },
    "tags": []
   },
   "outputs": [],
   "source": [
    "from common.io import read_onnx, get_onnx_inputs, get_onnx_outputs, read_numpy"
   ]
  },
  {
   "cell_type": "code",
   "execution_count": 7,
   "id": "1aa36705",
   "metadata": {
    "execution": {
     "iopub.execute_input": "2022-07-13T06:51:09.063861Z",
     "iopub.status.busy": "2022-07-13T06:51:09.063545Z",
     "iopub.status.idle": "2022-07-13T06:51:09.079197Z",
     "shell.execute_reply": "2022-07-13T06:51:09.078384Z"
    },
    "lines_to_next_cell": 0,
    "papermill": {
     "duration": 0.029349,
     "end_time": "2022-07-13T06:51:09.081887",
     "exception": false,
     "start_time": "2022-07-13T06:51:09.052538",
     "status": "completed"
    },
    "tags": []
   },
   "outputs": [],
   "source": [
    "onnx_inference_session = read_onnx(\n",
    "    datalake_root(P)\n",
    "    / \"models\"\n",
    "    / f\"nr_train_images={P['task.nr_train_images']}\"\n",
    "    / \"model.onnx\"\n",
    ")"
   ]
  },
  {
   "cell_type": "markdown",
   "id": "e7aae986",
   "metadata": {
    "papermill": {
     "duration": 0.006278,
     "end_time": "2022-07-13T06:51:09.092922",
     "exception": false,
     "start_time": "2022-07-13T06:51:09.086644",
     "status": "completed"
    },
    "tags": []
   },
   "source": [
    "### Record structure of inputs and outputs for ONNX model\n",
    "\n",
    "(this should likely be done in training notebook)"
   ]
  },
  {
   "cell_type": "code",
   "execution_count": 8,
   "id": "fd2563ab",
   "metadata": {
    "execution": {
     "iopub.execute_input": "2022-07-13T06:51:09.104116Z",
     "iopub.status.busy": "2022-07-13T06:51:09.103813Z",
     "iopub.status.idle": "2022-07-13T06:51:09.112426Z",
     "shell.execute_reply": "2022-07-13T06:51:09.111176Z"
    },
    "papermill": {
     "duration": 0.018639,
     "end_time": "2022-07-13T06:51:09.116322",
     "exception": false,
     "start_time": "2022-07-13T06:51:09.097683",
     "status": "completed"
    },
    "tags": []
   },
   "outputs": [
    {
     "name": "stdout",
     "output_type": "stream",
     "text": [
      "{\n",
      "  \"inputs\": [\n",
      "    {\n",
      "      \"name\": \"float_input_8x8_image\",\n",
      "      \"shape\": [\n",
      "        null,\n",
      "        64\n",
      "      ],\n",
      "      \"type\": \"tensor(float)\"\n",
      "    }\n",
      "  ],\n",
      "  \"outputs\": [\n",
      "    {\n",
      "      \"name\": \"output_label\",\n",
      "      \"shape\": [\n",
      "        null\n",
      "      ],\n",
      "      \"type\": \"tensor(int64)\"\n",
      "    },\n",
      "    {\n",
      "      \"name\": \"output_probability\",\n",
      "      \"shape\": [],\n",
      "      \"type\": \"seq(map(int64,tensor(float)))\"\n",
      "    }\n",
      "  ]\n",
      "}\n"
     ]
    }
   ],
   "source": [
    "import json\n",
    "\n",
    "onnx_io = json.dumps(\n",
    "    {\n",
    "        \"inputs\": get_onnx_inputs(onnx_inference_session),\n",
    "        \"outputs\": get_onnx_outputs(onnx_inference_session),\n",
    "    },\n",
    "    indent=2,\n",
    ")\n",
    "\n",
    "\n",
    "logger.log_artefact(\"onnx_io_structure.json\", onnx_io)\n",
    "print(onnx_io)"
   ]
  },
  {
   "cell_type": "markdown",
   "id": "afda536a",
   "metadata": {
    "papermill": {
     "duration": 0.004877,
     "end_time": "2022-07-13T06:51:09.126269",
     "exception": false,
     "start_time": "2022-07-13T06:51:09.121392",
     "status": "completed"
    },
    "tags": []
   },
   "source": [
    "### Evaluate model performance on evaluation data set"
   ]
  },
  {
   "cell_type": "code",
   "execution_count": 9,
   "id": "c8f88582",
   "metadata": {
    "execution": {
     "iopub.execute_input": "2022-07-13T06:51:09.138053Z",
     "iopub.status.busy": "2022-07-13T06:51:09.137767Z",
     "iopub.status.idle": "2022-07-13T06:51:09.144008Z",
     "shell.execute_reply": "2022-07-13T06:51:09.143334Z"
    },
    "papermill": {
     "duration": 0.016138,
     "end_time": "2022-07-13T06:51:09.146889",
     "exception": false,
     "start_time": "2022-07-13T06:51:09.130751",
     "status": "completed"
    },
    "tags": []
   },
   "outputs": [],
   "source": [
    "# load evaluation data\n",
    "X_test = read_numpy(datalake_root(P) / \"test-data\" / \"digits.numpy\")\n",
    "y_test = read_numpy(datalake_root(P) / \"test-data\" / \"labels.numpy\")"
   ]
  },
  {
   "cell_type": "code",
   "execution_count": 10,
   "id": "b0b5e3f5",
   "metadata": {
    "execution": {
     "iopub.execute_input": "2022-07-13T06:51:09.158692Z",
     "iopub.status.busy": "2022-07-13T06:51:09.158470Z",
     "iopub.status.idle": "2022-07-13T06:51:09.175041Z",
     "shell.execute_reply": "2022-07-13T06:51:09.174374Z"
    },
    "papermill": {
     "duration": 0.023777,
     "end_time": "2022-07-13T06:51:09.176811",
     "exception": false,
     "start_time": "2022-07-13T06:51:09.153034",
     "status": "completed"
    },
    "tags": []
   },
   "outputs": [],
   "source": [
    "def get_model_outputs(X, onnx_inference_session):\n",
    "    y_pred_labels, y_pred_map = onnx_inference_session.run(\n",
    "        [\"output_label\", \"output_probability\"],\n",
    "        {\"float_input_8x8_image\": X.astype(np.float32)},\n",
    "    )\n",
    "    y_pred_probs = np.array(\n",
    "        [[probabilities[digit] for digit in range(10)] for probabilities in y_pred_map]\n",
    "    )\n",
    "\n",
    "    assert y_pred_labels.shape == (X.shape[0],)\n",
    "    assert y_pred_probs.shape == (X.shape[0], 10)\n",
    "\n",
    "    return y_pred_labels, y_pred_probs\n",
    "\n",
    "\n",
    "# Note: as shown in the training notebook, the predicted labels and probabilities\n",
    "# computed below need not be compatible.\n",
    "y_pred_labels_test, y_pred_probs_test = get_model_outputs(\n",
    "    X_test, onnx_inference_session\n",
    ")"
   ]
  },
  {
   "cell_type": "markdown",
   "id": "3066111a",
   "metadata": {
    "papermill": {
     "duration": 0.005657,
     "end_time": "2022-07-13T06:51:09.188199",
     "exception": false,
     "start_time": "2022-07-13T06:51:09.182542",
     "status": "completed"
    },
    "tags": []
   },
   "source": [
    "### Confusion matrix"
   ]
  },
  {
   "cell_type": "code",
   "execution_count": 11,
   "id": "63a2e315",
   "metadata": {
    "execution": {
     "iopub.execute_input": "2022-07-13T06:51:09.198854Z",
     "iopub.status.busy": "2022-07-13T06:51:09.198579Z",
     "iopub.status.idle": "2022-07-13T06:51:09.206149Z",
     "shell.execute_reply": "2022-07-13T06:51:09.201266Z"
    },
    "papermill": {
     "duration": 0.016131,
     "end_time": "2022-07-13T06:51:09.209092",
     "exception": false,
     "start_time": "2022-07-13T06:51:09.192961",
     "status": "completed"
    },
    "tags": []
   },
   "outputs": [],
   "source": [
    "# TODO"
   ]
  },
  {
   "cell_type": "markdown",
   "id": "618ed926",
   "metadata": {
    "papermill": {
     "duration": 0.006251,
     "end_time": "2022-07-13T06:51:09.220284",
     "exception": false,
     "start_time": "2022-07-13T06:51:09.214033",
     "status": "completed"
    },
    "tags": []
   },
   "source": [
    "### Plot predicted probabilities for each classifier over all evaluation digit images"
   ]
  },
  {
   "cell_type": "code",
   "execution_count": 12,
   "id": "fc588d8e",
   "metadata": {
    "execution": {
     "iopub.execute_input": "2022-07-13T06:51:09.231637Z",
     "iopub.status.busy": "2022-07-13T06:51:09.231320Z",
     "iopub.status.idle": "2022-07-13T06:51:14.277070Z",
     "shell.execute_reply": "2022-07-13T06:51:14.275800Z"
    },
    "papermill": {
     "duration": 5.054125,
     "end_time": "2022-07-13T06:51:14.279796",
     "exception": false,
     "start_time": "2022-07-13T06:51:09.225671",
     "status": "completed"
    },
    "tags": []
   },
   "outputs": [
    {
     "data": {
      "image/png": "[encoded data removed]",
      "text/plain": [
       "<Figure size 1152x432 with 10 Axes>"
      ]
     },
     "metadata": {
      "needs_background": "light"
     },
     "output_type": "display_data"
    }
   ],
   "source": [
    "def plot_per_digit_probabilities(y_pred_probs):\n",
    "    fig, axs = plt.subplots(nrows=2, ncols=5, figsize=(16, 6))\n",
    "\n",
    "    for (r, c), digit, ax in zip(\n",
    "        it.product(range(2), range(5)), range(10), axs.reshape(-1)\n",
    "    ):\n",
    "        ax.hist(y_pred_probs_test[:, digit], bins=20)\n",
    "\n",
    "        ax.set_title(f\"Digit {digit}\")\n",
    "        if r == 1 and c == 2:\n",
    "            ax.set_xlabel(\"probability\", fontsize=16)\n",
    "\n",
    "        if c == 0:\n",
    "            ax.set_ylabel(\"counts\", fontsize=16)\n",
    "        ax.set_yscale(\"log\")\n",
    "\n",
    "    fig.tight_layout()\n",
    "    fig.suptitle(\n",
    "        f\"Distributions of prediction probabilities for each digit \"\n",
    "        f\"(on evaluation data, n={y_pred_probs.shape[0]})\",\n",
    "        fontsize=20,\n",
    "    )\n",
    "    fig.tight_layout()\n",
    "    fig.show()\n",
    "\n",
    "    return fig\n",
    "\n",
    "\n",
    "fig = plot_per_digit_probabilities(y_pred_probs_test)"
   ]
  },
  {
   "cell_type": "markdown",
   "id": "eca31965",
   "metadata": {
    "papermill": {
     "duration": 0.006064,
     "end_time": "2022-07-13T06:51:14.293126",
     "exception": false,
     "start_time": "2022-07-13T06:51:14.287062",
     "status": "completed"
    },
    "tags": []
   },
   "source": [
    "From the above distributions we see that most digits have clear separation between\n",
    "high and lower probabilities. Morover, in each case there is roughly an order of\n",
    "magnitude more of digits with low probabilities. This is compatible with digits\n",
    "being roughly evenly distributed in the data."
   ]
  },
  {
   "cell_type": "code",
   "execution_count": 13,
   "id": "880ee791",
   "metadata": {
    "execution": {
     "iopub.execute_input": "2022-07-13T06:51:14.307145Z",
     "iopub.status.busy": "2022-07-13T06:51:14.306665Z",
     "iopub.status.idle": "2022-07-13T06:51:15.023944Z",
     "shell.execute_reply": "2022-07-13T06:51:15.022695Z"
    },
    "papermill": {
     "duration": 0.726971,
     "end_time": "2022-07-13T06:51:15.026113",
     "exception": false,
     "start_time": "2022-07-13T06:51:14.299142",
     "status": "completed"
    },
    "tags": []
   },
   "outputs": [],
   "source": [
    "logger.log_figure(\"per-digit-probabilities.png\", fig)"
   ]
  },
  {
   "cell_type": "markdown",
   "id": "04c39736",
   "metadata": {
    "papermill": {
     "duration": 0.005373,
     "end_time": "2022-07-13T06:51:15.038574",
     "exception": false,
     "start_time": "2022-07-13T06:51:15.033201",
     "status": "completed"
    },
    "tags": []
   },
   "source": [
    "### Plot ROC curves for individual one-vs-rest classifiers"
   ]
  },
  {
   "cell_type": "code",
   "execution_count": 14,
   "id": "5c7c19ae",
   "metadata": {
    "execution": {
     "iopub.execute_input": "2022-07-13T06:51:15.052754Z",
     "iopub.status.busy": "2022-07-13T06:51:15.051984Z",
     "iopub.status.idle": "2022-07-13T06:51:15.568751Z",
     "shell.execute_reply": "2022-07-13T06:51:15.567635Z"
    },
    "papermill": {
     "duration": 0.52711,
     "end_time": "2022-07-13T06:51:15.571264",
     "exception": false,
     "start_time": "2022-07-13T06:51:15.044154",
     "status": "completed"
    },
    "tags": []
   },
   "outputs": [],
   "source": [
    "from sklearn import metrics"
   ]
  },
  {
   "cell_type": "code",
   "execution_count": 15,
   "id": "c79dbd61",
   "metadata": {
    "execution": {
     "iopub.execute_input": "2022-07-13T06:51:15.584931Z",
     "iopub.status.busy": "2022-07-13T06:51:15.584424Z",
     "iopub.status.idle": "2022-07-13T06:51:17.839051Z",
     "shell.execute_reply": "2022-07-13T06:51:17.838310Z"
    },
    "papermill": {
     "duration": 2.263871,
     "end_time": "2022-07-13T06:51:17.841183",
     "exception": false,
     "start_time": "2022-07-13T06:51:15.577312",
     "status": "completed"
    },
    "tags": []
   },
   "outputs": [
    {
     "data": {
      "image/png": "[encoded data removed]",
      "text/plain": [
       "<Figure size 1152x576 with 10 Axes>"
      ]
     },
     "metadata": {
      "needs_background": "light"
     },
     "output_type": "display_data"
    }
   ],
   "source": [
    "def plot_roc_curves(y, y_pred_probs):\n",
    "    # based on example code\n",
    "    # https://scikit-learn.org/stable/auto_examples/model_selection/plot_roc.html\n",
    "\n",
    "    fig, axs = plt.subplots(nrows=2, ncols=5, figsize=(16, 8))\n",
    "\n",
    "    roc_auc_dict = {}\n",
    "\n",
    "    for (r, c), digit, ax in zip(\n",
    "        it.product(range(2), range(5)), range(10), axs.reshape(-1)\n",
    "    ):\n",
    "        fpr, tpr, _ = metrics.roc_curve(y == digit, y_pred_probs[:, digit])\n",
    "        auc = metrics.auc(fpr, tpr)\n",
    "        roc_auc_dict[str(digit)] = auc\n",
    "\n",
    "        ax.plot(fpr, tpr, label=f\"ROC AUC={round(auc, 3)}\")\n",
    "\n",
    "        ax.set_title(f\"\\nDigit {digit}\", fontsize=16)\n",
    "        if r == 1:\n",
    "            ax.set_xlabel(\"FPR\", fontsize=18)\n",
    "\n",
    "        if c == 0:\n",
    "            ax.set_ylabel(\"TPR\", fontsize=18)\n",
    "\n",
    "        ax.set_xlim([-0.05, 1.05])\n",
    "        ax.set_ylim([-0.05, 1.05])\n",
    "        ax.legend(loc=\"lower right\", frameon=False, fontsize=14)\n",
    "\n",
    "    fig.tight_layout()\n",
    "    fig.suptitle(\n",
    "        f\"ROC plots for one-vs-rest performances \"\n",
    "        f\"(on evaluation data, n={y_pred_probs_test.shape[1]}\",\n",
    "        fontsize=22,\n",
    "    )\n",
    "    fig.tight_layout()\n",
    "    fig.show()\n",
    "\n",
    "    return roc_auc_dict, fig\n",
    "\n",
    "\n",
    "roc_auc_dict, fig = plot_roc_curves(y_test, y_pred_probs_test)"
   ]
  },
  {
   "cell_type": "code",
   "execution_count": 16,
   "id": "20c47840",
   "metadata": {
    "execution": {
     "iopub.execute_input": "2022-07-13T06:51:17.856764Z",
     "iopub.status.busy": "2022-07-13T06:51:17.856449Z",
     "iopub.status.idle": "2022-07-13T06:51:18.176096Z",
     "shell.execute_reply": "2022-07-13T06:51:18.174855Z"
    },
    "papermill": {
     "duration": 0.330731,
     "end_time": "2022-07-13T06:51:18.178972",
     "exception": false,
     "start_time": "2022-07-13T06:51:17.848241",
     "status": "completed"
    },
    "tags": []
   },
   "outputs": [],
   "source": [
    "logger.log_figure(\"per-digit-roc-curves.png\", fig)"
   ]
  },
  {
   "cell_type": "code",
   "execution_count": 17,
   "id": "06afaf31",
   "metadata": {
    "execution": {
     "iopub.execute_input": "2022-07-13T06:51:18.193173Z",
     "iopub.status.busy": "2022-07-13T06:51:18.192883Z",
     "iopub.status.idle": "2022-07-13T06:51:18.199067Z",
     "shell.execute_reply": "2022-07-13T06:51:18.198257Z"
    },
    "papermill": {
     "duration": 0.018091,
     "end_time": "2022-07-13T06:51:18.203199",
     "exception": false,
     "start_time": "2022-07-13T06:51:18.185108",
     "status": "completed"
    },
    "tags": []
   },
   "outputs": [
    {
     "data": {
      "text/plain": [
       "{'0': 1.0,\n",
       " '1': 0.9991752577319588,\n",
       " '2': 1.0,\n",
       " '3': 0.9998125585754452,\n",
       " '4': 0.9991236092059138,\n",
       " '5': 0.998800374882849,\n",
       " '6': 0.999923792104862,\n",
       " '7': 0.9998475842097241,\n",
       " '8': 0.9944435687263556,\n",
       " '9': 0.9987425697302241}"
      ]
     },
     "execution_count": 17,
     "metadata": {},
     "output_type": "execute_result"
    }
   ],
   "source": [
    "roc_auc_dict"
   ]
  },
  {
   "cell_type": "code",
   "execution_count": 18,
   "id": "2e7f6737",
   "metadata": {
    "execution": {
     "iopub.execute_input": "2022-07-13T06:51:18.217106Z",
     "iopub.status.busy": "2022-07-13T06:51:18.216776Z",
     "iopub.status.idle": "2022-07-13T06:51:18.221822Z",
     "shell.execute_reply": "2022-07-13T06:51:18.220866Z"
    },
    "papermill": {
     "duration": 0.016377,
     "end_time": "2022-07-13T06:51:18.226117",
     "exception": false,
     "start_time": "2022-07-13T06:51:18.209740",
     "status": "completed"
    },
    "tags": []
   },
   "outputs": [
    {
     "name": "stdout",
     "output_type": "stream",
     "text": [
      " - Logging roc_auc_per_digit (json) : {'0': 1.0, '1': 0.9991752577319588, '2': 1.0, '3': 0.9998125585754452, '4': 0.9991236092059138, '5': 0.998800374882849, '6': 0.999923792104862, '7': 0.9998475842097241, '8': 0.9944435687263556, '9': 0.9987425697302241}\n"
     ]
    }
   ],
   "source": [
    "logger.log_value(\"roc_auc_per_digit\", roc_auc_dict)"
   ]
  },
  {
   "cell_type": "markdown",
   "id": "d2a2a11b",
   "metadata": {
    "papermill": {
     "duration": 0.006288,
     "end_time": "2022-07-13T06:51:18.239000",
     "exception": false,
     "start_time": "2022-07-13T06:51:18.232712",
     "status": "completed"
    },
    "tags": []
   },
   "source": [
    "### Compute and log mean ROC AUC score averaged over all digits"
   ]
  },
  {
   "cell_type": "code",
   "execution_count": 19,
   "id": "a672e19b",
   "metadata": {
    "execution": {
     "iopub.execute_input": "2022-07-13T06:51:18.253963Z",
     "iopub.status.busy": "2022-07-13T06:51:18.253702Z",
     "iopub.status.idle": "2022-07-13T06:51:18.274355Z",
     "shell.execute_reply": "2022-07-13T06:51:18.273591Z"
    },
    "papermill": {
     "duration": 0.030952,
     "end_time": "2022-07-13T06:51:18.276395",
     "exception": false,
     "start_time": "2022-07-13T06:51:18.245443",
     "status": "completed"
    },
    "tags": []
   },
   "outputs": [
    {
     "name": "stdout",
     "output_type": "stream",
     "text": [
      " - Logging roc_auc_class_mean (float) : 0.9989869315167332\n"
     ]
    }
   ],
   "source": [
    "roc_auc_macro = np.mean(list(roc_auc_dict.values()))\n",
    "\n",
    "logger.log_float(\"roc_auc_class_mean\", roc_auc_macro)\n",
    "\n",
    "# assert that the same value can be computed directly using sklearn\n",
    "assert roc_auc_macro == metrics.roc_auc_score(\n",
    "    y_test, y_pred_probs_test, average=\"macro\", multi_class=\"ovr\"\n",
    ")"
   ]
  },
  {
   "cell_type": "code",
   "execution_count": 20,
   "id": "d302f3dd",
   "metadata": {
    "execution": {
     "iopub.execute_input": "2022-07-13T06:51:18.293261Z",
     "iopub.status.busy": "2022-07-13T06:51:18.293008Z",
     "iopub.status.idle": "2022-07-13T06:51:18.296278Z",
     "shell.execute_reply": "2022-07-13T06:51:18.295430Z"
    },
    "lines_to_next_cell": 0,
    "papermill": {
     "duration": 0.016357,
     "end_time": "2022-07-13T06:51:18.299492",
     "exception": false,
     "start_time": "2022-07-13T06:51:18.283135",
     "status": "completed"
    },
    "tags": []
   },
   "outputs": [],
   "source": [
    "# ---"
   ]
  },
  {
   "cell_type": "code",
   "execution_count": null,
   "id": "d04d5aba",
   "metadata": {
    "papermill": {
     "duration": 0.006183,
     "end_time": "2022-07-13T06:51:18.312276",
     "exception": false,
     "start_time": "2022-07-13T06:51:18.306093",
     "status": "completed"
    },
    "tags": []
   },
   "outputs": [],
   "source": []
  }
 ],
 "metadata": {
  "jupytext": {
   "cell_metadata_filter": "tags,-all",
   "main_language": "python",
   "notebook_metadata_filter": "-all"
  },
  "language_info": {
   "codemirror_mode": {
    "name": "ipython",
    "version": 3
   },
   "file_extension": ".py",
   "mimetype": "text/x-python",
   "name": "python",
   "nbconvert_exporter": "python",
   "pygments_lexer": "ipython3",
   "version": "3.8.10"
  },
  "papermill": {
   "default_parameters": {},
   "duration": 13.829107,
   "end_time": "2022-07-13T06:51:19.343373",
   "environment_variables": {},
   "exception": null,
   "input_path": "/home/host_user/workspace/mnist-demo-pipeline/mnist-demo-pipeline/notebooks/temp-notebook-7sveu8ey.ipynb",
   "output_path": "notebooks/benchmark-model.ipynb",
   "parameters": {
    "P": {
     "_opentelemetry_traceparent": "00-5f05c8a8f596272cb475eba0e8c4eafa-82ab819de21303fc-01",
     "pipeline.data_lake_root": "/pipeline-outputs/data-lake",
     "pipeline.github.actor": "matiasdahl",
     "pipeline.github.base_ref": "",
     "pipeline.github.event_name": "schedule",
     "pipeline.github.head_ref": "",
     "pipeline.github.job": "run-tests-pipeline-and-persist-pipeline-outputs",
     "pipeline.github.ref": "refs/heads/development",
     "pipeline.github.ref_name": "development",
     "pipeline.github.ref_type": "branch",
     "pipeline.github.repository": "pynb-dag-runner/mnist-digits-demo-pipeline",
     "pipeline.github.run_id": "2661518739",
     "pipeline.github.runner_name": "Hosted Agent",
     "pipeline.github.sha": "147a1be9916173fd4d2cd011d8d51e3411215850",
     "pipeline.github.workflow": "Run automated tests, pipeline and deploy results to static reporting site",
     "pipeline.pipeline_run_id": "b793658f-ac86-45f8-897e-51ff5314ae09",
     "pipeline.run_environment": "ci",
     "run.retry_nr": "0",
     "task.max_nr_retries": "1",
     "task.notebook": "notebooks/benchmark-model.py",
     "task.nr_train_images": 600,
     "task.num_cpus": 1,
     "task.timeout_s": "None"
    }
   },
   "start_time": "2022-07-13T06:51:05.514266",
   "version": "2.3.3"
  }
 },
 "nbformat": 4,
 "nbformat_minor": 5
}