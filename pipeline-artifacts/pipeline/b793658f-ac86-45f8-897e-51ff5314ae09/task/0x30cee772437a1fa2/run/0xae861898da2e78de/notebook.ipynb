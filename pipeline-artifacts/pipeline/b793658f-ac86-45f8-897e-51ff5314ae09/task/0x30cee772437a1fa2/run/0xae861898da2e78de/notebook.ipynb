{
 "cells": [
  {
   "cell_type": "markdown",
   "id": "2718fc77",
   "metadata": {
    "papermill": {
     "duration": 0.00399,
     "end_time": "2022-07-13T06:51:00.275467",
     "exception": false,
     "start_time": "2022-07-13T06:51:00.271477",
     "status": "completed"
    },
    "tags": []
   },
   "source": [
    "# Train model\n",
    "\n",
    "The purpose of this notebook is:\n",
    "\n",
    "- Load all training data (images and labels).\n",
    "- Limit number of train images to `task.nr_train_images` (value provided as run parameter).\n",
    "- Train a support vector machine model using sklearn.\n",
    "- Persist the trained model using the ONNX format."
   ]
  },
  {
   "cell_type": "markdown",
   "id": "c43cfba8",
   "metadata": {
    "papermill": {
     "duration": 0.003231,
     "end_time": "2022-07-13T06:51:00.282606",
     "exception": false,
     "start_time": "2022-07-13T06:51:00.279375",
     "status": "completed"
    },
    "tags": []
   },
   "source": [
    "### Determine run parameters"
   ]
  },
  {
   "cell_type": "code",
   "execution_count": 1,
   "id": "e98d4403",
   "metadata": {
    "execution": {
     "iopub.execute_input": "2022-07-13T06:51:00.292479Z",
     "iopub.status.busy": "2022-07-13T06:51:00.292105Z",
     "iopub.status.idle": "2022-07-13T06:51:00.302988Z",
     "shell.execute_reply": "2022-07-13T06:51:00.302179Z"
    },
    "lines_to_next_cell": 0,
    "papermill": {
     "duration": 0.01882,
     "end_time": "2022-07-13T06:51:00.304843",
     "exception": false,
     "start_time": "2022-07-13T06:51:00.286023",
     "status": "completed"
    },
    "tags": []
   },
   "outputs": [],
   "source": [
    "# ----------------- Parameters for interactive development --------------\n",
    "P = {\n",
    "    \"pipeline.data_lake_root\": \"/pipeline-outputs/data-lake\",\n",
    "    \"task.nr_train_images\": 600,\n",
    "}"
   ]
  },
  {
   "cell_type": "code",
   "execution_count": 2,
   "id": "74039837",
   "metadata": {
    "execution": {
     "iopub.execute_input": "2022-07-13T06:51:00.313998Z",
     "iopub.status.busy": "2022-07-13T06:51:00.313020Z",
     "iopub.status.idle": "2022-07-13T06:51:00.317796Z",
     "shell.execute_reply": "2022-07-13T06:51:00.316870Z"
    },
    "lines_to_next_cell": 0,
    "papermill": {
     "duration": 0.011366,
     "end_time": "2022-07-13T06:51:00.319771",
     "exception": false,
     "start_time": "2022-07-13T06:51:00.308405",
     "status": "completed"
    },
    "tags": [
     "parameters"
    ]
   },
   "outputs": [],
   "source": [
    "# - During automated runs parameters will be injected in the below cell -"
   ]
  },
  {
   "cell_type": "code",
   "execution_count": 3,
   "id": "a0c688bd",
   "metadata": {
    "execution": {
     "iopub.execute_input": "2022-07-13T06:51:00.328263Z",
     "iopub.status.busy": "2022-07-13T06:51:00.327693Z",
     "iopub.status.idle": "2022-07-13T06:51:00.333257Z",
     "shell.execute_reply": "2022-07-13T06:51:00.332440Z"
    },
    "papermill": {
     "duration": 0.012069,
     "end_time": "2022-07-13T06:51:00.335665",
     "exception": false,
     "start_time": "2022-07-13T06:51:00.323596",
     "status": "completed"
    },
    "tags": [
     "injected-parameters"
    ]
   },
   "outputs": [],
   "source": [
    "# Parameters\n",
    "P = {\n",
    "    \"pipeline.data_lake_root\": \"/pipeline-outputs/data-lake\",\n",
    "    \"pipeline.run_environment\": \"ci\",\n",
    "    \"pipeline.pipeline_run_id\": \"b793658f-ac86-45f8-897e-51ff5314ae09\",\n",
    "    \"pipeline.github.repository\": \"pynb-dag-runner/mnist-digits-demo-pipeline\",\n",
    "    \"pipeline.github.workflow\": \"Run automated tests, pipeline and deploy results to static reporting site\",\n",
    "    \"pipeline.github.runner_name\": \"Hosted Agent\",\n",
    "    \"pipeline.github.run_id\": \"2661518739\",\n",
    "    \"pipeline.github.actor\": \"matiasdahl\",\n",
    "    \"pipeline.github.job\": \"run-tests-pipeline-and-persist-pipeline-outputs\",\n",
    "    \"pipeline.github.base_ref\": \"\",\n",
    "    \"pipeline.github.head_ref\": \"\",\n",
    "    \"pipeline.github.sha\": \"147a1be9916173fd4d2cd011d8d51e3411215850\",\n",
    "    \"pipeline.github.ref\": \"refs/heads/development\",\n",
    "    \"pipeline.github.ref_type\": \"branch\",\n",
    "    \"pipeline.github.ref_name\": \"development\",\n",
    "    \"pipeline.github.event_name\": \"schedule\",\n",
    "    \"task.nr_train_images\": 1200,\n",
    "    \"task.notebook\": \"notebooks/train-model.py\",\n",
    "    \"task.max_nr_retries\": \"1\",\n",
    "    \"run.retry_nr\": \"0\",\n",
    "    \"task.timeout_s\": \"None\",\n",
    "    \"task.num_cpus\": 1,\n",
    "    \"_opentelemetry_traceparent\": \"00-5f05c8a8f596272cb475eba0e8c4eafa-bceb052346b6c6ca-01\",\n",
    "}\n"
   ]
  },
  {
   "cell_type": "code",
   "execution_count": 4,
   "id": "122aea2d",
   "metadata": {
    "execution": {
     "iopub.execute_input": "2022-07-13T06:51:00.343531Z",
     "iopub.status.busy": "2022-07-13T06:51:00.343304Z",
     "iopub.status.idle": "2022-07-13T06:51:00.347517Z",
     "shell.execute_reply": "2022-07-13T06:51:00.346266Z"
    },
    "lines_to_next_cell": 0,
    "papermill": {
     "duration": 0.00977,
     "end_time": "2022-07-13T06:51:00.349101",
     "exception": false,
     "start_time": "2022-07-13T06:51:00.339331",
     "status": "completed"
    },
    "tags": []
   },
   "outputs": [],
   "source": [
    "# -----------------------------------------------------------------------"
   ]
  },
  {
   "cell_type": "markdown",
   "id": "fbbc68b9",
   "metadata": {
    "papermill": {
     "duration": 0.003923,
     "end_time": "2022-07-13T06:51:00.356280",
     "exception": false,
     "start_time": "2022-07-13T06:51:00.352357",
     "status": "completed"
    },
    "tags": []
   },
   "source": [
    "---"
   ]
  },
  {
   "cell_type": "markdown",
   "id": "d16b161b",
   "metadata": {
    "lines_to_next_cell": 2,
    "papermill": {
     "duration": 0.003808,
     "end_time": "2022-07-13T06:51:00.364327",
     "exception": false,
     "start_time": "2022-07-13T06:51:00.360519",
     "status": "completed"
    },
    "tags": []
   },
   "source": [
    "### Notebook code"
   ]
  },
  {
   "cell_type": "code",
   "execution_count": 5,
   "id": "9bd737fa",
   "metadata": {
    "execution": {
     "iopub.execute_input": "2022-07-13T06:51:00.375120Z",
     "iopub.status.busy": "2022-07-13T06:51:00.374825Z",
     "iopub.status.idle": "2022-07-13T06:51:00.937316Z",
     "shell.execute_reply": "2022-07-13T06:51:00.935989Z"
    },
    "papermill": {
     "duration": 0.570382,
     "end_time": "2022-07-13T06:51:00.939826",
     "exception": false,
     "start_time": "2022-07-13T06:51:00.369444",
     "status": "completed"
    },
    "tags": []
   },
   "outputs": [
    {
     "name": "stderr",
     "output_type": "stream",
     "text": [
      "2022-07-13 06:51:00,756\tINFO worker.py:842 -- Connecting to existing Ray cluster at address: 172.17.0.2:6379\n"
     ]
    }
   ],
   "source": [
    "from pynb_dag_runner.tasks.task_opentelemetry_logging import PydarLogger\n",
    "\n",
    "logger = PydarLogger(P)"
   ]
  },
  {
   "cell_type": "markdown",
   "id": "0591000c",
   "metadata": {
    "papermill": {
     "duration": 0.004183,
     "end_time": "2022-07-13T06:51:00.948526",
     "exception": false,
     "start_time": "2022-07-13T06:51:00.944343",
     "status": "completed"
    },
    "tags": []
   },
   "source": [
    "## Load and limit train data"
   ]
  },
  {
   "cell_type": "code",
   "execution_count": 6,
   "id": "84c6f0a4",
   "metadata": {
    "execution": {
     "iopub.execute_input": "2022-07-13T06:51:00.959439Z",
     "iopub.status.busy": "2022-07-13T06:51:00.959137Z",
     "iopub.status.idle": "2022-07-13T06:51:01.430075Z",
     "shell.execute_reply": "2022-07-13T06:51:01.429249Z"
    },
    "papermill": {
     "duration": 0.4783,
     "end_time": "2022-07-13T06:51:01.432738",
     "exception": false,
     "start_time": "2022-07-13T06:51:00.954438",
     "status": "completed"
    },
    "tags": []
   },
   "outputs": [],
   "source": [
    "def load_and_limit_train_data(P):\n",
    "    from common.io import datalake_root, read_numpy\n",
    "    from sklearn.model_selection import train_test_split\n",
    "\n",
    "    X_train_all = read_numpy(datalake_root(P) / \"train-data\" / \"digits.numpy\")\n",
    "    y_train_all = read_numpy(datalake_root(P) / \"train-data\" / \"labels.numpy\")\n",
    "\n",
    "    assert isinstance(P[\"task.nr_train_images\"], int)\n",
    "\n",
    "    # Note: train_test_split will fail if split is 0 or 100%.\n",
    "    assert 0 < P[\"task.nr_train_images\"] < len(y_train_all)\n",
    "\n",
    "    X_train, _, y_train, _ = train_test_split(\n",
    "        X_train_all,\n",
    "        y_train_all,\n",
    "        train_size=P[\"task.nr_train_images\"],\n",
    "        test_size=None,\n",
    "        stratify=y_train_all,\n",
    "        shuffle=True,\n",
    "        random_state=123,\n",
    "    )\n",
    "\n",
    "    assert X_train.shape == (len(y_train), 8 * 8)\n",
    "    return X_train, y_train\n",
    "\n",
    "\n",
    "X_train, y_train = load_and_limit_train_data(P)"
   ]
  },
  {
   "cell_type": "markdown",
   "id": "21d99576",
   "metadata": {
    "papermill": {
     "duration": 0.003767,
     "end_time": "2022-07-13T06:51:01.443125",
     "exception": false,
     "start_time": "2022-07-13T06:51:01.439358",
     "status": "completed"
    },
    "tags": []
   },
   "source": [
    "## Train support vector classifier model\n",
    "\n",
    "Below we assume that the hyperparameter $C$ is known.\n",
    "\n",
    "However, this should ideally be found by a hyperparameter search. That could be\n",
    "done in parallel on the Ray cluster, but this needs some more work. Ie., to use\n",
    "multiple cores in the notebook, those cores should be reserved when starting the\n",
    "notebook task (TODO).\n",
    "\n",
    "- https://docs.ray.io/en/latest/tune/key-concepts.html\n",
    "\n",
    "Note: cv-scores would need to be computed here, since they depend on the train data.\n",
    "After this notebook only the onnx-model is available."
   ]
  },
  {
   "cell_type": "code",
   "execution_count": 7,
   "id": "884975ea",
   "metadata": {
    "execution": {
     "iopub.execute_input": "2022-07-13T06:51:01.452026Z",
     "iopub.status.busy": "2022-07-13T06:51:01.451662Z",
     "iopub.status.idle": "2022-07-13T06:51:01.478550Z",
     "shell.execute_reply": "2022-07-13T06:51:01.477872Z"
    },
    "papermill": {
     "duration": 0.033766,
     "end_time": "2022-07-13T06:51:01.480656",
     "exception": false,
     "start_time": "2022-07-13T06:51:01.446890",
     "status": "completed"
    },
    "tags": []
   },
   "outputs": [],
   "source": [
    "from sklearn.svm import SVC"
   ]
  },
  {
   "cell_type": "code",
   "execution_count": 8,
   "id": "aa1b6ecb",
   "metadata": {
    "execution": {
     "iopub.execute_input": "2022-07-13T06:51:01.489637Z",
     "iopub.status.busy": "2022-07-13T06:51:01.489105Z",
     "iopub.status.idle": "2022-07-13T06:51:01.695738Z",
     "shell.execute_reply": "2022-07-13T06:51:01.694834Z"
    },
    "papermill": {
     "duration": 0.213727,
     "end_time": "2022-07-13T06:51:01.697881",
     "exception": false,
     "start_time": "2022-07-13T06:51:01.484154",
     "status": "completed"
    },
    "tags": []
   },
   "outputs": [
    {
     "data": {
      "text/plain": [
       "SVC(C=0.001, kernel='linear', probability=True)"
      ]
     },
     "execution_count": 8,
     "metadata": {},
     "output_type": "execute_result"
    }
   ],
   "source": [
    "model = SVC(C=0.001, kernel=\"linear\", probability=True)\n",
    "\n",
    "model.fit(X_train, y_train)"
   ]
  },
  {
   "cell_type": "markdown",
   "id": "0da26139",
   "metadata": {
    "papermill": {
     "duration": 0.003679,
     "end_time": "2022-07-13T06:51:01.706123",
     "exception": false,
     "start_time": "2022-07-13T06:51:01.702444",
     "status": "completed"
    },
    "tags": []
   },
   "source": [
    "### Q: Can the labels returned by `predict(..)` be computed from probabilities returned by the `predict_prob`-method?"
   ]
  },
  {
   "cell_type": "code",
   "execution_count": 9,
   "id": "74304e38",
   "metadata": {
    "execution": {
     "iopub.execute_input": "2022-07-13T06:51:01.714689Z",
     "iopub.status.busy": "2022-07-13T06:51:01.714399Z",
     "iopub.status.idle": "2022-07-13T06:51:01.811880Z",
     "shell.execute_reply": "2022-07-13T06:51:01.810823Z"
    },
    "papermill": {
     "duration": 0.104248,
     "end_time": "2022-07-13T06:51:01.813964",
     "exception": false,
     "start_time": "2022-07-13T06:51:01.709716",
     "status": "completed"
    },
    "tags": []
   },
   "outputs": [
    {
     "name": "stdout",
     "output_type": "stream",
     "text": [
      " - Logging nr_max_prob_neq_label (int) : 5\n"
     ]
    }
   ],
   "source": [
    "import numpy as np\n",
    "\n",
    "y_train_labels = model.predict(X_train)\n",
    "y_train_probabilities = model.predict_proba(X_train)\n",
    "assert y_train_probabilities.shape == (len(y_train), 10)\n",
    "\n",
    "y_train_max_prob_labels = np.argmax(y_train_probabilities, axis=1)\n",
    "assert y_train_labels.shape == y_train_max_prob_labels.shape == y_train.shape\n",
    "\n",
    "# If the predicted labels would coincide with the labels that have\n",
    "# maximum probability, the below number would be zero\n",
    "logger.log_int(\n",
    "    \"nr_max_prob_neq_label\", int(sum(y_train_max_prob_labels != y_train_labels))\n",
    ")"
   ]
  },
  {
   "cell_type": "markdown",
   "id": "080927cd",
   "metadata": {
    "papermill": {
     "duration": 0.004269,
     "end_time": "2022-07-13T06:51:01.822038",
     "exception": false,
     "start_time": "2022-07-13T06:51:01.817769",
     "status": "completed"
    },
    "tags": []
   },
   "source": [
    "The explanation is (likely) explained in the SVC source, see\n",
    "[here](https://github.com/scikit-learn/scikit-learn/blob/main/sklearn/svm/_base.py).\n",
    "Namely, the outputs from `predict(..)` and `predict_proba(..)` may not in some\n",
    "cases be compatible since the latter is computed using cross-validation while\n",
    "the former is not. Thus, the above number need not be zero."
   ]
  },
  {
   "cell_type": "markdown",
   "id": "a0cde412",
   "metadata": {
    "papermill": {
     "duration": 0.004135,
     "end_time": "2022-07-13T06:51:01.829926",
     "exception": false,
     "start_time": "2022-07-13T06:51:01.825791",
     "status": "completed"
    },
    "tags": []
   },
   "source": [
    "## Persist model"
   ]
  },
  {
   "cell_type": "code",
   "execution_count": 10,
   "id": "52638b4c",
   "metadata": {
    "execution": {
     "iopub.execute_input": "2022-07-13T06:51:01.840547Z",
     "iopub.status.busy": "2022-07-13T06:51:01.840207Z",
     "iopub.status.idle": "2022-07-13T06:51:02.774798Z",
     "shell.execute_reply": "2022-07-13T06:51:02.773752Z"
    },
    "papermill": {
     "duration": 0.942752,
     "end_time": "2022-07-13T06:51:02.776823",
     "exception": false,
     "start_time": "2022-07-13T06:51:01.834071",
     "status": "completed"
    },
    "tags": []
   },
   "outputs": [],
   "source": [
    "from skl2onnx import convert_sklearn\n",
    "from skl2onnx.common.data_types import FloatTensorType\n",
    "\n",
    "#\n",
    "from common.io import datalake_root, write_onnx"
   ]
  },
  {
   "cell_type": "code",
   "execution_count": 11,
   "id": "40200cb7",
   "metadata": {
    "execution": {
     "iopub.execute_input": "2022-07-13T06:51:02.787557Z",
     "iopub.status.busy": "2022-07-13T06:51:02.786899Z",
     "iopub.status.idle": "2022-07-13T06:51:02.859713Z",
     "shell.execute_reply": "2022-07-13T06:51:02.858750Z"
    },
    "papermill": {
     "duration": 0.08102,
     "end_time": "2022-07-13T06:51:02.862796",
     "exception": false,
     "start_time": "2022-07-13T06:51:02.781776",
     "status": "completed"
    },
    "tags": []
   },
   "outputs": [],
   "source": [
    "# convert sklearn model into onnx and persist to data lake\n",
    "\n",
    "model_onnx = convert_sklearn(\n",
    "    model, initial_types=[(\"float_input_8x8_image\", FloatTensorType([None, 8 * 8]))]\n",
    ")\n",
    "write_onnx(\n",
    "    datalake_root(P)\n",
    "    / \"models\"\n",
    "    / f\"nr_train_images={P['task.nr_train_images']}\"\n",
    "    / \"model.onnx\",\n",
    "    model_onnx,\n",
    ")"
   ]
  },
  {
   "cell_type": "code",
   "execution_count": null,
   "id": "37efacea",
   "metadata": {
    "papermill": {
     "duration": 0.004731,
     "end_time": "2022-07-13T06:51:02.872099",
     "exception": false,
     "start_time": "2022-07-13T06:51:02.867368",
     "status": "completed"
    },
    "tags": []
   },
   "outputs": [],
   "source": []
  }
 ],
 "metadata": {
  "jupytext": {
   "cell_metadata_filter": "tags,-all",
   "main_language": "python",
   "notebook_metadata_filter": "-all"
  },
  "language_info": {
   "codemirror_mode": {
    "name": "ipython",
    "version": 3
   },
   "file_extension": ".py",
   "mimetype": "text/x-python",
   "name": "python",
   "nbconvert_exporter": "python",
   "pygments_lexer": "ipython3",
   "version": "3.8.10"
  },
  "papermill": {
   "default_parameters": {},
   "duration": 5.04757,
   "end_time": "2022-07-13T06:51:03.901074",
   "environment_variables": {},
   "exception": null,
   "input_path": "/home/host_user/workspace/mnist-demo-pipeline/mnist-demo-pipeline/notebooks/temp-notebook-eo5c0_wi.ipynb",
   "output_path": "notebooks/train-model.ipynb",
   "parameters": {
    "P": {
     "_opentelemetry_traceparent": "00-5f05c8a8f596272cb475eba0e8c4eafa-bceb052346b6c6ca-01",
     "pipeline.data_lake_root": "/pipeline-outputs/data-lake",
     "pipeline.github.actor": "matiasdahl",
     "pipeline.github.base_ref": "",
     "pipeline.github.event_name": "schedule",
     "pipeline.github.head_ref": "",
     "pipeline.github.job": "run-tests-pipeline-and-persist-pipeline-outputs",
     "pipeline.github.ref": "refs/heads/development",
     "pipeline.github.ref_name": "development",
     "pipeline.github.ref_type": "branch",
     "pipeline.github.repository": "pynb-dag-runner/mnist-digits-demo-pipeline",
     "pipeline.github.run_id": "2661518739",
     "pipeline.github.runner_name": "Hosted Agent",
     "pipeline.github.sha": "147a1be9916173fd4d2cd011d8d51e3411215850",
     "pipeline.github.workflow": "Run automated tests, pipeline and deploy results to static reporting site",
     "pipeline.pipeline_run_id": "b793658f-ac86-45f8-897e-51ff5314ae09",
     "pipeline.run_environment": "ci",
     "run.retry_nr": "0",
     "task.max_nr_retries": "1",
     "task.notebook": "notebooks/train-model.py",
     "task.nr_train_images": 1200,
     "task.num_cpus": 1,
     "task.timeout_s": "None"
    }
   },
   "start_time": "2022-07-13T06:50:58.853504",
   "version": "2.3.3"
  }
 },
 "nbformat": 4,
 "nbformat_minor": 5
}