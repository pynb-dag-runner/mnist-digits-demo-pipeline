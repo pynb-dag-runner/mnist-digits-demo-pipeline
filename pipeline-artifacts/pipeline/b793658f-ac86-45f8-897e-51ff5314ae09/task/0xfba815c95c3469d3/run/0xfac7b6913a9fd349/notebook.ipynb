{
 "cells": [
  {
   "cell_type": "markdown",
   "id": "003dba4f",
   "metadata": {
    "papermill": {
     "duration": 0.007417,
     "end_time": "2022-07-13T06:51:22.419542",
     "exception": false,
     "start_time": "2022-07-13T06:51:22.412125",
     "status": "completed"
    },
    "tags": []
   },
   "source": [
    "# Benchmark model\n",
    "\n",
    "The purpose of this notebook is to benchmark persisted onnx-model (trained in the\n",
    "previous step) against evaluation set."
   ]
  },
  {
   "cell_type": "markdown",
   "id": "e72c25db",
   "metadata": {
    "papermill": {
     "duration": 0.005494,
     "end_time": "2022-07-13T06:51:22.432494",
     "exception": false,
     "start_time": "2022-07-13T06:51:22.427000",
     "status": "completed"
    },
    "tags": []
   },
   "source": [
    "### Determine run parameters"
   ]
  },
  {
   "cell_type": "code",
   "execution_count": 1,
   "id": "6a8aafdf",
   "metadata": {
    "execution": {
     "iopub.execute_input": "2022-07-13T06:51:22.445142Z",
     "iopub.status.busy": "2022-07-13T06:51:22.444740Z",
     "iopub.status.idle": "2022-07-13T06:51:22.453046Z",
     "shell.execute_reply": "2022-07-13T06:51:22.452343Z"
    },
    "lines_to_next_cell": 0,
    "papermill": {
     "duration": 0.016682,
     "end_time": "2022-07-13T06:51:22.455139",
     "exception": false,
     "start_time": "2022-07-13T06:51:22.438457",
     "status": "completed"
    },
    "tags": []
   },
   "outputs": [],
   "source": [
    "# ----------------- Parameters for interactive development --------------\n",
    "P = {\n",
    "    \"pipeline.data_lake_root\": \"/pipeline-outputs/data-lake\",\n",
    "    \"task.nr_train_images\": 600,\n",
    "}"
   ]
  },
  {
   "cell_type": "code",
   "execution_count": 2,
   "id": "b850f63b",
   "metadata": {
    "execution": {
     "iopub.execute_input": "2022-07-13T06:51:22.466448Z",
     "iopub.status.busy": "2022-07-13T06:51:22.466154Z",
     "iopub.status.idle": "2022-07-13T06:51:22.469925Z",
     "shell.execute_reply": "2022-07-13T06:51:22.469250Z"
    },
    "lines_to_next_cell": 0,
    "papermill": {
     "duration": 0.013053,
     "end_time": "2022-07-13T06:51:22.473514",
     "exception": false,
     "start_time": "2022-07-13T06:51:22.460461",
     "status": "completed"
    },
    "tags": [
     "parameters"
    ]
   },
   "outputs": [],
   "source": [
    "# - During automated runs parameters will be injected in the below cell -"
   ]
  },
  {
   "cell_type": "code",
   "execution_count": 3,
   "id": "17795b5b",
   "metadata": {
    "execution": {
     "iopub.execute_input": "2022-07-13T06:51:22.496640Z",
     "iopub.status.busy": "2022-07-13T06:51:22.496345Z",
     "iopub.status.idle": "2022-07-13T06:51:22.501670Z",
     "shell.execute_reply": "2022-07-13T06:51:22.501083Z"
    },
    "papermill": {
     "duration": 0.022233,
     "end_time": "2022-07-13T06:51:22.505267",
     "exception": false,
     "start_time": "2022-07-13T06:51:22.483034",
     "status": "completed"
    },
    "tags": [
     "injected-parameters"
    ]
   },
   "outputs": [],
   "source": [
    "# Parameters\n",
    "P = {\n",
    "    \"pipeline.data_lake_root\": \"/pipeline-outputs/data-lake\",\n",
    "    \"pipeline.run_environment\": \"ci\",\n",
    "    \"pipeline.pipeline_run_id\": \"b793658f-ac86-45f8-897e-51ff5314ae09\",\n",
    "    \"pipeline.github.repository\": \"pynb-dag-runner/mnist-digits-demo-pipeline\",\n",
    "    \"pipeline.github.workflow\": \"Run automated tests, pipeline and deploy results to static reporting site\",\n",
    "    \"pipeline.github.runner_name\": \"Hosted Agent\",\n",
    "    \"pipeline.github.run_id\": \"2661518739\",\n",
    "    \"pipeline.github.actor\": \"matiasdahl\",\n",
    "    \"pipeline.github.job\": \"run-tests-pipeline-and-persist-pipeline-outputs\",\n",
    "    \"pipeline.github.base_ref\": \"\",\n",
    "    \"pipeline.github.head_ref\": \"\",\n",
    "    \"pipeline.github.sha\": \"147a1be9916173fd4d2cd011d8d51e3411215850\",\n",
    "    \"pipeline.github.ref\": \"refs/heads/development\",\n",
    "    \"pipeline.github.ref_type\": \"branch\",\n",
    "    \"pipeline.github.ref_name\": \"development\",\n",
    "    \"pipeline.github.event_name\": \"schedule\",\n",
    "    \"task.nr_train_images\": 1200,\n",
    "    \"task.notebook\": \"notebooks/benchmark-model.py\",\n",
    "    \"task.max_nr_retries\": \"1\",\n",
    "    \"run.retry_nr\": \"0\",\n",
    "    \"task.timeout_s\": \"None\",\n",
    "    \"task.num_cpus\": 1,\n",
    "    \"_opentelemetry_traceparent\": \"00-5f05c8a8f596272cb475eba0e8c4eafa-9f7e6ce4437ea75e-01\",\n",
    "}\n"
   ]
  },
  {
   "cell_type": "code",
   "execution_count": 4,
   "id": "3d638981",
   "metadata": {
    "execution": {
     "iopub.execute_input": "2022-07-13T06:51:22.517014Z",
     "iopub.status.busy": "2022-07-13T06:51:22.516777Z",
     "iopub.status.idle": "2022-07-13T06:51:22.520235Z",
     "shell.execute_reply": "2022-07-13T06:51:22.519176Z"
    },
    "lines_to_next_cell": 0,
    "papermill": {
     "duration": 0.013833,
     "end_time": "2022-07-13T06:51:22.523612",
     "exception": false,
     "start_time": "2022-07-13T06:51:22.509779",
     "status": "completed"
    },
    "tags": []
   },
   "outputs": [],
   "source": [
    "# -----------------------------------------------------------------------"
   ]
  },
  {
   "cell_type": "markdown",
   "id": "dc9fc8bc",
   "metadata": {
    "papermill": {
     "duration": 0.005493,
     "end_time": "2022-07-13T06:51:22.533689",
     "exception": false,
     "start_time": "2022-07-13T06:51:22.528196",
     "status": "completed"
    },
    "tags": []
   },
   "source": [
    "---"
   ]
  },
  {
   "cell_type": "markdown",
   "id": "ff6331a8",
   "metadata": {
    "lines_to_next_cell": 2,
    "papermill": {
     "duration": 0.006209,
     "end_time": "2022-07-13T06:51:22.544355",
     "exception": false,
     "start_time": "2022-07-13T06:51:22.538146",
     "status": "completed"
    },
    "tags": []
   },
   "source": [
    "### Notebook code"
   ]
  },
  {
   "cell_type": "code",
   "execution_count": 5,
   "id": "5b3165bb",
   "metadata": {
    "execution": {
     "iopub.execute_input": "2022-07-13T06:51:22.555493Z",
     "iopub.status.busy": "2022-07-13T06:51:22.555135Z",
     "iopub.status.idle": "2022-07-13T06:51:23.912152Z",
     "shell.execute_reply": "2022-07-13T06:51:23.911089Z"
    },
    "papermill": {
     "duration": 1.365983,
     "end_time": "2022-07-13T06:51:23.915025",
     "exception": false,
     "start_time": "2022-07-13T06:51:22.549042",
     "status": "completed"
    },
    "tags": []
   },
   "outputs": [
    {
     "name": "stderr",
     "output_type": "stream",
     "text": [
      "2022-07-13 06:51:23,710\tINFO worker.py:842 -- Connecting to existing Ray cluster at address: 172.17.0.2:6379\n"
     ]
    }
   ],
   "source": [
    "import itertools as it\n",
    "\n",
    "#\n",
    "import numpy as np\n",
    "import matplotlib.pyplot as plt\n",
    "\n",
    "#\n",
    "from pynb_dag_runner.tasks.task_opentelemetry_logging import PydarLogger\n",
    "\n",
    "#\n",
    "from common.io import datalake_root\n",
    "\n",
    "logger = PydarLogger(P)"
   ]
  },
  {
   "cell_type": "markdown",
   "id": "9f29fb54",
   "metadata": {
    "papermill": {
     "duration": 0.007142,
     "end_time": "2022-07-13T06:51:23.931314",
     "exception": false,
     "start_time": "2022-07-13T06:51:23.924172",
     "status": "completed"
    },
    "tags": []
   },
   "source": [
    "## Load persisted onnx-model and evaluation data"
   ]
  },
  {
   "cell_type": "code",
   "execution_count": 6,
   "id": "51c4b8fb",
   "metadata": {
    "execution": {
     "iopub.execute_input": "2022-07-13T06:51:23.945400Z",
     "iopub.status.busy": "2022-07-13T06:51:23.945069Z",
     "iopub.status.idle": "2022-07-13T06:51:23.949900Z",
     "shell.execute_reply": "2022-07-13T06:51:23.948927Z"
    },
    "papermill": {
     "duration": 0.014859,
     "end_time": "2022-07-13T06:51:23.952905",
     "exception": false,
     "start_time": "2022-07-13T06:51:23.938046",
     "status": "completed"
    },
    "tags": []
   },
   "outputs": [],
   "source": [
    "from common.io import read_onnx, get_onnx_inputs, get_onnx_outputs, read_numpy"
   ]
  },
  {
   "cell_type": "code",
   "execution_count": 7,
   "id": "ea4f5607",
   "metadata": {
    "execution": {
     "iopub.execute_input": "2022-07-13T06:51:23.966487Z",
     "iopub.status.busy": "2022-07-13T06:51:23.966086Z",
     "iopub.status.idle": "2022-07-13T06:51:23.981124Z",
     "shell.execute_reply": "2022-07-13T06:51:23.979862Z"
    },
    "lines_to_next_cell": 0,
    "papermill": {
     "duration": 0.022884,
     "end_time": "2022-07-13T06:51:23.983156",
     "exception": false,
     "start_time": "2022-07-13T06:51:23.960272",
     "status": "completed"
    },
    "tags": []
   },
   "outputs": [],
   "source": [
    "onnx_inference_session = read_onnx(\n",
    "    datalake_root(P)\n",
    "    / \"models\"\n",
    "    / f\"nr_train_images={P['task.nr_train_images']}\"\n",
    "    / \"model.onnx\"\n",
    ")"
   ]
  },
  {
   "cell_type": "markdown",
   "id": "c0352a88",
   "metadata": {
    "papermill": {
     "duration": 0.005145,
     "end_time": "2022-07-13T06:51:23.993808",
     "exception": false,
     "start_time": "2022-07-13T06:51:23.988663",
     "status": "completed"
    },
    "tags": []
   },
   "source": [
    "### Record structure of inputs and outputs for ONNX model\n",
    "\n",
    "(this should likely be done in training notebook)"
   ]
  },
  {
   "cell_type": "code",
   "execution_count": 8,
   "id": "30d3fa09",
   "metadata": {
    "execution": {
     "iopub.execute_input": "2022-07-13T06:51:24.006274Z",
     "iopub.status.busy": "2022-07-13T06:51:24.005971Z",
     "iopub.status.idle": "2022-07-13T06:51:24.013293Z",
     "shell.execute_reply": "2022-07-13T06:51:24.012696Z"
    },
    "papermill": {
     "duration": 0.017522,
     "end_time": "2022-07-13T06:51:24.017041",
     "exception": false,
     "start_time": "2022-07-13T06:51:23.999519",
     "status": "completed"
    },
    "tags": []
   },
   "outputs": [
    {
     "name": "stdout",
     "output_type": "stream",
     "text": [
      "{\n",
      "  \"inputs\": [\n",
      "    {\n",
      "      \"name\": \"float_input_8x8_image\",\n",
      "      \"shape\": [\n",
      "        null,\n",
      "        64\n",
      "      ],\n",
      "      \"type\": \"tensor(float)\"\n",
      "    }\n",
      "  ],\n",
      "  \"outputs\": [\n",
      "    {\n",
      "      \"name\": \"output_label\",\n",
      "      \"shape\": [\n",
      "        null\n",
      "      ],\n",
      "      \"type\": \"tensor(int64)\"\n",
      "    },\n",
      "    {\n",
      "      \"name\": \"output_probability\",\n",
      "      \"shape\": [],\n",
      "      \"type\": \"seq(map(int64,tensor(float)))\"\n",
      "    }\n",
      "  ]\n",
      "}\n"
     ]
    }
   ],
   "source": [
    "import json\n",
    "\n",
    "onnx_io = json.dumps(\n",
    "    {\n",
    "        \"inputs\": get_onnx_inputs(onnx_inference_session),\n",
    "        \"outputs\": get_onnx_outputs(onnx_inference_session),\n",
    "    },\n",
    "    indent=2,\n",
    ")\n",
    "\n",
    "\n",
    "logger.log_artefact(\"onnx_io_structure.json\", onnx_io)\n",
    "print(onnx_io)"
   ]
  },
  {
   "cell_type": "markdown",
   "id": "42b02489",
   "metadata": {
    "papermill": {
     "duration": 0.010325,
     "end_time": "2022-07-13T06:51:24.033111",
     "exception": false,
     "start_time": "2022-07-13T06:51:24.022786",
     "status": "completed"
    },
    "tags": []
   },
   "source": [
    "### Evaluate model performance on evaluation data set"
   ]
  },
  {
   "cell_type": "code",
   "execution_count": 9,
   "id": "b88a7b36",
   "metadata": {
    "execution": {
     "iopub.execute_input": "2022-07-13T06:51:24.045473Z",
     "iopub.status.busy": "2022-07-13T06:51:24.045016Z",
     "iopub.status.idle": "2022-07-13T06:51:24.050998Z",
     "shell.execute_reply": "2022-07-13T06:51:24.049853Z"
    },
    "papermill": {
     "duration": 0.015927,
     "end_time": "2022-07-13T06:51:24.053712",
     "exception": false,
     "start_time": "2022-07-13T06:51:24.037785",
     "status": "completed"
    },
    "tags": []
   },
   "outputs": [],
   "source": [
    "# load evaluation data\n",
    "X_test = read_numpy(datalake_root(P) / \"test-data\" / \"digits.numpy\")\n",
    "y_test = read_numpy(datalake_root(P) / \"test-data\" / \"labels.numpy\")"
   ]
  },
  {
   "cell_type": "code",
   "execution_count": 10,
   "id": "a1060805",
   "metadata": {
    "execution": {
     "iopub.execute_input": "2022-07-13T06:51:24.067921Z",
     "iopub.status.busy": "2022-07-13T06:51:24.067454Z",
     "iopub.status.idle": "2022-07-13T06:51:24.086515Z",
     "shell.execute_reply": "2022-07-13T06:51:24.085281Z"
    },
    "papermill": {
     "duration": 0.029817,
     "end_time": "2022-07-13T06:51:24.088395",
     "exception": false,
     "start_time": "2022-07-13T06:51:24.058578",
     "status": "completed"
    },
    "tags": []
   },
   "outputs": [],
   "source": [
    "def get_model_outputs(X, onnx_inference_session):\n",
    "    y_pred_labels, y_pred_map = onnx_inference_session.run(\n",
    "        [\"output_label\", \"output_probability\"],\n",
    "        {\"float_input_8x8_image\": X.astype(np.float32)},\n",
    "    )\n",
    "    y_pred_probs = np.array(\n",
    "        [[probabilities[digit] for digit in range(10)] for probabilities in y_pred_map]\n",
    "    )\n",
    "\n",
    "    assert y_pred_labels.shape == (X.shape[0],)\n",
    "    assert y_pred_probs.shape == (X.shape[0], 10)\n",
    "\n",
    "    return y_pred_labels, y_pred_probs\n",
    "\n",
    "\n",
    "# Note: as shown in the training notebook, the predicted labels and probabilities\n",
    "# computed below need not be compatible.\n",
    "y_pred_labels_test, y_pred_probs_test = get_model_outputs(\n",
    "    X_test, onnx_inference_session\n",
    ")"
   ]
  },
  {
   "cell_type": "markdown",
   "id": "a5b395e4",
   "metadata": {
    "papermill": {
     "duration": 0.006109,
     "end_time": "2022-07-13T06:51:24.101316",
     "exception": false,
     "start_time": "2022-07-13T06:51:24.095207",
     "status": "completed"
    },
    "tags": []
   },
   "source": [
    "### Confusion matrix"
   ]
  },
  {
   "cell_type": "code",
   "execution_count": 11,
   "id": "f46cf387",
   "metadata": {
    "execution": {
     "iopub.execute_input": "2022-07-13T06:51:24.115595Z",
     "iopub.status.busy": "2022-07-13T06:51:24.115135Z",
     "iopub.status.idle": "2022-07-13T06:51:24.119482Z",
     "shell.execute_reply": "2022-07-13T06:51:24.118395Z"
    },
    "papermill": {
     "duration": 0.015756,
     "end_time": "2022-07-13T06:51:24.122750",
     "exception": false,
     "start_time": "2022-07-13T06:51:24.106994",
     "status": "completed"
    },
    "tags": []
   },
   "outputs": [],
   "source": [
    "# TODO"
   ]
  },
  {
   "cell_type": "markdown",
   "id": "d5daff8f",
   "metadata": {
    "papermill": {
     "duration": 0.005606,
     "end_time": "2022-07-13T06:51:24.139947",
     "exception": false,
     "start_time": "2022-07-13T06:51:24.134341",
     "status": "completed"
    },
    "tags": []
   },
   "source": [
    "### Plot predicted probabilities for each classifier over all evaluation digit images"
   ]
  },
  {
   "cell_type": "code",
   "execution_count": 12,
   "id": "a4d15019",
   "metadata": {
    "execution": {
     "iopub.execute_input": "2022-07-13T06:51:24.154194Z",
     "iopub.status.busy": "2022-07-13T06:51:24.153685Z",
     "iopub.status.idle": "2022-07-13T06:51:29.647497Z",
     "shell.execute_reply": "2022-07-13T06:51:29.646547Z"
    },
    "papermill": {
     "duration": 5.50311,
     "end_time": "2022-07-13T06:51:29.649722",
     "exception": false,
     "start_time": "2022-07-13T06:51:24.146612",
     "status": "completed"
    },
    "tags": []
   },
   "outputs": [
    {
     "data": {
      "image/png": "[encoded data removed]",
      "text/plain": [
       "<Figure size 1152x432 with 10 Axes>"
      ]
     },
     "metadata": {
      "needs_background": "light"
     },
     "output_type": "display_data"
    }
   ],
   "source": [
    "def plot_per_digit_probabilities(y_pred_probs):\n",
    "    fig, axs = plt.subplots(nrows=2, ncols=5, figsize=(16, 6))\n",
    "\n",
    "    for (r, c), digit, ax in zip(\n",
    "        it.product(range(2), range(5)), range(10), axs.reshape(-1)\n",
    "    ):\n",
    "        ax.hist(y_pred_probs_test[:, digit], bins=20)\n",
    "\n",
    "        ax.set_title(f\"Digit {digit}\")\n",
    "        if r == 1 and c == 2:\n",
    "            ax.set_xlabel(\"probability\", fontsize=16)\n",
    "\n",
    "        if c == 0:\n",
    "            ax.set_ylabel(\"counts\", fontsize=16)\n",
    "        ax.set_yscale(\"log\")\n",
    "\n",
    "    fig.tight_layout()\n",
    "    fig.suptitle(\n",
    "        f\"Distributions of prediction probabilities for each digit \"\n",
    "        f\"(on evaluation data, n={y_pred_probs.shape[0]})\",\n",
    "        fontsize=20,\n",
    "    )\n",
    "    fig.tight_layout()\n",
    "    fig.show()\n",
    "\n",
    "    return fig\n",
    "\n",
    "\n",
    "fig = plot_per_digit_probabilities(y_pred_probs_test)"
   ]
  },
  {
   "cell_type": "markdown",
   "id": "58c72caa",
   "metadata": {
    "papermill": {
     "duration": 0.00627,
     "end_time": "2022-07-13T06:51:29.662085",
     "exception": false,
     "start_time": "2022-07-13T06:51:29.655815",
     "status": "completed"
    },
    "tags": []
   },
   "source": [
    "From the above distributions we see that most digits have clear separation between\n",
    "high and lower probabilities. Morover, in each case there is roughly an order of\n",
    "magnitude more of digits with low probabilities. This is compatible with digits\n",
    "being roughly evenly distributed in the data."
   ]
  },
  {
   "cell_type": "code",
   "execution_count": 13,
   "id": "ac5a9a0c",
   "metadata": {
    "execution": {
     "iopub.execute_input": "2022-07-13T06:51:29.676108Z",
     "iopub.status.busy": "2022-07-13T06:51:29.675455Z",
     "iopub.status.idle": "2022-07-13T06:51:30.369594Z",
     "shell.execute_reply": "2022-07-13T06:51:30.368561Z"
    },
    "papermill": {
     "duration": 0.703547,
     "end_time": "2022-07-13T06:51:30.371941",
     "exception": false,
     "start_time": "2022-07-13T06:51:29.668394",
     "status": "completed"
    },
    "tags": []
   },
   "outputs": [],
   "source": [
    "logger.log_figure(\"per-digit-probabilities.png\", fig)"
   ]
  },
  {
   "cell_type": "markdown",
   "id": "07673334",
   "metadata": {
    "papermill": {
     "duration": 0.006809,
     "end_time": "2022-07-13T06:51:30.384558",
     "exception": false,
     "start_time": "2022-07-13T06:51:30.377749",
     "status": "completed"
    },
    "tags": []
   },
   "source": [
    "### Plot ROC curves for individual one-vs-rest classifiers"
   ]
  },
  {
   "cell_type": "code",
   "execution_count": 14,
   "id": "2595f652",
   "metadata": {
    "execution": {
     "iopub.execute_input": "2022-07-13T06:51:30.400499Z",
     "iopub.status.busy": "2022-07-13T06:51:30.400215Z",
     "iopub.status.idle": "2022-07-13T06:51:30.849970Z",
     "shell.execute_reply": "2022-07-13T06:51:30.848708Z"
    },
    "papermill": {
     "duration": 0.461246,
     "end_time": "2022-07-13T06:51:30.852293",
     "exception": false,
     "start_time": "2022-07-13T06:51:30.391047",
     "status": "completed"
    },
    "tags": []
   },
   "outputs": [],
   "source": [
    "from sklearn import metrics"
   ]
  },
  {
   "cell_type": "code",
   "execution_count": 15,
   "id": "549e90b1",
   "metadata": {
    "execution": {
     "iopub.execute_input": "2022-07-13T06:51:30.865471Z",
     "iopub.status.busy": "2022-07-13T06:51:30.865099Z",
     "iopub.status.idle": "2022-07-13T06:51:32.567499Z",
     "shell.execute_reply": "2022-07-13T06:51:32.566339Z"
    },
    "papermill": {
     "duration": 1.711857,
     "end_time": "2022-07-13T06:51:32.570104",
     "exception": false,
     "start_time": "2022-07-13T06:51:30.858247",
     "status": "completed"
    },
    "tags": []
   },
   "outputs": [
    {
     "data": {
      "image/png": "[encoded data removed]",
      "text/plain": [
       "<Figure size 1152x576 with 10 Axes>"
      ]
     },
     "metadata": {
      "needs_background": "light"
     },
     "output_type": "display_data"
    }
   ],
   "source": [
    "def plot_roc_curves(y, y_pred_probs):\n",
    "    # based on example code\n",
    "    # https://scikit-learn.org/stable/auto_examples/model_selection/plot_roc.html\n",
    "\n",
    "    fig, axs = plt.subplots(nrows=2, ncols=5, figsize=(16, 8))\n",
    "\n",
    "    roc_auc_dict = {}\n",
    "\n",
    "    for (r, c), digit, ax in zip(\n",
    "        it.product(range(2), range(5)), range(10), axs.reshape(-1)\n",
    "    ):\n",
    "        fpr, tpr, _ = metrics.roc_curve(y == digit, y_pred_probs[:, digit])\n",
    "        auc = metrics.auc(fpr, tpr)\n",
    "        roc_auc_dict[str(digit)] = auc\n",
    "\n",
    "        ax.plot(fpr, tpr, label=f\"ROC AUC={round(auc, 3)}\")\n",
    "\n",
    "        ax.set_title(f\"\\nDigit {digit}\", fontsize=16)\n",
    "        if r == 1:\n",
    "            ax.set_xlabel(\"FPR\", fontsize=18)\n",
    "\n",
    "        if c == 0:\n",
    "            ax.set_ylabel(\"TPR\", fontsize=18)\n",
    "\n",
    "        ax.set_xlim([-0.05, 1.05])\n",
    "        ax.set_ylim([-0.05, 1.05])\n",
    "        ax.legend(loc=\"lower right\", frameon=False, fontsize=14)\n",
    "\n",
    "    fig.tight_layout()\n",
    "    fig.suptitle(\n",
    "        f\"ROC plots for one-vs-rest performances \"\n",
    "        f\"(on evaluation data, n={y_pred_probs_test.shape[1]}\",\n",
    "        fontsize=22,\n",
    "    )\n",
    "    fig.tight_layout()\n",
    "    fig.show()\n",
    "\n",
    "    return roc_auc_dict, fig\n",
    "\n",
    "\n",
    "roc_auc_dict, fig = plot_roc_curves(y_test, y_pred_probs_test)"
   ]
  },
  {
   "cell_type": "code",
   "execution_count": 16,
   "id": "f6e67032",
   "metadata": {
    "execution": {
     "iopub.execute_input": "2022-07-13T06:51:32.584949Z",
     "iopub.status.busy": "2022-07-13T06:51:32.584448Z",
     "iopub.status.idle": "2022-07-13T06:51:32.898465Z",
     "shell.execute_reply": "2022-07-13T06:51:32.897523Z"
    },
    "papermill": {
     "duration": 0.323817,
     "end_time": "2022-07-13T06:51:32.900976",
     "exception": false,
     "start_time": "2022-07-13T06:51:32.577159",
     "status": "completed"
    },
    "tags": []
   },
   "outputs": [],
   "source": [
    "logger.log_figure(\"per-digit-roc-curves.png\", fig)"
   ]
  },
  {
   "cell_type": "code",
   "execution_count": 17,
   "id": "2d4e7d7f",
   "metadata": {
    "execution": {
     "iopub.execute_input": "2022-07-13T06:51:32.916368Z",
     "iopub.status.busy": "2022-07-13T06:51:32.915916Z",
     "iopub.status.idle": "2022-07-13T06:51:32.922878Z",
     "shell.execute_reply": "2022-07-13T06:51:32.921791Z"
    },
    "papermill": {
     "duration": 0.01699,
     "end_time": "2022-07-13T06:51:32.924605",
     "exception": false,
     "start_time": "2022-07-13T06:51:32.907615",
     "status": "completed"
    },
    "tags": []
   },
   "outputs": [
    {
     "data": {
      "text/plain": [
       "{'0': 1.0,\n",
       " '1': 0.9991002811621369,\n",
       " '2': 1.0,\n",
       " '3': 0.9998500468603562,\n",
       " '4': 0.9997713763145861,\n",
       " '5': 0.9996251171508904,\n",
       " '6': 0.999923792104862,\n",
       " '7': 0.9998475842097242,\n",
       " '8': 0.9958228247162673,\n",
       " '9': 0.9997713763145862}"
      ]
     },
     "execution_count": 17,
     "metadata": {},
     "output_type": "execute_result"
    }
   ],
   "source": [
    "roc_auc_dict"
   ]
  },
  {
   "cell_type": "code",
   "execution_count": 18,
   "id": "4bb6ccad",
   "metadata": {
    "execution": {
     "iopub.execute_input": "2022-07-13T06:51:32.939388Z",
     "iopub.status.busy": "2022-07-13T06:51:32.939118Z",
     "iopub.status.idle": "2022-07-13T06:51:32.944518Z",
     "shell.execute_reply": "2022-07-13T06:51:32.943364Z"
    },
    "papermill": {
     "duration": 0.015846,
     "end_time": "2022-07-13T06:51:32.947061",
     "exception": false,
     "start_time": "2022-07-13T06:51:32.931215",
     "status": "completed"
    },
    "tags": []
   },
   "outputs": [
    {
     "name": "stdout",
     "output_type": "stream",
     "text": [
      " - Logging roc_auc_per_digit (json) : {'0': 1.0, '1': 0.9991002811621369, '2': 1.0, '3': 0.9998500468603562, '4': 0.9997713763145861, '5': 0.9996251171508904, '6': 0.999923792104862, '7': 0.9998475842097242, '8': 0.9958228247162673, '9': 0.9997713763145862}\n"
     ]
    }
   ],
   "source": [
    "logger.log_value(\"roc_auc_per_digit\", roc_auc_dict)"
   ]
  },
  {
   "cell_type": "markdown",
   "id": "a792d8f4",
   "metadata": {
    "papermill": {
     "duration": 0.006453,
     "end_time": "2022-07-13T06:51:32.960406",
     "exception": false,
     "start_time": "2022-07-13T06:51:32.953953",
     "status": "completed"
    },
    "tags": []
   },
   "source": [
    "### Compute and log mean ROC AUC score averaged over all digits"
   ]
  },
  {
   "cell_type": "code",
   "execution_count": 19,
   "id": "a5d7f303",
   "metadata": {
    "execution": {
     "iopub.execute_input": "2022-07-13T06:51:32.974444Z",
     "iopub.status.busy": "2022-07-13T06:51:32.974006Z",
     "iopub.status.idle": "2022-07-13T06:51:32.991668Z",
     "shell.execute_reply": "2022-07-13T06:51:32.990451Z"
    },
    "papermill": {
     "duration": 0.027141,
     "end_time": "2022-07-13T06:51:32.993672",
     "exception": false,
     "start_time": "2022-07-13T06:51:32.966531",
     "status": "completed"
    },
    "tags": []
   },
   "outputs": [
    {
     "name": "stdout",
     "output_type": "stream",
     "text": [
      " - Logging roc_auc_class_mean (float) : 0.999371239883341\n"
     ]
    }
   ],
   "source": [
    "roc_auc_macro = np.mean(list(roc_auc_dict.values()))\n",
    "\n",
    "logger.log_float(\"roc_auc_class_mean\", roc_auc_macro)\n",
    "\n",
    "# assert that the same value can be computed directly using sklearn\n",
    "assert roc_auc_macro == metrics.roc_auc_score(\n",
    "    y_test, y_pred_probs_test, average=\"macro\", multi_class=\"ovr\"\n",
    ")"
   ]
  },
  {
   "cell_type": "code",
   "execution_count": 20,
   "id": "c526ea0b",
   "metadata": {
    "execution": {
     "iopub.execute_input": "2022-07-13T06:51:33.008795Z",
     "iopub.status.busy": "2022-07-13T06:51:33.008389Z",
     "iopub.status.idle": "2022-07-13T06:51:33.012366Z",
     "shell.execute_reply": "2022-07-13T06:51:33.011100Z"
    },
    "lines_to_next_cell": 0,
    "papermill": {
     "duration": 0.014357,
     "end_time": "2022-07-13T06:51:33.014201",
     "exception": false,
     "start_time": "2022-07-13T06:51:32.999844",
     "status": "completed"
    },
    "tags": []
   },
   "outputs": [],
   "source": [
    "# ---"
   ]
  },
  {
   "cell_type": "code",
   "execution_count": null,
   "id": "1ebfa115",
   "metadata": {
    "papermill": {
     "duration": 0.006151,
     "end_time": "2022-07-13T06:51:33.026536",
     "exception": false,
     "start_time": "2022-07-13T06:51:33.020385",
     "status": "completed"
    },
    "tags": []
   },
   "outputs": [],
   "source": []
  }
 ],
 "metadata": {
  "jupytext": {
   "cell_metadata_filter": "tags,-all",
   "main_language": "python",
   "notebook_metadata_filter": "-all"
  },
  "language_info": {
   "codemirror_mode": {
    "name": "ipython",
    "version": 3
   },
   "file_extension": ".py",
   "mimetype": "text/x-python",
   "name": "python",
   "nbconvert_exporter": "python",
   "pygments_lexer": "ipython3",
   "version": "3.8.10"
  },
  "papermill": {
   "default_parameters": {},
   "duration": 13.152875,
   "end_time": "2022-07-13T06:51:34.053701",
   "environment_variables": {},
   "exception": null,
   "input_path": "/home/host_user/workspace/mnist-demo-pipeline/mnist-demo-pipeline/notebooks/temp-notebook-sj82tmy1.ipynb",
   "output_path": "notebooks/benchmark-model.ipynb",
   "parameters": {
    "P": {
     "_opentelemetry_traceparent": "00-5f05c8a8f596272cb475eba0e8c4eafa-9f7e6ce4437ea75e-01",
     "pipeline.data_lake_root": "/pipeline-outputs/data-lake",
     "pipeline.github.actor": "matiasdahl",
     "pipeline.github.base_ref": "",
     "pipeline.github.event_name": "schedule",
     "pipeline.github.head_ref": "",
     "pipeline.github.job": "run-tests-pipeline-and-persist-pipeline-outputs",
     "pipeline.github.ref": "refs/heads/development",
     "pipeline.github.ref_name": "development",
     "pipeline.github.ref_type": "branch",
     "pipeline.github.repository": "pynb-dag-runner/mnist-digits-demo-pipeline",
     "pipeline.github.run_id": "2661518739",
     "pipeline.github.runner_name": "Hosted Agent",
     "pipeline.github.sha": "147a1be9916173fd4d2cd011d8d51e3411215850",
     "pipeline.github.workflow": "Run automated tests, pipeline and deploy results to static reporting site",
     "pipeline.pipeline_run_id": "b793658f-ac86-45f8-897e-51ff5314ae09",
     "pipeline.run_environment": "ci",
     "run.retry_nr": "0",
     "task.max_nr_retries": "1",
     "task.notebook": "notebooks/benchmark-model.py",
     "task.nr_train_images": 1200,
     "task.num_cpus": 1,
     "task.timeout_s": "None"
    }
   },
   "start_time": "2022-07-13T06:51:20.900826",
   "version": "2.3.3"
  }
 },
 "nbformat": 4,
 "nbformat_minor": 5
}