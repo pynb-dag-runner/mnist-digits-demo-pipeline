{
 "cells": [
  {
   "cell_type": "markdown",
   "id": "e87c7749",
   "metadata": {
    "papermill": {
     "duration": 0.006325,
     "end_time": "2022-07-13T06:51:02.604308",
     "exception": false,
     "start_time": "2022-07-13T06:51:02.597983",
     "status": "completed"
    },
    "tags": []
   },
   "source": [
    "# Benchmark model\n",
    "\n",
    "The purpose of this notebook is to benchmark persisted onnx-model (trained in the\n",
    "previous step) against evaluation set."
   ]
  },
  {
   "cell_type": "markdown",
   "id": "9aea2251",
   "metadata": {
    "papermill": {
     "duration": 0.004839,
     "end_time": "2022-07-13T06:51:02.615013",
     "exception": false,
     "start_time": "2022-07-13T06:51:02.610174",
     "status": "completed"
    },
    "tags": []
   },
   "source": [
    "### Determine run parameters"
   ]
  },
  {
   "cell_type": "code",
   "execution_count": 1,
   "id": "ca8fd741",
   "metadata": {
    "execution": {
     "iopub.execute_input": "2022-07-13T06:51:02.626943Z",
     "iopub.status.busy": "2022-07-13T06:51:02.626521Z",
     "iopub.status.idle": "2022-07-13T06:51:02.635076Z",
     "shell.execute_reply": "2022-07-13T06:51:02.634315Z"
    },
    "lines_to_next_cell": 0,
    "papermill": {
     "duration": 0.017007,
     "end_time": "2022-07-13T06:51:02.637229",
     "exception": false,
     "start_time": "2022-07-13T06:51:02.620222",
     "status": "completed"
    },
    "tags": []
   },
   "outputs": [],
   "source": [
    "# ----------------- Parameters for interactive development --------------\n",
    "P = {\n",
    "    \"pipeline.data_lake_root\": \"/pipeline-outputs/data-lake\",\n",
    "    \"task.nr_train_images\": 600,\n",
    "}"
   ]
  },
  {
   "cell_type": "code",
   "execution_count": 2,
   "id": "c76d8ede",
   "metadata": {
    "execution": {
     "iopub.execute_input": "2022-07-13T06:51:02.652300Z",
     "iopub.status.busy": "2022-07-13T06:51:02.652030Z",
     "iopub.status.idle": "2022-07-13T06:51:02.655828Z",
     "shell.execute_reply": "2022-07-13T06:51:02.655203Z"
    },
    "lines_to_next_cell": 0,
    "papermill": {
     "duration": 0.018347,
     "end_time": "2022-07-13T06:51:02.660674",
     "exception": false,
     "start_time": "2022-07-13T06:51:02.642327",
     "status": "completed"
    },
    "tags": [
     "parameters"
    ]
   },
   "outputs": [],
   "source": [
    "# - During automated runs parameters will be injected in the below cell -"
   ]
  },
  {
   "cell_type": "code",
   "execution_count": 3,
   "id": "c068c408",
   "metadata": {
    "execution": {
     "iopub.execute_input": "2022-07-13T06:51:02.671563Z",
     "iopub.status.busy": "2022-07-13T06:51:02.671300Z",
     "iopub.status.idle": "2022-07-13T06:51:02.677158Z",
     "shell.execute_reply": "2022-07-13T06:51:02.676309Z"
    },
    "papermill": {
     "duration": 0.015147,
     "end_time": "2022-07-13T06:51:02.680673",
     "exception": false,
     "start_time": "2022-07-13T06:51:02.665526",
     "status": "completed"
    },
    "tags": [
     "injected-parameters"
    ]
   },
   "outputs": [],
   "source": [
    "# Parameters\n",
    "P = {\n",
    "    \"pipeline.data_lake_root\": \"/pipeline-outputs/data-lake\",\n",
    "    \"pipeline.run_environment\": \"ci\",\n",
    "    \"pipeline.pipeline_run_id\": \"b793658f-ac86-45f8-897e-51ff5314ae09\",\n",
    "    \"pipeline.github.repository\": \"pynb-dag-runner/mnist-digits-demo-pipeline\",\n",
    "    \"pipeline.github.workflow\": \"Run automated tests, pipeline and deploy results to static reporting site\",\n",
    "    \"pipeline.github.runner_name\": \"Hosted Agent\",\n",
    "    \"pipeline.github.run_id\": \"2661518739\",\n",
    "    \"pipeline.github.actor\": \"matiasdahl\",\n",
    "    \"pipeline.github.job\": \"run-tests-pipeline-and-persist-pipeline-outputs\",\n",
    "    \"pipeline.github.base_ref\": \"\",\n",
    "    \"pipeline.github.head_ref\": \"\",\n",
    "    \"pipeline.github.sha\": \"147a1be9916173fd4d2cd011d8d51e3411215850\",\n",
    "    \"pipeline.github.ref\": \"refs/heads/development\",\n",
    "    \"pipeline.github.ref_type\": \"branch\",\n",
    "    \"pipeline.github.ref_name\": \"development\",\n",
    "    \"pipeline.github.event_name\": \"schedule\",\n",
    "    \"task.nr_train_images\": 800,\n",
    "    \"task.notebook\": \"notebooks/benchmark-model.py\",\n",
    "    \"task.max_nr_retries\": \"1\",\n",
    "    \"run.retry_nr\": \"0\",\n",
    "    \"task.timeout_s\": \"None\",\n",
    "    \"task.num_cpus\": 1,\n",
    "    \"_opentelemetry_traceparent\": \"00-5f05c8a8f596272cb475eba0e8c4eafa-13a8ea65985b09ca-01\",\n",
    "}\n"
   ]
  },
  {
   "cell_type": "code",
   "execution_count": 4,
   "id": "53d0d0f1",
   "metadata": {
    "execution": {
     "iopub.execute_input": "2022-07-13T06:51:02.692859Z",
     "iopub.status.busy": "2022-07-13T06:51:02.692600Z",
     "iopub.status.idle": "2022-07-13T06:51:02.695981Z",
     "shell.execute_reply": "2022-07-13T06:51:02.695328Z"
    },
    "lines_to_next_cell": 0,
    "papermill": {
     "duration": 0.014132,
     "end_time": "2022-07-13T06:51:02.699682",
     "exception": false,
     "start_time": "2022-07-13T06:51:02.685550",
     "status": "completed"
    },
    "tags": []
   },
   "outputs": [],
   "source": [
    "# -----------------------------------------------------------------------"
   ]
  },
  {
   "cell_type": "markdown",
   "id": "7414ce4d",
   "metadata": {
    "papermill": {
     "duration": 0.004595,
     "end_time": "2022-07-13T06:51:02.709052",
     "exception": false,
     "start_time": "2022-07-13T06:51:02.704457",
     "status": "completed"
    },
    "tags": []
   },
   "source": [
    "---"
   ]
  },
  {
   "cell_type": "markdown",
   "id": "9bfd49f4",
   "metadata": {
    "lines_to_next_cell": 2,
    "papermill": {
     "duration": 0.004922,
     "end_time": "2022-07-13T06:51:02.718639",
     "exception": false,
     "start_time": "2022-07-13T06:51:02.713717",
     "status": "completed"
    },
    "tags": []
   },
   "source": [
    "### Notebook code"
   ]
  },
  {
   "cell_type": "code",
   "execution_count": 5,
   "id": "5be3437e",
   "metadata": {
    "execution": {
     "iopub.execute_input": "2022-07-13T06:51:02.729293Z",
     "iopub.status.busy": "2022-07-13T06:51:02.729070Z",
     "iopub.status.idle": "2022-07-13T06:51:04.013003Z",
     "shell.execute_reply": "2022-07-13T06:51:04.010084Z"
    },
    "papermill": {
     "duration": 1.291801,
     "end_time": "2022-07-13T06:51:04.015402",
     "exception": false,
     "start_time": "2022-07-13T06:51:02.723601",
     "status": "completed"
    },
    "tags": []
   },
   "outputs": [
    {
     "name": "stderr",
     "output_type": "stream",
     "text": [
      "2022-07-13 06:51:03,830\tINFO worker.py:842 -- Connecting to existing Ray cluster at address: 172.17.0.2:6379\n"
     ]
    }
   ],
   "source": [
    "import itertools as it\n",
    "\n",
    "#\n",
    "import numpy as np\n",
    "import matplotlib.pyplot as plt\n",
    "\n",
    "#\n",
    "from pynb_dag_runner.tasks.task_opentelemetry_logging import PydarLogger\n",
    "\n",
    "#\n",
    "from common.io import datalake_root\n",
    "\n",
    "logger = PydarLogger(P)"
   ]
  },
  {
   "cell_type": "markdown",
   "id": "9582a33b",
   "metadata": {
    "papermill": {
     "duration": 0.005031,
     "end_time": "2022-07-13T06:51:04.025349",
     "exception": false,
     "start_time": "2022-07-13T06:51:04.020318",
     "status": "completed"
    },
    "tags": []
   },
   "source": [
    "## Load persisted onnx-model and evaluation data"
   ]
  },
  {
   "cell_type": "code",
   "execution_count": 6,
   "id": "5f22fd79",
   "metadata": {
    "execution": {
     "iopub.execute_input": "2022-07-13T06:51:04.037741Z",
     "iopub.status.busy": "2022-07-13T06:51:04.037285Z",
     "iopub.status.idle": "2022-07-13T06:51:04.041331Z",
     "shell.execute_reply": "2022-07-13T06:51:04.040639Z"
    },
    "papermill": {
     "duration": 0.013166,
     "end_time": "2022-07-13T06:51:04.044446",
     "exception": false,
     "start_time": "2022-07-13T06:51:04.031280",
     "status": "completed"
    },
    "tags": []
   },
   "outputs": [],
   "source": [
    "from common.io import read_onnx, get_onnx_inputs, get_onnx_outputs, read_numpy"
   ]
  },
  {
   "cell_type": "code",
   "execution_count": 7,
   "id": "53fffb7a",
   "metadata": {
    "execution": {
     "iopub.execute_input": "2022-07-13T06:51:04.054897Z",
     "iopub.status.busy": "2022-07-13T06:51:04.054615Z",
     "iopub.status.idle": "2022-07-13T06:51:04.067848Z",
     "shell.execute_reply": "2022-07-13T06:51:04.066871Z"
    },
    "lines_to_next_cell": 0,
    "papermill": {
     "duration": 0.020646,
     "end_time": "2022-07-13T06:51:04.069743",
     "exception": false,
     "start_time": "2022-07-13T06:51:04.049097",
     "status": "completed"
    },
    "tags": []
   },
   "outputs": [],
   "source": [
    "onnx_inference_session = read_onnx(\n",
    "    datalake_root(P)\n",
    "    / \"models\"\n",
    "    / f\"nr_train_images={P['task.nr_train_images']}\"\n",
    "    / \"model.onnx\"\n",
    ")"
   ]
  },
  {
   "cell_type": "markdown",
   "id": "b60c0474",
   "metadata": {
    "papermill": {
     "duration": 0.005187,
     "end_time": "2022-07-13T06:51:04.079910",
     "exception": false,
     "start_time": "2022-07-13T06:51:04.074723",
     "status": "completed"
    },
    "tags": []
   },
   "source": [
    "### Record structure of inputs and outputs for ONNX model\n",
    "\n",
    "(this should likely be done in training notebook)"
   ]
  },
  {
   "cell_type": "code",
   "execution_count": 8,
   "id": "effd5b87",
   "metadata": {
    "execution": {
     "iopub.execute_input": "2022-07-13T06:51:04.094642Z",
     "iopub.status.busy": "2022-07-13T06:51:04.094392Z",
     "iopub.status.idle": "2022-07-13T06:51:04.102361Z",
     "shell.execute_reply": "2022-07-13T06:51:04.101355Z"
    },
    "papermill": {
     "duration": 0.022513,
     "end_time": "2022-07-13T06:51:04.106886",
     "exception": false,
     "start_time": "2022-07-13T06:51:04.084373",
     "status": "completed"
    },
    "tags": []
   },
   "outputs": [
    {
     "name": "stdout",
     "output_type": "stream",
     "text": [
      "{\n",
      "  \"inputs\": [\n",
      "    {\n",
      "      \"name\": \"float_input_8x8_image\",\n",
      "      \"shape\": [\n",
      "        null,\n",
      "        64\n",
      "      ],\n",
      "      \"type\": \"tensor(float)\"\n",
      "    }\n",
      "  ],\n",
      "  \"outputs\": [\n",
      "    {\n",
      "      \"name\": \"output_label\",\n",
      "      \"shape\": [\n",
      "        null\n",
      "      ],\n",
      "      \"type\": \"tensor(int64)\"\n",
      "    },\n",
      "    {\n",
      "      \"name\": \"output_probability\",\n",
      "      \"shape\": [],\n",
      "      \"type\": \"seq(map(int64,tensor(float)))\"\n",
      "    }\n",
      "  ]\n",
      "}\n"
     ]
    }
   ],
   "source": [
    "import json\n",
    "\n",
    "onnx_io = json.dumps(\n",
    "    {\n",
    "        \"inputs\": get_onnx_inputs(onnx_inference_session),\n",
    "        \"outputs\": get_onnx_outputs(onnx_inference_session),\n",
    "    },\n",
    "    indent=2,\n",
    ")\n",
    "\n",
    "\n",
    "logger.log_artefact(\"onnx_io_structure.json\", onnx_io)\n",
    "print(onnx_io)"
   ]
  },
  {
   "cell_type": "markdown",
   "id": "fde8b8a3",
   "metadata": {
    "papermill": {
     "duration": 0.004618,
     "end_time": "2022-07-13T06:51:04.116641",
     "exception": false,
     "start_time": "2022-07-13T06:51:04.112023",
     "status": "completed"
    },
    "tags": []
   },
   "source": [
    "### Evaluate model performance on evaluation data set"
   ]
  },
  {
   "cell_type": "code",
   "execution_count": 9,
   "id": "2529b4ba",
   "metadata": {
    "execution": {
     "iopub.execute_input": "2022-07-13T06:51:04.127950Z",
     "iopub.status.busy": "2022-07-13T06:51:04.127409Z",
     "iopub.status.idle": "2022-07-13T06:51:04.132628Z",
     "shell.execute_reply": "2022-07-13T06:51:04.131812Z"
    },
    "papermill": {
     "duration": 0.013702,
     "end_time": "2022-07-13T06:51:04.135626",
     "exception": false,
     "start_time": "2022-07-13T06:51:04.121924",
     "status": "completed"
    },
    "tags": []
   },
   "outputs": [],
   "source": [
    "# load evaluation data\n",
    "X_test = read_numpy(datalake_root(P) / \"test-data\" / \"digits.numpy\")\n",
    "y_test = read_numpy(datalake_root(P) / \"test-data\" / \"labels.numpy\")"
   ]
  },
  {
   "cell_type": "code",
   "execution_count": 10,
   "id": "047c3414",
   "metadata": {
    "execution": {
     "iopub.execute_input": "2022-07-13T06:51:04.146284Z",
     "iopub.status.busy": "2022-07-13T06:51:04.146069Z",
     "iopub.status.idle": "2022-07-13T06:51:04.164317Z",
     "shell.execute_reply": "2022-07-13T06:51:04.163668Z"
    },
    "papermill": {
     "duration": 0.025995,
     "end_time": "2022-07-13T06:51:04.166391",
     "exception": false,
     "start_time": "2022-07-13T06:51:04.140396",
     "status": "completed"
    },
    "tags": []
   },
   "outputs": [],
   "source": [
    "def get_model_outputs(X, onnx_inference_session):\n",
    "    y_pred_labels, y_pred_map = onnx_inference_session.run(\n",
    "        [\"output_label\", \"output_probability\"],\n",
    "        {\"float_input_8x8_image\": X.astype(np.float32)},\n",
    "    )\n",
    "    y_pred_probs = np.array(\n",
    "        [[probabilities[digit] for digit in range(10)] for probabilities in y_pred_map]\n",
    "    )\n",
    "\n",
    "    assert y_pred_labels.shape == (X.shape[0],)\n",
    "    assert y_pred_probs.shape == (X.shape[0], 10)\n",
    "\n",
    "    return y_pred_labels, y_pred_probs\n",
    "\n",
    "\n",
    "# Note: as shown in the training notebook, the predicted labels and probabilities\n",
    "# computed below need not be compatible.\n",
    "y_pred_labels_test, y_pred_probs_test = get_model_outputs(\n",
    "    X_test, onnx_inference_session\n",
    ")"
   ]
  },
  {
   "cell_type": "markdown",
   "id": "6afccdc3",
   "metadata": {
    "papermill": {
     "duration": 0.005847,
     "end_time": "2022-07-13T06:51:04.177178",
     "exception": false,
     "start_time": "2022-07-13T06:51:04.171331",
     "status": "completed"
    },
    "tags": []
   },
   "source": [
    "### Confusion matrix"
   ]
  },
  {
   "cell_type": "code",
   "execution_count": 11,
   "id": "3c82e84e",
   "metadata": {
    "execution": {
     "iopub.execute_input": "2022-07-13T06:51:04.189136Z",
     "iopub.status.busy": "2022-07-13T06:51:04.188896Z",
     "iopub.status.idle": "2022-07-13T06:51:04.192061Z",
     "shell.execute_reply": "2022-07-13T06:51:04.191361Z"
    },
    "papermill": {
     "duration": 0.017362,
     "end_time": "2022-07-13T06:51:04.199763",
     "exception": false,
     "start_time": "2022-07-13T06:51:04.182401",
     "status": "completed"
    },
    "tags": []
   },
   "outputs": [],
   "source": [
    "# TODO"
   ]
  },
  {
   "cell_type": "markdown",
   "id": "ba21e6cf",
   "metadata": {
    "papermill": {
     "duration": 0.005439,
     "end_time": "2022-07-13T06:51:04.211654",
     "exception": false,
     "start_time": "2022-07-13T06:51:04.206215",
     "status": "completed"
    },
    "tags": []
   },
   "source": [
    "### Plot predicted probabilities for each classifier over all evaluation digit images"
   ]
  },
  {
   "cell_type": "code",
   "execution_count": 12,
   "id": "eb4c0ba1",
   "metadata": {
    "execution": {
     "iopub.execute_input": "2022-07-13T06:51:04.223400Z",
     "iopub.status.busy": "2022-07-13T06:51:04.223119Z",
     "iopub.status.idle": "2022-07-13T06:51:09.569793Z",
     "shell.execute_reply": "2022-07-13T06:51:09.568742Z"
    },
    "papermill": {
     "duration": 5.354897,
     "end_time": "2022-07-13T06:51:09.571934",
     "exception": false,
     "start_time": "2022-07-13T06:51:04.217037",
     "status": "completed"
    },
    "tags": []
   },
   "outputs": [
    {
     "data": {
      "image/png": "[encoded data removed]",
      "text/plain": [
       "<Figure size 1152x432 with 10 Axes>"
      ]
     },
     "metadata": {
      "needs_background": "light"
     },
     "output_type": "display_data"
    }
   ],
   "source": [
    "def plot_per_digit_probabilities(y_pred_probs):\n",
    "    fig, axs = plt.subplots(nrows=2, ncols=5, figsize=(16, 6))\n",
    "\n",
    "    for (r, c), digit, ax in zip(\n",
    "        it.product(range(2), range(5)), range(10), axs.reshape(-1)\n",
    "    ):\n",
    "        ax.hist(y_pred_probs_test[:, digit], bins=20)\n",
    "\n",
    "        ax.set_title(f\"Digit {digit}\")\n",
    "        if r == 1 and c == 2:\n",
    "            ax.set_xlabel(\"probability\", fontsize=16)\n",
    "\n",
    "        if c == 0:\n",
    "            ax.set_ylabel(\"counts\", fontsize=16)\n",
    "        ax.set_yscale(\"log\")\n",
    "\n",
    "    fig.tight_layout()\n",
    "    fig.suptitle(\n",
    "        f\"Distributions of prediction probabilities for each digit \"\n",
    "        f\"(on evaluation data, n={y_pred_probs.shape[0]})\",\n",
    "        fontsize=20,\n",
    "    )\n",
    "    fig.tight_layout()\n",
    "    fig.show()\n",
    "\n",
    "    return fig\n",
    "\n",
    "\n",
    "fig = plot_per_digit_probabilities(y_pred_probs_test)"
   ]
  },
  {
   "cell_type": "markdown",
   "id": "49469809",
   "metadata": {
    "papermill": {
     "duration": 0.005956,
     "end_time": "2022-07-13T06:51:09.584633",
     "exception": false,
     "start_time": "2022-07-13T06:51:09.578677",
     "status": "completed"
    },
    "tags": []
   },
   "source": [
    "From the above distributions we see that most digits have clear separation between\n",
    "high and lower probabilities. Morover, in each case there is roughly an order of\n",
    "magnitude more of digits with low probabilities. This is compatible with digits\n",
    "being roughly evenly distributed in the data."
   ]
  },
  {
   "cell_type": "code",
   "execution_count": 13,
   "id": "ea11c8f0",
   "metadata": {
    "execution": {
     "iopub.execute_input": "2022-07-13T06:51:09.599215Z",
     "iopub.status.busy": "2022-07-13T06:51:09.598609Z",
     "iopub.status.idle": "2022-07-13T06:51:10.279352Z",
     "shell.execute_reply": "2022-07-13T06:51:10.278391Z"
    },
    "papermill": {
     "duration": 0.690746,
     "end_time": "2022-07-13T06:51:10.282758",
     "exception": false,
     "start_time": "2022-07-13T06:51:09.592012",
     "status": "completed"
    },
    "tags": []
   },
   "outputs": [],
   "source": [
    "logger.log_figure(\"per-digit-probabilities.png\", fig)"
   ]
  },
  {
   "cell_type": "markdown",
   "id": "604e4081",
   "metadata": {
    "papermill": {
     "duration": 0.006075,
     "end_time": "2022-07-13T06:51:10.294538",
     "exception": false,
     "start_time": "2022-07-13T06:51:10.288463",
     "status": "completed"
    },
    "tags": []
   },
   "source": [
    "### Plot ROC curves for individual one-vs-rest classifiers"
   ]
  },
  {
   "cell_type": "code",
   "execution_count": 14,
   "id": "e4ed0e40",
   "metadata": {
    "execution": {
     "iopub.execute_input": "2022-07-13T06:51:10.307894Z",
     "iopub.status.busy": "2022-07-13T06:51:10.307496Z",
     "iopub.status.idle": "2022-07-13T06:51:10.709916Z",
     "shell.execute_reply": "2022-07-13T06:51:10.708518Z"
    },
    "papermill": {
     "duration": 0.412472,
     "end_time": "2022-07-13T06:51:10.712516",
     "exception": false,
     "start_time": "2022-07-13T06:51:10.300044",
     "status": "completed"
    },
    "tags": []
   },
   "outputs": [],
   "source": [
    "from sklearn import metrics"
   ]
  },
  {
   "cell_type": "code",
   "execution_count": 15,
   "id": "0501ab4c",
   "metadata": {
    "execution": {
     "iopub.execute_input": "2022-07-13T06:51:10.726542Z",
     "iopub.status.busy": "2022-07-13T06:51:10.726215Z",
     "iopub.status.idle": "2022-07-13T06:51:12.544296Z",
     "shell.execute_reply": "2022-07-13T06:51:12.543604Z"
    },
    "papermill": {
     "duration": 1.82694,
     "end_time": "2022-07-13T06:51:12.546632",
     "exception": false,
     "start_time": "2022-07-13T06:51:10.719692",
     "status": "completed"
    },
    "tags": []
   },
   "outputs": [
    {
     "data": {
      "image/png": "[encoded data removed]",
      "text/plain": [
       "<Figure size 1152x576 with 10 Axes>"
      ]
     },
     "metadata": {
      "needs_background": "light"
     },
     "output_type": "display_data"
    }
   ],
   "source": [
    "def plot_roc_curves(y, y_pred_probs):\n",
    "    # based on example code\n",
    "    # https://scikit-learn.org/stable/auto_examples/model_selection/plot_roc.html\n",
    "\n",
    "    fig, axs = plt.subplots(nrows=2, ncols=5, figsize=(16, 8))\n",
    "\n",
    "    roc_auc_dict = {}\n",
    "\n",
    "    for (r, c), digit, ax in zip(\n",
    "        it.product(range(2), range(5)), range(10), axs.reshape(-1)\n",
    "    ):\n",
    "        fpr, tpr, _ = metrics.roc_curve(y == digit, y_pred_probs[:, digit])\n",
    "        auc = metrics.auc(fpr, tpr)\n",
    "        roc_auc_dict[str(digit)] = auc\n",
    "\n",
    "        ax.plot(fpr, tpr, label=f\"ROC AUC={round(auc, 3)}\")\n",
    "\n",
    "        ax.set_title(f\"\\nDigit {digit}\", fontsize=16)\n",
    "        if r == 1:\n",
    "            ax.set_xlabel(\"FPR\", fontsize=18)\n",
    "\n",
    "        if c == 0:\n",
    "            ax.set_ylabel(\"TPR\", fontsize=18)\n",
    "\n",
    "        ax.set_xlim([-0.05, 1.05])\n",
    "        ax.set_ylim([-0.05, 1.05])\n",
    "        ax.legend(loc=\"lower right\", frameon=False, fontsize=14)\n",
    "\n",
    "    fig.tight_layout()\n",
    "    fig.suptitle(\n",
    "        f\"ROC plots for one-vs-rest performances \"\n",
    "        f\"(on evaluation data, n={y_pred_probs_test.shape[1]}\",\n",
    "        fontsize=22,\n",
    "    )\n",
    "    fig.tight_layout()\n",
    "    fig.show()\n",
    "\n",
    "    return roc_auc_dict, fig\n",
    "\n",
    "\n",
    "roc_auc_dict, fig = plot_roc_curves(y_test, y_pred_probs_test)"
   ]
  },
  {
   "cell_type": "code",
   "execution_count": 16,
   "id": "b7e8e81e",
   "metadata": {
    "execution": {
     "iopub.execute_input": "2022-07-13T06:51:12.561206Z",
     "iopub.status.busy": "2022-07-13T06:51:12.560963Z",
     "iopub.status.idle": "2022-07-13T06:51:12.887104Z",
     "shell.execute_reply": "2022-07-13T06:51:12.886131Z"
    },
    "papermill": {
     "duration": 0.336202,
     "end_time": "2022-07-13T06:51:12.889258",
     "exception": false,
     "start_time": "2022-07-13T06:51:12.553056",
     "status": "completed"
    },
    "tags": []
   },
   "outputs": [],
   "source": [
    "logger.log_figure(\"per-digit-roc-curves.png\", fig)"
   ]
  },
  {
   "cell_type": "code",
   "execution_count": 17,
   "id": "789809c8",
   "metadata": {
    "execution": {
     "iopub.execute_input": "2022-07-13T06:51:12.906139Z",
     "iopub.status.busy": "2022-07-13T06:51:12.905732Z",
     "iopub.status.idle": "2022-07-13T06:51:12.912103Z",
     "shell.execute_reply": "2022-07-13T06:51:12.911132Z"
    },
    "papermill": {
     "duration": 0.018559,
     "end_time": "2022-07-13T06:51:12.916263",
     "exception": false,
     "start_time": "2022-07-13T06:51:12.897704",
     "status": "completed"
    },
    "tags": []
   },
   "outputs": [
    {
     "data": {
      "text/plain": [
       "{'0': 1.0,\n",
       " '1': 0.9988378631677601,\n",
       " '2': 1.0,\n",
       " '3': 0.9998125585754452,\n",
       " '4': 0.9995427526291724,\n",
       " '5': 0.9992877225866916,\n",
       " '6': 0.999961896052431,\n",
       " '7': 0.9998856881572931,\n",
       " '8': 0.9925914249684742,\n",
       " '9': 0.9994284407864655}"
      ]
     },
     "execution_count": 17,
     "metadata": {},
     "output_type": "execute_result"
    }
   ],
   "source": [
    "roc_auc_dict"
   ]
  },
  {
   "cell_type": "code",
   "execution_count": 18,
   "id": "70f19041",
   "metadata": {
    "execution": {
     "iopub.execute_input": "2022-07-13T06:51:12.936587Z",
     "iopub.status.busy": "2022-07-13T06:51:12.936300Z",
     "iopub.status.idle": "2022-07-13T06:51:12.941333Z",
     "shell.execute_reply": "2022-07-13T06:51:12.940316Z"
    },
    "papermill": {
     "duration": 0.022009,
     "end_time": "2022-07-13T06:51:12.945517",
     "exception": false,
     "start_time": "2022-07-13T06:51:12.923508",
     "status": "completed"
    },
    "tags": []
   },
   "outputs": [
    {
     "name": "stdout",
     "output_type": "stream",
     "text": [
      " - Logging roc_auc_per_digit (json) : {'0': 1.0, '1': 0.9988378631677601, '2': 1.0, '3': 0.9998125585754452, '4': 0.9995427526291724, '5': 0.9992877225866916, '6': 0.999961896052431, '7': 0.9998856881572931, '8': 0.9925914249684742, '9': 0.9994284407864655}\n"
     ]
    }
   ],
   "source": [
    "logger.log_value(\"roc_auc_per_digit\", roc_auc_dict)"
   ]
  },
  {
   "cell_type": "markdown",
   "id": "b0d8fbb1",
   "metadata": {
    "papermill": {
     "duration": 0.006431,
     "end_time": "2022-07-13T06:51:12.958663",
     "exception": false,
     "start_time": "2022-07-13T06:51:12.952232",
     "status": "completed"
    },
    "tags": []
   },
   "source": [
    "### Compute and log mean ROC AUC score averaged over all digits"
   ]
  },
  {
   "cell_type": "code",
   "execution_count": 19,
   "id": "ee2826c6",
   "metadata": {
    "execution": {
     "iopub.execute_input": "2022-07-13T06:51:12.974440Z",
     "iopub.status.busy": "2022-07-13T06:51:12.974166Z",
     "iopub.status.idle": "2022-07-13T06:51:12.994648Z",
     "shell.execute_reply": "2022-07-13T06:51:12.993887Z"
    },
    "papermill": {
     "duration": 0.030719,
     "end_time": "2022-07-13T06:51:12.996547",
     "exception": false,
     "start_time": "2022-07-13T06:51:12.965828",
     "status": "completed"
    },
    "tags": []
   },
   "outputs": [
    {
     "name": "stdout",
     "output_type": "stream",
     "text": [
      " - Logging roc_auc_class_mean (float) : 0.9989348346923732\n"
     ]
    }
   ],
   "source": [
    "roc_auc_macro = np.mean(list(roc_auc_dict.values()))\n",
    "\n",
    "logger.log_float(\"roc_auc_class_mean\", roc_auc_macro)\n",
    "\n",
    "# assert that the same value can be computed directly using sklearn\n",
    "assert roc_auc_macro == metrics.roc_auc_score(\n",
    "    y_test, y_pred_probs_test, average=\"macro\", multi_class=\"ovr\"\n",
    ")"
   ]
  },
  {
   "cell_type": "code",
   "execution_count": 20,
   "id": "511f9df2",
   "metadata": {
    "execution": {
     "iopub.execute_input": "2022-07-13T06:51:13.011191Z",
     "iopub.status.busy": "2022-07-13T06:51:13.010798Z",
     "iopub.status.idle": "2022-07-13T06:51:13.014456Z",
     "shell.execute_reply": "2022-07-13T06:51:13.013858Z"
    },
    "lines_to_next_cell": 0,
    "papermill": {
     "duration": 0.013326,
     "end_time": "2022-07-13T06:51:13.017052",
     "exception": false,
     "start_time": "2022-07-13T06:51:13.003726",
     "status": "completed"
    },
    "tags": []
   },
   "outputs": [],
   "source": [
    "# ---"
   ]
  },
  {
   "cell_type": "code",
   "execution_count": null,
   "id": "64ac02b7",
   "metadata": {
    "papermill": {
     "duration": 0.010528,
     "end_time": "2022-07-13T06:51:13.034545",
     "exception": false,
     "start_time": "2022-07-13T06:51:13.024017",
     "status": "completed"
    },
    "tags": []
   },
   "outputs": [],
   "source": []
  }
 ],
 "metadata": {
  "jupytext": {
   "cell_metadata_filter": "tags,-all",
   "main_language": "python",
   "notebook_metadata_filter": "-all"
  },
  "language_info": {
   "codemirror_mode": {
    "name": "ipython",
    "version": 3
   },
   "file_extension": ".py",
   "mimetype": "text/x-python",
   "name": "python",
   "nbconvert_exporter": "python",
   "pygments_lexer": "ipython3",
   "version": "3.8.10"
  },
  "papermill": {
   "default_parameters": {},
   "duration": 12.980671,
   "end_time": "2022-07-13T06:51:14.060252",
   "environment_variables": {},
   "exception": null,
   "input_path": "/home/host_user/workspace/mnist-demo-pipeline/mnist-demo-pipeline/notebooks/temp-notebook-ko0ed3oa.ipynb",
   "output_path": "notebooks/benchmark-model.ipynb",
   "parameters": {
    "P": {
     "_opentelemetry_traceparent": "00-5f05c8a8f596272cb475eba0e8c4eafa-13a8ea65985b09ca-01",
     "pipeline.data_lake_root": "/pipeline-outputs/data-lake",
     "pipeline.github.actor": "matiasdahl",
     "pipeline.github.base_ref": "",
     "pipeline.github.event_name": "schedule",
     "pipeline.github.head_ref": "",
     "pipeline.github.job": "run-tests-pipeline-and-persist-pipeline-outputs",
     "pipeline.github.ref": "refs/heads/development",
     "pipeline.github.ref_name": "development",
     "pipeline.github.ref_type": "branch",
     "pipeline.github.repository": "pynb-dag-runner/mnist-digits-demo-pipeline",
     "pipeline.github.run_id": "2661518739",
     "pipeline.github.runner_name": "Hosted Agent",
     "pipeline.github.sha": "147a1be9916173fd4d2cd011d8d51e3411215850",
     "pipeline.github.workflow": "Run automated tests, pipeline and deploy results to static reporting site",
     "pipeline.pipeline_run_id": "b793658f-ac86-45f8-897e-51ff5314ae09",
     "pipeline.run_environment": "ci",
     "run.retry_nr": "0",
     "task.max_nr_retries": "1",
     "task.notebook": "notebooks/benchmark-model.py",
     "task.nr_train_images": 800,
     "task.num_cpus": 1,
     "task.timeout_s": "None"
    }
   },
   "start_time": "2022-07-13T06:51:01.079581",
   "version": "2.3.3"
  }
 },
 "nbformat": 4,
 "nbformat_minor": 5
}