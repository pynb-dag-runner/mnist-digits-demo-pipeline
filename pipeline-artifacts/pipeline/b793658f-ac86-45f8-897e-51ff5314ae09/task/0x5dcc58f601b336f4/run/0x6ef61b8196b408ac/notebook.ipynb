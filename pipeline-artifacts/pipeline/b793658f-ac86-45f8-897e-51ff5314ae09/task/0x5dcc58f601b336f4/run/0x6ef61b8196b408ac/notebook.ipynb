{
 "cells": [
  {
   "cell_type": "markdown",
   "id": "bc70eafc",
   "metadata": {
    "papermill": {
     "duration": 0.004323,
     "end_time": "2022-07-13T06:51:36.852553",
     "exception": false,
     "start_time": "2022-07-13T06:51:36.848230",
     "status": "completed"
    },
    "tags": []
   },
   "source": [
    "# Summarize model performances\n",
    "\n",
    "This notebooks plots the performances (using averaged ROC AUC scores) for models\n",
    "trained with different training sets."
   ]
  },
  {
   "cell_type": "markdown",
   "id": "57502722",
   "metadata": {
    "papermill": {
     "duration": 0.003005,
     "end_time": "2022-07-13T06:51:36.882490",
     "exception": false,
     "start_time": "2022-07-13T06:51:36.879485",
     "status": "completed"
    },
    "tags": []
   },
   "source": [
    "### Determine run parameters"
   ]
  },
  {
   "cell_type": "code",
   "execution_count": 1,
   "id": "2adceee7",
   "metadata": {
    "execution": {
     "iopub.execute_input": "2022-07-13T06:51:36.890818Z",
     "iopub.status.busy": "2022-07-13T06:51:36.890227Z",
     "iopub.status.idle": "2022-07-13T06:51:36.898867Z",
     "shell.execute_reply": "2022-07-13T06:51:36.898000Z"
    },
    "lines_to_next_cell": 0,
    "papermill": {
     "duration": 0.015841,
     "end_time": "2022-07-13T06:51:36.901244",
     "exception": false,
     "start_time": "2022-07-13T06:51:36.885403",
     "status": "completed"
    },
    "tags": []
   },
   "outputs": [],
   "source": [
    "# ----------------- Parameters for interactive development --------------\n",
    "P = {\n",
    "    \"pipeline.run_environment\": \"dev\",\n",
    "}"
   ]
  },
  {
   "cell_type": "code",
   "execution_count": 2,
   "id": "67ad18f7",
   "metadata": {
    "execution": {
     "iopub.execute_input": "2022-07-13T06:51:36.908618Z",
     "iopub.status.busy": "2022-07-13T06:51:36.908357Z",
     "iopub.status.idle": "2022-07-13T06:51:36.912341Z",
     "shell.execute_reply": "2022-07-13T06:51:36.911240Z"
    },
    "lines_to_next_cell": 0,
    "papermill": {
     "duration": 0.009958,
     "end_time": "2022-07-13T06:51:36.914279",
     "exception": false,
     "start_time": "2022-07-13T06:51:36.904321",
     "status": "completed"
    },
    "tags": [
     "parameters"
    ]
   },
   "outputs": [],
   "source": [
    "# - During automated runs parameters will be injected in the below cell -"
   ]
  },
  {
   "cell_type": "code",
   "execution_count": 3,
   "id": "4f401516",
   "metadata": {
    "execution": {
     "iopub.execute_input": "2022-07-13T06:51:36.921661Z",
     "iopub.status.busy": "2022-07-13T06:51:36.921244Z",
     "iopub.status.idle": "2022-07-13T06:51:36.927052Z",
     "shell.execute_reply": "2022-07-13T06:51:36.925939Z"
    },
    "papermill": {
     "duration": 0.011959,
     "end_time": "2022-07-13T06:51:36.928899",
     "exception": false,
     "start_time": "2022-07-13T06:51:36.916940",
     "status": "completed"
    },
    "tags": [
     "injected-parameters"
    ]
   },
   "outputs": [],
   "source": [
    "# Parameters\n",
    "P = {\n",
    "    \"pipeline.data_lake_root\": \"/pipeline-outputs/data-lake\",\n",
    "    \"pipeline.run_environment\": \"ci\",\n",
    "    \"pipeline.pipeline_run_id\": \"b793658f-ac86-45f8-897e-51ff5314ae09\",\n",
    "    \"pipeline.github.repository\": \"pynb-dag-runner/mnist-digits-demo-pipeline\",\n",
    "    \"pipeline.github.workflow\": \"Run automated tests, pipeline and deploy results to static reporting site\",\n",
    "    \"pipeline.github.runner_name\": \"Hosted Agent\",\n",
    "    \"pipeline.github.run_id\": \"2661518739\",\n",
    "    \"pipeline.github.actor\": \"matiasdahl\",\n",
    "    \"pipeline.github.job\": \"run-tests-pipeline-and-persist-pipeline-outputs\",\n",
    "    \"pipeline.github.base_ref\": \"\",\n",
    "    \"pipeline.github.head_ref\": \"\",\n",
    "    \"pipeline.github.sha\": \"147a1be9916173fd4d2cd011d8d51e3411215850\",\n",
    "    \"pipeline.github.ref\": \"refs/heads/development\",\n",
    "    \"pipeline.github.ref_type\": \"branch\",\n",
    "    \"pipeline.github.ref_name\": \"development\",\n",
    "    \"pipeline.github.event_name\": \"schedule\",\n",
    "    \"task.notebook\": \"notebooks/summary.py\",\n",
    "    \"task.max_nr_retries\": \"1\",\n",
    "    \"run.retry_nr\": \"0\",\n",
    "    \"task.timeout_s\": \"None\",\n",
    "    \"task.num_cpus\": 1,\n",
    "    \"_opentelemetry_traceparent\": \"00-5f05c8a8f596272cb475eba0e8c4eafa-bce58b55c7a89448-01\",\n",
    "}\n"
   ]
  },
  {
   "cell_type": "code",
   "execution_count": 4,
   "id": "6a5d6df3",
   "metadata": {
    "execution": {
     "iopub.execute_input": "2022-07-13T06:51:36.936229Z",
     "iopub.status.busy": "2022-07-13T06:51:36.935986Z",
     "iopub.status.idle": "2022-07-13T06:51:36.939251Z",
     "shell.execute_reply": "2022-07-13T06:51:36.938447Z"
    },
    "lines_to_next_cell": 0,
    "papermill": {
     "duration": 0.009159,
     "end_time": "2022-07-13T06:51:36.940920",
     "exception": false,
     "start_time": "2022-07-13T06:51:36.931761",
     "status": "completed"
    },
    "tags": []
   },
   "outputs": [],
   "source": [
    "# -----------------------------------------------------------------------"
   ]
  },
  {
   "cell_type": "markdown",
   "id": "56d4648d",
   "metadata": {
    "papermill": {
     "duration": 0.002768,
     "end_time": "2022-07-13T06:51:36.946708",
     "exception": false,
     "start_time": "2022-07-13T06:51:36.943940",
     "status": "completed"
    },
    "tags": []
   },
   "source": [
    "---"
   ]
  },
  {
   "cell_type": "markdown",
   "id": "11b0198f",
   "metadata": {
    "lines_to_next_cell": 2,
    "papermill": {
     "duration": 0.003087,
     "end_time": "2022-07-13T06:51:36.952673",
     "exception": false,
     "start_time": "2022-07-13T06:51:36.949586",
     "status": "completed"
    },
    "tags": []
   },
   "source": [
    "### Notebook code"
   ]
  },
  {
   "cell_type": "code",
   "execution_count": 5,
   "id": "c7e1133c",
   "metadata": {
    "execution": {
     "iopub.execute_input": "2022-07-13T06:51:36.959939Z",
     "iopub.status.busy": "2022-07-13T06:51:36.959359Z",
     "iopub.status.idle": "2022-07-13T06:51:38.206295Z",
     "shell.execute_reply": "2022-07-13T06:51:38.205258Z"
    },
    "papermill": {
     "duration": 1.253038,
     "end_time": "2022-07-13T06:51:38.208727",
     "exception": false,
     "start_time": "2022-07-13T06:51:36.955689",
     "status": "completed"
    },
    "tags": []
   },
   "outputs": [],
   "source": [
    "#\n",
    "import pandas as pd\n",
    "import matplotlib.pyplot as plt\n",
    "\n",
    "#\n",
    "from pynb_dag_runner.tasks.task_opentelemetry_logging import PydarLogger"
   ]
  },
  {
   "cell_type": "code",
   "execution_count": 6,
   "id": "3dcb38fa",
   "metadata": {
    "execution": {
     "iopub.execute_input": "2022-07-13T06:51:38.217702Z",
     "iopub.status.busy": "2022-07-13T06:51:38.217309Z",
     "iopub.status.idle": "2022-07-13T06:51:38.384365Z",
     "shell.execute_reply": "2022-07-13T06:51:38.382564Z"
    },
    "papermill": {
     "duration": 0.175074,
     "end_time": "2022-07-13T06:51:38.387762",
     "exception": false,
     "start_time": "2022-07-13T06:51:38.212688",
     "status": "completed"
    },
    "tags": []
   },
   "outputs": [
    {
     "name": "stderr",
     "output_type": "stream",
     "text": [
      "2022-07-13 06:51:38,224\tINFO worker.py:842 -- Connecting to existing Ray cluster at address: 172.17.0.2:6379\n"
     ]
    }
   ],
   "source": [
    "logger = PydarLogger(P=P)"
   ]
  },
  {
   "cell_type": "code",
   "execution_count": 7,
   "id": "0db4c064",
   "metadata": {
    "execution": {
     "iopub.execute_input": "2022-07-13T06:51:38.396959Z",
     "iopub.status.busy": "2022-07-13T06:51:38.396475Z",
     "iopub.status.idle": "2022-07-13T06:51:38.401196Z",
     "shell.execute_reply": "2022-07-13T06:51:38.400219Z"
    },
    "papermill": {
     "duration": 0.011747,
     "end_time": "2022-07-13T06:51:38.403776",
     "exception": false,
     "start_time": "2022-07-13T06:51:38.392029",
     "status": "completed"
    },
    "tags": []
   },
   "outputs": [],
   "source": [
    "from pynb_dag_runner.tasks.task_opentelemetry_logging import (\n",
    "    PydarLogger,\n",
    "    get_logged_values,\n",
    ")\n",
    "from pynb_dag_runner.opentelemetry_helpers import _get_all_spans, Spans"
   ]
  },
  {
   "cell_type": "code",
   "execution_count": 8,
   "id": "82e5ab51",
   "metadata": {
    "execution": {
     "iopub.execute_input": "2022-07-13T06:51:38.412208Z",
     "iopub.status.busy": "2022-07-13T06:51:38.411803Z",
     "iopub.status.idle": "2022-07-13T06:51:38.420409Z",
     "shell.execute_reply": "2022-07-13T06:51:38.419592Z"
    },
    "papermill": {
     "duration": 0.01578,
     "end_time": "2022-07-13T06:51:38.423135",
     "exception": false,
     "start_time": "2022-07-13T06:51:38.407355",
     "status": "completed"
    },
    "tags": []
   },
   "outputs": [],
   "source": [
    "def get_model_benchmarks():\n",
    "    \"\"\"\n",
    "    Query the OpenTelemetry logs for *this pipeline run* and return\n",
    "    all key-values logged from all runs of the benchmark-model.py task\n",
    "\n",
    "    For testing a json file with OpenTelemetry spans (as an array)\n",
    "    can be used as follows:\n",
    "\n",
    "    - Create output directory `mkdir /tmp/spans`\n",
    "    - Run unit tests. This will create pipeline-outputs/opentelemetry-spans.json\n",
    "    - Convert this json-array into jsonl format as follows\n",
    "\n",
    "    jq -c '.[]' /pipeline-outputs/opentelemetry-spans.json > /tmp/spans/data.txt\n",
    "\n",
    "    \"\"\"\n",
    "    spans: Spans = Spans(_get_all_spans())\n",
    "    print(f\"Found {len(spans)} spans\")\n",
    "\n",
    "    benchmark_spans = (\n",
    "        spans\n",
    "        # -\n",
    "        .filter([\"name\"], \"execute-task\")\n",
    "        # -\n",
    "        .filter([\"attributes\", \"task.notebook\"], \"notebooks/benchmark-model.py\")\n",
    "    )\n",
    "\n",
    "    result = []\n",
    "    for s in benchmark_spans:\n",
    "        result.append(\n",
    "            {\n",
    "                \"span_id\": s[\"context\"][\"span_id\"],\n",
    "                \"nr_train_images\": s[\"attributes\"][\"task.nr_train_images\"],\n",
    "                \"data\": get_logged_values(spans.bound_under(s)),\n",
    "            }\n",
    "        )\n",
    "\n",
    "    return result\n",
    "\n",
    "\n",
    "def adjust_pandas(df):\n",
    "    def column_renamer(col_name: str) -> str:\n",
    "        return (\n",
    "            col_name\n",
    "            # -- 'data.roc_auc_per_digit.4' -> 'roc_auc.4'\n",
    "            .replace(\"data.roc_auc_per_digit\", \"roc_auc\")\n",
    "            # -- 'data.roc_auc_class_mean' -> 'roc_auc_mean'\n",
    "            .replace(\"data.roc_auc_class_mean\", \"roc_auc_mean\")\n",
    "        )\n",
    "\n",
    "    return df.rename(column_renamer, axis=\"columns\").sort_values(by=\"nr_train_images\")"
   ]
  },
  {
   "cell_type": "code",
   "execution_count": 9,
   "id": "189c3b47",
   "metadata": {
    "execution": {
     "iopub.execute_input": "2022-07-13T06:51:38.431001Z",
     "iopub.status.busy": "2022-07-13T06:51:38.430481Z",
     "iopub.status.idle": "2022-07-13T06:52:01.849604Z",
     "shell.execute_reply": "2022-07-13T06:52:01.848508Z"
    },
    "papermill": {
     "duration": 23.426107,
     "end_time": "2022-07-13T06:52:01.852100",
     "exception": false,
     "start_time": "2022-07-13T06:51:38.425993",
     "status": "completed"
    },
    "tags": []
   },
   "outputs": [
    {
     "name": "stdout",
     "output_type": "stream",
     "text": [
      "Found 420 spans\n"
     ]
    }
   ],
   "source": [
    "df_data = adjust_pandas(pd.json_normalize(get_model_benchmarks()))"
   ]
  },
  {
   "cell_type": "code",
   "execution_count": 10,
   "id": "dafd71ec",
   "metadata": {
    "execution": {
     "iopub.execute_input": "2022-07-13T06:52:01.863244Z",
     "iopub.status.busy": "2022-07-13T06:52:01.863012Z",
     "iopub.status.idle": "2022-07-13T06:52:01.899759Z",
     "shell.execute_reply": "2022-07-13T06:52:01.898984Z"
    },
    "papermill": {
     "duration": 0.044267,
     "end_time": "2022-07-13T06:52:01.901942",
     "exception": false,
     "start_time": "2022-07-13T06:52:01.857675",
     "status": "completed"
    },
    "tags": []
   },
   "outputs": [
    {
     "data": {
      "text/html": [
       "<div>\n",
       "<style scoped>\n",
       "    .dataframe tbody tr th:only-of-type {\n",
       "        vertical-align: middle;\n",
       "    }\n",
       "\n",
       "    .dataframe tbody tr th {\n",
       "        vertical-align: top;\n",
       "    }\n",
       "\n",
       "    .dataframe thead th {\n",
       "        text-align: right;\n",
       "    }\n",
       "</style>\n",
       "<table border=\"1\" class=\"dataframe\">\n",
       "  <thead>\n",
       "    <tr style=\"text-align: right;\">\n",
       "      <th></th>\n",
       "      <th>span_id</th>\n",
       "      <th>nr_train_images</th>\n",
       "      <th>roc_auc_mean</th>\n",
       "      <th>roc_auc.0</th>\n",
       "      <th>roc_auc.1</th>\n",
       "      <th>roc_auc.2</th>\n",
       "      <th>roc_auc.3</th>\n",
       "      <th>roc_auc.4</th>\n",
       "      <th>roc_auc.5</th>\n",
       "      <th>roc_auc.6</th>\n",
       "      <th>roc_auc.7</th>\n",
       "      <th>roc_auc.8</th>\n",
       "      <th>roc_auc.9</th>\n",
       "    </tr>\n",
       "  </thead>\n",
       "  <tbody>\n",
       "    <tr>\n",
       "      <th>2</th>\n",
       "      <td>0x0003fd2e2e146373</td>\n",
       "      <td>600</td>\n",
       "      <td>0.9990</td>\n",
       "      <td>1.0</td>\n",
       "      <td>0.9992</td>\n",
       "      <td>1.0</td>\n",
       "      <td>0.9998</td>\n",
       "      <td>0.9991</td>\n",
       "      <td>0.9988</td>\n",
       "      <td>0.9999</td>\n",
       "      <td>0.9998</td>\n",
       "      <td>0.9944</td>\n",
       "      <td>0.9987</td>\n",
       "    </tr>\n",
       "    <tr>\n",
       "      <th>0</th>\n",
       "      <td>0x05c324b6b46ef84c</td>\n",
       "      <td>800</td>\n",
       "      <td>0.9989</td>\n",
       "      <td>1.0</td>\n",
       "      <td>0.9988</td>\n",
       "      <td>1.0</td>\n",
       "      <td>0.9998</td>\n",
       "      <td>0.9995</td>\n",
       "      <td>0.9993</td>\n",
       "      <td>1.0000</td>\n",
       "      <td>0.9999</td>\n",
       "      <td>0.9926</td>\n",
       "      <td>0.9994</td>\n",
       "    </tr>\n",
       "    <tr>\n",
       "      <th>3</th>\n",
       "      <td>0xdd7ac652d260f1c9</td>\n",
       "      <td>1000</td>\n",
       "      <td>0.9992</td>\n",
       "      <td>1.0</td>\n",
       "      <td>0.9990</td>\n",
       "      <td>1.0</td>\n",
       "      <td>0.9999</td>\n",
       "      <td>0.9997</td>\n",
       "      <td>0.9994</td>\n",
       "      <td>0.9999</td>\n",
       "      <td>0.9998</td>\n",
       "      <td>0.9948</td>\n",
       "      <td>0.9995</td>\n",
       "    </tr>\n",
       "    <tr>\n",
       "      <th>1</th>\n",
       "      <td>0xfba815c95c3469d3</td>\n",
       "      <td>1200</td>\n",
       "      <td>0.9994</td>\n",
       "      <td>1.0</td>\n",
       "      <td>0.9991</td>\n",
       "      <td>1.0</td>\n",
       "      <td>0.9999</td>\n",
       "      <td>0.9998</td>\n",
       "      <td>0.9996</td>\n",
       "      <td>0.9999</td>\n",
       "      <td>0.9998</td>\n",
       "      <td>0.9958</td>\n",
       "      <td>0.9998</td>\n",
       "    </tr>\n",
       "  </tbody>\n",
       "</table>\n",
       "</div>"
      ],
      "text/plain": [
       "              span_id  nr_train_images  roc_auc_mean  roc_auc.0  roc_auc.1  \\\n",
       "2  0x0003fd2e2e146373              600        0.9990        1.0     0.9992   \n",
       "0  0x05c324b6b46ef84c              800        0.9989        1.0     0.9988   \n",
       "3  0xdd7ac652d260f1c9             1000        0.9992        1.0     0.9990   \n",
       "1  0xfba815c95c3469d3             1200        0.9994        1.0     0.9991   \n",
       "\n",
       "   roc_auc.2  roc_auc.3  roc_auc.4  roc_auc.5  roc_auc.6  roc_auc.7  \\\n",
       "2        1.0     0.9998     0.9991     0.9988     0.9999     0.9998   \n",
       "0        1.0     0.9998     0.9995     0.9993     1.0000     0.9999   \n",
       "3        1.0     0.9999     0.9997     0.9994     0.9999     0.9998   \n",
       "1        1.0     0.9999     0.9998     0.9996     0.9999     0.9998   \n",
       "\n",
       "   roc_auc.8  roc_auc.9  \n",
       "2     0.9944     0.9987  \n",
       "0     0.9926     0.9994  \n",
       "3     0.9948     0.9995  \n",
       "1     0.9958     0.9998  "
      ]
     },
     "execution_count": 10,
     "metadata": {},
     "output_type": "execute_result"
    }
   ],
   "source": [
    "df_data.round(4)"
   ]
  },
  {
   "cell_type": "code",
   "execution_count": 11,
   "id": "03202152",
   "metadata": {
    "execution": {
     "iopub.execute_input": "2022-07-13T06:52:01.911420Z",
     "iopub.status.busy": "2022-07-13T06:52:01.910792Z",
     "iopub.status.idle": "2022-07-13T06:52:02.103773Z",
     "shell.execute_reply": "2022-07-13T06:52:02.102955Z"
    },
    "papermill": {
     "duration": 0.199516,
     "end_time": "2022-07-13T06:52:02.105816",
     "exception": false,
     "start_time": "2022-07-13T06:52:01.906300",
     "status": "completed"
    },
    "tags": []
   },
   "outputs": [
    {
     "data": {
      "image/png": "[encoded data removed]",
      "text/plain": [
       "<Figure size 1152x288 with 1 Axes>"
      ]
     },
     "metadata": {
      "needs_background": "light"
     },
     "output_type": "display_data"
    }
   ],
   "source": [
    "def plot_classifier_performance_summary(df_data):\n",
    "    fig, ax = plt.subplots(nrows=1, ncols=1, figsize=(16, 4), sharex=True)\n",
    "\n",
    "    #\n",
    "    ax.plot(\n",
    "        df_data[\"nr_train_images\"], df_data[\"roc_auc_mean\"], marker=\"o\", linestyle=\"--\"\n",
    "    )\n",
    "    ax.set_title(\n",
    "        f\"ROC AUC digit classifier performance on evaluation digits\", fontsize=17\n",
    "    )\n",
    "    ax.set_xlabel(\"Total number of digits in training set\", fontsize=14)\n",
    "    ax.set_ylabel(\"Mean ROC AUC\", fontsize=14)\n",
    "\n",
    "    fig.tight_layout()\n",
    "    fig.show()\n",
    "\n",
    "    return fig\n",
    "\n",
    "\n",
    "fig = plot_classifier_performance_summary(df_data)"
   ]
  },
  {
   "cell_type": "code",
   "execution_count": 12,
   "id": "b42702ab",
   "metadata": {
    "execution": {
     "iopub.execute_input": "2022-07-13T06:52:02.116047Z",
     "iopub.status.busy": "2022-07-13T06:52:02.115787Z",
     "iopub.status.idle": "2022-07-13T06:52:02.180482Z",
     "shell.execute_reply": "2022-07-13T06:52:02.179471Z"
    },
    "papermill": {
     "duration": 0.072029,
     "end_time": "2022-07-13T06:52:02.182353",
     "exception": false,
     "start_time": "2022-07-13T06:52:02.110324",
     "status": "completed"
    },
    "tags": []
   },
   "outputs": [],
   "source": [
    "logger.log_figure(\"auc-roc-model-performances.png\", fig)"
   ]
  },
  {
   "cell_type": "code",
   "execution_count": 13,
   "id": "c3a87507",
   "metadata": {
    "execution": {
     "iopub.execute_input": "2022-07-13T06:52:02.192005Z",
     "iopub.status.busy": "2022-07-13T06:52:02.191567Z",
     "iopub.status.idle": "2022-07-13T06:52:02.195393Z",
     "shell.execute_reply": "2022-07-13T06:52:02.194527Z"
    },
    "papermill": {
     "duration": 0.011004,
     "end_time": "2022-07-13T06:52:02.197465",
     "exception": false,
     "start_time": "2022-07-13T06:52:02.186461",
     "status": "completed"
    },
    "tags": []
   },
   "outputs": [],
   "source": [
    "###"
   ]
  },
  {
   "cell_type": "code",
   "execution_count": null,
   "id": "ca3136d3",
   "metadata": {
    "papermill": {
     "duration": 0.003962,
     "end_time": "2022-07-13T06:52:02.205630",
     "exception": false,
     "start_time": "2022-07-13T06:52:02.201668",
     "status": "completed"
    },
    "tags": []
   },
   "outputs": [],
   "source": []
  }
 ],
 "metadata": {
  "jupytext": {
   "cell_metadata_filter": "tags,-all",
   "main_language": "python",
   "notebook_metadata_filter": "-all"
  },
  "language_info": {
   "codemirror_mode": {
    "name": "ipython",
    "version": 3
   },
   "file_extension": ".py",
   "mimetype": "text/x-python",
   "name": "python",
   "nbconvert_exporter": "python",
   "pygments_lexer": "ipython3",
   "version": "3.8.10"
  },
  "papermill": {
   "default_parameters": {},
   "duration": 27.815354,
   "end_time": "2022-07-13T06:52:03.230384",
   "environment_variables": {},
   "exception": null,
   "input_path": "/home/host_user/workspace/mnist-demo-pipeline/mnist-demo-pipeline/notebooks/temp-notebook-peh2wx16.ipynb",
   "output_path": "notebooks/summary.ipynb",
   "parameters": {
    "P": {
     "_opentelemetry_traceparent": "00-5f05c8a8f596272cb475eba0e8c4eafa-bce58b55c7a89448-01",
     "pipeline.data_lake_root": "/pipeline-outputs/data-lake",
     "pipeline.github.actor": "matiasdahl",
     "pipeline.github.base_ref": "",
     "pipeline.github.event_name": "schedule",
     "pipeline.github.head_ref": "",
     "pipeline.github.job": "run-tests-pipeline-and-persist-pipeline-outputs",
     "pipeline.github.ref": "refs/heads/development",
     "pipeline.github.ref_name": "development",
     "pipeline.github.ref_type": "branch",
     "pipeline.github.repository": "pynb-dag-runner/mnist-digits-demo-pipeline",
     "pipeline.github.run_id": "2661518739",
     "pipeline.github.runner_name": "Hosted Agent",
     "pipeline.github.sha": "147a1be9916173fd4d2cd011d8d51e3411215850",
     "pipeline.github.workflow": "Run automated tests, pipeline and deploy results to static reporting site",
     "pipeline.pipeline_run_id": "b793658f-ac86-45f8-897e-51ff5314ae09",
     "pipeline.run_environment": "ci",
     "run.retry_nr": "0",
     "task.max_nr_retries": "1",
     "task.notebook": "notebooks/summary.py",
     "task.num_cpus": 1,
     "task.timeout_s": "None"
    }
   },
   "start_time": "2022-07-13T06:51:35.415030",
   "version": "2.3.3"
  }
 },
 "nbformat": 4,
 "nbformat_minor": 5
}