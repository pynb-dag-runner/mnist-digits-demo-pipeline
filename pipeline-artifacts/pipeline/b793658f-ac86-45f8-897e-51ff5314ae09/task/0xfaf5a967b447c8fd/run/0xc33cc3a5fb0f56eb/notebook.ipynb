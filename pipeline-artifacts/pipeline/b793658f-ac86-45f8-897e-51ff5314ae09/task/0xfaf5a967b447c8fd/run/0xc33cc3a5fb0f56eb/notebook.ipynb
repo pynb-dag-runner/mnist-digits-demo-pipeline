{
 "cells": [
  {
   "cell_type": "markdown",
   "id": "3c357eff",
   "metadata": {
    "papermill": {
     "duration": 0.004442,
     "end_time": "2022-07-13T06:50:37.260255",
     "exception": false,
     "start_time": "2022-07-13T06:50:37.255813",
     "status": "completed"
    },
    "tags": []
   },
   "source": [
    "# Ingest toy version of MNIST digit data from sklearn"
   ]
  },
  {
   "cell_type": "markdown",
   "id": "75798ec7",
   "metadata": {
    "papermill": {
     "duration": 0.002915,
     "end_time": "2022-07-13T06:50:37.266280",
     "exception": false,
     "start_time": "2022-07-13T06:50:37.263365",
     "status": "completed"
    },
    "tags": []
   },
   "source": [
    "### Determine run parameters"
   ]
  },
  {
   "cell_type": "code",
   "execution_count": 1,
   "id": "034eb3af",
   "metadata": {
    "execution": {
     "iopub.execute_input": "2022-07-13T06:50:37.273562Z",
     "iopub.status.busy": "2022-07-13T06:50:37.273116Z",
     "iopub.status.idle": "2022-07-13T06:50:37.282829Z",
     "shell.execute_reply": "2022-07-13T06:50:37.281866Z"
    },
    "lines_to_next_cell": 0,
    "papermill": {
     "duration": 0.016136,
     "end_time": "2022-07-13T06:50:37.284927",
     "exception": false,
     "start_time": "2022-07-13T06:50:37.268791",
     "status": "completed"
    },
    "tags": []
   },
   "outputs": [],
   "source": [
    "# ----------------- Parameters for interactive development --------------\n",
    "P = {\n",
    "    \"pipeline.run_environment\": \"dev\",\n",
    "    \"pipeline.data_lake_root\": \"/pipeline-outputs/data-lake\",\n",
    "    \"run.retry_nr\": \"1\",\n",
    "}"
   ]
  },
  {
   "cell_type": "code",
   "execution_count": 2,
   "id": "7cd691f6",
   "metadata": {
    "execution": {
     "iopub.execute_input": "2022-07-13T06:50:37.292307Z",
     "iopub.status.busy": "2022-07-13T06:50:37.292070Z",
     "iopub.status.idle": "2022-07-13T06:50:37.295854Z",
     "shell.execute_reply": "2022-07-13T06:50:37.295045Z"
    },
    "lines_to_next_cell": 0,
    "papermill": {
     "duration": 0.010512,
     "end_time": "2022-07-13T06:50:37.297923",
     "exception": false,
     "start_time": "2022-07-13T06:50:37.287411",
     "status": "completed"
    },
    "tags": [
     "parameters"
    ]
   },
   "outputs": [],
   "source": [
    "# - During automated runs parameters will be injected in the below cell -"
   ]
  },
  {
   "cell_type": "code",
   "execution_count": 3,
   "id": "ea496ac6",
   "metadata": {
    "execution": {
     "iopub.execute_input": "2022-07-13T06:50:37.304922Z",
     "iopub.status.busy": "2022-07-13T06:50:37.304599Z",
     "iopub.status.idle": "2022-07-13T06:50:37.310161Z",
     "shell.execute_reply": "2022-07-13T06:50:37.309278Z"
    },
    "papermill": {
     "duration": 0.011404,
     "end_time": "2022-07-13T06:50:37.311962",
     "exception": false,
     "start_time": "2022-07-13T06:50:37.300558",
     "status": "completed"
    },
    "tags": [
     "injected-parameters"
    ]
   },
   "outputs": [],
   "source": [
    "# Parameters\n",
    "P = {\n",
    "    \"pipeline.data_lake_root\": \"/pipeline-outputs/data-lake\",\n",
    "    \"pipeline.run_environment\": \"ci\",\n",
    "    \"pipeline.pipeline_run_id\": \"b793658f-ac86-45f8-897e-51ff5314ae09\",\n",
    "    \"pipeline.github.repository\": \"pynb-dag-runner/mnist-digits-demo-pipeline\",\n",
    "    \"pipeline.github.workflow\": \"Run automated tests, pipeline and deploy results to static reporting site\",\n",
    "    \"pipeline.github.runner_name\": \"Hosted Agent\",\n",
    "    \"pipeline.github.run_id\": \"2661518739\",\n",
    "    \"pipeline.github.actor\": \"matiasdahl\",\n",
    "    \"pipeline.github.job\": \"run-tests-pipeline-and-persist-pipeline-outputs\",\n",
    "    \"pipeline.github.base_ref\": \"\",\n",
    "    \"pipeline.github.head_ref\": \"\",\n",
    "    \"pipeline.github.sha\": \"147a1be9916173fd4d2cd011d8d51e3411215850\",\n",
    "    \"pipeline.github.ref\": \"refs/heads/development\",\n",
    "    \"pipeline.github.ref_type\": \"branch\",\n",
    "    \"pipeline.github.ref_name\": \"development\",\n",
    "    \"pipeline.github.event_name\": \"schedule\",\n",
    "    \"task.notebook\": \"notebooks/ingest.py\",\n",
    "    \"task.max_nr_retries\": \"15\",\n",
    "    \"run.retry_nr\": \"10\",\n",
    "    \"task.timeout_s\": \"10\",\n",
    "    \"task.num_cpus\": 1,\n",
    "    \"_opentelemetry_traceparent\": \"00-5f05c8a8f596272cb475eba0e8c4eafa-315d14142ca28569-01\",\n",
    "}\n"
   ]
  },
  {
   "cell_type": "code",
   "execution_count": 4,
   "id": "c75944a1",
   "metadata": {
    "execution": {
     "iopub.execute_input": "2022-07-13T06:50:37.318825Z",
     "iopub.status.busy": "2022-07-13T06:50:37.318590Z",
     "iopub.status.idle": "2022-07-13T06:50:37.321517Z",
     "shell.execute_reply": "2022-07-13T06:50:37.320857Z"
    },
    "lines_to_next_cell": 0,
    "papermill": {
     "duration": 0.008771,
     "end_time": "2022-07-13T06:50:37.323566",
     "exception": false,
     "start_time": "2022-07-13T06:50:37.314795",
     "status": "completed"
    },
    "tags": []
   },
   "outputs": [],
   "source": [
    "# -----------------------------------------------------------------------"
   ]
  },
  {
   "cell_type": "markdown",
   "id": "93a607d0",
   "metadata": {
    "lines_to_next_cell": 2,
    "papermill": {
     "duration": 0.002744,
     "end_time": "2022-07-13T06:50:37.329077",
     "exception": false,
     "start_time": "2022-07-13T06:50:37.326333",
     "status": "completed"
    },
    "tags": []
   },
   "source": [
    "---"
   ]
  },
  {
   "cell_type": "markdown",
   "id": "0cadf464",
   "metadata": {
    "papermill": {
     "duration": 0.002896,
     "end_time": "2022-07-13T06:50:37.334630",
     "exception": false,
     "start_time": "2022-07-13T06:50:37.331734",
     "status": "completed"
    },
    "tags": []
   },
   "source": [
    "### Simulate different types of failures (for testing timeout and retry logic)"
   ]
  },
  {
   "cell_type": "code",
   "execution_count": 5,
   "id": "854148d7",
   "metadata": {
    "execution": {
     "iopub.execute_input": "2022-07-13T06:50:37.341840Z",
     "iopub.status.busy": "2022-07-13T06:50:37.341110Z",
     "iopub.status.idle": "2022-07-13T06:50:37.868102Z",
     "shell.execute_reply": "2022-07-13T06:50:37.867256Z"
    },
    "papermill": {
     "duration": 0.53317,
     "end_time": "2022-07-13T06:50:37.870376",
     "exception": false,
     "start_time": "2022-07-13T06:50:37.337206",
     "status": "completed"
    },
    "tags": []
   },
   "outputs": [
    {
     "name": "stderr",
     "output_type": "stream",
     "text": [
      "2022-07-13 06:50:37,690\tINFO worker.py:842 -- Connecting to existing Ray cluster at address: 172.17.0.2:6379\n"
     ]
    }
   ],
   "source": [
    "from pynb_dag_runner.tasks.task_opentelemetry_logging import PydarLogger\n",
    "\n",
    "logger = PydarLogger(P)"
   ]
  },
  {
   "cell_type": "code",
   "execution_count": 6,
   "id": "4275c9dc",
   "metadata": {
    "execution": {
     "iopub.execute_input": "2022-07-13T06:50:37.879429Z",
     "iopub.status.busy": "2022-07-13T06:50:37.878790Z",
     "iopub.status.idle": "2022-07-13T06:50:37.886561Z",
     "shell.execute_reply": "2022-07-13T06:50:37.885809Z"
    },
    "papermill": {
     "duration": 0.014874,
     "end_time": "2022-07-13T06:50:37.888475",
     "exception": false,
     "start_time": "2022-07-13T06:50:37.873601",
     "status": "completed"
    },
    "tags": []
   },
   "outputs": [],
   "source": [
    "import time, random\n",
    "\n",
    "\n",
    "def maybe_crash(retry_nr: int, run_environment: str):\n",
    "    if retry_nr == 2 and run_environment == \"ci\":\n",
    "        time.sleep(1e6)\n",
    "\n",
    "    max_retry_nr: int = 3 if run_environment == \"dev\" else 10\n",
    "\n",
    "    if retry_nr < max_retry_nr:\n",
    "        if random.random() < 0.1:\n",
    "            time.sleep(1e6)\n",
    "        else:\n",
    "            raise Exception(\"Simulated exception failure from ingestion step notebook!\")\n",
    "\n",
    "\n",
    "maybe_crash(\n",
    "    retry_nr=int(P[\"run.retry_nr\"]), run_environment=P[\"pipeline.run_environment\"]\n",
    ")"
   ]
  },
  {
   "cell_type": "markdown",
   "id": "a4b6b195",
   "metadata": {
    "lines_to_next_cell": 2,
    "papermill": {
     "duration": 0.003063,
     "end_time": "2022-07-13T06:50:37.894470",
     "exception": false,
     "start_time": "2022-07-13T06:50:37.891407",
     "status": "completed"
    },
    "tags": []
   },
   "source": [
    "### Notebook code"
   ]
  },
  {
   "cell_type": "code",
   "execution_count": 7,
   "id": "39fb03d9",
   "metadata": {
    "execution": {
     "iopub.execute_input": "2022-07-13T06:50:37.902260Z",
     "iopub.status.busy": "2022-07-13T06:50:37.901997Z",
     "iopub.status.idle": "2022-07-13T06:50:39.365734Z",
     "shell.execute_reply": "2022-07-13T06:50:39.364833Z"
    },
    "papermill": {
     "duration": 1.470246,
     "end_time": "2022-07-13T06:50:39.367882",
     "exception": false,
     "start_time": "2022-07-13T06:50:37.897636",
     "status": "completed"
    },
    "tags": []
   },
   "outputs": [
    {
     "name": "stderr",
     "output_type": "stream",
     "text": [
      "2022-07-13 06:50:38,883\tWARNING worker.py:1245 -- (ip=172.17.0.2) The agent on node 42d04d070590 failed to be restarted 5 times. There are 3 possible problems if you see this error.\n",
      "  1. The dashboard might not display correct information on this node.\n",
      "  2. Metrics on this node won't be reported.\n",
      "  3. runtime_env APIs won't work.\n",
      "Check out the `dashboard_agent.log` to see the detailed failure messages.\n"
     ]
    }
   ],
   "source": [
    "from sklearn import datasets\n",
    "\n",
    "#\n",
    "from common.io import datalake_root, write_numpy"
   ]
  },
  {
   "cell_type": "code",
   "execution_count": 8,
   "id": "caf2adf6",
   "metadata": {
    "execution": {
     "iopub.execute_input": "2022-07-13T06:50:39.377234Z",
     "iopub.status.busy": "2022-07-13T06:50:39.376632Z",
     "iopub.status.idle": "2022-07-13T06:50:39.391164Z",
     "shell.execute_reply": "2022-07-13T06:50:39.390183Z"
    },
    "lines_to_next_cell": 2,
    "papermill": {
     "duration": 0.021416,
     "end_time": "2022-07-13T06:50:39.393656",
     "exception": false,
     "start_time": "2022-07-13T06:50:39.372240",
     "status": "completed"
    },
    "tags": []
   },
   "outputs": [],
   "source": [
    "digits = datasets.load_digits()\n",
    "\n",
    "X = digits[\"data\"]\n",
    "y = digits[\"target\"]"
   ]
  },
  {
   "cell_type": "code",
   "execution_count": 9,
   "id": "718b18db",
   "metadata": {
    "execution": {
     "iopub.execute_input": "2022-07-13T06:50:39.401975Z",
     "iopub.status.busy": "2022-07-13T06:50:39.401560Z",
     "iopub.status.idle": "2022-07-13T06:50:39.418173Z",
     "shell.execute_reply": "2022-07-13T06:50:39.417416Z"
    },
    "papermill": {
     "duration": 0.023413,
     "end_time": "2022-07-13T06:50:39.420110",
     "exception": false,
     "start_time": "2022-07-13T06:50:39.396697",
     "status": "completed"
    },
    "tags": []
   },
   "outputs": [
    {
     "name": "stdout",
     "output_type": "stream",
     "text": [
      " - Logging data_shape (json) : [1797, 64]\n",
      " - Logging target_shape (json) : [1797]\n"
     ]
    },
    {
     "data": {
      "text/plain": [
       "((1797, 64), (1797,))"
      ]
     },
     "execution_count": 9,
     "metadata": {},
     "output_type": "execute_result"
    }
   ],
   "source": [
    "logger.log_value(\"data_shape\", list(X.shape))\n",
    "logger.log_value(\"target_shape\", list(y.shape))\n",
    "\n",
    "X.shape, y.shape"
   ]
  },
  {
   "cell_type": "code",
   "execution_count": 10,
   "id": "8a6bf9e4",
   "metadata": {
    "execution": {
     "iopub.execute_input": "2022-07-13T06:50:39.431007Z",
     "iopub.status.busy": "2022-07-13T06:50:39.430400Z",
     "iopub.status.idle": "2022-07-13T06:50:39.441531Z",
     "shell.execute_reply": "2022-07-13T06:50:39.440671Z"
    },
    "papermill": {
     "duration": 0.019933,
     "end_time": "2022-07-13T06:50:39.443484",
     "exception": false,
     "start_time": "2022-07-13T06:50:39.423551",
     "status": "completed"
    },
    "tags": []
   },
   "outputs": [],
   "source": [
    "write_numpy(datalake_root(P) / \"raw\" / \"digits.numpy\", X)\n",
    "write_numpy(datalake_root(P) / \"raw\" / \"labels.numpy\", y)"
   ]
  },
  {
   "cell_type": "code",
   "execution_count": null,
   "id": "741ed802",
   "metadata": {
    "papermill": {
     "duration": 0.00324,
     "end_time": "2022-07-13T06:50:39.449597",
     "exception": false,
     "start_time": "2022-07-13T06:50:39.446357",
     "status": "completed"
    },
    "tags": []
   },
   "outputs": [],
   "source": []
  }
 ],
 "metadata": {
  "jupytext": {
   "cell_metadata_filter": "tags,-all",
   "main_language": "python",
   "notebook_metadata_filter": "-all"
  },
  "language_info": {
   "codemirror_mode": {
    "name": "ipython",
    "version": 3
   },
   "file_extension": ".py",
   "mimetype": "text/x-python",
   "name": "python",
   "nbconvert_exporter": "python",
   "pygments_lexer": "ipython3",
   "version": "3.8.10"
  },
  "papermill": {
   "default_parameters": {},
   "duration": 4.2701,
   "end_time": "2022-07-13T06:50:40.272499",
   "environment_variables": {},
   "exception": null,
   "input_path": "/home/host_user/workspace/mnist-demo-pipeline/mnist-demo-pipeline/notebooks/temp-notebook-0j0p86wp.ipynb",
   "output_path": "notebooks/ingest.ipynb",
   "parameters": {
    "P": {
     "_opentelemetry_traceparent": "00-5f05c8a8f596272cb475eba0e8c4eafa-315d14142ca28569-01",
     "pipeline.data_lake_root": "/pipeline-outputs/data-lake",
     "pipeline.github.actor": "matiasdahl",
     "pipeline.github.base_ref": "",
     "pipeline.github.event_name": "schedule",
     "pipeline.github.head_ref": "",
     "pipeline.github.job": "run-tests-pipeline-and-persist-pipeline-outputs",
     "pipeline.github.ref": "refs/heads/development",
     "pipeline.github.ref_name": "development",
     "pipeline.github.ref_type": "branch",
     "pipeline.github.repository": "pynb-dag-runner/mnist-digits-demo-pipeline",
     "pipeline.github.run_id": "2661518739",
     "pipeline.github.runner_name": "Hosted Agent",
     "pipeline.github.sha": "147a1be9916173fd4d2cd011d8d51e3411215850",
     "pipeline.github.workflow": "Run automated tests, pipeline and deploy results to static reporting site",
     "pipeline.pipeline_run_id": "b793658f-ac86-45f8-897e-51ff5314ae09",
     "pipeline.run_environment": "ci",
     "run.retry_nr": "10",
     "task.max_nr_retries": "15",
     "task.notebook": "notebooks/ingest.py",
     "task.num_cpus": 1,
     "task.timeout_s": "10"
    }
   },
   "start_time": "2022-07-13T06:50:36.002399",
   "version": "2.3.3"
  }
 },
 "nbformat": 4,
 "nbformat_minor": 5
}