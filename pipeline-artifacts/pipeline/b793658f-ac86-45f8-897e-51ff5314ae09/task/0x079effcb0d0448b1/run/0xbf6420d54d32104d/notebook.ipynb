{
 "cells": [
  {
   "cell_type": "markdown",
   "id": "851cc728",
   "metadata": {
    "papermill": {
     "duration": 0.006046,
     "end_time": "2022-07-13T06:50:53.732662",
     "exception": false,
     "start_time": "2022-07-13T06:50:53.726616",
     "status": "completed"
    },
    "tags": []
   },
   "source": [
    "# Train model\n",
    "\n",
    "The purpose of this notebook is:\n",
    "\n",
    "- Load all training data (images and labels).\n",
    "- Limit number of train images to `task.nr_train_images` (value provided as run parameter).\n",
    "- Train a support vector machine model using sklearn.\n",
    "- Persist the trained model using the ONNX format."
   ]
  },
  {
   "cell_type": "markdown",
   "id": "2535bd27",
   "metadata": {
    "papermill": {
     "duration": 0.003581,
     "end_time": "2022-07-13T06:50:53.740132",
     "exception": false,
     "start_time": "2022-07-13T06:50:53.736551",
     "status": "completed"
    },
    "tags": []
   },
   "source": [
    "### Determine run parameters"
   ]
  },
  {
   "cell_type": "code",
   "execution_count": 1,
   "id": "ae7d50a7",
   "metadata": {
    "execution": {
     "iopub.execute_input": "2022-07-13T06:50:53.749124Z",
     "iopub.status.busy": "2022-07-13T06:50:53.748762Z",
     "iopub.status.idle": "2022-07-13T06:50:53.760435Z",
     "shell.execute_reply": "2022-07-13T06:50:53.759777Z"
    },
    "lines_to_next_cell": 0,
    "papermill": {
     "duration": 0.019893,
     "end_time": "2022-07-13T06:50:53.763814",
     "exception": false,
     "start_time": "2022-07-13T06:50:53.743921",
     "status": "completed"
    },
    "tags": []
   },
   "outputs": [],
   "source": [
    "# ----------------- Parameters for interactive development --------------\n",
    "P = {\n",
    "    \"pipeline.data_lake_root\": \"/pipeline-outputs/data-lake\",\n",
    "    \"task.nr_train_images\": 600,\n",
    "}"
   ]
  },
  {
   "cell_type": "code",
   "execution_count": 2,
   "id": "9126b76a",
   "metadata": {
    "execution": {
     "iopub.execute_input": "2022-07-13T06:50:53.772560Z",
     "iopub.status.busy": "2022-07-13T06:50:53.772340Z",
     "iopub.status.idle": "2022-07-13T06:50:53.776060Z",
     "shell.execute_reply": "2022-07-13T06:50:53.775327Z"
    },
    "lines_to_next_cell": 0,
    "papermill": {
     "duration": 0.011863,
     "end_time": "2022-07-13T06:50:53.779298",
     "exception": false,
     "start_time": "2022-07-13T06:50:53.767435",
     "status": "completed"
    },
    "tags": [
     "parameters"
    ]
   },
   "outputs": [],
   "source": [
    "# - During automated runs parameters will be injected in the below cell -"
   ]
  },
  {
   "cell_type": "code",
   "execution_count": 3,
   "id": "7f468b02",
   "metadata": {
    "execution": {
     "iopub.execute_input": "2022-07-13T06:50:53.787822Z",
     "iopub.status.busy": "2022-07-13T06:50:53.787534Z",
     "iopub.status.idle": "2022-07-13T06:50:53.792727Z",
     "shell.execute_reply": "2022-07-13T06:50:53.792069Z"
    },
    "papermill": {
     "duration": 0.016645,
     "end_time": "2022-07-13T06:50:53.799445",
     "exception": false,
     "start_time": "2022-07-13T06:50:53.782800",
     "status": "completed"
    },
    "tags": [
     "injected-parameters"
    ]
   },
   "outputs": [],
   "source": [
    "# Parameters\n",
    "P = {\n",
    "    \"pipeline.data_lake_root\": \"/pipeline-outputs/data-lake\",\n",
    "    \"pipeline.run_environment\": \"ci\",\n",
    "    \"pipeline.pipeline_run_id\": \"b793658f-ac86-45f8-897e-51ff5314ae09\",\n",
    "    \"pipeline.github.repository\": \"pynb-dag-runner/mnist-digits-demo-pipeline\",\n",
    "    \"pipeline.github.workflow\": \"Run automated tests, pipeline and deploy results to static reporting site\",\n",
    "    \"pipeline.github.runner_name\": \"Hosted Agent\",\n",
    "    \"pipeline.github.run_id\": \"2661518739\",\n",
    "    \"pipeline.github.actor\": \"matiasdahl\",\n",
    "    \"pipeline.github.job\": \"run-tests-pipeline-and-persist-pipeline-outputs\",\n",
    "    \"pipeline.github.base_ref\": \"\",\n",
    "    \"pipeline.github.head_ref\": \"\",\n",
    "    \"pipeline.github.sha\": \"147a1be9916173fd4d2cd011d8d51e3411215850\",\n",
    "    \"pipeline.github.ref\": \"refs/heads/development\",\n",
    "    \"pipeline.github.ref_type\": \"branch\",\n",
    "    \"pipeline.github.ref_name\": \"development\",\n",
    "    \"pipeline.github.event_name\": \"schedule\",\n",
    "    \"task.nr_train_images\": 600,\n",
    "    \"task.notebook\": \"notebooks/train-model.py\",\n",
    "    \"task.max_nr_retries\": \"1\",\n",
    "    \"run.retry_nr\": \"0\",\n",
    "    \"task.timeout_s\": \"None\",\n",
    "    \"task.num_cpus\": 1,\n",
    "    \"_opentelemetry_traceparent\": \"00-5f05c8a8f596272cb475eba0e8c4eafa-965e05b1daa9a115-01\",\n",
    "}\n"
   ]
  },
  {
   "cell_type": "code",
   "execution_count": 4,
   "id": "cb2a07a0",
   "metadata": {
    "execution": {
     "iopub.execute_input": "2022-07-13T06:50:53.808767Z",
     "iopub.status.busy": "2022-07-13T06:50:53.808450Z",
     "iopub.status.idle": "2022-07-13T06:50:53.812324Z",
     "shell.execute_reply": "2022-07-13T06:50:53.810971Z"
    },
    "lines_to_next_cell": 0,
    "papermill": {
     "duration": 0.011988,
     "end_time": "2022-07-13T06:50:53.816003",
     "exception": false,
     "start_time": "2022-07-13T06:50:53.804015",
     "status": "completed"
    },
    "tags": []
   },
   "outputs": [],
   "source": [
    "# -----------------------------------------------------------------------"
   ]
  },
  {
   "cell_type": "markdown",
   "id": "84721cd9",
   "metadata": {
    "papermill": {
     "duration": 0.003579,
     "end_time": "2022-07-13T06:50:53.823459",
     "exception": false,
     "start_time": "2022-07-13T06:50:53.819880",
     "status": "completed"
    },
    "tags": []
   },
   "source": [
    "---"
   ]
  },
  {
   "cell_type": "markdown",
   "id": "e9c258bc",
   "metadata": {
    "lines_to_next_cell": 2,
    "papermill": {
     "duration": 0.00398,
     "end_time": "2022-07-13T06:50:53.831752",
     "exception": false,
     "start_time": "2022-07-13T06:50:53.827772",
     "status": "completed"
    },
    "tags": []
   },
   "source": [
    "### Notebook code"
   ]
  },
  {
   "cell_type": "code",
   "execution_count": 5,
   "id": "4343833f",
   "metadata": {
    "execution": {
     "iopub.execute_input": "2022-07-13T06:50:53.841295Z",
     "iopub.status.busy": "2022-07-13T06:50:53.840692Z",
     "iopub.status.idle": "2022-07-13T06:50:54.426267Z",
     "shell.execute_reply": "2022-07-13T06:50:54.425389Z"
    },
    "papermill": {
     "duration": 0.593228,
     "end_time": "2022-07-13T06:50:54.429124",
     "exception": false,
     "start_time": "2022-07-13T06:50:53.835896",
     "status": "completed"
    },
    "tags": []
   },
   "outputs": [
    {
     "name": "stderr",
     "output_type": "stream",
     "text": [
      "2022-07-13 06:50:54,233\tINFO worker.py:842 -- Connecting to existing Ray cluster at address: 172.17.0.2:6379\n"
     ]
    }
   ],
   "source": [
    "from pynb_dag_runner.tasks.task_opentelemetry_logging import PydarLogger\n",
    "\n",
    "logger = PydarLogger(P)"
   ]
  },
  {
   "cell_type": "markdown",
   "id": "11496f51",
   "metadata": {
    "papermill": {
     "duration": 0.004701,
     "end_time": "2022-07-13T06:50:54.439047",
     "exception": false,
     "start_time": "2022-07-13T06:50:54.434346",
     "status": "completed"
    },
    "tags": []
   },
   "source": [
    "## Load and limit train data"
   ]
  },
  {
   "cell_type": "code",
   "execution_count": 6,
   "id": "57ba3755",
   "metadata": {
    "execution": {
     "iopub.execute_input": "2022-07-13T06:50:54.448389Z",
     "iopub.status.busy": "2022-07-13T06:50:54.448039Z",
     "iopub.status.idle": "2022-07-13T06:50:54.946989Z",
     "shell.execute_reply": "2022-07-13T06:50:54.946168Z"
    },
    "papermill": {
     "duration": 0.506363,
     "end_time": "2022-07-13T06:50:54.949814",
     "exception": false,
     "start_time": "2022-07-13T06:50:54.443451",
     "status": "completed"
    },
    "tags": []
   },
   "outputs": [],
   "source": [
    "def load_and_limit_train_data(P):\n",
    "    from common.io import datalake_root, read_numpy\n",
    "    from sklearn.model_selection import train_test_split\n",
    "\n",
    "    X_train_all = read_numpy(datalake_root(P) / \"train-data\" / \"digits.numpy\")\n",
    "    y_train_all = read_numpy(datalake_root(P) / \"train-data\" / \"labels.numpy\")\n",
    "\n",
    "    assert isinstance(P[\"task.nr_train_images\"], int)\n",
    "\n",
    "    # Note: train_test_split will fail if split is 0 or 100%.\n",
    "    assert 0 < P[\"task.nr_train_images\"] < len(y_train_all)\n",
    "\n",
    "    X_train, _, y_train, _ = train_test_split(\n",
    "        X_train_all,\n",
    "        y_train_all,\n",
    "        train_size=P[\"task.nr_train_images\"],\n",
    "        test_size=None,\n",
    "        stratify=y_train_all,\n",
    "        shuffle=True,\n",
    "        random_state=123,\n",
    "    )\n",
    "\n",
    "    assert X_train.shape == (len(y_train), 8 * 8)\n",
    "    return X_train, y_train\n",
    "\n",
    "\n",
    "X_train, y_train = load_and_limit_train_data(P)"
   ]
  },
  {
   "cell_type": "markdown",
   "id": "7504a75e",
   "metadata": {
    "papermill": {
     "duration": 0.003323,
     "end_time": "2022-07-13T06:50:54.957595",
     "exception": false,
     "start_time": "2022-07-13T06:50:54.954272",
     "status": "completed"
    },
    "tags": []
   },
   "source": [
    "## Train support vector classifier model\n",
    "\n",
    "Below we assume that the hyperparameter $C$ is known.\n",
    "\n",
    "However, this should ideally be found by a hyperparameter search. That could be\n",
    "done in parallel on the Ray cluster, but this needs some more work. Ie., to use\n",
    "multiple cores in the notebook, those cores should be reserved when starting the\n",
    "notebook task (TODO).\n",
    "\n",
    "- https://docs.ray.io/en/latest/tune/key-concepts.html\n",
    "\n",
    "Note: cv-scores would need to be computed here, since they depend on the train data.\n",
    "After this notebook only the onnx-model is available."
   ]
  },
  {
   "cell_type": "code",
   "execution_count": 7,
   "id": "dd3853ea",
   "metadata": {
    "execution": {
     "iopub.execute_input": "2022-07-13T06:50:54.966050Z",
     "iopub.status.busy": "2022-07-13T06:50:54.965774Z",
     "iopub.status.idle": "2022-07-13T06:50:54.992594Z",
     "shell.execute_reply": "2022-07-13T06:50:54.991651Z"
    },
    "papermill": {
     "duration": 0.032833,
     "end_time": "2022-07-13T06:50:54.994432",
     "exception": false,
     "start_time": "2022-07-13T06:50:54.961599",
     "status": "completed"
    },
    "tags": []
   },
   "outputs": [],
   "source": [
    "from sklearn.svm import SVC"
   ]
  },
  {
   "cell_type": "code",
   "execution_count": 8,
   "id": "56e19698",
   "metadata": {
    "execution": {
     "iopub.execute_input": "2022-07-13T06:50:55.014555Z",
     "iopub.status.busy": "2022-07-13T06:50:55.013634Z",
     "iopub.status.idle": "2022-07-13T06:50:55.124549Z",
     "shell.execute_reply": "2022-07-13T06:50:55.123662Z"
    },
    "papermill": {
     "duration": 0.127461,
     "end_time": "2022-07-13T06:50:55.126559",
     "exception": false,
     "start_time": "2022-07-13T06:50:54.999098",
     "status": "completed"
    },
    "tags": []
   },
   "outputs": [
    {
     "data": {
      "text/plain": [
       "SVC(C=0.001, kernel='linear', probability=True)"
      ]
     },
     "execution_count": 8,
     "metadata": {},
     "output_type": "execute_result"
    }
   ],
   "source": [
    "model = SVC(C=0.001, kernel=\"linear\", probability=True)\n",
    "\n",
    "model.fit(X_train, y_train)"
   ]
  },
  {
   "cell_type": "markdown",
   "id": "905dfc42",
   "metadata": {
    "papermill": {
     "duration": 0.006069,
     "end_time": "2022-07-13T06:50:55.136427",
     "exception": false,
     "start_time": "2022-07-13T06:50:55.130358",
     "status": "completed"
    },
    "tags": []
   },
   "source": [
    "### Q: Can the labels returned by `predict(..)` be computed from probabilities returned by the `predict_prob`-method?"
   ]
  },
  {
   "cell_type": "code",
   "execution_count": 9,
   "id": "9b01e485",
   "metadata": {
    "execution": {
     "iopub.execute_input": "2022-07-13T06:50:55.146054Z",
     "iopub.status.busy": "2022-07-13T06:50:55.145662Z",
     "iopub.status.idle": "2022-07-13T06:50:55.189728Z",
     "shell.execute_reply": "2022-07-13T06:50:55.188978Z"
    },
    "papermill": {
     "duration": 0.05208,
     "end_time": "2022-07-13T06:50:55.192073",
     "exception": false,
     "start_time": "2022-07-13T06:50:55.139993",
     "status": "completed"
    },
    "tags": []
   },
   "outputs": [
    {
     "name": "stdout",
     "output_type": "stream",
     "text": [
      " - Logging nr_max_prob_neq_label (int) : 2\n"
     ]
    }
   ],
   "source": [
    "import numpy as np\n",
    "\n",
    "y_train_labels = model.predict(X_train)\n",
    "y_train_probabilities = model.predict_proba(X_train)\n",
    "assert y_train_probabilities.shape == (len(y_train), 10)\n",
    "\n",
    "y_train_max_prob_labels = np.argmax(y_train_probabilities, axis=1)\n",
    "assert y_train_labels.shape == y_train_max_prob_labels.shape == y_train.shape\n",
    "\n",
    "# If the predicted labels would coincide with the labels that have\n",
    "# maximum probability, the below number would be zero\n",
    "logger.log_int(\n",
    "    \"nr_max_prob_neq_label\", int(sum(y_train_max_prob_labels != y_train_labels))\n",
    ")"
   ]
  },
  {
   "cell_type": "markdown",
   "id": "d9dbe8fb",
   "metadata": {
    "papermill": {
     "duration": 0.003955,
     "end_time": "2022-07-13T06:50:55.200003",
     "exception": false,
     "start_time": "2022-07-13T06:50:55.196048",
     "status": "completed"
    },
    "tags": []
   },
   "source": [
    "The explanation is (likely) explained in the SVC source, see\n",
    "[here](https://github.com/scikit-learn/scikit-learn/blob/main/sklearn/svm/_base.py).\n",
    "Namely, the outputs from `predict(..)` and `predict_proba(..)` may not in some\n",
    "cases be compatible since the latter is computed using cross-validation while\n",
    "the former is not. Thus, the above number need not be zero."
   ]
  },
  {
   "cell_type": "markdown",
   "id": "91c16c7d",
   "metadata": {
    "papermill": {
     "duration": 0.004651,
     "end_time": "2022-07-13T06:50:55.208473",
     "exception": false,
     "start_time": "2022-07-13T06:50:55.203822",
     "status": "completed"
    },
    "tags": []
   },
   "source": [
    "## Persist model"
   ]
  },
  {
   "cell_type": "code",
   "execution_count": 10,
   "id": "3306a9bd",
   "metadata": {
    "execution": {
     "iopub.execute_input": "2022-07-13T06:50:55.217732Z",
     "iopub.status.busy": "2022-07-13T06:50:55.217449Z",
     "iopub.status.idle": "2022-07-13T06:50:56.157413Z",
     "shell.execute_reply": "2022-07-13T06:50:56.156628Z"
    },
    "papermill": {
     "duration": 0.947286,
     "end_time": "2022-07-13T06:50:56.159652",
     "exception": false,
     "start_time": "2022-07-13T06:50:55.212366",
     "status": "completed"
    },
    "tags": []
   },
   "outputs": [],
   "source": [
    "from skl2onnx import convert_sklearn\n",
    "from skl2onnx.common.data_types import FloatTensorType\n",
    "\n",
    "#\n",
    "from common.io import datalake_root, write_onnx"
   ]
  },
  {
   "cell_type": "code",
   "execution_count": 11,
   "id": "40698bb1",
   "metadata": {
    "execution": {
     "iopub.execute_input": "2022-07-13T06:50:56.171188Z",
     "iopub.status.busy": "2022-07-13T06:50:56.170347Z",
     "iopub.status.idle": "2022-07-13T06:50:56.222330Z",
     "shell.execute_reply": "2022-07-13T06:50:56.221603Z"
    },
    "papermill": {
     "duration": 0.059596,
     "end_time": "2022-07-13T06:50:56.224456",
     "exception": false,
     "start_time": "2022-07-13T06:50:56.164860",
     "status": "completed"
    },
    "tags": []
   },
   "outputs": [],
   "source": [
    "# convert sklearn model into onnx and persist to data lake\n",
    "\n",
    "model_onnx = convert_sklearn(\n",
    "    model, initial_types=[(\"float_input_8x8_image\", FloatTensorType([None, 8 * 8]))]\n",
    ")\n",
    "write_onnx(\n",
    "    datalake_root(P)\n",
    "    / \"models\"\n",
    "    / f\"nr_train_images={P['task.nr_train_images']}\"\n",
    "    / \"model.onnx\",\n",
    "    model_onnx,\n",
    ")"
   ]
  },
  {
   "cell_type": "code",
   "execution_count": null,
   "id": "470de570",
   "metadata": {
    "papermill": {
     "duration": 0.004508,
     "end_time": "2022-07-13T06:50:56.233760",
     "exception": false,
     "start_time": "2022-07-13T06:50:56.229252",
     "status": "completed"
    },
    "tags": []
   },
   "outputs": [],
   "source": []
  }
 ],
 "metadata": {
  "jupytext": {
   "cell_metadata_filter": "tags,-all",
   "main_language": "python",
   "notebook_metadata_filter": "-all"
  },
  "language_info": {
   "codemirror_mode": {
    "name": "ipython",
    "version": 3
   },
   "file_extension": ".py",
   "mimetype": "text/x-python",
   "name": "python",
   "nbconvert_exporter": "python",
   "pygments_lexer": "ipython3",
   "version": "3.8.10"
  },
  "papermill": {
   "default_parameters": {},
   "duration": 4.956285,
   "end_time": "2022-07-13T06:50:57.363818",
   "environment_variables": {},
   "exception": null,
   "input_path": "/home/host_user/workspace/mnist-demo-pipeline/mnist-demo-pipeline/notebooks/temp-notebook-f06h5ydx.ipynb",
   "output_path": "notebooks/train-model.ipynb",
   "parameters": {
    "P": {
     "_opentelemetry_traceparent": "00-5f05c8a8f596272cb475eba0e8c4eafa-965e05b1daa9a115-01",
     "pipeline.data_lake_root": "/pipeline-outputs/data-lake",
     "pipeline.github.actor": "matiasdahl",
     "pipeline.github.base_ref": "",
     "pipeline.github.event_name": "schedule",
     "pipeline.github.head_ref": "",
     "pipeline.github.job": "run-tests-pipeline-and-persist-pipeline-outputs",
     "pipeline.github.ref": "refs/heads/development",
     "pipeline.github.ref_name": "development",
     "pipeline.github.ref_type": "branch",
     "pipeline.github.repository": "pynb-dag-runner/mnist-digits-demo-pipeline",
     "pipeline.github.run_id": "2661518739",
     "pipeline.github.runner_name": "Hosted Agent",
     "pipeline.github.sha": "147a1be9916173fd4d2cd011d8d51e3411215850",
     "pipeline.github.workflow": "Run automated tests, pipeline and deploy results to static reporting site",
     "pipeline.pipeline_run_id": "b793658f-ac86-45f8-897e-51ff5314ae09",
     "pipeline.run_environment": "ci",
     "run.retry_nr": "0",
     "task.max_nr_retries": "1",
     "task.notebook": "notebooks/train-model.py",
     "task.nr_train_images": 600,
     "task.num_cpus": 1,
     "task.timeout_s": "None"
    }
   },
   "start_time": "2022-07-13T06:50:52.407533",
   "version": "2.3.3"
  }
 },
 "nbformat": 4,
 "nbformat_minor": 5
}