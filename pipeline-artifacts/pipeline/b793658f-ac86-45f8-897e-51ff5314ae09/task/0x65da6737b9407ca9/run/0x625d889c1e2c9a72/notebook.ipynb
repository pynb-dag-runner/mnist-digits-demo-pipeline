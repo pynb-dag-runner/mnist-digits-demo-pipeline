{
 "cells": [
  {
   "cell_type": "markdown",
   "id": "bb8ef548",
   "metadata": {
    "papermill": {
     "duration": 0.005356,
     "end_time": "2022-07-13T06:50:55.830804",
     "exception": false,
     "start_time": "2022-07-13T06:50:55.825448",
     "status": "completed"
    },
    "tags": []
   },
   "source": [
    "# Train model\n",
    "\n",
    "The purpose of this notebook is:\n",
    "\n",
    "- Load all training data (images and labels).\n",
    "- Limit number of train images to `task.nr_train_images` (value provided as run parameter).\n",
    "- Train a support vector machine model using sklearn.\n",
    "- Persist the trained model using the ONNX format."
   ]
  },
  {
   "cell_type": "markdown",
   "id": "bf339b66",
   "metadata": {
    "papermill": {
     "duration": 0.003279,
     "end_time": "2022-07-13T06:50:55.838745",
     "exception": false,
     "start_time": "2022-07-13T06:50:55.835466",
     "status": "completed"
    },
    "tags": []
   },
   "source": [
    "### Determine run parameters"
   ]
  },
  {
   "cell_type": "code",
   "execution_count": 1,
   "id": "b6429cc2",
   "metadata": {
    "execution": {
     "iopub.execute_input": "2022-07-13T06:50:55.849888Z",
     "iopub.status.busy": "2022-07-13T06:50:55.849510Z",
     "iopub.status.idle": "2022-07-13T06:50:55.862887Z",
     "shell.execute_reply": "2022-07-13T06:50:55.861279Z"
    },
    "lines_to_next_cell": 0,
    "papermill": {
     "duration": 0.02281,
     "end_time": "2022-07-13T06:50:55.865000",
     "exception": false,
     "start_time": "2022-07-13T06:50:55.842190",
     "status": "completed"
    },
    "tags": []
   },
   "outputs": [],
   "source": [
    "# ----------------- Parameters for interactive development --------------\n",
    "P = {\n",
    "    \"pipeline.data_lake_root\": \"/pipeline-outputs/data-lake\",\n",
    "    \"task.nr_train_images\": 600,\n",
    "}"
   ]
  },
  {
   "cell_type": "code",
   "execution_count": 2,
   "id": "739655b3",
   "metadata": {
    "execution": {
     "iopub.execute_input": "2022-07-13T06:50:55.874137Z",
     "iopub.status.busy": "2022-07-13T06:50:55.873613Z",
     "iopub.status.idle": "2022-07-13T06:50:55.877123Z",
     "shell.execute_reply": "2022-07-13T06:50:55.876389Z"
    },
    "lines_to_next_cell": 0,
    "papermill": {
     "duration": 0.012365,
     "end_time": "2022-07-13T06:50:55.880723",
     "exception": false,
     "start_time": "2022-07-13T06:50:55.868358",
     "status": "completed"
    },
    "tags": [
     "parameters"
    ]
   },
   "outputs": [],
   "source": [
    "# - During automated runs parameters will be injected in the below cell -"
   ]
  },
  {
   "cell_type": "code",
   "execution_count": 3,
   "id": "a5e391fc",
   "metadata": {
    "execution": {
     "iopub.execute_input": "2022-07-13T06:50:55.888793Z",
     "iopub.status.busy": "2022-07-13T06:50:55.888564Z",
     "iopub.status.idle": "2022-07-13T06:50:55.894079Z",
     "shell.execute_reply": "2022-07-13T06:50:55.893472Z"
    },
    "papermill": {
     "duration": 0.013172,
     "end_time": "2022-07-13T06:50:55.897698",
     "exception": false,
     "start_time": "2022-07-13T06:50:55.884526",
     "status": "completed"
    },
    "tags": [
     "injected-parameters"
    ]
   },
   "outputs": [],
   "source": [
    "# Parameters\n",
    "P = {\n",
    "    \"pipeline.data_lake_root\": \"/pipeline-outputs/data-lake\",\n",
    "    \"pipeline.run_environment\": \"ci\",\n",
    "    \"pipeline.pipeline_run_id\": \"b793658f-ac86-45f8-897e-51ff5314ae09\",\n",
    "    \"pipeline.github.repository\": \"pynb-dag-runner/mnist-digits-demo-pipeline\",\n",
    "    \"pipeline.github.workflow\": \"Run automated tests, pipeline and deploy results to static reporting site\",\n",
    "    \"pipeline.github.runner_name\": \"Hosted Agent\",\n",
    "    \"pipeline.github.run_id\": \"2661518739\",\n",
    "    \"pipeline.github.actor\": \"matiasdahl\",\n",
    "    \"pipeline.github.job\": \"run-tests-pipeline-and-persist-pipeline-outputs\",\n",
    "    \"pipeline.github.base_ref\": \"\",\n",
    "    \"pipeline.github.head_ref\": \"\",\n",
    "    \"pipeline.github.sha\": \"147a1be9916173fd4d2cd011d8d51e3411215850\",\n",
    "    \"pipeline.github.ref\": \"refs/heads/development\",\n",
    "    \"pipeline.github.ref_type\": \"branch\",\n",
    "    \"pipeline.github.ref_name\": \"development\",\n",
    "    \"pipeline.github.event_name\": \"schedule\",\n",
    "    \"task.nr_train_images\": 1000,\n",
    "    \"task.notebook\": \"notebooks/train-model.py\",\n",
    "    \"task.max_nr_retries\": \"1\",\n",
    "    \"run.retry_nr\": \"0\",\n",
    "    \"task.timeout_s\": \"None\",\n",
    "    \"task.num_cpus\": 1,\n",
    "    \"_opentelemetry_traceparent\": \"00-5f05c8a8f596272cb475eba0e8c4eafa-80e99a0ac3add8b3-01\",\n",
    "}\n"
   ]
  },
  {
   "cell_type": "code",
   "execution_count": 4,
   "id": "83395246",
   "metadata": {
    "execution": {
     "iopub.execute_input": "2022-07-13T06:50:55.906199Z",
     "iopub.status.busy": "2022-07-13T06:50:55.905958Z",
     "iopub.status.idle": "2022-07-13T06:50:55.909379Z",
     "shell.execute_reply": "2022-07-13T06:50:55.908577Z"
    },
    "lines_to_next_cell": 0,
    "papermill": {
     "duration": 0.011759,
     "end_time": "2022-07-13T06:50:55.913166",
     "exception": false,
     "start_time": "2022-07-13T06:50:55.901407",
     "status": "completed"
    },
    "tags": []
   },
   "outputs": [],
   "source": [
    "# -----------------------------------------------------------------------"
   ]
  },
  {
   "cell_type": "markdown",
   "id": "57fd1a1a",
   "metadata": {
    "papermill": {
     "duration": 0.003452,
     "end_time": "2022-07-13T06:50:55.919557",
     "exception": false,
     "start_time": "2022-07-13T06:50:55.916105",
     "status": "completed"
    },
    "tags": []
   },
   "source": [
    "---"
   ]
  },
  {
   "cell_type": "markdown",
   "id": "ea06a894",
   "metadata": {
    "lines_to_next_cell": 2,
    "papermill": {
     "duration": 0.003169,
     "end_time": "2022-07-13T06:50:55.926659",
     "exception": false,
     "start_time": "2022-07-13T06:50:55.923490",
     "status": "completed"
    },
    "tags": []
   },
   "source": [
    "### Notebook code"
   ]
  },
  {
   "cell_type": "code",
   "execution_count": 5,
   "id": "2b66b054",
   "metadata": {
    "execution": {
     "iopub.execute_input": "2022-07-13T06:50:55.935425Z",
     "iopub.status.busy": "2022-07-13T06:50:55.935204Z",
     "iopub.status.idle": "2022-07-13T06:50:56.475534Z",
     "shell.execute_reply": "2022-07-13T06:50:56.474132Z"
    },
    "papermill": {
     "duration": 0.548532,
     "end_time": "2022-07-13T06:50:56.478452",
     "exception": false,
     "start_time": "2022-07-13T06:50:55.929920",
     "status": "completed"
    },
    "tags": []
   },
   "outputs": [
    {
     "name": "stderr",
     "output_type": "stream",
     "text": [
      "2022-07-13 06:50:56,314\tINFO worker.py:842 -- Connecting to existing Ray cluster at address: 172.17.0.2:6379\n"
     ]
    }
   ],
   "source": [
    "from pynb_dag_runner.tasks.task_opentelemetry_logging import PydarLogger\n",
    "\n",
    "logger = PydarLogger(P)"
   ]
  },
  {
   "cell_type": "markdown",
   "id": "b1b13c39",
   "metadata": {
    "papermill": {
     "duration": 0.003303,
     "end_time": "2022-07-13T06:50:56.486005",
     "exception": false,
     "start_time": "2022-07-13T06:50:56.482702",
     "status": "completed"
    },
    "tags": []
   },
   "source": [
    "## Load and limit train data"
   ]
  },
  {
   "cell_type": "code",
   "execution_count": 6,
   "id": "23ae9498",
   "metadata": {
    "execution": {
     "iopub.execute_input": "2022-07-13T06:50:56.494491Z",
     "iopub.status.busy": "2022-07-13T06:50:56.493995Z",
     "iopub.status.idle": "2022-07-13T06:50:56.951780Z",
     "shell.execute_reply": "2022-07-13T06:50:56.950946Z"
    },
    "papermill": {
     "duration": 0.46447,
     "end_time": "2022-07-13T06:50:56.953992",
     "exception": false,
     "start_time": "2022-07-13T06:50:56.489522",
     "status": "completed"
    },
    "tags": []
   },
   "outputs": [],
   "source": [
    "def load_and_limit_train_data(P):\n",
    "    from common.io import datalake_root, read_numpy\n",
    "    from sklearn.model_selection import train_test_split\n",
    "\n",
    "    X_train_all = read_numpy(datalake_root(P) / \"train-data\" / \"digits.numpy\")\n",
    "    y_train_all = read_numpy(datalake_root(P) / \"train-data\" / \"labels.numpy\")\n",
    "\n",
    "    assert isinstance(P[\"task.nr_train_images\"], int)\n",
    "\n",
    "    # Note: train_test_split will fail if split is 0 or 100%.\n",
    "    assert 0 < P[\"task.nr_train_images\"] < len(y_train_all)\n",
    "\n",
    "    X_train, _, y_train, _ = train_test_split(\n",
    "        X_train_all,\n",
    "        y_train_all,\n",
    "        train_size=P[\"task.nr_train_images\"],\n",
    "        test_size=None,\n",
    "        stratify=y_train_all,\n",
    "        shuffle=True,\n",
    "        random_state=123,\n",
    "    )\n",
    "\n",
    "    assert X_train.shape == (len(y_train), 8 * 8)\n",
    "    return X_train, y_train\n",
    "\n",
    "\n",
    "X_train, y_train = load_and_limit_train_data(P)"
   ]
  },
  {
   "cell_type": "markdown",
   "id": "60bb8f9b",
   "metadata": {
    "papermill": {
     "duration": 0.0036,
     "end_time": "2022-07-13T06:50:56.961854",
     "exception": false,
     "start_time": "2022-07-13T06:50:56.958254",
     "status": "completed"
    },
    "tags": []
   },
   "source": [
    "## Train support vector classifier model\n",
    "\n",
    "Below we assume that the hyperparameter $C$ is known.\n",
    "\n",
    "However, this should ideally be found by a hyperparameter search. That could be\n",
    "done in parallel on the Ray cluster, but this needs some more work. Ie., to use\n",
    "multiple cores in the notebook, those cores should be reserved when starting the\n",
    "notebook task (TODO).\n",
    "\n",
    "- https://docs.ray.io/en/latest/tune/key-concepts.html\n",
    "\n",
    "Note: cv-scores would need to be computed here, since they depend on the train data.\n",
    "After this notebook only the onnx-model is available."
   ]
  },
  {
   "cell_type": "code",
   "execution_count": 7,
   "id": "36c91f53",
   "metadata": {
    "execution": {
     "iopub.execute_input": "2022-07-13T06:50:56.971820Z",
     "iopub.status.busy": "2022-07-13T06:50:56.971548Z",
     "iopub.status.idle": "2022-07-13T06:50:56.999830Z",
     "shell.execute_reply": "2022-07-13T06:50:56.999081Z"
    },
    "papermill": {
     "duration": 0.036626,
     "end_time": "2022-07-13T06:50:57.002138",
     "exception": false,
     "start_time": "2022-07-13T06:50:56.965512",
     "status": "completed"
    },
    "tags": []
   },
   "outputs": [],
   "source": [
    "from sklearn.svm import SVC"
   ]
  },
  {
   "cell_type": "code",
   "execution_count": 8,
   "id": "a4663099",
   "metadata": {
    "execution": {
     "iopub.execute_input": "2022-07-13T06:50:57.019715Z",
     "iopub.status.busy": "2022-07-13T06:50:57.019073Z",
     "iopub.status.idle": "2022-07-13T06:50:57.204522Z",
     "shell.execute_reply": "2022-07-13T06:50:57.203635Z"
    },
    "papermill": {
     "duration": 0.196788,
     "end_time": "2022-07-13T06:50:57.206712",
     "exception": false,
     "start_time": "2022-07-13T06:50:57.009924",
     "status": "completed"
    },
    "tags": []
   },
   "outputs": [
    {
     "data": {
      "text/plain": [
       "SVC(C=0.001, kernel='linear', probability=True)"
      ]
     },
     "execution_count": 8,
     "metadata": {},
     "output_type": "execute_result"
    }
   ],
   "source": [
    "model = SVC(C=0.001, kernel=\"linear\", probability=True)\n",
    "\n",
    "model.fit(X_train, y_train)"
   ]
  },
  {
   "cell_type": "markdown",
   "id": "b7d91e79",
   "metadata": {
    "papermill": {
     "duration": 0.00512,
     "end_time": "2022-07-13T06:50:57.216099",
     "exception": false,
     "start_time": "2022-07-13T06:50:57.210979",
     "status": "completed"
    },
    "tags": []
   },
   "source": [
    "### Q: Can the labels returned by `predict(..)` be computed from probabilities returned by the `predict_prob`-method?"
   ]
  },
  {
   "cell_type": "code",
   "execution_count": 9,
   "id": "c90fcd24",
   "metadata": {
    "execution": {
     "iopub.execute_input": "2022-07-13T06:50:57.225849Z",
     "iopub.status.busy": "2022-07-13T06:50:57.225526Z",
     "iopub.status.idle": "2022-07-13T06:50:57.308166Z",
     "shell.execute_reply": "2022-07-13T06:50:57.307032Z"
    },
    "papermill": {
     "duration": 0.090498,
     "end_time": "2022-07-13T06:50:57.310675",
     "exception": false,
     "start_time": "2022-07-13T06:50:57.220177",
     "status": "completed"
    },
    "tags": []
   },
   "outputs": [
    {
     "name": "stdout",
     "output_type": "stream",
     "text": [
      " - Logging nr_max_prob_neq_label (int) : 1\n"
     ]
    }
   ],
   "source": [
    "import numpy as np\n",
    "\n",
    "y_train_labels = model.predict(X_train)\n",
    "y_train_probabilities = model.predict_proba(X_train)\n",
    "assert y_train_probabilities.shape == (len(y_train), 10)\n",
    "\n",
    "y_train_max_prob_labels = np.argmax(y_train_probabilities, axis=1)\n",
    "assert y_train_labels.shape == y_train_max_prob_labels.shape == y_train.shape\n",
    "\n",
    "# If the predicted labels would coincide with the labels that have\n",
    "# maximum probability, the below number would be zero\n",
    "logger.log_int(\n",
    "    \"nr_max_prob_neq_label\", int(sum(y_train_max_prob_labels != y_train_labels))\n",
    ")"
   ]
  },
  {
   "cell_type": "markdown",
   "id": "8a88196e",
   "metadata": {
    "papermill": {
     "duration": 0.00411,
     "end_time": "2022-07-13T06:50:57.318727",
     "exception": false,
     "start_time": "2022-07-13T06:50:57.314617",
     "status": "completed"
    },
    "tags": []
   },
   "source": [
    "The explanation is (likely) explained in the SVC source, see\n",
    "[here](https://github.com/scikit-learn/scikit-learn/blob/main/sklearn/svm/_base.py).\n",
    "Namely, the outputs from `predict(..)` and `predict_proba(..)` may not in some\n",
    "cases be compatible since the latter is computed using cross-validation while\n",
    "the former is not. Thus, the above number need not be zero."
   ]
  },
  {
   "cell_type": "markdown",
   "id": "96c30d78",
   "metadata": {
    "papermill": {
     "duration": 0.003866,
     "end_time": "2022-07-13T06:50:57.326076",
     "exception": false,
     "start_time": "2022-07-13T06:50:57.322210",
     "status": "completed"
    },
    "tags": []
   },
   "source": [
    "## Persist model"
   ]
  },
  {
   "cell_type": "code",
   "execution_count": 10,
   "id": "8c27f8af",
   "metadata": {
    "execution": {
     "iopub.execute_input": "2022-07-13T06:50:57.334493Z",
     "iopub.status.busy": "2022-07-13T06:50:57.334062Z",
     "iopub.status.idle": "2022-07-13T06:50:58.310313Z",
     "shell.execute_reply": "2022-07-13T06:50:58.309311Z"
    },
    "papermill": {
     "duration": 0.982953,
     "end_time": "2022-07-13T06:50:58.312601",
     "exception": false,
     "start_time": "2022-07-13T06:50:57.329648",
     "status": "completed"
    },
    "tags": []
   },
   "outputs": [],
   "source": [
    "from skl2onnx import convert_sklearn\n",
    "from skl2onnx.common.data_types import FloatTensorType\n",
    "\n",
    "#\n",
    "from common.io import datalake_root, write_onnx"
   ]
  },
  {
   "cell_type": "code",
   "execution_count": 11,
   "id": "c3c50e70",
   "metadata": {
    "execution": {
     "iopub.execute_input": "2022-07-13T06:50:58.323200Z",
     "iopub.status.busy": "2022-07-13T06:50:58.322552Z",
     "iopub.status.idle": "2022-07-13T06:50:58.383185Z",
     "shell.execute_reply": "2022-07-13T06:50:58.382471Z"
    },
    "papermill": {
     "duration": 0.068728,
     "end_time": "2022-07-13T06:50:58.385131",
     "exception": false,
     "start_time": "2022-07-13T06:50:58.316403",
     "status": "completed"
    },
    "tags": []
   },
   "outputs": [],
   "source": [
    "# convert sklearn model into onnx and persist to data lake\n",
    "\n",
    "model_onnx = convert_sklearn(\n",
    "    model, initial_types=[(\"float_input_8x8_image\", FloatTensorType([None, 8 * 8]))]\n",
    ")\n",
    "write_onnx(\n",
    "    datalake_root(P)\n",
    "    / \"models\"\n",
    "    / f\"nr_train_images={P['task.nr_train_images']}\"\n",
    "    / \"model.onnx\",\n",
    "    model_onnx,\n",
    ")"
   ]
  },
  {
   "cell_type": "code",
   "execution_count": null,
   "id": "c02cb4f9",
   "metadata": {
    "papermill": {
     "duration": 0.00391,
     "end_time": "2022-07-13T06:50:58.393601",
     "exception": false,
     "start_time": "2022-07-13T06:50:58.389691",
     "status": "completed"
    },
    "tags": []
   },
   "outputs": [],
   "source": []
  }
 ],
 "metadata": {
  "jupytext": {
   "cell_metadata_filter": "tags,-all",
   "main_language": "python",
   "notebook_metadata_filter": "-all"
  },
  "language_info": {
   "codemirror_mode": {
    "name": "ipython",
    "version": 3
   },
   "file_extension": ".py",
   "mimetype": "text/x-python",
   "name": "python",
   "nbconvert_exporter": "python",
   "pygments_lexer": "ipython3",
   "version": "3.8.10"
  },
  "papermill": {
   "default_parameters": {},
   "duration": 5.143214,
   "end_time": "2022-07-13T06:50:59.524669",
   "environment_variables": {},
   "exception": null,
   "input_path": "/home/host_user/workspace/mnist-demo-pipeline/mnist-demo-pipeline/notebooks/temp-notebook-5mts1idb.ipynb",
   "output_path": "notebooks/train-model.ipynb",
   "parameters": {
    "P": {
     "_opentelemetry_traceparent": "00-5f05c8a8f596272cb475eba0e8c4eafa-80e99a0ac3add8b3-01",
     "pipeline.data_lake_root": "/pipeline-outputs/data-lake",
     "pipeline.github.actor": "matiasdahl",
     "pipeline.github.base_ref": "",
     "pipeline.github.event_name": "schedule",
     "pipeline.github.head_ref": "",
     "pipeline.github.job": "run-tests-pipeline-and-persist-pipeline-outputs",
     "pipeline.github.ref": "refs/heads/development",
     "pipeline.github.ref_name": "development",
     "pipeline.github.ref_type": "branch",
     "pipeline.github.repository": "pynb-dag-runner/mnist-digits-demo-pipeline",
     "pipeline.github.run_id": "2661518739",
     "pipeline.github.runner_name": "Hosted Agent",
     "pipeline.github.sha": "147a1be9916173fd4d2cd011d8d51e3411215850",
     "pipeline.github.workflow": "Run automated tests, pipeline and deploy results to static reporting site",
     "pipeline.pipeline_run_id": "b793658f-ac86-45f8-897e-51ff5314ae09",
     "pipeline.run_environment": "ci",
     "run.retry_nr": "0",
     "task.max_nr_retries": "1",
     "task.notebook": "notebooks/train-model.py",
     "task.nr_train_images": 1000,
     "task.num_cpus": 1,
     "task.timeout_s": "None"
    }
   },
   "start_time": "2022-07-13T06:50:54.381455",
   "version": "2.3.3"
  }
 },
 "nbformat": 4,
 "nbformat_minor": 5
}