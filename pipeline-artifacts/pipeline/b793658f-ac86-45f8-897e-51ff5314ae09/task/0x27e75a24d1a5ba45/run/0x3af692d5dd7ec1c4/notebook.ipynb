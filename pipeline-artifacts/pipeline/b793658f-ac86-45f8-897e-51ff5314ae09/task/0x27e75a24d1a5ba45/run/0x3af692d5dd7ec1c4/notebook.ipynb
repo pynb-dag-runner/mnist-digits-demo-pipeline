{
 "cells": [
  {
   "cell_type": "markdown",
   "id": "a6ad38b4",
   "metadata": {
    "papermill": {
     "duration": 0.005005,
     "end_time": "2022-07-13T06:50:43.147886",
     "exception": false,
     "start_time": "2022-07-13T06:50:43.142881",
     "status": "completed"
    },
    "tags": []
   },
   "source": [
    "# Split digits and labels into separate training and testing data sets"
   ]
  },
  {
   "cell_type": "markdown",
   "id": "88d2bb09",
   "metadata": {
    "papermill": {
     "duration": 0.002783,
     "end_time": "2022-07-13T06:50:43.154254",
     "exception": false,
     "start_time": "2022-07-13T06:50:43.151471",
     "status": "completed"
    },
    "tags": []
   },
   "source": [
    "### Determine run parameters"
   ]
  },
  {
   "cell_type": "code",
   "execution_count": 1,
   "id": "2e416607",
   "metadata": {
    "execution": {
     "iopub.execute_input": "2022-07-13T06:50:43.161226Z",
     "iopub.status.busy": "2022-07-13T06:50:43.160827Z",
     "iopub.status.idle": "2022-07-13T06:50:43.170455Z",
     "shell.execute_reply": "2022-07-13T06:50:43.169180Z"
    },
    "lines_to_next_cell": 0,
    "papermill": {
     "duration": 0.016359,
     "end_time": "2022-07-13T06:50:43.173056",
     "exception": false,
     "start_time": "2022-07-13T06:50:43.156697",
     "status": "completed"
    },
    "tags": []
   },
   "outputs": [],
   "source": [
    "# ----------------- Parameters for interactive development --------------\n",
    "P = {\n",
    "    \"pipeline.data_lake_root\": \"/pipeline-outputs/data-lake\",\n",
    "    \"task.train_test_ratio\": 0.7,\n",
    "}"
   ]
  },
  {
   "cell_type": "code",
   "execution_count": 2,
   "id": "28516404",
   "metadata": {
    "execution": {
     "iopub.execute_input": "2022-07-13T06:50:43.180831Z",
     "iopub.status.busy": "2022-07-13T06:50:43.180118Z",
     "iopub.status.idle": "2022-07-13T06:50:43.184689Z",
     "shell.execute_reply": "2022-07-13T06:50:43.183882Z"
    },
    "lines_to_next_cell": 0,
    "papermill": {
     "duration": 0.010995,
     "end_time": "2022-07-13T06:50:43.187024",
     "exception": false,
     "start_time": "2022-07-13T06:50:43.176029",
     "status": "completed"
    },
    "tags": [
     "parameters"
    ]
   },
   "outputs": [],
   "source": [
    "# - During automated runs parameters will be injected in the below cell -"
   ]
  },
  {
   "cell_type": "code",
   "execution_count": 3,
   "id": "1f99891d",
   "metadata": {
    "execution": {
     "iopub.execute_input": "2022-07-13T06:50:43.194055Z",
     "iopub.status.busy": "2022-07-13T06:50:43.193494Z",
     "iopub.status.idle": "2022-07-13T06:50:43.199351Z",
     "shell.execute_reply": "2022-07-13T06:50:43.198632Z"
    },
    "papermill": {
     "duration": 0.011847,
     "end_time": "2022-07-13T06:50:43.201429",
     "exception": false,
     "start_time": "2022-07-13T06:50:43.189582",
     "status": "completed"
    },
    "tags": [
     "injected-parameters"
    ]
   },
   "outputs": [],
   "source": [
    "# Parameters\n",
    "P = {\n",
    "    \"pipeline.data_lake_root\": \"/pipeline-outputs/data-lake\",\n",
    "    \"pipeline.run_environment\": \"ci\",\n",
    "    \"pipeline.pipeline_run_id\": \"b793658f-ac86-45f8-897e-51ff5314ae09\",\n",
    "    \"pipeline.github.repository\": \"pynb-dag-runner/mnist-digits-demo-pipeline\",\n",
    "    \"pipeline.github.workflow\": \"Run automated tests, pipeline and deploy results to static reporting site\",\n",
    "    \"pipeline.github.runner_name\": \"Hosted Agent\",\n",
    "    \"pipeline.github.run_id\": \"2661518739\",\n",
    "    \"pipeline.github.actor\": \"matiasdahl\",\n",
    "    \"pipeline.github.job\": \"run-tests-pipeline-and-persist-pipeline-outputs\",\n",
    "    \"pipeline.github.base_ref\": \"\",\n",
    "    \"pipeline.github.head_ref\": \"\",\n",
    "    \"pipeline.github.sha\": \"147a1be9916173fd4d2cd011d8d51e3411215850\",\n",
    "    \"pipeline.github.ref\": \"refs/heads/development\",\n",
    "    \"pipeline.github.ref_type\": \"branch\",\n",
    "    \"pipeline.github.ref_name\": \"development\",\n",
    "    \"pipeline.github.event_name\": \"schedule\",\n",
    "    \"task.train_test_ratio\": 0.7,\n",
    "    \"task.notebook\": \"notebooks/split-train-test.py\",\n",
    "    \"task.max_nr_retries\": \"1\",\n",
    "    \"run.retry_nr\": \"0\",\n",
    "    \"task.timeout_s\": \"None\",\n",
    "    \"task.num_cpus\": 1,\n",
    "    \"_opentelemetry_traceparent\": \"00-5f05c8a8f596272cb475eba0e8c4eafa-53ea482164220e01-01\",\n",
    "}\n"
   ]
  },
  {
   "cell_type": "code",
   "execution_count": 4,
   "id": "c24ef105",
   "metadata": {
    "execution": {
     "iopub.execute_input": "2022-07-13T06:50:43.211327Z",
     "iopub.status.busy": "2022-07-13T06:50:43.210690Z",
     "iopub.status.idle": "2022-07-13T06:50:43.215038Z",
     "shell.execute_reply": "2022-07-13T06:50:43.213560Z"
    },
    "lines_to_next_cell": 0,
    "papermill": {
     "duration": 0.01267,
     "end_time": "2022-07-13T06:50:43.217061",
     "exception": false,
     "start_time": "2022-07-13T06:50:43.204391",
     "status": "completed"
    },
    "tags": []
   },
   "outputs": [],
   "source": [
    "# -----------------------------------------------------------------------"
   ]
  },
  {
   "cell_type": "markdown",
   "id": "f03502bd",
   "metadata": {
    "papermill": {
     "duration": 0.003204,
     "end_time": "2022-07-13T06:50:43.223125",
     "exception": false,
     "start_time": "2022-07-13T06:50:43.219921",
     "status": "completed"
    },
    "tags": []
   },
   "source": [
    "---"
   ]
  },
  {
   "cell_type": "markdown",
   "id": "c667352c",
   "metadata": {
    "lines_to_next_cell": 2,
    "papermill": {
     "duration": 0.002627,
     "end_time": "2022-07-13T06:50:43.228405",
     "exception": false,
     "start_time": "2022-07-13T06:50:43.225778",
     "status": "completed"
    },
    "tags": []
   },
   "source": [
    "### Notebook code"
   ]
  },
  {
   "cell_type": "code",
   "execution_count": 5,
   "id": "b5be9aea",
   "metadata": {
    "execution": {
     "iopub.execute_input": "2022-07-13T06:50:43.235599Z",
     "iopub.status.busy": "2022-07-13T06:50:43.235240Z",
     "iopub.status.idle": "2022-07-13T06:50:43.786361Z",
     "shell.execute_reply": "2022-07-13T06:50:43.784956Z"
    },
    "papermill": {
     "duration": 0.557228,
     "end_time": "2022-07-13T06:50:43.788889",
     "exception": false,
     "start_time": "2022-07-13T06:50:43.231661",
     "status": "completed"
    },
    "tags": []
   },
   "outputs": [
    {
     "name": "stderr",
     "output_type": "stream",
     "text": [
      "2022-07-13 06:50:43,609\tINFO worker.py:842 -- Connecting to existing Ray cluster at address: 172.17.0.2:6379\n"
     ]
    }
   ],
   "source": [
    "from common.io import datalake_root, read_numpy, write_numpy\n",
    "from pynb_dag_runner.tasks.task_opentelemetry_logging import PydarLogger\n",
    "\n",
    "logger = PydarLogger(P)"
   ]
  },
  {
   "cell_type": "markdown",
   "id": "943e0f78",
   "metadata": {
    "papermill": {
     "duration": 0.002691,
     "end_time": "2022-07-13T06:50:43.794905",
     "exception": false,
     "start_time": "2022-07-13T06:50:43.792214",
     "status": "completed"
    },
    "tags": []
   },
   "source": [
    "## Load and split digits data"
   ]
  },
  {
   "cell_type": "code",
   "execution_count": 6,
   "id": "a973ab24",
   "metadata": {
    "execution": {
     "iopub.execute_input": "2022-07-13T06:50:43.807877Z",
     "iopub.status.busy": "2022-07-13T06:50:43.807472Z",
     "iopub.status.idle": "2022-07-13T06:50:43.813908Z",
     "shell.execute_reply": "2022-07-13T06:50:43.813203Z"
    },
    "papermill": {
     "duration": 0.014056,
     "end_time": "2022-07-13T06:50:43.816857",
     "exception": false,
     "start_time": "2022-07-13T06:50:43.802801",
     "status": "completed"
    },
    "tags": []
   },
   "outputs": [],
   "source": [
    "X = read_numpy(datalake_root(P) / \"raw\" / \"digits.numpy\")\n",
    "y = read_numpy(datalake_root(P) / \"raw\" / \"labels.numpy\")"
   ]
  },
  {
   "cell_type": "code",
   "execution_count": 7,
   "id": "faf83c9c",
   "metadata": {
    "execution": {
     "iopub.execute_input": "2022-07-13T06:50:43.824153Z",
     "iopub.status.busy": "2022-07-13T06:50:43.823932Z",
     "iopub.status.idle": "2022-07-13T06:50:44.295078Z",
     "shell.execute_reply": "2022-07-13T06:50:44.293990Z"
    },
    "papermill": {
     "duration": 0.477151,
     "end_time": "2022-07-13T06:50:44.297358",
     "exception": false,
     "start_time": "2022-07-13T06:50:43.820207",
     "status": "completed"
    },
    "tags": []
   },
   "outputs": [],
   "source": [
    "from sklearn.model_selection import train_test_split\n",
    "\n",
    "X_train, X_test, y_train, y_test = train_test_split(\n",
    "    X,\n",
    "    y,\n",
    "    train_size=P[\"task.train_test_ratio\"],\n",
    "    test_size=None,\n",
    "    stratify=y,\n",
    "    shuffle=True,\n",
    "    random_state=1,\n",
    ")\n",
    "\n",
    "# assert nr of pixels per image is the same for all image vectors\n",
    "assert X.shape[1] == X_train.shape[1] == X_test.shape[1]\n",
    "\n",
    "# assert that the (X, y)-pairs have compatible sizes (for both train and test)\n",
    "assert X_train.shape[0] == len(y_train)\n",
    "assert X_test.shape[0] == len(y_test)\n",
    "\n",
    "# assert that all data is used\n",
    "assert len(y) == len(y_train) + len(y_test)"
   ]
  },
  {
   "cell_type": "code",
   "execution_count": 8,
   "id": "c4038a57",
   "metadata": {
    "execution": {
     "iopub.execute_input": "2022-07-13T06:50:44.307905Z",
     "iopub.status.busy": "2022-07-13T06:50:44.307397Z",
     "iopub.status.idle": "2022-07-13T06:50:44.315720Z",
     "shell.execute_reply": "2022-07-13T06:50:44.314921Z"
    },
    "papermill": {
     "duration": 0.016593,
     "end_time": "2022-07-13T06:50:44.317827",
     "exception": false,
     "start_time": "2022-07-13T06:50:44.301234",
     "status": "completed"
    },
    "tags": []
   },
   "outputs": [
    {
     "name": "stdout",
     "output_type": "stream",
     "text": [
      " - Logging nr_digits_train (int) : 1257\n",
      " - Logging nr_digits_test (int) : 540\n"
     ]
    }
   ],
   "source": [
    "logger.log_int(\"nr_digits_train\", len(y_train))\n",
    "logger.log_int(\"nr_digits_test\", len(y_test))"
   ]
  },
  {
   "cell_type": "markdown",
   "id": "363af896",
   "metadata": {
    "papermill": {
     "duration": 0.003215,
     "end_time": "2022-07-13T06:50:44.324300",
     "exception": false,
     "start_time": "2022-07-13T06:50:44.321085",
     "status": "completed"
    },
    "tags": []
   },
   "source": [
    "### Persist training and test data sets to separate files"
   ]
  },
  {
   "cell_type": "code",
   "execution_count": 9,
   "id": "924aa82d",
   "metadata": {
    "execution": {
     "iopub.execute_input": "2022-07-13T06:50:44.331218Z",
     "iopub.status.busy": "2022-07-13T06:50:44.330905Z",
     "iopub.status.idle": "2022-07-13T06:50:44.342137Z",
     "shell.execute_reply": "2022-07-13T06:50:44.341250Z"
    },
    "papermill": {
     "duration": 0.018134,
     "end_time": "2022-07-13T06:50:44.345311",
     "exception": false,
     "start_time": "2022-07-13T06:50:44.327177",
     "status": "completed"
    },
    "tags": []
   },
   "outputs": [],
   "source": [
    "write_numpy(datalake_root(P) / \"train-data\" / \"digits.numpy\", X_train)\n",
    "write_numpy(datalake_root(P) / \"train-data\" / \"labels.numpy\", y_train)\n",
    "\n",
    "#\n",
    "write_numpy(datalake_root(P) / \"test-data\" / \"digits.numpy\", X_test)\n",
    "write_numpy(datalake_root(P) / \"test-data\" / \"labels.numpy\", y_test)"
   ]
  },
  {
   "cell_type": "code",
   "execution_count": null,
   "id": "ef5a8f82",
   "metadata": {
    "papermill": {
     "duration": 0.003401,
     "end_time": "2022-07-13T06:50:44.352693",
     "exception": false,
     "start_time": "2022-07-13T06:50:44.349292",
     "status": "completed"
    },
    "tags": []
   },
   "outputs": [],
   "source": []
  }
 ],
 "metadata": {
  "jupytext": {
   "cell_metadata_filter": "tags,-all",
   "main_language": "python",
   "notebook_metadata_filter": "-all"
  },
  "language_info": {
   "codemirror_mode": {
    "name": "ipython",
    "version": 3
   },
   "file_extension": ".py",
   "mimetype": "text/x-python",
   "name": "python",
   "nbconvert_exporter": "python",
   "pygments_lexer": "ipython3",
   "version": "3.8.10"
  },
  "papermill": {
   "default_parameters": {},
   "duration": 3.672582,
   "end_time": "2022-07-13T06:50:45.392279",
   "environment_variables": {},
   "exception": null,
   "input_path": "/home/host_user/workspace/mnist-demo-pipeline/mnist-demo-pipeline/notebooks/temp-notebook-dpgyd6_a.ipynb",
   "output_path": "notebooks/split-train-test.ipynb",
   "parameters": {
    "P": {
     "_opentelemetry_traceparent": "00-5f05c8a8f596272cb475eba0e8c4eafa-53ea482164220e01-01",
     "pipeline.data_lake_root": "/pipeline-outputs/data-lake",
     "pipeline.github.actor": "matiasdahl",
     "pipeline.github.base_ref": "",
     "pipeline.github.event_name": "schedule",
     "pipeline.github.head_ref": "",
     "pipeline.github.job": "run-tests-pipeline-and-persist-pipeline-outputs",
     "pipeline.github.ref": "refs/heads/development",
     "pipeline.github.ref_name": "development",
     "pipeline.github.ref_type": "branch",
     "pipeline.github.repository": "pynb-dag-runner/mnist-digits-demo-pipeline",
     "pipeline.github.run_id": "2661518739",
     "pipeline.github.runner_name": "Hosted Agent",
     "pipeline.github.sha": "147a1be9916173fd4d2cd011d8d51e3411215850",
     "pipeline.github.workflow": "Run automated tests, pipeline and deploy results to static reporting site",
     "pipeline.pipeline_run_id": "b793658f-ac86-45f8-897e-51ff5314ae09",
     "pipeline.run_environment": "ci",
     "run.retry_nr": "0",
     "task.max_nr_retries": "1",
     "task.notebook": "notebooks/split-train-test.py",
     "task.num_cpus": 1,
     "task.timeout_s": "None",
     "task.train_test_ratio": 0.7
    }
   },
   "start_time": "2022-07-13T06:50:41.719697",
   "version": "2.3.3"
  }
 },
 "nbformat": 4,
 "nbformat_minor": 5
}