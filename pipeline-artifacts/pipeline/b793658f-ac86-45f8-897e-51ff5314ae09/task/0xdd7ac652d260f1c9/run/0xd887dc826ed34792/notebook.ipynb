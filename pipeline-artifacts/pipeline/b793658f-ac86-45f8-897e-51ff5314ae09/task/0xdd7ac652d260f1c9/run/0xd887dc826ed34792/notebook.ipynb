{
 "cells": [
  {
   "cell_type": "markdown",
   "id": "c0ed7c8a",
   "metadata": {
    "papermill": {
     "duration": 0.00628,
     "end_time": "2022-07-13T06:51:17.615521",
     "exception": false,
     "start_time": "2022-07-13T06:51:17.609241",
     "status": "completed"
    },
    "tags": []
   },
   "source": [
    "# Benchmark model\n",
    "\n",
    "The purpose of this notebook is to benchmark persisted onnx-model (trained in the\n",
    "previous step) against evaluation set."
   ]
  },
  {
   "cell_type": "markdown",
   "id": "2afb683a",
   "metadata": {
    "papermill": {
     "duration": 0.005252,
     "end_time": "2022-07-13T06:51:17.626614",
     "exception": false,
     "start_time": "2022-07-13T06:51:17.621362",
     "status": "completed"
    },
    "tags": []
   },
   "source": [
    "### Determine run parameters"
   ]
  },
  {
   "cell_type": "code",
   "execution_count": 1,
   "id": "0d322857",
   "metadata": {
    "execution": {
     "iopub.execute_input": "2022-07-13T06:51:17.639379Z",
     "iopub.status.busy": "2022-07-13T06:51:17.638246Z",
     "iopub.status.idle": "2022-07-13T06:51:17.655951Z",
     "shell.execute_reply": "2022-07-13T06:51:17.654585Z"
    },
    "lines_to_next_cell": 0,
    "papermill": {
     "duration": 0.027482,
     "end_time": "2022-07-13T06:51:17.659296",
     "exception": false,
     "start_time": "2022-07-13T06:51:17.631814",
     "status": "completed"
    },
    "tags": []
   },
   "outputs": [],
   "source": [
    "# ----------------- Parameters for interactive development --------------\n",
    "P = {\n",
    "    \"pipeline.data_lake_root\": \"/pipeline-outputs/data-lake\",\n",
    "    \"task.nr_train_images\": 600,\n",
    "}"
   ]
  },
  {
   "cell_type": "code",
   "execution_count": 2,
   "id": "3db15ae6",
   "metadata": {
    "execution": {
     "iopub.execute_input": "2022-07-13T06:51:17.671223Z",
     "iopub.status.busy": "2022-07-13T06:51:17.670997Z",
     "iopub.status.idle": "2022-07-13T06:51:17.674758Z",
     "shell.execute_reply": "2022-07-13T06:51:17.674074Z"
    },
    "lines_to_next_cell": 0,
    "papermill": {
     "duration": 0.013316,
     "end_time": "2022-07-13T06:51:17.677960",
     "exception": false,
     "start_time": "2022-07-13T06:51:17.664644",
     "status": "completed"
    },
    "tags": [
     "parameters"
    ]
   },
   "outputs": [],
   "source": [
    "# - During automated runs parameters will be injected in the below cell -"
   ]
  },
  {
   "cell_type": "code",
   "execution_count": 3,
   "id": "d7fd141e",
   "metadata": {
    "execution": {
     "iopub.execute_input": "2022-07-13T06:51:17.689932Z",
     "iopub.status.busy": "2022-07-13T06:51:17.689681Z",
     "iopub.status.idle": "2022-07-13T06:51:17.695481Z",
     "shell.execute_reply": "2022-07-13T06:51:17.694819Z"
    },
    "papermill": {
     "duration": 0.014253,
     "end_time": "2022-07-13T06:51:17.698753",
     "exception": false,
     "start_time": "2022-07-13T06:51:17.684500",
     "status": "completed"
    },
    "tags": [
     "injected-parameters"
    ]
   },
   "outputs": [],
   "source": [
    "# Parameters\n",
    "P = {\n",
    "    \"pipeline.data_lake_root\": \"/pipeline-outputs/data-lake\",\n",
    "    \"pipeline.run_environment\": \"ci\",\n",
    "    \"pipeline.pipeline_run_id\": \"b793658f-ac86-45f8-897e-51ff5314ae09\",\n",
    "    \"pipeline.github.repository\": \"pynb-dag-runner/mnist-digits-demo-pipeline\",\n",
    "    \"pipeline.github.workflow\": \"Run automated tests, pipeline and deploy results to static reporting site\",\n",
    "    \"pipeline.github.runner_name\": \"Hosted Agent\",\n",
    "    \"pipeline.github.run_id\": \"2661518739\",\n",
    "    \"pipeline.github.actor\": \"matiasdahl\",\n",
    "    \"pipeline.github.job\": \"run-tests-pipeline-and-persist-pipeline-outputs\",\n",
    "    \"pipeline.github.base_ref\": \"\",\n",
    "    \"pipeline.github.head_ref\": \"\",\n",
    "    \"pipeline.github.sha\": \"147a1be9916173fd4d2cd011d8d51e3411215850\",\n",
    "    \"pipeline.github.ref\": \"refs/heads/development\",\n",
    "    \"pipeline.github.ref_type\": \"branch\",\n",
    "    \"pipeline.github.ref_name\": \"development\",\n",
    "    \"pipeline.github.event_name\": \"schedule\",\n",
    "    \"task.nr_train_images\": 1000,\n",
    "    \"task.notebook\": \"notebooks/benchmark-model.py\",\n",
    "    \"task.max_nr_retries\": \"1\",\n",
    "    \"run.retry_nr\": \"0\",\n",
    "    \"task.timeout_s\": \"None\",\n",
    "    \"task.num_cpus\": 1,\n",
    "    \"_opentelemetry_traceparent\": \"00-5f05c8a8f596272cb475eba0e8c4eafa-cac7f32fd19ff5b8-01\",\n",
    "}\n"
   ]
  },
  {
   "cell_type": "code",
   "execution_count": 4,
   "id": "8d65cd71",
   "metadata": {
    "execution": {
     "iopub.execute_input": "2022-07-13T06:51:17.709133Z",
     "iopub.status.busy": "2022-07-13T06:51:17.708859Z",
     "iopub.status.idle": "2022-07-13T06:51:17.712234Z",
     "shell.execute_reply": "2022-07-13T06:51:17.711241Z"
    },
    "lines_to_next_cell": 0,
    "papermill": {
     "duration": 0.012081,
     "end_time": "2022-07-13T06:51:17.716107",
     "exception": false,
     "start_time": "2022-07-13T06:51:17.704026",
     "status": "completed"
    },
    "tags": []
   },
   "outputs": [],
   "source": [
    "# -----------------------------------------------------------------------"
   ]
  },
  {
   "cell_type": "markdown",
   "id": "7f4522dd",
   "metadata": {
    "papermill": {
     "duration": 0.00498,
     "end_time": "2022-07-13T06:51:17.725408",
     "exception": false,
     "start_time": "2022-07-13T06:51:17.720428",
     "status": "completed"
    },
    "tags": []
   },
   "source": [
    "---"
   ]
  },
  {
   "cell_type": "markdown",
   "id": "ea8fa3a0",
   "metadata": {
    "lines_to_next_cell": 2,
    "papermill": {
     "duration": 0.005587,
     "end_time": "2022-07-13T06:51:17.735087",
     "exception": false,
     "start_time": "2022-07-13T06:51:17.729500",
     "status": "completed"
    },
    "tags": []
   },
   "source": [
    "### Notebook code"
   ]
  },
  {
   "cell_type": "code",
   "execution_count": 5,
   "id": "5984a9c8",
   "metadata": {
    "execution": {
     "iopub.execute_input": "2022-07-13T06:51:17.745243Z",
     "iopub.status.busy": "2022-07-13T06:51:17.745023Z",
     "iopub.status.idle": "2022-07-13T06:51:19.024225Z",
     "shell.execute_reply": "2022-07-13T06:51:19.023368Z"
    },
    "papermill": {
     "duration": 1.287618,
     "end_time": "2022-07-13T06:51:19.026715",
     "exception": false,
     "start_time": "2022-07-13T06:51:17.739097",
     "status": "completed"
    },
    "tags": []
   },
   "outputs": [
    {
     "name": "stderr",
     "output_type": "stream",
     "text": [
      "2022-07-13 06:51:18,855\tINFO worker.py:842 -- Connecting to existing Ray cluster at address: 172.17.0.2:6379\n"
     ]
    }
   ],
   "source": [
    "import itertools as it\n",
    "\n",
    "#\n",
    "import numpy as np\n",
    "import matplotlib.pyplot as plt\n",
    "\n",
    "#\n",
    "from pynb_dag_runner.tasks.task_opentelemetry_logging import PydarLogger\n",
    "\n",
    "#\n",
    "from common.io import datalake_root\n",
    "\n",
    "logger = PydarLogger(P)"
   ]
  },
  {
   "cell_type": "markdown",
   "id": "9dd65deb",
   "metadata": {
    "papermill": {
     "duration": 0.005074,
     "end_time": "2022-07-13T06:51:19.038233",
     "exception": false,
     "start_time": "2022-07-13T06:51:19.033159",
     "status": "completed"
    },
    "tags": []
   },
   "source": [
    "## Load persisted onnx-model and evaluation data"
   ]
  },
  {
   "cell_type": "code",
   "execution_count": 6,
   "id": "2ee2cf30",
   "metadata": {
    "execution": {
     "iopub.execute_input": "2022-07-13T06:51:19.049972Z",
     "iopub.status.busy": "2022-07-13T06:51:19.049601Z",
     "iopub.status.idle": "2022-07-13T06:51:19.056614Z",
     "shell.execute_reply": "2022-07-13T06:51:19.055674Z"
    },
    "papermill": {
     "duration": 0.015502,
     "end_time": "2022-07-13T06:51:19.059170",
     "exception": false,
     "start_time": "2022-07-13T06:51:19.043668",
     "status": "completed"
    },
    "tags": []
   },
   "outputs": [],
   "source": [
    "from common.io import read_onnx, get_onnx_inputs, get_onnx_outputs, read_numpy"
   ]
  },
  {
   "cell_type": "code",
   "execution_count": 7,
   "id": "64e237c4",
   "metadata": {
    "execution": {
     "iopub.execute_input": "2022-07-13T06:51:19.071450Z",
     "iopub.status.busy": "2022-07-13T06:51:19.070993Z",
     "iopub.status.idle": "2022-07-13T06:51:19.084395Z",
     "shell.execute_reply": "2022-07-13T06:51:19.083467Z"
    },
    "lines_to_next_cell": 0,
    "papermill": {
     "duration": 0.022952,
     "end_time": "2022-07-13T06:51:19.087490",
     "exception": false,
     "start_time": "2022-07-13T06:51:19.064538",
     "status": "completed"
    },
    "tags": []
   },
   "outputs": [],
   "source": [
    "onnx_inference_session = read_onnx(\n",
    "    datalake_root(P)\n",
    "    / \"models\"\n",
    "    / f\"nr_train_images={P['task.nr_train_images']}\"\n",
    "    / \"model.onnx\"\n",
    ")"
   ]
  },
  {
   "cell_type": "markdown",
   "id": "b74407d3",
   "metadata": {
    "papermill": {
     "duration": 0.008432,
     "end_time": "2022-07-13T06:51:19.101008",
     "exception": false,
     "start_time": "2022-07-13T06:51:19.092576",
     "status": "completed"
    },
    "tags": []
   },
   "source": [
    "### Record structure of inputs and outputs for ONNX model\n",
    "\n",
    "(this should likely be done in training notebook)"
   ]
  },
  {
   "cell_type": "code",
   "execution_count": 8,
   "id": "98448596",
   "metadata": {
    "execution": {
     "iopub.execute_input": "2022-07-13T06:51:19.113188Z",
     "iopub.status.busy": "2022-07-13T06:51:19.112568Z",
     "iopub.status.idle": "2022-07-13T06:51:19.120800Z",
     "shell.execute_reply": "2022-07-13T06:51:19.119869Z"
    },
    "papermill": {
     "duration": 0.017443,
     "end_time": "2022-07-13T06:51:19.123586",
     "exception": false,
     "start_time": "2022-07-13T06:51:19.106143",
     "status": "completed"
    },
    "tags": []
   },
   "outputs": [
    {
     "name": "stdout",
     "output_type": "stream",
     "text": [
      "{\n",
      "  \"inputs\": [\n",
      "    {\n",
      "      \"name\": \"float_input_8x8_image\",\n",
      "      \"shape\": [\n",
      "        null,\n",
      "        64\n",
      "      ],\n",
      "      \"type\": \"tensor(float)\"\n",
      "    }\n",
      "  ],\n",
      "  \"outputs\": [\n",
      "    {\n",
      "      \"name\": \"output_label\",\n",
      "      \"shape\": [\n",
      "        null\n",
      "      ],\n",
      "      \"type\": \"tensor(int64)\"\n",
      "    },\n",
      "    {\n",
      "      \"name\": \"output_probability\",\n",
      "      \"shape\": [],\n",
      "      \"type\": \"seq(map(int64,tensor(float)))\"\n",
      "    }\n",
      "  ]\n",
      "}\n"
     ]
    }
   ],
   "source": [
    "import json\n",
    "\n",
    "onnx_io = json.dumps(\n",
    "    {\n",
    "        \"inputs\": get_onnx_inputs(onnx_inference_session),\n",
    "        \"outputs\": get_onnx_outputs(onnx_inference_session),\n",
    "    },\n",
    "    indent=2,\n",
    ")\n",
    "\n",
    "\n",
    "logger.log_artefact(\"onnx_io_structure.json\", onnx_io)\n",
    "print(onnx_io)"
   ]
  },
  {
   "cell_type": "markdown",
   "id": "fd2979f1",
   "metadata": {
    "papermill": {
     "duration": 0.0048,
     "end_time": "2022-07-13T06:51:19.134043",
     "exception": false,
     "start_time": "2022-07-13T06:51:19.129243",
     "status": "completed"
    },
    "tags": []
   },
   "source": [
    "### Evaluate model performance on evaluation data set"
   ]
  },
  {
   "cell_type": "code",
   "execution_count": 9,
   "id": "b8d55080",
   "metadata": {
    "execution": {
     "iopub.execute_input": "2022-07-13T06:51:19.147110Z",
     "iopub.status.busy": "2022-07-13T06:51:19.146248Z",
     "iopub.status.idle": "2022-07-13T06:51:19.152473Z",
     "shell.execute_reply": "2022-07-13T06:51:19.151624Z"
    },
    "papermill": {
     "duration": 0.014586,
     "end_time": "2022-07-13T06:51:19.154640",
     "exception": false,
     "start_time": "2022-07-13T06:51:19.140054",
     "status": "completed"
    },
    "tags": []
   },
   "outputs": [],
   "source": [
    "# load evaluation data\n",
    "X_test = read_numpy(datalake_root(P) / \"test-data\" / \"digits.numpy\")\n",
    "y_test = read_numpy(datalake_root(P) / \"test-data\" / \"labels.numpy\")"
   ]
  },
  {
   "cell_type": "code",
   "execution_count": 10,
   "id": "4266db18",
   "metadata": {
    "execution": {
     "iopub.execute_input": "2022-07-13T06:51:19.167592Z",
     "iopub.status.busy": "2022-07-13T06:51:19.166981Z",
     "iopub.status.idle": "2022-07-13T06:51:19.183147Z",
     "shell.execute_reply": "2022-07-13T06:51:19.182362Z"
    },
    "papermill": {
     "duration": 0.02446,
     "end_time": "2022-07-13T06:51:19.185431",
     "exception": false,
     "start_time": "2022-07-13T06:51:19.160971",
     "status": "completed"
    },
    "tags": []
   },
   "outputs": [],
   "source": [
    "def get_model_outputs(X, onnx_inference_session):\n",
    "    y_pred_labels, y_pred_map = onnx_inference_session.run(\n",
    "        [\"output_label\", \"output_probability\"],\n",
    "        {\"float_input_8x8_image\": X.astype(np.float32)},\n",
    "    )\n",
    "    y_pred_probs = np.array(\n",
    "        [[probabilities[digit] for digit in range(10)] for probabilities in y_pred_map]\n",
    "    )\n",
    "\n",
    "    assert y_pred_labels.shape == (X.shape[0],)\n",
    "    assert y_pred_probs.shape == (X.shape[0], 10)\n",
    "\n",
    "    return y_pred_labels, y_pred_probs\n",
    "\n",
    "\n",
    "# Note: as shown in the training notebook, the predicted labels and probabilities\n",
    "# computed below need not be compatible.\n",
    "y_pred_labels_test, y_pred_probs_test = get_model_outputs(\n",
    "    X_test, onnx_inference_session\n",
    ")"
   ]
  },
  {
   "cell_type": "markdown",
   "id": "342073d6",
   "metadata": {
    "papermill": {
     "duration": 0.00478,
     "end_time": "2022-07-13T06:51:19.196288",
     "exception": false,
     "start_time": "2022-07-13T06:51:19.191508",
     "status": "completed"
    },
    "tags": []
   },
   "source": [
    "### Confusion matrix"
   ]
  },
  {
   "cell_type": "code",
   "execution_count": 11,
   "id": "5b0b38d7",
   "metadata": {
    "execution": {
     "iopub.execute_input": "2022-07-13T06:51:19.208129Z",
     "iopub.status.busy": "2022-07-13T06:51:19.207368Z",
     "iopub.status.idle": "2022-07-13T06:51:19.212893Z",
     "shell.execute_reply": "2022-07-13T06:51:19.210438Z"
    },
    "papermill": {
     "duration": 0.013328,
     "end_time": "2022-07-13T06:51:19.215039",
     "exception": false,
     "start_time": "2022-07-13T06:51:19.201711",
     "status": "completed"
    },
    "tags": []
   },
   "outputs": [],
   "source": [
    "# TODO"
   ]
  },
  {
   "cell_type": "markdown",
   "id": "b3afc257",
   "metadata": {
    "papermill": {
     "duration": 0.0061,
     "end_time": "2022-07-13T06:51:19.226891",
     "exception": false,
     "start_time": "2022-07-13T06:51:19.220791",
     "status": "completed"
    },
    "tags": []
   },
   "source": [
    "### Plot predicted probabilities for each classifier over all evaluation digit images"
   ]
  },
  {
   "cell_type": "code",
   "execution_count": 12,
   "id": "24951026",
   "metadata": {
    "execution": {
     "iopub.execute_input": "2022-07-13T06:51:19.238638Z",
     "iopub.status.busy": "2022-07-13T06:51:19.237881Z",
     "iopub.status.idle": "2022-07-13T06:51:24.409105Z",
     "shell.execute_reply": "2022-07-13T06:51:24.408147Z"
    },
    "papermill": {
     "duration": 5.179066,
     "end_time": "2022-07-13T06:51:24.410891",
     "exception": false,
     "start_time": "2022-07-13T06:51:19.231825",
     "status": "completed"
    },
    "tags": []
   },
   "outputs": [
    {
     "data": {
      "image/png": "[encoded data removed]",
      "text/plain": [
       "<Figure size 1152x432 with 10 Axes>"
      ]
     },
     "metadata": {
      "needs_background": "light"
     },
     "output_type": "display_data"
    }
   ],
   "source": [
    "def plot_per_digit_probabilities(y_pred_probs):\n",
    "    fig, axs = plt.subplots(nrows=2, ncols=5, figsize=(16, 6))\n",
    "\n",
    "    for (r, c), digit, ax in zip(\n",
    "        it.product(range(2), range(5)), range(10), axs.reshape(-1)\n",
    "    ):\n",
    "        ax.hist(y_pred_probs_test[:, digit], bins=20)\n",
    "\n",
    "        ax.set_title(f\"Digit {digit}\")\n",
    "        if r == 1 and c == 2:\n",
    "            ax.set_xlabel(\"probability\", fontsize=16)\n",
    "\n",
    "        if c == 0:\n",
    "            ax.set_ylabel(\"counts\", fontsize=16)\n",
    "        ax.set_yscale(\"log\")\n",
    "\n",
    "    fig.tight_layout()\n",
    "    fig.suptitle(\n",
    "        f\"Distributions of prediction probabilities for each digit \"\n",
    "        f\"(on evaluation data, n={y_pred_probs.shape[0]})\",\n",
    "        fontsize=20,\n",
    "    )\n",
    "    fig.tight_layout()\n",
    "    fig.show()\n",
    "\n",
    "    return fig\n",
    "\n",
    "\n",
    "fig = plot_per_digit_probabilities(y_pred_probs_test)"
   ]
  },
  {
   "cell_type": "markdown",
   "id": "d1c33f19",
   "metadata": {
    "papermill": {
     "duration": 0.0055,
     "end_time": "2022-07-13T06:51:24.422921",
     "exception": false,
     "start_time": "2022-07-13T06:51:24.417421",
     "status": "completed"
    },
    "tags": []
   },
   "source": [
    "From the above distributions we see that most digits have clear separation between\n",
    "high and lower probabilities. Morover, in each case there is roughly an order of\n",
    "magnitude more of digits with low probabilities. This is compatible with digits\n",
    "being roughly evenly distributed in the data."
   ]
  },
  {
   "cell_type": "code",
   "execution_count": 13,
   "id": "6adaed8c",
   "metadata": {
    "execution": {
     "iopub.execute_input": "2022-07-13T06:51:24.436051Z",
     "iopub.status.busy": "2022-07-13T06:51:24.435782Z",
     "iopub.status.idle": "2022-07-13T06:51:25.073797Z",
     "shell.execute_reply": "2022-07-13T06:51:25.072543Z"
    },
    "papermill": {
     "duration": 0.646967,
     "end_time": "2022-07-13T06:51:25.076166",
     "exception": false,
     "start_time": "2022-07-13T06:51:24.429199",
     "status": "completed"
    },
    "tags": []
   },
   "outputs": [],
   "source": [
    "logger.log_figure(\"per-digit-probabilities.png\", fig)"
   ]
  },
  {
   "cell_type": "markdown",
   "id": "12512573",
   "metadata": {
    "papermill": {
     "duration": 0.006401,
     "end_time": "2022-07-13T06:51:25.089379",
     "exception": false,
     "start_time": "2022-07-13T06:51:25.082978",
     "status": "completed"
    },
    "tags": []
   },
   "source": [
    "### Plot ROC curves for individual one-vs-rest classifiers"
   ]
  },
  {
   "cell_type": "code",
   "execution_count": 14,
   "id": "55a9debe",
   "metadata": {
    "execution": {
     "iopub.execute_input": "2022-07-13T06:51:25.103140Z",
     "iopub.status.busy": "2022-07-13T06:51:25.102563Z",
     "iopub.status.idle": "2022-07-13T06:51:25.568406Z",
     "shell.execute_reply": "2022-07-13T06:51:25.567485Z"
    },
    "papermill": {
     "duration": 0.474953,
     "end_time": "2022-07-13T06:51:25.570646",
     "exception": false,
     "start_time": "2022-07-13T06:51:25.095693",
     "status": "completed"
    },
    "tags": []
   },
   "outputs": [],
   "source": [
    "from sklearn import metrics"
   ]
  },
  {
   "cell_type": "code",
   "execution_count": 15,
   "id": "8c0cf64d",
   "metadata": {
    "execution": {
     "iopub.execute_input": "2022-07-13T06:51:25.590404Z",
     "iopub.status.busy": "2022-07-13T06:51:25.589233Z",
     "iopub.status.idle": "2022-07-13T06:51:27.308734Z",
     "shell.execute_reply": "2022-07-13T06:51:27.307991Z"
    },
    "papermill": {
     "duration": 1.731275,
     "end_time": "2022-07-13T06:51:27.311125",
     "exception": false,
     "start_time": "2022-07-13T06:51:25.579850",
     "status": "completed"
    },
    "tags": []
   },
   "outputs": [
    {
     "data": {
      "image/png": "[encoded data removed]",
      "text/plain": [
       "<Figure size 1152x576 with 10 Axes>"
      ]
     },
     "metadata": {
      "needs_background": "light"
     },
     "output_type": "display_data"
    }
   ],
   "source": [
    "def plot_roc_curves(y, y_pred_probs):\n",
    "    # based on example code\n",
    "    # https://scikit-learn.org/stable/auto_examples/model_selection/plot_roc.html\n",
    "\n",
    "    fig, axs = plt.subplots(nrows=2, ncols=5, figsize=(16, 8))\n",
    "\n",
    "    roc_auc_dict = {}\n",
    "\n",
    "    for (r, c), digit, ax in zip(\n",
    "        it.product(range(2), range(5)), range(10), axs.reshape(-1)\n",
    "    ):\n",
    "        fpr, tpr, _ = metrics.roc_curve(y == digit, y_pred_probs[:, digit])\n",
    "        auc = metrics.auc(fpr, tpr)\n",
    "        roc_auc_dict[str(digit)] = auc\n",
    "\n",
    "        ax.plot(fpr, tpr, label=f\"ROC AUC={round(auc, 3)}\")\n",
    "\n",
    "        ax.set_title(f\"\\nDigit {digit}\", fontsize=16)\n",
    "        if r == 1:\n",
    "            ax.set_xlabel(\"FPR\", fontsize=18)\n",
    "\n",
    "        if c == 0:\n",
    "            ax.set_ylabel(\"TPR\", fontsize=18)\n",
    "\n",
    "        ax.set_xlim([-0.05, 1.05])\n",
    "        ax.set_ylim([-0.05, 1.05])\n",
    "        ax.legend(loc=\"lower right\", frameon=False, fontsize=14)\n",
    "\n",
    "    fig.tight_layout()\n",
    "    fig.suptitle(\n",
    "        f\"ROC plots for one-vs-rest performances \"\n",
    "        f\"(on evaluation data, n={y_pred_probs_test.shape[1]}\",\n",
    "        fontsize=22,\n",
    "    )\n",
    "    fig.tight_layout()\n",
    "    fig.show()\n",
    "\n",
    "    return roc_auc_dict, fig\n",
    "\n",
    "\n",
    "roc_auc_dict, fig = plot_roc_curves(y_test, y_pred_probs_test)"
   ]
  },
  {
   "cell_type": "code",
   "execution_count": 16,
   "id": "e7733e11",
   "metadata": {
    "execution": {
     "iopub.execute_input": "2022-07-13T06:51:27.325158Z",
     "iopub.status.busy": "2022-07-13T06:51:27.324824Z",
     "iopub.status.idle": "2022-07-13T06:51:27.666399Z",
     "shell.execute_reply": "2022-07-13T06:51:27.665384Z"
    },
    "papermill": {
     "duration": 0.351373,
     "end_time": "2022-07-13T06:51:27.668819",
     "exception": false,
     "start_time": "2022-07-13T06:51:27.317446",
     "status": "completed"
    },
    "tags": []
   },
   "outputs": [],
   "source": [
    "logger.log_figure(\"per-digit-roc-curves.png\", fig)"
   ]
  },
  {
   "cell_type": "code",
   "execution_count": 17,
   "id": "d53b3a09",
   "metadata": {
    "execution": {
     "iopub.execute_input": "2022-07-13T06:51:27.683693Z",
     "iopub.status.busy": "2022-07-13T06:51:27.683321Z",
     "iopub.status.idle": "2022-07-13T06:51:27.690259Z",
     "shell.execute_reply": "2022-07-13T06:51:27.689314Z"
    },
    "papermill": {
     "duration": 0.017591,
     "end_time": "2022-07-13T06:51:27.693718",
     "exception": false,
     "start_time": "2022-07-13T06:51:27.676127",
     "status": "completed"
    },
    "tags": []
   },
   "outputs": [
    {
     "data": {
      "text/plain": [
       "{'0': 1.0,\n",
       " '1': 0.998950328022493,\n",
       " '2': 1.0,\n",
       " '3': 0.9998500468603562,\n",
       " '4': 0.9996570644718793,\n",
       " '5': 0.9994001874414246,\n",
       " '6': 0.999923792104862,\n",
       " '7': 0.9997713763145862,\n",
       " '8': 0.9947588272383354,\n",
       " '9': 0.9995427526291724}"
      ]
     },
     "execution_count": 17,
     "metadata": {},
     "output_type": "execute_result"
    }
   ],
   "source": [
    "roc_auc_dict"
   ]
  },
  {
   "cell_type": "code",
   "execution_count": 18,
   "id": "7ea34a76",
   "metadata": {
    "execution": {
     "iopub.execute_input": "2022-07-13T06:51:27.709438Z",
     "iopub.status.busy": "2022-07-13T06:51:27.709072Z",
     "iopub.status.idle": "2022-07-13T06:51:27.714134Z",
     "shell.execute_reply": "2022-07-13T06:51:27.713132Z"
    },
    "papermill": {
     "duration": 0.017395,
     "end_time": "2022-07-13T06:51:27.717784",
     "exception": false,
     "start_time": "2022-07-13T06:51:27.700389",
     "status": "completed"
    },
    "tags": []
   },
   "outputs": [
    {
     "name": "stdout",
     "output_type": "stream",
     "text": [
      " - Logging roc_auc_per_digit (json) : {'0': 1.0, '1': 0.998950328022493, '2': 1.0, '3': 0.9998500468603562, '4': 0.9996570644718793, '5': 0.9994001874414246, '6': 0.999923792104862, '7': 0.9997713763145862, '8': 0.9947588272383354, '9': 0.9995427526291724}\n"
     ]
    }
   ],
   "source": [
    "logger.log_value(\"roc_auc_per_digit\", roc_auc_dict)"
   ]
  },
  {
   "cell_type": "markdown",
   "id": "2f92887a",
   "metadata": {
    "papermill": {
     "duration": 0.008996,
     "end_time": "2022-07-13T06:51:27.732653",
     "exception": false,
     "start_time": "2022-07-13T06:51:27.723657",
     "status": "completed"
    },
    "tags": []
   },
   "source": [
    "### Compute and log mean ROC AUC score averaged over all digits"
   ]
  },
  {
   "cell_type": "code",
   "execution_count": 19,
   "id": "7738c940",
   "metadata": {
    "execution": {
     "iopub.execute_input": "2022-07-13T06:51:27.747585Z",
     "iopub.status.busy": "2022-07-13T06:51:27.746908Z",
     "iopub.status.idle": "2022-07-13T06:51:27.766571Z",
     "shell.execute_reply": "2022-07-13T06:51:27.765263Z"
    },
    "papermill": {
     "duration": 0.028917,
     "end_time": "2022-07-13T06:51:27.768487",
     "exception": false,
     "start_time": "2022-07-13T06:51:27.739570",
     "status": "completed"
    },
    "tags": []
   },
   "outputs": [
    {
     "name": "stdout",
     "output_type": "stream",
     "text": [
      " - Logging roc_auc_class_mean (float) : 0.9991854375083109\n"
     ]
    }
   ],
   "source": [
    "roc_auc_macro = np.mean(list(roc_auc_dict.values()))\n",
    "\n",
    "logger.log_float(\"roc_auc_class_mean\", roc_auc_macro)\n",
    "\n",
    "# assert that the same value can be computed directly using sklearn\n",
    "assert roc_auc_macro == metrics.roc_auc_score(\n",
    "    y_test, y_pred_probs_test, average=\"macro\", multi_class=\"ovr\"\n",
    ")"
   ]
  },
  {
   "cell_type": "code",
   "execution_count": 20,
   "id": "61f0f736",
   "metadata": {
    "execution": {
     "iopub.execute_input": "2022-07-13T06:51:27.784221Z",
     "iopub.status.busy": "2022-07-13T06:51:27.783695Z",
     "iopub.status.idle": "2022-07-13T06:51:27.787532Z",
     "shell.execute_reply": "2022-07-13T06:51:27.786614Z"
    },
    "lines_to_next_cell": 0,
    "papermill": {
     "duration": 0.014543,
     "end_time": "2022-07-13T06:51:27.789766",
     "exception": false,
     "start_time": "2022-07-13T06:51:27.775223",
     "status": "completed"
    },
    "tags": []
   },
   "outputs": [],
   "source": [
    "# ---"
   ]
  },
  {
   "cell_type": "code",
   "execution_count": null,
   "id": "66b81309",
   "metadata": {
    "papermill": {
     "duration": 0.007115,
     "end_time": "2022-07-13T06:51:27.803919",
     "exception": false,
     "start_time": "2022-07-13T06:51:27.796804",
     "status": "completed"
    },
    "tags": []
   },
   "outputs": [],
   "source": []
  }
 ],
 "metadata": {
  "jupytext": {
   "cell_metadata_filter": "tags,-all",
   "main_language": "python",
   "notebook_metadata_filter": "-all"
  },
  "language_info": {
   "codemirror_mode": {
    "name": "ipython",
    "version": 3
   },
   "file_extension": ".py",
   "mimetype": "text/x-python",
   "name": "python",
   "nbconvert_exporter": "python",
   "pygments_lexer": "ipython3",
   "version": "3.8.10"
  },
  "papermill": {
   "default_parameters": {},
   "duration": 13.292672,
   "end_time": "2022-07-13T06:51:28.932085",
   "environment_variables": {},
   "exception": null,
   "input_path": "/home/host_user/workspace/mnist-demo-pipeline/mnist-demo-pipeline/notebooks/temp-notebook-r9ucm7qj.ipynb",
   "output_path": "notebooks/benchmark-model.ipynb",
   "parameters": {
    "P": {
     "_opentelemetry_traceparent": "00-5f05c8a8f596272cb475eba0e8c4eafa-cac7f32fd19ff5b8-01",
     "pipeline.data_lake_root": "/pipeline-outputs/data-lake",
     "pipeline.github.actor": "matiasdahl",
     "pipeline.github.base_ref": "",
     "pipeline.github.event_name": "schedule",
     "pipeline.github.head_ref": "",
     "pipeline.github.job": "run-tests-pipeline-and-persist-pipeline-outputs",
     "pipeline.github.ref": "refs/heads/development",
     "pipeline.github.ref_name": "development",
     "pipeline.github.ref_type": "branch",
     "pipeline.github.repository": "pynb-dag-runner/mnist-digits-demo-pipeline",
     "pipeline.github.run_id": "2661518739",
     "pipeline.github.runner_name": "Hosted Agent",
     "pipeline.github.sha": "147a1be9916173fd4d2cd011d8d51e3411215850",
     "pipeline.github.workflow": "Run automated tests, pipeline and deploy results to static reporting site",
     "pipeline.pipeline_run_id": "b793658f-ac86-45f8-897e-51ff5314ae09",
     "pipeline.run_environment": "ci",
     "run.retry_nr": "0",
     "task.max_nr_retries": "1",
     "task.notebook": "notebooks/benchmark-model.py",
     "task.nr_train_images": 1000,
     "task.num_cpus": 1,
     "task.timeout_s": "None"
    }
   },
   "start_time": "2022-07-13T06:51:15.639413",
   "version": "2.3.3"
  }
 },
 "nbformat": 4,
 "nbformat_minor": 5
}