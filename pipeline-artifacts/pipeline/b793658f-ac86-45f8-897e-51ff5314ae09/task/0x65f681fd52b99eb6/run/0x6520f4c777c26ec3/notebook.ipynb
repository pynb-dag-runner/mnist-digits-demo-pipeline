{
 "cells": [
  {
   "cell_type": "markdown",
   "id": "c4b5c0e3",
   "metadata": {
    "papermill": {
     "duration": 0.007452,
     "end_time": "2022-07-13T06:50:48.658900",
     "exception": false,
     "start_time": "2022-07-13T06:50:48.651448",
     "status": "completed"
    },
    "tags": []
   },
   "source": [
    "# Train model\n",
    "\n",
    "The purpose of this notebook is:\n",
    "\n",
    "- Load all training data (images and labels).\n",
    "- Limit number of train images to `task.nr_train_images` (value provided as run parameter).\n",
    "- Train a support vector machine model using sklearn.\n",
    "- Persist the trained model using the ONNX format."
   ]
  },
  {
   "cell_type": "markdown",
   "id": "40f66b01",
   "metadata": {
    "papermill": {
     "duration": 0.003407,
     "end_time": "2022-07-13T06:50:48.666954",
     "exception": false,
     "start_time": "2022-07-13T06:50:48.663547",
     "status": "completed"
    },
    "tags": []
   },
   "source": [
    "### Determine run parameters"
   ]
  },
  {
   "cell_type": "code",
   "execution_count": 1,
   "id": "9e4be28b",
   "metadata": {
    "execution": {
     "iopub.execute_input": "2022-07-13T06:50:48.675927Z",
     "iopub.status.busy": "2022-07-13T06:50:48.675567Z",
     "iopub.status.idle": "2022-07-13T06:50:48.686062Z",
     "shell.execute_reply": "2022-07-13T06:50:48.685265Z"
    },
    "lines_to_next_cell": 0,
    "papermill": {
     "duration": 0.01925,
     "end_time": "2022-07-13T06:50:48.689198",
     "exception": false,
     "start_time": "2022-07-13T06:50:48.669948",
     "status": "completed"
    },
    "tags": []
   },
   "outputs": [],
   "source": [
    "# ----------------- Parameters for interactive development --------------\n",
    "P = {\n",
    "    \"pipeline.data_lake_root\": \"/pipeline-outputs/data-lake\",\n",
    "    \"task.nr_train_images\": 600,\n",
    "}"
   ]
  },
  {
   "cell_type": "code",
   "execution_count": 2,
   "id": "7940d353",
   "metadata": {
    "execution": {
     "iopub.execute_input": "2022-07-13T06:50:48.697579Z",
     "iopub.status.busy": "2022-07-13T06:50:48.697323Z",
     "iopub.status.idle": "2022-07-13T06:50:48.701712Z",
     "shell.execute_reply": "2022-07-13T06:50:48.700309Z"
    },
    "lines_to_next_cell": 0,
    "papermill": {
     "duration": 0.012472,
     "end_time": "2022-07-13T06:50:48.705573",
     "exception": false,
     "start_time": "2022-07-13T06:50:48.693101",
     "status": "completed"
    },
    "tags": [
     "parameters"
    ]
   },
   "outputs": [],
   "source": [
    "# - During automated runs parameters will be injected in the below cell -"
   ]
  },
  {
   "cell_type": "code",
   "execution_count": 3,
   "id": "df39210b",
   "metadata": {
    "execution": {
     "iopub.execute_input": "2022-07-13T06:50:48.714563Z",
     "iopub.status.busy": "2022-07-13T06:50:48.714313Z",
     "iopub.status.idle": "2022-07-13T06:50:48.719824Z",
     "shell.execute_reply": "2022-07-13T06:50:48.718810Z"
    },
    "papermill": {
     "duration": 0.015212,
     "end_time": "2022-07-13T06:50:48.724272",
     "exception": false,
     "start_time": "2022-07-13T06:50:48.709060",
     "status": "completed"
    },
    "tags": [
     "injected-parameters"
    ]
   },
   "outputs": [],
   "source": [
    "# Parameters\n",
    "P = {\n",
    "    \"pipeline.data_lake_root\": \"/pipeline-outputs/data-lake\",\n",
    "    \"pipeline.run_environment\": \"ci\",\n",
    "    \"pipeline.pipeline_run_id\": \"b793658f-ac86-45f8-897e-51ff5314ae09\",\n",
    "    \"pipeline.github.repository\": \"pynb-dag-runner/mnist-digits-demo-pipeline\",\n",
    "    \"pipeline.github.workflow\": \"Run automated tests, pipeline and deploy results to static reporting site\",\n",
    "    \"pipeline.github.runner_name\": \"Hosted Agent\",\n",
    "    \"pipeline.github.run_id\": \"2661518739\",\n",
    "    \"pipeline.github.actor\": \"matiasdahl\",\n",
    "    \"pipeline.github.job\": \"run-tests-pipeline-and-persist-pipeline-outputs\",\n",
    "    \"pipeline.github.base_ref\": \"\",\n",
    "    \"pipeline.github.head_ref\": \"\",\n",
    "    \"pipeline.github.sha\": \"147a1be9916173fd4d2cd011d8d51e3411215850\",\n",
    "    \"pipeline.github.ref\": \"refs/heads/development\",\n",
    "    \"pipeline.github.ref_type\": \"branch\",\n",
    "    \"pipeline.github.ref_name\": \"development\",\n",
    "    \"pipeline.github.event_name\": \"schedule\",\n",
    "    \"task.nr_train_images\": 800,\n",
    "    \"task.notebook\": \"notebooks/train-model.py\",\n",
    "    \"task.max_nr_retries\": \"1\",\n",
    "    \"run.retry_nr\": \"0\",\n",
    "    \"task.timeout_s\": \"None\",\n",
    "    \"task.num_cpus\": 1,\n",
    "    \"_opentelemetry_traceparent\": \"00-5f05c8a8f596272cb475eba0e8c4eafa-433c0d5981a0c7ff-01\",\n",
    "}\n"
   ]
  },
  {
   "cell_type": "code",
   "execution_count": 4,
   "id": "8eb3ee8a",
   "metadata": {
    "execution": {
     "iopub.execute_input": "2022-07-13T06:50:48.733396Z",
     "iopub.status.busy": "2022-07-13T06:50:48.733198Z",
     "iopub.status.idle": "2022-07-13T06:50:48.736496Z",
     "shell.execute_reply": "2022-07-13T06:50:48.735745Z"
    },
    "lines_to_next_cell": 0,
    "papermill": {
     "duration": 0.012451,
     "end_time": "2022-07-13T06:50:48.740116",
     "exception": false,
     "start_time": "2022-07-13T06:50:48.727665",
     "status": "completed"
    },
    "tags": []
   },
   "outputs": [],
   "source": [
    "# -----------------------------------------------------------------------"
   ]
  },
  {
   "cell_type": "markdown",
   "id": "e21fc3bf",
   "metadata": {
    "papermill": {
     "duration": 0.003338,
     "end_time": "2022-07-13T06:50:48.747747",
     "exception": false,
     "start_time": "2022-07-13T06:50:48.744409",
     "status": "completed"
    },
    "tags": []
   },
   "source": [
    "---"
   ]
  },
  {
   "cell_type": "markdown",
   "id": "cbee20c2",
   "metadata": {
    "lines_to_next_cell": 2,
    "papermill": {
     "duration": 0.004511,
     "end_time": "2022-07-13T06:50:48.755856",
     "exception": false,
     "start_time": "2022-07-13T06:50:48.751345",
     "status": "completed"
    },
    "tags": []
   },
   "source": [
    "### Notebook code"
   ]
  },
  {
   "cell_type": "code",
   "execution_count": 5,
   "id": "e1bd2d52",
   "metadata": {
    "execution": {
     "iopub.execute_input": "2022-07-13T06:50:48.769909Z",
     "iopub.status.busy": "2022-07-13T06:50:48.769702Z",
     "iopub.status.idle": "2022-07-13T06:50:49.386314Z",
     "shell.execute_reply": "2022-07-13T06:50:49.385040Z"
    },
    "papermill": {
     "duration": 0.622858,
     "end_time": "2022-07-13T06:50:49.388637",
     "exception": false,
     "start_time": "2022-07-13T06:50:48.765779",
     "status": "completed"
    },
    "tags": []
   },
   "outputs": [
    {
     "name": "stderr",
     "output_type": "stream",
     "text": [
      "2022-07-13 06:50:49,182\tINFO worker.py:842 -- Connecting to existing Ray cluster at address: 172.17.0.2:6379\n"
     ]
    }
   ],
   "source": [
    "from pynb_dag_runner.tasks.task_opentelemetry_logging import PydarLogger\n",
    "\n",
    "logger = PydarLogger(P)"
   ]
  },
  {
   "cell_type": "markdown",
   "id": "6c876b83",
   "metadata": {
    "papermill": {
     "duration": 0.003638,
     "end_time": "2022-07-13T06:50:49.396647",
     "exception": false,
     "start_time": "2022-07-13T06:50:49.393009",
     "status": "completed"
    },
    "tags": []
   },
   "source": [
    "## Load and limit train data"
   ]
  },
  {
   "cell_type": "code",
   "execution_count": 6,
   "id": "2ba706e2",
   "metadata": {
    "execution": {
     "iopub.execute_input": "2022-07-13T06:50:49.405895Z",
     "iopub.status.busy": "2022-07-13T06:50:49.405432Z",
     "iopub.status.idle": "2022-07-13T06:50:49.888080Z",
     "shell.execute_reply": "2022-07-13T06:50:49.887228Z"
    },
    "papermill": {
     "duration": 0.491435,
     "end_time": "2022-07-13T06:50:49.891341",
     "exception": false,
     "start_time": "2022-07-13T06:50:49.399906",
     "status": "completed"
    },
    "tags": []
   },
   "outputs": [],
   "source": [
    "def load_and_limit_train_data(P):\n",
    "    from common.io import datalake_root, read_numpy\n",
    "    from sklearn.model_selection import train_test_split\n",
    "\n",
    "    X_train_all = read_numpy(datalake_root(P) / \"train-data\" / \"digits.numpy\")\n",
    "    y_train_all = read_numpy(datalake_root(P) / \"train-data\" / \"labels.numpy\")\n",
    "\n",
    "    assert isinstance(P[\"task.nr_train_images\"], int)\n",
    "\n",
    "    # Note: train_test_split will fail if split is 0 or 100%.\n",
    "    assert 0 < P[\"task.nr_train_images\"] < len(y_train_all)\n",
    "\n",
    "    X_train, _, y_train, _ = train_test_split(\n",
    "        X_train_all,\n",
    "        y_train_all,\n",
    "        train_size=P[\"task.nr_train_images\"],\n",
    "        test_size=None,\n",
    "        stratify=y_train_all,\n",
    "        shuffle=True,\n",
    "        random_state=123,\n",
    "    )\n",
    "\n",
    "    assert X_train.shape == (len(y_train), 8 * 8)\n",
    "    return X_train, y_train\n",
    "\n",
    "\n",
    "X_train, y_train = load_and_limit_train_data(P)"
   ]
  },
  {
   "cell_type": "markdown",
   "id": "4330e747",
   "metadata": {
    "papermill": {
     "duration": 0.00428,
     "end_time": "2022-07-13T06:50:49.901473",
     "exception": false,
     "start_time": "2022-07-13T06:50:49.897193",
     "status": "completed"
    },
    "tags": []
   },
   "source": [
    "## Train support vector classifier model\n",
    "\n",
    "Below we assume that the hyperparameter $C$ is known.\n",
    "\n",
    "However, this should ideally be found by a hyperparameter search. That could be\n",
    "done in parallel on the Ray cluster, but this needs some more work. Ie., to use\n",
    "multiple cores in the notebook, those cores should be reserved when starting the\n",
    "notebook task (TODO).\n",
    "\n",
    "- https://docs.ray.io/en/latest/tune/key-concepts.html\n",
    "\n",
    "Note: cv-scores would need to be computed here, since they depend on the train data.\n",
    "After this notebook only the onnx-model is available."
   ]
  },
  {
   "cell_type": "code",
   "execution_count": 7,
   "id": "e330b12d",
   "metadata": {
    "execution": {
     "iopub.execute_input": "2022-07-13T06:50:49.910595Z",
     "iopub.status.busy": "2022-07-13T06:50:49.910241Z",
     "iopub.status.idle": "2022-07-13T06:50:50.002566Z",
     "shell.execute_reply": "2022-07-13T06:50:50.001844Z"
    },
    "papermill": {
     "duration": 0.100072,
     "end_time": "2022-07-13T06:50:50.005556",
     "exception": false,
     "start_time": "2022-07-13T06:50:49.905484",
     "status": "completed"
    },
    "tags": []
   },
   "outputs": [],
   "source": [
    "from sklearn.svm import SVC"
   ]
  },
  {
   "cell_type": "code",
   "execution_count": 8,
   "id": "d8b41215",
   "metadata": {
    "execution": {
     "iopub.execute_input": "2022-07-13T06:50:50.016662Z",
     "iopub.status.busy": "2022-07-13T06:50:50.016210Z",
     "iopub.status.idle": "2022-07-13T06:50:50.160022Z",
     "shell.execute_reply": "2022-07-13T06:50:50.159189Z"
    },
    "papermill": {
     "duration": 0.151412,
     "end_time": "2022-07-13T06:50:50.161950",
     "exception": false,
     "start_time": "2022-07-13T06:50:50.010538",
     "status": "completed"
    },
    "tags": []
   },
   "outputs": [
    {
     "data": {
      "text/plain": [
       "SVC(C=0.001, kernel='linear', probability=True)"
      ]
     },
     "execution_count": 8,
     "metadata": {},
     "output_type": "execute_result"
    }
   ],
   "source": [
    "model = SVC(C=0.001, kernel=\"linear\", probability=True)\n",
    "\n",
    "model.fit(X_train, y_train)"
   ]
  },
  {
   "cell_type": "markdown",
   "id": "3a17e495",
   "metadata": {
    "papermill": {
     "duration": 0.00403,
     "end_time": "2022-07-13T06:50:50.170464",
     "exception": false,
     "start_time": "2022-07-13T06:50:50.166434",
     "status": "completed"
    },
    "tags": []
   },
   "source": [
    "### Q: Can the labels returned by `predict(..)` be computed from probabilities returned by the `predict_prob`-method?"
   ]
  },
  {
   "cell_type": "code",
   "execution_count": 9,
   "id": "974f9595",
   "metadata": {
    "execution": {
     "iopub.execute_input": "2022-07-13T06:50:50.179529Z",
     "iopub.status.busy": "2022-07-13T06:50:50.179003Z",
     "iopub.status.idle": "2022-07-13T06:50:50.226580Z",
     "shell.execute_reply": "2022-07-13T06:50:50.225746Z"
    },
    "papermill": {
     "duration": 0.055407,
     "end_time": "2022-07-13T06:50:50.229393",
     "exception": false,
     "start_time": "2022-07-13T06:50:50.173986",
     "status": "completed"
    },
    "tags": []
   },
   "outputs": [
    {
     "name": "stdout",
     "output_type": "stream",
     "text": [
      " - Logging nr_max_prob_neq_label (int) : 2\n"
     ]
    }
   ],
   "source": [
    "import numpy as np\n",
    "\n",
    "y_train_labels = model.predict(X_train)\n",
    "y_train_probabilities = model.predict_proba(X_train)\n",
    "assert y_train_probabilities.shape == (len(y_train), 10)\n",
    "\n",
    "y_train_max_prob_labels = np.argmax(y_train_probabilities, axis=1)\n",
    "assert y_train_labels.shape == y_train_max_prob_labels.shape == y_train.shape\n",
    "\n",
    "# If the predicted labels would coincide with the labels that have\n",
    "# maximum probability, the below number would be zero\n",
    "logger.log_int(\n",
    "    \"nr_max_prob_neq_label\", int(sum(y_train_max_prob_labels != y_train_labels))\n",
    ")"
   ]
  },
  {
   "cell_type": "markdown",
   "id": "16c19336",
   "metadata": {
    "papermill": {
     "duration": 0.004034,
     "end_time": "2022-07-13T06:50:50.237547",
     "exception": false,
     "start_time": "2022-07-13T06:50:50.233513",
     "status": "completed"
    },
    "tags": []
   },
   "source": [
    "The explanation is (likely) explained in the SVC source, see\n",
    "[here](https://github.com/scikit-learn/scikit-learn/blob/main/sklearn/svm/_base.py).\n",
    "Namely, the outputs from `predict(..)` and `predict_proba(..)` may not in some\n",
    "cases be compatible since the latter is computed using cross-validation while\n",
    "the former is not. Thus, the above number need not be zero."
   ]
  },
  {
   "cell_type": "markdown",
   "id": "3d9ff97d",
   "metadata": {
    "papermill": {
     "duration": 0.003804,
     "end_time": "2022-07-13T06:50:50.245564",
     "exception": false,
     "start_time": "2022-07-13T06:50:50.241760",
     "status": "completed"
    },
    "tags": []
   },
   "source": [
    "## Persist model"
   ]
  },
  {
   "cell_type": "code",
   "execution_count": 10,
   "id": "6fcc6cb0",
   "metadata": {
    "execution": {
     "iopub.execute_input": "2022-07-13T06:50:50.254434Z",
     "iopub.status.busy": "2022-07-13T06:50:50.254166Z",
     "iopub.status.idle": "2022-07-13T06:50:51.680534Z",
     "shell.execute_reply": "2022-07-13T06:50:51.679599Z"
    },
    "papermill": {
     "duration": 1.433963,
     "end_time": "2022-07-13T06:50:51.683283",
     "exception": false,
     "start_time": "2022-07-13T06:50:50.249320",
     "status": "completed"
    },
    "tags": []
   },
   "outputs": [],
   "source": [
    "from skl2onnx import convert_sklearn\n",
    "from skl2onnx.common.data_types import FloatTensorType\n",
    "\n",
    "#\n",
    "from common.io import datalake_root, write_onnx"
   ]
  },
  {
   "cell_type": "code",
   "execution_count": 11,
   "id": "af5666f2",
   "metadata": {
    "execution": {
     "iopub.execute_input": "2022-07-13T06:50:51.693675Z",
     "iopub.status.busy": "2022-07-13T06:50:51.693228Z",
     "iopub.status.idle": "2022-07-13T06:50:51.747165Z",
     "shell.execute_reply": "2022-07-13T06:50:51.746081Z"
    },
    "papermill": {
     "duration": 0.061205,
     "end_time": "2022-07-13T06:50:51.749155",
     "exception": false,
     "start_time": "2022-07-13T06:50:51.687950",
     "status": "completed"
    },
    "tags": []
   },
   "outputs": [],
   "source": [
    "# convert sklearn model into onnx and persist to data lake\n",
    "\n",
    "model_onnx = convert_sklearn(\n",
    "    model, initial_types=[(\"float_input_8x8_image\", FloatTensorType([None, 8 * 8]))]\n",
    ")\n",
    "write_onnx(\n",
    "    datalake_root(P)\n",
    "    / \"models\"\n",
    "    / f\"nr_train_images={P['task.nr_train_images']}\"\n",
    "    / \"model.onnx\",\n",
    "    model_onnx,\n",
    ")"
   ]
  },
  {
   "cell_type": "code",
   "execution_count": null,
   "id": "634d2ed1",
   "metadata": {
    "papermill": {
     "duration": 0.004361,
     "end_time": "2022-07-13T06:50:51.756893",
     "exception": false,
     "start_time": "2022-07-13T06:50:51.752532",
     "status": "completed"
    },
    "tags": []
   },
   "outputs": [],
   "source": []
  }
 ],
 "metadata": {
  "jupytext": {
   "cell_metadata_filter": "tags,-all",
   "main_language": "python",
   "notebook_metadata_filter": "-all"
  },
  "language_info": {
   "codemirror_mode": {
    "name": "ipython",
    "version": 3
   },
   "file_extension": ".py",
   "mimetype": "text/x-python",
   "name": "python",
   "nbconvert_exporter": "python",
   "pygments_lexer": "ipython3",
   "version": "3.8.10"
  },
  "papermill": {
   "default_parameters": {},
   "duration": 5.918522,
   "end_time": "2022-07-13T06:50:52.889837",
   "environment_variables": {},
   "exception": null,
   "input_path": "/home/host_user/workspace/mnist-demo-pipeline/mnist-demo-pipeline/notebooks/temp-notebook-64ri_gzy.ipynb",
   "output_path": "notebooks/train-model.ipynb",
   "parameters": {
    "P": {
     "_opentelemetry_traceparent": "00-5f05c8a8f596272cb475eba0e8c4eafa-433c0d5981a0c7ff-01",
     "pipeline.data_lake_root": "/pipeline-outputs/data-lake",
     "pipeline.github.actor": "matiasdahl",
     "pipeline.github.base_ref": "",
     "pipeline.github.event_name": "schedule",
     "pipeline.github.head_ref": "",
     "pipeline.github.job": "run-tests-pipeline-and-persist-pipeline-outputs",
     "pipeline.github.ref": "refs/heads/development",
     "pipeline.github.ref_name": "development",
     "pipeline.github.ref_type": "branch",
     "pipeline.github.repository": "pynb-dag-runner/mnist-digits-demo-pipeline",
     "pipeline.github.run_id": "2661518739",
     "pipeline.github.runner_name": "Hosted Agent",
     "pipeline.github.sha": "147a1be9916173fd4d2cd011d8d51e3411215850",
     "pipeline.github.workflow": "Run automated tests, pipeline and deploy results to static reporting site",
     "pipeline.pipeline_run_id": "b793658f-ac86-45f8-897e-51ff5314ae09",
     "pipeline.run_environment": "ci",
     "run.retry_nr": "0",
     "task.max_nr_retries": "1",
     "task.notebook": "notebooks/train-model.py",
     "task.nr_train_images": 800,
     "task.num_cpus": 1,
     "task.timeout_s": "None"
    }
   },
   "start_time": "2022-07-13T06:50:46.971315",
   "version": "2.3.3"
  }
 },
 "nbformat": 4,
 "nbformat_minor": 5
}