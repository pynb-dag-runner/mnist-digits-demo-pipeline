{
 "cells": [
  {
   "cell_type": "markdown",
   "id": "2fcb4e90",
   "metadata": {
    "papermill": {
     "duration": 0.010753,
     "end_time": "2022-07-06T06:54:16.155842",
     "exception": false,
     "start_time": "2022-07-06T06:54:16.145089",
     "status": "completed"
    },
    "tags": []
   },
   "source": [
    "# Train model\n",
    "\n",
    "The purpose of this notebook is:\n",
    "\n",
    "- Load all training data (images and labels).\n",
    "- Limit number of train images to `task.nr_train_images` (value provided as run parameter).\n",
    "- Train a support vector machine model using sklearn.\n",
    "- Persist the trained model using the ONNX format."
   ]
  },
  {
   "cell_type": "markdown",
   "id": "6c9662c4",
   "metadata": {
    "papermill": {
     "duration": 0.007251,
     "end_time": "2022-07-06T06:54:16.188323",
     "exception": false,
     "start_time": "2022-07-06T06:54:16.181072",
     "status": "completed"
    },
    "tags": []
   },
   "source": [
    "### Determine run parameters"
   ]
  },
  {
   "cell_type": "code",
   "execution_count": 1,
   "id": "c5a45a72",
   "metadata": {
    "execution": {
     "iopub.execute_input": "2022-07-06T06:54:16.204936Z",
     "iopub.status.busy": "2022-07-06T06:54:16.204212Z",
     "iopub.status.idle": "2022-07-06T06:54:16.220921Z",
     "shell.execute_reply": "2022-07-06T06:54:16.219895Z"
    },
    "lines_to_next_cell": 0,
    "papermill": {
     "duration": 0.029137,
     "end_time": "2022-07-06T06:54:16.224710",
     "exception": false,
     "start_time": "2022-07-06T06:54:16.195573",
     "status": "completed"
    },
    "tags": []
   },
   "outputs": [],
   "source": [
    "# ----------------- Parameters for interactive development --------------\n",
    "P = {\n",
    "    \"pipeline.data_lake_root\": \"/pipeline-outputs/data-lake\",\n",
    "    \"task.nr_train_images\": 600,\n",
    "}"
   ]
  },
  {
   "cell_type": "code",
   "execution_count": 2,
   "id": "e4fc271b",
   "metadata": {
    "execution": {
     "iopub.execute_input": "2022-07-06T06:54:16.240937Z",
     "iopub.status.busy": "2022-07-06T06:54:16.240604Z",
     "iopub.status.idle": "2022-07-06T06:54:16.245203Z",
     "shell.execute_reply": "2022-07-06T06:54:16.244328Z"
    },
    "lines_to_next_cell": 0,
    "papermill": {
     "duration": 0.020366,
     "end_time": "2022-07-06T06:54:16.252806",
     "exception": false,
     "start_time": "2022-07-06T06:54:16.232440",
     "status": "completed"
    },
    "tags": [
     "parameters"
    ]
   },
   "outputs": [],
   "source": [
    "# - During automated runs parameters will be injected in the below cell -"
   ]
  },
  {
   "cell_type": "code",
   "execution_count": 3,
   "id": "16aa29c5",
   "metadata": {
    "execution": {
     "iopub.execute_input": "2022-07-06T06:54:16.275893Z",
     "iopub.status.busy": "2022-07-06T06:54:16.274792Z",
     "iopub.status.idle": "2022-07-06T06:54:16.286977Z",
     "shell.execute_reply": "2022-07-06T06:54:16.283803Z"
    },
    "papermill": {
     "duration": 0.023001,
     "end_time": "2022-07-06T06:54:16.290407",
     "exception": false,
     "start_time": "2022-07-06T06:54:16.267406",
     "status": "completed"
    },
    "tags": [
     "injected-parameters"
    ]
   },
   "outputs": [],
   "source": [
    "# Parameters\n",
    "P = {\n",
    "    \"pipeline.data_lake_root\": \"/pipeline-outputs/data-lake\",\n",
    "    \"pipeline.run_environment\": \"ci\",\n",
    "    \"pipeline.pipeline_run_id\": \"fea682e4-3793-4c0e-9ed3-6f31763c070a\",\n",
    "    \"pipeline.github.repository\": \"pynb-dag-runner/mnist-digits-demo-pipeline\",\n",
    "    \"pipeline.github.workflow\": \"Run automated tests, pipeline and deploy results to static reporting site\",\n",
    "    \"pipeline.github.runner_name\": \"Hosted Agent\",\n",
    "    \"pipeline.github.run_id\": \"2620912334\",\n",
    "    \"pipeline.github.actor\": \"matiasdahl\",\n",
    "    \"pipeline.github.job\": \"run-tests-pipeline-and-persist-pipeline-outputs\",\n",
    "    \"pipeline.github.base_ref\": \"\",\n",
    "    \"pipeline.github.head_ref\": \"\",\n",
    "    \"pipeline.github.sha\": \"f934c58f68028b7bb026059d4e87e6d32a1bbd20\",\n",
    "    \"pipeline.github.ref\": \"refs/heads/development\",\n",
    "    \"pipeline.github.ref_type\": \"branch\",\n",
    "    \"pipeline.github.ref_name\": \"development\",\n",
    "    \"pipeline.github.event_name\": \"schedule\",\n",
    "    \"task.nr_train_images\": 800,\n",
    "    \"task.notebook\": \"notebooks/train-model.py\",\n",
    "    \"task.max_nr_retries\": \"1\",\n",
    "    \"run.retry_nr\": \"0\",\n",
    "    \"task.timeout_s\": \"None\",\n",
    "    \"task.num_cpus\": 1,\n",
    "    \"_opentelemetry_traceparent\": \"00-8cb03d06324d6ba3c821f9057abe8c9c-031e7aa4945a2f84-01\",\n",
    "}\n"
   ]
  },
  {
   "cell_type": "code",
   "execution_count": 4,
   "id": "5637b0a9",
   "metadata": {
    "execution": {
     "iopub.execute_input": "2022-07-06T06:54:16.304392Z",
     "iopub.status.busy": "2022-07-06T06:54:16.303458Z",
     "iopub.status.idle": "2022-07-06T06:54:16.307552Z",
     "shell.execute_reply": "2022-07-06T06:54:16.306792Z"
    },
    "lines_to_next_cell": 0,
    "papermill": {
     "duration": 0.015418,
     "end_time": "2022-07-06T06:54:16.311079",
     "exception": false,
     "start_time": "2022-07-06T06:54:16.295661",
     "status": "completed"
    },
    "tags": []
   },
   "outputs": [],
   "source": [
    "# -----------------------------------------------------------------------"
   ]
  },
  {
   "cell_type": "markdown",
   "id": "d9b1881a",
   "metadata": {
    "papermill": {
     "duration": 0.004943,
     "end_time": "2022-07-06T06:54:16.321073",
     "exception": false,
     "start_time": "2022-07-06T06:54:16.316130",
     "status": "completed"
    },
    "tags": []
   },
   "source": [
    "---"
   ]
  },
  {
   "cell_type": "markdown",
   "id": "efd72ae6",
   "metadata": {
    "lines_to_next_cell": 2,
    "papermill": {
     "duration": 0.005434,
     "end_time": "2022-07-06T06:54:16.331106",
     "exception": false,
     "start_time": "2022-07-06T06:54:16.325672",
     "status": "completed"
    },
    "tags": []
   },
   "source": [
    "### Notebook code"
   ]
  },
  {
   "cell_type": "code",
   "execution_count": 5,
   "id": "02ccb8a2",
   "metadata": {
    "execution": {
     "iopub.execute_input": "2022-07-06T06:54:16.348741Z",
     "iopub.status.busy": "2022-07-06T06:54:16.347972Z",
     "iopub.status.idle": "2022-07-06T06:54:17.238636Z",
     "shell.execute_reply": "2022-07-06T06:54:17.236258Z"
    },
    "papermill": {
     "duration": 0.909242,
     "end_time": "2022-07-06T06:54:17.250750",
     "exception": false,
     "start_time": "2022-07-06T06:54:16.341508",
     "status": "completed"
    },
    "tags": []
   },
   "outputs": [
    {
     "name": "stderr",
     "output_type": "stream",
     "text": [
      "2022-07-06 06:54:16,986\tINFO worker.py:842 -- Connecting to existing Ray cluster at address: 172.17.0.2:6379\n"
     ]
    }
   ],
   "source": [
    "from pynb_dag_runner.tasks.task_opentelemetry_logging import PydarLogger\n",
    "\n",
    "logger = PydarLogger(P)"
   ]
  },
  {
   "cell_type": "markdown",
   "id": "1b56cb23",
   "metadata": {
    "papermill": {
     "duration": 0.018423,
     "end_time": "2022-07-06T06:54:17.279155",
     "exception": false,
     "start_time": "2022-07-06T06:54:17.260732",
     "status": "completed"
    },
    "tags": []
   },
   "source": [
    "## Load and limit train data"
   ]
  },
  {
   "cell_type": "code",
   "execution_count": 6,
   "id": "fff91965",
   "metadata": {
    "execution": {
     "iopub.execute_input": "2022-07-06T06:54:17.343930Z",
     "iopub.status.busy": "2022-07-06T06:54:17.343441Z",
     "iopub.status.idle": "2022-07-06T06:54:18.140699Z",
     "shell.execute_reply": "2022-07-06T06:54:18.139677Z"
    },
    "papermill": {
     "duration": 0.849644,
     "end_time": "2022-07-06T06:54:18.151340",
     "exception": false,
     "start_time": "2022-07-06T06:54:17.301696",
     "status": "completed"
    },
    "tags": []
   },
   "outputs": [],
   "source": [
    "def load_and_limit_train_data(P):\n",
    "    from common.io import datalake_root, read_numpy\n",
    "    from sklearn.model_selection import train_test_split\n",
    "\n",
    "    X_train_all = read_numpy(datalake_root(P) / \"train-data\" / \"digits.numpy\")\n",
    "    y_train_all = read_numpy(datalake_root(P) / \"train-data\" / \"labels.numpy\")\n",
    "\n",
    "    assert isinstance(P[\"task.nr_train_images\"], int)\n",
    "\n",
    "    # Note: train_test_split will fail if split is 0 or 100%.\n",
    "    assert 0 < P[\"task.nr_train_images\"] < len(y_train_all)\n",
    "\n",
    "    X_train, _, y_train, _ = train_test_split(\n",
    "        X_train_all,\n",
    "        y_train_all,\n",
    "        train_size=P[\"task.nr_train_images\"],\n",
    "        test_size=None,\n",
    "        stratify=y_train_all,\n",
    "        shuffle=True,\n",
    "        random_state=123,\n",
    "    )\n",
    "\n",
    "    assert X_train.shape == (len(y_train), 8 * 8)\n",
    "    return X_train, y_train\n",
    "\n",
    "\n",
    "X_train, y_train = load_and_limit_train_data(P)"
   ]
  },
  {
   "cell_type": "markdown",
   "id": "38517e4f",
   "metadata": {
    "papermill": {
     "duration": 0.005578,
     "end_time": "2022-07-06T06:54:18.169766",
     "exception": false,
     "start_time": "2022-07-06T06:54:18.164188",
     "status": "completed"
    },
    "tags": []
   },
   "source": [
    "## Train support vector classifier model\n",
    "\n",
    "Below we assume that the hyperparameter $C$ is known.\n",
    "\n",
    "However, this should ideally be found by a hyperparameter search. That could be\n",
    "done in parallel on the Ray cluster, but this needs some more work. Ie., to use\n",
    "multiple cores in the notebook, those cores should be reserved when starting the\n",
    "notebook task (TODO).\n",
    "\n",
    "- https://docs.ray.io/en/latest/tune/key-concepts.html\n",
    "\n",
    "Note: cv-scores would need to be computed here, since they depend on the train data.\n",
    "After this notebook only the onnx-model is available."
   ]
  },
  {
   "cell_type": "code",
   "execution_count": 7,
   "id": "7ab728b1",
   "metadata": {
    "execution": {
     "iopub.execute_input": "2022-07-06T06:54:18.194276Z",
     "iopub.status.busy": "2022-07-06T06:54:18.193359Z",
     "iopub.status.idle": "2022-07-06T06:54:18.236479Z",
     "shell.execute_reply": "2022-07-06T06:54:18.234465Z"
    },
    "papermill": {
     "duration": 0.063472,
     "end_time": "2022-07-06T06:54:18.240241",
     "exception": false,
     "start_time": "2022-07-06T06:54:18.176769",
     "status": "completed"
    },
    "tags": []
   },
   "outputs": [],
   "source": [
    "from sklearn.svm import SVC"
   ]
  },
  {
   "cell_type": "code",
   "execution_count": 8,
   "id": "fe0350a5",
   "metadata": {
    "execution": {
     "iopub.execute_input": "2022-07-06T06:54:18.278972Z",
     "iopub.status.busy": "2022-07-06T06:54:18.278094Z",
     "iopub.status.idle": "2022-07-06T06:54:18.430791Z",
     "shell.execute_reply": "2022-07-06T06:54:18.430020Z"
    },
    "papermill": {
     "duration": 0.187314,
     "end_time": "2022-07-06T06:54:18.433574",
     "exception": false,
     "start_time": "2022-07-06T06:54:18.246260",
     "status": "completed"
    },
    "tags": []
   },
   "outputs": [
    {
     "data": {
      "text/plain": [
       "SVC(C=0.001, kernel='linear', probability=True)"
      ]
     },
     "execution_count": 8,
     "metadata": {},
     "output_type": "execute_result"
    }
   ],
   "source": [
    "model = SVC(C=0.001, kernel=\"linear\", probability=True)\n",
    "\n",
    "model.fit(X_train, y_train)"
   ]
  },
  {
   "cell_type": "markdown",
   "id": "df0a57cd",
   "metadata": {
    "papermill": {
     "duration": 0.005062,
     "end_time": "2022-07-06T06:54:18.448950",
     "exception": false,
     "start_time": "2022-07-06T06:54:18.443888",
     "status": "completed"
    },
    "tags": []
   },
   "source": [
    "### Q: Can the labels returned by `predict(..)` be computed from probabilities returned by the `predict_prob`-method?"
   ]
  },
  {
   "cell_type": "code",
   "execution_count": 9,
   "id": "f411af72",
   "metadata": {
    "execution": {
     "iopub.execute_input": "2022-07-06T06:54:18.459722Z",
     "iopub.status.busy": "2022-07-06T06:54:18.459369Z",
     "iopub.status.idle": "2022-07-06T06:54:18.543194Z",
     "shell.execute_reply": "2022-07-06T06:54:18.541399Z"
    },
    "papermill": {
     "duration": 0.092825,
     "end_time": "2022-07-06T06:54:18.546081",
     "exception": false,
     "start_time": "2022-07-06T06:54:18.453256",
     "status": "completed"
    },
    "tags": []
   },
   "outputs": [
    {
     "name": "stdout",
     "output_type": "stream",
     "text": [
      " - Logging nr_max_prob_neq_label (int) : 2\n"
     ]
    }
   ],
   "source": [
    "import numpy as np\n",
    "\n",
    "y_train_labels = model.predict(X_train)\n",
    "y_train_probabilities = model.predict_proba(X_train)\n",
    "assert y_train_probabilities.shape == (len(y_train), 10)\n",
    "\n",
    "y_train_max_prob_labels = np.argmax(y_train_probabilities, axis=1)\n",
    "assert y_train_labels.shape == y_train_max_prob_labels.shape == y_train.shape\n",
    "\n",
    "# If the predicted labels would coincide with the labels that have\n",
    "# maximum probability, the below number would be zero\n",
    "logger.log_int(\n",
    "    \"nr_max_prob_neq_label\", int(sum(y_train_max_prob_labels != y_train_labels))\n",
    ")"
   ]
  },
  {
   "cell_type": "markdown",
   "id": "9a768406",
   "metadata": {
    "papermill": {
     "duration": 0.010638,
     "end_time": "2022-07-06T06:54:18.562472",
     "exception": false,
     "start_time": "2022-07-06T06:54:18.551834",
     "status": "completed"
    },
    "tags": []
   },
   "source": [
    "The explanation is (likely) explained in the SVC source, see\n",
    "[here](https://github.com/scikit-learn/scikit-learn/blob/main/sklearn/svm/_base.py).\n",
    "Namely, the outputs from `predict(..)` and `predict_proba(..)` may not in some\n",
    "cases be compatible since the latter is computed using cross-validation while\n",
    "the former is not. Thus, the above number need not be zero."
   ]
  },
  {
   "cell_type": "markdown",
   "id": "a1f9e35e",
   "metadata": {
    "papermill": {
     "duration": 0.018261,
     "end_time": "2022-07-06T06:54:18.606747",
     "exception": false,
     "start_time": "2022-07-06T06:54:18.588486",
     "status": "completed"
    },
    "tags": []
   },
   "source": [
    "## Persist model"
   ]
  },
  {
   "cell_type": "code",
   "execution_count": 10,
   "id": "307a2540",
   "metadata": {
    "execution": {
     "iopub.execute_input": "2022-07-06T06:54:18.645367Z",
     "iopub.status.busy": "2022-07-06T06:54:18.644621Z",
     "iopub.status.idle": "2022-07-06T06:54:20.328281Z",
     "shell.execute_reply": "2022-07-06T06:54:20.327431Z"
    },
    "papermill": {
     "duration": 1.706917,
     "end_time": "2022-07-06T06:54:20.330589",
     "exception": false,
     "start_time": "2022-07-06T06:54:18.623672",
     "status": "completed"
    },
    "tags": []
   },
   "outputs": [],
   "source": [
    "from skl2onnx import convert_sklearn\n",
    "from skl2onnx.common.data_types import FloatTensorType\n",
    "\n",
    "#\n",
    "from common.io import datalake_root, write_onnx"
   ]
  },
  {
   "cell_type": "code",
   "execution_count": 11,
   "id": "282a828a",
   "metadata": {
    "execution": {
     "iopub.execute_input": "2022-07-06T06:54:20.359509Z",
     "iopub.status.busy": "2022-07-06T06:54:20.358631Z",
     "iopub.status.idle": "2022-07-06T06:54:20.445858Z",
     "shell.execute_reply": "2022-07-06T06:54:20.443363Z"
    },
    "papermill": {
     "duration": 0.111342,
     "end_time": "2022-07-06T06:54:20.451848",
     "exception": false,
     "start_time": "2022-07-06T06:54:20.340506",
     "status": "completed"
    },
    "tags": []
   },
   "outputs": [],
   "source": [
    "# convert sklearn model into onnx and persist to data lake\n",
    "\n",
    "model_onnx = convert_sklearn(\n",
    "    model, initial_types=[(\"float_input_8x8_image\", FloatTensorType([None, 8 * 8]))]\n",
    ")\n",
    "write_onnx(\n",
    "    datalake_root(P)\n",
    "    / \"models\"\n",
    "    / f\"nr_train_images={P['task.nr_train_images']}\"\n",
    "    / \"model.onnx\",\n",
    "    model_onnx,\n",
    ")"
   ]
  },
  {
   "cell_type": "code",
   "execution_count": null,
   "id": "e1b7697e",
   "metadata": {
    "papermill": {
     "duration": 0.02415,
     "end_time": "2022-07-06T06:54:20.483442",
     "exception": false,
     "start_time": "2022-07-06T06:54:20.459292",
     "status": "completed"
    },
    "tags": []
   },
   "outputs": [],
   "source": []
  }
 ],
 "metadata": {
  "jupytext": {
   "cell_metadata_filter": "tags,-all",
   "main_language": "python",
   "notebook_metadata_filter": "-all"
  },
  "language_info": {
   "codemirror_mode": {
    "name": "ipython",
    "version": 3
   },
   "file_extension": ".py",
   "mimetype": "text/x-python",
   "name": "python",
   "nbconvert_exporter": "python",
   "pygments_lexer": "ipython3",
   "version": "3.8.10"
  },
  "papermill": {
   "default_parameters": {},
   "duration": 8.98151,
   "end_time": "2022-07-06T06:54:22.666831",
   "environment_variables": {},
   "exception": null,
   "input_path": "/home/host_user/workspace/mnist-demo-pipeline/mnist-demo-pipeline/notebooks/temp-notebook-ov00ns9r.ipynb",
   "output_path": "notebooks/train-model.ipynb",
   "parameters": {
    "P": {
     "_opentelemetry_traceparent": "00-8cb03d06324d6ba3c821f9057abe8c9c-031e7aa4945a2f84-01",
     "pipeline.data_lake_root": "/pipeline-outputs/data-lake",
     "pipeline.github.actor": "matiasdahl",
     "pipeline.github.base_ref": "",
     "pipeline.github.event_name": "schedule",
     "pipeline.github.head_ref": "",
     "pipeline.github.job": "run-tests-pipeline-and-persist-pipeline-outputs",
     "pipeline.github.ref": "refs/heads/development",
     "pipeline.github.ref_name": "development",
     "pipeline.github.ref_type": "branch",
     "pipeline.github.repository": "pynb-dag-runner/mnist-digits-demo-pipeline",
     "pipeline.github.run_id": "2620912334",
     "pipeline.github.runner_name": "Hosted Agent",
     "pipeline.github.sha": "f934c58f68028b7bb026059d4e87e6d32a1bbd20",
     "pipeline.github.workflow": "Run automated tests, pipeline and deploy results to static reporting site",
     "pipeline.pipeline_run_id": "fea682e4-3793-4c0e-9ed3-6f31763c070a",
     "pipeline.run_environment": "ci",
     "run.retry_nr": "0",
     "task.max_nr_retries": "1",
     "task.notebook": "notebooks/train-model.py",
     "task.nr_train_images": 800,
     "task.num_cpus": 1,
     "task.timeout_s": "None"
    }
   },
   "start_time": "2022-07-06T06:54:13.685321",
   "version": "2.3.3"
  }
 },
 "nbformat": 4,
 "nbformat_minor": 5
}