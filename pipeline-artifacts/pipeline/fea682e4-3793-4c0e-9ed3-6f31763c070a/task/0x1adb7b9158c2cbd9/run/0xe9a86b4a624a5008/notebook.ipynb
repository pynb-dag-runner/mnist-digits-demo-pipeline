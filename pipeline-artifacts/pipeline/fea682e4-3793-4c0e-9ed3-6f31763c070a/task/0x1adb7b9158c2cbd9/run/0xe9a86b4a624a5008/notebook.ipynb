{
 "cells": [
  {
   "cell_type": "markdown",
   "id": "51e5e1f5",
   "metadata": {
    "papermill": {
     "duration": 0.022771,
     "end_time": "2022-07-06T06:54:04.019386",
     "exception": false,
     "start_time": "2022-07-06T06:54:03.996615",
     "status": "completed"
    },
    "tags": []
   },
   "source": [
    "# Train model\n",
    "\n",
    "The purpose of this notebook is:\n",
    "\n",
    "- Load all training data (images and labels).\n",
    "- Limit number of train images to `task.nr_train_images` (value provided as run parameter).\n",
    "- Train a support vector machine model using sklearn.\n",
    "- Persist the trained model using the ONNX format."
   ]
  },
  {
   "cell_type": "markdown",
   "id": "03f4da9e",
   "metadata": {
    "papermill": {
     "duration": 0.005118,
     "end_time": "2022-07-06T06:54:04.044806",
     "exception": false,
     "start_time": "2022-07-06T06:54:04.039688",
     "status": "completed"
    },
    "tags": []
   },
   "source": [
    "### Determine run parameters"
   ]
  },
  {
   "cell_type": "code",
   "execution_count": 1,
   "id": "77a19ac7",
   "metadata": {
    "execution": {
     "iopub.execute_input": "2022-07-06T06:54:04.088612Z",
     "iopub.status.busy": "2022-07-06T06:54:04.086794Z",
     "iopub.status.idle": "2022-07-06T06:54:04.105576Z",
     "shell.execute_reply": "2022-07-06T06:54:04.104088Z"
    },
    "lines_to_next_cell": 0,
    "papermill": {
     "duration": 0.045813,
     "end_time": "2022-07-06T06:54:04.112435",
     "exception": false,
     "start_time": "2022-07-06T06:54:04.066622",
     "status": "completed"
    },
    "tags": []
   },
   "outputs": [],
   "source": [
    "# ----------------- Parameters for interactive development --------------\n",
    "P = {\n",
    "    \"pipeline.data_lake_root\": \"/pipeline-outputs/data-lake\",\n",
    "    \"task.nr_train_images\": 600,\n",
    "}"
   ]
  },
  {
   "cell_type": "code",
   "execution_count": 2,
   "id": "6afd157d",
   "metadata": {
    "execution": {
     "iopub.execute_input": "2022-07-06T06:54:04.136249Z",
     "iopub.status.busy": "2022-07-06T06:54:04.135814Z",
     "iopub.status.idle": "2022-07-06T06:54:04.140351Z",
     "shell.execute_reply": "2022-07-06T06:54:04.139543Z"
    },
    "lines_to_next_cell": 0,
    "papermill": {
     "duration": 0.039839,
     "end_time": "2022-07-06T06:54:04.159717",
     "exception": false,
     "start_time": "2022-07-06T06:54:04.119878",
     "status": "completed"
    },
    "tags": [
     "parameters"
    ]
   },
   "outputs": [],
   "source": [
    "# - During automated runs parameters will be injected in the below cell -"
   ]
  },
  {
   "cell_type": "code",
   "execution_count": 3,
   "id": "2b2ca30d",
   "metadata": {
    "execution": {
     "iopub.execute_input": "2022-07-06T06:54:04.183482Z",
     "iopub.status.busy": "2022-07-06T06:54:04.182767Z",
     "iopub.status.idle": "2022-07-06T06:54:04.192155Z",
     "shell.execute_reply": "2022-07-06T06:54:04.191236Z"
    },
    "papermill": {
     "duration": 0.026631,
     "end_time": "2022-07-06T06:54:04.198790",
     "exception": false,
     "start_time": "2022-07-06T06:54:04.172159",
     "status": "completed"
    },
    "tags": [
     "injected-parameters"
    ]
   },
   "outputs": [],
   "source": [
    "# Parameters\n",
    "P = {\n",
    "    \"pipeline.data_lake_root\": \"/pipeline-outputs/data-lake\",\n",
    "    \"pipeline.run_environment\": \"ci\",\n",
    "    \"pipeline.pipeline_run_id\": \"fea682e4-3793-4c0e-9ed3-6f31763c070a\",\n",
    "    \"pipeline.github.repository\": \"pynb-dag-runner/mnist-digits-demo-pipeline\",\n",
    "    \"pipeline.github.workflow\": \"Run automated tests, pipeline and deploy results to static reporting site\",\n",
    "    \"pipeline.github.runner_name\": \"Hosted Agent\",\n",
    "    \"pipeline.github.run_id\": \"2620912334\",\n",
    "    \"pipeline.github.actor\": \"matiasdahl\",\n",
    "    \"pipeline.github.job\": \"run-tests-pipeline-and-persist-pipeline-outputs\",\n",
    "    \"pipeline.github.base_ref\": \"\",\n",
    "    \"pipeline.github.head_ref\": \"\",\n",
    "    \"pipeline.github.sha\": \"f934c58f68028b7bb026059d4e87e6d32a1bbd20\",\n",
    "    \"pipeline.github.ref\": \"refs/heads/development\",\n",
    "    \"pipeline.github.ref_type\": \"branch\",\n",
    "    \"pipeline.github.ref_name\": \"development\",\n",
    "    \"pipeline.github.event_name\": \"schedule\",\n",
    "    \"task.nr_train_images\": 1000,\n",
    "    \"task.notebook\": \"notebooks/train-model.py\",\n",
    "    \"task.max_nr_retries\": \"1\",\n",
    "    \"run.retry_nr\": \"0\",\n",
    "    \"task.timeout_s\": \"None\",\n",
    "    \"task.num_cpus\": 1,\n",
    "    \"_opentelemetry_traceparent\": \"00-8cb03d06324d6ba3c821f9057abe8c9c-7a21061d767a4712-01\",\n",
    "}\n"
   ]
  },
  {
   "cell_type": "code",
   "execution_count": 4,
   "id": "24245457",
   "metadata": {
    "execution": {
     "iopub.execute_input": "2022-07-06T06:54:04.227431Z",
     "iopub.status.busy": "2022-07-06T06:54:04.227104Z",
     "iopub.status.idle": "2022-07-06T06:54:04.230712Z",
     "shell.execute_reply": "2022-07-06T06:54:04.229948Z"
    },
    "lines_to_next_cell": 0,
    "papermill": {
     "duration": 0.024001,
     "end_time": "2022-07-06T06:54:04.237507",
     "exception": false,
     "start_time": "2022-07-06T06:54:04.213506",
     "status": "completed"
    },
    "tags": []
   },
   "outputs": [],
   "source": [
    "# -----------------------------------------------------------------------"
   ]
  },
  {
   "cell_type": "markdown",
   "id": "22a210ef",
   "metadata": {
    "papermill": {
     "duration": 0.021596,
     "end_time": "2022-07-06T06:54:04.267798",
     "exception": false,
     "start_time": "2022-07-06T06:54:04.246202",
     "status": "completed"
    },
    "tags": []
   },
   "source": [
    "---"
   ]
  },
  {
   "cell_type": "markdown",
   "id": "cbaeb35d",
   "metadata": {
    "lines_to_next_cell": 2,
    "papermill": {
     "duration": 0.00615,
     "end_time": "2022-07-06T06:54:04.299173",
     "exception": false,
     "start_time": "2022-07-06T06:54:04.293023",
     "status": "completed"
    },
    "tags": []
   },
   "source": [
    "### Notebook code"
   ]
  },
  {
   "cell_type": "code",
   "execution_count": 5,
   "id": "510b24a5",
   "metadata": {
    "execution": {
     "iopub.execute_input": "2022-07-06T06:54:04.316806Z",
     "iopub.status.busy": "2022-07-06T06:54:04.316359Z",
     "iopub.status.idle": "2022-07-06T06:54:05.112321Z",
     "shell.execute_reply": "2022-07-06T06:54:05.110453Z"
    },
    "papermill": {
     "duration": 0.80584,
     "end_time": "2022-07-06T06:54:05.115570",
     "exception": false,
     "start_time": "2022-07-06T06:54:04.309730",
     "status": "completed"
    },
    "tags": []
   },
   "outputs": [
    {
     "name": "stderr",
     "output_type": "stream",
     "text": [
      "2022-07-06 06:54:04,875\tINFO worker.py:842 -- Connecting to existing Ray cluster at address: 172.17.0.2:6379\n"
     ]
    }
   ],
   "source": [
    "from pynb_dag_runner.tasks.task_opentelemetry_logging import PydarLogger\n",
    "\n",
    "logger = PydarLogger(P)"
   ]
  },
  {
   "cell_type": "markdown",
   "id": "f5fab010",
   "metadata": {
    "papermill": {
     "duration": 0.02339,
     "end_time": "2022-07-06T06:54:05.147031",
     "exception": false,
     "start_time": "2022-07-06T06:54:05.123641",
     "status": "completed"
    },
    "tags": []
   },
   "source": [
    "## Load and limit train data"
   ]
  },
  {
   "cell_type": "code",
   "execution_count": 6,
   "id": "243e1ef4",
   "metadata": {
    "execution": {
     "iopub.execute_input": "2022-07-06T06:54:05.194103Z",
     "iopub.status.busy": "2022-07-06T06:54:05.191580Z",
     "iopub.status.idle": "2022-07-06T06:54:05.958974Z",
     "shell.execute_reply": "2022-07-06T06:54:05.957958Z"
    },
    "papermill": {
     "duration": 0.795671,
     "end_time": "2022-07-06T06:54:05.961439",
     "exception": false,
     "start_time": "2022-07-06T06:54:05.165768",
     "status": "completed"
    },
    "tags": []
   },
   "outputs": [],
   "source": [
    "def load_and_limit_train_data(P):\n",
    "    from common.io import datalake_root, read_numpy\n",
    "    from sklearn.model_selection import train_test_split\n",
    "\n",
    "    X_train_all = read_numpy(datalake_root(P) / \"train-data\" / \"digits.numpy\")\n",
    "    y_train_all = read_numpy(datalake_root(P) / \"train-data\" / \"labels.numpy\")\n",
    "\n",
    "    assert isinstance(P[\"task.nr_train_images\"], int)\n",
    "\n",
    "    # Note: train_test_split will fail if split is 0 or 100%.\n",
    "    assert 0 < P[\"task.nr_train_images\"] < len(y_train_all)\n",
    "\n",
    "    X_train, _, y_train, _ = train_test_split(\n",
    "        X_train_all,\n",
    "        y_train_all,\n",
    "        train_size=P[\"task.nr_train_images\"],\n",
    "        test_size=None,\n",
    "        stratify=y_train_all,\n",
    "        shuffle=True,\n",
    "        random_state=123,\n",
    "    )\n",
    "\n",
    "    assert X_train.shape == (len(y_train), 8 * 8)\n",
    "    return X_train, y_train\n",
    "\n",
    "\n",
    "X_train, y_train = load_and_limit_train_data(P)"
   ]
  },
  {
   "cell_type": "markdown",
   "id": "bd27f902",
   "metadata": {
    "papermill": {
     "duration": 0.013095,
     "end_time": "2022-07-06T06:54:05.980368",
     "exception": false,
     "start_time": "2022-07-06T06:54:05.967273",
     "status": "completed"
    },
    "tags": []
   },
   "source": [
    "## Train support vector classifier model\n",
    "\n",
    "Below we assume that the hyperparameter $C$ is known.\n",
    "\n",
    "However, this should ideally be found by a hyperparameter search. That could be\n",
    "done in parallel on the Ray cluster, but this needs some more work. Ie., to use\n",
    "multiple cores in the notebook, those cores should be reserved when starting the\n",
    "notebook task (TODO).\n",
    "\n",
    "- https://docs.ray.io/en/latest/tune/key-concepts.html\n",
    "\n",
    "Note: cv-scores would need to be computed here, since they depend on the train data.\n",
    "After this notebook only the onnx-model is available."
   ]
  },
  {
   "cell_type": "code",
   "execution_count": 7,
   "id": "abd06527",
   "metadata": {
    "execution": {
     "iopub.execute_input": "2022-07-06T06:54:05.996761Z",
     "iopub.status.busy": "2022-07-06T06:54:05.996396Z",
     "iopub.status.idle": "2022-07-06T06:54:06.165914Z",
     "shell.execute_reply": "2022-07-06T06:54:06.165037Z"
    },
    "papermill": {
     "duration": 0.198039,
     "end_time": "2022-07-06T06:54:06.187355",
     "exception": false,
     "start_time": "2022-07-06T06:54:05.989316",
     "status": "completed"
    },
    "tags": []
   },
   "outputs": [],
   "source": [
    "from sklearn.svm import SVC"
   ]
  },
  {
   "cell_type": "code",
   "execution_count": 8,
   "id": "dbf15ec0",
   "metadata": {
    "execution": {
     "iopub.execute_input": "2022-07-06T06:54:06.222652Z",
     "iopub.status.busy": "2022-07-06T06:54:06.222265Z",
     "iopub.status.idle": "2022-07-06T06:54:06.573603Z",
     "shell.execute_reply": "2022-07-06T06:54:06.572763Z"
    },
    "papermill": {
     "duration": 0.38161,
     "end_time": "2022-07-06T06:54:06.577577",
     "exception": false,
     "start_time": "2022-07-06T06:54:06.195967",
     "status": "completed"
    },
    "tags": []
   },
   "outputs": [
    {
     "data": {
      "text/plain": [
       "SVC(C=0.001, kernel='linear', probability=True)"
      ]
     },
     "execution_count": 8,
     "metadata": {},
     "output_type": "execute_result"
    }
   ],
   "source": [
    "model = SVC(C=0.001, kernel=\"linear\", probability=True)\n",
    "\n",
    "model.fit(X_train, y_train)"
   ]
  },
  {
   "cell_type": "markdown",
   "id": "23df2448",
   "metadata": {
    "papermill": {
     "duration": 0.010222,
     "end_time": "2022-07-06T06:54:06.610576",
     "exception": false,
     "start_time": "2022-07-06T06:54:06.600354",
     "status": "completed"
    },
    "tags": []
   },
   "source": [
    "### Q: Can the labels returned by `predict(..)` be computed from probabilities returned by the `predict_prob`-method?"
   ]
  },
  {
   "cell_type": "code",
   "execution_count": 9,
   "id": "d3c83401",
   "metadata": {
    "execution": {
     "iopub.execute_input": "2022-07-06T06:54:06.638206Z",
     "iopub.status.busy": "2022-07-06T06:54:06.637795Z",
     "iopub.status.idle": "2022-07-06T06:54:06.766121Z",
     "shell.execute_reply": "2022-07-06T06:54:06.764398Z"
    },
    "papermill": {
     "duration": 0.141984,
     "end_time": "2022-07-06T06:54:06.768633",
     "exception": false,
     "start_time": "2022-07-06T06:54:06.626649",
     "status": "completed"
    },
    "tags": []
   },
   "outputs": [
    {
     "name": "stdout",
     "output_type": "stream",
     "text": [
      " - Logging nr_max_prob_neq_label (int) : 1\n"
     ]
    }
   ],
   "source": [
    "import numpy as np\n",
    "\n",
    "y_train_labels = model.predict(X_train)\n",
    "y_train_probabilities = model.predict_proba(X_train)\n",
    "assert y_train_probabilities.shape == (len(y_train), 10)\n",
    "\n",
    "y_train_max_prob_labels = np.argmax(y_train_probabilities, axis=1)\n",
    "assert y_train_labels.shape == y_train_max_prob_labels.shape == y_train.shape\n",
    "\n",
    "# If the predicted labels would coincide with the labels that have\n",
    "# maximum probability, the below number would be zero\n",
    "logger.log_int(\n",
    "    \"nr_max_prob_neq_label\", int(sum(y_train_max_prob_labels != y_train_labels))\n",
    ")"
   ]
  },
  {
   "cell_type": "markdown",
   "id": "f222d554",
   "metadata": {
    "papermill": {
     "duration": 0.008075,
     "end_time": "2022-07-06T06:54:06.781496",
     "exception": false,
     "start_time": "2022-07-06T06:54:06.773421",
     "status": "completed"
    },
    "tags": []
   },
   "source": [
    "The explanation is (likely) explained in the SVC source, see\n",
    "[here](https://github.com/scikit-learn/scikit-learn/blob/main/sklearn/svm/_base.py).\n",
    "Namely, the outputs from `predict(..)` and `predict_proba(..)` may not in some\n",
    "cases be compatible since the latter is computed using cross-validation while\n",
    "the former is not. Thus, the above number need not be zero."
   ]
  },
  {
   "cell_type": "markdown",
   "id": "4345b9c3",
   "metadata": {
    "papermill": {
     "duration": 0.004459,
     "end_time": "2022-07-06T06:54:06.796916",
     "exception": false,
     "start_time": "2022-07-06T06:54:06.792457",
     "status": "completed"
    },
    "tags": []
   },
   "source": [
    "## Persist model"
   ]
  },
  {
   "cell_type": "code",
   "execution_count": 10,
   "id": "23137b90",
   "metadata": {
    "execution": {
     "iopub.execute_input": "2022-07-06T06:54:06.808191Z",
     "iopub.status.busy": "2022-07-06T06:54:06.807133Z",
     "iopub.status.idle": "2022-07-06T06:54:09.030427Z",
     "shell.execute_reply": "2022-07-06T06:54:09.029038Z"
    },
    "papermill": {
     "duration": 2.241561,
     "end_time": "2022-07-06T06:54:09.042376",
     "exception": false,
     "start_time": "2022-07-06T06:54:06.800815",
     "status": "completed"
    },
    "tags": []
   },
   "outputs": [],
   "source": [
    "from skl2onnx import convert_sklearn\n",
    "from skl2onnx.common.data_types import FloatTensorType\n",
    "\n",
    "#\n",
    "from common.io import datalake_root, write_onnx"
   ]
  },
  {
   "cell_type": "code",
   "execution_count": 11,
   "id": "eaaef39e",
   "metadata": {
    "execution": {
     "iopub.execute_input": "2022-07-06T06:54:09.056819Z",
     "iopub.status.busy": "2022-07-06T06:54:09.056348Z",
     "iopub.status.idle": "2022-07-06T06:54:09.132320Z",
     "shell.execute_reply": "2022-07-06T06:54:09.131091Z"
    },
    "papermill": {
     "duration": 0.086506,
     "end_time": "2022-07-06T06:54:09.135073",
     "exception": false,
     "start_time": "2022-07-06T06:54:09.048567",
     "status": "completed"
    },
    "tags": []
   },
   "outputs": [],
   "source": [
    "# convert sklearn model into onnx and persist to data lake\n",
    "\n",
    "model_onnx = convert_sklearn(\n",
    "    model, initial_types=[(\"float_input_8x8_image\", FloatTensorType([None, 8 * 8]))]\n",
    ")\n",
    "write_onnx(\n",
    "    datalake_root(P)\n",
    "    / \"models\"\n",
    "    / f\"nr_train_images={P['task.nr_train_images']}\"\n",
    "    / \"model.onnx\",\n",
    "    model_onnx,\n",
    ")"
   ]
  },
  {
   "cell_type": "code",
   "execution_count": null,
   "id": "e4432389",
   "metadata": {
    "papermill": {
     "duration": 0.026364,
     "end_time": "2022-07-06T06:54:09.165632",
     "exception": false,
     "start_time": "2022-07-06T06:54:09.139268",
     "status": "completed"
    },
    "tags": []
   },
   "outputs": [],
   "source": []
  }
 ],
 "metadata": {
  "jupytext": {
   "cell_metadata_filter": "tags,-all",
   "main_language": "python",
   "notebook_metadata_filter": "-all"
  },
  "language_info": {
   "codemirror_mode": {
    "name": "ipython",
    "version": 3
   },
   "file_extension": ".py",
   "mimetype": "text/x-python",
   "name": "python",
   "nbconvert_exporter": "python",
   "pygments_lexer": "ipython3",
   "version": "3.8.10"
  },
  "papermill": {
   "default_parameters": {},
   "duration": 9.030091,
   "end_time": "2022-07-06T06:54:10.802104",
   "environment_variables": {},
   "exception": null,
   "input_path": "/home/host_user/workspace/mnist-demo-pipeline/mnist-demo-pipeline/notebooks/temp-notebook-8cl4_h1m.ipynb",
   "output_path": "notebooks/train-model.ipynb",
   "parameters": {
    "P": {
     "_opentelemetry_traceparent": "00-8cb03d06324d6ba3c821f9057abe8c9c-7a21061d767a4712-01",
     "pipeline.data_lake_root": "/pipeline-outputs/data-lake",
     "pipeline.github.actor": "matiasdahl",
     "pipeline.github.base_ref": "",
     "pipeline.github.event_name": "schedule",
     "pipeline.github.head_ref": "",
     "pipeline.github.job": "run-tests-pipeline-and-persist-pipeline-outputs",
     "pipeline.github.ref": "refs/heads/development",
     "pipeline.github.ref_name": "development",
     "pipeline.github.ref_type": "branch",
     "pipeline.github.repository": "pynb-dag-runner/mnist-digits-demo-pipeline",
     "pipeline.github.run_id": "2620912334",
     "pipeline.github.runner_name": "Hosted Agent",
     "pipeline.github.sha": "f934c58f68028b7bb026059d4e87e6d32a1bbd20",
     "pipeline.github.workflow": "Run automated tests, pipeline and deploy results to static reporting site",
     "pipeline.pipeline_run_id": "fea682e4-3793-4c0e-9ed3-6f31763c070a",
     "pipeline.run_environment": "ci",
     "run.retry_nr": "0",
     "task.max_nr_retries": "1",
     "task.notebook": "notebooks/train-model.py",
     "task.nr_train_images": 1000,
     "task.num_cpus": 1,
     "task.timeout_s": "None"
    }
   },
   "start_time": "2022-07-06T06:54:01.772013",
   "version": "2.3.3"
  }
 },
 "nbformat": 4,
 "nbformat_minor": 5
}