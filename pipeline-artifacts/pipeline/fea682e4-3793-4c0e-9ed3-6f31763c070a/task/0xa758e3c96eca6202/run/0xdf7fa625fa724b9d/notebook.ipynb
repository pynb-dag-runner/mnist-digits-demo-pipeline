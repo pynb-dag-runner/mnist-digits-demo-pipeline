{
 "cells": [
  {
   "cell_type": "markdown",
   "id": "61767ba4",
   "metadata": {
    "papermill": {
     "duration": 0.006811,
     "end_time": "2022-07-06T06:54:13.330816",
     "exception": false,
     "start_time": "2022-07-06T06:54:13.324005",
     "status": "completed"
    },
    "tags": []
   },
   "source": [
    "# Train model\n",
    "\n",
    "The purpose of this notebook is:\n",
    "\n",
    "- Load all training data (images and labels).\n",
    "- Limit number of train images to `task.nr_train_images` (value provided as run parameter).\n",
    "- Train a support vector machine model using sklearn.\n",
    "- Persist the trained model using the ONNX format."
   ]
  },
  {
   "cell_type": "markdown",
   "id": "ad383b69",
   "metadata": {
    "papermill": {
     "duration": 0.008986,
     "end_time": "2022-07-06T06:54:13.349087",
     "exception": false,
     "start_time": "2022-07-06T06:54:13.340101",
     "status": "completed"
    },
    "tags": []
   },
   "source": [
    "### Determine run parameters"
   ]
  },
  {
   "cell_type": "code",
   "execution_count": 1,
   "id": "4283e200",
   "metadata": {
    "execution": {
     "iopub.execute_input": "2022-07-06T06:54:13.383433Z",
     "iopub.status.busy": "2022-07-06T06:54:13.382757Z",
     "iopub.status.idle": "2022-07-06T06:54:13.415998Z",
     "shell.execute_reply": "2022-07-06T06:54:13.405053Z"
    },
    "lines_to_next_cell": 0,
    "papermill": {
     "duration": 0.067024,
     "end_time": "2022-07-06T06:54:13.425566",
     "exception": false,
     "start_time": "2022-07-06T06:54:13.358542",
     "status": "completed"
    },
    "tags": []
   },
   "outputs": [],
   "source": [
    "# ----------------- Parameters for interactive development --------------\n",
    "P = {\n",
    "    \"pipeline.data_lake_root\": \"/pipeline-outputs/data-lake\",\n",
    "    \"task.nr_train_images\": 600,\n",
    "}"
   ]
  },
  {
   "cell_type": "code",
   "execution_count": 2,
   "id": "f8aec638",
   "metadata": {
    "execution": {
     "iopub.execute_input": "2022-07-06T06:54:13.448216Z",
     "iopub.status.busy": "2022-07-06T06:54:13.447873Z",
     "iopub.status.idle": "2022-07-06T06:54:13.460247Z",
     "shell.execute_reply": "2022-07-06T06:54:13.459015Z"
    },
    "lines_to_next_cell": 0,
    "papermill": {
     "duration": 0.028185,
     "end_time": "2022-07-06T06:54:13.467038",
     "exception": false,
     "start_time": "2022-07-06T06:54:13.438853",
     "status": "completed"
    },
    "tags": [
     "parameters"
    ]
   },
   "outputs": [],
   "source": [
    "# - During automated runs parameters will be injected in the below cell -"
   ]
  },
  {
   "cell_type": "code",
   "execution_count": 3,
   "id": "198b8124",
   "metadata": {
    "execution": {
     "iopub.execute_input": "2022-07-06T06:54:13.486578Z",
     "iopub.status.busy": "2022-07-06T06:54:13.486228Z",
     "iopub.status.idle": "2022-07-06T06:54:13.506079Z",
     "shell.execute_reply": "2022-07-06T06:54:13.503532Z"
    },
    "papermill": {
     "duration": 0.033861,
     "end_time": "2022-07-06T06:54:13.510261",
     "exception": false,
     "start_time": "2022-07-06T06:54:13.476400",
     "status": "completed"
    },
    "tags": [
     "injected-parameters"
    ]
   },
   "outputs": [],
   "source": [
    "# Parameters\n",
    "P = {\n",
    "    \"pipeline.data_lake_root\": \"/pipeline-outputs/data-lake\",\n",
    "    \"pipeline.run_environment\": \"ci\",\n",
    "    \"pipeline.pipeline_run_id\": \"fea682e4-3793-4c0e-9ed3-6f31763c070a\",\n",
    "    \"pipeline.github.repository\": \"pynb-dag-runner/mnist-digits-demo-pipeline\",\n",
    "    \"pipeline.github.workflow\": \"Run automated tests, pipeline and deploy results to static reporting site\",\n",
    "    \"pipeline.github.runner_name\": \"Hosted Agent\",\n",
    "    \"pipeline.github.run_id\": \"2620912334\",\n",
    "    \"pipeline.github.actor\": \"matiasdahl\",\n",
    "    \"pipeline.github.job\": \"run-tests-pipeline-and-persist-pipeline-outputs\",\n",
    "    \"pipeline.github.base_ref\": \"\",\n",
    "    \"pipeline.github.head_ref\": \"\",\n",
    "    \"pipeline.github.sha\": \"f934c58f68028b7bb026059d4e87e6d32a1bbd20\",\n",
    "    \"pipeline.github.ref\": \"refs/heads/development\",\n",
    "    \"pipeline.github.ref_type\": \"branch\",\n",
    "    \"pipeline.github.ref_name\": \"development\",\n",
    "    \"pipeline.github.event_name\": \"schedule\",\n",
    "    \"task.nr_train_images\": 600,\n",
    "    \"task.notebook\": \"notebooks/train-model.py\",\n",
    "    \"task.max_nr_retries\": \"1\",\n",
    "    \"run.retry_nr\": \"0\",\n",
    "    \"task.timeout_s\": \"None\",\n",
    "    \"task.num_cpus\": 1,\n",
    "    \"_opentelemetry_traceparent\": \"00-8cb03d06324d6ba3c821f9057abe8c9c-829a73c4897009f1-01\",\n",
    "}\n"
   ]
  },
  {
   "cell_type": "code",
   "execution_count": 4,
   "id": "2c6a3dc4",
   "metadata": {
    "execution": {
     "iopub.execute_input": "2022-07-06T06:54:13.551016Z",
     "iopub.status.busy": "2022-07-06T06:54:13.549827Z",
     "iopub.status.idle": "2022-07-06T06:54:13.560584Z",
     "shell.execute_reply": "2022-07-06T06:54:13.557780Z"
    },
    "lines_to_next_cell": 0,
    "papermill": {
     "duration": 0.031734,
     "end_time": "2022-07-06T06:54:13.563568",
     "exception": false,
     "start_time": "2022-07-06T06:54:13.531834",
     "status": "completed"
    },
    "tags": []
   },
   "outputs": [],
   "source": [
    "# -----------------------------------------------------------------------"
   ]
  },
  {
   "cell_type": "markdown",
   "id": "e3aa6473",
   "metadata": {
    "papermill": {
     "duration": 0.005576,
     "end_time": "2022-07-06T06:54:13.574007",
     "exception": false,
     "start_time": "2022-07-06T06:54:13.568431",
     "status": "completed"
    },
    "tags": []
   },
   "source": [
    "---"
   ]
  },
  {
   "cell_type": "markdown",
   "id": "84e607a5",
   "metadata": {
    "lines_to_next_cell": 2,
    "papermill": {
     "duration": 0.0061,
     "end_time": "2022-07-06T06:54:13.585210",
     "exception": false,
     "start_time": "2022-07-06T06:54:13.579110",
     "status": "completed"
    },
    "tags": []
   },
   "source": [
    "### Notebook code"
   ]
  },
  {
   "cell_type": "code",
   "execution_count": 5,
   "id": "ff37bfec",
   "metadata": {
    "execution": {
     "iopub.execute_input": "2022-07-06T06:54:13.596750Z",
     "iopub.status.busy": "2022-07-06T06:54:13.596358Z",
     "iopub.status.idle": "2022-07-06T06:54:14.471904Z",
     "shell.execute_reply": "2022-07-06T06:54:14.464887Z"
    },
    "papermill": {
     "duration": 0.884298,
     "end_time": "2022-07-06T06:54:14.474886",
     "exception": false,
     "start_time": "2022-07-06T06:54:13.590588",
     "status": "completed"
    },
    "tags": []
   },
   "outputs": [
    {
     "name": "stderr",
     "output_type": "stream",
     "text": [
      "2022-07-06 06:54:14,248\tINFO worker.py:842 -- Connecting to existing Ray cluster at address: 172.17.0.2:6379\n"
     ]
    }
   ],
   "source": [
    "from pynb_dag_runner.tasks.task_opentelemetry_logging import PydarLogger\n",
    "\n",
    "logger = PydarLogger(P)"
   ]
  },
  {
   "cell_type": "markdown",
   "id": "76f5bab2",
   "metadata": {
    "papermill": {
     "duration": 0.028021,
     "end_time": "2022-07-06T06:54:14.513369",
     "exception": false,
     "start_time": "2022-07-06T06:54:14.485348",
     "status": "completed"
    },
    "tags": []
   },
   "source": [
    "## Load and limit train data"
   ]
  },
  {
   "cell_type": "code",
   "execution_count": 6,
   "id": "e46cefa1",
   "metadata": {
    "execution": {
     "iopub.execute_input": "2022-07-06T06:54:14.559519Z",
     "iopub.status.busy": "2022-07-06T06:54:14.556101Z",
     "iopub.status.idle": "2022-07-06T06:54:15.386574Z",
     "shell.execute_reply": "2022-07-06T06:54:15.385076Z"
    },
    "papermill": {
     "duration": 0.855444,
     "end_time": "2022-07-06T06:54:15.389920",
     "exception": false,
     "start_time": "2022-07-06T06:54:14.534476",
     "status": "completed"
    },
    "tags": []
   },
   "outputs": [],
   "source": [
    "def load_and_limit_train_data(P):\n",
    "    from common.io import datalake_root, read_numpy\n",
    "    from sklearn.model_selection import train_test_split\n",
    "\n",
    "    X_train_all = read_numpy(datalake_root(P) / \"train-data\" / \"digits.numpy\")\n",
    "    y_train_all = read_numpy(datalake_root(P) / \"train-data\" / \"labels.numpy\")\n",
    "\n",
    "    assert isinstance(P[\"task.nr_train_images\"], int)\n",
    "\n",
    "    # Note: train_test_split will fail if split is 0 or 100%.\n",
    "    assert 0 < P[\"task.nr_train_images\"] < len(y_train_all)\n",
    "\n",
    "    X_train, _, y_train, _ = train_test_split(\n",
    "        X_train_all,\n",
    "        y_train_all,\n",
    "        train_size=P[\"task.nr_train_images\"],\n",
    "        test_size=None,\n",
    "        stratify=y_train_all,\n",
    "        shuffle=True,\n",
    "        random_state=123,\n",
    "    )\n",
    "\n",
    "    assert X_train.shape == (len(y_train), 8 * 8)\n",
    "    return X_train, y_train\n",
    "\n",
    "\n",
    "X_train, y_train = load_and_limit_train_data(P)"
   ]
  },
  {
   "cell_type": "markdown",
   "id": "f0868bae",
   "metadata": {
    "papermill": {
     "duration": 0.009358,
     "end_time": "2022-07-06T06:54:15.408758",
     "exception": false,
     "start_time": "2022-07-06T06:54:15.399400",
     "status": "completed"
    },
    "tags": []
   },
   "source": [
    "## Train support vector classifier model\n",
    "\n",
    "Below we assume that the hyperparameter $C$ is known.\n",
    "\n",
    "However, this should ideally be found by a hyperparameter search. That could be\n",
    "done in parallel on the Ray cluster, but this needs some more work. Ie., to use\n",
    "multiple cores in the notebook, those cores should be reserved when starting the\n",
    "notebook task (TODO).\n",
    "\n",
    "- https://docs.ray.io/en/latest/tune/key-concepts.html\n",
    "\n",
    "Note: cv-scores would need to be computed here, since they depend on the train data.\n",
    "After this notebook only the onnx-model is available."
   ]
  },
  {
   "cell_type": "code",
   "execution_count": 7,
   "id": "10f469d9",
   "metadata": {
    "execution": {
     "iopub.execute_input": "2022-07-06T06:54:15.420227Z",
     "iopub.status.busy": "2022-07-06T06:54:15.419852Z",
     "iopub.status.idle": "2022-07-06T06:54:15.460949Z",
     "shell.execute_reply": "2022-07-06T06:54:15.457540Z"
    },
    "papermill": {
     "duration": 0.050619,
     "end_time": "2022-07-06T06:54:15.464060",
     "exception": false,
     "start_time": "2022-07-06T06:54:15.413441",
     "status": "completed"
    },
    "tags": []
   },
   "outputs": [],
   "source": [
    "from sklearn.svm import SVC"
   ]
  },
  {
   "cell_type": "code",
   "execution_count": 8,
   "id": "964da0e0",
   "metadata": {
    "execution": {
     "iopub.execute_input": "2022-07-06T06:54:15.497430Z",
     "iopub.status.busy": "2022-07-06T06:54:15.496999Z",
     "iopub.status.idle": "2022-07-06T06:54:15.740005Z",
     "shell.execute_reply": "2022-07-06T06:54:15.739074Z"
    },
    "papermill": {
     "duration": 0.270278,
     "end_time": "2022-07-06T06:54:15.742699",
     "exception": false,
     "start_time": "2022-07-06T06:54:15.472421",
     "status": "completed"
    },
    "tags": []
   },
   "outputs": [
    {
     "data": {
      "text/plain": [
       "SVC(C=0.001, kernel='linear', probability=True)"
      ]
     },
     "execution_count": 8,
     "metadata": {},
     "output_type": "execute_result"
    }
   ],
   "source": [
    "model = SVC(C=0.001, kernel=\"linear\", probability=True)\n",
    "\n",
    "model.fit(X_train, y_train)"
   ]
  },
  {
   "cell_type": "markdown",
   "id": "c7869e8f",
   "metadata": {
    "papermill": {
     "duration": 0.007644,
     "end_time": "2022-07-06T06:54:15.755731",
     "exception": false,
     "start_time": "2022-07-06T06:54:15.748087",
     "status": "completed"
    },
    "tags": []
   },
   "source": [
    "### Q: Can the labels returned by `predict(..)` be computed from probabilities returned by the `predict_prob`-method?"
   ]
  },
  {
   "cell_type": "code",
   "execution_count": 9,
   "id": "774d8bfe",
   "metadata": {
    "execution": {
     "iopub.execute_input": "2022-07-06T06:54:15.770376Z",
     "iopub.status.busy": "2022-07-06T06:54:15.769285Z",
     "iopub.status.idle": "2022-07-06T06:54:15.837016Z",
     "shell.execute_reply": "2022-07-06T06:54:15.835940Z"
    },
    "papermill": {
     "duration": 0.079875,
     "end_time": "2022-07-06T06:54:15.840344",
     "exception": false,
     "start_time": "2022-07-06T06:54:15.760469",
     "status": "completed"
    },
    "tags": []
   },
   "outputs": [
    {
     "name": "stdout",
     "output_type": "stream",
     "text": [
      " - Logging nr_max_prob_neq_label (int) : 2\n"
     ]
    }
   ],
   "source": [
    "import numpy as np\n",
    "\n",
    "y_train_labels = model.predict(X_train)\n",
    "y_train_probabilities = model.predict_proba(X_train)\n",
    "assert y_train_probabilities.shape == (len(y_train), 10)\n",
    "\n",
    "y_train_max_prob_labels = np.argmax(y_train_probabilities, axis=1)\n",
    "assert y_train_labels.shape == y_train_max_prob_labels.shape == y_train.shape\n",
    "\n",
    "# If the predicted labels would coincide with the labels that have\n",
    "# maximum probability, the below number would be zero\n",
    "logger.log_int(\n",
    "    \"nr_max_prob_neq_label\", int(sum(y_train_max_prob_labels != y_train_labels))\n",
    ")"
   ]
  },
  {
   "cell_type": "markdown",
   "id": "66ae513e",
   "metadata": {
    "papermill": {
     "duration": 0.005324,
     "end_time": "2022-07-06T06:54:15.853004",
     "exception": false,
     "start_time": "2022-07-06T06:54:15.847680",
     "status": "completed"
    },
    "tags": []
   },
   "source": [
    "The explanation is (likely) explained in the SVC source, see\n",
    "[here](https://github.com/scikit-learn/scikit-learn/blob/main/sklearn/svm/_base.py).\n",
    "Namely, the outputs from `predict(..)` and `predict_proba(..)` may not in some\n",
    "cases be compatible since the latter is computed using cross-validation while\n",
    "the former is not. Thus, the above number need not be zero."
   ]
  },
  {
   "cell_type": "markdown",
   "id": "48cd2cf6",
   "metadata": {
    "papermill": {
     "duration": 0.004741,
     "end_time": "2022-07-06T06:54:15.862419",
     "exception": false,
     "start_time": "2022-07-06T06:54:15.857678",
     "status": "completed"
    },
    "tags": []
   },
   "source": [
    "## Persist model"
   ]
  },
  {
   "cell_type": "code",
   "execution_count": 10,
   "id": "253db072",
   "metadata": {
    "execution": {
     "iopub.execute_input": "2022-07-06T06:54:15.875156Z",
     "iopub.status.busy": "2022-07-06T06:54:15.874698Z",
     "iopub.status.idle": "2022-07-06T06:54:17.615416Z",
     "shell.execute_reply": "2022-07-06T06:54:17.613312Z"
    },
    "papermill": {
     "duration": 1.75398,
     "end_time": "2022-07-06T06:54:17.622453",
     "exception": false,
     "start_time": "2022-07-06T06:54:15.868473",
     "status": "completed"
    },
    "tags": []
   },
   "outputs": [],
   "source": [
    "from skl2onnx import convert_sklearn\n",
    "from skl2onnx.common.data_types import FloatTensorType\n",
    "\n",
    "#\n",
    "from common.io import datalake_root, write_onnx"
   ]
  },
  {
   "cell_type": "code",
   "execution_count": 11,
   "id": "052744f2",
   "metadata": {
    "execution": {
     "iopub.execute_input": "2022-07-06T06:54:17.658027Z",
     "iopub.status.busy": "2022-07-06T06:54:17.657547Z",
     "iopub.status.idle": "2022-07-06T06:54:17.772534Z",
     "shell.execute_reply": "2022-07-06T06:54:17.771081Z"
    },
    "papermill": {
     "duration": 0.144827,
     "end_time": "2022-07-06T06:54:17.775016",
     "exception": false,
     "start_time": "2022-07-06T06:54:17.630189",
     "status": "completed"
    },
    "tags": []
   },
   "outputs": [],
   "source": [
    "# convert sklearn model into onnx and persist to data lake\n",
    "\n",
    "model_onnx = convert_sklearn(\n",
    "    model, initial_types=[(\"float_input_8x8_image\", FloatTensorType([None, 8 * 8]))]\n",
    ")\n",
    "write_onnx(\n",
    "    datalake_root(P)\n",
    "    / \"models\"\n",
    "    / f\"nr_train_images={P['task.nr_train_images']}\"\n",
    "    / \"model.onnx\",\n",
    "    model_onnx,\n",
    ")"
   ]
  },
  {
   "cell_type": "code",
   "execution_count": null,
   "id": "56eeeae4",
   "metadata": {
    "papermill": {
     "duration": 0.010317,
     "end_time": "2022-07-06T06:54:17.794869",
     "exception": false,
     "start_time": "2022-07-06T06:54:17.784552",
     "status": "completed"
    },
    "tags": []
   },
   "outputs": [],
   "source": []
  }
 ],
 "metadata": {
  "jupytext": {
   "cell_metadata_filter": "tags,-all",
   "main_language": "python",
   "notebook_metadata_filter": "-all"
  },
  "language_info": {
   "codemirror_mode": {
    "name": "ipython",
    "version": 3
   },
   "file_extension": ".py",
   "mimetype": "text/x-python",
   "name": "python",
   "nbconvert_exporter": "python",
   "pygments_lexer": "ipython3",
   "version": "3.8.10"
  },
  "papermill": {
   "default_parameters": {},
   "duration": 8.472532,
   "end_time": "2022-07-06T06:54:19.037565",
   "environment_variables": {},
   "exception": null,
   "input_path": "/home/host_user/workspace/mnist-demo-pipeline/mnist-demo-pipeline/notebooks/temp-notebook-carkelrh.ipynb",
   "output_path": "notebooks/train-model.ipynb",
   "parameters": {
    "P": {
     "_opentelemetry_traceparent": "00-8cb03d06324d6ba3c821f9057abe8c9c-829a73c4897009f1-01",
     "pipeline.data_lake_root": "/pipeline-outputs/data-lake",
     "pipeline.github.actor": "matiasdahl",
     "pipeline.github.base_ref": "",
     "pipeline.github.event_name": "schedule",
     "pipeline.github.head_ref": "",
     "pipeline.github.job": "run-tests-pipeline-and-persist-pipeline-outputs",
     "pipeline.github.ref": "refs/heads/development",
     "pipeline.github.ref_name": "development",
     "pipeline.github.ref_type": "branch",
     "pipeline.github.repository": "pynb-dag-runner/mnist-digits-demo-pipeline",
     "pipeline.github.run_id": "2620912334",
     "pipeline.github.runner_name": "Hosted Agent",
     "pipeline.github.sha": "f934c58f68028b7bb026059d4e87e6d32a1bbd20",
     "pipeline.github.workflow": "Run automated tests, pipeline and deploy results to static reporting site",
     "pipeline.pipeline_run_id": "fea682e4-3793-4c0e-9ed3-6f31763c070a",
     "pipeline.run_environment": "ci",
     "run.retry_nr": "0",
     "task.max_nr_retries": "1",
     "task.notebook": "notebooks/train-model.py",
     "task.nr_train_images": 600,
     "task.num_cpus": 1,
     "task.timeout_s": "None"
    }
   },
   "start_time": "2022-07-06T06:54:10.565033",
   "version": "2.3.3"
  }
 },
 "nbformat": 4,
 "nbformat_minor": 5
}