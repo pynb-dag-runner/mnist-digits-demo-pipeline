{
 "cells": [
  {
   "cell_type": "markdown",
   "id": "63f17935",
   "metadata": {
    "papermill": {
     "duration": 0.008042,
     "end_time": "2022-07-06T06:54:34.808530",
     "exception": false,
     "start_time": "2022-07-06T06:54:34.800488",
     "status": "completed"
    },
    "tags": []
   },
   "source": [
    "# Benchmark model\n",
    "\n",
    "The purpose of this notebook is to benchmark persisted onnx-model (trained in the\n",
    "previous step) against evaluation set."
   ]
  },
  {
   "cell_type": "markdown",
   "id": "19a68723",
   "metadata": {
    "papermill": {
     "duration": 0.01112,
     "end_time": "2022-07-06T06:54:34.831884",
     "exception": false,
     "start_time": "2022-07-06T06:54:34.820764",
     "status": "completed"
    },
    "tags": []
   },
   "source": [
    "### Determine run parameters"
   ]
  },
  {
   "cell_type": "code",
   "execution_count": 1,
   "id": "357e69c9",
   "metadata": {
    "execution": {
     "iopub.execute_input": "2022-07-06T06:54:34.863381Z",
     "iopub.status.busy": "2022-07-06T06:54:34.862754Z",
     "iopub.status.idle": "2022-07-06T06:54:34.879155Z",
     "shell.execute_reply": "2022-07-06T06:54:34.877606Z"
    },
    "lines_to_next_cell": 0,
    "papermill": {
     "duration": 0.032259,
     "end_time": "2022-07-06T06:54:34.882398",
     "exception": false,
     "start_time": "2022-07-06T06:54:34.850139",
     "status": "completed"
    },
    "tags": []
   },
   "outputs": [],
   "source": [
    "# ----------------- Parameters for interactive development --------------\n",
    "P = {\n",
    "    \"pipeline.data_lake_root\": \"/pipeline-outputs/data-lake\",\n",
    "    \"task.nr_train_images\": 600,\n",
    "}"
   ]
  },
  {
   "cell_type": "code",
   "execution_count": 2,
   "id": "b1bf2af3",
   "metadata": {
    "execution": {
     "iopub.execute_input": "2022-07-06T06:54:34.897490Z",
     "iopub.status.busy": "2022-07-06T06:54:34.897138Z",
     "iopub.status.idle": "2022-07-06T06:54:34.902682Z",
     "shell.execute_reply": "2022-07-06T06:54:34.901760Z"
    },
    "lines_to_next_cell": 0,
    "papermill": {
     "duration": 0.017198,
     "end_time": "2022-07-06T06:54:34.907366",
     "exception": false,
     "start_time": "2022-07-06T06:54:34.890168",
     "status": "completed"
    },
    "tags": [
     "parameters"
    ]
   },
   "outputs": [],
   "source": [
    "# - During automated runs parameters will be injected in the below cell -"
   ]
  },
  {
   "cell_type": "code",
   "execution_count": 3,
   "id": "5cf7447a",
   "metadata": {
    "execution": {
     "iopub.execute_input": "2022-07-06T06:54:34.924133Z",
     "iopub.status.busy": "2022-07-06T06:54:34.922289Z",
     "iopub.status.idle": "2022-07-06T06:54:34.932173Z",
     "shell.execute_reply": "2022-07-06T06:54:34.930139Z"
    },
    "papermill": {
     "duration": 0.023905,
     "end_time": "2022-07-06T06:54:34.937903",
     "exception": false,
     "start_time": "2022-07-06T06:54:34.913998",
     "status": "completed"
    },
    "tags": [
     "injected-parameters"
    ]
   },
   "outputs": [],
   "source": [
    "# Parameters\n",
    "P = {\n",
    "    \"pipeline.data_lake_root\": \"/pipeline-outputs/data-lake\",\n",
    "    \"pipeline.run_environment\": \"ci\",\n",
    "    \"pipeline.pipeline_run_id\": \"fea682e4-3793-4c0e-9ed3-6f31763c070a\",\n",
    "    \"pipeline.github.repository\": \"pynb-dag-runner/mnist-digits-demo-pipeline\",\n",
    "    \"pipeline.github.workflow\": \"Run automated tests, pipeline and deploy results to static reporting site\",\n",
    "    \"pipeline.github.runner_name\": \"Hosted Agent\",\n",
    "    \"pipeline.github.run_id\": \"2620912334\",\n",
    "    \"pipeline.github.actor\": \"matiasdahl\",\n",
    "    \"pipeline.github.job\": \"run-tests-pipeline-and-persist-pipeline-outputs\",\n",
    "    \"pipeline.github.base_ref\": \"\",\n",
    "    \"pipeline.github.head_ref\": \"\",\n",
    "    \"pipeline.github.sha\": \"f934c58f68028b7bb026059d4e87e6d32a1bbd20\",\n",
    "    \"pipeline.github.ref\": \"refs/heads/development\",\n",
    "    \"pipeline.github.ref_type\": \"branch\",\n",
    "    \"pipeline.github.ref_name\": \"development\",\n",
    "    \"pipeline.github.event_name\": \"schedule\",\n",
    "    \"task.nr_train_images\": 600,\n",
    "    \"task.notebook\": \"notebooks/benchmark-model.py\",\n",
    "    \"task.max_nr_retries\": \"1\",\n",
    "    \"run.retry_nr\": \"0\",\n",
    "    \"task.timeout_s\": \"None\",\n",
    "    \"task.num_cpus\": 1,\n",
    "    \"_opentelemetry_traceparent\": \"00-8cb03d06324d6ba3c821f9057abe8c9c-26a38ba16f0fe821-01\",\n",
    "}\n"
   ]
  },
  {
   "cell_type": "code",
   "execution_count": 4,
   "id": "1f9d3768",
   "metadata": {
    "execution": {
     "iopub.execute_input": "2022-07-06T06:54:34.952689Z",
     "iopub.status.busy": "2022-07-06T06:54:34.952269Z",
     "iopub.status.idle": "2022-07-06T06:54:34.956974Z",
     "shell.execute_reply": "2022-07-06T06:54:34.955937Z"
    },
    "lines_to_next_cell": 0,
    "papermill": {
     "duration": 0.018295,
     "end_time": "2022-07-06T06:54:34.963241",
     "exception": false,
     "start_time": "2022-07-06T06:54:34.944946",
     "status": "completed"
    },
    "tags": []
   },
   "outputs": [],
   "source": [
    "# -----------------------------------------------------------------------"
   ]
  },
  {
   "cell_type": "markdown",
   "id": "f799879e",
   "metadata": {
    "papermill": {
     "duration": 0.00811,
     "end_time": "2022-07-06T06:54:34.977453",
     "exception": false,
     "start_time": "2022-07-06T06:54:34.969343",
     "status": "completed"
    },
    "tags": []
   },
   "source": [
    "---"
   ]
  },
  {
   "cell_type": "markdown",
   "id": "e467cf84",
   "metadata": {
    "lines_to_next_cell": 2,
    "papermill": {
     "duration": 0.009245,
     "end_time": "2022-07-06T06:54:35.001710",
     "exception": false,
     "start_time": "2022-07-06T06:54:34.992465",
     "status": "completed"
    },
    "tags": []
   },
   "source": [
    "### Notebook code"
   ]
  },
  {
   "cell_type": "code",
   "execution_count": 5,
   "id": "bf7e7b61",
   "metadata": {
    "execution": {
     "iopub.execute_input": "2022-07-06T06:54:35.041309Z",
     "iopub.status.busy": "2022-07-06T06:54:35.040853Z",
     "iopub.status.idle": "2022-07-06T06:54:37.042306Z",
     "shell.execute_reply": "2022-07-06T06:54:37.040822Z"
    },
    "papermill": {
     "duration": 2.015282,
     "end_time": "2022-07-06T06:54:37.045065",
     "exception": false,
     "start_time": "2022-07-06T06:54:35.029783",
     "status": "completed"
    },
    "tags": []
   },
   "outputs": [
    {
     "name": "stderr",
     "output_type": "stream",
     "text": [
      "2022-07-06 06:54:36,740\tINFO worker.py:842 -- Connecting to existing Ray cluster at address: 172.17.0.2:6379\n"
     ]
    }
   ],
   "source": [
    "import itertools as it\n",
    "\n",
    "#\n",
    "import numpy as np\n",
    "import matplotlib.pyplot as plt\n",
    "\n",
    "#\n",
    "from pynb_dag_runner.tasks.task_opentelemetry_logging import PydarLogger\n",
    "\n",
    "#\n",
    "from common.io import datalake_root\n",
    "\n",
    "logger = PydarLogger(P)"
   ]
  },
  {
   "cell_type": "markdown",
   "id": "8db96369",
   "metadata": {
    "papermill": {
     "duration": 0.007646,
     "end_time": "2022-07-06T06:54:37.071294",
     "exception": false,
     "start_time": "2022-07-06T06:54:37.063648",
     "status": "completed"
    },
    "tags": []
   },
   "source": [
    "## Load persisted onnx-model and evaluation data"
   ]
  },
  {
   "cell_type": "code",
   "execution_count": 6,
   "id": "d19288a1",
   "metadata": {
    "execution": {
     "iopub.execute_input": "2022-07-06T06:54:37.088387Z",
     "iopub.status.busy": "2022-07-06T06:54:37.087825Z",
     "iopub.status.idle": "2022-07-06T06:54:37.100545Z",
     "shell.execute_reply": "2022-07-06T06:54:37.099076Z"
    },
    "papermill": {
     "duration": 0.028115,
     "end_time": "2022-07-06T06:54:37.106289",
     "exception": false,
     "start_time": "2022-07-06T06:54:37.078174",
     "status": "completed"
    },
    "tags": []
   },
   "outputs": [],
   "source": [
    "from common.io import read_onnx, get_onnx_inputs, get_onnx_outputs, read_numpy"
   ]
  },
  {
   "cell_type": "code",
   "execution_count": 7,
   "id": "6ea4af7c",
   "metadata": {
    "execution": {
     "iopub.execute_input": "2022-07-06T06:54:37.123363Z",
     "iopub.status.busy": "2022-07-06T06:54:37.122140Z",
     "iopub.status.idle": "2022-07-06T06:54:37.139028Z",
     "shell.execute_reply": "2022-07-06T06:54:37.138128Z"
    },
    "lines_to_next_cell": 0,
    "papermill": {
     "duration": 0.027929,
     "end_time": "2022-07-06T06:54:37.141915",
     "exception": false,
     "start_time": "2022-07-06T06:54:37.113986",
     "status": "completed"
    },
    "tags": []
   },
   "outputs": [],
   "source": [
    "onnx_inference_session = read_onnx(\n",
    "    datalake_root(P)\n",
    "    / \"models\"\n",
    "    / f\"nr_train_images={P['task.nr_train_images']}\"\n",
    "    / \"model.onnx\"\n",
    ")"
   ]
  },
  {
   "cell_type": "markdown",
   "id": "6bee8718",
   "metadata": {
    "papermill": {
     "duration": 0.00653,
     "end_time": "2022-07-06T06:54:37.156024",
     "exception": false,
     "start_time": "2022-07-06T06:54:37.149494",
     "status": "completed"
    },
    "tags": []
   },
   "source": [
    "### Record structure of inputs and outputs for ONNX model\n",
    "\n",
    "(this should likely be done in training notebook)"
   ]
  },
  {
   "cell_type": "code",
   "execution_count": 8,
   "id": "069c89be",
   "metadata": {
    "execution": {
     "iopub.execute_input": "2022-07-06T06:54:37.171281Z",
     "iopub.status.busy": "2022-07-06T06:54:37.170946Z",
     "iopub.status.idle": "2022-07-06T06:54:37.180976Z",
     "shell.execute_reply": "2022-07-06T06:54:37.180105Z"
    },
    "papermill": {
     "duration": 0.024421,
     "end_time": "2022-07-06T06:54:37.186709",
     "exception": false,
     "start_time": "2022-07-06T06:54:37.162288",
     "status": "completed"
    },
    "tags": []
   },
   "outputs": [
    {
     "name": "stdout",
     "output_type": "stream",
     "text": [
      "{\n",
      "  \"inputs\": [\n",
      "    {\n",
      "      \"name\": \"float_input_8x8_image\",\n",
      "      \"shape\": [\n",
      "        null,\n",
      "        64\n",
      "      ],\n",
      "      \"type\": \"tensor(float)\"\n",
      "    }\n",
      "  ],\n",
      "  \"outputs\": [\n",
      "    {\n",
      "      \"name\": \"output_label\",\n",
      "      \"shape\": [\n",
      "        null\n",
      "      ],\n",
      "      \"type\": \"tensor(int64)\"\n",
      "    },\n",
      "    {\n",
      "      \"name\": \"output_probability\",\n",
      "      \"shape\": [],\n",
      "      \"type\": \"seq(map(int64,tensor(float)))\"\n",
      "    }\n",
      "  ]\n",
      "}\n"
     ]
    }
   ],
   "source": [
    "import json\n",
    "\n",
    "onnx_io = json.dumps(\n",
    "    {\n",
    "        \"inputs\": get_onnx_inputs(onnx_inference_session),\n",
    "        \"outputs\": get_onnx_outputs(onnx_inference_session),\n",
    "    },\n",
    "    indent=2,\n",
    ")\n",
    "\n",
    "\n",
    "logger.log_artefact(\"onnx_io_structure.json\", onnx_io)\n",
    "print(onnx_io)"
   ]
  },
  {
   "cell_type": "markdown",
   "id": "e8f91f68",
   "metadata": {
    "papermill": {
     "duration": 0.007328,
     "end_time": "2022-07-06T06:54:37.200423",
     "exception": false,
     "start_time": "2022-07-06T06:54:37.193095",
     "status": "completed"
    },
    "tags": []
   },
   "source": [
    "### Evaluate model performance on evaluation data set"
   ]
  },
  {
   "cell_type": "code",
   "execution_count": 9,
   "id": "83630e68",
   "metadata": {
    "execution": {
     "iopub.execute_input": "2022-07-06T06:54:37.215403Z",
     "iopub.status.busy": "2022-07-06T06:54:37.215055Z",
     "iopub.status.idle": "2022-07-06T06:54:37.222305Z",
     "shell.execute_reply": "2022-07-06T06:54:37.221459Z"
    },
    "papermill": {
     "duration": 0.018161,
     "end_time": "2022-07-06T06:54:37.226182",
     "exception": false,
     "start_time": "2022-07-06T06:54:37.208021",
     "status": "completed"
    },
    "tags": []
   },
   "outputs": [],
   "source": [
    "# load evaluation data\n",
    "X_test = read_numpy(datalake_root(P) / \"test-data\" / \"digits.numpy\")\n",
    "y_test = read_numpy(datalake_root(P) / \"test-data\" / \"labels.numpy\")"
   ]
  },
  {
   "cell_type": "code",
   "execution_count": 10,
   "id": "bad99e82",
   "metadata": {
    "execution": {
     "iopub.execute_input": "2022-07-06T06:54:37.243593Z",
     "iopub.status.busy": "2022-07-06T06:54:37.243197Z",
     "iopub.status.idle": "2022-07-06T06:54:37.265868Z",
     "shell.execute_reply": "2022-07-06T06:54:37.264854Z"
    },
    "papermill": {
     "duration": 0.033884,
     "end_time": "2022-07-06T06:54:37.268256",
     "exception": false,
     "start_time": "2022-07-06T06:54:37.234372",
     "status": "completed"
    },
    "tags": []
   },
   "outputs": [],
   "source": [
    "def get_model_outputs(X, onnx_inference_session):\n",
    "    y_pred_labels, y_pred_map = onnx_inference_session.run(\n",
    "        [\"output_label\", \"output_probability\"],\n",
    "        {\"float_input_8x8_image\": X.astype(np.float32)},\n",
    "    )\n",
    "    y_pred_probs = np.array(\n",
    "        [[probabilities[digit] for digit in range(10)] for probabilities in y_pred_map]\n",
    "    )\n",
    "\n",
    "    assert y_pred_labels.shape == (X.shape[0],)\n",
    "    assert y_pred_probs.shape == (X.shape[0], 10)\n",
    "\n",
    "    return y_pred_labels, y_pred_probs\n",
    "\n",
    "\n",
    "# Note: as shown in the training notebook, the predicted labels and probabilities\n",
    "# computed below need not be compatible.\n",
    "y_pred_labels_test, y_pred_probs_test = get_model_outputs(\n",
    "    X_test, onnx_inference_session\n",
    ")"
   ]
  },
  {
   "cell_type": "markdown",
   "id": "c47096ba",
   "metadata": {
    "papermill": {
     "duration": 0.007497,
     "end_time": "2022-07-06T06:54:37.284536",
     "exception": false,
     "start_time": "2022-07-06T06:54:37.277039",
     "status": "completed"
    },
    "tags": []
   },
   "source": [
    "### Confusion matrix"
   ]
  },
  {
   "cell_type": "code",
   "execution_count": 11,
   "id": "ee9607e9",
   "metadata": {
    "execution": {
     "iopub.execute_input": "2022-07-06T06:54:37.299194Z",
     "iopub.status.busy": "2022-07-06T06:54:37.298799Z",
     "iopub.status.idle": "2022-07-06T06:54:37.304067Z",
     "shell.execute_reply": "2022-07-06T06:54:37.303191Z"
    },
    "papermill": {
     "duration": 0.015827,
     "end_time": "2022-07-06T06:54:37.307355",
     "exception": false,
     "start_time": "2022-07-06T06:54:37.291528",
     "status": "completed"
    },
    "tags": []
   },
   "outputs": [],
   "source": [
    "# TODO"
   ]
  },
  {
   "cell_type": "markdown",
   "id": "f5ca7681",
   "metadata": {
    "papermill": {
     "duration": 0.010504,
     "end_time": "2022-07-06T06:54:37.329690",
     "exception": false,
     "start_time": "2022-07-06T06:54:37.319186",
     "status": "completed"
    },
    "tags": []
   },
   "source": [
    "### Plot predicted probabilities for each classifier over all evaluation digit images"
   ]
  },
  {
   "cell_type": "code",
   "execution_count": 12,
   "id": "7ca5fcc9",
   "metadata": {
    "execution": {
     "iopub.execute_input": "2022-07-06T06:54:37.355667Z",
     "iopub.status.busy": "2022-07-06T06:54:37.354944Z",
     "iopub.status.idle": "2022-07-06T06:54:45.153276Z",
     "shell.execute_reply": "2022-07-06T06:54:45.152407Z"
    },
    "papermill": {
     "duration": 7.816876,
     "end_time": "2022-07-06T06:54:45.158185",
     "exception": false,
     "start_time": "2022-07-06T06:54:37.341309",
     "status": "completed"
    },
    "tags": []
   },
   "outputs": [
    {
     "name": "stdout",
     "output_type": "stream",
     "text": [
      "\u001b[2m\u001b[1m\u001b[36m(scheduler +8s)\u001b[0m Tip: use `ray status` to view detailed cluster status. To disable these messages, set RAY_SCHEDULER_EVENTS=0.\n",
      "\u001b[2m\u001b[1m\u001b[33m(scheduler +8s)\u001b[0m Warning: The following resource request cannot be scheduled right now: {'CPU': 1.0}. This is likely due to all cluster resources being claimed by actors. Consider creating fewer actors or adding more nodes to this Ray cluster.\n"
     ]
    },
    {
     "data": {
      "image/png": "[encoded data removed]",
      "text/plain": [
       "<Figure size 1152x432 with 10 Axes>"
      ]
     },
     "metadata": {
      "needs_background": "light"
     },
     "output_type": "display_data"
    }
   ],
   "source": [
    "def plot_per_digit_probabilities(y_pred_probs):\n",
    "    fig, axs = plt.subplots(nrows=2, ncols=5, figsize=(16, 6))\n",
    "\n",
    "    for (r, c), digit, ax in zip(\n",
    "        it.product(range(2), range(5)), range(10), axs.reshape(-1)\n",
    "    ):\n",
    "        ax.hist(y_pred_probs_test[:, digit], bins=20)\n",
    "\n",
    "        ax.set_title(f\"Digit {digit}\")\n",
    "        if r == 1 and c == 2:\n",
    "            ax.set_xlabel(\"probability\", fontsize=16)\n",
    "\n",
    "        if c == 0:\n",
    "            ax.set_ylabel(\"counts\", fontsize=16)\n",
    "        ax.set_yscale(\"log\")\n",
    "\n",
    "    fig.tight_layout()\n",
    "    fig.suptitle(\n",
    "        f\"Distributions of prediction probabilities for each digit \"\n",
    "        f\"(on evaluation data, n={y_pred_probs.shape[0]})\",\n",
    "        fontsize=20,\n",
    "    )\n",
    "    fig.tight_layout()\n",
    "    fig.show()\n",
    "\n",
    "    return fig\n",
    "\n",
    "\n",
    "fig = plot_per_digit_probabilities(y_pred_probs_test)"
   ]
  },
  {
   "cell_type": "markdown",
   "id": "dad63ba0",
   "metadata": {
    "papermill": {
     "duration": 0.006618,
     "end_time": "2022-07-06T06:54:45.184159",
     "exception": false,
     "start_time": "2022-07-06T06:54:45.177541",
     "status": "completed"
    },
    "tags": []
   },
   "source": [
    "From the above distributions we see that most digits have clear separation between\n",
    "high and lower probabilities. Morover, in each case there is roughly an order of\n",
    "magnitude more of digits with low probabilities. This is compatible with digits\n",
    "being roughly evenly distributed in the data."
   ]
  },
  {
   "cell_type": "code",
   "execution_count": 13,
   "id": "2aa88faf",
   "metadata": {
    "execution": {
     "iopub.execute_input": "2022-07-06T06:54:45.203220Z",
     "iopub.status.busy": "2022-07-06T06:54:45.202810Z",
     "iopub.status.idle": "2022-07-06T06:54:46.124388Z",
     "shell.execute_reply": "2022-07-06T06:54:46.123062Z"
    },
    "papermill": {
     "duration": 0.939759,
     "end_time": "2022-07-06T06:54:46.131644",
     "exception": false,
     "start_time": "2022-07-06T06:54:45.191885",
     "status": "completed"
    },
    "tags": []
   },
   "outputs": [],
   "source": [
    "logger.log_figure(\"per-digit-probabilities.png\", fig)"
   ]
  },
  {
   "cell_type": "markdown",
   "id": "536624a4",
   "metadata": {
    "papermill": {
     "duration": 0.020209,
     "end_time": "2022-07-06T06:54:46.176517",
     "exception": false,
     "start_time": "2022-07-06T06:54:46.156308",
     "status": "completed"
    },
    "tags": []
   },
   "source": [
    "### Plot ROC curves for individual one-vs-rest classifiers"
   ]
  },
  {
   "cell_type": "code",
   "execution_count": 14,
   "id": "1f0bc792",
   "metadata": {
    "execution": {
     "iopub.execute_input": "2022-07-06T06:54:46.195580Z",
     "iopub.status.busy": "2022-07-06T06:54:46.194195Z",
     "iopub.status.idle": "2022-07-06T06:54:46.985839Z",
     "shell.execute_reply": "2022-07-06T06:54:46.981849Z"
    },
    "papermill": {
     "duration": 0.803125,
     "end_time": "2022-07-06T06:54:46.989418",
     "exception": false,
     "start_time": "2022-07-06T06:54:46.186293",
     "status": "completed"
    },
    "tags": []
   },
   "outputs": [],
   "source": [
    "from sklearn import metrics"
   ]
  },
  {
   "cell_type": "code",
   "execution_count": 15,
   "id": "afa270fb",
   "metadata": {
    "execution": {
     "iopub.execute_input": "2022-07-06T06:54:47.030986Z",
     "iopub.status.busy": "2022-07-06T06:54:47.027111Z",
     "iopub.status.idle": "2022-07-06T06:54:49.673797Z",
     "shell.execute_reply": "2022-07-06T06:54:49.669893Z"
    },
    "papermill": {
     "duration": 2.688135,
     "end_time": "2022-07-06T06:54:49.688170",
     "exception": false,
     "start_time": "2022-07-06T06:54:47.000035",
     "status": "completed"
    },
    "tags": []
   },
   "outputs": [
    {
     "data": {
      "image/png": "[encoded data removed]",
      "text/plain": [
       "<Figure size 1152x576 with 10 Axes>"
      ]
     },
     "metadata": {
      "needs_background": "light"
     },
     "output_type": "display_data"
    }
   ],
   "source": [
    "def plot_roc_curves(y, y_pred_probs):\n",
    "    # based on example code\n",
    "    # https://scikit-learn.org/stable/auto_examples/model_selection/plot_roc.html\n",
    "\n",
    "    fig, axs = plt.subplots(nrows=2, ncols=5, figsize=(16, 8))\n",
    "\n",
    "    roc_auc_dict = {}\n",
    "\n",
    "    for (r, c), digit, ax in zip(\n",
    "        it.product(range(2), range(5)), range(10), axs.reshape(-1)\n",
    "    ):\n",
    "        fpr, tpr, _ = metrics.roc_curve(y == digit, y_pred_probs[:, digit])\n",
    "        auc = metrics.auc(fpr, tpr)\n",
    "        roc_auc_dict[str(digit)] = auc\n",
    "\n",
    "        ax.plot(fpr, tpr, label=f\"ROC AUC={round(auc, 3)}\")\n",
    "\n",
    "        ax.set_title(f\"\\nDigit {digit}\", fontsize=16)\n",
    "        if r == 1:\n",
    "            ax.set_xlabel(\"FPR\", fontsize=18)\n",
    "\n",
    "        if c == 0:\n",
    "            ax.set_ylabel(\"TPR\", fontsize=18)\n",
    "\n",
    "        ax.set_xlim([-0.05, 1.05])\n",
    "        ax.set_ylim([-0.05, 1.05])\n",
    "        ax.legend(loc=\"lower right\", frameon=False, fontsize=14)\n",
    "\n",
    "    fig.tight_layout()\n",
    "    fig.suptitle(\n",
    "        f\"ROC plots for one-vs-rest performances \"\n",
    "        f\"(on evaluation data, n={y_pred_probs_test.shape[1]}\",\n",
    "        fontsize=22,\n",
    "    )\n",
    "    fig.tight_layout()\n",
    "    fig.show()\n",
    "\n",
    "    return roc_auc_dict, fig\n",
    "\n",
    "\n",
    "roc_auc_dict, fig = plot_roc_curves(y_test, y_pred_probs_test)"
   ]
  },
  {
   "cell_type": "code",
   "execution_count": 16,
   "id": "95460fe3",
   "metadata": {
    "execution": {
     "iopub.execute_input": "2022-07-06T06:54:49.749929Z",
     "iopub.status.busy": "2022-07-06T06:54:49.748949Z",
     "iopub.status.idle": "2022-07-06T06:54:50.267929Z",
     "shell.execute_reply": "2022-07-06T06:54:50.266758Z"
    },
    "papermill": {
     "duration": 0.566643,
     "end_time": "2022-07-06T06:54:50.270861",
     "exception": false,
     "start_time": "2022-07-06T06:54:49.704218",
     "status": "completed"
    },
    "tags": []
   },
   "outputs": [],
   "source": [
    "logger.log_figure(\"per-digit-roc-curves.png\", fig)"
   ]
  },
  {
   "cell_type": "code",
   "execution_count": 17,
   "id": "6a336a88",
   "metadata": {
    "execution": {
     "iopub.execute_input": "2022-07-06T06:54:50.298993Z",
     "iopub.status.busy": "2022-07-06T06:54:50.298616Z",
     "iopub.status.idle": "2022-07-06T06:54:50.313344Z",
     "shell.execute_reply": "2022-07-06T06:54:50.310031Z"
    },
    "papermill": {
     "duration": 0.038414,
     "end_time": "2022-07-06T06:54:50.324687",
     "exception": false,
     "start_time": "2022-07-06T06:54:50.286273",
     "status": "completed"
    },
    "tags": []
   },
   "outputs": [
    {
     "data": {
      "text/plain": [
       "{'0': 1.0,\n",
       " '1': 0.9992127460168697,\n",
       " '2': 1.0,\n",
       " '3': 0.9996626054358013,\n",
       " '4': 0.9990855052583447,\n",
       " '5': 0.9988378631677601,\n",
       " '6': 0.999923792104862,\n",
       " '7': 0.9998475842097241,\n",
       " '8': 0.9939706809583858,\n",
       " '9': 0.9988187776253621}"
      ]
     },
     "execution_count": 17,
     "metadata": {},
     "output_type": "execute_result"
    }
   ],
   "source": [
    "roc_auc_dict"
   ]
  },
  {
   "cell_type": "code",
   "execution_count": 18,
   "id": "e33e33b7",
   "metadata": {
    "execution": {
     "iopub.execute_input": "2022-07-06T06:54:50.375331Z",
     "iopub.status.busy": "2022-07-06T06:54:50.373737Z",
     "iopub.status.idle": "2022-07-06T06:54:50.387539Z",
     "shell.execute_reply": "2022-07-06T06:54:50.386690Z"
    },
    "papermill": {
     "duration": 0.049182,
     "end_time": "2022-07-06T06:54:50.400832",
     "exception": false,
     "start_time": "2022-07-06T06:54:50.351650",
     "status": "completed"
    },
    "tags": []
   },
   "outputs": [
    {
     "name": "stdout",
     "output_type": "stream",
     "text": [
      " - Logging roc_auc_per_digit (json) : {'0': 1.0, '1': 0.9992127460168697, '2': 1.0, '3': 0.9996626054358013, '4': 0.9990855052583447, '5': 0.9988378631677601, '6': 0.999923792104862, '7': 0.9998475842097241, '8': 0.9939706809583858, '9': 0.9988187776253621}\n"
     ]
    }
   ],
   "source": [
    "logger.log_value(\"roc_auc_per_digit\", roc_auc_dict)"
   ]
  },
  {
   "cell_type": "markdown",
   "id": "c46bbe45",
   "metadata": {
    "papermill": {
     "duration": 0.006638,
     "end_time": "2022-07-06T06:54:50.414530",
     "exception": false,
     "start_time": "2022-07-06T06:54:50.407892",
     "status": "completed"
    },
    "tags": []
   },
   "source": [
    "### Compute and log mean ROC AUC score averaged over all digits"
   ]
  },
  {
   "cell_type": "code",
   "execution_count": 19,
   "id": "22b3f049",
   "metadata": {
    "execution": {
     "iopub.execute_input": "2022-07-06T06:54:50.430590Z",
     "iopub.status.busy": "2022-07-06T06:54:50.430206Z",
     "iopub.status.idle": "2022-07-06T06:54:50.462872Z",
     "shell.execute_reply": "2022-07-06T06:54:50.461391Z"
    },
    "papermill": {
     "duration": 0.044988,
     "end_time": "2022-07-06T06:54:50.465925",
     "exception": false,
     "start_time": "2022-07-06T06:54:50.420937",
     "status": "completed"
    },
    "tags": []
   },
   "outputs": [
    {
     "name": "stdout",
     "output_type": "stream",
     "text": [
      " - Logging roc_auc_class_mean (float) : 0.998935955477711\n"
     ]
    }
   ],
   "source": [
    "roc_auc_macro = np.mean(list(roc_auc_dict.values()))\n",
    "\n",
    "logger.log_float(\"roc_auc_class_mean\", roc_auc_macro)\n",
    "\n",
    "# assert that the same value can be computed directly using sklearn\n",
    "assert roc_auc_macro == metrics.roc_auc_score(\n",
    "    y_test, y_pred_probs_test, average=\"macro\", multi_class=\"ovr\"\n",
    ")"
   ]
  },
  {
   "cell_type": "code",
   "execution_count": 20,
   "id": "4cea9822",
   "metadata": {
    "execution": {
     "iopub.execute_input": "2022-07-06T06:54:50.486282Z",
     "iopub.status.busy": "2022-07-06T06:54:50.485913Z",
     "iopub.status.idle": "2022-07-06T06:54:50.490480Z",
     "shell.execute_reply": "2022-07-06T06:54:50.489539Z"
    },
    "lines_to_next_cell": 0,
    "papermill": {
     "duration": 0.020005,
     "end_time": "2022-07-06T06:54:50.495827",
     "exception": false,
     "start_time": "2022-07-06T06:54:50.475822",
     "status": "completed"
    },
    "tags": []
   },
   "outputs": [],
   "source": [
    "# ---"
   ]
  },
  {
   "cell_type": "code",
   "execution_count": null,
   "id": "e73a4927",
   "metadata": {
    "papermill": {
     "duration": 0.009452,
     "end_time": "2022-07-06T06:54:50.514353",
     "exception": false,
     "start_time": "2022-07-06T06:54:50.504901",
     "status": "completed"
    },
    "tags": []
   },
   "outputs": [],
   "source": []
  }
 ],
 "metadata": {
  "jupytext": {
   "cell_metadata_filter": "tags,-all",
   "main_language": "python",
   "notebook_metadata_filter": "-all"
  },
  "language_info": {
   "codemirror_mode": {
    "name": "ipython",
    "version": 3
   },
   "file_extension": ".py",
   "mimetype": "text/x-python",
   "name": "python",
   "nbconvert_exporter": "python",
   "pygments_lexer": "ipython3",
   "version": "3.8.10"
  },
  "papermill": {
   "default_parameters": {},
   "duration": 21.030181,
   "end_time": "2022-07-06T06:54:53.648328",
   "environment_variables": {},
   "exception": null,
   "input_path": "/home/host_user/workspace/mnist-demo-pipeline/mnist-demo-pipeline/notebooks/temp-notebook-i5nyot16.ipynb",
   "output_path": "notebooks/benchmark-model.ipynb",
   "parameters": {
    "P": {
     "_opentelemetry_traceparent": "00-8cb03d06324d6ba3c821f9057abe8c9c-26a38ba16f0fe821-01",
     "pipeline.data_lake_root": "/pipeline-outputs/data-lake",
     "pipeline.github.actor": "matiasdahl",
     "pipeline.github.base_ref": "",
     "pipeline.github.event_name": "schedule",
     "pipeline.github.head_ref": "",
     "pipeline.github.job": "run-tests-pipeline-and-persist-pipeline-outputs",
     "pipeline.github.ref": "refs/heads/development",
     "pipeline.github.ref_name": "development",
     "pipeline.github.ref_type": "branch",
     "pipeline.github.repository": "pynb-dag-runner/mnist-digits-demo-pipeline",
     "pipeline.github.run_id": "2620912334",
     "pipeline.github.runner_name": "Hosted Agent",
     "pipeline.github.sha": "f934c58f68028b7bb026059d4e87e6d32a1bbd20",
     "pipeline.github.workflow": "Run automated tests, pipeline and deploy results to static reporting site",
     "pipeline.pipeline_run_id": "fea682e4-3793-4c0e-9ed3-6f31763c070a",
     "pipeline.run_environment": "ci",
     "run.retry_nr": "0",
     "task.max_nr_retries": "1",
     "task.notebook": "notebooks/benchmark-model.py",
     "task.nr_train_images": 600,
     "task.num_cpus": 1,
     "task.timeout_s": "None"
    }
   },
   "start_time": "2022-07-06T06:54:32.618147",
   "version": "2.3.3"
  }
 },
 "nbformat": 4,
 "nbformat_minor": 5
}