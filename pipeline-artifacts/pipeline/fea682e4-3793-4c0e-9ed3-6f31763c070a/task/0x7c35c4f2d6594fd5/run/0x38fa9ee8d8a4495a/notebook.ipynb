{
 "cells": [
  {
   "cell_type": "markdown",
   "id": "2c7f5446",
   "metadata": {
    "papermill": {
     "duration": 0.010122,
     "end_time": "2022-07-06T06:55:21.433802",
     "exception": false,
     "start_time": "2022-07-06T06:55:21.423680",
     "status": "completed"
    },
    "tags": []
   },
   "source": [
    "# Summarize model performances\n",
    "\n",
    "This notebooks plots the performances (using averaged ROC AUC scores) for models\n",
    "trained with different training sets."
   ]
  },
  {
   "cell_type": "markdown",
   "id": "b34f38e0",
   "metadata": {
    "papermill": {
     "duration": 0.017956,
     "end_time": "2022-07-06T06:55:21.455287",
     "exception": false,
     "start_time": "2022-07-06T06:55:21.437331",
     "status": "completed"
    },
    "tags": []
   },
   "source": [
    "### Determine run parameters"
   ]
  },
  {
   "cell_type": "code",
   "execution_count": 1,
   "id": "ba573785",
   "metadata": {
    "execution": {
     "iopub.execute_input": "2022-07-06T06:55:21.468807Z",
     "iopub.status.busy": "2022-07-06T06:55:21.468369Z",
     "iopub.status.idle": "2022-07-06T06:55:21.481836Z",
     "shell.execute_reply": "2022-07-06T06:55:21.480665Z"
    },
    "lines_to_next_cell": 0,
    "papermill": {
     "duration": 0.038039,
     "end_time": "2022-07-06T06:55:21.496628",
     "exception": false,
     "start_time": "2022-07-06T06:55:21.458589",
     "status": "completed"
    },
    "tags": []
   },
   "outputs": [],
   "source": [
    "# ----------------- Parameters for interactive development --------------\n",
    "P = {\n",
    "    \"pipeline.run_environment\": \"dev\",\n",
    "}"
   ]
  },
  {
   "cell_type": "code",
   "execution_count": 2,
   "id": "a764336d",
   "metadata": {
    "execution": {
     "iopub.execute_input": "2022-07-06T06:55:21.521789Z",
     "iopub.status.busy": "2022-07-06T06:55:21.521394Z",
     "iopub.status.idle": "2022-07-06T06:55:21.528036Z",
     "shell.execute_reply": "2022-07-06T06:55:21.525365Z"
    },
    "lines_to_next_cell": 0,
    "papermill": {
     "duration": 0.032715,
     "end_time": "2022-07-06T06:55:21.536605",
     "exception": false,
     "start_time": "2022-07-06T06:55:21.503890",
     "status": "completed"
    },
    "tags": [
     "parameters"
    ]
   },
   "outputs": [],
   "source": [
    "# - During automated runs parameters will be injected in the below cell -"
   ]
  },
  {
   "cell_type": "code",
   "execution_count": 3,
   "id": "bbda5ba3",
   "metadata": {
    "execution": {
     "iopub.execute_input": "2022-07-06T06:55:21.570094Z",
     "iopub.status.busy": "2022-07-06T06:55:21.568847Z",
     "iopub.status.idle": "2022-07-06T06:55:21.583480Z",
     "shell.execute_reply": "2022-07-06T06:55:21.576394Z"
    },
    "papermill": {
     "duration": 0.04493,
     "end_time": "2022-07-06T06:55:21.589614",
     "exception": false,
     "start_time": "2022-07-06T06:55:21.544684",
     "status": "completed"
    },
    "tags": [
     "injected-parameters"
    ]
   },
   "outputs": [],
   "source": [
    "# Parameters\n",
    "P = {\n",
    "    \"pipeline.data_lake_root\": \"/pipeline-outputs/data-lake\",\n",
    "    \"pipeline.run_environment\": \"ci\",\n",
    "    \"pipeline.pipeline_run_id\": \"fea682e4-3793-4c0e-9ed3-6f31763c070a\",\n",
    "    \"pipeline.github.repository\": \"pynb-dag-runner/mnist-digits-demo-pipeline\",\n",
    "    \"pipeline.github.workflow\": \"Run automated tests, pipeline and deploy results to static reporting site\",\n",
    "    \"pipeline.github.runner_name\": \"Hosted Agent\",\n",
    "    \"pipeline.github.run_id\": \"2620912334\",\n",
    "    \"pipeline.github.actor\": \"matiasdahl\",\n",
    "    \"pipeline.github.job\": \"run-tests-pipeline-and-persist-pipeline-outputs\",\n",
    "    \"pipeline.github.base_ref\": \"\",\n",
    "    \"pipeline.github.head_ref\": \"\",\n",
    "    \"pipeline.github.sha\": \"f934c58f68028b7bb026059d4e87e6d32a1bbd20\",\n",
    "    \"pipeline.github.ref\": \"refs/heads/development\",\n",
    "    \"pipeline.github.ref_type\": \"branch\",\n",
    "    \"pipeline.github.ref_name\": \"development\",\n",
    "    \"pipeline.github.event_name\": \"schedule\",\n",
    "    \"task.notebook\": \"notebooks/summary.py\",\n",
    "    \"task.max_nr_retries\": \"1\",\n",
    "    \"run.retry_nr\": \"0\",\n",
    "    \"task.timeout_s\": \"None\",\n",
    "    \"task.num_cpus\": 1,\n",
    "    \"_opentelemetry_traceparent\": \"00-8cb03d06324d6ba3c821f9057abe8c9c-7242d99e5d8ef599-01\",\n",
    "}\n"
   ]
  },
  {
   "cell_type": "code",
   "execution_count": 4,
   "id": "f97e416b",
   "metadata": {
    "execution": {
     "iopub.execute_input": "2022-07-06T06:55:21.614769Z",
     "iopub.status.busy": "2022-07-06T06:55:21.613903Z",
     "iopub.status.idle": "2022-07-06T06:55:21.622034Z",
     "shell.execute_reply": "2022-07-06T06:55:21.618964Z"
    },
    "lines_to_next_cell": 0,
    "papermill": {
     "duration": 0.030584,
     "end_time": "2022-07-06T06:55:21.626400",
     "exception": false,
     "start_time": "2022-07-06T06:55:21.595816",
     "status": "completed"
    },
    "tags": []
   },
   "outputs": [],
   "source": [
    "# -----------------------------------------------------------------------"
   ]
  },
  {
   "cell_type": "markdown",
   "id": "86a18876",
   "metadata": {
    "papermill": {
     "duration": 0.028746,
     "end_time": "2022-07-06T06:55:21.660280",
     "exception": false,
     "start_time": "2022-07-06T06:55:21.631534",
     "status": "completed"
    },
    "tags": []
   },
   "source": [
    "---"
   ]
  },
  {
   "cell_type": "markdown",
   "id": "685a2015",
   "metadata": {
    "lines_to_next_cell": 2,
    "papermill": {
     "duration": 0.015405,
     "end_time": "2022-07-06T06:55:21.688015",
     "exception": false,
     "start_time": "2022-07-06T06:55:21.672610",
     "status": "completed"
    },
    "tags": []
   },
   "source": [
    "### Notebook code"
   ]
  },
  {
   "cell_type": "code",
   "execution_count": 5,
   "id": "880f2fca",
   "metadata": {
    "execution": {
     "iopub.execute_input": "2022-07-06T06:55:21.704594Z",
     "iopub.status.busy": "2022-07-06T06:55:21.704252Z",
     "iopub.status.idle": "2022-07-06T06:55:23.692864Z",
     "shell.execute_reply": "2022-07-06T06:55:23.691874Z"
    },
    "papermill": {
     "duration": 1.999126,
     "end_time": "2022-07-06T06:55:23.695532",
     "exception": false,
     "start_time": "2022-07-06T06:55:21.696406",
     "status": "completed"
    },
    "tags": []
   },
   "outputs": [],
   "source": [
    "#\n",
    "import pandas as pd\n",
    "import matplotlib.pyplot as plt\n",
    "\n",
    "#\n",
    "from pynb_dag_runner.tasks.task_opentelemetry_logging import PydarLogger"
   ]
  },
  {
   "cell_type": "code",
   "execution_count": 6,
   "id": "5345dae0",
   "metadata": {
    "execution": {
     "iopub.execute_input": "2022-07-06T06:55:23.726814Z",
     "iopub.status.busy": "2022-07-06T06:55:23.725447Z",
     "iopub.status.idle": "2022-07-06T06:55:23.935711Z",
     "shell.execute_reply": "2022-07-06T06:55:23.934437Z"
    },
    "papermill": {
     "duration": 0.238872,
     "end_time": "2022-07-06T06:55:23.940682",
     "exception": false,
     "start_time": "2022-07-06T06:55:23.701810",
     "status": "completed"
    },
    "tags": []
   },
   "outputs": [
    {
     "name": "stderr",
     "output_type": "stream",
     "text": [
      "2022-07-06 06:55:23,736\tINFO worker.py:842 -- Connecting to existing Ray cluster at address: 172.17.0.2:6379\n"
     ]
    }
   ],
   "source": [
    "logger = PydarLogger(P=P)"
   ]
  },
  {
   "cell_type": "code",
   "execution_count": 7,
   "id": "286f467b",
   "metadata": {
    "execution": {
     "iopub.execute_input": "2022-07-06T06:55:23.958018Z",
     "iopub.status.busy": "2022-07-06T06:55:23.956692Z",
     "iopub.status.idle": "2022-07-06T06:55:23.966882Z",
     "shell.execute_reply": "2022-07-06T06:55:23.964793Z"
    },
    "papermill": {
     "duration": 0.025788,
     "end_time": "2022-07-06T06:55:23.970462",
     "exception": false,
     "start_time": "2022-07-06T06:55:23.944674",
     "status": "completed"
    },
    "tags": []
   },
   "outputs": [],
   "source": [
    "from pynb_dag_runner.tasks.task_opentelemetry_logging import (\n",
    "    PydarLogger,\n",
    "    get_logged_values,\n",
    ")\n",
    "from pynb_dag_runner.opentelemetry_helpers import _get_all_spans, Spans"
   ]
  },
  {
   "cell_type": "code",
   "execution_count": 8,
   "id": "c7ad2107",
   "metadata": {
    "execution": {
     "iopub.execute_input": "2022-07-06T06:55:23.984588Z",
     "iopub.status.busy": "2022-07-06T06:55:23.984223Z",
     "iopub.status.idle": "2022-07-06T06:55:23.998098Z",
     "shell.execute_reply": "2022-07-06T06:55:23.996981Z"
    },
    "papermill": {
     "duration": 0.033164,
     "end_time": "2022-07-06T06:55:24.009789",
     "exception": false,
     "start_time": "2022-07-06T06:55:23.976625",
     "status": "completed"
    },
    "tags": []
   },
   "outputs": [],
   "source": [
    "def get_model_benchmarks():\n",
    "    \"\"\"\n",
    "    Query the OpenTelemetry logs for *this pipeline run* and return\n",
    "    all key-values logged from all runs of the benchmark-model.py task\n",
    "\n",
    "    For testing a json file with OpenTelemetry spans (as an array)\n",
    "    can be used as follows:\n",
    "\n",
    "    - Create output directory `mkdir /tmp/spans`\n",
    "    - Run unit tests. This will create pipeline-outputs/opentelemetry-spans.json\n",
    "    - Convert this json-array into jsonl format as follows\n",
    "\n",
    "    jq -c '.[]' /pipeline-outputs/opentelemetry-spans.json > /tmp/spans/data.txt\n",
    "\n",
    "    \"\"\"\n",
    "    spans: Spans = Spans(_get_all_spans())\n",
    "    print(f\"Found {len(spans)} spans\")\n",
    "\n",
    "    benchmark_spans = (\n",
    "        spans\n",
    "        # -\n",
    "        .filter([\"name\"], \"execute-task\")\n",
    "        # -\n",
    "        .filter([\"attributes\", \"task.notebook\"], \"notebooks/benchmark-model.py\")\n",
    "    )\n",
    "\n",
    "    result = []\n",
    "    for s in benchmark_spans:\n",
    "        result.append(\n",
    "            {\n",
    "                \"span_id\": s[\"context\"][\"span_id\"],\n",
    "                \"nr_train_images\": s[\"attributes\"][\"task.nr_train_images\"],\n",
    "                \"data\": get_logged_values(spans.bound_under(s)),\n",
    "            }\n",
    "        )\n",
    "\n",
    "    return result\n",
    "\n",
    "\n",
    "def adjust_pandas(df):\n",
    "    def column_renamer(col_name: str) -> str:\n",
    "        return (\n",
    "            col_name\n",
    "            # -- 'data.roc_auc_per_digit.4' -> 'roc_auc.4'\n",
    "            .replace(\"data.roc_auc_per_digit\", \"roc_auc\")\n",
    "            # -- 'data.roc_auc_class_mean' -> 'roc_auc_mean'\n",
    "            .replace(\"data.roc_auc_class_mean\", \"roc_auc_mean\")\n",
    "        )\n",
    "\n",
    "    return df.rename(column_renamer, axis=\"columns\").sort_values(by=\"nr_train_images\")"
   ]
  },
  {
   "cell_type": "code",
   "execution_count": 9,
   "id": "cd24a48f",
   "metadata": {
    "execution": {
     "iopub.execute_input": "2022-07-06T06:55:24.020716Z",
     "iopub.status.busy": "2022-07-06T06:55:24.019977Z",
     "iopub.status.idle": "2022-07-06T06:56:00.851093Z",
     "shell.execute_reply": "2022-07-06T06:56:00.849779Z"
    },
    "papermill": {
     "duration": 36.840336,
     "end_time": "2022-07-06T06:56:00.854179",
     "exception": false,
     "start_time": "2022-07-06T06:55:24.013843",
     "status": "completed"
    },
    "tags": []
   },
   "outputs": [
    {
     "name": "stdout",
     "output_type": "stream",
     "text": [
      "Found 423 spans\n"
     ]
    }
   ],
   "source": [
    "df_data = adjust_pandas(pd.json_normalize(get_model_benchmarks()))"
   ]
  },
  {
   "cell_type": "code",
   "execution_count": 10,
   "id": "b299af28",
   "metadata": {
    "execution": {
     "iopub.execute_input": "2022-07-06T06:56:00.868361Z",
     "iopub.status.busy": "2022-07-06T06:56:00.867982Z",
     "iopub.status.idle": "2022-07-06T06:56:00.917281Z",
     "shell.execute_reply": "2022-07-06T06:56:00.910975Z"
    },
    "papermill": {
     "duration": 0.057822,
     "end_time": "2022-07-06T06:56:00.920432",
     "exception": false,
     "start_time": "2022-07-06T06:56:00.862610",
     "status": "completed"
    },
    "tags": []
   },
   "outputs": [
    {
     "data": {
      "text/html": [
       "<div>\n",
       "<style scoped>\n",
       "    .dataframe tbody tr th:only-of-type {\n",
       "        vertical-align: middle;\n",
       "    }\n",
       "\n",
       "    .dataframe tbody tr th {\n",
       "        vertical-align: top;\n",
       "    }\n",
       "\n",
       "    .dataframe thead th {\n",
       "        text-align: right;\n",
       "    }\n",
       "</style>\n",
       "<table border=\"1\" class=\"dataframe\">\n",
       "  <thead>\n",
       "    <tr style=\"text-align: right;\">\n",
       "      <th></th>\n",
       "      <th>span_id</th>\n",
       "      <th>nr_train_images</th>\n",
       "      <th>roc_auc_mean</th>\n",
       "      <th>roc_auc.0</th>\n",
       "      <th>roc_auc.1</th>\n",
       "      <th>roc_auc.2</th>\n",
       "      <th>roc_auc.3</th>\n",
       "      <th>roc_auc.4</th>\n",
       "      <th>roc_auc.5</th>\n",
       "      <th>roc_auc.6</th>\n",
       "      <th>roc_auc.7</th>\n",
       "      <th>roc_auc.8</th>\n",
       "      <th>roc_auc.9</th>\n",
       "    </tr>\n",
       "  </thead>\n",
       "  <tbody>\n",
       "    <tr>\n",
       "      <th>3</th>\n",
       "      <td>0xa06c3b458c7cc787</td>\n",
       "      <td>600</td>\n",
       "      <td>0.9989</td>\n",
       "      <td>1.0</td>\n",
       "      <td>0.9992</td>\n",
       "      <td>1.0</td>\n",
       "      <td>0.9997</td>\n",
       "      <td>0.9991</td>\n",
       "      <td>0.9988</td>\n",
       "      <td>0.9999</td>\n",
       "      <td>0.9998</td>\n",
       "      <td>0.9940</td>\n",
       "      <td>0.9988</td>\n",
       "    </tr>\n",
       "    <tr>\n",
       "      <th>1</th>\n",
       "      <td>0x4381cd03f51b1e3e</td>\n",
       "      <td>800</td>\n",
       "      <td>0.9989</td>\n",
       "      <td>1.0</td>\n",
       "      <td>0.9988</td>\n",
       "      <td>1.0</td>\n",
       "      <td>0.9998</td>\n",
       "      <td>0.9995</td>\n",
       "      <td>0.9990</td>\n",
       "      <td>1.0000</td>\n",
       "      <td>0.9999</td>\n",
       "      <td>0.9926</td>\n",
       "      <td>0.9994</td>\n",
       "    </tr>\n",
       "    <tr>\n",
       "      <th>0</th>\n",
       "      <td>0x59d4c921b106c925</td>\n",
       "      <td>1000</td>\n",
       "      <td>0.9992</td>\n",
       "      <td>1.0</td>\n",
       "      <td>0.9990</td>\n",
       "      <td>1.0</td>\n",
       "      <td>0.9999</td>\n",
       "      <td>0.9996</td>\n",
       "      <td>0.9994</td>\n",
       "      <td>0.9999</td>\n",
       "      <td>0.9998</td>\n",
       "      <td>0.9951</td>\n",
       "      <td>0.9996</td>\n",
       "    </tr>\n",
       "    <tr>\n",
       "      <th>2</th>\n",
       "      <td>0xb45af5499749f77a</td>\n",
       "      <td>1200</td>\n",
       "      <td>0.9993</td>\n",
       "      <td>1.0</td>\n",
       "      <td>0.9990</td>\n",
       "      <td>1.0</td>\n",
       "      <td>0.9999</td>\n",
       "      <td>0.9997</td>\n",
       "      <td>0.9997</td>\n",
       "      <td>0.9999</td>\n",
       "      <td>0.9998</td>\n",
       "      <td>0.9956</td>\n",
       "      <td>0.9998</td>\n",
       "    </tr>\n",
       "  </tbody>\n",
       "</table>\n",
       "</div>"
      ],
      "text/plain": [
       "              span_id  nr_train_images  roc_auc_mean  roc_auc.0  roc_auc.1  \\\n",
       "3  0xa06c3b458c7cc787              600        0.9989        1.0     0.9992   \n",
       "1  0x4381cd03f51b1e3e              800        0.9989        1.0     0.9988   \n",
       "0  0x59d4c921b106c925             1000        0.9992        1.0     0.9990   \n",
       "2  0xb45af5499749f77a             1200        0.9993        1.0     0.9990   \n",
       "\n",
       "   roc_auc.2  roc_auc.3  roc_auc.4  roc_auc.5  roc_auc.6  roc_auc.7  \\\n",
       "3        1.0     0.9997     0.9991     0.9988     0.9999     0.9998   \n",
       "1        1.0     0.9998     0.9995     0.9990     1.0000     0.9999   \n",
       "0        1.0     0.9999     0.9996     0.9994     0.9999     0.9998   \n",
       "2        1.0     0.9999     0.9997     0.9997     0.9999     0.9998   \n",
       "\n",
       "   roc_auc.8  roc_auc.9  \n",
       "3     0.9940     0.9988  \n",
       "1     0.9926     0.9994  \n",
       "0     0.9951     0.9996  \n",
       "2     0.9956     0.9998  "
      ]
     },
     "execution_count": 10,
     "metadata": {},
     "output_type": "execute_result"
    }
   ],
   "source": [
    "df_data.round(4)"
   ]
  },
  {
   "cell_type": "code",
   "execution_count": 11,
   "id": "a846c2f2",
   "metadata": {
    "execution": {
     "iopub.execute_input": "2022-07-06T06:56:00.932925Z",
     "iopub.status.busy": "2022-07-06T06:56:00.932366Z",
     "iopub.status.idle": "2022-07-06T06:56:01.242003Z",
     "shell.execute_reply": "2022-07-06T06:56:01.239866Z"
    },
    "papermill": {
     "duration": 0.318287,
     "end_time": "2022-07-06T06:56:01.245087",
     "exception": false,
     "start_time": "2022-07-06T06:56:00.926800",
     "status": "completed"
    },
    "tags": []
   },
   "outputs": [
    {
     "data": {
      "image/png": "[encoded data removed]",
      "text/plain": [
       "<Figure size 1152x288 with 1 Axes>"
      ]
     },
     "metadata": {
      "needs_background": "light"
     },
     "output_type": "display_data"
    }
   ],
   "source": [
    "def plot_classifier_performance_summary(df_data):\n",
    "    fig, ax = plt.subplots(nrows=1, ncols=1, figsize=(16, 4), sharex=True)\n",
    "\n",
    "    #\n",
    "    ax.plot(\n",
    "        df_data[\"nr_train_images\"], df_data[\"roc_auc_mean\"], marker=\"o\", linestyle=\"--\"\n",
    "    )\n",
    "    ax.set_title(\n",
    "        f\"ROC AUC digit classifier performance on evaluation digits\", fontsize=17\n",
    "    )\n",
    "    ax.set_xlabel(\"Total number of digits in training set\", fontsize=14)\n",
    "    ax.set_ylabel(\"Mean ROC AUC\", fontsize=14)\n",
    "\n",
    "    fig.tight_layout()\n",
    "    fig.show()\n",
    "\n",
    "    return fig\n",
    "\n",
    "\n",
    "fig = plot_classifier_performance_summary(df_data)"
   ]
  },
  {
   "cell_type": "code",
   "execution_count": 12,
   "id": "fa847bab",
   "metadata": {
    "execution": {
     "iopub.execute_input": "2022-07-06T06:56:01.273240Z",
     "iopub.status.busy": "2022-07-06T06:56:01.272764Z",
     "iopub.status.idle": "2022-07-06T06:56:01.367092Z",
     "shell.execute_reply": "2022-07-06T06:56:01.366085Z"
    },
    "papermill": {
     "duration": 0.119314,
     "end_time": "2022-07-06T06:56:01.369598",
     "exception": false,
     "start_time": "2022-07-06T06:56:01.250284",
     "status": "completed"
    },
    "tags": []
   },
   "outputs": [],
   "source": [
    "logger.log_figure(\"auc-roc-model-performances.png\", fig)"
   ]
  },
  {
   "cell_type": "code",
   "execution_count": 13,
   "id": "08f95be5",
   "metadata": {
    "execution": {
     "iopub.execute_input": "2022-07-06T06:56:01.391708Z",
     "iopub.status.busy": "2022-07-06T06:56:01.385415Z",
     "iopub.status.idle": "2022-07-06T06:56:01.395971Z",
     "shell.execute_reply": "2022-07-06T06:56:01.394687Z"
    },
    "papermill": {
     "duration": 0.020723,
     "end_time": "2022-07-06T06:56:01.398708",
     "exception": false,
     "start_time": "2022-07-06T06:56:01.377985",
     "status": "completed"
    },
    "tags": []
   },
   "outputs": [],
   "source": [
    "###"
   ]
  },
  {
   "cell_type": "code",
   "execution_count": null,
   "id": "badea4c1",
   "metadata": {
    "papermill": {
     "duration": 0.005445,
     "end_time": "2022-07-06T06:56:01.409393",
     "exception": false,
     "start_time": "2022-07-06T06:56:01.403948",
     "status": "completed"
    },
    "tags": []
   },
   "outputs": [],
   "source": []
  }
 ],
 "metadata": {
  "jupytext": {
   "cell_metadata_filter": "tags,-all",
   "main_language": "python",
   "notebook_metadata_filter": "-all"
  },
  "language_info": {
   "codemirror_mode": {
    "name": "ipython",
    "version": 3
   },
   "file_extension": ".py",
   "mimetype": "text/x-python",
   "name": "python",
   "nbconvert_exporter": "python",
   "pygments_lexer": "ipython3",
   "version": "3.8.10"
  },
  "papermill": {
   "default_parameters": {},
   "duration": 43.18599,
   "end_time": "2022-07-06T06:56:02.661839",
   "environment_variables": {},
   "exception": null,
   "input_path": "/home/host_user/workspace/mnist-demo-pipeline/mnist-demo-pipeline/notebooks/temp-notebook-_hudk_81.ipynb",
   "output_path": "notebooks/summary.ipynb",
   "parameters": {
    "P": {
     "_opentelemetry_traceparent": "00-8cb03d06324d6ba3c821f9057abe8c9c-7242d99e5d8ef599-01",
     "pipeline.data_lake_root": "/pipeline-outputs/data-lake",
     "pipeline.github.actor": "matiasdahl",
     "pipeline.github.base_ref": "",
     "pipeline.github.event_name": "schedule",
     "pipeline.github.head_ref": "",
     "pipeline.github.job": "run-tests-pipeline-and-persist-pipeline-outputs",
     "pipeline.github.ref": "refs/heads/development",
     "pipeline.github.ref_name": "development",
     "pipeline.github.ref_type": "branch",
     "pipeline.github.repository": "pynb-dag-runner/mnist-digits-demo-pipeline",
     "pipeline.github.run_id": "2620912334",
     "pipeline.github.runner_name": "Hosted Agent",
     "pipeline.github.sha": "f934c58f68028b7bb026059d4e87e6d32a1bbd20",
     "pipeline.github.workflow": "Run automated tests, pipeline and deploy results to static reporting site",
     "pipeline.pipeline_run_id": "fea682e4-3793-4c0e-9ed3-6f31763c070a",
     "pipeline.run_environment": "ci",
     "run.retry_nr": "0",
     "task.max_nr_retries": "1",
     "task.notebook": "notebooks/summary.py",
     "task.num_cpus": 1,
     "task.timeout_s": "None"
    }
   },
   "start_time": "2022-07-06T06:55:19.475849",
   "version": "2.3.3"
  }
 },
 "nbformat": 4,
 "nbformat_minor": 5
}