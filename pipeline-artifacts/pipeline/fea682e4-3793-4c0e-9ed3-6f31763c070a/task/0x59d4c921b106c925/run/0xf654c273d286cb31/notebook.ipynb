{
 "cells": [
  {
   "cell_type": "markdown",
   "id": "90eb318a",
   "metadata": {
    "papermill": {
     "duration": 0.020697,
     "end_time": "2022-07-06T06:54:27.563926",
     "exception": false,
     "start_time": "2022-07-06T06:54:27.543229",
     "status": "completed"
    },
    "tags": []
   },
   "source": [
    "# Benchmark model\n",
    "\n",
    "The purpose of this notebook is to benchmark persisted onnx-model (trained in the\n",
    "previous step) against evaluation set."
   ]
  },
  {
   "cell_type": "markdown",
   "id": "605ea416",
   "metadata": {
    "papermill": {
     "duration": 0.010935,
     "end_time": "2022-07-06T06:54:27.591823",
     "exception": false,
     "start_time": "2022-07-06T06:54:27.580888",
     "status": "completed"
    },
    "tags": []
   },
   "source": [
    "### Determine run parameters"
   ]
  },
  {
   "cell_type": "code",
   "execution_count": 1,
   "id": "bf181489",
   "metadata": {
    "execution": {
     "iopub.execute_input": "2022-07-06T06:54:27.624667Z",
     "iopub.status.busy": "2022-07-06T06:54:27.624186Z",
     "iopub.status.idle": "2022-07-06T06:54:27.635624Z",
     "shell.execute_reply": "2022-07-06T06:54:27.634181Z"
    },
    "lines_to_next_cell": 0,
    "papermill": {
     "duration": 0.033739,
     "end_time": "2022-07-06T06:54:27.641992",
     "exception": false,
     "start_time": "2022-07-06T06:54:27.608253",
     "status": "completed"
    },
    "tags": []
   },
   "outputs": [],
   "source": [
    "# ----------------- Parameters for interactive development --------------\n",
    "P = {\n",
    "    \"pipeline.data_lake_root\": \"/pipeline-outputs/data-lake\",\n",
    "    \"task.nr_train_images\": 600,\n",
    "}"
   ]
  },
  {
   "cell_type": "code",
   "execution_count": 2,
   "id": "ef5981ed",
   "metadata": {
    "execution": {
     "iopub.execute_input": "2022-07-06T06:54:27.680575Z",
     "iopub.status.busy": "2022-07-06T06:54:27.680154Z",
     "iopub.status.idle": "2022-07-06T06:54:27.694354Z",
     "shell.execute_reply": "2022-07-06T06:54:27.693094Z"
    },
    "lines_to_next_cell": 0,
    "papermill": {
     "duration": 0.052896,
     "end_time": "2022-07-06T06:54:27.700825",
     "exception": false,
     "start_time": "2022-07-06T06:54:27.647929",
     "status": "completed"
    },
    "tags": [
     "parameters"
    ]
   },
   "outputs": [],
   "source": [
    "# - During automated runs parameters will be injected in the below cell -"
   ]
  },
  {
   "cell_type": "code",
   "execution_count": 3,
   "id": "8ec5abb3",
   "metadata": {
    "execution": {
     "iopub.execute_input": "2022-07-06T06:54:27.728191Z",
     "iopub.status.busy": "2022-07-06T06:54:27.727868Z",
     "iopub.status.idle": "2022-07-06T06:54:27.739876Z",
     "shell.execute_reply": "2022-07-06T06:54:27.738763Z"
    },
    "papermill": {
     "duration": 0.038373,
     "end_time": "2022-07-06T06:54:27.747977",
     "exception": false,
     "start_time": "2022-07-06T06:54:27.709604",
     "status": "completed"
    },
    "tags": [
     "injected-parameters"
    ]
   },
   "outputs": [],
   "source": [
    "# Parameters\n",
    "P = {\n",
    "    \"pipeline.data_lake_root\": \"/pipeline-outputs/data-lake\",\n",
    "    \"pipeline.run_environment\": \"ci\",\n",
    "    \"pipeline.pipeline_run_id\": \"fea682e4-3793-4c0e-9ed3-6f31763c070a\",\n",
    "    \"pipeline.github.repository\": \"pynb-dag-runner/mnist-digits-demo-pipeline\",\n",
    "    \"pipeline.github.workflow\": \"Run automated tests, pipeline and deploy results to static reporting site\",\n",
    "    \"pipeline.github.runner_name\": \"Hosted Agent\",\n",
    "    \"pipeline.github.run_id\": \"2620912334\",\n",
    "    \"pipeline.github.actor\": \"matiasdahl\",\n",
    "    \"pipeline.github.job\": \"run-tests-pipeline-and-persist-pipeline-outputs\",\n",
    "    \"pipeline.github.base_ref\": \"\",\n",
    "    \"pipeline.github.head_ref\": \"\",\n",
    "    \"pipeline.github.sha\": \"f934c58f68028b7bb026059d4e87e6d32a1bbd20\",\n",
    "    \"pipeline.github.ref\": \"refs/heads/development\",\n",
    "    \"pipeline.github.ref_type\": \"branch\",\n",
    "    \"pipeline.github.ref_name\": \"development\",\n",
    "    \"pipeline.github.event_name\": \"schedule\",\n",
    "    \"task.nr_train_images\": 1000,\n",
    "    \"task.notebook\": \"notebooks/benchmark-model.py\",\n",
    "    \"task.max_nr_retries\": \"1\",\n",
    "    \"run.retry_nr\": \"0\",\n",
    "    \"task.timeout_s\": \"None\",\n",
    "    \"task.num_cpus\": 1,\n",
    "    \"_opentelemetry_traceparent\": \"00-8cb03d06324d6ba3c821f9057abe8c9c-b1af8b6b1c673916-01\",\n",
    "}\n"
   ]
  },
  {
   "cell_type": "code",
   "execution_count": 4,
   "id": "4277ba0f",
   "metadata": {
    "execution": {
     "iopub.execute_input": "2022-07-06T06:54:27.786689Z",
     "iopub.status.busy": "2022-07-06T06:54:27.786368Z",
     "iopub.status.idle": "2022-07-06T06:54:27.795303Z",
     "shell.execute_reply": "2022-07-06T06:54:27.794150Z"
    },
    "lines_to_next_cell": 0,
    "papermill": {
     "duration": 0.04193,
     "end_time": "2022-07-06T06:54:27.801426",
     "exception": false,
     "start_time": "2022-07-06T06:54:27.759496",
     "status": "completed"
    },
    "tags": []
   },
   "outputs": [],
   "source": [
    "# -----------------------------------------------------------------------"
   ]
  },
  {
   "cell_type": "markdown",
   "id": "8def20b0",
   "metadata": {
    "papermill": {
     "duration": 0.01529,
     "end_time": "2022-07-06T06:54:27.827311",
     "exception": false,
     "start_time": "2022-07-06T06:54:27.812021",
     "status": "completed"
    },
    "tags": []
   },
   "source": [
    "---"
   ]
  },
  {
   "cell_type": "markdown",
   "id": "d1c11a79",
   "metadata": {
    "lines_to_next_cell": 2,
    "papermill": {
     "duration": 0.006102,
     "end_time": "2022-07-06T06:54:27.846328",
     "exception": false,
     "start_time": "2022-07-06T06:54:27.840226",
     "status": "completed"
    },
    "tags": []
   },
   "source": [
    "### Notebook code"
   ]
  },
  {
   "cell_type": "code",
   "execution_count": 5,
   "id": "863848f0",
   "metadata": {
    "execution": {
     "iopub.execute_input": "2022-07-06T06:54:27.880751Z",
     "iopub.status.busy": "2022-07-06T06:54:27.879776Z",
     "iopub.status.idle": "2022-07-06T06:54:29.997086Z",
     "shell.execute_reply": "2022-07-06T06:54:29.995675Z"
    },
    "papermill": {
     "duration": 2.131028,
     "end_time": "2022-07-06T06:54:29.999895",
     "exception": false,
     "start_time": "2022-07-06T06:54:27.868867",
     "status": "completed"
    },
    "tags": []
   },
   "outputs": [
    {
     "name": "stderr",
     "output_type": "stream",
     "text": [
      "2022-07-06 06:54:29,744\tINFO worker.py:842 -- Connecting to existing Ray cluster at address: 172.17.0.2:6379\n"
     ]
    }
   ],
   "source": [
    "import itertools as it\n",
    "\n",
    "#\n",
    "import numpy as np\n",
    "import matplotlib.pyplot as plt\n",
    "\n",
    "#\n",
    "from pynb_dag_runner.tasks.task_opentelemetry_logging import PydarLogger\n",
    "\n",
    "#\n",
    "from common.io import datalake_root\n",
    "\n",
    "logger = PydarLogger(P)"
   ]
  },
  {
   "cell_type": "markdown",
   "id": "2371f147",
   "metadata": {
    "papermill": {
     "duration": 0.008593,
     "end_time": "2022-07-06T06:54:30.014718",
     "exception": false,
     "start_time": "2022-07-06T06:54:30.006125",
     "status": "completed"
    },
    "tags": []
   },
   "source": [
    "## Load persisted onnx-model and evaluation data"
   ]
  },
  {
   "cell_type": "code",
   "execution_count": 6,
   "id": "44e2f203",
   "metadata": {
    "execution": {
     "iopub.execute_input": "2022-07-06T06:54:30.044160Z",
     "iopub.status.busy": "2022-07-06T06:54:30.043276Z",
     "iopub.status.idle": "2022-07-06T06:54:30.051842Z",
     "shell.execute_reply": "2022-07-06T06:54:30.051061Z"
    },
    "papermill": {
     "duration": 0.024384,
     "end_time": "2022-07-06T06:54:30.055025",
     "exception": false,
     "start_time": "2022-07-06T06:54:30.030641",
     "status": "completed"
    },
    "tags": []
   },
   "outputs": [],
   "source": [
    "from common.io import read_onnx, get_onnx_inputs, get_onnx_outputs, read_numpy"
   ]
  },
  {
   "cell_type": "code",
   "execution_count": 7,
   "id": "f9872e79",
   "metadata": {
    "execution": {
     "iopub.execute_input": "2022-07-06T06:54:30.082310Z",
     "iopub.status.busy": "2022-07-06T06:54:30.081842Z",
     "iopub.status.idle": "2022-07-06T06:54:30.102031Z",
     "shell.execute_reply": "2022-07-06T06:54:30.101190Z"
    },
    "lines_to_next_cell": 0,
    "papermill": {
     "duration": 0.039441,
     "end_time": "2022-07-06T06:54:30.106397",
     "exception": false,
     "start_time": "2022-07-06T06:54:30.066956",
     "status": "completed"
    },
    "tags": []
   },
   "outputs": [],
   "source": [
    "onnx_inference_session = read_onnx(\n",
    "    datalake_root(P)\n",
    "    / \"models\"\n",
    "    / f\"nr_train_images={P['task.nr_train_images']}\"\n",
    "    / \"model.onnx\"\n",
    ")"
   ]
  },
  {
   "cell_type": "markdown",
   "id": "38556da9",
   "metadata": {
    "papermill": {
     "duration": 0.01668,
     "end_time": "2022-07-06T06:54:30.136177",
     "exception": false,
     "start_time": "2022-07-06T06:54:30.119497",
     "status": "completed"
    },
    "tags": []
   },
   "source": [
    "### Record structure of inputs and outputs for ONNX model\n",
    "\n",
    "(this should likely be done in training notebook)"
   ]
  },
  {
   "cell_type": "code",
   "execution_count": 8,
   "id": "2a86ae86",
   "metadata": {
    "execution": {
     "iopub.execute_input": "2022-07-06T06:54:30.169709Z",
     "iopub.status.busy": "2022-07-06T06:54:30.169365Z",
     "iopub.status.idle": "2022-07-06T06:54:30.180171Z",
     "shell.execute_reply": "2022-07-06T06:54:30.178454Z"
    },
    "papermill": {
     "duration": 0.032889,
     "end_time": "2022-07-06T06:54:30.184331",
     "exception": false,
     "start_time": "2022-07-06T06:54:30.151442",
     "status": "completed"
    },
    "tags": []
   },
   "outputs": [
    {
     "name": "stdout",
     "output_type": "stream",
     "text": [
      "{\n",
      "  \"inputs\": [\n",
      "    {\n",
      "      \"name\": \"float_input_8x8_image\",\n",
      "      \"shape\": [\n",
      "        null,\n",
      "        64\n",
      "      ],\n",
      "      \"type\": \"tensor(float)\"\n",
      "    }\n",
      "  ],\n",
      "  \"outputs\": [\n",
      "    {\n",
      "      \"name\": \"output_label\",\n",
      "      \"shape\": [\n",
      "        null\n",
      "      ],\n",
      "      \"type\": \"tensor(int64)\"\n",
      "    },\n",
      "    {\n",
      "      \"name\": \"output_probability\",\n",
      "      \"shape\": [],\n",
      "      \"type\": \"seq(map(int64,tensor(float)))\"\n",
      "    }\n",
      "  ]\n",
      "}\n"
     ]
    }
   ],
   "source": [
    "import json\n",
    "\n",
    "onnx_io = json.dumps(\n",
    "    {\n",
    "        \"inputs\": get_onnx_inputs(onnx_inference_session),\n",
    "        \"outputs\": get_onnx_outputs(onnx_inference_session),\n",
    "    },\n",
    "    indent=2,\n",
    ")\n",
    "\n",
    "\n",
    "logger.log_artefact(\"onnx_io_structure.json\", onnx_io)\n",
    "print(onnx_io)"
   ]
  },
  {
   "cell_type": "markdown",
   "id": "7a8afc19",
   "metadata": {
    "papermill": {
     "duration": 0.00598,
     "end_time": "2022-07-06T06:54:30.197557",
     "exception": false,
     "start_time": "2022-07-06T06:54:30.191577",
     "status": "completed"
    },
    "tags": []
   },
   "source": [
    "### Evaluate model performance on evaluation data set"
   ]
  },
  {
   "cell_type": "code",
   "execution_count": 9,
   "id": "3cdd9915",
   "metadata": {
    "execution": {
     "iopub.execute_input": "2022-07-06T06:54:30.211830Z",
     "iopub.status.busy": "2022-07-06T06:54:30.211417Z",
     "iopub.status.idle": "2022-07-06T06:54:30.225975Z",
     "shell.execute_reply": "2022-07-06T06:54:30.220694Z"
    },
    "papermill": {
     "duration": 0.025897,
     "end_time": "2022-07-06T06:54:30.228517",
     "exception": false,
     "start_time": "2022-07-06T06:54:30.202620",
     "status": "completed"
    },
    "tags": []
   },
   "outputs": [],
   "source": [
    "# load evaluation data\n",
    "X_test = read_numpy(datalake_root(P) / \"test-data\" / \"digits.numpy\")\n",
    "y_test = read_numpy(datalake_root(P) / \"test-data\" / \"labels.numpy\")"
   ]
  },
  {
   "cell_type": "code",
   "execution_count": 10,
   "id": "0486854b",
   "metadata": {
    "execution": {
     "iopub.execute_input": "2022-07-06T06:54:30.264991Z",
     "iopub.status.busy": "2022-07-06T06:54:30.263946Z",
     "iopub.status.idle": "2022-07-06T06:54:30.302510Z",
     "shell.execute_reply": "2022-07-06T06:54:30.301199Z"
    },
    "papermill": {
     "duration": 0.063714,
     "end_time": "2022-07-06T06:54:30.305153",
     "exception": false,
     "start_time": "2022-07-06T06:54:30.241439",
     "status": "completed"
    },
    "tags": []
   },
   "outputs": [],
   "source": [
    "def get_model_outputs(X, onnx_inference_session):\n",
    "    y_pred_labels, y_pred_map = onnx_inference_session.run(\n",
    "        [\"output_label\", \"output_probability\"],\n",
    "        {\"float_input_8x8_image\": X.astype(np.float32)},\n",
    "    )\n",
    "    y_pred_probs = np.array(\n",
    "        [[probabilities[digit] for digit in range(10)] for probabilities in y_pred_map]\n",
    "    )\n",
    "\n",
    "    assert y_pred_labels.shape == (X.shape[0],)\n",
    "    assert y_pred_probs.shape == (X.shape[0], 10)\n",
    "\n",
    "    return y_pred_labels, y_pred_probs\n",
    "\n",
    "\n",
    "# Note: as shown in the training notebook, the predicted labels and probabilities\n",
    "# computed below need not be compatible.\n",
    "y_pred_labels_test, y_pred_probs_test = get_model_outputs(\n",
    "    X_test, onnx_inference_session\n",
    ")"
   ]
  },
  {
   "cell_type": "markdown",
   "id": "9c3869f2",
   "metadata": {
    "papermill": {
     "duration": 0.00911,
     "end_time": "2022-07-06T06:54:30.339406",
     "exception": false,
     "start_time": "2022-07-06T06:54:30.330296",
     "status": "completed"
    },
    "tags": []
   },
   "source": [
    "### Confusion matrix"
   ]
  },
  {
   "cell_type": "code",
   "execution_count": 11,
   "id": "f607af6b",
   "metadata": {
    "execution": {
     "iopub.execute_input": "2022-07-06T06:54:30.373292Z",
     "iopub.status.busy": "2022-07-06T06:54:30.372014Z",
     "iopub.status.idle": "2022-07-06T06:54:30.380663Z",
     "shell.execute_reply": "2022-07-06T06:54:30.379609Z"
    },
    "papermill": {
     "duration": 0.036746,
     "end_time": "2022-07-06T06:54:30.385071",
     "exception": false,
     "start_time": "2022-07-06T06:54:30.348325",
     "status": "completed"
    },
    "tags": []
   },
   "outputs": [],
   "source": [
    "# TODO"
   ]
  },
  {
   "cell_type": "markdown",
   "id": "c2beebf8",
   "metadata": {
    "papermill": {
     "duration": 0.008656,
     "end_time": "2022-07-06T06:54:30.403832",
     "exception": false,
     "start_time": "2022-07-06T06:54:30.395176",
     "status": "completed"
    },
    "tags": []
   },
   "source": [
    "### Plot predicted probabilities for each classifier over all evaluation digit images"
   ]
  },
  {
   "cell_type": "code",
   "execution_count": 12,
   "id": "8de89642",
   "metadata": {
    "execution": {
     "iopub.execute_input": "2022-07-06T06:54:30.429103Z",
     "iopub.status.busy": "2022-07-06T06:54:30.428709Z",
     "iopub.status.idle": "2022-07-06T06:54:37.770592Z",
     "shell.execute_reply": "2022-07-06T06:54:37.769612Z"
    },
    "papermill": {
     "duration": 7.35373,
     "end_time": "2022-07-06T06:54:37.772760",
     "exception": false,
     "start_time": "2022-07-06T06:54:30.419030",
     "status": "completed"
    },
    "tags": []
   },
   "outputs": [
    {
     "data": {
      "image/png": "[encoded data removed]",
      "text/plain": [
       "<Figure size 1152x432 with 10 Axes>"
      ]
     },
     "metadata": {
      "needs_background": "light"
     },
     "output_type": "display_data"
    }
   ],
   "source": [
    "def plot_per_digit_probabilities(y_pred_probs):\n",
    "    fig, axs = plt.subplots(nrows=2, ncols=5, figsize=(16, 6))\n",
    "\n",
    "    for (r, c), digit, ax in zip(\n",
    "        it.product(range(2), range(5)), range(10), axs.reshape(-1)\n",
    "    ):\n",
    "        ax.hist(y_pred_probs_test[:, digit], bins=20)\n",
    "\n",
    "        ax.set_title(f\"Digit {digit}\")\n",
    "        if r == 1 and c == 2:\n",
    "            ax.set_xlabel(\"probability\", fontsize=16)\n",
    "\n",
    "        if c == 0:\n",
    "            ax.set_ylabel(\"counts\", fontsize=16)\n",
    "        ax.set_yscale(\"log\")\n",
    "\n",
    "    fig.tight_layout()\n",
    "    fig.suptitle(\n",
    "        f\"Distributions of prediction probabilities for each digit \"\n",
    "        f\"(on evaluation data, n={y_pred_probs.shape[0]})\",\n",
    "        fontsize=20,\n",
    "    )\n",
    "    fig.tight_layout()\n",
    "    fig.show()\n",
    "\n",
    "    return fig\n",
    "\n",
    "\n",
    "fig = plot_per_digit_probabilities(y_pred_probs_test)"
   ]
  },
  {
   "cell_type": "markdown",
   "id": "52d26858",
   "metadata": {
    "papermill": {
     "duration": 0.012487,
     "end_time": "2022-07-06T06:54:37.796197",
     "exception": false,
     "start_time": "2022-07-06T06:54:37.783710",
     "status": "completed"
    },
    "tags": []
   },
   "source": [
    "From the above distributions we see that most digits have clear separation between\n",
    "high and lower probabilities. Morover, in each case there is roughly an order of\n",
    "magnitude more of digits with low probabilities. This is compatible with digits\n",
    "being roughly evenly distributed in the data."
   ]
  },
  {
   "cell_type": "code",
   "execution_count": 13,
   "id": "537fb744",
   "metadata": {
    "execution": {
     "iopub.execute_input": "2022-07-06T06:54:37.813324Z",
     "iopub.status.busy": "2022-07-06T06:54:37.812995Z",
     "iopub.status.idle": "2022-07-06T06:54:38.886100Z",
     "shell.execute_reply": "2022-07-06T06:54:38.884443Z"
    },
    "papermill": {
     "duration": 1.085256,
     "end_time": "2022-07-06T06:54:38.889699",
     "exception": false,
     "start_time": "2022-07-06T06:54:37.804443",
     "status": "completed"
    },
    "tags": []
   },
   "outputs": [],
   "source": [
    "logger.log_figure(\"per-digit-probabilities.png\", fig)"
   ]
  },
  {
   "cell_type": "markdown",
   "id": "90fa38b5",
   "metadata": {
    "papermill": {
     "duration": 0.013838,
     "end_time": "2022-07-06T06:54:38.916328",
     "exception": false,
     "start_time": "2022-07-06T06:54:38.902490",
     "status": "completed"
    },
    "tags": []
   },
   "source": [
    "### Plot ROC curves for individual one-vs-rest classifiers"
   ]
  },
  {
   "cell_type": "code",
   "execution_count": 14,
   "id": "ebf71133",
   "metadata": {
    "execution": {
     "iopub.execute_input": "2022-07-06T06:54:38.966669Z",
     "iopub.status.busy": "2022-07-06T06:54:38.960947Z",
     "iopub.status.idle": "2022-07-06T06:54:39.695986Z",
     "shell.execute_reply": "2022-07-06T06:54:39.694519Z"
    },
    "papermill": {
     "duration": 0.757351,
     "end_time": "2022-07-06T06:54:39.698590",
     "exception": false,
     "start_time": "2022-07-06T06:54:38.941239",
     "status": "completed"
    },
    "tags": []
   },
   "outputs": [],
   "source": [
    "from sklearn import metrics"
   ]
  },
  {
   "cell_type": "code",
   "execution_count": 15,
   "id": "53455347",
   "metadata": {
    "execution": {
     "iopub.execute_input": "2022-07-06T06:54:39.759211Z",
     "iopub.status.busy": "2022-07-06T06:54:39.756554Z",
     "iopub.status.idle": "2022-07-06T06:54:42.265356Z",
     "shell.execute_reply": "2022-07-06T06:54:42.263390Z"
    },
    "papermill": {
     "duration": 2.556245,
     "end_time": "2022-07-06T06:54:42.269460",
     "exception": false,
     "start_time": "2022-07-06T06:54:39.713215",
     "status": "completed"
    },
    "tags": []
   },
   "outputs": [
    {
     "data": {
      "image/png": "[encoded data removed]",
      "text/plain": [
       "<Figure size 1152x576 with 10 Axes>"
      ]
     },
     "metadata": {
      "needs_background": "light"
     },
     "output_type": "display_data"
    }
   ],
   "source": [
    "def plot_roc_curves(y, y_pred_probs):\n",
    "    # based on example code\n",
    "    # https://scikit-learn.org/stable/auto_examples/model_selection/plot_roc.html\n",
    "\n",
    "    fig, axs = plt.subplots(nrows=2, ncols=5, figsize=(16, 8))\n",
    "\n",
    "    roc_auc_dict = {}\n",
    "\n",
    "    for (r, c), digit, ax in zip(\n",
    "        it.product(range(2), range(5)), range(10), axs.reshape(-1)\n",
    "    ):\n",
    "        fpr, tpr, _ = metrics.roc_curve(y == digit, y_pred_probs[:, digit])\n",
    "        auc = metrics.auc(fpr, tpr)\n",
    "        roc_auc_dict[str(digit)] = auc\n",
    "\n",
    "        ax.plot(fpr, tpr, label=f\"ROC AUC={round(auc, 3)}\")\n",
    "\n",
    "        ax.set_title(f\"\\nDigit {digit}\", fontsize=16)\n",
    "        if r == 1:\n",
    "            ax.set_xlabel(\"FPR\", fontsize=18)\n",
    "\n",
    "        if c == 0:\n",
    "            ax.set_ylabel(\"TPR\", fontsize=18)\n",
    "\n",
    "        ax.set_xlim([-0.05, 1.05])\n",
    "        ax.set_ylim([-0.05, 1.05])\n",
    "        ax.legend(loc=\"lower right\", frameon=False, fontsize=14)\n",
    "\n",
    "    fig.tight_layout()\n",
    "    fig.suptitle(\n",
    "        f\"ROC plots for one-vs-rest performances \"\n",
    "        f\"(on evaluation data, n={y_pred_probs_test.shape[1]}\",\n",
    "        fontsize=22,\n",
    "    )\n",
    "    fig.tight_layout()\n",
    "    fig.show()\n",
    "\n",
    "    return roc_auc_dict, fig\n",
    "\n",
    "\n",
    "roc_auc_dict, fig = plot_roc_curves(y_test, y_pred_probs_test)"
   ]
  },
  {
   "cell_type": "code",
   "execution_count": 16,
   "id": "b3254c65",
   "metadata": {
    "execution": {
     "iopub.execute_input": "2022-07-06T06:54:42.302592Z",
     "iopub.status.busy": "2022-07-06T06:54:42.298828Z",
     "iopub.status.idle": "2022-07-06T06:54:42.699178Z",
     "shell.execute_reply": "2022-07-06T06:54:42.698314Z"
    },
    "papermill": {
     "duration": 0.420734,
     "end_time": "2022-07-06T06:54:42.701670",
     "exception": false,
     "start_time": "2022-07-06T06:54:42.280936",
     "status": "completed"
    },
    "tags": []
   },
   "outputs": [],
   "source": [
    "logger.log_figure(\"per-digit-roc-curves.png\", fig)"
   ]
  },
  {
   "cell_type": "code",
   "execution_count": 17,
   "id": "ac9c1d65",
   "metadata": {
    "execution": {
     "iopub.execute_input": "2022-07-06T06:54:42.718196Z",
     "iopub.status.busy": "2022-07-06T06:54:42.717863Z",
     "iopub.status.idle": "2022-07-06T06:54:42.723929Z",
     "shell.execute_reply": "2022-07-06T06:54:42.722942Z"
    },
    "papermill": {
     "duration": 0.019541,
     "end_time": "2022-07-06T06:54:42.729305",
     "exception": false,
     "start_time": "2022-07-06T06:54:42.709764",
     "status": "completed"
    },
    "tags": []
   },
   "outputs": [
    {
     "data": {
      "text/plain": [
       "{'0': 1.0,\n",
       " '1': 0.998987816307404,\n",
       " '2': 1.0,\n",
       " '3': 0.9998500468603562,\n",
       " '4': 0.9995808565767413,\n",
       " '5': 0.9994001874414246,\n",
       " '6': 0.999923792104862,\n",
       " '7': 0.9997713763145862,\n",
       " '8': 0.9951134930643127,\n",
       " '9': 0.9996189605243103}"
      ]
     },
     "execution_count": 17,
     "metadata": {},
     "output_type": "execute_result"
    }
   ],
   "source": [
    "roc_auc_dict"
   ]
  },
  {
   "cell_type": "code",
   "execution_count": 18,
   "id": "7e5f4b07",
   "metadata": {
    "execution": {
     "iopub.execute_input": "2022-07-06T06:54:42.744817Z",
     "iopub.status.busy": "2022-07-06T06:54:42.744481Z",
     "iopub.status.idle": "2022-07-06T06:54:42.749970Z",
     "shell.execute_reply": "2022-07-06T06:54:42.749187Z"
    },
    "papermill": {
     "duration": 0.023491,
     "end_time": "2022-07-06T06:54:42.759741",
     "exception": false,
     "start_time": "2022-07-06T06:54:42.736250",
     "status": "completed"
    },
    "tags": []
   },
   "outputs": [
    {
     "name": "stdout",
     "output_type": "stream",
     "text": [
      " - Logging roc_auc_per_digit (json) : {'0': 1.0, '1': 0.998987816307404, '2': 1.0, '3': 0.9998500468603562, '4': 0.9995808565767413, '5': 0.9994001874414246, '6': 0.999923792104862, '7': 0.9997713763145862, '8': 0.9951134930643127, '9': 0.9996189605243103}\n"
     ]
    }
   ],
   "source": [
    "logger.log_value(\"roc_auc_per_digit\", roc_auc_dict)"
   ]
  },
  {
   "cell_type": "markdown",
   "id": "58780f2c",
   "metadata": {
    "papermill": {
     "duration": 0.006983,
     "end_time": "2022-07-06T06:54:42.777128",
     "exception": false,
     "start_time": "2022-07-06T06:54:42.770145",
     "status": "completed"
    },
    "tags": []
   },
   "source": [
    "### Compute and log mean ROC AUC score averaged over all digits"
   ]
  },
  {
   "cell_type": "code",
   "execution_count": 19,
   "id": "cb7c8d77",
   "metadata": {
    "execution": {
     "iopub.execute_input": "2022-07-06T06:54:42.812531Z",
     "iopub.status.busy": "2022-07-06T06:54:42.812046Z",
     "iopub.status.idle": "2022-07-06T06:54:42.857261Z",
     "shell.execute_reply": "2022-07-06T06:54:42.856071Z"
    },
    "papermill": {
     "duration": 0.078273,
     "end_time": "2022-07-06T06:54:42.862806",
     "exception": false,
     "start_time": "2022-07-06T06:54:42.784533",
     "status": "completed"
    },
    "tags": []
   },
   "outputs": [
    {
     "name": "stdout",
     "output_type": "stream",
     "text": [
      " - Logging roc_auc_class_mean (float) : 0.9992246529193997\n"
     ]
    }
   ],
   "source": [
    "roc_auc_macro = np.mean(list(roc_auc_dict.values()))\n",
    "\n",
    "logger.log_float(\"roc_auc_class_mean\", roc_auc_macro)\n",
    "\n",
    "# assert that the same value can be computed directly using sklearn\n",
    "assert roc_auc_macro == metrics.roc_auc_score(\n",
    "    y_test, y_pred_probs_test, average=\"macro\", multi_class=\"ovr\"\n",
    ")"
   ]
  },
  {
   "cell_type": "code",
   "execution_count": 20,
   "id": "7000c6af",
   "metadata": {
    "execution": {
     "iopub.execute_input": "2022-07-06T06:54:42.886732Z",
     "iopub.status.busy": "2022-07-06T06:54:42.885933Z",
     "iopub.status.idle": "2022-07-06T06:54:42.893150Z",
     "shell.execute_reply": "2022-07-06T06:54:42.889932Z"
    },
    "lines_to_next_cell": 0,
    "papermill": {
     "duration": 0.025961,
     "end_time": "2022-07-06T06:54:42.899186",
     "exception": false,
     "start_time": "2022-07-06T06:54:42.873225",
     "status": "completed"
    },
    "tags": []
   },
   "outputs": [],
   "source": [
    "# ---"
   ]
  },
  {
   "cell_type": "code",
   "execution_count": null,
   "id": "31becb2f",
   "metadata": {
    "papermill": {
     "duration": 0.01207,
     "end_time": "2022-07-06T06:54:42.929718",
     "exception": false,
     "start_time": "2022-07-06T06:54:42.917648",
     "status": "completed"
    },
    "tags": []
   },
   "outputs": [],
   "source": []
  }
 ],
 "metadata": {
  "jupytext": {
   "cell_metadata_filter": "tags,-all",
   "main_language": "python",
   "notebook_metadata_filter": "-all"
  },
  "language_info": {
   "codemirror_mode": {
    "name": "ipython",
    "version": 3
   },
   "file_extension": ".py",
   "mimetype": "text/x-python",
   "name": "python",
   "nbconvert_exporter": "python",
   "pygments_lexer": "ipython3",
   "version": "3.8.10"
  },
  "papermill": {
   "default_parameters": {},
   "duration": 19.512024,
   "end_time": "2022-07-06T06:54:44.684155",
   "environment_variables": {},
   "exception": null,
   "input_path": "/home/host_user/workspace/mnist-demo-pipeline/mnist-demo-pipeline/notebooks/temp-notebook-vfpzp8qj.ipynb",
   "output_path": "notebooks/benchmark-model.ipynb",
   "parameters": {
    "P": {
     "_opentelemetry_traceparent": "00-8cb03d06324d6ba3c821f9057abe8c9c-b1af8b6b1c673916-01",
     "pipeline.data_lake_root": "/pipeline-outputs/data-lake",
     "pipeline.github.actor": "matiasdahl",
     "pipeline.github.base_ref": "",
     "pipeline.github.event_name": "schedule",
     "pipeline.github.head_ref": "",
     "pipeline.github.job": "run-tests-pipeline-and-persist-pipeline-outputs",
     "pipeline.github.ref": "refs/heads/development",
     "pipeline.github.ref_name": "development",
     "pipeline.github.ref_type": "branch",
     "pipeline.github.repository": "pynb-dag-runner/mnist-digits-demo-pipeline",
     "pipeline.github.run_id": "2620912334",
     "pipeline.github.runner_name": "Hosted Agent",
     "pipeline.github.sha": "f934c58f68028b7bb026059d4e87e6d32a1bbd20",
     "pipeline.github.workflow": "Run automated tests, pipeline and deploy results to static reporting site",
     "pipeline.pipeline_run_id": "fea682e4-3793-4c0e-9ed3-6f31763c070a",
     "pipeline.run_environment": "ci",
     "run.retry_nr": "0",
     "task.max_nr_retries": "1",
     "task.notebook": "notebooks/benchmark-model.py",
     "task.nr_train_images": 1000,
     "task.num_cpus": 1,
     "task.timeout_s": "None"
    }
   },
   "start_time": "2022-07-06T06:54:25.172131",
   "version": "2.3.3"
  }
 },
 "nbformat": 4,
 "nbformat_minor": 5
}