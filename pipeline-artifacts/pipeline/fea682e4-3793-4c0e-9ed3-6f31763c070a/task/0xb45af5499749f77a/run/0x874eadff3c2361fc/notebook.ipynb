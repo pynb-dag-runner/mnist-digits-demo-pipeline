{
 "cells": [
  {
   "cell_type": "markdown",
   "id": "5f3a787c",
   "metadata": {
    "papermill": {
     "duration": 0.012254,
     "end_time": "2022-07-06T06:54:58.862884",
     "exception": false,
     "start_time": "2022-07-06T06:54:58.850630",
     "status": "completed"
    },
    "tags": []
   },
   "source": [
    "# Benchmark model\n",
    "\n",
    "The purpose of this notebook is to benchmark persisted onnx-model (trained in the\n",
    "previous step) against evaluation set."
   ]
  },
  {
   "cell_type": "markdown",
   "id": "f54fde72",
   "metadata": {
    "papermill": {
     "duration": 0.007291,
     "end_time": "2022-07-06T06:54:58.880081",
     "exception": false,
     "start_time": "2022-07-06T06:54:58.872790",
     "status": "completed"
    },
    "tags": []
   },
   "source": [
    "### Determine run parameters"
   ]
  },
  {
   "cell_type": "code",
   "execution_count": 1,
   "id": "156d60af",
   "metadata": {
    "execution": {
     "iopub.execute_input": "2022-07-06T06:54:58.898666Z",
     "iopub.status.busy": "2022-07-06T06:54:58.898205Z",
     "iopub.status.idle": "2022-07-06T06:54:58.921039Z",
     "shell.execute_reply": "2022-07-06T06:54:58.919613Z"
    },
    "lines_to_next_cell": 0,
    "papermill": {
     "duration": 0.034538,
     "end_time": "2022-07-06T06:54:58.924353",
     "exception": false,
     "start_time": "2022-07-06T06:54:58.889815",
     "status": "completed"
    },
    "tags": []
   },
   "outputs": [],
   "source": [
    "# ----------------- Parameters for interactive development --------------\n",
    "P = {\n",
    "    \"pipeline.data_lake_root\": \"/pipeline-outputs/data-lake\",\n",
    "    \"task.nr_train_images\": 600,\n",
    "}"
   ]
  },
  {
   "cell_type": "code",
   "execution_count": 2,
   "id": "53a7968c",
   "metadata": {
    "execution": {
     "iopub.execute_input": "2022-07-06T06:54:58.956106Z",
     "iopub.status.busy": "2022-07-06T06:54:58.955305Z",
     "iopub.status.idle": "2022-07-06T06:54:58.975430Z",
     "shell.execute_reply": "2022-07-06T06:54:58.974521Z"
    },
    "lines_to_next_cell": 0,
    "papermill": {
     "duration": 0.052262,
     "end_time": "2022-07-06T06:54:58.987786",
     "exception": false,
     "start_time": "2022-07-06T06:54:58.935524",
     "status": "completed"
    },
    "tags": [
     "parameters"
    ]
   },
   "outputs": [],
   "source": [
    "# - During automated runs parameters will be injected in the below cell -"
   ]
  },
  {
   "cell_type": "code",
   "execution_count": 3,
   "id": "cc06a8be",
   "metadata": {
    "execution": {
     "iopub.execute_input": "2022-07-06T06:54:59.018303Z",
     "iopub.status.busy": "2022-07-06T06:54:59.017981Z",
     "iopub.status.idle": "2022-07-06T06:54:59.045697Z",
     "shell.execute_reply": "2022-07-06T06:54:59.037863Z"
    },
    "papermill": {
     "duration": 0.046869,
     "end_time": "2022-07-06T06:54:59.053746",
     "exception": false,
     "start_time": "2022-07-06T06:54:59.006877",
     "status": "completed"
    },
    "tags": [
     "injected-parameters"
    ]
   },
   "outputs": [],
   "source": [
    "# Parameters\n",
    "P = {\n",
    "    \"pipeline.data_lake_root\": \"/pipeline-outputs/data-lake\",\n",
    "    \"pipeline.run_environment\": \"ci\",\n",
    "    \"pipeline.pipeline_run_id\": \"fea682e4-3793-4c0e-9ed3-6f31763c070a\",\n",
    "    \"pipeline.github.repository\": \"pynb-dag-runner/mnist-digits-demo-pipeline\",\n",
    "    \"pipeline.github.workflow\": \"Run automated tests, pipeline and deploy results to static reporting site\",\n",
    "    \"pipeline.github.runner_name\": \"Hosted Agent\",\n",
    "    \"pipeline.github.run_id\": \"2620912334\",\n",
    "    \"pipeline.github.actor\": \"matiasdahl\",\n",
    "    \"pipeline.github.job\": \"run-tests-pipeline-and-persist-pipeline-outputs\",\n",
    "    \"pipeline.github.base_ref\": \"\",\n",
    "    \"pipeline.github.head_ref\": \"\",\n",
    "    \"pipeline.github.sha\": \"f934c58f68028b7bb026059d4e87e6d32a1bbd20\",\n",
    "    \"pipeline.github.ref\": \"refs/heads/development\",\n",
    "    \"pipeline.github.ref_type\": \"branch\",\n",
    "    \"pipeline.github.ref_name\": \"development\",\n",
    "    \"pipeline.github.event_name\": \"schedule\",\n",
    "    \"task.nr_train_images\": 1200,\n",
    "    \"task.notebook\": \"notebooks/benchmark-model.py\",\n",
    "    \"task.max_nr_retries\": \"1\",\n",
    "    \"run.retry_nr\": \"0\",\n",
    "    \"task.timeout_s\": \"None\",\n",
    "    \"task.num_cpus\": 1,\n",
    "    \"_opentelemetry_traceparent\": \"00-8cb03d06324d6ba3c821f9057abe8c9c-070d2a7ff56dc61b-01\",\n",
    "}\n"
   ]
  },
  {
   "cell_type": "code",
   "execution_count": 4,
   "id": "e51889f7",
   "metadata": {
    "execution": {
     "iopub.execute_input": "2022-07-06T06:54:59.097418Z",
     "iopub.status.busy": "2022-07-06T06:54:59.097087Z",
     "iopub.status.idle": "2022-07-06T06:54:59.112468Z",
     "shell.execute_reply": "2022-07-06T06:54:59.109561Z"
    },
    "lines_to_next_cell": 0,
    "papermill": {
     "duration": 0.043297,
     "end_time": "2022-07-06T06:54:59.122290",
     "exception": false,
     "start_time": "2022-07-06T06:54:59.078993",
     "status": "completed"
    },
    "tags": []
   },
   "outputs": [],
   "source": [
    "# -----------------------------------------------------------------------"
   ]
  },
  {
   "cell_type": "markdown",
   "id": "ebfe15c5",
   "metadata": {
    "papermill": {
     "duration": 0.012766,
     "end_time": "2022-07-06T06:54:59.143259",
     "exception": false,
     "start_time": "2022-07-06T06:54:59.130493",
     "status": "completed"
    },
    "tags": []
   },
   "source": [
    "---"
   ]
  },
  {
   "cell_type": "markdown",
   "id": "bea5d7f0",
   "metadata": {
    "lines_to_next_cell": 2,
    "papermill": {
     "duration": 0.016079,
     "end_time": "2022-07-06T06:54:59.166966",
     "exception": false,
     "start_time": "2022-07-06T06:54:59.150887",
     "status": "completed"
    },
    "tags": []
   },
   "source": [
    "### Notebook code"
   ]
  },
  {
   "cell_type": "code",
   "execution_count": 5,
   "id": "d63f86b0",
   "metadata": {
    "execution": {
     "iopub.execute_input": "2022-07-06T06:54:59.202840Z",
     "iopub.status.busy": "2022-07-06T06:54:59.202234Z",
     "iopub.status.idle": "2022-07-06T06:55:01.761062Z",
     "shell.execute_reply": "2022-07-06T06:55:01.759808Z"
    },
    "papermill": {
     "duration": 2.589539,
     "end_time": "2022-07-06T06:55:01.766573",
     "exception": false,
     "start_time": "2022-07-06T06:54:59.177034",
     "status": "completed"
    },
    "tags": []
   },
   "outputs": [
    {
     "name": "stderr",
     "output_type": "stream",
     "text": [
      "2022-07-06 06:55:01,481\tINFO worker.py:842 -- Connecting to existing Ray cluster at address: 172.17.0.2:6379\n"
     ]
    }
   ],
   "source": [
    "import itertools as it\n",
    "\n",
    "#\n",
    "import numpy as np\n",
    "import matplotlib.pyplot as plt\n",
    "\n",
    "#\n",
    "from pynb_dag_runner.tasks.task_opentelemetry_logging import PydarLogger\n",
    "\n",
    "#\n",
    "from common.io import datalake_root\n",
    "\n",
    "logger = PydarLogger(P)"
   ]
  },
  {
   "cell_type": "markdown",
   "id": "bca97806",
   "metadata": {
    "papermill": {
     "duration": 0.020049,
     "end_time": "2022-07-06T06:55:01.799784",
     "exception": false,
     "start_time": "2022-07-06T06:55:01.779735",
     "status": "completed"
    },
    "tags": []
   },
   "source": [
    "## Load persisted onnx-model and evaluation data"
   ]
  },
  {
   "cell_type": "code",
   "execution_count": 6,
   "id": "4ef07661",
   "metadata": {
    "execution": {
     "iopub.execute_input": "2022-07-06T06:55:01.867016Z",
     "iopub.status.busy": "2022-07-06T06:55:01.866466Z",
     "iopub.status.idle": "2022-07-06T06:55:01.874269Z",
     "shell.execute_reply": "2022-07-06T06:55:01.872778Z"
    },
    "papermill": {
     "duration": 0.063411,
     "end_time": "2022-07-06T06:55:01.876409",
     "exception": false,
     "start_time": "2022-07-06T06:55:01.812998",
     "status": "completed"
    },
    "tags": []
   },
   "outputs": [],
   "source": [
    "from common.io import read_onnx, get_onnx_inputs, get_onnx_outputs, read_numpy"
   ]
  },
  {
   "cell_type": "code",
   "execution_count": 7,
   "id": "34ed72f4",
   "metadata": {
    "execution": {
     "iopub.execute_input": "2022-07-06T06:55:01.898821Z",
     "iopub.status.busy": "2022-07-06T06:55:01.897943Z",
     "iopub.status.idle": "2022-07-06T06:55:01.924074Z",
     "shell.execute_reply": "2022-07-06T06:55:01.922463Z"
    },
    "lines_to_next_cell": 0,
    "papermill": {
     "duration": 0.039307,
     "end_time": "2022-07-06T06:55:01.927378",
     "exception": false,
     "start_time": "2022-07-06T06:55:01.888071",
     "status": "completed"
    },
    "tags": []
   },
   "outputs": [],
   "source": [
    "onnx_inference_session = read_onnx(\n",
    "    datalake_root(P)\n",
    "    / \"models\"\n",
    "    / f\"nr_train_images={P['task.nr_train_images']}\"\n",
    "    / \"model.onnx\"\n",
    ")"
   ]
  },
  {
   "cell_type": "markdown",
   "id": "cae2a22e",
   "metadata": {
    "papermill": {
     "duration": 0.013436,
     "end_time": "2022-07-06T06:55:01.947893",
     "exception": false,
     "start_time": "2022-07-06T06:55:01.934457",
     "status": "completed"
    },
    "tags": []
   },
   "source": [
    "### Record structure of inputs and outputs for ONNX model\n",
    "\n",
    "(this should likely be done in training notebook)"
   ]
  },
  {
   "cell_type": "code",
   "execution_count": 8,
   "id": "adb8cd04",
   "metadata": {
    "execution": {
     "iopub.execute_input": "2022-07-06T06:55:01.965487Z",
     "iopub.status.busy": "2022-07-06T06:55:01.965111Z",
     "iopub.status.idle": "2022-07-06T06:55:01.974387Z",
     "shell.execute_reply": "2022-07-06T06:55:01.973293Z"
    },
    "papermill": {
     "duration": 0.026268,
     "end_time": "2022-07-06T06:55:01.982297",
     "exception": false,
     "start_time": "2022-07-06T06:55:01.956029",
     "status": "completed"
    },
    "tags": []
   },
   "outputs": [
    {
     "name": "stdout",
     "output_type": "stream",
     "text": [
      "{\n",
      "  \"inputs\": [\n",
      "    {\n",
      "      \"name\": \"float_input_8x8_image\",\n",
      "      \"shape\": [\n",
      "        null,\n",
      "        64\n",
      "      ],\n",
      "      \"type\": \"tensor(float)\"\n",
      "    }\n",
      "  ],\n",
      "  \"outputs\": [\n",
      "    {\n",
      "      \"name\": \"output_label\",\n",
      "      \"shape\": [\n",
      "        null\n",
      "      ],\n",
      "      \"type\": \"tensor(int64)\"\n",
      "    },\n",
      "    {\n",
      "      \"name\": \"output_probability\",\n",
      "      \"shape\": [],\n",
      "      \"type\": \"seq(map(int64,tensor(float)))\"\n",
      "    }\n",
      "  ]\n",
      "}\n"
     ]
    }
   ],
   "source": [
    "import json\n",
    "\n",
    "onnx_io = json.dumps(\n",
    "    {\n",
    "        \"inputs\": get_onnx_inputs(onnx_inference_session),\n",
    "        \"outputs\": get_onnx_outputs(onnx_inference_session),\n",
    "    },\n",
    "    indent=2,\n",
    ")\n",
    "\n",
    "\n",
    "logger.log_artefact(\"onnx_io_structure.json\", onnx_io)\n",
    "print(onnx_io)"
   ]
  },
  {
   "cell_type": "markdown",
   "id": "fef34674",
   "metadata": {
    "papermill": {
     "duration": 0.008178,
     "end_time": "2022-07-06T06:55:01.998430",
     "exception": false,
     "start_time": "2022-07-06T06:55:01.990252",
     "status": "completed"
    },
    "tags": []
   },
   "source": [
    "### Evaluate model performance on evaluation data set"
   ]
  },
  {
   "cell_type": "code",
   "execution_count": 9,
   "id": "69fd50e7",
   "metadata": {
    "execution": {
     "iopub.execute_input": "2022-07-06T06:55:02.015301Z",
     "iopub.status.busy": "2022-07-06T06:55:02.014946Z",
     "iopub.status.idle": "2022-07-06T06:55:02.022349Z",
     "shell.execute_reply": "2022-07-06T06:55:02.021148Z"
    },
    "papermill": {
     "duration": 0.021869,
     "end_time": "2022-07-06T06:55:02.028301",
     "exception": false,
     "start_time": "2022-07-06T06:55:02.006432",
     "status": "completed"
    },
    "tags": []
   },
   "outputs": [],
   "source": [
    "# load evaluation data\n",
    "X_test = read_numpy(datalake_root(P) / \"test-data\" / \"digits.numpy\")\n",
    "y_test = read_numpy(datalake_root(P) / \"test-data\" / \"labels.numpy\")"
   ]
  },
  {
   "cell_type": "code",
   "execution_count": 10,
   "id": "9ef86965",
   "metadata": {
    "execution": {
     "iopub.execute_input": "2022-07-06T06:55:02.053539Z",
     "iopub.status.busy": "2022-07-06T06:55:02.053187Z",
     "iopub.status.idle": "2022-07-06T06:55:02.102556Z",
     "shell.execute_reply": "2022-07-06T06:55:02.101332Z"
    },
    "papermill": {
     "duration": 0.073879,
     "end_time": "2022-07-06T06:55:02.109917",
     "exception": false,
     "start_time": "2022-07-06T06:55:02.036038",
     "status": "completed"
    },
    "tags": []
   },
   "outputs": [],
   "source": [
    "def get_model_outputs(X, onnx_inference_session):\n",
    "    y_pred_labels, y_pred_map = onnx_inference_session.run(\n",
    "        [\"output_label\", \"output_probability\"],\n",
    "        {\"float_input_8x8_image\": X.astype(np.float32)},\n",
    "    )\n",
    "    y_pred_probs = np.array(\n",
    "        [[probabilities[digit] for digit in range(10)] for probabilities in y_pred_map]\n",
    "    )\n",
    "\n",
    "    assert y_pred_labels.shape == (X.shape[0],)\n",
    "    assert y_pred_probs.shape == (X.shape[0], 10)\n",
    "\n",
    "    return y_pred_labels, y_pred_probs\n",
    "\n",
    "\n",
    "# Note: as shown in the training notebook, the predicted labels and probabilities\n",
    "# computed below need not be compatible.\n",
    "y_pred_labels_test, y_pred_probs_test = get_model_outputs(\n",
    "    X_test, onnx_inference_session\n",
    ")"
   ]
  },
  {
   "cell_type": "markdown",
   "id": "9413170c",
   "metadata": {
    "papermill": {
     "duration": 0.009929,
     "end_time": "2022-07-06T06:55:02.135999",
     "exception": false,
     "start_time": "2022-07-06T06:55:02.126070",
     "status": "completed"
    },
    "tags": []
   },
   "source": [
    "### Confusion matrix"
   ]
  },
  {
   "cell_type": "code",
   "execution_count": 11,
   "id": "0e15d6f5",
   "metadata": {
    "execution": {
     "iopub.execute_input": "2022-07-06T06:55:02.188135Z",
     "iopub.status.busy": "2022-07-06T06:55:02.186613Z",
     "iopub.status.idle": "2022-07-06T06:55:02.192724Z",
     "shell.execute_reply": "2022-07-06T06:55:02.191791Z"
    },
    "papermill": {
     "duration": 0.048955,
     "end_time": "2022-07-06T06:55:02.197822",
     "exception": false,
     "start_time": "2022-07-06T06:55:02.148867",
     "status": "completed"
    },
    "tags": []
   },
   "outputs": [],
   "source": [
    "# TODO"
   ]
  },
  {
   "cell_type": "markdown",
   "id": "b42f4f9e",
   "metadata": {
    "papermill": {
     "duration": 0.034935,
     "end_time": "2022-07-06T06:55:02.243532",
     "exception": false,
     "start_time": "2022-07-06T06:55:02.208597",
     "status": "completed"
    },
    "tags": []
   },
   "source": [
    "### Plot predicted probabilities for each classifier over all evaluation digit images"
   ]
  },
  {
   "cell_type": "code",
   "execution_count": 12,
   "id": "b6e9bbf9",
   "metadata": {
    "execution": {
     "iopub.execute_input": "2022-07-06T06:55:02.275921Z",
     "iopub.status.busy": "2022-07-06T06:55:02.275567Z",
     "iopub.status.idle": "2022-07-06T06:55:10.704666Z",
     "shell.execute_reply": "2022-07-06T06:55:10.703267Z"
    },
    "papermill": {
     "duration": 8.456991,
     "end_time": "2022-07-06T06:55:10.708591",
     "exception": false,
     "start_time": "2022-07-06T06:55:02.251600",
     "status": "completed"
    },
    "tags": []
   },
   "outputs": [
    {
     "data": {
      "image/png": "[encoded data removed]",
      "text/plain": [
       "<Figure size 1152x432 with 10 Axes>"
      ]
     },
     "metadata": {
      "needs_background": "light"
     },
     "output_type": "display_data"
    }
   ],
   "source": [
    "def plot_per_digit_probabilities(y_pred_probs):\n",
    "    fig, axs = plt.subplots(nrows=2, ncols=5, figsize=(16, 6))\n",
    "\n",
    "    for (r, c), digit, ax in zip(\n",
    "        it.product(range(2), range(5)), range(10), axs.reshape(-1)\n",
    "    ):\n",
    "        ax.hist(y_pred_probs_test[:, digit], bins=20)\n",
    "\n",
    "        ax.set_title(f\"Digit {digit}\")\n",
    "        if r == 1 and c == 2:\n",
    "            ax.set_xlabel(\"probability\", fontsize=16)\n",
    "\n",
    "        if c == 0:\n",
    "            ax.set_ylabel(\"counts\", fontsize=16)\n",
    "        ax.set_yscale(\"log\")\n",
    "\n",
    "    fig.tight_layout()\n",
    "    fig.suptitle(\n",
    "        f\"Distributions of prediction probabilities for each digit \"\n",
    "        f\"(on evaluation data, n={y_pred_probs.shape[0]})\",\n",
    "        fontsize=20,\n",
    "    )\n",
    "    fig.tight_layout()\n",
    "    fig.show()\n",
    "\n",
    "    return fig\n",
    "\n",
    "\n",
    "fig = plot_per_digit_probabilities(y_pred_probs_test)"
   ]
  },
  {
   "cell_type": "markdown",
   "id": "c4c8405f",
   "metadata": {
    "papermill": {
     "duration": 0.007959,
     "end_time": "2022-07-06T06:55:10.724886",
     "exception": false,
     "start_time": "2022-07-06T06:55:10.716927",
     "status": "completed"
    },
    "tags": []
   },
   "source": [
    "From the above distributions we see that most digits have clear separation between\n",
    "high and lower probabilities. Morover, in each case there is roughly an order of\n",
    "magnitude more of digits with low probabilities. This is compatible with digits\n",
    "being roughly evenly distributed in the data."
   ]
  },
  {
   "cell_type": "code",
   "execution_count": 13,
   "id": "6cebf441",
   "metadata": {
    "execution": {
     "iopub.execute_input": "2022-07-06T06:55:10.749153Z",
     "iopub.status.busy": "2022-07-06T06:55:10.748747Z",
     "iopub.status.idle": "2022-07-06T06:55:11.856386Z",
     "shell.execute_reply": "2022-07-06T06:55:11.855194Z"
    },
    "papermill": {
     "duration": 1.127417,
     "end_time": "2022-07-06T06:55:11.861130",
     "exception": false,
     "start_time": "2022-07-06T06:55:10.733713",
     "status": "completed"
    },
    "tags": []
   },
   "outputs": [],
   "source": [
    "logger.log_figure(\"per-digit-probabilities.png\", fig)"
   ]
  },
  {
   "cell_type": "markdown",
   "id": "2c6fa355",
   "metadata": {
    "papermill": {
     "duration": 0.008912,
     "end_time": "2022-07-06T06:55:11.883214",
     "exception": false,
     "start_time": "2022-07-06T06:55:11.874302",
     "status": "completed"
    },
    "tags": []
   },
   "source": [
    "### Plot ROC curves for individual one-vs-rest classifiers"
   ]
  },
  {
   "cell_type": "code",
   "execution_count": 14,
   "id": "baa2f723",
   "metadata": {
    "execution": {
     "iopub.execute_input": "2022-07-06T06:55:11.909509Z",
     "iopub.status.busy": "2022-07-06T06:55:11.908933Z",
     "iopub.status.idle": "2022-07-06T06:55:12.575209Z",
     "shell.execute_reply": "2022-07-06T06:55:12.573953Z"
    },
    "papermill": {
     "duration": 0.683491,
     "end_time": "2022-07-06T06:55:12.578075",
     "exception": false,
     "start_time": "2022-07-06T06:55:11.894584",
     "status": "completed"
    },
    "tags": []
   },
   "outputs": [],
   "source": [
    "from sklearn import metrics"
   ]
  },
  {
   "cell_type": "code",
   "execution_count": 15,
   "id": "38654465",
   "metadata": {
    "execution": {
     "iopub.execute_input": "2022-07-06T06:55:12.606750Z",
     "iopub.status.busy": "2022-07-06T06:55:12.604045Z",
     "iopub.status.idle": "2022-07-06T06:55:15.153103Z",
     "shell.execute_reply": "2022-07-06T06:55:15.149690Z"
    },
    "papermill": {
     "duration": 2.580077,
     "end_time": "2022-07-06T06:55:15.166725",
     "exception": false,
     "start_time": "2022-07-06T06:55:12.586648",
     "status": "completed"
    },
    "tags": []
   },
   "outputs": [
    {
     "data": {
      "image/png": "[encoded data removed]",
      "text/plain": [
       "<Figure size 1152x576 with 10 Axes>"
      ]
     },
     "metadata": {
      "needs_background": "light"
     },
     "output_type": "display_data"
    }
   ],
   "source": [
    "def plot_roc_curves(y, y_pred_probs):\n",
    "    # based on example code\n",
    "    # https://scikit-learn.org/stable/auto_examples/model_selection/plot_roc.html\n",
    "\n",
    "    fig, axs = plt.subplots(nrows=2, ncols=5, figsize=(16, 8))\n",
    "\n",
    "    roc_auc_dict = {}\n",
    "\n",
    "    for (r, c), digit, ax in zip(\n",
    "        it.product(range(2), range(5)), range(10), axs.reshape(-1)\n",
    "    ):\n",
    "        fpr, tpr, _ = metrics.roc_curve(y == digit, y_pred_probs[:, digit])\n",
    "        auc = metrics.auc(fpr, tpr)\n",
    "        roc_auc_dict[str(digit)] = auc\n",
    "\n",
    "        ax.plot(fpr, tpr, label=f\"ROC AUC={round(auc, 3)}\")\n",
    "\n",
    "        ax.set_title(f\"\\nDigit {digit}\", fontsize=16)\n",
    "        if r == 1:\n",
    "            ax.set_xlabel(\"FPR\", fontsize=18)\n",
    "\n",
    "        if c == 0:\n",
    "            ax.set_ylabel(\"TPR\", fontsize=18)\n",
    "\n",
    "        ax.set_xlim([-0.05, 1.05])\n",
    "        ax.set_ylim([-0.05, 1.05])\n",
    "        ax.legend(loc=\"lower right\", frameon=False, fontsize=14)\n",
    "\n",
    "    fig.tight_layout()\n",
    "    fig.suptitle(\n",
    "        f\"ROC plots for one-vs-rest performances \"\n",
    "        f\"(on evaluation data, n={y_pred_probs_test.shape[1]}\",\n",
    "        fontsize=22,\n",
    "    )\n",
    "    fig.tight_layout()\n",
    "    fig.show()\n",
    "\n",
    "    return roc_auc_dict, fig\n",
    "\n",
    "\n",
    "roc_auc_dict, fig = plot_roc_curves(y_test, y_pred_probs_test)"
   ]
  },
  {
   "cell_type": "code",
   "execution_count": 16,
   "id": "7107bbed",
   "metadata": {
    "execution": {
     "iopub.execute_input": "2022-07-06T06:55:15.196350Z",
     "iopub.status.busy": "2022-07-06T06:55:15.195980Z",
     "iopub.status.idle": "2022-07-06T06:55:15.644643Z",
     "shell.execute_reply": "2022-07-06T06:55:15.643466Z"
    },
    "papermill": {
     "duration": 0.468957,
     "end_time": "2022-07-06T06:55:15.647220",
     "exception": false,
     "start_time": "2022-07-06T06:55:15.178263",
     "status": "completed"
    },
    "tags": []
   },
   "outputs": [],
   "source": [
    "logger.log_figure(\"per-digit-roc-curves.png\", fig)"
   ]
  },
  {
   "cell_type": "code",
   "execution_count": 17,
   "id": "d34ff134",
   "metadata": {
    "execution": {
     "iopub.execute_input": "2022-07-06T06:55:15.673263Z",
     "iopub.status.busy": "2022-07-06T06:55:15.672350Z",
     "iopub.status.idle": "2022-07-06T06:55:15.689086Z",
     "shell.execute_reply": "2022-07-06T06:55:15.687600Z"
    },
    "papermill": {
     "duration": 0.031165,
     "end_time": "2022-07-06T06:55:15.692996",
     "exception": false,
     "start_time": "2022-07-06T06:55:15.661831",
     "status": "completed"
    },
    "tags": []
   },
   "outputs": [
    {
     "data": {
      "text/plain": [
       "{'0': 1.0,\n",
       " '1': 0.998950328022493,\n",
       " '2': 1.0,\n",
       " '3': 0.9998500468603562,\n",
       " '4': 0.9997332723670173,\n",
       " '5': 0.9997000937207123,\n",
       " '6': 0.999923792104862,\n",
       " '7': 0.9998475842097242,\n",
       " '8': 0.9955863808322825,\n",
       " '9': 0.9998094802621552}"
      ]
     },
     "execution_count": 17,
     "metadata": {},
     "output_type": "execute_result"
    }
   ],
   "source": [
    "roc_auc_dict"
   ]
  },
  {
   "cell_type": "code",
   "execution_count": 18,
   "id": "7a5dbdb8",
   "metadata": {
    "execution": {
     "iopub.execute_input": "2022-07-06T06:55:15.712322Z",
     "iopub.status.busy": "2022-07-06T06:55:15.711763Z",
     "iopub.status.idle": "2022-07-06T06:55:15.725919Z",
     "shell.execute_reply": "2022-07-06T06:55:15.722951Z"
    },
    "papermill": {
     "duration": 0.031372,
     "end_time": "2022-07-06T06:55:15.732304",
     "exception": false,
     "start_time": "2022-07-06T06:55:15.700932",
     "status": "completed"
    },
    "tags": []
   },
   "outputs": [
    {
     "name": "stdout",
     "output_type": "stream",
     "text": [
      " - Logging roc_auc_per_digit (json) : {'0': 1.0, '1': 0.998950328022493, '2': 1.0, '3': 0.9998500468603562, '4': 0.9997332723670173, '5': 0.9997000937207123, '6': 0.999923792104862, '7': 0.9998475842097242, '8': 0.9955863808322825, '9': 0.9998094802621552}\n"
     ]
    }
   ],
   "source": [
    "logger.log_value(\"roc_auc_per_digit\", roc_auc_dict)"
   ]
  },
  {
   "cell_type": "markdown",
   "id": "4e5ec222",
   "metadata": {
    "papermill": {
     "duration": 0.009019,
     "end_time": "2022-07-06T06:55:15.749489",
     "exception": false,
     "start_time": "2022-07-06T06:55:15.740470",
     "status": "completed"
    },
    "tags": []
   },
   "source": [
    "### Compute and log mean ROC AUC score averaged over all digits"
   ]
  },
  {
   "cell_type": "code",
   "execution_count": 19,
   "id": "89deee2c",
   "metadata": {
    "execution": {
     "iopub.execute_input": "2022-07-06T06:55:15.796128Z",
     "iopub.status.busy": "2022-07-06T06:55:15.795613Z",
     "iopub.status.idle": "2022-07-06T06:55:15.825031Z",
     "shell.execute_reply": "2022-07-06T06:55:15.818028Z"
    },
    "papermill": {
     "duration": 0.061603,
     "end_time": "2022-07-06T06:55:15.830928",
     "exception": false,
     "start_time": "2022-07-06T06:55:15.769325",
     "status": "completed"
    },
    "tags": []
   },
   "outputs": [
    {
     "name": "stdout",
     "output_type": "stream",
     "text": [
      " - Logging roc_auc_class_mean (float) : 0.9993400978379603\n"
     ]
    }
   ],
   "source": [
    "roc_auc_macro = np.mean(list(roc_auc_dict.values()))\n",
    "\n",
    "logger.log_float(\"roc_auc_class_mean\", roc_auc_macro)\n",
    "\n",
    "# assert that the same value can be computed directly using sklearn\n",
    "assert roc_auc_macro == metrics.roc_auc_score(\n",
    "    y_test, y_pred_probs_test, average=\"macro\", multi_class=\"ovr\"\n",
    ")"
   ]
  },
  {
   "cell_type": "code",
   "execution_count": 20,
   "id": "d08741b1",
   "metadata": {
    "execution": {
     "iopub.execute_input": "2022-07-06T06:55:15.867941Z",
     "iopub.status.busy": "2022-07-06T06:55:15.865976Z",
     "iopub.status.idle": "2022-07-06T06:55:15.879592Z",
     "shell.execute_reply": "2022-07-06T06:55:15.876860Z"
    },
    "lines_to_next_cell": 0,
    "papermill": {
     "duration": 0.029399,
     "end_time": "2022-07-06T06:55:15.882292",
     "exception": false,
     "start_time": "2022-07-06T06:55:15.852893",
     "status": "completed"
    },
    "tags": []
   },
   "outputs": [],
   "source": [
    "# ---"
   ]
  },
  {
   "cell_type": "code",
   "execution_count": null,
   "id": "12b4d3f2",
   "metadata": {
    "papermill": {
     "duration": 0.013497,
     "end_time": "2022-07-06T06:55:15.917814",
     "exception": false,
     "start_time": "2022-07-06T06:55:15.904317",
     "status": "completed"
    },
    "tags": []
   },
   "outputs": [],
   "source": []
  }
 ],
 "metadata": {
  "jupytext": {
   "cell_metadata_filter": "tags,-all",
   "main_language": "python",
   "notebook_metadata_filter": "-all"
  },
  "language_info": {
   "codemirror_mode": {
    "name": "ipython",
    "version": 3
   },
   "file_extension": ".py",
   "mimetype": "text/x-python",
   "name": "python",
   "nbconvert_exporter": "python",
   "pygments_lexer": "ipython3",
   "version": "3.8.10"
  },
  "papermill": {
   "default_parameters": {},
   "duration": 21.002369,
   "end_time": "2022-07-06T06:55:17.362547",
   "environment_variables": {},
   "exception": null,
   "input_path": "/home/host_user/workspace/mnist-demo-pipeline/mnist-demo-pipeline/notebooks/temp-notebook-il7awc0_.ipynb",
   "output_path": "notebooks/benchmark-model.ipynb",
   "parameters": {
    "P": {
     "_opentelemetry_traceparent": "00-8cb03d06324d6ba3c821f9057abe8c9c-070d2a7ff56dc61b-01",
     "pipeline.data_lake_root": "/pipeline-outputs/data-lake",
     "pipeline.github.actor": "matiasdahl",
     "pipeline.github.base_ref": "",
     "pipeline.github.event_name": "schedule",
     "pipeline.github.head_ref": "",
     "pipeline.github.job": "run-tests-pipeline-and-persist-pipeline-outputs",
     "pipeline.github.ref": "refs/heads/development",
     "pipeline.github.ref_name": "development",
     "pipeline.github.ref_type": "branch",
     "pipeline.github.repository": "pynb-dag-runner/mnist-digits-demo-pipeline",
     "pipeline.github.run_id": "2620912334",
     "pipeline.github.runner_name": "Hosted Agent",
     "pipeline.github.sha": "f934c58f68028b7bb026059d4e87e6d32a1bbd20",
     "pipeline.github.workflow": "Run automated tests, pipeline and deploy results to static reporting site",
     "pipeline.pipeline_run_id": "fea682e4-3793-4c0e-9ed3-6f31763c070a",
     "pipeline.run_environment": "ci",
     "run.retry_nr": "0",
     "task.max_nr_retries": "1",
     "task.notebook": "notebooks/benchmark-model.py",
     "task.nr_train_images": 1200,
     "task.num_cpus": 1,
     "task.timeout_s": "None"
    }
   },
   "start_time": "2022-07-06T06:54:56.360178",
   "version": "2.3.3"
  }
 },
 "nbformat": 4,
 "nbformat_minor": 5
}