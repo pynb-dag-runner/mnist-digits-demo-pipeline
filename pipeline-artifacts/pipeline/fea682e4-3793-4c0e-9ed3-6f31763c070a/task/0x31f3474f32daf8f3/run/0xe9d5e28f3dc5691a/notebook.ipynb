{
 "cells": [
  {
   "cell_type": "markdown",
   "id": "32cf03bd",
   "metadata": {
    "papermill": {
     "duration": 0.024754,
     "end_time": "2022-07-06T06:53:55.979765",
     "exception": false,
     "start_time": "2022-07-06T06:53:55.955011",
     "status": "completed"
    },
    "tags": []
   },
   "source": [
    "# Split digits and labels into separate training and testing data sets"
   ]
  },
  {
   "cell_type": "markdown",
   "id": "e8d7a778",
   "metadata": {
    "papermill": {
     "duration": 0.00352,
     "end_time": "2022-07-06T06:53:55.987634",
     "exception": false,
     "start_time": "2022-07-06T06:53:55.984114",
     "status": "completed"
    },
    "tags": []
   },
   "source": [
    "### Determine run parameters"
   ]
  },
  {
   "cell_type": "code",
   "execution_count": 1,
   "id": "c065d4ec",
   "metadata": {
    "execution": {
     "iopub.execute_input": "2022-07-06T06:53:55.996994Z",
     "iopub.status.busy": "2022-07-06T06:53:55.996550Z",
     "iopub.status.idle": "2022-07-06T06:53:56.009943Z",
     "shell.execute_reply": "2022-07-06T06:53:56.008692Z"
    },
    "lines_to_next_cell": 0,
    "papermill": {
     "duration": 0.028756,
     "end_time": "2022-07-06T06:53:56.020264",
     "exception": false,
     "start_time": "2022-07-06T06:53:55.991508",
     "status": "completed"
    },
    "tags": []
   },
   "outputs": [],
   "source": [
    "# ----------------- Parameters for interactive development --------------\n",
    "P = {\n",
    "    \"pipeline.data_lake_root\": \"/pipeline-outputs/data-lake\",\n",
    "    \"task.train_test_ratio\": 0.7,\n",
    "}"
   ]
  },
  {
   "cell_type": "code",
   "execution_count": 2,
   "id": "5b661f9d",
   "metadata": {
    "execution": {
     "iopub.execute_input": "2022-07-06T06:53:56.035667Z",
     "iopub.status.busy": "2022-07-06T06:53:56.035326Z",
     "iopub.status.idle": "2022-07-06T06:53:56.045821Z",
     "shell.execute_reply": "2022-07-06T06:53:56.043270Z"
    },
    "lines_to_next_cell": 0,
    "papermill": {
     "duration": 0.025406,
     "end_time": "2022-07-06T06:53:56.050950",
     "exception": false,
     "start_time": "2022-07-06T06:53:56.025544",
     "status": "completed"
    },
    "tags": [
     "parameters"
    ]
   },
   "outputs": [],
   "source": [
    "# - During automated runs parameters will be injected in the below cell -"
   ]
  },
  {
   "cell_type": "code",
   "execution_count": 3,
   "id": "cff96d63",
   "metadata": {
    "execution": {
     "iopub.execute_input": "2022-07-06T06:53:56.070235Z",
     "iopub.status.busy": "2022-07-06T06:53:56.069410Z",
     "iopub.status.idle": "2022-07-06T06:53:56.078916Z",
     "shell.execute_reply": "2022-07-06T06:53:56.078106Z"
    },
    "papermill": {
     "duration": 0.020831,
     "end_time": "2022-07-06T06:53:56.081723",
     "exception": false,
     "start_time": "2022-07-06T06:53:56.060892",
     "status": "completed"
    },
    "tags": [
     "injected-parameters"
    ]
   },
   "outputs": [],
   "source": [
    "# Parameters\n",
    "P = {\n",
    "    \"pipeline.data_lake_root\": \"/pipeline-outputs/data-lake\",\n",
    "    \"pipeline.run_environment\": \"ci\",\n",
    "    \"pipeline.pipeline_run_id\": \"fea682e4-3793-4c0e-9ed3-6f31763c070a\",\n",
    "    \"pipeline.github.repository\": \"pynb-dag-runner/mnist-digits-demo-pipeline\",\n",
    "    \"pipeline.github.workflow\": \"Run automated tests, pipeline and deploy results to static reporting site\",\n",
    "    \"pipeline.github.runner_name\": \"Hosted Agent\",\n",
    "    \"pipeline.github.run_id\": \"2620912334\",\n",
    "    \"pipeline.github.actor\": \"matiasdahl\",\n",
    "    \"pipeline.github.job\": \"run-tests-pipeline-and-persist-pipeline-outputs\",\n",
    "    \"pipeline.github.base_ref\": \"\",\n",
    "    \"pipeline.github.head_ref\": \"\",\n",
    "    \"pipeline.github.sha\": \"f934c58f68028b7bb026059d4e87e6d32a1bbd20\",\n",
    "    \"pipeline.github.ref\": \"refs/heads/development\",\n",
    "    \"pipeline.github.ref_type\": \"branch\",\n",
    "    \"pipeline.github.ref_name\": \"development\",\n",
    "    \"pipeline.github.event_name\": \"schedule\",\n",
    "    \"task.train_test_ratio\": 0.7,\n",
    "    \"task.notebook\": \"notebooks/split-train-test.py\",\n",
    "    \"task.max_nr_retries\": \"1\",\n",
    "    \"run.retry_nr\": \"0\",\n",
    "    \"task.timeout_s\": \"None\",\n",
    "    \"task.num_cpus\": 1,\n",
    "    \"_opentelemetry_traceparent\": \"00-8cb03d06324d6ba3c821f9057abe8c9c-2da3f0e5ec9ef185-01\",\n",
    "}\n"
   ]
  },
  {
   "cell_type": "code",
   "execution_count": 4,
   "id": "cdf9d0b5",
   "metadata": {
    "execution": {
     "iopub.execute_input": "2022-07-06T06:53:56.092111Z",
     "iopub.status.busy": "2022-07-06T06:53:56.091452Z",
     "iopub.status.idle": "2022-07-06T06:53:56.096964Z",
     "shell.execute_reply": "2022-07-06T06:53:56.095940Z"
    },
    "lines_to_next_cell": 0,
    "papermill": {
     "duration": 0.014623,
     "end_time": "2022-07-06T06:53:56.101132",
     "exception": false,
     "start_time": "2022-07-06T06:53:56.086509",
     "status": "completed"
    },
    "tags": []
   },
   "outputs": [],
   "source": [
    "# -----------------------------------------------------------------------"
   ]
  },
  {
   "cell_type": "markdown",
   "id": "e4f8f2da",
   "metadata": {
    "papermill": {
     "duration": 0.003353,
     "end_time": "2022-07-06T06:53:56.109554",
     "exception": false,
     "start_time": "2022-07-06T06:53:56.106201",
     "status": "completed"
    },
    "tags": []
   },
   "source": [
    "---"
   ]
  },
  {
   "cell_type": "markdown",
   "id": "b9cf6aac",
   "metadata": {
    "lines_to_next_cell": 2,
    "papermill": {
     "duration": 0.003932,
     "end_time": "2022-07-06T06:53:56.117347",
     "exception": false,
     "start_time": "2022-07-06T06:53:56.113415",
     "status": "completed"
    },
    "tags": []
   },
   "source": [
    "### Notebook code"
   ]
  },
  {
   "cell_type": "code",
   "execution_count": 5,
   "id": "509f0a82",
   "metadata": {
    "execution": {
     "iopub.execute_input": "2022-07-06T06:53:56.127558Z",
     "iopub.status.busy": "2022-07-06T06:53:56.126866Z",
     "iopub.status.idle": "2022-07-06T06:53:57.114287Z",
     "shell.execute_reply": "2022-07-06T06:53:57.112243Z"
    },
    "papermill": {
     "duration": 0.997126,
     "end_time": "2022-07-06T06:53:57.117741",
     "exception": false,
     "start_time": "2022-07-06T06:53:56.120615",
     "status": "completed"
    },
    "tags": []
   },
   "outputs": [
    {
     "name": "stderr",
     "output_type": "stream",
     "text": [
      "2022-07-06 06:53:56,861\tINFO worker.py:842 -- Connecting to existing Ray cluster at address: 172.17.0.2:6379\n"
     ]
    }
   ],
   "source": [
    "from common.io import datalake_root, read_numpy, write_numpy\n",
    "from pynb_dag_runner.tasks.task_opentelemetry_logging import PydarLogger\n",
    "\n",
    "logger = PydarLogger(P)"
   ]
  },
  {
   "cell_type": "markdown",
   "id": "728b9969",
   "metadata": {
    "papermill": {
     "duration": 0.01184,
     "end_time": "2022-07-06T06:53:57.135186",
     "exception": false,
     "start_time": "2022-07-06T06:53:57.123346",
     "status": "completed"
    },
    "tags": []
   },
   "source": [
    "## Load and split digits data"
   ]
  },
  {
   "cell_type": "code",
   "execution_count": 6,
   "id": "e1118842",
   "metadata": {
    "execution": {
     "iopub.execute_input": "2022-07-06T06:53:57.152565Z",
     "iopub.status.busy": "2022-07-06T06:53:57.152127Z",
     "iopub.status.idle": "2022-07-06T06:53:57.167602Z",
     "shell.execute_reply": "2022-07-06T06:53:57.165405Z"
    },
    "papermill": {
     "duration": 0.024131,
     "end_time": "2022-07-06T06:53:57.170546",
     "exception": false,
     "start_time": "2022-07-06T06:53:57.146415",
     "status": "completed"
    },
    "tags": []
   },
   "outputs": [],
   "source": [
    "X = read_numpy(datalake_root(P) / \"raw\" / \"digits.numpy\")\n",
    "y = read_numpy(datalake_root(P) / \"raw\" / \"labels.numpy\")"
   ]
  },
  {
   "cell_type": "code",
   "execution_count": 7,
   "id": "31beb0ce",
   "metadata": {
    "execution": {
     "iopub.execute_input": "2022-07-06T06:53:57.181747Z",
     "iopub.status.busy": "2022-07-06T06:53:57.181318Z",
     "iopub.status.idle": "2022-07-06T06:53:57.820140Z",
     "shell.execute_reply": "2022-07-06T06:53:57.818965Z"
    },
    "papermill": {
     "duration": 0.648696,
     "end_time": "2022-07-06T06:53:57.824372",
     "exception": false,
     "start_time": "2022-07-06T06:53:57.175676",
     "status": "completed"
    },
    "tags": []
   },
   "outputs": [],
   "source": [
    "from sklearn.model_selection import train_test_split\n",
    "\n",
    "X_train, X_test, y_train, y_test = train_test_split(\n",
    "    X,\n",
    "    y,\n",
    "    train_size=P[\"task.train_test_ratio\"],\n",
    "    test_size=None,\n",
    "    stratify=y,\n",
    "    shuffle=True,\n",
    "    random_state=1,\n",
    ")\n",
    "\n",
    "# assert nr of pixels per image is the same for all image vectors\n",
    "assert X.shape[1] == X_train.shape[1] == X_test.shape[1]\n",
    "\n",
    "# assert that the (X, y)-pairs have compatible sizes (for both train and test)\n",
    "assert X_train.shape[0] == len(y_train)\n",
    "assert X_test.shape[0] == len(y_test)\n",
    "\n",
    "# assert that all data is used\n",
    "assert len(y) == len(y_train) + len(y_test)"
   ]
  },
  {
   "cell_type": "code",
   "execution_count": 8,
   "id": "0efe9e92",
   "metadata": {
    "execution": {
     "iopub.execute_input": "2022-07-06T06:53:57.859553Z",
     "iopub.status.busy": "2022-07-06T06:53:57.859201Z",
     "iopub.status.idle": "2022-07-06T06:53:57.876154Z",
     "shell.execute_reply": "2022-07-06T06:53:57.874466Z"
    },
    "papermill": {
     "duration": 0.047642,
     "end_time": "2022-07-06T06:53:57.880014",
     "exception": false,
     "start_time": "2022-07-06T06:53:57.832372",
     "status": "completed"
    },
    "tags": []
   },
   "outputs": [
    {
     "name": "stdout",
     "output_type": "stream",
     "text": [
      " - Logging nr_digits_train (int) : 1257\n",
      " - Logging nr_digits_test (int) : 540\n"
     ]
    }
   ],
   "source": [
    "logger.log_int(\"nr_digits_train\", len(y_train))\n",
    "logger.log_int(\"nr_digits_test\", len(y_test))"
   ]
  },
  {
   "cell_type": "markdown",
   "id": "0939e1d9",
   "metadata": {
    "papermill": {
     "duration": 0.028872,
     "end_time": "2022-07-06T06:53:57.916922",
     "exception": false,
     "start_time": "2022-07-06T06:53:57.888050",
     "status": "completed"
    },
    "tags": []
   },
   "source": [
    "### Persist training and test data sets to separate files"
   ]
  },
  {
   "cell_type": "code",
   "execution_count": 9,
   "id": "0f6265dd",
   "metadata": {
    "execution": {
     "iopub.execute_input": "2022-07-06T06:53:57.949902Z",
     "iopub.status.busy": "2022-07-06T06:53:57.948463Z",
     "iopub.status.idle": "2022-07-06T06:53:57.975886Z",
     "shell.execute_reply": "2022-07-06T06:53:57.972667Z"
    },
    "papermill": {
     "duration": 0.047517,
     "end_time": "2022-07-06T06:53:57.980630",
     "exception": false,
     "start_time": "2022-07-06T06:53:57.933113",
     "status": "completed"
    },
    "tags": []
   },
   "outputs": [],
   "source": [
    "write_numpy(datalake_root(P) / \"train-data\" / \"digits.numpy\", X_train)\n",
    "write_numpy(datalake_root(P) / \"train-data\" / \"labels.numpy\", y_train)\n",
    "\n",
    "#\n",
    "write_numpy(datalake_root(P) / \"test-data\" / \"digits.numpy\", X_test)\n",
    "write_numpy(datalake_root(P) / \"test-data\" / \"labels.numpy\", y_test)"
   ]
  },
  {
   "cell_type": "code",
   "execution_count": null,
   "id": "dc85e3bd",
   "metadata": {
    "papermill": {
     "duration": 0.025077,
     "end_time": "2022-07-06T06:53:58.010837",
     "exception": false,
     "start_time": "2022-07-06T06:53:57.985760",
     "status": "completed"
    },
    "tags": []
   },
   "outputs": [],
   "source": []
  }
 ],
 "metadata": {
  "jupytext": {
   "cell_metadata_filter": "tags,-all",
   "main_language": "python",
   "notebook_metadata_filter": "-all"
  },
  "language_info": {
   "codemirror_mode": {
    "name": "ipython",
    "version": 3
   },
   "file_extension": ".py",
   "mimetype": "text/x-python",
   "name": "python",
   "nbconvert_exporter": "python",
   "pygments_lexer": "ipython3",
   "version": "3.8.10"
  },
  "papermill": {
   "default_parameters": {},
   "duration": 5.586514,
   "end_time": "2022-07-06T06:53:59.220053",
   "environment_variables": {},
   "exception": null,
   "input_path": "/home/host_user/workspace/mnist-demo-pipeline/mnist-demo-pipeline/notebooks/temp-notebook-o2t0_lpc.ipynb",
   "output_path": "notebooks/split-train-test.ipynb",
   "parameters": {
    "P": {
     "_opentelemetry_traceparent": "00-8cb03d06324d6ba3c821f9057abe8c9c-2da3f0e5ec9ef185-01",
     "pipeline.data_lake_root": "/pipeline-outputs/data-lake",
     "pipeline.github.actor": "matiasdahl",
     "pipeline.github.base_ref": "",
     "pipeline.github.event_name": "schedule",
     "pipeline.github.head_ref": "",
     "pipeline.github.job": "run-tests-pipeline-and-persist-pipeline-outputs",
     "pipeline.github.ref": "refs/heads/development",
     "pipeline.github.ref_name": "development",
     "pipeline.github.ref_type": "branch",
     "pipeline.github.repository": "pynb-dag-runner/mnist-digits-demo-pipeline",
     "pipeline.github.run_id": "2620912334",
     "pipeline.github.runner_name": "Hosted Agent",
     "pipeline.github.sha": "f934c58f68028b7bb026059d4e87e6d32a1bbd20",
     "pipeline.github.workflow": "Run automated tests, pipeline and deploy results to static reporting site",
     "pipeline.pipeline_run_id": "fea682e4-3793-4c0e-9ed3-6f31763c070a",
     "pipeline.run_environment": "ci",
     "run.retry_nr": "0",
     "task.max_nr_retries": "1",
     "task.notebook": "notebooks/split-train-test.py",
     "task.num_cpus": 1,
     "task.timeout_s": "None",
     "task.train_test_ratio": 0.7
    }
   },
   "start_time": "2022-07-06T06:53:53.633539",
   "version": "2.3.3"
  }
 },
 "nbformat": 4,
 "nbformat_minor": 5
}