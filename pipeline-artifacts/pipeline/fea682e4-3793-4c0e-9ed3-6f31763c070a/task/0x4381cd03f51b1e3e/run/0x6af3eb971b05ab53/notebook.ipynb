{
 "cells": [
  {
   "cell_type": "markdown",
   "id": "3bf17b60",
   "metadata": {
    "papermill": {
     "duration": 0.009196,
     "end_time": "2022-07-06T06:54:49.486506",
     "exception": false,
     "start_time": "2022-07-06T06:54:49.477310",
     "status": "completed"
    },
    "tags": []
   },
   "source": [
    "# Benchmark model\n",
    "\n",
    "The purpose of this notebook is to benchmark persisted onnx-model (trained in the\n",
    "previous step) against evaluation set."
   ]
  },
  {
   "cell_type": "markdown",
   "id": "9b2b634a",
   "metadata": {
    "papermill": {
     "duration": 0.010762,
     "end_time": "2022-07-06T06:54:49.510119",
     "exception": false,
     "start_time": "2022-07-06T06:54:49.499357",
     "status": "completed"
    },
    "tags": []
   },
   "source": [
    "### Determine run parameters"
   ]
  },
  {
   "cell_type": "code",
   "execution_count": 1,
   "id": "b2dc81e3",
   "metadata": {
    "execution": {
     "iopub.execute_input": "2022-07-06T06:54:49.543802Z",
     "iopub.status.busy": "2022-07-06T06:54:49.542397Z",
     "iopub.status.idle": "2022-07-06T06:54:49.568761Z",
     "shell.execute_reply": "2022-07-06T06:54:49.566644Z"
    },
    "lines_to_next_cell": 0,
    "papermill": {
     "duration": 0.057619,
     "end_time": "2022-07-06T06:54:49.573613",
     "exception": false,
     "start_time": "2022-07-06T06:54:49.515994",
     "status": "completed"
    },
    "tags": []
   },
   "outputs": [],
   "source": [
    "# ----------------- Parameters for interactive development --------------\n",
    "P = {\n",
    "    \"pipeline.data_lake_root\": \"/pipeline-outputs/data-lake\",\n",
    "    \"task.nr_train_images\": 600,\n",
    "}"
   ]
  },
  {
   "cell_type": "code",
   "execution_count": 2,
   "id": "683a3b3b",
   "metadata": {
    "execution": {
     "iopub.execute_input": "2022-07-06T06:54:49.601809Z",
     "iopub.status.busy": "2022-07-06T06:54:49.601442Z",
     "iopub.status.idle": "2022-07-06T06:54:49.610230Z",
     "shell.execute_reply": "2022-07-06T06:54:49.608713Z"
    },
    "lines_to_next_cell": 0,
    "papermill": {
     "duration": 0.035268,
     "end_time": "2022-07-06T06:54:49.619089",
     "exception": false,
     "start_time": "2022-07-06T06:54:49.583821",
     "status": "completed"
    },
    "tags": [
     "parameters"
    ]
   },
   "outputs": [],
   "source": [
    "# - During automated runs parameters will be injected in the below cell -"
   ]
  },
  {
   "cell_type": "code",
   "execution_count": 3,
   "id": "9acb29fa",
   "metadata": {
    "execution": {
     "iopub.execute_input": "2022-07-06T06:54:49.652185Z",
     "iopub.status.busy": "2022-07-06T06:54:49.651866Z",
     "iopub.status.idle": "2022-07-06T06:54:49.669240Z",
     "shell.execute_reply": "2022-07-06T06:54:49.662601Z"
    },
    "papermill": {
     "duration": 0.038881,
     "end_time": "2022-07-06T06:54:49.674694",
     "exception": false,
     "start_time": "2022-07-06T06:54:49.635813",
     "status": "completed"
    },
    "tags": [
     "injected-parameters"
    ]
   },
   "outputs": [],
   "source": [
    "# Parameters\n",
    "P = {\n",
    "    \"pipeline.data_lake_root\": \"/pipeline-outputs/data-lake\",\n",
    "    \"pipeline.run_environment\": \"ci\",\n",
    "    \"pipeline.pipeline_run_id\": \"fea682e4-3793-4c0e-9ed3-6f31763c070a\",\n",
    "    \"pipeline.github.repository\": \"pynb-dag-runner/mnist-digits-demo-pipeline\",\n",
    "    \"pipeline.github.workflow\": \"Run automated tests, pipeline and deploy results to static reporting site\",\n",
    "    \"pipeline.github.runner_name\": \"Hosted Agent\",\n",
    "    \"pipeline.github.run_id\": \"2620912334\",\n",
    "    \"pipeline.github.actor\": \"matiasdahl\",\n",
    "    \"pipeline.github.job\": \"run-tests-pipeline-and-persist-pipeline-outputs\",\n",
    "    \"pipeline.github.base_ref\": \"\",\n",
    "    \"pipeline.github.head_ref\": \"\",\n",
    "    \"pipeline.github.sha\": \"f934c58f68028b7bb026059d4e87e6d32a1bbd20\",\n",
    "    \"pipeline.github.ref\": \"refs/heads/development\",\n",
    "    \"pipeline.github.ref_type\": \"branch\",\n",
    "    \"pipeline.github.ref_name\": \"development\",\n",
    "    \"pipeline.github.event_name\": \"schedule\",\n",
    "    \"task.nr_train_images\": 800,\n",
    "    \"task.notebook\": \"notebooks/benchmark-model.py\",\n",
    "    \"task.max_nr_retries\": \"1\",\n",
    "    \"run.retry_nr\": \"0\",\n",
    "    \"task.timeout_s\": \"None\",\n",
    "    \"task.num_cpus\": 1,\n",
    "    \"_opentelemetry_traceparent\": \"00-8cb03d06324d6ba3c821f9057abe8c9c-de4763db1ccc7565-01\",\n",
    "}\n"
   ]
  },
  {
   "cell_type": "code",
   "execution_count": 4,
   "id": "fb660e16",
   "metadata": {
    "execution": {
     "iopub.execute_input": "2022-07-06T06:54:49.711366Z",
     "iopub.status.busy": "2022-07-06T06:54:49.709331Z",
     "iopub.status.idle": "2022-07-06T06:54:49.719208Z",
     "shell.execute_reply": "2022-07-06T06:54:49.713974Z"
    },
    "lines_to_next_cell": 0,
    "papermill": {
     "duration": 0.039069,
     "end_time": "2022-07-06T06:54:49.724357",
     "exception": false,
     "start_time": "2022-07-06T06:54:49.685288",
     "status": "completed"
    },
    "tags": []
   },
   "outputs": [],
   "source": [
    "# -----------------------------------------------------------------------"
   ]
  },
  {
   "cell_type": "markdown",
   "id": "20cb6cdd",
   "metadata": {
    "papermill": {
     "duration": 0.028514,
     "end_time": "2022-07-06T06:54:49.775805",
     "exception": false,
     "start_time": "2022-07-06T06:54:49.747291",
     "status": "completed"
    },
    "tags": []
   },
   "source": [
    "---"
   ]
  },
  {
   "cell_type": "markdown",
   "id": "fe30d428",
   "metadata": {
    "lines_to_next_cell": 2,
    "papermill": {
     "duration": 0.01018,
     "end_time": "2022-07-06T06:54:49.809672",
     "exception": false,
     "start_time": "2022-07-06T06:54:49.799492",
     "status": "completed"
    },
    "tags": []
   },
   "source": [
    "### Notebook code"
   ]
  },
  {
   "cell_type": "code",
   "execution_count": 5,
   "id": "07d5e1e1",
   "metadata": {
    "execution": {
     "iopub.execute_input": "2022-07-06T06:54:49.850611Z",
     "iopub.status.busy": "2022-07-06T06:54:49.848249Z",
     "iopub.status.idle": "2022-07-06T06:54:52.347080Z",
     "shell.execute_reply": "2022-07-06T06:54:52.341535Z"
    },
    "papermill": {
     "duration": 2.847302,
     "end_time": "2022-07-06T06:54:52.680224",
     "exception": false,
     "start_time": "2022-07-06T06:54:49.832922",
     "status": "completed"
    },
    "tags": []
   },
   "outputs": [
    {
     "name": "stderr",
     "output_type": "stream",
     "text": [
      "2022-07-06 06:54:51,902\tINFO worker.py:842 -- Connecting to existing Ray cluster at address: 172.17.0.2:6379\n"
     ]
    }
   ],
   "source": [
    "import itertools as it\n",
    "\n",
    "#\n",
    "import numpy as np\n",
    "import matplotlib.pyplot as plt\n",
    "\n",
    "#\n",
    "from pynb_dag_runner.tasks.task_opentelemetry_logging import PydarLogger\n",
    "\n",
    "#\n",
    "from common.io import datalake_root\n",
    "\n",
    "logger = PydarLogger(P)"
   ]
  },
  {
   "cell_type": "markdown",
   "id": "2d1b56fa",
   "metadata": {
    "papermill": {
     "duration": 0.009857,
     "end_time": "2022-07-06T06:54:52.698740",
     "exception": false,
     "start_time": "2022-07-06T06:54:52.688883",
     "status": "completed"
    },
    "tags": []
   },
   "source": [
    "## Load persisted onnx-model and evaluation data"
   ]
  },
  {
   "cell_type": "code",
   "execution_count": 6,
   "id": "f17c21b3",
   "metadata": {
    "execution": {
     "iopub.execute_input": "2022-07-06T06:54:52.714259Z",
     "iopub.status.busy": "2022-07-06T06:54:52.713037Z",
     "iopub.status.idle": "2022-07-06T06:54:52.718631Z",
     "shell.execute_reply": "2022-07-06T06:54:52.717389Z"
    },
    "papermill": {
     "duration": 0.015032,
     "end_time": "2022-07-06T06:54:52.720940",
     "exception": false,
     "start_time": "2022-07-06T06:54:52.705908",
     "status": "completed"
    },
    "tags": []
   },
   "outputs": [],
   "source": [
    "from common.io import read_onnx, get_onnx_inputs, get_onnx_outputs, read_numpy"
   ]
  },
  {
   "cell_type": "code",
   "execution_count": 7,
   "id": "ce62fb1b",
   "metadata": {
    "execution": {
     "iopub.execute_input": "2022-07-06T06:54:52.741413Z",
     "iopub.status.busy": "2022-07-06T06:54:52.740007Z",
     "iopub.status.idle": "2022-07-06T06:54:52.754279Z",
     "shell.execute_reply": "2022-07-06T06:54:52.752958Z"
    },
    "lines_to_next_cell": 0,
    "papermill": {
     "duration": 0.028471,
     "end_time": "2022-07-06T06:54:52.757282",
     "exception": false,
     "start_time": "2022-07-06T06:54:52.728811",
     "status": "completed"
    },
    "tags": []
   },
   "outputs": [],
   "source": [
    "onnx_inference_session = read_onnx(\n",
    "    datalake_root(P)\n",
    "    / \"models\"\n",
    "    / f\"nr_train_images={P['task.nr_train_images']}\"\n",
    "    / \"model.onnx\"\n",
    ")"
   ]
  },
  {
   "cell_type": "markdown",
   "id": "0473239b",
   "metadata": {
    "papermill": {
     "duration": 0.005457,
     "end_time": "2022-07-06T06:54:52.768483",
     "exception": false,
     "start_time": "2022-07-06T06:54:52.763026",
     "status": "completed"
    },
    "tags": []
   },
   "source": [
    "### Record structure of inputs and outputs for ONNX model\n",
    "\n",
    "(this should likely be done in training notebook)"
   ]
  },
  {
   "cell_type": "code",
   "execution_count": 8,
   "id": "55ba1519",
   "metadata": {
    "execution": {
     "iopub.execute_input": "2022-07-06T06:54:52.781304Z",
     "iopub.status.busy": "2022-07-06T06:54:52.780968Z",
     "iopub.status.idle": "2022-07-06T06:54:52.789266Z",
     "shell.execute_reply": "2022-07-06T06:54:52.788327Z"
    },
    "papermill": {
     "duration": 0.017944,
     "end_time": "2022-07-06T06:54:52.791252",
     "exception": false,
     "start_time": "2022-07-06T06:54:52.773308",
     "status": "completed"
    },
    "tags": []
   },
   "outputs": [
    {
     "name": "stdout",
     "output_type": "stream",
     "text": [
      "{\n",
      "  \"inputs\": [\n",
      "    {\n",
      "      \"name\": \"float_input_8x8_image\",\n",
      "      \"shape\": [\n",
      "        null,\n",
      "        64\n",
      "      ],\n",
      "      \"type\": \"tensor(float)\"\n",
      "    }\n",
      "  ],\n",
      "  \"outputs\": [\n",
      "    {\n",
      "      \"name\": \"output_label\",\n",
      "      \"shape\": [\n",
      "        null\n",
      "      ],\n",
      "      \"type\": \"tensor(int64)\"\n",
      "    },\n",
      "    {\n",
      "      \"name\": \"output_probability\",\n",
      "      \"shape\": [],\n",
      "      \"type\": \"seq(map(int64,tensor(float)))\"\n",
      "    }\n",
      "  ]\n",
      "}\n"
     ]
    }
   ],
   "source": [
    "import json\n",
    "\n",
    "onnx_io = json.dumps(\n",
    "    {\n",
    "        \"inputs\": get_onnx_inputs(onnx_inference_session),\n",
    "        \"outputs\": get_onnx_outputs(onnx_inference_session),\n",
    "    },\n",
    "    indent=2,\n",
    ")\n",
    "\n",
    "\n",
    "logger.log_artefact(\"onnx_io_structure.json\", onnx_io)\n",
    "print(onnx_io)"
   ]
  },
  {
   "cell_type": "markdown",
   "id": "d127ee2a",
   "metadata": {
    "papermill": {
     "duration": 0.005027,
     "end_time": "2022-07-06T06:54:52.801895",
     "exception": false,
     "start_time": "2022-07-06T06:54:52.796868",
     "status": "completed"
    },
    "tags": []
   },
   "source": [
    "### Evaluate model performance on evaluation data set"
   ]
  },
  {
   "cell_type": "code",
   "execution_count": 9,
   "id": "145c9f2b",
   "metadata": {
    "execution": {
     "iopub.execute_input": "2022-07-06T06:54:52.817353Z",
     "iopub.status.busy": "2022-07-06T06:54:52.813674Z",
     "iopub.status.idle": "2022-07-06T06:54:52.825181Z",
     "shell.execute_reply": "2022-07-06T06:54:52.823666Z"
    },
    "papermill": {
     "duration": 0.020635,
     "end_time": "2022-07-06T06:54:52.827590",
     "exception": false,
     "start_time": "2022-07-06T06:54:52.806955",
     "status": "completed"
    },
    "tags": []
   },
   "outputs": [],
   "source": [
    "# load evaluation data\n",
    "X_test = read_numpy(datalake_root(P) / \"test-data\" / \"digits.numpy\")\n",
    "y_test = read_numpy(datalake_root(P) / \"test-data\" / \"labels.numpy\")"
   ]
  },
  {
   "cell_type": "code",
   "execution_count": 10,
   "id": "712c0e42",
   "metadata": {
    "execution": {
     "iopub.execute_input": "2022-07-06T06:54:52.849114Z",
     "iopub.status.busy": "2022-07-06T06:54:52.848458Z",
     "iopub.status.idle": "2022-07-06T06:54:52.866389Z",
     "shell.execute_reply": "2022-07-06T06:54:52.864519Z"
    },
    "papermill": {
     "duration": 0.037157,
     "end_time": "2022-07-06T06:54:52.870152",
     "exception": false,
     "start_time": "2022-07-06T06:54:52.832995",
     "status": "completed"
    },
    "tags": []
   },
   "outputs": [],
   "source": [
    "def get_model_outputs(X, onnx_inference_session):\n",
    "    y_pred_labels, y_pred_map = onnx_inference_session.run(\n",
    "        [\"output_label\", \"output_probability\"],\n",
    "        {\"float_input_8x8_image\": X.astype(np.float32)},\n",
    "    )\n",
    "    y_pred_probs = np.array(\n",
    "        [[probabilities[digit] for digit in range(10)] for probabilities in y_pred_map]\n",
    "    )\n",
    "\n",
    "    assert y_pred_labels.shape == (X.shape[0],)\n",
    "    assert y_pred_probs.shape == (X.shape[0], 10)\n",
    "\n",
    "    return y_pred_labels, y_pred_probs\n",
    "\n",
    "\n",
    "# Note: as shown in the training notebook, the predicted labels and probabilities\n",
    "# computed below need not be compatible.\n",
    "y_pred_labels_test, y_pred_probs_test = get_model_outputs(\n",
    "    X_test, onnx_inference_session\n",
    ")"
   ]
  },
  {
   "cell_type": "markdown",
   "id": "9ae1823e",
   "metadata": {
    "papermill": {
     "duration": 0.013722,
     "end_time": "2022-07-06T06:54:52.893075",
     "exception": false,
     "start_time": "2022-07-06T06:54:52.879353",
     "status": "completed"
    },
    "tags": []
   },
   "source": [
    "### Confusion matrix"
   ]
  },
  {
   "cell_type": "code",
   "execution_count": 11,
   "id": "8242eeea",
   "metadata": {
    "execution": {
     "iopub.execute_input": "2022-07-06T06:54:52.917027Z",
     "iopub.status.busy": "2022-07-06T06:54:52.915911Z",
     "iopub.status.idle": "2022-07-06T06:54:52.926632Z",
     "shell.execute_reply": "2022-07-06T06:54:52.924600Z"
    },
    "papermill": {
     "duration": 0.036144,
     "end_time": "2022-07-06T06:54:52.936579",
     "exception": false,
     "start_time": "2022-07-06T06:54:52.900435",
     "status": "completed"
    },
    "tags": []
   },
   "outputs": [],
   "source": [
    "# TODO"
   ]
  },
  {
   "cell_type": "markdown",
   "id": "38302312",
   "metadata": {
    "papermill": {
     "duration": 0.02529,
     "end_time": "2022-07-06T06:54:52.968215",
     "exception": false,
     "start_time": "2022-07-06T06:54:52.942925",
     "status": "completed"
    },
    "tags": []
   },
   "source": [
    "### Plot predicted probabilities for each classifier over all evaluation digit images"
   ]
  },
  {
   "cell_type": "code",
   "execution_count": 12,
   "id": "fe4d1959",
   "metadata": {
    "execution": {
     "iopub.execute_input": "2022-07-06T06:54:53.010419Z",
     "iopub.status.busy": "2022-07-06T06:54:53.010069Z",
     "iopub.status.idle": "2022-07-06T06:55:01.009045Z",
     "shell.execute_reply": "2022-07-06T06:55:01.008212Z"
    },
    "papermill": {
     "duration": 8.027377,
     "end_time": "2022-07-06T06:55:01.018411",
     "exception": false,
     "start_time": "2022-07-06T06:54:52.991034",
     "status": "completed"
    },
    "tags": []
   },
   "outputs": [
    {
     "data": {
      "image/png": "[encoded data removed]",
      "text/plain": [
       "<Figure size 1152x432 with 10 Axes>"
      ]
     },
     "metadata": {
      "needs_background": "light"
     },
     "output_type": "display_data"
    }
   ],
   "source": [
    "def plot_per_digit_probabilities(y_pred_probs):\n",
    "    fig, axs = plt.subplots(nrows=2, ncols=5, figsize=(16, 6))\n",
    "\n",
    "    for (r, c), digit, ax in zip(\n",
    "        it.product(range(2), range(5)), range(10), axs.reshape(-1)\n",
    "    ):\n",
    "        ax.hist(y_pred_probs_test[:, digit], bins=20)\n",
    "\n",
    "        ax.set_title(f\"Digit {digit}\")\n",
    "        if r == 1 and c == 2:\n",
    "            ax.set_xlabel(\"probability\", fontsize=16)\n",
    "\n",
    "        if c == 0:\n",
    "            ax.set_ylabel(\"counts\", fontsize=16)\n",
    "        ax.set_yscale(\"log\")\n",
    "\n",
    "    fig.tight_layout()\n",
    "    fig.suptitle(\n",
    "        f\"Distributions of prediction probabilities for each digit \"\n",
    "        f\"(on evaluation data, n={y_pred_probs.shape[0]})\",\n",
    "        fontsize=20,\n",
    "    )\n",
    "    fig.tight_layout()\n",
    "    fig.show()\n",
    "\n",
    "    return fig\n",
    "\n",
    "\n",
    "fig = plot_per_digit_probabilities(y_pred_probs_test)"
   ]
  },
  {
   "cell_type": "markdown",
   "id": "9e38436b",
   "metadata": {
    "papermill": {
     "duration": 0.024407,
     "end_time": "2022-07-06T06:55:01.050648",
     "exception": false,
     "start_time": "2022-07-06T06:55:01.026241",
     "status": "completed"
    },
    "tags": []
   },
   "source": [
    "From the above distributions we see that most digits have clear separation between\n",
    "high and lower probabilities. Morover, in each case there is roughly an order of\n",
    "magnitude more of digits with low probabilities. This is compatible with digits\n",
    "being roughly evenly distributed in the data."
   ]
  },
  {
   "cell_type": "code",
   "execution_count": 13,
   "id": "c77f864d",
   "metadata": {
    "execution": {
     "iopub.execute_input": "2022-07-06T06:55:01.074075Z",
     "iopub.status.busy": "2022-07-06T06:55:01.073539Z",
     "iopub.status.idle": "2022-07-06T06:55:02.349599Z",
     "shell.execute_reply": "2022-07-06T06:55:02.348670Z"
    },
    "papermill": {
     "duration": 1.2918,
     "end_time": "2022-07-06T06:55:02.352655",
     "exception": false,
     "start_time": "2022-07-06T06:55:01.060855",
     "status": "completed"
    },
    "tags": []
   },
   "outputs": [],
   "source": [
    "logger.log_figure(\"per-digit-probabilities.png\", fig)"
   ]
  },
  {
   "cell_type": "markdown",
   "id": "82155823",
   "metadata": {
    "papermill": {
     "duration": 0.022644,
     "end_time": "2022-07-06T06:55:02.387150",
     "exception": false,
     "start_time": "2022-07-06T06:55:02.364506",
     "status": "completed"
    },
    "tags": []
   },
   "source": [
    "### Plot ROC curves for individual one-vs-rest classifiers"
   ]
  },
  {
   "cell_type": "code",
   "execution_count": 14,
   "id": "101b3471",
   "metadata": {
    "execution": {
     "iopub.execute_input": "2022-07-06T06:55:02.452162Z",
     "iopub.status.busy": "2022-07-06T06:55:02.450414Z",
     "iopub.status.idle": "2022-07-06T06:55:03.268331Z",
     "shell.execute_reply": "2022-07-06T06:55:03.264671Z"
    },
    "papermill": {
     "duration": 0.85655,
     "end_time": "2022-07-06T06:55:03.271662",
     "exception": false,
     "start_time": "2022-07-06T06:55:02.415112",
     "status": "completed"
    },
    "tags": []
   },
   "outputs": [],
   "source": [
    "from sklearn import metrics"
   ]
  },
  {
   "cell_type": "code",
   "execution_count": 15,
   "id": "e28d41f8",
   "metadata": {
    "execution": {
     "iopub.execute_input": "2022-07-06T06:55:03.312742Z",
     "iopub.status.busy": "2022-07-06T06:55:03.311269Z",
     "iopub.status.idle": "2022-07-06T06:55:06.239731Z",
     "shell.execute_reply": "2022-07-06T06:55:06.238261Z"
    },
    "papermill": {
     "duration": 2.970034,
     "end_time": "2022-07-06T06:55:06.251700",
     "exception": false,
     "start_time": "2022-07-06T06:55:03.281666",
     "status": "completed"
    },
    "tags": []
   },
   "outputs": [
    {
     "data": {
      "image/png": "[encoded data removed]",
      "text/plain": [
       "<Figure size 1152x576 with 10 Axes>"
      ]
     },
     "metadata": {
      "needs_background": "light"
     },
     "output_type": "display_data"
    }
   ],
   "source": [
    "def plot_roc_curves(y, y_pred_probs):\n",
    "    # based on example code\n",
    "    # https://scikit-learn.org/stable/auto_examples/model_selection/plot_roc.html\n",
    "\n",
    "    fig, axs = plt.subplots(nrows=2, ncols=5, figsize=(16, 8))\n",
    "\n",
    "    roc_auc_dict = {}\n",
    "\n",
    "    for (r, c), digit, ax in zip(\n",
    "        it.product(range(2), range(5)), range(10), axs.reshape(-1)\n",
    "    ):\n",
    "        fpr, tpr, _ = metrics.roc_curve(y == digit, y_pred_probs[:, digit])\n",
    "        auc = metrics.auc(fpr, tpr)\n",
    "        roc_auc_dict[str(digit)] = auc\n",
    "\n",
    "        ax.plot(fpr, tpr, label=f\"ROC AUC={round(auc, 3)}\")\n",
    "\n",
    "        ax.set_title(f\"\\nDigit {digit}\", fontsize=16)\n",
    "        if r == 1:\n",
    "            ax.set_xlabel(\"FPR\", fontsize=18)\n",
    "\n",
    "        if c == 0:\n",
    "            ax.set_ylabel(\"TPR\", fontsize=18)\n",
    "\n",
    "        ax.set_xlim([-0.05, 1.05])\n",
    "        ax.set_ylim([-0.05, 1.05])\n",
    "        ax.legend(loc=\"lower right\", frameon=False, fontsize=14)\n",
    "\n",
    "    fig.tight_layout()\n",
    "    fig.suptitle(\n",
    "        f\"ROC plots for one-vs-rest performances \"\n",
    "        f\"(on evaluation data, n={y_pred_probs_test.shape[1]}\",\n",
    "        fontsize=22,\n",
    "    )\n",
    "    fig.tight_layout()\n",
    "    fig.show()\n",
    "\n",
    "    return roc_auc_dict, fig\n",
    "\n",
    "\n",
    "roc_auc_dict, fig = plot_roc_curves(y_test, y_pred_probs_test)"
   ]
  },
  {
   "cell_type": "code",
   "execution_count": 16,
   "id": "8a27f8e2",
   "metadata": {
    "execution": {
     "iopub.execute_input": "2022-07-06T06:55:06.293249Z",
     "iopub.status.busy": "2022-07-06T06:55:06.291949Z",
     "iopub.status.idle": "2022-07-06T06:55:06.866477Z",
     "shell.execute_reply": "2022-07-06T06:55:06.863887Z"
    },
    "papermill": {
     "duration": 0.606062,
     "end_time": "2022-07-06T06:55:06.871410",
     "exception": false,
     "start_time": "2022-07-06T06:55:06.265348",
     "status": "completed"
    },
    "tags": []
   },
   "outputs": [],
   "source": [
    "logger.log_figure(\"per-digit-roc-curves.png\", fig)"
   ]
  },
  {
   "cell_type": "code",
   "execution_count": 17,
   "id": "e68ab667",
   "metadata": {
    "execution": {
     "iopub.execute_input": "2022-07-06T06:55:06.939643Z",
     "iopub.status.busy": "2022-07-06T06:55:06.938921Z",
     "iopub.status.idle": "2022-07-06T06:55:06.953223Z",
     "shell.execute_reply": "2022-07-06T06:55:06.949112Z"
    },
    "papermill": {
     "duration": 0.072342,
     "end_time": "2022-07-06T06:55:06.969661",
     "exception": false,
     "start_time": "2022-07-06T06:55:06.897319",
     "status": "completed"
    },
    "tags": []
   },
   "outputs": [
    {
     "data": {
      "text/plain": [
       "{'0': 1.0,\n",
       " '1': 0.9988378631677601,\n",
       " '2': 1.0,\n",
       " '3': 0.9997750702905343,\n",
       " '4': 0.9995046486816034,\n",
       " '5': 0.998950328022493,\n",
       " '6': 0.999961896052431,\n",
       " '7': 0.9998856881572931,\n",
       " '8': 0.9926308322824716,\n",
       " '9': 0.9993522328913276}"
      ]
     },
     "execution_count": 17,
     "metadata": {},
     "output_type": "execute_result"
    }
   ],
   "source": [
    "roc_auc_dict"
   ]
  },
  {
   "cell_type": "code",
   "execution_count": 18,
   "id": "acb0d47d",
   "metadata": {
    "execution": {
     "iopub.execute_input": "2022-07-06T06:55:06.988093Z",
     "iopub.status.busy": "2022-07-06T06:55:06.986469Z",
     "iopub.status.idle": "2022-07-06T06:55:06.993676Z",
     "shell.execute_reply": "2022-07-06T06:55:06.992815Z"
    },
    "papermill": {
     "duration": 0.021545,
     "end_time": "2022-07-06T06:55:06.999411",
     "exception": false,
     "start_time": "2022-07-06T06:55:06.977866",
     "status": "completed"
    },
    "tags": []
   },
   "outputs": [
    {
     "name": "stdout",
     "output_type": "stream",
     "text": [
      " - Logging roc_auc_per_digit (json) : {'0': 1.0, '1': 0.9988378631677601, '2': 1.0, '3': 0.9997750702905343, '4': 0.9995046486816034, '5': 0.998950328022493, '6': 0.999961896052431, '7': 0.9998856881572931, '8': 0.9926308322824716, '9': 0.9993522328913276}\n"
     ]
    }
   ],
   "source": [
    "logger.log_value(\"roc_auc_per_digit\", roc_auc_dict)"
   ]
  },
  {
   "cell_type": "markdown",
   "id": "89126d64",
   "metadata": {
    "papermill": {
     "duration": 0.010393,
     "end_time": "2022-07-06T06:55:07.026829",
     "exception": false,
     "start_time": "2022-07-06T06:55:07.016436",
     "status": "completed"
    },
    "tags": []
   },
   "source": [
    "### Compute and log mean ROC AUC score averaged over all digits"
   ]
  },
  {
   "cell_type": "code",
   "execution_count": 19,
   "id": "544c926a",
   "metadata": {
    "execution": {
     "iopub.execute_input": "2022-07-06T06:55:07.047170Z",
     "iopub.status.busy": "2022-07-06T06:55:07.046636Z",
     "iopub.status.idle": "2022-07-06T06:55:07.070863Z",
     "shell.execute_reply": "2022-07-06T06:55:07.069971Z"
    },
    "papermill": {
     "duration": 0.037082,
     "end_time": "2022-07-06T06:55:07.074325",
     "exception": false,
     "start_time": "2022-07-06T06:55:07.037243",
     "status": "completed"
    },
    "tags": []
   },
   "outputs": [
    {
     "name": "stdout",
     "output_type": "stream",
     "text": [
      " - Logging roc_auc_class_mean (float) : 0.9988898559545915\n"
     ]
    }
   ],
   "source": [
    "roc_auc_macro = np.mean(list(roc_auc_dict.values()))\n",
    "\n",
    "logger.log_float(\"roc_auc_class_mean\", roc_auc_macro)\n",
    "\n",
    "# assert that the same value can be computed directly using sklearn\n",
    "assert roc_auc_macro == metrics.roc_auc_score(\n",
    "    y_test, y_pred_probs_test, average=\"macro\", multi_class=\"ovr\"\n",
    ")"
   ]
  },
  {
   "cell_type": "code",
   "execution_count": 20,
   "id": "5ac8ea91",
   "metadata": {
    "execution": {
     "iopub.execute_input": "2022-07-06T06:55:07.095526Z",
     "iopub.status.busy": "2022-07-06T06:55:07.094541Z",
     "iopub.status.idle": "2022-07-06T06:55:07.099666Z",
     "shell.execute_reply": "2022-07-06T06:55:07.098766Z"
    },
    "lines_to_next_cell": 0,
    "papermill": {
     "duration": 0.022326,
     "end_time": "2022-07-06T06:55:07.105683",
     "exception": false,
     "start_time": "2022-07-06T06:55:07.083357",
     "status": "completed"
    },
    "tags": []
   },
   "outputs": [],
   "source": [
    "# ---"
   ]
  },
  {
   "cell_type": "code",
   "execution_count": null,
   "id": "a3fc258b",
   "metadata": {
    "papermill": {
     "duration": 0.010645,
     "end_time": "2022-07-06T06:55:07.132190",
     "exception": false,
     "start_time": "2022-07-06T06:55:07.121545",
     "status": "completed"
    },
    "tags": []
   },
   "outputs": [],
   "source": []
  }
 ],
 "metadata": {
  "jupytext": {
   "cell_metadata_filter": "tags,-all",
   "main_language": "python",
   "notebook_metadata_filter": "-all"
  },
  "language_info": {
   "codemirror_mode": {
    "name": "ipython",
    "version": 3
   },
   "file_extension": ".py",
   "mimetype": "text/x-python",
   "name": "python",
   "nbconvert_exporter": "python",
   "pygments_lexer": "ipython3",
   "version": "3.8.10"
  },
  "papermill": {
   "default_parameters": {},
   "duration": 21.768943,
   "end_time": "2022-07-06T06:55:08.884879",
   "environment_variables": {},
   "exception": null,
   "input_path": "/home/host_user/workspace/mnist-demo-pipeline/mnist-demo-pipeline/notebooks/temp-notebook-67pne30x.ipynb",
   "output_path": "notebooks/benchmark-model.ipynb",
   "parameters": {
    "P": {
     "_opentelemetry_traceparent": "00-8cb03d06324d6ba3c821f9057abe8c9c-de4763db1ccc7565-01",
     "pipeline.data_lake_root": "/pipeline-outputs/data-lake",
     "pipeline.github.actor": "matiasdahl",
     "pipeline.github.base_ref": "",
     "pipeline.github.event_name": "schedule",
     "pipeline.github.head_ref": "",
     "pipeline.github.job": "run-tests-pipeline-and-persist-pipeline-outputs",
     "pipeline.github.ref": "refs/heads/development",
     "pipeline.github.ref_name": "development",
     "pipeline.github.ref_type": "branch",
     "pipeline.github.repository": "pynb-dag-runner/mnist-digits-demo-pipeline",
     "pipeline.github.run_id": "2620912334",
     "pipeline.github.runner_name": "Hosted Agent",
     "pipeline.github.sha": "f934c58f68028b7bb026059d4e87e6d32a1bbd20",
     "pipeline.github.workflow": "Run automated tests, pipeline and deploy results to static reporting site",
     "pipeline.pipeline_run_id": "fea682e4-3793-4c0e-9ed3-6f31763c070a",
     "pipeline.run_environment": "ci",
     "run.retry_nr": "0",
     "task.max_nr_retries": "1",
     "task.notebook": "notebooks/benchmark-model.py",
     "task.nr_train_images": 800,
     "task.num_cpus": 1,
     "task.timeout_s": "None"
    }
   },
   "start_time": "2022-07-06T06:54:47.115936",
   "version": "2.3.3"
  }
 },
 "nbformat": 4,
 "nbformat_minor": 5
}