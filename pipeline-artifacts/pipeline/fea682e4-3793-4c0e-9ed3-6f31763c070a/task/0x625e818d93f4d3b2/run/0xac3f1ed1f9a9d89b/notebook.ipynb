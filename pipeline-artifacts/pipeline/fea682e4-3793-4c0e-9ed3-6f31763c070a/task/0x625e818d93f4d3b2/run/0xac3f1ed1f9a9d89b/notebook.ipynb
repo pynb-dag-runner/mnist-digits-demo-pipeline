{
 "cells": [
  {
   "cell_type": "markdown",
   "id": "d201ab3d",
   "metadata": {
    "papermill": {
     "duration": 0.007755,
     "end_time": "2022-07-06T06:53:46.856387",
     "exception": false,
     "start_time": "2022-07-06T06:53:46.848632",
     "status": "completed"
    },
    "tags": []
   },
   "source": [
    "# Ingest toy version of MNIST digit data from sklearn"
   ]
  },
  {
   "cell_type": "markdown",
   "id": "7bbe8119",
   "metadata": {
    "papermill": {
     "duration": 0.007384,
     "end_time": "2022-07-06T06:53:46.873806",
     "exception": false,
     "start_time": "2022-07-06T06:53:46.866422",
     "status": "completed"
    },
    "tags": []
   },
   "source": [
    "### Determine run parameters"
   ]
  },
  {
   "cell_type": "code",
   "execution_count": 1,
   "id": "e0714f32",
   "metadata": {
    "execution": {
     "iopub.execute_input": "2022-07-06T06:53:46.886879Z",
     "iopub.status.busy": "2022-07-06T06:53:46.886481Z",
     "iopub.status.idle": "2022-07-06T06:53:46.900192Z",
     "shell.execute_reply": "2022-07-06T06:53:46.898788Z"
    },
    "lines_to_next_cell": 0,
    "papermill": {
     "duration": 0.024944,
     "end_time": "2022-07-06T06:53:46.902675",
     "exception": false,
     "start_time": "2022-07-06T06:53:46.877731",
     "status": "completed"
    },
    "tags": []
   },
   "outputs": [],
   "source": [
    "# ----------------- Parameters for interactive development --------------\n",
    "P = {\n",
    "    \"pipeline.run_environment\": \"dev\",\n",
    "    \"pipeline.data_lake_root\": \"/pipeline-outputs/data-lake\",\n",
    "    \"run.retry_nr\": \"1\",\n",
    "}"
   ]
  },
  {
   "cell_type": "code",
   "execution_count": 2,
   "id": "7395fb7e",
   "metadata": {
    "execution": {
     "iopub.execute_input": "2022-07-06T06:53:46.914032Z",
     "iopub.status.busy": "2022-07-06T06:53:46.913039Z",
     "iopub.status.idle": "2022-07-06T06:53:46.919205Z",
     "shell.execute_reply": "2022-07-06T06:53:46.918153Z"
    },
    "lines_to_next_cell": 0,
    "papermill": {
     "duration": 0.017774,
     "end_time": "2022-07-06T06:53:46.923886",
     "exception": false,
     "start_time": "2022-07-06T06:53:46.906112",
     "status": "completed"
    },
    "tags": [
     "parameters"
    ]
   },
   "outputs": [],
   "source": [
    "# - During automated runs parameters will be injected in the below cell -"
   ]
  },
  {
   "cell_type": "code",
   "execution_count": 3,
   "id": "85694f7d",
   "metadata": {
    "execution": {
     "iopub.execute_input": "2022-07-06T06:53:46.932519Z",
     "iopub.status.busy": "2022-07-06T06:53:46.932031Z",
     "iopub.status.idle": "2022-07-06T06:53:46.938535Z",
     "shell.execute_reply": "2022-07-06T06:53:46.937471Z"
    },
    "papermill": {
     "duration": 0.013207,
     "end_time": "2022-07-06T06:53:46.940498",
     "exception": false,
     "start_time": "2022-07-06T06:53:46.927291",
     "status": "completed"
    },
    "tags": [
     "injected-parameters"
    ]
   },
   "outputs": [],
   "source": [
    "# Parameters\n",
    "P = {\n",
    "    \"pipeline.data_lake_root\": \"/pipeline-outputs/data-lake\",\n",
    "    \"pipeline.run_environment\": \"ci\",\n",
    "    \"pipeline.pipeline_run_id\": \"fea682e4-3793-4c0e-9ed3-6f31763c070a\",\n",
    "    \"pipeline.github.repository\": \"pynb-dag-runner/mnist-digits-demo-pipeline\",\n",
    "    \"pipeline.github.workflow\": \"Run automated tests, pipeline and deploy results to static reporting site\",\n",
    "    \"pipeline.github.runner_name\": \"Hosted Agent\",\n",
    "    \"pipeline.github.run_id\": \"2620912334\",\n",
    "    \"pipeline.github.actor\": \"matiasdahl\",\n",
    "    \"pipeline.github.job\": \"run-tests-pipeline-and-persist-pipeline-outputs\",\n",
    "    \"pipeline.github.base_ref\": \"\",\n",
    "    \"pipeline.github.head_ref\": \"\",\n",
    "    \"pipeline.github.sha\": \"f934c58f68028b7bb026059d4e87e6d32a1bbd20\",\n",
    "    \"pipeline.github.ref\": \"refs/heads/development\",\n",
    "    \"pipeline.github.ref_type\": \"branch\",\n",
    "    \"pipeline.github.ref_name\": \"development\",\n",
    "    \"pipeline.github.event_name\": \"schedule\",\n",
    "    \"task.notebook\": \"notebooks/ingest.py\",\n",
    "    \"task.max_nr_retries\": \"15\",\n",
    "    \"run.retry_nr\": \"10\",\n",
    "    \"task.timeout_s\": \"10\",\n",
    "    \"task.num_cpus\": 1,\n",
    "    \"_opentelemetry_traceparent\": \"00-8cb03d06324d6ba3c821f9057abe8c9c-6a2ce7be5232d970-01\",\n",
    "}\n"
   ]
  },
  {
   "cell_type": "code",
   "execution_count": 4,
   "id": "097e3049",
   "metadata": {
    "execution": {
     "iopub.execute_input": "2022-07-06T06:53:46.948999Z",
     "iopub.status.busy": "2022-07-06T06:53:46.948336Z",
     "iopub.status.idle": "2022-07-06T06:53:46.952943Z",
     "shell.execute_reply": "2022-07-06T06:53:46.951925Z"
    },
    "lines_to_next_cell": 0,
    "papermill": {
     "duration": 0.015756,
     "end_time": "2022-07-06T06:53:46.959426",
     "exception": false,
     "start_time": "2022-07-06T06:53:46.943670",
     "status": "completed"
    },
    "tags": []
   },
   "outputs": [],
   "source": [
    "# -----------------------------------------------------------------------"
   ]
  },
  {
   "cell_type": "markdown",
   "id": "de8031c2",
   "metadata": {
    "lines_to_next_cell": 2,
    "papermill": {
     "duration": 0.003425,
     "end_time": "2022-07-06T06:53:46.966030",
     "exception": false,
     "start_time": "2022-07-06T06:53:46.962605",
     "status": "completed"
    },
    "tags": []
   },
   "source": [
    "---"
   ]
  },
  {
   "cell_type": "markdown",
   "id": "c1465562",
   "metadata": {
    "papermill": {
     "duration": 0.003552,
     "end_time": "2022-07-06T06:53:46.973090",
     "exception": false,
     "start_time": "2022-07-06T06:53:46.969538",
     "status": "completed"
    },
    "tags": []
   },
   "source": [
    "### Simulate different types of failures (for testing timeout and retry logic)"
   ]
  },
  {
   "cell_type": "code",
   "execution_count": 5,
   "id": "0b465e88",
   "metadata": {
    "execution": {
     "iopub.execute_input": "2022-07-06T06:53:46.985501Z",
     "iopub.status.busy": "2022-07-06T06:53:46.981878Z",
     "iopub.status.idle": "2022-07-06T06:53:47.682472Z",
     "shell.execute_reply": "2022-07-06T06:53:47.681290Z"
    },
    "papermill": {
     "duration": 0.713843,
     "end_time": "2022-07-06T06:53:47.691394",
     "exception": false,
     "start_time": "2022-07-06T06:53:46.977551",
     "status": "completed"
    },
    "tags": []
   },
   "outputs": [
    {
     "name": "stderr",
     "output_type": "stream",
     "text": [
      "2022-07-06 06:53:47,492\tINFO worker.py:842 -- Connecting to existing Ray cluster at address: 172.17.0.2:6379\n"
     ]
    }
   ],
   "source": [
    "from pynb_dag_runner.tasks.task_opentelemetry_logging import PydarLogger\n",
    "\n",
    "logger = PydarLogger(P)"
   ]
  },
  {
   "cell_type": "code",
   "execution_count": 6,
   "id": "14dfea86",
   "metadata": {
    "execution": {
     "iopub.execute_input": "2022-07-06T06:53:47.709257Z",
     "iopub.status.busy": "2022-07-06T06:53:47.708449Z",
     "iopub.status.idle": "2022-07-06T06:53:47.725658Z",
     "shell.execute_reply": "2022-07-06T06:53:47.724517Z"
    },
    "papermill": {
     "duration": 0.030208,
     "end_time": "2022-07-06T06:53:47.728497",
     "exception": false,
     "start_time": "2022-07-06T06:53:47.698289",
     "status": "completed"
    },
    "tags": []
   },
   "outputs": [],
   "source": [
    "import time, random\n",
    "\n",
    "\n",
    "def maybe_crash(retry_nr: int, run_environment: str):\n",
    "    if retry_nr == 2 and run_environment == \"ci\":\n",
    "        time.sleep(1e6)\n",
    "\n",
    "    max_retry_nr: int = 3 if run_environment == \"dev\" else 10\n",
    "\n",
    "    if retry_nr < max_retry_nr:\n",
    "        if random.random() < 0.1:\n",
    "            time.sleep(1e6)\n",
    "        else:\n",
    "            raise Exception(\"Simulated exception failure from ingestion step notebook!\")\n",
    "\n",
    "\n",
    "maybe_crash(\n",
    "    retry_nr=int(P[\"run.retry_nr\"]), run_environment=P[\"pipeline.run_environment\"]\n",
    ")"
   ]
  },
  {
   "cell_type": "markdown",
   "id": "5f40e2a0",
   "metadata": {
    "lines_to_next_cell": 2,
    "papermill": {
     "duration": 0.018367,
     "end_time": "2022-07-06T06:53:47.754257",
     "exception": false,
     "start_time": "2022-07-06T06:53:47.735890",
     "status": "completed"
    },
    "tags": []
   },
   "source": [
    "### Notebook code"
   ]
  },
  {
   "cell_type": "code",
   "execution_count": 7,
   "id": "7405bf1d",
   "metadata": {
    "execution": {
     "iopub.execute_input": "2022-07-06T06:53:47.779600Z",
     "iopub.status.busy": "2022-07-06T06:53:47.778963Z",
     "iopub.status.idle": "2022-07-06T06:53:49.995729Z",
     "shell.execute_reply": "2022-07-06T06:53:49.994334Z"
    },
    "papermill": {
     "duration": 2.234745,
     "end_time": "2022-07-06T06:53:49.998375",
     "exception": false,
     "start_time": "2022-07-06T06:53:47.763630",
     "status": "completed"
    },
    "tags": []
   },
   "outputs": [],
   "source": [
    "from sklearn import datasets\n",
    "\n",
    "#\n",
    "from common.io import datalake_root, write_numpy"
   ]
  },
  {
   "cell_type": "code",
   "execution_count": 8,
   "id": "9c741dd7",
   "metadata": {
    "execution": {
     "iopub.execute_input": "2022-07-06T06:53:50.018123Z",
     "iopub.status.busy": "2022-07-06T06:53:50.017236Z",
     "iopub.status.idle": "2022-07-06T06:53:50.037562Z",
     "shell.execute_reply": "2022-07-06T06:53:50.036503Z"
    },
    "lines_to_next_cell": 2,
    "papermill": {
     "duration": 0.03669,
     "end_time": "2022-07-06T06:53:50.040814",
     "exception": false,
     "start_time": "2022-07-06T06:53:50.004124",
     "status": "completed"
    },
    "tags": []
   },
   "outputs": [],
   "source": [
    "digits = datasets.load_digits()\n",
    "\n",
    "X = digits[\"data\"]\n",
    "y = digits[\"target\"]"
   ]
  },
  {
   "cell_type": "code",
   "execution_count": 9,
   "id": "9ff0734e",
   "metadata": {
    "execution": {
     "iopub.execute_input": "2022-07-06T06:53:50.052648Z",
     "iopub.status.busy": "2022-07-06T06:53:50.051949Z",
     "iopub.status.idle": "2022-07-06T06:53:50.070564Z",
     "shell.execute_reply": "2022-07-06T06:53:50.069366Z"
    },
    "papermill": {
     "duration": 0.029169,
     "end_time": "2022-07-06T06:53:50.075409",
     "exception": false,
     "start_time": "2022-07-06T06:53:50.046240",
     "status": "completed"
    },
    "tags": []
   },
   "outputs": [
    {
     "name": "stdout",
     "output_type": "stream",
     "text": [
      " - Logging data_shape (json) : [1797, 64]\n",
      " - Logging target_shape (json) : [1797]\n"
     ]
    },
    {
     "data": {
      "text/plain": [
       "((1797, 64), (1797,))"
      ]
     },
     "execution_count": 9,
     "metadata": {},
     "output_type": "execute_result"
    }
   ],
   "source": [
    "logger.log_value(\"data_shape\", list(X.shape))\n",
    "logger.log_value(\"target_shape\", list(y.shape))\n",
    "\n",
    "X.shape, y.shape"
   ]
  },
  {
   "cell_type": "code",
   "execution_count": 10,
   "id": "d87c1f20",
   "metadata": {
    "execution": {
     "iopub.execute_input": "2022-07-06T06:53:50.088872Z",
     "iopub.status.busy": "2022-07-06T06:53:50.087463Z",
     "iopub.status.idle": "2022-07-06T06:53:50.109807Z",
     "shell.execute_reply": "2022-07-06T06:53:50.102091Z"
    },
    "papermill": {
     "duration": 0.037815,
     "end_time": "2022-07-06T06:53:50.119590",
     "exception": false,
     "start_time": "2022-07-06T06:53:50.081775",
     "status": "completed"
    },
    "tags": []
   },
   "outputs": [],
   "source": [
    "write_numpy(datalake_root(P) / \"raw\" / \"digits.numpy\", X)\n",
    "write_numpy(datalake_root(P) / \"raw\" / \"labels.numpy\", y)"
   ]
  },
  {
   "cell_type": "code",
   "execution_count": null,
   "id": "a711b087",
   "metadata": {
    "papermill": {
     "duration": 0.007104,
     "end_time": "2022-07-06T06:53:50.130648",
     "exception": false,
     "start_time": "2022-07-06T06:53:50.123544",
     "status": "completed"
    },
    "tags": []
   },
   "outputs": [],
   "source": []
  }
 ],
 "metadata": {
  "jupytext": {
   "cell_metadata_filter": "tags,-all",
   "main_language": "python",
   "notebook_metadata_filter": "-all"
  },
  "language_info": {
   "codemirror_mode": {
    "name": "ipython",
    "version": 3
   },
   "file_extension": ".py",
   "mimetype": "text/x-python",
   "name": "python",
   "nbconvert_exporter": "python",
   "pygments_lexer": "ipython3",
   "version": "3.8.10"
  },
  "papermill": {
   "default_parameters": {},
   "duration": 6.390453,
   "end_time": "2022-07-06T06:53:51.357489",
   "environment_variables": {},
   "exception": null,
   "input_path": "/home/host_user/workspace/mnist-demo-pipeline/mnist-demo-pipeline/notebooks/temp-notebook-x6at62wx.ipynb",
   "output_path": "notebooks/ingest.ipynb",
   "parameters": {
    "P": {
     "_opentelemetry_traceparent": "00-8cb03d06324d6ba3c821f9057abe8c9c-6a2ce7be5232d970-01",
     "pipeline.data_lake_root": "/pipeline-outputs/data-lake",
     "pipeline.github.actor": "matiasdahl",
     "pipeline.github.base_ref": "",
     "pipeline.github.event_name": "schedule",
     "pipeline.github.head_ref": "",
     "pipeline.github.job": "run-tests-pipeline-and-persist-pipeline-outputs",
     "pipeline.github.ref": "refs/heads/development",
     "pipeline.github.ref_name": "development",
     "pipeline.github.ref_type": "branch",
     "pipeline.github.repository": "pynb-dag-runner/mnist-digits-demo-pipeline",
     "pipeline.github.run_id": "2620912334",
     "pipeline.github.runner_name": "Hosted Agent",
     "pipeline.github.sha": "f934c58f68028b7bb026059d4e87e6d32a1bbd20",
     "pipeline.github.workflow": "Run automated tests, pipeline and deploy results to static reporting site",
     "pipeline.pipeline_run_id": "fea682e4-3793-4c0e-9ed3-6f31763c070a",
     "pipeline.run_environment": "ci",
     "run.retry_nr": "10",
     "task.max_nr_retries": "15",
     "task.notebook": "notebooks/ingest.py",
     "task.num_cpus": 1,
     "task.timeout_s": "10"
    }
   },
   "start_time": "2022-07-06T06:53:44.967036",
   "version": "2.3.3"
  }
 },
 "nbformat": 4,
 "nbformat_minor": 5
}