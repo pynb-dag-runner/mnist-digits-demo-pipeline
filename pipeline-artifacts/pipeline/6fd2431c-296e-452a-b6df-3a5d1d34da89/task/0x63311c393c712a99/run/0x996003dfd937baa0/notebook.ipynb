{
 "cells": [
  {
   "cell_type": "markdown",
   "id": "04086261",
   "metadata": {
    "papermill": {
     "duration": 0.004325,
     "end_time": "2022-07-07T15:48:48.816573",
     "exception": false,
     "start_time": "2022-07-07T15:48:48.812248",
     "status": "completed"
    },
    "tags": []
   },
   "source": [
    "# Train model\n",
    "\n",
    "The purpose of this notebook is:\n",
    "\n",
    "- Load all training data (images and labels).\n",
    "- Limit number of train images to `task.nr_train_images` (value provided as run parameter).\n",
    "- Train a support vector machine model using sklearn.\n",
    "- Persist the trained model using the ONNX format."
   ]
  },
  {
   "cell_type": "markdown",
   "id": "5ca33bb0",
   "metadata": {
    "papermill": {
     "duration": 0.003212,
     "end_time": "2022-07-07T15:48:48.823111",
     "exception": false,
     "start_time": "2022-07-07T15:48:48.819899",
     "status": "completed"
    },
    "tags": []
   },
   "source": [
    "### Determine run parameters"
   ]
  },
  {
   "cell_type": "code",
   "execution_count": 1,
   "id": "6b037abf",
   "metadata": {
    "execution": {
     "iopub.execute_input": "2022-07-07T15:48:48.830288Z",
     "iopub.status.busy": "2022-07-07T15:48:48.829976Z",
     "iopub.status.idle": "2022-07-07T15:48:48.838089Z",
     "shell.execute_reply": "2022-07-07T15:48:48.837542Z"
    },
    "lines_to_next_cell": 0,
    "papermill": {
     "duration": 0.01439,
     "end_time": "2022-07-07T15:48:48.840482",
     "exception": false,
     "start_time": "2022-07-07T15:48:48.826092",
     "status": "completed"
    },
    "tags": []
   },
   "outputs": [],
   "source": [
    "# ----------------- Parameters for interactive development --------------\n",
    "P = {\n",
    "    \"pipeline.data_lake_root\": \"/pipeline-outputs/data-lake\",\n",
    "    \"task.nr_train_images\": 600,\n",
    "}"
   ]
  },
  {
   "cell_type": "code",
   "execution_count": 2,
   "id": "4e6cf605",
   "metadata": {
    "execution": {
     "iopub.execute_input": "2022-07-07T15:48:48.848053Z",
     "iopub.status.busy": "2022-07-07T15:48:48.847789Z",
     "iopub.status.idle": "2022-07-07T15:48:48.851143Z",
     "shell.execute_reply": "2022-07-07T15:48:48.850638Z"
    },
    "lines_to_next_cell": 0,
    "papermill": {
     "duration": 0.013286,
     "end_time": "2022-07-07T15:48:48.857121",
     "exception": false,
     "start_time": "2022-07-07T15:48:48.843835",
     "status": "completed"
    },
    "tags": [
     "parameters"
    ]
   },
   "outputs": [],
   "source": [
    "# - During automated runs parameters will be injected in the below cell -"
   ]
  },
  {
   "cell_type": "code",
   "execution_count": 3,
   "id": "2d2f24c9",
   "metadata": {
    "execution": {
     "iopub.execute_input": "2022-07-07T15:48:48.865089Z",
     "iopub.status.busy": "2022-07-07T15:48:48.864837Z",
     "iopub.status.idle": "2022-07-07T15:48:48.869972Z",
     "shell.execute_reply": "2022-07-07T15:48:48.869166Z"
    },
    "papermill": {
     "duration": 0.012604,
     "end_time": "2022-07-07T15:48:48.872636",
     "exception": false,
     "start_time": "2022-07-07T15:48:48.860032",
     "status": "completed"
    },
    "tags": [
     "injected-parameters"
    ]
   },
   "outputs": [],
   "source": [
    "# Parameters\n",
    "P = {\n",
    "    \"pipeline.data_lake_root\": \"/pipeline-outputs/data-lake\",\n",
    "    \"pipeline.run_environment\": \"ci\",\n",
    "    \"pipeline.pipeline_run_id\": \"6fd2431c-296e-452a-b6df-3a5d1d34da89\",\n",
    "    \"pipeline.github.repository\": \"pynb-dag-runner/mnist-digits-demo-pipeline\",\n",
    "    \"pipeline.github.workflow\": \"Run automated tests, pipeline and deploy results to static reporting site\",\n",
    "    \"pipeline.github.runner_name\": \"Hosted Agent\",\n",
    "    \"pipeline.github.run_id\": \"2630712818\",\n",
    "    \"pipeline.github.actor\": \"matiasdahl\",\n",
    "    \"pipeline.github.job\": \"run-tests-pipeline-and-persist-pipeline-outputs\",\n",
    "    \"pipeline.github.base_ref\": \"\",\n",
    "    \"pipeline.github.head_ref\": \"\",\n",
    "    \"pipeline.github.sha\": \"147a1be9916173fd4d2cd011d8d51e3411215850\",\n",
    "    \"pipeline.github.ref\": \"refs/heads/development\",\n",
    "    \"pipeline.github.ref_type\": \"branch\",\n",
    "    \"pipeline.github.ref_name\": \"development\",\n",
    "    \"pipeline.github.event_name\": \"push\",\n",
    "    \"task.nr_train_images\": 1200,\n",
    "    \"task.notebook\": \"notebooks/train-model.py\",\n",
    "    \"task.max_nr_retries\": \"1\",\n",
    "    \"run.retry_nr\": \"0\",\n",
    "    \"task.timeout_s\": \"None\",\n",
    "    \"task.num_cpus\": 1,\n",
    "    \"_opentelemetry_traceparent\": \"00-7d9d1459647cd31c9dab47dd67e7015d-3a25b0d2aa0cf2be-01\",\n",
    "}\n"
   ]
  },
  {
   "cell_type": "code",
   "execution_count": 4,
   "id": "fedbecc0",
   "metadata": {
    "execution": {
     "iopub.execute_input": "2022-07-07T15:48:48.879812Z",
     "iopub.status.busy": "2022-07-07T15:48:48.879567Z",
     "iopub.status.idle": "2022-07-07T15:48:48.882817Z",
     "shell.execute_reply": "2022-07-07T15:48:48.882003Z"
    },
    "lines_to_next_cell": 0,
    "papermill": {
     "duration": 0.009891,
     "end_time": "2022-07-07T15:48:48.885428",
     "exception": false,
     "start_time": "2022-07-07T15:48:48.875537",
     "status": "completed"
    },
    "tags": []
   },
   "outputs": [],
   "source": [
    "# -----------------------------------------------------------------------"
   ]
  },
  {
   "cell_type": "markdown",
   "id": "27203ec0",
   "metadata": {
    "papermill": {
     "duration": 0.002942,
     "end_time": "2022-07-07T15:48:48.891551",
     "exception": false,
     "start_time": "2022-07-07T15:48:48.888609",
     "status": "completed"
    },
    "tags": []
   },
   "source": [
    "---"
   ]
  },
  {
   "cell_type": "markdown",
   "id": "a3f71ac8",
   "metadata": {
    "lines_to_next_cell": 2,
    "papermill": {
     "duration": 0.002741,
     "end_time": "2022-07-07T15:48:48.897426",
     "exception": false,
     "start_time": "2022-07-07T15:48:48.894685",
     "status": "completed"
    },
    "tags": []
   },
   "source": [
    "### Notebook code"
   ]
  },
  {
   "cell_type": "code",
   "execution_count": 5,
   "id": "a198efb1",
   "metadata": {
    "execution": {
     "iopub.execute_input": "2022-07-07T15:48:48.904997Z",
     "iopub.status.busy": "2022-07-07T15:48:48.904734Z",
     "iopub.status.idle": "2022-07-07T15:48:49.419292Z",
     "shell.execute_reply": "2022-07-07T15:48:49.418471Z"
    },
    "papermill": {
     "duration": 0.520398,
     "end_time": "2022-07-07T15:48:49.421122",
     "exception": false,
     "start_time": "2022-07-07T15:48:48.900724",
     "status": "completed"
    },
    "tags": []
   },
   "outputs": [
    {
     "name": "stderr",
     "output_type": "stream",
     "text": [
      "2022-07-07 15:48:49,235\tINFO worker.py:842 -- Connecting to existing Ray cluster at address: 172.17.0.2:6379\n"
     ]
    }
   ],
   "source": [
    "from pynb_dag_runner.tasks.task_opentelemetry_logging import PydarLogger\n",
    "\n",
    "logger = PydarLogger(P)"
   ]
  },
  {
   "cell_type": "markdown",
   "id": "5a82ad4e",
   "metadata": {
    "papermill": {
     "duration": 0.00389,
     "end_time": "2022-07-07T15:48:49.429032",
     "exception": false,
     "start_time": "2022-07-07T15:48:49.425142",
     "status": "completed"
    },
    "tags": []
   },
   "source": [
    "## Load and limit train data"
   ]
  },
  {
   "cell_type": "code",
   "execution_count": 6,
   "id": "3758c3d1",
   "metadata": {
    "execution": {
     "iopub.execute_input": "2022-07-07T15:48:49.436285Z",
     "iopub.status.busy": "2022-07-07T15:48:49.435958Z",
     "iopub.status.idle": "2022-07-07T15:48:49.830603Z",
     "shell.execute_reply": "2022-07-07T15:48:49.829896Z"
    },
    "papermill": {
     "duration": 0.400579,
     "end_time": "2022-07-07T15:48:49.832366",
     "exception": false,
     "start_time": "2022-07-07T15:48:49.431787",
     "status": "completed"
    },
    "tags": []
   },
   "outputs": [],
   "source": [
    "def load_and_limit_train_data(P):\n",
    "    from common.io import datalake_root, read_numpy\n",
    "    from sklearn.model_selection import train_test_split\n",
    "\n",
    "    X_train_all = read_numpy(datalake_root(P) / \"train-data\" / \"digits.numpy\")\n",
    "    y_train_all = read_numpy(datalake_root(P) / \"train-data\" / \"labels.numpy\")\n",
    "\n",
    "    assert isinstance(P[\"task.nr_train_images\"], int)\n",
    "\n",
    "    # Note: train_test_split will fail if split is 0 or 100%.\n",
    "    assert 0 < P[\"task.nr_train_images\"] < len(y_train_all)\n",
    "\n",
    "    X_train, _, y_train, _ = train_test_split(\n",
    "        X_train_all,\n",
    "        y_train_all,\n",
    "        train_size=P[\"task.nr_train_images\"],\n",
    "        test_size=None,\n",
    "        stratify=y_train_all,\n",
    "        shuffle=True,\n",
    "        random_state=123,\n",
    "    )\n",
    "\n",
    "    assert X_train.shape == (len(y_train), 8 * 8)\n",
    "    return X_train, y_train\n",
    "\n",
    "\n",
    "X_train, y_train = load_and_limit_train_data(P)"
   ]
  },
  {
   "cell_type": "markdown",
   "id": "7889db91",
   "metadata": {
    "papermill": {
     "duration": 0.003192,
     "end_time": "2022-07-07T15:48:49.840286",
     "exception": false,
     "start_time": "2022-07-07T15:48:49.837094",
     "status": "completed"
    },
    "tags": []
   },
   "source": [
    "## Train support vector classifier model\n",
    "\n",
    "Below we assume that the hyperparameter $C$ is known.\n",
    "\n",
    "However, this should ideally be found by a hyperparameter search. That could be\n",
    "done in parallel on the Ray cluster, but this needs some more work. Ie., to use\n",
    "multiple cores in the notebook, those cores should be reserved when starting the\n",
    "notebook task (TODO).\n",
    "\n",
    "- https://docs.ray.io/en/latest/tune/key-concepts.html\n",
    "\n",
    "Note: cv-scores would need to be computed here, since they depend on the train data.\n",
    "After this notebook only the onnx-model is available."
   ]
  },
  {
   "cell_type": "code",
   "execution_count": 7,
   "id": "37eee9bc",
   "metadata": {
    "execution": {
     "iopub.execute_input": "2022-07-07T15:48:49.847173Z",
     "iopub.status.busy": "2022-07-07T15:48:49.846902Z",
     "iopub.status.idle": "2022-07-07T15:48:49.867928Z",
     "shell.execute_reply": "2022-07-07T15:48:49.867316Z"
    },
    "papermill": {
     "duration": 0.026741,
     "end_time": "2022-07-07T15:48:49.869763",
     "exception": false,
     "start_time": "2022-07-07T15:48:49.843022",
     "status": "completed"
    },
    "tags": []
   },
   "outputs": [],
   "source": [
    "from sklearn.svm import SVC"
   ]
  },
  {
   "cell_type": "code",
   "execution_count": 8,
   "id": "3ead4560",
   "metadata": {
    "execution": {
     "iopub.execute_input": "2022-07-07T15:48:49.881981Z",
     "iopub.status.busy": "2022-07-07T15:48:49.880965Z",
     "iopub.status.idle": "2022-07-07T15:48:50.088211Z",
     "shell.execute_reply": "2022-07-07T15:48:50.087648Z"
    },
    "papermill": {
     "duration": 0.216664,
     "end_time": "2022-07-07T15:48:50.089852",
     "exception": false,
     "start_time": "2022-07-07T15:48:49.873188",
     "status": "completed"
    },
    "tags": []
   },
   "outputs": [
    {
     "data": {
      "text/plain": [
       "SVC(C=0.001, kernel='linear', probability=True)"
      ]
     },
     "execution_count": 8,
     "metadata": {},
     "output_type": "execute_result"
    }
   ],
   "source": [
    "model = SVC(C=0.001, kernel=\"linear\", probability=True)\n",
    "\n",
    "model.fit(X_train, y_train)"
   ]
  },
  {
   "cell_type": "markdown",
   "id": "1cb9b303",
   "metadata": {
    "papermill": {
     "duration": 0.003449,
     "end_time": "2022-07-07T15:48:50.096815",
     "exception": false,
     "start_time": "2022-07-07T15:48:50.093366",
     "status": "completed"
    },
    "tags": []
   },
   "source": [
    "### Q: Can the labels returned by `predict(..)` be computed from probabilities returned by the `predict_prob`-method?"
   ]
  },
  {
   "cell_type": "code",
   "execution_count": 9,
   "id": "a438dd7b",
   "metadata": {
    "execution": {
     "iopub.execute_input": "2022-07-07T15:48:50.103971Z",
     "iopub.status.busy": "2022-07-07T15:48:50.103696Z",
     "iopub.status.idle": "2022-07-07T15:48:50.211158Z",
     "shell.execute_reply": "2022-07-07T15:48:50.210595Z"
    },
    "papermill": {
     "duration": 0.11306,
     "end_time": "2022-07-07T15:48:50.212801",
     "exception": false,
     "start_time": "2022-07-07T15:48:50.099741",
     "status": "completed"
    },
    "tags": []
   },
   "outputs": [
    {
     "name": "stdout",
     "output_type": "stream",
     "text": [
      " - Logging nr_max_prob_neq_label (int) : 3\n"
     ]
    }
   ],
   "source": [
    "import numpy as np\n",
    "\n",
    "y_train_labels = model.predict(X_train)\n",
    "y_train_probabilities = model.predict_proba(X_train)\n",
    "assert y_train_probabilities.shape == (len(y_train), 10)\n",
    "\n",
    "y_train_max_prob_labels = np.argmax(y_train_probabilities, axis=1)\n",
    "assert y_train_labels.shape == y_train_max_prob_labels.shape == y_train.shape\n",
    "\n",
    "# If the predicted labels would coincide with the labels that have\n",
    "# maximum probability, the below number would be zero\n",
    "logger.log_int(\n",
    "    \"nr_max_prob_neq_label\", int(sum(y_train_max_prob_labels != y_train_labels))\n",
    ")"
   ]
  },
  {
   "cell_type": "markdown",
   "id": "ad84def3",
   "metadata": {
    "papermill": {
     "duration": 0.003467,
     "end_time": "2022-07-07T15:48:50.219597",
     "exception": false,
     "start_time": "2022-07-07T15:48:50.216130",
     "status": "completed"
    },
    "tags": []
   },
   "source": [
    "The explanation is (likely) explained in the SVC source, see\n",
    "[here](https://github.com/scikit-learn/scikit-learn/blob/main/sklearn/svm/_base.py).\n",
    "Namely, the outputs from `predict(..)` and `predict_proba(..)` may not in some\n",
    "cases be compatible since the latter is computed using cross-validation while\n",
    "the former is not. Thus, the above number need not be zero."
   ]
  },
  {
   "cell_type": "markdown",
   "id": "a5f70d1c",
   "metadata": {
    "papermill": {
     "duration": 0.003185,
     "end_time": "2022-07-07T15:48:50.226140",
     "exception": false,
     "start_time": "2022-07-07T15:48:50.222955",
     "status": "completed"
    },
    "tags": []
   },
   "source": [
    "## Persist model"
   ]
  },
  {
   "cell_type": "code",
   "execution_count": 10,
   "id": "ed2c6ae1",
   "metadata": {
    "execution": {
     "iopub.execute_input": "2022-07-07T15:48:50.234510Z",
     "iopub.status.busy": "2022-07-07T15:48:50.234242Z",
     "iopub.status.idle": "2022-07-07T15:48:50.975251Z",
     "shell.execute_reply": "2022-07-07T15:48:50.974640Z"
    },
    "papermill": {
     "duration": 0.747758,
     "end_time": "2022-07-07T15:48:50.977070",
     "exception": false,
     "start_time": "2022-07-07T15:48:50.229312",
     "status": "completed"
    },
    "tags": []
   },
   "outputs": [],
   "source": [
    "from skl2onnx import convert_sklearn\n",
    "from skl2onnx.common.data_types import FloatTensorType\n",
    "\n",
    "#\n",
    "from common.io import datalake_root, write_onnx"
   ]
  },
  {
   "cell_type": "code",
   "execution_count": 11,
   "id": "a55356b2",
   "metadata": {
    "execution": {
     "iopub.execute_input": "2022-07-07T15:48:50.985984Z",
     "iopub.status.busy": "2022-07-07T15:48:50.985468Z",
     "iopub.status.idle": "2022-07-07T15:48:51.044130Z",
     "shell.execute_reply": "2022-07-07T15:48:51.043462Z"
    },
    "papermill": {
     "duration": 0.065718,
     "end_time": "2022-07-07T15:48:51.046251",
     "exception": false,
     "start_time": "2022-07-07T15:48:50.980533",
     "status": "completed"
    },
    "tags": []
   },
   "outputs": [],
   "source": [
    "# convert sklearn model into onnx and persist to data lake\n",
    "\n",
    "model_onnx = convert_sklearn(\n",
    "    model, initial_types=[(\"float_input_8x8_image\", FloatTensorType([None, 8 * 8]))]\n",
    ")\n",
    "write_onnx(\n",
    "    datalake_root(P)\n",
    "    / \"models\"\n",
    "    / f\"nr_train_images={P['task.nr_train_images']}\"\n",
    "    / \"model.onnx\",\n",
    "    model_onnx,\n",
    ")"
   ]
  },
  {
   "cell_type": "code",
   "execution_count": null,
   "id": "2ca8175d",
   "metadata": {
    "papermill": {
     "duration": 0.004447,
     "end_time": "2022-07-07T15:48:51.053938",
     "exception": false,
     "start_time": "2022-07-07T15:48:51.049491",
     "status": "completed"
    },
    "tags": []
   },
   "outputs": [],
   "source": []
  }
 ],
 "metadata": {
  "jupytext": {
   "cell_metadata_filter": "tags,-all",
   "main_language": "python",
   "notebook_metadata_filter": "-all"
  },
  "language_info": {
   "codemirror_mode": {
    "name": "ipython",
    "version": 3
   },
   "file_extension": ".py",
   "mimetype": "text/x-python",
   "name": "python",
   "nbconvert_exporter": "python",
   "pygments_lexer": "ipython3",
   "version": "3.8.10"
  },
  "papermill": {
   "default_parameters": {},
   "duration": 4.688573,
   "end_time": "2022-07-07T15:48:52.075414",
   "environment_variables": {},
   "exception": null,
   "input_path": "/home/host_user/workspace/mnist-demo-pipeline/mnist-demo-pipeline/notebooks/temp-notebook-ee9ms5tv.ipynb",
   "output_path": "notebooks/train-model.ipynb",
   "parameters": {
    "P": {
     "_opentelemetry_traceparent": "00-7d9d1459647cd31c9dab47dd67e7015d-3a25b0d2aa0cf2be-01",
     "pipeline.data_lake_root": "/pipeline-outputs/data-lake",
     "pipeline.github.actor": "matiasdahl",
     "pipeline.github.base_ref": "",
     "pipeline.github.event_name": "push",
     "pipeline.github.head_ref": "",
     "pipeline.github.job": "run-tests-pipeline-and-persist-pipeline-outputs",
     "pipeline.github.ref": "refs/heads/development",
     "pipeline.github.ref_name": "development",
     "pipeline.github.ref_type": "branch",
     "pipeline.github.repository": "pynb-dag-runner/mnist-digits-demo-pipeline",
     "pipeline.github.run_id": "2630712818",
     "pipeline.github.runner_name": "Hosted Agent",
     "pipeline.github.sha": "147a1be9916173fd4d2cd011d8d51e3411215850",
     "pipeline.github.workflow": "Run automated tests, pipeline and deploy results to static reporting site",
     "pipeline.pipeline_run_id": "6fd2431c-296e-452a-b6df-3a5d1d34da89",
     "pipeline.run_environment": "ci",
     "run.retry_nr": "0",
     "task.max_nr_retries": "1",
     "task.notebook": "notebooks/train-model.py",
     "task.nr_train_images": 1200,
     "task.num_cpus": 1,
     "task.timeout_s": "None"
    }
   },
   "start_time": "2022-07-07T15:48:47.386841",
   "version": "2.3.3"
  }
 },
 "nbformat": 4,
 "nbformat_minor": 5
}