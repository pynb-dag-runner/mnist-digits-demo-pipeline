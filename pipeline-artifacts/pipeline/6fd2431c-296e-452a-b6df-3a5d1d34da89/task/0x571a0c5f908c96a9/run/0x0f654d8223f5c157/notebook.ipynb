{
 "cells": [
  {
   "cell_type": "markdown",
   "id": "166e9277",
   "metadata": {
    "papermill": {
     "duration": 0.004896,
     "end_time": "2022-07-07T15:49:05.181242",
     "exception": false,
     "start_time": "2022-07-07T15:49:05.176346",
     "status": "completed"
    },
    "tags": []
   },
   "source": [
    "# Benchmark model\n",
    "\n",
    "The purpose of this notebook is to benchmark persisted onnx-model (trained in the\n",
    "previous step) against evaluation set."
   ]
  },
  {
   "cell_type": "markdown",
   "id": "44e2d544",
   "metadata": {
    "papermill": {
     "duration": 0.003909,
     "end_time": "2022-07-07T15:49:05.189074",
     "exception": false,
     "start_time": "2022-07-07T15:49:05.185165",
     "status": "completed"
    },
    "tags": []
   },
   "source": [
    "### Determine run parameters"
   ]
  },
  {
   "cell_type": "code",
   "execution_count": 1,
   "id": "cdf544f8",
   "metadata": {
    "execution": {
     "iopub.execute_input": "2022-07-07T15:49:05.198538Z",
     "iopub.status.busy": "2022-07-07T15:49:05.198220Z",
     "iopub.status.idle": "2022-07-07T15:49:05.210570Z",
     "shell.execute_reply": "2022-07-07T15:49:05.209733Z"
    },
    "lines_to_next_cell": 0,
    "papermill": {
     "duration": 0.019145,
     "end_time": "2022-07-07T15:49:05.212609",
     "exception": false,
     "start_time": "2022-07-07T15:49:05.193464",
     "status": "completed"
    },
    "tags": []
   },
   "outputs": [],
   "source": [
    "# ----------------- Parameters for interactive development --------------\n",
    "P = {\n",
    "    \"pipeline.data_lake_root\": \"/pipeline-outputs/data-lake\",\n",
    "    \"task.nr_train_images\": 600,\n",
    "}"
   ]
  },
  {
   "cell_type": "code",
   "execution_count": 2,
   "id": "8ca41ff8",
   "metadata": {
    "execution": {
     "iopub.execute_input": "2022-07-07T15:49:05.227843Z",
     "iopub.status.busy": "2022-07-07T15:49:05.227596Z",
     "iopub.status.idle": "2022-07-07T15:49:05.231396Z",
     "shell.execute_reply": "2022-07-07T15:49:05.230130Z"
    },
    "lines_to_next_cell": 0,
    "papermill": {
     "duration": 0.013384,
     "end_time": "2022-07-07T15:49:05.234597",
     "exception": false,
     "start_time": "2022-07-07T15:49:05.221213",
     "status": "completed"
    },
    "tags": [
     "parameters"
    ]
   },
   "outputs": [],
   "source": [
    "# - During automated runs parameters will be injected in the below cell -"
   ]
  },
  {
   "cell_type": "code",
   "execution_count": 3,
   "id": "96343c10",
   "metadata": {
    "execution": {
     "iopub.execute_input": "2022-07-07T15:49:05.246606Z",
     "iopub.status.busy": "2022-07-07T15:49:05.246382Z",
     "iopub.status.idle": "2022-07-07T15:49:05.250611Z",
     "shell.execute_reply": "2022-07-07T15:49:05.250147Z"
    },
    "papermill": {
     "duration": 0.013665,
     "end_time": "2022-07-07T15:49:05.255270",
     "exception": false,
     "start_time": "2022-07-07T15:49:05.241605",
     "status": "completed"
    },
    "tags": [
     "injected-parameters"
    ]
   },
   "outputs": [],
   "source": [
    "# Parameters\n",
    "P = {\n",
    "    \"pipeline.data_lake_root\": \"/pipeline-outputs/data-lake\",\n",
    "    \"pipeline.run_environment\": \"ci\",\n",
    "    \"pipeline.pipeline_run_id\": \"6fd2431c-296e-452a-b6df-3a5d1d34da89\",\n",
    "    \"pipeline.github.repository\": \"pynb-dag-runner/mnist-digits-demo-pipeline\",\n",
    "    \"pipeline.github.workflow\": \"Run automated tests, pipeline and deploy results to static reporting site\",\n",
    "    \"pipeline.github.runner_name\": \"Hosted Agent\",\n",
    "    \"pipeline.github.run_id\": \"2630712818\",\n",
    "    \"pipeline.github.actor\": \"matiasdahl\",\n",
    "    \"pipeline.github.job\": \"run-tests-pipeline-and-persist-pipeline-outputs\",\n",
    "    \"pipeline.github.base_ref\": \"\",\n",
    "    \"pipeline.github.head_ref\": \"\",\n",
    "    \"pipeline.github.sha\": \"147a1be9916173fd4d2cd011d8d51e3411215850\",\n",
    "    \"pipeline.github.ref\": \"refs/heads/development\",\n",
    "    \"pipeline.github.ref_type\": \"branch\",\n",
    "    \"pipeline.github.ref_name\": \"development\",\n",
    "    \"pipeline.github.event_name\": \"push\",\n",
    "    \"task.nr_train_images\": 1200,\n",
    "    \"task.notebook\": \"notebooks/benchmark-model.py\",\n",
    "    \"task.max_nr_retries\": \"1\",\n",
    "    \"run.retry_nr\": \"0\",\n",
    "    \"task.timeout_s\": \"None\",\n",
    "    \"task.num_cpus\": 1,\n",
    "    \"_opentelemetry_traceparent\": \"00-7d9d1459647cd31c9dab47dd67e7015d-6399c2b4be0031c2-01\",\n",
    "}\n"
   ]
  },
  {
   "cell_type": "code",
   "execution_count": 4,
   "id": "56fb8823",
   "metadata": {
    "execution": {
     "iopub.execute_input": "2022-07-07T15:49:05.265122Z",
     "iopub.status.busy": "2022-07-07T15:49:05.264820Z",
     "iopub.status.idle": "2022-07-07T15:49:05.267900Z",
     "shell.execute_reply": "2022-07-07T15:49:05.267203Z"
    },
    "lines_to_next_cell": 0,
    "papermill": {
     "duration": 0.010357,
     "end_time": "2022-07-07T15:49:05.269682",
     "exception": false,
     "start_time": "2022-07-07T15:49:05.259325",
     "status": "completed"
    },
    "tags": []
   },
   "outputs": [],
   "source": [
    "# -----------------------------------------------------------------------"
   ]
  },
  {
   "cell_type": "markdown",
   "id": "33290091",
   "metadata": {
    "papermill": {
     "duration": 0.004047,
     "end_time": "2022-07-07T15:49:05.277910",
     "exception": false,
     "start_time": "2022-07-07T15:49:05.273863",
     "status": "completed"
    },
    "tags": []
   },
   "source": [
    "---"
   ]
  },
  {
   "cell_type": "markdown",
   "id": "167bc6f6",
   "metadata": {
    "lines_to_next_cell": 2,
    "papermill": {
     "duration": 0.003948,
     "end_time": "2022-07-07T15:49:05.286189",
     "exception": false,
     "start_time": "2022-07-07T15:49:05.282241",
     "status": "completed"
    },
    "tags": []
   },
   "source": [
    "### Notebook code"
   ]
  },
  {
   "cell_type": "code",
   "execution_count": 5,
   "id": "7c6c4025",
   "metadata": {
    "execution": {
     "iopub.execute_input": "2022-07-07T15:49:05.295628Z",
     "iopub.status.busy": "2022-07-07T15:49:05.295387Z",
     "iopub.status.idle": "2022-07-07T15:49:06.365456Z",
     "shell.execute_reply": "2022-07-07T15:49:06.364693Z"
    },
    "papermill": {
     "duration": 1.077033,
     "end_time": "2022-07-07T15:49:06.367222",
     "exception": false,
     "start_time": "2022-07-07T15:49:05.290189",
     "status": "completed"
    },
    "tags": []
   },
   "outputs": [
    {
     "name": "stderr",
     "output_type": "stream",
     "text": [
      "2022-07-07 15:49:06,190\tINFO worker.py:842 -- Connecting to existing Ray cluster at address: 172.17.0.2:6379\n"
     ]
    }
   ],
   "source": [
    "import itertools as it\n",
    "\n",
    "#\n",
    "import numpy as np\n",
    "import matplotlib.pyplot as plt\n",
    "\n",
    "#\n",
    "from pynb_dag_runner.tasks.task_opentelemetry_logging import PydarLogger\n",
    "\n",
    "#\n",
    "from common.io import datalake_root\n",
    "\n",
    "logger = PydarLogger(P)"
   ]
  },
  {
   "cell_type": "markdown",
   "id": "c44fb0dd",
   "metadata": {
    "papermill": {
     "duration": 0.004077,
     "end_time": "2022-07-07T15:49:06.375326",
     "exception": false,
     "start_time": "2022-07-07T15:49:06.371249",
     "status": "completed"
    },
    "tags": []
   },
   "source": [
    "## Load persisted onnx-model and evaluation data"
   ]
  },
  {
   "cell_type": "code",
   "execution_count": 6,
   "id": "fc8fea7e",
   "metadata": {
    "execution": {
     "iopub.execute_input": "2022-07-07T15:49:06.390017Z",
     "iopub.status.busy": "2022-07-07T15:49:06.389169Z",
     "iopub.status.idle": "2022-07-07T15:49:06.392883Z",
     "shell.execute_reply": "2022-07-07T15:49:06.392357Z"
    },
    "papermill": {
     "duration": 0.012175,
     "end_time": "2022-07-07T15:49:06.395225",
     "exception": false,
     "start_time": "2022-07-07T15:49:06.383050",
     "status": "completed"
    },
    "tags": []
   },
   "outputs": [],
   "source": [
    "from common.io import read_onnx, get_onnx_inputs, get_onnx_outputs, read_numpy"
   ]
  },
  {
   "cell_type": "code",
   "execution_count": 7,
   "id": "26ed9691",
   "metadata": {
    "execution": {
     "iopub.execute_input": "2022-07-07T15:49:06.404567Z",
     "iopub.status.busy": "2022-07-07T15:49:06.404330Z",
     "iopub.status.idle": "2022-07-07T15:49:06.415198Z",
     "shell.execute_reply": "2022-07-07T15:49:06.414699Z"
    },
    "lines_to_next_cell": 0,
    "papermill": {
     "duration": 0.017707,
     "end_time": "2022-07-07T15:49:06.417114",
     "exception": false,
     "start_time": "2022-07-07T15:49:06.399407",
     "status": "completed"
    },
    "tags": []
   },
   "outputs": [],
   "source": [
    "onnx_inference_session = read_onnx(\n",
    "    datalake_root(P)\n",
    "    / \"models\"\n",
    "    / f\"nr_train_images={P['task.nr_train_images']}\"\n",
    "    / \"model.onnx\"\n",
    ")"
   ]
  },
  {
   "cell_type": "markdown",
   "id": "c9892aa9",
   "metadata": {
    "papermill": {
     "duration": 0.004237,
     "end_time": "2022-07-07T15:49:06.425532",
     "exception": false,
     "start_time": "2022-07-07T15:49:06.421295",
     "status": "completed"
    },
    "tags": []
   },
   "source": [
    "### Record structure of inputs and outputs for ONNX model\n",
    "\n",
    "(this should likely be done in training notebook)"
   ]
  },
  {
   "cell_type": "code",
   "execution_count": 8,
   "id": "45e8ac73",
   "metadata": {
    "execution": {
     "iopub.execute_input": "2022-07-07T15:49:06.434921Z",
     "iopub.status.busy": "2022-07-07T15:49:06.434670Z",
     "iopub.status.idle": "2022-07-07T15:49:06.439875Z",
     "shell.execute_reply": "2022-07-07T15:49:06.439356Z"
    },
    "papermill": {
     "duration": 0.013099,
     "end_time": "2022-07-07T15:49:06.442949",
     "exception": false,
     "start_time": "2022-07-07T15:49:06.429850",
     "status": "completed"
    },
    "tags": []
   },
   "outputs": [
    {
     "name": "stdout",
     "output_type": "stream",
     "text": [
      "{\n",
      "  \"inputs\": [\n",
      "    {\n",
      "      \"name\": \"float_input_8x8_image\",\n",
      "      \"shape\": [\n",
      "        null,\n",
      "        64\n",
      "      ],\n",
      "      \"type\": \"tensor(float)\"\n",
      "    }\n",
      "  ],\n",
      "  \"outputs\": [\n",
      "    {\n",
      "      \"name\": \"output_label\",\n",
      "      \"shape\": [\n",
      "        null\n",
      "      ],\n",
      "      \"type\": \"tensor(int64)\"\n",
      "    },\n",
      "    {\n",
      "      \"name\": \"output_probability\",\n",
      "      \"shape\": [],\n",
      "      \"type\": \"seq(map(int64,tensor(float)))\"\n",
      "    }\n",
      "  ]\n",
      "}\n"
     ]
    }
   ],
   "source": [
    "import json\n",
    "\n",
    "onnx_io = json.dumps(\n",
    "    {\n",
    "        \"inputs\": get_onnx_inputs(onnx_inference_session),\n",
    "        \"outputs\": get_onnx_outputs(onnx_inference_session),\n",
    "    },\n",
    "    indent=2,\n",
    ")\n",
    "\n",
    "\n",
    "logger.log_artefact(\"onnx_io_structure.json\", onnx_io)\n",
    "print(onnx_io)"
   ]
  },
  {
   "cell_type": "markdown",
   "id": "43085dba",
   "metadata": {
    "papermill": {
     "duration": 0.004015,
     "end_time": "2022-07-07T15:49:06.451188",
     "exception": false,
     "start_time": "2022-07-07T15:49:06.447173",
     "status": "completed"
    },
    "tags": []
   },
   "source": [
    "### Evaluate model performance on evaluation data set"
   ]
  },
  {
   "cell_type": "code",
   "execution_count": 9,
   "id": "5afce3e6",
   "metadata": {
    "execution": {
     "iopub.execute_input": "2022-07-07T15:49:06.460533Z",
     "iopub.status.busy": "2022-07-07T15:49:06.460280Z",
     "iopub.status.idle": "2022-07-07T15:49:06.464856Z",
     "shell.execute_reply": "2022-07-07T15:49:06.464317Z"
    },
    "papermill": {
     "duration": 0.011848,
     "end_time": "2022-07-07T15:49:06.467053",
     "exception": false,
     "start_time": "2022-07-07T15:49:06.455205",
     "status": "completed"
    },
    "tags": []
   },
   "outputs": [],
   "source": [
    "# load evaluation data\n",
    "X_test = read_numpy(datalake_root(P) / \"test-data\" / \"digits.numpy\")\n",
    "y_test = read_numpy(datalake_root(P) / \"test-data\" / \"labels.numpy\")"
   ]
  },
  {
   "cell_type": "code",
   "execution_count": 10,
   "id": "64260615",
   "metadata": {
    "execution": {
     "iopub.execute_input": "2022-07-07T15:49:06.476958Z",
     "iopub.status.busy": "2022-07-07T15:49:06.476720Z",
     "iopub.status.idle": "2022-07-07T15:49:06.497636Z",
     "shell.execute_reply": "2022-07-07T15:49:06.497043Z"
    },
    "papermill": {
     "duration": 0.027679,
     "end_time": "2022-07-07T15:49:06.499411",
     "exception": false,
     "start_time": "2022-07-07T15:49:06.471732",
     "status": "completed"
    },
    "tags": []
   },
   "outputs": [],
   "source": [
    "def get_model_outputs(X, onnx_inference_session):\n",
    "    y_pred_labels, y_pred_map = onnx_inference_session.run(\n",
    "        [\"output_label\", \"output_probability\"],\n",
    "        {\"float_input_8x8_image\": X.astype(np.float32)},\n",
    "    )\n",
    "    y_pred_probs = np.array(\n",
    "        [[probabilities[digit] for digit in range(10)] for probabilities in y_pred_map]\n",
    "    )\n",
    "\n",
    "    assert y_pred_labels.shape == (X.shape[0],)\n",
    "    assert y_pred_probs.shape == (X.shape[0], 10)\n",
    "\n",
    "    return y_pred_labels, y_pred_probs\n",
    "\n",
    "\n",
    "# Note: as shown in the training notebook, the predicted labels and probabilities\n",
    "# computed below need not be compatible.\n",
    "y_pred_labels_test, y_pred_probs_test = get_model_outputs(\n",
    "    X_test, onnx_inference_session\n",
    ")"
   ]
  },
  {
   "cell_type": "markdown",
   "id": "76f2c882",
   "metadata": {
    "papermill": {
     "duration": 0.004549,
     "end_time": "2022-07-07T15:49:06.508688",
     "exception": false,
     "start_time": "2022-07-07T15:49:06.504139",
     "status": "completed"
    },
    "tags": []
   },
   "source": [
    "### Confusion matrix"
   ]
  },
  {
   "cell_type": "code",
   "execution_count": 11,
   "id": "238db328",
   "metadata": {
    "execution": {
     "iopub.execute_input": "2022-07-07T15:49:06.518561Z",
     "iopub.status.busy": "2022-07-07T15:49:06.518308Z",
     "iopub.status.idle": "2022-07-07T15:49:06.521333Z",
     "shell.execute_reply": "2022-07-07T15:49:06.520786Z"
    },
    "papermill": {
     "duration": 0.010514,
     "end_time": "2022-07-07T15:49:06.523498",
     "exception": false,
     "start_time": "2022-07-07T15:49:06.512984",
     "status": "completed"
    },
    "tags": []
   },
   "outputs": [],
   "source": [
    "# TODO"
   ]
  },
  {
   "cell_type": "markdown",
   "id": "bcbf4af7",
   "metadata": {
    "papermill": {
     "duration": 0.004241,
     "end_time": "2022-07-07T15:49:06.532370",
     "exception": false,
     "start_time": "2022-07-07T15:49:06.528129",
     "status": "completed"
    },
    "tags": []
   },
   "source": [
    "### Plot predicted probabilities for each classifier over all evaluation digit images"
   ]
  },
  {
   "cell_type": "code",
   "execution_count": 12,
   "id": "8e2fde05",
   "metadata": {
    "execution": {
     "iopub.execute_input": "2022-07-07T15:49:06.541857Z",
     "iopub.status.busy": "2022-07-07T15:49:06.541614Z",
     "iopub.status.idle": "2022-07-07T15:49:09.583144Z",
     "shell.execute_reply": "2022-07-07T15:49:09.582548Z"
    },
    "papermill": {
     "duration": 3.048752,
     "end_time": "2022-07-07T15:49:09.585139",
     "exception": false,
     "start_time": "2022-07-07T15:49:06.536387",
     "status": "completed"
    },
    "tags": []
   },
   "outputs": [
    {
     "data": {
      "image/png": "[encoded data removed]",
      "text/plain": [
       "<Figure size 1152x432 with 10 Axes>"
      ]
     },
     "metadata": {
      "needs_background": "light"
     },
     "output_type": "display_data"
    }
   ],
   "source": [
    "def plot_per_digit_probabilities(y_pred_probs):\n",
    "    fig, axs = plt.subplots(nrows=2, ncols=5, figsize=(16, 6))\n",
    "\n",
    "    for (r, c), digit, ax in zip(\n",
    "        it.product(range(2), range(5)), range(10), axs.reshape(-1)\n",
    "    ):\n",
    "        ax.hist(y_pred_probs_test[:, digit], bins=20)\n",
    "\n",
    "        ax.set_title(f\"Digit {digit}\")\n",
    "        if r == 1 and c == 2:\n",
    "            ax.set_xlabel(\"probability\", fontsize=16)\n",
    "\n",
    "        if c == 0:\n",
    "            ax.set_ylabel(\"counts\", fontsize=16)\n",
    "        ax.set_yscale(\"log\")\n",
    "\n",
    "    fig.tight_layout()\n",
    "    fig.suptitle(\n",
    "        f\"Distributions of prediction probabilities for each digit \"\n",
    "        f\"(on evaluation data, n={y_pred_probs.shape[0]})\",\n",
    "        fontsize=20,\n",
    "    )\n",
    "    fig.tight_layout()\n",
    "    fig.show()\n",
    "\n",
    "    return fig\n",
    "\n",
    "\n",
    "fig = plot_per_digit_probabilities(y_pred_probs_test)"
   ]
  },
  {
   "cell_type": "markdown",
   "id": "5606261b",
   "metadata": {
    "papermill": {
     "duration": 0.00535,
     "end_time": "2022-07-07T15:49:09.595698",
     "exception": false,
     "start_time": "2022-07-07T15:49:09.590348",
     "status": "completed"
    },
    "tags": []
   },
   "source": [
    "From the above distributions we see that most digits have clear separation between\n",
    "high and lower probabilities. Morover, in each case there is roughly an order of\n",
    "magnitude more of digits with low probabilities. This is compatible with digits\n",
    "being roughly evenly distributed in the data."
   ]
  },
  {
   "cell_type": "code",
   "execution_count": 13,
   "id": "502c4e39",
   "metadata": {
    "execution": {
     "iopub.execute_input": "2022-07-07T15:49:09.606148Z",
     "iopub.status.busy": "2022-07-07T15:49:09.605710Z",
     "iopub.status.idle": "2022-07-07T15:49:10.010166Z",
     "shell.execute_reply": "2022-07-07T15:49:10.009467Z"
    },
    "papermill": {
     "duration": 0.411759,
     "end_time": "2022-07-07T15:49:10.011989",
     "exception": false,
     "start_time": "2022-07-07T15:49:09.600230",
     "status": "completed"
    },
    "tags": []
   },
   "outputs": [],
   "source": [
    "logger.log_figure(\"per-digit-probabilities.png\", fig)"
   ]
  },
  {
   "cell_type": "markdown",
   "id": "8c51cea2",
   "metadata": {
    "papermill": {
     "duration": 0.005294,
     "end_time": "2022-07-07T15:49:10.022140",
     "exception": false,
     "start_time": "2022-07-07T15:49:10.016846",
     "status": "completed"
    },
    "tags": []
   },
   "source": [
    "### Plot ROC curves for individual one-vs-rest classifiers"
   ]
  },
  {
   "cell_type": "code",
   "execution_count": 14,
   "id": "183ec2ad",
   "metadata": {
    "execution": {
     "iopub.execute_input": "2022-07-07T15:49:10.032807Z",
     "iopub.status.busy": "2022-07-07T15:49:10.032504Z",
     "iopub.status.idle": "2022-07-07T15:49:10.414090Z",
     "shell.execute_reply": "2022-07-07T15:49:10.413099Z"
    },
    "papermill": {
     "duration": 0.389205,
     "end_time": "2022-07-07T15:49:10.415884",
     "exception": false,
     "start_time": "2022-07-07T15:49:10.026679",
     "status": "completed"
    },
    "tags": []
   },
   "outputs": [],
   "source": [
    "from sklearn import metrics"
   ]
  },
  {
   "cell_type": "code",
   "execution_count": 15,
   "id": "aa884582",
   "metadata": {
    "execution": {
     "iopub.execute_input": "2022-07-07T15:49:10.428775Z",
     "iopub.status.busy": "2022-07-07T15:49:10.428343Z",
     "iopub.status.idle": "2022-07-07T15:49:11.447971Z",
     "shell.execute_reply": "2022-07-07T15:49:11.447365Z"
    },
    "papermill": {
     "duration": 1.02769,
     "end_time": "2022-07-07T15:49:11.449382",
     "exception": false,
     "start_time": "2022-07-07T15:49:10.421692",
     "status": "completed"
    },
    "tags": []
   },
   "outputs": [
    {
     "data": {
      "image/png": "[encoded data removed]",
      "text/plain": [
       "<Figure size 1152x576 with 10 Axes>"
      ]
     },
     "metadata": {
      "needs_background": "light"
     },
     "output_type": "display_data"
    }
   ],
   "source": [
    "def plot_roc_curves(y, y_pred_probs):\n",
    "    # based on example code\n",
    "    # https://scikit-learn.org/stable/auto_examples/model_selection/plot_roc.html\n",
    "\n",
    "    fig, axs = plt.subplots(nrows=2, ncols=5, figsize=(16, 8))\n",
    "\n",
    "    roc_auc_dict = {}\n",
    "\n",
    "    for (r, c), digit, ax in zip(\n",
    "        it.product(range(2), range(5)), range(10), axs.reshape(-1)\n",
    "    ):\n",
    "        fpr, tpr, _ = metrics.roc_curve(y == digit, y_pred_probs[:, digit])\n",
    "        auc = metrics.auc(fpr, tpr)\n",
    "        roc_auc_dict[str(digit)] = auc\n",
    "\n",
    "        ax.plot(fpr, tpr, label=f\"ROC AUC={round(auc, 3)}\")\n",
    "\n",
    "        ax.set_title(f\"\\nDigit {digit}\", fontsize=16)\n",
    "        if r == 1:\n",
    "            ax.set_xlabel(\"FPR\", fontsize=18)\n",
    "\n",
    "        if c == 0:\n",
    "            ax.set_ylabel(\"TPR\", fontsize=18)\n",
    "\n",
    "        ax.set_xlim([-0.05, 1.05])\n",
    "        ax.set_ylim([-0.05, 1.05])\n",
    "        ax.legend(loc=\"lower right\", frameon=False, fontsize=14)\n",
    "\n",
    "    fig.tight_layout()\n",
    "    fig.suptitle(\n",
    "        f\"ROC plots for one-vs-rest performances \"\n",
    "        f\"(on evaluation data, n={y_pred_probs_test.shape[1]}\",\n",
    "        fontsize=22,\n",
    "    )\n",
    "    fig.tight_layout()\n",
    "    fig.show()\n",
    "\n",
    "    return roc_auc_dict, fig\n",
    "\n",
    "\n",
    "roc_auc_dict, fig = plot_roc_curves(y_test, y_pred_probs_test)"
   ]
  },
  {
   "cell_type": "code",
   "execution_count": 16,
   "id": "5910d15d",
   "metadata": {
    "execution": {
     "iopub.execute_input": "2022-07-07T15:49:11.463744Z",
     "iopub.status.busy": "2022-07-07T15:49:11.463498Z",
     "iopub.status.idle": "2022-07-07T15:49:11.683005Z",
     "shell.execute_reply": "2022-07-07T15:49:11.682403Z"
    },
    "papermill": {
     "duration": 0.22896,
     "end_time": "2022-07-07T15:49:11.685432",
     "exception": false,
     "start_time": "2022-07-07T15:49:11.456472",
     "status": "completed"
    },
    "tags": []
   },
   "outputs": [],
   "source": [
    "logger.log_figure(\"per-digit-roc-curves.png\", fig)"
   ]
  },
  {
   "cell_type": "code",
   "execution_count": 17,
   "id": "71a70d52",
   "metadata": {
    "execution": {
     "iopub.execute_input": "2022-07-07T15:49:11.698471Z",
     "iopub.status.busy": "2022-07-07T15:49:11.698231Z",
     "iopub.status.idle": "2022-07-07T15:49:11.702557Z",
     "shell.execute_reply": "2022-07-07T15:49:11.702059Z"
    },
    "papermill": {
     "duration": 0.015057,
     "end_time": "2022-07-07T15:49:11.706390",
     "exception": false,
     "start_time": "2022-07-07T15:49:11.691333",
     "status": "completed"
    },
    "tags": []
   },
   "outputs": [
    {
     "data": {
      "text/plain": [
       "{'0': 1.0,\n",
       " '1': 0.999025304592315,\n",
       " '2': 1.0,\n",
       " '3': 0.9998500468603562,\n",
       " '4': 0.9997713763145861,\n",
       " '5': 0.9997000937207123,\n",
       " '6': 0.999923792104862,\n",
       " '7': 0.9998475842097242,\n",
       " '8': 0.9957440100882724,\n",
       " '9': 0.9996951684194483}"
      ]
     },
     "execution_count": 17,
     "metadata": {},
     "output_type": "execute_result"
    }
   ],
   "source": [
    "roc_auc_dict"
   ]
  },
  {
   "cell_type": "code",
   "execution_count": 18,
   "id": "a6a0d6cb",
   "metadata": {
    "execution": {
     "iopub.execute_input": "2022-07-07T15:49:11.720456Z",
     "iopub.status.busy": "2022-07-07T15:49:11.720237Z",
     "iopub.status.idle": "2022-07-07T15:49:11.723844Z",
     "shell.execute_reply": "2022-07-07T15:49:11.723320Z"
    },
    "papermill": {
     "duration": 0.013823,
     "end_time": "2022-07-07T15:49:11.727430",
     "exception": false,
     "start_time": "2022-07-07T15:49:11.713607",
     "status": "completed"
    },
    "tags": []
   },
   "outputs": [
    {
     "name": "stdout",
     "output_type": "stream",
     "text": [
      " - Logging roc_auc_per_digit (json) : {'0': 1.0, '1': 0.999025304592315, '2': 1.0, '3': 0.9998500468603562, '4': 0.9997713763145861, '5': 0.9997000937207123, '6': 0.999923792104862, '7': 0.9998475842097242, '8': 0.9957440100882724, '9': 0.9996951684194483}\n"
     ]
    }
   ],
   "source": [
    "logger.log_value(\"roc_auc_per_digit\", roc_auc_dict)"
   ]
  },
  {
   "cell_type": "markdown",
   "id": "912db991",
   "metadata": {
    "papermill": {
     "duration": 0.006141,
     "end_time": "2022-07-07T15:49:11.738940",
     "exception": false,
     "start_time": "2022-07-07T15:49:11.732799",
     "status": "completed"
    },
    "tags": []
   },
   "source": [
    "### Compute and log mean ROC AUC score averaged over all digits"
   ]
  },
  {
   "cell_type": "code",
   "execution_count": 19,
   "id": "a30649c0",
   "metadata": {
    "execution": {
     "iopub.execute_input": "2022-07-07T15:49:11.751477Z",
     "iopub.status.busy": "2022-07-07T15:49:11.751244Z",
     "iopub.status.idle": "2022-07-07T15:49:11.764527Z",
     "shell.execute_reply": "2022-07-07T15:49:11.764003Z"
    },
    "papermill": {
     "duration": 0.022204,
     "end_time": "2022-07-07T15:49:11.766690",
     "exception": false,
     "start_time": "2022-07-07T15:49:11.744486",
     "status": "completed"
    },
    "tags": []
   },
   "outputs": [
    {
     "name": "stdout",
     "output_type": "stream",
     "text": [
      " - Logging roc_auc_class_mean (float) : 0.9993557376310276\n"
     ]
    }
   ],
   "source": [
    "roc_auc_macro = np.mean(list(roc_auc_dict.values()))\n",
    "\n",
    "logger.log_float(\"roc_auc_class_mean\", roc_auc_macro)\n",
    "\n",
    "# assert that the same value can be computed directly using sklearn\n",
    "assert roc_auc_macro == metrics.roc_auc_score(\n",
    "    y_test, y_pred_probs_test, average=\"macro\", multi_class=\"ovr\"\n",
    ")"
   ]
  },
  {
   "cell_type": "code",
   "execution_count": 20,
   "id": "31579733",
   "metadata": {
    "execution": {
     "iopub.execute_input": "2022-07-07T15:49:11.779678Z",
     "iopub.status.busy": "2022-07-07T15:49:11.779460Z",
     "iopub.status.idle": "2022-07-07T15:49:11.782312Z",
     "shell.execute_reply": "2022-07-07T15:49:11.781781Z"
    },
    "lines_to_next_cell": 0,
    "papermill": {
     "duration": 0.01246,
     "end_time": "2022-07-07T15:49:11.784777",
     "exception": false,
     "start_time": "2022-07-07T15:49:11.772317",
     "status": "completed"
    },
    "tags": []
   },
   "outputs": [],
   "source": [
    "# ---"
   ]
  },
  {
   "cell_type": "code",
   "execution_count": null,
   "id": "9877ede1",
   "metadata": {
    "papermill": {
     "duration": 0.006095,
     "end_time": "2022-07-07T15:49:11.796688",
     "exception": false,
     "start_time": "2022-07-07T15:49:11.790593",
     "status": "completed"
    },
    "tags": []
   },
   "outputs": [],
   "source": []
  }
 ],
 "metadata": {
  "jupytext": {
   "cell_metadata_filter": "tags,-all",
   "main_language": "python",
   "notebook_metadata_filter": "-all"
  },
  "language_info": {
   "codemirror_mode": {
    "name": "ipython",
    "version": 3
   },
   "file_extension": ".py",
   "mimetype": "text/x-python",
   "name": "python",
   "nbconvert_exporter": "python",
   "pygments_lexer": "ipython3",
   "version": "3.8.10"
  },
  "papermill": {
   "default_parameters": {},
   "duration": 9.192023,
   "end_time": "2022-07-07T15:49:12.828406",
   "environment_variables": {},
   "exception": null,
   "input_path": "/home/host_user/workspace/mnist-demo-pipeline/mnist-demo-pipeline/notebooks/temp-notebook-mpmo_dei.ipynb",
   "output_path": "notebooks/benchmark-model.ipynb",
   "parameters": {
    "P": {
     "_opentelemetry_traceparent": "00-7d9d1459647cd31c9dab47dd67e7015d-6399c2b4be0031c2-01",
     "pipeline.data_lake_root": "/pipeline-outputs/data-lake",
     "pipeline.github.actor": "matiasdahl",
     "pipeline.github.base_ref": "",
     "pipeline.github.event_name": "push",
     "pipeline.github.head_ref": "",
     "pipeline.github.job": "run-tests-pipeline-and-persist-pipeline-outputs",
     "pipeline.github.ref": "refs/heads/development",
     "pipeline.github.ref_name": "development",
     "pipeline.github.ref_type": "branch",
     "pipeline.github.repository": "pynb-dag-runner/mnist-digits-demo-pipeline",
     "pipeline.github.run_id": "2630712818",
     "pipeline.github.runner_name": "Hosted Agent",
     "pipeline.github.sha": "147a1be9916173fd4d2cd011d8d51e3411215850",
     "pipeline.github.workflow": "Run automated tests, pipeline and deploy results to static reporting site",
     "pipeline.pipeline_run_id": "6fd2431c-296e-452a-b6df-3a5d1d34da89",
     "pipeline.run_environment": "ci",
     "run.retry_nr": "0",
     "task.max_nr_retries": "1",
     "task.notebook": "notebooks/benchmark-model.py",
     "task.nr_train_images": 1200,
     "task.num_cpus": 1,
     "task.timeout_s": "None"
    }
   },
   "start_time": "2022-07-07T15:49:03.636383",
   "version": "2.3.3"
  }
 },
 "nbformat": 4,
 "nbformat_minor": 5
}