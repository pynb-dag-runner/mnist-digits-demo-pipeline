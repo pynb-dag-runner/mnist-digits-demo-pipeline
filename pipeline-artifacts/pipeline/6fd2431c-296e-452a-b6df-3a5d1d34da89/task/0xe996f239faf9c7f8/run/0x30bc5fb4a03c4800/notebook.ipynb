{
 "cells": [
  {
   "cell_type": "markdown",
   "id": "1d9d33e6",
   "metadata": {
    "papermill": {
     "duration": 0.003685,
     "end_time": "2022-07-07T15:49:17.406619",
     "exception": false,
     "start_time": "2022-07-07T15:49:17.402934",
     "status": "completed"
    },
    "tags": []
   },
   "source": [
    "# Summarize model performances\n",
    "\n",
    "This notebooks plots the performances (using averaged ROC AUC scores) for models\n",
    "trained with different training sets."
   ]
  },
  {
   "cell_type": "markdown",
   "id": "d308ede2",
   "metadata": {
    "papermill": {
     "duration": 0.002444,
     "end_time": "2022-07-07T15:49:17.412184",
     "exception": false,
     "start_time": "2022-07-07T15:49:17.409740",
     "status": "completed"
    },
    "tags": []
   },
   "source": [
    "### Determine run parameters"
   ]
  },
  {
   "cell_type": "code",
   "execution_count": 1,
   "id": "4da86349",
   "metadata": {
    "execution": {
     "iopub.execute_input": "2022-07-07T15:49:17.418781Z",
     "iopub.status.busy": "2022-07-07T15:49:17.417972Z",
     "iopub.status.idle": "2022-07-07T15:49:17.425523Z",
     "shell.execute_reply": "2022-07-07T15:49:17.424930Z"
    },
    "lines_to_next_cell": 0,
    "papermill": {
     "duration": 0.01237,
     "end_time": "2022-07-07T15:49:17.426938",
     "exception": false,
     "start_time": "2022-07-07T15:49:17.414568",
     "status": "completed"
    },
    "tags": []
   },
   "outputs": [],
   "source": [
    "# ----------------- Parameters for interactive development --------------\n",
    "P = {\n",
    "    \"pipeline.run_environment\": \"dev\",\n",
    "}"
   ]
  },
  {
   "cell_type": "code",
   "execution_count": 2,
   "id": "19125a58",
   "metadata": {
    "execution": {
     "iopub.execute_input": "2022-07-07T15:49:17.433501Z",
     "iopub.status.busy": "2022-07-07T15:49:17.433277Z",
     "iopub.status.idle": "2022-07-07T15:49:17.436296Z",
     "shell.execute_reply": "2022-07-07T15:49:17.435657Z"
    },
    "lines_to_next_cell": 0,
    "papermill": {
     "duration": 0.007823,
     "end_time": "2022-07-07T15:49:17.437539",
     "exception": false,
     "start_time": "2022-07-07T15:49:17.429716",
     "status": "completed"
    },
    "tags": [
     "parameters"
    ]
   },
   "outputs": [],
   "source": [
    "# - During automated runs parameters will be injected in the below cell -"
   ]
  },
  {
   "cell_type": "code",
   "execution_count": 3,
   "id": "d3738563",
   "metadata": {
    "execution": {
     "iopub.execute_input": "2022-07-07T15:49:17.443868Z",
     "iopub.status.busy": "2022-07-07T15:49:17.443462Z",
     "iopub.status.idle": "2022-07-07T15:49:17.449174Z",
     "shell.execute_reply": "2022-07-07T15:49:17.448701Z"
    },
    "papermill": {
     "duration": 0.010863,
     "end_time": "2022-07-07T15:49:17.451025",
     "exception": false,
     "start_time": "2022-07-07T15:49:17.440162",
     "status": "completed"
    },
    "tags": [
     "injected-parameters"
    ]
   },
   "outputs": [],
   "source": [
    "# Parameters\n",
    "P = {\n",
    "    \"pipeline.data_lake_root\": \"/pipeline-outputs/data-lake\",\n",
    "    \"pipeline.run_environment\": \"ci\",\n",
    "    \"pipeline.pipeline_run_id\": \"6fd2431c-296e-452a-b6df-3a5d1d34da89\",\n",
    "    \"pipeline.github.repository\": \"pynb-dag-runner/mnist-digits-demo-pipeline\",\n",
    "    \"pipeline.github.workflow\": \"Run automated tests, pipeline and deploy results to static reporting site\",\n",
    "    \"pipeline.github.runner_name\": \"Hosted Agent\",\n",
    "    \"pipeline.github.run_id\": \"2630712818\",\n",
    "    \"pipeline.github.actor\": \"matiasdahl\",\n",
    "    \"pipeline.github.job\": \"run-tests-pipeline-and-persist-pipeline-outputs\",\n",
    "    \"pipeline.github.base_ref\": \"\",\n",
    "    \"pipeline.github.head_ref\": \"\",\n",
    "    \"pipeline.github.sha\": \"147a1be9916173fd4d2cd011d8d51e3411215850\",\n",
    "    \"pipeline.github.ref\": \"refs/heads/development\",\n",
    "    \"pipeline.github.ref_type\": \"branch\",\n",
    "    \"pipeline.github.ref_name\": \"development\",\n",
    "    \"pipeline.github.event_name\": \"push\",\n",
    "    \"task.notebook\": \"notebooks/summary.py\",\n",
    "    \"task.max_nr_retries\": \"1\",\n",
    "    \"run.retry_nr\": \"0\",\n",
    "    \"task.timeout_s\": \"None\",\n",
    "    \"task.num_cpus\": 1,\n",
    "    \"_opentelemetry_traceparent\": \"00-7d9d1459647cd31c9dab47dd67e7015d-fa567badb828e433-01\",\n",
    "}\n"
   ]
  },
  {
   "cell_type": "code",
   "execution_count": 4,
   "id": "e2b12ce5",
   "metadata": {
    "execution": {
     "iopub.execute_input": "2022-07-07T15:49:17.457747Z",
     "iopub.status.busy": "2022-07-07T15:49:17.457316Z",
     "iopub.status.idle": "2022-07-07T15:49:17.460246Z",
     "shell.execute_reply": "2022-07-07T15:49:17.459576Z"
    },
    "lines_to_next_cell": 0,
    "papermill": {
     "duration": 0.007912,
     "end_time": "2022-07-07T15:49:17.461737",
     "exception": false,
     "start_time": "2022-07-07T15:49:17.453825",
     "status": "completed"
    },
    "tags": []
   },
   "outputs": [],
   "source": [
    "# -----------------------------------------------------------------------"
   ]
  },
  {
   "cell_type": "markdown",
   "id": "ebbc9555",
   "metadata": {
    "papermill": {
     "duration": 0.002459,
     "end_time": "2022-07-07T15:49:17.466966",
     "exception": false,
     "start_time": "2022-07-07T15:49:17.464507",
     "status": "completed"
    },
    "tags": []
   },
   "source": [
    "---"
   ]
  },
  {
   "cell_type": "markdown",
   "id": "a1aecc7d",
   "metadata": {
    "lines_to_next_cell": 2,
    "papermill": {
     "duration": 0.002547,
     "end_time": "2022-07-07T15:49:17.471979",
     "exception": false,
     "start_time": "2022-07-07T15:49:17.469432",
     "status": "completed"
    },
    "tags": []
   },
   "source": [
    "### Notebook code"
   ]
  },
  {
   "cell_type": "code",
   "execution_count": 5,
   "id": "28c8fc96",
   "metadata": {
    "execution": {
     "iopub.execute_input": "2022-07-07T15:49:17.478389Z",
     "iopub.status.busy": "2022-07-07T15:49:17.477739Z",
     "iopub.status.idle": "2022-07-07T15:49:18.547076Z",
     "shell.execute_reply": "2022-07-07T15:49:18.546426Z"
    },
    "papermill": {
     "duration": 1.074935,
     "end_time": "2022-07-07T15:49:18.549430",
     "exception": false,
     "start_time": "2022-07-07T15:49:17.474495",
     "status": "completed"
    },
    "tags": []
   },
   "outputs": [],
   "source": [
    "#\n",
    "import pandas as pd\n",
    "import matplotlib.pyplot as plt\n",
    "\n",
    "#\n",
    "from pynb_dag_runner.tasks.task_opentelemetry_logging import PydarLogger"
   ]
  },
  {
   "cell_type": "code",
   "execution_count": 6,
   "id": "410aab8a",
   "metadata": {
    "execution": {
     "iopub.execute_input": "2022-07-07T15:49:18.556505Z",
     "iopub.status.busy": "2022-07-07T15:49:18.555755Z",
     "iopub.status.idle": "2022-07-07T15:49:18.708965Z",
     "shell.execute_reply": "2022-07-07T15:49:18.708172Z"
    },
    "papermill": {
     "duration": 0.159501,
     "end_time": "2022-07-07T15:49:18.711838",
     "exception": false,
     "start_time": "2022-07-07T15:49:18.552337",
     "status": "completed"
    },
    "tags": []
   },
   "outputs": [
    {
     "name": "stderr",
     "output_type": "stream",
     "text": [
      "2022-07-07 15:49:18,560\tINFO worker.py:842 -- Connecting to existing Ray cluster at address: 172.17.0.2:6379\n"
     ]
    }
   ],
   "source": [
    "logger = PydarLogger(P=P)"
   ]
  },
  {
   "cell_type": "code",
   "execution_count": 7,
   "id": "dc294872",
   "metadata": {
    "execution": {
     "iopub.execute_input": "2022-07-07T15:49:18.720367Z",
     "iopub.status.busy": "2022-07-07T15:49:18.719963Z",
     "iopub.status.idle": "2022-07-07T15:49:18.723391Z",
     "shell.execute_reply": "2022-07-07T15:49:18.722720Z"
    },
    "papermill": {
     "duration": 0.009888,
     "end_time": "2022-07-07T15:49:18.724909",
     "exception": false,
     "start_time": "2022-07-07T15:49:18.715021",
     "status": "completed"
    },
    "tags": []
   },
   "outputs": [],
   "source": [
    "from pynb_dag_runner.tasks.task_opentelemetry_logging import (\n",
    "    PydarLogger,\n",
    "    get_logged_values,\n",
    ")\n",
    "from pynb_dag_runner.opentelemetry_helpers import _get_all_spans, Spans"
   ]
  },
  {
   "cell_type": "code",
   "execution_count": 8,
   "id": "77e0b9f1",
   "metadata": {
    "execution": {
     "iopub.execute_input": "2022-07-07T15:49:18.731651Z",
     "iopub.status.busy": "2022-07-07T15:49:18.731415Z",
     "iopub.status.idle": "2022-07-07T15:49:18.737889Z",
     "shell.execute_reply": "2022-07-07T15:49:18.737291Z"
    },
    "papermill": {
     "duration": 0.011553,
     "end_time": "2022-07-07T15:49:18.739303",
     "exception": false,
     "start_time": "2022-07-07T15:49:18.727750",
     "status": "completed"
    },
    "tags": []
   },
   "outputs": [],
   "source": [
    "def get_model_benchmarks():\n",
    "    \"\"\"\n",
    "    Query the OpenTelemetry logs for *this pipeline run* and return\n",
    "    all key-values logged from all runs of the benchmark-model.py task\n",
    "\n",
    "    For testing a json file with OpenTelemetry spans (as an array)\n",
    "    can be used as follows:\n",
    "\n",
    "    - Create output directory `mkdir /tmp/spans`\n",
    "    - Run unit tests. This will create pipeline-outputs/opentelemetry-spans.json\n",
    "    - Convert this json-array into jsonl format as follows\n",
    "\n",
    "    jq -c '.[]' /pipeline-outputs/opentelemetry-spans.json > /tmp/spans/data.txt\n",
    "\n",
    "    \"\"\"\n",
    "    spans: Spans = Spans(_get_all_spans())\n",
    "    print(f\"Found {len(spans)} spans\")\n",
    "\n",
    "    benchmark_spans = (\n",
    "        spans\n",
    "        # -\n",
    "        .filter([\"name\"], \"execute-task\")\n",
    "        # -\n",
    "        .filter([\"attributes\", \"task.notebook\"], \"notebooks/benchmark-model.py\")\n",
    "    )\n",
    "\n",
    "    result = []\n",
    "    for s in benchmark_spans:\n",
    "        result.append(\n",
    "            {\n",
    "                \"span_id\": s[\"context\"][\"span_id\"],\n",
    "                \"nr_train_images\": s[\"attributes\"][\"task.nr_train_images\"],\n",
    "                \"data\": get_logged_values(spans.bound_under(s)),\n",
    "            }\n",
    "        )\n",
    "\n",
    "    return result\n",
    "\n",
    "\n",
    "def adjust_pandas(df):\n",
    "    def column_renamer(col_name: str) -> str:\n",
    "        return (\n",
    "            col_name\n",
    "            # -- 'data.roc_auc_per_digit.4' -> 'roc_auc.4'\n",
    "            .replace(\"data.roc_auc_per_digit\", \"roc_auc\")\n",
    "            # -- 'data.roc_auc_class_mean' -> 'roc_auc_mean'\n",
    "            .replace(\"data.roc_auc_class_mean\", \"roc_auc_mean\")\n",
    "        )\n",
    "\n",
    "    return df.rename(column_renamer, axis=\"columns\").sort_values(by=\"nr_train_images\")"
   ]
  },
  {
   "cell_type": "code",
   "execution_count": 9,
   "id": "392a8313",
   "metadata": {
    "execution": {
     "iopub.execute_input": "2022-07-07T15:49:18.745849Z",
     "iopub.status.busy": "2022-07-07T15:49:18.745632Z",
     "iopub.status.idle": "2022-07-07T15:49:39.867513Z",
     "shell.execute_reply": "2022-07-07T15:49:39.866907Z"
    },
    "papermill": {
     "duration": 21.127391,
     "end_time": "2022-07-07T15:49:39.869546",
     "exception": false,
     "start_time": "2022-07-07T15:49:18.742155",
     "status": "completed"
    },
    "tags": []
   },
   "outputs": [
    {
     "name": "stdout",
     "output_type": "stream",
     "text": [
      "Found 423 spans\n"
     ]
    }
   ],
   "source": [
    "df_data = adjust_pandas(pd.json_normalize(get_model_benchmarks()))"
   ]
  },
  {
   "cell_type": "code",
   "execution_count": 10,
   "id": "f48cc83e",
   "metadata": {
    "execution": {
     "iopub.execute_input": "2022-07-07T15:49:39.878633Z",
     "iopub.status.busy": "2022-07-07T15:49:39.878004Z",
     "iopub.status.idle": "2022-07-07T15:49:39.906766Z",
     "shell.execute_reply": "2022-07-07T15:49:39.906105Z"
    },
    "papermill": {
     "duration": 0.034065,
     "end_time": "2022-07-07T15:49:39.908394",
     "exception": false,
     "start_time": "2022-07-07T15:49:39.874329",
     "status": "completed"
    },
    "tags": []
   },
   "outputs": [
    {
     "data": {
      "text/html": [
       "<div>\n",
       "<style scoped>\n",
       "    .dataframe tbody tr th:only-of-type {\n",
       "        vertical-align: middle;\n",
       "    }\n",
       "\n",
       "    .dataframe tbody tr th {\n",
       "        vertical-align: top;\n",
       "    }\n",
       "\n",
       "    .dataframe thead th {\n",
       "        text-align: right;\n",
       "    }\n",
       "</style>\n",
       "<table border=\"1\" class=\"dataframe\">\n",
       "  <thead>\n",
       "    <tr style=\"text-align: right;\">\n",
       "      <th></th>\n",
       "      <th>span_id</th>\n",
       "      <th>nr_train_images</th>\n",
       "      <th>roc_auc_mean</th>\n",
       "      <th>roc_auc.0</th>\n",
       "      <th>roc_auc.1</th>\n",
       "      <th>roc_auc.2</th>\n",
       "      <th>roc_auc.3</th>\n",
       "      <th>roc_auc.4</th>\n",
       "      <th>roc_auc.5</th>\n",
       "      <th>roc_auc.6</th>\n",
       "      <th>roc_auc.7</th>\n",
       "      <th>roc_auc.8</th>\n",
       "      <th>roc_auc.9</th>\n",
       "    </tr>\n",
       "  </thead>\n",
       "  <tbody>\n",
       "    <tr>\n",
       "      <th>3</th>\n",
       "      <td>0x544f41c82b58aec6</td>\n",
       "      <td>600</td>\n",
       "      <td>0.9990</td>\n",
       "      <td>1.0</td>\n",
       "      <td>0.9993</td>\n",
       "      <td>1.0</td>\n",
       "      <td>0.9998</td>\n",
       "      <td>0.9992</td>\n",
       "      <td>0.9988</td>\n",
       "      <td>0.9999</td>\n",
       "      <td>0.9998</td>\n",
       "      <td>0.9948</td>\n",
       "      <td>0.9988</td>\n",
       "    </tr>\n",
       "    <tr>\n",
       "      <th>0</th>\n",
       "      <td>0x6d5f7af35134f229</td>\n",
       "      <td>800</td>\n",
       "      <td>0.9990</td>\n",
       "      <td>1.0</td>\n",
       "      <td>0.9988</td>\n",
       "      <td>1.0</td>\n",
       "      <td>0.9998</td>\n",
       "      <td>0.9995</td>\n",
       "      <td>0.9991</td>\n",
       "      <td>1.0000</td>\n",
       "      <td>0.9999</td>\n",
       "      <td>0.9932</td>\n",
       "      <td>0.9994</td>\n",
       "    </tr>\n",
       "    <tr>\n",
       "      <th>1</th>\n",
       "      <td>0x134cb38e4de9344b</td>\n",
       "      <td>1000</td>\n",
       "      <td>0.9993</td>\n",
       "      <td>1.0</td>\n",
       "      <td>0.9990</td>\n",
       "      <td>1.0</td>\n",
       "      <td>0.9999</td>\n",
       "      <td>0.9996</td>\n",
       "      <td>0.9994</td>\n",
       "      <td>0.9999</td>\n",
       "      <td>0.9998</td>\n",
       "      <td>0.9955</td>\n",
       "      <td>0.9996</td>\n",
       "    </tr>\n",
       "    <tr>\n",
       "      <th>2</th>\n",
       "      <td>0x571a0c5f908c96a9</td>\n",
       "      <td>1200</td>\n",
       "      <td>0.9994</td>\n",
       "      <td>1.0</td>\n",
       "      <td>0.9990</td>\n",
       "      <td>1.0</td>\n",
       "      <td>0.9999</td>\n",
       "      <td>0.9998</td>\n",
       "      <td>0.9997</td>\n",
       "      <td>0.9999</td>\n",
       "      <td>0.9998</td>\n",
       "      <td>0.9957</td>\n",
       "      <td>0.9997</td>\n",
       "    </tr>\n",
       "  </tbody>\n",
       "</table>\n",
       "</div>"
      ],
      "text/plain": [
       "              span_id  nr_train_images  roc_auc_mean  roc_auc.0  roc_auc.1  \\\n",
       "3  0x544f41c82b58aec6              600        0.9990        1.0     0.9993   \n",
       "0  0x6d5f7af35134f229              800        0.9990        1.0     0.9988   \n",
       "1  0x134cb38e4de9344b             1000        0.9993        1.0     0.9990   \n",
       "2  0x571a0c5f908c96a9             1200        0.9994        1.0     0.9990   \n",
       "\n",
       "   roc_auc.2  roc_auc.3  roc_auc.4  roc_auc.5  roc_auc.6  roc_auc.7  \\\n",
       "3        1.0     0.9998     0.9992     0.9988     0.9999     0.9998   \n",
       "0        1.0     0.9998     0.9995     0.9991     1.0000     0.9999   \n",
       "1        1.0     0.9999     0.9996     0.9994     0.9999     0.9998   \n",
       "2        1.0     0.9999     0.9998     0.9997     0.9999     0.9998   \n",
       "\n",
       "   roc_auc.8  roc_auc.9  \n",
       "3     0.9948     0.9988  \n",
       "0     0.9932     0.9994  \n",
       "1     0.9955     0.9996  \n",
       "2     0.9957     0.9997  "
      ]
     },
     "execution_count": 10,
     "metadata": {},
     "output_type": "execute_result"
    }
   ],
   "source": [
    "df_data.round(4)"
   ]
  },
  {
   "cell_type": "code",
   "execution_count": 11,
   "id": "e84f9fa3",
   "metadata": {
    "execution": {
     "iopub.execute_input": "2022-07-07T15:49:39.915982Z",
     "iopub.status.busy": "2022-07-07T15:49:39.915642Z",
     "iopub.status.idle": "2022-07-07T15:49:40.061395Z",
     "shell.execute_reply": "2022-07-07T15:49:40.060531Z"
    },
    "papermill": {
     "duration": 0.151427,
     "end_time": "2022-07-07T15:49:40.063033",
     "exception": false,
     "start_time": "2022-07-07T15:49:39.911606",
     "status": "completed"
    },
    "tags": []
   },
   "outputs": [
    {
     "data": {
      "image/png": "[encoded data removed]",
      "text/plain": [
       "<Figure size 1152x288 with 1 Axes>"
      ]
     },
     "metadata": {
      "needs_background": "light"
     },
     "output_type": "display_data"
    }
   ],
   "source": [
    "def plot_classifier_performance_summary(df_data):\n",
    "    fig, ax = plt.subplots(nrows=1, ncols=1, figsize=(16, 4), sharex=True)\n",
    "\n",
    "    #\n",
    "    ax.plot(\n",
    "        df_data[\"nr_train_images\"], df_data[\"roc_auc_mean\"], marker=\"o\", linestyle=\"--\"\n",
    "    )\n",
    "    ax.set_title(\n",
    "        f\"ROC AUC digit classifier performance on evaluation digits\", fontsize=17\n",
    "    )\n",
    "    ax.set_xlabel(\"Total number of digits in training set\", fontsize=14)\n",
    "    ax.set_ylabel(\"Mean ROC AUC\", fontsize=14)\n",
    "\n",
    "    fig.tight_layout()\n",
    "    fig.show()\n",
    "\n",
    "    return fig\n",
    "\n",
    "\n",
    "fig = plot_classifier_performance_summary(df_data)"
   ]
  },
  {
   "cell_type": "code",
   "execution_count": 12,
   "id": "491b8263",
   "metadata": {
    "execution": {
     "iopub.execute_input": "2022-07-07T15:49:40.072380Z",
     "iopub.status.busy": "2022-07-07T15:49:40.071364Z",
     "iopub.status.idle": "2022-07-07T15:49:40.126694Z",
     "shell.execute_reply": "2022-07-07T15:49:40.125979Z"
    },
    "papermill": {
     "duration": 0.063829,
     "end_time": "2022-07-07T15:49:40.130780",
     "exception": false,
     "start_time": "2022-07-07T15:49:40.066951",
     "status": "completed"
    },
    "tags": []
   },
   "outputs": [],
   "source": [
    "logger.log_figure(\"auc-roc-model-performances.png\", fig)"
   ]
  },
  {
   "cell_type": "code",
   "execution_count": 13,
   "id": "37d165ec",
   "metadata": {
    "execution": {
     "iopub.execute_input": "2022-07-07T15:49:40.139869Z",
     "iopub.status.busy": "2022-07-07T15:49:40.139257Z",
     "iopub.status.idle": "2022-07-07T15:49:40.142350Z",
     "shell.execute_reply": "2022-07-07T15:49:40.141771Z"
    },
    "papermill": {
     "duration": 0.009064,
     "end_time": "2022-07-07T15:49:40.143936",
     "exception": false,
     "start_time": "2022-07-07T15:49:40.134872",
     "status": "completed"
    },
    "tags": []
   },
   "outputs": [],
   "source": [
    "###"
   ]
  },
  {
   "cell_type": "code",
   "execution_count": null,
   "id": "655107af",
   "metadata": {
    "papermill": {
     "duration": 0.003565,
     "end_time": "2022-07-07T15:49:40.150920",
     "exception": false,
     "start_time": "2022-07-07T15:49:40.147355",
     "status": "completed"
    },
    "tags": []
   },
   "outputs": [],
   "source": []
  }
 ],
 "metadata": {
  "jupytext": {
   "cell_metadata_filter": "tags,-all",
   "main_language": "python",
   "notebook_metadata_filter": "-all"
  },
  "language_info": {
   "codemirror_mode": {
    "name": "ipython",
    "version": 3
   },
   "file_extension": ".py",
   "mimetype": "text/x-python",
   "name": "python",
   "nbconvert_exporter": "python",
   "pygments_lexer": "ipython3",
   "version": "3.8.10"
  },
  "papermill": {
   "default_parameters": {},
   "duration": 24.802756,
   "end_time": "2022-07-07T15:49:41.073530",
   "environment_variables": {},
   "exception": null,
   "input_path": "/home/host_user/workspace/mnist-demo-pipeline/mnist-demo-pipeline/notebooks/temp-notebook-zl_ln0ot.ipynb",
   "output_path": "notebooks/summary.ipynb",
   "parameters": {
    "P": {
     "_opentelemetry_traceparent": "00-7d9d1459647cd31c9dab47dd67e7015d-fa567badb828e433-01",
     "pipeline.data_lake_root": "/pipeline-outputs/data-lake",
     "pipeline.github.actor": "matiasdahl",
     "pipeline.github.base_ref": "",
     "pipeline.github.event_name": "push",
     "pipeline.github.head_ref": "",
     "pipeline.github.job": "run-tests-pipeline-and-persist-pipeline-outputs",
     "pipeline.github.ref": "refs/heads/development",
     "pipeline.github.ref_name": "development",
     "pipeline.github.ref_type": "branch",
     "pipeline.github.repository": "pynb-dag-runner/mnist-digits-demo-pipeline",
     "pipeline.github.run_id": "2630712818",
     "pipeline.github.runner_name": "Hosted Agent",
     "pipeline.github.sha": "147a1be9916173fd4d2cd011d8d51e3411215850",
     "pipeline.github.workflow": "Run automated tests, pipeline and deploy results to static reporting site",
     "pipeline.pipeline_run_id": "6fd2431c-296e-452a-b6df-3a5d1d34da89",
     "pipeline.run_environment": "ci",
     "run.retry_nr": "0",
     "task.max_nr_retries": "1",
     "task.notebook": "notebooks/summary.py",
     "task.num_cpus": 1,
     "task.timeout_s": "None"
    }
   },
   "start_time": "2022-07-07T15:49:16.270774",
   "version": "2.3.3"
  }
 },
 "nbformat": 4,
 "nbformat_minor": 5
}