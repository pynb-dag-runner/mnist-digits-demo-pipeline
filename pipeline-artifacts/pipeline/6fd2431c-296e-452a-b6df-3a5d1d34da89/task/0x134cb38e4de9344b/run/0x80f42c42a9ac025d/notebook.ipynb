{
 "cells": [
  {
   "cell_type": "markdown",
   "id": "44358fcf",
   "metadata": {
    "papermill": {
     "duration": 0.006919,
     "end_time": "2022-07-07T15:48:54.606022",
     "exception": false,
     "start_time": "2022-07-07T15:48:54.599103",
     "status": "completed"
    },
    "tags": []
   },
   "source": [
    "# Benchmark model\n",
    "\n",
    "The purpose of this notebook is to benchmark persisted onnx-model (trained in the\n",
    "previous step) against evaluation set."
   ]
  },
  {
   "cell_type": "markdown",
   "id": "6bbb86cc",
   "metadata": {
    "papermill": {
     "duration": 0.004024,
     "end_time": "2022-07-07T15:48:54.615165",
     "exception": false,
     "start_time": "2022-07-07T15:48:54.611141",
     "status": "completed"
    },
    "tags": []
   },
   "source": [
    "### Determine run parameters"
   ]
  },
  {
   "cell_type": "code",
   "execution_count": 1,
   "id": "567d132e",
   "metadata": {
    "execution": {
     "iopub.execute_input": "2022-07-07T15:48:54.625550Z",
     "iopub.status.busy": "2022-07-07T15:48:54.625236Z",
     "iopub.status.idle": "2022-07-07T15:48:54.634360Z",
     "shell.execute_reply": "2022-07-07T15:48:54.633812Z"
    },
    "lines_to_next_cell": 0,
    "papermill": {
     "duration": 0.016836,
     "end_time": "2022-07-07T15:48:54.636512",
     "exception": false,
     "start_time": "2022-07-07T15:48:54.619676",
     "status": "completed"
    },
    "tags": []
   },
   "outputs": [],
   "source": [
    "# ----------------- Parameters for interactive development --------------\n",
    "P = {\n",
    "    \"pipeline.data_lake_root\": \"/pipeline-outputs/data-lake\",\n",
    "    \"task.nr_train_images\": 600,\n",
    "}"
   ]
  },
  {
   "cell_type": "code",
   "execution_count": 2,
   "id": "7cfde010",
   "metadata": {
    "execution": {
     "iopub.execute_input": "2022-07-07T15:48:54.646878Z",
     "iopub.status.busy": "2022-07-07T15:48:54.646623Z",
     "iopub.status.idle": "2022-07-07T15:48:54.650432Z",
     "shell.execute_reply": "2022-07-07T15:48:54.649530Z"
    },
    "lines_to_next_cell": 0,
    "papermill": {
     "duration": 0.011956,
     "end_time": "2022-07-07T15:48:54.653643",
     "exception": false,
     "start_time": "2022-07-07T15:48:54.641687",
     "status": "completed"
    },
    "tags": [
     "parameters"
    ]
   },
   "outputs": [],
   "source": [
    "# - During automated runs parameters will be injected in the below cell -"
   ]
  },
  {
   "cell_type": "code",
   "execution_count": 3,
   "id": "0b39978d",
   "metadata": {
    "execution": {
     "iopub.execute_input": "2022-07-07T15:48:54.666874Z",
     "iopub.status.busy": "2022-07-07T15:48:54.666523Z",
     "iopub.status.idle": "2022-07-07T15:48:54.672243Z",
     "shell.execute_reply": "2022-07-07T15:48:54.671560Z"
    },
    "papermill": {
     "duration": 0.016368,
     "end_time": "2022-07-07T15:48:54.673939",
     "exception": false,
     "start_time": "2022-07-07T15:48:54.657571",
     "status": "completed"
    },
    "tags": [
     "injected-parameters"
    ]
   },
   "outputs": [],
   "source": [
    "# Parameters\n",
    "P = {\n",
    "    \"pipeline.data_lake_root\": \"/pipeline-outputs/data-lake\",\n",
    "    \"pipeline.run_environment\": \"ci\",\n",
    "    \"pipeline.pipeline_run_id\": \"6fd2431c-296e-452a-b6df-3a5d1d34da89\",\n",
    "    \"pipeline.github.repository\": \"pynb-dag-runner/mnist-digits-demo-pipeline\",\n",
    "    \"pipeline.github.workflow\": \"Run automated tests, pipeline and deploy results to static reporting site\",\n",
    "    \"pipeline.github.runner_name\": \"Hosted Agent\",\n",
    "    \"pipeline.github.run_id\": \"2630712818\",\n",
    "    \"pipeline.github.actor\": \"matiasdahl\",\n",
    "    \"pipeline.github.job\": \"run-tests-pipeline-and-persist-pipeline-outputs\",\n",
    "    \"pipeline.github.base_ref\": \"\",\n",
    "    \"pipeline.github.head_ref\": \"\",\n",
    "    \"pipeline.github.sha\": \"147a1be9916173fd4d2cd011d8d51e3411215850\",\n",
    "    \"pipeline.github.ref\": \"refs/heads/development\",\n",
    "    \"pipeline.github.ref_type\": \"branch\",\n",
    "    \"pipeline.github.ref_name\": \"development\",\n",
    "    \"pipeline.github.event_name\": \"push\",\n",
    "    \"task.nr_train_images\": 1000,\n",
    "    \"task.notebook\": \"notebooks/benchmark-model.py\",\n",
    "    \"task.max_nr_retries\": \"1\",\n",
    "    \"run.retry_nr\": \"0\",\n",
    "    \"task.timeout_s\": \"None\",\n",
    "    \"task.num_cpus\": 1,\n",
    "    \"_opentelemetry_traceparent\": \"00-7d9d1459647cd31c9dab47dd67e7015d-f4507f55049de41d-01\",\n",
    "}\n"
   ]
  },
  {
   "cell_type": "code",
   "execution_count": 4,
   "id": "30cd2919",
   "metadata": {
    "execution": {
     "iopub.execute_input": "2022-07-07T15:48:54.683982Z",
     "iopub.status.busy": "2022-07-07T15:48:54.683374Z",
     "iopub.status.idle": "2022-07-07T15:48:54.686426Z",
     "shell.execute_reply": "2022-07-07T15:48:54.685841Z"
    },
    "lines_to_next_cell": 0,
    "papermill": {
     "duration": 0.009829,
     "end_time": "2022-07-07T15:48:54.687804",
     "exception": false,
     "start_time": "2022-07-07T15:48:54.677975",
     "status": "completed"
    },
    "tags": []
   },
   "outputs": [],
   "source": [
    "# -----------------------------------------------------------------------"
   ]
  },
  {
   "cell_type": "markdown",
   "id": "462cdf3a",
   "metadata": {
    "papermill": {
     "duration": 0.003758,
     "end_time": "2022-07-07T15:48:54.697366",
     "exception": false,
     "start_time": "2022-07-07T15:48:54.693608",
     "status": "completed"
    },
    "tags": []
   },
   "source": [
    "---"
   ]
  },
  {
   "cell_type": "markdown",
   "id": "60dd2a8f",
   "metadata": {
    "lines_to_next_cell": 2,
    "papermill": {
     "duration": 0.004086,
     "end_time": "2022-07-07T15:48:54.705297",
     "exception": false,
     "start_time": "2022-07-07T15:48:54.701211",
     "status": "completed"
    },
    "tags": []
   },
   "source": [
    "### Notebook code"
   ]
  },
  {
   "cell_type": "code",
   "execution_count": 5,
   "id": "36f160be",
   "metadata": {
    "execution": {
     "iopub.execute_input": "2022-07-07T15:48:54.715684Z",
     "iopub.status.busy": "2022-07-07T15:48:54.715215Z",
     "iopub.status.idle": "2022-07-07T15:48:55.815890Z",
     "shell.execute_reply": "2022-07-07T15:48:55.814924Z"
    },
    "papermill": {
     "duration": 1.108326,
     "end_time": "2022-07-07T15:48:55.817964",
     "exception": false,
     "start_time": "2022-07-07T15:48:54.709638",
     "status": "completed"
    },
    "tags": []
   },
   "outputs": [
    {
     "name": "stderr",
     "output_type": "stream",
     "text": [
      "2022-07-07 15:48:55,643\tINFO worker.py:842 -- Connecting to existing Ray cluster at address: 172.17.0.2:6379\n"
     ]
    }
   ],
   "source": [
    "import itertools as it\n",
    "\n",
    "#\n",
    "import numpy as np\n",
    "import matplotlib.pyplot as plt\n",
    "\n",
    "#\n",
    "from pynb_dag_runner.tasks.task_opentelemetry_logging import PydarLogger\n",
    "\n",
    "#\n",
    "from common.io import datalake_root\n",
    "\n",
    "logger = PydarLogger(P)"
   ]
  },
  {
   "cell_type": "markdown",
   "id": "b9c9a4f7",
   "metadata": {
    "papermill": {
     "duration": 0.004657,
     "end_time": "2022-07-07T15:48:55.827992",
     "exception": false,
     "start_time": "2022-07-07T15:48:55.823335",
     "status": "completed"
    },
    "tags": []
   },
   "source": [
    "## Load persisted onnx-model and evaluation data"
   ]
  },
  {
   "cell_type": "code",
   "execution_count": 6,
   "id": "611ae334",
   "metadata": {
    "execution": {
     "iopub.execute_input": "2022-07-07T15:48:55.838600Z",
     "iopub.status.busy": "2022-07-07T15:48:55.838246Z",
     "iopub.status.idle": "2022-07-07T15:48:55.841789Z",
     "shell.execute_reply": "2022-07-07T15:48:55.841163Z"
    },
    "papermill": {
     "duration": 0.012552,
     "end_time": "2022-07-07T15:48:55.844628",
     "exception": false,
     "start_time": "2022-07-07T15:48:55.832076",
     "status": "completed"
    },
    "tags": []
   },
   "outputs": [],
   "source": [
    "from common.io import read_onnx, get_onnx_inputs, get_onnx_outputs, read_numpy"
   ]
  },
  {
   "cell_type": "code",
   "execution_count": 7,
   "id": "3c54210a",
   "metadata": {
    "execution": {
     "iopub.execute_input": "2022-07-07T15:48:55.854313Z",
     "iopub.status.busy": "2022-07-07T15:48:55.854042Z",
     "iopub.status.idle": "2022-07-07T15:48:55.863848Z",
     "shell.execute_reply": "2022-07-07T15:48:55.863233Z"
    },
    "lines_to_next_cell": 0,
    "papermill": {
     "duration": 0.016847,
     "end_time": "2022-07-07T15:48:55.865684",
     "exception": false,
     "start_time": "2022-07-07T15:48:55.848837",
     "status": "completed"
    },
    "tags": []
   },
   "outputs": [],
   "source": [
    "onnx_inference_session = read_onnx(\n",
    "    datalake_root(P)\n",
    "    / \"models\"\n",
    "    / f\"nr_train_images={P['task.nr_train_images']}\"\n",
    "    / \"model.onnx\"\n",
    ")"
   ]
  },
  {
   "cell_type": "markdown",
   "id": "43ba1599",
   "metadata": {
    "papermill": {
     "duration": 0.004391,
     "end_time": "2022-07-07T15:48:55.874649",
     "exception": false,
     "start_time": "2022-07-07T15:48:55.870258",
     "status": "completed"
    },
    "tags": []
   },
   "source": [
    "### Record structure of inputs and outputs for ONNX model\n",
    "\n",
    "(this should likely be done in training notebook)"
   ]
  },
  {
   "cell_type": "code",
   "execution_count": 8,
   "id": "dbf657ab",
   "metadata": {
    "execution": {
     "iopub.execute_input": "2022-07-07T15:48:55.884627Z",
     "iopub.status.busy": "2022-07-07T15:48:55.884357Z",
     "iopub.status.idle": "2022-07-07T15:48:55.890541Z",
     "shell.execute_reply": "2022-07-07T15:48:55.890004Z"
    },
    "papermill": {
     "duration": 0.015013,
     "end_time": "2022-07-07T15:48:55.894065",
     "exception": false,
     "start_time": "2022-07-07T15:48:55.879052",
     "status": "completed"
    },
    "tags": []
   },
   "outputs": [
    {
     "name": "stdout",
     "output_type": "stream",
     "text": [
      "{\n",
      "  \"inputs\": [\n",
      "    {\n",
      "      \"name\": \"float_input_8x8_image\",\n",
      "      \"shape\": [\n",
      "        null,\n",
      "        64\n",
      "      ],\n",
      "      \"type\": \"tensor(float)\"\n",
      "    }\n",
      "  ],\n",
      "  \"outputs\": [\n",
      "    {\n",
      "      \"name\": \"output_label\",\n",
      "      \"shape\": [\n",
      "        null\n",
      "      ],\n",
      "      \"type\": \"tensor(int64)\"\n",
      "    },\n",
      "    {\n",
      "      \"name\": \"output_probability\",\n",
      "      \"shape\": [],\n",
      "      \"type\": \"seq(map(int64,tensor(float)))\"\n",
      "    }\n",
      "  ]\n",
      "}\n"
     ]
    }
   ],
   "source": [
    "import json\n",
    "\n",
    "onnx_io = json.dumps(\n",
    "    {\n",
    "        \"inputs\": get_onnx_inputs(onnx_inference_session),\n",
    "        \"outputs\": get_onnx_outputs(onnx_inference_session),\n",
    "    },\n",
    "    indent=2,\n",
    ")\n",
    "\n",
    "\n",
    "logger.log_artefact(\"onnx_io_structure.json\", onnx_io)\n",
    "print(onnx_io)"
   ]
  },
  {
   "cell_type": "markdown",
   "id": "9d6e319a",
   "metadata": {
    "papermill": {
     "duration": 0.004104,
     "end_time": "2022-07-07T15:48:55.903049",
     "exception": false,
     "start_time": "2022-07-07T15:48:55.898945",
     "status": "completed"
    },
    "tags": []
   },
   "source": [
    "### Evaluate model performance on evaluation data set"
   ]
  },
  {
   "cell_type": "code",
   "execution_count": 9,
   "id": "dae88b0f",
   "metadata": {
    "execution": {
     "iopub.execute_input": "2022-07-07T15:48:55.912829Z",
     "iopub.status.busy": "2022-07-07T15:48:55.912559Z",
     "iopub.status.idle": "2022-07-07T15:48:55.917425Z",
     "shell.execute_reply": "2022-07-07T15:48:55.916867Z"
    },
    "papermill": {
     "duration": 0.012659,
     "end_time": "2022-07-07T15:48:55.920022",
     "exception": false,
     "start_time": "2022-07-07T15:48:55.907363",
     "status": "completed"
    },
    "tags": []
   },
   "outputs": [],
   "source": [
    "# load evaluation data\n",
    "X_test = read_numpy(datalake_root(P) / \"test-data\" / \"digits.numpy\")\n",
    "y_test = read_numpy(datalake_root(P) / \"test-data\" / \"labels.numpy\")"
   ]
  },
  {
   "cell_type": "code",
   "execution_count": 10,
   "id": "5bce1d6b",
   "metadata": {
    "execution": {
     "iopub.execute_input": "2022-07-07T15:48:55.930368Z",
     "iopub.status.busy": "2022-07-07T15:48:55.930106Z",
     "iopub.status.idle": "2022-07-07T15:48:55.944744Z",
     "shell.execute_reply": "2022-07-07T15:48:55.944161Z"
    },
    "papermill": {
     "duration": 0.02224,
     "end_time": "2022-07-07T15:48:55.946645",
     "exception": false,
     "start_time": "2022-07-07T15:48:55.924405",
     "status": "completed"
    },
    "tags": []
   },
   "outputs": [],
   "source": [
    "def get_model_outputs(X, onnx_inference_session):\n",
    "    y_pred_labels, y_pred_map = onnx_inference_session.run(\n",
    "        [\"output_label\", \"output_probability\"],\n",
    "        {\"float_input_8x8_image\": X.astype(np.float32)},\n",
    "    )\n",
    "    y_pred_probs = np.array(\n",
    "        [[probabilities[digit] for digit in range(10)] for probabilities in y_pred_map]\n",
    "    )\n",
    "\n",
    "    assert y_pred_labels.shape == (X.shape[0],)\n",
    "    assert y_pred_probs.shape == (X.shape[0], 10)\n",
    "\n",
    "    return y_pred_labels, y_pred_probs\n",
    "\n",
    "\n",
    "# Note: as shown in the training notebook, the predicted labels and probabilities\n",
    "# computed below need not be compatible.\n",
    "y_pred_labels_test, y_pred_probs_test = get_model_outputs(\n",
    "    X_test, onnx_inference_session\n",
    ")"
   ]
  },
  {
   "cell_type": "markdown",
   "id": "e406854e",
   "metadata": {
    "papermill": {
     "duration": 0.004444,
     "end_time": "2022-07-07T15:48:55.956619",
     "exception": false,
     "start_time": "2022-07-07T15:48:55.952175",
     "status": "completed"
    },
    "tags": []
   },
   "source": [
    "### Confusion matrix"
   ]
  },
  {
   "cell_type": "code",
   "execution_count": 11,
   "id": "b0f765ff",
   "metadata": {
    "execution": {
     "iopub.execute_input": "2022-07-07T15:48:55.966294Z",
     "iopub.status.busy": "2022-07-07T15:48:55.966014Z",
     "iopub.status.idle": "2022-07-07T15:48:55.969204Z",
     "shell.execute_reply": "2022-07-07T15:48:55.968525Z"
    },
    "papermill": {
     "duration": 0.010222,
     "end_time": "2022-07-07T15:48:55.971118",
     "exception": false,
     "start_time": "2022-07-07T15:48:55.960896",
     "status": "completed"
    },
    "tags": []
   },
   "outputs": [],
   "source": [
    "# TODO"
   ]
  },
  {
   "cell_type": "markdown",
   "id": "ff6dfaf9",
   "metadata": {
    "papermill": {
     "duration": 0.004731,
     "end_time": "2022-07-07T15:48:55.980331",
     "exception": false,
     "start_time": "2022-07-07T15:48:55.975600",
     "status": "completed"
    },
    "tags": []
   },
   "source": [
    "### Plot predicted probabilities for each classifier over all evaluation digit images"
   ]
  },
  {
   "cell_type": "code",
   "execution_count": 12,
   "id": "a87f69cb",
   "metadata": {
    "execution": {
     "iopub.execute_input": "2022-07-07T15:48:55.990516Z",
     "iopub.status.busy": "2022-07-07T15:48:55.990143Z",
     "iopub.status.idle": "2022-07-07T15:48:58.972164Z",
     "shell.execute_reply": "2022-07-07T15:48:58.971477Z"
    },
    "papermill": {
     "duration": 2.98954,
     "end_time": "2022-07-07T15:48:58.974078",
     "exception": false,
     "start_time": "2022-07-07T15:48:55.984538",
     "status": "completed"
    },
    "tags": []
   },
   "outputs": [
    {
     "name": "stdout",
     "output_type": "stream",
     "text": [
      "\u001b[2m\u001b[1m\u001b[36m(scheduler +1s)\u001b[0m Tip: use `ray status` to view detailed cluster status. To disable these messages, set RAY_SCHEDULER_EVENTS=0.\n",
      "\u001b[2m\u001b[1m\u001b[33m(scheduler +1s)\u001b[0m Warning: The following resource request cannot be scheduled right now: {'CPU': 1.0}. This is likely due to all cluster resources being claimed by actors. Consider creating fewer actors or adding more nodes to this Ray cluster.\n"
     ]
    },
    {
     "data": {
      "image/png": "[encoded data removed]",
      "text/plain": [
       "<Figure size 1152x432 with 10 Axes>"
      ]
     },
     "metadata": {
      "needs_background": "light"
     },
     "output_type": "display_data"
    }
   ],
   "source": [
    "def plot_per_digit_probabilities(y_pred_probs):\n",
    "    fig, axs = plt.subplots(nrows=2, ncols=5, figsize=(16, 6))\n",
    "\n",
    "    for (r, c), digit, ax in zip(\n",
    "        it.product(range(2), range(5)), range(10), axs.reshape(-1)\n",
    "    ):\n",
    "        ax.hist(y_pred_probs_test[:, digit], bins=20)\n",
    "\n",
    "        ax.set_title(f\"Digit {digit}\")\n",
    "        if r == 1 and c == 2:\n",
    "            ax.set_xlabel(\"probability\", fontsize=16)\n",
    "\n",
    "        if c == 0:\n",
    "            ax.set_ylabel(\"counts\", fontsize=16)\n",
    "        ax.set_yscale(\"log\")\n",
    "\n",
    "    fig.tight_layout()\n",
    "    fig.suptitle(\n",
    "        f\"Distributions of prediction probabilities for each digit \"\n",
    "        f\"(on evaluation data, n={y_pred_probs.shape[0]})\",\n",
    "        fontsize=20,\n",
    "    )\n",
    "    fig.tight_layout()\n",
    "    fig.show()\n",
    "\n",
    "    return fig\n",
    "\n",
    "\n",
    "fig = plot_per_digit_probabilities(y_pred_probs_test)"
   ]
  },
  {
   "cell_type": "markdown",
   "id": "e1fffb0f",
   "metadata": {
    "papermill": {
     "duration": 0.004866,
     "end_time": "2022-07-07T15:48:58.984028",
     "exception": false,
     "start_time": "2022-07-07T15:48:58.979162",
     "status": "completed"
    },
    "tags": []
   },
   "source": [
    "From the above distributions we see that most digits have clear separation between\n",
    "high and lower probabilities. Morover, in each case there is roughly an order of\n",
    "magnitude more of digits with low probabilities. This is compatible with digits\n",
    "being roughly evenly distributed in the data."
   ]
  },
  {
   "cell_type": "code",
   "execution_count": 13,
   "id": "396b2237",
   "metadata": {
    "execution": {
     "iopub.execute_input": "2022-07-07T15:48:58.994696Z",
     "iopub.status.busy": "2022-07-07T15:48:58.994396Z",
     "iopub.status.idle": "2022-07-07T15:48:59.441448Z",
     "shell.execute_reply": "2022-07-07T15:48:59.440882Z"
    },
    "papermill": {
     "duration": 0.455797,
     "end_time": "2022-07-07T15:48:59.444319",
     "exception": false,
     "start_time": "2022-07-07T15:48:58.988522",
     "status": "completed"
    },
    "tags": []
   },
   "outputs": [],
   "source": [
    "logger.log_figure(\"per-digit-probabilities.png\", fig)"
   ]
  },
  {
   "cell_type": "markdown",
   "id": "42ad7c21",
   "metadata": {
    "papermill": {
     "duration": 0.005903,
     "end_time": "2022-07-07T15:48:59.455570",
     "exception": false,
     "start_time": "2022-07-07T15:48:59.449667",
     "status": "completed"
    },
    "tags": []
   },
   "source": [
    "### Plot ROC curves for individual one-vs-rest classifiers"
   ]
  },
  {
   "cell_type": "code",
   "execution_count": 14,
   "id": "a4c687a0",
   "metadata": {
    "execution": {
     "iopub.execute_input": "2022-07-07T15:48:59.467690Z",
     "iopub.status.busy": "2022-07-07T15:48:59.467418Z",
     "iopub.status.idle": "2022-07-07T15:48:59.862161Z",
     "shell.execute_reply": "2022-07-07T15:48:59.861562Z"
    },
    "papermill": {
     "duration": 0.403621,
     "end_time": "2022-07-07T15:48:59.864237",
     "exception": false,
     "start_time": "2022-07-07T15:48:59.460616",
     "status": "completed"
    },
    "tags": []
   },
   "outputs": [],
   "source": [
    "from sklearn import metrics"
   ]
  },
  {
   "cell_type": "code",
   "execution_count": 15,
   "id": "e7f65018",
   "metadata": {
    "execution": {
     "iopub.execute_input": "2022-07-07T15:48:59.877007Z",
     "iopub.status.busy": "2022-07-07T15:48:59.876748Z",
     "iopub.status.idle": "2022-07-07T15:49:00.942688Z",
     "shell.execute_reply": "2022-07-07T15:49:00.941781Z"
    },
    "papermill": {
     "duration": 1.074731,
     "end_time": "2022-07-07T15:49:00.944894",
     "exception": false,
     "start_time": "2022-07-07T15:48:59.870163",
     "status": "completed"
    },
    "tags": []
   },
   "outputs": [
    {
     "data": {
      "image/png": "[encoded data removed]",
      "text/plain": [
       "<Figure size 1152x576 with 10 Axes>"
      ]
     },
     "metadata": {
      "needs_background": "light"
     },
     "output_type": "display_data"
    }
   ],
   "source": [
    "def plot_roc_curves(y, y_pred_probs):\n",
    "    # based on example code\n",
    "    # https://scikit-learn.org/stable/auto_examples/model_selection/plot_roc.html\n",
    "\n",
    "    fig, axs = plt.subplots(nrows=2, ncols=5, figsize=(16, 8))\n",
    "\n",
    "    roc_auc_dict = {}\n",
    "\n",
    "    for (r, c), digit, ax in zip(\n",
    "        it.product(range(2), range(5)), range(10), axs.reshape(-1)\n",
    "    ):\n",
    "        fpr, tpr, _ = metrics.roc_curve(y == digit, y_pred_probs[:, digit])\n",
    "        auc = metrics.auc(fpr, tpr)\n",
    "        roc_auc_dict[str(digit)] = auc\n",
    "\n",
    "        ax.plot(fpr, tpr, label=f\"ROC AUC={round(auc, 3)}\")\n",
    "\n",
    "        ax.set_title(f\"\\nDigit {digit}\", fontsize=16)\n",
    "        if r == 1:\n",
    "            ax.set_xlabel(\"FPR\", fontsize=18)\n",
    "\n",
    "        if c == 0:\n",
    "            ax.set_ylabel(\"TPR\", fontsize=18)\n",
    "\n",
    "        ax.set_xlim([-0.05, 1.05])\n",
    "        ax.set_ylim([-0.05, 1.05])\n",
    "        ax.legend(loc=\"lower right\", frameon=False, fontsize=14)\n",
    "\n",
    "    fig.tight_layout()\n",
    "    fig.suptitle(\n",
    "        f\"ROC plots for one-vs-rest performances \"\n",
    "        f\"(on evaluation data, n={y_pred_probs_test.shape[1]}\",\n",
    "        fontsize=22,\n",
    "    )\n",
    "    fig.tight_layout()\n",
    "    fig.show()\n",
    "\n",
    "    return roc_auc_dict, fig\n",
    "\n",
    "\n",
    "roc_auc_dict, fig = plot_roc_curves(y_test, y_pred_probs_test)"
   ]
  },
  {
   "cell_type": "code",
   "execution_count": 16,
   "id": "1486d233",
   "metadata": {
    "execution": {
     "iopub.execute_input": "2022-07-07T15:49:00.962484Z",
     "iopub.status.busy": "2022-07-07T15:49:00.962224Z",
     "iopub.status.idle": "2022-07-07T15:49:01.181266Z",
     "shell.execute_reply": "2022-07-07T15:49:01.180701Z"
    },
    "papermill": {
     "duration": 0.232596,
     "end_time": "2022-07-07T15:49:01.183179",
     "exception": false,
     "start_time": "2022-07-07T15:49:00.950583",
     "status": "completed"
    },
    "tags": []
   },
   "outputs": [],
   "source": [
    "logger.log_figure(\"per-digit-roc-curves.png\", fig)"
   ]
  },
  {
   "cell_type": "code",
   "execution_count": 17,
   "id": "10c35c51",
   "metadata": {
    "execution": {
     "iopub.execute_input": "2022-07-07T15:49:01.196509Z",
     "iopub.status.busy": "2022-07-07T15:49:01.196230Z",
     "iopub.status.idle": "2022-07-07T15:49:01.201587Z",
     "shell.execute_reply": "2022-07-07T15:49:01.201038Z"
    },
    "papermill": {
     "duration": 0.015085,
     "end_time": "2022-07-07T15:49:01.204842",
     "exception": false,
     "start_time": "2022-07-07T15:49:01.189757",
     "status": "completed"
    },
    "tags": []
   },
   "outputs": [
    {
     "data": {
      "text/plain": [
       "{'0': 1.0,\n",
       " '1': 0.998987816307404,\n",
       " '2': 1.0,\n",
       " '3': 0.9998500468603562,\n",
       " '4': 0.9996189605243103,\n",
       " '5': 0.9994001874414246,\n",
       " '6': 0.999923792104862,\n",
       " '7': 0.9997713763145862,\n",
       " '8': 0.9954681588902901,\n",
       " '9': 0.9995808565767414}"
      ]
     },
     "execution_count": 17,
     "metadata": {},
     "output_type": "execute_result"
    }
   ],
   "source": [
    "roc_auc_dict"
   ]
  },
  {
   "cell_type": "code",
   "execution_count": 18,
   "id": "d5ac811a",
   "metadata": {
    "execution": {
     "iopub.execute_input": "2022-07-07T15:49:01.217657Z",
     "iopub.status.busy": "2022-07-07T15:49:01.217421Z",
     "iopub.status.idle": "2022-07-07T15:49:01.221969Z",
     "shell.execute_reply": "2022-07-07T15:49:01.221430Z"
    },
    "papermill": {
     "duration": 0.013859,
     "end_time": "2022-07-07T15:49:01.225001",
     "exception": false,
     "start_time": "2022-07-07T15:49:01.211142",
     "status": "completed"
    },
    "tags": []
   },
   "outputs": [
    {
     "name": "stdout",
     "output_type": "stream",
     "text": [
      " - Logging roc_auc_per_digit (json) : {'0': 1.0, '1': 0.998987816307404, '2': 1.0, '3': 0.9998500468603562, '4': 0.9996189605243103, '5': 0.9994001874414246, '6': 0.999923792104862, '7': 0.9997713763145862, '8': 0.9954681588902901, '9': 0.9995808565767414}\n"
     ]
    }
   ],
   "source": [
    "logger.log_value(\"roc_auc_per_digit\", roc_auc_dict)"
   ]
  },
  {
   "cell_type": "markdown",
   "id": "417cb093",
   "metadata": {
    "papermill": {
     "duration": 0.005655,
     "end_time": "2022-07-07T15:49:01.236805",
     "exception": false,
     "start_time": "2022-07-07T15:49:01.231150",
     "status": "completed"
    },
    "tags": []
   },
   "source": [
    "### Compute and log mean ROC AUC score averaged over all digits"
   ]
  },
  {
   "cell_type": "code",
   "execution_count": 19,
   "id": "a533e391",
   "metadata": {
    "execution": {
     "iopub.execute_input": "2022-07-07T15:49:01.249669Z",
     "iopub.status.busy": "2022-07-07T15:49:01.249368Z",
     "iopub.status.idle": "2022-07-07T15:49:01.266885Z",
     "shell.execute_reply": "2022-07-07T15:49:01.266246Z"
    },
    "papermill": {
     "duration": 0.025554,
     "end_time": "2022-07-07T15:49:01.268588",
     "exception": false,
     "start_time": "2022-07-07T15:49:01.243034",
     "status": "completed"
    },
    "tags": []
   },
   "outputs": [
    {
     "name": "stdout",
     "output_type": "stream",
     "text": [
      " - Logging roc_auc_class_mean (float) : 0.9992601195019976\n"
     ]
    }
   ],
   "source": [
    "roc_auc_macro = np.mean(list(roc_auc_dict.values()))\n",
    "\n",
    "logger.log_float(\"roc_auc_class_mean\", roc_auc_macro)\n",
    "\n",
    "# assert that the same value can be computed directly using sklearn\n",
    "assert roc_auc_macro == metrics.roc_auc_score(\n",
    "    y_test, y_pred_probs_test, average=\"macro\", multi_class=\"ovr\"\n",
    ")"
   ]
  },
  {
   "cell_type": "code",
   "execution_count": 20,
   "id": "a1fdeb93",
   "metadata": {
    "execution": {
     "iopub.execute_input": "2022-07-07T15:49:01.281736Z",
     "iopub.status.busy": "2022-07-07T15:49:01.281352Z",
     "iopub.status.idle": "2022-07-07T15:49:01.284785Z",
     "shell.execute_reply": "2022-07-07T15:49:01.284113Z"
    },
    "lines_to_next_cell": 0,
    "papermill": {
     "duration": 0.011821,
     "end_time": "2022-07-07T15:49:01.286719",
     "exception": false,
     "start_time": "2022-07-07T15:49:01.274898",
     "status": "completed"
    },
    "tags": []
   },
   "outputs": [],
   "source": [
    "# ---"
   ]
  },
  {
   "cell_type": "code",
   "execution_count": null,
   "id": "3d4951ff",
   "metadata": {
    "papermill": {
     "duration": 0.006354,
     "end_time": "2022-07-07T15:49:01.298509",
     "exception": false,
     "start_time": "2022-07-07T15:49:01.292155",
     "status": "completed"
    },
    "tags": []
   },
   "outputs": [],
   "source": []
  }
 ],
 "metadata": {
  "jupytext": {
   "cell_metadata_filter": "tags,-all",
   "main_language": "python",
   "notebook_metadata_filter": "-all"
  },
  "language_info": {
   "codemirror_mode": {
    "name": "ipython",
    "version": 3
   },
   "file_extension": ".py",
   "mimetype": "text/x-python",
   "name": "python",
   "nbconvert_exporter": "python",
   "pygments_lexer": "ipython3",
   "version": "3.8.10"
  },
  "papermill": {
   "default_parameters": {},
   "duration": 9.061213,
   "end_time": "2022-07-07T15:49:02.423357",
   "environment_variables": {},
   "exception": null,
   "input_path": "/home/host_user/workspace/mnist-demo-pipeline/mnist-demo-pipeline/notebooks/temp-notebook-srd5faxg.ipynb",
   "output_path": "notebooks/benchmark-model.ipynb",
   "parameters": {
    "P": {
     "_opentelemetry_traceparent": "00-7d9d1459647cd31c9dab47dd67e7015d-f4507f55049de41d-01",
     "pipeline.data_lake_root": "/pipeline-outputs/data-lake",
     "pipeline.github.actor": "matiasdahl",
     "pipeline.github.base_ref": "",
     "pipeline.github.event_name": "push",
     "pipeline.github.head_ref": "",
     "pipeline.github.job": "run-tests-pipeline-and-persist-pipeline-outputs",
     "pipeline.github.ref": "refs/heads/development",
     "pipeline.github.ref_name": "development",
     "pipeline.github.ref_type": "branch",
     "pipeline.github.repository": "pynb-dag-runner/mnist-digits-demo-pipeline",
     "pipeline.github.run_id": "2630712818",
     "pipeline.github.runner_name": "Hosted Agent",
     "pipeline.github.sha": "147a1be9916173fd4d2cd011d8d51e3411215850",
     "pipeline.github.workflow": "Run automated tests, pipeline and deploy results to static reporting site",
     "pipeline.pipeline_run_id": "6fd2431c-296e-452a-b6df-3a5d1d34da89",
     "pipeline.run_environment": "ci",
     "run.retry_nr": "0",
     "task.max_nr_retries": "1",
     "task.notebook": "notebooks/benchmark-model.py",
     "task.nr_train_images": 1000,
     "task.num_cpus": 1,
     "task.timeout_s": "None"
    }
   },
   "start_time": "2022-07-07T15:48:53.362144",
   "version": "2.3.3"
  }
 },
 "nbformat": 4,
 "nbformat_minor": 5
}