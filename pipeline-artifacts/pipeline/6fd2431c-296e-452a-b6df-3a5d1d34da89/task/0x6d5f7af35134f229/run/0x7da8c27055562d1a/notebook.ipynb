{
 "cells": [
  {
   "cell_type": "markdown",
   "id": "84996e8f",
   "metadata": {
    "papermill": {
     "duration": 0.007198,
     "end_time": "2022-07-07T15:49:07.718618",
     "exception": false,
     "start_time": "2022-07-07T15:49:07.711420",
     "status": "completed"
    },
    "tags": []
   },
   "source": [
    "# Benchmark model\n",
    "\n",
    "The purpose of this notebook is to benchmark persisted onnx-model (trained in the\n",
    "previous step) against evaluation set."
   ]
  },
  {
   "cell_type": "markdown",
   "id": "130fb71c",
   "metadata": {
    "papermill": {
     "duration": 0.003967,
     "end_time": "2022-07-07T15:49:07.727004",
     "exception": false,
     "start_time": "2022-07-07T15:49:07.723037",
     "status": "completed"
    },
    "tags": []
   },
   "source": [
    "### Determine run parameters"
   ]
  },
  {
   "cell_type": "code",
   "execution_count": 1,
   "id": "e3a27d8a",
   "metadata": {
    "execution": {
     "iopub.execute_input": "2022-07-07T15:49:07.736125Z",
     "iopub.status.busy": "2022-07-07T15:49:07.735798Z",
     "iopub.status.idle": "2022-07-07T15:49:07.743875Z",
     "shell.execute_reply": "2022-07-07T15:49:07.743114Z"
    },
    "lines_to_next_cell": 0,
    "papermill": {
     "duration": 0.014966,
     "end_time": "2022-07-07T15:49:07.745802",
     "exception": false,
     "start_time": "2022-07-07T15:49:07.730836",
     "status": "completed"
    },
    "tags": []
   },
   "outputs": [],
   "source": [
    "# ----------------- Parameters for interactive development --------------\n",
    "P = {\n",
    "    \"pipeline.data_lake_root\": \"/pipeline-outputs/data-lake\",\n",
    "    \"task.nr_train_images\": 600,\n",
    "}"
   ]
  },
  {
   "cell_type": "code",
   "execution_count": 2,
   "id": "03e488f1",
   "metadata": {
    "execution": {
     "iopub.execute_input": "2022-07-07T15:49:07.755028Z",
     "iopub.status.busy": "2022-07-07T15:49:07.754795Z",
     "iopub.status.idle": "2022-07-07T15:49:07.757775Z",
     "shell.execute_reply": "2022-07-07T15:49:07.757191Z"
    },
    "lines_to_next_cell": 0,
    "papermill": {
     "duration": 0.010452,
     "end_time": "2022-07-07T15:49:07.760087",
     "exception": false,
     "start_time": "2022-07-07T15:49:07.749635",
     "status": "completed"
    },
    "tags": [
     "parameters"
    ]
   },
   "outputs": [],
   "source": [
    "# - During automated runs parameters will be injected in the below cell -"
   ]
  },
  {
   "cell_type": "code",
   "execution_count": 3,
   "id": "224e5f86",
   "metadata": {
    "execution": {
     "iopub.execute_input": "2022-07-07T15:49:07.769205Z",
     "iopub.status.busy": "2022-07-07T15:49:07.768986Z",
     "iopub.status.idle": "2022-07-07T15:49:07.773360Z",
     "shell.execute_reply": "2022-07-07T15:49:07.772865Z"
    },
    "papermill": {
     "duration": 0.011742,
     "end_time": "2022-07-07T15:49:07.775861",
     "exception": false,
     "start_time": "2022-07-07T15:49:07.764119",
     "status": "completed"
    },
    "tags": [
     "injected-parameters"
    ]
   },
   "outputs": [],
   "source": [
    "# Parameters\n",
    "P = {\n",
    "    \"pipeline.data_lake_root\": \"/pipeline-outputs/data-lake\",\n",
    "    \"pipeline.run_environment\": \"ci\",\n",
    "    \"pipeline.pipeline_run_id\": \"6fd2431c-296e-452a-b6df-3a5d1d34da89\",\n",
    "    \"pipeline.github.repository\": \"pynb-dag-runner/mnist-digits-demo-pipeline\",\n",
    "    \"pipeline.github.workflow\": \"Run automated tests, pipeline and deploy results to static reporting site\",\n",
    "    \"pipeline.github.runner_name\": \"Hosted Agent\",\n",
    "    \"pipeline.github.run_id\": \"2630712818\",\n",
    "    \"pipeline.github.actor\": \"matiasdahl\",\n",
    "    \"pipeline.github.job\": \"run-tests-pipeline-and-persist-pipeline-outputs\",\n",
    "    \"pipeline.github.base_ref\": \"\",\n",
    "    \"pipeline.github.head_ref\": \"\",\n",
    "    \"pipeline.github.sha\": \"147a1be9916173fd4d2cd011d8d51e3411215850\",\n",
    "    \"pipeline.github.ref\": \"refs/heads/development\",\n",
    "    \"pipeline.github.ref_type\": \"branch\",\n",
    "    \"pipeline.github.ref_name\": \"development\",\n",
    "    \"pipeline.github.event_name\": \"push\",\n",
    "    \"task.nr_train_images\": 800,\n",
    "    \"task.notebook\": \"notebooks/benchmark-model.py\",\n",
    "    \"task.max_nr_retries\": \"1\",\n",
    "    \"run.retry_nr\": \"0\",\n",
    "    \"task.timeout_s\": \"None\",\n",
    "    \"task.num_cpus\": 1,\n",
    "    \"_opentelemetry_traceparent\": \"00-7d9d1459647cd31c9dab47dd67e7015d-b05a185914782fd0-01\",\n",
    "}\n"
   ]
  },
  {
   "cell_type": "code",
   "execution_count": 4,
   "id": "8a732412",
   "metadata": {
    "execution": {
     "iopub.execute_input": "2022-07-07T15:49:07.784860Z",
     "iopub.status.busy": "2022-07-07T15:49:07.784644Z",
     "iopub.status.idle": "2022-07-07T15:49:07.787265Z",
     "shell.execute_reply": "2022-07-07T15:49:07.786775Z"
    },
    "lines_to_next_cell": 0,
    "papermill": {
     "duration": 0.010072,
     "end_time": "2022-07-07T15:49:07.789627",
     "exception": false,
     "start_time": "2022-07-07T15:49:07.779555",
     "status": "completed"
    },
    "tags": []
   },
   "outputs": [],
   "source": [
    "# -----------------------------------------------------------------------"
   ]
  },
  {
   "cell_type": "markdown",
   "id": "7c60c951",
   "metadata": {
    "papermill": {
     "duration": 0.004974,
     "end_time": "2022-07-07T15:49:07.798545",
     "exception": false,
     "start_time": "2022-07-07T15:49:07.793571",
     "status": "completed"
    },
    "tags": []
   },
   "source": [
    "---"
   ]
  },
  {
   "cell_type": "markdown",
   "id": "65201a77",
   "metadata": {
    "lines_to_next_cell": 2,
    "papermill": {
     "duration": 0.003875,
     "end_time": "2022-07-07T15:49:07.806228",
     "exception": false,
     "start_time": "2022-07-07T15:49:07.802353",
     "status": "completed"
    },
    "tags": []
   },
   "source": [
    "### Notebook code"
   ]
  },
  {
   "cell_type": "code",
   "execution_count": 5,
   "id": "77cb4537",
   "metadata": {
    "execution": {
     "iopub.execute_input": "2022-07-07T15:49:07.815286Z",
     "iopub.status.busy": "2022-07-07T15:49:07.815018Z",
     "iopub.status.idle": "2022-07-07T15:49:08.921081Z",
     "shell.execute_reply": "2022-07-07T15:49:08.920465Z"
    },
    "papermill": {
     "duration": 1.112795,
     "end_time": "2022-07-07T15:49:08.922891",
     "exception": false,
     "start_time": "2022-07-07T15:49:07.810096",
     "status": "completed"
    },
    "tags": []
   },
   "outputs": [
    {
     "name": "stderr",
     "output_type": "stream",
     "text": [
      "2022-07-07 15:49:08,727\tINFO worker.py:842 -- Connecting to existing Ray cluster at address: 172.17.0.2:6379\n"
     ]
    }
   ],
   "source": [
    "import itertools as it\n",
    "\n",
    "#\n",
    "import numpy as np\n",
    "import matplotlib.pyplot as plt\n",
    "\n",
    "#\n",
    "from pynb_dag_runner.tasks.task_opentelemetry_logging import PydarLogger\n",
    "\n",
    "#\n",
    "from common.io import datalake_root\n",
    "\n",
    "logger = PydarLogger(P)"
   ]
  },
  {
   "cell_type": "markdown",
   "id": "cebac261",
   "metadata": {
    "papermill": {
     "duration": 0.004202,
     "end_time": "2022-07-07T15:49:08.931264",
     "exception": false,
     "start_time": "2022-07-07T15:49:08.927062",
     "status": "completed"
    },
    "tags": []
   },
   "source": [
    "## Load persisted onnx-model and evaluation data"
   ]
  },
  {
   "cell_type": "code",
   "execution_count": 6,
   "id": "d39d2b36",
   "metadata": {
    "execution": {
     "iopub.execute_input": "2022-07-07T15:49:08.940177Z",
     "iopub.status.busy": "2022-07-07T15:49:08.939800Z",
     "iopub.status.idle": "2022-07-07T15:49:08.943433Z",
     "shell.execute_reply": "2022-07-07T15:49:08.942936Z"
    },
    "papermill": {
     "duration": 0.010975,
     "end_time": "2022-07-07T15:49:08.946020",
     "exception": false,
     "start_time": "2022-07-07T15:49:08.935045",
     "status": "completed"
    },
    "tags": []
   },
   "outputs": [],
   "source": [
    "from common.io import read_onnx, get_onnx_inputs, get_onnx_outputs, read_numpy"
   ]
  },
  {
   "cell_type": "code",
   "execution_count": 7,
   "id": "51ab3b62",
   "metadata": {
    "execution": {
     "iopub.execute_input": "2022-07-07T15:49:08.956361Z",
     "iopub.status.busy": "2022-07-07T15:49:08.956131Z",
     "iopub.status.idle": "2022-07-07T15:49:08.966047Z",
     "shell.execute_reply": "2022-07-07T15:49:08.965571Z"
    },
    "lines_to_next_cell": 0,
    "papermill": {
     "duration": 0.016527,
     "end_time": "2022-07-07T15:49:08.967608",
     "exception": false,
     "start_time": "2022-07-07T15:49:08.951081",
     "status": "completed"
    },
    "tags": []
   },
   "outputs": [],
   "source": [
    "onnx_inference_session = read_onnx(\n",
    "    datalake_root(P)\n",
    "    / \"models\"\n",
    "    / f\"nr_train_images={P['task.nr_train_images']}\"\n",
    "    / \"model.onnx\"\n",
    ")"
   ]
  },
  {
   "cell_type": "markdown",
   "id": "2784b633",
   "metadata": {
    "papermill": {
     "duration": 0.004061,
     "end_time": "2022-07-07T15:49:08.975523",
     "exception": false,
     "start_time": "2022-07-07T15:49:08.971462",
     "status": "completed"
    },
    "tags": []
   },
   "source": [
    "### Record structure of inputs and outputs for ONNX model\n",
    "\n",
    "(this should likely be done in training notebook)"
   ]
  },
  {
   "cell_type": "code",
   "execution_count": 8,
   "id": "99f58321",
   "metadata": {
    "execution": {
     "iopub.execute_input": "2022-07-07T15:49:08.984442Z",
     "iopub.status.busy": "2022-07-07T15:49:08.984224Z",
     "iopub.status.idle": "2022-07-07T15:49:08.989170Z",
     "shell.execute_reply": "2022-07-07T15:49:08.988634Z"
    },
    "papermill": {
     "duration": 0.012627,
     "end_time": "2022-07-07T15:49:08.992034",
     "exception": false,
     "start_time": "2022-07-07T15:49:08.979407",
     "status": "completed"
    },
    "tags": []
   },
   "outputs": [
    {
     "name": "stdout",
     "output_type": "stream",
     "text": [
      "{\n",
      "  \"inputs\": [\n",
      "    {\n",
      "      \"name\": \"float_input_8x8_image\",\n",
      "      \"shape\": [\n",
      "        null,\n",
      "        64\n",
      "      ],\n",
      "      \"type\": \"tensor(float)\"\n",
      "    }\n",
      "  ],\n",
      "  \"outputs\": [\n",
      "    {\n",
      "      \"name\": \"output_label\",\n",
      "      \"shape\": [\n",
      "        null\n",
      "      ],\n",
      "      \"type\": \"tensor(int64)\"\n",
      "    },\n",
      "    {\n",
      "      \"name\": \"output_probability\",\n",
      "      \"shape\": [],\n",
      "      \"type\": \"seq(map(int64,tensor(float)))\"\n",
      "    }\n",
      "  ]\n",
      "}\n"
     ]
    }
   ],
   "source": [
    "import json\n",
    "\n",
    "onnx_io = json.dumps(\n",
    "    {\n",
    "        \"inputs\": get_onnx_inputs(onnx_inference_session),\n",
    "        \"outputs\": get_onnx_outputs(onnx_inference_session),\n",
    "    },\n",
    "    indent=2,\n",
    ")\n",
    "\n",
    "\n",
    "logger.log_artefact(\"onnx_io_structure.json\", onnx_io)\n",
    "print(onnx_io)"
   ]
  },
  {
   "cell_type": "markdown",
   "id": "8e778bdb",
   "metadata": {
    "papermill": {
     "duration": 0.004328,
     "end_time": "2022-07-07T15:49:09.000469",
     "exception": false,
     "start_time": "2022-07-07T15:49:08.996141",
     "status": "completed"
    },
    "tags": []
   },
   "source": [
    "### Evaluate model performance on evaluation data set"
   ]
  },
  {
   "cell_type": "code",
   "execution_count": 9,
   "id": "de362765",
   "metadata": {
    "execution": {
     "iopub.execute_input": "2022-07-07T15:49:09.009717Z",
     "iopub.status.busy": "2022-07-07T15:49:09.009478Z",
     "iopub.status.idle": "2022-07-07T15:49:09.013933Z",
     "shell.execute_reply": "2022-07-07T15:49:09.013275Z"
    },
    "papermill": {
     "duration": 0.011625,
     "end_time": "2022-07-07T15:49:09.016299",
     "exception": false,
     "start_time": "2022-07-07T15:49:09.004674",
     "status": "completed"
    },
    "tags": []
   },
   "outputs": [],
   "source": [
    "# load evaluation data\n",
    "X_test = read_numpy(datalake_root(P) / \"test-data\" / \"digits.numpy\")\n",
    "y_test = read_numpy(datalake_root(P) / \"test-data\" / \"labels.numpy\")"
   ]
  },
  {
   "cell_type": "code",
   "execution_count": 10,
   "id": "7a8177de",
   "metadata": {
    "execution": {
     "iopub.execute_input": "2022-07-07T15:49:09.025821Z",
     "iopub.status.busy": "2022-07-07T15:49:09.025587Z",
     "iopub.status.idle": "2022-07-07T15:49:09.038271Z",
     "shell.execute_reply": "2022-07-07T15:49:09.037748Z"
    },
    "papermill": {
     "duration": 0.019183,
     "end_time": "2022-07-07T15:49:09.039930",
     "exception": false,
     "start_time": "2022-07-07T15:49:09.020747",
     "status": "completed"
    },
    "tags": []
   },
   "outputs": [],
   "source": [
    "def get_model_outputs(X, onnx_inference_session):\n",
    "    y_pred_labels, y_pred_map = onnx_inference_session.run(\n",
    "        [\"output_label\", \"output_probability\"],\n",
    "        {\"float_input_8x8_image\": X.astype(np.float32)},\n",
    "    )\n",
    "    y_pred_probs = np.array(\n",
    "        [[probabilities[digit] for digit in range(10)] for probabilities in y_pred_map]\n",
    "    )\n",
    "\n",
    "    assert y_pred_labels.shape == (X.shape[0],)\n",
    "    assert y_pred_probs.shape == (X.shape[0], 10)\n",
    "\n",
    "    return y_pred_labels, y_pred_probs\n",
    "\n",
    "\n",
    "# Note: as shown in the training notebook, the predicted labels and probabilities\n",
    "# computed below need not be compatible.\n",
    "y_pred_labels_test, y_pred_probs_test = get_model_outputs(\n",
    "    X_test, onnx_inference_session\n",
    ")"
   ]
  },
  {
   "cell_type": "markdown",
   "id": "fe0bfc59",
   "metadata": {
    "papermill": {
     "duration": 0.004412,
     "end_time": "2022-07-07T15:49:09.048845",
     "exception": false,
     "start_time": "2022-07-07T15:49:09.044433",
     "status": "completed"
    },
    "tags": []
   },
   "source": [
    "### Confusion matrix"
   ]
  },
  {
   "cell_type": "code",
   "execution_count": 11,
   "id": "ed3cd981",
   "metadata": {
    "execution": {
     "iopub.execute_input": "2022-07-07T15:49:09.057994Z",
     "iopub.status.busy": "2022-07-07T15:49:09.057750Z",
     "iopub.status.idle": "2022-07-07T15:49:09.060456Z",
     "shell.execute_reply": "2022-07-07T15:49:09.059936Z"
    },
    "papermill": {
     "duration": 0.011196,
     "end_time": "2022-07-07T15:49:09.063985",
     "exception": false,
     "start_time": "2022-07-07T15:49:09.052789",
     "status": "completed"
    },
    "tags": []
   },
   "outputs": [],
   "source": [
    "# TODO"
   ]
  },
  {
   "cell_type": "markdown",
   "id": "4d242780",
   "metadata": {
    "papermill": {
     "duration": 0.003921,
     "end_time": "2022-07-07T15:49:09.072233",
     "exception": false,
     "start_time": "2022-07-07T15:49:09.068312",
     "status": "completed"
    },
    "tags": []
   },
   "source": [
    "### Plot predicted probabilities for each classifier over all evaluation digit images"
   ]
  },
  {
   "cell_type": "code",
   "execution_count": 12,
   "id": "a869c88f",
   "metadata": {
    "execution": {
     "iopub.execute_input": "2022-07-07T15:49:09.081307Z",
     "iopub.status.busy": "2022-07-07T15:49:09.081092Z",
     "iopub.status.idle": "2022-07-07T15:49:12.031732Z",
     "shell.execute_reply": "2022-07-07T15:49:12.031086Z"
    },
    "papermill": {
     "duration": 2.957131,
     "end_time": "2022-07-07T15:49:12.033376",
     "exception": false,
     "start_time": "2022-07-07T15:49:09.076245",
     "status": "completed"
    },
    "tags": []
   },
   "outputs": [
    {
     "data": {
      "image/png": "[encoded data removed]",
      "text/plain": [
       "<Figure size 1152x432 with 10 Axes>"
      ]
     },
     "metadata": {
      "needs_background": "light"
     },
     "output_type": "display_data"
    }
   ],
   "source": [
    "def plot_per_digit_probabilities(y_pred_probs):\n",
    "    fig, axs = plt.subplots(nrows=2, ncols=5, figsize=(16, 6))\n",
    "\n",
    "    for (r, c), digit, ax in zip(\n",
    "        it.product(range(2), range(5)), range(10), axs.reshape(-1)\n",
    "    ):\n",
    "        ax.hist(y_pred_probs_test[:, digit], bins=20)\n",
    "\n",
    "        ax.set_title(f\"Digit {digit}\")\n",
    "        if r == 1 and c == 2:\n",
    "            ax.set_xlabel(\"probability\", fontsize=16)\n",
    "\n",
    "        if c == 0:\n",
    "            ax.set_ylabel(\"counts\", fontsize=16)\n",
    "        ax.set_yscale(\"log\")\n",
    "\n",
    "    fig.tight_layout()\n",
    "    fig.suptitle(\n",
    "        f\"Distributions of prediction probabilities for each digit \"\n",
    "        f\"(on evaluation data, n={y_pred_probs.shape[0]})\",\n",
    "        fontsize=20,\n",
    "    )\n",
    "    fig.tight_layout()\n",
    "    fig.show()\n",
    "\n",
    "    return fig\n",
    "\n",
    "\n",
    "fig = plot_per_digit_probabilities(y_pred_probs_test)"
   ]
  },
  {
   "cell_type": "markdown",
   "id": "0b7287ed",
   "metadata": {
    "papermill": {
     "duration": 0.004576,
     "end_time": "2022-07-07T15:49:12.043583",
     "exception": false,
     "start_time": "2022-07-07T15:49:12.039007",
     "status": "completed"
    },
    "tags": []
   },
   "source": [
    "From the above distributions we see that most digits have clear separation between\n",
    "high and lower probabilities. Morover, in each case there is roughly an order of\n",
    "magnitude more of digits with low probabilities. This is compatible with digits\n",
    "being roughly evenly distributed in the data."
   ]
  },
  {
   "cell_type": "code",
   "execution_count": 13,
   "id": "fe75bdeb",
   "metadata": {
    "execution": {
     "iopub.execute_input": "2022-07-07T15:49:12.054394Z",
     "iopub.status.busy": "2022-07-07T15:49:12.054127Z",
     "iopub.status.idle": "2022-07-07T15:49:12.445712Z",
     "shell.execute_reply": "2022-07-07T15:49:12.444103Z"
    },
    "papermill": {
     "duration": 0.401479,
     "end_time": "2022-07-07T15:49:12.449731",
     "exception": false,
     "start_time": "2022-07-07T15:49:12.048252",
     "status": "completed"
    },
    "tags": []
   },
   "outputs": [],
   "source": [
    "logger.log_figure(\"per-digit-probabilities.png\", fig)"
   ]
  },
  {
   "cell_type": "markdown",
   "id": "48c20299",
   "metadata": {
    "papermill": {
     "duration": 0.004792,
     "end_time": "2022-07-07T15:49:12.459547",
     "exception": false,
     "start_time": "2022-07-07T15:49:12.454755",
     "status": "completed"
    },
    "tags": []
   },
   "source": [
    "### Plot ROC curves for individual one-vs-rest classifiers"
   ]
  },
  {
   "cell_type": "code",
   "execution_count": 14,
   "id": "0a4caf32",
   "metadata": {
    "execution": {
     "iopub.execute_input": "2022-07-07T15:49:12.470913Z",
     "iopub.status.busy": "2022-07-07T15:49:12.470544Z",
     "iopub.status.idle": "2022-07-07T15:49:12.818599Z",
     "shell.execute_reply": "2022-07-07T15:49:12.817972Z"
    },
    "papermill": {
     "duration": 0.355702,
     "end_time": "2022-07-07T15:49:12.820517",
     "exception": false,
     "start_time": "2022-07-07T15:49:12.464815",
     "status": "completed"
    },
    "tags": []
   },
   "outputs": [],
   "source": [
    "from sklearn import metrics"
   ]
  },
  {
   "cell_type": "code",
   "execution_count": 15,
   "id": "c7080c3d",
   "metadata": {
    "execution": {
     "iopub.execute_input": "2022-07-07T15:49:12.837088Z",
     "iopub.status.busy": "2022-07-07T15:49:12.836478Z",
     "iopub.status.idle": "2022-07-07T15:49:13.801327Z",
     "shell.execute_reply": "2022-07-07T15:49:13.800524Z"
    },
    "papermill": {
     "duration": 0.977714,
     "end_time": "2022-07-07T15:49:13.802953",
     "exception": false,
     "start_time": "2022-07-07T15:49:12.825239",
     "status": "completed"
    },
    "tags": []
   },
   "outputs": [
    {
     "data": {
      "image/png": "[encoded data removed]",
      "text/plain": [
       "<Figure size 1152x576 with 10 Axes>"
      ]
     },
     "metadata": {
      "needs_background": "light"
     },
     "output_type": "display_data"
    }
   ],
   "source": [
    "def plot_roc_curves(y, y_pred_probs):\n",
    "    # based on example code\n",
    "    # https://scikit-learn.org/stable/auto_examples/model_selection/plot_roc.html\n",
    "\n",
    "    fig, axs = plt.subplots(nrows=2, ncols=5, figsize=(16, 8))\n",
    "\n",
    "    roc_auc_dict = {}\n",
    "\n",
    "    for (r, c), digit, ax in zip(\n",
    "        it.product(range(2), range(5)), range(10), axs.reshape(-1)\n",
    "    ):\n",
    "        fpr, tpr, _ = metrics.roc_curve(y == digit, y_pred_probs[:, digit])\n",
    "        auc = metrics.auc(fpr, tpr)\n",
    "        roc_auc_dict[str(digit)] = auc\n",
    "\n",
    "        ax.plot(fpr, tpr, label=f\"ROC AUC={round(auc, 3)}\")\n",
    "\n",
    "        ax.set_title(f\"\\nDigit {digit}\", fontsize=16)\n",
    "        if r == 1:\n",
    "            ax.set_xlabel(\"FPR\", fontsize=18)\n",
    "\n",
    "        if c == 0:\n",
    "            ax.set_ylabel(\"TPR\", fontsize=18)\n",
    "\n",
    "        ax.set_xlim([-0.05, 1.05])\n",
    "        ax.set_ylim([-0.05, 1.05])\n",
    "        ax.legend(loc=\"lower right\", frameon=False, fontsize=14)\n",
    "\n",
    "    fig.tight_layout()\n",
    "    fig.suptitle(\n",
    "        f\"ROC plots for one-vs-rest performances \"\n",
    "        f\"(on evaluation data, n={y_pred_probs_test.shape[1]}\",\n",
    "        fontsize=22,\n",
    "    )\n",
    "    fig.tight_layout()\n",
    "    fig.show()\n",
    "\n",
    "    return roc_auc_dict, fig\n",
    "\n",
    "\n",
    "roc_auc_dict, fig = plot_roc_curves(y_test, y_pred_probs_test)"
   ]
  },
  {
   "cell_type": "code",
   "execution_count": 16,
   "id": "59e4cb60",
   "metadata": {
    "execution": {
     "iopub.execute_input": "2022-07-07T15:49:13.814940Z",
     "iopub.status.busy": "2022-07-07T15:49:13.814363Z",
     "iopub.status.idle": "2022-07-07T15:49:14.011509Z",
     "shell.execute_reply": "2022-07-07T15:49:14.010868Z"
    },
    "papermill": {
     "duration": 0.204973,
     "end_time": "2022-07-07T15:49:14.013307",
     "exception": false,
     "start_time": "2022-07-07T15:49:13.808334",
     "status": "completed"
    },
    "tags": []
   },
   "outputs": [],
   "source": [
    "logger.log_figure(\"per-digit-roc-curves.png\", fig)"
   ]
  },
  {
   "cell_type": "code",
   "execution_count": 17,
   "id": "41ef69eb",
   "metadata": {
    "execution": {
     "iopub.execute_input": "2022-07-07T15:49:14.025412Z",
     "iopub.status.busy": "2022-07-07T15:49:14.025048Z",
     "iopub.status.idle": "2022-07-07T15:49:14.029655Z",
     "shell.execute_reply": "2022-07-07T15:49:14.028943Z"
    },
    "papermill": {
     "duration": 0.012171,
     "end_time": "2022-07-07T15:49:14.030900",
     "exception": false,
     "start_time": "2022-07-07T15:49:14.018729",
     "status": "completed"
    },
    "tags": []
   },
   "outputs": [
    {
     "data": {
      "text/plain": [
       "{'0': 1.0,\n",
       " '1': 0.9988378631677601,\n",
       " '2': 1.0,\n",
       " '3': 0.9998125585754452,\n",
       " '4': 0.9995046486816034,\n",
       " '5': 0.9991002811621369,\n",
       " '6': 0.999961896052431,\n",
       " '7': 0.9998856881572931,\n",
       " '8': 0.9931825346784364,\n",
       " '9': 0.9994284407864655}"
      ]
     },
     "execution_count": 17,
     "metadata": {},
     "output_type": "execute_result"
    }
   ],
   "source": [
    "roc_auc_dict"
   ]
  },
  {
   "cell_type": "code",
   "execution_count": 18,
   "id": "1ab20cb2",
   "metadata": {
    "execution": {
     "iopub.execute_input": "2022-07-07T15:49:14.042830Z",
     "iopub.status.busy": "2022-07-07T15:49:14.042291Z",
     "iopub.status.idle": "2022-07-07T15:49:14.046450Z",
     "shell.execute_reply": "2022-07-07T15:49:14.045973Z"
    },
    "papermill": {
     "duration": 0.011675,
     "end_time": "2022-07-07T15:49:14.047818",
     "exception": false,
     "start_time": "2022-07-07T15:49:14.036143",
     "status": "completed"
    },
    "tags": []
   },
   "outputs": [
    {
     "name": "stdout",
     "output_type": "stream",
     "text": [
      " - Logging roc_auc_per_digit (json) : {'0': 1.0, '1': 0.9988378631677601, '2': 1.0, '3': 0.9998125585754452, '4': 0.9995046486816034, '5': 0.9991002811621369, '6': 0.999961896052431, '7': 0.9998856881572931, '8': 0.9931825346784364, '9': 0.9994284407864655}\n"
     ]
    }
   ],
   "source": [
    "logger.log_value(\"roc_auc_per_digit\", roc_auc_dict)"
   ]
  },
  {
   "cell_type": "markdown",
   "id": "18b90396",
   "metadata": {
    "papermill": {
     "duration": 0.005196,
     "end_time": "2022-07-07T15:49:14.058281",
     "exception": false,
     "start_time": "2022-07-07T15:49:14.053085",
     "status": "completed"
    },
    "tags": []
   },
   "source": [
    "### Compute and log mean ROC AUC score averaged over all digits"
   ]
  },
  {
   "cell_type": "code",
   "execution_count": 19,
   "id": "352ddf95",
   "metadata": {
    "execution": {
     "iopub.execute_input": "2022-07-07T15:49:14.072375Z",
     "iopub.status.busy": "2022-07-07T15:49:14.071946Z",
     "iopub.status.idle": "2022-07-07T15:49:14.083399Z",
     "shell.execute_reply": "2022-07-07T15:49:14.082784Z"
    },
    "papermill": {
     "duration": 0.021237,
     "end_time": "2022-07-07T15:49:14.084876",
     "exception": false,
     "start_time": "2022-07-07T15:49:14.063639",
     "status": "completed"
    },
    "tags": []
   },
   "outputs": [
    {
     "name": "stdout",
     "output_type": "stream",
     "text": [
      " - Logging roc_auc_class_mean (float) : 0.9989713911261571\n"
     ]
    }
   ],
   "source": [
    "roc_auc_macro = np.mean(list(roc_auc_dict.values()))\n",
    "\n",
    "logger.log_float(\"roc_auc_class_mean\", roc_auc_macro)\n",
    "\n",
    "# assert that the same value can be computed directly using sklearn\n",
    "assert roc_auc_macro == metrics.roc_auc_score(\n",
    "    y_test, y_pred_probs_test, average=\"macro\", multi_class=\"ovr\"\n",
    ")"
   ]
  },
  {
   "cell_type": "code",
   "execution_count": 20,
   "id": "969a03b4",
   "metadata": {
    "execution": {
     "iopub.execute_input": "2022-07-07T15:49:14.097262Z",
     "iopub.status.busy": "2022-07-07T15:49:14.096928Z",
     "iopub.status.idle": "2022-07-07T15:49:14.099755Z",
     "shell.execute_reply": "2022-07-07T15:49:14.099150Z"
    },
    "lines_to_next_cell": 0,
    "papermill": {
     "duration": 0.010969,
     "end_time": "2022-07-07T15:49:14.101201",
     "exception": false,
     "start_time": "2022-07-07T15:49:14.090232",
     "status": "completed"
    },
    "tags": []
   },
   "outputs": [],
   "source": [
    "# ---"
   ]
  },
  {
   "cell_type": "code",
   "execution_count": null,
   "id": "4380400b",
   "metadata": {
    "papermill": {
     "duration": 0.005378,
     "end_time": "2022-07-07T15:49:14.112015",
     "exception": false,
     "start_time": "2022-07-07T15:49:14.106637",
     "status": "completed"
    },
    "tags": []
   },
   "outputs": [],
   "source": []
  }
 ],
 "metadata": {
  "jupytext": {
   "cell_metadata_filter": "tags,-all",
   "main_language": "python",
   "notebook_metadata_filter": "-all"
  },
  "language_info": {
   "codemirror_mode": {
    "name": "ipython",
    "version": 3
   },
   "file_extension": ".py",
   "mimetype": "text/x-python",
   "name": "python",
   "nbconvert_exporter": "python",
   "pygments_lexer": "ipython3",
   "version": "3.8.10"
  },
  "papermill": {
   "default_parameters": {},
   "duration": 8.661239,
   "end_time": "2022-07-07T15:49:15.135446",
   "environment_variables": {},
   "exception": null,
   "input_path": "/home/host_user/workspace/mnist-demo-pipeline/mnist-demo-pipeline/notebooks/temp-notebook-ddb0va1d.ipynb",
   "output_path": "notebooks/benchmark-model.ipynb",
   "parameters": {
    "P": {
     "_opentelemetry_traceparent": "00-7d9d1459647cd31c9dab47dd67e7015d-b05a185914782fd0-01",
     "pipeline.data_lake_root": "/pipeline-outputs/data-lake",
     "pipeline.github.actor": "matiasdahl",
     "pipeline.github.base_ref": "",
     "pipeline.github.event_name": "push",
     "pipeline.github.head_ref": "",
     "pipeline.github.job": "run-tests-pipeline-and-persist-pipeline-outputs",
     "pipeline.github.ref": "refs/heads/development",
     "pipeline.github.ref_name": "development",
     "pipeline.github.ref_type": "branch",
     "pipeline.github.repository": "pynb-dag-runner/mnist-digits-demo-pipeline",
     "pipeline.github.run_id": "2630712818",
     "pipeline.github.runner_name": "Hosted Agent",
     "pipeline.github.sha": "147a1be9916173fd4d2cd011d8d51e3411215850",
     "pipeline.github.workflow": "Run automated tests, pipeline and deploy results to static reporting site",
     "pipeline.pipeline_run_id": "6fd2431c-296e-452a-b6df-3a5d1d34da89",
     "pipeline.run_environment": "ci",
     "run.retry_nr": "0",
     "task.max_nr_retries": "1",
     "task.notebook": "notebooks/benchmark-model.py",
     "task.nr_train_images": 800,
     "task.num_cpus": 1,
     "task.timeout_s": "None"
    }
   },
   "start_time": "2022-07-07T15:49:06.474207",
   "version": "2.3.3"
  }
 },
 "nbformat": 4,
 "nbformat_minor": 5
}