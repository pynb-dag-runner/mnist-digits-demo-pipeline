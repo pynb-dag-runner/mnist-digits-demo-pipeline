{
 "cells": [
  {
   "cell_type": "markdown",
   "id": "3367d9b7",
   "metadata": {
    "papermill": {
     "duration": 0.003435,
     "end_time": "2022-07-07T15:48:31.966332",
     "exception": false,
     "start_time": "2022-07-07T15:48:31.962897",
     "status": "completed"
    },
    "tags": []
   },
   "source": [
    "# Ingest toy version of MNIST digit data from sklearn"
   ]
  },
  {
   "cell_type": "markdown",
   "id": "b9c09ee0",
   "metadata": {
    "papermill": {
     "duration": 0.002189,
     "end_time": "2022-07-07T15:48:31.971116",
     "exception": false,
     "start_time": "2022-07-07T15:48:31.968927",
     "status": "completed"
    },
    "tags": []
   },
   "source": [
    "### Determine run parameters"
   ]
  },
  {
   "cell_type": "code",
   "execution_count": 1,
   "id": "3030f307",
   "metadata": {
    "execution": {
     "iopub.execute_input": "2022-07-07T15:48:31.979986Z",
     "iopub.status.busy": "2022-07-07T15:48:31.979387Z",
     "iopub.status.idle": "2022-07-07T15:48:31.987918Z",
     "shell.execute_reply": "2022-07-07T15:48:31.987315Z"
    },
    "lines_to_next_cell": 0,
    "papermill": {
     "duration": 0.016013,
     "end_time": "2022-07-07T15:48:31.989590",
     "exception": false,
     "start_time": "2022-07-07T15:48:31.973577",
     "status": "completed"
    },
    "tags": []
   },
   "outputs": [],
   "source": [
    "# ----------------- Parameters for interactive development --------------\n",
    "P = {\n",
    "    \"pipeline.run_environment\": \"dev\",\n",
    "    \"pipeline.data_lake_root\": \"/pipeline-outputs/data-lake\",\n",
    "    \"run.retry_nr\": \"1\",\n",
    "}"
   ]
  },
  {
   "cell_type": "code",
   "execution_count": 2,
   "id": "82651f97",
   "metadata": {
    "execution": {
     "iopub.execute_input": "2022-07-07T15:48:31.996289Z",
     "iopub.status.busy": "2022-07-07T15:48:31.995810Z",
     "iopub.status.idle": "2022-07-07T15:48:31.999181Z",
     "shell.execute_reply": "2022-07-07T15:48:31.998605Z"
    },
    "lines_to_next_cell": 0,
    "papermill": {
     "duration": 0.008174,
     "end_time": "2022-07-07T15:48:32.000558",
     "exception": false,
     "start_time": "2022-07-07T15:48:31.992384",
     "status": "completed"
    },
    "tags": [
     "parameters"
    ]
   },
   "outputs": [],
   "source": [
    "# - During automated runs parameters will be injected in the below cell -"
   ]
  },
  {
   "cell_type": "code",
   "execution_count": 3,
   "id": "2960d639",
   "metadata": {
    "execution": {
     "iopub.execute_input": "2022-07-07T15:48:32.006388Z",
     "iopub.status.busy": "2022-07-07T15:48:32.005982Z",
     "iopub.status.idle": "2022-07-07T15:48:32.010460Z",
     "shell.execute_reply": "2022-07-07T15:48:32.009893Z"
    },
    "papermill": {
     "duration": 0.008783,
     "end_time": "2022-07-07T15:48:32.011733",
     "exception": false,
     "start_time": "2022-07-07T15:48:32.002950",
     "status": "completed"
    },
    "tags": [
     "injected-parameters"
    ]
   },
   "outputs": [],
   "source": [
    "# Parameters\n",
    "P = {\n",
    "    \"pipeline.data_lake_root\": \"/pipeline-outputs/data-lake\",\n",
    "    \"pipeline.run_environment\": \"ci\",\n",
    "    \"pipeline.pipeline_run_id\": \"6fd2431c-296e-452a-b6df-3a5d1d34da89\",\n",
    "    \"pipeline.github.repository\": \"pynb-dag-runner/mnist-digits-demo-pipeline\",\n",
    "    \"pipeline.github.workflow\": \"Run automated tests, pipeline and deploy results to static reporting site\",\n",
    "    \"pipeline.github.runner_name\": \"Hosted Agent\",\n",
    "    \"pipeline.github.run_id\": \"2630712818\",\n",
    "    \"pipeline.github.actor\": \"matiasdahl\",\n",
    "    \"pipeline.github.job\": \"run-tests-pipeline-and-persist-pipeline-outputs\",\n",
    "    \"pipeline.github.base_ref\": \"\",\n",
    "    \"pipeline.github.head_ref\": \"\",\n",
    "    \"pipeline.github.sha\": \"147a1be9916173fd4d2cd011d8d51e3411215850\",\n",
    "    \"pipeline.github.ref\": \"refs/heads/development\",\n",
    "    \"pipeline.github.ref_type\": \"branch\",\n",
    "    \"pipeline.github.ref_name\": \"development\",\n",
    "    \"pipeline.github.event_name\": \"push\",\n",
    "    \"task.notebook\": \"notebooks/ingest.py\",\n",
    "    \"task.max_nr_retries\": \"15\",\n",
    "    \"run.retry_nr\": \"10\",\n",
    "    \"task.timeout_s\": \"10\",\n",
    "    \"task.num_cpus\": 1,\n",
    "    \"_opentelemetry_traceparent\": \"00-7d9d1459647cd31c9dab47dd67e7015d-19248f0cfe63e7ea-01\",\n",
    "}\n"
   ]
  },
  {
   "cell_type": "code",
   "execution_count": 4,
   "id": "35ad62a6",
   "metadata": {
    "execution": {
     "iopub.execute_input": "2022-07-07T15:48:32.017667Z",
     "iopub.status.busy": "2022-07-07T15:48:32.017457Z",
     "iopub.status.idle": "2022-07-07T15:48:32.020200Z",
     "shell.execute_reply": "2022-07-07T15:48:32.019473Z"
    },
    "lines_to_next_cell": 0,
    "papermill": {
     "duration": 0.007302,
     "end_time": "2022-07-07T15:48:32.021559",
     "exception": false,
     "start_time": "2022-07-07T15:48:32.014257",
     "status": "completed"
    },
    "tags": []
   },
   "outputs": [],
   "source": [
    "# -----------------------------------------------------------------------"
   ]
  },
  {
   "cell_type": "markdown",
   "id": "e9691331",
   "metadata": {
    "lines_to_next_cell": 2,
    "papermill": {
     "duration": 0.002238,
     "end_time": "2022-07-07T15:48:32.026485",
     "exception": false,
     "start_time": "2022-07-07T15:48:32.024247",
     "status": "completed"
    },
    "tags": []
   },
   "source": [
    "---"
   ]
  },
  {
   "cell_type": "markdown",
   "id": "23933bf0",
   "metadata": {
    "papermill": {
     "duration": 0.002176,
     "end_time": "2022-07-07T15:48:32.030891",
     "exception": false,
     "start_time": "2022-07-07T15:48:32.028715",
     "status": "completed"
    },
    "tags": []
   },
   "source": [
    "### Simulate different types of failures (for testing timeout and retry logic)"
   ]
  },
  {
   "cell_type": "code",
   "execution_count": 5,
   "id": "50ef92c6",
   "metadata": {
    "execution": {
     "iopub.execute_input": "2022-07-07T15:48:32.037101Z",
     "iopub.status.busy": "2022-07-07T15:48:32.036647Z",
     "iopub.status.idle": "2022-07-07T15:48:32.475398Z",
     "shell.execute_reply": "2022-07-07T15:48:32.474749Z"
    },
    "papermill": {
     "duration": 0.443853,
     "end_time": "2022-07-07T15:48:32.477248",
     "exception": false,
     "start_time": "2022-07-07T15:48:32.033395",
     "status": "completed"
    },
    "tags": []
   },
   "outputs": [
    {
     "name": "stderr",
     "output_type": "stream",
     "text": [
      "2022-07-07 15:48:32,329\tINFO worker.py:842 -- Connecting to existing Ray cluster at address: 172.17.0.2:6379\n"
     ]
    }
   ],
   "source": [
    "from pynb_dag_runner.tasks.task_opentelemetry_logging import PydarLogger\n",
    "\n",
    "logger = PydarLogger(P)"
   ]
  },
  {
   "cell_type": "code",
   "execution_count": 6,
   "id": "561ea188",
   "metadata": {
    "execution": {
     "iopub.execute_input": "2022-07-07T15:48:32.484703Z",
     "iopub.status.busy": "2022-07-07T15:48:32.484124Z",
     "iopub.status.idle": "2022-07-07T15:48:32.489241Z",
     "shell.execute_reply": "2022-07-07T15:48:32.488676Z"
    },
    "papermill": {
     "duration": 0.011292,
     "end_time": "2022-07-07T15:48:32.491713",
     "exception": false,
     "start_time": "2022-07-07T15:48:32.480421",
     "status": "completed"
    },
    "tags": []
   },
   "outputs": [],
   "source": [
    "import time, random\n",
    "\n",
    "\n",
    "def maybe_crash(retry_nr: int, run_environment: str):\n",
    "    if retry_nr == 2 and run_environment == \"ci\":\n",
    "        time.sleep(1e6)\n",
    "\n",
    "    max_retry_nr: int = 3 if run_environment == \"dev\" else 10\n",
    "\n",
    "    if retry_nr < max_retry_nr:\n",
    "        if random.random() < 0.1:\n",
    "            time.sleep(1e6)\n",
    "        else:\n",
    "            raise Exception(\"Simulated exception failure from ingestion step notebook!\")\n",
    "\n",
    "\n",
    "maybe_crash(\n",
    "    retry_nr=int(P[\"run.retry_nr\"]), run_environment=P[\"pipeline.run_environment\"]\n",
    ")"
   ]
  },
  {
   "cell_type": "markdown",
   "id": "1225079e",
   "metadata": {
    "lines_to_next_cell": 2,
    "papermill": {
     "duration": 0.002574,
     "end_time": "2022-07-07T15:48:32.496731",
     "exception": false,
     "start_time": "2022-07-07T15:48:32.494157",
     "status": "completed"
    },
    "tags": []
   },
   "source": [
    "### Notebook code"
   ]
  },
  {
   "cell_type": "code",
   "execution_count": 7,
   "id": "41d021a3",
   "metadata": {
    "execution": {
     "iopub.execute_input": "2022-07-07T15:48:32.504145Z",
     "iopub.status.busy": "2022-07-07T15:48:32.503578Z",
     "iopub.status.idle": "2022-07-07T15:48:33.699331Z",
     "shell.execute_reply": "2022-07-07T15:48:33.698663Z"
    },
    "papermill": {
     "duration": 1.20129,
     "end_time": "2022-07-07T15:48:33.701402",
     "exception": false,
     "start_time": "2022-07-07T15:48:32.500112",
     "status": "completed"
    },
    "tags": []
   },
   "outputs": [],
   "source": [
    "from sklearn import datasets\n",
    "\n",
    "#\n",
    "from common.io import datalake_root, write_numpy"
   ]
  },
  {
   "cell_type": "code",
   "execution_count": 8,
   "id": "481ac393",
   "metadata": {
    "execution": {
     "iopub.execute_input": "2022-07-07T15:48:33.708519Z",
     "iopub.status.busy": "2022-07-07T15:48:33.708244Z",
     "iopub.status.idle": "2022-07-07T15:48:33.721194Z",
     "shell.execute_reply": "2022-07-07T15:48:33.720601Z"
    },
    "lines_to_next_cell": 2,
    "papermill": {
     "duration": 0.01868,
     "end_time": "2022-07-07T15:48:33.723156",
     "exception": false,
     "start_time": "2022-07-07T15:48:33.704476",
     "status": "completed"
    },
    "tags": []
   },
   "outputs": [],
   "source": [
    "digits = datasets.load_digits()\n",
    "\n",
    "X = digits[\"data\"]\n",
    "y = digits[\"target\"]"
   ]
  },
  {
   "cell_type": "code",
   "execution_count": 9,
   "id": "9332fb7f",
   "metadata": {
    "execution": {
     "iopub.execute_input": "2022-07-07T15:48:33.729740Z",
     "iopub.status.busy": "2022-07-07T15:48:33.729194Z",
     "iopub.status.idle": "2022-07-07T15:48:33.740201Z",
     "shell.execute_reply": "2022-07-07T15:48:33.739690Z"
    },
    "papermill": {
     "duration": 0.015921,
     "end_time": "2022-07-07T15:48:33.741756",
     "exception": false,
     "start_time": "2022-07-07T15:48:33.725835",
     "status": "completed"
    },
    "tags": []
   },
   "outputs": [
    {
     "name": "stdout",
     "output_type": "stream",
     "text": [
      " - Logging data_shape (json) : [1797, 64]\n",
      " - Logging target_shape (json) : [1797]\n"
     ]
    },
    {
     "data": {
      "text/plain": [
       "((1797, 64), (1797,))"
      ]
     },
     "execution_count": 9,
     "metadata": {},
     "output_type": "execute_result"
    }
   ],
   "source": [
    "logger.log_value(\"data_shape\", list(X.shape))\n",
    "logger.log_value(\"target_shape\", list(y.shape))\n",
    "\n",
    "X.shape, y.shape"
   ]
  },
  {
   "cell_type": "code",
   "execution_count": 10,
   "id": "434c4a94",
   "metadata": {
    "execution": {
     "iopub.execute_input": "2022-07-07T15:48:33.749744Z",
     "iopub.status.busy": "2022-07-07T15:48:33.749316Z",
     "iopub.status.idle": "2022-07-07T15:48:33.759143Z",
     "shell.execute_reply": "2022-07-07T15:48:33.758551Z"
    },
    "papermill": {
     "duration": 0.016022,
     "end_time": "2022-07-07T15:48:33.760716",
     "exception": false,
     "start_time": "2022-07-07T15:48:33.744694",
     "status": "completed"
    },
    "tags": []
   },
   "outputs": [],
   "source": [
    "write_numpy(datalake_root(P) / \"raw\" / \"digits.numpy\", X)\n",
    "write_numpy(datalake_root(P) / \"raw\" / \"labels.numpy\", y)"
   ]
  },
  {
   "cell_type": "code",
   "execution_count": null,
   "id": "3388fb5b",
   "metadata": {
    "papermill": {
     "duration": 0.002841,
     "end_time": "2022-07-07T15:48:33.766571",
     "exception": false,
     "start_time": "2022-07-07T15:48:33.763730",
     "status": "completed"
    },
    "tags": []
   },
   "outputs": [],
   "source": []
  }
 ],
 "metadata": {
  "jupytext": {
   "cell_metadata_filter": "tags,-all",
   "main_language": "python",
   "notebook_metadata_filter": "-all"
  },
  "language_info": {
   "codemirror_mode": {
    "name": "ipython",
    "version": 3
   },
   "file_extension": ".py",
   "mimetype": "text/x-python",
   "name": "python",
   "nbconvert_exporter": "python",
   "pygments_lexer": "ipython3",
   "version": "3.8.10"
  },
  "papermill": {
   "default_parameters": {},
   "duration": 3.788021,
   "end_time": "2022-07-07T15:48:34.689584",
   "environment_variables": {},
   "exception": null,
   "input_path": "/home/host_user/workspace/mnist-demo-pipeline/mnist-demo-pipeline/notebooks/temp-notebook-t5vapekp.ipynb",
   "output_path": "notebooks/ingest.ipynb",
   "parameters": {
    "P": {
     "_opentelemetry_traceparent": "00-7d9d1459647cd31c9dab47dd67e7015d-19248f0cfe63e7ea-01",
     "pipeline.data_lake_root": "/pipeline-outputs/data-lake",
     "pipeline.github.actor": "matiasdahl",
     "pipeline.github.base_ref": "",
     "pipeline.github.event_name": "push",
     "pipeline.github.head_ref": "",
     "pipeline.github.job": "run-tests-pipeline-and-persist-pipeline-outputs",
     "pipeline.github.ref": "refs/heads/development",
     "pipeline.github.ref_name": "development",
     "pipeline.github.ref_type": "branch",
     "pipeline.github.repository": "pynb-dag-runner/mnist-digits-demo-pipeline",
     "pipeline.github.run_id": "2630712818",
     "pipeline.github.runner_name": "Hosted Agent",
     "pipeline.github.sha": "147a1be9916173fd4d2cd011d8d51e3411215850",
     "pipeline.github.workflow": "Run automated tests, pipeline and deploy results to static reporting site",
     "pipeline.pipeline_run_id": "6fd2431c-296e-452a-b6df-3a5d1d34da89",
     "pipeline.run_environment": "ci",
     "run.retry_nr": "10",
     "task.max_nr_retries": "15",
     "task.notebook": "notebooks/ingest.py",
     "task.num_cpus": 1,
     "task.timeout_s": "10"
    }
   },
   "start_time": "2022-07-07T15:48:30.901563",
   "version": "2.3.3"
  }
 },
 "nbformat": 4,
 "nbformat_minor": 5
}