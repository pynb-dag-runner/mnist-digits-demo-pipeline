{
 "cells": [
  {
   "cell_type": "markdown",
   "id": "75ba68c2",
   "metadata": {
    "papermill": {
     "duration": 0.005706,
     "end_time": "2022-07-07T15:48:57.376268",
     "exception": false,
     "start_time": "2022-07-07T15:48:57.370562",
     "status": "completed"
    },
    "tags": []
   },
   "source": [
    "# Benchmark model\n",
    "\n",
    "The purpose of this notebook is to benchmark persisted onnx-model (trained in the\n",
    "previous step) against evaluation set."
   ]
  },
  {
   "cell_type": "markdown",
   "id": "ce354f76",
   "metadata": {
    "papermill": {
     "duration": 0.003986,
     "end_time": "2022-07-07T15:48:57.385135",
     "exception": false,
     "start_time": "2022-07-07T15:48:57.381149",
     "status": "completed"
    },
    "tags": []
   },
   "source": [
    "### Determine run parameters"
   ]
  },
  {
   "cell_type": "code",
   "execution_count": 1,
   "id": "fec95cde",
   "metadata": {
    "execution": {
     "iopub.execute_input": "2022-07-07T15:48:57.395094Z",
     "iopub.status.busy": "2022-07-07T15:48:57.394759Z",
     "iopub.status.idle": "2022-07-07T15:48:57.402195Z",
     "shell.execute_reply": "2022-07-07T15:48:57.401492Z"
    },
    "lines_to_next_cell": 0,
    "papermill": {
     "duration": 0.014757,
     "end_time": "2022-07-07T15:48:57.404773",
     "exception": false,
     "start_time": "2022-07-07T15:48:57.390016",
     "status": "completed"
    },
    "tags": []
   },
   "outputs": [],
   "source": [
    "# ----------------- Parameters for interactive development --------------\n",
    "P = {\n",
    "    \"pipeline.data_lake_root\": \"/pipeline-outputs/data-lake\",\n",
    "    \"task.nr_train_images\": 600,\n",
    "}"
   ]
  },
  {
   "cell_type": "code",
   "execution_count": 2,
   "id": "fb09a2a9",
   "metadata": {
    "execution": {
     "iopub.execute_input": "2022-07-07T15:48:57.414783Z",
     "iopub.status.busy": "2022-07-07T15:48:57.414552Z",
     "iopub.status.idle": "2022-07-07T15:48:57.418175Z",
     "shell.execute_reply": "2022-07-07T15:48:57.417252Z"
    },
    "lines_to_next_cell": 0,
    "papermill": {
     "duration": 0.011186,
     "end_time": "2022-07-07T15:48:57.420879",
     "exception": false,
     "start_time": "2022-07-07T15:48:57.409693",
     "status": "completed"
    },
    "tags": [
     "parameters"
    ]
   },
   "outputs": [],
   "source": [
    "# - During automated runs parameters will be injected in the below cell -"
   ]
  },
  {
   "cell_type": "code",
   "execution_count": 3,
   "id": "de0e748c",
   "metadata": {
    "execution": {
     "iopub.execute_input": "2022-07-07T15:48:57.430842Z",
     "iopub.status.busy": "2022-07-07T15:48:57.430595Z",
     "iopub.status.idle": "2022-07-07T15:48:57.435058Z",
     "shell.execute_reply": "2022-07-07T15:48:57.434550Z"
    },
    "papermill": {
     "duration": 0.013114,
     "end_time": "2022-07-07T15:48:57.437847",
     "exception": false,
     "start_time": "2022-07-07T15:48:57.424733",
     "status": "completed"
    },
    "tags": [
     "injected-parameters"
    ]
   },
   "outputs": [],
   "source": [
    "# Parameters\n",
    "P = {\n",
    "    \"pipeline.data_lake_root\": \"/pipeline-outputs/data-lake\",\n",
    "    \"pipeline.run_environment\": \"ci\",\n",
    "    \"pipeline.pipeline_run_id\": \"6fd2431c-296e-452a-b6df-3a5d1d34da89\",\n",
    "    \"pipeline.github.repository\": \"pynb-dag-runner/mnist-digits-demo-pipeline\",\n",
    "    \"pipeline.github.workflow\": \"Run automated tests, pipeline and deploy results to static reporting site\",\n",
    "    \"pipeline.github.runner_name\": \"Hosted Agent\",\n",
    "    \"pipeline.github.run_id\": \"2630712818\",\n",
    "    \"pipeline.github.actor\": \"matiasdahl\",\n",
    "    \"pipeline.github.job\": \"run-tests-pipeline-and-persist-pipeline-outputs\",\n",
    "    \"pipeline.github.base_ref\": \"\",\n",
    "    \"pipeline.github.head_ref\": \"\",\n",
    "    \"pipeline.github.sha\": \"147a1be9916173fd4d2cd011d8d51e3411215850\",\n",
    "    \"pipeline.github.ref\": \"refs/heads/development\",\n",
    "    \"pipeline.github.ref_type\": \"branch\",\n",
    "    \"pipeline.github.ref_name\": \"development\",\n",
    "    \"pipeline.github.event_name\": \"push\",\n",
    "    \"task.nr_train_images\": 600,\n",
    "    \"task.notebook\": \"notebooks/benchmark-model.py\",\n",
    "    \"task.max_nr_retries\": \"1\",\n",
    "    \"run.retry_nr\": \"0\",\n",
    "    \"task.timeout_s\": \"None\",\n",
    "    \"task.num_cpus\": 1,\n",
    "    \"_opentelemetry_traceparent\": \"00-7d9d1459647cd31c9dab47dd67e7015d-40006db6b35fefdc-01\",\n",
    "}\n"
   ]
  },
  {
   "cell_type": "code",
   "execution_count": 4,
   "id": "e505eda6",
   "metadata": {
    "execution": {
     "iopub.execute_input": "2022-07-07T15:48:57.448028Z",
     "iopub.status.busy": "2022-07-07T15:48:57.447689Z",
     "iopub.status.idle": "2022-07-07T15:48:57.451080Z",
     "shell.execute_reply": "2022-07-07T15:48:57.450585Z"
    },
    "lines_to_next_cell": 0,
    "papermill": {
     "duration": 0.011183,
     "end_time": "2022-07-07T15:48:57.453439",
     "exception": false,
     "start_time": "2022-07-07T15:48:57.442256",
     "status": "completed"
    },
    "tags": []
   },
   "outputs": [],
   "source": [
    "# -----------------------------------------------------------------------"
   ]
  },
  {
   "cell_type": "markdown",
   "id": "8e197590",
   "metadata": {
    "papermill": {
     "duration": 0.005898,
     "end_time": "2022-07-07T15:48:57.463531",
     "exception": false,
     "start_time": "2022-07-07T15:48:57.457633",
     "status": "completed"
    },
    "tags": []
   },
   "source": [
    "---"
   ]
  },
  {
   "cell_type": "markdown",
   "id": "8a18d2b9",
   "metadata": {
    "lines_to_next_cell": 2,
    "papermill": {
     "duration": 0.004525,
     "end_time": "2022-07-07T15:48:57.472016",
     "exception": false,
     "start_time": "2022-07-07T15:48:57.467491",
     "status": "completed"
    },
    "tags": []
   },
   "source": [
    "### Notebook code"
   ]
  },
  {
   "cell_type": "code",
   "execution_count": 5,
   "id": "9a18d210",
   "metadata": {
    "execution": {
     "iopub.execute_input": "2022-07-07T15:48:57.483020Z",
     "iopub.status.busy": "2022-07-07T15:48:57.482761Z",
     "iopub.status.idle": "2022-07-07T15:48:58.719021Z",
     "shell.execute_reply": "2022-07-07T15:48:58.717846Z"
    },
    "papermill": {
     "duration": 1.244437,
     "end_time": "2022-07-07T15:48:58.721040",
     "exception": false,
     "start_time": "2022-07-07T15:48:57.476603",
     "status": "completed"
    },
    "tags": []
   },
   "outputs": [
    {
     "name": "stderr",
     "output_type": "stream",
     "text": [
      "2022-07-07 15:48:58,529\tINFO worker.py:842 -- Connecting to existing Ray cluster at address: 172.17.0.2:6379\n"
     ]
    }
   ],
   "source": [
    "import itertools as it\n",
    "\n",
    "#\n",
    "import numpy as np\n",
    "import matplotlib.pyplot as plt\n",
    "\n",
    "#\n",
    "from pynb_dag_runner.tasks.task_opentelemetry_logging import PydarLogger\n",
    "\n",
    "#\n",
    "from common.io import datalake_root\n",
    "\n",
    "logger = PydarLogger(P)"
   ]
  },
  {
   "cell_type": "markdown",
   "id": "b5d9303e",
   "metadata": {
    "papermill": {
     "duration": 0.003981,
     "end_time": "2022-07-07T15:48:58.729527",
     "exception": false,
     "start_time": "2022-07-07T15:48:58.725546",
     "status": "completed"
    },
    "tags": []
   },
   "source": [
    "## Load persisted onnx-model and evaluation data"
   ]
  },
  {
   "cell_type": "code",
   "execution_count": 6,
   "id": "79985fe4",
   "metadata": {
    "execution": {
     "iopub.execute_input": "2022-07-07T15:48:58.739060Z",
     "iopub.status.busy": "2022-07-07T15:48:58.738623Z",
     "iopub.status.idle": "2022-07-07T15:48:58.742771Z",
     "shell.execute_reply": "2022-07-07T15:48:58.742086Z"
    },
    "papermill": {
     "duration": 0.010901,
     "end_time": "2022-07-07T15:48:58.744423",
     "exception": false,
     "start_time": "2022-07-07T15:48:58.733522",
     "status": "completed"
    },
    "tags": []
   },
   "outputs": [],
   "source": [
    "from common.io import read_onnx, get_onnx_inputs, get_onnx_outputs, read_numpy"
   ]
  },
  {
   "cell_type": "code",
   "execution_count": 7,
   "id": "21807aa4",
   "metadata": {
    "execution": {
     "iopub.execute_input": "2022-07-07T15:48:58.754707Z",
     "iopub.status.busy": "2022-07-07T15:48:58.754201Z",
     "iopub.status.idle": "2022-07-07T15:48:58.765534Z",
     "shell.execute_reply": "2022-07-07T15:48:58.764572Z"
    },
    "lines_to_next_cell": 0,
    "papermill": {
     "duration": 0.018856,
     "end_time": "2022-07-07T15:48:58.767536",
     "exception": false,
     "start_time": "2022-07-07T15:48:58.748680",
     "status": "completed"
    },
    "tags": []
   },
   "outputs": [],
   "source": [
    "onnx_inference_session = read_onnx(\n",
    "    datalake_root(P)\n",
    "    / \"models\"\n",
    "    / f\"nr_train_images={P['task.nr_train_images']}\"\n",
    "    / \"model.onnx\"\n",
    ")"
   ]
  },
  {
   "cell_type": "markdown",
   "id": "af5ae4d4",
   "metadata": {
    "papermill": {
     "duration": 0.004597,
     "end_time": "2022-07-07T15:48:58.776631",
     "exception": false,
     "start_time": "2022-07-07T15:48:58.772034",
     "status": "completed"
    },
    "tags": []
   },
   "source": [
    "### Record structure of inputs and outputs for ONNX model\n",
    "\n",
    "(this should likely be done in training notebook)"
   ]
  },
  {
   "cell_type": "code",
   "execution_count": 8,
   "id": "4abb4c52",
   "metadata": {
    "execution": {
     "iopub.execute_input": "2022-07-07T15:48:58.786651Z",
     "iopub.status.busy": "2022-07-07T15:48:58.786367Z",
     "iopub.status.idle": "2022-07-07T15:48:58.792780Z",
     "shell.execute_reply": "2022-07-07T15:48:58.792083Z"
    },
    "papermill": {
     "duration": 0.015284,
     "end_time": "2022-07-07T15:48:58.796389",
     "exception": false,
     "start_time": "2022-07-07T15:48:58.781105",
     "status": "completed"
    },
    "tags": []
   },
   "outputs": [
    {
     "name": "stdout",
     "output_type": "stream",
     "text": [
      "{\n",
      "  \"inputs\": [\n",
      "    {\n",
      "      \"name\": \"float_input_8x8_image\",\n",
      "      \"shape\": [\n",
      "        null,\n",
      "        64\n",
      "      ],\n",
      "      \"type\": \"tensor(float)\"\n",
      "    }\n",
      "  ],\n",
      "  \"outputs\": [\n",
      "    {\n",
      "      \"name\": \"output_label\",\n",
      "      \"shape\": [\n",
      "        null\n",
      "      ],\n",
      "      \"type\": \"tensor(int64)\"\n",
      "    },\n",
      "    {\n",
      "      \"name\": \"output_probability\",\n",
      "      \"shape\": [],\n",
      "      \"type\": \"seq(map(int64,tensor(float)))\"\n",
      "    }\n",
      "  ]\n",
      "}\n"
     ]
    }
   ],
   "source": [
    "import json\n",
    "\n",
    "onnx_io = json.dumps(\n",
    "    {\n",
    "        \"inputs\": get_onnx_inputs(onnx_inference_session),\n",
    "        \"outputs\": get_onnx_outputs(onnx_inference_session),\n",
    "    },\n",
    "    indent=2,\n",
    ")\n",
    "\n",
    "\n",
    "logger.log_artefact(\"onnx_io_structure.json\", onnx_io)\n",
    "print(onnx_io)"
   ]
  },
  {
   "cell_type": "markdown",
   "id": "c03b219b",
   "metadata": {
    "papermill": {
     "duration": 0.008088,
     "end_time": "2022-07-07T15:48:58.809181",
     "exception": false,
     "start_time": "2022-07-07T15:48:58.801093",
     "status": "completed"
    },
    "tags": []
   },
   "source": [
    "### Evaluate model performance on evaluation data set"
   ]
  },
  {
   "cell_type": "code",
   "execution_count": 9,
   "id": "ff26c004",
   "metadata": {
    "execution": {
     "iopub.execute_input": "2022-07-07T15:48:58.819776Z",
     "iopub.status.busy": "2022-07-07T15:48:58.819492Z",
     "iopub.status.idle": "2022-07-07T15:48:58.824612Z",
     "shell.execute_reply": "2022-07-07T15:48:58.823846Z"
    },
    "papermill": {
     "duration": 0.013101,
     "end_time": "2022-07-07T15:48:58.827085",
     "exception": false,
     "start_time": "2022-07-07T15:48:58.813984",
     "status": "completed"
    },
    "tags": []
   },
   "outputs": [],
   "source": [
    "# load evaluation data\n",
    "X_test = read_numpy(datalake_root(P) / \"test-data\" / \"digits.numpy\")\n",
    "y_test = read_numpy(datalake_root(P) / \"test-data\" / \"labels.numpy\")"
   ]
  },
  {
   "cell_type": "code",
   "execution_count": 10,
   "id": "96e17867",
   "metadata": {
    "execution": {
     "iopub.execute_input": "2022-07-07T15:48:58.837668Z",
     "iopub.status.busy": "2022-07-07T15:48:58.837433Z",
     "iopub.status.idle": "2022-07-07T15:48:58.852935Z",
     "shell.execute_reply": "2022-07-07T15:48:58.852207Z"
    },
    "papermill": {
     "duration": 0.022768,
     "end_time": "2022-07-07T15:48:58.854918",
     "exception": false,
     "start_time": "2022-07-07T15:48:58.832150",
     "status": "completed"
    },
    "tags": []
   },
   "outputs": [],
   "source": [
    "def get_model_outputs(X, onnx_inference_session):\n",
    "    y_pred_labels, y_pred_map = onnx_inference_session.run(\n",
    "        [\"output_label\", \"output_probability\"],\n",
    "        {\"float_input_8x8_image\": X.astype(np.float32)},\n",
    "    )\n",
    "    y_pred_probs = np.array(\n",
    "        [[probabilities[digit] for digit in range(10)] for probabilities in y_pred_map]\n",
    "    )\n",
    "\n",
    "    assert y_pred_labels.shape == (X.shape[0],)\n",
    "    assert y_pred_probs.shape == (X.shape[0], 10)\n",
    "\n",
    "    return y_pred_labels, y_pred_probs\n",
    "\n",
    "\n",
    "# Note: as shown in the training notebook, the predicted labels and probabilities\n",
    "# computed below need not be compatible.\n",
    "y_pred_labels_test, y_pred_probs_test = get_model_outputs(\n",
    "    X_test, onnx_inference_session\n",
    ")"
   ]
  },
  {
   "cell_type": "markdown",
   "id": "ab041050",
   "metadata": {
    "papermill": {
     "duration": 0.005105,
     "end_time": "2022-07-07T15:48:58.864651",
     "exception": false,
     "start_time": "2022-07-07T15:48:58.859546",
     "status": "completed"
    },
    "tags": []
   },
   "source": [
    "### Confusion matrix"
   ]
  },
  {
   "cell_type": "code",
   "execution_count": 11,
   "id": "5a1f9e5d",
   "metadata": {
    "execution": {
     "iopub.execute_input": "2022-07-07T15:48:58.874842Z",
     "iopub.status.busy": "2022-07-07T15:48:58.874556Z",
     "iopub.status.idle": "2022-07-07T15:48:58.877670Z",
     "shell.execute_reply": "2022-07-07T15:48:58.877109Z"
    },
    "papermill": {
     "duration": 0.011199,
     "end_time": "2022-07-07T15:48:58.880059",
     "exception": false,
     "start_time": "2022-07-07T15:48:58.868860",
     "status": "completed"
    },
    "tags": []
   },
   "outputs": [],
   "source": [
    "# TODO"
   ]
  },
  {
   "cell_type": "markdown",
   "id": "c27a8180",
   "metadata": {
    "papermill": {
     "duration": 0.004282,
     "end_time": "2022-07-07T15:48:58.889508",
     "exception": false,
     "start_time": "2022-07-07T15:48:58.885226",
     "status": "completed"
    },
    "tags": []
   },
   "source": [
    "### Plot predicted probabilities for each classifier over all evaluation digit images"
   ]
  },
  {
   "cell_type": "code",
   "execution_count": 12,
   "id": "43bb2225",
   "metadata": {
    "execution": {
     "iopub.execute_input": "2022-07-07T15:48:58.900167Z",
     "iopub.status.busy": "2022-07-07T15:48:58.899863Z",
     "iopub.status.idle": "2022-07-07T15:49:01.905241Z",
     "shell.execute_reply": "2022-07-07T15:49:01.904582Z"
    },
    "papermill": {
     "duration": 3.012455,
     "end_time": "2022-07-07T15:49:01.906823",
     "exception": false,
     "start_time": "2022-07-07T15:48:58.894368",
     "status": "completed"
    },
    "tags": []
   },
   "outputs": [
    {
     "data": {
      "image/png": "[encoded data removed]",
      "text/plain": [
       "<Figure size 1152x432 with 10 Axes>"
      ]
     },
     "metadata": {
      "needs_background": "light"
     },
     "output_type": "display_data"
    }
   ],
   "source": [
    "def plot_per_digit_probabilities(y_pred_probs):\n",
    "    fig, axs = plt.subplots(nrows=2, ncols=5, figsize=(16, 6))\n",
    "\n",
    "    for (r, c), digit, ax in zip(\n",
    "        it.product(range(2), range(5)), range(10), axs.reshape(-1)\n",
    "    ):\n",
    "        ax.hist(y_pred_probs_test[:, digit], bins=20)\n",
    "\n",
    "        ax.set_title(f\"Digit {digit}\")\n",
    "        if r == 1 and c == 2:\n",
    "            ax.set_xlabel(\"probability\", fontsize=16)\n",
    "\n",
    "        if c == 0:\n",
    "            ax.set_ylabel(\"counts\", fontsize=16)\n",
    "        ax.set_yscale(\"log\")\n",
    "\n",
    "    fig.tight_layout()\n",
    "    fig.suptitle(\n",
    "        f\"Distributions of prediction probabilities for each digit \"\n",
    "        f\"(on evaluation data, n={y_pred_probs.shape[0]})\",\n",
    "        fontsize=20,\n",
    "    )\n",
    "    fig.tight_layout()\n",
    "    fig.show()\n",
    "\n",
    "    return fig\n",
    "\n",
    "\n",
    "fig = plot_per_digit_probabilities(y_pred_probs_test)"
   ]
  },
  {
   "cell_type": "markdown",
   "id": "e9148378",
   "metadata": {
    "papermill": {
     "duration": 0.004712,
     "end_time": "2022-07-07T15:49:01.916853",
     "exception": false,
     "start_time": "2022-07-07T15:49:01.912141",
     "status": "completed"
    },
    "tags": []
   },
   "source": [
    "From the above distributions we see that most digits have clear separation between\n",
    "high and lower probabilities. Morover, in each case there is roughly an order of\n",
    "magnitude more of digits with low probabilities. This is compatible with digits\n",
    "being roughly evenly distributed in the data."
   ]
  },
  {
   "cell_type": "code",
   "execution_count": 13,
   "id": "c081dea9",
   "metadata": {
    "execution": {
     "iopub.execute_input": "2022-07-07T15:49:01.928007Z",
     "iopub.status.busy": "2022-07-07T15:49:01.927445Z",
     "iopub.status.idle": "2022-07-07T15:49:02.329765Z",
     "shell.execute_reply": "2022-07-07T15:49:02.329188Z"
    },
    "papermill": {
     "duration": 0.410229,
     "end_time": "2022-07-07T15:49:02.331773",
     "exception": false,
     "start_time": "2022-07-07T15:49:01.921544",
     "status": "completed"
    },
    "tags": []
   },
   "outputs": [],
   "source": [
    "logger.log_figure(\"per-digit-probabilities.png\", fig)"
   ]
  },
  {
   "cell_type": "markdown",
   "id": "d8bffa8c",
   "metadata": {
    "papermill": {
     "duration": 0.004892,
     "end_time": "2022-07-07T15:49:02.341789",
     "exception": false,
     "start_time": "2022-07-07T15:49:02.336897",
     "status": "completed"
    },
    "tags": []
   },
   "source": [
    "### Plot ROC curves for individual one-vs-rest classifiers"
   ]
  },
  {
   "cell_type": "code",
   "execution_count": 14,
   "id": "078ec121",
   "metadata": {
    "execution": {
     "iopub.execute_input": "2022-07-07T15:49:02.353306Z",
     "iopub.status.busy": "2022-07-07T15:49:02.353034Z",
     "iopub.status.idle": "2022-07-07T15:49:02.757463Z",
     "shell.execute_reply": "2022-07-07T15:49:02.756705Z"
    },
    "papermill": {
     "duration": 0.41234,
     "end_time": "2022-07-07T15:49:02.759327",
     "exception": false,
     "start_time": "2022-07-07T15:49:02.346987",
     "status": "completed"
    },
    "tags": []
   },
   "outputs": [],
   "source": [
    "from sklearn import metrics"
   ]
  },
  {
   "cell_type": "code",
   "execution_count": 15,
   "id": "f5eb6e79",
   "metadata": {
    "execution": {
     "iopub.execute_input": "2022-07-07T15:49:02.771488Z",
     "iopub.status.busy": "2022-07-07T15:49:02.771082Z",
     "iopub.status.idle": "2022-07-07T15:49:03.811621Z",
     "shell.execute_reply": "2022-07-07T15:49:03.811092Z"
    },
    "papermill": {
     "duration": 1.049091,
     "end_time": "2022-07-07T15:49:03.813228",
     "exception": false,
     "start_time": "2022-07-07T15:49:02.764137",
     "status": "completed"
    },
    "tags": []
   },
   "outputs": [
    {
     "data": {
      "image/png": "[encoded data removed]",
      "text/plain": [
       "<Figure size 1152x576 with 10 Axes>"
      ]
     },
     "metadata": {
      "needs_background": "light"
     },
     "output_type": "display_data"
    }
   ],
   "source": [
    "def plot_roc_curves(y, y_pred_probs):\n",
    "    # based on example code\n",
    "    # https://scikit-learn.org/stable/auto_examples/model_selection/plot_roc.html\n",
    "\n",
    "    fig, axs = plt.subplots(nrows=2, ncols=5, figsize=(16, 8))\n",
    "\n",
    "    roc_auc_dict = {}\n",
    "\n",
    "    for (r, c), digit, ax in zip(\n",
    "        it.product(range(2), range(5)), range(10), axs.reshape(-1)\n",
    "    ):\n",
    "        fpr, tpr, _ = metrics.roc_curve(y == digit, y_pred_probs[:, digit])\n",
    "        auc = metrics.auc(fpr, tpr)\n",
    "        roc_auc_dict[str(digit)] = auc\n",
    "\n",
    "        ax.plot(fpr, tpr, label=f\"ROC AUC={round(auc, 3)}\")\n",
    "\n",
    "        ax.set_title(f\"\\nDigit {digit}\", fontsize=16)\n",
    "        if r == 1:\n",
    "            ax.set_xlabel(\"FPR\", fontsize=18)\n",
    "\n",
    "        if c == 0:\n",
    "            ax.set_ylabel(\"TPR\", fontsize=18)\n",
    "\n",
    "        ax.set_xlim([-0.05, 1.05])\n",
    "        ax.set_ylim([-0.05, 1.05])\n",
    "        ax.legend(loc=\"lower right\", frameon=False, fontsize=14)\n",
    "\n",
    "    fig.tight_layout()\n",
    "    fig.suptitle(\n",
    "        f\"ROC plots for one-vs-rest performances \"\n",
    "        f\"(on evaluation data, n={y_pred_probs_test.shape[1]}\",\n",
    "        fontsize=22,\n",
    "    )\n",
    "    fig.tight_layout()\n",
    "    fig.show()\n",
    "\n",
    "    return roc_auc_dict, fig\n",
    "\n",
    "\n",
    "roc_auc_dict, fig = plot_roc_curves(y_test, y_pred_probs_test)"
   ]
  },
  {
   "cell_type": "code",
   "execution_count": 16,
   "id": "890b0872",
   "metadata": {
    "execution": {
     "iopub.execute_input": "2022-07-07T15:49:03.830342Z",
     "iopub.status.busy": "2022-07-07T15:49:03.830101Z",
     "iopub.status.idle": "2022-07-07T15:49:04.058930Z",
     "shell.execute_reply": "2022-07-07T15:49:04.058188Z"
    },
    "papermill": {
     "duration": 0.241692,
     "end_time": "2022-07-07T15:49:04.060970",
     "exception": false,
     "start_time": "2022-07-07T15:49:03.819278",
     "status": "completed"
    },
    "tags": []
   },
   "outputs": [],
   "source": [
    "logger.log_figure(\"per-digit-roc-curves.png\", fig)"
   ]
  },
  {
   "cell_type": "code",
   "execution_count": 17,
   "id": "15b6c520",
   "metadata": {
    "execution": {
     "iopub.execute_input": "2022-07-07T15:49:04.076265Z",
     "iopub.status.busy": "2022-07-07T15:49:04.075882Z",
     "iopub.status.idle": "2022-07-07T15:49:04.080977Z",
     "shell.execute_reply": "2022-07-07T15:49:04.080215Z"
    },
    "papermill": {
     "duration": 0.013755,
     "end_time": "2022-07-07T15:49:04.082998",
     "exception": false,
     "start_time": "2022-07-07T15:49:04.069243",
     "status": "completed"
    },
    "tags": []
   },
   "outputs": [
    {
     "data": {
      "text/plain": [
       "{'0': 1.0,\n",
       " '1': 0.9992502343017807,\n",
       " '2': 1.0,\n",
       " '3': 0.9998125585754452,\n",
       " '4': 0.9991617131534827,\n",
       " '5': 0.9988378631677601,\n",
       " '6': 0.999923792104862,\n",
       " '7': 0.9998475842097241,\n",
       " '8': 0.994798234552333,\n",
       " '9': 0.998780673677793}"
      ]
     },
     "execution_count": 17,
     "metadata": {},
     "output_type": "execute_result"
    }
   ],
   "source": [
    "roc_auc_dict"
   ]
  },
  {
   "cell_type": "code",
   "execution_count": 18,
   "id": "d29a46de",
   "metadata": {
    "execution": {
     "iopub.execute_input": "2022-07-07T15:49:04.095584Z",
     "iopub.status.busy": "2022-07-07T15:49:04.095236Z",
     "iopub.status.idle": "2022-07-07T15:49:04.099217Z",
     "shell.execute_reply": "2022-07-07T15:49:04.098591Z"
    },
    "papermill": {
     "duration": 0.01285,
     "end_time": "2022-07-07T15:49:04.101467",
     "exception": false,
     "start_time": "2022-07-07T15:49:04.088617",
     "status": "completed"
    },
    "tags": []
   },
   "outputs": [
    {
     "name": "stdout",
     "output_type": "stream",
     "text": [
      " - Logging roc_auc_per_digit (json) : {'0': 1.0, '1': 0.9992502343017807, '2': 1.0, '3': 0.9998125585754452, '4': 0.9991617131534827, '5': 0.9988378631677601, '6': 0.999923792104862, '7': 0.9998475842097241, '8': 0.994798234552333, '9': 0.998780673677793}\n"
     ]
    }
   ],
   "source": [
    "logger.log_value(\"roc_auc_per_digit\", roc_auc_dict)"
   ]
  },
  {
   "cell_type": "markdown",
   "id": "7970759d",
   "metadata": {
    "papermill": {
     "duration": 0.005752,
     "end_time": "2022-07-07T15:49:04.112584",
     "exception": false,
     "start_time": "2022-07-07T15:49:04.106832",
     "status": "completed"
    },
    "tags": []
   },
   "source": [
    "### Compute and log mean ROC AUC score averaged over all digits"
   ]
  },
  {
   "cell_type": "code",
   "execution_count": 19,
   "id": "6c105330",
   "metadata": {
    "execution": {
     "iopub.execute_input": "2022-07-07T15:49:04.125206Z",
     "iopub.status.busy": "2022-07-07T15:49:04.124865Z",
     "iopub.status.idle": "2022-07-07T15:49:04.141365Z",
     "shell.execute_reply": "2022-07-07T15:49:04.140814Z"
    },
    "papermill": {
     "duration": 0.024516,
     "end_time": "2022-07-07T15:49:04.142875",
     "exception": false,
     "start_time": "2022-07-07T15:49:04.118359",
     "status": "completed"
    },
    "tags": []
   },
   "outputs": [
    {
     "name": "stdout",
     "output_type": "stream",
     "text": [
      " - Logging roc_auc_class_mean (float) : 0.9990412653743179\n"
     ]
    }
   ],
   "source": [
    "roc_auc_macro = np.mean(list(roc_auc_dict.values()))\n",
    "\n",
    "logger.log_float(\"roc_auc_class_mean\", roc_auc_macro)\n",
    "\n",
    "# assert that the same value can be computed directly using sklearn\n",
    "assert roc_auc_macro == metrics.roc_auc_score(\n",
    "    y_test, y_pred_probs_test, average=\"macro\", multi_class=\"ovr\"\n",
    ")"
   ]
  },
  {
   "cell_type": "code",
   "execution_count": 20,
   "id": "e57ec04e",
   "metadata": {
    "execution": {
     "iopub.execute_input": "2022-07-07T15:49:04.156191Z",
     "iopub.status.busy": "2022-07-07T15:49:04.155756Z",
     "iopub.status.idle": "2022-07-07T15:49:04.158845Z",
     "shell.execute_reply": "2022-07-07T15:49:04.158223Z"
    },
    "lines_to_next_cell": 0,
    "papermill": {
     "duration": 0.01207,
     "end_time": "2022-07-07T15:49:04.161015",
     "exception": false,
     "start_time": "2022-07-07T15:49:04.148945",
     "status": "completed"
    },
    "tags": []
   },
   "outputs": [],
   "source": [
    "# ---"
   ]
  },
  {
   "cell_type": "code",
   "execution_count": null,
   "id": "01a94b8b",
   "metadata": {
    "papermill": {
     "duration": 0.006345,
     "end_time": "2022-07-07T15:49:04.172940",
     "exception": false,
     "start_time": "2022-07-07T15:49:04.166595",
     "status": "completed"
    },
    "tags": []
   },
   "outputs": [],
   "source": []
  }
 ],
 "metadata": {
  "jupytext": {
   "cell_metadata_filter": "tags,-all",
   "main_language": "python",
   "notebook_metadata_filter": "-all"
  },
  "language_info": {
   "codemirror_mode": {
    "name": "ipython",
    "version": 3
   },
   "file_extension": ".py",
   "mimetype": "text/x-python",
   "name": "python",
   "nbconvert_exporter": "python",
   "pygments_lexer": "ipython3",
   "version": "3.8.10"
  },
  "papermill": {
   "default_parameters": {},
   "duration": 9.137827,
   "end_time": "2022-07-07T15:49:05.193004",
   "environment_variables": {},
   "exception": null,
   "input_path": "/home/host_user/workspace/mnist-demo-pipeline/mnist-demo-pipeline/notebooks/temp-notebook-8swf8jnv.ipynb",
   "output_path": "notebooks/benchmark-model.ipynb",
   "parameters": {
    "P": {
     "_opentelemetry_traceparent": "00-7d9d1459647cd31c9dab47dd67e7015d-40006db6b35fefdc-01",
     "pipeline.data_lake_root": "/pipeline-outputs/data-lake",
     "pipeline.github.actor": "matiasdahl",
     "pipeline.github.base_ref": "",
     "pipeline.github.event_name": "push",
     "pipeline.github.head_ref": "",
     "pipeline.github.job": "run-tests-pipeline-and-persist-pipeline-outputs",
     "pipeline.github.ref": "refs/heads/development",
     "pipeline.github.ref_name": "development",
     "pipeline.github.ref_type": "branch",
     "pipeline.github.repository": "pynb-dag-runner/mnist-digits-demo-pipeline",
     "pipeline.github.run_id": "2630712818",
     "pipeline.github.runner_name": "Hosted Agent",
     "pipeline.github.sha": "147a1be9916173fd4d2cd011d8d51e3411215850",
     "pipeline.github.workflow": "Run automated tests, pipeline and deploy results to static reporting site",
     "pipeline.pipeline_run_id": "6fd2431c-296e-452a-b6df-3a5d1d34da89",
     "pipeline.run_environment": "ci",
     "run.retry_nr": "0",
     "task.max_nr_retries": "1",
     "task.notebook": "notebooks/benchmark-model.py",
     "task.nr_train_images": 600,
     "task.num_cpus": 1,
     "task.timeout_s": "None"
    }
   },
   "start_time": "2022-07-07T15:48:56.055177",
   "version": "2.3.3"
  }
 },
 "nbformat": 4,
 "nbformat_minor": 5
}