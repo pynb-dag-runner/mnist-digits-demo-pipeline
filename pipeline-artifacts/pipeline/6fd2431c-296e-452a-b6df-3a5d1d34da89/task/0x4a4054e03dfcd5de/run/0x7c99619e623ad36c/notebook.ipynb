{
 "cells": [
  {
   "cell_type": "markdown",
   "id": "388d3aad",
   "metadata": {
    "papermill": {
     "duration": 0.004193,
     "end_time": "2022-07-07T15:48:46.254344",
     "exception": false,
     "start_time": "2022-07-07T15:48:46.250151",
     "status": "completed"
    },
    "tags": []
   },
   "source": [
    "# Train model\n",
    "\n",
    "The purpose of this notebook is:\n",
    "\n",
    "- Load all training data (images and labels).\n",
    "- Limit number of train images to `task.nr_train_images` (value provided as run parameter).\n",
    "- Train a support vector machine model using sklearn.\n",
    "- Persist the trained model using the ONNX format."
   ]
  },
  {
   "cell_type": "markdown",
   "id": "8acf788a",
   "metadata": {
    "papermill": {
     "duration": 0.002901,
     "end_time": "2022-07-07T15:48:46.260330",
     "exception": false,
     "start_time": "2022-07-07T15:48:46.257429",
     "status": "completed"
    },
    "tags": []
   },
   "source": [
    "### Determine run parameters"
   ]
  },
  {
   "cell_type": "code",
   "execution_count": 1,
   "id": "0edcddd3",
   "metadata": {
    "execution": {
     "iopub.execute_input": "2022-07-07T15:48:46.267688Z",
     "iopub.status.busy": "2022-07-07T15:48:46.267268Z",
     "iopub.status.idle": "2022-07-07T15:48:46.277942Z",
     "shell.execute_reply": "2022-07-07T15:48:46.277462Z"
    },
    "lines_to_next_cell": 0,
    "papermill": {
     "duration": 0.018057,
     "end_time": "2022-07-07T15:48:46.281156",
     "exception": false,
     "start_time": "2022-07-07T15:48:46.263099",
     "status": "completed"
    },
    "tags": []
   },
   "outputs": [],
   "source": [
    "# ----------------- Parameters for interactive development --------------\n",
    "P = {\n",
    "    \"pipeline.data_lake_root\": \"/pipeline-outputs/data-lake\",\n",
    "    \"task.nr_train_images\": 600,\n",
    "}"
   ]
  },
  {
   "cell_type": "code",
   "execution_count": 2,
   "id": "6b84b088",
   "metadata": {
    "execution": {
     "iopub.execute_input": "2022-07-07T15:48:46.288344Z",
     "iopub.status.busy": "2022-07-07T15:48:46.288129Z",
     "iopub.status.idle": "2022-07-07T15:48:46.291102Z",
     "shell.execute_reply": "2022-07-07T15:48:46.290596Z"
    },
    "lines_to_next_cell": 0,
    "papermill": {
     "duration": 0.010999,
     "end_time": "2022-07-07T15:48:46.295559",
     "exception": false,
     "start_time": "2022-07-07T15:48:46.284560",
     "status": "completed"
    },
    "tags": [
     "parameters"
    ]
   },
   "outputs": [],
   "source": [
    "# - During automated runs parameters will be injected in the below cell -"
   ]
  },
  {
   "cell_type": "code",
   "execution_count": 3,
   "id": "78b990f5",
   "metadata": {
    "execution": {
     "iopub.execute_input": "2022-07-07T15:48:46.302570Z",
     "iopub.status.busy": "2022-07-07T15:48:46.302370Z",
     "iopub.status.idle": "2022-07-07T15:48:46.307197Z",
     "shell.execute_reply": "2022-07-07T15:48:46.306725Z"
    },
    "papermill": {
     "duration": 0.010678,
     "end_time": "2022-07-07T15:48:46.309280",
     "exception": false,
     "start_time": "2022-07-07T15:48:46.298602",
     "status": "completed"
    },
    "tags": [
     "injected-parameters"
    ]
   },
   "outputs": [],
   "source": [
    "# Parameters\n",
    "P = {\n",
    "    \"pipeline.data_lake_root\": \"/pipeline-outputs/data-lake\",\n",
    "    \"pipeline.run_environment\": \"ci\",\n",
    "    \"pipeline.pipeline_run_id\": \"6fd2431c-296e-452a-b6df-3a5d1d34da89\",\n",
    "    \"pipeline.github.repository\": \"pynb-dag-runner/mnist-digits-demo-pipeline\",\n",
    "    \"pipeline.github.workflow\": \"Run automated tests, pipeline and deploy results to static reporting site\",\n",
    "    \"pipeline.github.runner_name\": \"Hosted Agent\",\n",
    "    \"pipeline.github.run_id\": \"2630712818\",\n",
    "    \"pipeline.github.actor\": \"matiasdahl\",\n",
    "    \"pipeline.github.job\": \"run-tests-pipeline-and-persist-pipeline-outputs\",\n",
    "    \"pipeline.github.base_ref\": \"\",\n",
    "    \"pipeline.github.head_ref\": \"\",\n",
    "    \"pipeline.github.sha\": \"147a1be9916173fd4d2cd011d8d51e3411215850\",\n",
    "    \"pipeline.github.ref\": \"refs/heads/development\",\n",
    "    \"pipeline.github.ref_type\": \"branch\",\n",
    "    \"pipeline.github.ref_name\": \"development\",\n",
    "    \"pipeline.github.event_name\": \"push\",\n",
    "    \"task.nr_train_images\": 600,\n",
    "    \"task.notebook\": \"notebooks/train-model.py\",\n",
    "    \"task.max_nr_retries\": \"1\",\n",
    "    \"run.retry_nr\": \"0\",\n",
    "    \"task.timeout_s\": \"None\",\n",
    "    \"task.num_cpus\": 1,\n",
    "    \"_opentelemetry_traceparent\": \"00-7d9d1459647cd31c9dab47dd67e7015d-59c3102c10b8a738-01\",\n",
    "}\n"
   ]
  },
  {
   "cell_type": "code",
   "execution_count": 4,
   "id": "cd5e081b",
   "metadata": {
    "execution": {
     "iopub.execute_input": "2022-07-07T15:48:46.316319Z",
     "iopub.status.busy": "2022-07-07T15:48:46.316121Z",
     "iopub.status.idle": "2022-07-07T15:48:46.318548Z",
     "shell.execute_reply": "2022-07-07T15:48:46.318077Z"
    },
    "lines_to_next_cell": 0,
    "papermill": {
     "duration": 0.008626,
     "end_time": "2022-07-07T15:48:46.320951",
     "exception": false,
     "start_time": "2022-07-07T15:48:46.312325",
     "status": "completed"
    },
    "tags": []
   },
   "outputs": [],
   "source": [
    "# -----------------------------------------------------------------------"
   ]
  },
  {
   "cell_type": "markdown",
   "id": "5e298003",
   "metadata": {
    "papermill": {
     "duration": 0.002959,
     "end_time": "2022-07-07T15:48:46.326680",
     "exception": false,
     "start_time": "2022-07-07T15:48:46.323721",
     "status": "completed"
    },
    "tags": []
   },
   "source": [
    "---"
   ]
  },
  {
   "cell_type": "markdown",
   "id": "e2b9a700",
   "metadata": {
    "lines_to_next_cell": 2,
    "papermill": {
     "duration": 0.002991,
     "end_time": "2022-07-07T15:48:46.332447",
     "exception": false,
     "start_time": "2022-07-07T15:48:46.329456",
     "status": "completed"
    },
    "tags": []
   },
   "source": [
    "### Notebook code"
   ]
  },
  {
   "cell_type": "code",
   "execution_count": 5,
   "id": "1c4fd268",
   "metadata": {
    "execution": {
     "iopub.execute_input": "2022-07-07T15:48:46.339452Z",
     "iopub.status.busy": "2022-07-07T15:48:46.339236Z",
     "iopub.status.idle": "2022-07-07T15:48:46.798939Z",
     "shell.execute_reply": "2022-07-07T15:48:46.798350Z"
    },
    "papermill": {
     "duration": 0.465117,
     "end_time": "2022-07-07T15:48:46.800745",
     "exception": false,
     "start_time": "2022-07-07T15:48:46.335628",
     "status": "completed"
    },
    "tags": []
   },
   "outputs": [
    {
     "name": "stderr",
     "output_type": "stream",
     "text": [
      "2022-07-07 15:48:46,644\tINFO worker.py:842 -- Connecting to existing Ray cluster at address: 172.17.0.2:6379\n"
     ]
    }
   ],
   "source": [
    "from pynb_dag_runner.tasks.task_opentelemetry_logging import PydarLogger\n",
    "\n",
    "logger = PydarLogger(P)"
   ]
  },
  {
   "cell_type": "markdown",
   "id": "bfe3f82f",
   "metadata": {
    "papermill": {
     "duration": 0.00346,
     "end_time": "2022-07-07T15:48:46.807627",
     "exception": false,
     "start_time": "2022-07-07T15:48:46.804167",
     "status": "completed"
    },
    "tags": []
   },
   "source": [
    "## Load and limit train data"
   ]
  },
  {
   "cell_type": "code",
   "execution_count": 6,
   "id": "6f3e8e61",
   "metadata": {
    "execution": {
     "iopub.execute_input": "2022-07-07T15:48:46.814632Z",
     "iopub.status.busy": "2022-07-07T15:48:46.814338Z",
     "iopub.status.idle": "2022-07-07T15:48:47.157880Z",
     "shell.execute_reply": "2022-07-07T15:48:47.157312Z"
    },
    "papermill": {
     "duration": 0.349325,
     "end_time": "2022-07-07T15:48:47.159954",
     "exception": false,
     "start_time": "2022-07-07T15:48:46.810629",
     "status": "completed"
    },
    "tags": []
   },
   "outputs": [],
   "source": [
    "def load_and_limit_train_data(P):\n",
    "    from common.io import datalake_root, read_numpy\n",
    "    from sklearn.model_selection import train_test_split\n",
    "\n",
    "    X_train_all = read_numpy(datalake_root(P) / \"train-data\" / \"digits.numpy\")\n",
    "    y_train_all = read_numpy(datalake_root(P) / \"train-data\" / \"labels.numpy\")\n",
    "\n",
    "    assert isinstance(P[\"task.nr_train_images\"], int)\n",
    "\n",
    "    # Note: train_test_split will fail if split is 0 or 100%.\n",
    "    assert 0 < P[\"task.nr_train_images\"] < len(y_train_all)\n",
    "\n",
    "    X_train, _, y_train, _ = train_test_split(\n",
    "        X_train_all,\n",
    "        y_train_all,\n",
    "        train_size=P[\"task.nr_train_images\"],\n",
    "        test_size=None,\n",
    "        stratify=y_train_all,\n",
    "        shuffle=True,\n",
    "        random_state=123,\n",
    "    )\n",
    "\n",
    "    assert X_train.shape == (len(y_train), 8 * 8)\n",
    "    return X_train, y_train\n",
    "\n",
    "\n",
    "X_train, y_train = load_and_limit_train_data(P)"
   ]
  },
  {
   "cell_type": "markdown",
   "id": "49a39e20",
   "metadata": {
    "papermill": {
     "duration": 0.003286,
     "end_time": "2022-07-07T15:48:47.167763",
     "exception": false,
     "start_time": "2022-07-07T15:48:47.164477",
     "status": "completed"
    },
    "tags": []
   },
   "source": [
    "## Train support vector classifier model\n",
    "\n",
    "Below we assume that the hyperparameter $C$ is known.\n",
    "\n",
    "However, this should ideally be found by a hyperparameter search. That could be\n",
    "done in parallel on the Ray cluster, but this needs some more work. Ie., to use\n",
    "multiple cores in the notebook, those cores should be reserved when starting the\n",
    "notebook task (TODO).\n",
    "\n",
    "- https://docs.ray.io/en/latest/tune/key-concepts.html\n",
    "\n",
    "Note: cv-scores would need to be computed here, since they depend on the train data.\n",
    "After this notebook only the onnx-model is available."
   ]
  },
  {
   "cell_type": "code",
   "execution_count": 7,
   "id": "c7747a0b",
   "metadata": {
    "execution": {
     "iopub.execute_input": "2022-07-07T15:48:47.174566Z",
     "iopub.status.busy": "2022-07-07T15:48:47.174332Z",
     "iopub.status.idle": "2022-07-07T15:48:47.195017Z",
     "shell.execute_reply": "2022-07-07T15:48:47.194500Z"
    },
    "papermill": {
     "duration": 0.026022,
     "end_time": "2022-07-07T15:48:47.196674",
     "exception": false,
     "start_time": "2022-07-07T15:48:47.170652",
     "status": "completed"
    },
    "tags": []
   },
   "outputs": [],
   "source": [
    "from sklearn.svm import SVC"
   ]
  },
  {
   "cell_type": "code",
   "execution_count": 8,
   "id": "00e4f708",
   "metadata": {
    "execution": {
     "iopub.execute_input": "2022-07-07T15:48:47.205066Z",
     "iopub.status.busy": "2022-07-07T15:48:47.204649Z",
     "iopub.status.idle": "2022-07-07T15:48:47.297460Z",
     "shell.execute_reply": "2022-07-07T15:48:47.296915Z"
    },
    "papermill": {
     "duration": 0.098686,
     "end_time": "2022-07-07T15:48:47.299182",
     "exception": false,
     "start_time": "2022-07-07T15:48:47.200496",
     "status": "completed"
    },
    "tags": []
   },
   "outputs": [
    {
     "data": {
      "text/plain": [
       "SVC(C=0.001, kernel='linear', probability=True)"
      ]
     },
     "execution_count": 8,
     "metadata": {},
     "output_type": "execute_result"
    }
   ],
   "source": [
    "model = SVC(C=0.001, kernel=\"linear\", probability=True)\n",
    "\n",
    "model.fit(X_train, y_train)"
   ]
  },
  {
   "cell_type": "markdown",
   "id": "104ec954",
   "metadata": {
    "papermill": {
     "duration": 0.00377,
     "end_time": "2022-07-07T15:48:47.306327",
     "exception": false,
     "start_time": "2022-07-07T15:48:47.302557",
     "status": "completed"
    },
    "tags": []
   },
   "source": [
    "### Q: Can the labels returned by `predict(..)` be computed from probabilities returned by the `predict_prob`-method?"
   ]
  },
  {
   "cell_type": "code",
   "execution_count": 9,
   "id": "4413cff8",
   "metadata": {
    "execution": {
     "iopub.execute_input": "2022-07-07T15:48:47.313897Z",
     "iopub.status.busy": "2022-07-07T15:48:47.313617Z",
     "iopub.status.idle": "2022-07-07T15:48:47.356232Z",
     "shell.execute_reply": "2022-07-07T15:48:47.355669Z"
    },
    "papermill": {
     "duration": 0.048763,
     "end_time": "2022-07-07T15:48:47.358269",
     "exception": false,
     "start_time": "2022-07-07T15:48:47.309506",
     "status": "completed"
    },
    "tags": []
   },
   "outputs": [
    {
     "name": "stdout",
     "output_type": "stream",
     "text": [
      " - Logging nr_max_prob_neq_label (int) : 2\n"
     ]
    }
   ],
   "source": [
    "import numpy as np\n",
    "\n",
    "y_train_labels = model.predict(X_train)\n",
    "y_train_probabilities = model.predict_proba(X_train)\n",
    "assert y_train_probabilities.shape == (len(y_train), 10)\n",
    "\n",
    "y_train_max_prob_labels = np.argmax(y_train_probabilities, axis=1)\n",
    "assert y_train_labels.shape == y_train_max_prob_labels.shape == y_train.shape\n",
    "\n",
    "# If the predicted labels would coincide with the labels that have\n",
    "# maximum probability, the below number would be zero\n",
    "logger.log_int(\n",
    "    \"nr_max_prob_neq_label\", int(sum(y_train_max_prob_labels != y_train_labels))\n",
    ")"
   ]
  },
  {
   "cell_type": "markdown",
   "id": "b7c05705",
   "metadata": {
    "papermill": {
     "duration": 0.003271,
     "end_time": "2022-07-07T15:48:47.364744",
     "exception": false,
     "start_time": "2022-07-07T15:48:47.361473",
     "status": "completed"
    },
    "tags": []
   },
   "source": [
    "The explanation is (likely) explained in the SVC source, see\n",
    "[here](https://github.com/scikit-learn/scikit-learn/blob/main/sklearn/svm/_base.py).\n",
    "Namely, the outputs from `predict(..)` and `predict_proba(..)` may not in some\n",
    "cases be compatible since the latter is computed using cross-validation while\n",
    "the former is not. Thus, the above number need not be zero."
   ]
  },
  {
   "cell_type": "markdown",
   "id": "d3031125",
   "metadata": {
    "papermill": {
     "duration": 0.003167,
     "end_time": "2022-07-07T15:48:47.371373",
     "exception": false,
     "start_time": "2022-07-07T15:48:47.368206",
     "status": "completed"
    },
    "tags": []
   },
   "source": [
    "## Persist model"
   ]
  },
  {
   "cell_type": "code",
   "execution_count": 10,
   "id": "944d3bdb",
   "metadata": {
    "execution": {
     "iopub.execute_input": "2022-07-07T15:48:47.378988Z",
     "iopub.status.busy": "2022-07-07T15:48:47.378735Z",
     "iopub.status.idle": "2022-07-07T15:48:48.080424Z",
     "shell.execute_reply": "2022-07-07T15:48:48.079827Z"
    },
    "papermill": {
     "duration": 0.707708,
     "end_time": "2022-07-07T15:48:48.082262",
     "exception": false,
     "start_time": "2022-07-07T15:48:47.374554",
     "status": "completed"
    },
    "tags": []
   },
   "outputs": [],
   "source": [
    "from skl2onnx import convert_sklearn\n",
    "from skl2onnx.common.data_types import FloatTensorType\n",
    "\n",
    "#\n",
    "from common.io import datalake_root, write_onnx"
   ]
  },
  {
   "cell_type": "code",
   "execution_count": 11,
   "id": "6600d4d1",
   "metadata": {
    "execution": {
     "iopub.execute_input": "2022-07-07T15:48:48.091224Z",
     "iopub.status.busy": "2022-07-07T15:48:48.090690Z",
     "iopub.status.idle": "2022-07-07T15:48:48.133090Z",
     "shell.execute_reply": "2022-07-07T15:48:48.132511Z"
    },
    "papermill": {
     "duration": 0.048949,
     "end_time": "2022-07-07T15:48:48.134897",
     "exception": false,
     "start_time": "2022-07-07T15:48:48.085948",
     "status": "completed"
    },
    "tags": []
   },
   "outputs": [],
   "source": [
    "# convert sklearn model into onnx and persist to data lake\n",
    "\n",
    "model_onnx = convert_sklearn(\n",
    "    model, initial_types=[(\"float_input_8x8_image\", FloatTensorType([None, 8 * 8]))]\n",
    ")\n",
    "write_onnx(\n",
    "    datalake_root(P)\n",
    "    / \"models\"\n",
    "    / f\"nr_train_images={P['task.nr_train_images']}\"\n",
    "    / \"model.onnx\",\n",
    "    model_onnx,\n",
    ")"
   ]
  },
  {
   "cell_type": "code",
   "execution_count": null,
   "id": "7026e5e1",
   "metadata": {
    "papermill": {
     "duration": 0.004524,
     "end_time": "2022-07-07T15:48:48.142891",
     "exception": false,
     "start_time": "2022-07-07T15:48:48.138367",
     "status": "completed"
    },
    "tags": []
   },
   "outputs": [],
   "source": []
  }
 ],
 "metadata": {
  "jupytext": {
   "cell_metadata_filter": "tags,-all",
   "main_language": "python",
   "notebook_metadata_filter": "-all"
  },
  "language_info": {
   "codemirror_mode": {
    "name": "ipython",
    "version": 3
   },
   "file_extension": ".py",
   "mimetype": "text/x-python",
   "name": "python",
   "nbconvert_exporter": "python",
   "pygments_lexer": "ipython3",
   "version": "3.8.10"
  },
  "papermill": {
   "default_parameters": {},
   "duration": 4.146608,
   "end_time": "2022-07-07T15:48:49.168707",
   "environment_variables": {},
   "exception": null,
   "input_path": "/home/host_user/workspace/mnist-demo-pipeline/mnist-demo-pipeline/notebooks/temp-notebook-hi51qbqi.ipynb",
   "output_path": "notebooks/train-model.ipynb",
   "parameters": {
    "P": {
     "_opentelemetry_traceparent": "00-7d9d1459647cd31c9dab47dd67e7015d-59c3102c10b8a738-01",
     "pipeline.data_lake_root": "/pipeline-outputs/data-lake",
     "pipeline.github.actor": "matiasdahl",
     "pipeline.github.base_ref": "",
     "pipeline.github.event_name": "push",
     "pipeline.github.head_ref": "",
     "pipeline.github.job": "run-tests-pipeline-and-persist-pipeline-outputs",
     "pipeline.github.ref": "refs/heads/development",
     "pipeline.github.ref_name": "development",
     "pipeline.github.ref_type": "branch",
     "pipeline.github.repository": "pynb-dag-runner/mnist-digits-demo-pipeline",
     "pipeline.github.run_id": "2630712818",
     "pipeline.github.runner_name": "Hosted Agent",
     "pipeline.github.sha": "147a1be9916173fd4d2cd011d8d51e3411215850",
     "pipeline.github.workflow": "Run automated tests, pipeline and deploy results to static reporting site",
     "pipeline.pipeline_run_id": "6fd2431c-296e-452a-b6df-3a5d1d34da89",
     "pipeline.run_environment": "ci",
     "run.retry_nr": "0",
     "task.max_nr_retries": "1",
     "task.notebook": "notebooks/train-model.py",
     "task.nr_train_images": 600,
     "task.num_cpus": 1,
     "task.timeout_s": "None"
    }
   },
   "start_time": "2022-07-07T15:48:45.022099",
   "version": "2.3.3"
  }
 },
 "nbformat": 4,
 "nbformat_minor": 5
}