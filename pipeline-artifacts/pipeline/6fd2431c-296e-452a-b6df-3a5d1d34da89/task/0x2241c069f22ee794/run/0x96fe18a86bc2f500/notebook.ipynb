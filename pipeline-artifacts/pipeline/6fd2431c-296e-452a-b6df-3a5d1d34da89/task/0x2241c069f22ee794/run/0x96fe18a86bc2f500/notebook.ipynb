{
 "cells": [
  {
   "cell_type": "markdown",
   "id": "16811a9e",
   "metadata": {
    "papermill": {
     "duration": 0.004087,
     "end_time": "2022-07-07T15:48:42.060583",
     "exception": false,
     "start_time": "2022-07-07T15:48:42.056496",
     "status": "completed"
    },
    "tags": []
   },
   "source": [
    "# Train model\n",
    "\n",
    "The purpose of this notebook is:\n",
    "\n",
    "- Load all training data (images and labels).\n",
    "- Limit number of train images to `task.nr_train_images` (value provided as run parameter).\n",
    "- Train a support vector machine model using sklearn.\n",
    "- Persist the trained model using the ONNX format."
   ]
  },
  {
   "cell_type": "markdown",
   "id": "615d8adc",
   "metadata": {
    "papermill": {
     "duration": 0.003826,
     "end_time": "2022-07-07T15:48:42.068320",
     "exception": false,
     "start_time": "2022-07-07T15:48:42.064494",
     "status": "completed"
    },
    "tags": []
   },
   "source": [
    "### Determine run parameters"
   ]
  },
  {
   "cell_type": "code",
   "execution_count": 1,
   "id": "86652bca",
   "metadata": {
    "execution": {
     "iopub.execute_input": "2022-07-07T15:48:42.075313Z",
     "iopub.status.busy": "2022-07-07T15:48:42.074981Z",
     "iopub.status.idle": "2022-07-07T15:48:42.084430Z",
     "shell.execute_reply": "2022-07-07T15:48:42.083807Z"
    },
    "lines_to_next_cell": 0,
    "papermill": {
     "duration": 0.018705,
     "end_time": "2022-07-07T15:48:42.089668",
     "exception": false,
     "start_time": "2022-07-07T15:48:42.070963",
     "status": "completed"
    },
    "tags": []
   },
   "outputs": [],
   "source": [
    "# ----------------- Parameters for interactive development --------------\n",
    "P = {\n",
    "    \"pipeline.data_lake_root\": \"/pipeline-outputs/data-lake\",\n",
    "    \"task.nr_train_images\": 600,\n",
    "}"
   ]
  },
  {
   "cell_type": "code",
   "execution_count": 2,
   "id": "ebceb322",
   "metadata": {
    "execution": {
     "iopub.execute_input": "2022-07-07T15:48:42.100817Z",
     "iopub.status.busy": "2022-07-07T15:48:42.100584Z",
     "iopub.status.idle": "2022-07-07T15:48:42.103549Z",
     "shell.execute_reply": "2022-07-07T15:48:42.102940Z"
    },
    "lines_to_next_cell": 0,
    "papermill": {
     "duration": 0.01035,
     "end_time": "2022-07-07T15:48:42.106216",
     "exception": false,
     "start_time": "2022-07-07T15:48:42.095866",
     "status": "completed"
    },
    "tags": [
     "parameters"
    ]
   },
   "outputs": [],
   "source": [
    "# - During automated runs parameters will be injected in the below cell -"
   ]
  },
  {
   "cell_type": "code",
   "execution_count": 3,
   "id": "c1d0c993",
   "metadata": {
    "execution": {
     "iopub.execute_input": "2022-07-07T15:48:42.114107Z",
     "iopub.status.busy": "2022-07-07T15:48:42.113852Z",
     "iopub.status.idle": "2022-07-07T15:48:42.119341Z",
     "shell.execute_reply": "2022-07-07T15:48:42.118820Z"
    },
    "papermill": {
     "duration": 0.011735,
     "end_time": "2022-07-07T15:48:42.121665",
     "exception": false,
     "start_time": "2022-07-07T15:48:42.109930",
     "status": "completed"
    },
    "tags": [
     "injected-parameters"
    ]
   },
   "outputs": [],
   "source": [
    "# Parameters\n",
    "P = {\n",
    "    \"pipeline.data_lake_root\": \"/pipeline-outputs/data-lake\",\n",
    "    \"pipeline.run_environment\": \"ci\",\n",
    "    \"pipeline.pipeline_run_id\": \"6fd2431c-296e-452a-b6df-3a5d1d34da89\",\n",
    "    \"pipeline.github.repository\": \"pynb-dag-runner/mnist-digits-demo-pipeline\",\n",
    "    \"pipeline.github.workflow\": \"Run automated tests, pipeline and deploy results to static reporting site\",\n",
    "    \"pipeline.github.runner_name\": \"Hosted Agent\",\n",
    "    \"pipeline.github.run_id\": \"2630712818\",\n",
    "    \"pipeline.github.actor\": \"matiasdahl\",\n",
    "    \"pipeline.github.job\": \"run-tests-pipeline-and-persist-pipeline-outputs\",\n",
    "    \"pipeline.github.base_ref\": \"\",\n",
    "    \"pipeline.github.head_ref\": \"\",\n",
    "    \"pipeline.github.sha\": \"147a1be9916173fd4d2cd011d8d51e3411215850\",\n",
    "    \"pipeline.github.ref\": \"refs/heads/development\",\n",
    "    \"pipeline.github.ref_type\": \"branch\",\n",
    "    \"pipeline.github.ref_name\": \"development\",\n",
    "    \"pipeline.github.event_name\": \"push\",\n",
    "    \"task.nr_train_images\": 1000,\n",
    "    \"task.notebook\": \"notebooks/train-model.py\",\n",
    "    \"task.max_nr_retries\": \"1\",\n",
    "    \"run.retry_nr\": \"0\",\n",
    "    \"task.timeout_s\": \"None\",\n",
    "    \"task.num_cpus\": 1,\n",
    "    \"_opentelemetry_traceparent\": \"00-7d9d1459647cd31c9dab47dd67e7015d-4ded706028a2ff09-01\",\n",
    "}\n"
   ]
  },
  {
   "cell_type": "code",
   "execution_count": 4,
   "id": "3ea21388",
   "metadata": {
    "execution": {
     "iopub.execute_input": "2022-07-07T15:48:42.128977Z",
     "iopub.status.busy": "2022-07-07T15:48:42.128729Z",
     "iopub.status.idle": "2022-07-07T15:48:42.132003Z",
     "shell.execute_reply": "2022-07-07T15:48:42.131478Z"
    },
    "lines_to_next_cell": 0,
    "papermill": {
     "duration": 0.00991,
     "end_time": "2022-07-07T15:48:42.134649",
     "exception": false,
     "start_time": "2022-07-07T15:48:42.124739",
     "status": "completed"
    },
    "tags": []
   },
   "outputs": [],
   "source": [
    "# -----------------------------------------------------------------------"
   ]
  },
  {
   "cell_type": "markdown",
   "id": "e357e199",
   "metadata": {
    "papermill": {
     "duration": 0.003347,
     "end_time": "2022-07-07T15:48:42.141241",
     "exception": false,
     "start_time": "2022-07-07T15:48:42.137894",
     "status": "completed"
    },
    "tags": []
   },
   "source": [
    "---"
   ]
  },
  {
   "cell_type": "markdown",
   "id": "8bfb98a9",
   "metadata": {
    "lines_to_next_cell": 2,
    "papermill": {
     "duration": 0.002769,
     "end_time": "2022-07-07T15:48:42.146823",
     "exception": false,
     "start_time": "2022-07-07T15:48:42.144054",
     "status": "completed"
    },
    "tags": []
   },
   "source": [
    "### Notebook code"
   ]
  },
  {
   "cell_type": "code",
   "execution_count": 5,
   "id": "2b30cb85",
   "metadata": {
    "execution": {
     "iopub.execute_input": "2022-07-07T15:48:42.154797Z",
     "iopub.status.busy": "2022-07-07T15:48:42.154538Z",
     "iopub.status.idle": "2022-07-07T15:48:42.647130Z",
     "shell.execute_reply": "2022-07-07T15:48:42.646244Z"
    },
    "papermill": {
     "duration": 0.498517,
     "end_time": "2022-07-07T15:48:42.649121",
     "exception": false,
     "start_time": "2022-07-07T15:48:42.150604",
     "status": "completed"
    },
    "tags": []
   },
   "outputs": [
    {
     "name": "stderr",
     "output_type": "stream",
     "text": [
      "2022-07-07 15:48:42,497\tINFO worker.py:842 -- Connecting to existing Ray cluster at address: 172.17.0.2:6379\n"
     ]
    }
   ],
   "source": [
    "from pynb_dag_runner.tasks.task_opentelemetry_logging import PydarLogger\n",
    "\n",
    "logger = PydarLogger(P)"
   ]
  },
  {
   "cell_type": "markdown",
   "id": "44423589",
   "metadata": {
    "papermill": {
     "duration": 0.002979,
     "end_time": "2022-07-07T15:48:42.655380",
     "exception": false,
     "start_time": "2022-07-07T15:48:42.652401",
     "status": "completed"
    },
    "tags": []
   },
   "source": [
    "## Load and limit train data"
   ]
  },
  {
   "cell_type": "code",
   "execution_count": 6,
   "id": "058eb200",
   "metadata": {
    "execution": {
     "iopub.execute_input": "2022-07-07T15:48:42.663053Z",
     "iopub.status.busy": "2022-07-07T15:48:42.662265Z",
     "iopub.status.idle": "2022-07-07T15:48:43.001465Z",
     "shell.execute_reply": "2022-07-07T15:48:43.000831Z"
    },
    "papermill": {
     "duration": 0.345494,
     "end_time": "2022-07-07T15:48:43.003800",
     "exception": false,
     "start_time": "2022-07-07T15:48:42.658306",
     "status": "completed"
    },
    "tags": []
   },
   "outputs": [],
   "source": [
    "def load_and_limit_train_data(P):\n",
    "    from common.io import datalake_root, read_numpy\n",
    "    from sklearn.model_selection import train_test_split\n",
    "\n",
    "    X_train_all = read_numpy(datalake_root(P) / \"train-data\" / \"digits.numpy\")\n",
    "    y_train_all = read_numpy(datalake_root(P) / \"train-data\" / \"labels.numpy\")\n",
    "\n",
    "    assert isinstance(P[\"task.nr_train_images\"], int)\n",
    "\n",
    "    # Note: train_test_split will fail if split is 0 or 100%.\n",
    "    assert 0 < P[\"task.nr_train_images\"] < len(y_train_all)\n",
    "\n",
    "    X_train, _, y_train, _ = train_test_split(\n",
    "        X_train_all,\n",
    "        y_train_all,\n",
    "        train_size=P[\"task.nr_train_images\"],\n",
    "        test_size=None,\n",
    "        stratify=y_train_all,\n",
    "        shuffle=True,\n",
    "        random_state=123,\n",
    "    )\n",
    "\n",
    "    assert X_train.shape == (len(y_train), 8 * 8)\n",
    "    return X_train, y_train\n",
    "\n",
    "\n",
    "X_train, y_train = load_and_limit_train_data(P)"
   ]
  },
  {
   "cell_type": "markdown",
   "id": "375c0210",
   "metadata": {
    "papermill": {
     "duration": 0.002773,
     "end_time": "2022-07-07T15:48:43.011007",
     "exception": false,
     "start_time": "2022-07-07T15:48:43.008234",
     "status": "completed"
    },
    "tags": []
   },
   "source": [
    "## Train support vector classifier model\n",
    "\n",
    "Below we assume that the hyperparameter $C$ is known.\n",
    "\n",
    "However, this should ideally be found by a hyperparameter search. That could be\n",
    "done in parallel on the Ray cluster, but this needs some more work. Ie., to use\n",
    "multiple cores in the notebook, those cores should be reserved when starting the\n",
    "notebook task (TODO).\n",
    "\n",
    "- https://docs.ray.io/en/latest/tune/key-concepts.html\n",
    "\n",
    "Note: cv-scores would need to be computed here, since they depend on the train data.\n",
    "After this notebook only the onnx-model is available."
   ]
  },
  {
   "cell_type": "code",
   "execution_count": 7,
   "id": "c54ad301",
   "metadata": {
    "execution": {
     "iopub.execute_input": "2022-07-07T15:48:43.019062Z",
     "iopub.status.busy": "2022-07-07T15:48:43.018798Z",
     "iopub.status.idle": "2022-07-07T15:48:43.098264Z",
     "shell.execute_reply": "2022-07-07T15:48:43.097608Z"
    },
    "papermill": {
     "duration": 0.086482,
     "end_time": "2022-07-07T15:48:43.100497",
     "exception": false,
     "start_time": "2022-07-07T15:48:43.014015",
     "status": "completed"
    },
    "tags": []
   },
   "outputs": [],
   "source": [
    "from sklearn.svm import SVC"
   ]
  },
  {
   "cell_type": "code",
   "execution_count": 8,
   "id": "405eccc3",
   "metadata": {
    "execution": {
     "iopub.execute_input": "2022-07-07T15:48:43.108399Z",
     "iopub.status.busy": "2022-07-07T15:48:43.107804Z",
     "iopub.status.idle": "2022-07-07T15:48:43.280810Z",
     "shell.execute_reply": "2022-07-07T15:48:43.280285Z"
    },
    "papermill": {
     "duration": 0.17883,
     "end_time": "2022-07-07T15:48:43.282661",
     "exception": false,
     "start_time": "2022-07-07T15:48:43.103831",
     "status": "completed"
    },
    "tags": []
   },
   "outputs": [
    {
     "data": {
      "text/plain": [
       "SVC(C=0.001, kernel='linear', probability=True)"
      ]
     },
     "execution_count": 8,
     "metadata": {},
     "output_type": "execute_result"
    }
   ],
   "source": [
    "model = SVC(C=0.001, kernel=\"linear\", probability=True)\n",
    "\n",
    "model.fit(X_train, y_train)"
   ]
  },
  {
   "cell_type": "markdown",
   "id": "6fb2af78",
   "metadata": {
    "papermill": {
     "duration": 0.003051,
     "end_time": "2022-07-07T15:48:43.289225",
     "exception": false,
     "start_time": "2022-07-07T15:48:43.286174",
     "status": "completed"
    },
    "tags": []
   },
   "source": [
    "### Q: Can the labels returned by `predict(..)` be computed from probabilities returned by the `predict_prob`-method?"
   ]
  },
  {
   "cell_type": "code",
   "execution_count": 9,
   "id": "21aa6d21",
   "metadata": {
    "execution": {
     "iopub.execute_input": "2022-07-07T15:48:43.297596Z",
     "iopub.status.busy": "2022-07-07T15:48:43.297317Z",
     "iopub.status.idle": "2022-07-07T15:48:43.383883Z",
     "shell.execute_reply": "2022-07-07T15:48:43.383146Z"
    },
    "papermill": {
     "duration": 0.092811,
     "end_time": "2022-07-07T15:48:43.385758",
     "exception": false,
     "start_time": "2022-07-07T15:48:43.292947",
     "status": "completed"
    },
    "tags": []
   },
   "outputs": [
    {
     "name": "stdout",
     "output_type": "stream",
     "text": [
      " - Logging nr_max_prob_neq_label (int) : 1\n"
     ]
    }
   ],
   "source": [
    "import numpy as np\n",
    "\n",
    "y_train_labels = model.predict(X_train)\n",
    "y_train_probabilities = model.predict_proba(X_train)\n",
    "assert y_train_probabilities.shape == (len(y_train), 10)\n",
    "\n",
    "y_train_max_prob_labels = np.argmax(y_train_probabilities, axis=1)\n",
    "assert y_train_labels.shape == y_train_max_prob_labels.shape == y_train.shape\n",
    "\n",
    "# If the predicted labels would coincide with the labels that have\n",
    "# maximum probability, the below number would be zero\n",
    "logger.log_int(\n",
    "    \"nr_max_prob_neq_label\", int(sum(y_train_max_prob_labels != y_train_labels))\n",
    ")"
   ]
  },
  {
   "cell_type": "markdown",
   "id": "bece5268",
   "metadata": {
    "papermill": {
     "duration": 0.003975,
     "end_time": "2022-07-07T15:48:43.393254",
     "exception": false,
     "start_time": "2022-07-07T15:48:43.389279",
     "status": "completed"
    },
    "tags": []
   },
   "source": [
    "The explanation is (likely) explained in the SVC source, see\n",
    "[here](https://github.com/scikit-learn/scikit-learn/blob/main/sklearn/svm/_base.py).\n",
    "Namely, the outputs from `predict(..)` and `predict_proba(..)` may not in some\n",
    "cases be compatible since the latter is computed using cross-validation while\n",
    "the former is not. Thus, the above number need not be zero."
   ]
  },
  {
   "cell_type": "markdown",
   "id": "71e3eb09",
   "metadata": {
    "papermill": {
     "duration": 0.003264,
     "end_time": "2022-07-07T15:48:43.400024",
     "exception": false,
     "start_time": "2022-07-07T15:48:43.396760",
     "status": "completed"
    },
    "tags": []
   },
   "source": [
    "## Persist model"
   ]
  },
  {
   "cell_type": "code",
   "execution_count": 10,
   "id": "d5a225df",
   "metadata": {
    "execution": {
     "iopub.execute_input": "2022-07-07T15:48:43.408398Z",
     "iopub.status.busy": "2022-07-07T15:48:43.407717Z",
     "iopub.status.idle": "2022-07-07T15:48:44.913153Z",
     "shell.execute_reply": "2022-07-07T15:48:44.911300Z"
    },
    "papermill": {
     "duration": 1.512469,
     "end_time": "2022-07-07T15:48:44.915879",
     "exception": false,
     "start_time": "2022-07-07T15:48:43.403410",
     "status": "completed"
    },
    "tags": []
   },
   "outputs": [],
   "source": [
    "from skl2onnx import convert_sklearn\n",
    "from skl2onnx.common.data_types import FloatTensorType\n",
    "\n",
    "#\n",
    "from common.io import datalake_root, write_onnx"
   ]
  },
  {
   "cell_type": "code",
   "execution_count": 11,
   "id": "0d34e324",
   "metadata": {
    "execution": {
     "iopub.execute_input": "2022-07-07T15:48:44.926071Z",
     "iopub.status.busy": "2022-07-07T15:48:44.925647Z",
     "iopub.status.idle": "2022-07-07T15:48:45.028876Z",
     "shell.execute_reply": "2022-07-07T15:48:45.028076Z"
    },
    "papermill": {
     "duration": 0.111421,
     "end_time": "2022-07-07T15:48:45.030703",
     "exception": false,
     "start_time": "2022-07-07T15:48:44.919282",
     "status": "completed"
    },
    "tags": []
   },
   "outputs": [],
   "source": [
    "# convert sklearn model into onnx and persist to data lake\n",
    "\n",
    "model_onnx = convert_sklearn(\n",
    "    model, initial_types=[(\"float_input_8x8_image\", FloatTensorType([None, 8 * 8]))]\n",
    ")\n",
    "write_onnx(\n",
    "    datalake_root(P)\n",
    "    / \"models\"\n",
    "    / f\"nr_train_images={P['task.nr_train_images']}\"\n",
    "    / \"model.onnx\",\n",
    "    model_onnx,\n",
    ")"
   ]
  },
  {
   "cell_type": "code",
   "execution_count": null,
   "id": "c6f43720",
   "metadata": {
    "papermill": {
     "duration": 0.00589,
     "end_time": "2022-07-07T15:48:45.040521",
     "exception": false,
     "start_time": "2022-07-07T15:48:45.034631",
     "status": "completed"
    },
    "tags": []
   },
   "outputs": [],
   "source": []
  }
 ],
 "metadata": {
  "jupytext": {
   "cell_metadata_filter": "tags,-all",
   "main_language": "python",
   "notebook_metadata_filter": "-all"
  },
  "language_info": {
   "codemirror_mode": {
    "name": "ipython",
    "version": 3
   },
   "file_extension": ".py",
   "mimetype": "text/x-python",
   "name": "python",
   "nbconvert_exporter": "python",
   "pygments_lexer": "ipython3",
   "version": "3.8.10"
  },
  "papermill": {
   "default_parameters": {},
   "duration": 5.349008,
   "end_time": "2022-07-07T15:48:46.173272",
   "environment_variables": {},
   "exception": null,
   "input_path": "/home/host_user/workspace/mnist-demo-pipeline/mnist-demo-pipeline/notebooks/temp-notebook-swqjvulr.ipynb",
   "output_path": "notebooks/train-model.ipynb",
   "parameters": {
    "P": {
     "_opentelemetry_traceparent": "00-7d9d1459647cd31c9dab47dd67e7015d-4ded706028a2ff09-01",
     "pipeline.data_lake_root": "/pipeline-outputs/data-lake",
     "pipeline.github.actor": "matiasdahl",
     "pipeline.github.base_ref": "",
     "pipeline.github.event_name": "push",
     "pipeline.github.head_ref": "",
     "pipeline.github.job": "run-tests-pipeline-and-persist-pipeline-outputs",
     "pipeline.github.ref": "refs/heads/development",
     "pipeline.github.ref_name": "development",
     "pipeline.github.ref_type": "branch",
     "pipeline.github.repository": "pynb-dag-runner/mnist-digits-demo-pipeline",
     "pipeline.github.run_id": "2630712818",
     "pipeline.github.runner_name": "Hosted Agent",
     "pipeline.github.sha": "147a1be9916173fd4d2cd011d8d51e3411215850",
     "pipeline.github.workflow": "Run automated tests, pipeline and deploy results to static reporting site",
     "pipeline.pipeline_run_id": "6fd2431c-296e-452a-b6df-3a5d1d34da89",
     "pipeline.run_environment": "ci",
     "run.retry_nr": "0",
     "task.max_nr_retries": "1",
     "task.notebook": "notebooks/train-model.py",
     "task.nr_train_images": 1000,
     "task.num_cpus": 1,
     "task.timeout_s": "None"
    }
   },
   "start_time": "2022-07-07T15:48:40.824264",
   "version": "2.3.3"
  }
 },
 "nbformat": 4,
 "nbformat_minor": 5
}