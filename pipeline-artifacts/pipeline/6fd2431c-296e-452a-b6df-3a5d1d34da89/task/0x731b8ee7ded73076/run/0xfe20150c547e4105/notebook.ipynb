{
 "cells": [
  {
   "cell_type": "markdown",
   "id": "e338bf09",
   "metadata": {
    "papermill": {
     "duration": 0.004043,
     "end_time": "2022-07-07T15:48:51.648840",
     "exception": false,
     "start_time": "2022-07-07T15:48:51.644797",
     "status": "completed"
    },
    "tags": []
   },
   "source": [
    "# Train model\n",
    "\n",
    "The purpose of this notebook is:\n",
    "\n",
    "- Load all training data (images and labels).\n",
    "- Limit number of train images to `task.nr_train_images` (value provided as run parameter).\n",
    "- Train a support vector machine model using sklearn.\n",
    "- Persist the trained model using the ONNX format."
   ]
  },
  {
   "cell_type": "markdown",
   "id": "17cd7daf",
   "metadata": {
    "papermill": {
     "duration": 0.002865,
     "end_time": "2022-07-07T15:48:51.654963",
     "exception": false,
     "start_time": "2022-07-07T15:48:51.652098",
     "status": "completed"
    },
    "tags": []
   },
   "source": [
    "### Determine run parameters"
   ]
  },
  {
   "cell_type": "code",
   "execution_count": 1,
   "id": "a4c64dd7",
   "metadata": {
    "execution": {
     "iopub.execute_input": "2022-07-07T15:48:51.661678Z",
     "iopub.status.busy": "2022-07-07T15:48:51.661206Z",
     "iopub.status.idle": "2022-07-07T15:48:51.668710Z",
     "shell.execute_reply": "2022-07-07T15:48:51.668104Z"
    },
    "lines_to_next_cell": 0,
    "papermill": {
     "duration": 0.013041,
     "end_time": "2022-07-07T15:48:51.670608",
     "exception": false,
     "start_time": "2022-07-07T15:48:51.657567",
     "status": "completed"
    },
    "tags": []
   },
   "outputs": [],
   "source": [
    "# ----------------- Parameters for interactive development --------------\n",
    "P = {\n",
    "    \"pipeline.data_lake_root\": \"/pipeline-outputs/data-lake\",\n",
    "    \"task.nr_train_images\": 600,\n",
    "}"
   ]
  },
  {
   "cell_type": "code",
   "execution_count": 2,
   "id": "6a285c66",
   "metadata": {
    "execution": {
     "iopub.execute_input": "2022-07-07T15:48:51.677578Z",
     "iopub.status.busy": "2022-07-07T15:48:51.677140Z",
     "iopub.status.idle": "2022-07-07T15:48:51.680574Z",
     "shell.execute_reply": "2022-07-07T15:48:51.679718Z"
    },
    "lines_to_next_cell": 0,
    "papermill": {
     "duration": 0.008808,
     "end_time": "2022-07-07T15:48:51.682349",
     "exception": false,
     "start_time": "2022-07-07T15:48:51.673541",
     "status": "completed"
    },
    "tags": [
     "parameters"
    ]
   },
   "outputs": [],
   "source": [
    "# - During automated runs parameters will be injected in the below cell -"
   ]
  },
  {
   "cell_type": "code",
   "execution_count": 3,
   "id": "66f9c43d",
   "metadata": {
    "execution": {
     "iopub.execute_input": "2022-07-07T15:48:51.688948Z",
     "iopub.status.busy": "2022-07-07T15:48:51.688731Z",
     "iopub.status.idle": "2022-07-07T15:48:51.693138Z",
     "shell.execute_reply": "2022-07-07T15:48:51.692581Z"
    },
    "papermill": {
     "duration": 0.009258,
     "end_time": "2022-07-07T15:48:51.694546",
     "exception": false,
     "start_time": "2022-07-07T15:48:51.685288",
     "status": "completed"
    },
    "tags": [
     "injected-parameters"
    ]
   },
   "outputs": [],
   "source": [
    "# Parameters\n",
    "P = {\n",
    "    \"pipeline.data_lake_root\": \"/pipeline-outputs/data-lake\",\n",
    "    \"pipeline.run_environment\": \"ci\",\n",
    "    \"pipeline.pipeline_run_id\": \"6fd2431c-296e-452a-b6df-3a5d1d34da89\",\n",
    "    \"pipeline.github.repository\": \"pynb-dag-runner/mnist-digits-demo-pipeline\",\n",
    "    \"pipeline.github.workflow\": \"Run automated tests, pipeline and deploy results to static reporting site\",\n",
    "    \"pipeline.github.runner_name\": \"Hosted Agent\",\n",
    "    \"pipeline.github.run_id\": \"2630712818\",\n",
    "    \"pipeline.github.actor\": \"matiasdahl\",\n",
    "    \"pipeline.github.job\": \"run-tests-pipeline-and-persist-pipeline-outputs\",\n",
    "    \"pipeline.github.base_ref\": \"\",\n",
    "    \"pipeline.github.head_ref\": \"\",\n",
    "    \"pipeline.github.sha\": \"147a1be9916173fd4d2cd011d8d51e3411215850\",\n",
    "    \"pipeline.github.ref\": \"refs/heads/development\",\n",
    "    \"pipeline.github.ref_type\": \"branch\",\n",
    "    \"pipeline.github.ref_name\": \"development\",\n",
    "    \"pipeline.github.event_name\": \"push\",\n",
    "    \"task.nr_train_images\": 800,\n",
    "    \"task.notebook\": \"notebooks/train-model.py\",\n",
    "    \"task.max_nr_retries\": \"1\",\n",
    "    \"run.retry_nr\": \"0\",\n",
    "    \"task.timeout_s\": \"None\",\n",
    "    \"task.num_cpus\": 1,\n",
    "    \"_opentelemetry_traceparent\": \"00-7d9d1459647cd31c9dab47dd67e7015d-485ba135b2fac32a-01\",\n",
    "}\n"
   ]
  },
  {
   "cell_type": "code",
   "execution_count": 4,
   "id": "b55dd5bc",
   "metadata": {
    "execution": {
     "iopub.execute_input": "2022-07-07T15:48:51.713237Z",
     "iopub.status.busy": "2022-07-07T15:48:51.712572Z",
     "iopub.status.idle": "2022-07-07T15:48:51.715650Z",
     "shell.execute_reply": "2022-07-07T15:48:51.715053Z"
    },
    "lines_to_next_cell": 0,
    "papermill": {
     "duration": 0.008729,
     "end_time": "2022-07-07T15:48:51.716974",
     "exception": false,
     "start_time": "2022-07-07T15:48:51.708245",
     "status": "completed"
    },
    "tags": []
   },
   "outputs": [],
   "source": [
    "# -----------------------------------------------------------------------"
   ]
  },
  {
   "cell_type": "markdown",
   "id": "0953302e",
   "metadata": {
    "papermill": {
     "duration": 0.003232,
     "end_time": "2022-07-07T15:48:51.723321",
     "exception": false,
     "start_time": "2022-07-07T15:48:51.720089",
     "status": "completed"
    },
    "tags": []
   },
   "source": [
    "---"
   ]
  },
  {
   "cell_type": "markdown",
   "id": "b69326df",
   "metadata": {
    "lines_to_next_cell": 2,
    "papermill": {
     "duration": 0.002682,
     "end_time": "2022-07-07T15:48:51.729121",
     "exception": false,
     "start_time": "2022-07-07T15:48:51.726439",
     "status": "completed"
    },
    "tags": []
   },
   "source": [
    "### Notebook code"
   ]
  },
  {
   "cell_type": "code",
   "execution_count": 5,
   "id": "05193a11",
   "metadata": {
    "execution": {
     "iopub.execute_input": "2022-07-07T15:48:51.737895Z",
     "iopub.status.busy": "2022-07-07T15:48:51.737554Z",
     "iopub.status.idle": "2022-07-07T15:48:52.204425Z",
     "shell.execute_reply": "2022-07-07T15:48:52.203141Z"
    },
    "papermill": {
     "duration": 0.473243,
     "end_time": "2022-07-07T15:48:52.206457",
     "exception": false,
     "start_time": "2022-07-07T15:48:51.733214",
     "status": "completed"
    },
    "tags": []
   },
   "outputs": [
    {
     "name": "stderr",
     "output_type": "stream",
     "text": [
      "2022-07-07 15:48:52,052\tINFO worker.py:842 -- Connecting to existing Ray cluster at address: 172.17.0.2:6379\n"
     ]
    }
   ],
   "source": [
    "from pynb_dag_runner.tasks.task_opentelemetry_logging import PydarLogger\n",
    "\n",
    "logger = PydarLogger(P)"
   ]
  },
  {
   "cell_type": "markdown",
   "id": "53867d36",
   "metadata": {
    "papermill": {
     "duration": 0.003514,
     "end_time": "2022-07-07T15:48:52.213811",
     "exception": false,
     "start_time": "2022-07-07T15:48:52.210297",
     "status": "completed"
    },
    "tags": []
   },
   "source": [
    "## Load and limit train data"
   ]
  },
  {
   "cell_type": "code",
   "execution_count": 6,
   "id": "9b1965cc",
   "metadata": {
    "execution": {
     "iopub.execute_input": "2022-07-07T15:48:52.221142Z",
     "iopub.status.busy": "2022-07-07T15:48:52.220821Z",
     "iopub.status.idle": "2022-07-07T15:48:52.597053Z",
     "shell.execute_reply": "2022-07-07T15:48:52.596336Z"
    },
    "papermill": {
     "duration": 0.383503,
     "end_time": "2022-07-07T15:48:52.600158",
     "exception": false,
     "start_time": "2022-07-07T15:48:52.216655",
     "status": "completed"
    },
    "tags": []
   },
   "outputs": [],
   "source": [
    "def load_and_limit_train_data(P):\n",
    "    from common.io import datalake_root, read_numpy\n",
    "    from sklearn.model_selection import train_test_split\n",
    "\n",
    "    X_train_all = read_numpy(datalake_root(P) / \"train-data\" / \"digits.numpy\")\n",
    "    y_train_all = read_numpy(datalake_root(P) / \"train-data\" / \"labels.numpy\")\n",
    "\n",
    "    assert isinstance(P[\"task.nr_train_images\"], int)\n",
    "\n",
    "    # Note: train_test_split will fail if split is 0 or 100%.\n",
    "    assert 0 < P[\"task.nr_train_images\"] < len(y_train_all)\n",
    "\n",
    "    X_train, _, y_train, _ = train_test_split(\n",
    "        X_train_all,\n",
    "        y_train_all,\n",
    "        train_size=P[\"task.nr_train_images\"],\n",
    "        test_size=None,\n",
    "        stratify=y_train_all,\n",
    "        shuffle=True,\n",
    "        random_state=123,\n",
    "    )\n",
    "\n",
    "    assert X_train.shape == (len(y_train), 8 * 8)\n",
    "    return X_train, y_train\n",
    "\n",
    "\n",
    "X_train, y_train = load_and_limit_train_data(P)"
   ]
  },
  {
   "cell_type": "markdown",
   "id": "2bf3bd9f",
   "metadata": {
    "papermill": {
     "duration": 0.00313,
     "end_time": "2022-07-07T15:48:52.608456",
     "exception": false,
     "start_time": "2022-07-07T15:48:52.605326",
     "status": "completed"
    },
    "tags": []
   },
   "source": [
    "## Train support vector classifier model\n",
    "\n",
    "Below we assume that the hyperparameter $C$ is known.\n",
    "\n",
    "However, this should ideally be found by a hyperparameter search. That could be\n",
    "done in parallel on the Ray cluster, but this needs some more work. Ie., to use\n",
    "multiple cores in the notebook, those cores should be reserved when starting the\n",
    "notebook task (TODO).\n",
    "\n",
    "- https://docs.ray.io/en/latest/tune/key-concepts.html\n",
    "\n",
    "Note: cv-scores would need to be computed here, since they depend on the train data.\n",
    "After this notebook only the onnx-model is available."
   ]
  },
  {
   "cell_type": "code",
   "execution_count": 7,
   "id": "5bc31293",
   "metadata": {
    "execution": {
     "iopub.execute_input": "2022-07-07T15:48:52.615539Z",
     "iopub.status.busy": "2022-07-07T15:48:52.615205Z",
     "iopub.status.idle": "2022-07-07T15:48:52.634977Z",
     "shell.execute_reply": "2022-07-07T15:48:52.634306Z"
    },
    "papermill": {
     "duration": 0.025295,
     "end_time": "2022-07-07T15:48:52.636633",
     "exception": false,
     "start_time": "2022-07-07T15:48:52.611338",
     "status": "completed"
    },
    "tags": []
   },
   "outputs": [],
   "source": [
    "from sklearn.svm import SVC"
   ]
  },
  {
   "cell_type": "code",
   "execution_count": 8,
   "id": "fd3b077c",
   "metadata": {
    "execution": {
     "iopub.execute_input": "2022-07-07T15:48:52.644370Z",
     "iopub.status.busy": "2022-07-07T15:48:52.643896Z",
     "iopub.status.idle": "2022-07-07T15:48:52.773999Z",
     "shell.execute_reply": "2022-07-07T15:48:52.773477Z"
    },
    "papermill": {
     "duration": 0.135557,
     "end_time": "2022-07-07T15:48:52.775635",
     "exception": false,
     "start_time": "2022-07-07T15:48:52.640078",
     "status": "completed"
    },
    "tags": []
   },
   "outputs": [
    {
     "data": {
      "text/plain": [
       "SVC(C=0.001, kernel='linear', probability=True)"
      ]
     },
     "execution_count": 8,
     "metadata": {},
     "output_type": "execute_result"
    }
   ],
   "source": [
    "model = SVC(C=0.001, kernel=\"linear\", probability=True)\n",
    "\n",
    "model.fit(X_train, y_train)"
   ]
  },
  {
   "cell_type": "markdown",
   "id": "82dcfe5c",
   "metadata": {
    "papermill": {
     "duration": 0.003657,
     "end_time": "2022-07-07T15:48:52.782475",
     "exception": false,
     "start_time": "2022-07-07T15:48:52.778818",
     "status": "completed"
    },
    "tags": []
   },
   "source": [
    "### Q: Can the labels returned by `predict(..)` be computed from probabilities returned by the `predict_prob`-method?"
   ]
  },
  {
   "cell_type": "code",
   "execution_count": 9,
   "id": "c438207f",
   "metadata": {
    "execution": {
     "iopub.execute_input": "2022-07-07T15:48:52.789762Z",
     "iopub.status.busy": "2022-07-07T15:48:52.789419Z",
     "iopub.status.idle": "2022-07-07T15:48:52.853062Z",
     "shell.execute_reply": "2022-07-07T15:48:52.850894Z"
    },
    "papermill": {
     "duration": 0.069254,
     "end_time": "2022-07-07T15:48:52.854666",
     "exception": false,
     "start_time": "2022-07-07T15:48:52.785412",
     "status": "completed"
    },
    "tags": []
   },
   "outputs": [
    {
     "name": "stdout",
     "output_type": "stream",
     "text": [
      " - Logging nr_max_prob_neq_label (int) : 2\n"
     ]
    }
   ],
   "source": [
    "import numpy as np\n",
    "\n",
    "y_train_labels = model.predict(X_train)\n",
    "y_train_probabilities = model.predict_proba(X_train)\n",
    "assert y_train_probabilities.shape == (len(y_train), 10)\n",
    "\n",
    "y_train_max_prob_labels = np.argmax(y_train_probabilities, axis=1)\n",
    "assert y_train_labels.shape == y_train_max_prob_labels.shape == y_train.shape\n",
    "\n",
    "# If the predicted labels would coincide with the labels that have\n",
    "# maximum probability, the below number would be zero\n",
    "logger.log_int(\n",
    "    \"nr_max_prob_neq_label\", int(sum(y_train_max_prob_labels != y_train_labels))\n",
    ")"
   ]
  },
  {
   "cell_type": "markdown",
   "id": "218f00d4",
   "metadata": {
    "papermill": {
     "duration": 0.003798,
     "end_time": "2022-07-07T15:48:52.862050",
     "exception": false,
     "start_time": "2022-07-07T15:48:52.858252",
     "status": "completed"
    },
    "tags": []
   },
   "source": [
    "The explanation is (likely) explained in the SVC source, see\n",
    "[here](https://github.com/scikit-learn/scikit-learn/blob/main/sklearn/svm/_base.py).\n",
    "Namely, the outputs from `predict(..)` and `predict_proba(..)` may not in some\n",
    "cases be compatible since the latter is computed using cross-validation while\n",
    "the former is not. Thus, the above number need not be zero."
   ]
  },
  {
   "cell_type": "markdown",
   "id": "3e9d7172",
   "metadata": {
    "papermill": {
     "duration": 0.003032,
     "end_time": "2022-07-07T15:48:52.868408",
     "exception": false,
     "start_time": "2022-07-07T15:48:52.865376",
     "status": "completed"
    },
    "tags": []
   },
   "source": [
    "## Persist model"
   ]
  },
  {
   "cell_type": "code",
   "execution_count": 10,
   "id": "30db5705",
   "metadata": {
    "execution": {
     "iopub.execute_input": "2022-07-07T15:48:52.876612Z",
     "iopub.status.busy": "2022-07-07T15:48:52.876270Z",
     "iopub.status.idle": "2022-07-07T15:48:53.619124Z",
     "shell.execute_reply": "2022-07-07T15:48:53.617810Z"
    },
    "papermill": {
     "duration": 0.749341,
     "end_time": "2022-07-07T15:48:53.620877",
     "exception": false,
     "start_time": "2022-07-07T15:48:52.871536",
     "status": "completed"
    },
    "tags": []
   },
   "outputs": [],
   "source": [
    "from skl2onnx import convert_sklearn\n",
    "from skl2onnx.common.data_types import FloatTensorType\n",
    "\n",
    "#\n",
    "from common.io import datalake_root, write_onnx"
   ]
  },
  {
   "cell_type": "code",
   "execution_count": 11,
   "id": "e28a2146",
   "metadata": {
    "execution": {
     "iopub.execute_input": "2022-07-07T15:48:53.630167Z",
     "iopub.status.busy": "2022-07-07T15:48:53.629570Z",
     "iopub.status.idle": "2022-07-07T15:48:53.694812Z",
     "shell.execute_reply": "2022-07-07T15:48:53.694121Z"
    },
    "papermill": {
     "duration": 0.072413,
     "end_time": "2022-07-07T15:48:53.697013",
     "exception": false,
     "start_time": "2022-07-07T15:48:53.624600",
     "status": "completed"
    },
    "tags": []
   },
   "outputs": [],
   "source": [
    "# convert sklearn model into onnx and persist to data lake\n",
    "\n",
    "model_onnx = convert_sklearn(\n",
    "    model, initial_types=[(\"float_input_8x8_image\", FloatTensorType([None, 8 * 8]))]\n",
    ")\n",
    "write_onnx(\n",
    "    datalake_root(P)\n",
    "    / \"models\"\n",
    "    / f\"nr_train_images={P['task.nr_train_images']}\"\n",
    "    / \"model.onnx\",\n",
    "    model_onnx,\n",
    ")"
   ]
  },
  {
   "cell_type": "code",
   "execution_count": null,
   "id": "39d7ef30",
   "metadata": {
    "papermill": {
     "duration": 0.004093,
     "end_time": "2022-07-07T15:48:53.705050",
     "exception": false,
     "start_time": "2022-07-07T15:48:53.700957",
     "status": "completed"
    },
    "tags": []
   },
   "outputs": [],
   "source": []
  }
 ],
 "metadata": {
  "jupytext": {
   "cell_metadata_filter": "tags,-all",
   "main_language": "python",
   "notebook_metadata_filter": "-all"
  },
  "language_info": {
   "codemirror_mode": {
    "name": "ipython",
    "version": 3
   },
   "file_extension": ".py",
   "mimetype": "text/x-python",
   "name": "python",
   "nbconvert_exporter": "python",
   "pygments_lexer": "ipython3",
   "version": "3.8.10"
  },
  "papermill": {
   "default_parameters": {},
   "duration": 4.3173,
   "end_time": "2022-07-07T15:48:54.728581",
   "environment_variables": {},
   "exception": null,
   "input_path": "/home/host_user/workspace/mnist-demo-pipeline/mnist-demo-pipeline/notebooks/temp-notebook-siob6a8w.ipynb",
   "output_path": "notebooks/train-model.ipynb",
   "parameters": {
    "P": {
     "_opentelemetry_traceparent": "00-7d9d1459647cd31c9dab47dd67e7015d-485ba135b2fac32a-01",
     "pipeline.data_lake_root": "/pipeline-outputs/data-lake",
     "pipeline.github.actor": "matiasdahl",
     "pipeline.github.base_ref": "",
     "pipeline.github.event_name": "push",
     "pipeline.github.head_ref": "",
     "pipeline.github.job": "run-tests-pipeline-and-persist-pipeline-outputs",
     "pipeline.github.ref": "refs/heads/development",
     "pipeline.github.ref_name": "development",
     "pipeline.github.ref_type": "branch",
     "pipeline.github.repository": "pynb-dag-runner/mnist-digits-demo-pipeline",
     "pipeline.github.run_id": "2630712818",
     "pipeline.github.runner_name": "Hosted Agent",
     "pipeline.github.sha": "147a1be9916173fd4d2cd011d8d51e3411215850",
     "pipeline.github.workflow": "Run automated tests, pipeline and deploy results to static reporting site",
     "pipeline.pipeline_run_id": "6fd2431c-296e-452a-b6df-3a5d1d34da89",
     "pipeline.run_environment": "ci",
     "run.retry_nr": "0",
     "task.max_nr_retries": "1",
     "task.notebook": "notebooks/train-model.py",
     "task.nr_train_images": 800,
     "task.num_cpus": 1,
     "task.timeout_s": "None"
    }
   },
   "start_time": "2022-07-07T15:48:50.411281",
   "version": "2.3.3"
  }
 },
 "nbformat": 4,
 "nbformat_minor": 5
}