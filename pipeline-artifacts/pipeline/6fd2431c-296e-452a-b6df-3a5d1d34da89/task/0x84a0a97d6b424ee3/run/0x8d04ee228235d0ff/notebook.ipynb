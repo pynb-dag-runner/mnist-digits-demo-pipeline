{
 "cells": [
  {
   "cell_type": "markdown",
   "id": "b17198d9",
   "metadata": {
    "papermill": {
     "duration": 0.004608,
     "end_time": "2022-07-07T15:48:37.354353",
     "exception": false,
     "start_time": "2022-07-07T15:48:37.349745",
     "status": "completed"
    },
    "tags": []
   },
   "source": [
    "# Split digits and labels into separate training and testing data sets"
   ]
  },
  {
   "cell_type": "markdown",
   "id": "61ba3df0",
   "metadata": {
    "papermill": {
     "duration": 0.002623,
     "end_time": "2022-07-07T15:48:37.359734",
     "exception": false,
     "start_time": "2022-07-07T15:48:37.357111",
     "status": "completed"
    },
    "tags": []
   },
   "source": [
    "### Determine run parameters"
   ]
  },
  {
   "cell_type": "code",
   "execution_count": 1,
   "id": "d45cab97",
   "metadata": {
    "execution": {
     "iopub.execute_input": "2022-07-07T15:48:37.366508Z",
     "iopub.status.busy": "2022-07-07T15:48:37.366184Z",
     "iopub.status.idle": "2022-07-07T15:48:37.374063Z",
     "shell.execute_reply": "2022-07-07T15:48:37.373162Z"
    },
    "lines_to_next_cell": 0,
    "papermill": {
     "duration": 0.015169,
     "end_time": "2022-07-07T15:48:37.376980",
     "exception": false,
     "start_time": "2022-07-07T15:48:37.361811",
     "status": "completed"
    },
    "tags": []
   },
   "outputs": [],
   "source": [
    "# ----------------- Parameters for interactive development --------------\n",
    "P = {\n",
    "    \"pipeline.data_lake_root\": \"/pipeline-outputs/data-lake\",\n",
    "    \"task.train_test_ratio\": 0.7,\n",
    "}"
   ]
  },
  {
   "cell_type": "code",
   "execution_count": 2,
   "id": "b41b82df",
   "metadata": {
    "execution": {
     "iopub.execute_input": "2022-07-07T15:48:37.387051Z",
     "iopub.status.busy": "2022-07-07T15:48:37.386810Z",
     "iopub.status.idle": "2022-07-07T15:48:37.390591Z",
     "shell.execute_reply": "2022-07-07T15:48:37.390089Z"
    },
    "lines_to_next_cell": 0,
    "papermill": {
     "duration": 0.010491,
     "end_time": "2022-07-07T15:48:37.393422",
     "exception": false,
     "start_time": "2022-07-07T15:48:37.382931",
     "status": "completed"
    },
    "tags": [
     "parameters"
    ]
   },
   "outputs": [],
   "source": [
    "# - During automated runs parameters will be injected in the below cell -"
   ]
  },
  {
   "cell_type": "code",
   "execution_count": 3,
   "id": "cdcf5269",
   "metadata": {
    "execution": {
     "iopub.execute_input": "2022-07-07T15:48:37.399457Z",
     "iopub.status.busy": "2022-07-07T15:48:37.399221Z",
     "iopub.status.idle": "2022-07-07T15:48:37.404571Z",
     "shell.execute_reply": "2022-07-07T15:48:37.404063Z"
    },
    "papermill": {
     "duration": 0.010894,
     "end_time": "2022-07-07T15:48:37.407130",
     "exception": false,
     "start_time": "2022-07-07T15:48:37.396236",
     "status": "completed"
    },
    "tags": [
     "injected-parameters"
    ]
   },
   "outputs": [],
   "source": [
    "# Parameters\n",
    "P = {\n",
    "    \"pipeline.data_lake_root\": \"/pipeline-outputs/data-lake\",\n",
    "    \"pipeline.run_environment\": \"ci\",\n",
    "    \"pipeline.pipeline_run_id\": \"6fd2431c-296e-452a-b6df-3a5d1d34da89\",\n",
    "    \"pipeline.github.repository\": \"pynb-dag-runner/mnist-digits-demo-pipeline\",\n",
    "    \"pipeline.github.workflow\": \"Run automated tests, pipeline and deploy results to static reporting site\",\n",
    "    \"pipeline.github.runner_name\": \"Hosted Agent\",\n",
    "    \"pipeline.github.run_id\": \"2630712818\",\n",
    "    \"pipeline.github.actor\": \"matiasdahl\",\n",
    "    \"pipeline.github.job\": \"run-tests-pipeline-and-persist-pipeline-outputs\",\n",
    "    \"pipeline.github.base_ref\": \"\",\n",
    "    \"pipeline.github.head_ref\": \"\",\n",
    "    \"pipeline.github.sha\": \"147a1be9916173fd4d2cd011d8d51e3411215850\",\n",
    "    \"pipeline.github.ref\": \"refs/heads/development\",\n",
    "    \"pipeline.github.ref_type\": \"branch\",\n",
    "    \"pipeline.github.ref_name\": \"development\",\n",
    "    \"pipeline.github.event_name\": \"push\",\n",
    "    \"task.train_test_ratio\": 0.7,\n",
    "    \"task.notebook\": \"notebooks/split-train-test.py\",\n",
    "    \"task.max_nr_retries\": \"1\",\n",
    "    \"run.retry_nr\": \"0\",\n",
    "    \"task.timeout_s\": \"None\",\n",
    "    \"task.num_cpus\": 1,\n",
    "    \"_opentelemetry_traceparent\": \"00-7d9d1459647cd31c9dab47dd67e7015d-e6a5705adba7b98c-01\",\n",
    "}\n"
   ]
  },
  {
   "cell_type": "code",
   "execution_count": 4,
   "id": "14665e90",
   "metadata": {
    "execution": {
     "iopub.execute_input": "2022-07-07T15:48:37.413344Z",
     "iopub.status.busy": "2022-07-07T15:48:37.413116Z",
     "iopub.status.idle": "2022-07-07T15:48:37.416835Z",
     "shell.execute_reply": "2022-07-07T15:48:37.416307Z"
    },
    "lines_to_next_cell": 0,
    "papermill": {
     "duration": 0.009662,
     "end_time": "2022-07-07T15:48:37.419084",
     "exception": false,
     "start_time": "2022-07-07T15:48:37.409422",
     "status": "completed"
    },
    "tags": []
   },
   "outputs": [],
   "source": [
    "# -----------------------------------------------------------------------"
   ]
  },
  {
   "cell_type": "markdown",
   "id": "3742640d",
   "metadata": {
    "papermill": {
     "duration": 0.002256,
     "end_time": "2022-07-07T15:48:37.423993",
     "exception": false,
     "start_time": "2022-07-07T15:48:37.421737",
     "status": "completed"
    },
    "tags": []
   },
   "source": [
    "---"
   ]
  },
  {
   "cell_type": "markdown",
   "id": "9f67e151",
   "metadata": {
    "lines_to_next_cell": 2,
    "papermill": {
     "duration": 0.002334,
     "end_time": "2022-07-07T15:48:37.429984",
     "exception": false,
     "start_time": "2022-07-07T15:48:37.427650",
     "status": "completed"
    },
    "tags": []
   },
   "source": [
    "### Notebook code"
   ]
  },
  {
   "cell_type": "code",
   "execution_count": 5,
   "id": "cfd60ba4",
   "metadata": {
    "execution": {
     "iopub.execute_input": "2022-07-07T15:48:37.437032Z",
     "iopub.status.busy": "2022-07-07T15:48:37.436770Z",
     "iopub.status.idle": "2022-07-07T15:48:37.955752Z",
     "shell.execute_reply": "2022-07-07T15:48:37.955135Z"
    },
    "papermill": {
     "duration": 0.525373,
     "end_time": "2022-07-07T15:48:37.957754",
     "exception": false,
     "start_time": "2022-07-07T15:48:37.432381",
     "status": "completed"
    },
    "tags": []
   },
   "outputs": [
    {
     "name": "stderr",
     "output_type": "stream",
     "text": [
      "2022-07-07 15:48:37,791\tINFO worker.py:842 -- Connecting to existing Ray cluster at address: 172.17.0.2:6379\n"
     ]
    }
   ],
   "source": [
    "from common.io import datalake_root, read_numpy, write_numpy\n",
    "from pynb_dag_runner.tasks.task_opentelemetry_logging import PydarLogger\n",
    "\n",
    "logger = PydarLogger(P)"
   ]
  },
  {
   "cell_type": "markdown",
   "id": "17a370a8",
   "metadata": {
    "papermill": {
     "duration": 0.003895,
     "end_time": "2022-07-07T15:48:37.964264",
     "exception": false,
     "start_time": "2022-07-07T15:48:37.960369",
     "status": "completed"
    },
    "tags": []
   },
   "source": [
    "## Load and split digits data"
   ]
  },
  {
   "cell_type": "code",
   "execution_count": 6,
   "id": "22e8e94b",
   "metadata": {
    "execution": {
     "iopub.execute_input": "2022-07-07T15:48:37.970636Z",
     "iopub.status.busy": "2022-07-07T15:48:37.970334Z",
     "iopub.status.idle": "2022-07-07T15:48:37.976075Z",
     "shell.execute_reply": "2022-07-07T15:48:37.975500Z"
    },
    "papermill": {
     "duration": 0.0118,
     "end_time": "2022-07-07T15:48:37.978564",
     "exception": false,
     "start_time": "2022-07-07T15:48:37.966764",
     "status": "completed"
    },
    "tags": []
   },
   "outputs": [],
   "source": [
    "X = read_numpy(datalake_root(P) / \"raw\" / \"digits.numpy\")\n",
    "y = read_numpy(datalake_root(P) / \"raw\" / \"labels.numpy\")"
   ]
  },
  {
   "cell_type": "code",
   "execution_count": 7,
   "id": "0febdec0",
   "metadata": {
    "execution": {
     "iopub.execute_input": "2022-07-07T15:48:37.985288Z",
     "iopub.status.busy": "2022-07-07T15:48:37.985068Z",
     "iopub.status.idle": "2022-07-07T15:48:38.401889Z",
     "shell.execute_reply": "2022-07-07T15:48:38.399867Z"
    },
    "papermill": {
     "duration": 0.422954,
     "end_time": "2022-07-07T15:48:38.403949",
     "exception": false,
     "start_time": "2022-07-07T15:48:37.980995",
     "status": "completed"
    },
    "tags": []
   },
   "outputs": [],
   "source": [
    "from sklearn.model_selection import train_test_split\n",
    "\n",
    "X_train, X_test, y_train, y_test = train_test_split(\n",
    "    X,\n",
    "    y,\n",
    "    train_size=P[\"task.train_test_ratio\"],\n",
    "    test_size=None,\n",
    "    stratify=y,\n",
    "    shuffle=True,\n",
    "    random_state=1,\n",
    ")\n",
    "\n",
    "# assert nr of pixels per image is the same for all image vectors\n",
    "assert X.shape[1] == X_train.shape[1] == X_test.shape[1]\n",
    "\n",
    "# assert that the (X, y)-pairs have compatible sizes (for both train and test)\n",
    "assert X_train.shape[0] == len(y_train)\n",
    "assert X_test.shape[0] == len(y_test)\n",
    "\n",
    "# assert that all data is used\n",
    "assert len(y) == len(y_train) + len(y_test)"
   ]
  },
  {
   "cell_type": "code",
   "execution_count": 8,
   "id": "9fe60e29",
   "metadata": {
    "execution": {
     "iopub.execute_input": "2022-07-07T15:48:38.413263Z",
     "iopub.status.busy": "2022-07-07T15:48:38.412759Z",
     "iopub.status.idle": "2022-07-07T15:48:38.420221Z",
     "shell.execute_reply": "2022-07-07T15:48:38.419686Z"
    },
    "papermill": {
     "duration": 0.014685,
     "end_time": "2022-07-07T15:48:38.421844",
     "exception": false,
     "start_time": "2022-07-07T15:48:38.407159",
     "status": "completed"
    },
    "tags": []
   },
   "outputs": [
    {
     "name": "stdout",
     "output_type": "stream",
     "text": [
      " - Logging nr_digits_train (int) : 1257\n",
      " - Logging nr_digits_test (int) : 540\n"
     ]
    }
   ],
   "source": [
    "logger.log_int(\"nr_digits_train\", len(y_train))\n",
    "logger.log_int(\"nr_digits_test\", len(y_test))"
   ]
  },
  {
   "cell_type": "markdown",
   "id": "91e57a6c",
   "metadata": {
    "papermill": {
     "duration": 0.003048,
     "end_time": "2022-07-07T15:48:38.427693",
     "exception": false,
     "start_time": "2022-07-07T15:48:38.424645",
     "status": "completed"
    },
    "tags": []
   },
   "source": [
    "### Persist training and test data sets to separate files"
   ]
  },
  {
   "cell_type": "code",
   "execution_count": 9,
   "id": "88debb94",
   "metadata": {
    "execution": {
     "iopub.execute_input": "2022-07-07T15:48:38.434316Z",
     "iopub.status.busy": "2022-07-07T15:48:38.434091Z",
     "iopub.status.idle": "2022-07-07T15:48:38.439620Z",
     "shell.execute_reply": "2022-07-07T15:48:38.439095Z"
    },
    "papermill": {
     "duration": 0.011513,
     "end_time": "2022-07-07T15:48:38.442190",
     "exception": false,
     "start_time": "2022-07-07T15:48:38.430677",
     "status": "completed"
    },
    "tags": []
   },
   "outputs": [],
   "source": [
    "write_numpy(datalake_root(P) / \"train-data\" / \"digits.numpy\", X_train)\n",
    "write_numpy(datalake_root(P) / \"train-data\" / \"labels.numpy\", y_train)\n",
    "\n",
    "#\n",
    "write_numpy(datalake_root(P) / \"test-data\" / \"digits.numpy\", X_test)\n",
    "write_numpy(datalake_root(P) / \"test-data\" / \"labels.numpy\", y_test)"
   ]
  },
  {
   "cell_type": "code",
   "execution_count": null,
   "id": "2046c01d",
   "metadata": {
    "papermill": {
     "duration": 0.002948,
     "end_time": "2022-07-07T15:48:38.447791",
     "exception": false,
     "start_time": "2022-07-07T15:48:38.444843",
     "status": "completed"
    },
    "tags": []
   },
   "outputs": [],
   "source": []
  }
 ],
 "metadata": {
  "jupytext": {
   "cell_metadata_filter": "tags,-all",
   "main_language": "python",
   "notebook_metadata_filter": "-all"
  },
  "language_info": {
   "codemirror_mode": {
    "name": "ipython",
    "version": 3
   },
   "file_extension": ".py",
   "mimetype": "text/x-python",
   "name": "python",
   "nbconvert_exporter": "python",
   "pygments_lexer": "ipython3",
   "version": "3.8.10"
  },
  "papermill": {
   "default_parameters": {},
   "duration": 3.556157,
   "end_time": "2022-07-07T15:48:39.469173",
   "environment_variables": {},
   "exception": null,
   "input_path": "/home/host_user/workspace/mnist-demo-pipeline/mnist-demo-pipeline/notebooks/temp-notebook-yx_568vs.ipynb",
   "output_path": "notebooks/split-train-test.ipynb",
   "parameters": {
    "P": {
     "_opentelemetry_traceparent": "00-7d9d1459647cd31c9dab47dd67e7015d-e6a5705adba7b98c-01",
     "pipeline.data_lake_root": "/pipeline-outputs/data-lake",
     "pipeline.github.actor": "matiasdahl",
     "pipeline.github.base_ref": "",
     "pipeline.github.event_name": "push",
     "pipeline.github.head_ref": "",
     "pipeline.github.job": "run-tests-pipeline-and-persist-pipeline-outputs",
     "pipeline.github.ref": "refs/heads/development",
     "pipeline.github.ref_name": "development",
     "pipeline.github.ref_type": "branch",
     "pipeline.github.repository": "pynb-dag-runner/mnist-digits-demo-pipeline",
     "pipeline.github.run_id": "2630712818",
     "pipeline.github.runner_name": "Hosted Agent",
     "pipeline.github.sha": "147a1be9916173fd4d2cd011d8d51e3411215850",
     "pipeline.github.workflow": "Run automated tests, pipeline and deploy results to static reporting site",
     "pipeline.pipeline_run_id": "6fd2431c-296e-452a-b6df-3a5d1d34da89",
     "pipeline.run_environment": "ci",
     "run.retry_nr": "0",
     "task.max_nr_retries": "1",
     "task.notebook": "notebooks/split-train-test.py",
     "task.num_cpus": 1,
     "task.timeout_s": "None",
     "task.train_test_ratio": 0.7
    }
   },
   "start_time": "2022-07-07T15:48:35.913016",
   "version": "2.3.3"
  }
 },
 "nbformat": 4,
 "nbformat_minor": 5
}