{
 "cells": [
  {
   "cell_type": "markdown",
   "id": "6caf99e0",
   "metadata": {
    "papermill": {
     "duration": 0.003434,
     "end_time": "2022-07-04T06:52:02.748458",
     "exception": false,
     "start_time": "2022-07-04T06:52:02.745024",
     "status": "completed"
    },
    "tags": []
   },
   "source": [
    "# Ingest toy version of MNIST digit data from sklearn"
   ]
  },
  {
   "cell_type": "markdown",
   "id": "03e1cd70",
   "metadata": {
    "papermill": {
     "duration": 0.002736,
     "end_time": "2022-07-04T06:52:02.753857",
     "exception": false,
     "start_time": "2022-07-04T06:52:02.751121",
     "status": "completed"
    },
    "tags": []
   },
   "source": [
    "### Determine run parameters"
   ]
  },
  {
   "cell_type": "code",
   "execution_count": 1,
   "id": "2e4755ae",
   "metadata": {
    "execution": {
     "iopub.execute_input": "2022-07-04T06:52:02.759852Z",
     "iopub.status.busy": "2022-07-04T06:52:02.759365Z",
     "iopub.status.idle": "2022-07-04T06:52:02.767586Z",
     "shell.execute_reply": "2022-07-04T06:52:02.766879Z"
    },
    "lines_to_next_cell": 0,
    "papermill": {
     "duration": 0.013261,
     "end_time": "2022-07-04T06:52:02.769311",
     "exception": false,
     "start_time": "2022-07-04T06:52:02.756050",
     "status": "completed"
    },
    "tags": []
   },
   "outputs": [],
   "source": [
    "# ----------------- Parameters for interactive development --------------\n",
    "P = {\n",
    "    \"pipeline.run_environment\": \"dev\",\n",
    "    \"pipeline.data_lake_root\": \"/pipeline-outputs/data-lake\",\n",
    "    \"run.retry_nr\": \"1\",\n",
    "}"
   ]
  },
  {
   "cell_type": "code",
   "execution_count": 2,
   "id": "d2d9c235",
   "metadata": {
    "execution": {
     "iopub.execute_input": "2022-07-04T06:52:02.776549Z",
     "iopub.status.busy": "2022-07-04T06:52:02.776275Z",
     "iopub.status.idle": "2022-07-04T06:52:02.779489Z",
     "shell.execute_reply": "2022-07-04T06:52:02.778847Z"
    },
    "lines_to_next_cell": 0,
    "papermill": {
     "duration": 0.00861,
     "end_time": "2022-07-04T06:52:02.780841",
     "exception": false,
     "start_time": "2022-07-04T06:52:02.772231",
     "status": "completed"
    },
    "tags": [
     "parameters"
    ]
   },
   "outputs": [],
   "source": [
    "# - During automated runs parameters will be injected in the below cell -"
   ]
  },
  {
   "cell_type": "code",
   "execution_count": 3,
   "id": "c6104396",
   "metadata": {
    "execution": {
     "iopub.execute_input": "2022-07-04T06:52:02.787659Z",
     "iopub.status.busy": "2022-07-04T06:52:02.787229Z",
     "iopub.status.idle": "2022-07-04T06:52:02.792345Z",
     "shell.execute_reply": "2022-07-04T06:52:02.791425Z"
    },
    "papermill": {
     "duration": 0.010344,
     "end_time": "2022-07-04T06:52:02.793956",
     "exception": false,
     "start_time": "2022-07-04T06:52:02.783612",
     "status": "completed"
    },
    "tags": [
     "injected-parameters"
    ]
   },
   "outputs": [],
   "source": [
    "# Parameters\n",
    "P = {\n",
    "    \"pipeline.data_lake_root\": \"/pipeline-outputs/data-lake\",\n",
    "    \"pipeline.run_environment\": \"ci\",\n",
    "    \"pipeline.pipeline_run_id\": \"f1e020c4-fe8c-41d7-bbf7-bf95d4453b33\",\n",
    "    \"pipeline.github.repository\": \"pynb-dag-runner/mnist-digits-demo-pipeline\",\n",
    "    \"pipeline.github.workflow\": \"Run automated tests, pipeline and deploy results to static reporting site\",\n",
    "    \"pipeline.github.runner_name\": \"Hosted Agent\",\n",
    "    \"pipeline.github.run_id\": \"2608212936\",\n",
    "    \"pipeline.github.actor\": \"matiasdahl\",\n",
    "    \"pipeline.github.job\": \"run-tests-pipeline-and-persist-pipeline-outputs\",\n",
    "    \"pipeline.github.base_ref\": \"\",\n",
    "    \"pipeline.github.head_ref\": \"\",\n",
    "    \"pipeline.github.sha\": \"f934c58f68028b7bb026059d4e87e6d32a1bbd20\",\n",
    "    \"pipeline.github.ref\": \"refs/heads/development\",\n",
    "    \"pipeline.github.ref_type\": \"branch\",\n",
    "    \"pipeline.github.ref_name\": \"development\",\n",
    "    \"pipeline.github.event_name\": \"schedule\",\n",
    "    \"task.notebook\": \"notebooks/ingest.py\",\n",
    "    \"task.max_nr_retries\": \"15\",\n",
    "    \"run.retry_nr\": \"10\",\n",
    "    \"task.timeout_s\": \"10\",\n",
    "    \"task.num_cpus\": 1,\n",
    "    \"_opentelemetry_traceparent\": \"00-0b7f1bf11e5cfed8c62638a4aa1d15b6-cde00743c0a100e5-01\",\n",
    "}\n"
   ]
  },
  {
   "cell_type": "code",
   "execution_count": 4,
   "id": "751a26b8",
   "metadata": {
    "execution": {
     "iopub.execute_input": "2022-07-04T06:52:02.800786Z",
     "iopub.status.busy": "2022-07-04T06:52:02.800297Z",
     "iopub.status.idle": "2022-07-04T06:52:02.803746Z",
     "shell.execute_reply": "2022-07-04T06:52:02.803085Z"
    },
    "lines_to_next_cell": 0,
    "papermill": {
     "duration": 0.008813,
     "end_time": "2022-07-04T06:52:02.805342",
     "exception": false,
     "start_time": "2022-07-04T06:52:02.796529",
     "status": "completed"
    },
    "tags": []
   },
   "outputs": [],
   "source": [
    "# -----------------------------------------------------------------------"
   ]
  },
  {
   "cell_type": "markdown",
   "id": "15439a73",
   "metadata": {
    "lines_to_next_cell": 2,
    "papermill": {
     "duration": 0.002499,
     "end_time": "2022-07-04T06:52:02.810380",
     "exception": false,
     "start_time": "2022-07-04T06:52:02.807881",
     "status": "completed"
    },
    "tags": []
   },
   "source": [
    "---"
   ]
  },
  {
   "cell_type": "markdown",
   "id": "d69e5a0e",
   "metadata": {
    "papermill": {
     "duration": 0.002662,
     "end_time": "2022-07-04T06:52:02.815580",
     "exception": false,
     "start_time": "2022-07-04T06:52:02.812918",
     "status": "completed"
    },
    "tags": []
   },
   "source": [
    "### Simulate different types of failures (for testing timeout and retry logic)"
   ]
  },
  {
   "cell_type": "code",
   "execution_count": 5,
   "id": "c70c63a1",
   "metadata": {
    "execution": {
     "iopub.execute_input": "2022-07-04T06:52:02.822226Z",
     "iopub.status.busy": "2022-07-04T06:52:02.821473Z",
     "iopub.status.idle": "2022-07-04T06:52:03.264106Z",
     "shell.execute_reply": "2022-07-04T06:52:03.263397Z"
    },
    "papermill": {
     "duration": 0.448131,
     "end_time": "2022-07-04T06:52:03.266219",
     "exception": false,
     "start_time": "2022-07-04T06:52:02.818088",
     "status": "completed"
    },
    "tags": []
   },
   "outputs": [
    {
     "name": "stderr",
     "output_type": "stream",
     "text": [
      "2022-07-04 06:52:03,117\tINFO worker.py:842 -- Connecting to existing Ray cluster at address: 172.17.0.2:6379\n"
     ]
    }
   ],
   "source": [
    "from pynb_dag_runner.tasks.task_opentelemetry_logging import PydarLogger\n",
    "\n",
    "logger = PydarLogger(P)"
   ]
  },
  {
   "cell_type": "code",
   "execution_count": 6,
   "id": "45063ac4",
   "metadata": {
    "execution": {
     "iopub.execute_input": "2022-07-04T06:52:03.273430Z",
     "iopub.status.busy": "2022-07-04T06:52:03.272939Z",
     "iopub.status.idle": "2022-07-04T06:52:03.280134Z",
     "shell.execute_reply": "2022-07-04T06:52:03.279275Z"
    },
    "papermill": {
     "duration": 0.012352,
     "end_time": "2022-07-04T06:52:03.281468",
     "exception": false,
     "start_time": "2022-07-04T06:52:03.269116",
     "status": "completed"
    },
    "tags": []
   },
   "outputs": [],
   "source": [
    "import time, random\n",
    "\n",
    "\n",
    "def maybe_crash(retry_nr: int, run_environment: str):\n",
    "    if retry_nr == 2 and run_environment == \"ci\":\n",
    "        time.sleep(1e6)\n",
    "\n",
    "    max_retry_nr: int = 3 if run_environment == \"dev\" else 10\n",
    "\n",
    "    if retry_nr < max_retry_nr:\n",
    "        if random.random() < 0.1:\n",
    "            time.sleep(1e6)\n",
    "        else:\n",
    "            raise Exception(\"Simulated exception failure from ingestion step notebook!\")\n",
    "\n",
    "\n",
    "maybe_crash(\n",
    "    retry_nr=int(P[\"run.retry_nr\"]), run_environment=P[\"pipeline.run_environment\"]\n",
    ")"
   ]
  },
  {
   "cell_type": "markdown",
   "id": "8ae7afad",
   "metadata": {
    "lines_to_next_cell": 2,
    "papermill": {
     "duration": 0.002781,
     "end_time": "2022-07-04T06:52:03.286906",
     "exception": false,
     "start_time": "2022-07-04T06:52:03.284125",
     "status": "completed"
    },
    "tags": []
   },
   "source": [
    "### Notebook code"
   ]
  },
  {
   "cell_type": "code",
   "execution_count": 7,
   "id": "a1399c6c",
   "metadata": {
    "execution": {
     "iopub.execute_input": "2022-07-04T06:52:03.293430Z",
     "iopub.status.busy": "2022-07-04T06:52:03.292937Z",
     "iopub.status.idle": "2022-07-04T06:52:04.523268Z",
     "shell.execute_reply": "2022-07-04T06:52:04.522575Z"
    },
    "papermill": {
     "duration": 1.235838,
     "end_time": "2022-07-04T06:52:04.525170",
     "exception": false,
     "start_time": "2022-07-04T06:52:03.289332",
     "status": "completed"
    },
    "tags": []
   },
   "outputs": [],
   "source": [
    "from sklearn import datasets\n",
    "\n",
    "#\n",
    "from common.io import datalake_root, write_numpy"
   ]
  },
  {
   "cell_type": "code",
   "execution_count": 8,
   "id": "633c0c03",
   "metadata": {
    "execution": {
     "iopub.execute_input": "2022-07-04T06:52:04.533263Z",
     "iopub.status.busy": "2022-07-04T06:52:04.532516Z",
     "iopub.status.idle": "2022-07-04T06:52:04.545593Z",
     "shell.execute_reply": "2022-07-04T06:52:04.544856Z"
    },
    "lines_to_next_cell": 2,
    "papermill": {
     "duration": 0.018991,
     "end_time": "2022-07-04T06:52:04.547574",
     "exception": false,
     "start_time": "2022-07-04T06:52:04.528583",
     "status": "completed"
    },
    "tags": []
   },
   "outputs": [],
   "source": [
    "digits = datasets.load_digits()\n",
    "\n",
    "X = digits[\"data\"]\n",
    "y = digits[\"target\"]"
   ]
  },
  {
   "cell_type": "code",
   "execution_count": 9,
   "id": "824773a9",
   "metadata": {
    "execution": {
     "iopub.execute_input": "2022-07-04T06:52:04.554497Z",
     "iopub.status.busy": "2022-07-04T06:52:04.554065Z",
     "iopub.status.idle": "2022-07-04T06:52:04.567309Z",
     "shell.execute_reply": "2022-07-04T06:52:04.566361Z"
    },
    "papermill": {
     "duration": 0.018769,
     "end_time": "2022-07-04T06:52:04.569072",
     "exception": false,
     "start_time": "2022-07-04T06:52:04.550303",
     "status": "completed"
    },
    "tags": []
   },
   "outputs": [
    {
     "name": "stdout",
     "output_type": "stream",
     "text": [
      " - Logging data_shape (json) : [1797, 64]\n",
      " - Logging target_shape (json) : [1797]\n"
     ]
    },
    {
     "data": {
      "text/plain": [
       "((1797, 64), (1797,))"
      ]
     },
     "execution_count": 9,
     "metadata": {},
     "output_type": "execute_result"
    }
   ],
   "source": [
    "logger.log_value(\"data_shape\", list(X.shape))\n",
    "logger.log_value(\"target_shape\", list(y.shape))\n",
    "\n",
    "X.shape, y.shape"
   ]
  },
  {
   "cell_type": "code",
   "execution_count": 10,
   "id": "1ea5fc59",
   "metadata": {
    "execution": {
     "iopub.execute_input": "2022-07-04T06:52:04.578454Z",
     "iopub.status.busy": "2022-07-04T06:52:04.578075Z",
     "iopub.status.idle": "2022-07-04T06:52:04.586911Z",
     "shell.execute_reply": "2022-07-04T06:52:04.586085Z"
    },
    "papermill": {
     "duration": 0.015539,
     "end_time": "2022-07-04T06:52:04.588817",
     "exception": false,
     "start_time": "2022-07-04T06:52:04.573278",
     "status": "completed"
    },
    "tags": []
   },
   "outputs": [],
   "source": [
    "write_numpy(datalake_root(P) / \"raw\" / \"digits.numpy\", X)\n",
    "write_numpy(datalake_root(P) / \"raw\" / \"labels.numpy\", y)"
   ]
  },
  {
   "cell_type": "code",
   "execution_count": null,
   "id": "6ae9d741",
   "metadata": {
    "papermill": {
     "duration": 0.002868,
     "end_time": "2022-07-04T06:52:04.594516",
     "exception": false,
     "start_time": "2022-07-04T06:52:04.591648",
     "status": "completed"
    },
    "tags": []
   },
   "outputs": [],
   "source": []
  }
 ],
 "metadata": {
  "jupytext": {
   "cell_metadata_filter": "tags,-all",
   "main_language": "python",
   "notebook_metadata_filter": "-all"
  },
  "language_info": {
   "codemirror_mode": {
    "name": "ipython",
    "version": 3
   },
   "file_extension": ".py",
   "mimetype": "text/x-python",
   "name": "python",
   "nbconvert_exporter": "python",
   "pygments_lexer": "ipython3",
   "version": "3.8.10"
  },
  "papermill": {
   "default_parameters": {},
   "duration": 3.921245,
   "end_time": "2022-07-04T06:52:05.516716",
   "environment_variables": {},
   "exception": null,
   "input_path": "/home/host_user/workspace/mnist-demo-pipeline/mnist-demo-pipeline/notebooks/temp-notebook-l6_1bj9y.ipynb",
   "output_path": "notebooks/ingest.ipynb",
   "parameters": {
    "P": {
     "_opentelemetry_traceparent": "00-0b7f1bf11e5cfed8c62638a4aa1d15b6-cde00743c0a100e5-01",
     "pipeline.data_lake_root": "/pipeline-outputs/data-lake",
     "pipeline.github.actor": "matiasdahl",
     "pipeline.github.base_ref": "",
     "pipeline.github.event_name": "schedule",
     "pipeline.github.head_ref": "",
     "pipeline.github.job": "run-tests-pipeline-and-persist-pipeline-outputs",
     "pipeline.github.ref": "refs/heads/development",
     "pipeline.github.ref_name": "development",
     "pipeline.github.ref_type": "branch",
     "pipeline.github.repository": "pynb-dag-runner/mnist-digits-demo-pipeline",
     "pipeline.github.run_id": "2608212936",
     "pipeline.github.runner_name": "Hosted Agent",
     "pipeline.github.sha": "f934c58f68028b7bb026059d4e87e6d32a1bbd20",
     "pipeline.github.workflow": "Run automated tests, pipeline and deploy results to static reporting site",
     "pipeline.pipeline_run_id": "f1e020c4-fe8c-41d7-bbf7-bf95d4453b33",
     "pipeline.run_environment": "ci",
     "run.retry_nr": "10",
     "task.max_nr_retries": "15",
     "task.notebook": "notebooks/ingest.py",
     "task.num_cpus": 1,
     "task.timeout_s": "10"
    }
   },
   "start_time": "2022-07-04T06:52:01.595471",
   "version": "2.3.3"
  }
 },
 "nbformat": 4,
 "nbformat_minor": 5
}