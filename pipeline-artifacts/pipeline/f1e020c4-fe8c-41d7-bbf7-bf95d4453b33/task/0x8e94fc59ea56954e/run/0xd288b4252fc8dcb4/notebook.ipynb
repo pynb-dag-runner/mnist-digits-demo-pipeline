{
 "cells": [
  {
   "cell_type": "markdown",
   "id": "a4b9d8e6",
   "metadata": {
    "papermill": {
     "duration": 0.004826,
     "end_time": "2022-07-04T06:52:13.116625",
     "exception": false,
     "start_time": "2022-07-04T06:52:13.111799",
     "status": "completed"
    },
    "tags": []
   },
   "source": [
    "# Train model\n",
    "\n",
    "The purpose of this notebook is:\n",
    "\n",
    "- Load all training data (images and labels).\n",
    "- Limit number of train images to `task.nr_train_images` (value provided as run parameter).\n",
    "- Train a support vector machine model using sklearn.\n",
    "- Persist the trained model using the ONNX format."
   ]
  },
  {
   "cell_type": "markdown",
   "id": "829f0e98",
   "metadata": {
    "papermill": {
     "duration": 0.003427,
     "end_time": "2022-07-04T06:52:13.124025",
     "exception": false,
     "start_time": "2022-07-04T06:52:13.120598",
     "status": "completed"
    },
    "tags": []
   },
   "source": [
    "### Determine run parameters"
   ]
  },
  {
   "cell_type": "code",
   "execution_count": 1,
   "id": "3e1b1527",
   "metadata": {
    "execution": {
     "iopub.execute_input": "2022-07-04T06:52:13.132352Z",
     "iopub.status.busy": "2022-07-04T06:52:13.132030Z",
     "iopub.status.idle": "2022-07-04T06:52:13.140340Z",
     "shell.execute_reply": "2022-07-04T06:52:13.139762Z"
    },
    "lines_to_next_cell": 0,
    "papermill": {
     "duration": 0.014475,
     "end_time": "2022-07-04T06:52:13.142064",
     "exception": false,
     "start_time": "2022-07-04T06:52:13.127589",
     "status": "completed"
    },
    "tags": []
   },
   "outputs": [],
   "source": [
    "# ----------------- Parameters for interactive development --------------\n",
    "P = {\n",
    "    \"pipeline.data_lake_root\": \"/pipeline-outputs/data-lake\",\n",
    "    \"task.nr_train_images\": 600,\n",
    "}"
   ]
  },
  {
   "cell_type": "code",
   "execution_count": 2,
   "id": "94b9c92c",
   "metadata": {
    "execution": {
     "iopub.execute_input": "2022-07-04T06:52:13.149579Z",
     "iopub.status.busy": "2022-07-04T06:52:13.149020Z",
     "iopub.status.idle": "2022-07-04T06:52:13.152121Z",
     "shell.execute_reply": "2022-07-04T06:52:13.151586Z"
    },
    "lines_to_next_cell": 0,
    "papermill": {
     "duration": 0.009509,
     "end_time": "2022-07-04T06:52:13.154489",
     "exception": false,
     "start_time": "2022-07-04T06:52:13.144980",
     "status": "completed"
    },
    "tags": [
     "parameters"
    ]
   },
   "outputs": [],
   "source": [
    "# - During automated runs parameters will be injected in the below cell -"
   ]
  },
  {
   "cell_type": "code",
   "execution_count": 3,
   "id": "22f87a5b",
   "metadata": {
    "execution": {
     "iopub.execute_input": "2022-07-04T06:52:13.161506Z",
     "iopub.status.busy": "2022-07-04T06:52:13.161262Z",
     "iopub.status.idle": "2022-07-04T06:52:13.166270Z",
     "shell.execute_reply": "2022-07-04T06:52:13.165734Z"
    },
    "papermill": {
     "duration": 0.012109,
     "end_time": "2022-07-04T06:52:13.169461",
     "exception": false,
     "start_time": "2022-07-04T06:52:13.157352",
     "status": "completed"
    },
    "tags": [
     "injected-parameters"
    ]
   },
   "outputs": [],
   "source": [
    "# Parameters\n",
    "P = {\n",
    "    \"pipeline.data_lake_root\": \"/pipeline-outputs/data-lake\",\n",
    "    \"pipeline.run_environment\": \"ci\",\n",
    "    \"pipeline.pipeline_run_id\": \"f1e020c4-fe8c-41d7-bbf7-bf95d4453b33\",\n",
    "    \"pipeline.github.repository\": \"pynb-dag-runner/mnist-digits-demo-pipeline\",\n",
    "    \"pipeline.github.workflow\": \"Run automated tests, pipeline and deploy results to static reporting site\",\n",
    "    \"pipeline.github.runner_name\": \"Hosted Agent\",\n",
    "    \"pipeline.github.run_id\": \"2608212936\",\n",
    "    \"pipeline.github.actor\": \"matiasdahl\",\n",
    "    \"pipeline.github.job\": \"run-tests-pipeline-and-persist-pipeline-outputs\",\n",
    "    \"pipeline.github.base_ref\": \"\",\n",
    "    \"pipeline.github.head_ref\": \"\",\n",
    "    \"pipeline.github.sha\": \"f934c58f68028b7bb026059d4e87e6d32a1bbd20\",\n",
    "    \"pipeline.github.ref\": \"refs/heads/development\",\n",
    "    \"pipeline.github.ref_type\": \"branch\",\n",
    "    \"pipeline.github.ref_name\": \"development\",\n",
    "    \"pipeline.github.event_name\": \"schedule\",\n",
    "    \"task.nr_train_images\": 1200,\n",
    "    \"task.notebook\": \"notebooks/train-model.py\",\n",
    "    \"task.max_nr_retries\": \"1\",\n",
    "    \"run.retry_nr\": \"0\",\n",
    "    \"task.timeout_s\": \"None\",\n",
    "    \"task.num_cpus\": 1,\n",
    "    \"_opentelemetry_traceparent\": \"00-0b7f1bf11e5cfed8c62638a4aa1d15b6-6b5e8640c125702a-01\",\n",
    "}\n"
   ]
  },
  {
   "cell_type": "code",
   "execution_count": 4,
   "id": "2afa1c8e",
   "metadata": {
    "execution": {
     "iopub.execute_input": "2022-07-04T06:52:13.176292Z",
     "iopub.status.busy": "2022-07-04T06:52:13.176041Z",
     "iopub.status.idle": "2022-07-04T06:52:13.178941Z",
     "shell.execute_reply": "2022-07-04T06:52:13.178279Z"
    },
    "lines_to_next_cell": 0,
    "papermill": {
     "duration": 0.008916,
     "end_time": "2022-07-04T06:52:13.181277",
     "exception": false,
     "start_time": "2022-07-04T06:52:13.172361",
     "status": "completed"
    },
    "tags": []
   },
   "outputs": [],
   "source": [
    "# -----------------------------------------------------------------------"
   ]
  },
  {
   "cell_type": "markdown",
   "id": "99e36e6e",
   "metadata": {
    "papermill": {
     "duration": 0.003359,
     "end_time": "2022-07-04T06:52:13.187579",
     "exception": false,
     "start_time": "2022-07-04T06:52:13.184220",
     "status": "completed"
    },
    "tags": []
   },
   "source": [
    "---"
   ]
  },
  {
   "cell_type": "markdown",
   "id": "f36272dd",
   "metadata": {
    "lines_to_next_cell": 2,
    "papermill": {
     "duration": 0.002712,
     "end_time": "2022-07-04T06:52:13.193086",
     "exception": false,
     "start_time": "2022-07-04T06:52:13.190374",
     "status": "completed"
    },
    "tags": []
   },
   "source": [
    "### Notebook code"
   ]
  },
  {
   "cell_type": "code",
   "execution_count": 5,
   "id": "0ac0082e",
   "metadata": {
    "execution": {
     "iopub.execute_input": "2022-07-04T06:52:13.200174Z",
     "iopub.status.busy": "2022-07-04T06:52:13.199913Z",
     "iopub.status.idle": "2022-07-04T06:52:13.681627Z",
     "shell.execute_reply": "2022-07-04T06:52:13.681000Z"
    },
    "papermill": {
     "duration": 0.488393,
     "end_time": "2022-07-04T06:52:13.684351",
     "exception": false,
     "start_time": "2022-07-04T06:52:13.195958",
     "status": "completed"
    },
    "tags": []
   },
   "outputs": [
    {
     "name": "stderr",
     "output_type": "stream",
     "text": [
      "2022-07-04 06:52:13,499\tINFO worker.py:842 -- Connecting to existing Ray cluster at address: 172.17.0.2:6379\n"
     ]
    }
   ],
   "source": [
    "from pynb_dag_runner.tasks.task_opentelemetry_logging import PydarLogger\n",
    "\n",
    "logger = PydarLogger(P)"
   ]
  },
  {
   "cell_type": "markdown",
   "id": "f8bfadbc",
   "metadata": {
    "papermill": {
     "duration": 0.003195,
     "end_time": "2022-07-04T06:52:13.691462",
     "exception": false,
     "start_time": "2022-07-04T06:52:13.688267",
     "status": "completed"
    },
    "tags": []
   },
   "source": [
    "## Load and limit train data"
   ]
  },
  {
   "cell_type": "code",
   "execution_count": 6,
   "id": "dd69f3e3",
   "metadata": {
    "execution": {
     "iopub.execute_input": "2022-07-04T06:52:13.700169Z",
     "iopub.status.busy": "2022-07-04T06:52:13.699812Z",
     "iopub.status.idle": "2022-07-04T06:52:14.127548Z",
     "shell.execute_reply": "2022-07-04T06:52:14.126699Z"
    },
    "papermill": {
     "duration": 0.434881,
     "end_time": "2022-07-04T06:52:14.129894",
     "exception": false,
     "start_time": "2022-07-04T06:52:13.695013",
     "status": "completed"
    },
    "tags": []
   },
   "outputs": [],
   "source": [
    "def load_and_limit_train_data(P):\n",
    "    from common.io import datalake_root, read_numpy\n",
    "    from sklearn.model_selection import train_test_split\n",
    "\n",
    "    X_train_all = read_numpy(datalake_root(P) / \"train-data\" / \"digits.numpy\")\n",
    "    y_train_all = read_numpy(datalake_root(P) / \"train-data\" / \"labels.numpy\")\n",
    "\n",
    "    assert isinstance(P[\"task.nr_train_images\"], int)\n",
    "\n",
    "    # Note: train_test_split will fail if split is 0 or 100%.\n",
    "    assert 0 < P[\"task.nr_train_images\"] < len(y_train_all)\n",
    "\n",
    "    X_train, _, y_train, _ = train_test_split(\n",
    "        X_train_all,\n",
    "        y_train_all,\n",
    "        train_size=P[\"task.nr_train_images\"],\n",
    "        test_size=None,\n",
    "        stratify=y_train_all,\n",
    "        shuffle=True,\n",
    "        random_state=123,\n",
    "    )\n",
    "\n",
    "    assert X_train.shape == (len(y_train), 8 * 8)\n",
    "    return X_train, y_train\n",
    "\n",
    "\n",
    "X_train, y_train = load_and_limit_train_data(P)"
   ]
  },
  {
   "cell_type": "markdown",
   "id": "521b42b9",
   "metadata": {
    "papermill": {
     "duration": 0.004067,
     "end_time": "2022-07-04T06:52:14.137651",
     "exception": false,
     "start_time": "2022-07-04T06:52:14.133584",
     "status": "completed"
    },
    "tags": []
   },
   "source": [
    "## Train support vector classifier model\n",
    "\n",
    "Below we assume that the hyperparameter $C$ is known.\n",
    "\n",
    "However, this should ideally be found by a hyperparameter search. That could be\n",
    "done in parallel on the Ray cluster, but this needs some more work. Ie., to use\n",
    "multiple cores in the notebook, those cores should be reserved when starting the\n",
    "notebook task (TODO).\n",
    "\n",
    "- https://docs.ray.io/en/latest/tune/key-concepts.html\n",
    "\n",
    "Note: cv-scores would need to be computed here, since they depend on the train data.\n",
    "After this notebook only the onnx-model is available."
   ]
  },
  {
   "cell_type": "code",
   "execution_count": 7,
   "id": "851a08f5",
   "metadata": {
    "execution": {
     "iopub.execute_input": "2022-07-04T06:52:14.147141Z",
     "iopub.status.busy": "2022-07-04T06:52:14.146858Z",
     "iopub.status.idle": "2022-07-04T06:52:14.244240Z",
     "shell.execute_reply": "2022-07-04T06:52:14.243061Z"
    },
    "papermill": {
     "duration": 0.104603,
     "end_time": "2022-07-04T06:52:14.246321",
     "exception": false,
     "start_time": "2022-07-04T06:52:14.141718",
     "status": "completed"
    },
    "tags": []
   },
   "outputs": [],
   "source": [
    "from sklearn.svm import SVC"
   ]
  },
  {
   "cell_type": "code",
   "execution_count": 8,
   "id": "7c817152",
   "metadata": {
    "execution": {
     "iopub.execute_input": "2022-07-04T06:52:14.257829Z",
     "iopub.status.busy": "2022-07-04T06:52:14.257326Z",
     "iopub.status.idle": "2022-07-04T06:52:14.478453Z",
     "shell.execute_reply": "2022-07-04T06:52:14.477757Z"
    },
    "papermill": {
     "duration": 0.228188,
     "end_time": "2022-07-04T06:52:14.480341",
     "exception": false,
     "start_time": "2022-07-04T06:52:14.252153",
     "status": "completed"
    },
    "tags": []
   },
   "outputs": [
    {
     "data": {
      "text/plain": [
       "SVC(C=0.001, kernel='linear', probability=True)"
      ]
     },
     "execution_count": 8,
     "metadata": {},
     "output_type": "execute_result"
    }
   ],
   "source": [
    "model = SVC(C=0.001, kernel=\"linear\", probability=True)\n",
    "\n",
    "model.fit(X_train, y_train)"
   ]
  },
  {
   "cell_type": "markdown",
   "id": "21a43927",
   "metadata": {
    "papermill": {
     "duration": 0.003296,
     "end_time": "2022-07-04T06:52:14.487275",
     "exception": false,
     "start_time": "2022-07-04T06:52:14.483979",
     "status": "completed"
    },
    "tags": []
   },
   "source": [
    "### Q: Can the labels returned by `predict(..)` be computed from probabilities returned by the `predict_prob`-method?"
   ]
  },
  {
   "cell_type": "code",
   "execution_count": 9,
   "id": "90c17b3b",
   "metadata": {
    "execution": {
     "iopub.execute_input": "2022-07-04T06:52:14.495231Z",
     "iopub.status.busy": "2022-07-04T06:52:14.494849Z",
     "iopub.status.idle": "2022-07-04T06:52:14.596541Z",
     "shell.execute_reply": "2022-07-04T06:52:14.595819Z"
    },
    "papermill": {
     "duration": 0.107907,
     "end_time": "2022-07-04T06:52:14.598402",
     "exception": false,
     "start_time": "2022-07-04T06:52:14.490495",
     "status": "completed"
    },
    "tags": []
   },
   "outputs": [
    {
     "name": "stdout",
     "output_type": "stream",
     "text": [
      " - Logging nr_max_prob_neq_label (int) : 5\n"
     ]
    }
   ],
   "source": [
    "import numpy as np\n",
    "\n",
    "y_train_labels = model.predict(X_train)\n",
    "y_train_probabilities = model.predict_proba(X_train)\n",
    "assert y_train_probabilities.shape == (len(y_train), 10)\n",
    "\n",
    "y_train_max_prob_labels = np.argmax(y_train_probabilities, axis=1)\n",
    "assert y_train_labels.shape == y_train_max_prob_labels.shape == y_train.shape\n",
    "\n",
    "# If the predicted labels would coincide with the labels that have\n",
    "# maximum probability, the below number would be zero\n",
    "logger.log_int(\n",
    "    \"nr_max_prob_neq_label\", int(sum(y_train_max_prob_labels != y_train_labels))\n",
    ")"
   ]
  },
  {
   "cell_type": "markdown",
   "id": "ccc44e80",
   "metadata": {
    "papermill": {
     "duration": 0.003693,
     "end_time": "2022-07-04T06:52:14.605991",
     "exception": false,
     "start_time": "2022-07-04T06:52:14.602298",
     "status": "completed"
    },
    "tags": []
   },
   "source": [
    "The explanation is (likely) explained in the SVC source, see\n",
    "[here](https://github.com/scikit-learn/scikit-learn/blob/main/sklearn/svm/_base.py).\n",
    "Namely, the outputs from `predict(..)` and `predict_proba(..)` may not in some\n",
    "cases be compatible since the latter is computed using cross-validation while\n",
    "the former is not. Thus, the above number need not be zero."
   ]
  },
  {
   "cell_type": "markdown",
   "id": "f41ac59f",
   "metadata": {
    "papermill": {
     "duration": 0.00329,
     "end_time": "2022-07-04T06:52:14.612389",
     "exception": false,
     "start_time": "2022-07-04T06:52:14.609099",
     "status": "completed"
    },
    "tags": []
   },
   "source": [
    "## Persist model"
   ]
  },
  {
   "cell_type": "code",
   "execution_count": 10,
   "id": "9c7f4300",
   "metadata": {
    "execution": {
     "iopub.execute_input": "2022-07-04T06:52:14.620033Z",
     "iopub.status.busy": "2022-07-04T06:52:14.619627Z",
     "iopub.status.idle": "2022-07-04T06:52:15.681952Z",
     "shell.execute_reply": "2022-07-04T06:52:15.681173Z"
    },
    "papermill": {
     "duration": 1.068397,
     "end_time": "2022-07-04T06:52:15.683738",
     "exception": false,
     "start_time": "2022-07-04T06:52:14.615341",
     "status": "completed"
    },
    "tags": []
   },
   "outputs": [],
   "source": [
    "from skl2onnx import convert_sklearn\n",
    "from skl2onnx.common.data_types import FloatTensorType\n",
    "\n",
    "#\n",
    "from common.io import datalake_root, write_onnx"
   ]
  },
  {
   "cell_type": "code",
   "execution_count": 11,
   "id": "0c012d10",
   "metadata": {
    "execution": {
     "iopub.execute_input": "2022-07-04T06:52:15.693518Z",
     "iopub.status.busy": "2022-07-04T06:52:15.692932Z",
     "iopub.status.idle": "2022-07-04T06:52:15.746754Z",
     "shell.execute_reply": "2022-07-04T06:52:15.746172Z"
    },
    "papermill": {
     "duration": 0.061007,
     "end_time": "2022-07-04T06:52:15.748851",
     "exception": false,
     "start_time": "2022-07-04T06:52:15.687844",
     "status": "completed"
    },
    "tags": []
   },
   "outputs": [],
   "source": [
    "# convert sklearn model into onnx and persist to data lake\n",
    "\n",
    "model_onnx = convert_sklearn(\n",
    "    model, initial_types=[(\"float_input_8x8_image\", FloatTensorType([None, 8 * 8]))]\n",
    ")\n",
    "write_onnx(\n",
    "    datalake_root(P)\n",
    "    / \"models\"\n",
    "    / f\"nr_train_images={P['task.nr_train_images']}\"\n",
    "    / \"model.onnx\",\n",
    "    model_onnx,\n",
    ")"
   ]
  },
  {
   "cell_type": "code",
   "execution_count": null,
   "id": "f572a35b",
   "metadata": {
    "papermill": {
     "duration": 0.003847,
     "end_time": "2022-07-04T06:52:15.756004",
     "exception": false,
     "start_time": "2022-07-04T06:52:15.752157",
     "status": "completed"
    },
    "tags": []
   },
   "outputs": [],
   "source": []
  }
 ],
 "metadata": {
  "jupytext": {
   "cell_metadata_filter": "tags,-all",
   "main_language": "python",
   "notebook_metadata_filter": "-all"
  },
  "language_info": {
   "codemirror_mode": {
    "name": "ipython",
    "version": 3
   },
   "file_extension": ".py",
   "mimetype": "text/x-python",
   "name": "python",
   "nbconvert_exporter": "python",
   "pygments_lexer": "ipython3",
   "version": "3.8.10"
  },
  "papermill": {
   "default_parameters": {},
   "duration": 4.932188,
   "end_time": "2022-07-04T06:52:16.781922",
   "environment_variables": {},
   "exception": null,
   "input_path": "/home/host_user/workspace/mnist-demo-pipeline/mnist-demo-pipeline/notebooks/temp-notebook-9amvj8ys.ipynb",
   "output_path": "notebooks/train-model.ipynb",
   "parameters": {
    "P": {
     "_opentelemetry_traceparent": "00-0b7f1bf11e5cfed8c62638a4aa1d15b6-6b5e8640c125702a-01",
     "pipeline.data_lake_root": "/pipeline-outputs/data-lake",
     "pipeline.github.actor": "matiasdahl",
     "pipeline.github.base_ref": "",
     "pipeline.github.event_name": "schedule",
     "pipeline.github.head_ref": "",
     "pipeline.github.job": "run-tests-pipeline-and-persist-pipeline-outputs",
     "pipeline.github.ref": "refs/heads/development",
     "pipeline.github.ref_name": "development",
     "pipeline.github.ref_type": "branch",
     "pipeline.github.repository": "pynb-dag-runner/mnist-digits-demo-pipeline",
     "pipeline.github.run_id": "2608212936",
     "pipeline.github.runner_name": "Hosted Agent",
     "pipeline.github.sha": "f934c58f68028b7bb026059d4e87e6d32a1bbd20",
     "pipeline.github.workflow": "Run automated tests, pipeline and deploy results to static reporting site",
     "pipeline.pipeline_run_id": "f1e020c4-fe8c-41d7-bbf7-bf95d4453b33",
     "pipeline.run_environment": "ci",
     "run.retry_nr": "0",
     "task.max_nr_retries": "1",
     "task.notebook": "notebooks/train-model.py",
     "task.nr_train_images": 1200,
     "task.num_cpus": 1,
     "task.timeout_s": "None"
    }
   },
   "start_time": "2022-07-04T06:52:11.849734",
   "version": "2.3.3"
  }
 },
 "nbformat": 4,
 "nbformat_minor": 5
}