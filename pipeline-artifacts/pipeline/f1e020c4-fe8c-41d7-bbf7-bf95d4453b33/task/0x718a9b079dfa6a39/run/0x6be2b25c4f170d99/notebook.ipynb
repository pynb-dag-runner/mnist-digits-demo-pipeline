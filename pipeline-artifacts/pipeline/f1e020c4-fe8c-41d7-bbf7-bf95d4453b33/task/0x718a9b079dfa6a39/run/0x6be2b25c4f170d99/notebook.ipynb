{
 "cells": [
  {
   "cell_type": "markdown",
   "id": "4de95134",
   "metadata": {
    "papermill": {
     "duration": 0.003506,
     "end_time": "2022-07-04T06:52:08.497500",
     "exception": false,
     "start_time": "2022-07-04T06:52:08.493994",
     "status": "completed"
    },
    "tags": []
   },
   "source": [
    "# Split digits and labels into separate training and testing data sets"
   ]
  },
  {
   "cell_type": "markdown",
   "id": "d27a01d8",
   "metadata": {
    "papermill": {
     "duration": 0.00212,
     "end_time": "2022-07-04T06:52:08.502310",
     "exception": false,
     "start_time": "2022-07-04T06:52:08.500190",
     "status": "completed"
    },
    "tags": []
   },
   "source": [
    "### Determine run parameters"
   ]
  },
  {
   "cell_type": "code",
   "execution_count": 1,
   "id": "ac437d7e",
   "metadata": {
    "execution": {
     "iopub.execute_input": "2022-07-04T06:52:08.508043Z",
     "iopub.status.busy": "2022-07-04T06:52:08.507723Z",
     "iopub.status.idle": "2022-07-04T06:52:08.514734Z",
     "shell.execute_reply": "2022-07-04T06:52:08.514089Z"
    },
    "lines_to_next_cell": 0,
    "papermill": {
     "duration": 0.011765,
     "end_time": "2022-07-04T06:52:08.516280",
     "exception": false,
     "start_time": "2022-07-04T06:52:08.504515",
     "status": "completed"
    },
    "tags": []
   },
   "outputs": [],
   "source": [
    "# ----------------- Parameters for interactive development --------------\n",
    "P = {\n",
    "    \"pipeline.data_lake_root\": \"/pipeline-outputs/data-lake\",\n",
    "    \"task.train_test_ratio\": 0.7,\n",
    "}"
   ]
  },
  {
   "cell_type": "code",
   "execution_count": 2,
   "id": "90c57982",
   "metadata": {
    "execution": {
     "iopub.execute_input": "2022-07-04T06:52:08.522288Z",
     "iopub.status.busy": "2022-07-04T06:52:08.521865Z",
     "iopub.status.idle": "2022-07-04T06:52:08.524774Z",
     "shell.execute_reply": "2022-07-04T06:52:08.524304Z"
    },
    "lines_to_next_cell": 0,
    "papermill": {
     "duration": 0.007409,
     "end_time": "2022-07-04T06:52:08.526126",
     "exception": false,
     "start_time": "2022-07-04T06:52:08.518717",
     "status": "completed"
    },
    "tags": [
     "parameters"
    ]
   },
   "outputs": [],
   "source": [
    "# - During automated runs parameters will be injected in the below cell -"
   ]
  },
  {
   "cell_type": "code",
   "execution_count": 3,
   "id": "4e50e91a",
   "metadata": {
    "execution": {
     "iopub.execute_input": "2022-07-04T06:52:08.531871Z",
     "iopub.status.busy": "2022-07-04T06:52:08.531446Z",
     "iopub.status.idle": "2022-07-04T06:52:08.536154Z",
     "shell.execute_reply": "2022-07-04T06:52:08.535377Z"
    },
    "papermill": {
     "duration": 0.009171,
     "end_time": "2022-07-04T06:52:08.537505",
     "exception": false,
     "start_time": "2022-07-04T06:52:08.528334",
     "status": "completed"
    },
    "tags": [
     "injected-parameters"
    ]
   },
   "outputs": [],
   "source": [
    "# Parameters\n",
    "P = {\n",
    "    \"pipeline.data_lake_root\": \"/pipeline-outputs/data-lake\",\n",
    "    \"pipeline.run_environment\": \"ci\",\n",
    "    \"pipeline.pipeline_run_id\": \"f1e020c4-fe8c-41d7-bbf7-bf95d4453b33\",\n",
    "    \"pipeline.github.repository\": \"pynb-dag-runner/mnist-digits-demo-pipeline\",\n",
    "    \"pipeline.github.workflow\": \"Run automated tests, pipeline and deploy results to static reporting site\",\n",
    "    \"pipeline.github.runner_name\": \"Hosted Agent\",\n",
    "    \"pipeline.github.run_id\": \"2608212936\",\n",
    "    \"pipeline.github.actor\": \"matiasdahl\",\n",
    "    \"pipeline.github.job\": \"run-tests-pipeline-and-persist-pipeline-outputs\",\n",
    "    \"pipeline.github.base_ref\": \"\",\n",
    "    \"pipeline.github.head_ref\": \"\",\n",
    "    \"pipeline.github.sha\": \"f934c58f68028b7bb026059d4e87e6d32a1bbd20\",\n",
    "    \"pipeline.github.ref\": \"refs/heads/development\",\n",
    "    \"pipeline.github.ref_type\": \"branch\",\n",
    "    \"pipeline.github.ref_name\": \"development\",\n",
    "    \"pipeline.github.event_name\": \"schedule\",\n",
    "    \"task.train_test_ratio\": 0.7,\n",
    "    \"task.notebook\": \"notebooks/split-train-test.py\",\n",
    "    \"task.max_nr_retries\": \"1\",\n",
    "    \"run.retry_nr\": \"0\",\n",
    "    \"task.timeout_s\": \"None\",\n",
    "    \"task.num_cpus\": 1,\n",
    "    \"_opentelemetry_traceparent\": \"00-0b7f1bf11e5cfed8c62638a4aa1d15b6-b6e269873148cd3c-01\",\n",
    "}\n"
   ]
  },
  {
   "cell_type": "code",
   "execution_count": 4,
   "id": "b141cb9e",
   "metadata": {
    "execution": {
     "iopub.execute_input": "2022-07-04T06:52:08.544333Z",
     "iopub.status.busy": "2022-07-04T06:52:08.543898Z",
     "iopub.status.idle": "2022-07-04T06:52:08.547102Z",
     "shell.execute_reply": "2022-07-04T06:52:08.546502Z"
    },
    "lines_to_next_cell": 0,
    "papermill": {
     "duration": 0.008811,
     "end_time": "2022-07-04T06:52:08.548606",
     "exception": false,
     "start_time": "2022-07-04T06:52:08.539795",
     "status": "completed"
    },
    "tags": []
   },
   "outputs": [],
   "source": [
    "# -----------------------------------------------------------------------"
   ]
  },
  {
   "cell_type": "markdown",
   "id": "a3b32c9b",
   "metadata": {
    "papermill": {
     "duration": 0.002322,
     "end_time": "2022-07-04T06:52:08.553344",
     "exception": false,
     "start_time": "2022-07-04T06:52:08.551022",
     "status": "completed"
    },
    "tags": []
   },
   "source": [
    "---"
   ]
  },
  {
   "cell_type": "markdown",
   "id": "f5ec186e",
   "metadata": {
    "lines_to_next_cell": 2,
    "papermill": {
     "duration": 0.002201,
     "end_time": "2022-07-04T06:52:08.557893",
     "exception": false,
     "start_time": "2022-07-04T06:52:08.555692",
     "status": "completed"
    },
    "tags": []
   },
   "source": [
    "### Notebook code"
   ]
  },
  {
   "cell_type": "code",
   "execution_count": 5,
   "id": "0a251ca4",
   "metadata": {
    "execution": {
     "iopub.execute_input": "2022-07-04T06:52:08.563689Z",
     "iopub.status.busy": "2022-07-04T06:52:08.563449Z",
     "iopub.status.idle": "2022-07-04T06:52:09.071558Z",
     "shell.execute_reply": "2022-07-04T06:52:09.070927Z"
    },
    "papermill": {
     "duration": 0.513052,
     "end_time": "2022-07-04T06:52:09.073261",
     "exception": false,
     "start_time": "2022-07-04T06:52:08.560209",
     "status": "completed"
    },
    "tags": []
   },
   "outputs": [
    {
     "name": "stderr",
     "output_type": "stream",
     "text": [
      "2022-07-04 06:52:08,890\tINFO worker.py:842 -- Connecting to existing Ray cluster at address: 172.17.0.2:6379\n"
     ]
    }
   ],
   "source": [
    "from common.io import datalake_root, read_numpy, write_numpy\n",
    "from pynb_dag_runner.tasks.task_opentelemetry_logging import PydarLogger\n",
    "\n",
    "logger = PydarLogger(P)"
   ]
  },
  {
   "cell_type": "markdown",
   "id": "01d9f874",
   "metadata": {
    "papermill": {
     "duration": 0.002352,
     "end_time": "2022-07-04T06:52:09.078412",
     "exception": false,
     "start_time": "2022-07-04T06:52:09.076060",
     "status": "completed"
    },
    "tags": []
   },
   "source": [
    "## Load and split digits data"
   ]
  },
  {
   "cell_type": "code",
   "execution_count": 6,
   "id": "032895e2",
   "metadata": {
    "execution": {
     "iopub.execute_input": "2022-07-04T06:52:09.084494Z",
     "iopub.status.busy": "2022-07-04T06:52:09.084166Z",
     "iopub.status.idle": "2022-07-04T06:52:09.089070Z",
     "shell.execute_reply": "2022-07-04T06:52:09.088513Z"
    },
    "papermill": {
     "duration": 0.010737,
     "end_time": "2022-07-04T06:52:09.091493",
     "exception": false,
     "start_time": "2022-07-04T06:52:09.080756",
     "status": "completed"
    },
    "tags": []
   },
   "outputs": [],
   "source": [
    "X = read_numpy(datalake_root(P) / \"raw\" / \"digits.numpy\")\n",
    "y = read_numpy(datalake_root(P) / \"raw\" / \"labels.numpy\")"
   ]
  },
  {
   "cell_type": "code",
   "execution_count": 7,
   "id": "2103bce7",
   "metadata": {
    "execution": {
     "iopub.execute_input": "2022-07-04T06:52:09.097938Z",
     "iopub.status.busy": "2022-07-04T06:52:09.097706Z",
     "iopub.status.idle": "2022-07-04T06:52:09.474229Z",
     "shell.execute_reply": "2022-07-04T06:52:09.473633Z"
    },
    "papermill": {
     "duration": 0.381751,
     "end_time": "2022-07-04T06:52:09.476119",
     "exception": false,
     "start_time": "2022-07-04T06:52:09.094368",
     "status": "completed"
    },
    "tags": []
   },
   "outputs": [],
   "source": [
    "from sklearn.model_selection import train_test_split\n",
    "\n",
    "X_train, X_test, y_train, y_test = train_test_split(\n",
    "    X,\n",
    "    y,\n",
    "    train_size=P[\"task.train_test_ratio\"],\n",
    "    test_size=None,\n",
    "    stratify=y,\n",
    "    shuffle=True,\n",
    "    random_state=1,\n",
    ")\n",
    "\n",
    "# assert nr of pixels per image is the same for all image vectors\n",
    "assert X.shape[1] == X_train.shape[1] == X_test.shape[1]\n",
    "\n",
    "# assert that the (X, y)-pairs have compatible sizes (for both train and test)\n",
    "assert X_train.shape[0] == len(y_train)\n",
    "assert X_test.shape[0] == len(y_test)\n",
    "\n",
    "# assert that all data is used\n",
    "assert len(y) == len(y_train) + len(y_test)"
   ]
  },
  {
   "cell_type": "code",
   "execution_count": 8,
   "id": "c4a11e1e",
   "metadata": {
    "execution": {
     "iopub.execute_input": "2022-07-04T06:52:09.483842Z",
     "iopub.status.busy": "2022-07-04T06:52:09.482969Z",
     "iopub.status.idle": "2022-07-04T06:52:09.491387Z",
     "shell.execute_reply": "2022-07-04T06:52:09.490857Z"
    },
    "papermill": {
     "duration": 0.014254,
     "end_time": "2022-07-04T06:52:09.493161",
     "exception": false,
     "start_time": "2022-07-04T06:52:09.478907",
     "status": "completed"
    },
    "tags": []
   },
   "outputs": [
    {
     "name": "stdout",
     "output_type": "stream",
     "text": [
      " - Logging nr_digits_train (int) : 1257\n",
      " - Logging nr_digits_test (int) : 540\n"
     ]
    }
   ],
   "source": [
    "logger.log_int(\"nr_digits_train\", len(y_train))\n",
    "logger.log_int(\"nr_digits_test\", len(y_test))"
   ]
  },
  {
   "cell_type": "markdown",
   "id": "b54c4ea5",
   "metadata": {
    "papermill": {
     "duration": 0.002531,
     "end_time": "2022-07-04T06:52:09.498712",
     "exception": false,
     "start_time": "2022-07-04T06:52:09.496181",
     "status": "completed"
    },
    "tags": []
   },
   "source": [
    "### Persist training and test data sets to separate files"
   ]
  },
  {
   "cell_type": "code",
   "execution_count": 9,
   "id": "433034a4",
   "metadata": {
    "execution": {
     "iopub.execute_input": "2022-07-04T06:52:09.506756Z",
     "iopub.status.busy": "2022-07-04T06:52:09.506493Z",
     "iopub.status.idle": "2022-07-04T06:52:09.511856Z",
     "shell.execute_reply": "2022-07-04T06:52:09.511279Z"
    },
    "papermill": {
     "duration": 0.011888,
     "end_time": "2022-07-04T06:52:09.514709",
     "exception": false,
     "start_time": "2022-07-04T06:52:09.502821",
     "status": "completed"
    },
    "tags": []
   },
   "outputs": [],
   "source": [
    "write_numpy(datalake_root(P) / \"train-data\" / \"digits.numpy\", X_train)\n",
    "write_numpy(datalake_root(P) / \"train-data\" / \"labels.numpy\", y_train)\n",
    "\n",
    "#\n",
    "write_numpy(datalake_root(P) / \"test-data\" / \"digits.numpy\", X_test)\n",
    "write_numpy(datalake_root(P) / \"test-data\" / \"labels.numpy\", y_test)"
   ]
  },
  {
   "cell_type": "code",
   "execution_count": null,
   "id": "5aa810e0",
   "metadata": {
    "papermill": {
     "duration": 0.002672,
     "end_time": "2022-07-04T06:52:09.520087",
     "exception": false,
     "start_time": "2022-07-04T06:52:09.517415",
     "status": "completed"
    },
    "tags": []
   },
   "outputs": [],
   "source": []
  }
 ],
 "metadata": {
  "jupytext": {
   "cell_metadata_filter": "tags,-all",
   "main_language": "python",
   "notebook_metadata_filter": "-all"
  },
  "language_info": {
   "codemirror_mode": {
    "name": "ipython",
    "version": 3
   },
   "file_extension": ".py",
   "mimetype": "text/x-python",
   "name": "python",
   "nbconvert_exporter": "python",
   "pygments_lexer": "ipython3",
   "version": "3.8.10"
  },
  "papermill": {
   "default_parameters": {},
   "duration": 3.612319,
   "end_time": "2022-07-04T06:52:10.441322",
   "environment_variables": {},
   "exception": null,
   "input_path": "/home/host_user/workspace/mnist-demo-pipeline/mnist-demo-pipeline/notebooks/temp-notebook-t5u0ah0w.ipynb",
   "output_path": "notebooks/split-train-test.ipynb",
   "parameters": {
    "P": {
     "_opentelemetry_traceparent": "00-0b7f1bf11e5cfed8c62638a4aa1d15b6-b6e269873148cd3c-01",
     "pipeline.data_lake_root": "/pipeline-outputs/data-lake",
     "pipeline.github.actor": "matiasdahl",
     "pipeline.github.base_ref": "",
     "pipeline.github.event_name": "schedule",
     "pipeline.github.head_ref": "",
     "pipeline.github.job": "run-tests-pipeline-and-persist-pipeline-outputs",
     "pipeline.github.ref": "refs/heads/development",
     "pipeline.github.ref_name": "development",
     "pipeline.github.ref_type": "branch",
     "pipeline.github.repository": "pynb-dag-runner/mnist-digits-demo-pipeline",
     "pipeline.github.run_id": "2608212936",
     "pipeline.github.runner_name": "Hosted Agent",
     "pipeline.github.sha": "f934c58f68028b7bb026059d4e87e6d32a1bbd20",
     "pipeline.github.workflow": "Run automated tests, pipeline and deploy results to static reporting site",
     "pipeline.pipeline_run_id": "f1e020c4-fe8c-41d7-bbf7-bf95d4453b33",
     "pipeline.run_environment": "ci",
     "run.retry_nr": "0",
     "task.max_nr_retries": "1",
     "task.notebook": "notebooks/split-train-test.py",
     "task.num_cpus": 1,
     "task.timeout_s": "None",
     "task.train_test_ratio": 0.7
    }
   },
   "start_time": "2022-07-04T06:52:06.829003",
   "version": "2.3.3"
  }
 },
 "nbformat": 4,
 "nbformat_minor": 5
}