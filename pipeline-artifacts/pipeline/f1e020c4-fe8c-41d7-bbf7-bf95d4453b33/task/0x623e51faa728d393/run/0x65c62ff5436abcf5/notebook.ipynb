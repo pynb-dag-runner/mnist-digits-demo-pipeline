{
 "cells": [
  {
   "cell_type": "markdown",
   "id": "ee5be49d",
   "metadata": {
    "papermill": {
     "duration": 0.005087,
     "end_time": "2022-07-04T06:52:40.637738",
     "exception": false,
     "start_time": "2022-07-04T06:52:40.632651",
     "status": "completed"
    },
    "tags": []
   },
   "source": [
    "# Benchmark model\n",
    "\n",
    "The purpose of this notebook is to benchmark persisted onnx-model (trained in the\n",
    "previous step) against evaluation set."
   ]
  },
  {
   "cell_type": "markdown",
   "id": "e236d580",
   "metadata": {
    "papermill": {
     "duration": 0.004233,
     "end_time": "2022-07-04T06:52:40.648921",
     "exception": false,
     "start_time": "2022-07-04T06:52:40.644688",
     "status": "completed"
    },
    "tags": []
   },
   "source": [
    "### Determine run parameters"
   ]
  },
  {
   "cell_type": "code",
   "execution_count": 1,
   "id": "f1a8ca98",
   "metadata": {
    "execution": {
     "iopub.execute_input": "2022-07-04T06:52:40.658701Z",
     "iopub.status.busy": "2022-07-04T06:52:40.658380Z",
     "iopub.status.idle": "2022-07-04T06:52:40.666701Z",
     "shell.execute_reply": "2022-07-04T06:52:40.666192Z"
    },
    "lines_to_next_cell": 0,
    "papermill": {
     "duration": 0.015082,
     "end_time": "2022-07-04T06:52:40.668483",
     "exception": false,
     "start_time": "2022-07-04T06:52:40.653401",
     "status": "completed"
    },
    "tags": []
   },
   "outputs": [],
   "source": [
    "# ----------------- Parameters for interactive development --------------\n",
    "P = {\n",
    "    \"pipeline.data_lake_root\": \"/pipeline-outputs/data-lake\",\n",
    "    \"task.nr_train_images\": 600,\n",
    "}"
   ]
  },
  {
   "cell_type": "code",
   "execution_count": 2,
   "id": "f91d70da",
   "metadata": {
    "execution": {
     "iopub.execute_input": "2022-07-04T06:52:40.678035Z",
     "iopub.status.busy": "2022-07-04T06:52:40.677793Z",
     "iopub.status.idle": "2022-07-04T06:52:40.680708Z",
     "shell.execute_reply": "2022-07-04T06:52:40.680202Z"
    },
    "lines_to_next_cell": 0,
    "papermill": {
     "duration": 0.010367,
     "end_time": "2022-07-04T06:52:40.683381",
     "exception": false,
     "start_time": "2022-07-04T06:52:40.673014",
     "status": "completed"
    },
    "tags": [
     "parameters"
    ]
   },
   "outputs": [],
   "source": [
    "# - During automated runs parameters will be injected in the below cell -"
   ]
  },
  {
   "cell_type": "code",
   "execution_count": 3,
   "id": "9d921ad6",
   "metadata": {
    "execution": {
     "iopub.execute_input": "2022-07-04T06:52:40.692340Z",
     "iopub.status.busy": "2022-07-04T06:52:40.692119Z",
     "iopub.status.idle": "2022-07-04T06:52:40.696328Z",
     "shell.execute_reply": "2022-07-04T06:52:40.695820Z"
    },
    "papermill": {
     "duration": 0.011327,
     "end_time": "2022-07-04T06:52:40.698583",
     "exception": false,
     "start_time": "2022-07-04T06:52:40.687256",
     "status": "completed"
    },
    "tags": [
     "injected-parameters"
    ]
   },
   "outputs": [],
   "source": [
    "# Parameters\n",
    "P = {\n",
    "    \"pipeline.data_lake_root\": \"/pipeline-outputs/data-lake\",\n",
    "    \"pipeline.run_environment\": \"ci\",\n",
    "    \"pipeline.pipeline_run_id\": \"f1e020c4-fe8c-41d7-bbf7-bf95d4453b33\",\n",
    "    \"pipeline.github.repository\": \"pynb-dag-runner/mnist-digits-demo-pipeline\",\n",
    "    \"pipeline.github.workflow\": \"Run automated tests, pipeline and deploy results to static reporting site\",\n",
    "    \"pipeline.github.runner_name\": \"Hosted Agent\",\n",
    "    \"pipeline.github.run_id\": \"2608212936\",\n",
    "    \"pipeline.github.actor\": \"matiasdahl\",\n",
    "    \"pipeline.github.job\": \"run-tests-pipeline-and-persist-pipeline-outputs\",\n",
    "    \"pipeline.github.base_ref\": \"\",\n",
    "    \"pipeline.github.head_ref\": \"\",\n",
    "    \"pipeline.github.sha\": \"f934c58f68028b7bb026059d4e87e6d32a1bbd20\",\n",
    "    \"pipeline.github.ref\": \"refs/heads/development\",\n",
    "    \"pipeline.github.ref_type\": \"branch\",\n",
    "    \"pipeline.github.ref_name\": \"development\",\n",
    "    \"pipeline.github.event_name\": \"schedule\",\n",
    "    \"task.nr_train_images\": 600,\n",
    "    \"task.notebook\": \"notebooks/benchmark-model.py\",\n",
    "    \"task.max_nr_retries\": \"1\",\n",
    "    \"run.retry_nr\": \"0\",\n",
    "    \"task.timeout_s\": \"None\",\n",
    "    \"task.num_cpus\": 1,\n",
    "    \"_opentelemetry_traceparent\": \"00-0b7f1bf11e5cfed8c62638a4aa1d15b6-f6033a1a8c49a354-01\",\n",
    "}\n"
   ]
  },
  {
   "cell_type": "code",
   "execution_count": 4,
   "id": "7f907b16",
   "metadata": {
    "execution": {
     "iopub.execute_input": "2022-07-04T06:52:40.707687Z",
     "iopub.status.busy": "2022-07-04T06:52:40.707472Z",
     "iopub.status.idle": "2022-07-04T06:52:40.710364Z",
     "shell.execute_reply": "2022-07-04T06:52:40.709818Z"
    },
    "lines_to_next_cell": 0,
    "papermill": {
     "duration": 0.010312,
     "end_time": "2022-07-04T06:52:40.713053",
     "exception": false,
     "start_time": "2022-07-04T06:52:40.702741",
     "status": "completed"
    },
    "tags": []
   },
   "outputs": [],
   "source": [
    "# -----------------------------------------------------------------------"
   ]
  },
  {
   "cell_type": "markdown",
   "id": "0341daa0",
   "metadata": {
    "papermill": {
     "duration": 0.003952,
     "end_time": "2022-07-04T06:52:40.720964",
     "exception": false,
     "start_time": "2022-07-04T06:52:40.717012",
     "status": "completed"
    },
    "tags": []
   },
   "source": [
    "---"
   ]
  },
  {
   "cell_type": "markdown",
   "id": "149bf60b",
   "metadata": {
    "lines_to_next_cell": 2,
    "papermill": {
     "duration": 0.003999,
     "end_time": "2022-07-04T06:52:40.728750",
     "exception": false,
     "start_time": "2022-07-04T06:52:40.724751",
     "status": "completed"
    },
    "tags": []
   },
   "source": [
    "### Notebook code"
   ]
  },
  {
   "cell_type": "code",
   "execution_count": 5,
   "id": "314f3af9",
   "metadata": {
    "execution": {
     "iopub.execute_input": "2022-07-04T06:52:40.739041Z",
     "iopub.status.busy": "2022-07-04T06:52:40.738794Z",
     "iopub.status.idle": "2022-07-04T06:52:41.891745Z",
     "shell.execute_reply": "2022-07-04T06:52:41.890982Z"
    },
    "papermill": {
     "duration": 1.159774,
     "end_time": "2022-07-04T06:52:41.893779",
     "exception": false,
     "start_time": "2022-07-04T06:52:40.734005",
     "status": "completed"
    },
    "tags": []
   },
   "outputs": [
    {
     "name": "stderr",
     "output_type": "stream",
     "text": [
      "2022-07-04 06:52:41,723\tINFO worker.py:842 -- Connecting to existing Ray cluster at address: 172.17.0.2:6379\n"
     ]
    }
   ],
   "source": [
    "import itertools as it\n",
    "\n",
    "#\n",
    "import numpy as np\n",
    "import matplotlib.pyplot as plt\n",
    "\n",
    "#\n",
    "from pynb_dag_runner.tasks.task_opentelemetry_logging import PydarLogger\n",
    "\n",
    "#\n",
    "from common.io import datalake_root\n",
    "\n",
    "logger = PydarLogger(P)"
   ]
  },
  {
   "cell_type": "markdown",
   "id": "2e5e85ed",
   "metadata": {
    "papermill": {
     "duration": 0.004581,
     "end_time": "2022-07-04T06:52:41.903598",
     "exception": false,
     "start_time": "2022-07-04T06:52:41.899017",
     "status": "completed"
    },
    "tags": []
   },
   "source": [
    "## Load persisted onnx-model and evaluation data"
   ]
  },
  {
   "cell_type": "code",
   "execution_count": 6,
   "id": "f81fe350",
   "metadata": {
    "execution": {
     "iopub.execute_input": "2022-07-04T06:52:41.913201Z",
     "iopub.status.busy": "2022-07-04T06:52:41.912854Z",
     "iopub.status.idle": "2022-07-04T06:52:41.916275Z",
     "shell.execute_reply": "2022-07-04T06:52:41.915716Z"
    },
    "papermill": {
     "duration": 0.011074,
     "end_time": "2022-07-04T06:52:41.918613",
     "exception": false,
     "start_time": "2022-07-04T06:52:41.907539",
     "status": "completed"
    },
    "tags": []
   },
   "outputs": [],
   "source": [
    "from common.io import read_onnx, get_onnx_inputs, get_onnx_outputs, read_numpy"
   ]
  },
  {
   "cell_type": "code",
   "execution_count": 7,
   "id": "dc996c52",
   "metadata": {
    "execution": {
     "iopub.execute_input": "2022-07-04T06:52:41.928115Z",
     "iopub.status.busy": "2022-07-04T06:52:41.927877Z",
     "iopub.status.idle": "2022-07-04T06:52:41.938110Z",
     "shell.execute_reply": "2022-07-04T06:52:41.937577Z"
    },
    "lines_to_next_cell": 0,
    "papermill": {
     "duration": 0.016598,
     "end_time": "2022-07-04T06:52:41.939633",
     "exception": false,
     "start_time": "2022-07-04T06:52:41.923035",
     "status": "completed"
    },
    "tags": []
   },
   "outputs": [],
   "source": [
    "onnx_inference_session = read_onnx(\n",
    "    datalake_root(P)\n",
    "    / \"models\"\n",
    "    / f\"nr_train_images={P['task.nr_train_images']}\"\n",
    "    / \"model.onnx\"\n",
    ")"
   ]
  },
  {
   "cell_type": "markdown",
   "id": "616a71ed",
   "metadata": {
    "papermill": {
     "duration": 0.004222,
     "end_time": "2022-07-04T06:52:41.948145",
     "exception": false,
     "start_time": "2022-07-04T06:52:41.943923",
     "status": "completed"
    },
    "tags": []
   },
   "source": [
    "### Record structure of inputs and outputs for ONNX model\n",
    "\n",
    "(this should likely be done in training notebook)"
   ]
  },
  {
   "cell_type": "code",
   "execution_count": 8,
   "id": "9cf48cf9",
   "metadata": {
    "execution": {
     "iopub.execute_input": "2022-07-04T06:52:41.957724Z",
     "iopub.status.busy": "2022-07-04T06:52:41.957471Z",
     "iopub.status.idle": "2022-07-04T06:52:41.962822Z",
     "shell.execute_reply": "2022-07-04T06:52:41.962158Z"
    },
    "papermill": {
     "duration": 0.013818,
     "end_time": "2022-07-04T06:52:41.966117",
     "exception": false,
     "start_time": "2022-07-04T06:52:41.952299",
     "status": "completed"
    },
    "tags": []
   },
   "outputs": [
    {
     "name": "stdout",
     "output_type": "stream",
     "text": [
      "{\n",
      "  \"inputs\": [\n",
      "    {\n",
      "      \"name\": \"float_input_8x8_image\",\n",
      "      \"shape\": [\n",
      "        null,\n",
      "        64\n",
      "      ],\n",
      "      \"type\": \"tensor(float)\"\n",
      "    }\n",
      "  ],\n",
      "  \"outputs\": [\n",
      "    {\n",
      "      \"name\": \"output_label\",\n",
      "      \"shape\": [\n",
      "        null\n",
      "      ],\n",
      "      \"type\": \"tensor(int64)\"\n",
      "    },\n",
      "    {\n",
      "      \"name\": \"output_probability\",\n",
      "      \"shape\": [],\n",
      "      \"type\": \"seq(map(int64,tensor(float)))\"\n",
      "    }\n",
      "  ]\n",
      "}\n"
     ]
    }
   ],
   "source": [
    "import json\n",
    "\n",
    "onnx_io = json.dumps(\n",
    "    {\n",
    "        \"inputs\": get_onnx_inputs(onnx_inference_session),\n",
    "        \"outputs\": get_onnx_outputs(onnx_inference_session),\n",
    "    },\n",
    "    indent=2,\n",
    ")\n",
    "\n",
    "\n",
    "logger.log_artefact(\"onnx_io_structure.json\", onnx_io)\n",
    "print(onnx_io)"
   ]
  },
  {
   "cell_type": "markdown",
   "id": "dbe29ae3",
   "metadata": {
    "papermill": {
     "duration": 0.0044,
     "end_time": "2022-07-04T06:52:41.974817",
     "exception": false,
     "start_time": "2022-07-04T06:52:41.970417",
     "status": "completed"
    },
    "tags": []
   },
   "source": [
    "### Evaluate model performance on evaluation data set"
   ]
  },
  {
   "cell_type": "code",
   "execution_count": 9,
   "id": "cec48c45",
   "metadata": {
    "execution": {
     "iopub.execute_input": "2022-07-04T06:52:41.985010Z",
     "iopub.status.busy": "2022-07-04T06:52:41.984737Z",
     "iopub.status.idle": "2022-07-04T06:52:41.990015Z",
     "shell.execute_reply": "2022-07-04T06:52:41.989443Z"
    },
    "papermill": {
     "duration": 0.014436,
     "end_time": "2022-07-04T06:52:41.993452",
     "exception": false,
     "start_time": "2022-07-04T06:52:41.979016",
     "status": "completed"
    },
    "tags": []
   },
   "outputs": [],
   "source": [
    "# load evaluation data\n",
    "X_test = read_numpy(datalake_root(P) / \"test-data\" / \"digits.numpy\")\n",
    "y_test = read_numpy(datalake_root(P) / \"test-data\" / \"labels.numpy\")"
   ]
  },
  {
   "cell_type": "code",
   "execution_count": 10,
   "id": "f8b8774e",
   "metadata": {
    "execution": {
     "iopub.execute_input": "2022-07-04T06:52:42.004303Z",
     "iopub.status.busy": "2022-07-04T06:52:42.004046Z",
     "iopub.status.idle": "2022-07-04T06:52:42.023344Z",
     "shell.execute_reply": "2022-07-04T06:52:42.022540Z"
    },
    "papermill": {
     "duration": 0.027156,
     "end_time": "2022-07-04T06:52:42.025254",
     "exception": false,
     "start_time": "2022-07-04T06:52:41.998098",
     "status": "completed"
    },
    "tags": []
   },
   "outputs": [],
   "source": [
    "def get_model_outputs(X, onnx_inference_session):\n",
    "    y_pred_labels, y_pred_map = onnx_inference_session.run(\n",
    "        [\"output_label\", \"output_probability\"],\n",
    "        {\"float_input_8x8_image\": X.astype(np.float32)},\n",
    "    )\n",
    "    y_pred_probs = np.array(\n",
    "        [[probabilities[digit] for digit in range(10)] for probabilities in y_pred_map]\n",
    "    )\n",
    "\n",
    "    assert y_pred_labels.shape == (X.shape[0],)\n",
    "    assert y_pred_probs.shape == (X.shape[0], 10)\n",
    "\n",
    "    return y_pred_labels, y_pred_probs\n",
    "\n",
    "\n",
    "# Note: as shown in the training notebook, the predicted labels and probabilities\n",
    "# computed below need not be compatible.\n",
    "y_pred_labels_test, y_pred_probs_test = get_model_outputs(\n",
    "    X_test, onnx_inference_session\n",
    ")"
   ]
  },
  {
   "cell_type": "markdown",
   "id": "3f672663",
   "metadata": {
    "papermill": {
     "duration": 0.004649,
     "end_time": "2022-07-04T06:52:42.034754",
     "exception": false,
     "start_time": "2022-07-04T06:52:42.030105",
     "status": "completed"
    },
    "tags": []
   },
   "source": [
    "### Confusion matrix"
   ]
  },
  {
   "cell_type": "code",
   "execution_count": 11,
   "id": "61b0ac4d",
   "metadata": {
    "execution": {
     "iopub.execute_input": "2022-07-04T06:52:42.044803Z",
     "iopub.status.busy": "2022-07-04T06:52:42.044536Z",
     "iopub.status.idle": "2022-07-04T06:52:42.047757Z",
     "shell.execute_reply": "2022-07-04T06:52:42.047146Z"
    },
    "papermill": {
     "duration": 0.011042,
     "end_time": "2022-07-04T06:52:42.050141",
     "exception": false,
     "start_time": "2022-07-04T06:52:42.039099",
     "status": "completed"
    },
    "tags": []
   },
   "outputs": [],
   "source": [
    "# TODO"
   ]
  },
  {
   "cell_type": "markdown",
   "id": "6e3b1048",
   "metadata": {
    "papermill": {
     "duration": 0.004419,
     "end_time": "2022-07-04T06:52:42.059192",
     "exception": false,
     "start_time": "2022-07-04T06:52:42.054773",
     "status": "completed"
    },
    "tags": []
   },
   "source": [
    "### Plot predicted probabilities for each classifier over all evaluation digit images"
   ]
  },
  {
   "cell_type": "code",
   "execution_count": 12,
   "id": "5ab62916",
   "metadata": {
    "execution": {
     "iopub.execute_input": "2022-07-04T06:52:42.069930Z",
     "iopub.status.busy": "2022-07-04T06:52:42.068960Z",
     "iopub.status.idle": "2022-07-04T06:52:45.133291Z",
     "shell.execute_reply": "2022-07-04T06:52:45.132609Z"
    },
    "papermill": {
     "duration": 3.071638,
     "end_time": "2022-07-04T06:52:45.135005",
     "exception": false,
     "start_time": "2022-07-04T06:52:42.063367",
     "status": "completed"
    },
    "tags": []
   },
   "outputs": [
    {
     "data": {
      "image/png": "[encoded data removed]",
      "text/plain": [
       "<Figure size 1152x432 with 10 Axes>"
      ]
     },
     "metadata": {
      "needs_background": "light"
     },
     "output_type": "display_data"
    }
   ],
   "source": [
    "def plot_per_digit_probabilities(y_pred_probs):\n",
    "    fig, axs = plt.subplots(nrows=2, ncols=5, figsize=(16, 6))\n",
    "\n",
    "    for (r, c), digit, ax in zip(\n",
    "        it.product(range(2), range(5)), range(10), axs.reshape(-1)\n",
    "    ):\n",
    "        ax.hist(y_pred_probs_test[:, digit], bins=20)\n",
    "\n",
    "        ax.set_title(f\"Digit {digit}\")\n",
    "        if r == 1 and c == 2:\n",
    "            ax.set_xlabel(\"probability\", fontsize=16)\n",
    "\n",
    "        if c == 0:\n",
    "            ax.set_ylabel(\"counts\", fontsize=16)\n",
    "        ax.set_yscale(\"log\")\n",
    "\n",
    "    fig.tight_layout()\n",
    "    fig.suptitle(\n",
    "        f\"Distributions of prediction probabilities for each digit \"\n",
    "        f\"(on evaluation data, n={y_pred_probs.shape[0]})\",\n",
    "        fontsize=20,\n",
    "    )\n",
    "    fig.tight_layout()\n",
    "    fig.show()\n",
    "\n",
    "    return fig\n",
    "\n",
    "\n",
    "fig = plot_per_digit_probabilities(y_pred_probs_test)"
   ]
  },
  {
   "cell_type": "markdown",
   "id": "f48852d8",
   "metadata": {
    "papermill": {
     "duration": 0.004863,
     "end_time": "2022-07-04T06:52:45.145010",
     "exception": false,
     "start_time": "2022-07-04T06:52:45.140147",
     "status": "completed"
    },
    "tags": []
   },
   "source": [
    "From the above distributions we see that most digits have clear separation between\n",
    "high and lower probabilities. Morover, in each case there is roughly an order of\n",
    "magnitude more of digits with low probabilities. This is compatible with digits\n",
    "being roughly evenly distributed in the data."
   ]
  },
  {
   "cell_type": "code",
   "execution_count": 13,
   "id": "8e118572",
   "metadata": {
    "execution": {
     "iopub.execute_input": "2022-07-04T06:52:45.156961Z",
     "iopub.status.busy": "2022-07-04T06:52:45.156693Z",
     "iopub.status.idle": "2022-07-04T06:52:45.544901Z",
     "shell.execute_reply": "2022-07-04T06:52:45.544178Z"
    },
    "papermill": {
     "duration": 0.396924,
     "end_time": "2022-07-04T06:52:45.546589",
     "exception": false,
     "start_time": "2022-07-04T06:52:45.149665",
     "status": "completed"
    },
    "tags": []
   },
   "outputs": [],
   "source": [
    "logger.log_figure(\"per-digit-probabilities.png\", fig)"
   ]
  },
  {
   "cell_type": "markdown",
   "id": "2d836b8b",
   "metadata": {
    "papermill": {
     "duration": 0.004738,
     "end_time": "2022-07-04T06:52:45.556385",
     "exception": false,
     "start_time": "2022-07-04T06:52:45.551647",
     "status": "completed"
    },
    "tags": []
   },
   "source": [
    "### Plot ROC curves for individual one-vs-rest classifiers"
   ]
  },
  {
   "cell_type": "code",
   "execution_count": 14,
   "id": "eae49a9d",
   "metadata": {
    "execution": {
     "iopub.execute_input": "2022-07-04T06:52:45.568083Z",
     "iopub.status.busy": "2022-07-04T06:52:45.566835Z",
     "iopub.status.idle": "2022-07-04T06:52:45.918366Z",
     "shell.execute_reply": "2022-07-04T06:52:45.917713Z"
    },
    "papermill": {
     "duration": 0.359189,
     "end_time": "2022-07-04T06:52:45.920200",
     "exception": false,
     "start_time": "2022-07-04T06:52:45.561011",
     "status": "completed"
    },
    "tags": []
   },
   "outputs": [],
   "source": [
    "from sklearn import metrics"
   ]
  },
  {
   "cell_type": "code",
   "execution_count": 15,
   "id": "cd0a76af",
   "metadata": {
    "execution": {
     "iopub.execute_input": "2022-07-04T06:52:45.931280Z",
     "iopub.status.busy": "2022-07-04T06:52:45.930749Z",
     "iopub.status.idle": "2022-07-04T06:52:46.905503Z",
     "shell.execute_reply": "2022-07-04T06:52:46.904685Z"
    },
    "papermill": {
     "duration": 0.982244,
     "end_time": "2022-07-04T06:52:46.907335",
     "exception": false,
     "start_time": "2022-07-04T06:52:45.925091",
     "status": "completed"
    },
    "tags": []
   },
   "outputs": [
    {
     "data": {
      "image/png": "[encoded data removed]",
      "text/plain": [
       "<Figure size 1152x576 with 10 Axes>"
      ]
     },
     "metadata": {
      "needs_background": "light"
     },
     "output_type": "display_data"
    }
   ],
   "source": [
    "def plot_roc_curves(y, y_pred_probs):\n",
    "    # based on example code\n",
    "    # https://scikit-learn.org/stable/auto_examples/model_selection/plot_roc.html\n",
    "\n",
    "    fig, axs = plt.subplots(nrows=2, ncols=5, figsize=(16, 8))\n",
    "\n",
    "    roc_auc_dict = {}\n",
    "\n",
    "    for (r, c), digit, ax in zip(\n",
    "        it.product(range(2), range(5)), range(10), axs.reshape(-1)\n",
    "    ):\n",
    "        fpr, tpr, _ = metrics.roc_curve(y == digit, y_pred_probs[:, digit])\n",
    "        auc = metrics.auc(fpr, tpr)\n",
    "        roc_auc_dict[str(digit)] = auc\n",
    "\n",
    "        ax.plot(fpr, tpr, label=f\"ROC AUC={round(auc, 3)}\")\n",
    "\n",
    "        ax.set_title(f\"\\nDigit {digit}\", fontsize=16)\n",
    "        if r == 1:\n",
    "            ax.set_xlabel(\"FPR\", fontsize=18)\n",
    "\n",
    "        if c == 0:\n",
    "            ax.set_ylabel(\"TPR\", fontsize=18)\n",
    "\n",
    "        ax.set_xlim([-0.05, 1.05])\n",
    "        ax.set_ylim([-0.05, 1.05])\n",
    "        ax.legend(loc=\"lower right\", frameon=False, fontsize=14)\n",
    "\n",
    "    fig.tight_layout()\n",
    "    fig.suptitle(\n",
    "        f\"ROC plots for one-vs-rest performances \"\n",
    "        f\"(on evaluation data, n={y_pred_probs_test.shape[1]}\",\n",
    "        fontsize=22,\n",
    "    )\n",
    "    fig.tight_layout()\n",
    "    fig.show()\n",
    "\n",
    "    return roc_auc_dict, fig\n",
    "\n",
    "\n",
    "roc_auc_dict, fig = plot_roc_curves(y_test, y_pred_probs_test)"
   ]
  },
  {
   "cell_type": "code",
   "execution_count": 16,
   "id": "292b146e",
   "metadata": {
    "execution": {
     "iopub.execute_input": "2022-07-04T06:52:46.919835Z",
     "iopub.status.busy": "2022-07-04T06:52:46.919458Z",
     "iopub.status.idle": "2022-07-04T06:52:47.128718Z",
     "shell.execute_reply": "2022-07-04T06:52:47.128032Z"
    },
    "papermill": {
     "duration": 0.218168,
     "end_time": "2022-07-04T06:52:47.131036",
     "exception": false,
     "start_time": "2022-07-04T06:52:46.912868",
     "status": "completed"
    },
    "tags": []
   },
   "outputs": [],
   "source": [
    "logger.log_figure(\"per-digit-roc-curves.png\", fig)"
   ]
  },
  {
   "cell_type": "code",
   "execution_count": 17,
   "id": "d0b5a8fc",
   "metadata": {
    "execution": {
     "iopub.execute_input": "2022-07-04T06:52:47.144140Z",
     "iopub.status.busy": "2022-07-04T06:52:47.143870Z",
     "iopub.status.idle": "2022-07-04T06:52:47.148979Z",
     "shell.execute_reply": "2022-07-04T06:52:47.148341Z"
    },
    "papermill": {
     "duration": 0.014023,
     "end_time": "2022-07-04T06:52:47.151356",
     "exception": false,
     "start_time": "2022-07-04T06:52:47.137333",
     "status": "completed"
    },
    "tags": []
   },
   "outputs": [
    {
     "data": {
      "text/plain": [
       "{'0': 1.0,\n",
       " '1': 0.9992502343017807,\n",
       " '2': 1.0,\n",
       " '3': 0.9998125585754452,\n",
       " '4': 0.9990855052583447,\n",
       " '5': 0.998912839737582,\n",
       " '6': 0.999923792104862,\n",
       " '7': 0.9998475842097241,\n",
       " '8': 0.9947194199243379,\n",
       " '9': 0.9989711934156379}"
      ]
     },
     "execution_count": 17,
     "metadata": {},
     "output_type": "execute_result"
    }
   ],
   "source": [
    "roc_auc_dict"
   ]
  },
  {
   "cell_type": "code",
   "execution_count": 18,
   "id": "4db6f6f0",
   "metadata": {
    "execution": {
     "iopub.execute_input": "2022-07-04T06:52:47.163588Z",
     "iopub.status.busy": "2022-07-04T06:52:47.163344Z",
     "iopub.status.idle": "2022-07-04T06:52:47.167802Z",
     "shell.execute_reply": "2022-07-04T06:52:47.166802Z"
    },
    "papermill": {
     "duration": 0.013044,
     "end_time": "2022-07-04T06:52:47.169836",
     "exception": false,
     "start_time": "2022-07-04T06:52:47.156792",
     "status": "completed"
    },
    "tags": []
   },
   "outputs": [
    {
     "name": "stdout",
     "output_type": "stream",
     "text": [
      " - Logging roc_auc_per_digit (json) : {'0': 1.0, '1': 0.9992502343017807, '2': 1.0, '3': 0.9998125585754452, '4': 0.9990855052583447, '5': 0.998912839737582, '6': 0.999923792104862, '7': 0.9998475842097241, '8': 0.9947194199243379, '9': 0.9989711934156379}\n"
     ]
    }
   ],
   "source": [
    "logger.log_value(\"roc_auc_per_digit\", roc_auc_dict)"
   ]
  },
  {
   "cell_type": "markdown",
   "id": "b0549435",
   "metadata": {
    "papermill": {
     "duration": 0.005891,
     "end_time": "2022-07-04T06:52:47.181277",
     "exception": false,
     "start_time": "2022-07-04T06:52:47.175386",
     "status": "completed"
    },
    "tags": []
   },
   "source": [
    "### Compute and log mean ROC AUC score averaged over all digits"
   ]
  },
  {
   "cell_type": "code",
   "execution_count": 19,
   "id": "2725337c",
   "metadata": {
    "execution": {
     "iopub.execute_input": "2022-07-04T06:52:47.193825Z",
     "iopub.status.busy": "2022-07-04T06:52:47.193314Z",
     "iopub.status.idle": "2022-07-04T06:52:47.205941Z",
     "shell.execute_reply": "2022-07-04T06:52:47.205278Z"
    },
    "papermill": {
     "duration": 0.020897,
     "end_time": "2022-07-04T06:52:47.207553",
     "exception": false,
     "start_time": "2022-07-04T06:52:47.186656",
     "status": "completed"
    },
    "tags": []
   },
   "outputs": [
    {
     "name": "stdout",
     "output_type": "stream",
     "text": [
      " - Logging roc_auc_class_mean (float) : 0.9990523127527716\n"
     ]
    }
   ],
   "source": [
    "roc_auc_macro = np.mean(list(roc_auc_dict.values()))\n",
    "\n",
    "logger.log_float(\"roc_auc_class_mean\", roc_auc_macro)\n",
    "\n",
    "# assert that the same value can be computed directly using sklearn\n",
    "assert roc_auc_macro == metrics.roc_auc_score(\n",
    "    y_test, y_pred_probs_test, average=\"macro\", multi_class=\"ovr\"\n",
    ")"
   ]
  },
  {
   "cell_type": "code",
   "execution_count": 20,
   "id": "272d65cd",
   "metadata": {
    "execution": {
     "iopub.execute_input": "2022-07-04T06:52:47.220894Z",
     "iopub.status.busy": "2022-07-04T06:52:47.220608Z",
     "iopub.status.idle": "2022-07-04T06:52:47.223769Z",
     "shell.execute_reply": "2022-07-04T06:52:47.223082Z"
    },
    "lines_to_next_cell": 0,
    "papermill": {
     "duration": 0.011322,
     "end_time": "2022-07-04T06:52:47.225341",
     "exception": false,
     "start_time": "2022-07-04T06:52:47.214019",
     "status": "completed"
    },
    "tags": []
   },
   "outputs": [],
   "source": [
    "# ---"
   ]
  },
  {
   "cell_type": "code",
   "execution_count": null,
   "id": "5e0cb383",
   "metadata": {
    "papermill": {
     "duration": 0.005847,
     "end_time": "2022-07-04T06:52:47.236683",
     "exception": false,
     "start_time": "2022-07-04T06:52:47.230836",
     "status": "completed"
    },
    "tags": []
   },
   "outputs": [],
   "source": []
  }
 ],
 "metadata": {
  "jupytext": {
   "cell_metadata_filter": "tags,-all",
   "main_language": "python",
   "notebook_metadata_filter": "-all"
  },
  "language_info": {
   "codemirror_mode": {
    "name": "ipython",
    "version": 3
   },
   "file_extension": ".py",
   "mimetype": "text/x-python",
   "name": "python",
   "nbconvert_exporter": "python",
   "pygments_lexer": "ipython3",
   "version": "3.8.10"
  },
  "papermill": {
   "default_parameters": {},
   "duration": 8.904607,
   "end_time": "2022-07-04T06:52:48.260728",
   "environment_variables": {},
   "exception": null,
   "input_path": "/home/host_user/workspace/mnist-demo-pipeline/mnist-demo-pipeline/notebooks/temp-notebook-2_u4y1_k.ipynb",
   "output_path": "notebooks/benchmark-model.ipynb",
   "parameters": {
    "P": {
     "_opentelemetry_traceparent": "00-0b7f1bf11e5cfed8c62638a4aa1d15b6-f6033a1a8c49a354-01",
     "pipeline.data_lake_root": "/pipeline-outputs/data-lake",
     "pipeline.github.actor": "matiasdahl",
     "pipeline.github.base_ref": "",
     "pipeline.github.event_name": "schedule",
     "pipeline.github.head_ref": "",
     "pipeline.github.job": "run-tests-pipeline-and-persist-pipeline-outputs",
     "pipeline.github.ref": "refs/heads/development",
     "pipeline.github.ref_name": "development",
     "pipeline.github.ref_type": "branch",
     "pipeline.github.repository": "pynb-dag-runner/mnist-digits-demo-pipeline",
     "pipeline.github.run_id": "2608212936",
     "pipeline.github.runner_name": "Hosted Agent",
     "pipeline.github.sha": "f934c58f68028b7bb026059d4e87e6d32a1bbd20",
     "pipeline.github.workflow": "Run automated tests, pipeline and deploy results to static reporting site",
     "pipeline.pipeline_run_id": "f1e020c4-fe8c-41d7-bbf7-bf95d4453b33",
     "pipeline.run_environment": "ci",
     "run.retry_nr": "0",
     "task.max_nr_retries": "1",
     "task.notebook": "notebooks/benchmark-model.py",
     "task.nr_train_images": 600,
     "task.num_cpus": 1,
     "task.timeout_s": "None"
    }
   },
   "start_time": "2022-07-04T06:52:39.356121",
   "version": "2.3.3"
  }
 },
 "nbformat": 4,
 "nbformat_minor": 5
}