{
 "cells": [
  {
   "cell_type": "markdown",
   "id": "b24cd88d",
   "metadata": {
    "papermill": {
     "duration": 0.004094,
     "end_time": "2022-07-04T06:52:50.487418",
     "exception": false,
     "start_time": "2022-07-04T06:52:50.483324",
     "status": "completed"
    },
    "tags": []
   },
   "source": [
    "# Summarize model performances\n",
    "\n",
    "This notebooks plots the performances (using averaged ROC AUC scores) for models\n",
    "trained with different training sets."
   ]
  },
  {
   "cell_type": "markdown",
   "id": "f780e0d4",
   "metadata": {
    "papermill": {
     "duration": 0.002568,
     "end_time": "2022-07-04T06:52:50.492699",
     "exception": false,
     "start_time": "2022-07-04T06:52:50.490131",
     "status": "completed"
    },
    "tags": []
   },
   "source": [
    "### Determine run parameters"
   ]
  },
  {
   "cell_type": "code",
   "execution_count": 1,
   "id": "d7bd09d2",
   "metadata": {
    "execution": {
     "iopub.execute_input": "2022-07-04T06:52:50.499664Z",
     "iopub.status.busy": "2022-07-04T06:52:50.498994Z",
     "iopub.status.idle": "2022-07-04T06:52:50.505950Z",
     "shell.execute_reply": "2022-07-04T06:52:50.505333Z"
    },
    "lines_to_next_cell": 0,
    "papermill": {
     "duration": 0.012742,
     "end_time": "2022-07-04T06:52:50.507768",
     "exception": false,
     "start_time": "2022-07-04T06:52:50.495026",
     "status": "completed"
    },
    "tags": []
   },
   "outputs": [],
   "source": [
    "# ----------------- Parameters for interactive development --------------\n",
    "P = {\n",
    "    \"pipeline.run_environment\": \"dev\",\n",
    "}"
   ]
  },
  {
   "cell_type": "code",
   "execution_count": 2,
   "id": "42360b4b",
   "metadata": {
    "execution": {
     "iopub.execute_input": "2022-07-04T06:52:50.514399Z",
     "iopub.status.busy": "2022-07-04T06:52:50.513641Z",
     "iopub.status.idle": "2022-07-04T06:52:50.517289Z",
     "shell.execute_reply": "2022-07-04T06:52:50.516439Z"
    },
    "lines_to_next_cell": 0,
    "papermill": {
     "duration": 0.008529,
     "end_time": "2022-07-04T06:52:50.518830",
     "exception": false,
     "start_time": "2022-07-04T06:52:50.510301",
     "status": "completed"
    },
    "tags": [
     "parameters"
    ]
   },
   "outputs": [],
   "source": [
    "# - During automated runs parameters will be injected in the below cell -"
   ]
  },
  {
   "cell_type": "code",
   "execution_count": 3,
   "id": "b7df1dfb",
   "metadata": {
    "execution": {
     "iopub.execute_input": "2022-07-04T06:52:50.525358Z",
     "iopub.status.busy": "2022-07-04T06:52:50.524987Z",
     "iopub.status.idle": "2022-07-04T06:52:50.529941Z",
     "shell.execute_reply": "2022-07-04T06:52:50.529328Z"
    },
    "papermill": {
     "duration": 0.010031,
     "end_time": "2022-07-04T06:52:50.531371",
     "exception": false,
     "start_time": "2022-07-04T06:52:50.521340",
     "status": "completed"
    },
    "tags": [
     "injected-parameters"
    ]
   },
   "outputs": [],
   "source": [
    "# Parameters\n",
    "P = {\n",
    "    \"pipeline.data_lake_root\": \"/pipeline-outputs/data-lake\",\n",
    "    \"pipeline.run_environment\": \"ci\",\n",
    "    \"pipeline.pipeline_run_id\": \"f1e020c4-fe8c-41d7-bbf7-bf95d4453b33\",\n",
    "    \"pipeline.github.repository\": \"pynb-dag-runner/mnist-digits-demo-pipeline\",\n",
    "    \"pipeline.github.workflow\": \"Run automated tests, pipeline and deploy results to static reporting site\",\n",
    "    \"pipeline.github.runner_name\": \"Hosted Agent\",\n",
    "    \"pipeline.github.run_id\": \"2608212936\",\n",
    "    \"pipeline.github.actor\": \"matiasdahl\",\n",
    "    \"pipeline.github.job\": \"run-tests-pipeline-and-persist-pipeline-outputs\",\n",
    "    \"pipeline.github.base_ref\": \"\",\n",
    "    \"pipeline.github.head_ref\": \"\",\n",
    "    \"pipeline.github.sha\": \"f934c58f68028b7bb026059d4e87e6d32a1bbd20\",\n",
    "    \"pipeline.github.ref\": \"refs/heads/development\",\n",
    "    \"pipeline.github.ref_type\": \"branch\",\n",
    "    \"pipeline.github.ref_name\": \"development\",\n",
    "    \"pipeline.github.event_name\": \"schedule\",\n",
    "    \"task.notebook\": \"notebooks/summary.py\",\n",
    "    \"task.max_nr_retries\": \"1\",\n",
    "    \"run.retry_nr\": \"0\",\n",
    "    \"task.timeout_s\": \"None\",\n",
    "    \"task.num_cpus\": 1,\n",
    "    \"_opentelemetry_traceparent\": \"00-0b7f1bf11e5cfed8c62638a4aa1d15b6-0771567faaf39172-01\",\n",
    "}\n"
   ]
  },
  {
   "cell_type": "code",
   "execution_count": 4,
   "id": "deaeb9d4",
   "metadata": {
    "execution": {
     "iopub.execute_input": "2022-07-04T06:52:50.537874Z",
     "iopub.status.busy": "2022-07-04T06:52:50.537635Z",
     "iopub.status.idle": "2022-07-04T06:52:50.540455Z",
     "shell.execute_reply": "2022-07-04T06:52:50.539957Z"
    },
    "lines_to_next_cell": 0,
    "papermill": {
     "duration": 0.007874,
     "end_time": "2022-07-04T06:52:50.541827",
     "exception": false,
     "start_time": "2022-07-04T06:52:50.533953",
     "status": "completed"
    },
    "tags": []
   },
   "outputs": [],
   "source": [
    "# -----------------------------------------------------------------------"
   ]
  },
  {
   "cell_type": "markdown",
   "id": "9e91ab5d",
   "metadata": {
    "papermill": {
     "duration": 0.002655,
     "end_time": "2022-07-04T06:52:50.547109",
     "exception": false,
     "start_time": "2022-07-04T06:52:50.544454",
     "status": "completed"
    },
    "tags": []
   },
   "source": [
    "---"
   ]
  },
  {
   "cell_type": "markdown",
   "id": "3813750a",
   "metadata": {
    "lines_to_next_cell": 2,
    "papermill": {
     "duration": 0.002502,
     "end_time": "2022-07-04T06:52:50.552404",
     "exception": false,
     "start_time": "2022-07-04T06:52:50.549902",
     "status": "completed"
    },
    "tags": []
   },
   "source": [
    "### Notebook code"
   ]
  },
  {
   "cell_type": "code",
   "execution_count": 5,
   "id": "efffa7a7",
   "metadata": {
    "execution": {
     "iopub.execute_input": "2022-07-04T06:52:50.559364Z",
     "iopub.status.busy": "2022-07-04T06:52:50.558671Z",
     "iopub.status.idle": "2022-07-04T06:52:51.637177Z",
     "shell.execute_reply": "2022-07-04T06:52:51.636493Z"
    },
    "papermill": {
     "duration": 1.084038,
     "end_time": "2022-07-04T06:52:51.638931",
     "exception": false,
     "start_time": "2022-07-04T06:52:50.554893",
     "status": "completed"
    },
    "tags": []
   },
   "outputs": [],
   "source": [
    "#\n",
    "import pandas as pd\n",
    "import matplotlib.pyplot as plt\n",
    "\n",
    "#\n",
    "from pynb_dag_runner.tasks.task_opentelemetry_logging import PydarLogger"
   ]
  },
  {
   "cell_type": "code",
   "execution_count": 6,
   "id": "a868f6f0",
   "metadata": {
    "execution": {
     "iopub.execute_input": "2022-07-04T06:52:51.646542Z",
     "iopub.status.busy": "2022-07-04T06:52:51.646108Z",
     "iopub.status.idle": "2022-07-04T06:52:51.802970Z",
     "shell.execute_reply": "2022-07-04T06:52:51.802306Z"
    },
    "papermill": {
     "duration": 0.163426,
     "end_time": "2022-07-04T06:52:51.805170",
     "exception": false,
     "start_time": "2022-07-04T06:52:51.641744",
     "status": "completed"
    },
    "tags": []
   },
   "outputs": [
    {
     "name": "stderr",
     "output_type": "stream",
     "text": [
      "2022-07-04 06:52:51,649\tINFO worker.py:842 -- Connecting to existing Ray cluster at address: 172.17.0.2:6379\n"
     ]
    }
   ],
   "source": [
    "logger = PydarLogger(P=P)"
   ]
  },
  {
   "cell_type": "code",
   "execution_count": 7,
   "id": "866274e7",
   "metadata": {
    "execution": {
     "iopub.execute_input": "2022-07-04T06:52:51.812812Z",
     "iopub.status.busy": "2022-07-04T06:52:51.812549Z",
     "iopub.status.idle": "2022-07-04T06:52:51.819192Z",
     "shell.execute_reply": "2022-07-04T06:52:51.818548Z"
    },
    "papermill": {
     "duration": 0.013085,
     "end_time": "2022-07-04T06:52:51.821443",
     "exception": false,
     "start_time": "2022-07-04T06:52:51.808358",
     "status": "completed"
    },
    "tags": []
   },
   "outputs": [],
   "source": [
    "from pynb_dag_runner.tasks.task_opentelemetry_logging import (\n",
    "    PydarLogger,\n",
    "    get_logged_values,\n",
    ")\n",
    "from pynb_dag_runner.opentelemetry_helpers import _get_all_spans, Spans"
   ]
  },
  {
   "cell_type": "code",
   "execution_count": 8,
   "id": "0dd18261",
   "metadata": {
    "execution": {
     "iopub.execute_input": "2022-07-04T06:52:51.828950Z",
     "iopub.status.busy": "2022-07-04T06:52:51.828483Z",
     "iopub.status.idle": "2022-07-04T06:52:51.835347Z",
     "shell.execute_reply": "2022-07-04T06:52:51.834665Z"
    },
    "papermill": {
     "duration": 0.01302,
     "end_time": "2022-07-04T06:52:51.837316",
     "exception": false,
     "start_time": "2022-07-04T06:52:51.824296",
     "status": "completed"
    },
    "tags": []
   },
   "outputs": [],
   "source": [
    "def get_model_benchmarks():\n",
    "    \"\"\"\n",
    "    Query the OpenTelemetry logs for *this pipeline run* and return\n",
    "    all key-values logged from all runs of the benchmark-model.py task\n",
    "\n",
    "    For testing a json file with OpenTelemetry spans (as an array)\n",
    "    can be used as follows:\n",
    "\n",
    "    - Create output directory `mkdir /tmp/spans`\n",
    "    - Run unit tests. This will create pipeline-outputs/opentelemetry-spans.json\n",
    "    - Convert this json-array into jsonl format as follows\n",
    "\n",
    "    jq -c '.[]' /pipeline-outputs/opentelemetry-spans.json > /tmp/spans/data.txt\n",
    "\n",
    "    \"\"\"\n",
    "    spans: Spans = Spans(_get_all_spans())\n",
    "    print(f\"Found {len(spans)} spans\")\n",
    "\n",
    "    benchmark_spans = (\n",
    "        spans\n",
    "        # -\n",
    "        .filter([\"name\"], \"execute-task\")\n",
    "        # -\n",
    "        .filter([\"attributes\", \"task.notebook\"], \"notebooks/benchmark-model.py\")\n",
    "    )\n",
    "\n",
    "    result = []\n",
    "    for s in benchmark_spans:\n",
    "        result.append(\n",
    "            {\n",
    "                \"span_id\": s[\"context\"][\"span_id\"],\n",
    "                \"nr_train_images\": s[\"attributes\"][\"task.nr_train_images\"],\n",
    "                \"data\": get_logged_values(spans.bound_under(s)),\n",
    "            }\n",
    "        )\n",
    "\n",
    "    return result\n",
    "\n",
    "\n",
    "def adjust_pandas(df):\n",
    "    def column_renamer(col_name: str) -> str:\n",
    "        return (\n",
    "            col_name\n",
    "            # -- 'data.roc_auc_per_digit.4' -> 'roc_auc.4'\n",
    "            .replace(\"data.roc_auc_per_digit\", \"roc_auc\")\n",
    "            # -- 'data.roc_auc_class_mean' -> 'roc_auc_mean'\n",
    "            .replace(\"data.roc_auc_class_mean\", \"roc_auc_mean\")\n",
    "        )\n",
    "\n",
    "    return df.rename(column_renamer, axis=\"columns\").sort_values(by=\"nr_train_images\")"
   ]
  },
  {
   "cell_type": "code",
   "execution_count": 9,
   "id": "52ffeeb2",
   "metadata": {
    "execution": {
     "iopub.execute_input": "2022-07-04T06:52:51.845995Z",
     "iopub.status.busy": "2022-07-04T06:52:51.845175Z",
     "iopub.status.idle": "2022-07-04T06:53:11.616224Z",
     "shell.execute_reply": "2022-07-04T06:53:11.615570Z"
    },
    "papermill": {
     "duration": 19.777972,
     "end_time": "2022-07-04T06:53:11.618008",
     "exception": false,
     "start_time": "2022-07-04T06:52:51.840036",
     "status": "completed"
    },
    "tags": []
   },
   "outputs": [
    {
     "name": "stdout",
     "output_type": "stream",
     "text": [
      "Found 420 spans\n"
     ]
    }
   ],
   "source": [
    "df_data = adjust_pandas(pd.json_normalize(get_model_benchmarks()))"
   ]
  },
  {
   "cell_type": "code",
   "execution_count": 10,
   "id": "fb9f4fb9",
   "metadata": {
    "execution": {
     "iopub.execute_input": "2022-07-04T06:53:11.626235Z",
     "iopub.status.busy": "2022-07-04T06:53:11.625752Z",
     "iopub.status.idle": "2022-07-04T06:53:11.652182Z",
     "shell.execute_reply": "2022-07-04T06:53:11.651486Z"
    },
    "papermill": {
     "duration": 0.031957,
     "end_time": "2022-07-04T06:53:11.653792",
     "exception": false,
     "start_time": "2022-07-04T06:53:11.621835",
     "status": "completed"
    },
    "tags": []
   },
   "outputs": [
    {
     "data": {
      "text/html": [
       "<div>\n",
       "<style scoped>\n",
       "    .dataframe tbody tr th:only-of-type {\n",
       "        vertical-align: middle;\n",
       "    }\n",
       "\n",
       "    .dataframe tbody tr th {\n",
       "        vertical-align: top;\n",
       "    }\n",
       "\n",
       "    .dataframe thead th {\n",
       "        text-align: right;\n",
       "    }\n",
       "</style>\n",
       "<table border=\"1\" class=\"dataframe\">\n",
       "  <thead>\n",
       "    <tr style=\"text-align: right;\">\n",
       "      <th></th>\n",
       "      <th>span_id</th>\n",
       "      <th>nr_train_images</th>\n",
       "      <th>roc_auc_mean</th>\n",
       "      <th>roc_auc.0</th>\n",
       "      <th>roc_auc.1</th>\n",
       "      <th>roc_auc.2</th>\n",
       "      <th>roc_auc.3</th>\n",
       "      <th>roc_auc.4</th>\n",
       "      <th>roc_auc.5</th>\n",
       "      <th>roc_auc.6</th>\n",
       "      <th>roc_auc.7</th>\n",
       "      <th>roc_auc.8</th>\n",
       "      <th>roc_auc.9</th>\n",
       "    </tr>\n",
       "  </thead>\n",
       "  <tbody>\n",
       "    <tr>\n",
       "      <th>0</th>\n",
       "      <td>0x623e51faa728d393</td>\n",
       "      <td>600</td>\n",
       "      <td>0.9991</td>\n",
       "      <td>1.0</td>\n",
       "      <td>0.9993</td>\n",
       "      <td>1.0</td>\n",
       "      <td>0.9998</td>\n",
       "      <td>0.9991</td>\n",
       "      <td>0.9989</td>\n",
       "      <td>0.9999</td>\n",
       "      <td>0.9998</td>\n",
       "      <td>0.9947</td>\n",
       "      <td>0.9990</td>\n",
       "    </tr>\n",
       "    <tr>\n",
       "      <th>1</th>\n",
       "      <td>0xe090b1c2775bc525</td>\n",
       "      <td>800</td>\n",
       "      <td>0.9990</td>\n",
       "      <td>1.0</td>\n",
       "      <td>0.9987</td>\n",
       "      <td>1.0</td>\n",
       "      <td>0.9998</td>\n",
       "      <td>0.9995</td>\n",
       "      <td>0.9992</td>\n",
       "      <td>1.0000</td>\n",
       "      <td>0.9999</td>\n",
       "      <td>0.9931</td>\n",
       "      <td>0.9994</td>\n",
       "    </tr>\n",
       "    <tr>\n",
       "      <th>2</th>\n",
       "      <td>0xfc8b3ef94b5239b8</td>\n",
       "      <td>1000</td>\n",
       "      <td>0.9992</td>\n",
       "      <td>1.0</td>\n",
       "      <td>0.9990</td>\n",
       "      <td>1.0</td>\n",
       "      <td>0.9999</td>\n",
       "      <td>0.9996</td>\n",
       "      <td>0.9994</td>\n",
       "      <td>0.9999</td>\n",
       "      <td>0.9998</td>\n",
       "      <td>0.9952</td>\n",
       "      <td>0.9996</td>\n",
       "    </tr>\n",
       "    <tr>\n",
       "      <th>3</th>\n",
       "      <td>0x2163d9a9c5cb170c</td>\n",
       "      <td>1200</td>\n",
       "      <td>0.9994</td>\n",
       "      <td>1.0</td>\n",
       "      <td>0.9991</td>\n",
       "      <td>1.0</td>\n",
       "      <td>0.9999</td>\n",
       "      <td>0.9998</td>\n",
       "      <td>0.9997</td>\n",
       "      <td>0.9999</td>\n",
       "      <td>0.9998</td>\n",
       "      <td>0.9957</td>\n",
       "      <td>0.9998</td>\n",
       "    </tr>\n",
       "  </tbody>\n",
       "</table>\n",
       "</div>"
      ],
      "text/plain": [
       "              span_id  nr_train_images  roc_auc_mean  roc_auc.0  roc_auc.1  \\\n",
       "0  0x623e51faa728d393              600        0.9991        1.0     0.9993   \n",
       "1  0xe090b1c2775bc525              800        0.9990        1.0     0.9987   \n",
       "2  0xfc8b3ef94b5239b8             1000        0.9992        1.0     0.9990   \n",
       "3  0x2163d9a9c5cb170c             1200        0.9994        1.0     0.9991   \n",
       "\n",
       "   roc_auc.2  roc_auc.3  roc_auc.4  roc_auc.5  roc_auc.6  roc_auc.7  \\\n",
       "0        1.0     0.9998     0.9991     0.9989     0.9999     0.9998   \n",
       "1        1.0     0.9998     0.9995     0.9992     1.0000     0.9999   \n",
       "2        1.0     0.9999     0.9996     0.9994     0.9999     0.9998   \n",
       "3        1.0     0.9999     0.9998     0.9997     0.9999     0.9998   \n",
       "\n",
       "   roc_auc.8  roc_auc.9  \n",
       "0     0.9947     0.9990  \n",
       "1     0.9931     0.9994  \n",
       "2     0.9952     0.9996  \n",
       "3     0.9957     0.9998  "
      ]
     },
     "execution_count": 10,
     "metadata": {},
     "output_type": "execute_result"
    }
   ],
   "source": [
    "df_data.round(4)"
   ]
  },
  {
   "cell_type": "code",
   "execution_count": 11,
   "id": "9056e1de",
   "metadata": {
    "execution": {
     "iopub.execute_input": "2022-07-04T06:53:11.662120Z",
     "iopub.status.busy": "2022-07-04T06:53:11.661859Z",
     "iopub.status.idle": "2022-07-04T06:53:11.813350Z",
     "shell.execute_reply": "2022-07-04T06:53:11.812412Z"
    },
    "papermill": {
     "duration": 0.157846,
     "end_time": "2022-07-04T06:53:11.815206",
     "exception": false,
     "start_time": "2022-07-04T06:53:11.657360",
     "status": "completed"
    },
    "tags": []
   },
   "outputs": [
    {
     "data": {
      "image/png": "[encoded data removed]",
      "text/plain": [
       "<Figure size 1152x288 with 1 Axes>"
      ]
     },
     "metadata": {
      "needs_background": "light"
     },
     "output_type": "display_data"
    }
   ],
   "source": [
    "def plot_classifier_performance_summary(df_data):\n",
    "    fig, ax = plt.subplots(nrows=1, ncols=1, figsize=(16, 4), sharex=True)\n",
    "\n",
    "    #\n",
    "    ax.plot(\n",
    "        df_data[\"nr_train_images\"], df_data[\"roc_auc_mean\"], marker=\"o\", linestyle=\"--\"\n",
    "    )\n",
    "    ax.set_title(\n",
    "        f\"ROC AUC digit classifier performance on evaluation digits\", fontsize=17\n",
    "    )\n",
    "    ax.set_xlabel(\"Total number of digits in training set\", fontsize=14)\n",
    "    ax.set_ylabel(\"Mean ROC AUC\", fontsize=14)\n",
    "\n",
    "    fig.tight_layout()\n",
    "    fig.show()\n",
    "\n",
    "    return fig\n",
    "\n",
    "\n",
    "fig = plot_classifier_performance_summary(df_data)"
   ]
  },
  {
   "cell_type": "code",
   "execution_count": 12,
   "id": "dde911df",
   "metadata": {
    "execution": {
     "iopub.execute_input": "2022-07-04T06:53:11.824706Z",
     "iopub.status.busy": "2022-07-04T06:53:11.823996Z",
     "iopub.status.idle": "2022-07-04T06:53:11.886592Z",
     "shell.execute_reply": "2022-07-04T06:53:11.885883Z"
    },
    "papermill": {
     "duration": 0.069809,
     "end_time": "2022-07-04T06:53:11.888882",
     "exception": false,
     "start_time": "2022-07-04T06:53:11.819073",
     "status": "completed"
    },
    "tags": []
   },
   "outputs": [],
   "source": [
    "logger.log_figure(\"auc-roc-model-performances.png\", fig)"
   ]
  },
  {
   "cell_type": "code",
   "execution_count": 13,
   "id": "0ef43d22",
   "metadata": {
    "execution": {
     "iopub.execute_input": "2022-07-04T06:53:11.898388Z",
     "iopub.status.busy": "2022-07-04T06:53:11.897872Z",
     "iopub.status.idle": "2022-07-04T06:53:11.901273Z",
     "shell.execute_reply": "2022-07-04T06:53:11.900522Z"
    },
    "papermill": {
     "duration": 0.010066,
     "end_time": "2022-07-04T06:53:11.902882",
     "exception": false,
     "start_time": "2022-07-04T06:53:11.892816",
     "status": "completed"
    },
    "tags": []
   },
   "outputs": [],
   "source": [
    "###"
   ]
  },
  {
   "cell_type": "code",
   "execution_count": null,
   "id": "de2480ae",
   "metadata": {
    "papermill": {
     "duration": 0.003717,
     "end_time": "2022-07-04T06:53:11.910547",
     "exception": false,
     "start_time": "2022-07-04T06:53:11.906830",
     "status": "completed"
    },
    "tags": []
   },
   "outputs": [],
   "source": []
  }
 ],
 "metadata": {
  "jupytext": {
   "cell_metadata_filter": "tags,-all",
   "main_language": "python",
   "notebook_metadata_filter": "-all"
  },
  "language_info": {
   "codemirror_mode": {
    "name": "ipython",
    "version": 3
   },
   "file_extension": ".py",
   "mimetype": "text/x-python",
   "name": "python",
   "nbconvert_exporter": "python",
   "pygments_lexer": "ipython3",
   "version": "3.8.10"
  },
  "papermill": {
   "default_parameters": {},
   "duration": 23.421882,
   "end_time": "2022-07-04T06:53:12.833035",
   "environment_variables": {},
   "exception": null,
   "input_path": "/home/host_user/workspace/mnist-demo-pipeline/mnist-demo-pipeline/notebooks/temp-notebook-9thbu5x6.ipynb",
   "output_path": "notebooks/summary.ipynb",
   "parameters": {
    "P": {
     "_opentelemetry_traceparent": "00-0b7f1bf11e5cfed8c62638a4aa1d15b6-0771567faaf39172-01",
     "pipeline.data_lake_root": "/pipeline-outputs/data-lake",
     "pipeline.github.actor": "matiasdahl",
     "pipeline.github.base_ref": "",
     "pipeline.github.event_name": "schedule",
     "pipeline.github.head_ref": "",
     "pipeline.github.job": "run-tests-pipeline-and-persist-pipeline-outputs",
     "pipeline.github.ref": "refs/heads/development",
     "pipeline.github.ref_name": "development",
     "pipeline.github.ref_type": "branch",
     "pipeline.github.repository": "pynb-dag-runner/mnist-digits-demo-pipeline",
     "pipeline.github.run_id": "2608212936",
     "pipeline.github.runner_name": "Hosted Agent",
     "pipeline.github.sha": "f934c58f68028b7bb026059d4e87e6d32a1bbd20",
     "pipeline.github.workflow": "Run automated tests, pipeline and deploy results to static reporting site",
     "pipeline.pipeline_run_id": "f1e020c4-fe8c-41d7-bbf7-bf95d4453b33",
     "pipeline.run_environment": "ci",
     "run.retry_nr": "0",
     "task.max_nr_retries": "1",
     "task.notebook": "notebooks/summary.py",
     "task.num_cpus": 1,
     "task.timeout_s": "None"
    }
   },
   "start_time": "2022-07-04T06:52:49.411153",
   "version": "2.3.3"
  }
 },
 "nbformat": 4,
 "nbformat_minor": 5
}