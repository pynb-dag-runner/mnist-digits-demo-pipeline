{
 "cells": [
  {
   "cell_type": "markdown",
   "id": "9284fbea",
   "metadata": {
    "papermill": {
     "duration": 0.005346,
     "end_time": "2022-07-04T06:52:36.310216",
     "exception": false,
     "start_time": "2022-07-04T06:52:36.304870",
     "status": "completed"
    },
    "tags": []
   },
   "source": [
    "# Benchmark model\n",
    "\n",
    "The purpose of this notebook is to benchmark persisted onnx-model (trained in the\n",
    "previous step) against evaluation set."
   ]
  },
  {
   "cell_type": "markdown",
   "id": "4bb46755",
   "metadata": {
    "papermill": {
     "duration": 0.004192,
     "end_time": "2022-07-04T06:52:36.319047",
     "exception": false,
     "start_time": "2022-07-04T06:52:36.314855",
     "status": "completed"
    },
    "tags": []
   },
   "source": [
    "### Determine run parameters"
   ]
  },
  {
   "cell_type": "code",
   "execution_count": 1,
   "id": "a95b7b3d",
   "metadata": {
    "execution": {
     "iopub.execute_input": "2022-07-04T06:52:36.336617Z",
     "iopub.status.busy": "2022-07-04T06:52:36.336315Z",
     "iopub.status.idle": "2022-07-04T06:52:36.344374Z",
     "shell.execute_reply": "2022-07-04T06:52:36.343832Z"
    },
    "lines_to_next_cell": 0,
    "papermill": {
     "duration": 0.021588,
     "end_time": "2022-07-04T06:52:36.347406",
     "exception": false,
     "start_time": "2022-07-04T06:52:36.325818",
     "status": "completed"
    },
    "tags": []
   },
   "outputs": [],
   "source": [
    "# ----------------- Parameters for interactive development --------------\n",
    "P = {\n",
    "    \"pipeline.data_lake_root\": \"/pipeline-outputs/data-lake\",\n",
    "    \"task.nr_train_images\": 600,\n",
    "}"
   ]
  },
  {
   "cell_type": "code",
   "execution_count": 2,
   "id": "96c055f6",
   "metadata": {
    "execution": {
     "iopub.execute_input": "2022-07-04T06:52:36.360037Z",
     "iopub.status.busy": "2022-07-04T06:52:36.359759Z",
     "iopub.status.idle": "2022-07-04T06:52:36.363007Z",
     "shell.execute_reply": "2022-07-04T06:52:36.362504Z"
    },
    "lines_to_next_cell": 0,
    "papermill": {
     "duration": 0.011335,
     "end_time": "2022-07-04T06:52:36.366077",
     "exception": false,
     "start_time": "2022-07-04T06:52:36.354742",
     "status": "completed"
    },
    "tags": [
     "parameters"
    ]
   },
   "outputs": [],
   "source": [
    "# - During automated runs parameters will be injected in the below cell -"
   ]
  },
  {
   "cell_type": "code",
   "execution_count": 3,
   "id": "4ce21fdf",
   "metadata": {
    "execution": {
     "iopub.execute_input": "2022-07-04T06:52:36.376060Z",
     "iopub.status.busy": "2022-07-04T06:52:36.375771Z",
     "iopub.status.idle": "2022-07-04T06:52:36.381096Z",
     "shell.execute_reply": "2022-07-04T06:52:36.380579Z"
    },
    "papermill": {
     "duration": 0.012401,
     "end_time": "2022-07-04T06:52:36.382831",
     "exception": false,
     "start_time": "2022-07-04T06:52:36.370430",
     "status": "completed"
    },
    "tags": [
     "injected-parameters"
    ]
   },
   "outputs": [],
   "source": [
    "# Parameters\n",
    "P = {\n",
    "    \"pipeline.data_lake_root\": \"/pipeline-outputs/data-lake\",\n",
    "    \"pipeline.run_environment\": \"ci\",\n",
    "    \"pipeline.pipeline_run_id\": \"f1e020c4-fe8c-41d7-bbf7-bf95d4453b33\",\n",
    "    \"pipeline.github.repository\": \"pynb-dag-runner/mnist-digits-demo-pipeline\",\n",
    "    \"pipeline.github.workflow\": \"Run automated tests, pipeline and deploy results to static reporting site\",\n",
    "    \"pipeline.github.runner_name\": \"Hosted Agent\",\n",
    "    \"pipeline.github.run_id\": \"2608212936\",\n",
    "    \"pipeline.github.actor\": \"matiasdahl\",\n",
    "    \"pipeline.github.job\": \"run-tests-pipeline-and-persist-pipeline-outputs\",\n",
    "    \"pipeline.github.base_ref\": \"\",\n",
    "    \"pipeline.github.head_ref\": \"\",\n",
    "    \"pipeline.github.sha\": \"f934c58f68028b7bb026059d4e87e6d32a1bbd20\",\n",
    "    \"pipeline.github.ref\": \"refs/heads/development\",\n",
    "    \"pipeline.github.ref_type\": \"branch\",\n",
    "    \"pipeline.github.ref_name\": \"development\",\n",
    "    \"pipeline.github.event_name\": \"schedule\",\n",
    "    \"task.nr_train_images\": 1000,\n",
    "    \"task.notebook\": \"notebooks/benchmark-model.py\",\n",
    "    \"task.max_nr_retries\": \"1\",\n",
    "    \"run.retry_nr\": \"0\",\n",
    "    \"task.timeout_s\": \"None\",\n",
    "    \"task.num_cpus\": 1,\n",
    "    \"_opentelemetry_traceparent\": \"00-0b7f1bf11e5cfed8c62638a4aa1d15b6-fe990d49af7fb182-01\",\n",
    "}\n"
   ]
  },
  {
   "cell_type": "code",
   "execution_count": 4,
   "id": "8561d608",
   "metadata": {
    "execution": {
     "iopub.execute_input": "2022-07-04T06:52:36.392111Z",
     "iopub.status.busy": "2022-07-04T06:52:36.391869Z",
     "iopub.status.idle": "2022-07-04T06:52:36.394808Z",
     "shell.execute_reply": "2022-07-04T06:52:36.394298Z"
    },
    "lines_to_next_cell": 0,
    "papermill": {
     "duration": 0.010413,
     "end_time": "2022-07-04T06:52:36.397180",
     "exception": false,
     "start_time": "2022-07-04T06:52:36.386767",
     "status": "completed"
    },
    "tags": []
   },
   "outputs": [],
   "source": [
    "# -----------------------------------------------------------------------"
   ]
  },
  {
   "cell_type": "markdown",
   "id": "4c53fb3d",
   "metadata": {
    "papermill": {
     "duration": 0.004234,
     "end_time": "2022-07-04T06:52:36.405396",
     "exception": false,
     "start_time": "2022-07-04T06:52:36.401162",
     "status": "completed"
    },
    "tags": []
   },
   "source": [
    "---"
   ]
  },
  {
   "cell_type": "markdown",
   "id": "abf58575",
   "metadata": {
    "lines_to_next_cell": 2,
    "papermill": {
     "duration": 0.005351,
     "end_time": "2022-07-04T06:52:36.414646",
     "exception": false,
     "start_time": "2022-07-04T06:52:36.409295",
     "status": "completed"
    },
    "tags": []
   },
   "source": [
    "### Notebook code"
   ]
  },
  {
   "cell_type": "code",
   "execution_count": 5,
   "id": "c15a7915",
   "metadata": {
    "execution": {
     "iopub.execute_input": "2022-07-04T06:52:36.423757Z",
     "iopub.status.busy": "2022-07-04T06:52:36.423473Z",
     "iopub.status.idle": "2022-07-04T06:52:37.547683Z",
     "shell.execute_reply": "2022-07-04T06:52:37.546977Z"
    },
    "papermill": {
     "duration": 1.349164,
     "end_time": "2022-07-04T06:52:37.767800",
     "exception": false,
     "start_time": "2022-07-04T06:52:36.418636",
     "status": "completed"
    },
    "tags": []
   },
   "outputs": [
    {
     "name": "stderr",
     "output_type": "stream",
     "text": [
      "2022-07-04 06:52:37,319\tINFO worker.py:842 -- Connecting to existing Ray cluster at address: 172.17.0.2:6379\n"
     ]
    }
   ],
   "source": [
    "import itertools as it\n",
    "\n",
    "#\n",
    "import numpy as np\n",
    "import matplotlib.pyplot as plt\n",
    "\n",
    "#\n",
    "from pynb_dag_runner.tasks.task_opentelemetry_logging import PydarLogger\n",
    "\n",
    "#\n",
    "from common.io import datalake_root\n",
    "\n",
    "logger = PydarLogger(P)"
   ]
  },
  {
   "cell_type": "markdown",
   "id": "5336d4eb",
   "metadata": {
    "papermill": {
     "duration": 0.008509,
     "end_time": "2022-07-04T06:52:37.788623",
     "exception": false,
     "start_time": "2022-07-04T06:52:37.780114",
     "status": "completed"
    },
    "tags": []
   },
   "source": [
    "## Load persisted onnx-model and evaluation data"
   ]
  },
  {
   "cell_type": "code",
   "execution_count": 6,
   "id": "160b3146",
   "metadata": {
    "execution": {
     "iopub.execute_input": "2022-07-04T06:52:37.811011Z",
     "iopub.status.busy": "2022-07-04T06:52:37.810624Z",
     "iopub.status.idle": "2022-07-04T06:52:37.814720Z",
     "shell.execute_reply": "2022-07-04T06:52:37.813930Z"
    },
    "papermill": {
     "duration": 0.011672,
     "end_time": "2022-07-04T06:52:37.816018",
     "exception": false,
     "start_time": "2022-07-04T06:52:37.804346",
     "status": "completed"
    },
    "tags": []
   },
   "outputs": [],
   "source": [
    "from common.io import read_onnx, get_onnx_inputs, get_onnx_outputs, read_numpy"
   ]
  },
  {
   "cell_type": "code",
   "execution_count": 7,
   "id": "28bad9cf",
   "metadata": {
    "execution": {
     "iopub.execute_input": "2022-07-04T06:52:37.826127Z",
     "iopub.status.busy": "2022-07-04T06:52:37.825848Z",
     "iopub.status.idle": "2022-07-04T06:52:37.837382Z",
     "shell.execute_reply": "2022-07-04T06:52:37.836824Z"
    },
    "lines_to_next_cell": 0,
    "papermill": {
     "duration": 0.018956,
     "end_time": "2022-07-04T06:52:37.839263",
     "exception": false,
     "start_time": "2022-07-04T06:52:37.820307",
     "status": "completed"
    },
    "tags": []
   },
   "outputs": [],
   "source": [
    "onnx_inference_session = read_onnx(\n",
    "    datalake_root(P)\n",
    "    / \"models\"\n",
    "    / f\"nr_train_images={P['task.nr_train_images']}\"\n",
    "    / \"model.onnx\"\n",
    ")"
   ]
  },
  {
   "cell_type": "markdown",
   "id": "5621d97e",
   "metadata": {
    "papermill": {
     "duration": 0.004334,
     "end_time": "2022-07-04T06:52:37.848087",
     "exception": false,
     "start_time": "2022-07-04T06:52:37.843753",
     "status": "completed"
    },
    "tags": []
   },
   "source": [
    "### Record structure of inputs and outputs for ONNX model\n",
    "\n",
    "(this should likely be done in training notebook)"
   ]
  },
  {
   "cell_type": "code",
   "execution_count": 8,
   "id": "c04a5b2c",
   "metadata": {
    "execution": {
     "iopub.execute_input": "2022-07-04T06:52:37.858472Z",
     "iopub.status.busy": "2022-07-04T06:52:37.858197Z",
     "iopub.status.idle": "2022-07-04T06:52:37.863953Z",
     "shell.execute_reply": "2022-07-04T06:52:37.863400Z"
    },
    "papermill": {
     "duration": 0.014611,
     "end_time": "2022-07-04T06:52:37.867588",
     "exception": false,
     "start_time": "2022-07-04T06:52:37.852977",
     "status": "completed"
    },
    "tags": []
   },
   "outputs": [
    {
     "name": "stdout",
     "output_type": "stream",
     "text": [
      "{\n",
      "  \"inputs\": [\n",
      "    {\n",
      "      \"name\": \"float_input_8x8_image\",\n",
      "      \"shape\": [\n",
      "        null,\n",
      "        64\n",
      "      ],\n",
      "      \"type\": \"tensor(float)\"\n",
      "    }\n",
      "  ],\n",
      "  \"outputs\": [\n",
      "    {\n",
      "      \"name\": \"output_label\",\n",
      "      \"shape\": [\n",
      "        null\n",
      "      ],\n",
      "      \"type\": \"tensor(int64)\"\n",
      "    },\n",
      "    {\n",
      "      \"name\": \"output_probability\",\n",
      "      \"shape\": [],\n",
      "      \"type\": \"seq(map(int64,tensor(float)))\"\n",
      "    }\n",
      "  ]\n",
      "}\n"
     ]
    }
   ],
   "source": [
    "import json\n",
    "\n",
    "onnx_io = json.dumps(\n",
    "    {\n",
    "        \"inputs\": get_onnx_inputs(onnx_inference_session),\n",
    "        \"outputs\": get_onnx_outputs(onnx_inference_session),\n",
    "    },\n",
    "    indent=2,\n",
    ")\n",
    "\n",
    "\n",
    "logger.log_artefact(\"onnx_io_structure.json\", onnx_io)\n",
    "print(onnx_io)"
   ]
  },
  {
   "cell_type": "markdown",
   "id": "96a26181",
   "metadata": {
    "papermill": {
     "duration": 0.005593,
     "end_time": "2022-07-04T06:52:37.882468",
     "exception": false,
     "start_time": "2022-07-04T06:52:37.876875",
     "status": "completed"
    },
    "tags": []
   },
   "source": [
    "### Evaluate model performance on evaluation data set"
   ]
  },
  {
   "cell_type": "code",
   "execution_count": 9,
   "id": "e6eac78d",
   "metadata": {
    "execution": {
     "iopub.execute_input": "2022-07-04T06:52:37.892170Z",
     "iopub.status.busy": "2022-07-04T06:52:37.891904Z",
     "iopub.status.idle": "2022-07-04T06:52:37.897133Z",
     "shell.execute_reply": "2022-07-04T06:52:37.896571Z"
    },
    "papermill": {
     "duration": 0.012675,
     "end_time": "2022-07-04T06:52:37.899642",
     "exception": false,
     "start_time": "2022-07-04T06:52:37.886967",
     "status": "completed"
    },
    "tags": []
   },
   "outputs": [],
   "source": [
    "# load evaluation data\n",
    "X_test = read_numpy(datalake_root(P) / \"test-data\" / \"digits.numpy\")\n",
    "y_test = read_numpy(datalake_root(P) / \"test-data\" / \"labels.numpy\")"
   ]
  },
  {
   "cell_type": "code",
   "execution_count": 10,
   "id": "90881a13",
   "metadata": {
    "execution": {
     "iopub.execute_input": "2022-07-04T06:52:37.909814Z",
     "iopub.status.busy": "2022-07-04T06:52:37.909556Z",
     "iopub.status.idle": "2022-07-04T06:52:37.923761Z",
     "shell.execute_reply": "2022-07-04T06:52:37.923197Z"
    },
    "papermill": {
     "duration": 0.02145,
     "end_time": "2022-07-04T06:52:37.925668",
     "exception": false,
     "start_time": "2022-07-04T06:52:37.904218",
     "status": "completed"
    },
    "tags": []
   },
   "outputs": [],
   "source": [
    "def get_model_outputs(X, onnx_inference_session):\n",
    "    y_pred_labels, y_pred_map = onnx_inference_session.run(\n",
    "        [\"output_label\", \"output_probability\"],\n",
    "        {\"float_input_8x8_image\": X.astype(np.float32)},\n",
    "    )\n",
    "    y_pred_probs = np.array(\n",
    "        [[probabilities[digit] for digit in range(10)] for probabilities in y_pred_map]\n",
    "    )\n",
    "\n",
    "    assert y_pred_labels.shape == (X.shape[0],)\n",
    "    assert y_pred_probs.shape == (X.shape[0], 10)\n",
    "\n",
    "    return y_pred_labels, y_pred_probs\n",
    "\n",
    "\n",
    "# Note: as shown in the training notebook, the predicted labels and probabilities\n",
    "# computed below need not be compatible.\n",
    "y_pred_labels_test, y_pred_probs_test = get_model_outputs(\n",
    "    X_test, onnx_inference_session\n",
    ")"
   ]
  },
  {
   "cell_type": "markdown",
   "id": "43420c0b",
   "metadata": {
    "papermill": {
     "duration": 0.004425,
     "end_time": "2022-07-04T06:52:37.934765",
     "exception": false,
     "start_time": "2022-07-04T06:52:37.930340",
     "status": "completed"
    },
    "tags": []
   },
   "source": [
    "### Confusion matrix"
   ]
  },
  {
   "cell_type": "code",
   "execution_count": 11,
   "id": "841a0c69",
   "metadata": {
    "execution": {
     "iopub.execute_input": "2022-07-04T06:52:37.944589Z",
     "iopub.status.busy": "2022-07-04T06:52:37.944304Z",
     "iopub.status.idle": "2022-07-04T06:52:37.947388Z",
     "shell.execute_reply": "2022-07-04T06:52:37.946854Z"
    },
    "papermill": {
     "duration": 0.010486,
     "end_time": "2022-07-04T06:52:37.949654",
     "exception": false,
     "start_time": "2022-07-04T06:52:37.939168",
     "status": "completed"
    },
    "tags": []
   },
   "outputs": [],
   "source": [
    "# TODO"
   ]
  },
  {
   "cell_type": "markdown",
   "id": "a744d05e",
   "metadata": {
    "papermill": {
     "duration": 0.004547,
     "end_time": "2022-07-04T06:52:37.958466",
     "exception": false,
     "start_time": "2022-07-04T06:52:37.953919",
     "status": "completed"
    },
    "tags": []
   },
   "source": [
    "### Plot predicted probabilities for each classifier over all evaluation digit images"
   ]
  },
  {
   "cell_type": "code",
   "execution_count": 12,
   "id": "0be18c81",
   "metadata": {
    "execution": {
     "iopub.execute_input": "2022-07-04T06:52:37.968237Z",
     "iopub.status.busy": "2022-07-04T06:52:37.967961Z",
     "iopub.status.idle": "2022-07-04T06:52:40.920294Z",
     "shell.execute_reply": "2022-07-04T06:52:40.919617Z"
    },
    "papermill": {
     "duration": 2.95929,
     "end_time": "2022-07-04T06:52:40.921790",
     "exception": false,
     "start_time": "2022-07-04T06:52:37.962500",
     "status": "completed"
    },
    "tags": []
   },
   "outputs": [
    {
     "data": {
      "image/png": "[encoded data removed]",
      "text/plain": [
       "<Figure size 1152x432 with 10 Axes>"
      ]
     },
     "metadata": {
      "needs_background": "light"
     },
     "output_type": "display_data"
    }
   ],
   "source": [
    "def plot_per_digit_probabilities(y_pred_probs):\n",
    "    fig, axs = plt.subplots(nrows=2, ncols=5, figsize=(16, 6))\n",
    "\n",
    "    for (r, c), digit, ax in zip(\n",
    "        it.product(range(2), range(5)), range(10), axs.reshape(-1)\n",
    "    ):\n",
    "        ax.hist(y_pred_probs_test[:, digit], bins=20)\n",
    "\n",
    "        ax.set_title(f\"Digit {digit}\")\n",
    "        if r == 1 and c == 2:\n",
    "            ax.set_xlabel(\"probability\", fontsize=16)\n",
    "\n",
    "        if c == 0:\n",
    "            ax.set_ylabel(\"counts\", fontsize=16)\n",
    "        ax.set_yscale(\"log\")\n",
    "\n",
    "    fig.tight_layout()\n",
    "    fig.suptitle(\n",
    "        f\"Distributions of prediction probabilities for each digit \"\n",
    "        f\"(on evaluation data, n={y_pred_probs.shape[0]})\",\n",
    "        fontsize=20,\n",
    "    )\n",
    "    fig.tight_layout()\n",
    "    fig.show()\n",
    "\n",
    "    return fig\n",
    "\n",
    "\n",
    "fig = plot_per_digit_probabilities(y_pred_probs_test)"
   ]
  },
  {
   "cell_type": "markdown",
   "id": "1a219790",
   "metadata": {
    "papermill": {
     "duration": 0.004648,
     "end_time": "2022-07-04T06:52:40.931460",
     "exception": false,
     "start_time": "2022-07-04T06:52:40.926812",
     "status": "completed"
    },
    "tags": []
   },
   "source": [
    "From the above distributions we see that most digits have clear separation between\n",
    "high and lower probabilities. Morover, in each case there is roughly an order of\n",
    "magnitude more of digits with low probabilities. This is compatible with digits\n",
    "being roughly evenly distributed in the data."
   ]
  },
  {
   "cell_type": "code",
   "execution_count": 13,
   "id": "9f4bde31",
   "metadata": {
    "execution": {
     "iopub.execute_input": "2022-07-04T06:52:40.942485Z",
     "iopub.status.busy": "2022-07-04T06:52:40.942039Z",
     "iopub.status.idle": "2022-07-04T06:52:41.344735Z",
     "shell.execute_reply": "2022-07-04T06:52:41.342600Z"
    },
    "papermill": {
     "duration": 0.410617,
     "end_time": "2022-07-04T06:52:41.346735",
     "exception": false,
     "start_time": "2022-07-04T06:52:40.936118",
     "status": "completed"
    },
    "tags": []
   },
   "outputs": [],
   "source": [
    "logger.log_figure(\"per-digit-probabilities.png\", fig)"
   ]
  },
  {
   "cell_type": "markdown",
   "id": "996a394e",
   "metadata": {
    "papermill": {
     "duration": 0.006392,
     "end_time": "2022-07-04T06:52:41.361978",
     "exception": false,
     "start_time": "2022-07-04T06:52:41.355586",
     "status": "completed"
    },
    "tags": []
   },
   "source": [
    "### Plot ROC curves for individual one-vs-rest classifiers"
   ]
  },
  {
   "cell_type": "code",
   "execution_count": 14,
   "id": "ef0b626a",
   "metadata": {
    "execution": {
     "iopub.execute_input": "2022-07-04T06:52:41.373997Z",
     "iopub.status.busy": "2022-07-04T06:52:41.373648Z",
     "iopub.status.idle": "2022-07-04T06:52:41.751616Z",
     "shell.execute_reply": "2022-07-04T06:52:41.750547Z"
    },
    "papermill": {
     "duration": 0.38948,
     "end_time": "2022-07-04T06:52:41.756758",
     "exception": false,
     "start_time": "2022-07-04T06:52:41.367278",
     "status": "completed"
    },
    "tags": []
   },
   "outputs": [],
   "source": [
    "from sklearn import metrics"
   ]
  },
  {
   "cell_type": "code",
   "execution_count": 15,
   "id": "050cbdb8",
   "metadata": {
    "execution": {
     "iopub.execute_input": "2022-07-04T06:52:41.775128Z",
     "iopub.status.busy": "2022-07-04T06:52:41.774348Z",
     "iopub.status.idle": "2022-07-04T06:52:42.902414Z",
     "shell.execute_reply": "2022-07-04T06:52:42.899567Z"
    },
    "papermill": {
     "duration": 1.142901,
     "end_time": "2022-07-04T06:52:42.904574",
     "exception": false,
     "start_time": "2022-07-04T06:52:41.761673",
     "status": "completed"
    },
    "tags": []
   },
   "outputs": [
    {
     "data": {
      "image/png": "[encoded data removed]",
      "text/plain": [
       "<Figure size 1152x576 with 10 Axes>"
      ]
     },
     "metadata": {
      "needs_background": "light"
     },
     "output_type": "display_data"
    }
   ],
   "source": [
    "def plot_roc_curves(y, y_pred_probs):\n",
    "    # based on example code\n",
    "    # https://scikit-learn.org/stable/auto_examples/model_selection/plot_roc.html\n",
    "\n",
    "    fig, axs = plt.subplots(nrows=2, ncols=5, figsize=(16, 8))\n",
    "\n",
    "    roc_auc_dict = {}\n",
    "\n",
    "    for (r, c), digit, ax in zip(\n",
    "        it.product(range(2), range(5)), range(10), axs.reshape(-1)\n",
    "    ):\n",
    "        fpr, tpr, _ = metrics.roc_curve(y == digit, y_pred_probs[:, digit])\n",
    "        auc = metrics.auc(fpr, tpr)\n",
    "        roc_auc_dict[str(digit)] = auc\n",
    "\n",
    "        ax.plot(fpr, tpr, label=f\"ROC AUC={round(auc, 3)}\")\n",
    "\n",
    "        ax.set_title(f\"\\nDigit {digit}\", fontsize=16)\n",
    "        if r == 1:\n",
    "            ax.set_xlabel(\"FPR\", fontsize=18)\n",
    "\n",
    "        if c == 0:\n",
    "            ax.set_ylabel(\"TPR\", fontsize=18)\n",
    "\n",
    "        ax.set_xlim([-0.05, 1.05])\n",
    "        ax.set_ylim([-0.05, 1.05])\n",
    "        ax.legend(loc=\"lower right\", frameon=False, fontsize=14)\n",
    "\n",
    "    fig.tight_layout()\n",
    "    fig.suptitle(\n",
    "        f\"ROC plots for one-vs-rest performances \"\n",
    "        f\"(on evaluation data, n={y_pred_probs_test.shape[1]}\",\n",
    "        fontsize=22,\n",
    "    )\n",
    "    fig.tight_layout()\n",
    "    fig.show()\n",
    "\n",
    "    return roc_auc_dict, fig\n",
    "\n",
    "\n",
    "roc_auc_dict, fig = plot_roc_curves(y_test, y_pred_probs_test)"
   ]
  },
  {
   "cell_type": "code",
   "execution_count": 16,
   "id": "0a42bcdf",
   "metadata": {
    "execution": {
     "iopub.execute_input": "2022-07-04T06:52:42.918098Z",
     "iopub.status.busy": "2022-07-04T06:52:42.917829Z",
     "iopub.status.idle": "2022-07-04T06:52:43.152196Z",
     "shell.execute_reply": "2022-07-04T06:52:43.151452Z"
    },
    "papermill": {
     "duration": 0.243078,
     "end_time": "2022-07-04T06:52:43.153955",
     "exception": false,
     "start_time": "2022-07-04T06:52:42.910877",
     "status": "completed"
    },
    "tags": []
   },
   "outputs": [],
   "source": [
    "logger.log_figure(\"per-digit-roc-curves.png\", fig)"
   ]
  },
  {
   "cell_type": "code",
   "execution_count": 17,
   "id": "7025e796",
   "metadata": {
    "execution": {
     "iopub.execute_input": "2022-07-04T06:52:43.167739Z",
     "iopub.status.busy": "2022-07-04T06:52:43.167399Z",
     "iopub.status.idle": "2022-07-04T06:52:43.172329Z",
     "shell.execute_reply": "2022-07-04T06:52:43.171674Z"
    },
    "papermill": {
     "duration": 0.014468,
     "end_time": "2022-07-04T06:52:43.174871",
     "exception": false,
     "start_time": "2022-07-04T06:52:43.160403",
     "status": "completed"
    },
    "tags": []
   },
   "outputs": [
    {
     "data": {
      "text/plain": [
       "{'0': 1.0,\n",
       " '1': 0.999025304592315,\n",
       " '2': 1.0,\n",
       " '3': 0.9998500468603562,\n",
       " '4': 0.9996189605243103,\n",
       " '5': 0.9994376757263355,\n",
       " '6': 0.999923792104862,\n",
       " '7': 0.9997713763145862,\n",
       " '8': 0.9951529003783102,\n",
       " '9': 0.9995808565767413}"
      ]
     },
     "execution_count": 17,
     "metadata": {},
     "output_type": "execute_result"
    }
   ],
   "source": [
    "roc_auc_dict"
   ]
  },
  {
   "cell_type": "code",
   "execution_count": 18,
   "id": "dd605219",
   "metadata": {
    "execution": {
     "iopub.execute_input": "2022-07-04T06:52:43.188310Z",
     "iopub.status.busy": "2022-07-04T06:52:43.187972Z",
     "iopub.status.idle": "2022-07-04T06:52:43.192131Z",
     "shell.execute_reply": "2022-07-04T06:52:43.191466Z"
    },
    "papermill": {
     "duration": 0.01369,
     "end_time": "2022-07-04T06:52:43.194720",
     "exception": false,
     "start_time": "2022-07-04T06:52:43.181030",
     "status": "completed"
    },
    "tags": []
   },
   "outputs": [
    {
     "name": "stdout",
     "output_type": "stream",
     "text": [
      " - Logging roc_auc_per_digit (json) : {'0': 1.0, '1': 0.999025304592315, '2': 1.0, '3': 0.9998500468603562, '4': 0.9996189605243103, '5': 0.9994376757263355, '6': 0.999923792104862, '7': 0.9997713763145862, '8': 0.9951529003783102, '9': 0.9995808565767413}\n"
     ]
    }
   ],
   "source": [
    "logger.log_value(\"roc_auc_per_digit\", roc_auc_dict)"
   ]
  },
  {
   "cell_type": "markdown",
   "id": "9baef018",
   "metadata": {
    "papermill": {
     "duration": 0.006146,
     "end_time": "2022-07-04T06:52:43.206711",
     "exception": false,
     "start_time": "2022-07-04T06:52:43.200565",
     "status": "completed"
    },
    "tags": []
   },
   "source": [
    "### Compute and log mean ROC AUC score averaged over all digits"
   ]
  },
  {
   "cell_type": "code",
   "execution_count": 19,
   "id": "3dee76ec",
   "metadata": {
    "execution": {
     "iopub.execute_input": "2022-07-04T06:52:43.225022Z",
     "iopub.status.busy": "2022-07-04T06:52:43.224742Z",
     "iopub.status.idle": "2022-07-04T06:52:43.239548Z",
     "shell.execute_reply": "2022-07-04T06:52:43.238793Z"
    },
    "papermill": {
     "duration": 0.024464,
     "end_time": "2022-07-04T06:52:43.241146",
     "exception": false,
     "start_time": "2022-07-04T06:52:43.216682",
     "status": "completed"
    },
    "tags": []
   },
   "outputs": [
    {
     "name": "stdout",
     "output_type": "stream",
     "text": [
      " - Logging roc_auc_class_mean (float) : 0.9992360913077818\n"
     ]
    }
   ],
   "source": [
    "roc_auc_macro = np.mean(list(roc_auc_dict.values()))\n",
    "\n",
    "logger.log_float(\"roc_auc_class_mean\", roc_auc_macro)\n",
    "\n",
    "# assert that the same value can be computed directly using sklearn\n",
    "assert roc_auc_macro == metrics.roc_auc_score(\n",
    "    y_test, y_pred_probs_test, average=\"macro\", multi_class=\"ovr\"\n",
    ")"
   ]
  },
  {
   "cell_type": "code",
   "execution_count": 20,
   "id": "09326019",
   "metadata": {
    "execution": {
     "iopub.execute_input": "2022-07-04T06:52:43.255010Z",
     "iopub.status.busy": "2022-07-04T06:52:43.254725Z",
     "iopub.status.idle": "2022-07-04T06:52:43.258066Z",
     "shell.execute_reply": "2022-07-04T06:52:43.257327Z"
    },
    "lines_to_next_cell": 0,
    "papermill": {
     "duration": 0.01282,
     "end_time": "2022-07-04T06:52:43.260180",
     "exception": false,
     "start_time": "2022-07-04T06:52:43.247360",
     "status": "completed"
    },
    "tags": []
   },
   "outputs": [],
   "source": [
    "# ---"
   ]
  },
  {
   "cell_type": "code",
   "execution_count": null,
   "id": "ee539512",
   "metadata": {
    "papermill": {
     "duration": 0.006384,
     "end_time": "2022-07-04T06:52:43.272377",
     "exception": false,
     "start_time": "2022-07-04T06:52:43.265993",
     "status": "completed"
    },
    "tags": []
   },
   "outputs": [],
   "source": []
  }
 ],
 "metadata": {
  "jupytext": {
   "cell_metadata_filter": "tags,-all",
   "main_language": "python",
   "notebook_metadata_filter": "-all"
  },
  "language_info": {
   "codemirror_mode": {
    "name": "ipython",
    "version": 3
   },
   "file_extension": ".py",
   "mimetype": "text/x-python",
   "name": "python",
   "nbconvert_exporter": "python",
   "pygments_lexer": "ipython3",
   "version": "3.8.10"
  },
  "papermill": {
   "default_parameters": {},
   "duration": 9.363512,
   "end_time": "2022-07-04T06:52:44.397940",
   "environment_variables": {},
   "exception": null,
   "input_path": "/home/host_user/workspace/mnist-demo-pipeline/mnist-demo-pipeline/notebooks/temp-notebook-pfk608mp.ipynb",
   "output_path": "notebooks/benchmark-model.ipynb",
   "parameters": {
    "P": {
     "_opentelemetry_traceparent": "00-0b7f1bf11e5cfed8c62638a4aa1d15b6-fe990d49af7fb182-01",
     "pipeline.data_lake_root": "/pipeline-outputs/data-lake",
     "pipeline.github.actor": "matiasdahl",
     "pipeline.github.base_ref": "",
     "pipeline.github.event_name": "schedule",
     "pipeline.github.head_ref": "",
     "pipeline.github.job": "run-tests-pipeline-and-persist-pipeline-outputs",
     "pipeline.github.ref": "refs/heads/development",
     "pipeline.github.ref_name": "development",
     "pipeline.github.ref_type": "branch",
     "pipeline.github.repository": "pynb-dag-runner/mnist-digits-demo-pipeline",
     "pipeline.github.run_id": "2608212936",
     "pipeline.github.runner_name": "Hosted Agent",
     "pipeline.github.sha": "f934c58f68028b7bb026059d4e87e6d32a1bbd20",
     "pipeline.github.workflow": "Run automated tests, pipeline and deploy results to static reporting site",
     "pipeline.pipeline_run_id": "f1e020c4-fe8c-41d7-bbf7-bf95d4453b33",
     "pipeline.run_environment": "ci",
     "run.retry_nr": "0",
     "task.max_nr_retries": "1",
     "task.notebook": "notebooks/benchmark-model.py",
     "task.nr_train_images": 1000,
     "task.num_cpus": 1,
     "task.timeout_s": "None"
    }
   },
   "start_time": "2022-07-04T06:52:35.034428",
   "version": "2.3.3"
  }
 },
 "nbformat": 4,
 "nbformat_minor": 5
}