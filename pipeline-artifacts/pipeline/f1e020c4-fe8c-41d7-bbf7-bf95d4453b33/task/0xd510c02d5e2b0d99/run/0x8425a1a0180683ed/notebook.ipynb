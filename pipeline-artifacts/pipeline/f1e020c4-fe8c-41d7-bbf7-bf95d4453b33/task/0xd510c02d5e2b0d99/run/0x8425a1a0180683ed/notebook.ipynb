{
 "cells": [
  {
   "cell_type": "markdown",
   "id": "6e915090",
   "metadata": {
    "papermill": {
     "duration": 0.004016,
     "end_time": "2022-07-04T06:52:23.909584",
     "exception": false,
     "start_time": "2022-07-04T06:52:23.905568",
     "status": "completed"
    },
    "tags": []
   },
   "source": [
    "# Train model\n",
    "\n",
    "The purpose of this notebook is:\n",
    "\n",
    "- Load all training data (images and labels).\n",
    "- Limit number of train images to `task.nr_train_images` (value provided as run parameter).\n",
    "- Train a support vector machine model using sklearn.\n",
    "- Persist the trained model using the ONNX format."
   ]
  },
  {
   "cell_type": "markdown",
   "id": "2d96d1de",
   "metadata": {
    "papermill": {
     "duration": 0.002858,
     "end_time": "2022-07-04T06:52:23.916855",
     "exception": false,
     "start_time": "2022-07-04T06:52:23.913997",
     "status": "completed"
    },
    "tags": []
   },
   "source": [
    "### Determine run parameters"
   ]
  },
  {
   "cell_type": "code",
   "execution_count": 1,
   "id": "30269410",
   "metadata": {
    "execution": {
     "iopub.execute_input": "2022-07-04T06:52:23.925404Z",
     "iopub.status.busy": "2022-07-04T06:52:23.925096Z",
     "iopub.status.idle": "2022-07-04T06:52:23.932999Z",
     "shell.execute_reply": "2022-07-04T06:52:23.932013Z"
    },
    "lines_to_next_cell": 0,
    "papermill": {
     "duration": 0.016251,
     "end_time": "2022-07-04T06:52:23.935849",
     "exception": false,
     "start_time": "2022-07-04T06:52:23.919598",
     "status": "completed"
    },
    "tags": []
   },
   "outputs": [],
   "source": [
    "# ----------------- Parameters for interactive development --------------\n",
    "P = {\n",
    "    \"pipeline.data_lake_root\": \"/pipeline-outputs/data-lake\",\n",
    "    \"task.nr_train_images\": 600,\n",
    "}"
   ]
  },
  {
   "cell_type": "code",
   "execution_count": 2,
   "id": "4cbed67c",
   "metadata": {
    "execution": {
     "iopub.execute_input": "2022-07-04T06:52:23.948284Z",
     "iopub.status.busy": "2022-07-04T06:52:23.948033Z",
     "iopub.status.idle": "2022-07-04T06:52:23.951455Z",
     "shell.execute_reply": "2022-07-04T06:52:23.950909Z"
    },
    "lines_to_next_cell": 0,
    "papermill": {
     "duration": 0.010679,
     "end_time": "2022-07-04T06:52:23.954995",
     "exception": false,
     "start_time": "2022-07-04T06:52:23.944316",
     "status": "completed"
    },
    "tags": [
     "parameters"
    ]
   },
   "outputs": [],
   "source": [
    "# - During automated runs parameters will be injected in the below cell -"
   ]
  },
  {
   "cell_type": "code",
   "execution_count": 3,
   "id": "99a07bf9",
   "metadata": {
    "execution": {
     "iopub.execute_input": "2022-07-04T06:52:23.962747Z",
     "iopub.status.busy": "2022-07-04T06:52:23.962471Z",
     "iopub.status.idle": "2022-07-04T06:52:23.967687Z",
     "shell.execute_reply": "2022-07-04T06:52:23.967156Z"
    },
    "papermill": {
     "duration": 0.012497,
     "end_time": "2022-07-04T06:52:23.970292",
     "exception": false,
     "start_time": "2022-07-04T06:52:23.957795",
     "status": "completed"
    },
    "tags": [
     "injected-parameters"
    ]
   },
   "outputs": [],
   "source": [
    "# Parameters\n",
    "P = {\n",
    "    \"pipeline.data_lake_root\": \"/pipeline-outputs/data-lake\",\n",
    "    \"pipeline.run_environment\": \"ci\",\n",
    "    \"pipeline.pipeline_run_id\": \"f1e020c4-fe8c-41d7-bbf7-bf95d4453b33\",\n",
    "    \"pipeline.github.repository\": \"pynb-dag-runner/mnist-digits-demo-pipeline\",\n",
    "    \"pipeline.github.workflow\": \"Run automated tests, pipeline and deploy results to static reporting site\",\n",
    "    \"pipeline.github.runner_name\": \"Hosted Agent\",\n",
    "    \"pipeline.github.run_id\": \"2608212936\",\n",
    "    \"pipeline.github.actor\": \"matiasdahl\",\n",
    "    \"pipeline.github.job\": \"run-tests-pipeline-and-persist-pipeline-outputs\",\n",
    "    \"pipeline.github.base_ref\": \"\",\n",
    "    \"pipeline.github.head_ref\": \"\",\n",
    "    \"pipeline.github.sha\": \"f934c58f68028b7bb026059d4e87e6d32a1bbd20\",\n",
    "    \"pipeline.github.ref\": \"refs/heads/development\",\n",
    "    \"pipeline.github.ref_type\": \"branch\",\n",
    "    \"pipeline.github.ref_name\": \"development\",\n",
    "    \"pipeline.github.event_name\": \"schedule\",\n",
    "    \"task.nr_train_images\": 600,\n",
    "    \"task.notebook\": \"notebooks/train-model.py\",\n",
    "    \"task.max_nr_retries\": \"1\",\n",
    "    \"run.retry_nr\": \"0\",\n",
    "    \"task.timeout_s\": \"None\",\n",
    "    \"task.num_cpus\": 1,\n",
    "    \"_opentelemetry_traceparent\": \"00-0b7f1bf11e5cfed8c62638a4aa1d15b6-22f8323909e702e7-01\",\n",
    "}\n"
   ]
  },
  {
   "cell_type": "code",
   "execution_count": 4,
   "id": "497d994f",
   "metadata": {
    "execution": {
     "iopub.execute_input": "2022-07-04T06:52:23.978900Z",
     "iopub.status.busy": "2022-07-04T06:52:23.978639Z",
     "iopub.status.idle": "2022-07-04T06:52:23.982389Z",
     "shell.execute_reply": "2022-07-04T06:52:23.981857Z"
    },
    "lines_to_next_cell": 0,
    "papermill": {
     "duration": 0.012135,
     "end_time": "2022-07-04T06:52:23.985735",
     "exception": false,
     "start_time": "2022-07-04T06:52:23.973600",
     "status": "completed"
    },
    "tags": []
   },
   "outputs": [],
   "source": [
    "# -----------------------------------------------------------------------"
   ]
  },
  {
   "cell_type": "markdown",
   "id": "da4c501f",
   "metadata": {
    "papermill": {
     "duration": 0.003415,
     "end_time": "2022-07-04T06:52:23.992281",
     "exception": false,
     "start_time": "2022-07-04T06:52:23.988866",
     "status": "completed"
    },
    "tags": []
   },
   "source": [
    "---"
   ]
  },
  {
   "cell_type": "markdown",
   "id": "e839e1e9",
   "metadata": {
    "lines_to_next_cell": 2,
    "papermill": {
     "duration": 0.002823,
     "end_time": "2022-07-04T06:52:23.998903",
     "exception": false,
     "start_time": "2022-07-04T06:52:23.996080",
     "status": "completed"
    },
    "tags": []
   },
   "source": [
    "### Notebook code"
   ]
  },
  {
   "cell_type": "code",
   "execution_count": 5,
   "id": "8ac8d6b7",
   "metadata": {
    "execution": {
     "iopub.execute_input": "2022-07-04T06:52:24.006797Z",
     "iopub.status.busy": "2022-07-04T06:52:24.006537Z",
     "iopub.status.idle": "2022-07-04T06:52:24.518123Z",
     "shell.execute_reply": "2022-07-04T06:52:24.517393Z"
    },
    "papermill": {
     "duration": 0.517909,
     "end_time": "2022-07-04T06:52:24.519989",
     "exception": false,
     "start_time": "2022-07-04T06:52:24.002080",
     "status": "completed"
    },
    "tags": []
   },
   "outputs": [
    {
     "name": "stderr",
     "output_type": "stream",
     "text": [
      "2022-07-04 06:52:24,343\tINFO worker.py:842 -- Connecting to existing Ray cluster at address: 172.17.0.2:6379\n"
     ]
    }
   ],
   "source": [
    "from pynb_dag_runner.tasks.task_opentelemetry_logging import PydarLogger\n",
    "\n",
    "logger = PydarLogger(P)"
   ]
  },
  {
   "cell_type": "markdown",
   "id": "95e08356",
   "metadata": {
    "papermill": {
     "duration": 0.003864,
     "end_time": "2022-07-04T06:52:24.527302",
     "exception": false,
     "start_time": "2022-07-04T06:52:24.523438",
     "status": "completed"
    },
    "tags": []
   },
   "source": [
    "## Load and limit train data"
   ]
  },
  {
   "cell_type": "code",
   "execution_count": 6,
   "id": "7e7ff995",
   "metadata": {
    "execution": {
     "iopub.execute_input": "2022-07-04T06:52:24.535292Z",
     "iopub.status.busy": "2022-07-04T06:52:24.534943Z",
     "iopub.status.idle": "2022-07-04T06:52:24.930292Z",
     "shell.execute_reply": "2022-07-04T06:52:24.929620Z"
    },
    "papermill": {
     "duration": 0.40154,
     "end_time": "2022-07-04T06:52:24.932117",
     "exception": false,
     "start_time": "2022-07-04T06:52:24.530577",
     "status": "completed"
    },
    "tags": []
   },
   "outputs": [],
   "source": [
    "def load_and_limit_train_data(P):\n",
    "    from common.io import datalake_root, read_numpy\n",
    "    from sklearn.model_selection import train_test_split\n",
    "\n",
    "    X_train_all = read_numpy(datalake_root(P) / \"train-data\" / \"digits.numpy\")\n",
    "    y_train_all = read_numpy(datalake_root(P) / \"train-data\" / \"labels.numpy\")\n",
    "\n",
    "    assert isinstance(P[\"task.nr_train_images\"], int)\n",
    "\n",
    "    # Note: train_test_split will fail if split is 0 or 100%.\n",
    "    assert 0 < P[\"task.nr_train_images\"] < len(y_train_all)\n",
    "\n",
    "    X_train, _, y_train, _ = train_test_split(\n",
    "        X_train_all,\n",
    "        y_train_all,\n",
    "        train_size=P[\"task.nr_train_images\"],\n",
    "        test_size=None,\n",
    "        stratify=y_train_all,\n",
    "        shuffle=True,\n",
    "        random_state=123,\n",
    "    )\n",
    "\n",
    "    assert X_train.shape == (len(y_train), 8 * 8)\n",
    "    return X_train, y_train\n",
    "\n",
    "\n",
    "X_train, y_train = load_and_limit_train_data(P)"
   ]
  },
  {
   "cell_type": "markdown",
   "id": "8ec6aad4",
   "metadata": {
    "papermill": {
     "duration": 0.002942,
     "end_time": "2022-07-04T06:52:24.938576",
     "exception": false,
     "start_time": "2022-07-04T06:52:24.935634",
     "status": "completed"
    },
    "tags": []
   },
   "source": [
    "## Train support vector classifier model\n",
    "\n",
    "Below we assume that the hyperparameter $C$ is known.\n",
    "\n",
    "However, this should ideally be found by a hyperparameter search. That could be\n",
    "done in parallel on the Ray cluster, but this needs some more work. Ie., to use\n",
    "multiple cores in the notebook, those cores should be reserved when starting the\n",
    "notebook task (TODO).\n",
    "\n",
    "- https://docs.ray.io/en/latest/tune/key-concepts.html\n",
    "\n",
    "Note: cv-scores would need to be computed here, since they depend on the train data.\n",
    "After this notebook only the onnx-model is available."
   ]
  },
  {
   "cell_type": "code",
   "execution_count": 7,
   "id": "2b6f567d",
   "metadata": {
    "execution": {
     "iopub.execute_input": "2022-07-04T06:52:24.945969Z",
     "iopub.status.busy": "2022-07-04T06:52:24.945604Z",
     "iopub.status.idle": "2022-07-04T06:52:24.969245Z",
     "shell.execute_reply": "2022-07-04T06:52:24.968512Z"
    },
    "papermill": {
     "duration": 0.029256,
     "end_time": "2022-07-04T06:52:24.970896",
     "exception": false,
     "start_time": "2022-07-04T06:52:24.941640",
     "status": "completed"
    },
    "tags": []
   },
   "outputs": [],
   "source": [
    "from sklearn.svm import SVC"
   ]
  },
  {
   "cell_type": "code",
   "execution_count": 8,
   "id": "3aac96f1",
   "metadata": {
    "execution": {
     "iopub.execute_input": "2022-07-04T06:52:24.980672Z",
     "iopub.status.busy": "2022-07-04T06:52:24.980075Z",
     "iopub.status.idle": "2022-07-04T06:52:25.070061Z",
     "shell.execute_reply": "2022-07-04T06:52:25.067807Z"
    },
    "papermill": {
     "duration": 0.096317,
     "end_time": "2022-07-04T06:52:25.071610",
     "exception": false,
     "start_time": "2022-07-04T06:52:24.975293",
     "status": "completed"
    },
    "tags": []
   },
   "outputs": [
    {
     "data": {
      "text/plain": [
       "SVC(C=0.001, kernel='linear', probability=True)"
      ]
     },
     "execution_count": 8,
     "metadata": {},
     "output_type": "execute_result"
    }
   ],
   "source": [
    "model = SVC(C=0.001, kernel=\"linear\", probability=True)\n",
    "\n",
    "model.fit(X_train, y_train)"
   ]
  },
  {
   "cell_type": "markdown",
   "id": "88343039",
   "metadata": {
    "papermill": {
     "duration": 0.003442,
     "end_time": "2022-07-04T06:52:25.078467",
     "exception": false,
     "start_time": "2022-07-04T06:52:25.075025",
     "status": "completed"
    },
    "tags": []
   },
   "source": [
    "### Q: Can the labels returned by `predict(..)` be computed from probabilities returned by the `predict_prob`-method?"
   ]
  },
  {
   "cell_type": "code",
   "execution_count": 9,
   "id": "f36e4132",
   "metadata": {
    "execution": {
     "iopub.execute_input": "2022-07-04T06:52:25.086057Z",
     "iopub.status.busy": "2022-07-04T06:52:25.085642Z",
     "iopub.status.idle": "2022-07-04T06:52:25.123617Z",
     "shell.execute_reply": "2022-07-04T06:52:25.122974Z"
    },
    "papermill": {
     "duration": 0.043763,
     "end_time": "2022-07-04T06:52:25.125268",
     "exception": false,
     "start_time": "2022-07-04T06:52:25.081505",
     "status": "completed"
    },
    "tags": []
   },
   "outputs": [
    {
     "name": "stdout",
     "output_type": "stream",
     "text": [
      " - Logging nr_max_prob_neq_label (int) : 2\n"
     ]
    }
   ],
   "source": [
    "import numpy as np\n",
    "\n",
    "y_train_labels = model.predict(X_train)\n",
    "y_train_probabilities = model.predict_proba(X_train)\n",
    "assert y_train_probabilities.shape == (len(y_train), 10)\n",
    "\n",
    "y_train_max_prob_labels = np.argmax(y_train_probabilities, axis=1)\n",
    "assert y_train_labels.shape == y_train_max_prob_labels.shape == y_train.shape\n",
    "\n",
    "# If the predicted labels would coincide with the labels that have\n",
    "# maximum probability, the below number would be zero\n",
    "logger.log_int(\n",
    "    \"nr_max_prob_neq_label\", int(sum(y_train_max_prob_labels != y_train_labels))\n",
    ")"
   ]
  },
  {
   "cell_type": "markdown",
   "id": "76f180fe",
   "metadata": {
    "papermill": {
     "duration": 0.003291,
     "end_time": "2022-07-04T06:52:25.131803",
     "exception": false,
     "start_time": "2022-07-04T06:52:25.128512",
     "status": "completed"
    },
    "tags": []
   },
   "source": [
    "The explanation is (likely) explained in the SVC source, see\n",
    "[here](https://github.com/scikit-learn/scikit-learn/blob/main/sklearn/svm/_base.py).\n",
    "Namely, the outputs from `predict(..)` and `predict_proba(..)` may not in some\n",
    "cases be compatible since the latter is computed using cross-validation while\n",
    "the former is not. Thus, the above number need not be zero."
   ]
  },
  {
   "cell_type": "markdown",
   "id": "992e7251",
   "metadata": {
    "papermill": {
     "duration": 0.00309,
     "end_time": "2022-07-04T06:52:25.137960",
     "exception": false,
     "start_time": "2022-07-04T06:52:25.134870",
     "status": "completed"
    },
    "tags": []
   },
   "source": [
    "## Persist model"
   ]
  },
  {
   "cell_type": "code",
   "execution_count": 10,
   "id": "018ad2c8",
   "metadata": {
    "execution": {
     "iopub.execute_input": "2022-07-04T06:52:25.146311Z",
     "iopub.status.busy": "2022-07-04T06:52:25.145943Z",
     "iopub.status.idle": "2022-07-04T06:52:25.865472Z",
     "shell.execute_reply": "2022-07-04T06:52:25.864720Z"
    },
    "papermill": {
     "duration": 0.725974,
     "end_time": "2022-07-04T06:52:25.867197",
     "exception": false,
     "start_time": "2022-07-04T06:52:25.141223",
     "status": "completed"
    },
    "tags": []
   },
   "outputs": [],
   "source": [
    "from skl2onnx import convert_sklearn\n",
    "from skl2onnx.common.data_types import FloatTensorType\n",
    "\n",
    "#\n",
    "from common.io import datalake_root, write_onnx"
   ]
  },
  {
   "cell_type": "code",
   "execution_count": 11,
   "id": "49baa808",
   "metadata": {
    "execution": {
     "iopub.execute_input": "2022-07-04T06:52:25.875600Z",
     "iopub.status.busy": "2022-07-04T06:52:25.875243Z",
     "iopub.status.idle": "2022-07-04T06:52:25.922204Z",
     "shell.execute_reply": "2022-07-04T06:52:25.921640Z"
    },
    "papermill": {
     "duration": 0.053212,
     "end_time": "2022-07-04T06:52:25.923871",
     "exception": false,
     "start_time": "2022-07-04T06:52:25.870659",
     "status": "completed"
    },
    "tags": []
   },
   "outputs": [],
   "source": [
    "# convert sklearn model into onnx and persist to data lake\n",
    "\n",
    "model_onnx = convert_sklearn(\n",
    "    model, initial_types=[(\"float_input_8x8_image\", FloatTensorType([None, 8 * 8]))]\n",
    ")\n",
    "write_onnx(\n",
    "    datalake_root(P)\n",
    "    / \"models\"\n",
    "    / f\"nr_train_images={P['task.nr_train_images']}\"\n",
    "    / \"model.onnx\",\n",
    "    model_onnx,\n",
    ")"
   ]
  },
  {
   "cell_type": "code",
   "execution_count": null,
   "id": "0d7969ed",
   "metadata": {
    "papermill": {
     "duration": 0.003974,
     "end_time": "2022-07-04T06:52:25.932043",
     "exception": false,
     "start_time": "2022-07-04T06:52:25.928069",
     "status": "completed"
    },
    "tags": []
   },
   "outputs": [],
   "source": []
  }
 ],
 "metadata": {
  "jupytext": {
   "cell_metadata_filter": "tags,-all",
   "main_language": "python",
   "notebook_metadata_filter": "-all"
  },
  "language_info": {
   "codemirror_mode": {
    "name": "ipython",
    "version": 3
   },
   "file_extension": ".py",
   "mimetype": "text/x-python",
   "name": "python",
   "nbconvert_exporter": "python",
   "pygments_lexer": "ipython3",
   "version": "3.8.10"
  },
  "papermill": {
   "default_parameters": {},
   "duration": 4.386259,
   "end_time": "2022-07-04T06:52:26.961049",
   "environment_variables": {},
   "exception": null,
   "input_path": "/home/host_user/workspace/mnist-demo-pipeline/mnist-demo-pipeline/notebooks/temp-notebook-w3_a5_py.ipynb",
   "output_path": "notebooks/train-model.ipynb",
   "parameters": {
    "P": {
     "_opentelemetry_traceparent": "00-0b7f1bf11e5cfed8c62638a4aa1d15b6-22f8323909e702e7-01",
     "pipeline.data_lake_root": "/pipeline-outputs/data-lake",
     "pipeline.github.actor": "matiasdahl",
     "pipeline.github.base_ref": "",
     "pipeline.github.event_name": "schedule",
     "pipeline.github.head_ref": "",
     "pipeline.github.job": "run-tests-pipeline-and-persist-pipeline-outputs",
     "pipeline.github.ref": "refs/heads/development",
     "pipeline.github.ref_name": "development",
     "pipeline.github.ref_type": "branch",
     "pipeline.github.repository": "pynb-dag-runner/mnist-digits-demo-pipeline",
     "pipeline.github.run_id": "2608212936",
     "pipeline.github.runner_name": "Hosted Agent",
     "pipeline.github.sha": "f934c58f68028b7bb026059d4e87e6d32a1bbd20",
     "pipeline.github.workflow": "Run automated tests, pipeline and deploy results to static reporting site",
     "pipeline.pipeline_run_id": "f1e020c4-fe8c-41d7-bbf7-bf95d4453b33",
     "pipeline.run_environment": "ci",
     "run.retry_nr": "0",
     "task.max_nr_retries": "1",
     "task.notebook": "notebooks/train-model.py",
     "task.nr_train_images": 600,
     "task.num_cpus": 1,
     "task.timeout_s": "None"
    }
   },
   "start_time": "2022-07-04T06:52:22.574790",
   "version": "2.3.3"
  }
 },
 "nbformat": 4,
 "nbformat_minor": 5
}