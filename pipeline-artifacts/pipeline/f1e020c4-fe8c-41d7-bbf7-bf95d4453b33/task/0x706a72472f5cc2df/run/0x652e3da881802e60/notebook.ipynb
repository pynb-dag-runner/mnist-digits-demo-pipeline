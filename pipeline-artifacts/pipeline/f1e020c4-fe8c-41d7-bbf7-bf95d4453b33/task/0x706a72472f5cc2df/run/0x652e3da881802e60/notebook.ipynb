{
 "cells": [
  {
   "cell_type": "markdown",
   "id": "e0703004",
   "metadata": {
    "papermill": {
     "duration": 0.006196,
     "end_time": "2022-07-04T06:52:17.991971",
     "exception": false,
     "start_time": "2022-07-04T06:52:17.985775",
     "status": "completed"
    },
    "tags": []
   },
   "source": [
    "# Train model\n",
    "\n",
    "The purpose of this notebook is:\n",
    "\n",
    "- Load all training data (images and labels).\n",
    "- Limit number of train images to `task.nr_train_images` (value provided as run parameter).\n",
    "- Train a support vector machine model using sklearn.\n",
    "- Persist the trained model using the ONNX format."
   ]
  },
  {
   "cell_type": "markdown",
   "id": "e8b2cc81",
   "metadata": {
    "papermill": {
     "duration": 0.002882,
     "end_time": "2022-07-04T06:52:18.000686",
     "exception": false,
     "start_time": "2022-07-04T06:52:17.997804",
     "status": "completed"
    },
    "tags": []
   },
   "source": [
    "### Determine run parameters"
   ]
  },
  {
   "cell_type": "code",
   "execution_count": 1,
   "id": "a77e00d6",
   "metadata": {
    "execution": {
     "iopub.execute_input": "2022-07-04T06:52:18.008682Z",
     "iopub.status.busy": "2022-07-04T06:52:18.008368Z",
     "iopub.status.idle": "2022-07-04T06:52:18.016481Z",
     "shell.execute_reply": "2022-07-04T06:52:18.015824Z"
    },
    "lines_to_next_cell": 0,
    "papermill": {
     "duration": 0.01507,
     "end_time": "2022-07-04T06:52:18.019368",
     "exception": false,
     "start_time": "2022-07-04T06:52:18.004298",
     "status": "completed"
    },
    "tags": []
   },
   "outputs": [],
   "source": [
    "# ----------------- Parameters for interactive development --------------\n",
    "P = {\n",
    "    \"pipeline.data_lake_root\": \"/pipeline-outputs/data-lake\",\n",
    "    \"task.nr_train_images\": 600,\n",
    "}"
   ]
  },
  {
   "cell_type": "code",
   "execution_count": 2,
   "id": "0a9a755c",
   "metadata": {
    "execution": {
     "iopub.execute_input": "2022-07-04T06:52:18.027554Z",
     "iopub.status.busy": "2022-07-04T06:52:18.027302Z",
     "iopub.status.idle": "2022-07-04T06:52:18.030404Z",
     "shell.execute_reply": "2022-07-04T06:52:18.029847Z"
    },
    "lines_to_next_cell": 0,
    "papermill": {
     "duration": 0.011112,
     "end_time": "2022-07-04T06:52:18.033963",
     "exception": false,
     "start_time": "2022-07-04T06:52:18.022851",
     "status": "completed"
    },
    "tags": [
     "parameters"
    ]
   },
   "outputs": [],
   "source": [
    "# - During automated runs parameters will be injected in the below cell -"
   ]
  },
  {
   "cell_type": "code",
   "execution_count": 3,
   "id": "f3db55ed",
   "metadata": {
    "execution": {
     "iopub.execute_input": "2022-07-04T06:52:18.041375Z",
     "iopub.status.busy": "2022-07-04T06:52:18.041052Z",
     "iopub.status.idle": "2022-07-04T06:52:18.047012Z",
     "shell.execute_reply": "2022-07-04T06:52:18.046459Z"
    },
    "papermill": {
     "duration": 0.01264,
     "end_time": "2022-07-04T06:52:18.049649",
     "exception": false,
     "start_time": "2022-07-04T06:52:18.037009",
     "status": "completed"
    },
    "tags": [
     "injected-parameters"
    ]
   },
   "outputs": [],
   "source": [
    "# Parameters\n",
    "P = {\n",
    "    \"pipeline.data_lake_root\": \"/pipeline-outputs/data-lake\",\n",
    "    \"pipeline.run_environment\": \"ci\",\n",
    "    \"pipeline.pipeline_run_id\": \"f1e020c4-fe8c-41d7-bbf7-bf95d4453b33\",\n",
    "    \"pipeline.github.repository\": \"pynb-dag-runner/mnist-digits-demo-pipeline\",\n",
    "    \"pipeline.github.workflow\": \"Run automated tests, pipeline and deploy results to static reporting site\",\n",
    "    \"pipeline.github.runner_name\": \"Hosted Agent\",\n",
    "    \"pipeline.github.run_id\": \"2608212936\",\n",
    "    \"pipeline.github.actor\": \"matiasdahl\",\n",
    "    \"pipeline.github.job\": \"run-tests-pipeline-and-persist-pipeline-outputs\",\n",
    "    \"pipeline.github.base_ref\": \"\",\n",
    "    \"pipeline.github.head_ref\": \"\",\n",
    "    \"pipeline.github.sha\": \"f934c58f68028b7bb026059d4e87e6d32a1bbd20\",\n",
    "    \"pipeline.github.ref\": \"refs/heads/development\",\n",
    "    \"pipeline.github.ref_type\": \"branch\",\n",
    "    \"pipeline.github.ref_name\": \"development\",\n",
    "    \"pipeline.github.event_name\": \"schedule\",\n",
    "    \"task.nr_train_images\": 800,\n",
    "    \"task.notebook\": \"notebooks/train-model.py\",\n",
    "    \"task.max_nr_retries\": \"1\",\n",
    "    \"run.retry_nr\": \"0\",\n",
    "    \"task.timeout_s\": \"None\",\n",
    "    \"task.num_cpus\": 1,\n",
    "    \"_opentelemetry_traceparent\": \"00-0b7f1bf11e5cfed8c62638a4aa1d15b6-bfe66b6a7295a1f2-01\",\n",
    "}\n"
   ]
  },
  {
   "cell_type": "code",
   "execution_count": 4,
   "id": "e328828a",
   "metadata": {
    "execution": {
     "iopub.execute_input": "2022-07-04T06:52:18.058120Z",
     "iopub.status.busy": "2022-07-04T06:52:18.057871Z",
     "iopub.status.idle": "2022-07-04T06:52:18.060870Z",
     "shell.execute_reply": "2022-07-04T06:52:18.060322Z"
    },
    "lines_to_next_cell": 0,
    "papermill": {
     "duration": 0.011504,
     "end_time": "2022-07-04T06:52:18.064772",
     "exception": false,
     "start_time": "2022-07-04T06:52:18.053268",
     "status": "completed"
    },
    "tags": []
   },
   "outputs": [],
   "source": [
    "# -----------------------------------------------------------------------"
   ]
  },
  {
   "cell_type": "markdown",
   "id": "821c171c",
   "metadata": {
    "papermill": {
     "duration": 0.003037,
     "end_time": "2022-07-04T06:52:18.070755",
     "exception": false,
     "start_time": "2022-07-04T06:52:18.067718",
     "status": "completed"
    },
    "tags": []
   },
   "source": [
    "---"
   ]
  },
  {
   "cell_type": "markdown",
   "id": "d61831f1",
   "metadata": {
    "lines_to_next_cell": 2,
    "papermill": {
     "duration": 0.003075,
     "end_time": "2022-07-04T06:52:18.077986",
     "exception": false,
     "start_time": "2022-07-04T06:52:18.074911",
     "status": "completed"
    },
    "tags": []
   },
   "source": [
    "### Notebook code"
   ]
  },
  {
   "cell_type": "code",
   "execution_count": 5,
   "id": "f2f79e4c",
   "metadata": {
    "execution": {
     "iopub.execute_input": "2022-07-04T06:52:18.086179Z",
     "iopub.status.busy": "2022-07-04T06:52:18.085920Z",
     "iopub.status.idle": "2022-07-04T06:52:18.617619Z",
     "shell.execute_reply": "2022-07-04T06:52:18.616503Z"
    },
    "papermill": {
     "duration": 0.538508,
     "end_time": "2022-07-04T06:52:18.619438",
     "exception": false,
     "start_time": "2022-07-04T06:52:18.080930",
     "status": "completed"
    },
    "tags": []
   },
   "outputs": [
    {
     "name": "stderr",
     "output_type": "stream",
     "text": [
      "2022-07-04 06:52:18,441\tINFO worker.py:842 -- Connecting to existing Ray cluster at address: 172.17.0.2:6379\n"
     ]
    }
   ],
   "source": [
    "from pynb_dag_runner.tasks.task_opentelemetry_logging import PydarLogger\n",
    "\n",
    "logger = PydarLogger(P)"
   ]
  },
  {
   "cell_type": "markdown",
   "id": "1d6e59b6",
   "metadata": {
    "papermill": {
     "duration": 0.004438,
     "end_time": "2022-07-04T06:52:18.627479",
     "exception": false,
     "start_time": "2022-07-04T06:52:18.623041",
     "status": "completed"
    },
    "tags": []
   },
   "source": [
    "## Load and limit train data"
   ]
  },
  {
   "cell_type": "code",
   "execution_count": 6,
   "id": "9d78dbb3",
   "metadata": {
    "execution": {
     "iopub.execute_input": "2022-07-04T06:52:18.635361Z",
     "iopub.status.busy": "2022-07-04T06:52:18.635018Z",
     "iopub.status.idle": "2022-07-04T06:52:19.062319Z",
     "shell.execute_reply": "2022-07-04T06:52:19.061634Z"
    },
    "papermill": {
     "duration": 0.434133,
     "end_time": "2022-07-04T06:52:19.064402",
     "exception": false,
     "start_time": "2022-07-04T06:52:18.630269",
     "status": "completed"
    },
    "tags": []
   },
   "outputs": [],
   "source": [
    "def load_and_limit_train_data(P):\n",
    "    from common.io import datalake_root, read_numpy\n",
    "    from sklearn.model_selection import train_test_split\n",
    "\n",
    "    X_train_all = read_numpy(datalake_root(P) / \"train-data\" / \"digits.numpy\")\n",
    "    y_train_all = read_numpy(datalake_root(P) / \"train-data\" / \"labels.numpy\")\n",
    "\n",
    "    assert isinstance(P[\"task.nr_train_images\"], int)\n",
    "\n",
    "    # Note: train_test_split will fail if split is 0 or 100%.\n",
    "    assert 0 < P[\"task.nr_train_images\"] < len(y_train_all)\n",
    "\n",
    "    X_train, _, y_train, _ = train_test_split(\n",
    "        X_train_all,\n",
    "        y_train_all,\n",
    "        train_size=P[\"task.nr_train_images\"],\n",
    "        test_size=None,\n",
    "        stratify=y_train_all,\n",
    "        shuffle=True,\n",
    "        random_state=123,\n",
    "    )\n",
    "\n",
    "    assert X_train.shape == (len(y_train), 8 * 8)\n",
    "    return X_train, y_train\n",
    "\n",
    "\n",
    "X_train, y_train = load_and_limit_train_data(P)"
   ]
  },
  {
   "cell_type": "markdown",
   "id": "fddcaf08",
   "metadata": {
    "papermill": {
     "duration": 0.003562,
     "end_time": "2022-07-04T06:52:19.071021",
     "exception": false,
     "start_time": "2022-07-04T06:52:19.067459",
     "status": "completed"
    },
    "tags": []
   },
   "source": [
    "## Train support vector classifier model\n",
    "\n",
    "Below we assume that the hyperparameter $C$ is known.\n",
    "\n",
    "However, this should ideally be found by a hyperparameter search. That could be\n",
    "done in parallel on the Ray cluster, but this needs some more work. Ie., to use\n",
    "multiple cores in the notebook, those cores should be reserved when starting the\n",
    "notebook task (TODO).\n",
    "\n",
    "- https://docs.ray.io/en/latest/tune/key-concepts.html\n",
    "\n",
    "Note: cv-scores would need to be computed here, since they depend on the train data.\n",
    "After this notebook only the onnx-model is available."
   ]
  },
  {
   "cell_type": "code",
   "execution_count": 7,
   "id": "fdbaf965",
   "metadata": {
    "execution": {
     "iopub.execute_input": "2022-07-04T06:52:19.079872Z",
     "iopub.status.busy": "2022-07-04T06:52:19.079342Z",
     "iopub.status.idle": "2022-07-04T06:52:19.099884Z",
     "shell.execute_reply": "2022-07-04T06:52:19.099215Z"
    },
    "papermill": {
     "duration": 0.027866,
     "end_time": "2022-07-04T06:52:19.101677",
     "exception": false,
     "start_time": "2022-07-04T06:52:19.073811",
     "status": "completed"
    },
    "tags": []
   },
   "outputs": [],
   "source": [
    "from sklearn.svm import SVC"
   ]
  },
  {
   "cell_type": "code",
   "execution_count": 8,
   "id": "842c8525",
   "metadata": {
    "execution": {
     "iopub.execute_input": "2022-07-04T06:52:19.109314Z",
     "iopub.status.busy": "2022-07-04T06:52:19.109027Z",
     "iopub.status.idle": "2022-07-04T06:52:19.230904Z",
     "shell.execute_reply": "2022-07-04T06:52:19.230130Z"
    },
    "papermill": {
     "duration": 0.127913,
     "end_time": "2022-07-04T06:52:19.233037",
     "exception": false,
     "start_time": "2022-07-04T06:52:19.105124",
     "status": "completed"
    },
    "tags": []
   },
   "outputs": [
    {
     "data": {
      "text/plain": [
       "SVC(C=0.001, kernel='linear', probability=True)"
      ]
     },
     "execution_count": 8,
     "metadata": {},
     "output_type": "execute_result"
    }
   ],
   "source": [
    "model = SVC(C=0.001, kernel=\"linear\", probability=True)\n",
    "\n",
    "model.fit(X_train, y_train)"
   ]
  },
  {
   "cell_type": "markdown",
   "id": "d9fc64d9",
   "metadata": {
    "papermill": {
     "duration": 0.003671,
     "end_time": "2022-07-04T06:52:19.241262",
     "exception": false,
     "start_time": "2022-07-04T06:52:19.237591",
     "status": "completed"
    },
    "tags": []
   },
   "source": [
    "### Q: Can the labels returned by `predict(..)` be computed from probabilities returned by the `predict_prob`-method?"
   ]
  },
  {
   "cell_type": "code",
   "execution_count": 9,
   "id": "a4ffb442",
   "metadata": {
    "execution": {
     "iopub.execute_input": "2022-07-04T06:52:19.248934Z",
     "iopub.status.busy": "2022-07-04T06:52:19.248664Z",
     "iopub.status.idle": "2022-07-04T06:52:19.303239Z",
     "shell.execute_reply": "2022-07-04T06:52:19.302537Z"
    },
    "papermill": {
     "duration": 0.06051,
     "end_time": "2022-07-04T06:52:19.304745",
     "exception": false,
     "start_time": "2022-07-04T06:52:19.244235",
     "status": "completed"
    },
    "tags": []
   },
   "outputs": [
    {
     "name": "stdout",
     "output_type": "stream",
     "text": [
      " - Logging nr_max_prob_neq_label (int) : 1\n"
     ]
    }
   ],
   "source": [
    "import numpy as np\n",
    "\n",
    "y_train_labels = model.predict(X_train)\n",
    "y_train_probabilities = model.predict_proba(X_train)\n",
    "assert y_train_probabilities.shape == (len(y_train), 10)\n",
    "\n",
    "y_train_max_prob_labels = np.argmax(y_train_probabilities, axis=1)\n",
    "assert y_train_labels.shape == y_train_max_prob_labels.shape == y_train.shape\n",
    "\n",
    "# If the predicted labels would coincide with the labels that have\n",
    "# maximum probability, the below number would be zero\n",
    "logger.log_int(\n",
    "    \"nr_max_prob_neq_label\", int(sum(y_train_max_prob_labels != y_train_labels))\n",
    ")"
   ]
  },
  {
   "cell_type": "markdown",
   "id": "74c3b9d0",
   "metadata": {
    "papermill": {
     "duration": 0.003313,
     "end_time": "2022-07-04T06:52:19.311581",
     "exception": false,
     "start_time": "2022-07-04T06:52:19.308268",
     "status": "completed"
    },
    "tags": []
   },
   "source": [
    "The explanation is (likely) explained in the SVC source, see\n",
    "[here](https://github.com/scikit-learn/scikit-learn/blob/main/sklearn/svm/_base.py).\n",
    "Namely, the outputs from `predict(..)` and `predict_proba(..)` may not in some\n",
    "cases be compatible since the latter is computed using cross-validation while\n",
    "the former is not. Thus, the above number need not be zero."
   ]
  },
  {
   "cell_type": "markdown",
   "id": "2987b9a5",
   "metadata": {
    "papermill": {
     "duration": 0.00311,
     "end_time": "2022-07-04T06:52:19.317906",
     "exception": false,
     "start_time": "2022-07-04T06:52:19.314796",
     "status": "completed"
    },
    "tags": []
   },
   "source": [
    "## Persist model"
   ]
  },
  {
   "cell_type": "code",
   "execution_count": 10,
   "id": "27994a80",
   "metadata": {
    "execution": {
     "iopub.execute_input": "2022-07-04T06:52:19.328051Z",
     "iopub.status.busy": "2022-07-04T06:52:19.327482Z",
     "iopub.status.idle": "2022-07-04T06:52:20.115518Z",
     "shell.execute_reply": "2022-07-04T06:52:20.114603Z"
    },
    "papermill": {
     "duration": 0.796342,
     "end_time": "2022-07-04T06:52:20.117164",
     "exception": false,
     "start_time": "2022-07-04T06:52:19.320822",
     "status": "completed"
    },
    "tags": []
   },
   "outputs": [
    {
     "name": "stdout",
     "output_type": "stream",
     "text": [
      "\u001b[2m\u001b[1m\u001b[36m(scheduler +1s)\u001b[0m Tip: use `ray status` to view detailed cluster status. To disable these messages, set RAY_SCHEDULER_EVENTS=0.\n",
      "\u001b[2m\u001b[1m\u001b[33m(scheduler +1s)\u001b[0m Warning: The following resource request cannot be scheduled right now: {'CPU': 1.0}. This is likely due to all cluster resources being claimed by actors. Consider creating fewer actors or adding more nodes to this Ray cluster.\n"
     ]
    }
   ],
   "source": [
    "from skl2onnx import convert_sklearn\n",
    "from skl2onnx.common.data_types import FloatTensorType\n",
    "\n",
    "#\n",
    "from common.io import datalake_root, write_onnx"
   ]
  },
  {
   "cell_type": "code",
   "execution_count": 11,
   "id": "fc380dbc",
   "metadata": {
    "execution": {
     "iopub.execute_input": "2022-07-04T06:52:20.126431Z",
     "iopub.status.busy": "2022-07-04T06:52:20.126005Z",
     "iopub.status.idle": "2022-07-04T06:52:20.180481Z",
     "shell.execute_reply": "2022-07-04T06:52:20.179685Z"
    },
    "papermill": {
     "duration": 0.061252,
     "end_time": "2022-07-04T06:52:20.182228",
     "exception": false,
     "start_time": "2022-07-04T06:52:20.120976",
     "status": "completed"
    },
    "tags": []
   },
   "outputs": [],
   "source": [
    "# convert sklearn model into onnx and persist to data lake\n",
    "\n",
    "model_onnx = convert_sklearn(\n",
    "    model, initial_types=[(\"float_input_8x8_image\", FloatTensorType([None, 8 * 8]))]\n",
    ")\n",
    "write_onnx(\n",
    "    datalake_root(P)\n",
    "    / \"models\"\n",
    "    / f\"nr_train_images={P['task.nr_train_images']}\"\n",
    "    / \"model.onnx\",\n",
    "    model_onnx,\n",
    ")"
   ]
  },
  {
   "cell_type": "code",
   "execution_count": null,
   "id": "52f82933",
   "metadata": {
    "papermill": {
     "duration": 0.00382,
     "end_time": "2022-07-04T06:52:20.189450",
     "exception": false,
     "start_time": "2022-07-04T06:52:20.185630",
     "status": "completed"
    },
    "tags": []
   },
   "outputs": [],
   "source": []
  }
 ],
 "metadata": {
  "jupytext": {
   "cell_metadata_filter": "tags,-all",
   "main_language": "python",
   "notebook_metadata_filter": "-all"
  },
  "language_info": {
   "codemirror_mode": {
    "name": "ipython",
    "version": 3
   },
   "file_extension": ".py",
   "mimetype": "text/x-python",
   "name": "python",
   "nbconvert_exporter": "python",
   "pygments_lexer": "ipython3",
   "version": "3.8.10"
  },
  "papermill": {
   "default_parameters": {},
   "duration": 4.693622,
   "end_time": "2022-07-04T06:52:21.313566",
   "environment_variables": {},
   "exception": null,
   "input_path": "/home/host_user/workspace/mnist-demo-pipeline/mnist-demo-pipeline/notebooks/temp-notebook-bwiegm1a.ipynb",
   "output_path": "notebooks/train-model.ipynb",
   "parameters": {
    "P": {
     "_opentelemetry_traceparent": "00-0b7f1bf11e5cfed8c62638a4aa1d15b6-bfe66b6a7295a1f2-01",
     "pipeline.data_lake_root": "/pipeline-outputs/data-lake",
     "pipeline.github.actor": "matiasdahl",
     "pipeline.github.base_ref": "",
     "pipeline.github.event_name": "schedule",
     "pipeline.github.head_ref": "",
     "pipeline.github.job": "run-tests-pipeline-and-persist-pipeline-outputs",
     "pipeline.github.ref": "refs/heads/development",
     "pipeline.github.ref_name": "development",
     "pipeline.github.ref_type": "branch",
     "pipeline.github.repository": "pynb-dag-runner/mnist-digits-demo-pipeline",
     "pipeline.github.run_id": "2608212936",
     "pipeline.github.runner_name": "Hosted Agent",
     "pipeline.github.sha": "f934c58f68028b7bb026059d4e87e6d32a1bbd20",
     "pipeline.github.workflow": "Run automated tests, pipeline and deploy results to static reporting site",
     "pipeline.pipeline_run_id": "f1e020c4-fe8c-41d7-bbf7-bf95d4453b33",
     "pipeline.run_environment": "ci",
     "run.retry_nr": "0",
     "task.max_nr_retries": "1",
     "task.notebook": "notebooks/train-model.py",
     "task.nr_train_images": 800,
     "task.num_cpus": 1,
     "task.timeout_s": "None"
    }
   },
   "start_time": "2022-07-04T06:52:16.619944",
   "version": "2.3.3"
  }
 },
 "nbformat": 4,
 "nbformat_minor": 5
}