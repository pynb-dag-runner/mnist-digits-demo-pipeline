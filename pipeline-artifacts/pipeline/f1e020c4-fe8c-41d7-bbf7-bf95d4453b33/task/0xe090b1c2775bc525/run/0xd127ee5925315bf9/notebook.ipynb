{
 "cells": [
  {
   "cell_type": "markdown",
   "id": "0ca3e840",
   "metadata": {
    "papermill": {
     "duration": 0.006574,
     "end_time": "2022-07-04T06:52:29.870552",
     "exception": false,
     "start_time": "2022-07-04T06:52:29.863978",
     "status": "completed"
    },
    "tags": []
   },
   "source": [
    "# Benchmark model\n",
    "\n",
    "The purpose of this notebook is to benchmark persisted onnx-model (trained in the\n",
    "previous step) against evaluation set."
   ]
  },
  {
   "cell_type": "markdown",
   "id": "887f0c2d",
   "metadata": {
    "papermill": {
     "duration": 0.006246,
     "end_time": "2022-07-04T06:52:29.881879",
     "exception": false,
     "start_time": "2022-07-04T06:52:29.875633",
     "status": "completed"
    },
    "tags": []
   },
   "source": [
    "### Determine run parameters"
   ]
  },
  {
   "cell_type": "code",
   "execution_count": 1,
   "id": "aa767add",
   "metadata": {
    "execution": {
     "iopub.execute_input": "2022-07-04T06:52:29.893632Z",
     "iopub.status.busy": "2022-07-04T06:52:29.893288Z",
     "iopub.status.idle": "2022-07-04T06:52:29.901678Z",
     "shell.execute_reply": "2022-07-04T06:52:29.901116Z"
    },
    "lines_to_next_cell": 0,
    "papermill": {
     "duration": 0.017526,
     "end_time": "2022-07-04T06:52:29.903422",
     "exception": false,
     "start_time": "2022-07-04T06:52:29.885896",
     "status": "completed"
    },
    "tags": []
   },
   "outputs": [],
   "source": [
    "# ----------------- Parameters for interactive development --------------\n",
    "P = {\n",
    "    \"pipeline.data_lake_root\": \"/pipeline-outputs/data-lake\",\n",
    "    \"task.nr_train_images\": 600,\n",
    "}"
   ]
  },
  {
   "cell_type": "code",
   "execution_count": 2,
   "id": "2978f8d5",
   "metadata": {
    "execution": {
     "iopub.execute_input": "2022-07-04T06:52:29.912723Z",
     "iopub.status.busy": "2022-07-04T06:52:29.912484Z",
     "iopub.status.idle": "2022-07-04T06:52:29.915373Z",
     "shell.execute_reply": "2022-07-04T06:52:29.914854Z"
    },
    "lines_to_next_cell": 0,
    "papermill": {
     "duration": 0.009899,
     "end_time": "2022-07-04T06:52:29.917596",
     "exception": false,
     "start_time": "2022-07-04T06:52:29.907697",
     "status": "completed"
    },
    "tags": [
     "parameters"
    ]
   },
   "outputs": [],
   "source": [
    "# - During automated runs parameters will be injected in the below cell -"
   ]
  },
  {
   "cell_type": "code",
   "execution_count": 3,
   "id": "2add1261",
   "metadata": {
    "execution": {
     "iopub.execute_input": "2022-07-04T06:52:29.929544Z",
     "iopub.status.busy": "2022-07-04T06:52:29.929294Z",
     "iopub.status.idle": "2022-07-04T06:52:29.935841Z",
     "shell.execute_reply": "2022-07-04T06:52:29.935165Z"
    },
    "papermill": {
     "duration": 0.013427,
     "end_time": "2022-07-04T06:52:29.937856",
     "exception": false,
     "start_time": "2022-07-04T06:52:29.924429",
     "status": "completed"
    },
    "tags": [
     "injected-parameters"
    ]
   },
   "outputs": [],
   "source": [
    "# Parameters\n",
    "P = {\n",
    "    \"pipeline.data_lake_root\": \"/pipeline-outputs/data-lake\",\n",
    "    \"pipeline.run_environment\": \"ci\",\n",
    "    \"pipeline.pipeline_run_id\": \"f1e020c4-fe8c-41d7-bbf7-bf95d4453b33\",\n",
    "    \"pipeline.github.repository\": \"pynb-dag-runner/mnist-digits-demo-pipeline\",\n",
    "    \"pipeline.github.workflow\": \"Run automated tests, pipeline and deploy results to static reporting site\",\n",
    "    \"pipeline.github.runner_name\": \"Hosted Agent\",\n",
    "    \"pipeline.github.run_id\": \"2608212936\",\n",
    "    \"pipeline.github.actor\": \"matiasdahl\",\n",
    "    \"pipeline.github.job\": \"run-tests-pipeline-and-persist-pipeline-outputs\",\n",
    "    \"pipeline.github.base_ref\": \"\",\n",
    "    \"pipeline.github.head_ref\": \"\",\n",
    "    \"pipeline.github.sha\": \"f934c58f68028b7bb026059d4e87e6d32a1bbd20\",\n",
    "    \"pipeline.github.ref\": \"refs/heads/development\",\n",
    "    \"pipeline.github.ref_type\": \"branch\",\n",
    "    \"pipeline.github.ref_name\": \"development\",\n",
    "    \"pipeline.github.event_name\": \"schedule\",\n",
    "    \"task.nr_train_images\": 800,\n",
    "    \"task.notebook\": \"notebooks/benchmark-model.py\",\n",
    "    \"task.max_nr_retries\": \"1\",\n",
    "    \"run.retry_nr\": \"0\",\n",
    "    \"task.timeout_s\": \"None\",\n",
    "    \"task.num_cpus\": 1,\n",
    "    \"_opentelemetry_traceparent\": \"00-0b7f1bf11e5cfed8c62638a4aa1d15b6-1195d53c5a388de0-01\",\n",
    "}\n"
   ]
  },
  {
   "cell_type": "code",
   "execution_count": 4,
   "id": "599d2134",
   "metadata": {
    "execution": {
     "iopub.execute_input": "2022-07-04T06:52:29.948660Z",
     "iopub.status.busy": "2022-07-04T06:52:29.948396Z",
     "iopub.status.idle": "2022-07-04T06:52:29.951531Z",
     "shell.execute_reply": "2022-07-04T06:52:29.951024Z"
    },
    "lines_to_next_cell": 0,
    "papermill": {
     "duration": 0.010624,
     "end_time": "2022-07-04T06:52:29.953819",
     "exception": false,
     "start_time": "2022-07-04T06:52:29.943195",
     "status": "completed"
    },
    "tags": []
   },
   "outputs": [],
   "source": [
    "# -----------------------------------------------------------------------"
   ]
  },
  {
   "cell_type": "markdown",
   "id": "0d5c4bca",
   "metadata": {
    "papermill": {
     "duration": 0.004288,
     "end_time": "2022-07-04T06:52:29.961999",
     "exception": false,
     "start_time": "2022-07-04T06:52:29.957711",
     "status": "completed"
    },
    "tags": []
   },
   "source": [
    "---"
   ]
  },
  {
   "cell_type": "markdown",
   "id": "aaf80eab",
   "metadata": {
    "lines_to_next_cell": 2,
    "papermill": {
     "duration": 0.003824,
     "end_time": "2022-07-04T06:52:29.969537",
     "exception": false,
     "start_time": "2022-07-04T06:52:29.965713",
     "status": "completed"
    },
    "tags": []
   },
   "source": [
    "### Notebook code"
   ]
  },
  {
   "cell_type": "code",
   "execution_count": 5,
   "id": "161066ce",
   "metadata": {
    "execution": {
     "iopub.execute_input": "2022-07-04T06:52:29.980337Z",
     "iopub.status.busy": "2022-07-04T06:52:29.980066Z",
     "iopub.status.idle": "2022-07-04T06:52:31.088876Z",
     "shell.execute_reply": "2022-07-04T06:52:31.088092Z"
    },
    "papermill": {
     "duration": 1.115704,
     "end_time": "2022-07-04T06:52:31.090875",
     "exception": false,
     "start_time": "2022-07-04T06:52:29.975171",
     "status": "completed"
    },
    "tags": []
   },
   "outputs": [
    {
     "name": "stderr",
     "output_type": "stream",
     "text": [
      "2022-07-04 06:52:30,907\tINFO worker.py:842 -- Connecting to existing Ray cluster at address: 172.17.0.2:6379\n"
     ]
    }
   ],
   "source": [
    "import itertools as it\n",
    "\n",
    "#\n",
    "import numpy as np\n",
    "import matplotlib.pyplot as plt\n",
    "\n",
    "#\n",
    "from pynb_dag_runner.tasks.task_opentelemetry_logging import PydarLogger\n",
    "\n",
    "#\n",
    "from common.io import datalake_root\n",
    "\n",
    "logger = PydarLogger(P)"
   ]
  },
  {
   "cell_type": "markdown",
   "id": "5a20b7ca",
   "metadata": {
    "papermill": {
     "duration": 0.005104,
     "end_time": "2022-07-04T06:52:31.100431",
     "exception": false,
     "start_time": "2022-07-04T06:52:31.095327",
     "status": "completed"
    },
    "tags": []
   },
   "source": [
    "## Load persisted onnx-model and evaluation data"
   ]
  },
  {
   "cell_type": "code",
   "execution_count": 6,
   "id": "a375b891",
   "metadata": {
    "execution": {
     "iopub.execute_input": "2022-07-04T06:52:31.110991Z",
     "iopub.status.busy": "2022-07-04T06:52:31.110631Z",
     "iopub.status.idle": "2022-07-04T06:52:31.115356Z",
     "shell.execute_reply": "2022-07-04T06:52:31.114532Z"
    },
    "papermill": {
     "duration": 0.013525,
     "end_time": "2022-07-04T06:52:31.117920",
     "exception": false,
     "start_time": "2022-07-04T06:52:31.104395",
     "status": "completed"
    },
    "tags": []
   },
   "outputs": [],
   "source": [
    "from common.io import read_onnx, get_onnx_inputs, get_onnx_outputs, read_numpy"
   ]
  },
  {
   "cell_type": "code",
   "execution_count": 7,
   "id": "fc451482",
   "metadata": {
    "execution": {
     "iopub.execute_input": "2022-07-04T06:52:31.128567Z",
     "iopub.status.busy": "2022-07-04T06:52:31.128285Z",
     "iopub.status.idle": "2022-07-04T06:52:31.139397Z",
     "shell.execute_reply": "2022-07-04T06:52:31.138834Z"
    },
    "lines_to_next_cell": 0,
    "papermill": {
     "duration": 0.018804,
     "end_time": "2022-07-04T06:52:31.141567",
     "exception": false,
     "start_time": "2022-07-04T06:52:31.122763",
     "status": "completed"
    },
    "tags": []
   },
   "outputs": [],
   "source": [
    "onnx_inference_session = read_onnx(\n",
    "    datalake_root(P)\n",
    "    / \"models\"\n",
    "    / f\"nr_train_images={P['task.nr_train_images']}\"\n",
    "    / \"model.onnx\"\n",
    ")"
   ]
  },
  {
   "cell_type": "markdown",
   "id": "771f4c75",
   "metadata": {
    "papermill": {
     "duration": 0.004945,
     "end_time": "2022-07-04T06:52:31.150969",
     "exception": false,
     "start_time": "2022-07-04T06:52:31.146024",
     "status": "completed"
    },
    "tags": []
   },
   "source": [
    "### Record structure of inputs and outputs for ONNX model\n",
    "\n",
    "(this should likely be done in training notebook)"
   ]
  },
  {
   "cell_type": "code",
   "execution_count": 8,
   "id": "62dcd40f",
   "metadata": {
    "execution": {
     "iopub.execute_input": "2022-07-04T06:52:31.160760Z",
     "iopub.status.busy": "2022-07-04T06:52:31.160468Z",
     "iopub.status.idle": "2022-07-04T06:52:31.166178Z",
     "shell.execute_reply": "2022-07-04T06:52:31.165651Z"
    },
    "papermill": {
     "duration": 0.01473,
     "end_time": "2022-07-04T06:52:31.169805",
     "exception": false,
     "start_time": "2022-07-04T06:52:31.155075",
     "status": "completed"
    },
    "tags": []
   },
   "outputs": [
    {
     "name": "stdout",
     "output_type": "stream",
     "text": [
      "{\n",
      "  \"inputs\": [\n",
      "    {\n",
      "      \"name\": \"float_input_8x8_image\",\n",
      "      \"shape\": [\n",
      "        null,\n",
      "        64\n",
      "      ],\n",
      "      \"type\": \"tensor(float)\"\n",
      "    }\n",
      "  ],\n",
      "  \"outputs\": [\n",
      "    {\n",
      "      \"name\": \"output_label\",\n",
      "      \"shape\": [\n",
      "        null\n",
      "      ],\n",
      "      \"type\": \"tensor(int64)\"\n",
      "    },\n",
      "    {\n",
      "      \"name\": \"output_probability\",\n",
      "      \"shape\": [],\n",
      "      \"type\": \"seq(map(int64,tensor(float)))\"\n",
      "    }\n",
      "  ]\n",
      "}\n"
     ]
    }
   ],
   "source": [
    "import json\n",
    "\n",
    "onnx_io = json.dumps(\n",
    "    {\n",
    "        \"inputs\": get_onnx_inputs(onnx_inference_session),\n",
    "        \"outputs\": get_onnx_outputs(onnx_inference_session),\n",
    "    },\n",
    "    indent=2,\n",
    ")\n",
    "\n",
    "\n",
    "logger.log_artefact(\"onnx_io_structure.json\", onnx_io)\n",
    "print(onnx_io)"
   ]
  },
  {
   "cell_type": "markdown",
   "id": "76440160",
   "metadata": {
    "papermill": {
     "duration": 0.004532,
     "end_time": "2022-07-04T06:52:31.178846",
     "exception": false,
     "start_time": "2022-07-04T06:52:31.174314",
     "status": "completed"
    },
    "tags": []
   },
   "source": [
    "### Evaluate model performance on evaluation data set"
   ]
  },
  {
   "cell_type": "code",
   "execution_count": 9,
   "id": "d447f2f4",
   "metadata": {
    "execution": {
     "iopub.execute_input": "2022-07-04T06:52:31.188788Z",
     "iopub.status.busy": "2022-07-04T06:52:31.188517Z",
     "iopub.status.idle": "2022-07-04T06:52:31.193256Z",
     "shell.execute_reply": "2022-07-04T06:52:31.192679Z"
    },
    "papermill": {
     "duration": 0.013121,
     "end_time": "2022-07-04T06:52:31.196203",
     "exception": false,
     "start_time": "2022-07-04T06:52:31.183082",
     "status": "completed"
    },
    "tags": []
   },
   "outputs": [],
   "source": [
    "# load evaluation data\n",
    "X_test = read_numpy(datalake_root(P) / \"test-data\" / \"digits.numpy\")\n",
    "y_test = read_numpy(datalake_root(P) / \"test-data\" / \"labels.numpy\")"
   ]
  },
  {
   "cell_type": "code",
   "execution_count": 10,
   "id": "d7f2f598",
   "metadata": {
    "execution": {
     "iopub.execute_input": "2022-07-04T06:52:31.206832Z",
     "iopub.status.busy": "2022-07-04T06:52:31.206582Z",
     "iopub.status.idle": "2022-07-04T06:52:31.219579Z",
     "shell.execute_reply": "2022-07-04T06:52:31.219011Z"
    },
    "papermill": {
     "duration": 0.020412,
     "end_time": "2022-07-04T06:52:31.221075",
     "exception": false,
     "start_time": "2022-07-04T06:52:31.200663",
     "status": "completed"
    },
    "tags": []
   },
   "outputs": [],
   "source": [
    "def get_model_outputs(X, onnx_inference_session):\n",
    "    y_pred_labels, y_pred_map = onnx_inference_session.run(\n",
    "        [\"output_label\", \"output_probability\"],\n",
    "        {\"float_input_8x8_image\": X.astype(np.float32)},\n",
    "    )\n",
    "    y_pred_probs = np.array(\n",
    "        [[probabilities[digit] for digit in range(10)] for probabilities in y_pred_map]\n",
    "    )\n",
    "\n",
    "    assert y_pred_labels.shape == (X.shape[0],)\n",
    "    assert y_pred_probs.shape == (X.shape[0], 10)\n",
    "\n",
    "    return y_pred_labels, y_pred_probs\n",
    "\n",
    "\n",
    "# Note: as shown in the training notebook, the predicted labels and probabilities\n",
    "# computed below need not be compatible.\n",
    "y_pred_labels_test, y_pred_probs_test = get_model_outputs(\n",
    "    X_test, onnx_inference_session\n",
    ")"
   ]
  },
  {
   "cell_type": "markdown",
   "id": "73fea3a4",
   "metadata": {
    "papermill": {
     "duration": 0.00502,
     "end_time": "2022-07-04T06:52:31.233625",
     "exception": false,
     "start_time": "2022-07-04T06:52:31.228605",
     "status": "completed"
    },
    "tags": []
   },
   "source": [
    "### Confusion matrix"
   ]
  },
  {
   "cell_type": "code",
   "execution_count": 11,
   "id": "b5a59f4b",
   "metadata": {
    "execution": {
     "iopub.execute_input": "2022-07-04T06:52:31.243982Z",
     "iopub.status.busy": "2022-07-04T06:52:31.243688Z",
     "iopub.status.idle": "2022-07-04T06:52:31.246771Z",
     "shell.execute_reply": "2022-07-04T06:52:31.246241Z"
    },
    "papermill": {
     "duration": 0.01085,
     "end_time": "2022-07-04T06:52:31.249048",
     "exception": false,
     "start_time": "2022-07-04T06:52:31.238198",
     "status": "completed"
    },
    "tags": []
   },
   "outputs": [],
   "source": [
    "# TODO"
   ]
  },
  {
   "cell_type": "markdown",
   "id": "e9e9d546",
   "metadata": {
    "papermill": {
     "duration": 0.00491,
     "end_time": "2022-07-04T06:52:31.258804",
     "exception": false,
     "start_time": "2022-07-04T06:52:31.253894",
     "status": "completed"
    },
    "tags": []
   },
   "source": [
    "### Plot predicted probabilities for each classifier over all evaluation digit images"
   ]
  },
  {
   "cell_type": "code",
   "execution_count": 12,
   "id": "99600ce7",
   "metadata": {
    "execution": {
     "iopub.execute_input": "2022-07-04T06:52:31.269129Z",
     "iopub.status.busy": "2022-07-04T06:52:31.268793Z",
     "iopub.status.idle": "2022-07-04T06:52:34.468433Z",
     "shell.execute_reply": "2022-07-04T06:52:34.467567Z"
    },
    "papermill": {
     "duration": 3.207081,
     "end_time": "2022-07-04T06:52:34.470348",
     "exception": false,
     "start_time": "2022-07-04T06:52:31.263267",
     "status": "completed"
    },
    "tags": []
   },
   "outputs": [
    {
     "data": {
      "image/png": "[encoded data removed]",
      "text/plain": [
       "<Figure size 1152x432 with 10 Axes>"
      ]
     },
     "metadata": {
      "needs_background": "light"
     },
     "output_type": "display_data"
    }
   ],
   "source": [
    "def plot_per_digit_probabilities(y_pred_probs):\n",
    "    fig, axs = plt.subplots(nrows=2, ncols=5, figsize=(16, 6))\n",
    "\n",
    "    for (r, c), digit, ax in zip(\n",
    "        it.product(range(2), range(5)), range(10), axs.reshape(-1)\n",
    "    ):\n",
    "        ax.hist(y_pred_probs_test[:, digit], bins=20)\n",
    "\n",
    "        ax.set_title(f\"Digit {digit}\")\n",
    "        if r == 1 and c == 2:\n",
    "            ax.set_xlabel(\"probability\", fontsize=16)\n",
    "\n",
    "        if c == 0:\n",
    "            ax.set_ylabel(\"counts\", fontsize=16)\n",
    "        ax.set_yscale(\"log\")\n",
    "\n",
    "    fig.tight_layout()\n",
    "    fig.suptitle(\n",
    "        f\"Distributions of prediction probabilities for each digit \"\n",
    "        f\"(on evaluation data, n={y_pred_probs.shape[0]})\",\n",
    "        fontsize=20,\n",
    "    )\n",
    "    fig.tight_layout()\n",
    "    fig.show()\n",
    "\n",
    "    return fig\n",
    "\n",
    "\n",
    "fig = plot_per_digit_probabilities(y_pred_probs_test)"
   ]
  },
  {
   "cell_type": "markdown",
   "id": "a5dfc336",
   "metadata": {
    "papermill": {
     "duration": 0.005248,
     "end_time": "2022-07-04T06:52:34.481065",
     "exception": false,
     "start_time": "2022-07-04T06:52:34.475817",
     "status": "completed"
    },
    "tags": []
   },
   "source": [
    "From the above distributions we see that most digits have clear separation between\n",
    "high and lower probabilities. Morover, in each case there is roughly an order of\n",
    "magnitude more of digits with low probabilities. This is compatible with digits\n",
    "being roughly evenly distributed in the data."
   ]
  },
  {
   "cell_type": "code",
   "execution_count": 13,
   "id": "db0c1b88",
   "metadata": {
    "execution": {
     "iopub.execute_input": "2022-07-04T06:52:34.494372Z",
     "iopub.status.busy": "2022-07-04T06:52:34.494094Z",
     "iopub.status.idle": "2022-07-04T06:52:34.892626Z",
     "shell.execute_reply": "2022-07-04T06:52:34.891752Z"
    },
    "papermill": {
     "duration": 0.40863,
     "end_time": "2022-07-04T06:52:34.894394",
     "exception": false,
     "start_time": "2022-07-04T06:52:34.485764",
     "status": "completed"
    },
    "tags": []
   },
   "outputs": [],
   "source": [
    "logger.log_figure(\"per-digit-probabilities.png\", fig)"
   ]
  },
  {
   "cell_type": "markdown",
   "id": "6c149b90",
   "metadata": {
    "papermill": {
     "duration": 0.004917,
     "end_time": "2022-07-04T06:52:34.906720",
     "exception": false,
     "start_time": "2022-07-04T06:52:34.901803",
     "status": "completed"
    },
    "tags": []
   },
   "source": [
    "### Plot ROC curves for individual one-vs-rest classifiers"
   ]
  },
  {
   "cell_type": "code",
   "execution_count": 14,
   "id": "be30ec64",
   "metadata": {
    "execution": {
     "iopub.execute_input": "2022-07-04T06:52:34.918758Z",
     "iopub.status.busy": "2022-07-04T06:52:34.918397Z",
     "iopub.status.idle": "2022-07-04T06:52:35.297887Z",
     "shell.execute_reply": "2022-07-04T06:52:35.297057Z"
    },
    "papermill": {
     "duration": 0.387562,
     "end_time": "2022-07-04T06:52:35.300011",
     "exception": false,
     "start_time": "2022-07-04T06:52:34.912449",
     "status": "completed"
    },
    "tags": []
   },
   "outputs": [],
   "source": [
    "from sklearn import metrics"
   ]
  },
  {
   "cell_type": "code",
   "execution_count": 15,
   "id": "24317813",
   "metadata": {
    "execution": {
     "iopub.execute_input": "2022-07-04T06:52:35.313810Z",
     "iopub.status.busy": "2022-07-04T06:52:35.311342Z",
     "iopub.status.idle": "2022-07-04T06:52:36.322337Z",
     "shell.execute_reply": "2022-07-04T06:52:36.321795Z"
    },
    "papermill": {
     "duration": 1.019247,
     "end_time": "2022-07-04T06:52:36.324329",
     "exception": false,
     "start_time": "2022-07-04T06:52:35.305082",
     "status": "completed"
    },
    "tags": []
   },
   "outputs": [
    {
     "data": {
      "image/png": "[encoded data removed]",
      "text/plain": [
       "<Figure size 1152x576 with 10 Axes>"
      ]
     },
     "metadata": {
      "needs_background": "light"
     },
     "output_type": "display_data"
    }
   ],
   "source": [
    "def plot_roc_curves(y, y_pred_probs):\n",
    "    # based on example code\n",
    "    # https://scikit-learn.org/stable/auto_examples/model_selection/plot_roc.html\n",
    "\n",
    "    fig, axs = plt.subplots(nrows=2, ncols=5, figsize=(16, 8))\n",
    "\n",
    "    roc_auc_dict = {}\n",
    "\n",
    "    for (r, c), digit, ax in zip(\n",
    "        it.product(range(2), range(5)), range(10), axs.reshape(-1)\n",
    "    ):\n",
    "        fpr, tpr, _ = metrics.roc_curve(y == digit, y_pred_probs[:, digit])\n",
    "        auc = metrics.auc(fpr, tpr)\n",
    "        roc_auc_dict[str(digit)] = auc\n",
    "\n",
    "        ax.plot(fpr, tpr, label=f\"ROC AUC={round(auc, 3)}\")\n",
    "\n",
    "        ax.set_title(f\"\\nDigit {digit}\", fontsize=16)\n",
    "        if r == 1:\n",
    "            ax.set_xlabel(\"FPR\", fontsize=18)\n",
    "\n",
    "        if c == 0:\n",
    "            ax.set_ylabel(\"TPR\", fontsize=18)\n",
    "\n",
    "        ax.set_xlim([-0.05, 1.05])\n",
    "        ax.set_ylim([-0.05, 1.05])\n",
    "        ax.legend(loc=\"lower right\", frameon=False, fontsize=14)\n",
    "\n",
    "    fig.tight_layout()\n",
    "    fig.suptitle(\n",
    "        f\"ROC plots for one-vs-rest performances \"\n",
    "        f\"(on evaluation data, n={y_pred_probs_test.shape[1]}\",\n",
    "        fontsize=22,\n",
    "    )\n",
    "    fig.tight_layout()\n",
    "    fig.show()\n",
    "\n",
    "    return roc_auc_dict, fig\n",
    "\n",
    "\n",
    "roc_auc_dict, fig = plot_roc_curves(y_test, y_pred_probs_test)"
   ]
  },
  {
   "cell_type": "code",
   "execution_count": 16,
   "id": "63d2e0b9",
   "metadata": {
    "execution": {
     "iopub.execute_input": "2022-07-04T06:52:36.346931Z",
     "iopub.status.busy": "2022-07-04T06:52:36.346668Z",
     "iopub.status.idle": "2022-07-04T06:52:36.579722Z",
     "shell.execute_reply": "2022-07-04T06:52:36.579016Z"
    },
    "papermill": {
     "duration": 0.249714,
     "end_time": "2022-07-04T06:52:36.581602",
     "exception": false,
     "start_time": "2022-07-04T06:52:36.331888",
     "status": "completed"
    },
    "tags": []
   },
   "outputs": [],
   "source": [
    "logger.log_figure(\"per-digit-roc-curves.png\", fig)"
   ]
  },
  {
   "cell_type": "code",
   "execution_count": 17,
   "id": "34e3ccac",
   "metadata": {
    "execution": {
     "iopub.execute_input": "2022-07-04T06:52:36.596547Z",
     "iopub.status.busy": "2022-07-04T06:52:36.595947Z",
     "iopub.status.idle": "2022-07-04T06:52:36.601061Z",
     "shell.execute_reply": "2022-07-04T06:52:36.600426Z"
    },
    "papermill": {
     "duration": 0.014955,
     "end_time": "2022-07-04T06:52:36.603745",
     "exception": false,
     "start_time": "2022-07-04T06:52:36.588790",
     "status": "completed"
    },
    "tags": []
   },
   "outputs": [
    {
     "data": {
      "text/plain": [
       "{'0': 1.0,\n",
       " '1': 0.9987253983130272,\n",
       " '2': 1.0,\n",
       " '3': 0.9998125585754452,\n",
       " '4': 0.9995046486816034,\n",
       " '5': 0.9991752577319588,\n",
       " '6': 0.999961896052431,\n",
       " '7': 0.9998856881572931,\n",
       " '8': 0.9931431273644388,\n",
       " '9': 0.9993903368388966}"
      ]
     },
     "execution_count": 17,
     "metadata": {},
     "output_type": "execute_result"
    }
   ],
   "source": [
    "roc_auc_dict"
   ]
  },
  {
   "cell_type": "code",
   "execution_count": 18,
   "id": "00aa2968",
   "metadata": {
    "execution": {
     "iopub.execute_input": "2022-07-04T06:52:36.617538Z",
     "iopub.status.busy": "2022-07-04T06:52:36.616972Z",
     "iopub.status.idle": "2022-07-04T06:52:36.621442Z",
     "shell.execute_reply": "2022-07-04T06:52:36.620777Z"
    },
    "papermill": {
     "duration": 0.013945,
     "end_time": "2022-07-04T06:52:36.623903",
     "exception": false,
     "start_time": "2022-07-04T06:52:36.609958",
     "status": "completed"
    },
    "tags": []
   },
   "outputs": [
    {
     "name": "stdout",
     "output_type": "stream",
     "text": [
      " - Logging roc_auc_per_digit (json) : {'0': 1.0, '1': 0.9987253983130272, '2': 1.0, '3': 0.9998125585754452, '4': 0.9995046486816034, '5': 0.9991752577319588, '6': 0.999961896052431, '7': 0.9998856881572931, '8': 0.9931431273644388, '9': 0.9993903368388966}\n"
     ]
    }
   ],
   "source": [
    "logger.log_value(\"roc_auc_per_digit\", roc_auc_dict)"
   ]
  },
  {
   "cell_type": "markdown",
   "id": "05ddbaca",
   "metadata": {
    "papermill": {
     "duration": 0.006378,
     "end_time": "2022-07-04T06:52:36.636214",
     "exception": false,
     "start_time": "2022-07-04T06:52:36.629836",
     "status": "completed"
    },
    "tags": []
   },
   "source": [
    "### Compute and log mean ROC AUC score averaged over all digits"
   ]
  },
  {
   "cell_type": "code",
   "execution_count": 19,
   "id": "223cc486",
   "metadata": {
    "execution": {
     "iopub.execute_input": "2022-07-04T06:52:36.652847Z",
     "iopub.status.busy": "2022-07-04T06:52:36.652493Z",
     "iopub.status.idle": "2022-07-04T06:52:36.666322Z",
     "shell.execute_reply": "2022-07-04T06:52:36.665652Z"
    },
    "papermill": {
     "duration": 0.023642,
     "end_time": "2022-07-04T06:52:36.668265",
     "exception": false,
     "start_time": "2022-07-04T06:52:36.644623",
     "status": "completed"
    },
    "tags": []
   },
   "outputs": [
    {
     "name": "stdout",
     "output_type": "stream",
     "text": [
      " - Logging roc_auc_class_mean (float) : 0.9989598911715094\n"
     ]
    }
   ],
   "source": [
    "roc_auc_macro = np.mean(list(roc_auc_dict.values()))\n",
    "\n",
    "logger.log_float(\"roc_auc_class_mean\", roc_auc_macro)\n",
    "\n",
    "# assert that the same value can be computed directly using sklearn\n",
    "assert roc_auc_macro == metrics.roc_auc_score(\n",
    "    y_test, y_pred_probs_test, average=\"macro\", multi_class=\"ovr\"\n",
    ")"
   ]
  },
  {
   "cell_type": "code",
   "execution_count": 20,
   "id": "a2173e38",
   "metadata": {
    "execution": {
     "iopub.execute_input": "2022-07-04T06:52:36.683330Z",
     "iopub.status.busy": "2022-07-04T06:52:36.683069Z",
     "iopub.status.idle": "2022-07-04T06:52:36.686346Z",
     "shell.execute_reply": "2022-07-04T06:52:36.685676Z"
    },
    "lines_to_next_cell": 0,
    "papermill": {
     "duration": 0.014053,
     "end_time": "2022-07-04T06:52:36.688602",
     "exception": false,
     "start_time": "2022-07-04T06:52:36.674549",
     "status": "completed"
    },
    "tags": []
   },
   "outputs": [],
   "source": [
    "# ---"
   ]
  },
  {
   "cell_type": "code",
   "execution_count": null,
   "id": "4fcb77e1",
   "metadata": {
    "papermill": {
     "duration": 0.006376,
     "end_time": "2022-07-04T06:52:36.701087",
     "exception": false,
     "start_time": "2022-07-04T06:52:36.694711",
     "status": "completed"
    },
    "tags": []
   },
   "outputs": [],
   "source": []
  }
 ],
 "metadata": {
  "jupytext": {
   "cell_metadata_filter": "tags,-all",
   "main_language": "python",
   "notebook_metadata_filter": "-all"
  },
  "language_info": {
   "codemirror_mode": {
    "name": "ipython",
    "version": 3
   },
   "file_extension": ".py",
   "mimetype": "text/x-python",
   "name": "python",
   "nbconvert_exporter": "python",
   "pygments_lexer": "ipython3",
   "version": "3.8.10"
  },
  "papermill": {
   "default_parameters": {},
   "duration": 9.383903,
   "end_time": "2022-07-04T06:52:38.012685",
   "environment_variables": {},
   "exception": null,
   "input_path": "/home/host_user/workspace/mnist-demo-pipeline/mnist-demo-pipeline/notebooks/temp-notebook-wf1s3fc9.ipynb",
   "output_path": "notebooks/benchmark-model.ipynb",
   "parameters": {
    "P": {
     "_opentelemetry_traceparent": "00-0b7f1bf11e5cfed8c62638a4aa1d15b6-1195d53c5a388de0-01",
     "pipeline.data_lake_root": "/pipeline-outputs/data-lake",
     "pipeline.github.actor": "matiasdahl",
     "pipeline.github.base_ref": "",
     "pipeline.github.event_name": "schedule",
     "pipeline.github.head_ref": "",
     "pipeline.github.job": "run-tests-pipeline-and-persist-pipeline-outputs",
     "pipeline.github.ref": "refs/heads/development",
     "pipeline.github.ref_name": "development",
     "pipeline.github.ref_type": "branch",
     "pipeline.github.repository": "pynb-dag-runner/mnist-digits-demo-pipeline",
     "pipeline.github.run_id": "2608212936",
     "pipeline.github.runner_name": "Hosted Agent",
     "pipeline.github.sha": "f934c58f68028b7bb026059d4e87e6d32a1bbd20",
     "pipeline.github.workflow": "Run automated tests, pipeline and deploy results to static reporting site",
     "pipeline.pipeline_run_id": "f1e020c4-fe8c-41d7-bbf7-bf95d4453b33",
     "pipeline.run_environment": "ci",
     "run.retry_nr": "0",
     "task.max_nr_retries": "1",
     "task.notebook": "notebooks/benchmark-model.py",
     "task.nr_train_images": 800,
     "task.num_cpus": 1,
     "task.timeout_s": "None"
    }
   },
   "start_time": "2022-07-04T06:52:28.628782",
   "version": "2.3.3"
  }
 },
 "nbformat": 4,
 "nbformat_minor": 5
}