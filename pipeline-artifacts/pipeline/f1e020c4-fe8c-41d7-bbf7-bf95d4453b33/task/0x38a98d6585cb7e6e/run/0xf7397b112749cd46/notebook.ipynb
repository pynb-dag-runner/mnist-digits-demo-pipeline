{
 "cells": [
  {
   "cell_type": "markdown",
   "id": "e049dd34",
   "metadata": {
    "papermill": {
     "duration": 0.004038,
     "end_time": "2022-07-04T06:52:19.443418",
     "exception": false,
     "start_time": "2022-07-04T06:52:19.439380",
     "status": "completed"
    },
    "tags": []
   },
   "source": [
    "# Train model\n",
    "\n",
    "The purpose of this notebook is:\n",
    "\n",
    "- Load all training data (images and labels).\n",
    "- Limit number of train images to `task.nr_train_images` (value provided as run parameter).\n",
    "- Train a support vector machine model using sklearn.\n",
    "- Persist the trained model using the ONNX format."
   ]
  },
  {
   "cell_type": "markdown",
   "id": "8961a57c",
   "metadata": {
    "papermill": {
     "duration": 0.003384,
     "end_time": "2022-07-04T06:52:19.450451",
     "exception": false,
     "start_time": "2022-07-04T06:52:19.447067",
     "status": "completed"
    },
    "tags": []
   },
   "source": [
    "### Determine run parameters"
   ]
  },
  {
   "cell_type": "code",
   "execution_count": 1,
   "id": "8334136e",
   "metadata": {
    "execution": {
     "iopub.execute_input": "2022-07-04T06:52:19.458260Z",
     "iopub.status.busy": "2022-07-04T06:52:19.457942Z",
     "iopub.status.idle": "2022-07-04T06:52:19.466279Z",
     "shell.execute_reply": "2022-07-04T06:52:19.465715Z"
    },
    "lines_to_next_cell": 0,
    "papermill": {
     "duration": 0.014523,
     "end_time": "2022-07-04T06:52:19.468085",
     "exception": false,
     "start_time": "2022-07-04T06:52:19.453562",
     "status": "completed"
    },
    "tags": []
   },
   "outputs": [],
   "source": [
    "# ----------------- Parameters for interactive development --------------\n",
    "P = {\n",
    "    \"pipeline.data_lake_root\": \"/pipeline-outputs/data-lake\",\n",
    "    \"task.nr_train_images\": 600,\n",
    "}"
   ]
  },
  {
   "cell_type": "code",
   "execution_count": 2,
   "id": "2814bc2b",
   "metadata": {
    "execution": {
     "iopub.execute_input": "2022-07-04T06:52:19.476087Z",
     "iopub.status.busy": "2022-07-04T06:52:19.475592Z",
     "iopub.status.idle": "2022-07-04T06:52:19.478739Z",
     "shell.execute_reply": "2022-07-04T06:52:19.478260Z"
    },
    "lines_to_next_cell": 0,
    "papermill": {
     "duration": 0.01008,
     "end_time": "2022-07-04T06:52:19.481353",
     "exception": false,
     "start_time": "2022-07-04T06:52:19.471273",
     "status": "completed"
    },
    "tags": [
     "parameters"
    ]
   },
   "outputs": [],
   "source": [
    "# - During automated runs parameters will be injected in the below cell -"
   ]
  },
  {
   "cell_type": "code",
   "execution_count": 3,
   "id": "2442c643",
   "metadata": {
    "execution": {
     "iopub.execute_input": "2022-07-04T06:52:19.488568Z",
     "iopub.status.busy": "2022-07-04T06:52:19.488329Z",
     "iopub.status.idle": "2022-07-04T06:52:19.492874Z",
     "shell.execute_reply": "2022-07-04T06:52:19.492353Z"
    },
    "papermill": {
     "duration": 0.011049,
     "end_time": "2022-07-04T06:52:19.495321",
     "exception": false,
     "start_time": "2022-07-04T06:52:19.484272",
     "status": "completed"
    },
    "tags": [
     "injected-parameters"
    ]
   },
   "outputs": [],
   "source": [
    "# Parameters\n",
    "P = {\n",
    "    \"pipeline.data_lake_root\": \"/pipeline-outputs/data-lake\",\n",
    "    \"pipeline.run_environment\": \"ci\",\n",
    "    \"pipeline.pipeline_run_id\": \"f1e020c4-fe8c-41d7-bbf7-bf95d4453b33\",\n",
    "    \"pipeline.github.repository\": \"pynb-dag-runner/mnist-digits-demo-pipeline\",\n",
    "    \"pipeline.github.workflow\": \"Run automated tests, pipeline and deploy results to static reporting site\",\n",
    "    \"pipeline.github.runner_name\": \"Hosted Agent\",\n",
    "    \"pipeline.github.run_id\": \"2608212936\",\n",
    "    \"pipeline.github.actor\": \"matiasdahl\",\n",
    "    \"pipeline.github.job\": \"run-tests-pipeline-and-persist-pipeline-outputs\",\n",
    "    \"pipeline.github.base_ref\": \"\",\n",
    "    \"pipeline.github.head_ref\": \"\",\n",
    "    \"pipeline.github.sha\": \"f934c58f68028b7bb026059d4e87e6d32a1bbd20\",\n",
    "    \"pipeline.github.ref\": \"refs/heads/development\",\n",
    "    \"pipeline.github.ref_type\": \"branch\",\n",
    "    \"pipeline.github.ref_name\": \"development\",\n",
    "    \"pipeline.github.event_name\": \"schedule\",\n",
    "    \"task.nr_train_images\": 1000,\n",
    "    \"task.notebook\": \"notebooks/train-model.py\",\n",
    "    \"task.max_nr_retries\": \"1\",\n",
    "    \"run.retry_nr\": \"0\",\n",
    "    \"task.timeout_s\": \"None\",\n",
    "    \"task.num_cpus\": 1,\n",
    "    \"_opentelemetry_traceparent\": \"00-0b7f1bf11e5cfed8c62638a4aa1d15b6-452c77d92b3ec184-01\",\n",
    "}\n"
   ]
  },
  {
   "cell_type": "code",
   "execution_count": 4,
   "id": "f2bda7ce",
   "metadata": {
    "execution": {
     "iopub.execute_input": "2022-07-04T06:52:19.502318Z",
     "iopub.status.busy": "2022-07-04T06:52:19.502075Z",
     "iopub.status.idle": "2022-07-04T06:52:19.504875Z",
     "shell.execute_reply": "2022-07-04T06:52:19.504350Z"
    },
    "lines_to_next_cell": 0,
    "papermill": {
     "duration": 0.009057,
     "end_time": "2022-07-04T06:52:19.507403",
     "exception": false,
     "start_time": "2022-07-04T06:52:19.498346",
     "status": "completed"
    },
    "tags": []
   },
   "outputs": [],
   "source": [
    "# -----------------------------------------------------------------------"
   ]
  },
  {
   "cell_type": "markdown",
   "id": "3bd3915a",
   "metadata": {
    "papermill": {
     "duration": 0.002956,
     "end_time": "2022-07-04T06:52:19.513281",
     "exception": false,
     "start_time": "2022-07-04T06:52:19.510325",
     "status": "completed"
    },
    "tags": []
   },
   "source": [
    "---"
   ]
  },
  {
   "cell_type": "markdown",
   "id": "61404825",
   "metadata": {
    "lines_to_next_cell": 2,
    "papermill": {
     "duration": 0.002885,
     "end_time": "2022-07-04T06:52:19.518983",
     "exception": false,
     "start_time": "2022-07-04T06:52:19.516098",
     "status": "completed"
    },
    "tags": []
   },
   "source": [
    "### Notebook code"
   ]
  },
  {
   "cell_type": "code",
   "execution_count": 5,
   "id": "09fe545b",
   "metadata": {
    "execution": {
     "iopub.execute_input": "2022-07-04T06:52:19.526212Z",
     "iopub.status.busy": "2022-07-04T06:52:19.525958Z",
     "iopub.status.idle": "2022-07-04T06:52:20.016053Z",
     "shell.execute_reply": "2022-07-04T06:52:20.015442Z"
    },
    "papermill": {
     "duration": 0.496616,
     "end_time": "2022-07-04T06:52:20.018386",
     "exception": false,
     "start_time": "2022-07-04T06:52:19.521770",
     "status": "completed"
    },
    "tags": []
   },
   "outputs": [
    {
     "name": "stderr",
     "output_type": "stream",
     "text": [
      "2022-07-04 06:52:19,839\tINFO worker.py:842 -- Connecting to existing Ray cluster at address: 172.17.0.2:6379\n"
     ]
    }
   ],
   "source": [
    "from pynb_dag_runner.tasks.task_opentelemetry_logging import PydarLogger\n",
    "\n",
    "logger = PydarLogger(P)"
   ]
  },
  {
   "cell_type": "markdown",
   "id": "4d107d6b",
   "metadata": {
    "papermill": {
     "duration": 0.003735,
     "end_time": "2022-07-04T06:52:20.025409",
     "exception": false,
     "start_time": "2022-07-04T06:52:20.021674",
     "status": "completed"
    },
    "tags": []
   },
   "source": [
    "## Load and limit train data"
   ]
  },
  {
   "cell_type": "code",
   "execution_count": 6,
   "id": "b2ac1bc1",
   "metadata": {
    "execution": {
     "iopub.execute_input": "2022-07-04T06:52:20.033231Z",
     "iopub.status.busy": "2022-07-04T06:52:20.032808Z",
     "iopub.status.idle": "2022-07-04T06:52:20.414770Z",
     "shell.execute_reply": "2022-07-04T06:52:20.413921Z"
    },
    "papermill": {
     "duration": 0.388114,
     "end_time": "2022-07-04T06:52:20.416810",
     "exception": false,
     "start_time": "2022-07-04T06:52:20.028696",
     "status": "completed"
    },
    "tags": []
   },
   "outputs": [],
   "source": [
    "def load_and_limit_train_data(P):\n",
    "    from common.io import datalake_root, read_numpy\n",
    "    from sklearn.model_selection import train_test_split\n",
    "\n",
    "    X_train_all = read_numpy(datalake_root(P) / \"train-data\" / \"digits.numpy\")\n",
    "    y_train_all = read_numpy(datalake_root(P) / \"train-data\" / \"labels.numpy\")\n",
    "\n",
    "    assert isinstance(P[\"task.nr_train_images\"], int)\n",
    "\n",
    "    # Note: train_test_split will fail if split is 0 or 100%.\n",
    "    assert 0 < P[\"task.nr_train_images\"] < len(y_train_all)\n",
    "\n",
    "    X_train, _, y_train, _ = train_test_split(\n",
    "        X_train_all,\n",
    "        y_train_all,\n",
    "        train_size=P[\"task.nr_train_images\"],\n",
    "        test_size=None,\n",
    "        stratify=y_train_all,\n",
    "        shuffle=True,\n",
    "        random_state=123,\n",
    "    )\n",
    "\n",
    "    assert X_train.shape == (len(y_train), 8 * 8)\n",
    "    return X_train, y_train\n",
    "\n",
    "\n",
    "X_train, y_train = load_and_limit_train_data(P)"
   ]
  },
  {
   "cell_type": "markdown",
   "id": "9b28591e",
   "metadata": {
    "papermill": {
     "duration": 0.003106,
     "end_time": "2022-07-04T06:52:20.423405",
     "exception": false,
     "start_time": "2022-07-04T06:52:20.420299",
     "status": "completed"
    },
    "tags": []
   },
   "source": [
    "## Train support vector classifier model\n",
    "\n",
    "Below we assume that the hyperparameter $C$ is known.\n",
    "\n",
    "However, this should ideally be found by a hyperparameter search. That could be\n",
    "done in parallel on the Ray cluster, but this needs some more work. Ie., to use\n",
    "multiple cores in the notebook, those cores should be reserved when starting the\n",
    "notebook task (TODO).\n",
    "\n",
    "- https://docs.ray.io/en/latest/tune/key-concepts.html\n",
    "\n",
    "Note: cv-scores would need to be computed here, since they depend on the train data.\n",
    "After this notebook only the onnx-model is available."
   ]
  },
  {
   "cell_type": "code",
   "execution_count": 7,
   "id": "dc66bdeb",
   "metadata": {
    "execution": {
     "iopub.execute_input": "2022-07-04T06:52:20.432663Z",
     "iopub.status.busy": "2022-07-04T06:52:20.432028Z",
     "iopub.status.idle": "2022-07-04T06:52:20.454148Z",
     "shell.execute_reply": "2022-07-04T06:52:20.452395Z"
    },
    "papermill": {
     "duration": 0.030009,
     "end_time": "2022-07-04T06:52:20.456364",
     "exception": false,
     "start_time": "2022-07-04T06:52:20.426355",
     "status": "completed"
    },
    "tags": []
   },
   "outputs": [],
   "source": [
    "from sklearn.svm import SVC"
   ]
  },
  {
   "cell_type": "code",
   "execution_count": 8,
   "id": "816b5a8c",
   "metadata": {
    "execution": {
     "iopub.execute_input": "2022-07-04T06:52:20.464814Z",
     "iopub.status.busy": "2022-07-04T06:52:20.464550Z",
     "iopub.status.idle": "2022-07-04T06:52:20.620405Z",
     "shell.execute_reply": "2022-07-04T06:52:20.619732Z"
    },
    "papermill": {
     "duration": 0.163221,
     "end_time": "2022-07-04T06:52:20.622595",
     "exception": false,
     "start_time": "2022-07-04T06:52:20.459374",
     "status": "completed"
    },
    "tags": []
   },
   "outputs": [
    {
     "data": {
      "text/plain": [
       "SVC(C=0.001, kernel='linear', probability=True)"
      ]
     },
     "execution_count": 8,
     "metadata": {},
     "output_type": "execute_result"
    }
   ],
   "source": [
    "model = SVC(C=0.001, kernel=\"linear\", probability=True)\n",
    "\n",
    "model.fit(X_train, y_train)"
   ]
  },
  {
   "cell_type": "markdown",
   "id": "ba795f42",
   "metadata": {
    "papermill": {
     "duration": 0.003549,
     "end_time": "2022-07-04T06:52:20.629815",
     "exception": false,
     "start_time": "2022-07-04T06:52:20.626266",
     "status": "completed"
    },
    "tags": []
   },
   "source": [
    "### Q: Can the labels returned by `predict(..)` be computed from probabilities returned by the `predict_prob`-method?"
   ]
  },
  {
   "cell_type": "code",
   "execution_count": 9,
   "id": "3820ae70",
   "metadata": {
    "execution": {
     "iopub.execute_input": "2022-07-04T06:52:20.637416Z",
     "iopub.status.busy": "2022-07-04T06:52:20.636976Z",
     "iopub.status.idle": "2022-07-04T06:52:20.713867Z",
     "shell.execute_reply": "2022-07-04T06:52:20.713175Z"
    },
    "papermill": {
     "duration": 0.08279,
     "end_time": "2022-07-04T06:52:20.715580",
     "exception": false,
     "start_time": "2022-07-04T06:52:20.632790",
     "status": "completed"
    },
    "tags": []
   },
   "outputs": [
    {
     "name": "stdout",
     "output_type": "stream",
     "text": [
      " - Logging nr_max_prob_neq_label (int) : 1\n"
     ]
    }
   ],
   "source": [
    "import numpy as np\n",
    "\n",
    "y_train_labels = model.predict(X_train)\n",
    "y_train_probabilities = model.predict_proba(X_train)\n",
    "assert y_train_probabilities.shape == (len(y_train), 10)\n",
    "\n",
    "y_train_max_prob_labels = np.argmax(y_train_probabilities, axis=1)\n",
    "assert y_train_labels.shape == y_train_max_prob_labels.shape == y_train.shape\n",
    "\n",
    "# If the predicted labels would coincide with the labels that have\n",
    "# maximum probability, the below number would be zero\n",
    "logger.log_int(\n",
    "    \"nr_max_prob_neq_label\", int(sum(y_train_max_prob_labels != y_train_labels))\n",
    ")"
   ]
  },
  {
   "cell_type": "markdown",
   "id": "86dc2ae8",
   "metadata": {
    "papermill": {
     "duration": 0.003197,
     "end_time": "2022-07-04T06:52:20.721991",
     "exception": false,
     "start_time": "2022-07-04T06:52:20.718794",
     "status": "completed"
    },
    "tags": []
   },
   "source": [
    "The explanation is (likely) explained in the SVC source, see\n",
    "[here](https://github.com/scikit-learn/scikit-learn/blob/main/sklearn/svm/_base.py).\n",
    "Namely, the outputs from `predict(..)` and `predict_proba(..)` may not in some\n",
    "cases be compatible since the latter is computed using cross-validation while\n",
    "the former is not. Thus, the above number need not be zero."
   ]
  },
  {
   "cell_type": "markdown",
   "id": "f5be6b98",
   "metadata": {
    "papermill": {
     "duration": 0.003078,
     "end_time": "2022-07-04T06:52:20.728437",
     "exception": false,
     "start_time": "2022-07-04T06:52:20.725359",
     "status": "completed"
    },
    "tags": []
   },
   "source": [
    "## Persist model"
   ]
  },
  {
   "cell_type": "code",
   "execution_count": 10,
   "id": "da152530",
   "metadata": {
    "execution": {
     "iopub.execute_input": "2022-07-04T06:52:20.736491Z",
     "iopub.status.busy": "2022-07-04T06:52:20.735983Z",
     "iopub.status.idle": "2022-07-04T06:52:21.493425Z",
     "shell.execute_reply": "2022-07-04T06:52:21.492485Z"
    },
    "papermill": {
     "duration": 0.763732,
     "end_time": "2022-07-04T06:52:21.495454",
     "exception": false,
     "start_time": "2022-07-04T06:52:20.731722",
     "status": "completed"
    },
    "tags": []
   },
   "outputs": [],
   "source": [
    "from skl2onnx import convert_sklearn\n",
    "from skl2onnx.common.data_types import FloatTensorType\n",
    "\n",
    "#\n",
    "from common.io import datalake_root, write_onnx"
   ]
  },
  {
   "cell_type": "code",
   "execution_count": 11,
   "id": "9d804548",
   "metadata": {
    "execution": {
     "iopub.execute_input": "2022-07-04T06:52:21.508843Z",
     "iopub.status.busy": "2022-07-04T06:52:21.508085Z",
     "iopub.status.idle": "2022-07-04T06:52:21.563576Z",
     "shell.execute_reply": "2022-07-04T06:52:21.562754Z"
    },
    "papermill": {
     "duration": 0.065797,
     "end_time": "2022-07-04T06:52:21.565612",
     "exception": false,
     "start_time": "2022-07-04T06:52:21.499815",
     "status": "completed"
    },
    "tags": []
   },
   "outputs": [],
   "source": [
    "# convert sklearn model into onnx and persist to data lake\n",
    "\n",
    "model_onnx = convert_sklearn(\n",
    "    model, initial_types=[(\"float_input_8x8_image\", FloatTensorType([None, 8 * 8]))]\n",
    ")\n",
    "write_onnx(\n",
    "    datalake_root(P)\n",
    "    / \"models\"\n",
    "    / f\"nr_train_images={P['task.nr_train_images']}\"\n",
    "    / \"model.onnx\",\n",
    "    model_onnx,\n",
    ")"
   ]
  },
  {
   "cell_type": "code",
   "execution_count": null,
   "id": "e7b0c87c",
   "metadata": {
    "papermill": {
     "duration": 0.003653,
     "end_time": "2022-07-04T06:52:21.573110",
     "exception": false,
     "start_time": "2022-07-04T06:52:21.569457",
     "status": "completed"
    },
    "tags": []
   },
   "outputs": [],
   "source": []
  }
 ],
 "metadata": {
  "jupytext": {
   "cell_metadata_filter": "tags,-all",
   "main_language": "python",
   "notebook_metadata_filter": "-all"
  },
  "language_info": {
   "codemirror_mode": {
    "name": "ipython",
    "version": 3
   },
   "file_extension": ".py",
   "mimetype": "text/x-python",
   "name": "python",
   "nbconvert_exporter": "python",
   "pygments_lexer": "ipython3",
   "version": "3.8.10"
  },
  "papermill": {
   "default_parameters": {},
   "duration": 4.446725,
   "end_time": "2022-07-04T06:52:22.495413",
   "environment_variables": {},
   "exception": null,
   "input_path": "/home/host_user/workspace/mnist-demo-pipeline/mnist-demo-pipeline/notebooks/temp-notebook-i7yotnyk.ipynb",
   "output_path": "notebooks/train-model.ipynb",
   "parameters": {
    "P": {
     "_opentelemetry_traceparent": "00-0b7f1bf11e5cfed8c62638a4aa1d15b6-452c77d92b3ec184-01",
     "pipeline.data_lake_root": "/pipeline-outputs/data-lake",
     "pipeline.github.actor": "matiasdahl",
     "pipeline.github.base_ref": "",
     "pipeline.github.event_name": "schedule",
     "pipeline.github.head_ref": "",
     "pipeline.github.job": "run-tests-pipeline-and-persist-pipeline-outputs",
     "pipeline.github.ref": "refs/heads/development",
     "pipeline.github.ref_name": "development",
     "pipeline.github.ref_type": "branch",
     "pipeline.github.repository": "pynb-dag-runner/mnist-digits-demo-pipeline",
     "pipeline.github.run_id": "2608212936",
     "pipeline.github.runner_name": "Hosted Agent",
     "pipeline.github.sha": "f934c58f68028b7bb026059d4e87e6d32a1bbd20",
     "pipeline.github.workflow": "Run automated tests, pipeline and deploy results to static reporting site",
     "pipeline.pipeline_run_id": "f1e020c4-fe8c-41d7-bbf7-bf95d4453b33",
     "pipeline.run_environment": "ci",
     "run.retry_nr": "0",
     "task.max_nr_retries": "1",
     "task.notebook": "notebooks/train-model.py",
     "task.nr_train_images": 1000,
     "task.num_cpus": 1,
     "task.timeout_s": "None"
    }
   },
   "start_time": "2022-07-04T06:52:18.048688",
   "version": "2.3.3"
  }
 },
 "nbformat": 4,
 "nbformat_minor": 5
}