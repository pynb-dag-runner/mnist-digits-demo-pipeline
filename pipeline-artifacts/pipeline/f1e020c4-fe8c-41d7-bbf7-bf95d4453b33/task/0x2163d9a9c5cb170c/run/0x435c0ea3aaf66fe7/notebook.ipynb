{
 "cells": [
  {
   "cell_type": "markdown",
   "id": "b3511809",
   "metadata": {
    "papermill": {
     "duration": 0.005704,
     "end_time": "2022-07-04T06:52:25.202415",
     "exception": false,
     "start_time": "2022-07-04T06:52:25.196711",
     "status": "completed"
    },
    "tags": []
   },
   "source": [
    "# Benchmark model\n",
    "\n",
    "The purpose of this notebook is to benchmark persisted onnx-model (trained in the\n",
    "previous step) against evaluation set."
   ]
  },
  {
   "cell_type": "markdown",
   "id": "7119e202",
   "metadata": {
    "papermill": {
     "duration": 0.004736,
     "end_time": "2022-07-04T06:52:25.211821",
     "exception": false,
     "start_time": "2022-07-04T06:52:25.207085",
     "status": "completed"
    },
    "tags": []
   },
   "source": [
    "### Determine run parameters"
   ]
  },
  {
   "cell_type": "code",
   "execution_count": 1,
   "id": "a14b1985",
   "metadata": {
    "execution": {
     "iopub.execute_input": "2022-07-04T06:52:25.221965Z",
     "iopub.status.busy": "2022-07-04T06:52:25.221656Z",
     "iopub.status.idle": "2022-07-04T06:52:25.230846Z",
     "shell.execute_reply": "2022-07-04T06:52:25.230207Z"
    },
    "lines_to_next_cell": 0,
    "papermill": {
     "duration": 0.017327,
     "end_time": "2022-07-04T06:52:25.233460",
     "exception": false,
     "start_time": "2022-07-04T06:52:25.216133",
     "status": "completed"
    },
    "tags": []
   },
   "outputs": [],
   "source": [
    "# ----------------- Parameters for interactive development --------------\n",
    "P = {\n",
    "    \"pipeline.data_lake_root\": \"/pipeline-outputs/data-lake\",\n",
    "    \"task.nr_train_images\": 600,\n",
    "}"
   ]
  },
  {
   "cell_type": "code",
   "execution_count": 2,
   "id": "8049c6fc",
   "metadata": {
    "execution": {
     "iopub.execute_input": "2022-07-04T06:52:25.243635Z",
     "iopub.status.busy": "2022-07-04T06:52:25.243383Z",
     "iopub.status.idle": "2022-07-04T06:52:25.247141Z",
     "shell.execute_reply": "2022-07-04T06:52:25.246601Z"
    },
    "lines_to_next_cell": 0,
    "papermill": {
     "duration": 0.011938,
     "end_time": "2022-07-04T06:52:25.249960",
     "exception": false,
     "start_time": "2022-07-04T06:52:25.238022",
     "status": "completed"
    },
    "tags": [
     "parameters"
    ]
   },
   "outputs": [],
   "source": [
    "# - During automated runs parameters will be injected in the below cell -"
   ]
  },
  {
   "cell_type": "code",
   "execution_count": 3,
   "id": "2959c02c",
   "metadata": {
    "execution": {
     "iopub.execute_input": "2022-07-04T06:52:25.260244Z",
     "iopub.status.busy": "2022-07-04T06:52:25.259987Z",
     "iopub.status.idle": "2022-07-04T06:52:25.265466Z",
     "shell.execute_reply": "2022-07-04T06:52:25.264933Z"
    },
    "papermill": {
     "duration": 0.013619,
     "end_time": "2022-07-04T06:52:25.268266",
     "exception": false,
     "start_time": "2022-07-04T06:52:25.254647",
     "status": "completed"
    },
    "tags": [
     "injected-parameters"
    ]
   },
   "outputs": [],
   "source": [
    "# Parameters\n",
    "P = {\n",
    "    \"pipeline.data_lake_root\": \"/pipeline-outputs/data-lake\",\n",
    "    \"pipeline.run_environment\": \"ci\",\n",
    "    \"pipeline.pipeline_run_id\": \"f1e020c4-fe8c-41d7-bbf7-bf95d4453b33\",\n",
    "    \"pipeline.github.repository\": \"pynb-dag-runner/mnist-digits-demo-pipeline\",\n",
    "    \"pipeline.github.workflow\": \"Run automated tests, pipeline and deploy results to static reporting site\",\n",
    "    \"pipeline.github.runner_name\": \"Hosted Agent\",\n",
    "    \"pipeline.github.run_id\": \"2608212936\",\n",
    "    \"pipeline.github.actor\": \"matiasdahl\",\n",
    "    \"pipeline.github.job\": \"run-tests-pipeline-and-persist-pipeline-outputs\",\n",
    "    \"pipeline.github.base_ref\": \"\",\n",
    "    \"pipeline.github.head_ref\": \"\",\n",
    "    \"pipeline.github.sha\": \"f934c58f68028b7bb026059d4e87e6d32a1bbd20\",\n",
    "    \"pipeline.github.ref\": \"refs/heads/development\",\n",
    "    \"pipeline.github.ref_type\": \"branch\",\n",
    "    \"pipeline.github.ref_name\": \"development\",\n",
    "    \"pipeline.github.event_name\": \"schedule\",\n",
    "    \"task.nr_train_images\": 1200,\n",
    "    \"task.notebook\": \"notebooks/benchmark-model.py\",\n",
    "    \"task.max_nr_retries\": \"1\",\n",
    "    \"run.retry_nr\": \"0\",\n",
    "    \"task.timeout_s\": \"None\",\n",
    "    \"task.num_cpus\": 1,\n",
    "    \"_opentelemetry_traceparent\": \"00-0b7f1bf11e5cfed8c62638a4aa1d15b6-b35c564ede3a0ba3-01\",\n",
    "}\n"
   ]
  },
  {
   "cell_type": "code",
   "execution_count": 4,
   "id": "fb308d21",
   "metadata": {
    "execution": {
     "iopub.execute_input": "2022-07-04T06:52:25.282629Z",
     "iopub.status.busy": "2022-07-04T06:52:25.282361Z",
     "iopub.status.idle": "2022-07-04T06:52:25.287269Z",
     "shell.execute_reply": "2022-07-04T06:52:25.286688Z"
    },
    "lines_to_next_cell": 0,
    "papermill": {
     "duration": 0.017894,
     "end_time": "2022-07-04T06:52:25.290156",
     "exception": false,
     "start_time": "2022-07-04T06:52:25.272262",
     "status": "completed"
    },
    "tags": []
   },
   "outputs": [],
   "source": [
    "# -----------------------------------------------------------------------"
   ]
  },
  {
   "cell_type": "markdown",
   "id": "919e57db",
   "metadata": {
    "papermill": {
     "duration": 0.004642,
     "end_time": "2022-07-04T06:52:25.299039",
     "exception": false,
     "start_time": "2022-07-04T06:52:25.294397",
     "status": "completed"
    },
    "tags": []
   },
   "source": [
    "---"
   ]
  },
  {
   "cell_type": "markdown",
   "id": "5995fd57",
   "metadata": {
    "lines_to_next_cell": 2,
    "papermill": {
     "duration": 0.004693,
     "end_time": "2022-07-04T06:52:25.307667",
     "exception": false,
     "start_time": "2022-07-04T06:52:25.302974",
     "status": "completed"
    },
    "tags": []
   },
   "source": [
    "### Notebook code"
   ]
  },
  {
   "cell_type": "code",
   "execution_count": 5,
   "id": "35b1ce2b",
   "metadata": {
    "execution": {
     "iopub.execute_input": "2022-07-04T06:52:25.319264Z",
     "iopub.status.busy": "2022-07-04T06:52:25.319002Z",
     "iopub.status.idle": "2022-07-04T06:52:26.455363Z",
     "shell.execute_reply": "2022-07-04T06:52:26.454369Z"
    },
    "papermill": {
     "duration": 1.144142,
     "end_time": "2022-07-04T06:52:26.457315",
     "exception": false,
     "start_time": "2022-07-04T06:52:25.313173",
     "status": "completed"
    },
    "tags": []
   },
   "outputs": [
    {
     "name": "stderr",
     "output_type": "stream",
     "text": [
      "2022-07-04 06:52:26,302\tINFO worker.py:842 -- Connecting to existing Ray cluster at address: 172.17.0.2:6379\n"
     ]
    }
   ],
   "source": [
    "import itertools as it\n",
    "\n",
    "#\n",
    "import numpy as np\n",
    "import matplotlib.pyplot as plt\n",
    "\n",
    "#\n",
    "from pynb_dag_runner.tasks.task_opentelemetry_logging import PydarLogger\n",
    "\n",
    "#\n",
    "from common.io import datalake_root\n",
    "\n",
    "logger = PydarLogger(P)"
   ]
  },
  {
   "cell_type": "markdown",
   "id": "53a62029",
   "metadata": {
    "papermill": {
     "duration": 0.004569,
     "end_time": "2022-07-04T06:52:26.466040",
     "exception": false,
     "start_time": "2022-07-04T06:52:26.461471",
     "status": "completed"
    },
    "tags": []
   },
   "source": [
    "## Load persisted onnx-model and evaluation data"
   ]
  },
  {
   "cell_type": "code",
   "execution_count": 6,
   "id": "ec084092",
   "metadata": {
    "execution": {
     "iopub.execute_input": "2022-07-04T06:52:26.475680Z",
     "iopub.status.busy": "2022-07-04T06:52:26.475001Z",
     "iopub.status.idle": "2022-07-04T06:52:26.478930Z",
     "shell.execute_reply": "2022-07-04T06:52:26.478135Z"
    },
    "papermill": {
     "duration": 0.010518,
     "end_time": "2022-07-04T06:52:26.480411",
     "exception": false,
     "start_time": "2022-07-04T06:52:26.469893",
     "status": "completed"
    },
    "tags": []
   },
   "outputs": [],
   "source": [
    "from common.io import read_onnx, get_onnx_inputs, get_onnx_outputs, read_numpy"
   ]
  },
  {
   "cell_type": "code",
   "execution_count": 7,
   "id": "8401eee7",
   "metadata": {
    "execution": {
     "iopub.execute_input": "2022-07-04T06:52:26.490030Z",
     "iopub.status.busy": "2022-07-04T06:52:26.489699Z",
     "iopub.status.idle": "2022-07-04T06:52:26.506966Z",
     "shell.execute_reply": "2022-07-04T06:52:26.506341Z"
    },
    "lines_to_next_cell": 0,
    "papermill": {
     "duration": 0.024522,
     "end_time": "2022-07-04T06:52:26.509071",
     "exception": false,
     "start_time": "2022-07-04T06:52:26.484549",
     "status": "completed"
    },
    "tags": []
   },
   "outputs": [],
   "source": [
    "onnx_inference_session = read_onnx(\n",
    "    datalake_root(P)\n",
    "    / \"models\"\n",
    "    / f\"nr_train_images={P['task.nr_train_images']}\"\n",
    "    / \"model.onnx\"\n",
    ")"
   ]
  },
  {
   "cell_type": "markdown",
   "id": "631ca6c1",
   "metadata": {
    "papermill": {
     "duration": 0.004679,
     "end_time": "2022-07-04T06:52:26.518554",
     "exception": false,
     "start_time": "2022-07-04T06:52:26.513875",
     "status": "completed"
    },
    "tags": []
   },
   "source": [
    "### Record structure of inputs and outputs for ONNX model\n",
    "\n",
    "(this should likely be done in training notebook)"
   ]
  },
  {
   "cell_type": "code",
   "execution_count": 8,
   "id": "573901fa",
   "metadata": {
    "execution": {
     "iopub.execute_input": "2022-07-04T06:52:26.528987Z",
     "iopub.status.busy": "2022-07-04T06:52:26.528709Z",
     "iopub.status.idle": "2022-07-04T06:52:26.534687Z",
     "shell.execute_reply": "2022-07-04T06:52:26.533887Z"
    },
    "papermill": {
     "duration": 0.015646,
     "end_time": "2022-07-04T06:52:26.538559",
     "exception": false,
     "start_time": "2022-07-04T06:52:26.522913",
     "status": "completed"
    },
    "tags": []
   },
   "outputs": [
    {
     "name": "stdout",
     "output_type": "stream",
     "text": [
      "{\n",
      "  \"inputs\": [\n",
      "    {\n",
      "      \"name\": \"float_input_8x8_image\",\n",
      "      \"shape\": [\n",
      "        null,\n",
      "        64\n",
      "      ],\n",
      "      \"type\": \"tensor(float)\"\n",
      "    }\n",
      "  ],\n",
      "  \"outputs\": [\n",
      "    {\n",
      "      \"name\": \"output_label\",\n",
      "      \"shape\": [\n",
      "        null\n",
      "      ],\n",
      "      \"type\": \"tensor(int64)\"\n",
      "    },\n",
      "    {\n",
      "      \"name\": \"output_probability\",\n",
      "      \"shape\": [],\n",
      "      \"type\": \"seq(map(int64,tensor(float)))\"\n",
      "    }\n",
      "  ]\n",
      "}\n"
     ]
    }
   ],
   "source": [
    "import json\n",
    "\n",
    "onnx_io = json.dumps(\n",
    "    {\n",
    "        \"inputs\": get_onnx_inputs(onnx_inference_session),\n",
    "        \"outputs\": get_onnx_outputs(onnx_inference_session),\n",
    "    },\n",
    "    indent=2,\n",
    ")\n",
    "\n",
    "\n",
    "logger.log_artefact(\"onnx_io_structure.json\", onnx_io)\n",
    "print(onnx_io)"
   ]
  },
  {
   "cell_type": "markdown",
   "id": "ea222e68",
   "metadata": {
    "papermill": {
     "duration": 0.005618,
     "end_time": "2022-07-04T06:52:26.548483",
     "exception": false,
     "start_time": "2022-07-04T06:52:26.542865",
     "status": "completed"
    },
    "tags": []
   },
   "source": [
    "### Evaluate model performance on evaluation data set"
   ]
  },
  {
   "cell_type": "code",
   "execution_count": 9,
   "id": "7accaa6a",
   "metadata": {
    "execution": {
     "iopub.execute_input": "2022-07-04T06:52:26.558827Z",
     "iopub.status.busy": "2022-07-04T06:52:26.558559Z",
     "iopub.status.idle": "2022-07-04T06:52:26.563362Z",
     "shell.execute_reply": "2022-07-04T06:52:26.562706Z"
    },
    "papermill": {
     "duration": 0.013896,
     "end_time": "2022-07-04T06:52:26.566547",
     "exception": false,
     "start_time": "2022-07-04T06:52:26.552651",
     "status": "completed"
    },
    "tags": []
   },
   "outputs": [],
   "source": [
    "# load evaluation data\n",
    "X_test = read_numpy(datalake_root(P) / \"test-data\" / \"digits.numpy\")\n",
    "y_test = read_numpy(datalake_root(P) / \"test-data\" / \"labels.numpy\")"
   ]
  },
  {
   "cell_type": "code",
   "execution_count": 10,
   "id": "2a5612db",
   "metadata": {
    "execution": {
     "iopub.execute_input": "2022-07-04T06:52:26.579000Z",
     "iopub.status.busy": "2022-07-04T06:52:26.578731Z",
     "iopub.status.idle": "2022-07-04T06:52:26.594433Z",
     "shell.execute_reply": "2022-07-04T06:52:26.593634Z"
    },
    "papermill": {
     "duration": 0.023781,
     "end_time": "2022-07-04T06:52:26.596608",
     "exception": false,
     "start_time": "2022-07-04T06:52:26.572827",
     "status": "completed"
    },
    "tags": []
   },
   "outputs": [],
   "source": [
    "def get_model_outputs(X, onnx_inference_session):\n",
    "    y_pred_labels, y_pred_map = onnx_inference_session.run(\n",
    "        [\"output_label\", \"output_probability\"],\n",
    "        {\"float_input_8x8_image\": X.astype(np.float32)},\n",
    "    )\n",
    "    y_pred_probs = np.array(\n",
    "        [[probabilities[digit] for digit in range(10)] for probabilities in y_pred_map]\n",
    "    )\n",
    "\n",
    "    assert y_pred_labels.shape == (X.shape[0],)\n",
    "    assert y_pred_probs.shape == (X.shape[0], 10)\n",
    "\n",
    "    return y_pred_labels, y_pred_probs\n",
    "\n",
    "\n",
    "# Note: as shown in the training notebook, the predicted labels and probabilities\n",
    "# computed below need not be compatible.\n",
    "y_pred_labels_test, y_pred_probs_test = get_model_outputs(\n",
    "    X_test, onnx_inference_session\n",
    ")"
   ]
  },
  {
   "cell_type": "markdown",
   "id": "f88d836d",
   "metadata": {
    "papermill": {
     "duration": 0.0087,
     "end_time": "2022-07-04T06:52:26.609906",
     "exception": false,
     "start_time": "2022-07-04T06:52:26.601206",
     "status": "completed"
    },
    "tags": []
   },
   "source": [
    "### Confusion matrix"
   ]
  },
  {
   "cell_type": "code",
   "execution_count": 11,
   "id": "1b026e1e",
   "metadata": {
    "execution": {
     "iopub.execute_input": "2022-07-04T06:52:26.620895Z",
     "iopub.status.busy": "2022-07-04T06:52:26.620608Z",
     "iopub.status.idle": "2022-07-04T06:52:26.623494Z",
     "shell.execute_reply": "2022-07-04T06:52:26.622951Z"
    },
    "papermill": {
     "duration": 0.0118,
     "end_time": "2022-07-04T06:52:26.626573",
     "exception": false,
     "start_time": "2022-07-04T06:52:26.614773",
     "status": "completed"
    },
    "tags": []
   },
   "outputs": [],
   "source": [
    "# TODO"
   ]
  },
  {
   "cell_type": "markdown",
   "id": "a517b721",
   "metadata": {
    "papermill": {
     "duration": 0.004677,
     "end_time": "2022-07-04T06:52:26.635649",
     "exception": false,
     "start_time": "2022-07-04T06:52:26.630972",
     "status": "completed"
    },
    "tags": []
   },
   "source": [
    "### Plot predicted probabilities for each classifier over all evaluation digit images"
   ]
  },
  {
   "cell_type": "code",
   "execution_count": 12,
   "id": "ced613dd",
   "metadata": {
    "execution": {
     "iopub.execute_input": "2022-07-04T06:52:26.645831Z",
     "iopub.status.busy": "2022-07-04T06:52:26.645561Z",
     "iopub.status.idle": "2022-07-04T06:52:30.058623Z",
     "shell.execute_reply": "2022-07-04T06:52:30.058079Z"
    },
    "papermill": {
     "duration": 3.420493,
     "end_time": "2022-07-04T06:52:30.060508",
     "exception": false,
     "start_time": "2022-07-04T06:52:26.640015",
     "status": "completed"
    },
    "tags": []
   },
   "outputs": [
    {
     "data": {
      "image/png": "[encoded data removed]",
      "text/plain": [
       "<Figure size 1152x432 with 10 Axes>"
      ]
     },
     "metadata": {
      "needs_background": "light"
     },
     "output_type": "display_data"
    }
   ],
   "source": [
    "def plot_per_digit_probabilities(y_pred_probs):\n",
    "    fig, axs = plt.subplots(nrows=2, ncols=5, figsize=(16, 6))\n",
    "\n",
    "    for (r, c), digit, ax in zip(\n",
    "        it.product(range(2), range(5)), range(10), axs.reshape(-1)\n",
    "    ):\n",
    "        ax.hist(y_pred_probs_test[:, digit], bins=20)\n",
    "\n",
    "        ax.set_title(f\"Digit {digit}\")\n",
    "        if r == 1 and c == 2:\n",
    "            ax.set_xlabel(\"probability\", fontsize=16)\n",
    "\n",
    "        if c == 0:\n",
    "            ax.set_ylabel(\"counts\", fontsize=16)\n",
    "        ax.set_yscale(\"log\")\n",
    "\n",
    "    fig.tight_layout()\n",
    "    fig.suptitle(\n",
    "        f\"Distributions of prediction probabilities for each digit \"\n",
    "        f\"(on evaluation data, n={y_pred_probs.shape[0]})\",\n",
    "        fontsize=20,\n",
    "    )\n",
    "    fig.tight_layout()\n",
    "    fig.show()\n",
    "\n",
    "    return fig\n",
    "\n",
    "\n",
    "fig = plot_per_digit_probabilities(y_pred_probs_test)"
   ]
  },
  {
   "cell_type": "markdown",
   "id": "eb02fcc4",
   "metadata": {
    "papermill": {
     "duration": 0.00552,
     "end_time": "2022-07-04T06:52:30.071814",
     "exception": false,
     "start_time": "2022-07-04T06:52:30.066294",
     "status": "completed"
    },
    "tags": []
   },
   "source": [
    "From the above distributions we see that most digits have clear separation between\n",
    "high and lower probabilities. Morover, in each case there is roughly an order of\n",
    "magnitude more of digits with low probabilities. This is compatible with digits\n",
    "being roughly evenly distributed in the data."
   ]
  },
  {
   "cell_type": "code",
   "execution_count": 13,
   "id": "f989332d",
   "metadata": {
    "execution": {
     "iopub.execute_input": "2022-07-04T06:52:30.084564Z",
     "iopub.status.busy": "2022-07-04T06:52:30.084197Z",
     "iopub.status.idle": "2022-07-04T06:52:30.552070Z",
     "shell.execute_reply": "2022-07-04T06:52:30.551045Z"
    },
    "papermill": {
     "duration": 0.476055,
     "end_time": "2022-07-04T06:52:30.553887",
     "exception": false,
     "start_time": "2022-07-04T06:52:30.077832",
     "status": "completed"
    },
    "tags": []
   },
   "outputs": [],
   "source": [
    "logger.log_figure(\"per-digit-probabilities.png\", fig)"
   ]
  },
  {
   "cell_type": "markdown",
   "id": "06df1fc0",
   "metadata": {
    "papermill": {
     "duration": 0.005331,
     "end_time": "2022-07-04T06:52:30.564748",
     "exception": false,
     "start_time": "2022-07-04T06:52:30.559417",
     "status": "completed"
    },
    "tags": []
   },
   "source": [
    "### Plot ROC curves for individual one-vs-rest classifiers"
   ]
  },
  {
   "cell_type": "code",
   "execution_count": 14,
   "id": "97d8f870",
   "metadata": {
    "execution": {
     "iopub.execute_input": "2022-07-04T06:52:30.576881Z",
     "iopub.status.busy": "2022-07-04T06:52:30.576403Z",
     "iopub.status.idle": "2022-07-04T06:52:30.984154Z",
     "shell.execute_reply": "2022-07-04T06:52:30.983286Z"
    },
    "papermill": {
     "duration": 0.416092,
     "end_time": "2022-07-04T06:52:30.986272",
     "exception": false,
     "start_time": "2022-07-04T06:52:30.570180",
     "status": "completed"
    },
    "tags": []
   },
   "outputs": [],
   "source": [
    "from sklearn import metrics"
   ]
  },
  {
   "cell_type": "code",
   "execution_count": 15,
   "id": "67709838",
   "metadata": {
    "execution": {
     "iopub.execute_input": "2022-07-04T06:52:30.997762Z",
     "iopub.status.busy": "2022-07-04T06:52:30.997406Z",
     "iopub.status.idle": "2022-07-04T06:52:32.093923Z",
     "shell.execute_reply": "2022-07-04T06:52:32.093349Z"
    },
    "papermill": {
     "duration": 1.104356,
     "end_time": "2022-07-04T06:52:32.095710",
     "exception": false,
     "start_time": "2022-07-04T06:52:30.991354",
     "status": "completed"
    },
    "tags": []
   },
   "outputs": [
    {
     "data": {
      "image/png": "[encoded data removed]",
      "text/plain": [
       "<Figure size 1152x576 with 10 Axes>"
      ]
     },
     "metadata": {
      "needs_background": "light"
     },
     "output_type": "display_data"
    }
   ],
   "source": [
    "def plot_roc_curves(y, y_pred_probs):\n",
    "    # based on example code\n",
    "    # https://scikit-learn.org/stable/auto_examples/model_selection/plot_roc.html\n",
    "\n",
    "    fig, axs = plt.subplots(nrows=2, ncols=5, figsize=(16, 8))\n",
    "\n",
    "    roc_auc_dict = {}\n",
    "\n",
    "    for (r, c), digit, ax in zip(\n",
    "        it.product(range(2), range(5)), range(10), axs.reshape(-1)\n",
    "    ):\n",
    "        fpr, tpr, _ = metrics.roc_curve(y == digit, y_pred_probs[:, digit])\n",
    "        auc = metrics.auc(fpr, tpr)\n",
    "        roc_auc_dict[str(digit)] = auc\n",
    "\n",
    "        ax.plot(fpr, tpr, label=f\"ROC AUC={round(auc, 3)}\")\n",
    "\n",
    "        ax.set_title(f\"\\nDigit {digit}\", fontsize=16)\n",
    "        if r == 1:\n",
    "            ax.set_xlabel(\"FPR\", fontsize=18)\n",
    "\n",
    "        if c == 0:\n",
    "            ax.set_ylabel(\"TPR\", fontsize=18)\n",
    "\n",
    "        ax.set_xlim([-0.05, 1.05])\n",
    "        ax.set_ylim([-0.05, 1.05])\n",
    "        ax.legend(loc=\"lower right\", frameon=False, fontsize=14)\n",
    "\n",
    "    fig.tight_layout()\n",
    "    fig.suptitle(\n",
    "        f\"ROC plots for one-vs-rest performances \"\n",
    "        f\"(on evaluation data, n={y_pred_probs_test.shape[1]}\",\n",
    "        fontsize=22,\n",
    "    )\n",
    "    fig.tight_layout()\n",
    "    fig.show()\n",
    "\n",
    "    return roc_auc_dict, fig\n",
    "\n",
    "\n",
    "roc_auc_dict, fig = plot_roc_curves(y_test, y_pred_probs_test)"
   ]
  },
  {
   "cell_type": "code",
   "execution_count": 16,
   "id": "50af8c52",
   "metadata": {
    "execution": {
     "iopub.execute_input": "2022-07-04T06:52:32.109541Z",
     "iopub.status.busy": "2022-07-04T06:52:32.109270Z",
     "iopub.status.idle": "2022-07-04T06:52:32.333112Z",
     "shell.execute_reply": "2022-07-04T06:52:32.332554Z"
    },
    "papermill": {
     "duration": 0.233294,
     "end_time": "2022-07-04T06:52:32.335051",
     "exception": false,
     "start_time": "2022-07-04T06:52:32.101757",
     "status": "completed"
    },
    "tags": []
   },
   "outputs": [],
   "source": [
    "logger.log_figure(\"per-digit-roc-curves.png\", fig)"
   ]
  },
  {
   "cell_type": "code",
   "execution_count": 17,
   "id": "f03fe745",
   "metadata": {
    "execution": {
     "iopub.execute_input": "2022-07-04T06:52:32.351362Z",
     "iopub.status.busy": "2022-07-04T06:52:32.350748Z",
     "iopub.status.idle": "2022-07-04T06:52:32.355837Z",
     "shell.execute_reply": "2022-07-04T06:52:32.355303Z"
    },
    "papermill": {
     "duration": 0.016049,
     "end_time": "2022-07-04T06:52:32.359400",
     "exception": false,
     "start_time": "2022-07-04T06:52:32.343351",
     "status": "completed"
    },
    "tags": []
   },
   "outputs": [
    {
     "data": {
      "text/plain": [
       "{'0': 1.0,\n",
       " '1': 0.9991002811621369,\n",
       " '2': 1.0,\n",
       " '3': 0.9998500468603562,\n",
       " '4': 0.9997713763145861,\n",
       " '5': 0.9996626054358013,\n",
       " '6': 0.999923792104862,\n",
       " '7': 0.9998475842097242,\n",
       " '8': 0.9957440100882724,\n",
       " '9': 0.9997713763145862}"
      ]
     },
     "execution_count": 17,
     "metadata": {},
     "output_type": "execute_result"
    }
   ],
   "source": [
    "roc_auc_dict"
   ]
  },
  {
   "cell_type": "code",
   "execution_count": 18,
   "id": "0d30b70a",
   "metadata": {
    "execution": {
     "iopub.execute_input": "2022-07-04T06:52:32.373176Z",
     "iopub.status.busy": "2022-07-04T06:52:32.372909Z",
     "iopub.status.idle": "2022-07-04T06:52:32.377050Z",
     "shell.execute_reply": "2022-07-04T06:52:32.376498Z"
    },
    "papermill": {
     "duration": 0.014917,
     "end_time": "2022-07-04T06:52:32.380492",
     "exception": false,
     "start_time": "2022-07-04T06:52:32.365575",
     "status": "completed"
    },
    "tags": []
   },
   "outputs": [
    {
     "name": "stdout",
     "output_type": "stream",
     "text": [
      " - Logging roc_auc_per_digit (json) : {'0': 1.0, '1': 0.9991002811621369, '2': 1.0, '3': 0.9998500468603562, '4': 0.9997713763145861, '5': 0.9996626054358013, '6': 0.999923792104862, '7': 0.9998475842097242, '8': 0.9957440100882724, '9': 0.9997713763145862}\n"
     ]
    }
   ],
   "source": [
    "logger.log_value(\"roc_auc_per_digit\", roc_auc_dict)"
   ]
  },
  {
   "cell_type": "markdown",
   "id": "eb94588b",
   "metadata": {
    "papermill": {
     "duration": 0.00602,
     "end_time": "2022-07-04T06:52:32.392345",
     "exception": false,
     "start_time": "2022-07-04T06:52:32.386325",
     "status": "completed"
    },
    "tags": []
   },
   "source": [
    "### Compute and log mean ROC AUC score averaged over all digits"
   ]
  },
  {
   "cell_type": "code",
   "execution_count": 19,
   "id": "2db0bb9e",
   "metadata": {
    "execution": {
     "iopub.execute_input": "2022-07-04T06:52:32.405201Z",
     "iopub.status.busy": "2022-07-04T06:52:32.404935Z",
     "iopub.status.idle": "2022-07-04T06:52:32.418854Z",
     "shell.execute_reply": "2022-07-04T06:52:32.418296Z"
    },
    "papermill": {
     "duration": 0.0224,
     "end_time": "2022-07-04T06:52:32.420449",
     "exception": false,
     "start_time": "2022-07-04T06:52:32.398049",
     "status": "completed"
    },
    "tags": []
   },
   "outputs": [
    {
     "name": "stdout",
     "output_type": "stream",
     "text": [
      " - Logging roc_auc_class_mean (float) : 0.9993671072490324\n"
     ]
    }
   ],
   "source": [
    "roc_auc_macro = np.mean(list(roc_auc_dict.values()))\n",
    "\n",
    "logger.log_float(\"roc_auc_class_mean\", roc_auc_macro)\n",
    "\n",
    "# assert that the same value can be computed directly using sklearn\n",
    "assert roc_auc_macro == metrics.roc_auc_score(\n",
    "    y_test, y_pred_probs_test, average=\"macro\", multi_class=\"ovr\"\n",
    ")"
   ]
  },
  {
   "cell_type": "code",
   "execution_count": 20,
   "id": "ddf91440",
   "metadata": {
    "execution": {
     "iopub.execute_input": "2022-07-04T06:52:32.433996Z",
     "iopub.status.busy": "2022-07-04T06:52:32.433719Z",
     "iopub.status.idle": "2022-07-04T06:52:32.436665Z",
     "shell.execute_reply": "2022-07-04T06:52:32.436102Z"
    },
    "lines_to_next_cell": 0,
    "papermill": {
     "duration": 0.015158,
     "end_time": "2022-07-04T06:52:32.441774",
     "exception": false,
     "start_time": "2022-07-04T06:52:32.426616",
     "status": "completed"
    },
    "tags": []
   },
   "outputs": [],
   "source": [
    "# ---"
   ]
  },
  {
   "cell_type": "code",
   "execution_count": null,
   "id": "948d9138",
   "metadata": {
    "papermill": {
     "duration": 0.006119,
     "end_time": "2022-07-04T06:52:32.454172",
     "exception": false,
     "start_time": "2022-07-04T06:52:32.448053",
     "status": "completed"
    },
    "tags": []
   },
   "outputs": [],
   "source": []
  }
 ],
 "metadata": {
  "jupytext": {
   "cell_metadata_filter": "tags,-all",
   "main_language": "python",
   "notebook_metadata_filter": "-all"
  },
  "language_info": {
   "codemirror_mode": {
    "name": "ipython",
    "version": 3
   },
   "file_extension": ".py",
   "mimetype": "text/x-python",
   "name": "python",
   "nbconvert_exporter": "python",
   "pygments_lexer": "ipython3",
   "version": "3.8.10"
  },
  "papermill": {
   "default_parameters": {},
   "duration": 9.870609,
   "end_time": "2022-07-04T06:52:33.685401",
   "environment_variables": {},
   "exception": null,
   "input_path": "/home/host_user/workspace/mnist-demo-pipeline/mnist-demo-pipeline/notebooks/temp-notebook-0sikkjk0.ipynb",
   "output_path": "notebooks/benchmark-model.ipynb",
   "parameters": {
    "P": {
     "_opentelemetry_traceparent": "00-0b7f1bf11e5cfed8c62638a4aa1d15b6-b35c564ede3a0ba3-01",
     "pipeline.data_lake_root": "/pipeline-outputs/data-lake",
     "pipeline.github.actor": "matiasdahl",
     "pipeline.github.base_ref": "",
     "pipeline.github.event_name": "schedule",
     "pipeline.github.head_ref": "",
     "pipeline.github.job": "run-tests-pipeline-and-persist-pipeline-outputs",
     "pipeline.github.ref": "refs/heads/development",
     "pipeline.github.ref_name": "development",
     "pipeline.github.ref_type": "branch",
     "pipeline.github.repository": "pynb-dag-runner/mnist-digits-demo-pipeline",
     "pipeline.github.run_id": "2608212936",
     "pipeline.github.runner_name": "Hosted Agent",
     "pipeline.github.sha": "f934c58f68028b7bb026059d4e87e6d32a1bbd20",
     "pipeline.github.workflow": "Run automated tests, pipeline and deploy results to static reporting site",
     "pipeline.pipeline_run_id": "f1e020c4-fe8c-41d7-bbf7-bf95d4453b33",
     "pipeline.run_environment": "ci",
     "run.retry_nr": "0",
     "task.max_nr_retries": "1",
     "task.notebook": "notebooks/benchmark-model.py",
     "task.nr_train_images": 1200,
     "task.num_cpus": 1,
     "task.timeout_s": "None"
    }
   },
   "start_time": "2022-07-04T06:52:23.814792",
   "version": "2.3.3"
  }
 },
 "nbformat": 4,
 "nbformat_minor": 5
}