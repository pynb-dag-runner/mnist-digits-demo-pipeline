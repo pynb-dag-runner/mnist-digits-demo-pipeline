{
 "cells": [
  {
   "cell_type": "markdown",
   "id": "ab82f0f1",
   "metadata": {
    "papermill": {
     "duration": 0.004039,
     "end_time": "2022-07-17T06:46:20.095783",
     "exception": false,
     "start_time": "2022-07-17T06:46:20.091744",
     "status": "completed"
    },
    "tags": []
   },
   "source": [
    "# Train model\n",
    "\n",
    "The purpose of this notebook is:\n",
    "\n",
    "- Load all training data (images and labels).\n",
    "- Limit number of train images to `task.nr_train_images` (value provided as run parameter).\n",
    "- Train a support vector machine model using sklearn.\n",
    "- Persist the trained model using the ONNX format."
   ]
  },
  {
   "cell_type": "markdown",
   "id": "33b72f85",
   "metadata": {
    "papermill": {
     "duration": 0.003147,
     "end_time": "2022-07-17T06:46:20.102345",
     "exception": false,
     "start_time": "2022-07-17T06:46:20.099198",
     "status": "completed"
    },
    "tags": []
   },
   "source": [
    "### Determine run parameters"
   ]
  },
  {
   "cell_type": "code",
   "execution_count": 1,
   "id": "4dfaf6d7",
   "metadata": {
    "execution": {
     "iopub.execute_input": "2022-07-17T06:46:20.109153Z",
     "iopub.status.busy": "2022-07-17T06:46:20.108824Z",
     "iopub.status.idle": "2022-07-17T06:46:20.116887Z",
     "shell.execute_reply": "2022-07-17T06:46:20.116233Z"
    },
    "lines_to_next_cell": 0,
    "papermill": {
     "duration": 0.014358,
     "end_time": "2022-07-17T06:46:20.119357",
     "exception": false,
     "start_time": "2022-07-17T06:46:20.104999",
     "status": "completed"
    },
    "tags": []
   },
   "outputs": [],
   "source": [
    "# ----------------- Parameters for interactive development --------------\n",
    "P = {\n",
    "    \"pipeline.data_lake_root\": \"/pipeline-outputs/data-lake\",\n",
    "    \"task.nr_train_images\": 600,\n",
    "}"
   ]
  },
  {
   "cell_type": "code",
   "execution_count": 2,
   "id": "34cd3844",
   "metadata": {
    "execution": {
     "iopub.execute_input": "2022-07-17T06:46:20.127107Z",
     "iopub.status.busy": "2022-07-17T06:46:20.126898Z",
     "iopub.status.idle": "2022-07-17T06:46:20.129927Z",
     "shell.execute_reply": "2022-07-17T06:46:20.129427Z"
    },
    "lines_to_next_cell": 0,
    "papermill": {
     "duration": 0.009732,
     "end_time": "2022-07-17T06:46:20.132864",
     "exception": false,
     "start_time": "2022-07-17T06:46:20.123132",
     "status": "completed"
    },
    "tags": [
     "parameters"
    ]
   },
   "outputs": [],
   "source": [
    "# - During automated runs parameters will be injected in the below cell -"
   ]
  },
  {
   "cell_type": "code",
   "execution_count": 3,
   "id": "fa789e41",
   "metadata": {
    "execution": {
     "iopub.execute_input": "2022-07-17T06:46:20.139466Z",
     "iopub.status.busy": "2022-07-17T06:46:20.139265Z",
     "iopub.status.idle": "2022-07-17T06:46:20.144228Z",
     "shell.execute_reply": "2022-07-17T06:46:20.143413Z"
    },
    "papermill": {
     "duration": 0.010934,
     "end_time": "2022-07-17T06:46:20.146509",
     "exception": false,
     "start_time": "2022-07-17T06:46:20.135575",
     "status": "completed"
    },
    "tags": [
     "injected-parameters"
    ]
   },
   "outputs": [],
   "source": [
    "# Parameters\n",
    "P = {\n",
    "    \"pipeline.data_lake_root\": \"/pipeline-outputs/data-lake\",\n",
    "    \"pipeline.run_environment\": \"ci\",\n",
    "    \"pipeline.pipeline_run_id\": \"a19f8802-c54d-483a-8499-7b6b7a5c98be\",\n",
    "    \"pipeline.github.repository\": \"pynb-dag-runner/mnist-digits-demo-pipeline\",\n",
    "    \"pipeline.github.workflow\": \"Run automated tests, pipeline and deploy results to static reporting site\",\n",
    "    \"pipeline.github.runner_name\": \"Hosted Agent\",\n",
    "    \"pipeline.github.run_id\": \"2684555341\",\n",
    "    \"pipeline.github.actor\": \"matiasdahl\",\n",
    "    \"pipeline.github.job\": \"run-tests-pipeline-and-persist-pipeline-outputs\",\n",
    "    \"pipeline.github.base_ref\": \"\",\n",
    "    \"pipeline.github.head_ref\": \"\",\n",
    "    \"pipeline.github.sha\": \"147a1be9916173fd4d2cd011d8d51e3411215850\",\n",
    "    \"pipeline.github.ref\": \"refs/heads/development\",\n",
    "    \"pipeline.github.ref_type\": \"branch\",\n",
    "    \"pipeline.github.ref_name\": \"development\",\n",
    "    \"pipeline.github.event_name\": \"schedule\",\n",
    "    \"task.nr_train_images\": 1200,\n",
    "    \"task.notebook\": \"notebooks/train-model.py\",\n",
    "    \"task.max_nr_retries\": \"1\",\n",
    "    \"run.retry_nr\": \"0\",\n",
    "    \"task.timeout_s\": \"None\",\n",
    "    \"task.num_cpus\": 1,\n",
    "    \"_opentelemetry_traceparent\": \"00-48e81b648307f6a2016578770d185db5-aba853cfde7469d8-01\",\n",
    "}\n"
   ]
  },
  {
   "cell_type": "code",
   "execution_count": 4,
   "id": "fb2e23a5",
   "metadata": {
    "execution": {
     "iopub.execute_input": "2022-07-17T06:46:20.153583Z",
     "iopub.status.busy": "2022-07-17T06:46:20.153385Z",
     "iopub.status.idle": "2022-07-17T06:46:20.155939Z",
     "shell.execute_reply": "2022-07-17T06:46:20.155463Z"
    },
    "lines_to_next_cell": 0,
    "papermill": {
     "duration": 0.008488,
     "end_time": "2022-07-17T06:46:20.158016",
     "exception": false,
     "start_time": "2022-07-17T06:46:20.149528",
     "status": "completed"
    },
    "tags": []
   },
   "outputs": [],
   "source": [
    "# -----------------------------------------------------------------------"
   ]
  },
  {
   "cell_type": "markdown",
   "id": "eac7e9e1",
   "metadata": {
    "papermill": {
     "duration": 0.003275,
     "end_time": "2022-07-17T06:46:20.164275",
     "exception": false,
     "start_time": "2022-07-17T06:46:20.161000",
     "status": "completed"
    },
    "tags": []
   },
   "source": [
    "---"
   ]
  },
  {
   "cell_type": "markdown",
   "id": "cebb0797",
   "metadata": {
    "lines_to_next_cell": 2,
    "papermill": {
     "duration": 0.002815,
     "end_time": "2022-07-17T06:46:20.169909",
     "exception": false,
     "start_time": "2022-07-17T06:46:20.167094",
     "status": "completed"
    },
    "tags": []
   },
   "source": [
    "### Notebook code"
   ]
  },
  {
   "cell_type": "code",
   "execution_count": 5,
   "id": "405fe9d5",
   "metadata": {
    "execution": {
     "iopub.execute_input": "2022-07-17T06:46:20.180528Z",
     "iopub.status.busy": "2022-07-17T06:46:20.180309Z",
     "iopub.status.idle": "2022-07-17T06:46:20.688213Z",
     "shell.execute_reply": "2022-07-17T06:46:20.686941Z"
    },
    "papermill": {
     "duration": 0.513143,
     "end_time": "2022-07-17T06:46:20.689969",
     "exception": false,
     "start_time": "2022-07-17T06:46:20.176826",
     "status": "completed"
    },
    "tags": []
   },
   "outputs": [
    {
     "name": "stderr",
     "output_type": "stream",
     "text": [
      "2022-07-17 06:46:20,501\tINFO worker.py:842 -- Connecting to existing Ray cluster at address: 172.17.0.2:6379\n"
     ]
    }
   ],
   "source": [
    "from pynb_dag_runner.tasks.task_opentelemetry_logging import PydarLogger\n",
    "\n",
    "logger = PydarLogger(P)"
   ]
  },
  {
   "cell_type": "markdown",
   "id": "45c828b5",
   "metadata": {
    "papermill": {
     "duration": 0.002869,
     "end_time": "2022-07-17T06:46:20.696306",
     "exception": false,
     "start_time": "2022-07-17T06:46:20.693437",
     "status": "completed"
    },
    "tags": []
   },
   "source": [
    "## Load and limit train data"
   ]
  },
  {
   "cell_type": "code",
   "execution_count": 6,
   "id": "e383405c",
   "metadata": {
    "execution": {
     "iopub.execute_input": "2022-07-17T06:46:20.710214Z",
     "iopub.status.busy": "2022-07-17T06:46:20.709785Z",
     "iopub.status.idle": "2022-07-17T06:46:21.081154Z",
     "shell.execute_reply": "2022-07-17T06:46:21.080528Z"
    },
    "papermill": {
     "duration": 0.384291,
     "end_time": "2022-07-17T06:46:21.083346",
     "exception": false,
     "start_time": "2022-07-17T06:46:20.699055",
     "status": "completed"
    },
    "tags": []
   },
   "outputs": [],
   "source": [
    "def load_and_limit_train_data(P):\n",
    "    from common.io import datalake_root, read_numpy\n",
    "    from sklearn.model_selection import train_test_split\n",
    "\n",
    "    X_train_all = read_numpy(datalake_root(P) / \"train-data\" / \"digits.numpy\")\n",
    "    y_train_all = read_numpy(datalake_root(P) / \"train-data\" / \"labels.numpy\")\n",
    "\n",
    "    assert isinstance(P[\"task.nr_train_images\"], int)\n",
    "\n",
    "    # Note: train_test_split will fail if split is 0 or 100%.\n",
    "    assert 0 < P[\"task.nr_train_images\"] < len(y_train_all)\n",
    "\n",
    "    X_train, _, y_train, _ = train_test_split(\n",
    "        X_train_all,\n",
    "        y_train_all,\n",
    "        train_size=P[\"task.nr_train_images\"],\n",
    "        test_size=None,\n",
    "        stratify=y_train_all,\n",
    "        shuffle=True,\n",
    "        random_state=123,\n",
    "    )\n",
    "\n",
    "    assert X_train.shape == (len(y_train), 8 * 8)\n",
    "    return X_train, y_train\n",
    "\n",
    "\n",
    "X_train, y_train = load_and_limit_train_data(P)"
   ]
  },
  {
   "cell_type": "markdown",
   "id": "f3957314",
   "metadata": {
    "papermill": {
     "duration": 0.002935,
     "end_time": "2022-07-17T06:46:21.089594",
     "exception": false,
     "start_time": "2022-07-17T06:46:21.086659",
     "status": "completed"
    },
    "tags": []
   },
   "source": [
    "## Train support vector classifier model\n",
    "\n",
    "Below we assume that the hyperparameter $C$ is known.\n",
    "\n",
    "However, this should ideally be found by a hyperparameter search. That could be\n",
    "done in parallel on the Ray cluster, but this needs some more work. Ie., to use\n",
    "multiple cores in the notebook, those cores should be reserved when starting the\n",
    "notebook task (TODO).\n",
    "\n",
    "- https://docs.ray.io/en/latest/tune/key-concepts.html\n",
    "\n",
    "Note: cv-scores would need to be computed here, since they depend on the train data.\n",
    "After this notebook only the onnx-model is available."
   ]
  },
  {
   "cell_type": "code",
   "execution_count": 7,
   "id": "ffe731c1",
   "metadata": {
    "execution": {
     "iopub.execute_input": "2022-07-17T06:46:21.096814Z",
     "iopub.status.busy": "2022-07-17T06:46:21.096228Z",
     "iopub.status.idle": "2022-07-17T06:46:21.115964Z",
     "shell.execute_reply": "2022-07-17T06:46:21.115174Z"
    },
    "papermill": {
     "duration": 0.025152,
     "end_time": "2022-07-17T06:46:21.117534",
     "exception": false,
     "start_time": "2022-07-17T06:46:21.092382",
     "status": "completed"
    },
    "tags": []
   },
   "outputs": [],
   "source": [
    "from sklearn.svm import SVC"
   ]
  },
  {
   "cell_type": "code",
   "execution_count": 8,
   "id": "0fac086f",
   "metadata": {
    "execution": {
     "iopub.execute_input": "2022-07-17T06:46:21.129698Z",
     "iopub.status.busy": "2022-07-17T06:46:21.128658Z",
     "iopub.status.idle": "2022-07-17T06:46:21.326116Z",
     "shell.execute_reply": "2022-07-17T06:46:21.325292Z"
    },
    "papermill": {
     "duration": 0.206093,
     "end_time": "2022-07-17T06:46:21.327608",
     "exception": false,
     "start_time": "2022-07-17T06:46:21.121515",
     "status": "completed"
    },
    "tags": []
   },
   "outputs": [
    {
     "data": {
      "text/plain": [
       "SVC(C=0.001, kernel='linear', probability=True)"
      ]
     },
     "execution_count": 8,
     "metadata": {},
     "output_type": "execute_result"
    }
   ],
   "source": [
    "model = SVC(C=0.001, kernel=\"linear\", probability=True)\n",
    "\n",
    "model.fit(X_train, y_train)"
   ]
  },
  {
   "cell_type": "markdown",
   "id": "f927e22f",
   "metadata": {
    "papermill": {
     "duration": 0.003092,
     "end_time": "2022-07-17T06:46:21.334138",
     "exception": false,
     "start_time": "2022-07-17T06:46:21.331046",
     "status": "completed"
    },
    "tags": []
   },
   "source": [
    "### Q: Can the labels returned by `predict(..)` be computed from probabilities returned by the `predict_prob`-method?"
   ]
  },
  {
   "cell_type": "code",
   "execution_count": 9,
   "id": "a0a01d42",
   "metadata": {
    "execution": {
     "iopub.execute_input": "2022-07-17T06:46:21.341931Z",
     "iopub.status.busy": "2022-07-17T06:46:21.341700Z",
     "iopub.status.idle": "2022-07-17T06:46:21.456544Z",
     "shell.execute_reply": "2022-07-17T06:46:21.455646Z"
    },
    "papermill": {
     "duration": 0.120821,
     "end_time": "2022-07-17T06:46:21.458287",
     "exception": false,
     "start_time": "2022-07-17T06:46:21.337466",
     "status": "completed"
    },
    "tags": []
   },
   "outputs": [
    {
     "name": "stdout",
     "output_type": "stream",
     "text": [
      " - Logging nr_max_prob_neq_label (int) : 2\n"
     ]
    }
   ],
   "source": [
    "import numpy as np\n",
    "\n",
    "y_train_labels = model.predict(X_train)\n",
    "y_train_probabilities = model.predict_proba(X_train)\n",
    "assert y_train_probabilities.shape == (len(y_train), 10)\n",
    "\n",
    "y_train_max_prob_labels = np.argmax(y_train_probabilities, axis=1)\n",
    "assert y_train_labels.shape == y_train_max_prob_labels.shape == y_train.shape\n",
    "\n",
    "# If the predicted labels would coincide with the labels that have\n",
    "# maximum probability, the below number would be zero\n",
    "logger.log_int(\n",
    "    \"nr_max_prob_neq_label\", int(sum(y_train_max_prob_labels != y_train_labels))\n",
    ")"
   ]
  },
  {
   "cell_type": "markdown",
   "id": "e64a073f",
   "metadata": {
    "papermill": {
     "duration": 0.003669,
     "end_time": "2022-07-17T06:46:21.465284",
     "exception": false,
     "start_time": "2022-07-17T06:46:21.461615",
     "status": "completed"
    },
    "tags": []
   },
   "source": [
    "The explanation is (likely) explained in the SVC source, see\n",
    "[here](https://github.com/scikit-learn/scikit-learn/blob/main/sklearn/svm/_base.py).\n",
    "Namely, the outputs from `predict(..)` and `predict_proba(..)` may not in some\n",
    "cases be compatible since the latter is computed using cross-validation while\n",
    "the former is not. Thus, the above number need not be zero."
   ]
  },
  {
   "cell_type": "markdown",
   "id": "d8926069",
   "metadata": {
    "papermill": {
     "duration": 0.003045,
     "end_time": "2022-07-17T06:46:21.472106",
     "exception": false,
     "start_time": "2022-07-17T06:46:21.469061",
     "status": "completed"
    },
    "tags": []
   },
   "source": [
    "## Persist model"
   ]
  },
  {
   "cell_type": "code",
   "execution_count": 10,
   "id": "952b7d9f",
   "metadata": {
    "execution": {
     "iopub.execute_input": "2022-07-17T06:46:21.480121Z",
     "iopub.status.busy": "2022-07-17T06:46:21.479892Z",
     "iopub.status.idle": "2022-07-17T06:46:22.210713Z",
     "shell.execute_reply": "2022-07-17T06:46:22.210152Z"
    },
    "papermill": {
     "duration": 0.737193,
     "end_time": "2022-07-17T06:46:22.212604",
     "exception": false,
     "start_time": "2022-07-17T06:46:21.475411",
     "status": "completed"
    },
    "tags": []
   },
   "outputs": [
    {
     "name": "stdout",
     "output_type": "stream",
     "text": [
      "\u001b[2m\u001b[1m\u001b[36m(scheduler +1s)\u001b[0m Tip: use `ray status` to view detailed cluster status. To disable these messages, set RAY_SCHEDULER_EVENTS=0.\n",
      "\u001b[2m\u001b[1m\u001b[33m(scheduler +1s)\u001b[0m Warning: The following resource request cannot be scheduled right now: {'CPU': 1.0}. This is likely due to all cluster resources being claimed by actors. Consider creating fewer actors or adding more nodes to this Ray cluster.\n"
     ]
    }
   ],
   "source": [
    "from skl2onnx import convert_sklearn\n",
    "from skl2onnx.common.data_types import FloatTensorType\n",
    "\n",
    "#\n",
    "from common.io import datalake_root, write_onnx"
   ]
  },
  {
   "cell_type": "code",
   "execution_count": 11,
   "id": "75d72e3a",
   "metadata": {
    "execution": {
     "iopub.execute_input": "2022-07-17T06:46:22.221845Z",
     "iopub.status.busy": "2022-07-17T06:46:22.221407Z",
     "iopub.status.idle": "2022-07-17T06:46:22.284879Z",
     "shell.execute_reply": "2022-07-17T06:46:22.284194Z"
    },
    "papermill": {
     "duration": 0.069826,
     "end_time": "2022-07-17T06:46:22.286646",
     "exception": false,
     "start_time": "2022-07-17T06:46:22.216820",
     "status": "completed"
    },
    "tags": []
   },
   "outputs": [],
   "source": [
    "# convert sklearn model into onnx and persist to data lake\n",
    "\n",
    "model_onnx = convert_sklearn(\n",
    "    model, initial_types=[(\"float_input_8x8_image\", FloatTensorType([None, 8 * 8]))]\n",
    ")\n",
    "write_onnx(\n",
    "    datalake_root(P)\n",
    "    / \"models\"\n",
    "    / f\"nr_train_images={P['task.nr_train_images']}\"\n",
    "    / \"model.onnx\",\n",
    "    model_onnx,\n",
    ")"
   ]
  },
  {
   "cell_type": "code",
   "execution_count": null,
   "id": "f4e28f34",
   "metadata": {
    "papermill": {
     "duration": 0.003733,
     "end_time": "2022-07-17T06:46:22.293966",
     "exception": false,
     "start_time": "2022-07-17T06:46:22.290233",
     "status": "completed"
    },
    "tags": []
   },
   "outputs": [],
   "source": []
  }
 ],
 "metadata": {
  "jupytext": {
   "cell_metadata_filter": "tags,-all",
   "main_language": "python",
   "notebook_metadata_filter": "-all"
  },
  "language_info": {
   "codemirror_mode": {
    "name": "ipython",
    "version": 3
   },
   "file_extension": ".py",
   "mimetype": "text/x-python",
   "name": "python",
   "nbconvert_exporter": "python",
   "pygments_lexer": "ipython3",
   "version": "3.8.10"
  },
  "papermill": {
   "default_parameters": {},
   "duration": 4.318479,
   "end_time": "2022-07-17T06:46:23.319968",
   "environment_variables": {},
   "exception": null,
   "input_path": "/home/host_user/workspace/mnist-demo-pipeline/mnist-demo-pipeline/notebooks/temp-notebook-ycy80b8a.ipynb",
   "output_path": "notebooks/train-model.ipynb",
   "parameters": {
    "P": {
     "_opentelemetry_traceparent": "00-48e81b648307f6a2016578770d185db5-aba853cfde7469d8-01",
     "pipeline.data_lake_root": "/pipeline-outputs/data-lake",
     "pipeline.github.actor": "matiasdahl",
     "pipeline.github.base_ref": "",
     "pipeline.github.event_name": "schedule",
     "pipeline.github.head_ref": "",
     "pipeline.github.job": "run-tests-pipeline-and-persist-pipeline-outputs",
     "pipeline.github.ref": "refs/heads/development",
     "pipeline.github.ref_name": "development",
     "pipeline.github.ref_type": "branch",
     "pipeline.github.repository": "pynb-dag-runner/mnist-digits-demo-pipeline",
     "pipeline.github.run_id": "2684555341",
     "pipeline.github.runner_name": "Hosted Agent",
     "pipeline.github.sha": "147a1be9916173fd4d2cd011d8d51e3411215850",
     "pipeline.github.workflow": "Run automated tests, pipeline and deploy results to static reporting site",
     "pipeline.pipeline_run_id": "a19f8802-c54d-483a-8499-7b6b7a5c98be",
     "pipeline.run_environment": "ci",
     "run.retry_nr": "0",
     "task.max_nr_retries": "1",
     "task.notebook": "notebooks/train-model.py",
     "task.nr_train_images": 1200,
     "task.num_cpus": 1,
     "task.timeout_s": "None"
    }
   },
   "start_time": "2022-07-17T06:46:19.001489",
   "version": "2.3.3"
  }
 },
 "nbformat": 4,
 "nbformat_minor": 5
}