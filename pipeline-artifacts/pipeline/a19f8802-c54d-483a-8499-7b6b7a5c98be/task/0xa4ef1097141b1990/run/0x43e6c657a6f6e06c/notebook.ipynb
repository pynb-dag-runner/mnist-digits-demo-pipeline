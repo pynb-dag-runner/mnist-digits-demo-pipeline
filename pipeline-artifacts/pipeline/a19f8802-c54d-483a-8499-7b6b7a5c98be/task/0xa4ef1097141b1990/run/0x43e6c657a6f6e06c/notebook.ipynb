{
 "cells": [
  {
   "cell_type": "markdown",
   "id": "c29b586c",
   "metadata": {
    "papermill": {
     "duration": 0.005995,
     "end_time": "2022-07-17T06:46:31.289468",
     "exception": false,
     "start_time": "2022-07-17T06:46:31.283473",
     "status": "completed"
    },
    "tags": []
   },
   "source": [
    "# Benchmark model\n",
    "\n",
    "The purpose of this notebook is to benchmark persisted onnx-model (trained in the\n",
    "previous step) against evaluation set."
   ]
  },
  {
   "cell_type": "markdown",
   "id": "cbf81cb0",
   "metadata": {
    "papermill": {
     "duration": 0.004199,
     "end_time": "2022-07-17T06:46:31.298064",
     "exception": false,
     "start_time": "2022-07-17T06:46:31.293865",
     "status": "completed"
    },
    "tags": []
   },
   "source": [
    "### Determine run parameters"
   ]
  },
  {
   "cell_type": "code",
   "execution_count": 1,
   "id": "a73af70d",
   "metadata": {
    "execution": {
     "iopub.execute_input": "2022-07-17T06:46:31.306971Z",
     "iopub.status.busy": "2022-07-17T06:46:31.306671Z",
     "iopub.status.idle": "2022-07-17T06:46:31.314398Z",
     "shell.execute_reply": "2022-07-17T06:46:31.313879Z"
    },
    "lines_to_next_cell": 0,
    "papermill": {
     "duration": 0.01489,
     "end_time": "2022-07-17T06:46:31.316746",
     "exception": false,
     "start_time": "2022-07-17T06:46:31.301856",
     "status": "completed"
    },
    "tags": []
   },
   "outputs": [],
   "source": [
    "# ----------------- Parameters for interactive development --------------\n",
    "P = {\n",
    "    \"pipeline.data_lake_root\": \"/pipeline-outputs/data-lake\",\n",
    "    \"task.nr_train_images\": 600,\n",
    "}"
   ]
  },
  {
   "cell_type": "code",
   "execution_count": 2,
   "id": "e26dd81e",
   "metadata": {
    "execution": {
     "iopub.execute_input": "2022-07-17T06:46:31.325884Z",
     "iopub.status.busy": "2022-07-17T06:46:31.325669Z",
     "iopub.status.idle": "2022-07-17T06:46:31.328856Z",
     "shell.execute_reply": "2022-07-17T06:46:31.327948Z"
    },
    "lines_to_next_cell": 0,
    "papermill": {
     "duration": 0.010163,
     "end_time": "2022-07-17T06:46:31.331358",
     "exception": false,
     "start_time": "2022-07-17T06:46:31.321195",
     "status": "completed"
    },
    "tags": [
     "parameters"
    ]
   },
   "outputs": [],
   "source": [
    "# - During automated runs parameters will be injected in the below cell -"
   ]
  },
  {
   "cell_type": "code",
   "execution_count": 3,
   "id": "67b85cc8",
   "metadata": {
    "execution": {
     "iopub.execute_input": "2022-07-17T06:46:31.340961Z",
     "iopub.status.busy": "2022-07-17T06:46:31.340762Z",
     "iopub.status.idle": "2022-07-17T06:46:31.344827Z",
     "shell.execute_reply": "2022-07-17T06:46:31.344291Z"
    },
    "papermill": {
     "duration": 0.011707,
     "end_time": "2022-07-17T06:46:31.347059",
     "exception": false,
     "start_time": "2022-07-17T06:46:31.335352",
     "status": "completed"
    },
    "tags": [
     "injected-parameters"
    ]
   },
   "outputs": [],
   "source": [
    "# Parameters\n",
    "P = {\n",
    "    \"pipeline.data_lake_root\": \"/pipeline-outputs/data-lake\",\n",
    "    \"pipeline.run_environment\": \"ci\",\n",
    "    \"pipeline.pipeline_run_id\": \"a19f8802-c54d-483a-8499-7b6b7a5c98be\",\n",
    "    \"pipeline.github.repository\": \"pynb-dag-runner/mnist-digits-demo-pipeline\",\n",
    "    \"pipeline.github.workflow\": \"Run automated tests, pipeline and deploy results to static reporting site\",\n",
    "    \"pipeline.github.runner_name\": \"Hosted Agent\",\n",
    "    \"pipeline.github.run_id\": \"2684555341\",\n",
    "    \"pipeline.github.actor\": \"matiasdahl\",\n",
    "    \"pipeline.github.job\": \"run-tests-pipeline-and-persist-pipeline-outputs\",\n",
    "    \"pipeline.github.base_ref\": \"\",\n",
    "    \"pipeline.github.head_ref\": \"\",\n",
    "    \"pipeline.github.sha\": \"147a1be9916173fd4d2cd011d8d51e3411215850\",\n",
    "    \"pipeline.github.ref\": \"refs/heads/development\",\n",
    "    \"pipeline.github.ref_type\": \"branch\",\n",
    "    \"pipeline.github.ref_name\": \"development\",\n",
    "    \"pipeline.github.event_name\": \"schedule\",\n",
    "    \"task.nr_train_images\": 1000,\n",
    "    \"task.notebook\": \"notebooks/benchmark-model.py\",\n",
    "    \"task.max_nr_retries\": \"1\",\n",
    "    \"run.retry_nr\": \"0\",\n",
    "    \"task.timeout_s\": \"None\",\n",
    "    \"task.num_cpus\": 1,\n",
    "    \"_opentelemetry_traceparent\": \"00-48e81b648307f6a2016578770d185db5-1829714a666e82c2-01\",\n",
    "}\n"
   ]
  },
  {
   "cell_type": "code",
   "execution_count": 4,
   "id": "d6b86226",
   "metadata": {
    "execution": {
     "iopub.execute_input": "2022-07-17T06:46:31.357356Z",
     "iopub.status.busy": "2022-07-17T06:46:31.357160Z",
     "iopub.status.idle": "2022-07-17T06:46:31.360783Z",
     "shell.execute_reply": "2022-07-17T06:46:31.360270Z"
    },
    "lines_to_next_cell": 0,
    "papermill": {
     "duration": 0.011722,
     "end_time": "2022-07-17T06:46:31.363128",
     "exception": false,
     "start_time": "2022-07-17T06:46:31.351406",
     "status": "completed"
    },
    "tags": []
   },
   "outputs": [],
   "source": [
    "# -----------------------------------------------------------------------"
   ]
  },
  {
   "cell_type": "markdown",
   "id": "a60449e3",
   "metadata": {
    "papermill": {
     "duration": 0.00438,
     "end_time": "2022-07-17T06:46:31.371355",
     "exception": false,
     "start_time": "2022-07-17T06:46:31.366975",
     "status": "completed"
    },
    "tags": []
   },
   "source": [
    "---"
   ]
  },
  {
   "cell_type": "markdown",
   "id": "b7de1aaa",
   "metadata": {
    "lines_to_next_cell": 2,
    "papermill": {
     "duration": 0.003791,
     "end_time": "2022-07-17T06:46:31.379195",
     "exception": false,
     "start_time": "2022-07-17T06:46:31.375404",
     "status": "completed"
    },
    "tags": []
   },
   "source": [
    "### Notebook code"
   ]
  },
  {
   "cell_type": "code",
   "execution_count": 5,
   "id": "1a59b5c0",
   "metadata": {
    "execution": {
     "iopub.execute_input": "2022-07-17T06:46:31.388634Z",
     "iopub.status.busy": "2022-07-17T06:46:31.388419Z",
     "iopub.status.idle": "2022-07-17T06:46:32.489386Z",
     "shell.execute_reply": "2022-07-17T06:46:32.488727Z"
    },
    "papermill": {
     "duration": 1.10769,
     "end_time": "2022-07-17T06:46:32.491142",
     "exception": false,
     "start_time": "2022-07-17T06:46:31.383452",
     "status": "completed"
    },
    "tags": []
   },
   "outputs": [
    {
     "name": "stderr",
     "output_type": "stream",
     "text": [
      "2022-07-17 06:46:32,304\tINFO worker.py:842 -- Connecting to existing Ray cluster at address: 172.17.0.2:6379\n"
     ]
    }
   ],
   "source": [
    "import itertools as it\n",
    "\n",
    "#\n",
    "import numpy as np\n",
    "import matplotlib.pyplot as plt\n",
    "\n",
    "#\n",
    "from pynb_dag_runner.tasks.task_opentelemetry_logging import PydarLogger\n",
    "\n",
    "#\n",
    "from common.io import datalake_root\n",
    "\n",
    "logger = PydarLogger(P)"
   ]
  },
  {
   "cell_type": "markdown",
   "id": "845e8690",
   "metadata": {
    "papermill": {
     "duration": 0.004589,
     "end_time": "2022-07-17T06:46:32.500299",
     "exception": false,
     "start_time": "2022-07-17T06:46:32.495710",
     "status": "completed"
    },
    "tags": []
   },
   "source": [
    "## Load persisted onnx-model and evaluation data"
   ]
  },
  {
   "cell_type": "code",
   "execution_count": 6,
   "id": "c6997fcf",
   "metadata": {
    "execution": {
     "iopub.execute_input": "2022-07-17T06:46:32.511170Z",
     "iopub.status.busy": "2022-07-17T06:46:32.510873Z",
     "iopub.status.idle": "2022-07-17T06:46:32.514198Z",
     "shell.execute_reply": "2022-07-17T06:46:32.513663Z"
    },
    "papermill": {
     "duration": 0.010847,
     "end_time": "2022-07-17T06:46:32.516679",
     "exception": false,
     "start_time": "2022-07-17T06:46:32.505832",
     "status": "completed"
    },
    "tags": []
   },
   "outputs": [],
   "source": [
    "from common.io import read_onnx, get_onnx_inputs, get_onnx_outputs, read_numpy"
   ]
  },
  {
   "cell_type": "code",
   "execution_count": 7,
   "id": "43b067b7",
   "metadata": {
    "execution": {
     "iopub.execute_input": "2022-07-17T06:46:32.526203Z",
     "iopub.status.busy": "2022-07-17T06:46:32.525997Z",
     "iopub.status.idle": "2022-07-17T06:46:32.538259Z",
     "shell.execute_reply": "2022-07-17T06:46:32.537627Z"
    },
    "lines_to_next_cell": 0,
    "papermill": {
     "duration": 0.01938,
     "end_time": "2022-07-17T06:46:32.540288",
     "exception": false,
     "start_time": "2022-07-17T06:46:32.520908",
     "status": "completed"
    },
    "tags": []
   },
   "outputs": [],
   "source": [
    "onnx_inference_session = read_onnx(\n",
    "    datalake_root(P)\n",
    "    / \"models\"\n",
    "    / f\"nr_train_images={P['task.nr_train_images']}\"\n",
    "    / \"model.onnx\"\n",
    ")"
   ]
  },
  {
   "cell_type": "markdown",
   "id": "2b9c7b43",
   "metadata": {
    "papermill": {
     "duration": 0.004433,
     "end_time": "2022-07-17T06:46:32.548883",
     "exception": false,
     "start_time": "2022-07-17T06:46:32.544450",
     "status": "completed"
    },
    "tags": []
   },
   "source": [
    "### Record structure of inputs and outputs for ONNX model\n",
    "\n",
    "(this should likely be done in training notebook)"
   ]
  },
  {
   "cell_type": "code",
   "execution_count": 8,
   "id": "b96767f5",
   "metadata": {
    "execution": {
     "iopub.execute_input": "2022-07-17T06:46:32.559408Z",
     "iopub.status.busy": "2022-07-17T06:46:32.559189Z",
     "iopub.status.idle": "2022-07-17T06:46:32.564041Z",
     "shell.execute_reply": "2022-07-17T06:46:32.563537Z"
    },
    "papermill": {
     "duration": 0.014876,
     "end_time": "2022-07-17T06:46:32.567816",
     "exception": false,
     "start_time": "2022-07-17T06:46:32.552940",
     "status": "completed"
    },
    "tags": []
   },
   "outputs": [
    {
     "name": "stdout",
     "output_type": "stream",
     "text": [
      "{\n",
      "  \"inputs\": [\n",
      "    {\n",
      "      \"name\": \"float_input_8x8_image\",\n",
      "      \"shape\": [\n",
      "        null,\n",
      "        64\n",
      "      ],\n",
      "      \"type\": \"tensor(float)\"\n",
      "    }\n",
      "  ],\n",
      "  \"outputs\": [\n",
      "    {\n",
      "      \"name\": \"output_label\",\n",
      "      \"shape\": [\n",
      "        null\n",
      "      ],\n",
      "      \"type\": \"tensor(int64)\"\n",
      "    },\n",
      "    {\n",
      "      \"name\": \"output_probability\",\n",
      "      \"shape\": [],\n",
      "      \"type\": \"seq(map(int64,tensor(float)))\"\n",
      "    }\n",
      "  ]\n",
      "}\n"
     ]
    }
   ],
   "source": [
    "import json\n",
    "\n",
    "onnx_io = json.dumps(\n",
    "    {\n",
    "        \"inputs\": get_onnx_inputs(onnx_inference_session),\n",
    "        \"outputs\": get_onnx_outputs(onnx_inference_session),\n",
    "    },\n",
    "    indent=2,\n",
    ")\n",
    "\n",
    "\n",
    "logger.log_artefact(\"onnx_io_structure.json\", onnx_io)\n",
    "print(onnx_io)"
   ]
  },
  {
   "cell_type": "markdown",
   "id": "efce73c9",
   "metadata": {
    "papermill": {
     "duration": 0.004797,
     "end_time": "2022-07-17T06:46:32.577030",
     "exception": false,
     "start_time": "2022-07-17T06:46:32.572233",
     "status": "completed"
    },
    "tags": []
   },
   "source": [
    "### Evaluate model performance on evaluation data set"
   ]
  },
  {
   "cell_type": "code",
   "execution_count": 9,
   "id": "d24f9a01",
   "metadata": {
    "execution": {
     "iopub.execute_input": "2022-07-17T06:46:32.600828Z",
     "iopub.status.busy": "2022-07-17T06:46:32.600600Z",
     "iopub.status.idle": "2022-07-17T06:46:32.604956Z",
     "shell.execute_reply": "2022-07-17T06:46:32.604407Z"
    },
    "papermill": {
     "duration": 0.025784,
     "end_time": "2022-07-17T06:46:32.607281",
     "exception": false,
     "start_time": "2022-07-17T06:46:32.581497",
     "status": "completed"
    },
    "tags": []
   },
   "outputs": [],
   "source": [
    "# load evaluation data\n",
    "X_test = read_numpy(datalake_root(P) / \"test-data\" / \"digits.numpy\")\n",
    "y_test = read_numpy(datalake_root(P) / \"test-data\" / \"labels.numpy\")"
   ]
  },
  {
   "cell_type": "code",
   "execution_count": 10,
   "id": "71d880c2",
   "metadata": {
    "execution": {
     "iopub.execute_input": "2022-07-17T06:46:32.617636Z",
     "iopub.status.busy": "2022-07-17T06:46:32.617343Z",
     "iopub.status.idle": "2022-07-17T06:46:32.629172Z",
     "shell.execute_reply": "2022-07-17T06:46:32.628639Z"
    },
    "papermill": {
     "duration": 0.018124,
     "end_time": "2022-07-17T06:46:32.630637",
     "exception": false,
     "start_time": "2022-07-17T06:46:32.612513",
     "status": "completed"
    },
    "tags": []
   },
   "outputs": [],
   "source": [
    "def get_model_outputs(X, onnx_inference_session):\n",
    "    y_pred_labels, y_pred_map = onnx_inference_session.run(\n",
    "        [\"output_label\", \"output_probability\"],\n",
    "        {\"float_input_8x8_image\": X.astype(np.float32)},\n",
    "    )\n",
    "    y_pred_probs = np.array(\n",
    "        [[probabilities[digit] for digit in range(10)] for probabilities in y_pred_map]\n",
    "    )\n",
    "\n",
    "    assert y_pred_labels.shape == (X.shape[0],)\n",
    "    assert y_pred_probs.shape == (X.shape[0], 10)\n",
    "\n",
    "    return y_pred_labels, y_pred_probs\n",
    "\n",
    "\n",
    "# Note: as shown in the training notebook, the predicted labels and probabilities\n",
    "# computed below need not be compatible.\n",
    "y_pred_labels_test, y_pred_probs_test = get_model_outputs(\n",
    "    X_test, onnx_inference_session\n",
    ")"
   ]
  },
  {
   "cell_type": "markdown",
   "id": "cfbf94ba",
   "metadata": {
    "papermill": {
     "duration": 0.004851,
     "end_time": "2022-07-17T06:46:32.639888",
     "exception": false,
     "start_time": "2022-07-17T06:46:32.635037",
     "status": "completed"
    },
    "tags": []
   },
   "source": [
    "### Confusion matrix"
   ]
  },
  {
   "cell_type": "code",
   "execution_count": 11,
   "id": "aa442ebf",
   "metadata": {
    "execution": {
     "iopub.execute_input": "2022-07-17T06:46:32.649565Z",
     "iopub.status.busy": "2022-07-17T06:46:32.649281Z",
     "iopub.status.idle": "2022-07-17T06:46:32.652211Z",
     "shell.execute_reply": "2022-07-17T06:46:32.651634Z"
    },
    "papermill": {
     "duration": 0.009662,
     "end_time": "2022-07-17T06:46:32.653852",
     "exception": false,
     "start_time": "2022-07-17T06:46:32.644190",
     "status": "completed"
    },
    "tags": []
   },
   "outputs": [],
   "source": [
    "# TODO"
   ]
  },
  {
   "cell_type": "markdown",
   "id": "bf4ef79e",
   "metadata": {
    "papermill": {
     "duration": 0.004435,
     "end_time": "2022-07-17T06:46:32.662708",
     "exception": false,
     "start_time": "2022-07-17T06:46:32.658273",
     "status": "completed"
    },
    "tags": []
   },
   "source": [
    "### Plot predicted probabilities for each classifier over all evaluation digit images"
   ]
  },
  {
   "cell_type": "code",
   "execution_count": 12,
   "id": "3ab12cec",
   "metadata": {
    "execution": {
     "iopub.execute_input": "2022-07-17T06:46:32.672680Z",
     "iopub.status.busy": "2022-07-17T06:46:32.672383Z",
     "iopub.status.idle": "2022-07-17T06:46:35.657946Z",
     "shell.execute_reply": "2022-07-17T06:46:35.657222Z"
    },
    "papermill": {
     "duration": 2.992425,
     "end_time": "2022-07-17T06:46:35.659574",
     "exception": false,
     "start_time": "2022-07-17T06:46:32.667149",
     "status": "completed"
    },
    "tags": []
   },
   "outputs": [
    {
     "data": {
      "image/png": "[encoded data removed]",
      "text/plain": [
       "<Figure size 1152x432 with 10 Axes>"
      ]
     },
     "metadata": {
      "needs_background": "light"
     },
     "output_type": "display_data"
    }
   ],
   "source": [
    "def plot_per_digit_probabilities(y_pred_probs):\n",
    "    fig, axs = plt.subplots(nrows=2, ncols=5, figsize=(16, 6))\n",
    "\n",
    "    for (r, c), digit, ax in zip(\n",
    "        it.product(range(2), range(5)), range(10), axs.reshape(-1)\n",
    "    ):\n",
    "        ax.hist(y_pred_probs_test[:, digit], bins=20)\n",
    "\n",
    "        ax.set_title(f\"Digit {digit}\")\n",
    "        if r == 1 and c == 2:\n",
    "            ax.set_xlabel(\"probability\", fontsize=16)\n",
    "\n",
    "        if c == 0:\n",
    "            ax.set_ylabel(\"counts\", fontsize=16)\n",
    "        ax.set_yscale(\"log\")\n",
    "\n",
    "    fig.tight_layout()\n",
    "    fig.suptitle(\n",
    "        f\"Distributions of prediction probabilities for each digit \"\n",
    "        f\"(on evaluation data, n={y_pred_probs.shape[0]})\",\n",
    "        fontsize=20,\n",
    "    )\n",
    "    fig.tight_layout()\n",
    "    fig.show()\n",
    "\n",
    "    return fig\n",
    "\n",
    "\n",
    "fig = plot_per_digit_probabilities(y_pred_probs_test)"
   ]
  },
  {
   "cell_type": "markdown",
   "id": "196d744b",
   "metadata": {
    "papermill": {
     "duration": 0.005297,
     "end_time": "2022-07-17T06:46:35.670109",
     "exception": false,
     "start_time": "2022-07-17T06:46:35.664812",
     "status": "completed"
    },
    "tags": []
   },
   "source": [
    "From the above distributions we see that most digits have clear separation between\n",
    "high and lower probabilities. Morover, in each case there is roughly an order of\n",
    "magnitude more of digits with low probabilities. This is compatible with digits\n",
    "being roughly evenly distributed in the data."
   ]
  },
  {
   "cell_type": "code",
   "execution_count": 13,
   "id": "2cda55af",
   "metadata": {
    "execution": {
     "iopub.execute_input": "2022-07-17T06:46:35.681065Z",
     "iopub.status.busy": "2022-07-17T06:46:35.680837Z",
     "iopub.status.idle": "2022-07-17T06:46:36.090315Z",
     "shell.execute_reply": "2022-07-17T06:46:36.089660Z"
    },
    "papermill": {
     "duration": 0.417541,
     "end_time": "2022-07-17T06:46:36.092294",
     "exception": false,
     "start_time": "2022-07-17T06:46:35.674753",
     "status": "completed"
    },
    "tags": []
   },
   "outputs": [],
   "source": [
    "logger.log_figure(\"per-digit-probabilities.png\", fig)"
   ]
  },
  {
   "cell_type": "markdown",
   "id": "49608957",
   "metadata": {
    "papermill": {
     "duration": 0.00484,
     "end_time": "2022-07-17T06:46:36.102239",
     "exception": false,
     "start_time": "2022-07-17T06:46:36.097399",
     "status": "completed"
    },
    "tags": []
   },
   "source": [
    "### Plot ROC curves for individual one-vs-rest classifiers"
   ]
  },
  {
   "cell_type": "code",
   "execution_count": 14,
   "id": "fee4915d",
   "metadata": {
    "execution": {
     "iopub.execute_input": "2022-07-17T06:46:36.113405Z",
     "iopub.status.busy": "2022-07-17T06:46:36.112963Z",
     "iopub.status.idle": "2022-07-17T06:46:36.445114Z",
     "shell.execute_reply": "2022-07-17T06:46:36.444353Z"
    },
    "papermill": {
     "duration": 0.339854,
     "end_time": "2022-07-17T06:46:36.447236",
     "exception": false,
     "start_time": "2022-07-17T06:46:36.107382",
     "status": "completed"
    },
    "tags": []
   },
   "outputs": [],
   "source": [
    "from sklearn import metrics"
   ]
  },
  {
   "cell_type": "code",
   "execution_count": 15,
   "id": "f4f83a1a",
   "metadata": {
    "execution": {
     "iopub.execute_input": "2022-07-17T06:46:36.463131Z",
     "iopub.status.busy": "2022-07-17T06:46:36.461670Z",
     "iopub.status.idle": "2022-07-17T06:46:37.470772Z",
     "shell.execute_reply": "2022-07-17T06:46:37.469966Z"
    },
    "papermill": {
     "duration": 1.016561,
     "end_time": "2022-07-17T06:46:37.472500",
     "exception": false,
     "start_time": "2022-07-17T06:46:36.455939",
     "status": "completed"
    },
    "tags": []
   },
   "outputs": [
    {
     "data": {
      "image/png": "[encoded data removed]",
      "text/plain": [
       "<Figure size 1152x576 with 10 Axes>"
      ]
     },
     "metadata": {
      "needs_background": "light"
     },
     "output_type": "display_data"
    }
   ],
   "source": [
    "def plot_roc_curves(y, y_pred_probs):\n",
    "    # based on example code\n",
    "    # https://scikit-learn.org/stable/auto_examples/model_selection/plot_roc.html\n",
    "\n",
    "    fig, axs = plt.subplots(nrows=2, ncols=5, figsize=(16, 8))\n",
    "\n",
    "    roc_auc_dict = {}\n",
    "\n",
    "    for (r, c), digit, ax in zip(\n",
    "        it.product(range(2), range(5)), range(10), axs.reshape(-1)\n",
    "    ):\n",
    "        fpr, tpr, _ = metrics.roc_curve(y == digit, y_pred_probs[:, digit])\n",
    "        auc = metrics.auc(fpr, tpr)\n",
    "        roc_auc_dict[str(digit)] = auc\n",
    "\n",
    "        ax.plot(fpr, tpr, label=f\"ROC AUC={round(auc, 3)}\")\n",
    "\n",
    "        ax.set_title(f\"\\nDigit {digit}\", fontsize=16)\n",
    "        if r == 1:\n",
    "            ax.set_xlabel(\"FPR\", fontsize=18)\n",
    "\n",
    "        if c == 0:\n",
    "            ax.set_ylabel(\"TPR\", fontsize=18)\n",
    "\n",
    "        ax.set_xlim([-0.05, 1.05])\n",
    "        ax.set_ylim([-0.05, 1.05])\n",
    "        ax.legend(loc=\"lower right\", frameon=False, fontsize=14)\n",
    "\n",
    "    fig.tight_layout()\n",
    "    fig.suptitle(\n",
    "        f\"ROC plots for one-vs-rest performances \"\n",
    "        f\"(on evaluation data, n={y_pred_probs_test.shape[1]}\",\n",
    "        fontsize=22,\n",
    "    )\n",
    "    fig.tight_layout()\n",
    "    fig.show()\n",
    "\n",
    "    return roc_auc_dict, fig\n",
    "\n",
    "\n",
    "roc_auc_dict, fig = plot_roc_curves(y_test, y_pred_probs_test)"
   ]
  },
  {
   "cell_type": "code",
   "execution_count": 16,
   "id": "8f43b82c",
   "metadata": {
    "execution": {
     "iopub.execute_input": "2022-07-17T06:46:37.490650Z",
     "iopub.status.busy": "2022-07-17T06:46:37.490418Z",
     "iopub.status.idle": "2022-07-17T06:46:37.728498Z",
     "shell.execute_reply": "2022-07-17T06:46:37.727817Z"
    },
    "papermill": {
     "duration": 0.249434,
     "end_time": "2022-07-17T06:46:37.730768",
     "exception": false,
     "start_time": "2022-07-17T06:46:37.481334",
     "status": "completed"
    },
    "tags": []
   },
   "outputs": [],
   "source": [
    "logger.log_figure(\"per-digit-roc-curves.png\", fig)"
   ]
  },
  {
   "cell_type": "code",
   "execution_count": 17,
   "id": "b297dd05",
   "metadata": {
    "execution": {
     "iopub.execute_input": "2022-07-17T06:46:37.744327Z",
     "iopub.status.busy": "2022-07-17T06:46:37.744099Z",
     "iopub.status.idle": "2022-07-17T06:46:37.754373Z",
     "shell.execute_reply": "2022-07-17T06:46:37.753879Z"
    },
    "papermill": {
     "duration": 0.020156,
     "end_time": "2022-07-17T06:46:37.757702",
     "exception": false,
     "start_time": "2022-07-17T06:46:37.737546",
     "status": "completed"
    },
    "tags": []
   },
   "outputs": [
    {
     "data": {
      "text/plain": [
       "{'0': 1.0,\n",
       " '1': 0.999025304592315,\n",
       " '2': 1.0,\n",
       " '3': 0.9998500468603562,\n",
       " '4': 0.9995808565767413,\n",
       " '5': 0.9994001874414246,\n",
       " '6': 0.999923792104862,\n",
       " '7': 0.9997713763145862,\n",
       " '8': 0.9955075662042875,\n",
       " '9': 0.9996189605243103}"
      ]
     },
     "execution_count": 17,
     "metadata": {},
     "output_type": "execute_result"
    }
   ],
   "source": [
    "roc_auc_dict"
   ]
  },
  {
   "cell_type": "code",
   "execution_count": 18,
   "id": "e8739e77",
   "metadata": {
    "execution": {
     "iopub.execute_input": "2022-07-17T06:46:37.770392Z",
     "iopub.status.busy": "2022-07-17T06:46:37.770177Z",
     "iopub.status.idle": "2022-07-17T06:46:37.774186Z",
     "shell.execute_reply": "2022-07-17T06:46:37.773676Z"
    },
    "papermill": {
     "duration": 0.013755,
     "end_time": "2022-07-17T06:46:37.777326",
     "exception": false,
     "start_time": "2022-07-17T06:46:37.763571",
     "status": "completed"
    },
    "tags": []
   },
   "outputs": [
    {
     "name": "stdout",
     "output_type": "stream",
     "text": [
      " - Logging roc_auc_per_digit (json) : {'0': 1.0, '1': 0.999025304592315, '2': 1.0, '3': 0.9998500468603562, '4': 0.9995808565767413, '5': 0.9994001874414246, '6': 0.999923792104862, '7': 0.9997713763145862, '8': 0.9955075662042875, '9': 0.9996189605243103}\n"
     ]
    }
   ],
   "source": [
    "logger.log_value(\"roc_auc_per_digit\", roc_auc_dict)"
   ]
  },
  {
   "cell_type": "markdown",
   "id": "e8090220",
   "metadata": {
    "papermill": {
     "duration": 0.005742,
     "end_time": "2022-07-17T06:46:37.788852",
     "exception": false,
     "start_time": "2022-07-17T06:46:37.783110",
     "status": "completed"
    },
    "tags": []
   },
   "source": [
    "### Compute and log mean ROC AUC score averaged over all digits"
   ]
  },
  {
   "cell_type": "code",
   "execution_count": 19,
   "id": "7eef8f8f",
   "metadata": {
    "execution": {
     "iopub.execute_input": "2022-07-17T06:46:37.801323Z",
     "iopub.status.busy": "2022-07-17T06:46:37.801109Z",
     "iopub.status.idle": "2022-07-17T06:46:37.814918Z",
     "shell.execute_reply": "2022-07-17T06:46:37.814335Z"
    },
    "papermill": {
     "duration": 0.022031,
     "end_time": "2022-07-17T06:46:37.816719",
     "exception": false,
     "start_time": "2022-07-17T06:46:37.794688",
     "status": "completed"
    },
    "tags": []
   },
   "outputs": [
    {
     "name": "stdout",
     "output_type": "stream",
     "text": [
      " - Logging roc_auc_class_mean (float) : 0.9992678090618883\n"
     ]
    }
   ],
   "source": [
    "roc_auc_macro = np.mean(list(roc_auc_dict.values()))\n",
    "\n",
    "logger.log_float(\"roc_auc_class_mean\", roc_auc_macro)\n",
    "\n",
    "# assert that the same value can be computed directly using sklearn\n",
    "assert roc_auc_macro == metrics.roc_auc_score(\n",
    "    y_test, y_pred_probs_test, average=\"macro\", multi_class=\"ovr\"\n",
    ")"
   ]
  },
  {
   "cell_type": "code",
   "execution_count": 20,
   "id": "f6534c83",
   "metadata": {
    "execution": {
     "iopub.execute_input": "2022-07-17T06:46:37.830448Z",
     "iopub.status.busy": "2022-07-17T06:46:37.830167Z",
     "iopub.status.idle": "2022-07-17T06:46:37.833157Z",
     "shell.execute_reply": "2022-07-17T06:46:37.832420Z"
    },
    "lines_to_next_cell": 0,
    "papermill": {
     "duration": 0.011734,
     "end_time": "2022-07-17T06:46:37.835234",
     "exception": false,
     "start_time": "2022-07-17T06:46:37.823500",
     "status": "completed"
    },
    "tags": []
   },
   "outputs": [],
   "source": [
    "# ---"
   ]
  },
  {
   "cell_type": "code",
   "execution_count": null,
   "id": "79c8e5a0",
   "metadata": {
    "papermill": {
     "duration": 0.006205,
     "end_time": "2022-07-17T06:46:37.847309",
     "exception": false,
     "start_time": "2022-07-17T06:46:37.841104",
     "status": "completed"
    },
    "tags": []
   },
   "outputs": [],
   "source": []
  }
 ],
 "metadata": {
  "jupytext": {
   "cell_metadata_filter": "tags,-all",
   "main_language": "python",
   "notebook_metadata_filter": "-all"
  },
  "language_info": {
   "codemirror_mode": {
    "name": "ipython",
    "version": 3
   },
   "file_extension": ".py",
   "mimetype": "text/x-python",
   "name": "python",
   "nbconvert_exporter": "python",
   "pygments_lexer": "ipython3",
   "version": "3.8.10"
  },
  "papermill": {
   "default_parameters": {},
   "duration": 8.646086,
   "end_time": "2022-07-17T06:46:38.772975",
   "environment_variables": {},
   "exception": null,
   "input_path": "/home/host_user/workspace/mnist-demo-pipeline/mnist-demo-pipeline/notebooks/temp-notebook-cj9jzf3x.ipynb",
   "output_path": "notebooks/benchmark-model.ipynb",
   "parameters": {
    "P": {
     "_opentelemetry_traceparent": "00-48e81b648307f6a2016578770d185db5-1829714a666e82c2-01",
     "pipeline.data_lake_root": "/pipeline-outputs/data-lake",
     "pipeline.github.actor": "matiasdahl",
     "pipeline.github.base_ref": "",
     "pipeline.github.event_name": "schedule",
     "pipeline.github.head_ref": "",
     "pipeline.github.job": "run-tests-pipeline-and-persist-pipeline-outputs",
     "pipeline.github.ref": "refs/heads/development",
     "pipeline.github.ref_name": "development",
     "pipeline.github.ref_type": "branch",
     "pipeline.github.repository": "pynb-dag-runner/mnist-digits-demo-pipeline",
     "pipeline.github.run_id": "2684555341",
     "pipeline.github.runner_name": "Hosted Agent",
     "pipeline.github.sha": "147a1be9916173fd4d2cd011d8d51e3411215850",
     "pipeline.github.workflow": "Run automated tests, pipeline and deploy results to static reporting site",
     "pipeline.pipeline_run_id": "a19f8802-c54d-483a-8499-7b6b7a5c98be",
     "pipeline.run_environment": "ci",
     "run.retry_nr": "0",
     "task.max_nr_retries": "1",
     "task.notebook": "notebooks/benchmark-model.py",
     "task.nr_train_images": 1000,
     "task.num_cpus": 1,
     "task.timeout_s": "None"
    }
   },
   "start_time": "2022-07-17T06:46:30.126889",
   "version": "2.3.3"
  }
 },
 "nbformat": 4,
 "nbformat_minor": 5
}