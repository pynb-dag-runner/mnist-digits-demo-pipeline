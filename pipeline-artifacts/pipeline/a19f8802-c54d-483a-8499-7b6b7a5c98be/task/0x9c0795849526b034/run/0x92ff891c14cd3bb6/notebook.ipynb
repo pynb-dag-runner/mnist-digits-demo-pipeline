{
 "cells": [
  {
   "cell_type": "markdown",
   "id": "d52f163c",
   "metadata": {
    "papermill": {
     "duration": 0.003802,
     "end_time": "2022-07-17T06:46:16.014756",
     "exception": false,
     "start_time": "2022-07-17T06:46:16.010954",
     "status": "completed"
    },
    "tags": []
   },
   "source": [
    "# Train model\n",
    "\n",
    "The purpose of this notebook is:\n",
    "\n",
    "- Load all training data (images and labels).\n",
    "- Limit number of train images to `task.nr_train_images` (value provided as run parameter).\n",
    "- Train a support vector machine model using sklearn.\n",
    "- Persist the trained model using the ONNX format."
   ]
  },
  {
   "cell_type": "markdown",
   "id": "7ba3f5a0",
   "metadata": {
    "papermill": {
     "duration": 0.002967,
     "end_time": "2022-07-17T06:46:16.021086",
     "exception": false,
     "start_time": "2022-07-17T06:46:16.018119",
     "status": "completed"
    },
    "tags": []
   },
   "source": [
    "### Determine run parameters"
   ]
  },
  {
   "cell_type": "code",
   "execution_count": 1,
   "id": "3b69f4e0",
   "metadata": {
    "execution": {
     "iopub.execute_input": "2022-07-17T06:46:16.027837Z",
     "iopub.status.busy": "2022-07-17T06:46:16.027541Z",
     "iopub.status.idle": "2022-07-17T06:46:16.034589Z",
     "shell.execute_reply": "2022-07-17T06:46:16.034086Z"
    },
    "lines_to_next_cell": 0,
    "papermill": {
     "duration": 0.01356,
     "end_time": "2022-07-17T06:46:16.037262",
     "exception": false,
     "start_time": "2022-07-17T06:46:16.023702",
     "status": "completed"
    },
    "tags": []
   },
   "outputs": [],
   "source": [
    "# ----------------- Parameters for interactive development --------------\n",
    "P = {\n",
    "    \"pipeline.data_lake_root\": \"/pipeline-outputs/data-lake\",\n",
    "    \"task.nr_train_images\": 600,\n",
    "}"
   ]
  },
  {
   "cell_type": "code",
   "execution_count": 2,
   "id": "1912a464",
   "metadata": {
    "execution": {
     "iopub.execute_input": "2022-07-17T06:46:16.043835Z",
     "iopub.status.busy": "2022-07-17T06:46:16.043622Z",
     "iopub.status.idle": "2022-07-17T06:46:16.046441Z",
     "shell.execute_reply": "2022-07-17T06:46:16.045925Z"
    },
    "lines_to_next_cell": 0,
    "papermill": {
     "duration": 0.008596,
     "end_time": "2022-07-17T06:46:16.048806",
     "exception": false,
     "start_time": "2022-07-17T06:46:16.040210",
     "status": "completed"
    },
    "tags": [
     "parameters"
    ]
   },
   "outputs": [],
   "source": [
    "# - During automated runs parameters will be injected in the below cell -"
   ]
  },
  {
   "cell_type": "code",
   "execution_count": 3,
   "id": "0e627db7",
   "metadata": {
    "execution": {
     "iopub.execute_input": "2022-07-17T06:46:16.055177Z",
     "iopub.status.busy": "2022-07-17T06:46:16.054977Z",
     "iopub.status.idle": "2022-07-17T06:46:16.059513Z",
     "shell.execute_reply": "2022-07-17T06:46:16.059034Z"
    },
    "papermill": {
     "duration": 0.010638,
     "end_time": "2022-07-17T06:46:16.062151",
     "exception": false,
     "start_time": "2022-07-17T06:46:16.051513",
     "status": "completed"
    },
    "tags": [
     "injected-parameters"
    ]
   },
   "outputs": [],
   "source": [
    "# Parameters\n",
    "P = {\n",
    "    \"pipeline.data_lake_root\": \"/pipeline-outputs/data-lake\",\n",
    "    \"pipeline.run_environment\": \"ci\",\n",
    "    \"pipeline.pipeline_run_id\": \"a19f8802-c54d-483a-8499-7b6b7a5c98be\",\n",
    "    \"pipeline.github.repository\": \"pynb-dag-runner/mnist-digits-demo-pipeline\",\n",
    "    \"pipeline.github.workflow\": \"Run automated tests, pipeline and deploy results to static reporting site\",\n",
    "    \"pipeline.github.runner_name\": \"Hosted Agent\",\n",
    "    \"pipeline.github.run_id\": \"2684555341\",\n",
    "    \"pipeline.github.actor\": \"matiasdahl\",\n",
    "    \"pipeline.github.job\": \"run-tests-pipeline-and-persist-pipeline-outputs\",\n",
    "    \"pipeline.github.base_ref\": \"\",\n",
    "    \"pipeline.github.head_ref\": \"\",\n",
    "    \"pipeline.github.sha\": \"147a1be9916173fd4d2cd011d8d51e3411215850\",\n",
    "    \"pipeline.github.ref\": \"refs/heads/development\",\n",
    "    \"pipeline.github.ref_type\": \"branch\",\n",
    "    \"pipeline.github.ref_name\": \"development\",\n",
    "    \"pipeline.github.event_name\": \"schedule\",\n",
    "    \"task.nr_train_images\": 1000,\n",
    "    \"task.notebook\": \"notebooks/train-model.py\",\n",
    "    \"task.max_nr_retries\": \"1\",\n",
    "    \"run.retry_nr\": \"0\",\n",
    "    \"task.timeout_s\": \"None\",\n",
    "    \"task.num_cpus\": 1,\n",
    "    \"_opentelemetry_traceparent\": \"00-48e81b648307f6a2016578770d185db5-bab39def3d58d32b-01\",\n",
    "}\n"
   ]
  },
  {
   "cell_type": "code",
   "execution_count": 4,
   "id": "dbaa5db3",
   "metadata": {
    "execution": {
     "iopub.execute_input": "2022-07-17T06:46:16.069327Z",
     "iopub.status.busy": "2022-07-17T06:46:16.069132Z",
     "iopub.status.idle": "2022-07-17T06:46:16.071621Z",
     "shell.execute_reply": "2022-07-17T06:46:16.071099Z"
    },
    "lines_to_next_cell": 0,
    "papermill": {
     "duration": 0.011369,
     "end_time": "2022-07-17T06:46:16.076600",
     "exception": false,
     "start_time": "2022-07-17T06:46:16.065231",
     "status": "completed"
    },
    "tags": []
   },
   "outputs": [],
   "source": [
    "# -----------------------------------------------------------------------"
   ]
  },
  {
   "cell_type": "markdown",
   "id": "eed527af",
   "metadata": {
    "papermill": {
     "duration": 0.002791,
     "end_time": "2022-07-17T06:46:16.082385",
     "exception": false,
     "start_time": "2022-07-17T06:46:16.079594",
     "status": "completed"
    },
    "tags": []
   },
   "source": [
    "---"
   ]
  },
  {
   "cell_type": "markdown",
   "id": "0c164881",
   "metadata": {
    "lines_to_next_cell": 2,
    "papermill": {
     "duration": 0.002921,
     "end_time": "2022-07-17T06:46:16.088162",
     "exception": false,
     "start_time": "2022-07-17T06:46:16.085241",
     "status": "completed"
    },
    "tags": []
   },
   "source": [
    "### Notebook code"
   ]
  },
  {
   "cell_type": "code",
   "execution_count": 5,
   "id": "5fa02513",
   "metadata": {
    "execution": {
     "iopub.execute_input": "2022-07-17T06:46:16.094630Z",
     "iopub.status.busy": "2022-07-17T06:46:16.094432Z",
     "iopub.status.idle": "2022-07-17T06:46:16.562787Z",
     "shell.execute_reply": "2022-07-17T06:46:16.559028Z"
    },
    "papermill": {
     "duration": 0.473669,
     "end_time": "2022-07-17T06:46:16.564728",
     "exception": false,
     "start_time": "2022-07-17T06:46:16.091059",
     "status": "completed"
    },
    "tags": []
   },
   "outputs": [
    {
     "name": "stderr",
     "output_type": "stream",
     "text": [
      "2022-07-17 06:46:16,392\tINFO worker.py:842 -- Connecting to existing Ray cluster at address: 172.17.0.2:6379\n"
     ]
    }
   ],
   "source": [
    "from pynb_dag_runner.tasks.task_opentelemetry_logging import PydarLogger\n",
    "\n",
    "logger = PydarLogger(P)"
   ]
  },
  {
   "cell_type": "markdown",
   "id": "7f171c24",
   "metadata": {
    "papermill": {
     "duration": 0.003013,
     "end_time": "2022-07-17T06:46:16.571155",
     "exception": false,
     "start_time": "2022-07-17T06:46:16.568142",
     "status": "completed"
    },
    "tags": []
   },
   "source": [
    "## Load and limit train data"
   ]
  },
  {
   "cell_type": "code",
   "execution_count": 6,
   "id": "97092f21",
   "metadata": {
    "execution": {
     "iopub.execute_input": "2022-07-17T06:46:16.578916Z",
     "iopub.status.busy": "2022-07-17T06:46:16.578635Z",
     "iopub.status.idle": "2022-07-17T06:46:16.934812Z",
     "shell.execute_reply": "2022-07-17T06:46:16.933832Z"
    },
    "papermill": {
     "duration": 0.362465,
     "end_time": "2022-07-17T06:46:16.937102",
     "exception": false,
     "start_time": "2022-07-17T06:46:16.574637",
     "status": "completed"
    },
    "tags": []
   },
   "outputs": [],
   "source": [
    "def load_and_limit_train_data(P):\n",
    "    from common.io import datalake_root, read_numpy\n",
    "    from sklearn.model_selection import train_test_split\n",
    "\n",
    "    X_train_all = read_numpy(datalake_root(P) / \"train-data\" / \"digits.numpy\")\n",
    "    y_train_all = read_numpy(datalake_root(P) / \"train-data\" / \"labels.numpy\")\n",
    "\n",
    "    assert isinstance(P[\"task.nr_train_images\"], int)\n",
    "\n",
    "    # Note: train_test_split will fail if split is 0 or 100%.\n",
    "    assert 0 < P[\"task.nr_train_images\"] < len(y_train_all)\n",
    "\n",
    "    X_train, _, y_train, _ = train_test_split(\n",
    "        X_train_all,\n",
    "        y_train_all,\n",
    "        train_size=P[\"task.nr_train_images\"],\n",
    "        test_size=None,\n",
    "        stratify=y_train_all,\n",
    "        shuffle=True,\n",
    "        random_state=123,\n",
    "    )\n",
    "\n",
    "    assert X_train.shape == (len(y_train), 8 * 8)\n",
    "    return X_train, y_train\n",
    "\n",
    "\n",
    "X_train, y_train = load_and_limit_train_data(P)"
   ]
  },
  {
   "cell_type": "markdown",
   "id": "1534e68e",
   "metadata": {
    "papermill": {
     "duration": 0.003083,
     "end_time": "2022-07-17T06:46:16.944806",
     "exception": false,
     "start_time": "2022-07-17T06:46:16.941723",
     "status": "completed"
    },
    "tags": []
   },
   "source": [
    "## Train support vector classifier model\n",
    "\n",
    "Below we assume that the hyperparameter $C$ is known.\n",
    "\n",
    "However, this should ideally be found by a hyperparameter search. That could be\n",
    "done in parallel on the Ray cluster, but this needs some more work. Ie., to use\n",
    "multiple cores in the notebook, those cores should be reserved when starting the\n",
    "notebook task (TODO).\n",
    "\n",
    "- https://docs.ray.io/en/latest/tune/key-concepts.html\n",
    "\n",
    "Note: cv-scores would need to be computed here, since they depend on the train data.\n",
    "After this notebook only the onnx-model is available."
   ]
  },
  {
   "cell_type": "code",
   "execution_count": 7,
   "id": "d4fc5e38",
   "metadata": {
    "execution": {
     "iopub.execute_input": "2022-07-17T06:46:16.952022Z",
     "iopub.status.busy": "2022-07-17T06:46:16.951670Z",
     "iopub.status.idle": "2022-07-17T06:46:16.972121Z",
     "shell.execute_reply": "2022-07-17T06:46:16.970868Z"
    },
    "papermill": {
     "duration": 0.025805,
     "end_time": "2022-07-17T06:46:16.973702",
     "exception": false,
     "start_time": "2022-07-17T06:46:16.947897",
     "status": "completed"
    },
    "tags": []
   },
   "outputs": [],
   "source": [
    "from sklearn.svm import SVC"
   ]
  },
  {
   "cell_type": "code",
   "execution_count": 8,
   "id": "b5983687",
   "metadata": {
    "execution": {
     "iopub.execute_input": "2022-07-17T06:46:16.985723Z",
     "iopub.status.busy": "2022-07-17T06:46:16.985216Z",
     "iopub.status.idle": "2022-07-17T06:46:17.140180Z",
     "shell.execute_reply": "2022-07-17T06:46:17.139554Z"
    },
    "papermill": {
     "duration": 0.164807,
     "end_time": "2022-07-17T06:46:17.141811",
     "exception": false,
     "start_time": "2022-07-17T06:46:16.977004",
     "status": "completed"
    },
    "tags": []
   },
   "outputs": [
    {
     "data": {
      "text/plain": [
       "SVC(C=0.001, kernel='linear', probability=True)"
      ]
     },
     "execution_count": 8,
     "metadata": {},
     "output_type": "execute_result"
    }
   ],
   "source": [
    "model = SVC(C=0.001, kernel=\"linear\", probability=True)\n",
    "\n",
    "model.fit(X_train, y_train)"
   ]
  },
  {
   "cell_type": "markdown",
   "id": "e588d836",
   "metadata": {
    "papermill": {
     "duration": 0.003623,
     "end_time": "2022-07-17T06:46:17.148785",
     "exception": false,
     "start_time": "2022-07-17T06:46:17.145162",
     "status": "completed"
    },
    "tags": []
   },
   "source": [
    "### Q: Can the labels returned by `predict(..)` be computed from probabilities returned by the `predict_prob`-method?"
   ]
  },
  {
   "cell_type": "code",
   "execution_count": 9,
   "id": "9ad35c3b",
   "metadata": {
    "execution": {
     "iopub.execute_input": "2022-07-17T06:46:17.155937Z",
     "iopub.status.busy": "2022-07-17T06:46:17.155719Z",
     "iopub.status.idle": "2022-07-17T06:46:17.232052Z",
     "shell.execute_reply": "2022-07-17T06:46:17.231402Z"
    },
    "papermill": {
     "duration": 0.081923,
     "end_time": "2022-07-17T06:46:17.233696",
     "exception": false,
     "start_time": "2022-07-17T06:46:17.151773",
     "status": "completed"
    },
    "tags": []
   },
   "outputs": [
    {
     "name": "stdout",
     "output_type": "stream",
     "text": [
      " - Logging nr_max_prob_neq_label (int) : 1\n"
     ]
    }
   ],
   "source": [
    "import numpy as np\n",
    "\n",
    "y_train_labels = model.predict(X_train)\n",
    "y_train_probabilities = model.predict_proba(X_train)\n",
    "assert y_train_probabilities.shape == (len(y_train), 10)\n",
    "\n",
    "y_train_max_prob_labels = np.argmax(y_train_probabilities, axis=1)\n",
    "assert y_train_labels.shape == y_train_max_prob_labels.shape == y_train.shape\n",
    "\n",
    "# If the predicted labels would coincide with the labels that have\n",
    "# maximum probability, the below number would be zero\n",
    "logger.log_int(\n",
    "    \"nr_max_prob_neq_label\", int(sum(y_train_max_prob_labels != y_train_labels))\n",
    ")"
   ]
  },
  {
   "cell_type": "markdown",
   "id": "849a4d60",
   "metadata": {
    "papermill": {
     "duration": 0.003418,
     "end_time": "2022-07-17T06:46:17.240527",
     "exception": false,
     "start_time": "2022-07-17T06:46:17.237109",
     "status": "completed"
    },
    "tags": []
   },
   "source": [
    "The explanation is (likely) explained in the SVC source, see\n",
    "[here](https://github.com/scikit-learn/scikit-learn/blob/main/sklearn/svm/_base.py).\n",
    "Namely, the outputs from `predict(..)` and `predict_proba(..)` may not in some\n",
    "cases be compatible since the latter is computed using cross-validation while\n",
    "the former is not. Thus, the above number need not be zero."
   ]
  },
  {
   "cell_type": "markdown",
   "id": "314d140f",
   "metadata": {
    "papermill": {
     "duration": 0.0031,
     "end_time": "2022-07-17T06:46:17.246659",
     "exception": false,
     "start_time": "2022-07-17T06:46:17.243559",
     "status": "completed"
    },
    "tags": []
   },
   "source": [
    "## Persist model"
   ]
  },
  {
   "cell_type": "code",
   "execution_count": 10,
   "id": "2a6d9f7e",
   "metadata": {
    "execution": {
     "iopub.execute_input": "2022-07-17T06:46:17.254464Z",
     "iopub.status.busy": "2022-07-17T06:46:17.254239Z",
     "iopub.status.idle": "2022-07-17T06:46:17.958147Z",
     "shell.execute_reply": "2022-07-17T06:46:17.957484Z"
    },
    "papermill": {
     "duration": 0.709425,
     "end_time": "2022-07-17T06:46:17.959821",
     "exception": false,
     "start_time": "2022-07-17T06:46:17.250396",
     "status": "completed"
    },
    "tags": []
   },
   "outputs": [],
   "source": [
    "from skl2onnx import convert_sklearn\n",
    "from skl2onnx.common.data_types import FloatTensorType\n",
    "\n",
    "#\n",
    "from common.io import datalake_root, write_onnx"
   ]
  },
  {
   "cell_type": "code",
   "execution_count": 11,
   "id": "69ab6635",
   "metadata": {
    "execution": {
     "iopub.execute_input": "2022-07-17T06:46:17.971577Z",
     "iopub.status.busy": "2022-07-17T06:46:17.970938Z",
     "iopub.status.idle": "2022-07-17T06:46:18.022425Z",
     "shell.execute_reply": "2022-07-17T06:46:18.021373Z"
    },
    "papermill": {
     "duration": 0.060697,
     "end_time": "2022-07-17T06:46:18.023955",
     "exception": false,
     "start_time": "2022-07-17T06:46:17.963258",
     "status": "completed"
    },
    "tags": []
   },
   "outputs": [],
   "source": [
    "# convert sklearn model into onnx and persist to data lake\n",
    "\n",
    "model_onnx = convert_sklearn(\n",
    "    model, initial_types=[(\"float_input_8x8_image\", FloatTensorType([None, 8 * 8]))]\n",
    ")\n",
    "write_onnx(\n",
    "    datalake_root(P)\n",
    "    / \"models\"\n",
    "    / f\"nr_train_images={P['task.nr_train_images']}\"\n",
    "    / \"model.onnx\",\n",
    "    model_onnx,\n",
    ")"
   ]
  },
  {
   "cell_type": "code",
   "execution_count": null,
   "id": "80825ee3",
   "metadata": {
    "papermill": {
     "duration": 0.004187,
     "end_time": "2022-07-17T06:46:18.033377",
     "exception": false,
     "start_time": "2022-07-17T06:46:18.029190",
     "status": "completed"
    },
    "tags": []
   },
   "outputs": [],
   "source": []
  }
 ],
 "metadata": {
  "jupytext": {
   "cell_metadata_filter": "tags,-all",
   "main_language": "python",
   "notebook_metadata_filter": "-all"
  },
  "language_info": {
   "codemirror_mode": {
    "name": "ipython",
    "version": 3
   },
   "file_extension": ".py",
   "mimetype": "text/x-python",
   "name": "python",
   "nbconvert_exporter": "python",
   "pygments_lexer": "ipython3",
   "version": "3.8.10"
  },
  "papermill": {
   "default_parameters": {},
   "duration": 4.108855,
   "end_time": "2022-07-17T06:46:18.957929",
   "environment_variables": {},
   "exception": null,
   "input_path": "/home/host_user/workspace/mnist-demo-pipeline/mnist-demo-pipeline/notebooks/temp-notebook-6plzjmua.ipynb",
   "output_path": "notebooks/train-model.ipynb",
   "parameters": {
    "P": {
     "_opentelemetry_traceparent": "00-48e81b648307f6a2016578770d185db5-bab39def3d58d32b-01",
     "pipeline.data_lake_root": "/pipeline-outputs/data-lake",
     "pipeline.github.actor": "matiasdahl",
     "pipeline.github.base_ref": "",
     "pipeline.github.event_name": "schedule",
     "pipeline.github.head_ref": "",
     "pipeline.github.job": "run-tests-pipeline-and-persist-pipeline-outputs",
     "pipeline.github.ref": "refs/heads/development",
     "pipeline.github.ref_name": "development",
     "pipeline.github.ref_type": "branch",
     "pipeline.github.repository": "pynb-dag-runner/mnist-digits-demo-pipeline",
     "pipeline.github.run_id": "2684555341",
     "pipeline.github.runner_name": "Hosted Agent",
     "pipeline.github.sha": "147a1be9916173fd4d2cd011d8d51e3411215850",
     "pipeline.github.workflow": "Run automated tests, pipeline and deploy results to static reporting site",
     "pipeline.pipeline_run_id": "a19f8802-c54d-483a-8499-7b6b7a5c98be",
     "pipeline.run_environment": "ci",
     "run.retry_nr": "0",
     "task.max_nr_retries": "1",
     "task.notebook": "notebooks/train-model.py",
     "task.nr_train_images": 1000,
     "task.num_cpus": 1,
     "task.timeout_s": "None"
    }
   },
   "start_time": "2022-07-17T06:46:14.849074",
   "version": "2.3.3"
  }
 },
 "nbformat": 4,
 "nbformat_minor": 5
}