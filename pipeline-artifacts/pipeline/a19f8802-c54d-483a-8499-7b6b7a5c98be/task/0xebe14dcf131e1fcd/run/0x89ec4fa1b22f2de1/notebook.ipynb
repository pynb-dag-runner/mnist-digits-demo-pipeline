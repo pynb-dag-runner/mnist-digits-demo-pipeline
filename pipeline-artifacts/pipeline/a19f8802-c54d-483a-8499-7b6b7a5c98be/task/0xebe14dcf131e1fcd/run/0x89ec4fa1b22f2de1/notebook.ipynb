{
 "cells": [
  {
   "cell_type": "markdown",
   "id": "5045ed23",
   "metadata": {
    "papermill": {
     "duration": 0.004332,
     "end_time": "2022-07-17T06:46:14.756000",
     "exception": false,
     "start_time": "2022-07-17T06:46:14.751668",
     "status": "completed"
    },
    "tags": []
   },
   "source": [
    "# Train model\n",
    "\n",
    "The purpose of this notebook is:\n",
    "\n",
    "- Load all training data (images and labels).\n",
    "- Limit number of train images to `task.nr_train_images` (value provided as run parameter).\n",
    "- Train a support vector machine model using sklearn.\n",
    "- Persist the trained model using the ONNX format."
   ]
  },
  {
   "cell_type": "markdown",
   "id": "33f6bb85",
   "metadata": {
    "papermill": {
     "duration": 0.003005,
     "end_time": "2022-07-17T06:46:14.763440",
     "exception": false,
     "start_time": "2022-07-17T06:46:14.760435",
     "status": "completed"
    },
    "tags": []
   },
   "source": [
    "### Determine run parameters"
   ]
  },
  {
   "cell_type": "code",
   "execution_count": 1,
   "id": "64a68074",
   "metadata": {
    "execution": {
     "iopub.execute_input": "2022-07-17T06:46:14.771020Z",
     "iopub.status.busy": "2022-07-17T06:46:14.770703Z",
     "iopub.status.idle": "2022-07-17T06:46:14.778105Z",
     "shell.execute_reply": "2022-07-17T06:46:14.777590Z"
    },
    "lines_to_next_cell": 0,
    "papermill": {
     "duration": 0.014629,
     "end_time": "2022-07-17T06:46:14.780852",
     "exception": false,
     "start_time": "2022-07-17T06:46:14.766223",
     "status": "completed"
    },
    "tags": []
   },
   "outputs": [],
   "source": [
    "# ----------------- Parameters for interactive development --------------\n",
    "P = {\n",
    "    \"pipeline.data_lake_root\": \"/pipeline-outputs/data-lake\",\n",
    "    \"task.nr_train_images\": 600,\n",
    "}"
   ]
  },
  {
   "cell_type": "code",
   "execution_count": 2,
   "id": "1bbd41e2",
   "metadata": {
    "execution": {
     "iopub.execute_input": "2022-07-17T06:46:14.787973Z",
     "iopub.status.busy": "2022-07-17T06:46:14.787764Z",
     "iopub.status.idle": "2022-07-17T06:46:14.790816Z",
     "shell.execute_reply": "2022-07-17T06:46:14.790327Z"
    },
    "lines_to_next_cell": 0,
    "papermill": {
     "duration": 0.009582,
     "end_time": "2022-07-17T06:46:14.793395",
     "exception": false,
     "start_time": "2022-07-17T06:46:14.783813",
     "status": "completed"
    },
    "tags": [
     "parameters"
    ]
   },
   "outputs": [],
   "source": [
    "# - During automated runs parameters will be injected in the below cell -"
   ]
  },
  {
   "cell_type": "code",
   "execution_count": 3,
   "id": "3ed5c844",
   "metadata": {
    "execution": {
     "iopub.execute_input": "2022-07-17T06:46:14.800089Z",
     "iopub.status.busy": "2022-07-17T06:46:14.799869Z",
     "iopub.status.idle": "2022-07-17T06:46:14.804619Z",
     "shell.execute_reply": "2022-07-17T06:46:14.804059Z"
    },
    "papermill": {
     "duration": 0.010606,
     "end_time": "2022-07-17T06:46:14.806805",
     "exception": false,
     "start_time": "2022-07-17T06:46:14.796199",
     "status": "completed"
    },
    "tags": [
     "injected-parameters"
    ]
   },
   "outputs": [],
   "source": [
    "# Parameters\n",
    "P = {\n",
    "    \"pipeline.data_lake_root\": \"/pipeline-outputs/data-lake\",\n",
    "    \"pipeline.run_environment\": \"ci\",\n",
    "    \"pipeline.pipeline_run_id\": \"a19f8802-c54d-483a-8499-7b6b7a5c98be\",\n",
    "    \"pipeline.github.repository\": \"pynb-dag-runner/mnist-digits-demo-pipeline\",\n",
    "    \"pipeline.github.workflow\": \"Run automated tests, pipeline and deploy results to static reporting site\",\n",
    "    \"pipeline.github.runner_name\": \"Hosted Agent\",\n",
    "    \"pipeline.github.run_id\": \"2684555341\",\n",
    "    \"pipeline.github.actor\": \"matiasdahl\",\n",
    "    \"pipeline.github.job\": \"run-tests-pipeline-and-persist-pipeline-outputs\",\n",
    "    \"pipeline.github.base_ref\": \"\",\n",
    "    \"pipeline.github.head_ref\": \"\",\n",
    "    \"pipeline.github.sha\": \"147a1be9916173fd4d2cd011d8d51e3411215850\",\n",
    "    \"pipeline.github.ref\": \"refs/heads/development\",\n",
    "    \"pipeline.github.ref_type\": \"branch\",\n",
    "    \"pipeline.github.ref_name\": \"development\",\n",
    "    \"pipeline.github.event_name\": \"schedule\",\n",
    "    \"task.nr_train_images\": 800,\n",
    "    \"task.notebook\": \"notebooks/train-model.py\",\n",
    "    \"task.max_nr_retries\": \"1\",\n",
    "    \"run.retry_nr\": \"0\",\n",
    "    \"task.timeout_s\": \"None\",\n",
    "    \"task.num_cpus\": 1,\n",
    "    \"_opentelemetry_traceparent\": \"00-48e81b648307f6a2016578770d185db5-66774547af6d87d9-01\",\n",
    "}\n"
   ]
  },
  {
   "cell_type": "code",
   "execution_count": 4,
   "id": "18be5d29",
   "metadata": {
    "execution": {
     "iopub.execute_input": "2022-07-17T06:46:14.814085Z",
     "iopub.status.busy": "2022-07-17T06:46:14.813886Z",
     "iopub.status.idle": "2022-07-17T06:46:14.816645Z",
     "shell.execute_reply": "2022-07-17T06:46:14.816032Z"
    },
    "lines_to_next_cell": 0,
    "papermill": {
     "duration": 0.009471,
     "end_time": "2022-07-17T06:46:14.819367",
     "exception": false,
     "start_time": "2022-07-17T06:46:14.809896",
     "status": "completed"
    },
    "tags": []
   },
   "outputs": [],
   "source": [
    "# -----------------------------------------------------------------------"
   ]
  },
  {
   "cell_type": "markdown",
   "id": "ad7fb90b",
   "metadata": {
    "papermill": {
     "duration": 0.002953,
     "end_time": "2022-07-17T06:46:14.825538",
     "exception": false,
     "start_time": "2022-07-17T06:46:14.822585",
     "status": "completed"
    },
    "tags": []
   },
   "source": [
    "---"
   ]
  },
  {
   "cell_type": "markdown",
   "id": "8e8dc9e8",
   "metadata": {
    "lines_to_next_cell": 2,
    "papermill": {
     "duration": 0.00326,
     "end_time": "2022-07-17T06:46:14.831698",
     "exception": false,
     "start_time": "2022-07-17T06:46:14.828438",
     "status": "completed"
    },
    "tags": []
   },
   "source": [
    "### Notebook code"
   ]
  },
  {
   "cell_type": "code",
   "execution_count": 5,
   "id": "ec786f41",
   "metadata": {
    "execution": {
     "iopub.execute_input": "2022-07-17T06:46:14.838406Z",
     "iopub.status.busy": "2022-07-17T06:46:14.838166Z",
     "iopub.status.idle": "2022-07-17T06:46:15.324105Z",
     "shell.execute_reply": "2022-07-17T06:46:15.323483Z"
    },
    "papermill": {
     "duration": 0.491453,
     "end_time": "2022-07-17T06:46:15.325946",
     "exception": false,
     "start_time": "2022-07-17T06:46:14.834493",
     "status": "completed"
    },
    "tags": []
   },
   "outputs": [
    {
     "name": "stderr",
     "output_type": "stream",
     "text": [
      "2022-07-17 06:46:15,156\tINFO worker.py:842 -- Connecting to existing Ray cluster at address: 172.17.0.2:6379\n"
     ]
    }
   ],
   "source": [
    "from pynb_dag_runner.tasks.task_opentelemetry_logging import PydarLogger\n",
    "\n",
    "logger = PydarLogger(P)"
   ]
  },
  {
   "cell_type": "markdown",
   "id": "25e35c5f",
   "metadata": {
    "papermill": {
     "duration": 0.004085,
     "end_time": "2022-07-17T06:46:15.333866",
     "exception": false,
     "start_time": "2022-07-17T06:46:15.329781",
     "status": "completed"
    },
    "tags": []
   },
   "source": [
    "## Load and limit train data"
   ]
  },
  {
   "cell_type": "code",
   "execution_count": 6,
   "id": "3c1cd122",
   "metadata": {
    "execution": {
     "iopub.execute_input": "2022-07-17T06:46:15.341145Z",
     "iopub.status.busy": "2022-07-17T06:46:15.340847Z",
     "iopub.status.idle": "2022-07-17T06:46:15.723212Z",
     "shell.execute_reply": "2022-07-17T06:46:15.721882Z"
    },
    "papermill": {
     "duration": 0.388127,
     "end_time": "2022-07-17T06:46:15.724942",
     "exception": false,
     "start_time": "2022-07-17T06:46:15.336815",
     "status": "completed"
    },
    "tags": []
   },
   "outputs": [],
   "source": [
    "def load_and_limit_train_data(P):\n",
    "    from common.io import datalake_root, read_numpy\n",
    "    from sklearn.model_selection import train_test_split\n",
    "\n",
    "    X_train_all = read_numpy(datalake_root(P) / \"train-data\" / \"digits.numpy\")\n",
    "    y_train_all = read_numpy(datalake_root(P) / \"train-data\" / \"labels.numpy\")\n",
    "\n",
    "    assert isinstance(P[\"task.nr_train_images\"], int)\n",
    "\n",
    "    # Note: train_test_split will fail if split is 0 or 100%.\n",
    "    assert 0 < P[\"task.nr_train_images\"] < len(y_train_all)\n",
    "\n",
    "    X_train, _, y_train, _ = train_test_split(\n",
    "        X_train_all,\n",
    "        y_train_all,\n",
    "        train_size=P[\"task.nr_train_images\"],\n",
    "        test_size=None,\n",
    "        stratify=y_train_all,\n",
    "        shuffle=True,\n",
    "        random_state=123,\n",
    "    )\n",
    "\n",
    "    assert X_train.shape == (len(y_train), 8 * 8)\n",
    "    return X_train, y_train\n",
    "\n",
    "\n",
    "X_train, y_train = load_and_limit_train_data(P)"
   ]
  },
  {
   "cell_type": "markdown",
   "id": "5ffa1865",
   "metadata": {
    "papermill": {
     "duration": 0.002994,
     "end_time": "2022-07-17T06:46:15.731767",
     "exception": false,
     "start_time": "2022-07-17T06:46:15.728773",
     "status": "completed"
    },
    "tags": []
   },
   "source": [
    "## Train support vector classifier model\n",
    "\n",
    "Below we assume that the hyperparameter $C$ is known.\n",
    "\n",
    "However, this should ideally be found by a hyperparameter search. That could be\n",
    "done in parallel on the Ray cluster, but this needs some more work. Ie., to use\n",
    "multiple cores in the notebook, those cores should be reserved when starting the\n",
    "notebook task (TODO).\n",
    "\n",
    "- https://docs.ray.io/en/latest/tune/key-concepts.html\n",
    "\n",
    "Note: cv-scores would need to be computed here, since they depend on the train data.\n",
    "After this notebook only the onnx-model is available."
   ]
  },
  {
   "cell_type": "code",
   "execution_count": 7,
   "id": "e1b6243d",
   "metadata": {
    "execution": {
     "iopub.execute_input": "2022-07-17T06:46:15.739293Z",
     "iopub.status.busy": "2022-07-17T06:46:15.739061Z",
     "iopub.status.idle": "2022-07-17T06:46:15.757829Z",
     "shell.execute_reply": "2022-07-17T06:46:15.757282Z"
    },
    "papermill": {
     "duration": 0.024391,
     "end_time": "2022-07-17T06:46:15.759244",
     "exception": false,
     "start_time": "2022-07-17T06:46:15.734853",
     "status": "completed"
    },
    "tags": []
   },
   "outputs": [],
   "source": [
    "from sklearn.svm import SVC"
   ]
  },
  {
   "cell_type": "code",
   "execution_count": 8,
   "id": "e743546f",
   "metadata": {
    "execution": {
     "iopub.execute_input": "2022-07-17T06:46:15.767611Z",
     "iopub.status.busy": "2022-07-17T06:46:15.767212Z",
     "iopub.status.idle": "2022-07-17T06:46:15.885713Z",
     "shell.execute_reply": "2022-07-17T06:46:15.885069Z"
    },
    "papermill": {
     "duration": 0.124329,
     "end_time": "2022-07-17T06:46:15.887732",
     "exception": false,
     "start_time": "2022-07-17T06:46:15.763403",
     "status": "completed"
    },
    "tags": []
   },
   "outputs": [
    {
     "data": {
      "text/plain": [
       "SVC(C=0.001, kernel='linear', probability=True)"
      ]
     },
     "execution_count": 8,
     "metadata": {},
     "output_type": "execute_result"
    }
   ],
   "source": [
    "model = SVC(C=0.001, kernel=\"linear\", probability=True)\n",
    "\n",
    "model.fit(X_train, y_train)"
   ]
  },
  {
   "cell_type": "markdown",
   "id": "2939e6a6",
   "metadata": {
    "papermill": {
     "duration": 0.003492,
     "end_time": "2022-07-17T06:46:15.894525",
     "exception": false,
     "start_time": "2022-07-17T06:46:15.891033",
     "status": "completed"
    },
    "tags": []
   },
   "source": [
    "### Q: Can the labels returned by `predict(..)` be computed from probabilities returned by the `predict_prob`-method?"
   ]
  },
  {
   "cell_type": "code",
   "execution_count": 9,
   "id": "399956d7",
   "metadata": {
    "execution": {
     "iopub.execute_input": "2022-07-17T06:46:15.902396Z",
     "iopub.status.busy": "2022-07-17T06:46:15.902105Z",
     "iopub.status.idle": "2022-07-17T06:46:15.955730Z",
     "shell.execute_reply": "2022-07-17T06:46:15.954720Z"
    },
    "papermill": {
     "duration": 0.05946,
     "end_time": "2022-07-17T06:46:15.957414",
     "exception": false,
     "start_time": "2022-07-17T06:46:15.897954",
     "status": "completed"
    },
    "tags": []
   },
   "outputs": [
    {
     "name": "stdout",
     "output_type": "stream",
     "text": [
      " - Logging nr_max_prob_neq_label (int) : 2\n"
     ]
    }
   ],
   "source": [
    "import numpy as np\n",
    "\n",
    "y_train_labels = model.predict(X_train)\n",
    "y_train_probabilities = model.predict_proba(X_train)\n",
    "assert y_train_probabilities.shape == (len(y_train), 10)\n",
    "\n",
    "y_train_max_prob_labels = np.argmax(y_train_probabilities, axis=1)\n",
    "assert y_train_labels.shape == y_train_max_prob_labels.shape == y_train.shape\n",
    "\n",
    "# If the predicted labels would coincide with the labels that have\n",
    "# maximum probability, the below number would be zero\n",
    "logger.log_int(\n",
    "    \"nr_max_prob_neq_label\", int(sum(y_train_max_prob_labels != y_train_labels))\n",
    ")"
   ]
  },
  {
   "cell_type": "markdown",
   "id": "960b880a",
   "metadata": {
    "papermill": {
     "duration": 0.003338,
     "end_time": "2022-07-17T06:46:15.963847",
     "exception": false,
     "start_time": "2022-07-17T06:46:15.960509",
     "status": "completed"
    },
    "tags": []
   },
   "source": [
    "The explanation is (likely) explained in the SVC source, see\n",
    "[here](https://github.com/scikit-learn/scikit-learn/blob/main/sklearn/svm/_base.py).\n",
    "Namely, the outputs from `predict(..)` and `predict_proba(..)` may not in some\n",
    "cases be compatible since the latter is computed using cross-validation while\n",
    "the former is not. Thus, the above number need not be zero."
   ]
  },
  {
   "cell_type": "markdown",
   "id": "c61ec255",
   "metadata": {
    "papermill": {
     "duration": 0.003227,
     "end_time": "2022-07-17T06:46:15.970424",
     "exception": false,
     "start_time": "2022-07-17T06:46:15.967197",
     "status": "completed"
    },
    "tags": []
   },
   "source": [
    "## Persist model"
   ]
  },
  {
   "cell_type": "code",
   "execution_count": 10,
   "id": "2d4983aa",
   "metadata": {
    "execution": {
     "iopub.execute_input": "2022-07-17T06:46:15.978832Z",
     "iopub.status.busy": "2022-07-17T06:46:15.978614Z",
     "iopub.status.idle": "2022-07-17T06:46:16.725822Z",
     "shell.execute_reply": "2022-07-17T06:46:16.724985Z"
    },
    "papermill": {
     "duration": 0.752997,
     "end_time": "2022-07-17T06:46:16.727650",
     "exception": false,
     "start_time": "2022-07-17T06:46:15.974653",
     "status": "completed"
    },
    "tags": []
   },
   "outputs": [],
   "source": [
    "from skl2onnx import convert_sklearn\n",
    "from skl2onnx.common.data_types import FloatTensorType\n",
    "\n",
    "#\n",
    "from common.io import datalake_root, write_onnx"
   ]
  },
  {
   "cell_type": "code",
   "execution_count": 11,
   "id": "4d3cab11",
   "metadata": {
    "execution": {
     "iopub.execute_input": "2022-07-17T06:46:16.736701Z",
     "iopub.status.busy": "2022-07-17T06:46:16.735727Z",
     "iopub.status.idle": "2022-07-17T06:46:16.783289Z",
     "shell.execute_reply": "2022-07-17T06:46:16.782696Z"
    },
    "papermill": {
     "duration": 0.053747,
     "end_time": "2022-07-17T06:46:16.784962",
     "exception": false,
     "start_time": "2022-07-17T06:46:16.731215",
     "status": "completed"
    },
    "tags": []
   },
   "outputs": [],
   "source": [
    "# convert sklearn model into onnx and persist to data lake\n",
    "\n",
    "model_onnx = convert_sklearn(\n",
    "    model, initial_types=[(\"float_input_8x8_image\", FloatTensorType([None, 8 * 8]))]\n",
    ")\n",
    "write_onnx(\n",
    "    datalake_root(P)\n",
    "    / \"models\"\n",
    "    / f\"nr_train_images={P['task.nr_train_images']}\"\n",
    "    / \"model.onnx\",\n",
    "    model_onnx,\n",
    ")"
   ]
  },
  {
   "cell_type": "code",
   "execution_count": null,
   "id": "dc533ed0",
   "metadata": {
    "papermill": {
     "duration": 0.006678,
     "end_time": "2022-07-17T06:46:16.794962",
     "exception": false,
     "start_time": "2022-07-17T06:46:16.788284",
     "status": "completed"
    },
    "tags": []
   },
   "outputs": [],
   "source": []
  }
 ],
 "metadata": {
  "jupytext": {
   "cell_metadata_filter": "tags,-all",
   "main_language": "python",
   "notebook_metadata_filter": "-all"
  },
  "language_info": {
   "codemirror_mode": {
    "name": "ipython",
    "version": 3
   },
   "file_extension": ".py",
   "mimetype": "text/x-python",
   "name": "python",
   "nbconvert_exporter": "python",
   "pygments_lexer": "ipython3",
   "version": "3.8.10"
  },
  "papermill": {
   "default_parameters": {},
   "duration": 4.233533,
   "end_time": "2022-07-17T06:46:17.820812",
   "environment_variables": {},
   "exception": null,
   "input_path": "/home/host_user/workspace/mnist-demo-pipeline/mnist-demo-pipeline/notebooks/temp-notebook-nla061v1.ipynb",
   "output_path": "notebooks/train-model.ipynb",
   "parameters": {
    "P": {
     "_opentelemetry_traceparent": "00-48e81b648307f6a2016578770d185db5-66774547af6d87d9-01",
     "pipeline.data_lake_root": "/pipeline-outputs/data-lake",
     "pipeline.github.actor": "matiasdahl",
     "pipeline.github.base_ref": "",
     "pipeline.github.event_name": "schedule",
     "pipeline.github.head_ref": "",
     "pipeline.github.job": "run-tests-pipeline-and-persist-pipeline-outputs",
     "pipeline.github.ref": "refs/heads/development",
     "pipeline.github.ref_name": "development",
     "pipeline.github.ref_type": "branch",
     "pipeline.github.repository": "pynb-dag-runner/mnist-digits-demo-pipeline",
     "pipeline.github.run_id": "2684555341",
     "pipeline.github.runner_name": "Hosted Agent",
     "pipeline.github.sha": "147a1be9916173fd4d2cd011d8d51e3411215850",
     "pipeline.github.workflow": "Run automated tests, pipeline and deploy results to static reporting site",
     "pipeline.pipeline_run_id": "a19f8802-c54d-483a-8499-7b6b7a5c98be",
     "pipeline.run_environment": "ci",
     "run.retry_nr": "0",
     "task.max_nr_retries": "1",
     "task.notebook": "notebooks/train-model.py",
     "task.nr_train_images": 800,
     "task.num_cpus": 1,
     "task.timeout_s": "None"
    }
   },
   "start_time": "2022-07-17T06:46:13.587279",
   "version": "2.3.3"
  }
 },
 "nbformat": 4,
 "nbformat_minor": 5
}