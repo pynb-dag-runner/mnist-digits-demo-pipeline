{
 "cells": [
  {
   "cell_type": "markdown",
   "id": "8160c3bb",
   "metadata": {
    "papermill": {
     "duration": 0.003511,
     "end_time": "2022-07-17T06:46:45.700413",
     "exception": false,
     "start_time": "2022-07-17T06:46:45.696902",
     "status": "completed"
    },
    "tags": []
   },
   "source": [
    "# Summarize model performances\n",
    "\n",
    "This notebooks plots the performances (using averaged ROC AUC scores) for models\n",
    "trained with different training sets."
   ]
  },
  {
   "cell_type": "markdown",
   "id": "d7251607",
   "metadata": {
    "papermill": {
     "duration": 0.002603,
     "end_time": "2022-07-17T06:46:45.706014",
     "exception": false,
     "start_time": "2022-07-17T06:46:45.703411",
     "status": "completed"
    },
    "tags": []
   },
   "source": [
    "### Determine run parameters"
   ]
  },
  {
   "cell_type": "code",
   "execution_count": 1,
   "id": "cc35bcb4",
   "metadata": {
    "execution": {
     "iopub.execute_input": "2022-07-17T06:46:45.712086Z",
     "iopub.status.busy": "2022-07-17T06:46:45.711781Z",
     "iopub.status.idle": "2022-07-17T06:46:45.719350Z",
     "shell.execute_reply": "2022-07-17T06:46:45.718228Z"
    },
    "lines_to_next_cell": 0,
    "papermill": {
     "duration": 0.01247,
     "end_time": "2022-07-17T06:46:45.720788",
     "exception": false,
     "start_time": "2022-07-17T06:46:45.708318",
     "status": "completed"
    },
    "tags": []
   },
   "outputs": [],
   "source": [
    "# ----------------- Parameters for interactive development --------------\n",
    "P = {\n",
    "    \"pipeline.run_environment\": \"dev\",\n",
    "}"
   ]
  },
  {
   "cell_type": "code",
   "execution_count": 2,
   "id": "27dcbf51",
   "metadata": {
    "execution": {
     "iopub.execute_input": "2022-07-17T06:46:45.727382Z",
     "iopub.status.busy": "2022-07-17T06:46:45.726988Z",
     "iopub.status.idle": "2022-07-17T06:46:45.729847Z",
     "shell.execute_reply": "2022-07-17T06:46:45.729308Z"
    },
    "lines_to_next_cell": 0,
    "papermill": {
     "duration": 0.007617,
     "end_time": "2022-07-17T06:46:45.731092",
     "exception": false,
     "start_time": "2022-07-17T06:46:45.723475",
     "status": "completed"
    },
    "tags": [
     "parameters"
    ]
   },
   "outputs": [],
   "source": [
    "# - During automated runs parameters will be injected in the below cell -"
   ]
  },
  {
   "cell_type": "code",
   "execution_count": 3,
   "id": "1152da8d",
   "metadata": {
    "execution": {
     "iopub.execute_input": "2022-07-17T06:46:45.737320Z",
     "iopub.status.busy": "2022-07-17T06:46:45.737113Z",
     "iopub.status.idle": "2022-07-17T06:46:45.740933Z",
     "shell.execute_reply": "2022-07-17T06:46:45.740488Z"
    },
    "papermill": {
     "duration": 0.008525,
     "end_time": "2022-07-17T06:46:45.742219",
     "exception": false,
     "start_time": "2022-07-17T06:46:45.733694",
     "status": "completed"
    },
    "tags": [
     "injected-parameters"
    ]
   },
   "outputs": [],
   "source": [
    "# Parameters\n",
    "P = {\n",
    "    \"pipeline.data_lake_root\": \"/pipeline-outputs/data-lake\",\n",
    "    \"pipeline.run_environment\": \"ci\",\n",
    "    \"pipeline.pipeline_run_id\": \"a19f8802-c54d-483a-8499-7b6b7a5c98be\",\n",
    "    \"pipeline.github.repository\": \"pynb-dag-runner/mnist-digits-demo-pipeline\",\n",
    "    \"pipeline.github.workflow\": \"Run automated tests, pipeline and deploy results to static reporting site\",\n",
    "    \"pipeline.github.runner_name\": \"Hosted Agent\",\n",
    "    \"pipeline.github.run_id\": \"2684555341\",\n",
    "    \"pipeline.github.actor\": \"matiasdahl\",\n",
    "    \"pipeline.github.job\": \"run-tests-pipeline-and-persist-pipeline-outputs\",\n",
    "    \"pipeline.github.base_ref\": \"\",\n",
    "    \"pipeline.github.head_ref\": \"\",\n",
    "    \"pipeline.github.sha\": \"147a1be9916173fd4d2cd011d8d51e3411215850\",\n",
    "    \"pipeline.github.ref\": \"refs/heads/development\",\n",
    "    \"pipeline.github.ref_type\": \"branch\",\n",
    "    \"pipeline.github.ref_name\": \"development\",\n",
    "    \"pipeline.github.event_name\": \"schedule\",\n",
    "    \"task.notebook\": \"notebooks/summary.py\",\n",
    "    \"task.max_nr_retries\": \"1\",\n",
    "    \"run.retry_nr\": \"0\",\n",
    "    \"task.timeout_s\": \"None\",\n",
    "    \"task.num_cpus\": 1,\n",
    "    \"_opentelemetry_traceparent\": \"00-48e81b648307f6a2016578770d185db5-776c8e9c3fade252-01\",\n",
    "}\n"
   ]
  },
  {
   "cell_type": "code",
   "execution_count": 4,
   "id": "9c7696ad",
   "metadata": {
    "execution": {
     "iopub.execute_input": "2022-07-17T06:46:45.748623Z",
     "iopub.status.busy": "2022-07-17T06:46:45.748398Z",
     "iopub.status.idle": "2022-07-17T06:46:45.750939Z",
     "shell.execute_reply": "2022-07-17T06:46:45.750413Z"
    },
    "lines_to_next_cell": 0,
    "papermill": {
     "duration": 0.007026,
     "end_time": "2022-07-17T06:46:45.752197",
     "exception": false,
     "start_time": "2022-07-17T06:46:45.745171",
     "status": "completed"
    },
    "tags": []
   },
   "outputs": [],
   "source": [
    "# -----------------------------------------------------------------------"
   ]
  },
  {
   "cell_type": "markdown",
   "id": "6868c11a",
   "metadata": {
    "papermill": {
     "duration": 0.00242,
     "end_time": "2022-07-17T06:46:45.757368",
     "exception": false,
     "start_time": "2022-07-17T06:46:45.754948",
     "status": "completed"
    },
    "tags": []
   },
   "source": [
    "---"
   ]
  },
  {
   "cell_type": "markdown",
   "id": "e517a796",
   "metadata": {
    "lines_to_next_cell": 2,
    "papermill": {
     "duration": 0.002462,
     "end_time": "2022-07-17T06:46:45.762351",
     "exception": false,
     "start_time": "2022-07-17T06:46:45.759889",
     "status": "completed"
    },
    "tags": []
   },
   "source": [
    "### Notebook code"
   ]
  },
  {
   "cell_type": "code",
   "execution_count": 5,
   "id": "e54f0bd5",
   "metadata": {
    "execution": {
     "iopub.execute_input": "2022-07-17T06:46:45.768341Z",
     "iopub.status.busy": "2022-07-17T06:46:45.768141Z",
     "iopub.status.idle": "2022-07-17T06:46:46.816574Z",
     "shell.execute_reply": "2022-07-17T06:46:46.815868Z"
    },
    "papermill": {
     "duration": 1.053339,
     "end_time": "2022-07-17T06:46:46.818262",
     "exception": false,
     "start_time": "2022-07-17T06:46:45.764923",
     "status": "completed"
    },
    "tags": []
   },
   "outputs": [],
   "source": [
    "#\n",
    "import pandas as pd\n",
    "import matplotlib.pyplot as plt\n",
    "\n",
    "#\n",
    "from pynb_dag_runner.tasks.task_opentelemetry_logging import PydarLogger"
   ]
  },
  {
   "cell_type": "code",
   "execution_count": 6,
   "id": "7caba757",
   "metadata": {
    "execution": {
     "iopub.execute_input": "2022-07-17T06:46:46.827221Z",
     "iopub.status.busy": "2022-07-17T06:46:46.826629Z",
     "iopub.status.idle": "2022-07-17T06:46:46.980026Z",
     "shell.execute_reply": "2022-07-17T06:46:46.978600Z"
    },
    "papermill": {
     "duration": 0.160165,
     "end_time": "2022-07-17T06:46:46.981867",
     "exception": false,
     "start_time": "2022-07-17T06:46:46.821702",
     "status": "completed"
    },
    "tags": []
   },
   "outputs": [
    {
     "name": "stderr",
     "output_type": "stream",
     "text": [
      "2022-07-17 06:46:46,831\tINFO worker.py:842 -- Connecting to existing Ray cluster at address: 172.17.0.2:6379\n"
     ]
    }
   ],
   "source": [
    "logger = PydarLogger(P=P)"
   ]
  },
  {
   "cell_type": "code",
   "execution_count": 7,
   "id": "b582ed1a",
   "metadata": {
    "execution": {
     "iopub.execute_input": "2022-07-17T06:46:46.988589Z",
     "iopub.status.busy": "2022-07-17T06:46:46.988353Z",
     "iopub.status.idle": "2022-07-17T06:46:46.993529Z",
     "shell.execute_reply": "2022-07-17T06:46:46.992175Z"
    },
    "papermill": {
     "duration": 0.010057,
     "end_time": "2022-07-17T06:46:46.994985",
     "exception": false,
     "start_time": "2022-07-17T06:46:46.984928",
     "status": "completed"
    },
    "tags": []
   },
   "outputs": [],
   "source": [
    "from pynb_dag_runner.tasks.task_opentelemetry_logging import (\n",
    "    PydarLogger,\n",
    "    get_logged_values,\n",
    ")\n",
    "from pynb_dag_runner.opentelemetry_helpers import _get_all_spans, Spans"
   ]
  },
  {
   "cell_type": "code",
   "execution_count": 8,
   "id": "3cbf3ca1",
   "metadata": {
    "execution": {
     "iopub.execute_input": "2022-07-17T06:46:47.002816Z",
     "iopub.status.busy": "2022-07-17T06:46:47.002493Z",
     "iopub.status.idle": "2022-07-17T06:46:47.008894Z",
     "shell.execute_reply": "2022-07-17T06:46:47.008249Z"
    },
    "papermill": {
     "duration": 0.011479,
     "end_time": "2022-07-17T06:46:47.010451",
     "exception": false,
     "start_time": "2022-07-17T06:46:46.998972",
     "status": "completed"
    },
    "tags": []
   },
   "outputs": [],
   "source": [
    "def get_model_benchmarks():\n",
    "    \"\"\"\n",
    "    Query the OpenTelemetry logs for *this pipeline run* and return\n",
    "    all key-values logged from all runs of the benchmark-model.py task\n",
    "\n",
    "    For testing a json file with OpenTelemetry spans (as an array)\n",
    "    can be used as follows:\n",
    "\n",
    "    - Create output directory `mkdir /tmp/spans`\n",
    "    - Run unit tests. This will create pipeline-outputs/opentelemetry-spans.json\n",
    "    - Convert this json-array into jsonl format as follows\n",
    "\n",
    "    jq -c '.[]' /pipeline-outputs/opentelemetry-spans.json > /tmp/spans/data.txt\n",
    "\n",
    "    \"\"\"\n",
    "    spans: Spans = Spans(_get_all_spans())\n",
    "    print(f\"Found {len(spans)} spans\")\n",
    "\n",
    "    benchmark_spans = (\n",
    "        spans\n",
    "        # -\n",
    "        .filter([\"name\"], \"execute-task\")\n",
    "        # -\n",
    "        .filter([\"attributes\", \"task.notebook\"], \"notebooks/benchmark-model.py\")\n",
    "    )\n",
    "\n",
    "    result = []\n",
    "    for s in benchmark_spans:\n",
    "        result.append(\n",
    "            {\n",
    "                \"span_id\": s[\"context\"][\"span_id\"],\n",
    "                \"nr_train_images\": s[\"attributes\"][\"task.nr_train_images\"],\n",
    "                \"data\": get_logged_values(spans.bound_under(s)),\n",
    "            }\n",
    "        )\n",
    "\n",
    "    return result\n",
    "\n",
    "\n",
    "def adjust_pandas(df):\n",
    "    def column_renamer(col_name: str) -> str:\n",
    "        return (\n",
    "            col_name\n",
    "            # -- 'data.roc_auc_per_digit.4' -> 'roc_auc.4'\n",
    "            .replace(\"data.roc_auc_per_digit\", \"roc_auc\")\n",
    "            # -- 'data.roc_auc_class_mean' -> 'roc_auc_mean'\n",
    "            .replace(\"data.roc_auc_class_mean\", \"roc_auc_mean\")\n",
    "        )\n",
    "\n",
    "    return df.rename(column_renamer, axis=\"columns\").sort_values(by=\"nr_train_images\")"
   ]
  },
  {
   "cell_type": "code",
   "execution_count": 9,
   "id": "f969f40d",
   "metadata": {
    "execution": {
     "iopub.execute_input": "2022-07-17T06:46:47.018684Z",
     "iopub.status.busy": "2022-07-17T06:46:47.017242Z",
     "iopub.status.idle": "2022-07-17T06:47:07.510288Z",
     "shell.execute_reply": "2022-07-17T06:47:07.509637Z"
    },
    "papermill": {
     "duration": 20.498465,
     "end_time": "2022-07-17T06:47:07.512012",
     "exception": false,
     "start_time": "2022-07-17T06:46:47.013547",
     "status": "completed"
    },
    "tags": []
   },
   "outputs": [
    {
     "name": "stdout",
     "output_type": "stream",
     "text": [
      "Found 420 spans\n"
     ]
    }
   ],
   "source": [
    "df_data = adjust_pandas(pd.json_normalize(get_model_benchmarks()))"
   ]
  },
  {
   "cell_type": "code",
   "execution_count": 10,
   "id": "612ac44b",
   "metadata": {
    "execution": {
     "iopub.execute_input": "2022-07-17T06:47:07.519455Z",
     "iopub.status.busy": "2022-07-17T06:47:07.519069Z",
     "iopub.status.idle": "2022-07-17T06:47:07.542730Z",
     "shell.execute_reply": "2022-07-17T06:47:07.542030Z"
    },
    "papermill": {
     "duration": 0.029139,
     "end_time": "2022-07-17T06:47:07.544494",
     "exception": false,
     "start_time": "2022-07-17T06:47:07.515355",
     "status": "completed"
    },
    "tags": []
   },
   "outputs": [
    {
     "data": {
      "text/html": [
       "<div>\n",
       "<style scoped>\n",
       "    .dataframe tbody tr th:only-of-type {\n",
       "        vertical-align: middle;\n",
       "    }\n",
       "\n",
       "    .dataframe tbody tr th {\n",
       "        vertical-align: top;\n",
       "    }\n",
       "\n",
       "    .dataframe thead th {\n",
       "        text-align: right;\n",
       "    }\n",
       "</style>\n",
       "<table border=\"1\" class=\"dataframe\">\n",
       "  <thead>\n",
       "    <tr style=\"text-align: right;\">\n",
       "      <th></th>\n",
       "      <th>span_id</th>\n",
       "      <th>nr_train_images</th>\n",
       "      <th>roc_auc_mean</th>\n",
       "      <th>roc_auc.0</th>\n",
       "      <th>roc_auc.1</th>\n",
       "      <th>roc_auc.2</th>\n",
       "      <th>roc_auc.3</th>\n",
       "      <th>roc_auc.4</th>\n",
       "      <th>roc_auc.5</th>\n",
       "      <th>roc_auc.6</th>\n",
       "      <th>roc_auc.7</th>\n",
       "      <th>roc_auc.8</th>\n",
       "      <th>roc_auc.9</th>\n",
       "    </tr>\n",
       "  </thead>\n",
       "  <tbody>\n",
       "    <tr>\n",
       "      <th>2</th>\n",
       "      <td>0x26e3da6853f10df5</td>\n",
       "      <td>600</td>\n",
       "      <td>0.9990</td>\n",
       "      <td>1.0</td>\n",
       "      <td>0.9993</td>\n",
       "      <td>1.0</td>\n",
       "      <td>0.9999</td>\n",
       "      <td>0.9992</td>\n",
       "      <td>0.9990</td>\n",
       "      <td>1.0000</td>\n",
       "      <td>0.9998</td>\n",
       "      <td>0.9945</td>\n",
       "      <td>0.9989</td>\n",
       "    </tr>\n",
       "    <tr>\n",
       "      <th>3</th>\n",
       "      <td>0xb6b7490b5c4373d5</td>\n",
       "      <td>800</td>\n",
       "      <td>0.9989</td>\n",
       "      <td>1.0</td>\n",
       "      <td>0.9988</td>\n",
       "      <td>1.0</td>\n",
       "      <td>0.9998</td>\n",
       "      <td>0.9995</td>\n",
       "      <td>0.9991</td>\n",
       "      <td>0.9999</td>\n",
       "      <td>0.9999</td>\n",
       "      <td>0.9930</td>\n",
       "      <td>0.9994</td>\n",
       "    </tr>\n",
       "    <tr>\n",
       "      <th>0</th>\n",
       "      <td>0xa4ef1097141b1990</td>\n",
       "      <td>1000</td>\n",
       "      <td>0.9993</td>\n",
       "      <td>1.0</td>\n",
       "      <td>0.9990</td>\n",
       "      <td>1.0</td>\n",
       "      <td>0.9999</td>\n",
       "      <td>0.9996</td>\n",
       "      <td>0.9994</td>\n",
       "      <td>0.9999</td>\n",
       "      <td>0.9998</td>\n",
       "      <td>0.9955</td>\n",
       "      <td>0.9996</td>\n",
       "    </tr>\n",
       "    <tr>\n",
       "      <th>1</th>\n",
       "      <td>0xf01dbee86aad066c</td>\n",
       "      <td>1200</td>\n",
       "      <td>0.9993</td>\n",
       "      <td>1.0</td>\n",
       "      <td>0.9990</td>\n",
       "      <td>1.0</td>\n",
       "      <td>0.9999</td>\n",
       "      <td>0.9997</td>\n",
       "      <td>0.9997</td>\n",
       "      <td>0.9999</td>\n",
       "      <td>0.9998</td>\n",
       "      <td>0.9957</td>\n",
       "      <td>0.9997</td>\n",
       "    </tr>\n",
       "  </tbody>\n",
       "</table>\n",
       "</div>"
      ],
      "text/plain": [
       "              span_id  nr_train_images  roc_auc_mean  roc_auc.0  roc_auc.1  \\\n",
       "2  0x26e3da6853f10df5              600        0.9990        1.0     0.9993   \n",
       "3  0xb6b7490b5c4373d5              800        0.9989        1.0     0.9988   \n",
       "0  0xa4ef1097141b1990             1000        0.9993        1.0     0.9990   \n",
       "1  0xf01dbee86aad066c             1200        0.9993        1.0     0.9990   \n",
       "\n",
       "   roc_auc.2  roc_auc.3  roc_auc.4  roc_auc.5  roc_auc.6  roc_auc.7  \\\n",
       "2        1.0     0.9999     0.9992     0.9990     1.0000     0.9998   \n",
       "3        1.0     0.9998     0.9995     0.9991     0.9999     0.9999   \n",
       "0        1.0     0.9999     0.9996     0.9994     0.9999     0.9998   \n",
       "1        1.0     0.9999     0.9997     0.9997     0.9999     0.9998   \n",
       "\n",
       "   roc_auc.8  roc_auc.9  \n",
       "2     0.9945     0.9989  \n",
       "3     0.9930     0.9994  \n",
       "0     0.9955     0.9996  \n",
       "1     0.9957     0.9997  "
      ]
     },
     "execution_count": 10,
     "metadata": {},
     "output_type": "execute_result"
    }
   ],
   "source": [
    "df_data.round(4)"
   ]
  },
  {
   "cell_type": "code",
   "execution_count": 11,
   "id": "a1538004",
   "metadata": {
    "execution": {
     "iopub.execute_input": "2022-07-17T06:47:07.551883Z",
     "iopub.status.busy": "2022-07-17T06:47:07.551340Z",
     "iopub.status.idle": "2022-07-17T06:47:07.699687Z",
     "shell.execute_reply": "2022-07-17T06:47:07.699075Z"
    },
    "papermill": {
     "duration": 0.15358,
     "end_time": "2022-07-17T06:47:07.701159",
     "exception": false,
     "start_time": "2022-07-17T06:47:07.547579",
     "status": "completed"
    },
    "tags": []
   },
   "outputs": [
    {
     "data": {
      "image/png": "[encoded data removed]",
      "text/plain": [
       "<Figure size 1152x288 with 1 Axes>"
      ]
     },
     "metadata": {
      "needs_background": "light"
     },
     "output_type": "display_data"
    }
   ],
   "source": [
    "def plot_classifier_performance_summary(df_data):\n",
    "    fig, ax = plt.subplots(nrows=1, ncols=1, figsize=(16, 4), sharex=True)\n",
    "\n",
    "    #\n",
    "    ax.plot(\n",
    "        df_data[\"nr_train_images\"], df_data[\"roc_auc_mean\"], marker=\"o\", linestyle=\"--\"\n",
    "    )\n",
    "    ax.set_title(\n",
    "        f\"ROC AUC digit classifier performance on evaluation digits\", fontsize=17\n",
    "    )\n",
    "    ax.set_xlabel(\"Total number of digits in training set\", fontsize=14)\n",
    "    ax.set_ylabel(\"Mean ROC AUC\", fontsize=14)\n",
    "\n",
    "    fig.tight_layout()\n",
    "    fig.show()\n",
    "\n",
    "    return fig\n",
    "\n",
    "\n",
    "fig = plot_classifier_performance_summary(df_data)"
   ]
  },
  {
   "cell_type": "code",
   "execution_count": 12,
   "id": "93d70595",
   "metadata": {
    "execution": {
     "iopub.execute_input": "2022-07-17T06:47:07.710577Z",
     "iopub.status.busy": "2022-07-17T06:47:07.710360Z",
     "iopub.status.idle": "2022-07-17T06:47:07.765369Z",
     "shell.execute_reply": "2022-07-17T06:47:07.764680Z"
    },
    "papermill": {
     "duration": 0.061924,
     "end_time": "2022-07-17T06:47:07.766941",
     "exception": false,
     "start_time": "2022-07-17T06:47:07.705017",
     "status": "completed"
    },
    "tags": []
   },
   "outputs": [],
   "source": [
    "logger.log_figure(\"auc-roc-model-performances.png\", fig)"
   ]
  },
  {
   "cell_type": "code",
   "execution_count": 13,
   "id": "a1fc894b",
   "metadata": {
    "execution": {
     "iopub.execute_input": "2022-07-17T06:47:07.775765Z",
     "iopub.status.busy": "2022-07-17T06:47:07.775337Z",
     "iopub.status.idle": "2022-07-17T06:47:07.778305Z",
     "shell.execute_reply": "2022-07-17T06:47:07.777723Z"
    },
    "papermill": {
     "duration": 0.009121,
     "end_time": "2022-07-17T06:47:07.779741",
     "exception": false,
     "start_time": "2022-07-17T06:47:07.770620",
     "status": "completed"
    },
    "tags": []
   },
   "outputs": [],
   "source": [
    "###"
   ]
  },
  {
   "cell_type": "code",
   "execution_count": null,
   "id": "17ce8be4",
   "metadata": {
    "papermill": {
     "duration": 0.003728,
     "end_time": "2022-07-17T06:47:07.787001",
     "exception": false,
     "start_time": "2022-07-17T06:47:07.783273",
     "status": "completed"
    },
    "tags": []
   },
   "outputs": [],
   "source": []
  }
 ],
 "metadata": {
  "jupytext": {
   "cell_metadata_filter": "tags,-all",
   "main_language": "python",
   "notebook_metadata_filter": "-all"
  },
  "language_info": {
   "codemirror_mode": {
    "name": "ipython",
    "version": 3
   },
   "file_extension": ".py",
   "mimetype": "text/x-python",
   "name": "python",
   "nbconvert_exporter": "python",
   "pygments_lexer": "ipython3",
   "version": "3.8.10"
  },
  "papermill": {
   "default_parameters": {},
   "duration": 24.040146,
   "end_time": "2022-07-17T06:47:08.609184",
   "environment_variables": {},
   "exception": null,
   "input_path": "/home/host_user/workspace/mnist-demo-pipeline/mnist-demo-pipeline/notebooks/temp-notebook-w16mp2i6.ipynb",
   "output_path": "notebooks/summary.ipynb",
   "parameters": {
    "P": {
     "_opentelemetry_traceparent": "00-48e81b648307f6a2016578770d185db5-776c8e9c3fade252-01",
     "pipeline.data_lake_root": "/pipeline-outputs/data-lake",
     "pipeline.github.actor": "matiasdahl",
     "pipeline.github.base_ref": "",
     "pipeline.github.event_name": "schedule",
     "pipeline.github.head_ref": "",
     "pipeline.github.job": "run-tests-pipeline-and-persist-pipeline-outputs",
     "pipeline.github.ref": "refs/heads/development",
     "pipeline.github.ref_name": "development",
     "pipeline.github.ref_type": "branch",
     "pipeline.github.repository": "pynb-dag-runner/mnist-digits-demo-pipeline",
     "pipeline.github.run_id": "2684555341",
     "pipeline.github.runner_name": "Hosted Agent",
     "pipeline.github.sha": "147a1be9916173fd4d2cd011d8d51e3411215850",
     "pipeline.github.workflow": "Run automated tests, pipeline and deploy results to static reporting site",
     "pipeline.pipeline_run_id": "a19f8802-c54d-483a-8499-7b6b7a5c98be",
     "pipeline.run_environment": "ci",
     "run.retry_nr": "0",
     "task.max_nr_retries": "1",
     "task.notebook": "notebooks/summary.py",
     "task.num_cpus": 1,
     "task.timeout_s": "None"
    }
   },
   "start_time": "2022-07-17T06:46:44.569038",
   "version": "2.3.3"
  }
 },
 "nbformat": 4,
 "nbformat_minor": 5
}