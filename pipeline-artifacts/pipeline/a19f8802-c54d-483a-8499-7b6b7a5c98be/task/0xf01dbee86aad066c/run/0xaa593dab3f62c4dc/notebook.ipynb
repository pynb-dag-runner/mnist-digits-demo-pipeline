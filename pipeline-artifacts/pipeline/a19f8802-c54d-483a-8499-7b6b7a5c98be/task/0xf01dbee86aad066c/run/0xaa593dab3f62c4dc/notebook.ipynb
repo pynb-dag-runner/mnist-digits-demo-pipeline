{
 "cells": [
  {
   "cell_type": "markdown",
   "id": "0fb4e1ee",
   "metadata": {
    "papermill": {
     "duration": 0.008044,
     "end_time": "2022-07-17T06:46:36.276034",
     "exception": false,
     "start_time": "2022-07-17T06:46:36.267990",
     "status": "completed"
    },
    "tags": []
   },
   "source": [
    "# Benchmark model\n",
    "\n",
    "The purpose of this notebook is to benchmark persisted onnx-model (trained in the\n",
    "previous step) against evaluation set."
   ]
  },
  {
   "cell_type": "markdown",
   "id": "3a66d776",
   "metadata": {
    "papermill": {
     "duration": 0.004659,
     "end_time": "2022-07-17T06:46:36.285757",
     "exception": false,
     "start_time": "2022-07-17T06:46:36.281098",
     "status": "completed"
    },
    "tags": []
   },
   "source": [
    "### Determine run parameters"
   ]
  },
  {
   "cell_type": "code",
   "execution_count": 1,
   "id": "0f9fb6b3",
   "metadata": {
    "execution": {
     "iopub.execute_input": "2022-07-17T06:46:36.295267Z",
     "iopub.status.busy": "2022-07-17T06:46:36.294962Z",
     "iopub.status.idle": "2022-07-17T06:46:36.302413Z",
     "shell.execute_reply": "2022-07-17T06:46:36.301867Z"
    },
    "lines_to_next_cell": 0,
    "papermill": {
     "duration": 0.015984,
     "end_time": "2022-07-17T06:46:36.305529",
     "exception": false,
     "start_time": "2022-07-17T06:46:36.289545",
     "status": "completed"
    },
    "tags": []
   },
   "outputs": [],
   "source": [
    "# ----------------- Parameters for interactive development --------------\n",
    "P = {\n",
    "    \"pipeline.data_lake_root\": \"/pipeline-outputs/data-lake\",\n",
    "    \"task.nr_train_images\": 600,\n",
    "}"
   ]
  },
  {
   "cell_type": "code",
   "execution_count": 2,
   "id": "aae06eba",
   "metadata": {
    "execution": {
     "iopub.execute_input": "2022-07-17T06:46:36.314881Z",
     "iopub.status.busy": "2022-07-17T06:46:36.314674Z",
     "iopub.status.idle": "2022-07-17T06:46:36.317768Z",
     "shell.execute_reply": "2022-07-17T06:46:36.317167Z"
    },
    "lines_to_next_cell": 0,
    "papermill": {
     "duration": 0.01033,
     "end_time": "2022-07-17T06:46:36.320012",
     "exception": false,
     "start_time": "2022-07-17T06:46:36.309682",
     "status": "completed"
    },
    "tags": [
     "parameters"
    ]
   },
   "outputs": [],
   "source": [
    "# - During automated runs parameters will be injected in the below cell -"
   ]
  },
  {
   "cell_type": "code",
   "execution_count": 3,
   "id": "ed36c171",
   "metadata": {
    "execution": {
     "iopub.execute_input": "2022-07-17T06:46:36.329183Z",
     "iopub.status.busy": "2022-07-17T06:46:36.328985Z",
     "iopub.status.idle": "2022-07-17T06:46:36.333600Z",
     "shell.execute_reply": "2022-07-17T06:46:36.333086Z"
    },
    "papermill": {
     "duration": 0.012125,
     "end_time": "2022-07-17T06:46:36.336388",
     "exception": false,
     "start_time": "2022-07-17T06:46:36.324263",
     "status": "completed"
    },
    "tags": [
     "injected-parameters"
    ]
   },
   "outputs": [],
   "source": [
    "# Parameters\n",
    "P = {\n",
    "    \"pipeline.data_lake_root\": \"/pipeline-outputs/data-lake\",\n",
    "    \"pipeline.run_environment\": \"ci\",\n",
    "    \"pipeline.pipeline_run_id\": \"a19f8802-c54d-483a-8499-7b6b7a5c98be\",\n",
    "    \"pipeline.github.repository\": \"pynb-dag-runner/mnist-digits-demo-pipeline\",\n",
    "    \"pipeline.github.workflow\": \"Run automated tests, pipeline and deploy results to static reporting site\",\n",
    "    \"pipeline.github.runner_name\": \"Hosted Agent\",\n",
    "    \"pipeline.github.run_id\": \"2684555341\",\n",
    "    \"pipeline.github.actor\": \"matiasdahl\",\n",
    "    \"pipeline.github.job\": \"run-tests-pipeline-and-persist-pipeline-outputs\",\n",
    "    \"pipeline.github.base_ref\": \"\",\n",
    "    \"pipeline.github.head_ref\": \"\",\n",
    "    \"pipeline.github.sha\": \"147a1be9916173fd4d2cd011d8d51e3411215850\",\n",
    "    \"pipeline.github.ref\": \"refs/heads/development\",\n",
    "    \"pipeline.github.ref_type\": \"branch\",\n",
    "    \"pipeline.github.ref_name\": \"development\",\n",
    "    \"pipeline.github.event_name\": \"schedule\",\n",
    "    \"task.nr_train_images\": 1200,\n",
    "    \"task.notebook\": \"notebooks/benchmark-model.py\",\n",
    "    \"task.max_nr_retries\": \"1\",\n",
    "    \"run.retry_nr\": \"0\",\n",
    "    \"task.timeout_s\": \"None\",\n",
    "    \"task.num_cpus\": 1,\n",
    "    \"_opentelemetry_traceparent\": \"00-48e81b648307f6a2016578770d185db5-2fdb7ae8d778b8cd-01\",\n",
    "}\n"
   ]
  },
  {
   "cell_type": "code",
   "execution_count": 4,
   "id": "e2a50d85",
   "metadata": {
    "execution": {
     "iopub.execute_input": "2022-07-17T06:46:36.347921Z",
     "iopub.status.busy": "2022-07-17T06:46:36.347718Z",
     "iopub.status.idle": "2022-07-17T06:46:36.350230Z",
     "shell.execute_reply": "2022-07-17T06:46:36.349752Z"
    },
    "lines_to_next_cell": 0,
    "papermill": {
     "duration": 0.012299,
     "end_time": "2022-07-17T06:46:36.352607",
     "exception": false,
     "start_time": "2022-07-17T06:46:36.340308",
     "status": "completed"
    },
    "tags": []
   },
   "outputs": [],
   "source": [
    "# -----------------------------------------------------------------------"
   ]
  },
  {
   "cell_type": "markdown",
   "id": "4d57228b",
   "metadata": {
    "papermill": {
     "duration": 0.003828,
     "end_time": "2022-07-17T06:46:36.361061",
     "exception": false,
     "start_time": "2022-07-17T06:46:36.357233",
     "status": "completed"
    },
    "tags": []
   },
   "source": [
    "---"
   ]
  },
  {
   "cell_type": "markdown",
   "id": "9dc879de",
   "metadata": {
    "lines_to_next_cell": 2,
    "papermill": {
     "duration": 0.003988,
     "end_time": "2022-07-17T06:46:36.369380",
     "exception": false,
     "start_time": "2022-07-17T06:46:36.365392",
     "status": "completed"
    },
    "tags": []
   },
   "source": [
    "### Notebook code"
   ]
  },
  {
   "cell_type": "code",
   "execution_count": 5,
   "id": "b35b222d",
   "metadata": {
    "execution": {
     "iopub.execute_input": "2022-07-17T06:46:36.383992Z",
     "iopub.status.busy": "2022-07-17T06:46:36.383752Z",
     "iopub.status.idle": "2022-07-17T06:46:37.489620Z",
     "shell.execute_reply": "2022-07-17T06:46:37.488520Z"
    },
    "papermill": {
     "duration": 1.11859,
     "end_time": "2022-07-17T06:46:37.497360",
     "exception": false,
     "start_time": "2022-07-17T06:46:36.378770",
     "status": "completed"
    },
    "tags": []
   },
   "outputs": [
    {
     "name": "stderr",
     "output_type": "stream",
     "text": [
      "2022-07-17 06:46:37,312\tINFO worker.py:842 -- Connecting to existing Ray cluster at address: 172.17.0.2:6379\n"
     ]
    }
   ],
   "source": [
    "import itertools as it\n",
    "\n",
    "#\n",
    "import numpy as np\n",
    "import matplotlib.pyplot as plt\n",
    "\n",
    "#\n",
    "from pynb_dag_runner.tasks.task_opentelemetry_logging import PydarLogger\n",
    "\n",
    "#\n",
    "from common.io import datalake_root\n",
    "\n",
    "logger = PydarLogger(P)"
   ]
  },
  {
   "cell_type": "markdown",
   "id": "e5dcb40a",
   "metadata": {
    "papermill": {
     "duration": 0.007062,
     "end_time": "2022-07-17T06:46:37.509347",
     "exception": false,
     "start_time": "2022-07-17T06:46:37.502285",
     "status": "completed"
    },
    "tags": []
   },
   "source": [
    "## Load persisted onnx-model and evaluation data"
   ]
  },
  {
   "cell_type": "code",
   "execution_count": 6,
   "id": "3a9011e0",
   "metadata": {
    "execution": {
     "iopub.execute_input": "2022-07-17T06:46:37.520410Z",
     "iopub.status.busy": "2022-07-17T06:46:37.519888Z",
     "iopub.status.idle": "2022-07-17T06:46:37.523313Z",
     "shell.execute_reply": "2022-07-17T06:46:37.522692Z"
    },
    "papermill": {
     "duration": 0.011058,
     "end_time": "2022-07-17T06:46:37.525596",
     "exception": false,
     "start_time": "2022-07-17T06:46:37.514538",
     "status": "completed"
    },
    "tags": []
   },
   "outputs": [],
   "source": [
    "from common.io import read_onnx, get_onnx_inputs, get_onnx_outputs, read_numpy"
   ]
  },
  {
   "cell_type": "code",
   "execution_count": 7,
   "id": "7d611636",
   "metadata": {
    "execution": {
     "iopub.execute_input": "2022-07-17T06:46:37.535847Z",
     "iopub.status.busy": "2022-07-17T06:46:37.535563Z",
     "iopub.status.idle": "2022-07-17T06:46:37.544776Z",
     "shell.execute_reply": "2022-07-17T06:46:37.544196Z"
    },
    "lines_to_next_cell": 0,
    "papermill": {
     "duration": 0.016017,
     "end_time": "2022-07-17T06:46:37.546322",
     "exception": false,
     "start_time": "2022-07-17T06:46:37.530305",
     "status": "completed"
    },
    "tags": []
   },
   "outputs": [],
   "source": [
    "onnx_inference_session = read_onnx(\n",
    "    datalake_root(P)\n",
    "    / \"models\"\n",
    "    / f\"nr_train_images={P['task.nr_train_images']}\"\n",
    "    / \"model.onnx\"\n",
    ")"
   ]
  },
  {
   "cell_type": "markdown",
   "id": "a9ff2061",
   "metadata": {
    "papermill": {
     "duration": 0.004446,
     "end_time": "2022-07-17T06:46:37.555127",
     "exception": false,
     "start_time": "2022-07-17T06:46:37.550681",
     "status": "completed"
    },
    "tags": []
   },
   "source": [
    "### Record structure of inputs and outputs for ONNX model\n",
    "\n",
    "(this should likely be done in training notebook)"
   ]
  },
  {
   "cell_type": "code",
   "execution_count": 8,
   "id": "a974551a",
   "metadata": {
    "execution": {
     "iopub.execute_input": "2022-07-17T06:46:37.565285Z",
     "iopub.status.busy": "2022-07-17T06:46:37.565071Z",
     "iopub.status.idle": "2022-07-17T06:46:37.570532Z",
     "shell.execute_reply": "2022-07-17T06:46:37.569886Z"
    },
    "papermill": {
     "duration": 0.014105,
     "end_time": "2022-07-17T06:46:37.574026",
     "exception": false,
     "start_time": "2022-07-17T06:46:37.559921",
     "status": "completed"
    },
    "tags": []
   },
   "outputs": [
    {
     "name": "stdout",
     "output_type": "stream",
     "text": [
      "{\n",
      "  \"inputs\": [\n",
      "    {\n",
      "      \"name\": \"float_input_8x8_image\",\n",
      "      \"shape\": [\n",
      "        null,\n",
      "        64\n",
      "      ],\n",
      "      \"type\": \"tensor(float)\"\n",
      "    }\n",
      "  ],\n",
      "  \"outputs\": [\n",
      "    {\n",
      "      \"name\": \"output_label\",\n",
      "      \"shape\": [\n",
      "        null\n",
      "      ],\n",
      "      \"type\": \"tensor(int64)\"\n",
      "    },\n",
      "    {\n",
      "      \"name\": \"output_probability\",\n",
      "      \"shape\": [],\n",
      "      \"type\": \"seq(map(int64,tensor(float)))\"\n",
      "    }\n",
      "  ]\n",
      "}\n"
     ]
    }
   ],
   "source": [
    "import json\n",
    "\n",
    "onnx_io = json.dumps(\n",
    "    {\n",
    "        \"inputs\": get_onnx_inputs(onnx_inference_session),\n",
    "        \"outputs\": get_onnx_outputs(onnx_inference_session),\n",
    "    },\n",
    "    indent=2,\n",
    ")\n",
    "\n",
    "\n",
    "logger.log_artefact(\"onnx_io_structure.json\", onnx_io)\n",
    "print(onnx_io)"
   ]
  },
  {
   "cell_type": "markdown",
   "id": "2784088d",
   "metadata": {
    "papermill": {
     "duration": 0.004516,
     "end_time": "2022-07-17T06:46:37.582642",
     "exception": false,
     "start_time": "2022-07-17T06:46:37.578126",
     "status": "completed"
    },
    "tags": []
   },
   "source": [
    "### Evaluate model performance on evaluation data set"
   ]
  },
  {
   "cell_type": "code",
   "execution_count": 9,
   "id": "9205d901",
   "metadata": {
    "execution": {
     "iopub.execute_input": "2022-07-17T06:46:37.591930Z",
     "iopub.status.busy": "2022-07-17T06:46:37.591722Z",
     "iopub.status.idle": "2022-07-17T06:46:37.595992Z",
     "shell.execute_reply": "2022-07-17T06:46:37.595494Z"
    },
    "papermill": {
     "duration": 0.011421,
     "end_time": "2022-07-17T06:46:37.598169",
     "exception": false,
     "start_time": "2022-07-17T06:46:37.586748",
     "status": "completed"
    },
    "tags": []
   },
   "outputs": [],
   "source": [
    "# load evaluation data\n",
    "X_test = read_numpy(datalake_root(P) / \"test-data\" / \"digits.numpy\")\n",
    "y_test = read_numpy(datalake_root(P) / \"test-data\" / \"labels.numpy\")"
   ]
  },
  {
   "cell_type": "code",
   "execution_count": 10,
   "id": "9a29de8e",
   "metadata": {
    "execution": {
     "iopub.execute_input": "2022-07-17T06:46:37.608022Z",
     "iopub.status.busy": "2022-07-17T06:46:37.607786Z",
     "iopub.status.idle": "2022-07-17T06:46:37.626800Z",
     "shell.execute_reply": "2022-07-17T06:46:37.626217Z"
    },
    "papermill": {
     "duration": 0.025514,
     "end_time": "2022-07-17T06:46:37.628295",
     "exception": false,
     "start_time": "2022-07-17T06:46:37.602781",
     "status": "completed"
    },
    "tags": []
   },
   "outputs": [],
   "source": [
    "def get_model_outputs(X, onnx_inference_session):\n",
    "    y_pred_labels, y_pred_map = onnx_inference_session.run(\n",
    "        [\"output_label\", \"output_probability\"],\n",
    "        {\"float_input_8x8_image\": X.astype(np.float32)},\n",
    "    )\n",
    "    y_pred_probs = np.array(\n",
    "        [[probabilities[digit] for digit in range(10)] for probabilities in y_pred_map]\n",
    "    )\n",
    "\n",
    "    assert y_pred_labels.shape == (X.shape[0],)\n",
    "    assert y_pred_probs.shape == (X.shape[0], 10)\n",
    "\n",
    "    return y_pred_labels, y_pred_probs\n",
    "\n",
    "\n",
    "# Note: as shown in the training notebook, the predicted labels and probabilities\n",
    "# computed below need not be compatible.\n",
    "y_pred_labels_test, y_pred_probs_test = get_model_outputs(\n",
    "    X_test, onnx_inference_session\n",
    ")"
   ]
  },
  {
   "cell_type": "markdown",
   "id": "b3181a9f",
   "metadata": {
    "papermill": {
     "duration": 0.004351,
     "end_time": "2022-07-17T06:46:37.637086",
     "exception": false,
     "start_time": "2022-07-17T06:46:37.632735",
     "status": "completed"
    },
    "tags": []
   },
   "source": [
    "### Confusion matrix"
   ]
  },
  {
   "cell_type": "code",
   "execution_count": 11,
   "id": "6e094b3a",
   "metadata": {
    "execution": {
     "iopub.execute_input": "2022-07-17T06:46:37.646790Z",
     "iopub.status.busy": "2022-07-17T06:46:37.646265Z",
     "iopub.status.idle": "2022-07-17T06:46:37.649500Z",
     "shell.execute_reply": "2022-07-17T06:46:37.648834Z"
    },
    "papermill": {
     "duration": 0.010277,
     "end_time": "2022-07-17T06:46:37.651364",
     "exception": false,
     "start_time": "2022-07-17T06:46:37.641087",
     "status": "completed"
    },
    "tags": []
   },
   "outputs": [],
   "source": [
    "# TODO"
   ]
  },
  {
   "cell_type": "markdown",
   "id": "f25f4a0a",
   "metadata": {
    "papermill": {
     "duration": 0.004192,
     "end_time": "2022-07-17T06:46:37.660091",
     "exception": false,
     "start_time": "2022-07-17T06:46:37.655899",
     "status": "completed"
    },
    "tags": []
   },
   "source": [
    "### Plot predicted probabilities for each classifier over all evaluation digit images"
   ]
  },
  {
   "cell_type": "code",
   "execution_count": 12,
   "id": "78697a57",
   "metadata": {
    "execution": {
     "iopub.execute_input": "2022-07-17T06:46:37.669417Z",
     "iopub.status.busy": "2022-07-17T06:46:37.669200Z",
     "iopub.status.idle": "2022-07-17T06:46:40.528638Z",
     "shell.execute_reply": "2022-07-17T06:46:40.527693Z"
    },
    "papermill": {
     "duration": 2.866248,
     "end_time": "2022-07-17T06:46:40.530481",
     "exception": false,
     "start_time": "2022-07-17T06:46:37.664233",
     "status": "completed"
    },
    "tags": []
   },
   "outputs": [
    {
     "data": {
      "image/png": "[encoded data removed]",
      "text/plain": [
       "<Figure size 1152x432 with 10 Axes>"
      ]
     },
     "metadata": {
      "needs_background": "light"
     },
     "output_type": "display_data"
    }
   ],
   "source": [
    "def plot_per_digit_probabilities(y_pred_probs):\n",
    "    fig, axs = plt.subplots(nrows=2, ncols=5, figsize=(16, 6))\n",
    "\n",
    "    for (r, c), digit, ax in zip(\n",
    "        it.product(range(2), range(5)), range(10), axs.reshape(-1)\n",
    "    ):\n",
    "        ax.hist(y_pred_probs_test[:, digit], bins=20)\n",
    "\n",
    "        ax.set_title(f\"Digit {digit}\")\n",
    "        if r == 1 and c == 2:\n",
    "            ax.set_xlabel(\"probability\", fontsize=16)\n",
    "\n",
    "        if c == 0:\n",
    "            ax.set_ylabel(\"counts\", fontsize=16)\n",
    "        ax.set_yscale(\"log\")\n",
    "\n",
    "    fig.tight_layout()\n",
    "    fig.suptitle(\n",
    "        f\"Distributions of prediction probabilities for each digit \"\n",
    "        f\"(on evaluation data, n={y_pred_probs.shape[0]})\",\n",
    "        fontsize=20,\n",
    "    )\n",
    "    fig.tight_layout()\n",
    "    fig.show()\n",
    "\n",
    "    return fig\n",
    "\n",
    "\n",
    "fig = plot_per_digit_probabilities(y_pred_probs_test)"
   ]
  },
  {
   "cell_type": "markdown",
   "id": "c2ed4922",
   "metadata": {
    "papermill": {
     "duration": 0.004573,
     "end_time": "2022-07-17T06:46:40.540311",
     "exception": false,
     "start_time": "2022-07-17T06:46:40.535738",
     "status": "completed"
    },
    "tags": []
   },
   "source": [
    "From the above distributions we see that most digits have clear separation between\n",
    "high and lower probabilities. Morover, in each case there is roughly an order of\n",
    "magnitude more of digits with low probabilities. This is compatible with digits\n",
    "being roughly evenly distributed in the data."
   ]
  },
  {
   "cell_type": "code",
   "execution_count": 13,
   "id": "78910afc",
   "metadata": {
    "execution": {
     "iopub.execute_input": "2022-07-17T06:46:40.550772Z",
     "iopub.status.busy": "2022-07-17T06:46:40.550480Z",
     "iopub.status.idle": "2022-07-17T06:46:40.934175Z",
     "shell.execute_reply": "2022-07-17T06:46:40.932608Z"
    },
    "papermill": {
     "duration": 0.391059,
     "end_time": "2022-07-17T06:46:40.935871",
     "exception": false,
     "start_time": "2022-07-17T06:46:40.544812",
     "status": "completed"
    },
    "tags": []
   },
   "outputs": [],
   "source": [
    "logger.log_figure(\"per-digit-probabilities.png\", fig)"
   ]
  },
  {
   "cell_type": "markdown",
   "id": "7a9c5c34",
   "metadata": {
    "papermill": {
     "duration": 0.004914,
     "end_time": "2022-07-17T06:46:40.945509",
     "exception": false,
     "start_time": "2022-07-17T06:46:40.940595",
     "status": "completed"
    },
    "tags": []
   },
   "source": [
    "### Plot ROC curves for individual one-vs-rest classifiers"
   ]
  },
  {
   "cell_type": "code",
   "execution_count": 14,
   "id": "3ee33f08",
   "metadata": {
    "execution": {
     "iopub.execute_input": "2022-07-17T06:46:40.957188Z",
     "iopub.status.busy": "2022-07-17T06:46:40.956695Z",
     "iopub.status.idle": "2022-07-17T06:46:41.284919Z",
     "shell.execute_reply": "2022-07-17T06:46:41.284162Z"
    },
    "papermill": {
     "duration": 0.335678,
     "end_time": "2022-07-17T06:46:41.286593",
     "exception": false,
     "start_time": "2022-07-17T06:46:40.950915",
     "status": "completed"
    },
    "tags": []
   },
   "outputs": [],
   "source": [
    "from sklearn import metrics"
   ]
  },
  {
   "cell_type": "code",
   "execution_count": 15,
   "id": "e6dd07db",
   "metadata": {
    "execution": {
     "iopub.execute_input": "2022-07-17T06:46:41.298122Z",
     "iopub.status.busy": "2022-07-17T06:46:41.297361Z",
     "iopub.status.idle": "2022-07-17T06:46:42.227955Z",
     "shell.execute_reply": "2022-07-17T06:46:42.227275Z"
    },
    "papermill": {
     "duration": 0.938362,
     "end_time": "2022-07-17T06:46:42.229979",
     "exception": false,
     "start_time": "2022-07-17T06:46:41.291617",
     "status": "completed"
    },
    "tags": []
   },
   "outputs": [
    {
     "data": {
      "image/png": "[encoded data removed]",
      "text/plain": [
       "<Figure size 1152x576 with 10 Axes>"
      ]
     },
     "metadata": {
      "needs_background": "light"
     },
     "output_type": "display_data"
    }
   ],
   "source": [
    "def plot_roc_curves(y, y_pred_probs):\n",
    "    # based on example code\n",
    "    # https://scikit-learn.org/stable/auto_examples/model_selection/plot_roc.html\n",
    "\n",
    "    fig, axs = plt.subplots(nrows=2, ncols=5, figsize=(16, 8))\n",
    "\n",
    "    roc_auc_dict = {}\n",
    "\n",
    "    for (r, c), digit, ax in zip(\n",
    "        it.product(range(2), range(5)), range(10), axs.reshape(-1)\n",
    "    ):\n",
    "        fpr, tpr, _ = metrics.roc_curve(y == digit, y_pred_probs[:, digit])\n",
    "        auc = metrics.auc(fpr, tpr)\n",
    "        roc_auc_dict[str(digit)] = auc\n",
    "\n",
    "        ax.plot(fpr, tpr, label=f\"ROC AUC={round(auc, 3)}\")\n",
    "\n",
    "        ax.set_title(f\"\\nDigit {digit}\", fontsize=16)\n",
    "        if r == 1:\n",
    "            ax.set_xlabel(\"FPR\", fontsize=18)\n",
    "\n",
    "        if c == 0:\n",
    "            ax.set_ylabel(\"TPR\", fontsize=18)\n",
    "\n",
    "        ax.set_xlim([-0.05, 1.05])\n",
    "        ax.set_ylim([-0.05, 1.05])\n",
    "        ax.legend(loc=\"lower right\", frameon=False, fontsize=14)\n",
    "\n",
    "    fig.tight_layout()\n",
    "    fig.suptitle(\n",
    "        f\"ROC plots for one-vs-rest performances \"\n",
    "        f\"(on evaluation data, n={y_pred_probs_test.shape[1]}\",\n",
    "        fontsize=22,\n",
    "    )\n",
    "    fig.tight_layout()\n",
    "    fig.show()\n",
    "\n",
    "    return roc_auc_dict, fig\n",
    "\n",
    "\n",
    "roc_auc_dict, fig = plot_roc_curves(y_test, y_pred_probs_test)"
   ]
  },
  {
   "cell_type": "code",
   "execution_count": 16,
   "id": "3368c98f",
   "metadata": {
    "execution": {
     "iopub.execute_input": "2022-07-17T06:46:42.242521Z",
     "iopub.status.busy": "2022-07-17T06:46:42.242099Z",
     "iopub.status.idle": "2022-07-17T06:46:42.441145Z",
     "shell.execute_reply": "2022-07-17T06:46:42.440536Z"
    },
    "papermill": {
     "duration": 0.207091,
     "end_time": "2022-07-17T06:46:42.442996",
     "exception": false,
     "start_time": "2022-07-17T06:46:42.235905",
     "status": "completed"
    },
    "tags": []
   },
   "outputs": [],
   "source": [
    "logger.log_figure(\"per-digit-roc-curves.png\", fig)"
   ]
  },
  {
   "cell_type": "code",
   "execution_count": 17,
   "id": "a7c2bc2f",
   "metadata": {
    "execution": {
     "iopub.execute_input": "2022-07-17T06:46:42.455212Z",
     "iopub.status.busy": "2022-07-17T06:46:42.454653Z",
     "iopub.status.idle": "2022-07-17T06:46:42.459598Z",
     "shell.execute_reply": "2022-07-17T06:46:42.458887Z"
    },
    "papermill": {
     "duration": 0.012958,
     "end_time": "2022-07-17T06:46:42.461565",
     "exception": false,
     "start_time": "2022-07-17T06:46:42.448607",
     "status": "completed"
    },
    "tags": []
   },
   "outputs": [
    {
     "data": {
      "text/plain": [
       "{'0': 1.0,\n",
       " '1': 0.998987816307404,\n",
       " '2': 1.0,\n",
       " '3': 0.9998500468603562,\n",
       " '4': 0.9997332723670173,\n",
       " '5': 0.9996626054358013,\n",
       " '6': 0.999923792104862,\n",
       " '7': 0.9998475842097242,\n",
       " '8': 0.9956651954602774,\n",
       " '9': 0.9996570644718793}"
      ]
     },
     "execution_count": 17,
     "metadata": {},
     "output_type": "execute_result"
    }
   ],
   "source": [
    "roc_auc_dict"
   ]
  },
  {
   "cell_type": "code",
   "execution_count": 18,
   "id": "11547aa7",
   "metadata": {
    "execution": {
     "iopub.execute_input": "2022-07-17T06:46:42.473676Z",
     "iopub.status.busy": "2022-07-17T06:46:42.473293Z",
     "iopub.status.idle": "2022-07-17T06:46:42.477755Z",
     "shell.execute_reply": "2022-07-17T06:46:42.476804Z"
    },
    "papermill": {
     "duration": 0.012121,
     "end_time": "2022-07-17T06:46:42.479252",
     "exception": false,
     "start_time": "2022-07-17T06:46:42.467131",
     "status": "completed"
    },
    "tags": []
   },
   "outputs": [
    {
     "name": "stdout",
     "output_type": "stream",
     "text": [
      " - Logging roc_auc_per_digit (json) : {'0': 1.0, '1': 0.998987816307404, '2': 1.0, '3': 0.9998500468603562, '4': 0.9997332723670173, '5': 0.9996626054358013, '6': 0.999923792104862, '7': 0.9998475842097242, '8': 0.9956651954602774, '9': 0.9996570644718793}\n"
     ]
    }
   ],
   "source": [
    "logger.log_value(\"roc_auc_per_digit\", roc_auc_dict)"
   ]
  },
  {
   "cell_type": "markdown",
   "id": "aa2ed4a0",
   "metadata": {
    "papermill": {
     "duration": 0.005379,
     "end_time": "2022-07-17T06:46:42.489845",
     "exception": false,
     "start_time": "2022-07-17T06:46:42.484466",
     "status": "completed"
    },
    "tags": []
   },
   "source": [
    "### Compute and log mean ROC AUC score averaged over all digits"
   ]
  },
  {
   "cell_type": "code",
   "execution_count": 19,
   "id": "03f39661",
   "metadata": {
    "execution": {
     "iopub.execute_input": "2022-07-17T06:46:42.501655Z",
     "iopub.status.busy": "2022-07-17T06:46:42.501315Z",
     "iopub.status.idle": "2022-07-17T06:46:42.513650Z",
     "shell.execute_reply": "2022-07-17T06:46:42.512713Z"
    },
    "papermill": {
     "duration": 0.019872,
     "end_time": "2022-07-17T06:46:42.515055",
     "exception": false,
     "start_time": "2022-07-17T06:46:42.495183",
     "status": "completed"
    },
    "tags": []
   },
   "outputs": [
    {
     "name": "stdout",
     "output_type": "stream",
     "text": [
      " - Logging roc_auc_class_mean (float) : 0.9993327377217323\n"
     ]
    }
   ],
   "source": [
    "roc_auc_macro = np.mean(list(roc_auc_dict.values()))\n",
    "\n",
    "logger.log_float(\"roc_auc_class_mean\", roc_auc_macro)\n",
    "\n",
    "# assert that the same value can be computed directly using sklearn\n",
    "assert roc_auc_macro == metrics.roc_auc_score(\n",
    "    y_test, y_pred_probs_test, average=\"macro\", multi_class=\"ovr\"\n",
    ")"
   ]
  },
  {
   "cell_type": "code",
   "execution_count": 20,
   "id": "ec548461",
   "metadata": {
    "execution": {
     "iopub.execute_input": "2022-07-17T06:46:42.527197Z",
     "iopub.status.busy": "2022-07-17T06:46:42.526682Z",
     "iopub.status.idle": "2022-07-17T06:46:42.533459Z",
     "shell.execute_reply": "2022-07-17T06:46:42.532804Z"
    },
    "lines_to_next_cell": 0,
    "papermill": {
     "duration": 0.014618,
     "end_time": "2022-07-17T06:46:42.534946",
     "exception": false,
     "start_time": "2022-07-17T06:46:42.520328",
     "status": "completed"
    },
    "tags": []
   },
   "outputs": [],
   "source": [
    "# ---"
   ]
  },
  {
   "cell_type": "code",
   "execution_count": null,
   "id": "62bb30b4",
   "metadata": {
    "papermill": {
     "duration": 0.005361,
     "end_time": "2022-07-17T06:46:42.545672",
     "exception": false,
     "start_time": "2022-07-17T06:46:42.540311",
     "status": "completed"
    },
    "tags": []
   },
   "outputs": [],
   "source": []
  }
 ],
 "metadata": {
  "jupytext": {
   "cell_metadata_filter": "tags,-all",
   "main_language": "python",
   "notebook_metadata_filter": "-all"
  },
  "language_info": {
   "codemirror_mode": {
    "name": "ipython",
    "version": 3
   },
   "file_extension": ".py",
   "mimetype": "text/x-python",
   "name": "python",
   "nbconvert_exporter": "python",
   "pygments_lexer": "ipython3",
   "version": "3.8.10"
  },
  "papermill": {
   "default_parameters": {},
   "duration": 8.364471,
   "end_time": "2022-07-17T06:46:43.469260",
   "environment_variables": {},
   "exception": null,
   "input_path": "/home/host_user/workspace/mnist-demo-pipeline/mnist-demo-pipeline/notebooks/temp-notebook-jt9q2k3e.ipynb",
   "output_path": "notebooks/benchmark-model.ipynb",
   "parameters": {
    "P": {
     "_opentelemetry_traceparent": "00-48e81b648307f6a2016578770d185db5-2fdb7ae8d778b8cd-01",
     "pipeline.data_lake_root": "/pipeline-outputs/data-lake",
     "pipeline.github.actor": "matiasdahl",
     "pipeline.github.base_ref": "",
     "pipeline.github.event_name": "schedule",
     "pipeline.github.head_ref": "",
     "pipeline.github.job": "run-tests-pipeline-and-persist-pipeline-outputs",
     "pipeline.github.ref": "refs/heads/development",
     "pipeline.github.ref_name": "development",
     "pipeline.github.ref_type": "branch",
     "pipeline.github.repository": "pynb-dag-runner/mnist-digits-demo-pipeline",
     "pipeline.github.run_id": "2684555341",
     "pipeline.github.runner_name": "Hosted Agent",
     "pipeline.github.sha": "147a1be9916173fd4d2cd011d8d51e3411215850",
     "pipeline.github.workflow": "Run automated tests, pipeline and deploy results to static reporting site",
     "pipeline.pipeline_run_id": "a19f8802-c54d-483a-8499-7b6b7a5c98be",
     "pipeline.run_environment": "ci",
     "run.retry_nr": "0",
     "task.max_nr_retries": "1",
     "task.notebook": "notebooks/benchmark-model.py",
     "task.nr_train_images": 1200,
     "task.num_cpus": 1,
     "task.timeout_s": "None"
    }
   },
   "start_time": "2022-07-17T06:46:35.104789",
   "version": "2.3.3"
  }
 },
 "nbformat": 4,
 "nbformat_minor": 5
}