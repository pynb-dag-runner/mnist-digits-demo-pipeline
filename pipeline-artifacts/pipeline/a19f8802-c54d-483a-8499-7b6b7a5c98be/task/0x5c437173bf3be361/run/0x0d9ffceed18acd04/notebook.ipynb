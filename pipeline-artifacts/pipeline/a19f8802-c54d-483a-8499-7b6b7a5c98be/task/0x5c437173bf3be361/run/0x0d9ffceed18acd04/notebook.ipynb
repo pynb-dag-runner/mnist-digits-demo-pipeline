{
 "cells": [
  {
   "cell_type": "markdown",
   "id": "1da886a1",
   "metadata": {
    "papermill": {
     "duration": 0.003325,
     "end_time": "2022-07-17T06:46:05.438954",
     "exception": false,
     "start_time": "2022-07-17T06:46:05.435629",
     "status": "completed"
    },
    "tags": []
   },
   "source": [
    "# Split digits and labels into separate training and testing data sets"
   ]
  },
  {
   "cell_type": "markdown",
   "id": "324c201a",
   "metadata": {
    "papermill": {
     "duration": 0.002422,
     "end_time": "2022-07-17T06:46:05.443863",
     "exception": false,
     "start_time": "2022-07-17T06:46:05.441441",
     "status": "completed"
    },
    "tags": []
   },
   "source": [
    "### Determine run parameters"
   ]
  },
  {
   "cell_type": "code",
   "execution_count": 1,
   "id": "d831d62e",
   "metadata": {
    "execution": {
     "iopub.execute_input": "2022-07-17T06:46:05.449792Z",
     "iopub.status.busy": "2022-07-17T06:46:05.449403Z",
     "iopub.status.idle": "2022-07-17T06:46:05.456781Z",
     "shell.execute_reply": "2022-07-17T06:46:05.456138Z"
    },
    "lines_to_next_cell": 0,
    "papermill": {
     "duration": 0.01221,
     "end_time": "2022-07-17T06:46:05.458283",
     "exception": false,
     "start_time": "2022-07-17T06:46:05.446073",
     "status": "completed"
    },
    "tags": []
   },
   "outputs": [],
   "source": [
    "# ----------------- Parameters for interactive development --------------\n",
    "P = {\n",
    "    \"pipeline.data_lake_root\": \"/pipeline-outputs/data-lake\",\n",
    "    \"task.train_test_ratio\": 0.7,\n",
    "}"
   ]
  },
  {
   "cell_type": "code",
   "execution_count": 2,
   "id": "68b233e3",
   "metadata": {
    "execution": {
     "iopub.execute_input": "2022-07-17T06:46:05.464257Z",
     "iopub.status.busy": "2022-07-17T06:46:05.464057Z",
     "iopub.status.idle": "2022-07-17T06:46:05.466836Z",
     "shell.execute_reply": "2022-07-17T06:46:05.466254Z"
    },
    "lines_to_next_cell": 0,
    "papermill": {
     "duration": 0.007418,
     "end_time": "2022-07-17T06:46:05.468078",
     "exception": false,
     "start_time": "2022-07-17T06:46:05.460660",
     "status": "completed"
    },
    "tags": [
     "parameters"
    ]
   },
   "outputs": [],
   "source": [
    "# - During automated runs parameters will be injected in the below cell -"
   ]
  },
  {
   "cell_type": "code",
   "execution_count": 3,
   "id": "745d046a",
   "metadata": {
    "execution": {
     "iopub.execute_input": "2022-07-17T06:46:05.473886Z",
     "iopub.status.busy": "2022-07-17T06:46:05.473524Z",
     "iopub.status.idle": "2022-07-17T06:46:05.483578Z",
     "shell.execute_reply": "2022-07-17T06:46:05.482876Z"
    },
    "papermill": {
     "duration": 0.014751,
     "end_time": "2022-07-17T06:46:05.485059",
     "exception": false,
     "start_time": "2022-07-17T06:46:05.470308",
     "status": "completed"
    },
    "tags": [
     "injected-parameters"
    ]
   },
   "outputs": [],
   "source": [
    "# Parameters\n",
    "P = {\n",
    "    \"pipeline.data_lake_root\": \"/pipeline-outputs/data-lake\",\n",
    "    \"pipeline.run_environment\": \"ci\",\n",
    "    \"pipeline.pipeline_run_id\": \"a19f8802-c54d-483a-8499-7b6b7a5c98be\",\n",
    "    \"pipeline.github.repository\": \"pynb-dag-runner/mnist-digits-demo-pipeline\",\n",
    "    \"pipeline.github.workflow\": \"Run automated tests, pipeline and deploy results to static reporting site\",\n",
    "    \"pipeline.github.runner_name\": \"Hosted Agent\",\n",
    "    \"pipeline.github.run_id\": \"2684555341\",\n",
    "    \"pipeline.github.actor\": \"matiasdahl\",\n",
    "    \"pipeline.github.job\": \"run-tests-pipeline-and-persist-pipeline-outputs\",\n",
    "    \"pipeline.github.base_ref\": \"\",\n",
    "    \"pipeline.github.head_ref\": \"\",\n",
    "    \"pipeline.github.sha\": \"147a1be9916173fd4d2cd011d8d51e3411215850\",\n",
    "    \"pipeline.github.ref\": \"refs/heads/development\",\n",
    "    \"pipeline.github.ref_type\": \"branch\",\n",
    "    \"pipeline.github.ref_name\": \"development\",\n",
    "    \"pipeline.github.event_name\": \"schedule\",\n",
    "    \"task.train_test_ratio\": 0.7,\n",
    "    \"task.notebook\": \"notebooks/split-train-test.py\",\n",
    "    \"task.max_nr_retries\": \"1\",\n",
    "    \"run.retry_nr\": \"0\",\n",
    "    \"task.timeout_s\": \"None\",\n",
    "    \"task.num_cpus\": 1,\n",
    "    \"_opentelemetry_traceparent\": \"00-48e81b648307f6a2016578770d185db5-4dc07213436bb15e-01\",\n",
    "}\n"
   ]
  },
  {
   "cell_type": "code",
   "execution_count": 4,
   "id": "7cdf82e6",
   "metadata": {
    "execution": {
     "iopub.execute_input": "2022-07-17T06:46:05.493486Z",
     "iopub.status.busy": "2022-07-17T06:46:05.493182Z",
     "iopub.status.idle": "2022-07-17T06:46:05.497077Z",
     "shell.execute_reply": "2022-07-17T06:46:05.496488Z"
    },
    "lines_to_next_cell": 0,
    "papermill": {
     "duration": 0.011439,
     "end_time": "2022-07-17T06:46:05.498699",
     "exception": false,
     "start_time": "2022-07-17T06:46:05.487260",
     "status": "completed"
    },
    "tags": []
   },
   "outputs": [],
   "source": [
    "# -----------------------------------------------------------------------"
   ]
  },
  {
   "cell_type": "markdown",
   "id": "9137d1ec",
   "metadata": {
    "papermill": {
     "duration": 0.002601,
     "end_time": "2022-07-17T06:46:05.503713",
     "exception": false,
     "start_time": "2022-07-17T06:46:05.501112",
     "status": "completed"
    },
    "tags": []
   },
   "source": [
    "---"
   ]
  },
  {
   "cell_type": "markdown",
   "id": "f8e941fb",
   "metadata": {
    "lines_to_next_cell": 2,
    "papermill": {
     "duration": 0.002284,
     "end_time": "2022-07-17T06:46:05.512781",
     "exception": false,
     "start_time": "2022-07-17T06:46:05.510497",
     "status": "completed"
    },
    "tags": []
   },
   "source": [
    "### Notebook code"
   ]
  },
  {
   "cell_type": "code",
   "execution_count": 5,
   "id": "7e4d2660",
   "metadata": {
    "execution": {
     "iopub.execute_input": "2022-07-17T06:46:05.522840Z",
     "iopub.status.busy": "2022-07-17T06:46:05.522631Z",
     "iopub.status.idle": "2022-07-17T06:46:06.007890Z",
     "shell.execute_reply": "2022-07-17T06:46:06.007289Z"
    },
    "papermill": {
     "duration": 0.494065,
     "end_time": "2022-07-17T06:46:06.009853",
     "exception": false,
     "start_time": "2022-07-17T06:46:05.515788",
     "status": "completed"
    },
    "tags": []
   },
   "outputs": [
    {
     "name": "stderr",
     "output_type": "stream",
     "text": [
      "2022-07-17 06:46:05,852\tINFO worker.py:842 -- Connecting to existing Ray cluster at address: 172.17.0.2:6379\n"
     ]
    }
   ],
   "source": [
    "from common.io import datalake_root, read_numpy, write_numpy\n",
    "from pynb_dag_runner.tasks.task_opentelemetry_logging import PydarLogger\n",
    "\n",
    "logger = PydarLogger(P)"
   ]
  },
  {
   "cell_type": "markdown",
   "id": "f670c953",
   "metadata": {
    "papermill": {
     "duration": 0.002995,
     "end_time": "2022-07-17T06:46:06.016219",
     "exception": false,
     "start_time": "2022-07-17T06:46:06.013224",
     "status": "completed"
    },
    "tags": []
   },
   "source": [
    "## Load and split digits data"
   ]
  },
  {
   "cell_type": "code",
   "execution_count": 6,
   "id": "bde1c9a1",
   "metadata": {
    "execution": {
     "iopub.execute_input": "2022-07-17T06:46:06.023032Z",
     "iopub.status.busy": "2022-07-17T06:46:06.022737Z",
     "iopub.status.idle": "2022-07-17T06:46:06.027480Z",
     "shell.execute_reply": "2022-07-17T06:46:06.026958Z"
    },
    "papermill": {
     "duration": 0.011302,
     "end_time": "2022-07-17T06:46:06.029918",
     "exception": false,
     "start_time": "2022-07-17T06:46:06.018616",
     "status": "completed"
    },
    "tags": []
   },
   "outputs": [],
   "source": [
    "X = read_numpy(datalake_root(P) / \"raw\" / \"digits.numpy\")\n",
    "y = read_numpy(datalake_root(P) / \"raw\" / \"labels.numpy\")"
   ]
  },
  {
   "cell_type": "code",
   "execution_count": 7,
   "id": "bffadfad",
   "metadata": {
    "execution": {
     "iopub.execute_input": "2022-07-17T06:46:06.041577Z",
     "iopub.status.busy": "2022-07-17T06:46:06.041372Z",
     "iopub.status.idle": "2022-07-17T06:46:06.432778Z",
     "shell.execute_reply": "2022-07-17T06:46:06.432210Z"
    },
    "papermill": {
     "duration": 0.397115,
     "end_time": "2022-07-17T06:46:06.434986",
     "exception": false,
     "start_time": "2022-07-17T06:46:06.037871",
     "status": "completed"
    },
    "tags": []
   },
   "outputs": [],
   "source": [
    "from sklearn.model_selection import train_test_split\n",
    "\n",
    "X_train, X_test, y_train, y_test = train_test_split(\n",
    "    X,\n",
    "    y,\n",
    "    train_size=P[\"task.train_test_ratio\"],\n",
    "    test_size=None,\n",
    "    stratify=y,\n",
    "    shuffle=True,\n",
    "    random_state=1,\n",
    ")\n",
    "\n",
    "# assert nr of pixels per image is the same for all image vectors\n",
    "assert X.shape[1] == X_train.shape[1] == X_test.shape[1]\n",
    "\n",
    "# assert that the (X, y)-pairs have compatible sizes (for both train and test)\n",
    "assert X_train.shape[0] == len(y_train)\n",
    "assert X_test.shape[0] == len(y_test)\n",
    "\n",
    "# assert that all data is used\n",
    "assert len(y) == len(y_train) + len(y_test)"
   ]
  },
  {
   "cell_type": "code",
   "execution_count": 8,
   "id": "f61ce720",
   "metadata": {
    "execution": {
     "iopub.execute_input": "2022-07-17T06:46:06.444619Z",
     "iopub.status.busy": "2022-07-17T06:46:06.443182Z",
     "iopub.status.idle": "2022-07-17T06:46:06.449983Z",
     "shell.execute_reply": "2022-07-17T06:46:06.449472Z"
    },
    "papermill": {
     "duration": 0.014133,
     "end_time": "2022-07-17T06:46:06.451786",
     "exception": false,
     "start_time": "2022-07-17T06:46:06.437653",
     "status": "completed"
    },
    "tags": []
   },
   "outputs": [
    {
     "name": "stdout",
     "output_type": "stream",
     "text": [
      " - Logging nr_digits_train (int) : 1257\n",
      " - Logging nr_digits_test (int) : 540\n"
     ]
    }
   ],
   "source": [
    "logger.log_int(\"nr_digits_train\", len(y_train))\n",
    "logger.log_int(\"nr_digits_test\", len(y_test))"
   ]
  },
  {
   "cell_type": "markdown",
   "id": "2a5f3589",
   "metadata": {
    "papermill": {
     "duration": 0.002545,
     "end_time": "2022-07-17T06:46:06.456901",
     "exception": false,
     "start_time": "2022-07-17T06:46:06.454356",
     "status": "completed"
    },
    "tags": []
   },
   "source": [
    "### Persist training and test data sets to separate files"
   ]
  },
  {
   "cell_type": "code",
   "execution_count": 9,
   "id": "2a9fb8f1",
   "metadata": {
    "execution": {
     "iopub.execute_input": "2022-07-17T06:46:06.463067Z",
     "iopub.status.busy": "2022-07-17T06:46:06.462861Z",
     "iopub.status.idle": "2022-07-17T06:46:06.467718Z",
     "shell.execute_reply": "2022-07-17T06:46:06.467077Z"
    },
    "papermill": {
     "duration": 0.010325,
     "end_time": "2022-07-17T06:46:06.469747",
     "exception": false,
     "start_time": "2022-07-17T06:46:06.459422",
     "status": "completed"
    },
    "tags": []
   },
   "outputs": [],
   "source": [
    "write_numpy(datalake_root(P) / \"train-data\" / \"digits.numpy\", X_train)\n",
    "write_numpy(datalake_root(P) / \"train-data\" / \"labels.numpy\", y_train)\n",
    "\n",
    "#\n",
    "write_numpy(datalake_root(P) / \"test-data\" / \"digits.numpy\", X_test)\n",
    "write_numpy(datalake_root(P) / \"test-data\" / \"labels.numpy\", y_test)"
   ]
  },
  {
   "cell_type": "code",
   "execution_count": null,
   "id": "4e272722",
   "metadata": {
    "papermill": {
     "duration": 0.002545,
     "end_time": "2022-07-17T06:46:06.475060",
     "exception": false,
     "start_time": "2022-07-17T06:46:06.472515",
     "status": "completed"
    },
    "tags": []
   },
   "outputs": [],
   "source": []
  }
 ],
 "metadata": {
  "jupytext": {
   "cell_metadata_filter": "tags,-all",
   "main_language": "python",
   "notebook_metadata_filter": "-all"
  },
  "language_info": {
   "codemirror_mode": {
    "name": "ipython",
    "version": 3
   },
   "file_extension": ".py",
   "mimetype": "text/x-python",
   "name": "python",
   "nbconvert_exporter": "python",
   "pygments_lexer": "ipython3",
   "version": "3.8.10"
  },
  "papermill": {
   "default_parameters": {},
   "duration": 3.239275,
   "end_time": "2022-07-17T06:46:07.297913",
   "environment_variables": {},
   "exception": null,
   "input_path": "/home/host_user/workspace/mnist-demo-pipeline/mnist-demo-pipeline/notebooks/temp-notebook-qkvsok4t.ipynb",
   "output_path": "notebooks/split-train-test.ipynb",
   "parameters": {
    "P": {
     "_opentelemetry_traceparent": "00-48e81b648307f6a2016578770d185db5-4dc07213436bb15e-01",
     "pipeline.data_lake_root": "/pipeline-outputs/data-lake",
     "pipeline.github.actor": "matiasdahl",
     "pipeline.github.base_ref": "",
     "pipeline.github.event_name": "schedule",
     "pipeline.github.head_ref": "",
     "pipeline.github.job": "run-tests-pipeline-and-persist-pipeline-outputs",
     "pipeline.github.ref": "refs/heads/development",
     "pipeline.github.ref_name": "development",
     "pipeline.github.ref_type": "branch",
     "pipeline.github.repository": "pynb-dag-runner/mnist-digits-demo-pipeline",
     "pipeline.github.run_id": "2684555341",
     "pipeline.github.runner_name": "Hosted Agent",
     "pipeline.github.sha": "147a1be9916173fd4d2cd011d8d51e3411215850",
     "pipeline.github.workflow": "Run automated tests, pipeline and deploy results to static reporting site",
     "pipeline.pipeline_run_id": "a19f8802-c54d-483a-8499-7b6b7a5c98be",
     "pipeline.run_environment": "ci",
     "run.retry_nr": "0",
     "task.max_nr_retries": "1",
     "task.notebook": "notebooks/split-train-test.py",
     "task.num_cpus": 1,
     "task.timeout_s": "None",
     "task.train_test_ratio": 0.7
    }
   },
   "start_time": "2022-07-17T06:46:04.058638",
   "version": "2.3.3"
  }
 },
 "nbformat": 4,
 "nbformat_minor": 5
}