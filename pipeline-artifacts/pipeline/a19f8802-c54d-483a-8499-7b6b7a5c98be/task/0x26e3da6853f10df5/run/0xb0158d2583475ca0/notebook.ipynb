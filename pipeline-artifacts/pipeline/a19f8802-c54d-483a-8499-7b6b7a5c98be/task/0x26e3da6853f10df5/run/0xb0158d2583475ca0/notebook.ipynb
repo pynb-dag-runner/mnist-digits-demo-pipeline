{
 "cells": [
  {
   "cell_type": "markdown",
   "id": "4fe6f1ba",
   "metadata": {
    "papermill": {
     "duration": 0.005518,
     "end_time": "2022-07-17T06:46:21.336705",
     "exception": false,
     "start_time": "2022-07-17T06:46:21.331187",
     "status": "completed"
    },
    "tags": []
   },
   "source": [
    "# Benchmark model\n",
    "\n",
    "The purpose of this notebook is to benchmark persisted onnx-model (trained in the\n",
    "previous step) against evaluation set."
   ]
  },
  {
   "cell_type": "markdown",
   "id": "d050bfc7",
   "metadata": {
    "papermill": {
     "duration": 0.007813,
     "end_time": "2022-07-17T06:46:21.352130",
     "exception": false,
     "start_time": "2022-07-17T06:46:21.344317",
     "status": "completed"
    },
    "tags": []
   },
   "source": [
    "### Determine run parameters"
   ]
  },
  {
   "cell_type": "code",
   "execution_count": 1,
   "id": "a786cbfd",
   "metadata": {
    "execution": {
     "iopub.execute_input": "2022-07-17T06:46:21.361390Z",
     "iopub.status.busy": "2022-07-17T06:46:21.361088Z",
     "iopub.status.idle": "2022-07-17T06:46:21.368620Z",
     "shell.execute_reply": "2022-07-17T06:46:21.368036Z"
    },
    "lines_to_next_cell": 0,
    "papermill": {
     "duration": 0.014648,
     "end_time": "2022-07-17T06:46:21.370779",
     "exception": false,
     "start_time": "2022-07-17T06:46:21.356131",
     "status": "completed"
    },
    "tags": []
   },
   "outputs": [],
   "source": [
    "# ----------------- Parameters for interactive development --------------\n",
    "P = {\n",
    "    \"pipeline.data_lake_root\": \"/pipeline-outputs/data-lake\",\n",
    "    \"task.nr_train_images\": 600,\n",
    "}"
   ]
  },
  {
   "cell_type": "code",
   "execution_count": 2,
   "id": "abc35ced",
   "metadata": {
    "execution": {
     "iopub.execute_input": "2022-07-17T06:46:21.380124Z",
     "iopub.status.busy": "2022-07-17T06:46:21.379919Z",
     "iopub.status.idle": "2022-07-17T06:46:21.382670Z",
     "shell.execute_reply": "2022-07-17T06:46:21.382168Z"
    },
    "lines_to_next_cell": 0,
    "papermill": {
     "duration": 0.009803,
     "end_time": "2022-07-17T06:46:21.384771",
     "exception": false,
     "start_time": "2022-07-17T06:46:21.374968",
     "status": "completed"
    },
    "tags": [
     "parameters"
    ]
   },
   "outputs": [],
   "source": [
    "# - During automated runs parameters will be injected in the below cell -"
   ]
  },
  {
   "cell_type": "code",
   "execution_count": 3,
   "id": "fcad2b3d",
   "metadata": {
    "execution": {
     "iopub.execute_input": "2022-07-17T06:46:21.393771Z",
     "iopub.status.busy": "2022-07-17T06:46:21.393569Z",
     "iopub.status.idle": "2022-07-17T06:46:21.397915Z",
     "shell.execute_reply": "2022-07-17T06:46:21.397427Z"
    },
    "papermill": {
     "duration": 0.0113,
     "end_time": "2022-07-17T06:46:21.400195",
     "exception": false,
     "start_time": "2022-07-17T06:46:21.388895",
     "status": "completed"
    },
    "tags": [
     "injected-parameters"
    ]
   },
   "outputs": [],
   "source": [
    "# Parameters\n",
    "P = {\n",
    "    \"pipeline.data_lake_root\": \"/pipeline-outputs/data-lake\",\n",
    "    \"pipeline.run_environment\": \"ci\",\n",
    "    \"pipeline.pipeline_run_id\": \"a19f8802-c54d-483a-8499-7b6b7a5c98be\",\n",
    "    \"pipeline.github.repository\": \"pynb-dag-runner/mnist-digits-demo-pipeline\",\n",
    "    \"pipeline.github.workflow\": \"Run automated tests, pipeline and deploy results to static reporting site\",\n",
    "    \"pipeline.github.runner_name\": \"Hosted Agent\",\n",
    "    \"pipeline.github.run_id\": \"2684555341\",\n",
    "    \"pipeline.github.actor\": \"matiasdahl\",\n",
    "    \"pipeline.github.job\": \"run-tests-pipeline-and-persist-pipeline-outputs\",\n",
    "    \"pipeline.github.base_ref\": \"\",\n",
    "    \"pipeline.github.head_ref\": \"\",\n",
    "    \"pipeline.github.sha\": \"147a1be9916173fd4d2cd011d8d51e3411215850\",\n",
    "    \"pipeline.github.ref\": \"refs/heads/development\",\n",
    "    \"pipeline.github.ref_type\": \"branch\",\n",
    "    \"pipeline.github.ref_name\": \"development\",\n",
    "    \"pipeline.github.event_name\": \"schedule\",\n",
    "    \"task.nr_train_images\": 600,\n",
    "    \"task.notebook\": \"notebooks/benchmark-model.py\",\n",
    "    \"task.max_nr_retries\": \"1\",\n",
    "    \"run.retry_nr\": \"0\",\n",
    "    \"task.timeout_s\": \"None\",\n",
    "    \"task.num_cpus\": 1,\n",
    "    \"_opentelemetry_traceparent\": \"00-48e81b648307f6a2016578770d185db5-b7380b10fe49e238-01\",\n",
    "}\n"
   ]
  },
  {
   "cell_type": "code",
   "execution_count": 4,
   "id": "e11ea37a",
   "metadata": {
    "execution": {
     "iopub.execute_input": "2022-07-17T06:46:21.410271Z",
     "iopub.status.busy": "2022-07-17T06:46:21.410069Z",
     "iopub.status.idle": "2022-07-17T06:46:21.412617Z",
     "shell.execute_reply": "2022-07-17T06:46:21.412104Z"
    },
    "lines_to_next_cell": 0,
    "papermill": {
     "duration": 0.010778,
     "end_time": "2022-07-17T06:46:21.414795",
     "exception": false,
     "start_time": "2022-07-17T06:46:21.404017",
     "status": "completed"
    },
    "tags": []
   },
   "outputs": [],
   "source": [
    "# -----------------------------------------------------------------------"
   ]
  },
  {
   "cell_type": "markdown",
   "id": "e24fd6ff",
   "metadata": {
    "papermill": {
     "duration": 0.008138,
     "end_time": "2022-07-17T06:46:21.427826",
     "exception": false,
     "start_time": "2022-07-17T06:46:21.419688",
     "status": "completed"
    },
    "tags": []
   },
   "source": [
    "---"
   ]
  },
  {
   "cell_type": "markdown",
   "id": "d00ec8be",
   "metadata": {
    "lines_to_next_cell": 2,
    "papermill": {
     "duration": 0.004529,
     "end_time": "2022-07-17T06:46:21.438091",
     "exception": false,
     "start_time": "2022-07-17T06:46:21.433562",
     "status": "completed"
    },
    "tags": []
   },
   "source": [
    "### Notebook code"
   ]
  },
  {
   "cell_type": "code",
   "execution_count": 5,
   "id": "3ab25e44",
   "metadata": {
    "execution": {
     "iopub.execute_input": "2022-07-17T06:46:21.447177Z",
     "iopub.status.busy": "2022-07-17T06:46:21.446951Z",
     "iopub.status.idle": "2022-07-17T06:46:22.489912Z",
     "shell.execute_reply": "2022-07-17T06:46:22.489294Z"
    },
    "papermill": {
     "duration": 1.04941,
     "end_time": "2022-07-17T06:46:22.491645",
     "exception": false,
     "start_time": "2022-07-17T06:46:21.442235",
     "status": "completed"
    },
    "tags": []
   },
   "outputs": [
    {
     "name": "stderr",
     "output_type": "stream",
     "text": [
      "2022-07-17 06:46:22,342\tINFO worker.py:842 -- Connecting to existing Ray cluster at address: 172.17.0.2:6379\n"
     ]
    }
   ],
   "source": [
    "import itertools as it\n",
    "\n",
    "#\n",
    "import numpy as np\n",
    "import matplotlib.pyplot as plt\n",
    "\n",
    "#\n",
    "from pynb_dag_runner.tasks.task_opentelemetry_logging import PydarLogger\n",
    "\n",
    "#\n",
    "from common.io import datalake_root\n",
    "\n",
    "logger = PydarLogger(P)"
   ]
  },
  {
   "cell_type": "markdown",
   "id": "5795e498",
   "metadata": {
    "papermill": {
     "duration": 0.004124,
     "end_time": "2022-07-17T06:46:22.500112",
     "exception": false,
     "start_time": "2022-07-17T06:46:22.495988",
     "status": "completed"
    },
    "tags": []
   },
   "source": [
    "## Load persisted onnx-model and evaluation data"
   ]
  },
  {
   "cell_type": "code",
   "execution_count": 6,
   "id": "c5e34e7c",
   "metadata": {
    "execution": {
     "iopub.execute_input": "2022-07-17T06:46:22.509560Z",
     "iopub.status.busy": "2022-07-17T06:46:22.509241Z",
     "iopub.status.idle": "2022-07-17T06:46:22.512476Z",
     "shell.execute_reply": "2022-07-17T06:46:22.511820Z"
    },
    "papermill": {
     "duration": 0.009846,
     "end_time": "2022-07-17T06:46:22.513785",
     "exception": false,
     "start_time": "2022-07-17T06:46:22.503939",
     "status": "completed"
    },
    "tags": []
   },
   "outputs": [],
   "source": [
    "from common.io import read_onnx, get_onnx_inputs, get_onnx_outputs, read_numpy"
   ]
  },
  {
   "cell_type": "code",
   "execution_count": 7,
   "id": "ff5fc553",
   "metadata": {
    "execution": {
     "iopub.execute_input": "2022-07-17T06:46:22.523452Z",
     "iopub.status.busy": "2022-07-17T06:46:22.522719Z",
     "iopub.status.idle": "2022-07-17T06:46:22.532259Z",
     "shell.execute_reply": "2022-07-17T06:46:22.531160Z"
    },
    "lines_to_next_cell": 0,
    "papermill": {
     "duration": 0.015649,
     "end_time": "2022-07-17T06:46:22.533652",
     "exception": false,
     "start_time": "2022-07-17T06:46:22.518003",
     "status": "completed"
    },
    "tags": []
   },
   "outputs": [],
   "source": [
    "onnx_inference_session = read_onnx(\n",
    "    datalake_root(P)\n",
    "    / \"models\"\n",
    "    / f\"nr_train_images={P['task.nr_train_images']}\"\n",
    "    / \"model.onnx\"\n",
    ")"
   ]
  },
  {
   "cell_type": "markdown",
   "id": "1efa2ccb",
   "metadata": {
    "papermill": {
     "duration": 0.00417,
     "end_time": "2022-07-17T06:46:22.542017",
     "exception": false,
     "start_time": "2022-07-17T06:46:22.537847",
     "status": "completed"
    },
    "tags": []
   },
   "source": [
    "### Record structure of inputs and outputs for ONNX model\n",
    "\n",
    "(this should likely be done in training notebook)"
   ]
  },
  {
   "cell_type": "code",
   "execution_count": 8,
   "id": "a8c65950",
   "metadata": {
    "execution": {
     "iopub.execute_input": "2022-07-17T06:46:22.551636Z",
     "iopub.status.busy": "2022-07-17T06:46:22.551228Z",
     "iopub.status.idle": "2022-07-17T06:46:22.556882Z",
     "shell.execute_reply": "2022-07-17T06:46:22.556214Z"
    },
    "papermill": {
     "duration": 0.012942,
     "end_time": "2022-07-17T06:46:22.559055",
     "exception": false,
     "start_time": "2022-07-17T06:46:22.546113",
     "status": "completed"
    },
    "tags": []
   },
   "outputs": [
    {
     "name": "stdout",
     "output_type": "stream",
     "text": [
      "{\n",
      "  \"inputs\": [\n",
      "    {\n",
      "      \"name\": \"float_input_8x8_image\",\n",
      "      \"shape\": [\n",
      "        null,\n",
      "        64\n",
      "      ],\n",
      "      \"type\": \"tensor(float)\"\n",
      "    }\n",
      "  ],\n",
      "  \"outputs\": [\n",
      "    {\n",
      "      \"name\": \"output_label\",\n",
      "      \"shape\": [\n",
      "        null\n",
      "      ],\n",
      "      \"type\": \"tensor(int64)\"\n",
      "    },\n",
      "    {\n",
      "      \"name\": \"output_probability\",\n",
      "      \"shape\": [],\n",
      "      \"type\": \"seq(map(int64,tensor(float)))\"\n",
      "    }\n",
      "  ]\n",
      "}\n"
     ]
    }
   ],
   "source": [
    "import json\n",
    "\n",
    "onnx_io = json.dumps(\n",
    "    {\n",
    "        \"inputs\": get_onnx_inputs(onnx_inference_session),\n",
    "        \"outputs\": get_onnx_outputs(onnx_inference_session),\n",
    "    },\n",
    "    indent=2,\n",
    ")\n",
    "\n",
    "\n",
    "logger.log_artefact(\"onnx_io_structure.json\", onnx_io)\n",
    "print(onnx_io)"
   ]
  },
  {
   "cell_type": "markdown",
   "id": "556dff58",
   "metadata": {
    "papermill": {
     "duration": 0.004229,
     "end_time": "2022-07-17T06:46:22.567764",
     "exception": false,
     "start_time": "2022-07-17T06:46:22.563535",
     "status": "completed"
    },
    "tags": []
   },
   "source": [
    "### Evaluate model performance on evaluation data set"
   ]
  },
  {
   "cell_type": "code",
   "execution_count": 9,
   "id": "73b1ab63",
   "metadata": {
    "execution": {
     "iopub.execute_input": "2022-07-17T06:46:22.576964Z",
     "iopub.status.busy": "2022-07-17T06:46:22.576647Z",
     "iopub.status.idle": "2022-07-17T06:46:22.581401Z",
     "shell.execute_reply": "2022-07-17T06:46:22.580854Z"
    },
    "papermill": {
     "duration": 0.011091,
     "end_time": "2022-07-17T06:46:22.582896",
     "exception": false,
     "start_time": "2022-07-17T06:46:22.571805",
     "status": "completed"
    },
    "tags": []
   },
   "outputs": [],
   "source": [
    "# load evaluation data\n",
    "X_test = read_numpy(datalake_root(P) / \"test-data\" / \"digits.numpy\")\n",
    "y_test = read_numpy(datalake_root(P) / \"test-data\" / \"labels.numpy\")"
   ]
  },
  {
   "cell_type": "code",
   "execution_count": 10,
   "id": "e8ecf861",
   "metadata": {
    "execution": {
     "iopub.execute_input": "2022-07-17T06:46:22.592343Z",
     "iopub.status.busy": "2022-07-17T06:46:22.592113Z",
     "iopub.status.idle": "2022-07-17T06:46:22.605690Z",
     "shell.execute_reply": "2022-07-17T06:46:22.605091Z"
    },
    "papermill": {
     "duration": 0.0202,
     "end_time": "2022-07-17T06:46:22.607422",
     "exception": false,
     "start_time": "2022-07-17T06:46:22.587222",
     "status": "completed"
    },
    "tags": []
   },
   "outputs": [],
   "source": [
    "def get_model_outputs(X, onnx_inference_session):\n",
    "    y_pred_labels, y_pred_map = onnx_inference_session.run(\n",
    "        [\"output_label\", \"output_probability\"],\n",
    "        {\"float_input_8x8_image\": X.astype(np.float32)},\n",
    "    )\n",
    "    y_pred_probs = np.array(\n",
    "        [[probabilities[digit] for digit in range(10)] for probabilities in y_pred_map]\n",
    "    )\n",
    "\n",
    "    assert y_pred_labels.shape == (X.shape[0],)\n",
    "    assert y_pred_probs.shape == (X.shape[0], 10)\n",
    "\n",
    "    return y_pred_labels, y_pred_probs\n",
    "\n",
    "\n",
    "# Note: as shown in the training notebook, the predicted labels and probabilities\n",
    "# computed below need not be compatible.\n",
    "y_pred_labels_test, y_pred_probs_test = get_model_outputs(\n",
    "    X_test, onnx_inference_session\n",
    ")"
   ]
  },
  {
   "cell_type": "markdown",
   "id": "47624ef9",
   "metadata": {
    "papermill": {
     "duration": 0.004266,
     "end_time": "2022-07-17T06:46:22.615977",
     "exception": false,
     "start_time": "2022-07-17T06:46:22.611711",
     "status": "completed"
    },
    "tags": []
   },
   "source": [
    "### Confusion matrix"
   ]
  },
  {
   "cell_type": "code",
   "execution_count": 11,
   "id": "7098ab4c",
   "metadata": {
    "execution": {
     "iopub.execute_input": "2022-07-17T06:46:22.625650Z",
     "iopub.status.busy": "2022-07-17T06:46:22.625104Z",
     "iopub.status.idle": "2022-07-17T06:46:22.628342Z",
     "shell.execute_reply": "2022-07-17T06:46:22.627745Z"
    },
    "papermill": {
     "duration": 0.009606,
     "end_time": "2022-07-17T06:46:22.629711",
     "exception": false,
     "start_time": "2022-07-17T06:46:22.620105",
     "status": "completed"
    },
    "tags": []
   },
   "outputs": [],
   "source": [
    "# TODO"
   ]
  },
  {
   "cell_type": "markdown",
   "id": "9c149f12",
   "metadata": {
    "papermill": {
     "duration": 0.004192,
     "end_time": "2022-07-17T06:46:22.638336",
     "exception": false,
     "start_time": "2022-07-17T06:46:22.634144",
     "status": "completed"
    },
    "tags": []
   },
   "source": [
    "### Plot predicted probabilities for each classifier over all evaluation digit images"
   ]
  },
  {
   "cell_type": "code",
   "execution_count": 12,
   "id": "699076b3",
   "metadata": {
    "execution": {
     "iopub.execute_input": "2022-07-17T06:46:22.647761Z",
     "iopub.status.busy": "2022-07-17T06:46:22.647453Z",
     "iopub.status.idle": "2022-07-17T06:46:25.527748Z",
     "shell.execute_reply": "2022-07-17T06:46:25.526149Z"
    },
    "papermill": {
     "duration": 2.886951,
     "end_time": "2022-07-17T06:46:25.529516",
     "exception": false,
     "start_time": "2022-07-17T06:46:22.642565",
     "status": "completed"
    },
    "tags": []
   },
   "outputs": [
    {
     "data": {
      "image/png": "[encoded data removed]",
      "text/plain": [
       "<Figure size 1152x432 with 10 Axes>"
      ]
     },
     "metadata": {
      "needs_background": "light"
     },
     "output_type": "display_data"
    }
   ],
   "source": [
    "def plot_per_digit_probabilities(y_pred_probs):\n",
    "    fig, axs = plt.subplots(nrows=2, ncols=5, figsize=(16, 6))\n",
    "\n",
    "    for (r, c), digit, ax in zip(\n",
    "        it.product(range(2), range(5)), range(10), axs.reshape(-1)\n",
    "    ):\n",
    "        ax.hist(y_pred_probs_test[:, digit], bins=20)\n",
    "\n",
    "        ax.set_title(f\"Digit {digit}\")\n",
    "        if r == 1 and c == 2:\n",
    "            ax.set_xlabel(\"probability\", fontsize=16)\n",
    "\n",
    "        if c == 0:\n",
    "            ax.set_ylabel(\"counts\", fontsize=16)\n",
    "        ax.set_yscale(\"log\")\n",
    "\n",
    "    fig.tight_layout()\n",
    "    fig.suptitle(\n",
    "        f\"Distributions of prediction probabilities for each digit \"\n",
    "        f\"(on evaluation data, n={y_pred_probs.shape[0]})\",\n",
    "        fontsize=20,\n",
    "    )\n",
    "    fig.tight_layout()\n",
    "    fig.show()\n",
    "\n",
    "    return fig\n",
    "\n",
    "\n",
    "fig = plot_per_digit_probabilities(y_pred_probs_test)"
   ]
  },
  {
   "cell_type": "markdown",
   "id": "a79d5b5a",
   "metadata": {
    "papermill": {
     "duration": 0.004669,
     "end_time": "2022-07-17T06:46:25.542573",
     "exception": false,
     "start_time": "2022-07-17T06:46:25.537904",
     "status": "completed"
    },
    "tags": []
   },
   "source": [
    "From the above distributions we see that most digits have clear separation between\n",
    "high and lower probabilities. Morover, in each case there is roughly an order of\n",
    "magnitude more of digits with low probabilities. This is compatible with digits\n",
    "being roughly evenly distributed in the data."
   ]
  },
  {
   "cell_type": "code",
   "execution_count": 13,
   "id": "26f92b26",
   "metadata": {
    "execution": {
     "iopub.execute_input": "2022-07-17T06:46:25.553926Z",
     "iopub.status.busy": "2022-07-17T06:46:25.553190Z",
     "iopub.status.idle": "2022-07-17T06:46:25.944575Z",
     "shell.execute_reply": "2022-07-17T06:46:25.943693Z"
    },
    "papermill": {
     "duration": 0.398816,
     "end_time": "2022-07-17T06:46:25.946447",
     "exception": false,
     "start_time": "2022-07-17T06:46:25.547631",
     "status": "completed"
    },
    "tags": []
   },
   "outputs": [],
   "source": [
    "logger.log_figure(\"per-digit-probabilities.png\", fig)"
   ]
  },
  {
   "cell_type": "markdown",
   "id": "9d80b478",
   "metadata": {
    "papermill": {
     "duration": 0.00497,
     "end_time": "2022-07-17T06:46:25.956432",
     "exception": false,
     "start_time": "2022-07-17T06:46:25.951462",
     "status": "completed"
    },
    "tags": []
   },
   "source": [
    "### Plot ROC curves for individual one-vs-rest classifiers"
   ]
  },
  {
   "cell_type": "code",
   "execution_count": 14,
   "id": "b188b663",
   "metadata": {
    "execution": {
     "iopub.execute_input": "2022-07-17T06:46:25.967931Z",
     "iopub.status.busy": "2022-07-17T06:46:25.967701Z",
     "iopub.status.idle": "2022-07-17T06:46:26.316348Z",
     "shell.execute_reply": "2022-07-17T06:46:26.315777Z"
    },
    "papermill": {
     "duration": 0.356559,
     "end_time": "2022-07-17T06:46:26.318308",
     "exception": false,
     "start_time": "2022-07-17T06:46:25.961749",
     "status": "completed"
    },
    "tags": []
   },
   "outputs": [],
   "source": [
    "from sklearn import metrics"
   ]
  },
  {
   "cell_type": "code",
   "execution_count": 15,
   "id": "ad3fa7c0",
   "metadata": {
    "execution": {
     "iopub.execute_input": "2022-07-17T06:46:26.329679Z",
     "iopub.status.busy": "2022-07-17T06:46:26.329446Z",
     "iopub.status.idle": "2022-07-17T06:46:27.356386Z",
     "shell.execute_reply": "2022-07-17T06:46:27.355817Z"
    },
    "papermill": {
     "duration": 1.03438,
     "end_time": "2022-07-17T06:46:27.357811",
     "exception": false,
     "start_time": "2022-07-17T06:46:26.323431",
     "status": "completed"
    },
    "tags": []
   },
   "outputs": [
    {
     "data": {
      "image/png": "[encoded data removed]",
      "text/plain": [
       "<Figure size 1152x576 with 10 Axes>"
      ]
     },
     "metadata": {
      "needs_background": "light"
     },
     "output_type": "display_data"
    }
   ],
   "source": [
    "def plot_roc_curves(y, y_pred_probs):\n",
    "    # based on example code\n",
    "    # https://scikit-learn.org/stable/auto_examples/model_selection/plot_roc.html\n",
    "\n",
    "    fig, axs = plt.subplots(nrows=2, ncols=5, figsize=(16, 8))\n",
    "\n",
    "    roc_auc_dict = {}\n",
    "\n",
    "    for (r, c), digit, ax in zip(\n",
    "        it.product(range(2), range(5)), range(10), axs.reshape(-1)\n",
    "    ):\n",
    "        fpr, tpr, _ = metrics.roc_curve(y == digit, y_pred_probs[:, digit])\n",
    "        auc = metrics.auc(fpr, tpr)\n",
    "        roc_auc_dict[str(digit)] = auc\n",
    "\n",
    "        ax.plot(fpr, tpr, label=f\"ROC AUC={round(auc, 3)}\")\n",
    "\n",
    "        ax.set_title(f\"\\nDigit {digit}\", fontsize=16)\n",
    "        if r == 1:\n",
    "            ax.set_xlabel(\"FPR\", fontsize=18)\n",
    "\n",
    "        if c == 0:\n",
    "            ax.set_ylabel(\"TPR\", fontsize=18)\n",
    "\n",
    "        ax.set_xlim([-0.05, 1.05])\n",
    "        ax.set_ylim([-0.05, 1.05])\n",
    "        ax.legend(loc=\"lower right\", frameon=False, fontsize=14)\n",
    "\n",
    "    fig.tight_layout()\n",
    "    fig.suptitle(\n",
    "        f\"ROC plots for one-vs-rest performances \"\n",
    "        f\"(on evaluation data, n={y_pred_probs_test.shape[1]}\",\n",
    "        fontsize=22,\n",
    "    )\n",
    "    fig.tight_layout()\n",
    "    fig.show()\n",
    "\n",
    "    return roc_auc_dict, fig\n",
    "\n",
    "\n",
    "roc_auc_dict, fig = plot_roc_curves(y_test, y_pred_probs_test)"
   ]
  },
  {
   "cell_type": "code",
   "execution_count": 16,
   "id": "f0c2fca4",
   "metadata": {
    "execution": {
     "iopub.execute_input": "2022-07-17T06:46:27.372280Z",
     "iopub.status.busy": "2022-07-17T06:46:27.372050Z",
     "iopub.status.idle": "2022-07-17T06:46:27.594990Z",
     "shell.execute_reply": "2022-07-17T06:46:27.594286Z"
    },
    "papermill": {
     "duration": 0.231619,
     "end_time": "2022-07-17T06:46:27.597216",
     "exception": false,
     "start_time": "2022-07-17T06:46:27.365597",
     "status": "completed"
    },
    "tags": []
   },
   "outputs": [],
   "source": [
    "logger.log_figure(\"per-digit-roc-curves.png\", fig)"
   ]
  },
  {
   "cell_type": "code",
   "execution_count": 17,
   "id": "94885234",
   "metadata": {
    "execution": {
     "iopub.execute_input": "2022-07-17T06:46:27.610493Z",
     "iopub.status.busy": "2022-07-17T06:46:27.610256Z",
     "iopub.status.idle": "2022-07-17T06:46:27.614744Z",
     "shell.execute_reply": "2022-07-17T06:46:27.614130Z"
    },
    "papermill": {
     "duration": 0.015068,
     "end_time": "2022-07-17T06:46:27.618340",
     "exception": false,
     "start_time": "2022-07-17T06:46:27.603272",
     "status": "completed"
    },
    "tags": []
   },
   "outputs": [
    {
     "data": {
      "text/plain": [
       "{'0': 1.0,\n",
       " '1': 0.9992502343017807,\n",
       " '2': 1.0,\n",
       " '3': 0.9998500468603562,\n",
       " '4': 0.9991617131534827,\n",
       " '5': 0.998987816307404,\n",
       " '6': 0.999961896052431,\n",
       " '7': 0.9998475842097241,\n",
       " '8': 0.9945223833543506,\n",
       " '9': 0.9988949855204999}"
      ]
     },
     "execution_count": 17,
     "metadata": {},
     "output_type": "execute_result"
    }
   ],
   "source": [
    "roc_auc_dict"
   ]
  },
  {
   "cell_type": "code",
   "execution_count": 18,
   "id": "5ae296e4",
   "metadata": {
    "execution": {
     "iopub.execute_input": "2022-07-17T06:46:27.631567Z",
     "iopub.status.busy": "2022-07-17T06:46:27.631333Z",
     "iopub.status.idle": "2022-07-17T06:46:27.635297Z",
     "shell.execute_reply": "2022-07-17T06:46:27.634704Z"
    },
    "papermill": {
     "duration": 0.017327,
     "end_time": "2022-07-17T06:46:27.641863",
     "exception": false,
     "start_time": "2022-07-17T06:46:27.624536",
     "status": "completed"
    },
    "tags": []
   },
   "outputs": [
    {
     "name": "stdout",
     "output_type": "stream",
     "text": [
      " - Logging roc_auc_per_digit (json) : {'0': 1.0, '1': 0.9992502343017807, '2': 1.0, '3': 0.9998500468603562, '4': 0.9991617131534827, '5': 0.998987816307404, '6': 0.999961896052431, '7': 0.9998475842097241, '8': 0.9945223833543506, '9': 0.9988949855204999}\n"
     ]
    }
   ],
   "source": [
    "logger.log_value(\"roc_auc_per_digit\", roc_auc_dict)"
   ]
  },
  {
   "cell_type": "markdown",
   "id": "afc2a330",
   "metadata": {
    "papermill": {
     "duration": 0.005596,
     "end_time": "2022-07-17T06:46:27.653495",
     "exception": false,
     "start_time": "2022-07-17T06:46:27.647899",
     "status": "completed"
    },
    "tags": []
   },
   "source": [
    "### Compute and log mean ROC AUC score averaged over all digits"
   ]
  },
  {
   "cell_type": "code",
   "execution_count": 19,
   "id": "b1106a06",
   "metadata": {
    "execution": {
     "iopub.execute_input": "2022-07-17T06:46:27.666385Z",
     "iopub.status.busy": "2022-07-17T06:46:27.666174Z",
     "iopub.status.idle": "2022-07-17T06:46:27.680684Z",
     "shell.execute_reply": "2022-07-17T06:46:27.680024Z"
    },
    "papermill": {
     "duration": 0.023015,
     "end_time": "2022-07-17T06:46:27.682791",
     "exception": false,
     "start_time": "2022-07-17T06:46:27.659776",
     "status": "completed"
    },
    "tags": []
   },
   "outputs": [
    {
     "name": "stdout",
     "output_type": "stream",
     "text": [
      " - Logging roc_auc_class_mean (float) : 0.9990476659760029\n"
     ]
    }
   ],
   "source": [
    "roc_auc_macro = np.mean(list(roc_auc_dict.values()))\n",
    "\n",
    "logger.log_float(\"roc_auc_class_mean\", roc_auc_macro)\n",
    "\n",
    "# assert that the same value can be computed directly using sklearn\n",
    "assert roc_auc_macro == metrics.roc_auc_score(\n",
    "    y_test, y_pred_probs_test, average=\"macro\", multi_class=\"ovr\"\n",
    ")"
   ]
  },
  {
   "cell_type": "code",
   "execution_count": 20,
   "id": "12703e76",
   "metadata": {
    "execution": {
     "iopub.execute_input": "2022-07-17T06:46:27.695960Z",
     "iopub.status.busy": "2022-07-17T06:46:27.695723Z",
     "iopub.status.idle": "2022-07-17T06:46:27.698756Z",
     "shell.execute_reply": "2022-07-17T06:46:27.698065Z"
    },
    "lines_to_next_cell": 0,
    "papermill": {
     "duration": 0.01224,
     "end_time": "2022-07-17T06:46:27.701304",
     "exception": false,
     "start_time": "2022-07-17T06:46:27.689064",
     "status": "completed"
    },
    "tags": []
   },
   "outputs": [],
   "source": [
    "# ---"
   ]
  },
  {
   "cell_type": "code",
   "execution_count": null,
   "id": "eac20490",
   "metadata": {
    "papermill": {
     "duration": 0.006307,
     "end_time": "2022-07-17T06:46:27.713469",
     "exception": false,
     "start_time": "2022-07-17T06:46:27.707162",
     "status": "completed"
    },
    "tags": []
   },
   "outputs": [],
   "source": []
  }
 ],
 "metadata": {
  "jupytext": {
   "cell_metadata_filter": "tags,-all",
   "main_language": "python",
   "notebook_metadata_filter": "-all"
  },
  "language_info": {
   "codemirror_mode": {
    "name": "ipython",
    "version": 3
   },
   "file_extension": ".py",
   "mimetype": "text/x-python",
   "name": "python",
   "nbconvert_exporter": "python",
   "pygments_lexer": "ipython3",
   "version": "3.8.10"
  },
  "papermill": {
   "default_parameters": {},
   "duration": 8.789632,
   "end_time": "2022-07-17T06:46:28.978321",
   "environment_variables": {},
   "exception": null,
   "input_path": "/home/host_user/workspace/mnist-demo-pipeline/mnist-demo-pipeline/notebooks/temp-notebook-ic6hkgzj.ipynb",
   "output_path": "notebooks/benchmark-model.ipynb",
   "parameters": {
    "P": {
     "_opentelemetry_traceparent": "00-48e81b648307f6a2016578770d185db5-b7380b10fe49e238-01",
     "pipeline.data_lake_root": "/pipeline-outputs/data-lake",
     "pipeline.github.actor": "matiasdahl",
     "pipeline.github.base_ref": "",
     "pipeline.github.event_name": "schedule",
     "pipeline.github.head_ref": "",
     "pipeline.github.job": "run-tests-pipeline-and-persist-pipeline-outputs",
     "pipeline.github.ref": "refs/heads/development",
     "pipeline.github.ref_name": "development",
     "pipeline.github.ref_type": "branch",
     "pipeline.github.repository": "pynb-dag-runner/mnist-digits-demo-pipeline",
     "pipeline.github.run_id": "2684555341",
     "pipeline.github.runner_name": "Hosted Agent",
     "pipeline.github.sha": "147a1be9916173fd4d2cd011d8d51e3411215850",
     "pipeline.github.workflow": "Run automated tests, pipeline and deploy results to static reporting site",
     "pipeline.pipeline_run_id": "a19f8802-c54d-483a-8499-7b6b7a5c98be",
     "pipeline.run_environment": "ci",
     "run.retry_nr": "0",
     "task.max_nr_retries": "1",
     "task.notebook": "notebooks/benchmark-model.py",
     "task.nr_train_images": 600,
     "task.num_cpus": 1,
     "task.timeout_s": "None"
    }
   },
   "start_time": "2022-07-17T06:46:20.188689",
   "version": "2.3.3"
  }
 },
 "nbformat": 4,
 "nbformat_minor": 5
}