{
 "cells": [
  {
   "cell_type": "markdown",
   "id": "8e71b08f",
   "metadata": {
    "papermill": {
     "duration": 0.003438,
     "end_time": "2022-07-17T06:46:00.257765",
     "exception": false,
     "start_time": "2022-07-17T06:46:00.254327",
     "status": "completed"
    },
    "tags": []
   },
   "source": [
    "# Ingest toy version of MNIST digit data from sklearn"
   ]
  },
  {
   "cell_type": "markdown",
   "id": "cbca11e4",
   "metadata": {
    "papermill": {
     "duration": 0.002336,
     "end_time": "2022-07-17T06:46:00.262693",
     "exception": false,
     "start_time": "2022-07-17T06:46:00.260357",
     "status": "completed"
    },
    "tags": []
   },
   "source": [
    "### Determine run parameters"
   ]
  },
  {
   "cell_type": "code",
   "execution_count": 1,
   "id": "fb54588b",
   "metadata": {
    "execution": {
     "iopub.execute_input": "2022-07-17T06:46:00.268558Z",
     "iopub.status.busy": "2022-07-17T06:46:00.268242Z",
     "iopub.status.idle": "2022-07-17T06:46:00.276304Z",
     "shell.execute_reply": "2022-07-17T06:46:00.274623Z"
    },
    "lines_to_next_cell": 0,
    "papermill": {
     "duration": 0.01307,
     "end_time": "2022-07-17T06:46:00.277953",
     "exception": false,
     "start_time": "2022-07-17T06:46:00.264883",
     "status": "completed"
    },
    "tags": []
   },
   "outputs": [],
   "source": [
    "# ----------------- Parameters for interactive development --------------\n",
    "P = {\n",
    "    \"pipeline.run_environment\": \"dev\",\n",
    "    \"pipeline.data_lake_root\": \"/pipeline-outputs/data-lake\",\n",
    "    \"run.retry_nr\": \"1\",\n",
    "}"
   ]
  },
  {
   "cell_type": "code",
   "execution_count": 2,
   "id": "9e5609e3",
   "metadata": {
    "execution": {
     "iopub.execute_input": "2022-07-17T06:46:00.283629Z",
     "iopub.status.busy": "2022-07-17T06:46:00.283419Z",
     "iopub.status.idle": "2022-07-17T06:46:00.286392Z",
     "shell.execute_reply": "2022-07-17T06:46:00.285765Z"
    },
    "lines_to_next_cell": 0,
    "papermill": {
     "duration": 0.00748,
     "end_time": "2022-07-17T06:46:00.287748",
     "exception": false,
     "start_time": "2022-07-17T06:46:00.280268",
     "status": "completed"
    },
    "tags": [
     "parameters"
    ]
   },
   "outputs": [],
   "source": [
    "# - During automated runs parameters will be injected in the below cell -"
   ]
  },
  {
   "cell_type": "code",
   "execution_count": 3,
   "id": "4d256dac",
   "metadata": {
    "execution": {
     "iopub.execute_input": "2022-07-17T06:46:00.293236Z",
     "iopub.status.busy": "2022-07-17T06:46:00.293036Z",
     "iopub.status.idle": "2022-07-17T06:46:00.297561Z",
     "shell.execute_reply": "2022-07-17T06:46:00.296992Z"
    },
    "papermill": {
     "duration": 0.008843,
     "end_time": "2022-07-17T06:46:00.298831",
     "exception": false,
     "start_time": "2022-07-17T06:46:00.289988",
     "status": "completed"
    },
    "tags": [
     "injected-parameters"
    ]
   },
   "outputs": [],
   "source": [
    "# Parameters\n",
    "P = {\n",
    "    \"pipeline.data_lake_root\": \"/pipeline-outputs/data-lake\",\n",
    "    \"pipeline.run_environment\": \"ci\",\n",
    "    \"pipeline.pipeline_run_id\": \"a19f8802-c54d-483a-8499-7b6b7a5c98be\",\n",
    "    \"pipeline.github.repository\": \"pynb-dag-runner/mnist-digits-demo-pipeline\",\n",
    "    \"pipeline.github.workflow\": \"Run automated tests, pipeline and deploy results to static reporting site\",\n",
    "    \"pipeline.github.runner_name\": \"Hosted Agent\",\n",
    "    \"pipeline.github.run_id\": \"2684555341\",\n",
    "    \"pipeline.github.actor\": \"matiasdahl\",\n",
    "    \"pipeline.github.job\": \"run-tests-pipeline-and-persist-pipeline-outputs\",\n",
    "    \"pipeline.github.base_ref\": \"\",\n",
    "    \"pipeline.github.head_ref\": \"\",\n",
    "    \"pipeline.github.sha\": \"147a1be9916173fd4d2cd011d8d51e3411215850\",\n",
    "    \"pipeline.github.ref\": \"refs/heads/development\",\n",
    "    \"pipeline.github.ref_type\": \"branch\",\n",
    "    \"pipeline.github.ref_name\": \"development\",\n",
    "    \"pipeline.github.event_name\": \"schedule\",\n",
    "    \"task.notebook\": \"notebooks/ingest.py\",\n",
    "    \"task.max_nr_retries\": \"15\",\n",
    "    \"run.retry_nr\": \"10\",\n",
    "    \"task.timeout_s\": \"10\",\n",
    "    \"task.num_cpus\": 1,\n",
    "    \"_opentelemetry_traceparent\": \"00-48e81b648307f6a2016578770d185db5-a6ad30e1514e7e48-01\",\n",
    "}\n"
   ]
  },
  {
   "cell_type": "code",
   "execution_count": 4,
   "id": "4094211a",
   "metadata": {
    "execution": {
     "iopub.execute_input": "2022-07-17T06:46:00.304363Z",
     "iopub.status.busy": "2022-07-17T06:46:00.304167Z",
     "iopub.status.idle": "2022-07-17T06:46:00.306824Z",
     "shell.execute_reply": "2022-07-17T06:46:00.306181Z"
    },
    "lines_to_next_cell": 0,
    "papermill": {
     "duration": 0.006981,
     "end_time": "2022-07-17T06:46:00.308099",
     "exception": false,
     "start_time": "2022-07-17T06:46:00.301118",
     "status": "completed"
    },
    "tags": []
   },
   "outputs": [],
   "source": [
    "# -----------------------------------------------------------------------"
   ]
  },
  {
   "cell_type": "markdown",
   "id": "f67bb555",
   "metadata": {
    "lines_to_next_cell": 2,
    "papermill": {
     "duration": 0.002264,
     "end_time": "2022-07-17T06:46:00.312893",
     "exception": false,
     "start_time": "2022-07-17T06:46:00.310629",
     "status": "completed"
    },
    "tags": []
   },
   "source": [
    "---"
   ]
  },
  {
   "cell_type": "markdown",
   "id": "6807f01d",
   "metadata": {
    "papermill": {
     "duration": 0.002346,
     "end_time": "2022-07-17T06:46:00.317535",
     "exception": false,
     "start_time": "2022-07-17T06:46:00.315189",
     "status": "completed"
    },
    "tags": []
   },
   "source": [
    "### Simulate different types of failures (for testing timeout and retry logic)"
   ]
  },
  {
   "cell_type": "code",
   "execution_count": 5,
   "id": "3a8bda8a",
   "metadata": {
    "execution": {
     "iopub.execute_input": "2022-07-17T06:46:00.323157Z",
     "iopub.status.busy": "2022-07-17T06:46:00.322956Z",
     "iopub.status.idle": "2022-07-17T06:46:00.738735Z",
     "shell.execute_reply": "2022-07-17T06:46:00.737666Z"
    },
    "papermill": {
     "duration": 0.420619,
     "end_time": "2022-07-17T06:46:00.740413",
     "exception": false,
     "start_time": "2022-07-17T06:46:00.319794",
     "status": "completed"
    },
    "tags": []
   },
   "outputs": [
    {
     "name": "stderr",
     "output_type": "stream",
     "text": [
      "2022-07-17 06:46:00,595\tINFO worker.py:842 -- Connecting to existing Ray cluster at address: 172.17.0.2:6379\n"
     ]
    }
   ],
   "source": [
    "from pynb_dag_runner.tasks.task_opentelemetry_logging import PydarLogger\n",
    "\n",
    "logger = PydarLogger(P)"
   ]
  },
  {
   "cell_type": "code",
   "execution_count": 6,
   "id": "52280a52",
   "metadata": {
    "execution": {
     "iopub.execute_input": "2022-07-17T06:46:00.747751Z",
     "iopub.status.busy": "2022-07-17T06:46:00.746973Z",
     "iopub.status.idle": "2022-07-17T06:46:00.751856Z",
     "shell.execute_reply": "2022-07-17T06:46:00.751262Z"
    },
    "papermill": {
     "duration": 0.010061,
     "end_time": "2022-07-17T06:46:00.753285",
     "exception": false,
     "start_time": "2022-07-17T06:46:00.743224",
     "status": "completed"
    },
    "tags": []
   },
   "outputs": [],
   "source": [
    "import time, random\n",
    "\n",
    "\n",
    "def maybe_crash(retry_nr: int, run_environment: str):\n",
    "    if retry_nr == 2 and run_environment == \"ci\":\n",
    "        time.sleep(1e6)\n",
    "\n",
    "    max_retry_nr: int = 3 if run_environment == \"dev\" else 10\n",
    "\n",
    "    if retry_nr < max_retry_nr:\n",
    "        if random.random() < 0.1:\n",
    "            time.sleep(1e6)\n",
    "        else:\n",
    "            raise Exception(\"Simulated exception failure from ingestion step notebook!\")\n",
    "\n",
    "\n",
    "maybe_crash(\n",
    "    retry_nr=int(P[\"run.retry_nr\"]), run_environment=P[\"pipeline.run_environment\"]\n",
    ")"
   ]
  },
  {
   "cell_type": "markdown",
   "id": "eababe39",
   "metadata": {
    "lines_to_next_cell": 2,
    "papermill": {
     "duration": 0.002625,
     "end_time": "2022-07-17T06:46:00.758414",
     "exception": false,
     "start_time": "2022-07-17T06:46:00.755789",
     "status": "completed"
    },
    "tags": []
   },
   "source": [
    "### Notebook code"
   ]
  },
  {
   "cell_type": "code",
   "execution_count": 7,
   "id": "bf04659a",
   "metadata": {
    "execution": {
     "iopub.execute_input": "2022-07-17T06:46:00.764638Z",
     "iopub.status.busy": "2022-07-17T06:46:00.764129Z",
     "iopub.status.idle": "2022-07-17T06:46:01.909770Z",
     "shell.execute_reply": "2022-07-17T06:46:01.909143Z"
    },
    "papermill": {
     "duration": 1.150946,
     "end_time": "2022-07-17T06:46:01.911741",
     "exception": false,
     "start_time": "2022-07-17T06:46:00.760795",
     "status": "completed"
    },
    "tags": []
   },
   "outputs": [],
   "source": [
    "from sklearn import datasets\n",
    "\n",
    "#\n",
    "from common.io import datalake_root, write_numpy"
   ]
  },
  {
   "cell_type": "code",
   "execution_count": 8,
   "id": "145f4f99",
   "metadata": {
    "execution": {
     "iopub.execute_input": "2022-07-17T06:46:01.918736Z",
     "iopub.status.busy": "2022-07-17T06:46:01.918367Z",
     "iopub.status.idle": "2022-07-17T06:46:01.930202Z",
     "shell.execute_reply": "2022-07-17T06:46:01.929312Z"
    },
    "lines_to_next_cell": 2,
    "papermill": {
     "duration": 0.017128,
     "end_time": "2022-07-17T06:46:01.931713",
     "exception": false,
     "start_time": "2022-07-17T06:46:01.914585",
     "status": "completed"
    },
    "tags": []
   },
   "outputs": [],
   "source": [
    "digits = datasets.load_digits()\n",
    "\n",
    "X = digits[\"data\"]\n",
    "y = digits[\"target\"]"
   ]
  },
  {
   "cell_type": "code",
   "execution_count": 9,
   "id": "8e8ba8ff",
   "metadata": {
    "execution": {
     "iopub.execute_input": "2022-07-17T06:46:01.938316Z",
     "iopub.status.busy": "2022-07-17T06:46:01.937826Z",
     "iopub.status.idle": "2022-07-17T06:46:01.950568Z",
     "shell.execute_reply": "2022-07-17T06:46:01.949615Z"
    },
    "papermill": {
     "duration": 0.017657,
     "end_time": "2022-07-17T06:46:01.951989",
     "exception": false,
     "start_time": "2022-07-17T06:46:01.934332",
     "status": "completed"
    },
    "tags": []
   },
   "outputs": [
    {
     "name": "stdout",
     "output_type": "stream",
     "text": [
      " - Logging data_shape (json) : [1797, 64]\n",
      " - Logging target_shape (json) : [1797]\n"
     ]
    },
    {
     "data": {
      "text/plain": [
       "((1797, 64), (1797,))"
      ]
     },
     "execution_count": 9,
     "metadata": {},
     "output_type": "execute_result"
    }
   ],
   "source": [
    "logger.log_value(\"data_shape\", list(X.shape))\n",
    "logger.log_value(\"target_shape\", list(y.shape))\n",
    "\n",
    "X.shape, y.shape"
   ]
  },
  {
   "cell_type": "code",
   "execution_count": 10,
   "id": "eb1eccee",
   "metadata": {
    "execution": {
     "iopub.execute_input": "2022-07-17T06:46:01.960905Z",
     "iopub.status.busy": "2022-07-17T06:46:01.960402Z",
     "iopub.status.idle": "2022-07-17T06:46:01.968573Z",
     "shell.execute_reply": "2022-07-17T06:46:01.967988Z"
    },
    "papermill": {
     "duration": 0.014907,
     "end_time": "2022-07-17T06:46:01.970152",
     "exception": false,
     "start_time": "2022-07-17T06:46:01.955245",
     "status": "completed"
    },
    "tags": []
   },
   "outputs": [],
   "source": [
    "write_numpy(datalake_root(P) / \"raw\" / \"digits.numpy\", X)\n",
    "write_numpy(datalake_root(P) / \"raw\" / \"labels.numpy\", y)"
   ]
  },
  {
   "cell_type": "code",
   "execution_count": null,
   "id": "a1d85cea",
   "metadata": {
    "papermill": {
     "duration": 0.002648,
     "end_time": "2022-07-17T06:46:01.975434",
     "exception": false,
     "start_time": "2022-07-17T06:46:01.972786",
     "status": "completed"
    },
    "tags": []
   },
   "outputs": [],
   "source": []
  }
 ],
 "metadata": {
  "jupytext": {
   "cell_metadata_filter": "tags,-all",
   "main_language": "python",
   "notebook_metadata_filter": "-all"
  },
  "language_info": {
   "codemirror_mode": {
    "name": "ipython",
    "version": 3
   },
   "file_extension": ".py",
   "mimetype": "text/x-python",
   "name": "python",
   "nbconvert_exporter": "python",
   "pygments_lexer": "ipython3",
   "version": "3.8.10"
  },
  "papermill": {
   "default_parameters": {},
   "duration": 3.673294,
   "end_time": "2022-07-17T06:46:02.896317",
   "environment_variables": {},
   "exception": null,
   "input_path": "/home/host_user/workspace/mnist-demo-pipeline/mnist-demo-pipeline/notebooks/temp-notebook-6przjpib.ipynb",
   "output_path": "notebooks/ingest.ipynb",
   "parameters": {
    "P": {
     "_opentelemetry_traceparent": "00-48e81b648307f6a2016578770d185db5-a6ad30e1514e7e48-01",
     "pipeline.data_lake_root": "/pipeline-outputs/data-lake",
     "pipeline.github.actor": "matiasdahl",
     "pipeline.github.base_ref": "",
     "pipeline.github.event_name": "schedule",
     "pipeline.github.head_ref": "",
     "pipeline.github.job": "run-tests-pipeline-and-persist-pipeline-outputs",
     "pipeline.github.ref": "refs/heads/development",
     "pipeline.github.ref_name": "development",
     "pipeline.github.ref_type": "branch",
     "pipeline.github.repository": "pynb-dag-runner/mnist-digits-demo-pipeline",
     "pipeline.github.run_id": "2684555341",
     "pipeline.github.runner_name": "Hosted Agent",
     "pipeline.github.sha": "147a1be9916173fd4d2cd011d8d51e3411215850",
     "pipeline.github.workflow": "Run automated tests, pipeline and deploy results to static reporting site",
     "pipeline.pipeline_run_id": "a19f8802-c54d-483a-8499-7b6b7a5c98be",
     "pipeline.run_environment": "ci",
     "run.retry_nr": "10",
     "task.max_nr_retries": "15",
     "task.notebook": "notebooks/ingest.py",
     "task.num_cpus": 1,
     "task.timeout_s": "10"
    }
   },
   "start_time": "2022-07-17T06:45:59.223023",
   "version": "2.3.3"
  }
 },
 "nbformat": 4,
 "nbformat_minor": 5
}