{
 "cells": [
  {
   "cell_type": "markdown",
   "id": "4bc1f4f2",
   "metadata": {
    "papermill": {
     "duration": 0.004309,
     "end_time": "2022-07-17T06:46:10.352553",
     "exception": false,
     "start_time": "2022-07-17T06:46:10.348244",
     "status": "completed"
    },
    "tags": []
   },
   "source": [
    "# Train model\n",
    "\n",
    "The purpose of this notebook is:\n",
    "\n",
    "- Load all training data (images and labels).\n",
    "- Limit number of train images to `task.nr_train_images` (value provided as run parameter).\n",
    "- Train a support vector machine model using sklearn.\n",
    "- Persist the trained model using the ONNX format."
   ]
  },
  {
   "cell_type": "markdown",
   "id": "60db32c2",
   "metadata": {
    "papermill": {
     "duration": 0.002802,
     "end_time": "2022-07-17T06:46:10.359119",
     "exception": false,
     "start_time": "2022-07-17T06:46:10.356317",
     "status": "completed"
    },
    "tags": []
   },
   "source": [
    "### Determine run parameters"
   ]
  },
  {
   "cell_type": "code",
   "execution_count": 1,
   "id": "d4a982bb",
   "metadata": {
    "execution": {
     "iopub.execute_input": "2022-07-17T06:46:10.366292Z",
     "iopub.status.busy": "2022-07-17T06:46:10.365976Z",
     "iopub.status.idle": "2022-07-17T06:46:10.373915Z",
     "shell.execute_reply": "2022-07-17T06:46:10.373256Z"
    },
    "lines_to_next_cell": 0,
    "papermill": {
     "duration": 0.01494,
     "end_time": "2022-07-17T06:46:10.376723",
     "exception": false,
     "start_time": "2022-07-17T06:46:10.361783",
     "status": "completed"
    },
    "tags": []
   },
   "outputs": [],
   "source": [
    "# ----------------- Parameters for interactive development --------------\n",
    "P = {\n",
    "    \"pipeline.data_lake_root\": \"/pipeline-outputs/data-lake\",\n",
    "    \"task.nr_train_images\": 600,\n",
    "}"
   ]
  },
  {
   "cell_type": "code",
   "execution_count": 2,
   "id": "97f77450",
   "metadata": {
    "execution": {
     "iopub.execute_input": "2022-07-17T06:46:10.383823Z",
     "iopub.status.busy": "2022-07-17T06:46:10.383612Z",
     "iopub.status.idle": "2022-07-17T06:46:10.386704Z",
     "shell.execute_reply": "2022-07-17T06:46:10.386197Z"
    },
    "lines_to_next_cell": 0,
    "papermill": {
     "duration": 0.009763,
     "end_time": "2022-07-17T06:46:10.389736",
     "exception": false,
     "start_time": "2022-07-17T06:46:10.379973",
     "status": "completed"
    },
    "tags": [
     "parameters"
    ]
   },
   "outputs": [],
   "source": [
    "# - During automated runs parameters will be injected in the below cell -"
   ]
  },
  {
   "cell_type": "code",
   "execution_count": 3,
   "id": "7950614b",
   "metadata": {
    "execution": {
     "iopub.execute_input": "2022-07-17T06:46:10.396589Z",
     "iopub.status.busy": "2022-07-17T06:46:10.396369Z",
     "iopub.status.idle": "2022-07-17T06:46:10.400911Z",
     "shell.execute_reply": "2022-07-17T06:46:10.400398Z"
    },
    "papermill": {
     "duration": 0.010941,
     "end_time": "2022-07-17T06:46:10.403429",
     "exception": false,
     "start_time": "2022-07-17T06:46:10.392488",
     "status": "completed"
    },
    "tags": [
     "injected-parameters"
    ]
   },
   "outputs": [],
   "source": [
    "# Parameters\n",
    "P = {\n",
    "    \"pipeline.data_lake_root\": \"/pipeline-outputs/data-lake\",\n",
    "    \"pipeline.run_environment\": \"ci\",\n",
    "    \"pipeline.pipeline_run_id\": \"a19f8802-c54d-483a-8499-7b6b7a5c98be\",\n",
    "    \"pipeline.github.repository\": \"pynb-dag-runner/mnist-digits-demo-pipeline\",\n",
    "    \"pipeline.github.workflow\": \"Run automated tests, pipeline and deploy results to static reporting site\",\n",
    "    \"pipeline.github.runner_name\": \"Hosted Agent\",\n",
    "    \"pipeline.github.run_id\": \"2684555341\",\n",
    "    \"pipeline.github.actor\": \"matiasdahl\",\n",
    "    \"pipeline.github.job\": \"run-tests-pipeline-and-persist-pipeline-outputs\",\n",
    "    \"pipeline.github.base_ref\": \"\",\n",
    "    \"pipeline.github.head_ref\": \"\",\n",
    "    \"pipeline.github.sha\": \"147a1be9916173fd4d2cd011d8d51e3411215850\",\n",
    "    \"pipeline.github.ref\": \"refs/heads/development\",\n",
    "    \"pipeline.github.ref_type\": \"branch\",\n",
    "    \"pipeline.github.ref_name\": \"development\",\n",
    "    \"pipeline.github.event_name\": \"schedule\",\n",
    "    \"task.nr_train_images\": 600,\n",
    "    \"task.notebook\": \"notebooks/train-model.py\",\n",
    "    \"task.max_nr_retries\": \"1\",\n",
    "    \"run.retry_nr\": \"0\",\n",
    "    \"task.timeout_s\": \"None\",\n",
    "    \"task.num_cpus\": 1,\n",
    "    \"_opentelemetry_traceparent\": \"00-48e81b648307f6a2016578770d185db5-07e262e5a1130a63-01\",\n",
    "}\n"
   ]
  },
  {
   "cell_type": "code",
   "execution_count": 4,
   "id": "ac2a3f82",
   "metadata": {
    "execution": {
     "iopub.execute_input": "2022-07-17T06:46:10.410904Z",
     "iopub.status.busy": "2022-07-17T06:46:10.410689Z",
     "iopub.status.idle": "2022-07-17T06:46:10.413511Z",
     "shell.execute_reply": "2022-07-17T06:46:10.412834Z"
    },
    "lines_to_next_cell": 0,
    "papermill": {
     "duration": 0.009586,
     "end_time": "2022-07-17T06:46:10.416176",
     "exception": false,
     "start_time": "2022-07-17T06:46:10.406590",
     "status": "completed"
    },
    "tags": []
   },
   "outputs": [],
   "source": [
    "# -----------------------------------------------------------------------"
   ]
  },
  {
   "cell_type": "markdown",
   "id": "d3664ff1",
   "metadata": {
    "papermill": {
     "duration": 0.003051,
     "end_time": "2022-07-17T06:46:10.422410",
     "exception": false,
     "start_time": "2022-07-17T06:46:10.419359",
     "status": "completed"
    },
    "tags": []
   },
   "source": [
    "---"
   ]
  },
  {
   "cell_type": "markdown",
   "id": "6d8f80e5",
   "metadata": {
    "lines_to_next_cell": 2,
    "papermill": {
     "duration": 0.003313,
     "end_time": "2022-07-17T06:46:10.428949",
     "exception": false,
     "start_time": "2022-07-17T06:46:10.425636",
     "status": "completed"
    },
    "tags": []
   },
   "source": [
    "### Notebook code"
   ]
  },
  {
   "cell_type": "code",
   "execution_count": 5,
   "id": "ccd7474b",
   "metadata": {
    "execution": {
     "iopub.execute_input": "2022-07-17T06:46:10.436603Z",
     "iopub.status.busy": "2022-07-17T06:46:10.436366Z",
     "iopub.status.idle": "2022-07-17T06:46:10.912660Z",
     "shell.execute_reply": "2022-07-17T06:46:10.912058Z"
    },
    "papermill": {
     "duration": 0.482593,
     "end_time": "2022-07-17T06:46:10.914538",
     "exception": false,
     "start_time": "2022-07-17T06:46:10.431945",
     "status": "completed"
    },
    "tags": []
   },
   "outputs": [
    {
     "name": "stderr",
     "output_type": "stream",
     "text": [
      "2022-07-17 06:46:10,733\tINFO worker.py:842 -- Connecting to existing Ray cluster at address: 172.17.0.2:6379\n"
     ]
    }
   ],
   "source": [
    "from pynb_dag_runner.tasks.task_opentelemetry_logging import PydarLogger\n",
    "\n",
    "logger = PydarLogger(P)"
   ]
  },
  {
   "cell_type": "markdown",
   "id": "0dabd0a8",
   "metadata": {
    "papermill": {
     "duration": 0.003191,
     "end_time": "2022-07-17T06:46:10.921167",
     "exception": false,
     "start_time": "2022-07-17T06:46:10.917976",
     "status": "completed"
    },
    "tags": []
   },
   "source": [
    "## Load and limit train data"
   ]
  },
  {
   "cell_type": "code",
   "execution_count": 6,
   "id": "c79405ff",
   "metadata": {
    "execution": {
     "iopub.execute_input": "2022-07-17T06:46:10.928214Z",
     "iopub.status.busy": "2022-07-17T06:46:10.927914Z",
     "iopub.status.idle": "2022-07-17T06:46:11.266383Z",
     "shell.execute_reply": "2022-07-17T06:46:11.265846Z"
    },
    "papermill": {
     "duration": 0.344185,
     "end_time": "2022-07-17T06:46:11.268368",
     "exception": false,
     "start_time": "2022-07-17T06:46:10.924183",
     "status": "completed"
    },
    "tags": []
   },
   "outputs": [],
   "source": [
    "def load_and_limit_train_data(P):\n",
    "    from common.io import datalake_root, read_numpy\n",
    "    from sklearn.model_selection import train_test_split\n",
    "\n",
    "    X_train_all = read_numpy(datalake_root(P) / \"train-data\" / \"digits.numpy\")\n",
    "    y_train_all = read_numpy(datalake_root(P) / \"train-data\" / \"labels.numpy\")\n",
    "\n",
    "    assert isinstance(P[\"task.nr_train_images\"], int)\n",
    "\n",
    "    # Note: train_test_split will fail if split is 0 or 100%.\n",
    "    assert 0 < P[\"task.nr_train_images\"] < len(y_train_all)\n",
    "\n",
    "    X_train, _, y_train, _ = train_test_split(\n",
    "        X_train_all,\n",
    "        y_train_all,\n",
    "        train_size=P[\"task.nr_train_images\"],\n",
    "        test_size=None,\n",
    "        stratify=y_train_all,\n",
    "        shuffle=True,\n",
    "        random_state=123,\n",
    "    )\n",
    "\n",
    "    assert X_train.shape == (len(y_train), 8 * 8)\n",
    "    return X_train, y_train\n",
    "\n",
    "\n",
    "X_train, y_train = load_and_limit_train_data(P)"
   ]
  },
  {
   "cell_type": "markdown",
   "id": "91451aae",
   "metadata": {
    "papermill": {
     "duration": 0.00288,
     "end_time": "2022-07-17T06:46:11.276183",
     "exception": false,
     "start_time": "2022-07-17T06:46:11.273303",
     "status": "completed"
    },
    "tags": []
   },
   "source": [
    "## Train support vector classifier model\n",
    "\n",
    "Below we assume that the hyperparameter $C$ is known.\n",
    "\n",
    "However, this should ideally be found by a hyperparameter search. That could be\n",
    "done in parallel on the Ray cluster, but this needs some more work. Ie., to use\n",
    "multiple cores in the notebook, those cores should be reserved when starting the\n",
    "notebook task (TODO).\n",
    "\n",
    "- https://docs.ray.io/en/latest/tune/key-concepts.html\n",
    "\n",
    "Note: cv-scores would need to be computed here, since they depend on the train data.\n",
    "After this notebook only the onnx-model is available."
   ]
  },
  {
   "cell_type": "code",
   "execution_count": 7,
   "id": "f0f3e3e8",
   "metadata": {
    "execution": {
     "iopub.execute_input": "2022-07-17T06:46:11.283952Z",
     "iopub.status.busy": "2022-07-17T06:46:11.283716Z",
     "iopub.status.idle": "2022-07-17T06:46:11.362484Z",
     "shell.execute_reply": "2022-07-17T06:46:11.361885Z"
    },
    "papermill": {
     "duration": 0.08468,
     "end_time": "2022-07-17T06:46:11.364501",
     "exception": false,
     "start_time": "2022-07-17T06:46:11.279821",
     "status": "completed"
    },
    "tags": []
   },
   "outputs": [],
   "source": [
    "from sklearn.svm import SVC"
   ]
  },
  {
   "cell_type": "code",
   "execution_count": 8,
   "id": "1f055558",
   "metadata": {
    "execution": {
     "iopub.execute_input": "2022-07-17T06:46:11.372871Z",
     "iopub.status.busy": "2022-07-17T06:46:11.372404Z",
     "iopub.status.idle": "2022-07-17T06:46:11.465806Z",
     "shell.execute_reply": "2022-07-17T06:46:11.465214Z"
    },
    "papermill": {
     "duration": 0.101162,
     "end_time": "2022-07-17T06:46:11.469087",
     "exception": false,
     "start_time": "2022-07-17T06:46:11.367925",
     "status": "completed"
    },
    "tags": []
   },
   "outputs": [
    {
     "data": {
      "text/plain": [
       "SVC(C=0.001, kernel='linear', probability=True)"
      ]
     },
     "execution_count": 8,
     "metadata": {},
     "output_type": "execute_result"
    }
   ],
   "source": [
    "model = SVC(C=0.001, kernel=\"linear\", probability=True)\n",
    "\n",
    "model.fit(X_train, y_train)"
   ]
  },
  {
   "cell_type": "markdown",
   "id": "706d0926",
   "metadata": {
    "papermill": {
     "duration": 0.003239,
     "end_time": "2022-07-17T06:46:11.475564",
     "exception": false,
     "start_time": "2022-07-17T06:46:11.472325",
     "status": "completed"
    },
    "tags": []
   },
   "source": [
    "### Q: Can the labels returned by `predict(..)` be computed from probabilities returned by the `predict_prob`-method?"
   ]
  },
  {
   "cell_type": "code",
   "execution_count": 9,
   "id": "c5e5f2a4",
   "metadata": {
    "execution": {
     "iopub.execute_input": "2022-07-17T06:46:11.482860Z",
     "iopub.status.busy": "2022-07-17T06:46:11.482537Z",
     "iopub.status.idle": "2022-07-17T06:46:11.520302Z",
     "shell.execute_reply": "2022-07-17T06:46:11.519693Z"
    },
    "papermill": {
     "duration": 0.043066,
     "end_time": "2022-07-17T06:46:11.521708",
     "exception": false,
     "start_time": "2022-07-17T06:46:11.478642",
     "status": "completed"
    },
    "tags": []
   },
   "outputs": [
    {
     "name": "stdout",
     "output_type": "stream",
     "text": [
      " - Logging nr_max_prob_neq_label (int) : 2\n"
     ]
    }
   ],
   "source": [
    "import numpy as np\n",
    "\n",
    "y_train_labels = model.predict(X_train)\n",
    "y_train_probabilities = model.predict_proba(X_train)\n",
    "assert y_train_probabilities.shape == (len(y_train), 10)\n",
    "\n",
    "y_train_max_prob_labels = np.argmax(y_train_probabilities, axis=1)\n",
    "assert y_train_labels.shape == y_train_max_prob_labels.shape == y_train.shape\n",
    "\n",
    "# If the predicted labels would coincide with the labels that have\n",
    "# maximum probability, the below number would be zero\n",
    "logger.log_int(\n",
    "    \"nr_max_prob_neq_label\", int(sum(y_train_max_prob_labels != y_train_labels))\n",
    ")"
   ]
  },
  {
   "cell_type": "markdown",
   "id": "c3280c09",
   "metadata": {
    "papermill": {
     "duration": 0.003098,
     "end_time": "2022-07-17T06:46:11.529544",
     "exception": false,
     "start_time": "2022-07-17T06:46:11.526446",
     "status": "completed"
    },
    "tags": []
   },
   "source": [
    "The explanation is (likely) explained in the SVC source, see\n",
    "[here](https://github.com/scikit-learn/scikit-learn/blob/main/sklearn/svm/_base.py).\n",
    "Namely, the outputs from `predict(..)` and `predict_proba(..)` may not in some\n",
    "cases be compatible since the latter is computed using cross-validation while\n",
    "the former is not. Thus, the above number need not be zero."
   ]
  },
  {
   "cell_type": "markdown",
   "id": "bb51867c",
   "metadata": {
    "papermill": {
     "duration": 0.003013,
     "end_time": "2022-07-17T06:46:11.535561",
     "exception": false,
     "start_time": "2022-07-17T06:46:11.532548",
     "status": "completed"
    },
    "tags": []
   },
   "source": [
    "## Persist model"
   ]
  },
  {
   "cell_type": "code",
   "execution_count": 10,
   "id": "49b3c5b8",
   "metadata": {
    "execution": {
     "iopub.execute_input": "2022-07-17T06:46:11.543266Z",
     "iopub.status.busy": "2022-07-17T06:46:11.542835Z",
     "iopub.status.idle": "2022-07-17T06:46:12.653710Z",
     "shell.execute_reply": "2022-07-17T06:46:12.653118Z"
    },
    "papermill": {
     "duration": 1.116685,
     "end_time": "2022-07-17T06:46:12.655613",
     "exception": false,
     "start_time": "2022-07-17T06:46:11.538928",
     "status": "completed"
    },
    "tags": []
   },
   "outputs": [],
   "source": [
    "from skl2onnx import convert_sklearn\n",
    "from skl2onnx.common.data_types import FloatTensorType\n",
    "\n",
    "#\n",
    "from common.io import datalake_root, write_onnx"
   ]
  },
  {
   "cell_type": "code",
   "execution_count": 11,
   "id": "da48a6b9",
   "metadata": {
    "execution": {
     "iopub.execute_input": "2022-07-17T06:46:12.664259Z",
     "iopub.status.busy": "2022-07-17T06:46:12.663764Z",
     "iopub.status.idle": "2022-07-17T06:46:12.706044Z",
     "shell.execute_reply": "2022-07-17T06:46:12.705197Z"
    },
    "papermill": {
     "duration": 0.048748,
     "end_time": "2022-07-17T06:46:12.708080",
     "exception": false,
     "start_time": "2022-07-17T06:46:12.659332",
     "status": "completed"
    },
    "tags": []
   },
   "outputs": [],
   "source": [
    "# convert sklearn model into onnx and persist to data lake\n",
    "\n",
    "model_onnx = convert_sklearn(\n",
    "    model, initial_types=[(\"float_input_8x8_image\", FloatTensorType([None, 8 * 8]))]\n",
    ")\n",
    "write_onnx(\n",
    "    datalake_root(P)\n",
    "    / \"models\"\n",
    "    / f\"nr_train_images={P['task.nr_train_images']}\"\n",
    "    / \"model.onnx\",\n",
    "    model_onnx,\n",
    ")"
   ]
  },
  {
   "cell_type": "code",
   "execution_count": null,
   "id": "7adeba55",
   "metadata": {
    "papermill": {
     "duration": 0.003941,
     "end_time": "2022-07-17T06:46:12.715472",
     "exception": false,
     "start_time": "2022-07-17T06:46:12.711531",
     "status": "completed"
    },
    "tags": []
   },
   "outputs": [],
   "source": []
  }
 ],
 "metadata": {
  "jupytext": {
   "cell_metadata_filter": "tags,-all",
   "main_language": "python",
   "notebook_metadata_filter": "-all"
  },
  "language_info": {
   "codemirror_mode": {
    "name": "ipython",
    "version": 3
   },
   "file_extension": ".py",
   "mimetype": "text/x-python",
   "name": "python",
   "nbconvert_exporter": "python",
   "pygments_lexer": "ipython3",
   "version": "3.8.10"
  },
  "papermill": {
   "default_parameters": {},
   "duration": 4.554751,
   "end_time": "2022-07-17T06:46:13.640693",
   "environment_variables": {},
   "exception": null,
   "input_path": "/home/host_user/workspace/mnist-demo-pipeline/mnist-demo-pipeline/notebooks/temp-notebook-vb5t2r5l.ipynb",
   "output_path": "notebooks/train-model.ipynb",
   "parameters": {
    "P": {
     "_opentelemetry_traceparent": "00-48e81b648307f6a2016578770d185db5-07e262e5a1130a63-01",
     "pipeline.data_lake_root": "/pipeline-outputs/data-lake",
     "pipeline.github.actor": "matiasdahl",
     "pipeline.github.base_ref": "",
     "pipeline.github.event_name": "schedule",
     "pipeline.github.head_ref": "",
     "pipeline.github.job": "run-tests-pipeline-and-persist-pipeline-outputs",
     "pipeline.github.ref": "refs/heads/development",
     "pipeline.github.ref_name": "development",
     "pipeline.github.ref_type": "branch",
     "pipeline.github.repository": "pynb-dag-runner/mnist-digits-demo-pipeline",
     "pipeline.github.run_id": "2684555341",
     "pipeline.github.runner_name": "Hosted Agent",
     "pipeline.github.sha": "147a1be9916173fd4d2cd011d8d51e3411215850",
     "pipeline.github.workflow": "Run automated tests, pipeline and deploy results to static reporting site",
     "pipeline.pipeline_run_id": "a19f8802-c54d-483a-8499-7b6b7a5c98be",
     "pipeline.run_environment": "ci",
     "run.retry_nr": "0",
     "task.max_nr_retries": "1",
     "task.notebook": "notebooks/train-model.py",
     "task.nr_train_images": 600,
     "task.num_cpus": 1,
     "task.timeout_s": "None"
    }
   },
   "start_time": "2022-07-17T06:46:09.085942",
   "version": "2.3.3"
  }
 },
 "nbformat": 4,
 "nbformat_minor": 5
}