{
 "cells": [
  {
   "cell_type": "markdown",
   "id": "10274b49",
   "metadata": {
    "papermill": {
     "duration": 0.00701,
     "end_time": "2022-07-17T06:46:25.947318",
     "exception": false,
     "start_time": "2022-07-17T06:46:25.940308",
     "status": "completed"
    },
    "tags": []
   },
   "source": [
    "# Benchmark model\n",
    "\n",
    "The purpose of this notebook is to benchmark persisted onnx-model (trained in the\n",
    "previous step) against evaluation set."
   ]
  },
  {
   "cell_type": "markdown",
   "id": "640395cf",
   "metadata": {
    "papermill": {
     "duration": 0.004728,
     "end_time": "2022-07-17T06:46:25.956815",
     "exception": false,
     "start_time": "2022-07-17T06:46:25.952087",
     "status": "completed"
    },
    "tags": []
   },
   "source": [
    "### Determine run parameters"
   ]
  },
  {
   "cell_type": "code",
   "execution_count": 1,
   "id": "48000387",
   "metadata": {
    "execution": {
     "iopub.execute_input": "2022-07-17T06:46:25.966657Z",
     "iopub.status.busy": "2022-07-17T06:46:25.966361Z",
     "iopub.status.idle": "2022-07-17T06:46:25.975022Z",
     "shell.execute_reply": "2022-07-17T06:46:25.974167Z"
    },
    "lines_to_next_cell": 0,
    "papermill": {
     "duration": 0.01719,
     "end_time": "2022-07-17T06:46:25.977898",
     "exception": false,
     "start_time": "2022-07-17T06:46:25.960708",
     "status": "completed"
    },
    "tags": []
   },
   "outputs": [],
   "source": [
    "# ----------------- Parameters for interactive development --------------\n",
    "P = {\n",
    "    \"pipeline.data_lake_root\": \"/pipeline-outputs/data-lake\",\n",
    "    \"task.nr_train_images\": 600,\n",
    "}"
   ]
  },
  {
   "cell_type": "code",
   "execution_count": 2,
   "id": "227d5c60",
   "metadata": {
    "execution": {
     "iopub.execute_input": "2022-07-17T06:46:25.987453Z",
     "iopub.status.busy": "2022-07-17T06:46:25.987231Z",
     "iopub.status.idle": "2022-07-17T06:46:25.990225Z",
     "shell.execute_reply": "2022-07-17T06:46:25.989546Z"
    },
    "lines_to_next_cell": 0,
    "papermill": {
     "duration": 0.010578,
     "end_time": "2022-07-17T06:46:25.992759",
     "exception": false,
     "start_time": "2022-07-17T06:46:25.982181",
     "status": "completed"
    },
    "tags": [
     "parameters"
    ]
   },
   "outputs": [],
   "source": [
    "# - During automated runs parameters will be injected in the below cell -"
   ]
  },
  {
   "cell_type": "code",
   "execution_count": 3,
   "id": "cd7e9629",
   "metadata": {
    "execution": {
     "iopub.execute_input": "2022-07-17T06:46:26.002398Z",
     "iopub.status.busy": "2022-07-17T06:46:26.002192Z",
     "iopub.status.idle": "2022-07-17T06:46:26.006920Z",
     "shell.execute_reply": "2022-07-17T06:46:26.006198Z"
    },
    "papermill": {
     "duration": 0.012354,
     "end_time": "2022-07-17T06:46:26.009454",
     "exception": false,
     "start_time": "2022-07-17T06:46:25.997100",
     "status": "completed"
    },
    "tags": [
     "injected-parameters"
    ]
   },
   "outputs": [],
   "source": [
    "# Parameters\n",
    "P = {\n",
    "    \"pipeline.data_lake_root\": \"/pipeline-outputs/data-lake\",\n",
    "    \"pipeline.run_environment\": \"ci\",\n",
    "    \"pipeline.pipeline_run_id\": \"a19f8802-c54d-483a-8499-7b6b7a5c98be\",\n",
    "    \"pipeline.github.repository\": \"pynb-dag-runner/mnist-digits-demo-pipeline\",\n",
    "    \"pipeline.github.workflow\": \"Run automated tests, pipeline and deploy results to static reporting site\",\n",
    "    \"pipeline.github.runner_name\": \"Hosted Agent\",\n",
    "    \"pipeline.github.run_id\": \"2684555341\",\n",
    "    \"pipeline.github.actor\": \"matiasdahl\",\n",
    "    \"pipeline.github.job\": \"run-tests-pipeline-and-persist-pipeline-outputs\",\n",
    "    \"pipeline.github.base_ref\": \"\",\n",
    "    \"pipeline.github.head_ref\": \"\",\n",
    "    \"pipeline.github.sha\": \"147a1be9916173fd4d2cd011d8d51e3411215850\",\n",
    "    \"pipeline.github.ref\": \"refs/heads/development\",\n",
    "    \"pipeline.github.ref_type\": \"branch\",\n",
    "    \"pipeline.github.ref_name\": \"development\",\n",
    "    \"pipeline.github.event_name\": \"schedule\",\n",
    "    \"task.nr_train_images\": 800,\n",
    "    \"task.notebook\": \"notebooks/benchmark-model.py\",\n",
    "    \"task.max_nr_retries\": \"1\",\n",
    "    \"run.retry_nr\": \"0\",\n",
    "    \"task.timeout_s\": \"None\",\n",
    "    \"task.num_cpus\": 1,\n",
    "    \"_opentelemetry_traceparent\": \"00-48e81b648307f6a2016578770d185db5-66bbcae3a48326eb-01\",\n",
    "}\n"
   ]
  },
  {
   "cell_type": "code",
   "execution_count": 4,
   "id": "6a1bcddd",
   "metadata": {
    "execution": {
     "iopub.execute_input": "2022-07-17T06:46:26.020237Z",
     "iopub.status.busy": "2022-07-17T06:46:26.020036Z",
     "iopub.status.idle": "2022-07-17T06:46:26.025263Z",
     "shell.execute_reply": "2022-07-17T06:46:26.022185Z"
    },
    "lines_to_next_cell": 0,
    "papermill": {
     "duration": 0.015392,
     "end_time": "2022-07-17T06:46:26.029039",
     "exception": false,
     "start_time": "2022-07-17T06:46:26.013647",
     "status": "completed"
    },
    "tags": []
   },
   "outputs": [],
   "source": [
    "# -----------------------------------------------------------------------"
   ]
  },
  {
   "cell_type": "markdown",
   "id": "8274301c",
   "metadata": {
    "papermill": {
     "duration": 0.00489,
     "end_time": "2022-07-17T06:46:26.038300",
     "exception": false,
     "start_time": "2022-07-17T06:46:26.033410",
     "status": "completed"
    },
    "tags": []
   },
   "source": [
    "---"
   ]
  },
  {
   "cell_type": "markdown",
   "id": "b3f675f1",
   "metadata": {
    "lines_to_next_cell": 2,
    "papermill": {
     "duration": 0.00419,
     "end_time": "2022-07-17T06:46:26.046553",
     "exception": false,
     "start_time": "2022-07-17T06:46:26.042363",
     "status": "completed"
    },
    "tags": []
   },
   "source": [
    "### Notebook code"
   ]
  },
  {
   "cell_type": "code",
   "execution_count": 5,
   "id": "446d03fb",
   "metadata": {
    "execution": {
     "iopub.execute_input": "2022-07-17T06:46:26.055484Z",
     "iopub.status.busy": "2022-07-17T06:46:26.055270Z",
     "iopub.status.idle": "2022-07-17T06:46:27.136646Z",
     "shell.execute_reply": "2022-07-17T06:46:27.135701Z"
    },
    "papermill": {
     "duration": 1.087811,
     "end_time": "2022-07-17T06:46:27.138364",
     "exception": false,
     "start_time": "2022-07-17T06:46:26.050553",
     "status": "completed"
    },
    "tags": []
   },
   "outputs": [
    {
     "name": "stderr",
     "output_type": "stream",
     "text": [
      "2022-07-17 06:46:26,973\tINFO worker.py:842 -- Connecting to existing Ray cluster at address: 172.17.0.2:6379\n"
     ]
    }
   ],
   "source": [
    "import itertools as it\n",
    "\n",
    "#\n",
    "import numpy as np\n",
    "import matplotlib.pyplot as plt\n",
    "\n",
    "#\n",
    "from pynb_dag_runner.tasks.task_opentelemetry_logging import PydarLogger\n",
    "\n",
    "#\n",
    "from common.io import datalake_root\n",
    "\n",
    "logger = PydarLogger(P)"
   ]
  },
  {
   "cell_type": "markdown",
   "id": "a08dc5e7",
   "metadata": {
    "papermill": {
     "duration": 0.004587,
     "end_time": "2022-07-17T06:46:27.147493",
     "exception": false,
     "start_time": "2022-07-17T06:46:27.142906",
     "status": "completed"
    },
    "tags": []
   },
   "source": [
    "## Load persisted onnx-model and evaluation data"
   ]
  },
  {
   "cell_type": "code",
   "execution_count": 6,
   "id": "7c35ff63",
   "metadata": {
    "execution": {
     "iopub.execute_input": "2022-07-17T06:46:27.162197Z",
     "iopub.status.busy": "2022-07-17T06:46:27.161808Z",
     "iopub.status.idle": "2022-07-17T06:46:27.165366Z",
     "shell.execute_reply": "2022-07-17T06:46:27.164837Z"
    },
    "papermill": {
     "duration": 0.012283,
     "end_time": "2022-07-17T06:46:27.167911",
     "exception": false,
     "start_time": "2022-07-17T06:46:27.155628",
     "status": "completed"
    },
    "tags": []
   },
   "outputs": [],
   "source": [
    "from common.io import read_onnx, get_onnx_inputs, get_onnx_outputs, read_numpy"
   ]
  },
  {
   "cell_type": "code",
   "execution_count": 7,
   "id": "546534b4",
   "metadata": {
    "execution": {
     "iopub.execute_input": "2022-07-17T06:46:27.177394Z",
     "iopub.status.busy": "2022-07-17T06:46:27.177178Z",
     "iopub.status.idle": "2022-07-17T06:46:27.187290Z",
     "shell.execute_reply": "2022-07-17T06:46:27.186721Z"
    },
    "lines_to_next_cell": 0,
    "papermill": {
     "duration": 0.016817,
     "end_time": "2022-07-17T06:46:27.188925",
     "exception": false,
     "start_time": "2022-07-17T06:46:27.172108",
     "status": "completed"
    },
    "tags": []
   },
   "outputs": [],
   "source": [
    "onnx_inference_session = read_onnx(\n",
    "    datalake_root(P)\n",
    "    / \"models\"\n",
    "    / f\"nr_train_images={P['task.nr_train_images']}\"\n",
    "    / \"model.onnx\"\n",
    ")"
   ]
  },
  {
   "cell_type": "markdown",
   "id": "57f66f56",
   "metadata": {
    "papermill": {
     "duration": 0.004474,
     "end_time": "2022-07-17T06:46:27.197411",
     "exception": false,
     "start_time": "2022-07-17T06:46:27.192937",
     "status": "completed"
    },
    "tags": []
   },
   "source": [
    "### Record structure of inputs and outputs for ONNX model\n",
    "\n",
    "(this should likely be done in training notebook)"
   ]
  },
  {
   "cell_type": "code",
   "execution_count": 8,
   "id": "62ac86aa",
   "metadata": {
    "execution": {
     "iopub.execute_input": "2022-07-17T06:46:27.206765Z",
     "iopub.status.busy": "2022-07-17T06:46:27.206533Z",
     "iopub.status.idle": "2022-07-17T06:46:27.212141Z",
     "shell.execute_reply": "2022-07-17T06:46:27.211495Z"
    },
    "papermill": {
     "duration": 0.0128,
     "end_time": "2022-07-17T06:46:27.214296",
     "exception": false,
     "start_time": "2022-07-17T06:46:27.201496",
     "status": "completed"
    },
    "tags": []
   },
   "outputs": [
    {
     "name": "stdout",
     "output_type": "stream",
     "text": [
      "{\n",
      "  \"inputs\": [\n",
      "    {\n",
      "      \"name\": \"float_input_8x8_image\",\n",
      "      \"shape\": [\n",
      "        null,\n",
      "        64\n",
      "      ],\n",
      "      \"type\": \"tensor(float)\"\n",
      "    }\n",
      "  ],\n",
      "  \"outputs\": [\n",
      "    {\n",
      "      \"name\": \"output_label\",\n",
      "      \"shape\": [\n",
      "        null\n",
      "      ],\n",
      "      \"type\": \"tensor(int64)\"\n",
      "    },\n",
      "    {\n",
      "      \"name\": \"output_probability\",\n",
      "      \"shape\": [],\n",
      "      \"type\": \"seq(map(int64,tensor(float)))\"\n",
      "    }\n",
      "  ]\n",
      "}\n"
     ]
    }
   ],
   "source": [
    "import json\n",
    "\n",
    "onnx_io = json.dumps(\n",
    "    {\n",
    "        \"inputs\": get_onnx_inputs(onnx_inference_session),\n",
    "        \"outputs\": get_onnx_outputs(onnx_inference_session),\n",
    "    },\n",
    "    indent=2,\n",
    ")\n",
    "\n",
    "\n",
    "logger.log_artefact(\"onnx_io_structure.json\", onnx_io)\n",
    "print(onnx_io)"
   ]
  },
  {
   "cell_type": "markdown",
   "id": "116bcf6c",
   "metadata": {
    "papermill": {
     "duration": 0.004265,
     "end_time": "2022-07-17T06:46:27.223037",
     "exception": false,
     "start_time": "2022-07-17T06:46:27.218772",
     "status": "completed"
    },
    "tags": []
   },
   "source": [
    "### Evaluate model performance on evaluation data set"
   ]
  },
  {
   "cell_type": "code",
   "execution_count": 9,
   "id": "18b847da",
   "metadata": {
    "execution": {
     "iopub.execute_input": "2022-07-17T06:46:27.232496Z",
     "iopub.status.busy": "2022-07-17T06:46:27.232265Z",
     "iopub.status.idle": "2022-07-17T06:46:27.237081Z",
     "shell.execute_reply": "2022-07-17T06:46:27.236417Z"
    },
    "papermill": {
     "duration": 0.011371,
     "end_time": "2022-07-17T06:46:27.238620",
     "exception": false,
     "start_time": "2022-07-17T06:46:27.227249",
     "status": "completed"
    },
    "tags": []
   },
   "outputs": [],
   "source": [
    "# load evaluation data\n",
    "X_test = read_numpy(datalake_root(P) / \"test-data\" / \"digits.numpy\")\n",
    "y_test = read_numpy(datalake_root(P) / \"test-data\" / \"labels.numpy\")"
   ]
  },
  {
   "cell_type": "code",
   "execution_count": 10,
   "id": "5a3bd616",
   "metadata": {
    "execution": {
     "iopub.execute_input": "2022-07-17T06:46:27.248626Z",
     "iopub.status.busy": "2022-07-17T06:46:27.248328Z",
     "iopub.status.idle": "2022-07-17T06:46:27.266357Z",
     "shell.execute_reply": "2022-07-17T06:46:27.265726Z"
    },
    "papermill": {
     "duration": 0.024594,
     "end_time": "2022-07-17T06:46:27.267873",
     "exception": false,
     "start_time": "2022-07-17T06:46:27.243279",
     "status": "completed"
    },
    "tags": []
   },
   "outputs": [],
   "source": [
    "def get_model_outputs(X, onnx_inference_session):\n",
    "    y_pred_labels, y_pred_map = onnx_inference_session.run(\n",
    "        [\"output_label\", \"output_probability\"],\n",
    "        {\"float_input_8x8_image\": X.astype(np.float32)},\n",
    "    )\n",
    "    y_pred_probs = np.array(\n",
    "        [[probabilities[digit] for digit in range(10)] for probabilities in y_pred_map]\n",
    "    )\n",
    "\n",
    "    assert y_pred_labels.shape == (X.shape[0],)\n",
    "    assert y_pred_probs.shape == (X.shape[0], 10)\n",
    "\n",
    "    return y_pred_labels, y_pred_probs\n",
    "\n",
    "\n",
    "# Note: as shown in the training notebook, the predicted labels and probabilities\n",
    "# computed below need not be compatible.\n",
    "y_pred_labels_test, y_pred_probs_test = get_model_outputs(\n",
    "    X_test, onnx_inference_session\n",
    ")"
   ]
  },
  {
   "cell_type": "markdown",
   "id": "5bc11bf6",
   "metadata": {
    "papermill": {
     "duration": 0.004353,
     "end_time": "2022-07-17T06:46:27.276757",
     "exception": false,
     "start_time": "2022-07-17T06:46:27.272404",
     "status": "completed"
    },
    "tags": []
   },
   "source": [
    "### Confusion matrix"
   ]
  },
  {
   "cell_type": "code",
   "execution_count": 11,
   "id": "02eef66c",
   "metadata": {
    "execution": {
     "iopub.execute_input": "2022-07-17T06:46:27.286611Z",
     "iopub.status.busy": "2022-07-17T06:46:27.286389Z",
     "iopub.status.idle": "2022-07-17T06:46:27.289264Z",
     "shell.execute_reply": "2022-07-17T06:46:27.288646Z"
    },
    "papermill": {
     "duration": 0.009465,
     "end_time": "2022-07-17T06:46:27.290793",
     "exception": false,
     "start_time": "2022-07-17T06:46:27.281328",
     "status": "completed"
    },
    "tags": []
   },
   "outputs": [],
   "source": [
    "# TODO"
   ]
  },
  {
   "cell_type": "markdown",
   "id": "fb1c8322",
   "metadata": {
    "papermill": {
     "duration": 0.004278,
     "end_time": "2022-07-17T06:46:27.299653",
     "exception": false,
     "start_time": "2022-07-17T06:46:27.295375",
     "status": "completed"
    },
    "tags": []
   },
   "source": [
    "### Plot predicted probabilities for each classifier over all evaluation digit images"
   ]
  },
  {
   "cell_type": "code",
   "execution_count": 12,
   "id": "4cb301ce",
   "metadata": {
    "execution": {
     "iopub.execute_input": "2022-07-17T06:46:27.309490Z",
     "iopub.status.busy": "2022-07-17T06:46:27.309132Z",
     "iopub.status.idle": "2022-07-17T06:46:30.660692Z",
     "shell.execute_reply": "2022-07-17T06:46:30.659454Z"
    },
    "papermill": {
     "duration": 3.358326,
     "end_time": "2022-07-17T06:46:30.662302",
     "exception": false,
     "start_time": "2022-07-17T06:46:27.303976",
     "status": "completed"
    },
    "tags": []
   },
   "outputs": [
    {
     "data": {
      "image/png": "[encoded data removed]",
      "text/plain": [
       "<Figure size 1152x432 with 10 Axes>"
      ]
     },
     "metadata": {
      "needs_background": "light"
     },
     "output_type": "display_data"
    }
   ],
   "source": [
    "def plot_per_digit_probabilities(y_pred_probs):\n",
    "    fig, axs = plt.subplots(nrows=2, ncols=5, figsize=(16, 6))\n",
    "\n",
    "    for (r, c), digit, ax in zip(\n",
    "        it.product(range(2), range(5)), range(10), axs.reshape(-1)\n",
    "    ):\n",
    "        ax.hist(y_pred_probs_test[:, digit], bins=20)\n",
    "\n",
    "        ax.set_title(f\"Digit {digit}\")\n",
    "        if r == 1 and c == 2:\n",
    "            ax.set_xlabel(\"probability\", fontsize=16)\n",
    "\n",
    "        if c == 0:\n",
    "            ax.set_ylabel(\"counts\", fontsize=16)\n",
    "        ax.set_yscale(\"log\")\n",
    "\n",
    "    fig.tight_layout()\n",
    "    fig.suptitle(\n",
    "        f\"Distributions of prediction probabilities for each digit \"\n",
    "        f\"(on evaluation data, n={y_pred_probs.shape[0]})\",\n",
    "        fontsize=20,\n",
    "    )\n",
    "    fig.tight_layout()\n",
    "    fig.show()\n",
    "\n",
    "    return fig\n",
    "\n",
    "\n",
    "fig = plot_per_digit_probabilities(y_pred_probs_test)"
   ]
  },
  {
   "cell_type": "markdown",
   "id": "3e53f4ce",
   "metadata": {
    "papermill": {
     "duration": 0.005535,
     "end_time": "2022-07-17T06:46:30.672743",
     "exception": false,
     "start_time": "2022-07-17T06:46:30.667208",
     "status": "completed"
    },
    "tags": []
   },
   "source": [
    "From the above distributions we see that most digits have clear separation between\n",
    "high and lower probabilities. Morover, in each case there is roughly an order of\n",
    "magnitude more of digits with low probabilities. This is compatible with digits\n",
    "being roughly evenly distributed in the data."
   ]
  },
  {
   "cell_type": "code",
   "execution_count": 13,
   "id": "6183b490",
   "metadata": {
    "execution": {
     "iopub.execute_input": "2022-07-17T06:46:30.684120Z",
     "iopub.status.busy": "2022-07-17T06:46:30.683807Z",
     "iopub.status.idle": "2022-07-17T06:46:31.097180Z",
     "shell.execute_reply": "2022-07-17T06:46:31.096552Z"
    },
    "papermill": {
     "duration": 0.42144,
     "end_time": "2022-07-17T06:46:31.098996",
     "exception": false,
     "start_time": "2022-07-17T06:46:30.677556",
     "status": "completed"
    },
    "tags": []
   },
   "outputs": [],
   "source": [
    "logger.log_figure(\"per-digit-probabilities.png\", fig)"
   ]
  },
  {
   "cell_type": "markdown",
   "id": "f6c69677",
   "metadata": {
    "papermill": {
     "duration": 0.005095,
     "end_time": "2022-07-17T06:46:31.109103",
     "exception": false,
     "start_time": "2022-07-17T06:46:31.104008",
     "status": "completed"
    },
    "tags": []
   },
   "source": [
    "### Plot ROC curves for individual one-vs-rest classifiers"
   ]
  },
  {
   "cell_type": "code",
   "execution_count": 14,
   "id": "647cd582",
   "metadata": {
    "execution": {
     "iopub.execute_input": "2022-07-17T06:46:31.120378Z",
     "iopub.status.busy": "2022-07-17T06:46:31.119943Z",
     "iopub.status.idle": "2022-07-17T06:46:31.397767Z",
     "shell.execute_reply": "2022-07-17T06:46:31.397059Z"
    },
    "papermill": {
     "duration": 0.285719,
     "end_time": "2022-07-17T06:46:31.399565",
     "exception": false,
     "start_time": "2022-07-17T06:46:31.113846",
     "status": "completed"
    },
    "tags": []
   },
   "outputs": [],
   "source": [
    "from sklearn import metrics"
   ]
  },
  {
   "cell_type": "code",
   "execution_count": 15,
   "id": "c25e5aeb",
   "metadata": {
    "execution": {
     "iopub.execute_input": "2022-07-17T06:46:31.413603Z",
     "iopub.status.busy": "2022-07-17T06:46:31.413277Z",
     "iopub.status.idle": "2022-07-17T06:46:32.478747Z",
     "shell.execute_reply": "2022-07-17T06:46:32.478056Z"
    },
    "papermill": {
     "duration": 1.07407,
     "end_time": "2022-07-17T06:46:32.481065",
     "exception": false,
     "start_time": "2022-07-17T06:46:31.406995",
     "status": "completed"
    },
    "tags": []
   },
   "outputs": [
    {
     "data": {
      "image/png": "[encoded data removed]",
      "text/plain": [
       "<Figure size 1152x576 with 10 Axes>"
      ]
     },
     "metadata": {
      "needs_background": "light"
     },
     "output_type": "display_data"
    }
   ],
   "source": [
    "def plot_roc_curves(y, y_pred_probs):\n",
    "    # based on example code\n",
    "    # https://scikit-learn.org/stable/auto_examples/model_selection/plot_roc.html\n",
    "\n",
    "    fig, axs = plt.subplots(nrows=2, ncols=5, figsize=(16, 8))\n",
    "\n",
    "    roc_auc_dict = {}\n",
    "\n",
    "    for (r, c), digit, ax in zip(\n",
    "        it.product(range(2), range(5)), range(10), axs.reshape(-1)\n",
    "    ):\n",
    "        fpr, tpr, _ = metrics.roc_curve(y == digit, y_pred_probs[:, digit])\n",
    "        auc = metrics.auc(fpr, tpr)\n",
    "        roc_auc_dict[str(digit)] = auc\n",
    "\n",
    "        ax.plot(fpr, tpr, label=f\"ROC AUC={round(auc, 3)}\")\n",
    "\n",
    "        ax.set_title(f\"\\nDigit {digit}\", fontsize=16)\n",
    "        if r == 1:\n",
    "            ax.set_xlabel(\"FPR\", fontsize=18)\n",
    "\n",
    "        if c == 0:\n",
    "            ax.set_ylabel(\"TPR\", fontsize=18)\n",
    "\n",
    "        ax.set_xlim([-0.05, 1.05])\n",
    "        ax.set_ylim([-0.05, 1.05])\n",
    "        ax.legend(loc=\"lower right\", frameon=False, fontsize=14)\n",
    "\n",
    "    fig.tight_layout()\n",
    "    fig.suptitle(\n",
    "        f\"ROC plots for one-vs-rest performances \"\n",
    "        f\"(on evaluation data, n={y_pred_probs_test.shape[1]}\",\n",
    "        fontsize=22,\n",
    "    )\n",
    "    fig.tight_layout()\n",
    "    fig.show()\n",
    "\n",
    "    return roc_auc_dict, fig\n",
    "\n",
    "\n",
    "roc_auc_dict, fig = plot_roc_curves(y_test, y_pred_probs_test)"
   ]
  },
  {
   "cell_type": "code",
   "execution_count": 16,
   "id": "e3570197",
   "metadata": {
    "execution": {
     "iopub.execute_input": "2022-07-17T06:46:32.499049Z",
     "iopub.status.busy": "2022-07-17T06:46:32.498731Z",
     "iopub.status.idle": "2022-07-17T06:46:32.733235Z",
     "shell.execute_reply": "2022-07-17T06:46:32.732422Z"
    },
    "papermill": {
     "duration": 0.24586,
     "end_time": "2022-07-17T06:46:32.735352",
     "exception": false,
     "start_time": "2022-07-17T06:46:32.489492",
     "status": "completed"
    },
    "tags": []
   },
   "outputs": [],
   "source": [
    "logger.log_figure(\"per-digit-roc-curves.png\", fig)"
   ]
  },
  {
   "cell_type": "code",
   "execution_count": 17,
   "id": "bf5dcd35",
   "metadata": {
    "execution": {
     "iopub.execute_input": "2022-07-17T06:46:32.748096Z",
     "iopub.status.busy": "2022-07-17T06:46:32.747786Z",
     "iopub.status.idle": "2022-07-17T06:46:32.752423Z",
     "shell.execute_reply": "2022-07-17T06:46:32.751819Z"
    },
    "papermill": {
     "duration": 0.014122,
     "end_time": "2022-07-17T06:46:32.755106",
     "exception": false,
     "start_time": "2022-07-17T06:46:32.740984",
     "status": "completed"
    },
    "tags": []
   },
   "outputs": [
    {
     "data": {
      "text/plain": [
       "{'0': 1.0,\n",
       " '1': 0.9987628865979382,\n",
       " '2': 1.0,\n",
       " '3': 0.9998125585754452,\n",
       " '4': 0.9995427526291724,\n",
       " '5': 0.9991002811621369,\n",
       " '6': 0.999923792104862,\n",
       " '7': 0.9998856881572931,\n",
       " '8': 0.9930249054224465,\n",
       " '9': 0.9994284407864655}"
      ]
     },
     "execution_count": 17,
     "metadata": {},
     "output_type": "execute_result"
    }
   ],
   "source": [
    "roc_auc_dict"
   ]
  },
  {
   "cell_type": "code",
   "execution_count": 18,
   "id": "98a1dbed",
   "metadata": {
    "execution": {
     "iopub.execute_input": "2022-07-17T06:46:32.767810Z",
     "iopub.status.busy": "2022-07-17T06:46:32.767474Z",
     "iopub.status.idle": "2022-07-17T06:46:32.771605Z",
     "shell.execute_reply": "2022-07-17T06:46:32.770952Z"
    },
    "papermill": {
     "duration": 0.013189,
     "end_time": "2022-07-17T06:46:32.773964",
     "exception": false,
     "start_time": "2022-07-17T06:46:32.760775",
     "status": "completed"
    },
    "tags": []
   },
   "outputs": [
    {
     "name": "stdout",
     "output_type": "stream",
     "text": [
      " - Logging roc_auc_per_digit (json) : {'0': 1.0, '1': 0.9987628865979382, '2': 1.0, '3': 0.9998125585754452, '4': 0.9995427526291724, '5': 0.9991002811621369, '6': 0.999923792104862, '7': 0.9998856881572931, '8': 0.9930249054224465, '9': 0.9994284407864655}\n"
     ]
    }
   ],
   "source": [
    "logger.log_value(\"roc_auc_per_digit\", roc_auc_dict)"
   ]
  },
  {
   "cell_type": "markdown",
   "id": "2b51b836",
   "metadata": {
    "papermill": {
     "duration": 0.00584,
     "end_time": "2022-07-17T06:46:32.785321",
     "exception": false,
     "start_time": "2022-07-17T06:46:32.779481",
     "status": "completed"
    },
    "tags": []
   },
   "source": [
    "### Compute and log mean ROC AUC score averaged over all digits"
   ]
  },
  {
   "cell_type": "code",
   "execution_count": 19,
   "id": "85ed5461",
   "metadata": {
    "execution": {
     "iopub.execute_input": "2022-07-17T06:46:32.798104Z",
     "iopub.status.busy": "2022-07-17T06:46:32.797824Z",
     "iopub.status.idle": "2022-07-17T06:46:32.810956Z",
     "shell.execute_reply": "2022-07-17T06:46:32.810314Z"
    },
    "papermill": {
     "duration": 0.021915,
     "end_time": "2022-07-17T06:46:32.812654",
     "exception": false,
     "start_time": "2022-07-17T06:46:32.790739",
     "status": "completed"
    },
    "tags": []
   },
   "outputs": [
    {
     "name": "stdout",
     "output_type": "stream",
     "text": [
      " - Logging roc_auc_class_mean (float) : 0.9989481305435758\n"
     ]
    }
   ],
   "source": [
    "roc_auc_macro = np.mean(list(roc_auc_dict.values()))\n",
    "\n",
    "logger.log_float(\"roc_auc_class_mean\", roc_auc_macro)\n",
    "\n",
    "# assert that the same value can be computed directly using sklearn\n",
    "assert roc_auc_macro == metrics.roc_auc_score(\n",
    "    y_test, y_pred_probs_test, average=\"macro\", multi_class=\"ovr\"\n",
    ")"
   ]
  },
  {
   "cell_type": "code",
   "execution_count": 20,
   "id": "cba051df",
   "metadata": {
    "execution": {
     "iopub.execute_input": "2022-07-17T06:46:32.825211Z",
     "iopub.status.busy": "2022-07-17T06:46:32.824929Z",
     "iopub.status.idle": "2022-07-17T06:46:32.827851Z",
     "shell.execute_reply": "2022-07-17T06:46:32.827221Z"
    },
    "lines_to_next_cell": 0,
    "papermill": {
     "duration": 0.011005,
     "end_time": "2022-07-17T06:46:32.829538",
     "exception": false,
     "start_time": "2022-07-17T06:46:32.818533",
     "status": "completed"
    },
    "tags": []
   },
   "outputs": [],
   "source": [
    "# ---"
   ]
  },
  {
   "cell_type": "code",
   "execution_count": null,
   "id": "929b4c3b",
   "metadata": {
    "papermill": {
     "duration": 0.005769,
     "end_time": "2022-07-17T06:46:32.841178",
     "exception": false,
     "start_time": "2022-07-17T06:46:32.835409",
     "status": "completed"
    },
    "tags": []
   },
   "outputs": [],
   "source": []
  }
 ],
 "metadata": {
  "jupytext": {
   "cell_metadata_filter": "tags,-all",
   "main_language": "python",
   "notebook_metadata_filter": "-all"
  },
  "language_info": {
   "codemirror_mode": {
    "name": "ipython",
    "version": 3
   },
   "file_extension": ".py",
   "mimetype": "text/x-python",
   "name": "python",
   "nbconvert_exporter": "python",
   "pygments_lexer": "ipython3",
   "version": "3.8.10"
  },
  "papermill": {
   "default_parameters": {},
   "duration": 9.29663,
   "end_time": "2022-07-17T06:46:33.864831",
   "environment_variables": {},
   "exception": null,
   "input_path": "/home/host_user/workspace/mnist-demo-pipeline/mnist-demo-pipeline/notebooks/temp-notebook-lrk1dgmq.ipynb",
   "output_path": "notebooks/benchmark-model.ipynb",
   "parameters": {
    "P": {
     "_opentelemetry_traceparent": "00-48e81b648307f6a2016578770d185db5-66bbcae3a48326eb-01",
     "pipeline.data_lake_root": "/pipeline-outputs/data-lake",
     "pipeline.github.actor": "matiasdahl",
     "pipeline.github.base_ref": "",
     "pipeline.github.event_name": "schedule",
     "pipeline.github.head_ref": "",
     "pipeline.github.job": "run-tests-pipeline-and-persist-pipeline-outputs",
     "pipeline.github.ref": "refs/heads/development",
     "pipeline.github.ref_name": "development",
     "pipeline.github.ref_type": "branch",
     "pipeline.github.repository": "pynb-dag-runner/mnist-digits-demo-pipeline",
     "pipeline.github.run_id": "2684555341",
     "pipeline.github.runner_name": "Hosted Agent",
     "pipeline.github.sha": "147a1be9916173fd4d2cd011d8d51e3411215850",
     "pipeline.github.workflow": "Run automated tests, pipeline and deploy results to static reporting site",
     "pipeline.pipeline_run_id": "a19f8802-c54d-483a-8499-7b6b7a5c98be",
     "pipeline.run_environment": "ci",
     "run.retry_nr": "0",
     "task.max_nr_retries": "1",
     "task.notebook": "notebooks/benchmark-model.py",
     "task.nr_train_images": 800,
     "task.num_cpus": 1,
     "task.timeout_s": "None"
    }
   },
   "start_time": "2022-07-17T06:46:24.568201",
   "version": "2.3.3"
  }
 },
 "nbformat": 4,
 "nbformat_minor": 5
}