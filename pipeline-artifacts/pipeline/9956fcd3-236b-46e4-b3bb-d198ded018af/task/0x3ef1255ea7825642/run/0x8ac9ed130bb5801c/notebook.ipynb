{
 "cells": [
  {
   "cell_type": "markdown",
   "id": "3f55b495",
   "metadata": {
    "papermill": {
     "duration": 0.00581,
     "end_time": "2022-07-18T06:51:45.509465",
     "exception": false,
     "start_time": "2022-07-18T06:51:45.503655",
     "status": "completed"
    },
    "tags": []
   },
   "source": [
    "# Benchmark model\n",
    "\n",
    "The purpose of this notebook is to benchmark persisted onnx-model (trained in the\n",
    "previous step) against evaluation set."
   ]
  },
  {
   "cell_type": "markdown",
   "id": "5f9051aa",
   "metadata": {
    "papermill": {
     "duration": 0.004574,
     "end_time": "2022-07-18T06:51:45.519736",
     "exception": false,
     "start_time": "2022-07-18T06:51:45.515162",
     "status": "completed"
    },
    "tags": []
   },
   "source": [
    "### Determine run parameters"
   ]
  },
  {
   "cell_type": "code",
   "execution_count": 1,
   "id": "7175a72c",
   "metadata": {
    "execution": {
     "iopub.execute_input": "2022-07-18T06:51:45.531415Z",
     "iopub.status.busy": "2022-07-18T06:51:45.531041Z",
     "iopub.status.idle": "2022-07-18T06:51:45.543973Z",
     "shell.execute_reply": "2022-07-18T06:51:45.542766Z"
    },
    "lines_to_next_cell": 0,
    "papermill": {
     "duration": 0.021125,
     "end_time": "2022-07-18T06:51:45.545885",
     "exception": false,
     "start_time": "2022-07-18T06:51:45.524760",
     "status": "completed"
    },
    "tags": []
   },
   "outputs": [],
   "source": [
    "# ----------------- Parameters for interactive development --------------\n",
    "P = {\n",
    "    \"pipeline.data_lake_root\": \"/pipeline-outputs/data-lake\",\n",
    "    \"task.nr_train_images\": 600,\n",
    "}"
   ]
  },
  {
   "cell_type": "code",
   "execution_count": 2,
   "id": "e86df570",
   "metadata": {
    "execution": {
     "iopub.execute_input": "2022-07-18T06:51:45.556907Z",
     "iopub.status.busy": "2022-07-18T06:51:45.556666Z",
     "iopub.status.idle": "2022-07-18T06:51:45.559845Z",
     "shell.execute_reply": "2022-07-18T06:51:45.559179Z"
    },
    "lines_to_next_cell": 0,
    "papermill": {
     "duration": 0.011835,
     "end_time": "2022-07-18T06:51:45.562610",
     "exception": false,
     "start_time": "2022-07-18T06:51:45.550775",
     "status": "completed"
    },
    "tags": [
     "parameters"
    ]
   },
   "outputs": [],
   "source": [
    "# - During automated runs parameters will be injected in the below cell -"
   ]
  },
  {
   "cell_type": "code",
   "execution_count": 3,
   "id": "3f1b6b89",
   "metadata": {
    "execution": {
     "iopub.execute_input": "2022-07-18T06:51:45.573254Z",
     "iopub.status.busy": "2022-07-18T06:51:45.573013Z",
     "iopub.status.idle": "2022-07-18T06:51:45.578735Z",
     "shell.execute_reply": "2022-07-18T06:51:45.578090Z"
    },
    "papermill": {
     "duration": 0.013996,
     "end_time": "2022-07-18T06:51:45.581607",
     "exception": false,
     "start_time": "2022-07-18T06:51:45.567611",
     "status": "completed"
    },
    "tags": [
     "injected-parameters"
    ]
   },
   "outputs": [],
   "source": [
    "# Parameters\n",
    "P = {\n",
    "    \"pipeline.data_lake_root\": \"/pipeline-outputs/data-lake\",\n",
    "    \"pipeline.run_environment\": \"ci\",\n",
    "    \"pipeline.pipeline_run_id\": \"9956fcd3-236b-46e4-b3bb-d198ded018af\",\n",
    "    \"pipeline.github.repository\": \"pynb-dag-runner/mnist-digits-demo-pipeline\",\n",
    "    \"pipeline.github.workflow\": \"Run automated tests, pipeline and deploy results to static reporting site\",\n",
    "    \"pipeline.github.runner_name\": \"Hosted Agent\",\n",
    "    \"pipeline.github.run_id\": \"2688640586\",\n",
    "    \"pipeline.github.actor\": \"matiasdahl\",\n",
    "    \"pipeline.github.job\": \"run-tests-pipeline-and-persist-pipeline-outputs\",\n",
    "    \"pipeline.github.base_ref\": \"\",\n",
    "    \"pipeline.github.head_ref\": \"\",\n",
    "    \"pipeline.github.sha\": \"147a1be9916173fd4d2cd011d8d51e3411215850\",\n",
    "    \"pipeline.github.ref\": \"refs/heads/development\",\n",
    "    \"pipeline.github.ref_type\": \"branch\",\n",
    "    \"pipeline.github.ref_name\": \"development\",\n",
    "    \"pipeline.github.event_name\": \"schedule\",\n",
    "    \"task.nr_train_images\": 1000,\n",
    "    \"task.notebook\": \"notebooks/benchmark-model.py\",\n",
    "    \"task.max_nr_retries\": \"1\",\n",
    "    \"run.retry_nr\": \"0\",\n",
    "    \"task.timeout_s\": \"None\",\n",
    "    \"task.num_cpus\": 1,\n",
    "    \"_opentelemetry_traceparent\": \"00-5bcb631ca66250a3838fb46c02b9727a-e3c3768969851388-01\",\n",
    "}\n"
   ]
  },
  {
   "cell_type": "code",
   "execution_count": 4,
   "id": "92e008e0",
   "metadata": {
    "execution": {
     "iopub.execute_input": "2022-07-18T06:51:45.594280Z",
     "iopub.status.busy": "2022-07-18T06:51:45.594042Z",
     "iopub.status.idle": "2022-07-18T06:51:45.597615Z",
     "shell.execute_reply": "2022-07-18T06:51:45.597014Z"
    },
    "lines_to_next_cell": 0,
    "papermill": {
     "duration": 0.013703,
     "end_time": "2022-07-18T06:51:45.600602",
     "exception": false,
     "start_time": "2022-07-18T06:51:45.586899",
     "status": "completed"
    },
    "tags": []
   },
   "outputs": [],
   "source": [
    "# -----------------------------------------------------------------------"
   ]
  },
  {
   "cell_type": "markdown",
   "id": "fe20708b",
   "metadata": {
    "papermill": {
     "duration": 0.005348,
     "end_time": "2022-07-18T06:51:45.610495",
     "exception": false,
     "start_time": "2022-07-18T06:51:45.605147",
     "status": "completed"
    },
    "tags": []
   },
   "source": [
    "---"
   ]
  },
  {
   "cell_type": "markdown",
   "id": "2691c3c6",
   "metadata": {
    "lines_to_next_cell": 2,
    "papermill": {
     "duration": 0.005144,
     "end_time": "2022-07-18T06:51:45.620225",
     "exception": false,
     "start_time": "2022-07-18T06:51:45.615081",
     "status": "completed"
    },
    "tags": []
   },
   "source": [
    "### Notebook code"
   ]
  },
  {
   "cell_type": "code",
   "execution_count": 5,
   "id": "823f2f6c",
   "metadata": {
    "execution": {
     "iopub.execute_input": "2022-07-18T06:51:45.630813Z",
     "iopub.status.busy": "2022-07-18T06:51:45.630571Z",
     "iopub.status.idle": "2022-07-18T06:51:46.959102Z",
     "shell.execute_reply": "2022-07-18T06:51:46.958068Z"
    },
    "papermill": {
     "duration": 1.336465,
     "end_time": "2022-07-18T06:51:46.961042",
     "exception": false,
     "start_time": "2022-07-18T06:51:45.624577",
     "status": "completed"
    },
    "tags": []
   },
   "outputs": [
    {
     "name": "stderr",
     "output_type": "stream",
     "text": [
      "2022-07-18 06:51:46,779\tINFO worker.py:842 -- Connecting to existing Ray cluster at address: 172.17.0.2:6379\n"
     ]
    }
   ],
   "source": [
    "import itertools as it\n",
    "\n",
    "#\n",
    "import numpy as np\n",
    "import matplotlib.pyplot as plt\n",
    "\n",
    "#\n",
    "from pynb_dag_runner.tasks.task_opentelemetry_logging import PydarLogger\n",
    "\n",
    "#\n",
    "from common.io import datalake_root\n",
    "\n",
    "logger = PydarLogger(P)"
   ]
  },
  {
   "cell_type": "markdown",
   "id": "78b20564",
   "metadata": {
    "papermill": {
     "duration": 0.013858,
     "end_time": "2022-07-18T06:51:46.980034",
     "exception": false,
     "start_time": "2022-07-18T06:51:46.966176",
     "status": "completed"
    },
    "tags": []
   },
   "source": [
    "## Load persisted onnx-model and evaluation data"
   ]
  },
  {
   "cell_type": "code",
   "execution_count": 6,
   "id": "18e48767",
   "metadata": {
    "execution": {
     "iopub.execute_input": "2022-07-18T06:51:46.995001Z",
     "iopub.status.busy": "2022-07-18T06:51:46.994618Z",
     "iopub.status.idle": "2022-07-18T06:51:46.999009Z",
     "shell.execute_reply": "2022-07-18T06:51:46.998217Z"
    },
    "papermill": {
     "duration": 0.013982,
     "end_time": "2022-07-18T06:51:47.002013",
     "exception": false,
     "start_time": "2022-07-18T06:51:46.988031",
     "status": "completed"
    },
    "tags": []
   },
   "outputs": [],
   "source": [
    "from common.io import read_onnx, get_onnx_inputs, get_onnx_outputs, read_numpy"
   ]
  },
  {
   "cell_type": "code",
   "execution_count": 7,
   "id": "653aec28",
   "metadata": {
    "execution": {
     "iopub.execute_input": "2022-07-18T06:51:47.014396Z",
     "iopub.status.busy": "2022-07-18T06:51:47.014044Z",
     "iopub.status.idle": "2022-07-18T06:51:47.025760Z",
     "shell.execute_reply": "2022-07-18T06:51:47.025109Z"
    },
    "lines_to_next_cell": 0,
    "papermill": {
     "duration": 0.019439,
     "end_time": "2022-07-18T06:51:47.027623",
     "exception": false,
     "start_time": "2022-07-18T06:51:47.008184",
     "status": "completed"
    },
    "tags": []
   },
   "outputs": [],
   "source": [
    "onnx_inference_session = read_onnx(\n",
    "    datalake_root(P)\n",
    "    / \"models\"\n",
    "    / f\"nr_train_images={P['task.nr_train_images']}\"\n",
    "    / \"model.onnx\"\n",
    ")"
   ]
  },
  {
   "cell_type": "markdown",
   "id": "fc45a9b6",
   "metadata": {
    "papermill": {
     "duration": 0.004864,
     "end_time": "2022-07-18T06:51:47.037457",
     "exception": false,
     "start_time": "2022-07-18T06:51:47.032593",
     "status": "completed"
    },
    "tags": []
   },
   "source": [
    "### Record structure of inputs and outputs for ONNX model\n",
    "\n",
    "(this should likely be done in training notebook)"
   ]
  },
  {
   "cell_type": "code",
   "execution_count": 8,
   "id": "080a9a1e",
   "metadata": {
    "execution": {
     "iopub.execute_input": "2022-07-18T06:51:47.048189Z",
     "iopub.status.busy": "2022-07-18T06:51:47.047929Z",
     "iopub.status.idle": "2022-07-18T06:51:47.054165Z",
     "shell.execute_reply": "2022-07-18T06:51:47.053554Z"
    },
    "papermill": {
     "duration": 0.016412,
     "end_time": "2022-07-18T06:51:47.058550",
     "exception": false,
     "start_time": "2022-07-18T06:51:47.042138",
     "status": "completed"
    },
    "tags": []
   },
   "outputs": [
    {
     "name": "stdout",
     "output_type": "stream",
     "text": [
      "{\n",
      "  \"inputs\": [\n",
      "    {\n",
      "      \"name\": \"float_input_8x8_image\",\n",
      "      \"shape\": [\n",
      "        null,\n",
      "        64\n",
      "      ],\n",
      "      \"type\": \"tensor(float)\"\n",
      "    }\n",
      "  ],\n",
      "  \"outputs\": [\n",
      "    {\n",
      "      \"name\": \"output_label\",\n",
      "      \"shape\": [\n",
      "        null\n",
      "      ],\n",
      "      \"type\": \"tensor(int64)\"\n",
      "    },\n",
      "    {\n",
      "      \"name\": \"output_probability\",\n",
      "      \"shape\": [],\n",
      "      \"type\": \"seq(map(int64,tensor(float)))\"\n",
      "    }\n",
      "  ]\n",
      "}\n"
     ]
    }
   ],
   "source": [
    "import json\n",
    "\n",
    "onnx_io = json.dumps(\n",
    "    {\n",
    "        \"inputs\": get_onnx_inputs(onnx_inference_session),\n",
    "        \"outputs\": get_onnx_outputs(onnx_inference_session),\n",
    "    },\n",
    "    indent=2,\n",
    ")\n",
    "\n",
    "\n",
    "logger.log_artefact(\"onnx_io_structure.json\", onnx_io)\n",
    "print(onnx_io)"
   ]
  },
  {
   "cell_type": "markdown",
   "id": "4a3e7dad",
   "metadata": {
    "papermill": {
     "duration": 0.005089,
     "end_time": "2022-07-18T06:51:47.068483",
     "exception": false,
     "start_time": "2022-07-18T06:51:47.063394",
     "status": "completed"
    },
    "tags": []
   },
   "source": [
    "### Evaluate model performance on evaluation data set"
   ]
  },
  {
   "cell_type": "code",
   "execution_count": 9,
   "id": "b7c701c2",
   "metadata": {
    "execution": {
     "iopub.execute_input": "2022-07-18T06:51:47.079029Z",
     "iopub.status.busy": "2022-07-18T06:51:47.078766Z",
     "iopub.status.idle": "2022-07-18T06:51:47.083876Z",
     "shell.execute_reply": "2022-07-18T06:51:47.083152Z"
    },
    "papermill": {
     "duration": 0.01523,
     "end_time": "2022-07-18T06:51:47.088051",
     "exception": false,
     "start_time": "2022-07-18T06:51:47.072821",
     "status": "completed"
    },
    "tags": []
   },
   "outputs": [],
   "source": [
    "# load evaluation data\n",
    "X_test = read_numpy(datalake_root(P) / \"test-data\" / \"digits.numpy\")\n",
    "y_test = read_numpy(datalake_root(P) / \"test-data\" / \"labels.numpy\")"
   ]
  },
  {
   "cell_type": "code",
   "execution_count": 10,
   "id": "0ad06e22",
   "metadata": {
    "execution": {
     "iopub.execute_input": "2022-07-18T06:51:47.100311Z",
     "iopub.status.busy": "2022-07-18T06:51:47.100054Z",
     "iopub.status.idle": "2022-07-18T06:51:47.116127Z",
     "shell.execute_reply": "2022-07-18T06:51:47.115547Z"
    },
    "papermill": {
     "duration": 0.023985,
     "end_time": "2022-07-18T06:51:47.118093",
     "exception": false,
     "start_time": "2022-07-18T06:51:47.094108",
     "status": "completed"
    },
    "tags": []
   },
   "outputs": [],
   "source": [
    "def get_model_outputs(X, onnx_inference_session):\n",
    "    y_pred_labels, y_pred_map = onnx_inference_session.run(\n",
    "        [\"output_label\", \"output_probability\"],\n",
    "        {\"float_input_8x8_image\": X.astype(np.float32)},\n",
    "    )\n",
    "    y_pred_probs = np.array(\n",
    "        [[probabilities[digit] for digit in range(10)] for probabilities in y_pred_map]\n",
    "    )\n",
    "\n",
    "    assert y_pred_labels.shape == (X.shape[0],)\n",
    "    assert y_pred_probs.shape == (X.shape[0], 10)\n",
    "\n",
    "    return y_pred_labels, y_pred_probs\n",
    "\n",
    "\n",
    "# Note: as shown in the training notebook, the predicted labels and probabilities\n",
    "# computed below need not be compatible.\n",
    "y_pred_labels_test, y_pred_probs_test = get_model_outputs(\n",
    "    X_test, onnx_inference_session\n",
    ")"
   ]
  },
  {
   "cell_type": "markdown",
   "id": "0a19b971",
   "metadata": {
    "papermill": {
     "duration": 0.004951,
     "end_time": "2022-07-18T06:51:47.128287",
     "exception": false,
     "start_time": "2022-07-18T06:51:47.123336",
     "status": "completed"
    },
    "tags": []
   },
   "source": [
    "### Confusion matrix"
   ]
  },
  {
   "cell_type": "code",
   "execution_count": 11,
   "id": "f97a736c",
   "metadata": {
    "execution": {
     "iopub.execute_input": "2022-07-18T06:51:47.139794Z",
     "iopub.status.busy": "2022-07-18T06:51:47.139538Z",
     "iopub.status.idle": "2022-07-18T06:51:47.142722Z",
     "shell.execute_reply": "2022-07-18T06:51:47.141919Z"
    },
    "papermill": {
     "duration": 0.012391,
     "end_time": "2022-07-18T06:51:47.145825",
     "exception": false,
     "start_time": "2022-07-18T06:51:47.133434",
     "status": "completed"
    },
    "tags": []
   },
   "outputs": [],
   "source": [
    "# TODO"
   ]
  },
  {
   "cell_type": "markdown",
   "id": "a24e4ab6",
   "metadata": {
    "papermill": {
     "duration": 0.005424,
     "end_time": "2022-07-18T06:51:47.156446",
     "exception": false,
     "start_time": "2022-07-18T06:51:47.151022",
     "status": "completed"
    },
    "tags": []
   },
   "source": [
    "### Plot predicted probabilities for each classifier over all evaluation digit images"
   ]
  },
  {
   "cell_type": "code",
   "execution_count": 12,
   "id": "0959ccd5",
   "metadata": {
    "execution": {
     "iopub.execute_input": "2022-07-18T06:51:47.168005Z",
     "iopub.status.busy": "2022-07-18T06:51:47.167720Z",
     "iopub.status.idle": "2022-07-18T06:51:50.812925Z",
     "shell.execute_reply": "2022-07-18T06:51:50.812262Z"
    },
    "papermill": {
     "duration": 3.653111,
     "end_time": "2022-07-18T06:51:50.814529",
     "exception": false,
     "start_time": "2022-07-18T06:51:47.161418",
     "status": "completed"
    },
    "tags": []
   },
   "outputs": [
    {
     "data": {
      "image/png": "[encoded data removed]",
      "text/plain": [
       "<Figure size 1152x432 with 10 Axes>"
      ]
     },
     "metadata": {
      "needs_background": "light"
     },
     "output_type": "display_data"
    }
   ],
   "source": [
    "def plot_per_digit_probabilities(y_pred_probs):\n",
    "    fig, axs = plt.subplots(nrows=2, ncols=5, figsize=(16, 6))\n",
    "\n",
    "    for (r, c), digit, ax in zip(\n",
    "        it.product(range(2), range(5)), range(10), axs.reshape(-1)\n",
    "    ):\n",
    "        ax.hist(y_pred_probs_test[:, digit], bins=20)\n",
    "\n",
    "        ax.set_title(f\"Digit {digit}\")\n",
    "        if r == 1 and c == 2:\n",
    "            ax.set_xlabel(\"probability\", fontsize=16)\n",
    "\n",
    "        if c == 0:\n",
    "            ax.set_ylabel(\"counts\", fontsize=16)\n",
    "        ax.set_yscale(\"log\")\n",
    "\n",
    "    fig.tight_layout()\n",
    "    fig.suptitle(\n",
    "        f\"Distributions of prediction probabilities for each digit \"\n",
    "        f\"(on evaluation data, n={y_pred_probs.shape[0]})\",\n",
    "        fontsize=20,\n",
    "    )\n",
    "    fig.tight_layout()\n",
    "    fig.show()\n",
    "\n",
    "    return fig\n",
    "\n",
    "\n",
    "fig = plot_per_digit_probabilities(y_pred_probs_test)"
   ]
  },
  {
   "cell_type": "markdown",
   "id": "80e9ce02",
   "metadata": {
    "papermill": {
     "duration": 0.006453,
     "end_time": "2022-07-18T06:51:50.828539",
     "exception": false,
     "start_time": "2022-07-18T06:51:50.822086",
     "status": "completed"
    },
    "tags": []
   },
   "source": [
    "From the above distributions we see that most digits have clear separation between\n",
    "high and lower probabilities. Morover, in each case there is roughly an order of\n",
    "magnitude more of digits with low probabilities. This is compatible with digits\n",
    "being roughly evenly distributed in the data."
   ]
  },
  {
   "cell_type": "code",
   "execution_count": 13,
   "id": "26f9778f",
   "metadata": {
    "execution": {
     "iopub.execute_input": "2022-07-18T06:51:50.841762Z",
     "iopub.status.busy": "2022-07-18T06:51:50.841343Z",
     "iopub.status.idle": "2022-07-18T06:51:51.356559Z",
     "shell.execute_reply": "2022-07-18T06:51:51.355632Z"
    },
    "papermill": {
     "duration": 0.524314,
     "end_time": "2022-07-18T06:51:51.358720",
     "exception": false,
     "start_time": "2022-07-18T06:51:50.834406",
     "status": "completed"
    },
    "tags": []
   },
   "outputs": [],
   "source": [
    "logger.log_figure(\"per-digit-probabilities.png\", fig)"
   ]
  },
  {
   "cell_type": "markdown",
   "id": "37189144",
   "metadata": {
    "papermill": {
     "duration": 0.006476,
     "end_time": "2022-07-18T06:51:51.371715",
     "exception": false,
     "start_time": "2022-07-18T06:51:51.365239",
     "status": "completed"
    },
    "tags": []
   },
   "source": [
    "### Plot ROC curves for individual one-vs-rest classifiers"
   ]
  },
  {
   "cell_type": "code",
   "execution_count": 14,
   "id": "2457ecee",
   "metadata": {
    "execution": {
     "iopub.execute_input": "2022-07-18T06:51:51.385939Z",
     "iopub.status.busy": "2022-07-18T06:51:51.385668Z",
     "iopub.status.idle": "2022-07-18T06:51:51.866699Z",
     "shell.execute_reply": "2022-07-18T06:51:51.865737Z"
    },
    "papermill": {
     "duration": 0.490437,
     "end_time": "2022-07-18T06:51:51.868969",
     "exception": false,
     "start_time": "2022-07-18T06:51:51.378532",
     "status": "completed"
    },
    "tags": []
   },
   "outputs": [],
   "source": [
    "from sklearn import metrics"
   ]
  },
  {
   "cell_type": "code",
   "execution_count": 15,
   "id": "6b2c7c1f",
   "metadata": {
    "execution": {
     "iopub.execute_input": "2022-07-18T06:51:51.883154Z",
     "iopub.status.busy": "2022-07-18T06:51:51.882762Z",
     "iopub.status.idle": "2022-07-18T06:51:53.072783Z",
     "shell.execute_reply": "2022-07-18T06:51:53.072138Z"
    },
    "papermill": {
     "duration": 1.199211,
     "end_time": "2022-07-18T06:51:53.074837",
     "exception": false,
     "start_time": "2022-07-18T06:51:51.875626",
     "status": "completed"
    },
    "tags": []
   },
   "outputs": [
    {
     "data": {
      "image/png": "[encoded data removed]",
      "text/plain": [
       "<Figure size 1152x576 with 10 Axes>"
      ]
     },
     "metadata": {
      "needs_background": "light"
     },
     "output_type": "display_data"
    }
   ],
   "source": [
    "def plot_roc_curves(y, y_pred_probs):\n",
    "    # based on example code\n",
    "    # https://scikit-learn.org/stable/auto_examples/model_selection/plot_roc.html\n",
    "\n",
    "    fig, axs = plt.subplots(nrows=2, ncols=5, figsize=(16, 8))\n",
    "\n",
    "    roc_auc_dict = {}\n",
    "\n",
    "    for (r, c), digit, ax in zip(\n",
    "        it.product(range(2), range(5)), range(10), axs.reshape(-1)\n",
    "    ):\n",
    "        fpr, tpr, _ = metrics.roc_curve(y == digit, y_pred_probs[:, digit])\n",
    "        auc = metrics.auc(fpr, tpr)\n",
    "        roc_auc_dict[str(digit)] = auc\n",
    "\n",
    "        ax.plot(fpr, tpr, label=f\"ROC AUC={round(auc, 3)}\")\n",
    "\n",
    "        ax.set_title(f\"\\nDigit {digit}\", fontsize=16)\n",
    "        if r == 1:\n",
    "            ax.set_xlabel(\"FPR\", fontsize=18)\n",
    "\n",
    "        if c == 0:\n",
    "            ax.set_ylabel(\"TPR\", fontsize=18)\n",
    "\n",
    "        ax.set_xlim([-0.05, 1.05])\n",
    "        ax.set_ylim([-0.05, 1.05])\n",
    "        ax.legend(loc=\"lower right\", frameon=False, fontsize=14)\n",
    "\n",
    "    fig.tight_layout()\n",
    "    fig.suptitle(\n",
    "        f\"ROC plots for one-vs-rest performances \"\n",
    "        f\"(on evaluation data, n={y_pred_probs_test.shape[1]}\",\n",
    "        fontsize=22,\n",
    "    )\n",
    "    fig.tight_layout()\n",
    "    fig.show()\n",
    "\n",
    "    return roc_auc_dict, fig\n",
    "\n",
    "\n",
    "roc_auc_dict, fig = plot_roc_curves(y_test, y_pred_probs_test)"
   ]
  },
  {
   "cell_type": "code",
   "execution_count": 16,
   "id": "ee480324",
   "metadata": {
    "execution": {
     "iopub.execute_input": "2022-07-18T06:51:53.089381Z",
     "iopub.status.busy": "2022-07-18T06:51:53.088640Z",
     "iopub.status.idle": "2022-07-18T06:51:53.379856Z",
     "shell.execute_reply": "2022-07-18T06:51:53.378955Z"
    },
    "papermill": {
     "duration": 0.300761,
     "end_time": "2022-07-18T06:51:53.382187",
     "exception": false,
     "start_time": "2022-07-18T06:51:53.081426",
     "status": "completed"
    },
    "tags": []
   },
   "outputs": [],
   "source": [
    "logger.log_figure(\"per-digit-roc-curves.png\", fig)"
   ]
  },
  {
   "cell_type": "code",
   "execution_count": 17,
   "id": "7b24fea5",
   "metadata": {
    "execution": {
     "iopub.execute_input": "2022-07-18T06:51:53.402087Z",
     "iopub.status.busy": "2022-07-18T06:51:53.401796Z",
     "iopub.status.idle": "2022-07-18T06:51:53.406838Z",
     "shell.execute_reply": "2022-07-18T06:51:53.406264Z"
    },
    "papermill": {
     "duration": 0.018394,
     "end_time": "2022-07-18T06:51:53.412382",
     "exception": false,
     "start_time": "2022-07-18T06:51:53.393988",
     "status": "completed"
    },
    "tags": []
   },
   "outputs": [
    {
     "data": {
      "text/plain": [
       "{'0': 1.0,\n",
       " '1': 0.998987816307404,\n",
       " '2': 1.0,\n",
       " '3': 0.9998875351452671,\n",
       " '4': 0.9996189605243103,\n",
       " '5': 0.9994001874414246,\n",
       " '6': 0.999923792104862,\n",
       " '7': 0.9997713763145862,\n",
       " '8': 0.9953105296343001,\n",
       " '9': 0.9995808565767414}"
      ]
     },
     "execution_count": 17,
     "metadata": {},
     "output_type": "execute_result"
    }
   ],
   "source": [
    "roc_auc_dict"
   ]
  },
  {
   "cell_type": "code",
   "execution_count": 18,
   "id": "4825fa23",
   "metadata": {
    "execution": {
     "iopub.execute_input": "2022-07-18T06:51:53.426932Z",
     "iopub.status.busy": "2022-07-18T06:51:53.426674Z",
     "iopub.status.idle": "2022-07-18T06:51:53.431197Z",
     "shell.execute_reply": "2022-07-18T06:51:53.430597Z"
    },
    "papermill": {
     "duration": 0.015695,
     "end_time": "2022-07-18T06:51:53.434925",
     "exception": false,
     "start_time": "2022-07-18T06:51:53.419230",
     "status": "completed"
    },
    "tags": []
   },
   "outputs": [
    {
     "name": "stdout",
     "output_type": "stream",
     "text": [
      " - Logging roc_auc_per_digit (json) : {'0': 1.0, '1': 0.998987816307404, '2': 1.0, '3': 0.9998875351452671, '4': 0.9996189605243103, '5': 0.9994001874414246, '6': 0.999923792104862, '7': 0.9997713763145862, '8': 0.9953105296343001, '9': 0.9995808565767414}\n"
     ]
    }
   ],
   "source": [
    "logger.log_value(\"roc_auc_per_digit\", roc_auc_dict)"
   ]
  },
  {
   "cell_type": "markdown",
   "id": "6666293d",
   "metadata": {
    "papermill": {
     "duration": 0.006441,
     "end_time": "2022-07-18T06:51:53.447849",
     "exception": false,
     "start_time": "2022-07-18T06:51:53.441408",
     "status": "completed"
    },
    "tags": []
   },
   "source": [
    "### Compute and log mean ROC AUC score averaged over all digits"
   ]
  },
  {
   "cell_type": "code",
   "execution_count": 19,
   "id": "60f54440",
   "metadata": {
    "execution": {
     "iopub.execute_input": "2022-07-18T06:51:53.462441Z",
     "iopub.status.busy": "2022-07-18T06:51:53.462164Z",
     "iopub.status.idle": "2022-07-18T06:51:53.477795Z",
     "shell.execute_reply": "2022-07-18T06:51:53.477034Z"
    },
    "papermill": {
     "duration": 0.025739,
     "end_time": "2022-07-18T06:51:53.480357",
     "exception": false,
     "start_time": "2022-07-18T06:51:53.454618",
     "status": "completed"
    },
    "tags": []
   },
   "outputs": [
    {
     "name": "stdout",
     "output_type": "stream",
     "text": [
      " - Logging roc_auc_class_mean (float) : 0.9992481054048896\n"
     ]
    }
   ],
   "source": [
    "roc_auc_macro = np.mean(list(roc_auc_dict.values()))\n",
    "\n",
    "logger.log_float(\"roc_auc_class_mean\", roc_auc_macro)\n",
    "\n",
    "# assert that the same value can be computed directly using sklearn\n",
    "assert roc_auc_macro == metrics.roc_auc_score(\n",
    "    y_test, y_pred_probs_test, average=\"macro\", multi_class=\"ovr\"\n",
    ")"
   ]
  },
  {
   "cell_type": "code",
   "execution_count": 20,
   "id": "a38de273",
   "metadata": {
    "execution": {
     "iopub.execute_input": "2022-07-18T06:51:53.497948Z",
     "iopub.status.busy": "2022-07-18T06:51:53.497698Z",
     "iopub.status.idle": "2022-07-18T06:51:53.501925Z",
     "shell.execute_reply": "2022-07-18T06:51:53.501134Z"
    },
    "lines_to_next_cell": 0,
    "papermill": {
     "duration": 0.019798,
     "end_time": "2022-07-18T06:51:53.506542",
     "exception": false,
     "start_time": "2022-07-18T06:51:53.486744",
     "status": "completed"
    },
    "tags": []
   },
   "outputs": [],
   "source": [
    "# ---"
   ]
  },
  {
   "cell_type": "code",
   "execution_count": null,
   "id": "1d5c7180",
   "metadata": {
    "papermill": {
     "duration": 0.006935,
     "end_time": "2022-07-18T06:51:53.520088",
     "exception": false,
     "start_time": "2022-07-18T06:51:53.513153",
     "status": "completed"
    },
    "tags": []
   },
   "outputs": [],
   "source": []
  }
 ],
 "metadata": {
  "jupytext": {
   "cell_metadata_filter": "tags,-all",
   "main_language": "python",
   "notebook_metadata_filter": "-all"
  },
  "language_info": {
   "codemirror_mode": {
    "name": "ipython",
    "version": 3
   },
   "file_extension": ".py",
   "mimetype": "text/x-python",
   "name": "python",
   "nbconvert_exporter": "python",
   "pygments_lexer": "ipython3",
   "version": "3.8.10"
  },
  "papermill": {
   "default_parameters": {},
   "duration": 10.600383,
   "end_time": "2022-07-18T06:51:54.653678",
   "environment_variables": {},
   "exception": null,
   "input_path": "/home/host_user/workspace/mnist-demo-pipeline/mnist-demo-pipeline/notebooks/temp-notebook-vxqg2ose.ipynb",
   "output_path": "notebooks/benchmark-model.ipynb",
   "parameters": {
    "P": {
     "_opentelemetry_traceparent": "00-5bcb631ca66250a3838fb46c02b9727a-e3c3768969851388-01",
     "pipeline.data_lake_root": "/pipeline-outputs/data-lake",
     "pipeline.github.actor": "matiasdahl",
     "pipeline.github.base_ref": "",
     "pipeline.github.event_name": "schedule",
     "pipeline.github.head_ref": "",
     "pipeline.github.job": "run-tests-pipeline-and-persist-pipeline-outputs",
     "pipeline.github.ref": "refs/heads/development",
     "pipeline.github.ref_name": "development",
     "pipeline.github.ref_type": "branch",
     "pipeline.github.repository": "pynb-dag-runner/mnist-digits-demo-pipeline",
     "pipeline.github.run_id": "2688640586",
     "pipeline.github.runner_name": "Hosted Agent",
     "pipeline.github.sha": "147a1be9916173fd4d2cd011d8d51e3411215850",
     "pipeline.github.workflow": "Run automated tests, pipeline and deploy results to static reporting site",
     "pipeline.pipeline_run_id": "9956fcd3-236b-46e4-b3bb-d198ded018af",
     "pipeline.run_environment": "ci",
     "run.retry_nr": "0",
     "task.max_nr_retries": "1",
     "task.notebook": "notebooks/benchmark-model.py",
     "task.nr_train_images": 1000,
     "task.num_cpus": 1,
     "task.timeout_s": "None"
    }
   },
   "start_time": "2022-07-18T06:51:44.053295",
   "version": "2.3.3"
  }
 },
 "nbformat": 4,
 "nbformat_minor": 5
}