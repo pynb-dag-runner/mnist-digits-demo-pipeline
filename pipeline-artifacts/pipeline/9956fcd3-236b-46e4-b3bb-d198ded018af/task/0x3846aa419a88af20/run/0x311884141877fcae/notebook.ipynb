{
 "cells": [
  {
   "cell_type": "markdown",
   "id": "6a313952",
   "metadata": {
    "papermill": {
     "duration": 0.004969,
     "end_time": "2022-07-18T06:51:38.602399",
     "exception": false,
     "start_time": "2022-07-18T06:51:38.597430",
     "status": "completed"
    },
    "tags": []
   },
   "source": [
    "# Train model\n",
    "\n",
    "The purpose of this notebook is:\n",
    "\n",
    "- Load all training data (images and labels).\n",
    "- Limit number of train images to `task.nr_train_images` (value provided as run parameter).\n",
    "- Train a support vector machine model using sklearn.\n",
    "- Persist the trained model using the ONNX format."
   ]
  },
  {
   "cell_type": "markdown",
   "id": "7841d0f8",
   "metadata": {
    "papermill": {
     "duration": 0.003811,
     "end_time": "2022-07-18T06:51:38.611540",
     "exception": false,
     "start_time": "2022-07-18T06:51:38.607729",
     "status": "completed"
    },
    "tags": []
   },
   "source": [
    "### Determine run parameters"
   ]
  },
  {
   "cell_type": "code",
   "execution_count": 1,
   "id": "23cc8453",
   "metadata": {
    "execution": {
     "iopub.execute_input": "2022-07-18T06:51:38.621267Z",
     "iopub.status.busy": "2022-07-18T06:51:38.620880Z",
     "iopub.status.idle": "2022-07-18T06:51:38.641310Z",
     "shell.execute_reply": "2022-07-18T06:51:38.640597Z"
    },
    "lines_to_next_cell": 0,
    "papermill": {
     "duration": 0.028188,
     "end_time": "2022-07-18T06:51:38.644072",
     "exception": false,
     "start_time": "2022-07-18T06:51:38.615884",
     "status": "completed"
    },
    "tags": []
   },
   "outputs": [],
   "source": [
    "# ----------------- Parameters for interactive development --------------\n",
    "P = {\n",
    "    \"pipeline.data_lake_root\": \"/pipeline-outputs/data-lake\",\n",
    "    \"task.nr_train_images\": 600,\n",
    "}"
   ]
  },
  {
   "cell_type": "code",
   "execution_count": 2,
   "id": "e4cb05b8",
   "metadata": {
    "execution": {
     "iopub.execute_input": "2022-07-18T06:51:38.653115Z",
     "iopub.status.busy": "2022-07-18T06:51:38.652839Z",
     "iopub.status.idle": "2022-07-18T06:51:38.656471Z",
     "shell.execute_reply": "2022-07-18T06:51:38.655724Z"
    },
    "lines_to_next_cell": 0,
    "papermill": {
     "duration": 0.012475,
     "end_time": "2022-07-18T06:51:38.660978",
     "exception": false,
     "start_time": "2022-07-18T06:51:38.648503",
     "status": "completed"
    },
    "tags": [
     "parameters"
    ]
   },
   "outputs": [],
   "source": [
    "# - During automated runs parameters will be injected in the below cell -"
   ]
  },
  {
   "cell_type": "code",
   "execution_count": 3,
   "id": "a95071ba",
   "metadata": {
    "execution": {
     "iopub.execute_input": "2022-07-18T06:51:38.669983Z",
     "iopub.status.busy": "2022-07-18T06:51:38.669717Z",
     "iopub.status.idle": "2022-07-18T06:51:38.674949Z",
     "shell.execute_reply": "2022-07-18T06:51:38.674138Z"
    },
    "papermill": {
     "duration": 0.014778,
     "end_time": "2022-07-18T06:51:38.679001",
     "exception": false,
     "start_time": "2022-07-18T06:51:38.664223",
     "status": "completed"
    },
    "tags": [
     "injected-parameters"
    ]
   },
   "outputs": [],
   "source": [
    "# Parameters\n",
    "P = {\n",
    "    \"pipeline.data_lake_root\": \"/pipeline-outputs/data-lake\",\n",
    "    \"pipeline.run_environment\": \"ci\",\n",
    "    \"pipeline.pipeline_run_id\": \"9956fcd3-236b-46e4-b3bb-d198ded018af\",\n",
    "    \"pipeline.github.repository\": \"pynb-dag-runner/mnist-digits-demo-pipeline\",\n",
    "    \"pipeline.github.workflow\": \"Run automated tests, pipeline and deploy results to static reporting site\",\n",
    "    \"pipeline.github.runner_name\": \"Hosted Agent\",\n",
    "    \"pipeline.github.run_id\": \"2688640586\",\n",
    "    \"pipeline.github.actor\": \"matiasdahl\",\n",
    "    \"pipeline.github.job\": \"run-tests-pipeline-and-persist-pipeline-outputs\",\n",
    "    \"pipeline.github.base_ref\": \"\",\n",
    "    \"pipeline.github.head_ref\": \"\",\n",
    "    \"pipeline.github.sha\": \"147a1be9916173fd4d2cd011d8d51e3411215850\",\n",
    "    \"pipeline.github.ref\": \"refs/heads/development\",\n",
    "    \"pipeline.github.ref_type\": \"branch\",\n",
    "    \"pipeline.github.ref_name\": \"development\",\n",
    "    \"pipeline.github.event_name\": \"schedule\",\n",
    "    \"task.nr_train_images\": 1200,\n",
    "    \"task.notebook\": \"notebooks/train-model.py\",\n",
    "    \"task.max_nr_retries\": \"1\",\n",
    "    \"run.retry_nr\": \"0\",\n",
    "    \"task.timeout_s\": \"None\",\n",
    "    \"task.num_cpus\": 1,\n",
    "    \"_opentelemetry_traceparent\": \"00-5bcb631ca66250a3838fb46c02b9727a-617c26c4bf6d574b-01\",\n",
    "}\n"
   ]
  },
  {
   "cell_type": "code",
   "execution_count": 4,
   "id": "0e847bb0",
   "metadata": {
    "execution": {
     "iopub.execute_input": "2022-07-18T06:51:38.687229Z",
     "iopub.status.busy": "2022-07-18T06:51:38.686982Z",
     "iopub.status.idle": "2022-07-18T06:51:38.690307Z",
     "shell.execute_reply": "2022-07-18T06:51:38.689708Z"
    },
    "lines_to_next_cell": 0,
    "papermill": {
     "duration": 0.012984,
     "end_time": "2022-07-18T06:51:38.695345",
     "exception": false,
     "start_time": "2022-07-18T06:51:38.682361",
     "status": "completed"
    },
    "tags": []
   },
   "outputs": [],
   "source": [
    "# -----------------------------------------------------------------------"
   ]
  },
  {
   "cell_type": "markdown",
   "id": "057b9d67",
   "metadata": {
    "papermill": {
     "duration": 0.003471,
     "end_time": "2022-07-18T06:51:38.702526",
     "exception": false,
     "start_time": "2022-07-18T06:51:38.699055",
     "status": "completed"
    },
    "tags": []
   },
   "source": [
    "---"
   ]
  },
  {
   "cell_type": "markdown",
   "id": "514ee5d1",
   "metadata": {
    "lines_to_next_cell": 2,
    "papermill": {
     "duration": 0.00379,
     "end_time": "2022-07-18T06:51:38.709845",
     "exception": false,
     "start_time": "2022-07-18T06:51:38.706055",
     "status": "completed"
    },
    "tags": []
   },
   "source": [
    "### Notebook code"
   ]
  },
  {
   "cell_type": "code",
   "execution_count": 5,
   "id": "fc8981bb",
   "metadata": {
    "execution": {
     "iopub.execute_input": "2022-07-18T06:51:38.718723Z",
     "iopub.status.busy": "2022-07-18T06:51:38.718019Z",
     "iopub.status.idle": "2022-07-18T06:51:39.252153Z",
     "shell.execute_reply": "2022-07-18T06:51:39.251405Z"
    },
    "papermill": {
     "duration": 0.540932,
     "end_time": "2022-07-18T06:51:39.254281",
     "exception": false,
     "start_time": "2022-07-18T06:51:38.713349",
     "status": "completed"
    },
    "tags": []
   },
   "outputs": [
    {
     "name": "stderr",
     "output_type": "stream",
     "text": [
      "2022-07-18 06:51:39,068\tINFO worker.py:842 -- Connecting to existing Ray cluster at address: 172.17.0.2:6379\n"
     ]
    }
   ],
   "source": [
    "from pynb_dag_runner.tasks.task_opentelemetry_logging import PydarLogger\n",
    "\n",
    "logger = PydarLogger(P)"
   ]
  },
  {
   "cell_type": "markdown",
   "id": "789461b2",
   "metadata": {
    "papermill": {
     "duration": 0.00342,
     "end_time": "2022-07-18T06:51:39.263372",
     "exception": false,
     "start_time": "2022-07-18T06:51:39.259952",
     "status": "completed"
    },
    "tags": []
   },
   "source": [
    "## Load and limit train data"
   ]
  },
  {
   "cell_type": "code",
   "execution_count": 6,
   "id": "f72cdb0d",
   "metadata": {
    "execution": {
     "iopub.execute_input": "2022-07-18T06:51:39.274100Z",
     "iopub.status.busy": "2022-07-18T06:51:39.273184Z",
     "iopub.status.idle": "2022-07-18T06:51:39.756554Z",
     "shell.execute_reply": "2022-07-18T06:51:39.755859Z"
    },
    "papermill": {
     "duration": 0.491155,
     "end_time": "2022-07-18T06:51:39.758937",
     "exception": false,
     "start_time": "2022-07-18T06:51:39.267782",
     "status": "completed"
    },
    "tags": []
   },
   "outputs": [],
   "source": [
    "def load_and_limit_train_data(P):\n",
    "    from common.io import datalake_root, read_numpy\n",
    "    from sklearn.model_selection import train_test_split\n",
    "\n",
    "    X_train_all = read_numpy(datalake_root(P) / \"train-data\" / \"digits.numpy\")\n",
    "    y_train_all = read_numpy(datalake_root(P) / \"train-data\" / \"labels.numpy\")\n",
    "\n",
    "    assert isinstance(P[\"task.nr_train_images\"], int)\n",
    "\n",
    "    # Note: train_test_split will fail if split is 0 or 100%.\n",
    "    assert 0 < P[\"task.nr_train_images\"] < len(y_train_all)\n",
    "\n",
    "    X_train, _, y_train, _ = train_test_split(\n",
    "        X_train_all,\n",
    "        y_train_all,\n",
    "        train_size=P[\"task.nr_train_images\"],\n",
    "        test_size=None,\n",
    "        stratify=y_train_all,\n",
    "        shuffle=True,\n",
    "        random_state=123,\n",
    "    )\n",
    "\n",
    "    assert X_train.shape == (len(y_train), 8 * 8)\n",
    "    return X_train, y_train\n",
    "\n",
    "\n",
    "X_train, y_train = load_and_limit_train_data(P)"
   ]
  },
  {
   "cell_type": "markdown",
   "id": "465749f5",
   "metadata": {
    "papermill": {
     "duration": 0.003872,
     "end_time": "2022-07-18T06:51:39.769199",
     "exception": false,
     "start_time": "2022-07-18T06:51:39.765327",
     "status": "completed"
    },
    "tags": []
   },
   "source": [
    "## Train support vector classifier model\n",
    "\n",
    "Below we assume that the hyperparameter $C$ is known.\n",
    "\n",
    "However, this should ideally be found by a hyperparameter search. That could be\n",
    "done in parallel on the Ray cluster, but this needs some more work. Ie., to use\n",
    "multiple cores in the notebook, those cores should be reserved when starting the\n",
    "notebook task (TODO).\n",
    "\n",
    "- https://docs.ray.io/en/latest/tune/key-concepts.html\n",
    "\n",
    "Note: cv-scores would need to be computed here, since they depend on the train data.\n",
    "After this notebook only the onnx-model is available."
   ]
  },
  {
   "cell_type": "code",
   "execution_count": 7,
   "id": "8b5c84a1",
   "metadata": {
    "execution": {
     "iopub.execute_input": "2022-07-18T06:51:39.778869Z",
     "iopub.status.busy": "2022-07-18T06:51:39.778564Z",
     "iopub.status.idle": "2022-07-18T06:51:39.809455Z",
     "shell.execute_reply": "2022-07-18T06:51:39.808803Z"
    },
    "papermill": {
     "duration": 0.038751,
     "end_time": "2022-07-18T06:51:39.811622",
     "exception": false,
     "start_time": "2022-07-18T06:51:39.772871",
     "status": "completed"
    },
    "tags": []
   },
   "outputs": [],
   "source": [
    "from sklearn.svm import SVC"
   ]
  },
  {
   "cell_type": "code",
   "execution_count": 8,
   "id": "53f23f7a",
   "metadata": {
    "execution": {
     "iopub.execute_input": "2022-07-18T06:51:39.822103Z",
     "iopub.status.busy": "2022-07-18T06:51:39.821605Z",
     "iopub.status.idle": "2022-07-18T06:51:40.084815Z",
     "shell.execute_reply": "2022-07-18T06:51:40.084095Z"
    },
    "papermill": {
     "duration": 0.270238,
     "end_time": "2022-07-18T06:51:40.086653",
     "exception": false,
     "start_time": "2022-07-18T06:51:39.816415",
     "status": "completed"
    },
    "tags": []
   },
   "outputs": [
    {
     "data": {
      "text/plain": [
       "SVC(C=0.001, kernel='linear', probability=True)"
      ]
     },
     "execution_count": 8,
     "metadata": {},
     "output_type": "execute_result"
    }
   ],
   "source": [
    "model = SVC(C=0.001, kernel=\"linear\", probability=True)\n",
    "\n",
    "model.fit(X_train, y_train)"
   ]
  },
  {
   "cell_type": "markdown",
   "id": "8f03c63c",
   "metadata": {
    "papermill": {
     "duration": 0.00395,
     "end_time": "2022-07-18T06:51:40.095376",
     "exception": false,
     "start_time": "2022-07-18T06:51:40.091426",
     "status": "completed"
    },
    "tags": []
   },
   "source": [
    "### Q: Can the labels returned by `predict(..)` be computed from probabilities returned by the `predict_prob`-method?"
   ]
  },
  {
   "cell_type": "code",
   "execution_count": 9,
   "id": "b7c7d522",
   "metadata": {
    "execution": {
     "iopub.execute_input": "2022-07-18T06:51:40.105515Z",
     "iopub.status.busy": "2022-07-18T06:51:40.104854Z",
     "iopub.status.idle": "2022-07-18T06:51:40.219498Z",
     "shell.execute_reply": "2022-07-18T06:51:40.218711Z"
    },
    "papermill": {
     "duration": 0.121935,
     "end_time": "2022-07-18T06:51:40.221689",
     "exception": false,
     "start_time": "2022-07-18T06:51:40.099754",
     "status": "completed"
    },
    "tags": []
   },
   "outputs": [
    {
     "name": "stdout",
     "output_type": "stream",
     "text": [
      " - Logging nr_max_prob_neq_label (int) : 4\n"
     ]
    }
   ],
   "source": [
    "import numpy as np\n",
    "\n",
    "y_train_labels = model.predict(X_train)\n",
    "y_train_probabilities = model.predict_proba(X_train)\n",
    "assert y_train_probabilities.shape == (len(y_train), 10)\n",
    "\n",
    "y_train_max_prob_labels = np.argmax(y_train_probabilities, axis=1)\n",
    "assert y_train_labels.shape == y_train_max_prob_labels.shape == y_train.shape\n",
    "\n",
    "# If the predicted labels would coincide with the labels that have\n",
    "# maximum probability, the below number would be zero\n",
    "logger.log_int(\n",
    "    \"nr_max_prob_neq_label\", int(sum(y_train_max_prob_labels != y_train_labels))\n",
    ")"
   ]
  },
  {
   "cell_type": "markdown",
   "id": "cf221074",
   "metadata": {
    "papermill": {
     "duration": 0.003885,
     "end_time": "2022-07-18T06:51:40.229534",
     "exception": false,
     "start_time": "2022-07-18T06:51:40.225649",
     "status": "completed"
    },
    "tags": []
   },
   "source": [
    "The explanation is (likely) explained in the SVC source, see\n",
    "[here](https://github.com/scikit-learn/scikit-learn/blob/main/sklearn/svm/_base.py).\n",
    "Namely, the outputs from `predict(..)` and `predict_proba(..)` may not in some\n",
    "cases be compatible since the latter is computed using cross-validation while\n",
    "the former is not. Thus, the above number need not be zero."
   ]
  },
  {
   "cell_type": "markdown",
   "id": "76d3c2a3",
   "metadata": {
    "papermill": {
     "duration": 0.003677,
     "end_time": "2022-07-18T06:51:40.237245",
     "exception": false,
     "start_time": "2022-07-18T06:51:40.233568",
     "status": "completed"
    },
    "tags": []
   },
   "source": [
    "## Persist model"
   ]
  },
  {
   "cell_type": "code",
   "execution_count": 10,
   "id": "10059781",
   "metadata": {
    "execution": {
     "iopub.execute_input": "2022-07-18T06:51:40.247473Z",
     "iopub.status.busy": "2022-07-18T06:51:40.246531Z",
     "iopub.status.idle": "2022-07-18T06:51:41.126995Z",
     "shell.execute_reply": "2022-07-18T06:51:41.126328Z"
    },
    "papermill": {
     "duration": 0.887179,
     "end_time": "2022-07-18T06:51:41.128938",
     "exception": false,
     "start_time": "2022-07-18T06:51:40.241759",
     "status": "completed"
    },
    "tags": []
   },
   "outputs": [],
   "source": [
    "from skl2onnx import convert_sklearn\n",
    "from skl2onnx.common.data_types import FloatTensorType\n",
    "\n",
    "#\n",
    "from common.io import datalake_root, write_onnx"
   ]
  },
  {
   "cell_type": "code",
   "execution_count": 11,
   "id": "91ba41a7",
   "metadata": {
    "execution": {
     "iopub.execute_input": "2022-07-18T06:51:41.142012Z",
     "iopub.status.busy": "2022-07-18T06:51:41.141210Z",
     "iopub.status.idle": "2022-07-18T06:51:41.208967Z",
     "shell.execute_reply": "2022-07-18T06:51:41.207925Z"
    },
    "papermill": {
     "duration": 0.075593,
     "end_time": "2022-07-18T06:51:41.211394",
     "exception": false,
     "start_time": "2022-07-18T06:51:41.135801",
     "status": "completed"
    },
    "tags": []
   },
   "outputs": [],
   "source": [
    "# convert sklearn model into onnx and persist to data lake\n",
    "\n",
    "model_onnx = convert_sklearn(\n",
    "    model, initial_types=[(\"float_input_8x8_image\", FloatTensorType([None, 8 * 8]))]\n",
    ")\n",
    "write_onnx(\n",
    "    datalake_root(P)\n",
    "    / \"models\"\n",
    "    / f\"nr_train_images={P['task.nr_train_images']}\"\n",
    "    / \"model.onnx\",\n",
    "    model_onnx,\n",
    ")"
   ]
  },
  {
   "cell_type": "code",
   "execution_count": null,
   "id": "66eaadcd",
   "metadata": {
    "papermill": {
     "duration": 0.004964,
     "end_time": "2022-07-18T06:51:41.220709",
     "exception": false,
     "start_time": "2022-07-18T06:51:41.215745",
     "status": "completed"
    },
    "tags": []
   },
   "outputs": [],
   "source": []
  }
 ],
 "metadata": {
  "jupytext": {
   "cell_metadata_filter": "tags,-all",
   "main_language": "python",
   "notebook_metadata_filter": "-all"
  },
  "language_info": {
   "codemirror_mode": {
    "name": "ipython",
    "version": 3
   },
   "file_extension": ".py",
   "mimetype": "text/x-python",
   "name": "python",
   "nbconvert_exporter": "python",
   "pygments_lexer": "ipython3",
   "version": "3.8.10"
  },
  "papermill": {
   "default_parameters": {},
   "duration": 5.373729,
   "end_time": "2022-07-18T06:51:42.490805",
   "environment_variables": {},
   "exception": null,
   "input_path": "/home/host_user/workspace/mnist-demo-pipeline/mnist-demo-pipeline/notebooks/temp-notebook-0rh2cy2n.ipynb",
   "output_path": "notebooks/train-model.ipynb",
   "parameters": {
    "P": {
     "_opentelemetry_traceparent": "00-5bcb631ca66250a3838fb46c02b9727a-617c26c4bf6d574b-01",
     "pipeline.data_lake_root": "/pipeline-outputs/data-lake",
     "pipeline.github.actor": "matiasdahl",
     "pipeline.github.base_ref": "",
     "pipeline.github.event_name": "schedule",
     "pipeline.github.head_ref": "",
     "pipeline.github.job": "run-tests-pipeline-and-persist-pipeline-outputs",
     "pipeline.github.ref": "refs/heads/development",
     "pipeline.github.ref_name": "development",
     "pipeline.github.ref_type": "branch",
     "pipeline.github.repository": "pynb-dag-runner/mnist-digits-demo-pipeline",
     "pipeline.github.run_id": "2688640586",
     "pipeline.github.runner_name": "Hosted Agent",
     "pipeline.github.sha": "147a1be9916173fd4d2cd011d8d51e3411215850",
     "pipeline.github.workflow": "Run automated tests, pipeline and deploy results to static reporting site",
     "pipeline.pipeline_run_id": "9956fcd3-236b-46e4-b3bb-d198ded018af",
     "pipeline.run_environment": "ci",
     "run.retry_nr": "0",
     "task.max_nr_retries": "1",
     "task.notebook": "notebooks/train-model.py",
     "task.nr_train_images": 1200,
     "task.num_cpus": 1,
     "task.timeout_s": "None"
    }
   },
   "start_time": "2022-07-18T06:51:37.117076",
   "version": "2.3.3"
  }
 },
 "nbformat": 4,
 "nbformat_minor": 5
}