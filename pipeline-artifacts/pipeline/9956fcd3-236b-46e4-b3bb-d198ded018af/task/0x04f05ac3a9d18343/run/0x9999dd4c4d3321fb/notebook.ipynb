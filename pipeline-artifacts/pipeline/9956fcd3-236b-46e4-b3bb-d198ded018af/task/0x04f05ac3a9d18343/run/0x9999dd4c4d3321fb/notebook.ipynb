{
 "cells": [
  {
   "cell_type": "markdown",
   "id": "ca29260e",
   "metadata": {
    "papermill": {
     "duration": 0.0054,
     "end_time": "2022-07-18T06:51:26.887939",
     "exception": false,
     "start_time": "2022-07-18T06:51:26.882539",
     "status": "completed"
    },
    "tags": []
   },
   "source": [
    "# Train model\n",
    "\n",
    "The purpose of this notebook is:\n",
    "\n",
    "- Load all training data (images and labels).\n",
    "- Limit number of train images to `task.nr_train_images` (value provided as run parameter).\n",
    "- Train a support vector machine model using sklearn.\n",
    "- Persist the trained model using the ONNX format."
   ]
  },
  {
   "cell_type": "markdown",
   "id": "2b3c3655",
   "metadata": {
    "papermill": {
     "duration": 0.00295,
     "end_time": "2022-07-18T06:51:26.894434",
     "exception": false,
     "start_time": "2022-07-18T06:51:26.891484",
     "status": "completed"
    },
    "tags": []
   },
   "source": [
    "### Determine run parameters"
   ]
  },
  {
   "cell_type": "code",
   "execution_count": 1,
   "id": "a35a3cdc",
   "metadata": {
    "execution": {
     "iopub.execute_input": "2022-07-18T06:51:26.903391Z",
     "iopub.status.busy": "2022-07-18T06:51:26.902547Z",
     "iopub.status.idle": "2022-07-18T06:51:26.919040Z",
     "shell.execute_reply": "2022-07-18T06:51:26.918443Z"
    },
    "lines_to_next_cell": 0,
    "papermill": {
     "duration": 0.023457,
     "end_time": "2022-07-18T06:51:26.921712",
     "exception": false,
     "start_time": "2022-07-18T06:51:26.898255",
     "status": "completed"
    },
    "tags": []
   },
   "outputs": [],
   "source": [
    "# ----------------- Parameters for interactive development --------------\n",
    "P = {\n",
    "    \"pipeline.data_lake_root\": \"/pipeline-outputs/data-lake\",\n",
    "    \"task.nr_train_images\": 600,\n",
    "}"
   ]
  },
  {
   "cell_type": "code",
   "execution_count": 2,
   "id": "c1f1816f",
   "metadata": {
    "execution": {
     "iopub.execute_input": "2022-07-18T06:51:26.930001Z",
     "iopub.status.busy": "2022-07-18T06:51:26.929771Z",
     "iopub.status.idle": "2022-07-18T06:51:26.932861Z",
     "shell.execute_reply": "2022-07-18T06:51:26.932296Z"
    },
    "lines_to_next_cell": 0,
    "papermill": {
     "duration": 0.011385,
     "end_time": "2022-07-18T06:51:26.936096",
     "exception": false,
     "start_time": "2022-07-18T06:51:26.924711",
     "status": "completed"
    },
    "tags": [
     "parameters"
    ]
   },
   "outputs": [],
   "source": [
    "# - During automated runs parameters will be injected in the below cell -"
   ]
  },
  {
   "cell_type": "code",
   "execution_count": 3,
   "id": "d2d1f3eb",
   "metadata": {
    "execution": {
     "iopub.execute_input": "2022-07-18T06:51:26.944080Z",
     "iopub.status.busy": "2022-07-18T06:51:26.943832Z",
     "iopub.status.idle": "2022-07-18T06:51:26.950232Z",
     "shell.execute_reply": "2022-07-18T06:51:26.949493Z"
    },
    "papermill": {
     "duration": 0.013467,
     "end_time": "2022-07-18T06:51:26.953291",
     "exception": false,
     "start_time": "2022-07-18T06:51:26.939824",
     "status": "completed"
    },
    "tags": [
     "injected-parameters"
    ]
   },
   "outputs": [],
   "source": [
    "# Parameters\n",
    "P = {\n",
    "    \"pipeline.data_lake_root\": \"/pipeline-outputs/data-lake\",\n",
    "    \"pipeline.run_environment\": \"ci\",\n",
    "    \"pipeline.pipeline_run_id\": \"9956fcd3-236b-46e4-b3bb-d198ded018af\",\n",
    "    \"pipeline.github.repository\": \"pynb-dag-runner/mnist-digits-demo-pipeline\",\n",
    "    \"pipeline.github.workflow\": \"Run automated tests, pipeline and deploy results to static reporting site\",\n",
    "    \"pipeline.github.runner_name\": \"Hosted Agent\",\n",
    "    \"pipeline.github.run_id\": \"2688640586\",\n",
    "    \"pipeline.github.actor\": \"matiasdahl\",\n",
    "    \"pipeline.github.job\": \"run-tests-pipeline-and-persist-pipeline-outputs\",\n",
    "    \"pipeline.github.base_ref\": \"\",\n",
    "    \"pipeline.github.head_ref\": \"\",\n",
    "    \"pipeline.github.sha\": \"147a1be9916173fd4d2cd011d8d51e3411215850\",\n",
    "    \"pipeline.github.ref\": \"refs/heads/development\",\n",
    "    \"pipeline.github.ref_type\": \"branch\",\n",
    "    \"pipeline.github.ref_name\": \"development\",\n",
    "    \"pipeline.github.event_name\": \"schedule\",\n",
    "    \"task.nr_train_images\": 600,\n",
    "    \"task.notebook\": \"notebooks/train-model.py\",\n",
    "    \"task.max_nr_retries\": \"1\",\n",
    "    \"run.retry_nr\": \"0\",\n",
    "    \"task.timeout_s\": \"None\",\n",
    "    \"task.num_cpus\": 1,\n",
    "    \"_opentelemetry_traceparent\": \"00-5bcb631ca66250a3838fb46c02b9727a-4f79f470bbe733f0-01\",\n",
    "}\n"
   ]
  },
  {
   "cell_type": "code",
   "execution_count": 4,
   "id": "87d4eef2",
   "metadata": {
    "execution": {
     "iopub.execute_input": "2022-07-18T06:51:26.961592Z",
     "iopub.status.busy": "2022-07-18T06:51:26.961347Z",
     "iopub.status.idle": "2022-07-18T06:51:26.964069Z",
     "shell.execute_reply": "2022-07-18T06:51:26.963505Z"
    },
    "lines_to_next_cell": 0,
    "papermill": {
     "duration": 0.010372,
     "end_time": "2022-07-18T06:51:26.967538",
     "exception": false,
     "start_time": "2022-07-18T06:51:26.957166",
     "status": "completed"
    },
    "tags": []
   },
   "outputs": [],
   "source": [
    "# -----------------------------------------------------------------------"
   ]
  },
  {
   "cell_type": "markdown",
   "id": "a535914d",
   "metadata": {
    "papermill": {
     "duration": 0.003734,
     "end_time": "2022-07-18T06:51:26.974266",
     "exception": false,
     "start_time": "2022-07-18T06:51:26.970532",
     "status": "completed"
    },
    "tags": []
   },
   "source": [
    "---"
   ]
  },
  {
   "cell_type": "markdown",
   "id": "e377d3f2",
   "metadata": {
    "lines_to_next_cell": 2,
    "papermill": {
     "duration": 0.003119,
     "end_time": "2022-07-18T06:51:26.981432",
     "exception": false,
     "start_time": "2022-07-18T06:51:26.978313",
     "status": "completed"
    },
    "tags": []
   },
   "source": [
    "### Notebook code"
   ]
  },
  {
   "cell_type": "code",
   "execution_count": 5,
   "id": "8f7bcc27",
   "metadata": {
    "execution": {
     "iopub.execute_input": "2022-07-18T06:51:26.989952Z",
     "iopub.status.busy": "2022-07-18T06:51:26.989660Z",
     "iopub.status.idle": "2022-07-18T06:51:27.585585Z",
     "shell.execute_reply": "2022-07-18T06:51:27.584453Z"
    },
    "papermill": {
     "duration": 0.603725,
     "end_time": "2022-07-18T06:51:27.588195",
     "exception": false,
     "start_time": "2022-07-18T06:51:26.984470",
     "status": "completed"
    },
    "tags": []
   },
   "outputs": [
    {
     "name": "stderr",
     "output_type": "stream",
     "text": [
      "2022-07-18 06:51:27,394\tINFO worker.py:842 -- Connecting to existing Ray cluster at address: 172.17.0.2:6379\n"
     ]
    }
   ],
   "source": [
    "from pynb_dag_runner.tasks.task_opentelemetry_logging import PydarLogger\n",
    "\n",
    "logger = PydarLogger(P)"
   ]
  },
  {
   "cell_type": "markdown",
   "id": "65527b56",
   "metadata": {
    "papermill": {
     "duration": 0.004408,
     "end_time": "2022-07-18T06:51:27.599219",
     "exception": false,
     "start_time": "2022-07-18T06:51:27.594811",
     "status": "completed"
    },
    "tags": []
   },
   "source": [
    "## Load and limit train data"
   ]
  },
  {
   "cell_type": "code",
   "execution_count": 6,
   "id": "b1d4d3ce",
   "metadata": {
    "execution": {
     "iopub.execute_input": "2022-07-18T06:51:27.608913Z",
     "iopub.status.busy": "2022-07-18T06:51:27.608557Z",
     "iopub.status.idle": "2022-07-18T06:51:28.122143Z",
     "shell.execute_reply": "2022-07-18T06:51:28.121494Z"
    },
    "papermill": {
     "duration": 0.521773,
     "end_time": "2022-07-18T06:51:28.124508",
     "exception": false,
     "start_time": "2022-07-18T06:51:27.602735",
     "status": "completed"
    },
    "tags": []
   },
   "outputs": [],
   "source": [
    "def load_and_limit_train_data(P):\n",
    "    from common.io import datalake_root, read_numpy\n",
    "    from sklearn.model_selection import train_test_split\n",
    "\n",
    "    X_train_all = read_numpy(datalake_root(P) / \"train-data\" / \"digits.numpy\")\n",
    "    y_train_all = read_numpy(datalake_root(P) / \"train-data\" / \"labels.numpy\")\n",
    "\n",
    "    assert isinstance(P[\"task.nr_train_images\"], int)\n",
    "\n",
    "    # Note: train_test_split will fail if split is 0 or 100%.\n",
    "    assert 0 < P[\"task.nr_train_images\"] < len(y_train_all)\n",
    "\n",
    "    X_train, _, y_train, _ = train_test_split(\n",
    "        X_train_all,\n",
    "        y_train_all,\n",
    "        train_size=P[\"task.nr_train_images\"],\n",
    "        test_size=None,\n",
    "        stratify=y_train_all,\n",
    "        shuffle=True,\n",
    "        random_state=123,\n",
    "    )\n",
    "\n",
    "    assert X_train.shape == (len(y_train), 8 * 8)\n",
    "    return X_train, y_train\n",
    "\n",
    "\n",
    "X_train, y_train = load_and_limit_train_data(P)"
   ]
  },
  {
   "cell_type": "markdown",
   "id": "0251eebe",
   "metadata": {
    "papermill": {
     "duration": 0.004029,
     "end_time": "2022-07-18T06:51:28.132563",
     "exception": false,
     "start_time": "2022-07-18T06:51:28.128534",
     "status": "completed"
    },
    "tags": []
   },
   "source": [
    "## Train support vector classifier model\n",
    "\n",
    "Below we assume that the hyperparameter $C$ is known.\n",
    "\n",
    "However, this should ideally be found by a hyperparameter search. That could be\n",
    "done in parallel on the Ray cluster, but this needs some more work. Ie., to use\n",
    "multiple cores in the notebook, those cores should be reserved when starting the\n",
    "notebook task (TODO).\n",
    "\n",
    "- https://docs.ray.io/en/latest/tune/key-concepts.html\n",
    "\n",
    "Note: cv-scores would need to be computed here, since they depend on the train data.\n",
    "After this notebook only the onnx-model is available."
   ]
  },
  {
   "cell_type": "code",
   "execution_count": 7,
   "id": "f400d060",
   "metadata": {
    "execution": {
     "iopub.execute_input": "2022-07-18T06:51:28.143082Z",
     "iopub.status.busy": "2022-07-18T06:51:28.142781Z",
     "iopub.status.idle": "2022-07-18T06:51:28.278385Z",
     "shell.execute_reply": "2022-07-18T06:51:28.277410Z"
    },
    "papermill": {
     "duration": 0.144227,
     "end_time": "2022-07-18T06:51:28.280584",
     "exception": false,
     "start_time": "2022-07-18T06:51:28.136357",
     "status": "completed"
    },
    "tags": []
   },
   "outputs": [],
   "source": [
    "from sklearn.svm import SVC"
   ]
  },
  {
   "cell_type": "code",
   "execution_count": 8,
   "id": "061ebba1",
   "metadata": {
    "execution": {
     "iopub.execute_input": "2022-07-18T06:51:28.289569Z",
     "iopub.status.busy": "2022-07-18T06:51:28.289062Z",
     "iopub.status.idle": "2022-07-18T06:51:28.392925Z",
     "shell.execute_reply": "2022-07-18T06:51:28.391860Z"
    },
    "papermill": {
     "duration": 0.110324,
     "end_time": "2022-07-18T06:51:28.394755",
     "exception": false,
     "start_time": "2022-07-18T06:51:28.284431",
     "status": "completed"
    },
    "tags": []
   },
   "outputs": [
    {
     "data": {
      "text/plain": [
       "SVC(C=0.001, kernel='linear', probability=True)"
      ]
     },
     "execution_count": 8,
     "metadata": {},
     "output_type": "execute_result"
    }
   ],
   "source": [
    "model = SVC(C=0.001, kernel=\"linear\", probability=True)\n",
    "\n",
    "model.fit(X_train, y_train)"
   ]
  },
  {
   "cell_type": "markdown",
   "id": "a27ecf1c",
   "metadata": {
    "papermill": {
     "duration": 0.003939,
     "end_time": "2022-07-18T06:51:28.403009",
     "exception": false,
     "start_time": "2022-07-18T06:51:28.399070",
     "status": "completed"
    },
    "tags": []
   },
   "source": [
    "### Q: Can the labels returned by `predict(..)` be computed from probabilities returned by the `predict_prob`-method?"
   ]
  },
  {
   "cell_type": "code",
   "execution_count": 9,
   "id": "91e8e65a",
   "metadata": {
    "execution": {
     "iopub.execute_input": "2022-07-18T06:51:28.411846Z",
     "iopub.status.busy": "2022-07-18T06:51:28.411469Z",
     "iopub.status.idle": "2022-07-18T06:51:28.452228Z",
     "shell.execute_reply": "2022-07-18T06:51:28.451389Z"
    },
    "papermill": {
     "duration": 0.04735,
     "end_time": "2022-07-18T06:51:28.454203",
     "exception": false,
     "start_time": "2022-07-18T06:51:28.406853",
     "status": "completed"
    },
    "tags": []
   },
   "outputs": [
    {
     "name": "stdout",
     "output_type": "stream",
     "text": [
      " - Logging nr_max_prob_neq_label (int) : 2\n"
     ]
    }
   ],
   "source": [
    "import numpy as np\n",
    "\n",
    "y_train_labels = model.predict(X_train)\n",
    "y_train_probabilities = model.predict_proba(X_train)\n",
    "assert y_train_probabilities.shape == (len(y_train), 10)\n",
    "\n",
    "y_train_max_prob_labels = np.argmax(y_train_probabilities, axis=1)\n",
    "assert y_train_labels.shape == y_train_max_prob_labels.shape == y_train.shape\n",
    "\n",
    "# If the predicted labels would coincide with the labels that have\n",
    "# maximum probability, the below number would be zero\n",
    "logger.log_int(\n",
    "    \"nr_max_prob_neq_label\", int(sum(y_train_max_prob_labels != y_train_labels))\n",
    ")"
   ]
  },
  {
   "cell_type": "markdown",
   "id": "2adaf92c",
   "metadata": {
    "papermill": {
     "duration": 0.003985,
     "end_time": "2022-07-18T06:51:28.462131",
     "exception": false,
     "start_time": "2022-07-18T06:51:28.458146",
     "status": "completed"
    },
    "tags": []
   },
   "source": [
    "The explanation is (likely) explained in the SVC source, see\n",
    "[here](https://github.com/scikit-learn/scikit-learn/blob/main/sklearn/svm/_base.py).\n",
    "Namely, the outputs from `predict(..)` and `predict_proba(..)` may not in some\n",
    "cases be compatible since the latter is computed using cross-validation while\n",
    "the former is not. Thus, the above number need not be zero."
   ]
  },
  {
   "cell_type": "markdown",
   "id": "45d2a4d3",
   "metadata": {
    "papermill": {
     "duration": 0.003793,
     "end_time": "2022-07-18T06:51:28.470123",
     "exception": false,
     "start_time": "2022-07-18T06:51:28.466330",
     "status": "completed"
    },
    "tags": []
   },
   "source": [
    "## Persist model"
   ]
  },
  {
   "cell_type": "code",
   "execution_count": 10,
   "id": "4d55c3f5",
   "metadata": {
    "execution": {
     "iopub.execute_input": "2022-07-18T06:51:28.480616Z",
     "iopub.status.busy": "2022-07-18T06:51:28.480171Z",
     "iopub.status.idle": "2022-07-18T06:51:29.754959Z",
     "shell.execute_reply": "2022-07-18T06:51:29.754266Z"
    },
    "papermill": {
     "duration": 1.28303,
     "end_time": "2022-07-18T06:51:29.756796",
     "exception": false,
     "start_time": "2022-07-18T06:51:28.473766",
     "status": "completed"
    },
    "tags": []
   },
   "outputs": [],
   "source": [
    "from skl2onnx import convert_sklearn\n",
    "from skl2onnx.common.data_types import FloatTensorType\n",
    "\n",
    "#\n",
    "from common.io import datalake_root, write_onnx"
   ]
  },
  {
   "cell_type": "code",
   "execution_count": 11,
   "id": "18ef1d5b",
   "metadata": {
    "execution": {
     "iopub.execute_input": "2022-07-18T06:51:29.766774Z",
     "iopub.status.busy": "2022-07-18T06:51:29.766388Z",
     "iopub.status.idle": "2022-07-18T06:51:29.813264Z",
     "shell.execute_reply": "2022-07-18T06:51:29.812687Z"
    },
    "papermill": {
     "duration": 0.054711,
     "end_time": "2022-07-18T06:51:29.815473",
     "exception": false,
     "start_time": "2022-07-18T06:51:29.760762",
     "status": "completed"
    },
    "tags": []
   },
   "outputs": [],
   "source": [
    "# convert sklearn model into onnx and persist to data lake\n",
    "\n",
    "model_onnx = convert_sklearn(\n",
    "    model, initial_types=[(\"float_input_8x8_image\", FloatTensorType([None, 8 * 8]))]\n",
    ")\n",
    "write_onnx(\n",
    "    datalake_root(P)\n",
    "    / \"models\"\n",
    "    / f\"nr_train_images={P['task.nr_train_images']}\"\n",
    "    / \"model.onnx\",\n",
    "    model_onnx,\n",
    ")"
   ]
  },
  {
   "cell_type": "code",
   "execution_count": null,
   "id": "2b2f2f2e",
   "metadata": {
    "papermill": {
     "duration": 0.004244,
     "end_time": "2022-07-18T06:51:29.825016",
     "exception": false,
     "start_time": "2022-07-18T06:51:29.820772",
     "status": "completed"
    },
    "tags": []
   },
   "outputs": [],
   "source": []
  }
 ],
 "metadata": {
  "jupytext": {
   "cell_metadata_filter": "tags,-all",
   "main_language": "python",
   "notebook_metadata_filter": "-all"
  },
  "language_info": {
   "codemirror_mode": {
    "name": "ipython",
    "version": 3
   },
   "file_extension": ".py",
   "mimetype": "text/x-python",
   "name": "python",
   "nbconvert_exporter": "python",
   "pygments_lexer": "ipython3",
   "version": "3.8.10"
  },
  "papermill": {
   "default_parameters": {},
   "duration": 5.544318,
   "end_time": "2022-07-18T06:51:30.956526",
   "environment_variables": {},
   "exception": null,
   "input_path": "/home/host_user/workspace/mnist-demo-pipeline/mnist-demo-pipeline/notebooks/temp-notebook-6m1rxjca.ipynb",
   "output_path": "notebooks/train-model.ipynb",
   "parameters": {
    "P": {
     "_opentelemetry_traceparent": "00-5bcb631ca66250a3838fb46c02b9727a-4f79f470bbe733f0-01",
     "pipeline.data_lake_root": "/pipeline-outputs/data-lake",
     "pipeline.github.actor": "matiasdahl",
     "pipeline.github.base_ref": "",
     "pipeline.github.event_name": "schedule",
     "pipeline.github.head_ref": "",
     "pipeline.github.job": "run-tests-pipeline-and-persist-pipeline-outputs",
     "pipeline.github.ref": "refs/heads/development",
     "pipeline.github.ref_name": "development",
     "pipeline.github.ref_type": "branch",
     "pipeline.github.repository": "pynb-dag-runner/mnist-digits-demo-pipeline",
     "pipeline.github.run_id": "2688640586",
     "pipeline.github.runner_name": "Hosted Agent",
     "pipeline.github.sha": "147a1be9916173fd4d2cd011d8d51e3411215850",
     "pipeline.github.workflow": "Run automated tests, pipeline and deploy results to static reporting site",
     "pipeline.pipeline_run_id": "9956fcd3-236b-46e4-b3bb-d198ded018af",
     "pipeline.run_environment": "ci",
     "run.retry_nr": "0",
     "task.max_nr_retries": "1",
     "task.notebook": "notebooks/train-model.py",
     "task.nr_train_images": 600,
     "task.num_cpus": 1,
     "task.timeout_s": "None"
    }
   },
   "start_time": "2022-07-18T06:51:25.412208",
   "version": "2.3.3"
  }
 },
 "nbformat": 4,
 "nbformat_minor": 5
}