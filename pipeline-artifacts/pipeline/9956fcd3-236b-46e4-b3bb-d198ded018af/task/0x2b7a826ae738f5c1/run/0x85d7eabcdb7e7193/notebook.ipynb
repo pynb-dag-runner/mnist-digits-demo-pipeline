{
 "cells": [
  {
   "cell_type": "markdown",
   "id": "d1c345a3",
   "metadata": {
    "papermill": {
     "duration": 0.006899,
     "end_time": "2022-07-18T06:51:53.292491",
     "exception": false,
     "start_time": "2022-07-18T06:51:53.285592",
     "status": "completed"
    },
    "tags": []
   },
   "source": [
    "# Benchmark model\n",
    "\n",
    "The purpose of this notebook is to benchmark persisted onnx-model (trained in the\n",
    "previous step) against evaluation set."
   ]
  },
  {
   "cell_type": "markdown",
   "id": "10b26b2f",
   "metadata": {
    "papermill": {
     "duration": 0.005204,
     "end_time": "2022-07-18T06:51:53.303624",
     "exception": false,
     "start_time": "2022-07-18T06:51:53.298420",
     "status": "completed"
    },
    "tags": []
   },
   "source": [
    "### Determine run parameters"
   ]
  },
  {
   "cell_type": "code",
   "execution_count": 1,
   "id": "b8af1560",
   "metadata": {
    "execution": {
     "iopub.execute_input": "2022-07-18T06:51:53.316530Z",
     "iopub.status.busy": "2022-07-18T06:51:53.316158Z",
     "iopub.status.idle": "2022-07-18T06:51:53.327650Z",
     "shell.execute_reply": "2022-07-18T06:51:53.327011Z"
    },
    "lines_to_next_cell": 0,
    "papermill": {
     "duration": 0.021893,
     "end_time": "2022-07-18T06:51:53.330433",
     "exception": false,
     "start_time": "2022-07-18T06:51:53.308540",
     "status": "completed"
    },
    "tags": []
   },
   "outputs": [],
   "source": [
    "# ----------------- Parameters for interactive development --------------\n",
    "P = {\n",
    "    \"pipeline.data_lake_root\": \"/pipeline-outputs/data-lake\",\n",
    "    \"task.nr_train_images\": 600,\n",
    "}"
   ]
  },
  {
   "cell_type": "code",
   "execution_count": 2,
   "id": "35b82800",
   "metadata": {
    "execution": {
     "iopub.execute_input": "2022-07-18T06:51:53.342357Z",
     "iopub.status.busy": "2022-07-18T06:51:53.342080Z",
     "iopub.status.idle": "2022-07-18T06:51:53.346027Z",
     "shell.execute_reply": "2022-07-18T06:51:53.345320Z"
    },
    "lines_to_next_cell": 0,
    "papermill": {
     "duration": 0.013378,
     "end_time": "2022-07-18T06:51:53.349352",
     "exception": false,
     "start_time": "2022-07-18T06:51:53.335974",
     "status": "completed"
    },
    "tags": [
     "parameters"
    ]
   },
   "outputs": [],
   "source": [
    "# - During automated runs parameters will be injected in the below cell -"
   ]
  },
  {
   "cell_type": "code",
   "execution_count": 3,
   "id": "54c9a223",
   "metadata": {
    "execution": {
     "iopub.execute_input": "2022-07-18T06:51:53.360771Z",
     "iopub.status.busy": "2022-07-18T06:51:53.360540Z",
     "iopub.status.idle": "2022-07-18T06:51:53.366376Z",
     "shell.execute_reply": "2022-07-18T06:51:53.365697Z"
    },
    "papermill": {
     "duration": 0.01547,
     "end_time": "2022-07-18T06:51:53.370127",
     "exception": false,
     "start_time": "2022-07-18T06:51:53.354657",
     "status": "completed"
    },
    "tags": [
     "injected-parameters"
    ]
   },
   "outputs": [],
   "source": [
    "# Parameters\n",
    "P = {\n",
    "    \"pipeline.data_lake_root\": \"/pipeline-outputs/data-lake\",\n",
    "    \"pipeline.run_environment\": \"ci\",\n",
    "    \"pipeline.pipeline_run_id\": \"9956fcd3-236b-46e4-b3bb-d198ded018af\",\n",
    "    \"pipeline.github.repository\": \"pynb-dag-runner/mnist-digits-demo-pipeline\",\n",
    "    \"pipeline.github.workflow\": \"Run automated tests, pipeline and deploy results to static reporting site\",\n",
    "    \"pipeline.github.runner_name\": \"Hosted Agent\",\n",
    "    \"pipeline.github.run_id\": \"2688640586\",\n",
    "    \"pipeline.github.actor\": \"matiasdahl\",\n",
    "    \"pipeline.github.job\": \"run-tests-pipeline-and-persist-pipeline-outputs\",\n",
    "    \"pipeline.github.base_ref\": \"\",\n",
    "    \"pipeline.github.head_ref\": \"\",\n",
    "    \"pipeline.github.sha\": \"147a1be9916173fd4d2cd011d8d51e3411215850\",\n",
    "    \"pipeline.github.ref\": \"refs/heads/development\",\n",
    "    \"pipeline.github.ref_type\": \"branch\",\n",
    "    \"pipeline.github.ref_name\": \"development\",\n",
    "    \"pipeline.github.event_name\": \"schedule\",\n",
    "    \"task.nr_train_images\": 800,\n",
    "    \"task.notebook\": \"notebooks/benchmark-model.py\",\n",
    "    \"task.max_nr_retries\": \"1\",\n",
    "    \"run.retry_nr\": \"0\",\n",
    "    \"task.timeout_s\": \"None\",\n",
    "    \"task.num_cpus\": 1,\n",
    "    \"_opentelemetry_traceparent\": \"00-5bcb631ca66250a3838fb46c02b9727a-8cf5bddcf5ea197c-01\",\n",
    "}\n"
   ]
  },
  {
   "cell_type": "code",
   "execution_count": 4,
   "id": "95ee4d2d",
   "metadata": {
    "execution": {
     "iopub.execute_input": "2022-07-18T06:51:53.384809Z",
     "iopub.status.busy": "2022-07-18T06:51:53.384561Z",
     "iopub.status.idle": "2022-07-18T06:51:53.388127Z",
     "shell.execute_reply": "2022-07-18T06:51:53.387512Z"
    },
    "lines_to_next_cell": 0,
    "papermill": {
     "duration": 0.016717,
     "end_time": "2022-07-18T06:51:53.391858",
     "exception": false,
     "start_time": "2022-07-18T06:51:53.375141",
     "status": "completed"
    },
    "tags": []
   },
   "outputs": [],
   "source": [
    "# -----------------------------------------------------------------------"
   ]
  },
  {
   "cell_type": "markdown",
   "id": "0d9435de",
   "metadata": {
    "papermill": {
     "duration": 0.006207,
     "end_time": "2022-07-18T06:51:53.403081",
     "exception": false,
     "start_time": "2022-07-18T06:51:53.396874",
     "status": "completed"
    },
    "tags": []
   },
   "source": [
    "---"
   ]
  },
  {
   "cell_type": "markdown",
   "id": "c262aa23",
   "metadata": {
    "lines_to_next_cell": 2,
    "papermill": {
     "duration": 0.00524,
     "end_time": "2022-07-18T06:51:53.417258",
     "exception": false,
     "start_time": "2022-07-18T06:51:53.412018",
     "status": "completed"
    },
    "tags": []
   },
   "source": [
    "### Notebook code"
   ]
  },
  {
   "cell_type": "code",
   "execution_count": 5,
   "id": "82724e98",
   "metadata": {
    "execution": {
     "iopub.execute_input": "2022-07-18T06:51:53.428403Z",
     "iopub.status.busy": "2022-07-18T06:51:53.428136Z",
     "iopub.status.idle": "2022-07-18T06:51:54.630565Z",
     "shell.execute_reply": "2022-07-18T06:51:54.629090Z"
    },
    "papermill": {
     "duration": 1.211423,
     "end_time": "2022-07-18T06:51:54.633325",
     "exception": false,
     "start_time": "2022-07-18T06:51:53.421902",
     "status": "completed"
    },
    "tags": []
   },
   "outputs": [
    {
     "name": "stderr",
     "output_type": "stream",
     "text": [
      "2022-07-18 06:51:54,455\tINFO worker.py:842 -- Connecting to existing Ray cluster at address: 172.17.0.2:6379\n"
     ]
    }
   ],
   "source": [
    "import itertools as it\n",
    "\n",
    "#\n",
    "import numpy as np\n",
    "import matplotlib.pyplot as plt\n",
    "\n",
    "#\n",
    "from pynb_dag_runner.tasks.task_opentelemetry_logging import PydarLogger\n",
    "\n",
    "#\n",
    "from common.io import datalake_root\n",
    "\n",
    "logger = PydarLogger(P)"
   ]
  },
  {
   "cell_type": "markdown",
   "id": "939444df",
   "metadata": {
    "papermill": {
     "duration": 0.007591,
     "end_time": "2022-07-18T06:51:54.646270",
     "exception": false,
     "start_time": "2022-07-18T06:51:54.638679",
     "status": "completed"
    },
    "tags": []
   },
   "source": [
    "## Load persisted onnx-model and evaluation data"
   ]
  },
  {
   "cell_type": "code",
   "execution_count": 6,
   "id": "17c9c2d3",
   "metadata": {
    "execution": {
     "iopub.execute_input": "2022-07-18T06:51:54.660574Z",
     "iopub.status.busy": "2022-07-18T06:51:54.660189Z",
     "iopub.status.idle": "2022-07-18T06:51:54.665791Z",
     "shell.execute_reply": "2022-07-18T06:51:54.664891Z"
    },
    "papermill": {
     "duration": 0.016516,
     "end_time": "2022-07-18T06:51:54.667605",
     "exception": false,
     "start_time": "2022-07-18T06:51:54.651089",
     "status": "completed"
    },
    "tags": []
   },
   "outputs": [],
   "source": [
    "from common.io import read_onnx, get_onnx_inputs, get_onnx_outputs, read_numpy"
   ]
  },
  {
   "cell_type": "code",
   "execution_count": 7,
   "id": "f8b68811",
   "metadata": {
    "execution": {
     "iopub.execute_input": "2022-07-18T06:51:54.696093Z",
     "iopub.status.busy": "2022-07-18T06:51:54.695806Z",
     "iopub.status.idle": "2022-07-18T06:51:54.706501Z",
     "shell.execute_reply": "2022-07-18T06:51:54.705822Z"
    },
    "lines_to_next_cell": 0,
    "papermill": {
     "duration": 0.034956,
     "end_time": "2022-07-18T06:51:54.708320",
     "exception": false,
     "start_time": "2022-07-18T06:51:54.673364",
     "status": "completed"
    },
    "tags": []
   },
   "outputs": [],
   "source": [
    "onnx_inference_session = read_onnx(\n",
    "    datalake_root(P)\n",
    "    / \"models\"\n",
    "    / f\"nr_train_images={P['task.nr_train_images']}\"\n",
    "    / \"model.onnx\"\n",
    ")"
   ]
  },
  {
   "cell_type": "markdown",
   "id": "50fa452d",
   "metadata": {
    "papermill": {
     "duration": 0.004909,
     "end_time": "2022-07-18T06:51:54.718071",
     "exception": false,
     "start_time": "2022-07-18T06:51:54.713162",
     "status": "completed"
    },
    "tags": []
   },
   "source": [
    "### Record structure of inputs and outputs for ONNX model\n",
    "\n",
    "(this should likely be done in training notebook)"
   ]
  },
  {
   "cell_type": "code",
   "execution_count": 8,
   "id": "bbb6df46",
   "metadata": {
    "execution": {
     "iopub.execute_input": "2022-07-18T06:51:54.728721Z",
     "iopub.status.busy": "2022-07-18T06:51:54.728455Z",
     "iopub.status.idle": "2022-07-18T06:51:54.734650Z",
     "shell.execute_reply": "2022-07-18T06:51:54.734081Z"
    },
    "papermill": {
     "duration": 0.015348,
     "end_time": "2022-07-18T06:51:54.738387",
     "exception": false,
     "start_time": "2022-07-18T06:51:54.723039",
     "status": "completed"
    },
    "tags": []
   },
   "outputs": [
    {
     "name": "stdout",
     "output_type": "stream",
     "text": [
      "{\n",
      "  \"inputs\": [\n",
      "    {\n",
      "      \"name\": \"float_input_8x8_image\",\n",
      "      \"shape\": [\n",
      "        null,\n",
      "        64\n",
      "      ],\n",
      "      \"type\": \"tensor(float)\"\n",
      "    }\n",
      "  ],\n",
      "  \"outputs\": [\n",
      "    {\n",
      "      \"name\": \"output_label\",\n",
      "      \"shape\": [\n",
      "        null\n",
      "      ],\n",
      "      \"type\": \"tensor(int64)\"\n",
      "    },\n",
      "    {\n",
      "      \"name\": \"output_probability\",\n",
      "      \"shape\": [],\n",
      "      \"type\": \"seq(map(int64,tensor(float)))\"\n",
      "    }\n",
      "  ]\n",
      "}\n"
     ]
    }
   ],
   "source": [
    "import json\n",
    "\n",
    "onnx_io = json.dumps(\n",
    "    {\n",
    "        \"inputs\": get_onnx_inputs(onnx_inference_session),\n",
    "        \"outputs\": get_onnx_outputs(onnx_inference_session),\n",
    "    },\n",
    "    indent=2,\n",
    ")\n",
    "\n",
    "\n",
    "logger.log_artefact(\"onnx_io_structure.json\", onnx_io)\n",
    "print(onnx_io)"
   ]
  },
  {
   "cell_type": "markdown",
   "id": "0f9e0177",
   "metadata": {
    "papermill": {
     "duration": 0.004853,
     "end_time": "2022-07-18T06:51:54.748073",
     "exception": false,
     "start_time": "2022-07-18T06:51:54.743220",
     "status": "completed"
    },
    "tags": []
   },
   "source": [
    "### Evaluate model performance on evaluation data set"
   ]
  },
  {
   "cell_type": "code",
   "execution_count": 9,
   "id": "cc82983e",
   "metadata": {
    "execution": {
     "iopub.execute_input": "2022-07-18T06:51:54.760345Z",
     "iopub.status.busy": "2022-07-18T06:51:54.760087Z",
     "iopub.status.idle": "2022-07-18T06:51:54.765267Z",
     "shell.execute_reply": "2022-07-18T06:51:54.764661Z"
    },
    "papermill": {
     "duration": 0.014067,
     "end_time": "2022-07-18T06:51:54.768534",
     "exception": false,
     "start_time": "2022-07-18T06:51:54.754467",
     "status": "completed"
    },
    "tags": []
   },
   "outputs": [],
   "source": [
    "# load evaluation data\n",
    "X_test = read_numpy(datalake_root(P) / \"test-data\" / \"digits.numpy\")\n",
    "y_test = read_numpy(datalake_root(P) / \"test-data\" / \"labels.numpy\")"
   ]
  },
  {
   "cell_type": "code",
   "execution_count": 10,
   "id": "182606a8",
   "metadata": {
    "execution": {
     "iopub.execute_input": "2022-07-18T06:51:54.780547Z",
     "iopub.status.busy": "2022-07-18T06:51:54.780284Z",
     "iopub.status.idle": "2022-07-18T06:51:54.796348Z",
     "shell.execute_reply": "2022-07-18T06:51:54.795496Z"
    },
    "papermill": {
     "duration": 0.024314,
     "end_time": "2022-07-18T06:51:54.798690",
     "exception": false,
     "start_time": "2022-07-18T06:51:54.774376",
     "status": "completed"
    },
    "tags": []
   },
   "outputs": [],
   "source": [
    "def get_model_outputs(X, onnx_inference_session):\n",
    "    y_pred_labels, y_pred_map = onnx_inference_session.run(\n",
    "        [\"output_label\", \"output_probability\"],\n",
    "        {\"float_input_8x8_image\": X.astype(np.float32)},\n",
    "    )\n",
    "    y_pred_probs = np.array(\n",
    "        [[probabilities[digit] for digit in range(10)] for probabilities in y_pred_map]\n",
    "    )\n",
    "\n",
    "    assert y_pred_labels.shape == (X.shape[0],)\n",
    "    assert y_pred_probs.shape == (X.shape[0], 10)\n",
    "\n",
    "    return y_pred_labels, y_pred_probs\n",
    "\n",
    "\n",
    "# Note: as shown in the training notebook, the predicted labels and probabilities\n",
    "# computed below need not be compatible.\n",
    "y_pred_labels_test, y_pred_probs_test = get_model_outputs(\n",
    "    X_test, onnx_inference_session\n",
    ")"
   ]
  },
  {
   "cell_type": "markdown",
   "id": "b059f157",
   "metadata": {
    "papermill": {
     "duration": 0.005085,
     "end_time": "2022-07-18T06:51:54.808975",
     "exception": false,
     "start_time": "2022-07-18T06:51:54.803890",
     "status": "completed"
    },
    "tags": []
   },
   "source": [
    "### Confusion matrix"
   ]
  },
  {
   "cell_type": "code",
   "execution_count": 11,
   "id": "75de1c36",
   "metadata": {
    "execution": {
     "iopub.execute_input": "2022-07-18T06:51:54.819970Z",
     "iopub.status.busy": "2022-07-18T06:51:54.819704Z",
     "iopub.status.idle": "2022-07-18T06:51:54.822924Z",
     "shell.execute_reply": "2022-07-18T06:51:54.822076Z"
    },
    "papermill": {
     "duration": 0.012835,
     "end_time": "2022-07-18T06:51:54.826752",
     "exception": false,
     "start_time": "2022-07-18T06:51:54.813917",
     "status": "completed"
    },
    "tags": []
   },
   "outputs": [],
   "source": [
    "# TODO"
   ]
  },
  {
   "cell_type": "markdown",
   "id": "f5187369",
   "metadata": {
    "papermill": {
     "duration": 0.005167,
     "end_time": "2022-07-18T06:51:54.838336",
     "exception": false,
     "start_time": "2022-07-18T06:51:54.833169",
     "status": "completed"
    },
    "tags": []
   },
   "source": [
    "### Plot predicted probabilities for each classifier over all evaluation digit images"
   ]
  },
  {
   "cell_type": "code",
   "execution_count": 12,
   "id": "d9d4843b",
   "metadata": {
    "execution": {
     "iopub.execute_input": "2022-07-18T06:51:54.849325Z",
     "iopub.status.busy": "2022-07-18T06:51:54.849045Z",
     "iopub.status.idle": "2022-07-18T06:51:58.473652Z",
     "shell.execute_reply": "2022-07-18T06:51:58.472761Z"
    },
    "papermill": {
     "duration": 3.632692,
     "end_time": "2022-07-18T06:51:58.475801",
     "exception": false,
     "start_time": "2022-07-18T06:51:54.843109",
     "status": "completed"
    },
    "tags": []
   },
   "outputs": [
    {
     "data": {
      "image/png": "[encoded data removed]",
      "text/plain": [
       "<Figure size 1152x432 with 10 Axes>"
      ]
     },
     "metadata": {
      "needs_background": "light"
     },
     "output_type": "display_data"
    }
   ],
   "source": [
    "def plot_per_digit_probabilities(y_pred_probs):\n",
    "    fig, axs = plt.subplots(nrows=2, ncols=5, figsize=(16, 6))\n",
    "\n",
    "    for (r, c), digit, ax in zip(\n",
    "        it.product(range(2), range(5)), range(10), axs.reshape(-1)\n",
    "    ):\n",
    "        ax.hist(y_pred_probs_test[:, digit], bins=20)\n",
    "\n",
    "        ax.set_title(f\"Digit {digit}\")\n",
    "        if r == 1 and c == 2:\n",
    "            ax.set_xlabel(\"probability\", fontsize=16)\n",
    "\n",
    "        if c == 0:\n",
    "            ax.set_ylabel(\"counts\", fontsize=16)\n",
    "        ax.set_yscale(\"log\")\n",
    "\n",
    "    fig.tight_layout()\n",
    "    fig.suptitle(\n",
    "        f\"Distributions of prediction probabilities for each digit \"\n",
    "        f\"(on evaluation data, n={y_pred_probs.shape[0]})\",\n",
    "        fontsize=20,\n",
    "    )\n",
    "    fig.tight_layout()\n",
    "    fig.show()\n",
    "\n",
    "    return fig\n",
    "\n",
    "\n",
    "fig = plot_per_digit_probabilities(y_pred_probs_test)"
   ]
  },
  {
   "cell_type": "markdown",
   "id": "4bc83aec",
   "metadata": {
    "papermill": {
     "duration": 0.006299,
     "end_time": "2022-07-18T06:51:58.488886",
     "exception": false,
     "start_time": "2022-07-18T06:51:58.482587",
     "status": "completed"
    },
    "tags": []
   },
   "source": [
    "From the above distributions we see that most digits have clear separation between\n",
    "high and lower probabilities. Morover, in each case there is roughly an order of\n",
    "magnitude more of digits with low probabilities. This is compatible with digits\n",
    "being roughly evenly distributed in the data."
   ]
  },
  {
   "cell_type": "code",
   "execution_count": 13,
   "id": "3d74ef08",
   "metadata": {
    "execution": {
     "iopub.execute_input": "2022-07-18T06:51:58.501822Z",
     "iopub.status.busy": "2022-07-18T06:51:58.501539Z",
     "iopub.status.idle": "2022-07-18T06:51:58.980218Z",
     "shell.execute_reply": "2022-07-18T06:51:58.979183Z"
    },
    "papermill": {
     "duration": 0.487641,
     "end_time": "2022-07-18T06:51:58.982355",
     "exception": false,
     "start_time": "2022-07-18T06:51:58.494714",
     "status": "completed"
    },
    "tags": []
   },
   "outputs": [],
   "source": [
    "logger.log_figure(\"per-digit-probabilities.png\", fig)"
   ]
  },
  {
   "cell_type": "markdown",
   "id": "d6878fb4",
   "metadata": {
    "papermill": {
     "duration": 0.005941,
     "end_time": "2022-07-18T06:51:58.994676",
     "exception": false,
     "start_time": "2022-07-18T06:51:58.988735",
     "status": "completed"
    },
    "tags": []
   },
   "source": [
    "### Plot ROC curves for individual one-vs-rest classifiers"
   ]
  },
  {
   "cell_type": "code",
   "execution_count": 14,
   "id": "899f2ac8",
   "metadata": {
    "execution": {
     "iopub.execute_input": "2022-07-18T06:51:59.008516Z",
     "iopub.status.busy": "2022-07-18T06:51:59.008110Z",
     "iopub.status.idle": "2022-07-18T06:51:59.471242Z",
     "shell.execute_reply": "2022-07-18T06:51:59.470577Z"
    },
    "papermill": {
     "duration": 0.472981,
     "end_time": "2022-07-18T06:51:59.474092",
     "exception": false,
     "start_time": "2022-07-18T06:51:59.001111",
     "status": "completed"
    },
    "tags": []
   },
   "outputs": [],
   "source": [
    "from sklearn import metrics"
   ]
  },
  {
   "cell_type": "code",
   "execution_count": 15,
   "id": "7b6145b9",
   "metadata": {
    "execution": {
     "iopub.execute_input": "2022-07-18T06:51:59.488639Z",
     "iopub.status.busy": "2022-07-18T06:51:59.488356Z",
     "iopub.status.idle": "2022-07-18T06:52:00.678870Z",
     "shell.execute_reply": "2022-07-18T06:52:00.678217Z"
    },
    "papermill": {
     "duration": 1.200192,
     "end_time": "2022-07-18T06:52:00.680844",
     "exception": false,
     "start_time": "2022-07-18T06:51:59.480652",
     "status": "completed"
    },
    "tags": []
   },
   "outputs": [
    {
     "data": {
      "image/png": "[encoded data removed]",
      "text/plain": [
       "<Figure size 1152x576 with 10 Axes>"
      ]
     },
     "metadata": {
      "needs_background": "light"
     },
     "output_type": "display_data"
    }
   ],
   "source": [
    "def plot_roc_curves(y, y_pred_probs):\n",
    "    # based on example code\n",
    "    # https://scikit-learn.org/stable/auto_examples/model_selection/plot_roc.html\n",
    "\n",
    "    fig, axs = plt.subplots(nrows=2, ncols=5, figsize=(16, 8))\n",
    "\n",
    "    roc_auc_dict = {}\n",
    "\n",
    "    for (r, c), digit, ax in zip(\n",
    "        it.product(range(2), range(5)), range(10), axs.reshape(-1)\n",
    "    ):\n",
    "        fpr, tpr, _ = metrics.roc_curve(y == digit, y_pred_probs[:, digit])\n",
    "        auc = metrics.auc(fpr, tpr)\n",
    "        roc_auc_dict[str(digit)] = auc\n",
    "\n",
    "        ax.plot(fpr, tpr, label=f\"ROC AUC={round(auc, 3)}\")\n",
    "\n",
    "        ax.set_title(f\"\\nDigit {digit}\", fontsize=16)\n",
    "        if r == 1:\n",
    "            ax.set_xlabel(\"FPR\", fontsize=18)\n",
    "\n",
    "        if c == 0:\n",
    "            ax.set_ylabel(\"TPR\", fontsize=18)\n",
    "\n",
    "        ax.set_xlim([-0.05, 1.05])\n",
    "        ax.set_ylim([-0.05, 1.05])\n",
    "        ax.legend(loc=\"lower right\", frameon=False, fontsize=14)\n",
    "\n",
    "    fig.tight_layout()\n",
    "    fig.suptitle(\n",
    "        f\"ROC plots for one-vs-rest performances \"\n",
    "        f\"(on evaluation data, n={y_pred_probs_test.shape[1]}\",\n",
    "        fontsize=22,\n",
    "    )\n",
    "    fig.tight_layout()\n",
    "    fig.show()\n",
    "\n",
    "    return roc_auc_dict, fig\n",
    "\n",
    "\n",
    "roc_auc_dict, fig = plot_roc_curves(y_test, y_pred_probs_test)"
   ]
  },
  {
   "cell_type": "code",
   "execution_count": 16,
   "id": "9f0ad74f",
   "metadata": {
    "execution": {
     "iopub.execute_input": "2022-07-18T06:52:00.696082Z",
     "iopub.status.busy": "2022-07-18T06:52:00.695693Z",
     "iopub.status.idle": "2022-07-18T06:52:00.942490Z",
     "shell.execute_reply": "2022-07-18T06:52:00.941804Z"
    },
    "papermill": {
     "duration": 0.256407,
     "end_time": "2022-07-18T06:52:00.944669",
     "exception": false,
     "start_time": "2022-07-18T06:52:00.688262",
     "status": "completed"
    },
    "tags": []
   },
   "outputs": [],
   "source": [
    "logger.log_figure(\"per-digit-roc-curves.png\", fig)"
   ]
  },
  {
   "cell_type": "code",
   "execution_count": 17,
   "id": "36798a12",
   "metadata": {
    "execution": {
     "iopub.execute_input": "2022-07-18T06:52:00.962288Z",
     "iopub.status.busy": "2022-07-18T06:52:00.961902Z",
     "iopub.status.idle": "2022-07-18T06:52:00.968094Z",
     "shell.execute_reply": "2022-07-18T06:52:00.967015Z"
    },
    "papermill": {
     "duration": 0.019297,
     "end_time": "2022-07-18T06:52:00.971155",
     "exception": false,
     "start_time": "2022-07-18T06:52:00.951858",
     "status": "completed"
    },
    "tags": []
   },
   "outputs": [
    {
     "data": {
      "text/plain": [
       "{'0': 1.0,\n",
       " '1': 0.9988003748828491,\n",
       " '2': 1.0,\n",
       " '3': 0.9998125585754452,\n",
       " '4': 0.9994665447340345,\n",
       " '5': 0.9991377694470478,\n",
       " '6': 0.999961896052431,\n",
       " '7': 0.9998856881572931,\n",
       " '8': 0.9931431273644388,\n",
       " '9': 0.9995046486816034}"
      ]
     },
     "execution_count": 17,
     "metadata": {},
     "output_type": "execute_result"
    }
   ],
   "source": [
    "roc_auc_dict"
   ]
  },
  {
   "cell_type": "code",
   "execution_count": 18,
   "id": "e44287bc",
   "metadata": {
    "execution": {
     "iopub.execute_input": "2022-07-18T06:52:00.986583Z",
     "iopub.status.busy": "2022-07-18T06:52:00.986103Z",
     "iopub.status.idle": "2022-07-18T06:52:00.990694Z",
     "shell.execute_reply": "2022-07-18T06:52:00.990055Z"
    },
    "papermill": {
     "duration": 0.016809,
     "end_time": "2022-07-18T06:52:00.994382",
     "exception": false,
     "start_time": "2022-07-18T06:52:00.977573",
     "status": "completed"
    },
    "tags": []
   },
   "outputs": [
    {
     "name": "stdout",
     "output_type": "stream",
     "text": [
      " - Logging roc_auc_per_digit (json) : {'0': 1.0, '1': 0.9988003748828491, '2': 1.0, '3': 0.9998125585754452, '4': 0.9994665447340345, '5': 0.9991377694470478, '6': 0.999961896052431, '7': 0.9998856881572931, '8': 0.9931431273644388, '9': 0.9995046486816034}\n"
     ]
    }
   ],
   "source": [
    "logger.log_value(\"roc_auc_per_digit\", roc_auc_dict)"
   ]
  },
  {
   "cell_type": "markdown",
   "id": "fd9ec719",
   "metadata": {
    "papermill": {
     "duration": 0.006567,
     "end_time": "2022-07-18T06:52:01.007506",
     "exception": false,
     "start_time": "2022-07-18T06:52:01.000939",
     "status": "completed"
    },
    "tags": []
   },
   "source": [
    "### Compute and log mean ROC AUC score averaged over all digits"
   ]
  },
  {
   "cell_type": "code",
   "execution_count": 19,
   "id": "128cf6ae",
   "metadata": {
    "execution": {
     "iopub.execute_input": "2022-07-18T06:52:01.021996Z",
     "iopub.status.busy": "2022-07-18T06:52:01.021484Z",
     "iopub.status.idle": "2022-07-18T06:52:01.036411Z",
     "shell.execute_reply": "2022-07-18T06:52:01.035461Z"
    },
    "papermill": {
     "duration": 0.024125,
     "end_time": "2022-07-18T06:52:01.038320",
     "exception": false,
     "start_time": "2022-07-18T06:52:01.014195",
     "status": "completed"
    },
    "tags": []
   },
   "outputs": [
    {
     "name": "stdout",
     "output_type": "stream",
     "text": [
      " - Logging roc_auc_class_mean (float) : 0.9989712607895141\n"
     ]
    }
   ],
   "source": [
    "roc_auc_macro = np.mean(list(roc_auc_dict.values()))\n",
    "\n",
    "logger.log_float(\"roc_auc_class_mean\", roc_auc_macro)\n",
    "\n",
    "# assert that the same value can be computed directly using sklearn\n",
    "assert roc_auc_macro == metrics.roc_auc_score(\n",
    "    y_test, y_pred_probs_test, average=\"macro\", multi_class=\"ovr\"\n",
    ")"
   ]
  },
  {
   "cell_type": "code",
   "execution_count": 20,
   "id": "b7e467f3",
   "metadata": {
    "execution": {
     "iopub.execute_input": "2022-07-18T06:52:01.053349Z",
     "iopub.status.busy": "2022-07-18T06:52:01.052933Z",
     "iopub.status.idle": "2022-07-18T06:52:01.059116Z",
     "shell.execute_reply": "2022-07-18T06:52:01.055597Z"
    },
    "lines_to_next_cell": 0,
    "papermill": {
     "duration": 0.016796,
     "end_time": "2022-07-18T06:52:01.061975",
     "exception": false,
     "start_time": "2022-07-18T06:52:01.045179",
     "status": "completed"
    },
    "tags": []
   },
   "outputs": [],
   "source": [
    "# ---"
   ]
  },
  {
   "cell_type": "code",
   "execution_count": null,
   "id": "b97fb033",
   "metadata": {
    "papermill": {
     "duration": 0.006696,
     "end_time": "2022-07-18T06:52:01.074633",
     "exception": false,
     "start_time": "2022-07-18T06:52:01.067937",
     "status": "completed"
    },
    "tags": []
   },
   "outputs": [],
   "source": []
  }
 ],
 "metadata": {
  "jupytext": {
   "cell_metadata_filter": "tags,-all",
   "main_language": "python",
   "notebook_metadata_filter": "-all"
  },
  "language_info": {
   "codemirror_mode": {
    "name": "ipython",
    "version": 3
   },
   "file_extension": ".py",
   "mimetype": "text/x-python",
   "name": "python",
   "nbconvert_exporter": "python",
   "pygments_lexer": "ipython3",
   "version": "3.8.10"
  },
  "papermill": {
   "default_parameters": {},
   "duration": 10.486562,
   "end_time": "2022-07-18T06:52:02.305347",
   "environment_variables": {},
   "exception": null,
   "input_path": "/home/host_user/workspace/mnist-demo-pipeline/mnist-demo-pipeline/notebooks/temp-notebook-mlgfmp89.ipynb",
   "output_path": "notebooks/benchmark-model.ipynb",
   "parameters": {
    "P": {
     "_opentelemetry_traceparent": "00-5bcb631ca66250a3838fb46c02b9727a-8cf5bddcf5ea197c-01",
     "pipeline.data_lake_root": "/pipeline-outputs/data-lake",
     "pipeline.github.actor": "matiasdahl",
     "pipeline.github.base_ref": "",
     "pipeline.github.event_name": "schedule",
     "pipeline.github.head_ref": "",
     "pipeline.github.job": "run-tests-pipeline-and-persist-pipeline-outputs",
     "pipeline.github.ref": "refs/heads/development",
     "pipeline.github.ref_name": "development",
     "pipeline.github.ref_type": "branch",
     "pipeline.github.repository": "pynb-dag-runner/mnist-digits-demo-pipeline",
     "pipeline.github.run_id": "2688640586",
     "pipeline.github.runner_name": "Hosted Agent",
     "pipeline.github.sha": "147a1be9916173fd4d2cd011d8d51e3411215850",
     "pipeline.github.workflow": "Run automated tests, pipeline and deploy results to static reporting site",
     "pipeline.pipeline_run_id": "9956fcd3-236b-46e4-b3bb-d198ded018af",
     "pipeline.run_environment": "ci",
     "run.retry_nr": "0",
     "task.max_nr_retries": "1",
     "task.notebook": "notebooks/benchmark-model.py",
     "task.nr_train_images": 800,
     "task.num_cpus": 1,
     "task.timeout_s": "None"
    }
   },
   "start_time": "2022-07-18T06:51:51.818785",
   "version": "2.3.3"
  }
 },
 "nbformat": 4,
 "nbformat_minor": 5
}