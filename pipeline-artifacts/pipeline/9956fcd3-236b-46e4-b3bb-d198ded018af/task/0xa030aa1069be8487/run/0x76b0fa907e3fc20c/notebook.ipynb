{
 "cells": [
  {
   "cell_type": "markdown",
   "id": "362e83c9",
   "metadata": {
    "papermill": {
     "duration": 0.004443,
     "end_time": "2022-07-18T06:51:33.790768",
     "exception": false,
     "start_time": "2022-07-18T06:51:33.786325",
     "status": "completed"
    },
    "tags": []
   },
   "source": [
    "# Train model\n",
    "\n",
    "The purpose of this notebook is:\n",
    "\n",
    "- Load all training data (images and labels).\n",
    "- Limit number of train images to `task.nr_train_images` (value provided as run parameter).\n",
    "- Train a support vector machine model using sklearn.\n",
    "- Persist the trained model using the ONNX format."
   ]
  },
  {
   "cell_type": "markdown",
   "id": "7c781340",
   "metadata": {
    "papermill": {
     "duration": 0.003274,
     "end_time": "2022-07-18T06:51:33.797689",
     "exception": false,
     "start_time": "2022-07-18T06:51:33.794415",
     "status": "completed"
    },
    "tags": []
   },
   "source": [
    "### Determine run parameters"
   ]
  },
  {
   "cell_type": "code",
   "execution_count": 1,
   "id": "f26441c9",
   "metadata": {
    "execution": {
     "iopub.execute_input": "2022-07-18T06:51:33.805147Z",
     "iopub.status.busy": "2022-07-18T06:51:33.804786Z",
     "iopub.status.idle": "2022-07-18T06:51:33.814127Z",
     "shell.execute_reply": "2022-07-18T06:51:33.813573Z"
    },
    "lines_to_next_cell": 0,
    "papermill": {
     "duration": 0.015185,
     "end_time": "2022-07-18T06:51:33.815913",
     "exception": false,
     "start_time": "2022-07-18T06:51:33.800728",
     "status": "completed"
    },
    "tags": []
   },
   "outputs": [],
   "source": [
    "# ----------------- Parameters for interactive development --------------\n",
    "P = {\n",
    "    \"pipeline.data_lake_root\": \"/pipeline-outputs/data-lake\",\n",
    "    \"task.nr_train_images\": 600,\n",
    "}"
   ]
  },
  {
   "cell_type": "code",
   "execution_count": 2,
   "id": "7ebea85b",
   "metadata": {
    "execution": {
     "iopub.execute_input": "2022-07-18T06:51:33.823229Z",
     "iopub.status.busy": "2022-07-18T06:51:33.822994Z",
     "iopub.status.idle": "2022-07-18T06:51:33.825985Z",
     "shell.execute_reply": "2022-07-18T06:51:33.825398Z"
    },
    "lines_to_next_cell": 0,
    "papermill": {
     "duration": 0.009638,
     "end_time": "2022-07-18T06:51:33.828853",
     "exception": false,
     "start_time": "2022-07-18T06:51:33.819215",
     "status": "completed"
    },
    "tags": [
     "parameters"
    ]
   },
   "outputs": [],
   "source": [
    "# - During automated runs parameters will be injected in the below cell -"
   ]
  },
  {
   "cell_type": "code",
   "execution_count": 3,
   "id": "a63f1b4d",
   "metadata": {
    "execution": {
     "iopub.execute_input": "2022-07-18T06:51:33.836036Z",
     "iopub.status.busy": "2022-07-18T06:51:33.835820Z",
     "iopub.status.idle": "2022-07-18T06:51:33.840806Z",
     "shell.execute_reply": "2022-07-18T06:51:33.840271Z"
    },
    "papermill": {
     "duration": 0.011643,
     "end_time": "2022-07-18T06:51:33.843486",
     "exception": false,
     "start_time": "2022-07-18T06:51:33.831843",
     "status": "completed"
    },
    "tags": [
     "injected-parameters"
    ]
   },
   "outputs": [],
   "source": [
    "# Parameters\n",
    "P = {\n",
    "    \"pipeline.data_lake_root\": \"/pipeline-outputs/data-lake\",\n",
    "    \"pipeline.run_environment\": \"ci\",\n",
    "    \"pipeline.pipeline_run_id\": \"9956fcd3-236b-46e4-b3bb-d198ded018af\",\n",
    "    \"pipeline.github.repository\": \"pynb-dag-runner/mnist-digits-demo-pipeline\",\n",
    "    \"pipeline.github.workflow\": \"Run automated tests, pipeline and deploy results to static reporting site\",\n",
    "    \"pipeline.github.runner_name\": \"Hosted Agent\",\n",
    "    \"pipeline.github.run_id\": \"2688640586\",\n",
    "    \"pipeline.github.actor\": \"matiasdahl\",\n",
    "    \"pipeline.github.job\": \"run-tests-pipeline-and-persist-pipeline-outputs\",\n",
    "    \"pipeline.github.base_ref\": \"\",\n",
    "    \"pipeline.github.head_ref\": \"\",\n",
    "    \"pipeline.github.sha\": \"147a1be9916173fd4d2cd011d8d51e3411215850\",\n",
    "    \"pipeline.github.ref\": \"refs/heads/development\",\n",
    "    \"pipeline.github.ref_type\": \"branch\",\n",
    "    \"pipeline.github.ref_name\": \"development\",\n",
    "    \"pipeline.github.event_name\": \"schedule\",\n",
    "    \"task.nr_train_images\": 800,\n",
    "    \"task.notebook\": \"notebooks/train-model.py\",\n",
    "    \"task.max_nr_retries\": \"1\",\n",
    "    \"run.retry_nr\": \"0\",\n",
    "    \"task.timeout_s\": \"None\",\n",
    "    \"task.num_cpus\": 1,\n",
    "    \"_opentelemetry_traceparent\": \"00-5bcb631ca66250a3838fb46c02b9727a-77a42dd26bcd8f83-01\",\n",
    "}\n"
   ]
  },
  {
   "cell_type": "code",
   "execution_count": 4,
   "id": "445612c8",
   "metadata": {
    "execution": {
     "iopub.execute_input": "2022-07-18T06:51:33.851066Z",
     "iopub.status.busy": "2022-07-18T06:51:33.850853Z",
     "iopub.status.idle": "2022-07-18T06:51:33.853687Z",
     "shell.execute_reply": "2022-07-18T06:51:33.853111Z"
    },
    "lines_to_next_cell": 0,
    "papermill": {
     "duration": 0.009907,
     "end_time": "2022-07-18T06:51:33.856800",
     "exception": false,
     "start_time": "2022-07-18T06:51:33.846893",
     "status": "completed"
    },
    "tags": []
   },
   "outputs": [],
   "source": [
    "# -----------------------------------------------------------------------"
   ]
  },
  {
   "cell_type": "markdown",
   "id": "a2f27c09",
   "metadata": {
    "papermill": {
     "duration": 0.003181,
     "end_time": "2022-07-18T06:51:33.864018",
     "exception": false,
     "start_time": "2022-07-18T06:51:33.860837",
     "status": "completed"
    },
    "tags": []
   },
   "source": [
    "---"
   ]
  },
  {
   "cell_type": "markdown",
   "id": "3bdfe7ae",
   "metadata": {
    "lines_to_next_cell": 2,
    "papermill": {
     "duration": 0.003709,
     "end_time": "2022-07-18T06:51:33.870836",
     "exception": false,
     "start_time": "2022-07-18T06:51:33.867127",
     "status": "completed"
    },
    "tags": []
   },
   "source": [
    "### Notebook code"
   ]
  },
  {
   "cell_type": "code",
   "execution_count": 5,
   "id": "3fb2f7c4",
   "metadata": {
    "execution": {
     "iopub.execute_input": "2022-07-18T06:51:33.878277Z",
     "iopub.status.busy": "2022-07-18T06:51:33.878028Z",
     "iopub.status.idle": "2022-07-18T06:51:34.403249Z",
     "shell.execute_reply": "2022-07-18T06:51:34.402388Z"
    },
    "papermill": {
     "duration": 0.53173,
     "end_time": "2022-07-18T06:51:34.405697",
     "exception": false,
     "start_time": "2022-07-18T06:51:33.873967",
     "status": "completed"
    },
    "tags": []
   },
   "outputs": [
    {
     "name": "stderr",
     "output_type": "stream",
     "text": [
      "2022-07-18 06:51:34,222\tINFO worker.py:842 -- Connecting to existing Ray cluster at address: 172.17.0.2:6379\n"
     ]
    }
   ],
   "source": [
    "from pynb_dag_runner.tasks.task_opentelemetry_logging import PydarLogger\n",
    "\n",
    "logger = PydarLogger(P)"
   ]
  },
  {
   "cell_type": "markdown",
   "id": "1c6daa49",
   "metadata": {
    "papermill": {
     "duration": 0.003847,
     "end_time": "2022-07-18T06:51:34.414859",
     "exception": false,
     "start_time": "2022-07-18T06:51:34.411012",
     "status": "completed"
    },
    "tags": []
   },
   "source": [
    "## Load and limit train data"
   ]
  },
  {
   "cell_type": "code",
   "execution_count": 6,
   "id": "d9ccd7fc",
   "metadata": {
    "execution": {
     "iopub.execute_input": "2022-07-18T06:51:34.424132Z",
     "iopub.status.busy": "2022-07-18T06:51:34.423765Z",
     "iopub.status.idle": "2022-07-18T06:51:34.870418Z",
     "shell.execute_reply": "2022-07-18T06:51:34.869575Z"
    },
    "papermill": {
     "duration": 0.453168,
     "end_time": "2022-07-18T06:51:34.872347",
     "exception": false,
     "start_time": "2022-07-18T06:51:34.419179",
     "status": "completed"
    },
    "tags": []
   },
   "outputs": [
    {
     "name": "stdout",
     "output_type": "stream",
     "text": [
      "\u001b[2m\u001b[1m\u001b[36m(scheduler +0s)\u001b[0m Tip: use `ray status` to view detailed cluster status. To disable these messages, set RAY_SCHEDULER_EVENTS=0.\n",
      "\u001b[2m\u001b[1m\u001b[33m(scheduler +0s)\u001b[0m Warning: The following resource request cannot be scheduled right now: {'CPU': 1.0}. This is likely due to all cluster resources being claimed by actors. Consider creating fewer actors or adding more nodes to this Ray cluster.\n"
     ]
    }
   ],
   "source": [
    "def load_and_limit_train_data(P):\n",
    "    from common.io import datalake_root, read_numpy\n",
    "    from sklearn.model_selection import train_test_split\n",
    "\n",
    "    X_train_all = read_numpy(datalake_root(P) / \"train-data\" / \"digits.numpy\")\n",
    "    y_train_all = read_numpy(datalake_root(P) / \"train-data\" / \"labels.numpy\")\n",
    "\n",
    "    assert isinstance(P[\"task.nr_train_images\"], int)\n",
    "\n",
    "    # Note: train_test_split will fail if split is 0 or 100%.\n",
    "    assert 0 < P[\"task.nr_train_images\"] < len(y_train_all)\n",
    "\n",
    "    X_train, _, y_train, _ = train_test_split(\n",
    "        X_train_all,\n",
    "        y_train_all,\n",
    "        train_size=P[\"task.nr_train_images\"],\n",
    "        test_size=None,\n",
    "        stratify=y_train_all,\n",
    "        shuffle=True,\n",
    "        random_state=123,\n",
    "    )\n",
    "\n",
    "    assert X_train.shape == (len(y_train), 8 * 8)\n",
    "    return X_train, y_train\n",
    "\n",
    "\n",
    "X_train, y_train = load_and_limit_train_data(P)"
   ]
  },
  {
   "cell_type": "markdown",
   "id": "da39ea99",
   "metadata": {
    "papermill": {
     "duration": 0.00365,
     "end_time": "2022-07-18T06:51:34.882047",
     "exception": false,
     "start_time": "2022-07-18T06:51:34.878397",
     "status": "completed"
    },
    "tags": []
   },
   "source": [
    "## Train support vector classifier model\n",
    "\n",
    "Below we assume that the hyperparameter $C$ is known.\n",
    "\n",
    "However, this should ideally be found by a hyperparameter search. That could be\n",
    "done in parallel on the Ray cluster, but this needs some more work. Ie., to use\n",
    "multiple cores in the notebook, those cores should be reserved when starting the\n",
    "notebook task (TODO).\n",
    "\n",
    "- https://docs.ray.io/en/latest/tune/key-concepts.html\n",
    "\n",
    "Note: cv-scores would need to be computed here, since they depend on the train data.\n",
    "After this notebook only the onnx-model is available."
   ]
  },
  {
   "cell_type": "code",
   "execution_count": 7,
   "id": "58f33aaa",
   "metadata": {
    "execution": {
     "iopub.execute_input": "2022-07-18T06:51:34.891152Z",
     "iopub.status.busy": "2022-07-18T06:51:34.890541Z",
     "iopub.status.idle": "2022-07-18T06:51:34.915183Z",
     "shell.execute_reply": "2022-07-18T06:51:34.913964Z"
    },
    "papermill": {
     "duration": 0.031556,
     "end_time": "2022-07-18T06:51:34.917308",
     "exception": false,
     "start_time": "2022-07-18T06:51:34.885752",
     "status": "completed"
    },
    "tags": []
   },
   "outputs": [],
   "source": [
    "from sklearn.svm import SVC"
   ]
  },
  {
   "cell_type": "code",
   "execution_count": 8,
   "id": "0f4d802c",
   "metadata": {
    "execution": {
     "iopub.execute_input": "2022-07-18T06:51:34.925866Z",
     "iopub.status.busy": "2022-07-18T06:51:34.925274Z",
     "iopub.status.idle": "2022-07-18T06:51:35.052344Z",
     "shell.execute_reply": "2022-07-18T06:51:35.051375Z"
    },
    "papermill": {
     "duration": 0.133828,
     "end_time": "2022-07-18T06:51:35.054485",
     "exception": false,
     "start_time": "2022-07-18T06:51:34.920657",
     "status": "completed"
    },
    "tags": []
   },
   "outputs": [
    {
     "data": {
      "text/plain": [
       "SVC(C=0.001, kernel='linear', probability=True)"
      ]
     },
     "execution_count": 8,
     "metadata": {},
     "output_type": "execute_result"
    }
   ],
   "source": [
    "model = SVC(C=0.001, kernel=\"linear\", probability=True)\n",
    "\n",
    "model.fit(X_train, y_train)"
   ]
  },
  {
   "cell_type": "markdown",
   "id": "6b0142d8",
   "metadata": {
    "papermill": {
     "duration": 0.003972,
     "end_time": "2022-07-18T06:51:35.062531",
     "exception": false,
     "start_time": "2022-07-18T06:51:35.058559",
     "status": "completed"
    },
    "tags": []
   },
   "source": [
    "### Q: Can the labels returned by `predict(..)` be computed from probabilities returned by the `predict_prob`-method?"
   ]
  },
  {
   "cell_type": "code",
   "execution_count": 9,
   "id": "a7552525",
   "metadata": {
    "execution": {
     "iopub.execute_input": "2022-07-18T06:51:35.071551Z",
     "iopub.status.busy": "2022-07-18T06:51:35.071036Z",
     "iopub.status.idle": "2022-07-18T06:51:35.129161Z",
     "shell.execute_reply": "2022-07-18T06:51:35.128321Z"
    },
    "papermill": {
     "duration": 0.06507,
     "end_time": "2022-07-18T06:51:35.131216",
     "exception": false,
     "start_time": "2022-07-18T06:51:35.066146",
     "status": "completed"
    },
    "tags": []
   },
   "outputs": [
    {
     "name": "stdout",
     "output_type": "stream",
     "text": [
      " - Logging nr_max_prob_neq_label (int) : 3\n"
     ]
    }
   ],
   "source": [
    "import numpy as np\n",
    "\n",
    "y_train_labels = model.predict(X_train)\n",
    "y_train_probabilities = model.predict_proba(X_train)\n",
    "assert y_train_probabilities.shape == (len(y_train), 10)\n",
    "\n",
    "y_train_max_prob_labels = np.argmax(y_train_probabilities, axis=1)\n",
    "assert y_train_labels.shape == y_train_max_prob_labels.shape == y_train.shape\n",
    "\n",
    "# If the predicted labels would coincide with the labels that have\n",
    "# maximum probability, the below number would be zero\n",
    "logger.log_int(\n",
    "    \"nr_max_prob_neq_label\", int(sum(y_train_max_prob_labels != y_train_labels))\n",
    ")"
   ]
  },
  {
   "cell_type": "markdown",
   "id": "31d8982f",
   "metadata": {
    "papermill": {
     "duration": 0.003941,
     "end_time": "2022-07-18T06:51:35.138843",
     "exception": false,
     "start_time": "2022-07-18T06:51:35.134902",
     "status": "completed"
    },
    "tags": []
   },
   "source": [
    "The explanation is (likely) explained in the SVC source, see\n",
    "[here](https://github.com/scikit-learn/scikit-learn/blob/main/sklearn/svm/_base.py).\n",
    "Namely, the outputs from `predict(..)` and `predict_proba(..)` may not in some\n",
    "cases be compatible since the latter is computed using cross-validation while\n",
    "the former is not. Thus, the above number need not be zero."
   ]
  },
  {
   "cell_type": "markdown",
   "id": "4a454ec3",
   "metadata": {
    "papermill": {
     "duration": 0.003782,
     "end_time": "2022-07-18T06:51:35.146508",
     "exception": false,
     "start_time": "2022-07-18T06:51:35.142726",
     "status": "completed"
    },
    "tags": []
   },
   "source": [
    "## Persist model"
   ]
  },
  {
   "cell_type": "code",
   "execution_count": 10,
   "id": "e431548e",
   "metadata": {
    "execution": {
     "iopub.execute_input": "2022-07-18T06:51:35.155559Z",
     "iopub.status.busy": "2022-07-18T06:51:35.155233Z",
     "iopub.status.idle": "2022-07-18T06:51:36.054013Z",
     "shell.execute_reply": "2022-07-18T06:51:36.053048Z"
    },
    "papermill": {
     "duration": 0.906083,
     "end_time": "2022-07-18T06:51:36.056851",
     "exception": false,
     "start_time": "2022-07-18T06:51:35.150768",
     "status": "completed"
    },
    "tags": []
   },
   "outputs": [],
   "source": [
    "from skl2onnx import convert_sklearn\n",
    "from skl2onnx.common.data_types import FloatTensorType\n",
    "\n",
    "#\n",
    "from common.io import datalake_root, write_onnx"
   ]
  },
  {
   "cell_type": "code",
   "execution_count": 11,
   "id": "02057e9c",
   "metadata": {
    "execution": {
     "iopub.execute_input": "2022-07-18T06:51:36.068288Z",
     "iopub.status.busy": "2022-07-18T06:51:36.067870Z",
     "iopub.status.idle": "2022-07-18T06:51:36.129210Z",
     "shell.execute_reply": "2022-07-18T06:51:36.128290Z"
    },
    "papermill": {
     "duration": 0.070238,
     "end_time": "2022-07-18T06:51:36.131859",
     "exception": false,
     "start_time": "2022-07-18T06:51:36.061621",
     "status": "completed"
    },
    "tags": []
   },
   "outputs": [],
   "source": [
    "# convert sklearn model into onnx and persist to data lake\n",
    "\n",
    "model_onnx = convert_sklearn(\n",
    "    model, initial_types=[(\"float_input_8x8_image\", FloatTensorType([None, 8 * 8]))]\n",
    ")\n",
    "write_onnx(\n",
    "    datalake_root(P)\n",
    "    / \"models\"\n",
    "    / f\"nr_train_images={P['task.nr_train_images']}\"\n",
    "    / \"model.onnx\",\n",
    "    model_onnx,\n",
    ")"
   ]
  },
  {
   "cell_type": "code",
   "execution_count": null,
   "id": "4718626a",
   "metadata": {
    "papermill": {
     "duration": 0.011507,
     "end_time": "2022-07-18T06:51:36.148794",
     "exception": false,
     "start_time": "2022-07-18T06:51:36.137287",
     "status": "completed"
    },
    "tags": []
   },
   "outputs": [],
   "source": []
  }
 ],
 "metadata": {
  "jupytext": {
   "cell_metadata_filter": "tags,-all",
   "main_language": "python",
   "notebook_metadata_filter": "-all"
  },
  "language_info": {
   "codemirror_mode": {
    "name": "ipython",
    "version": 3
   },
   "file_extension": ".py",
   "mimetype": "text/x-python",
   "name": "python",
   "nbconvert_exporter": "python",
   "pygments_lexer": "ipython3",
   "version": "3.8.10"
  },
  "papermill": {
   "default_parameters": {},
   "duration": 5.067386,
   "end_time": "2022-07-18T06:51:37.377304",
   "environment_variables": {},
   "exception": null,
   "input_path": "/home/host_user/workspace/mnist-demo-pipeline/mnist-demo-pipeline/notebooks/temp-notebook-w71c5nxe.ipynb",
   "output_path": "notebooks/train-model.ipynb",
   "parameters": {
    "P": {
     "_opentelemetry_traceparent": "00-5bcb631ca66250a3838fb46c02b9727a-77a42dd26bcd8f83-01",
     "pipeline.data_lake_root": "/pipeline-outputs/data-lake",
     "pipeline.github.actor": "matiasdahl",
     "pipeline.github.base_ref": "",
     "pipeline.github.event_name": "schedule",
     "pipeline.github.head_ref": "",
     "pipeline.github.job": "run-tests-pipeline-and-persist-pipeline-outputs",
     "pipeline.github.ref": "refs/heads/development",
     "pipeline.github.ref_name": "development",
     "pipeline.github.ref_type": "branch",
     "pipeline.github.repository": "pynb-dag-runner/mnist-digits-demo-pipeline",
     "pipeline.github.run_id": "2688640586",
     "pipeline.github.runner_name": "Hosted Agent",
     "pipeline.github.sha": "147a1be9916173fd4d2cd011d8d51e3411215850",
     "pipeline.github.workflow": "Run automated tests, pipeline and deploy results to static reporting site",
     "pipeline.pipeline_run_id": "9956fcd3-236b-46e4-b3bb-d198ded018af",
     "pipeline.run_environment": "ci",
     "run.retry_nr": "0",
     "task.max_nr_retries": "1",
     "task.notebook": "notebooks/train-model.py",
     "task.nr_train_images": 800,
     "task.num_cpus": 1,
     "task.timeout_s": "None"
    }
   },
   "start_time": "2022-07-18T06:51:32.309918",
   "version": "2.3.3"
  }
 },
 "nbformat": 4,
 "nbformat_minor": 5
}