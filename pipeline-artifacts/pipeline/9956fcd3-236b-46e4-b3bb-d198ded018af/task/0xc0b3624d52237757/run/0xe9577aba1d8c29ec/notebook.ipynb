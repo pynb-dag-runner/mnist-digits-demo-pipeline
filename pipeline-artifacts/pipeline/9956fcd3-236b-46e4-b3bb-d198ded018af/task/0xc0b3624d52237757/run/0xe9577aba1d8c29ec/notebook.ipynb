{
 "cells": [
  {
   "cell_type": "markdown",
   "id": "ea3c6b40",
   "metadata": {
    "papermill": {
     "duration": 0.004633,
     "end_time": "2022-07-18T06:52:09.386562",
     "exception": false,
     "start_time": "2022-07-18T06:52:09.381929",
     "status": "completed"
    },
    "tags": []
   },
   "source": [
    "# Summarize model performances\n",
    "\n",
    "This notebooks plots the performances (using averaged ROC AUC scores) for models\n",
    "trained with different training sets."
   ]
  },
  {
   "cell_type": "markdown",
   "id": "8cb342bd",
   "metadata": {
    "papermill": {
     "duration": 0.002623,
     "end_time": "2022-07-18T06:52:09.392556",
     "exception": false,
     "start_time": "2022-07-18T06:52:09.389933",
     "status": "completed"
    },
    "tags": []
   },
   "source": [
    "### Determine run parameters"
   ]
  },
  {
   "cell_type": "code",
   "execution_count": 1,
   "id": "26ed9545",
   "metadata": {
    "execution": {
     "iopub.execute_input": "2022-07-18T06:52:09.400789Z",
     "iopub.status.busy": "2022-07-18T06:52:09.399781Z",
     "iopub.status.idle": "2022-07-18T06:52:09.408729Z",
     "shell.execute_reply": "2022-07-18T06:52:09.407997Z"
    },
    "lines_to_next_cell": 0,
    "papermill": {
     "duration": 0.014942,
     "end_time": "2022-07-18T06:52:09.410578",
     "exception": false,
     "start_time": "2022-07-18T06:52:09.395636",
     "status": "completed"
    },
    "tags": []
   },
   "outputs": [],
   "source": [
    "# ----------------- Parameters for interactive development --------------\n",
    "P = {\n",
    "    \"pipeline.run_environment\": \"dev\",\n",
    "}"
   ]
  },
  {
   "cell_type": "code",
   "execution_count": 2,
   "id": "79bf2f15",
   "metadata": {
    "execution": {
     "iopub.execute_input": "2022-07-18T06:52:09.417768Z",
     "iopub.status.busy": "2022-07-18T06:52:09.417323Z",
     "iopub.status.idle": "2022-07-18T06:52:09.421180Z",
     "shell.execute_reply": "2022-07-18T06:52:09.420125Z"
    },
    "lines_to_next_cell": 0,
    "papermill": {
     "duration": 0.009245,
     "end_time": "2022-07-18T06:52:09.422692",
     "exception": false,
     "start_time": "2022-07-18T06:52:09.413447",
     "status": "completed"
    },
    "tags": [
     "parameters"
    ]
   },
   "outputs": [],
   "source": [
    "# - During automated runs parameters will be injected in the below cell -"
   ]
  },
  {
   "cell_type": "code",
   "execution_count": 3,
   "id": "43191779",
   "metadata": {
    "execution": {
     "iopub.execute_input": "2022-07-18T06:52:09.429715Z",
     "iopub.status.busy": "2022-07-18T06:52:09.429256Z",
     "iopub.status.idle": "2022-07-18T06:52:09.434075Z",
     "shell.execute_reply": "2022-07-18T06:52:09.433337Z"
    },
    "papermill": {
     "duration": 0.012361,
     "end_time": "2022-07-18T06:52:09.437906",
     "exception": false,
     "start_time": "2022-07-18T06:52:09.425545",
     "status": "completed"
    },
    "tags": [
     "injected-parameters"
    ]
   },
   "outputs": [],
   "source": [
    "# Parameters\n",
    "P = {\n",
    "    \"pipeline.data_lake_root\": \"/pipeline-outputs/data-lake\",\n",
    "    \"pipeline.run_environment\": \"ci\",\n",
    "    \"pipeline.pipeline_run_id\": \"9956fcd3-236b-46e4-b3bb-d198ded018af\",\n",
    "    \"pipeline.github.repository\": \"pynb-dag-runner/mnist-digits-demo-pipeline\",\n",
    "    \"pipeline.github.workflow\": \"Run automated tests, pipeline and deploy results to static reporting site\",\n",
    "    \"pipeline.github.runner_name\": \"Hosted Agent\",\n",
    "    \"pipeline.github.run_id\": \"2688640586\",\n",
    "    \"pipeline.github.actor\": \"matiasdahl\",\n",
    "    \"pipeline.github.job\": \"run-tests-pipeline-and-persist-pipeline-outputs\",\n",
    "    \"pipeline.github.base_ref\": \"\",\n",
    "    \"pipeline.github.head_ref\": \"\",\n",
    "    \"pipeline.github.sha\": \"147a1be9916173fd4d2cd011d8d51e3411215850\",\n",
    "    \"pipeline.github.ref\": \"refs/heads/development\",\n",
    "    \"pipeline.github.ref_type\": \"branch\",\n",
    "    \"pipeline.github.ref_name\": \"development\",\n",
    "    \"pipeline.github.event_name\": \"schedule\",\n",
    "    \"task.notebook\": \"notebooks/summary.py\",\n",
    "    \"task.max_nr_retries\": \"1\",\n",
    "    \"run.retry_nr\": \"0\",\n",
    "    \"task.timeout_s\": \"None\",\n",
    "    \"task.num_cpus\": 1,\n",
    "    \"_opentelemetry_traceparent\": \"00-5bcb631ca66250a3838fb46c02b9727a-2a5b57016b3e2b3b-01\",\n",
    "}\n"
   ]
  },
  {
   "cell_type": "code",
   "execution_count": 4,
   "id": "dfc942c7",
   "metadata": {
    "execution": {
     "iopub.execute_input": "2022-07-18T06:52:09.444955Z",
     "iopub.status.busy": "2022-07-18T06:52:09.444731Z",
     "iopub.status.idle": "2022-07-18T06:52:09.448055Z",
     "shell.execute_reply": "2022-07-18T06:52:09.447400Z"
    },
    "lines_to_next_cell": 0,
    "papermill": {
     "duration": 0.009244,
     "end_time": "2022-07-18T06:52:09.449759",
     "exception": false,
     "start_time": "2022-07-18T06:52:09.440515",
     "status": "completed"
    },
    "tags": []
   },
   "outputs": [],
   "source": [
    "# -----------------------------------------------------------------------"
   ]
  },
  {
   "cell_type": "markdown",
   "id": "e15c405f",
   "metadata": {
    "papermill": {
     "duration": 0.00304,
     "end_time": "2022-07-18T06:52:09.455925",
     "exception": false,
     "start_time": "2022-07-18T06:52:09.452885",
     "status": "completed"
    },
    "tags": []
   },
   "source": [
    "---"
   ]
  },
  {
   "cell_type": "markdown",
   "id": "1a431812",
   "metadata": {
    "lines_to_next_cell": 2,
    "papermill": {
     "duration": 0.0028,
     "end_time": "2022-07-18T06:52:09.461535",
     "exception": false,
     "start_time": "2022-07-18T06:52:09.458735",
     "status": "completed"
    },
    "tags": []
   },
   "source": [
    "### Notebook code"
   ]
  },
  {
   "cell_type": "code",
   "execution_count": 5,
   "id": "84613eb7",
   "metadata": {
    "execution": {
     "iopub.execute_input": "2022-07-18T06:52:09.468828Z",
     "iopub.status.busy": "2022-07-18T06:52:09.468527Z",
     "iopub.status.idle": "2022-07-18T06:52:10.695152Z",
     "shell.execute_reply": "2022-07-18T06:52:10.693774Z"
    },
    "papermill": {
     "duration": 1.232896,
     "end_time": "2022-07-18T06:52:10.697427",
     "exception": false,
     "start_time": "2022-07-18T06:52:09.464531",
     "status": "completed"
    },
    "tags": []
   },
   "outputs": [],
   "source": [
    "#\n",
    "import pandas as pd\n",
    "import matplotlib.pyplot as plt\n",
    "\n",
    "#\n",
    "from pynb_dag_runner.tasks.task_opentelemetry_logging import PydarLogger"
   ]
  },
  {
   "cell_type": "code",
   "execution_count": 6,
   "id": "5065103c",
   "metadata": {
    "execution": {
     "iopub.execute_input": "2022-07-18T06:52:10.706354Z",
     "iopub.status.busy": "2022-07-18T06:52:10.705996Z",
     "iopub.status.idle": "2022-07-18T06:52:10.865220Z",
     "shell.execute_reply": "2022-07-18T06:52:10.863534Z"
    },
    "papermill": {
     "duration": 0.166982,
     "end_time": "2022-07-18T06:52:10.868444",
     "exception": false,
     "start_time": "2022-07-18T06:52:10.701462",
     "status": "completed"
    },
    "tags": []
   },
   "outputs": [
    {
     "name": "stderr",
     "output_type": "stream",
     "text": [
      "2022-07-18 06:52:10,710\tINFO worker.py:842 -- Connecting to existing Ray cluster at address: 172.17.0.2:6379\n"
     ]
    }
   ],
   "source": [
    "logger = PydarLogger(P=P)"
   ]
  },
  {
   "cell_type": "code",
   "execution_count": 7,
   "id": "ba685447",
   "metadata": {
    "execution": {
     "iopub.execute_input": "2022-07-18T06:52:10.877323Z",
     "iopub.status.busy": "2022-07-18T06:52:10.876663Z",
     "iopub.status.idle": "2022-07-18T06:52:10.881952Z",
     "shell.execute_reply": "2022-07-18T06:52:10.880856Z"
    },
    "papermill": {
     "duration": 0.011922,
     "end_time": "2022-07-18T06:52:10.883869",
     "exception": false,
     "start_time": "2022-07-18T06:52:10.871947",
     "status": "completed"
    },
    "tags": []
   },
   "outputs": [],
   "source": [
    "from pynb_dag_runner.tasks.task_opentelemetry_logging import (\n",
    "    PydarLogger,\n",
    "    get_logged_values,\n",
    ")\n",
    "from pynb_dag_runner.opentelemetry_helpers import _get_all_spans, Spans"
   ]
  },
  {
   "cell_type": "code",
   "execution_count": 8,
   "id": "5204fbc8",
   "metadata": {
    "execution": {
     "iopub.execute_input": "2022-07-18T06:52:10.896455Z",
     "iopub.status.busy": "2022-07-18T06:52:10.895955Z",
     "iopub.status.idle": "2022-07-18T06:52:10.903270Z",
     "shell.execute_reply": "2022-07-18T06:52:10.902293Z"
    },
    "papermill": {
     "duration": 0.016892,
     "end_time": "2022-07-18T06:52:10.905318",
     "exception": false,
     "start_time": "2022-07-18T06:52:10.888426",
     "status": "completed"
    },
    "tags": []
   },
   "outputs": [],
   "source": [
    "def get_model_benchmarks():\n",
    "    \"\"\"\n",
    "    Query the OpenTelemetry logs for *this pipeline run* and return\n",
    "    all key-values logged from all runs of the benchmark-model.py task\n",
    "\n",
    "    For testing a json file with OpenTelemetry spans (as an array)\n",
    "    can be used as follows:\n",
    "\n",
    "    - Create output directory `mkdir /tmp/spans`\n",
    "    - Run unit tests. This will create pipeline-outputs/opentelemetry-spans.json\n",
    "    - Convert this json-array into jsonl format as follows\n",
    "\n",
    "    jq -c '.[]' /pipeline-outputs/opentelemetry-spans.json > /tmp/spans/data.txt\n",
    "\n",
    "    \"\"\"\n",
    "    spans: Spans = Spans(_get_all_spans())\n",
    "    print(f\"Found {len(spans)} spans\")\n",
    "\n",
    "    benchmark_spans = (\n",
    "        spans\n",
    "        # -\n",
    "        .filter([\"name\"], \"execute-task\")\n",
    "        # -\n",
    "        .filter([\"attributes\", \"task.notebook\"], \"notebooks/benchmark-model.py\")\n",
    "    )\n",
    "\n",
    "    result = []\n",
    "    for s in benchmark_spans:\n",
    "        result.append(\n",
    "            {\n",
    "                \"span_id\": s[\"context\"][\"span_id\"],\n",
    "                \"nr_train_images\": s[\"attributes\"][\"task.nr_train_images\"],\n",
    "                \"data\": get_logged_values(spans.bound_under(s)),\n",
    "            }\n",
    "        )\n",
    "\n",
    "    return result\n",
    "\n",
    "\n",
    "def adjust_pandas(df):\n",
    "    def column_renamer(col_name: str) -> str:\n",
    "        return (\n",
    "            col_name\n",
    "            # -- 'data.roc_auc_per_digit.4' -> 'roc_auc.4'\n",
    "            .replace(\"data.roc_auc_per_digit\", \"roc_auc\")\n",
    "            # -- 'data.roc_auc_class_mean' -> 'roc_auc_mean'\n",
    "            .replace(\"data.roc_auc_class_mean\", \"roc_auc_mean\")\n",
    "        )\n",
    "\n",
    "    return df.rename(column_renamer, axis=\"columns\").sort_values(by=\"nr_train_images\")"
   ]
  },
  {
   "cell_type": "code",
   "execution_count": 9,
   "id": "6e04085e",
   "metadata": {
    "execution": {
     "iopub.execute_input": "2022-07-18T06:52:10.912773Z",
     "iopub.status.busy": "2022-07-18T06:52:10.912412Z",
     "iopub.status.idle": "2022-07-18T06:52:33.337775Z",
     "shell.execute_reply": "2022-07-18T06:52:33.336946Z"
    },
    "papermill": {
     "duration": 22.431783,
     "end_time": "2022-07-18T06:52:33.340212",
     "exception": false,
     "start_time": "2022-07-18T06:52:10.908429",
     "status": "completed"
    },
    "tags": []
   },
   "outputs": [
    {
     "name": "stdout",
     "output_type": "stream",
     "text": [
      "Found 423 spans\n"
     ]
    }
   ],
   "source": [
    "df_data = adjust_pandas(pd.json_normalize(get_model_benchmarks()))"
   ]
  },
  {
   "cell_type": "code",
   "execution_count": 10,
   "id": "d8e10a58",
   "metadata": {
    "execution": {
     "iopub.execute_input": "2022-07-18T06:52:33.350979Z",
     "iopub.status.busy": "2022-07-18T06:52:33.350527Z",
     "iopub.status.idle": "2022-07-18T06:52:33.380829Z",
     "shell.execute_reply": "2022-07-18T06:52:33.380132Z"
    },
    "papermill": {
     "duration": 0.036965,
     "end_time": "2022-07-18T06:52:33.382870",
     "exception": false,
     "start_time": "2022-07-18T06:52:33.345905",
     "status": "completed"
    },
    "tags": []
   },
   "outputs": [
    {
     "data": {
      "text/html": [
       "<div>\n",
       "<style scoped>\n",
       "    .dataframe tbody tr th:only-of-type {\n",
       "        vertical-align: middle;\n",
       "    }\n",
       "\n",
       "    .dataframe tbody tr th {\n",
       "        vertical-align: top;\n",
       "    }\n",
       "\n",
       "    .dataframe thead th {\n",
       "        text-align: right;\n",
       "    }\n",
       "</style>\n",
       "<table border=\"1\" class=\"dataframe\">\n",
       "  <thead>\n",
       "    <tr style=\"text-align: right;\">\n",
       "      <th></th>\n",
       "      <th>span_id</th>\n",
       "      <th>nr_train_images</th>\n",
       "      <th>roc_auc_mean</th>\n",
       "      <th>roc_auc.0</th>\n",
       "      <th>roc_auc.1</th>\n",
       "      <th>roc_auc.2</th>\n",
       "      <th>roc_auc.3</th>\n",
       "      <th>roc_auc.4</th>\n",
       "      <th>roc_auc.5</th>\n",
       "      <th>roc_auc.6</th>\n",
       "      <th>roc_auc.7</th>\n",
       "      <th>roc_auc.8</th>\n",
       "      <th>roc_auc.9</th>\n",
       "    </tr>\n",
       "  </thead>\n",
       "  <tbody>\n",
       "    <tr>\n",
       "      <th>3</th>\n",
       "      <td>0x5a2436511c40b447</td>\n",
       "      <td>600</td>\n",
       "      <td>0.9991</td>\n",
       "      <td>1.0</td>\n",
       "      <td>0.9992</td>\n",
       "      <td>1.0</td>\n",
       "      <td>0.9998</td>\n",
       "      <td>0.9992</td>\n",
       "      <td>0.9990</td>\n",
       "      <td>0.9999</td>\n",
       "      <td>0.9998</td>\n",
       "      <td>0.9949</td>\n",
       "      <td>0.9989</td>\n",
       "    </tr>\n",
       "    <tr>\n",
       "      <th>2</th>\n",
       "      <td>0x2b7a826ae738f5c1</td>\n",
       "      <td>800</td>\n",
       "      <td>0.9990</td>\n",
       "      <td>1.0</td>\n",
       "      <td>0.9988</td>\n",
       "      <td>1.0</td>\n",
       "      <td>0.9998</td>\n",
       "      <td>0.9995</td>\n",
       "      <td>0.9991</td>\n",
       "      <td>1.0000</td>\n",
       "      <td>0.9999</td>\n",
       "      <td>0.9931</td>\n",
       "      <td>0.9995</td>\n",
       "    </tr>\n",
       "    <tr>\n",
       "      <th>0</th>\n",
       "      <td>0x3ef1255ea7825642</td>\n",
       "      <td>1000</td>\n",
       "      <td>0.9992</td>\n",
       "      <td>1.0</td>\n",
       "      <td>0.9990</td>\n",
       "      <td>1.0</td>\n",
       "      <td>0.9999</td>\n",
       "      <td>0.9996</td>\n",
       "      <td>0.9994</td>\n",
       "      <td>0.9999</td>\n",
       "      <td>0.9998</td>\n",
       "      <td>0.9953</td>\n",
       "      <td>0.9996</td>\n",
       "    </tr>\n",
       "    <tr>\n",
       "      <th>1</th>\n",
       "      <td>0x1e4b006096ac64ab</td>\n",
       "      <td>1200</td>\n",
       "      <td>0.9994</td>\n",
       "      <td>1.0</td>\n",
       "      <td>0.9991</td>\n",
       "      <td>1.0</td>\n",
       "      <td>0.9999</td>\n",
       "      <td>0.9998</td>\n",
       "      <td>0.9997</td>\n",
       "      <td>0.9999</td>\n",
       "      <td>0.9998</td>\n",
       "      <td>0.9959</td>\n",
       "      <td>0.9997</td>\n",
       "    </tr>\n",
       "  </tbody>\n",
       "</table>\n",
       "</div>"
      ],
      "text/plain": [
       "              span_id  nr_train_images  roc_auc_mean  roc_auc.0  roc_auc.1  \\\n",
       "3  0x5a2436511c40b447              600        0.9991        1.0     0.9992   \n",
       "2  0x2b7a826ae738f5c1              800        0.9990        1.0     0.9988   \n",
       "0  0x3ef1255ea7825642             1000        0.9992        1.0     0.9990   \n",
       "1  0x1e4b006096ac64ab             1200        0.9994        1.0     0.9991   \n",
       "\n",
       "   roc_auc.2  roc_auc.3  roc_auc.4  roc_auc.5  roc_auc.6  roc_auc.7  \\\n",
       "3        1.0     0.9998     0.9992     0.9990     0.9999     0.9998   \n",
       "2        1.0     0.9998     0.9995     0.9991     1.0000     0.9999   \n",
       "0        1.0     0.9999     0.9996     0.9994     0.9999     0.9998   \n",
       "1        1.0     0.9999     0.9998     0.9997     0.9999     0.9998   \n",
       "\n",
       "   roc_auc.8  roc_auc.9  \n",
       "3     0.9949     0.9989  \n",
       "2     0.9931     0.9995  \n",
       "0     0.9953     0.9996  \n",
       "1     0.9959     0.9997  "
      ]
     },
     "execution_count": 10,
     "metadata": {},
     "output_type": "execute_result"
    }
   ],
   "source": [
    "df_data.round(4)"
   ]
  },
  {
   "cell_type": "code",
   "execution_count": 11,
   "id": "ac6d3d78",
   "metadata": {
    "execution": {
     "iopub.execute_input": "2022-07-18T06:52:33.391606Z",
     "iopub.status.busy": "2022-07-18T06:52:33.391056Z",
     "iopub.status.idle": "2022-07-18T06:52:33.549061Z",
     "shell.execute_reply": "2022-07-18T06:52:33.548146Z"
    },
    "papermill": {
     "duration": 0.164399,
     "end_time": "2022-07-18T06:52:33.550942",
     "exception": false,
     "start_time": "2022-07-18T06:52:33.386543",
     "status": "completed"
    },
    "tags": []
   },
   "outputs": [
    {
     "data": {
      "image/png": "[encoded data removed]",
      "text/plain": [
       "<Figure size 1152x288 with 1 Axes>"
      ]
     },
     "metadata": {
      "needs_background": "light"
     },
     "output_type": "display_data"
    }
   ],
   "source": [
    "def plot_classifier_performance_summary(df_data):\n",
    "    fig, ax = plt.subplots(nrows=1, ncols=1, figsize=(16, 4), sharex=True)\n",
    "\n",
    "    #\n",
    "    ax.plot(\n",
    "        df_data[\"nr_train_images\"], df_data[\"roc_auc_mean\"], marker=\"o\", linestyle=\"--\"\n",
    "    )\n",
    "    ax.set_title(\n",
    "        f\"ROC AUC digit classifier performance on evaluation digits\", fontsize=17\n",
    "    )\n",
    "    ax.set_xlabel(\"Total number of digits in training set\", fontsize=14)\n",
    "    ax.set_ylabel(\"Mean ROC AUC\", fontsize=14)\n",
    "\n",
    "    fig.tight_layout()\n",
    "    fig.show()\n",
    "\n",
    "    return fig\n",
    "\n",
    "\n",
    "fig = plot_classifier_performance_summary(df_data)"
   ]
  },
  {
   "cell_type": "code",
   "execution_count": 12,
   "id": "8e9e7bbb",
   "metadata": {
    "execution": {
     "iopub.execute_input": "2022-07-18T06:52:33.561150Z",
     "iopub.status.busy": "2022-07-18T06:52:33.560835Z",
     "iopub.status.idle": "2022-07-18T06:52:33.618168Z",
     "shell.execute_reply": "2022-07-18T06:52:33.617419Z"
    },
    "papermill": {
     "duration": 0.064389,
     "end_time": "2022-07-18T06:52:33.620003",
     "exception": false,
     "start_time": "2022-07-18T06:52:33.555614",
     "status": "completed"
    },
    "tags": []
   },
   "outputs": [],
   "source": [
    "logger.log_figure(\"auc-roc-model-performances.png\", fig)"
   ]
  },
  {
   "cell_type": "code",
   "execution_count": 13,
   "id": "dc73e3bd",
   "metadata": {
    "execution": {
     "iopub.execute_input": "2022-07-18T06:52:33.632260Z",
     "iopub.status.busy": "2022-07-18T06:52:33.631752Z",
     "iopub.status.idle": "2022-07-18T06:52:33.637061Z",
     "shell.execute_reply": "2022-07-18T06:52:33.635767Z"
    },
    "papermill": {
     "duration": 0.012903,
     "end_time": "2022-07-18T06:52:33.639048",
     "exception": false,
     "start_time": "2022-07-18T06:52:33.626145",
     "status": "completed"
    },
    "tags": []
   },
   "outputs": [],
   "source": [
    "###"
   ]
  },
  {
   "cell_type": "code",
   "execution_count": null,
   "id": "4824625e",
   "metadata": {
    "papermill": {
     "duration": 0.004584,
     "end_time": "2022-07-18T06:52:33.647978",
     "exception": false,
     "start_time": "2022-07-18T06:52:33.643394",
     "status": "completed"
    },
    "tags": []
   },
   "outputs": [],
   "source": []
  }
 ],
 "metadata": {
  "jupytext": {
   "cell_metadata_filter": "tags,-all",
   "main_language": "python",
   "notebook_metadata_filter": "-all"
  },
  "language_info": {
   "codemirror_mode": {
    "name": "ipython",
    "version": 3
   },
   "file_extension": ".py",
   "mimetype": "text/x-python",
   "name": "python",
   "nbconvert_exporter": "python",
   "pygments_lexer": "ipython3",
   "version": "3.8.10"
  },
  "papermill": {
   "default_parameters": {},
   "duration": 26.577613,
   "end_time": "2022-07-18T06:52:34.571511",
   "environment_variables": {},
   "exception": null,
   "input_path": "/home/host_user/workspace/mnist-demo-pipeline/mnist-demo-pipeline/notebooks/temp-notebook-8wjqb7df.ipynb",
   "output_path": "notebooks/summary.ipynb",
   "parameters": {
    "P": {
     "_opentelemetry_traceparent": "00-5bcb631ca66250a3838fb46c02b9727a-2a5b57016b3e2b3b-01",
     "pipeline.data_lake_root": "/pipeline-outputs/data-lake",
     "pipeline.github.actor": "matiasdahl",
     "pipeline.github.base_ref": "",
     "pipeline.github.event_name": "schedule",
     "pipeline.github.head_ref": "",
     "pipeline.github.job": "run-tests-pipeline-and-persist-pipeline-outputs",
     "pipeline.github.ref": "refs/heads/development",
     "pipeline.github.ref_name": "development",
     "pipeline.github.ref_type": "branch",
     "pipeline.github.repository": "pynb-dag-runner/mnist-digits-demo-pipeline",
     "pipeline.github.run_id": "2688640586",
     "pipeline.github.runner_name": "Hosted Agent",
     "pipeline.github.sha": "147a1be9916173fd4d2cd011d8d51e3411215850",
     "pipeline.github.workflow": "Run automated tests, pipeline and deploy results to static reporting site",
     "pipeline.pipeline_run_id": "9956fcd3-236b-46e4-b3bb-d198ded018af",
     "pipeline.run_environment": "ci",
     "run.retry_nr": "0",
     "task.max_nr_retries": "1",
     "task.notebook": "notebooks/summary.py",
     "task.num_cpus": 1,
     "task.timeout_s": "None"
    }
   },
   "start_time": "2022-07-18T06:52:07.993898",
   "version": "2.3.3"
  }
 },
 "nbformat": 4,
 "nbformat_minor": 5
}