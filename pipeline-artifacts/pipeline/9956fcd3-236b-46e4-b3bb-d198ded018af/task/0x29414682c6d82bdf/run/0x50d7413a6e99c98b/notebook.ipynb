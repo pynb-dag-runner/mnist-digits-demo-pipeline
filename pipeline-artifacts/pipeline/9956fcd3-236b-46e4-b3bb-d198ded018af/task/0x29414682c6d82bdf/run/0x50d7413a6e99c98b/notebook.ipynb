{
 "cells": [
  {
   "cell_type": "markdown",
   "id": "31996212",
   "metadata": {
    "papermill": {
     "duration": 0.00444,
     "end_time": "2022-07-18T06:51:21.381378",
     "exception": false,
     "start_time": "2022-07-18T06:51:21.376938",
     "status": "completed"
    },
    "tags": []
   },
   "source": [
    "# Split digits and labels into separate training and testing data sets"
   ]
  },
  {
   "cell_type": "markdown",
   "id": "f1548b83",
   "metadata": {
    "papermill": {
     "duration": 0.002603,
     "end_time": "2022-07-18T06:51:21.387030",
     "exception": false,
     "start_time": "2022-07-18T06:51:21.384427",
     "status": "completed"
    },
    "tags": []
   },
   "source": [
    "### Determine run parameters"
   ]
  },
  {
   "cell_type": "code",
   "execution_count": 1,
   "id": "4e398e95",
   "metadata": {
    "execution": {
     "iopub.execute_input": "2022-07-18T06:51:21.394557Z",
     "iopub.status.busy": "2022-07-18T06:51:21.393928Z",
     "iopub.status.idle": "2022-07-18T06:51:21.403355Z",
     "shell.execute_reply": "2022-07-18T06:51:21.402498Z"
    },
    "lines_to_next_cell": 0,
    "papermill": {
     "duration": 0.01609,
     "end_time": "2022-07-18T06:51:21.405538",
     "exception": false,
     "start_time": "2022-07-18T06:51:21.389448",
     "status": "completed"
    },
    "tags": []
   },
   "outputs": [],
   "source": [
    "# ----------------- Parameters for interactive development --------------\n",
    "P = {\n",
    "    \"pipeline.data_lake_root\": \"/pipeline-outputs/data-lake\",\n",
    "    \"task.train_test_ratio\": 0.7,\n",
    "}"
   ]
  },
  {
   "cell_type": "code",
   "execution_count": 2,
   "id": "613d00f3",
   "metadata": {
    "execution": {
     "iopub.execute_input": "2022-07-18T06:51:21.412375Z",
     "iopub.status.busy": "2022-07-18T06:51:21.411958Z",
     "iopub.status.idle": "2022-07-18T06:51:21.415389Z",
     "shell.execute_reply": "2022-07-18T06:51:21.414785Z"
    },
    "lines_to_next_cell": 0,
    "papermill": {
     "duration": 0.00885,
     "end_time": "2022-07-18T06:51:21.417020",
     "exception": false,
     "start_time": "2022-07-18T06:51:21.408170",
     "status": "completed"
    },
    "tags": [
     "parameters"
    ]
   },
   "outputs": [],
   "source": [
    "# - During automated runs parameters will be injected in the below cell -"
   ]
  },
  {
   "cell_type": "code",
   "execution_count": 3,
   "id": "3c60362f",
   "metadata": {
    "execution": {
     "iopub.execute_input": "2022-07-18T06:51:21.424002Z",
     "iopub.status.busy": "2022-07-18T06:51:21.423357Z",
     "iopub.status.idle": "2022-07-18T06:51:21.428777Z",
     "shell.execute_reply": "2022-07-18T06:51:21.428191Z"
    },
    "papermill": {
     "duration": 0.010716,
     "end_time": "2022-07-18T06:51:21.430342",
     "exception": false,
     "start_time": "2022-07-18T06:51:21.419626",
     "status": "completed"
    },
    "tags": [
     "injected-parameters"
    ]
   },
   "outputs": [],
   "source": [
    "# Parameters\n",
    "P = {\n",
    "    \"pipeline.data_lake_root\": \"/pipeline-outputs/data-lake\",\n",
    "    \"pipeline.run_environment\": \"ci\",\n",
    "    \"pipeline.pipeline_run_id\": \"9956fcd3-236b-46e4-b3bb-d198ded018af\",\n",
    "    \"pipeline.github.repository\": \"pynb-dag-runner/mnist-digits-demo-pipeline\",\n",
    "    \"pipeline.github.workflow\": \"Run automated tests, pipeline and deploy results to static reporting site\",\n",
    "    \"pipeline.github.runner_name\": \"Hosted Agent\",\n",
    "    \"pipeline.github.run_id\": \"2688640586\",\n",
    "    \"pipeline.github.actor\": \"matiasdahl\",\n",
    "    \"pipeline.github.job\": \"run-tests-pipeline-and-persist-pipeline-outputs\",\n",
    "    \"pipeline.github.base_ref\": \"\",\n",
    "    \"pipeline.github.head_ref\": \"\",\n",
    "    \"pipeline.github.sha\": \"147a1be9916173fd4d2cd011d8d51e3411215850\",\n",
    "    \"pipeline.github.ref\": \"refs/heads/development\",\n",
    "    \"pipeline.github.ref_type\": \"branch\",\n",
    "    \"pipeline.github.ref_name\": \"development\",\n",
    "    \"pipeline.github.event_name\": \"schedule\",\n",
    "    \"task.train_test_ratio\": 0.7,\n",
    "    \"task.notebook\": \"notebooks/split-train-test.py\",\n",
    "    \"task.max_nr_retries\": \"1\",\n",
    "    \"run.retry_nr\": \"0\",\n",
    "    \"task.timeout_s\": \"None\",\n",
    "    \"task.num_cpus\": 1,\n",
    "    \"_opentelemetry_traceparent\": \"00-5bcb631ca66250a3838fb46c02b9727a-e4313c9b9e445a43-01\",\n",
    "}\n"
   ]
  },
  {
   "cell_type": "code",
   "execution_count": 4,
   "id": "d98f476f",
   "metadata": {
    "execution": {
     "iopub.execute_input": "2022-07-18T06:51:21.436948Z",
     "iopub.status.busy": "2022-07-18T06:51:21.436528Z",
     "iopub.status.idle": "2022-07-18T06:51:21.439556Z",
     "shell.execute_reply": "2022-07-18T06:51:21.438982Z"
    },
    "lines_to_next_cell": 0,
    "papermill": {
     "duration": 0.008108,
     "end_time": "2022-07-18T06:51:21.441094",
     "exception": false,
     "start_time": "2022-07-18T06:51:21.432986",
     "status": "completed"
    },
    "tags": []
   },
   "outputs": [],
   "source": [
    "# -----------------------------------------------------------------------"
   ]
  },
  {
   "cell_type": "markdown",
   "id": "1a0dd18c",
   "metadata": {
    "papermill": {
     "duration": 0.002573,
     "end_time": "2022-07-18T06:51:21.446262",
     "exception": false,
     "start_time": "2022-07-18T06:51:21.443689",
     "status": "completed"
    },
    "tags": []
   },
   "source": [
    "---"
   ]
  },
  {
   "cell_type": "markdown",
   "id": "f84ba43e",
   "metadata": {
    "lines_to_next_cell": 2,
    "papermill": {
     "duration": 0.003418,
     "end_time": "2022-07-18T06:51:21.452297",
     "exception": false,
     "start_time": "2022-07-18T06:51:21.448879",
     "status": "completed"
    },
    "tags": []
   },
   "source": [
    "### Notebook code"
   ]
  },
  {
   "cell_type": "code",
   "execution_count": 5,
   "id": "ba09f89f",
   "metadata": {
    "execution": {
     "iopub.execute_input": "2022-07-18T06:51:21.458916Z",
     "iopub.status.busy": "2022-07-18T06:51:21.458458Z",
     "iopub.status.idle": "2022-07-18T06:51:22.019373Z",
     "shell.execute_reply": "2022-07-18T06:51:22.016160Z"
    },
    "papermill": {
     "duration": 0.566756,
     "end_time": "2022-07-18T06:51:22.021587",
     "exception": false,
     "start_time": "2022-07-18T06:51:21.454831",
     "status": "completed"
    },
    "tags": []
   },
   "outputs": [
    {
     "name": "stderr",
     "output_type": "stream",
     "text": [
      "2022-07-18 06:51:21,831\tINFO worker.py:842 -- Connecting to existing Ray cluster at address: 172.17.0.2:6379\n"
     ]
    }
   ],
   "source": [
    "from common.io import datalake_root, read_numpy, write_numpy\n",
    "from pynb_dag_runner.tasks.task_opentelemetry_logging import PydarLogger\n",
    "\n",
    "logger = PydarLogger(P)"
   ]
  },
  {
   "cell_type": "markdown",
   "id": "fe65b3e1",
   "metadata": {
    "papermill": {
     "duration": 0.003096,
     "end_time": "2022-07-18T06:51:22.028837",
     "exception": false,
     "start_time": "2022-07-18T06:51:22.025741",
     "status": "completed"
    },
    "tags": []
   },
   "source": [
    "## Load and split digits data"
   ]
  },
  {
   "cell_type": "code",
   "execution_count": 6,
   "id": "fed1f156",
   "metadata": {
    "execution": {
     "iopub.execute_input": "2022-07-18T06:51:22.037160Z",
     "iopub.status.busy": "2022-07-18T06:51:22.036798Z",
     "iopub.status.idle": "2022-07-18T06:51:22.042964Z",
     "shell.execute_reply": "2022-07-18T06:51:22.041854Z"
    },
    "papermill": {
     "duration": 0.013662,
     "end_time": "2022-07-18T06:51:22.045565",
     "exception": false,
     "start_time": "2022-07-18T06:51:22.031903",
     "status": "completed"
    },
    "tags": []
   },
   "outputs": [],
   "source": [
    "X = read_numpy(datalake_root(P) / \"raw\" / \"digits.numpy\")\n",
    "y = read_numpy(datalake_root(P) / \"raw\" / \"labels.numpy\")"
   ]
  },
  {
   "cell_type": "code",
   "execution_count": 7,
   "id": "891161f2",
   "metadata": {
    "execution": {
     "iopub.execute_input": "2022-07-18T06:51:22.052782Z",
     "iopub.status.busy": "2022-07-18T06:51:22.052531Z",
     "iopub.status.idle": "2022-07-18T06:51:22.565527Z",
     "shell.execute_reply": "2022-07-18T06:51:22.564768Z"
    },
    "papermill": {
     "duration": 0.519543,
     "end_time": "2022-07-18T06:51:22.567912",
     "exception": false,
     "start_time": "2022-07-18T06:51:22.048369",
     "status": "completed"
    },
    "tags": []
   },
   "outputs": [],
   "source": [
    "from sklearn.model_selection import train_test_split\n",
    "\n",
    "X_train, X_test, y_train, y_test = train_test_split(\n",
    "    X,\n",
    "    y,\n",
    "    train_size=P[\"task.train_test_ratio\"],\n",
    "    test_size=None,\n",
    "    stratify=y,\n",
    "    shuffle=True,\n",
    "    random_state=1,\n",
    ")\n",
    "\n",
    "# assert nr of pixels per image is the same for all image vectors\n",
    "assert X.shape[1] == X_train.shape[1] == X_test.shape[1]\n",
    "\n",
    "# assert that the (X, y)-pairs have compatible sizes (for both train and test)\n",
    "assert X_train.shape[0] == len(y_train)\n",
    "assert X_test.shape[0] == len(y_test)\n",
    "\n",
    "# assert that all data is used\n",
    "assert len(y) == len(y_train) + len(y_test)"
   ]
  },
  {
   "cell_type": "code",
   "execution_count": 8,
   "id": "11aaf35e",
   "metadata": {
    "execution": {
     "iopub.execute_input": "2022-07-18T06:51:22.578479Z",
     "iopub.status.busy": "2022-07-18T06:51:22.578211Z",
     "iopub.status.idle": "2022-07-18T06:51:22.590910Z",
     "shell.execute_reply": "2022-07-18T06:51:22.588885Z"
    },
    "papermill": {
     "duration": 0.021983,
     "end_time": "2022-07-18T06:51:22.593537",
     "exception": false,
     "start_time": "2022-07-18T06:51:22.571554",
     "status": "completed"
    },
    "tags": []
   },
   "outputs": [
    {
     "name": "stdout",
     "output_type": "stream",
     "text": [
      " - Logging nr_digits_train (int) : 1257\n",
      " - Logging nr_digits_test (int) : 540\n"
     ]
    }
   ],
   "source": [
    "logger.log_int(\"nr_digits_train\", len(y_train))\n",
    "logger.log_int(\"nr_digits_test\", len(y_test))"
   ]
  },
  {
   "cell_type": "markdown",
   "id": "caeebca7",
   "metadata": {
    "papermill": {
     "duration": 0.003765,
     "end_time": "2022-07-18T06:51:22.600525",
     "exception": false,
     "start_time": "2022-07-18T06:51:22.596760",
     "status": "completed"
    },
    "tags": []
   },
   "source": [
    "### Persist training and test data sets to separate files"
   ]
  },
  {
   "cell_type": "code",
   "execution_count": 9,
   "id": "45a75844",
   "metadata": {
    "execution": {
     "iopub.execute_input": "2022-07-18T06:51:22.609220Z",
     "iopub.status.busy": "2022-07-18T06:51:22.608929Z",
     "iopub.status.idle": "2022-07-18T06:51:22.616710Z",
     "shell.execute_reply": "2022-07-18T06:51:22.616052Z"
    },
    "papermill": {
     "duration": 0.015402,
     "end_time": "2022-07-18T06:51:22.619524",
     "exception": false,
     "start_time": "2022-07-18T06:51:22.604122",
     "status": "completed"
    },
    "tags": []
   },
   "outputs": [],
   "source": [
    "write_numpy(datalake_root(P) / \"train-data\" / \"digits.numpy\", X_train)\n",
    "write_numpy(datalake_root(P) / \"train-data\" / \"labels.numpy\", y_train)\n",
    "\n",
    "#\n",
    "write_numpy(datalake_root(P) / \"test-data\" / \"digits.numpy\", X_test)\n",
    "write_numpy(datalake_root(P) / \"test-data\" / \"labels.numpy\", y_test)"
   ]
  },
  {
   "cell_type": "code",
   "execution_count": null,
   "id": "a625471a",
   "metadata": {
    "papermill": {
     "duration": 0.003392,
     "end_time": "2022-07-18T06:51:22.626165",
     "exception": false,
     "start_time": "2022-07-18T06:51:22.622773",
     "status": "completed"
    },
    "tags": []
   },
   "outputs": [],
   "source": []
  }
 ],
 "metadata": {
  "jupytext": {
   "cell_metadata_filter": "tags,-all",
   "main_language": "python",
   "notebook_metadata_filter": "-all"
  },
  "language_info": {
   "codemirror_mode": {
    "name": "ipython",
    "version": 3
   },
   "file_extension": ".py",
   "mimetype": "text/x-python",
   "name": "python",
   "nbconvert_exporter": "python",
   "pygments_lexer": "ipython3",
   "version": "3.8.10"
  },
  "papermill": {
   "default_parameters": {},
   "duration": 3.679329,
   "end_time": "2022-07-18T06:51:23.654768",
   "environment_variables": {},
   "exception": null,
   "input_path": "/home/host_user/workspace/mnist-demo-pipeline/mnist-demo-pipeline/notebooks/temp-notebook-3dxye4ax.ipynb",
   "output_path": "notebooks/split-train-test.ipynb",
   "parameters": {
    "P": {
     "_opentelemetry_traceparent": "00-5bcb631ca66250a3838fb46c02b9727a-e4313c9b9e445a43-01",
     "pipeline.data_lake_root": "/pipeline-outputs/data-lake",
     "pipeline.github.actor": "matiasdahl",
     "pipeline.github.base_ref": "",
     "pipeline.github.event_name": "schedule",
     "pipeline.github.head_ref": "",
     "pipeline.github.job": "run-tests-pipeline-and-persist-pipeline-outputs",
     "pipeline.github.ref": "refs/heads/development",
     "pipeline.github.ref_name": "development",
     "pipeline.github.ref_type": "branch",
     "pipeline.github.repository": "pynb-dag-runner/mnist-digits-demo-pipeline",
     "pipeline.github.run_id": "2688640586",
     "pipeline.github.runner_name": "Hosted Agent",
     "pipeline.github.sha": "147a1be9916173fd4d2cd011d8d51e3411215850",
     "pipeline.github.workflow": "Run automated tests, pipeline and deploy results to static reporting site",
     "pipeline.pipeline_run_id": "9956fcd3-236b-46e4-b3bb-d198ded018af",
     "pipeline.run_environment": "ci",
     "run.retry_nr": "0",
     "task.max_nr_retries": "1",
     "task.notebook": "notebooks/split-train-test.py",
     "task.num_cpus": 1,
     "task.timeout_s": "None",
     "task.train_test_ratio": 0.7
    }
   },
   "start_time": "2022-07-18T06:51:19.975439",
   "version": "2.3.3"
  }
 },
 "nbformat": 4,
 "nbformat_minor": 5
}