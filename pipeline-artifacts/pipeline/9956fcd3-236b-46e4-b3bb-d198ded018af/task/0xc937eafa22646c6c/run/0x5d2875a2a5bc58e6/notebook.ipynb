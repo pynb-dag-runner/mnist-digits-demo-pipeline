{
 "cells": [
  {
   "cell_type": "markdown",
   "id": "b73bf5a5",
   "metadata": {
    "papermill": {
     "duration": 0.006139,
     "end_time": "2022-07-18T06:51:15.525623",
     "exception": false,
     "start_time": "2022-07-18T06:51:15.519484",
     "status": "completed"
    },
    "tags": []
   },
   "source": [
    "# Ingest toy version of MNIST digit data from sklearn"
   ]
  },
  {
   "cell_type": "markdown",
   "id": "05f3df4a",
   "metadata": {
    "papermill": {
     "duration": 0.002501,
     "end_time": "2022-07-18T06:51:15.531859",
     "exception": false,
     "start_time": "2022-07-18T06:51:15.529358",
     "status": "completed"
    },
    "tags": []
   },
   "source": [
    "### Determine run parameters"
   ]
  },
  {
   "cell_type": "code",
   "execution_count": 1,
   "id": "334030bc",
   "metadata": {
    "execution": {
     "iopub.execute_input": "2022-07-18T06:51:15.538820Z",
     "iopub.status.busy": "2022-07-18T06:51:15.538281Z",
     "iopub.status.idle": "2022-07-18T06:51:15.546881Z",
     "shell.execute_reply": "2022-07-18T06:51:15.545683Z"
    },
    "lines_to_next_cell": 0,
    "papermill": {
     "duration": 0.01436,
     "end_time": "2022-07-18T06:51:15.548636",
     "exception": false,
     "start_time": "2022-07-18T06:51:15.534276",
     "status": "completed"
    },
    "tags": []
   },
   "outputs": [],
   "source": [
    "# ----------------- Parameters for interactive development --------------\n",
    "P = {\n",
    "    \"pipeline.run_environment\": \"dev\",\n",
    "    \"pipeline.data_lake_root\": \"/pipeline-outputs/data-lake\",\n",
    "    \"run.retry_nr\": \"1\",\n",
    "}"
   ]
  },
  {
   "cell_type": "code",
   "execution_count": 2,
   "id": "b24c4ae8",
   "metadata": {
    "execution": {
     "iopub.execute_input": "2022-07-18T06:51:15.555357Z",
     "iopub.status.busy": "2022-07-18T06:51:15.554856Z",
     "iopub.status.idle": "2022-07-18T06:51:15.558878Z",
     "shell.execute_reply": "2022-07-18T06:51:15.558219Z"
    },
    "lines_to_next_cell": 0,
    "papermill": {
     "duration": 0.009199,
     "end_time": "2022-07-18T06:51:15.560524",
     "exception": false,
     "start_time": "2022-07-18T06:51:15.551325",
     "status": "completed"
    },
    "tags": [
     "parameters"
    ]
   },
   "outputs": [],
   "source": [
    "# - During automated runs parameters will be injected in the below cell -"
   ]
  },
  {
   "cell_type": "code",
   "execution_count": 3,
   "id": "6afa5012",
   "metadata": {
    "execution": {
     "iopub.execute_input": "2022-07-18T06:51:15.567364Z",
     "iopub.status.busy": "2022-07-18T06:51:15.566405Z",
     "iopub.status.idle": "2022-07-18T06:51:15.571633Z",
     "shell.execute_reply": "2022-07-18T06:51:15.571004Z"
    },
    "papermill": {
     "duration": 0.010253,
     "end_time": "2022-07-18T06:51:15.573244",
     "exception": false,
     "start_time": "2022-07-18T06:51:15.562991",
     "status": "completed"
    },
    "tags": [
     "injected-parameters"
    ]
   },
   "outputs": [],
   "source": [
    "# Parameters\n",
    "P = {\n",
    "    \"pipeline.data_lake_root\": \"/pipeline-outputs/data-lake\",\n",
    "    \"pipeline.run_environment\": \"ci\",\n",
    "    \"pipeline.pipeline_run_id\": \"9956fcd3-236b-46e4-b3bb-d198ded018af\",\n",
    "    \"pipeline.github.repository\": \"pynb-dag-runner/mnist-digits-demo-pipeline\",\n",
    "    \"pipeline.github.workflow\": \"Run automated tests, pipeline and deploy results to static reporting site\",\n",
    "    \"pipeline.github.runner_name\": \"Hosted Agent\",\n",
    "    \"pipeline.github.run_id\": \"2688640586\",\n",
    "    \"pipeline.github.actor\": \"matiasdahl\",\n",
    "    \"pipeline.github.job\": \"run-tests-pipeline-and-persist-pipeline-outputs\",\n",
    "    \"pipeline.github.base_ref\": \"\",\n",
    "    \"pipeline.github.head_ref\": \"\",\n",
    "    \"pipeline.github.sha\": \"147a1be9916173fd4d2cd011d8d51e3411215850\",\n",
    "    \"pipeline.github.ref\": \"refs/heads/development\",\n",
    "    \"pipeline.github.ref_type\": \"branch\",\n",
    "    \"pipeline.github.ref_name\": \"development\",\n",
    "    \"pipeline.github.event_name\": \"schedule\",\n",
    "    \"task.notebook\": \"notebooks/ingest.py\",\n",
    "    \"task.max_nr_retries\": \"15\",\n",
    "    \"run.retry_nr\": \"10\",\n",
    "    \"task.timeout_s\": \"10\",\n",
    "    \"task.num_cpus\": 1,\n",
    "    \"_opentelemetry_traceparent\": \"00-5bcb631ca66250a3838fb46c02b9727a-ad4654966674a4e2-01\",\n",
    "}\n"
   ]
  },
  {
   "cell_type": "code",
   "execution_count": 4,
   "id": "62d6b5ee",
   "metadata": {
    "execution": {
     "iopub.execute_input": "2022-07-18T06:51:15.580202Z",
     "iopub.status.busy": "2022-07-18T06:51:15.579956Z",
     "iopub.status.idle": "2022-07-18T06:51:15.582710Z",
     "shell.execute_reply": "2022-07-18T06:51:15.582094Z"
    },
    "lines_to_next_cell": 0,
    "papermill": {
     "duration": 0.008449,
     "end_time": "2022-07-18T06:51:15.584339",
     "exception": false,
     "start_time": "2022-07-18T06:51:15.575890",
     "status": "completed"
    },
    "tags": []
   },
   "outputs": [],
   "source": [
    "# -----------------------------------------------------------------------"
   ]
  },
  {
   "cell_type": "markdown",
   "id": "926fdd51",
   "metadata": {
    "lines_to_next_cell": 2,
    "papermill": {
     "duration": 0.002707,
     "end_time": "2022-07-18T06:51:15.590241",
     "exception": false,
     "start_time": "2022-07-18T06:51:15.587534",
     "status": "completed"
    },
    "tags": []
   },
   "source": [
    "---"
   ]
  },
  {
   "cell_type": "markdown",
   "id": "a1e5c6c8",
   "metadata": {
    "papermill": {
     "duration": 0.002648,
     "end_time": "2022-07-18T06:51:15.595652",
     "exception": false,
     "start_time": "2022-07-18T06:51:15.593004",
     "status": "completed"
    },
    "tags": []
   },
   "source": [
    "### Simulate different types of failures (for testing timeout and retry logic)"
   ]
  },
  {
   "cell_type": "code",
   "execution_count": 5,
   "id": "f2568cde",
   "metadata": {
    "execution": {
     "iopub.execute_input": "2022-07-18T06:51:15.603276Z",
     "iopub.status.busy": "2022-07-18T06:51:15.602675Z",
     "iopub.status.idle": "2022-07-18T06:51:16.079572Z",
     "shell.execute_reply": "2022-07-18T06:51:16.078801Z"
    },
    "papermill": {
     "duration": 0.483095,
     "end_time": "2022-07-18T06:51:16.081672",
     "exception": false,
     "start_time": "2022-07-18T06:51:15.598577",
     "status": "completed"
    },
    "tags": []
   },
   "outputs": [
    {
     "name": "stderr",
     "output_type": "stream",
     "text": [
      "2022-07-18 06:51:15,925\tINFO worker.py:842 -- Connecting to existing Ray cluster at address: 172.17.0.2:6379\n"
     ]
    }
   ],
   "source": [
    "from pynb_dag_runner.tasks.task_opentelemetry_logging import PydarLogger\n",
    "\n",
    "logger = PydarLogger(P)"
   ]
  },
  {
   "cell_type": "code",
   "execution_count": 6,
   "id": "e7926e07",
   "metadata": {
    "execution": {
     "iopub.execute_input": "2022-07-18T06:51:16.090235Z",
     "iopub.status.busy": "2022-07-18T06:51:16.089700Z",
     "iopub.status.idle": "2022-07-18T06:51:16.095842Z",
     "shell.execute_reply": "2022-07-18T06:51:16.094617Z"
    },
    "papermill": {
     "duration": 0.011941,
     "end_time": "2022-07-18T06:51:16.097514",
     "exception": false,
     "start_time": "2022-07-18T06:51:16.085573",
     "status": "completed"
    },
    "tags": []
   },
   "outputs": [],
   "source": [
    "import time, random\n",
    "\n",
    "\n",
    "def maybe_crash(retry_nr: int, run_environment: str):\n",
    "    if retry_nr == 2 and run_environment == \"ci\":\n",
    "        time.sleep(1e6)\n",
    "\n",
    "    max_retry_nr: int = 3 if run_environment == \"dev\" else 10\n",
    "\n",
    "    if retry_nr < max_retry_nr:\n",
    "        if random.random() < 0.1:\n",
    "            time.sleep(1e6)\n",
    "        else:\n",
    "            raise Exception(\"Simulated exception failure from ingestion step notebook!\")\n",
    "\n",
    "\n",
    "maybe_crash(\n",
    "    retry_nr=int(P[\"run.retry_nr\"]), run_environment=P[\"pipeline.run_environment\"]\n",
    ")"
   ]
  },
  {
   "cell_type": "markdown",
   "id": "cfb73e28",
   "metadata": {
    "lines_to_next_cell": 2,
    "papermill": {
     "duration": 0.003246,
     "end_time": "2022-07-18T06:51:16.103653",
     "exception": false,
     "start_time": "2022-07-18T06:51:16.100407",
     "status": "completed"
    },
    "tags": []
   },
   "source": [
    "### Notebook code"
   ]
  },
  {
   "cell_type": "code",
   "execution_count": 7,
   "id": "3c2faeff",
   "metadata": {
    "execution": {
     "iopub.execute_input": "2022-07-18T06:51:16.110786Z",
     "iopub.status.busy": "2022-07-18T06:51:16.110327Z",
     "iopub.status.idle": "2022-07-18T06:51:17.501686Z",
     "shell.execute_reply": "2022-07-18T06:51:17.500158Z"
    },
    "papermill": {
     "duration": 1.396992,
     "end_time": "2022-07-18T06:51:17.503692",
     "exception": false,
     "start_time": "2022-07-18T06:51:16.106700",
     "status": "completed"
    },
    "tags": []
   },
   "outputs": [],
   "source": [
    "from sklearn import datasets\n",
    "\n",
    "#\n",
    "from common.io import datalake_root, write_numpy"
   ]
  },
  {
   "cell_type": "code",
   "execution_count": 8,
   "id": "f0fcb9af",
   "metadata": {
    "execution": {
     "iopub.execute_input": "2022-07-18T06:51:17.513932Z",
     "iopub.status.busy": "2022-07-18T06:51:17.513039Z",
     "iopub.status.idle": "2022-07-18T06:51:17.527852Z",
     "shell.execute_reply": "2022-07-18T06:51:17.527158Z"
    },
    "lines_to_next_cell": 2,
    "papermill": {
     "duration": 0.021881,
     "end_time": "2022-07-18T06:51:17.529293",
     "exception": false,
     "start_time": "2022-07-18T06:51:17.507412",
     "status": "completed"
    },
    "tags": []
   },
   "outputs": [],
   "source": [
    "digits = datasets.load_digits()\n",
    "\n",
    "X = digits[\"data\"]\n",
    "y = digits[\"target\"]"
   ]
  },
  {
   "cell_type": "code",
   "execution_count": 9,
   "id": "63e34901",
   "metadata": {
    "execution": {
     "iopub.execute_input": "2022-07-18T06:51:17.537212Z",
     "iopub.status.busy": "2022-07-18T06:51:17.535796Z",
     "iopub.status.idle": "2022-07-18T06:51:17.556426Z",
     "shell.execute_reply": "2022-07-18T06:51:17.554777Z"
    },
    "papermill": {
     "duration": 0.026521,
     "end_time": "2022-07-18T06:51:17.558540",
     "exception": false,
     "start_time": "2022-07-18T06:51:17.532019",
     "status": "completed"
    },
    "tags": []
   },
   "outputs": [
    {
     "name": "stdout",
     "output_type": "stream",
     "text": [
      " - Logging data_shape (json) : [1797, 64]\n",
      " - Logging target_shape (json) : [1797]\n"
     ]
    },
    {
     "data": {
      "text/plain": [
       "((1797, 64), (1797,))"
      ]
     },
     "execution_count": 9,
     "metadata": {},
     "output_type": "execute_result"
    }
   ],
   "source": [
    "logger.log_value(\"data_shape\", list(X.shape))\n",
    "logger.log_value(\"target_shape\", list(y.shape))\n",
    "\n",
    "X.shape, y.shape"
   ]
  },
  {
   "cell_type": "code",
   "execution_count": 10,
   "id": "c1efb745",
   "metadata": {
    "execution": {
     "iopub.execute_input": "2022-07-18T06:51:17.566938Z",
     "iopub.status.busy": "2022-07-18T06:51:17.566289Z",
     "iopub.status.idle": "2022-07-18T06:51:17.577012Z",
     "shell.execute_reply": "2022-07-18T06:51:17.576018Z"
    },
    "papermill": {
     "duration": 0.01723,
     "end_time": "2022-07-18T06:51:17.578860",
     "exception": false,
     "start_time": "2022-07-18T06:51:17.561630",
     "status": "completed"
    },
    "tags": []
   },
   "outputs": [],
   "source": [
    "write_numpy(datalake_root(P) / \"raw\" / \"digits.numpy\", X)\n",
    "write_numpy(datalake_root(P) / \"raw\" / \"labels.numpy\", y)"
   ]
  },
  {
   "cell_type": "code",
   "execution_count": null,
   "id": "c342926b",
   "metadata": {
    "papermill": {
     "duration": 0.003079,
     "end_time": "2022-07-18T06:51:17.585013",
     "exception": false,
     "start_time": "2022-07-18T06:51:17.581934",
     "status": "completed"
    },
    "tags": []
   },
   "outputs": [],
   "source": []
  }
 ],
 "metadata": {
  "jupytext": {
   "cell_metadata_filter": "tags,-all",
   "main_language": "python",
   "notebook_metadata_filter": "-all"
  },
  "language_info": {
   "codemirror_mode": {
    "name": "ipython",
    "version": 3
   },
   "file_extension": ".py",
   "mimetype": "text/x-python",
   "name": "python",
   "nbconvert_exporter": "python",
   "pygments_lexer": "ipython3",
   "version": "3.8.10"
  },
  "papermill": {
   "default_parameters": {},
   "duration": 4.399938,
   "end_time": "2022-07-18T06:51:18.507928",
   "environment_variables": {},
   "exception": null,
   "input_path": "/home/host_user/workspace/mnist-demo-pipeline/mnist-demo-pipeline/notebooks/temp-notebook-z5bdnz48.ipynb",
   "output_path": "notebooks/ingest.ipynb",
   "parameters": {
    "P": {
     "_opentelemetry_traceparent": "00-5bcb631ca66250a3838fb46c02b9727a-ad4654966674a4e2-01",
     "pipeline.data_lake_root": "/pipeline-outputs/data-lake",
     "pipeline.github.actor": "matiasdahl",
     "pipeline.github.base_ref": "",
     "pipeline.github.event_name": "schedule",
     "pipeline.github.head_ref": "",
     "pipeline.github.job": "run-tests-pipeline-and-persist-pipeline-outputs",
     "pipeline.github.ref": "refs/heads/development",
     "pipeline.github.ref_name": "development",
     "pipeline.github.ref_type": "branch",
     "pipeline.github.repository": "pynb-dag-runner/mnist-digits-demo-pipeline",
     "pipeline.github.run_id": "2688640586",
     "pipeline.github.runner_name": "Hosted Agent",
     "pipeline.github.sha": "147a1be9916173fd4d2cd011d8d51e3411215850",
     "pipeline.github.workflow": "Run automated tests, pipeline and deploy results to static reporting site",
     "pipeline.pipeline_run_id": "9956fcd3-236b-46e4-b3bb-d198ded018af",
     "pipeline.run_environment": "ci",
     "run.retry_nr": "10",
     "task.max_nr_retries": "15",
     "task.notebook": "notebooks/ingest.py",
     "task.num_cpus": 1,
     "task.timeout_s": "10"
    }
   },
   "start_time": "2022-07-18T06:51:14.107990",
   "version": "2.3.3"
  }
 },
 "nbformat": 4,
 "nbformat_minor": 5
}