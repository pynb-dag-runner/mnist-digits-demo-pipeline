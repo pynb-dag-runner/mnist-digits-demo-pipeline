{
 "cells": [
  {
   "cell_type": "markdown",
   "id": "a2aeaaad",
   "metadata": {
    "papermill": {
     "duration": 0.006893,
     "end_time": "2022-07-18T06:51:32.091180",
     "exception": false,
     "start_time": "2022-07-18T06:51:32.084287",
     "status": "completed"
    },
    "tags": []
   },
   "source": [
    "# Train model\n",
    "\n",
    "The purpose of this notebook is:\n",
    "\n",
    "- Load all training data (images and labels).\n",
    "- Limit number of train images to `task.nr_train_images` (value provided as run parameter).\n",
    "- Train a support vector machine model using sklearn.\n",
    "- Persist the trained model using the ONNX format."
   ]
  },
  {
   "cell_type": "markdown",
   "id": "268e5672",
   "metadata": {
    "papermill": {
     "duration": 0.003321,
     "end_time": "2022-07-18T06:51:32.099079",
     "exception": false,
     "start_time": "2022-07-18T06:51:32.095758",
     "status": "completed"
    },
    "tags": []
   },
   "source": [
    "### Determine run parameters"
   ]
  },
  {
   "cell_type": "code",
   "execution_count": 1,
   "id": "e5a715f4",
   "metadata": {
    "execution": {
     "iopub.execute_input": "2022-07-18T06:51:32.108264Z",
     "iopub.status.busy": "2022-07-18T06:51:32.107901Z",
     "iopub.status.idle": "2022-07-18T06:51:32.118678Z",
     "shell.execute_reply": "2022-07-18T06:51:32.118008Z"
    },
    "lines_to_next_cell": 0,
    "papermill": {
     "duration": 0.017993,
     "end_time": "2022-07-18T06:51:32.121007",
     "exception": false,
     "start_time": "2022-07-18T06:51:32.103014",
     "status": "completed"
    },
    "tags": []
   },
   "outputs": [],
   "source": [
    "# ----------------- Parameters for interactive development --------------\n",
    "P = {\n",
    "    \"pipeline.data_lake_root\": \"/pipeline-outputs/data-lake\",\n",
    "    \"task.nr_train_images\": 600,\n",
    "}"
   ]
  },
  {
   "cell_type": "code",
   "execution_count": 2,
   "id": "6a8f52ce",
   "metadata": {
    "execution": {
     "iopub.execute_input": "2022-07-18T06:51:32.129950Z",
     "iopub.status.busy": "2022-07-18T06:51:32.129690Z",
     "iopub.status.idle": "2022-07-18T06:51:32.134200Z",
     "shell.execute_reply": "2022-07-18T06:51:32.133462Z"
    },
    "lines_to_next_cell": 0,
    "papermill": {
     "duration": 0.012103,
     "end_time": "2022-07-18T06:51:32.137632",
     "exception": false,
     "start_time": "2022-07-18T06:51:32.125529",
     "status": "completed"
    },
    "tags": [
     "parameters"
    ]
   },
   "outputs": [],
   "source": [
    "# - During automated runs parameters will be injected in the below cell -"
   ]
  },
  {
   "cell_type": "code",
   "execution_count": 3,
   "id": "13cb8dcf",
   "metadata": {
    "execution": {
     "iopub.execute_input": "2022-07-18T06:51:32.146311Z",
     "iopub.status.busy": "2022-07-18T06:51:32.146059Z",
     "iopub.status.idle": "2022-07-18T06:51:32.151526Z",
     "shell.execute_reply": "2022-07-18T06:51:32.150869Z"
    },
    "papermill": {
     "duration": 0.014527,
     "end_time": "2022-07-18T06:51:32.155266",
     "exception": false,
     "start_time": "2022-07-18T06:51:32.140739",
     "status": "completed"
    },
    "tags": [
     "injected-parameters"
    ]
   },
   "outputs": [],
   "source": [
    "# Parameters\n",
    "P = {\n",
    "    \"pipeline.data_lake_root\": \"/pipeline-outputs/data-lake\",\n",
    "    \"pipeline.run_environment\": \"ci\",\n",
    "    \"pipeline.pipeline_run_id\": \"9956fcd3-236b-46e4-b3bb-d198ded018af\",\n",
    "    \"pipeline.github.repository\": \"pynb-dag-runner/mnist-digits-demo-pipeline\",\n",
    "    \"pipeline.github.workflow\": \"Run automated tests, pipeline and deploy results to static reporting site\",\n",
    "    \"pipeline.github.runner_name\": \"Hosted Agent\",\n",
    "    \"pipeline.github.run_id\": \"2688640586\",\n",
    "    \"pipeline.github.actor\": \"matiasdahl\",\n",
    "    \"pipeline.github.job\": \"run-tests-pipeline-and-persist-pipeline-outputs\",\n",
    "    \"pipeline.github.base_ref\": \"\",\n",
    "    \"pipeline.github.head_ref\": \"\",\n",
    "    \"pipeline.github.sha\": \"147a1be9916173fd4d2cd011d8d51e3411215850\",\n",
    "    \"pipeline.github.ref\": \"refs/heads/development\",\n",
    "    \"pipeline.github.ref_type\": \"branch\",\n",
    "    \"pipeline.github.ref_name\": \"development\",\n",
    "    \"pipeline.github.event_name\": \"schedule\",\n",
    "    \"task.nr_train_images\": 1000,\n",
    "    \"task.notebook\": \"notebooks/train-model.py\",\n",
    "    \"task.max_nr_retries\": \"1\",\n",
    "    \"run.retry_nr\": \"0\",\n",
    "    \"task.timeout_s\": \"None\",\n",
    "    \"task.num_cpus\": 1,\n",
    "    \"_opentelemetry_traceparent\": \"00-5bcb631ca66250a3838fb46c02b9727a-f2be054fcd7a90be-01\",\n",
    "}\n"
   ]
  },
  {
   "cell_type": "code",
   "execution_count": 4,
   "id": "24bf8499",
   "metadata": {
    "execution": {
     "iopub.execute_input": "2022-07-18T06:51:32.162930Z",
     "iopub.status.busy": "2022-07-18T06:51:32.162684Z",
     "iopub.status.idle": "2022-07-18T06:51:32.166133Z",
     "shell.execute_reply": "2022-07-18T06:51:32.165557Z"
    },
    "lines_to_next_cell": 0,
    "papermill": {
     "duration": 0.010476,
     "end_time": "2022-07-18T06:51:32.168981",
     "exception": false,
     "start_time": "2022-07-18T06:51:32.158505",
     "status": "completed"
    },
    "tags": []
   },
   "outputs": [],
   "source": [
    "# -----------------------------------------------------------------------"
   ]
  },
  {
   "cell_type": "markdown",
   "id": "d21f7d15",
   "metadata": {
    "papermill": {
     "duration": 0.00411,
     "end_time": "2022-07-18T06:51:32.176474",
     "exception": false,
     "start_time": "2022-07-18T06:51:32.172364",
     "status": "completed"
    },
    "tags": []
   },
   "source": [
    "---"
   ]
  },
  {
   "cell_type": "markdown",
   "id": "0749daef",
   "metadata": {
    "lines_to_next_cell": 2,
    "papermill": {
     "duration": 0.005769,
     "end_time": "2022-07-18T06:51:32.185459",
     "exception": false,
     "start_time": "2022-07-18T06:51:32.179690",
     "status": "completed"
    },
    "tags": []
   },
   "source": [
    "### Notebook code"
   ]
  },
  {
   "cell_type": "code",
   "execution_count": 5,
   "id": "264e311e",
   "metadata": {
    "execution": {
     "iopub.execute_input": "2022-07-18T06:51:32.197582Z",
     "iopub.status.busy": "2022-07-18T06:51:32.197310Z",
     "iopub.status.idle": "2022-07-18T06:51:32.749377Z",
     "shell.execute_reply": "2022-07-18T06:51:32.748478Z"
    },
    "papermill": {
     "duration": 0.560914,
     "end_time": "2022-07-18T06:51:32.751582",
     "exception": false,
     "start_time": "2022-07-18T06:51:32.190668",
     "status": "completed"
    },
    "tags": []
   },
   "outputs": [
    {
     "name": "stderr",
     "output_type": "stream",
     "text": [
      "2022-07-18 06:51:32,569\tINFO worker.py:842 -- Connecting to existing Ray cluster at address: 172.17.0.2:6379\n"
     ]
    }
   ],
   "source": [
    "from pynb_dag_runner.tasks.task_opentelemetry_logging import PydarLogger\n",
    "\n",
    "logger = PydarLogger(P)"
   ]
  },
  {
   "cell_type": "markdown",
   "id": "123c55b1",
   "metadata": {
    "papermill": {
     "duration": 0.004555,
     "end_time": "2022-07-18T06:51:32.760563",
     "exception": false,
     "start_time": "2022-07-18T06:51:32.756008",
     "status": "completed"
    },
    "tags": []
   },
   "source": [
    "## Load and limit train data"
   ]
  },
  {
   "cell_type": "code",
   "execution_count": 6,
   "id": "491fa5dc",
   "metadata": {
    "execution": {
     "iopub.execute_input": "2022-07-18T06:51:32.778426Z",
     "iopub.status.busy": "2022-07-18T06:51:32.778046Z",
     "iopub.status.idle": "2022-07-18T06:51:33.236116Z",
     "shell.execute_reply": "2022-07-18T06:51:33.235353Z"
    },
    "papermill": {
     "duration": 0.474273,
     "end_time": "2022-07-18T06:51:33.238677",
     "exception": false,
     "start_time": "2022-07-18T06:51:32.764404",
     "status": "completed"
    },
    "tags": []
   },
   "outputs": [],
   "source": [
    "def load_and_limit_train_data(P):\n",
    "    from common.io import datalake_root, read_numpy\n",
    "    from sklearn.model_selection import train_test_split\n",
    "\n",
    "    X_train_all = read_numpy(datalake_root(P) / \"train-data\" / \"digits.numpy\")\n",
    "    y_train_all = read_numpy(datalake_root(P) / \"train-data\" / \"labels.numpy\")\n",
    "\n",
    "    assert isinstance(P[\"task.nr_train_images\"], int)\n",
    "\n",
    "    # Note: train_test_split will fail if split is 0 or 100%.\n",
    "    assert 0 < P[\"task.nr_train_images\"] < len(y_train_all)\n",
    "\n",
    "    X_train, _, y_train, _ = train_test_split(\n",
    "        X_train_all,\n",
    "        y_train_all,\n",
    "        train_size=P[\"task.nr_train_images\"],\n",
    "        test_size=None,\n",
    "        stratify=y_train_all,\n",
    "        shuffle=True,\n",
    "        random_state=123,\n",
    "    )\n",
    "\n",
    "    assert X_train.shape == (len(y_train), 8 * 8)\n",
    "    return X_train, y_train\n",
    "\n",
    "\n",
    "X_train, y_train = load_and_limit_train_data(P)"
   ]
  },
  {
   "cell_type": "markdown",
   "id": "334d327f",
   "metadata": {
    "papermill": {
     "duration": 0.004186,
     "end_time": "2022-07-18T06:51:33.247095",
     "exception": false,
     "start_time": "2022-07-18T06:51:33.242909",
     "status": "completed"
    },
    "tags": []
   },
   "source": [
    "## Train support vector classifier model\n",
    "\n",
    "Below we assume that the hyperparameter $C$ is known.\n",
    "\n",
    "However, this should ideally be found by a hyperparameter search. That could be\n",
    "done in parallel on the Ray cluster, but this needs some more work. Ie., to use\n",
    "multiple cores in the notebook, those cores should be reserved when starting the\n",
    "notebook task (TODO).\n",
    "\n",
    "- https://docs.ray.io/en/latest/tune/key-concepts.html\n",
    "\n",
    "Note: cv-scores would need to be computed here, since they depend on the train data.\n",
    "After this notebook only the onnx-model is available."
   ]
  },
  {
   "cell_type": "code",
   "execution_count": 7,
   "id": "fa15dfc3",
   "metadata": {
    "execution": {
     "iopub.execute_input": "2022-07-18T06:51:33.257159Z",
     "iopub.status.busy": "2022-07-18T06:51:33.256875Z",
     "iopub.status.idle": "2022-07-18T06:51:33.282806Z",
     "shell.execute_reply": "2022-07-18T06:51:33.282186Z"
    },
    "papermill": {
     "duration": 0.033886,
     "end_time": "2022-07-18T06:51:33.284762",
     "exception": false,
     "start_time": "2022-07-18T06:51:33.250876",
     "status": "completed"
    },
    "tags": []
   },
   "outputs": [],
   "source": [
    "from sklearn.svm import SVC"
   ]
  },
  {
   "cell_type": "code",
   "execution_count": 8,
   "id": "b2446038",
   "metadata": {
    "execution": {
     "iopub.execute_input": "2022-07-18T06:51:33.293882Z",
     "iopub.status.busy": "2022-07-18T06:51:33.293398Z",
     "iopub.status.idle": "2022-07-18T06:51:33.483017Z",
     "shell.execute_reply": "2022-07-18T06:51:33.481832Z"
    },
    "papermill": {
     "duration": 0.196502,
     "end_time": "2022-07-18T06:51:33.484743",
     "exception": false,
     "start_time": "2022-07-18T06:51:33.288241",
     "status": "completed"
    },
    "tags": []
   },
   "outputs": [
    {
     "data": {
      "text/plain": [
       "SVC(C=0.001, kernel='linear', probability=True)"
      ]
     },
     "execution_count": 8,
     "metadata": {},
     "output_type": "execute_result"
    }
   ],
   "source": [
    "model = SVC(C=0.001, kernel=\"linear\", probability=True)\n",
    "\n",
    "model.fit(X_train, y_train)"
   ]
  },
  {
   "cell_type": "markdown",
   "id": "2481e6b6",
   "metadata": {
    "papermill": {
     "duration": 0.004322,
     "end_time": "2022-07-18T06:51:33.493293",
     "exception": false,
     "start_time": "2022-07-18T06:51:33.488971",
     "status": "completed"
    },
    "tags": []
   },
   "source": [
    "### Q: Can the labels returned by `predict(..)` be computed from probabilities returned by the `predict_prob`-method?"
   ]
  },
  {
   "cell_type": "code",
   "execution_count": 9,
   "id": "776d9002",
   "metadata": {
    "execution": {
     "iopub.execute_input": "2022-07-18T06:51:33.502092Z",
     "iopub.status.busy": "2022-07-18T06:51:33.501332Z",
     "iopub.status.idle": "2022-07-18T06:51:33.588428Z",
     "shell.execute_reply": "2022-07-18T06:51:33.587726Z"
    },
    "papermill": {
     "duration": 0.09343,
     "end_time": "2022-07-18T06:51:33.590254",
     "exception": false,
     "start_time": "2022-07-18T06:51:33.496824",
     "status": "completed"
    },
    "tags": []
   },
   "outputs": [
    {
     "name": "stdout",
     "output_type": "stream",
     "text": [
      " - Logging nr_max_prob_neq_label (int) : 1\n"
     ]
    }
   ],
   "source": [
    "import numpy as np\n",
    "\n",
    "y_train_labels = model.predict(X_train)\n",
    "y_train_probabilities = model.predict_proba(X_train)\n",
    "assert y_train_probabilities.shape == (len(y_train), 10)\n",
    "\n",
    "y_train_max_prob_labels = np.argmax(y_train_probabilities, axis=1)\n",
    "assert y_train_labels.shape == y_train_max_prob_labels.shape == y_train.shape\n",
    "\n",
    "# If the predicted labels would coincide with the labels that have\n",
    "# maximum probability, the below number would be zero\n",
    "logger.log_int(\n",
    "    \"nr_max_prob_neq_label\", int(sum(y_train_max_prob_labels != y_train_labels))\n",
    ")"
   ]
  },
  {
   "cell_type": "markdown",
   "id": "812ab499",
   "metadata": {
    "papermill": {
     "duration": 0.003671,
     "end_time": "2022-07-18T06:51:33.598003",
     "exception": false,
     "start_time": "2022-07-18T06:51:33.594332",
     "status": "completed"
    },
    "tags": []
   },
   "source": [
    "The explanation is (likely) explained in the SVC source, see\n",
    "[here](https://github.com/scikit-learn/scikit-learn/blob/main/sklearn/svm/_base.py).\n",
    "Namely, the outputs from `predict(..)` and `predict_proba(..)` may not in some\n",
    "cases be compatible since the latter is computed using cross-validation while\n",
    "the former is not. Thus, the above number need not be zero."
   ]
  },
  {
   "cell_type": "markdown",
   "id": "8024e377",
   "metadata": {
    "papermill": {
     "duration": 0.00368,
     "end_time": "2022-07-18T06:51:33.605462",
     "exception": false,
     "start_time": "2022-07-18T06:51:33.601782",
     "status": "completed"
    },
    "tags": []
   },
   "source": [
    "## Persist model"
   ]
  },
  {
   "cell_type": "code",
   "execution_count": 10,
   "id": "0d75980e",
   "metadata": {
    "execution": {
     "iopub.execute_input": "2022-07-18T06:51:33.615227Z",
     "iopub.status.busy": "2022-07-18T06:51:33.613646Z",
     "iopub.status.idle": "2022-07-18T06:51:34.501533Z",
     "shell.execute_reply": "2022-07-18T06:51:34.500653Z"
    },
    "papermill": {
     "duration": 0.894683,
     "end_time": "2022-07-18T06:51:34.503612",
     "exception": false,
     "start_time": "2022-07-18T06:51:33.608929",
     "status": "completed"
    },
    "tags": []
   },
   "outputs": [],
   "source": [
    "from skl2onnx import convert_sklearn\n",
    "from skl2onnx.common.data_types import FloatTensorType\n",
    "\n",
    "#\n",
    "from common.io import datalake_root, write_onnx"
   ]
  },
  {
   "cell_type": "code",
   "execution_count": 11,
   "id": "705a4591",
   "metadata": {
    "execution": {
     "iopub.execute_input": "2022-07-18T06:51:34.514001Z",
     "iopub.status.busy": "2022-07-18T06:51:34.513459Z",
     "iopub.status.idle": "2022-07-18T06:51:34.572560Z",
     "shell.execute_reply": "2022-07-18T06:51:34.571794Z"
    },
    "papermill": {
     "duration": 0.067226,
     "end_time": "2022-07-18T06:51:34.574442",
     "exception": false,
     "start_time": "2022-07-18T06:51:34.507216",
     "status": "completed"
    },
    "tags": []
   },
   "outputs": [],
   "source": [
    "# convert sklearn model into onnx and persist to data lake\n",
    "\n",
    "model_onnx = convert_sklearn(\n",
    "    model, initial_types=[(\"float_input_8x8_image\", FloatTensorType([None, 8 * 8]))]\n",
    ")\n",
    "write_onnx(\n",
    "    datalake_root(P)\n",
    "    / \"models\"\n",
    "    / f\"nr_train_images={P['task.nr_train_images']}\"\n",
    "    / \"model.onnx\",\n",
    "    model_onnx,\n",
    ")"
   ]
  },
  {
   "cell_type": "code",
   "execution_count": null,
   "id": "d3d66ae1",
   "metadata": {
    "papermill": {
     "duration": 0.007331,
     "end_time": "2022-07-18T06:51:34.585802",
     "exception": false,
     "start_time": "2022-07-18T06:51:34.578471",
     "status": "completed"
    },
    "tags": []
   },
   "outputs": [],
   "source": []
  }
 ],
 "metadata": {
  "jupytext": {
   "cell_metadata_filter": "tags,-all",
   "main_language": "python",
   "notebook_metadata_filter": "-all"
  },
  "language_info": {
   "codemirror_mode": {
    "name": "ipython",
    "version": 3
   },
   "file_extension": ".py",
   "mimetype": "text/x-python",
   "name": "python",
   "nbconvert_exporter": "python",
   "pygments_lexer": "ipython3",
   "version": "3.8.10"
  },
  "papermill": {
   "default_parameters": {},
   "duration": 5.065606,
   "end_time": "2022-07-18T06:51:35.717448",
   "environment_variables": {},
   "exception": null,
   "input_path": "/home/host_user/workspace/mnist-demo-pipeline/mnist-demo-pipeline/notebooks/temp-notebook-33p1q45y.ipynb",
   "output_path": "notebooks/train-model.ipynb",
   "parameters": {
    "P": {
     "_opentelemetry_traceparent": "00-5bcb631ca66250a3838fb46c02b9727a-f2be054fcd7a90be-01",
     "pipeline.data_lake_root": "/pipeline-outputs/data-lake",
     "pipeline.github.actor": "matiasdahl",
     "pipeline.github.base_ref": "",
     "pipeline.github.event_name": "schedule",
     "pipeline.github.head_ref": "",
     "pipeline.github.job": "run-tests-pipeline-and-persist-pipeline-outputs",
     "pipeline.github.ref": "refs/heads/development",
     "pipeline.github.ref_name": "development",
     "pipeline.github.ref_type": "branch",
     "pipeline.github.repository": "pynb-dag-runner/mnist-digits-demo-pipeline",
     "pipeline.github.run_id": "2688640586",
     "pipeline.github.runner_name": "Hosted Agent",
     "pipeline.github.sha": "147a1be9916173fd4d2cd011d8d51e3411215850",
     "pipeline.github.workflow": "Run automated tests, pipeline and deploy results to static reporting site",
     "pipeline.pipeline_run_id": "9956fcd3-236b-46e4-b3bb-d198ded018af",
     "pipeline.run_environment": "ci",
     "run.retry_nr": "0",
     "task.max_nr_retries": "1",
     "task.notebook": "notebooks/train-model.py",
     "task.nr_train_images": 1000,
     "task.num_cpus": 1,
     "task.timeout_s": "None"
    }
   },
   "start_time": "2022-07-18T06:51:30.651842",
   "version": "2.3.3"
  }
 },
 "nbformat": 4,
 "nbformat_minor": 5
}