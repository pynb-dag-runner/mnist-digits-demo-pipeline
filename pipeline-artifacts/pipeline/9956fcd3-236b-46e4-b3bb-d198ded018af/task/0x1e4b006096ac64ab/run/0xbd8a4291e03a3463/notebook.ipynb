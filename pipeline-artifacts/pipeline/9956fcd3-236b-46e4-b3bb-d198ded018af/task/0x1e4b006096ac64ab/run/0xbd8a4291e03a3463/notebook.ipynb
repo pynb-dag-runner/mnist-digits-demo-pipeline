{
 "cells": [
  {
   "cell_type": "markdown",
   "id": "c51a4113",
   "metadata": {
    "papermill": {
     "duration": 0.007309,
     "end_time": "2022-07-18T06:51:57.837428",
     "exception": false,
     "start_time": "2022-07-18T06:51:57.830119",
     "status": "completed"
    },
    "tags": []
   },
   "source": [
    "# Benchmark model\n",
    "\n",
    "The purpose of this notebook is to benchmark persisted onnx-model (trained in the\n",
    "previous step) against evaluation set."
   ]
  },
  {
   "cell_type": "markdown",
   "id": "7c70ca7d",
   "metadata": {
    "papermill": {
     "duration": 0.004885,
     "end_time": "2022-07-18T06:51:57.850664",
     "exception": false,
     "start_time": "2022-07-18T06:51:57.845779",
     "status": "completed"
    },
    "tags": []
   },
   "source": [
    "### Determine run parameters"
   ]
  },
  {
   "cell_type": "code",
   "execution_count": 1,
   "id": "b43f8381",
   "metadata": {
    "execution": {
     "iopub.execute_input": "2022-07-18T06:51:57.869438Z",
     "iopub.status.busy": "2022-07-18T06:51:57.869080Z",
     "iopub.status.idle": "2022-07-18T06:51:57.880057Z",
     "shell.execute_reply": "2022-07-18T06:51:57.879457Z"
    },
    "lines_to_next_cell": 0,
    "papermill": {
     "duration": 0.026329,
     "end_time": "2022-07-18T06:51:57.882157",
     "exception": false,
     "start_time": "2022-07-18T06:51:57.855828",
     "status": "completed"
    },
    "tags": []
   },
   "outputs": [],
   "source": [
    "# ----------------- Parameters for interactive development --------------\n",
    "P = {\n",
    "    \"pipeline.data_lake_root\": \"/pipeline-outputs/data-lake\",\n",
    "    \"task.nr_train_images\": 600,\n",
    "}"
   ]
  },
  {
   "cell_type": "code",
   "execution_count": 2,
   "id": "0590b7cb",
   "metadata": {
    "execution": {
     "iopub.execute_input": "2022-07-18T06:51:57.893130Z",
     "iopub.status.busy": "2022-07-18T06:51:57.892848Z",
     "iopub.status.idle": "2022-07-18T06:51:57.896304Z",
     "shell.execute_reply": "2022-07-18T06:51:57.895691Z"
    },
    "lines_to_next_cell": 0,
    "papermill": {
     "duration": 0.012255,
     "end_time": "2022-07-18T06:51:57.899832",
     "exception": false,
     "start_time": "2022-07-18T06:51:57.887577",
     "status": "completed"
    },
    "tags": [
     "parameters"
    ]
   },
   "outputs": [],
   "source": [
    "# - During automated runs parameters will be injected in the below cell -"
   ]
  },
  {
   "cell_type": "code",
   "execution_count": 3,
   "id": "346a2426",
   "metadata": {
    "execution": {
     "iopub.execute_input": "2022-07-18T06:51:57.910577Z",
     "iopub.status.busy": "2022-07-18T06:51:57.910343Z",
     "iopub.status.idle": "2022-07-18T06:51:57.915249Z",
     "shell.execute_reply": "2022-07-18T06:51:57.914658Z"
    },
    "papermill": {
     "duration": 0.014318,
     "end_time": "2022-07-18T06:51:57.918664",
     "exception": false,
     "start_time": "2022-07-18T06:51:57.904346",
     "status": "completed"
    },
    "tags": [
     "injected-parameters"
    ]
   },
   "outputs": [],
   "source": [
    "# Parameters\n",
    "P = {\n",
    "    \"pipeline.data_lake_root\": \"/pipeline-outputs/data-lake\",\n",
    "    \"pipeline.run_environment\": \"ci\",\n",
    "    \"pipeline.pipeline_run_id\": \"9956fcd3-236b-46e4-b3bb-d198ded018af\",\n",
    "    \"pipeline.github.repository\": \"pynb-dag-runner/mnist-digits-demo-pipeline\",\n",
    "    \"pipeline.github.workflow\": \"Run automated tests, pipeline and deploy results to static reporting site\",\n",
    "    \"pipeline.github.runner_name\": \"Hosted Agent\",\n",
    "    \"pipeline.github.run_id\": \"2688640586\",\n",
    "    \"pipeline.github.actor\": \"matiasdahl\",\n",
    "    \"pipeline.github.job\": \"run-tests-pipeline-and-persist-pipeline-outputs\",\n",
    "    \"pipeline.github.base_ref\": \"\",\n",
    "    \"pipeline.github.head_ref\": \"\",\n",
    "    \"pipeline.github.sha\": \"147a1be9916173fd4d2cd011d8d51e3411215850\",\n",
    "    \"pipeline.github.ref\": \"refs/heads/development\",\n",
    "    \"pipeline.github.ref_type\": \"branch\",\n",
    "    \"pipeline.github.ref_name\": \"development\",\n",
    "    \"pipeline.github.event_name\": \"schedule\",\n",
    "    \"task.nr_train_images\": 1200,\n",
    "    \"task.notebook\": \"notebooks/benchmark-model.py\",\n",
    "    \"task.max_nr_retries\": \"1\",\n",
    "    \"run.retry_nr\": \"0\",\n",
    "    \"task.timeout_s\": \"None\",\n",
    "    \"task.num_cpus\": 1,\n",
    "    \"_opentelemetry_traceparent\": \"00-5bcb631ca66250a3838fb46c02b9727a-1ffa75c8aeafbf3a-01\",\n",
    "}\n"
   ]
  },
  {
   "cell_type": "code",
   "execution_count": 4,
   "id": "bd080e4f",
   "metadata": {
    "execution": {
     "iopub.execute_input": "2022-07-18T06:51:57.930151Z",
     "iopub.status.busy": "2022-07-18T06:51:57.929913Z",
     "iopub.status.idle": "2022-07-18T06:51:57.932993Z",
     "shell.execute_reply": "2022-07-18T06:51:57.932375Z"
    },
    "lines_to_next_cell": 0,
    "papermill": {
     "duration": 0.012644,
     "end_time": "2022-07-18T06:51:57.935617",
     "exception": false,
     "start_time": "2022-07-18T06:51:57.922973",
     "status": "completed"
    },
    "tags": []
   },
   "outputs": [],
   "source": [
    "# -----------------------------------------------------------------------"
   ]
  },
  {
   "cell_type": "markdown",
   "id": "a14f328e",
   "metadata": {
    "papermill": {
     "duration": 0.010944,
     "end_time": "2022-07-18T06:51:57.951268",
     "exception": false,
     "start_time": "2022-07-18T06:51:57.940324",
     "status": "completed"
    },
    "tags": []
   },
   "source": [
    "---"
   ]
  },
  {
   "cell_type": "markdown",
   "id": "adee208e",
   "metadata": {
    "lines_to_next_cell": 2,
    "papermill": {
     "duration": 0.005574,
     "end_time": "2022-07-18T06:51:57.961722",
     "exception": false,
     "start_time": "2022-07-18T06:51:57.956148",
     "status": "completed"
    },
    "tags": []
   },
   "source": [
    "### Notebook code"
   ]
  },
  {
   "cell_type": "code",
   "execution_count": 5,
   "id": "0a6df5a0",
   "metadata": {
    "execution": {
     "iopub.execute_input": "2022-07-18T06:51:57.973433Z",
     "iopub.status.busy": "2022-07-18T06:51:57.973177Z",
     "iopub.status.idle": "2022-07-18T06:51:59.317572Z",
     "shell.execute_reply": "2022-07-18T06:51:59.316704Z"
    },
    "papermill": {
     "duration": 1.35341,
     "end_time": "2022-07-18T06:51:59.319918",
     "exception": false,
     "start_time": "2022-07-18T06:51:57.966508",
     "status": "completed"
    },
    "tags": []
   },
   "outputs": [
    {
     "name": "stderr",
     "output_type": "stream",
     "text": [
      "2022-07-18 06:51:59,136\tINFO worker.py:842 -- Connecting to existing Ray cluster at address: 172.17.0.2:6379\n"
     ]
    }
   ],
   "source": [
    "import itertools as it\n",
    "\n",
    "#\n",
    "import numpy as np\n",
    "import matplotlib.pyplot as plt\n",
    "\n",
    "#\n",
    "from pynb_dag_runner.tasks.task_opentelemetry_logging import PydarLogger\n",
    "\n",
    "#\n",
    "from common.io import datalake_root\n",
    "\n",
    "logger = PydarLogger(P)"
   ]
  },
  {
   "cell_type": "markdown",
   "id": "214ef78c",
   "metadata": {
    "papermill": {
     "duration": 0.004924,
     "end_time": "2022-07-18T06:51:59.330027",
     "exception": false,
     "start_time": "2022-07-18T06:51:59.325103",
     "status": "completed"
    },
    "tags": []
   },
   "source": [
    "## Load persisted onnx-model and evaluation data"
   ]
  },
  {
   "cell_type": "code",
   "execution_count": 6,
   "id": "6b33a44c",
   "metadata": {
    "execution": {
     "iopub.execute_input": "2022-07-18T06:51:59.340858Z",
     "iopub.status.busy": "2022-07-18T06:51:59.340493Z",
     "iopub.status.idle": "2022-07-18T06:51:59.344104Z",
     "shell.execute_reply": "2022-07-18T06:51:59.343538Z"
    },
    "papermill": {
     "duration": 0.012594,
     "end_time": "2022-07-18T06:51:59.347064",
     "exception": false,
     "start_time": "2022-07-18T06:51:59.334470",
     "status": "completed"
    },
    "tags": []
   },
   "outputs": [],
   "source": [
    "from common.io import read_onnx, get_onnx_inputs, get_onnx_outputs, read_numpy"
   ]
  },
  {
   "cell_type": "code",
   "execution_count": 7,
   "id": "89d76ef1",
   "metadata": {
    "execution": {
     "iopub.execute_input": "2022-07-18T06:51:59.358132Z",
     "iopub.status.busy": "2022-07-18T06:51:59.357887Z",
     "iopub.status.idle": "2022-07-18T06:51:59.370397Z",
     "shell.execute_reply": "2022-07-18T06:51:59.369717Z"
    },
    "lines_to_next_cell": 0,
    "papermill": {
     "duration": 0.020014,
     "end_time": "2022-07-18T06:51:59.372237",
     "exception": false,
     "start_time": "2022-07-18T06:51:59.352223",
     "status": "completed"
    },
    "tags": []
   },
   "outputs": [],
   "source": [
    "onnx_inference_session = read_onnx(\n",
    "    datalake_root(P)\n",
    "    / \"models\"\n",
    "    / f\"nr_train_images={P['task.nr_train_images']}\"\n",
    "    / \"model.onnx\"\n",
    ")"
   ]
  },
  {
   "cell_type": "markdown",
   "id": "1534ce94",
   "metadata": {
    "papermill": {
     "duration": 0.005177,
     "end_time": "2022-07-18T06:51:59.382134",
     "exception": false,
     "start_time": "2022-07-18T06:51:59.376957",
     "status": "completed"
    },
    "tags": []
   },
   "source": [
    "### Record structure of inputs and outputs for ONNX model\n",
    "\n",
    "(this should likely be done in training notebook)"
   ]
  },
  {
   "cell_type": "code",
   "execution_count": 8,
   "id": "623ebbc1",
   "metadata": {
    "execution": {
     "iopub.execute_input": "2022-07-18T06:51:59.392867Z",
     "iopub.status.busy": "2022-07-18T06:51:59.392628Z",
     "iopub.status.idle": "2022-07-18T06:51:59.398480Z",
     "shell.execute_reply": "2022-07-18T06:51:59.397650Z"
    },
    "papermill": {
     "duration": 0.021183,
     "end_time": "2022-07-18T06:51:59.408123",
     "exception": false,
     "start_time": "2022-07-18T06:51:59.386940",
     "status": "completed"
    },
    "tags": []
   },
   "outputs": [
    {
     "name": "stdout",
     "output_type": "stream",
     "text": [
      "{\n",
      "  \"inputs\": [\n",
      "    {\n",
      "      \"name\": \"float_input_8x8_image\",\n",
      "      \"shape\": [\n",
      "        null,\n",
      "        64\n",
      "      ],\n",
      "      \"type\": \"tensor(float)\"\n",
      "    }\n",
      "  ],\n",
      "  \"outputs\": [\n",
      "    {\n",
      "      \"name\": \"output_label\",\n",
      "      \"shape\": [\n",
      "        null\n",
      "      ],\n",
      "      \"type\": \"tensor(int64)\"\n",
      "    },\n",
      "    {\n",
      "      \"name\": \"output_probability\",\n",
      "      \"shape\": [],\n",
      "      \"type\": \"seq(map(int64,tensor(float)))\"\n",
      "    }\n",
      "  ]\n",
      "}\n"
     ]
    }
   ],
   "source": [
    "import json\n",
    "\n",
    "onnx_io = json.dumps(\n",
    "    {\n",
    "        \"inputs\": get_onnx_inputs(onnx_inference_session),\n",
    "        \"outputs\": get_onnx_outputs(onnx_inference_session),\n",
    "    },\n",
    "    indent=2,\n",
    ")\n",
    "\n",
    "\n",
    "logger.log_artefact(\"onnx_io_structure.json\", onnx_io)\n",
    "print(onnx_io)"
   ]
  },
  {
   "cell_type": "markdown",
   "id": "5f035c4a",
   "metadata": {
    "papermill": {
     "duration": 0.005306,
     "end_time": "2022-07-18T06:51:59.419793",
     "exception": false,
     "start_time": "2022-07-18T06:51:59.414487",
     "status": "completed"
    },
    "tags": []
   },
   "source": [
    "### Evaluate model performance on evaluation data set"
   ]
  },
  {
   "cell_type": "code",
   "execution_count": 9,
   "id": "48d61f40",
   "metadata": {
    "execution": {
     "iopub.execute_input": "2022-07-18T06:51:59.430146Z",
     "iopub.status.busy": "2022-07-18T06:51:59.429882Z",
     "iopub.status.idle": "2022-07-18T06:51:59.434739Z",
     "shell.execute_reply": "2022-07-18T06:51:59.434167Z"
    },
    "papermill": {
     "duration": 0.013192,
     "end_time": "2022-07-18T06:51:59.437505",
     "exception": false,
     "start_time": "2022-07-18T06:51:59.424313",
     "status": "completed"
    },
    "tags": []
   },
   "outputs": [],
   "source": [
    "# load evaluation data\n",
    "X_test = read_numpy(datalake_root(P) / \"test-data\" / \"digits.numpy\")\n",
    "y_test = read_numpy(datalake_root(P) / \"test-data\" / \"labels.numpy\")"
   ]
  },
  {
   "cell_type": "code",
   "execution_count": 10,
   "id": "d68bb338",
   "metadata": {
    "execution": {
     "iopub.execute_input": "2022-07-18T06:51:59.448473Z",
     "iopub.status.busy": "2022-07-18T06:51:59.448229Z",
     "iopub.status.idle": "2022-07-18T06:51:59.464679Z",
     "shell.execute_reply": "2022-07-18T06:51:59.464006Z"
    },
    "papermill": {
     "duration": 0.024285,
     "end_time": "2022-07-18T06:51:59.466908",
     "exception": false,
     "start_time": "2022-07-18T06:51:59.442623",
     "status": "completed"
    },
    "tags": []
   },
   "outputs": [],
   "source": [
    "def get_model_outputs(X, onnx_inference_session):\n",
    "    y_pred_labels, y_pred_map = onnx_inference_session.run(\n",
    "        [\"output_label\", \"output_probability\"],\n",
    "        {\"float_input_8x8_image\": X.astype(np.float32)},\n",
    "    )\n",
    "    y_pred_probs = np.array(\n",
    "        [[probabilities[digit] for digit in range(10)] for probabilities in y_pred_map]\n",
    "    )\n",
    "\n",
    "    assert y_pred_labels.shape == (X.shape[0],)\n",
    "    assert y_pred_probs.shape == (X.shape[0], 10)\n",
    "\n",
    "    return y_pred_labels, y_pred_probs\n",
    "\n",
    "\n",
    "# Note: as shown in the training notebook, the predicted labels and probabilities\n",
    "# computed below need not be compatible.\n",
    "y_pred_labels_test, y_pred_probs_test = get_model_outputs(\n",
    "    X_test, onnx_inference_session\n",
    ")"
   ]
  },
  {
   "cell_type": "markdown",
   "id": "537fa782",
   "metadata": {
    "papermill": {
     "duration": 0.005233,
     "end_time": "2022-07-18T06:51:59.477758",
     "exception": false,
     "start_time": "2022-07-18T06:51:59.472525",
     "status": "completed"
    },
    "tags": []
   },
   "source": [
    "### Confusion matrix"
   ]
  },
  {
   "cell_type": "code",
   "execution_count": 11,
   "id": "73f6ac28",
   "metadata": {
    "execution": {
     "iopub.execute_input": "2022-07-18T06:51:59.490415Z",
     "iopub.status.busy": "2022-07-18T06:51:59.490163Z",
     "iopub.status.idle": "2022-07-18T06:51:59.493317Z",
     "shell.execute_reply": "2022-07-18T06:51:59.492732Z"
    },
    "papermill": {
     "duration": 0.012724,
     "end_time": "2022-07-18T06:51:59.496428",
     "exception": false,
     "start_time": "2022-07-18T06:51:59.483704",
     "status": "completed"
    },
    "tags": []
   },
   "outputs": [],
   "source": [
    "# TODO"
   ]
  },
  {
   "cell_type": "markdown",
   "id": "779957dc",
   "metadata": {
    "papermill": {
     "duration": 0.005143,
     "end_time": "2022-07-18T06:51:59.507265",
     "exception": false,
     "start_time": "2022-07-18T06:51:59.502122",
     "status": "completed"
    },
    "tags": []
   },
   "source": [
    "### Plot predicted probabilities for each classifier over all evaluation digit images"
   ]
  },
  {
   "cell_type": "code",
   "execution_count": 12,
   "id": "8dd7333d",
   "metadata": {
    "execution": {
     "iopub.execute_input": "2022-07-18T06:51:59.520057Z",
     "iopub.status.busy": "2022-07-18T06:51:59.519553Z",
     "iopub.status.idle": "2022-07-18T06:52:03.176203Z",
     "shell.execute_reply": "2022-07-18T06:52:03.175332Z"
    },
    "papermill": {
     "duration": 3.664831,
     "end_time": "2022-07-18T06:52:03.178214",
     "exception": false,
     "start_time": "2022-07-18T06:51:59.513383",
     "status": "completed"
    },
    "tags": []
   },
   "outputs": [
    {
     "data": {
      "image/png": "[encoded data removed]",
      "text/plain": [
       "<Figure size 1152x432 with 10 Axes>"
      ]
     },
     "metadata": {
      "needs_background": "light"
     },
     "output_type": "display_data"
    }
   ],
   "source": [
    "def plot_per_digit_probabilities(y_pred_probs):\n",
    "    fig, axs = plt.subplots(nrows=2, ncols=5, figsize=(16, 6))\n",
    "\n",
    "    for (r, c), digit, ax in zip(\n",
    "        it.product(range(2), range(5)), range(10), axs.reshape(-1)\n",
    "    ):\n",
    "        ax.hist(y_pred_probs_test[:, digit], bins=20)\n",
    "\n",
    "        ax.set_title(f\"Digit {digit}\")\n",
    "        if r == 1 and c == 2:\n",
    "            ax.set_xlabel(\"probability\", fontsize=16)\n",
    "\n",
    "        if c == 0:\n",
    "            ax.set_ylabel(\"counts\", fontsize=16)\n",
    "        ax.set_yscale(\"log\")\n",
    "\n",
    "    fig.tight_layout()\n",
    "    fig.suptitle(\n",
    "        f\"Distributions of prediction probabilities for each digit \"\n",
    "        f\"(on evaluation data, n={y_pred_probs.shape[0]})\",\n",
    "        fontsize=20,\n",
    "    )\n",
    "    fig.tight_layout()\n",
    "    fig.show()\n",
    "\n",
    "    return fig\n",
    "\n",
    "\n",
    "fig = plot_per_digit_probabilities(y_pred_probs_test)"
   ]
  },
  {
   "cell_type": "markdown",
   "id": "958a5b7a",
   "metadata": {
    "papermill": {
     "duration": 0.005535,
     "end_time": "2022-07-18T06:52:03.190427",
     "exception": false,
     "start_time": "2022-07-18T06:52:03.184892",
     "status": "completed"
    },
    "tags": []
   },
   "source": [
    "From the above distributions we see that most digits have clear separation between\n",
    "high and lower probabilities. Morover, in each case there is roughly an order of\n",
    "magnitude more of digits with low probabilities. This is compatible with digits\n",
    "being roughly evenly distributed in the data."
   ]
  },
  {
   "cell_type": "code",
   "execution_count": 13,
   "id": "bd96c232",
   "metadata": {
    "execution": {
     "iopub.execute_input": "2022-07-18T06:52:03.202765Z",
     "iopub.status.busy": "2022-07-18T06:52:03.202470Z",
     "iopub.status.idle": "2022-07-18T06:52:03.674875Z",
     "shell.execute_reply": "2022-07-18T06:52:03.674085Z"
    },
    "papermill": {
     "duration": 0.481107,
     "end_time": "2022-07-18T06:52:03.676972",
     "exception": false,
     "start_time": "2022-07-18T06:52:03.195865",
     "status": "completed"
    },
    "tags": []
   },
   "outputs": [],
   "source": [
    "logger.log_figure(\"per-digit-probabilities.png\", fig)"
   ]
  },
  {
   "cell_type": "markdown",
   "id": "df94aa4c",
   "metadata": {
    "papermill": {
     "duration": 0.005568,
     "end_time": "2022-07-18T06:52:03.688789",
     "exception": false,
     "start_time": "2022-07-18T06:52:03.683221",
     "status": "completed"
    },
    "tags": []
   },
   "source": [
    "### Plot ROC curves for individual one-vs-rest classifiers"
   ]
  },
  {
   "cell_type": "code",
   "execution_count": 14,
   "id": "18dded91",
   "metadata": {
    "execution": {
     "iopub.execute_input": "2022-07-18T06:52:03.702855Z",
     "iopub.status.busy": "2022-07-18T06:52:03.702233Z",
     "iopub.status.idle": "2022-07-18T06:52:04.124547Z",
     "shell.execute_reply": "2022-07-18T06:52:04.123769Z"
    },
    "papermill": {
     "duration": 0.431372,
     "end_time": "2022-07-18T06:52:04.126948",
     "exception": false,
     "start_time": "2022-07-18T06:52:03.695576",
     "status": "completed"
    },
    "tags": []
   },
   "outputs": [],
   "source": [
    "from sklearn import metrics"
   ]
  },
  {
   "cell_type": "code",
   "execution_count": 15,
   "id": "f2282e80",
   "metadata": {
    "execution": {
     "iopub.execute_input": "2022-07-18T06:52:04.140395Z",
     "iopub.status.busy": "2022-07-18T06:52:04.139943Z",
     "iopub.status.idle": "2022-07-18T06:52:05.285513Z",
     "shell.execute_reply": "2022-07-18T06:52:05.284127Z"
    },
    "papermill": {
     "duration": 1.155091,
     "end_time": "2022-07-18T06:52:05.287689",
     "exception": false,
     "start_time": "2022-07-18T06:52:04.132598",
     "status": "completed"
    },
    "tags": []
   },
   "outputs": [
    {
     "data": {
      "image/png": "[encoded data removed]",
      "text/plain": [
       "<Figure size 1152x576 with 10 Axes>"
      ]
     },
     "metadata": {
      "needs_background": "light"
     },
     "output_type": "display_data"
    }
   ],
   "source": [
    "def plot_roc_curves(y, y_pred_probs):\n",
    "    # based on example code\n",
    "    # https://scikit-learn.org/stable/auto_examples/model_selection/plot_roc.html\n",
    "\n",
    "    fig, axs = plt.subplots(nrows=2, ncols=5, figsize=(16, 8))\n",
    "\n",
    "    roc_auc_dict = {}\n",
    "\n",
    "    for (r, c), digit, ax in zip(\n",
    "        it.product(range(2), range(5)), range(10), axs.reshape(-1)\n",
    "    ):\n",
    "        fpr, tpr, _ = metrics.roc_curve(y == digit, y_pred_probs[:, digit])\n",
    "        auc = metrics.auc(fpr, tpr)\n",
    "        roc_auc_dict[str(digit)] = auc\n",
    "\n",
    "        ax.plot(fpr, tpr, label=f\"ROC AUC={round(auc, 3)}\")\n",
    "\n",
    "        ax.set_title(f\"\\nDigit {digit}\", fontsize=16)\n",
    "        if r == 1:\n",
    "            ax.set_xlabel(\"FPR\", fontsize=18)\n",
    "\n",
    "        if c == 0:\n",
    "            ax.set_ylabel(\"TPR\", fontsize=18)\n",
    "\n",
    "        ax.set_xlim([-0.05, 1.05])\n",
    "        ax.set_ylim([-0.05, 1.05])\n",
    "        ax.legend(loc=\"lower right\", frameon=False, fontsize=14)\n",
    "\n",
    "    fig.tight_layout()\n",
    "    fig.suptitle(\n",
    "        f\"ROC plots for one-vs-rest performances \"\n",
    "        f\"(on evaluation data, n={y_pred_probs_test.shape[1]}\",\n",
    "        fontsize=22,\n",
    "    )\n",
    "    fig.tight_layout()\n",
    "    fig.show()\n",
    "\n",
    "    return roc_auc_dict, fig\n",
    "\n",
    "\n",
    "roc_auc_dict, fig = plot_roc_curves(y_test, y_pred_probs_test)"
   ]
  },
  {
   "cell_type": "code",
   "execution_count": 16,
   "id": "e911ecb0",
   "metadata": {
    "execution": {
     "iopub.execute_input": "2022-07-18T06:52:05.303553Z",
     "iopub.status.busy": "2022-07-18T06:52:05.303066Z",
     "iopub.status.idle": "2022-07-18T06:52:05.536015Z",
     "shell.execute_reply": "2022-07-18T06:52:05.535026Z"
    },
    "papermill": {
     "duration": 0.243358,
     "end_time": "2022-07-18T06:52:05.537908",
     "exception": false,
     "start_time": "2022-07-18T06:52:05.294550",
     "status": "completed"
    },
    "tags": []
   },
   "outputs": [],
   "source": [
    "logger.log_figure(\"per-digit-roc-curves.png\", fig)"
   ]
  },
  {
   "cell_type": "code",
   "execution_count": 17,
   "id": "5410972f",
   "metadata": {
    "execution": {
     "iopub.execute_input": "2022-07-18T06:52:05.551476Z",
     "iopub.status.busy": "2022-07-18T06:52:05.550947Z",
     "iopub.status.idle": "2022-07-18T06:52:05.556489Z",
     "shell.execute_reply": "2022-07-18T06:52:05.555866Z"
    },
    "papermill": {
     "duration": 0.013807,
     "end_time": "2022-07-18T06:52:05.557863",
     "exception": false,
     "start_time": "2022-07-18T06:52:05.544056",
     "status": "completed"
    },
    "tags": []
   },
   "outputs": [
    {
     "data": {
      "text/plain": [
       "{'0': 1.0,\n",
       " '1': 0.9991002811621369,\n",
       " '2': 1.0,\n",
       " '3': 0.9998500468603562,\n",
       " '4': 0.9997713763145861,\n",
       " '5': 0.9997000937207123,\n",
       " '6': 0.999923792104862,\n",
       " '7': 0.9998475842097242,\n",
       " '8': 0.9959016393442623,\n",
       " '9': 0.9997332723670171}"
      ]
     },
     "execution_count": 17,
     "metadata": {},
     "output_type": "execute_result"
    }
   ],
   "source": [
    "roc_auc_dict"
   ]
  },
  {
   "cell_type": "code",
   "execution_count": 18,
   "id": "e8a71edb",
   "metadata": {
    "execution": {
     "iopub.execute_input": "2022-07-18T06:52:05.570908Z",
     "iopub.status.busy": "2022-07-18T06:52:05.570395Z",
     "iopub.status.idle": "2022-07-18T06:52:05.575080Z",
     "shell.execute_reply": "2022-07-18T06:52:05.574290Z"
    },
    "papermill": {
     "duration": 0.014018,
     "end_time": "2022-07-18T06:52:05.577544",
     "exception": false,
     "start_time": "2022-07-18T06:52:05.563526",
     "status": "completed"
    },
    "tags": []
   },
   "outputs": [
    {
     "name": "stdout",
     "output_type": "stream",
     "text": [
      " - Logging roc_auc_per_digit (json) : {'0': 1.0, '1': 0.9991002811621369, '2': 1.0, '3': 0.9998500468603562, '4': 0.9997713763145861, '5': 0.9997000937207123, '6': 0.999923792104862, '7': 0.9998475842097242, '8': 0.9959016393442623, '9': 0.9997332723670171}\n"
     ]
    }
   ],
   "source": [
    "logger.log_value(\"roc_auc_per_digit\", roc_auc_dict)"
   ]
  },
  {
   "cell_type": "markdown",
   "id": "2b1e4317",
   "metadata": {
    "papermill": {
     "duration": 0.006068,
     "end_time": "2022-07-18T06:52:05.589237",
     "exception": false,
     "start_time": "2022-07-18T06:52:05.583169",
     "status": "completed"
    },
    "tags": []
   },
   "source": [
    "### Compute and log mean ROC AUC score averaged over all digits"
   ]
  },
  {
   "cell_type": "code",
   "execution_count": 19,
   "id": "de77ca1b",
   "metadata": {
    "execution": {
     "iopub.execute_input": "2022-07-18T06:52:05.603186Z",
     "iopub.status.busy": "2022-07-18T06:52:05.602551Z",
     "iopub.status.idle": "2022-07-18T06:52:05.619400Z",
     "shell.execute_reply": "2022-07-18T06:52:05.618488Z"
    },
    "papermill": {
     "duration": 0.025422,
     "end_time": "2022-07-18T06:52:05.620910",
     "exception": false,
     "start_time": "2022-07-18T06:52:05.595488",
     "status": "completed"
    },
    "tags": []
   },
   "outputs": [
    {
     "name": "stdout",
     "output_type": "stream",
     "text": [
      " - Logging roc_auc_class_mean (float) : 0.9993828086083658\n"
     ]
    }
   ],
   "source": [
    "roc_auc_macro = np.mean(list(roc_auc_dict.values()))\n",
    "\n",
    "logger.log_float(\"roc_auc_class_mean\", roc_auc_macro)\n",
    "\n",
    "# assert that the same value can be computed directly using sklearn\n",
    "assert roc_auc_macro == metrics.roc_auc_score(\n",
    "    y_test, y_pred_probs_test, average=\"macro\", multi_class=\"ovr\"\n",
    ")"
   ]
  },
  {
   "cell_type": "code",
   "execution_count": 20,
   "id": "a951c381",
   "metadata": {
    "execution": {
     "iopub.execute_input": "2022-07-18T06:52:05.634407Z",
     "iopub.status.busy": "2022-07-18T06:52:05.633930Z",
     "iopub.status.idle": "2022-07-18T06:52:05.637147Z",
     "shell.execute_reply": "2022-07-18T06:52:05.636402Z"
    },
    "lines_to_next_cell": 0,
    "papermill": {
     "duration": 0.011954,
     "end_time": "2022-07-18T06:52:05.638894",
     "exception": false,
     "start_time": "2022-07-18T06:52:05.626940",
     "status": "completed"
    },
    "tags": []
   },
   "outputs": [],
   "source": [
    "# ---"
   ]
  },
  {
   "cell_type": "code",
   "execution_count": null,
   "id": "42f35702",
   "metadata": {
    "papermill": {
     "duration": 0.006327,
     "end_time": "2022-07-18T06:52:05.650991",
     "exception": false,
     "start_time": "2022-07-18T06:52:05.644664",
     "status": "completed"
    },
    "tags": []
   },
   "outputs": [],
   "source": []
  }
 ],
 "metadata": {
  "jupytext": {
   "cell_metadata_filter": "tags,-all",
   "main_language": "python",
   "notebook_metadata_filter": "-all"
  },
  "language_info": {
   "codemirror_mode": {
    "name": "ipython",
    "version": 3
   },
   "file_extension": ".py",
   "mimetype": "text/x-python",
   "name": "python",
   "nbconvert_exporter": "python",
   "pygments_lexer": "ipython3",
   "version": "3.8.10"
  },
  "papermill": {
   "default_parameters": {},
   "duration": 10.478142,
   "end_time": "2022-07-18T06:52:06.676395",
   "environment_variables": {},
   "exception": null,
   "input_path": "/home/host_user/workspace/mnist-demo-pipeline/mnist-demo-pipeline/notebooks/temp-notebook-7ddnzxx7.ipynb",
   "output_path": "notebooks/benchmark-model.ipynb",
   "parameters": {
    "P": {
     "_opentelemetry_traceparent": "00-5bcb631ca66250a3838fb46c02b9727a-1ffa75c8aeafbf3a-01",
     "pipeline.data_lake_root": "/pipeline-outputs/data-lake",
     "pipeline.github.actor": "matiasdahl",
     "pipeline.github.base_ref": "",
     "pipeline.github.event_name": "schedule",
     "pipeline.github.head_ref": "",
     "pipeline.github.job": "run-tests-pipeline-and-persist-pipeline-outputs",
     "pipeline.github.ref": "refs/heads/development",
     "pipeline.github.ref_name": "development",
     "pipeline.github.ref_type": "branch",
     "pipeline.github.repository": "pynb-dag-runner/mnist-digits-demo-pipeline",
     "pipeline.github.run_id": "2688640586",
     "pipeline.github.runner_name": "Hosted Agent",
     "pipeline.github.sha": "147a1be9916173fd4d2cd011d8d51e3411215850",
     "pipeline.github.workflow": "Run automated tests, pipeline and deploy results to static reporting site",
     "pipeline.pipeline_run_id": "9956fcd3-236b-46e4-b3bb-d198ded018af",
     "pipeline.run_environment": "ci",
     "run.retry_nr": "0",
     "task.max_nr_retries": "1",
     "task.notebook": "notebooks/benchmark-model.py",
     "task.nr_train_images": 1200,
     "task.num_cpus": 1,
     "task.timeout_s": "None"
    }
   },
   "start_time": "2022-07-18T06:51:56.198253",
   "version": "2.3.3"
  }
 },
 "nbformat": 4,
 "nbformat_minor": 5
}