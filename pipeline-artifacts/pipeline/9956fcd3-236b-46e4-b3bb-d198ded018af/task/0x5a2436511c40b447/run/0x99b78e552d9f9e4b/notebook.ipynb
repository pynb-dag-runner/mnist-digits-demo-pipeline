{
 "cells": [
  {
   "cell_type": "markdown",
   "id": "6dd20c5d",
   "metadata": {
    "papermill": {
     "duration": 0.006139,
     "end_time": "2022-07-18T06:51:40.489279",
     "exception": false,
     "start_time": "2022-07-18T06:51:40.483140",
     "status": "completed"
    },
    "tags": []
   },
   "source": [
    "# Benchmark model\n",
    "\n",
    "The purpose of this notebook is to benchmark persisted onnx-model (trained in the\n",
    "previous step) against evaluation set."
   ]
  },
  {
   "cell_type": "markdown",
   "id": "f8f2e0b8",
   "metadata": {
    "papermill": {
     "duration": 0.00491,
     "end_time": "2022-07-18T06:51:40.499456",
     "exception": false,
     "start_time": "2022-07-18T06:51:40.494546",
     "status": "completed"
    },
    "tags": []
   },
   "source": [
    "### Determine run parameters"
   ]
  },
  {
   "cell_type": "code",
   "execution_count": 1,
   "id": "fa1c9f48",
   "metadata": {
    "execution": {
     "iopub.execute_input": "2022-07-18T06:51:40.516795Z",
     "iopub.status.busy": "2022-07-18T06:51:40.516431Z",
     "iopub.status.idle": "2022-07-18T06:51:40.527721Z",
     "shell.execute_reply": "2022-07-18T06:51:40.527071Z"
    },
    "lines_to_next_cell": 0,
    "papermill": {
     "duration": 0.025961,
     "end_time": "2022-07-18T06:51:40.530417",
     "exception": false,
     "start_time": "2022-07-18T06:51:40.504456",
     "status": "completed"
    },
    "tags": []
   },
   "outputs": [],
   "source": [
    "# ----------------- Parameters for interactive development --------------\n",
    "P = {\n",
    "    \"pipeline.data_lake_root\": \"/pipeline-outputs/data-lake\",\n",
    "    \"task.nr_train_images\": 600,\n",
    "}"
   ]
  },
  {
   "cell_type": "code",
   "execution_count": 2,
   "id": "e12581c0",
   "metadata": {
    "execution": {
     "iopub.execute_input": "2022-07-18T06:51:40.542118Z",
     "iopub.status.busy": "2022-07-18T06:51:40.541800Z",
     "iopub.status.idle": "2022-07-18T06:51:40.546164Z",
     "shell.execute_reply": "2022-07-18T06:51:40.545436Z"
    },
    "lines_to_next_cell": 0,
    "papermill": {
     "duration": 0.014171,
     "end_time": "2022-07-18T06:51:40.549797",
     "exception": false,
     "start_time": "2022-07-18T06:51:40.535626",
     "status": "completed"
    },
    "tags": [
     "parameters"
    ]
   },
   "outputs": [],
   "source": [
    "# - During automated runs parameters will be injected in the below cell -"
   ]
  },
  {
   "cell_type": "code",
   "execution_count": 3,
   "id": "6af79ce8",
   "metadata": {
    "execution": {
     "iopub.execute_input": "2022-07-18T06:51:40.561438Z",
     "iopub.status.busy": "2022-07-18T06:51:40.561167Z",
     "iopub.status.idle": "2022-07-18T06:51:40.566651Z",
     "shell.execute_reply": "2022-07-18T06:51:40.565976Z"
    },
    "papermill": {
     "duration": 0.01528,
     "end_time": "2022-07-18T06:51:40.570214",
     "exception": false,
     "start_time": "2022-07-18T06:51:40.554934",
     "status": "completed"
    },
    "tags": [
     "injected-parameters"
    ]
   },
   "outputs": [],
   "source": [
    "# Parameters\n",
    "P = {\n",
    "    \"pipeline.data_lake_root\": \"/pipeline-outputs/data-lake\",\n",
    "    \"pipeline.run_environment\": \"ci\",\n",
    "    \"pipeline.pipeline_run_id\": \"9956fcd3-236b-46e4-b3bb-d198ded018af\",\n",
    "    \"pipeline.github.repository\": \"pynb-dag-runner/mnist-digits-demo-pipeline\",\n",
    "    \"pipeline.github.workflow\": \"Run automated tests, pipeline and deploy results to static reporting site\",\n",
    "    \"pipeline.github.runner_name\": \"Hosted Agent\",\n",
    "    \"pipeline.github.run_id\": \"2688640586\",\n",
    "    \"pipeline.github.actor\": \"matiasdahl\",\n",
    "    \"pipeline.github.job\": \"run-tests-pipeline-and-persist-pipeline-outputs\",\n",
    "    \"pipeline.github.base_ref\": \"\",\n",
    "    \"pipeline.github.head_ref\": \"\",\n",
    "    \"pipeline.github.sha\": \"147a1be9916173fd4d2cd011d8d51e3411215850\",\n",
    "    \"pipeline.github.ref\": \"refs/heads/development\",\n",
    "    \"pipeline.github.ref_type\": \"branch\",\n",
    "    \"pipeline.github.ref_name\": \"development\",\n",
    "    \"pipeline.github.event_name\": \"schedule\",\n",
    "    \"task.nr_train_images\": 600,\n",
    "    \"task.notebook\": \"notebooks/benchmark-model.py\",\n",
    "    \"task.max_nr_retries\": \"1\",\n",
    "    \"run.retry_nr\": \"0\",\n",
    "    \"task.timeout_s\": \"None\",\n",
    "    \"task.num_cpus\": 1,\n",
    "    \"_opentelemetry_traceparent\": \"00-5bcb631ca66250a3838fb46c02b9727a-a41a40cde1ba6f0d-01\",\n",
    "}\n"
   ]
  },
  {
   "cell_type": "code",
   "execution_count": 4,
   "id": "9ad794c8",
   "metadata": {
    "execution": {
     "iopub.execute_input": "2022-07-18T06:51:40.582787Z",
     "iopub.status.busy": "2022-07-18T06:51:40.582508Z",
     "iopub.status.idle": "2022-07-18T06:51:40.585842Z",
     "shell.execute_reply": "2022-07-18T06:51:40.585242Z"
    },
    "lines_to_next_cell": 0,
    "papermill": {
     "duration": 0.013861,
     "end_time": "2022-07-18T06:51:40.588825",
     "exception": false,
     "start_time": "2022-07-18T06:51:40.574964",
     "status": "completed"
    },
    "tags": []
   },
   "outputs": [],
   "source": [
    "# -----------------------------------------------------------------------"
   ]
  },
  {
   "cell_type": "markdown",
   "id": "e1413ded",
   "metadata": {
    "papermill": {
     "duration": 0.004861,
     "end_time": "2022-07-18T06:51:40.599117",
     "exception": false,
     "start_time": "2022-07-18T06:51:40.594256",
     "status": "completed"
    },
    "tags": []
   },
   "source": [
    "---"
   ]
  },
  {
   "cell_type": "markdown",
   "id": "c689dd53",
   "metadata": {
    "lines_to_next_cell": 2,
    "papermill": {
     "duration": 0.004567,
     "end_time": "2022-07-18T06:51:40.609494",
     "exception": false,
     "start_time": "2022-07-18T06:51:40.604927",
     "status": "completed"
    },
    "tags": []
   },
   "source": [
    "### Notebook code"
   ]
  },
  {
   "cell_type": "code",
   "execution_count": 5,
   "id": "7f418e35",
   "metadata": {
    "execution": {
     "iopub.execute_input": "2022-07-18T06:51:40.628261Z",
     "iopub.status.busy": "2022-07-18T06:51:40.627963Z",
     "iopub.status.idle": "2022-07-18T06:51:42.411947Z",
     "shell.execute_reply": "2022-07-18T06:51:42.411113Z"
    },
    "papermill": {
     "duration": 1.794384,
     "end_time": "2022-07-18T06:51:42.414246",
     "exception": false,
     "start_time": "2022-07-18T06:51:40.619862",
     "status": "completed"
    },
    "tags": []
   },
   "outputs": [
    {
     "name": "stderr",
     "output_type": "stream",
     "text": [
      "2022-07-18 06:51:42,220\tINFO worker.py:842 -- Connecting to existing Ray cluster at address: 172.17.0.2:6379\n"
     ]
    }
   ],
   "source": [
    "import itertools as it\n",
    "\n",
    "#\n",
    "import numpy as np\n",
    "import matplotlib.pyplot as plt\n",
    "\n",
    "#\n",
    "from pynb_dag_runner.tasks.task_opentelemetry_logging import PydarLogger\n",
    "\n",
    "#\n",
    "from common.io import datalake_root\n",
    "\n",
    "logger = PydarLogger(P)"
   ]
  },
  {
   "cell_type": "markdown",
   "id": "b6fa1965",
   "metadata": {
    "papermill": {
     "duration": 0.004936,
     "end_time": "2022-07-18T06:51:42.424408",
     "exception": false,
     "start_time": "2022-07-18T06:51:42.419472",
     "status": "completed"
    },
    "tags": []
   },
   "source": [
    "## Load persisted onnx-model and evaluation data"
   ]
  },
  {
   "cell_type": "code",
   "execution_count": 6,
   "id": "18e7c9ba",
   "metadata": {
    "execution": {
     "iopub.execute_input": "2022-07-18T06:51:42.437897Z",
     "iopub.status.busy": "2022-07-18T06:51:42.436104Z",
     "iopub.status.idle": "2022-07-18T06:51:42.441669Z",
     "shell.execute_reply": "2022-07-18T06:51:42.441000Z"
    },
    "papermill": {
     "duration": 0.014614,
     "end_time": "2022-07-18T06:51:42.443542",
     "exception": false,
     "start_time": "2022-07-18T06:51:42.428928",
     "status": "completed"
    },
    "tags": []
   },
   "outputs": [],
   "source": [
    "from common.io import read_onnx, get_onnx_inputs, get_onnx_outputs, read_numpy"
   ]
  },
  {
   "cell_type": "code",
   "execution_count": 7,
   "id": "962e93d1",
   "metadata": {
    "execution": {
     "iopub.execute_input": "2022-07-18T06:51:42.454459Z",
     "iopub.status.busy": "2022-07-18T06:51:42.453907Z",
     "iopub.status.idle": "2022-07-18T06:51:42.465147Z",
     "shell.execute_reply": "2022-07-18T06:51:42.464460Z"
    },
    "lines_to_next_cell": 0,
    "papermill": {
     "duration": 0.018526,
     "end_time": "2022-07-18T06:51:42.466945",
     "exception": false,
     "start_time": "2022-07-18T06:51:42.448419",
     "status": "completed"
    },
    "tags": []
   },
   "outputs": [],
   "source": [
    "onnx_inference_session = read_onnx(\n",
    "    datalake_root(P)\n",
    "    / \"models\"\n",
    "    / f\"nr_train_images={P['task.nr_train_images']}\"\n",
    "    / \"model.onnx\"\n",
    ")"
   ]
  },
  {
   "cell_type": "markdown",
   "id": "fa85c236",
   "metadata": {
    "papermill": {
     "duration": 0.004863,
     "end_time": "2022-07-18T06:51:42.476466",
     "exception": false,
     "start_time": "2022-07-18T06:51:42.471603",
     "status": "completed"
    },
    "tags": []
   },
   "source": [
    "### Record structure of inputs and outputs for ONNX model\n",
    "\n",
    "(this should likely be done in training notebook)"
   ]
  },
  {
   "cell_type": "code",
   "execution_count": 8,
   "id": "69a47441",
   "metadata": {
    "execution": {
     "iopub.execute_input": "2022-07-18T06:51:42.487349Z",
     "iopub.status.busy": "2022-07-18T06:51:42.486895Z",
     "iopub.status.idle": "2022-07-18T06:51:42.495076Z",
     "shell.execute_reply": "2022-07-18T06:51:42.494273Z"
    },
    "papermill": {
     "duration": 0.020886,
     "end_time": "2022-07-18T06:51:42.502017",
     "exception": false,
     "start_time": "2022-07-18T06:51:42.481131",
     "status": "completed"
    },
    "tags": []
   },
   "outputs": [
    {
     "name": "stdout",
     "output_type": "stream",
     "text": [
      "{\n",
      "  \"inputs\": [\n",
      "    {\n",
      "      \"name\": \"float_input_8x8_image\",\n",
      "      \"shape\": [\n",
      "        null,\n",
      "        64\n",
      "      ],\n",
      "      \"type\": \"tensor(float)\"\n",
      "    }\n",
      "  ],\n",
      "  \"outputs\": [\n",
      "    {\n",
      "      \"name\": \"output_label\",\n",
      "      \"shape\": [\n",
      "        null\n",
      "      ],\n",
      "      \"type\": \"tensor(int64)\"\n",
      "    },\n",
      "    {\n",
      "      \"name\": \"output_probability\",\n",
      "      \"shape\": [],\n",
      "      \"type\": \"seq(map(int64,tensor(float)))\"\n",
      "    }\n",
      "  ]\n",
      "}\n"
     ]
    }
   ],
   "source": [
    "import json\n",
    "\n",
    "onnx_io = json.dumps(\n",
    "    {\n",
    "        \"inputs\": get_onnx_inputs(onnx_inference_session),\n",
    "        \"outputs\": get_onnx_outputs(onnx_inference_session),\n",
    "    },\n",
    "    indent=2,\n",
    ")\n",
    "\n",
    "\n",
    "logger.log_artefact(\"onnx_io_structure.json\", onnx_io)\n",
    "print(onnx_io)"
   ]
  },
  {
   "cell_type": "markdown",
   "id": "17275af7",
   "metadata": {
    "papermill": {
     "duration": 0.00663,
     "end_time": "2022-07-18T06:51:42.521610",
     "exception": false,
     "start_time": "2022-07-18T06:51:42.514980",
     "status": "completed"
    },
    "tags": []
   },
   "source": [
    "### Evaluate model performance on evaluation data set"
   ]
  },
  {
   "cell_type": "code",
   "execution_count": 9,
   "id": "a1b73fb0",
   "metadata": {
    "execution": {
     "iopub.execute_input": "2022-07-18T06:51:42.548148Z",
     "iopub.status.busy": "2022-07-18T06:51:42.540173Z",
     "iopub.status.idle": "2022-07-18T06:51:42.554156Z",
     "shell.execute_reply": "2022-07-18T06:51:42.553061Z"
    },
    "papermill": {
     "duration": 0.030737,
     "end_time": "2022-07-18T06:51:42.560457",
     "exception": false,
     "start_time": "2022-07-18T06:51:42.529720",
     "status": "completed"
    },
    "tags": []
   },
   "outputs": [],
   "source": [
    "# load evaluation data\n",
    "X_test = read_numpy(datalake_root(P) / \"test-data\" / \"digits.numpy\")\n",
    "y_test = read_numpy(datalake_root(P) / \"test-data\" / \"labels.numpy\")"
   ]
  },
  {
   "cell_type": "code",
   "execution_count": 10,
   "id": "718f8fbd",
   "metadata": {
    "execution": {
     "iopub.execute_input": "2022-07-18T06:51:42.573829Z",
     "iopub.status.busy": "2022-07-18T06:51:42.573537Z",
     "iopub.status.idle": "2022-07-18T06:51:42.588729Z",
     "shell.execute_reply": "2022-07-18T06:51:42.587862Z"
    },
    "papermill": {
     "duration": 0.023255,
     "end_time": "2022-07-18T06:51:42.590425",
     "exception": false,
     "start_time": "2022-07-18T06:51:42.567170",
     "status": "completed"
    },
    "tags": []
   },
   "outputs": [],
   "source": [
    "def get_model_outputs(X, onnx_inference_session):\n",
    "    y_pred_labels, y_pred_map = onnx_inference_session.run(\n",
    "        [\"output_label\", \"output_probability\"],\n",
    "        {\"float_input_8x8_image\": X.astype(np.float32)},\n",
    "    )\n",
    "    y_pred_probs = np.array(\n",
    "        [[probabilities[digit] for digit in range(10)] for probabilities in y_pred_map]\n",
    "    )\n",
    "\n",
    "    assert y_pred_labels.shape == (X.shape[0],)\n",
    "    assert y_pred_probs.shape == (X.shape[0], 10)\n",
    "\n",
    "    return y_pred_labels, y_pred_probs\n",
    "\n",
    "\n",
    "# Note: as shown in the training notebook, the predicted labels and probabilities\n",
    "# computed below need not be compatible.\n",
    "y_pred_labels_test, y_pred_probs_test = get_model_outputs(\n",
    "    X_test, onnx_inference_session\n",
    ")"
   ]
  },
  {
   "cell_type": "markdown",
   "id": "32afae84",
   "metadata": {
    "papermill": {
     "duration": 0.005733,
     "end_time": "2022-07-18T06:51:42.601375",
     "exception": false,
     "start_time": "2022-07-18T06:51:42.595642",
     "status": "completed"
    },
    "tags": []
   },
   "source": [
    "### Confusion matrix"
   ]
  },
  {
   "cell_type": "code",
   "execution_count": 11,
   "id": "f4adfdc6",
   "metadata": {
    "execution": {
     "iopub.execute_input": "2022-07-18T06:51:42.612773Z",
     "iopub.status.busy": "2022-07-18T06:51:42.612262Z",
     "iopub.status.idle": "2022-07-18T06:51:42.616226Z",
     "shell.execute_reply": "2022-07-18T06:51:42.615344Z"
    },
    "papermill": {
     "duration": 0.012223,
     "end_time": "2022-07-18T06:51:42.618409",
     "exception": false,
     "start_time": "2022-07-18T06:51:42.606186",
     "status": "completed"
    },
    "tags": []
   },
   "outputs": [],
   "source": [
    "# TODO"
   ]
  },
  {
   "cell_type": "markdown",
   "id": "df15da3b",
   "metadata": {
    "papermill": {
     "duration": 0.005127,
     "end_time": "2022-07-18T06:51:42.629008",
     "exception": false,
     "start_time": "2022-07-18T06:51:42.623881",
     "status": "completed"
    },
    "tags": []
   },
   "source": [
    "### Plot predicted probabilities for each classifier over all evaluation digit images"
   ]
  },
  {
   "cell_type": "code",
   "execution_count": 12,
   "id": "d2f6e0c6",
   "metadata": {
    "execution": {
     "iopub.execute_input": "2022-07-18T06:51:42.640725Z",
     "iopub.status.busy": "2022-07-18T06:51:42.640366Z",
     "iopub.status.idle": "2022-07-18T06:51:46.299789Z",
     "shell.execute_reply": "2022-07-18T06:51:46.299096Z"
    },
    "papermill": {
     "duration": 3.667622,
     "end_time": "2022-07-18T06:51:46.301648",
     "exception": false,
     "start_time": "2022-07-18T06:51:42.634026",
     "status": "completed"
    },
    "tags": []
   },
   "outputs": [
    {
     "data": {
      "image/png": "[encoded data removed]",
      "text/plain": [
       "<Figure size 1152x432 with 10 Axes>"
      ]
     },
     "metadata": {
      "needs_background": "light"
     },
     "output_type": "display_data"
    }
   ],
   "source": [
    "def plot_per_digit_probabilities(y_pred_probs):\n",
    "    fig, axs = plt.subplots(nrows=2, ncols=5, figsize=(16, 6))\n",
    "\n",
    "    for (r, c), digit, ax in zip(\n",
    "        it.product(range(2), range(5)), range(10), axs.reshape(-1)\n",
    "    ):\n",
    "        ax.hist(y_pred_probs_test[:, digit], bins=20)\n",
    "\n",
    "        ax.set_title(f\"Digit {digit}\")\n",
    "        if r == 1 and c == 2:\n",
    "            ax.set_xlabel(\"probability\", fontsize=16)\n",
    "\n",
    "        if c == 0:\n",
    "            ax.set_ylabel(\"counts\", fontsize=16)\n",
    "        ax.set_yscale(\"log\")\n",
    "\n",
    "    fig.tight_layout()\n",
    "    fig.suptitle(\n",
    "        f\"Distributions of prediction probabilities for each digit \"\n",
    "        f\"(on evaluation data, n={y_pred_probs.shape[0]})\",\n",
    "        fontsize=20,\n",
    "    )\n",
    "    fig.tight_layout()\n",
    "    fig.show()\n",
    "\n",
    "    return fig\n",
    "\n",
    "\n",
    "fig = plot_per_digit_probabilities(y_pred_probs_test)"
   ]
  },
  {
   "cell_type": "markdown",
   "id": "6ac29a60",
   "metadata": {
    "papermill": {
     "duration": 0.005878,
     "end_time": "2022-07-18T06:51:46.313819",
     "exception": false,
     "start_time": "2022-07-18T06:51:46.307941",
     "status": "completed"
    },
    "tags": []
   },
   "source": [
    "From the above distributions we see that most digits have clear separation between\n",
    "high and lower probabilities. Morover, in each case there is roughly an order of\n",
    "magnitude more of digits with low probabilities. This is compatible with digits\n",
    "being roughly evenly distributed in the data."
   ]
  },
  {
   "cell_type": "code",
   "execution_count": 13,
   "id": "a3e6aef9",
   "metadata": {
    "execution": {
     "iopub.execute_input": "2022-07-18T06:51:46.327165Z",
     "iopub.status.busy": "2022-07-18T06:51:46.326861Z",
     "iopub.status.idle": "2022-07-18T06:51:46.836369Z",
     "shell.execute_reply": "2022-07-18T06:51:46.835582Z"
    },
    "papermill": {
     "duration": 0.518603,
     "end_time": "2022-07-18T06:51:46.838796",
     "exception": false,
     "start_time": "2022-07-18T06:51:46.320193",
     "status": "completed"
    },
    "tags": []
   },
   "outputs": [],
   "source": [
    "logger.log_figure(\"per-digit-probabilities.png\", fig)"
   ]
  },
  {
   "cell_type": "markdown",
   "id": "56ae523d",
   "metadata": {
    "papermill": {
     "duration": 0.005625,
     "end_time": "2022-07-18T06:51:46.850421",
     "exception": false,
     "start_time": "2022-07-18T06:51:46.844796",
     "status": "completed"
    },
    "tags": []
   },
   "source": [
    "### Plot ROC curves for individual one-vs-rest classifiers"
   ]
  },
  {
   "cell_type": "code",
   "execution_count": 14,
   "id": "0fdcb96c",
   "metadata": {
    "execution": {
     "iopub.execute_input": "2022-07-18T06:51:46.863574Z",
     "iopub.status.busy": "2022-07-18T06:51:46.862771Z",
     "iopub.status.idle": "2022-07-18T06:51:47.364133Z",
     "shell.execute_reply": "2022-07-18T06:51:47.363182Z"
    },
    "papermill": {
     "duration": 0.510333,
     "end_time": "2022-07-18T06:51:47.366285",
     "exception": false,
     "start_time": "2022-07-18T06:51:46.855952",
     "status": "completed"
    },
    "tags": []
   },
   "outputs": [],
   "source": [
    "from sklearn import metrics"
   ]
  },
  {
   "cell_type": "code",
   "execution_count": 15,
   "id": "39bd112b",
   "metadata": {
    "execution": {
     "iopub.execute_input": "2022-07-18T06:51:47.380046Z",
     "iopub.status.busy": "2022-07-18T06:51:47.379224Z",
     "iopub.status.idle": "2022-07-18T06:51:48.693382Z",
     "shell.execute_reply": "2022-07-18T06:51:48.692275Z"
    },
    "papermill": {
     "duration": 1.322937,
     "end_time": "2022-07-18T06:51:48.695225",
     "exception": false,
     "start_time": "2022-07-18T06:51:47.372288",
     "status": "completed"
    },
    "tags": []
   },
   "outputs": [
    {
     "data": {
      "image/png": "[encoded data removed]",
      "text/plain": [
       "<Figure size 1152x576 with 10 Axes>"
      ]
     },
     "metadata": {
      "needs_background": "light"
     },
     "output_type": "display_data"
    }
   ],
   "source": [
    "def plot_roc_curves(y, y_pred_probs):\n",
    "    # based on example code\n",
    "    # https://scikit-learn.org/stable/auto_examples/model_selection/plot_roc.html\n",
    "\n",
    "    fig, axs = plt.subplots(nrows=2, ncols=5, figsize=(16, 8))\n",
    "\n",
    "    roc_auc_dict = {}\n",
    "\n",
    "    for (r, c), digit, ax in zip(\n",
    "        it.product(range(2), range(5)), range(10), axs.reshape(-1)\n",
    "    ):\n",
    "        fpr, tpr, _ = metrics.roc_curve(y == digit, y_pred_probs[:, digit])\n",
    "        auc = metrics.auc(fpr, tpr)\n",
    "        roc_auc_dict[str(digit)] = auc\n",
    "\n",
    "        ax.plot(fpr, tpr, label=f\"ROC AUC={round(auc, 3)}\")\n",
    "\n",
    "        ax.set_title(f\"\\nDigit {digit}\", fontsize=16)\n",
    "        if r == 1:\n",
    "            ax.set_xlabel(\"FPR\", fontsize=18)\n",
    "\n",
    "        if c == 0:\n",
    "            ax.set_ylabel(\"TPR\", fontsize=18)\n",
    "\n",
    "        ax.set_xlim([-0.05, 1.05])\n",
    "        ax.set_ylim([-0.05, 1.05])\n",
    "        ax.legend(loc=\"lower right\", frameon=False, fontsize=14)\n",
    "\n",
    "    fig.tight_layout()\n",
    "    fig.suptitle(\n",
    "        f\"ROC plots for one-vs-rest performances \"\n",
    "        f\"(on evaluation data, n={y_pred_probs_test.shape[1]}\",\n",
    "        fontsize=22,\n",
    "    )\n",
    "    fig.tight_layout()\n",
    "    fig.show()\n",
    "\n",
    "    return roc_auc_dict, fig\n",
    "\n",
    "\n",
    "roc_auc_dict, fig = plot_roc_curves(y_test, y_pred_probs_test)"
   ]
  },
  {
   "cell_type": "code",
   "execution_count": 16,
   "id": "fc8a56a9",
   "metadata": {
    "execution": {
     "iopub.execute_input": "2022-07-18T06:51:48.709718Z",
     "iopub.status.busy": "2022-07-18T06:51:48.709192Z",
     "iopub.status.idle": "2022-07-18T06:51:48.968991Z",
     "shell.execute_reply": "2022-07-18T06:51:48.967760Z"
    },
    "papermill": {
     "duration": 0.269279,
     "end_time": "2022-07-18T06:51:48.971099",
     "exception": false,
     "start_time": "2022-07-18T06:51:48.701820",
     "status": "completed"
    },
    "tags": []
   },
   "outputs": [],
   "source": [
    "logger.log_figure(\"per-digit-roc-curves.png\", fig)"
   ]
  },
  {
   "cell_type": "code",
   "execution_count": 17,
   "id": "8b8e4250",
   "metadata": {
    "execution": {
     "iopub.execute_input": "2022-07-18T06:51:48.992937Z",
     "iopub.status.busy": "2022-07-18T06:51:48.992099Z",
     "iopub.status.idle": "2022-07-18T06:51:48.999171Z",
     "shell.execute_reply": "2022-07-18T06:51:48.998239Z"
    },
    "papermill": {
     "duration": 0.025992,
     "end_time": "2022-07-18T06:51:49.004968",
     "exception": false,
     "start_time": "2022-07-18T06:51:48.978976",
     "status": "completed"
    },
    "tags": []
   },
   "outputs": [
    {
     "data": {
      "text/plain": [
       "{'0': 1.0,\n",
       " '1': 0.9992127460168697,\n",
       " '2': 1.0,\n",
       " '3': 0.9997750702905343,\n",
       " '4': 0.9991617131534827,\n",
       " '5': 0.9990253045923149,\n",
       " '6': 0.999923792104862,\n",
       " '7': 0.9998475842097241,\n",
       " '8': 0.9948770491803279,\n",
       " '9': 0.9988949855204999}"
      ]
     },
     "execution_count": 17,
     "metadata": {},
     "output_type": "execute_result"
    }
   ],
   "source": [
    "roc_auc_dict"
   ]
  },
  {
   "cell_type": "code",
   "execution_count": 18,
   "id": "ed96ee19",
   "metadata": {
    "execution": {
     "iopub.execute_input": "2022-07-18T06:51:49.019202Z",
     "iopub.status.busy": "2022-07-18T06:51:49.018842Z",
     "iopub.status.idle": "2022-07-18T06:51:49.023744Z",
     "shell.execute_reply": "2022-07-18T06:51:49.022960Z"
    },
    "papermill": {
     "duration": 0.01515,
     "end_time": "2022-07-18T06:51:49.026666",
     "exception": false,
     "start_time": "2022-07-18T06:51:49.011516",
     "status": "completed"
    },
    "tags": []
   },
   "outputs": [
    {
     "name": "stdout",
     "output_type": "stream",
     "text": [
      " - Logging roc_auc_per_digit (json) : {'0': 1.0, '1': 0.9992127460168697, '2': 1.0, '3': 0.9997750702905343, '4': 0.9991617131534827, '5': 0.9990253045923149, '6': 0.999923792104862, '7': 0.9998475842097241, '8': 0.9948770491803279, '9': 0.9988949855204999}\n"
     ]
    }
   ],
   "source": [
    "logger.log_value(\"roc_auc_per_digit\", roc_auc_dict)"
   ]
  },
  {
   "cell_type": "markdown",
   "id": "9ebac0ed",
   "metadata": {
    "papermill": {
     "duration": 0.006495,
     "end_time": "2022-07-18T06:51:49.039639",
     "exception": false,
     "start_time": "2022-07-18T06:51:49.033144",
     "status": "completed"
    },
    "tags": []
   },
   "source": [
    "### Compute and log mean ROC AUC score averaged over all digits"
   ]
  },
  {
   "cell_type": "code",
   "execution_count": 19,
   "id": "6f240ffc",
   "metadata": {
    "execution": {
     "iopub.execute_input": "2022-07-18T06:51:49.056917Z",
     "iopub.status.busy": "2022-07-18T06:51:49.056428Z",
     "iopub.status.idle": "2022-07-18T06:51:49.070988Z",
     "shell.execute_reply": "2022-07-18T06:51:49.070045Z"
    },
    "papermill": {
     "duration": 0.025838,
     "end_time": "2022-07-18T06:51:49.072871",
     "exception": false,
     "start_time": "2022-07-18T06:51:49.047033",
     "status": "completed"
    },
    "tags": []
   },
   "outputs": [
    {
     "name": "stdout",
     "output_type": "stream",
     "text": [
      " - Logging roc_auc_class_mean (float) : 0.9990718245068615\n"
     ]
    }
   ],
   "source": [
    "roc_auc_macro = np.mean(list(roc_auc_dict.values()))\n",
    "\n",
    "logger.log_float(\"roc_auc_class_mean\", roc_auc_macro)\n",
    "\n",
    "# assert that the same value can be computed directly using sklearn\n",
    "assert roc_auc_macro == metrics.roc_auc_score(\n",
    "    y_test, y_pred_probs_test, average=\"macro\", multi_class=\"ovr\"\n",
    ")"
   ]
  },
  {
   "cell_type": "code",
   "execution_count": 20,
   "id": "17b3e7d1",
   "metadata": {
    "execution": {
     "iopub.execute_input": "2022-07-18T06:51:49.088571Z",
     "iopub.status.busy": "2022-07-18T06:51:49.088144Z",
     "iopub.status.idle": "2022-07-18T06:51:49.091688Z",
     "shell.execute_reply": "2022-07-18T06:51:49.090887Z"
    },
    "lines_to_next_cell": 0,
    "papermill": {
     "duration": 0.014399,
     "end_time": "2022-07-18T06:51:49.094295",
     "exception": false,
     "start_time": "2022-07-18T06:51:49.079896",
     "status": "completed"
    },
    "tags": []
   },
   "outputs": [],
   "source": [
    "# ---"
   ]
  },
  {
   "cell_type": "code",
   "execution_count": null,
   "id": "6339fcf2",
   "metadata": {
    "papermill": {
     "duration": 0.006781,
     "end_time": "2022-07-18T06:51:49.107742",
     "exception": false,
     "start_time": "2022-07-18T06:51:49.100961",
     "status": "completed"
    },
    "tags": []
   },
   "outputs": [],
   "source": []
  }
 ],
 "metadata": {
  "jupytext": {
   "cell_metadata_filter": "tags,-all",
   "main_language": "python",
   "notebook_metadata_filter": "-all"
  },
  "language_info": {
   "codemirror_mode": {
    "name": "ipython",
    "version": 3
   },
   "file_extension": ".py",
   "mimetype": "text/x-python",
   "name": "python",
   "nbconvert_exporter": "python",
   "pygments_lexer": "ipython3",
   "version": "3.8.10"
  },
  "papermill": {
   "default_parameters": {},
   "duration": 11.477799,
   "end_time": "2022-07-18T06:51:50.337489",
   "environment_variables": {},
   "exception": null,
   "input_path": "/home/host_user/workspace/mnist-demo-pipeline/mnist-demo-pipeline/notebooks/temp-notebook-35k91ud9.ipynb",
   "output_path": "notebooks/benchmark-model.ipynb",
   "parameters": {
    "P": {
     "_opentelemetry_traceparent": "00-5bcb631ca66250a3838fb46c02b9727a-a41a40cde1ba6f0d-01",
     "pipeline.data_lake_root": "/pipeline-outputs/data-lake",
     "pipeline.github.actor": "matiasdahl",
     "pipeline.github.base_ref": "",
     "pipeline.github.event_name": "schedule",
     "pipeline.github.head_ref": "",
     "pipeline.github.job": "run-tests-pipeline-and-persist-pipeline-outputs",
     "pipeline.github.ref": "refs/heads/development",
     "pipeline.github.ref_name": "development",
     "pipeline.github.ref_type": "branch",
     "pipeline.github.repository": "pynb-dag-runner/mnist-digits-demo-pipeline",
     "pipeline.github.run_id": "2688640586",
     "pipeline.github.runner_name": "Hosted Agent",
     "pipeline.github.sha": "147a1be9916173fd4d2cd011d8d51e3411215850",
     "pipeline.github.workflow": "Run automated tests, pipeline and deploy results to static reporting site",
     "pipeline.pipeline_run_id": "9956fcd3-236b-46e4-b3bb-d198ded018af",
     "pipeline.run_environment": "ci",
     "run.retry_nr": "0",
     "task.max_nr_retries": "1",
     "task.notebook": "notebooks/benchmark-model.py",
     "task.nr_train_images": 600,
     "task.num_cpus": 1,
     "task.timeout_s": "None"
    }
   },
   "start_time": "2022-07-18T06:51:38.859690",
   "version": "2.3.3"
  }
 },
 "nbformat": 4,
 "nbformat_minor": 5
}