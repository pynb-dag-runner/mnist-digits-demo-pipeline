{
 "cells": [
  {
   "cell_type": "markdown",
   "id": "caff10e2",
   "metadata": {
    "papermill": {
     "duration": 0.004596,
     "end_time": "2022-07-09T06:45:32.794658",
     "exception": false,
     "start_time": "2022-07-09T06:45:32.790062",
     "status": "completed"
    },
    "tags": []
   },
   "source": [
    "# Train model\n",
    "\n",
    "The purpose of this notebook is:\n",
    "\n",
    "- Load all training data (images and labels).\n",
    "- Limit number of train images to `task.nr_train_images` (value provided as run parameter).\n",
    "- Train a support vector machine model using sklearn.\n",
    "- Persist the trained model using the ONNX format."
   ]
  },
  {
   "cell_type": "markdown",
   "id": "7249be40",
   "metadata": {
    "papermill": {
     "duration": 0.004231,
     "end_time": "2022-07-09T06:45:32.802637",
     "exception": false,
     "start_time": "2022-07-09T06:45:32.798406",
     "status": "completed"
    },
    "tags": []
   },
   "source": [
    "### Determine run parameters"
   ]
  },
  {
   "cell_type": "code",
   "execution_count": 1,
   "id": "64b2c16f",
   "metadata": {
    "execution": {
     "iopub.execute_input": "2022-07-09T06:45:32.810476Z",
     "iopub.status.busy": "2022-07-09T06:45:32.809398Z",
     "iopub.status.idle": "2022-07-09T06:45:32.821155Z",
     "shell.execute_reply": "2022-07-09T06:45:32.820472Z"
    },
    "lines_to_next_cell": 0,
    "papermill": {
     "duration": 0.018503,
     "end_time": "2022-07-09T06:45:32.823915",
     "exception": false,
     "start_time": "2022-07-09T06:45:32.805412",
     "status": "completed"
    },
    "tags": []
   },
   "outputs": [],
   "source": [
    "# ----------------- Parameters for interactive development --------------\n",
    "P = {\n",
    "    \"pipeline.data_lake_root\": \"/pipeline-outputs/data-lake\",\n",
    "    \"task.nr_train_images\": 600,\n",
    "}"
   ]
  },
  {
   "cell_type": "code",
   "execution_count": 2,
   "id": "bbf5a117",
   "metadata": {
    "execution": {
     "iopub.execute_input": "2022-07-09T06:45:32.831704Z",
     "iopub.status.busy": "2022-07-09T06:45:32.831435Z",
     "iopub.status.idle": "2022-07-09T06:45:32.834711Z",
     "shell.execute_reply": "2022-07-09T06:45:32.834175Z"
    },
    "lines_to_next_cell": 0,
    "papermill": {
     "duration": 0.009973,
     "end_time": "2022-07-09T06:45:32.837027",
     "exception": false,
     "start_time": "2022-07-09T06:45:32.827054",
     "status": "completed"
    },
    "tags": [
     "parameters"
    ]
   },
   "outputs": [],
   "source": [
    "# - During automated runs parameters will be injected in the below cell -"
   ]
  },
  {
   "cell_type": "code",
   "execution_count": 3,
   "id": "f5e4ced5",
   "metadata": {
    "execution": {
     "iopub.execute_input": "2022-07-09T06:45:32.844816Z",
     "iopub.status.busy": "2022-07-09T06:45:32.844582Z",
     "iopub.status.idle": "2022-07-09T06:45:32.849010Z",
     "shell.execute_reply": "2022-07-09T06:45:32.848413Z"
    },
    "papermill": {
     "duration": 0.012198,
     "end_time": "2022-07-09T06:45:32.852081",
     "exception": false,
     "start_time": "2022-07-09T06:45:32.839883",
     "status": "completed"
    },
    "tags": [
     "injected-parameters"
    ]
   },
   "outputs": [],
   "source": [
    "# Parameters\n",
    "P = {\n",
    "    \"pipeline.data_lake_root\": \"/pipeline-outputs/data-lake\",\n",
    "    \"pipeline.run_environment\": \"ci\",\n",
    "    \"pipeline.pipeline_run_id\": \"9d8ed508-282f-4ff0-b957-e3510667b866\",\n",
    "    \"pipeline.github.repository\": \"pynb-dag-runner/mnist-digits-demo-pipeline\",\n",
    "    \"pipeline.github.workflow\": \"Run automated tests, pipeline and deploy results to static reporting site\",\n",
    "    \"pipeline.github.runner_name\": \"Hosted Agent\",\n",
    "    \"pipeline.github.run_id\": \"2640187557\",\n",
    "    \"pipeline.github.actor\": \"matiasdahl\",\n",
    "    \"pipeline.github.job\": \"run-tests-pipeline-and-persist-pipeline-outputs\",\n",
    "    \"pipeline.github.base_ref\": \"\",\n",
    "    \"pipeline.github.head_ref\": \"\",\n",
    "    \"pipeline.github.sha\": \"147a1be9916173fd4d2cd011d8d51e3411215850\",\n",
    "    \"pipeline.github.ref\": \"refs/heads/development\",\n",
    "    \"pipeline.github.ref_type\": \"branch\",\n",
    "    \"pipeline.github.ref_name\": \"development\",\n",
    "    \"pipeline.github.event_name\": \"schedule\",\n",
    "    \"task.nr_train_images\": 1200,\n",
    "    \"task.notebook\": \"notebooks/train-model.py\",\n",
    "    \"task.max_nr_retries\": \"1\",\n",
    "    \"run.retry_nr\": \"0\",\n",
    "    \"task.timeout_s\": \"None\",\n",
    "    \"task.num_cpus\": 1,\n",
    "    \"_opentelemetry_traceparent\": \"00-1d815c5a09dbffbc1a17484614e87f58-6a05eccb431d4551-01\",\n",
    "}\n"
   ]
  },
  {
   "cell_type": "code",
   "execution_count": 4,
   "id": "a3c55879",
   "metadata": {
    "execution": {
     "iopub.execute_input": "2022-07-09T06:45:32.859803Z",
     "iopub.status.busy": "2022-07-09T06:45:32.859541Z",
     "iopub.status.idle": "2022-07-09T06:45:32.862956Z",
     "shell.execute_reply": "2022-07-09T06:45:32.862385Z"
    },
    "lines_to_next_cell": 0,
    "papermill": {
     "duration": 0.01027,
     "end_time": "2022-07-09T06:45:32.865731",
     "exception": false,
     "start_time": "2022-07-09T06:45:32.855461",
     "status": "completed"
    },
    "tags": []
   },
   "outputs": [],
   "source": [
    "# -----------------------------------------------------------------------"
   ]
  },
  {
   "cell_type": "markdown",
   "id": "20f6192a",
   "metadata": {
    "papermill": {
     "duration": 0.003546,
     "end_time": "2022-07-09T06:45:32.872122",
     "exception": false,
     "start_time": "2022-07-09T06:45:32.868576",
     "status": "completed"
    },
    "tags": []
   },
   "source": [
    "---"
   ]
  },
  {
   "cell_type": "markdown",
   "id": "b7a9cd04",
   "metadata": {
    "lines_to_next_cell": 2,
    "papermill": {
     "duration": 0.003311,
     "end_time": "2022-07-09T06:45:32.878572",
     "exception": false,
     "start_time": "2022-07-09T06:45:32.875261",
     "status": "completed"
    },
    "tags": []
   },
   "source": [
    "### Notebook code"
   ]
  },
  {
   "cell_type": "code",
   "execution_count": 5,
   "id": "14cd31e8",
   "metadata": {
    "execution": {
     "iopub.execute_input": "2022-07-09T06:45:32.890260Z",
     "iopub.status.busy": "2022-07-09T06:45:32.890001Z",
     "iopub.status.idle": "2022-07-09T06:45:33.416479Z",
     "shell.execute_reply": "2022-07-09T06:45:33.415633Z"
    },
    "papermill": {
     "duration": 0.532384,
     "end_time": "2022-07-09T06:45:33.418166",
     "exception": false,
     "start_time": "2022-07-09T06:45:32.885782",
     "status": "completed"
    },
    "tags": []
   },
   "outputs": [
    {
     "name": "stderr",
     "output_type": "stream",
     "text": [
      "2022-07-09 06:45:33,239\tINFO worker.py:842 -- Connecting to existing Ray cluster at address: 172.17.0.2:6379\n"
     ]
    }
   ],
   "source": [
    "from pynb_dag_runner.tasks.task_opentelemetry_logging import PydarLogger\n",
    "\n",
    "logger = PydarLogger(P)"
   ]
  },
  {
   "cell_type": "markdown",
   "id": "2672d7e1",
   "metadata": {
    "papermill": {
     "duration": 0.003867,
     "end_time": "2022-07-09T06:45:33.426175",
     "exception": false,
     "start_time": "2022-07-09T06:45:33.422308",
     "status": "completed"
    },
    "tags": []
   },
   "source": [
    "## Load and limit train data"
   ]
  },
  {
   "cell_type": "code",
   "execution_count": 6,
   "id": "4539cbce",
   "metadata": {
    "execution": {
     "iopub.execute_input": "2022-07-09T06:45:33.434789Z",
     "iopub.status.busy": "2022-07-09T06:45:33.434241Z",
     "iopub.status.idle": "2022-07-09T06:45:33.828783Z",
     "shell.execute_reply": "2022-07-09T06:45:33.828133Z"
    },
    "papermill": {
     "duration": 0.40135,
     "end_time": "2022-07-09T06:45:33.830985",
     "exception": false,
     "start_time": "2022-07-09T06:45:33.429635",
     "status": "completed"
    },
    "tags": []
   },
   "outputs": [],
   "source": [
    "def load_and_limit_train_data(P):\n",
    "    from common.io import datalake_root, read_numpy\n",
    "    from sklearn.model_selection import train_test_split\n",
    "\n",
    "    X_train_all = read_numpy(datalake_root(P) / \"train-data\" / \"digits.numpy\")\n",
    "    y_train_all = read_numpy(datalake_root(P) / \"train-data\" / \"labels.numpy\")\n",
    "\n",
    "    assert isinstance(P[\"task.nr_train_images\"], int)\n",
    "\n",
    "    # Note: train_test_split will fail if split is 0 or 100%.\n",
    "    assert 0 < P[\"task.nr_train_images\"] < len(y_train_all)\n",
    "\n",
    "    X_train, _, y_train, _ = train_test_split(\n",
    "        X_train_all,\n",
    "        y_train_all,\n",
    "        train_size=P[\"task.nr_train_images\"],\n",
    "        test_size=None,\n",
    "        stratify=y_train_all,\n",
    "        shuffle=True,\n",
    "        random_state=123,\n",
    "    )\n",
    "\n",
    "    assert X_train.shape == (len(y_train), 8 * 8)\n",
    "    return X_train, y_train\n",
    "\n",
    "\n",
    "X_train, y_train = load_and_limit_train_data(P)"
   ]
  },
  {
   "cell_type": "markdown",
   "id": "4441d7fa",
   "metadata": {
    "papermill": {
     "duration": 0.002875,
     "end_time": "2022-07-09T06:45:33.838283",
     "exception": false,
     "start_time": "2022-07-09T06:45:33.835408",
     "status": "completed"
    },
    "tags": []
   },
   "source": [
    "## Train support vector classifier model\n",
    "\n",
    "Below we assume that the hyperparameter $C$ is known.\n",
    "\n",
    "However, this should ideally be found by a hyperparameter search. That could be\n",
    "done in parallel on the Ray cluster, but this needs some more work. Ie., to use\n",
    "multiple cores in the notebook, those cores should be reserved when starting the\n",
    "notebook task (TODO).\n",
    "\n",
    "- https://docs.ray.io/en/latest/tune/key-concepts.html\n",
    "\n",
    "Note: cv-scores would need to be computed here, since they depend on the train data.\n",
    "After this notebook only the onnx-model is available."
   ]
  },
  {
   "cell_type": "code",
   "execution_count": 7,
   "id": "095cca71",
   "metadata": {
    "execution": {
     "iopub.execute_input": "2022-07-09T06:45:33.845638Z",
     "iopub.status.busy": "2022-07-09T06:45:33.845016Z",
     "iopub.status.idle": "2022-07-09T06:45:33.929123Z",
     "shell.execute_reply": "2022-07-09T06:45:33.928383Z"
    },
    "papermill": {
     "duration": 0.089877,
     "end_time": "2022-07-09T06:45:33.931111",
     "exception": false,
     "start_time": "2022-07-09T06:45:33.841234",
     "status": "completed"
    },
    "tags": []
   },
   "outputs": [],
   "source": [
    "from sklearn.svm import SVC"
   ]
  },
  {
   "cell_type": "code",
   "execution_count": 8,
   "id": "22b15e06",
   "metadata": {
    "execution": {
     "iopub.execute_input": "2022-07-09T06:45:33.940030Z",
     "iopub.status.busy": "2022-07-09T06:45:33.939411Z",
     "iopub.status.idle": "2022-07-09T06:45:34.137598Z",
     "shell.execute_reply": "2022-07-09T06:45:34.136913Z"
    },
    "papermill": {
     "duration": 0.205041,
     "end_time": "2022-07-09T06:45:34.139912",
     "exception": false,
     "start_time": "2022-07-09T06:45:33.934871",
     "status": "completed"
    },
    "tags": []
   },
   "outputs": [
    {
     "data": {
      "text/plain": [
       "SVC(C=0.001, kernel='linear', probability=True)"
      ]
     },
     "execution_count": 8,
     "metadata": {},
     "output_type": "execute_result"
    }
   ],
   "source": [
    "model = SVC(C=0.001, kernel=\"linear\", probability=True)\n",
    "\n",
    "model.fit(X_train, y_train)"
   ]
  },
  {
   "cell_type": "markdown",
   "id": "b23e035e",
   "metadata": {
    "papermill": {
     "duration": 0.003503,
     "end_time": "2022-07-09T06:45:34.147001",
     "exception": false,
     "start_time": "2022-07-09T06:45:34.143498",
     "status": "completed"
    },
    "tags": []
   },
   "source": [
    "### Q: Can the labels returned by `predict(..)` be computed from probabilities returned by the `predict_prob`-method?"
   ]
  },
  {
   "cell_type": "code",
   "execution_count": 9,
   "id": "ecaa7805",
   "metadata": {
    "execution": {
     "iopub.execute_input": "2022-07-09T06:45:34.154787Z",
     "iopub.status.busy": "2022-07-09T06:45:34.154420Z",
     "iopub.status.idle": "2022-07-09T06:45:34.257649Z",
     "shell.execute_reply": "2022-07-09T06:45:34.256900Z"
    },
    "papermill": {
     "duration": 0.109301,
     "end_time": "2022-07-09T06:45:34.259382",
     "exception": false,
     "start_time": "2022-07-09T06:45:34.150081",
     "status": "completed"
    },
    "tags": []
   },
   "outputs": [
    {
     "name": "stdout",
     "output_type": "stream",
     "text": [
      " - Logging nr_max_prob_neq_label (int) : 4\n"
     ]
    }
   ],
   "source": [
    "import numpy as np\n",
    "\n",
    "y_train_labels = model.predict(X_train)\n",
    "y_train_probabilities = model.predict_proba(X_train)\n",
    "assert y_train_probabilities.shape == (len(y_train), 10)\n",
    "\n",
    "y_train_max_prob_labels = np.argmax(y_train_probabilities, axis=1)\n",
    "assert y_train_labels.shape == y_train_max_prob_labels.shape == y_train.shape\n",
    "\n",
    "# If the predicted labels would coincide with the labels that have\n",
    "# maximum probability, the below number would be zero\n",
    "logger.log_int(\n",
    "    \"nr_max_prob_neq_label\", int(sum(y_train_max_prob_labels != y_train_labels))\n",
    ")"
   ]
  },
  {
   "cell_type": "markdown",
   "id": "56974e00",
   "metadata": {
    "papermill": {
     "duration": 0.003264,
     "end_time": "2022-07-09T06:45:34.265934",
     "exception": false,
     "start_time": "2022-07-09T06:45:34.262670",
     "status": "completed"
    },
    "tags": []
   },
   "source": [
    "The explanation is (likely) explained in the SVC source, see\n",
    "[here](https://github.com/scikit-learn/scikit-learn/blob/main/sklearn/svm/_base.py).\n",
    "Namely, the outputs from `predict(..)` and `predict_proba(..)` may not in some\n",
    "cases be compatible since the latter is computed using cross-validation while\n",
    "the former is not. Thus, the above number need not be zero."
   ]
  },
  {
   "cell_type": "markdown",
   "id": "93f9498b",
   "metadata": {
    "papermill": {
     "duration": 0.00305,
     "end_time": "2022-07-09T06:45:34.272116",
     "exception": false,
     "start_time": "2022-07-09T06:45:34.269066",
     "status": "completed"
    },
    "tags": []
   },
   "source": [
    "## Persist model"
   ]
  },
  {
   "cell_type": "code",
   "execution_count": 10,
   "id": "f214c6fb",
   "metadata": {
    "execution": {
     "iopub.execute_input": "2022-07-09T06:45:34.280240Z",
     "iopub.status.busy": "2022-07-09T06:45:34.279586Z",
     "iopub.status.idle": "2022-07-09T06:45:35.428315Z",
     "shell.execute_reply": "2022-07-09T06:45:35.427538Z"
    },
    "papermill": {
     "duration": 1.154767,
     "end_time": "2022-07-09T06:45:35.430134",
     "exception": false,
     "start_time": "2022-07-09T06:45:34.275367",
     "status": "completed"
    },
    "tags": []
   },
   "outputs": [],
   "source": [
    "from skl2onnx import convert_sklearn\n",
    "from skl2onnx.common.data_types import FloatTensorType\n",
    "\n",
    "#\n",
    "from common.io import datalake_root, write_onnx"
   ]
  },
  {
   "cell_type": "code",
   "execution_count": 11,
   "id": "d7a48bf4",
   "metadata": {
    "execution": {
     "iopub.execute_input": "2022-07-09T06:45:35.443182Z",
     "iopub.status.busy": "2022-07-09T06:45:35.442654Z",
     "iopub.status.idle": "2022-07-09T06:45:35.496118Z",
     "shell.execute_reply": "2022-07-09T06:45:35.495543Z"
    },
    "papermill": {
     "duration": 0.064523,
     "end_time": "2022-07-09T06:45:35.498029",
     "exception": false,
     "start_time": "2022-07-09T06:45:35.433506",
     "status": "completed"
    },
    "tags": []
   },
   "outputs": [],
   "source": [
    "# convert sklearn model into onnx and persist to data lake\n",
    "\n",
    "model_onnx = convert_sklearn(\n",
    "    model, initial_types=[(\"float_input_8x8_image\", FloatTensorType([None, 8 * 8]))]\n",
    ")\n",
    "write_onnx(\n",
    "    datalake_root(P)\n",
    "    / \"models\"\n",
    "    / f\"nr_train_images={P['task.nr_train_images']}\"\n",
    "    / \"model.onnx\",\n",
    "    model_onnx,\n",
    ")"
   ]
  },
  {
   "cell_type": "code",
   "execution_count": null,
   "id": "d685ecd2",
   "metadata": {
    "papermill": {
     "duration": 0.003503,
     "end_time": "2022-07-09T06:45:35.505458",
     "exception": false,
     "start_time": "2022-07-09T06:45:35.501955",
     "status": "completed"
    },
    "tags": []
   },
   "outputs": [],
   "source": []
  }
 ],
 "metadata": {
  "jupytext": {
   "cell_metadata_filter": "tags,-all",
   "main_language": "python",
   "notebook_metadata_filter": "-all"
  },
  "language_info": {
   "codemirror_mode": {
    "name": "ipython",
    "version": 3
   },
   "file_extension": ".py",
   "mimetype": "text/x-python",
   "name": "python",
   "nbconvert_exporter": "python",
   "pygments_lexer": "ipython3",
   "version": "3.8.10"
  },
  "papermill": {
   "default_parameters": {},
   "duration": 5.028765,
   "end_time": "2022-07-09T06:45:36.432456",
   "environment_variables": {},
   "exception": null,
   "input_path": "/home/host_user/workspace/mnist-demo-pipeline/mnist-demo-pipeline/notebooks/temp-notebook-tw9qqhfb.ipynb",
   "output_path": "notebooks/train-model.ipynb",
   "parameters": {
    "P": {
     "_opentelemetry_traceparent": "00-1d815c5a09dbffbc1a17484614e87f58-6a05eccb431d4551-01",
     "pipeline.data_lake_root": "/pipeline-outputs/data-lake",
     "pipeline.github.actor": "matiasdahl",
     "pipeline.github.base_ref": "",
     "pipeline.github.event_name": "schedule",
     "pipeline.github.head_ref": "",
     "pipeline.github.job": "run-tests-pipeline-and-persist-pipeline-outputs",
     "pipeline.github.ref": "refs/heads/development",
     "pipeline.github.ref_name": "development",
     "pipeline.github.ref_type": "branch",
     "pipeline.github.repository": "pynb-dag-runner/mnist-digits-demo-pipeline",
     "pipeline.github.run_id": "2640187557",
     "pipeline.github.runner_name": "Hosted Agent",
     "pipeline.github.sha": "147a1be9916173fd4d2cd011d8d51e3411215850",
     "pipeline.github.workflow": "Run automated tests, pipeline and deploy results to static reporting site",
     "pipeline.pipeline_run_id": "9d8ed508-282f-4ff0-b957-e3510667b866",
     "pipeline.run_environment": "ci",
     "run.retry_nr": "0",
     "task.max_nr_retries": "1",
     "task.notebook": "notebooks/train-model.py",
     "task.nr_train_images": 1200,
     "task.num_cpus": 1,
     "task.timeout_s": "None"
    }
   },
   "start_time": "2022-07-09T06:45:31.403691",
   "version": "2.3.3"
  }
 },
 "nbformat": 4,
 "nbformat_minor": 5
}