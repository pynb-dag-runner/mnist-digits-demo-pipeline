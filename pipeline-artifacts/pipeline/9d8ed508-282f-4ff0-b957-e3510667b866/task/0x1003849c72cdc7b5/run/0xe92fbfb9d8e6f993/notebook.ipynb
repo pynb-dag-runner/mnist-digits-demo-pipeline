{
 "cells": [
  {
   "cell_type": "markdown",
   "id": "0c4899e1",
   "metadata": {
    "papermill": {
     "duration": 0.005028,
     "end_time": "2022-07-09T06:45:58.763219",
     "exception": false,
     "start_time": "2022-07-09T06:45:58.758191",
     "status": "completed"
    },
    "tags": []
   },
   "source": [
    "# Benchmark model\n",
    "\n",
    "The purpose of this notebook is to benchmark persisted onnx-model (trained in the\n",
    "previous step) against evaluation set."
   ]
  },
  {
   "cell_type": "markdown",
   "id": "153a1f73",
   "metadata": {
    "papermill": {
     "duration": 0.00365,
     "end_time": "2022-07-09T06:45:58.771060",
     "exception": false,
     "start_time": "2022-07-09T06:45:58.767410",
     "status": "completed"
    },
    "tags": []
   },
   "source": [
    "### Determine run parameters"
   ]
  },
  {
   "cell_type": "code",
   "execution_count": 1,
   "id": "7a36d57f",
   "metadata": {
    "execution": {
     "iopub.execute_input": "2022-07-09T06:45:58.779861Z",
     "iopub.status.busy": "2022-07-09T06:45:58.779531Z",
     "iopub.status.idle": "2022-07-09T06:45:58.786992Z",
     "shell.execute_reply": "2022-07-09T06:45:58.786447Z"
    },
    "lines_to_next_cell": 0,
    "papermill": {
     "duration": 0.014695,
     "end_time": "2022-07-09T06:45:58.789382",
     "exception": false,
     "start_time": "2022-07-09T06:45:58.774687",
     "status": "completed"
    },
    "tags": []
   },
   "outputs": [],
   "source": [
    "# ----------------- Parameters for interactive development --------------\n",
    "P = {\n",
    "    \"pipeline.data_lake_root\": \"/pipeline-outputs/data-lake\",\n",
    "    \"task.nr_train_images\": 600,\n",
    "}"
   ]
  },
  {
   "cell_type": "code",
   "execution_count": 2,
   "id": "954981a7",
   "metadata": {
    "execution": {
     "iopub.execute_input": "2022-07-09T06:45:58.798880Z",
     "iopub.status.busy": "2022-07-09T06:45:58.798649Z",
     "iopub.status.idle": "2022-07-09T06:45:58.802392Z",
     "shell.execute_reply": "2022-07-09T06:45:58.801877Z"
    },
    "lines_to_next_cell": 0,
    "papermill": {
     "duration": 0.011372,
     "end_time": "2022-07-09T06:45:58.804678",
     "exception": false,
     "start_time": "2022-07-09T06:45:58.793306",
     "status": "completed"
    },
    "tags": [
     "parameters"
    ]
   },
   "outputs": [],
   "source": [
    "# - During automated runs parameters will be injected in the below cell -"
   ]
  },
  {
   "cell_type": "code",
   "execution_count": 3,
   "id": "1f4865c2",
   "metadata": {
    "execution": {
     "iopub.execute_input": "2022-07-09T06:45:58.813405Z",
     "iopub.status.busy": "2022-07-09T06:45:58.813190Z",
     "iopub.status.idle": "2022-07-09T06:45:58.817517Z",
     "shell.execute_reply": "2022-07-09T06:45:58.816959Z"
    },
    "papermill": {
     "duration": 0.01146,
     "end_time": "2022-07-09T06:45:58.819954",
     "exception": false,
     "start_time": "2022-07-09T06:45:58.808494",
     "status": "completed"
    },
    "tags": [
     "injected-parameters"
    ]
   },
   "outputs": [],
   "source": [
    "# Parameters\n",
    "P = {\n",
    "    \"pipeline.data_lake_root\": \"/pipeline-outputs/data-lake\",\n",
    "    \"pipeline.run_environment\": \"ci\",\n",
    "    \"pipeline.pipeline_run_id\": \"9d8ed508-282f-4ff0-b957-e3510667b866\",\n",
    "    \"pipeline.github.repository\": \"pynb-dag-runner/mnist-digits-demo-pipeline\",\n",
    "    \"pipeline.github.workflow\": \"Run automated tests, pipeline and deploy results to static reporting site\",\n",
    "    \"pipeline.github.runner_name\": \"Hosted Agent\",\n",
    "    \"pipeline.github.run_id\": \"2640187557\",\n",
    "    \"pipeline.github.actor\": \"matiasdahl\",\n",
    "    \"pipeline.github.job\": \"run-tests-pipeline-and-persist-pipeline-outputs\",\n",
    "    \"pipeline.github.base_ref\": \"\",\n",
    "    \"pipeline.github.head_ref\": \"\",\n",
    "    \"pipeline.github.sha\": \"147a1be9916173fd4d2cd011d8d51e3411215850\",\n",
    "    \"pipeline.github.ref\": \"refs/heads/development\",\n",
    "    \"pipeline.github.ref_type\": \"branch\",\n",
    "    \"pipeline.github.ref_name\": \"development\",\n",
    "    \"pipeline.github.event_name\": \"schedule\",\n",
    "    \"task.nr_train_images\": 600,\n",
    "    \"task.notebook\": \"notebooks/benchmark-model.py\",\n",
    "    \"task.max_nr_retries\": \"1\",\n",
    "    \"run.retry_nr\": \"0\",\n",
    "    \"task.timeout_s\": \"None\",\n",
    "    \"task.num_cpus\": 1,\n",
    "    \"_opentelemetry_traceparent\": \"00-1d815c5a09dbffbc1a17484614e87f58-df32de82b28e1845-01\",\n",
    "}\n"
   ]
  },
  {
   "cell_type": "code",
   "execution_count": 4,
   "id": "8b673156",
   "metadata": {
    "execution": {
     "iopub.execute_input": "2022-07-09T06:45:58.828799Z",
     "iopub.status.busy": "2022-07-09T06:45:58.828577Z",
     "iopub.status.idle": "2022-07-09T06:45:58.831289Z",
     "shell.execute_reply": "2022-07-09T06:45:58.830728Z"
    },
    "lines_to_next_cell": 0,
    "papermill": {
     "duration": 0.009682,
     "end_time": "2022-07-09T06:45:58.833503",
     "exception": false,
     "start_time": "2022-07-09T06:45:58.823821",
     "status": "completed"
    },
    "tags": []
   },
   "outputs": [],
   "source": [
    "# -----------------------------------------------------------------------"
   ]
  },
  {
   "cell_type": "markdown",
   "id": "c11b65da",
   "metadata": {
    "papermill": {
     "duration": 0.005048,
     "end_time": "2022-07-09T06:45:58.842547",
     "exception": false,
     "start_time": "2022-07-09T06:45:58.837499",
     "status": "completed"
    },
    "tags": []
   },
   "source": [
    "---"
   ]
  },
  {
   "cell_type": "markdown",
   "id": "da4d03b9",
   "metadata": {
    "lines_to_next_cell": 2,
    "papermill": {
     "duration": 0.003722,
     "end_time": "2022-07-09T06:45:58.850467",
     "exception": false,
     "start_time": "2022-07-09T06:45:58.846745",
     "status": "completed"
    },
    "tags": []
   },
   "source": [
    "### Notebook code"
   ]
  },
  {
   "cell_type": "code",
   "execution_count": 5,
   "id": "b93b8021",
   "metadata": {
    "execution": {
     "iopub.execute_input": "2022-07-09T06:45:58.859925Z",
     "iopub.status.busy": "2022-07-09T06:45:58.859587Z",
     "iopub.status.idle": "2022-07-09T06:45:59.955607Z",
     "shell.execute_reply": "2022-07-09T06:45:59.954868Z"
    },
    "papermill": {
     "duration": 1.102983,
     "end_time": "2022-07-09T06:45:59.957401",
     "exception": false,
     "start_time": "2022-07-09T06:45:58.854418",
     "status": "completed"
    },
    "tags": []
   },
   "outputs": [
    {
     "name": "stderr",
     "output_type": "stream",
     "text": [
      "2022-07-09 06:45:59,778\tINFO worker.py:842 -- Connecting to existing Ray cluster at address: 172.17.0.2:6379\n"
     ]
    }
   ],
   "source": [
    "import itertools as it\n",
    "\n",
    "#\n",
    "import numpy as np\n",
    "import matplotlib.pyplot as plt\n",
    "\n",
    "#\n",
    "from pynb_dag_runner.tasks.task_opentelemetry_logging import PydarLogger\n",
    "\n",
    "#\n",
    "from common.io import datalake_root\n",
    "\n",
    "logger = PydarLogger(P)"
   ]
  },
  {
   "cell_type": "markdown",
   "id": "0f3307de",
   "metadata": {
    "papermill": {
     "duration": 0.004358,
     "end_time": "2022-07-09T06:45:59.967383",
     "exception": false,
     "start_time": "2022-07-09T06:45:59.963025",
     "status": "completed"
    },
    "tags": []
   },
   "source": [
    "## Load persisted onnx-model and evaluation data"
   ]
  },
  {
   "cell_type": "code",
   "execution_count": 6,
   "id": "a2a9913a",
   "metadata": {
    "execution": {
     "iopub.execute_input": "2022-07-09T06:45:59.977673Z",
     "iopub.status.busy": "2022-07-09T06:45:59.977275Z",
     "iopub.status.idle": "2022-07-09T06:45:59.981647Z",
     "shell.execute_reply": "2022-07-09T06:45:59.980562Z"
    },
    "papermill": {
     "duration": 0.011466,
     "end_time": "2022-07-09T06:45:59.983734",
     "exception": false,
     "start_time": "2022-07-09T06:45:59.972268",
     "status": "completed"
    },
    "tags": []
   },
   "outputs": [],
   "source": [
    "from common.io import read_onnx, get_onnx_inputs, get_onnx_outputs, read_numpy"
   ]
  },
  {
   "cell_type": "code",
   "execution_count": 7,
   "id": "291eefdf",
   "metadata": {
    "execution": {
     "iopub.execute_input": "2022-07-09T06:45:59.995640Z",
     "iopub.status.busy": "2022-07-09T06:45:59.995248Z",
     "iopub.status.idle": "2022-07-09T06:46:00.007441Z",
     "shell.execute_reply": "2022-07-09T06:46:00.004228Z"
    },
    "lines_to_next_cell": 0,
    "papermill": {
     "duration": 0.021447,
     "end_time": "2022-07-09T06:46:00.010024",
     "exception": false,
     "start_time": "2022-07-09T06:45:59.988577",
     "status": "completed"
    },
    "tags": []
   },
   "outputs": [],
   "source": [
    "onnx_inference_session = read_onnx(\n",
    "    datalake_root(P)\n",
    "    / \"models\"\n",
    "    / f\"nr_train_images={P['task.nr_train_images']}\"\n",
    "    / \"model.onnx\"\n",
    ")"
   ]
  },
  {
   "cell_type": "markdown",
   "id": "83e6b862",
   "metadata": {
    "papermill": {
     "duration": 0.010082,
     "end_time": "2022-07-09T06:46:00.025059",
     "exception": false,
     "start_time": "2022-07-09T06:46:00.014977",
     "status": "completed"
    },
    "tags": []
   },
   "source": [
    "### Record structure of inputs and outputs for ONNX model\n",
    "\n",
    "(this should likely be done in training notebook)"
   ]
  },
  {
   "cell_type": "code",
   "execution_count": 8,
   "id": "b93ee473",
   "metadata": {
    "execution": {
     "iopub.execute_input": "2022-07-09T06:46:00.038403Z",
     "iopub.status.busy": "2022-07-09T06:46:00.038006Z",
     "iopub.status.idle": "2022-07-09T06:46:00.043768Z",
     "shell.execute_reply": "2022-07-09T06:46:00.043228Z"
    },
    "papermill": {
     "duration": 0.016523,
     "end_time": "2022-07-09T06:46:00.046825",
     "exception": false,
     "start_time": "2022-07-09T06:46:00.030302",
     "status": "completed"
    },
    "tags": []
   },
   "outputs": [
    {
     "name": "stdout",
     "output_type": "stream",
     "text": [
      "{\n",
      "  \"inputs\": [\n",
      "    {\n",
      "      \"name\": \"float_input_8x8_image\",\n",
      "      \"shape\": [\n",
      "        null,\n",
      "        64\n",
      "      ],\n",
      "      \"type\": \"tensor(float)\"\n",
      "    }\n",
      "  ],\n",
      "  \"outputs\": [\n",
      "    {\n",
      "      \"name\": \"output_label\",\n",
      "      \"shape\": [\n",
      "        null\n",
      "      ],\n",
      "      \"type\": \"tensor(int64)\"\n",
      "    },\n",
      "    {\n",
      "      \"name\": \"output_probability\",\n",
      "      \"shape\": [],\n",
      "      \"type\": \"seq(map(int64,tensor(float)))\"\n",
      "    }\n",
      "  ]\n",
      "}\n"
     ]
    }
   ],
   "source": [
    "import json\n",
    "\n",
    "onnx_io = json.dumps(\n",
    "    {\n",
    "        \"inputs\": get_onnx_inputs(onnx_inference_session),\n",
    "        \"outputs\": get_onnx_outputs(onnx_inference_session),\n",
    "    },\n",
    "    indent=2,\n",
    ")\n",
    "\n",
    "\n",
    "logger.log_artefact(\"onnx_io_structure.json\", onnx_io)\n",
    "print(onnx_io)"
   ]
  },
  {
   "cell_type": "markdown",
   "id": "162da534",
   "metadata": {
    "papermill": {
     "duration": 0.004384,
     "end_time": "2022-07-09T06:46:00.055422",
     "exception": false,
     "start_time": "2022-07-09T06:46:00.051038",
     "status": "completed"
    },
    "tags": []
   },
   "source": [
    "### Evaluate model performance on evaluation data set"
   ]
  },
  {
   "cell_type": "code",
   "execution_count": 9,
   "id": "b15b351e",
   "metadata": {
    "execution": {
     "iopub.execute_input": "2022-07-09T06:46:00.064767Z",
     "iopub.status.busy": "2022-07-09T06:46:00.064505Z",
     "iopub.status.idle": "2022-07-09T06:46:00.068927Z",
     "shell.execute_reply": "2022-07-09T06:46:00.068351Z"
    },
    "papermill": {
     "duration": 0.012025,
     "end_time": "2022-07-09T06:46:00.071357",
     "exception": false,
     "start_time": "2022-07-09T06:46:00.059332",
     "status": "completed"
    },
    "tags": []
   },
   "outputs": [],
   "source": [
    "# load evaluation data\n",
    "X_test = read_numpy(datalake_root(P) / \"test-data\" / \"digits.numpy\")\n",
    "y_test = read_numpy(datalake_root(P) / \"test-data\" / \"labels.numpy\")"
   ]
  },
  {
   "cell_type": "code",
   "execution_count": 10,
   "id": "1a695a5b",
   "metadata": {
    "execution": {
     "iopub.execute_input": "2022-07-09T06:46:00.081266Z",
     "iopub.status.busy": "2022-07-09T06:46:00.081002Z",
     "iopub.status.idle": "2022-07-09T06:46:00.093754Z",
     "shell.execute_reply": "2022-07-09T06:46:00.093192Z"
    },
    "papermill": {
     "duration": 0.019823,
     "end_time": "2022-07-09T06:46:00.095740",
     "exception": false,
     "start_time": "2022-07-09T06:46:00.075917",
     "status": "completed"
    },
    "tags": []
   },
   "outputs": [],
   "source": [
    "def get_model_outputs(X, onnx_inference_session):\n",
    "    y_pred_labels, y_pred_map = onnx_inference_session.run(\n",
    "        [\"output_label\", \"output_probability\"],\n",
    "        {\"float_input_8x8_image\": X.astype(np.float32)},\n",
    "    )\n",
    "    y_pred_probs = np.array(\n",
    "        [[probabilities[digit] for digit in range(10)] for probabilities in y_pred_map]\n",
    "    )\n",
    "\n",
    "    assert y_pred_labels.shape == (X.shape[0],)\n",
    "    assert y_pred_probs.shape == (X.shape[0], 10)\n",
    "\n",
    "    return y_pred_labels, y_pred_probs\n",
    "\n",
    "\n",
    "# Note: as shown in the training notebook, the predicted labels and probabilities\n",
    "# computed below need not be compatible.\n",
    "y_pred_labels_test, y_pred_probs_test = get_model_outputs(\n",
    "    X_test, onnx_inference_session\n",
    ")"
   ]
  },
  {
   "cell_type": "markdown",
   "id": "26f1b7c1",
   "metadata": {
    "papermill": {
     "duration": 0.00442,
     "end_time": "2022-07-09T06:46:00.104671",
     "exception": false,
     "start_time": "2022-07-09T06:46:00.100251",
     "status": "completed"
    },
    "tags": []
   },
   "source": [
    "### Confusion matrix"
   ]
  },
  {
   "cell_type": "code",
   "execution_count": 11,
   "id": "69af3483",
   "metadata": {
    "execution": {
     "iopub.execute_input": "2022-07-09T06:46:00.113964Z",
     "iopub.status.busy": "2022-07-09T06:46:00.113704Z",
     "iopub.status.idle": "2022-07-09T06:46:00.116621Z",
     "shell.execute_reply": "2022-07-09T06:46:00.116088Z"
    },
    "papermill": {
     "duration": 0.010217,
     "end_time": "2022-07-09T06:46:00.118968",
     "exception": false,
     "start_time": "2022-07-09T06:46:00.108751",
     "status": "completed"
    },
    "tags": []
   },
   "outputs": [],
   "source": [
    "# TODO"
   ]
  },
  {
   "cell_type": "markdown",
   "id": "a854d6e6",
   "metadata": {
    "papermill": {
     "duration": 0.004236,
     "end_time": "2022-07-09T06:46:00.127555",
     "exception": false,
     "start_time": "2022-07-09T06:46:00.123319",
     "status": "completed"
    },
    "tags": []
   },
   "source": [
    "### Plot predicted probabilities for each classifier over all evaluation digit images"
   ]
  },
  {
   "cell_type": "code",
   "execution_count": 12,
   "id": "ca2ff450",
   "metadata": {
    "execution": {
     "iopub.execute_input": "2022-07-09T06:46:00.137034Z",
     "iopub.status.busy": "2022-07-09T06:46:00.136777Z",
     "iopub.status.idle": "2022-07-09T06:46:03.271742Z",
     "shell.execute_reply": "2022-07-09T06:46:03.270839Z"
    },
    "papermill": {
     "duration": 3.141755,
     "end_time": "2022-07-09T06:46:03.273476",
     "exception": false,
     "start_time": "2022-07-09T06:46:00.131721",
     "status": "completed"
    },
    "tags": []
   },
   "outputs": [
    {
     "data": {
      "image/png": "[encoded data removed]",
      "text/plain": [
       "<Figure size 1152x432 with 10 Axes>"
      ]
     },
     "metadata": {
      "needs_background": "light"
     },
     "output_type": "display_data"
    }
   ],
   "source": [
    "def plot_per_digit_probabilities(y_pred_probs):\n",
    "    fig, axs = plt.subplots(nrows=2, ncols=5, figsize=(16, 6))\n",
    "\n",
    "    for (r, c), digit, ax in zip(\n",
    "        it.product(range(2), range(5)), range(10), axs.reshape(-1)\n",
    "    ):\n",
    "        ax.hist(y_pred_probs_test[:, digit], bins=20)\n",
    "\n",
    "        ax.set_title(f\"Digit {digit}\")\n",
    "        if r == 1 and c == 2:\n",
    "            ax.set_xlabel(\"probability\", fontsize=16)\n",
    "\n",
    "        if c == 0:\n",
    "            ax.set_ylabel(\"counts\", fontsize=16)\n",
    "        ax.set_yscale(\"log\")\n",
    "\n",
    "    fig.tight_layout()\n",
    "    fig.suptitle(\n",
    "        f\"Distributions of prediction probabilities for each digit \"\n",
    "        f\"(on evaluation data, n={y_pred_probs.shape[0]})\",\n",
    "        fontsize=20,\n",
    "    )\n",
    "    fig.tight_layout()\n",
    "    fig.show()\n",
    "\n",
    "    return fig\n",
    "\n",
    "\n",
    "fig = plot_per_digit_probabilities(y_pred_probs_test)"
   ]
  },
  {
   "cell_type": "markdown",
   "id": "858acd14",
   "metadata": {
    "papermill": {
     "duration": 0.004883,
     "end_time": "2022-07-09T06:46:03.284282",
     "exception": false,
     "start_time": "2022-07-09T06:46:03.279399",
     "status": "completed"
    },
    "tags": []
   },
   "source": [
    "From the above distributions we see that most digits have clear separation between\n",
    "high and lower probabilities. Morover, in each case there is roughly an order of\n",
    "magnitude more of digits with low probabilities. This is compatible with digits\n",
    "being roughly evenly distributed in the data."
   ]
  },
  {
   "cell_type": "code",
   "execution_count": 13,
   "id": "1cfce86c",
   "metadata": {
    "execution": {
     "iopub.execute_input": "2022-07-09T06:46:03.295637Z",
     "iopub.status.busy": "2022-07-09T06:46:03.294884Z",
     "iopub.status.idle": "2022-07-09T06:46:03.726760Z",
     "shell.execute_reply": "2022-07-09T06:46:03.726049Z"
    },
    "papermill": {
     "duration": 0.439971,
     "end_time": "2022-07-09T06:46:03.728868",
     "exception": false,
     "start_time": "2022-07-09T06:46:03.288897",
     "status": "completed"
    },
    "tags": []
   },
   "outputs": [],
   "source": [
    "logger.log_figure(\"per-digit-probabilities.png\", fig)"
   ]
  },
  {
   "cell_type": "markdown",
   "id": "eacd2634",
   "metadata": {
    "papermill": {
     "duration": 0.007659,
     "end_time": "2022-07-09T06:46:03.742253",
     "exception": false,
     "start_time": "2022-07-09T06:46:03.734594",
     "status": "completed"
    },
    "tags": []
   },
   "source": [
    "### Plot ROC curves for individual one-vs-rest classifiers"
   ]
  },
  {
   "cell_type": "code",
   "execution_count": 14,
   "id": "e760dddb",
   "metadata": {
    "execution": {
     "iopub.execute_input": "2022-07-09T06:46:03.754811Z",
     "iopub.status.busy": "2022-07-09T06:46:03.754528Z",
     "iopub.status.idle": "2022-07-09T06:46:04.165401Z",
     "shell.execute_reply": "2022-07-09T06:46:04.164549Z"
    },
    "papermill": {
     "duration": 0.418881,
     "end_time": "2022-07-09T06:46:04.167113",
     "exception": false,
     "start_time": "2022-07-09T06:46:03.748232",
     "status": "completed"
    },
    "tags": []
   },
   "outputs": [],
   "source": [
    "from sklearn import metrics"
   ]
  },
  {
   "cell_type": "code",
   "execution_count": 15,
   "id": "607fa119",
   "metadata": {
    "execution": {
     "iopub.execute_input": "2022-07-09T06:46:04.179702Z",
     "iopub.status.busy": "2022-07-09T06:46:04.179269Z",
     "iopub.status.idle": "2022-07-09T06:46:05.156457Z",
     "shell.execute_reply": "2022-07-09T06:46:05.155809Z"
    },
    "papermill": {
     "duration": 0.984943,
     "end_time": "2022-07-09T06:46:05.157908",
     "exception": false,
     "start_time": "2022-07-09T06:46:04.172965",
     "status": "completed"
    },
    "tags": []
   },
   "outputs": [
    {
     "data": {
      "image/png": "[encoded data removed]",
      "text/plain": [
       "<Figure size 1152x576 with 10 Axes>"
      ]
     },
     "metadata": {
      "needs_background": "light"
     },
     "output_type": "display_data"
    }
   ],
   "source": [
    "def plot_roc_curves(y, y_pred_probs):\n",
    "    # based on example code\n",
    "    # https://scikit-learn.org/stable/auto_examples/model_selection/plot_roc.html\n",
    "\n",
    "    fig, axs = plt.subplots(nrows=2, ncols=5, figsize=(16, 8))\n",
    "\n",
    "    roc_auc_dict = {}\n",
    "\n",
    "    for (r, c), digit, ax in zip(\n",
    "        it.product(range(2), range(5)), range(10), axs.reshape(-1)\n",
    "    ):\n",
    "        fpr, tpr, _ = metrics.roc_curve(y == digit, y_pred_probs[:, digit])\n",
    "        auc = metrics.auc(fpr, tpr)\n",
    "        roc_auc_dict[str(digit)] = auc\n",
    "\n",
    "        ax.plot(fpr, tpr, label=f\"ROC AUC={round(auc, 3)}\")\n",
    "\n",
    "        ax.set_title(f\"\\nDigit {digit}\", fontsize=16)\n",
    "        if r == 1:\n",
    "            ax.set_xlabel(\"FPR\", fontsize=18)\n",
    "\n",
    "        if c == 0:\n",
    "            ax.set_ylabel(\"TPR\", fontsize=18)\n",
    "\n",
    "        ax.set_xlim([-0.05, 1.05])\n",
    "        ax.set_ylim([-0.05, 1.05])\n",
    "        ax.legend(loc=\"lower right\", frameon=False, fontsize=14)\n",
    "\n",
    "    fig.tight_layout()\n",
    "    fig.suptitle(\n",
    "        f\"ROC plots for one-vs-rest performances \"\n",
    "        f\"(on evaluation data, n={y_pred_probs_test.shape[1]}\",\n",
    "        fontsize=22,\n",
    "    )\n",
    "    fig.tight_layout()\n",
    "    fig.show()\n",
    "\n",
    "    return roc_auc_dict, fig\n",
    "\n",
    "\n",
    "roc_auc_dict, fig = plot_roc_curves(y_test, y_pred_probs_test)"
   ]
  },
  {
   "cell_type": "code",
   "execution_count": 16,
   "id": "357657aa",
   "metadata": {
    "execution": {
     "iopub.execute_input": "2022-07-09T06:46:05.170054Z",
     "iopub.status.busy": "2022-07-09T06:46:05.169663Z",
     "iopub.status.idle": "2022-07-09T06:46:05.374486Z",
     "shell.execute_reply": "2022-07-09T06:46:05.373838Z"
    },
    "papermill": {
     "duration": 0.213389,
     "end_time": "2022-07-09T06:46:05.376743",
     "exception": false,
     "start_time": "2022-07-09T06:46:05.163354",
     "status": "completed"
    },
    "tags": []
   },
   "outputs": [],
   "source": [
    "logger.log_figure(\"per-digit-roc-curves.png\", fig)"
   ]
  },
  {
   "cell_type": "code",
   "execution_count": 17,
   "id": "fa36331b",
   "metadata": {
    "execution": {
     "iopub.execute_input": "2022-07-09T06:46:05.389610Z",
     "iopub.status.busy": "2022-07-09T06:46:05.388907Z",
     "iopub.status.idle": "2022-07-09T06:46:05.393983Z",
     "shell.execute_reply": "2022-07-09T06:46:05.393261Z"
    },
    "papermill": {
     "duration": 0.014186,
     "end_time": "2022-07-09T06:46:05.396656",
     "exception": false,
     "start_time": "2022-07-09T06:46:05.382470",
     "status": "completed"
    },
    "tags": []
   },
   "outputs": [
    {
     "data": {
      "text/plain": [
       "{'0': 1.0,\n",
       " '1': 0.9992877225866916,\n",
       " '2': 1.0,\n",
       " '3': 0.9998500468603562,\n",
       " '4': 0.9989711934156378,\n",
       " '5': 0.998987816307404,\n",
       " '6': 0.999961896052431,\n",
       " '7': 0.9998475842097241,\n",
       " '8': 0.9949558638083228,\n",
       " '9': 0.9987044657826551}"
      ]
     },
     "execution_count": 17,
     "metadata": {},
     "output_type": "execute_result"
    }
   ],
   "source": [
    "roc_auc_dict"
   ]
  },
  {
   "cell_type": "code",
   "execution_count": 18,
   "id": "5c6f6249",
   "metadata": {
    "execution": {
     "iopub.execute_input": "2022-07-09T06:46:05.409768Z",
     "iopub.status.busy": "2022-07-09T06:46:05.409158Z",
     "iopub.status.idle": "2022-07-09T06:46:05.413498Z",
     "shell.execute_reply": "2022-07-09T06:46:05.412824Z"
    },
    "papermill": {
     "duration": 0.013528,
     "end_time": "2022-07-09T06:46:05.415803",
     "exception": false,
     "start_time": "2022-07-09T06:46:05.402275",
     "status": "completed"
    },
    "tags": []
   },
   "outputs": [
    {
     "name": "stdout",
     "output_type": "stream",
     "text": [
      " - Logging roc_auc_per_digit (json) : {'0': 1.0, '1': 0.9992877225866916, '2': 1.0, '3': 0.9998500468603562, '4': 0.9989711934156378, '5': 0.998987816307404, '6': 0.999961896052431, '7': 0.9998475842097241, '8': 0.9949558638083228, '9': 0.9987044657826551}\n"
     ]
    }
   ],
   "source": [
    "logger.log_value(\"roc_auc_per_digit\", roc_auc_dict)"
   ]
  },
  {
   "cell_type": "markdown",
   "id": "f2229831",
   "metadata": {
    "papermill": {
     "duration": 0.005541,
     "end_time": "2022-07-09T06:46:05.427237",
     "exception": false,
     "start_time": "2022-07-09T06:46:05.421696",
     "status": "completed"
    },
    "tags": []
   },
   "source": [
    "### Compute and log mean ROC AUC score averaged over all digits"
   ]
  },
  {
   "cell_type": "code",
   "execution_count": 19,
   "id": "33f03aff",
   "metadata": {
    "execution": {
     "iopub.execute_input": "2022-07-09T06:46:05.440005Z",
     "iopub.status.busy": "2022-07-09T06:46:05.439456Z",
     "iopub.status.idle": "2022-07-09T06:46:05.451312Z",
     "shell.execute_reply": "2022-07-09T06:46:05.450661Z"
    },
    "papermill": {
     "duration": 0.019922,
     "end_time": "2022-07-09T06:46:05.452737",
     "exception": false,
     "start_time": "2022-07-09T06:46:05.432815",
     "status": "completed"
    },
    "tags": []
   },
   "outputs": [
    {
     "name": "stdout",
     "output_type": "stream",
     "text": [
      " - Logging roc_auc_class_mean (float) : 0.9990566589023222\n"
     ]
    }
   ],
   "source": [
    "roc_auc_macro = np.mean(list(roc_auc_dict.values()))\n",
    "\n",
    "logger.log_float(\"roc_auc_class_mean\", roc_auc_macro)\n",
    "\n",
    "# assert that the same value can be computed directly using sklearn\n",
    "assert roc_auc_macro == metrics.roc_auc_score(\n",
    "    y_test, y_pred_probs_test, average=\"macro\", multi_class=\"ovr\"\n",
    ")"
   ]
  },
  {
   "cell_type": "code",
   "execution_count": 20,
   "id": "09a5c05e",
   "metadata": {
    "execution": {
     "iopub.execute_input": "2022-07-09T06:46:05.468872Z",
     "iopub.status.busy": "2022-07-09T06:46:05.468344Z",
     "iopub.status.idle": "2022-07-09T06:46:05.471433Z",
     "shell.execute_reply": "2022-07-09T06:46:05.470921Z"
    },
    "lines_to_next_cell": 0,
    "papermill": {
     "duration": 0.014426,
     "end_time": "2022-07-09T06:46:05.472976",
     "exception": false,
     "start_time": "2022-07-09T06:46:05.458550",
     "status": "completed"
    },
    "tags": []
   },
   "outputs": [],
   "source": [
    "# ---"
   ]
  },
  {
   "cell_type": "code",
   "execution_count": null,
   "id": "ef9d6ca1",
   "metadata": {
    "papermill": {
     "duration": 0.005599,
     "end_time": "2022-07-09T06:46:05.484240",
     "exception": false,
     "start_time": "2022-07-09T06:46:05.478641",
     "status": "completed"
    },
    "tags": []
   },
   "outputs": [],
   "source": []
  }
 ],
 "metadata": {
  "jupytext": {
   "cell_metadata_filter": "tags,-all",
   "main_language": "python",
   "notebook_metadata_filter": "-all"
  },
  "language_info": {
   "codemirror_mode": {
    "name": "ipython",
    "version": 3
   },
   "file_extension": ".py",
   "mimetype": "text/x-python",
   "name": "python",
   "nbconvert_exporter": "python",
   "pygments_lexer": "ipython3",
   "version": "3.8.10"
  },
  "papermill": {
   "default_parameters": {},
   "duration": 8.972839,
   "end_time": "2022-07-09T06:46:06.508784",
   "environment_variables": {},
   "exception": null,
   "input_path": "/home/host_user/workspace/mnist-demo-pipeline/mnist-demo-pipeline/notebooks/temp-notebook-q260csaf.ipynb",
   "output_path": "notebooks/benchmark-model.ipynb",
   "parameters": {
    "P": {
     "_opentelemetry_traceparent": "00-1d815c5a09dbffbc1a17484614e87f58-df32de82b28e1845-01",
     "pipeline.data_lake_root": "/pipeline-outputs/data-lake",
     "pipeline.github.actor": "matiasdahl",
     "pipeline.github.base_ref": "",
     "pipeline.github.event_name": "schedule",
     "pipeline.github.head_ref": "",
     "pipeline.github.job": "run-tests-pipeline-and-persist-pipeline-outputs",
     "pipeline.github.ref": "refs/heads/development",
     "pipeline.github.ref_name": "development",
     "pipeline.github.ref_type": "branch",
     "pipeline.github.repository": "pynb-dag-runner/mnist-digits-demo-pipeline",
     "pipeline.github.run_id": "2640187557",
     "pipeline.github.runner_name": "Hosted Agent",
     "pipeline.github.sha": "147a1be9916173fd4d2cd011d8d51e3411215850",
     "pipeline.github.workflow": "Run automated tests, pipeline and deploy results to static reporting site",
     "pipeline.pipeline_run_id": "9d8ed508-282f-4ff0-b957-e3510667b866",
     "pipeline.run_environment": "ci",
     "run.retry_nr": "0",
     "task.max_nr_retries": "1",
     "task.notebook": "notebooks/benchmark-model.py",
     "task.nr_train_images": 600,
     "task.num_cpus": 1,
     "task.timeout_s": "None"
    }
   },
   "start_time": "2022-07-09T06:45:57.535945",
   "version": "2.3.3"
  }
 },
 "nbformat": 4,
 "nbformat_minor": 5
}