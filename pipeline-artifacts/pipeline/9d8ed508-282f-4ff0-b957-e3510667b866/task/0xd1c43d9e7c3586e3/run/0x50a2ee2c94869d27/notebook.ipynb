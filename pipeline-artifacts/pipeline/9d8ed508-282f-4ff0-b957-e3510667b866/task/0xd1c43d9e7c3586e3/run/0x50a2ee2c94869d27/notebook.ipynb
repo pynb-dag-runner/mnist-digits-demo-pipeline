{
 "cells": [
  {
   "cell_type": "markdown",
   "id": "0855f2fa",
   "metadata": {
    "papermill": {
     "duration": 0.004435,
     "end_time": "2022-07-09T06:45:48.426388",
     "exception": false,
     "start_time": "2022-07-09T06:45:48.421953",
     "status": "completed"
    },
    "tags": []
   },
   "source": [
    "# Benchmark model\n",
    "\n",
    "The purpose of this notebook is to benchmark persisted onnx-model (trained in the\n",
    "previous step) against evaluation set."
   ]
  },
  {
   "cell_type": "markdown",
   "id": "f69eec1e",
   "metadata": {
    "papermill": {
     "duration": 0.003767,
     "end_time": "2022-07-09T06:45:48.434837",
     "exception": false,
     "start_time": "2022-07-09T06:45:48.431070",
     "status": "completed"
    },
    "tags": []
   },
   "source": [
    "### Determine run parameters"
   ]
  },
  {
   "cell_type": "code",
   "execution_count": 1,
   "id": "9221b39a",
   "metadata": {
    "execution": {
     "iopub.execute_input": "2022-07-09T06:45:48.445619Z",
     "iopub.status.busy": "2022-07-09T06:45:48.445304Z",
     "iopub.status.idle": "2022-07-09T06:45:48.456890Z",
     "shell.execute_reply": "2022-07-09T06:45:48.456216Z"
    },
    "lines_to_next_cell": 0,
    "papermill": {
     "duration": 0.021457,
     "end_time": "2022-07-09T06:45:48.460013",
     "exception": false,
     "start_time": "2022-07-09T06:45:48.438556",
     "status": "completed"
    },
    "tags": []
   },
   "outputs": [],
   "source": [
    "# ----------------- Parameters for interactive development --------------\n",
    "P = {\n",
    "    \"pipeline.data_lake_root\": \"/pipeline-outputs/data-lake\",\n",
    "    \"task.nr_train_images\": 600,\n",
    "}"
   ]
  },
  {
   "cell_type": "code",
   "execution_count": 2,
   "id": "33bda1d3",
   "metadata": {
    "execution": {
     "iopub.execute_input": "2022-07-09T06:45:48.472715Z",
     "iopub.status.busy": "2022-07-09T06:45:48.472158Z",
     "iopub.status.idle": "2022-07-09T06:45:48.475228Z",
     "shell.execute_reply": "2022-07-09T06:45:48.474718Z"
    },
    "lines_to_next_cell": 0,
    "papermill": {
     "duration": 0.009857,
     "end_time": "2022-07-09T06:45:48.476844",
     "exception": false,
     "start_time": "2022-07-09T06:45:48.466987",
     "status": "completed"
    },
    "tags": [
     "parameters"
    ]
   },
   "outputs": [],
   "source": [
    "# - During automated runs parameters will be injected in the below cell -"
   ]
  },
  {
   "cell_type": "code",
   "execution_count": 3,
   "id": "791323fc",
   "metadata": {
    "execution": {
     "iopub.execute_input": "2022-07-09T06:45:48.486031Z",
     "iopub.status.busy": "2022-07-09T06:45:48.485821Z",
     "iopub.status.idle": "2022-07-09T06:45:48.490512Z",
     "shell.execute_reply": "2022-07-09T06:45:48.490018Z"
    },
    "papermill": {
     "duration": 0.012013,
     "end_time": "2022-07-09T06:45:48.493169",
     "exception": false,
     "start_time": "2022-07-09T06:45:48.481156",
     "status": "completed"
    },
    "tags": [
     "injected-parameters"
    ]
   },
   "outputs": [],
   "source": [
    "# Parameters\n",
    "P = {\n",
    "    \"pipeline.data_lake_root\": \"/pipeline-outputs/data-lake\",\n",
    "    \"pipeline.run_environment\": \"ci\",\n",
    "    \"pipeline.pipeline_run_id\": \"9d8ed508-282f-4ff0-b957-e3510667b866\",\n",
    "    \"pipeline.github.repository\": \"pynb-dag-runner/mnist-digits-demo-pipeline\",\n",
    "    \"pipeline.github.workflow\": \"Run automated tests, pipeline and deploy results to static reporting site\",\n",
    "    \"pipeline.github.runner_name\": \"Hosted Agent\",\n",
    "    \"pipeline.github.run_id\": \"2640187557\",\n",
    "    \"pipeline.github.actor\": \"matiasdahl\",\n",
    "    \"pipeline.github.job\": \"run-tests-pipeline-and-persist-pipeline-outputs\",\n",
    "    \"pipeline.github.base_ref\": \"\",\n",
    "    \"pipeline.github.head_ref\": \"\",\n",
    "    \"pipeline.github.sha\": \"147a1be9916173fd4d2cd011d8d51e3411215850\",\n",
    "    \"pipeline.github.ref\": \"refs/heads/development\",\n",
    "    \"pipeline.github.ref_type\": \"branch\",\n",
    "    \"pipeline.github.ref_name\": \"development\",\n",
    "    \"pipeline.github.event_name\": \"schedule\",\n",
    "    \"task.nr_train_images\": 1000,\n",
    "    \"task.notebook\": \"notebooks/benchmark-model.py\",\n",
    "    \"task.max_nr_retries\": \"1\",\n",
    "    \"run.retry_nr\": \"0\",\n",
    "    \"task.timeout_s\": \"None\",\n",
    "    \"task.num_cpus\": 1,\n",
    "    \"_opentelemetry_traceparent\": \"00-1d815c5a09dbffbc1a17484614e87f58-3562bc19e1432317-01\",\n",
    "}\n"
   ]
  },
  {
   "cell_type": "code",
   "execution_count": 4,
   "id": "1b0f5b54",
   "metadata": {
    "execution": {
     "iopub.execute_input": "2022-07-09T06:45:48.502454Z",
     "iopub.status.busy": "2022-07-09T06:45:48.502235Z",
     "iopub.status.idle": "2022-07-09T06:45:48.504962Z",
     "shell.execute_reply": "2022-07-09T06:45:48.504465Z"
    },
    "lines_to_next_cell": 0,
    "papermill": {
     "duration": 0.010249,
     "end_time": "2022-07-09T06:45:48.507140",
     "exception": false,
     "start_time": "2022-07-09T06:45:48.496891",
     "status": "completed"
    },
    "tags": []
   },
   "outputs": [],
   "source": [
    "# -----------------------------------------------------------------------"
   ]
  },
  {
   "cell_type": "markdown",
   "id": "5209fed8",
   "metadata": {
    "papermill": {
     "duration": 0.005713,
     "end_time": "2022-07-09T06:45:48.517205",
     "exception": false,
     "start_time": "2022-07-09T06:45:48.511492",
     "status": "completed"
    },
    "tags": []
   },
   "source": [
    "---"
   ]
  },
  {
   "cell_type": "markdown",
   "id": "18a5de2b",
   "metadata": {
    "lines_to_next_cell": 2,
    "papermill": {
     "duration": 0.003961,
     "end_time": "2022-07-09T06:45:48.525394",
     "exception": false,
     "start_time": "2022-07-09T06:45:48.521433",
     "status": "completed"
    },
    "tags": []
   },
   "source": [
    "### Notebook code"
   ]
  },
  {
   "cell_type": "code",
   "execution_count": 5,
   "id": "a8d75084",
   "metadata": {
    "execution": {
     "iopub.execute_input": "2022-07-09T06:45:48.535098Z",
     "iopub.status.busy": "2022-07-09T06:45:48.534844Z",
     "iopub.status.idle": "2022-07-09T06:45:49.662943Z",
     "shell.execute_reply": "2022-07-09T06:45:49.662129Z"
    },
    "papermill": {
     "duration": 1.135058,
     "end_time": "2022-07-09T06:45:49.664842",
     "exception": false,
     "start_time": "2022-07-09T06:45:48.529784",
     "status": "completed"
    },
    "tags": []
   },
   "outputs": [
    {
     "name": "stderr",
     "output_type": "stream",
     "text": [
      "2022-07-09 06:45:49,485\tINFO worker.py:842 -- Connecting to existing Ray cluster at address: 172.17.0.2:6379\n"
     ]
    }
   ],
   "source": [
    "import itertools as it\n",
    "\n",
    "#\n",
    "import numpy as np\n",
    "import matplotlib.pyplot as plt\n",
    "\n",
    "#\n",
    "from pynb_dag_runner.tasks.task_opentelemetry_logging import PydarLogger\n",
    "\n",
    "#\n",
    "from common.io import datalake_root\n",
    "\n",
    "logger = PydarLogger(P)"
   ]
  },
  {
   "cell_type": "markdown",
   "id": "30e8e7db",
   "metadata": {
    "papermill": {
     "duration": 0.009871,
     "end_time": "2022-07-09T06:45:49.679653",
     "exception": false,
     "start_time": "2022-07-09T06:45:49.669782",
     "status": "completed"
    },
    "tags": []
   },
   "source": [
    "## Load persisted onnx-model and evaluation data"
   ]
  },
  {
   "cell_type": "code",
   "execution_count": 6,
   "id": "53512409",
   "metadata": {
    "execution": {
     "iopub.execute_input": "2022-07-09T06:45:49.689933Z",
     "iopub.status.busy": "2022-07-09T06:45:49.689541Z",
     "iopub.status.idle": "2022-07-09T06:45:49.693627Z",
     "shell.execute_reply": "2022-07-09T06:45:49.692929Z"
    },
    "papermill": {
     "duration": 0.011257,
     "end_time": "2022-07-09T06:45:49.695436",
     "exception": false,
     "start_time": "2022-07-09T06:45:49.684179",
     "status": "completed"
    },
    "tags": []
   },
   "outputs": [],
   "source": [
    "from common.io import read_onnx, get_onnx_inputs, get_onnx_outputs, read_numpy"
   ]
  },
  {
   "cell_type": "code",
   "execution_count": 7,
   "id": "fef0f2af",
   "metadata": {
    "execution": {
     "iopub.execute_input": "2022-07-09T06:45:49.706193Z",
     "iopub.status.busy": "2022-07-09T06:45:49.705582Z",
     "iopub.status.idle": "2022-07-09T06:45:49.714973Z",
     "shell.execute_reply": "2022-07-09T06:45:49.714236Z"
    },
    "lines_to_next_cell": 0,
    "papermill": {
     "duration": 0.016641,
     "end_time": "2022-07-09T06:45:49.716739",
     "exception": false,
     "start_time": "2022-07-09T06:45:49.700098",
     "status": "completed"
    },
    "tags": []
   },
   "outputs": [],
   "source": [
    "onnx_inference_session = read_onnx(\n",
    "    datalake_root(P)\n",
    "    / \"models\"\n",
    "    / f\"nr_train_images={P['task.nr_train_images']}\"\n",
    "    / \"model.onnx\"\n",
    ")"
   ]
  },
  {
   "cell_type": "markdown",
   "id": "8564f0b1",
   "metadata": {
    "papermill": {
     "duration": 0.004838,
     "end_time": "2022-07-09T06:45:49.726924",
     "exception": false,
     "start_time": "2022-07-09T06:45:49.722086",
     "status": "completed"
    },
    "tags": []
   },
   "source": [
    "### Record structure of inputs and outputs for ONNX model\n",
    "\n",
    "(this should likely be done in training notebook)"
   ]
  },
  {
   "cell_type": "code",
   "execution_count": 8,
   "id": "b7389cdc",
   "metadata": {
    "execution": {
     "iopub.execute_input": "2022-07-09T06:45:49.737290Z",
     "iopub.status.busy": "2022-07-09T06:45:49.736681Z",
     "iopub.status.idle": "2022-07-09T06:45:49.743351Z",
     "shell.execute_reply": "2022-07-09T06:45:49.742662Z"
    },
    "papermill": {
     "duration": 0.014461,
     "end_time": "2022-07-09T06:45:49.745712",
     "exception": false,
     "start_time": "2022-07-09T06:45:49.731251",
     "status": "completed"
    },
    "tags": []
   },
   "outputs": [
    {
     "name": "stdout",
     "output_type": "stream",
     "text": [
      "{\n",
      "  \"inputs\": [\n",
      "    {\n",
      "      \"name\": \"float_input_8x8_image\",\n",
      "      \"shape\": [\n",
      "        null,\n",
      "        64\n",
      "      ],\n",
      "      \"type\": \"tensor(float)\"\n",
      "    }\n",
      "  ],\n",
      "  \"outputs\": [\n",
      "    {\n",
      "      \"name\": \"output_label\",\n",
      "      \"shape\": [\n",
      "        null\n",
      "      ],\n",
      "      \"type\": \"tensor(int64)\"\n",
      "    },\n",
      "    {\n",
      "      \"name\": \"output_probability\",\n",
      "      \"shape\": [],\n",
      "      \"type\": \"seq(map(int64,tensor(float)))\"\n",
      "    }\n",
      "  ]\n",
      "}\n"
     ]
    }
   ],
   "source": [
    "import json\n",
    "\n",
    "onnx_io = json.dumps(\n",
    "    {\n",
    "        \"inputs\": get_onnx_inputs(onnx_inference_session),\n",
    "        \"outputs\": get_onnx_outputs(onnx_inference_session),\n",
    "    },\n",
    "    indent=2,\n",
    ")\n",
    "\n",
    "\n",
    "logger.log_artefact(\"onnx_io_structure.json\", onnx_io)\n",
    "print(onnx_io)"
   ]
  },
  {
   "cell_type": "markdown",
   "id": "8422b54f",
   "metadata": {
    "papermill": {
     "duration": 0.004309,
     "end_time": "2022-07-09T06:45:49.755032",
     "exception": false,
     "start_time": "2022-07-09T06:45:49.750723",
     "status": "completed"
    },
    "tags": []
   },
   "source": [
    "### Evaluate model performance on evaluation data set"
   ]
  },
  {
   "cell_type": "code",
   "execution_count": 9,
   "id": "75d3bc11",
   "metadata": {
    "execution": {
     "iopub.execute_input": "2022-07-09T06:45:49.765310Z",
     "iopub.status.busy": "2022-07-09T06:45:49.765034Z",
     "iopub.status.idle": "2022-07-09T06:45:49.769864Z",
     "shell.execute_reply": "2022-07-09T06:45:49.769122Z"
    },
    "papermill": {
     "duration": 0.012242,
     "end_time": "2022-07-09T06:45:49.772048",
     "exception": false,
     "start_time": "2022-07-09T06:45:49.759806",
     "status": "completed"
    },
    "tags": []
   },
   "outputs": [],
   "source": [
    "# load evaluation data\n",
    "X_test = read_numpy(datalake_root(P) / \"test-data\" / \"digits.numpy\")\n",
    "y_test = read_numpy(datalake_root(P) / \"test-data\" / \"labels.numpy\")"
   ]
  },
  {
   "cell_type": "code",
   "execution_count": 10,
   "id": "1f059067",
   "metadata": {
    "execution": {
     "iopub.execute_input": "2022-07-09T06:45:49.782906Z",
     "iopub.status.busy": "2022-07-09T06:45:49.782564Z",
     "iopub.status.idle": "2022-07-09T06:45:49.797619Z",
     "shell.execute_reply": "2022-07-09T06:45:49.796879Z"
    },
    "papermill": {
     "duration": 0.022947,
     "end_time": "2022-07-09T06:45:49.799851",
     "exception": false,
     "start_time": "2022-07-09T06:45:49.776904",
     "status": "completed"
    },
    "tags": []
   },
   "outputs": [],
   "source": [
    "def get_model_outputs(X, onnx_inference_session):\n",
    "    y_pred_labels, y_pred_map = onnx_inference_session.run(\n",
    "        [\"output_label\", \"output_probability\"],\n",
    "        {\"float_input_8x8_image\": X.astype(np.float32)},\n",
    "    )\n",
    "    y_pred_probs = np.array(\n",
    "        [[probabilities[digit] for digit in range(10)] for probabilities in y_pred_map]\n",
    "    )\n",
    "\n",
    "    assert y_pred_labels.shape == (X.shape[0],)\n",
    "    assert y_pred_probs.shape == (X.shape[0], 10)\n",
    "\n",
    "    return y_pred_labels, y_pred_probs\n",
    "\n",
    "\n",
    "# Note: as shown in the training notebook, the predicted labels and probabilities\n",
    "# computed below need not be compatible.\n",
    "y_pred_labels_test, y_pred_probs_test = get_model_outputs(\n",
    "    X_test, onnx_inference_session\n",
    ")"
   ]
  },
  {
   "cell_type": "markdown",
   "id": "a168a3b2",
   "metadata": {
    "papermill": {
     "duration": 0.005061,
     "end_time": "2022-07-09T06:45:49.809175",
     "exception": false,
     "start_time": "2022-07-09T06:45:49.804114",
     "status": "completed"
    },
    "tags": []
   },
   "source": [
    "### Confusion matrix"
   ]
  },
  {
   "cell_type": "code",
   "execution_count": 11,
   "id": "3fa0a059",
   "metadata": {
    "execution": {
     "iopub.execute_input": "2022-07-09T06:45:49.820207Z",
     "iopub.status.busy": "2022-07-09T06:45:49.819483Z",
     "iopub.status.idle": "2022-07-09T06:45:49.823181Z",
     "shell.execute_reply": "2022-07-09T06:45:49.822516Z"
    },
    "papermill": {
     "duration": 0.011404,
     "end_time": "2022-07-09T06:45:49.824889",
     "exception": false,
     "start_time": "2022-07-09T06:45:49.813485",
     "status": "completed"
    },
    "tags": []
   },
   "outputs": [],
   "source": [
    "# TODO"
   ]
  },
  {
   "cell_type": "markdown",
   "id": "5f882bda",
   "metadata": {
    "papermill": {
     "duration": 0.004207,
     "end_time": "2022-07-09T06:45:49.834372",
     "exception": false,
     "start_time": "2022-07-09T06:45:49.830165",
     "status": "completed"
    },
    "tags": []
   },
   "source": [
    "### Plot predicted probabilities for each classifier over all evaluation digit images"
   ]
  },
  {
   "cell_type": "code",
   "execution_count": 12,
   "id": "6b4f4c3d",
   "metadata": {
    "execution": {
     "iopub.execute_input": "2022-07-09T06:45:49.844945Z",
     "iopub.status.busy": "2022-07-09T06:45:49.844579Z",
     "iopub.status.idle": "2022-07-09T06:45:53.026312Z",
     "shell.execute_reply": "2022-07-09T06:45:53.025688Z"
    },
    "papermill": {
     "duration": 3.192501,
     "end_time": "2022-07-09T06:45:53.031467",
     "exception": false,
     "start_time": "2022-07-09T06:45:49.838966",
     "status": "completed"
    },
    "tags": []
   },
   "outputs": [
    {
     "data": {
      "image/png": "[encoded data removed]",
      "text/plain": [
       "<Figure size 1152x432 with 10 Axes>"
      ]
     },
     "metadata": {
      "needs_background": "light"
     },
     "output_type": "display_data"
    }
   ],
   "source": [
    "def plot_per_digit_probabilities(y_pred_probs):\n",
    "    fig, axs = plt.subplots(nrows=2, ncols=5, figsize=(16, 6))\n",
    "\n",
    "    for (r, c), digit, ax in zip(\n",
    "        it.product(range(2), range(5)), range(10), axs.reshape(-1)\n",
    "    ):\n",
    "        ax.hist(y_pred_probs_test[:, digit], bins=20)\n",
    "\n",
    "        ax.set_title(f\"Digit {digit}\")\n",
    "        if r == 1 and c == 2:\n",
    "            ax.set_xlabel(\"probability\", fontsize=16)\n",
    "\n",
    "        if c == 0:\n",
    "            ax.set_ylabel(\"counts\", fontsize=16)\n",
    "        ax.set_yscale(\"log\")\n",
    "\n",
    "    fig.tight_layout()\n",
    "    fig.suptitle(\n",
    "        f\"Distributions of prediction probabilities for each digit \"\n",
    "        f\"(on evaluation data, n={y_pred_probs.shape[0]})\",\n",
    "        fontsize=20,\n",
    "    )\n",
    "    fig.tight_layout()\n",
    "    fig.show()\n",
    "\n",
    "    return fig\n",
    "\n",
    "\n",
    "fig = plot_per_digit_probabilities(y_pred_probs_test)"
   ]
  },
  {
   "cell_type": "markdown",
   "id": "72e66911",
   "metadata": {
    "papermill": {
     "duration": 0.020838,
     "end_time": "2022-07-09T06:45:53.058158",
     "exception": false,
     "start_time": "2022-07-09T06:45:53.037320",
     "status": "completed"
    },
    "tags": []
   },
   "source": [
    "From the above distributions we see that most digits have clear separation between\n",
    "high and lower probabilities. Morover, in each case there is roughly an order of\n",
    "magnitude more of digits with low probabilities. This is compatible with digits\n",
    "being roughly evenly distributed in the data."
   ]
  },
  {
   "cell_type": "code",
   "execution_count": 13,
   "id": "8ffff19d",
   "metadata": {
    "execution": {
     "iopub.execute_input": "2022-07-09T06:45:53.069153Z",
     "iopub.status.busy": "2022-07-09T06:45:53.068781Z",
     "iopub.status.idle": "2022-07-09T06:45:53.459775Z",
     "shell.execute_reply": "2022-07-09T06:45:53.458839Z"
    },
    "papermill": {
     "duration": 0.398499,
     "end_time": "2022-07-09T06:45:53.461614",
     "exception": false,
     "start_time": "2022-07-09T06:45:53.063115",
     "status": "completed"
    },
    "tags": []
   },
   "outputs": [],
   "source": [
    "logger.log_figure(\"per-digit-probabilities.png\", fig)"
   ]
  },
  {
   "cell_type": "markdown",
   "id": "1a9464f8",
   "metadata": {
    "papermill": {
     "duration": 0.005231,
     "end_time": "2022-07-09T06:45:53.471958",
     "exception": false,
     "start_time": "2022-07-09T06:45:53.466727",
     "status": "completed"
    },
    "tags": []
   },
   "source": [
    "### Plot ROC curves for individual one-vs-rest classifiers"
   ]
  },
  {
   "cell_type": "code",
   "execution_count": 14,
   "id": "b6970498",
   "metadata": {
    "execution": {
     "iopub.execute_input": "2022-07-09T06:45:53.483033Z",
     "iopub.status.busy": "2022-07-09T06:45:53.482742Z",
     "iopub.status.idle": "2022-07-09T06:45:53.850384Z",
     "shell.execute_reply": "2022-07-09T06:45:53.849679Z"
    },
    "papermill": {
     "duration": 0.379424,
     "end_time": "2022-07-09T06:45:53.856345",
     "exception": false,
     "start_time": "2022-07-09T06:45:53.476921",
     "status": "completed"
    },
    "tags": []
   },
   "outputs": [],
   "source": [
    "from sklearn import metrics"
   ]
  },
  {
   "cell_type": "code",
   "execution_count": 15,
   "id": "57e37025",
   "metadata": {
    "execution": {
     "iopub.execute_input": "2022-07-09T06:45:53.872497Z",
     "iopub.status.busy": "2022-07-09T06:45:53.872209Z",
     "iopub.status.idle": "2022-07-09T06:45:54.953249Z",
     "shell.execute_reply": "2022-07-09T06:45:54.952686Z"
    },
    "papermill": {
     "duration": 1.093465,
     "end_time": "2022-07-09T06:45:54.954959",
     "exception": false,
     "start_time": "2022-07-09T06:45:53.861494",
     "status": "completed"
    },
    "tags": []
   },
   "outputs": [
    {
     "data": {
      "image/png": "[encoded data removed]",
      "text/plain": [
       "<Figure size 1152x576 with 10 Axes>"
      ]
     },
     "metadata": {
      "needs_background": "light"
     },
     "output_type": "display_data"
    }
   ],
   "source": [
    "def plot_roc_curves(y, y_pred_probs):\n",
    "    # based on example code\n",
    "    # https://scikit-learn.org/stable/auto_examples/model_selection/plot_roc.html\n",
    "\n",
    "    fig, axs = plt.subplots(nrows=2, ncols=5, figsize=(16, 8))\n",
    "\n",
    "    roc_auc_dict = {}\n",
    "\n",
    "    for (r, c), digit, ax in zip(\n",
    "        it.product(range(2), range(5)), range(10), axs.reshape(-1)\n",
    "    ):\n",
    "        fpr, tpr, _ = metrics.roc_curve(y == digit, y_pred_probs[:, digit])\n",
    "        auc = metrics.auc(fpr, tpr)\n",
    "        roc_auc_dict[str(digit)] = auc\n",
    "\n",
    "        ax.plot(fpr, tpr, label=f\"ROC AUC={round(auc, 3)}\")\n",
    "\n",
    "        ax.set_title(f\"\\nDigit {digit}\", fontsize=16)\n",
    "        if r == 1:\n",
    "            ax.set_xlabel(\"FPR\", fontsize=18)\n",
    "\n",
    "        if c == 0:\n",
    "            ax.set_ylabel(\"TPR\", fontsize=18)\n",
    "\n",
    "        ax.set_xlim([-0.05, 1.05])\n",
    "        ax.set_ylim([-0.05, 1.05])\n",
    "        ax.legend(loc=\"lower right\", frameon=False, fontsize=14)\n",
    "\n",
    "    fig.tight_layout()\n",
    "    fig.suptitle(\n",
    "        f\"ROC plots for one-vs-rest performances \"\n",
    "        f\"(on evaluation data, n={y_pred_probs_test.shape[1]}\",\n",
    "        fontsize=22,\n",
    "    )\n",
    "    fig.tight_layout()\n",
    "    fig.show()\n",
    "\n",
    "    return roc_auc_dict, fig\n",
    "\n",
    "\n",
    "roc_auc_dict, fig = plot_roc_curves(y_test, y_pred_probs_test)"
   ]
  },
  {
   "cell_type": "code",
   "execution_count": 16,
   "id": "0e6d1e52",
   "metadata": {
    "execution": {
     "iopub.execute_input": "2022-07-09T06:45:54.967815Z",
     "iopub.status.busy": "2022-07-09T06:45:54.967522Z",
     "iopub.status.idle": "2022-07-09T06:45:55.184816Z",
     "shell.execute_reply": "2022-07-09T06:45:55.184248Z"
    },
    "papermill": {
     "duration": 0.225742,
     "end_time": "2022-07-09T06:45:55.186828",
     "exception": false,
     "start_time": "2022-07-09T06:45:54.961086",
     "status": "completed"
    },
    "tags": []
   },
   "outputs": [],
   "source": [
    "logger.log_figure(\"per-digit-roc-curves.png\", fig)"
   ]
  },
  {
   "cell_type": "code",
   "execution_count": 17,
   "id": "e6da15bc",
   "metadata": {
    "execution": {
     "iopub.execute_input": "2022-07-09T06:45:55.204974Z",
     "iopub.status.busy": "2022-07-09T06:45:55.204689Z",
     "iopub.status.idle": "2022-07-09T06:45:55.210228Z",
     "shell.execute_reply": "2022-07-09T06:45:55.209504Z"
    },
    "papermill": {
     "duration": 0.019943,
     "end_time": "2022-07-09T06:45:55.212932",
     "exception": false,
     "start_time": "2022-07-09T06:45:55.192989",
     "status": "completed"
    },
    "tags": []
   },
   "outputs": [
    {
     "data": {
      "text/plain": [
       "{'0': 1.0,\n",
       " '1': 0.999025304592315,\n",
       " '2': 1.0,\n",
       " '3': 0.9998125585754452,\n",
       " '4': 0.9996189605243103,\n",
       " '5': 0.9994376757263355,\n",
       " '6': 0.999923792104862,\n",
       " '7': 0.9997713763145862,\n",
       " '8': 0.9951134930643126,\n",
       " '9': 0.9996189605243103}"
      ]
     },
     "execution_count": 17,
     "metadata": {},
     "output_type": "execute_result"
    }
   ],
   "source": [
    "roc_auc_dict"
   ]
  },
  {
   "cell_type": "code",
   "execution_count": 18,
   "id": "812cf698",
   "metadata": {
    "execution": {
     "iopub.execute_input": "2022-07-09T06:45:55.225797Z",
     "iopub.status.busy": "2022-07-09T06:45:55.225546Z",
     "iopub.status.idle": "2022-07-09T06:45:55.229856Z",
     "shell.execute_reply": "2022-07-09T06:45:55.229194Z"
    },
    "papermill": {
     "duration": 0.013714,
     "end_time": "2022-07-09T06:45:55.231930",
     "exception": false,
     "start_time": "2022-07-09T06:45:55.218216",
     "status": "completed"
    },
    "tags": []
   },
   "outputs": [
    {
     "name": "stdout",
     "output_type": "stream",
     "text": [
      " - Logging roc_auc_per_digit (json) : {'0': 1.0, '1': 0.999025304592315, '2': 1.0, '3': 0.9998125585754452, '4': 0.9996189605243103, '5': 0.9994376757263355, '6': 0.999923792104862, '7': 0.9997713763145862, '8': 0.9951134930643126, '9': 0.9996189605243103}\n"
     ]
    }
   ],
   "source": [
    "logger.log_value(\"roc_auc_per_digit\", roc_auc_dict)"
   ]
  },
  {
   "cell_type": "markdown",
   "id": "54f44192",
   "metadata": {
    "papermill": {
     "duration": 0.006018,
     "end_time": "2022-07-09T06:45:55.244272",
     "exception": false,
     "start_time": "2022-07-09T06:45:55.238254",
     "status": "completed"
    },
    "tags": []
   },
   "source": [
    "### Compute and log mean ROC AUC score averaged over all digits"
   ]
  },
  {
   "cell_type": "code",
   "execution_count": 19,
   "id": "1944fb8f",
   "metadata": {
    "execution": {
     "iopub.execute_input": "2022-07-09T06:45:55.256718Z",
     "iopub.status.busy": "2022-07-09T06:45:55.256225Z",
     "iopub.status.idle": "2022-07-09T06:45:55.269660Z",
     "shell.execute_reply": "2022-07-09T06:45:55.268987Z"
    },
    "papermill": {
     "duration": 0.021692,
     "end_time": "2022-07-09T06:45:55.271623",
     "exception": false,
     "start_time": "2022-07-09T06:45:55.249931",
     "status": "completed"
    },
    "tags": []
   },
   "outputs": [
    {
     "name": "stdout",
     "output_type": "stream",
     "text": [
      " - Logging roc_auc_class_mean (float) : 0.9992322121426478\n"
     ]
    }
   ],
   "source": [
    "roc_auc_macro = np.mean(list(roc_auc_dict.values()))\n",
    "\n",
    "logger.log_float(\"roc_auc_class_mean\", roc_auc_macro)\n",
    "\n",
    "# assert that the same value can be computed directly using sklearn\n",
    "assert roc_auc_macro == metrics.roc_auc_score(\n",
    "    y_test, y_pred_probs_test, average=\"macro\", multi_class=\"ovr\"\n",
    ")"
   ]
  },
  {
   "cell_type": "code",
   "execution_count": 20,
   "id": "c67379b1",
   "metadata": {
    "execution": {
     "iopub.execute_input": "2022-07-09T06:45:55.285035Z",
     "iopub.status.busy": "2022-07-09T06:45:55.284755Z",
     "iopub.status.idle": "2022-07-09T06:45:55.289634Z",
     "shell.execute_reply": "2022-07-09T06:45:55.288702Z"
    },
    "lines_to_next_cell": 0,
    "papermill": {
     "duration": 0.015325,
     "end_time": "2022-07-09T06:45:55.293269",
     "exception": false,
     "start_time": "2022-07-09T06:45:55.277944",
     "status": "completed"
    },
    "tags": []
   },
   "outputs": [],
   "source": [
    "# ---"
   ]
  },
  {
   "cell_type": "code",
   "execution_count": null,
   "id": "a660f277",
   "metadata": {
    "papermill": {
     "duration": 0.006743,
     "end_time": "2022-07-09T06:45:55.305650",
     "exception": false,
     "start_time": "2022-07-09T06:45:55.298907",
     "status": "completed"
    },
    "tags": []
   },
   "outputs": [],
   "source": []
  }
 ],
 "metadata": {
  "jupytext": {
   "cell_metadata_filter": "tags,-all",
   "main_language": "python",
   "notebook_metadata_filter": "-all"
  },
  "language_info": {
   "codemirror_mode": {
    "name": "ipython",
    "version": 3
   },
   "file_extension": ".py",
   "mimetype": "text/x-python",
   "name": "python",
   "nbconvert_exporter": "python",
   "pygments_lexer": "ipython3",
   "version": "3.8.10"
  },
  "papermill": {
   "default_parameters": {},
   "duration": 9.456159,
   "end_time": "2022-07-09T06:45:56.331328",
   "environment_variables": {},
   "exception": null,
   "input_path": "/home/host_user/workspace/mnist-demo-pipeline/mnist-demo-pipeline/notebooks/temp-notebook-nsoonw7i.ipynb",
   "output_path": "notebooks/benchmark-model.ipynb",
   "parameters": {
    "P": {
     "_opentelemetry_traceparent": "00-1d815c5a09dbffbc1a17484614e87f58-3562bc19e1432317-01",
     "pipeline.data_lake_root": "/pipeline-outputs/data-lake",
     "pipeline.github.actor": "matiasdahl",
     "pipeline.github.base_ref": "",
     "pipeline.github.event_name": "schedule",
     "pipeline.github.head_ref": "",
     "pipeline.github.job": "run-tests-pipeline-and-persist-pipeline-outputs",
     "pipeline.github.ref": "refs/heads/development",
     "pipeline.github.ref_name": "development",
     "pipeline.github.ref_type": "branch",
     "pipeline.github.repository": "pynb-dag-runner/mnist-digits-demo-pipeline",
     "pipeline.github.run_id": "2640187557",
     "pipeline.github.runner_name": "Hosted Agent",
     "pipeline.github.sha": "147a1be9916173fd4d2cd011d8d51e3411215850",
     "pipeline.github.workflow": "Run automated tests, pipeline and deploy results to static reporting site",
     "pipeline.pipeline_run_id": "9d8ed508-282f-4ff0-b957-e3510667b866",
     "pipeline.run_environment": "ci",
     "run.retry_nr": "0",
     "task.max_nr_retries": "1",
     "task.notebook": "notebooks/benchmark-model.py",
     "task.nr_train_images": 1000,
     "task.num_cpus": 1,
     "task.timeout_s": "None"
    }
   },
   "start_time": "2022-07-09T06:45:46.875169",
   "version": "2.3.3"
  }
 },
 "nbformat": 4,
 "nbformat_minor": 5
}