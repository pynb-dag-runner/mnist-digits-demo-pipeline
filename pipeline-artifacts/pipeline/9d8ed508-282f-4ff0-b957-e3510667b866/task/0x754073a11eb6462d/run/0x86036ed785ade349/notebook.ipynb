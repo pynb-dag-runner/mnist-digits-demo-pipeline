{
 "cells": [
  {
   "cell_type": "markdown",
   "id": "580d30c8",
   "metadata": {
    "papermill": {
     "duration": 0.004612,
     "end_time": "2022-07-09T06:45:37.093161",
     "exception": false,
     "start_time": "2022-07-09T06:45:37.088549",
     "status": "completed"
    },
    "tags": []
   },
   "source": [
    "# Train model\n",
    "\n",
    "The purpose of this notebook is:\n",
    "\n",
    "- Load all training data (images and labels).\n",
    "- Limit number of train images to `task.nr_train_images` (value provided as run parameter).\n",
    "- Train a support vector machine model using sklearn.\n",
    "- Persist the trained model using the ONNX format."
   ]
  },
  {
   "cell_type": "markdown",
   "id": "f2bcdfcc",
   "metadata": {
    "papermill": {
     "duration": 0.002843,
     "end_time": "2022-07-09T06:45:37.099383",
     "exception": false,
     "start_time": "2022-07-09T06:45:37.096540",
     "status": "completed"
    },
    "tags": []
   },
   "source": [
    "### Determine run parameters"
   ]
  },
  {
   "cell_type": "code",
   "execution_count": 1,
   "id": "ad1dc9d9",
   "metadata": {
    "execution": {
     "iopub.execute_input": "2022-07-09T06:45:37.107330Z",
     "iopub.status.busy": "2022-07-09T06:45:37.106982Z",
     "iopub.status.idle": "2022-07-09T06:45:37.113936Z",
     "shell.execute_reply": "2022-07-09T06:45:37.113438Z"
    },
    "lines_to_next_cell": 0,
    "papermill": {
     "duration": 0.013026,
     "end_time": "2022-07-09T06:45:37.115510",
     "exception": false,
     "start_time": "2022-07-09T06:45:37.102484",
     "status": "completed"
    },
    "tags": []
   },
   "outputs": [],
   "source": [
    "# ----------------- Parameters for interactive development --------------\n",
    "P = {\n",
    "    \"pipeline.data_lake_root\": \"/pipeline-outputs/data-lake\",\n",
    "    \"task.nr_train_images\": 600,\n",
    "}"
   ]
  },
  {
   "cell_type": "code",
   "execution_count": 2,
   "id": "fb349333",
   "metadata": {
    "execution": {
     "iopub.execute_input": "2022-07-09T06:45:37.122780Z",
     "iopub.status.busy": "2022-07-09T06:45:37.122552Z",
     "iopub.status.idle": "2022-07-09T06:45:37.125505Z",
     "shell.execute_reply": "2022-07-09T06:45:37.124859Z"
    },
    "lines_to_next_cell": 0,
    "papermill": {
     "duration": 0.012627,
     "end_time": "2022-07-09T06:45:37.131612",
     "exception": false,
     "start_time": "2022-07-09T06:45:37.118985",
     "status": "completed"
    },
    "tags": [
     "parameters"
    ]
   },
   "outputs": [],
   "source": [
    "# - During automated runs parameters will be injected in the below cell -"
   ]
  },
  {
   "cell_type": "code",
   "execution_count": 3,
   "id": "de123491",
   "metadata": {
    "execution": {
     "iopub.execute_input": "2022-07-09T06:45:37.138247Z",
     "iopub.status.busy": "2022-07-09T06:45:37.138037Z",
     "iopub.status.idle": "2022-07-09T06:45:37.142440Z",
     "shell.execute_reply": "2022-07-09T06:45:37.141947Z"
    },
    "papermill": {
     "duration": 0.010566,
     "end_time": "2022-07-09T06:45:37.144935",
     "exception": false,
     "start_time": "2022-07-09T06:45:37.134369",
     "status": "completed"
    },
    "tags": [
     "injected-parameters"
    ]
   },
   "outputs": [],
   "source": [
    "# Parameters\n",
    "P = {\n",
    "    \"pipeline.data_lake_root\": \"/pipeline-outputs/data-lake\",\n",
    "    \"pipeline.run_environment\": \"ci\",\n",
    "    \"pipeline.pipeline_run_id\": \"9d8ed508-282f-4ff0-b957-e3510667b866\",\n",
    "    \"pipeline.github.repository\": \"pynb-dag-runner/mnist-digits-demo-pipeline\",\n",
    "    \"pipeline.github.workflow\": \"Run automated tests, pipeline and deploy results to static reporting site\",\n",
    "    \"pipeline.github.runner_name\": \"Hosted Agent\",\n",
    "    \"pipeline.github.run_id\": \"2640187557\",\n",
    "    \"pipeline.github.actor\": \"matiasdahl\",\n",
    "    \"pipeline.github.job\": \"run-tests-pipeline-and-persist-pipeline-outputs\",\n",
    "    \"pipeline.github.base_ref\": \"\",\n",
    "    \"pipeline.github.head_ref\": \"\",\n",
    "    \"pipeline.github.sha\": \"147a1be9916173fd4d2cd011d8d51e3411215850\",\n",
    "    \"pipeline.github.ref\": \"refs/heads/development\",\n",
    "    \"pipeline.github.ref_type\": \"branch\",\n",
    "    \"pipeline.github.ref_name\": \"development\",\n",
    "    \"pipeline.github.event_name\": \"schedule\",\n",
    "    \"task.nr_train_images\": 1000,\n",
    "    \"task.notebook\": \"notebooks/train-model.py\",\n",
    "    \"task.max_nr_retries\": \"1\",\n",
    "    \"run.retry_nr\": \"0\",\n",
    "    \"task.timeout_s\": \"None\",\n",
    "    \"task.num_cpus\": 1,\n",
    "    \"_opentelemetry_traceparent\": \"00-1d815c5a09dbffbc1a17484614e87f58-1d24bdb9fd91f431-01\",\n",
    "}\n"
   ]
  },
  {
   "cell_type": "code",
   "execution_count": 4,
   "id": "463afeb4",
   "metadata": {
    "execution": {
     "iopub.execute_input": "2022-07-09T06:45:37.151649Z",
     "iopub.status.busy": "2022-07-09T06:45:37.151313Z",
     "iopub.status.idle": "2022-07-09T06:45:37.154209Z",
     "shell.execute_reply": "2022-07-09T06:45:37.153529Z"
    },
    "lines_to_next_cell": 0,
    "papermill": {
     "duration": 0.008573,
     "end_time": "2022-07-09T06:45:37.156261",
     "exception": false,
     "start_time": "2022-07-09T06:45:37.147688",
     "status": "completed"
    },
    "tags": []
   },
   "outputs": [],
   "source": [
    "# -----------------------------------------------------------------------"
   ]
  },
  {
   "cell_type": "markdown",
   "id": "aa8db402",
   "metadata": {
    "papermill": {
     "duration": 0.002734,
     "end_time": "2022-07-09T06:45:37.161740",
     "exception": false,
     "start_time": "2022-07-09T06:45:37.159006",
     "status": "completed"
    },
    "tags": []
   },
   "source": [
    "---"
   ]
  },
  {
   "cell_type": "markdown",
   "id": "b884cc42",
   "metadata": {
    "lines_to_next_cell": 2,
    "papermill": {
     "duration": 0.002811,
     "end_time": "2022-07-09T06:45:37.167238",
     "exception": false,
     "start_time": "2022-07-09T06:45:37.164427",
     "status": "completed"
    },
    "tags": []
   },
   "source": [
    "### Notebook code"
   ]
  },
  {
   "cell_type": "code",
   "execution_count": 5,
   "id": "278429f2",
   "metadata": {
    "execution": {
     "iopub.execute_input": "2022-07-09T06:45:37.175090Z",
     "iopub.status.busy": "2022-07-09T06:45:37.174816Z",
     "iopub.status.idle": "2022-07-09T06:45:37.643643Z",
     "shell.execute_reply": "2022-07-09T06:45:37.642938Z"
    },
    "papermill": {
     "duration": 0.474537,
     "end_time": "2022-07-09T06:45:37.645700",
     "exception": false,
     "start_time": "2022-07-09T06:45:37.171163",
     "status": "completed"
    },
    "tags": []
   },
   "outputs": [
    {
     "name": "stderr",
     "output_type": "stream",
     "text": [
      "2022-07-09 06:45:37,477\tINFO worker.py:842 -- Connecting to existing Ray cluster at address: 172.17.0.2:6379\n"
     ]
    }
   ],
   "source": [
    "from pynb_dag_runner.tasks.task_opentelemetry_logging import PydarLogger\n",
    "\n",
    "logger = PydarLogger(P)"
   ]
  },
  {
   "cell_type": "markdown",
   "id": "5143d9a5",
   "metadata": {
    "papermill": {
     "duration": 0.003752,
     "end_time": "2022-07-09T06:45:37.653237",
     "exception": false,
     "start_time": "2022-07-09T06:45:37.649485",
     "status": "completed"
    },
    "tags": []
   },
   "source": [
    "## Load and limit train data"
   ]
  },
  {
   "cell_type": "code",
   "execution_count": 6,
   "id": "a952598e",
   "metadata": {
    "execution": {
     "iopub.execute_input": "2022-07-09T06:45:37.660832Z",
     "iopub.status.busy": "2022-07-09T06:45:37.660474Z",
     "iopub.status.idle": "2022-07-09T06:45:38.065780Z",
     "shell.execute_reply": "2022-07-09T06:45:38.065173Z"
    },
    "papermill": {
     "duration": 0.411581,
     "end_time": "2022-07-09T06:45:38.067597",
     "exception": false,
     "start_time": "2022-07-09T06:45:37.656016",
     "status": "completed"
    },
    "tags": []
   },
   "outputs": [],
   "source": [
    "def load_and_limit_train_data(P):\n",
    "    from common.io import datalake_root, read_numpy\n",
    "    from sklearn.model_selection import train_test_split\n",
    "\n",
    "    X_train_all = read_numpy(datalake_root(P) / \"train-data\" / \"digits.numpy\")\n",
    "    y_train_all = read_numpy(datalake_root(P) / \"train-data\" / \"labels.numpy\")\n",
    "\n",
    "    assert isinstance(P[\"task.nr_train_images\"], int)\n",
    "\n",
    "    # Note: train_test_split will fail if split is 0 or 100%.\n",
    "    assert 0 < P[\"task.nr_train_images\"] < len(y_train_all)\n",
    "\n",
    "    X_train, _, y_train, _ = train_test_split(\n",
    "        X_train_all,\n",
    "        y_train_all,\n",
    "        train_size=P[\"task.nr_train_images\"],\n",
    "        test_size=None,\n",
    "        stratify=y_train_all,\n",
    "        shuffle=True,\n",
    "        random_state=123,\n",
    "    )\n",
    "\n",
    "    assert X_train.shape == (len(y_train), 8 * 8)\n",
    "    return X_train, y_train\n",
    "\n",
    "\n",
    "X_train, y_train = load_and_limit_train_data(P)"
   ]
  },
  {
   "cell_type": "markdown",
   "id": "21d8ab8f",
   "metadata": {
    "papermill": {
     "duration": 0.003325,
     "end_time": "2022-07-09T06:45:38.075976",
     "exception": false,
     "start_time": "2022-07-09T06:45:38.072651",
     "status": "completed"
    },
    "tags": []
   },
   "source": [
    "## Train support vector classifier model\n",
    "\n",
    "Below we assume that the hyperparameter $C$ is known.\n",
    "\n",
    "However, this should ideally be found by a hyperparameter search. That could be\n",
    "done in parallel on the Ray cluster, but this needs some more work. Ie., to use\n",
    "multiple cores in the notebook, those cores should be reserved when starting the\n",
    "notebook task (TODO).\n",
    "\n",
    "- https://docs.ray.io/en/latest/tune/key-concepts.html\n",
    "\n",
    "Note: cv-scores would need to be computed here, since they depend on the train data.\n",
    "After this notebook only the onnx-model is available."
   ]
  },
  {
   "cell_type": "code",
   "execution_count": 7,
   "id": "c272b716",
   "metadata": {
    "execution": {
     "iopub.execute_input": "2022-07-09T06:45:38.083400Z",
     "iopub.status.busy": "2022-07-09T06:45:38.083123Z",
     "iopub.status.idle": "2022-07-09T06:45:38.104591Z",
     "shell.execute_reply": "2022-07-09T06:45:38.103886Z"
    },
    "papermill": {
     "duration": 0.027376,
     "end_time": "2022-07-09T06:45:38.106254",
     "exception": false,
     "start_time": "2022-07-09T06:45:38.078878",
     "status": "completed"
    },
    "tags": []
   },
   "outputs": [],
   "source": [
    "from sklearn.svm import SVC"
   ]
  },
  {
   "cell_type": "code",
   "execution_count": 8,
   "id": "9df8dfd4",
   "metadata": {
    "execution": {
     "iopub.execute_input": "2022-07-09T06:45:38.118215Z",
     "iopub.status.busy": "2022-07-09T06:45:38.117801Z",
     "iopub.status.idle": "2022-07-09T06:45:38.295407Z",
     "shell.execute_reply": "2022-07-09T06:45:38.294884Z"
    },
    "papermill": {
     "duration": 0.187485,
     "end_time": "2022-07-09T06:45:38.297156",
     "exception": false,
     "start_time": "2022-07-09T06:45:38.109671",
     "status": "completed"
    },
    "tags": []
   },
   "outputs": [
    {
     "data": {
      "text/plain": [
       "SVC(C=0.001, kernel='linear', probability=True)"
      ]
     },
     "execution_count": 8,
     "metadata": {},
     "output_type": "execute_result"
    }
   ],
   "source": [
    "model = SVC(C=0.001, kernel=\"linear\", probability=True)\n",
    "\n",
    "model.fit(X_train, y_train)"
   ]
  },
  {
   "cell_type": "markdown",
   "id": "178b69e1",
   "metadata": {
    "papermill": {
     "duration": 0.003883,
     "end_time": "2022-07-09T06:45:38.304601",
     "exception": false,
     "start_time": "2022-07-09T06:45:38.300718",
     "status": "completed"
    },
    "tags": []
   },
   "source": [
    "### Q: Can the labels returned by `predict(..)` be computed from probabilities returned by the `predict_prob`-method?"
   ]
  },
  {
   "cell_type": "code",
   "execution_count": 9,
   "id": "115cebb7",
   "metadata": {
    "execution": {
     "iopub.execute_input": "2022-07-09T06:45:38.312452Z",
     "iopub.status.busy": "2022-07-09T06:45:38.312186Z",
     "iopub.status.idle": "2022-07-09T06:45:38.401017Z",
     "shell.execute_reply": "2022-07-09T06:45:38.400490Z"
    },
    "papermill": {
     "duration": 0.094665,
     "end_time": "2022-07-09T06:45:38.402613",
     "exception": false,
     "start_time": "2022-07-09T06:45:38.307948",
     "status": "completed"
    },
    "tags": []
   },
   "outputs": [
    {
     "name": "stdout",
     "output_type": "stream",
     "text": [
      " - Logging nr_max_prob_neq_label (int) : 1\n"
     ]
    }
   ],
   "source": [
    "import numpy as np\n",
    "\n",
    "y_train_labels = model.predict(X_train)\n",
    "y_train_probabilities = model.predict_proba(X_train)\n",
    "assert y_train_probabilities.shape == (len(y_train), 10)\n",
    "\n",
    "y_train_max_prob_labels = np.argmax(y_train_probabilities, axis=1)\n",
    "assert y_train_labels.shape == y_train_max_prob_labels.shape == y_train.shape\n",
    "\n",
    "# If the predicted labels would coincide with the labels that have\n",
    "# maximum probability, the below number would be zero\n",
    "logger.log_int(\n",
    "    \"nr_max_prob_neq_label\", int(sum(y_train_max_prob_labels != y_train_labels))\n",
    ")"
   ]
  },
  {
   "cell_type": "markdown",
   "id": "f0f884f1",
   "metadata": {
    "papermill": {
     "duration": 0.003415,
     "end_time": "2022-07-09T06:45:38.409452",
     "exception": false,
     "start_time": "2022-07-09T06:45:38.406037",
     "status": "completed"
    },
    "tags": []
   },
   "source": [
    "The explanation is (likely) explained in the SVC source, see\n",
    "[here](https://github.com/scikit-learn/scikit-learn/blob/main/sklearn/svm/_base.py).\n",
    "Namely, the outputs from `predict(..)` and `predict_proba(..)` may not in some\n",
    "cases be compatible since the latter is computed using cross-validation while\n",
    "the former is not. Thus, the above number need not be zero."
   ]
  },
  {
   "cell_type": "markdown",
   "id": "0597d759",
   "metadata": {
    "papermill": {
     "duration": 0.003215,
     "end_time": "2022-07-09T06:45:38.415759",
     "exception": false,
     "start_time": "2022-07-09T06:45:38.412544",
     "status": "completed"
    },
    "tags": []
   },
   "source": [
    "## Persist model"
   ]
  },
  {
   "cell_type": "code",
   "execution_count": 10,
   "id": "f2a15005",
   "metadata": {
    "execution": {
     "iopub.execute_input": "2022-07-09T06:45:38.424608Z",
     "iopub.status.busy": "2022-07-09T06:45:38.424344Z",
     "iopub.status.idle": "2022-07-09T06:45:39.182032Z",
     "shell.execute_reply": "2022-07-09T06:45:39.181447Z"
    },
    "papermill": {
     "duration": 0.764996,
     "end_time": "2022-07-09T06:45:39.183954",
     "exception": false,
     "start_time": "2022-07-09T06:45:38.418958",
     "status": "completed"
    },
    "tags": []
   },
   "outputs": [],
   "source": [
    "from skl2onnx import convert_sklearn\n",
    "from skl2onnx.common.data_types import FloatTensorType\n",
    "\n",
    "#\n",
    "from common.io import datalake_root, write_onnx"
   ]
  },
  {
   "cell_type": "code",
   "execution_count": 11,
   "id": "f36515e8",
   "metadata": {
    "execution": {
     "iopub.execute_input": "2022-07-09T06:45:39.193512Z",
     "iopub.status.busy": "2022-07-09T06:45:39.192565Z",
     "iopub.status.idle": "2022-07-09T06:45:39.253410Z",
     "shell.execute_reply": "2022-07-09T06:45:39.252810Z"
    },
    "papermill": {
     "duration": 0.06711,
     "end_time": "2022-07-09T06:45:39.255290",
     "exception": false,
     "start_time": "2022-07-09T06:45:39.188180",
     "status": "completed"
    },
    "tags": []
   },
   "outputs": [],
   "source": [
    "# convert sklearn model into onnx and persist to data lake\n",
    "\n",
    "model_onnx = convert_sklearn(\n",
    "    model, initial_types=[(\"float_input_8x8_image\", FloatTensorType([None, 8 * 8]))]\n",
    ")\n",
    "write_onnx(\n",
    "    datalake_root(P)\n",
    "    / \"models\"\n",
    "    / f\"nr_train_images={P['task.nr_train_images']}\"\n",
    "    / \"model.onnx\",\n",
    "    model_onnx,\n",
    ")"
   ]
  },
  {
   "cell_type": "code",
   "execution_count": null,
   "id": "167f96ca",
   "metadata": {
    "papermill": {
     "duration": 0.00357,
     "end_time": "2022-07-09T06:45:39.263299",
     "exception": false,
     "start_time": "2022-07-09T06:45:39.259729",
     "status": "completed"
    },
    "tags": []
   },
   "outputs": [],
   "source": []
  }
 ],
 "metadata": {
  "jupytext": {
   "cell_metadata_filter": "tags,-all",
   "main_language": "python",
   "notebook_metadata_filter": "-all"
  },
  "language_info": {
   "codemirror_mode": {
    "name": "ipython",
    "version": 3
   },
   "file_extension": ".py",
   "mimetype": "text/x-python",
   "name": "python",
   "nbconvert_exporter": "python",
   "pygments_lexer": "ipython3",
   "version": "3.8.10"
  },
  "papermill": {
   "default_parameters": {},
   "duration": 4.441617,
   "end_time": "2022-07-09T06:45:40.291023",
   "environment_variables": {},
   "exception": null,
   "input_path": "/home/host_user/workspace/mnist-demo-pipeline/mnist-demo-pipeline/notebooks/temp-notebook-cy7br3dm.ipynb",
   "output_path": "notebooks/train-model.ipynb",
   "parameters": {
    "P": {
     "_opentelemetry_traceparent": "00-1d815c5a09dbffbc1a17484614e87f58-1d24bdb9fd91f431-01",
     "pipeline.data_lake_root": "/pipeline-outputs/data-lake",
     "pipeline.github.actor": "matiasdahl",
     "pipeline.github.base_ref": "",
     "pipeline.github.event_name": "schedule",
     "pipeline.github.head_ref": "",
     "pipeline.github.job": "run-tests-pipeline-and-persist-pipeline-outputs",
     "pipeline.github.ref": "refs/heads/development",
     "pipeline.github.ref_name": "development",
     "pipeline.github.ref_type": "branch",
     "pipeline.github.repository": "pynb-dag-runner/mnist-digits-demo-pipeline",
     "pipeline.github.run_id": "2640187557",
     "pipeline.github.runner_name": "Hosted Agent",
     "pipeline.github.sha": "147a1be9916173fd4d2cd011d8d51e3411215850",
     "pipeline.github.workflow": "Run automated tests, pipeline and deploy results to static reporting site",
     "pipeline.pipeline_run_id": "9d8ed508-282f-4ff0-b957-e3510667b866",
     "pipeline.run_environment": "ci",
     "run.retry_nr": "0",
     "task.max_nr_retries": "1",
     "task.notebook": "notebooks/train-model.py",
     "task.nr_train_images": 1000,
     "task.num_cpus": 1,
     "task.timeout_s": "None"
    }
   },
   "start_time": "2022-07-09T06:45:35.849406",
   "version": "2.3.3"
  }
 },
 "nbformat": 4,
 "nbformat_minor": 5
}