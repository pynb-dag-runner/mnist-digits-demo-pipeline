{
 "cells": [
  {
   "cell_type": "markdown",
   "id": "a0501327",
   "metadata": {
    "papermill": {
     "duration": 0.028834,
     "end_time": "2022-07-09T06:46:08.924168",
     "exception": false,
     "start_time": "2022-07-09T06:46:08.895334",
     "status": "completed"
    },
    "tags": []
   },
   "source": [
    "# Summarize model performances\n",
    "\n",
    "This notebooks plots the performances (using averaged ROC AUC scores) for models\n",
    "trained with different training sets."
   ]
  },
  {
   "cell_type": "markdown",
   "id": "b45f2942",
   "metadata": {
    "papermill": {
     "duration": 0.002786,
     "end_time": "2022-07-09T06:46:08.930053",
     "exception": false,
     "start_time": "2022-07-09T06:46:08.927267",
     "status": "completed"
    },
    "tags": []
   },
   "source": [
    "### Determine run parameters"
   ]
  },
  {
   "cell_type": "code",
   "execution_count": 1,
   "id": "c3153dd5",
   "metadata": {
    "execution": {
     "iopub.execute_input": "2022-07-09T06:46:08.937589Z",
     "iopub.status.busy": "2022-07-09T06:46:08.936817Z",
     "iopub.status.idle": "2022-07-09T06:46:08.944508Z",
     "shell.execute_reply": "2022-07-09T06:46:08.943870Z"
    },
    "lines_to_next_cell": 0,
    "papermill": {
     "duration": 0.013571,
     "end_time": "2022-07-09T06:46:08.946306",
     "exception": false,
     "start_time": "2022-07-09T06:46:08.932735",
     "status": "completed"
    },
    "tags": []
   },
   "outputs": [],
   "source": [
    "# ----------------- Parameters for interactive development --------------\n",
    "P = {\n",
    "    \"pipeline.run_environment\": \"dev\",\n",
    "}"
   ]
  },
  {
   "cell_type": "code",
   "execution_count": 2,
   "id": "682a0e9c",
   "metadata": {
    "execution": {
     "iopub.execute_input": "2022-07-09T06:46:08.955115Z",
     "iopub.status.busy": "2022-07-09T06:46:08.954725Z",
     "iopub.status.idle": "2022-07-09T06:46:08.957661Z",
     "shell.execute_reply": "2022-07-09T06:46:08.957218Z"
    },
    "lines_to_next_cell": 0,
    "papermill": {
     "duration": 0.010245,
     "end_time": "2022-07-09T06:46:08.959768",
     "exception": false,
     "start_time": "2022-07-09T06:46:08.949523",
     "status": "completed"
    },
    "tags": [
     "parameters"
    ]
   },
   "outputs": [],
   "source": [
    "# - During automated runs parameters will be injected in the below cell -"
   ]
  },
  {
   "cell_type": "code",
   "execution_count": 3,
   "id": "cffcd1f7",
   "metadata": {
    "execution": {
     "iopub.execute_input": "2022-07-09T06:46:08.967223Z",
     "iopub.status.busy": "2022-07-09T06:46:08.967000Z",
     "iopub.status.idle": "2022-07-09T06:46:08.971286Z",
     "shell.execute_reply": "2022-07-09T06:46:08.970646Z"
    },
    "papermill": {
     "duration": 0.009815,
     "end_time": "2022-07-09T06:46:08.972963",
     "exception": false,
     "start_time": "2022-07-09T06:46:08.963148",
     "status": "completed"
    },
    "tags": [
     "injected-parameters"
    ]
   },
   "outputs": [],
   "source": [
    "# Parameters\n",
    "P = {\n",
    "    \"pipeline.data_lake_root\": \"/pipeline-outputs/data-lake\",\n",
    "    \"pipeline.run_environment\": \"ci\",\n",
    "    \"pipeline.pipeline_run_id\": \"9d8ed508-282f-4ff0-b957-e3510667b866\",\n",
    "    \"pipeline.github.repository\": \"pynb-dag-runner/mnist-digits-demo-pipeline\",\n",
    "    \"pipeline.github.workflow\": \"Run automated tests, pipeline and deploy results to static reporting site\",\n",
    "    \"pipeline.github.runner_name\": \"Hosted Agent\",\n",
    "    \"pipeline.github.run_id\": \"2640187557\",\n",
    "    \"pipeline.github.actor\": \"matiasdahl\",\n",
    "    \"pipeline.github.job\": \"run-tests-pipeline-and-persist-pipeline-outputs\",\n",
    "    \"pipeline.github.base_ref\": \"\",\n",
    "    \"pipeline.github.head_ref\": \"\",\n",
    "    \"pipeline.github.sha\": \"147a1be9916173fd4d2cd011d8d51e3411215850\",\n",
    "    \"pipeline.github.ref\": \"refs/heads/development\",\n",
    "    \"pipeline.github.ref_type\": \"branch\",\n",
    "    \"pipeline.github.ref_name\": \"development\",\n",
    "    \"pipeline.github.event_name\": \"schedule\",\n",
    "    \"task.notebook\": \"notebooks/summary.py\",\n",
    "    \"task.max_nr_retries\": \"1\",\n",
    "    \"run.retry_nr\": \"0\",\n",
    "    \"task.timeout_s\": \"None\",\n",
    "    \"task.num_cpus\": 1,\n",
    "    \"_opentelemetry_traceparent\": \"00-1d815c5a09dbffbc1a17484614e87f58-4436d2c8c1127797-01\",\n",
    "}\n"
   ]
  },
  {
   "cell_type": "code",
   "execution_count": 4,
   "id": "d5b61a5a",
   "metadata": {
    "execution": {
     "iopub.execute_input": "2022-07-09T06:46:08.979240Z",
     "iopub.status.busy": "2022-07-09T06:46:08.978826Z",
     "iopub.status.idle": "2022-07-09T06:46:08.981994Z",
     "shell.execute_reply": "2022-07-09T06:46:08.981334Z"
    },
    "lines_to_next_cell": 0,
    "papermill": {
     "duration": 0.007731,
     "end_time": "2022-07-09T06:46:08.983314",
     "exception": false,
     "start_time": "2022-07-09T06:46:08.975583",
     "status": "completed"
    },
    "tags": []
   },
   "outputs": [],
   "source": [
    "# -----------------------------------------------------------------------"
   ]
  },
  {
   "cell_type": "markdown",
   "id": "bb24a269",
   "metadata": {
    "papermill": {
     "duration": 0.00261,
     "end_time": "2022-07-09T06:46:08.988479",
     "exception": false,
     "start_time": "2022-07-09T06:46:08.985869",
     "status": "completed"
    },
    "tags": []
   },
   "source": [
    "---"
   ]
  },
  {
   "cell_type": "markdown",
   "id": "7bc93c5f",
   "metadata": {
    "lines_to_next_cell": 2,
    "papermill": {
     "duration": 0.002467,
     "end_time": "2022-07-09T06:46:08.993880",
     "exception": false,
     "start_time": "2022-07-09T06:46:08.991413",
     "status": "completed"
    },
    "tags": []
   },
   "source": [
    "### Notebook code"
   ]
  },
  {
   "cell_type": "code",
   "execution_count": 5,
   "id": "8ed66d4a",
   "metadata": {
    "execution": {
     "iopub.execute_input": "2022-07-09T06:46:09.000873Z",
     "iopub.status.busy": "2022-07-09T06:46:09.000087Z",
     "iopub.status.idle": "2022-07-09T06:46:10.072751Z",
     "shell.execute_reply": "2022-07-09T06:46:10.072034Z"
    },
    "papermill": {
     "duration": 1.078246,
     "end_time": "2022-07-09T06:46:10.074477",
     "exception": false,
     "start_time": "2022-07-09T06:46:08.996231",
     "status": "completed"
    },
    "tags": []
   },
   "outputs": [],
   "source": [
    "#\n",
    "import pandas as pd\n",
    "import matplotlib.pyplot as plt\n",
    "\n",
    "#\n",
    "from pynb_dag_runner.tasks.task_opentelemetry_logging import PydarLogger"
   ]
  },
  {
   "cell_type": "code",
   "execution_count": 6,
   "id": "8bef519f",
   "metadata": {
    "execution": {
     "iopub.execute_input": "2022-07-09T06:46:10.082466Z",
     "iopub.status.busy": "2022-07-09T06:46:10.082128Z",
     "iopub.status.idle": "2022-07-09T06:46:10.237516Z",
     "shell.execute_reply": "2022-07-09T06:46:10.236385Z"
    },
    "papermill": {
     "duration": 0.161345,
     "end_time": "2022-07-09T06:46:10.239243",
     "exception": false,
     "start_time": "2022-07-09T06:46:10.077898",
     "status": "completed"
    },
    "tags": []
   },
   "outputs": [
    {
     "name": "stderr",
     "output_type": "stream",
     "text": [
      "2022-07-09 06:46:10,086\tINFO worker.py:842 -- Connecting to existing Ray cluster at address: 172.17.0.2:6379\n"
     ]
    }
   ],
   "source": [
    "logger = PydarLogger(P=P)"
   ]
  },
  {
   "cell_type": "code",
   "execution_count": 7,
   "id": "f1417b4e",
   "metadata": {
    "execution": {
     "iopub.execute_input": "2022-07-09T06:46:10.246174Z",
     "iopub.status.busy": "2022-07-09T06:46:10.245931Z",
     "iopub.status.idle": "2022-07-09T06:46:10.249018Z",
     "shell.execute_reply": "2022-07-09T06:46:10.248520Z"
    },
    "papermill": {
     "duration": 0.008318,
     "end_time": "2022-07-09T06:46:10.250564",
     "exception": false,
     "start_time": "2022-07-09T06:46:10.242246",
     "status": "completed"
    },
    "tags": []
   },
   "outputs": [],
   "source": [
    "from pynb_dag_runner.tasks.task_opentelemetry_logging import (\n",
    "    PydarLogger,\n",
    "    get_logged_values,\n",
    ")\n",
    "from pynb_dag_runner.opentelemetry_helpers import _get_all_spans, Spans"
   ]
  },
  {
   "cell_type": "code",
   "execution_count": 8,
   "id": "68ddeb7e",
   "metadata": {
    "execution": {
     "iopub.execute_input": "2022-07-09T06:46:10.257701Z",
     "iopub.status.busy": "2022-07-09T06:46:10.257299Z",
     "iopub.status.idle": "2022-07-09T06:46:10.263920Z",
     "shell.execute_reply": "2022-07-09T06:46:10.263190Z"
    },
    "papermill": {
     "duration": 0.011799,
     "end_time": "2022-07-09T06:46:10.265441",
     "exception": false,
     "start_time": "2022-07-09T06:46:10.253642",
     "status": "completed"
    },
    "tags": []
   },
   "outputs": [],
   "source": [
    "def get_model_benchmarks():\n",
    "    \"\"\"\n",
    "    Query the OpenTelemetry logs for *this pipeline run* and return\n",
    "    all key-values logged from all runs of the benchmark-model.py task\n",
    "\n",
    "    For testing a json file with OpenTelemetry spans (as an array)\n",
    "    can be used as follows:\n",
    "\n",
    "    - Create output directory `mkdir /tmp/spans`\n",
    "    - Run unit tests. This will create pipeline-outputs/opentelemetry-spans.json\n",
    "    - Convert this json-array into jsonl format as follows\n",
    "\n",
    "    jq -c '.[]' /pipeline-outputs/opentelemetry-spans.json > /tmp/spans/data.txt\n",
    "\n",
    "    \"\"\"\n",
    "    spans: Spans = Spans(_get_all_spans())\n",
    "    print(f\"Found {len(spans)} spans\")\n",
    "\n",
    "    benchmark_spans = (\n",
    "        spans\n",
    "        # -\n",
    "        .filter([\"name\"], \"execute-task\")\n",
    "        # -\n",
    "        .filter([\"attributes\", \"task.notebook\"], \"notebooks/benchmark-model.py\")\n",
    "    )\n",
    "\n",
    "    result = []\n",
    "    for s in benchmark_spans:\n",
    "        result.append(\n",
    "            {\n",
    "                \"span_id\": s[\"context\"][\"span_id\"],\n",
    "                \"nr_train_images\": s[\"attributes\"][\"task.nr_train_images\"],\n",
    "                \"data\": get_logged_values(spans.bound_under(s)),\n",
    "            }\n",
    "        )\n",
    "\n",
    "    return result\n",
    "\n",
    "\n",
    "def adjust_pandas(df):\n",
    "    def column_renamer(col_name: str) -> str:\n",
    "        return (\n",
    "            col_name\n",
    "            # -- 'data.roc_auc_per_digit.4' -> 'roc_auc.4'\n",
    "            .replace(\"data.roc_auc_per_digit\", \"roc_auc\")\n",
    "            # -- 'data.roc_auc_class_mean' -> 'roc_auc_mean'\n",
    "            .replace(\"data.roc_auc_class_mean\", \"roc_auc_mean\")\n",
    "        )\n",
    "\n",
    "    return df.rename(column_renamer, axis=\"columns\").sort_values(by=\"nr_train_images\")"
   ]
  },
  {
   "cell_type": "code",
   "execution_count": 9,
   "id": "10f749d4",
   "metadata": {
    "execution": {
     "iopub.execute_input": "2022-07-09T06:46:10.272051Z",
     "iopub.status.busy": "2022-07-09T06:46:10.271661Z",
     "iopub.status.idle": "2022-07-09T06:46:30.330902Z",
     "shell.execute_reply": "2022-07-09T06:46:30.330250Z"
    },
    "papermill": {
     "duration": 20.064512,
     "end_time": "2022-07-09T06:46:30.332717",
     "exception": false,
     "start_time": "2022-07-09T06:46:10.268205",
     "status": "completed"
    },
    "tags": []
   },
   "outputs": [
    {
     "name": "stdout",
     "output_type": "stream",
     "text": [
      "Found 420 spans\n"
     ]
    }
   ],
   "source": [
    "df_data = adjust_pandas(pd.json_normalize(get_model_benchmarks()))"
   ]
  },
  {
   "cell_type": "code",
   "execution_count": 10,
   "id": "9daad898",
   "metadata": {
    "execution": {
     "iopub.execute_input": "2022-07-09T06:46:30.342391Z",
     "iopub.status.busy": "2022-07-09T06:46:30.342143Z",
     "iopub.status.idle": "2022-07-09T06:46:30.368347Z",
     "shell.execute_reply": "2022-07-09T06:46:30.367711Z"
    },
    "papermill": {
     "duration": 0.031532,
     "end_time": "2022-07-09T06:46:30.369753",
     "exception": false,
     "start_time": "2022-07-09T06:46:30.338221",
     "status": "completed"
    },
    "tags": []
   },
   "outputs": [
    {
     "data": {
      "text/html": [
       "<div>\n",
       "<style scoped>\n",
       "    .dataframe tbody tr th:only-of-type {\n",
       "        vertical-align: middle;\n",
       "    }\n",
       "\n",
       "    .dataframe tbody tr th {\n",
       "        vertical-align: top;\n",
       "    }\n",
       "\n",
       "    .dataframe thead th {\n",
       "        text-align: right;\n",
       "    }\n",
       "</style>\n",
       "<table border=\"1\" class=\"dataframe\">\n",
       "  <thead>\n",
       "    <tr style=\"text-align: right;\">\n",
       "      <th></th>\n",
       "      <th>span_id</th>\n",
       "      <th>nr_train_images</th>\n",
       "      <th>roc_auc_mean</th>\n",
       "      <th>roc_auc.0</th>\n",
       "      <th>roc_auc.1</th>\n",
       "      <th>roc_auc.2</th>\n",
       "      <th>roc_auc.3</th>\n",
       "      <th>roc_auc.4</th>\n",
       "      <th>roc_auc.5</th>\n",
       "      <th>roc_auc.6</th>\n",
       "      <th>roc_auc.7</th>\n",
       "      <th>roc_auc.8</th>\n",
       "      <th>roc_auc.9</th>\n",
       "    </tr>\n",
       "  </thead>\n",
       "  <tbody>\n",
       "    <tr>\n",
       "      <th>3</th>\n",
       "      <td>0x1003849c72cdc7b5</td>\n",
       "      <td>600</td>\n",
       "      <td>0.9991</td>\n",
       "      <td>1.0</td>\n",
       "      <td>0.9993</td>\n",
       "      <td>1.0</td>\n",
       "      <td>0.9999</td>\n",
       "      <td>0.9990</td>\n",
       "      <td>0.9990</td>\n",
       "      <td>1.0000</td>\n",
       "      <td>0.9998</td>\n",
       "      <td>0.9950</td>\n",
       "      <td>0.9987</td>\n",
       "    </tr>\n",
       "    <tr>\n",
       "      <th>0</th>\n",
       "      <td>0xcb599490499a82b4</td>\n",
       "      <td>800</td>\n",
       "      <td>0.9990</td>\n",
       "      <td>1.0</td>\n",
       "      <td>0.9988</td>\n",
       "      <td>1.0</td>\n",
       "      <td>0.9999</td>\n",
       "      <td>0.9995</td>\n",
       "      <td>0.9991</td>\n",
       "      <td>1.0000</td>\n",
       "      <td>0.9999</td>\n",
       "      <td>0.9933</td>\n",
       "      <td>0.9994</td>\n",
       "    </tr>\n",
       "    <tr>\n",
       "      <th>1</th>\n",
       "      <td>0xd1c43d9e7c3586e3</td>\n",
       "      <td>1000</td>\n",
       "      <td>0.9992</td>\n",
       "      <td>1.0</td>\n",
       "      <td>0.9990</td>\n",
       "      <td>1.0</td>\n",
       "      <td>0.9998</td>\n",
       "      <td>0.9996</td>\n",
       "      <td>0.9994</td>\n",
       "      <td>0.9999</td>\n",
       "      <td>0.9998</td>\n",
       "      <td>0.9951</td>\n",
       "      <td>0.9996</td>\n",
       "    </tr>\n",
       "    <tr>\n",
       "      <th>2</th>\n",
       "      <td>0xe748260052ac869d</td>\n",
       "      <td>1200</td>\n",
       "      <td>0.9994</td>\n",
       "      <td>1.0</td>\n",
       "      <td>0.9991</td>\n",
       "      <td>1.0</td>\n",
       "      <td>0.9999</td>\n",
       "      <td>0.9997</td>\n",
       "      <td>0.9997</td>\n",
       "      <td>0.9999</td>\n",
       "      <td>0.9998</td>\n",
       "      <td>0.9959</td>\n",
       "      <td>0.9998</td>\n",
       "    </tr>\n",
       "  </tbody>\n",
       "</table>\n",
       "</div>"
      ],
      "text/plain": [
       "              span_id  nr_train_images  roc_auc_mean  roc_auc.0  roc_auc.1  \\\n",
       "3  0x1003849c72cdc7b5              600        0.9991        1.0     0.9993   \n",
       "0  0xcb599490499a82b4              800        0.9990        1.0     0.9988   \n",
       "1  0xd1c43d9e7c3586e3             1000        0.9992        1.0     0.9990   \n",
       "2  0xe748260052ac869d             1200        0.9994        1.0     0.9991   \n",
       "\n",
       "   roc_auc.2  roc_auc.3  roc_auc.4  roc_auc.5  roc_auc.6  roc_auc.7  \\\n",
       "3        1.0     0.9999     0.9990     0.9990     1.0000     0.9998   \n",
       "0        1.0     0.9999     0.9995     0.9991     1.0000     0.9999   \n",
       "1        1.0     0.9998     0.9996     0.9994     0.9999     0.9998   \n",
       "2        1.0     0.9999     0.9997     0.9997     0.9999     0.9998   \n",
       "\n",
       "   roc_auc.8  roc_auc.9  \n",
       "3     0.9950     0.9987  \n",
       "0     0.9933     0.9994  \n",
       "1     0.9951     0.9996  \n",
       "2     0.9959     0.9998  "
      ]
     },
     "execution_count": 10,
     "metadata": {},
     "output_type": "execute_result"
    }
   ],
   "source": [
    "df_data.round(4)"
   ]
  },
  {
   "cell_type": "code",
   "execution_count": 11,
   "id": "4b775a45",
   "metadata": {
    "execution": {
     "iopub.execute_input": "2022-07-09T06:46:30.377714Z",
     "iopub.status.busy": "2022-07-09T06:46:30.377200Z",
     "iopub.status.idle": "2022-07-09T06:46:30.526181Z",
     "shell.execute_reply": "2022-07-09T06:46:30.525510Z"
    },
    "papermill": {
     "duration": 0.155036,
     "end_time": "2022-07-09T06:46:30.527738",
     "exception": false,
     "start_time": "2022-07-09T06:46:30.372702",
     "status": "completed"
    },
    "tags": []
   },
   "outputs": [
    {
     "data": {
      "image/png": "[encoded data removed]",
      "text/plain": [
       "<Figure size 1152x288 with 1 Axes>"
      ]
     },
     "metadata": {
      "needs_background": "light"
     },
     "output_type": "display_data"
    }
   ],
   "source": [
    "def plot_classifier_performance_summary(df_data):\n",
    "    fig, ax = plt.subplots(nrows=1, ncols=1, figsize=(16, 4), sharex=True)\n",
    "\n",
    "    #\n",
    "    ax.plot(\n",
    "        df_data[\"nr_train_images\"], df_data[\"roc_auc_mean\"], marker=\"o\", linestyle=\"--\"\n",
    "    )\n",
    "    ax.set_title(\n",
    "        f\"ROC AUC digit classifier performance on evaluation digits\", fontsize=17\n",
    "    )\n",
    "    ax.set_xlabel(\"Total number of digits in training set\", fontsize=14)\n",
    "    ax.set_ylabel(\"Mean ROC AUC\", fontsize=14)\n",
    "\n",
    "    fig.tight_layout()\n",
    "    fig.show()\n",
    "\n",
    "    return fig\n",
    "\n",
    "\n",
    "fig = plot_classifier_performance_summary(df_data)"
   ]
  },
  {
   "cell_type": "code",
   "execution_count": 12,
   "id": "b652ec6c",
   "metadata": {
    "execution": {
     "iopub.execute_input": "2022-07-09T06:46:30.536722Z",
     "iopub.status.busy": "2022-07-09T06:46:30.536267Z",
     "iopub.status.idle": "2022-07-09T06:46:30.593473Z",
     "shell.execute_reply": "2022-07-09T06:46:30.592775Z"
    },
    "papermill": {
     "duration": 0.063653,
     "end_time": "2022-07-09T06:46:30.595505",
     "exception": false,
     "start_time": "2022-07-09T06:46:30.531852",
     "status": "completed"
    },
    "tags": []
   },
   "outputs": [],
   "source": [
    "logger.log_figure(\"auc-roc-model-performances.png\", fig)"
   ]
  },
  {
   "cell_type": "code",
   "execution_count": 13,
   "id": "10ae0997",
   "metadata": {
    "execution": {
     "iopub.execute_input": "2022-07-09T06:46:30.604724Z",
     "iopub.status.busy": "2022-07-09T06:46:30.604099Z",
     "iopub.status.idle": "2022-07-09T06:46:30.608148Z",
     "shell.execute_reply": "2022-07-09T06:46:30.607544Z"
    },
    "papermill": {
     "duration": 0.010402,
     "end_time": "2022-07-09T06:46:30.609435",
     "exception": false,
     "start_time": "2022-07-09T06:46:30.599033",
     "status": "completed"
    },
    "tags": []
   },
   "outputs": [],
   "source": [
    "###"
   ]
  },
  {
   "cell_type": "code",
   "execution_count": null,
   "id": "b765751b",
   "metadata": {
    "papermill": {
     "duration": 0.003566,
     "end_time": "2022-07-09T06:46:30.616713",
     "exception": false,
     "start_time": "2022-07-09T06:46:30.613147",
     "status": "completed"
    },
    "tags": []
   },
   "outputs": [],
   "source": []
  }
 ],
 "metadata": {
  "jupytext": {
   "cell_metadata_filter": "tags,-all",
   "main_language": "python",
   "notebook_metadata_filter": "-all"
  },
  "language_info": {
   "codemirror_mode": {
    "name": "ipython",
    "version": 3
   },
   "file_extension": ".py",
   "mimetype": "text/x-python",
   "name": "python",
   "nbconvert_exporter": "python",
   "pygments_lexer": "ipython3",
   "version": "3.8.10"
  },
  "papermill": {
   "default_parameters": {},
   "duration": 23.880256,
   "end_time": "2022-07-09T06:46:31.538250",
   "environment_variables": {},
   "exception": null,
   "input_path": "/home/host_user/workspace/mnist-demo-pipeline/mnist-demo-pipeline/notebooks/temp-notebook-i_ap07yf.ipynb",
   "output_path": "notebooks/summary.ipynb",
   "parameters": {
    "P": {
     "_opentelemetry_traceparent": "00-1d815c5a09dbffbc1a17484614e87f58-4436d2c8c1127797-01",
     "pipeline.data_lake_root": "/pipeline-outputs/data-lake",
     "pipeline.github.actor": "matiasdahl",
     "pipeline.github.base_ref": "",
     "pipeline.github.event_name": "schedule",
     "pipeline.github.head_ref": "",
     "pipeline.github.job": "run-tests-pipeline-and-persist-pipeline-outputs",
     "pipeline.github.ref": "refs/heads/development",
     "pipeline.github.ref_name": "development",
     "pipeline.github.ref_type": "branch",
     "pipeline.github.repository": "pynb-dag-runner/mnist-digits-demo-pipeline",
     "pipeline.github.run_id": "2640187557",
     "pipeline.github.runner_name": "Hosted Agent",
     "pipeline.github.sha": "147a1be9916173fd4d2cd011d8d51e3411215850",
     "pipeline.github.workflow": "Run automated tests, pipeline and deploy results to static reporting site",
     "pipeline.pipeline_run_id": "9d8ed508-282f-4ff0-b957-e3510667b866",
     "pipeline.run_environment": "ci",
     "run.retry_nr": "0",
     "task.max_nr_retries": "1",
     "task.notebook": "notebooks/summary.py",
     "task.num_cpus": 1,
     "task.timeout_s": "None"
    }
   },
   "start_time": "2022-07-09T06:46:07.657994",
   "version": "2.3.3"
  }
 },
 "nbformat": 4,
 "nbformat_minor": 5
}