{
 "cells": [
  {
   "cell_type": "markdown",
   "id": "c8f9fbf5",
   "metadata": {
    "papermill": {
     "duration": 0.00649,
     "end_time": "2022-07-09T06:45:27.870955",
     "exception": false,
     "start_time": "2022-07-09T06:45:27.864465",
     "status": "completed"
    },
    "tags": []
   },
   "source": [
    "# Split digits and labels into separate training and testing data sets"
   ]
  },
  {
   "cell_type": "markdown",
   "id": "6ed9118b",
   "metadata": {
    "papermill": {
     "duration": 0.006469,
     "end_time": "2022-07-09T06:45:27.880019",
     "exception": false,
     "start_time": "2022-07-09T06:45:27.873550",
     "status": "completed"
    },
    "tags": []
   },
   "source": [
    "### Determine run parameters"
   ]
  },
  {
   "cell_type": "code",
   "execution_count": 1,
   "id": "1c88efd6",
   "metadata": {
    "execution": {
     "iopub.execute_input": "2022-07-09T06:45:27.886640Z",
     "iopub.status.busy": "2022-07-09T06:45:27.886324Z",
     "iopub.status.idle": "2022-07-09T06:45:27.895193Z",
     "shell.execute_reply": "2022-07-09T06:45:27.894648Z"
    },
    "lines_to_next_cell": 0,
    "papermill": {
     "duration": 0.014592,
     "end_time": "2022-07-09T06:45:27.896890",
     "exception": false,
     "start_time": "2022-07-09T06:45:27.882298",
     "status": "completed"
    },
    "tags": []
   },
   "outputs": [],
   "source": [
    "# ----------------- Parameters for interactive development --------------\n",
    "P = {\n",
    "    \"pipeline.data_lake_root\": \"/pipeline-outputs/data-lake\",\n",
    "    \"task.train_test_ratio\": 0.7,\n",
    "}"
   ]
  },
  {
   "cell_type": "code",
   "execution_count": 2,
   "id": "2bda0144",
   "metadata": {
    "execution": {
     "iopub.execute_input": "2022-07-09T06:45:27.909257Z",
     "iopub.status.busy": "2022-07-09T06:45:27.909009Z",
     "iopub.status.idle": "2022-07-09T06:45:27.912103Z",
     "shell.execute_reply": "2022-07-09T06:45:27.911434Z"
    },
    "lines_to_next_cell": 0,
    "papermill": {
     "duration": 0.01131,
     "end_time": "2022-07-09T06:45:27.914516",
     "exception": false,
     "start_time": "2022-07-09T06:45:27.903206",
     "status": "completed"
    },
    "tags": [
     "parameters"
    ]
   },
   "outputs": [],
   "source": [
    "# - During automated runs parameters will be injected in the below cell -"
   ]
  },
  {
   "cell_type": "code",
   "execution_count": 3,
   "id": "75a65e25",
   "metadata": {
    "execution": {
     "iopub.execute_input": "2022-07-09T06:45:27.926632Z",
     "iopub.status.busy": "2022-07-09T06:45:27.926396Z",
     "iopub.status.idle": "2022-07-09T06:45:27.930901Z",
     "shell.execute_reply": "2022-07-09T06:45:27.930378Z"
    },
    "papermill": {
     "duration": 0.012872,
     "end_time": "2022-07-09T06:45:27.932179",
     "exception": false,
     "start_time": "2022-07-09T06:45:27.919307",
     "status": "completed"
    },
    "tags": [
     "injected-parameters"
    ]
   },
   "outputs": [],
   "source": [
    "# Parameters\n",
    "P = {\n",
    "    \"pipeline.data_lake_root\": \"/pipeline-outputs/data-lake\",\n",
    "    \"pipeline.run_environment\": \"ci\",\n",
    "    \"pipeline.pipeline_run_id\": \"9d8ed508-282f-4ff0-b957-e3510667b866\",\n",
    "    \"pipeline.github.repository\": \"pynb-dag-runner/mnist-digits-demo-pipeline\",\n",
    "    \"pipeline.github.workflow\": \"Run automated tests, pipeline and deploy results to static reporting site\",\n",
    "    \"pipeline.github.runner_name\": \"Hosted Agent\",\n",
    "    \"pipeline.github.run_id\": \"2640187557\",\n",
    "    \"pipeline.github.actor\": \"matiasdahl\",\n",
    "    \"pipeline.github.job\": \"run-tests-pipeline-and-persist-pipeline-outputs\",\n",
    "    \"pipeline.github.base_ref\": \"\",\n",
    "    \"pipeline.github.head_ref\": \"\",\n",
    "    \"pipeline.github.sha\": \"147a1be9916173fd4d2cd011d8d51e3411215850\",\n",
    "    \"pipeline.github.ref\": \"refs/heads/development\",\n",
    "    \"pipeline.github.ref_type\": \"branch\",\n",
    "    \"pipeline.github.ref_name\": \"development\",\n",
    "    \"pipeline.github.event_name\": \"schedule\",\n",
    "    \"task.train_test_ratio\": 0.7,\n",
    "    \"task.notebook\": \"notebooks/split-train-test.py\",\n",
    "    \"task.max_nr_retries\": \"1\",\n",
    "    \"run.retry_nr\": \"0\",\n",
    "    \"task.timeout_s\": \"None\",\n",
    "    \"task.num_cpus\": 1,\n",
    "    \"_opentelemetry_traceparent\": \"00-1d815c5a09dbffbc1a17484614e87f58-7d9b09a689742523-01\",\n",
    "}\n"
   ]
  },
  {
   "cell_type": "code",
   "execution_count": 4,
   "id": "dff5e2e2",
   "metadata": {
    "execution": {
     "iopub.execute_input": "2022-07-09T06:45:27.941708Z",
     "iopub.status.busy": "2022-07-09T06:45:27.941493Z",
     "iopub.status.idle": "2022-07-09T06:45:27.944204Z",
     "shell.execute_reply": "2022-07-09T06:45:27.943701Z"
    },
    "lines_to_next_cell": 0,
    "papermill": {
     "duration": 0.012892,
     "end_time": "2022-07-09T06:45:27.948374",
     "exception": false,
     "start_time": "2022-07-09T06:45:27.935482",
     "status": "completed"
    },
    "tags": []
   },
   "outputs": [],
   "source": [
    "# -----------------------------------------------------------------------"
   ]
  },
  {
   "cell_type": "markdown",
   "id": "22725edf",
   "metadata": {
    "papermill": {
     "duration": 0.005398,
     "end_time": "2022-07-09T06:45:27.956707",
     "exception": false,
     "start_time": "2022-07-09T06:45:27.951309",
     "status": "completed"
    },
    "tags": []
   },
   "source": [
    "---"
   ]
  },
  {
   "cell_type": "markdown",
   "id": "9a932407",
   "metadata": {
    "lines_to_next_cell": 2,
    "papermill": {
     "duration": 0.002201,
     "end_time": "2022-07-09T06:45:27.965151",
     "exception": false,
     "start_time": "2022-07-09T06:45:27.962950",
     "status": "completed"
    },
    "tags": []
   },
   "source": [
    "### Notebook code"
   ]
  },
  {
   "cell_type": "code",
   "execution_count": 5,
   "id": "563139e3",
   "metadata": {
    "execution": {
     "iopub.execute_input": "2022-07-09T06:45:27.979081Z",
     "iopub.status.busy": "2022-07-09T06:45:27.978817Z",
     "iopub.status.idle": "2022-07-09T06:45:28.673496Z",
     "shell.execute_reply": "2022-07-09T06:45:28.672879Z"
    },
    "papermill": {
     "duration": 0.701307,
     "end_time": "2022-07-09T06:45:28.676552",
     "exception": false,
     "start_time": "2022-07-09T06:45:27.975245",
     "status": "completed"
    },
    "tags": []
   },
   "outputs": [
    {
     "name": "stderr",
     "output_type": "stream",
     "text": [
      "2022-07-09 06:45:28,468\tINFO worker.py:842 -- Connecting to existing Ray cluster at address: 172.17.0.2:6379\n"
     ]
    }
   ],
   "source": [
    "from common.io import datalake_root, read_numpy, write_numpy\n",
    "from pynb_dag_runner.tasks.task_opentelemetry_logging import PydarLogger\n",
    "\n",
    "logger = PydarLogger(P)"
   ]
  },
  {
   "cell_type": "markdown",
   "id": "edbf4cc3",
   "metadata": {
    "papermill": {
     "duration": 0.003137,
     "end_time": "2022-07-09T06:45:28.682154",
     "exception": false,
     "start_time": "2022-07-09T06:45:28.679017",
     "status": "completed"
    },
    "tags": []
   },
   "source": [
    "## Load and split digits data"
   ]
  },
  {
   "cell_type": "code",
   "execution_count": 6,
   "id": "62d3de1f",
   "metadata": {
    "execution": {
     "iopub.execute_input": "2022-07-09T06:45:28.690673Z",
     "iopub.status.busy": "2022-07-09T06:45:28.690012Z",
     "iopub.status.idle": "2022-07-09T06:45:28.695390Z",
     "shell.execute_reply": "2022-07-09T06:45:28.694868Z"
    },
    "papermill": {
     "duration": 0.013492,
     "end_time": "2022-07-09T06:45:28.698064",
     "exception": false,
     "start_time": "2022-07-09T06:45:28.684572",
     "status": "completed"
    },
    "tags": []
   },
   "outputs": [],
   "source": [
    "X = read_numpy(datalake_root(P) / \"raw\" / \"digits.numpy\")\n",
    "y = read_numpy(datalake_root(P) / \"raw\" / \"labels.numpy\")"
   ]
  },
  {
   "cell_type": "code",
   "execution_count": 7,
   "id": "e42988f6",
   "metadata": {
    "execution": {
     "iopub.execute_input": "2022-07-09T06:45:28.704748Z",
     "iopub.status.busy": "2022-07-09T06:45:28.704511Z",
     "iopub.status.idle": "2022-07-09T06:45:29.142260Z",
     "shell.execute_reply": "2022-07-09T06:45:29.141687Z"
    },
    "papermill": {
     "duration": 0.443925,
     "end_time": "2022-07-09T06:45:29.144461",
     "exception": false,
     "start_time": "2022-07-09T06:45:28.700536",
     "status": "completed"
    },
    "tags": []
   },
   "outputs": [
    {
     "name": "stderr",
     "output_type": "stream",
     "text": [
      "2022-07-09 06:45:28,728\tWARNING worker.py:1245 -- (ip=172.17.0.2) The agent on node 340918b2987c failed to be restarted 5 times. There are 3 possible problems if you see this error.\n",
      "  1. The dashboard might not display correct information on this node.\n",
      "  2. Metrics on this node won't be reported.\n",
      "  3. runtime_env APIs won't work.\n",
      "Check out the `dashboard_agent.log` to see the detailed failure messages.\n"
     ]
    }
   ],
   "source": [
    "from sklearn.model_selection import train_test_split\n",
    "\n",
    "X_train, X_test, y_train, y_test = train_test_split(\n",
    "    X,\n",
    "    y,\n",
    "    train_size=P[\"task.train_test_ratio\"],\n",
    "    test_size=None,\n",
    "    stratify=y,\n",
    "    shuffle=True,\n",
    "    random_state=1,\n",
    ")\n",
    "\n",
    "# assert nr of pixels per image is the same for all image vectors\n",
    "assert X.shape[1] == X_train.shape[1] == X_test.shape[1]\n",
    "\n",
    "# assert that the (X, y)-pairs have compatible sizes (for both train and test)\n",
    "assert X_train.shape[0] == len(y_train)\n",
    "assert X_test.shape[0] == len(y_test)\n",
    "\n",
    "# assert that all data is used\n",
    "assert len(y) == len(y_train) + len(y_test)"
   ]
  },
  {
   "cell_type": "code",
   "execution_count": 8,
   "id": "6a20d9f3",
   "metadata": {
    "execution": {
     "iopub.execute_input": "2022-07-09T06:45:29.151182Z",
     "iopub.status.busy": "2022-07-09T06:45:29.150747Z",
     "iopub.status.idle": "2022-07-09T06:45:29.156085Z",
     "shell.execute_reply": "2022-07-09T06:45:29.155553Z"
    },
    "papermill": {
     "duration": 0.0135,
     "end_time": "2022-07-09T06:45:29.160635",
     "exception": false,
     "start_time": "2022-07-09T06:45:29.147135",
     "status": "completed"
    },
    "tags": []
   },
   "outputs": [
    {
     "name": "stdout",
     "output_type": "stream",
     "text": [
      " - Logging nr_digits_train (int) : 1257\n",
      " - Logging nr_digits_test (int) : 540\n"
     ]
    }
   ],
   "source": [
    "logger.log_int(\"nr_digits_train\", len(y_train))\n",
    "logger.log_int(\"nr_digits_test\", len(y_test))"
   ]
  },
  {
   "cell_type": "markdown",
   "id": "f753284f",
   "metadata": {
    "papermill": {
     "duration": 0.003452,
     "end_time": "2022-07-09T06:45:29.166727",
     "exception": false,
     "start_time": "2022-07-09T06:45:29.163275",
     "status": "completed"
    },
    "tags": []
   },
   "source": [
    "### Persist training and test data sets to separate files"
   ]
  },
  {
   "cell_type": "code",
   "execution_count": 9,
   "id": "f7d52407",
   "metadata": {
    "execution": {
     "iopub.execute_input": "2022-07-09T06:45:29.173555Z",
     "iopub.status.busy": "2022-07-09T06:45:29.173303Z",
     "iopub.status.idle": "2022-07-09T06:45:29.179322Z",
     "shell.execute_reply": "2022-07-09T06:45:29.178689Z"
    },
    "papermill": {
     "duration": 0.011907,
     "end_time": "2022-07-09T06:45:29.181756",
     "exception": false,
     "start_time": "2022-07-09T06:45:29.169849",
     "status": "completed"
    },
    "tags": []
   },
   "outputs": [],
   "source": [
    "write_numpy(datalake_root(P) / \"train-data\" / \"digits.numpy\", X_train)\n",
    "write_numpy(datalake_root(P) / \"train-data\" / \"labels.numpy\", y_train)\n",
    "\n",
    "#\n",
    "write_numpy(datalake_root(P) / \"test-data\" / \"digits.numpy\", X_test)\n",
    "write_numpy(datalake_root(P) / \"test-data\" / \"labels.numpy\", y_test)"
   ]
  },
  {
   "cell_type": "code",
   "execution_count": null,
   "id": "5347eaac",
   "metadata": {
    "papermill": {
     "duration": 0.003652,
     "end_time": "2022-07-09T06:45:29.188034",
     "exception": false,
     "start_time": "2022-07-09T06:45:29.184382",
     "status": "completed"
    },
    "tags": []
   },
   "outputs": [],
   "source": []
  }
 ],
 "metadata": {
  "jupytext": {
   "cell_metadata_filter": "tags,-all",
   "main_language": "python",
   "notebook_metadata_filter": "-all"
  },
  "language_info": {
   "codemirror_mode": {
    "name": "ipython",
    "version": 3
   },
   "file_extension": ".py",
   "mimetype": "text/x-python",
   "name": "python",
   "nbconvert_exporter": "python",
   "pygments_lexer": "ipython3",
   "version": "3.8.10"
  },
  "papermill": {
   "default_parameters": {},
   "duration": 3.545635,
   "end_time": "2022-07-09T06:45:30.014680",
   "environment_variables": {},
   "exception": null,
   "input_path": "/home/host_user/workspace/mnist-demo-pipeline/mnist-demo-pipeline/notebooks/temp-notebook-vxhzued2.ipynb",
   "output_path": "notebooks/split-train-test.ipynb",
   "parameters": {
    "P": {
     "_opentelemetry_traceparent": "00-1d815c5a09dbffbc1a17484614e87f58-7d9b09a689742523-01",
     "pipeline.data_lake_root": "/pipeline-outputs/data-lake",
     "pipeline.github.actor": "matiasdahl",
     "pipeline.github.base_ref": "",
     "pipeline.github.event_name": "schedule",
     "pipeline.github.head_ref": "",
     "pipeline.github.job": "run-tests-pipeline-and-persist-pipeline-outputs",
     "pipeline.github.ref": "refs/heads/development",
     "pipeline.github.ref_name": "development",
     "pipeline.github.ref_type": "branch",
     "pipeline.github.repository": "pynb-dag-runner/mnist-digits-demo-pipeline",
     "pipeline.github.run_id": "2640187557",
     "pipeline.github.runner_name": "Hosted Agent",
     "pipeline.github.sha": "147a1be9916173fd4d2cd011d8d51e3411215850",
     "pipeline.github.workflow": "Run automated tests, pipeline and deploy results to static reporting site",
     "pipeline.pipeline_run_id": "9d8ed508-282f-4ff0-b957-e3510667b866",
     "pipeline.run_environment": "ci",
     "run.retry_nr": "0",
     "task.max_nr_retries": "1",
     "task.notebook": "notebooks/split-train-test.py",
     "task.num_cpus": 1,
     "task.timeout_s": "None",
     "task.train_test_ratio": 0.7
    }
   },
   "start_time": "2022-07-09T06:45:26.469045",
   "version": "2.3.3"
  }
 },
 "nbformat": 4,
 "nbformat_minor": 5
}