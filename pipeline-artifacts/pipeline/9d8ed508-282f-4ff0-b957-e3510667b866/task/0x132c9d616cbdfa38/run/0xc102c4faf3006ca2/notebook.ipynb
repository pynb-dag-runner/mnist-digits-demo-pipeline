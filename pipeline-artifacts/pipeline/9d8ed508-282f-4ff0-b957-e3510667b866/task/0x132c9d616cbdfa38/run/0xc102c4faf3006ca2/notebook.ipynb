{
 "cells": [
  {
   "cell_type": "markdown",
   "id": "4092daaa",
   "metadata": {
    "papermill": {
     "duration": 0.00427,
     "end_time": "2022-07-09T06:45:38.954129",
     "exception": false,
     "start_time": "2022-07-09T06:45:38.949859",
     "status": "completed"
    },
    "tags": []
   },
   "source": [
    "# Train model\n",
    "\n",
    "The purpose of this notebook is:\n",
    "\n",
    "- Load all training data (images and labels).\n",
    "- Limit number of train images to `task.nr_train_images` (value provided as run parameter).\n",
    "- Train a support vector machine model using sklearn.\n",
    "- Persist the trained model using the ONNX format."
   ]
  },
  {
   "cell_type": "markdown",
   "id": "cf2f4666",
   "metadata": {
    "papermill": {
     "duration": 0.002601,
     "end_time": "2022-07-09T06:45:38.959863",
     "exception": false,
     "start_time": "2022-07-09T06:45:38.957262",
     "status": "completed"
    },
    "tags": []
   },
   "source": [
    "### Determine run parameters"
   ]
  },
  {
   "cell_type": "code",
   "execution_count": 1,
   "id": "baadfa59",
   "metadata": {
    "execution": {
     "iopub.execute_input": "2022-07-09T06:45:38.967040Z",
     "iopub.status.busy": "2022-07-09T06:45:38.966659Z",
     "iopub.status.idle": "2022-07-09T06:45:38.975720Z",
     "shell.execute_reply": "2022-07-09T06:45:38.974878Z"
    },
    "lines_to_next_cell": 0,
    "papermill": {
     "duration": 0.015469,
     "end_time": "2022-07-09T06:45:38.978157",
     "exception": false,
     "start_time": "2022-07-09T06:45:38.962688",
     "status": "completed"
    },
    "tags": []
   },
   "outputs": [],
   "source": [
    "# ----------------- Parameters for interactive development --------------\n",
    "P = {\n",
    "    \"pipeline.data_lake_root\": \"/pipeline-outputs/data-lake\",\n",
    "    \"task.nr_train_images\": 600,\n",
    "}"
   ]
  },
  {
   "cell_type": "code",
   "execution_count": 2,
   "id": "4dc2b322",
   "metadata": {
    "execution": {
     "iopub.execute_input": "2022-07-09T06:45:38.985291Z",
     "iopub.status.busy": "2022-07-09T06:45:38.985060Z",
     "iopub.status.idle": "2022-07-09T06:45:38.988053Z",
     "shell.execute_reply": "2022-07-09T06:45:38.987490Z"
    },
    "lines_to_next_cell": 0,
    "papermill": {
     "duration": 0.009366,
     "end_time": "2022-07-09T06:45:38.990498",
     "exception": false,
     "start_time": "2022-07-09T06:45:38.981132",
     "status": "completed"
    },
    "tags": [
     "parameters"
    ]
   },
   "outputs": [],
   "source": [
    "# - During automated runs parameters will be injected in the below cell -"
   ]
  },
  {
   "cell_type": "code",
   "execution_count": 3,
   "id": "2516bad3",
   "metadata": {
    "execution": {
     "iopub.execute_input": "2022-07-09T06:45:38.997826Z",
     "iopub.status.busy": "2022-07-09T06:45:38.997594Z",
     "iopub.status.idle": "2022-07-09T06:45:39.002055Z",
     "shell.execute_reply": "2022-07-09T06:45:39.001529Z"
    },
    "papermill": {
     "duration": 0.011716,
     "end_time": "2022-07-09T06:45:39.005287",
     "exception": false,
     "start_time": "2022-07-09T06:45:38.993571",
     "status": "completed"
    },
    "tags": [
     "injected-parameters"
    ]
   },
   "outputs": [],
   "source": [
    "# Parameters\n",
    "P = {\n",
    "    \"pipeline.data_lake_root\": \"/pipeline-outputs/data-lake\",\n",
    "    \"pipeline.run_environment\": \"ci\",\n",
    "    \"pipeline.pipeline_run_id\": \"9d8ed508-282f-4ff0-b957-e3510667b866\",\n",
    "    \"pipeline.github.repository\": \"pynb-dag-runner/mnist-digits-demo-pipeline\",\n",
    "    \"pipeline.github.workflow\": \"Run automated tests, pipeline and deploy results to static reporting site\",\n",
    "    \"pipeline.github.runner_name\": \"Hosted Agent\",\n",
    "    \"pipeline.github.run_id\": \"2640187557\",\n",
    "    \"pipeline.github.actor\": \"matiasdahl\",\n",
    "    \"pipeline.github.job\": \"run-tests-pipeline-and-persist-pipeline-outputs\",\n",
    "    \"pipeline.github.base_ref\": \"\",\n",
    "    \"pipeline.github.head_ref\": \"\",\n",
    "    \"pipeline.github.sha\": \"147a1be9916173fd4d2cd011d8d51e3411215850\",\n",
    "    \"pipeline.github.ref\": \"refs/heads/development\",\n",
    "    \"pipeline.github.ref_type\": \"branch\",\n",
    "    \"pipeline.github.ref_name\": \"development\",\n",
    "    \"pipeline.github.event_name\": \"schedule\",\n",
    "    \"task.nr_train_images\": 800,\n",
    "    \"task.notebook\": \"notebooks/train-model.py\",\n",
    "    \"task.max_nr_retries\": \"1\",\n",
    "    \"run.retry_nr\": \"0\",\n",
    "    \"task.timeout_s\": \"None\",\n",
    "    \"task.num_cpus\": 1,\n",
    "    \"_opentelemetry_traceparent\": \"00-1d815c5a09dbffbc1a17484614e87f58-a0b37442996f5dae-01\",\n",
    "}\n"
   ]
  },
  {
   "cell_type": "code",
   "execution_count": 4,
   "id": "31832e8a",
   "metadata": {
    "execution": {
     "iopub.execute_input": "2022-07-09T06:45:39.012395Z",
     "iopub.status.busy": "2022-07-09T06:45:39.012184Z",
     "iopub.status.idle": "2022-07-09T06:45:39.015295Z",
     "shell.execute_reply": "2022-07-09T06:45:39.014705Z"
    },
    "lines_to_next_cell": 0,
    "papermill": {
     "duration": 0.009193,
     "end_time": "2022-07-09T06:45:39.017879",
     "exception": false,
     "start_time": "2022-07-09T06:45:39.008686",
     "status": "completed"
    },
    "tags": []
   },
   "outputs": [],
   "source": [
    "# -----------------------------------------------------------------------"
   ]
  },
  {
   "cell_type": "markdown",
   "id": "f6975eb4",
   "metadata": {
    "papermill": {
     "duration": 0.003321,
     "end_time": "2022-07-09T06:45:39.024256",
     "exception": false,
     "start_time": "2022-07-09T06:45:39.020935",
     "status": "completed"
    },
    "tags": []
   },
   "source": [
    "---"
   ]
  },
  {
   "cell_type": "markdown",
   "id": "cf2397d0",
   "metadata": {
    "lines_to_next_cell": 2,
    "papermill": {
     "duration": 0.003389,
     "end_time": "2022-07-09T06:45:39.030690",
     "exception": false,
     "start_time": "2022-07-09T06:45:39.027301",
     "status": "completed"
    },
    "tags": []
   },
   "source": [
    "### Notebook code"
   ]
  },
  {
   "cell_type": "code",
   "execution_count": 5,
   "id": "f99ef934",
   "metadata": {
    "execution": {
     "iopub.execute_input": "2022-07-09T06:45:39.038013Z",
     "iopub.status.busy": "2022-07-09T06:45:39.037757Z",
     "iopub.status.idle": "2022-07-09T06:45:39.499337Z",
     "shell.execute_reply": "2022-07-09T06:45:39.498702Z"
    },
    "papermill": {
     "duration": 0.46762,
     "end_time": "2022-07-09T06:45:39.500981",
     "exception": false,
     "start_time": "2022-07-09T06:45:39.033361",
     "status": "completed"
    },
    "tags": []
   },
   "outputs": [
    {
     "name": "stderr",
     "output_type": "stream",
     "text": [
      "2022-07-09 06:45:39,348\tINFO worker.py:842 -- Connecting to existing Ray cluster at address: 172.17.0.2:6379\n"
     ]
    }
   ],
   "source": [
    "from pynb_dag_runner.tasks.task_opentelemetry_logging import PydarLogger\n",
    "\n",
    "logger = PydarLogger(P)"
   ]
  },
  {
   "cell_type": "markdown",
   "id": "679856c2",
   "metadata": {
    "papermill": {
     "duration": 0.003158,
     "end_time": "2022-07-09T06:45:39.507694",
     "exception": false,
     "start_time": "2022-07-09T06:45:39.504536",
     "status": "completed"
    },
    "tags": []
   },
   "source": [
    "## Load and limit train data"
   ]
  },
  {
   "cell_type": "code",
   "execution_count": 6,
   "id": "4114451e",
   "metadata": {
    "execution": {
     "iopub.execute_input": "2022-07-09T06:45:39.515601Z",
     "iopub.status.busy": "2022-07-09T06:45:39.514898Z",
     "iopub.status.idle": "2022-07-09T06:45:39.861583Z",
     "shell.execute_reply": "2022-07-09T06:45:39.860982Z"
    },
    "papermill": {
     "duration": 0.354475,
     "end_time": "2022-07-09T06:45:39.865329",
     "exception": false,
     "start_time": "2022-07-09T06:45:39.510854",
     "status": "completed"
    },
    "tags": []
   },
   "outputs": [],
   "source": [
    "def load_and_limit_train_data(P):\n",
    "    from common.io import datalake_root, read_numpy\n",
    "    from sklearn.model_selection import train_test_split\n",
    "\n",
    "    X_train_all = read_numpy(datalake_root(P) / \"train-data\" / \"digits.numpy\")\n",
    "    y_train_all = read_numpy(datalake_root(P) / \"train-data\" / \"labels.numpy\")\n",
    "\n",
    "    assert isinstance(P[\"task.nr_train_images\"], int)\n",
    "\n",
    "    # Note: train_test_split will fail if split is 0 or 100%.\n",
    "    assert 0 < P[\"task.nr_train_images\"] < len(y_train_all)\n",
    "\n",
    "    X_train, _, y_train, _ = train_test_split(\n",
    "        X_train_all,\n",
    "        y_train_all,\n",
    "        train_size=P[\"task.nr_train_images\"],\n",
    "        test_size=None,\n",
    "        stratify=y_train_all,\n",
    "        shuffle=True,\n",
    "        random_state=123,\n",
    "    )\n",
    "\n",
    "    assert X_train.shape == (len(y_train), 8 * 8)\n",
    "    return X_train, y_train\n",
    "\n",
    "\n",
    "X_train, y_train = load_and_limit_train_data(P)"
   ]
  },
  {
   "cell_type": "markdown",
   "id": "57292a10",
   "metadata": {
    "papermill": {
     "duration": 0.003192,
     "end_time": "2022-07-09T06:45:39.874031",
     "exception": false,
     "start_time": "2022-07-09T06:45:39.870839",
     "status": "completed"
    },
    "tags": []
   },
   "source": [
    "## Train support vector classifier model\n",
    "\n",
    "Below we assume that the hyperparameter $C$ is known.\n",
    "\n",
    "However, this should ideally be found by a hyperparameter search. That could be\n",
    "done in parallel on the Ray cluster, but this needs some more work. Ie., to use\n",
    "multiple cores in the notebook, those cores should be reserved when starting the\n",
    "notebook task (TODO).\n",
    "\n",
    "- https://docs.ray.io/en/latest/tune/key-concepts.html\n",
    "\n",
    "Note: cv-scores would need to be computed here, since they depend on the train data.\n",
    "After this notebook only the onnx-model is available."
   ]
  },
  {
   "cell_type": "code",
   "execution_count": 7,
   "id": "c8dd3bd8",
   "metadata": {
    "execution": {
     "iopub.execute_input": "2022-07-09T06:45:39.882688Z",
     "iopub.status.busy": "2022-07-09T06:45:39.882408Z",
     "iopub.status.idle": "2022-07-09T06:45:39.902583Z",
     "shell.execute_reply": "2022-07-09T06:45:39.901978Z"
    },
    "papermill": {
     "duration": 0.026872,
     "end_time": "2022-07-09T06:45:39.904242",
     "exception": false,
     "start_time": "2022-07-09T06:45:39.877370",
     "status": "completed"
    },
    "tags": []
   },
   "outputs": [],
   "source": [
    "from sklearn.svm import SVC"
   ]
  },
  {
   "cell_type": "code",
   "execution_count": 8,
   "id": "768fa48d",
   "metadata": {
    "execution": {
     "iopub.execute_input": "2022-07-09T06:45:39.919916Z",
     "iopub.status.busy": "2022-07-09T06:45:39.918289Z",
     "iopub.status.idle": "2022-07-09T06:45:40.053475Z",
     "shell.execute_reply": "2022-07-09T06:45:40.052884Z"
    },
    "papermill": {
     "duration": 0.14717,
     "end_time": "2022-07-09T06:45:40.054939",
     "exception": false,
     "start_time": "2022-07-09T06:45:39.907769",
     "status": "completed"
    },
    "tags": []
   },
   "outputs": [
    {
     "data": {
      "text/plain": [
       "SVC(C=0.001, kernel='linear', probability=True)"
      ]
     },
     "execution_count": 8,
     "metadata": {},
     "output_type": "execute_result"
    }
   ],
   "source": [
    "model = SVC(C=0.001, kernel=\"linear\", probability=True)\n",
    "\n",
    "model.fit(X_train, y_train)"
   ]
  },
  {
   "cell_type": "markdown",
   "id": "4e7ee3c9",
   "metadata": {
    "papermill": {
     "duration": 0.003637,
     "end_time": "2022-07-09T06:45:40.061834",
     "exception": false,
     "start_time": "2022-07-09T06:45:40.058197",
     "status": "completed"
    },
    "tags": []
   },
   "source": [
    "### Q: Can the labels returned by `predict(..)` be computed from probabilities returned by the `predict_prob`-method?"
   ]
  },
  {
   "cell_type": "code",
   "execution_count": 9,
   "id": "19b65cbc",
   "metadata": {
    "execution": {
     "iopub.execute_input": "2022-07-09T06:45:40.072447Z",
     "iopub.status.busy": "2022-07-09T06:45:40.070022Z",
     "iopub.status.idle": "2022-07-09T06:45:40.135015Z",
     "shell.execute_reply": "2022-07-09T06:45:40.134458Z"
    },
    "papermill": {
     "duration": 0.071875,
     "end_time": "2022-07-09T06:45:40.136655",
     "exception": false,
     "start_time": "2022-07-09T06:45:40.064780",
     "status": "completed"
    },
    "tags": []
   },
   "outputs": [
    {
     "name": "stdout",
     "output_type": "stream",
     "text": [
      " - Logging nr_max_prob_neq_label (int) : 1\n"
     ]
    }
   ],
   "source": [
    "import numpy as np\n",
    "\n",
    "y_train_labels = model.predict(X_train)\n",
    "y_train_probabilities = model.predict_proba(X_train)\n",
    "assert y_train_probabilities.shape == (len(y_train), 10)\n",
    "\n",
    "y_train_max_prob_labels = np.argmax(y_train_probabilities, axis=1)\n",
    "assert y_train_labels.shape == y_train_max_prob_labels.shape == y_train.shape\n",
    "\n",
    "# If the predicted labels would coincide with the labels that have\n",
    "# maximum probability, the below number would be zero\n",
    "logger.log_int(\n",
    "    \"nr_max_prob_neq_label\", int(sum(y_train_max_prob_labels != y_train_labels))\n",
    ")"
   ]
  },
  {
   "cell_type": "markdown",
   "id": "ec07fc38",
   "metadata": {
    "papermill": {
     "duration": 0.004243,
     "end_time": "2022-07-09T06:45:40.144247",
     "exception": false,
     "start_time": "2022-07-09T06:45:40.140004",
     "status": "completed"
    },
    "tags": []
   },
   "source": [
    "The explanation is (likely) explained in the SVC source, see\n",
    "[here](https://github.com/scikit-learn/scikit-learn/blob/main/sklearn/svm/_base.py).\n",
    "Namely, the outputs from `predict(..)` and `predict_proba(..)` may not in some\n",
    "cases be compatible since the latter is computed using cross-validation while\n",
    "the former is not. Thus, the above number need not be zero."
   ]
  },
  {
   "cell_type": "markdown",
   "id": "d0e3791d",
   "metadata": {
    "papermill": {
     "duration": 0.003032,
     "end_time": "2022-07-09T06:45:40.150828",
     "exception": false,
     "start_time": "2022-07-09T06:45:40.147796",
     "status": "completed"
    },
    "tags": []
   },
   "source": [
    "## Persist model"
   ]
  },
  {
   "cell_type": "code",
   "execution_count": 10,
   "id": "832f659a",
   "metadata": {
    "execution": {
     "iopub.execute_input": "2022-07-09T06:45:40.159088Z",
     "iopub.status.busy": "2022-07-09T06:45:40.158821Z",
     "iopub.status.idle": "2022-07-09T06:45:40.925366Z",
     "shell.execute_reply": "2022-07-09T06:45:40.924387Z"
    },
    "papermill": {
     "duration": 0.77234,
     "end_time": "2022-07-09T06:45:40.927135",
     "exception": false,
     "start_time": "2022-07-09T06:45:40.154795",
     "status": "completed"
    },
    "tags": []
   },
   "outputs": [
    {
     "name": "stdout",
     "output_type": "stream",
     "text": [
      "\u001b[2m\u001b[1m\u001b[36m(scheduler +1s)\u001b[0m Tip: use `ray status` to view detailed cluster status. To disable these messages, set RAY_SCHEDULER_EVENTS=0.\n",
      "\u001b[2m\u001b[1m\u001b[33m(scheduler +1s)\u001b[0m Warning: The following resource request cannot be scheduled right now: {'CPU': 1.0}. This is likely due to all cluster resources being claimed by actors. Consider creating fewer actors or adding more nodes to this Ray cluster.\n"
     ]
    }
   ],
   "source": [
    "from skl2onnx import convert_sklearn\n",
    "from skl2onnx.common.data_types import FloatTensorType\n",
    "\n",
    "#\n",
    "from common.io import datalake_root, write_onnx"
   ]
  },
  {
   "cell_type": "code",
   "execution_count": 11,
   "id": "d303c87f",
   "metadata": {
    "execution": {
     "iopub.execute_input": "2022-07-09T06:45:40.936047Z",
     "iopub.status.busy": "2022-07-09T06:45:40.935709Z",
     "iopub.status.idle": "2022-07-09T06:45:40.981683Z",
     "shell.execute_reply": "2022-07-09T06:45:40.981001Z"
    },
    "papermill": {
     "duration": 0.052695,
     "end_time": "2022-07-09T06:45:40.983394",
     "exception": false,
     "start_time": "2022-07-09T06:45:40.930699",
     "status": "completed"
    },
    "tags": []
   },
   "outputs": [],
   "source": [
    "# convert sklearn model into onnx and persist to data lake\n",
    "\n",
    "model_onnx = convert_sklearn(\n",
    "    model, initial_types=[(\"float_input_8x8_image\", FloatTensorType([None, 8 * 8]))]\n",
    ")\n",
    "write_onnx(\n",
    "    datalake_root(P)\n",
    "    / \"models\"\n",
    "    / f\"nr_train_images={P['task.nr_train_images']}\"\n",
    "    / \"model.onnx\",\n",
    "    model_onnx,\n",
    ")"
   ]
  },
  {
   "cell_type": "code",
   "execution_count": null,
   "id": "34c68619",
   "metadata": {
    "papermill": {
     "duration": 0.003407,
     "end_time": "2022-07-09T06:45:40.990672",
     "exception": false,
     "start_time": "2022-07-09T06:45:40.987265",
     "status": "completed"
    },
    "tags": []
   },
   "outputs": [],
   "source": []
  }
 ],
 "metadata": {
  "jupytext": {
   "cell_metadata_filter": "tags,-all",
   "main_language": "python",
   "notebook_metadata_filter": "-all"
  },
  "language_info": {
   "codemirror_mode": {
    "name": "ipython",
    "version": 3
   },
   "file_extension": ".py",
   "mimetype": "text/x-python",
   "name": "python",
   "nbconvert_exporter": "python",
   "pygments_lexer": "ipython3",
   "version": "3.8.10"
  },
  "papermill": {
   "default_parameters": {},
   "duration": 4.461955,
   "end_time": "2022-07-09T06:45:42.119962",
   "environment_variables": {},
   "exception": null,
   "input_path": "/home/host_user/workspace/mnist-demo-pipeline/mnist-demo-pipeline/notebooks/temp-notebook-qt3l2g6d.ipynb",
   "output_path": "notebooks/train-model.ipynb",
   "parameters": {
    "P": {
     "_opentelemetry_traceparent": "00-1d815c5a09dbffbc1a17484614e87f58-a0b37442996f5dae-01",
     "pipeline.data_lake_root": "/pipeline-outputs/data-lake",
     "pipeline.github.actor": "matiasdahl",
     "pipeline.github.base_ref": "",
     "pipeline.github.event_name": "schedule",
     "pipeline.github.head_ref": "",
     "pipeline.github.job": "run-tests-pipeline-and-persist-pipeline-outputs",
     "pipeline.github.ref": "refs/heads/development",
     "pipeline.github.ref_name": "development",
     "pipeline.github.ref_type": "branch",
     "pipeline.github.repository": "pynb-dag-runner/mnist-digits-demo-pipeline",
     "pipeline.github.run_id": "2640187557",
     "pipeline.github.runner_name": "Hosted Agent",
     "pipeline.github.sha": "147a1be9916173fd4d2cd011d8d51e3411215850",
     "pipeline.github.workflow": "Run automated tests, pipeline and deploy results to static reporting site",
     "pipeline.pipeline_run_id": "9d8ed508-282f-4ff0-b957-e3510667b866",
     "pipeline.run_environment": "ci",
     "run.retry_nr": "0",
     "task.max_nr_retries": "1",
     "task.notebook": "notebooks/train-model.py",
     "task.nr_train_images": 800,
     "task.num_cpus": 1,
     "task.timeout_s": "None"
    }
   },
   "start_time": "2022-07-09T06:45:37.658007",
   "version": "2.3.3"
  }
 },
 "nbformat": 4,
 "nbformat_minor": 5
}