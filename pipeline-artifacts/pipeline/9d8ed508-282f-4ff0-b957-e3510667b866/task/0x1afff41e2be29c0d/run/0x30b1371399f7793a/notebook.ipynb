{
 "cells": [
  {
   "cell_type": "markdown",
   "id": "1f8c333f",
   "metadata": {
    "papermill": {
     "duration": 0.003871,
     "end_time": "2022-07-09T06:45:42.703815",
     "exception": false,
     "start_time": "2022-07-09T06:45:42.699944",
     "status": "completed"
    },
    "tags": []
   },
   "source": [
    "# Train model\n",
    "\n",
    "The purpose of this notebook is:\n",
    "\n",
    "- Load all training data (images and labels).\n",
    "- Limit number of train images to `task.nr_train_images` (value provided as run parameter).\n",
    "- Train a support vector machine model using sklearn.\n",
    "- Persist the trained model using the ONNX format."
   ]
  },
  {
   "cell_type": "markdown",
   "id": "cfdfa398",
   "metadata": {
    "papermill": {
     "duration": 0.002693,
     "end_time": "2022-07-09T06:45:42.710150",
     "exception": false,
     "start_time": "2022-07-09T06:45:42.707457",
     "status": "completed"
    },
    "tags": []
   },
   "source": [
    "### Determine run parameters"
   ]
  },
  {
   "cell_type": "code",
   "execution_count": 1,
   "id": "6e928d35",
   "metadata": {
    "execution": {
     "iopub.execute_input": "2022-07-09T06:45:42.717357Z",
     "iopub.status.busy": "2022-07-09T06:45:42.717028Z",
     "iopub.status.idle": "2022-07-09T06:45:42.724437Z",
     "shell.execute_reply": "2022-07-09T06:45:42.723738Z"
    },
    "lines_to_next_cell": 0,
    "papermill": {
     "duration": 0.013252,
     "end_time": "2022-07-09T06:45:42.726024",
     "exception": false,
     "start_time": "2022-07-09T06:45:42.712772",
     "status": "completed"
    },
    "tags": []
   },
   "outputs": [],
   "source": [
    "# ----------------- Parameters for interactive development --------------\n",
    "P = {\n",
    "    \"pipeline.data_lake_root\": \"/pipeline-outputs/data-lake\",\n",
    "    \"task.nr_train_images\": 600,\n",
    "}"
   ]
  },
  {
   "cell_type": "code",
   "execution_count": 2,
   "id": "20b62d7d",
   "metadata": {
    "execution": {
     "iopub.execute_input": "2022-07-09T06:45:42.733776Z",
     "iopub.status.busy": "2022-07-09T06:45:42.732669Z",
     "iopub.status.idle": "2022-07-09T06:45:42.736774Z",
     "shell.execute_reply": "2022-07-09T06:45:42.736210Z"
    },
    "lines_to_next_cell": 0,
    "papermill": {
     "duration": 0.009193,
     "end_time": "2022-07-09T06:45:42.738285",
     "exception": false,
     "start_time": "2022-07-09T06:45:42.729092",
     "status": "completed"
    },
    "tags": [
     "parameters"
    ]
   },
   "outputs": [],
   "source": [
    "# - During automated runs parameters will be injected in the below cell -"
   ]
  },
  {
   "cell_type": "code",
   "execution_count": 3,
   "id": "8d179ba2",
   "metadata": {
    "execution": {
     "iopub.execute_input": "2022-07-09T06:45:42.748322Z",
     "iopub.status.busy": "2022-07-09T06:45:42.747506Z",
     "iopub.status.idle": "2022-07-09T06:45:42.752841Z",
     "shell.execute_reply": "2022-07-09T06:45:42.752263Z"
    },
    "papermill": {
     "duration": 0.013595,
     "end_time": "2022-07-09T06:45:42.754546",
     "exception": false,
     "start_time": "2022-07-09T06:45:42.740951",
     "status": "completed"
    },
    "tags": [
     "injected-parameters"
    ]
   },
   "outputs": [],
   "source": [
    "# Parameters\n",
    "P = {\n",
    "    \"pipeline.data_lake_root\": \"/pipeline-outputs/data-lake\",\n",
    "    \"pipeline.run_environment\": \"ci\",\n",
    "    \"pipeline.pipeline_run_id\": \"9d8ed508-282f-4ff0-b957-e3510667b866\",\n",
    "    \"pipeline.github.repository\": \"pynb-dag-runner/mnist-digits-demo-pipeline\",\n",
    "    \"pipeline.github.workflow\": \"Run automated tests, pipeline and deploy results to static reporting site\",\n",
    "    \"pipeline.github.runner_name\": \"Hosted Agent\",\n",
    "    \"pipeline.github.run_id\": \"2640187557\",\n",
    "    \"pipeline.github.actor\": \"matiasdahl\",\n",
    "    \"pipeline.github.job\": \"run-tests-pipeline-and-persist-pipeline-outputs\",\n",
    "    \"pipeline.github.base_ref\": \"\",\n",
    "    \"pipeline.github.head_ref\": \"\",\n",
    "    \"pipeline.github.sha\": \"147a1be9916173fd4d2cd011d8d51e3411215850\",\n",
    "    \"pipeline.github.ref\": \"refs/heads/development\",\n",
    "    \"pipeline.github.ref_type\": \"branch\",\n",
    "    \"pipeline.github.ref_name\": \"development\",\n",
    "    \"pipeline.github.event_name\": \"schedule\",\n",
    "    \"task.nr_train_images\": 600,\n",
    "    \"task.notebook\": \"notebooks/train-model.py\",\n",
    "    \"task.max_nr_retries\": \"1\",\n",
    "    \"run.retry_nr\": \"0\",\n",
    "    \"task.timeout_s\": \"None\",\n",
    "    \"task.num_cpus\": 1,\n",
    "    \"_opentelemetry_traceparent\": \"00-1d815c5a09dbffbc1a17484614e87f58-90fddc06d311d9d7-01\",\n",
    "}\n"
   ]
  },
  {
   "cell_type": "code",
   "execution_count": 4,
   "id": "016d57b4",
   "metadata": {
    "execution": {
     "iopub.execute_input": "2022-07-09T06:45:42.762041Z",
     "iopub.status.busy": "2022-07-09T06:45:42.761628Z",
     "iopub.status.idle": "2022-07-09T06:45:42.764766Z",
     "shell.execute_reply": "2022-07-09T06:45:42.764107Z"
    },
    "lines_to_next_cell": 0,
    "papermill": {
     "duration": 0.009129,
     "end_time": "2022-07-09T06:45:42.766860",
     "exception": false,
     "start_time": "2022-07-09T06:45:42.757731",
     "status": "completed"
    },
    "tags": []
   },
   "outputs": [],
   "source": [
    "# -----------------------------------------------------------------------"
   ]
  },
  {
   "cell_type": "markdown",
   "id": "abf20609",
   "metadata": {
    "papermill": {
     "duration": 0.003083,
     "end_time": "2022-07-09T06:45:42.773047",
     "exception": false,
     "start_time": "2022-07-09T06:45:42.769964",
     "status": "completed"
    },
    "tags": []
   },
   "source": [
    "---"
   ]
  },
  {
   "cell_type": "markdown",
   "id": "cd8d869c",
   "metadata": {
    "lines_to_next_cell": 2,
    "papermill": {
     "duration": 0.002766,
     "end_time": "2022-07-09T06:45:42.778868",
     "exception": false,
     "start_time": "2022-07-09T06:45:42.776102",
     "status": "completed"
    },
    "tags": []
   },
   "source": [
    "### Notebook code"
   ]
  },
  {
   "cell_type": "code",
   "execution_count": 5,
   "id": "25b2ebb5",
   "metadata": {
    "execution": {
     "iopub.execute_input": "2022-07-09T06:45:42.789355Z",
     "iopub.status.busy": "2022-07-09T06:45:42.788645Z",
     "iopub.status.idle": "2022-07-09T06:45:43.301552Z",
     "shell.execute_reply": "2022-07-09T06:45:43.300843Z"
    },
    "papermill": {
     "duration": 0.520716,
     "end_time": "2022-07-09T06:45:43.303944",
     "exception": false,
     "start_time": "2022-07-09T06:45:42.783228",
     "status": "completed"
    },
    "tags": []
   },
   "outputs": [
    {
     "name": "stderr",
     "output_type": "stream",
     "text": [
      "2022-07-09 06:45:43,126\tINFO worker.py:842 -- Connecting to existing Ray cluster at address: 172.17.0.2:6379\n"
     ]
    }
   ],
   "source": [
    "from pynb_dag_runner.tasks.task_opentelemetry_logging import PydarLogger\n",
    "\n",
    "logger = PydarLogger(P)"
   ]
  },
  {
   "cell_type": "markdown",
   "id": "79bb6fa3",
   "metadata": {
    "papermill": {
     "duration": 0.003336,
     "end_time": "2022-07-09T06:45:43.310664",
     "exception": false,
     "start_time": "2022-07-09T06:45:43.307328",
     "status": "completed"
    },
    "tags": []
   },
   "source": [
    "## Load and limit train data"
   ]
  },
  {
   "cell_type": "code",
   "execution_count": 6,
   "id": "b01ac4f1",
   "metadata": {
    "execution": {
     "iopub.execute_input": "2022-07-09T06:45:43.318130Z",
     "iopub.status.busy": "2022-07-09T06:45:43.317823Z",
     "iopub.status.idle": "2022-07-09T06:45:43.680590Z",
     "shell.execute_reply": "2022-07-09T06:45:43.679836Z"
    },
    "papermill": {
     "duration": 0.368863,
     "end_time": "2022-07-09T06:45:43.682291",
     "exception": false,
     "start_time": "2022-07-09T06:45:43.313428",
     "status": "completed"
    },
    "tags": []
   },
   "outputs": [],
   "source": [
    "def load_and_limit_train_data(P):\n",
    "    from common.io import datalake_root, read_numpy\n",
    "    from sklearn.model_selection import train_test_split\n",
    "\n",
    "    X_train_all = read_numpy(datalake_root(P) / \"train-data\" / \"digits.numpy\")\n",
    "    y_train_all = read_numpy(datalake_root(P) / \"train-data\" / \"labels.numpy\")\n",
    "\n",
    "    assert isinstance(P[\"task.nr_train_images\"], int)\n",
    "\n",
    "    # Note: train_test_split will fail if split is 0 or 100%.\n",
    "    assert 0 < P[\"task.nr_train_images\"] < len(y_train_all)\n",
    "\n",
    "    X_train, _, y_train, _ = train_test_split(\n",
    "        X_train_all,\n",
    "        y_train_all,\n",
    "        train_size=P[\"task.nr_train_images\"],\n",
    "        test_size=None,\n",
    "        stratify=y_train_all,\n",
    "        shuffle=True,\n",
    "        random_state=123,\n",
    "    )\n",
    "\n",
    "    assert X_train.shape == (len(y_train), 8 * 8)\n",
    "    return X_train, y_train\n",
    "\n",
    "\n",
    "X_train, y_train = load_and_limit_train_data(P)"
   ]
  },
  {
   "cell_type": "markdown",
   "id": "6597c13e",
   "metadata": {
    "papermill": {
     "duration": 0.003827,
     "end_time": "2022-07-09T06:45:43.690740",
     "exception": false,
     "start_time": "2022-07-09T06:45:43.686913",
     "status": "completed"
    },
    "tags": []
   },
   "source": [
    "## Train support vector classifier model\n",
    "\n",
    "Below we assume that the hyperparameter $C$ is known.\n",
    "\n",
    "However, this should ideally be found by a hyperparameter search. That could be\n",
    "done in parallel on the Ray cluster, but this needs some more work. Ie., to use\n",
    "multiple cores in the notebook, those cores should be reserved when starting the\n",
    "notebook task (TODO).\n",
    "\n",
    "- https://docs.ray.io/en/latest/tune/key-concepts.html\n",
    "\n",
    "Note: cv-scores would need to be computed here, since they depend on the train data.\n",
    "After this notebook only the onnx-model is available."
   ]
  },
  {
   "cell_type": "code",
   "execution_count": 7,
   "id": "7190457d",
   "metadata": {
    "execution": {
     "iopub.execute_input": "2022-07-09T06:45:43.697932Z",
     "iopub.status.busy": "2022-07-09T06:45:43.697479Z",
     "iopub.status.idle": "2022-07-09T06:45:43.717962Z",
     "shell.execute_reply": "2022-07-09T06:45:43.717280Z"
    },
    "papermill": {
     "duration": 0.026209,
     "end_time": "2022-07-09T06:45:43.719737",
     "exception": false,
     "start_time": "2022-07-09T06:45:43.693528",
     "status": "completed"
    },
    "tags": []
   },
   "outputs": [],
   "source": [
    "from sklearn.svm import SVC"
   ]
  },
  {
   "cell_type": "code",
   "execution_count": 8,
   "id": "a84ca295",
   "metadata": {
    "execution": {
     "iopub.execute_input": "2022-07-09T06:45:43.728069Z",
     "iopub.status.busy": "2022-07-09T06:45:43.727437Z",
     "iopub.status.idle": "2022-07-09T06:45:43.828819Z",
     "shell.execute_reply": "2022-07-09T06:45:43.828301Z"
    },
    "papermill": {
     "duration": 0.107427,
     "end_time": "2022-07-09T06:45:43.830621",
     "exception": false,
     "start_time": "2022-07-09T06:45:43.723194",
     "status": "completed"
    },
    "tags": []
   },
   "outputs": [
    {
     "data": {
      "text/plain": [
       "SVC(C=0.001, kernel='linear', probability=True)"
      ]
     },
     "execution_count": 8,
     "metadata": {},
     "output_type": "execute_result"
    }
   ],
   "source": [
    "model = SVC(C=0.001, kernel=\"linear\", probability=True)\n",
    "\n",
    "model.fit(X_train, y_train)"
   ]
  },
  {
   "cell_type": "markdown",
   "id": "48e5d697",
   "metadata": {
    "papermill": {
     "duration": 0.003335,
     "end_time": "2022-07-09T06:45:43.837527",
     "exception": false,
     "start_time": "2022-07-09T06:45:43.834192",
     "status": "completed"
    },
    "tags": []
   },
   "source": [
    "### Q: Can the labels returned by `predict(..)` be computed from probabilities returned by the `predict_prob`-method?"
   ]
  },
  {
   "cell_type": "code",
   "execution_count": 9,
   "id": "53546986",
   "metadata": {
    "execution": {
     "iopub.execute_input": "2022-07-09T06:45:43.845052Z",
     "iopub.status.busy": "2022-07-09T06:45:43.844804Z",
     "iopub.status.idle": "2022-07-09T06:45:43.901575Z",
     "shell.execute_reply": "2022-07-09T06:45:43.901027Z"
    },
    "papermill": {
     "duration": 0.062383,
     "end_time": "2022-07-09T06:45:43.902994",
     "exception": false,
     "start_time": "2022-07-09T06:45:43.840611",
     "status": "completed"
    },
    "tags": []
   },
   "outputs": [
    {
     "name": "stdout",
     "output_type": "stream",
     "text": [
      " - Logging nr_max_prob_neq_label (int) : 2\n"
     ]
    }
   ],
   "source": [
    "import numpy as np\n",
    "\n",
    "y_train_labels = model.predict(X_train)\n",
    "y_train_probabilities = model.predict_proba(X_train)\n",
    "assert y_train_probabilities.shape == (len(y_train), 10)\n",
    "\n",
    "y_train_max_prob_labels = np.argmax(y_train_probabilities, axis=1)\n",
    "assert y_train_labels.shape == y_train_max_prob_labels.shape == y_train.shape\n",
    "\n",
    "# If the predicted labels would coincide with the labels that have\n",
    "# maximum probability, the below number would be zero\n",
    "logger.log_int(\n",
    "    \"nr_max_prob_neq_label\", int(sum(y_train_max_prob_labels != y_train_labels))\n",
    ")"
   ]
  },
  {
   "cell_type": "markdown",
   "id": "6f1fc0b4",
   "metadata": {
    "papermill": {
     "duration": 0.003414,
     "end_time": "2022-07-09T06:45:43.910275",
     "exception": false,
     "start_time": "2022-07-09T06:45:43.906861",
     "status": "completed"
    },
    "tags": []
   },
   "source": [
    "The explanation is (likely) explained in the SVC source, see\n",
    "[here](https://github.com/scikit-learn/scikit-learn/blob/main/sklearn/svm/_base.py).\n",
    "Namely, the outputs from `predict(..)` and `predict_proba(..)` may not in some\n",
    "cases be compatible since the latter is computed using cross-validation while\n",
    "the former is not. Thus, the above number need not be zero."
   ]
  },
  {
   "cell_type": "markdown",
   "id": "e931e56f",
   "metadata": {
    "papermill": {
     "duration": 0.003785,
     "end_time": "2022-07-09T06:45:43.917157",
     "exception": false,
     "start_time": "2022-07-09T06:45:43.913372",
     "status": "completed"
    },
    "tags": []
   },
   "source": [
    "## Persist model"
   ]
  },
  {
   "cell_type": "code",
   "execution_count": 10,
   "id": "f3b85e45",
   "metadata": {
    "execution": {
     "iopub.execute_input": "2022-07-09T06:45:43.925373Z",
     "iopub.status.busy": "2022-07-09T06:45:43.925090Z",
     "iopub.status.idle": "2022-07-09T06:45:44.650785Z",
     "shell.execute_reply": "2022-07-09T06:45:44.650159Z"
    },
    "papermill": {
     "duration": 0.732133,
     "end_time": "2022-07-09T06:45:44.652780",
     "exception": false,
     "start_time": "2022-07-09T06:45:43.920647",
     "status": "completed"
    },
    "tags": []
   },
   "outputs": [],
   "source": [
    "from skl2onnx import convert_sklearn\n",
    "from skl2onnx.common.data_types import FloatTensorType\n",
    "\n",
    "#\n",
    "from common.io import datalake_root, write_onnx"
   ]
  },
  {
   "cell_type": "code",
   "execution_count": 11,
   "id": "047a2b06",
   "metadata": {
    "execution": {
     "iopub.execute_input": "2022-07-09T06:45:44.660974Z",
     "iopub.status.busy": "2022-07-09T06:45:44.660400Z",
     "iopub.status.idle": "2022-07-09T06:45:44.702253Z",
     "shell.execute_reply": "2022-07-09T06:45:44.701642Z"
    },
    "papermill": {
     "duration": 0.047903,
     "end_time": "2022-07-09T06:45:44.704184",
     "exception": false,
     "start_time": "2022-07-09T06:45:44.656281",
     "status": "completed"
    },
    "tags": []
   },
   "outputs": [],
   "source": [
    "# convert sklearn model into onnx and persist to data lake\n",
    "\n",
    "model_onnx = convert_sklearn(\n",
    "    model, initial_types=[(\"float_input_8x8_image\", FloatTensorType([None, 8 * 8]))]\n",
    ")\n",
    "write_onnx(\n",
    "    datalake_root(P)\n",
    "    / \"models\"\n",
    "    / f\"nr_train_images={P['task.nr_train_images']}\"\n",
    "    / \"model.onnx\",\n",
    "    model_onnx,\n",
    ")"
   ]
  },
  {
   "cell_type": "code",
   "execution_count": null,
   "id": "d0acdf46",
   "metadata": {
    "papermill": {
     "duration": 0.003466,
     "end_time": "2022-07-09T06:45:44.711207",
     "exception": false,
     "start_time": "2022-07-09T06:45:44.707741",
     "status": "completed"
    },
    "tags": []
   },
   "outputs": [],
   "source": []
  }
 ],
 "metadata": {
  "jupytext": {
   "cell_metadata_filter": "tags,-all",
   "main_language": "python",
   "notebook_metadata_filter": "-all"
  },
  "language_info": {
   "codemirror_mode": {
    "name": "ipython",
    "version": 3
   },
   "file_extension": ".py",
   "mimetype": "text/x-python",
   "name": "python",
   "nbconvert_exporter": "python",
   "pygments_lexer": "ipython3",
   "version": "3.8.10"
  },
  "papermill": {
   "default_parameters": {},
   "duration": 4.114648,
   "end_time": "2022-07-09T06:45:45.637177",
   "environment_variables": {},
   "exception": null,
   "input_path": "/home/host_user/workspace/mnist-demo-pipeline/mnist-demo-pipeline/notebooks/temp-notebook-za8kr1pv.ipynb",
   "output_path": "notebooks/train-model.ipynb",
   "parameters": {
    "P": {
     "_opentelemetry_traceparent": "00-1d815c5a09dbffbc1a17484614e87f58-90fddc06d311d9d7-01",
     "pipeline.data_lake_root": "/pipeline-outputs/data-lake",
     "pipeline.github.actor": "matiasdahl",
     "pipeline.github.base_ref": "",
     "pipeline.github.event_name": "schedule",
     "pipeline.github.head_ref": "",
     "pipeline.github.job": "run-tests-pipeline-and-persist-pipeline-outputs",
     "pipeline.github.ref": "refs/heads/development",
     "pipeline.github.ref_name": "development",
     "pipeline.github.ref_type": "branch",
     "pipeline.github.repository": "pynb-dag-runner/mnist-digits-demo-pipeline",
     "pipeline.github.run_id": "2640187557",
     "pipeline.github.runner_name": "Hosted Agent",
     "pipeline.github.sha": "147a1be9916173fd4d2cd011d8d51e3411215850",
     "pipeline.github.workflow": "Run automated tests, pipeline and deploy results to static reporting site",
     "pipeline.pipeline_run_id": "9d8ed508-282f-4ff0-b957-e3510667b866",
     "pipeline.run_environment": "ci",
     "run.retry_nr": "0",
     "task.max_nr_retries": "1",
     "task.notebook": "notebooks/train-model.py",
     "task.nr_train_images": 600,
     "task.num_cpus": 1,
     "task.timeout_s": "None"
    }
   },
   "start_time": "2022-07-09T06:45:41.522529",
   "version": "2.3.3"
  }
 },
 "nbformat": 4,
 "nbformat_minor": 5
}