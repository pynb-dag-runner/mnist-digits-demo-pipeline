{
 "cells": [
  {
   "cell_type": "markdown",
   "id": "4ce1aa99",
   "metadata": {
    "papermill": {
     "duration": 0.005052,
     "end_time": "2022-07-09T06:45:44.843831",
     "exception": false,
     "start_time": "2022-07-09T06:45:44.838779",
     "status": "completed"
    },
    "tags": []
   },
   "source": [
    "# Benchmark model\n",
    "\n",
    "The purpose of this notebook is to benchmark persisted onnx-model (trained in the\n",
    "previous step) against evaluation set."
   ]
  },
  {
   "cell_type": "markdown",
   "id": "b34e2516",
   "metadata": {
    "papermill": {
     "duration": 0.003792,
     "end_time": "2022-07-09T06:45:44.851796",
     "exception": false,
     "start_time": "2022-07-09T06:45:44.848004",
     "status": "completed"
    },
    "tags": []
   },
   "source": [
    "### Determine run parameters"
   ]
  },
  {
   "cell_type": "code",
   "execution_count": 1,
   "id": "094354eb",
   "metadata": {
    "execution": {
     "iopub.execute_input": "2022-07-09T06:45:44.861223Z",
     "iopub.status.busy": "2022-07-09T06:45:44.860442Z",
     "iopub.status.idle": "2022-07-09T06:45:44.867868Z",
     "shell.execute_reply": "2022-07-09T06:45:44.867211Z"
    },
    "lines_to_next_cell": 0,
    "papermill": {
     "duration": 0.014226,
     "end_time": "2022-07-09T06:45:44.869729",
     "exception": false,
     "start_time": "2022-07-09T06:45:44.855503",
     "status": "completed"
    },
    "tags": []
   },
   "outputs": [],
   "source": [
    "# ----------------- Parameters for interactive development --------------\n",
    "P = {\n",
    "    \"pipeline.data_lake_root\": \"/pipeline-outputs/data-lake\",\n",
    "    \"task.nr_train_images\": 600,\n",
    "}"
   ]
  },
  {
   "cell_type": "code",
   "execution_count": 2,
   "id": "b4435d5d",
   "metadata": {
    "execution": {
     "iopub.execute_input": "2022-07-09T06:45:44.878902Z",
     "iopub.status.busy": "2022-07-09T06:45:44.878452Z",
     "iopub.status.idle": "2022-07-09T06:45:44.881613Z",
     "shell.execute_reply": "2022-07-09T06:45:44.881031Z"
    },
    "lines_to_next_cell": 0,
    "papermill": {
     "duration": 0.009223,
     "end_time": "2022-07-09T06:45:44.882952",
     "exception": false,
     "start_time": "2022-07-09T06:45:44.873729",
     "status": "completed"
    },
    "tags": [
     "parameters"
    ]
   },
   "outputs": [],
   "source": [
    "# - During automated runs parameters will be injected in the below cell -"
   ]
  },
  {
   "cell_type": "code",
   "execution_count": 3,
   "id": "cf2ecb88",
   "metadata": {
    "execution": {
     "iopub.execute_input": "2022-07-09T06:45:44.891863Z",
     "iopub.status.busy": "2022-07-09T06:45:44.891666Z",
     "iopub.status.idle": "2022-07-09T06:45:44.896034Z",
     "shell.execute_reply": "2022-07-09T06:45:44.895305Z"
    },
    "papermill": {
     "duration": 0.010801,
     "end_time": "2022-07-09T06:45:44.897461",
     "exception": false,
     "start_time": "2022-07-09T06:45:44.886660",
     "status": "completed"
    },
    "tags": [
     "injected-parameters"
    ]
   },
   "outputs": [],
   "source": [
    "# Parameters\n",
    "P = {\n",
    "    \"pipeline.data_lake_root\": \"/pipeline-outputs/data-lake\",\n",
    "    \"pipeline.run_environment\": \"ci\",\n",
    "    \"pipeline.pipeline_run_id\": \"9d8ed508-282f-4ff0-b957-e3510667b866\",\n",
    "    \"pipeline.github.repository\": \"pynb-dag-runner/mnist-digits-demo-pipeline\",\n",
    "    \"pipeline.github.workflow\": \"Run automated tests, pipeline and deploy results to static reporting site\",\n",
    "    \"pipeline.github.runner_name\": \"Hosted Agent\",\n",
    "    \"pipeline.github.run_id\": \"2640187557\",\n",
    "    \"pipeline.github.actor\": \"matiasdahl\",\n",
    "    \"pipeline.github.job\": \"run-tests-pipeline-and-persist-pipeline-outputs\",\n",
    "    \"pipeline.github.base_ref\": \"\",\n",
    "    \"pipeline.github.head_ref\": \"\",\n",
    "    \"pipeline.github.sha\": \"147a1be9916173fd4d2cd011d8d51e3411215850\",\n",
    "    \"pipeline.github.ref\": \"refs/heads/development\",\n",
    "    \"pipeline.github.ref_type\": \"branch\",\n",
    "    \"pipeline.github.ref_name\": \"development\",\n",
    "    \"pipeline.github.event_name\": \"schedule\",\n",
    "    \"task.nr_train_images\": 1200,\n",
    "    \"task.notebook\": \"notebooks/benchmark-model.py\",\n",
    "    \"task.max_nr_retries\": \"1\",\n",
    "    \"run.retry_nr\": \"0\",\n",
    "    \"task.timeout_s\": \"None\",\n",
    "    \"task.num_cpus\": 1,\n",
    "    \"_opentelemetry_traceparent\": \"00-1d815c5a09dbffbc1a17484614e87f58-8a8883c7aa266f58-01\",\n",
    "}\n"
   ]
  },
  {
   "cell_type": "code",
   "execution_count": 4,
   "id": "34240907",
   "metadata": {
    "execution": {
     "iopub.execute_input": "2022-07-09T06:45:44.907212Z",
     "iopub.status.busy": "2022-07-09T06:45:44.906813Z",
     "iopub.status.idle": "2022-07-09T06:45:44.910056Z",
     "shell.execute_reply": "2022-07-09T06:45:44.909053Z"
    },
    "lines_to_next_cell": 0,
    "papermill": {
     "duration": 0.009916,
     "end_time": "2022-07-09T06:45:44.911383",
     "exception": false,
     "start_time": "2022-07-09T06:45:44.901467",
     "status": "completed"
    },
    "tags": []
   },
   "outputs": [],
   "source": [
    "# -----------------------------------------------------------------------"
   ]
  },
  {
   "cell_type": "markdown",
   "id": "033d5884",
   "metadata": {
    "papermill": {
     "duration": 0.003862,
     "end_time": "2022-07-09T06:45:44.920491",
     "exception": false,
     "start_time": "2022-07-09T06:45:44.916629",
     "status": "completed"
    },
    "tags": []
   },
   "source": [
    "---"
   ]
  },
  {
   "cell_type": "markdown",
   "id": "af5d5ff9",
   "metadata": {
    "lines_to_next_cell": 2,
    "papermill": {
     "duration": 0.003808,
     "end_time": "2022-07-09T06:45:44.928029",
     "exception": false,
     "start_time": "2022-07-09T06:45:44.924221",
     "status": "completed"
    },
    "tags": []
   },
   "source": [
    "### Notebook code"
   ]
  },
  {
   "cell_type": "code",
   "execution_count": 5,
   "id": "cd8b47af",
   "metadata": {
    "execution": {
     "iopub.execute_input": "2022-07-09T06:45:44.936660Z",
     "iopub.status.busy": "2022-07-09T06:45:44.936441Z",
     "iopub.status.idle": "2022-07-09T06:45:46.037636Z",
     "shell.execute_reply": "2022-07-09T06:45:46.036786Z"
    },
    "papermill": {
     "duration": 1.107695,
     "end_time": "2022-07-09T06:45:46.039495",
     "exception": false,
     "start_time": "2022-07-09T06:45:44.931800",
     "status": "completed"
    },
    "tags": []
   },
   "outputs": [
    {
     "name": "stderr",
     "output_type": "stream",
     "text": [
      "2022-07-09 06:45:45,871\tINFO worker.py:842 -- Connecting to existing Ray cluster at address: 172.17.0.2:6379\n"
     ]
    }
   ],
   "source": [
    "import itertools as it\n",
    "\n",
    "#\n",
    "import numpy as np\n",
    "import matplotlib.pyplot as plt\n",
    "\n",
    "#\n",
    "from pynb_dag_runner.tasks.task_opentelemetry_logging import PydarLogger\n",
    "\n",
    "#\n",
    "from common.io import datalake_root\n",
    "\n",
    "logger = PydarLogger(P)"
   ]
  },
  {
   "cell_type": "markdown",
   "id": "402ac8ef",
   "metadata": {
    "papermill": {
     "duration": 0.005035,
     "end_time": "2022-07-09T06:45:46.049501",
     "exception": false,
     "start_time": "2022-07-09T06:45:46.044466",
     "status": "completed"
    },
    "tags": []
   },
   "source": [
    "## Load persisted onnx-model and evaluation data"
   ]
  },
  {
   "cell_type": "code",
   "execution_count": 6,
   "id": "14f29e47",
   "metadata": {
    "execution": {
     "iopub.execute_input": "2022-07-09T06:45:46.059417Z",
     "iopub.status.busy": "2022-07-09T06:45:46.059102Z",
     "iopub.status.idle": "2022-07-09T06:45:46.062312Z",
     "shell.execute_reply": "2022-07-09T06:45:46.061772Z"
    },
    "papermill": {
     "duration": 0.011294,
     "end_time": "2022-07-09T06:45:46.065228",
     "exception": false,
     "start_time": "2022-07-09T06:45:46.053934",
     "status": "completed"
    },
    "tags": []
   },
   "outputs": [],
   "source": [
    "from common.io import read_onnx, get_onnx_inputs, get_onnx_outputs, read_numpy"
   ]
  },
  {
   "cell_type": "code",
   "execution_count": 7,
   "id": "16d1d2b7",
   "metadata": {
    "execution": {
     "iopub.execute_input": "2022-07-09T06:45:46.076471Z",
     "iopub.status.busy": "2022-07-09T06:45:46.076220Z",
     "iopub.status.idle": "2022-07-09T06:45:46.086449Z",
     "shell.execute_reply": "2022-07-09T06:45:46.085779Z"
    },
    "lines_to_next_cell": 0,
    "papermill": {
     "duration": 0.017177,
     "end_time": "2022-07-09T06:45:46.087994",
     "exception": false,
     "start_time": "2022-07-09T06:45:46.070817",
     "status": "completed"
    },
    "tags": []
   },
   "outputs": [],
   "source": [
    "onnx_inference_session = read_onnx(\n",
    "    datalake_root(P)\n",
    "    / \"models\"\n",
    "    / f\"nr_train_images={P['task.nr_train_images']}\"\n",
    "    / \"model.onnx\"\n",
    ")"
   ]
  },
  {
   "cell_type": "markdown",
   "id": "b70d6e03",
   "metadata": {
    "papermill": {
     "duration": 0.004456,
     "end_time": "2022-07-09T06:45:46.096380",
     "exception": false,
     "start_time": "2022-07-09T06:45:46.091924",
     "status": "completed"
    },
    "tags": []
   },
   "source": [
    "### Record structure of inputs and outputs for ONNX model\n",
    "\n",
    "(this should likely be done in training notebook)"
   ]
  },
  {
   "cell_type": "code",
   "execution_count": 8,
   "id": "f8c48015",
   "metadata": {
    "execution": {
     "iopub.execute_input": "2022-07-09T06:45:46.106078Z",
     "iopub.status.busy": "2022-07-09T06:45:46.105827Z",
     "iopub.status.idle": "2022-07-09T06:45:46.111274Z",
     "shell.execute_reply": "2022-07-09T06:45:46.110764Z"
    },
    "papermill": {
     "duration": 0.013678,
     "end_time": "2022-07-09T06:45:46.114212",
     "exception": false,
     "start_time": "2022-07-09T06:45:46.100534",
     "status": "completed"
    },
    "tags": []
   },
   "outputs": [
    {
     "name": "stdout",
     "output_type": "stream",
     "text": [
      "{\n",
      "  \"inputs\": [\n",
      "    {\n",
      "      \"name\": \"float_input_8x8_image\",\n",
      "      \"shape\": [\n",
      "        null,\n",
      "        64\n",
      "      ],\n",
      "      \"type\": \"tensor(float)\"\n",
      "    }\n",
      "  ],\n",
      "  \"outputs\": [\n",
      "    {\n",
      "      \"name\": \"output_label\",\n",
      "      \"shape\": [\n",
      "        null\n",
      "      ],\n",
      "      \"type\": \"tensor(int64)\"\n",
      "    },\n",
      "    {\n",
      "      \"name\": \"output_probability\",\n",
      "      \"shape\": [],\n",
      "      \"type\": \"seq(map(int64,tensor(float)))\"\n",
      "    }\n",
      "  ]\n",
      "}\n"
     ]
    }
   ],
   "source": [
    "import json\n",
    "\n",
    "onnx_io = json.dumps(\n",
    "    {\n",
    "        \"inputs\": get_onnx_inputs(onnx_inference_session),\n",
    "        \"outputs\": get_onnx_outputs(onnx_inference_session),\n",
    "    },\n",
    "    indent=2,\n",
    ")\n",
    "\n",
    "\n",
    "logger.log_artefact(\"onnx_io_structure.json\", onnx_io)\n",
    "print(onnx_io)"
   ]
  },
  {
   "cell_type": "markdown",
   "id": "28ce4626",
   "metadata": {
    "papermill": {
     "duration": 0.004088,
     "end_time": "2022-07-09T06:45:46.122408",
     "exception": false,
     "start_time": "2022-07-09T06:45:46.118320",
     "status": "completed"
    },
    "tags": []
   },
   "source": [
    "### Evaluate model performance on evaluation data set"
   ]
  },
  {
   "cell_type": "code",
   "execution_count": 9,
   "id": "e3e602b7",
   "metadata": {
    "execution": {
     "iopub.execute_input": "2022-07-09T06:45:46.131634Z",
     "iopub.status.busy": "2022-07-09T06:45:46.131381Z",
     "iopub.status.idle": "2022-07-09T06:45:46.139545Z",
     "shell.execute_reply": "2022-07-09T06:45:46.135387Z"
    },
    "papermill": {
     "duration": 0.01495,
     "end_time": "2022-07-09T06:45:46.141599",
     "exception": false,
     "start_time": "2022-07-09T06:45:46.126649",
     "status": "completed"
    },
    "tags": []
   },
   "outputs": [],
   "source": [
    "# load evaluation data\n",
    "X_test = read_numpy(datalake_root(P) / \"test-data\" / \"digits.numpy\")\n",
    "y_test = read_numpy(datalake_root(P) / \"test-data\" / \"labels.numpy\")"
   ]
  },
  {
   "cell_type": "code",
   "execution_count": 10,
   "id": "23fd3fe5",
   "metadata": {
    "execution": {
     "iopub.execute_input": "2022-07-09T06:45:46.152749Z",
     "iopub.status.busy": "2022-07-09T06:45:46.152505Z",
     "iopub.status.idle": "2022-07-09T06:45:46.165304Z",
     "shell.execute_reply": "2022-07-09T06:45:46.164684Z"
    },
    "papermill": {
     "duration": 0.020011,
     "end_time": "2022-07-09T06:45:46.166895",
     "exception": false,
     "start_time": "2022-07-09T06:45:46.146884",
     "status": "completed"
    },
    "tags": []
   },
   "outputs": [],
   "source": [
    "def get_model_outputs(X, onnx_inference_session):\n",
    "    y_pred_labels, y_pred_map = onnx_inference_session.run(\n",
    "        [\"output_label\", \"output_probability\"],\n",
    "        {\"float_input_8x8_image\": X.astype(np.float32)},\n",
    "    )\n",
    "    y_pred_probs = np.array(\n",
    "        [[probabilities[digit] for digit in range(10)] for probabilities in y_pred_map]\n",
    "    )\n",
    "\n",
    "    assert y_pred_labels.shape == (X.shape[0],)\n",
    "    assert y_pred_probs.shape == (X.shape[0], 10)\n",
    "\n",
    "    return y_pred_labels, y_pred_probs\n",
    "\n",
    "\n",
    "# Note: as shown in the training notebook, the predicted labels and probabilities\n",
    "# computed below need not be compatible.\n",
    "y_pred_labels_test, y_pred_probs_test = get_model_outputs(\n",
    "    X_test, onnx_inference_session\n",
    ")"
   ]
  },
  {
   "cell_type": "markdown",
   "id": "45148cc7",
   "metadata": {
    "papermill": {
     "duration": 0.004349,
     "end_time": "2022-07-09T06:45:46.175506",
     "exception": false,
     "start_time": "2022-07-09T06:45:46.171157",
     "status": "completed"
    },
    "tags": []
   },
   "source": [
    "### Confusion matrix"
   ]
  },
  {
   "cell_type": "code",
   "execution_count": 11,
   "id": "a93b4575",
   "metadata": {
    "execution": {
     "iopub.execute_input": "2022-07-09T06:45:46.185026Z",
     "iopub.status.busy": "2022-07-09T06:45:46.184512Z",
     "iopub.status.idle": "2022-07-09T06:45:46.188072Z",
     "shell.execute_reply": "2022-07-09T06:45:46.187500Z"
    },
    "papermill": {
     "duration": 0.010072,
     "end_time": "2022-07-09T06:45:46.189540",
     "exception": false,
     "start_time": "2022-07-09T06:45:46.179468",
     "status": "completed"
    },
    "tags": []
   },
   "outputs": [],
   "source": [
    "# TODO"
   ]
  },
  {
   "cell_type": "markdown",
   "id": "4185344d",
   "metadata": {
    "papermill": {
     "duration": 0.004288,
     "end_time": "2022-07-09T06:45:46.198134",
     "exception": false,
     "start_time": "2022-07-09T06:45:46.193846",
     "status": "completed"
    },
    "tags": []
   },
   "source": [
    "### Plot predicted probabilities for each classifier over all evaluation digit images"
   ]
  },
  {
   "cell_type": "code",
   "execution_count": 12,
   "id": "441055e3",
   "metadata": {
    "execution": {
     "iopub.execute_input": "2022-07-09T06:45:46.207755Z",
     "iopub.status.busy": "2022-07-09T06:45:46.207278Z",
     "iopub.status.idle": "2022-07-09T06:45:49.618850Z",
     "shell.execute_reply": "2022-07-09T06:45:49.618104Z"
    },
    "papermill": {
     "duration": 3.418526,
     "end_time": "2022-07-09T06:45:49.620691",
     "exception": false,
     "start_time": "2022-07-09T06:45:46.202165",
     "status": "completed"
    },
    "tags": []
   },
   "outputs": [
    {
     "data": {
      "image/png": "[encoded data removed]",
      "text/plain": [
       "<Figure size 1152x432 with 10 Axes>"
      ]
     },
     "metadata": {
      "needs_background": "light"
     },
     "output_type": "display_data"
    }
   ],
   "source": [
    "def plot_per_digit_probabilities(y_pred_probs):\n",
    "    fig, axs = plt.subplots(nrows=2, ncols=5, figsize=(16, 6))\n",
    "\n",
    "    for (r, c), digit, ax in zip(\n",
    "        it.product(range(2), range(5)), range(10), axs.reshape(-1)\n",
    "    ):\n",
    "        ax.hist(y_pred_probs_test[:, digit], bins=20)\n",
    "\n",
    "        ax.set_title(f\"Digit {digit}\")\n",
    "        if r == 1 and c == 2:\n",
    "            ax.set_xlabel(\"probability\", fontsize=16)\n",
    "\n",
    "        if c == 0:\n",
    "            ax.set_ylabel(\"counts\", fontsize=16)\n",
    "        ax.set_yscale(\"log\")\n",
    "\n",
    "    fig.tight_layout()\n",
    "    fig.suptitle(\n",
    "        f\"Distributions of prediction probabilities for each digit \"\n",
    "        f\"(on evaluation data, n={y_pred_probs.shape[0]})\",\n",
    "        fontsize=20,\n",
    "    )\n",
    "    fig.tight_layout()\n",
    "    fig.show()\n",
    "\n",
    "    return fig\n",
    "\n",
    "\n",
    "fig = plot_per_digit_probabilities(y_pred_probs_test)"
   ]
  },
  {
   "cell_type": "markdown",
   "id": "d3134846",
   "metadata": {
    "papermill": {
     "duration": 0.004568,
     "end_time": "2022-07-09T06:45:49.631048",
     "exception": false,
     "start_time": "2022-07-09T06:45:49.626480",
     "status": "completed"
    },
    "tags": []
   },
   "source": [
    "From the above distributions we see that most digits have clear separation between\n",
    "high and lower probabilities. Morover, in each case there is roughly an order of\n",
    "magnitude more of digits with low probabilities. This is compatible with digits\n",
    "being roughly evenly distributed in the data."
   ]
  },
  {
   "cell_type": "code",
   "execution_count": 13,
   "id": "b6212602",
   "metadata": {
    "execution": {
     "iopub.execute_input": "2022-07-09T06:45:49.642573Z",
     "iopub.status.busy": "2022-07-09T06:45:49.642293Z",
     "iopub.status.idle": "2022-07-09T06:45:50.115646Z",
     "shell.execute_reply": "2022-07-09T06:45:50.114955Z"
    },
    "papermill": {
     "duration": 0.481195,
     "end_time": "2022-07-09T06:45:50.117596",
     "exception": false,
     "start_time": "2022-07-09T06:45:49.636401",
     "status": "completed"
    },
    "tags": []
   },
   "outputs": [],
   "source": [
    "logger.log_figure(\"per-digit-probabilities.png\", fig)"
   ]
  },
  {
   "cell_type": "markdown",
   "id": "0273a9b5",
   "metadata": {
    "papermill": {
     "duration": 0.006233,
     "end_time": "2022-07-09T06:45:50.129343",
     "exception": false,
     "start_time": "2022-07-09T06:45:50.123110",
     "status": "completed"
    },
    "tags": []
   },
   "source": [
    "### Plot ROC curves for individual one-vs-rest classifiers"
   ]
  },
  {
   "cell_type": "code",
   "execution_count": 14,
   "id": "5951ee4f",
   "metadata": {
    "execution": {
     "iopub.execute_input": "2022-07-09T06:45:50.140898Z",
     "iopub.status.busy": "2022-07-09T06:45:50.140621Z",
     "iopub.status.idle": "2022-07-09T06:45:50.443544Z",
     "shell.execute_reply": "2022-07-09T06:45:50.442465Z"
    },
    "papermill": {
     "duration": 0.311191,
     "end_time": "2022-07-09T06:45:50.445515",
     "exception": false,
     "start_time": "2022-07-09T06:45:50.134324",
     "status": "completed"
    },
    "tags": []
   },
   "outputs": [],
   "source": [
    "from sklearn import metrics"
   ]
  },
  {
   "cell_type": "code",
   "execution_count": 15,
   "id": "c6b67621",
   "metadata": {
    "execution": {
     "iopub.execute_input": "2022-07-09T06:45:50.457813Z",
     "iopub.status.busy": "2022-07-09T06:45:50.457480Z",
     "iopub.status.idle": "2022-07-09T06:45:51.613152Z",
     "shell.execute_reply": "2022-07-09T06:45:51.612601Z"
    },
    "papermill": {
     "duration": 1.164171,
     "end_time": "2022-07-09T06:45:51.614836",
     "exception": false,
     "start_time": "2022-07-09T06:45:50.450665",
     "status": "completed"
    },
    "tags": []
   },
   "outputs": [
    {
     "data": {
      "image/png": "[encoded data removed]",
      "text/plain": [
       "<Figure size 1152x576 with 10 Axes>"
      ]
     },
     "metadata": {
      "needs_background": "light"
     },
     "output_type": "display_data"
    }
   ],
   "source": [
    "def plot_roc_curves(y, y_pred_probs):\n",
    "    # based on example code\n",
    "    # https://scikit-learn.org/stable/auto_examples/model_selection/plot_roc.html\n",
    "\n",
    "    fig, axs = plt.subplots(nrows=2, ncols=5, figsize=(16, 8))\n",
    "\n",
    "    roc_auc_dict = {}\n",
    "\n",
    "    for (r, c), digit, ax in zip(\n",
    "        it.product(range(2), range(5)), range(10), axs.reshape(-1)\n",
    "    ):\n",
    "        fpr, tpr, _ = metrics.roc_curve(y == digit, y_pred_probs[:, digit])\n",
    "        auc = metrics.auc(fpr, tpr)\n",
    "        roc_auc_dict[str(digit)] = auc\n",
    "\n",
    "        ax.plot(fpr, tpr, label=f\"ROC AUC={round(auc, 3)}\")\n",
    "\n",
    "        ax.set_title(f\"\\nDigit {digit}\", fontsize=16)\n",
    "        if r == 1:\n",
    "            ax.set_xlabel(\"FPR\", fontsize=18)\n",
    "\n",
    "        if c == 0:\n",
    "            ax.set_ylabel(\"TPR\", fontsize=18)\n",
    "\n",
    "        ax.set_xlim([-0.05, 1.05])\n",
    "        ax.set_ylim([-0.05, 1.05])\n",
    "        ax.legend(loc=\"lower right\", frameon=False, fontsize=14)\n",
    "\n",
    "    fig.tight_layout()\n",
    "    fig.suptitle(\n",
    "        f\"ROC plots for one-vs-rest performances \"\n",
    "        f\"(on evaluation data, n={y_pred_probs_test.shape[1]}\",\n",
    "        fontsize=22,\n",
    "    )\n",
    "    fig.tight_layout()\n",
    "    fig.show()\n",
    "\n",
    "    return roc_auc_dict, fig\n",
    "\n",
    "\n",
    "roc_auc_dict, fig = plot_roc_curves(y_test, y_pred_probs_test)"
   ]
  },
  {
   "cell_type": "code",
   "execution_count": 16,
   "id": "6f3b7d20",
   "metadata": {
    "execution": {
     "iopub.execute_input": "2022-07-09T06:45:51.628432Z",
     "iopub.status.busy": "2022-07-09T06:45:51.628156Z",
     "iopub.status.idle": "2022-07-09T06:45:51.860071Z",
     "shell.execute_reply": "2022-07-09T06:45:51.859223Z"
    },
    "papermill": {
     "duration": 0.24087,
     "end_time": "2022-07-09T06:45:51.861894",
     "exception": false,
     "start_time": "2022-07-09T06:45:51.621024",
     "status": "completed"
    },
    "tags": []
   },
   "outputs": [],
   "source": [
    "logger.log_figure(\"per-digit-roc-curves.png\", fig)"
   ]
  },
  {
   "cell_type": "code",
   "execution_count": 17,
   "id": "e2dd2857",
   "metadata": {
    "execution": {
     "iopub.execute_input": "2022-07-09T06:45:51.875730Z",
     "iopub.status.busy": "2022-07-09T06:45:51.875298Z",
     "iopub.status.idle": "2022-07-09T06:45:51.881311Z",
     "shell.execute_reply": "2022-07-09T06:45:51.880668Z"
    },
    "papermill": {
     "duration": 0.016216,
     "end_time": "2022-07-09T06:45:51.884229",
     "exception": false,
     "start_time": "2022-07-09T06:45:51.868013",
     "status": "completed"
    },
    "tags": []
   },
   "outputs": [
    {
     "data": {
      "text/plain": [
       "{'0': 1.0,\n",
       " '1': 0.9991002811621369,\n",
       " '2': 1.0,\n",
       " '3': 0.9998500468603562,\n",
       " '4': 0.9997332723670173,\n",
       " '5': 0.9996626054358013,\n",
       " '6': 0.999923792104862,\n",
       " '7': 0.9998475842097242,\n",
       " '8': 0.9959016393442623,\n",
       " '9': 0.9998094802621552}"
      ]
     },
     "execution_count": 17,
     "metadata": {},
     "output_type": "execute_result"
    }
   ],
   "source": [
    "roc_auc_dict"
   ]
  },
  {
   "cell_type": "code",
   "execution_count": 18,
   "id": "7be72320",
   "metadata": {
    "execution": {
     "iopub.execute_input": "2022-07-09T06:45:51.897890Z",
     "iopub.status.busy": "2022-07-09T06:45:51.897375Z",
     "iopub.status.idle": "2022-07-09T06:45:51.902522Z",
     "shell.execute_reply": "2022-07-09T06:45:51.901858Z"
    },
    "papermill": {
     "duration": 0.014631,
     "end_time": "2022-07-09T06:45:51.905179",
     "exception": false,
     "start_time": "2022-07-09T06:45:51.890548",
     "status": "completed"
    },
    "tags": []
   },
   "outputs": [
    {
     "name": "stdout",
     "output_type": "stream",
     "text": [
      " - Logging roc_auc_per_digit (json) : {'0': 1.0, '1': 0.9991002811621369, '2': 1.0, '3': 0.9998500468603562, '4': 0.9997332723670173, '5': 0.9996626054358013, '6': 0.999923792104862, '7': 0.9998475842097242, '8': 0.9959016393442623, '9': 0.9998094802621552}\n"
     ]
    }
   ],
   "source": [
    "logger.log_value(\"roc_auc_per_digit\", roc_auc_dict)"
   ]
  },
  {
   "cell_type": "markdown",
   "id": "3d322d9e",
   "metadata": {
    "papermill": {
     "duration": 0.005717,
     "end_time": "2022-07-09T06:45:51.917324",
     "exception": false,
     "start_time": "2022-07-09T06:45:51.911607",
     "status": "completed"
    },
    "tags": []
   },
   "source": [
    "### Compute and log mean ROC AUC score averaged over all digits"
   ]
  },
  {
   "cell_type": "code",
   "execution_count": 19,
   "id": "b1588d8e",
   "metadata": {
    "execution": {
     "iopub.execute_input": "2022-07-09T06:45:51.932474Z",
     "iopub.status.busy": "2022-07-09T06:45:51.932128Z",
     "iopub.status.idle": "2022-07-09T06:45:51.946841Z",
     "shell.execute_reply": "2022-07-09T06:45:51.946077Z"
    },
    "papermill": {
     "duration": 0.025346,
     "end_time": "2022-07-09T06:45:51.948709",
     "exception": false,
     "start_time": "2022-07-09T06:45:51.923363",
     "status": "completed"
    },
    "tags": []
   },
   "outputs": [
    {
     "name": "stdout",
     "output_type": "stream",
     "text": [
      " - Logging roc_auc_class_mean (float) : 0.9993828701746315\n"
     ]
    }
   ],
   "source": [
    "roc_auc_macro = np.mean(list(roc_auc_dict.values()))\n",
    "\n",
    "logger.log_float(\"roc_auc_class_mean\", roc_auc_macro)\n",
    "\n",
    "# assert that the same value can be computed directly using sklearn\n",
    "assert roc_auc_macro == metrics.roc_auc_score(\n",
    "    y_test, y_pred_probs_test, average=\"macro\", multi_class=\"ovr\"\n",
    ")"
   ]
  },
  {
   "cell_type": "code",
   "execution_count": 20,
   "id": "3036c44c",
   "metadata": {
    "execution": {
     "iopub.execute_input": "2022-07-09T06:45:51.963121Z",
     "iopub.status.busy": "2022-07-09T06:45:51.962658Z",
     "iopub.status.idle": "2022-07-09T06:45:51.965801Z",
     "shell.execute_reply": "2022-07-09T06:45:51.965140Z"
    },
    "lines_to_next_cell": 0,
    "papermill": {
     "duration": 0.012531,
     "end_time": "2022-07-09T06:45:51.967858",
     "exception": false,
     "start_time": "2022-07-09T06:45:51.955327",
     "status": "completed"
    },
    "tags": []
   },
   "outputs": [],
   "source": [
    "# ---"
   ]
  },
  {
   "cell_type": "code",
   "execution_count": null,
   "id": "b8404107",
   "metadata": {
    "papermill": {
     "duration": 0.006012,
     "end_time": "2022-07-09T06:45:51.980251",
     "exception": false,
     "start_time": "2022-07-09T06:45:51.974239",
     "status": "completed"
    },
    "tags": []
   },
   "outputs": [],
   "source": []
  }
 ],
 "metadata": {
  "jupytext": {
   "cell_metadata_filter": "tags,-all",
   "main_language": "python",
   "notebook_metadata_filter": "-all"
  },
  "language_info": {
   "codemirror_mode": {
    "name": "ipython",
    "version": 3
   },
   "file_extension": ".py",
   "mimetype": "text/x-python",
   "name": "python",
   "nbconvert_exporter": "python",
   "pygments_lexer": "ipython3",
   "version": "3.8.10"
  },
  "papermill": {
   "default_parameters": {},
   "duration": 9.627456,
   "end_time": "2022-07-09T06:45:53.007365",
   "environment_variables": {},
   "exception": null,
   "input_path": "/home/host_user/workspace/mnist-demo-pipeline/mnist-demo-pipeline/notebooks/temp-notebook-v2qgxq5d.ipynb",
   "output_path": "notebooks/benchmark-model.ipynb",
   "parameters": {
    "P": {
     "_opentelemetry_traceparent": "00-1d815c5a09dbffbc1a17484614e87f58-8a8883c7aa266f58-01",
     "pipeline.data_lake_root": "/pipeline-outputs/data-lake",
     "pipeline.github.actor": "matiasdahl",
     "pipeline.github.base_ref": "",
     "pipeline.github.event_name": "schedule",
     "pipeline.github.head_ref": "",
     "pipeline.github.job": "run-tests-pipeline-and-persist-pipeline-outputs",
     "pipeline.github.ref": "refs/heads/development",
     "pipeline.github.ref_name": "development",
     "pipeline.github.ref_type": "branch",
     "pipeline.github.repository": "pynb-dag-runner/mnist-digits-demo-pipeline",
     "pipeline.github.run_id": "2640187557",
     "pipeline.github.runner_name": "Hosted Agent",
     "pipeline.github.sha": "147a1be9916173fd4d2cd011d8d51e3411215850",
     "pipeline.github.workflow": "Run automated tests, pipeline and deploy results to static reporting site",
     "pipeline.pipeline_run_id": "9d8ed508-282f-4ff0-b957-e3510667b866",
     "pipeline.run_environment": "ci",
     "run.retry_nr": "0",
     "task.max_nr_retries": "1",
     "task.notebook": "notebooks/benchmark-model.py",
     "task.nr_train_images": 1200,
     "task.num_cpus": 1,
     "task.timeout_s": "None"
    }
   },
   "start_time": "2022-07-09T06:45:43.379909",
   "version": "2.3.3"
  }
 },
 "nbformat": 4,
 "nbformat_minor": 5
}