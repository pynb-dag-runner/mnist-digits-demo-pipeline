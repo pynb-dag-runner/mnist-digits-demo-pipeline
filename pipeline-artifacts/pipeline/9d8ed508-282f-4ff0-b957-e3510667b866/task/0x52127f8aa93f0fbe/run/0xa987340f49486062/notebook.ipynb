{
 "cells": [
  {
   "cell_type": "markdown",
   "id": "fad95ce8",
   "metadata": {
    "papermill": {
     "duration": 0.003532,
     "end_time": "2022-07-09T06:45:22.402665",
     "exception": false,
     "start_time": "2022-07-09T06:45:22.399133",
     "status": "completed"
    },
    "tags": []
   },
   "source": [
    "# Ingest toy version of MNIST digit data from sklearn"
   ]
  },
  {
   "cell_type": "markdown",
   "id": "5b279d26",
   "metadata": {
    "papermill": {
     "duration": 0.00232,
     "end_time": "2022-07-09T06:45:22.407786",
     "exception": false,
     "start_time": "2022-07-09T06:45:22.405466",
     "status": "completed"
    },
    "tags": []
   },
   "source": [
    "### Determine run parameters"
   ]
  },
  {
   "cell_type": "code",
   "execution_count": 1,
   "id": "9b6b6c40",
   "metadata": {
    "execution": {
     "iopub.execute_input": "2022-07-09T06:45:22.414039Z",
     "iopub.status.busy": "2022-07-09T06:45:22.413482Z",
     "iopub.status.idle": "2022-07-09T06:45:22.421095Z",
     "shell.execute_reply": "2022-07-09T06:45:22.420418Z"
    },
    "lines_to_next_cell": 0,
    "papermill": {
     "duration": 0.01273,
     "end_time": "2022-07-09T06:45:22.422777",
     "exception": false,
     "start_time": "2022-07-09T06:45:22.410047",
     "status": "completed"
    },
    "tags": []
   },
   "outputs": [],
   "source": [
    "# ----------------- Parameters for interactive development --------------\n",
    "P = {\n",
    "    \"pipeline.run_environment\": \"dev\",\n",
    "    \"pipeline.data_lake_root\": \"/pipeline-outputs/data-lake\",\n",
    "    \"run.retry_nr\": \"1\",\n",
    "}"
   ]
  },
  {
   "cell_type": "code",
   "execution_count": 2,
   "id": "8f2aa262",
   "metadata": {
    "execution": {
     "iopub.execute_input": "2022-07-09T06:45:22.429083Z",
     "iopub.status.busy": "2022-07-09T06:45:22.428839Z",
     "iopub.status.idle": "2022-07-09T06:45:22.432004Z",
     "shell.execute_reply": "2022-07-09T06:45:22.431414Z"
    },
    "lines_to_next_cell": 0,
    "papermill": {
     "duration": 0.008069,
     "end_time": "2022-07-09T06:45:22.433319",
     "exception": false,
     "start_time": "2022-07-09T06:45:22.425250",
     "status": "completed"
    },
    "tags": [
     "parameters"
    ]
   },
   "outputs": [],
   "source": [
    "# - During automated runs parameters will be injected in the below cell -"
   ]
  },
  {
   "cell_type": "code",
   "execution_count": 3,
   "id": "f16798a2",
   "metadata": {
    "execution": {
     "iopub.execute_input": "2022-07-09T06:45:22.439099Z",
     "iopub.status.busy": "2022-07-09T06:45:22.438869Z",
     "iopub.status.idle": "2022-07-09T06:45:22.443305Z",
     "shell.execute_reply": "2022-07-09T06:45:22.442722Z"
    },
    "papermill": {
     "duration": 0.00906,
     "end_time": "2022-07-09T06:45:22.444754",
     "exception": false,
     "start_time": "2022-07-09T06:45:22.435694",
     "status": "completed"
    },
    "tags": [
     "injected-parameters"
    ]
   },
   "outputs": [],
   "source": [
    "# Parameters\n",
    "P = {\n",
    "    \"pipeline.data_lake_root\": \"/pipeline-outputs/data-lake\",\n",
    "    \"pipeline.run_environment\": \"ci\",\n",
    "    \"pipeline.pipeline_run_id\": \"9d8ed508-282f-4ff0-b957-e3510667b866\",\n",
    "    \"pipeline.github.repository\": \"pynb-dag-runner/mnist-digits-demo-pipeline\",\n",
    "    \"pipeline.github.workflow\": \"Run automated tests, pipeline and deploy results to static reporting site\",\n",
    "    \"pipeline.github.runner_name\": \"Hosted Agent\",\n",
    "    \"pipeline.github.run_id\": \"2640187557\",\n",
    "    \"pipeline.github.actor\": \"matiasdahl\",\n",
    "    \"pipeline.github.job\": \"run-tests-pipeline-and-persist-pipeline-outputs\",\n",
    "    \"pipeline.github.base_ref\": \"\",\n",
    "    \"pipeline.github.head_ref\": \"\",\n",
    "    \"pipeline.github.sha\": \"147a1be9916173fd4d2cd011d8d51e3411215850\",\n",
    "    \"pipeline.github.ref\": \"refs/heads/development\",\n",
    "    \"pipeline.github.ref_type\": \"branch\",\n",
    "    \"pipeline.github.ref_name\": \"development\",\n",
    "    \"pipeline.github.event_name\": \"schedule\",\n",
    "    \"task.notebook\": \"notebooks/ingest.py\",\n",
    "    \"task.max_nr_retries\": \"15\",\n",
    "    \"run.retry_nr\": \"10\",\n",
    "    \"task.timeout_s\": \"10\",\n",
    "    \"task.num_cpus\": 1,\n",
    "    \"_opentelemetry_traceparent\": \"00-1d815c5a09dbffbc1a17484614e87f58-1a0f5c9b78209cf6-01\",\n",
    "}\n"
   ]
  },
  {
   "cell_type": "code",
   "execution_count": 4,
   "id": "9c4ff398",
   "metadata": {
    "execution": {
     "iopub.execute_input": "2022-07-09T06:45:22.450626Z",
     "iopub.status.busy": "2022-07-09T06:45:22.450406Z",
     "iopub.status.idle": "2022-07-09T06:45:22.453137Z",
     "shell.execute_reply": "2022-07-09T06:45:22.452550Z"
    },
    "lines_to_next_cell": 0,
    "papermill": {
     "duration": 0.007431,
     "end_time": "2022-07-09T06:45:22.454499",
     "exception": false,
     "start_time": "2022-07-09T06:45:22.447068",
     "status": "completed"
    },
    "tags": []
   },
   "outputs": [],
   "source": [
    "# -----------------------------------------------------------------------"
   ]
  },
  {
   "cell_type": "markdown",
   "id": "7611bd2c",
   "metadata": {
    "lines_to_next_cell": 2,
    "papermill": {
     "duration": 0.002338,
     "end_time": "2022-07-09T06:45:22.459244",
     "exception": false,
     "start_time": "2022-07-09T06:45:22.456906",
     "status": "completed"
    },
    "tags": []
   },
   "source": [
    "---"
   ]
  },
  {
   "cell_type": "markdown",
   "id": "a2785ddb",
   "metadata": {
    "papermill": {
     "duration": 0.00224,
     "end_time": "2022-07-09T06:45:22.463936",
     "exception": false,
     "start_time": "2022-07-09T06:45:22.461696",
     "status": "completed"
    },
    "tags": []
   },
   "source": [
    "### Simulate different types of failures (for testing timeout and retry logic)"
   ]
  },
  {
   "cell_type": "code",
   "execution_count": 5,
   "id": "b927e475",
   "metadata": {
    "execution": {
     "iopub.execute_input": "2022-07-09T06:45:22.470446Z",
     "iopub.status.busy": "2022-07-09T06:45:22.469813Z",
     "iopub.status.idle": "2022-07-09T06:45:22.903351Z",
     "shell.execute_reply": "2022-07-09T06:45:22.902537Z"
    },
    "papermill": {
     "duration": 0.438664,
     "end_time": "2022-07-09T06:45:22.905108",
     "exception": false,
     "start_time": "2022-07-09T06:45:22.466444",
     "status": "completed"
    },
    "tags": []
   },
   "outputs": [
    {
     "name": "stderr",
     "output_type": "stream",
     "text": [
      "2022-07-09 06:45:22,755\tINFO worker.py:842 -- Connecting to existing Ray cluster at address: 172.17.0.2:6379\n"
     ]
    }
   ],
   "source": [
    "from pynb_dag_runner.tasks.task_opentelemetry_logging import PydarLogger\n",
    "\n",
    "logger = PydarLogger(P)"
   ]
  },
  {
   "cell_type": "code",
   "execution_count": 6,
   "id": "7a5cb179",
   "metadata": {
    "execution": {
     "iopub.execute_input": "2022-07-09T06:45:22.911809Z",
     "iopub.status.busy": "2022-07-09T06:45:22.911408Z",
     "iopub.status.idle": "2022-07-09T06:45:22.916349Z",
     "shell.execute_reply": "2022-07-09T06:45:22.915721Z"
    },
    "papermill": {
     "duration": 0.010008,
     "end_time": "2022-07-09T06:45:22.917784",
     "exception": false,
     "start_time": "2022-07-09T06:45:22.907776",
     "status": "completed"
    },
    "tags": []
   },
   "outputs": [],
   "source": [
    "import time, random\n",
    "\n",
    "\n",
    "def maybe_crash(retry_nr: int, run_environment: str):\n",
    "    if retry_nr == 2 and run_environment == \"ci\":\n",
    "        time.sleep(1e6)\n",
    "\n",
    "    max_retry_nr: int = 3 if run_environment == \"dev\" else 10\n",
    "\n",
    "    if retry_nr < max_retry_nr:\n",
    "        if random.random() < 0.1:\n",
    "            time.sleep(1e6)\n",
    "        else:\n",
    "            raise Exception(\"Simulated exception failure from ingestion step notebook!\")\n",
    "\n",
    "\n",
    "maybe_crash(\n",
    "    retry_nr=int(P[\"run.retry_nr\"]), run_environment=P[\"pipeline.run_environment\"]\n",
    ")"
   ]
  },
  {
   "cell_type": "markdown",
   "id": "a6376002",
   "metadata": {
    "lines_to_next_cell": 2,
    "papermill": {
     "duration": 0.002519,
     "end_time": "2022-07-09T06:45:22.923159",
     "exception": false,
     "start_time": "2022-07-09T06:45:22.920640",
     "status": "completed"
    },
    "tags": []
   },
   "source": [
    "### Notebook code"
   ]
  },
  {
   "cell_type": "code",
   "execution_count": 7,
   "id": "039f665b",
   "metadata": {
    "execution": {
     "iopub.execute_input": "2022-07-09T06:45:22.929376Z",
     "iopub.status.busy": "2022-07-09T06:45:22.928670Z",
     "iopub.status.idle": "2022-07-09T06:45:24.141540Z",
     "shell.execute_reply": "2022-07-09T06:45:24.140876Z"
    },
    "papermill": {
     "duration": 1.218093,
     "end_time": "2022-07-09T06:45:24.143578",
     "exception": false,
     "start_time": "2022-07-09T06:45:22.925485",
     "status": "completed"
    },
    "tags": []
   },
   "outputs": [],
   "source": [
    "from sklearn import datasets\n",
    "\n",
    "#\n",
    "from common.io import datalake_root, write_numpy"
   ]
  },
  {
   "cell_type": "code",
   "execution_count": 8,
   "id": "8885698e",
   "metadata": {
    "execution": {
     "iopub.execute_input": "2022-07-09T06:45:24.150924Z",
     "iopub.status.busy": "2022-07-09T06:45:24.150349Z",
     "iopub.status.idle": "2022-07-09T06:45:24.164439Z",
     "shell.execute_reply": "2022-07-09T06:45:24.163837Z"
    },
    "lines_to_next_cell": 2,
    "papermill": {
     "duration": 0.019284,
     "end_time": "2022-07-09T06:45:24.165954",
     "exception": false,
     "start_time": "2022-07-09T06:45:24.146670",
     "status": "completed"
    },
    "tags": []
   },
   "outputs": [],
   "source": [
    "digits = datasets.load_digits()\n",
    "\n",
    "X = digits[\"data\"]\n",
    "y = digits[\"target\"]"
   ]
  },
  {
   "cell_type": "code",
   "execution_count": 9,
   "id": "9eefeb0b",
   "metadata": {
    "execution": {
     "iopub.execute_input": "2022-07-09T06:45:24.172505Z",
     "iopub.status.busy": "2022-07-09T06:45:24.172044Z",
     "iopub.status.idle": "2022-07-09T06:45:24.184917Z",
     "shell.execute_reply": "2022-07-09T06:45:24.184172Z"
    },
    "papermill": {
     "duration": 0.018446,
     "end_time": "2022-07-09T06:45:24.187094",
     "exception": false,
     "start_time": "2022-07-09T06:45:24.168648",
     "status": "completed"
    },
    "tags": []
   },
   "outputs": [
    {
     "name": "stdout",
     "output_type": "stream",
     "text": [
      " - Logging data_shape (json) : [1797, 64]\n",
      " - Logging target_shape (json) : [1797]\n"
     ]
    },
    {
     "data": {
      "text/plain": [
       "((1797, 64), (1797,))"
      ]
     },
     "execution_count": 9,
     "metadata": {},
     "output_type": "execute_result"
    }
   ],
   "source": [
    "logger.log_value(\"data_shape\", list(X.shape))\n",
    "logger.log_value(\"target_shape\", list(y.shape))\n",
    "\n",
    "X.shape, y.shape"
   ]
  },
  {
   "cell_type": "code",
   "execution_count": 10,
   "id": "8b9bf128",
   "metadata": {
    "execution": {
     "iopub.execute_input": "2022-07-09T06:45:24.197792Z",
     "iopub.status.busy": "2022-07-09T06:45:24.197535Z",
     "iopub.status.idle": "2022-07-09T06:45:24.207413Z",
     "shell.execute_reply": "2022-07-09T06:45:24.206762Z"
    },
    "papermill": {
     "duration": 0.019547,
     "end_time": "2022-07-09T06:45:24.209374",
     "exception": false,
     "start_time": "2022-07-09T06:45:24.189827",
     "status": "completed"
    },
    "tags": []
   },
   "outputs": [],
   "source": [
    "write_numpy(datalake_root(P) / \"raw\" / \"digits.numpy\", X)\n",
    "write_numpy(datalake_root(P) / \"raw\" / \"labels.numpy\", y)"
   ]
  },
  {
   "cell_type": "code",
   "execution_count": null,
   "id": "850d8fe8",
   "metadata": {
    "papermill": {
     "duration": 0.002576,
     "end_time": "2022-07-09T06:45:24.214977",
     "exception": false,
     "start_time": "2022-07-09T06:45:24.212401",
     "status": "completed"
    },
    "tags": []
   },
   "outputs": [],
   "source": []
  }
 ],
 "metadata": {
  "jupytext": {
   "cell_metadata_filter": "tags,-all",
   "main_language": "python",
   "notebook_metadata_filter": "-all"
  },
  "language_info": {
   "codemirror_mode": {
    "name": "ipython",
    "version": 3
   },
   "file_extension": ".py",
   "mimetype": "text/x-python",
   "name": "python",
   "nbconvert_exporter": "python",
   "pygments_lexer": "ipython3",
   "version": "3.8.10"
  },
  "papermill": {
   "default_parameters": {},
   "duration": 3.878222,
   "end_time": "2022-07-09T06:45:25.135734",
   "environment_variables": {},
   "exception": null,
   "input_path": "/home/host_user/workspace/mnist-demo-pipeline/mnist-demo-pipeline/notebooks/temp-notebook-hgo8i6vn.ipynb",
   "output_path": "notebooks/ingest.ipynb",
   "parameters": {
    "P": {
     "_opentelemetry_traceparent": "00-1d815c5a09dbffbc1a17484614e87f58-1a0f5c9b78209cf6-01",
     "pipeline.data_lake_root": "/pipeline-outputs/data-lake",
     "pipeline.github.actor": "matiasdahl",
     "pipeline.github.base_ref": "",
     "pipeline.github.event_name": "schedule",
     "pipeline.github.head_ref": "",
     "pipeline.github.job": "run-tests-pipeline-and-persist-pipeline-outputs",
     "pipeline.github.ref": "refs/heads/development",
     "pipeline.github.ref_name": "development",
     "pipeline.github.ref_type": "branch",
     "pipeline.github.repository": "pynb-dag-runner/mnist-digits-demo-pipeline",
     "pipeline.github.run_id": "2640187557",
     "pipeline.github.runner_name": "Hosted Agent",
     "pipeline.github.sha": "147a1be9916173fd4d2cd011d8d51e3411215850",
     "pipeline.github.workflow": "Run automated tests, pipeline and deploy results to static reporting site",
     "pipeline.pipeline_run_id": "9d8ed508-282f-4ff0-b957-e3510667b866",
     "pipeline.run_environment": "ci",
     "run.retry_nr": "10",
     "task.max_nr_retries": "15",
     "task.notebook": "notebooks/ingest.py",
     "task.num_cpus": 1,
     "task.timeout_s": "10"
    }
   },
   "start_time": "2022-07-09T06:45:21.257512",
   "version": "2.3.3"
  }
 },
 "nbformat": 4,
 "nbformat_minor": 5
}