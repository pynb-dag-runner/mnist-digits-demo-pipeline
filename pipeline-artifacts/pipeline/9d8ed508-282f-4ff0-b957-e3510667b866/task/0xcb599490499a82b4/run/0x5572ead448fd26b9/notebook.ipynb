{
 "cells": [
  {
   "cell_type": "markdown",
   "id": "6230ec61",
   "metadata": {
    "papermill": {
     "duration": 0.005059,
     "end_time": "2022-07-09T06:45:55.702254",
     "exception": false,
     "start_time": "2022-07-09T06:45:55.697195",
     "status": "completed"
    },
    "tags": []
   },
   "source": [
    "# Benchmark model\n",
    "\n",
    "The purpose of this notebook is to benchmark persisted onnx-model (trained in the\n",
    "previous step) against evaluation set."
   ]
  },
  {
   "cell_type": "markdown",
   "id": "b7884473",
   "metadata": {
    "papermill": {
     "duration": 0.003732,
     "end_time": "2022-07-09T06:45:55.710476",
     "exception": false,
     "start_time": "2022-07-09T06:45:55.706744",
     "status": "completed"
    },
    "tags": []
   },
   "source": [
    "### Determine run parameters"
   ]
  },
  {
   "cell_type": "code",
   "execution_count": 1,
   "id": "bc3b36b6",
   "metadata": {
    "execution": {
     "iopub.execute_input": "2022-07-09T06:45:55.720003Z",
     "iopub.status.busy": "2022-07-09T06:45:55.719683Z",
     "iopub.status.idle": "2022-07-09T06:45:55.726832Z",
     "shell.execute_reply": "2022-07-09T06:45:55.726143Z"
    },
    "lines_to_next_cell": 0,
    "papermill": {
     "duration": 0.014188,
     "end_time": "2022-07-09T06:45:55.728372",
     "exception": false,
     "start_time": "2022-07-09T06:45:55.714184",
     "status": "completed"
    },
    "tags": []
   },
   "outputs": [],
   "source": [
    "# ----------------- Parameters for interactive development --------------\n",
    "P = {\n",
    "    \"pipeline.data_lake_root\": \"/pipeline-outputs/data-lake\",\n",
    "    \"task.nr_train_images\": 600,\n",
    "}"
   ]
  },
  {
   "cell_type": "code",
   "execution_count": 2,
   "id": "6fb2bd5f",
   "metadata": {
    "execution": {
     "iopub.execute_input": "2022-07-09T06:45:55.737944Z",
     "iopub.status.busy": "2022-07-09T06:45:55.737705Z",
     "iopub.status.idle": "2022-07-09T06:45:55.740761Z",
     "shell.execute_reply": "2022-07-09T06:45:55.740152Z"
    },
    "lines_to_next_cell": 0,
    "papermill": {
     "duration": 0.009946,
     "end_time": "2022-07-09T06:45:55.742151",
     "exception": false,
     "start_time": "2022-07-09T06:45:55.732205",
     "status": "completed"
    },
    "tags": [
     "parameters"
    ]
   },
   "outputs": [],
   "source": [
    "# - During automated runs parameters will be injected in the below cell -"
   ]
  },
  {
   "cell_type": "code",
   "execution_count": 3,
   "id": "a0c9143c",
   "metadata": {
    "execution": {
     "iopub.execute_input": "2022-07-09T06:45:55.751189Z",
     "iopub.status.busy": "2022-07-09T06:45:55.750783Z",
     "iopub.status.idle": "2022-07-09T06:45:55.755158Z",
     "shell.execute_reply": "2022-07-09T06:45:55.754587Z"
    },
    "papermill": {
     "duration": 0.010566,
     "end_time": "2022-07-09T06:45:55.756441",
     "exception": false,
     "start_time": "2022-07-09T06:45:55.745875",
     "status": "completed"
    },
    "tags": [
     "injected-parameters"
    ]
   },
   "outputs": [],
   "source": [
    "# Parameters\n",
    "P = {\n",
    "    \"pipeline.data_lake_root\": \"/pipeline-outputs/data-lake\",\n",
    "    \"pipeline.run_environment\": \"ci\",\n",
    "    \"pipeline.pipeline_run_id\": \"9d8ed508-282f-4ff0-b957-e3510667b866\",\n",
    "    \"pipeline.github.repository\": \"pynb-dag-runner/mnist-digits-demo-pipeline\",\n",
    "    \"pipeline.github.workflow\": \"Run automated tests, pipeline and deploy results to static reporting site\",\n",
    "    \"pipeline.github.runner_name\": \"Hosted Agent\",\n",
    "    \"pipeline.github.run_id\": \"2640187557\",\n",
    "    \"pipeline.github.actor\": \"matiasdahl\",\n",
    "    \"pipeline.github.job\": \"run-tests-pipeline-and-persist-pipeline-outputs\",\n",
    "    \"pipeline.github.base_ref\": \"\",\n",
    "    \"pipeline.github.head_ref\": \"\",\n",
    "    \"pipeline.github.sha\": \"147a1be9916173fd4d2cd011d8d51e3411215850\",\n",
    "    \"pipeline.github.ref\": \"refs/heads/development\",\n",
    "    \"pipeline.github.ref_type\": \"branch\",\n",
    "    \"pipeline.github.ref_name\": \"development\",\n",
    "    \"pipeline.github.event_name\": \"schedule\",\n",
    "    \"task.nr_train_images\": 800,\n",
    "    \"task.notebook\": \"notebooks/benchmark-model.py\",\n",
    "    \"task.max_nr_retries\": \"1\",\n",
    "    \"run.retry_nr\": \"0\",\n",
    "    \"task.timeout_s\": \"None\",\n",
    "    \"task.num_cpus\": 1,\n",
    "    \"_opentelemetry_traceparent\": \"00-1d815c5a09dbffbc1a17484614e87f58-2b5a6f371cf8069a-01\",\n",
    "}\n"
   ]
  },
  {
   "cell_type": "code",
   "execution_count": 4,
   "id": "a8f463f4",
   "metadata": {
    "execution": {
     "iopub.execute_input": "2022-07-09T06:45:55.765327Z",
     "iopub.status.busy": "2022-07-09T06:45:55.764936Z",
     "iopub.status.idle": "2022-07-09T06:45:55.768087Z",
     "shell.execute_reply": "2022-07-09T06:45:55.767313Z"
    },
    "lines_to_next_cell": 0,
    "papermill": {
     "duration": 0.00906,
     "end_time": "2022-07-09T06:45:55.769591",
     "exception": false,
     "start_time": "2022-07-09T06:45:55.760531",
     "status": "completed"
    },
    "tags": []
   },
   "outputs": [],
   "source": [
    "# -----------------------------------------------------------------------"
   ]
  },
  {
   "cell_type": "markdown",
   "id": "cfe363ad",
   "metadata": {
    "papermill": {
     "duration": 0.004067,
     "end_time": "2022-07-09T06:45:55.778599",
     "exception": false,
     "start_time": "2022-07-09T06:45:55.774532",
     "status": "completed"
    },
    "tags": []
   },
   "source": [
    "---"
   ]
  },
  {
   "cell_type": "markdown",
   "id": "8bade54f",
   "metadata": {
    "lines_to_next_cell": 2,
    "papermill": {
     "duration": 0.003813,
     "end_time": "2022-07-09T06:45:55.786058",
     "exception": false,
     "start_time": "2022-07-09T06:45:55.782245",
     "status": "completed"
    },
    "tags": []
   },
   "source": [
    "### Notebook code"
   ]
  },
  {
   "cell_type": "code",
   "execution_count": 5,
   "id": "d8a48c35",
   "metadata": {
    "execution": {
     "iopub.execute_input": "2022-07-09T06:45:55.795255Z",
     "iopub.status.busy": "2022-07-09T06:45:55.794763Z",
     "iopub.status.idle": "2022-07-09T06:45:56.976316Z",
     "shell.execute_reply": "2022-07-09T06:45:56.975555Z"
    },
    "papermill": {
     "duration": 1.188081,
     "end_time": "2022-07-09T06:45:56.978098",
     "exception": false,
     "start_time": "2022-07-09T06:45:55.790017",
     "status": "completed"
    },
    "tags": []
   },
   "outputs": [
    {
     "name": "stderr",
     "output_type": "stream",
     "text": [
      "2022-07-09 06:45:56,822\tINFO worker.py:842 -- Connecting to existing Ray cluster at address: 172.17.0.2:6379\n"
     ]
    }
   ],
   "source": [
    "import itertools as it\n",
    "\n",
    "#\n",
    "import numpy as np\n",
    "import matplotlib.pyplot as plt\n",
    "\n",
    "#\n",
    "from pynb_dag_runner.tasks.task_opentelemetry_logging import PydarLogger\n",
    "\n",
    "#\n",
    "from common.io import datalake_root\n",
    "\n",
    "logger = PydarLogger(P)"
   ]
  },
  {
   "cell_type": "markdown",
   "id": "cd244488",
   "metadata": {
    "papermill": {
     "duration": 0.006728,
     "end_time": "2022-07-09T06:45:56.989606",
     "exception": false,
     "start_time": "2022-07-09T06:45:56.982878",
     "status": "completed"
    },
    "tags": []
   },
   "source": [
    "## Load persisted onnx-model and evaluation data"
   ]
  },
  {
   "cell_type": "code",
   "execution_count": 6,
   "id": "f6f19f15",
   "metadata": {
    "execution": {
     "iopub.execute_input": "2022-07-09T06:45:57.000070Z",
     "iopub.status.busy": "2022-07-09T06:45:56.999701Z",
     "iopub.status.idle": "2022-07-09T06:45:57.003295Z",
     "shell.execute_reply": "2022-07-09T06:45:57.002743Z"
    },
    "papermill": {
     "duration": 0.011993,
     "end_time": "2022-07-09T06:45:57.006109",
     "exception": false,
     "start_time": "2022-07-09T06:45:56.994116",
     "status": "completed"
    },
    "tags": []
   },
   "outputs": [],
   "source": [
    "from common.io import read_onnx, get_onnx_inputs, get_onnx_outputs, read_numpy"
   ]
  },
  {
   "cell_type": "code",
   "execution_count": 7,
   "id": "eb1ac613",
   "metadata": {
    "execution": {
     "iopub.execute_input": "2022-07-09T06:45:57.016423Z",
     "iopub.status.busy": "2022-07-09T06:45:57.016180Z",
     "iopub.status.idle": "2022-07-09T06:45:57.027278Z",
     "shell.execute_reply": "2022-07-09T06:45:57.026744Z"
    },
    "lines_to_next_cell": 0,
    "papermill": {
     "duration": 0.01839,
     "end_time": "2022-07-09T06:45:57.028967",
     "exception": false,
     "start_time": "2022-07-09T06:45:57.010577",
     "status": "completed"
    },
    "tags": []
   },
   "outputs": [],
   "source": [
    "onnx_inference_session = read_onnx(\n",
    "    datalake_root(P)\n",
    "    / \"models\"\n",
    "    / f\"nr_train_images={P['task.nr_train_images']}\"\n",
    "    / \"model.onnx\"\n",
    ")"
   ]
  },
  {
   "cell_type": "markdown",
   "id": "a917de3b",
   "metadata": {
    "papermill": {
     "duration": 0.004598,
     "end_time": "2022-07-09T06:45:57.038062",
     "exception": false,
     "start_time": "2022-07-09T06:45:57.033464",
     "status": "completed"
    },
    "tags": []
   },
   "source": [
    "### Record structure of inputs and outputs for ONNX model\n",
    "\n",
    "(this should likely be done in training notebook)"
   ]
  },
  {
   "cell_type": "code",
   "execution_count": 8,
   "id": "d3d2a3d4",
   "metadata": {
    "execution": {
     "iopub.execute_input": "2022-07-09T06:45:57.047979Z",
     "iopub.status.busy": "2022-07-09T06:45:57.047715Z",
     "iopub.status.idle": "2022-07-09T06:45:57.055191Z",
     "shell.execute_reply": "2022-07-09T06:45:57.054658Z"
    },
    "papermill": {
     "duration": 0.017428,
     "end_time": "2022-07-09T06:45:57.059474",
     "exception": false,
     "start_time": "2022-07-09T06:45:57.042046",
     "status": "completed"
    },
    "tags": []
   },
   "outputs": [
    {
     "name": "stdout",
     "output_type": "stream",
     "text": [
      "{\n",
      "  \"inputs\": [\n",
      "    {\n",
      "      \"name\": \"float_input_8x8_image\",\n",
      "      \"shape\": [\n",
      "        null,\n",
      "        64\n",
      "      ],\n",
      "      \"type\": \"tensor(float)\"\n",
      "    }\n",
      "  ],\n",
      "  \"outputs\": [\n",
      "    {\n",
      "      \"name\": \"output_label\",\n",
      "      \"shape\": [\n",
      "        null\n",
      "      ],\n",
      "      \"type\": \"tensor(int64)\"\n",
      "    },\n",
      "    {\n",
      "      \"name\": \"output_probability\",\n",
      "      \"shape\": [],\n",
      "      \"type\": \"seq(map(int64,tensor(float)))\"\n",
      "    }\n",
      "  ]\n",
      "}\n"
     ]
    }
   ],
   "source": [
    "import json\n",
    "\n",
    "onnx_io = json.dumps(\n",
    "    {\n",
    "        \"inputs\": get_onnx_inputs(onnx_inference_session),\n",
    "        \"outputs\": get_onnx_outputs(onnx_inference_session),\n",
    "    },\n",
    "    indent=2,\n",
    ")\n",
    "\n",
    "\n",
    "logger.log_artefact(\"onnx_io_structure.json\", onnx_io)\n",
    "print(onnx_io)"
   ]
  },
  {
   "cell_type": "markdown",
   "id": "79b13559",
   "metadata": {
    "papermill": {
     "duration": 0.005546,
     "end_time": "2022-07-09T06:45:57.069088",
     "exception": false,
     "start_time": "2022-07-09T06:45:57.063542",
     "status": "completed"
    },
    "tags": []
   },
   "source": [
    "### Evaluate model performance on evaluation data set"
   ]
  },
  {
   "cell_type": "code",
   "execution_count": 9,
   "id": "358967a2",
   "metadata": {
    "execution": {
     "iopub.execute_input": "2022-07-09T06:45:57.079006Z",
     "iopub.status.busy": "2022-07-09T06:45:57.078303Z",
     "iopub.status.idle": "2022-07-09T06:45:57.085470Z",
     "shell.execute_reply": "2022-07-09T06:45:57.084718Z"
    },
    "papermill": {
     "duration": 0.018467,
     "end_time": "2022-07-09T06:45:57.091618",
     "exception": false,
     "start_time": "2022-07-09T06:45:57.073151",
     "status": "completed"
    },
    "tags": []
   },
   "outputs": [],
   "source": [
    "# load evaluation data\n",
    "X_test = read_numpy(datalake_root(P) / \"test-data\" / \"digits.numpy\")\n",
    "y_test = read_numpy(datalake_root(P) / \"test-data\" / \"labels.numpy\")"
   ]
  },
  {
   "cell_type": "code",
   "execution_count": 10,
   "id": "95209df6",
   "metadata": {
    "execution": {
     "iopub.execute_input": "2022-07-09T06:45:57.102474Z",
     "iopub.status.busy": "2022-07-09T06:45:57.102225Z",
     "iopub.status.idle": "2022-07-09T06:45:57.116810Z",
     "shell.execute_reply": "2022-07-09T06:45:57.115612Z"
    },
    "papermill": {
     "duration": 0.021265,
     "end_time": "2022-07-09T06:45:57.118503",
     "exception": false,
     "start_time": "2022-07-09T06:45:57.097238",
     "status": "completed"
    },
    "tags": []
   },
   "outputs": [],
   "source": [
    "def get_model_outputs(X, onnx_inference_session):\n",
    "    y_pred_labels, y_pred_map = onnx_inference_session.run(\n",
    "        [\"output_label\", \"output_probability\"],\n",
    "        {\"float_input_8x8_image\": X.astype(np.float32)},\n",
    "    )\n",
    "    y_pred_probs = np.array(\n",
    "        [[probabilities[digit] for digit in range(10)] for probabilities in y_pred_map]\n",
    "    )\n",
    "\n",
    "    assert y_pred_labels.shape == (X.shape[0],)\n",
    "    assert y_pred_probs.shape == (X.shape[0], 10)\n",
    "\n",
    "    return y_pred_labels, y_pred_probs\n",
    "\n",
    "\n",
    "# Note: as shown in the training notebook, the predicted labels and probabilities\n",
    "# computed below need not be compatible.\n",
    "y_pred_labels_test, y_pred_probs_test = get_model_outputs(\n",
    "    X_test, onnx_inference_session\n",
    ")"
   ]
  },
  {
   "cell_type": "markdown",
   "id": "18caec23",
   "metadata": {
    "papermill": {
     "duration": 0.005591,
     "end_time": "2022-07-09T06:45:57.128084",
     "exception": false,
     "start_time": "2022-07-09T06:45:57.122493",
     "status": "completed"
    },
    "tags": []
   },
   "source": [
    "### Confusion matrix"
   ]
  },
  {
   "cell_type": "code",
   "execution_count": 11,
   "id": "05b029eb",
   "metadata": {
    "execution": {
     "iopub.execute_input": "2022-07-09T06:45:57.138440Z",
     "iopub.status.busy": "2022-07-09T06:45:57.138189Z",
     "iopub.status.idle": "2022-07-09T06:45:57.140949Z",
     "shell.execute_reply": "2022-07-09T06:45:57.140447Z"
    },
    "papermill": {
     "duration": 0.011096,
     "end_time": "2022-07-09T06:45:57.143146",
     "exception": false,
     "start_time": "2022-07-09T06:45:57.132050",
     "status": "completed"
    },
    "tags": []
   },
   "outputs": [],
   "source": [
    "# TODO"
   ]
  },
  {
   "cell_type": "markdown",
   "id": "61c3c72f",
   "metadata": {
    "papermill": {
     "duration": 0.004163,
     "end_time": "2022-07-09T06:45:57.152257",
     "exception": false,
     "start_time": "2022-07-09T06:45:57.148094",
     "status": "completed"
    },
    "tags": []
   },
   "source": [
    "### Plot predicted probabilities for each classifier over all evaluation digit images"
   ]
  },
  {
   "cell_type": "code",
   "execution_count": 12,
   "id": "24b234fe",
   "metadata": {
    "execution": {
     "iopub.execute_input": "2022-07-09T06:45:57.162824Z",
     "iopub.status.busy": "2022-07-09T06:45:57.162583Z",
     "iopub.status.idle": "2022-07-09T06:46:00.412906Z",
     "shell.execute_reply": "2022-07-09T06:46:00.412366Z"
    },
    "papermill": {
     "duration": 3.257917,
     "end_time": "2022-07-09T06:46:00.414300",
     "exception": false,
     "start_time": "2022-07-09T06:45:57.156383",
     "status": "completed"
    },
    "tags": []
   },
   "outputs": [
    {
     "data": {
      "image/png": "[encoded data removed]",
      "text/plain": [
       "<Figure size 1152x432 with 10 Axes>"
      ]
     },
     "metadata": {
      "needs_background": "light"
     },
     "output_type": "display_data"
    }
   ],
   "source": [
    "def plot_per_digit_probabilities(y_pred_probs):\n",
    "    fig, axs = plt.subplots(nrows=2, ncols=5, figsize=(16, 6))\n",
    "\n",
    "    for (r, c), digit, ax in zip(\n",
    "        it.product(range(2), range(5)), range(10), axs.reshape(-1)\n",
    "    ):\n",
    "        ax.hist(y_pred_probs_test[:, digit], bins=20)\n",
    "\n",
    "        ax.set_title(f\"Digit {digit}\")\n",
    "        if r == 1 and c == 2:\n",
    "            ax.set_xlabel(\"probability\", fontsize=16)\n",
    "\n",
    "        if c == 0:\n",
    "            ax.set_ylabel(\"counts\", fontsize=16)\n",
    "        ax.set_yscale(\"log\")\n",
    "\n",
    "    fig.tight_layout()\n",
    "    fig.suptitle(\n",
    "        f\"Distributions of prediction probabilities for each digit \"\n",
    "        f\"(on evaluation data, n={y_pred_probs.shape[0]})\",\n",
    "        fontsize=20,\n",
    "    )\n",
    "    fig.tight_layout()\n",
    "    fig.show()\n",
    "\n",
    "    return fig\n",
    "\n",
    "\n",
    "fig = plot_per_digit_probabilities(y_pred_probs_test)"
   ]
  },
  {
   "cell_type": "markdown",
   "id": "b45ee822",
   "metadata": {
    "papermill": {
     "duration": 0.005014,
     "end_time": "2022-07-09T06:46:00.424495",
     "exception": false,
     "start_time": "2022-07-09T06:46:00.419481",
     "status": "completed"
    },
    "tags": []
   },
   "source": [
    "From the above distributions we see that most digits have clear separation between\n",
    "high and lower probabilities. Morover, in each case there is roughly an order of\n",
    "magnitude more of digits with low probabilities. This is compatible with digits\n",
    "being roughly evenly distributed in the data."
   ]
  },
  {
   "cell_type": "code",
   "execution_count": 13,
   "id": "ef23888b",
   "metadata": {
    "execution": {
     "iopub.execute_input": "2022-07-09T06:46:00.437849Z",
     "iopub.status.busy": "2022-07-09T06:46:00.436337Z",
     "iopub.status.idle": "2022-07-09T06:46:00.911311Z",
     "shell.execute_reply": "2022-07-09T06:46:00.910699Z"
    },
    "papermill": {
     "duration": 0.483652,
     "end_time": "2022-07-09T06:46:00.912995",
     "exception": false,
     "start_time": "2022-07-09T06:46:00.429343",
     "status": "completed"
    },
    "tags": []
   },
   "outputs": [],
   "source": [
    "logger.log_figure(\"per-digit-probabilities.png\", fig)"
   ]
  },
  {
   "cell_type": "markdown",
   "id": "850c27fc",
   "metadata": {
    "papermill": {
     "duration": 0.00531,
     "end_time": "2022-07-09T06:46:00.923299",
     "exception": false,
     "start_time": "2022-07-09T06:46:00.917989",
     "status": "completed"
    },
    "tags": []
   },
   "source": [
    "### Plot ROC curves for individual one-vs-rest classifiers"
   ]
  },
  {
   "cell_type": "code",
   "execution_count": 14,
   "id": "58dd1cb0",
   "metadata": {
    "execution": {
     "iopub.execute_input": "2022-07-09T06:46:00.935132Z",
     "iopub.status.busy": "2022-07-09T06:46:00.934625Z",
     "iopub.status.idle": "2022-07-09T06:46:01.392328Z",
     "shell.execute_reply": "2022-07-09T06:46:01.389657Z"
    },
    "papermill": {
     "duration": 0.468514,
     "end_time": "2022-07-09T06:46:01.397202",
     "exception": false,
     "start_time": "2022-07-09T06:46:00.928688",
     "status": "completed"
    },
    "tags": []
   },
   "outputs": [],
   "source": [
    "from sklearn import metrics"
   ]
  },
  {
   "cell_type": "code",
   "execution_count": 15,
   "id": "bbba379f",
   "metadata": {
    "execution": {
     "iopub.execute_input": "2022-07-09T06:46:01.419425Z",
     "iopub.status.busy": "2022-07-09T06:46:01.418777Z",
     "iopub.status.idle": "2022-07-09T06:46:02.509071Z",
     "shell.execute_reply": "2022-07-09T06:46:02.508390Z"
    },
    "papermill": {
     "duration": 1.103269,
     "end_time": "2022-07-09T06:46:02.511081",
     "exception": false,
     "start_time": "2022-07-09T06:46:01.407812",
     "status": "completed"
    },
    "tags": []
   },
   "outputs": [
    {
     "data": {
      "image/png": "[encoded data removed]",
      "text/plain": [
       "<Figure size 1152x576 with 10 Axes>"
      ]
     },
     "metadata": {
      "needs_background": "light"
     },
     "output_type": "display_data"
    }
   ],
   "source": [
    "def plot_roc_curves(y, y_pred_probs):\n",
    "    # based on example code\n",
    "    # https://scikit-learn.org/stable/auto_examples/model_selection/plot_roc.html\n",
    "\n",
    "    fig, axs = plt.subplots(nrows=2, ncols=5, figsize=(16, 8))\n",
    "\n",
    "    roc_auc_dict = {}\n",
    "\n",
    "    for (r, c), digit, ax in zip(\n",
    "        it.product(range(2), range(5)), range(10), axs.reshape(-1)\n",
    "    ):\n",
    "        fpr, tpr, _ = metrics.roc_curve(y == digit, y_pred_probs[:, digit])\n",
    "        auc = metrics.auc(fpr, tpr)\n",
    "        roc_auc_dict[str(digit)] = auc\n",
    "\n",
    "        ax.plot(fpr, tpr, label=f\"ROC AUC={round(auc, 3)}\")\n",
    "\n",
    "        ax.set_title(f\"\\nDigit {digit}\", fontsize=16)\n",
    "        if r == 1:\n",
    "            ax.set_xlabel(\"FPR\", fontsize=18)\n",
    "\n",
    "        if c == 0:\n",
    "            ax.set_ylabel(\"TPR\", fontsize=18)\n",
    "\n",
    "        ax.set_xlim([-0.05, 1.05])\n",
    "        ax.set_ylim([-0.05, 1.05])\n",
    "        ax.legend(loc=\"lower right\", frameon=False, fontsize=14)\n",
    "\n",
    "    fig.tight_layout()\n",
    "    fig.suptitle(\n",
    "        f\"ROC plots for one-vs-rest performances \"\n",
    "        f\"(on evaluation data, n={y_pred_probs_test.shape[1]}\",\n",
    "        fontsize=22,\n",
    "    )\n",
    "    fig.tight_layout()\n",
    "    fig.show()\n",
    "\n",
    "    return roc_auc_dict, fig\n",
    "\n",
    "\n",
    "roc_auc_dict, fig = plot_roc_curves(y_test, y_pred_probs_test)"
   ]
  },
  {
   "cell_type": "code",
   "execution_count": 16,
   "id": "8cc4f37a",
   "metadata": {
    "execution": {
     "iopub.execute_input": "2022-07-09T06:46:02.525083Z",
     "iopub.status.busy": "2022-07-09T06:46:02.524721Z",
     "iopub.status.idle": "2022-07-09T06:46:02.766094Z",
     "shell.execute_reply": "2022-07-09T06:46:02.765016Z"
    },
    "papermill": {
     "duration": 0.250038,
     "end_time": "2022-07-09T06:46:02.767903",
     "exception": false,
     "start_time": "2022-07-09T06:46:02.517865",
     "status": "completed"
    },
    "tags": []
   },
   "outputs": [],
   "source": [
    "logger.log_figure(\"per-digit-roc-curves.png\", fig)"
   ]
  },
  {
   "cell_type": "code",
   "execution_count": 17,
   "id": "e99d0de1",
   "metadata": {
    "execution": {
     "iopub.execute_input": "2022-07-09T06:46:02.782665Z",
     "iopub.status.busy": "2022-07-09T06:46:02.782302Z",
     "iopub.status.idle": "2022-07-09T06:46:02.787864Z",
     "shell.execute_reply": "2022-07-09T06:46:02.787210Z"
    },
    "papermill": {
     "duration": 0.016168,
     "end_time": "2022-07-09T06:46:02.790738",
     "exception": false,
     "start_time": "2022-07-09T06:46:02.774570",
     "status": "completed"
    },
    "tags": []
   },
   "outputs": [
    {
     "data": {
      "text/plain": [
       "{'0': 1.0,\n",
       " '1': 0.9988003748828491,\n",
       " '2': 1.0,\n",
       " '3': 0.9998875351452671,\n",
       " '4': 0.9995046486816034,\n",
       " '5': 0.9991377694470478,\n",
       " '6': 0.999961896052431,\n",
       " '7': 0.9998856881572931,\n",
       " '8': 0.9932613493064313,\n",
       " '9': 0.9994284407864655}"
      ]
     },
     "execution_count": 17,
     "metadata": {},
     "output_type": "execute_result"
    }
   ],
   "source": [
    "roc_auc_dict"
   ]
  },
  {
   "cell_type": "code",
   "execution_count": 18,
   "id": "1f5158e3",
   "metadata": {
    "execution": {
     "iopub.execute_input": "2022-07-09T06:46:02.807047Z",
     "iopub.status.busy": "2022-07-09T06:46:02.806370Z",
     "iopub.status.idle": "2022-07-09T06:46:02.810909Z",
     "shell.execute_reply": "2022-07-09T06:46:02.810249Z"
    },
    "papermill": {
     "duration": 0.016241,
     "end_time": "2022-07-09T06:46:02.813867",
     "exception": false,
     "start_time": "2022-07-09T06:46:02.797626",
     "status": "completed"
    },
    "tags": []
   },
   "outputs": [
    {
     "name": "stdout",
     "output_type": "stream",
     "text": [
      " - Logging roc_auc_per_digit (json) : {'0': 1.0, '1': 0.9988003748828491, '2': 1.0, '3': 0.9998875351452671, '4': 0.9995046486816034, '5': 0.9991377694470478, '6': 0.999961896052431, '7': 0.9998856881572931, '8': 0.9932613493064313, '9': 0.9994284407864655}\n"
     ]
    }
   ],
   "source": [
    "logger.log_value(\"roc_auc_per_digit\", roc_auc_dict)"
   ]
  },
  {
   "cell_type": "markdown",
   "id": "7c763701",
   "metadata": {
    "papermill": {
     "duration": 0.006559,
     "end_time": "2022-07-09T06:46:02.827212",
     "exception": false,
     "start_time": "2022-07-09T06:46:02.820653",
     "status": "completed"
    },
    "tags": []
   },
   "source": [
    "### Compute and log mean ROC AUC score averaged over all digits"
   ]
  },
  {
   "cell_type": "code",
   "execution_count": 19,
   "id": "01052810",
   "metadata": {
    "execution": {
     "iopub.execute_input": "2022-07-09T06:46:02.842825Z",
     "iopub.status.busy": "2022-07-09T06:46:02.842101Z",
     "iopub.status.idle": "2022-07-09T06:46:02.858338Z",
     "shell.execute_reply": "2022-07-09T06:46:02.857150Z"
    },
    "papermill": {
     "duration": 0.026058,
     "end_time": "2022-07-09T06:46:02.860100",
     "exception": false,
     "start_time": "2022-07-09T06:46:02.834042",
     "status": "completed"
    },
    "tags": []
   },
   "outputs": [
    {
     "name": "stdout",
     "output_type": "stream",
     "text": [
      " - Logging roc_auc_class_mean (float) : 0.9989867702459387\n"
     ]
    }
   ],
   "source": [
    "roc_auc_macro = np.mean(list(roc_auc_dict.values()))\n",
    "\n",
    "logger.log_float(\"roc_auc_class_mean\", roc_auc_macro)\n",
    "\n",
    "# assert that the same value can be computed directly using sklearn\n",
    "assert roc_auc_macro == metrics.roc_auc_score(\n",
    "    y_test, y_pred_probs_test, average=\"macro\", multi_class=\"ovr\"\n",
    ")"
   ]
  },
  {
   "cell_type": "code",
   "execution_count": 20,
   "id": "ae3afeaa",
   "metadata": {
    "execution": {
     "iopub.execute_input": "2022-07-09T06:46:02.875930Z",
     "iopub.status.busy": "2022-07-09T06:46:02.875214Z",
     "iopub.status.idle": "2022-07-09T06:46:02.878888Z",
     "shell.execute_reply": "2022-07-09T06:46:02.878215Z"
    },
    "lines_to_next_cell": 0,
    "papermill": {
     "duration": 0.014814,
     "end_time": "2022-07-09T06:46:02.881704",
     "exception": false,
     "start_time": "2022-07-09T06:46:02.866890",
     "status": "completed"
    },
    "tags": []
   },
   "outputs": [],
   "source": [
    "# ---"
   ]
  },
  {
   "cell_type": "code",
   "execution_count": null,
   "id": "75ce5b06",
   "metadata": {
    "papermill": {
     "duration": 0.006562,
     "end_time": "2022-07-09T06:46:02.895186",
     "exception": false,
     "start_time": "2022-07-09T06:46:02.888624",
     "status": "completed"
    },
    "tags": []
   },
   "outputs": [],
   "source": []
  }
 ],
 "metadata": {
  "jupytext": {
   "cell_metadata_filter": "tags,-all",
   "main_language": "python",
   "notebook_metadata_filter": "-all"
  },
  "language_info": {
   "codemirror_mode": {
    "name": "ipython",
    "version": 3
   },
   "file_extension": ".py",
   "mimetype": "text/x-python",
   "name": "python",
   "nbconvert_exporter": "python",
   "pygments_lexer": "ipython3",
   "version": "3.8.10"
  },
  "papermill": {
   "default_parameters": {},
   "duration": 9.721455,
   "end_time": "2022-07-09T06:46:04.024081",
   "environment_variables": {},
   "exception": null,
   "input_path": "/home/host_user/workspace/mnist-demo-pipeline/mnist-demo-pipeline/notebooks/temp-notebook-qjvjtyyp.ipynb",
   "output_path": "notebooks/benchmark-model.ipynb",
   "parameters": {
    "P": {
     "_opentelemetry_traceparent": "00-1d815c5a09dbffbc1a17484614e87f58-2b5a6f371cf8069a-01",
     "pipeline.data_lake_root": "/pipeline-outputs/data-lake",
     "pipeline.github.actor": "matiasdahl",
     "pipeline.github.base_ref": "",
     "pipeline.github.event_name": "schedule",
     "pipeline.github.head_ref": "",
     "pipeline.github.job": "run-tests-pipeline-and-persist-pipeline-outputs",
     "pipeline.github.ref": "refs/heads/development",
     "pipeline.github.ref_name": "development",
     "pipeline.github.ref_type": "branch",
     "pipeline.github.repository": "pynb-dag-runner/mnist-digits-demo-pipeline",
     "pipeline.github.run_id": "2640187557",
     "pipeline.github.runner_name": "Hosted Agent",
     "pipeline.github.sha": "147a1be9916173fd4d2cd011d8d51e3411215850",
     "pipeline.github.workflow": "Run automated tests, pipeline and deploy results to static reporting site",
     "pipeline.pipeline_run_id": "9d8ed508-282f-4ff0-b957-e3510667b866",
     "pipeline.run_environment": "ci",
     "run.retry_nr": "0",
     "task.max_nr_retries": "1",
     "task.notebook": "notebooks/benchmark-model.py",
     "task.nr_train_images": 800,
     "task.num_cpus": 1,
     "task.timeout_s": "None"
    }
   },
   "start_time": "2022-07-09T06:45:54.302626",
   "version": "2.3.3"
  }
 },
 "nbformat": 4,
 "nbformat_minor": 5
}