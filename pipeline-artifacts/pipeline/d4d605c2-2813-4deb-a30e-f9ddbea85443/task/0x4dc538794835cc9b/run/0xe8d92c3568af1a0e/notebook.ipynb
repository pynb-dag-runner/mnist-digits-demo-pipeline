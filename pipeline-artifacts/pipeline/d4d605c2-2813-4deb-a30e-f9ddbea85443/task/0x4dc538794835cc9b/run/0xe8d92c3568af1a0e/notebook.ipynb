{
 "cells": [
  {
   "cell_type": "markdown",
   "id": "22438742",
   "metadata": {
    "papermill": {
     "duration": 0.003741,
     "end_time": "2022-07-11T06:49:28.796115",
     "exception": false,
     "start_time": "2022-07-11T06:49:28.792374",
     "status": "completed"
    },
    "tags": []
   },
   "source": [
    "# Ingest toy version of MNIST digit data from sklearn"
   ]
  },
  {
   "cell_type": "markdown",
   "id": "b2763bac",
   "metadata": {
    "papermill": {
     "duration": 0.002254,
     "end_time": "2022-07-11T06:49:28.800923",
     "exception": false,
     "start_time": "2022-07-11T06:49:28.798669",
     "status": "completed"
    },
    "tags": []
   },
   "source": [
    "### Determine run parameters"
   ]
  },
  {
   "cell_type": "code",
   "execution_count": 1,
   "id": "657b88af",
   "metadata": {
    "execution": {
     "iopub.execute_input": "2022-07-11T06:49:28.806838Z",
     "iopub.status.busy": "2022-07-11T06:49:28.806378Z",
     "iopub.status.idle": "2022-07-11T06:49:28.813586Z",
     "shell.execute_reply": "2022-07-11T06:49:28.812962Z"
    },
    "lines_to_next_cell": 0,
    "papermill": {
     "duration": 0.01205,
     "end_time": "2022-07-11T06:49:28.815105",
     "exception": false,
     "start_time": "2022-07-11T06:49:28.803055",
     "status": "completed"
    },
    "tags": []
   },
   "outputs": [],
   "source": [
    "# ----------------- Parameters for interactive development --------------\n",
    "P = {\n",
    "    \"pipeline.run_environment\": \"dev\",\n",
    "    \"pipeline.data_lake_root\": \"/pipeline-outputs/data-lake\",\n",
    "    \"run.retry_nr\": \"1\",\n",
    "}"
   ]
  },
  {
   "cell_type": "code",
   "execution_count": 2,
   "id": "cba6f9bb",
   "metadata": {
    "execution": {
     "iopub.execute_input": "2022-07-11T06:49:28.821166Z",
     "iopub.status.busy": "2022-07-11T06:49:28.820844Z",
     "iopub.status.idle": "2022-07-11T06:49:28.823655Z",
     "shell.execute_reply": "2022-07-11T06:49:28.823187Z"
    },
    "lines_to_next_cell": 0,
    "papermill": {
     "duration": 0.007232,
     "end_time": "2022-07-11T06:49:28.825042",
     "exception": false,
     "start_time": "2022-07-11T06:49:28.817810",
     "status": "completed"
    },
    "tags": [
     "parameters"
    ]
   },
   "outputs": [],
   "source": [
    "# - During automated runs parameters will be injected in the below cell -"
   ]
  },
  {
   "cell_type": "code",
   "execution_count": 3,
   "id": "0c17c342",
   "metadata": {
    "execution": {
     "iopub.execute_input": "2022-07-11T06:49:28.830798Z",
     "iopub.status.busy": "2022-07-11T06:49:28.830474Z",
     "iopub.status.idle": "2022-07-11T06:49:28.834703Z",
     "shell.execute_reply": "2022-07-11T06:49:28.834146Z"
    },
    "papermill": {
     "duration": 0.008811,
     "end_time": "2022-07-11T06:49:28.836293",
     "exception": false,
     "start_time": "2022-07-11T06:49:28.827482",
     "status": "completed"
    },
    "tags": [
     "injected-parameters"
    ]
   },
   "outputs": [],
   "source": [
    "# Parameters\n",
    "P = {\n",
    "    \"pipeline.data_lake_root\": \"/pipeline-outputs/data-lake\",\n",
    "    \"pipeline.run_environment\": \"ci\",\n",
    "    \"pipeline.pipeline_run_id\": \"d4d605c2-2813-4deb-a30e-f9ddbea85443\",\n",
    "    \"pipeline.github.repository\": \"pynb-dag-runner/mnist-digits-demo-pipeline\",\n",
    "    \"pipeline.github.workflow\": \"Run automated tests, pipeline and deploy results to static reporting site\",\n",
    "    \"pipeline.github.runner_name\": \"Hosted Agent\",\n",
    "    \"pipeline.github.run_id\": \"2647744933\",\n",
    "    \"pipeline.github.actor\": \"matiasdahl\",\n",
    "    \"pipeline.github.job\": \"run-tests-pipeline-and-persist-pipeline-outputs\",\n",
    "    \"pipeline.github.base_ref\": \"\",\n",
    "    \"pipeline.github.head_ref\": \"\",\n",
    "    \"pipeline.github.sha\": \"147a1be9916173fd4d2cd011d8d51e3411215850\",\n",
    "    \"pipeline.github.ref\": \"refs/heads/development\",\n",
    "    \"pipeline.github.ref_type\": \"branch\",\n",
    "    \"pipeline.github.ref_name\": \"development\",\n",
    "    \"pipeline.github.event_name\": \"schedule\",\n",
    "    \"task.notebook\": \"notebooks/ingest.py\",\n",
    "    \"task.max_nr_retries\": \"15\",\n",
    "    \"run.retry_nr\": \"10\",\n",
    "    \"task.timeout_s\": \"10\",\n",
    "    \"task.num_cpus\": 1,\n",
    "    \"_opentelemetry_traceparent\": \"00-275834b9e35d620e6f49159cc81b626e-c7c67db803a6fe09-01\",\n",
    "}\n"
   ]
  },
  {
   "cell_type": "code",
   "execution_count": 4,
   "id": "f0a6c9cd",
   "metadata": {
    "execution": {
     "iopub.execute_input": "2022-07-11T06:49:28.843783Z",
     "iopub.status.busy": "2022-07-11T06:49:28.843403Z",
     "iopub.status.idle": "2022-07-11T06:49:28.846186Z",
     "shell.execute_reply": "2022-07-11T06:49:28.845413Z"
    },
    "lines_to_next_cell": 0,
    "papermill": {
     "duration": 0.009816,
     "end_time": "2022-07-11T06:49:28.848424",
     "exception": false,
     "start_time": "2022-07-11T06:49:28.838608",
     "status": "completed"
    },
    "tags": []
   },
   "outputs": [],
   "source": [
    "# -----------------------------------------------------------------------"
   ]
  },
  {
   "cell_type": "markdown",
   "id": "70f44d54",
   "metadata": {
    "lines_to_next_cell": 2,
    "papermill": {
     "duration": 0.002236,
     "end_time": "2022-07-11T06:49:28.853073",
     "exception": false,
     "start_time": "2022-07-11T06:49:28.850837",
     "status": "completed"
    },
    "tags": []
   },
   "source": [
    "---"
   ]
  },
  {
   "cell_type": "markdown",
   "id": "6a5ccfb1",
   "metadata": {
    "papermill": {
     "duration": 0.002376,
     "end_time": "2022-07-11T06:49:28.857612",
     "exception": false,
     "start_time": "2022-07-11T06:49:28.855236",
     "status": "completed"
    },
    "tags": []
   },
   "source": [
    "### Simulate different types of failures (for testing timeout and retry logic)"
   ]
  },
  {
   "cell_type": "code",
   "execution_count": 5,
   "id": "de4646cd",
   "metadata": {
    "execution": {
     "iopub.execute_input": "2022-07-11T06:49:28.863220Z",
     "iopub.status.busy": "2022-07-11T06:49:28.863006Z",
     "iopub.status.idle": "2022-07-11T06:49:29.298681Z",
     "shell.execute_reply": "2022-07-11T06:49:29.298004Z"
    },
    "papermill": {
     "duration": 0.44079,
     "end_time": "2022-07-11T06:49:29.300545",
     "exception": false,
     "start_time": "2022-07-11T06:49:28.859755",
     "status": "completed"
    },
    "tags": []
   },
   "outputs": [
    {
     "name": "stderr",
     "output_type": "stream",
     "text": [
      "2022-07-11 06:49:29,152\tINFO worker.py:842 -- Connecting to existing Ray cluster at address: 172.17.0.2:6379\n"
     ]
    }
   ],
   "source": [
    "from pynb_dag_runner.tasks.task_opentelemetry_logging import PydarLogger\n",
    "\n",
    "logger = PydarLogger(P)"
   ]
  },
  {
   "cell_type": "code",
   "execution_count": 6,
   "id": "b59be76f",
   "metadata": {
    "execution": {
     "iopub.execute_input": "2022-07-11T06:49:29.307744Z",
     "iopub.status.busy": "2022-07-11T06:49:29.307221Z",
     "iopub.status.idle": "2022-07-11T06:49:29.312282Z",
     "shell.execute_reply": "2022-07-11T06:49:29.311354Z"
    },
    "papermill": {
     "duration": 0.01001,
     "end_time": "2022-07-11T06:49:29.313747",
     "exception": false,
     "start_time": "2022-07-11T06:49:29.303737",
     "status": "completed"
    },
    "tags": []
   },
   "outputs": [],
   "source": [
    "import time, random\n",
    "\n",
    "\n",
    "def maybe_crash(retry_nr: int, run_environment: str):\n",
    "    if retry_nr == 2 and run_environment == \"ci\":\n",
    "        time.sleep(1e6)\n",
    "\n",
    "    max_retry_nr: int = 3 if run_environment == \"dev\" else 10\n",
    "\n",
    "    if retry_nr < max_retry_nr:\n",
    "        if random.random() < 0.1:\n",
    "            time.sleep(1e6)\n",
    "        else:\n",
    "            raise Exception(\"Simulated exception failure from ingestion step notebook!\")\n",
    "\n",
    "\n",
    "maybe_crash(\n",
    "    retry_nr=int(P[\"run.retry_nr\"]), run_environment=P[\"pipeline.run_environment\"]\n",
    ")"
   ]
  },
  {
   "cell_type": "markdown",
   "id": "803d7ccc",
   "metadata": {
    "lines_to_next_cell": 2,
    "papermill": {
     "duration": 0.002586,
     "end_time": "2022-07-11T06:49:29.318660",
     "exception": false,
     "start_time": "2022-07-11T06:49:29.316074",
     "status": "completed"
    },
    "tags": []
   },
   "source": [
    "### Notebook code"
   ]
  },
  {
   "cell_type": "code",
   "execution_count": 7,
   "id": "f708b279",
   "metadata": {
    "execution": {
     "iopub.execute_input": "2022-07-11T06:49:29.324915Z",
     "iopub.status.busy": "2022-07-11T06:49:29.324466Z",
     "iopub.status.idle": "2022-07-11T06:49:30.527182Z",
     "shell.execute_reply": "2022-07-11T06:49:30.525993Z"
    },
    "papermill": {
     "duration": 1.20802,
     "end_time": "2022-07-11T06:49:30.529035",
     "exception": false,
     "start_time": "2022-07-11T06:49:29.321015",
     "status": "completed"
    },
    "tags": []
   },
   "outputs": [],
   "source": [
    "from sklearn import datasets\n",
    "\n",
    "#\n",
    "from common.io import datalake_root, write_numpy"
   ]
  },
  {
   "cell_type": "code",
   "execution_count": 8,
   "id": "7f85f6f0",
   "metadata": {
    "execution": {
     "iopub.execute_input": "2022-07-11T06:49:30.536038Z",
     "iopub.status.busy": "2022-07-11T06:49:30.535619Z",
     "iopub.status.idle": "2022-07-11T06:49:30.548909Z",
     "shell.execute_reply": "2022-07-11T06:49:30.548330Z"
    },
    "lines_to_next_cell": 2,
    "papermill": {
     "duration": 0.018466,
     "end_time": "2022-07-11T06:49:30.550411",
     "exception": false,
     "start_time": "2022-07-11T06:49:30.531945",
     "status": "completed"
    },
    "tags": []
   },
   "outputs": [],
   "source": [
    "digits = datasets.load_digits()\n",
    "\n",
    "X = digits[\"data\"]\n",
    "y = digits[\"target\"]"
   ]
  },
  {
   "cell_type": "code",
   "execution_count": 9,
   "id": "6d7e2ecd",
   "metadata": {
    "execution": {
     "iopub.execute_input": "2022-07-11T06:49:30.557466Z",
     "iopub.status.busy": "2022-07-11T06:49:30.557104Z",
     "iopub.status.idle": "2022-07-11T06:49:30.568378Z",
     "shell.execute_reply": "2022-07-11T06:49:30.567861Z"
    },
    "papermill": {
     "duration": 0.016458,
     "end_time": "2022-07-11T06:49:30.569852",
     "exception": false,
     "start_time": "2022-07-11T06:49:30.553394",
     "status": "completed"
    },
    "tags": []
   },
   "outputs": [
    {
     "name": "stdout",
     "output_type": "stream",
     "text": [
      " - Logging data_shape (json) : [1797, 64]\n",
      " - Logging target_shape (json) : [1797]\n"
     ]
    },
    {
     "data": {
      "text/plain": [
       "((1797, 64), (1797,))"
      ]
     },
     "execution_count": 9,
     "metadata": {},
     "output_type": "execute_result"
    }
   ],
   "source": [
    "logger.log_value(\"data_shape\", list(X.shape))\n",
    "logger.log_value(\"target_shape\", list(y.shape))\n",
    "\n",
    "X.shape, y.shape"
   ]
  },
  {
   "cell_type": "code",
   "execution_count": 10,
   "id": "ae9ab17d",
   "metadata": {
    "execution": {
     "iopub.execute_input": "2022-07-11T06:49:30.579743Z",
     "iopub.status.busy": "2022-07-11T06:49:30.579352Z",
     "iopub.status.idle": "2022-07-11T06:49:30.588296Z",
     "shell.execute_reply": "2022-07-11T06:49:30.587577Z"
    },
    "papermill": {
     "duration": 0.017376,
     "end_time": "2022-07-11T06:49:30.589852",
     "exception": false,
     "start_time": "2022-07-11T06:49:30.572476",
     "status": "completed"
    },
    "tags": []
   },
   "outputs": [],
   "source": [
    "write_numpy(datalake_root(P) / \"raw\" / \"digits.numpy\", X)\n",
    "write_numpy(datalake_root(P) / \"raw\" / \"labels.numpy\", y)"
   ]
  },
  {
   "cell_type": "code",
   "execution_count": null,
   "id": "55844735",
   "metadata": {
    "papermill": {
     "duration": 0.002637,
     "end_time": "2022-07-11T06:49:30.595046",
     "exception": false,
     "start_time": "2022-07-11T06:49:30.592409",
     "status": "completed"
    },
    "tags": []
   },
   "outputs": [],
   "source": []
  }
 ],
 "metadata": {
  "jupytext": {
   "cell_metadata_filter": "tags,-all",
   "main_language": "python",
   "notebook_metadata_filter": "-all"
  },
  "language_info": {
   "codemirror_mode": {
    "name": "ipython",
    "version": 3
   },
   "file_extension": ".py",
   "mimetype": "text/x-python",
   "name": "python",
   "nbconvert_exporter": "python",
   "pygments_lexer": "ipython3",
   "version": "3.8.10"
  },
  "papermill": {
   "default_parameters": {},
   "duration": 4.014275,
   "end_time": "2022-07-11T06:49:31.616476",
   "environment_variables": {},
   "exception": null,
   "input_path": "/home/host_user/workspace/mnist-demo-pipeline/mnist-demo-pipeline/notebooks/temp-notebook-fb89lbok.ipynb",
   "output_path": "notebooks/ingest.ipynb",
   "parameters": {
    "P": {
     "_opentelemetry_traceparent": "00-275834b9e35d620e6f49159cc81b626e-c7c67db803a6fe09-01",
     "pipeline.data_lake_root": "/pipeline-outputs/data-lake",
     "pipeline.github.actor": "matiasdahl",
     "pipeline.github.base_ref": "",
     "pipeline.github.event_name": "schedule",
     "pipeline.github.head_ref": "",
     "pipeline.github.job": "run-tests-pipeline-and-persist-pipeline-outputs",
     "pipeline.github.ref": "refs/heads/development",
     "pipeline.github.ref_name": "development",
     "pipeline.github.ref_type": "branch",
     "pipeline.github.repository": "pynb-dag-runner/mnist-digits-demo-pipeline",
     "pipeline.github.run_id": "2647744933",
     "pipeline.github.runner_name": "Hosted Agent",
     "pipeline.github.sha": "147a1be9916173fd4d2cd011d8d51e3411215850",
     "pipeline.github.workflow": "Run automated tests, pipeline and deploy results to static reporting site",
     "pipeline.pipeline_run_id": "d4d605c2-2813-4deb-a30e-f9ddbea85443",
     "pipeline.run_environment": "ci",
     "run.retry_nr": "10",
     "task.max_nr_retries": "15",
     "task.notebook": "notebooks/ingest.py",
     "task.num_cpus": 1,
     "task.timeout_s": "10"
    }
   },
   "start_time": "2022-07-11T06:49:27.602201",
   "version": "2.3.3"
  }
 },
 "nbformat": 4,
 "nbformat_minor": 5
}