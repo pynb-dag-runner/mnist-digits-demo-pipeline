{
 "cells": [
  {
   "cell_type": "markdown",
   "id": "f0652340",
   "metadata": {
    "papermill": {
     "duration": 0.005607,
     "end_time": "2022-07-11T06:49:52.008952",
     "exception": false,
     "start_time": "2022-07-11T06:49:52.003345",
     "status": "completed"
    },
    "tags": []
   },
   "source": [
    "# Benchmark model\n",
    "\n",
    "The purpose of this notebook is to benchmark persisted onnx-model (trained in the\n",
    "previous step) against evaluation set."
   ]
  },
  {
   "cell_type": "markdown",
   "id": "f926ecbe",
   "metadata": {
    "papermill": {
     "duration": 0.006843,
     "end_time": "2022-07-11T06:49:52.019910",
     "exception": false,
     "start_time": "2022-07-11T06:49:52.013067",
     "status": "completed"
    },
    "tags": []
   },
   "source": [
    "### Determine run parameters"
   ]
  },
  {
   "cell_type": "code",
   "execution_count": 1,
   "id": "4849f01d",
   "metadata": {
    "execution": {
     "iopub.execute_input": "2022-07-11T06:49:52.029665Z",
     "iopub.status.busy": "2022-07-11T06:49:52.029340Z",
     "iopub.status.idle": "2022-07-11T06:49:52.036757Z",
     "shell.execute_reply": "2022-07-11T06:49:52.036231Z"
    },
    "lines_to_next_cell": 0,
    "papermill": {
     "duration": 0.015559,
     "end_time": "2022-07-11T06:49:52.039144",
     "exception": false,
     "start_time": "2022-07-11T06:49:52.023585",
     "status": "completed"
    },
    "tags": []
   },
   "outputs": [],
   "source": [
    "# ----------------- Parameters for interactive development --------------\n",
    "P = {\n",
    "    \"pipeline.data_lake_root\": \"/pipeline-outputs/data-lake\",\n",
    "    \"task.nr_train_images\": 600,\n",
    "}"
   ]
  },
  {
   "cell_type": "code",
   "execution_count": 2,
   "id": "5f3224e7",
   "metadata": {
    "execution": {
     "iopub.execute_input": "2022-07-11T06:49:52.048072Z",
     "iopub.status.busy": "2022-07-11T06:49:52.047874Z",
     "iopub.status.idle": "2022-07-11T06:49:52.050549Z",
     "shell.execute_reply": "2022-07-11T06:49:52.050054Z"
    },
    "lines_to_next_cell": 0,
    "papermill": {
     "duration": 0.009627,
     "end_time": "2022-07-11T06:49:52.052754",
     "exception": false,
     "start_time": "2022-07-11T06:49:52.043127",
     "status": "completed"
    },
    "tags": [
     "parameters"
    ]
   },
   "outputs": [],
   "source": [
    "# - During automated runs parameters will be injected in the below cell -"
   ]
  },
  {
   "cell_type": "code",
   "execution_count": 3,
   "id": "73d3fa76",
   "metadata": {
    "execution": {
     "iopub.execute_input": "2022-07-11T06:49:52.061898Z",
     "iopub.status.busy": "2022-07-11T06:49:52.061693Z",
     "iopub.status.idle": "2022-07-11T06:49:52.066256Z",
     "shell.execute_reply": "2022-07-11T06:49:52.065542Z"
    },
    "papermill": {
     "duration": 0.011903,
     "end_time": "2022-07-11T06:49:52.068697",
     "exception": false,
     "start_time": "2022-07-11T06:49:52.056794",
     "status": "completed"
    },
    "tags": [
     "injected-parameters"
    ]
   },
   "outputs": [],
   "source": [
    "# Parameters\n",
    "P = {\n",
    "    \"pipeline.data_lake_root\": \"/pipeline-outputs/data-lake\",\n",
    "    \"pipeline.run_environment\": \"ci\",\n",
    "    \"pipeline.pipeline_run_id\": \"d4d605c2-2813-4deb-a30e-f9ddbea85443\",\n",
    "    \"pipeline.github.repository\": \"pynb-dag-runner/mnist-digits-demo-pipeline\",\n",
    "    \"pipeline.github.workflow\": \"Run automated tests, pipeline and deploy results to static reporting site\",\n",
    "    \"pipeline.github.runner_name\": \"Hosted Agent\",\n",
    "    \"pipeline.github.run_id\": \"2647744933\",\n",
    "    \"pipeline.github.actor\": \"matiasdahl\",\n",
    "    \"pipeline.github.job\": \"run-tests-pipeline-and-persist-pipeline-outputs\",\n",
    "    \"pipeline.github.base_ref\": \"\",\n",
    "    \"pipeline.github.head_ref\": \"\",\n",
    "    \"pipeline.github.sha\": \"147a1be9916173fd4d2cd011d8d51e3411215850\",\n",
    "    \"pipeline.github.ref\": \"refs/heads/development\",\n",
    "    \"pipeline.github.ref_type\": \"branch\",\n",
    "    \"pipeline.github.ref_name\": \"development\",\n",
    "    \"pipeline.github.event_name\": \"schedule\",\n",
    "    \"task.nr_train_images\": 800,\n",
    "    \"task.notebook\": \"notebooks/benchmark-model.py\",\n",
    "    \"task.max_nr_retries\": \"1\",\n",
    "    \"run.retry_nr\": \"0\",\n",
    "    \"task.timeout_s\": \"None\",\n",
    "    \"task.num_cpus\": 1,\n",
    "    \"_opentelemetry_traceparent\": \"00-275834b9e35d620e6f49159cc81b626e-fc7625797d2b9cfe-01\",\n",
    "}\n"
   ]
  },
  {
   "cell_type": "code",
   "execution_count": 4,
   "id": "82e0716f",
   "metadata": {
    "execution": {
     "iopub.execute_input": "2022-07-11T06:49:52.079029Z",
     "iopub.status.busy": "2022-07-11T06:49:52.078822Z",
     "iopub.status.idle": "2022-07-11T06:49:52.081326Z",
     "shell.execute_reply": "2022-07-11T06:49:52.080841Z"
    },
    "lines_to_next_cell": 0,
    "papermill": {
     "duration": 0.011206,
     "end_time": "2022-07-11T06:49:52.083691",
     "exception": false,
     "start_time": "2022-07-11T06:49:52.072485",
     "status": "completed"
    },
    "tags": []
   },
   "outputs": [],
   "source": [
    "# -----------------------------------------------------------------------"
   ]
  },
  {
   "cell_type": "markdown",
   "id": "d98ffa05",
   "metadata": {
    "papermill": {
     "duration": 0.00372,
     "end_time": "2022-07-11T06:49:52.091703",
     "exception": false,
     "start_time": "2022-07-11T06:49:52.087983",
     "status": "completed"
    },
    "tags": []
   },
   "source": [
    "---"
   ]
  },
  {
   "cell_type": "markdown",
   "id": "11d7ae09",
   "metadata": {
    "lines_to_next_cell": 2,
    "papermill": {
     "duration": 0.004056,
     "end_time": "2022-07-11T06:49:52.099603",
     "exception": false,
     "start_time": "2022-07-11T06:49:52.095547",
     "status": "completed"
    },
    "tags": []
   },
   "source": [
    "### Notebook code"
   ]
  },
  {
   "cell_type": "code",
   "execution_count": 5,
   "id": "0d2854f7",
   "metadata": {
    "execution": {
     "iopub.execute_input": "2022-07-11T06:49:52.108449Z",
     "iopub.status.busy": "2022-07-11T06:49:52.108240Z",
     "iopub.status.idle": "2022-07-11T06:49:53.228256Z",
     "shell.execute_reply": "2022-07-11T06:49:53.227627Z"
    },
    "papermill": {
     "duration": 1.12725,
     "end_time": "2022-07-11T06:49:53.230543",
     "exception": false,
     "start_time": "2022-07-11T06:49:52.103293",
     "status": "completed"
    },
    "tags": []
   },
   "outputs": [
    {
     "name": "stderr",
     "output_type": "stream",
     "text": [
      "2022-07-11 06:49:53,045\tINFO worker.py:842 -- Connecting to existing Ray cluster at address: 172.17.0.2:6379\n"
     ]
    }
   ],
   "source": [
    "import itertools as it\n",
    "\n",
    "#\n",
    "import numpy as np\n",
    "import matplotlib.pyplot as plt\n",
    "\n",
    "#\n",
    "from pynb_dag_runner.tasks.task_opentelemetry_logging import PydarLogger\n",
    "\n",
    "#\n",
    "from common.io import datalake_root\n",
    "\n",
    "logger = PydarLogger(P)"
   ]
  },
  {
   "cell_type": "markdown",
   "id": "f1743fcc",
   "metadata": {
    "papermill": {
     "duration": 0.004212,
     "end_time": "2022-07-11T06:49:53.240454",
     "exception": false,
     "start_time": "2022-07-11T06:49:53.236242",
     "status": "completed"
    },
    "tags": []
   },
   "source": [
    "## Load persisted onnx-model and evaluation data"
   ]
  },
  {
   "cell_type": "code",
   "execution_count": 6,
   "id": "5420c3a3",
   "metadata": {
    "execution": {
     "iopub.execute_input": "2022-07-11T06:49:53.257516Z",
     "iopub.status.busy": "2022-07-11T06:49:53.256701Z",
     "iopub.status.idle": "2022-07-11T06:49:53.263206Z",
     "shell.execute_reply": "2022-07-11T06:49:53.260511Z"
    },
    "papermill": {
     "duration": 0.031181,
     "end_time": "2022-07-11T06:49:53.275686",
     "exception": false,
     "start_time": "2022-07-11T06:49:53.244505",
     "status": "completed"
    },
    "tags": []
   },
   "outputs": [],
   "source": [
    "from common.io import read_onnx, get_onnx_inputs, get_onnx_outputs, read_numpy"
   ]
  },
  {
   "cell_type": "code",
   "execution_count": 7,
   "id": "96f90c66",
   "metadata": {
    "execution": {
     "iopub.execute_input": "2022-07-11T06:49:53.287783Z",
     "iopub.status.busy": "2022-07-11T06:49:53.286809Z",
     "iopub.status.idle": "2022-07-11T06:49:53.303394Z",
     "shell.execute_reply": "2022-07-11T06:49:53.300614Z"
    },
    "lines_to_next_cell": 0,
    "papermill": {
     "duration": 0.024763,
     "end_time": "2022-07-11T06:49:53.304865",
     "exception": false,
     "start_time": "2022-07-11T06:49:53.280102",
     "status": "completed"
    },
    "tags": []
   },
   "outputs": [],
   "source": [
    "onnx_inference_session = read_onnx(\n",
    "    datalake_root(P)\n",
    "    / \"models\"\n",
    "    / f\"nr_train_images={P['task.nr_train_images']}\"\n",
    "    / \"model.onnx\"\n",
    ")"
   ]
  },
  {
   "cell_type": "markdown",
   "id": "ab3783b6",
   "metadata": {
    "papermill": {
     "duration": 0.015772,
     "end_time": "2022-07-11T06:49:53.324620",
     "exception": false,
     "start_time": "2022-07-11T06:49:53.308848",
     "status": "completed"
    },
    "tags": []
   },
   "source": [
    "### Record structure of inputs and outputs for ONNX model\n",
    "\n",
    "(this should likely be done in training notebook)"
   ]
  },
  {
   "cell_type": "code",
   "execution_count": 8,
   "id": "fcc063ef",
   "metadata": {
    "execution": {
     "iopub.execute_input": "2022-07-11T06:49:53.333730Z",
     "iopub.status.busy": "2022-07-11T06:49:53.333467Z",
     "iopub.status.idle": "2022-07-11T06:49:53.340384Z",
     "shell.execute_reply": "2022-07-11T06:49:53.339690Z"
    },
    "papermill": {
     "duration": 0.013543,
     "end_time": "2022-07-11T06:49:53.341970",
     "exception": false,
     "start_time": "2022-07-11T06:49:53.328427",
     "status": "completed"
    },
    "tags": []
   },
   "outputs": [
    {
     "name": "stdout",
     "output_type": "stream",
     "text": [
      "{\n",
      "  \"inputs\": [\n",
      "    {\n",
      "      \"name\": \"float_input_8x8_image\",\n",
      "      \"shape\": [\n",
      "        null,\n",
      "        64\n",
      "      ],\n",
      "      \"type\": \"tensor(float)\"\n",
      "    }\n",
      "  ],\n",
      "  \"outputs\": [\n",
      "    {\n",
      "      \"name\": \"output_label\",\n",
      "      \"shape\": [\n",
      "        null\n",
      "      ],\n",
      "      \"type\": \"tensor(int64)\"\n",
      "    },\n",
      "    {\n",
      "      \"name\": \"output_probability\",\n",
      "      \"shape\": [],\n",
      "      \"type\": \"seq(map(int64,tensor(float)))\"\n",
      "    }\n",
      "  ]\n",
      "}\n"
     ]
    }
   ],
   "source": [
    "import json\n",
    "\n",
    "onnx_io = json.dumps(\n",
    "    {\n",
    "        \"inputs\": get_onnx_inputs(onnx_inference_session),\n",
    "        \"outputs\": get_onnx_outputs(onnx_inference_session),\n",
    "    },\n",
    "    indent=2,\n",
    ")\n",
    "\n",
    "\n",
    "logger.log_artefact(\"onnx_io_structure.json\", onnx_io)\n",
    "print(onnx_io)"
   ]
  },
  {
   "cell_type": "markdown",
   "id": "14d1ef97",
   "metadata": {
    "papermill": {
     "duration": 0.006051,
     "end_time": "2022-07-11T06:49:53.359671",
     "exception": false,
     "start_time": "2022-07-11T06:49:53.353620",
     "status": "completed"
    },
    "tags": []
   },
   "source": [
    "### Evaluate model performance on evaluation data set"
   ]
  },
  {
   "cell_type": "code",
   "execution_count": 9,
   "id": "7393db69",
   "metadata": {
    "execution": {
     "iopub.execute_input": "2022-07-11T06:49:53.369247Z",
     "iopub.status.busy": "2022-07-11T06:49:53.369009Z",
     "iopub.status.idle": "2022-07-11T06:49:53.374887Z",
     "shell.execute_reply": "2022-07-11T06:49:53.374383Z"
    },
    "papermill": {
     "duration": 0.012819,
     "end_time": "2022-07-11T06:49:53.376729",
     "exception": false,
     "start_time": "2022-07-11T06:49:53.363910",
     "status": "completed"
    },
    "tags": []
   },
   "outputs": [],
   "source": [
    "# load evaluation data\n",
    "X_test = read_numpy(datalake_root(P) / \"test-data\" / \"digits.numpy\")\n",
    "y_test = read_numpy(datalake_root(P) / \"test-data\" / \"labels.numpy\")"
   ]
  },
  {
   "cell_type": "code",
   "execution_count": 10,
   "id": "0c34c23e",
   "metadata": {
    "execution": {
     "iopub.execute_input": "2022-07-11T06:49:53.386670Z",
     "iopub.status.busy": "2022-07-11T06:49:53.386440Z",
     "iopub.status.idle": "2022-07-11T06:49:53.399432Z",
     "shell.execute_reply": "2022-07-11T06:49:53.398888Z"
    },
    "papermill": {
     "duration": 0.01987,
     "end_time": "2022-07-11T06:49:53.401063",
     "exception": false,
     "start_time": "2022-07-11T06:49:53.381193",
     "status": "completed"
    },
    "tags": []
   },
   "outputs": [],
   "source": [
    "def get_model_outputs(X, onnx_inference_session):\n",
    "    y_pred_labels, y_pred_map = onnx_inference_session.run(\n",
    "        [\"output_label\", \"output_probability\"],\n",
    "        {\"float_input_8x8_image\": X.astype(np.float32)},\n",
    "    )\n",
    "    y_pred_probs = np.array(\n",
    "        [[probabilities[digit] for digit in range(10)] for probabilities in y_pred_map]\n",
    "    )\n",
    "\n",
    "    assert y_pred_labels.shape == (X.shape[0],)\n",
    "    assert y_pred_probs.shape == (X.shape[0], 10)\n",
    "\n",
    "    return y_pred_labels, y_pred_probs\n",
    "\n",
    "\n",
    "# Note: as shown in the training notebook, the predicted labels and probabilities\n",
    "# computed below need not be compatible.\n",
    "y_pred_labels_test, y_pred_probs_test = get_model_outputs(\n",
    "    X_test, onnx_inference_session\n",
    ")"
   ]
  },
  {
   "cell_type": "markdown",
   "id": "f5a9e238",
   "metadata": {
    "papermill": {
     "duration": 0.004036,
     "end_time": "2022-07-11T06:49:53.409559",
     "exception": false,
     "start_time": "2022-07-11T06:49:53.405523",
     "status": "completed"
    },
    "tags": []
   },
   "source": [
    "### Confusion matrix"
   ]
  },
  {
   "cell_type": "code",
   "execution_count": 11,
   "id": "5858f7fb",
   "metadata": {
    "execution": {
     "iopub.execute_input": "2022-07-11T06:49:53.418871Z",
     "iopub.status.busy": "2022-07-11T06:49:53.418645Z",
     "iopub.status.idle": "2022-07-11T06:49:53.421423Z",
     "shell.execute_reply": "2022-07-11T06:49:53.420828Z"
    },
    "papermill": {
     "duration": 0.010258,
     "end_time": "2022-07-11T06:49:53.423976",
     "exception": false,
     "start_time": "2022-07-11T06:49:53.413718",
     "status": "completed"
    },
    "tags": []
   },
   "outputs": [],
   "source": [
    "# TODO"
   ]
  },
  {
   "cell_type": "markdown",
   "id": "7647e2c2",
   "metadata": {
    "papermill": {
     "duration": 0.00404,
     "end_time": "2022-07-11T06:49:53.432438",
     "exception": false,
     "start_time": "2022-07-11T06:49:53.428398",
     "status": "completed"
    },
    "tags": []
   },
   "source": [
    "### Plot predicted probabilities for each classifier over all evaluation digit images"
   ]
  },
  {
   "cell_type": "code",
   "execution_count": 12,
   "id": "5299f615",
   "metadata": {
    "execution": {
     "iopub.execute_input": "2022-07-11T06:49:53.441591Z",
     "iopub.status.busy": "2022-07-11T06:49:53.441373Z",
     "iopub.status.idle": "2022-07-11T06:49:56.502423Z",
     "shell.execute_reply": "2022-07-11T06:49:56.501782Z"
    },
    "papermill": {
     "duration": 3.067801,
     "end_time": "2022-07-11T06:49:56.504331",
     "exception": false,
     "start_time": "2022-07-11T06:49:53.436530",
     "status": "completed"
    },
    "tags": []
   },
   "outputs": [
    {
     "data": {
      "image/png": "[encoded data removed]",
      "text/plain": [
       "<Figure size 1152x432 with 10 Axes>"
      ]
     },
     "metadata": {
      "needs_background": "light"
     },
     "output_type": "display_data"
    }
   ],
   "source": [
    "def plot_per_digit_probabilities(y_pred_probs):\n",
    "    fig, axs = plt.subplots(nrows=2, ncols=5, figsize=(16, 6))\n",
    "\n",
    "    for (r, c), digit, ax in zip(\n",
    "        it.product(range(2), range(5)), range(10), axs.reshape(-1)\n",
    "    ):\n",
    "        ax.hist(y_pred_probs_test[:, digit], bins=20)\n",
    "\n",
    "        ax.set_title(f\"Digit {digit}\")\n",
    "        if r == 1 and c == 2:\n",
    "            ax.set_xlabel(\"probability\", fontsize=16)\n",
    "\n",
    "        if c == 0:\n",
    "            ax.set_ylabel(\"counts\", fontsize=16)\n",
    "        ax.set_yscale(\"log\")\n",
    "\n",
    "    fig.tight_layout()\n",
    "    fig.suptitle(\n",
    "        f\"Distributions of prediction probabilities for each digit \"\n",
    "        f\"(on evaluation data, n={y_pred_probs.shape[0]})\",\n",
    "        fontsize=20,\n",
    "    )\n",
    "    fig.tight_layout()\n",
    "    fig.show()\n",
    "\n",
    "    return fig\n",
    "\n",
    "\n",
    "fig = plot_per_digit_probabilities(y_pred_probs_test)"
   ]
  },
  {
   "cell_type": "markdown",
   "id": "439d56a0",
   "metadata": {
    "papermill": {
     "duration": 0.004739,
     "end_time": "2022-07-11T06:49:56.515046",
     "exception": false,
     "start_time": "2022-07-11T06:49:56.510307",
     "status": "completed"
    },
    "tags": []
   },
   "source": [
    "From the above distributions we see that most digits have clear separation between\n",
    "high and lower probabilities. Morover, in each case there is roughly an order of\n",
    "magnitude more of digits with low probabilities. This is compatible with digits\n",
    "being roughly evenly distributed in the data."
   ]
  },
  {
   "cell_type": "code",
   "execution_count": 13,
   "id": "3f145de1",
   "metadata": {
    "execution": {
     "iopub.execute_input": "2022-07-11T06:49:56.529722Z",
     "iopub.status.busy": "2022-07-11T06:49:56.529479Z",
     "iopub.status.idle": "2022-07-11T06:49:56.958049Z",
     "shell.execute_reply": "2022-07-11T06:49:56.957058Z"
    },
    "papermill": {
     "duration": 0.440077,
     "end_time": "2022-07-11T06:49:56.959941",
     "exception": false,
     "start_time": "2022-07-11T06:49:56.519864",
     "status": "completed"
    },
    "tags": []
   },
   "outputs": [],
   "source": [
    "logger.log_figure(\"per-digit-probabilities.png\", fig)"
   ]
  },
  {
   "cell_type": "markdown",
   "id": "38061e11",
   "metadata": {
    "papermill": {
     "duration": 0.005627,
     "end_time": "2022-07-11T06:49:56.973582",
     "exception": false,
     "start_time": "2022-07-11T06:49:56.967955",
     "status": "completed"
    },
    "tags": []
   },
   "source": [
    "### Plot ROC curves for individual one-vs-rest classifiers"
   ]
  },
  {
   "cell_type": "code",
   "execution_count": 14,
   "id": "67d8b799",
   "metadata": {
    "execution": {
     "iopub.execute_input": "2022-07-11T06:49:56.985514Z",
     "iopub.status.busy": "2022-07-11T06:49:56.985152Z",
     "iopub.status.idle": "2022-07-11T06:49:57.402945Z",
     "shell.execute_reply": "2022-07-11T06:49:57.401922Z"
    },
    "papermill": {
     "duration": 0.425793,
     "end_time": "2022-07-11T06:49:57.404889",
     "exception": false,
     "start_time": "2022-07-11T06:49:56.979096",
     "status": "completed"
    },
    "tags": []
   },
   "outputs": [],
   "source": [
    "from sklearn import metrics"
   ]
  },
  {
   "cell_type": "code",
   "execution_count": 15,
   "id": "98638347",
   "metadata": {
    "execution": {
     "iopub.execute_input": "2022-07-11T06:49:57.417515Z",
     "iopub.status.busy": "2022-07-11T06:49:57.417178Z",
     "iopub.status.idle": "2022-07-11T06:49:59.035211Z",
     "shell.execute_reply": "2022-07-11T06:49:59.034545Z"
    },
    "papermill": {
     "duration": 1.627908,
     "end_time": "2022-07-11T06:49:59.038075",
     "exception": false,
     "start_time": "2022-07-11T06:49:57.410167",
     "status": "completed"
    },
    "tags": []
   },
   "outputs": [
    {
     "data": {
      "image/png": "[encoded data removed]",
      "text/plain": [
       "<Figure size 1152x576 with 10 Axes>"
      ]
     },
     "metadata": {
      "needs_background": "light"
     },
     "output_type": "display_data"
    }
   ],
   "source": [
    "def plot_roc_curves(y, y_pred_probs):\n",
    "    # based on example code\n",
    "    # https://scikit-learn.org/stable/auto_examples/model_selection/plot_roc.html\n",
    "\n",
    "    fig, axs = plt.subplots(nrows=2, ncols=5, figsize=(16, 8))\n",
    "\n",
    "    roc_auc_dict = {}\n",
    "\n",
    "    for (r, c), digit, ax in zip(\n",
    "        it.product(range(2), range(5)), range(10), axs.reshape(-1)\n",
    "    ):\n",
    "        fpr, tpr, _ = metrics.roc_curve(y == digit, y_pred_probs[:, digit])\n",
    "        auc = metrics.auc(fpr, tpr)\n",
    "        roc_auc_dict[str(digit)] = auc\n",
    "\n",
    "        ax.plot(fpr, tpr, label=f\"ROC AUC={round(auc, 3)}\")\n",
    "\n",
    "        ax.set_title(f\"\\nDigit {digit}\", fontsize=16)\n",
    "        if r == 1:\n",
    "            ax.set_xlabel(\"FPR\", fontsize=18)\n",
    "\n",
    "        if c == 0:\n",
    "            ax.set_ylabel(\"TPR\", fontsize=18)\n",
    "\n",
    "        ax.set_xlim([-0.05, 1.05])\n",
    "        ax.set_ylim([-0.05, 1.05])\n",
    "        ax.legend(loc=\"lower right\", frameon=False, fontsize=14)\n",
    "\n",
    "    fig.tight_layout()\n",
    "    fig.suptitle(\n",
    "        f\"ROC plots for one-vs-rest performances \"\n",
    "        f\"(on evaluation data, n={y_pred_probs_test.shape[1]}\",\n",
    "        fontsize=22,\n",
    "    )\n",
    "    fig.tight_layout()\n",
    "    fig.show()\n",
    "\n",
    "    return roc_auc_dict, fig\n",
    "\n",
    "\n",
    "roc_auc_dict, fig = plot_roc_curves(y_test, y_pred_probs_test)"
   ]
  },
  {
   "cell_type": "code",
   "execution_count": 16,
   "id": "b40cab79",
   "metadata": {
    "execution": {
     "iopub.execute_input": "2022-07-11T06:49:59.051041Z",
     "iopub.status.busy": "2022-07-11T06:49:59.050776Z",
     "iopub.status.idle": "2022-07-11T06:49:59.277003Z",
     "shell.execute_reply": "2022-07-11T06:49:59.276230Z"
    },
    "papermill": {
     "duration": 0.235145,
     "end_time": "2022-07-11T06:49:59.279315",
     "exception": false,
     "start_time": "2022-07-11T06:49:59.044170",
     "status": "completed"
    },
    "tags": []
   },
   "outputs": [],
   "source": [
    "logger.log_figure(\"per-digit-roc-curves.png\", fig)"
   ]
  },
  {
   "cell_type": "code",
   "execution_count": 17,
   "id": "87d6b894",
   "metadata": {
    "execution": {
     "iopub.execute_input": "2022-07-11T06:49:59.293727Z",
     "iopub.status.busy": "2022-07-11T06:49:59.293395Z",
     "iopub.status.idle": "2022-07-11T06:49:59.298408Z",
     "shell.execute_reply": "2022-07-11T06:49:59.297767Z"
    },
    "papermill": {
     "duration": 0.019694,
     "end_time": "2022-07-11T06:49:59.305634",
     "exception": false,
     "start_time": "2022-07-11T06:49:59.285940",
     "status": "completed"
    },
    "tags": []
   },
   "outputs": [
    {
     "data": {
      "text/plain": [
       "{'0': 1.0,\n",
       " '1': 0.9986504217432053,\n",
       " '2': 1.0,\n",
       " '3': 0.9998125585754452,\n",
       " '4': 0.9995046486816034,\n",
       " '5': 0.9989128397375819,\n",
       " '6': 0.999961896052431,\n",
       " '7': 0.9998856881572931,\n",
       " '8': 0.992749054224464,\n",
       " '9': 0.9993903368388966}"
      ]
     },
     "execution_count": 17,
     "metadata": {},
     "output_type": "execute_result"
    }
   ],
   "source": [
    "roc_auc_dict"
   ]
  },
  {
   "cell_type": "code",
   "execution_count": 18,
   "id": "0136a8fb",
   "metadata": {
    "execution": {
     "iopub.execute_input": "2022-07-11T06:49:59.318212Z",
     "iopub.status.busy": "2022-07-11T06:49:59.317800Z",
     "iopub.status.idle": "2022-07-11T06:49:59.321972Z",
     "shell.execute_reply": "2022-07-11T06:49:59.321291Z"
    },
    "papermill": {
     "duration": 0.013044,
     "end_time": "2022-07-11T06:49:59.324477",
     "exception": false,
     "start_time": "2022-07-11T06:49:59.311433",
     "status": "completed"
    },
    "tags": []
   },
   "outputs": [
    {
     "name": "stdout",
     "output_type": "stream",
     "text": [
      " - Logging roc_auc_per_digit (json) : {'0': 1.0, '1': 0.9986504217432053, '2': 1.0, '3': 0.9998125585754452, '4': 0.9995046486816034, '5': 0.9989128397375819, '6': 0.999961896052431, '7': 0.9998856881572931, '8': 0.992749054224464, '9': 0.9993903368388966}\n"
     ]
    }
   ],
   "source": [
    "logger.log_value(\"roc_auc_per_digit\", roc_auc_dict)"
   ]
  },
  {
   "cell_type": "markdown",
   "id": "e1558a10",
   "metadata": {
    "papermill": {
     "duration": 0.006082,
     "end_time": "2022-07-11T06:49:59.336055",
     "exception": false,
     "start_time": "2022-07-11T06:49:59.329973",
     "status": "completed"
    },
    "tags": []
   },
   "source": [
    "### Compute and log mean ROC AUC score averaged over all digits"
   ]
  },
  {
   "cell_type": "code",
   "execution_count": 19,
   "id": "f12916b9",
   "metadata": {
    "execution": {
     "iopub.execute_input": "2022-07-11T06:49:59.348156Z",
     "iopub.status.busy": "2022-07-11T06:49:59.347869Z",
     "iopub.status.idle": "2022-07-11T06:49:59.361580Z",
     "shell.execute_reply": "2022-07-11T06:49:59.360943Z"
    },
    "papermill": {
     "duration": 0.022093,
     "end_time": "2022-07-11T06:49:59.363756",
     "exception": false,
     "start_time": "2022-07-11T06:49:59.341663",
     "status": "completed"
    },
    "tags": []
   },
   "outputs": [
    {
     "name": "stdout",
     "output_type": "stream",
     "text": [
      " - Logging roc_auc_class_mean (float) : 0.9988867444010922\n"
     ]
    }
   ],
   "source": [
    "roc_auc_macro = np.mean(list(roc_auc_dict.values()))\n",
    "\n",
    "logger.log_float(\"roc_auc_class_mean\", roc_auc_macro)\n",
    "\n",
    "# assert that the same value can be computed directly using sklearn\n",
    "assert roc_auc_macro == metrics.roc_auc_score(\n",
    "    y_test, y_pred_probs_test, average=\"macro\", multi_class=\"ovr\"\n",
    ")"
   ]
  },
  {
   "cell_type": "code",
   "execution_count": 20,
   "id": "959dccae",
   "metadata": {
    "execution": {
     "iopub.execute_input": "2022-07-11T06:49:59.376326Z",
     "iopub.status.busy": "2022-07-11T06:49:59.376020Z",
     "iopub.status.idle": "2022-07-11T06:49:59.379105Z",
     "shell.execute_reply": "2022-07-11T06:49:59.378380Z"
    },
    "lines_to_next_cell": 0,
    "papermill": {
     "duration": 0.011776,
     "end_time": "2022-07-11T06:49:59.381201",
     "exception": false,
     "start_time": "2022-07-11T06:49:59.369425",
     "status": "completed"
    },
    "tags": []
   },
   "outputs": [],
   "source": [
    "# ---"
   ]
  },
  {
   "cell_type": "code",
   "execution_count": null,
   "id": "2900eed2",
   "metadata": {
    "papermill": {
     "duration": 0.006132,
     "end_time": "2022-07-11T06:49:59.393237",
     "exception": false,
     "start_time": "2022-07-11T06:49:59.387105",
     "status": "completed"
    },
    "tags": []
   },
   "outputs": [],
   "source": []
  }
 ],
 "metadata": {
  "jupytext": {
   "cell_metadata_filter": "tags,-all",
   "main_language": "python",
   "notebook_metadata_filter": "-all"
  },
  "language_info": {
   "codemirror_mode": {
    "name": "ipython",
    "version": 3
   },
   "file_extension": ".py",
   "mimetype": "text/x-python",
   "name": "python",
   "nbconvert_exporter": "python",
   "pygments_lexer": "ipython3",
   "version": "3.8.10"
  },
  "papermill": {
   "default_parameters": {},
   "duration": 10.014597,
   "end_time": "2022-07-11T06:50:00.618699",
   "environment_variables": {},
   "exception": null,
   "input_path": "/home/host_user/workspace/mnist-demo-pipeline/mnist-demo-pipeline/notebooks/temp-notebook-ugq8p9_4.ipynb",
   "output_path": "notebooks/benchmark-model.ipynb",
   "parameters": {
    "P": {
     "_opentelemetry_traceparent": "00-275834b9e35d620e6f49159cc81b626e-fc7625797d2b9cfe-01",
     "pipeline.data_lake_root": "/pipeline-outputs/data-lake",
     "pipeline.github.actor": "matiasdahl",
     "pipeline.github.base_ref": "",
     "pipeline.github.event_name": "schedule",
     "pipeline.github.head_ref": "",
     "pipeline.github.job": "run-tests-pipeline-and-persist-pipeline-outputs",
     "pipeline.github.ref": "refs/heads/development",
     "pipeline.github.ref_name": "development",
     "pipeline.github.ref_type": "branch",
     "pipeline.github.repository": "pynb-dag-runner/mnist-digits-demo-pipeline",
     "pipeline.github.run_id": "2647744933",
     "pipeline.github.runner_name": "Hosted Agent",
     "pipeline.github.sha": "147a1be9916173fd4d2cd011d8d51e3411215850",
     "pipeline.github.workflow": "Run automated tests, pipeline and deploy results to static reporting site",
     "pipeline.pipeline_run_id": "d4d605c2-2813-4deb-a30e-f9ddbea85443",
     "pipeline.run_environment": "ci",
     "run.retry_nr": "0",
     "task.max_nr_retries": "1",
     "task.notebook": "notebooks/benchmark-model.py",
     "task.nr_train_images": 800,
     "task.num_cpus": 1,
     "task.timeout_s": "None"
    }
   },
   "start_time": "2022-07-11T06:49:50.604102",
   "version": "2.3.3"
  }
 },
 "nbformat": 4,
 "nbformat_minor": 5
}