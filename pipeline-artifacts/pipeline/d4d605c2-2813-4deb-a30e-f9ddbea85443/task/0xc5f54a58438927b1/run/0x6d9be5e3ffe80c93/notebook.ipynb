{
 "cells": [
  {
   "cell_type": "markdown",
   "id": "71d059d5",
   "metadata": {
    "papermill": {
     "duration": 0.006211,
     "end_time": "2022-07-11T06:49:56.020774",
     "exception": false,
     "start_time": "2022-07-11T06:49:56.014563",
     "status": "completed"
    },
    "tags": []
   },
   "source": [
    "# Benchmark model\n",
    "\n",
    "The purpose of this notebook is to benchmark persisted onnx-model (trained in the\n",
    "previous step) against evaluation set."
   ]
  },
  {
   "cell_type": "markdown",
   "id": "13d7dae9",
   "metadata": {
    "papermill": {
     "duration": 0.004961,
     "end_time": "2022-07-11T06:49:56.029914",
     "exception": false,
     "start_time": "2022-07-11T06:49:56.024953",
     "status": "completed"
    },
    "tags": []
   },
   "source": [
    "### Determine run parameters"
   ]
  },
  {
   "cell_type": "code",
   "execution_count": 1,
   "id": "ed09bd09",
   "metadata": {
    "execution": {
     "iopub.execute_input": "2022-07-11T06:49:56.038605Z",
     "iopub.status.busy": "2022-07-11T06:49:56.038224Z",
     "iopub.status.idle": "2022-07-11T06:49:56.048093Z",
     "shell.execute_reply": "2022-07-11T06:49:56.047248Z"
    },
    "lines_to_next_cell": 0,
    "papermill": {
     "duration": 0.017207,
     "end_time": "2022-07-11T06:49:56.050694",
     "exception": false,
     "start_time": "2022-07-11T06:49:56.033487",
     "status": "completed"
    },
    "tags": []
   },
   "outputs": [],
   "source": [
    "# ----------------- Parameters for interactive development --------------\n",
    "P = {\n",
    "    \"pipeline.data_lake_root\": \"/pipeline-outputs/data-lake\",\n",
    "    \"task.nr_train_images\": 600,\n",
    "}"
   ]
  },
  {
   "cell_type": "code",
   "execution_count": 2,
   "id": "1bb33cba",
   "metadata": {
    "execution": {
     "iopub.execute_input": "2022-07-11T06:49:56.060466Z",
     "iopub.status.busy": "2022-07-11T06:49:56.060251Z",
     "iopub.status.idle": "2022-07-11T06:49:56.063070Z",
     "shell.execute_reply": "2022-07-11T06:49:56.062545Z"
    },
    "lines_to_next_cell": 0,
    "papermill": {
     "duration": 0.010612,
     "end_time": "2022-07-11T06:49:56.065464",
     "exception": false,
     "start_time": "2022-07-11T06:49:56.054852",
     "status": "completed"
    },
    "tags": [
     "parameters"
    ]
   },
   "outputs": [],
   "source": [
    "# - During automated runs parameters will be injected in the below cell -"
   ]
  },
  {
   "cell_type": "code",
   "execution_count": 3,
   "id": "31cee861",
   "metadata": {
    "execution": {
     "iopub.execute_input": "2022-07-11T06:49:56.074855Z",
     "iopub.status.busy": "2022-07-11T06:49:56.074651Z",
     "iopub.status.idle": "2022-07-11T06:49:56.080127Z",
     "shell.execute_reply": "2022-07-11T06:49:56.079011Z"
    },
    "papermill": {
     "duration": 0.012181,
     "end_time": "2022-07-11T06:49:56.082291",
     "exception": false,
     "start_time": "2022-07-11T06:49:56.070110",
     "status": "completed"
    },
    "tags": [
     "injected-parameters"
    ]
   },
   "outputs": [],
   "source": [
    "# Parameters\n",
    "P = {\n",
    "    \"pipeline.data_lake_root\": \"/pipeline-outputs/data-lake\",\n",
    "    \"pipeline.run_environment\": \"ci\",\n",
    "    \"pipeline.pipeline_run_id\": \"d4d605c2-2813-4deb-a30e-f9ddbea85443\",\n",
    "    \"pipeline.github.repository\": \"pynb-dag-runner/mnist-digits-demo-pipeline\",\n",
    "    \"pipeline.github.workflow\": \"Run automated tests, pipeline and deploy results to static reporting site\",\n",
    "    \"pipeline.github.runner_name\": \"Hosted Agent\",\n",
    "    \"pipeline.github.run_id\": \"2647744933\",\n",
    "    \"pipeline.github.actor\": \"matiasdahl\",\n",
    "    \"pipeline.github.job\": \"run-tests-pipeline-and-persist-pipeline-outputs\",\n",
    "    \"pipeline.github.base_ref\": \"\",\n",
    "    \"pipeline.github.head_ref\": \"\",\n",
    "    \"pipeline.github.sha\": \"147a1be9916173fd4d2cd011d8d51e3411215850\",\n",
    "    \"pipeline.github.ref\": \"refs/heads/development\",\n",
    "    \"pipeline.github.ref_type\": \"branch\",\n",
    "    \"pipeline.github.ref_name\": \"development\",\n",
    "    \"pipeline.github.event_name\": \"schedule\",\n",
    "    \"task.nr_train_images\": 1000,\n",
    "    \"task.notebook\": \"notebooks/benchmark-model.py\",\n",
    "    \"task.max_nr_retries\": \"1\",\n",
    "    \"run.retry_nr\": \"0\",\n",
    "    \"task.timeout_s\": \"None\",\n",
    "    \"task.num_cpus\": 1,\n",
    "    \"_opentelemetry_traceparent\": \"00-275834b9e35d620e6f49159cc81b626e-a6b0246e66be4566-01\",\n",
    "}\n"
   ]
  },
  {
   "cell_type": "code",
   "execution_count": 4,
   "id": "2054f670",
   "metadata": {
    "execution": {
     "iopub.execute_input": "2022-07-11T06:49:56.093611Z",
     "iopub.status.busy": "2022-07-11T06:49:56.093410Z",
     "iopub.status.idle": "2022-07-11T06:49:56.095967Z",
     "shell.execute_reply": "2022-07-11T06:49:56.095452Z"
    },
    "lines_to_next_cell": 0,
    "papermill": {
     "duration": 0.011969,
     "end_time": "2022-07-11T06:49:56.098345",
     "exception": false,
     "start_time": "2022-07-11T06:49:56.086376",
     "status": "completed"
    },
    "tags": []
   },
   "outputs": [],
   "source": [
    "# -----------------------------------------------------------------------"
   ]
  },
  {
   "cell_type": "markdown",
   "id": "62ffbd58",
   "metadata": {
    "papermill": {
     "duration": 0.003877,
     "end_time": "2022-07-11T06:49:56.106737",
     "exception": false,
     "start_time": "2022-07-11T06:49:56.102860",
     "status": "completed"
    },
    "tags": []
   },
   "source": [
    "---"
   ]
  },
  {
   "cell_type": "markdown",
   "id": "72a393ac",
   "metadata": {
    "lines_to_next_cell": 2,
    "papermill": {
     "duration": 0.008298,
     "end_time": "2022-07-11T06:49:56.119495",
     "exception": false,
     "start_time": "2022-07-11T06:49:56.111197",
     "status": "completed"
    },
    "tags": []
   },
   "source": [
    "### Notebook code"
   ]
  },
  {
   "cell_type": "code",
   "execution_count": 5,
   "id": "0eb30a4e",
   "metadata": {
    "execution": {
     "iopub.execute_input": "2022-07-11T06:49:56.129193Z",
     "iopub.status.busy": "2022-07-11T06:49:56.128969Z",
     "iopub.status.idle": "2022-07-11T06:49:57.295181Z",
     "shell.execute_reply": "2022-07-11T06:49:57.294529Z"
    },
    "papermill": {
     "duration": 1.172994,
     "end_time": "2022-07-11T06:49:57.297276",
     "exception": false,
     "start_time": "2022-07-11T06:49:56.124282",
     "status": "completed"
    },
    "tags": []
   },
   "outputs": [
    {
     "name": "stderr",
     "output_type": "stream",
     "text": [
      "2022-07-11 06:49:57,122\tINFO worker.py:842 -- Connecting to existing Ray cluster at address: 172.17.0.2:6379\n"
     ]
    }
   ],
   "source": [
    "import itertools as it\n",
    "\n",
    "#\n",
    "import numpy as np\n",
    "import matplotlib.pyplot as plt\n",
    "\n",
    "#\n",
    "from pynb_dag_runner.tasks.task_opentelemetry_logging import PydarLogger\n",
    "\n",
    "#\n",
    "from common.io import datalake_root\n",
    "\n",
    "logger = PydarLogger(P)"
   ]
  },
  {
   "cell_type": "markdown",
   "id": "37fa8af5",
   "metadata": {
    "papermill": {
     "duration": 0.004854,
     "end_time": "2022-07-11T06:49:57.306680",
     "exception": false,
     "start_time": "2022-07-11T06:49:57.301826",
     "status": "completed"
    },
    "tags": []
   },
   "source": [
    "## Load persisted onnx-model and evaluation data"
   ]
  },
  {
   "cell_type": "code",
   "execution_count": 6,
   "id": "7a752f1e",
   "metadata": {
    "execution": {
     "iopub.execute_input": "2022-07-11T06:49:57.316422Z",
     "iopub.status.busy": "2022-07-11T06:49:57.315661Z",
     "iopub.status.idle": "2022-07-11T06:49:57.319379Z",
     "shell.execute_reply": "2022-07-11T06:49:57.318674Z"
    },
    "papermill": {
     "duration": 0.010854,
     "end_time": "2022-07-11T06:49:57.321549",
     "exception": false,
     "start_time": "2022-07-11T06:49:57.310695",
     "status": "completed"
    },
    "tags": []
   },
   "outputs": [],
   "source": [
    "from common.io import read_onnx, get_onnx_inputs, get_onnx_outputs, read_numpy"
   ]
  },
  {
   "cell_type": "code",
   "execution_count": 7,
   "id": "246676f5",
   "metadata": {
    "execution": {
     "iopub.execute_input": "2022-07-11T06:49:57.331141Z",
     "iopub.status.busy": "2022-07-11T06:49:57.330829Z",
     "iopub.status.idle": "2022-07-11T06:49:57.341617Z",
     "shell.execute_reply": "2022-07-11T06:49:57.341141Z"
    },
    "lines_to_next_cell": 0,
    "papermill": {
     "duration": 0.017645,
     "end_time": "2022-07-11T06:49:57.343209",
     "exception": false,
     "start_time": "2022-07-11T06:49:57.325564",
     "status": "completed"
    },
    "tags": []
   },
   "outputs": [],
   "source": [
    "onnx_inference_session = read_onnx(\n",
    "    datalake_root(P)\n",
    "    / \"models\"\n",
    "    / f\"nr_train_images={P['task.nr_train_images']}\"\n",
    "    / \"model.onnx\"\n",
    ")"
   ]
  },
  {
   "cell_type": "markdown",
   "id": "385fcf8a",
   "metadata": {
    "papermill": {
     "duration": 0.007354,
     "end_time": "2022-07-11T06:49:57.354819",
     "exception": false,
     "start_time": "2022-07-11T06:49:57.347465",
     "status": "completed"
    },
    "tags": []
   },
   "source": [
    "### Record structure of inputs and outputs for ONNX model\n",
    "\n",
    "(this should likely be done in training notebook)"
   ]
  },
  {
   "cell_type": "code",
   "execution_count": 8,
   "id": "d6f5f400",
   "metadata": {
    "execution": {
     "iopub.execute_input": "2022-07-11T06:49:57.366403Z",
     "iopub.status.busy": "2022-07-11T06:49:57.366171Z",
     "iopub.status.idle": "2022-07-11T06:49:57.372269Z",
     "shell.execute_reply": "2022-07-11T06:49:57.371510Z"
    },
    "papermill": {
     "duration": 0.015936,
     "end_time": "2022-07-11T06:49:57.375414",
     "exception": false,
     "start_time": "2022-07-11T06:49:57.359478",
     "status": "completed"
    },
    "tags": []
   },
   "outputs": [
    {
     "name": "stdout",
     "output_type": "stream",
     "text": [
      "{\n",
      "  \"inputs\": [\n",
      "    {\n",
      "      \"name\": \"float_input_8x8_image\",\n",
      "      \"shape\": [\n",
      "        null,\n",
      "        64\n",
      "      ],\n",
      "      \"type\": \"tensor(float)\"\n",
      "    }\n",
      "  ],\n",
      "  \"outputs\": [\n",
      "    {\n",
      "      \"name\": \"output_label\",\n",
      "      \"shape\": [\n",
      "        null\n",
      "      ],\n",
      "      \"type\": \"tensor(int64)\"\n",
      "    },\n",
      "    {\n",
      "      \"name\": \"output_probability\",\n",
      "      \"shape\": [],\n",
      "      \"type\": \"seq(map(int64,tensor(float)))\"\n",
      "    }\n",
      "  ]\n",
      "}\n"
     ]
    }
   ],
   "source": [
    "import json\n",
    "\n",
    "onnx_io = json.dumps(\n",
    "    {\n",
    "        \"inputs\": get_onnx_inputs(onnx_inference_session),\n",
    "        \"outputs\": get_onnx_outputs(onnx_inference_session),\n",
    "    },\n",
    "    indent=2,\n",
    ")\n",
    "\n",
    "\n",
    "logger.log_artefact(\"onnx_io_structure.json\", onnx_io)\n",
    "print(onnx_io)"
   ]
  },
  {
   "cell_type": "markdown",
   "id": "9c52c23f",
   "metadata": {
    "papermill": {
     "duration": 0.004477,
     "end_time": "2022-07-11T06:49:57.384359",
     "exception": false,
     "start_time": "2022-07-11T06:49:57.379882",
     "status": "completed"
    },
    "tags": []
   },
   "source": [
    "### Evaluate model performance on evaluation data set"
   ]
  },
  {
   "cell_type": "code",
   "execution_count": 9,
   "id": "ae62d3fa",
   "metadata": {
    "execution": {
     "iopub.execute_input": "2022-07-11T06:49:57.393792Z",
     "iopub.status.busy": "2022-07-11T06:49:57.393574Z",
     "iopub.status.idle": "2022-07-11T06:49:57.398105Z",
     "shell.execute_reply": "2022-07-11T06:49:57.397580Z"
    },
    "papermill": {
     "duration": 0.01258,
     "end_time": "2022-07-11T06:49:57.400790",
     "exception": false,
     "start_time": "2022-07-11T06:49:57.388210",
     "status": "completed"
    },
    "tags": []
   },
   "outputs": [],
   "source": [
    "# load evaluation data\n",
    "X_test = read_numpy(datalake_root(P) / \"test-data\" / \"digits.numpy\")\n",
    "y_test = read_numpy(datalake_root(P) / \"test-data\" / \"labels.numpy\")"
   ]
  },
  {
   "cell_type": "code",
   "execution_count": 10,
   "id": "5e5d061b",
   "metadata": {
    "execution": {
     "iopub.execute_input": "2022-07-11T06:49:57.412812Z",
     "iopub.status.busy": "2022-07-11T06:49:57.412225Z",
     "iopub.status.idle": "2022-07-11T06:49:57.427187Z",
     "shell.execute_reply": "2022-07-11T06:49:57.426497Z"
    },
    "papermill": {
     "duration": 0.022526,
     "end_time": "2022-07-11T06:49:57.429392",
     "exception": false,
     "start_time": "2022-07-11T06:49:57.406866",
     "status": "completed"
    },
    "tags": []
   },
   "outputs": [],
   "source": [
    "def get_model_outputs(X, onnx_inference_session):\n",
    "    y_pred_labels, y_pred_map = onnx_inference_session.run(\n",
    "        [\"output_label\", \"output_probability\"],\n",
    "        {\"float_input_8x8_image\": X.astype(np.float32)},\n",
    "    )\n",
    "    y_pred_probs = np.array(\n",
    "        [[probabilities[digit] for digit in range(10)] for probabilities in y_pred_map]\n",
    "    )\n",
    "\n",
    "    assert y_pred_labels.shape == (X.shape[0],)\n",
    "    assert y_pred_probs.shape == (X.shape[0], 10)\n",
    "\n",
    "    return y_pred_labels, y_pred_probs\n",
    "\n",
    "\n",
    "# Note: as shown in the training notebook, the predicted labels and probabilities\n",
    "# computed below need not be compatible.\n",
    "y_pred_labels_test, y_pred_probs_test = get_model_outputs(\n",
    "    X_test, onnx_inference_session\n",
    ")"
   ]
  },
  {
   "cell_type": "markdown",
   "id": "5feac89b",
   "metadata": {
    "papermill": {
     "duration": 0.004337,
     "end_time": "2022-07-11T06:49:57.438061",
     "exception": false,
     "start_time": "2022-07-11T06:49:57.433724",
     "status": "completed"
    },
    "tags": []
   },
   "source": [
    "### Confusion matrix"
   ]
  },
  {
   "cell_type": "code",
   "execution_count": 11,
   "id": "dd048b54",
   "metadata": {
    "execution": {
     "iopub.execute_input": "2022-07-11T06:49:57.447625Z",
     "iopub.status.busy": "2022-07-11T06:49:57.447402Z",
     "iopub.status.idle": "2022-07-11T06:49:57.450641Z",
     "shell.execute_reply": "2022-07-11T06:49:57.450105Z"
    },
    "papermill": {
     "duration": 0.010429,
     "end_time": "2022-07-11T06:49:57.452902",
     "exception": false,
     "start_time": "2022-07-11T06:49:57.442473",
     "status": "completed"
    },
    "tags": []
   },
   "outputs": [],
   "source": [
    "# TODO"
   ]
  },
  {
   "cell_type": "markdown",
   "id": "5a119d15",
   "metadata": {
    "papermill": {
     "duration": 0.003932,
     "end_time": "2022-07-11T06:49:57.465420",
     "exception": false,
     "start_time": "2022-07-11T06:49:57.461488",
     "status": "completed"
    },
    "tags": []
   },
   "source": [
    "### Plot predicted probabilities for each classifier over all evaluation digit images"
   ]
  },
  {
   "cell_type": "code",
   "execution_count": 12,
   "id": "a00d4e96",
   "metadata": {
    "execution": {
     "iopub.execute_input": "2022-07-11T06:49:57.475389Z",
     "iopub.status.busy": "2022-07-11T06:49:57.475162Z",
     "iopub.status.idle": "2022-07-11T06:50:01.189365Z",
     "shell.execute_reply": "2022-07-11T06:50:01.188691Z"
    },
    "papermill": {
     "duration": 3.720863,
     "end_time": "2022-07-11T06:50:01.190944",
     "exception": false,
     "start_time": "2022-07-11T06:49:57.470081",
     "status": "completed"
    },
    "tags": []
   },
   "outputs": [
    {
     "data": {
      "image/png": "[encoded data removed]",
      "text/plain": [
       "<Figure size 1152x432 with 10 Axes>"
      ]
     },
     "metadata": {
      "needs_background": "light"
     },
     "output_type": "display_data"
    }
   ],
   "source": [
    "def plot_per_digit_probabilities(y_pred_probs):\n",
    "    fig, axs = plt.subplots(nrows=2, ncols=5, figsize=(16, 6))\n",
    "\n",
    "    for (r, c), digit, ax in zip(\n",
    "        it.product(range(2), range(5)), range(10), axs.reshape(-1)\n",
    "    ):\n",
    "        ax.hist(y_pred_probs_test[:, digit], bins=20)\n",
    "\n",
    "        ax.set_title(f\"Digit {digit}\")\n",
    "        if r == 1 and c == 2:\n",
    "            ax.set_xlabel(\"probability\", fontsize=16)\n",
    "\n",
    "        if c == 0:\n",
    "            ax.set_ylabel(\"counts\", fontsize=16)\n",
    "        ax.set_yscale(\"log\")\n",
    "\n",
    "    fig.tight_layout()\n",
    "    fig.suptitle(\n",
    "        f\"Distributions of prediction probabilities for each digit \"\n",
    "        f\"(on evaluation data, n={y_pred_probs.shape[0]})\",\n",
    "        fontsize=20,\n",
    "    )\n",
    "    fig.tight_layout()\n",
    "    fig.show()\n",
    "\n",
    "    return fig\n",
    "\n",
    "\n",
    "fig = plot_per_digit_probabilities(y_pred_probs_test)"
   ]
  },
  {
   "cell_type": "markdown",
   "id": "2fffc498",
   "metadata": {
    "papermill": {
     "duration": 0.004483,
     "end_time": "2022-07-11T06:50:01.200864",
     "exception": false,
     "start_time": "2022-07-11T06:50:01.196381",
     "status": "completed"
    },
    "tags": []
   },
   "source": [
    "From the above distributions we see that most digits have clear separation between\n",
    "high and lower probabilities. Morover, in each case there is roughly an order of\n",
    "magnitude more of digits with low probabilities. This is compatible with digits\n",
    "being roughly evenly distributed in the data."
   ]
  },
  {
   "cell_type": "code",
   "execution_count": 13,
   "id": "9966a465",
   "metadata": {
    "execution": {
     "iopub.execute_input": "2022-07-11T06:50:01.211468Z",
     "iopub.status.busy": "2022-07-11T06:50:01.211056Z",
     "iopub.status.idle": "2022-07-11T06:50:01.636645Z",
     "shell.execute_reply": "2022-07-11T06:50:01.636001Z"
    },
    "papermill": {
     "duration": 0.432853,
     "end_time": "2022-07-11T06:50:01.638483",
     "exception": false,
     "start_time": "2022-07-11T06:50:01.205630",
     "status": "completed"
    },
    "tags": []
   },
   "outputs": [],
   "source": [
    "logger.log_figure(\"per-digit-probabilities.png\", fig)"
   ]
  },
  {
   "cell_type": "markdown",
   "id": "b0bac650",
   "metadata": {
    "papermill": {
     "duration": 0.005191,
     "end_time": "2022-07-11T06:50:01.648860",
     "exception": false,
     "start_time": "2022-07-11T06:50:01.643669",
     "status": "completed"
    },
    "tags": []
   },
   "source": [
    "### Plot ROC curves for individual one-vs-rest classifiers"
   ]
  },
  {
   "cell_type": "code",
   "execution_count": 14,
   "id": "78a66dc7",
   "metadata": {
    "execution": {
     "iopub.execute_input": "2022-07-11T06:50:01.660178Z",
     "iopub.status.busy": "2022-07-11T06:50:01.659831Z",
     "iopub.status.idle": "2022-07-11T06:50:01.983862Z",
     "shell.execute_reply": "2022-07-11T06:50:01.979422Z"
    },
    "papermill": {
     "duration": 0.332108,
     "end_time": "2022-07-11T06:50:01.986008",
     "exception": false,
     "start_time": "2022-07-11T06:50:01.653900",
     "status": "completed"
    },
    "tags": []
   },
   "outputs": [],
   "source": [
    "from sklearn import metrics"
   ]
  },
  {
   "cell_type": "code",
   "execution_count": 15,
   "id": "14d3ef4a",
   "metadata": {
    "execution": {
     "iopub.execute_input": "2022-07-11T06:50:02.003249Z",
     "iopub.status.busy": "2022-07-11T06:50:02.002672Z",
     "iopub.status.idle": "2022-07-11T06:50:03.208107Z",
     "shell.execute_reply": "2022-07-11T06:50:03.207382Z"
    },
    "papermill": {
     "duration": 1.221729,
     "end_time": "2022-07-11T06:50:03.213484",
     "exception": false,
     "start_time": "2022-07-11T06:50:01.991755",
     "status": "completed"
    },
    "tags": []
   },
   "outputs": [
    {
     "data": {
      "image/png": "[encoded data removed]",
      "text/plain": [
       "<Figure size 1152x576 with 10 Axes>"
      ]
     },
     "metadata": {
      "needs_background": "light"
     },
     "output_type": "display_data"
    }
   ],
   "source": [
    "def plot_roc_curves(y, y_pred_probs):\n",
    "    # based on example code\n",
    "    # https://scikit-learn.org/stable/auto_examples/model_selection/plot_roc.html\n",
    "\n",
    "    fig, axs = plt.subplots(nrows=2, ncols=5, figsize=(16, 8))\n",
    "\n",
    "    roc_auc_dict = {}\n",
    "\n",
    "    for (r, c), digit, ax in zip(\n",
    "        it.product(range(2), range(5)), range(10), axs.reshape(-1)\n",
    "    ):\n",
    "        fpr, tpr, _ = metrics.roc_curve(y == digit, y_pred_probs[:, digit])\n",
    "        auc = metrics.auc(fpr, tpr)\n",
    "        roc_auc_dict[str(digit)] = auc\n",
    "\n",
    "        ax.plot(fpr, tpr, label=f\"ROC AUC={round(auc, 3)}\")\n",
    "\n",
    "        ax.set_title(f\"\\nDigit {digit}\", fontsize=16)\n",
    "        if r == 1:\n",
    "            ax.set_xlabel(\"FPR\", fontsize=18)\n",
    "\n",
    "        if c == 0:\n",
    "            ax.set_ylabel(\"TPR\", fontsize=18)\n",
    "\n",
    "        ax.set_xlim([-0.05, 1.05])\n",
    "        ax.set_ylim([-0.05, 1.05])\n",
    "        ax.legend(loc=\"lower right\", frameon=False, fontsize=14)\n",
    "\n",
    "    fig.tight_layout()\n",
    "    fig.suptitle(\n",
    "        f\"ROC plots for one-vs-rest performances \"\n",
    "        f\"(on evaluation data, n={y_pred_probs_test.shape[1]}\",\n",
    "        fontsize=22,\n",
    "    )\n",
    "    fig.tight_layout()\n",
    "    fig.show()\n",
    "\n",
    "    return roc_auc_dict, fig\n",
    "\n",
    "\n",
    "roc_auc_dict, fig = plot_roc_curves(y_test, y_pred_probs_test)"
   ]
  },
  {
   "cell_type": "code",
   "execution_count": 16,
   "id": "eb889ef1",
   "metadata": {
    "execution": {
     "iopub.execute_input": "2022-07-11T06:50:03.227973Z",
     "iopub.status.busy": "2022-07-11T06:50:03.227704Z",
     "iopub.status.idle": "2022-07-11T06:50:03.442928Z",
     "shell.execute_reply": "2022-07-11T06:50:03.442178Z"
    },
    "papermill": {
     "duration": 0.225227,
     "end_time": "2022-07-11T06:50:03.445028",
     "exception": false,
     "start_time": "2022-07-11T06:50:03.219801",
     "status": "completed"
    },
    "tags": []
   },
   "outputs": [],
   "source": [
    "logger.log_figure(\"per-digit-roc-curves.png\", fig)"
   ]
  },
  {
   "cell_type": "code",
   "execution_count": 17,
   "id": "f03d3627",
   "metadata": {
    "execution": {
     "iopub.execute_input": "2022-07-11T06:50:03.457336Z",
     "iopub.status.busy": "2022-07-11T06:50:03.456979Z",
     "iopub.status.idle": "2022-07-11T06:50:03.462460Z",
     "shell.execute_reply": "2022-07-11T06:50:03.461780Z"
    },
    "papermill": {
     "duration": 0.014741,
     "end_time": "2022-07-11T06:50:03.465205",
     "exception": false,
     "start_time": "2022-07-11T06:50:03.450464",
     "status": "completed"
    },
    "tags": []
   },
   "outputs": [
    {
     "data": {
      "text/plain": [
       "{'0': 1.0,\n",
       " '1': 0.999025304592315,\n",
       " '2': 1.0,\n",
       " '3': 0.9998500468603562,\n",
       " '4': 0.9996189605243103,\n",
       " '5': 0.9994376757263355,\n",
       " '6': 0.999923792104862,\n",
       " '7': 0.9997713763145862,\n",
       " '8': 0.9951923076923077,\n",
       " '9': 0.9995808565767414}"
      ]
     },
     "execution_count": 17,
     "metadata": {},
     "output_type": "execute_result"
    }
   ],
   "source": [
    "roc_auc_dict"
   ]
  },
  {
   "cell_type": "code",
   "execution_count": 18,
   "id": "5cec968d",
   "metadata": {
    "execution": {
     "iopub.execute_input": "2022-07-11T06:50:03.477827Z",
     "iopub.status.busy": "2022-07-11T06:50:03.477500Z",
     "iopub.status.idle": "2022-07-11T06:50:03.481864Z",
     "shell.execute_reply": "2022-07-11T06:50:03.481233Z"
    },
    "papermill": {
     "duration": 0.013876,
     "end_time": "2022-07-11T06:50:03.484826",
     "exception": false,
     "start_time": "2022-07-11T06:50:03.470950",
     "status": "completed"
    },
    "tags": []
   },
   "outputs": [
    {
     "name": "stdout",
     "output_type": "stream",
     "text": [
      " - Logging roc_auc_per_digit (json) : {'0': 1.0, '1': 0.999025304592315, '2': 1.0, '3': 0.9998500468603562, '4': 0.9996189605243103, '5': 0.9994376757263355, '6': 0.999923792104862, '7': 0.9997713763145862, '8': 0.9951923076923077, '9': 0.9995808565767414}\n"
     ]
    }
   ],
   "source": [
    "logger.log_value(\"roc_auc_per_digit\", roc_auc_dict)"
   ]
  },
  {
   "cell_type": "markdown",
   "id": "02f15f11",
   "metadata": {
    "papermill": {
     "duration": 0.005728,
     "end_time": "2022-07-11T06:50:03.495882",
     "exception": false,
     "start_time": "2022-07-11T06:50:03.490154",
     "status": "completed"
    },
    "tags": []
   },
   "source": [
    "### Compute and log mean ROC AUC score averaged over all digits"
   ]
  },
  {
   "cell_type": "code",
   "execution_count": 19,
   "id": "478b3c34",
   "metadata": {
    "execution": {
     "iopub.execute_input": "2022-07-11T06:50:03.508525Z",
     "iopub.status.busy": "2022-07-11T06:50:03.508183Z",
     "iopub.status.idle": "2022-07-11T06:50:03.525465Z",
     "shell.execute_reply": "2022-07-11T06:50:03.524792Z"
    },
    "papermill": {
     "duration": 0.025854,
     "end_time": "2022-07-11T06:50:03.527129",
     "exception": false,
     "start_time": "2022-07-11T06:50:03.501275",
     "status": "completed"
    },
    "tags": []
   },
   "outputs": [
    {
     "name": "stdout",
     "output_type": "stream",
     "text": [
      " - Logging roc_auc_class_mean (float) : 0.9992400320391817\n"
     ]
    }
   ],
   "source": [
    "roc_auc_macro = np.mean(list(roc_auc_dict.values()))\n",
    "\n",
    "logger.log_float(\"roc_auc_class_mean\", roc_auc_macro)\n",
    "\n",
    "# assert that the same value can be computed directly using sklearn\n",
    "assert roc_auc_macro == metrics.roc_auc_score(\n",
    "    y_test, y_pred_probs_test, average=\"macro\", multi_class=\"ovr\"\n",
    ")"
   ]
  },
  {
   "cell_type": "code",
   "execution_count": 20,
   "id": "cfdfdc1d",
   "metadata": {
    "execution": {
     "iopub.execute_input": "2022-07-11T06:50:03.540009Z",
     "iopub.status.busy": "2022-07-11T06:50:03.539644Z",
     "iopub.status.idle": "2022-07-11T06:50:03.543067Z",
     "shell.execute_reply": "2022-07-11T06:50:03.542276Z"
    },
    "lines_to_next_cell": 0,
    "papermill": {
     "duration": 0.012461,
     "end_time": "2022-07-11T06:50:03.545321",
     "exception": false,
     "start_time": "2022-07-11T06:50:03.532860",
     "status": "completed"
    },
    "tags": []
   },
   "outputs": [],
   "source": [
    "# ---"
   ]
  },
  {
   "cell_type": "code",
   "execution_count": null,
   "id": "3e8e06ea",
   "metadata": {
    "papermill": {
     "duration": 0.006077,
     "end_time": "2022-07-11T06:50:03.556807",
     "exception": false,
     "start_time": "2022-07-11T06:50:03.550730",
     "status": "completed"
    },
    "tags": []
   },
   "outputs": [],
   "source": []
  }
 ],
 "metadata": {
  "jupytext": {
   "cell_metadata_filter": "tags,-all",
   "main_language": "python",
   "notebook_metadata_filter": "-all"
  },
  "language_info": {
   "codemirror_mode": {
    "name": "ipython",
    "version": 3
   },
   "file_extension": ".py",
   "mimetype": "text/x-python",
   "name": "python",
   "nbconvert_exporter": "python",
   "pygments_lexer": "ipython3",
   "version": "3.8.10"
  },
  "papermill": {
   "default_parameters": {},
   "duration": 10.18673,
   "end_time": "2022-07-11T06:50:04.782075",
   "environment_variables": {},
   "exception": null,
   "input_path": "/home/host_user/workspace/mnist-demo-pipeline/mnist-demo-pipeline/notebooks/temp-notebook-w2t8qioj.ipynb",
   "output_path": "notebooks/benchmark-model.ipynb",
   "parameters": {
    "P": {
     "_opentelemetry_traceparent": "00-275834b9e35d620e6f49159cc81b626e-a6b0246e66be4566-01",
     "pipeline.data_lake_root": "/pipeline-outputs/data-lake",
     "pipeline.github.actor": "matiasdahl",
     "pipeline.github.base_ref": "",
     "pipeline.github.event_name": "schedule",
     "pipeline.github.head_ref": "",
     "pipeline.github.job": "run-tests-pipeline-and-persist-pipeline-outputs",
     "pipeline.github.ref": "refs/heads/development",
     "pipeline.github.ref_name": "development",
     "pipeline.github.ref_type": "branch",
     "pipeline.github.repository": "pynb-dag-runner/mnist-digits-demo-pipeline",
     "pipeline.github.run_id": "2647744933",
     "pipeline.github.runner_name": "Hosted Agent",
     "pipeline.github.sha": "147a1be9916173fd4d2cd011d8d51e3411215850",
     "pipeline.github.workflow": "Run automated tests, pipeline and deploy results to static reporting site",
     "pipeline.pipeline_run_id": "d4d605c2-2813-4deb-a30e-f9ddbea85443",
     "pipeline.run_environment": "ci",
     "run.retry_nr": "0",
     "task.max_nr_retries": "1",
     "task.notebook": "notebooks/benchmark-model.py",
     "task.nr_train_images": 1000,
     "task.num_cpus": 1,
     "task.timeout_s": "None"
    }
   },
   "start_time": "2022-07-11T06:49:54.595345",
   "version": "2.3.3"
  }
 },
 "nbformat": 4,
 "nbformat_minor": 5
}