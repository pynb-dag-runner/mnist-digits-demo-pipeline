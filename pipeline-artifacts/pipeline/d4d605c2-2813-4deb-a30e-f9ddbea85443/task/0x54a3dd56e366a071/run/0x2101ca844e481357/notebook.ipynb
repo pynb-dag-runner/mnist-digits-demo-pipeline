{
 "cells": [
  {
   "cell_type": "markdown",
   "id": "c7592897",
   "metadata": {
    "papermill": {
     "duration": 0.004545,
     "end_time": "2022-07-11T06:49:43.711635",
     "exception": false,
     "start_time": "2022-07-11T06:49:43.707090",
     "status": "completed"
    },
    "tags": []
   },
   "source": [
    "# Train model\n",
    "\n",
    "The purpose of this notebook is:\n",
    "\n",
    "- Load all training data (images and labels).\n",
    "- Limit number of train images to `task.nr_train_images` (value provided as run parameter).\n",
    "- Train a support vector machine model using sklearn.\n",
    "- Persist the trained model using the ONNX format."
   ]
  },
  {
   "cell_type": "markdown",
   "id": "0c7e100c",
   "metadata": {
    "papermill": {
     "duration": 0.002703,
     "end_time": "2022-07-11T06:49:43.717760",
     "exception": false,
     "start_time": "2022-07-11T06:49:43.715057",
     "status": "completed"
    },
    "tags": []
   },
   "source": [
    "### Determine run parameters"
   ]
  },
  {
   "cell_type": "code",
   "execution_count": 1,
   "id": "4c447280",
   "metadata": {
    "execution": {
     "iopub.execute_input": "2022-07-11T06:49:43.725401Z",
     "iopub.status.busy": "2022-07-11T06:49:43.725058Z",
     "iopub.status.idle": "2022-07-11T06:49:43.733914Z",
     "shell.execute_reply": "2022-07-11T06:49:43.733351Z"
    },
    "lines_to_next_cell": 0,
    "papermill": {
     "duration": 0.016064,
     "end_time": "2022-07-11T06:49:43.736885",
     "exception": false,
     "start_time": "2022-07-11T06:49:43.720821",
     "status": "completed"
    },
    "tags": []
   },
   "outputs": [],
   "source": [
    "# ----------------- Parameters for interactive development --------------\n",
    "P = {\n",
    "    \"pipeline.data_lake_root\": \"/pipeline-outputs/data-lake\",\n",
    "    \"task.nr_train_images\": 600,\n",
    "}"
   ]
  },
  {
   "cell_type": "code",
   "execution_count": 2,
   "id": "292deb8b",
   "metadata": {
    "execution": {
     "iopub.execute_input": "2022-07-11T06:49:43.744234Z",
     "iopub.status.busy": "2022-07-11T06:49:43.744025Z",
     "iopub.status.idle": "2022-07-11T06:49:43.746931Z",
     "shell.execute_reply": "2022-07-11T06:49:43.746327Z"
    },
    "lines_to_next_cell": 0,
    "papermill": {
     "duration": 0.009778,
     "end_time": "2022-07-11T06:49:43.749901",
     "exception": false,
     "start_time": "2022-07-11T06:49:43.740123",
     "status": "completed"
    },
    "tags": [
     "parameters"
    ]
   },
   "outputs": [],
   "source": [
    "# - During automated runs parameters will be injected in the below cell -"
   ]
  },
  {
   "cell_type": "code",
   "execution_count": 3,
   "id": "787c2f82",
   "metadata": {
    "execution": {
     "iopub.execute_input": "2022-07-11T06:49:43.756760Z",
     "iopub.status.busy": "2022-07-11T06:49:43.756559Z",
     "iopub.status.idle": "2022-07-11T06:49:43.761739Z",
     "shell.execute_reply": "2022-07-11T06:49:43.760687Z"
    },
    "papermill": {
     "duration": 0.011557,
     "end_time": "2022-07-11T06:49:43.764423",
     "exception": false,
     "start_time": "2022-07-11T06:49:43.752866",
     "status": "completed"
    },
    "tags": [
     "injected-parameters"
    ]
   },
   "outputs": [],
   "source": [
    "# Parameters\n",
    "P = {\n",
    "    \"pipeline.data_lake_root\": \"/pipeline-outputs/data-lake\",\n",
    "    \"pipeline.run_environment\": \"ci\",\n",
    "    \"pipeline.pipeline_run_id\": \"d4d605c2-2813-4deb-a30e-f9ddbea85443\",\n",
    "    \"pipeline.github.repository\": \"pynb-dag-runner/mnist-digits-demo-pipeline\",\n",
    "    \"pipeline.github.workflow\": \"Run automated tests, pipeline and deploy results to static reporting site\",\n",
    "    \"pipeline.github.runner_name\": \"Hosted Agent\",\n",
    "    \"pipeline.github.run_id\": \"2647744933\",\n",
    "    \"pipeline.github.actor\": \"matiasdahl\",\n",
    "    \"pipeline.github.job\": \"run-tests-pipeline-and-persist-pipeline-outputs\",\n",
    "    \"pipeline.github.base_ref\": \"\",\n",
    "    \"pipeline.github.head_ref\": \"\",\n",
    "    \"pipeline.github.sha\": \"147a1be9916173fd4d2cd011d8d51e3411215850\",\n",
    "    \"pipeline.github.ref\": \"refs/heads/development\",\n",
    "    \"pipeline.github.ref_type\": \"branch\",\n",
    "    \"pipeline.github.ref_name\": \"development\",\n",
    "    \"pipeline.github.event_name\": \"schedule\",\n",
    "    \"task.nr_train_images\": 1000,\n",
    "    \"task.notebook\": \"notebooks/train-model.py\",\n",
    "    \"task.max_nr_retries\": \"1\",\n",
    "    \"run.retry_nr\": \"0\",\n",
    "    \"task.timeout_s\": \"None\",\n",
    "    \"task.num_cpus\": 1,\n",
    "    \"_opentelemetry_traceparent\": \"00-275834b9e35d620e6f49159cc81b626e-206daf7465707535-01\",\n",
    "}\n"
   ]
  },
  {
   "cell_type": "code",
   "execution_count": 4,
   "id": "77b42faf",
   "metadata": {
    "execution": {
     "iopub.execute_input": "2022-07-11T06:49:43.771637Z",
     "iopub.status.busy": "2022-07-11T06:49:43.771360Z",
     "iopub.status.idle": "2022-07-11T06:49:43.774333Z",
     "shell.execute_reply": "2022-07-11T06:49:43.773835Z"
    },
    "lines_to_next_cell": 0,
    "papermill": {
     "duration": 0.009352,
     "end_time": "2022-07-11T06:49:43.776750",
     "exception": false,
     "start_time": "2022-07-11T06:49:43.767398",
     "status": "completed"
    },
    "tags": []
   },
   "outputs": [],
   "source": [
    "# -----------------------------------------------------------------------"
   ]
  },
  {
   "cell_type": "markdown",
   "id": "7f15f182",
   "metadata": {
    "papermill": {
     "duration": 0.002849,
     "end_time": "2022-07-11T06:49:43.782628",
     "exception": false,
     "start_time": "2022-07-11T06:49:43.779779",
     "status": "completed"
    },
    "tags": []
   },
   "source": [
    "---"
   ]
  },
  {
   "cell_type": "markdown",
   "id": "8901b13a",
   "metadata": {
    "lines_to_next_cell": 2,
    "papermill": {
     "duration": 0.008179,
     "end_time": "2022-07-11T06:49:43.793862",
     "exception": false,
     "start_time": "2022-07-11T06:49:43.785683",
     "status": "completed"
    },
    "tags": []
   },
   "source": [
    "### Notebook code"
   ]
  },
  {
   "cell_type": "code",
   "execution_count": 5,
   "id": "35f1d4f0",
   "metadata": {
    "execution": {
     "iopub.execute_input": "2022-07-11T06:49:43.800848Z",
     "iopub.status.busy": "2022-07-11T06:49:43.800487Z",
     "iopub.status.idle": "2022-07-11T06:49:44.270614Z",
     "shell.execute_reply": "2022-07-11T06:49:44.269805Z"
    },
    "papermill": {
     "duration": 0.476256,
     "end_time": "2022-07-11T06:49:44.272734",
     "exception": false,
     "start_time": "2022-07-11T06:49:43.796478",
     "status": "completed"
    },
    "tags": []
   },
   "outputs": [
    {
     "name": "stderr",
     "output_type": "stream",
     "text": [
      "2022-07-11 06:49:44,102\tINFO worker.py:842 -- Connecting to existing Ray cluster at address: 172.17.0.2:6379\n"
     ]
    }
   ],
   "source": [
    "from pynb_dag_runner.tasks.task_opentelemetry_logging import PydarLogger\n",
    "\n",
    "logger = PydarLogger(P)"
   ]
  },
  {
   "cell_type": "markdown",
   "id": "e98751a0",
   "metadata": {
    "papermill": {
     "duration": 0.003414,
     "end_time": "2022-07-11T06:49:44.280601",
     "exception": false,
     "start_time": "2022-07-11T06:49:44.277187",
     "status": "completed"
    },
    "tags": []
   },
   "source": [
    "## Load and limit train data"
   ]
  },
  {
   "cell_type": "code",
   "execution_count": 6,
   "id": "caf6e37e",
   "metadata": {
    "execution": {
     "iopub.execute_input": "2022-07-11T06:49:44.288015Z",
     "iopub.status.busy": "2022-07-11T06:49:44.287696Z",
     "iopub.status.idle": "2022-07-11T06:49:44.718915Z",
     "shell.execute_reply": "2022-07-11T06:49:44.716379Z"
    },
    "papermill": {
     "duration": 0.437608,
     "end_time": "2022-07-11T06:49:44.720915",
     "exception": false,
     "start_time": "2022-07-11T06:49:44.283307",
     "status": "completed"
    },
    "tags": []
   },
   "outputs": [],
   "source": [
    "def load_and_limit_train_data(P):\n",
    "    from common.io import datalake_root, read_numpy\n",
    "    from sklearn.model_selection import train_test_split\n",
    "\n",
    "    X_train_all = read_numpy(datalake_root(P) / \"train-data\" / \"digits.numpy\")\n",
    "    y_train_all = read_numpy(datalake_root(P) / \"train-data\" / \"labels.numpy\")\n",
    "\n",
    "    assert isinstance(P[\"task.nr_train_images\"], int)\n",
    "\n",
    "    # Note: train_test_split will fail if split is 0 or 100%.\n",
    "    assert 0 < P[\"task.nr_train_images\"] < len(y_train_all)\n",
    "\n",
    "    X_train, _, y_train, _ = train_test_split(\n",
    "        X_train_all,\n",
    "        y_train_all,\n",
    "        train_size=P[\"task.nr_train_images\"],\n",
    "        test_size=None,\n",
    "        stratify=y_train_all,\n",
    "        shuffle=True,\n",
    "        random_state=123,\n",
    "    )\n",
    "\n",
    "    assert X_train.shape == (len(y_train), 8 * 8)\n",
    "    return X_train, y_train\n",
    "\n",
    "\n",
    "X_train, y_train = load_and_limit_train_data(P)"
   ]
  },
  {
   "cell_type": "markdown",
   "id": "1abc2d8b",
   "metadata": {
    "papermill": {
     "duration": 0.004042,
     "end_time": "2022-07-11T06:49:44.730234",
     "exception": false,
     "start_time": "2022-07-11T06:49:44.726192",
     "status": "completed"
    },
    "tags": []
   },
   "source": [
    "## Train support vector classifier model\n",
    "\n",
    "Below we assume that the hyperparameter $C$ is known.\n",
    "\n",
    "However, this should ideally be found by a hyperparameter search. That could be\n",
    "done in parallel on the Ray cluster, but this needs some more work. Ie., to use\n",
    "multiple cores in the notebook, those cores should be reserved when starting the\n",
    "notebook task (TODO).\n",
    "\n",
    "- https://docs.ray.io/en/latest/tune/key-concepts.html\n",
    "\n",
    "Note: cv-scores would need to be computed here, since they depend on the train data.\n",
    "After this notebook only the onnx-model is available."
   ]
  },
  {
   "cell_type": "code",
   "execution_count": 7,
   "id": "12ec096b",
   "metadata": {
    "execution": {
     "iopub.execute_input": "2022-07-11T06:49:44.739325Z",
     "iopub.status.busy": "2022-07-11T06:49:44.739038Z",
     "iopub.status.idle": "2022-07-11T06:49:44.764881Z",
     "shell.execute_reply": "2022-07-11T06:49:44.764119Z"
    },
    "papermill": {
     "duration": 0.033665,
     "end_time": "2022-07-11T06:49:44.766678",
     "exception": false,
     "start_time": "2022-07-11T06:49:44.733013",
     "status": "completed"
    },
    "tags": []
   },
   "outputs": [],
   "source": [
    "from sklearn.svm import SVC"
   ]
  },
  {
   "cell_type": "code",
   "execution_count": 8,
   "id": "13998548",
   "metadata": {
    "execution": {
     "iopub.execute_input": "2022-07-11T06:49:44.775642Z",
     "iopub.status.busy": "2022-07-11T06:49:44.775179Z",
     "iopub.status.idle": "2022-07-11T06:49:44.952495Z",
     "shell.execute_reply": "2022-07-11T06:49:44.951885Z"
    },
    "papermill": {
     "duration": 0.18411,
     "end_time": "2022-07-11T06:49:44.954300",
     "exception": false,
     "start_time": "2022-07-11T06:49:44.770190",
     "status": "completed"
    },
    "tags": []
   },
   "outputs": [
    {
     "data": {
      "text/plain": [
       "SVC(C=0.001, kernel='linear', probability=True)"
      ]
     },
     "execution_count": 8,
     "metadata": {},
     "output_type": "execute_result"
    }
   ],
   "source": [
    "model = SVC(C=0.001, kernel=\"linear\", probability=True)\n",
    "\n",
    "model.fit(X_train, y_train)"
   ]
  },
  {
   "cell_type": "markdown",
   "id": "27b87a5d",
   "metadata": {
    "papermill": {
     "duration": 0.003156,
     "end_time": "2022-07-11T06:49:44.961715",
     "exception": false,
     "start_time": "2022-07-11T06:49:44.958559",
     "status": "completed"
    },
    "tags": []
   },
   "source": [
    "### Q: Can the labels returned by `predict(..)` be computed from probabilities returned by the `predict_prob`-method?"
   ]
  },
  {
   "cell_type": "code",
   "execution_count": 9,
   "id": "a8e22e2c",
   "metadata": {
    "execution": {
     "iopub.execute_input": "2022-07-11T06:49:44.969697Z",
     "iopub.status.busy": "2022-07-11T06:49:44.969445Z",
     "iopub.status.idle": "2022-07-11T06:49:45.057226Z",
     "shell.execute_reply": "2022-07-11T06:49:45.056670Z"
    },
    "papermill": {
     "duration": 0.094184,
     "end_time": "2022-07-11T06:49:45.059017",
     "exception": false,
     "start_time": "2022-07-11T06:49:44.964833",
     "status": "completed"
    },
    "tags": []
   },
   "outputs": [
    {
     "name": "stdout",
     "output_type": "stream",
     "text": [
      " - Logging nr_max_prob_neq_label (int) : 1\n"
     ]
    }
   ],
   "source": [
    "import numpy as np\n",
    "\n",
    "y_train_labels = model.predict(X_train)\n",
    "y_train_probabilities = model.predict_proba(X_train)\n",
    "assert y_train_probabilities.shape == (len(y_train), 10)\n",
    "\n",
    "y_train_max_prob_labels = np.argmax(y_train_probabilities, axis=1)\n",
    "assert y_train_labels.shape == y_train_max_prob_labels.shape == y_train.shape\n",
    "\n",
    "# If the predicted labels would coincide with the labels that have\n",
    "# maximum probability, the below number would be zero\n",
    "logger.log_int(\n",
    "    \"nr_max_prob_neq_label\", int(sum(y_train_max_prob_labels != y_train_labels))\n",
    ")"
   ]
  },
  {
   "cell_type": "markdown",
   "id": "59ae5972",
   "metadata": {
    "papermill": {
     "duration": 0.003609,
     "end_time": "2022-07-11T06:49:45.066448",
     "exception": false,
     "start_time": "2022-07-11T06:49:45.062839",
     "status": "completed"
    },
    "tags": []
   },
   "source": [
    "The explanation is (likely) explained in the SVC source, see\n",
    "[here](https://github.com/scikit-learn/scikit-learn/blob/main/sklearn/svm/_base.py).\n",
    "Namely, the outputs from `predict(..)` and `predict_proba(..)` may not in some\n",
    "cases be compatible since the latter is computed using cross-validation while\n",
    "the former is not. Thus, the above number need not be zero."
   ]
  },
  {
   "cell_type": "markdown",
   "id": "eabb0986",
   "metadata": {
    "papermill": {
     "duration": 0.003146,
     "end_time": "2022-07-11T06:49:45.072793",
     "exception": false,
     "start_time": "2022-07-11T06:49:45.069647",
     "status": "completed"
    },
    "tags": []
   },
   "source": [
    "## Persist model"
   ]
  },
  {
   "cell_type": "code",
   "execution_count": 10,
   "id": "ba7741bc",
   "metadata": {
    "execution": {
     "iopub.execute_input": "2022-07-11T06:49:45.080299Z",
     "iopub.status.busy": "2022-07-11T06:49:45.080036Z",
     "iopub.status.idle": "2022-07-11T06:49:45.839699Z",
     "shell.execute_reply": "2022-07-11T06:49:45.839021Z"
    },
    "papermill": {
     "duration": 0.765588,
     "end_time": "2022-07-11T06:49:45.841681",
     "exception": false,
     "start_time": "2022-07-11T06:49:45.076093",
     "status": "completed"
    },
    "tags": []
   },
   "outputs": [],
   "source": [
    "from skl2onnx import convert_sklearn\n",
    "from skl2onnx.common.data_types import FloatTensorType\n",
    "\n",
    "#\n",
    "from common.io import datalake_root, write_onnx"
   ]
  },
  {
   "cell_type": "code",
   "execution_count": 11,
   "id": "5737589a",
   "metadata": {
    "execution": {
     "iopub.execute_input": "2022-07-11T06:49:45.850859Z",
     "iopub.status.busy": "2022-07-11T06:49:45.850322Z",
     "iopub.status.idle": "2022-07-11T06:49:45.904991Z",
     "shell.execute_reply": "2022-07-11T06:49:45.904391Z"
    },
    "papermill": {
     "duration": 0.061471,
     "end_time": "2022-07-11T06:49:45.906840",
     "exception": false,
     "start_time": "2022-07-11T06:49:45.845369",
     "status": "completed"
    },
    "tags": []
   },
   "outputs": [],
   "source": [
    "# convert sklearn model into onnx and persist to data lake\n",
    "\n",
    "model_onnx = convert_sklearn(\n",
    "    model, initial_types=[(\"float_input_8x8_image\", FloatTensorType([None, 8 * 8]))]\n",
    ")\n",
    "write_onnx(\n",
    "    datalake_root(P)\n",
    "    / \"models\"\n",
    "    / f\"nr_train_images={P['task.nr_train_images']}\"\n",
    "    / \"model.onnx\",\n",
    "    model_onnx,\n",
    ")"
   ]
  },
  {
   "cell_type": "code",
   "execution_count": null,
   "id": "8c278c8f",
   "metadata": {
    "papermill": {
     "duration": 0.003794,
     "end_time": "2022-07-11T06:49:45.914281",
     "exception": false,
     "start_time": "2022-07-11T06:49:45.910487",
     "status": "completed"
    },
    "tags": []
   },
   "outputs": [],
   "source": []
  }
 ],
 "metadata": {
  "jupytext": {
   "cell_metadata_filter": "tags,-all",
   "main_language": "python",
   "notebook_metadata_filter": "-all"
  },
  "language_info": {
   "codemirror_mode": {
    "name": "ipython",
    "version": 3
   },
   "file_extension": ".py",
   "mimetype": "text/x-python",
   "name": "python",
   "nbconvert_exporter": "python",
   "pygments_lexer": "ipython3",
   "version": "3.8.10"
  },
  "papermill": {
   "default_parameters": {},
   "duration": 4.521267,
   "end_time": "2022-07-11T06:49:47.041558",
   "environment_variables": {},
   "exception": null,
   "input_path": "/home/host_user/workspace/mnist-demo-pipeline/mnist-demo-pipeline/notebooks/temp-notebook-nijmkz_v.ipynb",
   "output_path": "notebooks/train-model.ipynb",
   "parameters": {
    "P": {
     "_opentelemetry_traceparent": "00-275834b9e35d620e6f49159cc81b626e-206daf7465707535-01",
     "pipeline.data_lake_root": "/pipeline-outputs/data-lake",
     "pipeline.github.actor": "matiasdahl",
     "pipeline.github.base_ref": "",
     "pipeline.github.event_name": "schedule",
     "pipeline.github.head_ref": "",
     "pipeline.github.job": "run-tests-pipeline-and-persist-pipeline-outputs",
     "pipeline.github.ref": "refs/heads/development",
     "pipeline.github.ref_name": "development",
     "pipeline.github.ref_type": "branch",
     "pipeline.github.repository": "pynb-dag-runner/mnist-digits-demo-pipeline",
     "pipeline.github.run_id": "2647744933",
     "pipeline.github.runner_name": "Hosted Agent",
     "pipeline.github.sha": "147a1be9916173fd4d2cd011d8d51e3411215850",
     "pipeline.github.workflow": "Run automated tests, pipeline and deploy results to static reporting site",
     "pipeline.pipeline_run_id": "d4d605c2-2813-4deb-a30e-f9ddbea85443",
     "pipeline.run_environment": "ci",
     "run.retry_nr": "0",
     "task.max_nr_retries": "1",
     "task.notebook": "notebooks/train-model.py",
     "task.nr_train_images": 1000,
     "task.num_cpus": 1,
     "task.timeout_s": "None"
    }
   },
   "start_time": "2022-07-11T06:49:42.520291",
   "version": "2.3.3"
  }
 },
 "nbformat": 4,
 "nbformat_minor": 5
}