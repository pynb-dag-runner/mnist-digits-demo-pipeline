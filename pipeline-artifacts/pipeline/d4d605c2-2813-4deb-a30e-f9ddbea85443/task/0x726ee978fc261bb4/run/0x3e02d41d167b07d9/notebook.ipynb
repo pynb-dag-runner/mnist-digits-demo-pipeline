{
 "cells": [
  {
   "cell_type": "markdown",
   "id": "2b220114",
   "metadata": {
    "papermill": {
     "duration": 0.005344,
     "end_time": "2022-07-11T06:49:45.795659",
     "exception": false,
     "start_time": "2022-07-11T06:49:45.790315",
     "status": "completed"
    },
    "tags": []
   },
   "source": [
    "# Train model\n",
    "\n",
    "The purpose of this notebook is:\n",
    "\n",
    "- Load all training data (images and labels).\n",
    "- Limit number of train images to `task.nr_train_images` (value provided as run parameter).\n",
    "- Train a support vector machine model using sklearn.\n",
    "- Persist the trained model using the ONNX format."
   ]
  },
  {
   "cell_type": "markdown",
   "id": "c429327a",
   "metadata": {
    "papermill": {
     "duration": 0.003309,
     "end_time": "2022-07-11T06:49:45.802167",
     "exception": false,
     "start_time": "2022-07-11T06:49:45.798858",
     "status": "completed"
    },
    "tags": []
   },
   "source": [
    "### Determine run parameters"
   ]
  },
  {
   "cell_type": "code",
   "execution_count": 1,
   "id": "a1a90b6d",
   "metadata": {
    "execution": {
     "iopub.execute_input": "2022-07-11T06:49:45.810176Z",
     "iopub.status.busy": "2022-07-11T06:49:45.809840Z",
     "iopub.status.idle": "2022-07-11T06:49:45.819004Z",
     "shell.execute_reply": "2022-07-11T06:49:45.818446Z"
    },
    "lines_to_next_cell": 0,
    "papermill": {
     "duration": 0.01483,
     "end_time": "2022-07-11T06:49:45.820828",
     "exception": false,
     "start_time": "2022-07-11T06:49:45.805998",
     "status": "completed"
    },
    "tags": []
   },
   "outputs": [],
   "source": [
    "# ----------------- Parameters for interactive development --------------\n",
    "P = {\n",
    "    \"pipeline.data_lake_root\": \"/pipeline-outputs/data-lake\",\n",
    "    \"task.nr_train_images\": 600,\n",
    "}"
   ]
  },
  {
   "cell_type": "code",
   "execution_count": 2,
   "id": "35ea710f",
   "metadata": {
    "execution": {
     "iopub.execute_input": "2022-07-11T06:49:45.828350Z",
     "iopub.status.busy": "2022-07-11T06:49:45.828121Z",
     "iopub.status.idle": "2022-07-11T06:49:45.831361Z",
     "shell.execute_reply": "2022-07-11T06:49:45.830683Z"
    },
    "lines_to_next_cell": 0,
    "papermill": {
     "duration": 0.010145,
     "end_time": "2022-07-11T06:49:45.834057",
     "exception": false,
     "start_time": "2022-07-11T06:49:45.823912",
     "status": "completed"
    },
    "tags": [
     "parameters"
    ]
   },
   "outputs": [],
   "source": [
    "# - During automated runs parameters will be injected in the below cell -"
   ]
  },
  {
   "cell_type": "code",
   "execution_count": 3,
   "id": "85899728",
   "metadata": {
    "execution": {
     "iopub.execute_input": "2022-07-11T06:49:45.841392Z",
     "iopub.status.busy": "2022-07-11T06:49:45.841168Z",
     "iopub.status.idle": "2022-07-11T06:49:45.851800Z",
     "shell.execute_reply": "2022-07-11T06:49:45.851298Z"
    },
    "papermill": {
     "duration": 0.018018,
     "end_time": "2022-07-11T06:49:45.855452",
     "exception": false,
     "start_time": "2022-07-11T06:49:45.837434",
     "status": "completed"
    },
    "tags": [
     "injected-parameters"
    ]
   },
   "outputs": [],
   "source": [
    "# Parameters\n",
    "P = {\n",
    "    \"pipeline.data_lake_root\": \"/pipeline-outputs/data-lake\",\n",
    "    \"pipeline.run_environment\": \"ci\",\n",
    "    \"pipeline.pipeline_run_id\": \"d4d605c2-2813-4deb-a30e-f9ddbea85443\",\n",
    "    \"pipeline.github.repository\": \"pynb-dag-runner/mnist-digits-demo-pipeline\",\n",
    "    \"pipeline.github.workflow\": \"Run automated tests, pipeline and deploy results to static reporting site\",\n",
    "    \"pipeline.github.runner_name\": \"Hosted Agent\",\n",
    "    \"pipeline.github.run_id\": \"2647744933\",\n",
    "    \"pipeline.github.actor\": \"matiasdahl\",\n",
    "    \"pipeline.github.job\": \"run-tests-pipeline-and-persist-pipeline-outputs\",\n",
    "    \"pipeline.github.base_ref\": \"\",\n",
    "    \"pipeline.github.head_ref\": \"\",\n",
    "    \"pipeline.github.sha\": \"147a1be9916173fd4d2cd011d8d51e3411215850\",\n",
    "    \"pipeline.github.ref\": \"refs/heads/development\",\n",
    "    \"pipeline.github.ref_type\": \"branch\",\n",
    "    \"pipeline.github.ref_name\": \"development\",\n",
    "    \"pipeline.github.event_name\": \"schedule\",\n",
    "    \"task.nr_train_images\": 600,\n",
    "    \"task.notebook\": \"notebooks/train-model.py\",\n",
    "    \"task.max_nr_retries\": \"1\",\n",
    "    \"run.retry_nr\": \"0\",\n",
    "    \"task.timeout_s\": \"None\",\n",
    "    \"task.num_cpus\": 1,\n",
    "    \"_opentelemetry_traceparent\": \"00-275834b9e35d620e6f49159cc81b626e-2feb747997d01a91-01\",\n",
    "}\n"
   ]
  },
  {
   "cell_type": "code",
   "execution_count": 4,
   "id": "0f0b5deb",
   "metadata": {
    "execution": {
     "iopub.execute_input": "2022-07-11T06:49:45.862628Z",
     "iopub.status.busy": "2022-07-11T06:49:45.862411Z",
     "iopub.status.idle": "2022-07-11T06:49:45.865273Z",
     "shell.execute_reply": "2022-07-11T06:49:45.864761Z"
    },
    "lines_to_next_cell": 0,
    "papermill": {
     "duration": 0.009641,
     "end_time": "2022-07-11T06:49:45.868670",
     "exception": false,
     "start_time": "2022-07-11T06:49:45.859029",
     "status": "completed"
    },
    "tags": []
   },
   "outputs": [],
   "source": [
    "# -----------------------------------------------------------------------"
   ]
  },
  {
   "cell_type": "markdown",
   "id": "798d7d04",
   "metadata": {
    "papermill": {
     "duration": 0.003042,
     "end_time": "2022-07-11T06:49:45.880567",
     "exception": false,
     "start_time": "2022-07-11T06:49:45.877525",
     "status": "completed"
    },
    "tags": []
   },
   "source": [
    "---"
   ]
  },
  {
   "cell_type": "markdown",
   "id": "628efabb",
   "metadata": {
    "lines_to_next_cell": 2,
    "papermill": {
     "duration": 0.002904,
     "end_time": "2022-07-11T06:49:45.886185",
     "exception": false,
     "start_time": "2022-07-11T06:49:45.883281",
     "status": "completed"
    },
    "tags": []
   },
   "source": [
    "### Notebook code"
   ]
  },
  {
   "cell_type": "code",
   "execution_count": 5,
   "id": "51b76069",
   "metadata": {
    "execution": {
     "iopub.execute_input": "2022-07-11T06:49:45.893313Z",
     "iopub.status.busy": "2022-07-11T06:49:45.893096Z",
     "iopub.status.idle": "2022-07-11T06:49:46.342406Z",
     "shell.execute_reply": "2022-07-11T06:49:46.341101Z"
    },
    "papermill": {
     "duration": 0.454679,
     "end_time": "2022-07-11T06:49:46.344348",
     "exception": false,
     "start_time": "2022-07-11T06:49:45.889669",
     "status": "completed"
    },
    "tags": []
   },
   "outputs": [
    {
     "name": "stderr",
     "output_type": "stream",
     "text": [
      "2022-07-11 06:49:46,189\tINFO worker.py:842 -- Connecting to existing Ray cluster at address: 172.17.0.2:6379\n"
     ]
    }
   ],
   "source": [
    "from pynb_dag_runner.tasks.task_opentelemetry_logging import PydarLogger\n",
    "\n",
    "logger = PydarLogger(P)"
   ]
  },
  {
   "cell_type": "markdown",
   "id": "2dc7df3d",
   "metadata": {
    "papermill": {
     "duration": 0.003033,
     "end_time": "2022-07-11T06:49:46.350700",
     "exception": false,
     "start_time": "2022-07-11T06:49:46.347667",
     "status": "completed"
    },
    "tags": []
   },
   "source": [
    "## Load and limit train data"
   ]
  },
  {
   "cell_type": "code",
   "execution_count": 6,
   "id": "b8f5e133",
   "metadata": {
    "execution": {
     "iopub.execute_input": "2022-07-11T06:49:46.357893Z",
     "iopub.status.busy": "2022-07-11T06:49:46.357436Z",
     "iopub.status.idle": "2022-07-11T06:49:46.761043Z",
     "shell.execute_reply": "2022-07-11T06:49:46.760352Z"
    },
    "papermill": {
     "duration": 0.409392,
     "end_time": "2022-07-11T06:49:46.763134",
     "exception": false,
     "start_time": "2022-07-11T06:49:46.353742",
     "status": "completed"
    },
    "tags": []
   },
   "outputs": [],
   "source": [
    "def load_and_limit_train_data(P):\n",
    "    from common.io import datalake_root, read_numpy\n",
    "    from sklearn.model_selection import train_test_split\n",
    "\n",
    "    X_train_all = read_numpy(datalake_root(P) / \"train-data\" / \"digits.numpy\")\n",
    "    y_train_all = read_numpy(datalake_root(P) / \"train-data\" / \"labels.numpy\")\n",
    "\n",
    "    assert isinstance(P[\"task.nr_train_images\"], int)\n",
    "\n",
    "    # Note: train_test_split will fail if split is 0 or 100%.\n",
    "    assert 0 < P[\"task.nr_train_images\"] < len(y_train_all)\n",
    "\n",
    "    X_train, _, y_train, _ = train_test_split(\n",
    "        X_train_all,\n",
    "        y_train_all,\n",
    "        train_size=P[\"task.nr_train_images\"],\n",
    "        test_size=None,\n",
    "        stratify=y_train_all,\n",
    "        shuffle=True,\n",
    "        random_state=123,\n",
    "    )\n",
    "\n",
    "    assert X_train.shape == (len(y_train), 8 * 8)\n",
    "    return X_train, y_train\n",
    "\n",
    "\n",
    "X_train, y_train = load_and_limit_train_data(P)"
   ]
  },
  {
   "cell_type": "markdown",
   "id": "4f43a0ab",
   "metadata": {
    "papermill": {
     "duration": 0.005855,
     "end_time": "2022-07-11T06:49:46.775008",
     "exception": false,
     "start_time": "2022-07-11T06:49:46.769153",
     "status": "completed"
    },
    "tags": []
   },
   "source": [
    "## Train support vector classifier model\n",
    "\n",
    "Below we assume that the hyperparameter $C$ is known.\n",
    "\n",
    "However, this should ideally be found by a hyperparameter search. That could be\n",
    "done in parallel on the Ray cluster, but this needs some more work. Ie., to use\n",
    "multiple cores in the notebook, those cores should be reserved when starting the\n",
    "notebook task (TODO).\n",
    "\n",
    "- https://docs.ray.io/en/latest/tune/key-concepts.html\n",
    "\n",
    "Note: cv-scores would need to be computed here, since they depend on the train data.\n",
    "After this notebook only the onnx-model is available."
   ]
  },
  {
   "cell_type": "code",
   "execution_count": 7,
   "id": "c4cc3428",
   "metadata": {
    "execution": {
     "iopub.execute_input": "2022-07-11T06:49:46.784278Z",
     "iopub.status.busy": "2022-07-11T06:49:46.783968Z",
     "iopub.status.idle": "2022-07-11T06:49:46.808582Z",
     "shell.execute_reply": "2022-07-11T06:49:46.807974Z"
    },
    "papermill": {
     "duration": 0.030533,
     "end_time": "2022-07-11T06:49:46.810369",
     "exception": false,
     "start_time": "2022-07-11T06:49:46.779836",
     "status": "completed"
    },
    "tags": []
   },
   "outputs": [],
   "source": [
    "from sklearn.svm import SVC"
   ]
  },
  {
   "cell_type": "code",
   "execution_count": 8,
   "id": "e713cdc2",
   "metadata": {
    "execution": {
     "iopub.execute_input": "2022-07-11T06:49:46.819247Z",
     "iopub.status.busy": "2022-07-11T06:49:46.818803Z",
     "iopub.status.idle": "2022-07-11T06:49:46.919738Z",
     "shell.execute_reply": "2022-07-11T06:49:46.918905Z"
    },
    "papermill": {
     "duration": 0.10788,
     "end_time": "2022-07-11T06:49:46.921531",
     "exception": false,
     "start_time": "2022-07-11T06:49:46.813651",
     "status": "completed"
    },
    "tags": []
   },
   "outputs": [
    {
     "data": {
      "text/plain": [
       "SVC(C=0.001, kernel='linear', probability=True)"
      ]
     },
     "execution_count": 8,
     "metadata": {},
     "output_type": "execute_result"
    }
   ],
   "source": [
    "model = SVC(C=0.001, kernel=\"linear\", probability=True)\n",
    "\n",
    "model.fit(X_train, y_train)"
   ]
  },
  {
   "cell_type": "markdown",
   "id": "09377237",
   "metadata": {
    "papermill": {
     "duration": 0.004005,
     "end_time": "2022-07-11T06:49:46.929653",
     "exception": false,
     "start_time": "2022-07-11T06:49:46.925648",
     "status": "completed"
    },
    "tags": []
   },
   "source": [
    "### Q: Can the labels returned by `predict(..)` be computed from probabilities returned by the `predict_prob`-method?"
   ]
  },
  {
   "cell_type": "code",
   "execution_count": 9,
   "id": "d4850cf5",
   "metadata": {
    "execution": {
     "iopub.execute_input": "2022-07-11T06:49:46.937286Z",
     "iopub.status.busy": "2022-07-11T06:49:46.937002Z",
     "iopub.status.idle": "2022-07-11T06:49:46.985761Z",
     "shell.execute_reply": "2022-07-11T06:49:46.985026Z"
    },
    "papermill": {
     "duration": 0.054565,
     "end_time": "2022-07-11T06:49:46.987397",
     "exception": false,
     "start_time": "2022-07-11T06:49:46.932832",
     "status": "completed"
    },
    "tags": []
   },
   "outputs": [
    {
     "name": "stdout",
     "output_type": "stream",
     "text": [
      " - Logging nr_max_prob_neq_label (int) : 2\n"
     ]
    }
   ],
   "source": [
    "import numpy as np\n",
    "\n",
    "y_train_labels = model.predict(X_train)\n",
    "y_train_probabilities = model.predict_proba(X_train)\n",
    "assert y_train_probabilities.shape == (len(y_train), 10)\n",
    "\n",
    "y_train_max_prob_labels = np.argmax(y_train_probabilities, axis=1)\n",
    "assert y_train_labels.shape == y_train_max_prob_labels.shape == y_train.shape\n",
    "\n",
    "# If the predicted labels would coincide with the labels that have\n",
    "# maximum probability, the below number would be zero\n",
    "logger.log_int(\n",
    "    \"nr_max_prob_neq_label\", int(sum(y_train_max_prob_labels != y_train_labels))\n",
    ")"
   ]
  },
  {
   "cell_type": "markdown",
   "id": "903c2902",
   "metadata": {
    "papermill": {
     "duration": 0.003307,
     "end_time": "2022-07-11T06:49:46.994225",
     "exception": false,
     "start_time": "2022-07-11T06:49:46.990918",
     "status": "completed"
    },
    "tags": []
   },
   "source": [
    "The explanation is (likely) explained in the SVC source, see\n",
    "[here](https://github.com/scikit-learn/scikit-learn/blob/main/sklearn/svm/_base.py).\n",
    "Namely, the outputs from `predict(..)` and `predict_proba(..)` may not in some\n",
    "cases be compatible since the latter is computed using cross-validation while\n",
    "the former is not. Thus, the above number need not be zero."
   ]
  },
  {
   "cell_type": "markdown",
   "id": "ab4e7d87",
   "metadata": {
    "papermill": {
     "duration": 0.003198,
     "end_time": "2022-07-11T06:49:47.000393",
     "exception": false,
     "start_time": "2022-07-11T06:49:46.997195",
     "status": "completed"
    },
    "tags": []
   },
   "source": [
    "## Persist model"
   ]
  },
  {
   "cell_type": "code",
   "execution_count": 10,
   "id": "91ce8625",
   "metadata": {
    "execution": {
     "iopub.execute_input": "2022-07-11T06:49:47.008748Z",
     "iopub.status.busy": "2022-07-11T06:49:47.008263Z",
     "iopub.status.idle": "2022-07-11T06:49:47.762956Z",
     "shell.execute_reply": "2022-07-11T06:49:47.761858Z"
    },
    "papermill": {
     "duration": 0.76073,
     "end_time": "2022-07-11T06:49:47.764888",
     "exception": false,
     "start_time": "2022-07-11T06:49:47.004158",
     "status": "completed"
    },
    "tags": []
   },
   "outputs": [],
   "source": [
    "from skl2onnx import convert_sklearn\n",
    "from skl2onnx.common.data_types import FloatTensorType\n",
    "\n",
    "#\n",
    "from common.io import datalake_root, write_onnx"
   ]
  },
  {
   "cell_type": "code",
   "execution_count": 11,
   "id": "363a0225",
   "metadata": {
    "execution": {
     "iopub.execute_input": "2022-07-11T06:49:47.775558Z",
     "iopub.status.busy": "2022-07-11T06:49:47.775062Z",
     "iopub.status.idle": "2022-07-11T06:49:47.818687Z",
     "shell.execute_reply": "2022-07-11T06:49:47.818109Z"
    },
    "papermill": {
     "duration": 0.049523,
     "end_time": "2022-07-11T06:49:47.820474",
     "exception": false,
     "start_time": "2022-07-11T06:49:47.770951",
     "status": "completed"
    },
    "tags": []
   },
   "outputs": [],
   "source": [
    "# convert sklearn model into onnx and persist to data lake\n",
    "\n",
    "model_onnx = convert_sklearn(\n",
    "    model, initial_types=[(\"float_input_8x8_image\", FloatTensorType([None, 8 * 8]))]\n",
    ")\n",
    "write_onnx(\n",
    "    datalake_root(P)\n",
    "    / \"models\"\n",
    "    / f\"nr_train_images={P['task.nr_train_images']}\"\n",
    "    / \"model.onnx\",\n",
    "    model_onnx,\n",
    ")"
   ]
  },
  {
   "cell_type": "code",
   "execution_count": null,
   "id": "3058917e",
   "metadata": {
    "papermill": {
     "duration": 0.003374,
     "end_time": "2022-07-11T06:49:47.827074",
     "exception": false,
     "start_time": "2022-07-11T06:49:47.823700",
     "status": "completed"
    },
    "tags": []
   },
   "outputs": [],
   "source": []
  }
 ],
 "metadata": {
  "jupytext": {
   "cell_metadata_filter": "tags,-all",
   "main_language": "python",
   "notebook_metadata_filter": "-all"
  },
  "language_info": {
   "codemirror_mode": {
    "name": "ipython",
    "version": 3
   },
   "file_extension": ".py",
   "mimetype": "text/x-python",
   "name": "python",
   "nbconvert_exporter": "python",
   "pygments_lexer": "ipython3",
   "version": "3.8.10"
  },
  "papermill": {
   "default_parameters": {},
   "duration": 4.749598,
   "end_time": "2022-07-11T06:49:49.311406",
   "environment_variables": {},
   "exception": null,
   "input_path": "/home/host_user/workspace/mnist-demo-pipeline/mnist-demo-pipeline/notebooks/temp-notebook-wj77_xlw.ipynb",
   "output_path": "notebooks/train-model.ipynb",
   "parameters": {
    "P": {
     "_opentelemetry_traceparent": "00-275834b9e35d620e6f49159cc81b626e-2feb747997d01a91-01",
     "pipeline.data_lake_root": "/pipeline-outputs/data-lake",
     "pipeline.github.actor": "matiasdahl",
     "pipeline.github.base_ref": "",
     "pipeline.github.event_name": "schedule",
     "pipeline.github.head_ref": "",
     "pipeline.github.job": "run-tests-pipeline-and-persist-pipeline-outputs",
     "pipeline.github.ref": "refs/heads/development",
     "pipeline.github.ref_name": "development",
     "pipeline.github.ref_type": "branch",
     "pipeline.github.repository": "pynb-dag-runner/mnist-digits-demo-pipeline",
     "pipeline.github.run_id": "2647744933",
     "pipeline.github.runner_name": "Hosted Agent",
     "pipeline.github.sha": "147a1be9916173fd4d2cd011d8d51e3411215850",
     "pipeline.github.workflow": "Run automated tests, pipeline and deploy results to static reporting site",
     "pipeline.pipeline_run_id": "d4d605c2-2813-4deb-a30e-f9ddbea85443",
     "pipeline.run_environment": "ci",
     "run.retry_nr": "0",
     "task.max_nr_retries": "1",
     "task.notebook": "notebooks/train-model.py",
     "task.nr_train_images": 600,
     "task.num_cpus": 1,
     "task.timeout_s": "None"
    }
   },
   "start_time": "2022-07-11T06:49:44.561808",
   "version": "2.3.3"
  }
 },
 "nbformat": 4,
 "nbformat_minor": 5
}