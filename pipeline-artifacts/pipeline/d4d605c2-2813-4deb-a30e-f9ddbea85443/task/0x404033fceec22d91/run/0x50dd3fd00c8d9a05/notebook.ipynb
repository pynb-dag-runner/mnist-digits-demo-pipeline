{
 "cells": [
  {
   "cell_type": "markdown",
   "id": "559fc3a7",
   "metadata": {
    "papermill": {
     "duration": 0.006426,
     "end_time": "2022-07-11T06:50:07.388034",
     "exception": false,
     "start_time": "2022-07-11T06:50:07.381608",
     "status": "completed"
    },
    "tags": []
   },
   "source": [
    "# Benchmark model\n",
    "\n",
    "The purpose of this notebook is to benchmark persisted onnx-model (trained in the\n",
    "previous step) against evaluation set."
   ]
  },
  {
   "cell_type": "markdown",
   "id": "efd66fa5",
   "metadata": {
    "papermill": {
     "duration": 0.004833,
     "end_time": "2022-07-11T06:50:07.396980",
     "exception": false,
     "start_time": "2022-07-11T06:50:07.392147",
     "status": "completed"
    },
    "tags": []
   },
   "source": [
    "### Determine run parameters"
   ]
  },
  {
   "cell_type": "code",
   "execution_count": 1,
   "id": "fc0119d4",
   "metadata": {
    "execution": {
     "iopub.execute_input": "2022-07-11T06:50:07.406952Z",
     "iopub.status.busy": "2022-07-11T06:50:07.406607Z",
     "iopub.status.idle": "2022-07-11T06:50:07.415388Z",
     "shell.execute_reply": "2022-07-11T06:50:07.413523Z"
    },
    "lines_to_next_cell": 0,
    "papermill": {
     "duration": 0.016789,
     "end_time": "2022-07-11T06:50:07.417779",
     "exception": false,
     "start_time": "2022-07-11T06:50:07.400990",
     "status": "completed"
    },
    "tags": []
   },
   "outputs": [],
   "source": [
    "# ----------------- Parameters for interactive development --------------\n",
    "P = {\n",
    "    \"pipeline.data_lake_root\": \"/pipeline-outputs/data-lake\",\n",
    "    \"task.nr_train_images\": 600,\n",
    "}"
   ]
  },
  {
   "cell_type": "code",
   "execution_count": 2,
   "id": "6aee09fb",
   "metadata": {
    "execution": {
     "iopub.execute_input": "2022-07-11T06:50:07.433102Z",
     "iopub.status.busy": "2022-07-11T06:50:07.432879Z",
     "iopub.status.idle": "2022-07-11T06:50:07.436307Z",
     "shell.execute_reply": "2022-07-11T06:50:07.435549Z"
    },
    "lines_to_next_cell": 0,
    "papermill": {
     "duration": 0.011376,
     "end_time": "2022-07-11T06:50:07.439103",
     "exception": false,
     "start_time": "2022-07-11T06:50:07.427727",
     "status": "completed"
    },
    "tags": [
     "parameters"
    ]
   },
   "outputs": [],
   "source": [
    "# - During automated runs parameters will be injected in the below cell -"
   ]
  },
  {
   "cell_type": "code",
   "execution_count": 3,
   "id": "7fa416be",
   "metadata": {
    "execution": {
     "iopub.execute_input": "2022-07-11T06:50:07.448492Z",
     "iopub.status.busy": "2022-07-11T06:50:07.448288Z",
     "iopub.status.idle": "2022-07-11T06:50:07.452455Z",
     "shell.execute_reply": "2022-07-11T06:50:07.451961Z"
    },
    "papermill": {
     "duration": 0.011593,
     "end_time": "2022-07-11T06:50:07.454802",
     "exception": false,
     "start_time": "2022-07-11T06:50:07.443209",
     "status": "completed"
    },
    "tags": [
     "injected-parameters"
    ]
   },
   "outputs": [],
   "source": [
    "# Parameters\n",
    "P = {\n",
    "    \"pipeline.data_lake_root\": \"/pipeline-outputs/data-lake\",\n",
    "    \"pipeline.run_environment\": \"ci\",\n",
    "    \"pipeline.pipeline_run_id\": \"d4d605c2-2813-4deb-a30e-f9ddbea85443\",\n",
    "    \"pipeline.github.repository\": \"pynb-dag-runner/mnist-digits-demo-pipeline\",\n",
    "    \"pipeline.github.workflow\": \"Run automated tests, pipeline and deploy results to static reporting site\",\n",
    "    \"pipeline.github.runner_name\": \"Hosted Agent\",\n",
    "    \"pipeline.github.run_id\": \"2647744933\",\n",
    "    \"pipeline.github.actor\": \"matiasdahl\",\n",
    "    \"pipeline.github.job\": \"run-tests-pipeline-and-persist-pipeline-outputs\",\n",
    "    \"pipeline.github.base_ref\": \"\",\n",
    "    \"pipeline.github.head_ref\": \"\",\n",
    "    \"pipeline.github.sha\": \"147a1be9916173fd4d2cd011d8d51e3411215850\",\n",
    "    \"pipeline.github.ref\": \"refs/heads/development\",\n",
    "    \"pipeline.github.ref_type\": \"branch\",\n",
    "    \"pipeline.github.ref_name\": \"development\",\n",
    "    \"pipeline.github.event_name\": \"schedule\",\n",
    "    \"task.nr_train_images\": 1200,\n",
    "    \"task.notebook\": \"notebooks/benchmark-model.py\",\n",
    "    \"task.max_nr_retries\": \"1\",\n",
    "    \"run.retry_nr\": \"0\",\n",
    "    \"task.timeout_s\": \"None\",\n",
    "    \"task.num_cpus\": 1,\n",
    "    \"_opentelemetry_traceparent\": \"00-275834b9e35d620e6f49159cc81b626e-46efbef6861b0025-01\",\n",
    "}\n"
   ]
  },
  {
   "cell_type": "code",
   "execution_count": 4,
   "id": "d7106ed3",
   "metadata": {
    "execution": {
     "iopub.execute_input": "2022-07-11T06:50:07.463892Z",
     "iopub.status.busy": "2022-07-11T06:50:07.463696Z",
     "iopub.status.idle": "2022-07-11T06:50:07.466602Z",
     "shell.execute_reply": "2022-07-11T06:50:07.465929Z"
    },
    "lines_to_next_cell": 0,
    "papermill": {
     "duration": 0.010069,
     "end_time": "2022-07-11T06:50:07.469229",
     "exception": false,
     "start_time": "2022-07-11T06:50:07.459160",
     "status": "completed"
    },
    "tags": []
   },
   "outputs": [],
   "source": [
    "# -----------------------------------------------------------------------"
   ]
  },
  {
   "cell_type": "markdown",
   "id": "10b1eb42",
   "metadata": {
    "papermill": {
     "duration": 0.005903,
     "end_time": "2022-07-11T06:50:07.478775",
     "exception": false,
     "start_time": "2022-07-11T06:50:07.472872",
     "status": "completed"
    },
    "tags": []
   },
   "source": [
    "---"
   ]
  },
  {
   "cell_type": "markdown",
   "id": "fe842e07",
   "metadata": {
    "lines_to_next_cell": 2,
    "papermill": {
     "duration": 0.004861,
     "end_time": "2022-07-11T06:50:07.487315",
     "exception": false,
     "start_time": "2022-07-11T06:50:07.482454",
     "status": "completed"
    },
    "tags": []
   },
   "source": [
    "### Notebook code"
   ]
  },
  {
   "cell_type": "code",
   "execution_count": 5,
   "id": "cc0fe1eb",
   "metadata": {
    "execution": {
     "iopub.execute_input": "2022-07-11T06:50:07.496005Z",
     "iopub.status.busy": "2022-07-11T06:50:07.495756Z",
     "iopub.status.idle": "2022-07-11T06:50:08.674143Z",
     "shell.execute_reply": "2022-07-11T06:50:08.673528Z"
    },
    "papermill": {
     "duration": 1.185163,
     "end_time": "2022-07-11T06:50:08.676277",
     "exception": false,
     "start_time": "2022-07-11T06:50:07.491114",
     "status": "completed"
    },
    "tags": []
   },
   "outputs": [
    {
     "name": "stderr",
     "output_type": "stream",
     "text": [
      "2022-07-11 06:50:08,507\tINFO worker.py:842 -- Connecting to existing Ray cluster at address: 172.17.0.2:6379\n"
     ]
    }
   ],
   "source": [
    "import itertools as it\n",
    "\n",
    "#\n",
    "import numpy as np\n",
    "import matplotlib.pyplot as plt\n",
    "\n",
    "#\n",
    "from pynb_dag_runner.tasks.task_opentelemetry_logging import PydarLogger\n",
    "\n",
    "#\n",
    "from common.io import datalake_root\n",
    "\n",
    "logger = PydarLogger(P)"
   ]
  },
  {
   "cell_type": "markdown",
   "id": "7a7fa1ed",
   "metadata": {
    "papermill": {
     "duration": 0.00466,
     "end_time": "2022-07-11T06:50:08.685518",
     "exception": false,
     "start_time": "2022-07-11T06:50:08.680858",
     "status": "completed"
    },
    "tags": []
   },
   "source": [
    "## Load persisted onnx-model and evaluation data"
   ]
  },
  {
   "cell_type": "code",
   "execution_count": 6,
   "id": "448bbfc0",
   "metadata": {
    "execution": {
     "iopub.execute_input": "2022-07-11T06:50:08.694777Z",
     "iopub.status.busy": "2022-07-11T06:50:08.694442Z",
     "iopub.status.idle": "2022-07-11T06:50:08.697899Z",
     "shell.execute_reply": "2022-07-11T06:50:08.697310Z"
    },
    "papermill": {
     "duration": 0.010795,
     "end_time": "2022-07-11T06:50:08.700566",
     "exception": false,
     "start_time": "2022-07-11T06:50:08.689771",
     "status": "completed"
    },
    "tags": []
   },
   "outputs": [],
   "source": [
    "from common.io import read_onnx, get_onnx_inputs, get_onnx_outputs, read_numpy"
   ]
  },
  {
   "cell_type": "code",
   "execution_count": 7,
   "id": "25cfe089",
   "metadata": {
    "execution": {
     "iopub.execute_input": "2022-07-11T06:50:08.709378Z",
     "iopub.status.busy": "2022-07-11T06:50:08.709163Z",
     "iopub.status.idle": "2022-07-11T06:50:08.719782Z",
     "shell.execute_reply": "2022-07-11T06:50:08.719287Z"
    },
    "lines_to_next_cell": 0,
    "papermill": {
     "duration": 0.017174,
     "end_time": "2022-07-11T06:50:08.721696",
     "exception": false,
     "start_time": "2022-07-11T06:50:08.704522",
     "status": "completed"
    },
    "tags": []
   },
   "outputs": [],
   "source": [
    "onnx_inference_session = read_onnx(\n",
    "    datalake_root(P)\n",
    "    / \"models\"\n",
    "    / f\"nr_train_images={P['task.nr_train_images']}\"\n",
    "    / \"model.onnx\"\n",
    ")"
   ]
  },
  {
   "cell_type": "markdown",
   "id": "0218ff66",
   "metadata": {
    "papermill": {
     "duration": 0.003954,
     "end_time": "2022-07-11T06:50:08.729709",
     "exception": false,
     "start_time": "2022-07-11T06:50:08.725755",
     "status": "completed"
    },
    "tags": []
   },
   "source": [
    "### Record structure of inputs and outputs for ONNX model\n",
    "\n",
    "(this should likely be done in training notebook)"
   ]
  },
  {
   "cell_type": "code",
   "execution_count": 8,
   "id": "c1e7a464",
   "metadata": {
    "execution": {
     "iopub.execute_input": "2022-07-11T06:50:08.739587Z",
     "iopub.status.busy": "2022-07-11T06:50:08.738966Z",
     "iopub.status.idle": "2022-07-11T06:50:08.744771Z",
     "shell.execute_reply": "2022-07-11T06:50:08.744257Z"
    },
    "papermill": {
     "duration": 0.014287,
     "end_time": "2022-07-11T06:50:08.748136",
     "exception": false,
     "start_time": "2022-07-11T06:50:08.733849",
     "status": "completed"
    },
    "tags": []
   },
   "outputs": [
    {
     "name": "stdout",
     "output_type": "stream",
     "text": [
      "{\n",
      "  \"inputs\": [\n",
      "    {\n",
      "      \"name\": \"float_input_8x8_image\",\n",
      "      \"shape\": [\n",
      "        null,\n",
      "        64\n",
      "      ],\n",
      "      \"type\": \"tensor(float)\"\n",
      "    }\n",
      "  ],\n",
      "  \"outputs\": [\n",
      "    {\n",
      "      \"name\": \"output_label\",\n",
      "      \"shape\": [\n",
      "        null\n",
      "      ],\n",
      "      \"type\": \"tensor(int64)\"\n",
      "    },\n",
      "    {\n",
      "      \"name\": \"output_probability\",\n",
      "      \"shape\": [],\n",
      "      \"type\": \"seq(map(int64,tensor(float)))\"\n",
      "    }\n",
      "  ]\n",
      "}\n"
     ]
    }
   ],
   "source": [
    "import json\n",
    "\n",
    "onnx_io = json.dumps(\n",
    "    {\n",
    "        \"inputs\": get_onnx_inputs(onnx_inference_session),\n",
    "        \"outputs\": get_onnx_outputs(onnx_inference_session),\n",
    "    },\n",
    "    indent=2,\n",
    ")\n",
    "\n",
    "\n",
    "logger.log_artefact(\"onnx_io_structure.json\", onnx_io)\n",
    "print(onnx_io)"
   ]
  },
  {
   "cell_type": "markdown",
   "id": "605078c1",
   "metadata": {
    "papermill": {
     "duration": 0.004555,
     "end_time": "2022-07-11T06:50:08.756896",
     "exception": false,
     "start_time": "2022-07-11T06:50:08.752341",
     "status": "completed"
    },
    "tags": []
   },
   "source": [
    "### Evaluate model performance on evaluation data set"
   ]
  },
  {
   "cell_type": "code",
   "execution_count": 9,
   "id": "505a0a57",
   "metadata": {
    "execution": {
     "iopub.execute_input": "2022-07-11T06:50:08.766511Z",
     "iopub.status.busy": "2022-07-11T06:50:08.766267Z",
     "iopub.status.idle": "2022-07-11T06:50:08.771570Z",
     "shell.execute_reply": "2022-07-11T06:50:08.771023Z"
    },
    "papermill": {
     "duration": 0.013009,
     "end_time": "2022-07-11T06:50:08.774121",
     "exception": false,
     "start_time": "2022-07-11T06:50:08.761112",
     "status": "completed"
    },
    "tags": []
   },
   "outputs": [],
   "source": [
    "# load evaluation data\n",
    "X_test = read_numpy(datalake_root(P) / \"test-data\" / \"digits.numpy\")\n",
    "y_test = read_numpy(datalake_root(P) / \"test-data\" / \"labels.numpy\")"
   ]
  },
  {
   "cell_type": "code",
   "execution_count": 10,
   "id": "fd665c89",
   "metadata": {
    "execution": {
     "iopub.execute_input": "2022-07-11T06:50:08.783870Z",
     "iopub.status.busy": "2022-07-11T06:50:08.783647Z",
     "iopub.status.idle": "2022-07-11T06:50:08.797673Z",
     "shell.execute_reply": "2022-07-11T06:50:08.797147Z"
    },
    "papermill": {
     "duration": 0.020759,
     "end_time": "2022-07-11T06:50:08.799352",
     "exception": false,
     "start_time": "2022-07-11T06:50:08.778593",
     "status": "completed"
    },
    "tags": []
   },
   "outputs": [],
   "source": [
    "def get_model_outputs(X, onnx_inference_session):\n",
    "    y_pred_labels, y_pred_map = onnx_inference_session.run(\n",
    "        [\"output_label\", \"output_probability\"],\n",
    "        {\"float_input_8x8_image\": X.astype(np.float32)},\n",
    "    )\n",
    "    y_pred_probs = np.array(\n",
    "        [[probabilities[digit] for digit in range(10)] for probabilities in y_pred_map]\n",
    "    )\n",
    "\n",
    "    assert y_pred_labels.shape == (X.shape[0],)\n",
    "    assert y_pred_probs.shape == (X.shape[0], 10)\n",
    "\n",
    "    return y_pred_labels, y_pred_probs\n",
    "\n",
    "\n",
    "# Note: as shown in the training notebook, the predicted labels and probabilities\n",
    "# computed below need not be compatible.\n",
    "y_pred_labels_test, y_pred_probs_test = get_model_outputs(\n",
    "    X_test, onnx_inference_session\n",
    ")"
   ]
  },
  {
   "cell_type": "markdown",
   "id": "9a28e956",
   "metadata": {
    "papermill": {
     "duration": 0.004276,
     "end_time": "2022-07-11T06:50:08.808485",
     "exception": false,
     "start_time": "2022-07-11T06:50:08.804209",
     "status": "completed"
    },
    "tags": []
   },
   "source": [
    "### Confusion matrix"
   ]
  },
  {
   "cell_type": "code",
   "execution_count": 11,
   "id": "6b5f25ea",
   "metadata": {
    "execution": {
     "iopub.execute_input": "2022-07-11T06:50:08.818090Z",
     "iopub.status.busy": "2022-07-11T06:50:08.817807Z",
     "iopub.status.idle": "2022-07-11T06:50:08.820945Z",
     "shell.execute_reply": "2022-07-11T06:50:08.820361Z"
    },
    "papermill": {
     "duration": 0.010889,
     "end_time": "2022-07-11T06:50:08.823739",
     "exception": false,
     "start_time": "2022-07-11T06:50:08.812850",
     "status": "completed"
    },
    "tags": []
   },
   "outputs": [],
   "source": [
    "# TODO"
   ]
  },
  {
   "cell_type": "markdown",
   "id": "93b85db7",
   "metadata": {
    "papermill": {
     "duration": 0.004182,
     "end_time": "2022-07-11T06:50:08.831945",
     "exception": false,
     "start_time": "2022-07-11T06:50:08.827763",
     "status": "completed"
    },
    "tags": []
   },
   "source": [
    "### Plot predicted probabilities for each classifier over all evaluation digit images"
   ]
  },
  {
   "cell_type": "code",
   "execution_count": 12,
   "id": "a247d72a",
   "metadata": {
    "execution": {
     "iopub.execute_input": "2022-07-11T06:50:08.841293Z",
     "iopub.status.busy": "2022-07-11T06:50:08.841040Z",
     "iopub.status.idle": "2022-07-11T06:50:11.838142Z",
     "shell.execute_reply": "2022-07-11T06:50:11.837458Z"
    },
    "papermill": {
     "duration": 3.004021,
     "end_time": "2022-07-11T06:50:11.840040",
     "exception": false,
     "start_time": "2022-07-11T06:50:08.836019",
     "status": "completed"
    },
    "tags": []
   },
   "outputs": [
    {
     "data": {
      "image/png": "[encoded data removed]",
      "text/plain": [
       "<Figure size 1152x432 with 10 Axes>"
      ]
     },
     "metadata": {
      "needs_background": "light"
     },
     "output_type": "display_data"
    }
   ],
   "source": [
    "def plot_per_digit_probabilities(y_pred_probs):\n",
    "    fig, axs = plt.subplots(nrows=2, ncols=5, figsize=(16, 6))\n",
    "\n",
    "    for (r, c), digit, ax in zip(\n",
    "        it.product(range(2), range(5)), range(10), axs.reshape(-1)\n",
    "    ):\n",
    "        ax.hist(y_pred_probs_test[:, digit], bins=20)\n",
    "\n",
    "        ax.set_title(f\"Digit {digit}\")\n",
    "        if r == 1 and c == 2:\n",
    "            ax.set_xlabel(\"probability\", fontsize=16)\n",
    "\n",
    "        if c == 0:\n",
    "            ax.set_ylabel(\"counts\", fontsize=16)\n",
    "        ax.set_yscale(\"log\")\n",
    "\n",
    "    fig.tight_layout()\n",
    "    fig.suptitle(\n",
    "        f\"Distributions of prediction probabilities for each digit \"\n",
    "        f\"(on evaluation data, n={y_pred_probs.shape[0]})\",\n",
    "        fontsize=20,\n",
    "    )\n",
    "    fig.tight_layout()\n",
    "    fig.show()\n",
    "\n",
    "    return fig\n",
    "\n",
    "\n",
    "fig = plot_per_digit_probabilities(y_pred_probs_test)"
   ]
  },
  {
   "cell_type": "markdown",
   "id": "ffb7500a",
   "metadata": {
    "papermill": {
     "duration": 0.004674,
     "end_time": "2022-07-11T06:50:11.849984",
     "exception": false,
     "start_time": "2022-07-11T06:50:11.845310",
     "status": "completed"
    },
    "tags": []
   },
   "source": [
    "From the above distributions we see that most digits have clear separation between\n",
    "high and lower probabilities. Morover, in each case there is roughly an order of\n",
    "magnitude more of digits with low probabilities. This is compatible with digits\n",
    "being roughly evenly distributed in the data."
   ]
  },
  {
   "cell_type": "code",
   "execution_count": 13,
   "id": "db002ebf",
   "metadata": {
    "execution": {
     "iopub.execute_input": "2022-07-11T06:50:11.860474Z",
     "iopub.status.busy": "2022-07-11T06:50:11.860205Z",
     "iopub.status.idle": "2022-07-11T06:50:12.262315Z",
     "shell.execute_reply": "2022-07-11T06:50:12.261662Z"
    },
    "papermill": {
     "duration": 0.409717,
     "end_time": "2022-07-11T06:50:12.264173",
     "exception": false,
     "start_time": "2022-07-11T06:50:11.854456",
     "status": "completed"
    },
    "tags": []
   },
   "outputs": [],
   "source": [
    "logger.log_figure(\"per-digit-probabilities.png\", fig)"
   ]
  },
  {
   "cell_type": "markdown",
   "id": "5156e70e",
   "metadata": {
    "papermill": {
     "duration": 0.004682,
     "end_time": "2022-07-11T06:50:12.274509",
     "exception": false,
     "start_time": "2022-07-11T06:50:12.269827",
     "status": "completed"
    },
    "tags": []
   },
   "source": [
    "### Plot ROC curves for individual one-vs-rest classifiers"
   ]
  },
  {
   "cell_type": "code",
   "execution_count": 14,
   "id": "c85570bd",
   "metadata": {
    "execution": {
     "iopub.execute_input": "2022-07-11T06:50:12.285612Z",
     "iopub.status.busy": "2022-07-11T06:50:12.285214Z",
     "iopub.status.idle": "2022-07-11T06:50:12.667714Z",
     "shell.execute_reply": "2022-07-11T06:50:12.666966Z"
    },
    "papermill": {
     "duration": 0.390616,
     "end_time": "2022-07-11T06:50:12.669925",
     "exception": false,
     "start_time": "2022-07-11T06:50:12.279309",
     "status": "completed"
    },
    "tags": []
   },
   "outputs": [],
   "source": [
    "from sklearn import metrics"
   ]
  },
  {
   "cell_type": "code",
   "execution_count": 15,
   "id": "51bcfb56",
   "metadata": {
    "execution": {
     "iopub.execute_input": "2022-07-11T06:50:12.682664Z",
     "iopub.status.busy": "2022-07-11T06:50:12.682371Z",
     "iopub.status.idle": "2022-07-11T06:50:13.658416Z",
     "shell.execute_reply": "2022-07-11T06:50:13.657710Z"
    },
    "papermill": {
     "duration": 0.984916,
     "end_time": "2022-07-11T06:50:13.660028",
     "exception": false,
     "start_time": "2022-07-11T06:50:12.675112",
     "status": "completed"
    },
    "tags": []
   },
   "outputs": [
    {
     "data": {
      "image/png": "[encoded data removed]",
      "text/plain": [
       "<Figure size 1152x576 with 10 Axes>"
      ]
     },
     "metadata": {
      "needs_background": "light"
     },
     "output_type": "display_data"
    }
   ],
   "source": [
    "def plot_roc_curves(y, y_pred_probs):\n",
    "    # based on example code\n",
    "    # https://scikit-learn.org/stable/auto_examples/model_selection/plot_roc.html\n",
    "\n",
    "    fig, axs = plt.subplots(nrows=2, ncols=5, figsize=(16, 8))\n",
    "\n",
    "    roc_auc_dict = {}\n",
    "\n",
    "    for (r, c), digit, ax in zip(\n",
    "        it.product(range(2), range(5)), range(10), axs.reshape(-1)\n",
    "    ):\n",
    "        fpr, tpr, _ = metrics.roc_curve(y == digit, y_pred_probs[:, digit])\n",
    "        auc = metrics.auc(fpr, tpr)\n",
    "        roc_auc_dict[str(digit)] = auc\n",
    "\n",
    "        ax.plot(fpr, tpr, label=f\"ROC AUC={round(auc, 3)}\")\n",
    "\n",
    "        ax.set_title(f\"\\nDigit {digit}\", fontsize=16)\n",
    "        if r == 1:\n",
    "            ax.set_xlabel(\"FPR\", fontsize=18)\n",
    "\n",
    "        if c == 0:\n",
    "            ax.set_ylabel(\"TPR\", fontsize=18)\n",
    "\n",
    "        ax.set_xlim([-0.05, 1.05])\n",
    "        ax.set_ylim([-0.05, 1.05])\n",
    "        ax.legend(loc=\"lower right\", frameon=False, fontsize=14)\n",
    "\n",
    "    fig.tight_layout()\n",
    "    fig.suptitle(\n",
    "        f\"ROC plots for one-vs-rest performances \"\n",
    "        f\"(on evaluation data, n={y_pred_probs_test.shape[1]}\",\n",
    "        fontsize=22,\n",
    "    )\n",
    "    fig.tight_layout()\n",
    "    fig.show()\n",
    "\n",
    "    return roc_auc_dict, fig\n",
    "\n",
    "\n",
    "roc_auc_dict, fig = plot_roc_curves(y_test, y_pred_probs_test)"
   ]
  },
  {
   "cell_type": "code",
   "execution_count": 16,
   "id": "c77a07fc",
   "metadata": {
    "execution": {
     "iopub.execute_input": "2022-07-11T06:50:13.672096Z",
     "iopub.status.busy": "2022-07-11T06:50:13.671700Z",
     "iopub.status.idle": "2022-07-11T06:50:13.880064Z",
     "shell.execute_reply": "2022-07-11T06:50:13.879373Z"
    },
    "papermill": {
     "duration": 0.216643,
     "end_time": "2022-07-11T06:50:13.881946",
     "exception": false,
     "start_time": "2022-07-11T06:50:13.665303",
     "status": "completed"
    },
    "tags": []
   },
   "outputs": [],
   "source": [
    "logger.log_figure(\"per-digit-roc-curves.png\", fig)"
   ]
  },
  {
   "cell_type": "code",
   "execution_count": 17,
   "id": "455616ea",
   "metadata": {
    "execution": {
     "iopub.execute_input": "2022-07-11T06:50:13.894822Z",
     "iopub.status.busy": "2022-07-11T06:50:13.894436Z",
     "iopub.status.idle": "2022-07-11T06:50:13.901817Z",
     "shell.execute_reply": "2022-07-11T06:50:13.901303Z"
    },
    "papermill": {
     "duration": 0.015362,
     "end_time": "2022-07-11T06:50:13.903344",
     "exception": false,
     "start_time": "2022-07-11T06:50:13.887982",
     "status": "completed"
    },
    "tags": []
   },
   "outputs": [
    {
     "data": {
      "text/plain": [
       "{'0': 1.0,\n",
       " '1': 0.999025304592315,\n",
       " '2': 1.0,\n",
       " '3': 0.9998500468603562,\n",
       " '4': 0.9997713763145861,\n",
       " '5': 0.9996626054358013,\n",
       " '6': 0.999923792104862,\n",
       " '7': 0.9998475842097242,\n",
       " '8': 0.9957440100882724,\n",
       " '9': 0.9997713763145862}"
      ]
     },
     "execution_count": 17,
     "metadata": {},
     "output_type": "execute_result"
    }
   ],
   "source": [
    "roc_auc_dict"
   ]
  },
  {
   "cell_type": "code",
   "execution_count": 18,
   "id": "53355ee1",
   "metadata": {
    "execution": {
     "iopub.execute_input": "2022-07-11T06:50:13.915826Z",
     "iopub.status.busy": "2022-07-11T06:50:13.915393Z",
     "iopub.status.idle": "2022-07-11T06:50:13.919728Z",
     "shell.execute_reply": "2022-07-11T06:50:13.919009Z"
    },
    "papermill": {
     "duration": 0.012203,
     "end_time": "2022-07-11T06:50:13.921650",
     "exception": false,
     "start_time": "2022-07-11T06:50:13.909447",
     "status": "completed"
    },
    "tags": []
   },
   "outputs": [
    {
     "name": "stdout",
     "output_type": "stream",
     "text": [
      " - Logging roc_auc_per_digit (json) : {'0': 1.0, '1': 0.999025304592315, '2': 1.0, '3': 0.9998500468603562, '4': 0.9997713763145861, '5': 0.9996626054358013, '6': 0.999923792104862, '7': 0.9998475842097242, '8': 0.9957440100882724, '9': 0.9997713763145862}\n"
     ]
    }
   ],
   "source": [
    "logger.log_value(\"roc_auc_per_digit\", roc_auc_dict)"
   ]
  },
  {
   "cell_type": "markdown",
   "id": "5b23b310",
   "metadata": {
    "papermill": {
     "duration": 0.00536,
     "end_time": "2022-07-11T06:50:13.932253",
     "exception": false,
     "start_time": "2022-07-11T06:50:13.926893",
     "status": "completed"
    },
    "tags": []
   },
   "source": [
    "### Compute and log mean ROC AUC score averaged over all digits"
   ]
  },
  {
   "cell_type": "code",
   "execution_count": 19,
   "id": "6563ba45",
   "metadata": {
    "execution": {
     "iopub.execute_input": "2022-07-11T06:50:13.944175Z",
     "iopub.status.busy": "2022-07-11T06:50:13.943767Z",
     "iopub.status.idle": "2022-07-11T06:50:13.956882Z",
     "shell.execute_reply": "2022-07-11T06:50:13.956260Z"
    },
    "papermill": {
     "duration": 0.020719,
     "end_time": "2022-07-11T06:50:13.958213",
     "exception": false,
     "start_time": "2022-07-11T06:50:13.937494",
     "status": "completed"
    },
    "tags": []
   },
   "outputs": [
    {
     "name": "stdout",
     "output_type": "stream",
     "text": [
      " - Logging roc_auc_class_mean (float) : 0.9993596095920502\n"
     ]
    }
   ],
   "source": [
    "roc_auc_macro = np.mean(list(roc_auc_dict.values()))\n",
    "\n",
    "logger.log_float(\"roc_auc_class_mean\", roc_auc_macro)\n",
    "\n",
    "# assert that the same value can be computed directly using sklearn\n",
    "assert roc_auc_macro == metrics.roc_auc_score(\n",
    "    y_test, y_pred_probs_test, average=\"macro\", multi_class=\"ovr\"\n",
    ")"
   ]
  },
  {
   "cell_type": "code",
   "execution_count": 20,
   "id": "739a80a0",
   "metadata": {
    "execution": {
     "iopub.execute_input": "2022-07-11T06:50:13.970324Z",
     "iopub.status.busy": "2022-07-11T06:50:13.969619Z",
     "iopub.status.idle": "2022-07-11T06:50:13.973600Z",
     "shell.execute_reply": "2022-07-11T06:50:13.972324Z"
    },
    "lines_to_next_cell": 0,
    "papermill": {
     "duration": 0.011845,
     "end_time": "2022-07-11T06:50:13.975255",
     "exception": false,
     "start_time": "2022-07-11T06:50:13.963410",
     "status": "completed"
    },
    "tags": []
   },
   "outputs": [],
   "source": [
    "# ---"
   ]
  },
  {
   "cell_type": "code",
   "execution_count": null,
   "id": "380d7961",
   "metadata": {
    "papermill": {
     "duration": 0.005282,
     "end_time": "2022-07-11T06:50:13.985695",
     "exception": false,
     "start_time": "2022-07-11T06:50:13.980413",
     "status": "completed"
    },
    "tags": []
   },
   "outputs": [],
   "source": []
  }
 ],
 "metadata": {
  "jupytext": {
   "cell_metadata_filter": "tags,-all",
   "main_language": "python",
   "notebook_metadata_filter": "-all"
  },
  "language_info": {
   "codemirror_mode": {
    "name": "ipython",
    "version": 3
   },
   "file_extension": ".py",
   "mimetype": "text/x-python",
   "name": "python",
   "nbconvert_exporter": "python",
   "pygments_lexer": "ipython3",
   "version": "3.8.10"
  },
  "papermill": {
   "default_parameters": {},
   "duration": 8.998054,
   "end_time": "2022-07-11T06:50:15.110870",
   "environment_variables": {},
   "exception": null,
   "input_path": "/home/host_user/workspace/mnist-demo-pipeline/mnist-demo-pipeline/notebooks/temp-notebook-tqbhd8z2.ipynb",
   "output_path": "notebooks/benchmark-model.ipynb",
   "parameters": {
    "P": {
     "_opentelemetry_traceparent": "00-275834b9e35d620e6f49159cc81b626e-46efbef6861b0025-01",
     "pipeline.data_lake_root": "/pipeline-outputs/data-lake",
     "pipeline.github.actor": "matiasdahl",
     "pipeline.github.base_ref": "",
     "pipeline.github.event_name": "schedule",
     "pipeline.github.head_ref": "",
     "pipeline.github.job": "run-tests-pipeline-and-persist-pipeline-outputs",
     "pipeline.github.ref": "refs/heads/development",
     "pipeline.github.ref_name": "development",
     "pipeline.github.ref_type": "branch",
     "pipeline.github.repository": "pynb-dag-runner/mnist-digits-demo-pipeline",
     "pipeline.github.run_id": "2647744933",
     "pipeline.github.runner_name": "Hosted Agent",
     "pipeline.github.sha": "147a1be9916173fd4d2cd011d8d51e3411215850",
     "pipeline.github.workflow": "Run automated tests, pipeline and deploy results to static reporting site",
     "pipeline.pipeline_run_id": "d4d605c2-2813-4deb-a30e-f9ddbea85443",
     "pipeline.run_environment": "ci",
     "run.retry_nr": "0",
     "task.max_nr_retries": "1",
     "task.notebook": "notebooks/benchmark-model.py",
     "task.nr_train_images": 1200,
     "task.num_cpus": 1,
     "task.timeout_s": "None"
    }
   },
   "start_time": "2022-07-11T06:50:06.112816",
   "version": "2.3.3"
  }
 },
 "nbformat": 4,
 "nbformat_minor": 5
}