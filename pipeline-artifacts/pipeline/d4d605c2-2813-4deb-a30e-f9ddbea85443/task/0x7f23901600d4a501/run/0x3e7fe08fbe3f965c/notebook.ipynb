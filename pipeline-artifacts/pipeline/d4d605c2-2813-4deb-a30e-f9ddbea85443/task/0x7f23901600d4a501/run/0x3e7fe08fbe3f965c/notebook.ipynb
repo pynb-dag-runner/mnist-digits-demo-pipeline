{
 "cells": [
  {
   "cell_type": "markdown",
   "id": "054f09dd",
   "metadata": {
    "papermill": {
     "duration": 0.019467,
     "end_time": "2022-07-11T06:50:17.483653",
     "exception": false,
     "start_time": "2022-07-11T06:50:17.464186",
     "status": "completed"
    },
    "tags": []
   },
   "source": [
    "# Summarize model performances\n",
    "\n",
    "This notebooks plots the performances (using averaged ROC AUC scores) for models\n",
    "trained with different training sets."
   ]
  },
  {
   "cell_type": "markdown",
   "id": "b5070c75",
   "metadata": {
    "papermill": {
     "duration": 0.002447,
     "end_time": "2022-07-11T06:50:17.489080",
     "exception": false,
     "start_time": "2022-07-11T06:50:17.486633",
     "status": "completed"
    },
    "tags": []
   },
   "source": [
    "### Determine run parameters"
   ]
  },
  {
   "cell_type": "code",
   "execution_count": 1,
   "id": "6ae065e1",
   "metadata": {
    "execution": {
     "iopub.execute_input": "2022-07-11T06:50:17.496225Z",
     "iopub.status.busy": "2022-07-11T06:50:17.495492Z",
     "iopub.status.idle": "2022-07-11T06:50:17.505704Z",
     "shell.execute_reply": "2022-07-11T06:50:17.505060Z"
    },
    "lines_to_next_cell": 0,
    "papermill": {
     "duration": 0.015589,
     "end_time": "2022-07-11T06:50:17.507252",
     "exception": false,
     "start_time": "2022-07-11T06:50:17.491663",
     "status": "completed"
    },
    "tags": []
   },
   "outputs": [],
   "source": [
    "# ----------------- Parameters for interactive development --------------\n",
    "P = {\n",
    "    \"pipeline.run_environment\": \"dev\",\n",
    "}"
   ]
  },
  {
   "cell_type": "code",
   "execution_count": 2,
   "id": "e17413ba",
   "metadata": {
    "execution": {
     "iopub.execute_input": "2022-07-11T06:50:17.513305Z",
     "iopub.status.busy": "2022-07-11T06:50:17.512970Z",
     "iopub.status.idle": "2022-07-11T06:50:17.515819Z",
     "shell.execute_reply": "2022-07-11T06:50:17.515320Z"
    },
    "lines_to_next_cell": 0,
    "papermill": {
     "duration": 0.007317,
     "end_time": "2022-07-11T06:50:17.517120",
     "exception": false,
     "start_time": "2022-07-11T06:50:17.509803",
     "status": "completed"
    },
    "tags": [
     "parameters"
    ]
   },
   "outputs": [],
   "source": [
    "# - During automated runs parameters will be injected in the below cell -"
   ]
  },
  {
   "cell_type": "code",
   "execution_count": 3,
   "id": "6f00f959",
   "metadata": {
    "execution": {
     "iopub.execute_input": "2022-07-11T06:50:17.523058Z",
     "iopub.status.busy": "2022-07-11T06:50:17.522645Z",
     "iopub.status.idle": "2022-07-11T06:50:17.527520Z",
     "shell.execute_reply": "2022-07-11T06:50:17.526560Z"
    },
    "papermill": {
     "duration": 0.009492,
     "end_time": "2022-07-11T06:50:17.528894",
     "exception": false,
     "start_time": "2022-07-11T06:50:17.519402",
     "status": "completed"
    },
    "tags": [
     "injected-parameters"
    ]
   },
   "outputs": [],
   "source": [
    "# Parameters\n",
    "P = {\n",
    "    \"pipeline.data_lake_root\": \"/pipeline-outputs/data-lake\",\n",
    "    \"pipeline.run_environment\": \"ci\",\n",
    "    \"pipeline.pipeline_run_id\": \"d4d605c2-2813-4deb-a30e-f9ddbea85443\",\n",
    "    \"pipeline.github.repository\": \"pynb-dag-runner/mnist-digits-demo-pipeline\",\n",
    "    \"pipeline.github.workflow\": \"Run automated tests, pipeline and deploy results to static reporting site\",\n",
    "    \"pipeline.github.runner_name\": \"Hosted Agent\",\n",
    "    \"pipeline.github.run_id\": \"2647744933\",\n",
    "    \"pipeline.github.actor\": \"matiasdahl\",\n",
    "    \"pipeline.github.job\": \"run-tests-pipeline-and-persist-pipeline-outputs\",\n",
    "    \"pipeline.github.base_ref\": \"\",\n",
    "    \"pipeline.github.head_ref\": \"\",\n",
    "    \"pipeline.github.sha\": \"147a1be9916173fd4d2cd011d8d51e3411215850\",\n",
    "    \"pipeline.github.ref\": \"refs/heads/development\",\n",
    "    \"pipeline.github.ref_type\": \"branch\",\n",
    "    \"pipeline.github.ref_name\": \"development\",\n",
    "    \"pipeline.github.event_name\": \"schedule\",\n",
    "    \"task.notebook\": \"notebooks/summary.py\",\n",
    "    \"task.max_nr_retries\": \"1\",\n",
    "    \"run.retry_nr\": \"0\",\n",
    "    \"task.timeout_s\": \"None\",\n",
    "    \"task.num_cpus\": 1,\n",
    "    \"_opentelemetry_traceparent\": \"00-275834b9e35d620e6f49159cc81b626e-f78851f3bc5642b8-01\",\n",
    "}\n"
   ]
  },
  {
   "cell_type": "code",
   "execution_count": 4,
   "id": "fc861dec",
   "metadata": {
    "execution": {
     "iopub.execute_input": "2022-07-11T06:50:17.534795Z",
     "iopub.status.busy": "2022-07-11T06:50:17.534484Z",
     "iopub.status.idle": "2022-07-11T06:50:17.537409Z",
     "shell.execute_reply": "2022-07-11T06:50:17.536785Z"
    },
    "lines_to_next_cell": 0,
    "papermill": {
     "duration": 0.007416,
     "end_time": "2022-07-11T06:50:17.538788",
     "exception": false,
     "start_time": "2022-07-11T06:50:17.531372",
     "status": "completed"
    },
    "tags": []
   },
   "outputs": [],
   "source": [
    "# -----------------------------------------------------------------------"
   ]
  },
  {
   "cell_type": "markdown",
   "id": "6fef7b7f",
   "metadata": {
    "papermill": {
     "duration": 0.002401,
     "end_time": "2022-07-11T06:50:17.543561",
     "exception": false,
     "start_time": "2022-07-11T06:50:17.541160",
     "status": "completed"
    },
    "tags": []
   },
   "source": [
    "---"
   ]
  },
  {
   "cell_type": "markdown",
   "id": "91e66e87",
   "metadata": {
    "lines_to_next_cell": 2,
    "papermill": {
     "duration": 0.002412,
     "end_time": "2022-07-11T06:50:17.548631",
     "exception": false,
     "start_time": "2022-07-11T06:50:17.546219",
     "status": "completed"
    },
    "tags": []
   },
   "source": [
    "### Notebook code"
   ]
  },
  {
   "cell_type": "code",
   "execution_count": 5,
   "id": "94328387",
   "metadata": {
    "execution": {
     "iopub.execute_input": "2022-07-11T06:50:17.554466Z",
     "iopub.status.busy": "2022-07-11T06:50:17.554130Z",
     "iopub.status.idle": "2022-07-11T06:50:18.648843Z",
     "shell.execute_reply": "2022-07-11T06:50:18.648168Z"
    },
    "papermill": {
     "duration": 1.099804,
     "end_time": "2022-07-11T06:50:18.650803",
     "exception": false,
     "start_time": "2022-07-11T06:50:17.550999",
     "status": "completed"
    },
    "tags": []
   },
   "outputs": [],
   "source": [
    "#\n",
    "import pandas as pd\n",
    "import matplotlib.pyplot as plt\n",
    "\n",
    "#\n",
    "from pynb_dag_runner.tasks.task_opentelemetry_logging import PydarLogger"
   ]
  },
  {
   "cell_type": "code",
   "execution_count": 6,
   "id": "dae06714",
   "metadata": {
    "execution": {
     "iopub.execute_input": "2022-07-11T06:50:18.658522Z",
     "iopub.status.busy": "2022-07-11T06:50:18.657871Z",
     "iopub.status.idle": "2022-07-11T06:50:18.815299Z",
     "shell.execute_reply": "2022-07-11T06:50:18.814567Z"
    },
    "papermill": {
     "duration": 0.163031,
     "end_time": "2022-07-11T06:50:18.817099",
     "exception": false,
     "start_time": "2022-07-11T06:50:18.654068",
     "status": "completed"
    },
    "tags": []
   },
   "outputs": [
    {
     "name": "stderr",
     "output_type": "stream",
     "text": [
      "2022-07-11 06:50:18,662\tINFO worker.py:842 -- Connecting to existing Ray cluster at address: 172.17.0.2:6379\n"
     ]
    }
   ],
   "source": [
    "logger = PydarLogger(P=P)"
   ]
  },
  {
   "cell_type": "code",
   "execution_count": 7,
   "id": "46760f94",
   "metadata": {
    "execution": {
     "iopub.execute_input": "2022-07-11T06:50:18.824617Z",
     "iopub.status.busy": "2022-07-11T06:50:18.824018Z",
     "iopub.status.idle": "2022-07-11T06:50:18.827632Z",
     "shell.execute_reply": "2022-07-11T06:50:18.827011Z"
    },
    "papermill": {
     "duration": 0.008953,
     "end_time": "2022-07-11T06:50:18.829155",
     "exception": false,
     "start_time": "2022-07-11T06:50:18.820202",
     "status": "completed"
    },
    "tags": []
   },
   "outputs": [],
   "source": [
    "from pynb_dag_runner.tasks.task_opentelemetry_logging import (\n",
    "    PydarLogger,\n",
    "    get_logged_values,\n",
    ")\n",
    "from pynb_dag_runner.opentelemetry_helpers import _get_all_spans, Spans"
   ]
  },
  {
   "cell_type": "code",
   "execution_count": 8,
   "id": "8dc1427e",
   "metadata": {
    "execution": {
     "iopub.execute_input": "2022-07-11T06:50:18.836871Z",
     "iopub.status.busy": "2022-07-11T06:50:18.836642Z",
     "iopub.status.idle": "2022-07-11T06:50:18.843986Z",
     "shell.execute_reply": "2022-07-11T06:50:18.843164Z"
    },
    "papermill": {
     "duration": 0.013387,
     "end_time": "2022-07-11T06:50:18.845414",
     "exception": false,
     "start_time": "2022-07-11T06:50:18.832027",
     "status": "completed"
    },
    "tags": []
   },
   "outputs": [],
   "source": [
    "def get_model_benchmarks():\n",
    "    \"\"\"\n",
    "    Query the OpenTelemetry logs for *this pipeline run* and return\n",
    "    all key-values logged from all runs of the benchmark-model.py task\n",
    "\n",
    "    For testing a json file with OpenTelemetry spans (as an array)\n",
    "    can be used as follows:\n",
    "\n",
    "    - Create output directory `mkdir /tmp/spans`\n",
    "    - Run unit tests. This will create pipeline-outputs/opentelemetry-spans.json\n",
    "    - Convert this json-array into jsonl format as follows\n",
    "\n",
    "    jq -c '.[]' /pipeline-outputs/opentelemetry-spans.json > /tmp/spans/data.txt\n",
    "\n",
    "    \"\"\"\n",
    "    spans: Spans = Spans(_get_all_spans())\n",
    "    print(f\"Found {len(spans)} spans\")\n",
    "\n",
    "    benchmark_spans = (\n",
    "        spans\n",
    "        # -\n",
    "        .filter([\"name\"], \"execute-task\")\n",
    "        # -\n",
    "        .filter([\"attributes\", \"task.notebook\"], \"notebooks/benchmark-model.py\")\n",
    "    )\n",
    "\n",
    "    result = []\n",
    "    for s in benchmark_spans:\n",
    "        result.append(\n",
    "            {\n",
    "                \"span_id\": s[\"context\"][\"span_id\"],\n",
    "                \"nr_train_images\": s[\"attributes\"][\"task.nr_train_images\"],\n",
    "                \"data\": get_logged_values(spans.bound_under(s)),\n",
    "            }\n",
    "        )\n",
    "\n",
    "    return result\n",
    "\n",
    "\n",
    "def adjust_pandas(df):\n",
    "    def column_renamer(col_name: str) -> str:\n",
    "        return (\n",
    "            col_name\n",
    "            # -- 'data.roc_auc_per_digit.4' -> 'roc_auc.4'\n",
    "            .replace(\"data.roc_auc_per_digit\", \"roc_auc\")\n",
    "            # -- 'data.roc_auc_class_mean' -> 'roc_auc_mean'\n",
    "            .replace(\"data.roc_auc_class_mean\", \"roc_auc_mean\")\n",
    "        )\n",
    "\n",
    "    return df.rename(column_renamer, axis=\"columns\").sort_values(by=\"nr_train_images\")"
   ]
  },
  {
   "cell_type": "code",
   "execution_count": 9,
   "id": "35cdeb22",
   "metadata": {
    "execution": {
     "iopub.execute_input": "2022-07-11T06:50:18.852544Z",
     "iopub.status.busy": "2022-07-11T06:50:18.851986Z",
     "iopub.status.idle": "2022-07-11T06:50:38.475516Z",
     "shell.execute_reply": "2022-07-11T06:50:38.474713Z"
    },
    "papermill": {
     "duration": 19.629231,
     "end_time": "2022-07-11T06:50:38.477432",
     "exception": false,
     "start_time": "2022-07-11T06:50:18.848201",
     "status": "completed"
    },
    "tags": []
   },
   "outputs": [
    {
     "name": "stdout",
     "output_type": "stream",
     "text": [
      "Found 423 spans\n"
     ]
    }
   ],
   "source": [
    "df_data = adjust_pandas(pd.json_normalize(get_model_benchmarks()))"
   ]
  },
  {
   "cell_type": "code",
   "execution_count": 10,
   "id": "1da0b31f",
   "metadata": {
    "execution": {
     "iopub.execute_input": "2022-07-11T06:50:38.486448Z",
     "iopub.status.busy": "2022-07-11T06:50:38.486201Z",
     "iopub.status.idle": "2022-07-11T06:50:38.511747Z",
     "shell.execute_reply": "2022-07-11T06:50:38.511162Z"
    },
    "papermill": {
     "duration": 0.031368,
     "end_time": "2022-07-11T06:50:38.513319",
     "exception": false,
     "start_time": "2022-07-11T06:50:38.481951",
     "status": "completed"
    },
    "tags": []
   },
   "outputs": [
    {
     "data": {
      "text/html": [
       "<div>\n",
       "<style scoped>\n",
       "    .dataframe tbody tr th:only-of-type {\n",
       "        vertical-align: middle;\n",
       "    }\n",
       "\n",
       "    .dataframe tbody tr th {\n",
       "        vertical-align: top;\n",
       "    }\n",
       "\n",
       "    .dataframe thead th {\n",
       "        text-align: right;\n",
       "    }\n",
       "</style>\n",
       "<table border=\"1\" class=\"dataframe\">\n",
       "  <thead>\n",
       "    <tr style=\"text-align: right;\">\n",
       "      <th></th>\n",
       "      <th>span_id</th>\n",
       "      <th>nr_train_images</th>\n",
       "      <th>roc_auc_mean</th>\n",
       "      <th>roc_auc.0</th>\n",
       "      <th>roc_auc.1</th>\n",
       "      <th>roc_auc.2</th>\n",
       "      <th>roc_auc.3</th>\n",
       "      <th>roc_auc.4</th>\n",
       "      <th>roc_auc.5</th>\n",
       "      <th>roc_auc.6</th>\n",
       "      <th>roc_auc.7</th>\n",
       "      <th>roc_auc.8</th>\n",
       "      <th>roc_auc.9</th>\n",
       "    </tr>\n",
       "  </thead>\n",
       "  <tbody>\n",
       "    <tr>\n",
       "      <th>0</th>\n",
       "      <td>0x78a95a8125e68f04</td>\n",
       "      <td>600</td>\n",
       "      <td>0.9990</td>\n",
       "      <td>1.0</td>\n",
       "      <td>0.9993</td>\n",
       "      <td>1.0</td>\n",
       "      <td>0.9998</td>\n",
       "      <td>0.9990</td>\n",
       "      <td>0.9989</td>\n",
       "      <td>0.9999</td>\n",
       "      <td>0.9998</td>\n",
       "      <td>0.9944</td>\n",
       "      <td>0.9988</td>\n",
       "    </tr>\n",
       "    <tr>\n",
       "      <th>1</th>\n",
       "      <td>0x988cf7407cbf63ab</td>\n",
       "      <td>800</td>\n",
       "      <td>0.9989</td>\n",
       "      <td>1.0</td>\n",
       "      <td>0.9987</td>\n",
       "      <td>1.0</td>\n",
       "      <td>0.9998</td>\n",
       "      <td>0.9995</td>\n",
       "      <td>0.9989</td>\n",
       "      <td>1.0000</td>\n",
       "      <td>0.9999</td>\n",
       "      <td>0.9927</td>\n",
       "      <td>0.9994</td>\n",
       "    </tr>\n",
       "    <tr>\n",
       "      <th>3</th>\n",
       "      <td>0xc5f54a58438927b1</td>\n",
       "      <td>1000</td>\n",
       "      <td>0.9992</td>\n",
       "      <td>1.0</td>\n",
       "      <td>0.9990</td>\n",
       "      <td>1.0</td>\n",
       "      <td>0.9999</td>\n",
       "      <td>0.9996</td>\n",
       "      <td>0.9994</td>\n",
       "      <td>0.9999</td>\n",
       "      <td>0.9998</td>\n",
       "      <td>0.9952</td>\n",
       "      <td>0.9996</td>\n",
       "    </tr>\n",
       "    <tr>\n",
       "      <th>2</th>\n",
       "      <td>0x404033fceec22d91</td>\n",
       "      <td>1200</td>\n",
       "      <td>0.9994</td>\n",
       "      <td>1.0</td>\n",
       "      <td>0.9990</td>\n",
       "      <td>1.0</td>\n",
       "      <td>0.9999</td>\n",
       "      <td>0.9998</td>\n",
       "      <td>0.9997</td>\n",
       "      <td>0.9999</td>\n",
       "      <td>0.9998</td>\n",
       "      <td>0.9957</td>\n",
       "      <td>0.9998</td>\n",
       "    </tr>\n",
       "  </tbody>\n",
       "</table>\n",
       "</div>"
      ],
      "text/plain": [
       "              span_id  nr_train_images  roc_auc_mean  roc_auc.0  roc_auc.1  \\\n",
       "0  0x78a95a8125e68f04              600        0.9990        1.0     0.9993   \n",
       "1  0x988cf7407cbf63ab              800        0.9989        1.0     0.9987   \n",
       "3  0xc5f54a58438927b1             1000        0.9992        1.0     0.9990   \n",
       "2  0x404033fceec22d91             1200        0.9994        1.0     0.9990   \n",
       "\n",
       "   roc_auc.2  roc_auc.3  roc_auc.4  roc_auc.5  roc_auc.6  roc_auc.7  \\\n",
       "0        1.0     0.9998     0.9990     0.9989     0.9999     0.9998   \n",
       "1        1.0     0.9998     0.9995     0.9989     1.0000     0.9999   \n",
       "3        1.0     0.9999     0.9996     0.9994     0.9999     0.9998   \n",
       "2        1.0     0.9999     0.9998     0.9997     0.9999     0.9998   \n",
       "\n",
       "   roc_auc.8  roc_auc.9  \n",
       "0     0.9944     0.9988  \n",
       "1     0.9927     0.9994  \n",
       "3     0.9952     0.9996  \n",
       "2     0.9957     0.9998  "
      ]
     },
     "execution_count": 10,
     "metadata": {},
     "output_type": "execute_result"
    }
   ],
   "source": [
    "df_data.round(4)"
   ]
  },
  {
   "cell_type": "code",
   "execution_count": 11,
   "id": "d69e95cd",
   "metadata": {
    "execution": {
     "iopub.execute_input": "2022-07-11T06:50:38.520796Z",
     "iopub.status.busy": "2022-07-11T06:50:38.520436Z",
     "iopub.status.idle": "2022-07-11T06:50:38.657982Z",
     "shell.execute_reply": "2022-07-11T06:50:38.656669Z"
    },
    "papermill": {
     "duration": 0.143212,
     "end_time": "2022-07-11T06:50:38.659882",
     "exception": false,
     "start_time": "2022-07-11T06:50:38.516670",
     "status": "completed"
    },
    "tags": []
   },
   "outputs": [
    {
     "data": {
      "image/png": "[encoded data removed]",
      "text/plain": [
       "<Figure size 1152x288 with 1 Axes>"
      ]
     },
     "metadata": {
      "needs_background": "light"
     },
     "output_type": "display_data"
    }
   ],
   "source": [
    "def plot_classifier_performance_summary(df_data):\n",
    "    fig, ax = plt.subplots(nrows=1, ncols=1, figsize=(16, 4), sharex=True)\n",
    "\n",
    "    #\n",
    "    ax.plot(\n",
    "        df_data[\"nr_train_images\"], df_data[\"roc_auc_mean\"], marker=\"o\", linestyle=\"--\"\n",
    "    )\n",
    "    ax.set_title(\n",
    "        f\"ROC AUC digit classifier performance on evaluation digits\", fontsize=17\n",
    "    )\n",
    "    ax.set_xlabel(\"Total number of digits in training set\", fontsize=14)\n",
    "    ax.set_ylabel(\"Mean ROC AUC\", fontsize=14)\n",
    "\n",
    "    fig.tight_layout()\n",
    "    fig.show()\n",
    "\n",
    "    return fig\n",
    "\n",
    "\n",
    "fig = plot_classifier_performance_summary(df_data)"
   ]
  },
  {
   "cell_type": "code",
   "execution_count": 12,
   "id": "1757b53e",
   "metadata": {
    "execution": {
     "iopub.execute_input": "2022-07-11T06:50:38.669433Z",
     "iopub.status.busy": "2022-07-11T06:50:38.668844Z",
     "iopub.status.idle": "2022-07-11T06:50:38.721861Z",
     "shell.execute_reply": "2022-07-11T06:50:38.720464Z"
    },
    "papermill": {
     "duration": 0.059465,
     "end_time": "2022-07-11T06:50:38.723611",
     "exception": false,
     "start_time": "2022-07-11T06:50:38.664146",
     "status": "completed"
    },
    "tags": []
   },
   "outputs": [],
   "source": [
    "logger.log_figure(\"auc-roc-model-performances.png\", fig)"
   ]
  },
  {
   "cell_type": "code",
   "execution_count": 13,
   "id": "6360e36f",
   "metadata": {
    "execution": {
     "iopub.execute_input": "2022-07-11T06:50:38.732296Z",
     "iopub.status.busy": "2022-07-11T06:50:38.731683Z",
     "iopub.status.idle": "2022-07-11T06:50:38.734682Z",
     "shell.execute_reply": "2022-07-11T06:50:38.734096Z"
    },
    "papermill": {
     "duration": 0.008971,
     "end_time": "2022-07-11T06:50:38.736143",
     "exception": false,
     "start_time": "2022-07-11T06:50:38.727172",
     "status": "completed"
    },
    "tags": []
   },
   "outputs": [],
   "source": [
    "###"
   ]
  },
  {
   "cell_type": "code",
   "execution_count": null,
   "id": "776abc28",
   "metadata": {
    "papermill": {
     "duration": 0.003686,
     "end_time": "2022-07-11T06:50:38.743173",
     "exception": false,
     "start_time": "2022-07-11T06:50:38.739487",
     "status": "completed"
    },
    "tags": []
   },
   "outputs": [],
   "source": []
  }
 ],
 "metadata": {
  "jupytext": {
   "cell_metadata_filter": "tags,-all",
   "main_language": "python",
   "notebook_metadata_filter": "-all"
  },
  "language_info": {
   "codemirror_mode": {
    "name": "ipython",
    "version": 3
   },
   "file_extension": ".py",
   "mimetype": "text/x-python",
   "name": "python",
   "nbconvert_exporter": "python",
   "pygments_lexer": "ipython3",
   "version": "3.8.10"
  },
  "papermill": {
   "default_parameters": {},
   "duration": 23.486107,
   "end_time": "2022-07-11T06:50:39.767146",
   "environment_variables": {},
   "exception": null,
   "input_path": "/home/host_user/workspace/mnist-demo-pipeline/mnist-demo-pipeline/notebooks/temp-notebook-zdyq6ggu.ipynb",
   "output_path": "notebooks/summary.ipynb",
   "parameters": {
    "P": {
     "_opentelemetry_traceparent": "00-275834b9e35d620e6f49159cc81b626e-f78851f3bc5642b8-01",
     "pipeline.data_lake_root": "/pipeline-outputs/data-lake",
     "pipeline.github.actor": "matiasdahl",
     "pipeline.github.base_ref": "",
     "pipeline.github.event_name": "schedule",
     "pipeline.github.head_ref": "",
     "pipeline.github.job": "run-tests-pipeline-and-persist-pipeline-outputs",
     "pipeline.github.ref": "refs/heads/development",
     "pipeline.github.ref_name": "development",
     "pipeline.github.ref_type": "branch",
     "pipeline.github.repository": "pynb-dag-runner/mnist-digits-demo-pipeline",
     "pipeline.github.run_id": "2647744933",
     "pipeline.github.runner_name": "Hosted Agent",
     "pipeline.github.sha": "147a1be9916173fd4d2cd011d8d51e3411215850",
     "pipeline.github.workflow": "Run automated tests, pipeline and deploy results to static reporting site",
     "pipeline.pipeline_run_id": "d4d605c2-2813-4deb-a30e-f9ddbea85443",
     "pipeline.run_environment": "ci",
     "run.retry_nr": "0",
     "task.max_nr_retries": "1",
     "task.notebook": "notebooks/summary.py",
     "task.num_cpus": 1,
     "task.timeout_s": "None"
    }
   },
   "start_time": "2022-07-11T06:50:16.281039",
   "version": "2.3.3"
  }
 },
 "nbformat": 4,
 "nbformat_minor": 5
}