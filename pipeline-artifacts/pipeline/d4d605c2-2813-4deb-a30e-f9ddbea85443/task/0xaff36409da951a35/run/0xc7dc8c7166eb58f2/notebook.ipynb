{
 "cells": [
  {
   "cell_type": "markdown",
   "id": "26a763db",
   "metadata": {
    "papermill": {
     "duration": 0.005368,
     "end_time": "2022-07-11T06:49:39.272016",
     "exception": false,
     "start_time": "2022-07-11T06:49:39.266648",
     "status": "completed"
    },
    "tags": []
   },
   "source": [
    "# Train model\n",
    "\n",
    "The purpose of this notebook is:\n",
    "\n",
    "- Load all training data (images and labels).\n",
    "- Limit number of train images to `task.nr_train_images` (value provided as run parameter).\n",
    "- Train a support vector machine model using sklearn.\n",
    "- Persist the trained model using the ONNX format."
   ]
  },
  {
   "cell_type": "markdown",
   "id": "e49d7b94",
   "metadata": {
    "papermill": {
     "duration": 0.009785,
     "end_time": "2022-07-11T06:49:39.285208",
     "exception": false,
     "start_time": "2022-07-11T06:49:39.275423",
     "status": "completed"
    },
    "tags": []
   },
   "source": [
    "### Determine run parameters"
   ]
  },
  {
   "cell_type": "code",
   "execution_count": 1,
   "id": "b48f25d7",
   "metadata": {
    "execution": {
     "iopub.execute_input": "2022-07-11T06:49:39.294048Z",
     "iopub.status.busy": "2022-07-11T06:49:39.293687Z",
     "iopub.status.idle": "2022-07-11T06:49:39.302149Z",
     "shell.execute_reply": "2022-07-11T06:49:39.301614Z"
    },
    "lines_to_next_cell": 0,
    "papermill": {
     "duration": 0.015726,
     "end_time": "2022-07-11T06:49:39.304074",
     "exception": false,
     "start_time": "2022-07-11T06:49:39.288348",
     "status": "completed"
    },
    "tags": []
   },
   "outputs": [],
   "source": [
    "# ----------------- Parameters for interactive development --------------\n",
    "P = {\n",
    "    \"pipeline.data_lake_root\": \"/pipeline-outputs/data-lake\",\n",
    "    \"task.nr_train_images\": 600,\n",
    "}"
   ]
  },
  {
   "cell_type": "code",
   "execution_count": 2,
   "id": "de6dcf32",
   "metadata": {
    "execution": {
     "iopub.execute_input": "2022-07-11T06:49:39.310855Z",
     "iopub.status.busy": "2022-07-11T06:49:39.310625Z",
     "iopub.status.idle": "2022-07-11T06:49:39.313612Z",
     "shell.execute_reply": "2022-07-11T06:49:39.313047Z"
    },
    "lines_to_next_cell": 0,
    "papermill": {
     "duration": 0.008914,
     "end_time": "2022-07-11T06:49:39.316098",
     "exception": false,
     "start_time": "2022-07-11T06:49:39.307184",
     "status": "completed"
    },
    "tags": [
     "parameters"
    ]
   },
   "outputs": [],
   "source": [
    "# - During automated runs parameters will be injected in the below cell -"
   ]
  },
  {
   "cell_type": "code",
   "execution_count": 3,
   "id": "f40fc4ab",
   "metadata": {
    "execution": {
     "iopub.execute_input": "2022-07-11T06:49:39.322576Z",
     "iopub.status.busy": "2022-07-11T06:49:39.322354Z",
     "iopub.status.idle": "2022-07-11T06:49:39.326591Z",
     "shell.execute_reply": "2022-07-11T06:49:39.326091Z"
    },
    "papermill": {
     "duration": 0.010614,
     "end_time": "2022-07-11T06:49:39.329391",
     "exception": false,
     "start_time": "2022-07-11T06:49:39.318777",
     "status": "completed"
    },
    "tags": [
     "injected-parameters"
    ]
   },
   "outputs": [],
   "source": [
    "# Parameters\n",
    "P = {\n",
    "    \"pipeline.data_lake_root\": \"/pipeline-outputs/data-lake\",\n",
    "    \"pipeline.run_environment\": \"ci\",\n",
    "    \"pipeline.pipeline_run_id\": \"d4d605c2-2813-4deb-a30e-f9ddbea85443\",\n",
    "    \"pipeline.github.repository\": \"pynb-dag-runner/mnist-digits-demo-pipeline\",\n",
    "    \"pipeline.github.workflow\": \"Run automated tests, pipeline and deploy results to static reporting site\",\n",
    "    \"pipeline.github.runner_name\": \"Hosted Agent\",\n",
    "    \"pipeline.github.run_id\": \"2647744933\",\n",
    "    \"pipeline.github.actor\": \"matiasdahl\",\n",
    "    \"pipeline.github.job\": \"run-tests-pipeline-and-persist-pipeline-outputs\",\n",
    "    \"pipeline.github.base_ref\": \"\",\n",
    "    \"pipeline.github.head_ref\": \"\",\n",
    "    \"pipeline.github.sha\": \"147a1be9916173fd4d2cd011d8d51e3411215850\",\n",
    "    \"pipeline.github.ref\": \"refs/heads/development\",\n",
    "    \"pipeline.github.ref_type\": \"branch\",\n",
    "    \"pipeline.github.ref_name\": \"development\",\n",
    "    \"pipeline.github.event_name\": \"schedule\",\n",
    "    \"task.nr_train_images\": 800,\n",
    "    \"task.notebook\": \"notebooks/train-model.py\",\n",
    "    \"task.max_nr_retries\": \"1\",\n",
    "    \"run.retry_nr\": \"0\",\n",
    "    \"task.timeout_s\": \"None\",\n",
    "    \"task.num_cpus\": 1,\n",
    "    \"_opentelemetry_traceparent\": \"00-275834b9e35d620e6f49159cc81b626e-19db66a86eed4032-01\",\n",
    "}\n"
   ]
  },
  {
   "cell_type": "code",
   "execution_count": 4,
   "id": "5cc0ad87",
   "metadata": {
    "execution": {
     "iopub.execute_input": "2022-07-11T06:49:39.335780Z",
     "iopub.status.busy": "2022-07-11T06:49:39.335559Z",
     "iopub.status.idle": "2022-07-11T06:49:39.338164Z",
     "shell.execute_reply": "2022-07-11T06:49:39.337658Z"
    },
    "lines_to_next_cell": 0,
    "papermill": {
     "duration": 0.008927,
     "end_time": "2022-07-11T06:49:39.341088",
     "exception": false,
     "start_time": "2022-07-11T06:49:39.332161",
     "status": "completed"
    },
    "tags": []
   },
   "outputs": [],
   "source": [
    "# -----------------------------------------------------------------------"
   ]
  },
  {
   "cell_type": "markdown",
   "id": "ebdb4159",
   "metadata": {
    "papermill": {
     "duration": 0.003124,
     "end_time": "2022-07-11T06:49:39.351775",
     "exception": false,
     "start_time": "2022-07-11T06:49:39.348651",
     "status": "completed"
    },
    "tags": []
   },
   "source": [
    "---"
   ]
  },
  {
   "cell_type": "markdown",
   "id": "64e915a3",
   "metadata": {
    "lines_to_next_cell": 2,
    "papermill": {
     "duration": 0.00262,
     "end_time": "2022-07-11T06:49:39.357076",
     "exception": false,
     "start_time": "2022-07-11T06:49:39.354456",
     "status": "completed"
    },
    "tags": []
   },
   "source": [
    "### Notebook code"
   ]
  },
  {
   "cell_type": "code",
   "execution_count": 5,
   "id": "ebef72bc",
   "metadata": {
    "execution": {
     "iopub.execute_input": "2022-07-11T06:49:39.376195Z",
     "iopub.status.busy": "2022-07-11T06:49:39.375915Z",
     "iopub.status.idle": "2022-07-11T06:49:40.072409Z",
     "shell.execute_reply": "2022-07-11T06:49:40.071709Z"
    },
    "papermill": {
     "duration": 0.702541,
     "end_time": "2022-07-11T06:49:40.074536",
     "exception": false,
     "start_time": "2022-07-11T06:49:39.371995",
     "status": "completed"
    },
    "tags": []
   },
   "outputs": [
    {
     "name": "stderr",
     "output_type": "stream",
     "text": [
      "2022-07-11 06:49:39,857\tINFO worker.py:842 -- Connecting to existing Ray cluster at address: 172.17.0.2:6379\n"
     ]
    }
   ],
   "source": [
    "from pynb_dag_runner.tasks.task_opentelemetry_logging import PydarLogger\n",
    "\n",
    "logger = PydarLogger(P)"
   ]
  },
  {
   "cell_type": "markdown",
   "id": "aca95eda",
   "metadata": {
    "papermill": {
     "duration": 0.003236,
     "end_time": "2022-07-11T06:49:40.081233",
     "exception": false,
     "start_time": "2022-07-11T06:49:40.077997",
     "status": "completed"
    },
    "tags": []
   },
   "source": [
    "## Load and limit train data"
   ]
  },
  {
   "cell_type": "code",
   "execution_count": 6,
   "id": "741421fd",
   "metadata": {
    "execution": {
     "iopub.execute_input": "2022-07-11T06:49:40.090024Z",
     "iopub.status.busy": "2022-07-11T06:49:40.089682Z",
     "iopub.status.idle": "2022-07-11T06:49:40.578199Z",
     "shell.execute_reply": "2022-07-11T06:49:40.577426Z"
    },
    "papermill": {
     "duration": 0.495965,
     "end_time": "2022-07-11T06:49:40.580016",
     "exception": false,
     "start_time": "2022-07-11T06:49:40.084051",
     "status": "completed"
    },
    "tags": []
   },
   "outputs": [],
   "source": [
    "def load_and_limit_train_data(P):\n",
    "    from common.io import datalake_root, read_numpy\n",
    "    from sklearn.model_selection import train_test_split\n",
    "\n",
    "    X_train_all = read_numpy(datalake_root(P) / \"train-data\" / \"digits.numpy\")\n",
    "    y_train_all = read_numpy(datalake_root(P) / \"train-data\" / \"labels.numpy\")\n",
    "\n",
    "    assert isinstance(P[\"task.nr_train_images\"], int)\n",
    "\n",
    "    # Note: train_test_split will fail if split is 0 or 100%.\n",
    "    assert 0 < P[\"task.nr_train_images\"] < len(y_train_all)\n",
    "\n",
    "    X_train, _, y_train, _ = train_test_split(\n",
    "        X_train_all,\n",
    "        y_train_all,\n",
    "        train_size=P[\"task.nr_train_images\"],\n",
    "        test_size=None,\n",
    "        stratify=y_train_all,\n",
    "        shuffle=True,\n",
    "        random_state=123,\n",
    "    )\n",
    "\n",
    "    assert X_train.shape == (len(y_train), 8 * 8)\n",
    "    return X_train, y_train\n",
    "\n",
    "\n",
    "X_train, y_train = load_and_limit_train_data(P)"
   ]
  },
  {
   "cell_type": "markdown",
   "id": "05f4cdd2",
   "metadata": {
    "papermill": {
     "duration": 0.002964,
     "end_time": "2022-07-11T06:49:40.587632",
     "exception": false,
     "start_time": "2022-07-11T06:49:40.584668",
     "status": "completed"
    },
    "tags": []
   },
   "source": [
    "## Train support vector classifier model\n",
    "\n",
    "Below we assume that the hyperparameter $C$ is known.\n",
    "\n",
    "However, this should ideally be found by a hyperparameter search. That could be\n",
    "done in parallel on the Ray cluster, but this needs some more work. Ie., to use\n",
    "multiple cores in the notebook, those cores should be reserved when starting the\n",
    "notebook task (TODO).\n",
    "\n",
    "- https://docs.ray.io/en/latest/tune/key-concepts.html\n",
    "\n",
    "Note: cv-scores would need to be computed here, since they depend on the train data.\n",
    "After this notebook only the onnx-model is available."
   ]
  },
  {
   "cell_type": "code",
   "execution_count": 7,
   "id": "a3499ae4",
   "metadata": {
    "execution": {
     "iopub.execute_input": "2022-07-11T06:49:40.594293Z",
     "iopub.status.busy": "2022-07-11T06:49:40.594040Z",
     "iopub.status.idle": "2022-07-11T06:49:40.683071Z",
     "shell.execute_reply": "2022-07-11T06:49:40.682400Z"
    },
    "papermill": {
     "duration": 0.094818,
     "end_time": "2022-07-11T06:49:40.685147",
     "exception": false,
     "start_time": "2022-07-11T06:49:40.590329",
     "status": "completed"
    },
    "tags": []
   },
   "outputs": [],
   "source": [
    "from sklearn.svm import SVC"
   ]
  },
  {
   "cell_type": "code",
   "execution_count": 8,
   "id": "00b87d2d",
   "metadata": {
    "execution": {
     "iopub.execute_input": "2022-07-11T06:49:40.692719Z",
     "iopub.status.busy": "2022-07-11T06:49:40.692467Z",
     "iopub.status.idle": "2022-07-11T06:49:40.894106Z",
     "shell.execute_reply": "2022-07-11T06:49:40.893271Z"
    },
    "papermill": {
     "duration": 0.207443,
     "end_time": "2022-07-11T06:49:40.895927",
     "exception": false,
     "start_time": "2022-07-11T06:49:40.688484",
     "status": "completed"
    },
    "tags": []
   },
   "outputs": [
    {
     "name": "stderr",
     "output_type": "stream",
     "text": [
      "2022-07-11 06:49:40,705\tWARNING worker.py:1245 -- (ip=172.17.0.2) The agent on node ac359bffb05b failed to be restarted 5 times. There are 3 possible problems if you see this error.\n",
      "  1. The dashboard might not display correct information on this node.\n",
      "  2. Metrics on this node won't be reported.\n",
      "  3. runtime_env APIs won't work.\n",
      "Check out the `dashboard_agent.log` to see the detailed failure messages.\n"
     ]
    },
    {
     "data": {
      "text/plain": [
       "SVC(C=0.001, kernel='linear', probability=True)"
      ]
     },
     "execution_count": 8,
     "metadata": {},
     "output_type": "execute_result"
    }
   ],
   "source": [
    "model = SVC(C=0.001, kernel=\"linear\", probability=True)\n",
    "\n",
    "model.fit(X_train, y_train)"
   ]
  },
  {
   "cell_type": "markdown",
   "id": "c0a3810f",
   "metadata": {
    "papermill": {
     "duration": 0.003096,
     "end_time": "2022-07-11T06:49:40.902518",
     "exception": false,
     "start_time": "2022-07-11T06:49:40.899422",
     "status": "completed"
    },
    "tags": []
   },
   "source": [
    "### Q: Can the labels returned by `predict(..)` be computed from probabilities returned by the `predict_prob`-method?"
   ]
  },
  {
   "cell_type": "code",
   "execution_count": 9,
   "id": "ad922c9b",
   "metadata": {
    "execution": {
     "iopub.execute_input": "2022-07-11T06:49:40.910870Z",
     "iopub.status.busy": "2022-07-11T06:49:40.910369Z",
     "iopub.status.idle": "2022-07-11T06:49:40.976783Z",
     "shell.execute_reply": "2022-07-11T06:49:40.976091Z"
    },
    "papermill": {
     "duration": 0.072785,
     "end_time": "2022-07-11T06:49:40.978761",
     "exception": false,
     "start_time": "2022-07-11T06:49:40.905976",
     "status": "completed"
    },
    "tags": []
   },
   "outputs": [
    {
     "name": "stdout",
     "output_type": "stream",
     "text": [
      " - Logging nr_max_prob_neq_label (int) : 2\n"
     ]
    }
   ],
   "source": [
    "import numpy as np\n",
    "\n",
    "y_train_labels = model.predict(X_train)\n",
    "y_train_probabilities = model.predict_proba(X_train)\n",
    "assert y_train_probabilities.shape == (len(y_train), 10)\n",
    "\n",
    "y_train_max_prob_labels = np.argmax(y_train_probabilities, axis=1)\n",
    "assert y_train_labels.shape == y_train_max_prob_labels.shape == y_train.shape\n",
    "\n",
    "# If the predicted labels would coincide with the labels that have\n",
    "# maximum probability, the below number would be zero\n",
    "logger.log_int(\n",
    "    \"nr_max_prob_neq_label\", int(sum(y_train_max_prob_labels != y_train_labels))\n",
    ")"
   ]
  },
  {
   "cell_type": "markdown",
   "id": "97a32795",
   "metadata": {
    "papermill": {
     "duration": 0.003837,
     "end_time": "2022-07-11T06:49:40.986188",
     "exception": false,
     "start_time": "2022-07-11T06:49:40.982351",
     "status": "completed"
    },
    "tags": []
   },
   "source": [
    "The explanation is (likely) explained in the SVC source, see\n",
    "[here](https://github.com/scikit-learn/scikit-learn/blob/main/sklearn/svm/_base.py).\n",
    "Namely, the outputs from `predict(..)` and `predict_proba(..)` may not in some\n",
    "cases be compatible since the latter is computed using cross-validation while\n",
    "the former is not. Thus, the above number need not be zero."
   ]
  },
  {
   "cell_type": "markdown",
   "id": "7df7520e",
   "metadata": {
    "papermill": {
     "duration": 0.003409,
     "end_time": "2022-07-11T06:49:40.993001",
     "exception": false,
     "start_time": "2022-07-11T06:49:40.989592",
     "status": "completed"
    },
    "tags": []
   },
   "source": [
    "## Persist model"
   ]
  },
  {
   "cell_type": "code",
   "execution_count": 10,
   "id": "0638584c",
   "metadata": {
    "execution": {
     "iopub.execute_input": "2022-07-11T06:49:41.001313Z",
     "iopub.status.busy": "2022-07-11T06:49:41.001007Z",
     "iopub.status.idle": "2022-07-11T06:49:42.136781Z",
     "shell.execute_reply": "2022-07-11T06:49:42.136009Z"
    },
    "papermill": {
     "duration": 1.142134,
     "end_time": "2022-07-11T06:49:42.138716",
     "exception": false,
     "start_time": "2022-07-11T06:49:40.996582",
     "status": "completed"
    },
    "tags": []
   },
   "outputs": [
    {
     "name": "stdout",
     "output_type": "stream",
     "text": [
      "\u001b[2m\u001b[1m\u001b[36m(scheduler +2s)\u001b[0m Tip: use `ray status` to view detailed cluster status. To disable these messages, set RAY_SCHEDULER_EVENTS=0.\n",
      "\u001b[2m\u001b[1m\u001b[33m(scheduler +2s)\u001b[0m Warning: The following resource request cannot be scheduled right now: {'CPU': 1.0}. This is likely due to all cluster resources being claimed by actors. Consider creating fewer actors or adding more nodes to this Ray cluster.\n"
     ]
    }
   ],
   "source": [
    "from skl2onnx import convert_sklearn\n",
    "from skl2onnx.common.data_types import FloatTensorType\n",
    "\n",
    "#\n",
    "from common.io import datalake_root, write_onnx"
   ]
  },
  {
   "cell_type": "code",
   "execution_count": 11,
   "id": "aab8c8fd",
   "metadata": {
    "execution": {
     "iopub.execute_input": "2022-07-11T06:49:42.151681Z",
     "iopub.status.busy": "2022-07-11T06:49:42.150625Z",
     "iopub.status.idle": "2022-07-11T06:49:42.199818Z",
     "shell.execute_reply": "2022-07-11T06:49:42.199209Z"
    },
    "papermill": {
     "duration": 0.059508,
     "end_time": "2022-07-11T06:49:42.201693",
     "exception": false,
     "start_time": "2022-07-11T06:49:42.142185",
     "status": "completed"
    },
    "tags": []
   },
   "outputs": [],
   "source": [
    "# convert sklearn model into onnx and persist to data lake\n",
    "\n",
    "model_onnx = convert_sklearn(\n",
    "    model, initial_types=[(\"float_input_8x8_image\", FloatTensorType([None, 8 * 8]))]\n",
    ")\n",
    "write_onnx(\n",
    "    datalake_root(P)\n",
    "    / \"models\"\n",
    "    / f\"nr_train_images={P['task.nr_train_images']}\"\n",
    "    / \"model.onnx\",\n",
    "    model_onnx,\n",
    ")"
   ]
  },
  {
   "cell_type": "code",
   "execution_count": null,
   "id": "4e98476b",
   "metadata": {
    "papermill": {
     "duration": 0.004112,
     "end_time": "2022-07-11T06:49:42.209129",
     "exception": false,
     "start_time": "2022-07-11T06:49:42.205017",
     "status": "completed"
    },
    "tags": []
   },
   "outputs": [],
   "source": []
  }
 ],
 "metadata": {
  "jupytext": {
   "cell_metadata_filter": "tags,-all",
   "main_language": "python",
   "notebook_metadata_filter": "-all"
  },
  "language_info": {
   "codemirror_mode": {
    "name": "ipython",
    "version": 3
   },
   "file_extension": ".py",
   "mimetype": "text/x-python",
   "name": "python",
   "nbconvert_exporter": "python",
   "pygments_lexer": "ipython3",
   "version": "3.8.10"
  },
  "papermill": {
   "default_parameters": {},
   "duration": 5.470661,
   "end_time": "2022-07-11T06:49:43.332276",
   "environment_variables": {},
   "exception": null,
   "input_path": "/home/host_user/workspace/mnist-demo-pipeline/mnist-demo-pipeline/notebooks/temp-notebook-5kk7zucv.ipynb",
   "output_path": "notebooks/train-model.ipynb",
   "parameters": {
    "P": {
     "_opentelemetry_traceparent": "00-275834b9e35d620e6f49159cc81b626e-19db66a86eed4032-01",
     "pipeline.data_lake_root": "/pipeline-outputs/data-lake",
     "pipeline.github.actor": "matiasdahl",
     "pipeline.github.base_ref": "",
     "pipeline.github.event_name": "schedule",
     "pipeline.github.head_ref": "",
     "pipeline.github.job": "run-tests-pipeline-and-persist-pipeline-outputs",
     "pipeline.github.ref": "refs/heads/development",
     "pipeline.github.ref_name": "development",
     "pipeline.github.ref_type": "branch",
     "pipeline.github.repository": "pynb-dag-runner/mnist-digits-demo-pipeline",
     "pipeline.github.run_id": "2647744933",
     "pipeline.github.runner_name": "Hosted Agent",
     "pipeline.github.sha": "147a1be9916173fd4d2cd011d8d51e3411215850",
     "pipeline.github.workflow": "Run automated tests, pipeline and deploy results to static reporting site",
     "pipeline.pipeline_run_id": "d4d605c2-2813-4deb-a30e-f9ddbea85443",
     "pipeline.run_environment": "ci",
     "run.retry_nr": "0",
     "task.max_nr_retries": "1",
     "task.notebook": "notebooks/train-model.py",
     "task.nr_train_images": 800,
     "task.num_cpus": 1,
     "task.timeout_s": "None"
    }
   },
   "start_time": "2022-07-11T06:49:37.861615",
   "version": "2.3.3"
  }
 },
 "nbformat": 4,
 "nbformat_minor": 5
}