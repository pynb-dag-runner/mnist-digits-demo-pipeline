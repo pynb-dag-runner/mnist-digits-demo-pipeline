{
 "cells": [
  {
   "cell_type": "markdown",
   "id": "b67ee232",
   "metadata": {
    "papermill": {
     "duration": 0.00455,
     "end_time": "2022-07-11T06:49:49.936723",
     "exception": false,
     "start_time": "2022-07-11T06:49:49.932173",
     "status": "completed"
    },
    "tags": []
   },
   "source": [
    "# Train model\n",
    "\n",
    "The purpose of this notebook is:\n",
    "\n",
    "- Load all training data (images and labels).\n",
    "- Limit number of train images to `task.nr_train_images` (value provided as run parameter).\n",
    "- Train a support vector machine model using sklearn.\n",
    "- Persist the trained model using the ONNX format."
   ]
  },
  {
   "cell_type": "markdown",
   "id": "20e801f0",
   "metadata": {
    "papermill": {
     "duration": 0.002522,
     "end_time": "2022-07-11T06:49:49.942368",
     "exception": false,
     "start_time": "2022-07-11T06:49:49.939846",
     "status": "completed"
    },
    "tags": []
   },
   "source": [
    "### Determine run parameters"
   ]
  },
  {
   "cell_type": "code",
   "execution_count": 1,
   "id": "8bf5e69e",
   "metadata": {
    "execution": {
     "iopub.execute_input": "2022-07-11T06:49:49.952932Z",
     "iopub.status.busy": "2022-07-11T06:49:49.952018Z",
     "iopub.status.idle": "2022-07-11T06:49:49.967030Z",
     "shell.execute_reply": "2022-07-11T06:49:49.965502Z"
    },
    "lines_to_next_cell": 0,
    "papermill": {
     "duration": 0.023259,
     "end_time": "2022-07-11T06:49:49.968568",
     "exception": false,
     "start_time": "2022-07-11T06:49:49.945309",
     "status": "completed"
    },
    "tags": []
   },
   "outputs": [],
   "source": [
    "# ----------------- Parameters for interactive development --------------\n",
    "P = {\n",
    "    \"pipeline.data_lake_root\": \"/pipeline-outputs/data-lake\",\n",
    "    \"task.nr_train_images\": 600,\n",
    "}"
   ]
  },
  {
   "cell_type": "code",
   "execution_count": 2,
   "id": "9326feaa",
   "metadata": {
    "execution": {
     "iopub.execute_input": "2022-07-11T06:49:49.975425Z",
     "iopub.status.busy": "2022-07-11T06:49:49.974641Z",
     "iopub.status.idle": "2022-07-11T06:49:49.977819Z",
     "shell.execute_reply": "2022-07-11T06:49:49.977339Z"
    },
    "lines_to_next_cell": 0,
    "papermill": {
     "duration": 0.008355,
     "end_time": "2022-07-11T06:49:49.979545",
     "exception": false,
     "start_time": "2022-07-11T06:49:49.971190",
     "status": "completed"
    },
    "tags": [
     "parameters"
    ]
   },
   "outputs": [],
   "source": [
    "# - During automated runs parameters will be injected in the below cell -"
   ]
  },
  {
   "cell_type": "code",
   "execution_count": 3,
   "id": "2fa7dd69",
   "metadata": {
    "execution": {
     "iopub.execute_input": "2022-07-11T06:49:49.986456Z",
     "iopub.status.busy": "2022-07-11T06:49:49.986254Z",
     "iopub.status.idle": "2022-07-11T06:49:49.990357Z",
     "shell.execute_reply": "2022-07-11T06:49:49.989865Z"
    },
    "papermill": {
     "duration": 0.010353,
     "end_time": "2022-07-11T06:49:49.992787",
     "exception": false,
     "start_time": "2022-07-11T06:49:49.982434",
     "status": "completed"
    },
    "tags": [
     "injected-parameters"
    ]
   },
   "outputs": [],
   "source": [
    "# Parameters\n",
    "P = {\n",
    "    \"pipeline.data_lake_root\": \"/pipeline-outputs/data-lake\",\n",
    "    \"pipeline.run_environment\": \"ci\",\n",
    "    \"pipeline.pipeline_run_id\": \"d4d605c2-2813-4deb-a30e-f9ddbea85443\",\n",
    "    \"pipeline.github.repository\": \"pynb-dag-runner/mnist-digits-demo-pipeline\",\n",
    "    \"pipeline.github.workflow\": \"Run automated tests, pipeline and deploy results to static reporting site\",\n",
    "    \"pipeline.github.runner_name\": \"Hosted Agent\",\n",
    "    \"pipeline.github.run_id\": \"2647744933\",\n",
    "    \"pipeline.github.actor\": \"matiasdahl\",\n",
    "    \"pipeline.github.job\": \"run-tests-pipeline-and-persist-pipeline-outputs\",\n",
    "    \"pipeline.github.base_ref\": \"\",\n",
    "    \"pipeline.github.head_ref\": \"\",\n",
    "    \"pipeline.github.sha\": \"147a1be9916173fd4d2cd011d8d51e3411215850\",\n",
    "    \"pipeline.github.ref\": \"refs/heads/development\",\n",
    "    \"pipeline.github.ref_type\": \"branch\",\n",
    "    \"pipeline.github.ref_name\": \"development\",\n",
    "    \"pipeline.github.event_name\": \"schedule\",\n",
    "    \"task.nr_train_images\": 1200,\n",
    "    \"task.notebook\": \"notebooks/train-model.py\",\n",
    "    \"task.max_nr_retries\": \"1\",\n",
    "    \"run.retry_nr\": \"0\",\n",
    "    \"task.timeout_s\": \"None\",\n",
    "    \"task.num_cpus\": 1,\n",
    "    \"_opentelemetry_traceparent\": \"00-275834b9e35d620e6f49159cc81b626e-fc1f4c224b082255-01\",\n",
    "}\n"
   ]
  },
  {
   "cell_type": "code",
   "execution_count": 4,
   "id": "e2ee30bb",
   "metadata": {
    "execution": {
     "iopub.execute_input": "2022-07-11T06:49:49.999092Z",
     "iopub.status.busy": "2022-07-11T06:49:49.998861Z",
     "iopub.status.idle": "2022-07-11T06:49:50.001545Z",
     "shell.execute_reply": "2022-07-11T06:49:50.001011Z"
    },
    "lines_to_next_cell": 0,
    "papermill": {
     "duration": 0.008666,
     "end_time": "2022-07-11T06:49:50.004196",
     "exception": false,
     "start_time": "2022-07-11T06:49:49.995530",
     "status": "completed"
    },
    "tags": []
   },
   "outputs": [],
   "source": [
    "# -----------------------------------------------------------------------"
   ]
  },
  {
   "cell_type": "markdown",
   "id": "0f362f30",
   "metadata": {
    "papermill": {
     "duration": 0.002606,
     "end_time": "2022-07-11T06:49:50.009881",
     "exception": false,
     "start_time": "2022-07-11T06:49:50.007275",
     "status": "completed"
    },
    "tags": []
   },
   "source": [
    "---"
   ]
  },
  {
   "cell_type": "markdown",
   "id": "0fe53d77",
   "metadata": {
    "lines_to_next_cell": 2,
    "papermill": {
     "duration": 0.003185,
     "end_time": "2022-07-11T06:49:50.015642",
     "exception": false,
     "start_time": "2022-07-11T06:49:50.012457",
     "status": "completed"
    },
    "tags": []
   },
   "source": [
    "### Notebook code"
   ]
  },
  {
   "cell_type": "code",
   "execution_count": 5,
   "id": "69032c41",
   "metadata": {
    "execution": {
     "iopub.execute_input": "2022-07-11T06:49:50.022422Z",
     "iopub.status.busy": "2022-07-11T06:49:50.022186Z",
     "iopub.status.idle": "2022-07-11T06:49:50.507229Z",
     "shell.execute_reply": "2022-07-11T06:49:50.506563Z"
    },
    "papermill": {
     "duration": 0.490483,
     "end_time": "2022-07-11T06:49:50.509198",
     "exception": false,
     "start_time": "2022-07-11T06:49:50.018715",
     "status": "completed"
    },
    "tags": []
   },
   "outputs": [
    {
     "name": "stderr",
     "output_type": "stream",
     "text": [
      "2022-07-11 06:49:50,340\tINFO worker.py:842 -- Connecting to existing Ray cluster at address: 172.17.0.2:6379\n"
     ]
    }
   ],
   "source": [
    "from pynb_dag_runner.tasks.task_opentelemetry_logging import PydarLogger\n",
    "\n",
    "logger = PydarLogger(P)"
   ]
  },
  {
   "cell_type": "markdown",
   "id": "dcfead33",
   "metadata": {
    "papermill": {
     "duration": 0.007032,
     "end_time": "2022-07-11T06:49:50.519346",
     "exception": false,
     "start_time": "2022-07-11T06:49:50.512314",
     "status": "completed"
    },
    "tags": []
   },
   "source": [
    "## Load and limit train data"
   ]
  },
  {
   "cell_type": "code",
   "execution_count": 6,
   "id": "8bbb963e",
   "metadata": {
    "execution": {
     "iopub.execute_input": "2022-07-11T06:49:50.529459Z",
     "iopub.status.busy": "2022-07-11T06:49:50.528699Z",
     "iopub.status.idle": "2022-07-11T06:49:50.963581Z",
     "shell.execute_reply": "2022-07-11T06:49:50.962205Z"
    },
    "papermill": {
     "duration": 0.44134,
     "end_time": "2022-07-11T06:49:50.965686",
     "exception": false,
     "start_time": "2022-07-11T06:49:50.524346",
     "status": "completed"
    },
    "tags": []
   },
   "outputs": [],
   "source": [
    "def load_and_limit_train_data(P):\n",
    "    from common.io import datalake_root, read_numpy\n",
    "    from sklearn.model_selection import train_test_split\n",
    "\n",
    "    X_train_all = read_numpy(datalake_root(P) / \"train-data\" / \"digits.numpy\")\n",
    "    y_train_all = read_numpy(datalake_root(P) / \"train-data\" / \"labels.numpy\")\n",
    "\n",
    "    assert isinstance(P[\"task.nr_train_images\"], int)\n",
    "\n",
    "    # Note: train_test_split will fail if split is 0 or 100%.\n",
    "    assert 0 < P[\"task.nr_train_images\"] < len(y_train_all)\n",
    "\n",
    "    X_train, _, y_train, _ = train_test_split(\n",
    "        X_train_all,\n",
    "        y_train_all,\n",
    "        train_size=P[\"task.nr_train_images\"],\n",
    "        test_size=None,\n",
    "        stratify=y_train_all,\n",
    "        shuffle=True,\n",
    "        random_state=123,\n",
    "    )\n",
    "\n",
    "    assert X_train.shape == (len(y_train), 8 * 8)\n",
    "    return X_train, y_train\n",
    "\n",
    "\n",
    "X_train, y_train = load_and_limit_train_data(P)"
   ]
  },
  {
   "cell_type": "markdown",
   "id": "4fb3c345",
   "metadata": {
    "papermill": {
     "duration": 0.003348,
     "end_time": "2022-07-11T06:49:50.972418",
     "exception": false,
     "start_time": "2022-07-11T06:49:50.969070",
     "status": "completed"
    },
    "tags": []
   },
   "source": [
    "## Train support vector classifier model\n",
    "\n",
    "Below we assume that the hyperparameter $C$ is known.\n",
    "\n",
    "However, this should ideally be found by a hyperparameter search. That could be\n",
    "done in parallel on the Ray cluster, but this needs some more work. Ie., to use\n",
    "multiple cores in the notebook, those cores should be reserved when starting the\n",
    "notebook task (TODO).\n",
    "\n",
    "- https://docs.ray.io/en/latest/tune/key-concepts.html\n",
    "\n",
    "Note: cv-scores would need to be computed here, since they depend on the train data.\n",
    "After this notebook only the onnx-model is available."
   ]
  },
  {
   "cell_type": "code",
   "execution_count": 7,
   "id": "b3271cd0",
   "metadata": {
    "execution": {
     "iopub.execute_input": "2022-07-11T06:49:50.981317Z",
     "iopub.status.busy": "2022-07-11T06:49:50.980820Z",
     "iopub.status.idle": "2022-07-11T06:49:51.008608Z",
     "shell.execute_reply": "2022-07-11T06:49:51.007902Z"
    },
    "papermill": {
     "duration": 0.033192,
     "end_time": "2022-07-11T06:49:51.010155",
     "exception": false,
     "start_time": "2022-07-11T06:49:50.976963",
     "status": "completed"
    },
    "tags": []
   },
   "outputs": [],
   "source": [
    "from sklearn.svm import SVC"
   ]
  },
  {
   "cell_type": "code",
   "execution_count": 8,
   "id": "d9c4fcd9",
   "metadata": {
    "execution": {
     "iopub.execute_input": "2022-07-11T06:49:51.018683Z",
     "iopub.status.busy": "2022-07-11T06:49:51.018076Z",
     "iopub.status.idle": "2022-07-11T06:49:51.220420Z",
     "shell.execute_reply": "2022-07-11T06:49:51.219708Z"
    },
    "papermill": {
     "duration": 0.209314,
     "end_time": "2022-07-11T06:49:51.222466",
     "exception": false,
     "start_time": "2022-07-11T06:49:51.013152",
     "status": "completed"
    },
    "tags": []
   },
   "outputs": [
    {
     "data": {
      "text/plain": [
       "SVC(C=0.001, kernel='linear', probability=True)"
      ]
     },
     "execution_count": 8,
     "metadata": {},
     "output_type": "execute_result"
    }
   ],
   "source": [
    "model = SVC(C=0.001, kernel=\"linear\", probability=True)\n",
    "\n",
    "model.fit(X_train, y_train)"
   ]
  },
  {
   "cell_type": "markdown",
   "id": "34f08c08",
   "metadata": {
    "papermill": {
     "duration": 0.003395,
     "end_time": "2022-07-11T06:49:51.229421",
     "exception": false,
     "start_time": "2022-07-11T06:49:51.226026",
     "status": "completed"
    },
    "tags": []
   },
   "source": [
    "### Q: Can the labels returned by `predict(..)` be computed from probabilities returned by the `predict_prob`-method?"
   ]
  },
  {
   "cell_type": "code",
   "execution_count": 9,
   "id": "d05cbe7c",
   "metadata": {
    "execution": {
     "iopub.execute_input": "2022-07-11T06:49:51.236847Z",
     "iopub.status.busy": "2022-07-11T06:49:51.236438Z",
     "iopub.status.idle": "2022-07-11T06:49:51.338260Z",
     "shell.execute_reply": "2022-07-11T06:49:51.337707Z"
    },
    "papermill": {
     "duration": 0.107751,
     "end_time": "2022-07-11T06:49:51.340266",
     "exception": false,
     "start_time": "2022-07-11T06:49:51.232515",
     "status": "completed"
    },
    "tags": []
   },
   "outputs": [
    {
     "name": "stdout",
     "output_type": "stream",
     "text": [
      " - Logging nr_max_prob_neq_label (int) : 3\n"
     ]
    }
   ],
   "source": [
    "import numpy as np\n",
    "\n",
    "y_train_labels = model.predict(X_train)\n",
    "y_train_probabilities = model.predict_proba(X_train)\n",
    "assert y_train_probabilities.shape == (len(y_train), 10)\n",
    "\n",
    "y_train_max_prob_labels = np.argmax(y_train_probabilities, axis=1)\n",
    "assert y_train_labels.shape == y_train_max_prob_labels.shape == y_train.shape\n",
    "\n",
    "# If the predicted labels would coincide with the labels that have\n",
    "# maximum probability, the below number would be zero\n",
    "logger.log_int(\n",
    "    \"nr_max_prob_neq_label\", int(sum(y_train_max_prob_labels != y_train_labels))\n",
    ")"
   ]
  },
  {
   "cell_type": "markdown",
   "id": "3382bc65",
   "metadata": {
    "papermill": {
     "duration": 0.004294,
     "end_time": "2022-07-11T06:49:51.351560",
     "exception": false,
     "start_time": "2022-07-11T06:49:51.347266",
     "status": "completed"
    },
    "tags": []
   },
   "source": [
    "The explanation is (likely) explained in the SVC source, see\n",
    "[here](https://github.com/scikit-learn/scikit-learn/blob/main/sklearn/svm/_base.py).\n",
    "Namely, the outputs from `predict(..)` and `predict_proba(..)` may not in some\n",
    "cases be compatible since the latter is computed using cross-validation while\n",
    "the former is not. Thus, the above number need not be zero."
   ]
  },
  {
   "cell_type": "markdown",
   "id": "262f8a4f",
   "metadata": {
    "papermill": {
     "duration": 0.003228,
     "end_time": "2022-07-11T06:49:51.358127",
     "exception": false,
     "start_time": "2022-07-11T06:49:51.354899",
     "status": "completed"
    },
    "tags": []
   },
   "source": [
    "## Persist model"
   ]
  },
  {
   "cell_type": "code",
   "execution_count": 10,
   "id": "50de6345",
   "metadata": {
    "execution": {
     "iopub.execute_input": "2022-07-11T06:49:51.366922Z",
     "iopub.status.busy": "2022-07-11T06:49:51.366406Z",
     "iopub.status.idle": "2022-07-11T06:49:52.139138Z",
     "shell.execute_reply": "2022-07-11T06:49:52.138439Z"
    },
    "papermill": {
     "duration": 0.779159,
     "end_time": "2022-07-11T06:49:52.140903",
     "exception": false,
     "start_time": "2022-07-11T06:49:51.361744",
     "status": "completed"
    },
    "tags": []
   },
   "outputs": [],
   "source": [
    "from skl2onnx import convert_sklearn\n",
    "from skl2onnx.common.data_types import FloatTensorType\n",
    "\n",
    "#\n",
    "from common.io import datalake_root, write_onnx"
   ]
  },
  {
   "cell_type": "code",
   "execution_count": 11,
   "id": "1a357f93",
   "metadata": {
    "execution": {
     "iopub.execute_input": "2022-07-11T06:49:52.149941Z",
     "iopub.status.busy": "2022-07-11T06:49:52.149569Z",
     "iopub.status.idle": "2022-07-11T06:49:52.207678Z",
     "shell.execute_reply": "2022-07-11T06:49:52.206912Z"
    },
    "papermill": {
     "duration": 0.065243,
     "end_time": "2022-07-11T06:49:52.209779",
     "exception": false,
     "start_time": "2022-07-11T06:49:52.144536",
     "status": "completed"
    },
    "tags": []
   },
   "outputs": [],
   "source": [
    "# convert sklearn model into onnx and persist to data lake\n",
    "\n",
    "model_onnx = convert_sklearn(\n",
    "    model, initial_types=[(\"float_input_8x8_image\", FloatTensorType([None, 8 * 8]))]\n",
    ")\n",
    "write_onnx(\n",
    "    datalake_root(P)\n",
    "    / \"models\"\n",
    "    / f\"nr_train_images={P['task.nr_train_images']}\"\n",
    "    / \"model.onnx\",\n",
    "    model_onnx,\n",
    ")"
   ]
  },
  {
   "cell_type": "code",
   "execution_count": null,
   "id": "4847912e",
   "metadata": {
    "papermill": {
     "duration": 0.003385,
     "end_time": "2022-07-11T06:49:52.216603",
     "exception": false,
     "start_time": "2022-07-11T06:49:52.213218",
     "status": "completed"
    },
    "tags": []
   },
   "outputs": [],
   "source": []
  }
 ],
 "metadata": {
  "jupytext": {
   "cell_metadata_filter": "tags,-all",
   "main_language": "python",
   "notebook_metadata_filter": "-all"
  },
  "language_info": {
   "codemirror_mode": {
    "name": "ipython",
    "version": 3
   },
   "file_extension": ".py",
   "mimetype": "text/x-python",
   "name": "python",
   "nbconvert_exporter": "python",
   "pygments_lexer": "ipython3",
   "version": "3.8.10"
  },
  "papermill": {
   "default_parameters": {},
   "duration": 4.928287,
   "end_time": "2022-07-11T06:49:53.247469",
   "environment_variables": {},
   "exception": null,
   "input_path": "/home/host_user/workspace/mnist-demo-pipeline/mnist-demo-pipeline/notebooks/temp-notebook-u2hb0rdc.ipynb",
   "output_path": "notebooks/train-model.ipynb",
   "parameters": {
    "P": {
     "_opentelemetry_traceparent": "00-275834b9e35d620e6f49159cc81b626e-fc1f4c224b082255-01",
     "pipeline.data_lake_root": "/pipeline-outputs/data-lake",
     "pipeline.github.actor": "matiasdahl",
     "pipeline.github.base_ref": "",
     "pipeline.github.event_name": "schedule",
     "pipeline.github.head_ref": "",
     "pipeline.github.job": "run-tests-pipeline-and-persist-pipeline-outputs",
     "pipeline.github.ref": "refs/heads/development",
     "pipeline.github.ref_name": "development",
     "pipeline.github.ref_type": "branch",
     "pipeline.github.repository": "pynb-dag-runner/mnist-digits-demo-pipeline",
     "pipeline.github.run_id": "2647744933",
     "pipeline.github.runner_name": "Hosted Agent",
     "pipeline.github.sha": "147a1be9916173fd4d2cd011d8d51e3411215850",
     "pipeline.github.workflow": "Run automated tests, pipeline and deploy results to static reporting site",
     "pipeline.pipeline_run_id": "d4d605c2-2813-4deb-a30e-f9ddbea85443",
     "pipeline.run_environment": "ci",
     "run.retry_nr": "0",
     "task.max_nr_retries": "1",
     "task.notebook": "notebooks/train-model.py",
     "task.nr_train_images": 1200,
     "task.num_cpus": 1,
     "task.timeout_s": "None"
    }
   },
   "start_time": "2022-07-11T06:49:48.319182",
   "version": "2.3.3"
  }
 },
 "nbformat": 4,
 "nbformat_minor": 5
}