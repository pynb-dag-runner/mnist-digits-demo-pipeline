{
 "cells": [
  {
   "cell_type": "markdown",
   "id": "864743a7",
   "metadata": {
    "papermill": {
     "duration": 0.006351,
     "end_time": "2022-07-11T06:50:03.202283",
     "exception": false,
     "start_time": "2022-07-11T06:50:03.195932",
     "status": "completed"
    },
    "tags": []
   },
   "source": [
    "# Benchmark model\n",
    "\n",
    "The purpose of this notebook is to benchmark persisted onnx-model (trained in the\n",
    "previous step) against evaluation set."
   ]
  },
  {
   "cell_type": "markdown",
   "id": "28a06c32",
   "metadata": {
    "papermill": {
     "duration": 0.006118,
     "end_time": "2022-07-11T06:50:03.213769",
     "exception": false,
     "start_time": "2022-07-11T06:50:03.207651",
     "status": "completed"
    },
    "tags": []
   },
   "source": [
    "### Determine run parameters"
   ]
  },
  {
   "cell_type": "code",
   "execution_count": 1,
   "id": "786c3623",
   "metadata": {
    "execution": {
     "iopub.execute_input": "2022-07-11T06:50:03.225089Z",
     "iopub.status.busy": "2022-07-11T06:50:03.224696Z",
     "iopub.status.idle": "2022-07-11T06:50:03.233719Z",
     "shell.execute_reply": "2022-07-11T06:50:03.233133Z"
    },
    "lines_to_next_cell": 0,
    "papermill": {
     "duration": 0.019896,
     "end_time": "2022-07-11T06:50:03.237312",
     "exception": false,
     "start_time": "2022-07-11T06:50:03.217416",
     "status": "completed"
    },
    "tags": []
   },
   "outputs": [],
   "source": [
    "# ----------------- Parameters for interactive development --------------\n",
    "P = {\n",
    "    \"pipeline.data_lake_root\": \"/pipeline-outputs/data-lake\",\n",
    "    \"task.nr_train_images\": 600,\n",
    "}"
   ]
  },
  {
   "cell_type": "code",
   "execution_count": 2,
   "id": "8d7bba29",
   "metadata": {
    "execution": {
     "iopub.execute_input": "2022-07-11T06:50:03.247880Z",
     "iopub.status.busy": "2022-07-11T06:50:03.247670Z",
     "iopub.status.idle": "2022-07-11T06:50:03.250950Z",
     "shell.execute_reply": "2022-07-11T06:50:03.250138Z"
    },
    "lines_to_next_cell": 0,
    "papermill": {
     "duration": 0.010774,
     "end_time": "2022-07-11T06:50:03.253789",
     "exception": false,
     "start_time": "2022-07-11T06:50:03.243015",
     "status": "completed"
    },
    "tags": [
     "parameters"
    ]
   },
   "outputs": [],
   "source": [
    "# - During automated runs parameters will be injected in the below cell -"
   ]
  },
  {
   "cell_type": "code",
   "execution_count": 3,
   "id": "a2c29de5",
   "metadata": {
    "execution": {
     "iopub.execute_input": "2022-07-11T06:50:03.263426Z",
     "iopub.status.busy": "2022-07-11T06:50:03.263218Z",
     "iopub.status.idle": "2022-07-11T06:50:03.267510Z",
     "shell.execute_reply": "2022-07-11T06:50:03.267023Z"
    },
    "papermill": {
     "duration": 0.013371,
     "end_time": "2022-07-11T06:50:03.271219",
     "exception": false,
     "start_time": "2022-07-11T06:50:03.257848",
     "status": "completed"
    },
    "tags": [
     "injected-parameters"
    ]
   },
   "outputs": [],
   "source": [
    "# Parameters\n",
    "P = {\n",
    "    \"pipeline.data_lake_root\": \"/pipeline-outputs/data-lake\",\n",
    "    \"pipeline.run_environment\": \"ci\",\n",
    "    \"pipeline.pipeline_run_id\": \"d4d605c2-2813-4deb-a30e-f9ddbea85443\",\n",
    "    \"pipeline.github.repository\": \"pynb-dag-runner/mnist-digits-demo-pipeline\",\n",
    "    \"pipeline.github.workflow\": \"Run automated tests, pipeline and deploy results to static reporting site\",\n",
    "    \"pipeline.github.runner_name\": \"Hosted Agent\",\n",
    "    \"pipeline.github.run_id\": \"2647744933\",\n",
    "    \"pipeline.github.actor\": \"matiasdahl\",\n",
    "    \"pipeline.github.job\": \"run-tests-pipeline-and-persist-pipeline-outputs\",\n",
    "    \"pipeline.github.base_ref\": \"\",\n",
    "    \"pipeline.github.head_ref\": \"\",\n",
    "    \"pipeline.github.sha\": \"147a1be9916173fd4d2cd011d8d51e3411215850\",\n",
    "    \"pipeline.github.ref\": \"refs/heads/development\",\n",
    "    \"pipeline.github.ref_type\": \"branch\",\n",
    "    \"pipeline.github.ref_name\": \"development\",\n",
    "    \"pipeline.github.event_name\": \"schedule\",\n",
    "    \"task.nr_train_images\": 600,\n",
    "    \"task.notebook\": \"notebooks/benchmark-model.py\",\n",
    "    \"task.max_nr_retries\": \"1\",\n",
    "    \"run.retry_nr\": \"0\",\n",
    "    \"task.timeout_s\": \"None\",\n",
    "    \"task.num_cpus\": 1,\n",
    "    \"_opentelemetry_traceparent\": \"00-275834b9e35d620e6f49159cc81b626e-8793e822c235dfef-01\",\n",
    "}\n"
   ]
  },
  {
   "cell_type": "code",
   "execution_count": 4,
   "id": "6787800c",
   "metadata": {
    "execution": {
     "iopub.execute_input": "2022-07-11T06:50:03.280392Z",
     "iopub.status.busy": "2022-07-11T06:50:03.280173Z",
     "iopub.status.idle": "2022-07-11T06:50:03.283781Z",
     "shell.execute_reply": "2022-07-11T06:50:03.283279Z"
    },
    "lines_to_next_cell": 0,
    "papermill": {
     "duration": 0.011322,
     "end_time": "2022-07-11T06:50:03.286543",
     "exception": false,
     "start_time": "2022-07-11T06:50:03.275221",
     "status": "completed"
    },
    "tags": []
   },
   "outputs": [],
   "source": [
    "# -----------------------------------------------------------------------"
   ]
  },
  {
   "cell_type": "markdown",
   "id": "87a3c452",
   "metadata": {
    "papermill": {
     "duration": 0.005959,
     "end_time": "2022-07-11T06:50:03.296493",
     "exception": false,
     "start_time": "2022-07-11T06:50:03.290534",
     "status": "completed"
    },
    "tags": []
   },
   "source": [
    "---"
   ]
  },
  {
   "cell_type": "markdown",
   "id": "249428e5",
   "metadata": {
    "lines_to_next_cell": 2,
    "papermill": {
     "duration": 0.004371,
     "end_time": "2022-07-11T06:50:03.304773",
     "exception": false,
     "start_time": "2022-07-11T06:50:03.300402",
     "status": "completed"
    },
    "tags": []
   },
   "source": [
    "### Notebook code"
   ]
  },
  {
   "cell_type": "code",
   "execution_count": 5,
   "id": "aaafd6d9",
   "metadata": {
    "execution": {
     "iopub.execute_input": "2022-07-11T06:50:03.314246Z",
     "iopub.status.busy": "2022-07-11T06:50:03.314040Z",
     "iopub.status.idle": "2022-07-11T06:50:04.451366Z",
     "shell.execute_reply": "2022-07-11T06:50:04.450464Z"
    },
    "papermill": {
     "duration": 1.14452,
     "end_time": "2022-07-11T06:50:04.453288",
     "exception": false,
     "start_time": "2022-07-11T06:50:03.308768",
     "status": "completed"
    },
    "tags": []
   },
   "outputs": [
    {
     "name": "stderr",
     "output_type": "stream",
     "text": [
      "2022-07-11 06:50:04,260\tINFO worker.py:842 -- Connecting to existing Ray cluster at address: 172.17.0.2:6379\n"
     ]
    }
   ],
   "source": [
    "import itertools as it\n",
    "\n",
    "#\n",
    "import numpy as np\n",
    "import matplotlib.pyplot as plt\n",
    "\n",
    "#\n",
    "from pynb_dag_runner.tasks.task_opentelemetry_logging import PydarLogger\n",
    "\n",
    "#\n",
    "from common.io import datalake_root\n",
    "\n",
    "logger = PydarLogger(P)"
   ]
  },
  {
   "cell_type": "markdown",
   "id": "07ccd3de",
   "metadata": {
    "papermill": {
     "duration": 0.00403,
     "end_time": "2022-07-11T06:50:04.461571",
     "exception": false,
     "start_time": "2022-07-11T06:50:04.457541",
     "status": "completed"
    },
    "tags": []
   },
   "source": [
    "## Load persisted onnx-model and evaluation data"
   ]
  },
  {
   "cell_type": "code",
   "execution_count": 6,
   "id": "3b943ba3",
   "metadata": {
    "execution": {
     "iopub.execute_input": "2022-07-11T06:50:04.471116Z",
     "iopub.status.busy": "2022-07-11T06:50:04.470540Z",
     "iopub.status.idle": "2022-07-11T06:50:04.474290Z",
     "shell.execute_reply": "2022-07-11T06:50:04.473627Z"
    },
    "papermill": {
     "duration": 0.010625,
     "end_time": "2022-07-11T06:50:04.475975",
     "exception": false,
     "start_time": "2022-07-11T06:50:04.465350",
     "status": "completed"
    },
    "tags": []
   },
   "outputs": [],
   "source": [
    "from common.io import read_onnx, get_onnx_inputs, get_onnx_outputs, read_numpy"
   ]
  },
  {
   "cell_type": "code",
   "execution_count": 7,
   "id": "239fabc0",
   "metadata": {
    "execution": {
     "iopub.execute_input": "2022-07-11T06:50:04.485133Z",
     "iopub.status.busy": "2022-07-11T06:50:04.484768Z",
     "iopub.status.idle": "2022-07-11T06:50:04.496372Z",
     "shell.execute_reply": "2022-07-11T06:50:04.495714Z"
    },
    "lines_to_next_cell": 0,
    "papermill": {
     "duration": 0.017889,
     "end_time": "2022-07-11T06:50:04.497970",
     "exception": false,
     "start_time": "2022-07-11T06:50:04.480081",
     "status": "completed"
    },
    "tags": []
   },
   "outputs": [],
   "source": [
    "onnx_inference_session = read_onnx(\n",
    "    datalake_root(P)\n",
    "    / \"models\"\n",
    "    / f\"nr_train_images={P['task.nr_train_images']}\"\n",
    "    / \"model.onnx\"\n",
    ")"
   ]
  },
  {
   "cell_type": "markdown",
   "id": "938fba72",
   "metadata": {
    "papermill": {
     "duration": 0.003954,
     "end_time": "2022-07-11T06:50:04.505935",
     "exception": false,
     "start_time": "2022-07-11T06:50:04.501981",
     "status": "completed"
    },
    "tags": []
   },
   "source": [
    "### Record structure of inputs and outputs for ONNX model\n",
    "\n",
    "(this should likely be done in training notebook)"
   ]
  },
  {
   "cell_type": "code",
   "execution_count": 8,
   "id": "e328cb7d",
   "metadata": {
    "execution": {
     "iopub.execute_input": "2022-07-11T06:50:04.515268Z",
     "iopub.status.busy": "2022-07-11T06:50:04.515015Z",
     "iopub.status.idle": "2022-07-11T06:50:04.520612Z",
     "shell.execute_reply": "2022-07-11T06:50:04.520076Z"
    },
    "papermill": {
     "duration": 0.014089,
     "end_time": "2022-07-11T06:50:04.524011",
     "exception": false,
     "start_time": "2022-07-11T06:50:04.509922",
     "status": "completed"
    },
    "tags": []
   },
   "outputs": [
    {
     "name": "stdout",
     "output_type": "stream",
     "text": [
      "{\n",
      "  \"inputs\": [\n",
      "    {\n",
      "      \"name\": \"float_input_8x8_image\",\n",
      "      \"shape\": [\n",
      "        null,\n",
      "        64\n",
      "      ],\n",
      "      \"type\": \"tensor(float)\"\n",
      "    }\n",
      "  ],\n",
      "  \"outputs\": [\n",
      "    {\n",
      "      \"name\": \"output_label\",\n",
      "      \"shape\": [\n",
      "        null\n",
      "      ],\n",
      "      \"type\": \"tensor(int64)\"\n",
      "    },\n",
      "    {\n",
      "      \"name\": \"output_probability\",\n",
      "      \"shape\": [],\n",
      "      \"type\": \"seq(map(int64,tensor(float)))\"\n",
      "    }\n",
      "  ]\n",
      "}\n"
     ]
    }
   ],
   "source": [
    "import json\n",
    "\n",
    "onnx_io = json.dumps(\n",
    "    {\n",
    "        \"inputs\": get_onnx_inputs(onnx_inference_session),\n",
    "        \"outputs\": get_onnx_outputs(onnx_inference_session),\n",
    "    },\n",
    "    indent=2,\n",
    ")\n",
    "\n",
    "\n",
    "logger.log_artefact(\"onnx_io_structure.json\", onnx_io)\n",
    "print(onnx_io)"
   ]
  },
  {
   "cell_type": "markdown",
   "id": "52706a4a",
   "metadata": {
    "papermill": {
     "duration": 0.004214,
     "end_time": "2022-07-11T06:50:04.532350",
     "exception": false,
     "start_time": "2022-07-11T06:50:04.528136",
     "status": "completed"
    },
    "tags": []
   },
   "source": [
    "### Evaluate model performance on evaluation data set"
   ]
  },
  {
   "cell_type": "code",
   "execution_count": 9,
   "id": "edffb90d",
   "metadata": {
    "execution": {
     "iopub.execute_input": "2022-07-11T06:50:04.541539Z",
     "iopub.status.busy": "2022-07-11T06:50:04.541286Z",
     "iopub.status.idle": "2022-07-11T06:50:04.545742Z",
     "shell.execute_reply": "2022-07-11T06:50:04.545199Z"
    },
    "papermill": {
     "duration": 0.012203,
     "end_time": "2022-07-11T06:50:04.548576",
     "exception": false,
     "start_time": "2022-07-11T06:50:04.536373",
     "status": "completed"
    },
    "tags": []
   },
   "outputs": [],
   "source": [
    "# load evaluation data\n",
    "X_test = read_numpy(datalake_root(P) / \"test-data\" / \"digits.numpy\")\n",
    "y_test = read_numpy(datalake_root(P) / \"test-data\" / \"labels.numpy\")"
   ]
  },
  {
   "cell_type": "code",
   "execution_count": 10,
   "id": "8337738b",
   "metadata": {
    "execution": {
     "iopub.execute_input": "2022-07-11T06:50:04.558051Z",
     "iopub.status.busy": "2022-07-11T06:50:04.557807Z",
     "iopub.status.idle": "2022-07-11T06:50:04.570231Z",
     "shell.execute_reply": "2022-07-11T06:50:04.569692Z"
    },
    "papermill": {
     "duration": 0.019353,
     "end_time": "2022-07-11T06:50:04.571985",
     "exception": false,
     "start_time": "2022-07-11T06:50:04.552632",
     "status": "completed"
    },
    "tags": []
   },
   "outputs": [],
   "source": [
    "def get_model_outputs(X, onnx_inference_session):\n",
    "    y_pred_labels, y_pred_map = onnx_inference_session.run(\n",
    "        [\"output_label\", \"output_probability\"],\n",
    "        {\"float_input_8x8_image\": X.astype(np.float32)},\n",
    "    )\n",
    "    y_pred_probs = np.array(\n",
    "        [[probabilities[digit] for digit in range(10)] for probabilities in y_pred_map]\n",
    "    )\n",
    "\n",
    "    assert y_pred_labels.shape == (X.shape[0],)\n",
    "    assert y_pred_probs.shape == (X.shape[0], 10)\n",
    "\n",
    "    return y_pred_labels, y_pred_probs\n",
    "\n",
    "\n",
    "# Note: as shown in the training notebook, the predicted labels and probabilities\n",
    "# computed below need not be compatible.\n",
    "y_pred_labels_test, y_pred_probs_test = get_model_outputs(\n",
    "    X_test, onnx_inference_session\n",
    ")"
   ]
  },
  {
   "cell_type": "markdown",
   "id": "36e5eb9d",
   "metadata": {
    "papermill": {
     "duration": 0.004284,
     "end_time": "2022-07-11T06:50:04.580518",
     "exception": false,
     "start_time": "2022-07-11T06:50:04.576234",
     "status": "completed"
    },
    "tags": []
   },
   "source": [
    "### Confusion matrix"
   ]
  },
  {
   "cell_type": "code",
   "execution_count": 11,
   "id": "a22bacc5",
   "metadata": {
    "execution": {
     "iopub.execute_input": "2022-07-11T06:50:04.589859Z",
     "iopub.status.busy": "2022-07-11T06:50:04.589600Z",
     "iopub.status.idle": "2022-07-11T06:50:04.592862Z",
     "shell.execute_reply": "2022-07-11T06:50:04.592318Z"
    },
    "papermill": {
     "duration": 0.010674,
     "end_time": "2022-07-11T06:50:04.595317",
     "exception": false,
     "start_time": "2022-07-11T06:50:04.584643",
     "status": "completed"
    },
    "tags": []
   },
   "outputs": [],
   "source": [
    "# TODO"
   ]
  },
  {
   "cell_type": "markdown",
   "id": "141222c2",
   "metadata": {
    "papermill": {
     "duration": 0.004421,
     "end_time": "2022-07-11T06:50:04.603933",
     "exception": false,
     "start_time": "2022-07-11T06:50:04.599512",
     "status": "completed"
    },
    "tags": []
   },
   "source": [
    "### Plot predicted probabilities for each classifier over all evaluation digit images"
   ]
  },
  {
   "cell_type": "code",
   "execution_count": 12,
   "id": "3dab0232",
   "metadata": {
    "execution": {
     "iopub.execute_input": "2022-07-11T06:50:04.613044Z",
     "iopub.status.busy": "2022-07-11T06:50:04.612798Z",
     "iopub.status.idle": "2022-07-11T06:50:07.673274Z",
     "shell.execute_reply": "2022-07-11T06:50:07.672548Z"
    },
    "papermill": {
     "duration": 3.067422,
     "end_time": "2022-07-11T06:50:07.675214",
     "exception": false,
     "start_time": "2022-07-11T06:50:04.607792",
     "status": "completed"
    },
    "tags": []
   },
   "outputs": [
    {
     "data": {
      "image/png": "[encoded data removed]",
      "text/plain": [
       "<Figure size 1152x432 with 10 Axes>"
      ]
     },
     "metadata": {
      "needs_background": "light"
     },
     "output_type": "display_data"
    }
   ],
   "source": [
    "def plot_per_digit_probabilities(y_pred_probs):\n",
    "    fig, axs = plt.subplots(nrows=2, ncols=5, figsize=(16, 6))\n",
    "\n",
    "    for (r, c), digit, ax in zip(\n",
    "        it.product(range(2), range(5)), range(10), axs.reshape(-1)\n",
    "    ):\n",
    "        ax.hist(y_pred_probs_test[:, digit], bins=20)\n",
    "\n",
    "        ax.set_title(f\"Digit {digit}\")\n",
    "        if r == 1 and c == 2:\n",
    "            ax.set_xlabel(\"probability\", fontsize=16)\n",
    "\n",
    "        if c == 0:\n",
    "            ax.set_ylabel(\"counts\", fontsize=16)\n",
    "        ax.set_yscale(\"log\")\n",
    "\n",
    "    fig.tight_layout()\n",
    "    fig.suptitle(\n",
    "        f\"Distributions of prediction probabilities for each digit \"\n",
    "        f\"(on evaluation data, n={y_pred_probs.shape[0]})\",\n",
    "        fontsize=20,\n",
    "    )\n",
    "    fig.tight_layout()\n",
    "    fig.show()\n",
    "\n",
    "    return fig\n",
    "\n",
    "\n",
    "fig = plot_per_digit_probabilities(y_pred_probs_test)"
   ]
  },
  {
   "cell_type": "markdown",
   "id": "bfe722c0",
   "metadata": {
    "papermill": {
     "duration": 0.005085,
     "end_time": "2022-07-11T06:50:07.685860",
     "exception": false,
     "start_time": "2022-07-11T06:50:07.680775",
     "status": "completed"
    },
    "tags": []
   },
   "source": [
    "From the above distributions we see that most digits have clear separation between\n",
    "high and lower probabilities. Morover, in each case there is roughly an order of\n",
    "magnitude more of digits with low probabilities. This is compatible with digits\n",
    "being roughly evenly distributed in the data."
   ]
  },
  {
   "cell_type": "code",
   "execution_count": 13,
   "id": "e2703b44",
   "metadata": {
    "execution": {
     "iopub.execute_input": "2022-07-11T06:50:07.696613Z",
     "iopub.status.busy": "2022-07-11T06:50:07.696208Z",
     "iopub.status.idle": "2022-07-11T06:50:08.111980Z",
     "shell.execute_reply": "2022-07-11T06:50:08.111234Z"
    },
    "papermill": {
     "duration": 0.42344,
     "end_time": "2022-07-11T06:50:08.114227",
     "exception": false,
     "start_time": "2022-07-11T06:50:07.690787",
     "status": "completed"
    },
    "tags": []
   },
   "outputs": [],
   "source": [
    "logger.log_figure(\"per-digit-probabilities.png\", fig)"
   ]
  },
  {
   "cell_type": "markdown",
   "id": "b076977b",
   "metadata": {
    "papermill": {
     "duration": 0.005322,
     "end_time": "2022-07-11T06:50:08.124796",
     "exception": false,
     "start_time": "2022-07-11T06:50:08.119474",
     "status": "completed"
    },
    "tags": []
   },
   "source": [
    "### Plot ROC curves for individual one-vs-rest classifiers"
   ]
  },
  {
   "cell_type": "code",
   "execution_count": 14,
   "id": "250e1600",
   "metadata": {
    "execution": {
     "iopub.execute_input": "2022-07-11T06:50:08.135843Z",
     "iopub.status.busy": "2022-07-11T06:50:08.135489Z",
     "iopub.status.idle": "2022-07-11T06:50:08.540375Z",
     "shell.execute_reply": "2022-07-11T06:50:08.539385Z"
    },
    "papermill": {
     "duration": 0.413052,
     "end_time": "2022-07-11T06:50:08.542452",
     "exception": false,
     "start_time": "2022-07-11T06:50:08.129400",
     "status": "completed"
    },
    "tags": []
   },
   "outputs": [],
   "source": [
    "from sklearn import metrics"
   ]
  },
  {
   "cell_type": "code",
   "execution_count": 15,
   "id": "c8ff689c",
   "metadata": {
    "execution": {
     "iopub.execute_input": "2022-07-11T06:50:08.555654Z",
     "iopub.status.busy": "2022-07-11T06:50:08.555141Z",
     "iopub.status.idle": "2022-07-11T06:50:09.690212Z",
     "shell.execute_reply": "2022-07-11T06:50:09.689550Z"
    },
    "papermill": {
     "duration": 1.144238,
     "end_time": "2022-07-11T06:50:09.691740",
     "exception": false,
     "start_time": "2022-07-11T06:50:08.547502",
     "status": "completed"
    },
    "tags": []
   },
   "outputs": [
    {
     "data": {
      "image/png": "[encoded data removed]",
      "text/plain": [
       "<Figure size 1152x576 with 10 Axes>"
      ]
     },
     "metadata": {
      "needs_background": "light"
     },
     "output_type": "display_data"
    }
   ],
   "source": [
    "def plot_roc_curves(y, y_pred_probs):\n",
    "    # based on example code\n",
    "    # https://scikit-learn.org/stable/auto_examples/model_selection/plot_roc.html\n",
    "\n",
    "    fig, axs = plt.subplots(nrows=2, ncols=5, figsize=(16, 8))\n",
    "\n",
    "    roc_auc_dict = {}\n",
    "\n",
    "    for (r, c), digit, ax in zip(\n",
    "        it.product(range(2), range(5)), range(10), axs.reshape(-1)\n",
    "    ):\n",
    "        fpr, tpr, _ = metrics.roc_curve(y == digit, y_pred_probs[:, digit])\n",
    "        auc = metrics.auc(fpr, tpr)\n",
    "        roc_auc_dict[str(digit)] = auc\n",
    "\n",
    "        ax.plot(fpr, tpr, label=f\"ROC AUC={round(auc, 3)}\")\n",
    "\n",
    "        ax.set_title(f\"\\nDigit {digit}\", fontsize=16)\n",
    "        if r == 1:\n",
    "            ax.set_xlabel(\"FPR\", fontsize=18)\n",
    "\n",
    "        if c == 0:\n",
    "            ax.set_ylabel(\"TPR\", fontsize=18)\n",
    "\n",
    "        ax.set_xlim([-0.05, 1.05])\n",
    "        ax.set_ylim([-0.05, 1.05])\n",
    "        ax.legend(loc=\"lower right\", frameon=False, fontsize=14)\n",
    "\n",
    "    fig.tight_layout()\n",
    "    fig.suptitle(\n",
    "        f\"ROC plots for one-vs-rest performances \"\n",
    "        f\"(on evaluation data, n={y_pred_probs_test.shape[1]}\",\n",
    "        fontsize=22,\n",
    "    )\n",
    "    fig.tight_layout()\n",
    "    fig.show()\n",
    "\n",
    "    return roc_auc_dict, fig\n",
    "\n",
    "\n",
    "roc_auc_dict, fig = plot_roc_curves(y_test, y_pred_probs_test)"
   ]
  },
  {
   "cell_type": "code",
   "execution_count": 16,
   "id": "4d038c84",
   "metadata": {
    "execution": {
     "iopub.execute_input": "2022-07-11T06:50:09.704582Z",
     "iopub.status.busy": "2022-07-11T06:50:09.704078Z",
     "iopub.status.idle": "2022-07-11T06:50:09.935041Z",
     "shell.execute_reply": "2022-07-11T06:50:09.934289Z"
    },
    "papermill": {
     "duration": 0.239483,
     "end_time": "2022-07-11T06:50:09.936897",
     "exception": false,
     "start_time": "2022-07-11T06:50:09.697414",
     "status": "completed"
    },
    "tags": []
   },
   "outputs": [],
   "source": [
    "logger.log_figure(\"per-digit-roc-curves.png\", fig)"
   ]
  },
  {
   "cell_type": "code",
   "execution_count": 17,
   "id": "cf539ba8",
   "metadata": {
    "execution": {
     "iopub.execute_input": "2022-07-11T06:50:09.954497Z",
     "iopub.status.busy": "2022-07-11T06:50:09.954244Z",
     "iopub.status.idle": "2022-07-11T06:50:09.959316Z",
     "shell.execute_reply": "2022-07-11T06:50:09.958529Z"
    },
    "papermill": {
     "duration": 0.015879,
     "end_time": "2022-07-11T06:50:09.963096",
     "exception": false,
     "start_time": "2022-07-11T06:50:09.947217",
     "status": "completed"
    },
    "tags": []
   },
   "outputs": [
    {
     "data": {
      "text/plain": [
       "{'0': 1.0,\n",
       " '1': 0.9992502343017807,\n",
       " '2': 1.0,\n",
       " '3': 0.9998125585754452,\n",
       " '4': 0.9990474013107759,\n",
       " '5': 0.998875351452671,\n",
       " '6': 0.999923792104862,\n",
       " '7': 0.9998475842097241,\n",
       " '8': 0.9943647540983607,\n",
       " '9': 0.998818777625362}"
      ]
     },
     "execution_count": 17,
     "metadata": {},
     "output_type": "execute_result"
    }
   ],
   "source": [
    "roc_auc_dict"
   ]
  },
  {
   "cell_type": "code",
   "execution_count": 18,
   "id": "8a0c139d",
   "metadata": {
    "execution": {
     "iopub.execute_input": "2022-07-11T06:50:09.975924Z",
     "iopub.status.busy": "2022-07-11T06:50:09.975691Z",
     "iopub.status.idle": "2022-07-11T06:50:09.980037Z",
     "shell.execute_reply": "2022-07-11T06:50:09.979483Z"
    },
    "papermill": {
     "duration": 0.014605,
     "end_time": "2022-07-11T06:50:09.983513",
     "exception": false,
     "start_time": "2022-07-11T06:50:09.968908",
     "status": "completed"
    },
    "tags": []
   },
   "outputs": [
    {
     "name": "stdout",
     "output_type": "stream",
     "text": [
      " - Logging roc_auc_per_digit (json) : {'0': 1.0, '1': 0.9992502343017807, '2': 1.0, '3': 0.9998125585754452, '4': 0.9990474013107759, '5': 0.998875351452671, '6': 0.999923792104862, '7': 0.9998475842097241, '8': 0.9943647540983607, '9': 0.998818777625362}\n"
     ]
    }
   ],
   "source": [
    "logger.log_value(\"roc_auc_per_digit\", roc_auc_dict)"
   ]
  },
  {
   "cell_type": "markdown",
   "id": "1653a0b9",
   "metadata": {
    "papermill": {
     "duration": 0.005578,
     "end_time": "2022-07-11T06:50:09.999196",
     "exception": false,
     "start_time": "2022-07-11T06:50:09.993618",
     "status": "completed"
    },
    "tags": []
   },
   "source": [
    "### Compute and log mean ROC AUC score averaged over all digits"
   ]
  },
  {
   "cell_type": "code",
   "execution_count": 19,
   "id": "80ce430f",
   "metadata": {
    "execution": {
     "iopub.execute_input": "2022-07-11T06:50:10.015823Z",
     "iopub.status.busy": "2022-07-11T06:50:10.015516Z",
     "iopub.status.idle": "2022-07-11T06:50:10.031750Z",
     "shell.execute_reply": "2022-07-11T06:50:10.030553Z"
    },
    "papermill": {
     "duration": 0.026157,
     "end_time": "2022-07-11T06:50:10.033742",
     "exception": false,
     "start_time": "2022-07-11T06:50:10.007585",
     "status": "completed"
    },
    "tags": []
   },
   "outputs": [
    {
     "name": "stdout",
     "output_type": "stream",
     "text": [
      " - Logging roc_auc_class_mean (float) : 0.9989940453678982\n"
     ]
    }
   ],
   "source": [
    "roc_auc_macro = np.mean(list(roc_auc_dict.values()))\n",
    "\n",
    "logger.log_float(\"roc_auc_class_mean\", roc_auc_macro)\n",
    "\n",
    "# assert that the same value can be computed directly using sklearn\n",
    "assert roc_auc_macro == metrics.roc_auc_score(\n",
    "    y_test, y_pred_probs_test, average=\"macro\", multi_class=\"ovr\"\n",
    ")"
   ]
  },
  {
   "cell_type": "code",
   "execution_count": 20,
   "id": "753223c3",
   "metadata": {
    "execution": {
     "iopub.execute_input": "2022-07-11T06:50:10.047653Z",
     "iopub.status.busy": "2022-07-11T06:50:10.047419Z",
     "iopub.status.idle": "2022-07-11T06:50:10.050311Z",
     "shell.execute_reply": "2022-07-11T06:50:10.049762Z"
    },
    "lines_to_next_cell": 0,
    "papermill": {
     "duration": 0.013223,
     "end_time": "2022-07-11T06:50:10.053188",
     "exception": false,
     "start_time": "2022-07-11T06:50:10.039965",
     "status": "completed"
    },
    "tags": []
   },
   "outputs": [],
   "source": [
    "# ---"
   ]
  },
  {
   "cell_type": "code",
   "execution_count": null,
   "id": "90b7d1db",
   "metadata": {
    "papermill": {
     "duration": 0.006242,
     "end_time": "2022-07-11T06:50:10.065813",
     "exception": false,
     "start_time": "2022-07-11T06:50:10.059571",
     "status": "completed"
    },
    "tags": []
   },
   "outputs": [],
   "source": []
  }
 ],
 "metadata": {
  "jupytext": {
   "cell_metadata_filter": "tags,-all",
   "main_language": "python",
   "notebook_metadata_filter": "-all"
  },
  "language_info": {
   "codemirror_mode": {
    "name": "ipython",
    "version": 3
   },
   "file_extension": ".py",
   "mimetype": "text/x-python",
   "name": "python",
   "nbconvert_exporter": "python",
   "pygments_lexer": "ipython3",
   "version": "3.8.10"
  },
  "papermill": {
   "default_parameters": {},
   "duration": 9.259862,
   "end_time": "2022-07-11T06:50:11.196488",
   "environment_variables": {},
   "exception": null,
   "input_path": "/home/host_user/workspace/mnist-demo-pipeline/mnist-demo-pipeline/notebooks/temp-notebook-tichvkl6.ipynb",
   "output_path": "notebooks/benchmark-model.ipynb",
   "parameters": {
    "P": {
     "_opentelemetry_traceparent": "00-275834b9e35d620e6f49159cc81b626e-8793e822c235dfef-01",
     "pipeline.data_lake_root": "/pipeline-outputs/data-lake",
     "pipeline.github.actor": "matiasdahl",
     "pipeline.github.base_ref": "",
     "pipeline.github.event_name": "schedule",
     "pipeline.github.head_ref": "",
     "pipeline.github.job": "run-tests-pipeline-and-persist-pipeline-outputs",
     "pipeline.github.ref": "refs/heads/development",
     "pipeline.github.ref_name": "development",
     "pipeline.github.ref_type": "branch",
     "pipeline.github.repository": "pynb-dag-runner/mnist-digits-demo-pipeline",
     "pipeline.github.run_id": "2647744933",
     "pipeline.github.runner_name": "Hosted Agent",
     "pipeline.github.sha": "147a1be9916173fd4d2cd011d8d51e3411215850",
     "pipeline.github.workflow": "Run automated tests, pipeline and deploy results to static reporting site",
     "pipeline.pipeline_run_id": "d4d605c2-2813-4deb-a30e-f9ddbea85443",
     "pipeline.run_environment": "ci",
     "run.retry_nr": "0",
     "task.max_nr_retries": "1",
     "task.notebook": "notebooks/benchmark-model.py",
     "task.nr_train_images": 600,
     "task.num_cpus": 1,
     "task.timeout_s": "None"
    }
   },
   "start_time": "2022-07-11T06:50:01.936626",
   "version": "2.3.3"
  }
 },
 "nbformat": 4,
 "nbformat_minor": 5
}