{
 "cells": [
  {
   "cell_type": "markdown",
   "id": "aee3f5d3",
   "metadata": {
    "papermill": {
     "duration": 0.00606,
     "end_time": "2022-07-07T06:49:19.003885",
     "exception": false,
     "start_time": "2022-07-07T06:49:18.997825",
     "status": "completed"
    },
    "tags": []
   },
   "source": [
    "# Benchmark model\n",
    "\n",
    "The purpose of this notebook is to benchmark persisted onnx-model (trained in the\n",
    "previous step) against evaluation set."
   ]
  },
  {
   "cell_type": "markdown",
   "id": "ed117c5b",
   "metadata": {
    "papermill": {
     "duration": 0.004408,
     "end_time": "2022-07-07T06:49:19.012486",
     "exception": false,
     "start_time": "2022-07-07T06:49:19.008078",
     "status": "completed"
    },
    "tags": []
   },
   "source": [
    "### Determine run parameters"
   ]
  },
  {
   "cell_type": "code",
   "execution_count": 1,
   "id": "e9189745",
   "metadata": {
    "execution": {
     "iopub.execute_input": "2022-07-07T06:49:19.021784Z",
     "iopub.status.busy": "2022-07-07T06:49:19.021464Z",
     "iopub.status.idle": "2022-07-07T06:49:19.029775Z",
     "shell.execute_reply": "2022-07-07T06:49:19.029221Z"
    },
    "lines_to_next_cell": 0,
    "papermill": {
     "duration": 0.015717,
     "end_time": "2022-07-07T06:49:19.031995",
     "exception": false,
     "start_time": "2022-07-07T06:49:19.016278",
     "status": "completed"
    },
    "tags": []
   },
   "outputs": [],
   "source": [
    "# ----------------- Parameters for interactive development --------------\n",
    "P = {\n",
    "    \"pipeline.data_lake_root\": \"/pipeline-outputs/data-lake\",\n",
    "    \"task.nr_train_images\": 600,\n",
    "}"
   ]
  },
  {
   "cell_type": "code",
   "execution_count": 2,
   "id": "ddd80867",
   "metadata": {
    "execution": {
     "iopub.execute_input": "2022-07-07T06:49:19.040766Z",
     "iopub.status.busy": "2022-07-07T06:49:19.040537Z",
     "iopub.status.idle": "2022-07-07T06:49:19.044290Z",
     "shell.execute_reply": "2022-07-07T06:49:19.043373Z"
    },
    "lines_to_next_cell": 0,
    "papermill": {
     "duration": 0.010592,
     "end_time": "2022-07-07T06:49:19.046566",
     "exception": false,
     "start_time": "2022-07-07T06:49:19.035974",
     "status": "completed"
    },
    "tags": [
     "parameters"
    ]
   },
   "outputs": [],
   "source": [
    "# - During automated runs parameters will be injected in the below cell -"
   ]
  },
  {
   "cell_type": "code",
   "execution_count": 3,
   "id": "da28f15f",
   "metadata": {
    "execution": {
     "iopub.execute_input": "2022-07-07T06:49:19.055843Z",
     "iopub.status.busy": "2022-07-07T06:49:19.055642Z",
     "iopub.status.idle": "2022-07-07T06:49:19.059888Z",
     "shell.execute_reply": "2022-07-07T06:49:19.059402Z"
    },
    "papermill": {
     "duration": 0.012276,
     "end_time": "2022-07-07T06:49:19.062955",
     "exception": false,
     "start_time": "2022-07-07T06:49:19.050679",
     "status": "completed"
    },
    "tags": [
     "injected-parameters"
    ]
   },
   "outputs": [],
   "source": [
    "# Parameters\n",
    "P = {\n",
    "    \"pipeline.data_lake_root\": \"/pipeline-outputs/data-lake\",\n",
    "    \"pipeline.run_environment\": \"ci\",\n",
    "    \"pipeline.pipeline_run_id\": \"40b065d9-1904-42b9-bcd7-587daf8f649f\",\n",
    "    \"pipeline.github.repository\": \"pynb-dag-runner/mnist-digits-demo-pipeline\",\n",
    "    \"pipeline.github.workflow\": \"Run automated tests, pipeline and deploy results to static reporting site\",\n",
    "    \"pipeline.github.runner_name\": \"Hosted Agent\",\n",
    "    \"pipeline.github.run_id\": \"2627678303\",\n",
    "    \"pipeline.github.actor\": \"matiasdahl\",\n",
    "    \"pipeline.github.job\": \"run-tests-pipeline-and-persist-pipeline-outputs\",\n",
    "    \"pipeline.github.base_ref\": \"\",\n",
    "    \"pipeline.github.head_ref\": \"\",\n",
    "    \"pipeline.github.sha\": \"f934c58f68028b7bb026059d4e87e6d32a1bbd20\",\n",
    "    \"pipeline.github.ref\": \"refs/heads/development\",\n",
    "    \"pipeline.github.ref_type\": \"branch\",\n",
    "    \"pipeline.github.ref_name\": \"development\",\n",
    "    \"pipeline.github.event_name\": \"schedule\",\n",
    "    \"task.nr_train_images\": 1200,\n",
    "    \"task.notebook\": \"notebooks/benchmark-model.py\",\n",
    "    \"task.max_nr_retries\": \"1\",\n",
    "    \"run.retry_nr\": \"0\",\n",
    "    \"task.timeout_s\": \"None\",\n",
    "    \"task.num_cpus\": 1,\n",
    "    \"_opentelemetry_traceparent\": \"00-c6511bb07cc0ac21516750c3f7f46ab0-64ac2a8233b26a11-01\",\n",
    "}\n"
   ]
  },
  {
   "cell_type": "code",
   "execution_count": 4,
   "id": "f8d463b2",
   "metadata": {
    "execution": {
     "iopub.execute_input": "2022-07-07T06:49:19.072019Z",
     "iopub.status.busy": "2022-07-07T06:49:19.071787Z",
     "iopub.status.idle": "2022-07-07T06:49:19.075467Z",
     "shell.execute_reply": "2022-07-07T06:49:19.074961Z"
    },
    "lines_to_next_cell": 0,
    "papermill": {
     "duration": 0.011246,
     "end_time": "2022-07-07T06:49:19.077857",
     "exception": false,
     "start_time": "2022-07-07T06:49:19.066611",
     "status": "completed"
    },
    "tags": []
   },
   "outputs": [],
   "source": [
    "# -----------------------------------------------------------------------"
   ]
  },
  {
   "cell_type": "markdown",
   "id": "7cf056ba",
   "metadata": {
    "papermill": {
     "duration": 0.005769,
     "end_time": "2022-07-07T06:49:19.087797",
     "exception": false,
     "start_time": "2022-07-07T06:49:19.082028",
     "status": "completed"
    },
    "tags": []
   },
   "source": [
    "---"
   ]
  },
  {
   "cell_type": "markdown",
   "id": "cd71e209",
   "metadata": {
    "lines_to_next_cell": 2,
    "papermill": {
     "duration": 0.003677,
     "end_time": "2022-07-07T06:49:19.100456",
     "exception": false,
     "start_time": "2022-07-07T06:49:19.096779",
     "status": "completed"
    },
    "tags": []
   },
   "source": [
    "### Notebook code"
   ]
  },
  {
   "cell_type": "code",
   "execution_count": 5,
   "id": "944ec641",
   "metadata": {
    "execution": {
     "iopub.execute_input": "2022-07-07T06:49:19.109854Z",
     "iopub.status.busy": "2022-07-07T06:49:19.109617Z",
     "iopub.status.idle": "2022-07-07T06:49:20.334022Z",
     "shell.execute_reply": "2022-07-07T06:49:20.326773Z"
    },
    "papermill": {
     "duration": 1.234302,
     "end_time": "2022-07-07T06:49:20.339307",
     "exception": false,
     "start_time": "2022-07-07T06:49:19.105005",
     "status": "completed"
    },
    "tags": []
   },
   "outputs": [
    {
     "name": "stderr",
     "output_type": "stream",
     "text": [
      "2022-07-07 06:49:20,138\tINFO worker.py:842 -- Connecting to existing Ray cluster at address: 172.17.0.2:6379\n"
     ]
    }
   ],
   "source": [
    "import itertools as it\n",
    "\n",
    "#\n",
    "import numpy as np\n",
    "import matplotlib.pyplot as plt\n",
    "\n",
    "#\n",
    "from pynb_dag_runner.tasks.task_opentelemetry_logging import PydarLogger\n",
    "\n",
    "#\n",
    "from common.io import datalake_root\n",
    "\n",
    "logger = PydarLogger(P)"
   ]
  },
  {
   "cell_type": "markdown",
   "id": "ac8f3f02",
   "metadata": {
    "papermill": {
     "duration": 0.004522,
     "end_time": "2022-07-07T06:49:20.349022",
     "exception": false,
     "start_time": "2022-07-07T06:49:20.344500",
     "status": "completed"
    },
    "tags": []
   },
   "source": [
    "## Load persisted onnx-model and evaluation data"
   ]
  },
  {
   "cell_type": "code",
   "execution_count": 6,
   "id": "451681c4",
   "metadata": {
    "execution": {
     "iopub.execute_input": "2022-07-07T06:49:20.359280Z",
     "iopub.status.busy": "2022-07-07T06:49:20.358904Z",
     "iopub.status.idle": "2022-07-07T06:49:20.363509Z",
     "shell.execute_reply": "2022-07-07T06:49:20.362770Z"
    },
    "papermill": {
     "duration": 0.011876,
     "end_time": "2022-07-07T06:49:20.365537",
     "exception": false,
     "start_time": "2022-07-07T06:49:20.353661",
     "status": "completed"
    },
    "tags": []
   },
   "outputs": [],
   "source": [
    "from common.io import read_onnx, get_onnx_inputs, get_onnx_outputs, read_numpy"
   ]
  },
  {
   "cell_type": "code",
   "execution_count": 7,
   "id": "6c14b41b",
   "metadata": {
    "execution": {
     "iopub.execute_input": "2022-07-07T06:49:20.376608Z",
     "iopub.status.busy": "2022-07-07T06:49:20.375974Z",
     "iopub.status.idle": "2022-07-07T06:49:20.386066Z",
     "shell.execute_reply": "2022-07-07T06:49:20.385360Z"
    },
    "lines_to_next_cell": 0,
    "papermill": {
     "duration": 0.017668,
     "end_time": "2022-07-07T06:49:20.387605",
     "exception": false,
     "start_time": "2022-07-07T06:49:20.369937",
     "status": "completed"
    },
    "tags": []
   },
   "outputs": [],
   "source": [
    "onnx_inference_session = read_onnx(\n",
    "    datalake_root(P)\n",
    "    / \"models\"\n",
    "    / f\"nr_train_images={P['task.nr_train_images']}\"\n",
    "    / \"model.onnx\"\n",
    ")"
   ]
  },
  {
   "cell_type": "markdown",
   "id": "02d578f8",
   "metadata": {
    "papermill": {
     "duration": 0.004424,
     "end_time": "2022-07-07T06:49:20.400033",
     "exception": false,
     "start_time": "2022-07-07T06:49:20.395609",
     "status": "completed"
    },
    "tags": []
   },
   "source": [
    "### Record structure of inputs and outputs for ONNX model\n",
    "\n",
    "(this should likely be done in training notebook)"
   ]
  },
  {
   "cell_type": "code",
   "execution_count": 8,
   "id": "20368574",
   "metadata": {
    "execution": {
     "iopub.execute_input": "2022-07-07T06:49:20.411633Z",
     "iopub.status.busy": "2022-07-07T06:49:20.411027Z",
     "iopub.status.idle": "2022-07-07T06:49:20.417494Z",
     "shell.execute_reply": "2022-07-07T06:49:20.416783Z"
    },
    "papermill": {
     "duration": 0.01538,
     "end_time": "2022-07-07T06:49:20.420980",
     "exception": false,
     "start_time": "2022-07-07T06:49:20.405600",
     "status": "completed"
    },
    "tags": []
   },
   "outputs": [
    {
     "name": "stdout",
     "output_type": "stream",
     "text": [
      "{\n",
      "  \"inputs\": [\n",
      "    {\n",
      "      \"name\": \"float_input_8x8_image\",\n",
      "      \"shape\": [\n",
      "        null,\n",
      "        64\n",
      "      ],\n",
      "      \"type\": \"tensor(float)\"\n",
      "    }\n",
      "  ],\n",
      "  \"outputs\": [\n",
      "    {\n",
      "      \"name\": \"output_label\",\n",
      "      \"shape\": [\n",
      "        null\n",
      "      ],\n",
      "      \"type\": \"tensor(int64)\"\n",
      "    },\n",
      "    {\n",
      "      \"name\": \"output_probability\",\n",
      "      \"shape\": [],\n",
      "      \"type\": \"seq(map(int64,tensor(float)))\"\n",
      "    }\n",
      "  ]\n",
      "}\n"
     ]
    }
   ],
   "source": [
    "import json\n",
    "\n",
    "onnx_io = json.dumps(\n",
    "    {\n",
    "        \"inputs\": get_onnx_inputs(onnx_inference_session),\n",
    "        \"outputs\": get_onnx_outputs(onnx_inference_session),\n",
    "    },\n",
    "    indent=2,\n",
    ")\n",
    "\n",
    "\n",
    "logger.log_artefact(\"onnx_io_structure.json\", onnx_io)\n",
    "print(onnx_io)"
   ]
  },
  {
   "cell_type": "markdown",
   "id": "8ff085ea",
   "metadata": {
    "papermill": {
     "duration": 0.005548,
     "end_time": "2022-07-07T06:49:20.433316",
     "exception": false,
     "start_time": "2022-07-07T06:49:20.427768",
     "status": "completed"
    },
    "tags": []
   },
   "source": [
    "### Evaluate model performance on evaluation data set"
   ]
  },
  {
   "cell_type": "code",
   "execution_count": 9,
   "id": "e42129d7",
   "metadata": {
    "execution": {
     "iopub.execute_input": "2022-07-07T06:49:20.444360Z",
     "iopub.status.busy": "2022-07-07T06:49:20.444054Z",
     "iopub.status.idle": "2022-07-07T06:49:20.450150Z",
     "shell.execute_reply": "2022-07-07T06:49:20.449333Z"
    },
    "papermill": {
     "duration": 0.014452,
     "end_time": "2022-07-07T06:49:20.452654",
     "exception": false,
     "start_time": "2022-07-07T06:49:20.438202",
     "status": "completed"
    },
    "tags": []
   },
   "outputs": [],
   "source": [
    "# load evaluation data\n",
    "X_test = read_numpy(datalake_root(P) / \"test-data\" / \"digits.numpy\")\n",
    "y_test = read_numpy(datalake_root(P) / \"test-data\" / \"labels.numpy\")"
   ]
  },
  {
   "cell_type": "code",
   "execution_count": 10,
   "id": "96505f1d",
   "metadata": {
    "execution": {
     "iopub.execute_input": "2022-07-07T06:49:20.463608Z",
     "iopub.status.busy": "2022-07-07T06:49:20.463269Z",
     "iopub.status.idle": "2022-07-07T06:49:20.479208Z",
     "shell.execute_reply": "2022-07-07T06:49:20.478376Z"
    },
    "papermill": {
     "duration": 0.023194,
     "end_time": "2022-07-07T06:49:20.480806",
     "exception": false,
     "start_time": "2022-07-07T06:49:20.457612",
     "status": "completed"
    },
    "tags": []
   },
   "outputs": [],
   "source": [
    "def get_model_outputs(X, onnx_inference_session):\n",
    "    y_pred_labels, y_pred_map = onnx_inference_session.run(\n",
    "        [\"output_label\", \"output_probability\"],\n",
    "        {\"float_input_8x8_image\": X.astype(np.float32)},\n",
    "    )\n",
    "    y_pred_probs = np.array(\n",
    "        [[probabilities[digit] for digit in range(10)] for probabilities in y_pred_map]\n",
    "    )\n",
    "\n",
    "    assert y_pred_labels.shape == (X.shape[0],)\n",
    "    assert y_pred_probs.shape == (X.shape[0], 10)\n",
    "\n",
    "    return y_pred_labels, y_pred_probs\n",
    "\n",
    "\n",
    "# Note: as shown in the training notebook, the predicted labels and probabilities\n",
    "# computed below need not be compatible.\n",
    "y_pred_labels_test, y_pred_probs_test = get_model_outputs(\n",
    "    X_test, onnx_inference_session\n",
    ")"
   ]
  },
  {
   "cell_type": "markdown",
   "id": "63797922",
   "metadata": {
    "papermill": {
     "duration": 0.005136,
     "end_time": "2022-07-07T06:49:20.490612",
     "exception": false,
     "start_time": "2022-07-07T06:49:20.485476",
     "status": "completed"
    },
    "tags": []
   },
   "source": [
    "### Confusion matrix"
   ]
  },
  {
   "cell_type": "code",
   "execution_count": 11,
   "id": "ffebfad9",
   "metadata": {
    "execution": {
     "iopub.execute_input": "2022-07-07T06:49:20.501308Z",
     "iopub.status.busy": "2022-07-07T06:49:20.500845Z",
     "iopub.status.idle": "2022-07-07T06:49:20.504155Z",
     "shell.execute_reply": "2022-07-07T06:49:20.503493Z"
    },
    "papermill": {
     "duration": 0.011107,
     "end_time": "2022-07-07T06:49:20.506037",
     "exception": false,
     "start_time": "2022-07-07T06:49:20.494930",
     "status": "completed"
    },
    "tags": []
   },
   "outputs": [],
   "source": [
    "# TODO"
   ]
  },
  {
   "cell_type": "markdown",
   "id": "0b201e30",
   "metadata": {
    "papermill": {
     "duration": 0.004352,
     "end_time": "2022-07-07T06:49:20.515602",
     "exception": false,
     "start_time": "2022-07-07T06:49:20.511250",
     "status": "completed"
    },
    "tags": []
   },
   "source": [
    "### Plot predicted probabilities for each classifier over all evaluation digit images"
   ]
  },
  {
   "cell_type": "code",
   "execution_count": 12,
   "id": "c438aa11",
   "metadata": {
    "execution": {
     "iopub.execute_input": "2022-07-07T06:49:20.526235Z",
     "iopub.status.busy": "2022-07-07T06:49:20.525799Z",
     "iopub.status.idle": "2022-07-07T06:49:24.181987Z",
     "shell.execute_reply": "2022-07-07T06:49:24.181236Z"
    },
    "papermill": {
     "duration": 3.663344,
     "end_time": "2022-07-07T06:49:24.183680",
     "exception": false,
     "start_time": "2022-07-07T06:49:20.520336",
     "status": "completed"
    },
    "tags": []
   },
   "outputs": [
    {
     "data": {
      "image/png": "[encoded data removed]",
      "text/plain": [
       "<Figure size 1152x432 with 10 Axes>"
      ]
     },
     "metadata": {
      "needs_background": "light"
     },
     "output_type": "display_data"
    }
   ],
   "source": [
    "def plot_per_digit_probabilities(y_pred_probs):\n",
    "    fig, axs = plt.subplots(nrows=2, ncols=5, figsize=(16, 6))\n",
    "\n",
    "    for (r, c), digit, ax in zip(\n",
    "        it.product(range(2), range(5)), range(10), axs.reshape(-1)\n",
    "    ):\n",
    "        ax.hist(y_pred_probs_test[:, digit], bins=20)\n",
    "\n",
    "        ax.set_title(f\"Digit {digit}\")\n",
    "        if r == 1 and c == 2:\n",
    "            ax.set_xlabel(\"probability\", fontsize=16)\n",
    "\n",
    "        if c == 0:\n",
    "            ax.set_ylabel(\"counts\", fontsize=16)\n",
    "        ax.set_yscale(\"log\")\n",
    "\n",
    "    fig.tight_layout()\n",
    "    fig.suptitle(\n",
    "        f\"Distributions of prediction probabilities for each digit \"\n",
    "        f\"(on evaluation data, n={y_pred_probs.shape[0]})\",\n",
    "        fontsize=20,\n",
    "    )\n",
    "    fig.tight_layout()\n",
    "    fig.show()\n",
    "\n",
    "    return fig\n",
    "\n",
    "\n",
    "fig = plot_per_digit_probabilities(y_pred_probs_test)"
   ]
  },
  {
   "cell_type": "markdown",
   "id": "f454e9b3",
   "metadata": {
    "papermill": {
     "duration": 0.00498,
     "end_time": "2022-07-07T06:49:24.195040",
     "exception": false,
     "start_time": "2022-07-07T06:49:24.190060",
     "status": "completed"
    },
    "tags": []
   },
   "source": [
    "From the above distributions we see that most digits have clear separation between\n",
    "high and lower probabilities. Morover, in each case there is roughly an order of\n",
    "magnitude more of digits with low probabilities. This is compatible with digits\n",
    "being roughly evenly distributed in the data."
   ]
  },
  {
   "cell_type": "code",
   "execution_count": 13,
   "id": "7c48efa7",
   "metadata": {
    "execution": {
     "iopub.execute_input": "2022-07-07T06:49:24.206344Z",
     "iopub.status.busy": "2022-07-07T06:49:24.205981Z",
     "iopub.status.idle": "2022-07-07T06:49:24.656006Z",
     "shell.execute_reply": "2022-07-07T06:49:24.655262Z"
    },
    "papermill": {
     "duration": 0.458038,
     "end_time": "2022-07-07T06:49:24.658177",
     "exception": false,
     "start_time": "2022-07-07T06:49:24.200139",
     "status": "completed"
    },
    "tags": []
   },
   "outputs": [],
   "source": [
    "logger.log_figure(\"per-digit-probabilities.png\", fig)"
   ]
  },
  {
   "cell_type": "markdown",
   "id": "55d62b7e",
   "metadata": {
    "papermill": {
     "duration": 0.004787,
     "end_time": "2022-07-07T06:49:24.667760",
     "exception": false,
     "start_time": "2022-07-07T06:49:24.662973",
     "status": "completed"
    },
    "tags": []
   },
   "source": [
    "### Plot ROC curves for individual one-vs-rest classifiers"
   ]
  },
  {
   "cell_type": "code",
   "execution_count": 14,
   "id": "12f7d816",
   "metadata": {
    "execution": {
     "iopub.execute_input": "2022-07-07T06:49:24.678916Z",
     "iopub.status.busy": "2022-07-07T06:49:24.678509Z",
     "iopub.status.idle": "2022-07-07T06:49:24.971826Z",
     "shell.execute_reply": "2022-07-07T06:49:24.971183Z"
    },
    "papermill": {
     "duration": 0.301628,
     "end_time": "2022-07-07T06:49:24.973791",
     "exception": false,
     "start_time": "2022-07-07T06:49:24.672163",
     "status": "completed"
    },
    "tags": []
   },
   "outputs": [],
   "source": [
    "from sklearn import metrics"
   ]
  },
  {
   "cell_type": "code",
   "execution_count": 15,
   "id": "da60d1d2",
   "metadata": {
    "execution": {
     "iopub.execute_input": "2022-07-07T06:49:24.989154Z",
     "iopub.status.busy": "2022-07-07T06:49:24.988883Z",
     "iopub.status.idle": "2022-07-07T06:49:26.136547Z",
     "shell.execute_reply": "2022-07-07T06:49:26.135960Z"
    },
    "papermill": {
     "duration": 1.159367,
     "end_time": "2022-07-07T06:49:26.138250",
     "exception": false,
     "start_time": "2022-07-07T06:49:24.978883",
     "status": "completed"
    },
    "tags": []
   },
   "outputs": [
    {
     "data": {
      "image/png": "[encoded data removed]",
      "text/plain": [
       "<Figure size 1152x576 with 10 Axes>"
      ]
     },
     "metadata": {
      "needs_background": "light"
     },
     "output_type": "display_data"
    }
   ],
   "source": [
    "def plot_roc_curves(y, y_pred_probs):\n",
    "    # based on example code\n",
    "    # https://scikit-learn.org/stable/auto_examples/model_selection/plot_roc.html\n",
    "\n",
    "    fig, axs = plt.subplots(nrows=2, ncols=5, figsize=(16, 8))\n",
    "\n",
    "    roc_auc_dict = {}\n",
    "\n",
    "    for (r, c), digit, ax in zip(\n",
    "        it.product(range(2), range(5)), range(10), axs.reshape(-1)\n",
    "    ):\n",
    "        fpr, tpr, _ = metrics.roc_curve(y == digit, y_pred_probs[:, digit])\n",
    "        auc = metrics.auc(fpr, tpr)\n",
    "        roc_auc_dict[str(digit)] = auc\n",
    "\n",
    "        ax.plot(fpr, tpr, label=f\"ROC AUC={round(auc, 3)}\")\n",
    "\n",
    "        ax.set_title(f\"\\nDigit {digit}\", fontsize=16)\n",
    "        if r == 1:\n",
    "            ax.set_xlabel(\"FPR\", fontsize=18)\n",
    "\n",
    "        if c == 0:\n",
    "            ax.set_ylabel(\"TPR\", fontsize=18)\n",
    "\n",
    "        ax.set_xlim([-0.05, 1.05])\n",
    "        ax.set_ylim([-0.05, 1.05])\n",
    "        ax.legend(loc=\"lower right\", frameon=False, fontsize=14)\n",
    "\n",
    "    fig.tight_layout()\n",
    "    fig.suptitle(\n",
    "        f\"ROC plots for one-vs-rest performances \"\n",
    "        f\"(on evaluation data, n={y_pred_probs_test.shape[1]}\",\n",
    "        fontsize=22,\n",
    "    )\n",
    "    fig.tight_layout()\n",
    "    fig.show()\n",
    "\n",
    "    return roc_auc_dict, fig\n",
    "\n",
    "\n",
    "roc_auc_dict, fig = plot_roc_curves(y_test, y_pred_probs_test)"
   ]
  },
  {
   "cell_type": "code",
   "execution_count": 16,
   "id": "ab0c6f26",
   "metadata": {
    "execution": {
     "iopub.execute_input": "2022-07-07T06:49:26.151174Z",
     "iopub.status.busy": "2022-07-07T06:49:26.150920Z",
     "iopub.status.idle": "2022-07-07T06:49:26.371994Z",
     "shell.execute_reply": "2022-07-07T06:49:26.371311Z"
    },
    "papermill": {
     "duration": 0.229826,
     "end_time": "2022-07-07T06:49:26.373983",
     "exception": false,
     "start_time": "2022-07-07T06:49:26.144157",
     "status": "completed"
    },
    "tags": []
   },
   "outputs": [],
   "source": [
    "logger.log_figure(\"per-digit-roc-curves.png\", fig)"
   ]
  },
  {
   "cell_type": "code",
   "execution_count": 17,
   "id": "23049632",
   "metadata": {
    "execution": {
     "iopub.execute_input": "2022-07-07T06:49:26.387217Z",
     "iopub.status.busy": "2022-07-07T06:49:26.386754Z",
     "iopub.status.idle": "2022-07-07T06:49:26.392330Z",
     "shell.execute_reply": "2022-07-07T06:49:26.391603Z"
    },
    "papermill": {
     "duration": 0.014394,
     "end_time": "2022-07-07T06:49:26.394735",
     "exception": false,
     "start_time": "2022-07-07T06:49:26.380341",
     "status": "completed"
    },
    "tags": []
   },
   "outputs": [
    {
     "data": {
      "text/plain": [
       "{'0': 1.0,\n",
       " '1': 0.999025304592315,\n",
       " '2': 1.0,\n",
       " '3': 0.9998500468603562,\n",
       " '4': 0.9997713763145861,\n",
       " '5': 0.9997000937207123,\n",
       " '6': 0.999923792104862,\n",
       " '7': 0.9998475842097242,\n",
       " '8': 0.9955075662042876,\n",
       " '9': 0.9997713763145862}"
      ]
     },
     "execution_count": 17,
     "metadata": {},
     "output_type": "execute_result"
    }
   ],
   "source": [
    "roc_auc_dict"
   ]
  },
  {
   "cell_type": "code",
   "execution_count": 18,
   "id": "8d7805f1",
   "metadata": {
    "execution": {
     "iopub.execute_input": "2022-07-07T06:49:26.407061Z",
     "iopub.status.busy": "2022-07-07T06:49:26.406778Z",
     "iopub.status.idle": "2022-07-07T06:49:26.411366Z",
     "shell.execute_reply": "2022-07-07T06:49:26.410824Z"
    },
    "papermill": {
     "duration": 0.012263,
     "end_time": "2022-07-07T06:49:26.412765",
     "exception": false,
     "start_time": "2022-07-07T06:49:26.400502",
     "status": "completed"
    },
    "tags": []
   },
   "outputs": [
    {
     "name": "stdout",
     "output_type": "stream",
     "text": [
      " - Logging roc_auc_per_digit (json) : {'0': 1.0, '1': 0.999025304592315, '2': 1.0, '3': 0.9998500468603562, '4': 0.9997713763145861, '5': 0.9997000937207123, '6': 0.999923792104862, '7': 0.9998475842097242, '8': 0.9955075662042876, '9': 0.9997713763145862}\n"
     ]
    }
   ],
   "source": [
    "logger.log_value(\"roc_auc_per_digit\", roc_auc_dict)"
   ]
  },
  {
   "cell_type": "markdown",
   "id": "85cb0169",
   "metadata": {
    "papermill": {
     "duration": 0.006285,
     "end_time": "2022-07-07T06:49:26.425590",
     "exception": false,
     "start_time": "2022-07-07T06:49:26.419305",
     "status": "completed"
    },
    "tags": []
   },
   "source": [
    "### Compute and log mean ROC AUC score averaged over all digits"
   ]
  },
  {
   "cell_type": "code",
   "execution_count": 19,
   "id": "848a28ee",
   "metadata": {
    "execution": {
     "iopub.execute_input": "2022-07-07T06:49:26.442013Z",
     "iopub.status.busy": "2022-07-07T06:49:26.441529Z",
     "iopub.status.idle": "2022-07-07T06:49:26.454578Z",
     "shell.execute_reply": "2022-07-07T06:49:26.453728Z"
    },
    "papermill": {
     "duration": 0.022162,
     "end_time": "2022-07-07T06:49:26.456216",
     "exception": false,
     "start_time": "2022-07-07T06:49:26.434054",
     "status": "completed"
    },
    "tags": []
   },
   "outputs": [
    {
     "name": "stdout",
     "output_type": "stream",
     "text": [
      " - Logging roc_auc_class_mean (float) : 0.999339714032143\n"
     ]
    }
   ],
   "source": [
    "roc_auc_macro = np.mean(list(roc_auc_dict.values()))\n",
    "\n",
    "logger.log_float(\"roc_auc_class_mean\", roc_auc_macro)\n",
    "\n",
    "# assert that the same value can be computed directly using sklearn\n",
    "assert roc_auc_macro == metrics.roc_auc_score(\n",
    "    y_test, y_pred_probs_test, average=\"macro\", multi_class=\"ovr\"\n",
    ")"
   ]
  },
  {
   "cell_type": "code",
   "execution_count": 20,
   "id": "a49bf1e5",
   "metadata": {
    "execution": {
     "iopub.execute_input": "2022-07-07T06:49:26.469072Z",
     "iopub.status.busy": "2022-07-07T06:49:26.468648Z",
     "iopub.status.idle": "2022-07-07T06:49:26.472417Z",
     "shell.execute_reply": "2022-07-07T06:49:26.471341Z"
    },
    "lines_to_next_cell": 0,
    "papermill": {
     "duration": 0.011762,
     "end_time": "2022-07-07T06:49:26.473880",
     "exception": false,
     "start_time": "2022-07-07T06:49:26.462118",
     "status": "completed"
    },
    "tags": []
   },
   "outputs": [],
   "source": [
    "# ---"
   ]
  },
  {
   "cell_type": "code",
   "execution_count": null,
   "id": "338cb1b4",
   "metadata": {
    "papermill": {
     "duration": 0.005499,
     "end_time": "2022-07-07T06:49:26.485369",
     "exception": false,
     "start_time": "2022-07-07T06:49:26.479870",
     "status": "completed"
    },
    "tags": []
   },
   "outputs": [],
   "source": []
  }
 ],
 "metadata": {
  "jupytext": {
   "cell_metadata_filter": "tags,-all",
   "main_language": "python",
   "notebook_metadata_filter": "-all"
  },
  "language_info": {
   "codemirror_mode": {
    "name": "ipython",
    "version": 3
   },
   "file_extension": ".py",
   "mimetype": "text/x-python",
   "name": "python",
   "nbconvert_exporter": "python",
   "pygments_lexer": "ipython3",
   "version": "3.8.10"
  },
  "papermill": {
   "default_parameters": {},
   "duration": 10.026,
   "end_time": "2022-07-07T06:49:27.610734",
   "environment_variables": {},
   "exception": null,
   "input_path": "/home/host_user/workspace/mnist-demo-pipeline/mnist-demo-pipeline/notebooks/temp-notebook-fwc7ewxg.ipynb",
   "output_path": "notebooks/benchmark-model.ipynb",
   "parameters": {
    "P": {
     "_opentelemetry_traceparent": "00-c6511bb07cc0ac21516750c3f7f46ab0-64ac2a8233b26a11-01",
     "pipeline.data_lake_root": "/pipeline-outputs/data-lake",
     "pipeline.github.actor": "matiasdahl",
     "pipeline.github.base_ref": "",
     "pipeline.github.event_name": "schedule",
     "pipeline.github.head_ref": "",
     "pipeline.github.job": "run-tests-pipeline-and-persist-pipeline-outputs",
     "pipeline.github.ref": "refs/heads/development",
     "pipeline.github.ref_name": "development",
     "pipeline.github.ref_type": "branch",
     "pipeline.github.repository": "pynb-dag-runner/mnist-digits-demo-pipeline",
     "pipeline.github.run_id": "2627678303",
     "pipeline.github.runner_name": "Hosted Agent",
     "pipeline.github.sha": "f934c58f68028b7bb026059d4e87e6d32a1bbd20",
     "pipeline.github.workflow": "Run automated tests, pipeline and deploy results to static reporting site",
     "pipeline.pipeline_run_id": "40b065d9-1904-42b9-bcd7-587daf8f649f",
     "pipeline.run_environment": "ci",
     "run.retry_nr": "0",
     "task.max_nr_retries": "1",
     "task.notebook": "notebooks/benchmark-model.py",
     "task.nr_train_images": 1200,
     "task.num_cpus": 1,
     "task.timeout_s": "None"
    }
   },
   "start_time": "2022-07-07T06:49:17.584734",
   "version": "2.3.3"
  }
 },
 "nbformat": 4,
 "nbformat_minor": 5
}