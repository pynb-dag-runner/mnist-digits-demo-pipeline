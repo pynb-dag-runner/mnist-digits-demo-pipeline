{
 "cells": [
  {
   "cell_type": "markdown",
   "id": "e160a7c8",
   "metadata": {
    "papermill": {
     "duration": 0.004076,
     "end_time": "2022-07-07T06:49:03.029733",
     "exception": false,
     "start_time": "2022-07-07T06:49:03.025657",
     "status": "completed"
    },
    "tags": []
   },
   "source": [
    "# Train model\n",
    "\n",
    "The purpose of this notebook is:\n",
    "\n",
    "- Load all training data (images and labels).\n",
    "- Limit number of train images to `task.nr_train_images` (value provided as run parameter).\n",
    "- Train a support vector machine model using sklearn.\n",
    "- Persist the trained model using the ONNX format."
   ]
  },
  {
   "cell_type": "markdown",
   "id": "14991e5f",
   "metadata": {
    "papermill": {
     "duration": 0.008579,
     "end_time": "2022-07-07T06:49:03.041766",
     "exception": false,
     "start_time": "2022-07-07T06:49:03.033187",
     "status": "completed"
    },
    "tags": []
   },
   "source": [
    "### Determine run parameters"
   ]
  },
  {
   "cell_type": "code",
   "execution_count": 1,
   "id": "0c65e657",
   "metadata": {
    "execution": {
     "iopub.execute_input": "2022-07-07T06:49:03.054190Z",
     "iopub.status.busy": "2022-07-07T06:49:03.053881Z",
     "iopub.status.idle": "2022-07-07T06:49:03.062018Z",
     "shell.execute_reply": "2022-07-07T06:49:03.061444Z"
    },
    "lines_to_next_cell": 0,
    "papermill": {
     "duration": 0.014205,
     "end_time": "2022-07-07T06:49:03.063869",
     "exception": false,
     "start_time": "2022-07-07T06:49:03.049664",
     "status": "completed"
    },
    "tags": []
   },
   "outputs": [],
   "source": [
    "# ----------------- Parameters for interactive development --------------\n",
    "P = {\n",
    "    \"pipeline.data_lake_root\": \"/pipeline-outputs/data-lake\",\n",
    "    \"task.nr_train_images\": 600,\n",
    "}"
   ]
  },
  {
   "cell_type": "code",
   "execution_count": 2,
   "id": "e9f62b1c",
   "metadata": {
    "execution": {
     "iopub.execute_input": "2022-07-07T06:49:03.071270Z",
     "iopub.status.busy": "2022-07-07T06:49:03.071025Z",
     "iopub.status.idle": "2022-07-07T06:49:03.076484Z",
     "shell.execute_reply": "2022-07-07T06:49:03.075928Z"
    },
    "lines_to_next_cell": 0,
    "papermill": {
     "duration": 0.012656,
     "end_time": "2022-07-07T06:49:03.079498",
     "exception": false,
     "start_time": "2022-07-07T06:49:03.066842",
     "status": "completed"
    },
    "tags": [
     "parameters"
    ]
   },
   "outputs": [],
   "source": [
    "# - During automated runs parameters will be injected in the below cell -"
   ]
  },
  {
   "cell_type": "code",
   "execution_count": 3,
   "id": "b8f6dd5a",
   "metadata": {
    "execution": {
     "iopub.execute_input": "2022-07-07T06:49:03.086286Z",
     "iopub.status.busy": "2022-07-07T06:49:03.086045Z",
     "iopub.status.idle": "2022-07-07T06:49:03.090612Z",
     "shell.execute_reply": "2022-07-07T06:49:03.090063Z"
    },
    "papermill": {
     "duration": 0.011029,
     "end_time": "2022-07-07T06:49:03.093265",
     "exception": false,
     "start_time": "2022-07-07T06:49:03.082236",
     "status": "completed"
    },
    "tags": [
     "injected-parameters"
    ]
   },
   "outputs": [],
   "source": [
    "# Parameters\n",
    "P = {\n",
    "    \"pipeline.data_lake_root\": \"/pipeline-outputs/data-lake\",\n",
    "    \"pipeline.run_environment\": \"ci\",\n",
    "    \"pipeline.pipeline_run_id\": \"40b065d9-1904-42b9-bcd7-587daf8f649f\",\n",
    "    \"pipeline.github.repository\": \"pynb-dag-runner/mnist-digits-demo-pipeline\",\n",
    "    \"pipeline.github.workflow\": \"Run automated tests, pipeline and deploy results to static reporting site\",\n",
    "    \"pipeline.github.runner_name\": \"Hosted Agent\",\n",
    "    \"pipeline.github.run_id\": \"2627678303\",\n",
    "    \"pipeline.github.actor\": \"matiasdahl\",\n",
    "    \"pipeline.github.job\": \"run-tests-pipeline-and-persist-pipeline-outputs\",\n",
    "    \"pipeline.github.base_ref\": \"\",\n",
    "    \"pipeline.github.head_ref\": \"\",\n",
    "    \"pipeline.github.sha\": \"f934c58f68028b7bb026059d4e87e6d32a1bbd20\",\n",
    "    \"pipeline.github.ref\": \"refs/heads/development\",\n",
    "    \"pipeline.github.ref_type\": \"branch\",\n",
    "    \"pipeline.github.ref_name\": \"development\",\n",
    "    \"pipeline.github.event_name\": \"schedule\",\n",
    "    \"task.nr_train_images\": 1000,\n",
    "    \"task.notebook\": \"notebooks/train-model.py\",\n",
    "    \"task.max_nr_retries\": \"1\",\n",
    "    \"run.retry_nr\": \"0\",\n",
    "    \"task.timeout_s\": \"None\",\n",
    "    \"task.num_cpus\": 1,\n",
    "    \"_opentelemetry_traceparent\": \"00-c6511bb07cc0ac21516750c3f7f46ab0-ad782946caf9ccfa-01\",\n",
    "}\n"
   ]
  },
  {
   "cell_type": "code",
   "execution_count": 4,
   "id": "41c7e423",
   "metadata": {
    "execution": {
     "iopub.execute_input": "2022-07-07T06:49:03.100560Z",
     "iopub.status.busy": "2022-07-07T06:49:03.100344Z",
     "iopub.status.idle": "2022-07-07T06:49:03.103027Z",
     "shell.execute_reply": "2022-07-07T06:49:03.102488Z"
    },
    "lines_to_next_cell": 0,
    "papermill": {
     "duration": 0.009874,
     "end_time": "2022-07-07T06:49:03.106006",
     "exception": false,
     "start_time": "2022-07-07T06:49:03.096132",
     "status": "completed"
    },
    "tags": []
   },
   "outputs": [],
   "source": [
    "# -----------------------------------------------------------------------"
   ]
  },
  {
   "cell_type": "markdown",
   "id": "86f2e056",
   "metadata": {
    "papermill": {
     "duration": 0.003196,
     "end_time": "2022-07-07T06:49:03.113821",
     "exception": false,
     "start_time": "2022-07-07T06:49:03.110625",
     "status": "completed"
    },
    "tags": []
   },
   "source": [
    "---"
   ]
  },
  {
   "cell_type": "markdown",
   "id": "bebe7947",
   "metadata": {
    "lines_to_next_cell": 2,
    "papermill": {
     "duration": 0.002697,
     "end_time": "2022-07-07T06:49:03.119584",
     "exception": false,
     "start_time": "2022-07-07T06:49:03.116887",
     "status": "completed"
    },
    "tags": []
   },
   "source": [
    "### Notebook code"
   ]
  },
  {
   "cell_type": "code",
   "execution_count": 5,
   "id": "acfdf8e3",
   "metadata": {
    "execution": {
     "iopub.execute_input": "2022-07-07T06:49:03.126457Z",
     "iopub.status.busy": "2022-07-07T06:49:03.126175Z",
     "iopub.status.idle": "2022-07-07T06:49:03.786649Z",
     "shell.execute_reply": "2022-07-07T06:49:03.785988Z"
    },
    "papermill": {
     "duration": 0.666752,
     "end_time": "2022-07-07T06:49:03.788972",
     "exception": false,
     "start_time": "2022-07-07T06:49:03.122220",
     "status": "completed"
    },
    "tags": []
   },
   "outputs": [
    {
     "name": "stderr",
     "output_type": "stream",
     "text": [
      "2022-07-07 06:49:03,585\tINFO worker.py:842 -- Connecting to existing Ray cluster at address: 172.17.0.2:6379\n"
     ]
    }
   ],
   "source": [
    "from pynb_dag_runner.tasks.task_opentelemetry_logging import PydarLogger\n",
    "\n",
    "logger = PydarLogger(P)"
   ]
  },
  {
   "cell_type": "markdown",
   "id": "679ab8e1",
   "metadata": {
    "papermill": {
     "duration": 0.005161,
     "end_time": "2022-07-07T06:49:03.798777",
     "exception": false,
     "start_time": "2022-07-07T06:49:03.793616",
     "status": "completed"
    },
    "tags": []
   },
   "source": [
    "## Load and limit train data"
   ]
  },
  {
   "cell_type": "code",
   "execution_count": 6,
   "id": "6ad3195a",
   "metadata": {
    "execution": {
     "iopub.execute_input": "2022-07-07T06:49:03.807988Z",
     "iopub.status.busy": "2022-07-07T06:49:03.807647Z",
     "iopub.status.idle": "2022-07-07T06:49:04.223802Z",
     "shell.execute_reply": "2022-07-07T06:49:04.222825Z"
    },
    "papermill": {
     "duration": 0.422092,
     "end_time": "2022-07-07T06:49:04.225572",
     "exception": false,
     "start_time": "2022-07-07T06:49:03.803480",
     "status": "completed"
    },
    "tags": []
   },
   "outputs": [
    {
     "name": "stderr",
     "output_type": "stream",
     "text": [
      "2022-07-07 06:49:03,863\tWARNING worker.py:1245 -- (ip=172.17.0.2) The agent on node d70376d7f615 failed to be restarted 5 times. There are 3 possible problems if you see this error.\n",
      "  1. The dashboard might not display correct information on this node.\n",
      "  2. Metrics on this node won't be reported.\n",
      "  3. runtime_env APIs won't work.\n",
      "Check out the `dashboard_agent.log` to see the detailed failure messages.\n"
     ]
    }
   ],
   "source": [
    "def load_and_limit_train_data(P):\n",
    "    from common.io import datalake_root, read_numpy\n",
    "    from sklearn.model_selection import train_test_split\n",
    "\n",
    "    X_train_all = read_numpy(datalake_root(P) / \"train-data\" / \"digits.numpy\")\n",
    "    y_train_all = read_numpy(datalake_root(P) / \"train-data\" / \"labels.numpy\")\n",
    "\n",
    "    assert isinstance(P[\"task.nr_train_images\"], int)\n",
    "\n",
    "    # Note: train_test_split will fail if split is 0 or 100%.\n",
    "    assert 0 < P[\"task.nr_train_images\"] < len(y_train_all)\n",
    "\n",
    "    X_train, _, y_train, _ = train_test_split(\n",
    "        X_train_all,\n",
    "        y_train_all,\n",
    "        train_size=P[\"task.nr_train_images\"],\n",
    "        test_size=None,\n",
    "        stratify=y_train_all,\n",
    "        shuffle=True,\n",
    "        random_state=123,\n",
    "    )\n",
    "\n",
    "    assert X_train.shape == (len(y_train), 8 * 8)\n",
    "    return X_train, y_train\n",
    "\n",
    "\n",
    "X_train, y_train = load_and_limit_train_data(P)"
   ]
  },
  {
   "cell_type": "markdown",
   "id": "57bcbe39",
   "metadata": {
    "papermill": {
     "duration": 0.002948,
     "end_time": "2022-07-07T06:49:04.233685",
     "exception": false,
     "start_time": "2022-07-07T06:49:04.230737",
     "status": "completed"
    },
    "tags": []
   },
   "source": [
    "## Train support vector classifier model\n",
    "\n",
    "Below we assume that the hyperparameter $C$ is known.\n",
    "\n",
    "However, this should ideally be found by a hyperparameter search. That could be\n",
    "done in parallel on the Ray cluster, but this needs some more work. Ie., to use\n",
    "multiple cores in the notebook, those cores should be reserved when starting the\n",
    "notebook task (TODO).\n",
    "\n",
    "- https://docs.ray.io/en/latest/tune/key-concepts.html\n",
    "\n",
    "Note: cv-scores would need to be computed here, since they depend on the train data.\n",
    "After this notebook only the onnx-model is available."
   ]
  },
  {
   "cell_type": "code",
   "execution_count": 7,
   "id": "cf10bdc0",
   "metadata": {
    "execution": {
     "iopub.execute_input": "2022-07-07T06:49:04.242961Z",
     "iopub.status.busy": "2022-07-07T06:49:04.242574Z",
     "iopub.status.idle": "2022-07-07T06:49:04.320077Z",
     "shell.execute_reply": "2022-07-07T06:49:04.319332Z"
    },
    "papermill": {
     "duration": 0.0845,
     "end_time": "2022-07-07T06:49:04.321778",
     "exception": false,
     "start_time": "2022-07-07T06:49:04.237278",
     "status": "completed"
    },
    "tags": []
   },
   "outputs": [],
   "source": [
    "from sklearn.svm import SVC"
   ]
  },
  {
   "cell_type": "code",
   "execution_count": 8,
   "id": "9bd7b311",
   "metadata": {
    "execution": {
     "iopub.execute_input": "2022-07-07T06:49:04.329814Z",
     "iopub.status.busy": "2022-07-07T06:49:04.329207Z",
     "iopub.status.idle": "2022-07-07T06:49:04.483162Z",
     "shell.execute_reply": "2022-07-07T06:49:04.482452Z"
    },
    "papermill": {
     "duration": 0.159638,
     "end_time": "2022-07-07T06:49:04.484807",
     "exception": false,
     "start_time": "2022-07-07T06:49:04.325169",
     "status": "completed"
    },
    "tags": []
   },
   "outputs": [
    {
     "data": {
      "text/plain": [
       "SVC(C=0.001, kernel='linear', probability=True)"
      ]
     },
     "execution_count": 8,
     "metadata": {},
     "output_type": "execute_result"
    }
   ],
   "source": [
    "model = SVC(C=0.001, kernel=\"linear\", probability=True)\n",
    "\n",
    "model.fit(X_train, y_train)"
   ]
  },
  {
   "cell_type": "markdown",
   "id": "e804de6d",
   "metadata": {
    "papermill": {
     "duration": 0.003324,
     "end_time": "2022-07-07T06:49:04.491706",
     "exception": false,
     "start_time": "2022-07-07T06:49:04.488382",
     "status": "completed"
    },
    "tags": []
   },
   "source": [
    "### Q: Can the labels returned by `predict(..)` be computed from probabilities returned by the `predict_prob`-method?"
   ]
  },
  {
   "cell_type": "code",
   "execution_count": 9,
   "id": "48d3cf5b",
   "metadata": {
    "execution": {
     "iopub.execute_input": "2022-07-07T06:49:04.499446Z",
     "iopub.status.busy": "2022-07-07T06:49:04.499154Z",
     "iopub.status.idle": "2022-07-07T06:49:04.578008Z",
     "shell.execute_reply": "2022-07-07T06:49:04.577435Z"
    },
    "papermill": {
     "duration": 0.084752,
     "end_time": "2022-07-07T06:49:04.579785",
     "exception": false,
     "start_time": "2022-07-07T06:49:04.495033",
     "status": "completed"
    },
    "tags": []
   },
   "outputs": [
    {
     "name": "stdout",
     "output_type": "stream",
     "text": [
      " - Logging nr_max_prob_neq_label (int) : 1\n"
     ]
    }
   ],
   "source": [
    "import numpy as np\n",
    "\n",
    "y_train_labels = model.predict(X_train)\n",
    "y_train_probabilities = model.predict_proba(X_train)\n",
    "assert y_train_probabilities.shape == (len(y_train), 10)\n",
    "\n",
    "y_train_max_prob_labels = np.argmax(y_train_probabilities, axis=1)\n",
    "assert y_train_labels.shape == y_train_max_prob_labels.shape == y_train.shape\n",
    "\n",
    "# If the predicted labels would coincide with the labels that have\n",
    "# maximum probability, the below number would be zero\n",
    "logger.log_int(\n",
    "    \"nr_max_prob_neq_label\", int(sum(y_train_max_prob_labels != y_train_labels))\n",
    ")"
   ]
  },
  {
   "cell_type": "markdown",
   "id": "70118d49",
   "metadata": {
    "papermill": {
     "duration": 0.00354,
     "end_time": "2022-07-07T06:49:04.587059",
     "exception": false,
     "start_time": "2022-07-07T06:49:04.583519",
     "status": "completed"
    },
    "tags": []
   },
   "source": [
    "The explanation is (likely) explained in the SVC source, see\n",
    "[here](https://github.com/scikit-learn/scikit-learn/blob/main/sklearn/svm/_base.py).\n",
    "Namely, the outputs from `predict(..)` and `predict_proba(..)` may not in some\n",
    "cases be compatible since the latter is computed using cross-validation while\n",
    "the former is not. Thus, the above number need not be zero."
   ]
  },
  {
   "cell_type": "markdown",
   "id": "11b1a938",
   "metadata": {
    "papermill": {
     "duration": 0.003558,
     "end_time": "2022-07-07T06:49:04.593897",
     "exception": false,
     "start_time": "2022-07-07T06:49:04.590339",
     "status": "completed"
    },
    "tags": []
   },
   "source": [
    "## Persist model"
   ]
  },
  {
   "cell_type": "code",
   "execution_count": 10,
   "id": "b2e4be29",
   "metadata": {
    "execution": {
     "iopub.execute_input": "2022-07-07T06:49:04.601733Z",
     "iopub.status.busy": "2022-07-07T06:49:04.601359Z",
     "iopub.status.idle": "2022-07-07T06:49:05.683233Z",
     "shell.execute_reply": "2022-07-07T06:49:05.682460Z"
    },
    "papermill": {
     "duration": 1.087959,
     "end_time": "2022-07-07T06:49:05.685103",
     "exception": false,
     "start_time": "2022-07-07T06:49:04.597144",
     "status": "completed"
    },
    "tags": []
   },
   "outputs": [],
   "source": [
    "from skl2onnx import convert_sklearn\n",
    "from skl2onnx.common.data_types import FloatTensorType\n",
    "\n",
    "#\n",
    "from common.io import datalake_root, write_onnx"
   ]
  },
  {
   "cell_type": "code",
   "execution_count": 11,
   "id": "3408b051",
   "metadata": {
    "execution": {
     "iopub.execute_input": "2022-07-07T06:49:05.693754Z",
     "iopub.status.busy": "2022-07-07T06:49:05.693425Z",
     "iopub.status.idle": "2022-07-07T06:49:05.746172Z",
     "shell.execute_reply": "2022-07-07T06:49:05.745595Z"
    },
    "papermill": {
     "duration": 0.059302,
     "end_time": "2022-07-07T06:49:05.747811",
     "exception": false,
     "start_time": "2022-07-07T06:49:05.688509",
     "status": "completed"
    },
    "tags": []
   },
   "outputs": [],
   "source": [
    "# convert sklearn model into onnx and persist to data lake\n",
    "\n",
    "model_onnx = convert_sklearn(\n",
    "    model, initial_types=[(\"float_input_8x8_image\", FloatTensorType([None, 8 * 8]))]\n",
    ")\n",
    "write_onnx(\n",
    "    datalake_root(P)\n",
    "    / \"models\"\n",
    "    / f\"nr_train_images={P['task.nr_train_images']}\"\n",
    "    / \"model.onnx\",\n",
    "    model_onnx,\n",
    ")"
   ]
  },
  {
   "cell_type": "code",
   "execution_count": null,
   "id": "1b511a48",
   "metadata": {
    "papermill": {
     "duration": 0.003831,
     "end_time": "2022-07-07T06:49:05.755878",
     "exception": false,
     "start_time": "2022-07-07T06:49:05.752047",
     "status": "completed"
    },
    "tags": []
   },
   "outputs": [],
   "source": []
  }
 ],
 "metadata": {
  "jupytext": {
   "cell_metadata_filter": "tags,-all",
   "main_language": "python",
   "notebook_metadata_filter": "-all"
  },
  "language_info": {
   "codemirror_mode": {
    "name": "ipython",
    "version": 3
   },
   "file_extension": ".py",
   "mimetype": "text/x-python",
   "name": "python",
   "nbconvert_exporter": "python",
   "pygments_lexer": "ipython3",
   "version": "3.8.10"
  },
  "papermill": {
   "default_parameters": {},
   "duration": 5.307599,
   "end_time": "2022-07-07T06:49:06.782998",
   "environment_variables": {},
   "exception": null,
   "input_path": "/home/host_user/workspace/mnist-demo-pipeline/mnist-demo-pipeline/notebooks/temp-notebook-x_5q_9oq.ipynb",
   "output_path": "notebooks/train-model.ipynb",
   "parameters": {
    "P": {
     "_opentelemetry_traceparent": "00-c6511bb07cc0ac21516750c3f7f46ab0-ad782946caf9ccfa-01",
     "pipeline.data_lake_root": "/pipeline-outputs/data-lake",
     "pipeline.github.actor": "matiasdahl",
     "pipeline.github.base_ref": "",
     "pipeline.github.event_name": "schedule",
     "pipeline.github.head_ref": "",
     "pipeline.github.job": "run-tests-pipeline-and-persist-pipeline-outputs",
     "pipeline.github.ref": "refs/heads/development",
     "pipeline.github.ref_name": "development",
     "pipeline.github.ref_type": "branch",
     "pipeline.github.repository": "pynb-dag-runner/mnist-digits-demo-pipeline",
     "pipeline.github.run_id": "2627678303",
     "pipeline.github.runner_name": "Hosted Agent",
     "pipeline.github.sha": "f934c58f68028b7bb026059d4e87e6d32a1bbd20",
     "pipeline.github.workflow": "Run automated tests, pipeline and deploy results to static reporting site",
     "pipeline.pipeline_run_id": "40b065d9-1904-42b9-bcd7-587daf8f649f",
     "pipeline.run_environment": "ci",
     "run.retry_nr": "0",
     "task.max_nr_retries": "1",
     "task.notebook": "notebooks/train-model.py",
     "task.nr_train_images": 1000,
     "task.num_cpus": 1,
     "task.timeout_s": "None"
    }
   },
   "start_time": "2022-07-07T06:49:01.475399",
   "version": "2.3.3"
  }
 },
 "nbformat": 4,
 "nbformat_minor": 5
}