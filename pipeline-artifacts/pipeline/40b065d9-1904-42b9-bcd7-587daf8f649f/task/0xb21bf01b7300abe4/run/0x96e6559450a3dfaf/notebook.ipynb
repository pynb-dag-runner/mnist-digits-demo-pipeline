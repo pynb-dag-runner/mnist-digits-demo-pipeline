{
 "cells": [
  {
   "cell_type": "markdown",
   "id": "e51687fe",
   "metadata": {
    "papermill": {
     "duration": 0.0038,
     "end_time": "2022-07-07T06:48:52.377918",
     "exception": false,
     "start_time": "2022-07-07T06:48:52.374118",
     "status": "completed"
    },
    "tags": []
   },
   "source": [
    "# Ingest toy version of MNIST digit data from sklearn"
   ]
  },
  {
   "cell_type": "markdown",
   "id": "25ace56e",
   "metadata": {
    "papermill": {
     "duration": 0.00249,
     "end_time": "2022-07-07T06:48:52.382993",
     "exception": false,
     "start_time": "2022-07-07T06:48:52.380503",
     "status": "completed"
    },
    "tags": []
   },
   "source": [
    "### Determine run parameters"
   ]
  },
  {
   "cell_type": "code",
   "execution_count": 1,
   "id": "95bc1641",
   "metadata": {
    "execution": {
     "iopub.execute_input": "2022-07-07T06:48:52.389216Z",
     "iopub.status.busy": "2022-07-07T06:48:52.388724Z",
     "iopub.status.idle": "2022-07-07T06:48:52.396369Z",
     "shell.execute_reply": "2022-07-07T06:48:52.395415Z"
    },
    "lines_to_next_cell": 0,
    "papermill": {
     "duration": 0.012881,
     "end_time": "2022-07-07T06:48:52.397946",
     "exception": false,
     "start_time": "2022-07-07T06:48:52.385065",
     "status": "completed"
    },
    "tags": []
   },
   "outputs": [],
   "source": [
    "# ----------------- Parameters for interactive development --------------\n",
    "P = {\n",
    "    \"pipeline.run_environment\": \"dev\",\n",
    "    \"pipeline.data_lake_root\": \"/pipeline-outputs/data-lake\",\n",
    "    \"run.retry_nr\": \"1\",\n",
    "}"
   ]
  },
  {
   "cell_type": "code",
   "execution_count": 2,
   "id": "bf49f605",
   "metadata": {
    "execution": {
     "iopub.execute_input": "2022-07-07T06:48:52.403622Z",
     "iopub.status.busy": "2022-07-07T06:48:52.403402Z",
     "iopub.status.idle": "2022-07-07T06:48:52.406498Z",
     "shell.execute_reply": "2022-07-07T06:48:52.405664Z"
    },
    "lines_to_next_cell": 0,
    "papermill": {
     "duration": 0.007732,
     "end_time": "2022-07-07T06:48:52.407883",
     "exception": false,
     "start_time": "2022-07-07T06:48:52.400151",
     "status": "completed"
    },
    "tags": [
     "parameters"
    ]
   },
   "outputs": [],
   "source": [
    "# - During automated runs parameters will be injected in the below cell -"
   ]
  },
  {
   "cell_type": "code",
   "execution_count": 3,
   "id": "584fc5e0",
   "metadata": {
    "execution": {
     "iopub.execute_input": "2022-07-07T06:48:52.413287Z",
     "iopub.status.busy": "2022-07-07T06:48:52.412920Z",
     "iopub.status.idle": "2022-07-07T06:48:52.417128Z",
     "shell.execute_reply": "2022-07-07T06:48:52.416635Z"
    },
    "papermill": {
     "duration": 0.00837,
     "end_time": "2022-07-07T06:48:52.418357",
     "exception": false,
     "start_time": "2022-07-07T06:48:52.409987",
     "status": "completed"
    },
    "tags": [
     "injected-parameters"
    ]
   },
   "outputs": [],
   "source": [
    "# Parameters\n",
    "P = {\n",
    "    \"pipeline.data_lake_root\": \"/pipeline-outputs/data-lake\",\n",
    "    \"pipeline.run_environment\": \"ci\",\n",
    "    \"pipeline.pipeline_run_id\": \"40b065d9-1904-42b9-bcd7-587daf8f649f\",\n",
    "    \"pipeline.github.repository\": \"pynb-dag-runner/mnist-digits-demo-pipeline\",\n",
    "    \"pipeline.github.workflow\": \"Run automated tests, pipeline and deploy results to static reporting site\",\n",
    "    \"pipeline.github.runner_name\": \"Hosted Agent\",\n",
    "    \"pipeline.github.run_id\": \"2627678303\",\n",
    "    \"pipeline.github.actor\": \"matiasdahl\",\n",
    "    \"pipeline.github.job\": \"run-tests-pipeline-and-persist-pipeline-outputs\",\n",
    "    \"pipeline.github.base_ref\": \"\",\n",
    "    \"pipeline.github.head_ref\": \"\",\n",
    "    \"pipeline.github.sha\": \"f934c58f68028b7bb026059d4e87e6d32a1bbd20\",\n",
    "    \"pipeline.github.ref\": \"refs/heads/development\",\n",
    "    \"pipeline.github.ref_type\": \"branch\",\n",
    "    \"pipeline.github.ref_name\": \"development\",\n",
    "    \"pipeline.github.event_name\": \"schedule\",\n",
    "    \"task.notebook\": \"notebooks/ingest.py\",\n",
    "    \"task.max_nr_retries\": \"15\",\n",
    "    \"run.retry_nr\": \"10\",\n",
    "    \"task.timeout_s\": \"10\",\n",
    "    \"task.num_cpus\": 1,\n",
    "    \"_opentelemetry_traceparent\": \"00-c6511bb07cc0ac21516750c3f7f46ab0-c375158714a73b05-01\",\n",
    "}\n"
   ]
  },
  {
   "cell_type": "code",
   "execution_count": 4,
   "id": "266f7623",
   "metadata": {
    "execution": {
     "iopub.execute_input": "2022-07-07T06:48:52.423684Z",
     "iopub.status.busy": "2022-07-07T06:48:52.423482Z",
     "iopub.status.idle": "2022-07-07T06:48:52.426038Z",
     "shell.execute_reply": "2022-07-07T06:48:52.425465Z"
    },
    "lines_to_next_cell": 0,
    "papermill": {
     "duration": 0.00717,
     "end_time": "2022-07-07T06:48:52.427681",
     "exception": false,
     "start_time": "2022-07-07T06:48:52.420511",
     "status": "completed"
    },
    "tags": []
   },
   "outputs": [],
   "source": [
    "# -----------------------------------------------------------------------"
   ]
  },
  {
   "cell_type": "markdown",
   "id": "2902ea8c",
   "metadata": {
    "lines_to_next_cell": 2,
    "papermill": {
     "duration": 0.002421,
     "end_time": "2022-07-07T06:48:52.432669",
     "exception": false,
     "start_time": "2022-07-07T06:48:52.430248",
     "status": "completed"
    },
    "tags": []
   },
   "source": [
    "---"
   ]
  },
  {
   "cell_type": "markdown",
   "id": "29476a99",
   "metadata": {
    "papermill": {
     "duration": 0.002597,
     "end_time": "2022-07-07T06:48:52.437534",
     "exception": false,
     "start_time": "2022-07-07T06:48:52.434937",
     "status": "completed"
    },
    "tags": []
   },
   "source": [
    "### Simulate different types of failures (for testing timeout and retry logic)"
   ]
  },
  {
   "cell_type": "code",
   "execution_count": 5,
   "id": "ee3a2921",
   "metadata": {
    "execution": {
     "iopub.execute_input": "2022-07-07T06:48:52.443814Z",
     "iopub.status.busy": "2022-07-07T06:48:52.443514Z",
     "iopub.status.idle": "2022-07-07T06:48:52.876415Z",
     "shell.execute_reply": "2022-07-07T06:48:52.875667Z"
    },
    "papermill": {
     "duration": 0.43844,
     "end_time": "2022-07-07T06:48:52.878195",
     "exception": false,
     "start_time": "2022-07-07T06:48:52.439755",
     "status": "completed"
    },
    "tags": []
   },
   "outputs": [
    {
     "name": "stderr",
     "output_type": "stream",
     "text": [
      "2022-07-07 06:48:52,729\tINFO worker.py:842 -- Connecting to existing Ray cluster at address: 172.17.0.2:6379\n"
     ]
    }
   ],
   "source": [
    "from pynb_dag_runner.tasks.task_opentelemetry_logging import PydarLogger\n",
    "\n",
    "logger = PydarLogger(P)"
   ]
  },
  {
   "cell_type": "code",
   "execution_count": 6,
   "id": "ca7ccf2d",
   "metadata": {
    "execution": {
     "iopub.execute_input": "2022-07-07T06:48:52.884960Z",
     "iopub.status.busy": "2022-07-07T06:48:52.884520Z",
     "iopub.status.idle": "2022-07-07T06:48:52.889988Z",
     "shell.execute_reply": "2022-07-07T06:48:52.889332Z"
    },
    "papermill": {
     "duration": 0.010816,
     "end_time": "2022-07-07T06:48:52.891745",
     "exception": false,
     "start_time": "2022-07-07T06:48:52.880929",
     "status": "completed"
    },
    "tags": []
   },
   "outputs": [],
   "source": [
    "import time, random\n",
    "\n",
    "\n",
    "def maybe_crash(retry_nr: int, run_environment: str):\n",
    "    if retry_nr == 2 and run_environment == \"ci\":\n",
    "        time.sleep(1e6)\n",
    "\n",
    "    max_retry_nr: int = 3 if run_environment == \"dev\" else 10\n",
    "\n",
    "    if retry_nr < max_retry_nr:\n",
    "        if random.random() < 0.1:\n",
    "            time.sleep(1e6)\n",
    "        else:\n",
    "            raise Exception(\"Simulated exception failure from ingestion step notebook!\")\n",
    "\n",
    "\n",
    "maybe_crash(\n",
    "    retry_nr=int(P[\"run.retry_nr\"]), run_environment=P[\"pipeline.run_environment\"]\n",
    ")"
   ]
  },
  {
   "cell_type": "markdown",
   "id": "3e14e28f",
   "metadata": {
    "lines_to_next_cell": 2,
    "papermill": {
     "duration": 0.002613,
     "end_time": "2022-07-07T06:48:52.896911",
     "exception": false,
     "start_time": "2022-07-07T06:48:52.894298",
     "status": "completed"
    },
    "tags": []
   },
   "source": [
    "### Notebook code"
   ]
  },
  {
   "cell_type": "code",
   "execution_count": 7,
   "id": "ca6c3524",
   "metadata": {
    "execution": {
     "iopub.execute_input": "2022-07-07T06:48:52.903901Z",
     "iopub.status.busy": "2022-07-07T06:48:52.903135Z",
     "iopub.status.idle": "2022-07-07T06:48:54.113318Z",
     "shell.execute_reply": "2022-07-07T06:48:54.112633Z"
    },
    "papermill": {
     "duration": 1.215959,
     "end_time": "2022-07-07T06:48:54.115215",
     "exception": false,
     "start_time": "2022-07-07T06:48:52.899256",
     "status": "completed"
    },
    "tags": []
   },
   "outputs": [],
   "source": [
    "from sklearn import datasets\n",
    "\n",
    "#\n",
    "from common.io import datalake_root, write_numpy"
   ]
  },
  {
   "cell_type": "code",
   "execution_count": 8,
   "id": "a341ef40",
   "metadata": {
    "execution": {
     "iopub.execute_input": "2022-07-07T06:48:54.122571Z",
     "iopub.status.busy": "2022-07-07T06:48:54.122232Z",
     "iopub.status.idle": "2022-07-07T06:48:54.138284Z",
     "shell.execute_reply": "2022-07-07T06:48:54.137016Z"
    },
    "lines_to_next_cell": 2,
    "papermill": {
     "duration": 0.021836,
     "end_time": "2022-07-07T06:48:54.140213",
     "exception": false,
     "start_time": "2022-07-07T06:48:54.118377",
     "status": "completed"
    },
    "tags": []
   },
   "outputs": [],
   "source": [
    "digits = datasets.load_digits()\n",
    "\n",
    "X = digits[\"data\"]\n",
    "y = digits[\"target\"]"
   ]
  },
  {
   "cell_type": "code",
   "execution_count": 9,
   "id": "8889c8cb",
   "metadata": {
    "execution": {
     "iopub.execute_input": "2022-07-07T06:48:54.147226Z",
     "iopub.status.busy": "2022-07-07T06:48:54.146538Z",
     "iopub.status.idle": "2022-07-07T06:48:54.159801Z",
     "shell.execute_reply": "2022-07-07T06:48:54.159142Z"
    },
    "papermill": {
     "duration": 0.018458,
     "end_time": "2022-07-07T06:48:54.161388",
     "exception": false,
     "start_time": "2022-07-07T06:48:54.142930",
     "status": "completed"
    },
    "tags": []
   },
   "outputs": [
    {
     "name": "stdout",
     "output_type": "stream",
     "text": [
      " - Logging data_shape (json) : [1797, 64]\n",
      " - Logging target_shape (json) : [1797]\n"
     ]
    },
    {
     "data": {
      "text/plain": [
       "((1797, 64), (1797,))"
      ]
     },
     "execution_count": 9,
     "metadata": {},
     "output_type": "execute_result"
    }
   ],
   "source": [
    "logger.log_value(\"data_shape\", list(X.shape))\n",
    "logger.log_value(\"target_shape\", list(y.shape))\n",
    "\n",
    "X.shape, y.shape"
   ]
  },
  {
   "cell_type": "code",
   "execution_count": 10,
   "id": "27cef7d1",
   "metadata": {
    "execution": {
     "iopub.execute_input": "2022-07-07T06:48:54.169673Z",
     "iopub.status.busy": "2022-07-07T06:48:54.169317Z",
     "iopub.status.idle": "2022-07-07T06:48:54.179956Z",
     "shell.execute_reply": "2022-07-07T06:48:54.179233Z"
    },
    "papermill": {
     "duration": 0.017417,
     "end_time": "2022-07-07T06:48:54.181480",
     "exception": false,
     "start_time": "2022-07-07T06:48:54.164063",
     "status": "completed"
    },
    "tags": []
   },
   "outputs": [],
   "source": [
    "write_numpy(datalake_root(P) / \"raw\" / \"digits.numpy\", X)\n",
    "write_numpy(datalake_root(P) / \"raw\" / \"labels.numpy\", y)"
   ]
  },
  {
   "cell_type": "code",
   "execution_count": null,
   "id": "6f9ef4c7",
   "metadata": {
    "papermill": {
     "duration": 0.002863,
     "end_time": "2022-07-07T06:48:54.186910",
     "exception": false,
     "start_time": "2022-07-07T06:48:54.184047",
     "status": "completed"
    },
    "tags": []
   },
   "outputs": [],
   "source": []
  }
 ],
 "metadata": {
  "jupytext": {
   "cell_metadata_filter": "tags,-all",
   "main_language": "python",
   "notebook_metadata_filter": "-all"
  },
  "language_info": {
   "codemirror_mode": {
    "name": "ipython",
    "version": 3
   },
   "file_extension": ".py",
   "mimetype": "text/x-python",
   "name": "python",
   "nbconvert_exporter": "python",
   "pygments_lexer": "ipython3",
   "version": "3.8.10"
  },
  "papermill": {
   "default_parameters": {},
   "duration": 3.689851,
   "end_time": "2022-07-07T06:48:55.008581",
   "environment_variables": {},
   "exception": null,
   "input_path": "/home/host_user/workspace/mnist-demo-pipeline/mnist-demo-pipeline/notebooks/temp-notebook-jto1in1i.ipynb",
   "output_path": "notebooks/ingest.ipynb",
   "parameters": {
    "P": {
     "_opentelemetry_traceparent": "00-c6511bb07cc0ac21516750c3f7f46ab0-c375158714a73b05-01",
     "pipeline.data_lake_root": "/pipeline-outputs/data-lake",
     "pipeline.github.actor": "matiasdahl",
     "pipeline.github.base_ref": "",
     "pipeline.github.event_name": "schedule",
     "pipeline.github.head_ref": "",
     "pipeline.github.job": "run-tests-pipeline-and-persist-pipeline-outputs",
     "pipeline.github.ref": "refs/heads/development",
     "pipeline.github.ref_name": "development",
     "pipeline.github.ref_type": "branch",
     "pipeline.github.repository": "pynb-dag-runner/mnist-digits-demo-pipeline",
     "pipeline.github.run_id": "2627678303",
     "pipeline.github.runner_name": "Hosted Agent",
     "pipeline.github.sha": "f934c58f68028b7bb026059d4e87e6d32a1bbd20",
     "pipeline.github.workflow": "Run automated tests, pipeline and deploy results to static reporting site",
     "pipeline.pipeline_run_id": "40b065d9-1904-42b9-bcd7-587daf8f649f",
     "pipeline.run_environment": "ci",
     "run.retry_nr": "10",
     "task.max_nr_retries": "15",
     "task.notebook": "notebooks/ingest.py",
     "task.num_cpus": 1,
     "task.timeout_s": "10"
    }
   },
   "start_time": "2022-07-07T06:48:51.318730",
   "version": "2.3.3"
  }
 },
 "nbformat": 4,
 "nbformat_minor": 5
}