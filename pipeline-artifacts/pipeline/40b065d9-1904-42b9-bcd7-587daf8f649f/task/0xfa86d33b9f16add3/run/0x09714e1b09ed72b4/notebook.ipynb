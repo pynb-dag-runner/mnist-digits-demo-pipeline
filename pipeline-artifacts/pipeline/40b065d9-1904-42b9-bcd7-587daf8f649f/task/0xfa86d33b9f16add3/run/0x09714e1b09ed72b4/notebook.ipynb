{
 "cells": [
  {
   "cell_type": "markdown",
   "id": "138248f1",
   "metadata": {
    "papermill": {
     "duration": 0.018944,
     "end_time": "2022-07-07T06:49:40.495012",
     "exception": false,
     "start_time": "2022-07-07T06:49:40.476068",
     "status": "completed"
    },
    "tags": []
   },
   "source": [
    "# Summarize model performances\n",
    "\n",
    "This notebooks plots the performances (using averaged ROC AUC scores) for models\n",
    "trained with different training sets."
   ]
  },
  {
   "cell_type": "markdown",
   "id": "568c514d",
   "metadata": {
    "papermill": {
     "duration": 0.00243,
     "end_time": "2022-07-07T06:49:40.500660",
     "exception": false,
     "start_time": "2022-07-07T06:49:40.498230",
     "status": "completed"
    },
    "tags": []
   },
   "source": [
    "### Determine run parameters"
   ]
  },
  {
   "cell_type": "code",
   "execution_count": 1,
   "id": "c853f262",
   "metadata": {
    "execution": {
     "iopub.execute_input": "2022-07-07T06:49:40.507289Z",
     "iopub.status.busy": "2022-07-07T06:49:40.506652Z",
     "iopub.status.idle": "2022-07-07T06:49:40.514936Z",
     "shell.execute_reply": "2022-07-07T06:49:40.513436Z"
    },
    "lines_to_next_cell": 0,
    "papermill": {
     "duration": 0.01352,
     "end_time": "2022-07-07T06:49:40.516478",
     "exception": false,
     "start_time": "2022-07-07T06:49:40.502958",
     "status": "completed"
    },
    "tags": []
   },
   "outputs": [],
   "source": [
    "# ----------------- Parameters for interactive development --------------\n",
    "P = {\n",
    "    \"pipeline.run_environment\": \"dev\",\n",
    "}"
   ]
  },
  {
   "cell_type": "code",
   "execution_count": 2,
   "id": "29a2c38a",
   "metadata": {
    "execution": {
     "iopub.execute_input": "2022-07-07T06:49:40.522903Z",
     "iopub.status.busy": "2022-07-07T06:49:40.522571Z",
     "iopub.status.idle": "2022-07-07T06:49:40.525480Z",
     "shell.execute_reply": "2022-07-07T06:49:40.524961Z"
    },
    "lines_to_next_cell": 0,
    "papermill": {
     "duration": 0.00756,
     "end_time": "2022-07-07T06:49:40.526885",
     "exception": false,
     "start_time": "2022-07-07T06:49:40.519325",
     "status": "completed"
    },
    "tags": [
     "parameters"
    ]
   },
   "outputs": [],
   "source": [
    "# - During automated runs parameters will be injected in the below cell -"
   ]
  },
  {
   "cell_type": "code",
   "execution_count": 3,
   "id": "58173b4d",
   "metadata": {
    "execution": {
     "iopub.execute_input": "2022-07-07T06:49:40.532944Z",
     "iopub.status.busy": "2022-07-07T06:49:40.532627Z",
     "iopub.status.idle": "2022-07-07T06:49:40.537089Z",
     "shell.execute_reply": "2022-07-07T06:49:40.536519Z"
    },
    "papermill": {
     "duration": 0.009181,
     "end_time": "2022-07-07T06:49:40.538659",
     "exception": false,
     "start_time": "2022-07-07T06:49:40.529478",
     "status": "completed"
    },
    "tags": [
     "injected-parameters"
    ]
   },
   "outputs": [],
   "source": [
    "# Parameters\n",
    "P = {\n",
    "    \"pipeline.data_lake_root\": \"/pipeline-outputs/data-lake\",\n",
    "    \"pipeline.run_environment\": \"ci\",\n",
    "    \"pipeline.pipeline_run_id\": \"40b065d9-1904-42b9-bcd7-587daf8f649f\",\n",
    "    \"pipeline.github.repository\": \"pynb-dag-runner/mnist-digits-demo-pipeline\",\n",
    "    \"pipeline.github.workflow\": \"Run automated tests, pipeline and deploy results to static reporting site\",\n",
    "    \"pipeline.github.runner_name\": \"Hosted Agent\",\n",
    "    \"pipeline.github.run_id\": \"2627678303\",\n",
    "    \"pipeline.github.actor\": \"matiasdahl\",\n",
    "    \"pipeline.github.job\": \"run-tests-pipeline-and-persist-pipeline-outputs\",\n",
    "    \"pipeline.github.base_ref\": \"\",\n",
    "    \"pipeline.github.head_ref\": \"\",\n",
    "    \"pipeline.github.sha\": \"f934c58f68028b7bb026059d4e87e6d32a1bbd20\",\n",
    "    \"pipeline.github.ref\": \"refs/heads/development\",\n",
    "    \"pipeline.github.ref_type\": \"branch\",\n",
    "    \"pipeline.github.ref_name\": \"development\",\n",
    "    \"pipeline.github.event_name\": \"schedule\",\n",
    "    \"task.notebook\": \"notebooks/summary.py\",\n",
    "    \"task.max_nr_retries\": \"1\",\n",
    "    \"run.retry_nr\": \"0\",\n",
    "    \"task.timeout_s\": \"None\",\n",
    "    \"task.num_cpus\": 1,\n",
    "    \"_opentelemetry_traceparent\": \"00-c6511bb07cc0ac21516750c3f7f46ab0-e0bb639bf6bfaf1a-01\",\n",
    "}\n"
   ]
  },
  {
   "cell_type": "code",
   "execution_count": 4,
   "id": "55b8e881",
   "metadata": {
    "execution": {
     "iopub.execute_input": "2022-07-07T06:49:40.546769Z",
     "iopub.status.busy": "2022-07-07T06:49:40.546351Z",
     "iopub.status.idle": "2022-07-07T06:49:40.549435Z",
     "shell.execute_reply": "2022-07-07T06:49:40.548659Z"
    },
    "lines_to_next_cell": 0,
    "papermill": {
     "duration": 0.009306,
     "end_time": "2022-07-07T06:49:40.550807",
     "exception": false,
     "start_time": "2022-07-07T06:49:40.541501",
     "status": "completed"
    },
    "tags": []
   },
   "outputs": [],
   "source": [
    "# -----------------------------------------------------------------------"
   ]
  },
  {
   "cell_type": "markdown",
   "id": "26bdce5b",
   "metadata": {
    "papermill": {
     "duration": 0.002556,
     "end_time": "2022-07-07T06:49:40.555680",
     "exception": false,
     "start_time": "2022-07-07T06:49:40.553124",
     "status": "completed"
    },
    "tags": []
   },
   "source": [
    "---"
   ]
  },
  {
   "cell_type": "markdown",
   "id": "a6198da8",
   "metadata": {
    "lines_to_next_cell": 2,
    "papermill": {
     "duration": 0.002406,
     "end_time": "2022-07-07T06:49:40.560747",
     "exception": false,
     "start_time": "2022-07-07T06:49:40.558341",
     "status": "completed"
    },
    "tags": []
   },
   "source": [
    "### Notebook code"
   ]
  },
  {
   "cell_type": "code",
   "execution_count": 5,
   "id": "bc54705e",
   "metadata": {
    "execution": {
     "iopub.execute_input": "2022-07-07T06:49:40.566782Z",
     "iopub.status.busy": "2022-07-07T06:49:40.566338Z",
     "iopub.status.idle": "2022-07-07T06:49:41.672971Z",
     "shell.execute_reply": "2022-07-07T06:49:41.672272Z"
    },
    "papermill": {
     "duration": 1.111718,
     "end_time": "2022-07-07T06:49:41.674824",
     "exception": false,
     "start_time": "2022-07-07T06:49:40.563106",
     "status": "completed"
    },
    "tags": []
   },
   "outputs": [],
   "source": [
    "#\n",
    "import pandas as pd\n",
    "import matplotlib.pyplot as plt\n",
    "\n",
    "#\n",
    "from pynb_dag_runner.tasks.task_opentelemetry_logging import PydarLogger"
   ]
  },
  {
   "cell_type": "code",
   "execution_count": 6,
   "id": "7ac47336",
   "metadata": {
    "execution": {
     "iopub.execute_input": "2022-07-07T06:49:41.682984Z",
     "iopub.status.busy": "2022-07-07T06:49:41.682494Z",
     "iopub.status.idle": "2022-07-07T06:49:41.839429Z",
     "shell.execute_reply": "2022-07-07T06:49:41.837934Z"
    },
    "papermill": {
     "duration": 0.163897,
     "end_time": "2022-07-07T06:49:41.841634",
     "exception": false,
     "start_time": "2022-07-07T06:49:41.677737",
     "status": "completed"
    },
    "tags": []
   },
   "outputs": [
    {
     "name": "stderr",
     "output_type": "stream",
     "text": [
      "2022-07-07 06:49:41,686\tINFO worker.py:842 -- Connecting to existing Ray cluster at address: 172.17.0.2:6379\n"
     ]
    }
   ],
   "source": [
    "logger = PydarLogger(P=P)"
   ]
  },
  {
   "cell_type": "code",
   "execution_count": 7,
   "id": "e56dcee5",
   "metadata": {
    "execution": {
     "iopub.execute_input": "2022-07-07T06:49:41.849634Z",
     "iopub.status.busy": "2022-07-07T06:49:41.849257Z",
     "iopub.status.idle": "2022-07-07T06:49:41.853008Z",
     "shell.execute_reply": "2022-07-07T06:49:41.852296Z"
    },
    "papermill": {
     "duration": 0.009336,
     "end_time": "2022-07-07T06:49:41.854894",
     "exception": false,
     "start_time": "2022-07-07T06:49:41.845558",
     "status": "completed"
    },
    "tags": []
   },
   "outputs": [],
   "source": [
    "from pynb_dag_runner.tasks.task_opentelemetry_logging import (\n",
    "    PydarLogger,\n",
    "    get_logged_values,\n",
    ")\n",
    "from pynb_dag_runner.opentelemetry_helpers import _get_all_spans, Spans"
   ]
  },
  {
   "cell_type": "code",
   "execution_count": 8,
   "id": "c864197c",
   "metadata": {
    "execution": {
     "iopub.execute_input": "2022-07-07T06:49:41.863048Z",
     "iopub.status.busy": "2022-07-07T06:49:41.862623Z",
     "iopub.status.idle": "2022-07-07T06:49:41.870594Z",
     "shell.execute_reply": "2022-07-07T06:49:41.869828Z"
    },
    "papermill": {
     "duration": 0.013216,
     "end_time": "2022-07-07T06:49:41.872187",
     "exception": false,
     "start_time": "2022-07-07T06:49:41.858971",
     "status": "completed"
    },
    "tags": []
   },
   "outputs": [],
   "source": [
    "def get_model_benchmarks():\n",
    "    \"\"\"\n",
    "    Query the OpenTelemetry logs for *this pipeline run* and return\n",
    "    all key-values logged from all runs of the benchmark-model.py task\n",
    "\n",
    "    For testing a json file with OpenTelemetry spans (as an array)\n",
    "    can be used as follows:\n",
    "\n",
    "    - Create output directory `mkdir /tmp/spans`\n",
    "    - Run unit tests. This will create pipeline-outputs/opentelemetry-spans.json\n",
    "    - Convert this json-array into jsonl format as follows\n",
    "\n",
    "    jq -c '.[]' /pipeline-outputs/opentelemetry-spans.json > /tmp/spans/data.txt\n",
    "\n",
    "    \"\"\"\n",
    "    spans: Spans = Spans(_get_all_spans())\n",
    "    print(f\"Found {len(spans)} spans\")\n",
    "\n",
    "    benchmark_spans = (\n",
    "        spans\n",
    "        # -\n",
    "        .filter([\"name\"], \"execute-task\")\n",
    "        # -\n",
    "        .filter([\"attributes\", \"task.notebook\"], \"notebooks/benchmark-model.py\")\n",
    "    )\n",
    "\n",
    "    result = []\n",
    "    for s in benchmark_spans:\n",
    "        result.append(\n",
    "            {\n",
    "                \"span_id\": s[\"context\"][\"span_id\"],\n",
    "                \"nr_train_images\": s[\"attributes\"][\"task.nr_train_images\"],\n",
    "                \"data\": get_logged_values(spans.bound_under(s)),\n",
    "            }\n",
    "        )\n",
    "\n",
    "    return result\n",
    "\n",
    "\n",
    "def adjust_pandas(df):\n",
    "    def column_renamer(col_name: str) -> str:\n",
    "        return (\n",
    "            col_name\n",
    "            # -- 'data.roc_auc_per_digit.4' -> 'roc_auc.4'\n",
    "            .replace(\"data.roc_auc_per_digit\", \"roc_auc\")\n",
    "            # -- 'data.roc_auc_class_mean' -> 'roc_auc_mean'\n",
    "            .replace(\"data.roc_auc_class_mean\", \"roc_auc_mean\")\n",
    "        )\n",
    "\n",
    "    return df.rename(column_renamer, axis=\"columns\").sort_values(by=\"nr_train_images\")"
   ]
  },
  {
   "cell_type": "code",
   "execution_count": 9,
   "id": "ab387e6e",
   "metadata": {
    "execution": {
     "iopub.execute_input": "2022-07-07T06:49:41.879001Z",
     "iopub.status.busy": "2022-07-07T06:49:41.878516Z",
     "iopub.status.idle": "2022-07-07T06:50:01.877172Z",
     "shell.execute_reply": "2022-07-07T06:50:01.876294Z"
    },
    "papermill": {
     "duration": 20.004072,
     "end_time": "2022-07-07T06:50:01.878979",
     "exception": false,
     "start_time": "2022-07-07T06:49:41.874907",
     "status": "completed"
    },
    "tags": []
   },
   "outputs": [
    {
     "name": "stdout",
     "output_type": "stream",
     "text": [
      "Found 423 spans\n"
     ]
    }
   ],
   "source": [
    "df_data = adjust_pandas(pd.json_normalize(get_model_benchmarks()))"
   ]
  },
  {
   "cell_type": "code",
   "execution_count": 10,
   "id": "b166ef99",
   "metadata": {
    "execution": {
     "iopub.execute_input": "2022-07-07T06:50:01.886310Z",
     "iopub.status.busy": "2022-07-07T06:50:01.886034Z",
     "iopub.status.idle": "2022-07-07T06:50:01.909980Z",
     "shell.execute_reply": "2022-07-07T06:50:01.909123Z"
    },
    "papermill": {
     "duration": 0.029906,
     "end_time": "2022-07-07T06:50:01.912160",
     "exception": false,
     "start_time": "2022-07-07T06:50:01.882254",
     "status": "completed"
    },
    "tags": []
   },
   "outputs": [
    {
     "data": {
      "text/html": [
       "<div>\n",
       "<style scoped>\n",
       "    .dataframe tbody tr th:only-of-type {\n",
       "        vertical-align: middle;\n",
       "    }\n",
       "\n",
       "    .dataframe tbody tr th {\n",
       "        vertical-align: top;\n",
       "    }\n",
       "\n",
       "    .dataframe thead th {\n",
       "        text-align: right;\n",
       "    }\n",
       "</style>\n",
       "<table border=\"1\" class=\"dataframe\">\n",
       "  <thead>\n",
       "    <tr style=\"text-align: right;\">\n",
       "      <th></th>\n",
       "      <th>span_id</th>\n",
       "      <th>nr_train_images</th>\n",
       "      <th>roc_auc_mean</th>\n",
       "      <th>roc_auc.0</th>\n",
       "      <th>roc_auc.1</th>\n",
       "      <th>roc_auc.2</th>\n",
       "      <th>roc_auc.3</th>\n",
       "      <th>roc_auc.4</th>\n",
       "      <th>roc_auc.5</th>\n",
       "      <th>roc_auc.6</th>\n",
       "      <th>roc_auc.7</th>\n",
       "      <th>roc_auc.8</th>\n",
       "      <th>roc_auc.9</th>\n",
       "    </tr>\n",
       "  </thead>\n",
       "  <tbody>\n",
       "    <tr>\n",
       "      <th>3</th>\n",
       "      <td>0xb76cd112f5887bc6</td>\n",
       "      <td>600</td>\n",
       "      <td>0.9990</td>\n",
       "      <td>1.0</td>\n",
       "      <td>0.9992</td>\n",
       "      <td>1.0</td>\n",
       "      <td>0.9998</td>\n",
       "      <td>0.9991</td>\n",
       "      <td>0.9988</td>\n",
       "      <td>0.9999</td>\n",
       "      <td>0.9998</td>\n",
       "      <td>0.9946</td>\n",
       "      <td>0.9988</td>\n",
       "    </tr>\n",
       "    <tr>\n",
       "      <th>1</th>\n",
       "      <td>0x15dbd2a4b59745b5</td>\n",
       "      <td>800</td>\n",
       "      <td>0.9990</td>\n",
       "      <td>1.0</td>\n",
       "      <td>0.9988</td>\n",
       "      <td>1.0</td>\n",
       "      <td>0.9998</td>\n",
       "      <td>0.9995</td>\n",
       "      <td>0.9993</td>\n",
       "      <td>1.0000</td>\n",
       "      <td>0.9999</td>\n",
       "      <td>0.9932</td>\n",
       "      <td>0.9995</td>\n",
       "    </tr>\n",
       "    <tr>\n",
       "      <th>2</th>\n",
       "      <td>0x85901bb01f5923fd</td>\n",
       "      <td>1000</td>\n",
       "      <td>0.9992</td>\n",
       "      <td>1.0</td>\n",
       "      <td>0.9990</td>\n",
       "      <td>1.0</td>\n",
       "      <td>0.9998</td>\n",
       "      <td>0.9996</td>\n",
       "      <td>0.9994</td>\n",
       "      <td>0.9999</td>\n",
       "      <td>0.9998</td>\n",
       "      <td>0.9953</td>\n",
       "      <td>0.9995</td>\n",
       "    </tr>\n",
       "    <tr>\n",
       "      <th>0</th>\n",
       "      <td>0xbabe0ba4ff08e802</td>\n",
       "      <td>1200</td>\n",
       "      <td>0.9993</td>\n",
       "      <td>1.0</td>\n",
       "      <td>0.9990</td>\n",
       "      <td>1.0</td>\n",
       "      <td>0.9999</td>\n",
       "      <td>0.9998</td>\n",
       "      <td>0.9997</td>\n",
       "      <td>0.9999</td>\n",
       "      <td>0.9998</td>\n",
       "      <td>0.9955</td>\n",
       "      <td>0.9998</td>\n",
       "    </tr>\n",
       "  </tbody>\n",
       "</table>\n",
       "</div>"
      ],
      "text/plain": [
       "              span_id  nr_train_images  roc_auc_mean  roc_auc.0  roc_auc.1  \\\n",
       "3  0xb76cd112f5887bc6              600        0.9990        1.0     0.9992   \n",
       "1  0x15dbd2a4b59745b5              800        0.9990        1.0     0.9988   \n",
       "2  0x85901bb01f5923fd             1000        0.9992        1.0     0.9990   \n",
       "0  0xbabe0ba4ff08e802             1200        0.9993        1.0     0.9990   \n",
       "\n",
       "   roc_auc.2  roc_auc.3  roc_auc.4  roc_auc.5  roc_auc.6  roc_auc.7  \\\n",
       "3        1.0     0.9998     0.9991     0.9988     0.9999     0.9998   \n",
       "1        1.0     0.9998     0.9995     0.9993     1.0000     0.9999   \n",
       "2        1.0     0.9998     0.9996     0.9994     0.9999     0.9998   \n",
       "0        1.0     0.9999     0.9998     0.9997     0.9999     0.9998   \n",
       "\n",
       "   roc_auc.8  roc_auc.9  \n",
       "3     0.9946     0.9988  \n",
       "1     0.9932     0.9995  \n",
       "2     0.9953     0.9995  \n",
       "0     0.9955     0.9998  "
      ]
     },
     "execution_count": 10,
     "metadata": {},
     "output_type": "execute_result"
    }
   ],
   "source": [
    "df_data.round(4)"
   ]
  },
  {
   "cell_type": "code",
   "execution_count": 11,
   "id": "5c961caa",
   "metadata": {
    "execution": {
     "iopub.execute_input": "2022-07-07T06:50:01.921972Z",
     "iopub.status.busy": "2022-07-07T06:50:01.921589Z",
     "iopub.status.idle": "2022-07-07T06:50:02.065712Z",
     "shell.execute_reply": "2022-07-07T06:50:02.064993Z"
    },
    "papermill": {
     "duration": 0.151484,
     "end_time": "2022-07-07T06:50:02.067514",
     "exception": false,
     "start_time": "2022-07-07T06:50:01.916030",
     "status": "completed"
    },
    "tags": []
   },
   "outputs": [
    {
     "data": {
      "image/png": "[encoded data removed]",
      "text/plain": [
       "<Figure size 1152x288 with 1 Axes>"
      ]
     },
     "metadata": {
      "needs_background": "light"
     },
     "output_type": "display_data"
    }
   ],
   "source": [
    "def plot_classifier_performance_summary(df_data):\n",
    "    fig, ax = plt.subplots(nrows=1, ncols=1, figsize=(16, 4), sharex=True)\n",
    "\n",
    "    #\n",
    "    ax.plot(\n",
    "        df_data[\"nr_train_images\"], df_data[\"roc_auc_mean\"], marker=\"o\", linestyle=\"--\"\n",
    "    )\n",
    "    ax.set_title(\n",
    "        f\"ROC AUC digit classifier performance on evaluation digits\", fontsize=17\n",
    "    )\n",
    "    ax.set_xlabel(\"Total number of digits in training set\", fontsize=14)\n",
    "    ax.set_ylabel(\"Mean ROC AUC\", fontsize=14)\n",
    "\n",
    "    fig.tight_layout()\n",
    "    fig.show()\n",
    "\n",
    "    return fig\n",
    "\n",
    "\n",
    "fig = plot_classifier_performance_summary(df_data)"
   ]
  },
  {
   "cell_type": "code",
   "execution_count": 12,
   "id": "9ff162ee",
   "metadata": {
    "execution": {
     "iopub.execute_input": "2022-07-07T06:50:02.076373Z",
     "iopub.status.busy": "2022-07-07T06:50:02.075996Z",
     "iopub.status.idle": "2022-07-07T06:50:02.132577Z",
     "shell.execute_reply": "2022-07-07T06:50:02.131906Z"
    },
    "papermill": {
     "duration": 0.063334,
     "end_time": "2022-07-07T06:50:02.134785",
     "exception": false,
     "start_time": "2022-07-07T06:50:02.071451",
     "status": "completed"
    },
    "tags": []
   },
   "outputs": [],
   "source": [
    "logger.log_figure(\"auc-roc-model-performances.png\", fig)"
   ]
  },
  {
   "cell_type": "code",
   "execution_count": 13,
   "id": "4a03b284",
   "metadata": {
    "execution": {
     "iopub.execute_input": "2022-07-07T06:50:02.143460Z",
     "iopub.status.busy": "2022-07-07T06:50:02.143211Z",
     "iopub.status.idle": "2022-07-07T06:50:02.146250Z",
     "shell.execute_reply": "2022-07-07T06:50:02.145608Z"
    },
    "papermill": {
     "duration": 0.009324,
     "end_time": "2022-07-07T06:50:02.147774",
     "exception": false,
     "start_time": "2022-07-07T06:50:02.138450",
     "status": "completed"
    },
    "tags": []
   },
   "outputs": [],
   "source": [
    "###"
   ]
  },
  {
   "cell_type": "code",
   "execution_count": null,
   "id": "bc7e1b8b",
   "metadata": {
    "papermill": {
     "duration": 0.003618,
     "end_time": "2022-07-07T06:50:02.154937",
     "exception": false,
     "start_time": "2022-07-07T06:50:02.151319",
     "status": "completed"
    },
    "tags": []
   },
   "outputs": [],
   "source": []
  }
 ],
 "metadata": {
  "jupytext": {
   "cell_metadata_filter": "tags,-all",
   "main_language": "python",
   "notebook_metadata_filter": "-all"
  },
  "language_info": {
   "codemirror_mode": {
    "name": "ipython",
    "version": 3
   },
   "file_extension": ".py",
   "mimetype": "text/x-python",
   "name": "python",
   "nbconvert_exporter": "python",
   "pygments_lexer": "ipython3",
   "version": "3.8.10"
  },
  "papermill": {
   "default_parameters": {},
   "duration": 23.752944,
   "end_time": "2022-07-07T06:50:03.076925",
   "environment_variables": {},
   "exception": null,
   "input_path": "/home/host_user/workspace/mnist-demo-pipeline/mnist-demo-pipeline/notebooks/temp-notebook-ruink6z4.ipynb",
   "output_path": "notebooks/summary.ipynb",
   "parameters": {
    "P": {
     "_opentelemetry_traceparent": "00-c6511bb07cc0ac21516750c3f7f46ab0-e0bb639bf6bfaf1a-01",
     "pipeline.data_lake_root": "/pipeline-outputs/data-lake",
     "pipeline.github.actor": "matiasdahl",
     "pipeline.github.base_ref": "",
     "pipeline.github.event_name": "schedule",
     "pipeline.github.head_ref": "",
     "pipeline.github.job": "run-tests-pipeline-and-persist-pipeline-outputs",
     "pipeline.github.ref": "refs/heads/development",
     "pipeline.github.ref_name": "development",
     "pipeline.github.ref_type": "branch",
     "pipeline.github.repository": "pynb-dag-runner/mnist-digits-demo-pipeline",
     "pipeline.github.run_id": "2627678303",
     "pipeline.github.runner_name": "Hosted Agent",
     "pipeline.github.sha": "f934c58f68028b7bb026059d4e87e6d32a1bbd20",
     "pipeline.github.workflow": "Run automated tests, pipeline and deploy results to static reporting site",
     "pipeline.pipeline_run_id": "40b065d9-1904-42b9-bcd7-587daf8f649f",
     "pipeline.run_environment": "ci",
     "run.retry_nr": "0",
     "task.max_nr_retries": "1",
     "task.notebook": "notebooks/summary.py",
     "task.num_cpus": 1,
     "task.timeout_s": "None"
    }
   },
   "start_time": "2022-07-07T06:49:39.323981",
   "version": "2.3.3"
  }
 },
 "nbformat": 4,
 "nbformat_minor": 5
}