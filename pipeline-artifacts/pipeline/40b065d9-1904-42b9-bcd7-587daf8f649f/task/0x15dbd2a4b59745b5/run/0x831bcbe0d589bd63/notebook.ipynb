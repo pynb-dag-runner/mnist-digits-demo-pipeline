{
 "cells": [
  {
   "cell_type": "markdown",
   "id": "6183d591",
   "metadata": {
    "papermill": {
     "duration": 0.005254,
     "end_time": "2022-07-07T06:49:26.738729",
     "exception": false,
     "start_time": "2022-07-07T06:49:26.733475",
     "status": "completed"
    },
    "tags": []
   },
   "source": [
    "# Benchmark model\n",
    "\n",
    "The purpose of this notebook is to benchmark persisted onnx-model (trained in the\n",
    "previous step) against evaluation set."
   ]
  },
  {
   "cell_type": "markdown",
   "id": "47be872d",
   "metadata": {
    "papermill": {
     "duration": 0.00368,
     "end_time": "2022-07-07T06:49:26.746559",
     "exception": false,
     "start_time": "2022-07-07T06:49:26.742879",
     "status": "completed"
    },
    "tags": []
   },
   "source": [
    "### Determine run parameters"
   ]
  },
  {
   "cell_type": "code",
   "execution_count": 1,
   "id": "e54e7c57",
   "metadata": {
    "execution": {
     "iopub.execute_input": "2022-07-07T06:49:26.755627Z",
     "iopub.status.busy": "2022-07-07T06:49:26.755287Z",
     "iopub.status.idle": "2022-07-07T06:49:26.762800Z",
     "shell.execute_reply": "2022-07-07T06:49:26.761979Z"
    },
    "lines_to_next_cell": 0,
    "papermill": {
     "duration": 0.013948,
     "end_time": "2022-07-07T06:49:26.764317",
     "exception": false,
     "start_time": "2022-07-07T06:49:26.750369",
     "status": "completed"
    },
    "tags": []
   },
   "outputs": [],
   "source": [
    "# ----------------- Parameters for interactive development --------------\n",
    "P = {\n",
    "    \"pipeline.data_lake_root\": \"/pipeline-outputs/data-lake\",\n",
    "    \"task.nr_train_images\": 600,\n",
    "}"
   ]
  },
  {
   "cell_type": "code",
   "execution_count": 2,
   "id": "58c7da06",
   "metadata": {
    "execution": {
     "iopub.execute_input": "2022-07-07T06:49:26.773843Z",
     "iopub.status.busy": "2022-07-07T06:49:26.773120Z",
     "iopub.status.idle": "2022-07-07T06:49:26.776513Z",
     "shell.execute_reply": "2022-07-07T06:49:26.775907Z"
    },
    "lines_to_next_cell": 0,
    "papermill": {
     "duration": 0.009733,
     "end_time": "2022-07-07T06:49:26.777990",
     "exception": false,
     "start_time": "2022-07-07T06:49:26.768257",
     "status": "completed"
    },
    "tags": [
     "parameters"
    ]
   },
   "outputs": [],
   "source": [
    "# - During automated runs parameters will be injected in the below cell -"
   ]
  },
  {
   "cell_type": "code",
   "execution_count": 3,
   "id": "95cc9fd8",
   "metadata": {
    "execution": {
     "iopub.execute_input": "2022-07-07T06:49:26.787428Z",
     "iopub.status.busy": "2022-07-07T06:49:26.786924Z",
     "iopub.status.idle": "2022-07-07T06:49:26.791789Z",
     "shell.execute_reply": "2022-07-07T06:49:26.791224Z"
    },
    "papermill": {
     "duration": 0.011222,
     "end_time": "2022-07-07T06:49:26.793527",
     "exception": false,
     "start_time": "2022-07-07T06:49:26.782305",
     "status": "completed"
    },
    "tags": [
     "injected-parameters"
    ]
   },
   "outputs": [],
   "source": [
    "# Parameters\n",
    "P = {\n",
    "    \"pipeline.data_lake_root\": \"/pipeline-outputs/data-lake\",\n",
    "    \"pipeline.run_environment\": \"ci\",\n",
    "    \"pipeline.pipeline_run_id\": \"40b065d9-1904-42b9-bcd7-587daf8f649f\",\n",
    "    \"pipeline.github.repository\": \"pynb-dag-runner/mnist-digits-demo-pipeline\",\n",
    "    \"pipeline.github.workflow\": \"Run automated tests, pipeline and deploy results to static reporting site\",\n",
    "    \"pipeline.github.runner_name\": \"Hosted Agent\",\n",
    "    \"pipeline.github.run_id\": \"2627678303\",\n",
    "    \"pipeline.github.actor\": \"matiasdahl\",\n",
    "    \"pipeline.github.job\": \"run-tests-pipeline-and-persist-pipeline-outputs\",\n",
    "    \"pipeline.github.base_ref\": \"\",\n",
    "    \"pipeline.github.head_ref\": \"\",\n",
    "    \"pipeline.github.sha\": \"f934c58f68028b7bb026059d4e87e6d32a1bbd20\",\n",
    "    \"pipeline.github.ref\": \"refs/heads/development\",\n",
    "    \"pipeline.github.ref_type\": \"branch\",\n",
    "    \"pipeline.github.ref_name\": \"development\",\n",
    "    \"pipeline.github.event_name\": \"schedule\",\n",
    "    \"task.nr_train_images\": 800,\n",
    "    \"task.notebook\": \"notebooks/benchmark-model.py\",\n",
    "    \"task.max_nr_retries\": \"1\",\n",
    "    \"run.retry_nr\": \"0\",\n",
    "    \"task.timeout_s\": \"None\",\n",
    "    \"task.num_cpus\": 1,\n",
    "    \"_opentelemetry_traceparent\": \"00-c6511bb07cc0ac21516750c3f7f46ab0-5a113f60f4848304-01\",\n",
    "}\n"
   ]
  },
  {
   "cell_type": "code",
   "execution_count": 4,
   "id": "db0e1c66",
   "metadata": {
    "execution": {
     "iopub.execute_input": "2022-07-07T06:49:26.802155Z",
     "iopub.status.busy": "2022-07-07T06:49:26.801758Z",
     "iopub.status.idle": "2022-07-07T06:49:26.804816Z",
     "shell.execute_reply": "2022-07-07T06:49:26.804171Z"
    },
    "lines_to_next_cell": 0,
    "papermill": {
     "duration": 0.008949,
     "end_time": "2022-07-07T06:49:26.806154",
     "exception": false,
     "start_time": "2022-07-07T06:49:26.797205",
     "status": "completed"
    },
    "tags": []
   },
   "outputs": [],
   "source": [
    "# -----------------------------------------------------------------------"
   ]
  },
  {
   "cell_type": "markdown",
   "id": "c9e62672",
   "metadata": {
    "papermill": {
     "duration": 0.00386,
     "end_time": "2022-07-07T06:49:26.815077",
     "exception": false,
     "start_time": "2022-07-07T06:49:26.811217",
     "status": "completed"
    },
    "tags": []
   },
   "source": [
    "---"
   ]
  },
  {
   "cell_type": "markdown",
   "id": "fbc6320b",
   "metadata": {
    "lines_to_next_cell": 2,
    "papermill": {
     "duration": 0.003741,
     "end_time": "2022-07-07T06:49:26.822445",
     "exception": false,
     "start_time": "2022-07-07T06:49:26.818704",
     "status": "completed"
    },
    "tags": []
   },
   "source": [
    "### Notebook code"
   ]
  },
  {
   "cell_type": "code",
   "execution_count": 5,
   "id": "bc35de69",
   "metadata": {
    "execution": {
     "iopub.execute_input": "2022-07-07T06:49:26.832536Z",
     "iopub.status.busy": "2022-07-07T06:49:26.832110Z",
     "iopub.status.idle": "2022-07-07T06:49:28.001662Z",
     "shell.execute_reply": "2022-07-07T06:49:28.001059Z"
    },
    "papermill": {
     "duration": 1.178093,
     "end_time": "2022-07-07T06:49:28.004381",
     "exception": false,
     "start_time": "2022-07-07T06:49:26.826288",
     "status": "completed"
    },
    "tags": []
   },
   "outputs": [
    {
     "name": "stderr",
     "output_type": "stream",
     "text": [
      "2022-07-07 06:49:27,827\tINFO worker.py:842 -- Connecting to existing Ray cluster at address: 172.17.0.2:6379\n"
     ]
    }
   ],
   "source": [
    "import itertools as it\n",
    "\n",
    "#\n",
    "import numpy as np\n",
    "import matplotlib.pyplot as plt\n",
    "\n",
    "#\n",
    "from pynb_dag_runner.tasks.task_opentelemetry_logging import PydarLogger\n",
    "\n",
    "#\n",
    "from common.io import datalake_root\n",
    "\n",
    "logger = PydarLogger(P)"
   ]
  },
  {
   "cell_type": "markdown",
   "id": "9b586503",
   "metadata": {
    "papermill": {
     "duration": 0.004904,
     "end_time": "2022-07-07T06:49:28.014094",
     "exception": false,
     "start_time": "2022-07-07T06:49:28.009190",
     "status": "completed"
    },
    "tags": []
   },
   "source": [
    "## Load persisted onnx-model and evaluation data"
   ]
  },
  {
   "cell_type": "code",
   "execution_count": 6,
   "id": "4a2dc735",
   "metadata": {
    "execution": {
     "iopub.execute_input": "2022-07-07T06:49:28.023646Z",
     "iopub.status.busy": "2022-07-07T06:49:28.023116Z",
     "iopub.status.idle": "2022-07-07T06:49:28.026442Z",
     "shell.execute_reply": "2022-07-07T06:49:28.025880Z"
    },
    "papermill": {
     "duration": 0.010478,
     "end_time": "2022-07-07T06:49:28.028521",
     "exception": false,
     "start_time": "2022-07-07T06:49:28.018043",
     "status": "completed"
    },
    "tags": []
   },
   "outputs": [],
   "source": [
    "from common.io import read_onnx, get_onnx_inputs, get_onnx_outputs, read_numpy"
   ]
  },
  {
   "cell_type": "code",
   "execution_count": 7,
   "id": "22fd55be",
   "metadata": {
    "execution": {
     "iopub.execute_input": "2022-07-07T06:49:28.037331Z",
     "iopub.status.busy": "2022-07-07T06:49:28.037117Z",
     "iopub.status.idle": "2022-07-07T06:49:28.046799Z",
     "shell.execute_reply": "2022-07-07T06:49:28.046264Z"
    },
    "lines_to_next_cell": 0,
    "papermill": {
     "duration": 0.01601,
     "end_time": "2022-07-07T06:49:28.048479",
     "exception": false,
     "start_time": "2022-07-07T06:49:28.032469",
     "status": "completed"
    },
    "tags": []
   },
   "outputs": [],
   "source": [
    "onnx_inference_session = read_onnx(\n",
    "    datalake_root(P)\n",
    "    / \"models\"\n",
    "    / f\"nr_train_images={P['task.nr_train_images']}\"\n",
    "    / \"model.onnx\"\n",
    ")"
   ]
  },
  {
   "cell_type": "markdown",
   "id": "fa5cc1fe",
   "metadata": {
    "papermill": {
     "duration": 0.004026,
     "end_time": "2022-07-07T06:49:28.056289",
     "exception": false,
     "start_time": "2022-07-07T06:49:28.052263",
     "status": "completed"
    },
    "tags": []
   },
   "source": [
    "### Record structure of inputs and outputs for ONNX model\n",
    "\n",
    "(this should likely be done in training notebook)"
   ]
  },
  {
   "cell_type": "code",
   "execution_count": 8,
   "id": "6f1030b4",
   "metadata": {
    "execution": {
     "iopub.execute_input": "2022-07-07T06:49:28.064861Z",
     "iopub.status.busy": "2022-07-07T06:49:28.064641Z",
     "iopub.status.idle": "2022-07-07T06:49:28.070339Z",
     "shell.execute_reply": "2022-07-07T06:49:28.069814Z"
    },
    "papermill": {
     "duration": 0.013174,
     "end_time": "2022-07-07T06:49:28.073273",
     "exception": false,
     "start_time": "2022-07-07T06:49:28.060099",
     "status": "completed"
    },
    "tags": []
   },
   "outputs": [
    {
     "name": "stdout",
     "output_type": "stream",
     "text": [
      "{\n",
      "  \"inputs\": [\n",
      "    {\n",
      "      \"name\": \"float_input_8x8_image\",\n",
      "      \"shape\": [\n",
      "        null,\n",
      "        64\n",
      "      ],\n",
      "      \"type\": \"tensor(float)\"\n",
      "    }\n",
      "  ],\n",
      "  \"outputs\": [\n",
      "    {\n",
      "      \"name\": \"output_label\",\n",
      "      \"shape\": [\n",
      "        null\n",
      "      ],\n",
      "      \"type\": \"tensor(int64)\"\n",
      "    },\n",
      "    {\n",
      "      \"name\": \"output_probability\",\n",
      "      \"shape\": [],\n",
      "      \"type\": \"seq(map(int64,tensor(float)))\"\n",
      "    }\n",
      "  ]\n",
      "}\n"
     ]
    }
   ],
   "source": [
    "import json\n",
    "\n",
    "onnx_io = json.dumps(\n",
    "    {\n",
    "        \"inputs\": get_onnx_inputs(onnx_inference_session),\n",
    "        \"outputs\": get_onnx_outputs(onnx_inference_session),\n",
    "    },\n",
    "    indent=2,\n",
    ")\n",
    "\n",
    "\n",
    "logger.log_artefact(\"onnx_io_structure.json\", onnx_io)\n",
    "print(onnx_io)"
   ]
  },
  {
   "cell_type": "markdown",
   "id": "5b6dbb6f",
   "metadata": {
    "papermill": {
     "duration": 0.004032,
     "end_time": "2022-07-07T06:49:28.081229",
     "exception": false,
     "start_time": "2022-07-07T06:49:28.077197",
     "status": "completed"
    },
    "tags": []
   },
   "source": [
    "### Evaluate model performance on evaluation data set"
   ]
  },
  {
   "cell_type": "code",
   "execution_count": 9,
   "id": "37c3ba6b",
   "metadata": {
    "execution": {
     "iopub.execute_input": "2022-07-07T06:49:28.089984Z",
     "iopub.status.busy": "2022-07-07T06:49:28.089762Z",
     "iopub.status.idle": "2022-07-07T06:49:28.093884Z",
     "shell.execute_reply": "2022-07-07T06:49:28.093360Z"
    },
    "papermill": {
     "duration": 0.011069,
     "end_time": "2022-07-07T06:49:28.096059",
     "exception": false,
     "start_time": "2022-07-07T06:49:28.084990",
     "status": "completed"
    },
    "tags": []
   },
   "outputs": [],
   "source": [
    "# load evaluation data\n",
    "X_test = read_numpy(datalake_root(P) / \"test-data\" / \"digits.numpy\")\n",
    "y_test = read_numpy(datalake_root(P) / \"test-data\" / \"labels.numpy\")"
   ]
  },
  {
   "cell_type": "code",
   "execution_count": 10,
   "id": "86a52459",
   "metadata": {
    "execution": {
     "iopub.execute_input": "2022-07-07T06:49:28.105178Z",
     "iopub.status.busy": "2022-07-07T06:49:28.104953Z",
     "iopub.status.idle": "2022-07-07T06:49:28.117666Z",
     "shell.execute_reply": "2022-07-07T06:49:28.117152Z"
    },
    "papermill": {
     "duration": 0.019079,
     "end_time": "2022-07-07T06:49:28.119325",
     "exception": false,
     "start_time": "2022-07-07T06:49:28.100246",
     "status": "completed"
    },
    "tags": []
   },
   "outputs": [],
   "source": [
    "def get_model_outputs(X, onnx_inference_session):\n",
    "    y_pred_labels, y_pred_map = onnx_inference_session.run(\n",
    "        [\"output_label\", \"output_probability\"],\n",
    "        {\"float_input_8x8_image\": X.astype(np.float32)},\n",
    "    )\n",
    "    y_pred_probs = np.array(\n",
    "        [[probabilities[digit] for digit in range(10)] for probabilities in y_pred_map]\n",
    "    )\n",
    "\n",
    "    assert y_pred_labels.shape == (X.shape[0],)\n",
    "    assert y_pred_probs.shape == (X.shape[0], 10)\n",
    "\n",
    "    return y_pred_labels, y_pred_probs\n",
    "\n",
    "\n",
    "# Note: as shown in the training notebook, the predicted labels and probabilities\n",
    "# computed below need not be compatible.\n",
    "y_pred_labels_test, y_pred_probs_test = get_model_outputs(\n",
    "    X_test, onnx_inference_session\n",
    ")"
   ]
  },
  {
   "cell_type": "markdown",
   "id": "a865e85d",
   "metadata": {
    "papermill": {
     "duration": 0.004376,
     "end_time": "2022-07-07T06:49:28.127720",
     "exception": false,
     "start_time": "2022-07-07T06:49:28.123344",
     "status": "completed"
    },
    "tags": []
   },
   "source": [
    "### Confusion matrix"
   ]
  },
  {
   "cell_type": "code",
   "execution_count": 11,
   "id": "1f10b00b",
   "metadata": {
    "execution": {
     "iopub.execute_input": "2022-07-07T06:49:28.137162Z",
     "iopub.status.busy": "2022-07-07T06:49:28.136411Z",
     "iopub.status.idle": "2022-07-07T06:49:28.139680Z",
     "shell.execute_reply": "2022-07-07T06:49:28.139109Z"
    },
    "papermill": {
     "duration": 0.010404,
     "end_time": "2022-07-07T06:49:28.142029",
     "exception": false,
     "start_time": "2022-07-07T06:49:28.131625",
     "status": "completed"
    },
    "tags": []
   },
   "outputs": [],
   "source": [
    "# TODO"
   ]
  },
  {
   "cell_type": "markdown",
   "id": "c764d1ac",
   "metadata": {
    "papermill": {
     "duration": 0.004144,
     "end_time": "2022-07-07T06:49:28.150682",
     "exception": false,
     "start_time": "2022-07-07T06:49:28.146538",
     "status": "completed"
    },
    "tags": []
   },
   "source": [
    "### Plot predicted probabilities for each classifier over all evaluation digit images"
   ]
  },
  {
   "cell_type": "code",
   "execution_count": 12,
   "id": "406bd145",
   "metadata": {
    "execution": {
     "iopub.execute_input": "2022-07-07T06:49:28.159869Z",
     "iopub.status.busy": "2022-07-07T06:49:28.159593Z",
     "iopub.status.idle": "2022-07-07T06:49:31.278185Z",
     "shell.execute_reply": "2022-07-07T06:49:31.277495Z"
    },
    "papermill": {
     "duration": 3.125344,
     "end_time": "2022-07-07T06:49:31.279955",
     "exception": false,
     "start_time": "2022-07-07T06:49:28.154611",
     "status": "completed"
    },
    "tags": []
   },
   "outputs": [
    {
     "data": {
      "image/png": "[encoded data removed]",
      "text/plain": [
       "<Figure size 1152x432 with 10 Axes>"
      ]
     },
     "metadata": {
      "needs_background": "light"
     },
     "output_type": "display_data"
    }
   ],
   "source": [
    "def plot_per_digit_probabilities(y_pred_probs):\n",
    "    fig, axs = plt.subplots(nrows=2, ncols=5, figsize=(16, 6))\n",
    "\n",
    "    for (r, c), digit, ax in zip(\n",
    "        it.product(range(2), range(5)), range(10), axs.reshape(-1)\n",
    "    ):\n",
    "        ax.hist(y_pred_probs_test[:, digit], bins=20)\n",
    "\n",
    "        ax.set_title(f\"Digit {digit}\")\n",
    "        if r == 1 and c == 2:\n",
    "            ax.set_xlabel(\"probability\", fontsize=16)\n",
    "\n",
    "        if c == 0:\n",
    "            ax.set_ylabel(\"counts\", fontsize=16)\n",
    "        ax.set_yscale(\"log\")\n",
    "\n",
    "    fig.tight_layout()\n",
    "    fig.suptitle(\n",
    "        f\"Distributions of prediction probabilities for each digit \"\n",
    "        f\"(on evaluation data, n={y_pred_probs.shape[0]})\",\n",
    "        fontsize=20,\n",
    "    )\n",
    "    fig.tight_layout()\n",
    "    fig.show()\n",
    "\n",
    "    return fig\n",
    "\n",
    "\n",
    "fig = plot_per_digit_probabilities(y_pred_probs_test)"
   ]
  },
  {
   "cell_type": "markdown",
   "id": "c5e158ad",
   "metadata": {
    "papermill": {
     "duration": 0.005404,
     "end_time": "2022-07-07T06:49:31.290255",
     "exception": false,
     "start_time": "2022-07-07T06:49:31.284851",
     "status": "completed"
    },
    "tags": []
   },
   "source": [
    "From the above distributions we see that most digits have clear separation between\n",
    "high and lower probabilities. Morover, in each case there is roughly an order of\n",
    "magnitude more of digits with low probabilities. This is compatible with digits\n",
    "being roughly evenly distributed in the data."
   ]
  },
  {
   "cell_type": "code",
   "execution_count": 13,
   "id": "6434f52e",
   "metadata": {
    "execution": {
     "iopub.execute_input": "2022-07-07T06:49:31.302006Z",
     "iopub.status.busy": "2022-07-07T06:49:31.301619Z",
     "iopub.status.idle": "2022-07-07T06:49:31.754568Z",
     "shell.execute_reply": "2022-07-07T06:49:31.753207Z"
    },
    "papermill": {
     "duration": 0.461064,
     "end_time": "2022-07-07T06:49:31.756365",
     "exception": false,
     "start_time": "2022-07-07T06:49:31.295301",
     "status": "completed"
    },
    "tags": []
   },
   "outputs": [],
   "source": [
    "logger.log_figure(\"per-digit-probabilities.png\", fig)"
   ]
  },
  {
   "cell_type": "markdown",
   "id": "2f559248",
   "metadata": {
    "papermill": {
     "duration": 0.004892,
     "end_time": "2022-07-07T06:49:31.768115",
     "exception": false,
     "start_time": "2022-07-07T06:49:31.763223",
     "status": "completed"
    },
    "tags": []
   },
   "source": [
    "### Plot ROC curves for individual one-vs-rest classifiers"
   ]
  },
  {
   "cell_type": "code",
   "execution_count": 14,
   "id": "04db8da6",
   "metadata": {
    "execution": {
     "iopub.execute_input": "2022-07-07T06:49:31.778916Z",
     "iopub.status.busy": "2022-07-07T06:49:31.778629Z",
     "iopub.status.idle": "2022-07-07T06:49:32.183428Z",
     "shell.execute_reply": "2022-07-07T06:49:32.182716Z"
    },
    "papermill": {
     "duration": 0.412468,
     "end_time": "2022-07-07T06:49:32.185497",
     "exception": false,
     "start_time": "2022-07-07T06:49:31.773029",
     "status": "completed"
    },
    "tags": []
   },
   "outputs": [],
   "source": [
    "from sklearn import metrics"
   ]
  },
  {
   "cell_type": "code",
   "execution_count": 15,
   "id": "ab2441cd",
   "metadata": {
    "execution": {
     "iopub.execute_input": "2022-07-07T06:49:32.198216Z",
     "iopub.status.busy": "2022-07-07T06:49:32.197892Z",
     "iopub.status.idle": "2022-07-07T06:49:33.243946Z",
     "shell.execute_reply": "2022-07-07T06:49:33.243242Z"
    },
    "papermill": {
     "duration": 1.055048,
     "end_time": "2022-07-07T06:49:33.245956",
     "exception": false,
     "start_time": "2022-07-07T06:49:32.190908",
     "status": "completed"
    },
    "tags": []
   },
   "outputs": [
    {
     "data": {
      "image/png": "[encoded data removed]",
      "text/plain": [
       "<Figure size 1152x576 with 10 Axes>"
      ]
     },
     "metadata": {
      "needs_background": "light"
     },
     "output_type": "display_data"
    }
   ],
   "source": [
    "def plot_roc_curves(y, y_pred_probs):\n",
    "    # based on example code\n",
    "    # https://scikit-learn.org/stable/auto_examples/model_selection/plot_roc.html\n",
    "\n",
    "    fig, axs = plt.subplots(nrows=2, ncols=5, figsize=(16, 8))\n",
    "\n",
    "    roc_auc_dict = {}\n",
    "\n",
    "    for (r, c), digit, ax in zip(\n",
    "        it.product(range(2), range(5)), range(10), axs.reshape(-1)\n",
    "    ):\n",
    "        fpr, tpr, _ = metrics.roc_curve(y == digit, y_pred_probs[:, digit])\n",
    "        auc = metrics.auc(fpr, tpr)\n",
    "        roc_auc_dict[str(digit)] = auc\n",
    "\n",
    "        ax.plot(fpr, tpr, label=f\"ROC AUC={round(auc, 3)}\")\n",
    "\n",
    "        ax.set_title(f\"\\nDigit {digit}\", fontsize=16)\n",
    "        if r == 1:\n",
    "            ax.set_xlabel(\"FPR\", fontsize=18)\n",
    "\n",
    "        if c == 0:\n",
    "            ax.set_ylabel(\"TPR\", fontsize=18)\n",
    "\n",
    "        ax.set_xlim([-0.05, 1.05])\n",
    "        ax.set_ylim([-0.05, 1.05])\n",
    "        ax.legend(loc=\"lower right\", frameon=False, fontsize=14)\n",
    "\n",
    "    fig.tight_layout()\n",
    "    fig.suptitle(\n",
    "        f\"ROC plots for one-vs-rest performances \"\n",
    "        f\"(on evaluation data, n={y_pred_probs_test.shape[1]}\",\n",
    "        fontsize=22,\n",
    "    )\n",
    "    fig.tight_layout()\n",
    "    fig.show()\n",
    "\n",
    "    return roc_auc_dict, fig\n",
    "\n",
    "\n",
    "roc_auc_dict, fig = plot_roc_curves(y_test, y_pred_probs_test)"
   ]
  },
  {
   "cell_type": "code",
   "execution_count": 16,
   "id": "47bd92e2",
   "metadata": {
    "execution": {
     "iopub.execute_input": "2022-07-07T06:49:33.259263Z",
     "iopub.status.busy": "2022-07-07T06:49:33.258852Z",
     "iopub.status.idle": "2022-07-07T06:49:33.482118Z",
     "shell.execute_reply": "2022-07-07T06:49:33.481515Z"
    },
    "papermill": {
     "duration": 0.232081,
     "end_time": "2022-07-07T06:49:33.484111",
     "exception": false,
     "start_time": "2022-07-07T06:49:33.252030",
     "status": "completed"
    },
    "tags": []
   },
   "outputs": [],
   "source": [
    "logger.log_figure(\"per-digit-roc-curves.png\", fig)"
   ]
  },
  {
   "cell_type": "code",
   "execution_count": 17,
   "id": "eb656cb5",
   "metadata": {
    "execution": {
     "iopub.execute_input": "2022-07-07T06:49:33.505889Z",
     "iopub.status.busy": "2022-07-07T06:49:33.505219Z",
     "iopub.status.idle": "2022-07-07T06:49:33.510599Z",
     "shell.execute_reply": "2022-07-07T06:49:33.509920Z"
    },
    "papermill": {
     "duration": 0.015023,
     "end_time": "2022-07-07T06:49:33.513319",
     "exception": false,
     "start_time": "2022-07-07T06:49:33.498296",
     "status": "completed"
    },
    "tags": []
   },
   "outputs": [
    {
     "data": {
      "text/plain": [
       "{'0': 1.0,\n",
       " '1': 0.9988003748828491,\n",
       " '2': 1.0,\n",
       " '3': 0.9998125585754452,\n",
       " '4': 0.9994665447340345,\n",
       " '5': 0.9993252108716026,\n",
       " '6': 0.999961896052431,\n",
       " '7': 0.9998856881572931,\n",
       " '8': 0.9932219419924337,\n",
       " '9': 0.9994665447340345}"
      ]
     },
     "execution_count": 17,
     "metadata": {},
     "output_type": "execute_result"
    }
   ],
   "source": [
    "roc_auc_dict"
   ]
  },
  {
   "cell_type": "code",
   "execution_count": 18,
   "id": "67785a28",
   "metadata": {
    "execution": {
     "iopub.execute_input": "2022-07-07T06:49:33.525877Z",
     "iopub.status.busy": "2022-07-07T06:49:33.525502Z",
     "iopub.status.idle": "2022-07-07T06:49:33.530289Z",
     "shell.execute_reply": "2022-07-07T06:49:33.529639Z"
    },
    "papermill": {
     "duration": 0.013571,
     "end_time": "2022-07-07T06:49:33.532693",
     "exception": false,
     "start_time": "2022-07-07T06:49:33.519122",
     "status": "completed"
    },
    "tags": []
   },
   "outputs": [
    {
     "name": "stdout",
     "output_type": "stream",
     "text": [
      " - Logging roc_auc_per_digit (json) : {'0': 1.0, '1': 0.9988003748828491, '2': 1.0, '3': 0.9998125585754452, '4': 0.9994665447340345, '5': 0.9993252108716026, '6': 0.999961896052431, '7': 0.9998856881572931, '8': 0.9932219419924337, '9': 0.9994665447340345}\n"
     ]
    }
   ],
   "source": [
    "logger.log_value(\"roc_auc_per_digit\", roc_auc_dict)"
   ]
  },
  {
   "cell_type": "markdown",
   "id": "c3b081b7",
   "metadata": {
    "papermill": {
     "duration": 0.005585,
     "end_time": "2022-07-07T06:49:33.543503",
     "exception": false,
     "start_time": "2022-07-07T06:49:33.537918",
     "status": "completed"
    },
    "tags": []
   },
   "source": [
    "### Compute and log mean ROC AUC score averaged over all digits"
   ]
  },
  {
   "cell_type": "code",
   "execution_count": 19,
   "id": "fe5230ec",
   "metadata": {
    "execution": {
     "iopub.execute_input": "2022-07-07T06:49:33.555529Z",
     "iopub.status.busy": "2022-07-07T06:49:33.555187Z",
     "iopub.status.idle": "2022-07-07T06:49:33.570071Z",
     "shell.execute_reply": "2022-07-07T06:49:33.569344Z"
    },
    "papermill": {
     "duration": 0.02254,
     "end_time": "2022-07-07T06:49:33.571670",
     "exception": false,
     "start_time": "2022-07-07T06:49:33.549130",
     "status": "completed"
    },
    "tags": []
   },
   "outputs": [
    {
     "name": "stdout",
     "output_type": "stream",
     "text": [
      " - Logging roc_auc_class_mean (float) : 0.9989940760000124\n"
     ]
    }
   ],
   "source": [
    "roc_auc_macro = np.mean(list(roc_auc_dict.values()))\n",
    "\n",
    "logger.log_float(\"roc_auc_class_mean\", roc_auc_macro)\n",
    "\n",
    "# assert that the same value can be computed directly using sklearn\n",
    "assert roc_auc_macro == metrics.roc_auc_score(\n",
    "    y_test, y_pred_probs_test, average=\"macro\", multi_class=\"ovr\"\n",
    ")"
   ]
  },
  {
   "cell_type": "code",
   "execution_count": 20,
   "id": "a663254f",
   "metadata": {
    "execution": {
     "iopub.execute_input": "2022-07-07T06:49:33.584482Z",
     "iopub.status.busy": "2022-07-07T06:49:33.584179Z",
     "iopub.status.idle": "2022-07-07T06:49:33.587216Z",
     "shell.execute_reply": "2022-07-07T06:49:33.586533Z"
    },
    "lines_to_next_cell": 0,
    "papermill": {
     "duration": 0.011609,
     "end_time": "2022-07-07T06:49:33.588959",
     "exception": false,
     "start_time": "2022-07-07T06:49:33.577350",
     "status": "completed"
    },
    "tags": []
   },
   "outputs": [],
   "source": [
    "# ---"
   ]
  },
  {
   "cell_type": "code",
   "execution_count": null,
   "id": "bae2a1a0",
   "metadata": {
    "papermill": {
     "duration": 0.006529,
     "end_time": "2022-07-07T06:49:33.606209",
     "exception": false,
     "start_time": "2022-07-07T06:49:33.599680",
     "status": "completed"
    },
    "tags": []
   },
   "outputs": [],
   "source": []
  }
 ],
 "metadata": {
  "jupytext": {
   "cell_metadata_filter": "tags,-all",
   "main_language": "python",
   "notebook_metadata_filter": "-all"
  },
  "language_info": {
   "codemirror_mode": {
    "name": "ipython",
    "version": 3
   },
   "file_extension": ".py",
   "mimetype": "text/x-python",
   "name": "python",
   "nbconvert_exporter": "python",
   "pygments_lexer": "ipython3",
   "version": "3.8.10"
  },
  "papermill": {
   "default_parameters": {},
   "duration": 9.309731,
   "end_time": "2022-07-07T06:49:34.630917",
   "environment_variables": {},
   "exception": null,
   "input_path": "/home/host_user/workspace/mnist-demo-pipeline/mnist-demo-pipeline/notebooks/temp-notebook-rhqvxztv.ipynb",
   "output_path": "notebooks/benchmark-model.ipynb",
   "parameters": {
    "P": {
     "_opentelemetry_traceparent": "00-c6511bb07cc0ac21516750c3f7f46ab0-5a113f60f4848304-01",
     "pipeline.data_lake_root": "/pipeline-outputs/data-lake",
     "pipeline.github.actor": "matiasdahl",
     "pipeline.github.base_ref": "",
     "pipeline.github.event_name": "schedule",
     "pipeline.github.head_ref": "",
     "pipeline.github.job": "run-tests-pipeline-and-persist-pipeline-outputs",
     "pipeline.github.ref": "refs/heads/development",
     "pipeline.github.ref_name": "development",
     "pipeline.github.ref_type": "branch",
     "pipeline.github.repository": "pynb-dag-runner/mnist-digits-demo-pipeline",
     "pipeline.github.run_id": "2627678303",
     "pipeline.github.runner_name": "Hosted Agent",
     "pipeline.github.sha": "f934c58f68028b7bb026059d4e87e6d32a1bbd20",
     "pipeline.github.workflow": "Run automated tests, pipeline and deploy results to static reporting site",
     "pipeline.pipeline_run_id": "40b065d9-1904-42b9-bcd7-587daf8f649f",
     "pipeline.run_environment": "ci",
     "run.retry_nr": "0",
     "task.max_nr_retries": "1",
     "task.notebook": "notebooks/benchmark-model.py",
     "task.nr_train_images": 800,
     "task.num_cpus": 1,
     "task.timeout_s": "None"
    }
   },
   "start_time": "2022-07-07T06:49:25.321186",
   "version": "2.3.3"
  }
 },
 "nbformat": 4,
 "nbformat_minor": 5
}