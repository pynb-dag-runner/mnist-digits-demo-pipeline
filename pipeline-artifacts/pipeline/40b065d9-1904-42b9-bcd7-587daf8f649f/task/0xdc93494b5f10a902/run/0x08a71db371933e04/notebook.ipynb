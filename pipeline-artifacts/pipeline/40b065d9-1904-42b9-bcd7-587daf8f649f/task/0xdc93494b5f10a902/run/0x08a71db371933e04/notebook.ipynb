{
 "cells": [
  {
   "cell_type": "markdown",
   "id": "ce695dad",
   "metadata": {
    "papermill": {
     "duration": 0.003983,
     "end_time": "2022-07-07T06:49:13.253627",
     "exception": false,
     "start_time": "2022-07-07T06:49:13.249644",
     "status": "completed"
    },
    "tags": []
   },
   "source": [
    "# Train model\n",
    "\n",
    "The purpose of this notebook is:\n",
    "\n",
    "- Load all training data (images and labels).\n",
    "- Limit number of train images to `task.nr_train_images` (value provided as run parameter).\n",
    "- Train a support vector machine model using sklearn.\n",
    "- Persist the trained model using the ONNX format."
   ]
  },
  {
   "cell_type": "markdown",
   "id": "5901fd8b",
   "metadata": {
    "papermill": {
     "duration": 0.003097,
     "end_time": "2022-07-07T06:49:13.259716",
     "exception": false,
     "start_time": "2022-07-07T06:49:13.256619",
     "status": "completed"
    },
    "tags": []
   },
   "source": [
    "### Determine run parameters"
   ]
  },
  {
   "cell_type": "code",
   "execution_count": 1,
   "id": "ea26ae89",
   "metadata": {
    "execution": {
     "iopub.execute_input": "2022-07-07T06:49:13.266760Z",
     "iopub.status.busy": "2022-07-07T06:49:13.266430Z",
     "iopub.status.idle": "2022-07-07T06:49:13.274100Z",
     "shell.execute_reply": "2022-07-07T06:49:13.273418Z"
    },
    "lines_to_next_cell": 0,
    "papermill": {
     "duration": 0.014491,
     "end_time": "2022-07-07T06:49:13.277002",
     "exception": false,
     "start_time": "2022-07-07T06:49:13.262511",
     "status": "completed"
    },
    "tags": []
   },
   "outputs": [],
   "source": [
    "# ----------------- Parameters for interactive development --------------\n",
    "P = {\n",
    "    \"pipeline.data_lake_root\": \"/pipeline-outputs/data-lake\",\n",
    "    \"task.nr_train_images\": 600,\n",
    "}"
   ]
  },
  {
   "cell_type": "code",
   "execution_count": 2,
   "id": "5b2d90ab",
   "metadata": {
    "execution": {
     "iopub.execute_input": "2022-07-07T06:49:13.289876Z",
     "iopub.status.busy": "2022-07-07T06:49:13.289640Z",
     "iopub.status.idle": "2022-07-07T06:49:13.292627Z",
     "shell.execute_reply": "2022-07-07T06:49:13.292003Z"
    },
    "lines_to_next_cell": 0,
    "papermill": {
     "duration": 0.009427,
     "end_time": "2022-07-07T06:49:13.295434",
     "exception": false,
     "start_time": "2022-07-07T06:49:13.286007",
     "status": "completed"
    },
    "tags": [
     "parameters"
    ]
   },
   "outputs": [],
   "source": [
    "# - During automated runs parameters will be injected in the below cell -"
   ]
  },
  {
   "cell_type": "code",
   "execution_count": 3,
   "id": "d45f56c6",
   "metadata": {
    "execution": {
     "iopub.execute_input": "2022-07-07T06:49:13.302049Z",
     "iopub.status.busy": "2022-07-07T06:49:13.301839Z",
     "iopub.status.idle": "2022-07-07T06:49:13.306684Z",
     "shell.execute_reply": "2022-07-07T06:49:13.305966Z"
    },
    "papermill": {
     "duration": 0.010977,
     "end_time": "2022-07-07T06:49:13.309132",
     "exception": false,
     "start_time": "2022-07-07T06:49:13.298155",
     "status": "completed"
    },
    "tags": [
     "injected-parameters"
    ]
   },
   "outputs": [],
   "source": [
    "# Parameters\n",
    "P = {\n",
    "    \"pipeline.data_lake_root\": \"/pipeline-outputs/data-lake\",\n",
    "    \"pipeline.run_environment\": \"ci\",\n",
    "    \"pipeline.pipeline_run_id\": \"40b065d9-1904-42b9-bcd7-587daf8f649f\",\n",
    "    \"pipeline.github.repository\": \"pynb-dag-runner/mnist-digits-demo-pipeline\",\n",
    "    \"pipeline.github.workflow\": \"Run automated tests, pipeline and deploy results to static reporting site\",\n",
    "    \"pipeline.github.runner_name\": \"Hosted Agent\",\n",
    "    \"pipeline.github.run_id\": \"2627678303\",\n",
    "    \"pipeline.github.actor\": \"matiasdahl\",\n",
    "    \"pipeline.github.job\": \"run-tests-pipeline-and-persist-pipeline-outputs\",\n",
    "    \"pipeline.github.base_ref\": \"\",\n",
    "    \"pipeline.github.head_ref\": \"\",\n",
    "    \"pipeline.github.sha\": \"f934c58f68028b7bb026059d4e87e6d32a1bbd20\",\n",
    "    \"pipeline.github.ref\": \"refs/heads/development\",\n",
    "    \"pipeline.github.ref_type\": \"branch\",\n",
    "    \"pipeline.github.ref_name\": \"development\",\n",
    "    \"pipeline.github.event_name\": \"schedule\",\n",
    "    \"task.nr_train_images\": 600,\n",
    "    \"task.notebook\": \"notebooks/train-model.py\",\n",
    "    \"task.max_nr_retries\": \"1\",\n",
    "    \"run.retry_nr\": \"0\",\n",
    "    \"task.timeout_s\": \"None\",\n",
    "    \"task.num_cpus\": 1,\n",
    "    \"_opentelemetry_traceparent\": \"00-c6511bb07cc0ac21516750c3f7f46ab0-b6e066c8292a4322-01\",\n",
    "}\n"
   ]
  },
  {
   "cell_type": "code",
   "execution_count": 4,
   "id": "8e7c7795",
   "metadata": {
    "execution": {
     "iopub.execute_input": "2022-07-07T06:49:13.316500Z",
     "iopub.status.busy": "2022-07-07T06:49:13.315982Z",
     "iopub.status.idle": "2022-07-07T06:49:13.319054Z",
     "shell.execute_reply": "2022-07-07T06:49:13.318356Z"
    },
    "lines_to_next_cell": 0,
    "papermill": {
     "duration": 0.008664,
     "end_time": "2022-07-07T06:49:13.320631",
     "exception": false,
     "start_time": "2022-07-07T06:49:13.311967",
     "status": "completed"
    },
    "tags": []
   },
   "outputs": [],
   "source": [
    "# -----------------------------------------------------------------------"
   ]
  },
  {
   "cell_type": "markdown",
   "id": "dde9bea7",
   "metadata": {
    "papermill": {
     "duration": 0.003031,
     "end_time": "2022-07-07T06:49:13.326333",
     "exception": false,
     "start_time": "2022-07-07T06:49:13.323302",
     "status": "completed"
    },
    "tags": []
   },
   "source": [
    "---"
   ]
  },
  {
   "cell_type": "markdown",
   "id": "addd2d30",
   "metadata": {
    "lines_to_next_cell": 2,
    "papermill": {
     "duration": 0.002657,
     "end_time": "2022-07-07T06:49:13.331723",
     "exception": false,
     "start_time": "2022-07-07T06:49:13.329066",
     "status": "completed"
    },
    "tags": []
   },
   "source": [
    "### Notebook code"
   ]
  },
  {
   "cell_type": "code",
   "execution_count": 5,
   "id": "4fd3669e",
   "metadata": {
    "execution": {
     "iopub.execute_input": "2022-07-07T06:49:13.338194Z",
     "iopub.status.busy": "2022-07-07T06:49:13.337970Z",
     "iopub.status.idle": "2022-07-07T06:49:13.804292Z",
     "shell.execute_reply": "2022-07-07T06:49:13.803686Z"
    },
    "papermill": {
     "duration": 0.471541,
     "end_time": "2022-07-07T06:49:13.805999",
     "exception": false,
     "start_time": "2022-07-07T06:49:13.334458",
     "status": "completed"
    },
    "tags": []
   },
   "outputs": [
    {
     "name": "stderr",
     "output_type": "stream",
     "text": [
      "2022-07-07 06:49:13,636\tINFO worker.py:842 -- Connecting to existing Ray cluster at address: 172.17.0.2:6379\n"
     ]
    }
   ],
   "source": [
    "from pynb_dag_runner.tasks.task_opentelemetry_logging import PydarLogger\n",
    "\n",
    "logger = PydarLogger(P)"
   ]
  },
  {
   "cell_type": "markdown",
   "id": "de1317f6",
   "metadata": {
    "papermill": {
     "duration": 0.003066,
     "end_time": "2022-07-07T06:49:13.812505",
     "exception": false,
     "start_time": "2022-07-07T06:49:13.809439",
     "status": "completed"
    },
    "tags": []
   },
   "source": [
    "## Load and limit train data"
   ]
  },
  {
   "cell_type": "code",
   "execution_count": 6,
   "id": "1037b7dc",
   "metadata": {
    "execution": {
     "iopub.execute_input": "2022-07-07T06:49:13.819910Z",
     "iopub.status.busy": "2022-07-07T06:49:13.819175Z",
     "iopub.status.idle": "2022-07-07T06:49:14.181632Z",
     "shell.execute_reply": "2022-07-07T06:49:14.180958Z"
    },
    "papermill": {
     "duration": 0.368529,
     "end_time": "2022-07-07T06:49:14.183803",
     "exception": false,
     "start_time": "2022-07-07T06:49:13.815274",
     "status": "completed"
    },
    "tags": []
   },
   "outputs": [],
   "source": [
    "def load_and_limit_train_data(P):\n",
    "    from common.io import datalake_root, read_numpy\n",
    "    from sklearn.model_selection import train_test_split\n",
    "\n",
    "    X_train_all = read_numpy(datalake_root(P) / \"train-data\" / \"digits.numpy\")\n",
    "    y_train_all = read_numpy(datalake_root(P) / \"train-data\" / \"labels.numpy\")\n",
    "\n",
    "    assert isinstance(P[\"task.nr_train_images\"], int)\n",
    "\n",
    "    # Note: train_test_split will fail if split is 0 or 100%.\n",
    "    assert 0 < P[\"task.nr_train_images\"] < len(y_train_all)\n",
    "\n",
    "    X_train, _, y_train, _ = train_test_split(\n",
    "        X_train_all,\n",
    "        y_train_all,\n",
    "        train_size=P[\"task.nr_train_images\"],\n",
    "        test_size=None,\n",
    "        stratify=y_train_all,\n",
    "        shuffle=True,\n",
    "        random_state=123,\n",
    "    )\n",
    "\n",
    "    assert X_train.shape == (len(y_train), 8 * 8)\n",
    "    return X_train, y_train\n",
    "\n",
    "\n",
    "X_train, y_train = load_and_limit_train_data(P)"
   ]
  },
  {
   "cell_type": "markdown",
   "id": "643537ae",
   "metadata": {
    "papermill": {
     "duration": 0.003172,
     "end_time": "2022-07-07T06:49:14.191277",
     "exception": false,
     "start_time": "2022-07-07T06:49:14.188105",
     "status": "completed"
    },
    "tags": []
   },
   "source": [
    "## Train support vector classifier model\n",
    "\n",
    "Below we assume that the hyperparameter $C$ is known.\n",
    "\n",
    "However, this should ideally be found by a hyperparameter search. That could be\n",
    "done in parallel on the Ray cluster, but this needs some more work. Ie., to use\n",
    "multiple cores in the notebook, those cores should be reserved when starting the\n",
    "notebook task (TODO).\n",
    "\n",
    "- https://docs.ray.io/en/latest/tune/key-concepts.html\n",
    "\n",
    "Note: cv-scores would need to be computed here, since they depend on the train data.\n",
    "After this notebook only the onnx-model is available."
   ]
  },
  {
   "cell_type": "code",
   "execution_count": 7,
   "id": "4e8d08e2",
   "metadata": {
    "execution": {
     "iopub.execute_input": "2022-07-07T06:49:14.198134Z",
     "iopub.status.busy": "2022-07-07T06:49:14.197892Z",
     "iopub.status.idle": "2022-07-07T06:49:14.220488Z",
     "shell.execute_reply": "2022-07-07T06:49:14.219750Z"
    },
    "papermill": {
     "duration": 0.027934,
     "end_time": "2022-07-07T06:49:14.222093",
     "exception": false,
     "start_time": "2022-07-07T06:49:14.194159",
     "status": "completed"
    },
    "tags": []
   },
   "outputs": [],
   "source": [
    "from sklearn.svm import SVC"
   ]
  },
  {
   "cell_type": "code",
   "execution_count": 8,
   "id": "b0d19d2e",
   "metadata": {
    "execution": {
     "iopub.execute_input": "2022-07-07T06:49:14.229843Z",
     "iopub.status.busy": "2022-07-07T06:49:14.229479Z",
     "iopub.status.idle": "2022-07-07T06:49:14.322664Z",
     "shell.execute_reply": "2022-07-07T06:49:14.321859Z"
    },
    "papermill": {
     "duration": 0.09936,
     "end_time": "2022-07-07T06:49:14.324554",
     "exception": false,
     "start_time": "2022-07-07T06:49:14.225194",
     "status": "completed"
    },
    "tags": []
   },
   "outputs": [
    {
     "data": {
      "text/plain": [
       "SVC(C=0.001, kernel='linear', probability=True)"
      ]
     },
     "execution_count": 8,
     "metadata": {},
     "output_type": "execute_result"
    }
   ],
   "source": [
    "model = SVC(C=0.001, kernel=\"linear\", probability=True)\n",
    "\n",
    "model.fit(X_train, y_train)"
   ]
  },
  {
   "cell_type": "markdown",
   "id": "545877ae",
   "metadata": {
    "papermill": {
     "duration": 0.003065,
     "end_time": "2022-07-07T06:49:14.331061",
     "exception": false,
     "start_time": "2022-07-07T06:49:14.327996",
     "status": "completed"
    },
    "tags": []
   },
   "source": [
    "### Q: Can the labels returned by `predict(..)` be computed from probabilities returned by the `predict_prob`-method?"
   ]
  },
  {
   "cell_type": "code",
   "execution_count": 9,
   "id": "311d86ca",
   "metadata": {
    "execution": {
     "iopub.execute_input": "2022-07-07T06:49:14.338850Z",
     "iopub.status.busy": "2022-07-07T06:49:14.338579Z",
     "iopub.status.idle": "2022-07-07T06:49:14.381620Z",
     "shell.execute_reply": "2022-07-07T06:49:14.380889Z"
    },
    "papermill": {
     "duration": 0.048911,
     "end_time": "2022-07-07T06:49:14.383470",
     "exception": false,
     "start_time": "2022-07-07T06:49:14.334559",
     "status": "completed"
    },
    "tags": []
   },
   "outputs": [
    {
     "name": "stdout",
     "output_type": "stream",
     "text": [
      " - Logging nr_max_prob_neq_label (int) : 2\n"
     ]
    }
   ],
   "source": [
    "import numpy as np\n",
    "\n",
    "y_train_labels = model.predict(X_train)\n",
    "y_train_probabilities = model.predict_proba(X_train)\n",
    "assert y_train_probabilities.shape == (len(y_train), 10)\n",
    "\n",
    "y_train_max_prob_labels = np.argmax(y_train_probabilities, axis=1)\n",
    "assert y_train_labels.shape == y_train_max_prob_labels.shape == y_train.shape\n",
    "\n",
    "# If the predicted labels would coincide with the labels that have\n",
    "# maximum probability, the below number would be zero\n",
    "logger.log_int(\n",
    "    \"nr_max_prob_neq_label\", int(sum(y_train_max_prob_labels != y_train_labels))\n",
    ")"
   ]
  },
  {
   "cell_type": "markdown",
   "id": "4843b904",
   "metadata": {
    "papermill": {
     "duration": 0.003488,
     "end_time": "2022-07-07T06:49:14.392028",
     "exception": false,
     "start_time": "2022-07-07T06:49:14.388540",
     "status": "completed"
    },
    "tags": []
   },
   "source": [
    "The explanation is (likely) explained in the SVC source, see\n",
    "[here](https://github.com/scikit-learn/scikit-learn/blob/main/sklearn/svm/_base.py).\n",
    "Namely, the outputs from `predict(..)` and `predict_proba(..)` may not in some\n",
    "cases be compatible since the latter is computed using cross-validation while\n",
    "the former is not. Thus, the above number need not be zero."
   ]
  },
  {
   "cell_type": "markdown",
   "id": "52c6f232",
   "metadata": {
    "papermill": {
     "duration": 0.003135,
     "end_time": "2022-07-07T06:49:14.398231",
     "exception": false,
     "start_time": "2022-07-07T06:49:14.395096",
     "status": "completed"
    },
    "tags": []
   },
   "source": [
    "## Persist model"
   ]
  },
  {
   "cell_type": "code",
   "execution_count": 10,
   "id": "34dc9e88",
   "metadata": {
    "execution": {
     "iopub.execute_input": "2022-07-07T06:49:14.405828Z",
     "iopub.status.busy": "2022-07-07T06:49:14.405391Z",
     "iopub.status.idle": "2022-07-07T06:49:15.154912Z",
     "shell.execute_reply": "2022-07-07T06:49:15.154031Z"
    },
    "papermill": {
     "duration": 0.755689,
     "end_time": "2022-07-07T06:49:15.157058",
     "exception": false,
     "start_time": "2022-07-07T06:49:14.401369",
     "status": "completed"
    },
    "tags": []
   },
   "outputs": [],
   "source": [
    "from skl2onnx import convert_sklearn\n",
    "from skl2onnx.common.data_types import FloatTensorType\n",
    "\n",
    "#\n",
    "from common.io import datalake_root, write_onnx"
   ]
  },
  {
   "cell_type": "code",
   "execution_count": 11,
   "id": "d038c40f",
   "metadata": {
    "execution": {
     "iopub.execute_input": "2022-07-07T06:49:15.165367Z",
     "iopub.status.busy": "2022-07-07T06:49:15.164901Z",
     "iopub.status.idle": "2022-07-07T06:49:15.207097Z",
     "shell.execute_reply": "2022-07-07T06:49:15.206352Z"
    },
    "papermill": {
     "duration": 0.048368,
     "end_time": "2022-07-07T06:49:15.208731",
     "exception": false,
     "start_time": "2022-07-07T06:49:15.160363",
     "status": "completed"
    },
    "tags": []
   },
   "outputs": [],
   "source": [
    "# convert sklearn model into onnx and persist to data lake\n",
    "\n",
    "model_onnx = convert_sklearn(\n",
    "    model, initial_types=[(\"float_input_8x8_image\", FloatTensorType([None, 8 * 8]))]\n",
    ")\n",
    "write_onnx(\n",
    "    datalake_root(P)\n",
    "    / \"models\"\n",
    "    / f\"nr_train_images={P['task.nr_train_images']}\"\n",
    "    / \"model.onnx\",\n",
    "    model_onnx,\n",
    ")"
   ]
  },
  {
   "cell_type": "code",
   "execution_count": null,
   "id": "c6682d2f",
   "metadata": {
    "papermill": {
     "duration": 0.003732,
     "end_time": "2022-07-07T06:49:15.216394",
     "exception": false,
     "start_time": "2022-07-07T06:49:15.212662",
     "status": "completed"
    },
    "tags": []
   },
   "outputs": [],
   "source": []
  }
 ],
 "metadata": {
  "jupytext": {
   "cell_metadata_filter": "tags,-all",
   "main_language": "python",
   "notebook_metadata_filter": "-all"
  },
  "language_info": {
   "codemirror_mode": {
    "name": "ipython",
    "version": 3
   },
   "file_extension": ".py",
   "mimetype": "text/x-python",
   "name": "python",
   "nbconvert_exporter": "python",
   "pygments_lexer": "ipython3",
   "version": "3.8.10"
  },
  "papermill": {
   "default_parameters": {},
   "duration": 4.512805,
   "end_time": "2022-07-07T06:49:16.338557",
   "environment_variables": {},
   "exception": null,
   "input_path": "/home/host_user/workspace/mnist-demo-pipeline/mnist-demo-pipeline/notebooks/temp-notebook-zmenw7if.ipynb",
   "output_path": "notebooks/train-model.ipynb",
   "parameters": {
    "P": {
     "_opentelemetry_traceparent": "00-c6511bb07cc0ac21516750c3f7f46ab0-b6e066c8292a4322-01",
     "pipeline.data_lake_root": "/pipeline-outputs/data-lake",
     "pipeline.github.actor": "matiasdahl",
     "pipeline.github.base_ref": "",
     "pipeline.github.event_name": "schedule",
     "pipeline.github.head_ref": "",
     "pipeline.github.job": "run-tests-pipeline-and-persist-pipeline-outputs",
     "pipeline.github.ref": "refs/heads/development",
     "pipeline.github.ref_name": "development",
     "pipeline.github.ref_type": "branch",
     "pipeline.github.repository": "pynb-dag-runner/mnist-digits-demo-pipeline",
     "pipeline.github.run_id": "2627678303",
     "pipeline.github.runner_name": "Hosted Agent",
     "pipeline.github.sha": "f934c58f68028b7bb026059d4e87e6d32a1bbd20",
     "pipeline.github.workflow": "Run automated tests, pipeline and deploy results to static reporting site",
     "pipeline.pipeline_run_id": "40b065d9-1904-42b9-bcd7-587daf8f649f",
     "pipeline.run_environment": "ci",
     "run.retry_nr": "0",
     "task.max_nr_retries": "1",
     "task.notebook": "notebooks/train-model.py",
     "task.nr_train_images": 600,
     "task.num_cpus": 1,
     "task.timeout_s": "None"
    }
   },
   "start_time": "2022-07-07T06:49:11.825752",
   "version": "2.3.3"
  }
 },
 "nbformat": 4,
 "nbformat_minor": 5
}