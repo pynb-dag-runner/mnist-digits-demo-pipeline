{
 "cells": [
  {
   "cell_type": "markdown",
   "id": "fd190050",
   "metadata": {
    "papermill": {
     "duration": 0.006665,
     "end_time": "2022-07-07T06:49:15.490665",
     "exception": false,
     "start_time": "2022-07-07T06:49:15.484000",
     "status": "completed"
    },
    "tags": []
   },
   "source": [
    "# Benchmark model\n",
    "\n",
    "The purpose of this notebook is to benchmark persisted onnx-model (trained in the\n",
    "previous step) against evaluation set."
   ]
  },
  {
   "cell_type": "markdown",
   "id": "251c2da2",
   "metadata": {
    "papermill": {
     "duration": 0.003671,
     "end_time": "2022-07-07T06:49:15.498352",
     "exception": false,
     "start_time": "2022-07-07T06:49:15.494681",
     "status": "completed"
    },
    "tags": []
   },
   "source": [
    "### Determine run parameters"
   ]
  },
  {
   "cell_type": "code",
   "execution_count": 1,
   "id": "8cf4a637",
   "metadata": {
    "execution": {
     "iopub.execute_input": "2022-07-07T06:49:15.507419Z",
     "iopub.status.busy": "2022-07-07T06:49:15.507095Z",
     "iopub.status.idle": "2022-07-07T06:49:15.514654Z",
     "shell.execute_reply": "2022-07-07T06:49:15.514020Z"
    },
    "lines_to_next_cell": 0,
    "papermill": {
     "duration": 0.013774,
     "end_time": "2022-07-07T06:49:15.516200",
     "exception": false,
     "start_time": "2022-07-07T06:49:15.502426",
     "status": "completed"
    },
    "tags": []
   },
   "outputs": [],
   "source": [
    "# ----------------- Parameters for interactive development --------------\n",
    "P = {\n",
    "    \"pipeline.data_lake_root\": \"/pipeline-outputs/data-lake\",\n",
    "    \"task.nr_train_images\": 600,\n",
    "}"
   ]
  },
  {
   "cell_type": "code",
   "execution_count": 2,
   "id": "b4a360c8",
   "metadata": {
    "execution": {
     "iopub.execute_input": "2022-07-07T06:49:15.525133Z",
     "iopub.status.busy": "2022-07-07T06:49:15.524901Z",
     "iopub.status.idle": "2022-07-07T06:49:15.527796Z",
     "shell.execute_reply": "2022-07-07T06:49:15.527199Z"
    },
    "lines_to_next_cell": 0,
    "papermill": {
     "duration": 0.009111,
     "end_time": "2022-07-07T06:49:15.529406",
     "exception": false,
     "start_time": "2022-07-07T06:49:15.520295",
     "status": "completed"
    },
    "tags": [
     "parameters"
    ]
   },
   "outputs": [],
   "source": [
    "# - During automated runs parameters will be injected in the below cell -"
   ]
  },
  {
   "cell_type": "code",
   "execution_count": 3,
   "id": "d7fe1521",
   "metadata": {
    "execution": {
     "iopub.execute_input": "2022-07-07T06:49:15.538044Z",
     "iopub.status.busy": "2022-07-07T06:49:15.537649Z",
     "iopub.status.idle": "2022-07-07T06:49:15.542376Z",
     "shell.execute_reply": "2022-07-07T06:49:15.541703Z"
    },
    "papermill": {
     "duration": 0.010586,
     "end_time": "2022-07-07T06:49:15.543766",
     "exception": false,
     "start_time": "2022-07-07T06:49:15.533180",
     "status": "completed"
    },
    "tags": [
     "injected-parameters"
    ]
   },
   "outputs": [],
   "source": [
    "# Parameters\n",
    "P = {\n",
    "    \"pipeline.data_lake_root\": \"/pipeline-outputs/data-lake\",\n",
    "    \"pipeline.run_environment\": \"ci\",\n",
    "    \"pipeline.pipeline_run_id\": \"40b065d9-1904-42b9-bcd7-587daf8f649f\",\n",
    "    \"pipeline.github.repository\": \"pynb-dag-runner/mnist-digits-demo-pipeline\",\n",
    "    \"pipeline.github.workflow\": \"Run automated tests, pipeline and deploy results to static reporting site\",\n",
    "    \"pipeline.github.runner_name\": \"Hosted Agent\",\n",
    "    \"pipeline.github.run_id\": \"2627678303\",\n",
    "    \"pipeline.github.actor\": \"matiasdahl\",\n",
    "    \"pipeline.github.job\": \"run-tests-pipeline-and-persist-pipeline-outputs\",\n",
    "    \"pipeline.github.base_ref\": \"\",\n",
    "    \"pipeline.github.head_ref\": \"\",\n",
    "    \"pipeline.github.sha\": \"f934c58f68028b7bb026059d4e87e6d32a1bbd20\",\n",
    "    \"pipeline.github.ref\": \"refs/heads/development\",\n",
    "    \"pipeline.github.ref_type\": \"branch\",\n",
    "    \"pipeline.github.ref_name\": \"development\",\n",
    "    \"pipeline.github.event_name\": \"schedule\",\n",
    "    \"task.nr_train_images\": 1000,\n",
    "    \"task.notebook\": \"notebooks/benchmark-model.py\",\n",
    "    \"task.max_nr_retries\": \"1\",\n",
    "    \"run.retry_nr\": \"0\",\n",
    "    \"task.timeout_s\": \"None\",\n",
    "    \"task.num_cpus\": 1,\n",
    "    \"_opentelemetry_traceparent\": \"00-c6511bb07cc0ac21516750c3f7f46ab0-baafba7b4575d2d4-01\",\n",
    "}\n"
   ]
  },
  {
   "cell_type": "code",
   "execution_count": 4,
   "id": "4d7c0078",
   "metadata": {
    "execution": {
     "iopub.execute_input": "2022-07-07T06:49:15.552977Z",
     "iopub.status.busy": "2022-07-07T06:49:15.552419Z",
     "iopub.status.idle": "2022-07-07T06:49:15.555301Z",
     "shell.execute_reply": "2022-07-07T06:49:15.554737Z"
    },
    "lines_to_next_cell": 0,
    "papermill": {
     "duration": 0.00911,
     "end_time": "2022-07-07T06:49:15.556662",
     "exception": false,
     "start_time": "2022-07-07T06:49:15.547552",
     "status": "completed"
    },
    "tags": []
   },
   "outputs": [],
   "source": [
    "# -----------------------------------------------------------------------"
   ]
  },
  {
   "cell_type": "markdown",
   "id": "5768ee8f",
   "metadata": {
    "papermill": {
     "duration": 0.003939,
     "end_time": "2022-07-07T06:49:15.565867",
     "exception": false,
     "start_time": "2022-07-07T06:49:15.561928",
     "status": "completed"
    },
    "tags": []
   },
   "source": [
    "---"
   ]
  },
  {
   "cell_type": "markdown",
   "id": "5b0ba192",
   "metadata": {
    "lines_to_next_cell": 2,
    "papermill": {
     "duration": 0.004084,
     "end_time": "2022-07-07T06:49:15.573751",
     "exception": false,
     "start_time": "2022-07-07T06:49:15.569667",
     "status": "completed"
    },
    "tags": []
   },
   "source": [
    "### Notebook code"
   ]
  },
  {
   "cell_type": "code",
   "execution_count": 5,
   "id": "74a98754",
   "metadata": {
    "execution": {
     "iopub.execute_input": "2022-07-07T06:49:15.582905Z",
     "iopub.status.busy": "2022-07-07T06:49:15.582239Z",
     "iopub.status.idle": "2022-07-07T06:49:16.698109Z",
     "shell.execute_reply": "2022-07-07T06:49:16.697390Z"
    },
    "papermill": {
     "duration": 1.123835,
     "end_time": "2022-07-07T06:49:16.701224",
     "exception": false,
     "start_time": "2022-07-07T06:49:15.577389",
     "status": "completed"
    },
    "tags": []
   },
   "outputs": [
    {
     "name": "stderr",
     "output_type": "stream",
     "text": [
      "2022-07-07 06:49:16,505\tINFO worker.py:842 -- Connecting to existing Ray cluster at address: 172.17.0.2:6379\n"
     ]
    }
   ],
   "source": [
    "import itertools as it\n",
    "\n",
    "#\n",
    "import numpy as np\n",
    "import matplotlib.pyplot as plt\n",
    "\n",
    "#\n",
    "from pynb_dag_runner.tasks.task_opentelemetry_logging import PydarLogger\n",
    "\n",
    "#\n",
    "from common.io import datalake_root\n",
    "\n",
    "logger = PydarLogger(P)"
   ]
  },
  {
   "cell_type": "markdown",
   "id": "7c76baa3",
   "metadata": {
    "papermill": {
     "duration": 0.005725,
     "end_time": "2022-07-07T06:49:16.711624",
     "exception": false,
     "start_time": "2022-07-07T06:49:16.705899",
     "status": "completed"
    },
    "tags": []
   },
   "source": [
    "## Load persisted onnx-model and evaluation data"
   ]
  },
  {
   "cell_type": "code",
   "execution_count": 6,
   "id": "d41ddc1c",
   "metadata": {
    "execution": {
     "iopub.execute_input": "2022-07-07T06:49:16.722220Z",
     "iopub.status.busy": "2022-07-07T06:49:16.721853Z",
     "iopub.status.idle": "2022-07-07T06:49:16.725511Z",
     "shell.execute_reply": "2022-07-07T06:49:16.724957Z"
    },
    "papermill": {
     "duration": 0.012691,
     "end_time": "2022-07-07T06:49:16.728545",
     "exception": false,
     "start_time": "2022-07-07T06:49:16.715854",
     "status": "completed"
    },
    "tags": []
   },
   "outputs": [],
   "source": [
    "from common.io import read_onnx, get_onnx_inputs, get_onnx_outputs, read_numpy"
   ]
  },
  {
   "cell_type": "code",
   "execution_count": 7,
   "id": "14ef0807",
   "metadata": {
    "execution": {
     "iopub.execute_input": "2022-07-07T06:49:16.743677Z",
     "iopub.status.busy": "2022-07-07T06:49:16.743407Z",
     "iopub.status.idle": "2022-07-07T06:49:16.756054Z",
     "shell.execute_reply": "2022-07-07T06:49:16.755384Z"
    },
    "lines_to_next_cell": 0,
    "papermill": {
     "duration": 0.024487,
     "end_time": "2022-07-07T06:49:16.757724",
     "exception": false,
     "start_time": "2022-07-07T06:49:16.733237",
     "status": "completed"
    },
    "tags": []
   },
   "outputs": [],
   "source": [
    "onnx_inference_session = read_onnx(\n",
    "    datalake_root(P)\n",
    "    / \"models\"\n",
    "    / f\"nr_train_images={P['task.nr_train_images']}\"\n",
    "    / \"model.onnx\"\n",
    ")"
   ]
  },
  {
   "cell_type": "markdown",
   "id": "eea4b03d",
   "metadata": {
    "papermill": {
     "duration": 0.004206,
     "end_time": "2022-07-07T06:49:16.767119",
     "exception": false,
     "start_time": "2022-07-07T06:49:16.762913",
     "status": "completed"
    },
    "tags": []
   },
   "source": [
    "### Record structure of inputs and outputs for ONNX model\n",
    "\n",
    "(this should likely be done in training notebook)"
   ]
  },
  {
   "cell_type": "code",
   "execution_count": 8,
   "id": "e7d35763",
   "metadata": {
    "execution": {
     "iopub.execute_input": "2022-07-07T06:49:16.778683Z",
     "iopub.status.busy": "2022-07-07T06:49:16.778424Z",
     "iopub.status.idle": "2022-07-07T06:49:16.785322Z",
     "shell.execute_reply": "2022-07-07T06:49:16.784639Z"
    },
    "papermill": {
     "duration": 0.016798,
     "end_time": "2022-07-07T06:49:16.788777",
     "exception": false,
     "start_time": "2022-07-07T06:49:16.771979",
     "status": "completed"
    },
    "tags": []
   },
   "outputs": [
    {
     "name": "stdout",
     "output_type": "stream",
     "text": [
      "{\n",
      "  \"inputs\": [\n",
      "    {\n",
      "      \"name\": \"float_input_8x8_image\",\n",
      "      \"shape\": [\n",
      "        null,\n",
      "        64\n",
      "      ],\n",
      "      \"type\": \"tensor(float)\"\n",
      "    }\n",
      "  ],\n",
      "  \"outputs\": [\n",
      "    {\n",
      "      \"name\": \"output_label\",\n",
      "      \"shape\": [\n",
      "        null\n",
      "      ],\n",
      "      \"type\": \"tensor(int64)\"\n",
      "    },\n",
      "    {\n",
      "      \"name\": \"output_probability\",\n",
      "      \"shape\": [],\n",
      "      \"type\": \"seq(map(int64,tensor(float)))\"\n",
      "    }\n",
      "  ]\n",
      "}\n"
     ]
    }
   ],
   "source": [
    "import json\n",
    "\n",
    "onnx_io = json.dumps(\n",
    "    {\n",
    "        \"inputs\": get_onnx_inputs(onnx_inference_session),\n",
    "        \"outputs\": get_onnx_outputs(onnx_inference_session),\n",
    "    },\n",
    "    indent=2,\n",
    ")\n",
    "\n",
    "\n",
    "logger.log_artefact(\"onnx_io_structure.json\", onnx_io)\n",
    "print(onnx_io)"
   ]
  },
  {
   "cell_type": "markdown",
   "id": "ef4aa247",
   "metadata": {
    "papermill": {
     "duration": 0.00436,
     "end_time": "2022-07-07T06:49:16.798023",
     "exception": false,
     "start_time": "2022-07-07T06:49:16.793663",
     "status": "completed"
    },
    "tags": []
   },
   "source": [
    "### Evaluate model performance on evaluation data set"
   ]
  },
  {
   "cell_type": "code",
   "execution_count": 9,
   "id": "424149f7",
   "metadata": {
    "execution": {
     "iopub.execute_input": "2022-07-07T06:49:16.808512Z",
     "iopub.status.busy": "2022-07-07T06:49:16.808272Z",
     "iopub.status.idle": "2022-07-07T06:49:16.812690Z",
     "shell.execute_reply": "2022-07-07T06:49:16.812151Z"
    },
    "papermill": {
     "duration": 0.011256,
     "end_time": "2022-07-07T06:49:16.814487",
     "exception": false,
     "start_time": "2022-07-07T06:49:16.803231",
     "status": "completed"
    },
    "tags": []
   },
   "outputs": [],
   "source": [
    "# load evaluation data\n",
    "X_test = read_numpy(datalake_root(P) / \"test-data\" / \"digits.numpy\")\n",
    "y_test = read_numpy(datalake_root(P) / \"test-data\" / \"labels.numpy\")"
   ]
  },
  {
   "cell_type": "code",
   "execution_count": 10,
   "id": "2767ffd7",
   "metadata": {
    "execution": {
     "iopub.execute_input": "2022-07-07T06:49:16.824875Z",
     "iopub.status.busy": "2022-07-07T06:49:16.824458Z",
     "iopub.status.idle": "2022-07-07T06:49:16.838824Z",
     "shell.execute_reply": "2022-07-07T06:49:16.837930Z"
    },
    "papermill": {
     "duration": 0.021543,
     "end_time": "2022-07-07T06:49:16.840388",
     "exception": false,
     "start_time": "2022-07-07T06:49:16.818845",
     "status": "completed"
    },
    "tags": []
   },
   "outputs": [],
   "source": [
    "def get_model_outputs(X, onnx_inference_session):\n",
    "    y_pred_labels, y_pred_map = onnx_inference_session.run(\n",
    "        [\"output_label\", \"output_probability\"],\n",
    "        {\"float_input_8x8_image\": X.astype(np.float32)},\n",
    "    )\n",
    "    y_pred_probs = np.array(\n",
    "        [[probabilities[digit] for digit in range(10)] for probabilities in y_pred_map]\n",
    "    )\n",
    "\n",
    "    assert y_pred_labels.shape == (X.shape[0],)\n",
    "    assert y_pred_probs.shape == (X.shape[0], 10)\n",
    "\n",
    "    return y_pred_labels, y_pred_probs\n",
    "\n",
    "\n",
    "# Note: as shown in the training notebook, the predicted labels and probabilities\n",
    "# computed below need not be compatible.\n",
    "y_pred_labels_test, y_pred_probs_test = get_model_outputs(\n",
    "    X_test, onnx_inference_session\n",
    ")"
   ]
  },
  {
   "cell_type": "markdown",
   "id": "88783ab5",
   "metadata": {
    "papermill": {
     "duration": 0.005128,
     "end_time": "2022-07-07T06:49:16.849843",
     "exception": false,
     "start_time": "2022-07-07T06:49:16.844715",
     "status": "completed"
    },
    "tags": []
   },
   "source": [
    "### Confusion matrix"
   ]
  },
  {
   "cell_type": "code",
   "execution_count": 11,
   "id": "6e4d06ba",
   "metadata": {
    "execution": {
     "iopub.execute_input": "2022-07-07T06:49:16.859126Z",
     "iopub.status.busy": "2022-07-07T06:49:16.858905Z",
     "iopub.status.idle": "2022-07-07T06:49:16.861682Z",
     "shell.execute_reply": "2022-07-07T06:49:16.861095Z"
    },
    "papermill": {
     "duration": 0.0105,
     "end_time": "2022-07-07T06:49:16.864608",
     "exception": false,
     "start_time": "2022-07-07T06:49:16.854108",
     "status": "completed"
    },
    "tags": []
   },
   "outputs": [],
   "source": [
    "# TODO"
   ]
  },
  {
   "cell_type": "markdown",
   "id": "d30439ac",
   "metadata": {
    "papermill": {
     "duration": 0.004083,
     "end_time": "2022-07-07T06:49:16.872978",
     "exception": false,
     "start_time": "2022-07-07T06:49:16.868895",
     "status": "completed"
    },
    "tags": []
   },
   "source": [
    "### Plot predicted probabilities for each classifier over all evaluation digit images"
   ]
  },
  {
   "cell_type": "code",
   "execution_count": 12,
   "id": "5ff5f2ba",
   "metadata": {
    "execution": {
     "iopub.execute_input": "2022-07-07T06:49:16.883476Z",
     "iopub.status.busy": "2022-07-07T06:49:16.883233Z",
     "iopub.status.idle": "2022-07-07T06:49:20.034832Z",
     "shell.execute_reply": "2022-07-07T06:49:20.034235Z"
    },
    "papermill": {
     "duration": 3.158532,
     "end_time": "2022-07-07T06:49:20.036695",
     "exception": false,
     "start_time": "2022-07-07T06:49:16.878163",
     "status": "completed"
    },
    "tags": []
   },
   "outputs": [
    {
     "data": {
      "image/png": "[encoded data removed]",
      "text/plain": [
       "<Figure size 1152x432 with 10 Axes>"
      ]
     },
     "metadata": {
      "needs_background": "light"
     },
     "output_type": "display_data"
    }
   ],
   "source": [
    "def plot_per_digit_probabilities(y_pred_probs):\n",
    "    fig, axs = plt.subplots(nrows=2, ncols=5, figsize=(16, 6))\n",
    "\n",
    "    for (r, c), digit, ax in zip(\n",
    "        it.product(range(2), range(5)), range(10), axs.reshape(-1)\n",
    "    ):\n",
    "        ax.hist(y_pred_probs_test[:, digit], bins=20)\n",
    "\n",
    "        ax.set_title(f\"Digit {digit}\")\n",
    "        if r == 1 and c == 2:\n",
    "            ax.set_xlabel(\"probability\", fontsize=16)\n",
    "\n",
    "        if c == 0:\n",
    "            ax.set_ylabel(\"counts\", fontsize=16)\n",
    "        ax.set_yscale(\"log\")\n",
    "\n",
    "    fig.tight_layout()\n",
    "    fig.suptitle(\n",
    "        f\"Distributions of prediction probabilities for each digit \"\n",
    "        f\"(on evaluation data, n={y_pred_probs.shape[0]})\",\n",
    "        fontsize=20,\n",
    "    )\n",
    "    fig.tight_layout()\n",
    "    fig.show()\n",
    "\n",
    "    return fig\n",
    "\n",
    "\n",
    "fig = plot_per_digit_probabilities(y_pred_probs_test)"
   ]
  },
  {
   "cell_type": "markdown",
   "id": "e9d3b576",
   "metadata": {
    "papermill": {
     "duration": 0.005392,
     "end_time": "2022-07-07T06:49:20.047495",
     "exception": false,
     "start_time": "2022-07-07T06:49:20.042103",
     "status": "completed"
    },
    "tags": []
   },
   "source": [
    "From the above distributions we see that most digits have clear separation between\n",
    "high and lower probabilities. Morover, in each case there is roughly an order of\n",
    "magnitude more of digits with low probabilities. This is compatible with digits\n",
    "being roughly evenly distributed in the data."
   ]
  },
  {
   "cell_type": "code",
   "execution_count": 13,
   "id": "e2e0d60a",
   "metadata": {
    "execution": {
     "iopub.execute_input": "2022-07-07T06:49:20.059498Z",
     "iopub.status.busy": "2022-07-07T06:49:20.059026Z",
     "iopub.status.idle": "2022-07-07T06:49:20.552838Z",
     "shell.execute_reply": "2022-07-07T06:49:20.551712Z"
    },
    "papermill": {
     "duration": 0.502589,
     "end_time": "2022-07-07T06:49:20.554997",
     "exception": false,
     "start_time": "2022-07-07T06:49:20.052408",
     "status": "completed"
    },
    "tags": []
   },
   "outputs": [],
   "source": [
    "logger.log_figure(\"per-digit-probabilities.png\", fig)"
   ]
  },
  {
   "cell_type": "markdown",
   "id": "c65df44d",
   "metadata": {
    "papermill": {
     "duration": 0.006942,
     "end_time": "2022-07-07T06:49:20.568965",
     "exception": false,
     "start_time": "2022-07-07T06:49:20.562023",
     "status": "completed"
    },
    "tags": []
   },
   "source": [
    "### Plot ROC curves for individual one-vs-rest classifiers"
   ]
  },
  {
   "cell_type": "code",
   "execution_count": 14,
   "id": "91f175c2",
   "metadata": {
    "execution": {
     "iopub.execute_input": "2022-07-07T06:49:20.581015Z",
     "iopub.status.busy": "2022-07-07T06:49:20.580629Z",
     "iopub.status.idle": "2022-07-07T06:49:21.026664Z",
     "shell.execute_reply": "2022-07-07T06:49:21.025825Z"
    },
    "papermill": {
     "duration": 0.4543,
     "end_time": "2022-07-07T06:49:21.028547",
     "exception": false,
     "start_time": "2022-07-07T06:49:20.574247",
     "status": "completed"
    },
    "tags": []
   },
   "outputs": [],
   "source": [
    "from sklearn import metrics"
   ]
  },
  {
   "cell_type": "code",
   "execution_count": 15,
   "id": "022b441f",
   "metadata": {
    "execution": {
     "iopub.execute_input": "2022-07-07T06:49:21.042707Z",
     "iopub.status.busy": "2022-07-07T06:49:21.042171Z",
     "iopub.status.idle": "2022-07-07T06:49:22.173771Z",
     "shell.execute_reply": "2022-07-07T06:49:22.173070Z"
    },
    "papermill": {
     "duration": 1.14088,
     "end_time": "2022-07-07T06:49:22.175512",
     "exception": false,
     "start_time": "2022-07-07T06:49:21.034632",
     "status": "completed"
    },
    "tags": []
   },
   "outputs": [
    {
     "data": {
      "image/png": "[encoded data removed]",
      "text/plain": [
       "<Figure size 1152x576 with 10 Axes>"
      ]
     },
     "metadata": {
      "needs_background": "light"
     },
     "output_type": "display_data"
    }
   ],
   "source": [
    "def plot_roc_curves(y, y_pred_probs):\n",
    "    # based on example code\n",
    "    # https://scikit-learn.org/stable/auto_examples/model_selection/plot_roc.html\n",
    "\n",
    "    fig, axs = plt.subplots(nrows=2, ncols=5, figsize=(16, 8))\n",
    "\n",
    "    roc_auc_dict = {}\n",
    "\n",
    "    for (r, c), digit, ax in zip(\n",
    "        it.product(range(2), range(5)), range(10), axs.reshape(-1)\n",
    "    ):\n",
    "        fpr, tpr, _ = metrics.roc_curve(y == digit, y_pred_probs[:, digit])\n",
    "        auc = metrics.auc(fpr, tpr)\n",
    "        roc_auc_dict[str(digit)] = auc\n",
    "\n",
    "        ax.plot(fpr, tpr, label=f\"ROC AUC={round(auc, 3)}\")\n",
    "\n",
    "        ax.set_title(f\"\\nDigit {digit}\", fontsize=16)\n",
    "        if r == 1:\n",
    "            ax.set_xlabel(\"FPR\", fontsize=18)\n",
    "\n",
    "        if c == 0:\n",
    "            ax.set_ylabel(\"TPR\", fontsize=18)\n",
    "\n",
    "        ax.set_xlim([-0.05, 1.05])\n",
    "        ax.set_ylim([-0.05, 1.05])\n",
    "        ax.legend(loc=\"lower right\", frameon=False, fontsize=14)\n",
    "\n",
    "    fig.tight_layout()\n",
    "    fig.suptitle(\n",
    "        f\"ROC plots for one-vs-rest performances \"\n",
    "        f\"(on evaluation data, n={y_pred_probs_test.shape[1]}\",\n",
    "        fontsize=22,\n",
    "    )\n",
    "    fig.tight_layout()\n",
    "    fig.show()\n",
    "\n",
    "    return roc_auc_dict, fig\n",
    "\n",
    "\n",
    "roc_auc_dict, fig = plot_roc_curves(y_test, y_pred_probs_test)"
   ]
  },
  {
   "cell_type": "code",
   "execution_count": 16,
   "id": "625804cf",
   "metadata": {
    "execution": {
     "iopub.execute_input": "2022-07-07T06:49:22.189454Z",
     "iopub.status.busy": "2022-07-07T06:49:22.188966Z",
     "iopub.status.idle": "2022-07-07T06:49:22.431639Z",
     "shell.execute_reply": "2022-07-07T06:49:22.430839Z"
    },
    "papermill": {
     "duration": 0.253118,
     "end_time": "2022-07-07T06:49:22.434103",
     "exception": false,
     "start_time": "2022-07-07T06:49:22.180985",
     "status": "completed"
    },
    "tags": []
   },
   "outputs": [],
   "source": [
    "logger.log_figure(\"per-digit-roc-curves.png\", fig)"
   ]
  },
  {
   "cell_type": "code",
   "execution_count": 17,
   "id": "312052fe",
   "metadata": {
    "execution": {
     "iopub.execute_input": "2022-07-07T06:49:22.447513Z",
     "iopub.status.busy": "2022-07-07T06:49:22.447175Z",
     "iopub.status.idle": "2022-07-07T06:49:22.452366Z",
     "shell.execute_reply": "2022-07-07T06:49:22.451713Z"
    },
    "papermill": {
     "duration": 0.014285,
     "end_time": "2022-07-07T06:49:22.455001",
     "exception": false,
     "start_time": "2022-07-07T06:49:22.440716",
     "status": "completed"
    },
    "tags": []
   },
   "outputs": [
    {
     "data": {
      "text/plain": [
       "{'0': 1.0,\n",
       " '1': 0.998987816307404,\n",
       " '2': 1.0,\n",
       " '3': 0.9998125585754452,\n",
       " '4': 0.9996189605243103,\n",
       " '5': 0.9994001874414246,\n",
       " '6': 0.999923792104862,\n",
       " '7': 0.9997713763145862,\n",
       " '8': 0.9953105296343001,\n",
       " '9': 0.9995427526291724}"
      ]
     },
     "execution_count": 17,
     "metadata": {},
     "output_type": "execute_result"
    }
   ],
   "source": [
    "roc_auc_dict"
   ]
  },
  {
   "cell_type": "code",
   "execution_count": 18,
   "id": "d794009b",
   "metadata": {
    "execution": {
     "iopub.execute_input": "2022-07-07T06:49:22.467705Z",
     "iopub.status.busy": "2022-07-07T06:49:22.467388Z",
     "iopub.status.idle": "2022-07-07T06:49:22.471633Z",
     "shell.execute_reply": "2022-07-07T06:49:22.470928Z"
    },
    "papermill": {
     "duration": 0.016751,
     "end_time": "2022-07-07T06:49:22.477543",
     "exception": false,
     "start_time": "2022-07-07T06:49:22.460792",
     "status": "completed"
    },
    "tags": []
   },
   "outputs": [
    {
     "name": "stdout",
     "output_type": "stream",
     "text": [
      " - Logging roc_auc_per_digit (json) : {'0': 1.0, '1': 0.998987816307404, '2': 1.0, '3': 0.9998125585754452, '4': 0.9996189605243103, '5': 0.9994001874414246, '6': 0.999923792104862, '7': 0.9997713763145862, '8': 0.9953105296343001, '9': 0.9995427526291724}\n"
     ]
    }
   ],
   "source": [
    "logger.log_value(\"roc_auc_per_digit\", roc_auc_dict)"
   ]
  },
  {
   "cell_type": "markdown",
   "id": "fcedd233",
   "metadata": {
    "papermill": {
     "duration": 0.006406,
     "end_time": "2022-07-07T06:49:22.491768",
     "exception": false,
     "start_time": "2022-07-07T06:49:22.485362",
     "status": "completed"
    },
    "tags": []
   },
   "source": [
    "### Compute and log mean ROC AUC score averaged over all digits"
   ]
  },
  {
   "cell_type": "code",
   "execution_count": 19,
   "id": "28900a29",
   "metadata": {
    "execution": {
     "iopub.execute_input": "2022-07-07T06:49:22.505003Z",
     "iopub.status.busy": "2022-07-07T06:49:22.504559Z",
     "iopub.status.idle": "2022-07-07T06:49:22.519862Z",
     "shell.execute_reply": "2022-07-07T06:49:22.519288Z"
    },
    "papermill": {
     "duration": 0.02399,
     "end_time": "2022-07-07T06:49:22.521642",
     "exception": false,
     "start_time": "2022-07-07T06:49:22.497652",
     "status": "completed"
    },
    "tags": []
   },
   "outputs": [
    {
     "name": "stdout",
     "output_type": "stream",
     "text": [
      " - Logging roc_auc_class_mean (float) : 0.9992367973531506\n"
     ]
    }
   ],
   "source": [
    "roc_auc_macro = np.mean(list(roc_auc_dict.values()))\n",
    "\n",
    "logger.log_float(\"roc_auc_class_mean\", roc_auc_macro)\n",
    "\n",
    "# assert that the same value can be computed directly using sklearn\n",
    "assert roc_auc_macro == metrics.roc_auc_score(\n",
    "    y_test, y_pred_probs_test, average=\"macro\", multi_class=\"ovr\"\n",
    ")"
   ]
  },
  {
   "cell_type": "code",
   "execution_count": 20,
   "id": "1ad78db8",
   "metadata": {
    "execution": {
     "iopub.execute_input": "2022-07-07T06:49:22.535937Z",
     "iopub.status.busy": "2022-07-07T06:49:22.535404Z",
     "iopub.status.idle": "2022-07-07T06:49:22.538917Z",
     "shell.execute_reply": "2022-07-07T06:49:22.538193Z"
    },
    "lines_to_next_cell": 0,
    "papermill": {
     "duration": 0.013331,
     "end_time": "2022-07-07T06:49:22.541351",
     "exception": false,
     "start_time": "2022-07-07T06:49:22.528020",
     "status": "completed"
    },
    "tags": []
   },
   "outputs": [],
   "source": [
    "# ---"
   ]
  },
  {
   "cell_type": "code",
   "execution_count": null,
   "id": "42a64b19",
   "metadata": {
    "papermill": {
     "duration": 0.006401,
     "end_time": "2022-07-07T06:49:22.553927",
     "exception": false,
     "start_time": "2022-07-07T06:49:22.547526",
     "status": "completed"
    },
    "tags": []
   },
   "outputs": [],
   "source": []
  }
 ],
 "metadata": {
  "jupytext": {
   "cell_metadata_filter": "tags,-all",
   "main_language": "python",
   "notebook_metadata_filter": "-all"
  },
  "language_info": {
   "codemirror_mode": {
    "name": "ipython",
    "version": 3
   },
   "file_extension": ".py",
   "mimetype": "text/x-python",
   "name": "python",
   "nbconvert_exporter": "python",
   "pygments_lexer": "ipython3",
   "version": "3.8.10"
  },
  "papermill": {
   "default_parameters": {},
   "duration": 10.012396,
   "end_time": "2022-07-07T06:49:24.054227",
   "environment_variables": {},
   "exception": null,
   "input_path": "/home/host_user/workspace/mnist-demo-pipeline/mnist-demo-pipeline/notebooks/temp-notebook-sb32oowe.ipynb",
   "output_path": "notebooks/benchmark-model.ipynb",
   "parameters": {
    "P": {
     "_opentelemetry_traceparent": "00-c6511bb07cc0ac21516750c3f7f46ab0-baafba7b4575d2d4-01",
     "pipeline.data_lake_root": "/pipeline-outputs/data-lake",
     "pipeline.github.actor": "matiasdahl",
     "pipeline.github.base_ref": "",
     "pipeline.github.event_name": "schedule",
     "pipeline.github.head_ref": "",
     "pipeline.github.job": "run-tests-pipeline-and-persist-pipeline-outputs",
     "pipeline.github.ref": "refs/heads/development",
     "pipeline.github.ref_name": "development",
     "pipeline.github.ref_type": "branch",
     "pipeline.github.repository": "pynb-dag-runner/mnist-digits-demo-pipeline",
     "pipeline.github.run_id": "2627678303",
     "pipeline.github.runner_name": "Hosted Agent",
     "pipeline.github.sha": "f934c58f68028b7bb026059d4e87e6d32a1bbd20",
     "pipeline.github.workflow": "Run automated tests, pipeline and deploy results to static reporting site",
     "pipeline.pipeline_run_id": "40b065d9-1904-42b9-bcd7-587daf8f649f",
     "pipeline.run_environment": "ci",
     "run.retry_nr": "0",
     "task.max_nr_retries": "1",
     "task.notebook": "notebooks/benchmark-model.py",
     "task.nr_train_images": 1000,
     "task.num_cpus": 1,
     "task.timeout_s": "None"
    }
   },
   "start_time": "2022-07-07T06:49:14.041831",
   "version": "2.3.3"
  }
 },
 "nbformat": 4,
 "nbformat_minor": 5
}