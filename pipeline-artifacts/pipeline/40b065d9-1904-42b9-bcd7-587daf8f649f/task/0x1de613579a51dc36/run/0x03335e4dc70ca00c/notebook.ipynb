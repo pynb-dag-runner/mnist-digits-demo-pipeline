{
 "cells": [
  {
   "cell_type": "markdown",
   "id": "428c0922",
   "metadata": {
    "papermill": {
     "duration": 0.003739,
     "end_time": "2022-07-07T06:49:07.313675",
     "exception": false,
     "start_time": "2022-07-07T06:49:07.309936",
     "status": "completed"
    },
    "tags": []
   },
   "source": [
    "# Train model\n",
    "\n",
    "The purpose of this notebook is:\n",
    "\n",
    "- Load all training data (images and labels).\n",
    "- Limit number of train images to `task.nr_train_images` (value provided as run parameter).\n",
    "- Train a support vector machine model using sklearn.\n",
    "- Persist the trained model using the ONNX format."
   ]
  },
  {
   "cell_type": "markdown",
   "id": "abba6fd7",
   "metadata": {
    "papermill": {
     "duration": 0.00256,
     "end_time": "2022-07-07T06:49:07.319677",
     "exception": false,
     "start_time": "2022-07-07T06:49:07.317117",
     "status": "completed"
    },
    "tags": []
   },
   "source": [
    "### Determine run parameters"
   ]
  },
  {
   "cell_type": "code",
   "execution_count": 1,
   "id": "186e8d63",
   "metadata": {
    "execution": {
     "iopub.execute_input": "2022-07-07T06:49:07.326260Z",
     "iopub.status.busy": "2022-07-07T06:49:07.325938Z",
     "iopub.status.idle": "2022-07-07T06:49:07.333077Z",
     "shell.execute_reply": "2022-07-07T06:49:07.332441Z"
    },
    "lines_to_next_cell": 0,
    "papermill": {
     "duration": 0.012456,
     "end_time": "2022-07-07T06:49:07.334630",
     "exception": false,
     "start_time": "2022-07-07T06:49:07.322174",
     "status": "completed"
    },
    "tags": []
   },
   "outputs": [],
   "source": [
    "# ----------------- Parameters for interactive development --------------\n",
    "P = {\n",
    "    \"pipeline.data_lake_root\": \"/pipeline-outputs/data-lake\",\n",
    "    \"task.nr_train_images\": 600,\n",
    "}"
   ]
  },
  {
   "cell_type": "code",
   "execution_count": 2,
   "id": "e1a40637",
   "metadata": {
    "execution": {
     "iopub.execute_input": "2022-07-07T06:49:07.341063Z",
     "iopub.status.busy": "2022-07-07T06:49:07.340849Z",
     "iopub.status.idle": "2022-07-07T06:49:07.343727Z",
     "shell.execute_reply": "2022-07-07T06:49:07.343144Z"
    },
    "lines_to_next_cell": 0,
    "papermill": {
     "duration": 0.007722,
     "end_time": "2022-07-07T06:49:07.345051",
     "exception": false,
     "start_time": "2022-07-07T06:49:07.337329",
     "status": "completed"
    },
    "tags": [
     "parameters"
    ]
   },
   "outputs": [],
   "source": [
    "# - During automated runs parameters will be injected in the below cell -"
   ]
  },
  {
   "cell_type": "code",
   "execution_count": 3,
   "id": "1f90c720",
   "metadata": {
    "execution": {
     "iopub.execute_input": "2022-07-07T06:49:07.351405Z",
     "iopub.status.busy": "2022-07-07T06:49:07.351007Z",
     "iopub.status.idle": "2022-07-07T06:49:07.355537Z",
     "shell.execute_reply": "2022-07-07T06:49:07.354868Z"
    },
    "papermill": {
     "duration": 0.00932,
     "end_time": "2022-07-07T06:49:07.356892",
     "exception": false,
     "start_time": "2022-07-07T06:49:07.347572",
     "status": "completed"
    },
    "tags": [
     "injected-parameters"
    ]
   },
   "outputs": [],
   "source": [
    "# Parameters\n",
    "P = {\n",
    "    \"pipeline.data_lake_root\": \"/pipeline-outputs/data-lake\",\n",
    "    \"pipeline.run_environment\": \"ci\",\n",
    "    \"pipeline.pipeline_run_id\": \"40b065d9-1904-42b9-bcd7-587daf8f649f\",\n",
    "    \"pipeline.github.repository\": \"pynb-dag-runner/mnist-digits-demo-pipeline\",\n",
    "    \"pipeline.github.workflow\": \"Run automated tests, pipeline and deploy results to static reporting site\",\n",
    "    \"pipeline.github.runner_name\": \"Hosted Agent\",\n",
    "    \"pipeline.github.run_id\": \"2627678303\",\n",
    "    \"pipeline.github.actor\": \"matiasdahl\",\n",
    "    \"pipeline.github.job\": \"run-tests-pipeline-and-persist-pipeline-outputs\",\n",
    "    \"pipeline.github.base_ref\": \"\",\n",
    "    \"pipeline.github.head_ref\": \"\",\n",
    "    \"pipeline.github.sha\": \"f934c58f68028b7bb026059d4e87e6d32a1bbd20\",\n",
    "    \"pipeline.github.ref\": \"refs/heads/development\",\n",
    "    \"pipeline.github.ref_type\": \"branch\",\n",
    "    \"pipeline.github.ref_name\": \"development\",\n",
    "    \"pipeline.github.event_name\": \"schedule\",\n",
    "    \"task.nr_train_images\": 1200,\n",
    "    \"task.notebook\": \"notebooks/train-model.py\",\n",
    "    \"task.max_nr_retries\": \"1\",\n",
    "    \"run.retry_nr\": \"0\",\n",
    "    \"task.timeout_s\": \"None\",\n",
    "    \"task.num_cpus\": 1,\n",
    "    \"_opentelemetry_traceparent\": \"00-c6511bb07cc0ac21516750c3f7f46ab0-38efcd122174e6b0-01\",\n",
    "}\n"
   ]
  },
  {
   "cell_type": "code",
   "execution_count": 4,
   "id": "674b5497",
   "metadata": {
    "execution": {
     "iopub.execute_input": "2022-07-07T06:49:07.363515Z",
     "iopub.status.busy": "2022-07-07T06:49:07.363308Z",
     "iopub.status.idle": "2022-07-07T06:49:07.366062Z",
     "shell.execute_reply": "2022-07-07T06:49:07.365548Z"
    },
    "lines_to_next_cell": 0,
    "papermill": {
     "duration": 0.007668,
     "end_time": "2022-07-07T06:49:07.367388",
     "exception": false,
     "start_time": "2022-07-07T06:49:07.359720",
     "status": "completed"
    },
    "tags": []
   },
   "outputs": [],
   "source": [
    "# -----------------------------------------------------------------------"
   ]
  },
  {
   "cell_type": "markdown",
   "id": "a13514e8",
   "metadata": {
    "papermill": {
     "duration": 0.00292,
     "end_time": "2022-07-07T06:49:07.372899",
     "exception": false,
     "start_time": "2022-07-07T06:49:07.369979",
     "status": "completed"
    },
    "tags": []
   },
   "source": [
    "---"
   ]
  },
  {
   "cell_type": "markdown",
   "id": "44467cdc",
   "metadata": {
    "lines_to_next_cell": 2,
    "papermill": {
     "duration": 0.002761,
     "end_time": "2022-07-07T06:49:07.378367",
     "exception": false,
     "start_time": "2022-07-07T06:49:07.375606",
     "status": "completed"
    },
    "tags": []
   },
   "source": [
    "### Notebook code"
   ]
  },
  {
   "cell_type": "code",
   "execution_count": 5,
   "id": "9129f17a",
   "metadata": {
    "execution": {
     "iopub.execute_input": "2022-07-07T06:49:07.385393Z",
     "iopub.status.busy": "2022-07-07T06:49:07.385185Z",
     "iopub.status.idle": "2022-07-07T06:49:07.873938Z",
     "shell.execute_reply": "2022-07-07T06:49:07.873011Z"
    },
    "papermill": {
     "duration": 0.495264,
     "end_time": "2022-07-07T06:49:07.876230",
     "exception": false,
     "start_time": "2022-07-07T06:49:07.380966",
     "status": "completed"
    },
    "tags": []
   },
   "outputs": [
    {
     "name": "stderr",
     "output_type": "stream",
     "text": [
      "2022-07-07 06:49:07,687\tINFO worker.py:842 -- Connecting to existing Ray cluster at address: 172.17.0.2:6379\n"
     ]
    }
   ],
   "source": [
    "from pynb_dag_runner.tasks.task_opentelemetry_logging import PydarLogger\n",
    "\n",
    "logger = PydarLogger(P)"
   ]
  },
  {
   "cell_type": "markdown",
   "id": "4ac1a907",
   "metadata": {
    "papermill": {
     "duration": 0.003226,
     "end_time": "2022-07-07T06:49:07.883135",
     "exception": false,
     "start_time": "2022-07-07T06:49:07.879909",
     "status": "completed"
    },
    "tags": []
   },
   "source": [
    "## Load and limit train data"
   ]
  },
  {
   "cell_type": "code",
   "execution_count": 6,
   "id": "22be2b77",
   "metadata": {
    "execution": {
     "iopub.execute_input": "2022-07-07T06:49:07.890923Z",
     "iopub.status.busy": "2022-07-07T06:49:07.890612Z",
     "iopub.status.idle": "2022-07-07T06:49:08.277993Z",
     "shell.execute_reply": "2022-07-07T06:49:08.277142Z"
    },
    "papermill": {
     "duration": 0.393463,
     "end_time": "2022-07-07T06:49:08.279911",
     "exception": false,
     "start_time": "2022-07-07T06:49:07.886448",
     "status": "completed"
    },
    "tags": []
   },
   "outputs": [],
   "source": [
    "def load_and_limit_train_data(P):\n",
    "    from common.io import datalake_root, read_numpy\n",
    "    from sklearn.model_selection import train_test_split\n",
    "\n",
    "    X_train_all = read_numpy(datalake_root(P) / \"train-data\" / \"digits.numpy\")\n",
    "    y_train_all = read_numpy(datalake_root(P) / \"train-data\" / \"labels.numpy\")\n",
    "\n",
    "    assert isinstance(P[\"task.nr_train_images\"], int)\n",
    "\n",
    "    # Note: train_test_split will fail if split is 0 or 100%.\n",
    "    assert 0 < P[\"task.nr_train_images\"] < len(y_train_all)\n",
    "\n",
    "    X_train, _, y_train, _ = train_test_split(\n",
    "        X_train_all,\n",
    "        y_train_all,\n",
    "        train_size=P[\"task.nr_train_images\"],\n",
    "        test_size=None,\n",
    "        stratify=y_train_all,\n",
    "        shuffle=True,\n",
    "        random_state=123,\n",
    "    )\n",
    "\n",
    "    assert X_train.shape == (len(y_train), 8 * 8)\n",
    "    return X_train, y_train\n",
    "\n",
    "\n",
    "X_train, y_train = load_and_limit_train_data(P)"
   ]
  },
  {
   "cell_type": "markdown",
   "id": "64bcb66d",
   "metadata": {
    "papermill": {
     "duration": 0.003059,
     "end_time": "2022-07-07T06:49:08.288306",
     "exception": false,
     "start_time": "2022-07-07T06:49:08.285247",
     "status": "completed"
    },
    "tags": []
   },
   "source": [
    "## Train support vector classifier model\n",
    "\n",
    "Below we assume that the hyperparameter $C$ is known.\n",
    "\n",
    "However, this should ideally be found by a hyperparameter search. That could be\n",
    "done in parallel on the Ray cluster, but this needs some more work. Ie., to use\n",
    "multiple cores in the notebook, those cores should be reserved when starting the\n",
    "notebook task (TODO).\n",
    "\n",
    "- https://docs.ray.io/en/latest/tune/key-concepts.html\n",
    "\n",
    "Note: cv-scores would need to be computed here, since they depend on the train data.\n",
    "After this notebook only the onnx-model is available."
   ]
  },
  {
   "cell_type": "code",
   "execution_count": 7,
   "id": "9d0512e1",
   "metadata": {
    "execution": {
     "iopub.execute_input": "2022-07-07T06:49:08.296300Z",
     "iopub.status.busy": "2022-07-07T06:49:08.296002Z",
     "iopub.status.idle": "2022-07-07T06:49:08.323204Z",
     "shell.execute_reply": "2022-07-07T06:49:08.322533Z"
    },
    "papermill": {
     "duration": 0.033248,
     "end_time": "2022-07-07T06:49:08.324720",
     "exception": false,
     "start_time": "2022-07-07T06:49:08.291472",
     "status": "completed"
    },
    "tags": []
   },
   "outputs": [],
   "source": [
    "from sklearn.svm import SVC"
   ]
  },
  {
   "cell_type": "code",
   "execution_count": 8,
   "id": "e44c2cbb",
   "metadata": {
    "execution": {
     "iopub.execute_input": "2022-07-07T06:49:08.334472Z",
     "iopub.status.busy": "2022-07-07T06:49:08.333668Z",
     "iopub.status.idle": "2022-07-07T06:49:08.540538Z",
     "shell.execute_reply": "2022-07-07T06:49:08.539974Z"
    },
    "papermill": {
     "duration": 0.214372,
     "end_time": "2022-07-07T06:49:08.542274",
     "exception": false,
     "start_time": "2022-07-07T06:49:08.327902",
     "status": "completed"
    },
    "tags": []
   },
   "outputs": [
    {
     "data": {
      "text/plain": [
       "SVC(C=0.001, kernel='linear', probability=True)"
      ]
     },
     "execution_count": 8,
     "metadata": {},
     "output_type": "execute_result"
    }
   ],
   "source": [
    "model = SVC(C=0.001, kernel=\"linear\", probability=True)\n",
    "\n",
    "model.fit(X_train, y_train)"
   ]
  },
  {
   "cell_type": "markdown",
   "id": "b8d76f0d",
   "metadata": {
    "papermill": {
     "duration": 0.00351,
     "end_time": "2022-07-07T06:49:08.549070",
     "exception": false,
     "start_time": "2022-07-07T06:49:08.545560",
     "status": "completed"
    },
    "tags": []
   },
   "source": [
    "### Q: Can the labels returned by `predict(..)` be computed from probabilities returned by the `predict_prob`-method?"
   ]
  },
  {
   "cell_type": "code",
   "execution_count": 9,
   "id": "d35860c5",
   "metadata": {
    "execution": {
     "iopub.execute_input": "2022-07-07T06:49:08.556242Z",
     "iopub.status.busy": "2022-07-07T06:49:08.555970Z",
     "iopub.status.idle": "2022-07-07T06:49:08.663774Z",
     "shell.execute_reply": "2022-07-07T06:49:08.663143Z"
    },
    "papermill": {
     "duration": 0.113408,
     "end_time": "2022-07-07T06:49:08.665510",
     "exception": false,
     "start_time": "2022-07-07T06:49:08.552102",
     "status": "completed"
    },
    "tags": []
   },
   "outputs": [
    {
     "name": "stdout",
     "output_type": "stream",
     "text": [
      " - Logging nr_max_prob_neq_label (int) : 2\n"
     ]
    }
   ],
   "source": [
    "import numpy as np\n",
    "\n",
    "y_train_labels = model.predict(X_train)\n",
    "y_train_probabilities = model.predict_proba(X_train)\n",
    "assert y_train_probabilities.shape == (len(y_train), 10)\n",
    "\n",
    "y_train_max_prob_labels = np.argmax(y_train_probabilities, axis=1)\n",
    "assert y_train_labels.shape == y_train_max_prob_labels.shape == y_train.shape\n",
    "\n",
    "# If the predicted labels would coincide with the labels that have\n",
    "# maximum probability, the below number would be zero\n",
    "logger.log_int(\n",
    "    \"nr_max_prob_neq_label\", int(sum(y_train_max_prob_labels != y_train_labels))\n",
    ")"
   ]
  },
  {
   "cell_type": "markdown",
   "id": "64b12ecf",
   "metadata": {
    "papermill": {
     "duration": 0.003675,
     "end_time": "2022-07-07T06:49:08.672491",
     "exception": false,
     "start_time": "2022-07-07T06:49:08.668816",
     "status": "completed"
    },
    "tags": []
   },
   "source": [
    "The explanation is (likely) explained in the SVC source, see\n",
    "[here](https://github.com/scikit-learn/scikit-learn/blob/main/sklearn/svm/_base.py).\n",
    "Namely, the outputs from `predict(..)` and `predict_proba(..)` may not in some\n",
    "cases be compatible since the latter is computed using cross-validation while\n",
    "the former is not. Thus, the above number need not be zero."
   ]
  },
  {
   "cell_type": "markdown",
   "id": "5fdd8adb",
   "metadata": {
    "papermill": {
     "duration": 0.003151,
     "end_time": "2022-07-07T06:49:08.678738",
     "exception": false,
     "start_time": "2022-07-07T06:49:08.675587",
     "status": "completed"
    },
    "tags": []
   },
   "source": [
    "## Persist model"
   ]
  },
  {
   "cell_type": "code",
   "execution_count": 10,
   "id": "4df66484",
   "metadata": {
    "execution": {
     "iopub.execute_input": "2022-07-07T06:49:08.686777Z",
     "iopub.status.busy": "2022-07-07T06:49:08.686427Z",
     "iopub.status.idle": "2022-07-07T06:49:09.425051Z",
     "shell.execute_reply": "2022-07-07T06:49:09.424427Z"
    },
    "papermill": {
     "duration": 0.74482,
     "end_time": "2022-07-07T06:49:09.427171",
     "exception": false,
     "start_time": "2022-07-07T06:49:08.682351",
     "status": "completed"
    },
    "tags": []
   },
   "outputs": [],
   "source": [
    "from skl2onnx import convert_sklearn\n",
    "from skl2onnx.common.data_types import FloatTensorType\n",
    "\n",
    "#\n",
    "from common.io import datalake_root, write_onnx"
   ]
  },
  {
   "cell_type": "code",
   "execution_count": 11,
   "id": "a2d70225",
   "metadata": {
    "execution": {
     "iopub.execute_input": "2022-07-07T06:49:09.436053Z",
     "iopub.status.busy": "2022-07-07T06:49:09.435494Z",
     "iopub.status.idle": "2022-07-07T06:49:09.499732Z",
     "shell.execute_reply": "2022-07-07T06:49:09.499071Z"
    },
    "papermill": {
     "duration": 0.071085,
     "end_time": "2022-07-07T06:49:09.501894",
     "exception": false,
     "start_time": "2022-07-07T06:49:09.430809",
     "status": "completed"
    },
    "tags": []
   },
   "outputs": [],
   "source": [
    "# convert sklearn model into onnx and persist to data lake\n",
    "\n",
    "model_onnx = convert_sklearn(\n",
    "    model, initial_types=[(\"float_input_8x8_image\", FloatTensorType([None, 8 * 8]))]\n",
    ")\n",
    "write_onnx(\n",
    "    datalake_root(P)\n",
    "    / \"models\"\n",
    "    / f\"nr_train_images={P['task.nr_train_images']}\"\n",
    "    / \"model.onnx\",\n",
    "    model_onnx,\n",
    ")"
   ]
  },
  {
   "cell_type": "code",
   "execution_count": null,
   "id": "e5d69ab0",
   "metadata": {
    "papermill": {
     "duration": 0.003831,
     "end_time": "2022-07-07T06:49:09.508989",
     "exception": false,
     "start_time": "2022-07-07T06:49:09.505158",
     "status": "completed"
    },
    "tags": []
   },
   "outputs": [],
   "source": []
  }
 ],
 "metadata": {
  "jupytext": {
   "cell_metadata_filter": "tags,-all",
   "main_language": "python",
   "notebook_metadata_filter": "-all"
  },
  "language_info": {
   "codemirror_mode": {
    "name": "ipython",
    "version": 3
   },
   "file_extension": ".py",
   "mimetype": "text/x-python",
   "name": "python",
   "nbconvert_exporter": "python",
   "pygments_lexer": "ipython3",
   "version": "3.8.10"
  },
  "papermill": {
   "default_parameters": {},
   "duration": 4.668501,
   "end_time": "2022-07-07T06:49:10.636003",
   "environment_variables": {},
   "exception": null,
   "input_path": "/home/host_user/workspace/mnist-demo-pipeline/mnist-demo-pipeline/notebooks/temp-notebook-8qp3kn6j.ipynb",
   "output_path": "notebooks/train-model.ipynb",
   "parameters": {
    "P": {
     "_opentelemetry_traceparent": "00-c6511bb07cc0ac21516750c3f7f46ab0-38efcd122174e6b0-01",
     "pipeline.data_lake_root": "/pipeline-outputs/data-lake",
     "pipeline.github.actor": "matiasdahl",
     "pipeline.github.base_ref": "",
     "pipeline.github.event_name": "schedule",
     "pipeline.github.head_ref": "",
     "pipeline.github.job": "run-tests-pipeline-and-persist-pipeline-outputs",
     "pipeline.github.ref": "refs/heads/development",
     "pipeline.github.ref_name": "development",
     "pipeline.github.ref_type": "branch",
     "pipeline.github.repository": "pynb-dag-runner/mnist-digits-demo-pipeline",
     "pipeline.github.run_id": "2627678303",
     "pipeline.github.runner_name": "Hosted Agent",
     "pipeline.github.sha": "f934c58f68028b7bb026059d4e87e6d32a1bbd20",
     "pipeline.github.workflow": "Run automated tests, pipeline and deploy results to static reporting site",
     "pipeline.pipeline_run_id": "40b065d9-1904-42b9-bcd7-587daf8f649f",
     "pipeline.run_environment": "ci",
     "run.retry_nr": "0",
     "task.max_nr_retries": "1",
     "task.notebook": "notebooks/train-model.py",
     "task.nr_train_images": 1200,
     "task.num_cpus": 1,
     "task.timeout_s": "None"
    }
   },
   "start_time": "2022-07-07T06:49:05.967502",
   "version": "2.3.3"
  }
 },
 "nbformat": 4,
 "nbformat_minor": 5
}