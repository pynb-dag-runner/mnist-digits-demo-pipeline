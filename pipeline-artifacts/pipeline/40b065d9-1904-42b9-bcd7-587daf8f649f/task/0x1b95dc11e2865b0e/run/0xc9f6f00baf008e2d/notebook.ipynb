{
 "cells": [
  {
   "cell_type": "markdown",
   "id": "06a96de7",
   "metadata": {
    "papermill": {
     "duration": 0.004112,
     "end_time": "2022-07-07T06:49:09.257904",
     "exception": false,
     "start_time": "2022-07-07T06:49:09.253792",
     "status": "completed"
    },
    "tags": []
   },
   "source": [
    "# Train model\n",
    "\n",
    "The purpose of this notebook is:\n",
    "\n",
    "- Load all training data (images and labels).\n",
    "- Limit number of train images to `task.nr_train_images` (value provided as run parameter).\n",
    "- Train a support vector machine model using sklearn.\n",
    "- Persist the trained model using the ONNX format."
   ]
  },
  {
   "cell_type": "markdown",
   "id": "c46a2c43",
   "metadata": {
    "papermill": {
     "duration": 0.003129,
     "end_time": "2022-07-07T06:49:09.264768",
     "exception": false,
     "start_time": "2022-07-07T06:49:09.261639",
     "status": "completed"
    },
    "tags": []
   },
   "source": [
    "### Determine run parameters"
   ]
  },
  {
   "cell_type": "code",
   "execution_count": 1,
   "id": "8ab93a6d",
   "metadata": {
    "execution": {
     "iopub.execute_input": "2022-07-07T06:49:09.272136Z",
     "iopub.status.busy": "2022-07-07T06:49:09.271818Z",
     "iopub.status.idle": "2022-07-07T06:49:09.279608Z",
     "shell.execute_reply": "2022-07-07T06:49:09.278556Z"
    },
    "lines_to_next_cell": 0,
    "papermill": {
     "duration": 0.015068,
     "end_time": "2022-07-07T06:49:09.282472",
     "exception": false,
     "start_time": "2022-07-07T06:49:09.267404",
     "status": "completed"
    },
    "tags": []
   },
   "outputs": [],
   "source": [
    "# ----------------- Parameters for interactive development --------------\n",
    "P = {\n",
    "    \"pipeline.data_lake_root\": \"/pipeline-outputs/data-lake\",\n",
    "    \"task.nr_train_images\": 600,\n",
    "}"
   ]
  },
  {
   "cell_type": "code",
   "execution_count": 2,
   "id": "0e7df5ad",
   "metadata": {
    "execution": {
     "iopub.execute_input": "2022-07-07T06:49:09.289202Z",
     "iopub.status.busy": "2022-07-07T06:49:09.288974Z",
     "iopub.status.idle": "2022-07-07T06:49:09.292936Z",
     "shell.execute_reply": "2022-07-07T06:49:09.292406Z"
    },
    "lines_to_next_cell": 0,
    "papermill": {
     "duration": 0.010018,
     "end_time": "2022-07-07T06:49:09.295576",
     "exception": false,
     "start_time": "2022-07-07T06:49:09.285558",
     "status": "completed"
    },
    "tags": [
     "parameters"
    ]
   },
   "outputs": [],
   "source": [
    "# - During automated runs parameters will be injected in the below cell -"
   ]
  },
  {
   "cell_type": "code",
   "execution_count": 3,
   "id": "7ecf349f",
   "metadata": {
    "execution": {
     "iopub.execute_input": "2022-07-07T06:49:09.302525Z",
     "iopub.status.busy": "2022-07-07T06:49:09.302291Z",
     "iopub.status.idle": "2022-07-07T06:49:09.306775Z",
     "shell.execute_reply": "2022-07-07T06:49:09.306243Z"
    },
    "papermill": {
     "duration": 0.01113,
     "end_time": "2022-07-07T06:49:09.309386",
     "exception": false,
     "start_time": "2022-07-07T06:49:09.298256",
     "status": "completed"
    },
    "tags": [
     "injected-parameters"
    ]
   },
   "outputs": [],
   "source": [
    "# Parameters\n",
    "P = {\n",
    "    \"pipeline.data_lake_root\": \"/pipeline-outputs/data-lake\",\n",
    "    \"pipeline.run_environment\": \"ci\",\n",
    "    \"pipeline.pipeline_run_id\": \"40b065d9-1904-42b9-bcd7-587daf8f649f\",\n",
    "    \"pipeline.github.repository\": \"pynb-dag-runner/mnist-digits-demo-pipeline\",\n",
    "    \"pipeline.github.workflow\": \"Run automated tests, pipeline and deploy results to static reporting site\",\n",
    "    \"pipeline.github.runner_name\": \"Hosted Agent\",\n",
    "    \"pipeline.github.run_id\": \"2627678303\",\n",
    "    \"pipeline.github.actor\": \"matiasdahl\",\n",
    "    \"pipeline.github.job\": \"run-tests-pipeline-and-persist-pipeline-outputs\",\n",
    "    \"pipeline.github.base_ref\": \"\",\n",
    "    \"pipeline.github.head_ref\": \"\",\n",
    "    \"pipeline.github.sha\": \"f934c58f68028b7bb026059d4e87e6d32a1bbd20\",\n",
    "    \"pipeline.github.ref\": \"refs/heads/development\",\n",
    "    \"pipeline.github.ref_type\": \"branch\",\n",
    "    \"pipeline.github.ref_name\": \"development\",\n",
    "    \"pipeline.github.event_name\": \"schedule\",\n",
    "    \"task.nr_train_images\": 800,\n",
    "    \"task.notebook\": \"notebooks/train-model.py\",\n",
    "    \"task.max_nr_retries\": \"1\",\n",
    "    \"run.retry_nr\": \"0\",\n",
    "    \"task.timeout_s\": \"None\",\n",
    "    \"task.num_cpus\": 1,\n",
    "    \"_opentelemetry_traceparent\": \"00-c6511bb07cc0ac21516750c3f7f46ab0-6acb2a71d6cf5da4-01\",\n",
    "}\n"
   ]
  },
  {
   "cell_type": "code",
   "execution_count": 4,
   "id": "96dc60bc",
   "metadata": {
    "execution": {
     "iopub.execute_input": "2022-07-07T06:49:09.316674Z",
     "iopub.status.busy": "2022-07-07T06:49:09.316472Z",
     "iopub.status.idle": "2022-07-07T06:49:09.319245Z",
     "shell.execute_reply": "2022-07-07T06:49:09.318739Z"
    },
    "lines_to_next_cell": 0,
    "papermill": {
     "duration": 0.009311,
     "end_time": "2022-07-07T06:49:09.322086",
     "exception": false,
     "start_time": "2022-07-07T06:49:09.312775",
     "status": "completed"
    },
    "tags": []
   },
   "outputs": [],
   "source": [
    "# -----------------------------------------------------------------------"
   ]
  },
  {
   "cell_type": "markdown",
   "id": "e322945a",
   "metadata": {
    "papermill": {
     "duration": 0.002982,
     "end_time": "2022-07-07T06:49:09.327800",
     "exception": false,
     "start_time": "2022-07-07T06:49:09.324818",
     "status": "completed"
    },
    "tags": []
   },
   "source": [
    "---"
   ]
  },
  {
   "cell_type": "markdown",
   "id": "3776195b",
   "metadata": {
    "lines_to_next_cell": 2,
    "papermill": {
     "duration": 0.003138,
     "end_time": "2022-07-07T06:49:09.333749",
     "exception": false,
     "start_time": "2022-07-07T06:49:09.330611",
     "status": "completed"
    },
    "tags": []
   },
   "source": [
    "### Notebook code"
   ]
  },
  {
   "cell_type": "code",
   "execution_count": 5,
   "id": "52dd289f",
   "metadata": {
    "execution": {
     "iopub.execute_input": "2022-07-07T06:49:09.346344Z",
     "iopub.status.busy": "2022-07-07T06:49:09.346114Z",
     "iopub.status.idle": "2022-07-07T06:49:09.802910Z",
     "shell.execute_reply": "2022-07-07T06:49:09.802148Z"
    },
    "papermill": {
     "duration": 0.467943,
     "end_time": "2022-07-07T06:49:09.804992",
     "exception": false,
     "start_time": "2022-07-07T06:49:09.337049",
     "status": "completed"
    },
    "tags": []
   },
   "outputs": [
    {
     "name": "stderr",
     "output_type": "stream",
     "text": [
      "2022-07-07 06:49:09,653\tINFO worker.py:842 -- Connecting to existing Ray cluster at address: 172.17.0.2:6379\n"
     ]
    }
   ],
   "source": [
    "from pynb_dag_runner.tasks.task_opentelemetry_logging import PydarLogger\n",
    "\n",
    "logger = PydarLogger(P)"
   ]
  },
  {
   "cell_type": "markdown",
   "id": "bead7d87",
   "metadata": {
    "papermill": {
     "duration": 0.002995,
     "end_time": "2022-07-07T06:49:09.811239",
     "exception": false,
     "start_time": "2022-07-07T06:49:09.808244",
     "status": "completed"
    },
    "tags": []
   },
   "source": [
    "## Load and limit train data"
   ]
  },
  {
   "cell_type": "code",
   "execution_count": 6,
   "id": "8ca1fada",
   "metadata": {
    "execution": {
     "iopub.execute_input": "2022-07-07T06:49:09.818312Z",
     "iopub.status.busy": "2022-07-07T06:49:09.817852Z",
     "iopub.status.idle": "2022-07-07T06:49:10.175612Z",
     "shell.execute_reply": "2022-07-07T06:49:10.174684Z"
    },
    "papermill": {
     "duration": 0.363777,
     "end_time": "2022-07-07T06:49:10.177830",
     "exception": false,
     "start_time": "2022-07-07T06:49:09.814053",
     "status": "completed"
    },
    "tags": []
   },
   "outputs": [],
   "source": [
    "def load_and_limit_train_data(P):\n",
    "    from common.io import datalake_root, read_numpy\n",
    "    from sklearn.model_selection import train_test_split\n",
    "\n",
    "    X_train_all = read_numpy(datalake_root(P) / \"train-data\" / \"digits.numpy\")\n",
    "    y_train_all = read_numpy(datalake_root(P) / \"train-data\" / \"labels.numpy\")\n",
    "\n",
    "    assert isinstance(P[\"task.nr_train_images\"], int)\n",
    "\n",
    "    # Note: train_test_split will fail if split is 0 or 100%.\n",
    "    assert 0 < P[\"task.nr_train_images\"] < len(y_train_all)\n",
    "\n",
    "    X_train, _, y_train, _ = train_test_split(\n",
    "        X_train_all,\n",
    "        y_train_all,\n",
    "        train_size=P[\"task.nr_train_images\"],\n",
    "        test_size=None,\n",
    "        stratify=y_train_all,\n",
    "        shuffle=True,\n",
    "        random_state=123,\n",
    "    )\n",
    "\n",
    "    assert X_train.shape == (len(y_train), 8 * 8)\n",
    "    return X_train, y_train\n",
    "\n",
    "\n",
    "X_train, y_train = load_and_limit_train_data(P)"
   ]
  },
  {
   "cell_type": "markdown",
   "id": "d3d2a0df",
   "metadata": {
    "papermill": {
     "duration": 0.003477,
     "end_time": "2022-07-07T06:49:10.186559",
     "exception": false,
     "start_time": "2022-07-07T06:49:10.183082",
     "status": "completed"
    },
    "tags": []
   },
   "source": [
    "## Train support vector classifier model\n",
    "\n",
    "Below we assume that the hyperparameter $C$ is known.\n",
    "\n",
    "However, this should ideally be found by a hyperparameter search. That could be\n",
    "done in parallel on the Ray cluster, but this needs some more work. Ie., to use\n",
    "multiple cores in the notebook, those cores should be reserved when starting the\n",
    "notebook task (TODO).\n",
    "\n",
    "- https://docs.ray.io/en/latest/tune/key-concepts.html\n",
    "\n",
    "Note: cv-scores would need to be computed here, since they depend on the train data.\n",
    "After this notebook only the onnx-model is available."
   ]
  },
  {
   "cell_type": "code",
   "execution_count": 7,
   "id": "290255af",
   "metadata": {
    "execution": {
     "iopub.execute_input": "2022-07-07T06:49:10.193677Z",
     "iopub.status.busy": "2022-07-07T06:49:10.193311Z",
     "iopub.status.idle": "2022-07-07T06:49:10.214795Z",
     "shell.execute_reply": "2022-07-07T06:49:10.213998Z"
    },
    "papermill": {
     "duration": 0.027848,
     "end_time": "2022-07-07T06:49:10.217308",
     "exception": false,
     "start_time": "2022-07-07T06:49:10.189460",
     "status": "completed"
    },
    "tags": []
   },
   "outputs": [],
   "source": [
    "from sklearn.svm import SVC"
   ]
  },
  {
   "cell_type": "code",
   "execution_count": 8,
   "id": "b8d5075f",
   "metadata": {
    "execution": {
     "iopub.execute_input": "2022-07-07T06:49:10.225200Z",
     "iopub.status.busy": "2022-07-07T06:49:10.224343Z",
     "iopub.status.idle": "2022-07-07T06:49:10.347246Z",
     "shell.execute_reply": "2022-07-07T06:49:10.346647Z"
    },
    "papermill": {
     "duration": 0.12871,
     "end_time": "2022-07-07T06:49:10.349087",
     "exception": false,
     "start_time": "2022-07-07T06:49:10.220377",
     "status": "completed"
    },
    "tags": []
   },
   "outputs": [
    {
     "data": {
      "text/plain": [
       "SVC(C=0.001, kernel='linear', probability=True)"
      ]
     },
     "execution_count": 8,
     "metadata": {},
     "output_type": "execute_result"
    }
   ],
   "source": [
    "model = SVC(C=0.001, kernel=\"linear\", probability=True)\n",
    "\n",
    "model.fit(X_train, y_train)"
   ]
  },
  {
   "cell_type": "markdown",
   "id": "5506eb6e",
   "metadata": {
    "papermill": {
     "duration": 0.003605,
     "end_time": "2022-07-07T06:49:10.355994",
     "exception": false,
     "start_time": "2022-07-07T06:49:10.352389",
     "status": "completed"
    },
    "tags": []
   },
   "source": [
    "### Q: Can the labels returned by `predict(..)` be computed from probabilities returned by the `predict_prob`-method?"
   ]
  },
  {
   "cell_type": "code",
   "execution_count": 9,
   "id": "a53fa9fb",
   "metadata": {
    "execution": {
     "iopub.execute_input": "2022-07-07T06:49:10.363954Z",
     "iopub.status.busy": "2022-07-07T06:49:10.363668Z",
     "iopub.status.idle": "2022-07-07T06:49:10.422082Z",
     "shell.execute_reply": "2022-07-07T06:49:10.421509Z"
    },
    "papermill": {
     "duration": 0.064664,
     "end_time": "2022-07-07T06:49:10.423868",
     "exception": false,
     "start_time": "2022-07-07T06:49:10.359204",
     "status": "completed"
    },
    "tags": []
   },
   "outputs": [
    {
     "name": "stdout",
     "output_type": "stream",
     "text": [
      " - Logging nr_max_prob_neq_label (int) : 1\n"
     ]
    }
   ],
   "source": [
    "import numpy as np\n",
    "\n",
    "y_train_labels = model.predict(X_train)\n",
    "y_train_probabilities = model.predict_proba(X_train)\n",
    "assert y_train_probabilities.shape == (len(y_train), 10)\n",
    "\n",
    "y_train_max_prob_labels = np.argmax(y_train_probabilities, axis=1)\n",
    "assert y_train_labels.shape == y_train_max_prob_labels.shape == y_train.shape\n",
    "\n",
    "# If the predicted labels would coincide with the labels that have\n",
    "# maximum probability, the below number would be zero\n",
    "logger.log_int(\n",
    "    \"nr_max_prob_neq_label\", int(sum(y_train_max_prob_labels != y_train_labels))\n",
    ")"
   ]
  },
  {
   "cell_type": "markdown",
   "id": "f3ba04d0",
   "metadata": {
    "papermill": {
     "duration": 0.00353,
     "end_time": "2022-07-07T06:49:10.430915",
     "exception": false,
     "start_time": "2022-07-07T06:49:10.427385",
     "status": "completed"
    },
    "tags": []
   },
   "source": [
    "The explanation is (likely) explained in the SVC source, see\n",
    "[here](https://github.com/scikit-learn/scikit-learn/blob/main/sklearn/svm/_base.py).\n",
    "Namely, the outputs from `predict(..)` and `predict_proba(..)` may not in some\n",
    "cases be compatible since the latter is computed using cross-validation while\n",
    "the former is not. Thus, the above number need not be zero."
   ]
  },
  {
   "cell_type": "markdown",
   "id": "dc3dee22",
   "metadata": {
    "papermill": {
     "duration": 0.003097,
     "end_time": "2022-07-07T06:49:10.437067",
     "exception": false,
     "start_time": "2022-07-07T06:49:10.433970",
     "status": "completed"
    },
    "tags": []
   },
   "source": [
    "## Persist model"
   ]
  },
  {
   "cell_type": "code",
   "execution_count": 10,
   "id": "4595286e",
   "metadata": {
    "execution": {
     "iopub.execute_input": "2022-07-07T06:49:10.445348Z",
     "iopub.status.busy": "2022-07-07T06:49:10.445070Z",
     "iopub.status.idle": "2022-07-07T06:49:11.250787Z",
     "shell.execute_reply": "2022-07-07T06:49:11.249970Z"
    },
    "papermill": {
     "duration": 0.811976,
     "end_time": "2022-07-07T06:49:11.252689",
     "exception": false,
     "start_time": "2022-07-07T06:49:10.440713",
     "status": "completed"
    },
    "tags": []
   },
   "outputs": [],
   "source": [
    "from skl2onnx import convert_sklearn\n",
    "from skl2onnx.common.data_types import FloatTensorType\n",
    "\n",
    "#\n",
    "from common.io import datalake_root, write_onnx"
   ]
  },
  {
   "cell_type": "code",
   "execution_count": 11,
   "id": "0d8d4b0a",
   "metadata": {
    "execution": {
     "iopub.execute_input": "2022-07-07T06:49:11.268482Z",
     "iopub.status.busy": "2022-07-07T06:49:11.260836Z",
     "iopub.status.idle": "2022-07-07T06:49:11.316369Z",
     "shell.execute_reply": "2022-07-07T06:49:11.315602Z"
    },
    "papermill": {
     "duration": 0.06208,
     "end_time": "2022-07-07T06:49:11.318582",
     "exception": false,
     "start_time": "2022-07-07T06:49:11.256502",
     "status": "completed"
    },
    "tags": []
   },
   "outputs": [],
   "source": [
    "# convert sklearn model into onnx and persist to data lake\n",
    "\n",
    "model_onnx = convert_sklearn(\n",
    "    model, initial_types=[(\"float_input_8x8_image\", FloatTensorType([None, 8 * 8]))]\n",
    ")\n",
    "write_onnx(\n",
    "    datalake_root(P)\n",
    "    / \"models\"\n",
    "    / f\"nr_train_images={P['task.nr_train_images']}\"\n",
    "    / \"model.onnx\",\n",
    "    model_onnx,\n",
    ")"
   ]
  },
  {
   "cell_type": "code",
   "execution_count": null,
   "id": "40bc5a1a",
   "metadata": {
    "papermill": {
     "duration": 0.004189,
     "end_time": "2022-07-07T06:49:11.326110",
     "exception": false,
     "start_time": "2022-07-07T06:49:11.321921",
     "status": "completed"
    },
    "tags": []
   },
   "outputs": [],
   "source": []
  }
 ],
 "metadata": {
  "jupytext": {
   "cell_metadata_filter": "tags,-all",
   "main_language": "python",
   "notebook_metadata_filter": "-all"
  },
  "language_info": {
   "codemirror_mode": {
    "name": "ipython",
    "version": 3
   },
   "file_extension": ".py",
   "mimetype": "text/x-python",
   "name": "python",
   "nbconvert_exporter": "python",
   "pygments_lexer": "ipython3",
   "version": "3.8.10"
  },
  "papermill": {
   "default_parameters": {},
   "duration": 4.421279,
   "end_time": "2022-07-07T06:49:12.447999",
   "environment_variables": {},
   "exception": null,
   "input_path": "/home/host_user/workspace/mnist-demo-pipeline/mnist-demo-pipeline/notebooks/temp-notebook-q7r60zfl.ipynb",
   "output_path": "notebooks/train-model.ipynb",
   "parameters": {
    "P": {
     "_opentelemetry_traceparent": "00-c6511bb07cc0ac21516750c3f7f46ab0-6acb2a71d6cf5da4-01",
     "pipeline.data_lake_root": "/pipeline-outputs/data-lake",
     "pipeline.github.actor": "matiasdahl",
     "pipeline.github.base_ref": "",
     "pipeline.github.event_name": "schedule",
     "pipeline.github.head_ref": "",
     "pipeline.github.job": "run-tests-pipeline-and-persist-pipeline-outputs",
     "pipeline.github.ref": "refs/heads/development",
     "pipeline.github.ref_name": "development",
     "pipeline.github.ref_type": "branch",
     "pipeline.github.repository": "pynb-dag-runner/mnist-digits-demo-pipeline",
     "pipeline.github.run_id": "2627678303",
     "pipeline.github.runner_name": "Hosted Agent",
     "pipeline.github.sha": "f934c58f68028b7bb026059d4e87e6d32a1bbd20",
     "pipeline.github.workflow": "Run automated tests, pipeline and deploy results to static reporting site",
     "pipeline.pipeline_run_id": "40b065d9-1904-42b9-bcd7-587daf8f649f",
     "pipeline.run_environment": "ci",
     "run.retry_nr": "0",
     "task.max_nr_retries": "1",
     "task.notebook": "notebooks/train-model.py",
     "task.nr_train_images": 800,
     "task.num_cpus": 1,
     "task.timeout_s": "None"
    }
   },
   "start_time": "2022-07-07T06:49:08.026720",
   "version": "2.3.3"
  }
 },
 "nbformat": 4,
 "nbformat_minor": 5
}