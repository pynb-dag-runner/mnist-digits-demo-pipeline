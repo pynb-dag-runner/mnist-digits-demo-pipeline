{
 "cells": [
  {
   "cell_type": "markdown",
   "id": "5fa4b3e7",
   "metadata": {
    "papermill": {
     "duration": 0.003782,
     "end_time": "2022-07-07T06:48:57.798921",
     "exception": false,
     "start_time": "2022-07-07T06:48:57.795139",
     "status": "completed"
    },
    "tags": []
   },
   "source": [
    "# Split digits and labels into separate training and testing data sets"
   ]
  },
  {
   "cell_type": "markdown",
   "id": "db4bb15e",
   "metadata": {
    "papermill": {
     "duration": 0.00219,
     "end_time": "2022-07-07T06:48:57.803758",
     "exception": false,
     "start_time": "2022-07-07T06:48:57.801568",
     "status": "completed"
    },
    "tags": []
   },
   "source": [
    "### Determine run parameters"
   ]
  },
  {
   "cell_type": "code",
   "execution_count": 1,
   "id": "77e1370e",
   "metadata": {
    "execution": {
     "iopub.execute_input": "2022-07-07T06:48:57.809980Z",
     "iopub.status.busy": "2022-07-07T06:48:57.809627Z",
     "iopub.status.idle": "2022-07-07T06:48:57.818125Z",
     "shell.execute_reply": "2022-07-07T06:48:57.817612Z"
    },
    "lines_to_next_cell": 0,
    "papermill": {
     "duration": 0.014322,
     "end_time": "2022-07-07T06:48:57.820251",
     "exception": false,
     "start_time": "2022-07-07T06:48:57.805929",
     "status": "completed"
    },
    "tags": []
   },
   "outputs": [],
   "source": [
    "# ----------------- Parameters for interactive development --------------\n",
    "P = {\n",
    "    \"pipeline.data_lake_root\": \"/pipeline-outputs/data-lake\",\n",
    "    \"task.train_test_ratio\": 0.7,\n",
    "}"
   ]
  },
  {
   "cell_type": "code",
   "execution_count": 2,
   "id": "c93e2047",
   "metadata": {
    "execution": {
     "iopub.execute_input": "2022-07-07T06:48:57.826986Z",
     "iopub.status.busy": "2022-07-07T06:48:57.826574Z",
     "iopub.status.idle": "2022-07-07T06:48:57.829376Z",
     "shell.execute_reply": "2022-07-07T06:48:57.828878Z"
    },
    "lines_to_next_cell": 0,
    "papermill": {
     "duration": 0.009223,
     "end_time": "2022-07-07T06:48:57.831893",
     "exception": false,
     "start_time": "2022-07-07T06:48:57.822670",
     "status": "completed"
    },
    "tags": [
     "parameters"
    ]
   },
   "outputs": [],
   "source": [
    "# - During automated runs parameters will be injected in the below cell -"
   ]
  },
  {
   "cell_type": "code",
   "execution_count": 3,
   "id": "577a6d02",
   "metadata": {
    "execution": {
     "iopub.execute_input": "2022-07-07T06:48:57.838250Z",
     "iopub.status.busy": "2022-07-07T06:48:57.838025Z",
     "iopub.status.idle": "2022-07-07T06:48:57.842755Z",
     "shell.execute_reply": "2022-07-07T06:48:57.842214Z"
    },
    "papermill": {
     "duration": 0.012048,
     "end_time": "2022-07-07T06:48:57.846108",
     "exception": false,
     "start_time": "2022-07-07T06:48:57.834060",
     "status": "completed"
    },
    "tags": [
     "injected-parameters"
    ]
   },
   "outputs": [],
   "source": [
    "# Parameters\n",
    "P = {\n",
    "    \"pipeline.data_lake_root\": \"/pipeline-outputs/data-lake\",\n",
    "    \"pipeline.run_environment\": \"ci\",\n",
    "    \"pipeline.pipeline_run_id\": \"40b065d9-1904-42b9-bcd7-587daf8f649f\",\n",
    "    \"pipeline.github.repository\": \"pynb-dag-runner/mnist-digits-demo-pipeline\",\n",
    "    \"pipeline.github.workflow\": \"Run automated tests, pipeline and deploy results to static reporting site\",\n",
    "    \"pipeline.github.runner_name\": \"Hosted Agent\",\n",
    "    \"pipeline.github.run_id\": \"2627678303\",\n",
    "    \"pipeline.github.actor\": \"matiasdahl\",\n",
    "    \"pipeline.github.job\": \"run-tests-pipeline-and-persist-pipeline-outputs\",\n",
    "    \"pipeline.github.base_ref\": \"\",\n",
    "    \"pipeline.github.head_ref\": \"\",\n",
    "    \"pipeline.github.sha\": \"f934c58f68028b7bb026059d4e87e6d32a1bbd20\",\n",
    "    \"pipeline.github.ref\": \"refs/heads/development\",\n",
    "    \"pipeline.github.ref_type\": \"branch\",\n",
    "    \"pipeline.github.ref_name\": \"development\",\n",
    "    \"pipeline.github.event_name\": \"schedule\",\n",
    "    \"task.train_test_ratio\": 0.7,\n",
    "    \"task.notebook\": \"notebooks/split-train-test.py\",\n",
    "    \"task.max_nr_retries\": \"1\",\n",
    "    \"run.retry_nr\": \"0\",\n",
    "    \"task.timeout_s\": \"None\",\n",
    "    \"task.num_cpus\": 1,\n",
    "    \"_opentelemetry_traceparent\": \"00-c6511bb07cc0ac21516750c3f7f46ab0-7c82aa7e5953ef07-01\",\n",
    "}\n"
   ]
  },
  {
   "cell_type": "code",
   "execution_count": 4,
   "id": "6170f82b",
   "metadata": {
    "execution": {
     "iopub.execute_input": "2022-07-07T06:48:57.851931Z",
     "iopub.status.busy": "2022-07-07T06:48:57.851675Z",
     "iopub.status.idle": "2022-07-07T06:48:57.855175Z",
     "shell.execute_reply": "2022-07-07T06:48:57.854570Z"
    },
    "lines_to_next_cell": 0,
    "papermill": {
     "duration": 0.00953,
     "end_time": "2022-07-07T06:48:57.857957",
     "exception": false,
     "start_time": "2022-07-07T06:48:57.848427",
     "status": "completed"
    },
    "tags": []
   },
   "outputs": [],
   "source": [
    "# -----------------------------------------------------------------------"
   ]
  },
  {
   "cell_type": "markdown",
   "id": "28eabc00",
   "metadata": {
    "papermill": {
     "duration": 0.00262,
     "end_time": "2022-07-07T06:48:57.862998",
     "exception": false,
     "start_time": "2022-07-07T06:48:57.860378",
     "status": "completed"
    },
    "tags": []
   },
   "source": [
    "---"
   ]
  },
  {
   "cell_type": "markdown",
   "id": "eeb799cc",
   "metadata": {
    "lines_to_next_cell": 2,
    "papermill": {
     "duration": 0.002605,
     "end_time": "2022-07-07T06:48:57.868122",
     "exception": false,
     "start_time": "2022-07-07T06:48:57.865517",
     "status": "completed"
    },
    "tags": []
   },
   "source": [
    "### Notebook code"
   ]
  },
  {
   "cell_type": "code",
   "execution_count": 5,
   "id": "6e79ef70",
   "metadata": {
    "execution": {
     "iopub.execute_input": "2022-07-07T06:48:57.874028Z",
     "iopub.status.busy": "2022-07-07T06:48:57.873791Z",
     "iopub.status.idle": "2022-07-07T06:48:58.392107Z",
     "shell.execute_reply": "2022-07-07T06:48:58.391280Z"
    },
    "papermill": {
     "duration": 0.523441,
     "end_time": "2022-07-07T06:48:58.393949",
     "exception": false,
     "start_time": "2022-07-07T06:48:57.870508",
     "status": "completed"
    },
    "tags": []
   },
   "outputs": [
    {
     "name": "stderr",
     "output_type": "stream",
     "text": [
      "2022-07-07 06:48:58,219\tINFO worker.py:842 -- Connecting to existing Ray cluster at address: 172.17.0.2:6379\n"
     ]
    }
   ],
   "source": [
    "from common.io import datalake_root, read_numpy, write_numpy\n",
    "from pynb_dag_runner.tasks.task_opentelemetry_logging import PydarLogger\n",
    "\n",
    "logger = PydarLogger(P)"
   ]
  },
  {
   "cell_type": "markdown",
   "id": "1d17a878",
   "metadata": {
    "papermill": {
     "duration": 0.002531,
     "end_time": "2022-07-07T06:48:58.399298",
     "exception": false,
     "start_time": "2022-07-07T06:48:58.396767",
     "status": "completed"
    },
    "tags": []
   },
   "source": [
    "## Load and split digits data"
   ]
  },
  {
   "cell_type": "code",
   "execution_count": 6,
   "id": "956e4a7d",
   "metadata": {
    "execution": {
     "iopub.execute_input": "2022-07-07T06:48:58.405297Z",
     "iopub.status.busy": "2022-07-07T06:48:58.404967Z",
     "iopub.status.idle": "2022-07-07T06:48:58.410940Z",
     "shell.execute_reply": "2022-07-07T06:48:58.410336Z"
    },
    "papermill": {
     "duration": 0.010916,
     "end_time": "2022-07-07T06:48:58.412498",
     "exception": false,
     "start_time": "2022-07-07T06:48:58.401582",
     "status": "completed"
    },
    "tags": []
   },
   "outputs": [],
   "source": [
    "X = read_numpy(datalake_root(P) / \"raw\" / \"digits.numpy\")\n",
    "y = read_numpy(datalake_root(P) / \"raw\" / \"labels.numpy\")"
   ]
  },
  {
   "cell_type": "code",
   "execution_count": 7,
   "id": "81758474",
   "metadata": {
    "execution": {
     "iopub.execute_input": "2022-07-07T06:48:58.418487Z",
     "iopub.status.busy": "2022-07-07T06:48:58.418213Z",
     "iopub.status.idle": "2022-07-07T06:48:58.817983Z",
     "shell.execute_reply": "2022-07-07T06:48:58.817316Z"
    },
    "papermill": {
     "duration": 0.405587,
     "end_time": "2022-07-07T06:48:58.820490",
     "exception": false,
     "start_time": "2022-07-07T06:48:58.414903",
     "status": "completed"
    },
    "tags": []
   },
   "outputs": [],
   "source": [
    "from sklearn.model_selection import train_test_split\n",
    "\n",
    "X_train, X_test, y_train, y_test = train_test_split(\n",
    "    X,\n",
    "    y,\n",
    "    train_size=P[\"task.train_test_ratio\"],\n",
    "    test_size=None,\n",
    "    stratify=y,\n",
    "    shuffle=True,\n",
    "    random_state=1,\n",
    ")\n",
    "\n",
    "# assert nr of pixels per image is the same for all image vectors\n",
    "assert X.shape[1] == X_train.shape[1] == X_test.shape[1]\n",
    "\n",
    "# assert that the (X, y)-pairs have compatible sizes (for both train and test)\n",
    "assert X_train.shape[0] == len(y_train)\n",
    "assert X_test.shape[0] == len(y_test)\n",
    "\n",
    "# assert that all data is used\n",
    "assert len(y) == len(y_train) + len(y_test)"
   ]
  },
  {
   "cell_type": "code",
   "execution_count": 8,
   "id": "5f4ae945",
   "metadata": {
    "execution": {
     "iopub.execute_input": "2022-07-07T06:48:58.829271Z",
     "iopub.status.busy": "2022-07-07T06:48:58.828785Z",
     "iopub.status.idle": "2022-07-07T06:48:58.835834Z",
     "shell.execute_reply": "2022-07-07T06:48:58.835303Z"
    },
    "papermill": {
     "duration": 0.014458,
     "end_time": "2022-07-07T06:48:58.837607",
     "exception": false,
     "start_time": "2022-07-07T06:48:58.823149",
     "status": "completed"
    },
    "tags": []
   },
   "outputs": [
    {
     "name": "stdout",
     "output_type": "stream",
     "text": [
      " - Logging nr_digits_train (int) : 1257\n",
      " - Logging nr_digits_test (int) : 540\n"
     ]
    }
   ],
   "source": [
    "logger.log_int(\"nr_digits_train\", len(y_train))\n",
    "logger.log_int(\"nr_digits_test\", len(y_test))"
   ]
  },
  {
   "cell_type": "markdown",
   "id": "7a85b23d",
   "metadata": {
    "papermill": {
     "duration": 0.00259,
     "end_time": "2022-07-07T06:48:58.842728",
     "exception": false,
     "start_time": "2022-07-07T06:48:58.840138",
     "status": "completed"
    },
    "tags": []
   },
   "source": [
    "### Persist training and test data sets to separate files"
   ]
  },
  {
   "cell_type": "code",
   "execution_count": 9,
   "id": "cc3e9d7e",
   "metadata": {
    "execution": {
     "iopub.execute_input": "2022-07-07T06:48:58.849336Z",
     "iopub.status.busy": "2022-07-07T06:48:58.849065Z",
     "iopub.status.idle": "2022-07-07T06:48:58.854784Z",
     "shell.execute_reply": "2022-07-07T06:48:58.854175Z"
    },
    "papermill": {
     "duration": 0.012371,
     "end_time": "2022-07-07T06:48:58.857538",
     "exception": false,
     "start_time": "2022-07-07T06:48:58.845167",
     "status": "completed"
    },
    "tags": []
   },
   "outputs": [],
   "source": [
    "write_numpy(datalake_root(P) / \"train-data\" / \"digits.numpy\", X_train)\n",
    "write_numpy(datalake_root(P) / \"train-data\" / \"labels.numpy\", y_train)\n",
    "\n",
    "#\n",
    "write_numpy(datalake_root(P) / \"test-data\" / \"digits.numpy\", X_test)\n",
    "write_numpy(datalake_root(P) / \"test-data\" / \"labels.numpy\", y_test)"
   ]
  },
  {
   "cell_type": "code",
   "execution_count": null,
   "id": "5ad474d8",
   "metadata": {
    "papermill": {
     "duration": 0.006623,
     "end_time": "2022-07-07T06:48:58.866918",
     "exception": false,
     "start_time": "2022-07-07T06:48:58.860295",
     "status": "completed"
    },
    "tags": []
   },
   "outputs": [],
   "source": []
  }
 ],
 "metadata": {
  "jupytext": {
   "cell_metadata_filter": "tags,-all",
   "main_language": "python",
   "notebook_metadata_filter": "-all"
  },
  "language_info": {
   "codemirror_mode": {
    "name": "ipython",
    "version": 3
   },
   "file_extension": ".py",
   "mimetype": "text/x-python",
   "name": "python",
   "nbconvert_exporter": "python",
   "pygments_lexer": "ipython3",
   "version": "3.8.10"
  },
  "papermill": {
   "default_parameters": {},
   "duration": 3.665518,
   "end_time": "2022-07-07T06:48:59.997025",
   "environment_variables": {},
   "exception": null,
   "input_path": "/home/host_user/workspace/mnist-demo-pipeline/mnist-demo-pipeline/notebooks/temp-notebook-hn1mkgff.ipynb",
   "output_path": "notebooks/split-train-test.ipynb",
   "parameters": {
    "P": {
     "_opentelemetry_traceparent": "00-c6511bb07cc0ac21516750c3f7f46ab0-7c82aa7e5953ef07-01",
     "pipeline.data_lake_root": "/pipeline-outputs/data-lake",
     "pipeline.github.actor": "matiasdahl",
     "pipeline.github.base_ref": "",
     "pipeline.github.event_name": "schedule",
     "pipeline.github.head_ref": "",
     "pipeline.github.job": "run-tests-pipeline-and-persist-pipeline-outputs",
     "pipeline.github.ref": "refs/heads/development",
     "pipeline.github.ref_name": "development",
     "pipeline.github.ref_type": "branch",
     "pipeline.github.repository": "pynb-dag-runner/mnist-digits-demo-pipeline",
     "pipeline.github.run_id": "2627678303",
     "pipeline.github.runner_name": "Hosted Agent",
     "pipeline.github.sha": "f934c58f68028b7bb026059d4e87e6d32a1bbd20",
     "pipeline.github.workflow": "Run automated tests, pipeline and deploy results to static reporting site",
     "pipeline.pipeline_run_id": "40b065d9-1904-42b9-bcd7-587daf8f649f",
     "pipeline.run_environment": "ci",
     "run.retry_nr": "0",
     "task.max_nr_retries": "1",
     "task.notebook": "notebooks/split-train-test.py",
     "task.num_cpus": 1,
     "task.timeout_s": "None",
     "task.train_test_ratio": 0.7
    }
   },
   "start_time": "2022-07-07T06:48:56.331507",
   "version": "2.3.3"
  }
 },
 "nbformat": 4,
 "nbformat_minor": 5
}