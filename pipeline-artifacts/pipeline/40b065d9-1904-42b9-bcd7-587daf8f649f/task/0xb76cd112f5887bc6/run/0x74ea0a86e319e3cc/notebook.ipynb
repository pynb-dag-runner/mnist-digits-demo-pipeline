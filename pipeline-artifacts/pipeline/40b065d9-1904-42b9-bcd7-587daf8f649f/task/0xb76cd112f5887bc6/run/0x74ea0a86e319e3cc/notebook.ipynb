{
 "cells": [
  {
   "cell_type": "markdown",
   "id": "1aa719bf",
   "metadata": {
    "papermill": {
     "duration": 0.005558,
     "end_time": "2022-07-07T06:49:30.366145",
     "exception": false,
     "start_time": "2022-07-07T06:49:30.360587",
     "status": "completed"
    },
    "tags": []
   },
   "source": [
    "# Benchmark model\n",
    "\n",
    "The purpose of this notebook is to benchmark persisted onnx-model (trained in the\n",
    "previous step) against evaluation set."
   ]
  },
  {
   "cell_type": "markdown",
   "id": "600c3e8c",
   "metadata": {
    "papermill": {
     "duration": 0.003928,
     "end_time": "2022-07-07T06:49:30.374558",
     "exception": false,
     "start_time": "2022-07-07T06:49:30.370630",
     "status": "completed"
    },
    "tags": []
   },
   "source": [
    "### Determine run parameters"
   ]
  },
  {
   "cell_type": "code",
   "execution_count": 1,
   "id": "bead9b62",
   "metadata": {
    "execution": {
     "iopub.execute_input": "2022-07-07T06:49:30.384584Z",
     "iopub.status.busy": "2022-07-07T06:49:30.384278Z",
     "iopub.status.idle": "2022-07-07T06:49:30.393961Z",
     "shell.execute_reply": "2022-07-07T06:49:30.393235Z"
    },
    "lines_to_next_cell": 0,
    "papermill": {
     "duration": 0.016641,
     "end_time": "2022-07-07T06:49:30.395665",
     "exception": false,
     "start_time": "2022-07-07T06:49:30.379024",
     "status": "completed"
    },
    "tags": []
   },
   "outputs": [],
   "source": [
    "# ----------------- Parameters for interactive development --------------\n",
    "P = {\n",
    "    \"pipeline.data_lake_root\": \"/pipeline-outputs/data-lake\",\n",
    "    \"task.nr_train_images\": 600,\n",
    "}"
   ]
  },
  {
   "cell_type": "code",
   "execution_count": 2,
   "id": "fc51b414",
   "metadata": {
    "execution": {
     "iopub.execute_input": "2022-07-07T06:49:30.406250Z",
     "iopub.status.busy": "2022-07-07T06:49:30.406021Z",
     "iopub.status.idle": "2022-07-07T06:49:30.409111Z",
     "shell.execute_reply": "2022-07-07T06:49:30.408596Z"
    },
    "lines_to_next_cell": 0,
    "papermill": {
     "duration": 0.011592,
     "end_time": "2022-07-07T06:49:30.411927",
     "exception": false,
     "start_time": "2022-07-07T06:49:30.400335",
     "status": "completed"
    },
    "tags": [
     "parameters"
    ]
   },
   "outputs": [],
   "source": [
    "# - During automated runs parameters will be injected in the below cell -"
   ]
  },
  {
   "cell_type": "code",
   "execution_count": 3,
   "id": "5cd82dd1",
   "metadata": {
    "execution": {
     "iopub.execute_input": "2022-07-07T06:49:30.421950Z",
     "iopub.status.busy": "2022-07-07T06:49:30.421687Z",
     "iopub.status.idle": "2022-07-07T06:49:30.427393Z",
     "shell.execute_reply": "2022-07-07T06:49:30.426856Z"
    },
    "papermill": {
     "duration": 0.014051,
     "end_time": "2022-07-07T06:49:30.429978",
     "exception": false,
     "start_time": "2022-07-07T06:49:30.415927",
     "status": "completed"
    },
    "tags": [
     "injected-parameters"
    ]
   },
   "outputs": [],
   "source": [
    "# Parameters\n",
    "P = {\n",
    "    \"pipeline.data_lake_root\": \"/pipeline-outputs/data-lake\",\n",
    "    \"pipeline.run_environment\": \"ci\",\n",
    "    \"pipeline.pipeline_run_id\": \"40b065d9-1904-42b9-bcd7-587daf8f649f\",\n",
    "    \"pipeline.github.repository\": \"pynb-dag-runner/mnist-digits-demo-pipeline\",\n",
    "    \"pipeline.github.workflow\": \"Run automated tests, pipeline and deploy results to static reporting site\",\n",
    "    \"pipeline.github.runner_name\": \"Hosted Agent\",\n",
    "    \"pipeline.github.run_id\": \"2627678303\",\n",
    "    \"pipeline.github.actor\": \"matiasdahl\",\n",
    "    \"pipeline.github.job\": \"run-tests-pipeline-and-persist-pipeline-outputs\",\n",
    "    \"pipeline.github.base_ref\": \"\",\n",
    "    \"pipeline.github.head_ref\": \"\",\n",
    "    \"pipeline.github.sha\": \"f934c58f68028b7bb026059d4e87e6d32a1bbd20\",\n",
    "    \"pipeline.github.ref\": \"refs/heads/development\",\n",
    "    \"pipeline.github.ref_type\": \"branch\",\n",
    "    \"pipeline.github.ref_name\": \"development\",\n",
    "    \"pipeline.github.event_name\": \"schedule\",\n",
    "    \"task.nr_train_images\": 600,\n",
    "    \"task.notebook\": \"notebooks/benchmark-model.py\",\n",
    "    \"task.max_nr_retries\": \"1\",\n",
    "    \"run.retry_nr\": \"0\",\n",
    "    \"task.timeout_s\": \"None\",\n",
    "    \"task.num_cpus\": 1,\n",
    "    \"_opentelemetry_traceparent\": \"00-c6511bb07cc0ac21516750c3f7f46ab0-3f8647989b52107b-01\",\n",
    "}\n"
   ]
  },
  {
   "cell_type": "code",
   "execution_count": 4,
   "id": "90556a01",
   "metadata": {
    "execution": {
     "iopub.execute_input": "2022-07-07T06:49:30.439331Z",
     "iopub.status.busy": "2022-07-07T06:49:30.439124Z",
     "iopub.status.idle": "2022-07-07T06:49:30.441786Z",
     "shell.execute_reply": "2022-07-07T06:49:30.441282Z"
    },
    "lines_to_next_cell": 0,
    "papermill": {
     "duration": 0.010229,
     "end_time": "2022-07-07T06:49:30.444332",
     "exception": false,
     "start_time": "2022-07-07T06:49:30.434103",
     "status": "completed"
    },
    "tags": []
   },
   "outputs": [],
   "source": [
    "# -----------------------------------------------------------------------"
   ]
  },
  {
   "cell_type": "markdown",
   "id": "576cdd78",
   "metadata": {
    "papermill": {
     "duration": 0.005361,
     "end_time": "2022-07-07T06:49:30.454093",
     "exception": false,
     "start_time": "2022-07-07T06:49:30.448732",
     "status": "completed"
    },
    "tags": []
   },
   "source": [
    "---"
   ]
  },
  {
   "cell_type": "markdown",
   "id": "8192a751",
   "metadata": {
    "lines_to_next_cell": 2,
    "papermill": {
     "duration": 0.003959,
     "end_time": "2022-07-07T06:49:30.462204",
     "exception": false,
     "start_time": "2022-07-07T06:49:30.458245",
     "status": "completed"
    },
    "tags": []
   },
   "source": [
    "### Notebook code"
   ]
  },
  {
   "cell_type": "code",
   "execution_count": 5,
   "id": "2d64a985",
   "metadata": {
    "execution": {
     "iopub.execute_input": "2022-07-07T06:49:30.475008Z",
     "iopub.status.busy": "2022-07-07T06:49:30.474750Z",
     "iopub.status.idle": "2022-07-07T06:49:31.660088Z",
     "shell.execute_reply": "2022-07-07T06:49:31.659361Z"
    },
    "papermill": {
     "duration": 1.192562,
     "end_time": "2022-07-07T06:49:31.662313",
     "exception": false,
     "start_time": "2022-07-07T06:49:30.469751",
     "status": "completed"
    },
    "tags": []
   },
   "outputs": [
    {
     "name": "stderr",
     "output_type": "stream",
     "text": [
      "2022-07-07 06:49:31,478\tINFO worker.py:842 -- Connecting to existing Ray cluster at address: 172.17.0.2:6379\n"
     ]
    }
   ],
   "source": [
    "import itertools as it\n",
    "\n",
    "#\n",
    "import numpy as np\n",
    "import matplotlib.pyplot as plt\n",
    "\n",
    "#\n",
    "from pynb_dag_runner.tasks.task_opentelemetry_logging import PydarLogger\n",
    "\n",
    "#\n",
    "from common.io import datalake_root\n",
    "\n",
    "logger = PydarLogger(P)"
   ]
  },
  {
   "cell_type": "markdown",
   "id": "86b42a1d",
   "metadata": {
    "papermill": {
     "duration": 0.008554,
     "end_time": "2022-07-07T06:49:31.675286",
     "exception": false,
     "start_time": "2022-07-07T06:49:31.666732",
     "status": "completed"
    },
    "tags": []
   },
   "source": [
    "## Load persisted onnx-model and evaluation data"
   ]
  },
  {
   "cell_type": "code",
   "execution_count": 6,
   "id": "ee83a5f0",
   "metadata": {
    "execution": {
     "iopub.execute_input": "2022-07-07T06:49:31.686142Z",
     "iopub.status.busy": "2022-07-07T06:49:31.685409Z",
     "iopub.status.idle": "2022-07-07T06:49:31.689643Z",
     "shell.execute_reply": "2022-07-07T06:49:31.688914Z"
    },
    "papermill": {
     "duration": 0.011871,
     "end_time": "2022-07-07T06:49:31.692009",
     "exception": false,
     "start_time": "2022-07-07T06:49:31.680138",
     "status": "completed"
    },
    "tags": []
   },
   "outputs": [],
   "source": [
    "from common.io import read_onnx, get_onnx_inputs, get_onnx_outputs, read_numpy"
   ]
  },
  {
   "cell_type": "code",
   "execution_count": 7,
   "id": "7b1b7b40",
   "metadata": {
    "execution": {
     "iopub.execute_input": "2022-07-07T06:49:31.703579Z",
     "iopub.status.busy": "2022-07-07T06:49:31.703165Z",
     "iopub.status.idle": "2022-07-07T06:49:31.715050Z",
     "shell.execute_reply": "2022-07-07T06:49:31.714328Z"
    },
    "lines_to_next_cell": 0,
    "papermill": {
     "duration": 0.020735,
     "end_time": "2022-07-07T06:49:31.717784",
     "exception": false,
     "start_time": "2022-07-07T06:49:31.697049",
     "status": "completed"
    },
    "tags": []
   },
   "outputs": [],
   "source": [
    "onnx_inference_session = read_onnx(\n",
    "    datalake_root(P)\n",
    "    / \"models\"\n",
    "    / f\"nr_train_images={P['task.nr_train_images']}\"\n",
    "    / \"model.onnx\"\n",
    ")"
   ]
  },
  {
   "cell_type": "markdown",
   "id": "dbd74ae5",
   "metadata": {
    "papermill": {
     "duration": 0.004396,
     "end_time": "2022-07-07T06:49:31.727082",
     "exception": false,
     "start_time": "2022-07-07T06:49:31.722686",
     "status": "completed"
    },
    "tags": []
   },
   "source": [
    "### Record structure of inputs and outputs for ONNX model\n",
    "\n",
    "(this should likely be done in training notebook)"
   ]
  },
  {
   "cell_type": "code",
   "execution_count": 8,
   "id": "8932a9dd",
   "metadata": {
    "execution": {
     "iopub.execute_input": "2022-07-07T06:49:31.737723Z",
     "iopub.status.busy": "2022-07-07T06:49:31.737091Z",
     "iopub.status.idle": "2022-07-07T06:49:31.743384Z",
     "shell.execute_reply": "2022-07-07T06:49:31.742639Z"
    },
    "papermill": {
     "duration": 0.014638,
     "end_time": "2022-07-07T06:49:31.746104",
     "exception": false,
     "start_time": "2022-07-07T06:49:31.731466",
     "status": "completed"
    },
    "tags": []
   },
   "outputs": [
    {
     "name": "stdout",
     "output_type": "stream",
     "text": [
      "{\n",
      "  \"inputs\": [\n",
      "    {\n",
      "      \"name\": \"float_input_8x8_image\",\n",
      "      \"shape\": [\n",
      "        null,\n",
      "        64\n",
      "      ],\n",
      "      \"type\": \"tensor(float)\"\n",
      "    }\n",
      "  ],\n",
      "  \"outputs\": [\n",
      "    {\n",
      "      \"name\": \"output_label\",\n",
      "      \"shape\": [\n",
      "        null\n",
      "      ],\n",
      "      \"type\": \"tensor(int64)\"\n",
      "    },\n",
      "    {\n",
      "      \"name\": \"output_probability\",\n",
      "      \"shape\": [],\n",
      "      \"type\": \"seq(map(int64,tensor(float)))\"\n",
      "    }\n",
      "  ]\n",
      "}\n"
     ]
    }
   ],
   "source": [
    "import json\n",
    "\n",
    "onnx_io = json.dumps(\n",
    "    {\n",
    "        \"inputs\": get_onnx_inputs(onnx_inference_session),\n",
    "        \"outputs\": get_onnx_outputs(onnx_inference_session),\n",
    "    },\n",
    "    indent=2,\n",
    ")\n",
    "\n",
    "\n",
    "logger.log_artefact(\"onnx_io_structure.json\", onnx_io)\n",
    "print(onnx_io)"
   ]
  },
  {
   "cell_type": "markdown",
   "id": "5e106623",
   "metadata": {
    "papermill": {
     "duration": 0.007686,
     "end_time": "2022-07-07T06:49:31.770475",
     "exception": false,
     "start_time": "2022-07-07T06:49:31.762789",
     "status": "completed"
    },
    "tags": []
   },
   "source": [
    "### Evaluate model performance on evaluation data set"
   ]
  },
  {
   "cell_type": "code",
   "execution_count": 9,
   "id": "f9bfe39d",
   "metadata": {
    "execution": {
     "iopub.execute_input": "2022-07-07T06:49:31.782985Z",
     "iopub.status.busy": "2022-07-07T06:49:31.782707Z",
     "iopub.status.idle": "2022-07-07T06:49:31.788877Z",
     "shell.execute_reply": "2022-07-07T06:49:31.788196Z"
    },
    "papermill": {
     "duration": 0.014718,
     "end_time": "2022-07-07T06:49:31.790352",
     "exception": false,
     "start_time": "2022-07-07T06:49:31.775634",
     "status": "completed"
    },
    "tags": []
   },
   "outputs": [],
   "source": [
    "# load evaluation data\n",
    "X_test = read_numpy(datalake_root(P) / \"test-data\" / \"digits.numpy\")\n",
    "y_test = read_numpy(datalake_root(P) / \"test-data\" / \"labels.numpy\")"
   ]
  },
  {
   "cell_type": "code",
   "execution_count": 10,
   "id": "8b282323",
   "metadata": {
    "execution": {
     "iopub.execute_input": "2022-07-07T06:49:31.800796Z",
     "iopub.status.busy": "2022-07-07T06:49:31.800306Z",
     "iopub.status.idle": "2022-07-07T06:49:31.814537Z",
     "shell.execute_reply": "2022-07-07T06:49:31.813976Z"
    },
    "papermill": {
     "duration": 0.021485,
     "end_time": "2022-07-07T06:49:31.816235",
     "exception": false,
     "start_time": "2022-07-07T06:49:31.794750",
     "status": "completed"
    },
    "tags": []
   },
   "outputs": [],
   "source": [
    "def get_model_outputs(X, onnx_inference_session):\n",
    "    y_pred_labels, y_pred_map = onnx_inference_session.run(\n",
    "        [\"output_label\", \"output_probability\"],\n",
    "        {\"float_input_8x8_image\": X.astype(np.float32)},\n",
    "    )\n",
    "    y_pred_probs = np.array(\n",
    "        [[probabilities[digit] for digit in range(10)] for probabilities in y_pred_map]\n",
    "    )\n",
    "\n",
    "    assert y_pred_labels.shape == (X.shape[0],)\n",
    "    assert y_pred_probs.shape == (X.shape[0], 10)\n",
    "\n",
    "    return y_pred_labels, y_pred_probs\n",
    "\n",
    "\n",
    "# Note: as shown in the training notebook, the predicted labels and probabilities\n",
    "# computed below need not be compatible.\n",
    "y_pred_labels_test, y_pred_probs_test = get_model_outputs(\n",
    "    X_test, onnx_inference_session\n",
    ")"
   ]
  },
  {
   "cell_type": "markdown",
   "id": "5c2cd940",
   "metadata": {
    "papermill": {
     "duration": 0.004846,
     "end_time": "2022-07-07T06:49:31.825430",
     "exception": false,
     "start_time": "2022-07-07T06:49:31.820584",
     "status": "completed"
    },
    "tags": []
   },
   "source": [
    "### Confusion matrix"
   ]
  },
  {
   "cell_type": "code",
   "execution_count": 11,
   "id": "18beda07",
   "metadata": {
    "execution": {
     "iopub.execute_input": "2022-07-07T06:49:31.835008Z",
     "iopub.status.busy": "2022-07-07T06:49:31.834778Z",
     "iopub.status.idle": "2022-07-07T06:49:31.837902Z",
     "shell.execute_reply": "2022-07-07T06:49:31.837370Z"
    },
    "papermill": {
     "duration": 0.010694,
     "end_time": "2022-07-07T06:49:31.840171",
     "exception": false,
     "start_time": "2022-07-07T06:49:31.829477",
     "status": "completed"
    },
    "tags": []
   },
   "outputs": [],
   "source": [
    "# TODO"
   ]
  },
  {
   "cell_type": "markdown",
   "id": "b1d385de",
   "metadata": {
    "papermill": {
     "duration": 0.003989,
     "end_time": "2022-07-07T06:49:31.849005",
     "exception": false,
     "start_time": "2022-07-07T06:49:31.845016",
     "status": "completed"
    },
    "tags": []
   },
   "source": [
    "### Plot predicted probabilities for each classifier over all evaluation digit images"
   ]
  },
  {
   "cell_type": "code",
   "execution_count": 12,
   "id": "717cfd25",
   "metadata": {
    "execution": {
     "iopub.execute_input": "2022-07-07T06:49:31.858582Z",
     "iopub.status.busy": "2022-07-07T06:49:31.858326Z",
     "iopub.status.idle": "2022-07-07T06:49:35.041592Z",
     "shell.execute_reply": "2022-07-07T06:49:35.040849Z"
    },
    "papermill": {
     "duration": 3.190575,
     "end_time": "2022-07-07T06:49:35.043688",
     "exception": false,
     "start_time": "2022-07-07T06:49:31.853113",
     "status": "completed"
    },
    "tags": []
   },
   "outputs": [
    {
     "data": {
      "image/png": "[encoded data removed]",
      "text/plain": [
       "<Figure size 1152x432 with 10 Axes>"
      ]
     },
     "metadata": {
      "needs_background": "light"
     },
     "output_type": "display_data"
    }
   ],
   "source": [
    "def plot_per_digit_probabilities(y_pred_probs):\n",
    "    fig, axs = plt.subplots(nrows=2, ncols=5, figsize=(16, 6))\n",
    "\n",
    "    for (r, c), digit, ax in zip(\n",
    "        it.product(range(2), range(5)), range(10), axs.reshape(-1)\n",
    "    ):\n",
    "        ax.hist(y_pred_probs_test[:, digit], bins=20)\n",
    "\n",
    "        ax.set_title(f\"Digit {digit}\")\n",
    "        if r == 1 and c == 2:\n",
    "            ax.set_xlabel(\"probability\", fontsize=16)\n",
    "\n",
    "        if c == 0:\n",
    "            ax.set_ylabel(\"counts\", fontsize=16)\n",
    "        ax.set_yscale(\"log\")\n",
    "\n",
    "    fig.tight_layout()\n",
    "    fig.suptitle(\n",
    "        f\"Distributions of prediction probabilities for each digit \"\n",
    "        f\"(on evaluation data, n={y_pred_probs.shape[0]})\",\n",
    "        fontsize=20,\n",
    "    )\n",
    "    fig.tight_layout()\n",
    "    fig.show()\n",
    "\n",
    "    return fig\n",
    "\n",
    "\n",
    "fig = plot_per_digit_probabilities(y_pred_probs_test)"
   ]
  },
  {
   "cell_type": "markdown",
   "id": "21969d6c",
   "metadata": {
    "papermill": {
     "duration": 0.004792,
     "end_time": "2022-07-07T06:49:35.053605",
     "exception": false,
     "start_time": "2022-07-07T06:49:35.048813",
     "status": "completed"
    },
    "tags": []
   },
   "source": [
    "From the above distributions we see that most digits have clear separation between\n",
    "high and lower probabilities. Morover, in each case there is roughly an order of\n",
    "magnitude more of digits with low probabilities. This is compatible with digits\n",
    "being roughly evenly distributed in the data."
   ]
  },
  {
   "cell_type": "code",
   "execution_count": 13,
   "id": "125fe999",
   "metadata": {
    "execution": {
     "iopub.execute_input": "2022-07-07T06:49:35.064251Z",
     "iopub.status.busy": "2022-07-07T06:49:35.063838Z",
     "iopub.status.idle": "2022-07-07T06:49:35.458755Z",
     "shell.execute_reply": "2022-07-07T06:49:35.458056Z"
    },
    "papermill": {
     "duration": 0.402794,
     "end_time": "2022-07-07T06:49:35.460750",
     "exception": false,
     "start_time": "2022-07-07T06:49:35.057956",
     "status": "completed"
    },
    "tags": []
   },
   "outputs": [],
   "source": [
    "logger.log_figure(\"per-digit-probabilities.png\", fig)"
   ]
  },
  {
   "cell_type": "markdown",
   "id": "c18caad5",
   "metadata": {
    "papermill": {
     "duration": 0.004825,
     "end_time": "2022-07-07T06:49:35.470605",
     "exception": false,
     "start_time": "2022-07-07T06:49:35.465780",
     "status": "completed"
    },
    "tags": []
   },
   "source": [
    "### Plot ROC curves for individual one-vs-rest classifiers"
   ]
  },
  {
   "cell_type": "code",
   "execution_count": 14,
   "id": "459381e7",
   "metadata": {
    "execution": {
     "iopub.execute_input": "2022-07-07T06:49:35.480899Z",
     "iopub.status.busy": "2022-07-07T06:49:35.480519Z",
     "iopub.status.idle": "2022-07-07T06:49:35.850249Z",
     "shell.execute_reply": "2022-07-07T06:49:35.849522Z"
    },
    "papermill": {
     "duration": 0.37739,
     "end_time": "2022-07-07T06:49:35.852476",
     "exception": false,
     "start_time": "2022-07-07T06:49:35.475086",
     "status": "completed"
    },
    "tags": []
   },
   "outputs": [],
   "source": [
    "from sklearn import metrics"
   ]
  },
  {
   "cell_type": "code",
   "execution_count": 15,
   "id": "823ee3ea",
   "metadata": {
    "execution": {
     "iopub.execute_input": "2022-07-07T06:49:35.864430Z",
     "iopub.status.busy": "2022-07-07T06:49:35.864043Z",
     "iopub.status.idle": "2022-07-07T06:49:36.826193Z",
     "shell.execute_reply": "2022-07-07T06:49:36.825475Z"
    },
    "papermill": {
     "duration": 0.970325,
     "end_time": "2022-07-07T06:49:36.827810",
     "exception": false,
     "start_time": "2022-07-07T06:49:35.857485",
     "status": "completed"
    },
    "tags": []
   },
   "outputs": [
    {
     "data": {
      "image/png": "[encoded data removed]",
      "text/plain": [
       "<Figure size 1152x576 with 10 Axes>"
      ]
     },
     "metadata": {
      "needs_background": "light"
     },
     "output_type": "display_data"
    }
   ],
   "source": [
    "def plot_roc_curves(y, y_pred_probs):\n",
    "    # based on example code\n",
    "    # https://scikit-learn.org/stable/auto_examples/model_selection/plot_roc.html\n",
    "\n",
    "    fig, axs = plt.subplots(nrows=2, ncols=5, figsize=(16, 8))\n",
    "\n",
    "    roc_auc_dict = {}\n",
    "\n",
    "    for (r, c), digit, ax in zip(\n",
    "        it.product(range(2), range(5)), range(10), axs.reshape(-1)\n",
    "    ):\n",
    "        fpr, tpr, _ = metrics.roc_curve(y == digit, y_pred_probs[:, digit])\n",
    "        auc = metrics.auc(fpr, tpr)\n",
    "        roc_auc_dict[str(digit)] = auc\n",
    "\n",
    "        ax.plot(fpr, tpr, label=f\"ROC AUC={round(auc, 3)}\")\n",
    "\n",
    "        ax.set_title(f\"\\nDigit {digit}\", fontsize=16)\n",
    "        if r == 1:\n",
    "            ax.set_xlabel(\"FPR\", fontsize=18)\n",
    "\n",
    "        if c == 0:\n",
    "            ax.set_ylabel(\"TPR\", fontsize=18)\n",
    "\n",
    "        ax.set_xlim([-0.05, 1.05])\n",
    "        ax.set_ylim([-0.05, 1.05])\n",
    "        ax.legend(loc=\"lower right\", frameon=False, fontsize=14)\n",
    "\n",
    "    fig.tight_layout()\n",
    "    fig.suptitle(\n",
    "        f\"ROC plots for one-vs-rest performances \"\n",
    "        f\"(on evaluation data, n={y_pred_probs_test.shape[1]}\",\n",
    "        fontsize=22,\n",
    "    )\n",
    "    fig.tight_layout()\n",
    "    fig.show()\n",
    "\n",
    "    return roc_auc_dict, fig\n",
    "\n",
    "\n",
    "roc_auc_dict, fig = plot_roc_curves(y_test, y_pred_probs_test)"
   ]
  },
  {
   "cell_type": "code",
   "execution_count": 16,
   "id": "b6d0f717",
   "metadata": {
    "execution": {
     "iopub.execute_input": "2022-07-07T06:49:36.839963Z",
     "iopub.status.busy": "2022-07-07T06:49:36.839336Z",
     "iopub.status.idle": "2022-07-07T06:49:37.041021Z",
     "shell.execute_reply": "2022-07-07T06:49:37.040310Z"
    },
    "papermill": {
     "duration": 0.20955,
     "end_time": "2022-07-07T06:49:37.042854",
     "exception": false,
     "start_time": "2022-07-07T06:49:36.833304",
     "status": "completed"
    },
    "tags": []
   },
   "outputs": [],
   "source": [
    "logger.log_figure(\"per-digit-roc-curves.png\", fig)"
   ]
  },
  {
   "cell_type": "code",
   "execution_count": 17,
   "id": "19b0788e",
   "metadata": {
    "execution": {
     "iopub.execute_input": "2022-07-07T06:49:37.055452Z",
     "iopub.status.busy": "2022-07-07T06:49:37.055063Z",
     "iopub.status.idle": "2022-07-07T06:49:37.061539Z",
     "shell.execute_reply": "2022-07-07T06:49:37.059230Z"
    },
    "papermill": {
     "duration": 0.014535,
     "end_time": "2022-07-07T06:49:37.063128",
     "exception": false,
     "start_time": "2022-07-07T06:49:37.048593",
     "status": "completed"
    },
    "tags": []
   },
   "outputs": [
    {
     "data": {
      "text/plain": [
       "{'0': 1.0,\n",
       " '1': 0.9992127460168697,\n",
       " '2': 1.0,\n",
       " '3': 0.9997750702905343,\n",
       " '4': 0.9990855052583447,\n",
       " '5': 0.9988378631677601,\n",
       " '6': 0.999923792104862,\n",
       " '7': 0.9998475842097241,\n",
       " '8': 0.994640605296343,\n",
       " '9': 0.998818777625362}"
      ]
     },
     "execution_count": 17,
     "metadata": {},
     "output_type": "execute_result"
    }
   ],
   "source": [
    "roc_auc_dict"
   ]
  },
  {
   "cell_type": "code",
   "execution_count": 18,
   "id": "0a62f160",
   "metadata": {
    "execution": {
     "iopub.execute_input": "2022-07-07T06:49:37.075227Z",
     "iopub.status.busy": "2022-07-07T06:49:37.074798Z",
     "iopub.status.idle": "2022-07-07T06:49:37.078972Z",
     "shell.execute_reply": "2022-07-07T06:49:37.078379Z"
    },
    "papermill": {
     "duration": 0.015883,
     "end_time": "2022-07-07T06:49:37.084207",
     "exception": false,
     "start_time": "2022-07-07T06:49:37.068324",
     "status": "completed"
    },
    "tags": []
   },
   "outputs": [
    {
     "name": "stdout",
     "output_type": "stream",
     "text": [
      " - Logging roc_auc_per_digit (json) : {'0': 1.0, '1': 0.9992127460168697, '2': 1.0, '3': 0.9997750702905343, '4': 0.9990855052583447, '5': 0.9988378631677601, '6': 0.999923792104862, '7': 0.9998475842097241, '8': 0.994640605296343, '9': 0.998818777625362}\n"
     ]
    }
   ],
   "source": [
    "logger.log_value(\"roc_auc_per_digit\", roc_auc_dict)"
   ]
  },
  {
   "cell_type": "markdown",
   "id": "5f77f7fc",
   "metadata": {
    "papermill": {
     "duration": 0.005914,
     "end_time": "2022-07-07T06:49:37.095371",
     "exception": false,
     "start_time": "2022-07-07T06:49:37.089457",
     "status": "completed"
    },
    "tags": []
   },
   "source": [
    "### Compute and log mean ROC AUC score averaged over all digits"
   ]
  },
  {
   "cell_type": "code",
   "execution_count": 19,
   "id": "4c271bb4",
   "metadata": {
    "execution": {
     "iopub.execute_input": "2022-07-07T06:49:37.107444Z",
     "iopub.status.busy": "2022-07-07T06:49:37.107008Z",
     "iopub.status.idle": "2022-07-07T06:49:37.120105Z",
     "shell.execute_reply": "2022-07-07T06:49:37.119426Z"
    },
    "papermill": {
     "duration": 0.021049,
     "end_time": "2022-07-07T06:49:37.121703",
     "exception": false,
     "start_time": "2022-07-07T06:49:37.100654",
     "status": "completed"
    },
    "tags": []
   },
   "outputs": [
    {
     "name": "stdout",
     "output_type": "stream",
     "text": [
      " - Logging roc_auc_class_mean (float) : 0.9990141943969799\n"
     ]
    }
   ],
   "source": [
    "roc_auc_macro = np.mean(list(roc_auc_dict.values()))\n",
    "\n",
    "logger.log_float(\"roc_auc_class_mean\", roc_auc_macro)\n",
    "\n",
    "# assert that the same value can be computed directly using sklearn\n",
    "assert roc_auc_macro == metrics.roc_auc_score(\n",
    "    y_test, y_pred_probs_test, average=\"macro\", multi_class=\"ovr\"\n",
    ")"
   ]
  },
  {
   "cell_type": "code",
   "execution_count": 20,
   "id": "8d1aac60",
   "metadata": {
    "execution": {
     "iopub.execute_input": "2022-07-07T06:49:37.134480Z",
     "iopub.status.busy": "2022-07-07T06:49:37.134051Z",
     "iopub.status.idle": "2022-07-07T06:49:37.137532Z",
     "shell.execute_reply": "2022-07-07T06:49:37.136865Z"
    },
    "lines_to_next_cell": 0,
    "papermill": {
     "duration": 0.011629,
     "end_time": "2022-07-07T06:49:37.139126",
     "exception": false,
     "start_time": "2022-07-07T06:49:37.127497",
     "status": "completed"
    },
    "tags": []
   },
   "outputs": [],
   "source": [
    "# ---"
   ]
  },
  {
   "cell_type": "code",
   "execution_count": null,
   "id": "3f73885f",
   "metadata": {
    "papermill": {
     "duration": 0.005566,
     "end_time": "2022-07-07T06:49:37.150279",
     "exception": false,
     "start_time": "2022-07-07T06:49:37.144713",
     "status": "completed"
    },
    "tags": []
   },
   "outputs": [],
   "source": []
  }
 ],
 "metadata": {
  "jupytext": {
   "cell_metadata_filter": "tags,-all",
   "main_language": "python",
   "notebook_metadata_filter": "-all"
  },
  "language_info": {
   "codemirror_mode": {
    "name": "ipython",
    "version": 3
   },
   "file_extension": ".py",
   "mimetype": "text/x-python",
   "name": "python",
   "nbconvert_exporter": "python",
   "pygments_lexer": "ipython3",
   "version": "3.8.10"
  },
  "papermill": {
   "default_parameters": {},
   "duration": 9.230669,
   "end_time": "2022-07-07T06:49:38.174856",
   "environment_variables": {},
   "exception": null,
   "input_path": "/home/host_user/workspace/mnist-demo-pipeline/mnist-demo-pipeline/notebooks/temp-notebook-g_zl30to.ipynb",
   "output_path": "notebooks/benchmark-model.ipynb",
   "parameters": {
    "P": {
     "_opentelemetry_traceparent": "00-c6511bb07cc0ac21516750c3f7f46ab0-3f8647989b52107b-01",
     "pipeline.data_lake_root": "/pipeline-outputs/data-lake",
     "pipeline.github.actor": "matiasdahl",
     "pipeline.github.base_ref": "",
     "pipeline.github.event_name": "schedule",
     "pipeline.github.head_ref": "",
     "pipeline.github.job": "run-tests-pipeline-and-persist-pipeline-outputs",
     "pipeline.github.ref": "refs/heads/development",
     "pipeline.github.ref_name": "development",
     "pipeline.github.ref_type": "branch",
     "pipeline.github.repository": "pynb-dag-runner/mnist-digits-demo-pipeline",
     "pipeline.github.run_id": "2627678303",
     "pipeline.github.runner_name": "Hosted Agent",
     "pipeline.github.sha": "f934c58f68028b7bb026059d4e87e6d32a1bbd20",
     "pipeline.github.workflow": "Run automated tests, pipeline and deploy results to static reporting site",
     "pipeline.pipeline_run_id": "40b065d9-1904-42b9-bcd7-587daf8f649f",
     "pipeline.run_environment": "ci",
     "run.retry_nr": "0",
     "task.max_nr_retries": "1",
     "task.notebook": "notebooks/benchmark-model.py",
     "task.nr_train_images": 600,
     "task.num_cpus": 1,
     "task.timeout_s": "None"
    }
   },
   "start_time": "2022-07-07T06:49:28.944187",
   "version": "2.3.3"
  }
 },
 "nbformat": 4,
 "nbformat_minor": 5
}