{
 "cells": [
  {
   "cell_type": "markdown",
   "id": "4d9ceba2",
   "metadata": {
    "papermill": {
     "duration": 0.004785,
     "end_time": "2022-07-07T14:12:35.571234",
     "exception": false,
     "start_time": "2022-07-07T14:12:35.566449",
     "status": "completed"
    },
    "tags": []
   },
   "source": [
    "# Train model\n",
    "\n",
    "The purpose of this notebook is:\n",
    "\n",
    "- Load all training data (images and labels).\n",
    "- Limit number of train images to `task.nr_train_images` (value provided as run parameter).\n",
    "- Train a support vector machine model using sklearn.\n",
    "- Persist the trained model using the ONNX format."
   ]
  },
  {
   "cell_type": "markdown",
   "id": "2aef7769",
   "metadata": {
    "papermill": {
     "duration": 0.010463,
     "end_time": "2022-07-07T14:12:35.584814",
     "exception": false,
     "start_time": "2022-07-07T14:12:35.574351",
     "status": "completed"
    },
    "tags": []
   },
   "source": [
    "### Determine run parameters"
   ]
  },
  {
   "cell_type": "code",
   "execution_count": 1,
   "id": "47aeb15f",
   "metadata": {
    "execution": {
     "iopub.execute_input": "2022-07-07T14:12:35.591622Z",
     "iopub.status.busy": "2022-07-07T14:12:35.591299Z",
     "iopub.status.idle": "2022-07-07T14:12:35.600521Z",
     "shell.execute_reply": "2022-07-07T14:12:35.599725Z"
    },
    "lines_to_next_cell": 0,
    "papermill": {
     "duration": 0.015228,
     "end_time": "2022-07-07T14:12:35.602578",
     "exception": false,
     "start_time": "2022-07-07T14:12:35.587350",
     "status": "completed"
    },
    "tags": []
   },
   "outputs": [],
   "source": [
    "# ----------------- Parameters for interactive development --------------\n",
    "P = {\n",
    "    \"pipeline.data_lake_root\": \"/pipeline-outputs/data-lake\",\n",
    "    \"task.nr_train_images\": 600,\n",
    "}"
   ]
  },
  {
   "cell_type": "code",
   "execution_count": 2,
   "id": "05432eb7",
   "metadata": {
    "execution": {
     "iopub.execute_input": "2022-07-07T14:12:35.610153Z",
     "iopub.status.busy": "2022-07-07T14:12:35.609934Z",
     "iopub.status.idle": "2022-07-07T14:12:35.612796Z",
     "shell.execute_reply": "2022-07-07T14:12:35.612290Z"
    },
    "lines_to_next_cell": 0,
    "papermill": {
     "duration": 0.009774,
     "end_time": "2022-07-07T14:12:35.616230",
     "exception": false,
     "start_time": "2022-07-07T14:12:35.606456",
     "status": "completed"
    },
    "tags": [
     "parameters"
    ]
   },
   "outputs": [],
   "source": [
    "# - During automated runs parameters will be injected in the below cell -"
   ]
  },
  {
   "cell_type": "code",
   "execution_count": 3,
   "id": "e9816728",
   "metadata": {
    "execution": {
     "iopub.execute_input": "2022-07-07T14:12:35.622857Z",
     "iopub.status.busy": "2022-07-07T14:12:35.622641Z",
     "iopub.status.idle": "2022-07-07T14:12:35.628263Z",
     "shell.execute_reply": "2022-07-07T14:12:35.627760Z"
    },
    "papermill": {
     "duration": 0.018113,
     "end_time": "2022-07-07T14:12:35.637294",
     "exception": false,
     "start_time": "2022-07-07T14:12:35.619181",
     "status": "completed"
    },
    "tags": [
     "injected-parameters"
    ]
   },
   "outputs": [],
   "source": [
    "# Parameters\n",
    "P = {\n",
    "    \"pipeline.data_lake_root\": \"/pipeline-outputs/data-lake\",\n",
    "    \"pipeline.run_environment\": \"ci\",\n",
    "    \"pipeline.pipeline_run_id\": \"6eaadf4c-6dc3-4086-abe2-ccf34399bbad\",\n",
    "    \"pipeline.github.repository\": \"pynb-dag-runner/mnist-digits-demo-pipeline\",\n",
    "    \"pipeline.github.workflow\": \"Run automated tests, pipeline and deploy results to static reporting site\",\n",
    "    \"pipeline.github.runner_name\": \"GitHub Actions 3\",\n",
    "    \"pipeline.github.run_id\": \"2630106939\",\n",
    "    \"pipeline.github.actor\": \"matiasdahl\",\n",
    "    \"pipeline.github.job\": \"run-tests-pipeline-and-persist-pipeline-outputs\",\n",
    "    \"pipeline.github.base_ref\": \"development\",\n",
    "    \"pipeline.github.head_ref\": \"try-C-hyperparameter\",\n",
    "    \"pipeline.github.sha\": \"876109f37d9c7859966a244c1f8db39e7b4105e9\",\n",
    "    \"pipeline.github.ref\": \"refs/pull/55/merge\",\n",
    "    \"pipeline.github.ref_type\": \"branch\",\n",
    "    \"pipeline.github.ref_name\": \"55/merge\",\n",
    "    \"pipeline.github.event_name\": \"pull_request\",\n",
    "    \"task.nr_train_images\": 800,\n",
    "    \"task.notebook\": \"notebooks/train-model.py\",\n",
    "    \"task.max_nr_retries\": \"1\",\n",
    "    \"run.retry_nr\": \"0\",\n",
    "    \"task.timeout_s\": \"None\",\n",
    "    \"task.num_cpus\": 1,\n",
    "    \"_opentelemetry_traceparent\": \"00-c8ac85eb09f8b1780e10779b0e0e7464-b46593cc7ee6edba-01\",\n",
    "}\n"
   ]
  },
  {
   "cell_type": "code",
   "execution_count": 4,
   "id": "d170de56",
   "metadata": {
    "execution": {
     "iopub.execute_input": "2022-07-07T14:12:35.643920Z",
     "iopub.status.busy": "2022-07-07T14:12:35.643662Z",
     "iopub.status.idle": "2022-07-07T14:12:35.648168Z",
     "shell.execute_reply": "2022-07-07T14:12:35.647603Z"
    },
    "lines_to_next_cell": 0,
    "papermill": {
     "duration": 0.010357,
     "end_time": "2022-07-07T14:12:35.650517",
     "exception": false,
     "start_time": "2022-07-07T14:12:35.640160",
     "status": "completed"
    },
    "tags": []
   },
   "outputs": [],
   "source": [
    "# -----------------------------------------------------------------------"
   ]
  },
  {
   "cell_type": "markdown",
   "id": "eda0d288",
   "metadata": {
    "papermill": {
     "duration": 0.003796,
     "end_time": "2022-07-07T14:12:35.657010",
     "exception": false,
     "start_time": "2022-07-07T14:12:35.653214",
     "status": "completed"
    },
    "tags": []
   },
   "source": [
    "---"
   ]
  },
  {
   "cell_type": "markdown",
   "id": "2096c29f",
   "metadata": {
    "lines_to_next_cell": 2,
    "papermill": {
     "duration": 0.002611,
     "end_time": "2022-07-07T14:12:35.662619",
     "exception": false,
     "start_time": "2022-07-07T14:12:35.660008",
     "status": "completed"
    },
    "tags": []
   },
   "source": [
    "### Notebook code"
   ]
  },
  {
   "cell_type": "code",
   "execution_count": 5,
   "id": "d057f3f2",
   "metadata": {
    "execution": {
     "iopub.execute_input": "2022-07-07T14:12:35.670256Z",
     "iopub.status.busy": "2022-07-07T14:12:35.670006Z",
     "iopub.status.idle": "2022-07-07T14:12:36.153125Z",
     "shell.execute_reply": "2022-07-07T14:12:36.152416Z"
    },
    "papermill": {
     "duration": 0.489826,
     "end_time": "2022-07-07T14:12:36.155051",
     "exception": false,
     "start_time": "2022-07-07T14:12:35.665225",
     "status": "completed"
    },
    "tags": []
   },
   "outputs": [
    {
     "name": "stderr",
     "output_type": "stream",
     "text": [
      "2022-07-07 14:12:35,997\tINFO worker.py:842 -- Connecting to existing Ray cluster at address: 172.17.0.2:6379\n"
     ]
    }
   ],
   "source": [
    "from pynb_dag_runner.tasks.task_opentelemetry_logging import PydarLogger\n",
    "\n",
    "logger = PydarLogger(P)"
   ]
  },
  {
   "cell_type": "markdown",
   "id": "80e5d159",
   "metadata": {
    "papermill": {
     "duration": 0.003284,
     "end_time": "2022-07-07T14:12:36.161602",
     "exception": false,
     "start_time": "2022-07-07T14:12:36.158318",
     "status": "completed"
    },
    "tags": []
   },
   "source": [
    "## Load and limit train data"
   ]
  },
  {
   "cell_type": "code",
   "execution_count": 6,
   "id": "cc8ffe1b",
   "metadata": {
    "execution": {
     "iopub.execute_input": "2022-07-07T14:12:36.169027Z",
     "iopub.status.busy": "2022-07-07T14:12:36.168709Z",
     "iopub.status.idle": "2022-07-07T14:12:36.549133Z",
     "shell.execute_reply": "2022-07-07T14:12:36.548409Z"
    },
    "papermill": {
     "duration": 0.386375,
     "end_time": "2022-07-07T14:12:36.551135",
     "exception": false,
     "start_time": "2022-07-07T14:12:36.164760",
     "status": "completed"
    },
    "tags": []
   },
   "outputs": [],
   "source": [
    "def load_and_limit_train_data(P):\n",
    "    from common.io import datalake_root, read_numpy\n",
    "    from sklearn.model_selection import train_test_split\n",
    "\n",
    "    X_train_all = read_numpy(datalake_root(P) / \"train-data\" / \"digits.numpy\")\n",
    "    y_train_all = read_numpy(datalake_root(P) / \"train-data\" / \"labels.numpy\")\n",
    "\n",
    "    assert isinstance(P[\"task.nr_train_images\"], int)\n",
    "\n",
    "    # Note: train_test_split will fail if split is 0 or 100%.\n",
    "    assert 0 < P[\"task.nr_train_images\"] < len(y_train_all)\n",
    "\n",
    "    X_train, _, y_train, _ = train_test_split(\n",
    "        X_train_all,\n",
    "        y_train_all,\n",
    "        train_size=P[\"task.nr_train_images\"],\n",
    "        test_size=None,\n",
    "        stratify=y_train_all,\n",
    "        shuffle=True,\n",
    "        random_state=123,\n",
    "    )\n",
    "\n",
    "    assert X_train.shape == (len(y_train), 8 * 8)\n",
    "    return X_train, y_train\n",
    "\n",
    "\n",
    "X_train, y_train = load_and_limit_train_data(P)"
   ]
  },
  {
   "cell_type": "markdown",
   "id": "7e7780fd",
   "metadata": {
    "papermill": {
     "duration": 0.005144,
     "end_time": "2022-07-07T14:12:36.561029",
     "exception": false,
     "start_time": "2022-07-07T14:12:36.555885",
     "status": "completed"
    },
    "tags": []
   },
   "source": [
    "## Train support vector classifier model\n",
    "\n",
    "Below we assume that the hyperparameter $C$ is known.\n",
    "\n",
    "However, this should ideally be found by a hyperparameter search. That could be\n",
    "done in parallel on the Ray cluster, but this needs some more work. Ie., to use\n",
    "multiple cores in the notebook, those cores should be reserved when starting the\n",
    "notebook task (TODO).\n",
    "\n",
    "- https://docs.ray.io/en/latest/tune/key-concepts.html\n",
    "\n",
    "Note: cv-scores would need to be computed here, since they depend on the train data.\n",
    "After this notebook only the onnx-model is available."
   ]
  },
  {
   "cell_type": "code",
   "execution_count": 7,
   "id": "cacc92f8",
   "metadata": {
    "execution": {
     "iopub.execute_input": "2022-07-07T14:12:36.568622Z",
     "iopub.status.busy": "2022-07-07T14:12:36.568017Z",
     "iopub.status.idle": "2022-07-07T14:12:36.593649Z",
     "shell.execute_reply": "2022-07-07T14:12:36.593054Z"
    },
    "papermill": {
     "duration": 0.031281,
     "end_time": "2022-07-07T14:12:36.595470",
     "exception": false,
     "start_time": "2022-07-07T14:12:36.564189",
     "status": "completed"
    },
    "tags": []
   },
   "outputs": [],
   "source": [
    "from sklearn.svm import SVC"
   ]
  },
  {
   "cell_type": "code",
   "execution_count": 8,
   "id": "f3782da9",
   "metadata": {
    "execution": {
     "iopub.execute_input": "2022-07-07T14:12:36.603974Z",
     "iopub.status.busy": "2022-07-07T14:12:36.603499Z",
     "iopub.status.idle": "2022-07-07T14:12:36.717719Z",
     "shell.execute_reply": "2022-07-07T14:12:36.717177Z"
    },
    "papermill": {
     "duration": 0.120456,
     "end_time": "2022-07-07T14:12:36.719495",
     "exception": false,
     "start_time": "2022-07-07T14:12:36.599039",
     "status": "completed"
    },
    "tags": []
   },
   "outputs": [
    {
     "data": {
      "text/plain": [
       "SVC(kernel='linear', probability=True)"
      ]
     },
     "execution_count": 8,
     "metadata": {},
     "output_type": "execute_result"
    }
   ],
   "source": [
    "model = SVC(C=1.0, kernel=\"linear\", probability=True)\n",
    "\n",
    "model.fit(X_train, y_train)"
   ]
  },
  {
   "cell_type": "markdown",
   "id": "1fd23183",
   "metadata": {
    "papermill": {
     "duration": 0.003483,
     "end_time": "2022-07-07T14:12:36.726623",
     "exception": false,
     "start_time": "2022-07-07T14:12:36.723140",
     "status": "completed"
    },
    "tags": []
   },
   "source": [
    "### Q: Can the labels returned by `predict(..)` be computed from probabilities returned by the `predict_prob`-method?"
   ]
  },
  {
   "cell_type": "code",
   "execution_count": 9,
   "id": "3e7a7a35",
   "metadata": {
    "execution": {
     "iopub.execute_input": "2022-07-07T14:12:36.734079Z",
     "iopub.status.busy": "2022-07-07T14:12:36.733828Z",
     "iopub.status.idle": "2022-07-07T14:12:36.786719Z",
     "shell.execute_reply": "2022-07-07T14:12:36.786182Z"
    },
    "papermill": {
     "duration": 0.05891,
     "end_time": "2022-07-07T14:12:36.788541",
     "exception": false,
     "start_time": "2022-07-07T14:12:36.729631",
     "status": "completed"
    },
    "tags": []
   },
   "outputs": [
    {
     "name": "stdout",
     "output_type": "stream",
     "text": [
      " - Logging nr_max_prob_neq_label (int) : 0\n"
     ]
    }
   ],
   "source": [
    "import numpy as np\n",
    "\n",
    "y_train_labels = model.predict(X_train)\n",
    "y_train_probabilities = model.predict_proba(X_train)\n",
    "assert y_train_probabilities.shape == (len(y_train), 10)\n",
    "\n",
    "y_train_max_prob_labels = np.argmax(y_train_probabilities, axis=1)\n",
    "assert y_train_labels.shape == y_train_max_prob_labels.shape == y_train.shape\n",
    "\n",
    "# If the predicted labels would coincide with the labels that have\n",
    "# maximum probability, the below number would be zero\n",
    "logger.log_int(\n",
    "    \"nr_max_prob_neq_label\", int(sum(y_train_max_prob_labels != y_train_labels))\n",
    ")"
   ]
  },
  {
   "cell_type": "markdown",
   "id": "665cf24b",
   "metadata": {
    "papermill": {
     "duration": 0.003335,
     "end_time": "2022-07-07T14:12:36.795421",
     "exception": false,
     "start_time": "2022-07-07T14:12:36.792086",
     "status": "completed"
    },
    "tags": []
   },
   "source": [
    "The explanation is (likely) explained in the SVC source, see\n",
    "[here](https://github.com/scikit-learn/scikit-learn/blob/main/sklearn/svm/_base.py).\n",
    "Namely, the outputs from `predict(..)` and `predict_proba(..)` may not in some\n",
    "cases be compatible since the latter is computed using cross-validation while\n",
    "the former is not. Thus, the above number need not be zero."
   ]
  },
  {
   "cell_type": "markdown",
   "id": "45808e69",
   "metadata": {
    "papermill": {
     "duration": 0.003348,
     "end_time": "2022-07-07T14:12:36.801974",
     "exception": false,
     "start_time": "2022-07-07T14:12:36.798626",
     "status": "completed"
    },
    "tags": []
   },
   "source": [
    "## Persist model"
   ]
  },
  {
   "cell_type": "code",
   "execution_count": 10,
   "id": "0ab1d112",
   "metadata": {
    "execution": {
     "iopub.execute_input": "2022-07-07T14:12:36.809742Z",
     "iopub.status.busy": "2022-07-07T14:12:36.809474Z",
     "iopub.status.idle": "2022-07-07T14:12:37.538583Z",
     "shell.execute_reply": "2022-07-07T14:12:37.537817Z"
    },
    "papermill": {
     "duration": 0.735323,
     "end_time": "2022-07-07T14:12:37.540623",
     "exception": false,
     "start_time": "2022-07-07T14:12:36.805300",
     "status": "completed"
    },
    "tags": []
   },
   "outputs": [],
   "source": [
    "from skl2onnx import convert_sklearn\n",
    "from skl2onnx.common.data_types import FloatTensorType\n",
    "\n",
    "#\n",
    "from common.io import datalake_root, write_onnx"
   ]
  },
  {
   "cell_type": "code",
   "execution_count": 11,
   "id": "6a549fa5",
   "metadata": {
    "execution": {
     "iopub.execute_input": "2022-07-07T14:12:37.549465Z",
     "iopub.status.busy": "2022-07-07T14:12:37.548957Z",
     "iopub.status.idle": "2022-07-07T14:12:37.599578Z",
     "shell.execute_reply": "2022-07-07T14:12:37.598940Z"
    },
    "papermill": {
     "duration": 0.057611,
     "end_time": "2022-07-07T14:12:37.601617",
     "exception": false,
     "start_time": "2022-07-07T14:12:37.544006",
     "status": "completed"
    },
    "tags": []
   },
   "outputs": [],
   "source": [
    "# convert sklearn model into onnx and persist to data lake\n",
    "\n",
    "model_onnx = convert_sklearn(\n",
    "    model, initial_types=[(\"float_input_8x8_image\", FloatTensorType([None, 8 * 8]))]\n",
    ")\n",
    "write_onnx(\n",
    "    datalake_root(P)\n",
    "    / \"models\"\n",
    "    / f\"nr_train_images={P['task.nr_train_images']}\"\n",
    "    / \"model.onnx\",\n",
    "    model_onnx,\n",
    ")"
   ]
  },
  {
   "cell_type": "code",
   "execution_count": null,
   "id": "4b977e8e",
   "metadata": {
    "papermill": {
     "duration": 0.003725,
     "end_time": "2022-07-07T14:12:37.608723",
     "exception": false,
     "start_time": "2022-07-07T14:12:37.604998",
     "status": "completed"
    },
    "tags": []
   },
   "outputs": [],
   "source": []
  }
 ],
 "metadata": {
  "jupytext": {
   "cell_metadata_filter": "tags,-all",
   "main_language": "python",
   "notebook_metadata_filter": "-all"
  },
  "language_info": {
   "codemirror_mode": {
    "name": "ipython",
    "version": 3
   },
   "file_extension": ".py",
   "mimetype": "text/x-python",
   "name": "python",
   "nbconvert_exporter": "python",
   "pygments_lexer": "ipython3",
   "version": "3.8.10"
  },
  "papermill": {
   "default_parameters": {},
   "duration": 4.452914,
   "end_time": "2022-07-07T14:12:38.736461",
   "environment_variables": {},
   "exception": null,
   "input_path": "/home/host_user/workspace/mnist-demo-pipeline/mnist-demo-pipeline/notebooks/temp-notebook-r39hnjcf.ipynb",
   "output_path": "notebooks/train-model.ipynb",
   "parameters": {
    "P": {
     "_opentelemetry_traceparent": "00-c8ac85eb09f8b1780e10779b0e0e7464-b46593cc7ee6edba-01",
     "pipeline.data_lake_root": "/pipeline-outputs/data-lake",
     "pipeline.github.actor": "matiasdahl",
     "pipeline.github.base_ref": "development",
     "pipeline.github.event_name": "pull_request",
     "pipeline.github.head_ref": "try-C-hyperparameter",
     "pipeline.github.job": "run-tests-pipeline-and-persist-pipeline-outputs",
     "pipeline.github.ref": "refs/pull/55/merge",
     "pipeline.github.ref_name": "55/merge",
     "pipeline.github.ref_type": "branch",
     "pipeline.github.repository": "pynb-dag-runner/mnist-digits-demo-pipeline",
     "pipeline.github.run_id": "2630106939",
     "pipeline.github.runner_name": "GitHub Actions 3",
     "pipeline.github.sha": "876109f37d9c7859966a244c1f8db39e7b4105e9",
     "pipeline.github.workflow": "Run automated tests, pipeline and deploy results to static reporting site",
     "pipeline.pipeline_run_id": "6eaadf4c-6dc3-4086-abe2-ccf34399bbad",
     "pipeline.run_environment": "ci",
     "run.retry_nr": "0",
     "task.max_nr_retries": "1",
     "task.notebook": "notebooks/train-model.py",
     "task.nr_train_images": 800,
     "task.num_cpus": 1,
     "task.timeout_s": "None"
    }
   },
   "start_time": "2022-07-07T14:12:34.283547",
   "version": "2.3.3"
  }
 },
 "nbformat": 4,
 "nbformat_minor": 5
}