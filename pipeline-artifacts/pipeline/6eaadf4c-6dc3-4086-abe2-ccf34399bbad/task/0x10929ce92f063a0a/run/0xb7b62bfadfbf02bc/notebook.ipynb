{
 "cells": [
  {
   "cell_type": "markdown",
   "id": "75afb8a2",
   "metadata": {
    "papermill": {
     "duration": 0.003545,
     "end_time": "2022-07-07T14:12:15.122109",
     "exception": false,
     "start_time": "2022-07-07T14:12:15.118564",
     "status": "completed"
    },
    "tags": []
   },
   "source": [
    "# Ingest toy version of MNIST digit data from sklearn"
   ]
  },
  {
   "cell_type": "markdown",
   "id": "c9cc8bec",
   "metadata": {
    "papermill": {
     "duration": 0.00212,
     "end_time": "2022-07-07T14:12:15.126699",
     "exception": false,
     "start_time": "2022-07-07T14:12:15.124579",
     "status": "completed"
    },
    "tags": []
   },
   "source": [
    "### Determine run parameters"
   ]
  },
  {
   "cell_type": "code",
   "execution_count": 1,
   "id": "a3dfa133",
   "metadata": {
    "execution": {
     "iopub.execute_input": "2022-07-07T14:12:15.133315Z",
     "iopub.status.busy": "2022-07-07T14:12:15.132841Z",
     "iopub.status.idle": "2022-07-07T14:12:15.141996Z",
     "shell.execute_reply": "2022-07-07T14:12:15.140192Z"
    },
    "lines_to_next_cell": 0,
    "papermill": {
     "duration": 0.01506,
     "end_time": "2022-07-07T14:12:15.143953",
     "exception": false,
     "start_time": "2022-07-07T14:12:15.128893",
     "status": "completed"
    },
    "tags": []
   },
   "outputs": [],
   "source": [
    "# ----------------- Parameters for interactive development --------------\n",
    "P = {\n",
    "    \"pipeline.run_environment\": \"dev\",\n",
    "    \"pipeline.data_lake_root\": \"/pipeline-outputs/data-lake\",\n",
    "    \"run.retry_nr\": \"1\",\n",
    "}"
   ]
  },
  {
   "cell_type": "code",
   "execution_count": 2,
   "id": "2805d25a",
   "metadata": {
    "execution": {
     "iopub.execute_input": "2022-07-07T14:12:15.149662Z",
     "iopub.status.busy": "2022-07-07T14:12:15.149439Z",
     "iopub.status.idle": "2022-07-07T14:12:15.152710Z",
     "shell.execute_reply": "2022-07-07T14:12:15.152084Z"
    },
    "lines_to_next_cell": 0,
    "papermill": {
     "duration": 0.007938,
     "end_time": "2022-07-07T14:12:15.154052",
     "exception": false,
     "start_time": "2022-07-07T14:12:15.146114",
     "status": "completed"
    },
    "tags": [
     "parameters"
    ]
   },
   "outputs": [],
   "source": [
    "# - During automated runs parameters will be injected in the below cell -"
   ]
  },
  {
   "cell_type": "code",
   "execution_count": 3,
   "id": "e70a4465",
   "metadata": {
    "execution": {
     "iopub.execute_input": "2022-07-07T14:12:15.159767Z",
     "iopub.status.busy": "2022-07-07T14:12:15.159527Z",
     "iopub.status.idle": "2022-07-07T14:12:15.165025Z",
     "shell.execute_reply": "2022-07-07T14:12:15.164470Z"
    },
    "papermill": {
     "duration": 0.010043,
     "end_time": "2022-07-07T14:12:15.166339",
     "exception": false,
     "start_time": "2022-07-07T14:12:15.156296",
     "status": "completed"
    },
    "tags": [
     "injected-parameters"
    ]
   },
   "outputs": [],
   "source": [
    "# Parameters\n",
    "P = {\n",
    "    \"pipeline.data_lake_root\": \"/pipeline-outputs/data-lake\",\n",
    "    \"pipeline.run_environment\": \"ci\",\n",
    "    \"pipeline.pipeline_run_id\": \"6eaadf4c-6dc3-4086-abe2-ccf34399bbad\",\n",
    "    \"pipeline.github.repository\": \"pynb-dag-runner/mnist-digits-demo-pipeline\",\n",
    "    \"pipeline.github.workflow\": \"Run automated tests, pipeline and deploy results to static reporting site\",\n",
    "    \"pipeline.github.runner_name\": \"GitHub Actions 3\",\n",
    "    \"pipeline.github.run_id\": \"2630106939\",\n",
    "    \"pipeline.github.actor\": \"matiasdahl\",\n",
    "    \"pipeline.github.job\": \"run-tests-pipeline-and-persist-pipeline-outputs\",\n",
    "    \"pipeline.github.base_ref\": \"development\",\n",
    "    \"pipeline.github.head_ref\": \"try-C-hyperparameter\",\n",
    "    \"pipeline.github.sha\": \"876109f37d9c7859966a244c1f8db39e7b4105e9\",\n",
    "    \"pipeline.github.ref\": \"refs/pull/55/merge\",\n",
    "    \"pipeline.github.ref_type\": \"branch\",\n",
    "    \"pipeline.github.ref_name\": \"55/merge\",\n",
    "    \"pipeline.github.event_name\": \"pull_request\",\n",
    "    \"task.notebook\": \"notebooks/ingest.py\",\n",
    "    \"task.max_nr_retries\": \"15\",\n",
    "    \"run.retry_nr\": \"10\",\n",
    "    \"task.timeout_s\": \"10\",\n",
    "    \"task.num_cpus\": 1,\n",
    "    \"_opentelemetry_traceparent\": \"00-c8ac85eb09f8b1780e10779b0e0e7464-471c89ac38e1a7c0-01\",\n",
    "}\n"
   ]
  },
  {
   "cell_type": "code",
   "execution_count": 4,
   "id": "34ee6240",
   "metadata": {
    "execution": {
     "iopub.execute_input": "2022-07-07T14:12:15.171929Z",
     "iopub.status.busy": "2022-07-07T14:12:15.171502Z",
     "iopub.status.idle": "2022-07-07T14:12:15.174887Z",
     "shell.execute_reply": "2022-07-07T14:12:15.174321Z"
    },
    "lines_to_next_cell": 0,
    "papermill": {
     "duration": 0.007725,
     "end_time": "2022-07-07T14:12:15.176206",
     "exception": false,
     "start_time": "2022-07-07T14:12:15.168481",
     "status": "completed"
    },
    "tags": []
   },
   "outputs": [],
   "source": [
    "# -----------------------------------------------------------------------"
   ]
  },
  {
   "cell_type": "markdown",
   "id": "d4c453d9",
   "metadata": {
    "lines_to_next_cell": 2,
    "papermill": {
     "duration": 0.002259,
     "end_time": "2022-07-07T14:12:15.180828",
     "exception": false,
     "start_time": "2022-07-07T14:12:15.178569",
     "status": "completed"
    },
    "tags": []
   },
   "source": [
    "---"
   ]
  },
  {
   "cell_type": "markdown",
   "id": "585252e5",
   "metadata": {
    "papermill": {
     "duration": 0.002229,
     "end_time": "2022-07-07T14:12:15.185493",
     "exception": false,
     "start_time": "2022-07-07T14:12:15.183264",
     "status": "completed"
    },
    "tags": []
   },
   "source": [
    "### Simulate different types of failures (for testing timeout and retry logic)"
   ]
  },
  {
   "cell_type": "code",
   "execution_count": 5,
   "id": "95cd66be",
   "metadata": {
    "execution": {
     "iopub.execute_input": "2022-07-07T14:12:15.191186Z",
     "iopub.status.busy": "2022-07-07T14:12:15.190790Z",
     "iopub.status.idle": "2022-07-07T14:12:15.625171Z",
     "shell.execute_reply": "2022-07-07T14:12:15.624405Z"
    },
    "papermill": {
     "duration": 0.439364,
     "end_time": "2022-07-07T14:12:15.626974",
     "exception": false,
     "start_time": "2022-07-07T14:12:15.187610",
     "status": "completed"
    },
    "tags": []
   },
   "outputs": [
    {
     "name": "stderr",
     "output_type": "stream",
     "text": [
      "2022-07-07 14:12:15,478\tINFO worker.py:842 -- Connecting to existing Ray cluster at address: 172.17.0.2:6379\n"
     ]
    }
   ],
   "source": [
    "from pynb_dag_runner.tasks.task_opentelemetry_logging import PydarLogger\n",
    "\n",
    "logger = PydarLogger(P)"
   ]
  },
  {
   "cell_type": "code",
   "execution_count": 6,
   "id": "30d27cb7",
   "metadata": {
    "execution": {
     "iopub.execute_input": "2022-07-07T14:12:15.633911Z",
     "iopub.status.busy": "2022-07-07T14:12:15.633429Z",
     "iopub.status.idle": "2022-07-07T14:12:15.638481Z",
     "shell.execute_reply": "2022-07-07T14:12:15.637879Z"
    },
    "papermill": {
     "duration": 0.010704,
     "end_time": "2022-07-07T14:12:15.640290",
     "exception": false,
     "start_time": "2022-07-07T14:12:15.629586",
     "status": "completed"
    },
    "tags": []
   },
   "outputs": [],
   "source": [
    "import time, random\n",
    "\n",
    "\n",
    "def maybe_crash(retry_nr: int, run_environment: str):\n",
    "    if retry_nr == 2 and run_environment == \"ci\":\n",
    "        time.sleep(1e6)\n",
    "\n",
    "    max_retry_nr: int = 3 if run_environment == \"dev\" else 10\n",
    "\n",
    "    if retry_nr < max_retry_nr:\n",
    "        if random.random() < 0.1:\n",
    "            time.sleep(1e6)\n",
    "        else:\n",
    "            raise Exception(\"Simulated exception failure from ingestion step notebook!\")\n",
    "\n",
    "\n",
    "maybe_crash(\n",
    "    retry_nr=int(P[\"run.retry_nr\"]), run_environment=P[\"pipeline.run_environment\"]\n",
    ")"
   ]
  },
  {
   "cell_type": "markdown",
   "id": "87492ff7",
   "metadata": {
    "lines_to_next_cell": 2,
    "papermill": {
     "duration": 0.002745,
     "end_time": "2022-07-07T14:12:15.645480",
     "exception": false,
     "start_time": "2022-07-07T14:12:15.642735",
     "status": "completed"
    },
    "tags": []
   },
   "source": [
    "### Notebook code"
   ]
  },
  {
   "cell_type": "code",
   "execution_count": 7,
   "id": "8f98a77a",
   "metadata": {
    "execution": {
     "iopub.execute_input": "2022-07-07T14:12:15.652234Z",
     "iopub.status.busy": "2022-07-07T14:12:15.651976Z",
     "iopub.status.idle": "2022-07-07T14:12:16.840904Z",
     "shell.execute_reply": "2022-07-07T14:12:16.840243Z"
    },
    "papermill": {
     "duration": 1.194826,
     "end_time": "2022-07-07T14:12:16.842992",
     "exception": false,
     "start_time": "2022-07-07T14:12:15.648166",
     "status": "completed"
    },
    "tags": []
   },
   "outputs": [],
   "source": [
    "from sklearn import datasets\n",
    "\n",
    "#\n",
    "from common.io import datalake_root, write_numpy"
   ]
  },
  {
   "cell_type": "code",
   "execution_count": 8,
   "id": "fdb8859a",
   "metadata": {
    "execution": {
     "iopub.execute_input": "2022-07-07T14:12:16.850136Z",
     "iopub.status.busy": "2022-07-07T14:12:16.849716Z",
     "iopub.status.idle": "2022-07-07T14:12:16.862790Z",
     "shell.execute_reply": "2022-07-07T14:12:16.862103Z"
    },
    "lines_to_next_cell": 2,
    "papermill": {
     "duration": 0.018631,
     "end_time": "2022-07-07T14:12:16.864415",
     "exception": false,
     "start_time": "2022-07-07T14:12:16.845784",
     "status": "completed"
    },
    "tags": []
   },
   "outputs": [],
   "source": [
    "digits = datasets.load_digits()\n",
    "\n",
    "X = digits[\"data\"]\n",
    "y = digits[\"target\"]"
   ]
  },
  {
   "cell_type": "code",
   "execution_count": 9,
   "id": "7cd90df5",
   "metadata": {
    "execution": {
     "iopub.execute_input": "2022-07-07T14:12:16.873349Z",
     "iopub.status.busy": "2022-07-07T14:12:16.872988Z",
     "iopub.status.idle": "2022-07-07T14:12:16.885804Z",
     "shell.execute_reply": "2022-07-07T14:12:16.885079Z"
    },
    "papermill": {
     "duration": 0.017958,
     "end_time": "2022-07-07T14:12:16.887485",
     "exception": false,
     "start_time": "2022-07-07T14:12:16.869527",
     "status": "completed"
    },
    "tags": []
   },
   "outputs": [
    {
     "name": "stdout",
     "output_type": "stream",
     "text": [
      " - Logging data_shape (json) : [1797, 64]\n",
      " - Logging target_shape (json) : [1797]\n"
     ]
    },
    {
     "data": {
      "text/plain": [
       "((1797, 64), (1797,))"
      ]
     },
     "execution_count": 9,
     "metadata": {},
     "output_type": "execute_result"
    }
   ],
   "source": [
    "logger.log_value(\"data_shape\", list(X.shape))\n",
    "logger.log_value(\"target_shape\", list(y.shape))\n",
    "\n",
    "X.shape, y.shape"
   ]
  },
  {
   "cell_type": "code",
   "execution_count": 10,
   "id": "1088d8b2",
   "metadata": {
    "execution": {
     "iopub.execute_input": "2022-07-07T14:12:16.895325Z",
     "iopub.status.busy": "2022-07-07T14:12:16.894914Z",
     "iopub.status.idle": "2022-07-07T14:12:16.903692Z",
     "shell.execute_reply": "2022-07-07T14:12:16.903099Z"
    },
    "papermill": {
     "duration": 0.015031,
     "end_time": "2022-07-07T14:12:16.905139",
     "exception": false,
     "start_time": "2022-07-07T14:12:16.890108",
     "status": "completed"
    },
    "tags": []
   },
   "outputs": [],
   "source": [
    "write_numpy(datalake_root(P) / \"raw\" / \"digits.numpy\", X)\n",
    "write_numpy(datalake_root(P) / \"raw\" / \"labels.numpy\", y)"
   ]
  },
  {
   "cell_type": "code",
   "execution_count": null,
   "id": "0d6c8f50",
   "metadata": {
    "papermill": {
     "duration": 0.002532,
     "end_time": "2022-07-07T14:12:16.910394",
     "exception": false,
     "start_time": "2022-07-07T14:12:16.907862",
     "status": "completed"
    },
    "tags": []
   },
   "outputs": [],
   "source": []
  }
 ],
 "metadata": {
  "jupytext": {
   "cell_metadata_filter": "tags,-all",
   "main_language": "python",
   "notebook_metadata_filter": "-all"
  },
  "language_info": {
   "codemirror_mode": {
    "name": "ipython",
    "version": 3
   },
   "file_extension": ".py",
   "mimetype": "text/x-python",
   "name": "python",
   "nbconvert_exporter": "python",
   "pygments_lexer": "ipython3",
   "version": "3.8.10"
  },
  "papermill": {
   "default_parameters": {},
   "duration": 3.877711,
   "end_time": "2022-07-07T14:12:17.832915",
   "environment_variables": {},
   "exception": null,
   "input_path": "/home/host_user/workspace/mnist-demo-pipeline/mnist-demo-pipeline/notebooks/temp-notebook-ax05vx6a.ipynb",
   "output_path": "notebooks/ingest.ipynb",
   "parameters": {
    "P": {
     "_opentelemetry_traceparent": "00-c8ac85eb09f8b1780e10779b0e0e7464-471c89ac38e1a7c0-01",
     "pipeline.data_lake_root": "/pipeline-outputs/data-lake",
     "pipeline.github.actor": "matiasdahl",
     "pipeline.github.base_ref": "development",
     "pipeline.github.event_name": "pull_request",
     "pipeline.github.head_ref": "try-C-hyperparameter",
     "pipeline.github.job": "run-tests-pipeline-and-persist-pipeline-outputs",
     "pipeline.github.ref": "refs/pull/55/merge",
     "pipeline.github.ref_name": "55/merge",
     "pipeline.github.ref_type": "branch",
     "pipeline.github.repository": "pynb-dag-runner/mnist-digits-demo-pipeline",
     "pipeline.github.run_id": "2630106939",
     "pipeline.github.runner_name": "GitHub Actions 3",
     "pipeline.github.sha": "876109f37d9c7859966a244c1f8db39e7b4105e9",
     "pipeline.github.workflow": "Run automated tests, pipeline and deploy results to static reporting site",
     "pipeline.pipeline_run_id": "6eaadf4c-6dc3-4086-abe2-ccf34399bbad",
     "pipeline.run_environment": "ci",
     "run.retry_nr": "10",
     "task.max_nr_retries": "15",
     "task.notebook": "notebooks/ingest.py",
     "task.num_cpus": 1,
     "task.timeout_s": "10"
    }
   },
   "start_time": "2022-07-07T14:12:13.955204",
   "version": "2.3.3"
  }
 },
 "nbformat": 4,
 "nbformat_minor": 5
}