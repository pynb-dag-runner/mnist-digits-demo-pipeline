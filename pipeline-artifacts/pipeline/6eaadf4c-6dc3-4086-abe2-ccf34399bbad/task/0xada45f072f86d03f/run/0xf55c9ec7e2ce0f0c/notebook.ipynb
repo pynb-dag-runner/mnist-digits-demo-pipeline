{
 "cells": [
  {
   "cell_type": "markdown",
   "id": "012475b5",
   "metadata": {
    "papermill": {
     "duration": 0.004259,
     "end_time": "2022-07-07T14:12:32.258252",
     "exception": false,
     "start_time": "2022-07-07T14:12:32.253993",
     "status": "completed"
    },
    "tags": []
   },
   "source": [
    "# Train model\n",
    "\n",
    "The purpose of this notebook is:\n",
    "\n",
    "- Load all training data (images and labels).\n",
    "- Limit number of train images to `task.nr_train_images` (value provided as run parameter).\n",
    "- Train a support vector machine model using sklearn.\n",
    "- Persist the trained model using the ONNX format."
   ]
  },
  {
   "cell_type": "markdown",
   "id": "7f7db52c",
   "metadata": {
    "papermill": {
     "duration": 0.002572,
     "end_time": "2022-07-07T14:12:32.263985",
     "exception": false,
     "start_time": "2022-07-07T14:12:32.261413",
     "status": "completed"
    },
    "tags": []
   },
   "source": [
    "### Determine run parameters"
   ]
  },
  {
   "cell_type": "code",
   "execution_count": 1,
   "id": "4bc9ebe4",
   "metadata": {
    "execution": {
     "iopub.execute_input": "2022-07-07T14:12:32.271486Z",
     "iopub.status.busy": "2022-07-07T14:12:32.270955Z",
     "iopub.status.idle": "2022-07-07T14:12:32.278310Z",
     "shell.execute_reply": "2022-07-07T14:12:32.277551Z"
    },
    "lines_to_next_cell": 0,
    "papermill": {
     "duration": 0.01338,
     "end_time": "2022-07-07T14:12:32.279866",
     "exception": false,
     "start_time": "2022-07-07T14:12:32.266486",
     "status": "completed"
    },
    "tags": []
   },
   "outputs": [],
   "source": [
    "# ----------------- Parameters for interactive development --------------\n",
    "P = {\n",
    "    \"pipeline.data_lake_root\": \"/pipeline-outputs/data-lake\",\n",
    "    \"task.nr_train_images\": 600,\n",
    "}"
   ]
  },
  {
   "cell_type": "code",
   "execution_count": 2,
   "id": "4da76d7e",
   "metadata": {
    "execution": {
     "iopub.execute_input": "2022-07-07T14:12:32.286631Z",
     "iopub.status.busy": "2022-07-07T14:12:32.286413Z",
     "iopub.status.idle": "2022-07-07T14:12:32.289787Z",
     "shell.execute_reply": "2022-07-07T14:12:32.289167Z"
    },
    "lines_to_next_cell": 0,
    "papermill": {
     "duration": 0.008422,
     "end_time": "2022-07-07T14:12:32.291123",
     "exception": false,
     "start_time": "2022-07-07T14:12:32.282701",
     "status": "completed"
    },
    "tags": [
     "parameters"
    ]
   },
   "outputs": [],
   "source": [
    "# - During automated runs parameters will be injected in the below cell -"
   ]
  },
  {
   "cell_type": "code",
   "execution_count": 3,
   "id": "05170613",
   "metadata": {
    "execution": {
     "iopub.execute_input": "2022-07-07T14:12:32.297827Z",
     "iopub.status.busy": "2022-07-07T14:12:32.297613Z",
     "iopub.status.idle": "2022-07-07T14:12:32.301970Z",
     "shell.execute_reply": "2022-07-07T14:12:32.301504Z"
    },
    "papermill": {
     "duration": 0.009403,
     "end_time": "2022-07-07T14:12:32.303355",
     "exception": false,
     "start_time": "2022-07-07T14:12:32.293952",
     "status": "completed"
    },
    "tags": [
     "injected-parameters"
    ]
   },
   "outputs": [],
   "source": [
    "# Parameters\n",
    "P = {\n",
    "    \"pipeline.data_lake_root\": \"/pipeline-outputs/data-lake\",\n",
    "    \"pipeline.run_environment\": \"ci\",\n",
    "    \"pipeline.pipeline_run_id\": \"6eaadf4c-6dc3-4086-abe2-ccf34399bbad\",\n",
    "    \"pipeline.github.repository\": \"pynb-dag-runner/mnist-digits-demo-pipeline\",\n",
    "    \"pipeline.github.workflow\": \"Run automated tests, pipeline and deploy results to static reporting site\",\n",
    "    \"pipeline.github.runner_name\": \"GitHub Actions 3\",\n",
    "    \"pipeline.github.run_id\": \"2630106939\",\n",
    "    \"pipeline.github.actor\": \"matiasdahl\",\n",
    "    \"pipeline.github.job\": \"run-tests-pipeline-and-persist-pipeline-outputs\",\n",
    "    \"pipeline.github.base_ref\": \"development\",\n",
    "    \"pipeline.github.head_ref\": \"try-C-hyperparameter\",\n",
    "    \"pipeline.github.sha\": \"876109f37d9c7859966a244c1f8db39e7b4105e9\",\n",
    "    \"pipeline.github.ref\": \"refs/pull/55/merge\",\n",
    "    \"pipeline.github.ref_type\": \"branch\",\n",
    "    \"pipeline.github.ref_name\": \"55/merge\",\n",
    "    \"pipeline.github.event_name\": \"pull_request\",\n",
    "    \"task.nr_train_images\": 600,\n",
    "    \"task.notebook\": \"notebooks/train-model.py\",\n",
    "    \"task.max_nr_retries\": \"1\",\n",
    "    \"run.retry_nr\": \"0\",\n",
    "    \"task.timeout_s\": \"None\",\n",
    "    \"task.num_cpus\": 1,\n",
    "    \"_opentelemetry_traceparent\": \"00-c8ac85eb09f8b1780e10779b0e0e7464-a4c2f6c23b76e92b-01\",\n",
    "}\n"
   ]
  },
  {
   "cell_type": "code",
   "execution_count": 4,
   "id": "3a19a87e",
   "metadata": {
    "execution": {
     "iopub.execute_input": "2022-07-07T14:12:32.310545Z",
     "iopub.status.busy": "2022-07-07T14:12:32.310136Z",
     "iopub.status.idle": "2022-07-07T14:12:32.312996Z",
     "shell.execute_reply": "2022-07-07T14:12:32.312466Z"
    },
    "lines_to_next_cell": 0,
    "papermill": {
     "duration": 0.008095,
     "end_time": "2022-07-07T14:12:32.314313",
     "exception": false,
     "start_time": "2022-07-07T14:12:32.306218",
     "status": "completed"
    },
    "tags": []
   },
   "outputs": [],
   "source": [
    "# -----------------------------------------------------------------------"
   ]
  },
  {
   "cell_type": "markdown",
   "id": "3a3fe9ca",
   "metadata": {
    "papermill": {
     "duration": 0.002924,
     "end_time": "2022-07-07T14:12:32.319939",
     "exception": false,
     "start_time": "2022-07-07T14:12:32.317015",
     "status": "completed"
    },
    "tags": []
   },
   "source": [
    "---"
   ]
  },
  {
   "cell_type": "markdown",
   "id": "0cb72e3d",
   "metadata": {
    "lines_to_next_cell": 2,
    "papermill": {
     "duration": 0.002758,
     "end_time": "2022-07-07T14:12:32.325366",
     "exception": false,
     "start_time": "2022-07-07T14:12:32.322608",
     "status": "completed"
    },
    "tags": []
   },
   "source": [
    "### Notebook code"
   ]
  },
  {
   "cell_type": "code",
   "execution_count": 5,
   "id": "19c456da",
   "metadata": {
    "execution": {
     "iopub.execute_input": "2022-07-07T14:12:32.332335Z",
     "iopub.status.busy": "2022-07-07T14:12:32.331710Z",
     "iopub.status.idle": "2022-07-07T14:12:32.828779Z",
     "shell.execute_reply": "2022-07-07T14:12:32.827872Z"
    },
    "papermill": {
     "duration": 0.502475,
     "end_time": "2022-07-07T14:12:32.830590",
     "exception": false,
     "start_time": "2022-07-07T14:12:32.328115",
     "status": "completed"
    },
    "tags": []
   },
   "outputs": [
    {
     "name": "stderr",
     "output_type": "stream",
     "text": [
      "2022-07-07 14:12:32,637\tINFO worker.py:842 -- Connecting to existing Ray cluster at address: 172.17.0.2:6379\n"
     ]
    }
   ],
   "source": [
    "from pynb_dag_runner.tasks.task_opentelemetry_logging import PydarLogger\n",
    "\n",
    "logger = PydarLogger(P)"
   ]
  },
  {
   "cell_type": "markdown",
   "id": "52178167",
   "metadata": {
    "papermill": {
     "duration": 0.002964,
     "end_time": "2022-07-07T14:12:32.836798",
     "exception": false,
     "start_time": "2022-07-07T14:12:32.833834",
     "status": "completed"
    },
    "tags": []
   },
   "source": [
    "## Load and limit train data"
   ]
  },
  {
   "cell_type": "code",
   "execution_count": 6,
   "id": "612b8ab7",
   "metadata": {
    "execution": {
     "iopub.execute_input": "2022-07-07T14:12:32.853239Z",
     "iopub.status.busy": "2022-07-07T14:12:32.852578Z",
     "iopub.status.idle": "2022-07-07T14:12:33.238739Z",
     "shell.execute_reply": "2022-07-07T14:12:33.238155Z"
    },
    "papermill": {
     "duration": 0.391668,
     "end_time": "2022-07-07T14:12:33.240422",
     "exception": false,
     "start_time": "2022-07-07T14:12:32.848754",
     "status": "completed"
    },
    "tags": []
   },
   "outputs": [],
   "source": [
    "def load_and_limit_train_data(P):\n",
    "    from common.io import datalake_root, read_numpy\n",
    "    from sklearn.model_selection import train_test_split\n",
    "\n",
    "    X_train_all = read_numpy(datalake_root(P) / \"train-data\" / \"digits.numpy\")\n",
    "    y_train_all = read_numpy(datalake_root(P) / \"train-data\" / \"labels.numpy\")\n",
    "\n",
    "    assert isinstance(P[\"task.nr_train_images\"], int)\n",
    "\n",
    "    # Note: train_test_split will fail if split is 0 or 100%.\n",
    "    assert 0 < P[\"task.nr_train_images\"] < len(y_train_all)\n",
    "\n",
    "    X_train, _, y_train, _ = train_test_split(\n",
    "        X_train_all,\n",
    "        y_train_all,\n",
    "        train_size=P[\"task.nr_train_images\"],\n",
    "        test_size=None,\n",
    "        stratify=y_train_all,\n",
    "        shuffle=True,\n",
    "        random_state=123,\n",
    "    )\n",
    "\n",
    "    assert X_train.shape == (len(y_train), 8 * 8)\n",
    "    return X_train, y_train\n",
    "\n",
    "\n",
    "X_train, y_train = load_and_limit_train_data(P)"
   ]
  },
  {
   "cell_type": "markdown",
   "id": "128b56f3",
   "metadata": {
    "papermill": {
     "duration": 0.003114,
     "end_time": "2022-07-07T14:12:33.248980",
     "exception": false,
     "start_time": "2022-07-07T14:12:33.245866",
     "status": "completed"
    },
    "tags": []
   },
   "source": [
    "## Train support vector classifier model\n",
    "\n",
    "Below we assume that the hyperparameter $C$ is known.\n",
    "\n",
    "However, this should ideally be found by a hyperparameter search. That could be\n",
    "done in parallel on the Ray cluster, but this needs some more work. Ie., to use\n",
    "multiple cores in the notebook, those cores should be reserved when starting the\n",
    "notebook task (TODO).\n",
    "\n",
    "- https://docs.ray.io/en/latest/tune/key-concepts.html\n",
    "\n",
    "Note: cv-scores would need to be computed here, since they depend on the train data.\n",
    "After this notebook only the onnx-model is available."
   ]
  },
  {
   "cell_type": "code",
   "execution_count": 7,
   "id": "cdffa1a9",
   "metadata": {
    "execution": {
     "iopub.execute_input": "2022-07-07T14:12:33.256774Z",
     "iopub.status.busy": "2022-07-07T14:12:33.256485Z",
     "iopub.status.idle": "2022-07-07T14:12:33.279730Z",
     "shell.execute_reply": "2022-07-07T14:12:33.278997Z"
    },
    "papermill": {
     "duration": 0.029704,
     "end_time": "2022-07-07T14:12:33.281439",
     "exception": false,
     "start_time": "2022-07-07T14:12:33.251735",
     "status": "completed"
    },
    "tags": []
   },
   "outputs": [],
   "source": [
    "from sklearn.svm import SVC"
   ]
  },
  {
   "cell_type": "code",
   "execution_count": 8,
   "id": "d991b33b",
   "metadata": {
    "execution": {
     "iopub.execute_input": "2022-07-07T14:12:33.291065Z",
     "iopub.status.busy": "2022-07-07T14:12:33.290676Z",
     "iopub.status.idle": "2022-07-07T14:12:33.371178Z",
     "shell.execute_reply": "2022-07-07T14:12:33.370634Z"
    },
    "papermill": {
     "duration": 0.086472,
     "end_time": "2022-07-07T14:12:33.372923",
     "exception": false,
     "start_time": "2022-07-07T14:12:33.286451",
     "status": "completed"
    },
    "tags": []
   },
   "outputs": [
    {
     "data": {
      "text/plain": [
       "SVC(kernel='linear', probability=True)"
      ]
     },
     "execution_count": 8,
     "metadata": {},
     "output_type": "execute_result"
    }
   ],
   "source": [
    "model = SVC(C=1.0, kernel=\"linear\", probability=True)\n",
    "\n",
    "model.fit(X_train, y_train)"
   ]
  },
  {
   "cell_type": "markdown",
   "id": "cc64f5f2",
   "metadata": {
    "papermill": {
     "duration": 0.007673,
     "end_time": "2022-07-07T14:12:33.384135",
     "exception": false,
     "start_time": "2022-07-07T14:12:33.376462",
     "status": "completed"
    },
    "tags": []
   },
   "source": [
    "### Q: Can the labels returned by `predict(..)` be computed from probabilities returned by the `predict_prob`-method?"
   ]
  },
  {
   "cell_type": "code",
   "execution_count": 9,
   "id": "f7484bf1",
   "metadata": {
    "execution": {
     "iopub.execute_input": "2022-07-07T14:12:33.393166Z",
     "iopub.status.busy": "2022-07-07T14:12:33.392887Z",
     "iopub.status.idle": "2022-07-07T14:12:33.427634Z",
     "shell.execute_reply": "2022-07-07T14:12:33.427082Z"
    },
    "papermill": {
     "duration": 0.040331,
     "end_time": "2022-07-07T14:12:33.429276",
     "exception": false,
     "start_time": "2022-07-07T14:12:33.388945",
     "status": "completed"
    },
    "tags": []
   },
   "outputs": [
    {
     "name": "stdout",
     "output_type": "stream",
     "text": [
      " - Logging nr_max_prob_neq_label (int) : 0\n"
     ]
    }
   ],
   "source": [
    "import numpy as np\n",
    "\n",
    "y_train_labels = model.predict(X_train)\n",
    "y_train_probabilities = model.predict_proba(X_train)\n",
    "assert y_train_probabilities.shape == (len(y_train), 10)\n",
    "\n",
    "y_train_max_prob_labels = np.argmax(y_train_probabilities, axis=1)\n",
    "assert y_train_labels.shape == y_train_max_prob_labels.shape == y_train.shape\n",
    "\n",
    "# If the predicted labels would coincide with the labels that have\n",
    "# maximum probability, the below number would be zero\n",
    "logger.log_int(\n",
    "    \"nr_max_prob_neq_label\", int(sum(y_train_max_prob_labels != y_train_labels))\n",
    ")"
   ]
  },
  {
   "cell_type": "markdown",
   "id": "742e6578",
   "metadata": {
    "papermill": {
     "duration": 0.003345,
     "end_time": "2022-07-07T14:12:33.435788",
     "exception": false,
     "start_time": "2022-07-07T14:12:33.432443",
     "status": "completed"
    },
    "tags": []
   },
   "source": [
    "The explanation is (likely) explained in the SVC source, see\n",
    "[here](https://github.com/scikit-learn/scikit-learn/blob/main/sklearn/svm/_base.py).\n",
    "Namely, the outputs from `predict(..)` and `predict_proba(..)` may not in some\n",
    "cases be compatible since the latter is computed using cross-validation while\n",
    "the former is not. Thus, the above number need not be zero."
   ]
  },
  {
   "cell_type": "markdown",
   "id": "95bc8471",
   "metadata": {
    "papermill": {
     "duration": 0.003,
     "end_time": "2022-07-07T14:12:33.441844",
     "exception": false,
     "start_time": "2022-07-07T14:12:33.438844",
     "status": "completed"
    },
    "tags": []
   },
   "source": [
    "## Persist model"
   ]
  },
  {
   "cell_type": "code",
   "execution_count": 10,
   "id": "e4bc7d55",
   "metadata": {
    "execution": {
     "iopub.execute_input": "2022-07-07T14:12:33.449313Z",
     "iopub.status.busy": "2022-07-07T14:12:33.449064Z",
     "iopub.status.idle": "2022-07-07T14:12:34.211149Z",
     "shell.execute_reply": "2022-07-07T14:12:34.210134Z"
    },
    "papermill": {
     "duration": 0.768249,
     "end_time": "2022-07-07T14:12:34.213171",
     "exception": false,
     "start_time": "2022-07-07T14:12:33.444922",
     "status": "completed"
    },
    "tags": []
   },
   "outputs": [],
   "source": [
    "from skl2onnx import convert_sklearn\n",
    "from skl2onnx.common.data_types import FloatTensorType\n",
    "\n",
    "#\n",
    "from common.io import datalake_root, write_onnx"
   ]
  },
  {
   "cell_type": "code",
   "execution_count": 11,
   "id": "601d02d7",
   "metadata": {
    "execution": {
     "iopub.execute_input": "2022-07-07T14:12:34.221816Z",
     "iopub.status.busy": "2022-07-07T14:12:34.221475Z",
     "iopub.status.idle": "2022-07-07T14:12:34.260014Z",
     "shell.execute_reply": "2022-07-07T14:12:34.259279Z"
    },
    "papermill": {
     "duration": 0.045256,
     "end_time": "2022-07-07T14:12:34.261830",
     "exception": false,
     "start_time": "2022-07-07T14:12:34.216574",
     "status": "completed"
    },
    "tags": []
   },
   "outputs": [],
   "source": [
    "# convert sklearn model into onnx and persist to data lake\n",
    "\n",
    "model_onnx = convert_sklearn(\n",
    "    model, initial_types=[(\"float_input_8x8_image\", FloatTensorType([None, 8 * 8]))]\n",
    ")\n",
    "write_onnx(\n",
    "    datalake_root(P)\n",
    "    / \"models\"\n",
    "    / f\"nr_train_images={P['task.nr_train_images']}\"\n",
    "    / \"model.onnx\",\n",
    "    model_onnx,\n",
    ")"
   ]
  },
  {
   "cell_type": "code",
   "execution_count": null,
   "id": "6b3c26e1",
   "metadata": {
    "papermill": {
     "duration": 0.004121,
     "end_time": "2022-07-07T14:12:34.269321",
     "exception": false,
     "start_time": "2022-07-07T14:12:34.265200",
     "status": "completed"
    },
    "tags": []
   },
   "outputs": [],
   "source": []
  }
 ],
 "metadata": {
  "jupytext": {
   "cell_metadata_filter": "tags,-all",
   "main_language": "python",
   "notebook_metadata_filter": "-all"
  },
  "language_info": {
   "codemirror_mode": {
    "name": "ipython",
    "version": 3
   },
   "file_extension": ".py",
   "mimetype": "text/x-python",
   "name": "python",
   "nbconvert_exporter": "python",
   "pygments_lexer": "ipython3",
   "version": "3.8.10"
  },
  "papermill": {
   "default_parameters": {},
   "duration": 4.381682,
   "end_time": "2022-07-07T14:12:35.396593",
   "environment_variables": {},
   "exception": null,
   "input_path": "/home/host_user/workspace/mnist-demo-pipeline/mnist-demo-pipeline/notebooks/temp-notebook-y3v7nkq0.ipynb",
   "output_path": "notebooks/train-model.ipynb",
   "parameters": {
    "P": {
     "_opentelemetry_traceparent": "00-c8ac85eb09f8b1780e10779b0e0e7464-a4c2f6c23b76e92b-01",
     "pipeline.data_lake_root": "/pipeline-outputs/data-lake",
     "pipeline.github.actor": "matiasdahl",
     "pipeline.github.base_ref": "development",
     "pipeline.github.event_name": "pull_request",
     "pipeline.github.head_ref": "try-C-hyperparameter",
     "pipeline.github.job": "run-tests-pipeline-and-persist-pipeline-outputs",
     "pipeline.github.ref": "refs/pull/55/merge",
     "pipeline.github.ref_name": "55/merge",
     "pipeline.github.ref_type": "branch",
     "pipeline.github.repository": "pynb-dag-runner/mnist-digits-demo-pipeline",
     "pipeline.github.run_id": "2630106939",
     "pipeline.github.runner_name": "GitHub Actions 3",
     "pipeline.github.sha": "876109f37d9c7859966a244c1f8db39e7b4105e9",
     "pipeline.github.workflow": "Run automated tests, pipeline and deploy results to static reporting site",
     "pipeline.pipeline_run_id": "6eaadf4c-6dc3-4086-abe2-ccf34399bbad",
     "pipeline.run_environment": "ci",
     "run.retry_nr": "0",
     "task.max_nr_retries": "1",
     "task.notebook": "notebooks/train-model.py",
     "task.nr_train_images": 600,
     "task.num_cpus": 1,
     "task.timeout_s": "None"
    }
   },
   "start_time": "2022-07-07T14:12:31.014911",
   "version": "2.3.3"
  }
 },
 "nbformat": 4,
 "nbformat_minor": 5
}