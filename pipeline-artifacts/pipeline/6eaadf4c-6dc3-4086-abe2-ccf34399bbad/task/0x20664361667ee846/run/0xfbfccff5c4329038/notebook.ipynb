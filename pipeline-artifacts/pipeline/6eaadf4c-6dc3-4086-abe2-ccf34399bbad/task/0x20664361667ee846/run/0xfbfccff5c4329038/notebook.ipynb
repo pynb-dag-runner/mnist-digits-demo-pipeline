{
 "cells": [
  {
   "cell_type": "markdown",
   "id": "7ac72002",
   "metadata": {
    "papermill": {
     "duration": 0.003977,
     "end_time": "2022-07-07T14:12:25.590790",
     "exception": false,
     "start_time": "2022-07-07T14:12:25.586813",
     "status": "completed"
    },
    "tags": []
   },
   "source": [
    "# Train model\n",
    "\n",
    "The purpose of this notebook is:\n",
    "\n",
    "- Load all training data (images and labels).\n",
    "- Limit number of train images to `task.nr_train_images` (value provided as run parameter).\n",
    "- Train a support vector machine model using sklearn.\n",
    "- Persist the trained model using the ONNX format."
   ]
  },
  {
   "cell_type": "markdown",
   "id": "ab56af53",
   "metadata": {
    "papermill": {
     "duration": 0.002973,
     "end_time": "2022-07-07T14:12:25.597486",
     "exception": false,
     "start_time": "2022-07-07T14:12:25.594513",
     "status": "completed"
    },
    "tags": []
   },
   "source": [
    "### Determine run parameters"
   ]
  },
  {
   "cell_type": "code",
   "execution_count": 1,
   "id": "a2fa5350",
   "metadata": {
    "execution": {
     "iopub.execute_input": "2022-07-07T14:12:25.605470Z",
     "iopub.status.busy": "2022-07-07T14:12:25.605135Z",
     "iopub.status.idle": "2022-07-07T14:12:25.613363Z",
     "shell.execute_reply": "2022-07-07T14:12:25.612639Z"
    },
    "lines_to_next_cell": 0,
    "papermill": {
     "duration": 0.015731,
     "end_time": "2022-07-07T14:12:25.615959",
     "exception": false,
     "start_time": "2022-07-07T14:12:25.600228",
     "status": "completed"
    },
    "tags": []
   },
   "outputs": [],
   "source": [
    "# ----------------- Parameters for interactive development --------------\n",
    "P = {\n",
    "    \"pipeline.data_lake_root\": \"/pipeline-outputs/data-lake\",\n",
    "    \"task.nr_train_images\": 600,\n",
    "}"
   ]
  },
  {
   "cell_type": "code",
   "execution_count": 2,
   "id": "545fbc64",
   "metadata": {
    "execution": {
     "iopub.execute_input": "2022-07-07T14:12:25.623179Z",
     "iopub.status.busy": "2022-07-07T14:12:25.622966Z",
     "iopub.status.idle": "2022-07-07T14:12:25.626283Z",
     "shell.execute_reply": "2022-07-07T14:12:25.625774Z"
    },
    "lines_to_next_cell": 0,
    "papermill": {
     "duration": 0.010272,
     "end_time": "2022-07-07T14:12:25.629317",
     "exception": false,
     "start_time": "2022-07-07T14:12:25.619045",
     "status": "completed"
    },
    "tags": [
     "parameters"
    ]
   },
   "outputs": [],
   "source": [
    "# - During automated runs parameters will be injected in the below cell -"
   ]
  },
  {
   "cell_type": "code",
   "execution_count": 3,
   "id": "6dce5a85",
   "metadata": {
    "execution": {
     "iopub.execute_input": "2022-07-07T14:12:25.636800Z",
     "iopub.status.busy": "2022-07-07T14:12:25.636524Z",
     "iopub.status.idle": "2022-07-07T14:12:25.641425Z",
     "shell.execute_reply": "2022-07-07T14:12:25.640656Z"
    },
    "papermill": {
     "duration": 0.012301,
     "end_time": "2022-07-07T14:12:25.644802",
     "exception": false,
     "start_time": "2022-07-07T14:12:25.632501",
     "status": "completed"
    },
    "tags": [
     "injected-parameters"
    ]
   },
   "outputs": [],
   "source": [
    "# Parameters\n",
    "P = {\n",
    "    \"pipeline.data_lake_root\": \"/pipeline-outputs/data-lake\",\n",
    "    \"pipeline.run_environment\": \"ci\",\n",
    "    \"pipeline.pipeline_run_id\": \"6eaadf4c-6dc3-4086-abe2-ccf34399bbad\",\n",
    "    \"pipeline.github.repository\": \"pynb-dag-runner/mnist-digits-demo-pipeline\",\n",
    "    \"pipeline.github.workflow\": \"Run automated tests, pipeline and deploy results to static reporting site\",\n",
    "    \"pipeline.github.runner_name\": \"GitHub Actions 3\",\n",
    "    \"pipeline.github.run_id\": \"2630106939\",\n",
    "    \"pipeline.github.actor\": \"matiasdahl\",\n",
    "    \"pipeline.github.job\": \"run-tests-pipeline-and-persist-pipeline-outputs\",\n",
    "    \"pipeline.github.base_ref\": \"development\",\n",
    "    \"pipeline.github.head_ref\": \"try-C-hyperparameter\",\n",
    "    \"pipeline.github.sha\": \"876109f37d9c7859966a244c1f8db39e7b4105e9\",\n",
    "    \"pipeline.github.ref\": \"refs/pull/55/merge\",\n",
    "    \"pipeline.github.ref_type\": \"branch\",\n",
    "    \"pipeline.github.ref_name\": \"55/merge\",\n",
    "    \"pipeline.github.event_name\": \"pull_request\",\n",
    "    \"task.nr_train_images\": 1200,\n",
    "    \"task.notebook\": \"notebooks/train-model.py\",\n",
    "    \"task.max_nr_retries\": \"1\",\n",
    "    \"run.retry_nr\": \"0\",\n",
    "    \"task.timeout_s\": \"None\",\n",
    "    \"task.num_cpus\": 1,\n",
    "    \"_opentelemetry_traceparent\": \"00-c8ac85eb09f8b1780e10779b0e0e7464-6d33b7ffef9fdaba-01\",\n",
    "}\n"
   ]
  },
  {
   "cell_type": "code",
   "execution_count": 4,
   "id": "1d5595bd",
   "metadata": {
    "execution": {
     "iopub.execute_input": "2022-07-07T14:12:25.651797Z",
     "iopub.status.busy": "2022-07-07T14:12:25.651480Z",
     "iopub.status.idle": "2022-07-07T14:12:25.654732Z",
     "shell.execute_reply": "2022-07-07T14:12:25.653714Z"
    },
    "lines_to_next_cell": 0,
    "papermill": {
     "duration": 0.009274,
     "end_time": "2022-07-07T14:12:25.657024",
     "exception": false,
     "start_time": "2022-07-07T14:12:25.647750",
     "status": "completed"
    },
    "tags": []
   },
   "outputs": [],
   "source": [
    "# -----------------------------------------------------------------------"
   ]
  },
  {
   "cell_type": "markdown",
   "id": "885cfd7b",
   "metadata": {
    "papermill": {
     "duration": 0.007552,
     "end_time": "2022-07-07T14:12:25.667534",
     "exception": false,
     "start_time": "2022-07-07T14:12:25.659982",
     "status": "completed"
    },
    "tags": []
   },
   "source": [
    "---"
   ]
  },
  {
   "cell_type": "markdown",
   "id": "8356bf40",
   "metadata": {
    "lines_to_next_cell": 2,
    "papermill": {
     "duration": 0.003008,
     "end_time": "2022-07-07T14:12:25.673832",
     "exception": false,
     "start_time": "2022-07-07T14:12:25.670824",
     "status": "completed"
    },
    "tags": []
   },
   "source": [
    "### Notebook code"
   ]
  },
  {
   "cell_type": "code",
   "execution_count": 5,
   "id": "52ded5d7",
   "metadata": {
    "execution": {
     "iopub.execute_input": "2022-07-07T14:12:25.682022Z",
     "iopub.status.busy": "2022-07-07T14:12:25.681746Z",
     "iopub.status.idle": "2022-07-07T14:12:26.305065Z",
     "shell.execute_reply": "2022-07-07T14:12:26.304471Z"
    },
    "papermill": {
     "duration": 0.629406,
     "end_time": "2022-07-07T14:12:26.306809",
     "exception": false,
     "start_time": "2022-07-07T14:12:25.677403",
     "status": "completed"
    },
    "tags": []
   },
   "outputs": [
    {
     "name": "stderr",
     "output_type": "stream",
     "text": [
      "2022-07-07 14:12:26,125\tINFO worker.py:842 -- Connecting to existing Ray cluster at address: 172.17.0.2:6379\n"
     ]
    }
   ],
   "source": [
    "from pynb_dag_runner.tasks.task_opentelemetry_logging import PydarLogger\n",
    "\n",
    "logger = PydarLogger(P)"
   ]
  },
  {
   "cell_type": "markdown",
   "id": "e72aa3a2",
   "metadata": {
    "papermill": {
     "duration": 0.003586,
     "end_time": "2022-07-07T14:12:26.314350",
     "exception": false,
     "start_time": "2022-07-07T14:12:26.310764",
     "status": "completed"
    },
    "tags": []
   },
   "source": [
    "## Load and limit train data"
   ]
  },
  {
   "cell_type": "code",
   "execution_count": 6,
   "id": "f3ca2ef4",
   "metadata": {
    "execution": {
     "iopub.execute_input": "2022-07-07T14:12:26.322325Z",
     "iopub.status.busy": "2022-07-07T14:12:26.321495Z",
     "iopub.status.idle": "2022-07-07T14:12:26.788462Z",
     "shell.execute_reply": "2022-07-07T14:12:26.787573Z"
    },
    "papermill": {
     "duration": 0.473828,
     "end_time": "2022-07-07T14:12:26.790901",
     "exception": false,
     "start_time": "2022-07-07T14:12:26.317073",
     "status": "completed"
    },
    "tags": []
   },
   "outputs": [],
   "source": [
    "def load_and_limit_train_data(P):\n",
    "    from common.io import datalake_root, read_numpy\n",
    "    from sklearn.model_selection import train_test_split\n",
    "\n",
    "    X_train_all = read_numpy(datalake_root(P) / \"train-data\" / \"digits.numpy\")\n",
    "    y_train_all = read_numpy(datalake_root(P) / \"train-data\" / \"labels.numpy\")\n",
    "\n",
    "    assert isinstance(P[\"task.nr_train_images\"], int)\n",
    "\n",
    "    # Note: train_test_split will fail if split is 0 or 100%.\n",
    "    assert 0 < P[\"task.nr_train_images\"] < len(y_train_all)\n",
    "\n",
    "    X_train, _, y_train, _ = train_test_split(\n",
    "        X_train_all,\n",
    "        y_train_all,\n",
    "        train_size=P[\"task.nr_train_images\"],\n",
    "        test_size=None,\n",
    "        stratify=y_train_all,\n",
    "        shuffle=True,\n",
    "        random_state=123,\n",
    "    )\n",
    "\n",
    "    assert X_train.shape == (len(y_train), 8 * 8)\n",
    "    return X_train, y_train\n",
    "\n",
    "\n",
    "X_train, y_train = load_and_limit_train_data(P)"
   ]
  },
  {
   "cell_type": "markdown",
   "id": "caff6b88",
   "metadata": {
    "papermill": {
     "duration": 0.006687,
     "end_time": "2022-07-07T14:12:26.802566",
     "exception": false,
     "start_time": "2022-07-07T14:12:26.795879",
     "status": "completed"
    },
    "tags": []
   },
   "source": [
    "## Train support vector classifier model\n",
    "\n",
    "Below we assume that the hyperparameter $C$ is known.\n",
    "\n",
    "However, this should ideally be found by a hyperparameter search. That could be\n",
    "done in parallel on the Ray cluster, but this needs some more work. Ie., to use\n",
    "multiple cores in the notebook, those cores should be reserved when starting the\n",
    "notebook task (TODO).\n",
    "\n",
    "- https://docs.ray.io/en/latest/tune/key-concepts.html\n",
    "\n",
    "Note: cv-scores would need to be computed here, since they depend on the train data.\n",
    "After this notebook only the onnx-model is available."
   ]
  },
  {
   "cell_type": "code",
   "execution_count": 7,
   "id": "9ac61e53",
   "metadata": {
    "execution": {
     "iopub.execute_input": "2022-07-07T14:12:26.811866Z",
     "iopub.status.busy": "2022-07-07T14:12:26.811549Z",
     "iopub.status.idle": "2022-07-07T14:12:26.937195Z",
     "shell.execute_reply": "2022-07-07T14:12:26.936416Z"
    },
    "papermill": {
     "duration": 0.132877,
     "end_time": "2022-07-07T14:12:26.939876",
     "exception": false,
     "start_time": "2022-07-07T14:12:26.806999",
     "status": "completed"
    },
    "tags": []
   },
   "outputs": [],
   "source": [
    "from sklearn.svm import SVC"
   ]
  },
  {
   "cell_type": "code",
   "execution_count": 8,
   "id": "fcf8e34a",
   "metadata": {
    "execution": {
     "iopub.execute_input": "2022-07-07T14:12:26.951032Z",
     "iopub.status.busy": "2022-07-07T14:12:26.950761Z",
     "iopub.status.idle": "2022-07-07T14:12:27.262600Z",
     "shell.execute_reply": "2022-07-07T14:12:27.257270Z"
    },
    "papermill": {
     "duration": 0.320285,
     "end_time": "2022-07-07T14:12:27.264283",
     "exception": false,
     "start_time": "2022-07-07T14:12:26.943998",
     "status": "completed"
    },
    "tags": []
   },
   "outputs": [
    {
     "name": "stderr",
     "output_type": "stream",
     "text": [
      "2022-07-07 14:12:27,066\tWARNING worker.py:1245 -- (ip=172.17.0.2) The agent on node d40ed80aa8ff failed to be restarted 5 times. There are 3 possible problems if you see this error.\n",
      "  1. The dashboard might not display correct information on this node.\n",
      "  2. Metrics on this node won't be reported.\n",
      "  3. runtime_env APIs won't work.\n",
      "Check out the `dashboard_agent.log` to see the detailed failure messages.\n"
     ]
    },
    {
     "data": {
      "text/plain": [
       "SVC(kernel='linear', probability=True)"
      ]
     },
     "execution_count": 8,
     "metadata": {},
     "output_type": "execute_result"
    }
   ],
   "source": [
    "model = SVC(C=1.0, kernel=\"linear\", probability=True)\n",
    "\n",
    "model.fit(X_train, y_train)"
   ]
  },
  {
   "cell_type": "markdown",
   "id": "4aad0315",
   "metadata": {
    "papermill": {
     "duration": 0.003236,
     "end_time": "2022-07-07T14:12:27.271160",
     "exception": false,
     "start_time": "2022-07-07T14:12:27.267924",
     "status": "completed"
    },
    "tags": []
   },
   "source": [
    "### Q: Can the labels returned by `predict(..)` be computed from probabilities returned by the `predict_prob`-method?"
   ]
  },
  {
   "cell_type": "code",
   "execution_count": 9,
   "id": "a1ff4a95",
   "metadata": {
    "execution": {
     "iopub.execute_input": "2022-07-07T14:12:27.278908Z",
     "iopub.status.busy": "2022-07-07T14:12:27.278499Z",
     "iopub.status.idle": "2022-07-07T14:12:27.365886Z",
     "shell.execute_reply": "2022-07-07T14:12:27.364946Z"
    },
    "papermill": {
     "duration": 0.093675,
     "end_time": "2022-07-07T14:12:27.367871",
     "exception": false,
     "start_time": "2022-07-07T14:12:27.274196",
     "status": "completed"
    },
    "tags": []
   },
   "outputs": [
    {
     "name": "stdout",
     "output_type": "stream",
     "text": [
      " - Logging nr_max_prob_neq_label (int) : 0\n"
     ]
    }
   ],
   "source": [
    "import numpy as np\n",
    "\n",
    "y_train_labels = model.predict(X_train)\n",
    "y_train_probabilities = model.predict_proba(X_train)\n",
    "assert y_train_probabilities.shape == (len(y_train), 10)\n",
    "\n",
    "y_train_max_prob_labels = np.argmax(y_train_probabilities, axis=1)\n",
    "assert y_train_labels.shape == y_train_max_prob_labels.shape == y_train.shape\n",
    "\n",
    "# If the predicted labels would coincide with the labels that have\n",
    "# maximum probability, the below number would be zero\n",
    "logger.log_int(\n",
    "    \"nr_max_prob_neq_label\", int(sum(y_train_max_prob_labels != y_train_labels))\n",
    ")"
   ]
  },
  {
   "cell_type": "markdown",
   "id": "a6d695f7",
   "metadata": {
    "papermill": {
     "duration": 0.003189,
     "end_time": "2022-07-07T14:12:27.375467",
     "exception": false,
     "start_time": "2022-07-07T14:12:27.372278",
     "status": "completed"
    },
    "tags": []
   },
   "source": [
    "The explanation is (likely) explained in the SVC source, see\n",
    "[here](https://github.com/scikit-learn/scikit-learn/blob/main/sklearn/svm/_base.py).\n",
    "Namely, the outputs from `predict(..)` and `predict_proba(..)` may not in some\n",
    "cases be compatible since the latter is computed using cross-validation while\n",
    "the former is not. Thus, the above number need not be zero."
   ]
  },
  {
   "cell_type": "markdown",
   "id": "80008637",
   "metadata": {
    "papermill": {
     "duration": 0.003396,
     "end_time": "2022-07-07T14:12:27.382562",
     "exception": false,
     "start_time": "2022-07-07T14:12:27.379166",
     "status": "completed"
    },
    "tags": []
   },
   "source": [
    "## Persist model"
   ]
  },
  {
   "cell_type": "code",
   "execution_count": 10,
   "id": "1a431aea",
   "metadata": {
    "execution": {
     "iopub.execute_input": "2022-07-07T14:12:27.391008Z",
     "iopub.status.busy": "2022-07-07T14:12:27.390661Z",
     "iopub.status.idle": "2022-07-07T14:12:28.533071Z",
     "shell.execute_reply": "2022-07-07T14:12:28.531848Z"
    },
    "papermill": {
     "duration": 1.148719,
     "end_time": "2022-07-07T14:12:28.534920",
     "exception": false,
     "start_time": "2022-07-07T14:12:27.386201",
     "status": "completed"
    },
    "tags": []
   },
   "outputs": [],
   "source": [
    "from skl2onnx import convert_sklearn\n",
    "from skl2onnx.common.data_types import FloatTensorType\n",
    "\n",
    "#\n",
    "from common.io import datalake_root, write_onnx"
   ]
  },
  {
   "cell_type": "code",
   "execution_count": 11,
   "id": "23d8a3b8",
   "metadata": {
    "execution": {
     "iopub.execute_input": "2022-07-07T14:12:28.547002Z",
     "iopub.status.busy": "2022-07-07T14:12:28.545923Z",
     "iopub.status.idle": "2022-07-07T14:12:28.595877Z",
     "shell.execute_reply": "2022-07-07T14:12:28.595116Z"
    },
    "papermill": {
     "duration": 0.057979,
     "end_time": "2022-07-07T14:12:28.598024",
     "exception": false,
     "start_time": "2022-07-07T14:12:28.540045",
     "status": "completed"
    },
    "tags": []
   },
   "outputs": [],
   "source": [
    "# convert sklearn model into onnx and persist to data lake\n",
    "\n",
    "model_onnx = convert_sklearn(\n",
    "    model, initial_types=[(\"float_input_8x8_image\", FloatTensorType([None, 8 * 8]))]\n",
    ")\n",
    "write_onnx(\n",
    "    datalake_root(P)\n",
    "    / \"models\"\n",
    "    / f\"nr_train_images={P['task.nr_train_images']}\"\n",
    "    / \"model.onnx\",\n",
    "    model_onnx,\n",
    ")"
   ]
  },
  {
   "cell_type": "code",
   "execution_count": null,
   "id": "e59e11cd",
   "metadata": {
    "papermill": {
     "duration": 0.004494,
     "end_time": "2022-07-07T14:12:28.606043",
     "exception": false,
     "start_time": "2022-07-07T14:12:28.601549",
     "status": "completed"
    },
    "tags": []
   },
   "outputs": [],
   "source": []
  }
 ],
 "metadata": {
  "jupytext": {
   "cell_metadata_filter": "tags,-all",
   "main_language": "python",
   "notebook_metadata_filter": "-all"
  },
  "language_info": {
   "codemirror_mode": {
    "name": "ipython",
    "version": 3
   },
   "file_extension": ".py",
   "mimetype": "text/x-python",
   "name": "python",
   "nbconvert_exporter": "python",
   "pygments_lexer": "ipython3",
   "version": "3.8.10"
  },
  "papermill": {
   "default_parameters": {},
   "duration": 5.57747,
   "end_time": "2022-07-07T14:12:29.729590",
   "environment_variables": {},
   "exception": null,
   "input_path": "/home/host_user/workspace/mnist-demo-pipeline/mnist-demo-pipeline/notebooks/temp-notebook-ytwb70uj.ipynb",
   "output_path": "notebooks/train-model.ipynb",
   "parameters": {
    "P": {
     "_opentelemetry_traceparent": "00-c8ac85eb09f8b1780e10779b0e0e7464-6d33b7ffef9fdaba-01",
     "pipeline.data_lake_root": "/pipeline-outputs/data-lake",
     "pipeline.github.actor": "matiasdahl",
     "pipeline.github.base_ref": "development",
     "pipeline.github.event_name": "pull_request",
     "pipeline.github.head_ref": "try-C-hyperparameter",
     "pipeline.github.job": "run-tests-pipeline-and-persist-pipeline-outputs",
     "pipeline.github.ref": "refs/pull/55/merge",
     "pipeline.github.ref_name": "55/merge",
     "pipeline.github.ref_type": "branch",
     "pipeline.github.repository": "pynb-dag-runner/mnist-digits-demo-pipeline",
     "pipeline.github.run_id": "2630106939",
     "pipeline.github.runner_name": "GitHub Actions 3",
     "pipeline.github.sha": "876109f37d9c7859966a244c1f8db39e7b4105e9",
     "pipeline.github.workflow": "Run automated tests, pipeline and deploy results to static reporting site",
     "pipeline.pipeline_run_id": "6eaadf4c-6dc3-4086-abe2-ccf34399bbad",
     "pipeline.run_environment": "ci",
     "run.retry_nr": "0",
     "task.max_nr_retries": "1",
     "task.notebook": "notebooks/train-model.py",
     "task.nr_train_images": 1200,
     "task.num_cpus": 1,
     "task.timeout_s": "None"
    }
   },
   "start_time": "2022-07-07T14:12:24.152120",
   "version": "2.3.3"
  }
 },
 "nbformat": 4,
 "nbformat_minor": 5
}