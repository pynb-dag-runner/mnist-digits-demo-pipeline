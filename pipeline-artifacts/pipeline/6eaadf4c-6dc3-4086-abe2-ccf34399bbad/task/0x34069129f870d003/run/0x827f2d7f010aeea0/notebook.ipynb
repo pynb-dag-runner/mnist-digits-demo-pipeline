{
 "cells": [
  {
   "cell_type": "markdown",
   "id": "149919de",
   "metadata": {
    "papermill": {
     "duration": 0.005832,
     "end_time": "2022-07-07T14:12:52.411623",
     "exception": false,
     "start_time": "2022-07-07T14:12:52.405791",
     "status": "completed"
    },
    "tags": []
   },
   "source": [
    "# Benchmark model\n",
    "\n",
    "The purpose of this notebook is to benchmark persisted onnx-model (trained in the\n",
    "previous step) against evaluation set."
   ]
  },
  {
   "cell_type": "markdown",
   "id": "355dc4c2",
   "metadata": {
    "papermill": {
     "duration": 0.003956,
     "end_time": "2022-07-07T14:12:52.421647",
     "exception": false,
     "start_time": "2022-07-07T14:12:52.417691",
     "status": "completed"
    },
    "tags": []
   },
   "source": [
    "### Determine run parameters"
   ]
  },
  {
   "cell_type": "code",
   "execution_count": 1,
   "id": "e860befd",
   "metadata": {
    "execution": {
     "iopub.execute_input": "2022-07-07T14:12:52.432759Z",
     "iopub.status.busy": "2022-07-07T14:12:52.432440Z",
     "iopub.status.idle": "2022-07-07T14:12:52.441365Z",
     "shell.execute_reply": "2022-07-07T14:12:52.440621Z"
    },
    "lines_to_next_cell": 0,
    "papermill": {
     "duration": 0.016764,
     "end_time": "2022-07-07T14:12:52.443588",
     "exception": false,
     "start_time": "2022-07-07T14:12:52.426824",
     "status": "completed"
    },
    "tags": []
   },
   "outputs": [],
   "source": [
    "# ----------------- Parameters for interactive development --------------\n",
    "P = {\n",
    "    \"pipeline.data_lake_root\": \"/pipeline-outputs/data-lake\",\n",
    "    \"task.nr_train_images\": 600,\n",
    "}"
   ]
  },
  {
   "cell_type": "code",
   "execution_count": 2,
   "id": "276f05e9",
   "metadata": {
    "execution": {
     "iopub.execute_input": "2022-07-07T14:12:52.459379Z",
     "iopub.status.busy": "2022-07-07T14:12:52.459061Z",
     "iopub.status.idle": "2022-07-07T14:12:52.462755Z",
     "shell.execute_reply": "2022-07-07T14:12:52.462162Z"
    },
    "lines_to_next_cell": 0,
    "papermill": {
     "duration": 0.017573,
     "end_time": "2022-07-07T14:12:52.466067",
     "exception": false,
     "start_time": "2022-07-07T14:12:52.448494",
     "status": "completed"
    },
    "tags": [
     "parameters"
    ]
   },
   "outputs": [],
   "source": [
    "# - During automated runs parameters will be injected in the below cell -"
   ]
  },
  {
   "cell_type": "code",
   "execution_count": 3,
   "id": "1deccbd7",
   "metadata": {
    "execution": {
     "iopub.execute_input": "2022-07-07T14:12:52.476609Z",
     "iopub.status.busy": "2022-07-07T14:12:52.476378Z",
     "iopub.status.idle": "2022-07-07T14:12:52.481371Z",
     "shell.execute_reply": "2022-07-07T14:12:52.480849Z"
    },
    "papermill": {
     "duration": 0.013157,
     "end_time": "2022-07-07T14:12:52.483894",
     "exception": false,
     "start_time": "2022-07-07T14:12:52.470737",
     "status": "completed"
    },
    "tags": [
     "injected-parameters"
    ]
   },
   "outputs": [],
   "source": [
    "# Parameters\n",
    "P = {\n",
    "    \"pipeline.data_lake_root\": \"/pipeline-outputs/data-lake\",\n",
    "    \"pipeline.run_environment\": \"ci\",\n",
    "    \"pipeline.pipeline_run_id\": \"6eaadf4c-6dc3-4086-abe2-ccf34399bbad\",\n",
    "    \"pipeline.github.repository\": \"pynb-dag-runner/mnist-digits-demo-pipeline\",\n",
    "    \"pipeline.github.workflow\": \"Run automated tests, pipeline and deploy results to static reporting site\",\n",
    "    \"pipeline.github.runner_name\": \"GitHub Actions 3\",\n",
    "    \"pipeline.github.run_id\": \"2630106939\",\n",
    "    \"pipeline.github.actor\": \"matiasdahl\",\n",
    "    \"pipeline.github.job\": \"run-tests-pipeline-and-persist-pipeline-outputs\",\n",
    "    \"pipeline.github.base_ref\": \"development\",\n",
    "    \"pipeline.github.head_ref\": \"try-C-hyperparameter\",\n",
    "    \"pipeline.github.sha\": \"876109f37d9c7859966a244c1f8db39e7b4105e9\",\n",
    "    \"pipeline.github.ref\": \"refs/pull/55/merge\",\n",
    "    \"pipeline.github.ref_type\": \"branch\",\n",
    "    \"pipeline.github.ref_name\": \"55/merge\",\n",
    "    \"pipeline.github.event_name\": \"pull_request\",\n",
    "    \"task.nr_train_images\": 800,\n",
    "    \"task.notebook\": \"notebooks/benchmark-model.py\",\n",
    "    \"task.max_nr_retries\": \"1\",\n",
    "    \"run.retry_nr\": \"0\",\n",
    "    \"task.timeout_s\": \"None\",\n",
    "    \"task.num_cpus\": 1,\n",
    "    \"_opentelemetry_traceparent\": \"00-c8ac85eb09f8b1780e10779b0e0e7464-63f933b8d12cf72a-01\",\n",
    "}\n"
   ]
  },
  {
   "cell_type": "code",
   "execution_count": 4,
   "id": "793a1a75",
   "metadata": {
    "execution": {
     "iopub.execute_input": "2022-07-07T14:12:52.495441Z",
     "iopub.status.busy": "2022-07-07T14:12:52.495187Z",
     "iopub.status.idle": "2022-07-07T14:12:52.498120Z",
     "shell.execute_reply": "2022-07-07T14:12:52.497438Z"
    },
    "lines_to_next_cell": 0,
    "papermill": {
     "duration": 0.01068,
     "end_time": "2022-07-07T14:12:52.500740",
     "exception": false,
     "start_time": "2022-07-07T14:12:52.490060",
     "status": "completed"
    },
    "tags": []
   },
   "outputs": [],
   "source": [
    "# -----------------------------------------------------------------------"
   ]
  },
  {
   "cell_type": "markdown",
   "id": "e7122783",
   "metadata": {
    "papermill": {
     "duration": 0.00374,
     "end_time": "2022-07-07T14:12:52.508297",
     "exception": false,
     "start_time": "2022-07-07T14:12:52.504557",
     "status": "completed"
    },
    "tags": []
   },
   "source": [
    "---"
   ]
  },
  {
   "cell_type": "markdown",
   "id": "f225d29c",
   "metadata": {
    "lines_to_next_cell": 2,
    "papermill": {
     "duration": 0.003963,
     "end_time": "2022-07-07T14:12:52.516651",
     "exception": false,
     "start_time": "2022-07-07T14:12:52.512688",
     "status": "completed"
    },
    "tags": []
   },
   "source": [
    "### Notebook code"
   ]
  },
  {
   "cell_type": "code",
   "execution_count": 5,
   "id": "f39bd004",
   "metadata": {
    "execution": {
     "iopub.execute_input": "2022-07-07T14:12:52.526317Z",
     "iopub.status.busy": "2022-07-07T14:12:52.526069Z",
     "iopub.status.idle": "2022-07-07T14:12:53.704420Z",
     "shell.execute_reply": "2022-07-07T14:12:53.703805Z"
    },
    "papermill": {
     "duration": 1.185165,
     "end_time": "2022-07-07T14:12:53.706531",
     "exception": false,
     "start_time": "2022-07-07T14:12:52.521366",
     "status": "completed"
    },
    "tags": []
   },
   "outputs": [
    {
     "name": "stderr",
     "output_type": "stream",
     "text": [
      "2022-07-07 14:12:53,531\tINFO worker.py:842 -- Connecting to existing Ray cluster at address: 172.17.0.2:6379\n"
     ]
    }
   ],
   "source": [
    "import itertools as it\n",
    "\n",
    "#\n",
    "import numpy as np\n",
    "import matplotlib.pyplot as plt\n",
    "\n",
    "#\n",
    "from pynb_dag_runner.tasks.task_opentelemetry_logging import PydarLogger\n",
    "\n",
    "#\n",
    "from common.io import datalake_root\n",
    "\n",
    "logger = PydarLogger(P)"
   ]
  },
  {
   "cell_type": "markdown",
   "id": "22fc0999",
   "metadata": {
    "papermill": {
     "duration": 0.008078,
     "end_time": "2022-07-07T14:12:53.719903",
     "exception": false,
     "start_time": "2022-07-07T14:12:53.711825",
     "status": "completed"
    },
    "tags": []
   },
   "source": [
    "## Load persisted onnx-model and evaluation data"
   ]
  },
  {
   "cell_type": "code",
   "execution_count": 6,
   "id": "30963eeb",
   "metadata": {
    "execution": {
     "iopub.execute_input": "2022-07-07T14:12:53.730469Z",
     "iopub.status.busy": "2022-07-07T14:12:53.729602Z",
     "iopub.status.idle": "2022-07-07T14:12:53.733313Z",
     "shell.execute_reply": "2022-07-07T14:12:53.732777Z"
    },
    "papermill": {
     "duration": 0.012031,
     "end_time": "2022-07-07T14:12:53.735836",
     "exception": false,
     "start_time": "2022-07-07T14:12:53.723805",
     "status": "completed"
    },
    "tags": []
   },
   "outputs": [],
   "source": [
    "from common.io import read_onnx, get_onnx_inputs, get_onnx_outputs, read_numpy"
   ]
  },
  {
   "cell_type": "code",
   "execution_count": 7,
   "id": "3e30a549",
   "metadata": {
    "execution": {
     "iopub.execute_input": "2022-07-07T14:12:53.746496Z",
     "iopub.status.busy": "2022-07-07T14:12:53.746249Z",
     "iopub.status.idle": "2022-07-07T14:12:53.757028Z",
     "shell.execute_reply": "2022-07-07T14:12:53.756511Z"
    },
    "lines_to_next_cell": 0,
    "papermill": {
     "duration": 0.018943,
     "end_time": "2022-07-07T14:12:53.759775",
     "exception": false,
     "start_time": "2022-07-07T14:12:53.740832",
     "status": "completed"
    },
    "tags": []
   },
   "outputs": [],
   "source": [
    "onnx_inference_session = read_onnx(\n",
    "    datalake_root(P)\n",
    "    / \"models\"\n",
    "    / f\"nr_train_images={P['task.nr_train_images']}\"\n",
    "    / \"model.onnx\"\n",
    ")"
   ]
  },
  {
   "cell_type": "markdown",
   "id": "92ce201a",
   "metadata": {
    "papermill": {
     "duration": 0.004619,
     "end_time": "2022-07-07T14:12:53.769114",
     "exception": false,
     "start_time": "2022-07-07T14:12:53.764495",
     "status": "completed"
    },
    "tags": []
   },
   "source": [
    "### Record structure of inputs and outputs for ONNX model\n",
    "\n",
    "(this should likely be done in training notebook)"
   ]
  },
  {
   "cell_type": "code",
   "execution_count": 8,
   "id": "39a8bb12",
   "metadata": {
    "execution": {
     "iopub.execute_input": "2022-07-07T14:12:53.779101Z",
     "iopub.status.busy": "2022-07-07T14:12:53.778789Z",
     "iopub.status.idle": "2022-07-07T14:12:53.784762Z",
     "shell.execute_reply": "2022-07-07T14:12:53.783815Z"
    },
    "papermill": {
     "duration": 0.013624,
     "end_time": "2022-07-07T14:12:53.786936",
     "exception": false,
     "start_time": "2022-07-07T14:12:53.773312",
     "status": "completed"
    },
    "tags": []
   },
   "outputs": [
    {
     "name": "stdout",
     "output_type": "stream",
     "text": [
      "{\n",
      "  \"inputs\": [\n",
      "    {\n",
      "      \"name\": \"float_input_8x8_image\",\n",
      "      \"shape\": [\n",
      "        null,\n",
      "        64\n",
      "      ],\n",
      "      \"type\": \"tensor(float)\"\n",
      "    }\n",
      "  ],\n",
      "  \"outputs\": [\n",
      "    {\n",
      "      \"name\": \"output_label\",\n",
      "      \"shape\": [\n",
      "        null\n",
      "      ],\n",
      "      \"type\": \"tensor(int64)\"\n",
      "    },\n",
      "    {\n",
      "      \"name\": \"output_probability\",\n",
      "      \"shape\": [],\n",
      "      \"type\": \"seq(map(int64,tensor(float)))\"\n",
      "    }\n",
      "  ]\n",
      "}\n"
     ]
    }
   ],
   "source": [
    "import json\n",
    "\n",
    "onnx_io = json.dumps(\n",
    "    {\n",
    "        \"inputs\": get_onnx_inputs(onnx_inference_session),\n",
    "        \"outputs\": get_onnx_outputs(onnx_inference_session),\n",
    "    },\n",
    "    indent=2,\n",
    ")\n",
    "\n",
    "\n",
    "logger.log_artefact(\"onnx_io_structure.json\", onnx_io)\n",
    "print(onnx_io)"
   ]
  },
  {
   "cell_type": "markdown",
   "id": "ffdfd9fd",
   "metadata": {
    "papermill": {
     "duration": 0.008281,
     "end_time": "2022-07-07T14:12:53.799507",
     "exception": false,
     "start_time": "2022-07-07T14:12:53.791226",
     "status": "completed"
    },
    "tags": []
   },
   "source": [
    "### Evaluate model performance on evaluation data set"
   ]
  },
  {
   "cell_type": "code",
   "execution_count": 9,
   "id": "d023ea0a",
   "metadata": {
    "execution": {
     "iopub.execute_input": "2022-07-07T14:12:53.809833Z",
     "iopub.status.busy": "2022-07-07T14:12:53.809492Z",
     "iopub.status.idle": "2022-07-07T14:12:53.815436Z",
     "shell.execute_reply": "2022-07-07T14:12:53.814729Z"
    },
    "papermill": {
     "duration": 0.013551,
     "end_time": "2022-07-07T14:12:53.817583",
     "exception": false,
     "start_time": "2022-07-07T14:12:53.804032",
     "status": "completed"
    },
    "tags": []
   },
   "outputs": [],
   "source": [
    "# load evaluation data\n",
    "X_test = read_numpy(datalake_root(P) / \"test-data\" / \"digits.numpy\")\n",
    "y_test = read_numpy(datalake_root(P) / \"test-data\" / \"labels.numpy\")"
   ]
  },
  {
   "cell_type": "code",
   "execution_count": 10,
   "id": "0a87d09a",
   "metadata": {
    "execution": {
     "iopub.execute_input": "2022-07-07T14:12:53.827879Z",
     "iopub.status.busy": "2022-07-07T14:12:53.827502Z",
     "iopub.status.idle": "2022-07-07T14:12:53.840002Z",
     "shell.execute_reply": "2022-07-07T14:12:53.839316Z"
    },
    "papermill": {
     "duration": 0.01964,
     "end_time": "2022-07-07T14:12:53.841842",
     "exception": false,
     "start_time": "2022-07-07T14:12:53.822202",
     "status": "completed"
    },
    "tags": []
   },
   "outputs": [],
   "source": [
    "def get_model_outputs(X, onnx_inference_session):\n",
    "    y_pred_labels, y_pred_map = onnx_inference_session.run(\n",
    "        [\"output_label\", \"output_probability\"],\n",
    "        {\"float_input_8x8_image\": X.astype(np.float32)},\n",
    "    )\n",
    "    y_pred_probs = np.array(\n",
    "        [[probabilities[digit] for digit in range(10)] for probabilities in y_pred_map]\n",
    "    )\n",
    "\n",
    "    assert y_pred_labels.shape == (X.shape[0],)\n",
    "    assert y_pred_probs.shape == (X.shape[0], 10)\n",
    "\n",
    "    return y_pred_labels, y_pred_probs\n",
    "\n",
    "\n",
    "# Note: as shown in the training notebook, the predicted labels and probabilities\n",
    "# computed below need not be compatible.\n",
    "y_pred_labels_test, y_pred_probs_test = get_model_outputs(\n",
    "    X_test, onnx_inference_session\n",
    ")"
   ]
  },
  {
   "cell_type": "markdown",
   "id": "0d338f05",
   "metadata": {
    "papermill": {
     "duration": 0.004298,
     "end_time": "2022-07-07T14:12:53.850363",
     "exception": false,
     "start_time": "2022-07-07T14:12:53.846065",
     "status": "completed"
    },
    "tags": []
   },
   "source": [
    "### Confusion matrix"
   ]
  },
  {
   "cell_type": "code",
   "execution_count": 11,
   "id": "2cee72b1",
   "metadata": {
    "execution": {
     "iopub.execute_input": "2022-07-07T14:12:53.859775Z",
     "iopub.status.busy": "2022-07-07T14:12:53.859425Z",
     "iopub.status.idle": "2022-07-07T14:12:53.862889Z",
     "shell.execute_reply": "2022-07-07T14:12:53.862208Z"
    },
    "papermill": {
     "duration": 0.010122,
     "end_time": "2022-07-07T14:12:53.864734",
     "exception": false,
     "start_time": "2022-07-07T14:12:53.854612",
     "status": "completed"
    },
    "tags": []
   },
   "outputs": [],
   "source": [
    "# TODO"
   ]
  },
  {
   "cell_type": "markdown",
   "id": "2995e160",
   "metadata": {
    "papermill": {
     "duration": 0.004371,
     "end_time": "2022-07-07T14:12:53.873684",
     "exception": false,
     "start_time": "2022-07-07T14:12:53.869313",
     "status": "completed"
    },
    "tags": []
   },
   "source": [
    "### Plot predicted probabilities for each classifier over all evaluation digit images"
   ]
  },
  {
   "cell_type": "code",
   "execution_count": 12,
   "id": "53dceecf",
   "metadata": {
    "execution": {
     "iopub.execute_input": "2022-07-07T14:12:53.883106Z",
     "iopub.status.busy": "2022-07-07T14:12:53.882724Z",
     "iopub.status.idle": "2022-07-07T14:12:57.011147Z",
     "shell.execute_reply": "2022-07-07T14:12:57.010480Z"
    },
    "papermill": {
     "duration": 3.135472,
     "end_time": "2022-07-07T14:12:57.013159",
     "exception": false,
     "start_time": "2022-07-07T14:12:53.877687",
     "status": "completed"
    },
    "tags": []
   },
   "outputs": [
    {
     "data": {
      "image/png": "[encoded data removed]",
      "text/plain": [
       "<Figure size 1152x432 with 10 Axes>"
      ]
     },
     "metadata": {
      "needs_background": "light"
     },
     "output_type": "display_data"
    }
   ],
   "source": [
    "def plot_per_digit_probabilities(y_pred_probs):\n",
    "    fig, axs = plt.subplots(nrows=2, ncols=5, figsize=(16, 6))\n",
    "\n",
    "    for (r, c), digit, ax in zip(\n",
    "        it.product(range(2), range(5)), range(10), axs.reshape(-1)\n",
    "    ):\n",
    "        ax.hist(y_pred_probs_test[:, digit], bins=20)\n",
    "\n",
    "        ax.set_title(f\"Digit {digit}\")\n",
    "        if r == 1 and c == 2:\n",
    "            ax.set_xlabel(\"probability\", fontsize=16)\n",
    "\n",
    "        if c == 0:\n",
    "            ax.set_ylabel(\"counts\", fontsize=16)\n",
    "        ax.set_yscale(\"log\")\n",
    "\n",
    "    fig.tight_layout()\n",
    "    fig.suptitle(\n",
    "        f\"Distributions of prediction probabilities for each digit \"\n",
    "        f\"(on evaluation data, n={y_pred_probs.shape[0]})\",\n",
    "        fontsize=20,\n",
    "    )\n",
    "    fig.tight_layout()\n",
    "    fig.show()\n",
    "\n",
    "    return fig\n",
    "\n",
    "\n",
    "fig = plot_per_digit_probabilities(y_pred_probs_test)"
   ]
  },
  {
   "cell_type": "markdown",
   "id": "4153c76e",
   "metadata": {
    "papermill": {
     "duration": 0.004477,
     "end_time": "2022-07-07T14:12:57.022499",
     "exception": false,
     "start_time": "2022-07-07T14:12:57.018022",
     "status": "completed"
    },
    "tags": []
   },
   "source": [
    "From the above distributions we see that most digits have clear separation between\n",
    "high and lower probabilities. Morover, in each case there is roughly an order of\n",
    "magnitude more of digits with low probabilities. This is compatible with digits\n",
    "being roughly evenly distributed in the data."
   ]
  },
  {
   "cell_type": "code",
   "execution_count": 13,
   "id": "554cd240",
   "metadata": {
    "execution": {
     "iopub.execute_input": "2022-07-07T14:12:57.032688Z",
     "iopub.status.busy": "2022-07-07T14:12:57.032394Z",
     "iopub.status.idle": "2022-07-07T14:12:57.432633Z",
     "shell.execute_reply": "2022-07-07T14:12:57.431980Z"
    },
    "papermill": {
     "duration": 0.407537,
     "end_time": "2022-07-07T14:12:57.434425",
     "exception": false,
     "start_time": "2022-07-07T14:12:57.026888",
     "status": "completed"
    },
    "tags": []
   },
   "outputs": [],
   "source": [
    "logger.log_figure(\"per-digit-probabilities.png\", fig)"
   ]
  },
  {
   "cell_type": "markdown",
   "id": "c6f80268",
   "metadata": {
    "papermill": {
     "duration": 0.004615,
     "end_time": "2022-07-07T14:12:57.443947",
     "exception": false,
     "start_time": "2022-07-07T14:12:57.439332",
     "status": "completed"
    },
    "tags": []
   },
   "source": [
    "### Plot ROC curves for individual one-vs-rest classifiers"
   ]
  },
  {
   "cell_type": "code",
   "execution_count": 14,
   "id": "e356e7db",
   "metadata": {
    "execution": {
     "iopub.execute_input": "2022-07-07T14:12:57.455508Z",
     "iopub.status.busy": "2022-07-07T14:12:57.454905Z",
     "iopub.status.idle": "2022-07-07T14:12:57.817141Z",
     "shell.execute_reply": "2022-07-07T14:12:57.816256Z"
    },
    "papermill": {
     "duration": 0.369584,
     "end_time": "2022-07-07T14:12:57.818923",
     "exception": false,
     "start_time": "2022-07-07T14:12:57.449339",
     "status": "completed"
    },
    "tags": []
   },
   "outputs": [],
   "source": [
    "from sklearn import metrics"
   ]
  },
  {
   "cell_type": "code",
   "execution_count": 15,
   "id": "99e18484",
   "metadata": {
    "execution": {
     "iopub.execute_input": "2022-07-07T14:12:57.830077Z",
     "iopub.status.busy": "2022-07-07T14:12:57.829753Z",
     "iopub.status.idle": "2022-07-07T14:12:58.805307Z",
     "shell.execute_reply": "2022-07-07T14:12:58.804603Z"
    },
    "papermill": {
     "duration": 0.983776,
     "end_time": "2022-07-07T14:12:58.807424",
     "exception": false,
     "start_time": "2022-07-07T14:12:57.823648",
     "status": "completed"
    },
    "tags": []
   },
   "outputs": [
    {
     "data": {
      "image/png": "[encoded data removed]",
      "text/plain": [
       "<Figure size 1152x576 with 10 Axes>"
      ]
     },
     "metadata": {
      "needs_background": "light"
     },
     "output_type": "display_data"
    }
   ],
   "source": [
    "def plot_roc_curves(y, y_pred_probs):\n",
    "    # based on example code\n",
    "    # https://scikit-learn.org/stable/auto_examples/model_selection/plot_roc.html\n",
    "\n",
    "    fig, axs = plt.subplots(nrows=2, ncols=5, figsize=(16, 8))\n",
    "\n",
    "    roc_auc_dict = {}\n",
    "\n",
    "    for (r, c), digit, ax in zip(\n",
    "        it.product(range(2), range(5)), range(10), axs.reshape(-1)\n",
    "    ):\n",
    "        fpr, tpr, _ = metrics.roc_curve(y == digit, y_pred_probs[:, digit])\n",
    "        auc = metrics.auc(fpr, tpr)\n",
    "        roc_auc_dict[str(digit)] = auc\n",
    "\n",
    "        ax.plot(fpr, tpr, label=f\"ROC AUC={round(auc, 3)}\")\n",
    "\n",
    "        ax.set_title(f\"\\nDigit {digit}\", fontsize=16)\n",
    "        if r == 1:\n",
    "            ax.set_xlabel(\"FPR\", fontsize=18)\n",
    "\n",
    "        if c == 0:\n",
    "            ax.set_ylabel(\"TPR\", fontsize=18)\n",
    "\n",
    "        ax.set_xlim([-0.05, 1.05])\n",
    "        ax.set_ylim([-0.05, 1.05])\n",
    "        ax.legend(loc=\"lower right\", frameon=False, fontsize=14)\n",
    "\n",
    "    fig.tight_layout()\n",
    "    fig.suptitle(\n",
    "        f\"ROC plots for one-vs-rest performances \"\n",
    "        f\"(on evaluation data, n={y_pred_probs_test.shape[1]}\",\n",
    "        fontsize=22,\n",
    "    )\n",
    "    fig.tight_layout()\n",
    "    fig.show()\n",
    "\n",
    "    return roc_auc_dict, fig\n",
    "\n",
    "\n",
    "roc_auc_dict, fig = plot_roc_curves(y_test, y_pred_probs_test)"
   ]
  },
  {
   "cell_type": "code",
   "execution_count": 16,
   "id": "2e2b9d11",
   "metadata": {
    "execution": {
     "iopub.execute_input": "2022-07-07T14:12:58.819219Z",
     "iopub.status.busy": "2022-07-07T14:12:58.818715Z",
     "iopub.status.idle": "2022-07-07T14:12:59.024599Z",
     "shell.execute_reply": "2022-07-07T14:12:59.023874Z"
    },
    "papermill": {
     "duration": 0.21451,
     "end_time": "2022-07-07T14:12:59.027151",
     "exception": false,
     "start_time": "2022-07-07T14:12:58.812641",
     "status": "completed"
    },
    "tags": []
   },
   "outputs": [],
   "source": [
    "logger.log_figure(\"per-digit-roc-curves.png\", fig)"
   ]
  },
  {
   "cell_type": "code",
   "execution_count": 17,
   "id": "093019f7",
   "metadata": {
    "execution": {
     "iopub.execute_input": "2022-07-07T14:12:59.040616Z",
     "iopub.status.busy": "2022-07-07T14:12:59.039833Z",
     "iopub.status.idle": "2022-07-07T14:12:59.044501Z",
     "shell.execute_reply": "2022-07-07T14:12:59.043891Z"
    },
    "papermill": {
     "duration": 0.012569,
     "end_time": "2022-07-07T14:12:59.046010",
     "exception": false,
     "start_time": "2022-07-07T14:12:59.033441",
     "status": "completed"
    },
    "tags": []
   },
   "outputs": [
    {
     "data": {
      "text/plain": [
       "{'0': 1.0,\n",
       " '1': 0.9987628865979381,\n",
       " '2': 1.0,\n",
       " '3': 0.9997375820056232,\n",
       " '4': 1.0,\n",
       " '5': 0.99883786316776,\n",
       " '6': 0.999961896052431,\n",
       " '7': 0.9998475842097242,\n",
       " '8': 0.9900693568726355,\n",
       " '9': 0.9989711934156378}"
      ]
     },
     "execution_count": 17,
     "metadata": {},
     "output_type": "execute_result"
    }
   ],
   "source": [
    "roc_auc_dict"
   ]
  },
  {
   "cell_type": "code",
   "execution_count": 18,
   "id": "529aaaf5",
   "metadata": {
    "execution": {
     "iopub.execute_input": "2022-07-07T14:12:59.059111Z",
     "iopub.status.busy": "2022-07-07T14:12:59.058597Z",
     "iopub.status.idle": "2022-07-07T14:12:59.063553Z",
     "shell.execute_reply": "2022-07-07T14:12:59.062792Z"
    },
    "papermill": {
     "duration": 0.013326,
     "end_time": "2022-07-07T14:12:59.065075",
     "exception": false,
     "start_time": "2022-07-07T14:12:59.051749",
     "status": "completed"
    },
    "tags": []
   },
   "outputs": [
    {
     "name": "stdout",
     "output_type": "stream",
     "text": [
      " - Logging roc_auc_per_digit (json) : {'0': 1.0, '1': 0.9987628865979381, '2': 1.0, '3': 0.9997375820056232, '4': 1.0, '5': 0.99883786316776, '6': 0.999961896052431, '7': 0.9998475842097242, '8': 0.9900693568726355, '9': 0.9989711934156378}\n"
     ]
    }
   ],
   "source": [
    "logger.log_value(\"roc_auc_per_digit\", roc_auc_dict)"
   ]
  },
  {
   "cell_type": "markdown",
   "id": "308798b5",
   "metadata": {
    "papermill": {
     "duration": 0.005371,
     "end_time": "2022-07-07T14:12:59.076047",
     "exception": false,
     "start_time": "2022-07-07T14:12:59.070676",
     "status": "completed"
    },
    "tags": []
   },
   "source": [
    "### Compute and log mean ROC AUC score averaged over all digits"
   ]
  },
  {
   "cell_type": "code",
   "execution_count": 19,
   "id": "c0fbb856",
   "metadata": {
    "execution": {
     "iopub.execute_input": "2022-07-07T14:12:59.088046Z",
     "iopub.status.busy": "2022-07-07T14:12:59.087784Z",
     "iopub.status.idle": "2022-07-07T14:12:59.099306Z",
     "shell.execute_reply": "2022-07-07T14:12:59.098548Z"
    },
    "papermill": {
     "duration": 0.019566,
     "end_time": "2022-07-07T14:12:59.100919",
     "exception": false,
     "start_time": "2022-07-07T14:12:59.081353",
     "status": "completed"
    },
    "tags": []
   },
   "outputs": [
    {
     "name": "stdout",
     "output_type": "stream",
     "text": [
      " - Logging roc_auc_class_mean (float) : 0.9986188362321752\n"
     ]
    }
   ],
   "source": [
    "roc_auc_macro = np.mean(list(roc_auc_dict.values()))\n",
    "\n",
    "logger.log_float(\"roc_auc_class_mean\", roc_auc_macro)\n",
    "\n",
    "# assert that the same value can be computed directly using sklearn\n",
    "assert roc_auc_macro == metrics.roc_auc_score(\n",
    "    y_test, y_pred_probs_test, average=\"macro\", multi_class=\"ovr\"\n",
    ")"
   ]
  },
  {
   "cell_type": "code",
   "execution_count": 20,
   "id": "8475748a",
   "metadata": {
    "execution": {
     "iopub.execute_input": "2022-07-07T14:12:59.113075Z",
     "iopub.status.busy": "2022-07-07T14:12:59.112699Z",
     "iopub.status.idle": "2022-07-07T14:12:59.115935Z",
     "shell.execute_reply": "2022-07-07T14:12:59.115266Z"
    },
    "lines_to_next_cell": 0,
    "papermill": {
     "duration": 0.011161,
     "end_time": "2022-07-07T14:12:59.117468",
     "exception": false,
     "start_time": "2022-07-07T14:12:59.106307",
     "status": "completed"
    },
    "tags": []
   },
   "outputs": [],
   "source": [
    "# ---"
   ]
  },
  {
   "cell_type": "code",
   "execution_count": null,
   "id": "cae00aa4",
   "metadata": {
    "papermill": {
     "duration": 0.005552,
     "end_time": "2022-07-07T14:12:59.128783",
     "exception": false,
     "start_time": "2022-07-07T14:12:59.123231",
     "status": "completed"
    },
    "tags": []
   },
   "outputs": [],
   "source": []
  }
 ],
 "metadata": {
  "jupytext": {
   "cell_metadata_filter": "tags,-all",
   "main_language": "python",
   "notebook_metadata_filter": "-all"
  },
  "language_info": {
   "codemirror_mode": {
    "name": "ipython",
    "version": 3
   },
   "file_extension": ".py",
   "mimetype": "text/x-python",
   "name": "python",
   "nbconvert_exporter": "python",
   "pygments_lexer": "ipython3",
   "version": "3.8.10"
  },
  "papermill": {
   "default_parameters": {},
   "duration": 9.191506,
   "end_time": "2022-07-07T14:13:00.253826",
   "environment_variables": {},
   "exception": null,
   "input_path": "/home/host_user/workspace/mnist-demo-pipeline/mnist-demo-pipeline/notebooks/temp-notebook-e6nixc7c.ipynb",
   "output_path": "notebooks/benchmark-model.ipynb",
   "parameters": {
    "P": {
     "_opentelemetry_traceparent": "00-c8ac85eb09f8b1780e10779b0e0e7464-63f933b8d12cf72a-01",
     "pipeline.data_lake_root": "/pipeline-outputs/data-lake",
     "pipeline.github.actor": "matiasdahl",
     "pipeline.github.base_ref": "development",
     "pipeline.github.event_name": "pull_request",
     "pipeline.github.head_ref": "try-C-hyperparameter",
     "pipeline.github.job": "run-tests-pipeline-and-persist-pipeline-outputs",
     "pipeline.github.ref": "refs/pull/55/merge",
     "pipeline.github.ref_name": "55/merge",
     "pipeline.github.ref_type": "branch",
     "pipeline.github.repository": "pynb-dag-runner/mnist-digits-demo-pipeline",
     "pipeline.github.run_id": "2630106939",
     "pipeline.github.runner_name": "GitHub Actions 3",
     "pipeline.github.sha": "876109f37d9c7859966a244c1f8db39e7b4105e9",
     "pipeline.github.workflow": "Run automated tests, pipeline and deploy results to static reporting site",
     "pipeline.pipeline_run_id": "6eaadf4c-6dc3-4086-abe2-ccf34399bbad",
     "pipeline.run_environment": "ci",
     "run.retry_nr": "0",
     "task.max_nr_retries": "1",
     "task.notebook": "notebooks/benchmark-model.py",
     "task.nr_train_images": 800,
     "task.num_cpus": 1,
     "task.timeout_s": "None"
    }
   },
   "start_time": "2022-07-07T14:12:51.062320",
   "version": "2.3.3"
  }
 },
 "nbformat": 4,
 "nbformat_minor": 5
}