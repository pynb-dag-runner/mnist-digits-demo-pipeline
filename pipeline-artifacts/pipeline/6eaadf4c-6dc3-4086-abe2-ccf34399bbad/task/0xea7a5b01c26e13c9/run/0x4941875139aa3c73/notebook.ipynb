{
 "cells": [
  {
   "cell_type": "markdown",
   "id": "eb383e0a",
   "metadata": {
    "papermill": {
     "duration": 0.005873,
     "end_time": "2022-07-07T14:12:41.539972",
     "exception": false,
     "start_time": "2022-07-07T14:12:41.534099",
     "status": "completed"
    },
    "tags": []
   },
   "source": [
    "# Benchmark model\n",
    "\n",
    "The purpose of this notebook is to benchmark persisted onnx-model (trained in the\n",
    "previous step) against evaluation set."
   ]
  },
  {
   "cell_type": "markdown",
   "id": "1f4d1f10",
   "metadata": {
    "papermill": {
     "duration": 0.004216,
     "end_time": "2022-07-07T14:12:41.548575",
     "exception": false,
     "start_time": "2022-07-07T14:12:41.544359",
     "status": "completed"
    },
    "tags": []
   },
   "source": [
    "### Determine run parameters"
   ]
  },
  {
   "cell_type": "code",
   "execution_count": 1,
   "id": "503ec395",
   "metadata": {
    "execution": {
     "iopub.execute_input": "2022-07-07T14:12:41.557404Z",
     "iopub.status.busy": "2022-07-07T14:12:41.557075Z",
     "iopub.status.idle": "2022-07-07T14:12:41.566253Z",
     "shell.execute_reply": "2022-07-07T14:12:41.565691Z"
    },
    "lines_to_next_cell": 0,
    "papermill": {
     "duration": 0.015645,
     "end_time": "2022-07-07T14:12:41.567904",
     "exception": false,
     "start_time": "2022-07-07T14:12:41.552259",
     "status": "completed"
    },
    "tags": []
   },
   "outputs": [],
   "source": [
    "# ----------------- Parameters for interactive development --------------\n",
    "P = {\n",
    "    \"pipeline.data_lake_root\": \"/pipeline-outputs/data-lake\",\n",
    "    \"task.nr_train_images\": 600,\n",
    "}"
   ]
  },
  {
   "cell_type": "code",
   "execution_count": 2,
   "id": "ac6cebb5",
   "metadata": {
    "execution": {
     "iopub.execute_input": "2022-07-07T14:12:41.577553Z",
     "iopub.status.busy": "2022-07-07T14:12:41.577317Z",
     "iopub.status.idle": "2022-07-07T14:12:41.581195Z",
     "shell.execute_reply": "2022-07-07T14:12:41.580661Z"
    },
    "lines_to_next_cell": 0,
    "papermill": {
     "duration": 0.010971,
     "end_time": "2022-07-07T14:12:41.583731",
     "exception": false,
     "start_time": "2022-07-07T14:12:41.572760",
     "status": "completed"
    },
    "tags": [
     "parameters"
    ]
   },
   "outputs": [],
   "source": [
    "# - During automated runs parameters will be injected in the below cell -"
   ]
  },
  {
   "cell_type": "code",
   "execution_count": 3,
   "id": "2f2bb77e",
   "metadata": {
    "execution": {
     "iopub.execute_input": "2022-07-07T14:12:41.595523Z",
     "iopub.status.busy": "2022-07-07T14:12:41.595251Z",
     "iopub.status.idle": "2022-07-07T14:12:41.600229Z",
     "shell.execute_reply": "2022-07-07T14:12:41.599304Z"
    },
    "papermill": {
     "duration": 0.014884,
     "end_time": "2022-07-07T14:12:41.602789",
     "exception": false,
     "start_time": "2022-07-07T14:12:41.587905",
     "status": "completed"
    },
    "tags": [
     "injected-parameters"
    ]
   },
   "outputs": [],
   "source": [
    "# Parameters\n",
    "P = {\n",
    "    \"pipeline.data_lake_root\": \"/pipeline-outputs/data-lake\",\n",
    "    \"pipeline.run_environment\": \"ci\",\n",
    "    \"pipeline.pipeline_run_id\": \"6eaadf4c-6dc3-4086-abe2-ccf34399bbad\",\n",
    "    \"pipeline.github.repository\": \"pynb-dag-runner/mnist-digits-demo-pipeline\",\n",
    "    \"pipeline.github.workflow\": \"Run automated tests, pipeline and deploy results to static reporting site\",\n",
    "    \"pipeline.github.runner_name\": \"GitHub Actions 3\",\n",
    "    \"pipeline.github.run_id\": \"2630106939\",\n",
    "    \"pipeline.github.actor\": \"matiasdahl\",\n",
    "    \"pipeline.github.job\": \"run-tests-pipeline-and-persist-pipeline-outputs\",\n",
    "    \"pipeline.github.base_ref\": \"development\",\n",
    "    \"pipeline.github.head_ref\": \"try-C-hyperparameter\",\n",
    "    \"pipeline.github.sha\": \"876109f37d9c7859966a244c1f8db39e7b4105e9\",\n",
    "    \"pipeline.github.ref\": \"refs/pull/55/merge\",\n",
    "    \"pipeline.github.ref_type\": \"branch\",\n",
    "    \"pipeline.github.ref_name\": \"55/merge\",\n",
    "    \"pipeline.github.event_name\": \"pull_request\",\n",
    "    \"task.nr_train_images\": 1000,\n",
    "    \"task.notebook\": \"notebooks/benchmark-model.py\",\n",
    "    \"task.max_nr_retries\": \"1\",\n",
    "    \"run.retry_nr\": \"0\",\n",
    "    \"task.timeout_s\": \"None\",\n",
    "    \"task.num_cpus\": 1,\n",
    "    \"_opentelemetry_traceparent\": \"00-c8ac85eb09f8b1780e10779b0e0e7464-d1a56fa4035ea774-01\",\n",
    "}\n"
   ]
  },
  {
   "cell_type": "code",
   "execution_count": 4,
   "id": "fe17e36e",
   "metadata": {
    "execution": {
     "iopub.execute_input": "2022-07-07T14:12:41.611873Z",
     "iopub.status.busy": "2022-07-07T14:12:41.611638Z",
     "iopub.status.idle": "2022-07-07T14:12:41.614462Z",
     "shell.execute_reply": "2022-07-07T14:12:41.613844Z"
    },
    "lines_to_next_cell": 0,
    "papermill": {
     "duration": 0.010042,
     "end_time": "2022-07-07T14:12:41.616517",
     "exception": false,
     "start_time": "2022-07-07T14:12:41.606475",
     "status": "completed"
    },
    "tags": []
   },
   "outputs": [],
   "source": [
    "# -----------------------------------------------------------------------"
   ]
  },
  {
   "cell_type": "markdown",
   "id": "d1538c49",
   "metadata": {
    "papermill": {
     "duration": 0.008558,
     "end_time": "2022-07-07T14:12:41.629117",
     "exception": false,
     "start_time": "2022-07-07T14:12:41.620559",
     "status": "completed"
    },
    "tags": []
   },
   "source": [
    "---"
   ]
  },
  {
   "cell_type": "markdown",
   "id": "e9dc028a",
   "metadata": {
    "lines_to_next_cell": 2,
    "papermill": {
     "duration": 0.003638,
     "end_time": "2022-07-07T14:12:41.637268",
     "exception": false,
     "start_time": "2022-07-07T14:12:41.633630",
     "status": "completed"
    },
    "tags": []
   },
   "source": [
    "### Notebook code"
   ]
  },
  {
   "cell_type": "code",
   "execution_count": 5,
   "id": "558f4009",
   "metadata": {
    "execution": {
     "iopub.execute_input": "2022-07-07T14:12:41.646877Z",
     "iopub.status.busy": "2022-07-07T14:12:41.646625Z",
     "iopub.status.idle": "2022-07-07T14:12:42.773794Z",
     "shell.execute_reply": "2022-07-07T14:12:42.772455Z"
    },
    "papermill": {
     "duration": 1.134441,
     "end_time": "2022-07-07T14:12:42.776241",
     "exception": false,
     "start_time": "2022-07-07T14:12:41.641800",
     "status": "completed"
    },
    "tags": []
   },
   "outputs": [
    {
     "name": "stderr",
     "output_type": "stream",
     "text": [
      "2022-07-07 14:12:42,606\tINFO worker.py:842 -- Connecting to existing Ray cluster at address: 172.17.0.2:6379\n"
     ]
    }
   ],
   "source": [
    "import itertools as it\n",
    "\n",
    "#\n",
    "import numpy as np\n",
    "import matplotlib.pyplot as plt\n",
    "\n",
    "#\n",
    "from pynb_dag_runner.tasks.task_opentelemetry_logging import PydarLogger\n",
    "\n",
    "#\n",
    "from common.io import datalake_root\n",
    "\n",
    "logger = PydarLogger(P)"
   ]
  },
  {
   "cell_type": "markdown",
   "id": "0f88ef95",
   "metadata": {
    "papermill": {
     "duration": 0.00455,
     "end_time": "2022-07-07T14:12:42.785033",
     "exception": false,
     "start_time": "2022-07-07T14:12:42.780483",
     "status": "completed"
    },
    "tags": []
   },
   "source": [
    "## Load persisted onnx-model and evaluation data"
   ]
  },
  {
   "cell_type": "code",
   "execution_count": 6,
   "id": "ce754899",
   "metadata": {
    "execution": {
     "iopub.execute_input": "2022-07-07T14:12:42.794443Z",
     "iopub.status.busy": "2022-07-07T14:12:42.794101Z",
     "iopub.status.idle": "2022-07-07T14:12:42.797685Z",
     "shell.execute_reply": "2022-07-07T14:12:42.797147Z"
    },
    "papermill": {
     "duration": 0.010857,
     "end_time": "2022-07-07T14:12:42.800080",
     "exception": false,
     "start_time": "2022-07-07T14:12:42.789223",
     "status": "completed"
    },
    "tags": []
   },
   "outputs": [],
   "source": [
    "from common.io import read_onnx, get_onnx_inputs, get_onnx_outputs, read_numpy"
   ]
  },
  {
   "cell_type": "code",
   "execution_count": 7,
   "id": "ec3e9478",
   "metadata": {
    "execution": {
     "iopub.execute_input": "2022-07-07T14:12:42.811104Z",
     "iopub.status.busy": "2022-07-07T14:12:42.810862Z",
     "iopub.status.idle": "2022-07-07T14:12:42.828824Z",
     "shell.execute_reply": "2022-07-07T14:12:42.828280Z"
    },
    "lines_to_next_cell": 0,
    "papermill": {
     "duration": 0.025244,
     "end_time": "2022-07-07T14:12:42.830255",
     "exception": false,
     "start_time": "2022-07-07T14:12:42.805011",
     "status": "completed"
    },
    "tags": []
   },
   "outputs": [],
   "source": [
    "onnx_inference_session = read_onnx(\n",
    "    datalake_root(P)\n",
    "    / \"models\"\n",
    "    / f\"nr_train_images={P['task.nr_train_images']}\"\n",
    "    / \"model.onnx\"\n",
    ")"
   ]
  },
  {
   "cell_type": "markdown",
   "id": "dfcd095f",
   "metadata": {
    "papermill": {
     "duration": 0.003862,
     "end_time": "2022-07-07T14:12:42.842462",
     "exception": false,
     "start_time": "2022-07-07T14:12:42.838600",
     "status": "completed"
    },
    "tags": []
   },
   "source": [
    "### Record structure of inputs and outputs for ONNX model\n",
    "\n",
    "(this should likely be done in training notebook)"
   ]
  },
  {
   "cell_type": "code",
   "execution_count": 8,
   "id": "9ae4ac29",
   "metadata": {
    "execution": {
     "iopub.execute_input": "2022-07-07T14:12:42.859186Z",
     "iopub.status.busy": "2022-07-07T14:12:42.858925Z",
     "iopub.status.idle": "2022-07-07T14:12:42.866978Z",
     "shell.execute_reply": "2022-07-07T14:12:42.866434Z"
    },
    "papermill": {
     "duration": 0.01621,
     "end_time": "2022-07-07T14:12:42.869392",
     "exception": false,
     "start_time": "2022-07-07T14:12:42.853182",
     "status": "completed"
    },
    "tags": []
   },
   "outputs": [
    {
     "name": "stdout",
     "output_type": "stream",
     "text": [
      "{\n",
      "  \"inputs\": [\n",
      "    {\n",
      "      \"name\": \"float_input_8x8_image\",\n",
      "      \"shape\": [\n",
      "        null,\n",
      "        64\n",
      "      ],\n",
      "      \"type\": \"tensor(float)\"\n",
      "    }\n",
      "  ],\n",
      "  \"outputs\": [\n",
      "    {\n",
      "      \"name\": \"output_label\",\n",
      "      \"shape\": [\n",
      "        null\n",
      "      ],\n",
      "      \"type\": \"tensor(int64)\"\n",
      "    },\n",
      "    {\n",
      "      \"name\": \"output_probability\",\n",
      "      \"shape\": [],\n",
      "      \"type\": \"seq(map(int64,tensor(float)))\"\n",
      "    }\n",
      "  ]\n",
      "}\n"
     ]
    }
   ],
   "source": [
    "import json\n",
    "\n",
    "onnx_io = json.dumps(\n",
    "    {\n",
    "        \"inputs\": get_onnx_inputs(onnx_inference_session),\n",
    "        \"outputs\": get_onnx_outputs(onnx_inference_session),\n",
    "    },\n",
    "    indent=2,\n",
    ")\n",
    "\n",
    "\n",
    "logger.log_artefact(\"onnx_io_structure.json\", onnx_io)\n",
    "print(onnx_io)"
   ]
  },
  {
   "cell_type": "markdown",
   "id": "a15765d9",
   "metadata": {
    "papermill": {
     "duration": 0.005141,
     "end_time": "2022-07-07T14:12:42.878884",
     "exception": false,
     "start_time": "2022-07-07T14:12:42.873743",
     "status": "completed"
    },
    "tags": []
   },
   "source": [
    "### Evaluate model performance on evaluation data set"
   ]
  },
  {
   "cell_type": "code",
   "execution_count": 9,
   "id": "aa81fe8e",
   "metadata": {
    "execution": {
     "iopub.execute_input": "2022-07-07T14:12:42.889581Z",
     "iopub.status.busy": "2022-07-07T14:12:42.889318Z",
     "iopub.status.idle": "2022-07-07T14:12:42.894019Z",
     "shell.execute_reply": "2022-07-07T14:12:42.893448Z"
    },
    "papermill": {
     "duration": 0.013501,
     "end_time": "2022-07-07T14:12:42.896598",
     "exception": false,
     "start_time": "2022-07-07T14:12:42.883097",
     "status": "completed"
    },
    "tags": []
   },
   "outputs": [],
   "source": [
    "# load evaluation data\n",
    "X_test = read_numpy(datalake_root(P) / \"test-data\" / \"digits.numpy\")\n",
    "y_test = read_numpy(datalake_root(P) / \"test-data\" / \"labels.numpy\")"
   ]
  },
  {
   "cell_type": "code",
   "execution_count": 10,
   "id": "bc01f361",
   "metadata": {
    "execution": {
     "iopub.execute_input": "2022-07-07T14:12:42.906636Z",
     "iopub.status.busy": "2022-07-07T14:12:42.906411Z",
     "iopub.status.idle": "2022-07-07T14:12:42.929137Z",
     "shell.execute_reply": "2022-07-07T14:12:42.928557Z"
    },
    "papermill": {
     "duration": 0.029875,
     "end_time": "2022-07-07T14:12:42.931348",
     "exception": false,
     "start_time": "2022-07-07T14:12:42.901473",
     "status": "completed"
    },
    "tags": []
   },
   "outputs": [],
   "source": [
    "def get_model_outputs(X, onnx_inference_session):\n",
    "    y_pred_labels, y_pred_map = onnx_inference_session.run(\n",
    "        [\"output_label\", \"output_probability\"],\n",
    "        {\"float_input_8x8_image\": X.astype(np.float32)},\n",
    "    )\n",
    "    y_pred_probs = np.array(\n",
    "        [[probabilities[digit] for digit in range(10)] for probabilities in y_pred_map]\n",
    "    )\n",
    "\n",
    "    assert y_pred_labels.shape == (X.shape[0],)\n",
    "    assert y_pred_probs.shape == (X.shape[0], 10)\n",
    "\n",
    "    return y_pred_labels, y_pred_probs\n",
    "\n",
    "\n",
    "# Note: as shown in the training notebook, the predicted labels and probabilities\n",
    "# computed below need not be compatible.\n",
    "y_pred_labels_test, y_pred_probs_test = get_model_outputs(\n",
    "    X_test, onnx_inference_session\n",
    ")"
   ]
  },
  {
   "cell_type": "markdown",
   "id": "2030c97d",
   "metadata": {
    "papermill": {
     "duration": 0.005132,
     "end_time": "2022-07-07T14:12:42.941165",
     "exception": false,
     "start_time": "2022-07-07T14:12:42.936033",
     "status": "completed"
    },
    "tags": []
   },
   "source": [
    "### Confusion matrix"
   ]
  },
  {
   "cell_type": "code",
   "execution_count": 11,
   "id": "0813ef6c",
   "metadata": {
    "execution": {
     "iopub.execute_input": "2022-07-07T14:12:42.952540Z",
     "iopub.status.busy": "2022-07-07T14:12:42.952288Z",
     "iopub.status.idle": "2022-07-07T14:12:42.955302Z",
     "shell.execute_reply": "2022-07-07T14:12:42.954664Z"
    },
    "papermill": {
     "duration": 0.011335,
     "end_time": "2022-07-07T14:12:42.957932",
     "exception": false,
     "start_time": "2022-07-07T14:12:42.946597",
     "status": "completed"
    },
    "tags": []
   },
   "outputs": [],
   "source": [
    "# TODO"
   ]
  },
  {
   "cell_type": "markdown",
   "id": "df30deab",
   "metadata": {
    "papermill": {
     "duration": 0.004191,
     "end_time": "2022-07-07T14:12:42.967072",
     "exception": false,
     "start_time": "2022-07-07T14:12:42.962881",
     "status": "completed"
    },
    "tags": []
   },
   "source": [
    "### Plot predicted probabilities for each classifier over all evaluation digit images"
   ]
  },
  {
   "cell_type": "code",
   "execution_count": 12,
   "id": "b8f86a29",
   "metadata": {
    "execution": {
     "iopub.execute_input": "2022-07-07T14:12:42.977783Z",
     "iopub.status.busy": "2022-07-07T14:12:42.977524Z",
     "iopub.status.idle": "2022-07-07T14:12:46.290231Z",
     "shell.execute_reply": "2022-07-07T14:12:46.288671Z"
    },
    "papermill": {
     "duration": 3.319912,
     "end_time": "2022-07-07T14:12:46.291907",
     "exception": false,
     "start_time": "2022-07-07T14:12:42.971995",
     "status": "completed"
    },
    "tags": []
   },
   "outputs": [
    {
     "data": {
      "image/png": "[encoded data removed]",
      "text/plain": [
       "<Figure size 1152x432 with 10 Axes>"
      ]
     },
     "metadata": {
      "needs_background": "light"
     },
     "output_type": "display_data"
    }
   ],
   "source": [
    "def plot_per_digit_probabilities(y_pred_probs):\n",
    "    fig, axs = plt.subplots(nrows=2, ncols=5, figsize=(16, 6))\n",
    "\n",
    "    for (r, c), digit, ax in zip(\n",
    "        it.product(range(2), range(5)), range(10), axs.reshape(-1)\n",
    "    ):\n",
    "        ax.hist(y_pred_probs_test[:, digit], bins=20)\n",
    "\n",
    "        ax.set_title(f\"Digit {digit}\")\n",
    "        if r == 1 and c == 2:\n",
    "            ax.set_xlabel(\"probability\", fontsize=16)\n",
    "\n",
    "        if c == 0:\n",
    "            ax.set_ylabel(\"counts\", fontsize=16)\n",
    "        ax.set_yscale(\"log\")\n",
    "\n",
    "    fig.tight_layout()\n",
    "    fig.suptitle(\n",
    "        f\"Distributions of prediction probabilities for each digit \"\n",
    "        f\"(on evaluation data, n={y_pred_probs.shape[0]})\",\n",
    "        fontsize=20,\n",
    "    )\n",
    "    fig.tight_layout()\n",
    "    fig.show()\n",
    "\n",
    "    return fig\n",
    "\n",
    "\n",
    "fig = plot_per_digit_probabilities(y_pred_probs_test)"
   ]
  },
  {
   "cell_type": "markdown",
   "id": "1a1a4cdc",
   "metadata": {
    "papermill": {
     "duration": 0.004997,
     "end_time": "2022-07-07T14:12:46.305749",
     "exception": false,
     "start_time": "2022-07-07T14:12:46.300752",
     "status": "completed"
    },
    "tags": []
   },
   "source": [
    "From the above distributions we see that most digits have clear separation between\n",
    "high and lower probabilities. Morover, in each case there is roughly an order of\n",
    "magnitude more of digits with low probabilities. This is compatible with digits\n",
    "being roughly evenly distributed in the data."
   ]
  },
  {
   "cell_type": "code",
   "execution_count": 13,
   "id": "ea1fe7c0",
   "metadata": {
    "execution": {
     "iopub.execute_input": "2022-07-07T14:12:46.316822Z",
     "iopub.status.busy": "2022-07-07T14:12:46.316538Z",
     "iopub.status.idle": "2022-07-07T14:12:46.755999Z",
     "shell.execute_reply": "2022-07-07T14:12:46.755317Z"
    },
    "papermill": {
     "duration": 0.447667,
     "end_time": "2022-07-07T14:12:46.758099",
     "exception": false,
     "start_time": "2022-07-07T14:12:46.310432",
     "status": "completed"
    },
    "tags": []
   },
   "outputs": [],
   "source": [
    "logger.log_figure(\"per-digit-probabilities.png\", fig)"
   ]
  },
  {
   "cell_type": "markdown",
   "id": "9af0f8fe",
   "metadata": {
    "papermill": {
     "duration": 0.004723,
     "end_time": "2022-07-07T14:12:46.768498",
     "exception": false,
     "start_time": "2022-07-07T14:12:46.763775",
     "status": "completed"
    },
    "tags": []
   },
   "source": [
    "### Plot ROC curves for individual one-vs-rest classifiers"
   ]
  },
  {
   "cell_type": "code",
   "execution_count": 14,
   "id": "5ac9775d",
   "metadata": {
    "execution": {
     "iopub.execute_input": "2022-07-07T14:12:46.779281Z",
     "iopub.status.busy": "2022-07-07T14:12:46.778911Z",
     "iopub.status.idle": "2022-07-07T14:12:47.165358Z",
     "shell.execute_reply": "2022-07-07T14:12:47.164703Z"
    },
    "papermill": {
     "duration": 0.393714,
     "end_time": "2022-07-07T14:12:47.167033",
     "exception": false,
     "start_time": "2022-07-07T14:12:46.773319",
     "status": "completed"
    },
    "tags": []
   },
   "outputs": [],
   "source": [
    "from sklearn import metrics"
   ]
  },
  {
   "cell_type": "code",
   "execution_count": 15,
   "id": "7a705495",
   "metadata": {
    "execution": {
     "iopub.execute_input": "2022-07-07T14:12:47.179790Z",
     "iopub.status.busy": "2022-07-07T14:12:47.179414Z",
     "iopub.status.idle": "2022-07-07T14:12:48.228556Z",
     "shell.execute_reply": "2022-07-07T14:12:48.227867Z"
    },
    "papermill": {
     "duration": 1.057239,
     "end_time": "2022-07-07T14:12:48.230009",
     "exception": false,
     "start_time": "2022-07-07T14:12:47.172770",
     "status": "completed"
    },
    "tags": []
   },
   "outputs": [
    {
     "data": {
      "image/png": "[encoded data removed]",
      "text/plain": [
       "<Figure size 1152x576 with 10 Axes>"
      ]
     },
     "metadata": {
      "needs_background": "light"
     },
     "output_type": "display_data"
    }
   ],
   "source": [
    "def plot_roc_curves(y, y_pred_probs):\n",
    "    # based on example code\n",
    "    # https://scikit-learn.org/stable/auto_examples/model_selection/plot_roc.html\n",
    "\n",
    "    fig, axs = plt.subplots(nrows=2, ncols=5, figsize=(16, 8))\n",
    "\n",
    "    roc_auc_dict = {}\n",
    "\n",
    "    for (r, c), digit, ax in zip(\n",
    "        it.product(range(2), range(5)), range(10), axs.reshape(-1)\n",
    "    ):\n",
    "        fpr, tpr, _ = metrics.roc_curve(y == digit, y_pred_probs[:, digit])\n",
    "        auc = metrics.auc(fpr, tpr)\n",
    "        roc_auc_dict[str(digit)] = auc\n",
    "\n",
    "        ax.plot(fpr, tpr, label=f\"ROC AUC={round(auc, 3)}\")\n",
    "\n",
    "        ax.set_title(f\"\\nDigit {digit}\", fontsize=16)\n",
    "        if r == 1:\n",
    "            ax.set_xlabel(\"FPR\", fontsize=18)\n",
    "\n",
    "        if c == 0:\n",
    "            ax.set_ylabel(\"TPR\", fontsize=18)\n",
    "\n",
    "        ax.set_xlim([-0.05, 1.05])\n",
    "        ax.set_ylim([-0.05, 1.05])\n",
    "        ax.legend(loc=\"lower right\", frameon=False, fontsize=14)\n",
    "\n",
    "    fig.tight_layout()\n",
    "    fig.suptitle(\n",
    "        f\"ROC plots for one-vs-rest performances \"\n",
    "        f\"(on evaluation data, n={y_pred_probs_test.shape[1]}\",\n",
    "        fontsize=22,\n",
    "    )\n",
    "    fig.tight_layout()\n",
    "    fig.show()\n",
    "\n",
    "    return roc_auc_dict, fig\n",
    "\n",
    "\n",
    "roc_auc_dict, fig = plot_roc_curves(y_test, y_pred_probs_test)"
   ]
  },
  {
   "cell_type": "code",
   "execution_count": 16,
   "id": "98c9a5fc",
   "metadata": {
    "execution": {
     "iopub.execute_input": "2022-07-07T14:12:48.244141Z",
     "iopub.status.busy": "2022-07-07T14:12:48.243871Z",
     "iopub.status.idle": "2022-07-07T14:12:48.476844Z",
     "shell.execute_reply": "2022-07-07T14:12:48.476232Z"
    },
    "papermill": {
     "duration": 0.242079,
     "end_time": "2022-07-07T14:12:48.478716",
     "exception": false,
     "start_time": "2022-07-07T14:12:48.236637",
     "status": "completed"
    },
    "tags": []
   },
   "outputs": [],
   "source": [
    "logger.log_figure(\"per-digit-roc-curves.png\", fig)"
   ]
  },
  {
   "cell_type": "code",
   "execution_count": 17,
   "id": "d895050c",
   "metadata": {
    "execution": {
     "iopub.execute_input": "2022-07-07T14:12:48.491460Z",
     "iopub.status.busy": "2022-07-07T14:12:48.491187Z",
     "iopub.status.idle": "2022-07-07T14:12:48.500115Z",
     "shell.execute_reply": "2022-07-07T14:12:48.497587Z"
    },
    "papermill": {
     "duration": 0.018522,
     "end_time": "2022-07-07T14:12:48.503649",
     "exception": false,
     "start_time": "2022-07-07T14:12:48.485127",
     "status": "completed"
    },
    "tags": []
   },
   "outputs": [
    {
     "data": {
      "text/plain": [
       "{'0': 1.0,\n",
       " '1': 0.9987253983130272,\n",
       " '2': 1.0,\n",
       " '3': 0.9996626054358013,\n",
       " '4': 1.0,\n",
       " '5': 0.9994751640112465,\n",
       " '6': 0.999923792104862,\n",
       " '7': 0.9997713763145862,\n",
       " '8': 0.9871138083228247,\n",
       " '9': 0.9992760249961896}"
      ]
     },
     "execution_count": 17,
     "metadata": {},
     "output_type": "execute_result"
    }
   ],
   "source": [
    "roc_auc_dict"
   ]
  },
  {
   "cell_type": "code",
   "execution_count": 18,
   "id": "7d72c275",
   "metadata": {
    "execution": {
     "iopub.execute_input": "2022-07-07T14:12:48.517327Z",
     "iopub.status.busy": "2022-07-07T14:12:48.516961Z",
     "iopub.status.idle": "2022-07-07T14:12:48.521123Z",
     "shell.execute_reply": "2022-07-07T14:12:48.520474Z"
    },
    "papermill": {
     "duration": 0.013819,
     "end_time": "2022-07-07T14:12:48.523224",
     "exception": false,
     "start_time": "2022-07-07T14:12:48.509405",
     "status": "completed"
    },
    "tags": []
   },
   "outputs": [
    {
     "name": "stdout",
     "output_type": "stream",
     "text": [
      " - Logging roc_auc_per_digit (json) : {'0': 1.0, '1': 0.9987253983130272, '2': 1.0, '3': 0.9996626054358013, '4': 1.0, '5': 0.9994751640112465, '6': 0.999923792104862, '7': 0.9997713763145862, '8': 0.9871138083228247, '9': 0.9992760249961896}\n"
     ]
    }
   ],
   "source": [
    "logger.log_value(\"roc_auc_per_digit\", roc_auc_dict)"
   ]
  },
  {
   "cell_type": "markdown",
   "id": "26c3b542",
   "metadata": {
    "papermill": {
     "duration": 0.005267,
     "end_time": "2022-07-07T14:12:48.534158",
     "exception": false,
     "start_time": "2022-07-07T14:12:48.528891",
     "status": "completed"
    },
    "tags": []
   },
   "source": [
    "### Compute and log mean ROC AUC score averaged over all digits"
   ]
  },
  {
   "cell_type": "code",
   "execution_count": 19,
   "id": "a5f3c1a2",
   "metadata": {
    "execution": {
     "iopub.execute_input": "2022-07-07T14:12:48.546977Z",
     "iopub.status.busy": "2022-07-07T14:12:48.546477Z",
     "iopub.status.idle": "2022-07-07T14:12:48.560944Z",
     "shell.execute_reply": "2022-07-07T14:12:48.560284Z"
    },
    "papermill": {
     "duration": 0.022499,
     "end_time": "2022-07-07T14:12:48.562520",
     "exception": false,
     "start_time": "2022-07-07T14:12:48.540021",
     "status": "completed"
    },
    "tags": []
   },
   "outputs": [
    {
     "name": "stdout",
     "output_type": "stream",
     "text": [
      " - Logging roc_auc_class_mean (float) : 0.9983948169498538\n"
     ]
    }
   ],
   "source": [
    "roc_auc_macro = np.mean(list(roc_auc_dict.values()))\n",
    "\n",
    "logger.log_float(\"roc_auc_class_mean\", roc_auc_macro)\n",
    "\n",
    "# assert that the same value can be computed directly using sklearn\n",
    "assert roc_auc_macro == metrics.roc_auc_score(\n",
    "    y_test, y_pred_probs_test, average=\"macro\", multi_class=\"ovr\"\n",
    ")"
   ]
  },
  {
   "cell_type": "code",
   "execution_count": 20,
   "id": "c386baa3",
   "metadata": {
    "execution": {
     "iopub.execute_input": "2022-07-07T14:12:48.575081Z",
     "iopub.status.busy": "2022-07-07T14:12:48.574350Z",
     "iopub.status.idle": "2022-07-07T14:12:48.578092Z",
     "shell.execute_reply": "2022-07-07T14:12:48.577438Z"
    },
    "lines_to_next_cell": 0,
    "papermill": {
     "duration": 0.011637,
     "end_time": "2022-07-07T14:12:48.579607",
     "exception": false,
     "start_time": "2022-07-07T14:12:48.567970",
     "status": "completed"
    },
    "tags": []
   },
   "outputs": [],
   "source": [
    "# ---"
   ]
  },
  {
   "cell_type": "code",
   "execution_count": null,
   "id": "a8ec7858",
   "metadata": {
    "papermill": {
     "duration": 0.005366,
     "end_time": "2022-07-07T14:12:48.590228",
     "exception": false,
     "start_time": "2022-07-07T14:12:48.584862",
     "status": "completed"
    },
    "tags": []
   },
   "outputs": [],
   "source": []
  }
 ],
 "metadata": {
  "jupytext": {
   "cell_metadata_filter": "tags,-all",
   "main_language": "python",
   "notebook_metadata_filter": "-all"
  },
  "language_info": {
   "codemirror_mode": {
    "name": "ipython",
    "version": 3
   },
   "file_extension": ".py",
   "mimetype": "text/x-python",
   "name": "python",
   "nbconvert_exporter": "python",
   "pygments_lexer": "ipython3",
   "version": "3.8.10"
  },
  "papermill": {
   "default_parameters": {},
   "duration": 9.632707,
   "end_time": "2022-07-07T14:12:49.714578",
   "environment_variables": {},
   "exception": null,
   "input_path": "/home/host_user/workspace/mnist-demo-pipeline/mnist-demo-pipeline/notebooks/temp-notebook-koe4t2wz.ipynb",
   "output_path": "notebooks/benchmark-model.ipynb",
   "parameters": {
    "P": {
     "_opentelemetry_traceparent": "00-c8ac85eb09f8b1780e10779b0e0e7464-d1a56fa4035ea774-01",
     "pipeline.data_lake_root": "/pipeline-outputs/data-lake",
     "pipeline.github.actor": "matiasdahl",
     "pipeline.github.base_ref": "development",
     "pipeline.github.event_name": "pull_request",
     "pipeline.github.head_ref": "try-C-hyperparameter",
     "pipeline.github.job": "run-tests-pipeline-and-persist-pipeline-outputs",
     "pipeline.github.ref": "refs/pull/55/merge",
     "pipeline.github.ref_name": "55/merge",
     "pipeline.github.ref_type": "branch",
     "pipeline.github.repository": "pynb-dag-runner/mnist-digits-demo-pipeline",
     "pipeline.github.run_id": "2630106939",
     "pipeline.github.runner_name": "GitHub Actions 3",
     "pipeline.github.sha": "876109f37d9c7859966a244c1f8db39e7b4105e9",
     "pipeline.github.workflow": "Run automated tests, pipeline and deploy results to static reporting site",
     "pipeline.pipeline_run_id": "6eaadf4c-6dc3-4086-abe2-ccf34399bbad",
     "pipeline.run_environment": "ci",
     "run.retry_nr": "0",
     "task.max_nr_retries": "1",
     "task.notebook": "notebooks/benchmark-model.py",
     "task.nr_train_images": 1000,
     "task.num_cpus": 1,
     "task.timeout_s": "None"
    }
   },
   "start_time": "2022-07-07T14:12:40.081871",
   "version": "2.3.3"
  }
 },
 "nbformat": 4,
 "nbformat_minor": 5
}