{
 "cells": [
  {
   "cell_type": "markdown",
   "id": "efae223c",
   "metadata": {
    "papermill": {
     "duration": 0.007084,
     "end_time": "2022-07-07T14:12:38.122950",
     "exception": false,
     "start_time": "2022-07-07T14:12:38.115866",
     "status": "completed"
    },
    "tags": []
   },
   "source": [
    "# Benchmark model\n",
    "\n",
    "The purpose of this notebook is to benchmark persisted onnx-model (trained in the\n",
    "previous step) against evaluation set."
   ]
  },
  {
   "cell_type": "markdown",
   "id": "ec57bce6",
   "metadata": {
    "papermill": {
     "duration": 0.00367,
     "end_time": "2022-07-07T14:12:38.131319",
     "exception": false,
     "start_time": "2022-07-07T14:12:38.127649",
     "status": "completed"
    },
    "tags": []
   },
   "source": [
    "### Determine run parameters"
   ]
  },
  {
   "cell_type": "code",
   "execution_count": 1,
   "id": "e46c058c",
   "metadata": {
    "execution": {
     "iopub.execute_input": "2022-07-07T14:12:38.140619Z",
     "iopub.status.busy": "2022-07-07T14:12:38.140138Z",
     "iopub.status.idle": "2022-07-07T14:12:38.147779Z",
     "shell.execute_reply": "2022-07-07T14:12:38.147148Z"
    },
    "lines_to_next_cell": 0,
    "papermill": {
     "duration": 0.014655,
     "end_time": "2022-07-07T14:12:38.149484",
     "exception": false,
     "start_time": "2022-07-07T14:12:38.134829",
     "status": "completed"
    },
    "tags": []
   },
   "outputs": [],
   "source": [
    "# ----------------- Parameters for interactive development --------------\n",
    "P = {\n",
    "    \"pipeline.data_lake_root\": \"/pipeline-outputs/data-lake\",\n",
    "    \"task.nr_train_images\": 600,\n",
    "}"
   ]
  },
  {
   "cell_type": "code",
   "execution_count": 2,
   "id": "24c79784",
   "metadata": {
    "execution": {
     "iopub.execute_input": "2022-07-07T14:12:38.158370Z",
     "iopub.status.busy": "2022-07-07T14:12:38.157904Z",
     "iopub.status.idle": "2022-07-07T14:12:38.161040Z",
     "shell.execute_reply": "2022-07-07T14:12:38.160450Z"
    },
    "lines_to_next_cell": 0,
    "papermill": {
     "duration": 0.009191,
     "end_time": "2022-07-07T14:12:38.162430",
     "exception": false,
     "start_time": "2022-07-07T14:12:38.153239",
     "status": "completed"
    },
    "tags": [
     "parameters"
    ]
   },
   "outputs": [],
   "source": [
    "# - During automated runs parameters will be injected in the below cell -"
   ]
  },
  {
   "cell_type": "code",
   "execution_count": 3,
   "id": "3c1176ac",
   "metadata": {
    "execution": {
     "iopub.execute_input": "2022-07-07T14:12:38.171534Z",
     "iopub.status.busy": "2022-07-07T14:12:38.170952Z",
     "iopub.status.idle": "2022-07-07T14:12:38.175427Z",
     "shell.execute_reply": "2022-07-07T14:12:38.174868Z"
    },
    "papermill": {
     "duration": 0.010571,
     "end_time": "2022-07-07T14:12:38.177030",
     "exception": false,
     "start_time": "2022-07-07T14:12:38.166459",
     "status": "completed"
    },
    "tags": [
     "injected-parameters"
    ]
   },
   "outputs": [],
   "source": [
    "# Parameters\n",
    "P = {\n",
    "    \"pipeline.data_lake_root\": \"/pipeline-outputs/data-lake\",\n",
    "    \"pipeline.run_environment\": \"ci\",\n",
    "    \"pipeline.pipeline_run_id\": \"6eaadf4c-6dc3-4086-abe2-ccf34399bbad\",\n",
    "    \"pipeline.github.repository\": \"pynb-dag-runner/mnist-digits-demo-pipeline\",\n",
    "    \"pipeline.github.workflow\": \"Run automated tests, pipeline and deploy results to static reporting site\",\n",
    "    \"pipeline.github.runner_name\": \"GitHub Actions 3\",\n",
    "    \"pipeline.github.run_id\": \"2630106939\",\n",
    "    \"pipeline.github.actor\": \"matiasdahl\",\n",
    "    \"pipeline.github.job\": \"run-tests-pipeline-and-persist-pipeline-outputs\",\n",
    "    \"pipeline.github.base_ref\": \"development\",\n",
    "    \"pipeline.github.head_ref\": \"try-C-hyperparameter\",\n",
    "    \"pipeline.github.sha\": \"876109f37d9c7859966a244c1f8db39e7b4105e9\",\n",
    "    \"pipeline.github.ref\": \"refs/pull/55/merge\",\n",
    "    \"pipeline.github.ref_type\": \"branch\",\n",
    "    \"pipeline.github.ref_name\": \"55/merge\",\n",
    "    \"pipeline.github.event_name\": \"pull_request\",\n",
    "    \"task.nr_train_images\": 1200,\n",
    "    \"task.notebook\": \"notebooks/benchmark-model.py\",\n",
    "    \"task.max_nr_retries\": \"1\",\n",
    "    \"run.retry_nr\": \"0\",\n",
    "    \"task.timeout_s\": \"None\",\n",
    "    \"task.num_cpus\": 1,\n",
    "    \"_opentelemetry_traceparent\": \"00-c8ac85eb09f8b1780e10779b0e0e7464-9ef08635a98796dd-01\",\n",
    "}\n"
   ]
  },
  {
   "cell_type": "code",
   "execution_count": 4,
   "id": "da0356bb",
   "metadata": {
    "execution": {
     "iopub.execute_input": "2022-07-07T14:12:38.187274Z",
     "iopub.status.busy": "2022-07-07T14:12:38.187054Z",
     "iopub.status.idle": "2022-07-07T14:12:38.189802Z",
     "shell.execute_reply": "2022-07-07T14:12:38.189126Z"
    },
    "lines_to_next_cell": 0,
    "papermill": {
     "duration": 0.00923,
     "end_time": "2022-07-07T14:12:38.191232",
     "exception": false,
     "start_time": "2022-07-07T14:12:38.182002",
     "status": "completed"
    },
    "tags": []
   },
   "outputs": [],
   "source": [
    "# -----------------------------------------------------------------------"
   ]
  },
  {
   "cell_type": "markdown",
   "id": "8a18fc73",
   "metadata": {
    "papermill": {
     "duration": 0.004716,
     "end_time": "2022-07-07T14:12:38.199714",
     "exception": false,
     "start_time": "2022-07-07T14:12:38.194998",
     "status": "completed"
    },
    "tags": []
   },
   "source": [
    "---"
   ]
  },
  {
   "cell_type": "markdown",
   "id": "33c8da53",
   "metadata": {
    "lines_to_next_cell": 2,
    "papermill": {
     "duration": 0.004455,
     "end_time": "2022-07-07T14:12:38.207899",
     "exception": false,
     "start_time": "2022-07-07T14:12:38.203444",
     "status": "completed"
    },
    "tags": []
   },
   "source": [
    "### Notebook code"
   ]
  },
  {
   "cell_type": "code",
   "execution_count": 5,
   "id": "90d56876",
   "metadata": {
    "execution": {
     "iopub.execute_input": "2022-07-07T14:12:38.216574Z",
     "iopub.status.busy": "2022-07-07T14:12:38.216118Z",
     "iopub.status.idle": "2022-07-07T14:12:39.376772Z",
     "shell.execute_reply": "2022-07-07T14:12:39.375749Z"
    },
    "papermill": {
     "duration": 1.16732,
     "end_time": "2022-07-07T14:12:39.378875",
     "exception": false,
     "start_time": "2022-07-07T14:12:38.211555",
     "status": "completed"
    },
    "tags": []
   },
   "outputs": [
    {
     "name": "stderr",
     "output_type": "stream",
     "text": [
      "2022-07-07 14:12:39,200\tINFO worker.py:842 -- Connecting to existing Ray cluster at address: 172.17.0.2:6379\n"
     ]
    }
   ],
   "source": [
    "import itertools as it\n",
    "\n",
    "#\n",
    "import numpy as np\n",
    "import matplotlib.pyplot as plt\n",
    "\n",
    "#\n",
    "from pynb_dag_runner.tasks.task_opentelemetry_logging import PydarLogger\n",
    "\n",
    "#\n",
    "from common.io import datalake_root\n",
    "\n",
    "logger = PydarLogger(P)"
   ]
  },
  {
   "cell_type": "markdown",
   "id": "b8c88a9f",
   "metadata": {
    "papermill": {
     "duration": 0.004168,
     "end_time": "2022-07-07T14:12:39.388057",
     "exception": false,
     "start_time": "2022-07-07T14:12:39.383889",
     "status": "completed"
    },
    "tags": []
   },
   "source": [
    "## Load persisted onnx-model and evaluation data"
   ]
  },
  {
   "cell_type": "code",
   "execution_count": 6,
   "id": "24816e45",
   "metadata": {
    "execution": {
     "iopub.execute_input": "2022-07-07T14:12:39.397781Z",
     "iopub.status.busy": "2022-07-07T14:12:39.397235Z",
     "iopub.status.idle": "2022-07-07T14:12:39.401356Z",
     "shell.execute_reply": "2022-07-07T14:12:39.400639Z"
    },
    "papermill": {
     "duration": 0.010878,
     "end_time": "2022-07-07T14:12:39.403104",
     "exception": false,
     "start_time": "2022-07-07T14:12:39.392226",
     "status": "completed"
    },
    "tags": []
   },
   "outputs": [],
   "source": [
    "from common.io import read_onnx, get_onnx_inputs, get_onnx_outputs, read_numpy"
   ]
  },
  {
   "cell_type": "code",
   "execution_count": 7,
   "id": "52bfc331",
   "metadata": {
    "execution": {
     "iopub.execute_input": "2022-07-07T14:12:39.412850Z",
     "iopub.status.busy": "2022-07-07T14:12:39.412564Z",
     "iopub.status.idle": "2022-07-07T14:12:39.421905Z",
     "shell.execute_reply": "2022-07-07T14:12:39.421241Z"
    },
    "lines_to_next_cell": 0,
    "papermill": {
     "duration": 0.015992,
     "end_time": "2022-07-07T14:12:39.423325",
     "exception": false,
     "start_time": "2022-07-07T14:12:39.407333",
     "status": "completed"
    },
    "tags": []
   },
   "outputs": [],
   "source": [
    "onnx_inference_session = read_onnx(\n",
    "    datalake_root(P)\n",
    "    / \"models\"\n",
    "    / f\"nr_train_images={P['task.nr_train_images']}\"\n",
    "    / \"model.onnx\"\n",
    ")"
   ]
  },
  {
   "cell_type": "markdown",
   "id": "737a9ad2",
   "metadata": {
    "papermill": {
     "duration": 0.007679,
     "end_time": "2022-07-07T14:12:39.435878",
     "exception": false,
     "start_time": "2022-07-07T14:12:39.428199",
     "status": "completed"
    },
    "tags": []
   },
   "source": [
    "### Record structure of inputs and outputs for ONNX model\n",
    "\n",
    "(this should likely be done in training notebook)"
   ]
  },
  {
   "cell_type": "code",
   "execution_count": 8,
   "id": "f88a618d",
   "metadata": {
    "execution": {
     "iopub.execute_input": "2022-07-07T14:12:39.447037Z",
     "iopub.status.busy": "2022-07-07T14:12:39.446752Z",
     "iopub.status.idle": "2022-07-07T14:12:39.453786Z",
     "shell.execute_reply": "2022-07-07T14:12:39.453182Z"
    },
    "papermill": {
     "duration": 0.014165,
     "end_time": "2022-07-07T14:12:39.455235",
     "exception": false,
     "start_time": "2022-07-07T14:12:39.441070",
     "status": "completed"
    },
    "tags": []
   },
   "outputs": [
    {
     "name": "stdout",
     "output_type": "stream",
     "text": [
      "{\n",
      "  \"inputs\": [\n",
      "    {\n",
      "      \"name\": \"float_input_8x8_image\",\n",
      "      \"shape\": [\n",
      "        null,\n",
      "        64\n",
      "      ],\n",
      "      \"type\": \"tensor(float)\"\n",
      "    }\n",
      "  ],\n",
      "  \"outputs\": [\n",
      "    {\n",
      "      \"name\": \"output_label\",\n",
      "      \"shape\": [\n",
      "        null\n",
      "      ],\n",
      "      \"type\": \"tensor(int64)\"\n",
      "    },\n",
      "    {\n",
      "      \"name\": \"output_probability\",\n",
      "      \"shape\": [],\n",
      "      \"type\": \"seq(map(int64,tensor(float)))\"\n",
      "    }\n",
      "  ]\n",
      "}\n"
     ]
    }
   ],
   "source": [
    "import json\n",
    "\n",
    "onnx_io = json.dumps(\n",
    "    {\n",
    "        \"inputs\": get_onnx_inputs(onnx_inference_session),\n",
    "        \"outputs\": get_onnx_outputs(onnx_inference_session),\n",
    "    },\n",
    "    indent=2,\n",
    ")\n",
    "\n",
    "\n",
    "logger.log_artefact(\"onnx_io_structure.json\", onnx_io)\n",
    "print(onnx_io)"
   ]
  },
  {
   "cell_type": "markdown",
   "id": "bdae6c1a",
   "metadata": {
    "papermill": {
     "duration": 0.004231,
     "end_time": "2022-07-07T14:12:39.465367",
     "exception": false,
     "start_time": "2022-07-07T14:12:39.461136",
     "status": "completed"
    },
    "tags": []
   },
   "source": [
    "### Evaluate model performance on evaluation data set"
   ]
  },
  {
   "cell_type": "code",
   "execution_count": 9,
   "id": "21451acc",
   "metadata": {
    "execution": {
     "iopub.execute_input": "2022-07-07T14:12:39.475334Z",
     "iopub.status.busy": "2022-07-07T14:12:39.474593Z",
     "iopub.status.idle": "2022-07-07T14:12:39.479768Z",
     "shell.execute_reply": "2022-07-07T14:12:39.479209Z"
    },
    "papermill": {
     "duration": 0.012287,
     "end_time": "2022-07-07T14:12:39.481616",
     "exception": false,
     "start_time": "2022-07-07T14:12:39.469329",
     "status": "completed"
    },
    "tags": []
   },
   "outputs": [],
   "source": [
    "# load evaluation data\n",
    "X_test = read_numpy(datalake_root(P) / \"test-data\" / \"digits.numpy\")\n",
    "y_test = read_numpy(datalake_root(P) / \"test-data\" / \"labels.numpy\")"
   ]
  },
  {
   "cell_type": "code",
   "execution_count": 10,
   "id": "fa9fd6f1",
   "metadata": {
    "execution": {
     "iopub.execute_input": "2022-07-07T14:12:39.491324Z",
     "iopub.status.busy": "2022-07-07T14:12:39.491066Z",
     "iopub.status.idle": "2022-07-07T14:12:39.503934Z",
     "shell.execute_reply": "2022-07-07T14:12:39.503374Z"
    },
    "papermill": {
     "duration": 0.019533,
     "end_time": "2022-07-07T14:12:39.505588",
     "exception": false,
     "start_time": "2022-07-07T14:12:39.486055",
     "status": "completed"
    },
    "tags": []
   },
   "outputs": [],
   "source": [
    "def get_model_outputs(X, onnx_inference_session):\n",
    "    y_pred_labels, y_pred_map = onnx_inference_session.run(\n",
    "        [\"output_label\", \"output_probability\"],\n",
    "        {\"float_input_8x8_image\": X.astype(np.float32)},\n",
    "    )\n",
    "    y_pred_probs = np.array(\n",
    "        [[probabilities[digit] for digit in range(10)] for probabilities in y_pred_map]\n",
    "    )\n",
    "\n",
    "    assert y_pred_labels.shape == (X.shape[0],)\n",
    "    assert y_pred_probs.shape == (X.shape[0], 10)\n",
    "\n",
    "    return y_pred_labels, y_pred_probs\n",
    "\n",
    "\n",
    "# Note: as shown in the training notebook, the predicted labels and probabilities\n",
    "# computed below need not be compatible.\n",
    "y_pred_labels_test, y_pred_probs_test = get_model_outputs(\n",
    "    X_test, onnx_inference_session\n",
    ")"
   ]
  },
  {
   "cell_type": "markdown",
   "id": "d7e9049a",
   "metadata": {
    "papermill": {
     "duration": 0.004091,
     "end_time": "2022-07-07T14:12:39.514236",
     "exception": false,
     "start_time": "2022-07-07T14:12:39.510145",
     "status": "completed"
    },
    "tags": []
   },
   "source": [
    "### Confusion matrix"
   ]
  },
  {
   "cell_type": "code",
   "execution_count": 11,
   "id": "3accde35",
   "metadata": {
    "execution": {
     "iopub.execute_input": "2022-07-07T14:12:39.523872Z",
     "iopub.status.busy": "2022-07-07T14:12:39.523591Z",
     "iopub.status.idle": "2022-07-07T14:12:39.527051Z",
     "shell.execute_reply": "2022-07-07T14:12:39.526070Z"
    },
    "papermill": {
     "duration": 0.010898,
     "end_time": "2022-07-07T14:12:39.529547",
     "exception": false,
     "start_time": "2022-07-07T14:12:39.518649",
     "status": "completed"
    },
    "tags": []
   },
   "outputs": [],
   "source": [
    "# TODO"
   ]
  },
  {
   "cell_type": "markdown",
   "id": "2d5bee69",
   "metadata": {
    "papermill": {
     "duration": 0.004417,
     "end_time": "2022-07-07T14:12:39.539475",
     "exception": false,
     "start_time": "2022-07-07T14:12:39.535058",
     "status": "completed"
    },
    "tags": []
   },
   "source": [
    "### Plot predicted probabilities for each classifier over all evaluation digit images"
   ]
  },
  {
   "cell_type": "code",
   "execution_count": 12,
   "id": "f0bdfadc",
   "metadata": {
    "execution": {
     "iopub.execute_input": "2022-07-07T14:12:39.549399Z",
     "iopub.status.busy": "2022-07-07T14:12:39.549137Z",
     "iopub.status.idle": "2022-07-07T14:12:42.818782Z",
     "shell.execute_reply": "2022-07-07T14:12:42.815732Z"
    },
    "papermill": {
     "duration": 3.277032,
     "end_time": "2022-07-07T14:12:42.820593",
     "exception": false,
     "start_time": "2022-07-07T14:12:39.543561",
     "status": "completed"
    },
    "tags": []
   },
   "outputs": [
    {
     "data": {
      "image/png": "[encoded data removed]",
      "text/plain": [
       "<Figure size 1152x432 with 10 Axes>"
      ]
     },
     "metadata": {
      "needs_background": "light"
     },
     "output_type": "display_data"
    }
   ],
   "source": [
    "def plot_per_digit_probabilities(y_pred_probs):\n",
    "    fig, axs = plt.subplots(nrows=2, ncols=5, figsize=(16, 6))\n",
    "\n",
    "    for (r, c), digit, ax in zip(\n",
    "        it.product(range(2), range(5)), range(10), axs.reshape(-1)\n",
    "    ):\n",
    "        ax.hist(y_pred_probs_test[:, digit], bins=20)\n",
    "\n",
    "        ax.set_title(f\"Digit {digit}\")\n",
    "        if r == 1 and c == 2:\n",
    "            ax.set_xlabel(\"probability\", fontsize=16)\n",
    "\n",
    "        if c == 0:\n",
    "            ax.set_ylabel(\"counts\", fontsize=16)\n",
    "        ax.set_yscale(\"log\")\n",
    "\n",
    "    fig.tight_layout()\n",
    "    fig.suptitle(\n",
    "        f\"Distributions of prediction probabilities for each digit \"\n",
    "        f\"(on evaluation data, n={y_pred_probs.shape[0]})\",\n",
    "        fontsize=20,\n",
    "    )\n",
    "    fig.tight_layout()\n",
    "    fig.show()\n",
    "\n",
    "    return fig\n",
    "\n",
    "\n",
    "fig = plot_per_digit_probabilities(y_pred_probs_test)"
   ]
  },
  {
   "cell_type": "markdown",
   "id": "d4cd16db",
   "metadata": {
    "papermill": {
     "duration": 0.010111,
     "end_time": "2022-07-07T14:12:42.836273",
     "exception": false,
     "start_time": "2022-07-07T14:12:42.826162",
     "status": "completed"
    },
    "tags": []
   },
   "source": [
    "From the above distributions we see that most digits have clear separation between\n",
    "high and lower probabilities. Morover, in each case there is roughly an order of\n",
    "magnitude more of digits with low probabilities. This is compatible with digits\n",
    "being roughly evenly distributed in the data."
   ]
  },
  {
   "cell_type": "code",
   "execution_count": 13,
   "id": "ba974609",
   "metadata": {
    "execution": {
     "iopub.execute_input": "2022-07-07T14:12:42.853874Z",
     "iopub.status.busy": "2022-07-07T14:12:42.853179Z",
     "iopub.status.idle": "2022-07-07T14:12:43.277849Z",
     "shell.execute_reply": "2022-07-07T14:12:43.277235Z"
    },
    "papermill": {
     "duration": 0.434115,
     "end_time": "2022-07-07T14:12:43.279960",
     "exception": false,
     "start_time": "2022-07-07T14:12:42.845845",
     "status": "completed"
    },
    "tags": []
   },
   "outputs": [],
   "source": [
    "logger.log_figure(\"per-digit-probabilities.png\", fig)"
   ]
  },
  {
   "cell_type": "markdown",
   "id": "43a6528e",
   "metadata": {
    "papermill": {
     "duration": 0.005776,
     "end_time": "2022-07-07T14:12:43.290613",
     "exception": false,
     "start_time": "2022-07-07T14:12:43.284837",
     "status": "completed"
    },
    "tags": []
   },
   "source": [
    "### Plot ROC curves for individual one-vs-rest classifiers"
   ]
  },
  {
   "cell_type": "code",
   "execution_count": 14,
   "id": "4aaf0688",
   "metadata": {
    "execution": {
     "iopub.execute_input": "2022-07-07T14:12:43.302097Z",
     "iopub.status.busy": "2022-07-07T14:12:43.301815Z",
     "iopub.status.idle": "2022-07-07T14:12:43.687750Z",
     "shell.execute_reply": "2022-07-07T14:12:43.687112Z"
    },
    "papermill": {
     "duration": 0.393827,
     "end_time": "2022-07-07T14:12:43.689775",
     "exception": false,
     "start_time": "2022-07-07T14:12:43.295948",
     "status": "completed"
    },
    "tags": []
   },
   "outputs": [],
   "source": [
    "from sklearn import metrics"
   ]
  },
  {
   "cell_type": "code",
   "execution_count": 15,
   "id": "06362e1a",
   "metadata": {
    "execution": {
     "iopub.execute_input": "2022-07-07T14:12:43.701708Z",
     "iopub.status.busy": "2022-07-07T14:12:43.701429Z",
     "iopub.status.idle": "2022-07-07T14:12:44.761438Z",
     "shell.execute_reply": "2022-07-07T14:12:44.760759Z"
    },
    "papermill": {
     "duration": 1.068743,
     "end_time": "2022-07-07T14:12:44.764191",
     "exception": false,
     "start_time": "2022-07-07T14:12:43.695448",
     "status": "completed"
    },
    "tags": []
   },
   "outputs": [
    {
     "data": {
      "image/png": "[encoded data removed]",
      "text/plain": [
       "<Figure size 1152x576 with 10 Axes>"
      ]
     },
     "metadata": {
      "needs_background": "light"
     },
     "output_type": "display_data"
    }
   ],
   "source": [
    "def plot_roc_curves(y, y_pred_probs):\n",
    "    # based on example code\n",
    "    # https://scikit-learn.org/stable/auto_examples/model_selection/plot_roc.html\n",
    "\n",
    "    fig, axs = plt.subplots(nrows=2, ncols=5, figsize=(16, 8))\n",
    "\n",
    "    roc_auc_dict = {}\n",
    "\n",
    "    for (r, c), digit, ax in zip(\n",
    "        it.product(range(2), range(5)), range(10), axs.reshape(-1)\n",
    "    ):\n",
    "        fpr, tpr, _ = metrics.roc_curve(y == digit, y_pred_probs[:, digit])\n",
    "        auc = metrics.auc(fpr, tpr)\n",
    "        roc_auc_dict[str(digit)] = auc\n",
    "\n",
    "        ax.plot(fpr, tpr, label=f\"ROC AUC={round(auc, 3)}\")\n",
    "\n",
    "        ax.set_title(f\"\\nDigit {digit}\", fontsize=16)\n",
    "        if r == 1:\n",
    "            ax.set_xlabel(\"FPR\", fontsize=18)\n",
    "\n",
    "        if c == 0:\n",
    "            ax.set_ylabel(\"TPR\", fontsize=18)\n",
    "\n",
    "        ax.set_xlim([-0.05, 1.05])\n",
    "        ax.set_ylim([-0.05, 1.05])\n",
    "        ax.legend(loc=\"lower right\", frameon=False, fontsize=14)\n",
    "\n",
    "    fig.tight_layout()\n",
    "    fig.suptitle(\n",
    "        f\"ROC plots for one-vs-rest performances \"\n",
    "        f\"(on evaluation data, n={y_pred_probs_test.shape[1]}\",\n",
    "        fontsize=22,\n",
    "    )\n",
    "    fig.tight_layout()\n",
    "    fig.show()\n",
    "\n",
    "    return roc_auc_dict, fig\n",
    "\n",
    "\n",
    "roc_auc_dict, fig = plot_roc_curves(y_test, y_pred_probs_test)"
   ]
  },
  {
   "cell_type": "code",
   "execution_count": 16,
   "id": "d006e53c",
   "metadata": {
    "execution": {
     "iopub.execute_input": "2022-07-07T14:12:44.781193Z",
     "iopub.status.busy": "2022-07-07T14:12:44.780893Z",
     "iopub.status.idle": "2022-07-07T14:12:45.014487Z",
     "shell.execute_reply": "2022-07-07T14:12:45.013703Z"
    },
    "papermill": {
     "duration": 0.242305,
     "end_time": "2022-07-07T14:12:45.016716",
     "exception": false,
     "start_time": "2022-07-07T14:12:44.774411",
     "status": "completed"
    },
    "tags": []
   },
   "outputs": [],
   "source": [
    "logger.log_figure(\"per-digit-roc-curves.png\", fig)"
   ]
  },
  {
   "cell_type": "code",
   "execution_count": 17,
   "id": "bf357ec1",
   "metadata": {
    "execution": {
     "iopub.execute_input": "2022-07-07T14:12:45.030483Z",
     "iopub.status.busy": "2022-07-07T14:12:45.029970Z",
     "iopub.status.idle": "2022-07-07T14:12:45.034973Z",
     "shell.execute_reply": "2022-07-07T14:12:45.034244Z"
    },
    "papermill": {
     "duration": 0.014671,
     "end_time": "2022-07-07T14:12:45.037802",
     "exception": false,
     "start_time": "2022-07-07T14:12:45.023131",
     "status": "completed"
    },
    "tags": []
   },
   "outputs": [
    {
     "data": {
      "text/plain": [
       "{'0': 1.0,\n",
       " '1': 0.998950328022493,\n",
       " '2': 1.0,\n",
       " '3': 0.9997375820056232,\n",
       " '4': 1.0,\n",
       " '5': 0.9993626991565135,\n",
       " '6': 0.999961896052431,\n",
       " '7': 0.9998094802621552,\n",
       " '8': 0.9936948297604036,\n",
       " '9': 0.9992379210486206}"
      ]
     },
     "execution_count": 17,
     "metadata": {},
     "output_type": "execute_result"
    }
   ],
   "source": [
    "roc_auc_dict"
   ]
  },
  {
   "cell_type": "code",
   "execution_count": 18,
   "id": "59bbdf58",
   "metadata": {
    "execution": {
     "iopub.execute_input": "2022-07-07T14:12:45.050970Z",
     "iopub.status.busy": "2022-07-07T14:12:45.050515Z",
     "iopub.status.idle": "2022-07-07T14:12:45.054840Z",
     "shell.execute_reply": "2022-07-07T14:12:45.054138Z"
    },
    "papermill": {
     "duration": 0.014247,
     "end_time": "2022-07-07T14:12:45.058007",
     "exception": false,
     "start_time": "2022-07-07T14:12:45.043760",
     "status": "completed"
    },
    "tags": []
   },
   "outputs": [
    {
     "name": "stdout",
     "output_type": "stream",
     "text": [
      " - Logging roc_auc_per_digit (json) : {'0': 1.0, '1': 0.998950328022493, '2': 1.0, '3': 0.9997375820056232, '4': 1.0, '5': 0.9993626991565135, '6': 0.999961896052431, '7': 0.9998094802621552, '8': 0.9936948297604036, '9': 0.9992379210486206}\n"
     ]
    }
   ],
   "source": [
    "logger.log_value(\"roc_auc_per_digit\", roc_auc_dict)"
   ]
  },
  {
   "cell_type": "markdown",
   "id": "7fc5e01c",
   "metadata": {
    "papermill": {
     "duration": 0.005904,
     "end_time": "2022-07-07T14:12:45.075357",
     "exception": false,
     "start_time": "2022-07-07T14:12:45.069453",
     "status": "completed"
    },
    "tags": []
   },
   "source": [
    "### Compute and log mean ROC AUC score averaged over all digits"
   ]
  },
  {
   "cell_type": "code",
   "execution_count": 19,
   "id": "4a04c84e",
   "metadata": {
    "execution": {
     "iopub.execute_input": "2022-07-07T14:12:45.091187Z",
     "iopub.status.busy": "2022-07-07T14:12:45.090792Z",
     "iopub.status.idle": "2022-07-07T14:12:45.105735Z",
     "shell.execute_reply": "2022-07-07T14:12:45.105034Z"
    },
    "papermill": {
     "duration": 0.026569,
     "end_time": "2022-07-07T14:12:45.108216",
     "exception": false,
     "start_time": "2022-07-07T14:12:45.081647",
     "status": "completed"
    },
    "tags": []
   },
   "outputs": [
    {
     "name": "stdout",
     "output_type": "stream",
     "text": [
      " - Logging roc_auc_class_mean (float) : 0.9990754736308242\n"
     ]
    }
   ],
   "source": [
    "roc_auc_macro = np.mean(list(roc_auc_dict.values()))\n",
    "\n",
    "logger.log_float(\"roc_auc_class_mean\", roc_auc_macro)\n",
    "\n",
    "# assert that the same value can be computed directly using sklearn\n",
    "assert roc_auc_macro == metrics.roc_auc_score(\n",
    "    y_test, y_pred_probs_test, average=\"macro\", multi_class=\"ovr\"\n",
    ")"
   ]
  },
  {
   "cell_type": "code",
   "execution_count": 20,
   "id": "a46698d2",
   "metadata": {
    "execution": {
     "iopub.execute_input": "2022-07-07T14:12:45.123456Z",
     "iopub.status.busy": "2022-07-07T14:12:45.123090Z",
     "iopub.status.idle": "2022-07-07T14:12:45.126444Z",
     "shell.execute_reply": "2022-07-07T14:12:45.125735Z"
    },
    "lines_to_next_cell": 0,
    "papermill": {
     "duration": 0.013283,
     "end_time": "2022-07-07T14:12:45.128605",
     "exception": false,
     "start_time": "2022-07-07T14:12:45.115322",
     "status": "completed"
    },
    "tags": []
   },
   "outputs": [],
   "source": [
    "# ---"
   ]
  },
  {
   "cell_type": "code",
   "execution_count": null,
   "id": "061090a6",
   "metadata": {
    "papermill": {
     "duration": 0.006027,
     "end_time": "2022-07-07T14:12:45.140955",
     "exception": false,
     "start_time": "2022-07-07T14:12:45.134928",
     "status": "completed"
    },
    "tags": []
   },
   "outputs": [],
   "source": []
  }
 ],
 "metadata": {
  "jupytext": {
   "cell_metadata_filter": "tags,-all",
   "main_language": "python",
   "notebook_metadata_filter": "-all"
  },
  "language_info": {
   "codemirror_mode": {
    "name": "ipython",
    "version": 3
   },
   "file_extension": ".py",
   "mimetype": "text/x-python",
   "name": "python",
   "nbconvert_exporter": "python",
   "pygments_lexer": "ipython3",
   "version": "3.8.10"
  },
  "papermill": {
   "default_parameters": {},
   "duration": 9.526173,
   "end_time": "2022-07-07T14:12:46.166115",
   "environment_variables": {},
   "exception": null,
   "input_path": "/home/host_user/workspace/mnist-demo-pipeline/mnist-demo-pipeline/notebooks/temp-notebook-bpsy2iua.ipynb",
   "output_path": "notebooks/benchmark-model.ipynb",
   "parameters": {
    "P": {
     "_opentelemetry_traceparent": "00-c8ac85eb09f8b1780e10779b0e0e7464-9ef08635a98796dd-01",
     "pipeline.data_lake_root": "/pipeline-outputs/data-lake",
     "pipeline.github.actor": "matiasdahl",
     "pipeline.github.base_ref": "development",
     "pipeline.github.event_name": "pull_request",
     "pipeline.github.head_ref": "try-C-hyperparameter",
     "pipeline.github.job": "run-tests-pipeline-and-persist-pipeline-outputs",
     "pipeline.github.ref": "refs/pull/55/merge",
     "pipeline.github.ref_name": "55/merge",
     "pipeline.github.ref_type": "branch",
     "pipeline.github.repository": "pynb-dag-runner/mnist-digits-demo-pipeline",
     "pipeline.github.run_id": "2630106939",
     "pipeline.github.runner_name": "GitHub Actions 3",
     "pipeline.github.sha": "876109f37d9c7859966a244c1f8db39e7b4105e9",
     "pipeline.github.workflow": "Run automated tests, pipeline and deploy results to static reporting site",
     "pipeline.pipeline_run_id": "6eaadf4c-6dc3-4086-abe2-ccf34399bbad",
     "pipeline.run_environment": "ci",
     "run.retry_nr": "0",
     "task.max_nr_retries": "1",
     "task.notebook": "notebooks/benchmark-model.py",
     "task.nr_train_images": 1200,
     "task.num_cpus": 1,
     "task.timeout_s": "None"
    }
   },
   "start_time": "2022-07-07T14:12:36.639942",
   "version": "2.3.3"
  }
 },
 "nbformat": 4,
 "nbformat_minor": 5
}