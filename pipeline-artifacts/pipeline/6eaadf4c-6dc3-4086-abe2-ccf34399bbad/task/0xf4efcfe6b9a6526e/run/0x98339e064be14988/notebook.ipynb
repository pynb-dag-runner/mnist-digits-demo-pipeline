{
 "cells": [
  {
   "cell_type": "markdown",
   "id": "433d2335",
   "metadata": {
    "papermill": {
     "duration": 0.003734,
     "end_time": "2022-07-07T14:13:02.541308",
     "exception": false,
     "start_time": "2022-07-07T14:13:02.537574",
     "status": "completed"
    },
    "tags": []
   },
   "source": [
    "# Summarize model performances\n",
    "\n",
    "This notebooks plots the performances (using averaged ROC AUC scores) for models\n",
    "trained with different training sets."
   ]
  },
  {
   "cell_type": "markdown",
   "id": "4a3a5359",
   "metadata": {
    "papermill": {
     "duration": 0.002327,
     "end_time": "2022-07-07T14:13:02.546480",
     "exception": false,
     "start_time": "2022-07-07T14:13:02.544153",
     "status": "completed"
    },
    "tags": []
   },
   "source": [
    "### Determine run parameters"
   ]
  },
  {
   "cell_type": "code",
   "execution_count": 1,
   "id": "e103f48e",
   "metadata": {
    "execution": {
     "iopub.execute_input": "2022-07-07T14:13:02.553502Z",
     "iopub.status.busy": "2022-07-07T14:13:02.552831Z",
     "iopub.status.idle": "2022-07-07T14:13:02.560322Z",
     "shell.execute_reply": "2022-07-07T14:13:02.559755Z"
    },
    "lines_to_next_cell": 0,
    "papermill": {
     "duration": 0.012481,
     "end_time": "2022-07-07T14:13:02.561782",
     "exception": false,
     "start_time": "2022-07-07T14:13:02.549301",
     "status": "completed"
    },
    "tags": []
   },
   "outputs": [],
   "source": [
    "# ----------------- Parameters for interactive development --------------\n",
    "P = {\n",
    "    \"pipeline.run_environment\": \"dev\",\n",
    "}"
   ]
  },
  {
   "cell_type": "code",
   "execution_count": 2,
   "id": "c25e4e2c",
   "metadata": {
    "execution": {
     "iopub.execute_input": "2022-07-07T14:13:02.568258Z",
     "iopub.status.busy": "2022-07-07T14:13:02.567791Z",
     "iopub.status.idle": "2022-07-07T14:13:02.570905Z",
     "shell.execute_reply": "2022-07-07T14:13:02.570352Z"
    },
    "lines_to_next_cell": 0,
    "papermill": {
     "duration": 0.007973,
     "end_time": "2022-07-07T14:13:02.572302",
     "exception": false,
     "start_time": "2022-07-07T14:13:02.564329",
     "status": "completed"
    },
    "tags": [
     "parameters"
    ]
   },
   "outputs": [],
   "source": [
    "# - During automated runs parameters will be injected in the below cell -"
   ]
  },
  {
   "cell_type": "code",
   "execution_count": 3,
   "id": "2555b343",
   "metadata": {
    "execution": {
     "iopub.execute_input": "2022-07-07T14:13:02.578661Z",
     "iopub.status.busy": "2022-07-07T14:13:02.578003Z",
     "iopub.status.idle": "2022-07-07T14:13:02.582521Z",
     "shell.execute_reply": "2022-07-07T14:13:02.582000Z"
    },
    "papermill": {
     "duration": 0.009173,
     "end_time": "2022-07-07T14:13:02.583834",
     "exception": false,
     "start_time": "2022-07-07T14:13:02.574661",
     "status": "completed"
    },
    "tags": [
     "injected-parameters"
    ]
   },
   "outputs": [],
   "source": [
    "# Parameters\n",
    "P = {\n",
    "    \"pipeline.data_lake_root\": \"/pipeline-outputs/data-lake\",\n",
    "    \"pipeline.run_environment\": \"ci\",\n",
    "    \"pipeline.pipeline_run_id\": \"6eaadf4c-6dc3-4086-abe2-ccf34399bbad\",\n",
    "    \"pipeline.github.repository\": \"pynb-dag-runner/mnist-digits-demo-pipeline\",\n",
    "    \"pipeline.github.workflow\": \"Run automated tests, pipeline and deploy results to static reporting site\",\n",
    "    \"pipeline.github.runner_name\": \"GitHub Actions 3\",\n",
    "    \"pipeline.github.run_id\": \"2630106939\",\n",
    "    \"pipeline.github.actor\": \"matiasdahl\",\n",
    "    \"pipeline.github.job\": \"run-tests-pipeline-and-persist-pipeline-outputs\",\n",
    "    \"pipeline.github.base_ref\": \"development\",\n",
    "    \"pipeline.github.head_ref\": \"try-C-hyperparameter\",\n",
    "    \"pipeline.github.sha\": \"876109f37d9c7859966a244c1f8db39e7b4105e9\",\n",
    "    \"pipeline.github.ref\": \"refs/pull/55/merge\",\n",
    "    \"pipeline.github.ref_type\": \"branch\",\n",
    "    \"pipeline.github.ref_name\": \"55/merge\",\n",
    "    \"pipeline.github.event_name\": \"pull_request\",\n",
    "    \"task.notebook\": \"notebooks/summary.py\",\n",
    "    \"task.max_nr_retries\": \"1\",\n",
    "    \"run.retry_nr\": \"0\",\n",
    "    \"task.timeout_s\": \"None\",\n",
    "    \"task.num_cpus\": 1,\n",
    "    \"_opentelemetry_traceparent\": \"00-c8ac85eb09f8b1780e10779b0e0e7464-281d85c1ea6d4e04-01\",\n",
    "}\n"
   ]
  },
  {
   "cell_type": "code",
   "execution_count": 4,
   "id": "0b73b0ca",
   "metadata": {
    "execution": {
     "iopub.execute_input": "2022-07-07T14:13:02.590249Z",
     "iopub.status.busy": "2022-07-07T14:13:02.589674Z",
     "iopub.status.idle": "2022-07-07T14:13:02.592515Z",
     "shell.execute_reply": "2022-07-07T14:13:02.591988Z"
    },
    "lines_to_next_cell": 0,
    "papermill": {
     "duration": 0.007499,
     "end_time": "2022-07-07T14:13:02.593869",
     "exception": false,
     "start_time": "2022-07-07T14:13:02.586370",
     "status": "completed"
    },
    "tags": []
   },
   "outputs": [],
   "source": [
    "# -----------------------------------------------------------------------"
   ]
  },
  {
   "cell_type": "markdown",
   "id": "aa88f6a7",
   "metadata": {
    "papermill": {
     "duration": 0.002681,
     "end_time": "2022-07-07T14:13:02.599024",
     "exception": false,
     "start_time": "2022-07-07T14:13:02.596343",
     "status": "completed"
    },
    "tags": []
   },
   "source": [
    "---"
   ]
  },
  {
   "cell_type": "markdown",
   "id": "b4a75f6d",
   "metadata": {
    "lines_to_next_cell": 2,
    "papermill": {
     "duration": 0.00238,
     "end_time": "2022-07-07T14:13:02.603836",
     "exception": false,
     "start_time": "2022-07-07T14:13:02.601456",
     "status": "completed"
    },
    "tags": []
   },
   "source": [
    "### Notebook code"
   ]
  },
  {
   "cell_type": "code",
   "execution_count": 5,
   "id": "a5887388",
   "metadata": {
    "execution": {
     "iopub.execute_input": "2022-07-07T14:13:02.610903Z",
     "iopub.status.busy": "2022-07-07T14:13:02.610542Z",
     "iopub.status.idle": "2022-07-07T14:13:03.719019Z",
     "shell.execute_reply": "2022-07-07T14:13:03.718311Z"
    },
    "papermill": {
     "duration": 1.114659,
     "end_time": "2022-07-07T14:13:03.720837",
     "exception": false,
     "start_time": "2022-07-07T14:13:02.606178",
     "status": "completed"
    },
    "tags": []
   },
   "outputs": [],
   "source": [
    "#\n",
    "import pandas as pd\n",
    "import matplotlib.pyplot as plt\n",
    "\n",
    "#\n",
    "from pynb_dag_runner.tasks.task_opentelemetry_logging import PydarLogger"
   ]
  },
  {
   "cell_type": "code",
   "execution_count": 6,
   "id": "670735f9",
   "metadata": {
    "execution": {
     "iopub.execute_input": "2022-07-07T14:13:03.728158Z",
     "iopub.status.busy": "2022-07-07T14:13:03.727662Z",
     "iopub.status.idle": "2022-07-07T14:13:03.888953Z",
     "shell.execute_reply": "2022-07-07T14:13:03.887010Z"
    },
    "papermill": {
     "duration": 0.167016,
     "end_time": "2022-07-07T14:13:03.890786",
     "exception": false,
     "start_time": "2022-07-07T14:13:03.723770",
     "status": "completed"
    },
    "tags": []
   },
   "outputs": [
    {
     "name": "stderr",
     "output_type": "stream",
     "text": [
      "2022-07-07 14:13:03,733\tINFO worker.py:842 -- Connecting to existing Ray cluster at address: 172.17.0.2:6379\n"
     ]
    }
   ],
   "source": [
    "logger = PydarLogger(P=P)"
   ]
  },
  {
   "cell_type": "code",
   "execution_count": 7,
   "id": "fdaffe58",
   "metadata": {
    "execution": {
     "iopub.execute_input": "2022-07-07T14:13:03.898109Z",
     "iopub.status.busy": "2022-07-07T14:13:03.897371Z",
     "iopub.status.idle": "2022-07-07T14:13:03.901339Z",
     "shell.execute_reply": "2022-07-07T14:13:03.900730Z"
    },
    "papermill": {
     "duration": 0.00925,
     "end_time": "2022-07-07T14:13:03.902926",
     "exception": false,
     "start_time": "2022-07-07T14:13:03.893676",
     "status": "completed"
    },
    "tags": []
   },
   "outputs": [],
   "source": [
    "from pynb_dag_runner.tasks.task_opentelemetry_logging import (\n",
    "    PydarLogger,\n",
    "    get_logged_values,\n",
    ")\n",
    "from pynb_dag_runner.opentelemetry_helpers import _get_all_spans, Spans"
   ]
  },
  {
   "cell_type": "code",
   "execution_count": 8,
   "id": "41a7e880",
   "metadata": {
    "execution": {
     "iopub.execute_input": "2022-07-07T14:13:03.910422Z",
     "iopub.status.busy": "2022-07-07T14:13:03.909862Z",
     "iopub.status.idle": "2022-07-07T14:13:03.916659Z",
     "shell.execute_reply": "2022-07-07T14:13:03.916030Z"
    },
    "papermill": {
     "duration": 0.012682,
     "end_time": "2022-07-07T14:13:03.918364",
     "exception": false,
     "start_time": "2022-07-07T14:13:03.905682",
     "status": "completed"
    },
    "tags": []
   },
   "outputs": [],
   "source": [
    "def get_model_benchmarks():\n",
    "    \"\"\"\n",
    "    Query the OpenTelemetry logs for *this pipeline run* and return\n",
    "    all key-values logged from all runs of the benchmark-model.py task\n",
    "\n",
    "    For testing a json file with OpenTelemetry spans (as an array)\n",
    "    can be used as follows:\n",
    "\n",
    "    - Create output directory `mkdir /tmp/spans`\n",
    "    - Run unit tests. This will create pipeline-outputs/opentelemetry-spans.json\n",
    "    - Convert this json-array into jsonl format as follows\n",
    "\n",
    "    jq -c '.[]' /pipeline-outputs/opentelemetry-spans.json > /tmp/spans/data.txt\n",
    "\n",
    "    \"\"\"\n",
    "    spans: Spans = Spans(_get_all_spans())\n",
    "    print(f\"Found {len(spans)} spans\")\n",
    "\n",
    "    benchmark_spans = (\n",
    "        spans\n",
    "        # -\n",
    "        .filter([\"name\"], \"execute-task\")\n",
    "        # -\n",
    "        .filter([\"attributes\", \"task.notebook\"], \"notebooks/benchmark-model.py\")\n",
    "    )\n",
    "\n",
    "    result = []\n",
    "    for s in benchmark_spans:\n",
    "        result.append(\n",
    "            {\n",
    "                \"span_id\": s[\"context\"][\"span_id\"],\n",
    "                \"nr_train_images\": s[\"attributes\"][\"task.nr_train_images\"],\n",
    "                \"data\": get_logged_values(spans.bound_under(s)),\n",
    "            }\n",
    "        )\n",
    "\n",
    "    return result\n",
    "\n",
    "\n",
    "def adjust_pandas(df):\n",
    "    def column_renamer(col_name: str) -> str:\n",
    "        return (\n",
    "            col_name\n",
    "            # -- 'data.roc_auc_per_digit.4' -> 'roc_auc.4'\n",
    "            .replace(\"data.roc_auc_per_digit\", \"roc_auc\")\n",
    "            # -- 'data.roc_auc_class_mean' -> 'roc_auc_mean'\n",
    "            .replace(\"data.roc_auc_class_mean\", \"roc_auc_mean\")\n",
    "        )\n",
    "\n",
    "    return df.rename(column_renamer, axis=\"columns\").sort_values(by=\"nr_train_images\")"
   ]
  },
  {
   "cell_type": "code",
   "execution_count": 9,
   "id": "64151acc",
   "metadata": {
    "execution": {
     "iopub.execute_input": "2022-07-07T14:13:03.925260Z",
     "iopub.status.busy": "2022-07-07T14:13:03.924802Z",
     "iopub.status.idle": "2022-07-07T14:13:24.679438Z",
     "shell.execute_reply": "2022-07-07T14:13:24.678803Z"
    },
    "papermill": {
     "duration": 20.759929,
     "end_time": "2022-07-07T14:13:24.681273",
     "exception": false,
     "start_time": "2022-07-07T14:13:03.921344",
     "status": "completed"
    },
    "tags": []
   },
   "outputs": [
    {
     "name": "stdout",
     "output_type": "stream",
     "text": [
      "Found 423 spans\n"
     ]
    }
   ],
   "source": [
    "df_data = adjust_pandas(pd.json_normalize(get_model_benchmarks()))"
   ]
  },
  {
   "cell_type": "code",
   "execution_count": 10,
   "id": "5f0a084d",
   "metadata": {
    "execution": {
     "iopub.execute_input": "2022-07-07T14:13:24.690196Z",
     "iopub.status.busy": "2022-07-07T14:13:24.689811Z",
     "iopub.status.idle": "2022-07-07T14:13:24.713924Z",
     "shell.execute_reply": "2022-07-07T14:13:24.713009Z"
    },
    "papermill": {
     "duration": 0.029952,
     "end_time": "2022-07-07T14:13:24.715988",
     "exception": false,
     "start_time": "2022-07-07T14:13:24.686036",
     "status": "completed"
    },
    "tags": []
   },
   "outputs": [
    {
     "data": {
      "text/html": [
       "<div>\n",
       "<style scoped>\n",
       "    .dataframe tbody tr th:only-of-type {\n",
       "        vertical-align: middle;\n",
       "    }\n",
       "\n",
       "    .dataframe tbody tr th {\n",
       "        vertical-align: top;\n",
       "    }\n",
       "\n",
       "    .dataframe thead th {\n",
       "        text-align: right;\n",
       "    }\n",
       "</style>\n",
       "<table border=\"1\" class=\"dataframe\">\n",
       "  <thead>\n",
       "    <tr style=\"text-align: right;\">\n",
       "      <th></th>\n",
       "      <th>span_id</th>\n",
       "      <th>nr_train_images</th>\n",
       "      <th>roc_auc_mean</th>\n",
       "      <th>roc_auc.0</th>\n",
       "      <th>roc_auc.1</th>\n",
       "      <th>roc_auc.2</th>\n",
       "      <th>roc_auc.3</th>\n",
       "      <th>roc_auc.4</th>\n",
       "      <th>roc_auc.5</th>\n",
       "      <th>roc_auc.6</th>\n",
       "      <th>roc_auc.7</th>\n",
       "      <th>roc_auc.8</th>\n",
       "      <th>roc_auc.9</th>\n",
       "    </tr>\n",
       "  </thead>\n",
       "  <tbody>\n",
       "    <tr>\n",
       "      <th>1</th>\n",
       "      <td>0x7d619104eeb558f0</td>\n",
       "      <td>600</td>\n",
       "      <td>0.9990</td>\n",
       "      <td>1.0</td>\n",
       "      <td>0.9996</td>\n",
       "      <td>1.0</td>\n",
       "      <td>0.9996</td>\n",
       "      <td>1.0</td>\n",
       "      <td>0.9987</td>\n",
       "      <td>1.0000</td>\n",
       "      <td>0.9999</td>\n",
       "      <td>0.9935</td>\n",
       "      <td>0.9989</td>\n",
       "    </tr>\n",
       "    <tr>\n",
       "      <th>0</th>\n",
       "      <td>0x34069129f870d003</td>\n",
       "      <td>800</td>\n",
       "      <td>0.9986</td>\n",
       "      <td>1.0</td>\n",
       "      <td>0.9988</td>\n",
       "      <td>1.0</td>\n",
       "      <td>0.9997</td>\n",
       "      <td>1.0</td>\n",
       "      <td>0.9988</td>\n",
       "      <td>1.0000</td>\n",
       "      <td>0.9998</td>\n",
       "      <td>0.9901</td>\n",
       "      <td>0.9990</td>\n",
       "    </tr>\n",
       "    <tr>\n",
       "      <th>2</th>\n",
       "      <td>0xea7a5b01c26e13c9</td>\n",
       "      <td>1000</td>\n",
       "      <td>0.9984</td>\n",
       "      <td>1.0</td>\n",
       "      <td>0.9987</td>\n",
       "      <td>1.0</td>\n",
       "      <td>0.9997</td>\n",
       "      <td>1.0</td>\n",
       "      <td>0.9995</td>\n",
       "      <td>0.9999</td>\n",
       "      <td>0.9998</td>\n",
       "      <td>0.9871</td>\n",
       "      <td>0.9993</td>\n",
       "    </tr>\n",
       "    <tr>\n",
       "      <th>3</th>\n",
       "      <td>0xdf61c6357b674802</td>\n",
       "      <td>1200</td>\n",
       "      <td>0.9991</td>\n",
       "      <td>1.0</td>\n",
       "      <td>0.9990</td>\n",
       "      <td>1.0</td>\n",
       "      <td>0.9997</td>\n",
       "      <td>1.0</td>\n",
       "      <td>0.9994</td>\n",
       "      <td>1.0000</td>\n",
       "      <td>0.9998</td>\n",
       "      <td>0.9937</td>\n",
       "      <td>0.9992</td>\n",
       "    </tr>\n",
       "  </tbody>\n",
       "</table>\n",
       "</div>"
      ],
      "text/plain": [
       "              span_id  nr_train_images  roc_auc_mean  roc_auc.0  roc_auc.1  \\\n",
       "1  0x7d619104eeb558f0              600        0.9990        1.0     0.9996   \n",
       "0  0x34069129f870d003              800        0.9986        1.0     0.9988   \n",
       "2  0xea7a5b01c26e13c9             1000        0.9984        1.0     0.9987   \n",
       "3  0xdf61c6357b674802             1200        0.9991        1.0     0.9990   \n",
       "\n",
       "   roc_auc.2  roc_auc.3  roc_auc.4  roc_auc.5  roc_auc.6  roc_auc.7  \\\n",
       "1        1.0     0.9996        1.0     0.9987     1.0000     0.9999   \n",
       "0        1.0     0.9997        1.0     0.9988     1.0000     0.9998   \n",
       "2        1.0     0.9997        1.0     0.9995     0.9999     0.9998   \n",
       "3        1.0     0.9997        1.0     0.9994     1.0000     0.9998   \n",
       "\n",
       "   roc_auc.8  roc_auc.9  \n",
       "1     0.9935     0.9989  \n",
       "0     0.9901     0.9990  \n",
       "2     0.9871     0.9993  \n",
       "3     0.9937     0.9992  "
      ]
     },
     "execution_count": 10,
     "metadata": {},
     "output_type": "execute_result"
    }
   ],
   "source": [
    "df_data.round(4)"
   ]
  },
  {
   "cell_type": "code",
   "execution_count": 11,
   "id": "5fdf0be0",
   "metadata": {
    "execution": {
     "iopub.execute_input": "2022-07-07T14:13:24.723219Z",
     "iopub.status.busy": "2022-07-07T14:13:24.722794Z",
     "iopub.status.idle": "2022-07-07T14:13:24.869889Z",
     "shell.execute_reply": "2022-07-07T14:13:24.869229Z"
    },
    "papermill": {
     "duration": 0.152851,
     "end_time": "2022-07-07T14:13:24.871817",
     "exception": false,
     "start_time": "2022-07-07T14:13:24.718966",
     "status": "completed"
    },
    "tags": []
   },
   "outputs": [
    {
     "data": {
      "image/png": "[encoded data removed]",
      "text/plain": [
       "<Figure size 1152x288 with 1 Axes>"
      ]
     },
     "metadata": {
      "needs_background": "light"
     },
     "output_type": "display_data"
    }
   ],
   "source": [
    "def plot_classifier_performance_summary(df_data):\n",
    "    fig, ax = plt.subplots(nrows=1, ncols=1, figsize=(16, 4), sharex=True)\n",
    "\n",
    "    #\n",
    "    ax.plot(\n",
    "        df_data[\"nr_train_images\"], df_data[\"roc_auc_mean\"], marker=\"o\", linestyle=\"--\"\n",
    "    )\n",
    "    ax.set_title(\n",
    "        f\"ROC AUC digit classifier performance on evaluation digits\", fontsize=17\n",
    "    )\n",
    "    ax.set_xlabel(\"Total number of digits in training set\", fontsize=14)\n",
    "    ax.set_ylabel(\"Mean ROC AUC\", fontsize=14)\n",
    "\n",
    "    fig.tight_layout()\n",
    "    fig.show()\n",
    "\n",
    "    return fig\n",
    "\n",
    "\n",
    "fig = plot_classifier_performance_summary(df_data)"
   ]
  },
  {
   "cell_type": "code",
   "execution_count": 12,
   "id": "7945a061",
   "metadata": {
    "execution": {
     "iopub.execute_input": "2022-07-07T14:13:24.881076Z",
     "iopub.status.busy": "2022-07-07T14:13:24.880613Z",
     "iopub.status.idle": "2022-07-07T14:13:24.939231Z",
     "shell.execute_reply": "2022-07-07T14:13:24.938578Z"
    },
    "papermill": {
     "duration": 0.065918,
     "end_time": "2022-07-07T14:13:24.941708",
     "exception": false,
     "start_time": "2022-07-07T14:13:24.875790",
     "status": "completed"
    },
    "tags": []
   },
   "outputs": [],
   "source": [
    "logger.log_figure(\"auc-roc-model-performances.png\", fig)"
   ]
  },
  {
   "cell_type": "code",
   "execution_count": 13,
   "id": "bf97ed51",
   "metadata": {
    "execution": {
     "iopub.execute_input": "2022-07-07T14:13:24.950726Z",
     "iopub.status.busy": "2022-07-07T14:13:24.950221Z",
     "iopub.status.idle": "2022-07-07T14:13:24.954228Z",
     "shell.execute_reply": "2022-07-07T14:13:24.953477Z"
    },
    "papermill": {
     "duration": 0.01038,
     "end_time": "2022-07-07T14:13:24.955719",
     "exception": false,
     "start_time": "2022-07-07T14:13:24.945339",
     "status": "completed"
    },
    "tags": []
   },
   "outputs": [],
   "source": [
    "###"
   ]
  },
  {
   "cell_type": "code",
   "execution_count": null,
   "id": "693c1692",
   "metadata": {
    "papermill": {
     "duration": 0.00371,
     "end_time": "2022-07-07T14:13:24.963004",
     "exception": false,
     "start_time": "2022-07-07T14:13:24.959294",
     "status": "completed"
    },
    "tags": []
   },
   "outputs": [],
   "source": []
  }
 ],
 "metadata": {
  "jupytext": {
   "cell_metadata_filter": "tags,-all",
   "main_language": "python",
   "notebook_metadata_filter": "-all"
  },
  "language_info": {
   "codemirror_mode": {
    "name": "ipython",
    "version": 3
   },
   "file_extension": ".py",
   "mimetype": "text/x-python",
   "name": "python",
   "nbconvert_exporter": "python",
   "pygments_lexer": "ipython3",
   "version": "3.8.10"
  },
  "papermill": {
   "default_parameters": {},
   "duration": 24.489577,
   "end_time": "2022-07-07T14:13:25.885878",
   "environment_variables": {},
   "exception": null,
   "input_path": "/home/host_user/workspace/mnist-demo-pipeline/mnist-demo-pipeline/notebooks/temp-notebook-22t764yy.ipynb",
   "output_path": "notebooks/summary.ipynb",
   "parameters": {
    "P": {
     "_opentelemetry_traceparent": "00-c8ac85eb09f8b1780e10779b0e0e7464-281d85c1ea6d4e04-01",
     "pipeline.data_lake_root": "/pipeline-outputs/data-lake",
     "pipeline.github.actor": "matiasdahl",
     "pipeline.github.base_ref": "development",
     "pipeline.github.event_name": "pull_request",
     "pipeline.github.head_ref": "try-C-hyperparameter",
     "pipeline.github.job": "run-tests-pipeline-and-persist-pipeline-outputs",
     "pipeline.github.ref": "refs/pull/55/merge",
     "pipeline.github.ref_name": "55/merge",
     "pipeline.github.ref_type": "branch",
     "pipeline.github.repository": "pynb-dag-runner/mnist-digits-demo-pipeline",
     "pipeline.github.run_id": "2630106939",
     "pipeline.github.runner_name": "GitHub Actions 3",
     "pipeline.github.sha": "876109f37d9c7859966a244c1f8db39e7b4105e9",
     "pipeline.github.workflow": "Run automated tests, pipeline and deploy results to static reporting site",
     "pipeline.pipeline_run_id": "6eaadf4c-6dc3-4086-abe2-ccf34399bbad",
     "pipeline.run_environment": "ci",
     "run.retry_nr": "0",
     "task.max_nr_retries": "1",
     "task.notebook": "notebooks/summary.py",
     "task.num_cpus": 1,
     "task.timeout_s": "None"
    }
   },
   "start_time": "2022-07-07T14:13:01.396301",
   "version": "2.3.3"
  }
 },
 "nbformat": 4,
 "nbformat_minor": 5
}