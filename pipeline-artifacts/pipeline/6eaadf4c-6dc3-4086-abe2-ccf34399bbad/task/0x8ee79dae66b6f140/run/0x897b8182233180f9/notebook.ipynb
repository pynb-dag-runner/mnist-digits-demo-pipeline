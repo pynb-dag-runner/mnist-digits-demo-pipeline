{
 "cells": [
  {
   "cell_type": "markdown",
   "id": "22073df6",
   "metadata": {
    "papermill": {
     "duration": 0.004298,
     "end_time": "2022-07-07T14:12:20.539878",
     "exception": false,
     "start_time": "2022-07-07T14:12:20.535580",
     "status": "completed"
    },
    "tags": []
   },
   "source": [
    "# Split digits and labels into separate training and testing data sets"
   ]
  },
  {
   "cell_type": "markdown",
   "id": "e75189be",
   "metadata": {
    "papermill": {
     "duration": 0.002256,
     "end_time": "2022-07-07T14:12:20.545333",
     "exception": false,
     "start_time": "2022-07-07T14:12:20.543077",
     "status": "completed"
    },
    "tags": []
   },
   "source": [
    "### Determine run parameters"
   ]
  },
  {
   "cell_type": "code",
   "execution_count": 1,
   "id": "857faf77",
   "metadata": {
    "execution": {
     "iopub.execute_input": "2022-07-07T14:12:20.561011Z",
     "iopub.status.busy": "2022-07-07T14:12:20.560691Z",
     "iopub.status.idle": "2022-07-07T14:12:20.567824Z",
     "shell.execute_reply": "2022-07-07T14:12:20.567020Z"
    },
    "lines_to_next_cell": 0,
    "papermill": {
     "duration": 0.01695,
     "end_time": "2022-07-07T14:12:20.571821",
     "exception": false,
     "start_time": "2022-07-07T14:12:20.554871",
     "status": "completed"
    },
    "tags": []
   },
   "outputs": [],
   "source": [
    "# ----------------- Parameters for interactive development --------------\n",
    "P = {\n",
    "    \"pipeline.data_lake_root\": \"/pipeline-outputs/data-lake\",\n",
    "    \"task.train_test_ratio\": 0.7,\n",
    "}"
   ]
  },
  {
   "cell_type": "code",
   "execution_count": 2,
   "id": "d10d5c9e",
   "metadata": {
    "execution": {
     "iopub.execute_input": "2022-07-07T14:12:20.579500Z",
     "iopub.status.busy": "2022-07-07T14:12:20.579242Z",
     "iopub.status.idle": "2022-07-07T14:12:20.582185Z",
     "shell.execute_reply": "2022-07-07T14:12:20.581668Z"
    },
    "lines_to_next_cell": 0,
    "papermill": {
     "duration": 0.009017,
     "end_time": "2022-07-07T14:12:20.584654",
     "exception": false,
     "start_time": "2022-07-07T14:12:20.575637",
     "status": "completed"
    },
    "tags": [
     "parameters"
    ]
   },
   "outputs": [],
   "source": [
    "# - During automated runs parameters will be injected in the below cell -"
   ]
  },
  {
   "cell_type": "code",
   "execution_count": 3,
   "id": "2311b91e",
   "metadata": {
    "execution": {
     "iopub.execute_input": "2022-07-07T14:12:20.590401Z",
     "iopub.status.busy": "2022-07-07T14:12:20.590192Z",
     "iopub.status.idle": "2022-07-07T14:12:20.594789Z",
     "shell.execute_reply": "2022-07-07T14:12:20.594270Z"
    },
    "papermill": {
     "duration": 0.010256,
     "end_time": "2022-07-07T14:12:20.597177",
     "exception": false,
     "start_time": "2022-07-07T14:12:20.586921",
     "status": "completed"
    },
    "tags": [
     "injected-parameters"
    ]
   },
   "outputs": [],
   "source": [
    "# Parameters\n",
    "P = {\n",
    "    \"pipeline.data_lake_root\": \"/pipeline-outputs/data-lake\",\n",
    "    \"pipeline.run_environment\": \"ci\",\n",
    "    \"pipeline.pipeline_run_id\": \"6eaadf4c-6dc3-4086-abe2-ccf34399bbad\",\n",
    "    \"pipeline.github.repository\": \"pynb-dag-runner/mnist-digits-demo-pipeline\",\n",
    "    \"pipeline.github.workflow\": \"Run automated tests, pipeline and deploy results to static reporting site\",\n",
    "    \"pipeline.github.runner_name\": \"GitHub Actions 3\",\n",
    "    \"pipeline.github.run_id\": \"2630106939\",\n",
    "    \"pipeline.github.actor\": \"matiasdahl\",\n",
    "    \"pipeline.github.job\": \"run-tests-pipeline-and-persist-pipeline-outputs\",\n",
    "    \"pipeline.github.base_ref\": \"development\",\n",
    "    \"pipeline.github.head_ref\": \"try-C-hyperparameter\",\n",
    "    \"pipeline.github.sha\": \"876109f37d9c7859966a244c1f8db39e7b4105e9\",\n",
    "    \"pipeline.github.ref\": \"refs/pull/55/merge\",\n",
    "    \"pipeline.github.ref_type\": \"branch\",\n",
    "    \"pipeline.github.ref_name\": \"55/merge\",\n",
    "    \"pipeline.github.event_name\": \"pull_request\",\n",
    "    \"task.train_test_ratio\": 0.7,\n",
    "    \"task.notebook\": \"notebooks/split-train-test.py\",\n",
    "    \"task.max_nr_retries\": \"1\",\n",
    "    \"run.retry_nr\": \"0\",\n",
    "    \"task.timeout_s\": \"None\",\n",
    "    \"task.num_cpus\": 1,\n",
    "    \"_opentelemetry_traceparent\": \"00-c8ac85eb09f8b1780e10779b0e0e7464-e0115548cd544a0a-01\",\n",
    "}\n"
   ]
  },
  {
   "cell_type": "code",
   "execution_count": 4,
   "id": "c506223f",
   "metadata": {
    "execution": {
     "iopub.execute_input": "2022-07-07T14:12:20.602649Z",
     "iopub.status.busy": "2022-07-07T14:12:20.602446Z",
     "iopub.status.idle": "2022-07-07T14:12:20.605365Z",
     "shell.execute_reply": "2022-07-07T14:12:20.604878Z"
    },
    "lines_to_next_cell": 0,
    "papermill": {
     "duration": 0.008189,
     "end_time": "2022-07-07T14:12:20.607633",
     "exception": false,
     "start_time": "2022-07-07T14:12:20.599444",
     "status": "completed"
    },
    "tags": []
   },
   "outputs": [],
   "source": [
    "# -----------------------------------------------------------------------"
   ]
  },
  {
   "cell_type": "markdown",
   "id": "1c1c8952",
   "metadata": {
    "papermill": {
     "duration": 0.002355,
     "end_time": "2022-07-07T14:12:20.612382",
     "exception": false,
     "start_time": "2022-07-07T14:12:20.610027",
     "status": "completed"
    },
    "tags": []
   },
   "source": [
    "---"
   ]
  },
  {
   "cell_type": "markdown",
   "id": "ac805c1b",
   "metadata": {
    "lines_to_next_cell": 2,
    "papermill": {
     "duration": 0.002356,
     "end_time": "2022-07-07T14:12:20.617210",
     "exception": false,
     "start_time": "2022-07-07T14:12:20.614854",
     "status": "completed"
    },
    "tags": []
   },
   "source": [
    "### Notebook code"
   ]
  },
  {
   "cell_type": "code",
   "execution_count": 5,
   "id": "dcf5c769",
   "metadata": {
    "execution": {
     "iopub.execute_input": "2022-07-07T14:12:20.625538Z",
     "iopub.status.busy": "2022-07-07T14:12:20.625275Z",
     "iopub.status.idle": "2022-07-07T14:12:21.148534Z",
     "shell.execute_reply": "2022-07-07T14:12:21.147922Z"
    },
    "papermill": {
     "duration": 0.529418,
     "end_time": "2022-07-07T14:12:21.150692",
     "exception": false,
     "start_time": "2022-07-07T14:12:20.621274",
     "status": "completed"
    },
    "tags": []
   },
   "outputs": [
    {
     "name": "stderr",
     "output_type": "stream",
     "text": [
      "2022-07-07 14:12:20,970\tINFO worker.py:842 -- Connecting to existing Ray cluster at address: 172.17.0.2:6379\n"
     ]
    }
   ],
   "source": [
    "from common.io import datalake_root, read_numpy, write_numpy\n",
    "from pynb_dag_runner.tasks.task_opentelemetry_logging import PydarLogger\n",
    "\n",
    "logger = PydarLogger(P)"
   ]
  },
  {
   "cell_type": "markdown",
   "id": "6c763a41",
   "metadata": {
    "papermill": {
     "duration": 0.009115,
     "end_time": "2022-07-07T14:12:21.163017",
     "exception": false,
     "start_time": "2022-07-07T14:12:21.153902",
     "status": "completed"
    },
    "tags": []
   },
   "source": [
    "## Load and split digits data"
   ]
  },
  {
   "cell_type": "code",
   "execution_count": 6,
   "id": "70675f9c",
   "metadata": {
    "execution": {
     "iopub.execute_input": "2022-07-07T14:12:21.170304Z",
     "iopub.status.busy": "2022-07-07T14:12:21.169953Z",
     "iopub.status.idle": "2022-07-07T14:12:21.176105Z",
     "shell.execute_reply": "2022-07-07T14:12:21.175271Z"
    },
    "papermill": {
     "duration": 0.01294,
     "end_time": "2022-07-07T14:12:21.179037",
     "exception": false,
     "start_time": "2022-07-07T14:12:21.166097",
     "status": "completed"
    },
    "tags": []
   },
   "outputs": [],
   "source": [
    "X = read_numpy(datalake_root(P) / \"raw\" / \"digits.numpy\")\n",
    "y = read_numpy(datalake_root(P) / \"raw\" / \"labels.numpy\")"
   ]
  },
  {
   "cell_type": "code",
   "execution_count": 7,
   "id": "d3679a15",
   "metadata": {
    "execution": {
     "iopub.execute_input": "2022-07-07T14:12:21.185568Z",
     "iopub.status.busy": "2022-07-07T14:12:21.185323Z",
     "iopub.status.idle": "2022-07-07T14:12:21.638517Z",
     "shell.execute_reply": "2022-07-07T14:12:21.637913Z"
    },
    "papermill": {
     "duration": 0.459176,
     "end_time": "2022-07-07T14:12:21.640576",
     "exception": false,
     "start_time": "2022-07-07T14:12:21.181400",
     "status": "completed"
    },
    "tags": []
   },
   "outputs": [],
   "source": [
    "from sklearn.model_selection import train_test_split\n",
    "\n",
    "X_train, X_test, y_train, y_test = train_test_split(\n",
    "    X,\n",
    "    y,\n",
    "    train_size=P[\"task.train_test_ratio\"],\n",
    "    test_size=None,\n",
    "    stratify=y,\n",
    "    shuffle=True,\n",
    "    random_state=1,\n",
    ")\n",
    "\n",
    "# assert nr of pixels per image is the same for all image vectors\n",
    "assert X.shape[1] == X_train.shape[1] == X_test.shape[1]\n",
    "\n",
    "# assert that the (X, y)-pairs have compatible sizes (for both train and test)\n",
    "assert X_train.shape[0] == len(y_train)\n",
    "assert X_test.shape[0] == len(y_test)\n",
    "\n",
    "# assert that all data is used\n",
    "assert len(y) == len(y_train) + len(y_test)"
   ]
  },
  {
   "cell_type": "code",
   "execution_count": 8,
   "id": "e3c6011f",
   "metadata": {
    "execution": {
     "iopub.execute_input": "2022-07-07T14:12:21.648929Z",
     "iopub.status.busy": "2022-07-07T14:12:21.648680Z",
     "iopub.status.idle": "2022-07-07T14:12:21.654479Z",
     "shell.execute_reply": "2022-07-07T14:12:21.653948Z"
    },
    "papermill": {
     "duration": 0.012815,
     "end_time": "2022-07-07T14:12:21.656010",
     "exception": false,
     "start_time": "2022-07-07T14:12:21.643195",
     "status": "completed"
    },
    "tags": []
   },
   "outputs": [
    {
     "name": "stdout",
     "output_type": "stream",
     "text": [
      " - Logging nr_digits_train (int) : 1257\n",
      " - Logging nr_digits_test (int) : 540\n"
     ]
    }
   ],
   "source": [
    "logger.log_int(\"nr_digits_train\", len(y_train))\n",
    "logger.log_int(\"nr_digits_test\", len(y_test))"
   ]
  },
  {
   "cell_type": "markdown",
   "id": "03fc05c7",
   "metadata": {
    "papermill": {
     "duration": 0.002656,
     "end_time": "2022-07-07T14:12:21.661134",
     "exception": false,
     "start_time": "2022-07-07T14:12:21.658478",
     "status": "completed"
    },
    "tags": []
   },
   "source": [
    "### Persist training and test data sets to separate files"
   ]
  },
  {
   "cell_type": "code",
   "execution_count": 9,
   "id": "dc2847a1",
   "metadata": {
    "execution": {
     "iopub.execute_input": "2022-07-07T14:12:21.667172Z",
     "iopub.status.busy": "2022-07-07T14:12:21.666948Z",
     "iopub.status.idle": "2022-07-07T14:12:21.674802Z",
     "shell.execute_reply": "2022-07-07T14:12:21.674277Z"
    },
    "papermill": {
     "duration": 0.013487,
     "end_time": "2022-07-07T14:12:21.677229",
     "exception": false,
     "start_time": "2022-07-07T14:12:21.663742",
     "status": "completed"
    },
    "tags": []
   },
   "outputs": [],
   "source": [
    "write_numpy(datalake_root(P) / \"train-data\" / \"digits.numpy\", X_train)\n",
    "write_numpy(datalake_root(P) / \"train-data\" / \"labels.numpy\", y_train)\n",
    "\n",
    "#\n",
    "write_numpy(datalake_root(P) / \"test-data\" / \"digits.numpy\", X_test)\n",
    "write_numpy(datalake_root(P) / \"test-data\" / \"labels.numpy\", y_test)"
   ]
  },
  {
   "cell_type": "code",
   "execution_count": null,
   "id": "18bc757a",
   "metadata": {
    "papermill": {
     "duration": 0.002705,
     "end_time": "2022-07-07T14:12:21.682573",
     "exception": false,
     "start_time": "2022-07-07T14:12:21.679868",
     "status": "completed"
    },
    "tags": []
   },
   "outputs": [],
   "source": []
  }
 ],
 "metadata": {
  "jupytext": {
   "cell_metadata_filter": "tags,-all",
   "main_language": "python",
   "notebook_metadata_filter": "-all"
  },
  "language_info": {
   "codemirror_mode": {
    "name": "ipython",
    "version": 3
   },
   "file_extension": ".py",
   "mimetype": "text/x-python",
   "name": "python",
   "nbconvert_exporter": "python",
   "pygments_lexer": "ipython3",
   "version": "3.8.10"
  },
  "papermill": {
   "default_parameters": {},
   "duration": 3.579896,
   "end_time": "2022-07-07T14:12:22.703919",
   "environment_variables": {},
   "exception": null,
   "input_path": "/home/host_user/workspace/mnist-demo-pipeline/mnist-demo-pipeline/notebooks/temp-notebook-kmcztvxu.ipynb",
   "output_path": "notebooks/split-train-test.ipynb",
   "parameters": {
    "P": {
     "_opentelemetry_traceparent": "00-c8ac85eb09f8b1780e10779b0e0e7464-e0115548cd544a0a-01",
     "pipeline.data_lake_root": "/pipeline-outputs/data-lake",
     "pipeline.github.actor": "matiasdahl",
     "pipeline.github.base_ref": "development",
     "pipeline.github.event_name": "pull_request",
     "pipeline.github.head_ref": "try-C-hyperparameter",
     "pipeline.github.job": "run-tests-pipeline-and-persist-pipeline-outputs",
     "pipeline.github.ref": "refs/pull/55/merge",
     "pipeline.github.ref_name": "55/merge",
     "pipeline.github.ref_type": "branch",
     "pipeline.github.repository": "pynb-dag-runner/mnist-digits-demo-pipeline",
     "pipeline.github.run_id": "2630106939",
     "pipeline.github.runner_name": "GitHub Actions 3",
     "pipeline.github.sha": "876109f37d9c7859966a244c1f8db39e7b4105e9",
     "pipeline.github.workflow": "Run automated tests, pipeline and deploy results to static reporting site",
     "pipeline.pipeline_run_id": "6eaadf4c-6dc3-4086-abe2-ccf34399bbad",
     "pipeline.run_environment": "ci",
     "run.retry_nr": "0",
     "task.max_nr_retries": "1",
     "task.notebook": "notebooks/split-train-test.py",
     "task.num_cpus": 1,
     "task.timeout_s": "None",
     "task.train_test_ratio": 0.7
    }
   },
   "start_time": "2022-07-07T14:12:19.124023",
   "version": "2.3.3"
  }
 },
 "nbformat": 4,
 "nbformat_minor": 5
}