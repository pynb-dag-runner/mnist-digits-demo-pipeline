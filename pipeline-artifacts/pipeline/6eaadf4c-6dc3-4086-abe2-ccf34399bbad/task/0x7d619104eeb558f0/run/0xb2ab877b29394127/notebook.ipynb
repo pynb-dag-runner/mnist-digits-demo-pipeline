{
 "cells": [
  {
   "cell_type": "markdown",
   "id": "0b17422c",
   "metadata": {
    "papermill": {
     "duration": 0.005339,
     "end_time": "2022-07-07T14:12:48.748832",
     "exception": false,
     "start_time": "2022-07-07T14:12:48.743493",
     "status": "completed"
    },
    "tags": []
   },
   "source": [
    "# Benchmark model\n",
    "\n",
    "The purpose of this notebook is to benchmark persisted onnx-model (trained in the\n",
    "previous step) against evaluation set."
   ]
  },
  {
   "cell_type": "markdown",
   "id": "d154789f",
   "metadata": {
    "papermill": {
     "duration": 0.003731,
     "end_time": "2022-07-07T14:12:48.756687",
     "exception": false,
     "start_time": "2022-07-07T14:12:48.752956",
     "status": "completed"
    },
    "tags": []
   },
   "source": [
    "### Determine run parameters"
   ]
  },
  {
   "cell_type": "code",
   "execution_count": 1,
   "id": "0098154b",
   "metadata": {
    "execution": {
     "iopub.execute_input": "2022-07-07T14:12:48.769934Z",
     "iopub.status.busy": "2022-07-07T14:12:48.769480Z",
     "iopub.status.idle": "2022-07-07T14:12:48.776636Z",
     "shell.execute_reply": "2022-07-07T14:12:48.775907Z"
    },
    "lines_to_next_cell": 0,
    "papermill": {
     "duration": 0.014414,
     "end_time": "2022-07-07T14:12:48.778218",
     "exception": false,
     "start_time": "2022-07-07T14:12:48.763804",
     "status": "completed"
    },
    "tags": []
   },
   "outputs": [],
   "source": [
    "# ----------------- Parameters for interactive development --------------\n",
    "P = {\n",
    "    \"pipeline.data_lake_root\": \"/pipeline-outputs/data-lake\",\n",
    "    \"task.nr_train_images\": 600,\n",
    "}"
   ]
  },
  {
   "cell_type": "code",
   "execution_count": 2,
   "id": "992bb33e",
   "metadata": {
    "execution": {
     "iopub.execute_input": "2022-07-07T14:12:48.786956Z",
     "iopub.status.busy": "2022-07-07T14:12:48.786470Z",
     "iopub.status.idle": "2022-07-07T14:12:48.789893Z",
     "shell.execute_reply": "2022-07-07T14:12:48.789264Z"
    },
    "lines_to_next_cell": 0,
    "papermill": {
     "duration": 0.009107,
     "end_time": "2022-07-07T14:12:48.791206",
     "exception": false,
     "start_time": "2022-07-07T14:12:48.782099",
     "status": "completed"
    },
    "tags": [
     "parameters"
    ]
   },
   "outputs": [],
   "source": [
    "# - During automated runs parameters will be injected in the below cell -"
   ]
  },
  {
   "cell_type": "code",
   "execution_count": 3,
   "id": "07cea2c3",
   "metadata": {
    "execution": {
     "iopub.execute_input": "2022-07-07T14:12:48.800494Z",
     "iopub.status.busy": "2022-07-07T14:12:48.800270Z",
     "iopub.status.idle": "2022-07-07T14:12:48.804568Z",
     "shell.execute_reply": "2022-07-07T14:12:48.804085Z"
    },
    "papermill": {
     "duration": 0.010637,
     "end_time": "2022-07-07T14:12:48.806118",
     "exception": false,
     "start_time": "2022-07-07T14:12:48.795481",
     "status": "completed"
    },
    "tags": [
     "injected-parameters"
    ]
   },
   "outputs": [],
   "source": [
    "# Parameters\n",
    "P = {\n",
    "    \"pipeline.data_lake_root\": \"/pipeline-outputs/data-lake\",\n",
    "    \"pipeline.run_environment\": \"ci\",\n",
    "    \"pipeline.pipeline_run_id\": \"6eaadf4c-6dc3-4086-abe2-ccf34399bbad\",\n",
    "    \"pipeline.github.repository\": \"pynb-dag-runner/mnist-digits-demo-pipeline\",\n",
    "    \"pipeline.github.workflow\": \"Run automated tests, pipeline and deploy results to static reporting site\",\n",
    "    \"pipeline.github.runner_name\": \"GitHub Actions 3\",\n",
    "    \"pipeline.github.run_id\": \"2630106939\",\n",
    "    \"pipeline.github.actor\": \"matiasdahl\",\n",
    "    \"pipeline.github.job\": \"run-tests-pipeline-and-persist-pipeline-outputs\",\n",
    "    \"pipeline.github.base_ref\": \"development\",\n",
    "    \"pipeline.github.head_ref\": \"try-C-hyperparameter\",\n",
    "    \"pipeline.github.sha\": \"876109f37d9c7859966a244c1f8db39e7b4105e9\",\n",
    "    \"pipeline.github.ref\": \"refs/pull/55/merge\",\n",
    "    \"pipeline.github.ref_type\": \"branch\",\n",
    "    \"pipeline.github.ref_name\": \"55/merge\",\n",
    "    \"pipeline.github.event_name\": \"pull_request\",\n",
    "    \"task.nr_train_images\": 600,\n",
    "    \"task.notebook\": \"notebooks/benchmark-model.py\",\n",
    "    \"task.max_nr_retries\": \"1\",\n",
    "    \"run.retry_nr\": \"0\",\n",
    "    \"task.timeout_s\": \"None\",\n",
    "    \"task.num_cpus\": 1,\n",
    "    \"_opentelemetry_traceparent\": \"00-c8ac85eb09f8b1780e10779b0e0e7464-a2a2bc7d9bfb6cc5-01\",\n",
    "}\n"
   ]
  },
  {
   "cell_type": "code",
   "execution_count": 4,
   "id": "0c0be9df",
   "metadata": {
    "execution": {
     "iopub.execute_input": "2022-07-07T14:12:48.815165Z",
     "iopub.status.busy": "2022-07-07T14:12:48.814767Z",
     "iopub.status.idle": "2022-07-07T14:12:48.817592Z",
     "shell.execute_reply": "2022-07-07T14:12:48.816955Z"
    },
    "lines_to_next_cell": 0,
    "papermill": {
     "duration": 0.008996,
     "end_time": "2022-07-07T14:12:48.819011",
     "exception": false,
     "start_time": "2022-07-07T14:12:48.810015",
     "status": "completed"
    },
    "tags": []
   },
   "outputs": [],
   "source": [
    "# -----------------------------------------------------------------------"
   ]
  },
  {
   "cell_type": "markdown",
   "id": "f1110a75",
   "metadata": {
    "papermill": {
     "duration": 0.003833,
     "end_time": "2022-07-07T14:12:48.827958",
     "exception": false,
     "start_time": "2022-07-07T14:12:48.824125",
     "status": "completed"
    },
    "tags": []
   },
   "source": [
    "---"
   ]
  },
  {
   "cell_type": "markdown",
   "id": "0eedf938",
   "metadata": {
    "lines_to_next_cell": 2,
    "papermill": {
     "duration": 0.003685,
     "end_time": "2022-07-07T14:12:48.835246",
     "exception": false,
     "start_time": "2022-07-07T14:12:48.831561",
     "status": "completed"
    },
    "tags": []
   },
   "source": [
    "### Notebook code"
   ]
  },
  {
   "cell_type": "code",
   "execution_count": 5,
   "id": "2fc2074d",
   "metadata": {
    "execution": {
     "iopub.execute_input": "2022-07-07T14:12:48.844181Z",
     "iopub.status.busy": "2022-07-07T14:12:48.843777Z",
     "iopub.status.idle": "2022-07-07T14:12:49.943734Z",
     "shell.execute_reply": "2022-07-07T14:12:49.940123Z"
    },
    "papermill": {
     "duration": 1.106712,
     "end_time": "2022-07-07T14:12:49.945691",
     "exception": false,
     "start_time": "2022-07-07T14:12:48.838979",
     "status": "completed"
    },
    "tags": []
   },
   "outputs": [
    {
     "name": "stderr",
     "output_type": "stream",
     "text": [
      "2022-07-07 14:12:49,730\tINFO worker.py:842 -- Connecting to existing Ray cluster at address: 172.17.0.2:6379\n"
     ]
    }
   ],
   "source": [
    "import itertools as it\n",
    "\n",
    "#\n",
    "import numpy as np\n",
    "import matplotlib.pyplot as plt\n",
    "\n",
    "#\n",
    "from pynb_dag_runner.tasks.task_opentelemetry_logging import PydarLogger\n",
    "\n",
    "#\n",
    "from common.io import datalake_root\n",
    "\n",
    "logger = PydarLogger(P)"
   ]
  },
  {
   "cell_type": "markdown",
   "id": "4eeaf24e",
   "metadata": {
    "papermill": {
     "duration": 0.004435,
     "end_time": "2022-07-07T14:12:49.956749",
     "exception": false,
     "start_time": "2022-07-07T14:12:49.952314",
     "status": "completed"
    },
    "tags": []
   },
   "source": [
    "## Load persisted onnx-model and evaluation data"
   ]
  },
  {
   "cell_type": "code",
   "execution_count": 6,
   "id": "9cebbe0e",
   "metadata": {
    "execution": {
     "iopub.execute_input": "2022-07-07T14:12:49.966918Z",
     "iopub.status.busy": "2022-07-07T14:12:49.966449Z",
     "iopub.status.idle": "2022-07-07T14:12:49.970004Z",
     "shell.execute_reply": "2022-07-07T14:12:49.969460Z"
    },
    "papermill": {
     "duration": 0.010325,
     "end_time": "2022-07-07T14:12:49.971454",
     "exception": false,
     "start_time": "2022-07-07T14:12:49.961129",
     "status": "completed"
    },
    "tags": []
   },
   "outputs": [],
   "source": [
    "from common.io import read_onnx, get_onnx_inputs, get_onnx_outputs, read_numpy"
   ]
  },
  {
   "cell_type": "code",
   "execution_count": 7,
   "id": "9294df7c",
   "metadata": {
    "execution": {
     "iopub.execute_input": "2022-07-07T14:12:49.980607Z",
     "iopub.status.busy": "2022-07-07T14:12:49.980377Z",
     "iopub.status.idle": "2022-07-07T14:12:49.990244Z",
     "shell.execute_reply": "2022-07-07T14:12:49.989734Z"
    },
    "lines_to_next_cell": 0,
    "papermill": {
     "duration": 0.016121,
     "end_time": "2022-07-07T14:12:49.991874",
     "exception": false,
     "start_time": "2022-07-07T14:12:49.975753",
     "status": "completed"
    },
    "tags": []
   },
   "outputs": [],
   "source": [
    "onnx_inference_session = read_onnx(\n",
    "    datalake_root(P)\n",
    "    / \"models\"\n",
    "    / f\"nr_train_images={P['task.nr_train_images']}\"\n",
    "    / \"model.onnx\"\n",
    ")"
   ]
  },
  {
   "cell_type": "markdown",
   "id": "cd4338c2",
   "metadata": {
    "papermill": {
     "duration": 0.004494,
     "end_time": "2022-07-07T14:12:50.000465",
     "exception": false,
     "start_time": "2022-07-07T14:12:49.995971",
     "status": "completed"
    },
    "tags": []
   },
   "source": [
    "### Record structure of inputs and outputs for ONNX model\n",
    "\n",
    "(this should likely be done in training notebook)"
   ]
  },
  {
   "cell_type": "code",
   "execution_count": 8,
   "id": "1543d696",
   "metadata": {
    "execution": {
     "iopub.execute_input": "2022-07-07T14:12:50.010214Z",
     "iopub.status.busy": "2022-07-07T14:12:50.009967Z",
     "iopub.status.idle": "2022-07-07T14:12:50.015812Z",
     "shell.execute_reply": "2022-07-07T14:12:50.015227Z"
    },
    "papermill": {
     "duration": 0.014192,
     "end_time": "2022-07-07T14:12:50.018929",
     "exception": false,
     "start_time": "2022-07-07T14:12:50.004737",
     "status": "completed"
    },
    "tags": []
   },
   "outputs": [
    {
     "name": "stdout",
     "output_type": "stream",
     "text": [
      "{\n",
      "  \"inputs\": [\n",
      "    {\n",
      "      \"name\": \"float_input_8x8_image\",\n",
      "      \"shape\": [\n",
      "        null,\n",
      "        64\n",
      "      ],\n",
      "      \"type\": \"tensor(float)\"\n",
      "    }\n",
      "  ],\n",
      "  \"outputs\": [\n",
      "    {\n",
      "      \"name\": \"output_label\",\n",
      "      \"shape\": [\n",
      "        null\n",
      "      ],\n",
      "      \"type\": \"tensor(int64)\"\n",
      "    },\n",
      "    {\n",
      "      \"name\": \"output_probability\",\n",
      "      \"shape\": [],\n",
      "      \"type\": \"seq(map(int64,tensor(float)))\"\n",
      "    }\n",
      "  ]\n",
      "}\n"
     ]
    }
   ],
   "source": [
    "import json\n",
    "\n",
    "onnx_io = json.dumps(\n",
    "    {\n",
    "        \"inputs\": get_onnx_inputs(onnx_inference_session),\n",
    "        \"outputs\": get_onnx_outputs(onnx_inference_session),\n",
    "    },\n",
    "    indent=2,\n",
    ")\n",
    "\n",
    "\n",
    "logger.log_artefact(\"onnx_io_structure.json\", onnx_io)\n",
    "print(onnx_io)"
   ]
  },
  {
   "cell_type": "markdown",
   "id": "202e2b12",
   "metadata": {
    "papermill": {
     "duration": 0.004028,
     "end_time": "2022-07-07T14:12:50.027252",
     "exception": false,
     "start_time": "2022-07-07T14:12:50.023224",
     "status": "completed"
    },
    "tags": []
   },
   "source": [
    "### Evaluate model performance on evaluation data set"
   ]
  },
  {
   "cell_type": "code",
   "execution_count": 9,
   "id": "d63b028e",
   "metadata": {
    "execution": {
     "iopub.execute_input": "2022-07-07T14:12:50.036611Z",
     "iopub.status.busy": "2022-07-07T14:12:50.036359Z",
     "iopub.status.idle": "2022-07-07T14:12:50.040923Z",
     "shell.execute_reply": "2022-07-07T14:12:50.040366Z"
    },
    "papermill": {
     "duration": 0.01243,
     "end_time": "2022-07-07T14:12:50.043614",
     "exception": false,
     "start_time": "2022-07-07T14:12:50.031184",
     "status": "completed"
    },
    "tags": []
   },
   "outputs": [],
   "source": [
    "# load evaluation data\n",
    "X_test = read_numpy(datalake_root(P) / \"test-data\" / \"digits.numpy\")\n",
    "y_test = read_numpy(datalake_root(P) / \"test-data\" / \"labels.numpy\")"
   ]
  },
  {
   "cell_type": "code",
   "execution_count": 10,
   "id": "d01a798f",
   "metadata": {
    "execution": {
     "iopub.execute_input": "2022-07-07T14:12:50.061651Z",
     "iopub.status.busy": "2022-07-07T14:12:50.061362Z",
     "iopub.status.idle": "2022-07-07T14:12:50.074453Z",
     "shell.execute_reply": "2022-07-07T14:12:50.073863Z"
    },
    "papermill": {
     "duration": 0.023615,
     "end_time": "2022-07-07T14:12:50.076246",
     "exception": false,
     "start_time": "2022-07-07T14:12:50.052631",
     "status": "completed"
    },
    "tags": []
   },
   "outputs": [],
   "source": [
    "def get_model_outputs(X, onnx_inference_session):\n",
    "    y_pred_labels, y_pred_map = onnx_inference_session.run(\n",
    "        [\"output_label\", \"output_probability\"],\n",
    "        {\"float_input_8x8_image\": X.astype(np.float32)},\n",
    "    )\n",
    "    y_pred_probs = np.array(\n",
    "        [[probabilities[digit] for digit in range(10)] for probabilities in y_pred_map]\n",
    "    )\n",
    "\n",
    "    assert y_pred_labels.shape == (X.shape[0],)\n",
    "    assert y_pred_probs.shape == (X.shape[0], 10)\n",
    "\n",
    "    return y_pred_labels, y_pred_probs\n",
    "\n",
    "\n",
    "# Note: as shown in the training notebook, the predicted labels and probabilities\n",
    "# computed below need not be compatible.\n",
    "y_pred_labels_test, y_pred_probs_test = get_model_outputs(\n",
    "    X_test, onnx_inference_session\n",
    ")"
   ]
  },
  {
   "cell_type": "markdown",
   "id": "c816d692",
   "metadata": {
    "papermill": {
     "duration": 0.004535,
     "end_time": "2022-07-07T14:12:50.085272",
     "exception": false,
     "start_time": "2022-07-07T14:12:50.080737",
     "status": "completed"
    },
    "tags": []
   },
   "source": [
    "### Confusion matrix"
   ]
  },
  {
   "cell_type": "code",
   "execution_count": 11,
   "id": "f88420ae",
   "metadata": {
    "execution": {
     "iopub.execute_input": "2022-07-07T14:12:50.094803Z",
     "iopub.status.busy": "2022-07-07T14:12:50.094525Z",
     "iopub.status.idle": "2022-07-07T14:12:50.097782Z",
     "shell.execute_reply": "2022-07-07T14:12:50.097222Z"
    },
    "papermill": {
     "duration": 0.010805,
     "end_time": "2022-07-07T14:12:50.100151",
     "exception": false,
     "start_time": "2022-07-07T14:12:50.089346",
     "status": "completed"
    },
    "tags": []
   },
   "outputs": [],
   "source": [
    "# TODO"
   ]
  },
  {
   "cell_type": "markdown",
   "id": "c77757d8",
   "metadata": {
    "papermill": {
     "duration": 0.004677,
     "end_time": "2022-07-07T14:12:50.109086",
     "exception": false,
     "start_time": "2022-07-07T14:12:50.104409",
     "status": "completed"
    },
    "tags": []
   },
   "source": [
    "### Plot predicted probabilities for each classifier over all evaluation digit images"
   ]
  },
  {
   "cell_type": "code",
   "execution_count": 12,
   "id": "06271135",
   "metadata": {
    "execution": {
     "iopub.execute_input": "2022-07-07T14:12:50.118877Z",
     "iopub.status.busy": "2022-07-07T14:12:50.118625Z",
     "iopub.status.idle": "2022-07-07T14:12:53.136307Z",
     "shell.execute_reply": "2022-07-07T14:12:53.135348Z"
    },
    "papermill": {
     "duration": 3.024784,
     "end_time": "2022-07-07T14:12:53.137928",
     "exception": false,
     "start_time": "2022-07-07T14:12:50.113144",
     "status": "completed"
    },
    "tags": []
   },
   "outputs": [
    {
     "data": {
      "image/png": "[encoded data removed]",
      "text/plain": [
       "<Figure size 1152x432 with 10 Axes>"
      ]
     },
     "metadata": {
      "needs_background": "light"
     },
     "output_type": "display_data"
    }
   ],
   "source": [
    "def plot_per_digit_probabilities(y_pred_probs):\n",
    "    fig, axs = plt.subplots(nrows=2, ncols=5, figsize=(16, 6))\n",
    "\n",
    "    for (r, c), digit, ax in zip(\n",
    "        it.product(range(2), range(5)), range(10), axs.reshape(-1)\n",
    "    ):\n",
    "        ax.hist(y_pred_probs_test[:, digit], bins=20)\n",
    "\n",
    "        ax.set_title(f\"Digit {digit}\")\n",
    "        if r == 1 and c == 2:\n",
    "            ax.set_xlabel(\"probability\", fontsize=16)\n",
    "\n",
    "        if c == 0:\n",
    "            ax.set_ylabel(\"counts\", fontsize=16)\n",
    "        ax.set_yscale(\"log\")\n",
    "\n",
    "    fig.tight_layout()\n",
    "    fig.suptitle(\n",
    "        f\"Distributions of prediction probabilities for each digit \"\n",
    "        f\"(on evaluation data, n={y_pred_probs.shape[0]})\",\n",
    "        fontsize=20,\n",
    "    )\n",
    "    fig.tight_layout()\n",
    "    fig.show()\n",
    "\n",
    "    return fig\n",
    "\n",
    "\n",
    "fig = plot_per_digit_probabilities(y_pred_probs_test)"
   ]
  },
  {
   "cell_type": "markdown",
   "id": "b7cc30a0",
   "metadata": {
    "papermill": {
     "duration": 0.005075,
     "end_time": "2022-07-07T14:12:53.148129",
     "exception": false,
     "start_time": "2022-07-07T14:12:53.143054",
     "status": "completed"
    },
    "tags": []
   },
   "source": [
    "From the above distributions we see that most digits have clear separation between\n",
    "high and lower probabilities. Morover, in each case there is roughly an order of\n",
    "magnitude more of digits with low probabilities. This is compatible with digits\n",
    "being roughly evenly distributed in the data."
   ]
  },
  {
   "cell_type": "code",
   "execution_count": 13,
   "id": "cd7b88f0",
   "metadata": {
    "execution": {
     "iopub.execute_input": "2022-07-07T14:12:53.158820Z",
     "iopub.status.busy": "2022-07-07T14:12:53.158406Z",
     "iopub.status.idle": "2022-07-07T14:12:53.570454Z",
     "shell.execute_reply": "2022-07-07T14:12:53.569742Z"
    },
    "papermill": {
     "duration": 0.419638,
     "end_time": "2022-07-07T14:12:53.572338",
     "exception": false,
     "start_time": "2022-07-07T14:12:53.152700",
     "status": "completed"
    },
    "tags": []
   },
   "outputs": [],
   "source": [
    "logger.log_figure(\"per-digit-probabilities.png\", fig)"
   ]
  },
  {
   "cell_type": "markdown",
   "id": "023cb532",
   "metadata": {
    "papermill": {
     "duration": 0.004534,
     "end_time": "2022-07-07T14:12:53.581645",
     "exception": false,
     "start_time": "2022-07-07T14:12:53.577111",
     "status": "completed"
    },
    "tags": []
   },
   "source": [
    "### Plot ROC curves for individual one-vs-rest classifiers"
   ]
  },
  {
   "cell_type": "code",
   "execution_count": 14,
   "id": "24059161",
   "metadata": {
    "execution": {
     "iopub.execute_input": "2022-07-07T14:12:53.592997Z",
     "iopub.status.busy": "2022-07-07T14:12:53.592718Z",
     "iopub.status.idle": "2022-07-07T14:12:54.031825Z",
     "shell.execute_reply": "2022-07-07T14:12:54.031030Z"
    },
    "papermill": {
     "duration": 0.44748,
     "end_time": "2022-07-07T14:12:54.033771",
     "exception": false,
     "start_time": "2022-07-07T14:12:53.586291",
     "status": "completed"
    },
    "tags": []
   },
   "outputs": [],
   "source": [
    "from sklearn import metrics"
   ]
  },
  {
   "cell_type": "code",
   "execution_count": 15,
   "id": "35897899",
   "metadata": {
    "execution": {
     "iopub.execute_input": "2022-07-07T14:12:54.046789Z",
     "iopub.status.busy": "2022-07-07T14:12:54.046527Z",
     "iopub.status.idle": "2022-07-07T14:12:55.117155Z",
     "shell.execute_reply": "2022-07-07T14:12:55.116572Z"
    },
    "papermill": {
     "duration": 1.079527,
     "end_time": "2022-07-07T14:12:55.118946",
     "exception": false,
     "start_time": "2022-07-07T14:12:54.039419",
     "status": "completed"
    },
    "tags": []
   },
   "outputs": [
    {
     "data": {
      "image/png": "[encoded data removed]",
      "text/plain": [
       "<Figure size 1152x576 with 10 Axes>"
      ]
     },
     "metadata": {
      "needs_background": "light"
     },
     "output_type": "display_data"
    }
   ],
   "source": [
    "def plot_roc_curves(y, y_pred_probs):\n",
    "    # based on example code\n",
    "    # https://scikit-learn.org/stable/auto_examples/model_selection/plot_roc.html\n",
    "\n",
    "    fig, axs = plt.subplots(nrows=2, ncols=5, figsize=(16, 8))\n",
    "\n",
    "    roc_auc_dict = {}\n",
    "\n",
    "    for (r, c), digit, ax in zip(\n",
    "        it.product(range(2), range(5)), range(10), axs.reshape(-1)\n",
    "    ):\n",
    "        fpr, tpr, _ = metrics.roc_curve(y == digit, y_pred_probs[:, digit])\n",
    "        auc = metrics.auc(fpr, tpr)\n",
    "        roc_auc_dict[str(digit)] = auc\n",
    "\n",
    "        ax.plot(fpr, tpr, label=f\"ROC AUC={round(auc, 3)}\")\n",
    "\n",
    "        ax.set_title(f\"\\nDigit {digit}\", fontsize=16)\n",
    "        if r == 1:\n",
    "            ax.set_xlabel(\"FPR\", fontsize=18)\n",
    "\n",
    "        if c == 0:\n",
    "            ax.set_ylabel(\"TPR\", fontsize=18)\n",
    "\n",
    "        ax.set_xlim([-0.05, 1.05])\n",
    "        ax.set_ylim([-0.05, 1.05])\n",
    "        ax.legend(loc=\"lower right\", frameon=False, fontsize=14)\n",
    "\n",
    "    fig.tight_layout()\n",
    "    fig.suptitle(\n",
    "        f\"ROC plots for one-vs-rest performances \"\n",
    "        f\"(on evaluation data, n={y_pred_probs_test.shape[1]}\",\n",
    "        fontsize=22,\n",
    "    )\n",
    "    fig.tight_layout()\n",
    "    fig.show()\n",
    "\n",
    "    return roc_auc_dict, fig\n",
    "\n",
    "\n",
    "roc_auc_dict, fig = plot_roc_curves(y_test, y_pred_probs_test)"
   ]
  },
  {
   "cell_type": "code",
   "execution_count": 16,
   "id": "8a3907b8",
   "metadata": {
    "execution": {
     "iopub.execute_input": "2022-07-07T14:12:55.132819Z",
     "iopub.status.busy": "2022-07-07T14:12:55.132286Z",
     "iopub.status.idle": "2022-07-07T14:12:55.356314Z",
     "shell.execute_reply": "2022-07-07T14:12:55.355557Z"
    },
    "papermill": {
     "duration": 0.232297,
     "end_time": "2022-07-07T14:12:55.358074",
     "exception": false,
     "start_time": "2022-07-07T14:12:55.125777",
     "status": "completed"
    },
    "tags": []
   },
   "outputs": [],
   "source": [
    "logger.log_figure(\"per-digit-roc-curves.png\", fig)"
   ]
  },
  {
   "cell_type": "code",
   "execution_count": 17,
   "id": "054aa7a8",
   "metadata": {
    "execution": {
     "iopub.execute_input": "2022-07-07T14:12:55.371366Z",
     "iopub.status.busy": "2022-07-07T14:12:55.370879Z",
     "iopub.status.idle": "2022-07-07T14:12:55.376326Z",
     "shell.execute_reply": "2022-07-07T14:12:55.375590Z"
    },
    "papermill": {
     "duration": 0.014353,
     "end_time": "2022-07-07T14:12:55.378853",
     "exception": false,
     "start_time": "2022-07-07T14:12:55.364500",
     "status": "completed"
    },
    "tags": []
   },
   "outputs": [
    {
     "data": {
      "text/plain": [
       "{'0': 1.0,\n",
       " '1': 0.9996251171508904,\n",
       " '2': 1.0,\n",
       " '3': 0.9996251171508904,\n",
       " '4': 1.0,\n",
       " '5': 0.9987253983130271,\n",
       " '6': 0.999961896052431,\n",
       " '7': 0.999923792104862,\n",
       " '8': 0.9934977931904162,\n",
       " '9': 0.998856881572931}"
      ]
     },
     "execution_count": 17,
     "metadata": {},
     "output_type": "execute_result"
    }
   ],
   "source": [
    "roc_auc_dict"
   ]
  },
  {
   "cell_type": "code",
   "execution_count": 18,
   "id": "7f84883e",
   "metadata": {
    "execution": {
     "iopub.execute_input": "2022-07-07T14:12:55.391969Z",
     "iopub.status.busy": "2022-07-07T14:12:55.391603Z",
     "iopub.status.idle": "2022-07-07T14:12:55.395982Z",
     "shell.execute_reply": "2022-07-07T14:12:55.395308Z"
    },
    "papermill": {
     "duration": 0.013457,
     "end_time": "2022-07-07T14:12:55.398270",
     "exception": false,
     "start_time": "2022-07-07T14:12:55.384813",
     "status": "completed"
    },
    "tags": []
   },
   "outputs": [
    {
     "name": "stdout",
     "output_type": "stream",
     "text": [
      " - Logging roc_auc_per_digit (json) : {'0': 1.0, '1': 0.9996251171508904, '2': 1.0, '3': 0.9996251171508904, '4': 1.0, '5': 0.9987253983130271, '6': 0.999961896052431, '7': 0.999923792104862, '8': 0.9934977931904162, '9': 0.998856881572931}\n"
     ]
    }
   ],
   "source": [
    "logger.log_value(\"roc_auc_per_digit\", roc_auc_dict)"
   ]
  },
  {
   "cell_type": "markdown",
   "id": "b293b49b",
   "metadata": {
    "papermill": {
     "duration": 0.005691,
     "end_time": "2022-07-07T14:12:55.409763",
     "exception": false,
     "start_time": "2022-07-07T14:12:55.404072",
     "status": "completed"
    },
    "tags": []
   },
   "source": [
    "### Compute and log mean ROC AUC score averaged over all digits"
   ]
  },
  {
   "cell_type": "code",
   "execution_count": 19,
   "id": "82424b3e",
   "metadata": {
    "execution": {
     "iopub.execute_input": "2022-07-07T14:12:55.422861Z",
     "iopub.status.busy": "2022-07-07T14:12:55.422355Z",
     "iopub.status.idle": "2022-07-07T14:12:55.438092Z",
     "shell.execute_reply": "2022-07-07T14:12:55.437301Z"
    },
    "papermill": {
     "duration": 0.024188,
     "end_time": "2022-07-07T14:12:55.439771",
     "exception": false,
     "start_time": "2022-07-07T14:12:55.415583",
     "status": "completed"
    },
    "tags": []
   },
   "outputs": [
    {
     "name": "stdout",
     "output_type": "stream",
     "text": [
      " - Logging roc_auc_class_mean (float) : 0.9990215995535447\n"
     ]
    }
   ],
   "source": [
    "roc_auc_macro = np.mean(list(roc_auc_dict.values()))\n",
    "\n",
    "logger.log_float(\"roc_auc_class_mean\", roc_auc_macro)\n",
    "\n",
    "# assert that the same value can be computed directly using sklearn\n",
    "assert roc_auc_macro == metrics.roc_auc_score(\n",
    "    y_test, y_pred_probs_test, average=\"macro\", multi_class=\"ovr\"\n",
    ")"
   ]
  },
  {
   "cell_type": "code",
   "execution_count": 20,
   "id": "ac52625e",
   "metadata": {
    "execution": {
     "iopub.execute_input": "2022-07-07T14:12:55.453742Z",
     "iopub.status.busy": "2022-07-07T14:12:55.453390Z",
     "iopub.status.idle": "2022-07-07T14:12:55.456671Z",
     "shell.execute_reply": "2022-07-07T14:12:55.455937Z"
    },
    "lines_to_next_cell": 0,
    "papermill": {
     "duration": 0.01244,
     "end_time": "2022-07-07T14:12:55.458766",
     "exception": false,
     "start_time": "2022-07-07T14:12:55.446326",
     "status": "completed"
    },
    "tags": []
   },
   "outputs": [],
   "source": [
    "# ---"
   ]
  },
  {
   "cell_type": "code",
   "execution_count": null,
   "id": "491811cd",
   "metadata": {
    "papermill": {
     "duration": 0.006162,
     "end_time": "2022-07-07T14:12:55.470520",
     "exception": false,
     "start_time": "2022-07-07T14:12:55.464358",
     "status": "completed"
    },
    "tags": []
   },
   "outputs": [],
   "source": []
  }
 ],
 "metadata": {
  "jupytext": {
   "cell_metadata_filter": "tags,-all",
   "main_language": "python",
   "notebook_metadata_filter": "-all"
  },
  "language_info": {
   "codemirror_mode": {
    "name": "ipython",
    "version": 3
   },
   "file_extension": ".py",
   "mimetype": "text/x-python",
   "name": "python",
   "nbconvert_exporter": "python",
   "pygments_lexer": "ipython3",
   "version": "3.8.10"
  },
  "papermill": {
   "default_parameters": {},
   "duration": 9.094561,
   "end_time": "2022-07-07T14:12:56.595986",
   "environment_variables": {},
   "exception": null,
   "input_path": "/home/host_user/workspace/mnist-demo-pipeline/mnist-demo-pipeline/notebooks/temp-notebook-vsn7jvmy.ipynb",
   "output_path": "notebooks/benchmark-model.ipynb",
   "parameters": {
    "P": {
     "_opentelemetry_traceparent": "00-c8ac85eb09f8b1780e10779b0e0e7464-a2a2bc7d9bfb6cc5-01",
     "pipeline.data_lake_root": "/pipeline-outputs/data-lake",
     "pipeline.github.actor": "matiasdahl",
     "pipeline.github.base_ref": "development",
     "pipeline.github.event_name": "pull_request",
     "pipeline.github.head_ref": "try-C-hyperparameter",
     "pipeline.github.job": "run-tests-pipeline-and-persist-pipeline-outputs",
     "pipeline.github.ref": "refs/pull/55/merge",
     "pipeline.github.ref_name": "55/merge",
     "pipeline.github.ref_type": "branch",
     "pipeline.github.repository": "pynb-dag-runner/mnist-digits-demo-pipeline",
     "pipeline.github.run_id": "2630106939",
     "pipeline.github.runner_name": "GitHub Actions 3",
     "pipeline.github.sha": "876109f37d9c7859966a244c1f8db39e7b4105e9",
     "pipeline.github.workflow": "Run automated tests, pipeline and deploy results to static reporting site",
     "pipeline.pipeline_run_id": "6eaadf4c-6dc3-4086-abe2-ccf34399bbad",
     "pipeline.run_environment": "ci",
     "run.retry_nr": "0",
     "task.max_nr_retries": "1",
     "task.notebook": "notebooks/benchmark-model.py",
     "task.nr_train_images": 600,
     "task.num_cpus": 1,
     "task.timeout_s": "None"
    }
   },
   "start_time": "2022-07-07T14:12:47.501425",
   "version": "2.3.3"
  }
 },
 "nbformat": 4,
 "nbformat_minor": 5
}