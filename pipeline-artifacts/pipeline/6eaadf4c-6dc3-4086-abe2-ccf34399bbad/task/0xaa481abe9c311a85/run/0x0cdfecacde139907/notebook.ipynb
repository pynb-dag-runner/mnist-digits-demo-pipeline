{
 "cells": [
  {
   "cell_type": "markdown",
   "id": "3964198a",
   "metadata": {
    "papermill": {
     "duration": 0.004522,
     "end_time": "2022-07-07T14:12:29.786815",
     "exception": false,
     "start_time": "2022-07-07T14:12:29.782293",
     "status": "completed"
    },
    "tags": []
   },
   "source": [
    "# Train model\n",
    "\n",
    "The purpose of this notebook is:\n",
    "\n",
    "- Load all training data (images and labels).\n",
    "- Limit number of train images to `task.nr_train_images` (value provided as run parameter).\n",
    "- Train a support vector machine model using sklearn.\n",
    "- Persist the trained model using the ONNX format."
   ]
  },
  {
   "cell_type": "markdown",
   "id": "d2467437",
   "metadata": {
    "papermill": {
     "duration": 0.002861,
     "end_time": "2022-07-07T14:12:29.793288",
     "exception": false,
     "start_time": "2022-07-07T14:12:29.790427",
     "status": "completed"
    },
    "tags": []
   },
   "source": [
    "### Determine run parameters"
   ]
  },
  {
   "cell_type": "code",
   "execution_count": 1,
   "id": "9fe066f3",
   "metadata": {
    "execution": {
     "iopub.execute_input": "2022-07-07T14:12:29.800628Z",
     "iopub.status.busy": "2022-07-07T14:12:29.800297Z",
     "iopub.status.idle": "2022-07-07T14:12:29.809426Z",
     "shell.execute_reply": "2022-07-07T14:12:29.808620Z"
    },
    "lines_to_next_cell": 0,
    "papermill": {
     "duration": 0.014963,
     "end_time": "2022-07-07T14:12:29.811109",
     "exception": false,
     "start_time": "2022-07-07T14:12:29.796146",
     "status": "completed"
    },
    "tags": []
   },
   "outputs": [],
   "source": [
    "# ----------------- Parameters for interactive development --------------\n",
    "P = {\n",
    "    \"pipeline.data_lake_root\": \"/pipeline-outputs/data-lake\",\n",
    "    \"task.nr_train_images\": 600,\n",
    "}"
   ]
  },
  {
   "cell_type": "code",
   "execution_count": 2,
   "id": "c6fdad46",
   "metadata": {
    "execution": {
     "iopub.execute_input": "2022-07-07T14:12:29.818502Z",
     "iopub.status.busy": "2022-07-07T14:12:29.818269Z",
     "iopub.status.idle": "2022-07-07T14:12:29.821765Z",
     "shell.execute_reply": "2022-07-07T14:12:29.821244Z"
    },
    "lines_to_next_cell": 0,
    "papermill": {
     "duration": 0.010042,
     "end_time": "2022-07-07T14:12:29.824596",
     "exception": false,
     "start_time": "2022-07-07T14:12:29.814554",
     "status": "completed"
    },
    "tags": [
     "parameters"
    ]
   },
   "outputs": [],
   "source": [
    "# - During automated runs parameters will be injected in the below cell -"
   ]
  },
  {
   "cell_type": "code",
   "execution_count": 3,
   "id": "6a0ba37f",
   "metadata": {
    "execution": {
     "iopub.execute_input": "2022-07-07T14:12:29.831523Z",
     "iopub.status.busy": "2022-07-07T14:12:29.831289Z",
     "iopub.status.idle": "2022-07-07T14:12:29.836175Z",
     "shell.execute_reply": "2022-07-07T14:12:29.835657Z"
    },
    "papermill": {
     "duration": 0.011138,
     "end_time": "2022-07-07T14:12:29.838557",
     "exception": false,
     "start_time": "2022-07-07T14:12:29.827419",
     "status": "completed"
    },
    "tags": [
     "injected-parameters"
    ]
   },
   "outputs": [],
   "source": [
    "# Parameters\n",
    "P = {\n",
    "    \"pipeline.data_lake_root\": \"/pipeline-outputs/data-lake\",\n",
    "    \"pipeline.run_environment\": \"ci\",\n",
    "    \"pipeline.pipeline_run_id\": \"6eaadf4c-6dc3-4086-abe2-ccf34399bbad\",\n",
    "    \"pipeline.github.repository\": \"pynb-dag-runner/mnist-digits-demo-pipeline\",\n",
    "    \"pipeline.github.workflow\": \"Run automated tests, pipeline and deploy results to static reporting site\",\n",
    "    \"pipeline.github.runner_name\": \"GitHub Actions 3\",\n",
    "    \"pipeline.github.run_id\": \"2630106939\",\n",
    "    \"pipeline.github.actor\": \"matiasdahl\",\n",
    "    \"pipeline.github.job\": \"run-tests-pipeline-and-persist-pipeline-outputs\",\n",
    "    \"pipeline.github.base_ref\": \"development\",\n",
    "    \"pipeline.github.head_ref\": \"try-C-hyperparameter\",\n",
    "    \"pipeline.github.sha\": \"876109f37d9c7859966a244c1f8db39e7b4105e9\",\n",
    "    \"pipeline.github.ref\": \"refs/pull/55/merge\",\n",
    "    \"pipeline.github.ref_type\": \"branch\",\n",
    "    \"pipeline.github.ref_name\": \"55/merge\",\n",
    "    \"pipeline.github.event_name\": \"pull_request\",\n",
    "    \"task.nr_train_images\": 1000,\n",
    "    \"task.notebook\": \"notebooks/train-model.py\",\n",
    "    \"task.max_nr_retries\": \"1\",\n",
    "    \"run.retry_nr\": \"0\",\n",
    "    \"task.timeout_s\": \"None\",\n",
    "    \"task.num_cpus\": 1,\n",
    "    \"_opentelemetry_traceparent\": \"00-c8ac85eb09f8b1780e10779b0e0e7464-411d737fed744382-01\",\n",
    "}\n"
   ]
  },
  {
   "cell_type": "code",
   "execution_count": 4,
   "id": "92f1c052",
   "metadata": {
    "execution": {
     "iopub.execute_input": "2022-07-07T14:12:29.845686Z",
     "iopub.status.busy": "2022-07-07T14:12:29.845478Z",
     "iopub.status.idle": "2022-07-07T14:12:29.848298Z",
     "shell.execute_reply": "2022-07-07T14:12:29.847710Z"
    },
    "lines_to_next_cell": 0,
    "papermill": {
     "duration": 0.009219,
     "end_time": "2022-07-07T14:12:29.850857",
     "exception": false,
     "start_time": "2022-07-07T14:12:29.841638",
     "status": "completed"
    },
    "tags": []
   },
   "outputs": [],
   "source": [
    "# -----------------------------------------------------------------------"
   ]
  },
  {
   "cell_type": "markdown",
   "id": "2a21abd8",
   "metadata": {
    "papermill": {
     "duration": 0.002927,
     "end_time": "2022-07-07T14:12:29.856636",
     "exception": false,
     "start_time": "2022-07-07T14:12:29.853709",
     "status": "completed"
    },
    "tags": []
   },
   "source": [
    "---"
   ]
  },
  {
   "cell_type": "markdown",
   "id": "9586532e",
   "metadata": {
    "lines_to_next_cell": 2,
    "papermill": {
     "duration": 0.002787,
     "end_time": "2022-07-07T14:12:29.862238",
     "exception": false,
     "start_time": "2022-07-07T14:12:29.859451",
     "status": "completed"
    },
    "tags": []
   },
   "source": [
    "### Notebook code"
   ]
  },
  {
   "cell_type": "code",
   "execution_count": 5,
   "id": "553e73db",
   "metadata": {
    "execution": {
     "iopub.execute_input": "2022-07-07T14:12:29.869593Z",
     "iopub.status.busy": "2022-07-07T14:12:29.869365Z",
     "iopub.status.idle": "2022-07-07T14:12:30.359617Z",
     "shell.execute_reply": "2022-07-07T14:12:30.358906Z"
    },
    "papermill": {
     "duration": 0.495997,
     "end_time": "2022-07-07T14:12:30.361430",
     "exception": false,
     "start_time": "2022-07-07T14:12:29.865433",
     "status": "completed"
    },
    "tags": []
   },
   "outputs": [
    {
     "name": "stderr",
     "output_type": "stream",
     "text": [
      "2022-07-07 14:12:30,202\tINFO worker.py:842 -- Connecting to existing Ray cluster at address: 172.17.0.2:6379\n"
     ]
    }
   ],
   "source": [
    "from pynb_dag_runner.tasks.task_opentelemetry_logging import PydarLogger\n",
    "\n",
    "logger = PydarLogger(P)"
   ]
  },
  {
   "cell_type": "markdown",
   "id": "a5d4e5a9",
   "metadata": {
    "papermill": {
     "duration": 0.004208,
     "end_time": "2022-07-07T14:12:30.369175",
     "exception": false,
     "start_time": "2022-07-07T14:12:30.364967",
     "status": "completed"
    },
    "tags": []
   },
   "source": [
    "## Load and limit train data"
   ]
  },
  {
   "cell_type": "code",
   "execution_count": 6,
   "id": "4ca0e8aa",
   "metadata": {
    "execution": {
     "iopub.execute_input": "2022-07-07T14:12:30.376127Z",
     "iopub.status.busy": "2022-07-07T14:12:30.375786Z",
     "iopub.status.idle": "2022-07-07T14:12:30.767619Z",
     "shell.execute_reply": "2022-07-07T14:12:30.767023Z"
    },
    "papermill": {
     "duration": 0.397976,
     "end_time": "2022-07-07T14:12:30.769938",
     "exception": false,
     "start_time": "2022-07-07T14:12:30.371962",
     "status": "completed"
    },
    "tags": []
   },
   "outputs": [],
   "source": [
    "def load_and_limit_train_data(P):\n",
    "    from common.io import datalake_root, read_numpy\n",
    "    from sklearn.model_selection import train_test_split\n",
    "\n",
    "    X_train_all = read_numpy(datalake_root(P) / \"train-data\" / \"digits.numpy\")\n",
    "    y_train_all = read_numpy(datalake_root(P) / \"train-data\" / \"labels.numpy\")\n",
    "\n",
    "    assert isinstance(P[\"task.nr_train_images\"], int)\n",
    "\n",
    "    # Note: train_test_split will fail if split is 0 or 100%.\n",
    "    assert 0 < P[\"task.nr_train_images\"] < len(y_train_all)\n",
    "\n",
    "    X_train, _, y_train, _ = train_test_split(\n",
    "        X_train_all,\n",
    "        y_train_all,\n",
    "        train_size=P[\"task.nr_train_images\"],\n",
    "        test_size=None,\n",
    "        stratify=y_train_all,\n",
    "        shuffle=True,\n",
    "        random_state=123,\n",
    "    )\n",
    "\n",
    "    assert X_train.shape == (len(y_train), 8 * 8)\n",
    "    return X_train, y_train\n",
    "\n",
    "\n",
    "X_train, y_train = load_and_limit_train_data(P)"
   ]
  },
  {
   "cell_type": "markdown",
   "id": "57210d3e",
   "metadata": {
    "papermill": {
     "duration": 0.00308,
     "end_time": "2022-07-07T14:12:30.778110",
     "exception": false,
     "start_time": "2022-07-07T14:12:30.775030",
     "status": "completed"
    },
    "tags": []
   },
   "source": [
    "## Train support vector classifier model\n",
    "\n",
    "Below we assume that the hyperparameter $C$ is known.\n",
    "\n",
    "However, this should ideally be found by a hyperparameter search. That could be\n",
    "done in parallel on the Ray cluster, but this needs some more work. Ie., to use\n",
    "multiple cores in the notebook, those cores should be reserved when starting the\n",
    "notebook task (TODO).\n",
    "\n",
    "- https://docs.ray.io/en/latest/tune/key-concepts.html\n",
    "\n",
    "Note: cv-scores would need to be computed here, since they depend on the train data.\n",
    "After this notebook only the onnx-model is available."
   ]
  },
  {
   "cell_type": "code",
   "execution_count": 7,
   "id": "d2c44c7a",
   "metadata": {
    "execution": {
     "iopub.execute_input": "2022-07-07T14:12:30.785248Z",
     "iopub.status.busy": "2022-07-07T14:12:30.784912Z",
     "iopub.status.idle": "2022-07-07T14:12:30.809496Z",
     "shell.execute_reply": "2022-07-07T14:12:30.808732Z"
    },
    "papermill": {
     "duration": 0.030624,
     "end_time": "2022-07-07T14:12:30.811522",
     "exception": false,
     "start_time": "2022-07-07T14:12:30.780898",
     "status": "completed"
    },
    "tags": []
   },
   "outputs": [],
   "source": [
    "from sklearn.svm import SVC"
   ]
  },
  {
   "cell_type": "code",
   "execution_count": 8,
   "id": "92ed43b6",
   "metadata": {
    "execution": {
     "iopub.execute_input": "2022-07-07T14:12:30.819989Z",
     "iopub.status.busy": "2022-07-07T14:12:30.819350Z",
     "iopub.status.idle": "2022-07-07T14:12:30.969992Z",
     "shell.execute_reply": "2022-07-07T14:12:30.969335Z"
    },
    "papermill": {
     "duration": 0.156848,
     "end_time": "2022-07-07T14:12:30.971720",
     "exception": false,
     "start_time": "2022-07-07T14:12:30.814872",
     "status": "completed"
    },
    "tags": []
   },
   "outputs": [
    {
     "data": {
      "text/plain": [
       "SVC(kernel='linear', probability=True)"
      ]
     },
     "execution_count": 8,
     "metadata": {},
     "output_type": "execute_result"
    }
   ],
   "source": [
    "model = SVC(C=1.0, kernel=\"linear\", probability=True)\n",
    "\n",
    "model.fit(X_train, y_train)"
   ]
  },
  {
   "cell_type": "markdown",
   "id": "dd1e0d32",
   "metadata": {
    "papermill": {
     "duration": 0.00362,
     "end_time": "2022-07-07T14:12:30.978967",
     "exception": false,
     "start_time": "2022-07-07T14:12:30.975347",
     "status": "completed"
    },
    "tags": []
   },
   "source": [
    "### Q: Can the labels returned by `predict(..)` be computed from probabilities returned by the `predict_prob`-method?"
   ]
  },
  {
   "cell_type": "code",
   "execution_count": 9,
   "id": "04d8adf6",
   "metadata": {
    "execution": {
     "iopub.execute_input": "2022-07-07T14:12:30.986940Z",
     "iopub.status.busy": "2022-07-07T14:12:30.986678Z",
     "iopub.status.idle": "2022-07-07T14:12:31.054876Z",
     "shell.execute_reply": "2022-07-07T14:12:31.054293Z"
    },
    "papermill": {
     "duration": 0.074548,
     "end_time": "2022-07-07T14:12:31.056594",
     "exception": false,
     "start_time": "2022-07-07T14:12:30.982046",
     "status": "completed"
    },
    "tags": []
   },
   "outputs": [
    {
     "name": "stdout",
     "output_type": "stream",
     "text": [
      " - Logging nr_max_prob_neq_label (int) : 0\n"
     ]
    }
   ],
   "source": [
    "import numpy as np\n",
    "\n",
    "y_train_labels = model.predict(X_train)\n",
    "y_train_probabilities = model.predict_proba(X_train)\n",
    "assert y_train_probabilities.shape == (len(y_train), 10)\n",
    "\n",
    "y_train_max_prob_labels = np.argmax(y_train_probabilities, axis=1)\n",
    "assert y_train_labels.shape == y_train_max_prob_labels.shape == y_train.shape\n",
    "\n",
    "# If the predicted labels would coincide with the labels that have\n",
    "# maximum probability, the below number would be zero\n",
    "logger.log_int(\n",
    "    \"nr_max_prob_neq_label\", int(sum(y_train_max_prob_labels != y_train_labels))\n",
    ")"
   ]
  },
  {
   "cell_type": "markdown",
   "id": "2a6b774a",
   "metadata": {
    "papermill": {
     "duration": 0.003815,
     "end_time": "2022-07-07T14:12:31.063966",
     "exception": false,
     "start_time": "2022-07-07T14:12:31.060151",
     "status": "completed"
    },
    "tags": []
   },
   "source": [
    "The explanation is (likely) explained in the SVC source, see\n",
    "[here](https://github.com/scikit-learn/scikit-learn/blob/main/sklearn/svm/_base.py).\n",
    "Namely, the outputs from `predict(..)` and `predict_proba(..)` may not in some\n",
    "cases be compatible since the latter is computed using cross-validation while\n",
    "the former is not. Thus, the above number need not be zero."
   ]
  },
  {
   "cell_type": "markdown",
   "id": "95c3fe9f",
   "metadata": {
    "papermill": {
     "duration": 0.003694,
     "end_time": "2022-07-07T14:12:31.070646",
     "exception": false,
     "start_time": "2022-07-07T14:12:31.066952",
     "status": "completed"
    },
    "tags": []
   },
   "source": [
    "## Persist model"
   ]
  },
  {
   "cell_type": "code",
   "execution_count": 10,
   "id": "69009c3a",
   "metadata": {
    "execution": {
     "iopub.execute_input": "2022-07-07T14:12:31.078484Z",
     "iopub.status.busy": "2022-07-07T14:12:31.078214Z",
     "iopub.status.idle": "2022-07-07T14:12:31.832225Z",
     "shell.execute_reply": "2022-07-07T14:12:31.831558Z"
    },
    "papermill": {
     "duration": 0.760054,
     "end_time": "2022-07-07T14:12:31.834296",
     "exception": false,
     "start_time": "2022-07-07T14:12:31.074242",
     "status": "completed"
    },
    "tags": []
   },
   "outputs": [],
   "source": [
    "from skl2onnx import convert_sklearn\n",
    "from skl2onnx.common.data_types import FloatTensorType\n",
    "\n",
    "#\n",
    "from common.io import datalake_root, write_onnx"
   ]
  },
  {
   "cell_type": "code",
   "execution_count": 11,
   "id": "7481e72f",
   "metadata": {
    "execution": {
     "iopub.execute_input": "2022-07-07T14:12:31.843033Z",
     "iopub.status.busy": "2022-07-07T14:12:31.842466Z",
     "iopub.status.idle": "2022-07-07T14:12:31.889133Z",
     "shell.execute_reply": "2022-07-07T14:12:31.888515Z"
    },
    "papermill": {
     "duration": 0.053554,
     "end_time": "2022-07-07T14:12:31.891188",
     "exception": false,
     "start_time": "2022-07-07T14:12:31.837634",
     "status": "completed"
    },
    "tags": []
   },
   "outputs": [],
   "source": [
    "# convert sklearn model into onnx and persist to data lake\n",
    "\n",
    "model_onnx = convert_sklearn(\n",
    "    model, initial_types=[(\"float_input_8x8_image\", FloatTensorType([None, 8 * 8]))]\n",
    ")\n",
    "write_onnx(\n",
    "    datalake_root(P)\n",
    "    / \"models\"\n",
    "    / f\"nr_train_images={P['task.nr_train_images']}\"\n",
    "    / \"model.onnx\",\n",
    "    model_onnx,\n",
    ")"
   ]
  },
  {
   "cell_type": "code",
   "execution_count": null,
   "id": "5cf9afc2",
   "metadata": {
    "papermill": {
     "duration": 0.003986,
     "end_time": "2022-07-07T14:12:31.898967",
     "exception": false,
     "start_time": "2022-07-07T14:12:31.894981",
     "status": "completed"
    },
    "tags": []
   },
   "outputs": [],
   "source": []
  }
 ],
 "metadata": {
  "jupytext": {
   "cell_metadata_filter": "tags,-all",
   "main_language": "python",
   "notebook_metadata_filter": "-all"
  },
  "language_info": {
   "codemirror_mode": {
    "name": "ipython",
    "version": 3
   },
   "file_extension": ".py",
   "mimetype": "text/x-python",
   "name": "python",
   "nbconvert_exporter": "python",
   "pygments_lexer": "ipython3",
   "version": "3.8.10"
  },
  "papermill": {
   "default_parameters": {},
   "duration": 4.277619,
   "end_time": "2022-07-07T14:12:32.921772",
   "environment_variables": {},
   "exception": null,
   "input_path": "/home/host_user/workspace/mnist-demo-pipeline/mnist-demo-pipeline/notebooks/temp-notebook-can77lzs.ipynb",
   "output_path": "notebooks/train-model.ipynb",
   "parameters": {
    "P": {
     "_opentelemetry_traceparent": "00-c8ac85eb09f8b1780e10779b0e0e7464-411d737fed744382-01",
     "pipeline.data_lake_root": "/pipeline-outputs/data-lake",
     "pipeline.github.actor": "matiasdahl",
     "pipeline.github.base_ref": "development",
     "pipeline.github.event_name": "pull_request",
     "pipeline.github.head_ref": "try-C-hyperparameter",
     "pipeline.github.job": "run-tests-pipeline-and-persist-pipeline-outputs",
     "pipeline.github.ref": "refs/pull/55/merge",
     "pipeline.github.ref_name": "55/merge",
     "pipeline.github.ref_type": "branch",
     "pipeline.github.repository": "pynb-dag-runner/mnist-digits-demo-pipeline",
     "pipeline.github.run_id": "2630106939",
     "pipeline.github.runner_name": "GitHub Actions 3",
     "pipeline.github.sha": "876109f37d9c7859966a244c1f8db39e7b4105e9",
     "pipeline.github.workflow": "Run automated tests, pipeline and deploy results to static reporting site",
     "pipeline.pipeline_run_id": "6eaadf4c-6dc3-4086-abe2-ccf34399bbad",
     "pipeline.run_environment": "ci",
     "run.retry_nr": "0",
     "task.max_nr_retries": "1",
     "task.notebook": "notebooks/train-model.py",
     "task.nr_train_images": 1000,
     "task.num_cpus": 1,
     "task.timeout_s": "None"
    }
   },
   "start_time": "2022-07-07T14:12:28.644153",
   "version": "2.3.3"
  }
 },
 "nbformat": 4,
 "nbformat_minor": 5
}