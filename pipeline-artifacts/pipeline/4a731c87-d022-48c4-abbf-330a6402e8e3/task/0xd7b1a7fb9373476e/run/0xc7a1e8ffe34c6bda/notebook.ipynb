{
 "cells": [
  {
   "cell_type": "markdown",
   "id": "874726f1",
   "metadata": {
    "papermill": {
     "duration": 0.004738,
     "end_time": "2022-07-21T06:51:13.593925",
     "exception": false,
     "start_time": "2022-07-21T06:51:13.589187",
     "status": "completed"
    },
    "tags": []
   },
   "source": [
    "# Train model\n",
    "\n",
    "The purpose of this notebook is:\n",
    "\n",
    "- Load all training data (images and labels).\n",
    "- Limit number of train images to `task.nr_train_images` (value provided as run parameter).\n",
    "- Train a support vector machine model using sklearn.\n",
    "- Persist the trained model using the ONNX format."
   ]
  },
  {
   "cell_type": "markdown",
   "id": "bc2ca5fd",
   "metadata": {
    "papermill": {
     "duration": 0.002995,
     "end_time": "2022-07-21T06:51:13.601128",
     "exception": false,
     "start_time": "2022-07-21T06:51:13.598133",
     "status": "completed"
    },
    "tags": []
   },
   "source": [
    "### Determine run parameters"
   ]
  },
  {
   "cell_type": "code",
   "execution_count": 1,
   "id": "73474b30",
   "metadata": {
    "execution": {
     "iopub.execute_input": "2022-07-21T06:51:13.609957Z",
     "iopub.status.busy": "2022-07-21T06:51:13.609641Z",
     "iopub.status.idle": "2022-07-21T06:51:13.618073Z",
     "shell.execute_reply": "2022-07-21T06:51:13.617557Z"
    },
    "lines_to_next_cell": 0,
    "papermill": {
     "duration": 0.015016,
     "end_time": "2022-07-21T06:51:13.619675",
     "exception": false,
     "start_time": "2022-07-21T06:51:13.604659",
     "status": "completed"
    },
    "tags": []
   },
   "outputs": [],
   "source": [
    "# ----------------- Parameters for interactive development --------------\n",
    "P = {\n",
    "    \"pipeline.data_lake_root\": \"/pipeline-outputs/data-lake\",\n",
    "    \"task.nr_train_images\": 600,\n",
    "}"
   ]
  },
  {
   "cell_type": "code",
   "execution_count": 2,
   "id": "d93de337",
   "metadata": {
    "execution": {
     "iopub.execute_input": "2022-07-21T06:51:13.626348Z",
     "iopub.status.busy": "2022-07-21T06:51:13.625935Z",
     "iopub.status.idle": "2022-07-21T06:51:13.628775Z",
     "shell.execute_reply": "2022-07-21T06:51:13.628309Z"
    },
    "lines_to_next_cell": 0,
    "papermill": {
     "duration": 0.008649,
     "end_time": "2022-07-21T06:51:13.630903",
     "exception": false,
     "start_time": "2022-07-21T06:51:13.622254",
     "status": "completed"
    },
    "tags": [
     "parameters"
    ]
   },
   "outputs": [],
   "source": [
    "# - During automated runs parameters will be injected in the below cell -"
   ]
  },
  {
   "cell_type": "code",
   "execution_count": 3,
   "id": "683ae501",
   "metadata": {
    "execution": {
     "iopub.execute_input": "2022-07-21T06:51:13.636888Z",
     "iopub.status.busy": "2022-07-21T06:51:13.636697Z",
     "iopub.status.idle": "2022-07-21T06:51:13.640655Z",
     "shell.execute_reply": "2022-07-21T06:51:13.640183Z"
    },
    "papermill": {
     "duration": 0.009546,
     "end_time": "2022-07-21T06:51:13.642837",
     "exception": false,
     "start_time": "2022-07-21T06:51:13.633291",
     "status": "completed"
    },
    "tags": [
     "injected-parameters"
    ]
   },
   "outputs": [],
   "source": [
    "# Parameters\n",
    "P = {\n",
    "    \"pipeline.data_lake_root\": \"/pipeline-outputs/data-lake\",\n",
    "    \"pipeline.run_environment\": \"ci\",\n",
    "    \"pipeline.pipeline_run_id\": \"4a731c87-d022-48c4-abbf-330a6402e8e3\",\n",
    "    \"pipeline.github.repository\": \"pynb-dag-runner/mnist-digits-demo-pipeline\",\n",
    "    \"pipeline.github.workflow\": \"Run automated tests, pipeline and deploy results to static reporting site\",\n",
    "    \"pipeline.github.runner_name\": \"Hosted Agent\",\n",
    "    \"pipeline.github.run_id\": \"2709861045\",\n",
    "    \"pipeline.github.actor\": \"matiasdahl\",\n",
    "    \"pipeline.github.job\": \"run-tests-pipeline-and-persist-pipeline-outputs\",\n",
    "    \"pipeline.github.base_ref\": \"\",\n",
    "    \"pipeline.github.head_ref\": \"\",\n",
    "    \"pipeline.github.sha\": \"5a6f90a9473b3095841d5b5dc7b58f5f049a0f71\",\n",
    "    \"pipeline.github.ref\": \"refs/heads/development\",\n",
    "    \"pipeline.github.ref_type\": \"branch\",\n",
    "    \"pipeline.github.ref_name\": \"development\",\n",
    "    \"pipeline.github.event_name\": \"schedule\",\n",
    "    \"task.nr_train_images\": 800,\n",
    "    \"task.notebook\": \"notebooks/train-model.py\",\n",
    "    \"task.max_nr_retries\": \"1\",\n",
    "    \"run.retry_nr\": \"0\",\n",
    "    \"task.timeout_s\": \"None\",\n",
    "    \"task.num_cpus\": 1,\n",
    "    \"_opentelemetry_traceparent\": \"00-6f24b26aec5f4e42995b162b1295bd39-64a55ab56eec9132-01\",\n",
    "}\n"
   ]
  },
  {
   "cell_type": "code",
   "execution_count": 4,
   "id": "e3337cd7",
   "metadata": {
    "execution": {
     "iopub.execute_input": "2022-07-21T06:51:13.652213Z",
     "iopub.status.busy": "2022-07-21T06:51:13.652012Z",
     "iopub.status.idle": "2022-07-21T06:51:13.655236Z",
     "shell.execute_reply": "2022-07-21T06:51:13.654750Z"
    },
    "lines_to_next_cell": 0,
    "papermill": {
     "duration": 0.012126,
     "end_time": "2022-07-21T06:51:13.657539",
     "exception": false,
     "start_time": "2022-07-21T06:51:13.645413",
     "status": "completed"
    },
    "tags": []
   },
   "outputs": [],
   "source": [
    "# -----------------------------------------------------------------------"
   ]
  },
  {
   "cell_type": "markdown",
   "id": "86713484",
   "metadata": {
    "papermill": {
     "duration": 0.002673,
     "end_time": "2022-07-21T06:51:13.662647",
     "exception": false,
     "start_time": "2022-07-21T06:51:13.659974",
     "status": "completed"
    },
    "tags": []
   },
   "source": [
    "---"
   ]
  },
  {
   "cell_type": "markdown",
   "id": "20c4c7e5",
   "metadata": {
    "lines_to_next_cell": 2,
    "papermill": {
     "duration": 0.002579,
     "end_time": "2022-07-21T06:51:13.667630",
     "exception": false,
     "start_time": "2022-07-21T06:51:13.665051",
     "status": "completed"
    },
    "tags": []
   },
   "source": [
    "### Notebook code"
   ]
  },
  {
   "cell_type": "code",
   "execution_count": 5,
   "id": "436c248e",
   "metadata": {
    "execution": {
     "iopub.execute_input": "2022-07-21T06:51:13.673811Z",
     "iopub.status.busy": "2022-07-21T06:51:13.673551Z",
     "iopub.status.idle": "2022-07-21T06:51:14.161423Z",
     "shell.execute_reply": "2022-07-21T06:51:14.159714Z"
    },
    "papermill": {
     "duration": 0.493348,
     "end_time": "2022-07-21T06:51:14.163405",
     "exception": false,
     "start_time": "2022-07-21T06:51:13.670057",
     "status": "completed"
    },
    "tags": []
   },
   "outputs": [
    {
     "name": "stderr",
     "output_type": "stream",
     "text": [
      "2022-07-21 06:51:13,984\tINFO worker.py:842 -- Connecting to existing Ray cluster at address: 172.17.0.2:6379\n"
     ]
    }
   ],
   "source": [
    "from pynb_dag_runner.tasks.task_opentelemetry_logging import PydarLogger\n",
    "\n",
    "logger = PydarLogger(P)"
   ]
  },
  {
   "cell_type": "markdown",
   "id": "41c72131",
   "metadata": {
    "papermill": {
     "duration": 0.003282,
     "end_time": "2022-07-21T06:51:14.170143",
     "exception": false,
     "start_time": "2022-07-21T06:51:14.166861",
     "status": "completed"
    },
    "tags": []
   },
   "source": [
    "## Load and limit train data"
   ]
  },
  {
   "cell_type": "code",
   "execution_count": 6,
   "id": "248cb999",
   "metadata": {
    "execution": {
     "iopub.execute_input": "2022-07-21T06:51:14.177852Z",
     "iopub.status.busy": "2022-07-21T06:51:14.177507Z",
     "iopub.status.idle": "2022-07-21T06:51:14.583507Z",
     "shell.execute_reply": "2022-07-21T06:51:14.582696Z"
    },
    "papermill": {
     "duration": 0.411984,
     "end_time": "2022-07-21T06:51:14.585532",
     "exception": false,
     "start_time": "2022-07-21T06:51:14.173548",
     "status": "completed"
    },
    "tags": []
   },
   "outputs": [],
   "source": [
    "def load_and_limit_train_data(P):\n",
    "    from common.io import datalake_root, read_numpy\n",
    "    from sklearn.model_selection import train_test_split\n",
    "\n",
    "    X_train_all = read_numpy(datalake_root(P) / \"train-data\" / \"digits.numpy\")\n",
    "    y_train_all = read_numpy(datalake_root(P) / \"train-data\" / \"labels.numpy\")\n",
    "\n",
    "    assert isinstance(P[\"task.nr_train_images\"], int)\n",
    "\n",
    "    # Note: train_test_split will fail if split is 0 or 100%.\n",
    "    assert 0 < P[\"task.nr_train_images\"] < len(y_train_all)\n",
    "\n",
    "    X_train, _, y_train, _ = train_test_split(\n",
    "        X_train_all,\n",
    "        y_train_all,\n",
    "        train_size=P[\"task.nr_train_images\"],\n",
    "        test_size=None,\n",
    "        stratify=y_train_all,\n",
    "        shuffle=True,\n",
    "        random_state=123,\n",
    "    )\n",
    "\n",
    "    assert X_train.shape == (len(y_train), 8 * 8)\n",
    "    return X_train, y_train\n",
    "\n",
    "\n",
    "X_train, y_train = load_and_limit_train_data(P)"
   ]
  },
  {
   "cell_type": "markdown",
   "id": "da052290",
   "metadata": {
    "papermill": {
     "duration": 0.003047,
     "end_time": "2022-07-21T06:51:14.594015",
     "exception": false,
     "start_time": "2022-07-21T06:51:14.590968",
     "status": "completed"
    },
    "tags": []
   },
   "source": [
    "## Train support vector classifier model\n",
    "\n",
    "Below we assume that the hyperparameter $C$ is known.\n",
    "\n",
    "However, this should ideally be found by a hyperparameter search. That could be\n",
    "done in parallel on the Ray cluster, but this needs some more work. Ie., to use\n",
    "multiple cores in the notebook, those cores should be reserved when starting the\n",
    "notebook task (TODO).\n",
    "\n",
    "- https://docs.ray.io/en/latest/tune/key-concepts.html\n",
    "\n",
    "Note: cv-scores would need to be computed here, since they depend on the train data.\n",
    "After this notebook only the onnx-model is available."
   ]
  },
  {
   "cell_type": "code",
   "execution_count": 7,
   "id": "db5938b7",
   "metadata": {
    "execution": {
     "iopub.execute_input": "2022-07-21T06:51:14.601858Z",
     "iopub.status.busy": "2022-07-21T06:51:14.601587Z",
     "iopub.status.idle": "2022-07-21T06:51:14.711507Z",
     "shell.execute_reply": "2022-07-21T06:51:14.710783Z"
    },
    "papermill": {
     "duration": 0.116823,
     "end_time": "2022-07-21T06:51:14.713715",
     "exception": false,
     "start_time": "2022-07-21T06:51:14.596892",
     "status": "completed"
    },
    "tags": []
   },
   "outputs": [],
   "source": [
    "from sklearn.svm import SVC"
   ]
  },
  {
   "cell_type": "code",
   "execution_count": 8,
   "id": "25b28fcd",
   "metadata": {
    "execution": {
     "iopub.execute_input": "2022-07-21T06:51:14.721467Z",
     "iopub.status.busy": "2022-07-21T06:51:14.721114Z",
     "iopub.status.idle": "2022-07-21T06:51:14.836933Z",
     "shell.execute_reply": "2022-07-21T06:51:14.836170Z"
    },
    "papermill": {
     "duration": 0.12197,
     "end_time": "2022-07-21T06:51:14.839012",
     "exception": false,
     "start_time": "2022-07-21T06:51:14.717042",
     "status": "completed"
    },
    "tags": []
   },
   "outputs": [
    {
     "data": {
      "text/plain": [
       "SVC(C=0.001, kernel='linear', probability=True)"
      ]
     },
     "execution_count": 8,
     "metadata": {},
     "output_type": "execute_result"
    }
   ],
   "source": [
    "model = SVC(C=0.001, kernel=\"linear\", probability=True)\n",
    "\n",
    "model.fit(X_train, y_train)"
   ]
  },
  {
   "cell_type": "markdown",
   "id": "eb51ecac",
   "metadata": {
    "papermill": {
     "duration": 0.003367,
     "end_time": "2022-07-21T06:51:14.845519",
     "exception": false,
     "start_time": "2022-07-21T06:51:14.842152",
     "status": "completed"
    },
    "tags": []
   },
   "source": [
    "### Q: Can the labels returned by `predict(..)` be computed from probabilities returned by the `predict_prob`-method?"
   ]
  },
  {
   "cell_type": "code",
   "execution_count": 9,
   "id": "6f7ea187",
   "metadata": {
    "execution": {
     "iopub.execute_input": "2022-07-21T06:51:14.853257Z",
     "iopub.status.busy": "2022-07-21T06:51:14.852817Z",
     "iopub.status.idle": "2022-07-21T06:51:14.901974Z",
     "shell.execute_reply": "2022-07-21T06:51:14.901072Z"
    },
    "papermill": {
     "duration": 0.055669,
     "end_time": "2022-07-21T06:51:14.904254",
     "exception": false,
     "start_time": "2022-07-21T06:51:14.848585",
     "status": "completed"
    },
    "tags": []
   },
   "outputs": [
    {
     "name": "stdout",
     "output_type": "stream",
     "text": [
      " - Logging nr_max_prob_neq_label (int) : 1\n"
     ]
    }
   ],
   "source": [
    "import numpy as np\n",
    "\n",
    "y_train_labels = model.predict(X_train)\n",
    "y_train_probabilities = model.predict_proba(X_train)\n",
    "assert y_train_probabilities.shape == (len(y_train), 10)\n",
    "\n",
    "y_train_max_prob_labels = np.argmax(y_train_probabilities, axis=1)\n",
    "assert y_train_labels.shape == y_train_max_prob_labels.shape == y_train.shape\n",
    "\n",
    "# If the predicted labels would coincide with the labels that have\n",
    "# maximum probability, the below number would be zero\n",
    "logger.log_int(\n",
    "    \"nr_max_prob_neq_label\", int(sum(y_train_max_prob_labels != y_train_labels))\n",
    ")"
   ]
  },
  {
   "cell_type": "markdown",
   "id": "54577bba",
   "metadata": {
    "papermill": {
     "duration": 0.003459,
     "end_time": "2022-07-21T06:51:14.911134",
     "exception": false,
     "start_time": "2022-07-21T06:51:14.907675",
     "status": "completed"
    },
    "tags": []
   },
   "source": [
    "The explanation is (likely) explained in the SVC source, see\n",
    "[here](https://github.com/scikit-learn/scikit-learn/blob/main/sklearn/svm/_base.py).\n",
    "Namely, the outputs from `predict(..)` and `predict_proba(..)` may not in some\n",
    "cases be compatible since the latter is computed using cross-validation while\n",
    "the former is not. Thus, the above number need not be zero."
   ]
  },
  {
   "cell_type": "markdown",
   "id": "5b9b0540",
   "metadata": {
    "papermill": {
     "duration": 0.003171,
     "end_time": "2022-07-21T06:51:14.917641",
     "exception": false,
     "start_time": "2022-07-21T06:51:14.914470",
     "status": "completed"
    },
    "tags": []
   },
   "source": [
    "## Persist model"
   ]
  },
  {
   "cell_type": "code",
   "execution_count": 10,
   "id": "a435be9f",
   "metadata": {
    "execution": {
     "iopub.execute_input": "2022-07-21T06:51:14.925751Z",
     "iopub.status.busy": "2022-07-21T06:51:14.925393Z",
     "iopub.status.idle": "2022-07-21T06:51:16.053214Z",
     "shell.execute_reply": "2022-07-21T06:51:16.052556Z"
    },
    "papermill": {
     "duration": 1.134157,
     "end_time": "2022-07-21T06:51:16.055196",
     "exception": false,
     "start_time": "2022-07-21T06:51:14.921039",
     "status": "completed"
    },
    "tags": []
   },
   "outputs": [],
   "source": [
    "from skl2onnx import convert_sklearn\n",
    "from skl2onnx.common.data_types import FloatTensorType\n",
    "\n",
    "#\n",
    "from common.io import datalake_root, write_onnx"
   ]
  },
  {
   "cell_type": "code",
   "execution_count": 11,
   "id": "b36f1ba8",
   "metadata": {
    "execution": {
     "iopub.execute_input": "2022-07-21T06:51:16.064548Z",
     "iopub.status.busy": "2022-07-21T06:51:16.063973Z",
     "iopub.status.idle": "2022-07-21T06:51:16.111628Z",
     "shell.execute_reply": "2022-07-21T06:51:16.110885Z"
    },
    "papermill": {
     "duration": 0.054487,
     "end_time": "2022-07-21T06:51:16.113729",
     "exception": false,
     "start_time": "2022-07-21T06:51:16.059242",
     "status": "completed"
    },
    "tags": []
   },
   "outputs": [],
   "source": [
    "# convert sklearn model into onnx and persist to data lake\n",
    "\n",
    "model_onnx = convert_sklearn(\n",
    "    model, initial_types=[(\"float_input_8x8_image\", FloatTensorType([None, 8 * 8]))]\n",
    ")\n",
    "write_onnx(\n",
    "    datalake_root(P)\n",
    "    / \"models\"\n",
    "    / f\"nr_train_images={P['task.nr_train_images']}\"\n",
    "    / \"model.onnx\",\n",
    "    model_onnx,\n",
    ")"
   ]
  },
  {
   "cell_type": "code",
   "execution_count": null,
   "id": "60a64d00",
   "metadata": {
    "papermill": {
     "duration": 0.004554,
     "end_time": "2022-07-21T06:51:16.122123",
     "exception": false,
     "start_time": "2022-07-21T06:51:16.117569",
     "status": "completed"
    },
    "tags": []
   },
   "outputs": [],
   "source": []
  }
 ],
 "metadata": {
  "jupytext": {
   "cell_metadata_filter": "tags,-all",
   "main_language": "python",
   "notebook_metadata_filter": "-all"
  },
  "language_info": {
   "codemirror_mode": {
    "name": "ipython",
    "version": 3
   },
   "file_extension": ".py",
   "mimetype": "text/x-python",
   "name": "python",
   "nbconvert_exporter": "python",
   "pygments_lexer": "ipython3",
   "version": "3.8.10"
  },
  "papermill": {
   "default_parameters": {},
   "duration": 4.878572,
   "end_time": "2022-07-21T06:51:17.149539",
   "environment_variables": {},
   "exception": null,
   "input_path": "/home/host_user/workspace/mnist-demo-pipeline/mnist-demo-pipeline/notebooks/temp-notebook-7ncb5kdo.ipynb",
   "output_path": "notebooks/train-model.ipynb",
   "parameters": {
    "P": {
     "_opentelemetry_traceparent": "00-6f24b26aec5f4e42995b162b1295bd39-64a55ab56eec9132-01",
     "pipeline.data_lake_root": "/pipeline-outputs/data-lake",
     "pipeline.github.actor": "matiasdahl",
     "pipeline.github.base_ref": "",
     "pipeline.github.event_name": "schedule",
     "pipeline.github.head_ref": "",
     "pipeline.github.job": "run-tests-pipeline-and-persist-pipeline-outputs",
     "pipeline.github.ref": "refs/heads/development",
     "pipeline.github.ref_name": "development",
     "pipeline.github.ref_type": "branch",
     "pipeline.github.repository": "pynb-dag-runner/mnist-digits-demo-pipeline",
     "pipeline.github.run_id": "2709861045",
     "pipeline.github.runner_name": "Hosted Agent",
     "pipeline.github.sha": "5a6f90a9473b3095841d5b5dc7b58f5f049a0f71",
     "pipeline.github.workflow": "Run automated tests, pipeline and deploy results to static reporting site",
     "pipeline.pipeline_run_id": "4a731c87-d022-48c4-abbf-330a6402e8e3",
     "pipeline.run_environment": "ci",
     "run.retry_nr": "0",
     "task.max_nr_retries": "1",
     "task.notebook": "notebooks/train-model.py",
     "task.nr_train_images": 800,
     "task.num_cpus": 1,
     "task.timeout_s": "None"
    }
   },
   "start_time": "2022-07-21T06:51:12.270967",
   "version": "2.3.3"
  }
 },
 "nbformat": 4,
 "nbformat_minor": 5
}