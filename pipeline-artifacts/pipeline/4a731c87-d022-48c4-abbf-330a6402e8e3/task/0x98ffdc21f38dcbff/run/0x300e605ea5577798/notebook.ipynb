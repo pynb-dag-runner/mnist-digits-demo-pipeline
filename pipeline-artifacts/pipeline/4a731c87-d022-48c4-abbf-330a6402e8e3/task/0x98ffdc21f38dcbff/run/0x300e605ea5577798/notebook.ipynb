{
 "cells": [
  {
   "cell_type": "markdown",
   "id": "87be7bb0",
   "metadata": {
    "papermill": {
     "duration": 0.006712,
     "end_time": "2022-07-21T06:51:25.428118",
     "exception": false,
     "start_time": "2022-07-21T06:51:25.421406",
     "status": "completed"
    },
    "tags": []
   },
   "source": [
    "# Benchmark model\n",
    "\n",
    "The purpose of this notebook is to benchmark persisted onnx-model (trained in the\n",
    "previous step) against evaluation set."
   ]
  },
  {
   "cell_type": "markdown",
   "id": "65c18e7d",
   "metadata": {
    "papermill": {
     "duration": 0.004226,
     "end_time": "2022-07-21T06:51:25.436624",
     "exception": false,
     "start_time": "2022-07-21T06:51:25.432398",
     "status": "completed"
    },
    "tags": []
   },
   "source": [
    "### Determine run parameters"
   ]
  },
  {
   "cell_type": "code",
   "execution_count": 1,
   "id": "871897a4",
   "metadata": {
    "execution": {
     "iopub.execute_input": "2022-07-21T06:51:25.446174Z",
     "iopub.status.busy": "2022-07-21T06:51:25.445836Z",
     "iopub.status.idle": "2022-07-21T06:51:25.454746Z",
     "shell.execute_reply": "2022-07-21T06:51:25.453912Z"
    },
    "lines_to_next_cell": 0,
    "papermill": {
     "duration": 0.016627,
     "end_time": "2022-07-21T06:51:25.457428",
     "exception": false,
     "start_time": "2022-07-21T06:51:25.440801",
     "status": "completed"
    },
    "tags": []
   },
   "outputs": [],
   "source": [
    "# ----------------- Parameters for interactive development --------------\n",
    "P = {\n",
    "    \"pipeline.data_lake_root\": \"/pipeline-outputs/data-lake\",\n",
    "    \"task.nr_train_images\": 600,\n",
    "}"
   ]
  },
  {
   "cell_type": "code",
   "execution_count": 2,
   "id": "0f81e06a",
   "metadata": {
    "execution": {
     "iopub.execute_input": "2022-07-21T06:51:25.466729Z",
     "iopub.status.busy": "2022-07-21T06:51:25.466439Z",
     "iopub.status.idle": "2022-07-21T06:51:25.469913Z",
     "shell.execute_reply": "2022-07-21T06:51:25.469364Z"
    },
    "lines_to_next_cell": 0,
    "papermill": {
     "duration": 0.011086,
     "end_time": "2022-07-21T06:51:25.472730",
     "exception": false,
     "start_time": "2022-07-21T06:51:25.461644",
     "status": "completed"
    },
    "tags": [
     "parameters"
    ]
   },
   "outputs": [],
   "source": [
    "# - During automated runs parameters will be injected in the below cell -"
   ]
  },
  {
   "cell_type": "code",
   "execution_count": 3,
   "id": "cf930132",
   "metadata": {
    "execution": {
     "iopub.execute_input": "2022-07-21T06:51:25.481626Z",
     "iopub.status.busy": "2022-07-21T06:51:25.481416Z",
     "iopub.status.idle": "2022-07-21T06:51:25.491061Z",
     "shell.execute_reply": "2022-07-21T06:51:25.490110Z"
    },
    "papermill": {
     "duration": 0.017786,
     "end_time": "2022-07-21T06:51:25.494268",
     "exception": false,
     "start_time": "2022-07-21T06:51:25.476482",
     "status": "completed"
    },
    "tags": [
     "injected-parameters"
    ]
   },
   "outputs": [],
   "source": [
    "# Parameters\n",
    "P = {\n",
    "    \"pipeline.data_lake_root\": \"/pipeline-outputs/data-lake\",\n",
    "    \"pipeline.run_environment\": \"ci\",\n",
    "    \"pipeline.pipeline_run_id\": \"4a731c87-d022-48c4-abbf-330a6402e8e3\",\n",
    "    \"pipeline.github.repository\": \"pynb-dag-runner/mnist-digits-demo-pipeline\",\n",
    "    \"pipeline.github.workflow\": \"Run automated tests, pipeline and deploy results to static reporting site\",\n",
    "    \"pipeline.github.runner_name\": \"Hosted Agent\",\n",
    "    \"pipeline.github.run_id\": \"2709861045\",\n",
    "    \"pipeline.github.actor\": \"matiasdahl\",\n",
    "    \"pipeline.github.job\": \"run-tests-pipeline-and-persist-pipeline-outputs\",\n",
    "    \"pipeline.github.base_ref\": \"\",\n",
    "    \"pipeline.github.head_ref\": \"\",\n",
    "    \"pipeline.github.sha\": \"5a6f90a9473b3095841d5b5dc7b58f5f049a0f71\",\n",
    "    \"pipeline.github.ref\": \"refs/heads/development\",\n",
    "    \"pipeline.github.ref_type\": \"branch\",\n",
    "    \"pipeline.github.ref_name\": \"development\",\n",
    "    \"pipeline.github.event_name\": \"schedule\",\n",
    "    \"task.nr_train_images\": 800,\n",
    "    \"task.notebook\": \"notebooks/benchmark-model.py\",\n",
    "    \"task.max_nr_retries\": \"1\",\n",
    "    \"run.retry_nr\": \"0\",\n",
    "    \"task.timeout_s\": \"None\",\n",
    "    \"task.num_cpus\": 1,\n",
    "    \"_opentelemetry_traceparent\": \"00-6f24b26aec5f4e42995b162b1295bd39-ba313401af53424c-01\",\n",
    "}\n"
   ]
  },
  {
   "cell_type": "code",
   "execution_count": 4,
   "id": "145e0fdf",
   "metadata": {
    "execution": {
     "iopub.execute_input": "2022-07-21T06:51:25.505286Z",
     "iopub.status.busy": "2022-07-21T06:51:25.504993Z",
     "iopub.status.idle": "2022-07-21T06:51:25.508593Z",
     "shell.execute_reply": "2022-07-21T06:51:25.507847Z"
    },
    "lines_to_next_cell": 0,
    "papermill": {
     "duration": 0.01138,
     "end_time": "2022-07-21T06:51:25.510454",
     "exception": false,
     "start_time": "2022-07-21T06:51:25.499074",
     "status": "completed"
    },
    "tags": []
   },
   "outputs": [],
   "source": [
    "# -----------------------------------------------------------------------"
   ]
  },
  {
   "cell_type": "markdown",
   "id": "1d562dfa",
   "metadata": {
    "papermill": {
     "duration": 0.004877,
     "end_time": "2022-07-21T06:51:25.519155",
     "exception": false,
     "start_time": "2022-07-21T06:51:25.514278",
     "status": "completed"
    },
    "tags": []
   },
   "source": [
    "---"
   ]
  },
  {
   "cell_type": "markdown",
   "id": "32a2ee1f",
   "metadata": {
    "lines_to_next_cell": 2,
    "papermill": {
     "duration": 0.004071,
     "end_time": "2022-07-21T06:51:25.526923",
     "exception": false,
     "start_time": "2022-07-21T06:51:25.522852",
     "status": "completed"
    },
    "tags": []
   },
   "source": [
    "### Notebook code"
   ]
  },
  {
   "cell_type": "code",
   "execution_count": 5,
   "id": "561b4d4a",
   "metadata": {
    "execution": {
     "iopub.execute_input": "2022-07-21T06:51:25.536098Z",
     "iopub.status.busy": "2022-07-21T06:51:25.535683Z",
     "iopub.status.idle": "2022-07-21T06:51:26.682983Z",
     "shell.execute_reply": "2022-07-21T06:51:26.681655Z"
    },
    "papermill": {
     "duration": 1.153941,
     "end_time": "2022-07-21T06:51:26.684752",
     "exception": false,
     "start_time": "2022-07-21T06:51:25.530811",
     "status": "completed"
    },
    "tags": []
   },
   "outputs": [
    {
     "name": "stderr",
     "output_type": "stream",
     "text": [
      "2022-07-21 06:51:26,510\tINFO worker.py:842 -- Connecting to existing Ray cluster at address: 172.17.0.2:6379\n"
     ]
    }
   ],
   "source": [
    "import itertools as it\n",
    "\n",
    "#\n",
    "import numpy as np\n",
    "import matplotlib.pyplot as plt\n",
    "\n",
    "#\n",
    "from pynb_dag_runner.tasks.task_opentelemetry_logging import PydarLogger\n",
    "\n",
    "#\n",
    "from common.io import datalake_root\n",
    "\n",
    "logger = PydarLogger(P)"
   ]
  },
  {
   "cell_type": "markdown",
   "id": "6c45d10d",
   "metadata": {
    "papermill": {
     "duration": 0.003739,
     "end_time": "2022-07-21T06:51:26.692692",
     "exception": false,
     "start_time": "2022-07-21T06:51:26.688953",
     "status": "completed"
    },
    "tags": []
   },
   "source": [
    "## Load persisted onnx-model and evaluation data"
   ]
  },
  {
   "cell_type": "code",
   "execution_count": 6,
   "id": "78344ae2",
   "metadata": {
    "execution": {
     "iopub.execute_input": "2022-07-21T06:51:26.701620Z",
     "iopub.status.busy": "2022-07-21T06:51:26.701100Z",
     "iopub.status.idle": "2022-07-21T06:51:26.706149Z",
     "shell.execute_reply": "2022-07-21T06:51:26.705560Z"
    },
    "papermill": {
     "duration": 0.01134,
     "end_time": "2022-07-21T06:51:26.707726",
     "exception": false,
     "start_time": "2022-07-21T06:51:26.696386",
     "status": "completed"
    },
    "tags": []
   },
   "outputs": [],
   "source": [
    "from common.io import read_onnx, get_onnx_inputs, get_onnx_outputs, read_numpy"
   ]
  },
  {
   "cell_type": "code",
   "execution_count": 7,
   "id": "aab6c005",
   "metadata": {
    "execution": {
     "iopub.execute_input": "2022-07-21T06:51:26.716276Z",
     "iopub.status.busy": "2022-07-21T06:51:26.715787Z",
     "iopub.status.idle": "2022-07-21T06:51:26.725168Z",
     "shell.execute_reply": "2022-07-21T06:51:26.724558Z"
    },
    "lines_to_next_cell": 0,
    "papermill": {
     "duration": 0.015478,
     "end_time": "2022-07-21T06:51:26.726810",
     "exception": false,
     "start_time": "2022-07-21T06:51:26.711332",
     "status": "completed"
    },
    "tags": []
   },
   "outputs": [],
   "source": [
    "onnx_inference_session = read_onnx(\n",
    "    datalake_root(P)\n",
    "    / \"models\"\n",
    "    / f\"nr_train_images={P['task.nr_train_images']}\"\n",
    "    / \"model.onnx\"\n",
    ")"
   ]
  },
  {
   "cell_type": "markdown",
   "id": "eccbfa78",
   "metadata": {
    "papermill": {
     "duration": 0.003874,
     "end_time": "2022-07-21T06:51:26.735381",
     "exception": false,
     "start_time": "2022-07-21T06:51:26.731507",
     "status": "completed"
    },
    "tags": []
   },
   "source": [
    "### Record structure of inputs and outputs for ONNX model\n",
    "\n",
    "(this should likely be done in training notebook)"
   ]
  },
  {
   "cell_type": "code",
   "execution_count": 8,
   "id": "699cefd9",
   "metadata": {
    "execution": {
     "iopub.execute_input": "2022-07-21T06:51:26.744105Z",
     "iopub.status.busy": "2022-07-21T06:51:26.743733Z",
     "iopub.status.idle": "2022-07-21T06:51:26.750610Z",
     "shell.execute_reply": "2022-07-21T06:51:26.749775Z"
    },
    "papermill": {
     "duration": 0.012876,
     "end_time": "2022-07-21T06:51:26.751969",
     "exception": false,
     "start_time": "2022-07-21T06:51:26.739093",
     "status": "completed"
    },
    "tags": []
   },
   "outputs": [
    {
     "name": "stdout",
     "output_type": "stream",
     "text": [
      "{\n",
      "  \"inputs\": [\n",
      "    {\n",
      "      \"name\": \"float_input_8x8_image\",\n",
      "      \"shape\": [\n",
      "        null,\n",
      "        64\n",
      "      ],\n",
      "      \"type\": \"tensor(float)\"\n",
      "    }\n",
      "  ],\n",
      "  \"outputs\": [\n",
      "    {\n",
      "      \"name\": \"output_label\",\n",
      "      \"shape\": [\n",
      "        null\n",
      "      ],\n",
      "      \"type\": \"tensor(int64)\"\n",
      "    },\n",
      "    {\n",
      "      \"name\": \"output_probability\",\n",
      "      \"shape\": [],\n",
      "      \"type\": \"seq(map(int64,tensor(float)))\"\n",
      "    }\n",
      "  ]\n",
      "}\n"
     ]
    }
   ],
   "source": [
    "import json\n",
    "\n",
    "onnx_io = json.dumps(\n",
    "    {\n",
    "        \"inputs\": get_onnx_inputs(onnx_inference_session),\n",
    "        \"outputs\": get_onnx_outputs(onnx_inference_session),\n",
    "    },\n",
    "    indent=2,\n",
    ")\n",
    "\n",
    "\n",
    "logger.log_artefact(\"onnx_io_structure.json\", onnx_io)\n",
    "print(onnx_io)"
   ]
  },
  {
   "cell_type": "markdown",
   "id": "b4b89183",
   "metadata": {
    "papermill": {
     "duration": 0.003799,
     "end_time": "2022-07-21T06:51:26.759407",
     "exception": false,
     "start_time": "2022-07-21T06:51:26.755608",
     "status": "completed"
    },
    "tags": []
   },
   "source": [
    "### Evaluate model performance on evaluation data set"
   ]
  },
  {
   "cell_type": "code",
   "execution_count": 9,
   "id": "96ba9d97",
   "metadata": {
    "execution": {
     "iopub.execute_input": "2022-07-21T06:51:26.768469Z",
     "iopub.status.busy": "2022-07-21T06:51:26.767647Z",
     "iopub.status.idle": "2022-07-21T06:51:26.772950Z",
     "shell.execute_reply": "2022-07-21T06:51:26.772354Z"
    },
    "papermill": {
     "duration": 0.011502,
     "end_time": "2022-07-21T06:51:26.774362",
     "exception": false,
     "start_time": "2022-07-21T06:51:26.762860",
     "status": "completed"
    },
    "tags": []
   },
   "outputs": [],
   "source": [
    "# load evaluation data\n",
    "X_test = read_numpy(datalake_root(P) / \"test-data\" / \"digits.numpy\")\n",
    "y_test = read_numpy(datalake_root(P) / \"test-data\" / \"labels.numpy\")"
   ]
  },
  {
   "cell_type": "code",
   "execution_count": 10,
   "id": "390dae2f",
   "metadata": {
    "execution": {
     "iopub.execute_input": "2022-07-21T06:51:26.783159Z",
     "iopub.status.busy": "2022-07-21T06:51:26.782865Z",
     "iopub.status.idle": "2022-07-21T06:51:26.794737Z",
     "shell.execute_reply": "2022-07-21T06:51:26.794094Z"
    },
    "papermill": {
     "duration": 0.018113,
     "end_time": "2022-07-21T06:51:26.796387",
     "exception": false,
     "start_time": "2022-07-21T06:51:26.778274",
     "status": "completed"
    },
    "tags": []
   },
   "outputs": [],
   "source": [
    "def get_model_outputs(X, onnx_inference_session):\n",
    "    y_pred_labels, y_pred_map = onnx_inference_session.run(\n",
    "        [\"output_label\", \"output_probability\"],\n",
    "        {\"float_input_8x8_image\": X.astype(np.float32)},\n",
    "    )\n",
    "    y_pred_probs = np.array(\n",
    "        [[probabilities[digit] for digit in range(10)] for probabilities in y_pred_map]\n",
    "    )\n",
    "\n",
    "    assert y_pred_labels.shape == (X.shape[0],)\n",
    "    assert y_pred_probs.shape == (X.shape[0], 10)\n",
    "\n",
    "    return y_pred_labels, y_pred_probs\n",
    "\n",
    "\n",
    "# Note: as shown in the training notebook, the predicted labels and probabilities\n",
    "# computed below need not be compatible.\n",
    "y_pred_labels_test, y_pred_probs_test = get_model_outputs(\n",
    "    X_test, onnx_inference_session\n",
    ")"
   ]
  },
  {
   "cell_type": "markdown",
   "id": "f4a8a3dd",
   "metadata": {
    "papermill": {
     "duration": 0.003815,
     "end_time": "2022-07-21T06:51:26.804121",
     "exception": false,
     "start_time": "2022-07-21T06:51:26.800306",
     "status": "completed"
    },
    "tags": []
   },
   "source": [
    "### Confusion matrix"
   ]
  },
  {
   "cell_type": "code",
   "execution_count": 11,
   "id": "fbf01d35",
   "metadata": {
    "execution": {
     "iopub.execute_input": "2022-07-21T06:51:26.812551Z",
     "iopub.status.busy": "2022-07-21T06:51:26.812248Z",
     "iopub.status.idle": "2022-07-21T06:51:26.815440Z",
     "shell.execute_reply": "2022-07-21T06:51:26.814785Z"
    },
    "papermill": {
     "duration": 0.009263,
     "end_time": "2022-07-21T06:51:26.816998",
     "exception": false,
     "start_time": "2022-07-21T06:51:26.807735",
     "status": "completed"
    },
    "tags": []
   },
   "outputs": [],
   "source": [
    "# TODO"
   ]
  },
  {
   "cell_type": "markdown",
   "id": "dc891feb",
   "metadata": {
    "papermill": {
     "duration": 0.003893,
     "end_time": "2022-07-21T06:51:26.824701",
     "exception": false,
     "start_time": "2022-07-21T06:51:26.820808",
     "status": "completed"
    },
    "tags": []
   },
   "source": [
    "### Plot predicted probabilities for each classifier over all evaluation digit images"
   ]
  },
  {
   "cell_type": "code",
   "execution_count": 12,
   "id": "b334bd46",
   "metadata": {
    "execution": {
     "iopub.execute_input": "2022-07-21T06:51:26.838123Z",
     "iopub.status.busy": "2022-07-21T06:51:26.835786Z",
     "iopub.status.idle": "2022-07-21T06:51:29.951550Z",
     "shell.execute_reply": "2022-07-21T06:51:29.950848Z"
    },
    "papermill": {
     "duration": 3.125056,
     "end_time": "2022-07-21T06:51:29.953328",
     "exception": false,
     "start_time": "2022-07-21T06:51:26.828272",
     "status": "completed"
    },
    "tags": []
   },
   "outputs": [
    {
     "data": {
      "image/png": "[encoded data removed]",
      "text/plain": [
       "<Figure size 1152x432 with 10 Axes>"
      ]
     },
     "metadata": {
      "needs_background": "light"
     },
     "output_type": "display_data"
    }
   ],
   "source": [
    "def plot_per_digit_probabilities(y_pred_probs):\n",
    "    fig, axs = plt.subplots(nrows=2, ncols=5, figsize=(16, 6))\n",
    "\n",
    "    for (r, c), digit, ax in zip(\n",
    "        it.product(range(2), range(5)), range(10), axs.reshape(-1)\n",
    "    ):\n",
    "        ax.hist(y_pred_probs_test[:, digit], bins=20)\n",
    "\n",
    "        ax.set_title(f\"Digit {digit}\")\n",
    "        if r == 1 and c == 2:\n",
    "            ax.set_xlabel(\"probability\", fontsize=16)\n",
    "\n",
    "        if c == 0:\n",
    "            ax.set_ylabel(\"counts\", fontsize=16)\n",
    "        ax.set_yscale(\"log\")\n",
    "\n",
    "    fig.tight_layout()\n",
    "    fig.suptitle(\n",
    "        f\"Distributions of prediction probabilities for each digit \"\n",
    "        f\"(on evaluation data, n={y_pred_probs.shape[0]})\",\n",
    "        fontsize=20,\n",
    "    )\n",
    "    fig.tight_layout()\n",
    "    fig.show()\n",
    "\n",
    "    return fig\n",
    "\n",
    "\n",
    "fig = plot_per_digit_probabilities(y_pred_probs_test)"
   ]
  },
  {
   "cell_type": "markdown",
   "id": "21af1b64",
   "metadata": {
    "papermill": {
     "duration": 0.004356,
     "end_time": "2022-07-21T06:51:29.962268",
     "exception": false,
     "start_time": "2022-07-21T06:51:29.957912",
     "status": "completed"
    },
    "tags": []
   },
   "source": [
    "From the above distributions we see that most digits have clear separation between\n",
    "high and lower probabilities. Morover, in each case there is roughly an order of\n",
    "magnitude more of digits with low probabilities. This is compatible with digits\n",
    "being roughly evenly distributed in the data."
   ]
  },
  {
   "cell_type": "code",
   "execution_count": 13,
   "id": "3b91e458",
   "metadata": {
    "execution": {
     "iopub.execute_input": "2022-07-21T06:51:29.972078Z",
     "iopub.status.busy": "2022-07-21T06:51:29.971567Z",
     "iopub.status.idle": "2022-07-21T06:51:30.354453Z",
     "shell.execute_reply": "2022-07-21T06:51:30.353888Z"
    },
    "papermill": {
     "duration": 0.390092,
     "end_time": "2022-07-21T06:51:30.356436",
     "exception": false,
     "start_time": "2022-07-21T06:51:29.966344",
     "status": "completed"
    },
    "tags": []
   },
   "outputs": [],
   "source": [
    "logger.log_figure(\"per-digit-probabilities.png\", fig)"
   ]
  },
  {
   "cell_type": "markdown",
   "id": "bdbeac21",
   "metadata": {
    "papermill": {
     "duration": 0.008305,
     "end_time": "2022-07-21T06:51:30.369970",
     "exception": false,
     "start_time": "2022-07-21T06:51:30.361665",
     "status": "completed"
    },
    "tags": []
   },
   "source": [
    "### Plot ROC curves for individual one-vs-rest classifiers"
   ]
  },
  {
   "cell_type": "code",
   "execution_count": 14,
   "id": "3f96fc03",
   "metadata": {
    "execution": {
     "iopub.execute_input": "2022-07-21T06:51:30.382313Z",
     "iopub.status.busy": "2022-07-21T06:51:30.382059Z",
     "iopub.status.idle": "2022-07-21T06:51:30.803419Z",
     "shell.execute_reply": "2022-07-21T06:51:30.802541Z"
    },
    "papermill": {
     "duration": 0.429211,
     "end_time": "2022-07-21T06:51:30.805332",
     "exception": false,
     "start_time": "2022-07-21T06:51:30.376121",
     "status": "completed"
    },
    "tags": []
   },
   "outputs": [
    {
     "name": "stdout",
     "output_type": "stream",
     "text": [
      "\u001b[2m\u001b[1m\u001b[36m(scheduler +4s)\u001b[0m Tip: use `ray status` to view detailed cluster status. To disable these messages, set RAY_SCHEDULER_EVENTS=0.\n",
      "\u001b[2m\u001b[1m\u001b[33m(scheduler +4s)\u001b[0m Warning: The following resource request cannot be scheduled right now: {'CPU': 1.0}. This is likely due to all cluster resources being claimed by actors. Consider creating fewer actors or adding more nodes to this Ray cluster.\n"
     ]
    }
   ],
   "source": [
    "from sklearn import metrics"
   ]
  },
  {
   "cell_type": "code",
   "execution_count": 15,
   "id": "6c479fd1",
   "metadata": {
    "execution": {
     "iopub.execute_input": "2022-07-21T06:51:30.817811Z",
     "iopub.status.busy": "2022-07-21T06:51:30.817172Z",
     "iopub.status.idle": "2022-07-21T06:51:31.889718Z",
     "shell.execute_reply": "2022-07-21T06:51:31.889108Z"
    },
    "papermill": {
     "duration": 1.080922,
     "end_time": "2022-07-21T06:51:31.891461",
     "exception": false,
     "start_time": "2022-07-21T06:51:30.810539",
     "status": "completed"
    },
    "tags": []
   },
   "outputs": [
    {
     "data": {
      "image/png": "[encoded data removed]",
      "text/plain": [
       "<Figure size 1152x576 with 10 Axes>"
      ]
     },
     "metadata": {
      "needs_background": "light"
     },
     "output_type": "display_data"
    }
   ],
   "source": [
    "def plot_roc_curves(y, y_pred_probs):\n",
    "    # based on example code\n",
    "    # https://scikit-learn.org/stable/auto_examples/model_selection/plot_roc.html\n",
    "\n",
    "    fig, axs = plt.subplots(nrows=2, ncols=5, figsize=(16, 8))\n",
    "\n",
    "    roc_auc_dict = {}\n",
    "\n",
    "    for (r, c), digit, ax in zip(\n",
    "        it.product(range(2), range(5)), range(10), axs.reshape(-1)\n",
    "    ):\n",
    "        fpr, tpr, _ = metrics.roc_curve(y == digit, y_pred_probs[:, digit])\n",
    "        auc = metrics.auc(fpr, tpr)\n",
    "        roc_auc_dict[str(digit)] = auc\n",
    "\n",
    "        ax.plot(fpr, tpr, label=f\"ROC AUC={round(auc, 3)}\")\n",
    "\n",
    "        ax.set_title(f\"\\nDigit {digit}\", fontsize=16)\n",
    "        if r == 1:\n",
    "            ax.set_xlabel(\"FPR\", fontsize=18)\n",
    "\n",
    "        if c == 0:\n",
    "            ax.set_ylabel(\"TPR\", fontsize=18)\n",
    "\n",
    "        ax.set_xlim([-0.05, 1.05])\n",
    "        ax.set_ylim([-0.05, 1.05])\n",
    "        ax.legend(loc=\"lower right\", frameon=False, fontsize=14)\n",
    "\n",
    "    fig.tight_layout()\n",
    "    fig.suptitle(\n",
    "        f\"ROC plots for one-vs-rest performances \"\n",
    "        f\"(on evaluation data, n={y_pred_probs_test.shape[1]}\",\n",
    "        fontsize=22,\n",
    "    )\n",
    "    fig.tight_layout()\n",
    "    fig.show()\n",
    "\n",
    "    return roc_auc_dict, fig\n",
    "\n",
    "\n",
    "roc_auc_dict, fig = plot_roc_curves(y_test, y_pred_probs_test)"
   ]
  },
  {
   "cell_type": "code",
   "execution_count": 16,
   "id": "4cc2a7aa",
   "metadata": {
    "execution": {
     "iopub.execute_input": "2022-07-21T06:51:31.906068Z",
     "iopub.status.busy": "2022-07-21T06:51:31.905395Z",
     "iopub.status.idle": "2022-07-21T06:51:32.136968Z",
     "shell.execute_reply": "2022-07-21T06:51:32.136289Z"
    },
    "papermill": {
     "duration": 0.241372,
     "end_time": "2022-07-21T06:51:32.139392",
     "exception": false,
     "start_time": "2022-07-21T06:51:31.898020",
     "status": "completed"
    },
    "tags": []
   },
   "outputs": [],
   "source": [
    "logger.log_figure(\"per-digit-roc-curves.png\", fig)"
   ]
  },
  {
   "cell_type": "code",
   "execution_count": 17,
   "id": "1d33e9e8",
   "metadata": {
    "execution": {
     "iopub.execute_input": "2022-07-21T06:51:32.154035Z",
     "iopub.status.busy": "2022-07-21T06:51:32.153700Z",
     "iopub.status.idle": "2022-07-21T06:51:32.158977Z",
     "shell.execute_reply": "2022-07-21T06:51:32.158000Z"
    },
    "papermill": {
     "duration": 0.016318,
     "end_time": "2022-07-21T06:51:32.161624",
     "exception": false,
     "start_time": "2022-07-21T06:51:32.145306",
     "status": "completed"
    },
    "tags": []
   },
   "outputs": [
    {
     "data": {
      "text/plain": [
       "{'0': 1.0,\n",
       " '1': 0.9988003748828491,\n",
       " '2': 1.0,\n",
       " '3': 0.9998125585754452,\n",
       " '4': 0.9994284407864654,\n",
       " '5': 0.9991002811621369,\n",
       " '6': 0.999961896052431,\n",
       " '7': 0.9998856881572931,\n",
       " '8': 0.9932219419924339,\n",
       " '9': 0.9994284407864654}"
      ]
     },
     "execution_count": 17,
     "metadata": {},
     "output_type": "execute_result"
    }
   ],
   "source": [
    "roc_auc_dict"
   ]
  },
  {
   "cell_type": "code",
   "execution_count": 18,
   "id": "5a55ebe7",
   "metadata": {
    "execution": {
     "iopub.execute_input": "2022-07-21T06:51:32.174589Z",
     "iopub.status.busy": "2022-07-21T06:51:32.174369Z",
     "iopub.status.idle": "2022-07-21T06:51:32.178838Z",
     "shell.execute_reply": "2022-07-21T06:51:32.178076Z"
    },
    "papermill": {
     "duration": 0.014264,
     "end_time": "2022-07-21T06:51:32.181747",
     "exception": false,
     "start_time": "2022-07-21T06:51:32.167483",
     "status": "completed"
    },
    "tags": []
   },
   "outputs": [
    {
     "name": "stdout",
     "output_type": "stream",
     "text": [
      " - Logging roc_auc_per_digit (json) : {'0': 1.0, '1': 0.9988003748828491, '2': 1.0, '3': 0.9998125585754452, '4': 0.9994284407864654, '5': 0.9991002811621369, '6': 0.999961896052431, '7': 0.9998856881572931, '8': 0.9932219419924339, '9': 0.9994284407864654}\n"
     ]
    }
   ],
   "source": [
    "logger.log_value(\"roc_auc_per_digit\", roc_auc_dict)"
   ]
  },
  {
   "cell_type": "markdown",
   "id": "38d0ff97",
   "metadata": {
    "papermill": {
     "duration": 0.006389,
     "end_time": "2022-07-21T06:51:32.194648",
     "exception": false,
     "start_time": "2022-07-21T06:51:32.188259",
     "status": "completed"
    },
    "tags": []
   },
   "source": [
    "### Compute and log mean ROC AUC score averaged over all digits"
   ]
  },
  {
   "cell_type": "code",
   "execution_count": 19,
   "id": "f9067c97",
   "metadata": {
    "execution": {
     "iopub.execute_input": "2022-07-21T06:51:32.207313Z",
     "iopub.status.busy": "2022-07-21T06:51:32.207020Z",
     "iopub.status.idle": "2022-07-21T06:51:32.221115Z",
     "shell.execute_reply": "2022-07-21T06:51:32.220462Z"
    },
    "papermill": {
     "duration": 0.022256,
     "end_time": "2022-07-21T06:51:32.222753",
     "exception": false,
     "start_time": "2022-07-21T06:51:32.200497",
     "status": "completed"
    },
    "tags": []
   },
   "outputs": [
    {
     "name": "stdout",
     "output_type": "stream",
     "text": [
      " - Logging roc_auc_class_mean (float) : 0.9989639622395521\n"
     ]
    }
   ],
   "source": [
    "roc_auc_macro = np.mean(list(roc_auc_dict.values()))\n",
    "\n",
    "logger.log_float(\"roc_auc_class_mean\", roc_auc_macro)\n",
    "\n",
    "# assert that the same value can be computed directly using sklearn\n",
    "assert roc_auc_macro == metrics.roc_auc_score(\n",
    "    y_test, y_pred_probs_test, average=\"macro\", multi_class=\"ovr\"\n",
    ")"
   ]
  },
  {
   "cell_type": "code",
   "execution_count": 20,
   "id": "18771e9b",
   "metadata": {
    "execution": {
     "iopub.execute_input": "2022-07-21T06:51:32.236125Z",
     "iopub.status.busy": "2022-07-21T06:51:32.235837Z",
     "iopub.status.idle": "2022-07-21T06:51:32.238844Z",
     "shell.execute_reply": "2022-07-21T06:51:32.238174Z"
    },
    "lines_to_next_cell": 0,
    "papermill": {
     "duration": 0.012195,
     "end_time": "2022-07-21T06:51:32.241073",
     "exception": false,
     "start_time": "2022-07-21T06:51:32.228878",
     "status": "completed"
    },
    "tags": []
   },
   "outputs": [],
   "source": [
    "# ---"
   ]
  },
  {
   "cell_type": "code",
   "execution_count": null,
   "id": "8e288f6f",
   "metadata": {
    "papermill": {
     "duration": 0.006495,
     "end_time": "2022-07-21T06:51:32.253323",
     "exception": false,
     "start_time": "2022-07-21T06:51:32.246828",
     "status": "completed"
    },
    "tags": []
   },
   "outputs": [],
   "source": []
  }
 ],
 "metadata": {
  "jupytext": {
   "cell_metadata_filter": "tags,-all",
   "main_language": "python",
   "notebook_metadata_filter": "-all"
  },
  "language_info": {
   "codemirror_mode": {
    "name": "ipython",
    "version": 3
   },
   "file_extension": ".py",
   "mimetype": "text/x-python",
   "name": "python",
   "nbconvert_exporter": "python",
   "pygments_lexer": "ipython3",
   "version": "3.8.10"
  },
  "papermill": {
   "default_parameters": {},
   "duration": 9.107264,
   "end_time": "2022-07-21T06:51:33.278177",
   "environment_variables": {},
   "exception": null,
   "input_path": "/home/host_user/workspace/mnist-demo-pipeline/mnist-demo-pipeline/notebooks/temp-notebook-3r_02887.ipynb",
   "output_path": "notebooks/benchmark-model.ipynb",
   "parameters": {
    "P": {
     "_opentelemetry_traceparent": "00-6f24b26aec5f4e42995b162b1295bd39-ba313401af53424c-01",
     "pipeline.data_lake_root": "/pipeline-outputs/data-lake",
     "pipeline.github.actor": "matiasdahl",
     "pipeline.github.base_ref": "",
     "pipeline.github.event_name": "schedule",
     "pipeline.github.head_ref": "",
     "pipeline.github.job": "run-tests-pipeline-and-persist-pipeline-outputs",
     "pipeline.github.ref": "refs/heads/development",
     "pipeline.github.ref_name": "development",
     "pipeline.github.ref_type": "branch",
     "pipeline.github.repository": "pynb-dag-runner/mnist-digits-demo-pipeline",
     "pipeline.github.run_id": "2709861045",
     "pipeline.github.runner_name": "Hosted Agent",
     "pipeline.github.sha": "5a6f90a9473b3095841d5b5dc7b58f5f049a0f71",
     "pipeline.github.workflow": "Run automated tests, pipeline and deploy results to static reporting site",
     "pipeline.pipeline_run_id": "4a731c87-d022-48c4-abbf-330a6402e8e3",
     "pipeline.run_environment": "ci",
     "run.retry_nr": "0",
     "task.max_nr_retries": "1",
     "task.notebook": "notebooks/benchmark-model.py",
     "task.nr_train_images": 800,
     "task.num_cpus": 1,
     "task.timeout_s": "None"
    }
   },
   "start_time": "2022-07-21T06:51:24.170913",
   "version": "2.3.3"
  }
 },
 "nbformat": 4,
 "nbformat_minor": 5
}