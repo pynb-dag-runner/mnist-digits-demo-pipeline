{
 "cells": [
  {
   "cell_type": "markdown",
   "id": "b15a9f60",
   "metadata": {
    "papermill": {
     "duration": 0.003935,
     "end_time": "2022-07-21T06:51:08.491617",
     "exception": false,
     "start_time": "2022-07-21T06:51:08.487682",
     "status": "completed"
    },
    "tags": []
   },
   "source": [
    "# Split digits and labels into separate training and testing data sets"
   ]
  },
  {
   "cell_type": "markdown",
   "id": "e1088851",
   "metadata": {
    "papermill": {
     "duration": 0.003057,
     "end_time": "2022-07-21T06:51:08.497454",
     "exception": false,
     "start_time": "2022-07-21T06:51:08.494397",
     "status": "completed"
    },
    "tags": []
   },
   "source": [
    "### Determine run parameters"
   ]
  },
  {
   "cell_type": "code",
   "execution_count": 1,
   "id": "654e3ce7",
   "metadata": {
    "execution": {
     "iopub.execute_input": "2022-07-21T06:51:08.502921Z",
     "iopub.status.busy": "2022-07-21T06:51:08.502586Z",
     "iopub.status.idle": "2022-07-21T06:51:08.511185Z",
     "shell.execute_reply": "2022-07-21T06:51:08.510639Z"
    },
    "lines_to_next_cell": 0,
    "papermill": {
     "duration": 0.013368,
     "end_time": "2022-07-21T06:51:08.512804",
     "exception": false,
     "start_time": "2022-07-21T06:51:08.499436",
     "status": "completed"
    },
    "tags": []
   },
   "outputs": [],
   "source": [
    "# ----------------- Parameters for interactive development --------------\n",
    "P = {\n",
    "    \"pipeline.data_lake_root\": \"/pipeline-outputs/data-lake\",\n",
    "    \"task.train_test_ratio\": 0.7,\n",
    "}"
   ]
  },
  {
   "cell_type": "code",
   "execution_count": 2,
   "id": "d671e5ad",
   "metadata": {
    "execution": {
     "iopub.execute_input": "2022-07-21T06:51:08.519779Z",
     "iopub.status.busy": "2022-07-21T06:51:08.519563Z",
     "iopub.status.idle": "2022-07-21T06:51:08.522386Z",
     "shell.execute_reply": "2022-07-21T06:51:08.521906Z"
    },
    "lines_to_next_cell": 0,
    "papermill": {
     "duration": 0.007819,
     "end_time": "2022-07-21T06:51:08.524497",
     "exception": false,
     "start_time": "2022-07-21T06:51:08.516678",
     "status": "completed"
    },
    "tags": [
     "parameters"
    ]
   },
   "outputs": [],
   "source": [
    "# - During automated runs parameters will be injected in the below cell -"
   ]
  },
  {
   "cell_type": "code",
   "execution_count": 3,
   "id": "124715e6",
   "metadata": {
    "execution": {
     "iopub.execute_input": "2022-07-21T06:51:08.530378Z",
     "iopub.status.busy": "2022-07-21T06:51:08.530177Z",
     "iopub.status.idle": "2022-07-21T06:51:08.534071Z",
     "shell.execute_reply": "2022-07-21T06:51:08.533609Z"
    },
    "papermill": {
     "duration": 0.009723,
     "end_time": "2022-07-21T06:51:08.537018",
     "exception": false,
     "start_time": "2022-07-21T06:51:08.527295",
     "status": "completed"
    },
    "tags": [
     "injected-parameters"
    ]
   },
   "outputs": [],
   "source": [
    "# Parameters\n",
    "P = {\n",
    "    \"pipeline.data_lake_root\": \"/pipeline-outputs/data-lake\",\n",
    "    \"pipeline.run_environment\": \"ci\",\n",
    "    \"pipeline.pipeline_run_id\": \"4a731c87-d022-48c4-abbf-330a6402e8e3\",\n",
    "    \"pipeline.github.repository\": \"pynb-dag-runner/mnist-digits-demo-pipeline\",\n",
    "    \"pipeline.github.workflow\": \"Run automated tests, pipeline and deploy results to static reporting site\",\n",
    "    \"pipeline.github.runner_name\": \"Hosted Agent\",\n",
    "    \"pipeline.github.run_id\": \"2709861045\",\n",
    "    \"pipeline.github.actor\": \"matiasdahl\",\n",
    "    \"pipeline.github.job\": \"run-tests-pipeline-and-persist-pipeline-outputs\",\n",
    "    \"pipeline.github.base_ref\": \"\",\n",
    "    \"pipeline.github.head_ref\": \"\",\n",
    "    \"pipeline.github.sha\": \"5a6f90a9473b3095841d5b5dc7b58f5f049a0f71\",\n",
    "    \"pipeline.github.ref\": \"refs/heads/development\",\n",
    "    \"pipeline.github.ref_type\": \"branch\",\n",
    "    \"pipeline.github.ref_name\": \"development\",\n",
    "    \"pipeline.github.event_name\": \"schedule\",\n",
    "    \"task.train_test_ratio\": 0.7,\n",
    "    \"task.notebook\": \"notebooks/split-train-test.py\",\n",
    "    \"task.max_nr_retries\": \"1\",\n",
    "    \"run.retry_nr\": \"0\",\n",
    "    \"task.timeout_s\": \"None\",\n",
    "    \"task.num_cpus\": 1,\n",
    "    \"_opentelemetry_traceparent\": \"00-6f24b26aec5f4e42995b162b1295bd39-72bf0308e96dd6d0-01\",\n",
    "}\n"
   ]
  },
  {
   "cell_type": "code",
   "execution_count": 4,
   "id": "fdc69074",
   "metadata": {
    "execution": {
     "iopub.execute_input": "2022-07-21T06:51:08.542235Z",
     "iopub.status.busy": "2022-07-21T06:51:08.542042Z",
     "iopub.status.idle": "2022-07-21T06:51:08.544555Z",
     "shell.execute_reply": "2022-07-21T06:51:08.544089Z"
    },
    "lines_to_next_cell": 0,
    "papermill": {
     "duration": 0.008419,
     "end_time": "2022-07-21T06:51:08.547453",
     "exception": false,
     "start_time": "2022-07-21T06:51:08.539034",
     "status": "completed"
    },
    "tags": []
   },
   "outputs": [],
   "source": [
    "# -----------------------------------------------------------------------"
   ]
  },
  {
   "cell_type": "markdown",
   "id": "8bd14d94",
   "metadata": {
    "papermill": {
     "duration": 0.002165,
     "end_time": "2022-07-21T06:51:08.551534",
     "exception": false,
     "start_time": "2022-07-21T06:51:08.549369",
     "status": "completed"
    },
    "tags": []
   },
   "source": [
    "---"
   ]
  },
  {
   "cell_type": "markdown",
   "id": "a814410c",
   "metadata": {
    "lines_to_next_cell": 2,
    "papermill": {
     "duration": 0.002777,
     "end_time": "2022-07-21T06:51:08.556323",
     "exception": false,
     "start_time": "2022-07-21T06:51:08.553546",
     "status": "completed"
    },
    "tags": []
   },
   "source": [
    "### Notebook code"
   ]
  },
  {
   "cell_type": "code",
   "execution_count": 5,
   "id": "f1fa7500",
   "metadata": {
    "execution": {
     "iopub.execute_input": "2022-07-21T06:51:08.561772Z",
     "iopub.status.busy": "2022-07-21T06:51:08.561558Z",
     "iopub.status.idle": "2022-07-21T06:51:09.171324Z",
     "shell.execute_reply": "2022-07-21T06:51:09.170669Z"
    },
    "papermill": {
     "duration": 0.614569,
     "end_time": "2022-07-21T06:51:09.173277",
     "exception": false,
     "start_time": "2022-07-21T06:51:08.558708",
     "status": "completed"
    },
    "tags": []
   },
   "outputs": [
    {
     "name": "stderr",
     "output_type": "stream",
     "text": [
      "2022-07-21 06:51:08,968\tINFO worker.py:842 -- Connecting to existing Ray cluster at address: 172.17.0.2:6379\n"
     ]
    }
   ],
   "source": [
    "from common.io import datalake_root, read_numpy, write_numpy\n",
    "from pynb_dag_runner.tasks.task_opentelemetry_logging import PydarLogger\n",
    "\n",
    "logger = PydarLogger(P)"
   ]
  },
  {
   "cell_type": "markdown",
   "id": "651ab6f7",
   "metadata": {
    "papermill": {
     "duration": 0.002704,
     "end_time": "2022-07-21T06:51:09.179601",
     "exception": false,
     "start_time": "2022-07-21T06:51:09.176897",
     "status": "completed"
    },
    "tags": []
   },
   "source": [
    "## Load and split digits data"
   ]
  },
  {
   "cell_type": "code",
   "execution_count": 6,
   "id": "0a05a568",
   "metadata": {
    "execution": {
     "iopub.execute_input": "2022-07-21T06:51:09.191550Z",
     "iopub.status.busy": "2022-07-21T06:51:09.191211Z",
     "iopub.status.idle": "2022-07-21T06:51:09.197195Z",
     "shell.execute_reply": "2022-07-21T06:51:09.196605Z"
    },
    "papermill": {
     "duration": 0.017678,
     "end_time": "2022-07-21T06:51:09.201255",
     "exception": false,
     "start_time": "2022-07-21T06:51:09.183577",
     "status": "completed"
    },
    "tags": []
   },
   "outputs": [],
   "source": [
    "X = read_numpy(datalake_root(P) / \"raw\" / \"digits.numpy\")\n",
    "y = read_numpy(datalake_root(P) / \"raw\" / \"labels.numpy\")"
   ]
  },
  {
   "cell_type": "code",
   "execution_count": 7,
   "id": "e211054b",
   "metadata": {
    "execution": {
     "iopub.execute_input": "2022-07-21T06:51:09.212735Z",
     "iopub.status.busy": "2022-07-21T06:51:09.212472Z",
     "iopub.status.idle": "2022-07-21T06:51:09.827189Z",
     "shell.execute_reply": "2022-07-21T06:51:09.826524Z"
    },
    "papermill": {
     "duration": 0.624633,
     "end_time": "2022-07-21T06:51:09.830824",
     "exception": false,
     "start_time": "2022-07-21T06:51:09.206191",
     "status": "completed"
    },
    "tags": []
   },
   "outputs": [
    {
     "name": "stderr",
     "output_type": "stream",
     "text": [
      "2022-07-21 06:51:09,525\tWARNING worker.py:1245 -- (ip=172.17.0.2) The agent on node 047a140607cd failed to be restarted 5 times. There are 3 possible problems if you see this error.\n",
      "  1. The dashboard might not display correct information on this node.\n",
      "  2. Metrics on this node won't be reported.\n",
      "  3. runtime_env APIs won't work.\n",
      "Check out the `dashboard_agent.log` to see the detailed failure messages.\n"
     ]
    }
   ],
   "source": [
    "from sklearn.model_selection import train_test_split\n",
    "\n",
    "X_train, X_test, y_train, y_test = train_test_split(\n",
    "    X,\n",
    "    y,\n",
    "    train_size=P[\"task.train_test_ratio\"],\n",
    "    test_size=None,\n",
    "    stratify=y,\n",
    "    shuffle=True,\n",
    "    random_state=1,\n",
    ")\n",
    "\n",
    "# assert nr of pixels per image is the same for all image vectors\n",
    "assert X.shape[1] == X_train.shape[1] == X_test.shape[1]\n",
    "\n",
    "# assert that the (X, y)-pairs have compatible sizes (for both train and test)\n",
    "assert X_train.shape[0] == len(y_train)\n",
    "assert X_test.shape[0] == len(y_test)\n",
    "\n",
    "# assert that all data is used\n",
    "assert len(y) == len(y_train) + len(y_test)"
   ]
  },
  {
   "cell_type": "code",
   "execution_count": 8,
   "id": "7364f367",
   "metadata": {
    "execution": {
     "iopub.execute_input": "2022-07-21T06:51:09.838426Z",
     "iopub.status.busy": "2022-07-21T06:51:09.837948Z",
     "iopub.status.idle": "2022-07-21T06:51:09.845442Z",
     "shell.execute_reply": "2022-07-21T06:51:09.844751Z"
    },
    "papermill": {
     "duration": 0.013458,
     "end_time": "2022-07-21T06:51:09.847307",
     "exception": false,
     "start_time": "2022-07-21T06:51:09.833849",
     "status": "completed"
    },
    "tags": []
   },
   "outputs": [
    {
     "name": "stdout",
     "output_type": "stream",
     "text": [
      " - Logging nr_digits_train (int) : 1257\n",
      " - Logging nr_digits_test (int) : 540\n"
     ]
    }
   ],
   "source": [
    "logger.log_int(\"nr_digits_train\", len(y_train))\n",
    "logger.log_int(\"nr_digits_test\", len(y_test))"
   ]
  },
  {
   "cell_type": "markdown",
   "id": "281cf69e",
   "metadata": {
    "papermill": {
     "duration": 0.002862,
     "end_time": "2022-07-21T06:51:09.852698",
     "exception": false,
     "start_time": "2022-07-21T06:51:09.849836",
     "status": "completed"
    },
    "tags": []
   },
   "source": [
    "### Persist training and test data sets to separate files"
   ]
  },
  {
   "cell_type": "code",
   "execution_count": 9,
   "id": "a82fe5db",
   "metadata": {
    "execution": {
     "iopub.execute_input": "2022-07-21T06:51:09.860980Z",
     "iopub.status.busy": "2022-07-21T06:51:09.860725Z",
     "iopub.status.idle": "2022-07-21T06:51:09.866562Z",
     "shell.execute_reply": "2022-07-21T06:51:09.865991Z"
    },
    "papermill": {
     "duration": 0.012361,
     "end_time": "2022-07-21T06:51:09.868957",
     "exception": false,
     "start_time": "2022-07-21T06:51:09.856596",
     "status": "completed"
    },
    "tags": []
   },
   "outputs": [],
   "source": [
    "write_numpy(datalake_root(P) / \"train-data\" / \"digits.numpy\", X_train)\n",
    "write_numpy(datalake_root(P) / \"train-data\" / \"labels.numpy\", y_train)\n",
    "\n",
    "#\n",
    "write_numpy(datalake_root(P) / \"test-data\" / \"digits.numpy\", X_test)\n",
    "write_numpy(datalake_root(P) / \"test-data\" / \"labels.numpy\", y_test)"
   ]
  },
  {
   "cell_type": "code",
   "execution_count": null,
   "id": "8daf7bed",
   "metadata": {
    "papermill": {
     "duration": 0.002894,
     "end_time": "2022-07-21T06:51:09.874370",
     "exception": false,
     "start_time": "2022-07-21T06:51:09.871476",
     "status": "completed"
    },
    "tags": []
   },
   "outputs": [],
   "source": []
  }
 ],
 "metadata": {
  "jupytext": {
   "cell_metadata_filter": "tags,-all",
   "main_language": "python",
   "notebook_metadata_filter": "-all"
  },
  "language_info": {
   "codemirror_mode": {
    "name": "ipython",
    "version": 3
   },
   "file_extension": ".py",
   "mimetype": "text/x-python",
   "name": "python",
   "nbconvert_exporter": "python",
   "pygments_lexer": "ipython3",
   "version": "3.8.10"
  },
  "papermill": {
   "default_parameters": {},
   "duration": 3.691116,
   "end_time": "2022-07-21T06:51:10.900468",
   "environment_variables": {},
   "exception": null,
   "input_path": "/home/host_user/workspace/mnist-demo-pipeline/mnist-demo-pipeline/notebooks/temp-notebook-_t1czg7b.ipynb",
   "output_path": "notebooks/split-train-test.ipynb",
   "parameters": {
    "P": {
     "_opentelemetry_traceparent": "00-6f24b26aec5f4e42995b162b1295bd39-72bf0308e96dd6d0-01",
     "pipeline.data_lake_root": "/pipeline-outputs/data-lake",
     "pipeline.github.actor": "matiasdahl",
     "pipeline.github.base_ref": "",
     "pipeline.github.event_name": "schedule",
     "pipeline.github.head_ref": "",
     "pipeline.github.job": "run-tests-pipeline-and-persist-pipeline-outputs",
     "pipeline.github.ref": "refs/heads/development",
     "pipeline.github.ref_name": "development",
     "pipeline.github.ref_type": "branch",
     "pipeline.github.repository": "pynb-dag-runner/mnist-digits-demo-pipeline",
     "pipeline.github.run_id": "2709861045",
     "pipeline.github.runner_name": "Hosted Agent",
     "pipeline.github.sha": "5a6f90a9473b3095841d5b5dc7b58f5f049a0f71",
     "pipeline.github.workflow": "Run automated tests, pipeline and deploy results to static reporting site",
     "pipeline.pipeline_run_id": "4a731c87-d022-48c4-abbf-330a6402e8e3",
     "pipeline.run_environment": "ci",
     "run.retry_nr": "0",
     "task.max_nr_retries": "1",
     "task.notebook": "notebooks/split-train-test.py",
     "task.num_cpus": 1,
     "task.timeout_s": "None",
     "task.train_test_ratio": 0.7
    }
   },
   "start_time": "2022-07-21T06:51:07.209352",
   "version": "2.3.3"
  }
 },
 "nbformat": 4,
 "nbformat_minor": 5
}