{
 "cells": [
  {
   "cell_type": "markdown",
   "id": "bfe43f68",
   "metadata": {
    "papermill": {
     "duration": 0.003626,
     "end_time": "2022-07-21T06:51:03.185603",
     "exception": false,
     "start_time": "2022-07-21T06:51:03.181977",
     "status": "completed"
    },
    "tags": []
   },
   "source": [
    "# Ingest toy version of MNIST digit data from sklearn"
   ]
  },
  {
   "cell_type": "markdown",
   "id": "39bad36d",
   "metadata": {
    "papermill": {
     "duration": 0.002532,
     "end_time": "2022-07-21T06:51:03.190987",
     "exception": false,
     "start_time": "2022-07-21T06:51:03.188455",
     "status": "completed"
    },
    "tags": []
   },
   "source": [
    "### Determine run parameters"
   ]
  },
  {
   "cell_type": "code",
   "execution_count": 1,
   "id": "61502e4f",
   "metadata": {
    "execution": {
     "iopub.execute_input": "2022-07-21T06:51:03.197359Z",
     "iopub.status.busy": "2022-07-21T06:51:03.196642Z",
     "iopub.status.idle": "2022-07-21T06:51:03.204599Z",
     "shell.execute_reply": "2022-07-21T06:51:03.203506Z"
    },
    "lines_to_next_cell": 0,
    "papermill": {
     "duration": 0.012882,
     "end_time": "2022-07-21T06:51:03.206004",
     "exception": false,
     "start_time": "2022-07-21T06:51:03.193122",
     "status": "completed"
    },
    "tags": []
   },
   "outputs": [],
   "source": [
    "# ----------------- Parameters for interactive development --------------\n",
    "P = {\n",
    "    \"pipeline.run_environment\": \"dev\",\n",
    "    \"pipeline.data_lake_root\": \"/pipeline-outputs/data-lake\",\n",
    "    \"run.retry_nr\": \"1\",\n",
    "}"
   ]
  },
  {
   "cell_type": "code",
   "execution_count": 2,
   "id": "385998e7",
   "metadata": {
    "execution": {
     "iopub.execute_input": "2022-07-21T06:51:03.211821Z",
     "iopub.status.busy": "2022-07-21T06:51:03.211202Z",
     "iopub.status.idle": "2022-07-21T06:51:03.214938Z",
     "shell.execute_reply": "2022-07-21T06:51:03.213892Z"
    },
    "lines_to_next_cell": 0,
    "papermill": {
     "duration": 0.008015,
     "end_time": "2022-07-21T06:51:03.216307",
     "exception": false,
     "start_time": "2022-07-21T06:51:03.208292",
     "status": "completed"
    },
    "tags": [
     "parameters"
    ]
   },
   "outputs": [],
   "source": [
    "# - During automated runs parameters will be injected in the below cell -"
   ]
  },
  {
   "cell_type": "code",
   "execution_count": 3,
   "id": "f6a4864f",
   "metadata": {
    "execution": {
     "iopub.execute_input": "2022-07-21T06:51:03.221468Z",
     "iopub.status.busy": "2022-07-21T06:51:03.221143Z",
     "iopub.status.idle": "2022-07-21T06:51:03.225743Z",
     "shell.execute_reply": "2022-07-21T06:51:03.225126Z"
    },
    "papermill": {
     "duration": 0.008812,
     "end_time": "2022-07-21T06:51:03.227102",
     "exception": false,
     "start_time": "2022-07-21T06:51:03.218290",
     "status": "completed"
    },
    "tags": [
     "injected-parameters"
    ]
   },
   "outputs": [],
   "source": [
    "# Parameters\n",
    "P = {\n",
    "    \"pipeline.data_lake_root\": \"/pipeline-outputs/data-lake\",\n",
    "    \"pipeline.run_environment\": \"ci\",\n",
    "    \"pipeline.pipeline_run_id\": \"4a731c87-d022-48c4-abbf-330a6402e8e3\",\n",
    "    \"pipeline.github.repository\": \"pynb-dag-runner/mnist-digits-demo-pipeline\",\n",
    "    \"pipeline.github.workflow\": \"Run automated tests, pipeline and deploy results to static reporting site\",\n",
    "    \"pipeline.github.runner_name\": \"Hosted Agent\",\n",
    "    \"pipeline.github.run_id\": \"2709861045\",\n",
    "    \"pipeline.github.actor\": \"matiasdahl\",\n",
    "    \"pipeline.github.job\": \"run-tests-pipeline-and-persist-pipeline-outputs\",\n",
    "    \"pipeline.github.base_ref\": \"\",\n",
    "    \"pipeline.github.head_ref\": \"\",\n",
    "    \"pipeline.github.sha\": \"5a6f90a9473b3095841d5b5dc7b58f5f049a0f71\",\n",
    "    \"pipeline.github.ref\": \"refs/heads/development\",\n",
    "    \"pipeline.github.ref_type\": \"branch\",\n",
    "    \"pipeline.github.ref_name\": \"development\",\n",
    "    \"pipeline.github.event_name\": \"schedule\",\n",
    "    \"task.notebook\": \"notebooks/ingest.py\",\n",
    "    \"task.max_nr_retries\": \"15\",\n",
    "    \"run.retry_nr\": \"10\",\n",
    "    \"task.timeout_s\": \"10\",\n",
    "    \"task.num_cpus\": 1,\n",
    "    \"_opentelemetry_traceparent\": \"00-6f24b26aec5f4e42995b162b1295bd39-4300f380ef31c44d-01\",\n",
    "}\n"
   ]
  },
  {
   "cell_type": "code",
   "execution_count": 4,
   "id": "ae256b0e",
   "metadata": {
    "execution": {
     "iopub.execute_input": "2022-07-21T06:51:03.232573Z",
     "iopub.status.busy": "2022-07-21T06:51:03.231963Z",
     "iopub.status.idle": "2022-07-21T06:51:03.235193Z",
     "shell.execute_reply": "2022-07-21T06:51:03.234374Z"
    },
    "lines_to_next_cell": 0,
    "papermill": {
     "duration": 0.007394,
     "end_time": "2022-07-21T06:51:03.236567",
     "exception": false,
     "start_time": "2022-07-21T06:51:03.229173",
     "status": "completed"
    },
    "tags": []
   },
   "outputs": [],
   "source": [
    "# -----------------------------------------------------------------------"
   ]
  },
  {
   "cell_type": "markdown",
   "id": "0c6dc962",
   "metadata": {
    "lines_to_next_cell": 2,
    "papermill": {
     "duration": 0.00199,
     "end_time": "2022-07-21T06:51:03.240770",
     "exception": false,
     "start_time": "2022-07-21T06:51:03.238780",
     "status": "completed"
    },
    "tags": []
   },
   "source": [
    "---"
   ]
  },
  {
   "cell_type": "markdown",
   "id": "adf94281",
   "metadata": {
    "papermill": {
     "duration": 0.002215,
     "end_time": "2022-07-21T06:51:03.245106",
     "exception": false,
     "start_time": "2022-07-21T06:51:03.242891",
     "status": "completed"
    },
    "tags": []
   },
   "source": [
    "### Simulate different types of failures (for testing timeout and retry logic)"
   ]
  },
  {
   "cell_type": "code",
   "execution_count": 5,
   "id": "6cd4ecf3",
   "metadata": {
    "execution": {
     "iopub.execute_input": "2022-07-21T06:51:03.250452Z",
     "iopub.status.busy": "2022-07-21T06:51:03.250238Z",
     "iopub.status.idle": "2022-07-21T06:51:03.686435Z",
     "shell.execute_reply": "2022-07-21T06:51:03.685602Z"
    },
    "papermill": {
     "duration": 0.441412,
     "end_time": "2022-07-21T06:51:03.688545",
     "exception": false,
     "start_time": "2022-07-21T06:51:03.247133",
     "status": "completed"
    },
    "tags": []
   },
   "outputs": [
    {
     "name": "stderr",
     "output_type": "stream",
     "text": [
      "2022-07-21 06:51:03,537\tINFO worker.py:842 -- Connecting to existing Ray cluster at address: 172.17.0.2:6379\n"
     ]
    }
   ],
   "source": [
    "from pynb_dag_runner.tasks.task_opentelemetry_logging import PydarLogger\n",
    "\n",
    "logger = PydarLogger(P)"
   ]
  },
  {
   "cell_type": "code",
   "execution_count": 6,
   "id": "57bcd9f7",
   "metadata": {
    "execution": {
     "iopub.execute_input": "2022-07-21T06:51:03.698675Z",
     "iopub.status.busy": "2022-07-21T06:51:03.698337Z",
     "iopub.status.idle": "2022-07-21T06:51:03.703590Z",
     "shell.execute_reply": "2022-07-21T06:51:03.702909Z"
    },
    "papermill": {
     "duration": 0.014397,
     "end_time": "2022-07-21T06:51:03.705642",
     "exception": false,
     "start_time": "2022-07-21T06:51:03.691245",
     "status": "completed"
    },
    "tags": []
   },
   "outputs": [],
   "source": [
    "import time, random\n",
    "\n",
    "\n",
    "def maybe_crash(retry_nr: int, run_environment: str):\n",
    "    if retry_nr == 2 and run_environment == \"ci\":\n",
    "        time.sleep(1e6)\n",
    "\n",
    "    max_retry_nr: int = 3 if run_environment == \"dev\" else 10\n",
    "\n",
    "    if retry_nr < max_retry_nr:\n",
    "        if random.random() < 0.1:\n",
    "            time.sleep(1e6)\n",
    "        else:\n",
    "            raise Exception(\"Simulated exception failure from ingestion step notebook!\")\n",
    "\n",
    "\n",
    "maybe_crash(\n",
    "    retry_nr=int(P[\"run.retry_nr\"]), run_environment=P[\"pipeline.run_environment\"]\n",
    ")"
   ]
  },
  {
   "cell_type": "markdown",
   "id": "7cd91008",
   "metadata": {
    "lines_to_next_cell": 2,
    "papermill": {
     "duration": 0.002288,
     "end_time": "2022-07-21T06:51:03.710120",
     "exception": false,
     "start_time": "2022-07-21T06:51:03.707832",
     "status": "completed"
    },
    "tags": []
   },
   "source": [
    "### Notebook code"
   ]
  },
  {
   "cell_type": "code",
   "execution_count": 7,
   "id": "6d5f5fb8",
   "metadata": {
    "execution": {
     "iopub.execute_input": "2022-07-21T06:51:03.716050Z",
     "iopub.status.busy": "2022-07-21T06:51:03.715277Z",
     "iopub.status.idle": "2022-07-21T06:51:04.892265Z",
     "shell.execute_reply": "2022-07-21T06:51:04.891602Z"
    },
    "papermill": {
     "duration": 1.182246,
     "end_time": "2022-07-21T06:51:04.894463",
     "exception": false,
     "start_time": "2022-07-21T06:51:03.712217",
     "status": "completed"
    },
    "tags": []
   },
   "outputs": [],
   "source": [
    "from sklearn import datasets\n",
    "\n",
    "#\n",
    "from common.io import datalake_root, write_numpy"
   ]
  },
  {
   "cell_type": "code",
   "execution_count": 8,
   "id": "249b5c52",
   "metadata": {
    "execution": {
     "iopub.execute_input": "2022-07-21T06:51:04.903005Z",
     "iopub.status.busy": "2022-07-21T06:51:04.902406Z",
     "iopub.status.idle": "2022-07-21T06:51:04.914071Z",
     "shell.execute_reply": "2022-07-21T06:51:04.913499Z"
    },
    "lines_to_next_cell": 2,
    "papermill": {
     "duration": 0.018678,
     "end_time": "2022-07-21T06:51:04.915906",
     "exception": false,
     "start_time": "2022-07-21T06:51:04.897228",
     "status": "completed"
    },
    "tags": []
   },
   "outputs": [],
   "source": [
    "digits = datasets.load_digits()\n",
    "\n",
    "X = digits[\"data\"]\n",
    "y = digits[\"target\"]"
   ]
  },
  {
   "cell_type": "code",
   "execution_count": 9,
   "id": "04f300a6",
   "metadata": {
    "execution": {
     "iopub.execute_input": "2022-07-21T06:51:04.925205Z",
     "iopub.status.busy": "2022-07-21T06:51:04.924831Z",
     "iopub.status.idle": "2022-07-21T06:51:04.936641Z",
     "shell.execute_reply": "2022-07-21T06:51:04.935853Z"
    },
    "papermill": {
     "duration": 0.018614,
     "end_time": "2022-07-21T06:51:04.938574",
     "exception": false,
     "start_time": "2022-07-21T06:51:04.919960",
     "status": "completed"
    },
    "tags": []
   },
   "outputs": [
    {
     "name": "stdout",
     "output_type": "stream",
     "text": [
      " - Logging data_shape (json) : [1797, 64]\n",
      " - Logging target_shape (json) : [1797]\n"
     ]
    },
    {
     "data": {
      "text/plain": [
       "((1797, 64), (1797,))"
      ]
     },
     "execution_count": 9,
     "metadata": {},
     "output_type": "execute_result"
    }
   ],
   "source": [
    "logger.log_value(\"data_shape\", list(X.shape))\n",
    "logger.log_value(\"target_shape\", list(y.shape))\n",
    "\n",
    "X.shape, y.shape"
   ]
  },
  {
   "cell_type": "code",
   "execution_count": 10,
   "id": "eb418e61",
   "metadata": {
    "execution": {
     "iopub.execute_input": "2022-07-21T06:51:04.945549Z",
     "iopub.status.busy": "2022-07-21T06:51:04.945324Z",
     "iopub.status.idle": "2022-07-21T06:51:04.953246Z",
     "shell.execute_reply": "2022-07-21T06:51:04.952646Z"
    },
    "papermill": {
     "duration": 0.013781,
     "end_time": "2022-07-21T06:51:04.955151",
     "exception": false,
     "start_time": "2022-07-21T06:51:04.941370",
     "status": "completed"
    },
    "tags": []
   },
   "outputs": [],
   "source": [
    "write_numpy(datalake_root(P) / \"raw\" / \"digits.numpy\", X)\n",
    "write_numpy(datalake_root(P) / \"raw\" / \"labels.numpy\", y)"
   ]
  },
  {
   "cell_type": "code",
   "execution_count": null,
   "id": "3789099d",
   "metadata": {
    "papermill": {
     "duration": 0.002908,
     "end_time": "2022-07-21T06:51:04.961024",
     "exception": false,
     "start_time": "2022-07-21T06:51:04.958116",
     "status": "completed"
    },
    "tags": []
   },
   "outputs": [],
   "source": []
  }
 ],
 "metadata": {
  "jupytext": {
   "cell_metadata_filter": "tags,-all",
   "main_language": "python",
   "notebook_metadata_filter": "-all"
  },
  "language_info": {
   "codemirror_mode": {
    "name": "ipython",
    "version": 3
   },
   "file_extension": ".py",
   "mimetype": "text/x-python",
   "name": "python",
   "nbconvert_exporter": "python",
   "pygments_lexer": "ipython3",
   "version": "3.8.10"
  },
  "papermill": {
   "default_parameters": {},
   "duration": 3.853576,
   "end_time": "2022-07-21T06:51:05.882786",
   "environment_variables": {},
   "exception": null,
   "input_path": "/home/host_user/workspace/mnist-demo-pipeline/mnist-demo-pipeline/notebooks/temp-notebook-ecctnxu5.ipynb",
   "output_path": "notebooks/ingest.ipynb",
   "parameters": {
    "P": {
     "_opentelemetry_traceparent": "00-6f24b26aec5f4e42995b162b1295bd39-4300f380ef31c44d-01",
     "pipeline.data_lake_root": "/pipeline-outputs/data-lake",
     "pipeline.github.actor": "matiasdahl",
     "pipeline.github.base_ref": "",
     "pipeline.github.event_name": "schedule",
     "pipeline.github.head_ref": "",
     "pipeline.github.job": "run-tests-pipeline-and-persist-pipeline-outputs",
     "pipeline.github.ref": "refs/heads/development",
     "pipeline.github.ref_name": "development",
     "pipeline.github.ref_type": "branch",
     "pipeline.github.repository": "pynb-dag-runner/mnist-digits-demo-pipeline",
     "pipeline.github.run_id": "2709861045",
     "pipeline.github.runner_name": "Hosted Agent",
     "pipeline.github.sha": "5a6f90a9473b3095841d5b5dc7b58f5f049a0f71",
     "pipeline.github.workflow": "Run automated tests, pipeline and deploy results to static reporting site",
     "pipeline.pipeline_run_id": "4a731c87-d022-48c4-abbf-330a6402e8e3",
     "pipeline.run_environment": "ci",
     "run.retry_nr": "10",
     "task.max_nr_retries": "15",
     "task.notebook": "notebooks/ingest.py",
     "task.num_cpus": 1,
     "task.timeout_s": "10"
    }
   },
   "start_time": "2022-07-21T06:51:02.029210",
   "version": "2.3.3"
  }
 },
 "nbformat": 4,
 "nbformat_minor": 5
}