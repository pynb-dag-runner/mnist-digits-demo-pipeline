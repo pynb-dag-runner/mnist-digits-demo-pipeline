{
 "cells": [
  {
   "cell_type": "markdown",
   "id": "652a5685",
   "metadata": {
    "papermill": {
     "duration": 0.003949,
     "end_time": "2022-07-21T06:51:24.273698",
     "exception": false,
     "start_time": "2022-07-21T06:51:24.269749",
     "status": "completed"
    },
    "tags": []
   },
   "source": [
    "# Train model\n",
    "\n",
    "The purpose of this notebook is:\n",
    "\n",
    "- Load all training data (images and labels).\n",
    "- Limit number of train images to `task.nr_train_images` (value provided as run parameter).\n",
    "- Train a support vector machine model using sklearn.\n",
    "- Persist the trained model using the ONNX format."
   ]
  },
  {
   "cell_type": "markdown",
   "id": "c0dbaa5a",
   "metadata": {
    "papermill": {
     "duration": 0.00264,
     "end_time": "2022-07-21T06:51:24.279617",
     "exception": false,
     "start_time": "2022-07-21T06:51:24.276977",
     "status": "completed"
    },
    "tags": []
   },
   "source": [
    "### Determine run parameters"
   ]
  },
  {
   "cell_type": "code",
   "execution_count": 1,
   "id": "cf5e5b49",
   "metadata": {
    "execution": {
     "iopub.execute_input": "2022-07-21T06:51:24.286515Z",
     "iopub.status.busy": "2022-07-21T06:51:24.286180Z",
     "iopub.status.idle": "2022-07-21T06:51:24.294136Z",
     "shell.execute_reply": "2022-07-21T06:51:24.293547Z"
    },
    "lines_to_next_cell": 0,
    "papermill": {
     "duration": 0.013735,
     "end_time": "2022-07-21T06:51:24.295951",
     "exception": false,
     "start_time": "2022-07-21T06:51:24.282216",
     "status": "completed"
    },
    "tags": []
   },
   "outputs": [],
   "source": [
    "# ----------------- Parameters for interactive development --------------\n",
    "P = {\n",
    "    \"pipeline.data_lake_root\": \"/pipeline-outputs/data-lake\",\n",
    "    \"task.nr_train_images\": 600,\n",
    "}"
   ]
  },
  {
   "cell_type": "code",
   "execution_count": 2,
   "id": "647bbc01",
   "metadata": {
    "execution": {
     "iopub.execute_input": "2022-07-21T06:51:24.302629Z",
     "iopub.status.busy": "2022-07-21T06:51:24.302371Z",
     "iopub.status.idle": "2022-07-21T06:51:24.305345Z",
     "shell.execute_reply": "2022-07-21T06:51:24.304797Z"
    },
    "lines_to_next_cell": 0,
    "papermill": {
     "duration": 0.009411,
     "end_time": "2022-07-21T06:51:24.308274",
     "exception": false,
     "start_time": "2022-07-21T06:51:24.298863",
     "status": "completed"
    },
    "tags": [
     "parameters"
    ]
   },
   "outputs": [],
   "source": [
    "# - During automated runs parameters will be injected in the below cell -"
   ]
  },
  {
   "cell_type": "code",
   "execution_count": 3,
   "id": "04e4a768",
   "metadata": {
    "execution": {
     "iopub.execute_input": "2022-07-21T06:51:24.315035Z",
     "iopub.status.busy": "2022-07-21T06:51:24.314796Z",
     "iopub.status.idle": "2022-07-21T06:51:24.319286Z",
     "shell.execute_reply": "2022-07-21T06:51:24.318756Z"
    },
    "papermill": {
     "duration": 0.01059,
     "end_time": "2022-07-21T06:51:24.321646",
     "exception": false,
     "start_time": "2022-07-21T06:51:24.311056",
     "status": "completed"
    },
    "tags": [
     "injected-parameters"
    ]
   },
   "outputs": [],
   "source": [
    "# Parameters\n",
    "P = {\n",
    "    \"pipeline.data_lake_root\": \"/pipeline-outputs/data-lake\",\n",
    "    \"pipeline.run_environment\": \"ci\",\n",
    "    \"pipeline.pipeline_run_id\": \"4a731c87-d022-48c4-abbf-330a6402e8e3\",\n",
    "    \"pipeline.github.repository\": \"pynb-dag-runner/mnist-digits-demo-pipeline\",\n",
    "    \"pipeline.github.workflow\": \"Run automated tests, pipeline and deploy results to static reporting site\",\n",
    "    \"pipeline.github.runner_name\": \"Hosted Agent\",\n",
    "    \"pipeline.github.run_id\": \"2709861045\",\n",
    "    \"pipeline.github.actor\": \"matiasdahl\",\n",
    "    \"pipeline.github.job\": \"run-tests-pipeline-and-persist-pipeline-outputs\",\n",
    "    \"pipeline.github.base_ref\": \"\",\n",
    "    \"pipeline.github.head_ref\": \"\",\n",
    "    \"pipeline.github.sha\": \"5a6f90a9473b3095841d5b5dc7b58f5f049a0f71\",\n",
    "    \"pipeline.github.ref\": \"refs/heads/development\",\n",
    "    \"pipeline.github.ref_type\": \"branch\",\n",
    "    \"pipeline.github.ref_name\": \"development\",\n",
    "    \"pipeline.github.event_name\": \"schedule\",\n",
    "    \"task.nr_train_images\": 1200,\n",
    "    \"task.notebook\": \"notebooks/train-model.py\",\n",
    "    \"task.max_nr_retries\": \"1\",\n",
    "    \"run.retry_nr\": \"0\",\n",
    "    \"task.timeout_s\": \"None\",\n",
    "    \"task.num_cpus\": 1,\n",
    "    \"_opentelemetry_traceparent\": \"00-6f24b26aec5f4e42995b162b1295bd39-ffd8a312bf69b450-01\",\n",
    "}\n"
   ]
  },
  {
   "cell_type": "code",
   "execution_count": 4,
   "id": "31be365c",
   "metadata": {
    "execution": {
     "iopub.execute_input": "2022-07-21T06:51:24.328782Z",
     "iopub.status.busy": "2022-07-21T06:51:24.328564Z",
     "iopub.status.idle": "2022-07-21T06:51:24.331245Z",
     "shell.execute_reply": "2022-07-21T06:51:24.330714Z"
    },
    "lines_to_next_cell": 0,
    "papermill": {
     "duration": 0.008716,
     "end_time": "2022-07-21T06:51:24.333566",
     "exception": false,
     "start_time": "2022-07-21T06:51:24.324850",
     "status": "completed"
    },
    "tags": []
   },
   "outputs": [],
   "source": [
    "# -----------------------------------------------------------------------"
   ]
  },
  {
   "cell_type": "markdown",
   "id": "fe48fe01",
   "metadata": {
    "papermill": {
     "duration": 0.002914,
     "end_time": "2022-07-21T06:51:24.339449",
     "exception": false,
     "start_time": "2022-07-21T06:51:24.336535",
     "status": "completed"
    },
    "tags": []
   },
   "source": [
    "---"
   ]
  },
  {
   "cell_type": "markdown",
   "id": "7b5f54bf",
   "metadata": {
    "lines_to_next_cell": 2,
    "papermill": {
     "duration": 0.00277,
     "end_time": "2022-07-21T06:51:24.344972",
     "exception": false,
     "start_time": "2022-07-21T06:51:24.342202",
     "status": "completed"
    },
    "tags": []
   },
   "source": [
    "### Notebook code"
   ]
  },
  {
   "cell_type": "code",
   "execution_count": 5,
   "id": "95ee5a1c",
   "metadata": {
    "execution": {
     "iopub.execute_input": "2022-07-21T06:51:24.352105Z",
     "iopub.status.busy": "2022-07-21T06:51:24.351846Z",
     "iopub.status.idle": "2022-07-21T06:51:24.866662Z",
     "shell.execute_reply": "2022-07-21T06:51:24.863332Z"
    },
    "papermill": {
     "duration": 0.52128,
     "end_time": "2022-07-21T06:51:24.869061",
     "exception": false,
     "start_time": "2022-07-21T06:51:24.347781",
     "status": "completed"
    },
    "tags": []
   },
   "outputs": [
    {
     "name": "stderr",
     "output_type": "stream",
     "text": [
      "2022-07-21 06:51:24,673\tINFO worker.py:842 -- Connecting to existing Ray cluster at address: 172.17.0.2:6379\n"
     ]
    }
   ],
   "source": [
    "from pynb_dag_runner.tasks.task_opentelemetry_logging import PydarLogger\n",
    "\n",
    "logger = PydarLogger(P)"
   ]
  },
  {
   "cell_type": "markdown",
   "id": "57f03f8f",
   "metadata": {
    "papermill": {
     "duration": 0.004322,
     "end_time": "2022-07-21T06:51:24.877334",
     "exception": false,
     "start_time": "2022-07-21T06:51:24.873012",
     "status": "completed"
    },
    "tags": []
   },
   "source": [
    "## Load and limit train data"
   ]
  },
  {
   "cell_type": "code",
   "execution_count": 6,
   "id": "961753d8",
   "metadata": {
    "execution": {
     "iopub.execute_input": "2022-07-21T06:51:24.885703Z",
     "iopub.status.busy": "2022-07-21T06:51:24.885344Z",
     "iopub.status.idle": "2022-07-21T06:51:25.310062Z",
     "shell.execute_reply": "2022-07-21T06:51:25.309060Z"
    },
    "papermill": {
     "duration": 0.431318,
     "end_time": "2022-07-21T06:51:25.312090",
     "exception": false,
     "start_time": "2022-07-21T06:51:24.880772",
     "status": "completed"
    },
    "tags": []
   },
   "outputs": [],
   "source": [
    "def load_and_limit_train_data(P):\n",
    "    from common.io import datalake_root, read_numpy\n",
    "    from sklearn.model_selection import train_test_split\n",
    "\n",
    "    X_train_all = read_numpy(datalake_root(P) / \"train-data\" / \"digits.numpy\")\n",
    "    y_train_all = read_numpy(datalake_root(P) / \"train-data\" / \"labels.numpy\")\n",
    "\n",
    "    assert isinstance(P[\"task.nr_train_images\"], int)\n",
    "\n",
    "    # Note: train_test_split will fail if split is 0 or 100%.\n",
    "    assert 0 < P[\"task.nr_train_images\"] < len(y_train_all)\n",
    "\n",
    "    X_train, _, y_train, _ = train_test_split(\n",
    "        X_train_all,\n",
    "        y_train_all,\n",
    "        train_size=P[\"task.nr_train_images\"],\n",
    "        test_size=None,\n",
    "        stratify=y_train_all,\n",
    "        shuffle=True,\n",
    "        random_state=123,\n",
    "    )\n",
    "\n",
    "    assert X_train.shape == (len(y_train), 8 * 8)\n",
    "    return X_train, y_train\n",
    "\n",
    "\n",
    "X_train, y_train = load_and_limit_train_data(P)"
   ]
  },
  {
   "cell_type": "markdown",
   "id": "af143e20",
   "metadata": {
    "papermill": {
     "duration": 0.003267,
     "end_time": "2022-07-21T06:51:25.320958",
     "exception": false,
     "start_time": "2022-07-21T06:51:25.317691",
     "status": "completed"
    },
    "tags": []
   },
   "source": [
    "## Train support vector classifier model\n",
    "\n",
    "Below we assume that the hyperparameter $C$ is known.\n",
    "\n",
    "However, this should ideally be found by a hyperparameter search. That could be\n",
    "done in parallel on the Ray cluster, but this needs some more work. Ie., to use\n",
    "multiple cores in the notebook, those cores should be reserved when starting the\n",
    "notebook task (TODO).\n",
    "\n",
    "- https://docs.ray.io/en/latest/tune/key-concepts.html\n",
    "\n",
    "Note: cv-scores would need to be computed here, since they depend on the train data.\n",
    "After this notebook only the onnx-model is available."
   ]
  },
  {
   "cell_type": "code",
   "execution_count": 7,
   "id": "427bfaf6",
   "metadata": {
    "execution": {
     "iopub.execute_input": "2022-07-21T06:51:25.328485Z",
     "iopub.status.busy": "2022-07-21T06:51:25.328049Z",
     "iopub.status.idle": "2022-07-21T06:51:25.350546Z",
     "shell.execute_reply": "2022-07-21T06:51:25.349859Z"
    },
    "papermill": {
     "duration": 0.028765,
     "end_time": "2022-07-21T06:51:25.352700",
     "exception": false,
     "start_time": "2022-07-21T06:51:25.323935",
     "status": "completed"
    },
    "tags": []
   },
   "outputs": [],
   "source": [
    "from sklearn.svm import SVC"
   ]
  },
  {
   "cell_type": "code",
   "execution_count": 8,
   "id": "cfa3eb07",
   "metadata": {
    "execution": {
     "iopub.execute_input": "2022-07-21T06:51:25.360396Z",
     "iopub.status.busy": "2022-07-21T06:51:25.360004Z",
     "iopub.status.idle": "2022-07-21T06:51:25.561161Z",
     "shell.execute_reply": "2022-07-21T06:51:25.560554Z"
    },
    "papermill": {
     "duration": 0.206935,
     "end_time": "2022-07-21T06:51:25.563171",
     "exception": false,
     "start_time": "2022-07-21T06:51:25.356236",
     "status": "completed"
    },
    "tags": []
   },
   "outputs": [
    {
     "data": {
      "text/plain": [
       "SVC(C=0.001, kernel='linear', probability=True)"
      ]
     },
     "execution_count": 8,
     "metadata": {},
     "output_type": "execute_result"
    }
   ],
   "source": [
    "model = SVC(C=0.001, kernel=\"linear\", probability=True)\n",
    "\n",
    "model.fit(X_train, y_train)"
   ]
  },
  {
   "cell_type": "markdown",
   "id": "932436b5",
   "metadata": {
    "papermill": {
     "duration": 0.004015,
     "end_time": "2022-07-21T06:51:25.570468",
     "exception": false,
     "start_time": "2022-07-21T06:51:25.566453",
     "status": "completed"
    },
    "tags": []
   },
   "source": [
    "### Q: Can the labels returned by `predict(..)` be computed from probabilities returned by the `predict_prob`-method?"
   ]
  },
  {
   "cell_type": "code",
   "execution_count": 9,
   "id": "bc8b23e7",
   "metadata": {
    "execution": {
     "iopub.execute_input": "2022-07-21T06:51:25.578172Z",
     "iopub.status.busy": "2022-07-21T06:51:25.577797Z",
     "iopub.status.idle": "2022-07-21T06:51:25.688544Z",
     "shell.execute_reply": "2022-07-21T06:51:25.687804Z"
    },
    "papermill": {
     "duration": 0.11675,
     "end_time": "2022-07-21T06:51:25.690285",
     "exception": false,
     "start_time": "2022-07-21T06:51:25.573535",
     "status": "completed"
    },
    "tags": []
   },
   "outputs": [
    {
     "name": "stdout",
     "output_type": "stream",
     "text": [
      " - Logging nr_max_prob_neq_label (int) : 2\n"
     ]
    }
   ],
   "source": [
    "import numpy as np\n",
    "\n",
    "y_train_labels = model.predict(X_train)\n",
    "y_train_probabilities = model.predict_proba(X_train)\n",
    "assert y_train_probabilities.shape == (len(y_train), 10)\n",
    "\n",
    "y_train_max_prob_labels = np.argmax(y_train_probabilities, axis=1)\n",
    "assert y_train_labels.shape == y_train_max_prob_labels.shape == y_train.shape\n",
    "\n",
    "# If the predicted labels would coincide with the labels that have\n",
    "# maximum probability, the below number would be zero\n",
    "logger.log_int(\n",
    "    \"nr_max_prob_neq_label\", int(sum(y_train_max_prob_labels != y_train_labels))\n",
    ")"
   ]
  },
  {
   "cell_type": "markdown",
   "id": "364efeb3",
   "metadata": {
    "papermill": {
     "duration": 0.003654,
     "end_time": "2022-07-21T06:51:25.706980",
     "exception": false,
     "start_time": "2022-07-21T06:51:25.703326",
     "status": "completed"
    },
    "tags": []
   },
   "source": [
    "The explanation is (likely) explained in the SVC source, see\n",
    "[here](https://github.com/scikit-learn/scikit-learn/blob/main/sklearn/svm/_base.py).\n",
    "Namely, the outputs from `predict(..)` and `predict_proba(..)` may not in some\n",
    "cases be compatible since the latter is computed using cross-validation while\n",
    "the former is not. Thus, the above number need not be zero."
   ]
  },
  {
   "cell_type": "markdown",
   "id": "bd634fcf",
   "metadata": {
    "papermill": {
     "duration": 0.003845,
     "end_time": "2022-07-21T06:51:25.713915",
     "exception": false,
     "start_time": "2022-07-21T06:51:25.710070",
     "status": "completed"
    },
    "tags": []
   },
   "source": [
    "## Persist model"
   ]
  },
  {
   "cell_type": "code",
   "execution_count": 10,
   "id": "418683fb",
   "metadata": {
    "execution": {
     "iopub.execute_input": "2022-07-21T06:51:25.723017Z",
     "iopub.status.busy": "2022-07-21T06:51:25.722190Z",
     "iopub.status.idle": "2022-07-21T06:51:26.491231Z",
     "shell.execute_reply": "2022-07-21T06:51:26.490449Z"
    },
    "papermill": {
     "duration": 0.775099,
     "end_time": "2022-07-21T06:51:26.493069",
     "exception": false,
     "start_time": "2022-07-21T06:51:25.717970",
     "status": "completed"
    },
    "tags": []
   },
   "outputs": [],
   "source": [
    "from skl2onnx import convert_sklearn\n",
    "from skl2onnx.common.data_types import FloatTensorType\n",
    "\n",
    "#\n",
    "from common.io import datalake_root, write_onnx"
   ]
  },
  {
   "cell_type": "code",
   "execution_count": 11,
   "id": "1ba90c87",
   "metadata": {
    "execution": {
     "iopub.execute_input": "2022-07-21T06:51:26.502143Z",
     "iopub.status.busy": "2022-07-21T06:51:26.501355Z",
     "iopub.status.idle": "2022-07-21T06:51:26.571917Z",
     "shell.execute_reply": "2022-07-21T06:51:26.571176Z"
    },
    "papermill": {
     "duration": 0.077116,
     "end_time": "2022-07-21T06:51:26.573700",
     "exception": false,
     "start_time": "2022-07-21T06:51:26.496584",
     "status": "completed"
    },
    "tags": []
   },
   "outputs": [],
   "source": [
    "# convert sklearn model into onnx and persist to data lake\n",
    "\n",
    "model_onnx = convert_sklearn(\n",
    "    model, initial_types=[(\"float_input_8x8_image\", FloatTensorType([None, 8 * 8]))]\n",
    ")\n",
    "write_onnx(\n",
    "    datalake_root(P)\n",
    "    / \"models\"\n",
    "    / f\"nr_train_images={P['task.nr_train_images']}\"\n",
    "    / \"model.onnx\",\n",
    "    model_onnx,\n",
    ")"
   ]
  },
  {
   "cell_type": "code",
   "execution_count": null,
   "id": "76127835",
   "metadata": {
    "papermill": {
     "duration": 0.003306,
     "end_time": "2022-07-21T06:51:26.580177",
     "exception": false,
     "start_time": "2022-07-21T06:51:26.576871",
     "status": "completed"
    },
    "tags": []
   },
   "outputs": [],
   "source": []
  }
 ],
 "metadata": {
  "jupytext": {
   "cell_metadata_filter": "tags,-all",
   "main_language": "python",
   "notebook_metadata_filter": "-all"
  },
  "language_info": {
   "codemirror_mode": {
    "name": "ipython",
    "version": 3
   },
   "file_extension": ".py",
   "mimetype": "text/x-python",
   "name": "python",
   "nbconvert_exporter": "python",
   "pygments_lexer": "ipython3",
   "version": "3.8.10"
  },
  "papermill": {
   "default_parameters": {},
   "duration": 4.672233,
   "end_time": "2022-07-21T06:51:27.711179",
   "environment_variables": {},
   "exception": null,
   "input_path": "/home/host_user/workspace/mnist-demo-pipeline/mnist-demo-pipeline/notebooks/temp-notebook-exbmki3a.ipynb",
   "output_path": "notebooks/train-model.ipynb",
   "parameters": {
    "P": {
     "_opentelemetry_traceparent": "00-6f24b26aec5f4e42995b162b1295bd39-ffd8a312bf69b450-01",
     "pipeline.data_lake_root": "/pipeline-outputs/data-lake",
     "pipeline.github.actor": "matiasdahl",
     "pipeline.github.base_ref": "",
     "pipeline.github.event_name": "schedule",
     "pipeline.github.head_ref": "",
     "pipeline.github.job": "run-tests-pipeline-and-persist-pipeline-outputs",
     "pipeline.github.ref": "refs/heads/development",
     "pipeline.github.ref_name": "development",
     "pipeline.github.ref_type": "branch",
     "pipeline.github.repository": "pynb-dag-runner/mnist-digits-demo-pipeline",
     "pipeline.github.run_id": "2709861045",
     "pipeline.github.runner_name": "Hosted Agent",
     "pipeline.github.sha": "5a6f90a9473b3095841d5b5dc7b58f5f049a0f71",
     "pipeline.github.workflow": "Run automated tests, pipeline and deploy results to static reporting site",
     "pipeline.pipeline_run_id": "4a731c87-d022-48c4-abbf-330a6402e8e3",
     "pipeline.run_environment": "ci",
     "run.retry_nr": "0",
     "task.max_nr_retries": "1",
     "task.notebook": "notebooks/train-model.py",
     "task.nr_train_images": 1200,
     "task.num_cpus": 1,
     "task.timeout_s": "None"
    }
   },
   "start_time": "2022-07-21T06:51:23.038946",
   "version": "2.3.3"
  }
 },
 "nbformat": 4,
 "nbformat_minor": 5
}