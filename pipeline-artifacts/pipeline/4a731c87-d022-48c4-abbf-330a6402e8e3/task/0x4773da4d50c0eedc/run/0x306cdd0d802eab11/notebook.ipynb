{
 "cells": [
  {
   "cell_type": "markdown",
   "id": "a89ed560",
   "metadata": {
    "papermill": {
     "duration": 0.0247,
     "end_time": "2022-07-21T06:51:50.415731",
     "exception": false,
     "start_time": "2022-07-21T06:51:50.391031",
     "status": "completed"
    },
    "tags": []
   },
   "source": [
    "# Summarize model performances\n",
    "\n",
    "This notebooks plots the performances (using averaged ROC AUC scores) for models\n",
    "trained with different training sets."
   ]
  },
  {
   "cell_type": "markdown",
   "id": "517bf497",
   "metadata": {
    "papermill": {
     "duration": 0.00281,
     "end_time": "2022-07-21T06:51:50.421888",
     "exception": false,
     "start_time": "2022-07-21T06:51:50.419078",
     "status": "completed"
    },
    "tags": []
   },
   "source": [
    "### Determine run parameters"
   ]
  },
  {
   "cell_type": "code",
   "execution_count": 1,
   "id": "599631d1",
   "metadata": {
    "execution": {
     "iopub.execute_input": "2022-07-21T06:51:50.428306Z",
     "iopub.status.busy": "2022-07-21T06:51:50.427993Z",
     "iopub.status.idle": "2022-07-21T06:51:50.435067Z",
     "shell.execute_reply": "2022-07-21T06:51:50.434438Z"
    },
    "lines_to_next_cell": 0,
    "papermill": {
     "duration": 0.012345,
     "end_time": "2022-07-21T06:51:50.436608",
     "exception": false,
     "start_time": "2022-07-21T06:51:50.424263",
     "status": "completed"
    },
    "tags": []
   },
   "outputs": [],
   "source": [
    "# ----------------- Parameters for interactive development --------------\n",
    "P = {\n",
    "    \"pipeline.run_environment\": \"dev\",\n",
    "}"
   ]
  },
  {
   "cell_type": "code",
   "execution_count": 2,
   "id": "938a0fcf",
   "metadata": {
    "execution": {
     "iopub.execute_input": "2022-07-21T06:51:50.443346Z",
     "iopub.status.busy": "2022-07-21T06:51:50.442737Z",
     "iopub.status.idle": "2022-07-21T06:51:50.445793Z",
     "shell.execute_reply": "2022-07-21T06:51:50.445201Z"
    },
    "lines_to_next_cell": 0,
    "papermill": {
     "duration": 0.008094,
     "end_time": "2022-07-21T06:51:50.447237",
     "exception": false,
     "start_time": "2022-07-21T06:51:50.439143",
     "status": "completed"
    },
    "tags": [
     "parameters"
    ]
   },
   "outputs": [],
   "source": [
    "# - During automated runs parameters will be injected in the below cell -"
   ]
  },
  {
   "cell_type": "code",
   "execution_count": 3,
   "id": "b253c110",
   "metadata": {
    "execution": {
     "iopub.execute_input": "2022-07-21T06:51:50.456971Z",
     "iopub.status.busy": "2022-07-21T06:51:50.456374Z",
     "iopub.status.idle": "2022-07-21T06:51:50.460943Z",
     "shell.execute_reply": "2022-07-21T06:51:50.460131Z"
    },
    "papermill": {
     "duration": 0.013623,
     "end_time": "2022-07-21T06:51:50.463176",
     "exception": false,
     "start_time": "2022-07-21T06:51:50.449553",
     "status": "completed"
    },
    "tags": [
     "injected-parameters"
    ]
   },
   "outputs": [],
   "source": [
    "# Parameters\n",
    "P = {\n",
    "    \"pipeline.data_lake_root\": \"/pipeline-outputs/data-lake\",\n",
    "    \"pipeline.run_environment\": \"ci\",\n",
    "    \"pipeline.pipeline_run_id\": \"4a731c87-d022-48c4-abbf-330a6402e8e3\",\n",
    "    \"pipeline.github.repository\": \"pynb-dag-runner/mnist-digits-demo-pipeline\",\n",
    "    \"pipeline.github.workflow\": \"Run automated tests, pipeline and deploy results to static reporting site\",\n",
    "    \"pipeline.github.runner_name\": \"Hosted Agent\",\n",
    "    \"pipeline.github.run_id\": \"2709861045\",\n",
    "    \"pipeline.github.actor\": \"matiasdahl\",\n",
    "    \"pipeline.github.job\": \"run-tests-pipeline-and-persist-pipeline-outputs\",\n",
    "    \"pipeline.github.base_ref\": \"\",\n",
    "    \"pipeline.github.head_ref\": \"\",\n",
    "    \"pipeline.github.sha\": \"5a6f90a9473b3095841d5b5dc7b58f5f049a0f71\",\n",
    "    \"pipeline.github.ref\": \"refs/heads/development\",\n",
    "    \"pipeline.github.ref_type\": \"branch\",\n",
    "    \"pipeline.github.ref_name\": \"development\",\n",
    "    \"pipeline.github.event_name\": \"schedule\",\n",
    "    \"task.notebook\": \"notebooks/summary.py\",\n",
    "    \"task.max_nr_retries\": \"1\",\n",
    "    \"run.retry_nr\": \"0\",\n",
    "    \"task.timeout_s\": \"None\",\n",
    "    \"task.num_cpus\": 1,\n",
    "    \"_opentelemetry_traceparent\": \"00-6f24b26aec5f4e42995b162b1295bd39-6da3807f5ca37325-01\",\n",
    "}\n"
   ]
  },
  {
   "cell_type": "code",
   "execution_count": 4,
   "id": "384620e6",
   "metadata": {
    "execution": {
     "iopub.execute_input": "2022-07-21T06:51:50.469546Z",
     "iopub.status.busy": "2022-07-21T06:51:50.469348Z",
     "iopub.status.idle": "2022-07-21T06:51:50.472028Z",
     "shell.execute_reply": "2022-07-21T06:51:50.471279Z"
    },
    "lines_to_next_cell": 0,
    "papermill": {
     "duration": 0.007522,
     "end_time": "2022-07-21T06:51:50.473502",
     "exception": false,
     "start_time": "2022-07-21T06:51:50.465980",
     "status": "completed"
    },
    "tags": []
   },
   "outputs": [],
   "source": [
    "# -----------------------------------------------------------------------"
   ]
  },
  {
   "cell_type": "markdown",
   "id": "8c36a9a9",
   "metadata": {
    "papermill": {
     "duration": 0.002448,
     "end_time": "2022-07-21T06:51:50.478537",
     "exception": false,
     "start_time": "2022-07-21T06:51:50.476089",
     "status": "completed"
    },
    "tags": []
   },
   "source": [
    "---"
   ]
  },
  {
   "cell_type": "markdown",
   "id": "5a35a7ab",
   "metadata": {
    "lines_to_next_cell": 2,
    "papermill": {
     "duration": 0.002737,
     "end_time": "2022-07-21T06:51:50.483831",
     "exception": false,
     "start_time": "2022-07-21T06:51:50.481094",
     "status": "completed"
    },
    "tags": []
   },
   "source": [
    "### Notebook code"
   ]
  },
  {
   "cell_type": "code",
   "execution_count": 5,
   "id": "22be99e3",
   "metadata": {
    "execution": {
     "iopub.execute_input": "2022-07-21T06:51:50.490002Z",
     "iopub.status.busy": "2022-07-21T06:51:50.489594Z",
     "iopub.status.idle": "2022-07-21T06:51:51.569112Z",
     "shell.execute_reply": "2022-07-21T06:51:51.568498Z"
    },
    "papermill": {
     "duration": 1.084556,
     "end_time": "2022-07-21T06:51:51.570859",
     "exception": false,
     "start_time": "2022-07-21T06:51:50.486303",
     "status": "completed"
    },
    "tags": []
   },
   "outputs": [],
   "source": [
    "#\n",
    "import pandas as pd\n",
    "import matplotlib.pyplot as plt\n",
    "\n",
    "#\n",
    "from pynb_dag_runner.tasks.task_opentelemetry_logging import PydarLogger"
   ]
  },
  {
   "cell_type": "code",
   "execution_count": 6,
   "id": "3da10699",
   "metadata": {
    "execution": {
     "iopub.execute_input": "2022-07-21T06:51:51.578492Z",
     "iopub.status.busy": "2022-07-21T06:51:51.578062Z",
     "iopub.status.idle": "2022-07-21T06:51:51.731738Z",
     "shell.execute_reply": "2022-07-21T06:51:51.730557Z"
    },
    "papermill": {
     "duration": 0.159861,
     "end_time": "2022-07-21T06:51:51.734077",
     "exception": false,
     "start_time": "2022-07-21T06:51:51.574216",
     "status": "completed"
    },
    "tags": []
   },
   "outputs": [
    {
     "name": "stderr",
     "output_type": "stream",
     "text": [
      "2022-07-21 06:51:51,582\tINFO worker.py:842 -- Connecting to existing Ray cluster at address: 172.17.0.2:6379\n"
     ]
    }
   ],
   "source": [
    "logger = PydarLogger(P=P)"
   ]
  },
  {
   "cell_type": "code",
   "execution_count": 7,
   "id": "cde15532",
   "metadata": {
    "execution": {
     "iopub.execute_input": "2022-07-21T06:51:51.740907Z",
     "iopub.status.busy": "2022-07-21T06:51:51.740505Z",
     "iopub.status.idle": "2022-07-21T06:51:51.745616Z",
     "shell.execute_reply": "2022-07-21T06:51:51.745030Z"
    },
    "papermill": {
     "duration": 0.010337,
     "end_time": "2022-07-21T06:51:51.747098",
     "exception": false,
     "start_time": "2022-07-21T06:51:51.736761",
     "status": "completed"
    },
    "tags": []
   },
   "outputs": [],
   "source": [
    "from pynb_dag_runner.tasks.task_opentelemetry_logging import (\n",
    "    PydarLogger,\n",
    "    get_logged_values,\n",
    ")\n",
    "from pynb_dag_runner.opentelemetry_helpers import _get_all_spans, Spans"
   ]
  },
  {
   "cell_type": "code",
   "execution_count": 8,
   "id": "817797f9",
   "metadata": {
    "execution": {
     "iopub.execute_input": "2022-07-21T06:51:51.755658Z",
     "iopub.status.busy": "2022-07-21T06:51:51.755446Z",
     "iopub.status.idle": "2022-07-21T06:51:51.761595Z",
     "shell.execute_reply": "2022-07-21T06:51:51.760986Z"
    },
    "papermill": {
     "duration": 0.011801,
     "end_time": "2022-07-21T06:51:51.763373",
     "exception": false,
     "start_time": "2022-07-21T06:51:51.751572",
     "status": "completed"
    },
    "tags": []
   },
   "outputs": [],
   "source": [
    "def get_model_benchmarks():\n",
    "    \"\"\"\n",
    "    Query the OpenTelemetry logs for *this pipeline run* and return\n",
    "    all key-values logged from all runs of the benchmark-model.py task\n",
    "\n",
    "    For testing a json file with OpenTelemetry spans (as an array)\n",
    "    can be used as follows:\n",
    "\n",
    "    - Create output directory `mkdir /tmp/spans`\n",
    "    - Run unit tests. This will create pipeline-outputs/opentelemetry-spans.json\n",
    "    - Convert this json-array into jsonl format as follows\n",
    "\n",
    "    jq -c '.[]' /pipeline-outputs/opentelemetry-spans.json > /tmp/spans/data.txt\n",
    "\n",
    "    \"\"\"\n",
    "    spans: Spans = Spans(_get_all_spans())\n",
    "    print(f\"Found {len(spans)} spans\")\n",
    "\n",
    "    benchmark_spans = (\n",
    "        spans\n",
    "        # -\n",
    "        .filter([\"name\"], \"execute-task\")\n",
    "        # -\n",
    "        .filter([\"attributes\", \"task.notebook\"], \"notebooks/benchmark-model.py\")\n",
    "    )\n",
    "\n",
    "    result = []\n",
    "    for s in benchmark_spans:\n",
    "        result.append(\n",
    "            {\n",
    "                \"span_id\": s[\"context\"][\"span_id\"],\n",
    "                \"nr_train_images\": s[\"attributes\"][\"task.nr_train_images\"],\n",
    "                \"data\": get_logged_values(spans.bound_under(s)),\n",
    "            }\n",
    "        )\n",
    "\n",
    "    return result\n",
    "\n",
    "\n",
    "def adjust_pandas(df):\n",
    "    def column_renamer(col_name: str) -> str:\n",
    "        return (\n",
    "            col_name\n",
    "            # -- 'data.roc_auc_per_digit.4' -> 'roc_auc.4'\n",
    "            .replace(\"data.roc_auc_per_digit\", \"roc_auc\")\n",
    "            # -- 'data.roc_auc_class_mean' -> 'roc_auc_mean'\n",
    "            .replace(\"data.roc_auc_class_mean\", \"roc_auc_mean\")\n",
    "        )\n",
    "\n",
    "    return df.rename(column_renamer, axis=\"columns\").sort_values(by=\"nr_train_images\")"
   ]
  },
  {
   "cell_type": "code",
   "execution_count": 9,
   "id": "2734eb85",
   "metadata": {
    "execution": {
     "iopub.execute_input": "2022-07-21T06:51:51.769905Z",
     "iopub.status.busy": "2022-07-21T06:51:51.769700Z",
     "iopub.status.idle": "2022-07-21T06:51:51.807930Z",
     "shell.execute_reply": "2022-07-21T06:51:51.807320Z"
    },
    "papermill": {
     "duration": 0.043266,
     "end_time": "2022-07-21T06:51:51.809216",
     "exception": false,
     "start_time": "2022-07-21T06:51:51.765950",
     "status": "completed"
    },
    "tags": []
   },
   "outputs": [
    {
     "name": "stdout",
     "output_type": "stream",
     "text": [
      "Found 420 spans\n"
     ]
    }
   ],
   "source": [
    "df_data = adjust_pandas(pd.json_normalize(get_model_benchmarks()))"
   ]
  },
  {
   "cell_type": "code",
   "execution_count": 10,
   "id": "63d615e4",
   "metadata": {
    "execution": {
     "iopub.execute_input": "2022-07-21T06:51:51.815818Z",
     "iopub.status.busy": "2022-07-21T06:51:51.815485Z",
     "iopub.status.idle": "2022-07-21T06:51:51.839018Z",
     "shell.execute_reply": "2022-07-21T06:51:51.838358Z"
    },
    "papermill": {
     "duration": 0.028818,
     "end_time": "2022-07-21T06:51:51.841084",
     "exception": false,
     "start_time": "2022-07-21T06:51:51.812266",
     "status": "completed"
    },
    "tags": []
   },
   "outputs": [
    {
     "data": {
      "text/html": [
       "<div>\n",
       "<style scoped>\n",
       "    .dataframe tbody tr th:only-of-type {\n",
       "        vertical-align: middle;\n",
       "    }\n",
       "\n",
       "    .dataframe tbody tr th {\n",
       "        vertical-align: top;\n",
       "    }\n",
       "\n",
       "    .dataframe thead th {\n",
       "        text-align: right;\n",
       "    }\n",
       "</style>\n",
       "<table border=\"1\" class=\"dataframe\">\n",
       "  <thead>\n",
       "    <tr style=\"text-align: right;\">\n",
       "      <th></th>\n",
       "      <th>span_id</th>\n",
       "      <th>nr_train_images</th>\n",
       "      <th>roc_auc_mean</th>\n",
       "      <th>roc_auc.0</th>\n",
       "      <th>roc_auc.1</th>\n",
       "      <th>roc_auc.2</th>\n",
       "      <th>roc_auc.3</th>\n",
       "      <th>roc_auc.4</th>\n",
       "      <th>roc_auc.5</th>\n",
       "      <th>roc_auc.6</th>\n",
       "      <th>roc_auc.7</th>\n",
       "      <th>roc_auc.8</th>\n",
       "      <th>roc_auc.9</th>\n",
       "    </tr>\n",
       "  </thead>\n",
       "  <tbody>\n",
       "    <tr>\n",
       "      <th>0</th>\n",
       "      <td>0xe1c8a83aaf93aaa0</td>\n",
       "      <td>600</td>\n",
       "      <td>0.9990</td>\n",
       "      <td>1.0</td>\n",
       "      <td>0.9993</td>\n",
       "      <td>1.0</td>\n",
       "      <td>0.9998</td>\n",
       "      <td>0.9990</td>\n",
       "      <td>0.9989</td>\n",
       "      <td>0.9999</td>\n",
       "      <td>0.9998</td>\n",
       "      <td>0.9948</td>\n",
       "      <td>0.9989</td>\n",
       "    </tr>\n",
       "    <tr>\n",
       "      <th>2</th>\n",
       "      <td>0x98ffdc21f38dcbff</td>\n",
       "      <td>800</td>\n",
       "      <td>0.9990</td>\n",
       "      <td>1.0</td>\n",
       "      <td>0.9988</td>\n",
       "      <td>1.0</td>\n",
       "      <td>0.9998</td>\n",
       "      <td>0.9994</td>\n",
       "      <td>0.9991</td>\n",
       "      <td>1.0000</td>\n",
       "      <td>0.9999</td>\n",
       "      <td>0.9932</td>\n",
       "      <td>0.9994</td>\n",
       "    </tr>\n",
       "    <tr>\n",
       "      <th>1</th>\n",
       "      <td>0x59b84ee1452255cf</td>\n",
       "      <td>1000</td>\n",
       "      <td>0.9992</td>\n",
       "      <td>1.0</td>\n",
       "      <td>0.9989</td>\n",
       "      <td>1.0</td>\n",
       "      <td>0.9999</td>\n",
       "      <td>0.9997</td>\n",
       "      <td>0.9994</td>\n",
       "      <td>0.9999</td>\n",
       "      <td>0.9998</td>\n",
       "      <td>0.9952</td>\n",
       "      <td>0.9996</td>\n",
       "    </tr>\n",
       "    <tr>\n",
       "      <th>3</th>\n",
       "      <td>0x869dd4efd217a0df</td>\n",
       "      <td>1200</td>\n",
       "      <td>0.9993</td>\n",
       "      <td>1.0</td>\n",
       "      <td>0.9990</td>\n",
       "      <td>1.0</td>\n",
       "      <td>0.9999</td>\n",
       "      <td>0.9997</td>\n",
       "      <td>0.9997</td>\n",
       "      <td>0.9999</td>\n",
       "      <td>0.9998</td>\n",
       "      <td>0.9958</td>\n",
       "      <td>0.9998</td>\n",
       "    </tr>\n",
       "  </tbody>\n",
       "</table>\n",
       "</div>"
      ],
      "text/plain": [
       "              span_id  nr_train_images  roc_auc_mean  roc_auc.0  roc_auc.1  \\\n",
       "0  0xe1c8a83aaf93aaa0              600        0.9990        1.0     0.9993   \n",
       "2  0x98ffdc21f38dcbff              800        0.9990        1.0     0.9988   \n",
       "1  0x59b84ee1452255cf             1000        0.9992        1.0     0.9989   \n",
       "3  0x869dd4efd217a0df             1200        0.9993        1.0     0.9990   \n",
       "\n",
       "   roc_auc.2  roc_auc.3  roc_auc.4  roc_auc.5  roc_auc.6  roc_auc.7  \\\n",
       "0        1.0     0.9998     0.9990     0.9989     0.9999     0.9998   \n",
       "2        1.0     0.9998     0.9994     0.9991     1.0000     0.9999   \n",
       "1        1.0     0.9999     0.9997     0.9994     0.9999     0.9998   \n",
       "3        1.0     0.9999     0.9997     0.9997     0.9999     0.9998   \n",
       "\n",
       "   roc_auc.8  roc_auc.9  \n",
       "0     0.9948     0.9989  \n",
       "2     0.9932     0.9994  \n",
       "1     0.9952     0.9996  \n",
       "3     0.9958     0.9998  "
      ]
     },
     "execution_count": 10,
     "metadata": {},
     "output_type": "execute_result"
    }
   ],
   "source": [
    "df_data.round(4)"
   ]
  },
  {
   "cell_type": "code",
   "execution_count": 11,
   "id": "242ff4de",
   "metadata": {
    "execution": {
     "iopub.execute_input": "2022-07-21T06:51:51.847957Z",
     "iopub.status.busy": "2022-07-21T06:51:51.847544Z",
     "iopub.status.idle": "2022-07-21T06:51:51.989997Z",
     "shell.execute_reply": "2022-07-21T06:51:51.989381Z"
    },
    "papermill": {
     "duration": 0.147433,
     "end_time": "2022-07-21T06:51:51.991527",
     "exception": false,
     "start_time": "2022-07-21T06:51:51.844094",
     "status": "completed"
    },
    "tags": []
   },
   "outputs": [
    {
     "data": {
      "image/png": "[encoded data removed]",
      "text/plain": [
       "<Figure size 1152x288 with 1 Axes>"
      ]
     },
     "metadata": {
      "needs_background": "light"
     },
     "output_type": "display_data"
    }
   ],
   "source": [
    "def plot_classifier_performance_summary(df_data):\n",
    "    fig, ax = plt.subplots(nrows=1, ncols=1, figsize=(16, 4), sharex=True)\n",
    "\n",
    "    #\n",
    "    ax.plot(\n",
    "        df_data[\"nr_train_images\"], df_data[\"roc_auc_mean\"], marker=\"o\", linestyle=\"--\"\n",
    "    )\n",
    "    ax.set_title(\n",
    "        f\"ROC AUC digit classifier performance on evaluation digits\", fontsize=17\n",
    "    )\n",
    "    ax.set_xlabel(\"Total number of digits in training set\", fontsize=14)\n",
    "    ax.set_ylabel(\"Mean ROC AUC\", fontsize=14)\n",
    "\n",
    "    fig.tight_layout()\n",
    "    fig.show()\n",
    "\n",
    "    return fig\n",
    "\n",
    "\n",
    "fig = plot_classifier_performance_summary(df_data)"
   ]
  },
  {
   "cell_type": "code",
   "execution_count": 12,
   "id": "083bfc1b",
   "metadata": {
    "execution": {
     "iopub.execute_input": "2022-07-21T06:51:51.999675Z",
     "iopub.status.busy": "2022-07-21T06:51:51.999137Z",
     "iopub.status.idle": "2022-07-21T06:51:52.052224Z",
     "shell.execute_reply": "2022-07-21T06:51:52.051639Z"
    },
    "papermill": {
     "duration": 0.058632,
     "end_time": "2022-07-21T06:51:52.053697",
     "exception": false,
     "start_time": "2022-07-21T06:51:51.995065",
     "status": "completed"
    },
    "tags": []
   },
   "outputs": [],
   "source": [
    "logger.log_figure(\"auc-roc-model-performances.png\", fig)"
   ]
  },
  {
   "cell_type": "code",
   "execution_count": 13,
   "id": "6f51a556",
   "metadata": {
    "execution": {
     "iopub.execute_input": "2022-07-21T06:51:52.061420Z",
     "iopub.status.busy": "2022-07-21T06:51:52.060993Z",
     "iopub.status.idle": "2022-07-21T06:51:52.064223Z",
     "shell.execute_reply": "2022-07-21T06:51:52.063635Z"
    },
    "papermill": {
     "duration": 0.008583,
     "end_time": "2022-07-21T06:51:52.065542",
     "exception": false,
     "start_time": "2022-07-21T06:51:52.056959",
     "status": "completed"
    },
    "tags": []
   },
   "outputs": [],
   "source": [
    "###"
   ]
  },
  {
   "cell_type": "code",
   "execution_count": null,
   "id": "6528d6b0",
   "metadata": {
    "papermill": {
     "duration": 0.003257,
     "end_time": "2022-07-21T06:51:52.071908",
     "exception": false,
     "start_time": "2022-07-21T06:51:52.068651",
     "status": "completed"
    },
    "tags": []
   },
   "outputs": [],
   "source": []
  }
 ],
 "metadata": {
  "jupytext": {
   "cell_metadata_filter": "tags,-all",
   "main_language": "python",
   "notebook_metadata_filter": "-all"
  },
  "language_info": {
   "codemirror_mode": {
    "name": "ipython",
    "version": 3
   },
   "file_extension": ".py",
   "mimetype": "text/x-python",
   "name": "python",
   "nbconvert_exporter": "python",
   "pygments_lexer": "ipython3",
   "version": "3.8.10"
  },
  "papermill": {
   "default_parameters": {},
   "duration": 3.827998,
   "end_time": "2022-07-21T06:51:52.993243",
   "environment_variables": {},
   "exception": null,
   "input_path": "/home/host_user/workspace/mnist-demo-pipeline/mnist-demo-pipeline/notebooks/temp-notebook-clvtn7bm.ipynb",
   "output_path": "notebooks/summary.ipynb",
   "parameters": {
    "P": {
     "_opentelemetry_traceparent": "00-6f24b26aec5f4e42995b162b1295bd39-6da3807f5ca37325-01",
     "pipeline.data_lake_root": "/pipeline-outputs/data-lake",
     "pipeline.github.actor": "matiasdahl",
     "pipeline.github.base_ref": "",
     "pipeline.github.event_name": "schedule",
     "pipeline.github.head_ref": "",
     "pipeline.github.job": "run-tests-pipeline-and-persist-pipeline-outputs",
     "pipeline.github.ref": "refs/heads/development",
     "pipeline.github.ref_name": "development",
     "pipeline.github.ref_type": "branch",
     "pipeline.github.repository": "pynb-dag-runner/mnist-digits-demo-pipeline",
     "pipeline.github.run_id": "2709861045",
     "pipeline.github.runner_name": "Hosted Agent",
     "pipeline.github.sha": "5a6f90a9473b3095841d5b5dc7b58f5f049a0f71",
     "pipeline.github.workflow": "Run automated tests, pipeline and deploy results to static reporting site",
     "pipeline.pipeline_run_id": "4a731c87-d022-48c4-abbf-330a6402e8e3",
     "pipeline.run_environment": "ci",
     "run.retry_nr": "0",
     "task.max_nr_retries": "1",
     "task.notebook": "notebooks/summary.py",
     "task.num_cpus": 1,
     "task.timeout_s": "None"
    }
   },
   "start_time": "2022-07-21T06:51:49.165245",
   "version": "2.3.3"
  }
 },
 "nbformat": 4,
 "nbformat_minor": 5
}