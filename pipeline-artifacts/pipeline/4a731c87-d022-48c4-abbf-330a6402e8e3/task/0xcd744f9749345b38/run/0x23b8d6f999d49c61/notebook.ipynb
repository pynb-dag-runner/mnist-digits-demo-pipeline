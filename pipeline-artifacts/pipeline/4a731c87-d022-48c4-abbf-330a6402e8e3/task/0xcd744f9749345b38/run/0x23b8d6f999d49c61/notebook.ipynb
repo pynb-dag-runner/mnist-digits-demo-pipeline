{
 "cells": [
  {
   "cell_type": "markdown",
   "id": "c9440f20",
   "metadata": {
    "papermill": {
     "duration": 0.005069,
     "end_time": "2022-07-21T06:51:18.405116",
     "exception": false,
     "start_time": "2022-07-21T06:51:18.400047",
     "status": "completed"
    },
    "tags": []
   },
   "source": [
    "# Train model\n",
    "\n",
    "The purpose of this notebook is:\n",
    "\n",
    "- Load all training data (images and labels).\n",
    "- Limit number of train images to `task.nr_train_images` (value provided as run parameter).\n",
    "- Train a support vector machine model using sklearn.\n",
    "- Persist the trained model using the ONNX format."
   ]
  },
  {
   "cell_type": "markdown",
   "id": "a69b7282",
   "metadata": {
    "papermill": {
     "duration": 0.003183,
     "end_time": "2022-07-21T06:51:18.412375",
     "exception": false,
     "start_time": "2022-07-21T06:51:18.409192",
     "status": "completed"
    },
    "tags": []
   },
   "source": [
    "### Determine run parameters"
   ]
  },
  {
   "cell_type": "code",
   "execution_count": 1,
   "id": "4acdb372",
   "metadata": {
    "execution": {
     "iopub.execute_input": "2022-07-21T06:51:18.420892Z",
     "iopub.status.busy": "2022-07-21T06:51:18.420564Z",
     "iopub.status.idle": "2022-07-21T06:51:18.430300Z",
     "shell.execute_reply": "2022-07-21T06:51:18.429718Z"
    },
    "lines_to_next_cell": 0,
    "papermill": {
     "duration": 0.017731,
     "end_time": "2022-07-21T06:51:18.433327",
     "exception": false,
     "start_time": "2022-07-21T06:51:18.415596",
     "status": "completed"
    },
    "tags": []
   },
   "outputs": [],
   "source": [
    "# ----------------- Parameters for interactive development --------------\n",
    "P = {\n",
    "    \"pipeline.data_lake_root\": \"/pipeline-outputs/data-lake\",\n",
    "    \"task.nr_train_images\": 600,\n",
    "}"
   ]
  },
  {
   "cell_type": "code",
   "execution_count": 2,
   "id": "784ff0f5",
   "metadata": {
    "execution": {
     "iopub.execute_input": "2022-07-21T06:51:18.441452Z",
     "iopub.status.busy": "2022-07-21T06:51:18.441151Z",
     "iopub.status.idle": "2022-07-21T06:51:18.444667Z",
     "shell.execute_reply": "2022-07-21T06:51:18.444115Z"
    },
    "lines_to_next_cell": 0,
    "papermill": {
     "duration": 0.011349,
     "end_time": "2022-07-21T06:51:18.448138",
     "exception": false,
     "start_time": "2022-07-21T06:51:18.436789",
     "status": "completed"
    },
    "tags": [
     "parameters"
    ]
   },
   "outputs": [],
   "source": [
    "# - During automated runs parameters will be injected in the below cell -"
   ]
  },
  {
   "cell_type": "code",
   "execution_count": 3,
   "id": "45f5e15e",
   "metadata": {
    "execution": {
     "iopub.execute_input": "2022-07-21T06:51:18.456126Z",
     "iopub.status.busy": "2022-07-21T06:51:18.455890Z",
     "iopub.status.idle": "2022-07-21T06:51:18.461505Z",
     "shell.execute_reply": "2022-07-21T06:51:18.460916Z"
    },
    "papermill": {
     "duration": 0.013442,
     "end_time": "2022-07-21T06:51:18.464947",
     "exception": false,
     "start_time": "2022-07-21T06:51:18.451505",
     "status": "completed"
    },
    "tags": [
     "injected-parameters"
    ]
   },
   "outputs": [],
   "source": [
    "# Parameters\n",
    "P = {\n",
    "    \"pipeline.data_lake_root\": \"/pipeline-outputs/data-lake\",\n",
    "    \"pipeline.run_environment\": \"ci\",\n",
    "    \"pipeline.pipeline_run_id\": \"4a731c87-d022-48c4-abbf-330a6402e8e3\",\n",
    "    \"pipeline.github.repository\": \"pynb-dag-runner/mnist-digits-demo-pipeline\",\n",
    "    \"pipeline.github.workflow\": \"Run automated tests, pipeline and deploy results to static reporting site\",\n",
    "    \"pipeline.github.runner_name\": \"Hosted Agent\",\n",
    "    \"pipeline.github.run_id\": \"2709861045\",\n",
    "    \"pipeline.github.actor\": \"matiasdahl\",\n",
    "    \"pipeline.github.job\": \"run-tests-pipeline-and-persist-pipeline-outputs\",\n",
    "    \"pipeline.github.base_ref\": \"\",\n",
    "    \"pipeline.github.head_ref\": \"\",\n",
    "    \"pipeline.github.sha\": \"5a6f90a9473b3095841d5b5dc7b58f5f049a0f71\",\n",
    "    \"pipeline.github.ref\": \"refs/heads/development\",\n",
    "    \"pipeline.github.ref_type\": \"branch\",\n",
    "    \"pipeline.github.ref_name\": \"development\",\n",
    "    \"pipeline.github.event_name\": \"schedule\",\n",
    "    \"task.nr_train_images\": 600,\n",
    "    \"task.notebook\": \"notebooks/train-model.py\",\n",
    "    \"task.max_nr_retries\": \"1\",\n",
    "    \"run.retry_nr\": \"0\",\n",
    "    \"task.timeout_s\": \"None\",\n",
    "    \"task.num_cpus\": 1,\n",
    "    \"_opentelemetry_traceparent\": \"00-6f24b26aec5f4e42995b162b1295bd39-184b6cbe324514ed-01\",\n",
    "}\n"
   ]
  },
  {
   "cell_type": "code",
   "execution_count": 4,
   "id": "b24fb6aa",
   "metadata": {
    "execution": {
     "iopub.execute_input": "2022-07-21T06:51:18.472920Z",
     "iopub.status.busy": "2022-07-21T06:51:18.472680Z",
     "iopub.status.idle": "2022-07-21T06:51:18.476305Z",
     "shell.execute_reply": "2022-07-21T06:51:18.475763Z"
    },
    "lines_to_next_cell": 0,
    "papermill": {
     "duration": 0.010633,
     "end_time": "2022-07-21T06:51:18.478861",
     "exception": false,
     "start_time": "2022-07-21T06:51:18.468228",
     "status": "completed"
    },
    "tags": []
   },
   "outputs": [],
   "source": [
    "# -----------------------------------------------------------------------"
   ]
  },
  {
   "cell_type": "markdown",
   "id": "c98a80e7",
   "metadata": {
    "papermill": {
     "duration": 0.004684,
     "end_time": "2022-07-21T06:51:18.486936",
     "exception": false,
     "start_time": "2022-07-21T06:51:18.482252",
     "status": "completed"
    },
    "tags": []
   },
   "source": [
    "---"
   ]
  },
  {
   "cell_type": "markdown",
   "id": "ba149686",
   "metadata": {
    "lines_to_next_cell": 2,
    "papermill": {
     "duration": 0.003322,
     "end_time": "2022-07-21T06:51:18.493705",
     "exception": false,
     "start_time": "2022-07-21T06:51:18.490383",
     "status": "completed"
    },
    "tags": []
   },
   "source": [
    "### Notebook code"
   ]
  },
  {
   "cell_type": "code",
   "execution_count": 5,
   "id": "658bc982",
   "metadata": {
    "execution": {
     "iopub.execute_input": "2022-07-21T06:51:18.502375Z",
     "iopub.status.busy": "2022-07-21T06:51:18.502099Z",
     "iopub.status.idle": "2022-07-21T06:51:19.080057Z",
     "shell.execute_reply": "2022-07-21T06:51:19.078948Z"
    },
    "papermill": {
     "duration": 0.584833,
     "end_time": "2022-07-21T06:51:19.082356",
     "exception": false,
     "start_time": "2022-07-21T06:51:18.497523",
     "status": "completed"
    },
    "tags": []
   },
   "outputs": [
    {
     "name": "stderr",
     "output_type": "stream",
     "text": [
      "2022-07-21 06:51:18,890\tINFO worker.py:842 -- Connecting to existing Ray cluster at address: 172.17.0.2:6379\n"
     ]
    }
   ],
   "source": [
    "from pynb_dag_runner.tasks.task_opentelemetry_logging import PydarLogger\n",
    "\n",
    "logger = PydarLogger(P)"
   ]
  },
  {
   "cell_type": "markdown",
   "id": "b25825cf",
   "metadata": {
    "papermill": {
     "duration": 0.003267,
     "end_time": "2022-07-21T06:51:19.088998",
     "exception": false,
     "start_time": "2022-07-21T06:51:19.085731",
     "status": "completed"
    },
    "tags": []
   },
   "source": [
    "## Load and limit train data"
   ]
  },
  {
   "cell_type": "code",
   "execution_count": 6,
   "id": "2649d46e",
   "metadata": {
    "execution": {
     "iopub.execute_input": "2022-07-21T06:51:19.097382Z",
     "iopub.status.busy": "2022-07-21T06:51:19.095855Z",
     "iopub.status.idle": "2022-07-21T06:51:19.496950Z",
     "shell.execute_reply": "2022-07-21T06:51:19.496087Z"
    },
    "papermill": {
     "duration": 0.407008,
     "end_time": "2022-07-21T06:51:19.499038",
     "exception": false,
     "start_time": "2022-07-21T06:51:19.092030",
     "status": "completed"
    },
    "tags": []
   },
   "outputs": [],
   "source": [
    "def load_and_limit_train_data(P):\n",
    "    from common.io import datalake_root, read_numpy\n",
    "    from sklearn.model_selection import train_test_split\n",
    "\n",
    "    X_train_all = read_numpy(datalake_root(P) / \"train-data\" / \"digits.numpy\")\n",
    "    y_train_all = read_numpy(datalake_root(P) / \"train-data\" / \"labels.numpy\")\n",
    "\n",
    "    assert isinstance(P[\"task.nr_train_images\"], int)\n",
    "\n",
    "    # Note: train_test_split will fail if split is 0 or 100%.\n",
    "    assert 0 < P[\"task.nr_train_images\"] < len(y_train_all)\n",
    "\n",
    "    X_train, _, y_train, _ = train_test_split(\n",
    "        X_train_all,\n",
    "        y_train_all,\n",
    "        train_size=P[\"task.nr_train_images\"],\n",
    "        test_size=None,\n",
    "        stratify=y_train_all,\n",
    "        shuffle=True,\n",
    "        random_state=123,\n",
    "    )\n",
    "\n",
    "    assert X_train.shape == (len(y_train), 8 * 8)\n",
    "    return X_train, y_train\n",
    "\n",
    "\n",
    "X_train, y_train = load_and_limit_train_data(P)"
   ]
  },
  {
   "cell_type": "markdown",
   "id": "bdc7472d",
   "metadata": {
    "papermill": {
     "duration": 0.004395,
     "end_time": "2022-07-21T06:51:19.507932",
     "exception": false,
     "start_time": "2022-07-21T06:51:19.503537",
     "status": "completed"
    },
    "tags": []
   },
   "source": [
    "## Train support vector classifier model\n",
    "\n",
    "Below we assume that the hyperparameter $C$ is known.\n",
    "\n",
    "However, this should ideally be found by a hyperparameter search. That could be\n",
    "done in parallel on the Ray cluster, but this needs some more work. Ie., to use\n",
    "multiple cores in the notebook, those cores should be reserved when starting the\n",
    "notebook task (TODO).\n",
    "\n",
    "- https://docs.ray.io/en/latest/tune/key-concepts.html\n",
    "\n",
    "Note: cv-scores would need to be computed here, since they depend on the train data.\n",
    "After this notebook only the onnx-model is available."
   ]
  },
  {
   "cell_type": "code",
   "execution_count": 7,
   "id": "7f14f7f8",
   "metadata": {
    "execution": {
     "iopub.execute_input": "2022-07-21T06:51:19.514704Z",
     "iopub.status.busy": "2022-07-21T06:51:19.514091Z",
     "iopub.status.idle": "2022-07-21T06:51:19.537328Z",
     "shell.execute_reply": "2022-07-21T06:51:19.536701Z"
    },
    "papermill": {
     "duration": 0.029913,
     "end_time": "2022-07-21T06:51:19.540408",
     "exception": false,
     "start_time": "2022-07-21T06:51:19.510495",
     "status": "completed"
    },
    "tags": []
   },
   "outputs": [],
   "source": [
    "from sklearn.svm import SVC"
   ]
  },
  {
   "cell_type": "code",
   "execution_count": 8,
   "id": "07a44ead",
   "metadata": {
    "execution": {
     "iopub.execute_input": "2022-07-21T06:51:19.548101Z",
     "iopub.status.busy": "2022-07-21T06:51:19.546977Z",
     "iopub.status.idle": "2022-07-21T06:51:19.625520Z",
     "shell.execute_reply": "2022-07-21T06:51:19.624848Z"
    },
    "papermill": {
     "duration": 0.083867,
     "end_time": "2022-07-21T06:51:19.627284",
     "exception": false,
     "start_time": "2022-07-21T06:51:19.543417",
     "status": "completed"
    },
    "tags": []
   },
   "outputs": [
    {
     "data": {
      "text/plain": [
       "SVC(C=0.001, kernel='linear', probability=True)"
      ]
     },
     "execution_count": 8,
     "metadata": {},
     "output_type": "execute_result"
    }
   ],
   "source": [
    "model = SVC(C=0.001, kernel=\"linear\", probability=True)\n",
    "\n",
    "model.fit(X_train, y_train)"
   ]
  },
  {
   "cell_type": "markdown",
   "id": "6cb4473a",
   "metadata": {
    "papermill": {
     "duration": 0.003111,
     "end_time": "2022-07-21T06:51:19.633470",
     "exception": false,
     "start_time": "2022-07-21T06:51:19.630359",
     "status": "completed"
    },
    "tags": []
   },
   "source": [
    "### Q: Can the labels returned by `predict(..)` be computed from probabilities returned by the `predict_prob`-method?"
   ]
  },
  {
   "cell_type": "code",
   "execution_count": 9,
   "id": "00e80638",
   "metadata": {
    "execution": {
     "iopub.execute_input": "2022-07-21T06:51:19.640768Z",
     "iopub.status.busy": "2022-07-21T06:51:19.640513Z",
     "iopub.status.idle": "2022-07-21T06:51:19.676841Z",
     "shell.execute_reply": "2022-07-21T06:51:19.676120Z"
    },
    "papermill": {
     "duration": 0.041792,
     "end_time": "2022-07-21T06:51:19.678480",
     "exception": false,
     "start_time": "2022-07-21T06:51:19.636688",
     "status": "completed"
    },
    "tags": []
   },
   "outputs": [
    {
     "name": "stdout",
     "output_type": "stream",
     "text": [
      " - Logging nr_max_prob_neq_label (int) : 2\n"
     ]
    }
   ],
   "source": [
    "import numpy as np\n",
    "\n",
    "y_train_labels = model.predict(X_train)\n",
    "y_train_probabilities = model.predict_proba(X_train)\n",
    "assert y_train_probabilities.shape == (len(y_train), 10)\n",
    "\n",
    "y_train_max_prob_labels = np.argmax(y_train_probabilities, axis=1)\n",
    "assert y_train_labels.shape == y_train_max_prob_labels.shape == y_train.shape\n",
    "\n",
    "# If the predicted labels would coincide with the labels that have\n",
    "# maximum probability, the below number would be zero\n",
    "logger.log_int(\n",
    "    \"nr_max_prob_neq_label\", int(sum(y_train_max_prob_labels != y_train_labels))\n",
    ")"
   ]
  },
  {
   "cell_type": "markdown",
   "id": "04d08f00",
   "metadata": {
    "papermill": {
     "duration": 0.003326,
     "end_time": "2022-07-21T06:51:19.684786",
     "exception": false,
     "start_time": "2022-07-21T06:51:19.681460",
     "status": "completed"
    },
    "tags": []
   },
   "source": [
    "The explanation is (likely) explained in the SVC source, see\n",
    "[here](https://github.com/scikit-learn/scikit-learn/blob/main/sklearn/svm/_base.py).\n",
    "Namely, the outputs from `predict(..)` and `predict_proba(..)` may not in some\n",
    "cases be compatible since the latter is computed using cross-validation while\n",
    "the former is not. Thus, the above number need not be zero."
   ]
  },
  {
   "cell_type": "markdown",
   "id": "46cbeb6c",
   "metadata": {
    "papermill": {
     "duration": 0.002924,
     "end_time": "2022-07-21T06:51:19.690634",
     "exception": false,
     "start_time": "2022-07-21T06:51:19.687710",
     "status": "completed"
    },
    "tags": []
   },
   "source": [
    "## Persist model"
   ]
  },
  {
   "cell_type": "code",
   "execution_count": 10,
   "id": "4765f519",
   "metadata": {
    "execution": {
     "iopub.execute_input": "2022-07-21T06:51:19.697889Z",
     "iopub.status.busy": "2022-07-21T06:51:19.697536Z",
     "iopub.status.idle": "2022-07-21T06:51:20.500251Z",
     "shell.execute_reply": "2022-07-21T06:51:20.499457Z"
    },
    "papermill": {
     "duration": 0.808557,
     "end_time": "2022-07-21T06:51:20.502116",
     "exception": false,
     "start_time": "2022-07-21T06:51:19.693559",
     "status": "completed"
    },
    "tags": []
   },
   "outputs": [],
   "source": [
    "from skl2onnx import convert_sklearn\n",
    "from skl2onnx.common.data_types import FloatTensorType\n",
    "\n",
    "#\n",
    "from common.io import datalake_root, write_onnx"
   ]
  },
  {
   "cell_type": "code",
   "execution_count": 11,
   "id": "1d0cb8e4",
   "metadata": {
    "execution": {
     "iopub.execute_input": "2022-07-21T06:51:20.512186Z",
     "iopub.status.busy": "2022-07-21T06:51:20.511382Z",
     "iopub.status.idle": "2022-07-21T06:51:20.566131Z",
     "shell.execute_reply": "2022-07-21T06:51:20.565024Z"
    },
    "papermill": {
     "duration": 0.063967,
     "end_time": "2022-07-21T06:51:20.570071",
     "exception": false,
     "start_time": "2022-07-21T06:51:20.506104",
     "status": "completed"
    },
    "tags": []
   },
   "outputs": [],
   "source": [
    "# convert sklearn model into onnx and persist to data lake\n",
    "\n",
    "model_onnx = convert_sklearn(\n",
    "    model, initial_types=[(\"float_input_8x8_image\", FloatTensorType([None, 8 * 8]))]\n",
    ")\n",
    "write_onnx(\n",
    "    datalake_root(P)\n",
    "    / \"models\"\n",
    "    / f\"nr_train_images={P['task.nr_train_images']}\"\n",
    "    / \"model.onnx\",\n",
    "    model_onnx,\n",
    ")"
   ]
  },
  {
   "cell_type": "code",
   "execution_count": null,
   "id": "0674b359",
   "metadata": {
    "papermill": {
     "duration": 0.004474,
     "end_time": "2022-07-21T06:51:20.577870",
     "exception": false,
     "start_time": "2022-07-21T06:51:20.573396",
     "status": "completed"
    },
    "tags": []
   },
   "outputs": [],
   "source": []
  }
 ],
 "metadata": {
  "jupytext": {
   "cell_metadata_filter": "tags,-all",
   "main_language": "python",
   "notebook_metadata_filter": "-all"
  },
  "language_info": {
   "codemirror_mode": {
    "name": "ipython",
    "version": 3
   },
   "file_extension": ".py",
   "mimetype": "text/x-python",
   "name": "python",
   "nbconvert_exporter": "python",
   "pygments_lexer": "ipython3",
   "version": "3.8.10"
  },
  "papermill": {
   "default_parameters": {},
   "duration": 4.787956,
   "end_time": "2022-07-21T06:51:21.701762",
   "environment_variables": {},
   "exception": null,
   "input_path": "/home/host_user/workspace/mnist-demo-pipeline/mnist-demo-pipeline/notebooks/temp-notebook-xzsnig9x.ipynb",
   "output_path": "notebooks/train-model.ipynb",
   "parameters": {
    "P": {
     "_opentelemetry_traceparent": "00-6f24b26aec5f4e42995b162b1295bd39-184b6cbe324514ed-01",
     "pipeline.data_lake_root": "/pipeline-outputs/data-lake",
     "pipeline.github.actor": "matiasdahl",
     "pipeline.github.base_ref": "",
     "pipeline.github.event_name": "schedule",
     "pipeline.github.head_ref": "",
     "pipeline.github.job": "run-tests-pipeline-and-persist-pipeline-outputs",
     "pipeline.github.ref": "refs/heads/development",
     "pipeline.github.ref_name": "development",
     "pipeline.github.ref_type": "branch",
     "pipeline.github.repository": "pynb-dag-runner/mnist-digits-demo-pipeline",
     "pipeline.github.run_id": "2709861045",
     "pipeline.github.runner_name": "Hosted Agent",
     "pipeline.github.sha": "5a6f90a9473b3095841d5b5dc7b58f5f049a0f71",
     "pipeline.github.workflow": "Run automated tests, pipeline and deploy results to static reporting site",
     "pipeline.pipeline_run_id": "4a731c87-d022-48c4-abbf-330a6402e8e3",
     "pipeline.run_environment": "ci",
     "run.retry_nr": "0",
     "task.max_nr_retries": "1",
     "task.notebook": "notebooks/train-model.py",
     "task.nr_train_images": 600,
     "task.num_cpus": 1,
     "task.timeout_s": "None"
    }
   },
   "start_time": "2022-07-21T06:51:16.913806",
   "version": "2.3.3"
  }
 },
 "nbformat": 4,
 "nbformat_minor": 5
}