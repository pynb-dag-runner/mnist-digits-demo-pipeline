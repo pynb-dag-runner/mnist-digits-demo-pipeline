{
 "cells": [
  {
   "cell_type": "markdown",
   "id": "fccb891c",
   "metadata": {
    "papermill": {
     "duration": 0.005099,
     "end_time": "2022-07-21T06:51:30.283567",
     "exception": false,
     "start_time": "2022-07-21T06:51:30.278468",
     "status": "completed"
    },
    "tags": []
   },
   "source": [
    "# Benchmark model\n",
    "\n",
    "The purpose of this notebook is to benchmark persisted onnx-model (trained in the\n",
    "previous step) against evaluation set."
   ]
  },
  {
   "cell_type": "markdown",
   "id": "976c0bbd",
   "metadata": {
    "papermill": {
     "duration": 0.003771,
     "end_time": "2022-07-21T06:51:30.292548",
     "exception": false,
     "start_time": "2022-07-21T06:51:30.288777",
     "status": "completed"
    },
    "tags": []
   },
   "source": [
    "### Determine run parameters"
   ]
  },
  {
   "cell_type": "code",
   "execution_count": 1,
   "id": "9b1db6f7",
   "metadata": {
    "execution": {
     "iopub.execute_input": "2022-07-21T06:51:30.302476Z",
     "iopub.status.busy": "2022-07-21T06:51:30.302152Z",
     "iopub.status.idle": "2022-07-21T06:51:30.311210Z",
     "shell.execute_reply": "2022-07-21T06:51:30.310642Z"
    },
    "lines_to_next_cell": 0,
    "papermill": {
     "duration": 0.017035,
     "end_time": "2022-07-21T06:51:30.313647",
     "exception": false,
     "start_time": "2022-07-21T06:51:30.296612",
     "status": "completed"
    },
    "tags": []
   },
   "outputs": [],
   "source": [
    "# ----------------- Parameters for interactive development --------------\n",
    "P = {\n",
    "    \"pipeline.data_lake_root\": \"/pipeline-outputs/data-lake\",\n",
    "    \"task.nr_train_images\": 600,\n",
    "}"
   ]
  },
  {
   "cell_type": "code",
   "execution_count": 2,
   "id": "f8e4b443",
   "metadata": {
    "execution": {
     "iopub.execute_input": "2022-07-21T06:51:30.330129Z",
     "iopub.status.busy": "2022-07-21T06:51:30.329887Z",
     "iopub.status.idle": "2022-07-21T06:51:30.333074Z",
     "shell.execute_reply": "2022-07-21T06:51:30.332447Z"
    },
    "lines_to_next_cell": 0,
    "papermill": {
     "duration": 0.017952,
     "end_time": "2022-07-21T06:51:30.336158",
     "exception": false,
     "start_time": "2022-07-21T06:51:30.318206",
     "status": "completed"
    },
    "tags": [
     "parameters"
    ]
   },
   "outputs": [],
   "source": [
    "# - During automated runs parameters will be injected in the below cell -"
   ]
  },
  {
   "cell_type": "code",
   "execution_count": 3,
   "id": "0be92faa",
   "metadata": {
    "execution": {
     "iopub.execute_input": "2022-07-21T06:51:30.345654Z",
     "iopub.status.busy": "2022-07-21T06:51:30.345445Z",
     "iopub.status.idle": "2022-07-21T06:51:30.350157Z",
     "shell.execute_reply": "2022-07-21T06:51:30.349660Z"
    },
    "papermill": {
     "duration": 0.011969,
     "end_time": "2022-07-21T06:51:30.352596",
     "exception": false,
     "start_time": "2022-07-21T06:51:30.340627",
     "status": "completed"
    },
    "tags": [
     "injected-parameters"
    ]
   },
   "outputs": [],
   "source": [
    "# Parameters\n",
    "P = {\n",
    "    \"pipeline.data_lake_root\": \"/pipeline-outputs/data-lake\",\n",
    "    \"pipeline.run_environment\": \"ci\",\n",
    "    \"pipeline.pipeline_run_id\": \"4a731c87-d022-48c4-abbf-330a6402e8e3\",\n",
    "    \"pipeline.github.repository\": \"pynb-dag-runner/mnist-digits-demo-pipeline\",\n",
    "    \"pipeline.github.workflow\": \"Run automated tests, pipeline and deploy results to static reporting site\",\n",
    "    \"pipeline.github.runner_name\": \"Hosted Agent\",\n",
    "    \"pipeline.github.run_id\": \"2709861045\",\n",
    "    \"pipeline.github.actor\": \"matiasdahl\",\n",
    "    \"pipeline.github.job\": \"run-tests-pipeline-and-persist-pipeline-outputs\",\n",
    "    \"pipeline.github.base_ref\": \"\",\n",
    "    \"pipeline.github.head_ref\": \"\",\n",
    "    \"pipeline.github.sha\": \"5a6f90a9473b3095841d5b5dc7b58f5f049a0f71\",\n",
    "    \"pipeline.github.ref\": \"refs/heads/development\",\n",
    "    \"pipeline.github.ref_type\": \"branch\",\n",
    "    \"pipeline.github.ref_name\": \"development\",\n",
    "    \"pipeline.github.event_name\": \"schedule\",\n",
    "    \"task.nr_train_images\": 600,\n",
    "    \"task.notebook\": \"notebooks/benchmark-model.py\",\n",
    "    \"task.max_nr_retries\": \"1\",\n",
    "    \"run.retry_nr\": \"0\",\n",
    "    \"task.timeout_s\": \"None\",\n",
    "    \"task.num_cpus\": 1,\n",
    "    \"_opentelemetry_traceparent\": \"00-6f24b26aec5f4e42995b162b1295bd39-7a75c085766597d7-01\",\n",
    "}\n"
   ]
  },
  {
   "cell_type": "code",
   "execution_count": 4,
   "id": "e0343907",
   "metadata": {
    "execution": {
     "iopub.execute_input": "2022-07-21T06:51:30.364356Z",
     "iopub.status.busy": "2022-07-21T06:51:30.363906Z",
     "iopub.status.idle": "2022-07-21T06:51:30.366910Z",
     "shell.execute_reply": "2022-07-21T06:51:30.366279Z"
    },
    "lines_to_next_cell": 0,
    "papermill": {
     "duration": 0.009201,
     "end_time": "2022-07-21T06:51:30.368823",
     "exception": false,
     "start_time": "2022-07-21T06:51:30.359622",
     "status": "completed"
    },
    "tags": []
   },
   "outputs": [],
   "source": [
    "# -----------------------------------------------------------------------"
   ]
  },
  {
   "cell_type": "markdown",
   "id": "259b1be1",
   "metadata": {
    "papermill": {
     "duration": 0.005003,
     "end_time": "2022-07-21T06:51:30.377250",
     "exception": false,
     "start_time": "2022-07-21T06:51:30.372247",
     "status": "completed"
    },
    "tags": []
   },
   "source": [
    "---"
   ]
  },
  {
   "cell_type": "markdown",
   "id": "2a6bcf39",
   "metadata": {
    "lines_to_next_cell": 2,
    "papermill": {
     "duration": 0.007152,
     "end_time": "2022-07-21T06:51:30.388599",
     "exception": false,
     "start_time": "2022-07-21T06:51:30.381447",
     "status": "completed"
    },
    "tags": []
   },
   "source": [
    "### Notebook code"
   ]
  },
  {
   "cell_type": "code",
   "execution_count": 5,
   "id": "4ab4f350",
   "metadata": {
    "execution": {
     "iopub.execute_input": "2022-07-21T06:51:30.397986Z",
     "iopub.status.busy": "2022-07-21T06:51:30.397761Z",
     "iopub.status.idle": "2022-07-21T06:51:31.447244Z",
     "shell.execute_reply": "2022-07-21T06:51:31.446381Z"
    },
    "papermill": {
     "duration": 1.055972,
     "end_time": "2022-07-21T06:51:31.448915",
     "exception": false,
     "start_time": "2022-07-21T06:51:30.392943",
     "status": "completed"
    },
    "tags": []
   },
   "outputs": [
    {
     "name": "stderr",
     "output_type": "stream",
     "text": [
      "2022-07-21 06:51:31,254\tINFO worker.py:842 -- Connecting to existing Ray cluster at address: 172.17.0.2:6379\n"
     ]
    }
   ],
   "source": [
    "import itertools as it\n",
    "\n",
    "#\n",
    "import numpy as np\n",
    "import matplotlib.pyplot as plt\n",
    "\n",
    "#\n",
    "from pynb_dag_runner.tasks.task_opentelemetry_logging import PydarLogger\n",
    "\n",
    "#\n",
    "from common.io import datalake_root\n",
    "\n",
    "logger = PydarLogger(P)"
   ]
  },
  {
   "cell_type": "markdown",
   "id": "536b8c07",
   "metadata": {
    "papermill": {
     "duration": 0.005755,
     "end_time": "2022-07-21T06:51:31.459580",
     "exception": false,
     "start_time": "2022-07-21T06:51:31.453825",
     "status": "completed"
    },
    "tags": []
   },
   "source": [
    "## Load persisted onnx-model and evaluation data"
   ]
  },
  {
   "cell_type": "code",
   "execution_count": 6,
   "id": "3965138b",
   "metadata": {
    "execution": {
     "iopub.execute_input": "2022-07-21T06:51:31.469059Z",
     "iopub.status.busy": "2022-07-21T06:51:31.468667Z",
     "iopub.status.idle": "2022-07-21T06:51:31.472609Z",
     "shell.execute_reply": "2022-07-21T06:51:31.471566Z"
    },
    "papermill": {
     "duration": 0.010893,
     "end_time": "2022-07-21T06:51:31.474696",
     "exception": false,
     "start_time": "2022-07-21T06:51:31.463803",
     "status": "completed"
    },
    "tags": []
   },
   "outputs": [],
   "source": [
    "from common.io import read_onnx, get_onnx_inputs, get_onnx_outputs, read_numpy"
   ]
  },
  {
   "cell_type": "code",
   "execution_count": 7,
   "id": "c5ff4522",
   "metadata": {
    "execution": {
     "iopub.execute_input": "2022-07-21T06:51:31.483585Z",
     "iopub.status.busy": "2022-07-21T06:51:31.483226Z",
     "iopub.status.idle": "2022-07-21T06:51:31.491917Z",
     "shell.execute_reply": "2022-07-21T06:51:31.491347Z"
    },
    "lines_to_next_cell": 0,
    "papermill": {
     "duration": 0.015607,
     "end_time": "2022-07-21T06:51:31.494121",
     "exception": false,
     "start_time": "2022-07-21T06:51:31.478514",
     "status": "completed"
    },
    "tags": []
   },
   "outputs": [],
   "source": [
    "onnx_inference_session = read_onnx(\n",
    "    datalake_root(P)\n",
    "    / \"models\"\n",
    "    / f\"nr_train_images={P['task.nr_train_images']}\"\n",
    "    / \"model.onnx\"\n",
    ")"
   ]
  },
  {
   "cell_type": "markdown",
   "id": "66677ce7",
   "metadata": {
    "papermill": {
     "duration": 0.004453,
     "end_time": "2022-07-21T06:51:31.502845",
     "exception": false,
     "start_time": "2022-07-21T06:51:31.498392",
     "status": "completed"
    },
    "tags": []
   },
   "source": [
    "### Record structure of inputs and outputs for ONNX model\n",
    "\n",
    "(this should likely be done in training notebook)"
   ]
  },
  {
   "cell_type": "code",
   "execution_count": 8,
   "id": "29878c1a",
   "metadata": {
    "execution": {
     "iopub.execute_input": "2022-07-21T06:51:31.511641Z",
     "iopub.status.busy": "2022-07-21T06:51:31.511451Z",
     "iopub.status.idle": "2022-07-21T06:51:31.516790Z",
     "shell.execute_reply": "2022-07-21T06:51:31.516320Z"
    },
    "papermill": {
     "duration": 0.013691,
     "end_time": "2022-07-21T06:51:31.520331",
     "exception": false,
     "start_time": "2022-07-21T06:51:31.506640",
     "status": "completed"
    },
    "tags": []
   },
   "outputs": [
    {
     "name": "stdout",
     "output_type": "stream",
     "text": [
      "{\n",
      "  \"inputs\": [\n",
      "    {\n",
      "      \"name\": \"float_input_8x8_image\",\n",
      "      \"shape\": [\n",
      "        null,\n",
      "        64\n",
      "      ],\n",
      "      \"type\": \"tensor(float)\"\n",
      "    }\n",
      "  ],\n",
      "  \"outputs\": [\n",
      "    {\n",
      "      \"name\": \"output_label\",\n",
      "      \"shape\": [\n",
      "        null\n",
      "      ],\n",
      "      \"type\": \"tensor(int64)\"\n",
      "    },\n",
      "    {\n",
      "      \"name\": \"output_probability\",\n",
      "      \"shape\": [],\n",
      "      \"type\": \"seq(map(int64,tensor(float)))\"\n",
      "    }\n",
      "  ]\n",
      "}\n"
     ]
    }
   ],
   "source": [
    "import json\n",
    "\n",
    "onnx_io = json.dumps(\n",
    "    {\n",
    "        \"inputs\": get_onnx_inputs(onnx_inference_session),\n",
    "        \"outputs\": get_onnx_outputs(onnx_inference_session),\n",
    "    },\n",
    "    indent=2,\n",
    ")\n",
    "\n",
    "\n",
    "logger.log_artefact(\"onnx_io_structure.json\", onnx_io)\n",
    "print(onnx_io)"
   ]
  },
  {
   "cell_type": "markdown",
   "id": "11e83419",
   "metadata": {
    "papermill": {
     "duration": 0.003987,
     "end_time": "2022-07-21T06:51:31.528854",
     "exception": false,
     "start_time": "2022-07-21T06:51:31.524867",
     "status": "completed"
    },
    "tags": []
   },
   "source": [
    "### Evaluate model performance on evaluation data set"
   ]
  },
  {
   "cell_type": "code",
   "execution_count": 9,
   "id": "e9bca6c4",
   "metadata": {
    "execution": {
     "iopub.execute_input": "2022-07-21T06:51:31.537698Z",
     "iopub.status.busy": "2022-07-21T06:51:31.537507Z",
     "iopub.status.idle": "2022-07-21T06:51:31.541790Z",
     "shell.execute_reply": "2022-07-21T06:51:31.541154Z"
    },
    "papermill": {
     "duration": 0.01074,
     "end_time": "2022-07-21T06:51:31.543349",
     "exception": false,
     "start_time": "2022-07-21T06:51:31.532609",
     "status": "completed"
    },
    "tags": []
   },
   "outputs": [],
   "source": [
    "# load evaluation data\n",
    "X_test = read_numpy(datalake_root(P) / \"test-data\" / \"digits.numpy\")\n",
    "y_test = read_numpy(datalake_root(P) / \"test-data\" / \"labels.numpy\")"
   ]
  },
  {
   "cell_type": "code",
   "execution_count": 10,
   "id": "745a1de9",
   "metadata": {
    "execution": {
     "iopub.execute_input": "2022-07-21T06:51:31.552123Z",
     "iopub.status.busy": "2022-07-21T06:51:31.551930Z",
     "iopub.status.idle": "2022-07-21T06:51:31.568641Z",
     "shell.execute_reply": "2022-07-21T06:51:31.567989Z"
    },
    "papermill": {
     "duration": 0.022801,
     "end_time": "2022-07-21T06:51:31.570434",
     "exception": false,
     "start_time": "2022-07-21T06:51:31.547633",
     "status": "completed"
    },
    "tags": []
   },
   "outputs": [],
   "source": [
    "def get_model_outputs(X, onnx_inference_session):\n",
    "    y_pred_labels, y_pred_map = onnx_inference_session.run(\n",
    "        [\"output_label\", \"output_probability\"],\n",
    "        {\"float_input_8x8_image\": X.astype(np.float32)},\n",
    "    )\n",
    "    y_pred_probs = np.array(\n",
    "        [[probabilities[digit] for digit in range(10)] for probabilities in y_pred_map]\n",
    "    )\n",
    "\n",
    "    assert y_pred_labels.shape == (X.shape[0],)\n",
    "    assert y_pred_probs.shape == (X.shape[0], 10)\n",
    "\n",
    "    return y_pred_labels, y_pred_probs\n",
    "\n",
    "\n",
    "# Note: as shown in the training notebook, the predicted labels and probabilities\n",
    "# computed below need not be compatible.\n",
    "y_pred_labels_test, y_pred_probs_test = get_model_outputs(\n",
    "    X_test, onnx_inference_session\n",
    ")"
   ]
  },
  {
   "cell_type": "markdown",
   "id": "62dfd076",
   "metadata": {
    "papermill": {
     "duration": 0.004208,
     "end_time": "2022-07-21T06:51:31.578234",
     "exception": false,
     "start_time": "2022-07-21T06:51:31.574026",
     "status": "completed"
    },
    "tags": []
   },
   "source": [
    "### Confusion matrix"
   ]
  },
  {
   "cell_type": "code",
   "execution_count": 11,
   "id": "a4449205",
   "metadata": {
    "execution": {
     "iopub.execute_input": "2022-07-21T06:51:31.587688Z",
     "iopub.status.busy": "2022-07-21T06:51:31.587341Z",
     "iopub.status.idle": "2022-07-21T06:51:31.590402Z",
     "shell.execute_reply": "2022-07-21T06:51:31.589727Z"
    },
    "papermill": {
     "duration": 0.009977,
     "end_time": "2022-07-21T06:51:31.592257",
     "exception": false,
     "start_time": "2022-07-21T06:51:31.582280",
     "status": "completed"
    },
    "tags": []
   },
   "outputs": [],
   "source": [
    "# TODO"
   ]
  },
  {
   "cell_type": "markdown",
   "id": "c0c4d64e",
   "metadata": {
    "papermill": {
     "duration": 0.00391,
     "end_time": "2022-07-21T06:51:31.600525",
     "exception": false,
     "start_time": "2022-07-21T06:51:31.596615",
     "status": "completed"
    },
    "tags": []
   },
   "source": [
    "### Plot predicted probabilities for each classifier over all evaluation digit images"
   ]
  },
  {
   "cell_type": "code",
   "execution_count": 12,
   "id": "86a06680",
   "metadata": {
    "execution": {
     "iopub.execute_input": "2022-07-21T06:51:31.610201Z",
     "iopub.status.busy": "2022-07-21T06:51:31.609816Z",
     "iopub.status.idle": "2022-07-21T06:51:34.612364Z",
     "shell.execute_reply": "2022-07-21T06:51:34.611369Z"
    },
    "papermill": {
     "duration": 3.00972,
     "end_time": "2022-07-21T06:51:34.614889",
     "exception": false,
     "start_time": "2022-07-21T06:51:31.605169",
     "status": "completed"
    },
    "tags": []
   },
   "outputs": [
    {
     "data": {
      "image/png": "[encoded data removed]",
      "text/plain": [
       "<Figure size 1152x432 with 10 Axes>"
      ]
     },
     "metadata": {
      "needs_background": "light"
     },
     "output_type": "display_data"
    }
   ],
   "source": [
    "def plot_per_digit_probabilities(y_pred_probs):\n",
    "    fig, axs = plt.subplots(nrows=2, ncols=5, figsize=(16, 6))\n",
    "\n",
    "    for (r, c), digit, ax in zip(\n",
    "        it.product(range(2), range(5)), range(10), axs.reshape(-1)\n",
    "    ):\n",
    "        ax.hist(y_pred_probs_test[:, digit], bins=20)\n",
    "\n",
    "        ax.set_title(f\"Digit {digit}\")\n",
    "        if r == 1 and c == 2:\n",
    "            ax.set_xlabel(\"probability\", fontsize=16)\n",
    "\n",
    "        if c == 0:\n",
    "            ax.set_ylabel(\"counts\", fontsize=16)\n",
    "        ax.set_yscale(\"log\")\n",
    "\n",
    "    fig.tight_layout()\n",
    "    fig.suptitle(\n",
    "        f\"Distributions of prediction probabilities for each digit \"\n",
    "        f\"(on evaluation data, n={y_pred_probs.shape[0]})\",\n",
    "        fontsize=20,\n",
    "    )\n",
    "    fig.tight_layout()\n",
    "    fig.show()\n",
    "\n",
    "    return fig\n",
    "\n",
    "\n",
    "fig = plot_per_digit_probabilities(y_pred_probs_test)"
   ]
  },
  {
   "cell_type": "markdown",
   "id": "32380c27",
   "metadata": {
    "papermill": {
     "duration": 0.005038,
     "end_time": "2022-07-21T06:51:34.624445",
     "exception": false,
     "start_time": "2022-07-21T06:51:34.619407",
     "status": "completed"
    },
    "tags": []
   },
   "source": [
    "From the above distributions we see that most digits have clear separation between\n",
    "high and lower probabilities. Morover, in each case there is roughly an order of\n",
    "magnitude more of digits with low probabilities. This is compatible with digits\n",
    "being roughly evenly distributed in the data."
   ]
  },
  {
   "cell_type": "code",
   "execution_count": 13,
   "id": "baad470d",
   "metadata": {
    "execution": {
     "iopub.execute_input": "2022-07-21T06:51:34.634695Z",
     "iopub.status.busy": "2022-07-21T06:51:34.634087Z",
     "iopub.status.idle": "2022-07-21T06:51:35.075115Z",
     "shell.execute_reply": "2022-07-21T06:51:35.074503Z"
    },
    "papermill": {
     "duration": 0.448039,
     "end_time": "2022-07-21T06:51:35.076666",
     "exception": false,
     "start_time": "2022-07-21T06:51:34.628627",
     "status": "completed"
    },
    "tags": []
   },
   "outputs": [],
   "source": [
    "logger.log_figure(\"per-digit-probabilities.png\", fig)"
   ]
  },
  {
   "cell_type": "markdown",
   "id": "811e5160",
   "metadata": {
    "papermill": {
     "duration": 0.004311,
     "end_time": "2022-07-21T06:51:35.085872",
     "exception": false,
     "start_time": "2022-07-21T06:51:35.081561",
     "status": "completed"
    },
    "tags": []
   },
   "source": [
    "### Plot ROC curves for individual one-vs-rest classifiers"
   ]
  },
  {
   "cell_type": "code",
   "execution_count": 14,
   "id": "31a77d50",
   "metadata": {
    "execution": {
     "iopub.execute_input": "2022-07-21T06:51:35.095876Z",
     "iopub.status.busy": "2022-07-21T06:51:35.095554Z",
     "iopub.status.idle": "2022-07-21T06:51:35.472885Z",
     "shell.execute_reply": "2022-07-21T06:51:35.472116Z"
    },
    "papermill": {
     "duration": 0.384588,
     "end_time": "2022-07-21T06:51:35.474765",
     "exception": false,
     "start_time": "2022-07-21T06:51:35.090177",
     "status": "completed"
    },
    "tags": []
   },
   "outputs": [],
   "source": [
    "from sklearn import metrics"
   ]
  },
  {
   "cell_type": "code",
   "execution_count": 15,
   "id": "7da25342",
   "metadata": {
    "execution": {
     "iopub.execute_input": "2022-07-21T06:51:35.486552Z",
     "iopub.status.busy": "2022-07-21T06:51:35.485698Z",
     "iopub.status.idle": "2022-07-21T06:51:36.478312Z",
     "shell.execute_reply": "2022-07-21T06:51:36.477793Z"
    },
    "papermill": {
     "duration": 1.000242,
     "end_time": "2022-07-21T06:51:36.480131",
     "exception": false,
     "start_time": "2022-07-21T06:51:35.479889",
     "status": "completed"
    },
    "tags": []
   },
   "outputs": [
    {
     "data": {
      "image/png": "[encoded data removed]",
      "text/plain": [
       "<Figure size 1152x576 with 10 Axes>"
      ]
     },
     "metadata": {
      "needs_background": "light"
     },
     "output_type": "display_data"
    }
   ],
   "source": [
    "def plot_roc_curves(y, y_pred_probs):\n",
    "    # based on example code\n",
    "    # https://scikit-learn.org/stable/auto_examples/model_selection/plot_roc.html\n",
    "\n",
    "    fig, axs = plt.subplots(nrows=2, ncols=5, figsize=(16, 8))\n",
    "\n",
    "    roc_auc_dict = {}\n",
    "\n",
    "    for (r, c), digit, ax in zip(\n",
    "        it.product(range(2), range(5)), range(10), axs.reshape(-1)\n",
    "    ):\n",
    "        fpr, tpr, _ = metrics.roc_curve(y == digit, y_pred_probs[:, digit])\n",
    "        auc = metrics.auc(fpr, tpr)\n",
    "        roc_auc_dict[str(digit)] = auc\n",
    "\n",
    "        ax.plot(fpr, tpr, label=f\"ROC AUC={round(auc, 3)}\")\n",
    "\n",
    "        ax.set_title(f\"\\nDigit {digit}\", fontsize=16)\n",
    "        if r == 1:\n",
    "            ax.set_xlabel(\"FPR\", fontsize=18)\n",
    "\n",
    "        if c == 0:\n",
    "            ax.set_ylabel(\"TPR\", fontsize=18)\n",
    "\n",
    "        ax.set_xlim([-0.05, 1.05])\n",
    "        ax.set_ylim([-0.05, 1.05])\n",
    "        ax.legend(loc=\"lower right\", frameon=False, fontsize=14)\n",
    "\n",
    "    fig.tight_layout()\n",
    "    fig.suptitle(\n",
    "        f\"ROC plots for one-vs-rest performances \"\n",
    "        f\"(on evaluation data, n={y_pred_probs_test.shape[1]}\",\n",
    "        fontsize=22,\n",
    "    )\n",
    "    fig.tight_layout()\n",
    "    fig.show()\n",
    "\n",
    "    return roc_auc_dict, fig\n",
    "\n",
    "\n",
    "roc_auc_dict, fig = plot_roc_curves(y_test, y_pred_probs_test)"
   ]
  },
  {
   "cell_type": "code",
   "execution_count": 16,
   "id": "1f8b0541",
   "metadata": {
    "execution": {
     "iopub.execute_input": "2022-07-21T06:51:36.493940Z",
     "iopub.status.busy": "2022-07-21T06:51:36.493716Z",
     "iopub.status.idle": "2022-07-21T06:51:36.711351Z",
     "shell.execute_reply": "2022-07-21T06:51:36.710676Z"
    },
    "papermill": {
     "duration": 0.225424,
     "end_time": "2022-07-21T06:51:36.713178",
     "exception": false,
     "start_time": "2022-07-21T06:51:36.487754",
     "status": "completed"
    },
    "tags": []
   },
   "outputs": [],
   "source": [
    "logger.log_figure(\"per-digit-roc-curves.png\", fig)"
   ]
  },
  {
   "cell_type": "code",
   "execution_count": 17,
   "id": "f9d097ce",
   "metadata": {
    "execution": {
     "iopub.execute_input": "2022-07-21T06:51:36.725368Z",
     "iopub.status.busy": "2022-07-21T06:51:36.725130Z",
     "iopub.status.idle": "2022-07-21T06:51:36.729859Z",
     "shell.execute_reply": "2022-07-21T06:51:36.729001Z"
    },
    "papermill": {
     "duration": 0.014581,
     "end_time": "2022-07-21T06:51:36.733391",
     "exception": false,
     "start_time": "2022-07-21T06:51:36.718810",
     "status": "completed"
    },
    "tags": []
   },
   "outputs": [
    {
     "data": {
      "text/plain": [
       "{'0': 1.0,\n",
       " '1': 0.9992502343017807,\n",
       " '2': 1.0,\n",
       " '3': 0.9997750702905343,\n",
       " '4': 0.9990092973632069,\n",
       " '5': 0.998875351452671,\n",
       " '6': 0.999923792104862,\n",
       " '7': 0.9998475842097241,\n",
       " '8': 0.9947982345523328,\n",
       " '9': 0.998856881572931}"
      ]
     },
     "execution_count": 17,
     "metadata": {},
     "output_type": "execute_result"
    }
   ],
   "source": [
    "roc_auc_dict"
   ]
  },
  {
   "cell_type": "code",
   "execution_count": 18,
   "id": "437057ff",
   "metadata": {
    "execution": {
     "iopub.execute_input": "2022-07-21T06:51:36.745141Z",
     "iopub.status.busy": "2022-07-21T06:51:36.744942Z",
     "iopub.status.idle": "2022-07-21T06:51:36.748619Z",
     "shell.execute_reply": "2022-07-21T06:51:36.747777Z"
    },
    "papermill": {
     "duration": 0.013369,
     "end_time": "2022-07-21T06:51:36.751791",
     "exception": false,
     "start_time": "2022-07-21T06:51:36.738422",
     "status": "completed"
    },
    "tags": []
   },
   "outputs": [
    {
     "name": "stdout",
     "output_type": "stream",
     "text": [
      " - Logging roc_auc_per_digit (json) : {'0': 1.0, '1': 0.9992502343017807, '2': 1.0, '3': 0.9997750702905343, '4': 0.9990092973632069, '5': 0.998875351452671, '6': 0.999923792104862, '7': 0.9998475842097241, '8': 0.9947982345523328, '9': 0.998856881572931}\n"
     ]
    }
   ],
   "source": [
    "logger.log_value(\"roc_auc_per_digit\", roc_auc_dict)"
   ]
  },
  {
   "cell_type": "markdown",
   "id": "4efe7b28",
   "metadata": {
    "papermill": {
     "duration": 0.005493,
     "end_time": "2022-07-21T06:51:36.762142",
     "exception": false,
     "start_time": "2022-07-21T06:51:36.756649",
     "status": "completed"
    },
    "tags": []
   },
   "source": [
    "### Compute and log mean ROC AUC score averaged over all digits"
   ]
  },
  {
   "cell_type": "code",
   "execution_count": 19,
   "id": "bd929959",
   "metadata": {
    "execution": {
     "iopub.execute_input": "2022-07-21T06:51:36.773527Z",
     "iopub.status.busy": "2022-07-21T06:51:36.773330Z",
     "iopub.status.idle": "2022-07-21T06:51:36.786328Z",
     "shell.execute_reply": "2022-07-21T06:51:36.785866Z"
    },
    "papermill": {
     "duration": 0.025417,
     "end_time": "2022-07-21T06:51:36.792575",
     "exception": false,
     "start_time": "2022-07-21T06:51:36.767158",
     "status": "completed"
    },
    "tags": []
   },
   "outputs": [
    {
     "name": "stdout",
     "output_type": "stream",
     "text": [
      " - Logging roc_auc_class_mean (float) : 0.9990336445848043\n"
     ]
    }
   ],
   "source": [
    "roc_auc_macro = np.mean(list(roc_auc_dict.values()))\n",
    "\n",
    "logger.log_float(\"roc_auc_class_mean\", roc_auc_macro)\n",
    "\n",
    "# assert that the same value can be computed directly using sklearn\n",
    "assert roc_auc_macro == metrics.roc_auc_score(\n",
    "    y_test, y_pred_probs_test, average=\"macro\", multi_class=\"ovr\"\n",
    ")"
   ]
  },
  {
   "cell_type": "code",
   "execution_count": 20,
   "id": "b8609e31",
   "metadata": {
    "execution": {
     "iopub.execute_input": "2022-07-21T06:51:36.804180Z",
     "iopub.status.busy": "2022-07-21T06:51:36.803970Z",
     "iopub.status.idle": "2022-07-21T06:51:36.806518Z",
     "shell.execute_reply": "2022-07-21T06:51:36.805982Z"
    },
    "lines_to_next_cell": 0,
    "papermill": {
     "duration": 0.011006,
     "end_time": "2022-07-21T06:51:36.808541",
     "exception": false,
     "start_time": "2022-07-21T06:51:36.797535",
     "status": "completed"
    },
    "tags": []
   },
   "outputs": [],
   "source": [
    "# ---"
   ]
  },
  {
   "cell_type": "code",
   "execution_count": null,
   "id": "c350b380",
   "metadata": {
    "papermill": {
     "duration": 0.00488,
     "end_time": "2022-07-21T06:51:36.819027",
     "exception": false,
     "start_time": "2022-07-21T06:51:36.814147",
     "status": "completed"
    },
    "tags": []
   },
   "outputs": [],
   "source": []
  }
 ],
 "metadata": {
  "jupytext": {
   "cell_metadata_filter": "tags,-all",
   "main_language": "python",
   "notebook_metadata_filter": "-all"
  },
  "language_info": {
   "codemirror_mode": {
    "name": "ipython",
    "version": 3
   },
   "file_extension": ".py",
   "mimetype": "text/x-python",
   "name": "python",
   "nbconvert_exporter": "python",
   "pygments_lexer": "ipython3",
   "version": "3.8.10"
  },
  "papermill": {
   "default_parameters": {},
   "duration": 9.052032,
   "end_time": "2022-07-21T06:51:37.948933",
   "environment_variables": {},
   "exception": null,
   "input_path": "/home/host_user/workspace/mnist-demo-pipeline/mnist-demo-pipeline/notebooks/temp-notebook-2m5lavub.ipynb",
   "output_path": "notebooks/benchmark-model.ipynb",
   "parameters": {
    "P": {
     "_opentelemetry_traceparent": "00-6f24b26aec5f4e42995b162b1295bd39-7a75c085766597d7-01",
     "pipeline.data_lake_root": "/pipeline-outputs/data-lake",
     "pipeline.github.actor": "matiasdahl",
     "pipeline.github.base_ref": "",
     "pipeline.github.event_name": "schedule",
     "pipeline.github.head_ref": "",
     "pipeline.github.job": "run-tests-pipeline-and-persist-pipeline-outputs",
     "pipeline.github.ref": "refs/heads/development",
     "pipeline.github.ref_name": "development",
     "pipeline.github.ref_type": "branch",
     "pipeline.github.repository": "pynb-dag-runner/mnist-digits-demo-pipeline",
     "pipeline.github.run_id": "2709861045",
     "pipeline.github.runner_name": "Hosted Agent",
     "pipeline.github.sha": "5a6f90a9473b3095841d5b5dc7b58f5f049a0f71",
     "pipeline.github.workflow": "Run automated tests, pipeline and deploy results to static reporting site",
     "pipeline.pipeline_run_id": "4a731c87-d022-48c4-abbf-330a6402e8e3",
     "pipeline.run_environment": "ci",
     "run.retry_nr": "0",
     "task.max_nr_retries": "1",
     "task.notebook": "notebooks/benchmark-model.py",
     "task.nr_train_images": 600,
     "task.num_cpus": 1,
     "task.timeout_s": "None"
    }
   },
   "start_time": "2022-07-21T06:51:28.896901",
   "version": "2.3.3"
  }
 },
 "nbformat": 4,
 "nbformat_minor": 5
}