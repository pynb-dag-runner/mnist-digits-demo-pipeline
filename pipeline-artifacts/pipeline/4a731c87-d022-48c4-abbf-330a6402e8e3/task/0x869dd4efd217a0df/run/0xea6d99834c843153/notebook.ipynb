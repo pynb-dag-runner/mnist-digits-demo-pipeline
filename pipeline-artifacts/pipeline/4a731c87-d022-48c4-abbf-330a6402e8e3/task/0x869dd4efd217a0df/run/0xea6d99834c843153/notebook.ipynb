{
 "cells": [
  {
   "cell_type": "markdown",
   "id": "7e8df645",
   "metadata": {
    "papermill": {
     "duration": 0.006242,
     "end_time": "2022-07-21T06:51:40.627301",
     "exception": false,
     "start_time": "2022-07-21T06:51:40.621059",
     "status": "completed"
    },
    "tags": []
   },
   "source": [
    "# Benchmark model\n",
    "\n",
    "The purpose of this notebook is to benchmark persisted onnx-model (trained in the\n",
    "previous step) against evaluation set."
   ]
  },
  {
   "cell_type": "markdown",
   "id": "ab6c0f43",
   "metadata": {
    "papermill": {
     "duration": 0.005007,
     "end_time": "2022-07-21T06:51:40.636720",
     "exception": false,
     "start_time": "2022-07-21T06:51:40.631713",
     "status": "completed"
    },
    "tags": []
   },
   "source": [
    "### Determine run parameters"
   ]
  },
  {
   "cell_type": "code",
   "execution_count": 1,
   "id": "1c8a35f0",
   "metadata": {
    "execution": {
     "iopub.execute_input": "2022-07-21T06:51:40.646880Z",
     "iopub.status.busy": "2022-07-21T06:51:40.646547Z",
     "iopub.status.idle": "2022-07-21T06:51:40.654133Z",
     "shell.execute_reply": "2022-07-21T06:51:40.653527Z"
    },
    "lines_to_next_cell": 0,
    "papermill": {
     "duration": 0.016594,
     "end_time": "2022-07-21T06:51:40.657570",
     "exception": false,
     "start_time": "2022-07-21T06:51:40.640976",
     "status": "completed"
    },
    "tags": []
   },
   "outputs": [],
   "source": [
    "# ----------------- Parameters for interactive development --------------\n",
    "P = {\n",
    "    \"pipeline.data_lake_root\": \"/pipeline-outputs/data-lake\",\n",
    "    \"task.nr_train_images\": 600,\n",
    "}"
   ]
  },
  {
   "cell_type": "code",
   "execution_count": 2,
   "id": "64a14cf6",
   "metadata": {
    "execution": {
     "iopub.execute_input": "2022-07-21T06:51:40.667437Z",
     "iopub.status.busy": "2022-07-21T06:51:40.667234Z",
     "iopub.status.idle": "2022-07-21T06:51:40.670165Z",
     "shell.execute_reply": "2022-07-21T06:51:40.669512Z"
    },
    "lines_to_next_cell": 0,
    "papermill": {
     "duration": 0.011058,
     "end_time": "2022-07-21T06:51:40.672973",
     "exception": false,
     "start_time": "2022-07-21T06:51:40.661915",
     "status": "completed"
    },
    "tags": [
     "parameters"
    ]
   },
   "outputs": [],
   "source": [
    "# - During automated runs parameters will be injected in the below cell -"
   ]
  },
  {
   "cell_type": "code",
   "execution_count": 3,
   "id": "cf1e3af9",
   "metadata": {
    "execution": {
     "iopub.execute_input": "2022-07-21T06:51:40.682550Z",
     "iopub.status.busy": "2022-07-21T06:51:40.682349Z",
     "iopub.status.idle": "2022-07-21T06:51:40.695319Z",
     "shell.execute_reply": "2022-07-21T06:51:40.694258Z"
    },
    "papermill": {
     "duration": 0.022685,
     "end_time": "2022-07-21T06:51:40.700328",
     "exception": false,
     "start_time": "2022-07-21T06:51:40.677643",
     "status": "completed"
    },
    "tags": [
     "injected-parameters"
    ]
   },
   "outputs": [],
   "source": [
    "# Parameters\n",
    "P = {\n",
    "    \"pipeline.data_lake_root\": \"/pipeline-outputs/data-lake\",\n",
    "    \"pipeline.run_environment\": \"ci\",\n",
    "    \"pipeline.pipeline_run_id\": \"4a731c87-d022-48c4-abbf-330a6402e8e3\",\n",
    "    \"pipeline.github.repository\": \"pynb-dag-runner/mnist-digits-demo-pipeline\",\n",
    "    \"pipeline.github.workflow\": \"Run automated tests, pipeline and deploy results to static reporting site\",\n",
    "    \"pipeline.github.runner_name\": \"Hosted Agent\",\n",
    "    \"pipeline.github.run_id\": \"2709861045\",\n",
    "    \"pipeline.github.actor\": \"matiasdahl\",\n",
    "    \"pipeline.github.job\": \"run-tests-pipeline-and-persist-pipeline-outputs\",\n",
    "    \"pipeline.github.base_ref\": \"\",\n",
    "    \"pipeline.github.head_ref\": \"\",\n",
    "    \"pipeline.github.sha\": \"5a6f90a9473b3095841d5b5dc7b58f5f049a0f71\",\n",
    "    \"pipeline.github.ref\": \"refs/heads/development\",\n",
    "    \"pipeline.github.ref_type\": \"branch\",\n",
    "    \"pipeline.github.ref_name\": \"development\",\n",
    "    \"pipeline.github.event_name\": \"schedule\",\n",
    "    \"task.nr_train_images\": 1200,\n",
    "    \"task.notebook\": \"notebooks/benchmark-model.py\",\n",
    "    \"task.max_nr_retries\": \"1\",\n",
    "    \"run.retry_nr\": \"0\",\n",
    "    \"task.timeout_s\": \"None\",\n",
    "    \"task.num_cpus\": 1,\n",
    "    \"_opentelemetry_traceparent\": \"00-6f24b26aec5f4e42995b162b1295bd39-d23361d026e26ee0-01\",\n",
    "}\n"
   ]
  },
  {
   "cell_type": "code",
   "execution_count": 4,
   "id": "68209872",
   "metadata": {
    "execution": {
     "iopub.execute_input": "2022-07-21T06:51:40.711554Z",
     "iopub.status.busy": "2022-07-21T06:51:40.711349Z",
     "iopub.status.idle": "2022-07-21T06:51:40.714067Z",
     "shell.execute_reply": "2022-07-21T06:51:40.713519Z"
    },
    "lines_to_next_cell": 0,
    "papermill": {
     "duration": 0.013706,
     "end_time": "2022-07-21T06:51:40.717982",
     "exception": false,
     "start_time": "2022-07-21T06:51:40.704276",
     "status": "completed"
    },
    "tags": []
   },
   "outputs": [],
   "source": [
    "# -----------------------------------------------------------------------"
   ]
  },
  {
   "cell_type": "markdown",
   "id": "9a6cf4d8",
   "metadata": {
    "papermill": {
     "duration": 0.005872,
     "end_time": "2022-07-21T06:51:40.727927",
     "exception": false,
     "start_time": "2022-07-21T06:51:40.722055",
     "status": "completed"
    },
    "tags": []
   },
   "source": [
    "---"
   ]
  },
  {
   "cell_type": "markdown",
   "id": "b3fb9739",
   "metadata": {
    "lines_to_next_cell": 2,
    "papermill": {
     "duration": 0.004913,
     "end_time": "2022-07-21T06:51:40.737080",
     "exception": false,
     "start_time": "2022-07-21T06:51:40.732167",
     "status": "completed"
    },
    "tags": []
   },
   "source": [
    "### Notebook code"
   ]
  },
  {
   "cell_type": "code",
   "execution_count": 5,
   "id": "5cd40426",
   "metadata": {
    "execution": {
     "iopub.execute_input": "2022-07-21T06:51:40.746815Z",
     "iopub.status.busy": "2022-07-21T06:51:40.746565Z",
     "iopub.status.idle": "2022-07-21T06:51:41.935712Z",
     "shell.execute_reply": "2022-07-21T06:51:41.934155Z"
    },
    "papermill": {
     "duration": 1.196467,
     "end_time": "2022-07-21T06:51:41.937582",
     "exception": false,
     "start_time": "2022-07-21T06:51:40.741115",
     "status": "completed"
    },
    "tags": []
   },
   "outputs": [
    {
     "name": "stderr",
     "output_type": "stream",
     "text": [
      "2022-07-21 06:51:41,760\tINFO worker.py:842 -- Connecting to existing Ray cluster at address: 172.17.0.2:6379\n"
     ]
    }
   ],
   "source": [
    "import itertools as it\n",
    "\n",
    "#\n",
    "import numpy as np\n",
    "import matplotlib.pyplot as plt\n",
    "\n",
    "#\n",
    "from pynb_dag_runner.tasks.task_opentelemetry_logging import PydarLogger\n",
    "\n",
    "#\n",
    "from common.io import datalake_root\n",
    "\n",
    "logger = PydarLogger(P)"
   ]
  },
  {
   "cell_type": "markdown",
   "id": "4c6d82ed",
   "metadata": {
    "papermill": {
     "duration": 0.004372,
     "end_time": "2022-07-21T06:51:41.947563",
     "exception": false,
     "start_time": "2022-07-21T06:51:41.943191",
     "status": "completed"
    },
    "tags": []
   },
   "source": [
    "## Load persisted onnx-model and evaluation data"
   ]
  },
  {
   "cell_type": "code",
   "execution_count": 6,
   "id": "62e27de1",
   "metadata": {
    "execution": {
     "iopub.execute_input": "2022-07-21T06:51:41.958075Z",
     "iopub.status.busy": "2022-07-21T06:51:41.957751Z",
     "iopub.status.idle": "2022-07-21T06:51:41.961636Z",
     "shell.execute_reply": "2022-07-21T06:51:41.960935Z"
    },
    "papermill": {
     "duration": 0.011151,
     "end_time": "2022-07-21T06:51:41.963881",
     "exception": false,
     "start_time": "2022-07-21T06:51:41.952730",
     "status": "completed"
    },
    "tags": []
   },
   "outputs": [],
   "source": [
    "from common.io import read_onnx, get_onnx_inputs, get_onnx_outputs, read_numpy"
   ]
  },
  {
   "cell_type": "code",
   "execution_count": 7,
   "id": "f09f1d31",
   "metadata": {
    "execution": {
     "iopub.execute_input": "2022-07-21T06:51:41.974235Z",
     "iopub.status.busy": "2022-07-21T06:51:41.973937Z",
     "iopub.status.idle": "2022-07-21T06:51:41.984820Z",
     "shell.execute_reply": "2022-07-21T06:51:41.984164Z"
    },
    "lines_to_next_cell": 0,
    "papermill": {
     "duration": 0.020596,
     "end_time": "2022-07-21T06:51:41.988799",
     "exception": false,
     "start_time": "2022-07-21T06:51:41.968203",
     "status": "completed"
    },
    "tags": []
   },
   "outputs": [],
   "source": [
    "onnx_inference_session = read_onnx(\n",
    "    datalake_root(P)\n",
    "    / \"models\"\n",
    "    / f\"nr_train_images={P['task.nr_train_images']}\"\n",
    "    / \"model.onnx\"\n",
    ")"
   ]
  },
  {
   "cell_type": "markdown",
   "id": "dda77bac",
   "metadata": {
    "papermill": {
     "duration": 0.003579,
     "end_time": "2022-07-21T06:51:41.996283",
     "exception": false,
     "start_time": "2022-07-21T06:51:41.992704",
     "status": "completed"
    },
    "tags": []
   },
   "source": [
    "### Record structure of inputs and outputs for ONNX model\n",
    "\n",
    "(this should likely be done in training notebook)"
   ]
  },
  {
   "cell_type": "code",
   "execution_count": 8,
   "id": "c83b0891",
   "metadata": {
    "execution": {
     "iopub.execute_input": "2022-07-21T06:51:42.004599Z",
     "iopub.status.busy": "2022-07-21T06:51:42.004288Z",
     "iopub.status.idle": "2022-07-21T06:51:42.009701Z",
     "shell.execute_reply": "2022-07-21T06:51:42.009044Z"
    },
    "papermill": {
     "duration": 0.011563,
     "end_time": "2022-07-21T06:51:42.011422",
     "exception": false,
     "start_time": "2022-07-21T06:51:41.999859",
     "status": "completed"
    },
    "tags": []
   },
   "outputs": [
    {
     "name": "stdout",
     "output_type": "stream",
     "text": [
      "{\n",
      "  \"inputs\": [\n",
      "    {\n",
      "      \"name\": \"float_input_8x8_image\",\n",
      "      \"shape\": [\n",
      "        null,\n",
      "        64\n",
      "      ],\n",
      "      \"type\": \"tensor(float)\"\n",
      "    }\n",
      "  ],\n",
      "  \"outputs\": [\n",
      "    {\n",
      "      \"name\": \"output_label\",\n",
      "      \"shape\": [\n",
      "        null\n",
      "      ],\n",
      "      \"type\": \"tensor(int64)\"\n",
      "    },\n",
      "    {\n",
      "      \"name\": \"output_probability\",\n",
      "      \"shape\": [],\n",
      "      \"type\": \"seq(map(int64,tensor(float)))\"\n",
      "    }\n",
      "  ]\n",
      "}\n"
     ]
    }
   ],
   "source": [
    "import json\n",
    "\n",
    "onnx_io = json.dumps(\n",
    "    {\n",
    "        \"inputs\": get_onnx_inputs(onnx_inference_session),\n",
    "        \"outputs\": get_onnx_outputs(onnx_inference_session),\n",
    "    },\n",
    "    indent=2,\n",
    ")\n",
    "\n",
    "\n",
    "logger.log_artefact(\"onnx_io_structure.json\", onnx_io)\n",
    "print(onnx_io)"
   ]
  },
  {
   "cell_type": "markdown",
   "id": "b12be7f6",
   "metadata": {
    "papermill": {
     "duration": 0.003732,
     "end_time": "2022-07-21T06:51:42.019165",
     "exception": false,
     "start_time": "2022-07-21T06:51:42.015433",
     "status": "completed"
    },
    "tags": []
   },
   "source": [
    "### Evaluate model performance on evaluation data set"
   ]
  },
  {
   "cell_type": "code",
   "execution_count": 9,
   "id": "96e2bb77",
   "metadata": {
    "execution": {
     "iopub.execute_input": "2022-07-21T06:51:42.029209Z",
     "iopub.status.busy": "2022-07-21T06:51:42.028872Z",
     "iopub.status.idle": "2022-07-21T06:51:42.035951Z",
     "shell.execute_reply": "2022-07-21T06:51:42.035318Z"
    },
    "papermill": {
     "duration": 0.013992,
     "end_time": "2022-07-21T06:51:42.038325",
     "exception": false,
     "start_time": "2022-07-21T06:51:42.024333",
     "status": "completed"
    },
    "tags": []
   },
   "outputs": [],
   "source": [
    "# load evaluation data\n",
    "X_test = read_numpy(datalake_root(P) / \"test-data\" / \"digits.numpy\")\n",
    "y_test = read_numpy(datalake_root(P) / \"test-data\" / \"labels.numpy\")"
   ]
  },
  {
   "cell_type": "code",
   "execution_count": 10,
   "id": "ecba981f",
   "metadata": {
    "execution": {
     "iopub.execute_input": "2022-07-21T06:51:42.048199Z",
     "iopub.status.busy": "2022-07-21T06:51:42.047901Z",
     "iopub.status.idle": "2022-07-21T06:51:42.063222Z",
     "shell.execute_reply": "2022-07-21T06:51:42.061168Z"
    },
    "papermill": {
     "duration": 0.021961,
     "end_time": "2022-07-21T06:51:42.065099",
     "exception": false,
     "start_time": "2022-07-21T06:51:42.043138",
     "status": "completed"
    },
    "tags": []
   },
   "outputs": [],
   "source": [
    "def get_model_outputs(X, onnx_inference_session):\n",
    "    y_pred_labels, y_pred_map = onnx_inference_session.run(\n",
    "        [\"output_label\", \"output_probability\"],\n",
    "        {\"float_input_8x8_image\": X.astype(np.float32)},\n",
    "    )\n",
    "    y_pred_probs = np.array(\n",
    "        [[probabilities[digit] for digit in range(10)] for probabilities in y_pred_map]\n",
    "    )\n",
    "\n",
    "    assert y_pred_labels.shape == (X.shape[0],)\n",
    "    assert y_pred_probs.shape == (X.shape[0], 10)\n",
    "\n",
    "    return y_pred_labels, y_pred_probs\n",
    "\n",
    "\n",
    "# Note: as shown in the training notebook, the predicted labels and probabilities\n",
    "# computed below need not be compatible.\n",
    "y_pred_labels_test, y_pred_probs_test = get_model_outputs(\n",
    "    X_test, onnx_inference_session\n",
    ")"
   ]
  },
  {
   "cell_type": "markdown",
   "id": "dab7b3b6",
   "metadata": {
    "papermill": {
     "duration": 0.005728,
     "end_time": "2022-07-21T06:51:42.075024",
     "exception": false,
     "start_time": "2022-07-21T06:51:42.069296",
     "status": "completed"
    },
    "tags": []
   },
   "source": [
    "### Confusion matrix"
   ]
  },
  {
   "cell_type": "code",
   "execution_count": 11,
   "id": "3b842899",
   "metadata": {
    "execution": {
     "iopub.execute_input": "2022-07-21T06:51:42.085658Z",
     "iopub.status.busy": "2022-07-21T06:51:42.085419Z",
     "iopub.status.idle": "2022-07-21T06:51:42.088478Z",
     "shell.execute_reply": "2022-07-21T06:51:42.087860Z"
    },
    "papermill": {
     "duration": 0.011543,
     "end_time": "2022-07-21T06:51:42.090937",
     "exception": false,
     "start_time": "2022-07-21T06:51:42.079394",
     "status": "completed"
    },
    "tags": []
   },
   "outputs": [],
   "source": [
    "# TODO"
   ]
  },
  {
   "cell_type": "markdown",
   "id": "0718866c",
   "metadata": {
    "papermill": {
     "duration": 0.004092,
     "end_time": "2022-07-21T06:51:42.100194",
     "exception": false,
     "start_time": "2022-07-21T06:51:42.096102",
     "status": "completed"
    },
    "tags": []
   },
   "source": [
    "### Plot predicted probabilities for each classifier over all evaluation digit images"
   ]
  },
  {
   "cell_type": "code",
   "execution_count": 12,
   "id": "da38cdae",
   "metadata": {
    "execution": {
     "iopub.execute_input": "2022-07-21T06:51:42.110273Z",
     "iopub.status.busy": "2022-07-21T06:51:42.110002Z",
     "iopub.status.idle": "2022-07-21T06:51:45.058362Z",
     "shell.execute_reply": "2022-07-21T06:51:45.057570Z"
    },
    "papermill": {
     "duration": 2.955328,
     "end_time": "2022-07-21T06:51:45.060379",
     "exception": false,
     "start_time": "2022-07-21T06:51:42.105051",
     "status": "completed"
    },
    "tags": []
   },
   "outputs": [
    {
     "data": {
      "image/png": "[encoded data removed]",
      "text/plain": [
       "<Figure size 1152x432 with 10 Axes>"
      ]
     },
     "metadata": {
      "needs_background": "light"
     },
     "output_type": "display_data"
    }
   ],
   "source": [
    "def plot_per_digit_probabilities(y_pred_probs):\n",
    "    fig, axs = plt.subplots(nrows=2, ncols=5, figsize=(16, 6))\n",
    "\n",
    "    for (r, c), digit, ax in zip(\n",
    "        it.product(range(2), range(5)), range(10), axs.reshape(-1)\n",
    "    ):\n",
    "        ax.hist(y_pred_probs_test[:, digit], bins=20)\n",
    "\n",
    "        ax.set_title(f\"Digit {digit}\")\n",
    "        if r == 1 and c == 2:\n",
    "            ax.set_xlabel(\"probability\", fontsize=16)\n",
    "\n",
    "        if c == 0:\n",
    "            ax.set_ylabel(\"counts\", fontsize=16)\n",
    "        ax.set_yscale(\"log\")\n",
    "\n",
    "    fig.tight_layout()\n",
    "    fig.suptitle(\n",
    "        f\"Distributions of prediction probabilities for each digit \"\n",
    "        f\"(on evaluation data, n={y_pred_probs.shape[0]})\",\n",
    "        fontsize=20,\n",
    "    )\n",
    "    fig.tight_layout()\n",
    "    fig.show()\n",
    "\n",
    "    return fig\n",
    "\n",
    "\n",
    "fig = plot_per_digit_probabilities(y_pred_probs_test)"
   ]
  },
  {
   "cell_type": "markdown",
   "id": "e0378247",
   "metadata": {
    "papermill": {
     "duration": 0.004665,
     "end_time": "2022-07-21T06:51:45.070131",
     "exception": false,
     "start_time": "2022-07-21T06:51:45.065466",
     "status": "completed"
    },
    "tags": []
   },
   "source": [
    "From the above distributions we see that most digits have clear separation between\n",
    "high and lower probabilities. Morover, in each case there is roughly an order of\n",
    "magnitude more of digits with low probabilities. This is compatible with digits\n",
    "being roughly evenly distributed in the data."
   ]
  },
  {
   "cell_type": "code",
   "execution_count": 13,
   "id": "8126d3a0",
   "metadata": {
    "execution": {
     "iopub.execute_input": "2022-07-21T06:51:45.080415Z",
     "iopub.status.busy": "2022-07-21T06:51:45.080011Z",
     "iopub.status.idle": "2022-07-21T06:51:45.462547Z",
     "shell.execute_reply": "2022-07-21T06:51:45.461339Z"
    },
    "papermill": {
     "duration": 0.389843,
     "end_time": "2022-07-21T06:51:45.464412",
     "exception": false,
     "start_time": "2022-07-21T06:51:45.074569",
     "status": "completed"
    },
    "tags": []
   },
   "outputs": [],
   "source": [
    "logger.log_figure(\"per-digit-probabilities.png\", fig)"
   ]
  },
  {
   "cell_type": "markdown",
   "id": "3bb0a779",
   "metadata": {
    "papermill": {
     "duration": 0.005028,
     "end_time": "2022-07-21T06:51:45.474970",
     "exception": false,
     "start_time": "2022-07-21T06:51:45.469942",
     "status": "completed"
    },
    "tags": []
   },
   "source": [
    "### Plot ROC curves for individual one-vs-rest classifiers"
   ]
  },
  {
   "cell_type": "code",
   "execution_count": 14,
   "id": "0ab45c3d",
   "metadata": {
    "execution": {
     "iopub.execute_input": "2022-07-21T06:51:45.486448Z",
     "iopub.status.busy": "2022-07-21T06:51:45.486114Z",
     "iopub.status.idle": "2022-07-21T06:51:45.850767Z",
     "shell.execute_reply": "2022-07-21T06:51:45.850051Z"
    },
    "papermill": {
     "duration": 0.372259,
     "end_time": "2022-07-21T06:51:45.852843",
     "exception": false,
     "start_time": "2022-07-21T06:51:45.480584",
     "status": "completed"
    },
    "tags": []
   },
   "outputs": [],
   "source": [
    "from sklearn import metrics"
   ]
  },
  {
   "cell_type": "code",
   "execution_count": 15,
   "id": "7bc25f25",
   "metadata": {
    "execution": {
     "iopub.execute_input": "2022-07-21T06:51:45.863360Z",
     "iopub.status.busy": "2022-07-21T06:51:45.863080Z",
     "iopub.status.idle": "2022-07-21T06:51:46.777606Z",
     "shell.execute_reply": "2022-07-21T06:51:46.776965Z"
    },
    "papermill": {
     "duration": 0.921599,
     "end_time": "2022-07-21T06:51:46.779085",
     "exception": false,
     "start_time": "2022-07-21T06:51:45.857486",
     "status": "completed"
    },
    "tags": []
   },
   "outputs": [
    {
     "data": {
      "image/png": "[encoded data removed]",
      "text/plain": [
       "<Figure size 1152x576 with 10 Axes>"
      ]
     },
     "metadata": {
      "needs_background": "light"
     },
     "output_type": "display_data"
    }
   ],
   "source": [
    "def plot_roc_curves(y, y_pred_probs):\n",
    "    # based on example code\n",
    "    # https://scikit-learn.org/stable/auto_examples/model_selection/plot_roc.html\n",
    "\n",
    "    fig, axs = plt.subplots(nrows=2, ncols=5, figsize=(16, 8))\n",
    "\n",
    "    roc_auc_dict = {}\n",
    "\n",
    "    for (r, c), digit, ax in zip(\n",
    "        it.product(range(2), range(5)), range(10), axs.reshape(-1)\n",
    "    ):\n",
    "        fpr, tpr, _ = metrics.roc_curve(y == digit, y_pred_probs[:, digit])\n",
    "        auc = metrics.auc(fpr, tpr)\n",
    "        roc_auc_dict[str(digit)] = auc\n",
    "\n",
    "        ax.plot(fpr, tpr, label=f\"ROC AUC={round(auc, 3)}\")\n",
    "\n",
    "        ax.set_title(f\"\\nDigit {digit}\", fontsize=16)\n",
    "        if r == 1:\n",
    "            ax.set_xlabel(\"FPR\", fontsize=18)\n",
    "\n",
    "        if c == 0:\n",
    "            ax.set_ylabel(\"TPR\", fontsize=18)\n",
    "\n",
    "        ax.set_xlim([-0.05, 1.05])\n",
    "        ax.set_ylim([-0.05, 1.05])\n",
    "        ax.legend(loc=\"lower right\", frameon=False, fontsize=14)\n",
    "\n",
    "    fig.tight_layout()\n",
    "    fig.suptitle(\n",
    "        f\"ROC plots for one-vs-rest performances \"\n",
    "        f\"(on evaluation data, n={y_pred_probs_test.shape[1]}\",\n",
    "        fontsize=22,\n",
    "    )\n",
    "    fig.tight_layout()\n",
    "    fig.show()\n",
    "\n",
    "    return roc_auc_dict, fig\n",
    "\n",
    "\n",
    "roc_auc_dict, fig = plot_roc_curves(y_test, y_pred_probs_test)"
   ]
  },
  {
   "cell_type": "code",
   "execution_count": 16,
   "id": "b8b0bc05",
   "metadata": {
    "execution": {
     "iopub.execute_input": "2022-07-21T06:51:46.790287Z",
     "iopub.status.busy": "2022-07-21T06:51:46.789888Z",
     "iopub.status.idle": "2022-07-21T06:51:46.999949Z",
     "shell.execute_reply": "2022-07-21T06:51:46.999215Z"
    },
    "papermill": {
     "duration": 0.218033,
     "end_time": "2022-07-21T06:51:47.002104",
     "exception": false,
     "start_time": "2022-07-21T06:51:46.784071",
     "status": "completed"
    },
    "tags": []
   },
   "outputs": [],
   "source": [
    "logger.log_figure(\"per-digit-roc-curves.png\", fig)"
   ]
  },
  {
   "cell_type": "code",
   "execution_count": 17,
   "id": "bff3bc89",
   "metadata": {
    "execution": {
     "iopub.execute_input": "2022-07-21T06:51:47.013813Z",
     "iopub.status.busy": "2022-07-21T06:51:47.013320Z",
     "iopub.status.idle": "2022-07-21T06:51:47.018662Z",
     "shell.execute_reply": "2022-07-21T06:51:47.018008Z"
    },
    "papermill": {
     "duration": 0.01324,
     "end_time": "2022-07-21T06:51:47.020887",
     "exception": false,
     "start_time": "2022-07-21T06:51:47.007647",
     "status": "completed"
    },
    "tags": []
   },
   "outputs": [
    {
     "data": {
      "text/plain": [
       "{'0': 1.0,\n",
       " '1': 0.998950328022493,\n",
       " '2': 1.0,\n",
       " '3': 0.9998500468603562,\n",
       " '4': 0.9996951684194482,\n",
       " '5': 0.9996626054358013,\n",
       " '6': 0.999923792104862,\n",
       " '7': 0.9998475842097242,\n",
       " '8': 0.9957834174022698,\n",
       " '9': 0.9997713763145862}"
      ]
     },
     "execution_count": 17,
     "metadata": {},
     "output_type": "execute_result"
    }
   ],
   "source": [
    "roc_auc_dict"
   ]
  },
  {
   "cell_type": "code",
   "execution_count": 18,
   "id": "9a975248",
   "metadata": {
    "execution": {
     "iopub.execute_input": "2022-07-21T06:51:47.033184Z",
     "iopub.status.busy": "2022-07-21T06:51:47.032522Z",
     "iopub.status.idle": "2022-07-21T06:51:47.037058Z",
     "shell.execute_reply": "2022-07-21T06:51:47.036425Z"
    },
    "papermill": {
     "duration": 0.012157,
     "end_time": "2022-07-21T06:51:47.038845",
     "exception": false,
     "start_time": "2022-07-21T06:51:47.026688",
     "status": "completed"
    },
    "tags": []
   },
   "outputs": [
    {
     "name": "stdout",
     "output_type": "stream",
     "text": [
      " - Logging roc_auc_per_digit (json) : {'0': 1.0, '1': 0.998950328022493, '2': 1.0, '3': 0.9998500468603562, '4': 0.9996951684194482, '5': 0.9996626054358013, '6': 0.999923792104862, '7': 0.9998475842097242, '8': 0.9957834174022698, '9': 0.9997713763145862}\n"
     ]
    }
   ],
   "source": [
    "logger.log_value(\"roc_auc_per_digit\", roc_auc_dict)"
   ]
  },
  {
   "cell_type": "markdown",
   "id": "4ec81233",
   "metadata": {
    "papermill": {
     "duration": 0.005111,
     "end_time": "2022-07-21T06:51:47.048893",
     "exception": false,
     "start_time": "2022-07-21T06:51:47.043782",
     "status": "completed"
    },
    "tags": []
   },
   "source": [
    "### Compute and log mean ROC AUC score averaged over all digits"
   ]
  },
  {
   "cell_type": "code",
   "execution_count": 19,
   "id": "b72cb76f",
   "metadata": {
    "execution": {
     "iopub.execute_input": "2022-07-21T06:51:47.059759Z",
     "iopub.status.busy": "2022-07-21T06:51:47.059331Z",
     "iopub.status.idle": "2022-07-21T06:51:47.071696Z",
     "shell.execute_reply": "2022-07-21T06:51:47.071083Z"
    },
    "papermill": {
     "duration": 0.019318,
     "end_time": "2022-07-21T06:51:47.073097",
     "exception": false,
     "start_time": "2022-07-21T06:51:47.053779",
     "status": "completed"
    },
    "tags": []
   },
   "outputs": [
    {
     "name": "stdout",
     "output_type": "stream",
     "text": [
      " - Logging roc_auc_class_mean (float) : 0.9993484318769541\n"
     ]
    }
   ],
   "source": [
    "roc_auc_macro = np.mean(list(roc_auc_dict.values()))\n",
    "\n",
    "logger.log_float(\"roc_auc_class_mean\", roc_auc_macro)\n",
    "\n",
    "# assert that the same value can be computed directly using sklearn\n",
    "assert roc_auc_macro == metrics.roc_auc_score(\n",
    "    y_test, y_pred_probs_test, average=\"macro\", multi_class=\"ovr\"\n",
    ")"
   ]
  },
  {
   "cell_type": "code",
   "execution_count": 20,
   "id": "85b75790",
   "metadata": {
    "execution": {
     "iopub.execute_input": "2022-07-21T06:51:47.084733Z",
     "iopub.status.busy": "2022-07-21T06:51:47.084237Z",
     "iopub.status.idle": "2022-07-21T06:51:47.088129Z",
     "shell.execute_reply": "2022-07-21T06:51:47.087534Z"
    },
    "lines_to_next_cell": 0,
    "papermill": {
     "duration": 0.01096,
     "end_time": "2022-07-21T06:51:47.089459",
     "exception": false,
     "start_time": "2022-07-21T06:51:47.078499",
     "status": "completed"
    },
    "tags": []
   },
   "outputs": [],
   "source": [
    "# ---"
   ]
  },
  {
   "cell_type": "code",
   "execution_count": null,
   "id": "f759ac8b",
   "metadata": {
    "papermill": {
     "duration": 0.004979,
     "end_time": "2022-07-21T06:51:47.099270",
     "exception": false,
     "start_time": "2022-07-21T06:51:47.094291",
     "status": "completed"
    },
    "tags": []
   },
   "outputs": [],
   "source": []
  }
 ],
 "metadata": {
  "jupytext": {
   "cell_metadata_filter": "tags,-all",
   "main_language": "python",
   "notebook_metadata_filter": "-all"
  },
  "language_info": {
   "codemirror_mode": {
    "name": "ipython",
    "version": 3
   },
   "file_extension": ".py",
   "mimetype": "text/x-python",
   "name": "python",
   "nbconvert_exporter": "python",
   "pygments_lexer": "ipython3",
   "version": "3.8.10"
  },
  "papermill": {
   "default_parameters": {},
   "duration": 8.831999,
   "end_time": "2022-07-21T06:51:48.022945",
   "environment_variables": {},
   "exception": null,
   "input_path": "/home/host_user/workspace/mnist-demo-pipeline/mnist-demo-pipeline/notebooks/temp-notebook-8xan37hv.ipynb",
   "output_path": "notebooks/benchmark-model.ipynb",
   "parameters": {
    "P": {
     "_opentelemetry_traceparent": "00-6f24b26aec5f4e42995b162b1295bd39-d23361d026e26ee0-01",
     "pipeline.data_lake_root": "/pipeline-outputs/data-lake",
     "pipeline.github.actor": "matiasdahl",
     "pipeline.github.base_ref": "",
     "pipeline.github.event_name": "schedule",
     "pipeline.github.head_ref": "",
     "pipeline.github.job": "run-tests-pipeline-and-persist-pipeline-outputs",
     "pipeline.github.ref": "refs/heads/development",
     "pipeline.github.ref_name": "development",
     "pipeline.github.ref_type": "branch",
     "pipeline.github.repository": "pynb-dag-runner/mnist-digits-demo-pipeline",
     "pipeline.github.run_id": "2709861045",
     "pipeline.github.runner_name": "Hosted Agent",
     "pipeline.github.sha": "5a6f90a9473b3095841d5b5dc7b58f5f049a0f71",
     "pipeline.github.workflow": "Run automated tests, pipeline and deploy results to static reporting site",
     "pipeline.pipeline_run_id": "4a731c87-d022-48c4-abbf-330a6402e8e3",
     "pipeline.run_environment": "ci",
     "run.retry_nr": "0",
     "task.max_nr_retries": "1",
     "task.notebook": "notebooks/benchmark-model.py",
     "task.nr_train_images": 1200,
     "task.num_cpus": 1,
     "task.timeout_s": "None"
    }
   },
   "start_time": "2022-07-21T06:51:39.190946",
   "version": "2.3.3"
  }
 },
 "nbformat": 4,
 "nbformat_minor": 5
}