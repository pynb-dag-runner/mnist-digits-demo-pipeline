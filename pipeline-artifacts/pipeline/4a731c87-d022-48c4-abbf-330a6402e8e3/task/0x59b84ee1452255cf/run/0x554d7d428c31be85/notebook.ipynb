{
 "cells": [
  {
   "cell_type": "markdown",
   "id": "16e6eefd",
   "metadata": {
    "papermill": {
     "duration": 0.008191,
     "end_time": "2022-07-21T06:51:35.933056",
     "exception": false,
     "start_time": "2022-07-21T06:51:35.924865",
     "status": "completed"
    },
    "tags": []
   },
   "source": [
    "# Benchmark model\n",
    "\n",
    "The purpose of this notebook is to benchmark persisted onnx-model (trained in the\n",
    "previous step) against evaluation set."
   ]
  },
  {
   "cell_type": "markdown",
   "id": "76d6c897",
   "metadata": {
    "papermill": {
     "duration": 0.004249,
     "end_time": "2022-07-21T06:51:35.941841",
     "exception": false,
     "start_time": "2022-07-21T06:51:35.937592",
     "status": "completed"
    },
    "tags": []
   },
   "source": [
    "### Determine run parameters"
   ]
  },
  {
   "cell_type": "code",
   "execution_count": 1,
   "id": "49aa59fa",
   "metadata": {
    "execution": {
     "iopub.execute_input": "2022-07-21T06:51:35.950591Z",
     "iopub.status.busy": "2022-07-21T06:51:35.950258Z",
     "iopub.status.idle": "2022-07-21T06:51:35.958813Z",
     "shell.execute_reply": "2022-07-21T06:51:35.958252Z"
    },
    "lines_to_next_cell": 0,
    "papermill": {
     "duration": 0.015687,
     "end_time": "2022-07-21T06:51:35.961274",
     "exception": false,
     "start_time": "2022-07-21T06:51:35.945587",
     "status": "completed"
    },
    "tags": []
   },
   "outputs": [],
   "source": [
    "# ----------------- Parameters for interactive development --------------\n",
    "P = {\n",
    "    \"pipeline.data_lake_root\": \"/pipeline-outputs/data-lake\",\n",
    "    \"task.nr_train_images\": 600,\n",
    "}"
   ]
  },
  {
   "cell_type": "code",
   "execution_count": 2,
   "id": "c7fe6d54",
   "metadata": {
    "execution": {
     "iopub.execute_input": "2022-07-21T06:51:35.974523Z",
     "iopub.status.busy": "2022-07-21T06:51:35.974323Z",
     "iopub.status.idle": "2022-07-21T06:51:35.978146Z",
     "shell.execute_reply": "2022-07-21T06:51:35.977524Z"
    },
    "lines_to_next_cell": 0,
    "papermill": {
     "duration": 0.015415,
     "end_time": "2022-07-21T06:51:35.980497",
     "exception": false,
     "start_time": "2022-07-21T06:51:35.965082",
     "status": "completed"
    },
    "tags": [
     "parameters"
    ]
   },
   "outputs": [],
   "source": [
    "# - During automated runs parameters will be injected in the below cell -"
   ]
  },
  {
   "cell_type": "code",
   "execution_count": 3,
   "id": "c1bb8847",
   "metadata": {
    "execution": {
     "iopub.execute_input": "2022-07-21T06:51:35.989594Z",
     "iopub.status.busy": "2022-07-21T06:51:35.989401Z",
     "iopub.status.idle": "2022-07-21T06:51:35.994098Z",
     "shell.execute_reply": "2022-07-21T06:51:35.993407Z"
    },
    "papermill": {
     "duration": 0.011566,
     "end_time": "2022-07-21T06:51:35.996054",
     "exception": false,
     "start_time": "2022-07-21T06:51:35.984488",
     "status": "completed"
    },
    "tags": [
     "injected-parameters"
    ]
   },
   "outputs": [],
   "source": [
    "# Parameters\n",
    "P = {\n",
    "    \"pipeline.data_lake_root\": \"/pipeline-outputs/data-lake\",\n",
    "    \"pipeline.run_environment\": \"ci\",\n",
    "    \"pipeline.pipeline_run_id\": \"4a731c87-d022-48c4-abbf-330a6402e8e3\",\n",
    "    \"pipeline.github.repository\": \"pynb-dag-runner/mnist-digits-demo-pipeline\",\n",
    "    \"pipeline.github.workflow\": \"Run automated tests, pipeline and deploy results to static reporting site\",\n",
    "    \"pipeline.github.runner_name\": \"Hosted Agent\",\n",
    "    \"pipeline.github.run_id\": \"2709861045\",\n",
    "    \"pipeline.github.actor\": \"matiasdahl\",\n",
    "    \"pipeline.github.job\": \"run-tests-pipeline-and-persist-pipeline-outputs\",\n",
    "    \"pipeline.github.base_ref\": \"\",\n",
    "    \"pipeline.github.head_ref\": \"\",\n",
    "    \"pipeline.github.sha\": \"5a6f90a9473b3095841d5b5dc7b58f5f049a0f71\",\n",
    "    \"pipeline.github.ref\": \"refs/heads/development\",\n",
    "    \"pipeline.github.ref_type\": \"branch\",\n",
    "    \"pipeline.github.ref_name\": \"development\",\n",
    "    \"pipeline.github.event_name\": \"schedule\",\n",
    "    \"task.nr_train_images\": 1000,\n",
    "    \"task.notebook\": \"notebooks/benchmark-model.py\",\n",
    "    \"task.max_nr_retries\": \"1\",\n",
    "    \"run.retry_nr\": \"0\",\n",
    "    \"task.timeout_s\": \"None\",\n",
    "    \"task.num_cpus\": 1,\n",
    "    \"_opentelemetry_traceparent\": \"00-6f24b26aec5f4e42995b162b1295bd39-add42ce1eabc640b-01\",\n",
    "}\n"
   ]
  },
  {
   "cell_type": "code",
   "execution_count": 4,
   "id": "9049499b",
   "metadata": {
    "execution": {
     "iopub.execute_input": "2022-07-21T06:51:36.005094Z",
     "iopub.status.busy": "2022-07-21T06:51:36.004892Z",
     "iopub.status.idle": "2022-07-21T06:51:36.007485Z",
     "shell.execute_reply": "2022-07-21T06:51:36.006992Z"
    },
    "lines_to_next_cell": 0,
    "papermill": {
     "duration": 0.009455,
     "end_time": "2022-07-21T06:51:36.009784",
     "exception": false,
     "start_time": "2022-07-21T06:51:36.000329",
     "status": "completed"
    },
    "tags": []
   },
   "outputs": [],
   "source": [
    "# -----------------------------------------------------------------------"
   ]
  },
  {
   "cell_type": "markdown",
   "id": "2c0671c0",
   "metadata": {
    "papermill": {
     "duration": 0.003915,
     "end_time": "2022-07-21T06:51:36.018929",
     "exception": false,
     "start_time": "2022-07-21T06:51:36.015014",
     "status": "completed"
    },
    "tags": []
   },
   "source": [
    "---"
   ]
  },
  {
   "cell_type": "markdown",
   "id": "cb663ea0",
   "metadata": {
    "lines_to_next_cell": 2,
    "papermill": {
     "duration": 0.004147,
     "end_time": "2022-07-21T06:51:36.027061",
     "exception": false,
     "start_time": "2022-07-21T06:51:36.022914",
     "status": "completed"
    },
    "tags": []
   },
   "source": [
    "### Notebook code"
   ]
  },
  {
   "cell_type": "code",
   "execution_count": 5,
   "id": "3946a72a",
   "metadata": {
    "execution": {
     "iopub.execute_input": "2022-07-21T06:51:36.035683Z",
     "iopub.status.busy": "2022-07-21T06:51:36.035494Z",
     "iopub.status.idle": "2022-07-21T06:51:37.079736Z",
     "shell.execute_reply": "2022-07-21T06:51:37.078152Z"
    },
    "papermill": {
     "duration": 1.050909,
     "end_time": "2022-07-21T06:51:37.081942",
     "exception": false,
     "start_time": "2022-07-21T06:51:36.031033",
     "status": "completed"
    },
    "tags": []
   },
   "outputs": [
    {
     "name": "stderr",
     "output_type": "stream",
     "text": [
      "2022-07-21 06:51:36,927\tINFO worker.py:842 -- Connecting to existing Ray cluster at address: 172.17.0.2:6379\n"
     ]
    }
   ],
   "source": [
    "import itertools as it\n",
    "\n",
    "#\n",
    "import numpy as np\n",
    "import matplotlib.pyplot as plt\n",
    "\n",
    "#\n",
    "from pynb_dag_runner.tasks.task_opentelemetry_logging import PydarLogger\n",
    "\n",
    "#\n",
    "from common.io import datalake_root\n",
    "\n",
    "logger = PydarLogger(P)"
   ]
  },
  {
   "cell_type": "markdown",
   "id": "e102face",
   "metadata": {
    "papermill": {
     "duration": 0.004237,
     "end_time": "2022-07-21T06:51:37.091011",
     "exception": false,
     "start_time": "2022-07-21T06:51:37.086774",
     "status": "completed"
    },
    "tags": []
   },
   "source": [
    "## Load persisted onnx-model and evaluation data"
   ]
  },
  {
   "cell_type": "code",
   "execution_count": 6,
   "id": "bd7e8123",
   "metadata": {
    "execution": {
     "iopub.execute_input": "2022-07-21T06:51:37.107484Z",
     "iopub.status.busy": "2022-07-21T06:51:37.107113Z",
     "iopub.status.idle": "2022-07-21T06:51:37.112480Z",
     "shell.execute_reply": "2022-07-21T06:51:37.111243Z"
    },
    "papermill": {
     "duration": 0.019022,
     "end_time": "2022-07-21T06:51:37.114078",
     "exception": false,
     "start_time": "2022-07-21T06:51:37.095056",
     "status": "completed"
    },
    "tags": []
   },
   "outputs": [],
   "source": [
    "from common.io import read_onnx, get_onnx_inputs, get_onnx_outputs, read_numpy"
   ]
  },
  {
   "cell_type": "code",
   "execution_count": 7,
   "id": "cd9d8efe",
   "metadata": {
    "execution": {
     "iopub.execute_input": "2022-07-21T06:51:37.163837Z",
     "iopub.status.busy": "2022-07-21T06:51:37.163480Z",
     "iopub.status.idle": "2022-07-21T06:51:37.173396Z",
     "shell.execute_reply": "2022-07-21T06:51:37.172744Z"
    },
    "lines_to_next_cell": 0,
    "papermill": {
     "duration": 0.056848,
     "end_time": "2022-07-21T06:51:37.174973",
     "exception": false,
     "start_time": "2022-07-21T06:51:37.118125",
     "status": "completed"
    },
    "tags": []
   },
   "outputs": [],
   "source": [
    "onnx_inference_session = read_onnx(\n",
    "    datalake_root(P)\n",
    "    / \"models\"\n",
    "    / f\"nr_train_images={P['task.nr_train_images']}\"\n",
    "    / \"model.onnx\"\n",
    ")"
   ]
  },
  {
   "cell_type": "markdown",
   "id": "0fae12de",
   "metadata": {
    "papermill": {
     "duration": 0.004064,
     "end_time": "2022-07-21T06:51:37.183065",
     "exception": false,
     "start_time": "2022-07-21T06:51:37.179001",
     "status": "completed"
    },
    "tags": []
   },
   "source": [
    "### Record structure of inputs and outputs for ONNX model\n",
    "\n",
    "(this should likely be done in training notebook)"
   ]
  },
  {
   "cell_type": "code",
   "execution_count": 8,
   "id": "5f851532",
   "metadata": {
    "execution": {
     "iopub.execute_input": "2022-07-21T06:51:37.192599Z",
     "iopub.status.busy": "2022-07-21T06:51:37.192047Z",
     "iopub.status.idle": "2022-07-21T06:51:37.198834Z",
     "shell.execute_reply": "2022-07-21T06:51:37.198151Z"
    },
    "papermill": {
     "duration": 0.01321,
     "end_time": "2022-07-21T06:51:37.200426",
     "exception": false,
     "start_time": "2022-07-21T06:51:37.187216",
     "status": "completed"
    },
    "tags": []
   },
   "outputs": [
    {
     "name": "stdout",
     "output_type": "stream",
     "text": [
      "{\n",
      "  \"inputs\": [\n",
      "    {\n",
      "      \"name\": \"float_input_8x8_image\",\n",
      "      \"shape\": [\n",
      "        null,\n",
      "        64\n",
      "      ],\n",
      "      \"type\": \"tensor(float)\"\n",
      "    }\n",
      "  ],\n",
      "  \"outputs\": [\n",
      "    {\n",
      "      \"name\": \"output_label\",\n",
      "      \"shape\": [\n",
      "        null\n",
      "      ],\n",
      "      \"type\": \"tensor(int64)\"\n",
      "    },\n",
      "    {\n",
      "      \"name\": \"output_probability\",\n",
      "      \"shape\": [],\n",
      "      \"type\": \"seq(map(int64,tensor(float)))\"\n",
      "    }\n",
      "  ]\n",
      "}\n"
     ]
    }
   ],
   "source": [
    "import json\n",
    "\n",
    "onnx_io = json.dumps(\n",
    "    {\n",
    "        \"inputs\": get_onnx_inputs(onnx_inference_session),\n",
    "        \"outputs\": get_onnx_outputs(onnx_inference_session),\n",
    "    },\n",
    "    indent=2,\n",
    ")\n",
    "\n",
    "\n",
    "logger.log_artefact(\"onnx_io_structure.json\", onnx_io)\n",
    "print(onnx_io)"
   ]
  },
  {
   "cell_type": "markdown",
   "id": "29e09706",
   "metadata": {
    "papermill": {
     "duration": 0.004605,
     "end_time": "2022-07-21T06:51:37.209130",
     "exception": false,
     "start_time": "2022-07-21T06:51:37.204525",
     "status": "completed"
    },
    "tags": []
   },
   "source": [
    "### Evaluate model performance on evaluation data set"
   ]
  },
  {
   "cell_type": "code",
   "execution_count": 9,
   "id": "ad5f8287",
   "metadata": {
    "execution": {
     "iopub.execute_input": "2022-07-21T06:51:37.219123Z",
     "iopub.status.busy": "2022-07-21T06:51:37.218501Z",
     "iopub.status.idle": "2022-07-21T06:51:37.223402Z",
     "shell.execute_reply": "2022-07-21T06:51:37.222605Z"
    },
    "papermill": {
     "duration": 0.011348,
     "end_time": "2022-07-21T06:51:37.224834",
     "exception": false,
     "start_time": "2022-07-21T06:51:37.213486",
     "status": "completed"
    },
    "tags": []
   },
   "outputs": [],
   "source": [
    "# load evaluation data\n",
    "X_test = read_numpy(datalake_root(P) / \"test-data\" / \"digits.numpy\")\n",
    "y_test = read_numpy(datalake_root(P) / \"test-data\" / \"labels.numpy\")"
   ]
  },
  {
   "cell_type": "code",
   "execution_count": 10,
   "id": "b0b7d1b6",
   "metadata": {
    "execution": {
     "iopub.execute_input": "2022-07-21T06:51:37.234614Z",
     "iopub.status.busy": "2022-07-21T06:51:37.234240Z",
     "iopub.status.idle": "2022-07-21T06:51:37.246173Z",
     "shell.execute_reply": "2022-07-21T06:51:37.245420Z"
    },
    "papermill": {
     "duration": 0.018736,
     "end_time": "2022-07-21T06:51:37.247930",
     "exception": false,
     "start_time": "2022-07-21T06:51:37.229194",
     "status": "completed"
    },
    "tags": []
   },
   "outputs": [],
   "source": [
    "def get_model_outputs(X, onnx_inference_session):\n",
    "    y_pred_labels, y_pred_map = onnx_inference_session.run(\n",
    "        [\"output_label\", \"output_probability\"],\n",
    "        {\"float_input_8x8_image\": X.astype(np.float32)},\n",
    "    )\n",
    "    y_pred_probs = np.array(\n",
    "        [[probabilities[digit] for digit in range(10)] for probabilities in y_pred_map]\n",
    "    )\n",
    "\n",
    "    assert y_pred_labels.shape == (X.shape[0],)\n",
    "    assert y_pred_probs.shape == (X.shape[0], 10)\n",
    "\n",
    "    return y_pred_labels, y_pred_probs\n",
    "\n",
    "\n",
    "# Note: as shown in the training notebook, the predicted labels and probabilities\n",
    "# computed below need not be compatible.\n",
    "y_pred_labels_test, y_pred_probs_test = get_model_outputs(\n",
    "    X_test, onnx_inference_session\n",
    ")"
   ]
  },
  {
   "cell_type": "markdown",
   "id": "0ba1b4ca",
   "metadata": {
    "papermill": {
     "duration": 0.004532,
     "end_time": "2022-07-21T06:51:37.256708",
     "exception": false,
     "start_time": "2022-07-21T06:51:37.252176",
     "status": "completed"
    },
    "tags": []
   },
   "source": [
    "### Confusion matrix"
   ]
  },
  {
   "cell_type": "code",
   "execution_count": 11,
   "id": "46a95306",
   "metadata": {
    "execution": {
     "iopub.execute_input": "2022-07-21T06:51:37.265820Z",
     "iopub.status.busy": "2022-07-21T06:51:37.265608Z",
     "iopub.status.idle": "2022-07-21T06:51:37.268910Z",
     "shell.execute_reply": "2022-07-21T06:51:37.268307Z"
    },
    "papermill": {
     "duration": 0.009756,
     "end_time": "2022-07-21T06:51:37.270370",
     "exception": false,
     "start_time": "2022-07-21T06:51:37.260614",
     "status": "completed"
    },
    "tags": []
   },
   "outputs": [],
   "source": [
    "# TODO"
   ]
  },
  {
   "cell_type": "markdown",
   "id": "cf5eba59",
   "metadata": {
    "papermill": {
     "duration": 0.004392,
     "end_time": "2022-07-21T06:51:37.279074",
     "exception": false,
     "start_time": "2022-07-21T06:51:37.274682",
     "status": "completed"
    },
    "tags": []
   },
   "source": [
    "### Plot predicted probabilities for each classifier over all evaluation digit images"
   ]
  },
  {
   "cell_type": "code",
   "execution_count": 12,
   "id": "51892fc9",
   "metadata": {
    "execution": {
     "iopub.execute_input": "2022-07-21T06:51:37.288560Z",
     "iopub.status.busy": "2022-07-21T06:51:37.288207Z",
     "iopub.status.idle": "2022-07-21T06:51:40.307280Z",
     "shell.execute_reply": "2022-07-21T06:51:40.306586Z"
    },
    "papermill": {
     "duration": 3.025779,
     "end_time": "2022-07-21T06:51:40.308813",
     "exception": false,
     "start_time": "2022-07-21T06:51:37.283034",
     "status": "completed"
    },
    "tags": []
   },
   "outputs": [
    {
     "data": {
      "image/png": "[encoded data removed]",
      "text/plain": [
       "<Figure size 1152x432 with 10 Axes>"
      ]
     },
     "metadata": {
      "needs_background": "light"
     },
     "output_type": "display_data"
    }
   ],
   "source": [
    "def plot_per_digit_probabilities(y_pred_probs):\n",
    "    fig, axs = plt.subplots(nrows=2, ncols=5, figsize=(16, 6))\n",
    "\n",
    "    for (r, c), digit, ax in zip(\n",
    "        it.product(range(2), range(5)), range(10), axs.reshape(-1)\n",
    "    ):\n",
    "        ax.hist(y_pred_probs_test[:, digit], bins=20)\n",
    "\n",
    "        ax.set_title(f\"Digit {digit}\")\n",
    "        if r == 1 and c == 2:\n",
    "            ax.set_xlabel(\"probability\", fontsize=16)\n",
    "\n",
    "        if c == 0:\n",
    "            ax.set_ylabel(\"counts\", fontsize=16)\n",
    "        ax.set_yscale(\"log\")\n",
    "\n",
    "    fig.tight_layout()\n",
    "    fig.suptitle(\n",
    "        f\"Distributions of prediction probabilities for each digit \"\n",
    "        f\"(on evaluation data, n={y_pred_probs.shape[0]})\",\n",
    "        fontsize=20,\n",
    "    )\n",
    "    fig.tight_layout()\n",
    "    fig.show()\n",
    "\n",
    "    return fig\n",
    "\n",
    "\n",
    "fig = plot_per_digit_probabilities(y_pred_probs_test)"
   ]
  },
  {
   "cell_type": "markdown",
   "id": "ed622f91",
   "metadata": {
    "papermill": {
     "duration": 0.004331,
     "end_time": "2022-07-21T06:51:40.318017",
     "exception": false,
     "start_time": "2022-07-21T06:51:40.313686",
     "status": "completed"
    },
    "tags": []
   },
   "source": [
    "From the above distributions we see that most digits have clear separation between\n",
    "high and lower probabilities. Morover, in each case there is roughly an order of\n",
    "magnitude more of digits with low probabilities. This is compatible with digits\n",
    "being roughly evenly distributed in the data."
   ]
  },
  {
   "cell_type": "code",
   "execution_count": 13,
   "id": "a90c6606",
   "metadata": {
    "execution": {
     "iopub.execute_input": "2022-07-21T06:51:40.327807Z",
     "iopub.status.busy": "2022-07-21T06:51:40.327219Z",
     "iopub.status.idle": "2022-07-21T06:51:40.698266Z",
     "shell.execute_reply": "2022-07-21T06:51:40.696867Z"
    },
    "papermill": {
     "duration": 0.378543,
     "end_time": "2022-07-21T06:51:40.700500",
     "exception": false,
     "start_time": "2022-07-21T06:51:40.321957",
     "status": "completed"
    },
    "tags": []
   },
   "outputs": [],
   "source": [
    "logger.log_figure(\"per-digit-probabilities.png\", fig)"
   ]
  },
  {
   "cell_type": "markdown",
   "id": "ab90d449",
   "metadata": {
    "papermill": {
     "duration": 0.004353,
     "end_time": "2022-07-21T06:51:40.710135",
     "exception": false,
     "start_time": "2022-07-21T06:51:40.705782",
     "status": "completed"
    },
    "tags": []
   },
   "source": [
    "### Plot ROC curves for individual one-vs-rest classifiers"
   ]
  },
  {
   "cell_type": "code",
   "execution_count": 14,
   "id": "4ea4fbd5",
   "metadata": {
    "execution": {
     "iopub.execute_input": "2022-07-21T06:51:40.722332Z",
     "iopub.status.busy": "2022-07-21T06:51:40.722092Z",
     "iopub.status.idle": "2022-07-21T06:51:41.068371Z",
     "shell.execute_reply": "2022-07-21T06:51:41.067640Z"
    },
    "papermill": {
     "duration": 0.356436,
     "end_time": "2022-07-21T06:51:41.070674",
     "exception": false,
     "start_time": "2022-07-21T06:51:40.714238",
     "status": "completed"
    },
    "tags": []
   },
   "outputs": [],
   "source": [
    "from sklearn import metrics"
   ]
  },
  {
   "cell_type": "code",
   "execution_count": 15,
   "id": "8ee54787",
   "metadata": {
    "execution": {
     "iopub.execute_input": "2022-07-21T06:51:41.081977Z",
     "iopub.status.busy": "2022-07-21T06:51:41.081449Z",
     "iopub.status.idle": "2022-07-21T06:51:42.066388Z",
     "shell.execute_reply": "2022-07-21T06:51:42.065872Z"
    },
    "papermill": {
     "duration": 0.992484,
     "end_time": "2022-07-21T06:51:42.068022",
     "exception": false,
     "start_time": "2022-07-21T06:51:41.075538",
     "status": "completed"
    },
    "tags": []
   },
   "outputs": [
    {
     "data": {
      "image/png": "[encoded data removed]",
      "text/plain": [
       "<Figure size 1152x576 with 10 Axes>"
      ]
     },
     "metadata": {
      "needs_background": "light"
     },
     "output_type": "display_data"
    }
   ],
   "source": [
    "def plot_roc_curves(y, y_pred_probs):\n",
    "    # based on example code\n",
    "    # https://scikit-learn.org/stable/auto_examples/model_selection/plot_roc.html\n",
    "\n",
    "    fig, axs = plt.subplots(nrows=2, ncols=5, figsize=(16, 8))\n",
    "\n",
    "    roc_auc_dict = {}\n",
    "\n",
    "    for (r, c), digit, ax in zip(\n",
    "        it.product(range(2), range(5)), range(10), axs.reshape(-1)\n",
    "    ):\n",
    "        fpr, tpr, _ = metrics.roc_curve(y == digit, y_pred_probs[:, digit])\n",
    "        auc = metrics.auc(fpr, tpr)\n",
    "        roc_auc_dict[str(digit)] = auc\n",
    "\n",
    "        ax.plot(fpr, tpr, label=f\"ROC AUC={round(auc, 3)}\")\n",
    "\n",
    "        ax.set_title(f\"\\nDigit {digit}\", fontsize=16)\n",
    "        if r == 1:\n",
    "            ax.set_xlabel(\"FPR\", fontsize=18)\n",
    "\n",
    "        if c == 0:\n",
    "            ax.set_ylabel(\"TPR\", fontsize=18)\n",
    "\n",
    "        ax.set_xlim([-0.05, 1.05])\n",
    "        ax.set_ylim([-0.05, 1.05])\n",
    "        ax.legend(loc=\"lower right\", frameon=False, fontsize=14)\n",
    "\n",
    "    fig.tight_layout()\n",
    "    fig.suptitle(\n",
    "        f\"ROC plots for one-vs-rest performances \"\n",
    "        f\"(on evaluation data, n={y_pred_probs_test.shape[1]}\",\n",
    "        fontsize=22,\n",
    "    )\n",
    "    fig.tight_layout()\n",
    "    fig.show()\n",
    "\n",
    "    return roc_auc_dict, fig\n",
    "\n",
    "\n",
    "roc_auc_dict, fig = plot_roc_curves(y_test, y_pred_probs_test)"
   ]
  },
  {
   "cell_type": "code",
   "execution_count": 16,
   "id": "38a99e2a",
   "metadata": {
    "execution": {
     "iopub.execute_input": "2022-07-21T06:51:42.079645Z",
     "iopub.status.busy": "2022-07-21T06:51:42.079040Z",
     "iopub.status.idle": "2022-07-21T06:51:42.286528Z",
     "shell.execute_reply": "2022-07-21T06:51:42.285979Z"
    },
    "papermill": {
     "duration": 0.214929,
     "end_time": "2022-07-21T06:51:42.288513",
     "exception": false,
     "start_time": "2022-07-21T06:51:42.073584",
     "status": "completed"
    },
    "tags": []
   },
   "outputs": [],
   "source": [
    "logger.log_figure(\"per-digit-roc-curves.png\", fig)"
   ]
  },
  {
   "cell_type": "code",
   "execution_count": 17,
   "id": "5bdb15e6",
   "metadata": {
    "execution": {
     "iopub.execute_input": "2022-07-21T06:51:42.299958Z",
     "iopub.status.busy": "2022-07-21T06:51:42.299739Z",
     "iopub.status.idle": "2022-07-21T06:51:42.303839Z",
     "shell.execute_reply": "2022-07-21T06:51:42.303363Z"
    },
    "papermill": {
     "duration": 0.01348,
     "end_time": "2022-07-21T06:51:42.307314",
     "exception": false,
     "start_time": "2022-07-21T06:51:42.293834",
     "status": "completed"
    },
    "tags": []
   },
   "outputs": [
    {
     "data": {
      "text/plain": [
       "{'0': 1.0,\n",
       " '1': 0.998912839737582,\n",
       " '2': 1.0,\n",
       " '3': 0.9999250234301781,\n",
       " '4': 0.9996570644718793,\n",
       " '5': 0.9994376757263355,\n",
       " '6': 0.999923792104862,\n",
       " '7': 0.9997713763145862,\n",
       " '8': 0.9952317150063051,\n",
       " '9': 0.9995808565767414}"
      ]
     },
     "execution_count": 17,
     "metadata": {},
     "output_type": "execute_result"
    }
   ],
   "source": [
    "roc_auc_dict"
   ]
  },
  {
   "cell_type": "code",
   "execution_count": 18,
   "id": "2672ac1e",
   "metadata": {
    "execution": {
     "iopub.execute_input": "2022-07-21T06:51:42.318274Z",
     "iopub.status.busy": "2022-07-21T06:51:42.318072Z",
     "iopub.status.idle": "2022-07-21T06:51:42.321516Z",
     "shell.execute_reply": "2022-07-21T06:51:42.321026Z"
    },
    "papermill": {
     "duration": 0.012243,
     "end_time": "2022-07-21T06:51:42.324365",
     "exception": false,
     "start_time": "2022-07-21T06:51:42.312122",
     "status": "completed"
    },
    "tags": []
   },
   "outputs": [
    {
     "name": "stdout",
     "output_type": "stream",
     "text": [
      " - Logging roc_auc_per_digit (json) : {'0': 1.0, '1': 0.998912839737582, '2': 1.0, '3': 0.9999250234301781, '4': 0.9996570644718793, '5': 0.9994376757263355, '6': 0.999923792104862, '7': 0.9997713763145862, '8': 0.9952317150063051, '9': 0.9995808565767414}\n"
     ]
    }
   ],
   "source": [
    "logger.log_value(\"roc_auc_per_digit\", roc_auc_dict)"
   ]
  },
  {
   "cell_type": "markdown",
   "id": "66f5e464",
   "metadata": {
    "papermill": {
     "duration": 0.004711,
     "end_time": "2022-07-21T06:51:42.334091",
     "exception": false,
     "start_time": "2022-07-21T06:51:42.329380",
     "status": "completed"
    },
    "tags": []
   },
   "source": [
    "### Compute and log mean ROC AUC score averaged over all digits"
   ]
  },
  {
   "cell_type": "code",
   "execution_count": 19,
   "id": "db013d41",
   "metadata": {
    "execution": {
     "iopub.execute_input": "2022-07-21T06:51:42.349853Z",
     "iopub.status.busy": "2022-07-21T06:51:42.349227Z",
     "iopub.status.idle": "2022-07-21T06:51:42.363073Z",
     "shell.execute_reply": "2022-07-21T06:51:42.362579Z"
    },
    "papermill": {
     "duration": 0.02495,
     "end_time": "2022-07-21T06:51:42.364744",
     "exception": false,
     "start_time": "2022-07-21T06:51:42.339794",
     "status": "completed"
    },
    "tags": []
   },
   "outputs": [
    {
     "name": "stdout",
     "output_type": "stream",
     "text": [
      " - Logging roc_auc_class_mean (float) : 0.9992440343368469\n"
     ]
    }
   ],
   "source": [
    "roc_auc_macro = np.mean(list(roc_auc_dict.values()))\n",
    "\n",
    "logger.log_float(\"roc_auc_class_mean\", roc_auc_macro)\n",
    "\n",
    "# assert that the same value can be computed directly using sklearn\n",
    "assert roc_auc_macro == metrics.roc_auc_score(\n",
    "    y_test, y_pred_probs_test, average=\"macro\", multi_class=\"ovr\"\n",
    ")"
   ]
  },
  {
   "cell_type": "code",
   "execution_count": 20,
   "id": "4fbb141e",
   "metadata": {
    "execution": {
     "iopub.execute_input": "2022-07-21T06:51:42.375959Z",
     "iopub.status.busy": "2022-07-21T06:51:42.375747Z",
     "iopub.status.idle": "2022-07-21T06:51:42.378310Z",
     "shell.execute_reply": "2022-07-21T06:51:42.377822Z"
    },
    "lines_to_next_cell": 0,
    "papermill": {
     "duration": 0.010397,
     "end_time": "2022-07-21T06:51:42.380443",
     "exception": false,
     "start_time": "2022-07-21T06:51:42.370046",
     "status": "completed"
    },
    "tags": []
   },
   "outputs": [],
   "source": [
    "# ---"
   ]
  },
  {
   "cell_type": "code",
   "execution_count": null,
   "id": "8a06fd24",
   "metadata": {
    "papermill": {
     "duration": 0.004973,
     "end_time": "2022-07-21T06:51:42.390693",
     "exception": false,
     "start_time": "2022-07-21T06:51:42.385720",
     "status": "completed"
    },
    "tags": []
   },
   "outputs": [],
   "source": []
  }
 ],
 "metadata": {
  "jupytext": {
   "cell_metadata_filter": "tags,-all",
   "main_language": "python",
   "notebook_metadata_filter": "-all"
  },
  "language_info": {
   "codemirror_mode": {
    "name": "ipython",
    "version": 3
   },
   "file_extension": ".py",
   "mimetype": "text/x-python",
   "name": "python",
   "nbconvert_exporter": "python",
   "pygments_lexer": "ipython3",
   "version": "3.8.10"
  },
  "papermill": {
   "default_parameters": {},
   "duration": 9.005178,
   "end_time": "2022-07-21T06:51:43.518142",
   "environment_variables": {},
   "exception": null,
   "input_path": "/home/host_user/workspace/mnist-demo-pipeline/mnist-demo-pipeline/notebooks/temp-notebook-gp1k8ffe.ipynb",
   "output_path": "notebooks/benchmark-model.ipynb",
   "parameters": {
    "P": {
     "_opentelemetry_traceparent": "00-6f24b26aec5f4e42995b162b1295bd39-add42ce1eabc640b-01",
     "pipeline.data_lake_root": "/pipeline-outputs/data-lake",
     "pipeline.github.actor": "matiasdahl",
     "pipeline.github.base_ref": "",
     "pipeline.github.event_name": "schedule",
     "pipeline.github.head_ref": "",
     "pipeline.github.job": "run-tests-pipeline-and-persist-pipeline-outputs",
     "pipeline.github.ref": "refs/heads/development",
     "pipeline.github.ref_name": "development",
     "pipeline.github.ref_type": "branch",
     "pipeline.github.repository": "pynb-dag-runner/mnist-digits-demo-pipeline",
     "pipeline.github.run_id": "2709861045",
     "pipeline.github.runner_name": "Hosted Agent",
     "pipeline.github.sha": "5a6f90a9473b3095841d5b5dc7b58f5f049a0f71",
     "pipeline.github.workflow": "Run automated tests, pipeline and deploy results to static reporting site",
     "pipeline.pipeline_run_id": "4a731c87-d022-48c4-abbf-330a6402e8e3",
     "pipeline.run_environment": "ci",
     "run.retry_nr": "0",
     "task.max_nr_retries": "1",
     "task.notebook": "notebooks/benchmark-model.py",
     "task.nr_train_images": 1000,
     "task.num_cpus": 1,
     "task.timeout_s": "None"
    }
   },
   "start_time": "2022-07-21T06:51:34.512964",
   "version": "2.3.3"
  }
 },
 "nbformat": 4,
 "nbformat_minor": 5
}