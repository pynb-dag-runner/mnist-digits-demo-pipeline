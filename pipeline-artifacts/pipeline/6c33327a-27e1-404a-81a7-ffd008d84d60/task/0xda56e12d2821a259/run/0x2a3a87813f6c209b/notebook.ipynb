{
 "cells": [
  {
   "cell_type": "markdown",
   "id": "f9c1bb47",
   "metadata": {
    "papermill": {
     "duration": 0.008096,
     "end_time": "2022-07-07T14:13:48.708525",
     "exception": false,
     "start_time": "2022-07-07T14:13:48.700429",
     "status": "completed"
    },
    "tags": []
   },
   "source": [
    "# Benchmark model\n",
    "\n",
    "The purpose of this notebook is to benchmark persisted onnx-model (trained in the\n",
    "previous step) against evaluation set."
   ]
  },
  {
   "cell_type": "markdown",
   "id": "89defd87",
   "metadata": {
    "papermill": {
     "duration": 0.004661,
     "end_time": "2022-07-07T14:13:48.719106",
     "exception": false,
     "start_time": "2022-07-07T14:13:48.714445",
     "status": "completed"
    },
    "tags": []
   },
   "source": [
    "### Determine run parameters"
   ]
  },
  {
   "cell_type": "code",
   "execution_count": 1,
   "id": "b443b1a9",
   "metadata": {
    "execution": {
     "iopub.execute_input": "2022-07-07T14:13:48.730951Z",
     "iopub.status.busy": "2022-07-07T14:13:48.730595Z",
     "iopub.status.idle": "2022-07-07T14:13:48.742734Z",
     "shell.execute_reply": "2022-07-07T14:13:48.741765Z"
    },
    "lines_to_next_cell": 0,
    "papermill": {
     "duration": 0.020985,
     "end_time": "2022-07-07T14:13:48.745425",
     "exception": false,
     "start_time": "2022-07-07T14:13:48.724440",
     "status": "completed"
    },
    "tags": []
   },
   "outputs": [],
   "source": [
    "# ----------------- Parameters for interactive development --------------\n",
    "P = {\n",
    "    \"pipeline.data_lake_root\": \"/pipeline-outputs/data-lake\",\n",
    "    \"task.nr_train_images\": 600,\n",
    "}"
   ]
  },
  {
   "cell_type": "code",
   "execution_count": 2,
   "id": "a216b9ee",
   "metadata": {
    "execution": {
     "iopub.execute_input": "2022-07-07T14:13:48.756102Z",
     "iopub.status.busy": "2022-07-07T14:13:48.755727Z",
     "iopub.status.idle": "2022-07-07T14:13:48.759396Z",
     "shell.execute_reply": "2022-07-07T14:13:48.758819Z"
    },
    "lines_to_next_cell": 0,
    "papermill": {
     "duration": 0.013117,
     "end_time": "2022-07-07T14:13:48.762961",
     "exception": false,
     "start_time": "2022-07-07T14:13:48.749844",
     "status": "completed"
    },
    "tags": [
     "parameters"
    ]
   },
   "outputs": [],
   "source": [
    "# - During automated runs parameters will be injected in the below cell -"
   ]
  },
  {
   "cell_type": "code",
   "execution_count": 3,
   "id": "447b7f77",
   "metadata": {
    "execution": {
     "iopub.execute_input": "2022-07-07T14:13:48.776359Z",
     "iopub.status.busy": "2022-07-07T14:13:48.775305Z",
     "iopub.status.idle": "2022-07-07T14:13:48.781745Z",
     "shell.execute_reply": "2022-07-07T14:13:48.781180Z"
    },
    "papermill": {
     "duration": 0.016976,
     "end_time": "2022-07-07T14:13:48.785093",
     "exception": false,
     "start_time": "2022-07-07T14:13:48.768117",
     "status": "completed"
    },
    "tags": [
     "injected-parameters"
    ]
   },
   "outputs": [],
   "source": [
    "# Parameters\n",
    "P = {\n",
    "    \"pipeline.data_lake_root\": \"/pipeline-outputs/data-lake\",\n",
    "    \"pipeline.run_environment\": \"ci\",\n",
    "    \"pipeline.pipeline_run_id\": \"6c33327a-27e1-404a-81a7-ffd008d84d60\",\n",
    "    \"pipeline.github.repository\": \"pynb-dag-runner/mnist-digits-demo-pipeline\",\n",
    "    \"pipeline.github.workflow\": \"Run automated tests, pipeline and deploy results to static reporting site\",\n",
    "    \"pipeline.github.runner_name\": \"GitHub Actions 2\",\n",
    "    \"pipeline.github.run_id\": \"2630104459\",\n",
    "    \"pipeline.github.actor\": \"matiasdahl\",\n",
    "    \"pipeline.github.job\": \"run-tests-pipeline-and-persist-pipeline-outputs\",\n",
    "    \"pipeline.github.base_ref\": \"development\",\n",
    "    \"pipeline.github.head_ref\": \"try-C-hyperparameter\",\n",
    "    \"pipeline.github.sha\": \"1c817c9dee14ac98f14dda197d89dc60a81cf438\",\n",
    "    \"pipeline.github.ref\": \"refs/pull/55/merge\",\n",
    "    \"pipeline.github.ref_type\": \"branch\",\n",
    "    \"pipeline.github.ref_name\": \"55/merge\",\n",
    "    \"pipeline.github.event_name\": \"pull_request\",\n",
    "    \"task.nr_train_images\": 600,\n",
    "    \"task.notebook\": \"notebooks/benchmark-model.py\",\n",
    "    \"task.max_nr_retries\": \"1\",\n",
    "    \"run.retry_nr\": \"0\",\n",
    "    \"task.timeout_s\": \"None\",\n",
    "    \"task.num_cpus\": 1,\n",
    "    \"_opentelemetry_traceparent\": \"00-ae4c0ddb7a61dbf5c3ae6948e197b9ab-a6b2c1dcbd28b4b8-01\",\n",
    "}\n"
   ]
  },
  {
   "cell_type": "code",
   "execution_count": 4,
   "id": "16f4046a",
   "metadata": {
    "execution": {
     "iopub.execute_input": "2022-07-07T14:13:48.797248Z",
     "iopub.status.busy": "2022-07-07T14:13:48.796954Z",
     "iopub.status.idle": "2022-07-07T14:13:48.800536Z",
     "shell.execute_reply": "2022-07-07T14:13:48.799927Z"
    },
    "lines_to_next_cell": 0,
    "papermill": {
     "duration": 0.0136,
     "end_time": "2022-07-07T14:13:48.803989",
     "exception": false,
     "start_time": "2022-07-07T14:13:48.790389",
     "status": "completed"
    },
    "tags": []
   },
   "outputs": [],
   "source": [
    "# -----------------------------------------------------------------------"
   ]
  },
  {
   "cell_type": "markdown",
   "id": "a848c70e",
   "metadata": {
    "papermill": {
     "duration": 0.013451,
     "end_time": "2022-07-07T14:13:48.828152",
     "exception": false,
     "start_time": "2022-07-07T14:13:48.814701",
     "status": "completed"
    },
    "tags": []
   },
   "source": [
    "---"
   ]
  },
  {
   "cell_type": "markdown",
   "id": "409bb7d9",
   "metadata": {
    "lines_to_next_cell": 2,
    "papermill": {
     "duration": 0.005757,
     "end_time": "2022-07-07T14:13:48.838621",
     "exception": false,
     "start_time": "2022-07-07T14:13:48.832864",
     "status": "completed"
    },
    "tags": []
   },
   "source": [
    "### Notebook code"
   ]
  },
  {
   "cell_type": "code",
   "execution_count": 5,
   "id": "428f4987",
   "metadata": {
    "execution": {
     "iopub.execute_input": "2022-07-07T14:13:48.850207Z",
     "iopub.status.busy": "2022-07-07T14:13:48.849838Z",
     "iopub.status.idle": "2022-07-07T14:13:50.640549Z",
     "shell.execute_reply": "2022-07-07T14:13:50.639862Z"
    },
    "papermill": {
     "duration": 1.80441,
     "end_time": "2022-07-07T14:13:50.648519",
     "exception": false,
     "start_time": "2022-07-07T14:13:48.844109",
     "status": "completed"
    },
    "tags": []
   },
   "outputs": [
    {
     "name": "stderr",
     "output_type": "stream",
     "text": [
      "2022-07-07 14:13:50,004\tINFO worker.py:842 -- Connecting to existing Ray cluster at address: 172.17.0.2:6379\n"
     ]
    }
   ],
   "source": [
    "import itertools as it\n",
    "\n",
    "#\n",
    "import numpy as np\n",
    "import matplotlib.pyplot as plt\n",
    "\n",
    "#\n",
    "from pynb_dag_runner.tasks.task_opentelemetry_logging import PydarLogger\n",
    "\n",
    "#\n",
    "from common.io import datalake_root\n",
    "\n",
    "logger = PydarLogger(P)"
   ]
  },
  {
   "cell_type": "markdown",
   "id": "49a1713d",
   "metadata": {
    "papermill": {
     "duration": 0.005007,
     "end_time": "2022-07-07T14:13:50.659952",
     "exception": false,
     "start_time": "2022-07-07T14:13:50.654945",
     "status": "completed"
    },
    "tags": []
   },
   "source": [
    "## Load persisted onnx-model and evaluation data"
   ]
  },
  {
   "cell_type": "code",
   "execution_count": 6,
   "id": "6d53de59",
   "metadata": {
    "execution": {
     "iopub.execute_input": "2022-07-07T14:13:50.671604Z",
     "iopub.status.busy": "2022-07-07T14:13:50.671181Z",
     "iopub.status.idle": "2022-07-07T14:13:50.675939Z",
     "shell.execute_reply": "2022-07-07T14:13:50.675310Z"
    },
    "papermill": {
     "duration": 0.014014,
     "end_time": "2022-07-07T14:13:50.679505",
     "exception": false,
     "start_time": "2022-07-07T14:13:50.665491",
     "status": "completed"
    },
    "tags": []
   },
   "outputs": [],
   "source": [
    "from common.io import read_onnx, get_onnx_inputs, get_onnx_outputs, read_numpy"
   ]
  },
  {
   "cell_type": "code",
   "execution_count": 7,
   "id": "94cd073e",
   "metadata": {
    "execution": {
     "iopub.execute_input": "2022-07-07T14:13:50.691469Z",
     "iopub.status.busy": "2022-07-07T14:13:50.691183Z",
     "iopub.status.idle": "2022-07-07T14:13:50.707419Z",
     "shell.execute_reply": "2022-07-07T14:13:50.706784Z"
    },
    "lines_to_next_cell": 0,
    "papermill": {
     "duration": 0.024527,
     "end_time": "2022-07-07T14:13:50.709580",
     "exception": false,
     "start_time": "2022-07-07T14:13:50.685053",
     "status": "completed"
    },
    "tags": []
   },
   "outputs": [],
   "source": [
    "onnx_inference_session = read_onnx(\n",
    "    datalake_root(P)\n",
    "    / \"models\"\n",
    "    / f\"nr_train_images={P['task.nr_train_images']}\"\n",
    "    / \"model.onnx\"\n",
    ")"
   ]
  },
  {
   "cell_type": "markdown",
   "id": "57fd843a",
   "metadata": {
    "papermill": {
     "duration": 0.0049,
     "end_time": "2022-07-07T14:13:50.720917",
     "exception": false,
     "start_time": "2022-07-07T14:13:50.716017",
     "status": "completed"
    },
    "tags": []
   },
   "source": [
    "### Record structure of inputs and outputs for ONNX model\n",
    "\n",
    "(this should likely be done in training notebook)"
   ]
  },
  {
   "cell_type": "code",
   "execution_count": 8,
   "id": "ed6dab4b",
   "metadata": {
    "execution": {
     "iopub.execute_input": "2022-07-07T14:13:50.732790Z",
     "iopub.status.busy": "2022-07-07T14:13:50.732480Z",
     "iopub.status.idle": "2022-07-07T14:13:50.741826Z",
     "shell.execute_reply": "2022-07-07T14:13:50.741186Z"
    },
    "papermill": {
     "duration": 0.018473,
     "end_time": "2022-07-07T14:13:50.745015",
     "exception": false,
     "start_time": "2022-07-07T14:13:50.726542",
     "status": "completed"
    },
    "tags": []
   },
   "outputs": [
    {
     "name": "stdout",
     "output_type": "stream",
     "text": [
      "{\n",
      "  \"inputs\": [\n",
      "    {\n",
      "      \"name\": \"float_input_8x8_image\",\n",
      "      \"shape\": [\n",
      "        null,\n",
      "        64\n",
      "      ],\n",
      "      \"type\": \"tensor(float)\"\n",
      "    }\n",
      "  ],\n",
      "  \"outputs\": [\n",
      "    {\n",
      "      \"name\": \"output_label\",\n",
      "      \"shape\": [\n",
      "        null\n",
      "      ],\n",
      "      \"type\": \"tensor(int64)\"\n",
      "    },\n",
      "    {\n",
      "      \"name\": \"output_probability\",\n",
      "      \"shape\": [],\n",
      "      \"type\": \"seq(map(int64,tensor(float)))\"\n",
      "    }\n",
      "  ]\n",
      "}\n"
     ]
    }
   ],
   "source": [
    "import json\n",
    "\n",
    "onnx_io = json.dumps(\n",
    "    {\n",
    "        \"inputs\": get_onnx_inputs(onnx_inference_session),\n",
    "        \"outputs\": get_onnx_outputs(onnx_inference_session),\n",
    "    },\n",
    "    indent=2,\n",
    ")\n",
    "\n",
    "\n",
    "logger.log_artefact(\"onnx_io_structure.json\", onnx_io)\n",
    "print(onnx_io)"
   ]
  },
  {
   "cell_type": "markdown",
   "id": "8ecbe895",
   "metadata": {
    "papermill": {
     "duration": 0.005764,
     "end_time": "2022-07-07T14:13:50.756657",
     "exception": false,
     "start_time": "2022-07-07T14:13:50.750893",
     "status": "completed"
    },
    "tags": []
   },
   "source": [
    "### Evaluate model performance on evaluation data set"
   ]
  },
  {
   "cell_type": "code",
   "execution_count": 9,
   "id": "9761eb99",
   "metadata": {
    "execution": {
     "iopub.execute_input": "2022-07-07T14:13:50.769501Z",
     "iopub.status.busy": "2022-07-07T14:13:50.769182Z",
     "iopub.status.idle": "2022-07-07T14:13:50.774522Z",
     "shell.execute_reply": "2022-07-07T14:13:50.773860Z"
    },
    "papermill": {
     "duration": 0.017017,
     "end_time": "2022-07-07T14:13:50.778881",
     "exception": false,
     "start_time": "2022-07-07T14:13:50.761864",
     "status": "completed"
    },
    "tags": []
   },
   "outputs": [],
   "source": [
    "# load evaluation data\n",
    "X_test = read_numpy(datalake_root(P) / \"test-data\" / \"digits.numpy\")\n",
    "y_test = read_numpy(datalake_root(P) / \"test-data\" / \"labels.numpy\")"
   ]
  },
  {
   "cell_type": "code",
   "execution_count": 10,
   "id": "cf4ba42e",
   "metadata": {
    "execution": {
     "iopub.execute_input": "2022-07-07T14:13:50.791213Z",
     "iopub.status.busy": "2022-07-07T14:13:50.790906Z",
     "iopub.status.idle": "2022-07-07T14:13:50.807210Z",
     "shell.execute_reply": "2022-07-07T14:13:50.806409Z"
    },
    "papermill": {
     "duration": 0.025695,
     "end_time": "2022-07-07T14:13:50.809530",
     "exception": false,
     "start_time": "2022-07-07T14:13:50.783835",
     "status": "completed"
    },
    "tags": []
   },
   "outputs": [],
   "source": [
    "def get_model_outputs(X, onnx_inference_session):\n",
    "    y_pred_labels, y_pred_map = onnx_inference_session.run(\n",
    "        [\"output_label\", \"output_probability\"],\n",
    "        {\"float_input_8x8_image\": X.astype(np.float32)},\n",
    "    )\n",
    "    y_pred_probs = np.array(\n",
    "        [[probabilities[digit] for digit in range(10)] for probabilities in y_pred_map]\n",
    "    )\n",
    "\n",
    "    assert y_pred_labels.shape == (X.shape[0],)\n",
    "    assert y_pred_probs.shape == (X.shape[0], 10)\n",
    "\n",
    "    return y_pred_labels, y_pred_probs\n",
    "\n",
    "\n",
    "# Note: as shown in the training notebook, the predicted labels and probabilities\n",
    "# computed below need not be compatible.\n",
    "y_pred_labels_test, y_pred_probs_test = get_model_outputs(\n",
    "    X_test, onnx_inference_session\n",
    ")"
   ]
  },
  {
   "cell_type": "markdown",
   "id": "c9076f22",
   "metadata": {
    "papermill": {
     "duration": 0.006016,
     "end_time": "2022-07-07T14:13:50.820910",
     "exception": false,
     "start_time": "2022-07-07T14:13:50.814894",
     "status": "completed"
    },
    "tags": []
   },
   "source": [
    "### Confusion matrix"
   ]
  },
  {
   "cell_type": "code",
   "execution_count": 11,
   "id": "74661a87",
   "metadata": {
    "execution": {
     "iopub.execute_input": "2022-07-07T14:13:50.836882Z",
     "iopub.status.busy": "2022-07-07T14:13:50.836531Z",
     "iopub.status.idle": "2022-07-07T14:13:50.841079Z",
     "shell.execute_reply": "2022-07-07T14:13:50.840410Z"
    },
    "papermill": {
     "duration": 0.017521,
     "end_time": "2022-07-07T14:13:50.844343",
     "exception": false,
     "start_time": "2022-07-07T14:13:50.826822",
     "status": "completed"
    },
    "tags": []
   },
   "outputs": [],
   "source": [
    "# TODO"
   ]
  },
  {
   "cell_type": "markdown",
   "id": "bb552b1b",
   "metadata": {
    "papermill": {
     "duration": 0.005351,
     "end_time": "2022-07-07T14:13:50.856168",
     "exception": false,
     "start_time": "2022-07-07T14:13:50.850817",
     "status": "completed"
    },
    "tags": []
   },
   "source": [
    "### Plot predicted probabilities for each classifier over all evaluation digit images"
   ]
  },
  {
   "cell_type": "code",
   "execution_count": 12,
   "id": "d7021eee",
   "metadata": {
    "execution": {
     "iopub.execute_input": "2022-07-07T14:13:50.869325Z",
     "iopub.status.busy": "2022-07-07T14:13:50.868989Z",
     "iopub.status.idle": "2022-07-07T14:13:54.984356Z",
     "shell.execute_reply": "2022-07-07T14:13:54.983440Z"
    },
    "papermill": {
     "duration": 4.123696,
     "end_time": "2022-07-07T14:13:54.986159",
     "exception": false,
     "start_time": "2022-07-07T14:13:50.862463",
     "status": "completed"
    },
    "tags": []
   },
   "outputs": [
    {
     "data": {
      "image/png": "[encoded data removed]",
      "text/plain": [
       "<Figure size 1152x432 with 10 Axes>"
      ]
     },
     "metadata": {
      "needs_background": "light"
     },
     "output_type": "display_data"
    }
   ],
   "source": [
    "def plot_per_digit_probabilities(y_pred_probs):\n",
    "    fig, axs = plt.subplots(nrows=2, ncols=5, figsize=(16, 6))\n",
    "\n",
    "    for (r, c), digit, ax in zip(\n",
    "        it.product(range(2), range(5)), range(10), axs.reshape(-1)\n",
    "    ):\n",
    "        ax.hist(y_pred_probs_test[:, digit], bins=20)\n",
    "\n",
    "        ax.set_title(f\"Digit {digit}\")\n",
    "        if r == 1 and c == 2:\n",
    "            ax.set_xlabel(\"probability\", fontsize=16)\n",
    "\n",
    "        if c == 0:\n",
    "            ax.set_ylabel(\"counts\", fontsize=16)\n",
    "        ax.set_yscale(\"log\")\n",
    "\n",
    "    fig.tight_layout()\n",
    "    fig.suptitle(\n",
    "        f\"Distributions of prediction probabilities for each digit \"\n",
    "        f\"(on evaluation data, n={y_pred_probs.shape[0]})\",\n",
    "        fontsize=20,\n",
    "    )\n",
    "    fig.tight_layout()\n",
    "    fig.show()\n",
    "\n",
    "    return fig\n",
    "\n",
    "\n",
    "fig = plot_per_digit_probabilities(y_pred_probs_test)"
   ]
  },
  {
   "cell_type": "markdown",
   "id": "279b6c83",
   "metadata": {
    "papermill": {
     "duration": 0.005596,
     "end_time": "2022-07-07T14:13:54.997501",
     "exception": false,
     "start_time": "2022-07-07T14:13:54.991905",
     "status": "completed"
    },
    "tags": []
   },
   "source": [
    "From the above distributions we see that most digits have clear separation between\n",
    "high and lower probabilities. Morover, in each case there is roughly an order of\n",
    "magnitude more of digits with low probabilities. This is compatible with digits\n",
    "being roughly evenly distributed in the data."
   ]
  },
  {
   "cell_type": "code",
   "execution_count": 13,
   "id": "f69c379f",
   "metadata": {
    "execution": {
     "iopub.execute_input": "2022-07-07T14:13:55.011183Z",
     "iopub.status.busy": "2022-07-07T14:13:55.010818Z",
     "iopub.status.idle": "2022-07-07T14:13:55.572436Z",
     "shell.execute_reply": "2022-07-07T14:13:55.571551Z"
    },
    "papermill": {
     "duration": 0.571182,
     "end_time": "2022-07-07T14:13:55.575003",
     "exception": false,
     "start_time": "2022-07-07T14:13:55.003821",
     "status": "completed"
    },
    "tags": []
   },
   "outputs": [],
   "source": [
    "logger.log_figure(\"per-digit-probabilities.png\", fig)"
   ]
  },
  {
   "cell_type": "markdown",
   "id": "483bf820",
   "metadata": {
    "papermill": {
     "duration": 0.005782,
     "end_time": "2022-07-07T14:13:55.587419",
     "exception": false,
     "start_time": "2022-07-07T14:13:55.581637",
     "status": "completed"
    },
    "tags": []
   },
   "source": [
    "### Plot ROC curves for individual one-vs-rest classifiers"
   ]
  },
  {
   "cell_type": "code",
   "execution_count": 14,
   "id": "ac19e147",
   "metadata": {
    "execution": {
     "iopub.execute_input": "2022-07-07T14:13:55.602021Z",
     "iopub.status.busy": "2022-07-07T14:13:55.601317Z",
     "iopub.status.idle": "2022-07-07T14:13:56.158295Z",
     "shell.execute_reply": "2022-07-07T14:13:56.157442Z"
    },
    "papermill": {
     "duration": 0.56708,
     "end_time": "2022-07-07T14:13:56.160494",
     "exception": false,
     "start_time": "2022-07-07T14:13:55.593414",
     "status": "completed"
    },
    "tags": []
   },
   "outputs": [],
   "source": [
    "from sklearn import metrics"
   ]
  },
  {
   "cell_type": "code",
   "execution_count": 15,
   "id": "7c441361",
   "metadata": {
    "execution": {
     "iopub.execute_input": "2022-07-07T14:13:56.175592Z",
     "iopub.status.busy": "2022-07-07T14:13:56.175297Z",
     "iopub.status.idle": "2022-07-07T14:13:57.562312Z",
     "shell.execute_reply": "2022-07-07T14:13:57.561262Z"
    },
    "papermill": {
     "duration": 1.39678,
     "end_time": "2022-07-07T14:13:57.565052",
     "exception": false,
     "start_time": "2022-07-07T14:13:56.168272",
     "status": "completed"
    },
    "tags": []
   },
   "outputs": [
    {
     "data": {
      "image/png": "[encoded data removed]",
      "text/plain": [
       "<Figure size 1152x576 with 10 Axes>"
      ]
     },
     "metadata": {
      "needs_background": "light"
     },
     "output_type": "display_data"
    }
   ],
   "source": [
    "def plot_roc_curves(y, y_pred_probs):\n",
    "    # based on example code\n",
    "    # https://scikit-learn.org/stable/auto_examples/model_selection/plot_roc.html\n",
    "\n",
    "    fig, axs = plt.subplots(nrows=2, ncols=5, figsize=(16, 8))\n",
    "\n",
    "    roc_auc_dict = {}\n",
    "\n",
    "    for (r, c), digit, ax in zip(\n",
    "        it.product(range(2), range(5)), range(10), axs.reshape(-1)\n",
    "    ):\n",
    "        fpr, tpr, _ = metrics.roc_curve(y == digit, y_pred_probs[:, digit])\n",
    "        auc = metrics.auc(fpr, tpr)\n",
    "        roc_auc_dict[str(digit)] = auc\n",
    "\n",
    "        ax.plot(fpr, tpr, label=f\"ROC AUC={round(auc, 3)}\")\n",
    "\n",
    "        ax.set_title(f\"\\nDigit {digit}\", fontsize=16)\n",
    "        if r == 1:\n",
    "            ax.set_xlabel(\"FPR\", fontsize=18)\n",
    "\n",
    "        if c == 0:\n",
    "            ax.set_ylabel(\"TPR\", fontsize=18)\n",
    "\n",
    "        ax.set_xlim([-0.05, 1.05])\n",
    "        ax.set_ylim([-0.05, 1.05])\n",
    "        ax.legend(loc=\"lower right\", frameon=False, fontsize=14)\n",
    "\n",
    "    fig.tight_layout()\n",
    "    fig.suptitle(\n",
    "        f\"ROC plots for one-vs-rest performances \"\n",
    "        f\"(on evaluation data, n={y_pred_probs_test.shape[1]}\",\n",
    "        fontsize=22,\n",
    "    )\n",
    "    fig.tight_layout()\n",
    "    fig.show()\n",
    "\n",
    "    return roc_auc_dict, fig\n",
    "\n",
    "\n",
    "roc_auc_dict, fig = plot_roc_curves(y_test, y_pred_probs_test)"
   ]
  },
  {
   "cell_type": "code",
   "execution_count": 16,
   "id": "7fb98a76",
   "metadata": {
    "execution": {
     "iopub.execute_input": "2022-07-07T14:13:57.580766Z",
     "iopub.status.busy": "2022-07-07T14:13:57.580297Z",
     "iopub.status.idle": "2022-07-07T14:13:57.857979Z",
     "shell.execute_reply": "2022-07-07T14:13:57.856666Z"
    },
    "papermill": {
     "duration": 0.288326,
     "end_time": "2022-07-07T14:13:57.860336",
     "exception": false,
     "start_time": "2022-07-07T14:13:57.572010",
     "status": "completed"
    },
    "tags": []
   },
   "outputs": [],
   "source": [
    "logger.log_figure(\"per-digit-roc-curves.png\", fig)"
   ]
  },
  {
   "cell_type": "code",
   "execution_count": 17,
   "id": "dd56696b",
   "metadata": {
    "execution": {
     "iopub.execute_input": "2022-07-07T14:13:57.876542Z",
     "iopub.status.busy": "2022-07-07T14:13:57.875700Z",
     "iopub.status.idle": "2022-07-07T14:13:57.882351Z",
     "shell.execute_reply": "2022-07-07T14:13:57.881266Z"
    },
    "papermill": {
     "duration": 0.017634,
     "end_time": "2022-07-07T14:13:57.885714",
     "exception": false,
     "start_time": "2022-07-07T14:13:57.868080",
     "status": "completed"
    },
    "tags": []
   },
   "outputs": [
    {
     "data": {
      "text/plain": [
       "{'0': 1.0,\n",
       " '1': 0.9995876288659794,\n",
       " '2': 1.0,\n",
       " '3': 0.9996626054358013,\n",
       " '4': 1.0,\n",
       " '5': 0.9987628865979381,\n",
       " '6': 0.999961896052431,\n",
       " '7': 0.9998856881572931,\n",
       " '8': 0.9933401639344261,\n",
       " '9': 0.998856881572931}"
      ]
     },
     "execution_count": 17,
     "metadata": {},
     "output_type": "execute_result"
    }
   ],
   "source": [
    "roc_auc_dict"
   ]
  },
  {
   "cell_type": "code",
   "execution_count": 18,
   "id": "3ab129c7",
   "metadata": {
    "execution": {
     "iopub.execute_input": "2022-07-07T14:13:57.910783Z",
     "iopub.status.busy": "2022-07-07T14:13:57.909469Z",
     "iopub.status.idle": "2022-07-07T14:13:57.915046Z",
     "shell.execute_reply": "2022-07-07T14:13:57.914263Z"
    },
    "papermill": {
     "duration": 0.01721,
     "end_time": "2022-07-07T14:13:57.917958",
     "exception": false,
     "start_time": "2022-07-07T14:13:57.900748",
     "status": "completed"
    },
    "tags": []
   },
   "outputs": [
    {
     "name": "stdout",
     "output_type": "stream",
     "text": [
      " - Logging roc_auc_per_digit (json) : {'0': 1.0, '1': 0.9995876288659794, '2': 1.0, '3': 0.9996626054358013, '4': 1.0, '5': 0.9987628865979381, '6': 0.999961896052431, '7': 0.9998856881572931, '8': 0.9933401639344261, '9': 0.998856881572931}\n"
     ]
    }
   ],
   "source": [
    "logger.log_value(\"roc_auc_per_digit\", roc_auc_dict)"
   ]
  },
  {
   "cell_type": "markdown",
   "id": "4f1ed449",
   "metadata": {
    "papermill": {
     "duration": 0.007396,
     "end_time": "2022-07-07T14:13:57.932803",
     "exception": false,
     "start_time": "2022-07-07T14:13:57.925407",
     "status": "completed"
    },
    "tags": []
   },
   "source": [
    "### Compute and log mean ROC AUC score averaged over all digits"
   ]
  },
  {
   "cell_type": "code",
   "execution_count": 19,
   "id": "df163cb1",
   "metadata": {
    "execution": {
     "iopub.execute_input": "2022-07-07T14:13:57.955022Z",
     "iopub.status.busy": "2022-07-07T14:13:57.954427Z",
     "iopub.status.idle": "2022-07-07T14:13:57.970448Z",
     "shell.execute_reply": "2022-07-07T14:13:57.969426Z"
    },
    "papermill": {
     "duration": 0.025542,
     "end_time": "2022-07-07T14:13:57.972547",
     "exception": false,
     "start_time": "2022-07-07T14:13:57.947005",
     "status": "completed"
    },
    "tags": []
   },
   "outputs": [
    {
     "name": "stdout",
     "output_type": "stream",
     "text": [
      " - Logging roc_auc_class_mean (float) : 0.9990057750616799\n"
     ]
    }
   ],
   "source": [
    "roc_auc_macro = np.mean(list(roc_auc_dict.values()))\n",
    "\n",
    "logger.log_float(\"roc_auc_class_mean\", roc_auc_macro)\n",
    "\n",
    "# assert that the same value can be computed directly using sklearn\n",
    "assert roc_auc_macro == metrics.roc_auc_score(\n",
    "    y_test, y_pred_probs_test, average=\"macro\", multi_class=\"ovr\"\n",
    ")"
   ]
  },
  {
   "cell_type": "code",
   "execution_count": 20,
   "id": "3ba1ea19",
   "metadata": {
    "execution": {
     "iopub.execute_input": "2022-07-07T14:13:57.999583Z",
     "iopub.status.busy": "2022-07-07T14:13:57.999169Z",
     "iopub.status.idle": "2022-07-07T14:13:58.003155Z",
     "shell.execute_reply": "2022-07-07T14:13:58.002283Z"
    },
    "lines_to_next_cell": 0,
    "papermill": {
     "duration": 0.025005,
     "end_time": "2022-07-07T14:13:58.005521",
     "exception": false,
     "start_time": "2022-07-07T14:13:57.980516",
     "status": "completed"
    },
    "tags": []
   },
   "outputs": [],
   "source": [
    "# ---"
   ]
  },
  {
   "cell_type": "code",
   "execution_count": null,
   "id": "e550c9d0",
   "metadata": {
    "papermill": {
     "duration": 0.007386,
     "end_time": "2022-07-07T14:13:58.020262",
     "exception": false,
     "start_time": "2022-07-07T14:13:58.012876",
     "status": "completed"
    },
    "tags": []
   },
   "outputs": [],
   "source": []
  }
 ],
 "metadata": {
  "jupytext": {
   "cell_metadata_filter": "tags,-all",
   "main_language": "python",
   "notebook_metadata_filter": "-all"
  },
  "language_info": {
   "codemirror_mode": {
    "name": "ipython",
    "version": 3
   },
   "file_extension": ".py",
   "mimetype": "text/x-python",
   "name": "python",
   "nbconvert_exporter": "python",
   "pygments_lexer": "ipython3",
   "version": "3.8.10"
  },
  "papermill": {
   "default_parameters": {},
   "duration": 12.30487,
   "end_time": "2022-07-07T14:13:59.348326",
   "environment_variables": {},
   "exception": null,
   "input_path": "/home/host_user/workspace/mnist-demo-pipeline/mnist-demo-pipeline/notebooks/temp-notebook-y1m56mz0.ipynb",
   "output_path": "notebooks/benchmark-model.ipynb",
   "parameters": {
    "P": {
     "_opentelemetry_traceparent": "00-ae4c0ddb7a61dbf5c3ae6948e197b9ab-a6b2c1dcbd28b4b8-01",
     "pipeline.data_lake_root": "/pipeline-outputs/data-lake",
     "pipeline.github.actor": "matiasdahl",
     "pipeline.github.base_ref": "development",
     "pipeline.github.event_name": "pull_request",
     "pipeline.github.head_ref": "try-C-hyperparameter",
     "pipeline.github.job": "run-tests-pipeline-and-persist-pipeline-outputs",
     "pipeline.github.ref": "refs/pull/55/merge",
     "pipeline.github.ref_name": "55/merge",
     "pipeline.github.ref_type": "branch",
     "pipeline.github.repository": "pynb-dag-runner/mnist-digits-demo-pipeline",
     "pipeline.github.run_id": "2630104459",
     "pipeline.github.runner_name": "GitHub Actions 2",
     "pipeline.github.sha": "1c817c9dee14ac98f14dda197d89dc60a81cf438",
     "pipeline.github.workflow": "Run automated tests, pipeline and deploy results to static reporting site",
     "pipeline.pipeline_run_id": "6c33327a-27e1-404a-81a7-ffd008d84d60",
     "pipeline.run_environment": "ci",
     "run.retry_nr": "0",
     "task.max_nr_retries": "1",
     "task.notebook": "notebooks/benchmark-model.py",
     "task.nr_train_images": 600,
     "task.num_cpus": 1,
     "task.timeout_s": "None"
    }
   },
   "start_time": "2022-07-07T14:13:47.043456",
   "version": "2.3.3"
  }
 },
 "nbformat": 4,
 "nbformat_minor": 5
}