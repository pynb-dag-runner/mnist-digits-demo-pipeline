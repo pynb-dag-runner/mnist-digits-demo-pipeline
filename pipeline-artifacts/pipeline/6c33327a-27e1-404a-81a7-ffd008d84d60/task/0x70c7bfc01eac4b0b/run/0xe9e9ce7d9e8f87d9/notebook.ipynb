{
 "cells": [
  {
   "cell_type": "markdown",
   "id": "ef269081",
   "metadata": {
    "papermill": {
     "duration": 0.006991,
     "end_time": "2022-07-07T14:13:46.660554",
     "exception": false,
     "start_time": "2022-07-07T14:13:46.653563",
     "status": "completed"
    },
    "tags": []
   },
   "source": [
    "# Train model\n",
    "\n",
    "The purpose of this notebook is:\n",
    "\n",
    "- Load all training data (images and labels).\n",
    "- Limit number of train images to `task.nr_train_images` (value provided as run parameter).\n",
    "- Train a support vector machine model using sklearn.\n",
    "- Persist the trained model using the ONNX format."
   ]
  },
  {
   "cell_type": "markdown",
   "id": "9186d47e",
   "metadata": {
    "papermill": {
     "duration": 0.005873,
     "end_time": "2022-07-07T14:13:46.670299",
     "exception": false,
     "start_time": "2022-07-07T14:13:46.664426",
     "status": "completed"
    },
    "tags": []
   },
   "source": [
    "### Determine run parameters"
   ]
  },
  {
   "cell_type": "code",
   "execution_count": 1,
   "id": "5d5cde68",
   "metadata": {
    "execution": {
     "iopub.execute_input": "2022-07-07T14:13:46.680786Z",
     "iopub.status.busy": "2022-07-07T14:13:46.679582Z",
     "iopub.status.idle": "2022-07-07T14:13:46.692253Z",
     "shell.execute_reply": "2022-07-07T14:13:46.691588Z"
    },
    "lines_to_next_cell": 0,
    "papermill": {
     "duration": 0.020701,
     "end_time": "2022-07-07T14:13:46.694396",
     "exception": false,
     "start_time": "2022-07-07T14:13:46.673695",
     "status": "completed"
    },
    "tags": []
   },
   "outputs": [],
   "source": [
    "# ----------------- Parameters for interactive development --------------\n",
    "P = {\n",
    "    \"pipeline.data_lake_root\": \"/pipeline-outputs/data-lake\",\n",
    "    \"task.nr_train_images\": 600,\n",
    "}"
   ]
  },
  {
   "cell_type": "code",
   "execution_count": 2,
   "id": "104e9aac",
   "metadata": {
    "execution": {
     "iopub.execute_input": "2022-07-07T14:13:46.704383Z",
     "iopub.status.busy": "2022-07-07T14:13:46.704090Z",
     "iopub.status.idle": "2022-07-07T14:13:46.708145Z",
     "shell.execute_reply": "2022-07-07T14:13:46.707003Z"
    },
    "lines_to_next_cell": 0,
    "papermill": {
     "duration": 0.013207,
     "end_time": "2022-07-07T14:13:46.711805",
     "exception": false,
     "start_time": "2022-07-07T14:13:46.698598",
     "status": "completed"
    },
    "tags": [
     "parameters"
    ]
   },
   "outputs": [],
   "source": [
    "# - During automated runs parameters will be injected in the below cell -"
   ]
  },
  {
   "cell_type": "code",
   "execution_count": 3,
   "id": "f2280465",
   "metadata": {
    "execution": {
     "iopub.execute_input": "2022-07-07T14:13:46.726077Z",
     "iopub.status.busy": "2022-07-07T14:13:46.725767Z",
     "iopub.status.idle": "2022-07-07T14:13:46.733121Z",
     "shell.execute_reply": "2022-07-07T14:13:46.732484Z"
    },
    "papermill": {
     "duration": 0.021796,
     "end_time": "2022-07-07T14:13:46.736946",
     "exception": false,
     "start_time": "2022-07-07T14:13:46.715150",
     "status": "completed"
    },
    "tags": [
     "injected-parameters"
    ]
   },
   "outputs": [],
   "source": [
    "# Parameters\n",
    "P = {\n",
    "    \"pipeline.data_lake_root\": \"/pipeline-outputs/data-lake\",\n",
    "    \"pipeline.run_environment\": \"ci\",\n",
    "    \"pipeline.pipeline_run_id\": \"6c33327a-27e1-404a-81a7-ffd008d84d60\",\n",
    "    \"pipeline.github.repository\": \"pynb-dag-runner/mnist-digits-demo-pipeline\",\n",
    "    \"pipeline.github.workflow\": \"Run automated tests, pipeline and deploy results to static reporting site\",\n",
    "    \"pipeline.github.runner_name\": \"GitHub Actions 2\",\n",
    "    \"pipeline.github.run_id\": \"2630104459\",\n",
    "    \"pipeline.github.actor\": \"matiasdahl\",\n",
    "    \"pipeline.github.job\": \"run-tests-pipeline-and-persist-pipeline-outputs\",\n",
    "    \"pipeline.github.base_ref\": \"development\",\n",
    "    \"pipeline.github.head_ref\": \"try-C-hyperparameter\",\n",
    "    \"pipeline.github.sha\": \"1c817c9dee14ac98f14dda197d89dc60a81cf438\",\n",
    "    \"pipeline.github.ref\": \"refs/pull/55/merge\",\n",
    "    \"pipeline.github.ref_type\": \"branch\",\n",
    "    \"pipeline.github.ref_name\": \"55/merge\",\n",
    "    \"pipeline.github.event_name\": \"pull_request\",\n",
    "    \"task.nr_train_images\": 1000,\n",
    "    \"task.notebook\": \"notebooks/train-model.py\",\n",
    "    \"task.max_nr_retries\": \"1\",\n",
    "    \"run.retry_nr\": \"0\",\n",
    "    \"task.timeout_s\": \"None\",\n",
    "    \"task.num_cpus\": 1,\n",
    "    \"_opentelemetry_traceparent\": \"00-ae4c0ddb7a61dbf5c3ae6948e197b9ab-a9a32c29c84cd53b-01\",\n",
    "}\n"
   ]
  },
  {
   "cell_type": "code",
   "execution_count": 4,
   "id": "94b5e55b",
   "metadata": {
    "execution": {
     "iopub.execute_input": "2022-07-07T14:13:46.746378Z",
     "iopub.status.busy": "2022-07-07T14:13:46.746094Z",
     "iopub.status.idle": "2022-07-07T14:13:46.749663Z",
     "shell.execute_reply": "2022-07-07T14:13:46.749085Z"
    },
    "lines_to_next_cell": 0,
    "papermill": {
     "duration": 0.012702,
     "end_time": "2022-07-07T14:13:46.753523",
     "exception": false,
     "start_time": "2022-07-07T14:13:46.740821",
     "status": "completed"
    },
    "tags": []
   },
   "outputs": [],
   "source": [
    "# -----------------------------------------------------------------------"
   ]
  },
  {
   "cell_type": "markdown",
   "id": "358404c8",
   "metadata": {
    "papermill": {
     "duration": 0.00355,
     "end_time": "2022-07-07T14:13:46.760861",
     "exception": false,
     "start_time": "2022-07-07T14:13:46.757311",
     "status": "completed"
    },
    "tags": []
   },
   "source": [
    "---"
   ]
  },
  {
   "cell_type": "markdown",
   "id": "0fb4baa4",
   "metadata": {
    "lines_to_next_cell": 2,
    "papermill": {
     "duration": 0.003448,
     "end_time": "2022-07-07T14:13:46.768317",
     "exception": false,
     "start_time": "2022-07-07T14:13:46.764869",
     "status": "completed"
    },
    "tags": []
   },
   "source": [
    "### Notebook code"
   ]
  },
  {
   "cell_type": "code",
   "execution_count": 5,
   "id": "0f0305ce",
   "metadata": {
    "execution": {
     "iopub.execute_input": "2022-07-07T14:13:46.776908Z",
     "iopub.status.busy": "2022-07-07T14:13:46.776656Z",
     "iopub.status.idle": "2022-07-07T14:13:47.449993Z",
     "shell.execute_reply": "2022-07-07T14:13:47.449285Z"
    },
    "papermill": {
     "duration": 0.682966,
     "end_time": "2022-07-07T14:13:47.454772",
     "exception": false,
     "start_time": "2022-07-07T14:13:46.771806",
     "status": "completed"
    },
    "tags": []
   },
   "outputs": [
    {
     "name": "stderr",
     "output_type": "stream",
     "text": [
      "2022-07-07 14:13:47,246\tINFO worker.py:842 -- Connecting to existing Ray cluster at address: 172.17.0.2:6379\n"
     ]
    }
   ],
   "source": [
    "from pynb_dag_runner.tasks.task_opentelemetry_logging import PydarLogger\n",
    "\n",
    "logger = PydarLogger(P)"
   ]
  },
  {
   "cell_type": "markdown",
   "id": "4b54d8e9",
   "metadata": {
    "papermill": {
     "duration": 0.003342,
     "end_time": "2022-07-07T14:13:47.463222",
     "exception": false,
     "start_time": "2022-07-07T14:13:47.459880",
     "status": "completed"
    },
    "tags": []
   },
   "source": [
    "## Load and limit train data"
   ]
  },
  {
   "cell_type": "code",
   "execution_count": 6,
   "id": "092a9cfd",
   "metadata": {
    "execution": {
     "iopub.execute_input": "2022-07-07T14:13:47.474959Z",
     "iopub.status.busy": "2022-07-07T14:13:47.474576Z",
     "iopub.status.idle": "2022-07-07T14:13:47.980951Z",
     "shell.execute_reply": "2022-07-07T14:13:47.980204Z"
    },
    "papermill": {
     "duration": 0.513805,
     "end_time": "2022-07-07T14:13:47.983648",
     "exception": false,
     "start_time": "2022-07-07T14:13:47.469843",
     "status": "completed"
    },
    "tags": []
   },
   "outputs": [],
   "source": [
    "def load_and_limit_train_data(P):\n",
    "    from common.io import datalake_root, read_numpy\n",
    "    from sklearn.model_selection import train_test_split\n",
    "\n",
    "    X_train_all = read_numpy(datalake_root(P) / \"train-data\" / \"digits.numpy\")\n",
    "    y_train_all = read_numpy(datalake_root(P) / \"train-data\" / \"labels.numpy\")\n",
    "\n",
    "    assert isinstance(P[\"task.nr_train_images\"], int)\n",
    "\n",
    "    # Note: train_test_split will fail if split is 0 or 100%.\n",
    "    assert 0 < P[\"task.nr_train_images\"] < len(y_train_all)\n",
    "\n",
    "    X_train, _, y_train, _ = train_test_split(\n",
    "        X_train_all,\n",
    "        y_train_all,\n",
    "        train_size=P[\"task.nr_train_images\"],\n",
    "        test_size=None,\n",
    "        stratify=y_train_all,\n",
    "        shuffle=True,\n",
    "        random_state=123,\n",
    "    )\n",
    "\n",
    "    assert X_train.shape == (len(y_train), 8 * 8)\n",
    "    return X_train, y_train\n",
    "\n",
    "\n",
    "X_train, y_train = load_and_limit_train_data(P)"
   ]
  },
  {
   "cell_type": "markdown",
   "id": "78f50aa5",
   "metadata": {
    "papermill": {
     "duration": 0.003745,
     "end_time": "2022-07-07T14:13:47.993709",
     "exception": false,
     "start_time": "2022-07-07T14:13:47.989964",
     "status": "completed"
    },
    "tags": []
   },
   "source": [
    "## Train support vector classifier model\n",
    "\n",
    "Below we assume that the hyperparameter $C$ is known.\n",
    "\n",
    "However, this should ideally be found by a hyperparameter search. That could be\n",
    "done in parallel on the Ray cluster, but this needs some more work. Ie., to use\n",
    "multiple cores in the notebook, those cores should be reserved when starting the\n",
    "notebook task (TODO).\n",
    "\n",
    "- https://docs.ray.io/en/latest/tune/key-concepts.html\n",
    "\n",
    "Note: cv-scores would need to be computed here, since they depend on the train data.\n",
    "After this notebook only the onnx-model is available."
   ]
  },
  {
   "cell_type": "code",
   "execution_count": 7,
   "id": "f82d999b",
   "metadata": {
    "execution": {
     "iopub.execute_input": "2022-07-07T14:13:48.002399Z",
     "iopub.status.busy": "2022-07-07T14:13:48.002092Z",
     "iopub.status.idle": "2022-07-07T14:13:48.028565Z",
     "shell.execute_reply": "2022-07-07T14:13:48.027928Z"
    },
    "papermill": {
     "duration": 0.03302,
     "end_time": "2022-07-07T14:13:48.030708",
     "exception": false,
     "start_time": "2022-07-07T14:13:47.997688",
     "status": "completed"
    },
    "tags": []
   },
   "outputs": [],
   "source": [
    "from sklearn.svm import SVC"
   ]
  },
  {
   "cell_type": "code",
   "execution_count": 8,
   "id": "878a29ee",
   "metadata": {
    "execution": {
     "iopub.execute_input": "2022-07-07T14:13:48.040518Z",
     "iopub.status.busy": "2022-07-07T14:13:48.040011Z",
     "iopub.status.idle": "2022-07-07T14:13:48.226850Z",
     "shell.execute_reply": "2022-07-07T14:13:48.224694Z"
    },
    "papermill": {
     "duration": 0.193794,
     "end_time": "2022-07-07T14:13:48.228878",
     "exception": false,
     "start_time": "2022-07-07T14:13:48.035084",
     "status": "completed"
    },
    "tags": []
   },
   "outputs": [
    {
     "data": {
      "text/plain": [
       "SVC(C=0.1, kernel='linear', probability=True)"
      ]
     },
     "execution_count": 8,
     "metadata": {},
     "output_type": "execute_result"
    }
   ],
   "source": [
    "model = SVC(C=0.1, kernel=\"linear\", probability=True)\n",
    "\n",
    "model.fit(X_train, y_train)"
   ]
  },
  {
   "cell_type": "markdown",
   "id": "758bd626",
   "metadata": {
    "papermill": {
     "duration": 0.004383,
     "end_time": "2022-07-07T14:13:48.238316",
     "exception": false,
     "start_time": "2022-07-07T14:13:48.233933",
     "status": "completed"
    },
    "tags": []
   },
   "source": [
    "### Q: Can the labels returned by `predict(..)` be computed from probabilities returned by the `predict_prob`-method?"
   ]
  },
  {
   "cell_type": "code",
   "execution_count": 9,
   "id": "c1776a5c",
   "metadata": {
    "execution": {
     "iopub.execute_input": "2022-07-07T14:13:48.247938Z",
     "iopub.status.busy": "2022-07-07T14:13:48.247581Z",
     "iopub.status.idle": "2022-07-07T14:13:48.336361Z",
     "shell.execute_reply": "2022-07-07T14:13:48.335512Z"
    },
    "papermill": {
     "duration": 0.096325,
     "end_time": "2022-07-07T14:13:48.338516",
     "exception": false,
     "start_time": "2022-07-07T14:13:48.242191",
     "status": "completed"
    },
    "tags": []
   },
   "outputs": [
    {
     "name": "stdout",
     "output_type": "stream",
     "text": [
      " - Logging nr_max_prob_neq_label (int) : 0\n"
     ]
    }
   ],
   "source": [
    "import numpy as np\n",
    "\n",
    "y_train_labels = model.predict(X_train)\n",
    "y_train_probabilities = model.predict_proba(X_train)\n",
    "assert y_train_probabilities.shape == (len(y_train), 10)\n",
    "\n",
    "y_train_max_prob_labels = np.argmax(y_train_probabilities, axis=1)\n",
    "assert y_train_labels.shape == y_train_max_prob_labels.shape == y_train.shape\n",
    "\n",
    "# If the predicted labels would coincide with the labels that have\n",
    "# maximum probability, the below number would be zero\n",
    "logger.log_int(\n",
    "    \"nr_max_prob_neq_label\", int(sum(y_train_max_prob_labels != y_train_labels))\n",
    ")"
   ]
  },
  {
   "cell_type": "markdown",
   "id": "3382fbb3",
   "metadata": {
    "papermill": {
     "duration": 0.003841,
     "end_time": "2022-07-07T14:13:48.346176",
     "exception": false,
     "start_time": "2022-07-07T14:13:48.342335",
     "status": "completed"
    },
    "tags": []
   },
   "source": [
    "The explanation is (likely) explained in the SVC source, see\n",
    "[here](https://github.com/scikit-learn/scikit-learn/blob/main/sklearn/svm/_base.py).\n",
    "Namely, the outputs from `predict(..)` and `predict_proba(..)` may not in some\n",
    "cases be compatible since the latter is computed using cross-validation while\n",
    "the former is not. Thus, the above number need not be zero."
   ]
  },
  {
   "cell_type": "markdown",
   "id": "6296ddec",
   "metadata": {
    "papermill": {
     "duration": 0.00357,
     "end_time": "2022-07-07T14:13:48.353543",
     "exception": false,
     "start_time": "2022-07-07T14:13:48.349973",
     "status": "completed"
    },
    "tags": []
   },
   "source": [
    "## Persist model"
   ]
  },
  {
   "cell_type": "code",
   "execution_count": 10,
   "id": "55c07355",
   "metadata": {
    "execution": {
     "iopub.execute_input": "2022-07-07T14:13:48.363220Z",
     "iopub.status.busy": "2022-07-07T14:13:48.362742Z",
     "iopub.status.idle": "2022-07-07T14:13:49.248072Z",
     "shell.execute_reply": "2022-07-07T14:13:49.247023Z"
    },
    "papermill": {
     "duration": 0.893245,
     "end_time": "2022-07-07T14:13:49.250570",
     "exception": false,
     "start_time": "2022-07-07T14:13:48.357325",
     "status": "completed"
    },
    "tags": []
   },
   "outputs": [],
   "source": [
    "from skl2onnx import convert_sklearn\n",
    "from skl2onnx.common.data_types import FloatTensorType\n",
    "\n",
    "#\n",
    "from common.io import datalake_root, write_onnx"
   ]
  },
  {
   "cell_type": "code",
   "execution_count": 11,
   "id": "1be5f9d0",
   "metadata": {
    "execution": {
     "iopub.execute_input": "2022-07-07T14:13:49.260716Z",
     "iopub.status.busy": "2022-07-07T14:13:49.260306Z",
     "iopub.status.idle": "2022-07-07T14:13:49.317223Z",
     "shell.execute_reply": "2022-07-07T14:13:49.316215Z"
    },
    "papermill": {
     "duration": 0.065611,
     "end_time": "2022-07-07T14:13:49.320414",
     "exception": false,
     "start_time": "2022-07-07T14:13:49.254803",
     "status": "completed"
    },
    "tags": []
   },
   "outputs": [],
   "source": [
    "# convert sklearn model into onnx and persist to data lake\n",
    "\n",
    "model_onnx = convert_sklearn(\n",
    "    model, initial_types=[(\"float_input_8x8_image\", FloatTensorType([None, 8 * 8]))]\n",
    ")\n",
    "write_onnx(\n",
    "    datalake_root(P)\n",
    "    / \"models\"\n",
    "    / f\"nr_train_images={P['task.nr_train_images']}\"\n",
    "    / \"model.onnx\",\n",
    "    model_onnx,\n",
    ")"
   ]
  },
  {
   "cell_type": "code",
   "execution_count": null,
   "id": "1990cc71",
   "metadata": {
    "papermill": {
     "duration": 0.00602,
     "end_time": "2022-07-07T14:13:49.330360",
     "exception": false,
     "start_time": "2022-07-07T14:13:49.324340",
     "status": "completed"
    },
    "tags": []
   },
   "outputs": [],
   "source": []
  }
 ],
 "metadata": {
  "jupytext": {
   "cell_metadata_filter": "tags,-all",
   "main_language": "python",
   "notebook_metadata_filter": "-all"
  },
  "language_info": {
   "codemirror_mode": {
    "name": "ipython",
    "version": 3
   },
   "file_extension": ".py",
   "mimetype": "text/x-python",
   "name": "python",
   "nbconvert_exporter": "python",
   "pygments_lexer": "ipython3",
   "version": "3.8.10"
  },
  "papermill": {
   "default_parameters": {},
   "duration": 6.027941,
   "end_time": "2022-07-07T14:13:51.000081",
   "environment_variables": {},
   "exception": null,
   "input_path": "/home/host_user/workspace/mnist-demo-pipeline/mnist-demo-pipeline/notebooks/temp-notebook-9qku3m0p.ipynb",
   "output_path": "notebooks/train-model.ipynb",
   "parameters": {
    "P": {
     "_opentelemetry_traceparent": "00-ae4c0ddb7a61dbf5c3ae6948e197b9ab-a9a32c29c84cd53b-01",
     "pipeline.data_lake_root": "/pipeline-outputs/data-lake",
     "pipeline.github.actor": "matiasdahl",
     "pipeline.github.base_ref": "development",
     "pipeline.github.event_name": "pull_request",
     "pipeline.github.head_ref": "try-C-hyperparameter",
     "pipeline.github.job": "run-tests-pipeline-and-persist-pipeline-outputs",
     "pipeline.github.ref": "refs/pull/55/merge",
     "pipeline.github.ref_name": "55/merge",
     "pipeline.github.ref_type": "branch",
     "pipeline.github.repository": "pynb-dag-runner/mnist-digits-demo-pipeline",
     "pipeline.github.run_id": "2630104459",
     "pipeline.github.runner_name": "GitHub Actions 2",
     "pipeline.github.sha": "1c817c9dee14ac98f14dda197d89dc60a81cf438",
     "pipeline.github.workflow": "Run automated tests, pipeline and deploy results to static reporting site",
     "pipeline.pipeline_run_id": "6c33327a-27e1-404a-81a7-ffd008d84d60",
     "pipeline.run_environment": "ci",
     "run.retry_nr": "0",
     "task.max_nr_retries": "1",
     "task.notebook": "notebooks/train-model.py",
     "task.nr_train_images": 1000,
     "task.num_cpus": 1,
     "task.timeout_s": "None"
    }
   },
   "start_time": "2022-07-07T14:13:44.972140",
   "version": "2.3.3"
  }
 },
 "nbformat": 4,
 "nbformat_minor": 5
}