{
 "cells": [
  {
   "cell_type": "markdown",
   "id": "a61a515f",
   "metadata": {
    "papermill": {
     "duration": 0.016464,
     "end_time": "2022-07-07T14:13:28.656515",
     "exception": false,
     "start_time": "2022-07-07T14:13:28.640051",
     "status": "completed"
    },
    "tags": []
   },
   "source": [
    "# Split digits and labels into separate training and testing data sets"
   ]
  },
  {
   "cell_type": "markdown",
   "id": "d003836c",
   "metadata": {
    "papermill": {
     "duration": 0.002913,
     "end_time": "2022-07-07T14:13:28.662379",
     "exception": false,
     "start_time": "2022-07-07T14:13:28.659466",
     "status": "completed"
    },
    "tags": []
   },
   "source": [
    "### Determine run parameters"
   ]
  },
  {
   "cell_type": "code",
   "execution_count": 1,
   "id": "dea5d228",
   "metadata": {
    "execution": {
     "iopub.execute_input": "2022-07-07T14:13:28.676102Z",
     "iopub.status.busy": "2022-07-07T14:13:28.675692Z",
     "iopub.status.idle": "2022-07-07T14:13:28.685296Z",
     "shell.execute_reply": "2022-07-07T14:13:28.684618Z"
    },
    "lines_to_next_cell": 0,
    "papermill": {
     "duration": 0.017335,
     "end_time": "2022-07-07T14:13:28.687333",
     "exception": false,
     "start_time": "2022-07-07T14:13:28.669998",
     "status": "completed"
    },
    "tags": []
   },
   "outputs": [],
   "source": [
    "# ----------------- Parameters for interactive development --------------\n",
    "P = {\n",
    "    \"pipeline.data_lake_root\": \"/pipeline-outputs/data-lake\",\n",
    "    \"task.train_test_ratio\": 0.7,\n",
    "}"
   ]
  },
  {
   "cell_type": "code",
   "execution_count": 2,
   "id": "5a42f618",
   "metadata": {
    "execution": {
     "iopub.execute_input": "2022-07-07T14:13:28.695430Z",
     "iopub.status.busy": "2022-07-07T14:13:28.694898Z",
     "iopub.status.idle": "2022-07-07T14:13:28.698508Z",
     "shell.execute_reply": "2022-07-07T14:13:28.697874Z"
    },
    "lines_to_next_cell": 0,
    "papermill": {
     "duration": 0.01145,
     "end_time": "2022-07-07T14:13:28.701463",
     "exception": false,
     "start_time": "2022-07-07T14:13:28.690013",
     "status": "completed"
    },
    "tags": [
     "parameters"
    ]
   },
   "outputs": [],
   "source": [
    "# - During automated runs parameters will be injected in the below cell -"
   ]
  },
  {
   "cell_type": "code",
   "execution_count": 3,
   "id": "5c619155",
   "metadata": {
    "execution": {
     "iopub.execute_input": "2022-07-07T14:13:28.708348Z",
     "iopub.status.busy": "2022-07-07T14:13:28.708088Z",
     "iopub.status.idle": "2022-07-07T14:13:28.716178Z",
     "shell.execute_reply": "2022-07-07T14:13:28.713463Z"
    },
    "papermill": {
     "duration": 0.018424,
     "end_time": "2022-07-07T14:13:28.722622",
     "exception": false,
     "start_time": "2022-07-07T14:13:28.704198",
     "status": "completed"
    },
    "tags": [
     "injected-parameters"
    ]
   },
   "outputs": [],
   "source": [
    "# Parameters\n",
    "P = {\n",
    "    \"pipeline.data_lake_root\": \"/pipeline-outputs/data-lake\",\n",
    "    \"pipeline.run_environment\": \"ci\",\n",
    "    \"pipeline.pipeline_run_id\": \"6c33327a-27e1-404a-81a7-ffd008d84d60\",\n",
    "    \"pipeline.github.repository\": \"pynb-dag-runner/mnist-digits-demo-pipeline\",\n",
    "    \"pipeline.github.workflow\": \"Run automated tests, pipeline and deploy results to static reporting site\",\n",
    "    \"pipeline.github.runner_name\": \"GitHub Actions 2\",\n",
    "    \"pipeline.github.run_id\": \"2630104459\",\n",
    "    \"pipeline.github.actor\": \"matiasdahl\",\n",
    "    \"pipeline.github.job\": \"run-tests-pipeline-and-persist-pipeline-outputs\",\n",
    "    \"pipeline.github.base_ref\": \"development\",\n",
    "    \"pipeline.github.head_ref\": \"try-C-hyperparameter\",\n",
    "    \"pipeline.github.sha\": \"1c817c9dee14ac98f14dda197d89dc60a81cf438\",\n",
    "    \"pipeline.github.ref\": \"refs/pull/55/merge\",\n",
    "    \"pipeline.github.ref_type\": \"branch\",\n",
    "    \"pipeline.github.ref_name\": \"55/merge\",\n",
    "    \"pipeline.github.event_name\": \"pull_request\",\n",
    "    \"task.train_test_ratio\": 0.7,\n",
    "    \"task.notebook\": \"notebooks/split-train-test.py\",\n",
    "    \"task.max_nr_retries\": \"1\",\n",
    "    \"run.retry_nr\": \"0\",\n",
    "    \"task.timeout_s\": \"None\",\n",
    "    \"task.num_cpus\": 1,\n",
    "    \"_opentelemetry_traceparent\": \"00-ae4c0ddb7a61dbf5c3ae6948e197b9ab-d1a4851b70837554-01\",\n",
    "}\n"
   ]
  },
  {
   "cell_type": "code",
   "execution_count": 4,
   "id": "6fa885f1",
   "metadata": {
    "execution": {
     "iopub.execute_input": "2022-07-07T14:13:28.729953Z",
     "iopub.status.busy": "2022-07-07T14:13:28.729661Z",
     "iopub.status.idle": "2022-07-07T14:13:28.732798Z",
     "shell.execute_reply": "2022-07-07T14:13:28.732157Z"
    },
    "lines_to_next_cell": 0,
    "papermill": {
     "duration": 0.011946,
     "end_time": "2022-07-07T14:13:28.737751",
     "exception": false,
     "start_time": "2022-07-07T14:13:28.725805",
     "status": "completed"
    },
    "tags": []
   },
   "outputs": [],
   "source": [
    "# -----------------------------------------------------------------------"
   ]
  },
  {
   "cell_type": "markdown",
   "id": "f9333fe9",
   "metadata": {
    "papermill": {
     "duration": 0.00278,
     "end_time": "2022-07-07T14:13:28.744175",
     "exception": false,
     "start_time": "2022-07-07T14:13:28.741395",
     "status": "completed"
    },
    "tags": []
   },
   "source": [
    "---"
   ]
  },
  {
   "cell_type": "markdown",
   "id": "661dc45f",
   "metadata": {
    "lines_to_next_cell": 2,
    "papermill": {
     "duration": 0.002792,
     "end_time": "2022-07-07T14:13:28.749948",
     "exception": false,
     "start_time": "2022-07-07T14:13:28.747156",
     "status": "completed"
    },
    "tags": []
   },
   "source": [
    "### Notebook code"
   ]
  },
  {
   "cell_type": "code",
   "execution_count": 5,
   "id": "8992cffb",
   "metadata": {
    "execution": {
     "iopub.execute_input": "2022-07-07T14:13:28.757895Z",
     "iopub.status.busy": "2022-07-07T14:13:28.757585Z",
     "iopub.status.idle": "2022-07-07T14:13:29.368493Z",
     "shell.execute_reply": "2022-07-07T14:13:29.367658Z"
    },
    "papermill": {
     "duration": 0.617509,
     "end_time": "2022-07-07T14:13:29.370502",
     "exception": false,
     "start_time": "2022-07-07T14:13:28.752993",
     "status": "completed"
    },
    "tags": []
   },
   "outputs": [
    {
     "name": "stderr",
     "output_type": "stream",
     "text": [
      "2022-07-07 14:13:29,166\tINFO worker.py:842 -- Connecting to existing Ray cluster at address: 172.17.0.2:6379\n"
     ]
    }
   ],
   "source": [
    "from common.io import datalake_root, read_numpy, write_numpy\n",
    "from pynb_dag_runner.tasks.task_opentelemetry_logging import PydarLogger\n",
    "\n",
    "logger = PydarLogger(P)"
   ]
  },
  {
   "cell_type": "markdown",
   "id": "ff3693be",
   "metadata": {
    "papermill": {
     "duration": 0.003659,
     "end_time": "2022-07-07T14:13:29.377792",
     "exception": false,
     "start_time": "2022-07-07T14:13:29.374133",
     "status": "completed"
    },
    "tags": []
   },
   "source": [
    "## Load and split digits data"
   ]
  },
  {
   "cell_type": "code",
   "execution_count": 6,
   "id": "ab11b751",
   "metadata": {
    "execution": {
     "iopub.execute_input": "2022-07-07T14:13:29.386449Z",
     "iopub.status.busy": "2022-07-07T14:13:29.386051Z",
     "iopub.status.idle": "2022-07-07T14:13:29.398723Z",
     "shell.execute_reply": "2022-07-07T14:13:29.397972Z"
    },
    "papermill": {
     "duration": 0.020144,
     "end_time": "2022-07-07T14:13:29.401066",
     "exception": false,
     "start_time": "2022-07-07T14:13:29.380922",
     "status": "completed"
    },
    "tags": []
   },
   "outputs": [],
   "source": [
    "X = read_numpy(datalake_root(P) / \"raw\" / \"digits.numpy\")\n",
    "y = read_numpy(datalake_root(P) / \"raw\" / \"labels.numpy\")"
   ]
  },
  {
   "cell_type": "code",
   "execution_count": 7,
   "id": "be66eb25",
   "metadata": {
    "execution": {
     "iopub.execute_input": "2022-07-07T14:13:29.408989Z",
     "iopub.status.busy": "2022-07-07T14:13:29.408717Z",
     "iopub.status.idle": "2022-07-07T14:13:29.926336Z",
     "shell.execute_reply": "2022-07-07T14:13:29.925565Z"
    },
    "papermill": {
     "duration": 0.5239,
     "end_time": "2022-07-07T14:13:29.928749",
     "exception": false,
     "start_time": "2022-07-07T14:13:29.404849",
     "status": "completed"
    },
    "tags": []
   },
   "outputs": [],
   "source": [
    "from sklearn.model_selection import train_test_split\n",
    "\n",
    "X_train, X_test, y_train, y_test = train_test_split(\n",
    "    X,\n",
    "    y,\n",
    "    train_size=P[\"task.train_test_ratio\"],\n",
    "    test_size=None,\n",
    "    stratify=y,\n",
    "    shuffle=True,\n",
    "    random_state=1,\n",
    ")\n",
    "\n",
    "# assert nr of pixels per image is the same for all image vectors\n",
    "assert X.shape[1] == X_train.shape[1] == X_test.shape[1]\n",
    "\n",
    "# assert that the (X, y)-pairs have compatible sizes (for both train and test)\n",
    "assert X_train.shape[0] == len(y_train)\n",
    "assert X_test.shape[0] == len(y_test)\n",
    "\n",
    "# assert that all data is used\n",
    "assert len(y) == len(y_train) + len(y_test)"
   ]
  },
  {
   "cell_type": "code",
   "execution_count": 8,
   "id": "eb17d803",
   "metadata": {
    "execution": {
     "iopub.execute_input": "2022-07-07T14:13:29.941069Z",
     "iopub.status.busy": "2022-07-07T14:13:29.940231Z",
     "iopub.status.idle": "2022-07-07T14:13:29.948662Z",
     "shell.execute_reply": "2022-07-07T14:13:29.948028Z"
    },
    "papermill": {
     "duration": 0.017482,
     "end_time": "2022-07-07T14:13:29.951470",
     "exception": false,
     "start_time": "2022-07-07T14:13:29.933988",
     "status": "completed"
    },
    "tags": []
   },
   "outputs": [
    {
     "name": "stdout",
     "output_type": "stream",
     "text": [
      " - Logging nr_digits_train (int) : 1257\n",
      " - Logging nr_digits_test (int) : 540\n"
     ]
    }
   ],
   "source": [
    "logger.log_int(\"nr_digits_train\", len(y_train))\n",
    "logger.log_int(\"nr_digits_test\", len(y_test))"
   ]
  },
  {
   "cell_type": "markdown",
   "id": "21ec5327",
   "metadata": {
    "papermill": {
     "duration": 0.003075,
     "end_time": "2022-07-07T14:13:29.957666",
     "exception": false,
     "start_time": "2022-07-07T14:13:29.954591",
     "status": "completed"
    },
    "tags": []
   },
   "source": [
    "### Persist training and test data sets to separate files"
   ]
  },
  {
   "cell_type": "code",
   "execution_count": 9,
   "id": "2fb62209",
   "metadata": {
    "execution": {
     "iopub.execute_input": "2022-07-07T14:13:29.965559Z",
     "iopub.status.busy": "2022-07-07T14:13:29.965273Z",
     "iopub.status.idle": "2022-07-07T14:13:29.971781Z",
     "shell.execute_reply": "2022-07-07T14:13:29.970957Z"
    },
    "papermill": {
     "duration": 0.016521,
     "end_time": "2022-07-07T14:13:29.977735",
     "exception": false,
     "start_time": "2022-07-07T14:13:29.961214",
     "status": "completed"
    },
    "tags": []
   },
   "outputs": [],
   "source": [
    "write_numpy(datalake_root(P) / \"train-data\" / \"digits.numpy\", X_train)\n",
    "write_numpy(datalake_root(P) / \"train-data\" / \"labels.numpy\", y_train)\n",
    "\n",
    "#\n",
    "write_numpy(datalake_root(P) / \"test-data\" / \"digits.numpy\", X_test)\n",
    "write_numpy(datalake_root(P) / \"test-data\" / \"labels.numpy\", y_test)"
   ]
  },
  {
   "cell_type": "code",
   "execution_count": null,
   "id": "5ce935b6",
   "metadata": {
    "papermill": {
     "duration": 0.003116,
     "end_time": "2022-07-07T14:13:29.984684",
     "exception": false,
     "start_time": "2022-07-07T14:13:29.981568",
     "status": "completed"
    },
    "tags": []
   },
   "outputs": [],
   "source": []
  }
 ],
 "metadata": {
  "jupytext": {
   "cell_metadata_filter": "tags,-all",
   "main_language": "python",
   "notebook_metadata_filter": "-all"
  },
  "language_info": {
   "codemirror_mode": {
    "name": "ipython",
    "version": 3
   },
   "file_extension": ".py",
   "mimetype": "text/x-python",
   "name": "python",
   "nbconvert_exporter": "python",
   "pygments_lexer": "ipython3",
   "version": "3.8.10"
  },
  "papermill": {
   "default_parameters": {},
   "duration": 3.997281,
   "end_time": "2022-07-07T14:13:30.914687",
   "environment_variables": {},
   "exception": null,
   "input_path": "/home/host_user/workspace/mnist-demo-pipeline/mnist-demo-pipeline/notebooks/temp-notebook-mz6xp8ac.ipynb",
   "output_path": "notebooks/split-train-test.ipynb",
   "parameters": {
    "P": {
     "_opentelemetry_traceparent": "00-ae4c0ddb7a61dbf5c3ae6948e197b9ab-d1a4851b70837554-01",
     "pipeline.data_lake_root": "/pipeline-outputs/data-lake",
     "pipeline.github.actor": "matiasdahl",
     "pipeline.github.base_ref": "development",
     "pipeline.github.event_name": "pull_request",
     "pipeline.github.head_ref": "try-C-hyperparameter",
     "pipeline.github.job": "run-tests-pipeline-and-persist-pipeline-outputs",
     "pipeline.github.ref": "refs/pull/55/merge",
     "pipeline.github.ref_name": "55/merge",
     "pipeline.github.ref_type": "branch",
     "pipeline.github.repository": "pynb-dag-runner/mnist-digits-demo-pipeline",
     "pipeline.github.run_id": "2630104459",
     "pipeline.github.runner_name": "GitHub Actions 2",
     "pipeline.github.sha": "1c817c9dee14ac98f14dda197d89dc60a81cf438",
     "pipeline.github.workflow": "Run automated tests, pipeline and deploy results to static reporting site",
     "pipeline.pipeline_run_id": "6c33327a-27e1-404a-81a7-ffd008d84d60",
     "pipeline.run_environment": "ci",
     "run.retry_nr": "0",
     "task.max_nr_retries": "1",
     "task.notebook": "notebooks/split-train-test.py",
     "task.num_cpus": 1,
     "task.timeout_s": "None",
     "task.train_test_ratio": 0.7
    }
   },
   "start_time": "2022-07-07T14:13:26.917406",
   "version": "2.3.3"
  }
 },
 "nbformat": 4,
 "nbformat_minor": 5
}