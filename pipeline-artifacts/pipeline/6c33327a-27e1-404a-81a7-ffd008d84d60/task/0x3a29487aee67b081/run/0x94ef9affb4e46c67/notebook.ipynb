{
 "cells": [
  {
   "cell_type": "markdown",
   "id": "9c066cc2",
   "metadata": {
    "papermill": {
     "duration": 0.006429,
     "end_time": "2022-07-07T14:13:54.238377",
     "exception": false,
     "start_time": "2022-07-07T14:13:54.231948",
     "status": "completed"
    },
    "tags": []
   },
   "source": [
    "# Benchmark model\n",
    "\n",
    "The purpose of this notebook is to benchmark persisted onnx-model (trained in the\n",
    "previous step) against evaluation set."
   ]
  },
  {
   "cell_type": "markdown",
   "id": "d4857307",
   "metadata": {
    "papermill": {
     "duration": 0.005498,
     "end_time": "2022-07-07T14:13:54.251120",
     "exception": false,
     "start_time": "2022-07-07T14:13:54.245622",
     "status": "completed"
    },
    "tags": []
   },
   "source": [
    "### Determine run parameters"
   ]
  },
  {
   "cell_type": "code",
   "execution_count": 1,
   "id": "269531d6",
   "metadata": {
    "execution": {
     "iopub.execute_input": "2022-07-07T14:13:54.262050Z",
     "iopub.status.busy": "2022-07-07T14:13:54.261671Z",
     "iopub.status.idle": "2022-07-07T14:13:54.269319Z",
     "shell.execute_reply": "2022-07-07T14:13:54.268693Z"
    },
    "lines_to_next_cell": 0,
    "papermill": {
     "duration": 0.015682,
     "end_time": "2022-07-07T14:13:54.271546",
     "exception": false,
     "start_time": "2022-07-07T14:13:54.255864",
     "status": "completed"
    },
    "tags": []
   },
   "outputs": [],
   "source": [
    "# ----------------- Parameters for interactive development --------------\n",
    "P = {\n",
    "    \"pipeline.data_lake_root\": \"/pipeline-outputs/data-lake\",\n",
    "    \"task.nr_train_images\": 600,\n",
    "}"
   ]
  },
  {
   "cell_type": "code",
   "execution_count": 2,
   "id": "6dde5f60",
   "metadata": {
    "execution": {
     "iopub.execute_input": "2022-07-07T14:13:54.283104Z",
     "iopub.status.busy": "2022-07-07T14:13:54.282840Z",
     "iopub.status.idle": "2022-07-07T14:13:54.286153Z",
     "shell.execute_reply": "2022-07-07T14:13:54.285570Z"
    },
    "lines_to_next_cell": 0,
    "papermill": {
     "duration": 0.012061,
     "end_time": "2022-07-07T14:13:54.289171",
     "exception": false,
     "start_time": "2022-07-07T14:13:54.277110",
     "status": "completed"
    },
    "tags": [
     "parameters"
    ]
   },
   "outputs": [],
   "source": [
    "# - During automated runs parameters will be injected in the below cell -"
   ]
  },
  {
   "cell_type": "code",
   "execution_count": 3,
   "id": "14fcc7c0",
   "metadata": {
    "execution": {
     "iopub.execute_input": "2022-07-07T14:13:54.305343Z",
     "iopub.status.busy": "2022-07-07T14:13:54.305080Z",
     "iopub.status.idle": "2022-07-07T14:13:54.312159Z",
     "shell.execute_reply": "2022-07-07T14:13:54.311448Z"
    },
    "papermill": {
     "duration": 0.021543,
     "end_time": "2022-07-07T14:13:54.315336",
     "exception": false,
     "start_time": "2022-07-07T14:13:54.293793",
     "status": "completed"
    },
    "tags": [
     "injected-parameters"
    ]
   },
   "outputs": [],
   "source": [
    "# Parameters\n",
    "P = {\n",
    "    \"pipeline.data_lake_root\": \"/pipeline-outputs/data-lake\",\n",
    "    \"pipeline.run_environment\": \"ci\",\n",
    "    \"pipeline.pipeline_run_id\": \"6c33327a-27e1-404a-81a7-ffd008d84d60\",\n",
    "    \"pipeline.github.repository\": \"pynb-dag-runner/mnist-digits-demo-pipeline\",\n",
    "    \"pipeline.github.workflow\": \"Run automated tests, pipeline and deploy results to static reporting site\",\n",
    "    \"pipeline.github.runner_name\": \"GitHub Actions 2\",\n",
    "    \"pipeline.github.run_id\": \"2630104459\",\n",
    "    \"pipeline.github.actor\": \"matiasdahl\",\n",
    "    \"pipeline.github.job\": \"run-tests-pipeline-and-persist-pipeline-outputs\",\n",
    "    \"pipeline.github.base_ref\": \"development\",\n",
    "    \"pipeline.github.head_ref\": \"try-C-hyperparameter\",\n",
    "    \"pipeline.github.sha\": \"1c817c9dee14ac98f14dda197d89dc60a81cf438\",\n",
    "    \"pipeline.github.ref\": \"refs/pull/55/merge\",\n",
    "    \"pipeline.github.ref_type\": \"branch\",\n",
    "    \"pipeline.github.ref_name\": \"55/merge\",\n",
    "    \"pipeline.github.event_name\": \"pull_request\",\n",
    "    \"task.nr_train_images\": 1200,\n",
    "    \"task.notebook\": \"notebooks/benchmark-model.py\",\n",
    "    \"task.max_nr_retries\": \"1\",\n",
    "    \"run.retry_nr\": \"0\",\n",
    "    \"task.timeout_s\": \"None\",\n",
    "    \"task.num_cpus\": 1,\n",
    "    \"_opentelemetry_traceparent\": \"00-ae4c0ddb7a61dbf5c3ae6948e197b9ab-c1fab92d4bbd73ef-01\",\n",
    "}\n"
   ]
  },
  {
   "cell_type": "code",
   "execution_count": 4,
   "id": "35398d81",
   "metadata": {
    "execution": {
     "iopub.execute_input": "2022-07-07T14:13:54.326407Z",
     "iopub.status.busy": "2022-07-07T14:13:54.326161Z",
     "iopub.status.idle": "2022-07-07T14:13:54.329470Z",
     "shell.execute_reply": "2022-07-07T14:13:54.328733Z"
    },
    "lines_to_next_cell": 0,
    "papermill": {
     "duration": 0.013711,
     "end_time": "2022-07-07T14:13:54.334076",
     "exception": false,
     "start_time": "2022-07-07T14:13:54.320365",
     "status": "completed"
    },
    "tags": []
   },
   "outputs": [],
   "source": [
    "# -----------------------------------------------------------------------"
   ]
  },
  {
   "cell_type": "markdown",
   "id": "e1d2749b",
   "metadata": {
    "papermill": {
     "duration": 0.007014,
     "end_time": "2022-07-07T14:13:54.345447",
     "exception": false,
     "start_time": "2022-07-07T14:13:54.338433",
     "status": "completed"
    },
    "tags": []
   },
   "source": [
    "---"
   ]
  },
  {
   "cell_type": "markdown",
   "id": "75d6da65",
   "metadata": {
    "lines_to_next_cell": 2,
    "papermill": {
     "duration": 0.004758,
     "end_time": "2022-07-07T14:13:54.356474",
     "exception": false,
     "start_time": "2022-07-07T14:13:54.351716",
     "status": "completed"
    },
    "tags": []
   },
   "source": [
    "### Notebook code"
   ]
  },
  {
   "cell_type": "code",
   "execution_count": 5,
   "id": "5cf1c16f",
   "metadata": {
    "execution": {
     "iopub.execute_input": "2022-07-07T14:13:54.367736Z",
     "iopub.status.busy": "2022-07-07T14:13:54.366906Z",
     "iopub.status.idle": "2022-07-07T14:13:55.693420Z",
     "shell.execute_reply": "2022-07-07T14:13:55.692126Z"
    },
    "papermill": {
     "duration": 1.334956,
     "end_time": "2022-07-07T14:13:55.695791",
     "exception": false,
     "start_time": "2022-07-07T14:13:54.360835",
     "status": "completed"
    },
    "tags": []
   },
   "outputs": [
    {
     "name": "stderr",
     "output_type": "stream",
     "text": [
      "2022-07-07 14:13:55,502\tINFO worker.py:842 -- Connecting to existing Ray cluster at address: 172.17.0.2:6379\n"
     ]
    }
   ],
   "source": [
    "import itertools as it\n",
    "\n",
    "#\n",
    "import numpy as np\n",
    "import matplotlib.pyplot as plt\n",
    "\n",
    "#\n",
    "from pynb_dag_runner.tasks.task_opentelemetry_logging import PydarLogger\n",
    "\n",
    "#\n",
    "from common.io import datalake_root\n",
    "\n",
    "logger = PydarLogger(P)"
   ]
  },
  {
   "cell_type": "markdown",
   "id": "34378fac",
   "metadata": {
    "papermill": {
     "duration": 0.004856,
     "end_time": "2022-07-07T14:13:55.705482",
     "exception": false,
     "start_time": "2022-07-07T14:13:55.700626",
     "status": "completed"
    },
    "tags": []
   },
   "source": [
    "## Load persisted onnx-model and evaluation data"
   ]
  },
  {
   "cell_type": "code",
   "execution_count": 6,
   "id": "45ef8c3b",
   "metadata": {
    "execution": {
     "iopub.execute_input": "2022-07-07T14:13:55.716177Z",
     "iopub.status.busy": "2022-07-07T14:13:55.715741Z",
     "iopub.status.idle": "2022-07-07T14:13:55.719894Z",
     "shell.execute_reply": "2022-07-07T14:13:55.718987Z"
    },
    "papermill": {
     "duration": 0.012803,
     "end_time": "2022-07-07T14:13:55.722779",
     "exception": false,
     "start_time": "2022-07-07T14:13:55.709976",
     "status": "completed"
    },
    "tags": []
   },
   "outputs": [],
   "source": [
    "from common.io import read_onnx, get_onnx_inputs, get_onnx_outputs, read_numpy"
   ]
  },
  {
   "cell_type": "code",
   "execution_count": 7,
   "id": "5dedfd49",
   "metadata": {
    "execution": {
     "iopub.execute_input": "2022-07-07T14:13:55.733790Z",
     "iopub.status.busy": "2022-07-07T14:13:55.733505Z",
     "iopub.status.idle": "2022-07-07T14:13:55.746014Z",
     "shell.execute_reply": "2022-07-07T14:13:55.745123Z"
    },
    "lines_to_next_cell": 0,
    "papermill": {
     "duration": 0.020461,
     "end_time": "2022-07-07T14:13:55.747947",
     "exception": false,
     "start_time": "2022-07-07T14:13:55.727486",
     "status": "completed"
    },
    "tags": []
   },
   "outputs": [],
   "source": [
    "onnx_inference_session = read_onnx(\n",
    "    datalake_root(P)\n",
    "    / \"models\"\n",
    "    / f\"nr_train_images={P['task.nr_train_images']}\"\n",
    "    / \"model.onnx\"\n",
    ")"
   ]
  },
  {
   "cell_type": "markdown",
   "id": "16afa7eb",
   "metadata": {
    "papermill": {
     "duration": 0.004145,
     "end_time": "2022-07-07T14:13:55.757396",
     "exception": false,
     "start_time": "2022-07-07T14:13:55.753251",
     "status": "completed"
    },
    "tags": []
   },
   "source": [
    "### Record structure of inputs and outputs for ONNX model\n",
    "\n",
    "(this should likely be done in training notebook)"
   ]
  },
  {
   "cell_type": "code",
   "execution_count": 8,
   "id": "a3eeb300",
   "metadata": {
    "execution": {
     "iopub.execute_input": "2022-07-07T14:13:55.769103Z",
     "iopub.status.busy": "2022-07-07T14:13:55.768765Z",
     "iopub.status.idle": "2022-07-07T14:13:55.775971Z",
     "shell.execute_reply": "2022-07-07T14:13:55.775404Z"
    },
    "papermill": {
     "duration": 0.016214,
     "end_time": "2022-07-07T14:13:55.779464",
     "exception": false,
     "start_time": "2022-07-07T14:13:55.763250",
     "status": "completed"
    },
    "tags": []
   },
   "outputs": [
    {
     "name": "stdout",
     "output_type": "stream",
     "text": [
      "{\n",
      "  \"inputs\": [\n",
      "    {\n",
      "      \"name\": \"float_input_8x8_image\",\n",
      "      \"shape\": [\n",
      "        null,\n",
      "        64\n",
      "      ],\n",
      "      \"type\": \"tensor(float)\"\n",
      "    }\n",
      "  ],\n",
      "  \"outputs\": [\n",
      "    {\n",
      "      \"name\": \"output_label\",\n",
      "      \"shape\": [\n",
      "        null\n",
      "      ],\n",
      "      \"type\": \"tensor(int64)\"\n",
      "    },\n",
      "    {\n",
      "      \"name\": \"output_probability\",\n",
      "      \"shape\": [],\n",
      "      \"type\": \"seq(map(int64,tensor(float)))\"\n",
      "    }\n",
      "  ]\n",
      "}\n"
     ]
    }
   ],
   "source": [
    "import json\n",
    "\n",
    "onnx_io = json.dumps(\n",
    "    {\n",
    "        \"inputs\": get_onnx_inputs(onnx_inference_session),\n",
    "        \"outputs\": get_onnx_outputs(onnx_inference_session),\n",
    "    },\n",
    "    indent=2,\n",
    ")\n",
    "\n",
    "\n",
    "logger.log_artefact(\"onnx_io_structure.json\", onnx_io)\n",
    "print(onnx_io)"
   ]
  },
  {
   "cell_type": "markdown",
   "id": "57b458ed",
   "metadata": {
    "papermill": {
     "duration": 0.004852,
     "end_time": "2022-07-07T14:13:55.790204",
     "exception": false,
     "start_time": "2022-07-07T14:13:55.785352",
     "status": "completed"
    },
    "tags": []
   },
   "source": [
    "### Evaluate model performance on evaluation data set"
   ]
  },
  {
   "cell_type": "code",
   "execution_count": 9,
   "id": "770c7fb8",
   "metadata": {
    "execution": {
     "iopub.execute_input": "2022-07-07T14:13:55.803978Z",
     "iopub.status.busy": "2022-07-07T14:13:55.803648Z",
     "iopub.status.idle": "2022-07-07T14:13:55.809562Z",
     "shell.execute_reply": "2022-07-07T14:13:55.808798Z"
    },
    "papermill": {
     "duration": 0.017306,
     "end_time": "2022-07-07T14:13:55.813000",
     "exception": false,
     "start_time": "2022-07-07T14:13:55.795694",
     "status": "completed"
    },
    "tags": []
   },
   "outputs": [],
   "source": [
    "# load evaluation data\n",
    "X_test = read_numpy(datalake_root(P) / \"test-data\" / \"digits.numpy\")\n",
    "y_test = read_numpy(datalake_root(P) / \"test-data\" / \"labels.numpy\")"
   ]
  },
  {
   "cell_type": "code",
   "execution_count": 10,
   "id": "0d30035a",
   "metadata": {
    "execution": {
     "iopub.execute_input": "2022-07-07T14:13:55.824849Z",
     "iopub.status.busy": "2022-07-07T14:13:55.824568Z",
     "iopub.status.idle": "2022-07-07T14:13:55.839853Z",
     "shell.execute_reply": "2022-07-07T14:13:55.839225Z"
    },
    "papermill": {
     "duration": 0.023185,
     "end_time": "2022-07-07T14:13:55.841740",
     "exception": false,
     "start_time": "2022-07-07T14:13:55.818555",
     "status": "completed"
    },
    "tags": []
   },
   "outputs": [],
   "source": [
    "def get_model_outputs(X, onnx_inference_session):\n",
    "    y_pred_labels, y_pred_map = onnx_inference_session.run(\n",
    "        [\"output_label\", \"output_probability\"],\n",
    "        {\"float_input_8x8_image\": X.astype(np.float32)},\n",
    "    )\n",
    "    y_pred_probs = np.array(\n",
    "        [[probabilities[digit] for digit in range(10)] for probabilities in y_pred_map]\n",
    "    )\n",
    "\n",
    "    assert y_pred_labels.shape == (X.shape[0],)\n",
    "    assert y_pred_probs.shape == (X.shape[0], 10)\n",
    "\n",
    "    return y_pred_labels, y_pred_probs\n",
    "\n",
    "\n",
    "# Note: as shown in the training notebook, the predicted labels and probabilities\n",
    "# computed below need not be compatible.\n",
    "y_pred_labels_test, y_pred_probs_test = get_model_outputs(\n",
    "    X_test, onnx_inference_session\n",
    ")"
   ]
  },
  {
   "cell_type": "markdown",
   "id": "a26eb3ba",
   "metadata": {
    "papermill": {
     "duration": 0.005227,
     "end_time": "2022-07-07T14:13:55.852494",
     "exception": false,
     "start_time": "2022-07-07T14:13:55.847267",
     "status": "completed"
    },
    "tags": []
   },
   "source": [
    "### Confusion matrix"
   ]
  },
  {
   "cell_type": "code",
   "execution_count": 11,
   "id": "b1a8c34b",
   "metadata": {
    "execution": {
     "iopub.execute_input": "2022-07-07T14:13:55.865624Z",
     "iopub.status.busy": "2022-07-07T14:13:55.865323Z",
     "iopub.status.idle": "2022-07-07T14:13:55.869472Z",
     "shell.execute_reply": "2022-07-07T14:13:55.868691Z"
    },
    "papermill": {
     "duration": 0.015501,
     "end_time": "2022-07-07T14:13:55.873173",
     "exception": false,
     "start_time": "2022-07-07T14:13:55.857672",
     "status": "completed"
    },
    "tags": []
   },
   "outputs": [],
   "source": [
    "# TODO"
   ]
  },
  {
   "cell_type": "markdown",
   "id": "740d65f5",
   "metadata": {
    "papermill": {
     "duration": 0.00506,
     "end_time": "2022-07-07T14:13:55.887588",
     "exception": false,
     "start_time": "2022-07-07T14:13:55.882528",
     "status": "completed"
    },
    "tags": []
   },
   "source": [
    "### Plot predicted probabilities for each classifier over all evaluation digit images"
   ]
  },
  {
   "cell_type": "code",
   "execution_count": 12,
   "id": "c948006d",
   "metadata": {
    "execution": {
     "iopub.execute_input": "2022-07-07T14:13:55.899080Z",
     "iopub.status.busy": "2022-07-07T14:13:55.898788Z",
     "iopub.status.idle": "2022-07-07T14:13:59.754288Z",
     "shell.execute_reply": "2022-07-07T14:13:59.753742Z"
    },
    "papermill": {
     "duration": 3.863637,
     "end_time": "2022-07-07T14:13:59.756397",
     "exception": false,
     "start_time": "2022-07-07T14:13:55.892760",
     "status": "completed"
    },
    "tags": []
   },
   "outputs": [
    {
     "data": {
      "image/png": "[encoded data removed]",
      "text/plain": [
       "<Figure size 1152x432 with 10 Axes>"
      ]
     },
     "metadata": {
      "needs_background": "light"
     },
     "output_type": "display_data"
    }
   ],
   "source": [
    "def plot_per_digit_probabilities(y_pred_probs):\n",
    "    fig, axs = plt.subplots(nrows=2, ncols=5, figsize=(16, 6))\n",
    "\n",
    "    for (r, c), digit, ax in zip(\n",
    "        it.product(range(2), range(5)), range(10), axs.reshape(-1)\n",
    "    ):\n",
    "        ax.hist(y_pred_probs_test[:, digit], bins=20)\n",
    "\n",
    "        ax.set_title(f\"Digit {digit}\")\n",
    "        if r == 1 and c == 2:\n",
    "            ax.set_xlabel(\"probability\", fontsize=16)\n",
    "\n",
    "        if c == 0:\n",
    "            ax.set_ylabel(\"counts\", fontsize=16)\n",
    "        ax.set_yscale(\"log\")\n",
    "\n",
    "    fig.tight_layout()\n",
    "    fig.suptitle(\n",
    "        f\"Distributions of prediction probabilities for each digit \"\n",
    "        f\"(on evaluation data, n={y_pred_probs.shape[0]})\",\n",
    "        fontsize=20,\n",
    "    )\n",
    "    fig.tight_layout()\n",
    "    fig.show()\n",
    "\n",
    "    return fig\n",
    "\n",
    "\n",
    "fig = plot_per_digit_probabilities(y_pred_probs_test)"
   ]
  },
  {
   "cell_type": "markdown",
   "id": "d4e3aa8d",
   "metadata": {
    "papermill": {
     "duration": 0.006518,
     "end_time": "2022-07-07T14:13:59.769102",
     "exception": false,
     "start_time": "2022-07-07T14:13:59.762584",
     "status": "completed"
    },
    "tags": []
   },
   "source": [
    "From the above distributions we see that most digits have clear separation between\n",
    "high and lower probabilities. Morover, in each case there is roughly an order of\n",
    "magnitude more of digits with low probabilities. This is compatible with digits\n",
    "being roughly evenly distributed in the data."
   ]
  },
  {
   "cell_type": "code",
   "execution_count": 13,
   "id": "8e96dcb1",
   "metadata": {
    "execution": {
     "iopub.execute_input": "2022-07-07T14:13:59.782109Z",
     "iopub.status.busy": "2022-07-07T14:13:59.781794Z",
     "iopub.status.idle": "2022-07-07T14:14:00.806812Z",
     "shell.execute_reply": "2022-07-07T14:14:00.805931Z"
    },
    "papermill": {
     "duration": 1.034685,
     "end_time": "2022-07-07T14:14:00.809248",
     "exception": false,
     "start_time": "2022-07-07T14:13:59.774563",
     "status": "completed"
    },
    "tags": []
   },
   "outputs": [],
   "source": [
    "logger.log_figure(\"per-digit-probabilities.png\", fig)"
   ]
  },
  {
   "cell_type": "markdown",
   "id": "9fdafbd0",
   "metadata": {
    "papermill": {
     "duration": 0.006176,
     "end_time": "2022-07-07T14:14:00.822097",
     "exception": false,
     "start_time": "2022-07-07T14:14:00.815921",
     "status": "completed"
    },
    "tags": []
   },
   "source": [
    "### Plot ROC curves for individual one-vs-rest classifiers"
   ]
  },
  {
   "cell_type": "code",
   "execution_count": 14,
   "id": "f9ee13cb",
   "metadata": {
    "execution": {
     "iopub.execute_input": "2022-07-07T14:14:00.840846Z",
     "iopub.status.busy": "2022-07-07T14:14:00.840250Z",
     "iopub.status.idle": "2022-07-07T14:14:01.251972Z",
     "shell.execute_reply": "2022-07-07T14:14:01.250736Z"
    },
    "papermill": {
     "duration": 0.421269,
     "end_time": "2022-07-07T14:14:01.254176",
     "exception": false,
     "start_time": "2022-07-07T14:14:00.832907",
     "status": "completed"
    },
    "tags": []
   },
   "outputs": [],
   "source": [
    "from sklearn import metrics"
   ]
  },
  {
   "cell_type": "code",
   "execution_count": 15,
   "id": "775027dd",
   "metadata": {
    "execution": {
     "iopub.execute_input": "2022-07-07T14:14:01.268759Z",
     "iopub.status.busy": "2022-07-07T14:14:01.268181Z",
     "iopub.status.idle": "2022-07-07T14:14:02.661481Z",
     "shell.execute_reply": "2022-07-07T14:14:02.660697Z"
    },
    "papermill": {
     "duration": 1.402367,
     "end_time": "2022-07-07T14:14:02.663338",
     "exception": false,
     "start_time": "2022-07-07T14:14:01.260971",
     "status": "completed"
    },
    "tags": []
   },
   "outputs": [
    {
     "data": {
      "image/png": "[encoded data removed]",
      "text/plain": [
       "<Figure size 1152x576 with 10 Axes>"
      ]
     },
     "metadata": {
      "needs_background": "light"
     },
     "output_type": "display_data"
    }
   ],
   "source": [
    "def plot_roc_curves(y, y_pred_probs):\n",
    "    # based on example code\n",
    "    # https://scikit-learn.org/stable/auto_examples/model_selection/plot_roc.html\n",
    "\n",
    "    fig, axs = plt.subplots(nrows=2, ncols=5, figsize=(16, 8))\n",
    "\n",
    "    roc_auc_dict = {}\n",
    "\n",
    "    for (r, c), digit, ax in zip(\n",
    "        it.product(range(2), range(5)), range(10), axs.reshape(-1)\n",
    "    ):\n",
    "        fpr, tpr, _ = metrics.roc_curve(y == digit, y_pred_probs[:, digit])\n",
    "        auc = metrics.auc(fpr, tpr)\n",
    "        roc_auc_dict[str(digit)] = auc\n",
    "\n",
    "        ax.plot(fpr, tpr, label=f\"ROC AUC={round(auc, 3)}\")\n",
    "\n",
    "        ax.set_title(f\"\\nDigit {digit}\", fontsize=16)\n",
    "        if r == 1:\n",
    "            ax.set_xlabel(\"FPR\", fontsize=18)\n",
    "\n",
    "        if c == 0:\n",
    "            ax.set_ylabel(\"TPR\", fontsize=18)\n",
    "\n",
    "        ax.set_xlim([-0.05, 1.05])\n",
    "        ax.set_ylim([-0.05, 1.05])\n",
    "        ax.legend(loc=\"lower right\", frameon=False, fontsize=14)\n",
    "\n",
    "    fig.tight_layout()\n",
    "    fig.suptitle(\n",
    "        f\"ROC plots for one-vs-rest performances \"\n",
    "        f\"(on evaluation data, n={y_pred_probs_test.shape[1]}\",\n",
    "        fontsize=22,\n",
    "    )\n",
    "    fig.tight_layout()\n",
    "    fig.show()\n",
    "\n",
    "    return roc_auc_dict, fig\n",
    "\n",
    "\n",
    "roc_auc_dict, fig = plot_roc_curves(y_test, y_pred_probs_test)"
   ]
  },
  {
   "cell_type": "code",
   "execution_count": 16,
   "id": "98cd1e86",
   "metadata": {
    "execution": {
     "iopub.execute_input": "2022-07-07T14:14:02.677986Z",
     "iopub.status.busy": "2022-07-07T14:14:02.677670Z",
     "iopub.status.idle": "2022-07-07T14:14:02.938229Z",
     "shell.execute_reply": "2022-07-07T14:14:02.937361Z"
    },
    "papermill": {
     "duration": 0.274676,
     "end_time": "2022-07-07T14:14:02.944727",
     "exception": false,
     "start_time": "2022-07-07T14:14:02.670051",
     "status": "completed"
    },
    "tags": []
   },
   "outputs": [],
   "source": [
    "logger.log_figure(\"per-digit-roc-curves.png\", fig)"
   ]
  },
  {
   "cell_type": "code",
   "execution_count": 17,
   "id": "e670ebc5",
   "metadata": {
    "execution": {
     "iopub.execute_input": "2022-07-07T14:14:02.960188Z",
     "iopub.status.busy": "2022-07-07T14:14:02.959725Z",
     "iopub.status.idle": "2022-07-07T14:14:02.964888Z",
     "shell.execute_reply": "2022-07-07T14:14:02.964146Z"
    },
    "papermill": {
     "duration": 0.017955,
     "end_time": "2022-07-07T14:14:02.969971",
     "exception": false,
     "start_time": "2022-07-07T14:14:02.952016",
     "status": "completed"
    },
    "tags": []
   },
   "outputs": [
    {
     "data": {
      "text/plain": [
       "{'0': 1.0,\n",
       " '1': 0.9988003748828491,\n",
       " '2': 1.0,\n",
       " '3': 0.9998125585754452,\n",
       " '4': 1.0,\n",
       " '5': 0.9993252108716026,\n",
       " '6': 0.999923792104862,\n",
       " '7': 0.9998094802621552,\n",
       " '8': 0.993734237074401,\n",
       " '9': 0.9991998171010518}"
      ]
     },
     "execution_count": 17,
     "metadata": {},
     "output_type": "execute_result"
    }
   ],
   "source": [
    "roc_auc_dict"
   ]
  },
  {
   "cell_type": "code",
   "execution_count": 18,
   "id": "33ee11e4",
   "metadata": {
    "execution": {
     "iopub.execute_input": "2022-07-07T14:14:02.983973Z",
     "iopub.status.busy": "2022-07-07T14:14:02.983645Z",
     "iopub.status.idle": "2022-07-07T14:14:02.989208Z",
     "shell.execute_reply": "2022-07-07T14:14:02.987537Z"
    },
    "papermill": {
     "duration": 0.017045,
     "end_time": "2022-07-07T14:14:02.993189",
     "exception": false,
     "start_time": "2022-07-07T14:14:02.976144",
     "status": "completed"
    },
    "tags": []
   },
   "outputs": [
    {
     "name": "stdout",
     "output_type": "stream",
     "text": [
      " - Logging roc_auc_per_digit (json) : {'0': 1.0, '1': 0.9988003748828491, '2': 1.0, '3': 0.9998125585754452, '4': 1.0, '5': 0.9993252108716026, '6': 0.999923792104862, '7': 0.9998094802621552, '8': 0.993734237074401, '9': 0.9991998171010518}\n"
     ]
    }
   ],
   "source": [
    "logger.log_value(\"roc_auc_per_digit\", roc_auc_dict)"
   ]
  },
  {
   "cell_type": "markdown",
   "id": "a4a1a4aa",
   "metadata": {
    "papermill": {
     "duration": 0.006458,
     "end_time": "2022-07-07T14:14:03.006772",
     "exception": false,
     "start_time": "2022-07-07T14:14:03.000314",
     "status": "completed"
    },
    "tags": []
   },
   "source": [
    "### Compute and log mean ROC AUC score averaged over all digits"
   ]
  },
  {
   "cell_type": "code",
   "execution_count": 19,
   "id": "069f8955",
   "metadata": {
    "execution": {
     "iopub.execute_input": "2022-07-07T14:14:03.021824Z",
     "iopub.status.busy": "2022-07-07T14:14:03.021489Z",
     "iopub.status.idle": "2022-07-07T14:14:03.039197Z",
     "shell.execute_reply": "2022-07-07T14:14:03.038535Z"
    },
    "papermill": {
     "duration": 0.028056,
     "end_time": "2022-07-07T14:14:03.041305",
     "exception": false,
     "start_time": "2022-07-07T14:14:03.013249",
     "status": "completed"
    },
    "tags": []
   },
   "outputs": [
    {
     "name": "stdout",
     "output_type": "stream",
     "text": [
      " - Logging roc_auc_class_mean (float) : 0.9990605470872367\n"
     ]
    }
   ],
   "source": [
    "roc_auc_macro = np.mean(list(roc_auc_dict.values()))\n",
    "\n",
    "logger.log_float(\"roc_auc_class_mean\", roc_auc_macro)\n",
    "\n",
    "# assert that the same value can be computed directly using sklearn\n",
    "assert roc_auc_macro == metrics.roc_auc_score(\n",
    "    y_test, y_pred_probs_test, average=\"macro\", multi_class=\"ovr\"\n",
    ")"
   ]
  },
  {
   "cell_type": "code",
   "execution_count": 20,
   "id": "654533f9",
   "metadata": {
    "execution": {
     "iopub.execute_input": "2022-07-07T14:14:03.057017Z",
     "iopub.status.busy": "2022-07-07T14:14:03.056699Z",
     "iopub.status.idle": "2022-07-07T14:14:03.060459Z",
     "shell.execute_reply": "2022-07-07T14:14:03.059662Z"
    },
    "lines_to_next_cell": 0,
    "papermill": {
     "duration": 0.015477,
     "end_time": "2022-07-07T14:14:03.064725",
     "exception": false,
     "start_time": "2022-07-07T14:14:03.049248",
     "status": "completed"
    },
    "tags": []
   },
   "outputs": [],
   "source": [
    "# ---"
   ]
  },
  {
   "cell_type": "code",
   "execution_count": null,
   "id": "36a96d50",
   "metadata": {
    "papermill": {
     "duration": 0.007013,
     "end_time": "2022-07-07T14:14:03.080833",
     "exception": false,
     "start_time": "2022-07-07T14:14:03.073820",
     "status": "completed"
    },
    "tags": []
   },
   "outputs": [],
   "source": []
  }
 ],
 "metadata": {
  "jupytext": {
   "cell_metadata_filter": "tags,-all",
   "main_language": "python",
   "notebook_metadata_filter": "-all"
  },
  "language_info": {
   "codemirror_mode": {
    "name": "ipython",
    "version": 3
   },
   "file_extension": ".py",
   "mimetype": "text/x-python",
   "name": "python",
   "nbconvert_exporter": "python",
   "pygments_lexer": "ipython3",
   "version": "3.8.10"
  },
  "papermill": {
   "default_parameters": {},
   "duration": 11.814903,
   "end_time": "2022-07-07T14:14:04.414271",
   "environment_variables": {},
   "exception": null,
   "input_path": "/home/host_user/workspace/mnist-demo-pipeline/mnist-demo-pipeline/notebooks/temp-notebook-1tczycom.ipynb",
   "output_path": "notebooks/benchmark-model.ipynb",
   "parameters": {
    "P": {
     "_opentelemetry_traceparent": "00-ae4c0ddb7a61dbf5c3ae6948e197b9ab-c1fab92d4bbd73ef-01",
     "pipeline.data_lake_root": "/pipeline-outputs/data-lake",
     "pipeline.github.actor": "matiasdahl",
     "pipeline.github.base_ref": "development",
     "pipeline.github.event_name": "pull_request",
     "pipeline.github.head_ref": "try-C-hyperparameter",
     "pipeline.github.job": "run-tests-pipeline-and-persist-pipeline-outputs",
     "pipeline.github.ref": "refs/pull/55/merge",
     "pipeline.github.ref_name": "55/merge",
     "pipeline.github.ref_type": "branch",
     "pipeline.github.repository": "pynb-dag-runner/mnist-digits-demo-pipeline",
     "pipeline.github.run_id": "2630104459",
     "pipeline.github.runner_name": "GitHub Actions 2",
     "pipeline.github.sha": "1c817c9dee14ac98f14dda197d89dc60a81cf438",
     "pipeline.github.workflow": "Run automated tests, pipeline and deploy results to static reporting site",
     "pipeline.pipeline_run_id": "6c33327a-27e1-404a-81a7-ffd008d84d60",
     "pipeline.run_environment": "ci",
     "run.retry_nr": "0",
     "task.max_nr_retries": "1",
     "task.notebook": "notebooks/benchmark-model.py",
     "task.nr_train_images": 1200,
     "task.num_cpus": 1,
     "task.timeout_s": "None"
    }
   },
   "start_time": "2022-07-07T14:13:52.599368",
   "version": "2.3.3"
  }
 },
 "nbformat": 4,
 "nbformat_minor": 5
}