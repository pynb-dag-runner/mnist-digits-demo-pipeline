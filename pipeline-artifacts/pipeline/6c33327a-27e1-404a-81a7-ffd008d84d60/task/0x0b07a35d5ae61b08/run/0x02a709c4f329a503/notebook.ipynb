{
 "cells": [
  {
   "cell_type": "markdown",
   "id": "638a3c93",
   "metadata": {
    "papermill": {
     "duration": 0.006269,
     "end_time": "2022-07-07T14:13:41.643678",
     "exception": false,
     "start_time": "2022-07-07T14:13:41.637409",
     "status": "completed"
    },
    "tags": []
   },
   "source": [
    "# Train model\n",
    "\n",
    "The purpose of this notebook is:\n",
    "\n",
    "- Load all training data (images and labels).\n",
    "- Limit number of train images to `task.nr_train_images` (value provided as run parameter).\n",
    "- Train a support vector machine model using sklearn.\n",
    "- Persist the trained model using the ONNX format."
   ]
  },
  {
   "cell_type": "markdown",
   "id": "91b45e9a",
   "metadata": {
    "papermill": {
     "duration": 0.005534,
     "end_time": "2022-07-07T14:13:41.654096",
     "exception": false,
     "start_time": "2022-07-07T14:13:41.648562",
     "status": "completed"
    },
    "tags": []
   },
   "source": [
    "### Determine run parameters"
   ]
  },
  {
   "cell_type": "code",
   "execution_count": 1,
   "id": "836d24e5",
   "metadata": {
    "execution": {
     "iopub.execute_input": "2022-07-07T14:13:41.662660Z",
     "iopub.status.busy": "2022-07-07T14:13:41.662259Z",
     "iopub.status.idle": "2022-07-07T14:13:41.674884Z",
     "shell.execute_reply": "2022-07-07T14:13:41.674053Z"
    },
    "lines_to_next_cell": 0,
    "papermill": {
     "duration": 0.021974,
     "end_time": "2022-07-07T14:13:41.679296",
     "exception": false,
     "start_time": "2022-07-07T14:13:41.657322",
     "status": "completed"
    },
    "tags": []
   },
   "outputs": [],
   "source": [
    "# ----------------- Parameters for interactive development --------------\n",
    "P = {\n",
    "    \"pipeline.data_lake_root\": \"/pipeline-outputs/data-lake\",\n",
    "    \"task.nr_train_images\": 600,\n",
    "}"
   ]
  },
  {
   "cell_type": "code",
   "execution_count": 2,
   "id": "3228a004",
   "metadata": {
    "execution": {
     "iopub.execute_input": "2022-07-07T14:13:41.690372Z",
     "iopub.status.busy": "2022-07-07T14:13:41.690034Z",
     "iopub.status.idle": "2022-07-07T14:13:41.694267Z",
     "shell.execute_reply": "2022-07-07T14:13:41.693631Z"
    },
    "lines_to_next_cell": 0,
    "papermill": {
     "duration": 0.01425,
     "end_time": "2022-07-07T14:13:41.697908",
     "exception": false,
     "start_time": "2022-07-07T14:13:41.683658",
     "status": "completed"
    },
    "tags": [
     "parameters"
    ]
   },
   "outputs": [],
   "source": [
    "# - During automated runs parameters will be injected in the below cell -"
   ]
  },
  {
   "cell_type": "code",
   "execution_count": 3,
   "id": "b0d9d05e",
   "metadata": {
    "execution": {
     "iopub.execute_input": "2022-07-07T14:13:41.707315Z",
     "iopub.status.busy": "2022-07-07T14:13:41.707015Z",
     "iopub.status.idle": "2022-07-07T14:13:41.713069Z",
     "shell.execute_reply": "2022-07-07T14:13:41.711930Z"
    },
    "papermill": {
     "duration": 0.0158,
     "end_time": "2022-07-07T14:13:41.717628",
     "exception": false,
     "start_time": "2022-07-07T14:13:41.701828",
     "status": "completed"
    },
    "tags": [
     "injected-parameters"
    ]
   },
   "outputs": [],
   "source": [
    "# Parameters\n",
    "P = {\n",
    "    \"pipeline.data_lake_root\": \"/pipeline-outputs/data-lake\",\n",
    "    \"pipeline.run_environment\": \"ci\",\n",
    "    \"pipeline.pipeline_run_id\": \"6c33327a-27e1-404a-81a7-ffd008d84d60\",\n",
    "    \"pipeline.github.repository\": \"pynb-dag-runner/mnist-digits-demo-pipeline\",\n",
    "    \"pipeline.github.workflow\": \"Run automated tests, pipeline and deploy results to static reporting site\",\n",
    "    \"pipeline.github.runner_name\": \"GitHub Actions 2\",\n",
    "    \"pipeline.github.run_id\": \"2630104459\",\n",
    "    \"pipeline.github.actor\": \"matiasdahl\",\n",
    "    \"pipeline.github.job\": \"run-tests-pipeline-and-persist-pipeline-outputs\",\n",
    "    \"pipeline.github.base_ref\": \"development\",\n",
    "    \"pipeline.github.head_ref\": \"try-C-hyperparameter\",\n",
    "    \"pipeline.github.sha\": \"1c817c9dee14ac98f14dda197d89dc60a81cf438\",\n",
    "    \"pipeline.github.ref\": \"refs/pull/55/merge\",\n",
    "    \"pipeline.github.ref_type\": \"branch\",\n",
    "    \"pipeline.github.ref_name\": \"55/merge\",\n",
    "    \"pipeline.github.event_name\": \"pull_request\",\n",
    "    \"task.nr_train_images\": 800,\n",
    "    \"task.notebook\": \"notebooks/train-model.py\",\n",
    "    \"task.max_nr_retries\": \"1\",\n",
    "    \"run.retry_nr\": \"0\",\n",
    "    \"task.timeout_s\": \"None\",\n",
    "    \"task.num_cpus\": 1,\n",
    "    \"_opentelemetry_traceparent\": \"00-ae4c0ddb7a61dbf5c3ae6948e197b9ab-db3c6ad94c2775e8-01\",\n",
    "}\n"
   ]
  },
  {
   "cell_type": "code",
   "execution_count": 4,
   "id": "8e8e4847",
   "metadata": {
    "execution": {
     "iopub.execute_input": "2022-07-07T14:13:41.727287Z",
     "iopub.status.busy": "2022-07-07T14:13:41.726985Z",
     "iopub.status.idle": "2022-07-07T14:13:41.730209Z",
     "shell.execute_reply": "2022-07-07T14:13:41.729554Z"
    },
    "lines_to_next_cell": 0,
    "papermill": {
     "duration": 0.012438,
     "end_time": "2022-07-07T14:13:41.733999",
     "exception": false,
     "start_time": "2022-07-07T14:13:41.721561",
     "status": "completed"
    },
    "tags": []
   },
   "outputs": [],
   "source": [
    "# -----------------------------------------------------------------------"
   ]
  },
  {
   "cell_type": "markdown",
   "id": "7df2e401",
   "metadata": {
    "papermill": {
     "duration": 0.003481,
     "end_time": "2022-07-07T14:13:41.741245",
     "exception": false,
     "start_time": "2022-07-07T14:13:41.737764",
     "status": "completed"
    },
    "tags": []
   },
   "source": [
    "---"
   ]
  },
  {
   "cell_type": "markdown",
   "id": "6cc8fe03",
   "metadata": {
    "lines_to_next_cell": 2,
    "papermill": {
     "duration": 0.006134,
     "end_time": "2022-07-07T14:13:41.752001",
     "exception": false,
     "start_time": "2022-07-07T14:13:41.745867",
     "status": "completed"
    },
    "tags": []
   },
   "source": [
    "### Notebook code"
   ]
  },
  {
   "cell_type": "code",
   "execution_count": 5,
   "id": "5228adeb",
   "metadata": {
    "execution": {
     "iopub.execute_input": "2022-07-07T14:13:41.761718Z",
     "iopub.status.busy": "2022-07-07T14:13:41.761287Z",
     "iopub.status.idle": "2022-07-07T14:13:42.343259Z",
     "shell.execute_reply": "2022-07-07T14:13:42.341447Z"
    },
    "papermill": {
     "duration": 0.590677,
     "end_time": "2022-07-07T14:13:42.346934",
     "exception": false,
     "start_time": "2022-07-07T14:13:41.756257",
     "status": "completed"
    },
    "tags": []
   },
   "outputs": [
    {
     "name": "stderr",
     "output_type": "stream",
     "text": [
      "2022-07-07 14:13:42,160\tINFO worker.py:842 -- Connecting to existing Ray cluster at address: 172.17.0.2:6379\n"
     ]
    }
   ],
   "source": [
    "from pynb_dag_runner.tasks.task_opentelemetry_logging import PydarLogger\n",
    "\n",
    "logger = PydarLogger(P)"
   ]
  },
  {
   "cell_type": "markdown",
   "id": "19e60d34",
   "metadata": {
    "papermill": {
     "duration": 0.004024,
     "end_time": "2022-07-07T14:13:42.357892",
     "exception": false,
     "start_time": "2022-07-07T14:13:42.353868",
     "status": "completed"
    },
    "tags": []
   },
   "source": [
    "## Load and limit train data"
   ]
  },
  {
   "cell_type": "code",
   "execution_count": 6,
   "id": "833978b6",
   "metadata": {
    "execution": {
     "iopub.execute_input": "2022-07-07T14:13:42.369631Z",
     "iopub.status.busy": "2022-07-07T14:13:42.368439Z",
     "iopub.status.idle": "2022-07-07T14:13:42.826955Z",
     "shell.execute_reply": "2022-07-07T14:13:42.826045Z"
    },
    "papermill": {
     "duration": 0.46564,
     "end_time": "2022-07-07T14:13:42.829433",
     "exception": false,
     "start_time": "2022-07-07T14:13:42.363793",
     "status": "completed"
    },
    "tags": []
   },
   "outputs": [
    {
     "name": "stdout",
     "output_type": "stream",
     "text": [
      "\u001b[2m\u001b[1m\u001b[36m(scheduler +0s)\u001b[0m Tip: use `ray status` to view detailed cluster status. To disable these messages, set RAY_SCHEDULER_EVENTS=0.\n",
      "\u001b[2m\u001b[1m\u001b[33m(scheduler +0s)\u001b[0m Warning: The following resource request cannot be scheduled right now: {'CPU': 1.0}. This is likely due to all cluster resources being claimed by actors. Consider creating fewer actors or adding more nodes to this Ray cluster.\n"
     ]
    }
   ],
   "source": [
    "def load_and_limit_train_data(P):\n",
    "    from common.io import datalake_root, read_numpy\n",
    "    from sklearn.model_selection import train_test_split\n",
    "\n",
    "    X_train_all = read_numpy(datalake_root(P) / \"train-data\" / \"digits.numpy\")\n",
    "    y_train_all = read_numpy(datalake_root(P) / \"train-data\" / \"labels.numpy\")\n",
    "\n",
    "    assert isinstance(P[\"task.nr_train_images\"], int)\n",
    "\n",
    "    # Note: train_test_split will fail if split is 0 or 100%.\n",
    "    assert 0 < P[\"task.nr_train_images\"] < len(y_train_all)\n",
    "\n",
    "    X_train, _, y_train, _ = train_test_split(\n",
    "        X_train_all,\n",
    "        y_train_all,\n",
    "        train_size=P[\"task.nr_train_images\"],\n",
    "        test_size=None,\n",
    "        stratify=y_train_all,\n",
    "        shuffle=True,\n",
    "        random_state=123,\n",
    "    )\n",
    "\n",
    "    assert X_train.shape == (len(y_train), 8 * 8)\n",
    "    return X_train, y_train\n",
    "\n",
    "\n",
    "X_train, y_train = load_and_limit_train_data(P)"
   ]
  },
  {
   "cell_type": "markdown",
   "id": "da9798e2",
   "metadata": {
    "papermill": {
     "duration": 0.004402,
     "end_time": "2022-07-07T14:13:42.844531",
     "exception": false,
     "start_time": "2022-07-07T14:13:42.840129",
     "status": "completed"
    },
    "tags": []
   },
   "source": [
    "## Train support vector classifier model\n",
    "\n",
    "Below we assume that the hyperparameter $C$ is known.\n",
    "\n",
    "However, this should ideally be found by a hyperparameter search. That could be\n",
    "done in parallel on the Ray cluster, but this needs some more work. Ie., to use\n",
    "multiple cores in the notebook, those cores should be reserved when starting the\n",
    "notebook task (TODO).\n",
    "\n",
    "- https://docs.ray.io/en/latest/tune/key-concepts.html\n",
    "\n",
    "Note: cv-scores would need to be computed here, since they depend on the train data.\n",
    "After this notebook only the onnx-model is available."
   ]
  },
  {
   "cell_type": "code",
   "execution_count": 7,
   "id": "944208a8",
   "metadata": {
    "execution": {
     "iopub.execute_input": "2022-07-07T14:13:42.863120Z",
     "iopub.status.busy": "2022-07-07T14:13:42.861322Z",
     "iopub.status.idle": "2022-07-07T14:13:42.888605Z",
     "shell.execute_reply": "2022-07-07T14:13:42.887710Z"
    },
    "papermill": {
     "duration": 0.041678,
     "end_time": "2022-07-07T14:13:42.890933",
     "exception": false,
     "start_time": "2022-07-07T14:13:42.849255",
     "status": "completed"
    },
    "tags": []
   },
   "outputs": [],
   "source": [
    "from sklearn.svm import SVC"
   ]
  },
  {
   "cell_type": "code",
   "execution_count": 8,
   "id": "bc6570c2",
   "metadata": {
    "execution": {
     "iopub.execute_input": "2022-07-07T14:13:42.905263Z",
     "iopub.status.busy": "2022-07-07T14:13:42.903920Z",
     "iopub.status.idle": "2022-07-07T14:13:43.049154Z",
     "shell.execute_reply": "2022-07-07T14:13:43.047826Z"
    },
    "papermill": {
     "duration": 0.15627,
     "end_time": "2022-07-07T14:13:43.051457",
     "exception": false,
     "start_time": "2022-07-07T14:13:42.895187",
     "status": "completed"
    },
    "tags": []
   },
   "outputs": [
    {
     "data": {
      "text/plain": [
       "SVC(C=0.1, kernel='linear', probability=True)"
      ]
     },
     "execution_count": 8,
     "metadata": {},
     "output_type": "execute_result"
    }
   ],
   "source": [
    "model = SVC(C=0.1, kernel=\"linear\", probability=True)\n",
    "\n",
    "model.fit(X_train, y_train)"
   ]
  },
  {
   "cell_type": "markdown",
   "id": "bd8f1fb4",
   "metadata": {
    "papermill": {
     "duration": 0.004467,
     "end_time": "2022-07-07T14:13:43.069221",
     "exception": false,
     "start_time": "2022-07-07T14:13:43.064754",
     "status": "completed"
    },
    "tags": []
   },
   "source": [
    "### Q: Can the labels returned by `predict(..)` be computed from probabilities returned by the `predict_prob`-method?"
   ]
  },
  {
   "cell_type": "code",
   "execution_count": 9,
   "id": "8191dd93",
   "metadata": {
    "execution": {
     "iopub.execute_input": "2022-07-07T14:13:43.082454Z",
     "iopub.status.busy": "2022-07-07T14:13:43.082111Z",
     "iopub.status.idle": "2022-07-07T14:13:43.143146Z",
     "shell.execute_reply": "2022-07-07T14:13:43.142333Z"
    },
    "papermill": {
     "duration": 0.070193,
     "end_time": "2022-07-07T14:13:43.145500",
     "exception": false,
     "start_time": "2022-07-07T14:13:43.075307",
     "status": "completed"
    },
    "tags": []
   },
   "outputs": [
    {
     "name": "stdout",
     "output_type": "stream",
     "text": [
      " - Logging nr_max_prob_neq_label (int) : 0\n"
     ]
    }
   ],
   "source": [
    "import numpy as np\n",
    "\n",
    "y_train_labels = model.predict(X_train)\n",
    "y_train_probabilities = model.predict_proba(X_train)\n",
    "assert y_train_probabilities.shape == (len(y_train), 10)\n",
    "\n",
    "y_train_max_prob_labels = np.argmax(y_train_probabilities, axis=1)\n",
    "assert y_train_labels.shape == y_train_max_prob_labels.shape == y_train.shape\n",
    "\n",
    "# If the predicted labels would coincide with the labels that have\n",
    "# maximum probability, the below number would be zero\n",
    "logger.log_int(\n",
    "    \"nr_max_prob_neq_label\", int(sum(y_train_max_prob_labels != y_train_labels))\n",
    ")"
   ]
  },
  {
   "cell_type": "markdown",
   "id": "3f70a2e4",
   "metadata": {
    "papermill": {
     "duration": 0.004376,
     "end_time": "2022-07-07T14:13:43.155211",
     "exception": false,
     "start_time": "2022-07-07T14:13:43.150835",
     "status": "completed"
    },
    "tags": []
   },
   "source": [
    "The explanation is (likely) explained in the SVC source, see\n",
    "[here](https://github.com/scikit-learn/scikit-learn/blob/main/sklearn/svm/_base.py).\n",
    "Namely, the outputs from `predict(..)` and `predict_proba(..)` may not in some\n",
    "cases be compatible since the latter is computed using cross-validation while\n",
    "the former is not. Thus, the above number need not be zero."
   ]
  },
  {
   "cell_type": "markdown",
   "id": "cb811d33",
   "metadata": {
    "papermill": {
     "duration": 0.004883,
     "end_time": "2022-07-07T14:13:43.164834",
     "exception": false,
     "start_time": "2022-07-07T14:13:43.159951",
     "status": "completed"
    },
    "tags": []
   },
   "source": [
    "## Persist model"
   ]
  },
  {
   "cell_type": "code",
   "execution_count": 10,
   "id": "2549fad0",
   "metadata": {
    "execution": {
     "iopub.execute_input": "2022-07-07T14:13:43.175187Z",
     "iopub.status.busy": "2022-07-07T14:13:43.174740Z",
     "iopub.status.idle": "2022-07-07T14:13:44.168685Z",
     "shell.execute_reply": "2022-07-07T14:13:44.167824Z"
    },
    "papermill": {
     "duration": 1.001721,
     "end_time": "2022-07-07T14:13:44.171167",
     "exception": false,
     "start_time": "2022-07-07T14:13:43.169446",
     "status": "completed"
    },
    "tags": []
   },
   "outputs": [],
   "source": [
    "from skl2onnx import convert_sklearn\n",
    "from skl2onnx.common.data_types import FloatTensorType\n",
    "\n",
    "#\n",
    "from common.io import datalake_root, write_onnx"
   ]
  },
  {
   "cell_type": "code",
   "execution_count": 11,
   "id": "29b481bb",
   "metadata": {
    "execution": {
     "iopub.execute_input": "2022-07-07T14:13:44.181854Z",
     "iopub.status.busy": "2022-07-07T14:13:44.181340Z",
     "iopub.status.idle": "2022-07-07T14:13:44.234869Z",
     "shell.execute_reply": "2022-07-07T14:13:44.234059Z"
    },
    "papermill": {
     "duration": 0.061899,
     "end_time": "2022-07-07T14:13:44.238269",
     "exception": false,
     "start_time": "2022-07-07T14:13:44.176370",
     "status": "completed"
    },
    "tags": []
   },
   "outputs": [],
   "source": [
    "# convert sklearn model into onnx and persist to data lake\n",
    "\n",
    "model_onnx = convert_sklearn(\n",
    "    model, initial_types=[(\"float_input_8x8_image\", FloatTensorType([None, 8 * 8]))]\n",
    ")\n",
    "write_onnx(\n",
    "    datalake_root(P)\n",
    "    / \"models\"\n",
    "    / f\"nr_train_images={P['task.nr_train_images']}\"\n",
    "    / \"model.onnx\",\n",
    "    model_onnx,\n",
    ")"
   ]
  },
  {
   "cell_type": "code",
   "execution_count": null,
   "id": "a6b8c103",
   "metadata": {
    "papermill": {
     "duration": 0.004687,
     "end_time": "2022-07-07T14:13:44.246771",
     "exception": false,
     "start_time": "2022-07-07T14:13:44.242084",
     "status": "completed"
    },
    "tags": []
   },
   "outputs": [],
   "source": []
  }
 ],
 "metadata": {
  "jupytext": {
   "cell_metadata_filter": "tags,-all",
   "main_language": "python",
   "notebook_metadata_filter": "-all"
  },
  "language_info": {
   "codemirror_mode": {
    "name": "ipython",
    "version": 3
   },
   "file_extension": ".py",
   "mimetype": "text/x-python",
   "name": "python",
   "nbconvert_exporter": "python",
   "pygments_lexer": "ipython3",
   "version": "3.8.10"
  },
  "papermill": {
   "default_parameters": {},
   "duration": 5.556458,
   "end_time": "2022-07-07T14:13:45.573747",
   "environment_variables": {},
   "exception": null,
   "input_path": "/home/host_user/workspace/mnist-demo-pipeline/mnist-demo-pipeline/notebooks/temp-notebook-gxbd8vi7.ipynb",
   "output_path": "notebooks/train-model.ipynb",
   "parameters": {
    "P": {
     "_opentelemetry_traceparent": "00-ae4c0ddb7a61dbf5c3ae6948e197b9ab-db3c6ad94c2775e8-01",
     "pipeline.data_lake_root": "/pipeline-outputs/data-lake",
     "pipeline.github.actor": "matiasdahl",
     "pipeline.github.base_ref": "development",
     "pipeline.github.event_name": "pull_request",
     "pipeline.github.head_ref": "try-C-hyperparameter",
     "pipeline.github.job": "run-tests-pipeline-and-persist-pipeline-outputs",
     "pipeline.github.ref": "refs/pull/55/merge",
     "pipeline.github.ref_name": "55/merge",
     "pipeline.github.ref_type": "branch",
     "pipeline.github.repository": "pynb-dag-runner/mnist-digits-demo-pipeline",
     "pipeline.github.run_id": "2630104459",
     "pipeline.github.runner_name": "GitHub Actions 2",
     "pipeline.github.sha": "1c817c9dee14ac98f14dda197d89dc60a81cf438",
     "pipeline.github.workflow": "Run automated tests, pipeline and deploy results to static reporting site",
     "pipeline.pipeline_run_id": "6c33327a-27e1-404a-81a7-ffd008d84d60",
     "pipeline.run_environment": "ci",
     "run.retry_nr": "0",
     "task.max_nr_retries": "1",
     "task.notebook": "notebooks/train-model.py",
     "task.nr_train_images": 800,
     "task.num_cpus": 1,
     "task.timeout_s": "None"
    }
   },
   "start_time": "2022-07-07T14:13:40.017289",
   "version": "2.3.3"
  }
 },
 "nbformat": 4,
 "nbformat_minor": 5
}