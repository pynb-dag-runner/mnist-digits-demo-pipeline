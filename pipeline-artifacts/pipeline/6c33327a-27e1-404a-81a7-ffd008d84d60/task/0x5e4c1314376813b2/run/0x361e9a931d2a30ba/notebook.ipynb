{
 "cells": [
  {
   "cell_type": "markdown",
   "id": "e55950df",
   "metadata": {
    "papermill": {
     "duration": 0.005794,
     "end_time": "2022-07-07T14:13:39.557669",
     "exception": false,
     "start_time": "2022-07-07T14:13:39.551875",
     "status": "completed"
    },
    "tags": []
   },
   "source": [
    "# Train model\n",
    "\n",
    "The purpose of this notebook is:\n",
    "\n",
    "- Load all training data (images and labels).\n",
    "- Limit number of train images to `task.nr_train_images` (value provided as run parameter).\n",
    "- Train a support vector machine model using sklearn.\n",
    "- Persist the trained model using the ONNX format."
   ]
  },
  {
   "cell_type": "markdown",
   "id": "93e556e9",
   "metadata": {
    "papermill": {
     "duration": 0.002981,
     "end_time": "2022-07-07T14:13:39.564422",
     "exception": false,
     "start_time": "2022-07-07T14:13:39.561441",
     "status": "completed"
    },
    "tags": []
   },
   "source": [
    "### Determine run parameters"
   ]
  },
  {
   "cell_type": "code",
   "execution_count": 1,
   "id": "61c68a2a",
   "metadata": {
    "execution": {
     "iopub.execute_input": "2022-07-07T14:13:39.573755Z",
     "iopub.status.busy": "2022-07-07T14:13:39.573385Z",
     "iopub.status.idle": "2022-07-07T14:13:39.582800Z",
     "shell.execute_reply": "2022-07-07T14:13:39.582178Z"
    },
    "lines_to_next_cell": 0,
    "papermill": {
     "duration": 0.015832,
     "end_time": "2022-07-07T14:13:39.584742",
     "exception": false,
     "start_time": "2022-07-07T14:13:39.568910",
     "status": "completed"
    },
    "tags": []
   },
   "outputs": [],
   "source": [
    "# ----------------- Parameters for interactive development --------------\n",
    "P = {\n",
    "    \"pipeline.data_lake_root\": \"/pipeline-outputs/data-lake\",\n",
    "    \"task.nr_train_images\": 600,\n",
    "}"
   ]
  },
  {
   "cell_type": "code",
   "execution_count": 2,
   "id": "10480c60",
   "metadata": {
    "execution": {
     "iopub.execute_input": "2022-07-07T14:13:39.593240Z",
     "iopub.status.busy": "2022-07-07T14:13:39.592708Z",
     "iopub.status.idle": "2022-07-07T14:13:39.596957Z",
     "shell.execute_reply": "2022-07-07T14:13:39.596365Z"
    },
    "lines_to_next_cell": 0,
    "papermill": {
     "duration": 0.010715,
     "end_time": "2022-07-07T14:13:39.598807",
     "exception": false,
     "start_time": "2022-07-07T14:13:39.588092",
     "status": "completed"
    },
    "tags": [
     "parameters"
    ]
   },
   "outputs": [],
   "source": [
    "# - During automated runs parameters will be injected in the below cell -"
   ]
  },
  {
   "cell_type": "code",
   "execution_count": 3,
   "id": "4613654d",
   "metadata": {
    "execution": {
     "iopub.execute_input": "2022-07-07T14:13:39.606208Z",
     "iopub.status.busy": "2022-07-07T14:13:39.605963Z",
     "iopub.status.idle": "2022-07-07T14:13:39.611384Z",
     "shell.execute_reply": "2022-07-07T14:13:39.610795Z"
    },
    "papermill": {
     "duration": 0.012417,
     "end_time": "2022-07-07T14:13:39.614357",
     "exception": false,
     "start_time": "2022-07-07T14:13:39.601940",
     "status": "completed"
    },
    "tags": [
     "injected-parameters"
    ]
   },
   "outputs": [],
   "source": [
    "# Parameters\n",
    "P = {\n",
    "    \"pipeline.data_lake_root\": \"/pipeline-outputs/data-lake\",\n",
    "    \"pipeline.run_environment\": \"ci\",\n",
    "    \"pipeline.pipeline_run_id\": \"6c33327a-27e1-404a-81a7-ffd008d84d60\",\n",
    "    \"pipeline.github.repository\": \"pynb-dag-runner/mnist-digits-demo-pipeline\",\n",
    "    \"pipeline.github.workflow\": \"Run automated tests, pipeline and deploy results to static reporting site\",\n",
    "    \"pipeline.github.runner_name\": \"GitHub Actions 2\",\n",
    "    \"pipeline.github.run_id\": \"2630104459\",\n",
    "    \"pipeline.github.actor\": \"matiasdahl\",\n",
    "    \"pipeline.github.job\": \"run-tests-pipeline-and-persist-pipeline-outputs\",\n",
    "    \"pipeline.github.base_ref\": \"development\",\n",
    "    \"pipeline.github.head_ref\": \"try-C-hyperparameter\",\n",
    "    \"pipeline.github.sha\": \"1c817c9dee14ac98f14dda197d89dc60a81cf438\",\n",
    "    \"pipeline.github.ref\": \"refs/pull/55/merge\",\n",
    "    \"pipeline.github.ref_type\": \"branch\",\n",
    "    \"pipeline.github.ref_name\": \"55/merge\",\n",
    "    \"pipeline.github.event_name\": \"pull_request\",\n",
    "    \"task.nr_train_images\": 1200,\n",
    "    \"task.notebook\": \"notebooks/train-model.py\",\n",
    "    \"task.max_nr_retries\": \"1\",\n",
    "    \"run.retry_nr\": \"0\",\n",
    "    \"task.timeout_s\": \"None\",\n",
    "    \"task.num_cpus\": 1,\n",
    "    \"_opentelemetry_traceparent\": \"00-ae4c0ddb7a61dbf5c3ae6948e197b9ab-55384c1d044704f7-01\",\n",
    "}\n"
   ]
  },
  {
   "cell_type": "code",
   "execution_count": 4,
   "id": "057af561",
   "metadata": {
    "execution": {
     "iopub.execute_input": "2022-07-07T14:13:39.621977Z",
     "iopub.status.busy": "2022-07-07T14:13:39.621722Z",
     "iopub.status.idle": "2022-07-07T14:13:39.625083Z",
     "shell.execute_reply": "2022-07-07T14:13:39.624486Z"
    },
    "lines_to_next_cell": 0,
    "papermill": {
     "duration": 0.010689,
     "end_time": "2022-07-07T14:13:39.628216",
     "exception": false,
     "start_time": "2022-07-07T14:13:39.617527",
     "status": "completed"
    },
    "tags": []
   },
   "outputs": [],
   "source": [
    "# -----------------------------------------------------------------------"
   ]
  },
  {
   "cell_type": "markdown",
   "id": "8350018b",
   "metadata": {
    "papermill": {
     "duration": 0.003165,
     "end_time": "2022-07-07T14:13:39.635148",
     "exception": false,
     "start_time": "2022-07-07T14:13:39.631983",
     "status": "completed"
    },
    "tags": []
   },
   "source": [
    "---"
   ]
  },
  {
   "cell_type": "markdown",
   "id": "9531be05",
   "metadata": {
    "lines_to_next_cell": 2,
    "papermill": {
     "duration": 0.003667,
     "end_time": "2022-07-07T14:13:39.643399",
     "exception": false,
     "start_time": "2022-07-07T14:13:39.639732",
     "status": "completed"
    },
    "tags": []
   },
   "source": [
    "### Notebook code"
   ]
  },
  {
   "cell_type": "code",
   "execution_count": 5,
   "id": "718d12e9",
   "metadata": {
    "execution": {
     "iopub.execute_input": "2022-07-07T14:13:39.651216Z",
     "iopub.status.busy": "2022-07-07T14:13:39.650916Z",
     "iopub.status.idle": "2022-07-07T14:13:40.204835Z",
     "shell.execute_reply": "2022-07-07T14:13:40.203852Z"
    },
    "papermill": {
     "duration": 0.560689,
     "end_time": "2022-07-07T14:13:40.207220",
     "exception": false,
     "start_time": "2022-07-07T14:13:39.646531",
     "status": "completed"
    },
    "tags": []
   },
   "outputs": [
    {
     "name": "stderr",
     "output_type": "stream",
     "text": [
      "2022-07-07 14:13:40,016\tINFO worker.py:842 -- Connecting to existing Ray cluster at address: 172.17.0.2:6379\n"
     ]
    }
   ],
   "source": [
    "from pynb_dag_runner.tasks.task_opentelemetry_logging import PydarLogger\n",
    "\n",
    "logger = PydarLogger(P)"
   ]
  },
  {
   "cell_type": "markdown",
   "id": "966b7d45",
   "metadata": {
    "papermill": {
     "duration": 0.004583,
     "end_time": "2022-07-07T14:13:40.216914",
     "exception": false,
     "start_time": "2022-07-07T14:13:40.212331",
     "status": "completed"
    },
    "tags": []
   },
   "source": [
    "## Load and limit train data"
   ]
  },
  {
   "cell_type": "code",
   "execution_count": 6,
   "id": "c2edb9b1",
   "metadata": {
    "execution": {
     "iopub.execute_input": "2022-07-07T14:13:40.227143Z",
     "iopub.status.busy": "2022-07-07T14:13:40.226752Z",
     "iopub.status.idle": "2022-07-07T14:13:40.719937Z",
     "shell.execute_reply": "2022-07-07T14:13:40.719073Z"
    },
    "papermill": {
     "duration": 0.50067,
     "end_time": "2022-07-07T14:13:40.722205",
     "exception": false,
     "start_time": "2022-07-07T14:13:40.221535",
     "status": "completed"
    },
    "tags": []
   },
   "outputs": [],
   "source": [
    "def load_and_limit_train_data(P):\n",
    "    from common.io import datalake_root, read_numpy\n",
    "    from sklearn.model_selection import train_test_split\n",
    "\n",
    "    X_train_all = read_numpy(datalake_root(P) / \"train-data\" / \"digits.numpy\")\n",
    "    y_train_all = read_numpy(datalake_root(P) / \"train-data\" / \"labels.numpy\")\n",
    "\n",
    "    assert isinstance(P[\"task.nr_train_images\"], int)\n",
    "\n",
    "    # Note: train_test_split will fail if split is 0 or 100%.\n",
    "    assert 0 < P[\"task.nr_train_images\"] < len(y_train_all)\n",
    "\n",
    "    X_train, _, y_train, _ = train_test_split(\n",
    "        X_train_all,\n",
    "        y_train_all,\n",
    "        train_size=P[\"task.nr_train_images\"],\n",
    "        test_size=None,\n",
    "        stratify=y_train_all,\n",
    "        shuffle=True,\n",
    "        random_state=123,\n",
    "    )\n",
    "\n",
    "    assert X_train.shape == (len(y_train), 8 * 8)\n",
    "    return X_train, y_train\n",
    "\n",
    "\n",
    "X_train, y_train = load_and_limit_train_data(P)"
   ]
  },
  {
   "cell_type": "markdown",
   "id": "a1bfe63f",
   "metadata": {
    "papermill": {
     "duration": 0.003869,
     "end_time": "2022-07-07T14:13:40.731577",
     "exception": false,
     "start_time": "2022-07-07T14:13:40.727708",
     "status": "completed"
    },
    "tags": []
   },
   "source": [
    "## Train support vector classifier model\n",
    "\n",
    "Below we assume that the hyperparameter $C$ is known.\n",
    "\n",
    "However, this should ideally be found by a hyperparameter search. That could be\n",
    "done in parallel on the Ray cluster, but this needs some more work. Ie., to use\n",
    "multiple cores in the notebook, those cores should be reserved when starting the\n",
    "notebook task (TODO).\n",
    "\n",
    "- https://docs.ray.io/en/latest/tune/key-concepts.html\n",
    "\n",
    "Note: cv-scores would need to be computed here, since they depend on the train data.\n",
    "After this notebook only the onnx-model is available."
   ]
  },
  {
   "cell_type": "code",
   "execution_count": 7,
   "id": "b8442079",
   "metadata": {
    "execution": {
     "iopub.execute_input": "2022-07-07T14:13:40.748155Z",
     "iopub.status.busy": "2022-07-07T14:13:40.747676Z",
     "iopub.status.idle": "2022-07-07T14:13:40.777165Z",
     "shell.execute_reply": "2022-07-07T14:13:40.776299Z"
    },
    "papermill": {
     "duration": 0.044203,
     "end_time": "2022-07-07T14:13:40.779126",
     "exception": false,
     "start_time": "2022-07-07T14:13:40.734923",
     "status": "completed"
    },
    "tags": []
   },
   "outputs": [],
   "source": [
    "from sklearn.svm import SVC"
   ]
  },
  {
   "cell_type": "code",
   "execution_count": 8,
   "id": "6bf30e9c",
   "metadata": {
    "execution": {
     "iopub.execute_input": "2022-07-07T14:13:40.788953Z",
     "iopub.status.busy": "2022-07-07T14:13:40.788491Z",
     "iopub.status.idle": "2022-07-07T14:13:41.005165Z",
     "shell.execute_reply": "2022-07-07T14:13:41.004513Z"
    },
    "papermill": {
     "duration": 0.224494,
     "end_time": "2022-07-07T14:13:41.007314",
     "exception": false,
     "start_time": "2022-07-07T14:13:40.782820",
     "status": "completed"
    },
    "tags": []
   },
   "outputs": [
    {
     "data": {
      "text/plain": [
       "SVC(C=0.1, kernel='linear', probability=True)"
      ]
     },
     "execution_count": 8,
     "metadata": {},
     "output_type": "execute_result"
    }
   ],
   "source": [
    "model = SVC(C=0.1, kernel=\"linear\", probability=True)\n",
    "\n",
    "model.fit(X_train, y_train)"
   ]
  },
  {
   "cell_type": "markdown",
   "id": "c2396484",
   "metadata": {
    "papermill": {
     "duration": 0.003818,
     "end_time": "2022-07-07T14:13:41.015414",
     "exception": false,
     "start_time": "2022-07-07T14:13:41.011596",
     "status": "completed"
    },
    "tags": []
   },
   "source": [
    "### Q: Can the labels returned by `predict(..)` be computed from probabilities returned by the `predict_prob`-method?"
   ]
  },
  {
   "cell_type": "code",
   "execution_count": 9,
   "id": "32a3572e",
   "metadata": {
    "execution": {
     "iopub.execute_input": "2022-07-07T14:13:41.024474Z",
     "iopub.status.busy": "2022-07-07T14:13:41.024067Z",
     "iopub.status.idle": "2022-07-07T14:13:41.125172Z",
     "shell.execute_reply": "2022-07-07T14:13:41.124316Z"
    },
    "papermill": {
     "duration": 0.107825,
     "end_time": "2022-07-07T14:13:41.127030",
     "exception": false,
     "start_time": "2022-07-07T14:13:41.019205",
     "status": "completed"
    },
    "tags": []
   },
   "outputs": [
    {
     "name": "stdout",
     "output_type": "stream",
     "text": [
      " - Logging nr_max_prob_neq_label (int) : 0\n"
     ]
    }
   ],
   "source": [
    "import numpy as np\n",
    "\n",
    "y_train_labels = model.predict(X_train)\n",
    "y_train_probabilities = model.predict_proba(X_train)\n",
    "assert y_train_probabilities.shape == (len(y_train), 10)\n",
    "\n",
    "y_train_max_prob_labels = np.argmax(y_train_probabilities, axis=1)\n",
    "assert y_train_labels.shape == y_train_max_prob_labels.shape == y_train.shape\n",
    "\n",
    "# If the predicted labels would coincide with the labels that have\n",
    "# maximum probability, the below number would be zero\n",
    "logger.log_int(\n",
    "    \"nr_max_prob_neq_label\", int(sum(y_train_max_prob_labels != y_train_labels))\n",
    ")"
   ]
  },
  {
   "cell_type": "markdown",
   "id": "f061e346",
   "metadata": {
    "papermill": {
     "duration": 0.00448,
     "end_time": "2022-07-07T14:13:41.135944",
     "exception": false,
     "start_time": "2022-07-07T14:13:41.131464",
     "status": "completed"
    },
    "tags": []
   },
   "source": [
    "The explanation is (likely) explained in the SVC source, see\n",
    "[here](https://github.com/scikit-learn/scikit-learn/blob/main/sklearn/svm/_base.py).\n",
    "Namely, the outputs from `predict(..)` and `predict_proba(..)` may not in some\n",
    "cases be compatible since the latter is computed using cross-validation while\n",
    "the former is not. Thus, the above number need not be zero."
   ]
  },
  {
   "cell_type": "markdown",
   "id": "e33c876d",
   "metadata": {
    "papermill": {
     "duration": 0.003748,
     "end_time": "2022-07-07T14:13:41.143658",
     "exception": false,
     "start_time": "2022-07-07T14:13:41.139910",
     "status": "completed"
    },
    "tags": []
   },
   "source": [
    "## Persist model"
   ]
  },
  {
   "cell_type": "code",
   "execution_count": 10,
   "id": "8dc98798",
   "metadata": {
    "execution": {
     "iopub.execute_input": "2022-07-07T14:13:41.154891Z",
     "iopub.status.busy": "2022-07-07T14:13:41.154571Z",
     "iopub.status.idle": "2022-07-07T14:13:42.137099Z",
     "shell.execute_reply": "2022-07-07T14:13:42.136411Z"
    },
    "papermill": {
     "duration": 0.991398,
     "end_time": "2022-07-07T14:13:42.139994",
     "exception": false,
     "start_time": "2022-07-07T14:13:41.148596",
     "status": "completed"
    },
    "tags": []
   },
   "outputs": [],
   "source": [
    "from skl2onnx import convert_sklearn\n",
    "from skl2onnx.common.data_types import FloatTensorType\n",
    "\n",
    "#\n",
    "from common.io import datalake_root, write_onnx"
   ]
  },
  {
   "cell_type": "code",
   "execution_count": 11,
   "id": "b0a81eec",
   "metadata": {
    "execution": {
     "iopub.execute_input": "2022-07-07T14:13:42.150980Z",
     "iopub.status.busy": "2022-07-07T14:13:42.150467Z",
     "iopub.status.idle": "2022-07-07T14:13:42.211787Z",
     "shell.execute_reply": "2022-07-07T14:13:42.210976Z"
    },
    "papermill": {
     "duration": 0.069564,
     "end_time": "2022-07-07T14:13:42.213950",
     "exception": false,
     "start_time": "2022-07-07T14:13:42.144386",
     "status": "completed"
    },
    "tags": []
   },
   "outputs": [],
   "source": [
    "# convert sklearn model into onnx and persist to data lake\n",
    "\n",
    "model_onnx = convert_sklearn(\n",
    "    model, initial_types=[(\"float_input_8x8_image\", FloatTensorType([None, 8 * 8]))]\n",
    ")\n",
    "write_onnx(\n",
    "    datalake_root(P)\n",
    "    / \"models\"\n",
    "    / f\"nr_train_images={P['task.nr_train_images']}\"\n",
    "    / \"model.onnx\",\n",
    "    model_onnx,\n",
    ")"
   ]
  },
  {
   "cell_type": "code",
   "execution_count": null,
   "id": "10a37d13",
   "metadata": {
    "papermill": {
     "duration": 0.004792,
     "end_time": "2022-07-07T14:13:42.222593",
     "exception": false,
     "start_time": "2022-07-07T14:13:42.217801",
     "status": "completed"
    },
    "tags": []
   },
   "outputs": [],
   "source": []
  }
 ],
 "metadata": {
  "jupytext": {
   "cell_metadata_filter": "tags,-all",
   "main_language": "python",
   "notebook_metadata_filter": "-all"
  },
  "language_info": {
   "codemirror_mode": {
    "name": "ipython",
    "version": 3
   },
   "file_extension": ".py",
   "mimetype": "text/x-python",
   "name": "python",
   "nbconvert_exporter": "python",
   "pygments_lexer": "ipython3",
   "version": "3.8.10"
  },
  "papermill": {
   "default_parameters": {},
   "duration": 5.299942,
   "end_time": "2022-07-07T14:13:43.451453",
   "environment_variables": {},
   "exception": null,
   "input_path": "/home/host_user/workspace/mnist-demo-pipeline/mnist-demo-pipeline/notebooks/temp-notebook-x8n6icka.ipynb",
   "output_path": "notebooks/train-model.ipynb",
   "parameters": {
    "P": {
     "_opentelemetry_traceparent": "00-ae4c0ddb7a61dbf5c3ae6948e197b9ab-55384c1d044704f7-01",
     "pipeline.data_lake_root": "/pipeline-outputs/data-lake",
     "pipeline.github.actor": "matiasdahl",
     "pipeline.github.base_ref": "development",
     "pipeline.github.event_name": "pull_request",
     "pipeline.github.head_ref": "try-C-hyperparameter",
     "pipeline.github.job": "run-tests-pipeline-and-persist-pipeline-outputs",
     "pipeline.github.ref": "refs/pull/55/merge",
     "pipeline.github.ref_name": "55/merge",
     "pipeline.github.ref_type": "branch",
     "pipeline.github.repository": "pynb-dag-runner/mnist-digits-demo-pipeline",
     "pipeline.github.run_id": "2630104459",
     "pipeline.github.runner_name": "GitHub Actions 2",
     "pipeline.github.sha": "1c817c9dee14ac98f14dda197d89dc60a81cf438",
     "pipeline.github.workflow": "Run automated tests, pipeline and deploy results to static reporting site",
     "pipeline.pipeline_run_id": "6c33327a-27e1-404a-81a7-ffd008d84d60",
     "pipeline.run_environment": "ci",
     "run.retry_nr": "0",
     "task.max_nr_retries": "1",
     "task.notebook": "notebooks/train-model.py",
     "task.nr_train_images": 1200,
     "task.num_cpus": 1,
     "task.timeout_s": "None"
    }
   },
   "start_time": "2022-07-07T14:13:38.151511",
   "version": "2.3.3"
  }
 },
 "nbformat": 4,
 "nbformat_minor": 5
}