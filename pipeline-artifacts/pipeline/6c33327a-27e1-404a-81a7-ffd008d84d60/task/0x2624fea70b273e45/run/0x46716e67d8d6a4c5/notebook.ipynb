{
 "cells": [
  {
   "cell_type": "markdown",
   "id": "9de5296c",
   "metadata": {
    "papermill": {
     "duration": 0.006656,
     "end_time": "2022-07-07T14:14:07.637810",
     "exception": false,
     "start_time": "2022-07-07T14:14:07.631154",
     "status": "completed"
    },
    "tags": []
   },
   "source": [
    "# Benchmark model\n",
    "\n",
    "The purpose of this notebook is to benchmark persisted onnx-model (trained in the\n",
    "previous step) against evaluation set."
   ]
  },
  {
   "cell_type": "markdown",
   "id": "c30daacb",
   "metadata": {
    "papermill": {
     "duration": 0.006118,
     "end_time": "2022-07-07T14:14:07.648824",
     "exception": false,
     "start_time": "2022-07-07T14:14:07.642706",
     "status": "completed"
    },
    "tags": []
   },
   "source": [
    "### Determine run parameters"
   ]
  },
  {
   "cell_type": "code",
   "execution_count": 1,
   "id": "c81294a3",
   "metadata": {
    "execution": {
     "iopub.execute_input": "2022-07-07T14:14:07.660831Z",
     "iopub.status.busy": "2022-07-07T14:14:07.660437Z",
     "iopub.status.idle": "2022-07-07T14:14:07.671050Z",
     "shell.execute_reply": "2022-07-07T14:14:07.670429Z"
    },
    "lines_to_next_cell": 0,
    "papermill": {
     "duration": 0.019961,
     "end_time": "2022-07-07T14:14:07.673305",
     "exception": false,
     "start_time": "2022-07-07T14:14:07.653344",
     "status": "completed"
    },
    "tags": []
   },
   "outputs": [],
   "source": [
    "# ----------------- Parameters for interactive development --------------\n",
    "P = {\n",
    "    \"pipeline.data_lake_root\": \"/pipeline-outputs/data-lake\",\n",
    "    \"task.nr_train_images\": 600,\n",
    "}"
   ]
  },
  {
   "cell_type": "code",
   "execution_count": 2,
   "id": "394b019c",
   "metadata": {
    "execution": {
     "iopub.execute_input": "2022-07-07T14:14:07.688647Z",
     "iopub.status.busy": "2022-07-07T14:14:07.688324Z",
     "iopub.status.idle": "2022-07-07T14:14:07.691602Z",
     "shell.execute_reply": "2022-07-07T14:14:07.691021Z"
    },
    "lines_to_next_cell": 0,
    "papermill": {
     "duration": 0.014151,
     "end_time": "2022-07-07T14:14:07.694934",
     "exception": false,
     "start_time": "2022-07-07T14:14:07.680783",
     "status": "completed"
    },
    "tags": [
     "parameters"
    ]
   },
   "outputs": [],
   "source": [
    "# - During automated runs parameters will be injected in the below cell -"
   ]
  },
  {
   "cell_type": "code",
   "execution_count": 3,
   "id": "c6d718d3",
   "metadata": {
    "execution": {
     "iopub.execute_input": "2022-07-07T14:14:07.706324Z",
     "iopub.status.busy": "2022-07-07T14:14:07.706068Z",
     "iopub.status.idle": "2022-07-07T14:14:07.712005Z",
     "shell.execute_reply": "2022-07-07T14:14:07.711406Z"
    },
    "papermill": {
     "duration": 0.015458,
     "end_time": "2022-07-07T14:14:07.715376",
     "exception": false,
     "start_time": "2022-07-07T14:14:07.699918",
     "status": "completed"
    },
    "tags": [
     "injected-parameters"
    ]
   },
   "outputs": [],
   "source": [
    "# Parameters\n",
    "P = {\n",
    "    \"pipeline.data_lake_root\": \"/pipeline-outputs/data-lake\",\n",
    "    \"pipeline.run_environment\": \"ci\",\n",
    "    \"pipeline.pipeline_run_id\": \"6c33327a-27e1-404a-81a7-ffd008d84d60\",\n",
    "    \"pipeline.github.repository\": \"pynb-dag-runner/mnist-digits-demo-pipeline\",\n",
    "    \"pipeline.github.workflow\": \"Run automated tests, pipeline and deploy results to static reporting site\",\n",
    "    \"pipeline.github.runner_name\": \"GitHub Actions 2\",\n",
    "    \"pipeline.github.run_id\": \"2630104459\",\n",
    "    \"pipeline.github.actor\": \"matiasdahl\",\n",
    "    \"pipeline.github.job\": \"run-tests-pipeline-and-persist-pipeline-outputs\",\n",
    "    \"pipeline.github.base_ref\": \"development\",\n",
    "    \"pipeline.github.head_ref\": \"try-C-hyperparameter\",\n",
    "    \"pipeline.github.sha\": \"1c817c9dee14ac98f14dda197d89dc60a81cf438\",\n",
    "    \"pipeline.github.ref\": \"refs/pull/55/merge\",\n",
    "    \"pipeline.github.ref_type\": \"branch\",\n",
    "    \"pipeline.github.ref_name\": \"55/merge\",\n",
    "    \"pipeline.github.event_name\": \"pull_request\",\n",
    "    \"task.nr_train_images\": 1000,\n",
    "    \"task.notebook\": \"notebooks/benchmark-model.py\",\n",
    "    \"task.max_nr_retries\": \"1\",\n",
    "    \"run.retry_nr\": \"0\",\n",
    "    \"task.timeout_s\": \"None\",\n",
    "    \"task.num_cpus\": 1,\n",
    "    \"_opentelemetry_traceparent\": \"00-ae4c0ddb7a61dbf5c3ae6948e197b9ab-324c8d74a7ec46c2-01\",\n",
    "}\n"
   ]
  },
  {
   "cell_type": "code",
   "execution_count": 4,
   "id": "03c48cbe",
   "metadata": {
    "execution": {
     "iopub.execute_input": "2022-07-07T14:14:07.730106Z",
     "iopub.status.busy": "2022-07-07T14:14:07.729840Z",
     "iopub.status.idle": "2022-07-07T14:14:07.733000Z",
     "shell.execute_reply": "2022-07-07T14:14:07.732407Z"
    },
    "lines_to_next_cell": 0,
    "papermill": {
     "duration": 0.01543,
     "end_time": "2022-07-07T14:14:07.735997",
     "exception": false,
     "start_time": "2022-07-07T14:14:07.720567",
     "status": "completed"
    },
    "tags": []
   },
   "outputs": [],
   "source": [
    "# -----------------------------------------------------------------------"
   ]
  },
  {
   "cell_type": "markdown",
   "id": "014db2b9",
   "metadata": {
    "papermill": {
     "duration": 0.006524,
     "end_time": "2022-07-07T14:14:07.747683",
     "exception": false,
     "start_time": "2022-07-07T14:14:07.741159",
     "status": "completed"
    },
    "tags": []
   },
   "source": [
    "---"
   ]
  },
  {
   "cell_type": "markdown",
   "id": "869e666c",
   "metadata": {
    "lines_to_next_cell": 2,
    "papermill": {
     "duration": 0.012325,
     "end_time": "2022-07-07T14:14:07.765134",
     "exception": false,
     "start_time": "2022-07-07T14:14:07.752809",
     "status": "completed"
    },
    "tags": []
   },
   "source": [
    "### Notebook code"
   ]
  },
  {
   "cell_type": "code",
   "execution_count": 5,
   "id": "2dcbe736",
   "metadata": {
    "execution": {
     "iopub.execute_input": "2022-07-07T14:14:07.776025Z",
     "iopub.status.busy": "2022-07-07T14:14:07.775708Z",
     "iopub.status.idle": "2022-07-07T14:14:09.206531Z",
     "shell.execute_reply": "2022-07-07T14:14:09.205841Z"
    },
    "papermill": {
     "duration": 1.438891,
     "end_time": "2022-07-07T14:14:09.209107",
     "exception": false,
     "start_time": "2022-07-07T14:14:07.770216",
     "status": "completed"
    },
    "tags": []
   },
   "outputs": [
    {
     "name": "stderr",
     "output_type": "stream",
     "text": [
      "2022-07-07 14:14:09,005\tINFO worker.py:842 -- Connecting to existing Ray cluster at address: 172.17.0.2:6379\n"
     ]
    }
   ],
   "source": [
    "import itertools as it\n",
    "\n",
    "#\n",
    "import numpy as np\n",
    "import matplotlib.pyplot as plt\n",
    "\n",
    "#\n",
    "from pynb_dag_runner.tasks.task_opentelemetry_logging import PydarLogger\n",
    "\n",
    "#\n",
    "from common.io import datalake_root\n",
    "\n",
    "logger = PydarLogger(P)"
   ]
  },
  {
   "cell_type": "markdown",
   "id": "7016dc02",
   "metadata": {
    "papermill": {
     "duration": 0.005506,
     "end_time": "2022-07-07T14:14:09.222048",
     "exception": false,
     "start_time": "2022-07-07T14:14:09.216542",
     "status": "completed"
    },
    "tags": []
   },
   "source": [
    "## Load persisted onnx-model and evaluation data"
   ]
  },
  {
   "cell_type": "code",
   "execution_count": 6,
   "id": "f3a9b5a4",
   "metadata": {
    "execution": {
     "iopub.execute_input": "2022-07-07T14:14:09.239370Z",
     "iopub.status.busy": "2022-07-07T14:14:09.238589Z",
     "iopub.status.idle": "2022-07-07T14:14:09.243219Z",
     "shell.execute_reply": "2022-07-07T14:14:09.242509Z"
    },
    "papermill": {
     "duration": 0.019422,
     "end_time": "2022-07-07T14:14:09.248023",
     "exception": false,
     "start_time": "2022-07-07T14:14:09.228601",
     "status": "completed"
    },
    "tags": []
   },
   "outputs": [],
   "source": [
    "from common.io import read_onnx, get_onnx_inputs, get_onnx_outputs, read_numpy"
   ]
  },
  {
   "cell_type": "code",
   "execution_count": 7,
   "id": "ba3c112c",
   "metadata": {
    "execution": {
     "iopub.execute_input": "2022-07-07T14:14:09.260934Z",
     "iopub.status.busy": "2022-07-07T14:14:09.260641Z",
     "iopub.status.idle": "2022-07-07T14:14:09.274184Z",
     "shell.execute_reply": "2022-07-07T14:14:09.273212Z"
    },
    "lines_to_next_cell": 0,
    "papermill": {
     "duration": 0.022754,
     "end_time": "2022-07-07T14:14:09.276738",
     "exception": false,
     "start_time": "2022-07-07T14:14:09.253984",
     "status": "completed"
    },
    "tags": []
   },
   "outputs": [],
   "source": [
    "onnx_inference_session = read_onnx(\n",
    "    datalake_root(P)\n",
    "    / \"models\"\n",
    "    / f\"nr_train_images={P['task.nr_train_images']}\"\n",
    "    / \"model.onnx\"\n",
    ")"
   ]
  },
  {
   "cell_type": "markdown",
   "id": "ba6825fa",
   "metadata": {
    "papermill": {
     "duration": 0.005905,
     "end_time": "2022-07-07T14:14:09.287694",
     "exception": false,
     "start_time": "2022-07-07T14:14:09.281789",
     "status": "completed"
    },
    "tags": []
   },
   "source": [
    "### Record structure of inputs and outputs for ONNX model\n",
    "\n",
    "(this should likely be done in training notebook)"
   ]
  },
  {
   "cell_type": "code",
   "execution_count": 8,
   "id": "eccac3a5",
   "metadata": {
    "execution": {
     "iopub.execute_input": "2022-07-07T14:14:09.299658Z",
     "iopub.status.busy": "2022-07-07T14:14:09.299360Z",
     "iopub.status.idle": "2022-07-07T14:14:09.307364Z",
     "shell.execute_reply": "2022-07-07T14:14:09.306126Z"
    },
    "papermill": {
     "duration": 0.019047,
     "end_time": "2022-07-07T14:14:09.311556",
     "exception": false,
     "start_time": "2022-07-07T14:14:09.292509",
     "status": "completed"
    },
    "tags": []
   },
   "outputs": [
    {
     "name": "stdout",
     "output_type": "stream",
     "text": [
      "{\n",
      "  \"inputs\": [\n",
      "    {\n",
      "      \"name\": \"float_input_8x8_image\",\n",
      "      \"shape\": [\n",
      "        null,\n",
      "        64\n",
      "      ],\n",
      "      \"type\": \"tensor(float)\"\n",
      "    }\n",
      "  ],\n",
      "  \"outputs\": [\n",
      "    {\n",
      "      \"name\": \"output_label\",\n",
      "      \"shape\": [\n",
      "        null\n",
      "      ],\n",
      "      \"type\": \"tensor(int64)\"\n",
      "    },\n",
      "    {\n",
      "      \"name\": \"output_probability\",\n",
      "      \"shape\": [],\n",
      "      \"type\": \"seq(map(int64,tensor(float)))\"\n",
      "    }\n",
      "  ]\n",
      "}\n"
     ]
    }
   ],
   "source": [
    "import json\n",
    "\n",
    "onnx_io = json.dumps(\n",
    "    {\n",
    "        \"inputs\": get_onnx_inputs(onnx_inference_session),\n",
    "        \"outputs\": get_onnx_outputs(onnx_inference_session),\n",
    "    },\n",
    "    indent=2,\n",
    ")\n",
    "\n",
    "\n",
    "logger.log_artefact(\"onnx_io_structure.json\", onnx_io)\n",
    "print(onnx_io)"
   ]
  },
  {
   "cell_type": "markdown",
   "id": "6c853dc6",
   "metadata": {
    "papermill": {
     "duration": 0.005417,
     "end_time": "2022-07-07T14:14:09.321988",
     "exception": false,
     "start_time": "2022-07-07T14:14:09.316571",
     "status": "completed"
    },
    "tags": []
   },
   "source": [
    "### Evaluate model performance on evaluation data set"
   ]
  },
  {
   "cell_type": "code",
   "execution_count": 9,
   "id": "1bc57d6a",
   "metadata": {
    "execution": {
     "iopub.execute_input": "2022-07-07T14:14:09.334397Z",
     "iopub.status.busy": "2022-07-07T14:14:09.333689Z",
     "iopub.status.idle": "2022-07-07T14:14:09.342412Z",
     "shell.execute_reply": "2022-07-07T14:14:09.341612Z"
    },
    "papermill": {
     "duration": 0.022404,
     "end_time": "2022-07-07T14:14:09.349948",
     "exception": false,
     "start_time": "2022-07-07T14:14:09.327544",
     "status": "completed"
    },
    "tags": []
   },
   "outputs": [],
   "source": [
    "# load evaluation data\n",
    "X_test = read_numpy(datalake_root(P) / \"test-data\" / \"digits.numpy\")\n",
    "y_test = read_numpy(datalake_root(P) / \"test-data\" / \"labels.numpy\")"
   ]
  },
  {
   "cell_type": "code",
   "execution_count": 10,
   "id": "1af2a118",
   "metadata": {
    "execution": {
     "iopub.execute_input": "2022-07-07T14:14:09.362995Z",
     "iopub.status.busy": "2022-07-07T14:14:09.362523Z",
     "iopub.status.idle": "2022-07-07T14:14:09.385655Z",
     "shell.execute_reply": "2022-07-07T14:14:09.384786Z"
    },
    "papermill": {
     "duration": 0.032159,
     "end_time": "2022-07-07T14:14:09.388041",
     "exception": false,
     "start_time": "2022-07-07T14:14:09.355882",
     "status": "completed"
    },
    "tags": []
   },
   "outputs": [],
   "source": [
    "def get_model_outputs(X, onnx_inference_session):\n",
    "    y_pred_labels, y_pred_map = onnx_inference_session.run(\n",
    "        [\"output_label\", \"output_probability\"],\n",
    "        {\"float_input_8x8_image\": X.astype(np.float32)},\n",
    "    )\n",
    "    y_pred_probs = np.array(\n",
    "        [[probabilities[digit] for digit in range(10)] for probabilities in y_pred_map]\n",
    "    )\n",
    "\n",
    "    assert y_pred_labels.shape == (X.shape[0],)\n",
    "    assert y_pred_probs.shape == (X.shape[0], 10)\n",
    "\n",
    "    return y_pred_labels, y_pred_probs\n",
    "\n",
    "\n",
    "# Note: as shown in the training notebook, the predicted labels and probabilities\n",
    "# computed below need not be compatible.\n",
    "y_pred_labels_test, y_pred_probs_test = get_model_outputs(\n",
    "    X_test, onnx_inference_session\n",
    ")"
   ]
  },
  {
   "cell_type": "markdown",
   "id": "fb280d1d",
   "metadata": {
    "papermill": {
     "duration": 0.005706,
     "end_time": "2022-07-07T14:14:09.399655",
     "exception": false,
     "start_time": "2022-07-07T14:14:09.393949",
     "status": "completed"
    },
    "tags": []
   },
   "source": [
    "### Confusion matrix"
   ]
  },
  {
   "cell_type": "code",
   "execution_count": 11,
   "id": "0bfaffc2",
   "metadata": {
    "execution": {
     "iopub.execute_input": "2022-07-07T14:14:09.412741Z",
     "iopub.status.busy": "2022-07-07T14:14:09.412444Z",
     "iopub.status.idle": "2022-07-07T14:14:09.415924Z",
     "shell.execute_reply": "2022-07-07T14:14:09.414991Z"
    },
    "papermill": {
     "duration": 0.01423,
     "end_time": "2022-07-07T14:14:09.419342",
     "exception": false,
     "start_time": "2022-07-07T14:14:09.405112",
     "status": "completed"
    },
    "tags": []
   },
   "outputs": [],
   "source": [
    "# TODO"
   ]
  },
  {
   "cell_type": "markdown",
   "id": "bb088baf",
   "metadata": {
    "papermill": {
     "duration": 0.006347,
     "end_time": "2022-07-07T14:14:09.431241",
     "exception": false,
     "start_time": "2022-07-07T14:14:09.424894",
     "status": "completed"
    },
    "tags": []
   },
   "source": [
    "### Plot predicted probabilities for each classifier over all evaluation digit images"
   ]
  },
  {
   "cell_type": "code",
   "execution_count": 12,
   "id": "fb4f48aa",
   "metadata": {
    "execution": {
     "iopub.execute_input": "2022-07-07T14:14:09.443522Z",
     "iopub.status.busy": "2022-07-07T14:14:09.443220Z",
     "iopub.status.idle": "2022-07-07T14:14:13.661477Z",
     "shell.execute_reply": "2022-07-07T14:14:13.660595Z"
    },
    "papermill": {
     "duration": 4.227159,
     "end_time": "2022-07-07T14:14:13.663349",
     "exception": false,
     "start_time": "2022-07-07T14:14:09.436190",
     "status": "completed"
    },
    "tags": []
   },
   "outputs": [
    {
     "data": {
      "image/png": "[encoded data removed]",
      "text/plain": [
       "<Figure size 1152x432 with 10 Axes>"
      ]
     },
     "metadata": {
      "needs_background": "light"
     },
     "output_type": "display_data"
    }
   ],
   "source": [
    "def plot_per_digit_probabilities(y_pred_probs):\n",
    "    fig, axs = plt.subplots(nrows=2, ncols=5, figsize=(16, 6))\n",
    "\n",
    "    for (r, c), digit, ax in zip(\n",
    "        it.product(range(2), range(5)), range(10), axs.reshape(-1)\n",
    "    ):\n",
    "        ax.hist(y_pred_probs_test[:, digit], bins=20)\n",
    "\n",
    "        ax.set_title(f\"Digit {digit}\")\n",
    "        if r == 1 and c == 2:\n",
    "            ax.set_xlabel(\"probability\", fontsize=16)\n",
    "\n",
    "        if c == 0:\n",
    "            ax.set_ylabel(\"counts\", fontsize=16)\n",
    "        ax.set_yscale(\"log\")\n",
    "\n",
    "    fig.tight_layout()\n",
    "    fig.suptitle(\n",
    "        f\"Distributions of prediction probabilities for each digit \"\n",
    "        f\"(on evaluation data, n={y_pred_probs.shape[0]})\",\n",
    "        fontsize=20,\n",
    "    )\n",
    "    fig.tight_layout()\n",
    "    fig.show()\n",
    "\n",
    "    return fig\n",
    "\n",
    "\n",
    "fig = plot_per_digit_probabilities(y_pred_probs_test)"
   ]
  },
  {
   "cell_type": "markdown",
   "id": "b163184a",
   "metadata": {
    "papermill": {
     "duration": 0.005617,
     "end_time": "2022-07-07T14:14:13.675390",
     "exception": false,
     "start_time": "2022-07-07T14:14:13.669773",
     "status": "completed"
    },
    "tags": []
   },
   "source": [
    "From the above distributions we see that most digits have clear separation between\n",
    "high and lower probabilities. Morover, in each case there is roughly an order of\n",
    "magnitude more of digits with low probabilities. This is compatible with digits\n",
    "being roughly evenly distributed in the data."
   ]
  },
  {
   "cell_type": "code",
   "execution_count": 13,
   "id": "08044674",
   "metadata": {
    "execution": {
     "iopub.execute_input": "2022-07-07T14:14:13.688718Z",
     "iopub.status.busy": "2022-07-07T14:14:13.688018Z",
     "iopub.status.idle": "2022-07-07T14:14:14.238532Z",
     "shell.execute_reply": "2022-07-07T14:14:14.237752Z"
    },
    "papermill": {
     "duration": 0.559571,
     "end_time": "2022-07-07T14:14:14.240809",
     "exception": false,
     "start_time": "2022-07-07T14:14:13.681238",
     "status": "completed"
    },
    "tags": []
   },
   "outputs": [],
   "source": [
    "logger.log_figure(\"per-digit-probabilities.png\", fig)"
   ]
  },
  {
   "cell_type": "markdown",
   "id": "71f378a5",
   "metadata": {
    "papermill": {
     "duration": 0.005795,
     "end_time": "2022-07-07T14:14:14.252895",
     "exception": false,
     "start_time": "2022-07-07T14:14:14.247100",
     "status": "completed"
    },
    "tags": []
   },
   "source": [
    "### Plot ROC curves for individual one-vs-rest classifiers"
   ]
  },
  {
   "cell_type": "code",
   "execution_count": 14,
   "id": "66decc6b",
   "metadata": {
    "execution": {
     "iopub.execute_input": "2022-07-07T14:14:14.266683Z",
     "iopub.status.busy": "2022-07-07T14:14:14.266184Z",
     "iopub.status.idle": "2022-07-07T14:14:14.727783Z",
     "shell.execute_reply": "2022-07-07T14:14:14.726385Z"
    },
    "papermill": {
     "duration": 0.471073,
     "end_time": "2022-07-07T14:14:14.729858",
     "exception": false,
     "start_time": "2022-07-07T14:14:14.258785",
     "status": "completed"
    },
    "tags": []
   },
   "outputs": [],
   "source": [
    "from sklearn import metrics"
   ]
  },
  {
   "cell_type": "code",
   "execution_count": 15,
   "id": "6a829335",
   "metadata": {
    "execution": {
     "iopub.execute_input": "2022-07-07T14:14:14.745144Z",
     "iopub.status.busy": "2022-07-07T14:14:14.744390Z",
     "iopub.status.idle": "2022-07-07T14:14:15.977635Z",
     "shell.execute_reply": "2022-07-07T14:14:15.976781Z"
    },
    "papermill": {
     "duration": 1.244389,
     "end_time": "2022-07-07T14:14:15.979784",
     "exception": false,
     "start_time": "2022-07-07T14:14:14.735395",
     "status": "completed"
    },
    "tags": []
   },
   "outputs": [
    {
     "data": {
      "image/png": "[encoded data removed]",
      "text/plain": [
       "<Figure size 1152x576 with 10 Axes>"
      ]
     },
     "metadata": {
      "needs_background": "light"
     },
     "output_type": "display_data"
    }
   ],
   "source": [
    "def plot_roc_curves(y, y_pred_probs):\n",
    "    # based on example code\n",
    "    # https://scikit-learn.org/stable/auto_examples/model_selection/plot_roc.html\n",
    "\n",
    "    fig, axs = plt.subplots(nrows=2, ncols=5, figsize=(16, 8))\n",
    "\n",
    "    roc_auc_dict = {}\n",
    "\n",
    "    for (r, c), digit, ax in zip(\n",
    "        it.product(range(2), range(5)), range(10), axs.reshape(-1)\n",
    "    ):\n",
    "        fpr, tpr, _ = metrics.roc_curve(y == digit, y_pred_probs[:, digit])\n",
    "        auc = metrics.auc(fpr, tpr)\n",
    "        roc_auc_dict[str(digit)] = auc\n",
    "\n",
    "        ax.plot(fpr, tpr, label=f\"ROC AUC={round(auc, 3)}\")\n",
    "\n",
    "        ax.set_title(f\"\\nDigit {digit}\", fontsize=16)\n",
    "        if r == 1:\n",
    "            ax.set_xlabel(\"FPR\", fontsize=18)\n",
    "\n",
    "        if c == 0:\n",
    "            ax.set_ylabel(\"TPR\", fontsize=18)\n",
    "\n",
    "        ax.set_xlim([-0.05, 1.05])\n",
    "        ax.set_ylim([-0.05, 1.05])\n",
    "        ax.legend(loc=\"lower right\", frameon=False, fontsize=14)\n",
    "\n",
    "    fig.tight_layout()\n",
    "    fig.suptitle(\n",
    "        f\"ROC plots for one-vs-rest performances \"\n",
    "        f\"(on evaluation data, n={y_pred_probs_test.shape[1]}\",\n",
    "        fontsize=22,\n",
    "    )\n",
    "    fig.tight_layout()\n",
    "    fig.show()\n",
    "\n",
    "    return roc_auc_dict, fig\n",
    "\n",
    "\n",
    "roc_auc_dict, fig = plot_roc_curves(y_test, y_pred_probs_test)"
   ]
  },
  {
   "cell_type": "code",
   "execution_count": 16,
   "id": "26b1da58",
   "metadata": {
    "execution": {
     "iopub.execute_input": "2022-07-07T14:14:15.997002Z",
     "iopub.status.busy": "2022-07-07T14:14:15.995983Z",
     "iopub.status.idle": "2022-07-07T14:14:16.260595Z",
     "shell.execute_reply": "2022-07-07T14:14:16.259806Z"
    },
    "papermill": {
     "duration": 0.2755,
     "end_time": "2022-07-07T14:14:16.262691",
     "exception": false,
     "start_time": "2022-07-07T14:14:15.987191",
     "status": "completed"
    },
    "tags": []
   },
   "outputs": [],
   "source": [
    "logger.log_figure(\"per-digit-roc-curves.png\", fig)"
   ]
  },
  {
   "cell_type": "code",
   "execution_count": 17,
   "id": "e74b120c",
   "metadata": {
    "execution": {
     "iopub.execute_input": "2022-07-07T14:14:16.278435Z",
     "iopub.status.busy": "2022-07-07T14:14:16.277971Z",
     "iopub.status.idle": "2022-07-07T14:14:16.284060Z",
     "shell.execute_reply": "2022-07-07T14:14:16.282985Z"
    },
    "papermill": {
     "duration": 0.016744,
     "end_time": "2022-07-07T14:14:16.286686",
     "exception": false,
     "start_time": "2022-07-07T14:14:16.269942",
     "status": "completed"
    },
    "tags": []
   },
   "outputs": [
    {
     "data": {
      "text/plain": [
       "{'0': 1.0,\n",
       " '1': 0.9988003748828491,\n",
       " '2': 1.0,\n",
       " '3': 0.9995501405810684,\n",
       " '4': 1.0,\n",
       " '5': 0.9994376757263355,\n",
       " '6': 0.999923792104862,\n",
       " '7': 0.9997713763145862,\n",
       " '8': 0.9875078814627996,\n",
       " '9': 0.9991617131534827}"
      ]
     },
     "execution_count": 17,
     "metadata": {},
     "output_type": "execute_result"
    }
   ],
   "source": [
    "roc_auc_dict"
   ]
  },
  {
   "cell_type": "code",
   "execution_count": 18,
   "id": "c1f315cd",
   "metadata": {
    "execution": {
     "iopub.execute_input": "2022-07-07T14:14:16.301508Z",
     "iopub.status.busy": "2022-07-07T14:14:16.301061Z",
     "iopub.status.idle": "2022-07-07T14:14:16.306928Z",
     "shell.execute_reply": "2022-07-07T14:14:16.306170Z"
    },
    "papermill": {
     "duration": 0.015986,
     "end_time": "2022-07-07T14:14:16.309266",
     "exception": false,
     "start_time": "2022-07-07T14:14:16.293280",
     "status": "completed"
    },
    "tags": []
   },
   "outputs": [
    {
     "name": "stdout",
     "output_type": "stream",
     "text": [
      " - Logging roc_auc_per_digit (json) : {'0': 1.0, '1': 0.9988003748828491, '2': 1.0, '3': 0.9995501405810684, '4': 1.0, '5': 0.9994376757263355, '6': 0.999923792104862, '7': 0.9997713763145862, '8': 0.9875078814627996, '9': 0.9991617131534827}\n"
     ]
    }
   ],
   "source": [
    "logger.log_value(\"roc_auc_per_digit\", roc_auc_dict)"
   ]
  },
  {
   "cell_type": "markdown",
   "id": "df4000f4",
   "metadata": {
    "papermill": {
     "duration": 0.006371,
     "end_time": "2022-07-07T14:14:16.322148",
     "exception": false,
     "start_time": "2022-07-07T14:14:16.315777",
     "status": "completed"
    },
    "tags": []
   },
   "source": [
    "### Compute and log mean ROC AUC score averaged over all digits"
   ]
  },
  {
   "cell_type": "code",
   "execution_count": 19,
   "id": "3d13d2eb",
   "metadata": {
    "execution": {
     "iopub.execute_input": "2022-07-07T14:14:16.337833Z",
     "iopub.status.busy": "2022-07-07T14:14:16.337346Z",
     "iopub.status.idle": "2022-07-07T14:14:16.350497Z",
     "shell.execute_reply": "2022-07-07T14:14:16.349686Z"
    },
    "papermill": {
     "duration": 0.023588,
     "end_time": "2022-07-07T14:14:16.352352",
     "exception": false,
     "start_time": "2022-07-07T14:14:16.328764",
     "status": "completed"
    },
    "tags": []
   },
   "outputs": [
    {
     "name": "stdout",
     "output_type": "stream",
     "text": [
      " - Logging roc_auc_class_mean (float) : 0.9984152954225982\n"
     ]
    }
   ],
   "source": [
    "roc_auc_macro = np.mean(list(roc_auc_dict.values()))\n",
    "\n",
    "logger.log_float(\"roc_auc_class_mean\", roc_auc_macro)\n",
    "\n",
    "# assert that the same value can be computed directly using sklearn\n",
    "assert roc_auc_macro == metrics.roc_auc_score(\n",
    "    y_test, y_pred_probs_test, average=\"macro\", multi_class=\"ovr\"\n",
    ")"
   ]
  },
  {
   "cell_type": "code",
   "execution_count": 20,
   "id": "17618e06",
   "metadata": {
    "execution": {
     "iopub.execute_input": "2022-07-07T14:14:16.366353Z",
     "iopub.status.busy": "2022-07-07T14:14:16.365903Z",
     "iopub.status.idle": "2022-07-07T14:14:16.369615Z",
     "shell.execute_reply": "2022-07-07T14:14:16.368640Z"
    },
    "lines_to_next_cell": 0,
    "papermill": {
     "duration": 0.01307,
     "end_time": "2022-07-07T14:14:16.371592",
     "exception": false,
     "start_time": "2022-07-07T14:14:16.358522",
     "status": "completed"
    },
    "tags": []
   },
   "outputs": [],
   "source": [
    "# ---"
   ]
  },
  {
   "cell_type": "code",
   "execution_count": null,
   "id": "e09d6ead",
   "metadata": {
    "papermill": {
     "duration": 0.006431,
     "end_time": "2022-07-07T14:14:16.384420",
     "exception": false,
     "start_time": "2022-07-07T14:14:16.377989",
     "status": "completed"
    },
    "tags": []
   },
   "outputs": [],
   "source": []
  }
 ],
 "metadata": {
  "jupytext": {
   "cell_metadata_filter": "tags,-all",
   "main_language": "python",
   "notebook_metadata_filter": "-all"
  },
  "language_info": {
   "codemirror_mode": {
    "name": "ipython",
    "version": 3
   },
   "file_extension": ".py",
   "mimetype": "text/x-python",
   "name": "python",
   "nbconvert_exporter": "python",
   "pygments_lexer": "ipython3",
   "version": "3.8.10"
  },
  "papermill": {
   "default_parameters": {},
   "duration": 11.611838,
   "end_time": "2022-07-07T14:14:17.620003",
   "environment_variables": {},
   "exception": null,
   "input_path": "/home/host_user/workspace/mnist-demo-pipeline/mnist-demo-pipeline/notebooks/temp-notebook-ncms14t8.ipynb",
   "output_path": "notebooks/benchmark-model.ipynb",
   "parameters": {
    "P": {
     "_opentelemetry_traceparent": "00-ae4c0ddb7a61dbf5c3ae6948e197b9ab-324c8d74a7ec46c2-01",
     "pipeline.data_lake_root": "/pipeline-outputs/data-lake",
     "pipeline.github.actor": "matiasdahl",
     "pipeline.github.base_ref": "development",
     "pipeline.github.event_name": "pull_request",
     "pipeline.github.head_ref": "try-C-hyperparameter",
     "pipeline.github.job": "run-tests-pipeline-and-persist-pipeline-outputs",
     "pipeline.github.ref": "refs/pull/55/merge",
     "pipeline.github.ref_name": "55/merge",
     "pipeline.github.ref_type": "branch",
     "pipeline.github.repository": "pynb-dag-runner/mnist-digits-demo-pipeline",
     "pipeline.github.run_id": "2630104459",
     "pipeline.github.runner_name": "GitHub Actions 2",
     "pipeline.github.sha": "1c817c9dee14ac98f14dda197d89dc60a81cf438",
     "pipeline.github.workflow": "Run automated tests, pipeline and deploy results to static reporting site",
     "pipeline.pipeline_run_id": "6c33327a-27e1-404a-81a7-ffd008d84d60",
     "pipeline.run_environment": "ci",
     "run.retry_nr": "0",
     "task.max_nr_retries": "1",
     "task.notebook": "notebooks/benchmark-model.py",
     "task.nr_train_images": 1000,
     "task.num_cpus": 1,
     "task.timeout_s": "None"
    }
   },
   "start_time": "2022-07-07T14:14:06.008165",
   "version": "2.3.3"
  }
 },
 "nbformat": 4,
 "nbformat_minor": 5
}