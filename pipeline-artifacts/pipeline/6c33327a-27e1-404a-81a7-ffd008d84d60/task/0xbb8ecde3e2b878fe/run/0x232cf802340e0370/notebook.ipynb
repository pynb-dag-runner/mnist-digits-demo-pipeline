{
 "cells": [
  {
   "cell_type": "markdown",
   "id": "d1b6bb8b",
   "metadata": {
    "papermill": {
     "duration": 0.004493,
     "end_time": "2022-07-07T14:13:34.076435",
     "exception": false,
     "start_time": "2022-07-07T14:13:34.071942",
     "status": "completed"
    },
    "tags": []
   },
   "source": [
    "# Train model\n",
    "\n",
    "The purpose of this notebook is:\n",
    "\n",
    "- Load all training data (images and labels).\n",
    "- Limit number of train images to `task.nr_train_images` (value provided as run parameter).\n",
    "- Train a support vector machine model using sklearn.\n",
    "- Persist the trained model using the ONNX format."
   ]
  },
  {
   "cell_type": "markdown",
   "id": "918bd52e",
   "metadata": {
    "papermill": {
     "duration": 0.003323,
     "end_time": "2022-07-07T14:13:34.085374",
     "exception": false,
     "start_time": "2022-07-07T14:13:34.082051",
     "status": "completed"
    },
    "tags": []
   },
   "source": [
    "### Determine run parameters"
   ]
  },
  {
   "cell_type": "code",
   "execution_count": 1,
   "id": "494ef6bd",
   "metadata": {
    "execution": {
     "iopub.execute_input": "2022-07-07T14:13:34.094799Z",
     "iopub.status.busy": "2022-07-07T14:13:34.094437Z",
     "iopub.status.idle": "2022-07-07T14:13:34.106446Z",
     "shell.execute_reply": "2022-07-07T14:13:34.105682Z"
    },
    "lines_to_next_cell": 0,
    "papermill": {
     "duration": 0.020017,
     "end_time": "2022-07-07T14:13:34.108907",
     "exception": false,
     "start_time": "2022-07-07T14:13:34.088890",
     "status": "completed"
    },
    "tags": []
   },
   "outputs": [],
   "source": [
    "# ----------------- Parameters for interactive development --------------\n",
    "P = {\n",
    "    \"pipeline.data_lake_root\": \"/pipeline-outputs/data-lake\",\n",
    "    \"task.nr_train_images\": 600,\n",
    "}"
   ]
  },
  {
   "cell_type": "code",
   "execution_count": 2,
   "id": "dcc69bcd",
   "metadata": {
    "execution": {
     "iopub.execute_input": "2022-07-07T14:13:34.117941Z",
     "iopub.status.busy": "2022-07-07T14:13:34.117674Z",
     "iopub.status.idle": "2022-07-07T14:13:34.122049Z",
     "shell.execute_reply": "2022-07-07T14:13:34.121096Z"
    },
    "lines_to_next_cell": 0,
    "papermill": {
     "duration": 0.011991,
     "end_time": "2022-07-07T14:13:34.125484",
     "exception": false,
     "start_time": "2022-07-07T14:13:34.113493",
     "status": "completed"
    },
    "tags": [
     "parameters"
    ]
   },
   "outputs": [],
   "source": [
    "# - During automated runs parameters will be injected in the below cell -"
   ]
  },
  {
   "cell_type": "code",
   "execution_count": 3,
   "id": "ee6d73fa",
   "metadata": {
    "execution": {
     "iopub.execute_input": "2022-07-07T14:13:34.134072Z",
     "iopub.status.busy": "2022-07-07T14:13:34.133820Z",
     "iopub.status.idle": "2022-07-07T14:13:34.138787Z",
     "shell.execute_reply": "2022-07-07T14:13:34.138220Z"
    },
    "papermill": {
     "duration": 0.014081,
     "end_time": "2022-07-07T14:13:34.142762",
     "exception": false,
     "start_time": "2022-07-07T14:13:34.128681",
     "status": "completed"
    },
    "tags": [
     "injected-parameters"
    ]
   },
   "outputs": [],
   "source": [
    "# Parameters\n",
    "P = {\n",
    "    \"pipeline.data_lake_root\": \"/pipeline-outputs/data-lake\",\n",
    "    \"pipeline.run_environment\": \"ci\",\n",
    "    \"pipeline.pipeline_run_id\": \"6c33327a-27e1-404a-81a7-ffd008d84d60\",\n",
    "    \"pipeline.github.repository\": \"pynb-dag-runner/mnist-digits-demo-pipeline\",\n",
    "    \"pipeline.github.workflow\": \"Run automated tests, pipeline and deploy results to static reporting site\",\n",
    "    \"pipeline.github.runner_name\": \"GitHub Actions 2\",\n",
    "    \"pipeline.github.run_id\": \"2630104459\",\n",
    "    \"pipeline.github.actor\": \"matiasdahl\",\n",
    "    \"pipeline.github.job\": \"run-tests-pipeline-and-persist-pipeline-outputs\",\n",
    "    \"pipeline.github.base_ref\": \"development\",\n",
    "    \"pipeline.github.head_ref\": \"try-C-hyperparameter\",\n",
    "    \"pipeline.github.sha\": \"1c817c9dee14ac98f14dda197d89dc60a81cf438\",\n",
    "    \"pipeline.github.ref\": \"refs/pull/55/merge\",\n",
    "    \"pipeline.github.ref_type\": \"branch\",\n",
    "    \"pipeline.github.ref_name\": \"55/merge\",\n",
    "    \"pipeline.github.event_name\": \"pull_request\",\n",
    "    \"task.nr_train_images\": 600,\n",
    "    \"task.notebook\": \"notebooks/train-model.py\",\n",
    "    \"task.max_nr_retries\": \"1\",\n",
    "    \"run.retry_nr\": \"0\",\n",
    "    \"task.timeout_s\": \"None\",\n",
    "    \"task.num_cpus\": 1,\n",
    "    \"_opentelemetry_traceparent\": \"00-ae4c0ddb7a61dbf5c3ae6948e197b9ab-bb48d546c8d98fe3-01\",\n",
    "}\n"
   ]
  },
  {
   "cell_type": "code",
   "execution_count": 4,
   "id": "0229bdc8",
   "metadata": {
    "execution": {
     "iopub.execute_input": "2022-07-07T14:13:34.159405Z",
     "iopub.status.busy": "2022-07-07T14:13:34.159129Z",
     "iopub.status.idle": "2022-07-07T14:13:34.163581Z",
     "shell.execute_reply": "2022-07-07T14:13:34.162894Z"
    },
    "lines_to_next_cell": 0,
    "papermill": {
     "duration": 0.012429,
     "end_time": "2022-07-07T14:13:34.166427",
     "exception": false,
     "start_time": "2022-07-07T14:13:34.153998",
     "status": "completed"
    },
    "tags": []
   },
   "outputs": [],
   "source": [
    "# -----------------------------------------------------------------------"
   ]
  },
  {
   "cell_type": "markdown",
   "id": "cd61e3b2",
   "metadata": {
    "papermill": {
     "duration": 0.004224,
     "end_time": "2022-07-07T14:13:34.174032",
     "exception": false,
     "start_time": "2022-07-07T14:13:34.169808",
     "status": "completed"
    },
    "tags": []
   },
   "source": [
    "---"
   ]
  },
  {
   "cell_type": "markdown",
   "id": "5e51db27",
   "metadata": {
    "lines_to_next_cell": 2,
    "papermill": {
     "duration": 0.003677,
     "end_time": "2022-07-07T14:13:34.181042",
     "exception": false,
     "start_time": "2022-07-07T14:13:34.177365",
     "status": "completed"
    },
    "tags": []
   },
   "source": [
    "### Notebook code"
   ]
  },
  {
   "cell_type": "code",
   "execution_count": 5,
   "id": "25792ea4",
   "metadata": {
    "execution": {
     "iopub.execute_input": "2022-07-07T14:13:34.190022Z",
     "iopub.status.busy": "2022-07-07T14:13:34.189761Z",
     "iopub.status.idle": "2022-07-07T14:13:34.831342Z",
     "shell.execute_reply": "2022-07-07T14:13:34.830291Z"
    },
    "papermill": {
     "duration": 0.649107,
     "end_time": "2022-07-07T14:13:34.834368",
     "exception": false,
     "start_time": "2022-07-07T14:13:34.185261",
     "status": "completed"
    },
    "tags": []
   },
   "outputs": [
    {
     "name": "stderr",
     "output_type": "stream",
     "text": [
      "2022-07-07 14:13:34,640\tINFO worker.py:842 -- Connecting to existing Ray cluster at address: 172.17.0.2:6379\n"
     ]
    }
   ],
   "source": [
    "from pynb_dag_runner.tasks.task_opentelemetry_logging import PydarLogger\n",
    "\n",
    "logger = PydarLogger(P)"
   ]
  },
  {
   "cell_type": "markdown",
   "id": "9e544e12",
   "metadata": {
    "papermill": {
     "duration": 0.006948,
     "end_time": "2022-07-07T14:13:34.847829",
     "exception": false,
     "start_time": "2022-07-07T14:13:34.840881",
     "status": "completed"
    },
    "tags": []
   },
   "source": [
    "## Load and limit train data"
   ]
  },
  {
   "cell_type": "code",
   "execution_count": 6,
   "id": "e3b7a959",
   "metadata": {
    "execution": {
     "iopub.execute_input": "2022-07-07T14:13:34.858472Z",
     "iopub.status.busy": "2022-07-07T14:13:34.858061Z",
     "iopub.status.idle": "2022-07-07T14:13:35.436520Z",
     "shell.execute_reply": "2022-07-07T14:13:35.435637Z"
    },
    "papermill": {
     "duration": 0.587544,
     "end_time": "2022-07-07T14:13:35.439473",
     "exception": false,
     "start_time": "2022-07-07T14:13:34.851929",
     "status": "completed"
    },
    "tags": []
   },
   "outputs": [],
   "source": [
    "def load_and_limit_train_data(P):\n",
    "    from common.io import datalake_root, read_numpy\n",
    "    from sklearn.model_selection import train_test_split\n",
    "\n",
    "    X_train_all = read_numpy(datalake_root(P) / \"train-data\" / \"digits.numpy\")\n",
    "    y_train_all = read_numpy(datalake_root(P) / \"train-data\" / \"labels.numpy\")\n",
    "\n",
    "    assert isinstance(P[\"task.nr_train_images\"], int)\n",
    "\n",
    "    # Note: train_test_split will fail if split is 0 or 100%.\n",
    "    assert 0 < P[\"task.nr_train_images\"] < len(y_train_all)\n",
    "\n",
    "    X_train, _, y_train, _ = train_test_split(\n",
    "        X_train_all,\n",
    "        y_train_all,\n",
    "        train_size=P[\"task.nr_train_images\"],\n",
    "        test_size=None,\n",
    "        stratify=y_train_all,\n",
    "        shuffle=True,\n",
    "        random_state=123,\n",
    "    )\n",
    "\n",
    "    assert X_train.shape == (len(y_train), 8 * 8)\n",
    "    return X_train, y_train\n",
    "\n",
    "\n",
    "X_train, y_train = load_and_limit_train_data(P)"
   ]
  },
  {
   "cell_type": "markdown",
   "id": "d7e1ef98",
   "metadata": {
    "papermill": {
     "duration": 0.003455,
     "end_time": "2022-07-07T14:13:35.457451",
     "exception": false,
     "start_time": "2022-07-07T14:13:35.453996",
     "status": "completed"
    },
    "tags": []
   },
   "source": [
    "## Train support vector classifier model\n",
    "\n",
    "Below we assume that the hyperparameter $C$ is known.\n",
    "\n",
    "However, this should ideally be found by a hyperparameter search. That could be\n",
    "done in parallel on the Ray cluster, but this needs some more work. Ie., to use\n",
    "multiple cores in the notebook, those cores should be reserved when starting the\n",
    "notebook task (TODO).\n",
    "\n",
    "- https://docs.ray.io/en/latest/tune/key-concepts.html\n",
    "\n",
    "Note: cv-scores would need to be computed here, since they depend on the train data.\n",
    "After this notebook only the onnx-model is available."
   ]
  },
  {
   "cell_type": "code",
   "execution_count": 7,
   "id": "0d7194f5",
   "metadata": {
    "execution": {
     "iopub.execute_input": "2022-07-07T14:13:35.466830Z",
     "iopub.status.busy": "2022-07-07T14:13:35.466052Z",
     "iopub.status.idle": "2022-07-07T14:13:35.577624Z",
     "shell.execute_reply": "2022-07-07T14:13:35.576816Z"
    },
    "papermill": {
     "duration": 0.119781,
     "end_time": "2022-07-07T14:13:35.580909",
     "exception": false,
     "start_time": "2022-07-07T14:13:35.461128",
     "status": "completed"
    },
    "tags": []
   },
   "outputs": [],
   "source": [
    "from sklearn.svm import SVC"
   ]
  },
  {
   "cell_type": "code",
   "execution_count": 8,
   "id": "66a20ef6",
   "metadata": {
    "execution": {
     "iopub.execute_input": "2022-07-07T14:13:35.589970Z",
     "iopub.status.busy": "2022-07-07T14:13:35.589544Z",
     "iopub.status.idle": "2022-07-07T14:13:35.694200Z",
     "shell.execute_reply": "2022-07-07T14:13:35.691210Z"
    },
    "papermill": {
     "duration": 0.112296,
     "end_time": "2022-07-07T14:13:35.697075",
     "exception": false,
     "start_time": "2022-07-07T14:13:35.584779",
     "status": "completed"
    },
    "tags": []
   },
   "outputs": [
    {
     "data": {
      "text/plain": [
       "SVC(C=0.1, kernel='linear', probability=True)"
      ]
     },
     "execution_count": 8,
     "metadata": {},
     "output_type": "execute_result"
    }
   ],
   "source": [
    "model = SVC(C=0.1, kernel=\"linear\", probability=True)\n",
    "\n",
    "model.fit(X_train, y_train)"
   ]
  },
  {
   "cell_type": "markdown",
   "id": "37b8975b",
   "metadata": {
    "papermill": {
     "duration": 0.004243,
     "end_time": "2022-07-07T14:13:35.705433",
     "exception": false,
     "start_time": "2022-07-07T14:13:35.701190",
     "status": "completed"
    },
    "tags": []
   },
   "source": [
    "### Q: Can the labels returned by `predict(..)` be computed from probabilities returned by the `predict_prob`-method?"
   ]
  },
  {
   "cell_type": "code",
   "execution_count": 9,
   "id": "9a3a07cc",
   "metadata": {
    "execution": {
     "iopub.execute_input": "2022-07-07T14:13:35.714852Z",
     "iopub.status.busy": "2022-07-07T14:13:35.714512Z",
     "iopub.status.idle": "2022-07-07T14:13:35.755192Z",
     "shell.execute_reply": "2022-07-07T14:13:35.754288Z"
    },
    "papermill": {
     "duration": 0.048411,
     "end_time": "2022-07-07T14:13:35.757321",
     "exception": false,
     "start_time": "2022-07-07T14:13:35.708910",
     "status": "completed"
    },
    "tags": []
   },
   "outputs": [
    {
     "name": "stdout",
     "output_type": "stream",
     "text": [
      " - Logging nr_max_prob_neq_label (int) : 0\n"
     ]
    }
   ],
   "source": [
    "import numpy as np\n",
    "\n",
    "y_train_labels = model.predict(X_train)\n",
    "y_train_probabilities = model.predict_proba(X_train)\n",
    "assert y_train_probabilities.shape == (len(y_train), 10)\n",
    "\n",
    "y_train_max_prob_labels = np.argmax(y_train_probabilities, axis=1)\n",
    "assert y_train_labels.shape == y_train_max_prob_labels.shape == y_train.shape\n",
    "\n",
    "# If the predicted labels would coincide with the labels that have\n",
    "# maximum probability, the below number would be zero\n",
    "logger.log_int(\n",
    "    \"nr_max_prob_neq_label\", int(sum(y_train_max_prob_labels != y_train_labels))\n",
    ")"
   ]
  },
  {
   "cell_type": "markdown",
   "id": "0f319e8b",
   "metadata": {
    "papermill": {
     "duration": 0.003741,
     "end_time": "2022-07-07T14:13:35.764901",
     "exception": false,
     "start_time": "2022-07-07T14:13:35.761160",
     "status": "completed"
    },
    "tags": []
   },
   "source": [
    "The explanation is (likely) explained in the SVC source, see\n",
    "[here](https://github.com/scikit-learn/scikit-learn/blob/main/sklearn/svm/_base.py).\n",
    "Namely, the outputs from `predict(..)` and `predict_proba(..)` may not in some\n",
    "cases be compatible since the latter is computed using cross-validation while\n",
    "the former is not. Thus, the above number need not be zero."
   ]
  },
  {
   "cell_type": "markdown",
   "id": "efa54dc7",
   "metadata": {
    "papermill": {
     "duration": 0.003615,
     "end_time": "2022-07-07T14:13:35.771895",
     "exception": false,
     "start_time": "2022-07-07T14:13:35.768280",
     "status": "completed"
    },
    "tags": []
   },
   "source": [
    "## Persist model"
   ]
  },
  {
   "cell_type": "code",
   "execution_count": 10,
   "id": "525c0a82",
   "metadata": {
    "execution": {
     "iopub.execute_input": "2022-07-07T14:13:35.780752Z",
     "iopub.status.busy": "2022-07-07T14:13:35.780160Z",
     "iopub.status.idle": "2022-07-07T14:13:37.141800Z",
     "shell.execute_reply": "2022-07-07T14:13:37.140634Z"
    },
    "papermill": {
     "duration": 1.36851,
     "end_time": "2022-07-07T14:13:37.144166",
     "exception": false,
     "start_time": "2022-07-07T14:13:35.775656",
     "status": "completed"
    },
    "tags": []
   },
   "outputs": [],
   "source": [
    "from skl2onnx import convert_sklearn\n",
    "from skl2onnx.common.data_types import FloatTensorType\n",
    "\n",
    "#\n",
    "from common.io import datalake_root, write_onnx"
   ]
  },
  {
   "cell_type": "code",
   "execution_count": 11,
   "id": "7c46c0ef",
   "metadata": {
    "execution": {
     "iopub.execute_input": "2022-07-07T14:13:37.154671Z",
     "iopub.status.busy": "2022-07-07T14:13:37.154201Z",
     "iopub.status.idle": "2022-07-07T14:13:37.200427Z",
     "shell.execute_reply": "2022-07-07T14:13:37.199674Z"
    },
    "papermill": {
     "duration": 0.054217,
     "end_time": "2022-07-07T14:13:37.202846",
     "exception": false,
     "start_time": "2022-07-07T14:13:37.148629",
     "status": "completed"
    },
    "tags": []
   },
   "outputs": [],
   "source": [
    "# convert sklearn model into onnx and persist to data lake\n",
    "\n",
    "model_onnx = convert_sklearn(\n",
    "    model, initial_types=[(\"float_input_8x8_image\", FloatTensorType([None, 8 * 8]))]\n",
    ")\n",
    "write_onnx(\n",
    "    datalake_root(P)\n",
    "    / \"models\"\n",
    "    / f\"nr_train_images={P['task.nr_train_images']}\"\n",
    "    / \"model.onnx\",\n",
    "    model_onnx,\n",
    ")"
   ]
  },
  {
   "cell_type": "code",
   "execution_count": null,
   "id": "ec31fcd8",
   "metadata": {
    "papermill": {
     "duration": 0.006147,
     "end_time": "2022-07-07T14:13:37.212945",
     "exception": false,
     "start_time": "2022-07-07T14:13:37.206798",
     "status": "completed"
    },
    "tags": []
   },
   "outputs": [],
   "source": []
  }
 ],
 "metadata": {
  "jupytext": {
   "cell_metadata_filter": "tags,-all",
   "main_language": "python",
   "notebook_metadata_filter": "-all"
  },
  "language_info": {
   "codemirror_mode": {
    "name": "ipython",
    "version": 3
   },
   "file_extension": ".py",
   "mimetype": "text/x-python",
   "name": "python",
   "nbconvert_exporter": "python",
   "pygments_lexer": "ipython3",
   "version": "3.8.10"
  },
  "papermill": {
   "default_parameters": {},
   "duration": 5.877382,
   "end_time": "2022-07-07T14:13:38.446883",
   "environment_variables": {},
   "exception": null,
   "input_path": "/home/host_user/workspace/mnist-demo-pipeline/mnist-demo-pipeline/notebooks/temp-notebook-pnk93txf.ipynb",
   "output_path": "notebooks/train-model.ipynb",
   "parameters": {
    "P": {
     "_opentelemetry_traceparent": "00-ae4c0ddb7a61dbf5c3ae6948e197b9ab-bb48d546c8d98fe3-01",
     "pipeline.data_lake_root": "/pipeline-outputs/data-lake",
     "pipeline.github.actor": "matiasdahl",
     "pipeline.github.base_ref": "development",
     "pipeline.github.event_name": "pull_request",
     "pipeline.github.head_ref": "try-C-hyperparameter",
     "pipeline.github.job": "run-tests-pipeline-and-persist-pipeline-outputs",
     "pipeline.github.ref": "refs/pull/55/merge",
     "pipeline.github.ref_name": "55/merge",
     "pipeline.github.ref_type": "branch",
     "pipeline.github.repository": "pynb-dag-runner/mnist-digits-demo-pipeline",
     "pipeline.github.run_id": "2630104459",
     "pipeline.github.runner_name": "GitHub Actions 2",
     "pipeline.github.sha": "1c817c9dee14ac98f14dda197d89dc60a81cf438",
     "pipeline.github.workflow": "Run automated tests, pipeline and deploy results to static reporting site",
     "pipeline.pipeline_run_id": "6c33327a-27e1-404a-81a7-ffd008d84d60",
     "pipeline.run_environment": "ci",
     "run.retry_nr": "0",
     "task.max_nr_retries": "1",
     "task.notebook": "notebooks/train-model.py",
     "task.nr_train_images": 600,
     "task.num_cpus": 1,
     "task.timeout_s": "None"
    }
   },
   "start_time": "2022-07-07T14:13:32.569501",
   "version": "2.3.3"
  }
 },
 "nbformat": 4,
 "nbformat_minor": 5
}