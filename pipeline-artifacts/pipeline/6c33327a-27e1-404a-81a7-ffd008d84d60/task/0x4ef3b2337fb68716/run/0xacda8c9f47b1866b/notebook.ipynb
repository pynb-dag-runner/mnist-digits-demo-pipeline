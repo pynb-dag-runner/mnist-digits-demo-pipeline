{
 "cells": [
  {
   "cell_type": "markdown",
   "id": "afcb228a",
   "metadata": {
    "papermill": {
     "duration": 0.004769,
     "end_time": "2022-07-07T14:14:20.278158",
     "exception": false,
     "start_time": "2022-07-07T14:14:20.273389",
     "status": "completed"
    },
    "tags": []
   },
   "source": [
    "# Summarize model performances\n",
    "\n",
    "This notebooks plots the performances (using averaged ROC AUC scores) for models\n",
    "trained with different training sets."
   ]
  },
  {
   "cell_type": "markdown",
   "id": "2396574b",
   "metadata": {
    "papermill": {
     "duration": 0.003387,
     "end_time": "2022-07-07T14:14:20.286123",
     "exception": false,
     "start_time": "2022-07-07T14:14:20.282736",
     "status": "completed"
    },
    "tags": []
   },
   "source": [
    "### Determine run parameters"
   ]
  },
  {
   "cell_type": "code",
   "execution_count": 1,
   "id": "cdb98cf1",
   "metadata": {
    "execution": {
     "iopub.execute_input": "2022-07-07T14:14:20.294025Z",
     "iopub.status.busy": "2022-07-07T14:14:20.293244Z",
     "iopub.status.idle": "2022-07-07T14:14:20.302408Z",
     "shell.execute_reply": "2022-07-07T14:14:20.301613Z"
    },
    "lines_to_next_cell": 0,
    "papermill": {
     "duration": 0.015364,
     "end_time": "2022-07-07T14:14:20.304352",
     "exception": false,
     "start_time": "2022-07-07T14:14:20.288988",
     "status": "completed"
    },
    "tags": []
   },
   "outputs": [],
   "source": [
    "# ----------------- Parameters for interactive development --------------\n",
    "P = {\n",
    "    \"pipeline.run_environment\": \"dev\",\n",
    "}"
   ]
  },
  {
   "cell_type": "code",
   "execution_count": 2,
   "id": "5aa549e4",
   "metadata": {
    "execution": {
     "iopub.execute_input": "2022-07-07T14:14:20.312610Z",
     "iopub.status.busy": "2022-07-07T14:14:20.312159Z",
     "iopub.status.idle": "2022-07-07T14:14:20.315731Z",
     "shell.execute_reply": "2022-07-07T14:14:20.315129Z"
    },
    "lines_to_next_cell": 0,
    "papermill": {
     "duration": 0.010281,
     "end_time": "2022-07-07T14:14:20.318052",
     "exception": false,
     "start_time": "2022-07-07T14:14:20.307771",
     "status": "completed"
    },
    "tags": [
     "parameters"
    ]
   },
   "outputs": [],
   "source": [
    "# - During automated runs parameters will be injected in the below cell -"
   ]
  },
  {
   "cell_type": "code",
   "execution_count": 3,
   "id": "ad0f9e58",
   "metadata": {
    "execution": {
     "iopub.execute_input": "2022-07-07T14:14:20.326428Z",
     "iopub.status.busy": "2022-07-07T14:14:20.325521Z",
     "iopub.status.idle": "2022-07-07T14:14:20.331604Z",
     "shell.execute_reply": "2022-07-07T14:14:20.330698Z"
    },
    "papermill": {
     "duration": 0.012119,
     "end_time": "2022-07-07T14:14:20.333599",
     "exception": false,
     "start_time": "2022-07-07T14:14:20.321480",
     "status": "completed"
    },
    "tags": [
     "injected-parameters"
    ]
   },
   "outputs": [],
   "source": [
    "# Parameters\n",
    "P = {\n",
    "    \"pipeline.data_lake_root\": \"/pipeline-outputs/data-lake\",\n",
    "    \"pipeline.run_environment\": \"ci\",\n",
    "    \"pipeline.pipeline_run_id\": \"6c33327a-27e1-404a-81a7-ffd008d84d60\",\n",
    "    \"pipeline.github.repository\": \"pynb-dag-runner/mnist-digits-demo-pipeline\",\n",
    "    \"pipeline.github.workflow\": \"Run automated tests, pipeline and deploy results to static reporting site\",\n",
    "    \"pipeline.github.runner_name\": \"GitHub Actions 2\",\n",
    "    \"pipeline.github.run_id\": \"2630104459\",\n",
    "    \"pipeline.github.actor\": \"matiasdahl\",\n",
    "    \"pipeline.github.job\": \"run-tests-pipeline-and-persist-pipeline-outputs\",\n",
    "    \"pipeline.github.base_ref\": \"development\",\n",
    "    \"pipeline.github.head_ref\": \"try-C-hyperparameter\",\n",
    "    \"pipeline.github.sha\": \"1c817c9dee14ac98f14dda197d89dc60a81cf438\",\n",
    "    \"pipeline.github.ref\": \"refs/pull/55/merge\",\n",
    "    \"pipeline.github.ref_type\": \"branch\",\n",
    "    \"pipeline.github.ref_name\": \"55/merge\",\n",
    "    \"pipeline.github.event_name\": \"pull_request\",\n",
    "    \"task.notebook\": \"notebooks/summary.py\",\n",
    "    \"task.max_nr_retries\": \"1\",\n",
    "    \"run.retry_nr\": \"0\",\n",
    "    \"task.timeout_s\": \"None\",\n",
    "    \"task.num_cpus\": 1,\n",
    "    \"_opentelemetry_traceparent\": \"00-ae4c0ddb7a61dbf5c3ae6948e197b9ab-09ed4e9697cfad31-01\",\n",
    "}\n"
   ]
  },
  {
   "cell_type": "code",
   "execution_count": 4,
   "id": "1a26cbf8",
   "metadata": {
    "execution": {
     "iopub.execute_input": "2022-07-07T14:14:20.342135Z",
     "iopub.status.busy": "2022-07-07T14:14:20.341385Z",
     "iopub.status.idle": "2022-07-07T14:14:20.344997Z",
     "shell.execute_reply": "2022-07-07T14:14:20.344224Z"
    },
    "lines_to_next_cell": 0,
    "papermill": {
     "duration": 0.009797,
     "end_time": "2022-07-07T14:14:20.346855",
     "exception": false,
     "start_time": "2022-07-07T14:14:20.337058",
     "status": "completed"
    },
    "tags": []
   },
   "outputs": [],
   "source": [
    "# -----------------------------------------------------------------------"
   ]
  },
  {
   "cell_type": "markdown",
   "id": "ac0e24ee",
   "metadata": {
    "papermill": {
     "duration": 0.003164,
     "end_time": "2022-07-07T14:14:20.353034",
     "exception": false,
     "start_time": "2022-07-07T14:14:20.349870",
     "status": "completed"
    },
    "tags": []
   },
   "source": [
    "---"
   ]
  },
  {
   "cell_type": "markdown",
   "id": "4ae6438b",
   "metadata": {
    "lines_to_next_cell": 2,
    "papermill": {
     "duration": 0.004798,
     "end_time": "2022-07-07T14:14:20.360782",
     "exception": false,
     "start_time": "2022-07-07T14:14:20.355984",
     "status": "completed"
    },
    "tags": []
   },
   "source": [
    "### Notebook code"
   ]
  },
  {
   "cell_type": "code",
   "execution_count": 5,
   "id": "96aec498",
   "metadata": {
    "execution": {
     "iopub.execute_input": "2022-07-07T14:14:20.369164Z",
     "iopub.status.busy": "2022-07-07T14:14:20.368066Z",
     "iopub.status.idle": "2022-07-07T14:14:21.693084Z",
     "shell.execute_reply": "2022-07-07T14:14:21.692232Z"
    },
    "papermill": {
     "duration": 1.33127,
     "end_time": "2022-07-07T14:14:21.695148",
     "exception": false,
     "start_time": "2022-07-07T14:14:20.363878",
     "status": "completed"
    },
    "tags": []
   },
   "outputs": [],
   "source": [
    "#\n",
    "import pandas as pd\n",
    "import matplotlib.pyplot as plt\n",
    "\n",
    "#\n",
    "from pynb_dag_runner.tasks.task_opentelemetry_logging import PydarLogger"
   ]
  },
  {
   "cell_type": "code",
   "execution_count": 6,
   "id": "e5bf9e82",
   "metadata": {
    "execution": {
     "iopub.execute_input": "2022-07-07T14:14:21.705316Z",
     "iopub.status.busy": "2022-07-07T14:14:21.704755Z",
     "iopub.status.idle": "2022-07-07T14:14:21.871113Z",
     "shell.execute_reply": "2022-07-07T14:14:21.870377Z"
    },
    "papermill": {
     "duration": 0.172686,
     "end_time": "2022-07-07T14:14:21.873160",
     "exception": false,
     "start_time": "2022-07-07T14:14:21.700474",
     "status": "completed"
    },
    "tags": []
   },
   "outputs": [
    {
     "name": "stderr",
     "output_type": "stream",
     "text": [
      "2022-07-07 14:14:21,709\tINFO worker.py:842 -- Connecting to existing Ray cluster at address: 172.17.0.2:6379\n"
     ]
    }
   ],
   "source": [
    "logger = PydarLogger(P=P)"
   ]
  },
  {
   "cell_type": "code",
   "execution_count": 7,
   "id": "86183a29",
   "metadata": {
    "execution": {
     "iopub.execute_input": "2022-07-07T14:14:21.881669Z",
     "iopub.status.busy": "2022-07-07T14:14:21.881120Z",
     "iopub.status.idle": "2022-07-07T14:14:21.885209Z",
     "shell.execute_reply": "2022-07-07T14:14:21.884424Z"
    },
    "papermill": {
     "duration": 0.010662,
     "end_time": "2022-07-07T14:14:21.887492",
     "exception": false,
     "start_time": "2022-07-07T14:14:21.876830",
     "status": "completed"
    },
    "tags": []
   },
   "outputs": [],
   "source": [
    "from pynb_dag_runner.tasks.task_opentelemetry_logging import (\n",
    "    PydarLogger,\n",
    "    get_logged_values,\n",
    ")\n",
    "from pynb_dag_runner.opentelemetry_helpers import _get_all_spans, Spans"
   ]
  },
  {
   "cell_type": "code",
   "execution_count": 8,
   "id": "4b150dc1",
   "metadata": {
    "execution": {
     "iopub.execute_input": "2022-07-07T14:14:21.895929Z",
     "iopub.status.busy": "2022-07-07T14:14:21.895224Z",
     "iopub.status.idle": "2022-07-07T14:14:21.905495Z",
     "shell.execute_reply": "2022-07-07T14:14:21.904883Z"
    },
    "papermill": {
     "duration": 0.017992,
     "end_time": "2022-07-07T14:14:21.908863",
     "exception": false,
     "start_time": "2022-07-07T14:14:21.890871",
     "status": "completed"
    },
    "tags": []
   },
   "outputs": [],
   "source": [
    "def get_model_benchmarks():\n",
    "    \"\"\"\n",
    "    Query the OpenTelemetry logs for *this pipeline run* and return\n",
    "    all key-values logged from all runs of the benchmark-model.py task\n",
    "\n",
    "    For testing a json file with OpenTelemetry spans (as an array)\n",
    "    can be used as follows:\n",
    "\n",
    "    - Create output directory `mkdir /tmp/spans`\n",
    "    - Run unit tests. This will create pipeline-outputs/opentelemetry-spans.json\n",
    "    - Convert this json-array into jsonl format as follows\n",
    "\n",
    "    jq -c '.[]' /pipeline-outputs/opentelemetry-spans.json > /tmp/spans/data.txt\n",
    "\n",
    "    \"\"\"\n",
    "    spans: Spans = Spans(_get_all_spans())\n",
    "    print(f\"Found {len(spans)} spans\")\n",
    "\n",
    "    benchmark_spans = (\n",
    "        spans\n",
    "        # -\n",
    "        .filter([\"name\"], \"execute-task\")\n",
    "        # -\n",
    "        .filter([\"attributes\", \"task.notebook\"], \"notebooks/benchmark-model.py\")\n",
    "    )\n",
    "\n",
    "    result = []\n",
    "    for s in benchmark_spans:\n",
    "        result.append(\n",
    "            {\n",
    "                \"span_id\": s[\"context\"][\"span_id\"],\n",
    "                \"nr_train_images\": s[\"attributes\"][\"task.nr_train_images\"],\n",
    "                \"data\": get_logged_values(spans.bound_under(s)),\n",
    "            }\n",
    "        )\n",
    "\n",
    "    return result\n",
    "\n",
    "\n",
    "def adjust_pandas(df):\n",
    "    def column_renamer(col_name: str) -> str:\n",
    "        return (\n",
    "            col_name\n",
    "            # -- 'data.roc_auc_per_digit.4' -> 'roc_auc.4'\n",
    "            .replace(\"data.roc_auc_per_digit\", \"roc_auc\")\n",
    "            # -- 'data.roc_auc_class_mean' -> 'roc_auc_mean'\n",
    "            .replace(\"data.roc_auc_class_mean\", \"roc_auc_mean\")\n",
    "        )\n",
    "\n",
    "    return df.rename(column_renamer, axis=\"columns\").sort_values(by=\"nr_train_images\")"
   ]
  },
  {
   "cell_type": "code",
   "execution_count": 9,
   "id": "65be3b19",
   "metadata": {
    "execution": {
     "iopub.execute_input": "2022-07-07T14:14:21.918065Z",
     "iopub.status.busy": "2022-07-07T14:14:21.917588Z",
     "iopub.status.idle": "2022-07-07T14:14:48.923222Z",
     "shell.execute_reply": "2022-07-07T14:14:48.922083Z"
    },
    "papermill": {
     "duration": 27.012311,
     "end_time": "2022-07-07T14:14:48.925497",
     "exception": false,
     "start_time": "2022-07-07T14:14:21.913186",
     "status": "completed"
    },
    "tags": []
   },
   "outputs": [
    {
     "name": "stdout",
     "output_type": "stream",
     "text": [
      "Found 420 spans\n"
     ]
    }
   ],
   "source": [
    "df_data = adjust_pandas(pd.json_normalize(get_model_benchmarks()))"
   ]
  },
  {
   "cell_type": "code",
   "execution_count": 10,
   "id": "ad469c2b",
   "metadata": {
    "execution": {
     "iopub.execute_input": "2022-07-07T14:14:48.934132Z",
     "iopub.status.busy": "2022-07-07T14:14:48.933664Z",
     "iopub.status.idle": "2022-07-07T14:14:48.968261Z",
     "shell.execute_reply": "2022-07-07T14:14:48.967513Z"
    },
    "papermill": {
     "duration": 0.041241,
     "end_time": "2022-07-07T14:14:48.970205",
     "exception": false,
     "start_time": "2022-07-07T14:14:48.928964",
     "status": "completed"
    },
    "tags": []
   },
   "outputs": [
    {
     "data": {
      "text/html": [
       "<div>\n",
       "<style scoped>\n",
       "    .dataframe tbody tr th:only-of-type {\n",
       "        vertical-align: middle;\n",
       "    }\n",
       "\n",
       "    .dataframe tbody tr th {\n",
       "        vertical-align: top;\n",
       "    }\n",
       "\n",
       "    .dataframe thead th {\n",
       "        text-align: right;\n",
       "    }\n",
       "</style>\n",
       "<table border=\"1\" class=\"dataframe\">\n",
       "  <thead>\n",
       "    <tr style=\"text-align: right;\">\n",
       "      <th></th>\n",
       "      <th>span_id</th>\n",
       "      <th>nr_train_images</th>\n",
       "      <th>roc_auc_mean</th>\n",
       "      <th>roc_auc.0</th>\n",
       "      <th>roc_auc.1</th>\n",
       "      <th>roc_auc.2</th>\n",
       "      <th>roc_auc.3</th>\n",
       "      <th>roc_auc.4</th>\n",
       "      <th>roc_auc.5</th>\n",
       "      <th>roc_auc.6</th>\n",
       "      <th>roc_auc.7</th>\n",
       "      <th>roc_auc.8</th>\n",
       "      <th>roc_auc.9</th>\n",
       "    </tr>\n",
       "  </thead>\n",
       "  <tbody>\n",
       "    <tr>\n",
       "      <th>1</th>\n",
       "      <td>0xda56e12d2821a259</td>\n",
       "      <td>600</td>\n",
       "      <td>0.9990</td>\n",
       "      <td>1.0</td>\n",
       "      <td>0.9996</td>\n",
       "      <td>1.0</td>\n",
       "      <td>0.9997</td>\n",
       "      <td>1.0</td>\n",
       "      <td>0.9988</td>\n",
       "      <td>1.0000</td>\n",
       "      <td>0.9999</td>\n",
       "      <td>0.9933</td>\n",
       "      <td>0.9989</td>\n",
       "    </tr>\n",
       "    <tr>\n",
       "      <th>0</th>\n",
       "      <td>0x407eb3db656be7f1</td>\n",
       "      <td>800</td>\n",
       "      <td>0.9985</td>\n",
       "      <td>1.0</td>\n",
       "      <td>0.9988</td>\n",
       "      <td>1.0</td>\n",
       "      <td>0.9997</td>\n",
       "      <td>1.0</td>\n",
       "      <td>0.9988</td>\n",
       "      <td>1.0000</td>\n",
       "      <td>0.9998</td>\n",
       "      <td>0.9888</td>\n",
       "      <td>0.9990</td>\n",
       "    </tr>\n",
       "    <tr>\n",
       "      <th>3</th>\n",
       "      <td>0x2624fea70b273e45</td>\n",
       "      <td>1000</td>\n",
       "      <td>0.9984</td>\n",
       "      <td>1.0</td>\n",
       "      <td>0.9988</td>\n",
       "      <td>1.0</td>\n",
       "      <td>0.9996</td>\n",
       "      <td>1.0</td>\n",
       "      <td>0.9994</td>\n",
       "      <td>0.9999</td>\n",
       "      <td>0.9998</td>\n",
       "      <td>0.9875</td>\n",
       "      <td>0.9992</td>\n",
       "    </tr>\n",
       "    <tr>\n",
       "      <th>2</th>\n",
       "      <td>0x3a29487aee67b081</td>\n",
       "      <td>1200</td>\n",
       "      <td>0.9991</td>\n",
       "      <td>1.0</td>\n",
       "      <td>0.9988</td>\n",
       "      <td>1.0</td>\n",
       "      <td>0.9998</td>\n",
       "      <td>1.0</td>\n",
       "      <td>0.9993</td>\n",
       "      <td>0.9999</td>\n",
       "      <td>0.9998</td>\n",
       "      <td>0.9937</td>\n",
       "      <td>0.9992</td>\n",
       "    </tr>\n",
       "  </tbody>\n",
       "</table>\n",
       "</div>"
      ],
      "text/plain": [
       "              span_id  nr_train_images  roc_auc_mean  roc_auc.0  roc_auc.1  \\\n",
       "1  0xda56e12d2821a259              600        0.9990        1.0     0.9996   \n",
       "0  0x407eb3db656be7f1              800        0.9985        1.0     0.9988   \n",
       "3  0x2624fea70b273e45             1000        0.9984        1.0     0.9988   \n",
       "2  0x3a29487aee67b081             1200        0.9991        1.0     0.9988   \n",
       "\n",
       "   roc_auc.2  roc_auc.3  roc_auc.4  roc_auc.5  roc_auc.6  roc_auc.7  \\\n",
       "1        1.0     0.9997        1.0     0.9988     1.0000     0.9999   \n",
       "0        1.0     0.9997        1.0     0.9988     1.0000     0.9998   \n",
       "3        1.0     0.9996        1.0     0.9994     0.9999     0.9998   \n",
       "2        1.0     0.9998        1.0     0.9993     0.9999     0.9998   \n",
       "\n",
       "   roc_auc.8  roc_auc.9  \n",
       "1     0.9933     0.9989  \n",
       "0     0.9888     0.9990  \n",
       "3     0.9875     0.9992  \n",
       "2     0.9937     0.9992  "
      ]
     },
     "execution_count": 10,
     "metadata": {},
     "output_type": "execute_result"
    }
   ],
   "source": [
    "df_data.round(4)"
   ]
  },
  {
   "cell_type": "code",
   "execution_count": 11,
   "id": "45cde338",
   "metadata": {
    "execution": {
     "iopub.execute_input": "2022-07-07T14:14:48.980238Z",
     "iopub.status.busy": "2022-07-07T14:14:48.979244Z",
     "iopub.status.idle": "2022-07-07T14:14:49.157244Z",
     "shell.execute_reply": "2022-07-07T14:14:49.156379Z"
    },
    "papermill": {
     "duration": 0.185336,
     "end_time": "2022-07-07T14:14:49.159540",
     "exception": false,
     "start_time": "2022-07-07T14:14:48.974204",
     "status": "completed"
    },
    "tags": []
   },
   "outputs": [
    {
     "data": {
      "image/png": "[encoded data removed]",
      "text/plain": [
       "<Figure size 1152x288 with 1 Axes>"
      ]
     },
     "metadata": {
      "needs_background": "light"
     },
     "output_type": "display_data"
    }
   ],
   "source": [
    "def plot_classifier_performance_summary(df_data):\n",
    "    fig, ax = plt.subplots(nrows=1, ncols=1, figsize=(16, 4), sharex=True)\n",
    "\n",
    "    #\n",
    "    ax.plot(\n",
    "        df_data[\"nr_train_images\"], df_data[\"roc_auc_mean\"], marker=\"o\", linestyle=\"--\"\n",
    "    )\n",
    "    ax.set_title(\n",
    "        f\"ROC AUC digit classifier performance on evaluation digits\", fontsize=17\n",
    "    )\n",
    "    ax.set_xlabel(\"Total number of digits in training set\", fontsize=14)\n",
    "    ax.set_ylabel(\"Mean ROC AUC\", fontsize=14)\n",
    "\n",
    "    fig.tight_layout()\n",
    "    fig.show()\n",
    "\n",
    "    return fig\n",
    "\n",
    "\n",
    "fig = plot_classifier_performance_summary(df_data)"
   ]
  },
  {
   "cell_type": "code",
   "execution_count": 12,
   "id": "2e0b863a",
   "metadata": {
    "execution": {
     "iopub.execute_input": "2022-07-07T14:14:49.170820Z",
     "iopub.status.busy": "2022-07-07T14:14:49.170325Z",
     "iopub.status.idle": "2022-07-07T14:14:49.236787Z",
     "shell.execute_reply": "2022-07-07T14:14:49.235950Z"
    },
    "papermill": {
     "duration": 0.075142,
     "end_time": "2022-07-07T14:14:49.239394",
     "exception": false,
     "start_time": "2022-07-07T14:14:49.164252",
     "status": "completed"
    },
    "tags": []
   },
   "outputs": [],
   "source": [
    "logger.log_figure(\"auc-roc-model-performances.png\", fig)"
   ]
  },
  {
   "cell_type": "code",
   "execution_count": 13,
   "id": "c2fef867",
   "metadata": {
    "execution": {
     "iopub.execute_input": "2022-07-07T14:14:49.250734Z",
     "iopub.status.busy": "2022-07-07T14:14:49.250451Z",
     "iopub.status.idle": "2022-07-07T14:14:49.256012Z",
     "shell.execute_reply": "2022-07-07T14:14:49.253185Z"
    },
    "papermill": {
     "duration": 0.014471,
     "end_time": "2022-07-07T14:14:49.258381",
     "exception": false,
     "start_time": "2022-07-07T14:14:49.243910",
     "status": "completed"
    },
    "tags": []
   },
   "outputs": [],
   "source": [
    "###"
   ]
  },
  {
   "cell_type": "code",
   "execution_count": null,
   "id": "c4ef6723",
   "metadata": {
    "papermill": {
     "duration": 0.005106,
     "end_time": "2022-07-07T14:14:49.268235",
     "exception": false,
     "start_time": "2022-07-07T14:14:49.263129",
     "status": "completed"
    },
    "tags": []
   },
   "outputs": [],
   "source": []
  }
 ],
 "metadata": {
  "jupytext": {
   "cell_metadata_filter": "tags,-all",
   "main_language": "python",
   "notebook_metadata_filter": "-all"
  },
  "language_info": {
   "codemirror_mode": {
    "name": "ipython",
    "version": 3
   },
   "file_extension": ".py",
   "mimetype": "text/x-python",
   "name": "python",
   "nbconvert_exporter": "python",
   "pygments_lexer": "ipython3",
   "version": "3.8.10"
  },
  "papermill": {
   "default_parameters": {},
   "duration": 31.278492,
   "end_time": "2022-07-07T14:14:50.296984",
   "environment_variables": {},
   "exception": null,
   "input_path": "/home/host_user/workspace/mnist-demo-pipeline/mnist-demo-pipeline/notebooks/temp-notebook-47o27gle.ipynb",
   "output_path": "notebooks/summary.ipynb",
   "parameters": {
    "P": {
     "_opentelemetry_traceparent": "00-ae4c0ddb7a61dbf5c3ae6948e197b9ab-09ed4e9697cfad31-01",
     "pipeline.data_lake_root": "/pipeline-outputs/data-lake",
     "pipeline.github.actor": "matiasdahl",
     "pipeline.github.base_ref": "development",
     "pipeline.github.event_name": "pull_request",
     "pipeline.github.head_ref": "try-C-hyperparameter",
     "pipeline.github.job": "run-tests-pipeline-and-persist-pipeline-outputs",
     "pipeline.github.ref": "refs/pull/55/merge",
     "pipeline.github.ref_name": "55/merge",
     "pipeline.github.ref_type": "branch",
     "pipeline.github.repository": "pynb-dag-runner/mnist-digits-demo-pipeline",
     "pipeline.github.run_id": "2630104459",
     "pipeline.github.runner_name": "GitHub Actions 2",
     "pipeline.github.sha": "1c817c9dee14ac98f14dda197d89dc60a81cf438",
     "pipeline.github.workflow": "Run automated tests, pipeline and deploy results to static reporting site",
     "pipeline.pipeline_run_id": "6c33327a-27e1-404a-81a7-ffd008d84d60",
     "pipeline.run_environment": "ci",
     "run.retry_nr": "0",
     "task.max_nr_retries": "1",
     "task.notebook": "notebooks/summary.py",
     "task.num_cpus": 1,
     "task.timeout_s": "None"
    }
   },
   "start_time": "2022-07-07T14:14:19.018492",
   "version": "2.3.3"
  }
 },
 "nbformat": 4,
 "nbformat_minor": 5
}