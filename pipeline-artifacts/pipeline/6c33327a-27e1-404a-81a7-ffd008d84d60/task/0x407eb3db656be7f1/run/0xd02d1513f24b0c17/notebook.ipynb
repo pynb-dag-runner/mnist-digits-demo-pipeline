{
 "cells": [
  {
   "cell_type": "markdown",
   "id": "cae1d16e",
   "metadata": {
    "papermill": {
     "duration": 0.009225,
     "end_time": "2022-07-07T14:14:02.769398",
     "exception": false,
     "start_time": "2022-07-07T14:14:02.760173",
     "status": "completed"
    },
    "tags": []
   },
   "source": [
    "# Benchmark model\n",
    "\n",
    "The purpose of this notebook is to benchmark persisted onnx-model (trained in the\n",
    "previous step) against evaluation set."
   ]
  },
  {
   "cell_type": "markdown",
   "id": "ad76d286",
   "metadata": {
    "papermill": {
     "duration": 0.00493,
     "end_time": "2022-07-07T14:14:02.780029",
     "exception": false,
     "start_time": "2022-07-07T14:14:02.775099",
     "status": "completed"
    },
    "tags": []
   },
   "source": [
    "### Determine run parameters"
   ]
  },
  {
   "cell_type": "code",
   "execution_count": 1,
   "id": "1972f636",
   "metadata": {
    "execution": {
     "iopub.execute_input": "2022-07-07T14:14:02.800638Z",
     "iopub.status.busy": "2022-07-07T14:14:02.800294Z",
     "iopub.status.idle": "2022-07-07T14:14:02.811865Z",
     "shell.execute_reply": "2022-07-07T14:14:02.811189Z"
    },
    "lines_to_next_cell": 0,
    "papermill": {
     "duration": 0.028543,
     "end_time": "2022-07-07T14:14:02.813886",
     "exception": false,
     "start_time": "2022-07-07T14:14:02.785343",
     "status": "completed"
    },
    "tags": []
   },
   "outputs": [],
   "source": [
    "# ----------------- Parameters for interactive development --------------\n",
    "P = {\n",
    "    \"pipeline.data_lake_root\": \"/pipeline-outputs/data-lake\",\n",
    "    \"task.nr_train_images\": 600,\n",
    "}"
   ]
  },
  {
   "cell_type": "code",
   "execution_count": 2,
   "id": "5b462cb5",
   "metadata": {
    "execution": {
     "iopub.execute_input": "2022-07-07T14:14:02.825669Z",
     "iopub.status.busy": "2022-07-07T14:14:02.825289Z",
     "iopub.status.idle": "2022-07-07T14:14:02.829881Z",
     "shell.execute_reply": "2022-07-07T14:14:02.828887Z"
    },
    "lines_to_next_cell": 0,
    "papermill": {
     "duration": 0.012926,
     "end_time": "2022-07-07T14:14:02.832766",
     "exception": false,
     "start_time": "2022-07-07T14:14:02.819840",
     "status": "completed"
    },
    "tags": [
     "parameters"
    ]
   },
   "outputs": [],
   "source": [
    "# - During automated runs parameters will be injected in the below cell -"
   ]
  },
  {
   "cell_type": "code",
   "execution_count": 3,
   "id": "ae77a89f",
   "metadata": {
    "execution": {
     "iopub.execute_input": "2022-07-07T14:14:02.844131Z",
     "iopub.status.busy": "2022-07-07T14:14:02.843872Z",
     "iopub.status.idle": "2022-07-07T14:14:02.850341Z",
     "shell.execute_reply": "2022-07-07T14:14:02.849685Z"
    },
    "papermill": {
     "duration": 0.015067,
     "end_time": "2022-07-07T14:14:02.853310",
     "exception": false,
     "start_time": "2022-07-07T14:14:02.838243",
     "status": "completed"
    },
    "tags": [
     "injected-parameters"
    ]
   },
   "outputs": [],
   "source": [
    "# Parameters\n",
    "P = {\n",
    "    \"pipeline.data_lake_root\": \"/pipeline-outputs/data-lake\",\n",
    "    \"pipeline.run_environment\": \"ci\",\n",
    "    \"pipeline.pipeline_run_id\": \"6c33327a-27e1-404a-81a7-ffd008d84d60\",\n",
    "    \"pipeline.github.repository\": \"pynb-dag-runner/mnist-digits-demo-pipeline\",\n",
    "    \"pipeline.github.workflow\": \"Run automated tests, pipeline and deploy results to static reporting site\",\n",
    "    \"pipeline.github.runner_name\": \"GitHub Actions 2\",\n",
    "    \"pipeline.github.run_id\": \"2630104459\",\n",
    "    \"pipeline.github.actor\": \"matiasdahl\",\n",
    "    \"pipeline.github.job\": \"run-tests-pipeline-and-persist-pipeline-outputs\",\n",
    "    \"pipeline.github.base_ref\": \"development\",\n",
    "    \"pipeline.github.head_ref\": \"try-C-hyperparameter\",\n",
    "    \"pipeline.github.sha\": \"1c817c9dee14ac98f14dda197d89dc60a81cf438\",\n",
    "    \"pipeline.github.ref\": \"refs/pull/55/merge\",\n",
    "    \"pipeline.github.ref_type\": \"branch\",\n",
    "    \"pipeline.github.ref_name\": \"55/merge\",\n",
    "    \"pipeline.github.event_name\": \"pull_request\",\n",
    "    \"task.nr_train_images\": 800,\n",
    "    \"task.notebook\": \"notebooks/benchmark-model.py\",\n",
    "    \"task.max_nr_retries\": \"1\",\n",
    "    \"run.retry_nr\": \"0\",\n",
    "    \"task.timeout_s\": \"None\",\n",
    "    \"task.num_cpus\": 1,\n",
    "    \"_opentelemetry_traceparent\": \"00-ae4c0ddb7a61dbf5c3ae6948e197b9ab-0d87cca9e379c5a3-01\",\n",
    "}\n"
   ]
  },
  {
   "cell_type": "code",
   "execution_count": 4,
   "id": "9cdccb87",
   "metadata": {
    "execution": {
     "iopub.execute_input": "2022-07-07T14:14:02.864888Z",
     "iopub.status.busy": "2022-07-07T14:14:02.864627Z",
     "iopub.status.idle": "2022-07-07T14:14:02.870109Z",
     "shell.execute_reply": "2022-07-07T14:14:02.869494Z"
    },
    "lines_to_next_cell": 0,
    "papermill": {
     "duration": 0.014312,
     "end_time": "2022-07-07T14:14:02.873222",
     "exception": false,
     "start_time": "2022-07-07T14:14:02.858910",
     "status": "completed"
    },
    "tags": []
   },
   "outputs": [],
   "source": [
    "# -----------------------------------------------------------------------"
   ]
  },
  {
   "cell_type": "markdown",
   "id": "1ec93116",
   "metadata": {
    "papermill": {
     "duration": 0.004621,
     "end_time": "2022-07-07T14:14:02.883774",
     "exception": false,
     "start_time": "2022-07-07T14:14:02.879153",
     "status": "completed"
    },
    "tags": []
   },
   "source": [
    "---"
   ]
  },
  {
   "cell_type": "markdown",
   "id": "92ea0ee0",
   "metadata": {
    "lines_to_next_cell": 2,
    "papermill": {
     "duration": 0.004476,
     "end_time": "2022-07-07T14:14:02.894931",
     "exception": false,
     "start_time": "2022-07-07T14:14:02.890455",
     "status": "completed"
    },
    "tags": []
   },
   "source": [
    "### Notebook code"
   ]
  },
  {
   "cell_type": "code",
   "execution_count": 5,
   "id": "724b4e6c",
   "metadata": {
    "execution": {
     "iopub.execute_input": "2022-07-07T14:14:02.915787Z",
     "iopub.status.busy": "2022-07-07T14:14:02.915452Z",
     "iopub.status.idle": "2022-07-07T14:14:04.238886Z",
     "shell.execute_reply": "2022-07-07T14:14:04.238054Z"
    },
    "papermill": {
     "duration": 1.339416,
     "end_time": "2022-07-07T14:14:04.246354",
     "exception": false,
     "start_time": "2022-07-07T14:14:02.906938",
     "status": "completed"
    },
    "tags": []
   },
   "outputs": [
    {
     "name": "stderr",
     "output_type": "stream",
     "text": [
      "2022-07-07 14:14:04,044\tINFO worker.py:842 -- Connecting to existing Ray cluster at address: 172.17.0.2:6379\n"
     ]
    }
   ],
   "source": [
    "import itertools as it\n",
    "\n",
    "#\n",
    "import numpy as np\n",
    "import matplotlib.pyplot as plt\n",
    "\n",
    "#\n",
    "from pynb_dag_runner.tasks.task_opentelemetry_logging import PydarLogger\n",
    "\n",
    "#\n",
    "from common.io import datalake_root\n",
    "\n",
    "logger = PydarLogger(P)"
   ]
  },
  {
   "cell_type": "markdown",
   "id": "f451fcd7",
   "metadata": {
    "papermill": {
     "duration": 0.006365,
     "end_time": "2022-07-07T14:14:04.261483",
     "exception": false,
     "start_time": "2022-07-07T14:14:04.255118",
     "status": "completed"
    },
    "tags": []
   },
   "source": [
    "## Load persisted onnx-model and evaluation data"
   ]
  },
  {
   "cell_type": "code",
   "execution_count": 6,
   "id": "59468995",
   "metadata": {
    "execution": {
     "iopub.execute_input": "2022-07-07T14:14:04.274516Z",
     "iopub.status.busy": "2022-07-07T14:14:04.273973Z",
     "iopub.status.idle": "2022-07-07T14:14:04.278713Z",
     "shell.execute_reply": "2022-07-07T14:14:04.277734Z"
    },
    "papermill": {
     "duration": 0.01596,
     "end_time": "2022-07-07T14:14:04.282549",
     "exception": false,
     "start_time": "2022-07-07T14:14:04.266589",
     "status": "completed"
    },
    "tags": []
   },
   "outputs": [],
   "source": [
    "from common.io import read_onnx, get_onnx_inputs, get_onnx_outputs, read_numpy"
   ]
  },
  {
   "cell_type": "code",
   "execution_count": 7,
   "id": "941a33e0",
   "metadata": {
    "execution": {
     "iopub.execute_input": "2022-07-07T14:14:04.299085Z",
     "iopub.status.busy": "2022-07-07T14:14:04.295862Z",
     "iopub.status.idle": "2022-07-07T14:14:04.311026Z",
     "shell.execute_reply": "2022-07-07T14:14:04.310267Z"
    },
    "lines_to_next_cell": 0,
    "papermill": {
     "duration": 0.024226,
     "end_time": "2022-07-07T14:14:04.312957",
     "exception": false,
     "start_time": "2022-07-07T14:14:04.288731",
     "status": "completed"
    },
    "tags": []
   },
   "outputs": [],
   "source": [
    "onnx_inference_session = read_onnx(\n",
    "    datalake_root(P)\n",
    "    / \"models\"\n",
    "    / f\"nr_train_images={P['task.nr_train_images']}\"\n",
    "    / \"model.onnx\"\n",
    ")"
   ]
  },
  {
   "cell_type": "markdown",
   "id": "789ebfcd",
   "metadata": {
    "papermill": {
     "duration": 0.004699,
     "end_time": "2022-07-07T14:14:04.322347",
     "exception": false,
     "start_time": "2022-07-07T14:14:04.317648",
     "status": "completed"
    },
    "tags": []
   },
   "source": [
    "### Record structure of inputs and outputs for ONNX model\n",
    "\n",
    "(this should likely be done in training notebook)"
   ]
  },
  {
   "cell_type": "code",
   "execution_count": 8,
   "id": "6477148e",
   "metadata": {
    "execution": {
     "iopub.execute_input": "2022-07-07T14:14:04.333910Z",
     "iopub.status.busy": "2022-07-07T14:14:04.333290Z",
     "iopub.status.idle": "2022-07-07T14:14:04.340353Z",
     "shell.execute_reply": "2022-07-07T14:14:04.339284Z"
    },
    "papermill": {
     "duration": 0.014793,
     "end_time": "2022-07-07T14:14:04.342066",
     "exception": false,
     "start_time": "2022-07-07T14:14:04.327273",
     "status": "completed"
    },
    "tags": []
   },
   "outputs": [
    {
     "name": "stdout",
     "output_type": "stream",
     "text": [
      "{\n",
      "  \"inputs\": [\n",
      "    {\n",
      "      \"name\": \"float_input_8x8_image\",\n",
      "      \"shape\": [\n",
      "        null,\n",
      "        64\n",
      "      ],\n",
      "      \"type\": \"tensor(float)\"\n",
      "    }\n",
      "  ],\n",
      "  \"outputs\": [\n",
      "    {\n",
      "      \"name\": \"output_label\",\n",
      "      \"shape\": [\n",
      "        null\n",
      "      ],\n",
      "      \"type\": \"tensor(int64)\"\n",
      "    },\n",
      "    {\n",
      "      \"name\": \"output_probability\",\n",
      "      \"shape\": [],\n",
      "      \"type\": \"seq(map(int64,tensor(float)))\"\n",
      "    }\n",
      "  ]\n",
      "}\n"
     ]
    }
   ],
   "source": [
    "import json\n",
    "\n",
    "onnx_io = json.dumps(\n",
    "    {\n",
    "        \"inputs\": get_onnx_inputs(onnx_inference_session),\n",
    "        \"outputs\": get_onnx_outputs(onnx_inference_session),\n",
    "    },\n",
    "    indent=2,\n",
    ")\n",
    "\n",
    "\n",
    "logger.log_artefact(\"onnx_io_structure.json\", onnx_io)\n",
    "print(onnx_io)"
   ]
  },
  {
   "cell_type": "markdown",
   "id": "f002fb65",
   "metadata": {
    "papermill": {
     "duration": 0.005024,
     "end_time": "2022-07-07T14:14:04.352035",
     "exception": false,
     "start_time": "2022-07-07T14:14:04.347011",
     "status": "completed"
    },
    "tags": []
   },
   "source": [
    "### Evaluate model performance on evaluation data set"
   ]
  },
  {
   "cell_type": "code",
   "execution_count": 9,
   "id": "25049165",
   "metadata": {
    "execution": {
     "iopub.execute_input": "2022-07-07T14:14:04.364690Z",
     "iopub.status.busy": "2022-07-07T14:14:04.364246Z",
     "iopub.status.idle": "2022-07-07T14:14:04.371539Z",
     "shell.execute_reply": "2022-07-07T14:14:04.369216Z"
    },
    "papermill": {
     "duration": 0.016866,
     "end_time": "2022-07-07T14:14:04.373534",
     "exception": false,
     "start_time": "2022-07-07T14:14:04.356668",
     "status": "completed"
    },
    "tags": []
   },
   "outputs": [],
   "source": [
    "# load evaluation data\n",
    "X_test = read_numpy(datalake_root(P) / \"test-data\" / \"digits.numpy\")\n",
    "y_test = read_numpy(datalake_root(P) / \"test-data\" / \"labels.numpy\")"
   ]
  },
  {
   "cell_type": "code",
   "execution_count": 10,
   "id": "c33fcfcc",
   "metadata": {
    "execution": {
     "iopub.execute_input": "2022-07-07T14:14:04.385153Z",
     "iopub.status.busy": "2022-07-07T14:14:04.384536Z",
     "iopub.status.idle": "2022-07-07T14:14:04.397918Z",
     "shell.execute_reply": "2022-07-07T14:14:04.397307Z"
    },
    "papermill": {
     "duration": 0.021247,
     "end_time": "2022-07-07T14:14:04.399634",
     "exception": false,
     "start_time": "2022-07-07T14:14:04.378387",
     "status": "completed"
    },
    "tags": []
   },
   "outputs": [],
   "source": [
    "def get_model_outputs(X, onnx_inference_session):\n",
    "    y_pred_labels, y_pred_map = onnx_inference_session.run(\n",
    "        [\"output_label\", \"output_probability\"],\n",
    "        {\"float_input_8x8_image\": X.astype(np.float32)},\n",
    "    )\n",
    "    y_pred_probs = np.array(\n",
    "        [[probabilities[digit] for digit in range(10)] for probabilities in y_pred_map]\n",
    "    )\n",
    "\n",
    "    assert y_pred_labels.shape == (X.shape[0],)\n",
    "    assert y_pred_probs.shape == (X.shape[0], 10)\n",
    "\n",
    "    return y_pred_labels, y_pred_probs\n",
    "\n",
    "\n",
    "# Note: as shown in the training notebook, the predicted labels and probabilities\n",
    "# computed below need not be compatible.\n",
    "y_pred_labels_test, y_pred_probs_test = get_model_outputs(\n",
    "    X_test, onnx_inference_session\n",
    ")"
   ]
  },
  {
   "cell_type": "markdown",
   "id": "230b1a9d",
   "metadata": {
    "papermill": {
     "duration": 0.004856,
     "end_time": "2022-07-07T14:14:04.410289",
     "exception": false,
     "start_time": "2022-07-07T14:14:04.405433",
     "status": "completed"
    },
    "tags": []
   },
   "source": [
    "### Confusion matrix"
   ]
  },
  {
   "cell_type": "code",
   "execution_count": 11,
   "id": "a1c30d3c",
   "metadata": {
    "execution": {
     "iopub.execute_input": "2022-07-07T14:14:04.422697Z",
     "iopub.status.busy": "2022-07-07T14:14:04.421511Z",
     "iopub.status.idle": "2022-07-07T14:14:04.426762Z",
     "shell.execute_reply": "2022-07-07T14:14:04.426200Z"
    },
    "papermill": {
     "duration": 0.013404,
     "end_time": "2022-07-07T14:14:04.428773",
     "exception": false,
     "start_time": "2022-07-07T14:14:04.415369",
     "status": "completed"
    },
    "tags": []
   },
   "outputs": [],
   "source": [
    "# TODO"
   ]
  },
  {
   "cell_type": "markdown",
   "id": "ecfd1621",
   "metadata": {
    "papermill": {
     "duration": 0.005804,
     "end_time": "2022-07-07T14:14:04.439785",
     "exception": false,
     "start_time": "2022-07-07T14:14:04.433981",
     "status": "completed"
    },
    "tags": []
   },
   "source": [
    "### Plot predicted probabilities for each classifier over all evaluation digit images"
   ]
  },
  {
   "cell_type": "code",
   "execution_count": 12,
   "id": "45e0a3ac",
   "metadata": {
    "execution": {
     "iopub.execute_input": "2022-07-07T14:14:04.458188Z",
     "iopub.status.busy": "2022-07-07T14:14:04.457863Z",
     "iopub.status.idle": "2022-07-07T14:14:08.489255Z",
     "shell.execute_reply": "2022-07-07T14:14:08.488415Z"
    },
    "papermill": {
     "duration": 4.044938,
     "end_time": "2022-07-07T14:14:08.491494",
     "exception": false,
     "start_time": "2022-07-07T14:14:04.446556",
     "status": "completed"
    },
    "tags": []
   },
   "outputs": [
    {
     "data": {
      "image/png": "[encoded data removed]",
      "text/plain": [
       "<Figure size 1152x432 with 10 Axes>"
      ]
     },
     "metadata": {
      "needs_background": "light"
     },
     "output_type": "display_data"
    }
   ],
   "source": [
    "def plot_per_digit_probabilities(y_pred_probs):\n",
    "    fig, axs = plt.subplots(nrows=2, ncols=5, figsize=(16, 6))\n",
    "\n",
    "    for (r, c), digit, ax in zip(\n",
    "        it.product(range(2), range(5)), range(10), axs.reshape(-1)\n",
    "    ):\n",
    "        ax.hist(y_pred_probs_test[:, digit], bins=20)\n",
    "\n",
    "        ax.set_title(f\"Digit {digit}\")\n",
    "        if r == 1 and c == 2:\n",
    "            ax.set_xlabel(\"probability\", fontsize=16)\n",
    "\n",
    "        if c == 0:\n",
    "            ax.set_ylabel(\"counts\", fontsize=16)\n",
    "        ax.set_yscale(\"log\")\n",
    "\n",
    "    fig.tight_layout()\n",
    "    fig.suptitle(\n",
    "        f\"Distributions of prediction probabilities for each digit \"\n",
    "        f\"(on evaluation data, n={y_pred_probs.shape[0]})\",\n",
    "        fontsize=20,\n",
    "    )\n",
    "    fig.tight_layout()\n",
    "    fig.show()\n",
    "\n",
    "    return fig\n",
    "\n",
    "\n",
    "fig = plot_per_digit_probabilities(y_pred_probs_test)"
   ]
  },
  {
   "cell_type": "markdown",
   "id": "c6e4f5b4",
   "metadata": {
    "papermill": {
     "duration": 0.012528,
     "end_time": "2022-07-07T14:14:08.510768",
     "exception": false,
     "start_time": "2022-07-07T14:14:08.498240",
     "status": "completed"
    },
    "tags": []
   },
   "source": [
    "From the above distributions we see that most digits have clear separation between\n",
    "high and lower probabilities. Morover, in each case there is roughly an order of\n",
    "magnitude more of digits with low probabilities. This is compatible with digits\n",
    "being roughly evenly distributed in the data."
   ]
  },
  {
   "cell_type": "code",
   "execution_count": 13,
   "id": "b375144c",
   "metadata": {
    "execution": {
     "iopub.execute_input": "2022-07-07T14:14:08.524891Z",
     "iopub.status.busy": "2022-07-07T14:14:08.523705Z",
     "iopub.status.idle": "2022-07-07T14:14:09.076759Z",
     "shell.execute_reply": "2022-07-07T14:14:09.073819Z"
    },
    "papermill": {
     "duration": 0.562253,
     "end_time": "2022-07-07T14:14:09.078909",
     "exception": false,
     "start_time": "2022-07-07T14:14:08.516656",
     "status": "completed"
    },
    "tags": []
   },
   "outputs": [],
   "source": [
    "logger.log_figure(\"per-digit-probabilities.png\", fig)"
   ]
  },
  {
   "cell_type": "markdown",
   "id": "606e8dcd",
   "metadata": {
    "papermill": {
     "duration": 0.005585,
     "end_time": "2022-07-07T14:14:09.090500",
     "exception": false,
     "start_time": "2022-07-07T14:14:09.084915",
     "status": "completed"
    },
    "tags": []
   },
   "source": [
    "### Plot ROC curves for individual one-vs-rest classifiers"
   ]
  },
  {
   "cell_type": "code",
   "execution_count": 14,
   "id": "5351d320",
   "metadata": {
    "execution": {
     "iopub.execute_input": "2022-07-07T14:14:09.103814Z",
     "iopub.status.busy": "2022-07-07T14:14:09.103206Z",
     "iopub.status.idle": "2022-07-07T14:14:09.597957Z",
     "shell.execute_reply": "2022-07-07T14:14:09.597100Z"
    },
    "papermill": {
     "duration": 0.503897,
     "end_time": "2022-07-07T14:14:09.600287",
     "exception": false,
     "start_time": "2022-07-07T14:14:09.096390",
     "status": "completed"
    },
    "tags": []
   },
   "outputs": [],
   "source": [
    "from sklearn import metrics"
   ]
  },
  {
   "cell_type": "code",
   "execution_count": 15,
   "id": "27a2f1f7",
   "metadata": {
    "execution": {
     "iopub.execute_input": "2022-07-07T14:14:09.614939Z",
     "iopub.status.busy": "2022-07-07T14:14:09.614636Z",
     "iopub.status.idle": "2022-07-07T14:14:10.895489Z",
     "shell.execute_reply": "2022-07-07T14:14:10.894785Z"
    },
    "papermill": {
     "duration": 1.293533,
     "end_time": "2022-07-07T14:14:10.900346",
     "exception": false,
     "start_time": "2022-07-07T14:14:09.606813",
     "status": "completed"
    },
    "tags": []
   },
   "outputs": [
    {
     "data": {
      "image/png": "[encoded data removed]",
      "text/plain": [
       "<Figure size 1152x576 with 10 Axes>"
      ]
     },
     "metadata": {
      "needs_background": "light"
     },
     "output_type": "display_data"
    }
   ],
   "source": [
    "def plot_roc_curves(y, y_pred_probs):\n",
    "    # based on example code\n",
    "    # https://scikit-learn.org/stable/auto_examples/model_selection/plot_roc.html\n",
    "\n",
    "    fig, axs = plt.subplots(nrows=2, ncols=5, figsize=(16, 8))\n",
    "\n",
    "    roc_auc_dict = {}\n",
    "\n",
    "    for (r, c), digit, ax in zip(\n",
    "        it.product(range(2), range(5)), range(10), axs.reshape(-1)\n",
    "    ):\n",
    "        fpr, tpr, _ = metrics.roc_curve(y == digit, y_pred_probs[:, digit])\n",
    "        auc = metrics.auc(fpr, tpr)\n",
    "        roc_auc_dict[str(digit)] = auc\n",
    "\n",
    "        ax.plot(fpr, tpr, label=f\"ROC AUC={round(auc, 3)}\")\n",
    "\n",
    "        ax.set_title(f\"\\nDigit {digit}\", fontsize=16)\n",
    "        if r == 1:\n",
    "            ax.set_xlabel(\"FPR\", fontsize=18)\n",
    "\n",
    "        if c == 0:\n",
    "            ax.set_ylabel(\"TPR\", fontsize=18)\n",
    "\n",
    "        ax.set_xlim([-0.05, 1.05])\n",
    "        ax.set_ylim([-0.05, 1.05])\n",
    "        ax.legend(loc=\"lower right\", frameon=False, fontsize=14)\n",
    "\n",
    "    fig.tight_layout()\n",
    "    fig.suptitle(\n",
    "        f\"ROC plots for one-vs-rest performances \"\n",
    "        f\"(on evaluation data, n={y_pred_probs_test.shape[1]}\",\n",
    "        fontsize=22,\n",
    "    )\n",
    "    fig.tight_layout()\n",
    "    fig.show()\n",
    "\n",
    "    return roc_auc_dict, fig\n",
    "\n",
    "\n",
    "roc_auc_dict, fig = plot_roc_curves(y_test, y_pred_probs_test)"
   ]
  },
  {
   "cell_type": "code",
   "execution_count": 16,
   "id": "49e1e1f6",
   "metadata": {
    "execution": {
     "iopub.execute_input": "2022-07-07T14:14:10.917047Z",
     "iopub.status.busy": "2022-07-07T14:14:10.916697Z",
     "iopub.status.idle": "2022-07-07T14:14:11.211357Z",
     "shell.execute_reply": "2022-07-07T14:14:11.210704Z"
    },
    "papermill": {
     "duration": 0.305587,
     "end_time": "2022-07-07T14:14:11.213543",
     "exception": false,
     "start_time": "2022-07-07T14:14:10.907956",
     "status": "completed"
    },
    "tags": []
   },
   "outputs": [],
   "source": [
    "logger.log_figure(\"per-digit-roc-curves.png\", fig)"
   ]
  },
  {
   "cell_type": "code",
   "execution_count": 17,
   "id": "7d798632",
   "metadata": {
    "execution": {
     "iopub.execute_input": "2022-07-07T14:14:11.230880Z",
     "iopub.status.busy": "2022-07-07T14:14:11.230586Z",
     "iopub.status.idle": "2022-07-07T14:14:11.236015Z",
     "shell.execute_reply": "2022-07-07T14:14:11.235395Z"
    },
    "papermill": {
     "duration": 0.02102,
     "end_time": "2022-07-07T14:14:11.241001",
     "exception": false,
     "start_time": "2022-07-07T14:14:11.219981",
     "status": "completed"
    },
    "tags": []
   },
   "outputs": [
    {
     "data": {
      "text/plain": [
       "{'0': 1.0,\n",
       " '1': 0.9988378631677601,\n",
       " '2': 1.0,\n",
       " '3': 0.9997000937207123,\n",
       " '4': 1.0,\n",
       " '5': 0.99883786316776,\n",
       " '6': 0.999961896052431,\n",
       " '7': 0.9998475842097242,\n",
       " '8': 0.9888083228247162,\n",
       " '9': 0.9990092973632068}"
      ]
     },
     "execution_count": 17,
     "metadata": {},
     "output_type": "execute_result"
    }
   ],
   "source": [
    "roc_auc_dict"
   ]
  },
  {
   "cell_type": "code",
   "execution_count": 18,
   "id": "91afb3a2",
   "metadata": {
    "execution": {
     "iopub.execute_input": "2022-07-07T14:14:11.257546Z",
     "iopub.status.busy": "2022-07-07T14:14:11.257236Z",
     "iopub.status.idle": "2022-07-07T14:14:11.262075Z",
     "shell.execute_reply": "2022-07-07T14:14:11.261412Z"
    },
    "papermill": {
     "duration": 0.017803,
     "end_time": "2022-07-07T14:14:11.266242",
     "exception": false,
     "start_time": "2022-07-07T14:14:11.248439",
     "status": "completed"
    },
    "tags": []
   },
   "outputs": [
    {
     "name": "stdout",
     "output_type": "stream",
     "text": [
      " - Logging roc_auc_per_digit (json) : {'0': 1.0, '1': 0.9988378631677601, '2': 1.0, '3': 0.9997000937207123, '4': 1.0, '5': 0.99883786316776, '6': 0.999961896052431, '7': 0.9998475842097242, '8': 0.9888083228247162, '9': 0.9990092973632068}\n"
     ]
    }
   ],
   "source": [
    "logger.log_value(\"roc_auc_per_digit\", roc_auc_dict)"
   ]
  },
  {
   "cell_type": "markdown",
   "id": "d22e79b7",
   "metadata": {
    "papermill": {
     "duration": 0.00815,
     "end_time": "2022-07-07T14:14:11.284421",
     "exception": false,
     "start_time": "2022-07-07T14:14:11.276271",
     "status": "completed"
    },
    "tags": []
   },
   "source": [
    "### Compute and log mean ROC AUC score averaged over all digits"
   ]
  },
  {
   "cell_type": "code",
   "execution_count": 19,
   "id": "c503de87",
   "metadata": {
    "execution": {
     "iopub.execute_input": "2022-07-07T14:14:11.300792Z",
     "iopub.status.busy": "2022-07-07T14:14:11.300472Z",
     "iopub.status.idle": "2022-07-07T14:14:11.324295Z",
     "shell.execute_reply": "2022-07-07T14:14:11.321918Z"
    },
    "papermill": {
     "duration": 0.03455,
     "end_time": "2022-07-07T14:14:11.326521",
     "exception": false,
     "start_time": "2022-07-07T14:14:11.291971",
     "status": "completed"
    },
    "tags": []
   },
   "outputs": [
    {
     "name": "stdout",
     "output_type": "stream",
     "text": [
      " - Logging roc_auc_class_mean (float) : 0.9985002920506311\n"
     ]
    }
   ],
   "source": [
    "roc_auc_macro = np.mean(list(roc_auc_dict.values()))\n",
    "\n",
    "logger.log_float(\"roc_auc_class_mean\", roc_auc_macro)\n",
    "\n",
    "# assert that the same value can be computed directly using sklearn\n",
    "assert roc_auc_macro == metrics.roc_auc_score(\n",
    "    y_test, y_pred_probs_test, average=\"macro\", multi_class=\"ovr\"\n",
    ")"
   ]
  },
  {
   "cell_type": "code",
   "execution_count": 20,
   "id": "bb253226",
   "metadata": {
    "execution": {
     "iopub.execute_input": "2022-07-07T14:14:11.343313Z",
     "iopub.status.busy": "2022-07-07T14:14:11.342995Z",
     "iopub.status.idle": "2022-07-07T14:14:11.347156Z",
     "shell.execute_reply": "2022-07-07T14:14:11.346508Z"
    },
    "lines_to_next_cell": 0,
    "papermill": {
     "duration": 0.015861,
     "end_time": "2022-07-07T14:14:11.350483",
     "exception": false,
     "start_time": "2022-07-07T14:14:11.334622",
     "status": "completed"
    },
    "tags": []
   },
   "outputs": [],
   "source": [
    "# ---"
   ]
  },
  {
   "cell_type": "code",
   "execution_count": null,
   "id": "7708e982",
   "metadata": {
    "papermill": {
     "duration": 0.006784,
     "end_time": "2022-07-07T14:14:11.364721",
     "exception": false,
     "start_time": "2022-07-07T14:14:11.357937",
     "status": "completed"
    },
    "tags": []
   },
   "outputs": [],
   "source": []
  }
 ],
 "metadata": {
  "jupytext": {
   "cell_metadata_filter": "tags,-all",
   "main_language": "python",
   "notebook_metadata_filter": "-all"
  },
  "language_info": {
   "codemirror_mode": {
    "name": "ipython",
    "version": 3
   },
   "file_extension": ".py",
   "mimetype": "text/x-python",
   "name": "python",
   "nbconvert_exporter": "python",
   "pygments_lexer": "ipython3",
   "version": "3.8.10"
  },
  "papermill": {
   "default_parameters": {},
   "duration": 11.324676,
   "end_time": "2022-07-07T14:14:12.601159",
   "environment_variables": {},
   "exception": null,
   "input_path": "/home/host_user/workspace/mnist-demo-pipeline/mnist-demo-pipeline/notebooks/temp-notebook-g9gbv9e2.ipynb",
   "output_path": "notebooks/benchmark-model.ipynb",
   "parameters": {
    "P": {
     "_opentelemetry_traceparent": "00-ae4c0ddb7a61dbf5c3ae6948e197b9ab-0d87cca9e379c5a3-01",
     "pipeline.data_lake_root": "/pipeline-outputs/data-lake",
     "pipeline.github.actor": "matiasdahl",
     "pipeline.github.base_ref": "development",
     "pipeline.github.event_name": "pull_request",
     "pipeline.github.head_ref": "try-C-hyperparameter",
     "pipeline.github.job": "run-tests-pipeline-and-persist-pipeline-outputs",
     "pipeline.github.ref": "refs/pull/55/merge",
     "pipeline.github.ref_name": "55/merge",
     "pipeline.github.ref_type": "branch",
     "pipeline.github.repository": "pynb-dag-runner/mnist-digits-demo-pipeline",
     "pipeline.github.run_id": "2630104459",
     "pipeline.github.runner_name": "GitHub Actions 2",
     "pipeline.github.sha": "1c817c9dee14ac98f14dda197d89dc60a81cf438",
     "pipeline.github.workflow": "Run automated tests, pipeline and deploy results to static reporting site",
     "pipeline.pipeline_run_id": "6c33327a-27e1-404a-81a7-ffd008d84d60",
     "pipeline.run_environment": "ci",
     "run.retry_nr": "0",
     "task.max_nr_retries": "1",
     "task.notebook": "notebooks/benchmark-model.py",
     "task.nr_train_images": 800,
     "task.num_cpus": 1,
     "task.timeout_s": "None"
    }
   },
   "start_time": "2022-07-07T14:14:01.276483",
   "version": "2.3.3"
  }
 },
 "nbformat": 4,
 "nbformat_minor": 5
}