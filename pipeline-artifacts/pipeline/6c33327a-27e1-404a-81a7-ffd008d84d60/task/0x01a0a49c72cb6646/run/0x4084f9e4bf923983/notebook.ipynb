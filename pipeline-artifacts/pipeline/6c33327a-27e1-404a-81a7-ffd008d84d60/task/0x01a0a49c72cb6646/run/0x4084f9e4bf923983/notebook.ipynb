{
 "cells": [
  {
   "cell_type": "markdown",
   "id": "616c3636",
   "metadata": {
    "papermill": {
     "duration": 0.003724,
     "end_time": "2022-07-07T14:13:21.936975",
     "exception": false,
     "start_time": "2022-07-07T14:13:21.933251",
     "status": "completed"
    },
    "tags": []
   },
   "source": [
    "# Ingest toy version of MNIST digit data from sklearn"
   ]
  },
  {
   "cell_type": "markdown",
   "id": "11e56d2c",
   "metadata": {
    "papermill": {
     "duration": 0.002579,
     "end_time": "2022-07-07T14:13:21.942640",
     "exception": false,
     "start_time": "2022-07-07T14:13:21.940061",
     "status": "completed"
    },
    "tags": []
   },
   "source": [
    "### Determine run parameters"
   ]
  },
  {
   "cell_type": "code",
   "execution_count": 1,
   "id": "08df7c27",
   "metadata": {
    "execution": {
     "iopub.execute_input": "2022-07-07T14:13:21.949654Z",
     "iopub.status.busy": "2022-07-07T14:13:21.949294Z",
     "iopub.status.idle": "2022-07-07T14:13:21.959166Z",
     "shell.execute_reply": "2022-07-07T14:13:21.958520Z"
    },
    "lines_to_next_cell": 0,
    "papermill": {
     "duration": 0.015895,
     "end_time": "2022-07-07T14:13:21.961137",
     "exception": false,
     "start_time": "2022-07-07T14:13:21.945242",
     "status": "completed"
    },
    "tags": []
   },
   "outputs": [],
   "source": [
    "# ----------------- Parameters for interactive development --------------\n",
    "P = {\n",
    "    \"pipeline.run_environment\": \"dev\",\n",
    "    \"pipeline.data_lake_root\": \"/pipeline-outputs/data-lake\",\n",
    "    \"run.retry_nr\": \"1\",\n",
    "}"
   ]
  },
  {
   "cell_type": "code",
   "execution_count": 2,
   "id": "df15c2d4",
   "metadata": {
    "execution": {
     "iopub.execute_input": "2022-07-07T14:13:21.968212Z",
     "iopub.status.busy": "2022-07-07T14:13:21.967941Z",
     "iopub.status.idle": "2022-07-07T14:13:21.971447Z",
     "shell.execute_reply": "2022-07-07T14:13:21.970843Z"
    },
    "lines_to_next_cell": 0,
    "papermill": {
     "duration": 0.01062,
     "end_time": "2022-07-07T14:13:21.974269",
     "exception": false,
     "start_time": "2022-07-07T14:13:21.963649",
     "status": "completed"
    },
    "tags": [
     "parameters"
    ]
   },
   "outputs": [],
   "source": [
    "# - During automated runs parameters will be injected in the below cell -"
   ]
  },
  {
   "cell_type": "code",
   "execution_count": 3,
   "id": "fc77241b",
   "metadata": {
    "execution": {
     "iopub.execute_input": "2022-07-07T14:13:21.981714Z",
     "iopub.status.busy": "2022-07-07T14:13:21.981461Z",
     "iopub.status.idle": "2022-07-07T14:13:21.985728Z",
     "shell.execute_reply": "2022-07-07T14:13:21.985302Z"
    },
    "papermill": {
     "duration": 0.015705,
     "end_time": "2022-07-07T14:13:21.993317",
     "exception": false,
     "start_time": "2022-07-07T14:13:21.977612",
     "status": "completed"
    },
    "tags": [
     "injected-parameters"
    ]
   },
   "outputs": [],
   "source": [
    "# Parameters\n",
    "P = {\n",
    "    \"pipeline.data_lake_root\": \"/pipeline-outputs/data-lake\",\n",
    "    \"pipeline.run_environment\": \"ci\",\n",
    "    \"pipeline.pipeline_run_id\": \"6c33327a-27e1-404a-81a7-ffd008d84d60\",\n",
    "    \"pipeline.github.repository\": \"pynb-dag-runner/mnist-digits-demo-pipeline\",\n",
    "    \"pipeline.github.workflow\": \"Run automated tests, pipeline and deploy results to static reporting site\",\n",
    "    \"pipeline.github.runner_name\": \"GitHub Actions 2\",\n",
    "    \"pipeline.github.run_id\": \"2630104459\",\n",
    "    \"pipeline.github.actor\": \"matiasdahl\",\n",
    "    \"pipeline.github.job\": \"run-tests-pipeline-and-persist-pipeline-outputs\",\n",
    "    \"pipeline.github.base_ref\": \"development\",\n",
    "    \"pipeline.github.head_ref\": \"try-C-hyperparameter\",\n",
    "    \"pipeline.github.sha\": \"1c817c9dee14ac98f14dda197d89dc60a81cf438\",\n",
    "    \"pipeline.github.ref\": \"refs/pull/55/merge\",\n",
    "    \"pipeline.github.ref_type\": \"branch\",\n",
    "    \"pipeline.github.ref_name\": \"55/merge\",\n",
    "    \"pipeline.github.event_name\": \"pull_request\",\n",
    "    \"task.notebook\": \"notebooks/ingest.py\",\n",
    "    \"task.max_nr_retries\": \"15\",\n",
    "    \"run.retry_nr\": \"10\",\n",
    "    \"task.timeout_s\": \"10\",\n",
    "    \"task.num_cpus\": 1,\n",
    "    \"_opentelemetry_traceparent\": \"00-ae4c0ddb7a61dbf5c3ae6948e197b9ab-978089a8dfa8c81c-01\",\n",
    "}\n"
   ]
  },
  {
   "cell_type": "code",
   "execution_count": 4,
   "id": "3622817a",
   "metadata": {
    "execution": {
     "iopub.execute_input": "2022-07-07T14:13:22.005748Z",
     "iopub.status.busy": "2022-07-07T14:13:22.005469Z",
     "iopub.status.idle": "2022-07-07T14:13:22.008777Z",
     "shell.execute_reply": "2022-07-07T14:13:22.008133Z"
    },
    "lines_to_next_cell": 0,
    "papermill": {
     "duration": 0.014516,
     "end_time": "2022-07-07T14:13:22.011613",
     "exception": false,
     "start_time": "2022-07-07T14:13:21.997097",
     "status": "completed"
    },
    "tags": []
   },
   "outputs": [],
   "source": [
    "# -----------------------------------------------------------------------"
   ]
  },
  {
   "cell_type": "markdown",
   "id": "d1b183f9",
   "metadata": {
    "lines_to_next_cell": 2,
    "papermill": {
     "duration": 0.002924,
     "end_time": "2022-07-07T14:13:22.016896",
     "exception": false,
     "start_time": "2022-07-07T14:13:22.013972",
     "status": "completed"
    },
    "tags": []
   },
   "source": [
    "---"
   ]
  },
  {
   "cell_type": "markdown",
   "id": "b80acd42",
   "metadata": {
    "papermill": {
     "duration": 0.002842,
     "end_time": "2022-07-07T14:13:22.022304",
     "exception": false,
     "start_time": "2022-07-07T14:13:22.019462",
     "status": "completed"
    },
    "tags": []
   },
   "source": [
    "### Simulate different types of failures (for testing timeout and retry logic)"
   ]
  },
  {
   "cell_type": "code",
   "execution_count": 5,
   "id": "dba2a421",
   "metadata": {
    "execution": {
     "iopub.execute_input": "2022-07-07T14:13:22.029711Z",
     "iopub.status.busy": "2022-07-07T14:13:22.029442Z",
     "iopub.status.idle": "2022-07-07T14:13:22.590302Z",
     "shell.execute_reply": "2022-07-07T14:13:22.589400Z"
    },
    "papermill": {
     "duration": 0.567324,
     "end_time": "2022-07-07T14:13:22.592553",
     "exception": false,
     "start_time": "2022-07-07T14:13:22.025229",
     "status": "completed"
    },
    "tags": []
   },
   "outputs": [
    {
     "name": "stderr",
     "output_type": "stream",
     "text": [
      "2022-07-07 14:13:22,405\tINFO worker.py:842 -- Connecting to existing Ray cluster at address: 172.17.0.2:6379\n"
     ]
    }
   ],
   "source": [
    "from pynb_dag_runner.tasks.task_opentelemetry_logging import PydarLogger\n",
    "\n",
    "logger = PydarLogger(P)"
   ]
  },
  {
   "cell_type": "code",
   "execution_count": 6,
   "id": "05ffa24b",
   "metadata": {
    "execution": {
     "iopub.execute_input": "2022-07-07T14:13:22.601121Z",
     "iopub.status.busy": "2022-07-07T14:13:22.600588Z",
     "iopub.status.idle": "2022-07-07T14:13:22.607627Z",
     "shell.execute_reply": "2022-07-07T14:13:22.607082Z"
    },
    "papermill": {
     "duration": 0.016206,
     "end_time": "2022-07-07T14:13:22.612187",
     "exception": false,
     "start_time": "2022-07-07T14:13:22.595981",
     "status": "completed"
    },
    "tags": []
   },
   "outputs": [],
   "source": [
    "import time, random\n",
    "\n",
    "\n",
    "def maybe_crash(retry_nr: int, run_environment: str):\n",
    "    if retry_nr == 2 and run_environment == \"ci\":\n",
    "        time.sleep(1e6)\n",
    "\n",
    "    max_retry_nr: int = 3 if run_environment == \"dev\" else 10\n",
    "\n",
    "    if retry_nr < max_retry_nr:\n",
    "        if random.random() < 0.1:\n",
    "            time.sleep(1e6)\n",
    "        else:\n",
    "            raise Exception(\"Simulated exception failure from ingestion step notebook!\")\n",
    "\n",
    "\n",
    "maybe_crash(\n",
    "    retry_nr=int(P[\"run.retry_nr\"]), run_environment=P[\"pipeline.run_environment\"]\n",
    ")"
   ]
  },
  {
   "cell_type": "markdown",
   "id": "e50ec5bb",
   "metadata": {
    "lines_to_next_cell": 2,
    "papermill": {
     "duration": 0.003971,
     "end_time": "2022-07-07T14:13:22.620537",
     "exception": false,
     "start_time": "2022-07-07T14:13:22.616566",
     "status": "completed"
    },
    "tags": []
   },
   "source": [
    "### Notebook code"
   ]
  },
  {
   "cell_type": "code",
   "execution_count": 7,
   "id": "1e3dc853",
   "metadata": {
    "execution": {
     "iopub.execute_input": "2022-07-07T14:13:22.628238Z",
     "iopub.status.busy": "2022-07-07T14:13:22.627787Z",
     "iopub.status.idle": "2022-07-07T14:13:24.195419Z",
     "shell.execute_reply": "2022-07-07T14:13:24.194199Z"
    },
    "papermill": {
     "duration": 1.574567,
     "end_time": "2022-07-07T14:13:24.197932",
     "exception": false,
     "start_time": "2022-07-07T14:13:22.623365",
     "status": "completed"
    },
    "tags": []
   },
   "outputs": [
    {
     "name": "stderr",
     "output_type": "stream",
     "text": [
      "2022-07-07 14:13:23,160\tWARNING worker.py:1245 -- (ip=172.17.0.2) The agent on node 1cc8c3cba2fa failed to be restarted 5 times. There are 3 possible problems if you see this error.\n",
      "  1. The dashboard might not display correct information on this node.\n",
      "  2. Metrics on this node won't be reported.\n",
      "  3. runtime_env APIs won't work.\n",
      "Check out the `dashboard_agent.log` to see the detailed failure messages.\n"
     ]
    }
   ],
   "source": [
    "from sklearn import datasets\n",
    "\n",
    "#\n",
    "from common.io import datalake_root, write_numpy"
   ]
  },
  {
   "cell_type": "code",
   "execution_count": 8,
   "id": "316a24f6",
   "metadata": {
    "execution": {
     "iopub.execute_input": "2022-07-07T14:13:24.207181Z",
     "iopub.status.busy": "2022-07-07T14:13:24.205997Z",
     "iopub.status.idle": "2022-07-07T14:13:24.222529Z",
     "shell.execute_reply": "2022-07-07T14:13:24.221879Z"
    },
    "lines_to_next_cell": 2,
    "papermill": {
     "duration": 0.022807,
     "end_time": "2022-07-07T14:13:24.224399",
     "exception": false,
     "start_time": "2022-07-07T14:13:24.201592",
     "status": "completed"
    },
    "tags": []
   },
   "outputs": [],
   "source": [
    "digits = datasets.load_digits()\n",
    "\n",
    "X = digits[\"data\"]\n",
    "y = digits[\"target\"]"
   ]
  },
  {
   "cell_type": "code",
   "execution_count": 9,
   "id": "9f7369df",
   "metadata": {
    "execution": {
     "iopub.execute_input": "2022-07-07T14:13:24.232659Z",
     "iopub.status.busy": "2022-07-07T14:13:24.232165Z",
     "iopub.status.idle": "2022-07-07T14:13:24.250720Z",
     "shell.execute_reply": "2022-07-07T14:13:24.248608Z"
    },
    "papermill": {
     "duration": 0.025152,
     "end_time": "2022-07-07T14:13:24.252723",
     "exception": false,
     "start_time": "2022-07-07T14:13:24.227571",
     "status": "completed"
    },
    "tags": []
   },
   "outputs": [
    {
     "name": "stdout",
     "output_type": "stream",
     "text": [
      " - Logging data_shape (json) : [1797, 64]\n",
      " - Logging target_shape (json) : [1797]\n"
     ]
    },
    {
     "data": {
      "text/plain": [
       "((1797, 64), (1797,))"
      ]
     },
     "execution_count": 9,
     "metadata": {},
     "output_type": "execute_result"
    }
   ],
   "source": [
    "logger.log_value(\"data_shape\", list(X.shape))\n",
    "logger.log_value(\"target_shape\", list(y.shape))\n",
    "\n",
    "X.shape, y.shape"
   ]
  },
  {
   "cell_type": "code",
   "execution_count": 10,
   "id": "3669e1b9",
   "metadata": {
    "execution": {
     "iopub.execute_input": "2022-07-07T14:13:24.262796Z",
     "iopub.status.busy": "2022-07-07T14:13:24.262118Z",
     "iopub.status.idle": "2022-07-07T14:13:24.274192Z",
     "shell.execute_reply": "2022-07-07T14:13:24.273475Z"
    },
    "papermill": {
     "duration": 0.020252,
     "end_time": "2022-07-07T14:13:24.276210",
     "exception": false,
     "start_time": "2022-07-07T14:13:24.255958",
     "status": "completed"
    },
    "tags": []
   },
   "outputs": [],
   "source": [
    "write_numpy(datalake_root(P) / \"raw\" / \"digits.numpy\", X)\n",
    "write_numpy(datalake_root(P) / \"raw\" / \"labels.numpy\", y)"
   ]
  },
  {
   "cell_type": "code",
   "execution_count": null,
   "id": "9ae3e9cd",
   "metadata": {
    "papermill": {
     "duration": 0.004069,
     "end_time": "2022-07-07T14:13:24.284070",
     "exception": false,
     "start_time": "2022-07-07T14:13:24.280001",
     "status": "completed"
    },
    "tags": []
   },
   "outputs": [],
   "source": []
  }
 ],
 "metadata": {
  "jupytext": {
   "cell_metadata_filter": "tags,-all",
   "main_language": "python",
   "notebook_metadata_filter": "-all"
  },
  "language_info": {
   "codemirror_mode": {
    "name": "ipython",
    "version": 3
   },
   "file_extension": ".py",
   "mimetype": "text/x-python",
   "name": "python",
   "nbconvert_exporter": "python",
   "pygments_lexer": "ipython3",
   "version": "3.8.10"
  },
  "papermill": {
   "default_parameters": {},
   "duration": 4.621604,
   "end_time": "2022-07-07T14:13:25.308849",
   "environment_variables": {},
   "exception": null,
   "input_path": "/home/host_user/workspace/mnist-demo-pipeline/mnist-demo-pipeline/notebooks/temp-notebook-yc9vadae.ipynb",
   "output_path": "notebooks/ingest.ipynb",
   "parameters": {
    "P": {
     "_opentelemetry_traceparent": "00-ae4c0ddb7a61dbf5c3ae6948e197b9ab-978089a8dfa8c81c-01",
     "pipeline.data_lake_root": "/pipeline-outputs/data-lake",
     "pipeline.github.actor": "matiasdahl",
     "pipeline.github.base_ref": "development",
     "pipeline.github.event_name": "pull_request",
     "pipeline.github.head_ref": "try-C-hyperparameter",
     "pipeline.github.job": "run-tests-pipeline-and-persist-pipeline-outputs",
     "pipeline.github.ref": "refs/pull/55/merge",
     "pipeline.github.ref_name": "55/merge",
     "pipeline.github.ref_type": "branch",
     "pipeline.github.repository": "pynb-dag-runner/mnist-digits-demo-pipeline",
     "pipeline.github.run_id": "2630104459",
     "pipeline.github.runner_name": "GitHub Actions 2",
     "pipeline.github.sha": "1c817c9dee14ac98f14dda197d89dc60a81cf438",
     "pipeline.github.workflow": "Run automated tests, pipeline and deploy results to static reporting site",
     "pipeline.pipeline_run_id": "6c33327a-27e1-404a-81a7-ffd008d84d60",
     "pipeline.run_environment": "ci",
     "run.retry_nr": "10",
     "task.max_nr_retries": "15",
     "task.notebook": "notebooks/ingest.py",
     "task.num_cpus": 1,
     "task.timeout_s": "10"
    }
   },
   "start_time": "2022-07-07T14:13:20.687245",
   "version": "2.3.3"
  }
 },
 "nbformat": 4,
 "nbformat_minor": 5
}