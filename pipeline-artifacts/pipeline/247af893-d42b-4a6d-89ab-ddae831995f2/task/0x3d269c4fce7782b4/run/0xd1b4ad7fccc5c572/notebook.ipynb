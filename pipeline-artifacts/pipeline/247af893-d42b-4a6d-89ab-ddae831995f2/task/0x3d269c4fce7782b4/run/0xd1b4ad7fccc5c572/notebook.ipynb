{
 "cells": [
  {
   "cell_type": "markdown",
   "id": "f90ab840",
   "metadata": {
    "papermill": {
     "duration": 0.005337,
     "end_time": "2022-07-16T06:47:02.486241",
     "exception": false,
     "start_time": "2022-07-16T06:47:02.480904",
     "status": "completed"
    },
    "tags": []
   },
   "source": [
    "# Train model\n",
    "\n",
    "The purpose of this notebook is:\n",
    "\n",
    "- Load all training data (images and labels).\n",
    "- Limit number of train images to `task.nr_train_images` (value provided as run parameter).\n",
    "- Train a support vector machine model using sklearn.\n",
    "- Persist the trained model using the ONNX format."
   ]
  },
  {
   "cell_type": "markdown",
   "id": "d1492ffa",
   "metadata": {
    "papermill": {
     "duration": 0.003444,
     "end_time": "2022-07-16T06:47:02.493869",
     "exception": false,
     "start_time": "2022-07-16T06:47:02.490425",
     "status": "completed"
    },
    "tags": []
   },
   "source": [
    "### Determine run parameters"
   ]
  },
  {
   "cell_type": "code",
   "execution_count": 1,
   "id": "7f55391e",
   "metadata": {
    "execution": {
     "iopub.execute_input": "2022-07-16T06:47:02.502428Z",
     "iopub.status.busy": "2022-07-16T06:47:02.501858Z",
     "iopub.status.idle": "2022-07-16T06:47:02.515182Z",
     "shell.execute_reply": "2022-07-16T06:47:02.514353Z"
    },
    "lines_to_next_cell": 0,
    "papermill": {
     "duration": 0.021134,
     "end_time": "2022-07-16T06:47:02.518120",
     "exception": false,
     "start_time": "2022-07-16T06:47:02.496986",
     "status": "completed"
    },
    "tags": []
   },
   "outputs": [],
   "source": [
    "# ----------------- Parameters for interactive development --------------\n",
    "P = {\n",
    "    \"pipeline.data_lake_root\": \"/pipeline-outputs/data-lake\",\n",
    "    \"task.nr_train_images\": 600,\n",
    "}"
   ]
  },
  {
   "cell_type": "code",
   "execution_count": 2,
   "id": "fd0668c8",
   "metadata": {
    "execution": {
     "iopub.execute_input": "2022-07-16T06:47:02.528361Z",
     "iopub.status.busy": "2022-07-16T06:47:02.528045Z",
     "iopub.status.idle": "2022-07-16T06:47:02.534603Z",
     "shell.execute_reply": "2022-07-16T06:47:02.533809Z"
    },
    "lines_to_next_cell": 0,
    "papermill": {
     "duration": 0.015134,
     "end_time": "2022-07-16T06:47:02.537587",
     "exception": false,
     "start_time": "2022-07-16T06:47:02.522453",
     "status": "completed"
    },
    "tags": [
     "parameters"
    ]
   },
   "outputs": [],
   "source": [
    "# - During automated runs parameters will be injected in the below cell -"
   ]
  },
  {
   "cell_type": "code",
   "execution_count": 3,
   "id": "5e514780",
   "metadata": {
    "execution": {
     "iopub.execute_input": "2022-07-16T06:47:02.546048Z",
     "iopub.status.busy": "2022-07-16T06:47:02.545792Z",
     "iopub.status.idle": "2022-07-16T06:47:02.550789Z",
     "shell.execute_reply": "2022-07-16T06:47:02.550181Z"
    },
    "papermill": {
     "duration": 0.013002,
     "end_time": "2022-07-16T06:47:02.553774",
     "exception": false,
     "start_time": "2022-07-16T06:47:02.540772",
     "status": "completed"
    },
    "tags": [
     "injected-parameters"
    ]
   },
   "outputs": [],
   "source": [
    "# Parameters\n",
    "P = {\n",
    "    \"pipeline.data_lake_root\": \"/pipeline-outputs/data-lake\",\n",
    "    \"pipeline.run_environment\": \"ci\",\n",
    "    \"pipeline.pipeline_run_id\": \"247af893-d42b-4a6d-89ab-ddae831995f2\",\n",
    "    \"pipeline.github.repository\": \"pynb-dag-runner/mnist-digits-demo-pipeline\",\n",
    "    \"pipeline.github.workflow\": \"Run automated tests, pipeline and deploy results to static reporting site\",\n",
    "    \"pipeline.github.runner_name\": \"Hosted Agent\",\n",
    "    \"pipeline.github.run_id\": \"2680962793\",\n",
    "    \"pipeline.github.actor\": \"matiasdahl\",\n",
    "    \"pipeline.github.job\": \"run-tests-pipeline-and-persist-pipeline-outputs\",\n",
    "    \"pipeline.github.base_ref\": \"\",\n",
    "    \"pipeline.github.head_ref\": \"\",\n",
    "    \"pipeline.github.sha\": \"147a1be9916173fd4d2cd011d8d51e3411215850\",\n",
    "    \"pipeline.github.ref\": \"refs/heads/development\",\n",
    "    \"pipeline.github.ref_type\": \"branch\",\n",
    "    \"pipeline.github.ref_name\": \"development\",\n",
    "    \"pipeline.github.event_name\": \"schedule\",\n",
    "    \"task.nr_train_images\": 1000,\n",
    "    \"task.notebook\": \"notebooks/train-model.py\",\n",
    "    \"task.max_nr_retries\": \"1\",\n",
    "    \"run.retry_nr\": \"0\",\n",
    "    \"task.timeout_s\": \"None\",\n",
    "    \"task.num_cpus\": 1,\n",
    "    \"_opentelemetry_traceparent\": \"00-6f8471823b5f6a3b870911db23186f45-ff226e37e424daa6-01\",\n",
    "}\n"
   ]
  },
  {
   "cell_type": "code",
   "execution_count": 4,
   "id": "386c3114",
   "metadata": {
    "execution": {
     "iopub.execute_input": "2022-07-16T06:47:02.561717Z",
     "iopub.status.busy": "2022-07-16T06:47:02.561468Z",
     "iopub.status.idle": "2022-07-16T06:47:02.564815Z",
     "shell.execute_reply": "2022-07-16T06:47:02.563877Z"
    },
    "lines_to_next_cell": 0,
    "papermill": {
     "duration": 0.01036,
     "end_time": "2022-07-16T06:47:02.567786",
     "exception": false,
     "start_time": "2022-07-16T06:47:02.557426",
     "status": "completed"
    },
    "tags": []
   },
   "outputs": [],
   "source": [
    "# -----------------------------------------------------------------------"
   ]
  },
  {
   "cell_type": "markdown",
   "id": "eb47e122",
   "metadata": {
    "papermill": {
     "duration": 0.003992,
     "end_time": "2022-07-16T06:47:02.574942",
     "exception": false,
     "start_time": "2022-07-16T06:47:02.570950",
     "status": "completed"
    },
    "tags": []
   },
   "source": [
    "---"
   ]
  },
  {
   "cell_type": "markdown",
   "id": "c208cc2a",
   "metadata": {
    "lines_to_next_cell": 2,
    "papermill": {
     "duration": 0.004035,
     "end_time": "2022-07-16T06:47:02.582464",
     "exception": false,
     "start_time": "2022-07-16T06:47:02.578429",
     "status": "completed"
    },
    "tags": []
   },
   "source": [
    "### Notebook code"
   ]
  },
  {
   "cell_type": "code",
   "execution_count": 5,
   "id": "5c7cde15",
   "metadata": {
    "execution": {
     "iopub.execute_input": "2022-07-16T06:47:02.592377Z",
     "iopub.status.busy": "2022-07-16T06:47:02.591883Z",
     "iopub.status.idle": "2022-07-16T06:47:03.186434Z",
     "shell.execute_reply": "2022-07-16T06:47:03.185551Z"
    },
    "papermill": {
     "duration": 0.601753,
     "end_time": "2022-07-16T06:47:03.189049",
     "exception": false,
     "start_time": "2022-07-16T06:47:02.587296",
     "status": "completed"
    },
    "tags": []
   },
   "outputs": [
    {
     "name": "stderr",
     "output_type": "stream",
     "text": [
      "2022-07-16 06:47:02,995\tINFO worker.py:842 -- Connecting to existing Ray cluster at address: 172.17.0.2:6379\n"
     ]
    }
   ],
   "source": [
    "from pynb_dag_runner.tasks.task_opentelemetry_logging import PydarLogger\n",
    "\n",
    "logger = PydarLogger(P)"
   ]
  },
  {
   "cell_type": "markdown",
   "id": "2bd2f8e5",
   "metadata": {
    "papermill": {
     "duration": 0.004641,
     "end_time": "2022-07-16T06:47:03.198337",
     "exception": false,
     "start_time": "2022-07-16T06:47:03.193696",
     "status": "completed"
    },
    "tags": []
   },
   "source": [
    "## Load and limit train data"
   ]
  },
  {
   "cell_type": "code",
   "execution_count": 6,
   "id": "b2998b10",
   "metadata": {
    "execution": {
     "iopub.execute_input": "2022-07-16T06:47:03.217347Z",
     "iopub.status.busy": "2022-07-16T06:47:03.216793Z",
     "iopub.status.idle": "2022-07-16T06:47:03.745193Z",
     "shell.execute_reply": "2022-07-16T06:47:03.744346Z"
    },
    "papermill": {
     "duration": 0.537913,
     "end_time": "2022-07-16T06:47:03.747620",
     "exception": false,
     "start_time": "2022-07-16T06:47:03.209707",
     "status": "completed"
    },
    "tags": []
   },
   "outputs": [],
   "source": [
    "def load_and_limit_train_data(P):\n",
    "    from common.io import datalake_root, read_numpy\n",
    "    from sklearn.model_selection import train_test_split\n",
    "\n",
    "    X_train_all = read_numpy(datalake_root(P) / \"train-data\" / \"digits.numpy\")\n",
    "    y_train_all = read_numpy(datalake_root(P) / \"train-data\" / \"labels.numpy\")\n",
    "\n",
    "    assert isinstance(P[\"task.nr_train_images\"], int)\n",
    "\n",
    "    # Note: train_test_split will fail if split is 0 or 100%.\n",
    "    assert 0 < P[\"task.nr_train_images\"] < len(y_train_all)\n",
    "\n",
    "    X_train, _, y_train, _ = train_test_split(\n",
    "        X_train_all,\n",
    "        y_train_all,\n",
    "        train_size=P[\"task.nr_train_images\"],\n",
    "        test_size=None,\n",
    "        stratify=y_train_all,\n",
    "        shuffle=True,\n",
    "        random_state=123,\n",
    "    )\n",
    "\n",
    "    assert X_train.shape == (len(y_train), 8 * 8)\n",
    "    return X_train, y_train\n",
    "\n",
    "\n",
    "X_train, y_train = load_and_limit_train_data(P)"
   ]
  },
  {
   "cell_type": "markdown",
   "id": "348f5ebe",
   "metadata": {
    "papermill": {
     "duration": 0.004869,
     "end_time": "2022-07-16T06:47:03.759639",
     "exception": false,
     "start_time": "2022-07-16T06:47:03.754770",
     "status": "completed"
    },
    "tags": []
   },
   "source": [
    "## Train support vector classifier model\n",
    "\n",
    "Below we assume that the hyperparameter $C$ is known.\n",
    "\n",
    "However, this should ideally be found by a hyperparameter search. That could be\n",
    "done in parallel on the Ray cluster, but this needs some more work. Ie., to use\n",
    "multiple cores in the notebook, those cores should be reserved when starting the\n",
    "notebook task (TODO).\n",
    "\n",
    "- https://docs.ray.io/en/latest/tune/key-concepts.html\n",
    "\n",
    "Note: cv-scores would need to be computed here, since they depend on the train data.\n",
    "After this notebook only the onnx-model is available."
   ]
  },
  {
   "cell_type": "code",
   "execution_count": 7,
   "id": "d9ec110f",
   "metadata": {
    "execution": {
     "iopub.execute_input": "2022-07-16T06:47:03.769270Z",
     "iopub.status.busy": "2022-07-16T06:47:03.768527Z",
     "iopub.status.idle": "2022-07-16T06:47:03.797972Z",
     "shell.execute_reply": "2022-07-16T06:47:03.796863Z"
    },
    "papermill": {
     "duration": 0.036957,
     "end_time": "2022-07-16T06:47:03.800111",
     "exception": false,
     "start_time": "2022-07-16T06:47:03.763154",
     "status": "completed"
    },
    "tags": []
   },
   "outputs": [],
   "source": [
    "from sklearn.svm import SVC"
   ]
  },
  {
   "cell_type": "code",
   "execution_count": 8,
   "id": "a96aeada",
   "metadata": {
    "execution": {
     "iopub.execute_input": "2022-07-16T06:47:03.810549Z",
     "iopub.status.busy": "2022-07-16T06:47:03.810155Z",
     "iopub.status.idle": "2022-07-16T06:47:04.007937Z",
     "shell.execute_reply": "2022-07-16T06:47:04.007086Z"
    },
    "papermill": {
     "duration": 0.206043,
     "end_time": "2022-07-16T06:47:04.010254",
     "exception": false,
     "start_time": "2022-07-16T06:47:03.804211",
     "status": "completed"
    },
    "tags": []
   },
   "outputs": [
    {
     "data": {
      "text/plain": [
       "SVC(C=0.001, kernel='linear', probability=True)"
      ]
     },
     "execution_count": 8,
     "metadata": {},
     "output_type": "execute_result"
    }
   ],
   "source": [
    "model = SVC(C=0.001, kernel=\"linear\", probability=True)\n",
    "\n",
    "model.fit(X_train, y_train)"
   ]
  },
  {
   "cell_type": "markdown",
   "id": "7e1a90b3",
   "metadata": {
    "papermill": {
     "duration": 0.003987,
     "end_time": "2022-07-16T06:47:04.018639",
     "exception": false,
     "start_time": "2022-07-16T06:47:04.014652",
     "status": "completed"
    },
    "tags": []
   },
   "source": [
    "### Q: Can the labels returned by `predict(..)` be computed from probabilities returned by the `predict_prob`-method?"
   ]
  },
  {
   "cell_type": "code",
   "execution_count": 9,
   "id": "4a3dd2a5",
   "metadata": {
    "execution": {
     "iopub.execute_input": "2022-07-16T06:47:04.034436Z",
     "iopub.status.busy": "2022-07-16T06:47:04.033210Z",
     "iopub.status.idle": "2022-07-16T06:47:04.128799Z",
     "shell.execute_reply": "2022-07-16T06:47:04.128121Z"
    },
    "papermill": {
     "duration": 0.108703,
     "end_time": "2022-07-16T06:47:04.131046",
     "exception": false,
     "start_time": "2022-07-16T06:47:04.022343",
     "status": "completed"
    },
    "tags": []
   },
   "outputs": [
    {
     "name": "stdout",
     "output_type": "stream",
     "text": [
      " - Logging nr_max_prob_neq_label (int) : 1\n"
     ]
    }
   ],
   "source": [
    "import numpy as np\n",
    "\n",
    "y_train_labels = model.predict(X_train)\n",
    "y_train_probabilities = model.predict_proba(X_train)\n",
    "assert y_train_probabilities.shape == (len(y_train), 10)\n",
    "\n",
    "y_train_max_prob_labels = np.argmax(y_train_probabilities, axis=1)\n",
    "assert y_train_labels.shape == y_train_max_prob_labels.shape == y_train.shape\n",
    "\n",
    "# If the predicted labels would coincide with the labels that have\n",
    "# maximum probability, the below number would be zero\n",
    "logger.log_int(\n",
    "    \"nr_max_prob_neq_label\", int(sum(y_train_max_prob_labels != y_train_labels))\n",
    ")"
   ]
  },
  {
   "cell_type": "markdown",
   "id": "b8531e8b",
   "metadata": {
    "papermill": {
     "duration": 0.004104,
     "end_time": "2022-07-16T06:47:04.142164",
     "exception": false,
     "start_time": "2022-07-16T06:47:04.138060",
     "status": "completed"
    },
    "tags": []
   },
   "source": [
    "The explanation is (likely) explained in the SVC source, see\n",
    "[here](https://github.com/scikit-learn/scikit-learn/blob/main/sklearn/svm/_base.py).\n",
    "Namely, the outputs from `predict(..)` and `predict_proba(..)` may not in some\n",
    "cases be compatible since the latter is computed using cross-validation while\n",
    "the former is not. Thus, the above number need not be zero."
   ]
  },
  {
   "cell_type": "markdown",
   "id": "5ec6ce90",
   "metadata": {
    "papermill": {
     "duration": 0.003951,
     "end_time": "2022-07-16T06:47:04.149778",
     "exception": false,
     "start_time": "2022-07-16T06:47:04.145827",
     "status": "completed"
    },
    "tags": []
   },
   "source": [
    "## Persist model"
   ]
  },
  {
   "cell_type": "code",
   "execution_count": 10,
   "id": "c10f3e66",
   "metadata": {
    "execution": {
     "iopub.execute_input": "2022-07-16T06:47:04.159792Z",
     "iopub.status.busy": "2022-07-16T06:47:04.159197Z",
     "iopub.status.idle": "2022-07-16T06:47:05.104105Z",
     "shell.execute_reply": "2022-07-16T06:47:05.103390Z"
    },
    "papermill": {
     "duration": 0.952247,
     "end_time": "2022-07-16T06:47:05.106375",
     "exception": false,
     "start_time": "2022-07-16T06:47:04.154128",
     "status": "completed"
    },
    "tags": []
   },
   "outputs": [],
   "source": [
    "from skl2onnx import convert_sklearn\n",
    "from skl2onnx.common.data_types import FloatTensorType\n",
    "\n",
    "#\n",
    "from common.io import datalake_root, write_onnx"
   ]
  },
  {
   "cell_type": "code",
   "execution_count": 11,
   "id": "27589421",
   "metadata": {
    "execution": {
     "iopub.execute_input": "2022-07-16T06:47:05.119218Z",
     "iopub.status.busy": "2022-07-16T06:47:05.118440Z",
     "iopub.status.idle": "2022-07-16T06:47:05.192047Z",
     "shell.execute_reply": "2022-07-16T06:47:05.191222Z"
    },
    "papermill": {
     "duration": 0.081663,
     "end_time": "2022-07-16T06:47:05.194331",
     "exception": false,
     "start_time": "2022-07-16T06:47:05.112668",
     "status": "completed"
    },
    "tags": []
   },
   "outputs": [],
   "source": [
    "# convert sklearn model into onnx and persist to data lake\n",
    "\n",
    "model_onnx = convert_sklearn(\n",
    "    model, initial_types=[(\"float_input_8x8_image\", FloatTensorType([None, 8 * 8]))]\n",
    ")\n",
    "write_onnx(\n",
    "    datalake_root(P)\n",
    "    / \"models\"\n",
    "    / f\"nr_train_images={P['task.nr_train_images']}\"\n",
    "    / \"model.onnx\",\n",
    "    model_onnx,\n",
    ")"
   ]
  },
  {
   "cell_type": "code",
   "execution_count": null,
   "id": "badb2ca6",
   "metadata": {
    "papermill": {
     "duration": 0.00531,
     "end_time": "2022-07-16T06:47:05.203687",
     "exception": false,
     "start_time": "2022-07-16T06:47:05.198377",
     "status": "completed"
    },
    "tags": []
   },
   "outputs": [],
   "source": []
  }
 ],
 "metadata": {
  "jupytext": {
   "cell_metadata_filter": "tags,-all",
   "main_language": "python",
   "notebook_metadata_filter": "-all"
  },
  "language_info": {
   "codemirror_mode": {
    "name": "ipython",
    "version": 3
   },
   "file_extension": ".py",
   "mimetype": "text/x-python",
   "name": "python",
   "nbconvert_exporter": "python",
   "pygments_lexer": "ipython3",
   "version": "3.8.10"
  },
  "papermill": {
   "default_parameters": {},
   "duration": 5.432283,
   "end_time": "2022-07-16T06:47:06.434963",
   "environment_variables": {},
   "exception": null,
   "input_path": "/home/host_user/workspace/mnist-demo-pipeline/mnist-demo-pipeline/notebooks/temp-notebook-w6zpm_ze.ipynb",
   "output_path": "notebooks/train-model.ipynb",
   "parameters": {
    "P": {
     "_opentelemetry_traceparent": "00-6f8471823b5f6a3b870911db23186f45-ff226e37e424daa6-01",
     "pipeline.data_lake_root": "/pipeline-outputs/data-lake",
     "pipeline.github.actor": "matiasdahl",
     "pipeline.github.base_ref": "",
     "pipeline.github.event_name": "schedule",
     "pipeline.github.head_ref": "",
     "pipeline.github.job": "run-tests-pipeline-and-persist-pipeline-outputs",
     "pipeline.github.ref": "refs/heads/development",
     "pipeline.github.ref_name": "development",
     "pipeline.github.ref_type": "branch",
     "pipeline.github.repository": "pynb-dag-runner/mnist-digits-demo-pipeline",
     "pipeline.github.run_id": "2680962793",
     "pipeline.github.runner_name": "Hosted Agent",
     "pipeline.github.sha": "147a1be9916173fd4d2cd011d8d51e3411215850",
     "pipeline.github.workflow": "Run automated tests, pipeline and deploy results to static reporting site",
     "pipeline.pipeline_run_id": "247af893-d42b-4a6d-89ab-ddae831995f2",
     "pipeline.run_environment": "ci",
     "run.retry_nr": "0",
     "task.max_nr_retries": "1",
     "task.notebook": "notebooks/train-model.py",
     "task.nr_train_images": 1000,
     "task.num_cpus": 1,
     "task.timeout_s": "None"
    }
   },
   "start_time": "2022-07-16T06:47:01.002680",
   "version": "2.3.3"
  }
 },
 "nbformat": 4,
 "nbformat_minor": 5
}