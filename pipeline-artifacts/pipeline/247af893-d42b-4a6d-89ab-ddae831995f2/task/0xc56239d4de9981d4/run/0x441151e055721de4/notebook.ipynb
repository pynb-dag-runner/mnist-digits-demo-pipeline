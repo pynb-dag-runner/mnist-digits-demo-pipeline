{
 "cells": [
  {
   "cell_type": "markdown",
   "id": "20b993bd",
   "metadata": {
    "papermill": {
     "duration": 0.027119,
     "end_time": "2022-07-16T06:46:45.217574",
     "exception": false,
     "start_time": "2022-07-16T06:46:45.190455",
     "status": "completed"
    },
    "tags": []
   },
   "source": [
    "# Ingest toy version of MNIST digit data from sklearn"
   ]
  },
  {
   "cell_type": "markdown",
   "id": "7423385a",
   "metadata": {
    "papermill": {
     "duration": 0.003445,
     "end_time": "2022-07-16T06:46:45.224284",
     "exception": false,
     "start_time": "2022-07-16T06:46:45.220839",
     "status": "completed"
    },
    "tags": []
   },
   "source": [
    "### Determine run parameters"
   ]
  },
  {
   "cell_type": "code",
   "execution_count": 1,
   "id": "a76ddc57",
   "metadata": {
    "execution": {
     "iopub.execute_input": "2022-07-16T06:46:45.231952Z",
     "iopub.status.busy": "2022-07-16T06:46:45.231198Z",
     "iopub.status.idle": "2022-07-16T06:46:45.240364Z",
     "shell.execute_reply": "2022-07-16T06:46:45.239538Z"
    },
    "lines_to_next_cell": 0,
    "papermill": {
     "duration": 0.015695,
     "end_time": "2022-07-16T06:46:45.242501",
     "exception": false,
     "start_time": "2022-07-16T06:46:45.226806",
     "status": "completed"
    },
    "tags": []
   },
   "outputs": [],
   "source": [
    "# ----------------- Parameters for interactive development --------------\n",
    "P = {\n",
    "    \"pipeline.run_environment\": \"dev\",\n",
    "    \"pipeline.data_lake_root\": \"/pipeline-outputs/data-lake\",\n",
    "    \"run.retry_nr\": \"1\",\n",
    "}"
   ]
  },
  {
   "cell_type": "code",
   "execution_count": 2,
   "id": "05245cc1",
   "metadata": {
    "execution": {
     "iopub.execute_input": "2022-07-16T06:46:45.249679Z",
     "iopub.status.busy": "2022-07-16T06:46:45.249404Z",
     "iopub.status.idle": "2022-07-16T06:46:45.255388Z",
     "shell.execute_reply": "2022-07-16T06:46:45.251975Z"
    },
    "lines_to_next_cell": 0,
    "papermill": {
     "duration": 0.014287,
     "end_time": "2022-07-16T06:46:45.259464",
     "exception": false,
     "start_time": "2022-07-16T06:46:45.245177",
     "status": "completed"
    },
    "tags": [
     "parameters"
    ]
   },
   "outputs": [],
   "source": [
    "# - During automated runs parameters will be injected in the below cell -"
   ]
  },
  {
   "cell_type": "code",
   "execution_count": 3,
   "id": "5c7e3800",
   "metadata": {
    "execution": {
     "iopub.execute_input": "2022-07-16T06:46:45.266346Z",
     "iopub.status.busy": "2022-07-16T06:46:45.265964Z",
     "iopub.status.idle": "2022-07-16T06:46:45.271419Z",
     "shell.execute_reply": "2022-07-16T06:46:45.270709Z"
    },
    "papermill": {
     "duration": 0.011036,
     "end_time": "2022-07-16T06:46:45.273335",
     "exception": false,
     "start_time": "2022-07-16T06:46:45.262299",
     "status": "completed"
    },
    "tags": [
     "injected-parameters"
    ]
   },
   "outputs": [],
   "source": [
    "# Parameters\n",
    "P = {\n",
    "    \"pipeline.data_lake_root\": \"/pipeline-outputs/data-lake\",\n",
    "    \"pipeline.run_environment\": \"ci\",\n",
    "    \"pipeline.pipeline_run_id\": \"247af893-d42b-4a6d-89ab-ddae831995f2\",\n",
    "    \"pipeline.github.repository\": \"pynb-dag-runner/mnist-digits-demo-pipeline\",\n",
    "    \"pipeline.github.workflow\": \"Run automated tests, pipeline and deploy results to static reporting site\",\n",
    "    \"pipeline.github.runner_name\": \"Hosted Agent\",\n",
    "    \"pipeline.github.run_id\": \"2680962793\",\n",
    "    \"pipeline.github.actor\": \"matiasdahl\",\n",
    "    \"pipeline.github.job\": \"run-tests-pipeline-and-persist-pipeline-outputs\",\n",
    "    \"pipeline.github.base_ref\": \"\",\n",
    "    \"pipeline.github.head_ref\": \"\",\n",
    "    \"pipeline.github.sha\": \"147a1be9916173fd4d2cd011d8d51e3411215850\",\n",
    "    \"pipeline.github.ref\": \"refs/heads/development\",\n",
    "    \"pipeline.github.ref_type\": \"branch\",\n",
    "    \"pipeline.github.ref_name\": \"development\",\n",
    "    \"pipeline.github.event_name\": \"schedule\",\n",
    "    \"task.notebook\": \"notebooks/ingest.py\",\n",
    "    \"task.max_nr_retries\": \"15\",\n",
    "    \"run.retry_nr\": \"10\",\n",
    "    \"task.timeout_s\": \"10\",\n",
    "    \"task.num_cpus\": 1,\n",
    "    \"_opentelemetry_traceparent\": \"00-6f8471823b5f6a3b870911db23186f45-ba3ce76845dfcae4-01\",\n",
    "}\n"
   ]
  },
  {
   "cell_type": "code",
   "execution_count": 4,
   "id": "f8f68dad",
   "metadata": {
    "execution": {
     "iopub.execute_input": "2022-07-16T06:46:45.280324Z",
     "iopub.status.busy": "2022-07-16T06:46:45.279836Z",
     "iopub.status.idle": "2022-07-16T06:46:45.282997Z",
     "shell.execute_reply": "2022-07-16T06:46:45.282443Z"
    },
    "lines_to_next_cell": 0,
    "papermill": {
     "duration": 0.008704,
     "end_time": "2022-07-16T06:46:45.284784",
     "exception": false,
     "start_time": "2022-07-16T06:46:45.276080",
     "status": "completed"
    },
    "tags": []
   },
   "outputs": [],
   "source": [
    "# -----------------------------------------------------------------------"
   ]
  },
  {
   "cell_type": "markdown",
   "id": "c34dc5dc",
   "metadata": {
    "lines_to_next_cell": 2,
    "papermill": {
     "duration": 0.002844,
     "end_time": "2022-07-16T06:46:45.290515",
     "exception": false,
     "start_time": "2022-07-16T06:46:45.287671",
     "status": "completed"
    },
    "tags": []
   },
   "source": [
    "---"
   ]
  },
  {
   "cell_type": "markdown",
   "id": "606879a7",
   "metadata": {
    "papermill": {
     "duration": 0.002636,
     "end_time": "2022-07-16T06:46:45.295933",
     "exception": false,
     "start_time": "2022-07-16T06:46:45.293297",
     "status": "completed"
    },
    "tags": []
   },
   "source": [
    "### Simulate different types of failures (for testing timeout and retry logic)"
   ]
  },
  {
   "cell_type": "code",
   "execution_count": 5,
   "id": "04cbae54",
   "metadata": {
    "execution": {
     "iopub.execute_input": "2022-07-16T06:46:45.303468Z",
     "iopub.status.busy": "2022-07-16T06:46:45.303164Z",
     "iopub.status.idle": "2022-07-16T06:46:45.808198Z",
     "shell.execute_reply": "2022-07-16T06:46:45.807092Z"
    },
    "papermill": {
     "duration": 0.511585,
     "end_time": "2022-07-16T06:46:45.810481",
     "exception": false,
     "start_time": "2022-07-16T06:46:45.298896",
     "status": "completed"
    },
    "tags": []
   },
   "outputs": [
    {
     "name": "stderr",
     "output_type": "stream",
     "text": [
      "2022-07-16 06:46:45,650\tINFO worker.py:842 -- Connecting to existing Ray cluster at address: 172.17.0.2:6379\n"
     ]
    }
   ],
   "source": [
    "from pynb_dag_runner.tasks.task_opentelemetry_logging import PydarLogger\n",
    "\n",
    "logger = PydarLogger(P)"
   ]
  },
  {
   "cell_type": "code",
   "execution_count": 6,
   "id": "78a7fe89",
   "metadata": {
    "execution": {
     "iopub.execute_input": "2022-07-16T06:46:45.820565Z",
     "iopub.status.busy": "2022-07-16T06:46:45.819726Z",
     "iopub.status.idle": "2022-07-16T06:46:45.827563Z",
     "shell.execute_reply": "2022-07-16T06:46:45.826743Z"
    },
    "papermill": {
     "duration": 0.015383,
     "end_time": "2022-07-16T06:46:45.829491",
     "exception": false,
     "start_time": "2022-07-16T06:46:45.814108",
     "status": "completed"
    },
    "tags": []
   },
   "outputs": [],
   "source": [
    "import time, random\n",
    "\n",
    "\n",
    "def maybe_crash(retry_nr: int, run_environment: str):\n",
    "    if retry_nr == 2 and run_environment == \"ci\":\n",
    "        time.sleep(1e6)\n",
    "\n",
    "    max_retry_nr: int = 3 if run_environment == \"dev\" else 10\n",
    "\n",
    "    if retry_nr < max_retry_nr:\n",
    "        if random.random() < 0.1:\n",
    "            time.sleep(1e6)\n",
    "        else:\n",
    "            raise Exception(\"Simulated exception failure from ingestion step notebook!\")\n",
    "\n",
    "\n",
    "maybe_crash(\n",
    "    retry_nr=int(P[\"run.retry_nr\"]), run_environment=P[\"pipeline.run_environment\"]\n",
    ")"
   ]
  },
  {
   "cell_type": "markdown",
   "id": "502875d7",
   "metadata": {
    "lines_to_next_cell": 2,
    "papermill": {
     "duration": 0.003897,
     "end_time": "2022-07-16T06:46:45.836290",
     "exception": false,
     "start_time": "2022-07-16T06:46:45.832393",
     "status": "completed"
    },
    "tags": []
   },
   "source": [
    "### Notebook code"
   ]
  },
  {
   "cell_type": "code",
   "execution_count": 7,
   "id": "3c0fc253",
   "metadata": {
    "execution": {
     "iopub.execute_input": "2022-07-16T06:46:45.844773Z",
     "iopub.status.busy": "2022-07-16T06:46:45.844336Z",
     "iopub.status.idle": "2022-07-16T06:46:47.396582Z",
     "shell.execute_reply": "2022-07-16T06:46:47.395305Z"
    },
    "papermill": {
     "duration": 1.559972,
     "end_time": "2022-07-16T06:46:47.399318",
     "exception": false,
     "start_time": "2022-07-16T06:46:45.839346",
     "status": "completed"
    },
    "tags": []
   },
   "outputs": [],
   "source": [
    "from sklearn import datasets\n",
    "\n",
    "#\n",
    "from common.io import datalake_root, write_numpy"
   ]
  },
  {
   "cell_type": "code",
   "execution_count": 8,
   "id": "e4f7ed39",
   "metadata": {
    "execution": {
     "iopub.execute_input": "2022-07-16T06:46:47.409682Z",
     "iopub.status.busy": "2022-07-16T06:46:47.409104Z",
     "iopub.status.idle": "2022-07-16T06:46:47.425913Z",
     "shell.execute_reply": "2022-07-16T06:46:47.425131Z"
    },
    "lines_to_next_cell": 2,
    "papermill": {
     "duration": 0.024895,
     "end_time": "2022-07-16T06:46:47.427859",
     "exception": false,
     "start_time": "2022-07-16T06:46:47.402964",
     "status": "completed"
    },
    "tags": []
   },
   "outputs": [],
   "source": [
    "digits = datasets.load_digits()\n",
    "\n",
    "X = digits[\"data\"]\n",
    "y = digits[\"target\"]"
   ]
  },
  {
   "cell_type": "code",
   "execution_count": 9,
   "id": "659fe4b5",
   "metadata": {
    "execution": {
     "iopub.execute_input": "2022-07-16T06:46:47.435734Z",
     "iopub.status.busy": "2022-07-16T06:46:47.435442Z",
     "iopub.status.idle": "2022-07-16T06:46:47.448923Z",
     "shell.execute_reply": "2022-07-16T06:46:47.447940Z"
    },
    "papermill": {
     "duration": 0.021046,
     "end_time": "2022-07-16T06:46:47.452117",
     "exception": false,
     "start_time": "2022-07-16T06:46:47.431071",
     "status": "completed"
    },
    "tags": []
   },
   "outputs": [
    {
     "name": "stdout",
     "output_type": "stream",
     "text": [
      " - Logging data_shape (json) : [1797, 64]\n",
      " - Logging target_shape (json) : [1797]\n"
     ]
    },
    {
     "data": {
      "text/plain": [
       "((1797, 64), (1797,))"
      ]
     },
     "execution_count": 9,
     "metadata": {},
     "output_type": "execute_result"
    }
   ],
   "source": [
    "logger.log_value(\"data_shape\", list(X.shape))\n",
    "logger.log_value(\"target_shape\", list(y.shape))\n",
    "\n",
    "X.shape, y.shape"
   ]
  },
  {
   "cell_type": "code",
   "execution_count": 10,
   "id": "665351a4",
   "metadata": {
    "execution": {
     "iopub.execute_input": "2022-07-16T06:46:47.461185Z",
     "iopub.status.busy": "2022-07-16T06:46:47.460746Z",
     "iopub.status.idle": "2022-07-16T06:46:47.470912Z",
     "shell.execute_reply": "2022-07-16T06:46:47.470094Z"
    },
    "papermill": {
     "duration": 0.016511,
     "end_time": "2022-07-16T06:46:47.472656",
     "exception": false,
     "start_time": "2022-07-16T06:46:47.456145",
     "status": "completed"
    },
    "tags": []
   },
   "outputs": [],
   "source": [
    "write_numpy(datalake_root(P) / \"raw\" / \"digits.numpy\", X)\n",
    "write_numpy(datalake_root(P) / \"raw\" / \"labels.numpy\", y)"
   ]
  },
  {
   "cell_type": "code",
   "execution_count": null,
   "id": "505b5cae",
   "metadata": {
    "papermill": {
     "duration": 0.003048,
     "end_time": "2022-07-16T06:46:47.479028",
     "exception": false,
     "start_time": "2022-07-16T06:46:47.475980",
     "status": "completed"
    },
    "tags": []
   },
   "outputs": [],
   "source": []
  }
 ],
 "metadata": {
  "jupytext": {
   "cell_metadata_filter": "tags,-all",
   "main_language": "python",
   "notebook_metadata_filter": "-all"
  },
  "language_info": {
   "codemirror_mode": {
    "name": "ipython",
    "version": 3
   },
   "file_extension": ".py",
   "mimetype": "text/x-python",
   "name": "python",
   "nbconvert_exporter": "python",
   "pygments_lexer": "ipython3",
   "version": "3.8.10"
  },
  "papermill": {
   "default_parameters": {},
   "duration": 4.634142,
   "end_time": "2022-07-16T06:46:48.503062",
   "environment_variables": {},
   "exception": null,
   "input_path": "/home/host_user/workspace/mnist-demo-pipeline/mnist-demo-pipeline/notebooks/temp-notebook-drnhbbe5.ipynb",
   "output_path": "notebooks/ingest.ipynb",
   "parameters": {
    "P": {
     "_opentelemetry_traceparent": "00-6f8471823b5f6a3b870911db23186f45-ba3ce76845dfcae4-01",
     "pipeline.data_lake_root": "/pipeline-outputs/data-lake",
     "pipeline.github.actor": "matiasdahl",
     "pipeline.github.base_ref": "",
     "pipeline.github.event_name": "schedule",
     "pipeline.github.head_ref": "",
     "pipeline.github.job": "run-tests-pipeline-and-persist-pipeline-outputs",
     "pipeline.github.ref": "refs/heads/development",
     "pipeline.github.ref_name": "development",
     "pipeline.github.ref_type": "branch",
     "pipeline.github.repository": "pynb-dag-runner/mnist-digits-demo-pipeline",
     "pipeline.github.run_id": "2680962793",
     "pipeline.github.runner_name": "Hosted Agent",
     "pipeline.github.sha": "147a1be9916173fd4d2cd011d8d51e3411215850",
     "pipeline.github.workflow": "Run automated tests, pipeline and deploy results to static reporting site",
     "pipeline.pipeline_run_id": "247af893-d42b-4a6d-89ab-ddae831995f2",
     "pipeline.run_environment": "ci",
     "run.retry_nr": "10",
     "task.max_nr_retries": "15",
     "task.notebook": "notebooks/ingest.py",
     "task.num_cpus": 1,
     "task.timeout_s": "10"
    }
   },
   "start_time": "2022-07-16T06:46:43.868920",
   "version": "2.3.3"
  }
 },
 "nbformat": 4,
 "nbformat_minor": 5
}