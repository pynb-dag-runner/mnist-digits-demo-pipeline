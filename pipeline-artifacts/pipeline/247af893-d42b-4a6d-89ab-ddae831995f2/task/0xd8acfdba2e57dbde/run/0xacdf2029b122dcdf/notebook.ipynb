{
 "cells": [
  {
   "cell_type": "markdown",
   "id": "b11df60d",
   "metadata": {
    "papermill": {
     "duration": 0.021849,
     "end_time": "2022-07-16T06:46:51.633237",
     "exception": false,
     "start_time": "2022-07-16T06:46:51.611388",
     "status": "completed"
    },
    "tags": []
   },
   "source": [
    "# Split digits and labels into separate training and testing data sets"
   ]
  },
  {
   "cell_type": "markdown",
   "id": "65548ece",
   "metadata": {
    "papermill": {
     "duration": 0.003362,
     "end_time": "2022-07-16T06:46:51.640416",
     "exception": false,
     "start_time": "2022-07-16T06:46:51.637054",
     "status": "completed"
    },
    "tags": []
   },
   "source": [
    "### Determine run parameters"
   ]
  },
  {
   "cell_type": "code",
   "execution_count": 1,
   "id": "e5918c8b",
   "metadata": {
    "execution": {
     "iopub.execute_input": "2022-07-16T06:46:51.652026Z",
     "iopub.status.busy": "2022-07-16T06:46:51.651663Z",
     "iopub.status.idle": "2022-07-16T06:46:51.661063Z",
     "shell.execute_reply": "2022-07-16T06:46:51.660321Z"
    },
    "lines_to_next_cell": 0,
    "papermill": {
     "duration": 0.022561,
     "end_time": "2022-07-16T06:46:51.665570",
     "exception": false,
     "start_time": "2022-07-16T06:46:51.643009",
     "status": "completed"
    },
    "tags": []
   },
   "outputs": [],
   "source": [
    "# ----------------- Parameters for interactive development --------------\n",
    "P = {\n",
    "    \"pipeline.data_lake_root\": \"/pipeline-outputs/data-lake\",\n",
    "    \"task.train_test_ratio\": 0.7,\n",
    "}"
   ]
  },
  {
   "cell_type": "code",
   "execution_count": 2,
   "id": "85ab97b4",
   "metadata": {
    "execution": {
     "iopub.execute_input": "2022-07-16T06:46:51.676663Z",
     "iopub.status.busy": "2022-07-16T06:46:51.675805Z",
     "iopub.status.idle": "2022-07-16T06:46:51.679631Z",
     "shell.execute_reply": "2022-07-16T06:46:51.679003Z"
    },
    "lines_to_next_cell": 0,
    "papermill": {
     "duration": 0.019171,
     "end_time": "2022-07-16T06:46:51.689109",
     "exception": false,
     "start_time": "2022-07-16T06:46:51.669938",
     "status": "completed"
    },
    "tags": [
     "parameters"
    ]
   },
   "outputs": [],
   "source": [
    "# - During automated runs parameters will be injected in the below cell -"
   ]
  },
  {
   "cell_type": "code",
   "execution_count": 3,
   "id": "e04fd775",
   "metadata": {
    "execution": {
     "iopub.execute_input": "2022-07-16T06:46:51.698117Z",
     "iopub.status.busy": "2022-07-16T06:46:51.697675Z",
     "iopub.status.idle": "2022-07-16T06:46:51.704157Z",
     "shell.execute_reply": "2022-07-16T06:46:51.703327Z"
    },
    "papermill": {
     "duration": 0.015903,
     "end_time": "2022-07-16T06:46:51.707798",
     "exception": false,
     "start_time": "2022-07-16T06:46:51.691895",
     "status": "completed"
    },
    "tags": [
     "injected-parameters"
    ]
   },
   "outputs": [],
   "source": [
    "# Parameters\n",
    "P = {\n",
    "    \"pipeline.data_lake_root\": \"/pipeline-outputs/data-lake\",\n",
    "    \"pipeline.run_environment\": \"ci\",\n",
    "    \"pipeline.pipeline_run_id\": \"247af893-d42b-4a6d-89ab-ddae831995f2\",\n",
    "    \"pipeline.github.repository\": \"pynb-dag-runner/mnist-digits-demo-pipeline\",\n",
    "    \"pipeline.github.workflow\": \"Run automated tests, pipeline and deploy results to static reporting site\",\n",
    "    \"pipeline.github.runner_name\": \"Hosted Agent\",\n",
    "    \"pipeline.github.run_id\": \"2680962793\",\n",
    "    \"pipeline.github.actor\": \"matiasdahl\",\n",
    "    \"pipeline.github.job\": \"run-tests-pipeline-and-persist-pipeline-outputs\",\n",
    "    \"pipeline.github.base_ref\": \"\",\n",
    "    \"pipeline.github.head_ref\": \"\",\n",
    "    \"pipeline.github.sha\": \"147a1be9916173fd4d2cd011d8d51e3411215850\",\n",
    "    \"pipeline.github.ref\": \"refs/heads/development\",\n",
    "    \"pipeline.github.ref_type\": \"branch\",\n",
    "    \"pipeline.github.ref_name\": \"development\",\n",
    "    \"pipeline.github.event_name\": \"schedule\",\n",
    "    \"task.train_test_ratio\": 0.7,\n",
    "    \"task.notebook\": \"notebooks/split-train-test.py\",\n",
    "    \"task.max_nr_retries\": \"1\",\n",
    "    \"run.retry_nr\": \"0\",\n",
    "    \"task.timeout_s\": \"None\",\n",
    "    \"task.num_cpus\": 1,\n",
    "    \"_opentelemetry_traceparent\": \"00-6f8471823b5f6a3b870911db23186f45-35aaf587f5c9e0c9-01\",\n",
    "}\n"
   ]
  },
  {
   "cell_type": "code",
   "execution_count": 4,
   "id": "cbe7caec",
   "metadata": {
    "execution": {
     "iopub.execute_input": "2022-07-16T06:46:51.715370Z",
     "iopub.status.busy": "2022-07-16T06:46:51.715123Z",
     "iopub.status.idle": "2022-07-16T06:46:51.718526Z",
     "shell.execute_reply": "2022-07-16T06:46:51.717930Z"
    },
    "lines_to_next_cell": 0,
    "papermill": {
     "duration": 0.010421,
     "end_time": "2022-07-16T06:46:51.721793",
     "exception": false,
     "start_time": "2022-07-16T06:46:51.711372",
     "status": "completed"
    },
    "tags": []
   },
   "outputs": [],
   "source": [
    "# -----------------------------------------------------------------------"
   ]
  },
  {
   "cell_type": "markdown",
   "id": "288d8de3",
   "metadata": {
    "papermill": {
     "duration": 0.006433,
     "end_time": "2022-07-16T06:46:51.731384",
     "exception": false,
     "start_time": "2022-07-16T06:46:51.724951",
     "status": "completed"
    },
    "tags": []
   },
   "source": [
    "---"
   ]
  },
  {
   "cell_type": "markdown",
   "id": "91570e51",
   "metadata": {
    "lines_to_next_cell": 2,
    "papermill": {
     "duration": 0.002672,
     "end_time": "2022-07-16T06:46:51.737663",
     "exception": false,
     "start_time": "2022-07-16T06:46:51.734991",
     "status": "completed"
    },
    "tags": []
   },
   "source": [
    "### Notebook code"
   ]
  },
  {
   "cell_type": "code",
   "execution_count": 5,
   "id": "fa436027",
   "metadata": {
    "execution": {
     "iopub.execute_input": "2022-07-16T06:46:51.745700Z",
     "iopub.status.busy": "2022-07-16T06:46:51.745374Z",
     "iopub.status.idle": "2022-07-16T06:46:52.357702Z",
     "shell.execute_reply": "2022-07-16T06:46:52.356892Z"
    },
    "papermill": {
     "duration": 0.619065,
     "end_time": "2022-07-16T06:46:52.360063",
     "exception": false,
     "start_time": "2022-07-16T06:46:51.740998",
     "status": "completed"
    },
    "tags": []
   },
   "outputs": [
    {
     "name": "stderr",
     "output_type": "stream",
     "text": [
      "2022-07-16 06:46:52,171\tINFO worker.py:842 -- Connecting to existing Ray cluster at address: 172.17.0.2:6379\n"
     ]
    }
   ],
   "source": [
    "from common.io import datalake_root, read_numpy, write_numpy\n",
    "from pynb_dag_runner.tasks.task_opentelemetry_logging import PydarLogger\n",
    "\n",
    "logger = PydarLogger(P)"
   ]
  },
  {
   "cell_type": "markdown",
   "id": "89196905",
   "metadata": {
    "papermill": {
     "duration": 0.004008,
     "end_time": "2022-07-16T06:46:52.367121",
     "exception": false,
     "start_time": "2022-07-16T06:46:52.363113",
     "status": "completed"
    },
    "tags": []
   },
   "source": [
    "## Load and split digits data"
   ]
  },
  {
   "cell_type": "code",
   "execution_count": 6,
   "id": "ea17bcd3",
   "metadata": {
    "execution": {
     "iopub.execute_input": "2022-07-16T06:46:52.374416Z",
     "iopub.status.busy": "2022-07-16T06:46:52.374007Z",
     "iopub.status.idle": "2022-07-16T06:46:52.380474Z",
     "shell.execute_reply": "2022-07-16T06:46:52.379809Z"
    },
    "papermill": {
     "duration": 0.013578,
     "end_time": "2022-07-16T06:46:52.383532",
     "exception": false,
     "start_time": "2022-07-16T06:46:52.369954",
     "status": "completed"
    },
    "tags": []
   },
   "outputs": [],
   "source": [
    "X = read_numpy(datalake_root(P) / \"raw\" / \"digits.numpy\")\n",
    "y = read_numpy(datalake_root(P) / \"raw\" / \"labels.numpy\")"
   ]
  },
  {
   "cell_type": "code",
   "execution_count": 7,
   "id": "359000f2",
   "metadata": {
    "execution": {
     "iopub.execute_input": "2022-07-16T06:46:52.391403Z",
     "iopub.status.busy": "2022-07-16T06:46:52.391107Z",
     "iopub.status.idle": "2022-07-16T06:46:52.907604Z",
     "shell.execute_reply": "2022-07-16T06:46:52.906854Z"
    },
    "papermill": {
     "duration": 0.52341,
     "end_time": "2022-07-16T06:46:52.910394",
     "exception": false,
     "start_time": "2022-07-16T06:46:52.386984",
     "status": "completed"
    },
    "tags": []
   },
   "outputs": [],
   "source": [
    "from sklearn.model_selection import train_test_split\n",
    "\n",
    "X_train, X_test, y_train, y_test = train_test_split(\n",
    "    X,\n",
    "    y,\n",
    "    train_size=P[\"task.train_test_ratio\"],\n",
    "    test_size=None,\n",
    "    stratify=y,\n",
    "    shuffle=True,\n",
    "    random_state=1,\n",
    ")\n",
    "\n",
    "# assert nr of pixels per image is the same for all image vectors\n",
    "assert X.shape[1] == X_train.shape[1] == X_test.shape[1]\n",
    "\n",
    "# assert that the (X, y)-pairs have compatible sizes (for both train and test)\n",
    "assert X_train.shape[0] == len(y_train)\n",
    "assert X_test.shape[0] == len(y_test)\n",
    "\n",
    "# assert that all data is used\n",
    "assert len(y) == len(y_train) + len(y_test)"
   ]
  },
  {
   "cell_type": "code",
   "execution_count": 8,
   "id": "047e3c63",
   "metadata": {
    "execution": {
     "iopub.execute_input": "2022-07-16T06:46:52.921787Z",
     "iopub.status.busy": "2022-07-16T06:46:52.921242Z",
     "iopub.status.idle": "2022-07-16T06:46:52.936354Z",
     "shell.execute_reply": "2022-07-16T06:46:52.935550Z"
    },
    "papermill": {
     "duration": 0.02384,
     "end_time": "2022-07-16T06:46:52.938223",
     "exception": false,
     "start_time": "2022-07-16T06:46:52.914383",
     "status": "completed"
    },
    "tags": []
   },
   "outputs": [
    {
     "name": "stdout",
     "output_type": "stream",
     "text": [
      " - Logging nr_digits_train (int) : 1257\n",
      " - Logging nr_digits_test (int) : 540\n"
     ]
    }
   ],
   "source": [
    "logger.log_int(\"nr_digits_train\", len(y_train))\n",
    "logger.log_int(\"nr_digits_test\", len(y_test))"
   ]
  },
  {
   "cell_type": "markdown",
   "id": "ceb1d741",
   "metadata": {
    "papermill": {
     "duration": 0.003502,
     "end_time": "2022-07-16T06:46:52.945373",
     "exception": false,
     "start_time": "2022-07-16T06:46:52.941871",
     "status": "completed"
    },
    "tags": []
   },
   "source": [
    "### Persist training and test data sets to separate files"
   ]
  },
  {
   "cell_type": "code",
   "execution_count": 9,
   "id": "e084215d",
   "metadata": {
    "execution": {
     "iopub.execute_input": "2022-07-16T06:46:52.953072Z",
     "iopub.status.busy": "2022-07-16T06:46:52.952787Z",
     "iopub.status.idle": "2022-07-16T06:46:52.959585Z",
     "shell.execute_reply": "2022-07-16T06:46:52.958942Z"
    },
    "papermill": {
     "duration": 0.014399,
     "end_time": "2022-07-16T06:46:52.962697",
     "exception": false,
     "start_time": "2022-07-16T06:46:52.948298",
     "status": "completed"
    },
    "tags": []
   },
   "outputs": [],
   "source": [
    "write_numpy(datalake_root(P) / \"train-data\" / \"digits.numpy\", X_train)\n",
    "write_numpy(datalake_root(P) / \"train-data\" / \"labels.numpy\", y_train)\n",
    "\n",
    "#\n",
    "write_numpy(datalake_root(P) / \"test-data\" / \"digits.numpy\", X_test)\n",
    "write_numpy(datalake_root(P) / \"test-data\" / \"labels.numpy\", y_test)"
   ]
  },
  {
   "cell_type": "code",
   "execution_count": null,
   "id": "772d00a4",
   "metadata": {
    "papermill": {
     "duration": 0.003444,
     "end_time": "2022-07-16T06:46:52.970152",
     "exception": false,
     "start_time": "2022-07-16T06:46:52.966708",
     "status": "completed"
    },
    "tags": []
   },
   "outputs": [],
   "source": []
  }
 ],
 "metadata": {
  "jupytext": {
   "cell_metadata_filter": "tags,-all",
   "main_language": "python",
   "notebook_metadata_filter": "-all"
  },
  "language_info": {
   "codemirror_mode": {
    "name": "ipython",
    "version": 3
   },
   "file_extension": ".py",
   "mimetype": "text/x-python",
   "name": "python",
   "nbconvert_exporter": "python",
   "pygments_lexer": "ipython3",
   "version": "3.8.10"
  },
  "papermill": {
   "default_parameters": {},
   "duration": 3.940777,
   "end_time": "2022-07-16T06:46:53.995325",
   "environment_variables": {},
   "exception": null,
   "input_path": "/home/host_user/workspace/mnist-demo-pipeline/mnist-demo-pipeline/notebooks/temp-notebook-mqp4neas.ipynb",
   "output_path": "notebooks/split-train-test.ipynb",
   "parameters": {
    "P": {
     "_opentelemetry_traceparent": "00-6f8471823b5f6a3b870911db23186f45-35aaf587f5c9e0c9-01",
     "pipeline.data_lake_root": "/pipeline-outputs/data-lake",
     "pipeline.github.actor": "matiasdahl",
     "pipeline.github.base_ref": "",
     "pipeline.github.event_name": "schedule",
     "pipeline.github.head_ref": "",
     "pipeline.github.job": "run-tests-pipeline-and-persist-pipeline-outputs",
     "pipeline.github.ref": "refs/heads/development",
     "pipeline.github.ref_name": "development",
     "pipeline.github.ref_type": "branch",
     "pipeline.github.repository": "pynb-dag-runner/mnist-digits-demo-pipeline",
     "pipeline.github.run_id": "2680962793",
     "pipeline.github.runner_name": "Hosted Agent",
     "pipeline.github.sha": "147a1be9916173fd4d2cd011d8d51e3411215850",
     "pipeline.github.workflow": "Run automated tests, pipeline and deploy results to static reporting site",
     "pipeline.pipeline_run_id": "247af893-d42b-4a6d-89ab-ddae831995f2",
     "pipeline.run_environment": "ci",
     "run.retry_nr": "0",
     "task.max_nr_retries": "1",
     "task.notebook": "notebooks/split-train-test.py",
     "task.num_cpus": 1,
     "task.timeout_s": "None",
     "task.train_test_ratio": 0.7
    }
   },
   "start_time": "2022-07-16T06:46:50.054548",
   "version": "2.3.3"
  }
 },
 "nbformat": 4,
 "nbformat_minor": 5
}