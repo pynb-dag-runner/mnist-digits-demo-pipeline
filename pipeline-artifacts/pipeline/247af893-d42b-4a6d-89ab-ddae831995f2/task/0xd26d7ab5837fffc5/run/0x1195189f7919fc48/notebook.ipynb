{
 "cells": [
  {
   "cell_type": "markdown",
   "id": "f9c335de",
   "metadata": {
    "papermill": {
     "duration": 0.005541,
     "end_time": "2022-07-16T06:47:04.850524",
     "exception": false,
     "start_time": "2022-07-16T06:47:04.844983",
     "status": "completed"
    },
    "tags": []
   },
   "source": [
    "# Train model\n",
    "\n",
    "The purpose of this notebook is:\n",
    "\n",
    "- Load all training data (images and labels).\n",
    "- Limit number of train images to `task.nr_train_images` (value provided as run parameter).\n",
    "- Train a support vector machine model using sklearn.\n",
    "- Persist the trained model using the ONNX format."
   ]
  },
  {
   "cell_type": "markdown",
   "id": "1809e28e",
   "metadata": {
    "papermill": {
     "duration": 0.003518,
     "end_time": "2022-07-16T06:47:04.858342",
     "exception": false,
     "start_time": "2022-07-16T06:47:04.854824",
     "status": "completed"
    },
    "tags": []
   },
   "source": [
    "### Determine run parameters"
   ]
  },
  {
   "cell_type": "code",
   "execution_count": 1,
   "id": "a8c185fb",
   "metadata": {
    "execution": {
     "iopub.execute_input": "2022-07-16T06:47:04.867016Z",
     "iopub.status.busy": "2022-07-16T06:47:04.866624Z",
     "iopub.status.idle": "2022-07-16T06:47:04.878539Z",
     "shell.execute_reply": "2022-07-16T06:47:04.877583Z"
    },
    "lines_to_next_cell": 0,
    "papermill": {
     "duration": 0.019113,
     "end_time": "2022-07-16T06:47:04.880602",
     "exception": false,
     "start_time": "2022-07-16T06:47:04.861489",
     "status": "completed"
    },
    "tags": []
   },
   "outputs": [],
   "source": [
    "# ----------------- Parameters for interactive development --------------\n",
    "P = {\n",
    "    \"pipeline.data_lake_root\": \"/pipeline-outputs/data-lake\",\n",
    "    \"task.nr_train_images\": 600,\n",
    "}"
   ]
  },
  {
   "cell_type": "code",
   "execution_count": 2,
   "id": "309afdd3",
   "metadata": {
    "execution": {
     "iopub.execute_input": "2022-07-16T06:47:04.888687Z",
     "iopub.status.busy": "2022-07-16T06:47:04.888431Z",
     "iopub.status.idle": "2022-07-16T06:47:04.892271Z",
     "shell.execute_reply": "2022-07-16T06:47:04.891608Z"
    },
    "lines_to_next_cell": 0,
    "papermill": {
     "duration": 0.011229,
     "end_time": "2022-07-16T06:47:04.895732",
     "exception": false,
     "start_time": "2022-07-16T06:47:04.884503",
     "status": "completed"
    },
    "tags": [
     "parameters"
    ]
   },
   "outputs": [],
   "source": [
    "# - During automated runs parameters will be injected in the below cell -"
   ]
  },
  {
   "cell_type": "code",
   "execution_count": 3,
   "id": "a331ff28",
   "metadata": {
    "execution": {
     "iopub.execute_input": "2022-07-16T06:47:04.903433Z",
     "iopub.status.busy": "2022-07-16T06:47:04.903182Z",
     "iopub.status.idle": "2022-07-16T06:47:04.908514Z",
     "shell.execute_reply": "2022-07-16T06:47:04.907938Z"
    },
    "papermill": {
     "duration": 0.014005,
     "end_time": "2022-07-16T06:47:04.912687",
     "exception": false,
     "start_time": "2022-07-16T06:47:04.898682",
     "status": "completed"
    },
    "tags": [
     "injected-parameters"
    ]
   },
   "outputs": [],
   "source": [
    "# Parameters\n",
    "P = {\n",
    "    \"pipeline.data_lake_root\": \"/pipeline-outputs/data-lake\",\n",
    "    \"pipeline.run_environment\": \"ci\",\n",
    "    \"pipeline.pipeline_run_id\": \"247af893-d42b-4a6d-89ab-ddae831995f2\",\n",
    "    \"pipeline.github.repository\": \"pynb-dag-runner/mnist-digits-demo-pipeline\",\n",
    "    \"pipeline.github.workflow\": \"Run automated tests, pipeline and deploy results to static reporting site\",\n",
    "    \"pipeline.github.runner_name\": \"Hosted Agent\",\n",
    "    \"pipeline.github.run_id\": \"2680962793\",\n",
    "    \"pipeline.github.actor\": \"matiasdahl\",\n",
    "    \"pipeline.github.job\": \"run-tests-pipeline-and-persist-pipeline-outputs\",\n",
    "    \"pipeline.github.base_ref\": \"\",\n",
    "    \"pipeline.github.head_ref\": \"\",\n",
    "    \"pipeline.github.sha\": \"147a1be9916173fd4d2cd011d8d51e3411215850\",\n",
    "    \"pipeline.github.ref\": \"refs/heads/development\",\n",
    "    \"pipeline.github.ref_type\": \"branch\",\n",
    "    \"pipeline.github.ref_name\": \"development\",\n",
    "    \"pipeline.github.event_name\": \"schedule\",\n",
    "    \"task.nr_train_images\": 600,\n",
    "    \"task.notebook\": \"notebooks/train-model.py\",\n",
    "    \"task.max_nr_retries\": \"1\",\n",
    "    \"run.retry_nr\": \"0\",\n",
    "    \"task.timeout_s\": \"None\",\n",
    "    \"task.num_cpus\": 1,\n",
    "    \"_opentelemetry_traceparent\": \"00-6f8471823b5f6a3b870911db23186f45-5782ac6d7beca222-01\",\n",
    "}\n"
   ]
  },
  {
   "cell_type": "code",
   "execution_count": 4,
   "id": "09c4cbb0",
   "metadata": {
    "execution": {
     "iopub.execute_input": "2022-07-16T06:47:04.920886Z",
     "iopub.status.busy": "2022-07-16T06:47:04.920647Z",
     "iopub.status.idle": "2022-07-16T06:47:04.924087Z",
     "shell.execute_reply": "2022-07-16T06:47:04.923493Z"
    },
    "lines_to_next_cell": 0,
    "papermill": {
     "duration": 0.010858,
     "end_time": "2022-07-16T06:47:04.927429",
     "exception": false,
     "start_time": "2022-07-16T06:47:04.916571",
     "status": "completed"
    },
    "tags": []
   },
   "outputs": [],
   "source": [
    "# -----------------------------------------------------------------------"
   ]
  },
  {
   "cell_type": "markdown",
   "id": "c07aa31d",
   "metadata": {
    "papermill": {
     "duration": 0.005507,
     "end_time": "2022-07-16T06:47:04.936284",
     "exception": false,
     "start_time": "2022-07-16T06:47:04.930777",
     "status": "completed"
    },
    "tags": []
   },
   "source": [
    "---"
   ]
  },
  {
   "cell_type": "markdown",
   "id": "a120770f",
   "metadata": {
    "lines_to_next_cell": 2,
    "papermill": {
     "duration": 0.00368,
     "end_time": "2022-07-16T06:47:04.943134",
     "exception": false,
     "start_time": "2022-07-16T06:47:04.939454",
     "status": "completed"
    },
    "tags": []
   },
   "source": [
    "### Notebook code"
   ]
  },
  {
   "cell_type": "code",
   "execution_count": 5,
   "id": "0f4f4042",
   "metadata": {
    "execution": {
     "iopub.execute_input": "2022-07-16T06:47:04.951245Z",
     "iopub.status.busy": "2022-07-16T06:47:04.950958Z",
     "iopub.status.idle": "2022-07-16T06:47:05.495321Z",
     "shell.execute_reply": "2022-07-16T06:47:05.492686Z"
    },
    "papermill": {
     "duration": 0.55123,
     "end_time": "2022-07-16T06:47:05.498041",
     "exception": false,
     "start_time": "2022-07-16T06:47:04.946811",
     "status": "completed"
    },
    "tags": []
   },
   "outputs": [
    {
     "name": "stderr",
     "output_type": "stream",
     "text": [
      "2022-07-16 06:47:05,338\tINFO worker.py:842 -- Connecting to existing Ray cluster at address: 172.17.0.2:6379\n"
     ]
    }
   ],
   "source": [
    "from pynb_dag_runner.tasks.task_opentelemetry_logging import PydarLogger\n",
    "\n",
    "logger = PydarLogger(P)"
   ]
  },
  {
   "cell_type": "markdown",
   "id": "478a6198",
   "metadata": {
    "papermill": {
     "duration": 0.004196,
     "end_time": "2022-07-16T06:47:05.506304",
     "exception": false,
     "start_time": "2022-07-16T06:47:05.502108",
     "status": "completed"
    },
    "tags": []
   },
   "source": [
    "## Load and limit train data"
   ]
  },
  {
   "cell_type": "code",
   "execution_count": 6,
   "id": "bcb0d314",
   "metadata": {
    "execution": {
     "iopub.execute_input": "2022-07-16T06:47:05.515595Z",
     "iopub.status.busy": "2022-07-16T06:47:05.515013Z",
     "iopub.status.idle": "2022-07-16T06:47:05.978025Z",
     "shell.execute_reply": "2022-07-16T06:47:05.977291Z"
    },
    "papermill": {
     "duration": 0.470921,
     "end_time": "2022-07-16T06:47:05.980486",
     "exception": false,
     "start_time": "2022-07-16T06:47:05.509565",
     "status": "completed"
    },
    "tags": []
   },
   "outputs": [],
   "source": [
    "def load_and_limit_train_data(P):\n",
    "    from common.io import datalake_root, read_numpy\n",
    "    from sklearn.model_selection import train_test_split\n",
    "\n",
    "    X_train_all = read_numpy(datalake_root(P) / \"train-data\" / \"digits.numpy\")\n",
    "    y_train_all = read_numpy(datalake_root(P) / \"train-data\" / \"labels.numpy\")\n",
    "\n",
    "    assert isinstance(P[\"task.nr_train_images\"], int)\n",
    "\n",
    "    # Note: train_test_split will fail if split is 0 or 100%.\n",
    "    assert 0 < P[\"task.nr_train_images\"] < len(y_train_all)\n",
    "\n",
    "    X_train, _, y_train, _ = train_test_split(\n",
    "        X_train_all,\n",
    "        y_train_all,\n",
    "        train_size=P[\"task.nr_train_images\"],\n",
    "        test_size=None,\n",
    "        stratify=y_train_all,\n",
    "        shuffle=True,\n",
    "        random_state=123,\n",
    "    )\n",
    "\n",
    "    assert X_train.shape == (len(y_train), 8 * 8)\n",
    "    return X_train, y_train\n",
    "\n",
    "\n",
    "X_train, y_train = load_and_limit_train_data(P)"
   ]
  },
  {
   "cell_type": "markdown",
   "id": "23ee679a",
   "metadata": {
    "papermill": {
     "duration": 0.009638,
     "end_time": "2022-07-16T06:47:05.996677",
     "exception": false,
     "start_time": "2022-07-16T06:47:05.987039",
     "status": "completed"
    },
    "tags": []
   },
   "source": [
    "## Train support vector classifier model\n",
    "\n",
    "Below we assume that the hyperparameter $C$ is known.\n",
    "\n",
    "However, this should ideally be found by a hyperparameter search. That could be\n",
    "done in parallel on the Ray cluster, but this needs some more work. Ie., to use\n",
    "multiple cores in the notebook, those cores should be reserved when starting the\n",
    "notebook task (TODO).\n",
    "\n",
    "- https://docs.ray.io/en/latest/tune/key-concepts.html\n",
    "\n",
    "Note: cv-scores would need to be computed here, since they depend on the train data.\n",
    "After this notebook only the onnx-model is available."
   ]
  },
  {
   "cell_type": "code",
   "execution_count": 7,
   "id": "062be371",
   "metadata": {
    "execution": {
     "iopub.execute_input": "2022-07-16T06:47:06.006618Z",
     "iopub.status.busy": "2022-07-16T06:47:06.006277Z",
     "iopub.status.idle": "2022-07-16T06:47:06.035694Z",
     "shell.execute_reply": "2022-07-16T06:47:06.034957Z"
    },
    "papermill": {
     "duration": 0.037771,
     "end_time": "2022-07-16T06:47:06.038261",
     "exception": false,
     "start_time": "2022-07-16T06:47:06.000490",
     "status": "completed"
    },
    "tags": []
   },
   "outputs": [],
   "source": [
    "from sklearn.svm import SVC"
   ]
  },
  {
   "cell_type": "code",
   "execution_count": 8,
   "id": "fcba2e54",
   "metadata": {
    "execution": {
     "iopub.execute_input": "2022-07-16T06:47:06.049132Z",
     "iopub.status.busy": "2022-07-16T06:47:06.048634Z",
     "iopub.status.idle": "2022-07-16T06:47:06.177526Z",
     "shell.execute_reply": "2022-07-16T06:47:06.176795Z"
    },
    "papermill": {
     "duration": 0.136056,
     "end_time": "2022-07-16T06:47:06.179460",
     "exception": false,
     "start_time": "2022-07-16T06:47:06.043404",
     "status": "completed"
    },
    "tags": []
   },
   "outputs": [
    {
     "name": "stdout",
     "output_type": "stream",
     "text": [
      "\u001b[2m\u001b[1m\u001b[36m(scheduler +0s)\u001b[0m Tip: use `ray status` to view detailed cluster status. To disable these messages, set RAY_SCHEDULER_EVENTS=0.\n",
      "\u001b[2m\u001b[1m\u001b[33m(scheduler +0s)\u001b[0m Warning: The following resource request cannot be scheduled right now: {'CPU': 1.0}. This is likely due to all cluster resources being claimed by actors. Consider creating fewer actors or adding more nodes to this Ray cluster.\n"
     ]
    },
    {
     "data": {
      "text/plain": [
       "SVC(C=0.001, kernel='linear', probability=True)"
      ]
     },
     "execution_count": 8,
     "metadata": {},
     "output_type": "execute_result"
    }
   ],
   "source": [
    "model = SVC(C=0.001, kernel=\"linear\", probability=True)\n",
    "\n",
    "model.fit(X_train, y_train)"
   ]
  },
  {
   "cell_type": "markdown",
   "id": "906a7d0c",
   "metadata": {
    "papermill": {
     "duration": 0.003918,
     "end_time": "2022-07-16T06:47:06.187608",
     "exception": false,
     "start_time": "2022-07-16T06:47:06.183690",
     "status": "completed"
    },
    "tags": []
   },
   "source": [
    "### Q: Can the labels returned by `predict(..)` be computed from probabilities returned by the `predict_prob`-method?"
   ]
  },
  {
   "cell_type": "code",
   "execution_count": 9,
   "id": "906e4169",
   "metadata": {
    "execution": {
     "iopub.execute_input": "2022-07-16T06:47:06.197404Z",
     "iopub.status.busy": "2022-07-16T06:47:06.196952Z",
     "iopub.status.idle": "2022-07-16T06:47:06.252392Z",
     "shell.execute_reply": "2022-07-16T06:47:06.251758Z"
    },
    "papermill": {
     "duration": 0.062515,
     "end_time": "2022-07-16T06:47:06.254248",
     "exception": false,
     "start_time": "2022-07-16T06:47:06.191733",
     "status": "completed"
    },
    "tags": []
   },
   "outputs": [
    {
     "name": "stdout",
     "output_type": "stream",
     "text": [
      " - Logging nr_max_prob_neq_label (int) : 2\n"
     ]
    }
   ],
   "source": [
    "import numpy as np\n",
    "\n",
    "y_train_labels = model.predict(X_train)\n",
    "y_train_probabilities = model.predict_proba(X_train)\n",
    "assert y_train_probabilities.shape == (len(y_train), 10)\n",
    "\n",
    "y_train_max_prob_labels = np.argmax(y_train_probabilities, axis=1)\n",
    "assert y_train_labels.shape == y_train_max_prob_labels.shape == y_train.shape\n",
    "\n",
    "# If the predicted labels would coincide with the labels that have\n",
    "# maximum probability, the below number would be zero\n",
    "logger.log_int(\n",
    "    \"nr_max_prob_neq_label\", int(sum(y_train_max_prob_labels != y_train_labels))\n",
    ")"
   ]
  },
  {
   "cell_type": "markdown",
   "id": "bb350083",
   "metadata": {
    "papermill": {
     "duration": 0.004351,
     "end_time": "2022-07-16T06:47:06.262997",
     "exception": false,
     "start_time": "2022-07-16T06:47:06.258646",
     "status": "completed"
    },
    "tags": []
   },
   "source": [
    "The explanation is (likely) explained in the SVC source, see\n",
    "[here](https://github.com/scikit-learn/scikit-learn/blob/main/sklearn/svm/_base.py).\n",
    "Namely, the outputs from `predict(..)` and `predict_proba(..)` may not in some\n",
    "cases be compatible since the latter is computed using cross-validation while\n",
    "the former is not. Thus, the above number need not be zero."
   ]
  },
  {
   "cell_type": "markdown",
   "id": "1bbd4481",
   "metadata": {
    "papermill": {
     "duration": 0.006082,
     "end_time": "2022-07-16T06:47:06.272914",
     "exception": false,
     "start_time": "2022-07-16T06:47:06.266832",
     "status": "completed"
    },
    "tags": []
   },
   "source": [
    "## Persist model"
   ]
  },
  {
   "cell_type": "code",
   "execution_count": 10,
   "id": "135516f3",
   "metadata": {
    "execution": {
     "iopub.execute_input": "2022-07-16T06:47:06.283925Z",
     "iopub.status.busy": "2022-07-16T06:47:06.283055Z",
     "iopub.status.idle": "2022-07-16T06:47:07.215381Z",
     "shell.execute_reply": "2022-07-16T06:47:07.214283Z"
    },
    "papermill": {
     "duration": 0.940516,
     "end_time": "2022-07-16T06:47:07.217697",
     "exception": false,
     "start_time": "2022-07-16T06:47:06.277181",
     "status": "completed"
    },
    "tags": []
   },
   "outputs": [],
   "source": [
    "from skl2onnx import convert_sklearn\n",
    "from skl2onnx.common.data_types import FloatTensorType\n",
    "\n",
    "#\n",
    "from common.io import datalake_root, write_onnx"
   ]
  },
  {
   "cell_type": "code",
   "execution_count": 11,
   "id": "ca77bf7b",
   "metadata": {
    "execution": {
     "iopub.execute_input": "2022-07-16T06:47:07.228350Z",
     "iopub.status.busy": "2022-07-16T06:47:07.227656Z",
     "iopub.status.idle": "2022-07-16T06:47:07.283718Z",
     "shell.execute_reply": "2022-07-16T06:47:07.281118Z"
    },
    "papermill": {
     "duration": 0.064462,
     "end_time": "2022-07-16T06:47:07.286278",
     "exception": false,
     "start_time": "2022-07-16T06:47:07.221816",
     "status": "completed"
    },
    "tags": []
   },
   "outputs": [],
   "source": [
    "# convert sklearn model into onnx and persist to data lake\n",
    "\n",
    "model_onnx = convert_sklearn(\n",
    "    model, initial_types=[(\"float_input_8x8_image\", FloatTensorType([None, 8 * 8]))]\n",
    ")\n",
    "write_onnx(\n",
    "    datalake_root(P)\n",
    "    / \"models\"\n",
    "    / f\"nr_train_images={P['task.nr_train_images']}\"\n",
    "    / \"model.onnx\",\n",
    "    model_onnx,\n",
    ")"
   ]
  },
  {
   "cell_type": "code",
   "execution_count": null,
   "id": "499f216d",
   "metadata": {
    "papermill": {
     "duration": 0.005329,
     "end_time": "2022-07-16T06:47:07.296250",
     "exception": false,
     "start_time": "2022-07-16T06:47:07.290921",
     "status": "completed"
    },
    "tags": []
   },
   "outputs": [],
   "source": []
  }
 ],
 "metadata": {
  "jupytext": {
   "cell_metadata_filter": "tags,-all",
   "main_language": "python",
   "notebook_metadata_filter": "-all"
  },
  "language_info": {
   "codemirror_mode": {
    "name": "ipython",
    "version": 3
   },
   "file_extension": ".py",
   "mimetype": "text/x-python",
   "name": "python",
   "nbconvert_exporter": "python",
   "pygments_lexer": "ipython3",
   "version": "3.8.10"
  },
  "papermill": {
   "default_parameters": {},
   "duration": 5.362829,
   "end_time": "2022-07-16T06:47:08.528950",
   "environment_variables": {},
   "exception": null,
   "input_path": "/home/host_user/workspace/mnist-demo-pipeline/mnist-demo-pipeline/notebooks/temp-notebook-73vip3kn.ipynb",
   "output_path": "notebooks/train-model.ipynb",
   "parameters": {
    "P": {
     "_opentelemetry_traceparent": "00-6f8471823b5f6a3b870911db23186f45-5782ac6d7beca222-01",
     "pipeline.data_lake_root": "/pipeline-outputs/data-lake",
     "pipeline.github.actor": "matiasdahl",
     "pipeline.github.base_ref": "",
     "pipeline.github.event_name": "schedule",
     "pipeline.github.head_ref": "",
     "pipeline.github.job": "run-tests-pipeline-and-persist-pipeline-outputs",
     "pipeline.github.ref": "refs/heads/development",
     "pipeline.github.ref_name": "development",
     "pipeline.github.ref_type": "branch",
     "pipeline.github.repository": "pynb-dag-runner/mnist-digits-demo-pipeline",
     "pipeline.github.run_id": "2680962793",
     "pipeline.github.runner_name": "Hosted Agent",
     "pipeline.github.sha": "147a1be9916173fd4d2cd011d8d51e3411215850",
     "pipeline.github.workflow": "Run automated tests, pipeline and deploy results to static reporting site",
     "pipeline.pipeline_run_id": "247af893-d42b-4a6d-89ab-ddae831995f2",
     "pipeline.run_environment": "ci",
     "run.retry_nr": "0",
     "task.max_nr_retries": "1",
     "task.notebook": "notebooks/train-model.py",
     "task.nr_train_images": 600,
     "task.num_cpus": 1,
     "task.timeout_s": "None"
    }
   },
   "start_time": "2022-07-16T06:47:03.166121",
   "version": "2.3.3"
  }
 },
 "nbformat": 4,
 "nbformat_minor": 5
}