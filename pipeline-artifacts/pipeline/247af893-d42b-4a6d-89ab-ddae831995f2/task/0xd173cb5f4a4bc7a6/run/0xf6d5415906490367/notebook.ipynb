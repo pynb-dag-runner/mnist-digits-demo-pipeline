{
 "cells": [
  {
   "cell_type": "markdown",
   "id": "8d8e1e10",
   "metadata": {
    "papermill": {
     "duration": 0.014384,
     "end_time": "2022-07-16T06:47:17.176900",
     "exception": false,
     "start_time": "2022-07-16T06:47:17.162516",
     "status": "completed"
    },
    "tags": []
   },
   "source": [
    "# Benchmark model\n",
    "\n",
    "The purpose of this notebook is to benchmark persisted onnx-model (trained in the\n",
    "previous step) against evaluation set."
   ]
  },
  {
   "cell_type": "markdown",
   "id": "5232313b",
   "metadata": {
    "papermill": {
     "duration": 0.004394,
     "end_time": "2022-07-16T06:47:17.187666",
     "exception": false,
     "start_time": "2022-07-16T06:47:17.183272",
     "status": "completed"
    },
    "tags": []
   },
   "source": [
    "### Determine run parameters"
   ]
  },
  {
   "cell_type": "code",
   "execution_count": 1,
   "id": "c91d9377",
   "metadata": {
    "execution": {
     "iopub.execute_input": "2022-07-16T06:47:17.208651Z",
     "iopub.status.busy": "2022-07-16T06:47:17.208254Z",
     "iopub.status.idle": "2022-07-16T06:47:17.220566Z",
     "shell.execute_reply": "2022-07-16T06:47:17.219807Z"
    },
    "lines_to_next_cell": 0,
    "papermill": {
     "duration": 0.024644,
     "end_time": "2022-07-16T06:47:17.224555",
     "exception": false,
     "start_time": "2022-07-16T06:47:17.199911",
     "status": "completed"
    },
    "tags": []
   },
   "outputs": [],
   "source": [
    "# ----------------- Parameters for interactive development --------------\n",
    "P = {\n",
    "    \"pipeline.data_lake_root\": \"/pipeline-outputs/data-lake\",\n",
    "    \"task.nr_train_images\": 600,\n",
    "}"
   ]
  },
  {
   "cell_type": "code",
   "execution_count": 2,
   "id": "395fbe4a",
   "metadata": {
    "execution": {
     "iopub.execute_input": "2022-07-16T06:47:17.237412Z",
     "iopub.status.busy": "2022-07-16T06:47:17.237116Z",
     "iopub.status.idle": "2022-07-16T06:47:17.240549Z",
     "shell.execute_reply": "2022-07-16T06:47:17.239900Z"
    },
    "lines_to_next_cell": 0,
    "papermill": {
     "duration": 0.015486,
     "end_time": "2022-07-16T06:47:17.245436",
     "exception": false,
     "start_time": "2022-07-16T06:47:17.229950",
     "status": "completed"
    },
    "tags": [
     "parameters"
    ]
   },
   "outputs": [],
   "source": [
    "# - During automated runs parameters will be injected in the below cell -"
   ]
  },
  {
   "cell_type": "code",
   "execution_count": 3,
   "id": "588815a2",
   "metadata": {
    "execution": {
     "iopub.execute_input": "2022-07-16T06:47:17.257238Z",
     "iopub.status.busy": "2022-07-16T06:47:17.256972Z",
     "iopub.status.idle": "2022-07-16T06:47:17.262421Z",
     "shell.execute_reply": "2022-07-16T06:47:17.261834Z"
    },
    "papermill": {
     "duration": 0.016756,
     "end_time": "2022-07-16T06:47:17.266768",
     "exception": false,
     "start_time": "2022-07-16T06:47:17.250012",
     "status": "completed"
    },
    "tags": [
     "injected-parameters"
    ]
   },
   "outputs": [],
   "source": [
    "# Parameters\n",
    "P = {\n",
    "    \"pipeline.data_lake_root\": \"/pipeline-outputs/data-lake\",\n",
    "    \"pipeline.run_environment\": \"ci\",\n",
    "    \"pipeline.pipeline_run_id\": \"247af893-d42b-4a6d-89ab-ddae831995f2\",\n",
    "    \"pipeline.github.repository\": \"pynb-dag-runner/mnist-digits-demo-pipeline\",\n",
    "    \"pipeline.github.workflow\": \"Run automated tests, pipeline and deploy results to static reporting site\",\n",
    "    \"pipeline.github.runner_name\": \"Hosted Agent\",\n",
    "    \"pipeline.github.run_id\": \"2680962793\",\n",
    "    \"pipeline.github.actor\": \"matiasdahl\",\n",
    "    \"pipeline.github.job\": \"run-tests-pipeline-and-persist-pipeline-outputs\",\n",
    "    \"pipeline.github.base_ref\": \"\",\n",
    "    \"pipeline.github.head_ref\": \"\",\n",
    "    \"pipeline.github.sha\": \"147a1be9916173fd4d2cd011d8d51e3411215850\",\n",
    "    \"pipeline.github.ref\": \"refs/heads/development\",\n",
    "    \"pipeline.github.ref_type\": \"branch\",\n",
    "    \"pipeline.github.ref_name\": \"development\",\n",
    "    \"pipeline.github.event_name\": \"schedule\",\n",
    "    \"task.nr_train_images\": 1000,\n",
    "    \"task.notebook\": \"notebooks/benchmark-model.py\",\n",
    "    \"task.max_nr_retries\": \"1\",\n",
    "    \"run.retry_nr\": \"0\",\n",
    "    \"task.timeout_s\": \"None\",\n",
    "    \"task.num_cpus\": 1,\n",
    "    \"_opentelemetry_traceparent\": \"00-6f8471823b5f6a3b870911db23186f45-09aa5ee7843cb818-01\",\n",
    "}\n"
   ]
  },
  {
   "cell_type": "code",
   "execution_count": 4,
   "id": "64eb2ee2",
   "metadata": {
    "execution": {
     "iopub.execute_input": "2022-07-16T06:47:17.280942Z",
     "iopub.status.busy": "2022-07-16T06:47:17.280635Z",
     "iopub.status.idle": "2022-07-16T06:47:17.285321Z",
     "shell.execute_reply": "2022-07-16T06:47:17.283185Z"
    },
    "lines_to_next_cell": 0,
    "papermill": {
     "duration": 0.01716,
     "end_time": "2022-07-16T06:47:17.288827",
     "exception": false,
     "start_time": "2022-07-16T06:47:17.271667",
     "status": "completed"
    },
    "tags": []
   },
   "outputs": [],
   "source": [
    "# -----------------------------------------------------------------------"
   ]
  },
  {
   "cell_type": "markdown",
   "id": "abe850b8",
   "metadata": {
    "papermill": {
     "duration": 0.012498,
     "end_time": "2022-07-16T06:47:17.308172",
     "exception": false,
     "start_time": "2022-07-16T06:47:17.295674",
     "status": "completed"
    },
    "tags": []
   },
   "source": [
    "---"
   ]
  },
  {
   "cell_type": "markdown",
   "id": "1d704059",
   "metadata": {
    "lines_to_next_cell": 2,
    "papermill": {
     "duration": 0.005962,
     "end_time": "2022-07-16T06:47:17.319165",
     "exception": false,
     "start_time": "2022-07-16T06:47:17.313203",
     "status": "completed"
    },
    "tags": []
   },
   "source": [
    "### Notebook code"
   ]
  },
  {
   "cell_type": "code",
   "execution_count": 5,
   "id": "d3f9a061",
   "metadata": {
    "execution": {
     "iopub.execute_input": "2022-07-16T06:47:17.332089Z",
     "iopub.status.busy": "2022-07-16T06:47:17.331771Z",
     "iopub.status.idle": "2022-07-16T06:47:18.687684Z",
     "shell.execute_reply": "2022-07-16T06:47:18.686764Z"
    },
    "papermill": {
     "duration": 1.36497,
     "end_time": "2022-07-16T06:47:18.690341",
     "exception": false,
     "start_time": "2022-07-16T06:47:17.325371",
     "status": "completed"
    },
    "tags": []
   },
   "outputs": [
    {
     "name": "stderr",
     "output_type": "stream",
     "text": [
      "2022-07-16 06:47:18,503\tINFO worker.py:842 -- Connecting to existing Ray cluster at address: 172.17.0.2:6379\n"
     ]
    }
   ],
   "source": [
    "import itertools as it\n",
    "\n",
    "#\n",
    "import numpy as np\n",
    "import matplotlib.pyplot as plt\n",
    "\n",
    "#\n",
    "from pynb_dag_runner.tasks.task_opentelemetry_logging import PydarLogger\n",
    "\n",
    "#\n",
    "from common.io import datalake_root\n",
    "\n",
    "logger = PydarLogger(P)"
   ]
  },
  {
   "cell_type": "markdown",
   "id": "0081ffab",
   "metadata": {
    "papermill": {
     "duration": 0.005453,
     "end_time": "2022-07-16T06:47:18.702240",
     "exception": false,
     "start_time": "2022-07-16T06:47:18.696787",
     "status": "completed"
    },
    "tags": []
   },
   "source": [
    "## Load persisted onnx-model and evaluation data"
   ]
  },
  {
   "cell_type": "code",
   "execution_count": 6,
   "id": "d15b9246",
   "metadata": {
    "execution": {
     "iopub.execute_input": "2022-07-16T06:47:18.715993Z",
     "iopub.status.busy": "2022-07-16T06:47:18.715546Z",
     "iopub.status.idle": "2022-07-16T06:47:18.720370Z",
     "shell.execute_reply": "2022-07-16T06:47:18.719512Z"
    },
    "papermill": {
     "duration": 0.014306,
     "end_time": "2022-07-16T06:47:18.722995",
     "exception": false,
     "start_time": "2022-07-16T06:47:18.708689",
     "status": "completed"
    },
    "tags": []
   },
   "outputs": [],
   "source": [
    "from common.io import read_onnx, get_onnx_inputs, get_onnx_outputs, read_numpy"
   ]
  },
  {
   "cell_type": "code",
   "execution_count": 7,
   "id": "eefcce50",
   "metadata": {
    "execution": {
     "iopub.execute_input": "2022-07-16T06:47:18.735414Z",
     "iopub.status.busy": "2022-07-16T06:47:18.734884Z",
     "iopub.status.idle": "2022-07-16T06:47:18.749475Z",
     "shell.execute_reply": "2022-07-16T06:47:18.748371Z"
    },
    "lines_to_next_cell": 0,
    "papermill": {
     "duration": 0.029953,
     "end_time": "2022-07-16T06:47:18.758643",
     "exception": false,
     "start_time": "2022-07-16T06:47:18.728690",
     "status": "completed"
    },
    "tags": []
   },
   "outputs": [],
   "source": [
    "onnx_inference_session = read_onnx(\n",
    "    datalake_root(P)\n",
    "    / \"models\"\n",
    "    / f\"nr_train_images={P['task.nr_train_images']}\"\n",
    "    / \"model.onnx\"\n",
    ")"
   ]
  },
  {
   "cell_type": "markdown",
   "id": "216d7129",
   "metadata": {
    "papermill": {
     "duration": 0.00546,
     "end_time": "2022-07-16T06:47:18.771422",
     "exception": false,
     "start_time": "2022-07-16T06:47:18.765962",
     "status": "completed"
    },
    "tags": []
   },
   "source": [
    "### Record structure of inputs and outputs for ONNX model\n",
    "\n",
    "(this should likely be done in training notebook)"
   ]
  },
  {
   "cell_type": "code",
   "execution_count": 8,
   "id": "eb0abee5",
   "metadata": {
    "execution": {
     "iopub.execute_input": "2022-07-16T06:47:18.783691Z",
     "iopub.status.busy": "2022-07-16T06:47:18.783173Z",
     "iopub.status.idle": "2022-07-16T06:47:18.790753Z",
     "shell.execute_reply": "2022-07-16T06:47:18.790034Z"
    },
    "papermill": {
     "duration": 0.016443,
     "end_time": "2022-07-16T06:47:18.793233",
     "exception": false,
     "start_time": "2022-07-16T06:47:18.776790",
     "status": "completed"
    },
    "tags": []
   },
   "outputs": [
    {
     "name": "stdout",
     "output_type": "stream",
     "text": [
      "{\n",
      "  \"inputs\": [\n",
      "    {\n",
      "      \"name\": \"float_input_8x8_image\",\n",
      "      \"shape\": [\n",
      "        null,\n",
      "        64\n",
      "      ],\n",
      "      \"type\": \"tensor(float)\"\n",
      "    }\n",
      "  ],\n",
      "  \"outputs\": [\n",
      "    {\n",
      "      \"name\": \"output_label\",\n",
      "      \"shape\": [\n",
      "        null\n",
      "      ],\n",
      "      \"type\": \"tensor(int64)\"\n",
      "    },\n",
      "    {\n",
      "      \"name\": \"output_probability\",\n",
      "      \"shape\": [],\n",
      "      \"type\": \"seq(map(int64,tensor(float)))\"\n",
      "    }\n",
      "  ]\n",
      "}\n"
     ]
    }
   ],
   "source": [
    "import json\n",
    "\n",
    "onnx_io = json.dumps(\n",
    "    {\n",
    "        \"inputs\": get_onnx_inputs(onnx_inference_session),\n",
    "        \"outputs\": get_onnx_outputs(onnx_inference_session),\n",
    "    },\n",
    "    indent=2,\n",
    ")\n",
    "\n",
    "\n",
    "logger.log_artefact(\"onnx_io_structure.json\", onnx_io)\n",
    "print(onnx_io)"
   ]
  },
  {
   "cell_type": "markdown",
   "id": "8768a6aa",
   "metadata": {
    "papermill": {
     "duration": 0.005268,
     "end_time": "2022-07-16T06:47:18.803916",
     "exception": false,
     "start_time": "2022-07-16T06:47:18.798648",
     "status": "completed"
    },
    "tags": []
   },
   "source": [
    "### Evaluate model performance on evaluation data set"
   ]
  },
  {
   "cell_type": "code",
   "execution_count": 9,
   "id": "0b0b8971",
   "metadata": {
    "execution": {
     "iopub.execute_input": "2022-07-16T06:47:18.815528Z",
     "iopub.status.busy": "2022-07-16T06:47:18.815270Z",
     "iopub.status.idle": "2022-07-16T06:47:18.821666Z",
     "shell.execute_reply": "2022-07-16T06:47:18.820636Z"
    },
    "papermill": {
     "duration": 0.015972,
     "end_time": "2022-07-16T06:47:18.825081",
     "exception": false,
     "start_time": "2022-07-16T06:47:18.809109",
     "status": "completed"
    },
    "tags": []
   },
   "outputs": [],
   "source": [
    "# load evaluation data\n",
    "X_test = read_numpy(datalake_root(P) / \"test-data\" / \"digits.numpy\")\n",
    "y_test = read_numpy(datalake_root(P) / \"test-data\" / \"labels.numpy\")"
   ]
  },
  {
   "cell_type": "code",
   "execution_count": 10,
   "id": "dc61440e",
   "metadata": {
    "execution": {
     "iopub.execute_input": "2022-07-16T06:47:18.837211Z",
     "iopub.status.busy": "2022-07-16T06:47:18.836929Z",
     "iopub.status.idle": "2022-07-16T06:47:18.854080Z",
     "shell.execute_reply": "2022-07-16T06:47:18.853477Z"
    },
    "papermill": {
     "duration": 0.024944,
     "end_time": "2022-07-16T06:47:18.855939",
     "exception": false,
     "start_time": "2022-07-16T06:47:18.830995",
     "status": "completed"
    },
    "tags": []
   },
   "outputs": [],
   "source": [
    "def get_model_outputs(X, onnx_inference_session):\n",
    "    y_pred_labels, y_pred_map = onnx_inference_session.run(\n",
    "        [\"output_label\", \"output_probability\"],\n",
    "        {\"float_input_8x8_image\": X.astype(np.float32)},\n",
    "    )\n",
    "    y_pred_probs = np.array(\n",
    "        [[probabilities[digit] for digit in range(10)] for probabilities in y_pred_map]\n",
    "    )\n",
    "\n",
    "    assert y_pred_labels.shape == (X.shape[0],)\n",
    "    assert y_pred_probs.shape == (X.shape[0], 10)\n",
    "\n",
    "    return y_pred_labels, y_pred_probs\n",
    "\n",
    "\n",
    "# Note: as shown in the training notebook, the predicted labels and probabilities\n",
    "# computed below need not be compatible.\n",
    "y_pred_labels_test, y_pred_probs_test = get_model_outputs(\n",
    "    X_test, onnx_inference_session\n",
    ")"
   ]
  },
  {
   "cell_type": "markdown",
   "id": "d7695036",
   "metadata": {
    "papermill": {
     "duration": 0.005634,
     "end_time": "2022-07-16T06:47:18.867744",
     "exception": false,
     "start_time": "2022-07-16T06:47:18.862110",
     "status": "completed"
    },
    "tags": []
   },
   "source": [
    "### Confusion matrix"
   ]
  },
  {
   "cell_type": "code",
   "execution_count": 11,
   "id": "3bd4604d",
   "metadata": {
    "execution": {
     "iopub.execute_input": "2022-07-16T06:47:18.879944Z",
     "iopub.status.busy": "2022-07-16T06:47:18.879624Z",
     "iopub.status.idle": "2022-07-16T06:47:18.883707Z",
     "shell.execute_reply": "2022-07-16T06:47:18.882754Z"
    },
    "papermill": {
     "duration": 0.012953,
     "end_time": "2022-07-16T06:47:18.886788",
     "exception": false,
     "start_time": "2022-07-16T06:47:18.873835",
     "status": "completed"
    },
    "tags": []
   },
   "outputs": [],
   "source": [
    "# TODO"
   ]
  },
  {
   "cell_type": "markdown",
   "id": "9ec203cb",
   "metadata": {
    "papermill": {
     "duration": 0.005479,
     "end_time": "2022-07-16T06:47:18.897478",
     "exception": false,
     "start_time": "2022-07-16T06:47:18.891999",
     "status": "completed"
    },
    "tags": []
   },
   "source": [
    "### Plot predicted probabilities for each classifier over all evaluation digit images"
   ]
  },
  {
   "cell_type": "code",
   "execution_count": 12,
   "id": "7a73805d",
   "metadata": {
    "execution": {
     "iopub.execute_input": "2022-07-16T06:47:18.909465Z",
     "iopub.status.busy": "2022-07-16T06:47:18.909193Z",
     "iopub.status.idle": "2022-07-16T06:47:22.808474Z",
     "shell.execute_reply": "2022-07-16T06:47:22.807749Z"
    },
    "papermill": {
     "duration": 3.907629,
     "end_time": "2022-07-16T06:47:22.810539",
     "exception": false,
     "start_time": "2022-07-16T06:47:18.902910",
     "status": "completed"
    },
    "tags": []
   },
   "outputs": [
    {
     "data": {
      "image/png": "[encoded data removed]",
      "text/plain": [
       "<Figure size 1152x432 with 10 Axes>"
      ]
     },
     "metadata": {
      "needs_background": "light"
     },
     "output_type": "display_data"
    }
   ],
   "source": [
    "def plot_per_digit_probabilities(y_pred_probs):\n",
    "    fig, axs = plt.subplots(nrows=2, ncols=5, figsize=(16, 6))\n",
    "\n",
    "    for (r, c), digit, ax in zip(\n",
    "        it.product(range(2), range(5)), range(10), axs.reshape(-1)\n",
    "    ):\n",
    "        ax.hist(y_pred_probs_test[:, digit], bins=20)\n",
    "\n",
    "        ax.set_title(f\"Digit {digit}\")\n",
    "        if r == 1 and c == 2:\n",
    "            ax.set_xlabel(\"probability\", fontsize=16)\n",
    "\n",
    "        if c == 0:\n",
    "            ax.set_ylabel(\"counts\", fontsize=16)\n",
    "        ax.set_yscale(\"log\")\n",
    "\n",
    "    fig.tight_layout()\n",
    "    fig.suptitle(\n",
    "        f\"Distributions of prediction probabilities for each digit \"\n",
    "        f\"(on evaluation data, n={y_pred_probs.shape[0]})\",\n",
    "        fontsize=20,\n",
    "    )\n",
    "    fig.tight_layout()\n",
    "    fig.show()\n",
    "\n",
    "    return fig\n",
    "\n",
    "\n",
    "fig = plot_per_digit_probabilities(y_pred_probs_test)"
   ]
  },
  {
   "cell_type": "markdown",
   "id": "b65c75d2",
   "metadata": {
    "papermill": {
     "duration": 0.006537,
     "end_time": "2022-07-16T06:47:22.823182",
     "exception": false,
     "start_time": "2022-07-16T06:47:22.816645",
     "status": "completed"
    },
    "tags": []
   },
   "source": [
    "From the above distributions we see that most digits have clear separation between\n",
    "high and lower probabilities. Morover, in each case there is roughly an order of\n",
    "magnitude more of digits with low probabilities. This is compatible with digits\n",
    "being roughly evenly distributed in the data."
   ]
  },
  {
   "cell_type": "code",
   "execution_count": 13,
   "id": "673131d5",
   "metadata": {
    "execution": {
     "iopub.execute_input": "2022-07-16T06:47:22.836954Z",
     "iopub.status.busy": "2022-07-16T06:47:22.836637Z",
     "iopub.status.idle": "2022-07-16T06:47:23.318670Z",
     "shell.execute_reply": "2022-07-16T06:47:23.317929Z"
    },
    "papermill": {
     "duration": 0.49199,
     "end_time": "2022-07-16T06:47:23.321108",
     "exception": false,
     "start_time": "2022-07-16T06:47:22.829118",
     "status": "completed"
    },
    "tags": []
   },
   "outputs": [],
   "source": [
    "logger.log_figure(\"per-digit-probabilities.png\", fig)"
   ]
  },
  {
   "cell_type": "markdown",
   "id": "19e80121",
   "metadata": {
    "papermill": {
     "duration": 0.005829,
     "end_time": "2022-07-16T06:47:23.333587",
     "exception": false,
     "start_time": "2022-07-16T06:47:23.327758",
     "status": "completed"
    },
    "tags": []
   },
   "source": [
    "### Plot ROC curves for individual one-vs-rest classifiers"
   ]
  },
  {
   "cell_type": "code",
   "execution_count": 14,
   "id": "ca2373be",
   "metadata": {
    "execution": {
     "iopub.execute_input": "2022-07-16T06:47:23.348568Z",
     "iopub.status.busy": "2022-07-16T06:47:23.348231Z",
     "iopub.status.idle": "2022-07-16T06:47:23.839109Z",
     "shell.execute_reply": "2022-07-16T06:47:23.838300Z"
    },
    "papermill": {
     "duration": 0.500759,
     "end_time": "2022-07-16T06:47:23.841596",
     "exception": false,
     "start_time": "2022-07-16T06:47:23.340837",
     "status": "completed"
    },
    "tags": []
   },
   "outputs": [],
   "source": [
    "from sklearn import metrics"
   ]
  },
  {
   "cell_type": "code",
   "execution_count": 15,
   "id": "dcf81233",
   "metadata": {
    "execution": {
     "iopub.execute_input": "2022-07-16T06:47:24.365965Z",
     "iopub.status.busy": "2022-07-16T06:47:24.365602Z",
     "iopub.status.idle": "2022-07-16T06:47:25.684667Z",
     "shell.execute_reply": "2022-07-16T06:47:25.683820Z"
    },
    "papermill": {
     "duration": 1.839642,
     "end_time": "2022-07-16T06:47:25.687336",
     "exception": false,
     "start_time": "2022-07-16T06:47:23.847694",
     "status": "completed"
    },
    "tags": []
   },
   "outputs": [
    {
     "data": {
      "image/png": "[encoded data removed]",
      "text/plain": [
       "<Figure size 1152x576 with 10 Axes>"
      ]
     },
     "metadata": {
      "needs_background": "light"
     },
     "output_type": "display_data"
    }
   ],
   "source": [
    "def plot_roc_curves(y, y_pred_probs):\n",
    "    # based on example code\n",
    "    # https://scikit-learn.org/stable/auto_examples/model_selection/plot_roc.html\n",
    "\n",
    "    fig, axs = plt.subplots(nrows=2, ncols=5, figsize=(16, 8))\n",
    "\n",
    "    roc_auc_dict = {}\n",
    "\n",
    "    for (r, c), digit, ax in zip(\n",
    "        it.product(range(2), range(5)), range(10), axs.reshape(-1)\n",
    "    ):\n",
    "        fpr, tpr, _ = metrics.roc_curve(y == digit, y_pred_probs[:, digit])\n",
    "        auc = metrics.auc(fpr, tpr)\n",
    "        roc_auc_dict[str(digit)] = auc\n",
    "\n",
    "        ax.plot(fpr, tpr, label=f\"ROC AUC={round(auc, 3)}\")\n",
    "\n",
    "        ax.set_title(f\"\\nDigit {digit}\", fontsize=16)\n",
    "        if r == 1:\n",
    "            ax.set_xlabel(\"FPR\", fontsize=18)\n",
    "\n",
    "        if c == 0:\n",
    "            ax.set_ylabel(\"TPR\", fontsize=18)\n",
    "\n",
    "        ax.set_xlim([-0.05, 1.05])\n",
    "        ax.set_ylim([-0.05, 1.05])\n",
    "        ax.legend(loc=\"lower right\", frameon=False, fontsize=14)\n",
    "\n",
    "    fig.tight_layout()\n",
    "    fig.suptitle(\n",
    "        f\"ROC plots for one-vs-rest performances \"\n",
    "        f\"(on evaluation data, n={y_pred_probs_test.shape[1]}\",\n",
    "        fontsize=22,\n",
    "    )\n",
    "    fig.tight_layout()\n",
    "    fig.show()\n",
    "\n",
    "    return roc_auc_dict, fig\n",
    "\n",
    "\n",
    "roc_auc_dict, fig = plot_roc_curves(y_test, y_pred_probs_test)"
   ]
  },
  {
   "cell_type": "code",
   "execution_count": 16,
   "id": "6d79eda1",
   "metadata": {
    "execution": {
     "iopub.execute_input": "2022-07-16T06:47:25.703875Z",
     "iopub.status.busy": "2022-07-16T06:47:25.703529Z",
     "iopub.status.idle": "2022-07-16T06:47:25.998595Z",
     "shell.execute_reply": "2022-07-16T06:47:25.997878Z"
    },
    "papermill": {
     "duration": 0.306544,
     "end_time": "2022-07-16T06:47:26.000722",
     "exception": false,
     "start_time": "2022-07-16T06:47:25.694178",
     "status": "completed"
    },
    "tags": []
   },
   "outputs": [],
   "source": [
    "logger.log_figure(\"per-digit-roc-curves.png\", fig)"
   ]
  },
  {
   "cell_type": "code",
   "execution_count": 17,
   "id": "47b5acd3",
   "metadata": {
    "execution": {
     "iopub.execute_input": "2022-07-16T06:47:26.015889Z",
     "iopub.status.busy": "2022-07-16T06:47:26.015283Z",
     "iopub.status.idle": "2022-07-16T06:47:26.022136Z",
     "shell.execute_reply": "2022-07-16T06:47:26.021178Z"
    },
    "papermill": {
     "duration": 0.017007,
     "end_time": "2022-07-16T06:47:26.024807",
     "exception": false,
     "start_time": "2022-07-16T06:47:26.007800",
     "status": "completed"
    },
    "tags": []
   },
   "outputs": [
    {
     "data": {
      "text/plain": [
       "{'0': 1.0,\n",
       " '1': 0.998912839737582,\n",
       " '2': 1.0,\n",
       " '3': 0.9999250234301781,\n",
       " '4': 0.9996570644718793,\n",
       " '5': 0.9994001874414246,\n",
       " '6': 0.999923792104862,\n",
       " '7': 0.9997713763145862,\n",
       " '8': 0.9947588272383354,\n",
       " '9': 0.9996189605243103}"
      ]
     },
     "execution_count": 17,
     "metadata": {},
     "output_type": "execute_result"
    }
   ],
   "source": [
    "roc_auc_dict"
   ]
  },
  {
   "cell_type": "code",
   "execution_count": 18,
   "id": "ddd0a95a",
   "metadata": {
    "execution": {
     "iopub.execute_input": "2022-07-16T06:47:26.039712Z",
     "iopub.status.busy": "2022-07-16T06:47:26.039251Z",
     "iopub.status.idle": "2022-07-16T06:47:26.044813Z",
     "shell.execute_reply": "2022-07-16T06:47:26.044009Z"
    },
    "papermill": {
     "duration": 0.016612,
     "end_time": "2022-07-16T06:47:26.047973",
     "exception": false,
     "start_time": "2022-07-16T06:47:26.031361",
     "status": "completed"
    },
    "tags": []
   },
   "outputs": [
    {
     "name": "stdout",
     "output_type": "stream",
     "text": [
      " - Logging roc_auc_per_digit (json) : {'0': 1.0, '1': 0.998912839737582, '2': 1.0, '3': 0.9999250234301781, '4': 0.9996570644718793, '5': 0.9994001874414246, '6': 0.999923792104862, '7': 0.9997713763145862, '8': 0.9947588272383354, '9': 0.9996189605243103}\n"
     ]
    }
   ],
   "source": [
    "logger.log_value(\"roc_auc_per_digit\", roc_auc_dict)"
   ]
  },
  {
   "cell_type": "markdown",
   "id": "32389419",
   "metadata": {
    "papermill": {
     "duration": 0.010291,
     "end_time": "2022-07-16T06:47:26.065839",
     "exception": false,
     "start_time": "2022-07-16T06:47:26.055548",
     "status": "completed"
    },
    "tags": []
   },
   "source": [
    "### Compute and log mean ROC AUC score averaged over all digits"
   ]
  },
  {
   "cell_type": "code",
   "execution_count": 19,
   "id": "d88e47b4",
   "metadata": {
    "execution": {
     "iopub.execute_input": "2022-07-16T06:47:26.085672Z",
     "iopub.status.busy": "2022-07-16T06:47:26.085215Z",
     "iopub.status.idle": "2022-07-16T06:47:26.108468Z",
     "shell.execute_reply": "2022-07-16T06:47:26.107334Z"
    },
    "papermill": {
     "duration": 0.036385,
     "end_time": "2022-07-16T06:47:26.110433",
     "exception": false,
     "start_time": "2022-07-16T06:47:26.074048",
     "status": "completed"
    },
    "tags": []
   },
   "outputs": [
    {
     "name": "stdout",
     "output_type": "stream",
     "text": [
      " - Logging roc_auc_class_mean (float) : 0.9991968071263159\n"
     ]
    }
   ],
   "source": [
    "roc_auc_macro = np.mean(list(roc_auc_dict.values()))\n",
    "\n",
    "logger.log_float(\"roc_auc_class_mean\", roc_auc_macro)\n",
    "\n",
    "# assert that the same value can be computed directly using sklearn\n",
    "assert roc_auc_macro == metrics.roc_auc_score(\n",
    "    y_test, y_pred_probs_test, average=\"macro\", multi_class=\"ovr\"\n",
    ")"
   ]
  },
  {
   "cell_type": "code",
   "execution_count": 20,
   "id": "06298d01",
   "metadata": {
    "execution": {
     "iopub.execute_input": "2022-07-16T06:47:26.127816Z",
     "iopub.status.busy": "2022-07-16T06:47:26.127333Z",
     "iopub.status.idle": "2022-07-16T06:47:26.131192Z",
     "shell.execute_reply": "2022-07-16T06:47:26.130229Z"
    },
    "lines_to_next_cell": 0,
    "papermill": {
     "duration": 0.015452,
     "end_time": "2022-07-16T06:47:26.134023",
     "exception": false,
     "start_time": "2022-07-16T06:47:26.118571",
     "status": "completed"
    },
    "tags": []
   },
   "outputs": [],
   "source": [
    "# ---"
   ]
  },
  {
   "cell_type": "code",
   "execution_count": null,
   "id": "90eb8393",
   "metadata": {
    "papermill": {
     "duration": 0.007559,
     "end_time": "2022-07-16T06:47:26.148567",
     "exception": false,
     "start_time": "2022-07-16T06:47:26.141008",
     "status": "completed"
    },
    "tags": []
   },
   "outputs": [],
   "source": []
  }
 ],
 "metadata": {
  "jupytext": {
   "cell_metadata_filter": "tags,-all",
   "main_language": "python",
   "notebook_metadata_filter": "-all"
  },
  "language_info": {
   "codemirror_mode": {
    "name": "ipython",
    "version": 3
   },
   "file_extension": ".py",
   "mimetype": "text/x-python",
   "name": "python",
   "nbconvert_exporter": "python",
   "pygments_lexer": "ipython3",
   "version": "3.8.10"
  },
  "papermill": {
   "default_parameters": {},
   "duration": 11.673047,
   "end_time": "2022-07-16T06:47:27.288622",
   "environment_variables": {},
   "exception": null,
   "input_path": "/home/host_user/workspace/mnist-demo-pipeline/mnist-demo-pipeline/notebooks/temp-notebook-pgmecyxy.ipynb",
   "output_path": "notebooks/benchmark-model.ipynb",
   "parameters": {
    "P": {
     "_opentelemetry_traceparent": "00-6f8471823b5f6a3b870911db23186f45-09aa5ee7843cb818-01",
     "pipeline.data_lake_root": "/pipeline-outputs/data-lake",
     "pipeline.github.actor": "matiasdahl",
     "pipeline.github.base_ref": "",
     "pipeline.github.event_name": "schedule",
     "pipeline.github.head_ref": "",
     "pipeline.github.job": "run-tests-pipeline-and-persist-pipeline-outputs",
     "pipeline.github.ref": "refs/heads/development",
     "pipeline.github.ref_name": "development",
     "pipeline.github.ref_type": "branch",
     "pipeline.github.repository": "pynb-dag-runner/mnist-digits-demo-pipeline",
     "pipeline.github.run_id": "2680962793",
     "pipeline.github.runner_name": "Hosted Agent",
     "pipeline.github.sha": "147a1be9916173fd4d2cd011d8d51e3411215850",
     "pipeline.github.workflow": "Run automated tests, pipeline and deploy results to static reporting site",
     "pipeline.pipeline_run_id": "247af893-d42b-4a6d-89ab-ddae831995f2",
     "pipeline.run_environment": "ci",
     "run.retry_nr": "0",
     "task.max_nr_retries": "1",
     "task.notebook": "notebooks/benchmark-model.py",
     "task.nr_train_images": 1000,
     "task.num_cpus": 1,
     "task.timeout_s": "None"
    }
   },
   "start_time": "2022-07-16T06:47:15.615575",
   "version": "2.3.3"
  }
 },
 "nbformat": 4,
 "nbformat_minor": 5
}