{
 "cells": [
  {
   "cell_type": "markdown",
   "id": "e217465f",
   "metadata": {
    "papermill": {
     "duration": 0.006418,
     "end_time": "2022-07-16T06:47:42.188826",
     "exception": false,
     "start_time": "2022-07-16T06:47:42.182408",
     "status": "completed"
    },
    "tags": []
   },
   "source": [
    "# Summarize model performances\n",
    "\n",
    "This notebooks plots the performances (using averaged ROC AUC scores) for models\n",
    "trained with different training sets."
   ]
  },
  {
   "cell_type": "markdown",
   "id": "65819bc8",
   "metadata": {
    "papermill": {
     "duration": 0.002893,
     "end_time": "2022-07-16T06:47:42.195333",
     "exception": false,
     "start_time": "2022-07-16T06:47:42.192440",
     "status": "completed"
    },
    "tags": []
   },
   "source": [
    "### Determine run parameters"
   ]
  },
  {
   "cell_type": "code",
   "execution_count": 1,
   "id": "b7df7421",
   "metadata": {
    "execution": {
     "iopub.execute_input": "2022-07-16T06:47:42.203613Z",
     "iopub.status.busy": "2022-07-16T06:47:42.203035Z",
     "iopub.status.idle": "2022-07-16T06:47:42.212102Z",
     "shell.execute_reply": "2022-07-16T06:47:42.211398Z"
    },
    "lines_to_next_cell": 0,
    "papermill": {
     "duration": 0.015198,
     "end_time": "2022-07-16T06:47:42.213916",
     "exception": false,
     "start_time": "2022-07-16T06:47:42.198718",
     "status": "completed"
    },
    "tags": []
   },
   "outputs": [],
   "source": [
    "# ----------------- Parameters for interactive development --------------\n",
    "P = {\n",
    "    \"pipeline.run_environment\": \"dev\",\n",
    "}"
   ]
  },
  {
   "cell_type": "code",
   "execution_count": 2,
   "id": "8c4097e4",
   "metadata": {
    "execution": {
     "iopub.execute_input": "2022-07-16T06:47:42.221932Z",
     "iopub.status.busy": "2022-07-16T06:47:42.221458Z",
     "iopub.status.idle": "2022-07-16T06:47:42.224732Z",
     "shell.execute_reply": "2022-07-16T06:47:42.224114Z"
    },
    "lines_to_next_cell": 0,
    "papermill": {
     "duration": 0.009416,
     "end_time": "2022-07-16T06:47:42.226427",
     "exception": false,
     "start_time": "2022-07-16T06:47:42.217011",
     "status": "completed"
    },
    "tags": [
     "parameters"
    ]
   },
   "outputs": [],
   "source": [
    "# - During automated runs parameters will be injected in the below cell -"
   ]
  },
  {
   "cell_type": "code",
   "execution_count": 3,
   "id": "600451cb",
   "metadata": {
    "execution": {
     "iopub.execute_input": "2022-07-16T06:47:42.233868Z",
     "iopub.status.busy": "2022-07-16T06:47:42.233407Z",
     "iopub.status.idle": "2022-07-16T06:47:42.238909Z",
     "shell.execute_reply": "2022-07-16T06:47:42.237896Z"
    },
    "papermill": {
     "duration": 0.011307,
     "end_time": "2022-07-16T06:47:42.240733",
     "exception": false,
     "start_time": "2022-07-16T06:47:42.229426",
     "status": "completed"
    },
    "tags": [
     "injected-parameters"
    ]
   },
   "outputs": [],
   "source": [
    "# Parameters\n",
    "P = {\n",
    "    \"pipeline.data_lake_root\": \"/pipeline-outputs/data-lake\",\n",
    "    \"pipeline.run_environment\": \"ci\",\n",
    "    \"pipeline.pipeline_run_id\": \"247af893-d42b-4a6d-89ab-ddae831995f2\",\n",
    "    \"pipeline.github.repository\": \"pynb-dag-runner/mnist-digits-demo-pipeline\",\n",
    "    \"pipeline.github.workflow\": \"Run automated tests, pipeline and deploy results to static reporting site\",\n",
    "    \"pipeline.github.runner_name\": \"Hosted Agent\",\n",
    "    \"pipeline.github.run_id\": \"2680962793\",\n",
    "    \"pipeline.github.actor\": \"matiasdahl\",\n",
    "    \"pipeline.github.job\": \"run-tests-pipeline-and-persist-pipeline-outputs\",\n",
    "    \"pipeline.github.base_ref\": \"\",\n",
    "    \"pipeline.github.head_ref\": \"\",\n",
    "    \"pipeline.github.sha\": \"147a1be9916173fd4d2cd011d8d51e3411215850\",\n",
    "    \"pipeline.github.ref\": \"refs/heads/development\",\n",
    "    \"pipeline.github.ref_type\": \"branch\",\n",
    "    \"pipeline.github.ref_name\": \"development\",\n",
    "    \"pipeline.github.event_name\": \"schedule\",\n",
    "    \"task.notebook\": \"notebooks/summary.py\",\n",
    "    \"task.max_nr_retries\": \"1\",\n",
    "    \"run.retry_nr\": \"0\",\n",
    "    \"task.timeout_s\": \"None\",\n",
    "    \"task.num_cpus\": 1,\n",
    "    \"_opentelemetry_traceparent\": \"00-6f8471823b5f6a3b870911db23186f45-4c666795ceaf94cf-01\",\n",
    "}\n"
   ]
  },
  {
   "cell_type": "code",
   "execution_count": 4,
   "id": "194ee94e",
   "metadata": {
    "execution": {
     "iopub.execute_input": "2022-07-16T06:47:42.248390Z",
     "iopub.status.busy": "2022-07-16T06:47:42.247651Z",
     "iopub.status.idle": "2022-07-16T06:47:42.251700Z",
     "shell.execute_reply": "2022-07-16T06:47:42.251091Z"
    },
    "lines_to_next_cell": 0,
    "papermill": {
     "duration": 0.009711,
     "end_time": "2022-07-16T06:47:42.253545",
     "exception": false,
     "start_time": "2022-07-16T06:47:42.243834",
     "status": "completed"
    },
    "tags": []
   },
   "outputs": [],
   "source": [
    "# -----------------------------------------------------------------------"
   ]
  },
  {
   "cell_type": "markdown",
   "id": "029c9cab",
   "metadata": {
    "papermill": {
     "duration": 0.003363,
     "end_time": "2022-07-16T06:47:42.259744",
     "exception": false,
     "start_time": "2022-07-16T06:47:42.256381",
     "status": "completed"
    },
    "tags": []
   },
   "source": [
    "---"
   ]
  },
  {
   "cell_type": "markdown",
   "id": "4dba6ebc",
   "metadata": {
    "lines_to_next_cell": 2,
    "papermill": {
     "duration": 0.002894,
     "end_time": "2022-07-16T06:47:42.265604",
     "exception": false,
     "start_time": "2022-07-16T06:47:42.262710",
     "status": "completed"
    },
    "tags": []
   },
   "source": [
    "### Notebook code"
   ]
  },
  {
   "cell_type": "code",
   "execution_count": 5,
   "id": "60067a92",
   "metadata": {
    "execution": {
     "iopub.execute_input": "2022-07-16T06:47:42.274086Z",
     "iopub.status.busy": "2022-07-16T06:47:42.272889Z",
     "iopub.status.idle": "2022-07-16T06:47:43.548847Z",
     "shell.execute_reply": "2022-07-16T06:47:43.547981Z"
    },
    "papermill": {
     "duration": 1.283052,
     "end_time": "2022-07-16T06:47:43.551526",
     "exception": false,
     "start_time": "2022-07-16T06:47:42.268474",
     "status": "completed"
    },
    "tags": []
   },
   "outputs": [],
   "source": [
    "#\n",
    "import pandas as pd\n",
    "import matplotlib.pyplot as plt\n",
    "\n",
    "#\n",
    "from pynb_dag_runner.tasks.task_opentelemetry_logging import PydarLogger"
   ]
  },
  {
   "cell_type": "code",
   "execution_count": 6,
   "id": "32ded1ba",
   "metadata": {
    "execution": {
     "iopub.execute_input": "2022-07-16T06:47:43.559994Z",
     "iopub.status.busy": "2022-07-16T06:47:43.559277Z",
     "iopub.status.idle": "2022-07-16T06:47:43.725504Z",
     "shell.execute_reply": "2022-07-16T06:47:43.723773Z"
    },
    "papermill": {
     "duration": 0.172684,
     "end_time": "2022-07-16T06:47:43.727742",
     "exception": false,
     "start_time": "2022-07-16T06:47:43.555058",
     "status": "completed"
    },
    "tags": []
   },
   "outputs": [
    {
     "name": "stderr",
     "output_type": "stream",
     "text": [
      "2022-07-16 06:47:43,564\tINFO worker.py:842 -- Connecting to existing Ray cluster at address: 172.17.0.2:6379\n"
     ]
    }
   ],
   "source": [
    "logger = PydarLogger(P=P)"
   ]
  },
  {
   "cell_type": "code",
   "execution_count": 7,
   "id": "ecb44c9d",
   "metadata": {
    "execution": {
     "iopub.execute_input": "2022-07-16T06:47:43.737114Z",
     "iopub.status.busy": "2022-07-16T06:47:43.736649Z",
     "iopub.status.idle": "2022-07-16T06:47:43.740985Z",
     "shell.execute_reply": "2022-07-16T06:47:43.740171Z"
    },
    "papermill": {
     "duration": 0.01189,
     "end_time": "2022-07-16T06:47:43.743012",
     "exception": false,
     "start_time": "2022-07-16T06:47:43.731122",
     "status": "completed"
    },
    "tags": []
   },
   "outputs": [],
   "source": [
    "from pynb_dag_runner.tasks.task_opentelemetry_logging import (\n",
    "    PydarLogger,\n",
    "    get_logged_values,\n",
    ")\n",
    "from pynb_dag_runner.opentelemetry_helpers import _get_all_spans, Spans"
   ]
  },
  {
   "cell_type": "code",
   "execution_count": 8,
   "id": "d538e524",
   "metadata": {
    "execution": {
     "iopub.execute_input": "2022-07-16T06:47:43.752043Z",
     "iopub.status.busy": "2022-07-16T06:47:43.751582Z",
     "iopub.status.idle": "2022-07-16T06:47:43.759238Z",
     "shell.execute_reply": "2022-07-16T06:47:43.758477Z"
    },
    "papermill": {
     "duration": 0.014355,
     "end_time": "2022-07-16T06:47:43.761175",
     "exception": false,
     "start_time": "2022-07-16T06:47:43.746820",
     "status": "completed"
    },
    "tags": []
   },
   "outputs": [],
   "source": [
    "def get_model_benchmarks():\n",
    "    \"\"\"\n",
    "    Query the OpenTelemetry logs for *this pipeline run* and return\n",
    "    all key-values logged from all runs of the benchmark-model.py task\n",
    "\n",
    "    For testing a json file with OpenTelemetry spans (as an array)\n",
    "    can be used as follows:\n",
    "\n",
    "    - Create output directory `mkdir /tmp/spans`\n",
    "    - Run unit tests. This will create pipeline-outputs/opentelemetry-spans.json\n",
    "    - Convert this json-array into jsonl format as follows\n",
    "\n",
    "    jq -c '.[]' /pipeline-outputs/opentelemetry-spans.json > /tmp/spans/data.txt\n",
    "\n",
    "    \"\"\"\n",
    "    spans: Spans = Spans(_get_all_spans())\n",
    "    print(f\"Found {len(spans)} spans\")\n",
    "\n",
    "    benchmark_spans = (\n",
    "        spans\n",
    "        # -\n",
    "        .filter([\"name\"], \"execute-task\")\n",
    "        # -\n",
    "        .filter([\"attributes\", \"task.notebook\"], \"notebooks/benchmark-model.py\")\n",
    "    )\n",
    "\n",
    "    result = []\n",
    "    for s in benchmark_spans:\n",
    "        result.append(\n",
    "            {\n",
    "                \"span_id\": s[\"context\"][\"span_id\"],\n",
    "                \"nr_train_images\": s[\"attributes\"][\"task.nr_train_images\"],\n",
    "                \"data\": get_logged_values(spans.bound_under(s)),\n",
    "            }\n",
    "        )\n",
    "\n",
    "    return result\n",
    "\n",
    "\n",
    "def adjust_pandas(df):\n",
    "    def column_renamer(col_name: str) -> str:\n",
    "        return (\n",
    "            col_name\n",
    "            # -- 'data.roc_auc_per_digit.4' -> 'roc_auc.4'\n",
    "            .replace(\"data.roc_auc_per_digit\", \"roc_auc\")\n",
    "            # -- 'data.roc_auc_class_mean' -> 'roc_auc_mean'\n",
    "            .replace(\"data.roc_auc_class_mean\", \"roc_auc_mean\")\n",
    "        )\n",
    "\n",
    "    return df.rename(column_renamer, axis=\"columns\").sort_values(by=\"nr_train_images\")"
   ]
  },
  {
   "cell_type": "code",
   "execution_count": 9,
   "id": "f0390326",
   "metadata": {
    "execution": {
     "iopub.execute_input": "2022-07-16T06:47:43.768893Z",
     "iopub.status.busy": "2022-07-16T06:47:43.768489Z",
     "iopub.status.idle": "2022-07-16T06:48:06.270673Z",
     "shell.execute_reply": "2022-07-16T06:48:06.269694Z"
    },
    "papermill": {
     "duration": 22.508481,
     "end_time": "2022-07-16T06:48:06.272900",
     "exception": false,
     "start_time": "2022-07-16T06:47:43.764419",
     "status": "completed"
    },
    "tags": []
   },
   "outputs": [
    {
     "name": "stdout",
     "output_type": "stream",
     "text": [
      "Found 414 spans\n"
     ]
    }
   ],
   "source": [
    "df_data = adjust_pandas(pd.json_normalize(get_model_benchmarks()))"
   ]
  },
  {
   "cell_type": "code",
   "execution_count": 10,
   "id": "0f08e84d",
   "metadata": {
    "execution": {
     "iopub.execute_input": "2022-07-16T06:48:06.283345Z",
     "iopub.status.busy": "2022-07-16T06:48:06.282891Z",
     "iopub.status.idle": "2022-07-16T06:48:06.313003Z",
     "shell.execute_reply": "2022-07-16T06:48:06.312047Z"
    },
    "papermill": {
     "duration": 0.038014,
     "end_time": "2022-07-16T06:48:06.316102",
     "exception": false,
     "start_time": "2022-07-16T06:48:06.278088",
     "status": "completed"
    },
    "tags": []
   },
   "outputs": [
    {
     "data": {
      "text/html": [
       "<div>\n",
       "<style scoped>\n",
       "    .dataframe tbody tr th:only-of-type {\n",
       "        vertical-align: middle;\n",
       "    }\n",
       "\n",
       "    .dataframe tbody tr th {\n",
       "        vertical-align: top;\n",
       "    }\n",
       "\n",
       "    .dataframe thead th {\n",
       "        text-align: right;\n",
       "    }\n",
       "</style>\n",
       "<table border=\"1\" class=\"dataframe\">\n",
       "  <thead>\n",
       "    <tr style=\"text-align: right;\">\n",
       "      <th></th>\n",
       "      <th>span_id</th>\n",
       "      <th>nr_train_images</th>\n",
       "      <th>roc_auc_mean</th>\n",
       "      <th>roc_auc.0</th>\n",
       "      <th>roc_auc.1</th>\n",
       "      <th>roc_auc.2</th>\n",
       "      <th>roc_auc.3</th>\n",
       "      <th>roc_auc.4</th>\n",
       "      <th>roc_auc.5</th>\n",
       "      <th>roc_auc.6</th>\n",
       "      <th>roc_auc.7</th>\n",
       "      <th>roc_auc.8</th>\n",
       "      <th>roc_auc.9</th>\n",
       "    </tr>\n",
       "  </thead>\n",
       "  <tbody>\n",
       "    <tr>\n",
       "      <th>2</th>\n",
       "      <td>0xe43e2e7a9fa08acf</td>\n",
       "      <td>600</td>\n",
       "      <td>0.9990</td>\n",
       "      <td>1.0</td>\n",
       "      <td>0.9991</td>\n",
       "      <td>1.0</td>\n",
       "      <td>0.9998</td>\n",
       "      <td>0.9991</td>\n",
       "      <td>0.9989</td>\n",
       "      <td>0.9999</td>\n",
       "      <td>0.9998</td>\n",
       "      <td>0.9948</td>\n",
       "      <td>0.9988</td>\n",
       "    </tr>\n",
       "    <tr>\n",
       "      <th>3</th>\n",
       "      <td>0x659faab7b359be89</td>\n",
       "      <td>800</td>\n",
       "      <td>0.9990</td>\n",
       "      <td>1.0</td>\n",
       "      <td>0.9988</td>\n",
       "      <td>1.0</td>\n",
       "      <td>0.9998</td>\n",
       "      <td>0.9995</td>\n",
       "      <td>0.9991</td>\n",
       "      <td>1.0000</td>\n",
       "      <td>0.9999</td>\n",
       "      <td>0.9932</td>\n",
       "      <td>0.9995</td>\n",
       "    </tr>\n",
       "    <tr>\n",
       "      <th>1</th>\n",
       "      <td>0xd173cb5f4a4bc7a6</td>\n",
       "      <td>1000</td>\n",
       "      <td>0.9992</td>\n",
       "      <td>1.0</td>\n",
       "      <td>0.9989</td>\n",
       "      <td>1.0</td>\n",
       "      <td>0.9999</td>\n",
       "      <td>0.9997</td>\n",
       "      <td>0.9994</td>\n",
       "      <td>0.9999</td>\n",
       "      <td>0.9998</td>\n",
       "      <td>0.9948</td>\n",
       "      <td>0.9996</td>\n",
       "    </tr>\n",
       "    <tr>\n",
       "      <th>0</th>\n",
       "      <td>0xe9b03a4b1e598aff</td>\n",
       "      <td>1200</td>\n",
       "      <td>0.9994</td>\n",
       "      <td>1.0</td>\n",
       "      <td>0.9991</td>\n",
       "      <td>1.0</td>\n",
       "      <td>0.9999</td>\n",
       "      <td>0.9997</td>\n",
       "      <td>0.9997</td>\n",
       "      <td>0.9999</td>\n",
       "      <td>0.9998</td>\n",
       "      <td>0.9958</td>\n",
       "      <td>0.9998</td>\n",
       "    </tr>\n",
       "  </tbody>\n",
       "</table>\n",
       "</div>"
      ],
      "text/plain": [
       "              span_id  nr_train_images  roc_auc_mean  roc_auc.0  roc_auc.1  \\\n",
       "2  0xe43e2e7a9fa08acf              600        0.9990        1.0     0.9991   \n",
       "3  0x659faab7b359be89              800        0.9990        1.0     0.9988   \n",
       "1  0xd173cb5f4a4bc7a6             1000        0.9992        1.0     0.9989   \n",
       "0  0xe9b03a4b1e598aff             1200        0.9994        1.0     0.9991   \n",
       "\n",
       "   roc_auc.2  roc_auc.3  roc_auc.4  roc_auc.5  roc_auc.6  roc_auc.7  \\\n",
       "2        1.0     0.9998     0.9991     0.9989     0.9999     0.9998   \n",
       "3        1.0     0.9998     0.9995     0.9991     1.0000     0.9999   \n",
       "1        1.0     0.9999     0.9997     0.9994     0.9999     0.9998   \n",
       "0        1.0     0.9999     0.9997     0.9997     0.9999     0.9998   \n",
       "\n",
       "   roc_auc.8  roc_auc.9  \n",
       "2     0.9948     0.9988  \n",
       "3     0.9932     0.9995  \n",
       "1     0.9948     0.9996  \n",
       "0     0.9958     0.9998  "
      ]
     },
     "execution_count": 10,
     "metadata": {},
     "output_type": "execute_result"
    }
   ],
   "source": [
    "df_data.round(4)"
   ]
  },
  {
   "cell_type": "code",
   "execution_count": 11,
   "id": "03b5165f",
   "metadata": {
    "execution": {
     "iopub.execute_input": "2022-07-16T06:48:06.326194Z",
     "iopub.status.busy": "2022-07-16T06:48:06.325533Z",
     "iopub.status.idle": "2022-07-16T06:48:06.497492Z",
     "shell.execute_reply": "2022-07-16T06:48:06.496817Z"
    },
    "papermill": {
     "duration": 0.17988,
     "end_time": "2022-07-16T06:48:06.499754",
     "exception": false,
     "start_time": "2022-07-16T06:48:06.319874",
     "status": "completed"
    },
    "tags": []
   },
   "outputs": [
    {
     "data": {
      "image/png": "[encoded data removed]",
      "text/plain": [
       "<Figure size 1152x288 with 1 Axes>"
      ]
     },
     "metadata": {
      "needs_background": "light"
     },
     "output_type": "display_data"
    }
   ],
   "source": [
    "def plot_classifier_performance_summary(df_data):\n",
    "    fig, ax = plt.subplots(nrows=1, ncols=1, figsize=(16, 4), sharex=True)\n",
    "\n",
    "    #\n",
    "    ax.plot(\n",
    "        df_data[\"nr_train_images\"], df_data[\"roc_auc_mean\"], marker=\"o\", linestyle=\"--\"\n",
    "    )\n",
    "    ax.set_title(\n",
    "        f\"ROC AUC digit classifier performance on evaluation digits\", fontsize=17\n",
    "    )\n",
    "    ax.set_xlabel(\"Total number of digits in training set\", fontsize=14)\n",
    "    ax.set_ylabel(\"Mean ROC AUC\", fontsize=14)\n",
    "\n",
    "    fig.tight_layout()\n",
    "    fig.show()\n",
    "\n",
    "    return fig\n",
    "\n",
    "\n",
    "fig = plot_classifier_performance_summary(df_data)"
   ]
  },
  {
   "cell_type": "code",
   "execution_count": 12,
   "id": "f7579e37",
   "metadata": {
    "execution": {
     "iopub.execute_input": "2022-07-16T06:48:06.510321Z",
     "iopub.status.busy": "2022-07-16T06:48:06.509761Z",
     "iopub.status.idle": "2022-07-16T06:48:06.577769Z",
     "shell.execute_reply": "2022-07-16T06:48:06.576823Z"
    },
    "papermill": {
     "duration": 0.076853,
     "end_time": "2022-07-16T06:48:06.581315",
     "exception": false,
     "start_time": "2022-07-16T06:48:06.504462",
     "status": "completed"
    },
    "tags": []
   },
   "outputs": [],
   "source": [
    "logger.log_figure(\"auc-roc-model-performances.png\", fig)"
   ]
  },
  {
   "cell_type": "code",
   "execution_count": 13,
   "id": "5b89cca5",
   "metadata": {
    "execution": {
     "iopub.execute_input": "2022-07-16T06:48:06.592401Z",
     "iopub.status.busy": "2022-07-16T06:48:06.591665Z",
     "iopub.status.idle": "2022-07-16T06:48:06.595890Z",
     "shell.execute_reply": "2022-07-16T06:48:06.595139Z"
    },
    "papermill": {
     "duration": 0.011311,
     "end_time": "2022-07-16T06:48:06.597572",
     "exception": false,
     "start_time": "2022-07-16T06:48:06.586261",
     "status": "completed"
    },
    "tags": []
   },
   "outputs": [],
   "source": [
    "###"
   ]
  },
  {
   "cell_type": "code",
   "execution_count": null,
   "id": "8226e69e",
   "metadata": {
    "papermill": {
     "duration": 0.004447,
     "end_time": "2022-07-16T06:48:06.605857",
     "exception": false,
     "start_time": "2022-07-16T06:48:06.601410",
     "status": "completed"
    },
    "tags": []
   },
   "outputs": [],
   "source": []
  }
 ],
 "metadata": {
  "jupytext": {
   "cell_metadata_filter": "tags,-all",
   "main_language": "python",
   "notebook_metadata_filter": "-all"
  },
  "language_info": {
   "codemirror_mode": {
    "name": "ipython",
    "version": 3
   },
   "file_extension": ".py",
   "mimetype": "text/x-python",
   "name": "python",
   "nbconvert_exporter": "python",
   "pygments_lexer": "ipython3",
   "version": "3.8.10"
  },
  "papermill": {
   "default_parameters": {},
   "duration": 26.593263,
   "end_time": "2022-07-16T06:48:07.530100",
   "environment_variables": {},
   "exception": null,
   "input_path": "/home/host_user/workspace/mnist-demo-pipeline/mnist-demo-pipeline/notebooks/temp-notebook-3b92z9t0.ipynb",
   "output_path": "notebooks/summary.ipynb",
   "parameters": {
    "P": {
     "_opentelemetry_traceparent": "00-6f8471823b5f6a3b870911db23186f45-4c666795ceaf94cf-01",
     "pipeline.data_lake_root": "/pipeline-outputs/data-lake",
     "pipeline.github.actor": "matiasdahl",
     "pipeline.github.base_ref": "",
     "pipeline.github.event_name": "schedule",
     "pipeline.github.head_ref": "",
     "pipeline.github.job": "run-tests-pipeline-and-persist-pipeline-outputs",
     "pipeline.github.ref": "refs/heads/development",
     "pipeline.github.ref_name": "development",
     "pipeline.github.ref_type": "branch",
     "pipeline.github.repository": "pynb-dag-runner/mnist-digits-demo-pipeline",
     "pipeline.github.run_id": "2680962793",
     "pipeline.github.runner_name": "Hosted Agent",
     "pipeline.github.sha": "147a1be9916173fd4d2cd011d8d51e3411215850",
     "pipeline.github.workflow": "Run automated tests, pipeline and deploy results to static reporting site",
     "pipeline.pipeline_run_id": "247af893-d42b-4a6d-89ab-ddae831995f2",
     "pipeline.run_environment": "ci",
     "run.retry_nr": "0",
     "task.max_nr_retries": "1",
     "task.notebook": "notebooks/summary.py",
     "task.num_cpus": 1,
     "task.timeout_s": "None"
    }
   },
   "start_time": "2022-07-16T06:47:40.936837",
   "version": "2.3.3"
  }
 },
 "nbformat": 4,
 "nbformat_minor": 5
}