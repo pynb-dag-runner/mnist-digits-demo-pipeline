{
 "cells": [
  {
   "cell_type": "markdown",
   "id": "c09ede66",
   "metadata": {
    "papermill": {
     "duration": 0.008962,
     "end_time": "2022-07-16T06:47:09.630003",
     "exception": false,
     "start_time": "2022-07-16T06:47:09.621041",
     "status": "completed"
    },
    "tags": []
   },
   "source": [
    "# Train model\n",
    "\n",
    "The purpose of this notebook is:\n",
    "\n",
    "- Load all training data (images and labels).\n",
    "- Limit number of train images to `task.nr_train_images` (value provided as run parameter).\n",
    "- Train a support vector machine model using sklearn.\n",
    "- Persist the trained model using the ONNX format."
   ]
  },
  {
   "cell_type": "markdown",
   "id": "8a770968",
   "metadata": {
    "papermill": {
     "duration": 0.005915,
     "end_time": "2022-07-16T06:47:09.639742",
     "exception": false,
     "start_time": "2022-07-16T06:47:09.633827",
     "status": "completed"
    },
    "tags": []
   },
   "source": [
    "### Determine run parameters"
   ]
  },
  {
   "cell_type": "code",
   "execution_count": 1,
   "id": "3085b2cf",
   "metadata": {
    "execution": {
     "iopub.execute_input": "2022-07-16T06:47:09.649395Z",
     "iopub.status.busy": "2022-07-16T06:47:09.648989Z",
     "iopub.status.idle": "2022-07-16T06:47:09.661454Z",
     "shell.execute_reply": "2022-07-16T06:47:09.659757Z"
    },
    "lines_to_next_cell": 0,
    "papermill": {
     "duration": 0.019958,
     "end_time": "2022-07-16T06:47:09.663485",
     "exception": false,
     "start_time": "2022-07-16T06:47:09.643527",
     "status": "completed"
    },
    "tags": []
   },
   "outputs": [],
   "source": [
    "# ----------------- Parameters for interactive development --------------\n",
    "P = {\n",
    "    \"pipeline.data_lake_root\": \"/pipeline-outputs/data-lake\",\n",
    "    \"task.nr_train_images\": 600,\n",
    "}"
   ]
  },
  {
   "cell_type": "code",
   "execution_count": 2,
   "id": "f0c62c0f",
   "metadata": {
    "execution": {
     "iopub.execute_input": "2022-07-16T06:47:09.672681Z",
     "iopub.status.busy": "2022-07-16T06:47:09.672409Z",
     "iopub.status.idle": "2022-07-16T06:47:09.676021Z",
     "shell.execute_reply": "2022-07-16T06:47:09.675017Z"
    },
    "lines_to_next_cell": 0,
    "papermill": {
     "duration": 0.011539,
     "end_time": "2022-07-16T06:47:09.678863",
     "exception": false,
     "start_time": "2022-07-16T06:47:09.667324",
     "status": "completed"
    },
    "tags": [
     "parameters"
    ]
   },
   "outputs": [],
   "source": [
    "# - During automated runs parameters will be injected in the below cell -"
   ]
  },
  {
   "cell_type": "code",
   "execution_count": 3,
   "id": "83d84605",
   "metadata": {
    "execution": {
     "iopub.execute_input": "2022-07-16T06:47:09.687996Z",
     "iopub.status.busy": "2022-07-16T06:47:09.687748Z",
     "iopub.status.idle": "2022-07-16T06:47:09.693940Z",
     "shell.execute_reply": "2022-07-16T06:47:09.693351Z"
    },
    "papermill": {
     "duration": 0.014341,
     "end_time": "2022-07-16T06:47:09.697402",
     "exception": false,
     "start_time": "2022-07-16T06:47:09.683061",
     "status": "completed"
    },
    "tags": [
     "injected-parameters"
    ]
   },
   "outputs": [],
   "source": [
    "# Parameters\n",
    "P = {\n",
    "    \"pipeline.data_lake_root\": \"/pipeline-outputs/data-lake\",\n",
    "    \"pipeline.run_environment\": \"ci\",\n",
    "    \"pipeline.pipeline_run_id\": \"247af893-d42b-4a6d-89ab-ddae831995f2\",\n",
    "    \"pipeline.github.repository\": \"pynb-dag-runner/mnist-digits-demo-pipeline\",\n",
    "    \"pipeline.github.workflow\": \"Run automated tests, pipeline and deploy results to static reporting site\",\n",
    "    \"pipeline.github.runner_name\": \"Hosted Agent\",\n",
    "    \"pipeline.github.run_id\": \"2680962793\",\n",
    "    \"pipeline.github.actor\": \"matiasdahl\",\n",
    "    \"pipeline.github.job\": \"run-tests-pipeline-and-persist-pipeline-outputs\",\n",
    "    \"pipeline.github.base_ref\": \"\",\n",
    "    \"pipeline.github.head_ref\": \"\",\n",
    "    \"pipeline.github.sha\": \"147a1be9916173fd4d2cd011d8d51e3411215850\",\n",
    "    \"pipeline.github.ref\": \"refs/heads/development\",\n",
    "    \"pipeline.github.ref_type\": \"branch\",\n",
    "    \"pipeline.github.ref_name\": \"development\",\n",
    "    \"pipeline.github.event_name\": \"schedule\",\n",
    "    \"task.nr_train_images\": 1200,\n",
    "    \"task.notebook\": \"notebooks/train-model.py\",\n",
    "    \"task.max_nr_retries\": \"1\",\n",
    "    \"run.retry_nr\": \"0\",\n",
    "    \"task.timeout_s\": \"None\",\n",
    "    \"task.num_cpus\": 1,\n",
    "    \"_opentelemetry_traceparent\": \"00-6f8471823b5f6a3b870911db23186f45-75c0233b9de218c7-01\",\n",
    "}\n"
   ]
  },
  {
   "cell_type": "code",
   "execution_count": 4,
   "id": "33fe1377",
   "metadata": {
    "execution": {
     "iopub.execute_input": "2022-07-16T06:47:09.707174Z",
     "iopub.status.busy": "2022-07-16T06:47:09.706917Z",
     "iopub.status.idle": "2022-07-16T06:47:09.710305Z",
     "shell.execute_reply": "2022-07-16T06:47:09.709564Z"
    },
    "lines_to_next_cell": 0,
    "papermill": {
     "duration": 0.012331,
     "end_time": "2022-07-16T06:47:09.713569",
     "exception": false,
     "start_time": "2022-07-16T06:47:09.701238",
     "status": "completed"
    },
    "tags": []
   },
   "outputs": [],
   "source": [
    "# -----------------------------------------------------------------------"
   ]
  },
  {
   "cell_type": "markdown",
   "id": "779d2aed",
   "metadata": {
    "papermill": {
     "duration": 0.003381,
     "end_time": "2022-07-16T06:47:09.720784",
     "exception": false,
     "start_time": "2022-07-16T06:47:09.717403",
     "status": "completed"
    },
    "tags": []
   },
   "source": [
    "---"
   ]
  },
  {
   "cell_type": "markdown",
   "id": "f1bb77b7",
   "metadata": {
    "lines_to_next_cell": 2,
    "papermill": {
     "duration": 0.010116,
     "end_time": "2022-07-16T06:47:09.735163",
     "exception": false,
     "start_time": "2022-07-16T06:47:09.725047",
     "status": "completed"
    },
    "tags": []
   },
   "source": [
    "### Notebook code"
   ]
  },
  {
   "cell_type": "code",
   "execution_count": 5,
   "id": "c7972737",
   "metadata": {
    "execution": {
     "iopub.execute_input": "2022-07-16T06:47:09.745264Z",
     "iopub.status.busy": "2022-07-16T06:47:09.744946Z",
     "iopub.status.idle": "2022-07-16T06:47:10.299820Z",
     "shell.execute_reply": "2022-07-16T06:47:10.296243Z"
    },
    "papermill": {
     "duration": 0.563335,
     "end_time": "2022-07-16T06:47:10.302414",
     "exception": false,
     "start_time": "2022-07-16T06:47:09.739079",
     "status": "completed"
    },
    "tags": []
   },
   "outputs": [
    {
     "name": "stderr",
     "output_type": "stream",
     "text": [
      "2022-07-16 06:47:10,109\tINFO worker.py:842 -- Connecting to existing Ray cluster at address: 172.17.0.2:6379\n"
     ]
    }
   ],
   "source": [
    "from pynb_dag_runner.tasks.task_opentelemetry_logging import PydarLogger\n",
    "\n",
    "logger = PydarLogger(P)"
   ]
  },
  {
   "cell_type": "markdown",
   "id": "929ee292",
   "metadata": {
    "papermill": {
     "duration": 0.003889,
     "end_time": "2022-07-16T06:47:10.310605",
     "exception": false,
     "start_time": "2022-07-16T06:47:10.306716",
     "status": "completed"
    },
    "tags": []
   },
   "source": [
    "## Load and limit train data"
   ]
  },
  {
   "cell_type": "code",
   "execution_count": 6,
   "id": "17b3a379",
   "metadata": {
    "execution": {
     "iopub.execute_input": "2022-07-16T06:47:10.319829Z",
     "iopub.status.busy": "2022-07-16T06:47:10.319403Z",
     "iopub.status.idle": "2022-07-16T06:47:10.817241Z",
     "shell.execute_reply": "2022-07-16T06:47:10.816550Z"
    },
    "papermill": {
     "duration": 0.505313,
     "end_time": "2022-07-16T06:47:10.819838",
     "exception": false,
     "start_time": "2022-07-16T06:47:10.314525",
     "status": "completed"
    },
    "tags": []
   },
   "outputs": [],
   "source": [
    "def load_and_limit_train_data(P):\n",
    "    from common.io import datalake_root, read_numpy\n",
    "    from sklearn.model_selection import train_test_split\n",
    "\n",
    "    X_train_all = read_numpy(datalake_root(P) / \"train-data\" / \"digits.numpy\")\n",
    "    y_train_all = read_numpy(datalake_root(P) / \"train-data\" / \"labels.numpy\")\n",
    "\n",
    "    assert isinstance(P[\"task.nr_train_images\"], int)\n",
    "\n",
    "    # Note: train_test_split will fail if split is 0 or 100%.\n",
    "    assert 0 < P[\"task.nr_train_images\"] < len(y_train_all)\n",
    "\n",
    "    X_train, _, y_train, _ = train_test_split(\n",
    "        X_train_all,\n",
    "        y_train_all,\n",
    "        train_size=P[\"task.nr_train_images\"],\n",
    "        test_size=None,\n",
    "        stratify=y_train_all,\n",
    "        shuffle=True,\n",
    "        random_state=123,\n",
    "    )\n",
    "\n",
    "    assert X_train.shape == (len(y_train), 8 * 8)\n",
    "    return X_train, y_train\n",
    "\n",
    "\n",
    "X_train, y_train = load_and_limit_train_data(P)"
   ]
  },
  {
   "cell_type": "markdown",
   "id": "3d4eecd3",
   "metadata": {
    "papermill": {
     "duration": 0.003717,
     "end_time": "2022-07-16T06:47:10.829591",
     "exception": false,
     "start_time": "2022-07-16T06:47:10.825874",
     "status": "completed"
    },
    "tags": []
   },
   "source": [
    "## Train support vector classifier model\n",
    "\n",
    "Below we assume that the hyperparameter $C$ is known.\n",
    "\n",
    "However, this should ideally be found by a hyperparameter search. That could be\n",
    "done in parallel on the Ray cluster, but this needs some more work. Ie., to use\n",
    "multiple cores in the notebook, those cores should be reserved when starting the\n",
    "notebook task (TODO).\n",
    "\n",
    "- https://docs.ray.io/en/latest/tune/key-concepts.html\n",
    "\n",
    "Note: cv-scores would need to be computed here, since they depend on the train data.\n",
    "After this notebook only the onnx-model is available."
   ]
  },
  {
   "cell_type": "code",
   "execution_count": 7,
   "id": "fd009792",
   "metadata": {
    "execution": {
     "iopub.execute_input": "2022-07-16T06:47:10.838243Z",
     "iopub.status.busy": "2022-07-16T06:47:10.837924Z",
     "iopub.status.idle": "2022-07-16T06:47:10.865009Z",
     "shell.execute_reply": "2022-07-16T06:47:10.864310Z"
    },
    "papermill": {
     "duration": 0.033858,
     "end_time": "2022-07-16T06:47:10.867147",
     "exception": false,
     "start_time": "2022-07-16T06:47:10.833289",
     "status": "completed"
    },
    "tags": []
   },
   "outputs": [],
   "source": [
    "from sklearn.svm import SVC"
   ]
  },
  {
   "cell_type": "code",
   "execution_count": 8,
   "id": "770ac665",
   "metadata": {
    "execution": {
     "iopub.execute_input": "2022-07-16T06:47:10.877201Z",
     "iopub.status.busy": "2022-07-16T06:47:10.876590Z",
     "iopub.status.idle": "2022-07-16T06:47:11.120807Z",
     "shell.execute_reply": "2022-07-16T06:47:11.120152Z"
    },
    "papermill": {
     "duration": 0.251224,
     "end_time": "2022-07-16T06:47:11.122773",
     "exception": false,
     "start_time": "2022-07-16T06:47:10.871549",
     "status": "completed"
    },
    "tags": []
   },
   "outputs": [
    {
     "data": {
      "text/plain": [
       "SVC(C=0.001, kernel='linear', probability=True)"
      ]
     },
     "execution_count": 8,
     "metadata": {},
     "output_type": "execute_result"
    }
   ],
   "source": [
    "model = SVC(C=0.001, kernel=\"linear\", probability=True)\n",
    "\n",
    "model.fit(X_train, y_train)"
   ]
  },
  {
   "cell_type": "markdown",
   "id": "9bc8ebc0",
   "metadata": {
    "papermill": {
     "duration": 0.004216,
     "end_time": "2022-07-16T06:47:11.131101",
     "exception": false,
     "start_time": "2022-07-16T06:47:11.126885",
     "status": "completed"
    },
    "tags": []
   },
   "source": [
    "### Q: Can the labels returned by `predict(..)` be computed from probabilities returned by the `predict_prob`-method?"
   ]
  },
  {
   "cell_type": "code",
   "execution_count": 9,
   "id": "d6826a9f",
   "metadata": {
    "execution": {
     "iopub.execute_input": "2022-07-16T06:47:11.140785Z",
     "iopub.status.busy": "2022-07-16T06:47:11.140470Z",
     "iopub.status.idle": "2022-07-16T06:47:11.264055Z",
     "shell.execute_reply": "2022-07-16T06:47:11.263203Z"
    },
    "papermill": {
     "duration": 0.131198,
     "end_time": "2022-07-16T06:47:11.266140",
     "exception": false,
     "start_time": "2022-07-16T06:47:11.134942",
     "status": "completed"
    },
    "tags": []
   },
   "outputs": [
    {
     "name": "stdout",
     "output_type": "stream",
     "text": [
      " - Logging nr_max_prob_neq_label (int) : 3\n"
     ]
    }
   ],
   "source": [
    "import numpy as np\n",
    "\n",
    "y_train_labels = model.predict(X_train)\n",
    "y_train_probabilities = model.predict_proba(X_train)\n",
    "assert y_train_probabilities.shape == (len(y_train), 10)\n",
    "\n",
    "y_train_max_prob_labels = np.argmax(y_train_probabilities, axis=1)\n",
    "assert y_train_labels.shape == y_train_max_prob_labels.shape == y_train.shape\n",
    "\n",
    "# If the predicted labels would coincide with the labels that have\n",
    "# maximum probability, the below number would be zero\n",
    "logger.log_int(\n",
    "    \"nr_max_prob_neq_label\", int(sum(y_train_max_prob_labels != y_train_labels))\n",
    ")"
   ]
  },
  {
   "cell_type": "markdown",
   "id": "217074d7",
   "metadata": {
    "papermill": {
     "duration": 0.003845,
     "end_time": "2022-07-16T06:47:11.274387",
     "exception": false,
     "start_time": "2022-07-16T06:47:11.270542",
     "status": "completed"
    },
    "tags": []
   },
   "source": [
    "The explanation is (likely) explained in the SVC source, see\n",
    "[here](https://github.com/scikit-learn/scikit-learn/blob/main/sklearn/svm/_base.py).\n",
    "Namely, the outputs from `predict(..)` and `predict_proba(..)` may not in some\n",
    "cases be compatible since the latter is computed using cross-validation while\n",
    "the former is not. Thus, the above number need not be zero."
   ]
  },
  {
   "cell_type": "markdown",
   "id": "1a0b24cd",
   "metadata": {
    "papermill": {
     "duration": 0.004331,
     "end_time": "2022-07-16T06:47:11.282822",
     "exception": false,
     "start_time": "2022-07-16T06:47:11.278491",
     "status": "completed"
    },
    "tags": []
   },
   "source": [
    "## Persist model"
   ]
  },
  {
   "cell_type": "code",
   "execution_count": 10,
   "id": "05e4a3ea",
   "metadata": {
    "execution": {
     "iopub.execute_input": "2022-07-16T06:47:11.292257Z",
     "iopub.status.busy": "2022-07-16T06:47:11.291901Z",
     "iopub.status.idle": "2022-07-16T06:47:12.200157Z",
     "shell.execute_reply": "2022-07-16T06:47:12.199308Z"
    },
    "papermill": {
     "duration": 0.915801,
     "end_time": "2022-07-16T06:47:12.202607",
     "exception": false,
     "start_time": "2022-07-16T06:47:11.286806",
     "status": "completed"
    },
    "tags": []
   },
   "outputs": [],
   "source": [
    "from skl2onnx import convert_sklearn\n",
    "from skl2onnx.common.data_types import FloatTensorType\n",
    "\n",
    "#\n",
    "from common.io import datalake_root, write_onnx"
   ]
  },
  {
   "cell_type": "code",
   "execution_count": 11,
   "id": "cfd7078b",
   "metadata": {
    "execution": {
     "iopub.execute_input": "2022-07-16T06:47:12.213204Z",
     "iopub.status.busy": "2022-07-16T06:47:12.212435Z",
     "iopub.status.idle": "2022-07-16T06:47:12.286783Z",
     "shell.execute_reply": "2022-07-16T06:47:12.286065Z"
    },
    "papermill": {
     "duration": 0.082106,
     "end_time": "2022-07-16T06:47:12.288896",
     "exception": false,
     "start_time": "2022-07-16T06:47:12.206790",
     "status": "completed"
    },
    "tags": []
   },
   "outputs": [],
   "source": [
    "# convert sklearn model into onnx and persist to data lake\n",
    "\n",
    "model_onnx = convert_sklearn(\n",
    "    model, initial_types=[(\"float_input_8x8_image\", FloatTensorType([None, 8 * 8]))]\n",
    ")\n",
    "write_onnx(\n",
    "    datalake_root(P)\n",
    "    / \"models\"\n",
    "    / f\"nr_train_images={P['task.nr_train_images']}\"\n",
    "    / \"model.onnx\",\n",
    "    model_onnx,\n",
    ")"
   ]
  },
  {
   "cell_type": "code",
   "execution_count": null,
   "id": "2728c16a",
   "metadata": {
    "papermill": {
     "duration": 0.004433,
     "end_time": "2022-07-16T06:47:12.298027",
     "exception": false,
     "start_time": "2022-07-16T06:47:12.293594",
     "status": "completed"
    },
    "tags": []
   },
   "outputs": [],
   "source": []
  }
 ],
 "metadata": {
  "jupytext": {
   "cell_metadata_filter": "tags,-all",
   "main_language": "python",
   "notebook_metadata_filter": "-all"
  },
  "language_info": {
   "codemirror_mode": {
    "name": "ipython",
    "version": 3
   },
   "file_extension": ".py",
   "mimetype": "text/x-python",
   "name": "python",
   "nbconvert_exporter": "python",
   "pygments_lexer": "ipython3",
   "version": "3.8.10"
  },
  "papermill": {
   "default_parameters": {},
   "duration": 5.58884,
   "end_time": "2022-07-16T06:47:13.537291",
   "environment_variables": {},
   "exception": null,
   "input_path": "/home/host_user/workspace/mnist-demo-pipeline/mnist-demo-pipeline/notebooks/temp-notebook-ln65on_6.ipynb",
   "output_path": "notebooks/train-model.ipynb",
   "parameters": {
    "P": {
     "_opentelemetry_traceparent": "00-6f8471823b5f6a3b870911db23186f45-75c0233b9de218c7-01",
     "pipeline.data_lake_root": "/pipeline-outputs/data-lake",
     "pipeline.github.actor": "matiasdahl",
     "pipeline.github.base_ref": "",
     "pipeline.github.event_name": "schedule",
     "pipeline.github.head_ref": "",
     "pipeline.github.job": "run-tests-pipeline-and-persist-pipeline-outputs",
     "pipeline.github.ref": "refs/heads/development",
     "pipeline.github.ref_name": "development",
     "pipeline.github.ref_type": "branch",
     "pipeline.github.repository": "pynb-dag-runner/mnist-digits-demo-pipeline",
     "pipeline.github.run_id": "2680962793",
     "pipeline.github.runner_name": "Hosted Agent",
     "pipeline.github.sha": "147a1be9916173fd4d2cd011d8d51e3411215850",
     "pipeline.github.workflow": "Run automated tests, pipeline and deploy results to static reporting site",
     "pipeline.pipeline_run_id": "247af893-d42b-4a6d-89ab-ddae831995f2",
     "pipeline.run_environment": "ci",
     "run.retry_nr": "0",
     "task.max_nr_retries": "1",
     "task.notebook": "notebooks/train-model.py",
     "task.nr_train_images": 1200,
     "task.num_cpus": 1,
     "task.timeout_s": "None"
    }
   },
   "start_time": "2022-07-16T06:47:07.948451",
   "version": "2.3.3"
  }
 },
 "nbformat": 4,
 "nbformat_minor": 5
}