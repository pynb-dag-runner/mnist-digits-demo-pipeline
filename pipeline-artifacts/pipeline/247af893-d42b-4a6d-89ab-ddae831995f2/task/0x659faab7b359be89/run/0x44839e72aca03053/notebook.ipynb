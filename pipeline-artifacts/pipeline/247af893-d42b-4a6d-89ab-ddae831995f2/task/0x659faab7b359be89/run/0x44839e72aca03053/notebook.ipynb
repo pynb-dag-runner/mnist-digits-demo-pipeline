{
 "cells": [
  {
   "cell_type": "markdown",
   "id": "a6593a16",
   "metadata": {
    "papermill": {
     "duration": 0.007212,
     "end_time": "2022-07-16T06:47:11.631769",
     "exception": false,
     "start_time": "2022-07-16T06:47:11.624557",
     "status": "completed"
    },
    "tags": []
   },
   "source": [
    "# Benchmark model\n",
    "\n",
    "The purpose of this notebook is to benchmark persisted onnx-model (trained in the\n",
    "previous step) against evaluation set."
   ]
  },
  {
   "cell_type": "markdown",
   "id": "0563cdc9",
   "metadata": {
    "papermill": {
     "duration": 0.005418,
     "end_time": "2022-07-16T06:47:11.643110",
     "exception": false,
     "start_time": "2022-07-16T06:47:11.637692",
     "status": "completed"
    },
    "tags": []
   },
   "source": [
    "### Determine run parameters"
   ]
  },
  {
   "cell_type": "code",
   "execution_count": 1,
   "id": "27edfe45",
   "metadata": {
    "execution": {
     "iopub.execute_input": "2022-07-16T06:47:11.655484Z",
     "iopub.status.busy": "2022-07-16T06:47:11.655086Z",
     "iopub.status.idle": "2022-07-16T06:47:11.666349Z",
     "shell.execute_reply": "2022-07-16T06:47:11.665684Z"
    },
    "lines_to_next_cell": 0,
    "papermill": {
     "duration": 0.021847,
     "end_time": "2022-07-16T06:47:11.670934",
     "exception": false,
     "start_time": "2022-07-16T06:47:11.649087",
     "status": "completed"
    },
    "tags": []
   },
   "outputs": [],
   "source": [
    "# ----------------- Parameters for interactive development --------------\n",
    "P = {\n",
    "    \"pipeline.data_lake_root\": \"/pipeline-outputs/data-lake\",\n",
    "    \"task.nr_train_images\": 600,\n",
    "}"
   ]
  },
  {
   "cell_type": "code",
   "execution_count": 2,
   "id": "73009a31",
   "metadata": {
    "execution": {
     "iopub.execute_input": "2022-07-16T06:47:11.683294Z",
     "iopub.status.busy": "2022-07-16T06:47:11.682980Z",
     "iopub.status.idle": "2022-07-16T06:47:11.686602Z",
     "shell.execute_reply": "2022-07-16T06:47:11.686010Z"
    },
    "lines_to_next_cell": 0,
    "papermill": {
     "duration": 0.014653,
     "end_time": "2022-07-16T06:47:11.690796",
     "exception": false,
     "start_time": "2022-07-16T06:47:11.676143",
     "status": "completed"
    },
    "tags": [
     "parameters"
    ]
   },
   "outputs": [],
   "source": [
    "# - During automated runs parameters will be injected in the below cell -"
   ]
  },
  {
   "cell_type": "code",
   "execution_count": 3,
   "id": "dd882b41",
   "metadata": {
    "execution": {
     "iopub.execute_input": "2022-07-16T06:47:11.704093Z",
     "iopub.status.busy": "2022-07-16T06:47:11.703813Z",
     "iopub.status.idle": "2022-07-16T06:47:11.709494Z",
     "shell.execute_reply": "2022-07-16T06:47:11.708614Z"
    },
    "papermill": {
     "duration": 0.018296,
     "end_time": "2022-07-16T06:47:11.714591",
     "exception": false,
     "start_time": "2022-07-16T06:47:11.696295",
     "status": "completed"
    },
    "tags": [
     "injected-parameters"
    ]
   },
   "outputs": [],
   "source": [
    "# Parameters\n",
    "P = {\n",
    "    \"pipeline.data_lake_root\": \"/pipeline-outputs/data-lake\",\n",
    "    \"pipeline.run_environment\": \"ci\",\n",
    "    \"pipeline.pipeline_run_id\": \"247af893-d42b-4a6d-89ab-ddae831995f2\",\n",
    "    \"pipeline.github.repository\": \"pynb-dag-runner/mnist-digits-demo-pipeline\",\n",
    "    \"pipeline.github.workflow\": \"Run automated tests, pipeline and deploy results to static reporting site\",\n",
    "    \"pipeline.github.runner_name\": \"Hosted Agent\",\n",
    "    \"pipeline.github.run_id\": \"2680962793\",\n",
    "    \"pipeline.github.actor\": \"matiasdahl\",\n",
    "    \"pipeline.github.job\": \"run-tests-pipeline-and-persist-pipeline-outputs\",\n",
    "    \"pipeline.github.base_ref\": \"\",\n",
    "    \"pipeline.github.head_ref\": \"\",\n",
    "    \"pipeline.github.sha\": \"147a1be9916173fd4d2cd011d8d51e3411215850\",\n",
    "    \"pipeline.github.ref\": \"refs/heads/development\",\n",
    "    \"pipeline.github.ref_type\": \"branch\",\n",
    "    \"pipeline.github.ref_name\": \"development\",\n",
    "    \"pipeline.github.event_name\": \"schedule\",\n",
    "    \"task.nr_train_images\": 800,\n",
    "    \"task.notebook\": \"notebooks/benchmark-model.py\",\n",
    "    \"task.max_nr_retries\": \"1\",\n",
    "    \"run.retry_nr\": \"0\",\n",
    "    \"task.timeout_s\": \"None\",\n",
    "    \"task.num_cpus\": 1,\n",
    "    \"_opentelemetry_traceparent\": \"00-6f8471823b5f6a3b870911db23186f45-c66d224f4e36fc6d-01\",\n",
    "}\n"
   ]
  },
  {
   "cell_type": "code",
   "execution_count": 4,
   "id": "f2fb2fe9",
   "metadata": {
    "execution": {
     "iopub.execute_input": "2022-07-16T06:47:11.728440Z",
     "iopub.status.busy": "2022-07-16T06:47:11.727909Z",
     "iopub.status.idle": "2022-07-16T06:47:11.732140Z",
     "shell.execute_reply": "2022-07-16T06:47:11.731481Z"
    },
    "lines_to_next_cell": 0,
    "papermill": {
     "duration": 0.013462,
     "end_time": "2022-07-16T06:47:11.735210",
     "exception": false,
     "start_time": "2022-07-16T06:47:11.721748",
     "status": "completed"
    },
    "tags": []
   },
   "outputs": [],
   "source": [
    "# -----------------------------------------------------------------------"
   ]
  },
  {
   "cell_type": "markdown",
   "id": "d0b74c4a",
   "metadata": {
    "papermill": {
     "duration": 0.006507,
     "end_time": "2022-07-16T06:47:11.748114",
     "exception": false,
     "start_time": "2022-07-16T06:47:11.741607",
     "status": "completed"
    },
    "tags": []
   },
   "source": [
    "---"
   ]
  },
  {
   "cell_type": "markdown",
   "id": "e58e1951",
   "metadata": {
    "lines_to_next_cell": 2,
    "papermill": {
     "duration": 0.004611,
     "end_time": "2022-07-16T06:47:11.758355",
     "exception": false,
     "start_time": "2022-07-16T06:47:11.753744",
     "status": "completed"
    },
    "tags": []
   },
   "source": [
    "### Notebook code"
   ]
  },
  {
   "cell_type": "code",
   "execution_count": 5,
   "id": "63cd1c8f",
   "metadata": {
    "execution": {
     "iopub.execute_input": "2022-07-16T06:47:11.770932Z",
     "iopub.status.busy": "2022-07-16T06:47:11.770598Z",
     "iopub.status.idle": "2022-07-16T06:47:13.046668Z",
     "shell.execute_reply": "2022-07-16T06:47:13.045418Z"
    },
    "papermill": {
     "duration": 1.284965,
     "end_time": "2022-07-16T06:47:13.048933",
     "exception": false,
     "start_time": "2022-07-16T06:47:11.763968",
     "status": "completed"
    },
    "tags": []
   },
   "outputs": [
    {
     "name": "stderr",
     "output_type": "stream",
     "text": [
      "2022-07-16 06:47:12,878\tINFO worker.py:842 -- Connecting to existing Ray cluster at address: 172.17.0.2:6379\n"
     ]
    }
   ],
   "source": [
    "import itertools as it\n",
    "\n",
    "#\n",
    "import numpy as np\n",
    "import matplotlib.pyplot as plt\n",
    "\n",
    "#\n",
    "from pynb_dag_runner.tasks.task_opentelemetry_logging import PydarLogger\n",
    "\n",
    "#\n",
    "from common.io import datalake_root\n",
    "\n",
    "logger = PydarLogger(P)"
   ]
  },
  {
   "cell_type": "markdown",
   "id": "38754ec6",
   "metadata": {
    "papermill": {
     "duration": 0.005,
     "end_time": "2022-07-16T06:47:13.061799",
     "exception": false,
     "start_time": "2022-07-16T06:47:13.056799",
     "status": "completed"
    },
    "tags": []
   },
   "source": [
    "## Load persisted onnx-model and evaluation data"
   ]
  },
  {
   "cell_type": "code",
   "execution_count": 6,
   "id": "e85dad3f",
   "metadata": {
    "execution": {
     "iopub.execute_input": "2022-07-16T06:47:13.073517Z",
     "iopub.status.busy": "2022-07-16T06:47:13.073039Z",
     "iopub.status.idle": "2022-07-16T06:47:13.077217Z",
     "shell.execute_reply": "2022-07-16T06:47:13.076507Z"
    },
    "papermill": {
     "duration": 0.013852,
     "end_time": "2022-07-16T06:47:13.080513",
     "exception": false,
     "start_time": "2022-07-16T06:47:13.066661",
     "status": "completed"
    },
    "tags": []
   },
   "outputs": [],
   "source": [
    "from common.io import read_onnx, get_onnx_inputs, get_onnx_outputs, read_numpy"
   ]
  },
  {
   "cell_type": "code",
   "execution_count": 7,
   "id": "a9de3367",
   "metadata": {
    "execution": {
     "iopub.execute_input": "2022-07-16T06:47:13.095328Z",
     "iopub.status.busy": "2022-07-16T06:47:13.095006Z",
     "iopub.status.idle": "2022-07-16T06:47:13.110728Z",
     "shell.execute_reply": "2022-07-16T06:47:13.110081Z"
    },
    "lines_to_next_cell": 0,
    "papermill": {
     "duration": 0.024642,
     "end_time": "2022-07-16T06:47:13.113260",
     "exception": false,
     "start_time": "2022-07-16T06:47:13.088618",
     "status": "completed"
    },
    "tags": []
   },
   "outputs": [],
   "source": [
    "onnx_inference_session = read_onnx(\n",
    "    datalake_root(P)\n",
    "    / \"models\"\n",
    "    / f\"nr_train_images={P['task.nr_train_images']}\"\n",
    "    / \"model.onnx\"\n",
    ")"
   ]
  },
  {
   "cell_type": "markdown",
   "id": "87013d6f",
   "metadata": {
    "papermill": {
     "duration": 0.005352,
     "end_time": "2022-07-16T06:47:13.124087",
     "exception": false,
     "start_time": "2022-07-16T06:47:13.118735",
     "status": "completed"
    },
    "tags": []
   },
   "source": [
    "### Record structure of inputs and outputs for ONNX model\n",
    "\n",
    "(this should likely be done in training notebook)"
   ]
  },
  {
   "cell_type": "code",
   "execution_count": 8,
   "id": "2032b2c7",
   "metadata": {
    "execution": {
     "iopub.execute_input": "2022-07-16T06:47:13.136390Z",
     "iopub.status.busy": "2022-07-16T06:47:13.135968Z",
     "iopub.status.idle": "2022-07-16T06:47:13.143381Z",
     "shell.execute_reply": "2022-07-16T06:47:13.142601Z"
    },
    "papermill": {
     "duration": 0.017525,
     "end_time": "2022-07-16T06:47:13.147116",
     "exception": false,
     "start_time": "2022-07-16T06:47:13.129591",
     "status": "completed"
    },
    "tags": []
   },
   "outputs": [
    {
     "name": "stdout",
     "output_type": "stream",
     "text": [
      "{\n",
      "  \"inputs\": [\n",
      "    {\n",
      "      \"name\": \"float_input_8x8_image\",\n",
      "      \"shape\": [\n",
      "        null,\n",
      "        64\n",
      "      ],\n",
      "      \"type\": \"tensor(float)\"\n",
      "    }\n",
      "  ],\n",
      "  \"outputs\": [\n",
      "    {\n",
      "      \"name\": \"output_label\",\n",
      "      \"shape\": [\n",
      "        null\n",
      "      ],\n",
      "      \"type\": \"tensor(int64)\"\n",
      "    },\n",
      "    {\n",
      "      \"name\": \"output_probability\",\n",
      "      \"shape\": [],\n",
      "      \"type\": \"seq(map(int64,tensor(float)))\"\n",
      "    }\n",
      "  ]\n",
      "}\n"
     ]
    }
   ],
   "source": [
    "import json\n",
    "\n",
    "onnx_io = json.dumps(\n",
    "    {\n",
    "        \"inputs\": get_onnx_inputs(onnx_inference_session),\n",
    "        \"outputs\": get_onnx_outputs(onnx_inference_session),\n",
    "    },\n",
    "    indent=2,\n",
    ")\n",
    "\n",
    "\n",
    "logger.log_artefact(\"onnx_io_structure.json\", onnx_io)\n",
    "print(onnx_io)"
   ]
  },
  {
   "cell_type": "markdown",
   "id": "6a580fc2",
   "metadata": {
    "papermill": {
     "duration": 0.008026,
     "end_time": "2022-07-16T06:47:13.160648",
     "exception": false,
     "start_time": "2022-07-16T06:47:13.152622",
     "status": "completed"
    },
    "tags": []
   },
   "source": [
    "### Evaluate model performance on evaluation data set"
   ]
  },
  {
   "cell_type": "code",
   "execution_count": 9,
   "id": "cf311732",
   "metadata": {
    "execution": {
     "iopub.execute_input": "2022-07-16T06:47:13.174078Z",
     "iopub.status.busy": "2022-07-16T06:47:13.173771Z",
     "iopub.status.idle": "2022-07-16T06:47:13.179327Z",
     "shell.execute_reply": "2022-07-16T06:47:13.178606Z"
    },
    "papermill": {
     "duration": 0.015497,
     "end_time": "2022-07-16T06:47:13.182571",
     "exception": false,
     "start_time": "2022-07-16T06:47:13.167074",
     "status": "completed"
    },
    "tags": []
   },
   "outputs": [],
   "source": [
    "# load evaluation data\n",
    "X_test = read_numpy(datalake_root(P) / \"test-data\" / \"digits.numpy\")\n",
    "y_test = read_numpy(datalake_root(P) / \"test-data\" / \"labels.numpy\")"
   ]
  },
  {
   "cell_type": "code",
   "execution_count": 10,
   "id": "0284098f",
   "metadata": {
    "execution": {
     "iopub.execute_input": "2022-07-16T06:47:13.198322Z",
     "iopub.status.busy": "2022-07-16T06:47:13.198004Z",
     "iopub.status.idle": "2022-07-16T06:47:13.215212Z",
     "shell.execute_reply": "2022-07-16T06:47:13.214372Z"
    },
    "papermill": {
     "duration": 0.025608,
     "end_time": "2022-07-16T06:47:13.217270",
     "exception": false,
     "start_time": "2022-07-16T06:47:13.191662",
     "status": "completed"
    },
    "tags": []
   },
   "outputs": [],
   "source": [
    "def get_model_outputs(X, onnx_inference_session):\n",
    "    y_pred_labels, y_pred_map = onnx_inference_session.run(\n",
    "        [\"output_label\", \"output_probability\"],\n",
    "        {\"float_input_8x8_image\": X.astype(np.float32)},\n",
    "    )\n",
    "    y_pred_probs = np.array(\n",
    "        [[probabilities[digit] for digit in range(10)] for probabilities in y_pred_map]\n",
    "    )\n",
    "\n",
    "    assert y_pred_labels.shape == (X.shape[0],)\n",
    "    assert y_pred_probs.shape == (X.shape[0], 10)\n",
    "\n",
    "    return y_pred_labels, y_pred_probs\n",
    "\n",
    "\n",
    "# Note: as shown in the training notebook, the predicted labels and probabilities\n",
    "# computed below need not be compatible.\n",
    "y_pred_labels_test, y_pred_probs_test = get_model_outputs(\n",
    "    X_test, onnx_inference_session\n",
    ")"
   ]
  },
  {
   "cell_type": "markdown",
   "id": "074535c1",
   "metadata": {
    "papermill": {
     "duration": 0.006763,
     "end_time": "2022-07-16T06:47:13.229026",
     "exception": false,
     "start_time": "2022-07-16T06:47:13.222263",
     "status": "completed"
    },
    "tags": []
   },
   "source": [
    "### Confusion matrix"
   ]
  },
  {
   "cell_type": "code",
   "execution_count": 11,
   "id": "4ae3d26b",
   "metadata": {
    "execution": {
     "iopub.execute_input": "2022-07-16T06:47:13.241777Z",
     "iopub.status.busy": "2022-07-16T06:47:13.241463Z",
     "iopub.status.idle": "2022-07-16T06:47:13.246216Z",
     "shell.execute_reply": "2022-07-16T06:47:13.245572Z"
    },
    "papermill": {
     "duration": 0.014408,
     "end_time": "2022-07-16T06:47:13.249652",
     "exception": false,
     "start_time": "2022-07-16T06:47:13.235244",
     "status": "completed"
    },
    "tags": []
   },
   "outputs": [],
   "source": [
    "# TODO"
   ]
  },
  {
   "cell_type": "markdown",
   "id": "adccf9d6",
   "metadata": {
    "papermill": {
     "duration": 0.005178,
     "end_time": "2022-07-16T06:47:13.261698",
     "exception": false,
     "start_time": "2022-07-16T06:47:13.256520",
     "status": "completed"
    },
    "tags": []
   },
   "source": [
    "### Plot predicted probabilities for each classifier over all evaluation digit images"
   ]
  },
  {
   "cell_type": "code",
   "execution_count": 12,
   "id": "d137c431",
   "metadata": {
    "execution": {
     "iopub.execute_input": "2022-07-16T06:47:13.282277Z",
     "iopub.status.busy": "2022-07-16T06:47:13.281876Z",
     "iopub.status.idle": "2022-07-16T06:47:17.614761Z",
     "shell.execute_reply": "2022-07-16T06:47:17.614061Z"
    },
    "papermill": {
     "duration": 4.34305,
     "end_time": "2022-07-16T06:47:17.616758",
     "exception": false,
     "start_time": "2022-07-16T06:47:13.273708",
     "status": "completed"
    },
    "tags": []
   },
   "outputs": [
    {
     "data": {
      "image/png": "[encoded data removed]",
      "text/plain": [
       "<Figure size 1152x432 with 10 Axes>"
      ]
     },
     "metadata": {
      "needs_background": "light"
     },
     "output_type": "display_data"
    }
   ],
   "source": [
    "def plot_per_digit_probabilities(y_pred_probs):\n",
    "    fig, axs = plt.subplots(nrows=2, ncols=5, figsize=(16, 6))\n",
    "\n",
    "    for (r, c), digit, ax in zip(\n",
    "        it.product(range(2), range(5)), range(10), axs.reshape(-1)\n",
    "    ):\n",
    "        ax.hist(y_pred_probs_test[:, digit], bins=20)\n",
    "\n",
    "        ax.set_title(f\"Digit {digit}\")\n",
    "        if r == 1 and c == 2:\n",
    "            ax.set_xlabel(\"probability\", fontsize=16)\n",
    "\n",
    "        if c == 0:\n",
    "            ax.set_ylabel(\"counts\", fontsize=16)\n",
    "        ax.set_yscale(\"log\")\n",
    "\n",
    "    fig.tight_layout()\n",
    "    fig.suptitle(\n",
    "        f\"Distributions of prediction probabilities for each digit \"\n",
    "        f\"(on evaluation data, n={y_pred_probs.shape[0]})\",\n",
    "        fontsize=20,\n",
    "    )\n",
    "    fig.tight_layout()\n",
    "    fig.show()\n",
    "\n",
    "    return fig\n",
    "\n",
    "\n",
    "fig = plot_per_digit_probabilities(y_pred_probs_test)"
   ]
  },
  {
   "cell_type": "markdown",
   "id": "71fa1a56",
   "metadata": {
    "papermill": {
     "duration": 0.00588,
     "end_time": "2022-07-16T06:47:17.629634",
     "exception": false,
     "start_time": "2022-07-16T06:47:17.623754",
     "status": "completed"
    },
    "tags": []
   },
   "source": [
    "From the above distributions we see that most digits have clear separation between\n",
    "high and lower probabilities. Morover, in each case there is roughly an order of\n",
    "magnitude more of digits with low probabilities. This is compatible with digits\n",
    "being roughly evenly distributed in the data."
   ]
  },
  {
   "cell_type": "code",
   "execution_count": 13,
   "id": "e8d76575",
   "metadata": {
    "execution": {
     "iopub.execute_input": "2022-07-16T06:47:17.645488Z",
     "iopub.status.busy": "2022-07-16T06:47:17.645134Z",
     "iopub.status.idle": "2022-07-16T06:47:18.296961Z",
     "shell.execute_reply": "2022-07-16T06:47:18.296235Z"
    },
    "papermill": {
     "duration": 0.662826,
     "end_time": "2022-07-16T06:47:18.299357",
     "exception": false,
     "start_time": "2022-07-16T06:47:17.636531",
     "status": "completed"
    },
    "tags": []
   },
   "outputs": [],
   "source": [
    "logger.log_figure(\"per-digit-probabilities.png\", fig)"
   ]
  },
  {
   "cell_type": "markdown",
   "id": "b40b2d30",
   "metadata": {
    "papermill": {
     "duration": 0.005545,
     "end_time": "2022-07-16T06:47:18.311559",
     "exception": false,
     "start_time": "2022-07-16T06:47:18.306014",
     "status": "completed"
    },
    "tags": []
   },
   "source": [
    "### Plot ROC curves for individual one-vs-rest classifiers"
   ]
  },
  {
   "cell_type": "code",
   "execution_count": 14,
   "id": "2708c592",
   "metadata": {
    "execution": {
     "iopub.execute_input": "2022-07-16T06:47:18.325219Z",
     "iopub.status.busy": "2022-07-16T06:47:18.324894Z",
     "iopub.status.idle": "2022-07-16T06:47:18.726319Z",
     "shell.execute_reply": "2022-07-16T06:47:18.725384Z"
    },
    "papermill": {
     "duration": 0.411094,
     "end_time": "2022-07-16T06:47:18.728830",
     "exception": false,
     "start_time": "2022-07-16T06:47:18.317736",
     "status": "completed"
    },
    "tags": []
   },
   "outputs": [],
   "source": [
    "from sklearn import metrics"
   ]
  },
  {
   "cell_type": "code",
   "execution_count": 15,
   "id": "04fc0d0b",
   "metadata": {
    "execution": {
     "iopub.execute_input": "2022-07-16T06:47:18.743742Z",
     "iopub.status.busy": "2022-07-16T06:47:18.743444Z",
     "iopub.status.idle": "2022-07-16T06:47:20.211347Z",
     "shell.execute_reply": "2022-07-16T06:47:20.210219Z"
    },
    "papermill": {
     "duration": 1.478064,
     "end_time": "2022-07-16T06:47:20.213528",
     "exception": false,
     "start_time": "2022-07-16T06:47:18.735464",
     "status": "completed"
    },
    "tags": []
   },
   "outputs": [
    {
     "data": {
      "image/png": "[encoded data removed]",
      "text/plain": [
       "<Figure size 1152x576 with 10 Axes>"
      ]
     },
     "metadata": {
      "needs_background": "light"
     },
     "output_type": "display_data"
    }
   ],
   "source": [
    "def plot_roc_curves(y, y_pred_probs):\n",
    "    # based on example code\n",
    "    # https://scikit-learn.org/stable/auto_examples/model_selection/plot_roc.html\n",
    "\n",
    "    fig, axs = plt.subplots(nrows=2, ncols=5, figsize=(16, 8))\n",
    "\n",
    "    roc_auc_dict = {}\n",
    "\n",
    "    for (r, c), digit, ax in zip(\n",
    "        it.product(range(2), range(5)), range(10), axs.reshape(-1)\n",
    "    ):\n",
    "        fpr, tpr, _ = metrics.roc_curve(y == digit, y_pred_probs[:, digit])\n",
    "        auc = metrics.auc(fpr, tpr)\n",
    "        roc_auc_dict[str(digit)] = auc\n",
    "\n",
    "        ax.plot(fpr, tpr, label=f\"ROC AUC={round(auc, 3)}\")\n",
    "\n",
    "        ax.set_title(f\"\\nDigit {digit}\", fontsize=16)\n",
    "        if r == 1:\n",
    "            ax.set_xlabel(\"FPR\", fontsize=18)\n",
    "\n",
    "        if c == 0:\n",
    "            ax.set_ylabel(\"TPR\", fontsize=18)\n",
    "\n",
    "        ax.set_xlim([-0.05, 1.05])\n",
    "        ax.set_ylim([-0.05, 1.05])\n",
    "        ax.legend(loc=\"lower right\", frameon=False, fontsize=14)\n",
    "\n",
    "    fig.tight_layout()\n",
    "    fig.suptitle(\n",
    "        f\"ROC plots for one-vs-rest performances \"\n",
    "        f\"(on evaluation data, n={y_pred_probs_test.shape[1]}\",\n",
    "        fontsize=22,\n",
    "    )\n",
    "    fig.tight_layout()\n",
    "    fig.show()\n",
    "\n",
    "    return roc_auc_dict, fig\n",
    "\n",
    "\n",
    "roc_auc_dict, fig = plot_roc_curves(y_test, y_pred_probs_test)"
   ]
  },
  {
   "cell_type": "code",
   "execution_count": 16,
   "id": "e3e61b57",
   "metadata": {
    "execution": {
     "iopub.execute_input": "2022-07-16T06:47:20.230672Z",
     "iopub.status.busy": "2022-07-16T06:47:20.230326Z",
     "iopub.status.idle": "2022-07-16T06:47:20.528363Z",
     "shell.execute_reply": "2022-07-16T06:47:20.527448Z"
    },
    "papermill": {
     "duration": 0.309343,
     "end_time": "2022-07-16T06:47:20.530491",
     "exception": false,
     "start_time": "2022-07-16T06:47:20.221148",
     "status": "completed"
    },
    "tags": []
   },
   "outputs": [],
   "source": [
    "logger.log_figure(\"per-digit-roc-curves.png\", fig)"
   ]
  },
  {
   "cell_type": "code",
   "execution_count": 17,
   "id": "9a7ad213",
   "metadata": {
    "execution": {
     "iopub.execute_input": "2022-07-16T06:47:20.548157Z",
     "iopub.status.busy": "2022-07-16T06:47:20.547546Z",
     "iopub.status.idle": "2022-07-16T06:47:20.554545Z",
     "shell.execute_reply": "2022-07-16T06:47:20.553747Z"
    },
    "papermill": {
     "duration": 0.019406,
     "end_time": "2022-07-16T06:47:20.558515",
     "exception": false,
     "start_time": "2022-07-16T06:47:20.539109",
     "status": "completed"
    },
    "tags": []
   },
   "outputs": [
    {
     "data": {
      "text/plain": [
       "{'0': 1.0,\n",
       " '1': 0.9988378631677601,\n",
       " '2': 1.0,\n",
       " '3': 0.9998125585754452,\n",
       " '4': 0.9994665447340345,\n",
       " '5': 0.9991377694470478,\n",
       " '6': 0.999961896052431,\n",
       " '7': 0.9998856881572931,\n",
       " '8': 0.9931825346784363,\n",
       " '9': 0.9994665447340344}"
      ]
     },
     "execution_count": 17,
     "metadata": {},
     "output_type": "execute_result"
    }
   ],
   "source": [
    "roc_auc_dict"
   ]
  },
  {
   "cell_type": "code",
   "execution_count": 18,
   "id": "e72a2fbb",
   "metadata": {
    "execution": {
     "iopub.execute_input": "2022-07-16T06:47:20.574142Z",
     "iopub.status.busy": "2022-07-16T06:47:20.573672Z",
     "iopub.status.idle": "2022-07-16T06:47:20.579710Z",
     "shell.execute_reply": "2022-07-16T06:47:20.579074Z"
    },
    "papermill": {
     "duration": 0.022065,
     "end_time": "2022-07-16T06:47:20.587641",
     "exception": false,
     "start_time": "2022-07-16T06:47:20.565576",
     "status": "completed"
    },
    "tags": []
   },
   "outputs": [
    {
     "name": "stdout",
     "output_type": "stream",
     "text": [
      " - Logging roc_auc_per_digit (json) : {'0': 1.0, '1': 0.9988378631677601, '2': 1.0, '3': 0.9998125585754452, '4': 0.9994665447340345, '5': 0.9991377694470478, '6': 0.999961896052431, '7': 0.9998856881572931, '8': 0.9931825346784363, '9': 0.9994665447340344}\n"
     ]
    }
   ],
   "source": [
    "logger.log_value(\"roc_auc_per_digit\", roc_auc_dict)"
   ]
  },
  {
   "cell_type": "markdown",
   "id": "21a87f12",
   "metadata": {
    "papermill": {
     "duration": 0.007066,
     "end_time": "2022-07-16T06:47:20.601664",
     "exception": false,
     "start_time": "2022-07-16T06:47:20.594598",
     "status": "completed"
    },
    "tags": []
   },
   "source": [
    "### Compute and log mean ROC AUC score averaged over all digits"
   ]
  },
  {
   "cell_type": "code",
   "execution_count": 19,
   "id": "488ccffc",
   "metadata": {
    "execution": {
     "iopub.execute_input": "2022-07-16T06:47:20.624911Z",
     "iopub.status.busy": "2022-07-16T06:47:20.624441Z",
     "iopub.status.idle": "2022-07-16T06:47:20.644128Z",
     "shell.execute_reply": "2022-07-16T06:47:20.643206Z"
    },
    "papermill": {
     "duration": 0.037118,
     "end_time": "2022-07-16T06:47:20.646421",
     "exception": false,
     "start_time": "2022-07-16T06:47:20.609303",
     "status": "completed"
    },
    "tags": []
   },
   "outputs": [
    {
     "name": "stdout",
     "output_type": "stream",
     "text": [
      " - Logging roc_auc_class_mean (float) : 0.9989751399546482\n"
     ]
    }
   ],
   "source": [
    "roc_auc_macro = np.mean(list(roc_auc_dict.values()))\n",
    "\n",
    "logger.log_float(\"roc_auc_class_mean\", roc_auc_macro)\n",
    "\n",
    "# assert that the same value can be computed directly using sklearn\n",
    "assert roc_auc_macro == metrics.roc_auc_score(\n",
    "    y_test, y_pred_probs_test, average=\"macro\", multi_class=\"ovr\"\n",
    ")"
   ]
  },
  {
   "cell_type": "code",
   "execution_count": 20,
   "id": "6835fe9a",
   "metadata": {
    "execution": {
     "iopub.execute_input": "2022-07-16T06:47:20.663977Z",
     "iopub.status.busy": "2022-07-16T06:47:20.663468Z",
     "iopub.status.idle": "2022-07-16T06:47:20.667995Z",
     "shell.execute_reply": "2022-07-16T06:47:20.667065Z"
    },
    "lines_to_next_cell": 0,
    "papermill": {
     "duration": 0.016097,
     "end_time": "2022-07-16T06:47:20.671164",
     "exception": false,
     "start_time": "2022-07-16T06:47:20.655067",
     "status": "completed"
    },
    "tags": []
   },
   "outputs": [],
   "source": [
    "# ---"
   ]
  },
  {
   "cell_type": "code",
   "execution_count": null,
   "id": "7f2460b5",
   "metadata": {
    "papermill": {
     "duration": 0.007025,
     "end_time": "2022-07-16T06:47:20.686073",
     "exception": false,
     "start_time": "2022-07-16T06:47:20.679048",
     "status": "completed"
    },
    "tags": []
   },
   "outputs": [],
   "source": []
  }
 ],
 "metadata": {
  "jupytext": {
   "cell_metadata_filter": "tags,-all",
   "main_language": "python",
   "notebook_metadata_filter": "-all"
  },
  "language_info": {
   "codemirror_mode": {
    "name": "ipython",
    "version": 3
   },
   "file_extension": ".py",
   "mimetype": "text/x-python",
   "name": "python",
   "nbconvert_exporter": "python",
   "pygments_lexer": "ipython3",
   "version": "3.8.10"
  },
  "papermill": {
   "default_parameters": {},
   "duration": 11.824005,
   "end_time": "2022-07-16T06:47:21.915437",
   "environment_variables": {},
   "exception": null,
   "input_path": "/home/host_user/workspace/mnist-demo-pipeline/mnist-demo-pipeline/notebooks/temp-notebook-b1isdsb2.ipynb",
   "output_path": "notebooks/benchmark-model.ipynb",
   "parameters": {
    "P": {
     "_opentelemetry_traceparent": "00-6f8471823b5f6a3b870911db23186f45-c66d224f4e36fc6d-01",
     "pipeline.data_lake_root": "/pipeline-outputs/data-lake",
     "pipeline.github.actor": "matiasdahl",
     "pipeline.github.base_ref": "",
     "pipeline.github.event_name": "schedule",
     "pipeline.github.head_ref": "",
     "pipeline.github.job": "run-tests-pipeline-and-persist-pipeline-outputs",
     "pipeline.github.ref": "refs/heads/development",
     "pipeline.github.ref_name": "development",
     "pipeline.github.ref_type": "branch",
     "pipeline.github.repository": "pynb-dag-runner/mnist-digits-demo-pipeline",
     "pipeline.github.run_id": "2680962793",
     "pipeline.github.runner_name": "Hosted Agent",
     "pipeline.github.sha": "147a1be9916173fd4d2cd011d8d51e3411215850",
     "pipeline.github.workflow": "Run automated tests, pipeline and deploy results to static reporting site",
     "pipeline.pipeline_run_id": "247af893-d42b-4a6d-89ab-ddae831995f2",
     "pipeline.run_environment": "ci",
     "run.retry_nr": "0",
     "task.max_nr_retries": "1",
     "task.notebook": "notebooks/benchmark-model.py",
     "task.nr_train_images": 800,
     "task.num_cpus": 1,
     "task.timeout_s": "None"
    }
   },
   "start_time": "2022-07-16T06:47:10.091432",
   "version": "2.3.3"
  }
 },
 "nbformat": 4,
 "nbformat_minor": 5
}