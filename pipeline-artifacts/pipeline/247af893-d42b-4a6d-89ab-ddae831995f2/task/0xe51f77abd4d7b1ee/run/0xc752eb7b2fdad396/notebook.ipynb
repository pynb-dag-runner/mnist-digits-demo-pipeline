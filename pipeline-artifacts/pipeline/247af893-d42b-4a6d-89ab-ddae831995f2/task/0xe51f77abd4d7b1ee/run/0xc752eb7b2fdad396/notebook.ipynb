{
 "cells": [
  {
   "cell_type": "markdown",
   "id": "e707b447",
   "metadata": {
    "papermill": {
     "duration": 0.006023,
     "end_time": "2022-07-16T06:46:57.338229",
     "exception": false,
     "start_time": "2022-07-16T06:46:57.332206",
     "status": "completed"
    },
    "tags": []
   },
   "source": [
    "# Train model\n",
    "\n",
    "The purpose of this notebook is:\n",
    "\n",
    "- Load all training data (images and labels).\n",
    "- Limit number of train images to `task.nr_train_images` (value provided as run parameter).\n",
    "- Train a support vector machine model using sklearn.\n",
    "- Persist the trained model using the ONNX format."
   ]
  },
  {
   "cell_type": "markdown",
   "id": "3c5d876b",
   "metadata": {
    "papermill": {
     "duration": 0.004471,
     "end_time": "2022-07-16T06:46:57.348496",
     "exception": false,
     "start_time": "2022-07-16T06:46:57.344025",
     "status": "completed"
    },
    "tags": []
   },
   "source": [
    "### Determine run parameters"
   ]
  },
  {
   "cell_type": "code",
   "execution_count": 1,
   "id": "87c4282f",
   "metadata": {
    "execution": {
     "iopub.execute_input": "2022-07-16T06:46:57.359227Z",
     "iopub.status.busy": "2022-07-16T06:46:57.358819Z",
     "iopub.status.idle": "2022-07-16T06:46:57.377122Z",
     "shell.execute_reply": "2022-07-16T06:46:57.375962Z"
    },
    "lines_to_next_cell": 0,
    "papermill": {
     "duration": 0.025883,
     "end_time": "2022-07-16T06:46:57.379316",
     "exception": false,
     "start_time": "2022-07-16T06:46:57.353433",
     "status": "completed"
    },
    "tags": []
   },
   "outputs": [],
   "source": [
    "# ----------------- Parameters for interactive development --------------\n",
    "P = {\n",
    "    \"pipeline.data_lake_root\": \"/pipeline-outputs/data-lake\",\n",
    "    \"task.nr_train_images\": 600,\n",
    "}"
   ]
  },
  {
   "cell_type": "code",
   "execution_count": 2,
   "id": "3630691d",
   "metadata": {
    "execution": {
     "iopub.execute_input": "2022-07-16T06:46:57.389548Z",
     "iopub.status.busy": "2022-07-16T06:46:57.389261Z",
     "iopub.status.idle": "2022-07-16T06:46:57.393621Z",
     "shell.execute_reply": "2022-07-16T06:46:57.392944Z"
    },
    "lines_to_next_cell": 0,
    "papermill": {
     "duration": 0.01403,
     "end_time": "2022-07-16T06:46:57.398154",
     "exception": false,
     "start_time": "2022-07-16T06:46:57.384124",
     "status": "completed"
    },
    "tags": [
     "parameters"
    ]
   },
   "outputs": [],
   "source": [
    "# - During automated runs parameters will be injected in the below cell -"
   ]
  },
  {
   "cell_type": "code",
   "execution_count": 3,
   "id": "587dc422",
   "metadata": {
    "execution": {
     "iopub.execute_input": "2022-07-16T06:46:57.414709Z",
     "iopub.status.busy": "2022-07-16T06:46:57.414370Z",
     "iopub.status.idle": "2022-07-16T06:46:57.421705Z",
     "shell.execute_reply": "2022-07-16T06:46:57.420728Z"
    },
    "papermill": {
     "duration": 0.017813,
     "end_time": "2022-07-16T06:46:57.425586",
     "exception": false,
     "start_time": "2022-07-16T06:46:57.407773",
     "status": "completed"
    },
    "tags": [
     "injected-parameters"
    ]
   },
   "outputs": [],
   "source": [
    "# Parameters\n",
    "P = {\n",
    "    \"pipeline.data_lake_root\": \"/pipeline-outputs/data-lake\",\n",
    "    \"pipeline.run_environment\": \"ci\",\n",
    "    \"pipeline.pipeline_run_id\": \"247af893-d42b-4a6d-89ab-ddae831995f2\",\n",
    "    \"pipeline.github.repository\": \"pynb-dag-runner/mnist-digits-demo-pipeline\",\n",
    "    \"pipeline.github.workflow\": \"Run automated tests, pipeline and deploy results to static reporting site\",\n",
    "    \"pipeline.github.runner_name\": \"Hosted Agent\",\n",
    "    \"pipeline.github.run_id\": \"2680962793\",\n",
    "    \"pipeline.github.actor\": \"matiasdahl\",\n",
    "    \"pipeline.github.job\": \"run-tests-pipeline-and-persist-pipeline-outputs\",\n",
    "    \"pipeline.github.base_ref\": \"\",\n",
    "    \"pipeline.github.head_ref\": \"\",\n",
    "    \"pipeline.github.sha\": \"147a1be9916173fd4d2cd011d8d51e3411215850\",\n",
    "    \"pipeline.github.ref\": \"refs/heads/development\",\n",
    "    \"pipeline.github.ref_type\": \"branch\",\n",
    "    \"pipeline.github.ref_name\": \"development\",\n",
    "    \"pipeline.github.event_name\": \"schedule\",\n",
    "    \"task.nr_train_images\": 800,\n",
    "    \"task.notebook\": \"notebooks/train-model.py\",\n",
    "    \"task.max_nr_retries\": \"1\",\n",
    "    \"run.retry_nr\": \"0\",\n",
    "    \"task.timeout_s\": \"None\",\n",
    "    \"task.num_cpus\": 1,\n",
    "    \"_opentelemetry_traceparent\": \"00-6f8471823b5f6a3b870911db23186f45-8321990337e93dd3-01\",\n",
    "}\n"
   ]
  },
  {
   "cell_type": "code",
   "execution_count": 4,
   "id": "e1713b0c",
   "metadata": {
    "execution": {
     "iopub.execute_input": "2022-07-16T06:46:57.436111Z",
     "iopub.status.busy": "2022-07-16T06:46:57.435821Z",
     "iopub.status.idle": "2022-07-16T06:46:57.440233Z",
     "shell.execute_reply": "2022-07-16T06:46:57.439535Z"
    },
    "lines_to_next_cell": 0,
    "papermill": {
     "duration": 0.016749,
     "end_time": "2022-07-16T06:46:57.447376",
     "exception": false,
     "start_time": "2022-07-16T06:46:57.430627",
     "status": "completed"
    },
    "tags": []
   },
   "outputs": [],
   "source": [
    "# -----------------------------------------------------------------------"
   ]
  },
  {
   "cell_type": "markdown",
   "id": "bcf5e778",
   "metadata": {
    "papermill": {
     "duration": 0.004223,
     "end_time": "2022-07-16T06:46:57.456745",
     "exception": false,
     "start_time": "2022-07-16T06:46:57.452522",
     "status": "completed"
    },
    "tags": []
   },
   "source": [
    "---"
   ]
  },
  {
   "cell_type": "markdown",
   "id": "5ec0f0be",
   "metadata": {
    "lines_to_next_cell": 2,
    "papermill": {
     "duration": 0.003321,
     "end_time": "2022-07-16T06:46:57.465037",
     "exception": false,
     "start_time": "2022-07-16T06:46:57.461716",
     "status": "completed"
    },
    "tags": []
   },
   "source": [
    "### Notebook code"
   ]
  },
  {
   "cell_type": "code",
   "execution_count": 5,
   "id": "cfc18faf",
   "metadata": {
    "execution": {
     "iopub.execute_input": "2022-07-16T06:46:57.474780Z",
     "iopub.status.busy": "2022-07-16T06:46:57.474445Z",
     "iopub.status.idle": "2022-07-16T06:46:58.100825Z",
     "shell.execute_reply": "2022-07-16T06:46:58.099116Z"
    },
    "papermill": {
     "duration": 0.633244,
     "end_time": "2022-07-16T06:46:58.103108",
     "exception": false,
     "start_time": "2022-07-16T06:46:57.469864",
     "status": "completed"
    },
    "tags": []
   },
   "outputs": [
    {
     "name": "stderr",
     "output_type": "stream",
     "text": [
      "2022-07-16 06:46:57,920\tINFO worker.py:842 -- Connecting to existing Ray cluster at address: 172.17.0.2:6379\n"
     ]
    }
   ],
   "source": [
    "from pynb_dag_runner.tasks.task_opentelemetry_logging import PydarLogger\n",
    "\n",
    "logger = PydarLogger(P)"
   ]
  },
  {
   "cell_type": "markdown",
   "id": "55e57beb",
   "metadata": {
    "papermill": {
     "duration": 0.009803,
     "end_time": "2022-07-16T06:46:58.117104",
     "exception": false,
     "start_time": "2022-07-16T06:46:58.107301",
     "status": "completed"
    },
    "tags": []
   },
   "source": [
    "## Load and limit train data"
   ]
  },
  {
   "cell_type": "code",
   "execution_count": 6,
   "id": "ffe4e75e",
   "metadata": {
    "execution": {
     "iopub.execute_input": "2022-07-16T06:46:58.136310Z",
     "iopub.status.busy": "2022-07-16T06:46:58.135847Z",
     "iopub.status.idle": "2022-07-16T06:46:58.592277Z",
     "shell.execute_reply": "2022-07-16T06:46:58.591396Z"
    },
    "papermill": {
     "duration": 0.46949,
     "end_time": "2022-07-16T06:46:58.594249",
     "exception": false,
     "start_time": "2022-07-16T06:46:58.124759",
     "status": "completed"
    },
    "tags": []
   },
   "outputs": [],
   "source": [
    "def load_and_limit_train_data(P):\n",
    "    from common.io import datalake_root, read_numpy\n",
    "    from sklearn.model_selection import train_test_split\n",
    "\n",
    "    X_train_all = read_numpy(datalake_root(P) / \"train-data\" / \"digits.numpy\")\n",
    "    y_train_all = read_numpy(datalake_root(P) / \"train-data\" / \"labels.numpy\")\n",
    "\n",
    "    assert isinstance(P[\"task.nr_train_images\"], int)\n",
    "\n",
    "    # Note: train_test_split will fail if split is 0 or 100%.\n",
    "    assert 0 < P[\"task.nr_train_images\"] < len(y_train_all)\n",
    "\n",
    "    X_train, _, y_train, _ = train_test_split(\n",
    "        X_train_all,\n",
    "        y_train_all,\n",
    "        train_size=P[\"task.nr_train_images\"],\n",
    "        test_size=None,\n",
    "        stratify=y_train_all,\n",
    "        shuffle=True,\n",
    "        random_state=123,\n",
    "    )\n",
    "\n",
    "    assert X_train.shape == (len(y_train), 8 * 8)\n",
    "    return X_train, y_train\n",
    "\n",
    "\n",
    "X_train, y_train = load_and_limit_train_data(P)"
   ]
  },
  {
   "cell_type": "markdown",
   "id": "4a6c21e2",
   "metadata": {
    "papermill": {
     "duration": 0.003687,
     "end_time": "2022-07-16T06:46:58.602021",
     "exception": false,
     "start_time": "2022-07-16T06:46:58.598334",
     "status": "completed"
    },
    "tags": []
   },
   "source": [
    "## Train support vector classifier model\n",
    "\n",
    "Below we assume that the hyperparameter $C$ is known.\n",
    "\n",
    "However, this should ideally be found by a hyperparameter search. That could be\n",
    "done in parallel on the Ray cluster, but this needs some more work. Ie., to use\n",
    "multiple cores in the notebook, those cores should be reserved when starting the\n",
    "notebook task (TODO).\n",
    "\n",
    "- https://docs.ray.io/en/latest/tune/key-concepts.html\n",
    "\n",
    "Note: cv-scores would need to be computed here, since they depend on the train data.\n",
    "After this notebook only the onnx-model is available."
   ]
  },
  {
   "cell_type": "code",
   "execution_count": 7,
   "id": "df555a55",
   "metadata": {
    "execution": {
     "iopub.execute_input": "2022-07-16T06:46:58.612686Z",
     "iopub.status.busy": "2022-07-16T06:46:58.612117Z",
     "iopub.status.idle": "2022-07-16T06:46:58.713214Z",
     "shell.execute_reply": "2022-07-16T06:46:58.712253Z"
    },
    "papermill": {
     "duration": 0.109949,
     "end_time": "2022-07-16T06:46:58.715304",
     "exception": false,
     "start_time": "2022-07-16T06:46:58.605355",
     "status": "completed"
    },
    "tags": []
   },
   "outputs": [],
   "source": [
    "from sklearn.svm import SVC"
   ]
  },
  {
   "cell_type": "code",
   "execution_count": 8,
   "id": "eb50752f",
   "metadata": {
    "execution": {
     "iopub.execute_input": "2022-07-16T06:46:58.725114Z",
     "iopub.status.busy": "2022-07-16T06:46:58.724534Z",
     "iopub.status.idle": "2022-07-16T06:46:58.865998Z",
     "shell.execute_reply": "2022-07-16T06:46:58.865119Z"
    },
    "papermill": {
     "duration": 0.150027,
     "end_time": "2022-07-16T06:46:58.869030",
     "exception": false,
     "start_time": "2022-07-16T06:46:58.719003",
     "status": "completed"
    },
    "tags": []
   },
   "outputs": [
    {
     "data": {
      "text/plain": [
       "SVC(C=0.001, kernel='linear', probability=True)"
      ]
     },
     "execution_count": 8,
     "metadata": {},
     "output_type": "execute_result"
    }
   ],
   "source": [
    "model = SVC(C=0.001, kernel=\"linear\", probability=True)\n",
    "\n",
    "model.fit(X_train, y_train)"
   ]
  },
  {
   "cell_type": "markdown",
   "id": "a00b2545",
   "metadata": {
    "papermill": {
     "duration": 0.004133,
     "end_time": "2022-07-16T06:46:58.877265",
     "exception": false,
     "start_time": "2022-07-16T06:46:58.873132",
     "status": "completed"
    },
    "tags": []
   },
   "source": [
    "### Q: Can the labels returned by `predict(..)` be computed from probabilities returned by the `predict_prob`-method?"
   ]
  },
  {
   "cell_type": "code",
   "execution_count": 9,
   "id": "a6bf62e0",
   "metadata": {
    "execution": {
     "iopub.execute_input": "2022-07-16T06:46:58.886519Z",
     "iopub.status.busy": "2022-07-16T06:46:58.886045Z",
     "iopub.status.idle": "2022-07-16T06:46:58.949291Z",
     "shell.execute_reply": "2022-07-16T06:46:58.948474Z"
    },
    "papermill": {
     "duration": 0.070922,
     "end_time": "2022-07-16T06:46:58.951849",
     "exception": false,
     "start_time": "2022-07-16T06:46:58.880927",
     "status": "completed"
    },
    "tags": []
   },
   "outputs": [
    {
     "name": "stdout",
     "output_type": "stream",
     "text": [
      " - Logging nr_max_prob_neq_label (int) : 2\n"
     ]
    }
   ],
   "source": [
    "import numpy as np\n",
    "\n",
    "y_train_labels = model.predict(X_train)\n",
    "y_train_probabilities = model.predict_proba(X_train)\n",
    "assert y_train_probabilities.shape == (len(y_train), 10)\n",
    "\n",
    "y_train_max_prob_labels = np.argmax(y_train_probabilities, axis=1)\n",
    "assert y_train_labels.shape == y_train_max_prob_labels.shape == y_train.shape\n",
    "\n",
    "# If the predicted labels would coincide with the labels that have\n",
    "# maximum probability, the below number would be zero\n",
    "logger.log_int(\n",
    "    \"nr_max_prob_neq_label\", int(sum(y_train_max_prob_labels != y_train_labels))\n",
    ")"
   ]
  },
  {
   "cell_type": "markdown",
   "id": "bbddab91",
   "metadata": {
    "papermill": {
     "duration": 0.003939,
     "end_time": "2022-07-16T06:46:58.959788",
     "exception": false,
     "start_time": "2022-07-16T06:46:58.955849",
     "status": "completed"
    },
    "tags": []
   },
   "source": [
    "The explanation is (likely) explained in the SVC source, see\n",
    "[here](https://github.com/scikit-learn/scikit-learn/blob/main/sklearn/svm/_base.py).\n",
    "Namely, the outputs from `predict(..)` and `predict_proba(..)` may not in some\n",
    "cases be compatible since the latter is computed using cross-validation while\n",
    "the former is not. Thus, the above number need not be zero."
   ]
  },
  {
   "cell_type": "markdown",
   "id": "289f153d",
   "metadata": {
    "papermill": {
     "duration": 0.004397,
     "end_time": "2022-07-16T06:46:58.968357",
     "exception": false,
     "start_time": "2022-07-16T06:46:58.963960",
     "status": "completed"
    },
    "tags": []
   },
   "source": [
    "## Persist model"
   ]
  },
  {
   "cell_type": "code",
   "execution_count": 10,
   "id": "e2be9c54",
   "metadata": {
    "execution": {
     "iopub.execute_input": "2022-07-16T06:46:58.977596Z",
     "iopub.status.busy": "2022-07-16T06:46:58.977130Z",
     "iopub.status.idle": "2022-07-16T06:47:00.387967Z",
     "shell.execute_reply": "2022-07-16T06:47:00.387206Z"
    },
    "papermill": {
     "duration": 1.418006,
     "end_time": "2022-07-16T06:47:00.390371",
     "exception": false,
     "start_time": "2022-07-16T06:46:58.972365",
     "status": "completed"
    },
    "tags": []
   },
   "outputs": [],
   "source": [
    "from skl2onnx import convert_sklearn\n",
    "from skl2onnx.common.data_types import FloatTensorType\n",
    "\n",
    "#\n",
    "from common.io import datalake_root, write_onnx"
   ]
  },
  {
   "cell_type": "code",
   "execution_count": 11,
   "id": "4757a1e2",
   "metadata": {
    "execution": {
     "iopub.execute_input": "2022-07-16T06:47:00.410873Z",
     "iopub.status.busy": "2022-07-16T06:47:00.410167Z",
     "iopub.status.idle": "2022-07-16T06:47:00.467026Z",
     "shell.execute_reply": "2022-07-16T06:47:00.466311Z"
    },
    "papermill": {
     "duration": 0.066729,
     "end_time": "2022-07-16T06:47:00.469580",
     "exception": false,
     "start_time": "2022-07-16T06:47:00.402851",
     "status": "completed"
    },
    "tags": []
   },
   "outputs": [],
   "source": [
    "# convert sklearn model into onnx and persist to data lake\n",
    "\n",
    "model_onnx = convert_sklearn(\n",
    "    model, initial_types=[(\"float_input_8x8_image\", FloatTensorType([None, 8 * 8]))]\n",
    ")\n",
    "write_onnx(\n",
    "    datalake_root(P)\n",
    "    / \"models\"\n",
    "    / f\"nr_train_images={P['task.nr_train_images']}\"\n",
    "    / \"model.onnx\",\n",
    "    model_onnx,\n",
    ")"
   ]
  },
  {
   "cell_type": "code",
   "execution_count": null,
   "id": "f50745a5",
   "metadata": {
    "papermill": {
     "duration": 0.004148,
     "end_time": "2022-07-16T06:47:00.477919",
     "exception": false,
     "start_time": "2022-07-16T06:47:00.473771",
     "status": "completed"
    },
    "tags": []
   },
   "outputs": [],
   "source": []
  }
 ],
 "metadata": {
  "jupytext": {
   "cell_metadata_filter": "tags,-all",
   "main_language": "python",
   "notebook_metadata_filter": "-all"
  },
  "language_info": {
   "codemirror_mode": {
    "name": "ipython",
    "version": 3
   },
   "file_extension": ".py",
   "mimetype": "text/x-python",
   "name": "python",
   "nbconvert_exporter": "python",
   "pygments_lexer": "ipython3",
   "version": "3.8.10"
  },
  "papermill": {
   "default_parameters": {},
   "duration": 5.935545,
   "end_time": "2022-07-16T06:47:01.707370",
   "environment_variables": {},
   "exception": null,
   "input_path": "/home/host_user/workspace/mnist-demo-pipeline/mnist-demo-pipeline/notebooks/temp-notebook-7dnchyuf.ipynb",
   "output_path": "notebooks/train-model.ipynb",
   "parameters": {
    "P": {
     "_opentelemetry_traceparent": "00-6f8471823b5f6a3b870911db23186f45-8321990337e93dd3-01",
     "pipeline.data_lake_root": "/pipeline-outputs/data-lake",
     "pipeline.github.actor": "matiasdahl",
     "pipeline.github.base_ref": "",
     "pipeline.github.event_name": "schedule",
     "pipeline.github.head_ref": "",
     "pipeline.github.job": "run-tests-pipeline-and-persist-pipeline-outputs",
     "pipeline.github.ref": "refs/heads/development",
     "pipeline.github.ref_name": "development",
     "pipeline.github.ref_type": "branch",
     "pipeline.github.repository": "pynb-dag-runner/mnist-digits-demo-pipeline",
     "pipeline.github.run_id": "2680962793",
     "pipeline.github.runner_name": "Hosted Agent",
     "pipeline.github.sha": "147a1be9916173fd4d2cd011d8d51e3411215850",
     "pipeline.github.workflow": "Run automated tests, pipeline and deploy results to static reporting site",
     "pipeline.pipeline_run_id": "247af893-d42b-4a6d-89ab-ddae831995f2",
     "pipeline.run_environment": "ci",
     "run.retry_nr": "0",
     "task.max_nr_retries": "1",
     "task.notebook": "notebooks/train-model.py",
     "task.nr_train_images": 800,
     "task.num_cpus": 1,
     "task.timeout_s": "None"
    }
   },
   "start_time": "2022-07-16T06:46:55.771825",
   "version": "2.3.3"
  }
 },
 "nbformat": 4,
 "nbformat_minor": 5
}