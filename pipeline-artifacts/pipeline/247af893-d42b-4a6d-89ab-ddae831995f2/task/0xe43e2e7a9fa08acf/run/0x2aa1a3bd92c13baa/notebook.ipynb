{
 "cells": [
  {
   "cell_type": "markdown",
   "id": "0accd52e",
   "metadata": {
    "papermill": {
     "duration": 0.007859,
     "end_time": "2022-07-16T06:47:25.719835",
     "exception": false,
     "start_time": "2022-07-16T06:47:25.711976",
     "status": "completed"
    },
    "tags": []
   },
   "source": [
    "# Benchmark model\n",
    "\n",
    "The purpose of this notebook is to benchmark persisted onnx-model (trained in the\n",
    "previous step) against evaluation set."
   ]
  },
  {
   "cell_type": "markdown",
   "id": "9a89e0fe",
   "metadata": {
    "papermill": {
     "duration": 0.005223,
     "end_time": "2022-07-16T06:47:25.731247",
     "exception": false,
     "start_time": "2022-07-16T06:47:25.726024",
     "status": "completed"
    },
    "tags": []
   },
   "source": [
    "### Determine run parameters"
   ]
  },
  {
   "cell_type": "code",
   "execution_count": 1,
   "id": "34e216d0",
   "metadata": {
    "execution": {
     "iopub.execute_input": "2022-07-16T06:47:25.743509Z",
     "iopub.status.busy": "2022-07-16T06:47:25.743133Z",
     "iopub.status.idle": "2022-07-16T06:47:25.755829Z",
     "shell.execute_reply": "2022-07-16T06:47:25.755181Z"
    },
    "lines_to_next_cell": 0,
    "papermill": {
     "duration": 0.021455,
     "end_time": "2022-07-16T06:47:25.757957",
     "exception": false,
     "start_time": "2022-07-16T06:47:25.736502",
     "status": "completed"
    },
    "tags": []
   },
   "outputs": [],
   "source": [
    "# ----------------- Parameters for interactive development --------------\n",
    "P = {\n",
    "    \"pipeline.data_lake_root\": \"/pipeline-outputs/data-lake\",\n",
    "    \"task.nr_train_images\": 600,\n",
    "}"
   ]
  },
  {
   "cell_type": "code",
   "execution_count": 2,
   "id": "9aef6a24",
   "metadata": {
    "execution": {
     "iopub.execute_input": "2022-07-16T06:47:25.770046Z",
     "iopub.status.busy": "2022-07-16T06:47:25.769757Z",
     "iopub.status.idle": "2022-07-16T06:47:25.773134Z",
     "shell.execute_reply": "2022-07-16T06:47:25.772561Z"
    },
    "lines_to_next_cell": 0,
    "papermill": {
     "duration": 0.014211,
     "end_time": "2022-07-16T06:47:25.777427",
     "exception": false,
     "start_time": "2022-07-16T06:47:25.763216",
     "status": "completed"
    },
    "tags": [
     "parameters"
    ]
   },
   "outputs": [],
   "source": [
    "# - During automated runs parameters will be injected in the below cell -"
   ]
  },
  {
   "cell_type": "code",
   "execution_count": 3,
   "id": "4cc5ae9f",
   "metadata": {
    "execution": {
     "iopub.execute_input": "2022-07-16T06:47:25.794860Z",
     "iopub.status.busy": "2022-07-16T06:47:25.794571Z",
     "iopub.status.idle": "2022-07-16T06:47:25.800977Z",
     "shell.execute_reply": "2022-07-16T06:47:25.800361Z"
    },
    "papermill": {
     "duration": 0.015136,
     "end_time": "2022-07-16T06:47:25.804049",
     "exception": false,
     "start_time": "2022-07-16T06:47:25.788913",
     "status": "completed"
    },
    "tags": [
     "injected-parameters"
    ]
   },
   "outputs": [],
   "source": [
    "# Parameters\n",
    "P = {\n",
    "    \"pipeline.data_lake_root\": \"/pipeline-outputs/data-lake\",\n",
    "    \"pipeline.run_environment\": \"ci\",\n",
    "    \"pipeline.pipeline_run_id\": \"247af893-d42b-4a6d-89ab-ddae831995f2\",\n",
    "    \"pipeline.github.repository\": \"pynb-dag-runner/mnist-digits-demo-pipeline\",\n",
    "    \"pipeline.github.workflow\": \"Run automated tests, pipeline and deploy results to static reporting site\",\n",
    "    \"pipeline.github.runner_name\": \"Hosted Agent\",\n",
    "    \"pipeline.github.run_id\": \"2680962793\",\n",
    "    \"pipeline.github.actor\": \"matiasdahl\",\n",
    "    \"pipeline.github.job\": \"run-tests-pipeline-and-persist-pipeline-outputs\",\n",
    "    \"pipeline.github.base_ref\": \"\",\n",
    "    \"pipeline.github.head_ref\": \"\",\n",
    "    \"pipeline.github.sha\": \"147a1be9916173fd4d2cd011d8d51e3411215850\",\n",
    "    \"pipeline.github.ref\": \"refs/heads/development\",\n",
    "    \"pipeline.github.ref_type\": \"branch\",\n",
    "    \"pipeline.github.ref_name\": \"development\",\n",
    "    \"pipeline.github.event_name\": \"schedule\",\n",
    "    \"task.nr_train_images\": 600,\n",
    "    \"task.notebook\": \"notebooks/benchmark-model.py\",\n",
    "    \"task.max_nr_retries\": \"1\",\n",
    "    \"run.retry_nr\": \"0\",\n",
    "    \"task.timeout_s\": \"None\",\n",
    "    \"task.num_cpus\": 1,\n",
    "    \"_opentelemetry_traceparent\": \"00-6f8471823b5f6a3b870911db23186f45-605b6a9850afae50-01\",\n",
    "}\n"
   ]
  },
  {
   "cell_type": "code",
   "execution_count": 4,
   "id": "6cf94979",
   "metadata": {
    "execution": {
     "iopub.execute_input": "2022-07-16T06:47:25.815722Z",
     "iopub.status.busy": "2022-07-16T06:47:25.815423Z",
     "iopub.status.idle": "2022-07-16T06:47:25.819566Z",
     "shell.execute_reply": "2022-07-16T06:47:25.818926Z"
    },
    "lines_to_next_cell": 0,
    "papermill": {
     "duration": 0.014292,
     "end_time": "2022-07-16T06:47:25.824015",
     "exception": false,
     "start_time": "2022-07-16T06:47:25.809723",
     "status": "completed"
    },
    "tags": []
   },
   "outputs": [],
   "source": [
    "# -----------------------------------------------------------------------"
   ]
  },
  {
   "cell_type": "markdown",
   "id": "0e965051",
   "metadata": {
    "papermill": {
     "duration": 0.005093,
     "end_time": "2022-07-16T06:47:25.834996",
     "exception": false,
     "start_time": "2022-07-16T06:47:25.829903",
     "status": "completed"
    },
    "tags": []
   },
   "source": [
    "---"
   ]
  },
  {
   "cell_type": "markdown",
   "id": "5ecc6558",
   "metadata": {
    "lines_to_next_cell": 2,
    "papermill": {
     "duration": 0.004872,
     "end_time": "2022-07-16T06:47:25.845348",
     "exception": false,
     "start_time": "2022-07-16T06:47:25.840476",
     "status": "completed"
    },
    "tags": []
   },
   "source": [
    "### Notebook code"
   ]
  },
  {
   "cell_type": "code",
   "execution_count": 5,
   "id": "0d226d6c",
   "metadata": {
    "execution": {
     "iopub.execute_input": "2022-07-16T06:47:25.856932Z",
     "iopub.status.busy": "2022-07-16T06:47:25.856622Z",
     "iopub.status.idle": "2022-07-16T06:47:27.198774Z",
     "shell.execute_reply": "2022-07-16T06:47:27.197779Z"
    },
    "papermill": {
     "duration": 1.35024,
     "end_time": "2022-07-16T06:47:27.201044",
     "exception": false,
     "start_time": "2022-07-16T06:47:25.850804",
     "status": "completed"
    },
    "tags": []
   },
   "outputs": [
    {
     "name": "stderr",
     "output_type": "stream",
     "text": [
      "2022-07-16 06:47:27,007\tINFO worker.py:842 -- Connecting to existing Ray cluster at address: 172.17.0.2:6379\n"
     ]
    }
   ],
   "source": [
    "import itertools as it\n",
    "\n",
    "#\n",
    "import numpy as np\n",
    "import matplotlib.pyplot as plt\n",
    "\n",
    "#\n",
    "from pynb_dag_runner.tasks.task_opentelemetry_logging import PydarLogger\n",
    "\n",
    "#\n",
    "from common.io import datalake_root\n",
    "\n",
    "logger = PydarLogger(P)"
   ]
  },
  {
   "cell_type": "markdown",
   "id": "b54bbce7",
   "metadata": {
    "papermill": {
     "duration": 0.004862,
     "end_time": "2022-07-16T06:47:27.210795",
     "exception": false,
     "start_time": "2022-07-16T06:47:27.205933",
     "status": "completed"
    },
    "tags": []
   },
   "source": [
    "## Load persisted onnx-model and evaluation data"
   ]
  },
  {
   "cell_type": "code",
   "execution_count": 6,
   "id": "47065682",
   "metadata": {
    "execution": {
     "iopub.execute_input": "2022-07-16T06:47:27.226993Z",
     "iopub.status.busy": "2022-07-16T06:47:27.225677Z",
     "iopub.status.idle": "2022-07-16T06:47:27.232303Z",
     "shell.execute_reply": "2022-07-16T06:47:27.231222Z"
    },
    "papermill": {
     "duration": 0.019276,
     "end_time": "2022-07-16T06:47:27.234388",
     "exception": false,
     "start_time": "2022-07-16T06:47:27.215112",
     "status": "completed"
    },
    "tags": []
   },
   "outputs": [],
   "source": [
    "from common.io import read_onnx, get_onnx_inputs, get_onnx_outputs, read_numpy"
   ]
  },
  {
   "cell_type": "code",
   "execution_count": 7,
   "id": "c2564a57",
   "metadata": {
    "execution": {
     "iopub.execute_input": "2022-07-16T06:47:27.248645Z",
     "iopub.status.busy": "2022-07-16T06:47:27.247778Z",
     "iopub.status.idle": "2022-07-16T06:47:27.259356Z",
     "shell.execute_reply": "2022-07-16T06:47:27.258719Z"
    },
    "lines_to_next_cell": 0,
    "papermill": {
     "duration": 0.019483,
     "end_time": "2022-07-16T06:47:27.261039",
     "exception": false,
     "start_time": "2022-07-16T06:47:27.241556",
     "status": "completed"
    },
    "tags": []
   },
   "outputs": [],
   "source": [
    "onnx_inference_session = read_onnx(\n",
    "    datalake_root(P)\n",
    "    / \"models\"\n",
    "    / f\"nr_train_images={P['task.nr_train_images']}\"\n",
    "    / \"model.onnx\"\n",
    ")"
   ]
  },
  {
   "cell_type": "markdown",
   "id": "106e7ef8",
   "metadata": {
    "papermill": {
     "duration": 0.005048,
     "end_time": "2022-07-16T06:47:27.270701",
     "exception": false,
     "start_time": "2022-07-16T06:47:27.265653",
     "status": "completed"
    },
    "tags": []
   },
   "source": [
    "### Record structure of inputs and outputs for ONNX model\n",
    "\n",
    "(this should likely be done in training notebook)"
   ]
  },
  {
   "cell_type": "code",
   "execution_count": 8,
   "id": "b29ddbcb",
   "metadata": {
    "execution": {
     "iopub.execute_input": "2022-07-16T06:47:27.281598Z",
     "iopub.status.busy": "2022-07-16T06:47:27.280706Z",
     "iopub.status.idle": "2022-07-16T06:47:27.297658Z",
     "shell.execute_reply": "2022-07-16T06:47:27.296842Z"
    },
    "papermill": {
     "duration": 0.024383,
     "end_time": "2022-07-16T06:47:27.299737",
     "exception": false,
     "start_time": "2022-07-16T06:47:27.275354",
     "status": "completed"
    },
    "tags": []
   },
   "outputs": [
    {
     "name": "stdout",
     "output_type": "stream",
     "text": [
      "{\n",
      "  \"inputs\": [\n",
      "    {\n",
      "      \"name\": \"float_input_8x8_image\",\n",
      "      \"shape\": [\n",
      "        null,\n",
      "        64\n",
      "      ],\n",
      "      \"type\": \"tensor(float)\"\n",
      "    }\n",
      "  ],\n",
      "  \"outputs\": [\n",
      "    {\n",
      "      \"name\": \"output_label\",\n",
      "      \"shape\": [\n",
      "        null\n",
      "      ],\n",
      "      \"type\": \"tensor(int64)\"\n",
      "    },\n",
      "    {\n",
      "      \"name\": \"output_probability\",\n",
      "      \"shape\": [],\n",
      "      \"type\": \"seq(map(int64,tensor(float)))\"\n",
      "    }\n",
      "  ]\n",
      "}\n"
     ]
    }
   ],
   "source": [
    "import json\n",
    "\n",
    "onnx_io = json.dumps(\n",
    "    {\n",
    "        \"inputs\": get_onnx_inputs(onnx_inference_session),\n",
    "        \"outputs\": get_onnx_outputs(onnx_inference_session),\n",
    "    },\n",
    "    indent=2,\n",
    ")\n",
    "\n",
    "\n",
    "logger.log_artefact(\"onnx_io_structure.json\", onnx_io)\n",
    "print(onnx_io)"
   ]
  },
  {
   "cell_type": "markdown",
   "id": "fc43a468",
   "metadata": {
    "papermill": {
     "duration": 0.012958,
     "end_time": "2022-07-16T06:47:27.317893",
     "exception": false,
     "start_time": "2022-07-16T06:47:27.304935",
     "status": "completed"
    },
    "tags": []
   },
   "source": [
    "### Evaluate model performance on evaluation data set"
   ]
  },
  {
   "cell_type": "code",
   "execution_count": 9,
   "id": "6abde46e",
   "metadata": {
    "execution": {
     "iopub.execute_input": "2022-07-16T06:47:27.331999Z",
     "iopub.status.busy": "2022-07-16T06:47:27.331455Z",
     "iopub.status.idle": "2022-07-16T06:47:27.337659Z",
     "shell.execute_reply": "2022-07-16T06:47:27.336623Z"
    },
    "papermill": {
     "duration": 0.014839,
     "end_time": "2022-07-16T06:47:27.340241",
     "exception": false,
     "start_time": "2022-07-16T06:47:27.325402",
     "status": "completed"
    },
    "tags": []
   },
   "outputs": [],
   "source": [
    "# load evaluation data\n",
    "X_test = read_numpy(datalake_root(P) / \"test-data\" / \"digits.numpy\")\n",
    "y_test = read_numpy(datalake_root(P) / \"test-data\" / \"labels.numpy\")"
   ]
  },
  {
   "cell_type": "code",
   "execution_count": 10,
   "id": "0ed869d8",
   "metadata": {
    "execution": {
     "iopub.execute_input": "2022-07-16T06:47:27.352281Z",
     "iopub.status.busy": "2022-07-16T06:47:27.351805Z",
     "iopub.status.idle": "2022-07-16T06:47:27.371351Z",
     "shell.execute_reply": "2022-07-16T06:47:27.370733Z"
    },
    "papermill": {
     "duration": 0.027591,
     "end_time": "2022-07-16T06:47:27.373555",
     "exception": false,
     "start_time": "2022-07-16T06:47:27.345964",
     "status": "completed"
    },
    "tags": []
   },
   "outputs": [],
   "source": [
    "def get_model_outputs(X, onnx_inference_session):\n",
    "    y_pred_labels, y_pred_map = onnx_inference_session.run(\n",
    "        [\"output_label\", \"output_probability\"],\n",
    "        {\"float_input_8x8_image\": X.astype(np.float32)},\n",
    "    )\n",
    "    y_pred_probs = np.array(\n",
    "        [[probabilities[digit] for digit in range(10)] for probabilities in y_pred_map]\n",
    "    )\n",
    "\n",
    "    assert y_pred_labels.shape == (X.shape[0],)\n",
    "    assert y_pred_probs.shape == (X.shape[0], 10)\n",
    "\n",
    "    return y_pred_labels, y_pred_probs\n",
    "\n",
    "\n",
    "# Note: as shown in the training notebook, the predicted labels and probabilities\n",
    "# computed below need not be compatible.\n",
    "y_pred_labels_test, y_pred_probs_test = get_model_outputs(\n",
    "    X_test, onnx_inference_session\n",
    ")"
   ]
  },
  {
   "cell_type": "markdown",
   "id": "eaea1bdb",
   "metadata": {
    "papermill": {
     "duration": 0.005441,
     "end_time": "2022-07-16T06:47:27.383936",
     "exception": false,
     "start_time": "2022-07-16T06:47:27.378495",
     "status": "completed"
    },
    "tags": []
   },
   "source": [
    "### Confusion matrix"
   ]
  },
  {
   "cell_type": "code",
   "execution_count": 11,
   "id": "585782f0",
   "metadata": {
    "execution": {
     "iopub.execute_input": "2022-07-16T06:47:27.395477Z",
     "iopub.status.busy": "2022-07-16T06:47:27.395212Z",
     "iopub.status.idle": "2022-07-16T06:47:27.399250Z",
     "shell.execute_reply": "2022-07-16T06:47:27.398599Z"
    },
    "papermill": {
     "duration": 0.01365,
     "end_time": "2022-07-16T06:47:27.402478",
     "exception": false,
     "start_time": "2022-07-16T06:47:27.388828",
     "status": "completed"
    },
    "tags": []
   },
   "outputs": [],
   "source": [
    "# TODO"
   ]
  },
  {
   "cell_type": "markdown",
   "id": "ffca3c3e",
   "metadata": {
    "papermill": {
     "duration": 0.00606,
     "end_time": "2022-07-16T06:47:27.414050",
     "exception": false,
     "start_time": "2022-07-16T06:47:27.407990",
     "status": "completed"
    },
    "tags": []
   },
   "source": [
    "### Plot predicted probabilities for each classifier over all evaluation digit images"
   ]
  },
  {
   "cell_type": "code",
   "execution_count": 12,
   "id": "3ae479a0",
   "metadata": {
    "execution": {
     "iopub.execute_input": "2022-07-16T06:47:27.426108Z",
     "iopub.status.busy": "2022-07-16T06:47:27.425816Z",
     "iopub.status.idle": "2022-07-16T06:47:30.973945Z",
     "shell.execute_reply": "2022-07-16T06:47:30.973334Z"
    },
    "papermill": {
     "duration": 3.556528,
     "end_time": "2022-07-16T06:47:30.975814",
     "exception": false,
     "start_time": "2022-07-16T06:47:27.419286",
     "status": "completed"
    },
    "tags": []
   },
   "outputs": [
    {
     "data": {
      "image/png": "[encoded data removed]",
      "text/plain": [
       "<Figure size 1152x432 with 10 Axes>"
      ]
     },
     "metadata": {
      "needs_background": "light"
     },
     "output_type": "display_data"
    }
   ],
   "source": [
    "def plot_per_digit_probabilities(y_pred_probs):\n",
    "    fig, axs = plt.subplots(nrows=2, ncols=5, figsize=(16, 6))\n",
    "\n",
    "    for (r, c), digit, ax in zip(\n",
    "        it.product(range(2), range(5)), range(10), axs.reshape(-1)\n",
    "    ):\n",
    "        ax.hist(y_pred_probs_test[:, digit], bins=20)\n",
    "\n",
    "        ax.set_title(f\"Digit {digit}\")\n",
    "        if r == 1 and c == 2:\n",
    "            ax.set_xlabel(\"probability\", fontsize=16)\n",
    "\n",
    "        if c == 0:\n",
    "            ax.set_ylabel(\"counts\", fontsize=16)\n",
    "        ax.set_yscale(\"log\")\n",
    "\n",
    "    fig.tight_layout()\n",
    "    fig.suptitle(\n",
    "        f\"Distributions of prediction probabilities for each digit \"\n",
    "        f\"(on evaluation data, n={y_pred_probs.shape[0]})\",\n",
    "        fontsize=20,\n",
    "    )\n",
    "    fig.tight_layout()\n",
    "    fig.show()\n",
    "\n",
    "    return fig\n",
    "\n",
    "\n",
    "fig = plot_per_digit_probabilities(y_pred_probs_test)"
   ]
  },
  {
   "cell_type": "markdown",
   "id": "4d5e78a4",
   "metadata": {
    "papermill": {
     "duration": 0.005884,
     "end_time": "2022-07-16T06:47:30.991000",
     "exception": false,
     "start_time": "2022-07-16T06:47:30.985116",
     "status": "completed"
    },
    "tags": []
   },
   "source": [
    "From the above distributions we see that most digits have clear separation between\n",
    "high and lower probabilities. Morover, in each case there is roughly an order of\n",
    "magnitude more of digits with low probabilities. This is compatible with digits\n",
    "being roughly evenly distributed in the data."
   ]
  },
  {
   "cell_type": "code",
   "execution_count": 13,
   "id": "61ca4695",
   "metadata": {
    "execution": {
     "iopub.execute_input": "2022-07-16T06:47:31.004871Z",
     "iopub.status.busy": "2022-07-16T06:47:31.004283Z",
     "iopub.status.idle": "2022-07-16T06:47:31.539806Z",
     "shell.execute_reply": "2022-07-16T06:47:31.538382Z"
    },
    "papermill": {
     "duration": 0.545893,
     "end_time": "2022-07-16T06:47:31.542576",
     "exception": false,
     "start_time": "2022-07-16T06:47:30.996683",
     "status": "completed"
    },
    "tags": []
   },
   "outputs": [],
   "source": [
    "logger.log_figure(\"per-digit-probabilities.png\", fig)"
   ]
  },
  {
   "cell_type": "markdown",
   "id": "69a34ad0",
   "metadata": {
    "papermill": {
     "duration": 0.006401,
     "end_time": "2022-07-16T06:47:31.555224",
     "exception": false,
     "start_time": "2022-07-16T06:47:31.548823",
     "status": "completed"
    },
    "tags": []
   },
   "source": [
    "### Plot ROC curves for individual one-vs-rest classifiers"
   ]
  },
  {
   "cell_type": "code",
   "execution_count": 14,
   "id": "871172f2",
   "metadata": {
    "execution": {
     "iopub.execute_input": "2022-07-16T06:47:31.568563Z",
     "iopub.status.busy": "2022-07-16T06:47:31.568101Z",
     "iopub.status.idle": "2022-07-16T06:47:32.070991Z",
     "shell.execute_reply": "2022-07-16T06:47:32.070053Z"
    },
    "papermill": {
     "duration": 0.514173,
     "end_time": "2022-07-16T06:47:32.075346",
     "exception": false,
     "start_time": "2022-07-16T06:47:31.561173",
     "status": "completed"
    },
    "tags": []
   },
   "outputs": [],
   "source": [
    "from sklearn import metrics"
   ]
  },
  {
   "cell_type": "code",
   "execution_count": 15,
   "id": "470cf024",
   "metadata": {
    "execution": {
     "iopub.execute_input": "2022-07-16T06:47:32.090694Z",
     "iopub.status.busy": "2022-07-16T06:47:32.090318Z",
     "iopub.status.idle": "2022-07-16T06:47:33.330207Z",
     "shell.execute_reply": "2022-07-16T06:47:33.329264Z"
    },
    "papermill": {
     "duration": 1.249543,
     "end_time": "2022-07-16T06:47:33.332537",
     "exception": false,
     "start_time": "2022-07-16T06:47:32.082994",
     "status": "completed"
    },
    "tags": []
   },
   "outputs": [
    {
     "data": {
      "image/png": "[encoded data removed]",
      "text/plain": [
       "<Figure size 1152x576 with 10 Axes>"
      ]
     },
     "metadata": {
      "needs_background": "light"
     },
     "output_type": "display_data"
    }
   ],
   "source": [
    "def plot_roc_curves(y, y_pred_probs):\n",
    "    # based on example code\n",
    "    # https://scikit-learn.org/stable/auto_examples/model_selection/plot_roc.html\n",
    "\n",
    "    fig, axs = plt.subplots(nrows=2, ncols=5, figsize=(16, 8))\n",
    "\n",
    "    roc_auc_dict = {}\n",
    "\n",
    "    for (r, c), digit, ax in zip(\n",
    "        it.product(range(2), range(5)), range(10), axs.reshape(-1)\n",
    "    ):\n",
    "        fpr, tpr, _ = metrics.roc_curve(y == digit, y_pred_probs[:, digit])\n",
    "        auc = metrics.auc(fpr, tpr)\n",
    "        roc_auc_dict[str(digit)] = auc\n",
    "\n",
    "        ax.plot(fpr, tpr, label=f\"ROC AUC={round(auc, 3)}\")\n",
    "\n",
    "        ax.set_title(f\"\\nDigit {digit}\", fontsize=16)\n",
    "        if r == 1:\n",
    "            ax.set_xlabel(\"FPR\", fontsize=18)\n",
    "\n",
    "        if c == 0:\n",
    "            ax.set_ylabel(\"TPR\", fontsize=18)\n",
    "\n",
    "        ax.set_xlim([-0.05, 1.05])\n",
    "        ax.set_ylim([-0.05, 1.05])\n",
    "        ax.legend(loc=\"lower right\", frameon=False, fontsize=14)\n",
    "\n",
    "    fig.tight_layout()\n",
    "    fig.suptitle(\n",
    "        f\"ROC plots for one-vs-rest performances \"\n",
    "        f\"(on evaluation data, n={y_pred_probs_test.shape[1]}\",\n",
    "        fontsize=22,\n",
    "    )\n",
    "    fig.tight_layout()\n",
    "    fig.show()\n",
    "\n",
    "    return roc_auc_dict, fig\n",
    "\n",
    "\n",
    "roc_auc_dict, fig = plot_roc_curves(y_test, y_pred_probs_test)"
   ]
  },
  {
   "cell_type": "code",
   "execution_count": 16,
   "id": "bd7a7cca",
   "metadata": {
    "execution": {
     "iopub.execute_input": "2022-07-16T06:47:33.349339Z",
     "iopub.status.busy": "2022-07-16T06:47:33.348695Z",
     "iopub.status.idle": "2022-07-16T06:47:33.617704Z",
     "shell.execute_reply": "2022-07-16T06:47:33.616712Z"
    },
    "papermill": {
     "duration": 0.279317,
     "end_time": "2022-07-16T06:47:33.619723",
     "exception": false,
     "start_time": "2022-07-16T06:47:33.340406",
     "status": "completed"
    },
    "tags": []
   },
   "outputs": [],
   "source": [
    "logger.log_figure(\"per-digit-roc-curves.png\", fig)"
   ]
  },
  {
   "cell_type": "code",
   "execution_count": 17,
   "id": "8bf81c41",
   "metadata": {
    "execution": {
     "iopub.execute_input": "2022-07-16T06:47:33.636248Z",
     "iopub.status.busy": "2022-07-16T06:47:33.635689Z",
     "iopub.status.idle": "2022-07-16T06:47:33.642078Z",
     "shell.execute_reply": "2022-07-16T06:47:33.640702Z"
    },
    "papermill": {
     "duration": 0.017844,
     "end_time": "2022-07-16T06:47:33.645616",
     "exception": false,
     "start_time": "2022-07-16T06:47:33.627772",
     "status": "completed"
    },
    "tags": []
   },
   "outputs": [
    {
     "data": {
      "text/plain": [
       "{'0': 1.0,\n",
       " '1': 0.9991002811621369,\n",
       " '2': 1.0,\n",
       " '3': 0.9998125585754452,\n",
       " '4': 0.9990855052583447,\n",
       " '5': 0.998875351452671,\n",
       " '6': 0.999923792104862,\n",
       " '7': 0.9998475842097241,\n",
       " '8': 0.9947588272383354,\n",
       " '9': 0.9987806736777931}"
      ]
     },
     "execution_count": 17,
     "metadata": {},
     "output_type": "execute_result"
    }
   ],
   "source": [
    "roc_auc_dict"
   ]
  },
  {
   "cell_type": "code",
   "execution_count": 18,
   "id": "4afd3fe0",
   "metadata": {
    "execution": {
     "iopub.execute_input": "2022-07-16T06:47:33.660685Z",
     "iopub.status.busy": "2022-07-16T06:47:33.660245Z",
     "iopub.status.idle": "2022-07-16T06:47:33.665445Z",
     "shell.execute_reply": "2022-07-16T06:47:33.664341Z"
    },
    "papermill": {
     "duration": 0.017051,
     "end_time": "2022-07-16T06:47:33.669010",
     "exception": false,
     "start_time": "2022-07-16T06:47:33.651959",
     "status": "completed"
    },
    "tags": []
   },
   "outputs": [
    {
     "name": "stdout",
     "output_type": "stream",
     "text": [
      " - Logging roc_auc_per_digit (json) : {'0': 1.0, '1': 0.9991002811621369, '2': 1.0, '3': 0.9998125585754452, '4': 0.9990855052583447, '5': 0.998875351452671, '6': 0.999923792104862, '7': 0.9998475842097241, '8': 0.9947588272383354, '9': 0.9987806736777931}\n"
     ]
    }
   ],
   "source": [
    "logger.log_value(\"roc_auc_per_digit\", roc_auc_dict)"
   ]
  },
  {
   "cell_type": "markdown",
   "id": "8c9e754a",
   "metadata": {
    "papermill": {
     "duration": 0.006827,
     "end_time": "2022-07-16T06:47:33.683331",
     "exception": false,
     "start_time": "2022-07-16T06:47:33.676504",
     "status": "completed"
    },
    "tags": []
   },
   "source": [
    "### Compute and log mean ROC AUC score averaged over all digits"
   ]
  },
  {
   "cell_type": "code",
   "execution_count": 19,
   "id": "09ca758f",
   "metadata": {
    "execution": {
     "iopub.execute_input": "2022-07-16T06:47:33.705935Z",
     "iopub.status.busy": "2022-07-16T06:47:33.705360Z",
     "iopub.status.idle": "2022-07-16T06:47:33.722897Z",
     "shell.execute_reply": "2022-07-16T06:47:33.722111Z"
    },
    "papermill": {
     "duration": 0.034502,
     "end_time": "2022-07-16T06:47:33.724947",
     "exception": false,
     "start_time": "2022-07-16T06:47:33.690445",
     "status": "completed"
    },
    "tags": []
   },
   "outputs": [
    {
     "name": "stdout",
     "output_type": "stream",
     "text": [
      " - Logging roc_auc_class_mean (float) : 0.9990184573679313\n"
     ]
    }
   ],
   "source": [
    "roc_auc_macro = np.mean(list(roc_auc_dict.values()))\n",
    "\n",
    "logger.log_float(\"roc_auc_class_mean\", roc_auc_macro)\n",
    "\n",
    "# assert that the same value can be computed directly using sklearn\n",
    "assert roc_auc_macro == metrics.roc_auc_score(\n",
    "    y_test, y_pred_probs_test, average=\"macro\", multi_class=\"ovr\"\n",
    ")"
   ]
  },
  {
   "cell_type": "code",
   "execution_count": 20,
   "id": "5782df2c",
   "metadata": {
    "execution": {
     "iopub.execute_input": "2022-07-16T06:47:33.740803Z",
     "iopub.status.busy": "2022-07-16T06:47:33.740374Z",
     "iopub.status.idle": "2022-07-16T06:47:33.744105Z",
     "shell.execute_reply": "2022-07-16T06:47:33.743326Z"
    },
    "lines_to_next_cell": 0,
    "papermill": {
     "duration": 0.014258,
     "end_time": "2022-07-16T06:47:33.746587",
     "exception": false,
     "start_time": "2022-07-16T06:47:33.732329",
     "status": "completed"
    },
    "tags": []
   },
   "outputs": [],
   "source": [
    "# ---"
   ]
  },
  {
   "cell_type": "code",
   "execution_count": null,
   "id": "7616eb3d",
   "metadata": {
    "papermill": {
     "duration": 0.007171,
     "end_time": "2022-07-16T06:47:33.760724",
     "exception": false,
     "start_time": "2022-07-16T06:47:33.753553",
     "status": "completed"
    },
    "tags": []
   },
   "outputs": [],
   "source": []
  }
 ],
 "metadata": {
  "jupytext": {
   "cell_metadata_filter": "tags,-all",
   "main_language": "python",
   "notebook_metadata_filter": "-all"
  },
  "language_info": {
   "codemirror_mode": {
    "name": "ipython",
    "version": 3
   },
   "file_extension": ".py",
   "mimetype": "text/x-python",
   "name": "python",
   "nbconvert_exporter": "python",
   "pygments_lexer": "ipython3",
   "version": "3.8.10"
  },
  "papermill": {
   "default_parameters": {},
   "duration": 11.292188,
   "end_time": "2022-07-16T06:47:34.888681",
   "environment_variables": {},
   "exception": null,
   "input_path": "/home/host_user/workspace/mnist-demo-pipeline/mnist-demo-pipeline/notebooks/temp-notebook-_lt_cuhh.ipynb",
   "output_path": "notebooks/benchmark-model.ipynb",
   "parameters": {
    "P": {
     "_opentelemetry_traceparent": "00-6f8471823b5f6a3b870911db23186f45-605b6a9850afae50-01",
     "pipeline.data_lake_root": "/pipeline-outputs/data-lake",
     "pipeline.github.actor": "matiasdahl",
     "pipeline.github.base_ref": "",
     "pipeline.github.event_name": "schedule",
     "pipeline.github.head_ref": "",
     "pipeline.github.job": "run-tests-pipeline-and-persist-pipeline-outputs",
     "pipeline.github.ref": "refs/heads/development",
     "pipeline.github.ref_name": "development",
     "pipeline.github.ref_type": "branch",
     "pipeline.github.repository": "pynb-dag-runner/mnist-digits-demo-pipeline",
     "pipeline.github.run_id": "2680962793",
     "pipeline.github.runner_name": "Hosted Agent",
     "pipeline.github.sha": "147a1be9916173fd4d2cd011d8d51e3411215850",
     "pipeline.github.workflow": "Run automated tests, pipeline and deploy results to static reporting site",
     "pipeline.pipeline_run_id": "247af893-d42b-4a6d-89ab-ddae831995f2",
     "pipeline.run_environment": "ci",
     "run.retry_nr": "0",
     "task.max_nr_retries": "1",
     "task.notebook": "notebooks/benchmark-model.py",
     "task.nr_train_images": 600,
     "task.num_cpus": 1,
     "task.timeout_s": "None"
    }
   },
   "start_time": "2022-07-16T06:47:23.596493",
   "version": "2.3.3"
  }
 },
 "nbformat": 4,
 "nbformat_minor": 5
}