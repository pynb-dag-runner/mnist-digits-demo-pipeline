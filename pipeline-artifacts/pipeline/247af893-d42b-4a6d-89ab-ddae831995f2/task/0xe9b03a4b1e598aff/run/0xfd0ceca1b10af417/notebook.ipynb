{
 "cells": [
  {
   "cell_type": "markdown",
   "id": "cf3b1022",
   "metadata": {
    "papermill": {
     "duration": 0.00731,
     "end_time": "2022-07-16T06:47:30.506349",
     "exception": false,
     "start_time": "2022-07-16T06:47:30.499039",
     "status": "completed"
    },
    "tags": []
   },
   "source": [
    "# Benchmark model\n",
    "\n",
    "The purpose of this notebook is to benchmark persisted onnx-model (trained in the\n",
    "previous step) against evaluation set."
   ]
  },
  {
   "cell_type": "markdown",
   "id": "e1577820",
   "metadata": {
    "papermill": {
     "duration": 0.005611,
     "end_time": "2022-07-16T06:47:30.517104",
     "exception": false,
     "start_time": "2022-07-16T06:47:30.511493",
     "status": "completed"
    },
    "tags": []
   },
   "source": [
    "### Determine run parameters"
   ]
  },
  {
   "cell_type": "code",
   "execution_count": 1,
   "id": "3bda661f",
   "metadata": {
    "execution": {
     "iopub.execute_input": "2022-07-16T06:47:30.529078Z",
     "iopub.status.busy": "2022-07-16T06:47:30.528692Z",
     "iopub.status.idle": "2022-07-16T06:47:30.540344Z",
     "shell.execute_reply": "2022-07-16T06:47:30.539650Z"
    },
    "lines_to_next_cell": 0,
    "papermill": {
     "duration": 0.020865,
     "end_time": "2022-07-16T06:47:30.542767",
     "exception": false,
     "start_time": "2022-07-16T06:47:30.521902",
     "status": "completed"
    },
    "tags": []
   },
   "outputs": [],
   "source": [
    "# ----------------- Parameters for interactive development --------------\n",
    "P = {\n",
    "    \"pipeline.data_lake_root\": \"/pipeline-outputs/data-lake\",\n",
    "    \"task.nr_train_images\": 600,\n",
    "}"
   ]
  },
  {
   "cell_type": "code",
   "execution_count": 2,
   "id": "b2523cd1",
   "metadata": {
    "execution": {
     "iopub.execute_input": "2022-07-16T06:47:30.561234Z",
     "iopub.status.busy": "2022-07-16T06:47:30.561005Z",
     "iopub.status.idle": "2022-07-16T06:47:30.565457Z",
     "shell.execute_reply": "2022-07-16T06:47:30.564360Z"
    },
    "lines_to_next_cell": 0,
    "papermill": {
     "duration": 0.020732,
     "end_time": "2022-07-16T06:47:30.568625",
     "exception": false,
     "start_time": "2022-07-16T06:47:30.547893",
     "status": "completed"
    },
    "tags": [
     "parameters"
    ]
   },
   "outputs": [],
   "source": [
    "# - During automated runs parameters will be injected in the below cell -"
   ]
  },
  {
   "cell_type": "code",
   "execution_count": 3,
   "id": "7e5400fd",
   "metadata": {
    "execution": {
     "iopub.execute_input": "2022-07-16T06:47:30.580002Z",
     "iopub.status.busy": "2022-07-16T06:47:30.579762Z",
     "iopub.status.idle": "2022-07-16T06:47:30.585685Z",
     "shell.execute_reply": "2022-07-16T06:47:30.584613Z"
    },
    "papermill": {
     "duration": 0.015407,
     "end_time": "2022-07-16T06:47:30.588681",
     "exception": false,
     "start_time": "2022-07-16T06:47:30.573274",
     "status": "completed"
    },
    "tags": [
     "injected-parameters"
    ]
   },
   "outputs": [],
   "source": [
    "# Parameters\n",
    "P = {\n",
    "    \"pipeline.data_lake_root\": \"/pipeline-outputs/data-lake\",\n",
    "    \"pipeline.run_environment\": \"ci\",\n",
    "    \"pipeline.pipeline_run_id\": \"247af893-d42b-4a6d-89ab-ddae831995f2\",\n",
    "    \"pipeline.github.repository\": \"pynb-dag-runner/mnist-digits-demo-pipeline\",\n",
    "    \"pipeline.github.workflow\": \"Run automated tests, pipeline and deploy results to static reporting site\",\n",
    "    \"pipeline.github.runner_name\": \"Hosted Agent\",\n",
    "    \"pipeline.github.run_id\": \"2680962793\",\n",
    "    \"pipeline.github.actor\": \"matiasdahl\",\n",
    "    \"pipeline.github.job\": \"run-tests-pipeline-and-persist-pipeline-outputs\",\n",
    "    \"pipeline.github.base_ref\": \"\",\n",
    "    \"pipeline.github.head_ref\": \"\",\n",
    "    \"pipeline.github.sha\": \"147a1be9916173fd4d2cd011d8d51e3411215850\",\n",
    "    \"pipeline.github.ref\": \"refs/heads/development\",\n",
    "    \"pipeline.github.ref_type\": \"branch\",\n",
    "    \"pipeline.github.ref_name\": \"development\",\n",
    "    \"pipeline.github.event_name\": \"schedule\",\n",
    "    \"task.nr_train_images\": 1200,\n",
    "    \"task.notebook\": \"notebooks/benchmark-model.py\",\n",
    "    \"task.max_nr_retries\": \"1\",\n",
    "    \"run.retry_nr\": \"0\",\n",
    "    \"task.timeout_s\": \"None\",\n",
    "    \"task.num_cpus\": 1,\n",
    "    \"_opentelemetry_traceparent\": \"00-6f8471823b5f6a3b870911db23186f45-cb046963b3258303-01\",\n",
    "}\n"
   ]
  },
  {
   "cell_type": "code",
   "execution_count": 4,
   "id": "fee69b59",
   "metadata": {
    "execution": {
     "iopub.execute_input": "2022-07-16T06:47:30.602088Z",
     "iopub.status.busy": "2022-07-16T06:47:30.601822Z",
     "iopub.status.idle": "2022-07-16T06:47:30.606021Z",
     "shell.execute_reply": "2022-07-16T06:47:30.604898Z"
    },
    "lines_to_next_cell": 0,
    "papermill": {
     "duration": 0.014849,
     "end_time": "2022-07-16T06:47:30.608950",
     "exception": false,
     "start_time": "2022-07-16T06:47:30.594101",
     "status": "completed"
    },
    "tags": []
   },
   "outputs": [],
   "source": [
    "# -----------------------------------------------------------------------"
   ]
  },
  {
   "cell_type": "markdown",
   "id": "56e13d2e",
   "metadata": {
    "papermill": {
     "duration": 0.005404,
     "end_time": "2022-07-16T06:47:30.618574",
     "exception": false,
     "start_time": "2022-07-16T06:47:30.613170",
     "status": "completed"
    },
    "tags": []
   },
   "source": [
    "---"
   ]
  },
  {
   "cell_type": "markdown",
   "id": "4f21e962",
   "metadata": {
    "lines_to_next_cell": 2,
    "papermill": {
     "duration": 0.005311,
     "end_time": "2022-07-16T06:47:30.628237",
     "exception": false,
     "start_time": "2022-07-16T06:47:30.622926",
     "status": "completed"
    },
    "tags": []
   },
   "source": [
    "### Notebook code"
   ]
  },
  {
   "cell_type": "code",
   "execution_count": 5,
   "id": "26a1261d",
   "metadata": {
    "execution": {
     "iopub.execute_input": "2022-07-16T06:47:30.639124Z",
     "iopub.status.busy": "2022-07-16T06:47:30.638879Z",
     "iopub.status.idle": "2022-07-16T06:47:31.987171Z",
     "shell.execute_reply": "2022-07-16T06:47:31.986214Z"
    },
    "papermill": {
     "duration": 1.356887,
     "end_time": "2022-07-16T06:47:31.989396",
     "exception": false,
     "start_time": "2022-07-16T06:47:30.632509",
     "status": "completed"
    },
    "tags": []
   },
   "outputs": [
    {
     "name": "stderr",
     "output_type": "stream",
     "text": [
      "2022-07-16 06:47:31,802\tINFO worker.py:842 -- Connecting to existing Ray cluster at address: 172.17.0.2:6379\n"
     ]
    }
   ],
   "source": [
    "import itertools as it\n",
    "\n",
    "#\n",
    "import numpy as np\n",
    "import matplotlib.pyplot as plt\n",
    "\n",
    "#\n",
    "from pynb_dag_runner.tasks.task_opentelemetry_logging import PydarLogger\n",
    "\n",
    "#\n",
    "from common.io import datalake_root\n",
    "\n",
    "logger = PydarLogger(P)"
   ]
  },
  {
   "cell_type": "markdown",
   "id": "25efc969",
   "metadata": {
    "papermill": {
     "duration": 0.005097,
     "end_time": "2022-07-16T06:47:32.000004",
     "exception": false,
     "start_time": "2022-07-16T06:47:31.994907",
     "status": "completed"
    },
    "tags": []
   },
   "source": [
    "## Load persisted onnx-model and evaluation data"
   ]
  },
  {
   "cell_type": "code",
   "execution_count": 6,
   "id": "e52ccde2",
   "metadata": {
    "execution": {
     "iopub.execute_input": "2022-07-16T06:47:32.011188Z",
     "iopub.status.busy": "2022-07-16T06:47:32.010790Z",
     "iopub.status.idle": "2022-07-16T06:47:32.014841Z",
     "shell.execute_reply": "2022-07-16T06:47:32.014041Z"
    },
    "papermill": {
     "duration": 0.01272,
     "end_time": "2022-07-16T06:47:32.017784",
     "exception": false,
     "start_time": "2022-07-16T06:47:32.005064",
     "status": "completed"
    },
    "tags": []
   },
   "outputs": [],
   "source": [
    "from common.io import read_onnx, get_onnx_inputs, get_onnx_outputs, read_numpy"
   ]
  },
  {
   "cell_type": "code",
   "execution_count": 7,
   "id": "150acfa3",
   "metadata": {
    "execution": {
     "iopub.execute_input": "2022-07-16T06:47:32.030472Z",
     "iopub.status.busy": "2022-07-16T06:47:32.030185Z",
     "iopub.status.idle": "2022-07-16T06:47:32.042820Z",
     "shell.execute_reply": "2022-07-16T06:47:32.042217Z"
    },
    "lines_to_next_cell": 0,
    "papermill": {
     "duration": 0.020929,
     "end_time": "2022-07-16T06:47:32.044747",
     "exception": false,
     "start_time": "2022-07-16T06:47:32.023818",
     "status": "completed"
    },
    "tags": []
   },
   "outputs": [],
   "source": [
    "onnx_inference_session = read_onnx(\n",
    "    datalake_root(P)\n",
    "    / \"models\"\n",
    "    / f\"nr_train_images={P['task.nr_train_images']}\"\n",
    "    / \"model.onnx\"\n",
    ")"
   ]
  },
  {
   "cell_type": "markdown",
   "id": "50551ac2",
   "metadata": {
    "papermill": {
     "duration": 0.005079,
     "end_time": "2022-07-16T06:47:32.054923",
     "exception": false,
     "start_time": "2022-07-16T06:47:32.049844",
     "status": "completed"
    },
    "tags": []
   },
   "source": [
    "### Record structure of inputs and outputs for ONNX model\n",
    "\n",
    "(this should likely be done in training notebook)"
   ]
  },
  {
   "cell_type": "code",
   "execution_count": 8,
   "id": "302c4637",
   "metadata": {
    "execution": {
     "iopub.execute_input": "2022-07-16T06:47:32.065861Z",
     "iopub.status.busy": "2022-07-16T06:47:32.065599Z",
     "iopub.status.idle": "2022-07-16T06:47:32.074471Z",
     "shell.execute_reply": "2022-07-16T06:47:32.073129Z"
    },
    "papermill": {
     "duration": 0.017662,
     "end_time": "2022-07-16T06:47:32.077399",
     "exception": false,
     "start_time": "2022-07-16T06:47:32.059737",
     "status": "completed"
    },
    "tags": []
   },
   "outputs": [
    {
     "name": "stdout",
     "output_type": "stream",
     "text": [
      "{\n",
      "  \"inputs\": [\n",
      "    {\n",
      "      \"name\": \"float_input_8x8_image\",\n",
      "      \"shape\": [\n",
      "        null,\n",
      "        64\n",
      "      ],\n",
      "      \"type\": \"tensor(float)\"\n",
      "    }\n",
      "  ],\n",
      "  \"outputs\": [\n",
      "    {\n",
      "      \"name\": \"output_label\",\n",
      "      \"shape\": [\n",
      "        null\n",
      "      ],\n",
      "      \"type\": \"tensor(int64)\"\n",
      "    },\n",
      "    {\n",
      "      \"name\": \"output_probability\",\n",
      "      \"shape\": [],\n",
      "      \"type\": \"seq(map(int64,tensor(float)))\"\n",
      "    }\n",
      "  ]\n",
      "}\n"
     ]
    }
   ],
   "source": [
    "import json\n",
    "\n",
    "onnx_io = json.dumps(\n",
    "    {\n",
    "        \"inputs\": get_onnx_inputs(onnx_inference_session),\n",
    "        \"outputs\": get_onnx_outputs(onnx_inference_session),\n",
    "    },\n",
    "    indent=2,\n",
    ")\n",
    "\n",
    "\n",
    "logger.log_artefact(\"onnx_io_structure.json\", onnx_io)\n",
    "print(onnx_io)"
   ]
  },
  {
   "cell_type": "markdown",
   "id": "cabff254",
   "metadata": {
    "papermill": {
     "duration": 0.004985,
     "end_time": "2022-07-16T06:47:32.088446",
     "exception": false,
     "start_time": "2022-07-16T06:47:32.083461",
     "status": "completed"
    },
    "tags": []
   },
   "source": [
    "### Evaluate model performance on evaluation data set"
   ]
  },
  {
   "cell_type": "code",
   "execution_count": 9,
   "id": "a6be61b1",
   "metadata": {
    "execution": {
     "iopub.execute_input": "2022-07-16T06:47:32.102121Z",
     "iopub.status.busy": "2022-07-16T06:47:32.101708Z",
     "iopub.status.idle": "2022-07-16T06:47:32.107657Z",
     "shell.execute_reply": "2022-07-16T06:47:32.107002Z"
    },
    "papermill": {
     "duration": 0.015543,
     "end_time": "2022-07-16T06:47:32.109410",
     "exception": false,
     "start_time": "2022-07-16T06:47:32.093867",
     "status": "completed"
    },
    "tags": []
   },
   "outputs": [],
   "source": [
    "# load evaluation data\n",
    "X_test = read_numpy(datalake_root(P) / \"test-data\" / \"digits.numpy\")\n",
    "y_test = read_numpy(datalake_root(P) / \"test-data\" / \"labels.numpy\")"
   ]
  },
  {
   "cell_type": "code",
   "execution_count": 10,
   "id": "979dbbe9",
   "metadata": {
    "execution": {
     "iopub.execute_input": "2022-07-16T06:47:32.121386Z",
     "iopub.status.busy": "2022-07-16T06:47:32.121102Z",
     "iopub.status.idle": "2022-07-16T06:47:32.144909Z",
     "shell.execute_reply": "2022-07-16T06:47:32.144060Z"
    },
    "papermill": {
     "duration": 0.032911,
     "end_time": "2022-07-16T06:47:32.147986",
     "exception": false,
     "start_time": "2022-07-16T06:47:32.115075",
     "status": "completed"
    },
    "tags": []
   },
   "outputs": [],
   "source": [
    "def get_model_outputs(X, onnx_inference_session):\n",
    "    y_pred_labels, y_pred_map = onnx_inference_session.run(\n",
    "        [\"output_label\", \"output_probability\"],\n",
    "        {\"float_input_8x8_image\": X.astype(np.float32)},\n",
    "    )\n",
    "    y_pred_probs = np.array(\n",
    "        [[probabilities[digit] for digit in range(10)] for probabilities in y_pred_map]\n",
    "    )\n",
    "\n",
    "    assert y_pred_labels.shape == (X.shape[0],)\n",
    "    assert y_pred_probs.shape == (X.shape[0], 10)\n",
    "\n",
    "    return y_pred_labels, y_pred_probs\n",
    "\n",
    "\n",
    "# Note: as shown in the training notebook, the predicted labels and probabilities\n",
    "# computed below need not be compatible.\n",
    "y_pred_labels_test, y_pred_probs_test = get_model_outputs(\n",
    "    X_test, onnx_inference_session\n",
    ")"
   ]
  },
  {
   "cell_type": "markdown",
   "id": "36638779",
   "metadata": {
    "papermill": {
     "duration": 0.005344,
     "end_time": "2022-07-16T06:47:32.158869",
     "exception": false,
     "start_time": "2022-07-16T06:47:32.153525",
     "status": "completed"
    },
    "tags": []
   },
   "source": [
    "### Confusion matrix"
   ]
  },
  {
   "cell_type": "code",
   "execution_count": 11,
   "id": "f8ad0ccf",
   "metadata": {
    "execution": {
     "iopub.execute_input": "2022-07-16T06:47:32.170707Z",
     "iopub.status.busy": "2022-07-16T06:47:32.170440Z",
     "iopub.status.idle": "2022-07-16T06:47:32.173852Z",
     "shell.execute_reply": "2022-07-16T06:47:32.172930Z"
    },
    "papermill": {
     "duration": 0.012692,
     "end_time": "2022-07-16T06:47:32.176591",
     "exception": false,
     "start_time": "2022-07-16T06:47:32.163899",
     "status": "completed"
    },
    "tags": []
   },
   "outputs": [],
   "source": [
    "# TODO"
   ]
  },
  {
   "cell_type": "markdown",
   "id": "6ffd762a",
   "metadata": {
    "papermill": {
     "duration": 0.005317,
     "end_time": "2022-07-16T06:47:32.187148",
     "exception": false,
     "start_time": "2022-07-16T06:47:32.181831",
     "status": "completed"
    },
    "tags": []
   },
   "source": [
    "### Plot predicted probabilities for each classifier over all evaluation digit images"
   ]
  },
  {
   "cell_type": "code",
   "execution_count": 12,
   "id": "db7acb33",
   "metadata": {
    "execution": {
     "iopub.execute_input": "2022-07-16T06:47:32.199457Z",
     "iopub.status.busy": "2022-07-16T06:47:32.199204Z",
     "iopub.status.idle": "2022-07-16T06:47:35.888218Z",
     "shell.execute_reply": "2022-07-16T06:47:35.887300Z"
    },
    "papermill": {
     "duration": 3.697841,
     "end_time": "2022-07-16T06:47:35.890097",
     "exception": false,
     "start_time": "2022-07-16T06:47:32.192256",
     "status": "completed"
    },
    "tags": []
   },
   "outputs": [
    {
     "data": {
      "image/png": "[encoded data removed]",
      "text/plain": [
       "<Figure size 1152x432 with 10 Axes>"
      ]
     },
     "metadata": {
      "needs_background": "light"
     },
     "output_type": "display_data"
    }
   ],
   "source": [
    "def plot_per_digit_probabilities(y_pred_probs):\n",
    "    fig, axs = plt.subplots(nrows=2, ncols=5, figsize=(16, 6))\n",
    "\n",
    "    for (r, c), digit, ax in zip(\n",
    "        it.product(range(2), range(5)), range(10), axs.reshape(-1)\n",
    "    ):\n",
    "        ax.hist(y_pred_probs_test[:, digit], bins=20)\n",
    "\n",
    "        ax.set_title(f\"Digit {digit}\")\n",
    "        if r == 1 and c == 2:\n",
    "            ax.set_xlabel(\"probability\", fontsize=16)\n",
    "\n",
    "        if c == 0:\n",
    "            ax.set_ylabel(\"counts\", fontsize=16)\n",
    "        ax.set_yscale(\"log\")\n",
    "\n",
    "    fig.tight_layout()\n",
    "    fig.suptitle(\n",
    "        f\"Distributions of prediction probabilities for each digit \"\n",
    "        f\"(on evaluation data, n={y_pred_probs.shape[0]})\",\n",
    "        fontsize=20,\n",
    "    )\n",
    "    fig.tight_layout()\n",
    "    fig.show()\n",
    "\n",
    "    return fig\n",
    "\n",
    "\n",
    "fig = plot_per_digit_probabilities(y_pred_probs_test)"
   ]
  },
  {
   "cell_type": "markdown",
   "id": "c5fdc304",
   "metadata": {
    "papermill": {
     "duration": 0.005544,
     "end_time": "2022-07-16T06:47:35.901806",
     "exception": false,
     "start_time": "2022-07-16T06:47:35.896262",
     "status": "completed"
    },
    "tags": []
   },
   "source": [
    "From the above distributions we see that most digits have clear separation between\n",
    "high and lower probabilities. Morover, in each case there is roughly an order of\n",
    "magnitude more of digits with low probabilities. This is compatible with digits\n",
    "being roughly evenly distributed in the data."
   ]
  },
  {
   "cell_type": "code",
   "execution_count": 13,
   "id": "7f2d5de6",
   "metadata": {
    "execution": {
     "iopub.execute_input": "2022-07-16T06:47:35.914666Z",
     "iopub.status.busy": "2022-07-16T06:47:35.914165Z",
     "iopub.status.idle": "2022-07-16T06:47:36.395928Z",
     "shell.execute_reply": "2022-07-16T06:47:36.394676Z"
    },
    "papermill": {
     "duration": 0.490769,
     "end_time": "2022-07-16T06:47:36.398006",
     "exception": false,
     "start_time": "2022-07-16T06:47:35.907237",
     "status": "completed"
    },
    "tags": []
   },
   "outputs": [],
   "source": [
    "logger.log_figure(\"per-digit-probabilities.png\", fig)"
   ]
  },
  {
   "cell_type": "markdown",
   "id": "e5c39fe1",
   "metadata": {
    "papermill": {
     "duration": 0.005757,
     "end_time": "2022-07-16T06:47:36.409424",
     "exception": false,
     "start_time": "2022-07-16T06:47:36.403667",
     "status": "completed"
    },
    "tags": []
   },
   "source": [
    "### Plot ROC curves for individual one-vs-rest classifiers"
   ]
  },
  {
   "cell_type": "code",
   "execution_count": 14,
   "id": "573be1e8",
   "metadata": {
    "execution": {
     "iopub.execute_input": "2022-07-16T06:47:36.422449Z",
     "iopub.status.busy": "2022-07-16T06:47:36.421960Z",
     "iopub.status.idle": "2022-07-16T06:47:36.863942Z",
     "shell.execute_reply": "2022-07-16T06:47:36.862967Z"
    },
    "papermill": {
     "duration": 0.450759,
     "end_time": "2022-07-16T06:47:36.866322",
     "exception": false,
     "start_time": "2022-07-16T06:47:36.415563",
     "status": "completed"
    },
    "tags": []
   },
   "outputs": [],
   "source": [
    "from sklearn import metrics"
   ]
  },
  {
   "cell_type": "code",
   "execution_count": 15,
   "id": "abe27820",
   "metadata": {
    "execution": {
     "iopub.execute_input": "2022-07-16T06:47:36.879207Z",
     "iopub.status.busy": "2022-07-16T06:47:36.878653Z",
     "iopub.status.idle": "2022-07-16T06:47:38.054314Z",
     "shell.execute_reply": "2022-07-16T06:47:38.053322Z"
    },
    "papermill": {
     "duration": 1.18454,
     "end_time": "2022-07-16T06:47:38.056489",
     "exception": false,
     "start_time": "2022-07-16T06:47:36.871949",
     "status": "completed"
    },
    "tags": []
   },
   "outputs": [
    {
     "data": {
      "image/png": "[encoded data removed]",
      "text/plain": [
       "<Figure size 1152x576 with 10 Axes>"
      ]
     },
     "metadata": {
      "needs_background": "light"
     },
     "output_type": "display_data"
    }
   ],
   "source": [
    "def plot_roc_curves(y, y_pred_probs):\n",
    "    # based on example code\n",
    "    # https://scikit-learn.org/stable/auto_examples/model_selection/plot_roc.html\n",
    "\n",
    "    fig, axs = plt.subplots(nrows=2, ncols=5, figsize=(16, 8))\n",
    "\n",
    "    roc_auc_dict = {}\n",
    "\n",
    "    for (r, c), digit, ax in zip(\n",
    "        it.product(range(2), range(5)), range(10), axs.reshape(-1)\n",
    "    ):\n",
    "        fpr, tpr, _ = metrics.roc_curve(y == digit, y_pred_probs[:, digit])\n",
    "        auc = metrics.auc(fpr, tpr)\n",
    "        roc_auc_dict[str(digit)] = auc\n",
    "\n",
    "        ax.plot(fpr, tpr, label=f\"ROC AUC={round(auc, 3)}\")\n",
    "\n",
    "        ax.set_title(f\"\\nDigit {digit}\", fontsize=16)\n",
    "        if r == 1:\n",
    "            ax.set_xlabel(\"FPR\", fontsize=18)\n",
    "\n",
    "        if c == 0:\n",
    "            ax.set_ylabel(\"TPR\", fontsize=18)\n",
    "\n",
    "        ax.set_xlim([-0.05, 1.05])\n",
    "        ax.set_ylim([-0.05, 1.05])\n",
    "        ax.legend(loc=\"lower right\", frameon=False, fontsize=14)\n",
    "\n",
    "    fig.tight_layout()\n",
    "    fig.suptitle(\n",
    "        f\"ROC plots for one-vs-rest performances \"\n",
    "        f\"(on evaluation data, n={y_pred_probs_test.shape[1]}\",\n",
    "        fontsize=22,\n",
    "    )\n",
    "    fig.tight_layout()\n",
    "    fig.show()\n",
    "\n",
    "    return roc_auc_dict, fig\n",
    "\n",
    "\n",
    "roc_auc_dict, fig = plot_roc_curves(y_test, y_pred_probs_test)"
   ]
  },
  {
   "cell_type": "code",
   "execution_count": 16,
   "id": "0cb160e4",
   "metadata": {
    "execution": {
     "iopub.execute_input": "2022-07-16T06:47:38.071433Z",
     "iopub.status.busy": "2022-07-16T06:47:38.070896Z",
     "iopub.status.idle": "2022-07-16T06:47:38.337826Z",
     "shell.execute_reply": "2022-07-16T06:47:38.336870Z"
    },
    "papermill": {
     "duration": 0.27668,
     "end_time": "2022-07-16T06:47:38.340003",
     "exception": false,
     "start_time": "2022-07-16T06:47:38.063323",
     "status": "completed"
    },
    "tags": []
   },
   "outputs": [],
   "source": [
    "logger.log_figure(\"per-digit-roc-curves.png\", fig)"
   ]
  },
  {
   "cell_type": "code",
   "execution_count": 17,
   "id": "0b8b537a",
   "metadata": {
    "execution": {
     "iopub.execute_input": "2022-07-16T06:47:38.354464Z",
     "iopub.status.busy": "2022-07-16T06:47:38.353999Z",
     "iopub.status.idle": "2022-07-16T06:47:38.359476Z",
     "shell.execute_reply": "2022-07-16T06:47:38.358921Z"
    },
    "papermill": {
     "duration": 0.015326,
     "end_time": "2022-07-16T06:47:38.362069",
     "exception": false,
     "start_time": "2022-07-16T06:47:38.346743",
     "status": "completed"
    },
    "tags": []
   },
   "outputs": [
    {
     "data": {
      "text/plain": [
       "{'0': 1.0,\n",
       " '1': 0.9990627928772259,\n",
       " '2': 1.0,\n",
       " '3': 0.9998500468603562,\n",
       " '4': 0.9997332723670173,\n",
       " '5': 0.9996626054358013,\n",
       " '6': 0.999923792104862,\n",
       " '7': 0.9998475842097242,\n",
       " '8': 0.9958228247162674,\n",
       " '9': 0.9997713763145862}"
      ]
     },
     "execution_count": 17,
     "metadata": {},
     "output_type": "execute_result"
    }
   ],
   "source": [
    "roc_auc_dict"
   ]
  },
  {
   "cell_type": "code",
   "execution_count": 18,
   "id": "548fb11d",
   "metadata": {
    "execution": {
     "iopub.execute_input": "2022-07-16T06:47:38.376452Z",
     "iopub.status.busy": "2022-07-16T06:47:38.376165Z",
     "iopub.status.idle": "2022-07-16T06:47:38.380448Z",
     "shell.execute_reply": "2022-07-16T06:47:38.379791Z"
    },
    "papermill": {
     "duration": 0.013641,
     "end_time": "2022-07-16T06:47:38.382259",
     "exception": false,
     "start_time": "2022-07-16T06:47:38.368618",
     "status": "completed"
    },
    "tags": []
   },
   "outputs": [
    {
     "name": "stdout",
     "output_type": "stream",
     "text": [
      " - Logging roc_auc_per_digit (json) : {'0': 1.0, '1': 0.9990627928772259, '2': 1.0, '3': 0.9998500468603562, '4': 0.9997332723670173, '5': 0.9996626054358013, '6': 0.999923792104862, '7': 0.9998475842097242, '8': 0.9958228247162674, '9': 0.9997713763145862}\n"
     ]
    }
   ],
   "source": [
    "logger.log_value(\"roc_auc_per_digit\", roc_auc_dict)"
   ]
  },
  {
   "cell_type": "markdown",
   "id": "a2f07124",
   "metadata": {
    "papermill": {
     "duration": 0.006329,
     "end_time": "2022-07-16T06:47:38.394814",
     "exception": false,
     "start_time": "2022-07-16T06:47:38.388485",
     "status": "completed"
    },
    "tags": []
   },
   "source": [
    "### Compute and log mean ROC AUC score averaged over all digits"
   ]
  },
  {
   "cell_type": "code",
   "execution_count": 19,
   "id": "493faa5e",
   "metadata": {
    "execution": {
     "iopub.execute_input": "2022-07-16T06:47:38.408747Z",
     "iopub.status.busy": "2022-07-16T06:47:38.408106Z",
     "iopub.status.idle": "2022-07-16T06:47:38.422394Z",
     "shell.execute_reply": "2022-07-16T06:47:38.421721Z"
    },
    "papermill": {
     "duration": 0.023369,
     "end_time": "2022-07-16T06:47:38.424547",
     "exception": false,
     "start_time": "2022-07-16T06:47:38.401178",
     "status": "completed"
    },
    "tags": []
   },
   "outputs": [
    {
     "name": "stdout",
     "output_type": "stream",
     "text": [
      " - Logging roc_auc_class_mean (float) : 0.999367429488584\n"
     ]
    }
   ],
   "source": [
    "roc_auc_macro = np.mean(list(roc_auc_dict.values()))\n",
    "\n",
    "logger.log_float(\"roc_auc_class_mean\", roc_auc_macro)\n",
    "\n",
    "# assert that the same value can be computed directly using sklearn\n",
    "assert roc_auc_macro == metrics.roc_auc_score(\n",
    "    y_test, y_pred_probs_test, average=\"macro\", multi_class=\"ovr\"\n",
    ")"
   ]
  },
  {
   "cell_type": "code",
   "execution_count": 20,
   "id": "14ff6974",
   "metadata": {
    "execution": {
     "iopub.execute_input": "2022-07-16T06:47:38.439542Z",
     "iopub.status.busy": "2022-07-16T06:47:38.439137Z",
     "iopub.status.idle": "2022-07-16T06:47:38.445041Z",
     "shell.execute_reply": "2022-07-16T06:47:38.442202Z"
    },
    "lines_to_next_cell": 0,
    "papermill": {
     "duration": 0.016632,
     "end_time": "2022-07-16T06:47:38.447451",
     "exception": false,
     "start_time": "2022-07-16T06:47:38.430819",
     "status": "completed"
    },
    "tags": []
   },
   "outputs": [],
   "source": [
    "# ---"
   ]
  },
  {
   "cell_type": "code",
   "execution_count": null,
   "id": "923eca3a",
   "metadata": {
    "papermill": {
     "duration": 0.00636,
     "end_time": "2022-07-16T06:47:38.460109",
     "exception": false,
     "start_time": "2022-07-16T06:47:38.453749",
     "status": "completed"
    },
    "tags": []
   },
   "outputs": [],
   "source": []
  }
 ],
 "metadata": {
  "jupytext": {
   "cell_metadata_filter": "tags,-all",
   "main_language": "python",
   "notebook_metadata_filter": "-all"
  },
  "language_info": {
   "codemirror_mode": {
    "name": "ipython",
    "version": 3
   },
   "file_extension": ".py",
   "mimetype": "text/x-python",
   "name": "python",
   "nbconvert_exporter": "python",
   "pygments_lexer": "ipython3",
   "version": "3.8.10"
  },
  "papermill": {
   "default_parameters": {},
   "duration": 10.75377,
   "end_time": "2022-07-16T06:47:39.586333",
   "environment_variables": {},
   "exception": null,
   "input_path": "/home/host_user/workspace/mnist-demo-pipeline/mnist-demo-pipeline/notebooks/temp-notebook-x4m14xxf.ipynb",
   "output_path": "notebooks/benchmark-model.ipynb",
   "parameters": {
    "P": {
     "_opentelemetry_traceparent": "00-6f8471823b5f6a3b870911db23186f45-cb046963b3258303-01",
     "pipeline.data_lake_root": "/pipeline-outputs/data-lake",
     "pipeline.github.actor": "matiasdahl",
     "pipeline.github.base_ref": "",
     "pipeline.github.event_name": "schedule",
     "pipeline.github.head_ref": "",
     "pipeline.github.job": "run-tests-pipeline-and-persist-pipeline-outputs",
     "pipeline.github.ref": "refs/heads/development",
     "pipeline.github.ref_name": "development",
     "pipeline.github.ref_type": "branch",
     "pipeline.github.repository": "pynb-dag-runner/mnist-digits-demo-pipeline",
     "pipeline.github.run_id": "2680962793",
     "pipeline.github.runner_name": "Hosted Agent",
     "pipeline.github.sha": "147a1be9916173fd4d2cd011d8d51e3411215850",
     "pipeline.github.workflow": "Run automated tests, pipeline and deploy results to static reporting site",
     "pipeline.pipeline_run_id": "247af893-d42b-4a6d-89ab-ddae831995f2",
     "pipeline.run_environment": "ci",
     "run.retry_nr": "0",
     "task.max_nr_retries": "1",
     "task.notebook": "notebooks/benchmark-model.py",
     "task.nr_train_images": 1200,
     "task.num_cpus": 1,
     "task.timeout_s": "None"
    }
   },
   "start_time": "2022-07-16T06:47:28.832563",
   "version": "2.3.3"
  }
 },
 "nbformat": 4,
 "nbformat_minor": 5
}