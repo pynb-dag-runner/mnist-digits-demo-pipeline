{
 "cells": [
  {
   "cell_type": "markdown",
   "id": "188e1556",
   "metadata": {
    "papermill": {
     "duration": 0.01832,
     "end_time": "2022-07-07T14:12:22.374157",
     "exception": false,
     "start_time": "2022-07-07T14:12:22.355837",
     "status": "completed"
    },
    "tags": []
   },
   "source": [
    "# Summarize model performances\n",
    "\n",
    "This notebooks plots the performances (using averaged ROC AUC scores) for models\n",
    "trained with different training sets."
   ]
  },
  {
   "cell_type": "markdown",
   "id": "74775a50",
   "metadata": {
    "papermill": {
     "duration": 0.002446,
     "end_time": "2022-07-07T14:12:22.379818",
     "exception": false,
     "start_time": "2022-07-07T14:12:22.377372",
     "status": "completed"
    },
    "tags": []
   },
   "source": [
    "### Determine run parameters"
   ]
  },
  {
   "cell_type": "code",
   "execution_count": 1,
   "id": "a31fdd31",
   "metadata": {
    "execution": {
     "iopub.execute_input": "2022-07-07T14:12:22.386431Z",
     "iopub.status.busy": "2022-07-07T14:12:22.385913Z",
     "iopub.status.idle": "2022-07-07T14:12:22.393874Z",
     "shell.execute_reply": "2022-07-07T14:12:22.393245Z"
    },
    "lines_to_next_cell": 0,
    "papermill": {
     "duration": 0.013095,
     "end_time": "2022-07-07T14:12:22.395363",
     "exception": false,
     "start_time": "2022-07-07T14:12:22.382268",
     "status": "completed"
    },
    "tags": []
   },
   "outputs": [],
   "source": [
    "# ----------------- Parameters for interactive development --------------\n",
    "P = {\n",
    "    \"pipeline.run_environment\": \"dev\",\n",
    "}"
   ]
  },
  {
   "cell_type": "code",
   "execution_count": 2,
   "id": "8261673e",
   "metadata": {
    "execution": {
     "iopub.execute_input": "2022-07-07T14:12:22.401917Z",
     "iopub.status.busy": "2022-07-07T14:12:22.401513Z",
     "iopub.status.idle": "2022-07-07T14:12:22.404595Z",
     "shell.execute_reply": "2022-07-07T14:12:22.404005Z"
    },
    "lines_to_next_cell": 0,
    "papermill": {
     "duration": 0.007745,
     "end_time": "2022-07-07T14:12:22.406017",
     "exception": false,
     "start_time": "2022-07-07T14:12:22.398272",
     "status": "completed"
    },
    "tags": [
     "parameters"
    ]
   },
   "outputs": [],
   "source": [
    "# - During automated runs parameters will be injected in the below cell -"
   ]
  },
  {
   "cell_type": "code",
   "execution_count": 3,
   "id": "12454c4a",
   "metadata": {
    "execution": {
     "iopub.execute_input": "2022-07-07T14:12:22.412257Z",
     "iopub.status.busy": "2022-07-07T14:12:22.411937Z",
     "iopub.status.idle": "2022-07-07T14:12:22.416357Z",
     "shell.execute_reply": "2022-07-07T14:12:22.415780Z"
    },
    "papermill": {
     "duration": 0.009352,
     "end_time": "2022-07-07T14:12:22.418035",
     "exception": false,
     "start_time": "2022-07-07T14:12:22.408683",
     "status": "completed"
    },
    "tags": [
     "injected-parameters"
    ]
   },
   "outputs": [],
   "source": [
    "# Parameters\n",
    "P = {\n",
    "    \"pipeline.data_lake_root\": \"/pipeline-outputs/data-lake\",\n",
    "    \"pipeline.run_environment\": \"ci\",\n",
    "    \"pipeline.pipeline_run_id\": \"366d576b-8f71-424a-a433-f9e0dceff067\",\n",
    "    \"pipeline.github.repository\": \"pynb-dag-runner/mnist-digits-demo-pipeline\",\n",
    "    \"pipeline.github.workflow\": \"Run automated tests, pipeline and deploy results to static reporting site\",\n",
    "    \"pipeline.github.runner_name\": \"Hosted Agent\",\n",
    "    \"pipeline.github.run_id\": \"2630097778\",\n",
    "    \"pipeline.github.actor\": \"matiasdahl\",\n",
    "    \"pipeline.github.job\": \"run-tests-pipeline-and-persist-pipeline-outputs\",\n",
    "    \"pipeline.github.base_ref\": \"development\",\n",
    "    \"pipeline.github.head_ref\": \"try-C-hyperparameter\",\n",
    "    \"pipeline.github.sha\": \"2e68fc4d090046a0d419e76130414dbc4e2cbe82\",\n",
    "    \"pipeline.github.ref\": \"refs/pull/55/merge\",\n",
    "    \"pipeline.github.ref_type\": \"branch\",\n",
    "    \"pipeline.github.ref_name\": \"55/merge\",\n",
    "    \"pipeline.github.event_name\": \"pull_request\",\n",
    "    \"task.notebook\": \"notebooks/summary.py\",\n",
    "    \"task.max_nr_retries\": \"1\",\n",
    "    \"run.retry_nr\": \"0\",\n",
    "    \"task.timeout_s\": \"None\",\n",
    "    \"task.num_cpus\": 1,\n",
    "    \"_opentelemetry_traceparent\": \"00-95fffe829ee04d9f9ab9d1fdc8486363-d9fab1cd31e7527b-01\",\n",
    "}\n"
   ]
  },
  {
   "cell_type": "code",
   "execution_count": 4,
   "id": "92565c07",
   "metadata": {
    "execution": {
     "iopub.execute_input": "2022-07-07T14:12:22.424112Z",
     "iopub.status.busy": "2022-07-07T14:12:22.423726Z",
     "iopub.status.idle": "2022-07-07T14:12:22.426467Z",
     "shell.execute_reply": "2022-07-07T14:12:22.425870Z"
    },
    "lines_to_next_cell": 0,
    "papermill": {
     "duration": 0.007545,
     "end_time": "2022-07-07T14:12:22.428069",
     "exception": false,
     "start_time": "2022-07-07T14:12:22.420524",
     "status": "completed"
    },
    "tags": []
   },
   "outputs": [],
   "source": [
    "# -----------------------------------------------------------------------"
   ]
  },
  {
   "cell_type": "markdown",
   "id": "ec7aacf5",
   "metadata": {
    "papermill": {
     "duration": 0.002378,
     "end_time": "2022-07-07T14:12:22.432799",
     "exception": false,
     "start_time": "2022-07-07T14:12:22.430421",
     "status": "completed"
    },
    "tags": []
   },
   "source": [
    "---"
   ]
  },
  {
   "cell_type": "markdown",
   "id": "d80e63ae",
   "metadata": {
    "lines_to_next_cell": 2,
    "papermill": {
     "duration": 0.002398,
     "end_time": "2022-07-07T14:12:22.437720",
     "exception": false,
     "start_time": "2022-07-07T14:12:22.435322",
     "status": "completed"
    },
    "tags": []
   },
   "source": [
    "### Notebook code"
   ]
  },
  {
   "cell_type": "code",
   "execution_count": 5,
   "id": "f59911a5",
   "metadata": {
    "execution": {
     "iopub.execute_input": "2022-07-07T14:12:22.443860Z",
     "iopub.status.busy": "2022-07-07T14:12:22.443428Z",
     "iopub.status.idle": "2022-07-07T14:12:23.546735Z",
     "shell.execute_reply": "2022-07-07T14:12:23.545287Z"
    },
    "papermill": {
     "duration": 1.108343,
     "end_time": "2022-07-07T14:12:23.548536",
     "exception": false,
     "start_time": "2022-07-07T14:12:22.440193",
     "status": "completed"
    },
    "tags": []
   },
   "outputs": [],
   "source": [
    "#\n",
    "import pandas as pd\n",
    "import matplotlib.pyplot as plt\n",
    "\n",
    "#\n",
    "from pynb_dag_runner.tasks.task_opentelemetry_logging import PydarLogger"
   ]
  },
  {
   "cell_type": "code",
   "execution_count": 6,
   "id": "9cf95017",
   "metadata": {
    "execution": {
     "iopub.execute_input": "2022-07-07T14:12:23.556107Z",
     "iopub.status.busy": "2022-07-07T14:12:23.555637Z",
     "iopub.status.idle": "2022-07-07T14:12:23.717524Z",
     "shell.execute_reply": "2022-07-07T14:12:23.716162Z"
    },
    "papermill": {
     "duration": 0.167267,
     "end_time": "2022-07-07T14:12:23.719398",
     "exception": false,
     "start_time": "2022-07-07T14:12:23.552131",
     "status": "completed"
    },
    "tags": []
   },
   "outputs": [
    {
     "name": "stderr",
     "output_type": "stream",
     "text": [
      "2022-07-07 14:12:23,559\tINFO worker.py:842 -- Connecting to existing Ray cluster at address: 172.17.0.2:6379\n"
     ]
    }
   ],
   "source": [
    "logger = PydarLogger(P=P)"
   ]
  },
  {
   "cell_type": "code",
   "execution_count": 7,
   "id": "990295e5",
   "metadata": {
    "execution": {
     "iopub.execute_input": "2022-07-07T14:12:23.726755Z",
     "iopub.status.busy": "2022-07-07T14:12:23.726506Z",
     "iopub.status.idle": "2022-07-07T14:12:23.729709Z",
     "shell.execute_reply": "2022-07-07T14:12:23.729064Z"
    },
    "papermill": {
     "duration": 0.008975,
     "end_time": "2022-07-07T14:12:23.731307",
     "exception": false,
     "start_time": "2022-07-07T14:12:23.722332",
     "status": "completed"
    },
    "tags": []
   },
   "outputs": [],
   "source": [
    "from pynb_dag_runner.tasks.task_opentelemetry_logging import (\n",
    "    PydarLogger,\n",
    "    get_logged_values,\n",
    ")\n",
    "from pynb_dag_runner.opentelemetry_helpers import _get_all_spans, Spans"
   ]
  },
  {
   "cell_type": "code",
   "execution_count": 8,
   "id": "75033e2e",
   "metadata": {
    "execution": {
     "iopub.execute_input": "2022-07-07T14:12:23.738129Z",
     "iopub.status.busy": "2022-07-07T14:12:23.737702Z",
     "iopub.status.idle": "2022-07-07T14:12:23.744741Z",
     "shell.execute_reply": "2022-07-07T14:12:23.744132Z"
    },
    "papermill": {
     "duration": 0.011881,
     "end_time": "2022-07-07T14:12:23.746158",
     "exception": false,
     "start_time": "2022-07-07T14:12:23.734277",
     "status": "completed"
    },
    "tags": []
   },
   "outputs": [],
   "source": [
    "def get_model_benchmarks():\n",
    "    \"\"\"\n",
    "    Query the OpenTelemetry logs for *this pipeline run* and return\n",
    "    all key-values logged from all runs of the benchmark-model.py task\n",
    "\n",
    "    For testing a json file with OpenTelemetry spans (as an array)\n",
    "    can be used as follows:\n",
    "\n",
    "    - Create output directory `mkdir /tmp/spans`\n",
    "    - Run unit tests. This will create pipeline-outputs/opentelemetry-spans.json\n",
    "    - Convert this json-array into jsonl format as follows\n",
    "\n",
    "    jq -c '.[]' /pipeline-outputs/opentelemetry-spans.json > /tmp/spans/data.txt\n",
    "\n",
    "    \"\"\"\n",
    "    spans: Spans = Spans(_get_all_spans())\n",
    "    print(f\"Found {len(spans)} spans\")\n",
    "\n",
    "    benchmark_spans = (\n",
    "        spans\n",
    "        # -\n",
    "        .filter([\"name\"], \"execute-task\")\n",
    "        # -\n",
    "        .filter([\"attributes\", \"task.notebook\"], \"notebooks/benchmark-model.py\")\n",
    "    )\n",
    "\n",
    "    result = []\n",
    "    for s in benchmark_spans:\n",
    "        result.append(\n",
    "            {\n",
    "                \"span_id\": s[\"context\"][\"span_id\"],\n",
    "                \"nr_train_images\": s[\"attributes\"][\"task.nr_train_images\"],\n",
    "                \"data\": get_logged_values(spans.bound_under(s)),\n",
    "            }\n",
    "        )\n",
    "\n",
    "    return result\n",
    "\n",
    "\n",
    "def adjust_pandas(df):\n",
    "    def column_renamer(col_name: str) -> str:\n",
    "        return (\n",
    "            col_name\n",
    "            # -- 'data.roc_auc_per_digit.4' -> 'roc_auc.4'\n",
    "            .replace(\"data.roc_auc_per_digit\", \"roc_auc\")\n",
    "            # -- 'data.roc_auc_class_mean' -> 'roc_auc_mean'\n",
    "            .replace(\"data.roc_auc_class_mean\", \"roc_auc_mean\")\n",
    "        )\n",
    "\n",
    "    return df.rename(column_renamer, axis=\"columns\").sort_values(by=\"nr_train_images\")"
   ]
  },
  {
   "cell_type": "code",
   "execution_count": 9,
   "id": "d3056b4b",
   "metadata": {
    "execution": {
     "iopub.execute_input": "2022-07-07T14:12:23.752361Z",
     "iopub.status.busy": "2022-07-07T14:12:23.752037Z",
     "iopub.status.idle": "2022-07-07T14:12:44.523010Z",
     "shell.execute_reply": "2022-07-07T14:12:44.522282Z"
    },
    "papermill": {
     "duration": 20.776258,
     "end_time": "2022-07-07T14:12:44.525001",
     "exception": false,
     "start_time": "2022-07-07T14:12:23.748743",
     "status": "completed"
    },
    "tags": []
   },
   "outputs": [
    {
     "name": "stdout",
     "output_type": "stream",
     "text": [
      "Found 420 spans\n"
     ]
    }
   ],
   "source": [
    "df_data = adjust_pandas(pd.json_normalize(get_model_benchmarks()))"
   ]
  },
  {
   "cell_type": "code",
   "execution_count": 10,
   "id": "8bb45f17",
   "metadata": {
    "execution": {
     "iopub.execute_input": "2022-07-07T14:12:44.533725Z",
     "iopub.status.busy": "2022-07-07T14:12:44.533474Z",
     "iopub.status.idle": "2022-07-07T14:12:44.558593Z",
     "shell.execute_reply": "2022-07-07T14:12:44.557923Z"
    },
    "papermill": {
     "duration": 0.031003,
     "end_time": "2022-07-07T14:12:44.560628",
     "exception": false,
     "start_time": "2022-07-07T14:12:44.529625",
     "status": "completed"
    },
    "tags": []
   },
   "outputs": [
    {
     "data": {
      "text/html": [
       "<div>\n",
       "<style scoped>\n",
       "    .dataframe tbody tr th:only-of-type {\n",
       "        vertical-align: middle;\n",
       "    }\n",
       "\n",
       "    .dataframe tbody tr th {\n",
       "        vertical-align: top;\n",
       "    }\n",
       "\n",
       "    .dataframe thead th {\n",
       "        text-align: right;\n",
       "    }\n",
       "</style>\n",
       "<table border=\"1\" class=\"dataframe\">\n",
       "  <thead>\n",
       "    <tr style=\"text-align: right;\">\n",
       "      <th></th>\n",
       "      <th>span_id</th>\n",
       "      <th>nr_train_images</th>\n",
       "      <th>roc_auc_mean</th>\n",
       "      <th>roc_auc.0</th>\n",
       "      <th>roc_auc.1</th>\n",
       "      <th>roc_auc.2</th>\n",
       "      <th>roc_auc.3</th>\n",
       "      <th>roc_auc.4</th>\n",
       "      <th>roc_auc.5</th>\n",
       "      <th>roc_auc.6</th>\n",
       "      <th>roc_auc.7</th>\n",
       "      <th>roc_auc.8</th>\n",
       "      <th>roc_auc.9</th>\n",
       "    </tr>\n",
       "  </thead>\n",
       "  <tbody>\n",
       "    <tr>\n",
       "      <th>3</th>\n",
       "      <td>0xb00e50c92f166532</td>\n",
       "      <td>600</td>\n",
       "      <td>0.9990</td>\n",
       "      <td>1.0</td>\n",
       "      <td>0.9996</td>\n",
       "      <td>1.0</td>\n",
       "      <td>0.9999</td>\n",
       "      <td>1.0</td>\n",
       "      <td>0.9988</td>\n",
       "      <td>1.0000</td>\n",
       "      <td>0.9999</td>\n",
       "      <td>0.9931</td>\n",
       "      <td>0.9989</td>\n",
       "    </tr>\n",
       "    <tr>\n",
       "      <th>1</th>\n",
       "      <td>0x45e9d6023e39364f</td>\n",
       "      <td>800</td>\n",
       "      <td>0.9986</td>\n",
       "      <td>1.0</td>\n",
       "      <td>0.9988</td>\n",
       "      <td>1.0</td>\n",
       "      <td>0.9999</td>\n",
       "      <td>1.0</td>\n",
       "      <td>0.9988</td>\n",
       "      <td>1.0000</td>\n",
       "      <td>0.9998</td>\n",
       "      <td>0.9894</td>\n",
       "      <td>0.9990</td>\n",
       "    </tr>\n",
       "    <tr>\n",
       "      <th>2</th>\n",
       "      <td>0xcae1517bdde7fd9b</td>\n",
       "      <td>1000</td>\n",
       "      <td>0.9987</td>\n",
       "      <td>1.0</td>\n",
       "      <td>0.9987</td>\n",
       "      <td>1.0</td>\n",
       "      <td>0.9997</td>\n",
       "      <td>1.0</td>\n",
       "      <td>0.9994</td>\n",
       "      <td>0.9999</td>\n",
       "      <td>0.9998</td>\n",
       "      <td>0.9901</td>\n",
       "      <td>0.9992</td>\n",
       "    </tr>\n",
       "    <tr>\n",
       "      <th>0</th>\n",
       "      <td>0x3bfcac2dfa903996</td>\n",
       "      <td>1200</td>\n",
       "      <td>0.9990</td>\n",
       "      <td>1.0</td>\n",
       "      <td>0.9988</td>\n",
       "      <td>1.0</td>\n",
       "      <td>0.9999</td>\n",
       "      <td>1.0</td>\n",
       "      <td>0.9994</td>\n",
       "      <td>0.9999</td>\n",
       "      <td>0.9999</td>\n",
       "      <td>0.9923</td>\n",
       "      <td>0.9994</td>\n",
       "    </tr>\n",
       "  </tbody>\n",
       "</table>\n",
       "</div>"
      ],
      "text/plain": [
       "              span_id  nr_train_images  roc_auc_mean  roc_auc.0  roc_auc.1  \\\n",
       "3  0xb00e50c92f166532              600        0.9990        1.0     0.9996   \n",
       "1  0x45e9d6023e39364f              800        0.9986        1.0     0.9988   \n",
       "2  0xcae1517bdde7fd9b             1000        0.9987        1.0     0.9987   \n",
       "0  0x3bfcac2dfa903996             1200        0.9990        1.0     0.9988   \n",
       "\n",
       "   roc_auc.2  roc_auc.3  roc_auc.4  roc_auc.5  roc_auc.6  roc_auc.7  \\\n",
       "3        1.0     0.9999        1.0     0.9988     1.0000     0.9999   \n",
       "1        1.0     0.9999        1.0     0.9988     1.0000     0.9998   \n",
       "2        1.0     0.9997        1.0     0.9994     0.9999     0.9998   \n",
       "0        1.0     0.9999        1.0     0.9994     0.9999     0.9999   \n",
       "\n",
       "   roc_auc.8  roc_auc.9  \n",
       "3     0.9931     0.9989  \n",
       "1     0.9894     0.9990  \n",
       "2     0.9901     0.9992  \n",
       "0     0.9923     0.9994  "
      ]
     },
     "execution_count": 10,
     "metadata": {},
     "output_type": "execute_result"
    }
   ],
   "source": [
    "df_data.round(4)"
   ]
  },
  {
   "cell_type": "code",
   "execution_count": 11,
   "id": "d1464d26",
   "metadata": {
    "execution": {
     "iopub.execute_input": "2022-07-07T14:12:44.568115Z",
     "iopub.status.busy": "2022-07-07T14:12:44.567811Z",
     "iopub.status.idle": "2022-07-07T14:12:44.707676Z",
     "shell.execute_reply": "2022-07-07T14:12:44.707013Z"
    },
    "papermill": {
     "duration": 0.145639,
     "end_time": "2022-07-07T14:12:44.709506",
     "exception": false,
     "start_time": "2022-07-07T14:12:44.563867",
     "status": "completed"
    },
    "tags": []
   },
   "outputs": [
    {
     "data": {
      "image/png": "[encoded data removed]",
      "text/plain": [
       "<Figure size 1152x288 with 1 Axes>"
      ]
     },
     "metadata": {
      "needs_background": "light"
     },
     "output_type": "display_data"
    }
   ],
   "source": [
    "def plot_classifier_performance_summary(df_data):\n",
    "    fig, ax = plt.subplots(nrows=1, ncols=1, figsize=(16, 4), sharex=True)\n",
    "\n",
    "    #\n",
    "    ax.plot(\n",
    "        df_data[\"nr_train_images\"], df_data[\"roc_auc_mean\"], marker=\"o\", linestyle=\"--\"\n",
    "    )\n",
    "    ax.set_title(\n",
    "        f\"ROC AUC digit classifier performance on evaluation digits\", fontsize=17\n",
    "    )\n",
    "    ax.set_xlabel(\"Total number of digits in training set\", fontsize=14)\n",
    "    ax.set_ylabel(\"Mean ROC AUC\", fontsize=14)\n",
    "\n",
    "    fig.tight_layout()\n",
    "    fig.show()\n",
    "\n",
    "    return fig\n",
    "\n",
    "\n",
    "fig = plot_classifier_performance_summary(df_data)"
   ]
  },
  {
   "cell_type": "code",
   "execution_count": 12,
   "id": "58635b14",
   "metadata": {
    "execution": {
     "iopub.execute_input": "2022-07-07T14:12:44.718558Z",
     "iopub.status.busy": "2022-07-07T14:12:44.718180Z",
     "iopub.status.idle": "2022-07-07T14:12:44.769059Z",
     "shell.execute_reply": "2022-07-07T14:12:44.767825Z"
    },
    "papermill": {
     "duration": 0.057039,
     "end_time": "2022-07-07T14:12:44.770614",
     "exception": false,
     "start_time": "2022-07-07T14:12:44.713575",
     "status": "completed"
    },
    "tags": []
   },
   "outputs": [],
   "source": [
    "logger.log_figure(\"auc-roc-model-performances.png\", fig)"
   ]
  },
  {
   "cell_type": "code",
   "execution_count": 13,
   "id": "3cb6c36d",
   "metadata": {
    "execution": {
     "iopub.execute_input": "2022-07-07T14:12:44.779736Z",
     "iopub.status.busy": "2022-07-07T14:12:44.779381Z",
     "iopub.status.idle": "2022-07-07T14:12:44.782532Z",
     "shell.execute_reply": "2022-07-07T14:12:44.781805Z"
    },
    "papermill": {
     "duration": 0.009762,
     "end_time": "2022-07-07T14:12:44.784296",
     "exception": false,
     "start_time": "2022-07-07T14:12:44.774534",
     "status": "completed"
    },
    "tags": []
   },
   "outputs": [],
   "source": [
    "###"
   ]
  },
  {
   "cell_type": "code",
   "execution_count": null,
   "id": "24ec5fce",
   "metadata": {
    "papermill": {
     "duration": 0.003608,
     "end_time": "2022-07-07T14:12:44.791293",
     "exception": false,
     "start_time": "2022-07-07T14:12:44.787685",
     "status": "completed"
    },
    "tags": []
   },
   "outputs": [],
   "source": []
  }
 ],
 "metadata": {
  "jupytext": {
   "cell_metadata_filter": "tags,-all",
   "main_language": "python",
   "notebook_metadata_filter": "-all"
  },
  "language_info": {
   "codemirror_mode": {
    "name": "ipython",
    "version": 3
   },
   "file_extension": ".py",
   "mimetype": "text/x-python",
   "name": "python",
   "nbconvert_exporter": "python",
   "pygments_lexer": "ipython3",
   "version": "3.8.10"
  },
  "papermill": {
   "default_parameters": {},
   "duration": 24.525639,
   "end_time": "2022-07-07T14:12:45.716119",
   "environment_variables": {},
   "exception": null,
   "input_path": "/home/host_user/workspace/mnist-demo-pipeline/mnist-demo-pipeline/notebooks/temp-notebook-lpdrvqx7.ipynb",
   "output_path": "notebooks/summary.ipynb",
   "parameters": {
    "P": {
     "_opentelemetry_traceparent": "00-95fffe829ee04d9f9ab9d1fdc8486363-d9fab1cd31e7527b-01",
     "pipeline.data_lake_root": "/pipeline-outputs/data-lake",
     "pipeline.github.actor": "matiasdahl",
     "pipeline.github.base_ref": "development",
     "pipeline.github.event_name": "pull_request",
     "pipeline.github.head_ref": "try-C-hyperparameter",
     "pipeline.github.job": "run-tests-pipeline-and-persist-pipeline-outputs",
     "pipeline.github.ref": "refs/pull/55/merge",
     "pipeline.github.ref_name": "55/merge",
     "pipeline.github.ref_type": "branch",
     "pipeline.github.repository": "pynb-dag-runner/mnist-digits-demo-pipeline",
     "pipeline.github.run_id": "2630097778",
     "pipeline.github.runner_name": "Hosted Agent",
     "pipeline.github.sha": "2e68fc4d090046a0d419e76130414dbc4e2cbe82",
     "pipeline.github.workflow": "Run automated tests, pipeline and deploy results to static reporting site",
     "pipeline.pipeline_run_id": "366d576b-8f71-424a-a433-f9e0dceff067",
     "pipeline.run_environment": "ci",
     "run.retry_nr": "0",
     "task.max_nr_retries": "1",
     "task.notebook": "notebooks/summary.py",
     "task.num_cpus": 1,
     "task.timeout_s": "None"
    }
   },
   "start_time": "2022-07-07T14:12:21.190480",
   "version": "2.3.3"
  }
 },
 "nbformat": 4,
 "nbformat_minor": 5
}