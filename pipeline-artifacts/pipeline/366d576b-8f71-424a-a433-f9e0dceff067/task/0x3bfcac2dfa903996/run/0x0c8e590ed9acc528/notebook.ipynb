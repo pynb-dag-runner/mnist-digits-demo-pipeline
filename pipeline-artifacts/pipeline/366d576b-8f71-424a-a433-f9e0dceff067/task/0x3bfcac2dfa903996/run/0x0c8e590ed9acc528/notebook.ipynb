{
 "cells": [
  {
   "cell_type": "markdown",
   "id": "0ec0a1ca",
   "metadata": {
    "papermill": {
     "duration": 0.005687,
     "end_time": "2022-07-07T14:12:08.129972",
     "exception": false,
     "start_time": "2022-07-07T14:12:08.124285",
     "status": "completed"
    },
    "tags": []
   },
   "source": [
    "# Benchmark model\n",
    "\n",
    "The purpose of this notebook is to benchmark persisted onnx-model (trained in the\n",
    "previous step) against evaluation set."
   ]
  },
  {
   "cell_type": "markdown",
   "id": "f4a3f05e",
   "metadata": {
    "papermill": {
     "duration": 0.003639,
     "end_time": "2022-07-07T14:12:08.137757",
     "exception": false,
     "start_time": "2022-07-07T14:12:08.134118",
     "status": "completed"
    },
    "tags": []
   },
   "source": [
    "### Determine run parameters"
   ]
  },
  {
   "cell_type": "code",
   "execution_count": 1,
   "id": "a0ea958e",
   "metadata": {
    "execution": {
     "iopub.execute_input": "2022-07-07T14:12:08.147122Z",
     "iopub.status.busy": "2022-07-07T14:12:08.146662Z",
     "iopub.status.idle": "2022-07-07T14:12:08.154610Z",
     "shell.execute_reply": "2022-07-07T14:12:08.153930Z"
    },
    "lines_to_next_cell": 0,
    "papermill": {
     "duration": 0.014417,
     "end_time": "2022-07-07T14:12:08.156121",
     "exception": false,
     "start_time": "2022-07-07T14:12:08.141704",
     "status": "completed"
    },
    "tags": []
   },
   "outputs": [],
   "source": [
    "# ----------------- Parameters for interactive development --------------\n",
    "P = {\n",
    "    \"pipeline.data_lake_root\": \"/pipeline-outputs/data-lake\",\n",
    "    \"task.nr_train_images\": 600,\n",
    "}"
   ]
  },
  {
   "cell_type": "code",
   "execution_count": 2,
   "id": "fd4dd571",
   "metadata": {
    "execution": {
     "iopub.execute_input": "2022-07-07T14:12:08.165434Z",
     "iopub.status.busy": "2022-07-07T14:12:08.165046Z",
     "iopub.status.idle": "2022-07-07T14:12:08.168220Z",
     "shell.execute_reply": "2022-07-07T14:12:08.167582Z"
    },
    "lines_to_next_cell": 0,
    "papermill": {
     "duration": 0.009666,
     "end_time": "2022-07-07T14:12:08.169960",
     "exception": false,
     "start_time": "2022-07-07T14:12:08.160294",
     "status": "completed"
    },
    "tags": [
     "parameters"
    ]
   },
   "outputs": [],
   "source": [
    "# - During automated runs parameters will be injected in the below cell -"
   ]
  },
  {
   "cell_type": "code",
   "execution_count": 3,
   "id": "ed2d14a4",
   "metadata": {
    "execution": {
     "iopub.execute_input": "2022-07-07T14:12:08.178546Z",
     "iopub.status.busy": "2022-07-07T14:12:08.178153Z",
     "iopub.status.idle": "2022-07-07T14:12:08.183057Z",
     "shell.execute_reply": "2022-07-07T14:12:08.182417Z"
    },
    "papermill": {
     "duration": 0.010818,
     "end_time": "2022-07-07T14:12:08.184455",
     "exception": false,
     "start_time": "2022-07-07T14:12:08.173637",
     "status": "completed"
    },
    "tags": [
     "injected-parameters"
    ]
   },
   "outputs": [],
   "source": [
    "# Parameters\n",
    "P = {\n",
    "    \"pipeline.data_lake_root\": \"/pipeline-outputs/data-lake\",\n",
    "    \"pipeline.run_environment\": \"ci\",\n",
    "    \"pipeline.pipeline_run_id\": \"366d576b-8f71-424a-a433-f9e0dceff067\",\n",
    "    \"pipeline.github.repository\": \"pynb-dag-runner/mnist-digits-demo-pipeline\",\n",
    "    \"pipeline.github.workflow\": \"Run automated tests, pipeline and deploy results to static reporting site\",\n",
    "    \"pipeline.github.runner_name\": \"Hosted Agent\",\n",
    "    \"pipeline.github.run_id\": \"2630097778\",\n",
    "    \"pipeline.github.actor\": \"matiasdahl\",\n",
    "    \"pipeline.github.job\": \"run-tests-pipeline-and-persist-pipeline-outputs\",\n",
    "    \"pipeline.github.base_ref\": \"development\",\n",
    "    \"pipeline.github.head_ref\": \"try-C-hyperparameter\",\n",
    "    \"pipeline.github.sha\": \"2e68fc4d090046a0d419e76130414dbc4e2cbe82\",\n",
    "    \"pipeline.github.ref\": \"refs/pull/55/merge\",\n",
    "    \"pipeline.github.ref_type\": \"branch\",\n",
    "    \"pipeline.github.ref_name\": \"55/merge\",\n",
    "    \"pipeline.github.event_name\": \"pull_request\",\n",
    "    \"task.nr_train_images\": 1200,\n",
    "    \"task.notebook\": \"notebooks/benchmark-model.py\",\n",
    "    \"task.max_nr_retries\": \"1\",\n",
    "    \"run.retry_nr\": \"0\",\n",
    "    \"task.timeout_s\": \"None\",\n",
    "    \"task.num_cpus\": 1,\n",
    "    \"_opentelemetry_traceparent\": \"00-95fffe829ee04d9f9ab9d1fdc8486363-79d8c36c3979e648-01\",\n",
    "}\n"
   ]
  },
  {
   "cell_type": "code",
   "execution_count": 4,
   "id": "83d94d57",
   "metadata": {
    "execution": {
     "iopub.execute_input": "2022-07-07T14:12:08.193724Z",
     "iopub.status.busy": "2022-07-07T14:12:08.193076Z",
     "iopub.status.idle": "2022-07-07T14:12:08.197810Z",
     "shell.execute_reply": "2022-07-07T14:12:08.197196Z"
    },
    "lines_to_next_cell": 0,
    "papermill": {
     "duration": 0.011476,
     "end_time": "2022-07-07T14:12:08.199838",
     "exception": false,
     "start_time": "2022-07-07T14:12:08.188362",
     "status": "completed"
    },
    "tags": []
   },
   "outputs": [],
   "source": [
    "# -----------------------------------------------------------------------"
   ]
  },
  {
   "cell_type": "markdown",
   "id": "7ca8bd12",
   "metadata": {
    "papermill": {
     "duration": 0.003706,
     "end_time": "2022-07-07T14:12:08.208637",
     "exception": false,
     "start_time": "2022-07-07T14:12:08.204931",
     "status": "completed"
    },
    "tags": []
   },
   "source": [
    "---"
   ]
  },
  {
   "cell_type": "markdown",
   "id": "6c0bf193",
   "metadata": {
    "lines_to_next_cell": 2,
    "papermill": {
     "duration": 0.003769,
     "end_time": "2022-07-07T14:12:08.216304",
     "exception": false,
     "start_time": "2022-07-07T14:12:08.212535",
     "status": "completed"
    },
    "tags": []
   },
   "source": [
    "### Notebook code"
   ]
  },
  {
   "cell_type": "code",
   "execution_count": 5,
   "id": "ed77cbac",
   "metadata": {
    "execution": {
     "iopub.execute_input": "2022-07-07T14:12:08.225203Z",
     "iopub.status.busy": "2022-07-07T14:12:08.224517Z",
     "iopub.status.idle": "2022-07-07T14:12:09.748100Z",
     "shell.execute_reply": "2022-07-07T14:12:09.747027Z"
    },
    "papermill": {
     "duration": 1.530377,
     "end_time": "2022-07-07T14:12:09.750305",
     "exception": false,
     "start_time": "2022-07-07T14:12:08.219928",
     "status": "completed"
    },
    "tags": []
   },
   "outputs": [
    {
     "name": "stderr",
     "output_type": "stream",
     "text": [
      "2022-07-07 14:12:09,570\tINFO worker.py:842 -- Connecting to existing Ray cluster at address: 172.17.0.2:6379\n"
     ]
    }
   ],
   "source": [
    "import itertools as it\n",
    "\n",
    "#\n",
    "import numpy as np\n",
    "import matplotlib.pyplot as plt\n",
    "\n",
    "#\n",
    "from pynb_dag_runner.tasks.task_opentelemetry_logging import PydarLogger\n",
    "\n",
    "#\n",
    "from common.io import datalake_root\n",
    "\n",
    "logger = PydarLogger(P)"
   ]
  },
  {
   "cell_type": "markdown",
   "id": "890d57ea",
   "metadata": {
    "papermill": {
     "duration": 0.005146,
     "end_time": "2022-07-07T14:12:09.759806",
     "exception": false,
     "start_time": "2022-07-07T14:12:09.754660",
     "status": "completed"
    },
    "tags": []
   },
   "source": [
    "## Load persisted onnx-model and evaluation data"
   ]
  },
  {
   "cell_type": "code",
   "execution_count": 6,
   "id": "d2b7877e",
   "metadata": {
    "execution": {
     "iopub.execute_input": "2022-07-07T14:12:09.769900Z",
     "iopub.status.busy": "2022-07-07T14:12:09.769529Z",
     "iopub.status.idle": "2022-07-07T14:12:09.773886Z",
     "shell.execute_reply": "2022-07-07T14:12:09.773036Z"
    },
    "papermill": {
     "duration": 0.012771,
     "end_time": "2022-07-07T14:12:09.776514",
     "exception": false,
     "start_time": "2022-07-07T14:12:09.763743",
     "status": "completed"
    },
    "tags": []
   },
   "outputs": [],
   "source": [
    "from common.io import read_onnx, get_onnx_inputs, get_onnx_outputs, read_numpy"
   ]
  },
  {
   "cell_type": "code",
   "execution_count": 7,
   "id": "fbdafae9",
   "metadata": {
    "execution": {
     "iopub.execute_input": "2022-07-07T14:12:09.786452Z",
     "iopub.status.busy": "2022-07-07T14:12:09.786198Z",
     "iopub.status.idle": "2022-07-07T14:12:09.799145Z",
     "shell.execute_reply": "2022-07-07T14:12:09.798043Z"
    },
    "lines_to_next_cell": 0,
    "papermill": {
     "duration": 0.019704,
     "end_time": "2022-07-07T14:12:09.800698",
     "exception": false,
     "start_time": "2022-07-07T14:12:09.780994",
     "status": "completed"
    },
    "tags": []
   },
   "outputs": [],
   "source": [
    "onnx_inference_session = read_onnx(\n",
    "    datalake_root(P)\n",
    "    / \"models\"\n",
    "    / f\"nr_train_images={P['task.nr_train_images']}\"\n",
    "    / \"model.onnx\"\n",
    ")"
   ]
  },
  {
   "cell_type": "markdown",
   "id": "f61683a7",
   "metadata": {
    "papermill": {
     "duration": 0.004715,
     "end_time": "2022-07-07T14:12:09.809570",
     "exception": false,
     "start_time": "2022-07-07T14:12:09.804855",
     "status": "completed"
    },
    "tags": []
   },
   "source": [
    "### Record structure of inputs and outputs for ONNX model\n",
    "\n",
    "(this should likely be done in training notebook)"
   ]
  },
  {
   "cell_type": "code",
   "execution_count": 8,
   "id": "48a6c25f",
   "metadata": {
    "execution": {
     "iopub.execute_input": "2022-07-07T14:12:09.818564Z",
     "iopub.status.busy": "2022-07-07T14:12:09.818318Z",
     "iopub.status.idle": "2022-07-07T14:12:09.824515Z",
     "shell.execute_reply": "2022-07-07T14:12:09.823997Z"
    },
    "papermill": {
     "duration": 0.014451,
     "end_time": "2022-07-07T14:12:09.827844",
     "exception": false,
     "start_time": "2022-07-07T14:12:09.813393",
     "status": "completed"
    },
    "tags": []
   },
   "outputs": [
    {
     "name": "stdout",
     "output_type": "stream",
     "text": [
      "{\n",
      "  \"inputs\": [\n",
      "    {\n",
      "      \"name\": \"float_input_8x8_image\",\n",
      "      \"shape\": [\n",
      "        null,\n",
      "        64\n",
      "      ],\n",
      "      \"type\": \"tensor(float)\"\n",
      "    }\n",
      "  ],\n",
      "  \"outputs\": [\n",
      "    {\n",
      "      \"name\": \"output_label\",\n",
      "      \"shape\": [\n",
      "        null\n",
      "      ],\n",
      "      \"type\": \"tensor(int64)\"\n",
      "    },\n",
      "    {\n",
      "      \"name\": \"output_probability\",\n",
      "      \"shape\": [],\n",
      "      \"type\": \"seq(map(int64,tensor(float)))\"\n",
      "    }\n",
      "  ]\n",
      "}\n"
     ]
    }
   ],
   "source": [
    "import json\n",
    "\n",
    "onnx_io = json.dumps(\n",
    "    {\n",
    "        \"inputs\": get_onnx_inputs(onnx_inference_session),\n",
    "        \"outputs\": get_onnx_outputs(onnx_inference_session),\n",
    "    },\n",
    "    indent=2,\n",
    ")\n",
    "\n",
    "\n",
    "logger.log_artefact(\"onnx_io_structure.json\", onnx_io)\n",
    "print(onnx_io)"
   ]
  },
  {
   "cell_type": "markdown",
   "id": "42cce35c",
   "metadata": {
    "papermill": {
     "duration": 0.004038,
     "end_time": "2022-07-07T14:12:09.840625",
     "exception": false,
     "start_time": "2022-07-07T14:12:09.836587",
     "status": "completed"
    },
    "tags": []
   },
   "source": [
    "### Evaluate model performance on evaluation data set"
   ]
  },
  {
   "cell_type": "code",
   "execution_count": 9,
   "id": "132070f3",
   "metadata": {
    "execution": {
     "iopub.execute_input": "2022-07-07T14:12:09.851413Z",
     "iopub.status.busy": "2022-07-07T14:12:09.851143Z",
     "iopub.status.idle": "2022-07-07T14:12:09.856449Z",
     "shell.execute_reply": "2022-07-07T14:12:09.855902Z"
    },
    "papermill": {
     "duration": 0.013579,
     "end_time": "2022-07-07T14:12:09.859180",
     "exception": false,
     "start_time": "2022-07-07T14:12:09.845601",
     "status": "completed"
    },
    "tags": []
   },
   "outputs": [],
   "source": [
    "# load evaluation data\n",
    "X_test = read_numpy(datalake_root(P) / \"test-data\" / \"digits.numpy\")\n",
    "y_test = read_numpy(datalake_root(P) / \"test-data\" / \"labels.numpy\")"
   ]
  },
  {
   "cell_type": "code",
   "execution_count": 10,
   "id": "3b16aba1",
   "metadata": {
    "execution": {
     "iopub.execute_input": "2022-07-07T14:12:09.869447Z",
     "iopub.status.busy": "2022-07-07T14:12:09.869215Z",
     "iopub.status.idle": "2022-07-07T14:12:09.884450Z",
     "shell.execute_reply": "2022-07-07T14:12:09.882960Z"
    },
    "papermill": {
     "duration": 0.022437,
     "end_time": "2022-07-07T14:12:09.886341",
     "exception": false,
     "start_time": "2022-07-07T14:12:09.863904",
     "status": "completed"
    },
    "tags": []
   },
   "outputs": [],
   "source": [
    "def get_model_outputs(X, onnx_inference_session):\n",
    "    y_pred_labels, y_pred_map = onnx_inference_session.run(\n",
    "        [\"output_label\", \"output_probability\"],\n",
    "        {\"float_input_8x8_image\": X.astype(np.float32)},\n",
    "    )\n",
    "    y_pred_probs = np.array(\n",
    "        [[probabilities[digit] for digit in range(10)] for probabilities in y_pred_map]\n",
    "    )\n",
    "\n",
    "    assert y_pred_labels.shape == (X.shape[0],)\n",
    "    assert y_pred_probs.shape == (X.shape[0], 10)\n",
    "\n",
    "    return y_pred_labels, y_pred_probs\n",
    "\n",
    "\n",
    "# Note: as shown in the training notebook, the predicted labels and probabilities\n",
    "# computed below need not be compatible.\n",
    "y_pred_labels_test, y_pred_probs_test = get_model_outputs(\n",
    "    X_test, onnx_inference_session\n",
    ")"
   ]
  },
  {
   "cell_type": "markdown",
   "id": "417ce132",
   "metadata": {
    "papermill": {
     "duration": 0.005799,
     "end_time": "2022-07-07T14:12:09.897010",
     "exception": false,
     "start_time": "2022-07-07T14:12:09.891211",
     "status": "completed"
    },
    "tags": []
   },
   "source": [
    "### Confusion matrix"
   ]
  },
  {
   "cell_type": "code",
   "execution_count": 11,
   "id": "d57e6266",
   "metadata": {
    "execution": {
     "iopub.execute_input": "2022-07-07T14:12:09.907072Z",
     "iopub.status.busy": "2022-07-07T14:12:09.906835Z",
     "iopub.status.idle": "2022-07-07T14:12:09.910133Z",
     "shell.execute_reply": "2022-07-07T14:12:09.909455Z"
    },
    "papermill": {
     "duration": 0.010936,
     "end_time": "2022-07-07T14:12:09.911998",
     "exception": false,
     "start_time": "2022-07-07T14:12:09.901062",
     "status": "completed"
    },
    "tags": []
   },
   "outputs": [],
   "source": [
    "# TODO"
   ]
  },
  {
   "cell_type": "markdown",
   "id": "59ab4d9a",
   "metadata": {
    "papermill": {
     "duration": 0.004132,
     "end_time": "2022-07-07T14:12:09.921039",
     "exception": false,
     "start_time": "2022-07-07T14:12:09.916907",
     "status": "completed"
    },
    "tags": []
   },
   "source": [
    "### Plot predicted probabilities for each classifier over all evaluation digit images"
   ]
  },
  {
   "cell_type": "code",
   "execution_count": 12,
   "id": "fd87cd4f",
   "metadata": {
    "execution": {
     "iopub.execute_input": "2022-07-07T14:12:09.931066Z",
     "iopub.status.busy": "2022-07-07T14:12:09.930709Z",
     "iopub.status.idle": "2022-07-07T14:12:13.222388Z",
     "shell.execute_reply": "2022-07-07T14:12:13.221424Z"
    },
    "papermill": {
     "duration": 3.298398,
     "end_time": "2022-07-07T14:12:13.224147",
     "exception": false,
     "start_time": "2022-07-07T14:12:09.925749",
     "status": "completed"
    },
    "tags": []
   },
   "outputs": [
    {
     "data": {
      "image/png": "[encoded data removed]",
      "text/plain": [
       "<Figure size 1152x432 with 10 Axes>"
      ]
     },
     "metadata": {
      "needs_background": "light"
     },
     "output_type": "display_data"
    }
   ],
   "source": [
    "def plot_per_digit_probabilities(y_pred_probs):\n",
    "    fig, axs = plt.subplots(nrows=2, ncols=5, figsize=(16, 6))\n",
    "\n",
    "    for (r, c), digit, ax in zip(\n",
    "        it.product(range(2), range(5)), range(10), axs.reshape(-1)\n",
    "    ):\n",
    "        ax.hist(y_pred_probs_test[:, digit], bins=20)\n",
    "\n",
    "        ax.set_title(f\"Digit {digit}\")\n",
    "        if r == 1 and c == 2:\n",
    "            ax.set_xlabel(\"probability\", fontsize=16)\n",
    "\n",
    "        if c == 0:\n",
    "            ax.set_ylabel(\"counts\", fontsize=16)\n",
    "        ax.set_yscale(\"log\")\n",
    "\n",
    "    fig.tight_layout()\n",
    "    fig.suptitle(\n",
    "        f\"Distributions of prediction probabilities for each digit \"\n",
    "        f\"(on evaluation data, n={y_pred_probs.shape[0]})\",\n",
    "        fontsize=20,\n",
    "    )\n",
    "    fig.tight_layout()\n",
    "    fig.show()\n",
    "\n",
    "    return fig\n",
    "\n",
    "\n",
    "fig = plot_per_digit_probabilities(y_pred_probs_test)"
   ]
  },
  {
   "cell_type": "markdown",
   "id": "defa799a",
   "metadata": {
    "papermill": {
     "duration": 0.004892,
     "end_time": "2022-07-07T14:12:13.234659",
     "exception": false,
     "start_time": "2022-07-07T14:12:13.229767",
     "status": "completed"
    },
    "tags": []
   },
   "source": [
    "From the above distributions we see that most digits have clear separation between\n",
    "high and lower probabilities. Morover, in each case there is roughly an order of\n",
    "magnitude more of digits with low probabilities. This is compatible with digits\n",
    "being roughly evenly distributed in the data."
   ]
  },
  {
   "cell_type": "code",
   "execution_count": 13,
   "id": "79b291b0",
   "metadata": {
    "execution": {
     "iopub.execute_input": "2022-07-07T14:12:13.246060Z",
     "iopub.status.busy": "2022-07-07T14:12:13.245463Z",
     "iopub.status.idle": "2022-07-07T14:12:13.706964Z",
     "shell.execute_reply": "2022-07-07T14:12:13.706362Z"
    },
    "papermill": {
     "duration": 0.469465,
     "end_time": "2022-07-07T14:12:13.709248",
     "exception": false,
     "start_time": "2022-07-07T14:12:13.239783",
     "status": "completed"
    },
    "tags": []
   },
   "outputs": [],
   "source": [
    "logger.log_figure(\"per-digit-probabilities.png\", fig)"
   ]
  },
  {
   "cell_type": "markdown",
   "id": "f2456c47",
   "metadata": {
    "papermill": {
     "duration": 0.005388,
     "end_time": "2022-07-07T14:12:13.720593",
     "exception": false,
     "start_time": "2022-07-07T14:12:13.715205",
     "status": "completed"
    },
    "tags": []
   },
   "source": [
    "### Plot ROC curves for individual one-vs-rest classifiers"
   ]
  },
  {
   "cell_type": "code",
   "execution_count": 14,
   "id": "bedeacad",
   "metadata": {
    "execution": {
     "iopub.execute_input": "2022-07-07T14:12:13.731702Z",
     "iopub.status.busy": "2022-07-07T14:12:13.731435Z",
     "iopub.status.idle": "2022-07-07T14:12:14.164245Z",
     "shell.execute_reply": "2022-07-07T14:12:14.163424Z"
    },
    "papermill": {
     "duration": 0.440692,
     "end_time": "2022-07-07T14:12:14.166454",
     "exception": false,
     "start_time": "2022-07-07T14:12:13.725762",
     "status": "completed"
    },
    "tags": []
   },
   "outputs": [],
   "source": [
    "from sklearn import metrics"
   ]
  },
  {
   "cell_type": "code",
   "execution_count": 15,
   "id": "3e903b77",
   "metadata": {
    "execution": {
     "iopub.execute_input": "2022-07-07T14:12:14.180492Z",
     "iopub.status.busy": "2022-07-07T14:12:14.180238Z",
     "iopub.status.idle": "2022-07-07T14:12:15.275252Z",
     "shell.execute_reply": "2022-07-07T14:12:15.274639Z"
    },
    "papermill": {
     "duration": 1.103074,
     "end_time": "2022-07-07T14:12:15.276759",
     "exception": false,
     "start_time": "2022-07-07T14:12:14.173685",
     "status": "completed"
    },
    "tags": []
   },
   "outputs": [
    {
     "data": {
      "image/png": "[encoded data removed]",
      "text/plain": [
       "<Figure size 1152x576 with 10 Axes>"
      ]
     },
     "metadata": {
      "needs_background": "light"
     },
     "output_type": "display_data"
    }
   ],
   "source": [
    "def plot_roc_curves(y, y_pred_probs):\n",
    "    # based on example code\n",
    "    # https://scikit-learn.org/stable/auto_examples/model_selection/plot_roc.html\n",
    "\n",
    "    fig, axs = plt.subplots(nrows=2, ncols=5, figsize=(16, 8))\n",
    "\n",
    "    roc_auc_dict = {}\n",
    "\n",
    "    for (r, c), digit, ax in zip(\n",
    "        it.product(range(2), range(5)), range(10), axs.reshape(-1)\n",
    "    ):\n",
    "        fpr, tpr, _ = metrics.roc_curve(y == digit, y_pred_probs[:, digit])\n",
    "        auc = metrics.auc(fpr, tpr)\n",
    "        roc_auc_dict[str(digit)] = auc\n",
    "\n",
    "        ax.plot(fpr, tpr, label=f\"ROC AUC={round(auc, 3)}\")\n",
    "\n",
    "        ax.set_title(f\"\\nDigit {digit}\", fontsize=16)\n",
    "        if r == 1:\n",
    "            ax.set_xlabel(\"FPR\", fontsize=18)\n",
    "\n",
    "        if c == 0:\n",
    "            ax.set_ylabel(\"TPR\", fontsize=18)\n",
    "\n",
    "        ax.set_xlim([-0.05, 1.05])\n",
    "        ax.set_ylim([-0.05, 1.05])\n",
    "        ax.legend(loc=\"lower right\", frameon=False, fontsize=14)\n",
    "\n",
    "    fig.tight_layout()\n",
    "    fig.suptitle(\n",
    "        f\"ROC plots for one-vs-rest performances \"\n",
    "        f\"(on evaluation data, n={y_pred_probs_test.shape[1]}\",\n",
    "        fontsize=22,\n",
    "    )\n",
    "    fig.tight_layout()\n",
    "    fig.show()\n",
    "\n",
    "    return roc_auc_dict, fig\n",
    "\n",
    "\n",
    "roc_auc_dict, fig = plot_roc_curves(y_test, y_pred_probs_test)"
   ]
  },
  {
   "cell_type": "code",
   "execution_count": 16,
   "id": "49a5700d",
   "metadata": {
    "execution": {
     "iopub.execute_input": "2022-07-07T14:12:15.289418Z",
     "iopub.status.busy": "2022-07-07T14:12:15.289172Z",
     "iopub.status.idle": "2022-07-07T14:12:15.512786Z",
     "shell.execute_reply": "2022-07-07T14:12:15.512134Z"
    },
    "papermill": {
     "duration": 0.231876,
     "end_time": "2022-07-07T14:12:15.514610",
     "exception": false,
     "start_time": "2022-07-07T14:12:15.282734",
     "status": "completed"
    },
    "tags": []
   },
   "outputs": [],
   "source": [
    "logger.log_figure(\"per-digit-roc-curves.png\", fig)"
   ]
  },
  {
   "cell_type": "code",
   "execution_count": 17,
   "id": "1e2ec8f0",
   "metadata": {
    "execution": {
     "iopub.execute_input": "2022-07-07T14:12:15.531465Z",
     "iopub.status.busy": "2022-07-07T14:12:15.530851Z",
     "iopub.status.idle": "2022-07-07T14:12:15.536753Z",
     "shell.execute_reply": "2022-07-07T14:12:15.536083Z"
    },
    "papermill": {
     "duration": 0.019377,
     "end_time": "2022-07-07T14:12:15.539571",
     "exception": false,
     "start_time": "2022-07-07T14:12:15.520194",
     "status": "completed"
    },
    "tags": []
   },
   "outputs": [
    {
     "data": {
      "text/plain": [
       "{'0': 1.0,\n",
       " '1': 0.9987628865979381,\n",
       " '2': 1.0,\n",
       " '3': 0.9999250234301781,\n",
       " '4': 1.0,\n",
       " '5': 0.9994376757263355,\n",
       " '6': 0.999923792104862,\n",
       " '7': 0.9998856881572931,\n",
       " '8': 0.9922761664564943,\n",
       " '9': 0.9993522328913276}"
      ]
     },
     "execution_count": 17,
     "metadata": {},
     "output_type": "execute_result"
    }
   ],
   "source": [
    "roc_auc_dict"
   ]
  },
  {
   "cell_type": "code",
   "execution_count": 18,
   "id": "1edb42d7",
   "metadata": {
    "execution": {
     "iopub.execute_input": "2022-07-07T14:12:15.553128Z",
     "iopub.status.busy": "2022-07-07T14:12:15.552825Z",
     "iopub.status.idle": "2022-07-07T14:12:15.557045Z",
     "shell.execute_reply": "2022-07-07T14:12:15.556381Z"
    },
    "papermill": {
     "duration": 0.01373,
     "end_time": "2022-07-07T14:12:15.559892",
     "exception": false,
     "start_time": "2022-07-07T14:12:15.546162",
     "status": "completed"
    },
    "tags": []
   },
   "outputs": [
    {
     "name": "stdout",
     "output_type": "stream",
     "text": [
      " - Logging roc_auc_per_digit (json) : {'0': 1.0, '1': 0.9987628865979381, '2': 1.0, '3': 0.9999250234301781, '4': 1.0, '5': 0.9994376757263355, '6': 0.999923792104862, '7': 0.9998856881572931, '8': 0.9922761664564943, '9': 0.9993522328913276}\n"
     ]
    }
   ],
   "source": [
    "logger.log_value(\"roc_auc_per_digit\", roc_auc_dict)"
   ]
  },
  {
   "cell_type": "markdown",
   "id": "38fc0ee3",
   "metadata": {
    "papermill": {
     "duration": 0.006037,
     "end_time": "2022-07-07T14:12:15.571954",
     "exception": false,
     "start_time": "2022-07-07T14:12:15.565917",
     "status": "completed"
    },
    "tags": []
   },
   "source": [
    "### Compute and log mean ROC AUC score averaged over all digits"
   ]
  },
  {
   "cell_type": "code",
   "execution_count": 19,
   "id": "d648c769",
   "metadata": {
    "execution": {
     "iopub.execute_input": "2022-07-07T14:12:15.590756Z",
     "iopub.status.busy": "2022-07-07T14:12:15.590402Z",
     "iopub.status.idle": "2022-07-07T14:12:15.606008Z",
     "shell.execute_reply": "2022-07-07T14:12:15.605259Z"
    },
    "papermill": {
     "duration": 0.029392,
     "end_time": "2022-07-07T14:12:15.607691",
     "exception": false,
     "start_time": "2022-07-07T14:12:15.578299",
     "status": "completed"
    },
    "tags": []
   },
   "outputs": [
    {
     "name": "stdout",
     "output_type": "stream",
     "text": [
      " - Logging roc_auc_class_mean (float) : 0.9989563465364428\n"
     ]
    }
   ],
   "source": [
    "roc_auc_macro = np.mean(list(roc_auc_dict.values()))\n",
    "\n",
    "logger.log_float(\"roc_auc_class_mean\", roc_auc_macro)\n",
    "\n",
    "# assert that the same value can be computed directly using sklearn\n",
    "assert roc_auc_macro == metrics.roc_auc_score(\n",
    "    y_test, y_pred_probs_test, average=\"macro\", multi_class=\"ovr\"\n",
    ")"
   ]
  },
  {
   "cell_type": "code",
   "execution_count": 20,
   "id": "fb7dc693",
   "metadata": {
    "execution": {
     "iopub.execute_input": "2022-07-07T14:12:15.621852Z",
     "iopub.status.busy": "2022-07-07T14:12:15.621320Z",
     "iopub.status.idle": "2022-07-07T14:12:15.624440Z",
     "shell.execute_reply": "2022-07-07T14:12:15.623774Z"
    },
    "lines_to_next_cell": 0,
    "papermill": {
     "duration": 0.012462,
     "end_time": "2022-07-07T14:12:15.626713",
     "exception": false,
     "start_time": "2022-07-07T14:12:15.614251",
     "status": "completed"
    },
    "tags": []
   },
   "outputs": [],
   "source": [
    "# ---"
   ]
  },
  {
   "cell_type": "code",
   "execution_count": null,
   "id": "81647234",
   "metadata": {
    "papermill": {
     "duration": 0.006047,
     "end_time": "2022-07-07T14:12:15.639045",
     "exception": false,
     "start_time": "2022-07-07T14:12:15.632998",
     "status": "completed"
    },
    "tags": []
   },
   "outputs": [],
   "source": []
  }
 ],
 "metadata": {
  "jupytext": {
   "cell_metadata_filter": "tags,-all",
   "main_language": "python",
   "notebook_metadata_filter": "-all"
  },
  "language_info": {
   "codemirror_mode": {
    "name": "ipython",
    "version": 3
   },
   "file_extension": ".py",
   "mimetype": "text/x-python",
   "name": "python",
   "nbconvert_exporter": "python",
   "pygments_lexer": "ipython3",
   "version": "3.8.10"
  },
  "papermill": {
   "default_parameters": {},
   "duration": 10.011322,
   "end_time": "2022-07-07T14:12:16.865289",
   "environment_variables": {},
   "exception": null,
   "input_path": "/home/host_user/workspace/mnist-demo-pipeline/mnist-demo-pipeline/notebooks/temp-notebook-d0wtsu_s.ipynb",
   "output_path": "notebooks/benchmark-model.ipynb",
   "parameters": {
    "P": {
     "_opentelemetry_traceparent": "00-95fffe829ee04d9f9ab9d1fdc8486363-79d8c36c3979e648-01",
     "pipeline.data_lake_root": "/pipeline-outputs/data-lake",
     "pipeline.github.actor": "matiasdahl",
     "pipeline.github.base_ref": "development",
     "pipeline.github.event_name": "pull_request",
     "pipeline.github.head_ref": "try-C-hyperparameter",
     "pipeline.github.job": "run-tests-pipeline-and-persist-pipeline-outputs",
     "pipeline.github.ref": "refs/pull/55/merge",
     "pipeline.github.ref_name": "55/merge",
     "pipeline.github.ref_type": "branch",
     "pipeline.github.repository": "pynb-dag-runner/mnist-digits-demo-pipeline",
     "pipeline.github.run_id": "2630097778",
     "pipeline.github.runner_name": "Hosted Agent",
     "pipeline.github.sha": "2e68fc4d090046a0d419e76130414dbc4e2cbe82",
     "pipeline.github.workflow": "Run automated tests, pipeline and deploy results to static reporting site",
     "pipeline.pipeline_run_id": "366d576b-8f71-424a-a433-f9e0dceff067",
     "pipeline.run_environment": "ci",
     "run.retry_nr": "0",
     "task.max_nr_retries": "1",
     "task.notebook": "notebooks/benchmark-model.py",
     "task.nr_train_images": 1200,
     "task.num_cpus": 1,
     "task.timeout_s": "None"
    }
   },
   "start_time": "2022-07-07T14:12:06.853967",
   "version": "2.3.3"
  }
 },
 "nbformat": 4,
 "nbformat_minor": 5
}