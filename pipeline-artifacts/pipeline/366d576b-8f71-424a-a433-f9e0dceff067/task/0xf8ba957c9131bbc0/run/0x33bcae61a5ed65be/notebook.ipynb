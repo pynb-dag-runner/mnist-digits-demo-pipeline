{
 "cells": [
  {
   "cell_type": "markdown",
   "id": "d33e7769",
   "metadata": {
    "papermill": {
     "duration": 0.004013,
     "end_time": "2022-07-07T14:11:54.758552",
     "exception": false,
     "start_time": "2022-07-07T14:11:54.754539",
     "status": "completed"
    },
    "tags": []
   },
   "source": [
    "# Train model\n",
    "\n",
    "The purpose of this notebook is:\n",
    "\n",
    "- Load all training data (images and labels).\n",
    "- Limit number of train images to `task.nr_train_images` (value provided as run parameter).\n",
    "- Train a support vector machine model using sklearn.\n",
    "- Persist the trained model using the ONNX format."
   ]
  },
  {
   "cell_type": "markdown",
   "id": "9cffeba5",
   "metadata": {
    "papermill": {
     "duration": 0.003778,
     "end_time": "2022-07-07T14:11:54.766349",
     "exception": false,
     "start_time": "2022-07-07T14:11:54.762571",
     "status": "completed"
    },
    "tags": []
   },
   "source": [
    "### Determine run parameters"
   ]
  },
  {
   "cell_type": "code",
   "execution_count": 1,
   "id": "a5ba04a5",
   "metadata": {
    "execution": {
     "iopub.execute_input": "2022-07-07T14:11:54.773753Z",
     "iopub.status.busy": "2022-07-07T14:11:54.772846Z",
     "iopub.status.idle": "2022-07-07T14:11:54.780834Z",
     "shell.execute_reply": "2022-07-07T14:11:54.780297Z"
    },
    "lines_to_next_cell": 0,
    "papermill": {
     "duration": 0.013762,
     "end_time": "2022-07-07T14:11:54.782733",
     "exception": false,
     "start_time": "2022-07-07T14:11:54.768971",
     "status": "completed"
    },
    "tags": []
   },
   "outputs": [],
   "source": [
    "# ----------------- Parameters for interactive development --------------\n",
    "P = {\n",
    "    \"pipeline.data_lake_root\": \"/pipeline-outputs/data-lake\",\n",
    "    \"task.nr_train_images\": 600,\n",
    "}"
   ]
  },
  {
   "cell_type": "code",
   "execution_count": 2,
   "id": "3ed4fccf",
   "metadata": {
    "execution": {
     "iopub.execute_input": "2022-07-07T14:11:54.788997Z",
     "iopub.status.busy": "2022-07-07T14:11:54.788780Z",
     "iopub.status.idle": "2022-07-07T14:11:54.791545Z",
     "shell.execute_reply": "2022-07-07T14:11:54.791028Z"
    },
    "lines_to_next_cell": 0,
    "papermill": {
     "duration": 0.008667,
     "end_time": "2022-07-07T14:11:54.794209",
     "exception": false,
     "start_time": "2022-07-07T14:11:54.785542",
     "status": "completed"
    },
    "tags": [
     "parameters"
    ]
   },
   "outputs": [],
   "source": [
    "# - During automated runs parameters will be injected in the below cell -"
   ]
  },
  {
   "cell_type": "code",
   "execution_count": 3,
   "id": "c9a39bfc",
   "metadata": {
    "execution": {
     "iopub.execute_input": "2022-07-07T14:11:54.800157Z",
     "iopub.status.busy": "2022-07-07T14:11:54.799957Z",
     "iopub.status.idle": "2022-07-07T14:11:54.804249Z",
     "shell.execute_reply": "2022-07-07T14:11:54.803766Z"
    },
    "papermill": {
     "duration": 0.009816,
     "end_time": "2022-07-07T14:11:54.806517",
     "exception": false,
     "start_time": "2022-07-07T14:11:54.796701",
     "status": "completed"
    },
    "tags": [
     "injected-parameters"
    ]
   },
   "outputs": [],
   "source": [
    "# Parameters\n",
    "P = {\n",
    "    \"pipeline.data_lake_root\": \"/pipeline-outputs/data-lake\",\n",
    "    \"pipeline.run_environment\": \"ci\",\n",
    "    \"pipeline.pipeline_run_id\": \"366d576b-8f71-424a-a433-f9e0dceff067\",\n",
    "    \"pipeline.github.repository\": \"pynb-dag-runner/mnist-digits-demo-pipeline\",\n",
    "    \"pipeline.github.workflow\": \"Run automated tests, pipeline and deploy results to static reporting site\",\n",
    "    \"pipeline.github.runner_name\": \"Hosted Agent\",\n",
    "    \"pipeline.github.run_id\": \"2630097778\",\n",
    "    \"pipeline.github.actor\": \"matiasdahl\",\n",
    "    \"pipeline.github.job\": \"run-tests-pipeline-and-persist-pipeline-outputs\",\n",
    "    \"pipeline.github.base_ref\": \"development\",\n",
    "    \"pipeline.github.head_ref\": \"try-C-hyperparameter\",\n",
    "    \"pipeline.github.sha\": \"2e68fc4d090046a0d419e76130414dbc4e2cbe82\",\n",
    "    \"pipeline.github.ref\": \"refs/pull/55/merge\",\n",
    "    \"pipeline.github.ref_type\": \"branch\",\n",
    "    \"pipeline.github.ref_name\": \"55/merge\",\n",
    "    \"pipeline.github.event_name\": \"pull_request\",\n",
    "    \"task.nr_train_images\": 600,\n",
    "    \"task.notebook\": \"notebooks/train-model.py\",\n",
    "    \"task.max_nr_retries\": \"1\",\n",
    "    \"run.retry_nr\": \"0\",\n",
    "    \"task.timeout_s\": \"None\",\n",
    "    \"task.num_cpus\": 1,\n",
    "    \"_opentelemetry_traceparent\": \"00-95fffe829ee04d9f9ab9d1fdc8486363-f6a277d24ec0a554-01\",\n",
    "}\n"
   ]
  },
  {
   "cell_type": "code",
   "execution_count": 4,
   "id": "67b8ce38",
   "metadata": {
    "execution": {
     "iopub.execute_input": "2022-07-07T14:11:54.813542Z",
     "iopub.status.busy": "2022-07-07T14:11:54.812643Z",
     "iopub.status.idle": "2022-07-07T14:11:54.815751Z",
     "shell.execute_reply": "2022-07-07T14:11:54.815254Z"
    },
    "lines_to_next_cell": 0,
    "papermill": {
     "duration": 0.008576,
     "end_time": "2022-07-07T14:11:54.817775",
     "exception": false,
     "start_time": "2022-07-07T14:11:54.809199",
     "status": "completed"
    },
    "tags": []
   },
   "outputs": [],
   "source": [
    "# -----------------------------------------------------------------------"
   ]
  },
  {
   "cell_type": "markdown",
   "id": "0abcdde7",
   "metadata": {
    "papermill": {
     "duration": 0.002667,
     "end_time": "2022-07-07T14:11:54.823029",
     "exception": false,
     "start_time": "2022-07-07T14:11:54.820362",
     "status": "completed"
    },
    "tags": []
   },
   "source": [
    "---"
   ]
  },
  {
   "cell_type": "markdown",
   "id": "de522b01",
   "metadata": {
    "lines_to_next_cell": 2,
    "papermill": {
     "duration": 0.002668,
     "end_time": "2022-07-07T14:11:54.828979",
     "exception": false,
     "start_time": "2022-07-07T14:11:54.826311",
     "status": "completed"
    },
    "tags": []
   },
   "source": [
    "### Notebook code"
   ]
  },
  {
   "cell_type": "code",
   "execution_count": 5,
   "id": "0db7a660",
   "metadata": {
    "execution": {
     "iopub.execute_input": "2022-07-07T14:11:54.836097Z",
     "iopub.status.busy": "2022-07-07T14:11:54.835885Z",
     "iopub.status.idle": "2022-07-07T14:11:55.316488Z",
     "shell.execute_reply": "2022-07-07T14:11:55.315354Z"
    },
    "papermill": {
     "duration": 0.48706,
     "end_time": "2022-07-07T14:11:55.318617",
     "exception": false,
     "start_time": "2022-07-07T14:11:54.831557",
     "status": "completed"
    },
    "tags": []
   },
   "outputs": [
    {
     "name": "stderr",
     "output_type": "stream",
     "text": [
      "2022-07-07 14:11:55,144\tINFO worker.py:842 -- Connecting to existing Ray cluster at address: 172.17.0.2:6379\n"
     ]
    }
   ],
   "source": [
    "from pynb_dag_runner.tasks.task_opentelemetry_logging import PydarLogger\n",
    "\n",
    "logger = PydarLogger(P)"
   ]
  },
  {
   "cell_type": "markdown",
   "id": "da565d87",
   "metadata": {
    "papermill": {
     "duration": 0.003866,
     "end_time": "2022-07-07T14:11:55.326238",
     "exception": false,
     "start_time": "2022-07-07T14:11:55.322372",
     "status": "completed"
    },
    "tags": []
   },
   "source": [
    "## Load and limit train data"
   ]
  },
  {
   "cell_type": "code",
   "execution_count": 6,
   "id": "34aa92ca",
   "metadata": {
    "execution": {
     "iopub.execute_input": "2022-07-07T14:11:55.333713Z",
     "iopub.status.busy": "2022-07-07T14:11:55.333303Z",
     "iopub.status.idle": "2022-07-07T14:11:55.796912Z",
     "shell.execute_reply": "2022-07-07T14:11:55.795892Z"
    },
    "papermill": {
     "duration": 0.469962,
     "end_time": "2022-07-07T14:11:55.798884",
     "exception": false,
     "start_time": "2022-07-07T14:11:55.328922",
     "status": "completed"
    },
    "tags": []
   },
   "outputs": [],
   "source": [
    "def load_and_limit_train_data(P):\n",
    "    from common.io import datalake_root, read_numpy\n",
    "    from sklearn.model_selection import train_test_split\n",
    "\n",
    "    X_train_all = read_numpy(datalake_root(P) / \"train-data\" / \"digits.numpy\")\n",
    "    y_train_all = read_numpy(datalake_root(P) / \"train-data\" / \"labels.numpy\")\n",
    "\n",
    "    assert isinstance(P[\"task.nr_train_images\"], int)\n",
    "\n",
    "    # Note: train_test_split will fail if split is 0 or 100%.\n",
    "    assert 0 < P[\"task.nr_train_images\"] < len(y_train_all)\n",
    "\n",
    "    X_train, _, y_train, _ = train_test_split(\n",
    "        X_train_all,\n",
    "        y_train_all,\n",
    "        train_size=P[\"task.nr_train_images\"],\n",
    "        test_size=None,\n",
    "        stratify=y_train_all,\n",
    "        shuffle=True,\n",
    "        random_state=123,\n",
    "    )\n",
    "\n",
    "    assert X_train.shape == (len(y_train), 8 * 8)\n",
    "    return X_train, y_train\n",
    "\n",
    "\n",
    "X_train, y_train = load_and_limit_train_data(P)"
   ]
  },
  {
   "cell_type": "markdown",
   "id": "27e1e861",
   "metadata": {
    "papermill": {
     "duration": 0.003988,
     "end_time": "2022-07-07T14:11:55.808598",
     "exception": false,
     "start_time": "2022-07-07T14:11:55.804610",
     "status": "completed"
    },
    "tags": []
   },
   "source": [
    "## Train support vector classifier model\n",
    "\n",
    "Below we assume that the hyperparameter $C$ is known.\n",
    "\n",
    "However, this should ideally be found by a hyperparameter search. That could be\n",
    "done in parallel on the Ray cluster, but this needs some more work. Ie., to use\n",
    "multiple cores in the notebook, those cores should be reserved when starting the\n",
    "notebook task (TODO).\n",
    "\n",
    "- https://docs.ray.io/en/latest/tune/key-concepts.html\n",
    "\n",
    "Note: cv-scores would need to be computed here, since they depend on the train data.\n",
    "After this notebook only the onnx-model is available."
   ]
  },
  {
   "cell_type": "code",
   "execution_count": 7,
   "id": "eedcc752",
   "metadata": {
    "execution": {
     "iopub.execute_input": "2022-07-07T14:11:55.816439Z",
     "iopub.status.busy": "2022-07-07T14:11:55.816069Z",
     "iopub.status.idle": "2022-07-07T14:11:55.840714Z",
     "shell.execute_reply": "2022-07-07T14:11:55.839988Z"
    },
    "papermill": {
     "duration": 0.030702,
     "end_time": "2022-07-07T14:11:55.842420",
     "exception": false,
     "start_time": "2022-07-07T14:11:55.811718",
     "status": "completed"
    },
    "tags": []
   },
   "outputs": [],
   "source": [
    "from sklearn.svm import SVC"
   ]
  },
  {
   "cell_type": "code",
   "execution_count": 8,
   "id": "4ae2d4b5",
   "metadata": {
    "execution": {
     "iopub.execute_input": "2022-07-07T14:11:55.851698Z",
     "iopub.status.busy": "2022-07-07T14:11:55.851301Z",
     "iopub.status.idle": "2022-07-07T14:11:55.946972Z",
     "shell.execute_reply": "2022-07-07T14:11:55.946089Z"
    },
    "papermill": {
     "duration": 0.10221,
     "end_time": "2022-07-07T14:11:55.948614",
     "exception": false,
     "start_time": "2022-07-07T14:11:55.846404",
     "status": "completed"
    },
    "tags": []
   },
   "outputs": [
    {
     "data": {
      "text/plain": [
       "SVC(C=0.01, kernel='linear', probability=True)"
      ]
     },
     "execution_count": 8,
     "metadata": {},
     "output_type": "execute_result"
    }
   ],
   "source": [
    "model = SVC(C=0.01, kernel=\"linear\", probability=True)\n",
    "\n",
    "model.fit(X_train, y_train)"
   ]
  },
  {
   "cell_type": "markdown",
   "id": "30d6ee95",
   "metadata": {
    "papermill": {
     "duration": 0.003476,
     "end_time": "2022-07-07T14:11:55.955486",
     "exception": false,
     "start_time": "2022-07-07T14:11:55.952010",
     "status": "completed"
    },
    "tags": []
   },
   "source": [
    "### Q: Can the labels returned by `predict(..)` be computed from probabilities returned by the `predict_prob`-method?"
   ]
  },
  {
   "cell_type": "code",
   "execution_count": 9,
   "id": "da193a7b",
   "metadata": {
    "execution": {
     "iopub.execute_input": "2022-07-07T14:11:55.970375Z",
     "iopub.status.busy": "2022-07-07T14:11:55.969978Z",
     "iopub.status.idle": "2022-07-07T14:11:56.012287Z",
     "shell.execute_reply": "2022-07-07T14:11:56.011727Z"
    },
    "papermill": {
     "duration": 0.047901,
     "end_time": "2022-07-07T14:11:56.013765",
     "exception": false,
     "start_time": "2022-07-07T14:11:55.965864",
     "status": "completed"
    },
    "tags": []
   },
   "outputs": [
    {
     "name": "stdout",
     "output_type": "stream",
     "text": [
      " - Logging nr_max_prob_neq_label (int) : 0\n"
     ]
    }
   ],
   "source": [
    "import numpy as np\n",
    "\n",
    "y_train_labels = model.predict(X_train)\n",
    "y_train_probabilities = model.predict_proba(X_train)\n",
    "assert y_train_probabilities.shape == (len(y_train), 10)\n",
    "\n",
    "y_train_max_prob_labels = np.argmax(y_train_probabilities, axis=1)\n",
    "assert y_train_labels.shape == y_train_max_prob_labels.shape == y_train.shape\n",
    "\n",
    "# If the predicted labels would coincide with the labels that have\n",
    "# maximum probability, the below number would be zero\n",
    "logger.log_int(\n",
    "    \"nr_max_prob_neq_label\", int(sum(y_train_max_prob_labels != y_train_labels))\n",
    ")"
   ]
  },
  {
   "cell_type": "markdown",
   "id": "919b22b6",
   "metadata": {
    "papermill": {
     "duration": 0.003112,
     "end_time": "2022-07-07T14:11:56.020006",
     "exception": false,
     "start_time": "2022-07-07T14:11:56.016894",
     "status": "completed"
    },
    "tags": []
   },
   "source": [
    "The explanation is (likely) explained in the SVC source, see\n",
    "[here](https://github.com/scikit-learn/scikit-learn/blob/main/sklearn/svm/_base.py).\n",
    "Namely, the outputs from `predict(..)` and `predict_proba(..)` may not in some\n",
    "cases be compatible since the latter is computed using cross-validation while\n",
    "the former is not. Thus, the above number need not be zero."
   ]
  },
  {
   "cell_type": "markdown",
   "id": "ee923ed6",
   "metadata": {
    "papermill": {
     "duration": 0.002994,
     "end_time": "2022-07-07T14:11:56.025918",
     "exception": false,
     "start_time": "2022-07-07T14:11:56.022924",
     "status": "completed"
    },
    "tags": []
   },
   "source": [
    "## Persist model"
   ]
  },
  {
   "cell_type": "code",
   "execution_count": 10,
   "id": "b64de868",
   "metadata": {
    "execution": {
     "iopub.execute_input": "2022-07-07T14:11:56.033338Z",
     "iopub.status.busy": "2022-07-07T14:11:56.033065Z",
     "iopub.status.idle": "2022-07-07T14:11:56.810058Z",
     "shell.execute_reply": "2022-07-07T14:11:56.809333Z"
    },
    "papermill": {
     "duration": 0.78416,
     "end_time": "2022-07-07T14:11:56.813303",
     "exception": false,
     "start_time": "2022-07-07T14:11:56.029143",
     "status": "completed"
    },
    "tags": []
   },
   "outputs": [],
   "source": [
    "from skl2onnx import convert_sklearn\n",
    "from skl2onnx.common.data_types import FloatTensorType\n",
    "\n",
    "#\n",
    "from common.io import datalake_root, write_onnx"
   ]
  },
  {
   "cell_type": "code",
   "execution_count": 11,
   "id": "9b2d62fb",
   "metadata": {
    "execution": {
     "iopub.execute_input": "2022-07-07T14:11:56.824956Z",
     "iopub.status.busy": "2022-07-07T14:11:56.824569Z",
     "iopub.status.idle": "2022-07-07T14:11:56.873780Z",
     "shell.execute_reply": "2022-07-07T14:11:56.873006Z"
    },
    "papermill": {
     "duration": 0.055346,
     "end_time": "2022-07-07T14:11:56.875641",
     "exception": false,
     "start_time": "2022-07-07T14:11:56.820295",
     "status": "completed"
    },
    "tags": []
   },
   "outputs": [],
   "source": [
    "# convert sklearn model into onnx and persist to data lake\n",
    "\n",
    "model_onnx = convert_sklearn(\n",
    "    model, initial_types=[(\"float_input_8x8_image\", FloatTensorType([None, 8 * 8]))]\n",
    ")\n",
    "write_onnx(\n",
    "    datalake_root(P)\n",
    "    / \"models\"\n",
    "    / f\"nr_train_images={P['task.nr_train_images']}\"\n",
    "    / \"model.onnx\",\n",
    "    model_onnx,\n",
    ")"
   ]
  },
  {
   "cell_type": "code",
   "execution_count": null,
   "id": "5e6df3ec",
   "metadata": {
    "papermill": {
     "duration": 0.004155,
     "end_time": "2022-07-07T14:11:56.883110",
     "exception": false,
     "start_time": "2022-07-07T14:11:56.878955",
     "status": "completed"
    },
    "tags": []
   },
   "outputs": [],
   "source": []
  }
 ],
 "metadata": {
  "jupytext": {
   "cell_metadata_filter": "tags,-all",
   "main_language": "python",
   "notebook_metadata_filter": "-all"
  },
  "language_info": {
   "codemirror_mode": {
    "name": "ipython",
    "version": 3
   },
   "file_extension": ".py",
   "mimetype": "text/x-python",
   "name": "python",
   "nbconvert_exporter": "python",
   "pygments_lexer": "ipython3",
   "version": "3.8.10"
  },
  "papermill": {
   "default_parameters": {},
   "duration": 4.469353,
   "end_time": "2022-07-07T14:11:58.014543",
   "environment_variables": {},
   "exception": null,
   "input_path": "/home/host_user/workspace/mnist-demo-pipeline/mnist-demo-pipeline/notebooks/temp-notebook-tkcdgj_x.ipynb",
   "output_path": "notebooks/train-model.ipynb",
   "parameters": {
    "P": {
     "_opentelemetry_traceparent": "00-95fffe829ee04d9f9ab9d1fdc8486363-f6a277d24ec0a554-01",
     "pipeline.data_lake_root": "/pipeline-outputs/data-lake",
     "pipeline.github.actor": "matiasdahl",
     "pipeline.github.base_ref": "development",
     "pipeline.github.event_name": "pull_request",
     "pipeline.github.head_ref": "try-C-hyperparameter",
     "pipeline.github.job": "run-tests-pipeline-and-persist-pipeline-outputs",
     "pipeline.github.ref": "refs/pull/55/merge",
     "pipeline.github.ref_name": "55/merge",
     "pipeline.github.ref_type": "branch",
     "pipeline.github.repository": "pynb-dag-runner/mnist-digits-demo-pipeline",
     "pipeline.github.run_id": "2630097778",
     "pipeline.github.runner_name": "Hosted Agent",
     "pipeline.github.sha": "2e68fc4d090046a0d419e76130414dbc4e2cbe82",
     "pipeline.github.workflow": "Run automated tests, pipeline and deploy results to static reporting site",
     "pipeline.pipeline_run_id": "366d576b-8f71-424a-a433-f9e0dceff067",
     "pipeline.run_environment": "ci",
     "run.retry_nr": "0",
     "task.max_nr_retries": "1",
     "task.notebook": "notebooks/train-model.py",
     "task.nr_train_images": 600,
     "task.num_cpus": 1,
     "task.timeout_s": "None"
    }
   },
   "start_time": "2022-07-07T14:11:53.545190",
   "version": "2.3.3"
  }
 },
 "nbformat": 4,
 "nbformat_minor": 5
}