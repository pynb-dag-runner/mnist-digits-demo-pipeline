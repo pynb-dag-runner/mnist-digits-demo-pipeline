{
 "cells": [
  {
   "cell_type": "markdown",
   "id": "0b2e5906",
   "metadata": {
    "papermill": {
     "duration": 0.00344,
     "end_time": "2022-07-07T14:11:33.865061",
     "exception": false,
     "start_time": "2022-07-07T14:11:33.861621",
     "status": "completed"
    },
    "tags": []
   },
   "source": [
    "# Ingest toy version of MNIST digit data from sklearn"
   ]
  },
  {
   "cell_type": "markdown",
   "id": "e5d8d4b3",
   "metadata": {
    "papermill": {
     "duration": 0.002431,
     "end_time": "2022-07-07T14:11:33.870194",
     "exception": false,
     "start_time": "2022-07-07T14:11:33.867763",
     "status": "completed"
    },
    "tags": []
   },
   "source": [
    "### Determine run parameters"
   ]
  },
  {
   "cell_type": "code",
   "execution_count": 1,
   "id": "67da4e62",
   "metadata": {
    "execution": {
     "iopub.execute_input": "2022-07-07T14:11:33.876346Z",
     "iopub.status.busy": "2022-07-07T14:11:33.875848Z",
     "iopub.status.idle": "2022-07-07T14:11:33.887977Z",
     "shell.execute_reply": "2022-07-07T14:11:33.886596Z"
    },
    "lines_to_next_cell": 0,
    "papermill": {
     "duration": 0.018028,
     "end_time": "2022-07-07T14:11:33.890444",
     "exception": false,
     "start_time": "2022-07-07T14:11:33.872416",
     "status": "completed"
    },
    "tags": []
   },
   "outputs": [],
   "source": [
    "# ----------------- Parameters for interactive development --------------\n",
    "P = {\n",
    "    \"pipeline.run_environment\": \"dev\",\n",
    "    \"pipeline.data_lake_root\": \"/pipeline-outputs/data-lake\",\n",
    "    \"run.retry_nr\": \"1\",\n",
    "}"
   ]
  },
  {
   "cell_type": "code",
   "execution_count": 2,
   "id": "6c59fb17",
   "metadata": {
    "execution": {
     "iopub.execute_input": "2022-07-07T14:11:33.896185Z",
     "iopub.status.busy": "2022-07-07T14:11:33.895772Z",
     "iopub.status.idle": "2022-07-07T14:11:33.898855Z",
     "shell.execute_reply": "2022-07-07T14:11:33.898188Z"
    },
    "lines_to_next_cell": 0,
    "papermill": {
     "duration": 0.007685,
     "end_time": "2022-07-07T14:11:33.900311",
     "exception": false,
     "start_time": "2022-07-07T14:11:33.892626",
     "status": "completed"
    },
    "tags": [
     "parameters"
    ]
   },
   "outputs": [],
   "source": [
    "# - During automated runs parameters will be injected in the below cell -"
   ]
  },
  {
   "cell_type": "code",
   "execution_count": 3,
   "id": "60f34907",
   "metadata": {
    "execution": {
     "iopub.execute_input": "2022-07-07T14:11:33.905860Z",
     "iopub.status.busy": "2022-07-07T14:11:33.905538Z",
     "iopub.status.idle": "2022-07-07T14:11:33.910099Z",
     "shell.execute_reply": "2022-07-07T14:11:33.909477Z"
    },
    "papermill": {
     "duration": 0.009039,
     "end_time": "2022-07-07T14:11:33.911438",
     "exception": false,
     "start_time": "2022-07-07T14:11:33.902399",
     "status": "completed"
    },
    "tags": [
     "injected-parameters"
    ]
   },
   "outputs": [],
   "source": [
    "# Parameters\n",
    "P = {\n",
    "    \"pipeline.data_lake_root\": \"/pipeline-outputs/data-lake\",\n",
    "    \"pipeline.run_environment\": \"ci\",\n",
    "    \"pipeline.pipeline_run_id\": \"366d576b-8f71-424a-a433-f9e0dceff067\",\n",
    "    \"pipeline.github.repository\": \"pynb-dag-runner/mnist-digits-demo-pipeline\",\n",
    "    \"pipeline.github.workflow\": \"Run automated tests, pipeline and deploy results to static reporting site\",\n",
    "    \"pipeline.github.runner_name\": \"Hosted Agent\",\n",
    "    \"pipeline.github.run_id\": \"2630097778\",\n",
    "    \"pipeline.github.actor\": \"matiasdahl\",\n",
    "    \"pipeline.github.job\": \"run-tests-pipeline-and-persist-pipeline-outputs\",\n",
    "    \"pipeline.github.base_ref\": \"development\",\n",
    "    \"pipeline.github.head_ref\": \"try-C-hyperparameter\",\n",
    "    \"pipeline.github.sha\": \"2e68fc4d090046a0d419e76130414dbc4e2cbe82\",\n",
    "    \"pipeline.github.ref\": \"refs/pull/55/merge\",\n",
    "    \"pipeline.github.ref_type\": \"branch\",\n",
    "    \"pipeline.github.ref_name\": \"55/merge\",\n",
    "    \"pipeline.github.event_name\": \"pull_request\",\n",
    "    \"task.notebook\": \"notebooks/ingest.py\",\n",
    "    \"task.max_nr_retries\": \"15\",\n",
    "    \"run.retry_nr\": \"10\",\n",
    "    \"task.timeout_s\": \"10\",\n",
    "    \"task.num_cpus\": 1,\n",
    "    \"_opentelemetry_traceparent\": \"00-95fffe829ee04d9f9ab9d1fdc8486363-4446434964eb7510-01\",\n",
    "}\n"
   ]
  },
  {
   "cell_type": "code",
   "execution_count": 4,
   "id": "2436e19b",
   "metadata": {
    "execution": {
     "iopub.execute_input": "2022-07-07T14:11:33.917208Z",
     "iopub.status.busy": "2022-07-07T14:11:33.916610Z",
     "iopub.status.idle": "2022-07-07T14:11:33.919775Z",
     "shell.execute_reply": "2022-07-07T14:11:33.919173Z"
    },
    "lines_to_next_cell": 0,
    "papermill": {
     "duration": 0.007849,
     "end_time": "2022-07-07T14:11:33.921421",
     "exception": false,
     "start_time": "2022-07-07T14:11:33.913572",
     "status": "completed"
    },
    "tags": []
   },
   "outputs": [],
   "source": [
    "# -----------------------------------------------------------------------"
   ]
  },
  {
   "cell_type": "markdown",
   "id": "76b0db0e",
   "metadata": {
    "lines_to_next_cell": 2,
    "papermill": {
     "duration": 0.002286,
     "end_time": "2022-07-07T14:11:33.926012",
     "exception": false,
     "start_time": "2022-07-07T14:11:33.923726",
     "status": "completed"
    },
    "tags": []
   },
   "source": [
    "---"
   ]
  },
  {
   "cell_type": "markdown",
   "id": "da9654ba",
   "metadata": {
    "papermill": {
     "duration": 0.002423,
     "end_time": "2022-07-07T14:11:33.930991",
     "exception": false,
     "start_time": "2022-07-07T14:11:33.928568",
     "status": "completed"
    },
    "tags": []
   },
   "source": [
    "### Simulate different types of failures (for testing timeout and retry logic)"
   ]
  },
  {
   "cell_type": "code",
   "execution_count": 5,
   "id": "b8f08944",
   "metadata": {
    "execution": {
     "iopub.execute_input": "2022-07-07T14:11:33.936951Z",
     "iopub.status.busy": "2022-07-07T14:11:33.936414Z",
     "iopub.status.idle": "2022-07-07T14:11:34.379287Z",
     "shell.execute_reply": "2022-07-07T14:11:34.378466Z"
    },
    "papermill": {
     "duration": 0.448092,
     "end_time": "2022-07-07T14:11:34.381272",
     "exception": false,
     "start_time": "2022-07-07T14:11:33.933180",
     "status": "completed"
    },
    "tags": []
   },
   "outputs": [
    {
     "name": "stderr",
     "output_type": "stream",
     "text": [
      "2022-07-07 14:11:34,229\tINFO worker.py:842 -- Connecting to existing Ray cluster at address: 172.17.0.2:6379\n"
     ]
    }
   ],
   "source": [
    "from pynb_dag_runner.tasks.task_opentelemetry_logging import PydarLogger\n",
    "\n",
    "logger = PydarLogger(P)"
   ]
  },
  {
   "cell_type": "code",
   "execution_count": 6,
   "id": "6ceb1f33",
   "metadata": {
    "execution": {
     "iopub.execute_input": "2022-07-07T14:11:34.388409Z",
     "iopub.status.busy": "2022-07-07T14:11:34.387961Z",
     "iopub.status.idle": "2022-07-07T14:11:34.392957Z",
     "shell.execute_reply": "2022-07-07T14:11:34.392296Z"
    },
    "papermill": {
     "duration": 0.010531,
     "end_time": "2022-07-07T14:11:34.394876",
     "exception": false,
     "start_time": "2022-07-07T14:11:34.384345",
     "status": "completed"
    },
    "tags": []
   },
   "outputs": [],
   "source": [
    "import time, random\n",
    "\n",
    "\n",
    "def maybe_crash(retry_nr: int, run_environment: str):\n",
    "    if retry_nr == 2 and run_environment == \"ci\":\n",
    "        time.sleep(1e6)\n",
    "\n",
    "    max_retry_nr: int = 3 if run_environment == \"dev\" else 10\n",
    "\n",
    "    if retry_nr < max_retry_nr:\n",
    "        if random.random() < 0.1:\n",
    "            time.sleep(1e6)\n",
    "        else:\n",
    "            raise Exception(\"Simulated exception failure from ingestion step notebook!\")\n",
    "\n",
    "\n",
    "maybe_crash(\n",
    "    retry_nr=int(P[\"run.retry_nr\"]), run_environment=P[\"pipeline.run_environment\"]\n",
    ")"
   ]
  },
  {
   "cell_type": "markdown",
   "id": "01f52c1e",
   "metadata": {
    "lines_to_next_cell": 2,
    "papermill": {
     "duration": 0.002501,
     "end_time": "2022-07-07T14:11:34.399807",
     "exception": false,
     "start_time": "2022-07-07T14:11:34.397306",
     "status": "completed"
    },
    "tags": []
   },
   "source": [
    "### Notebook code"
   ]
  },
  {
   "cell_type": "code",
   "execution_count": 7,
   "id": "66f5f03d",
   "metadata": {
    "execution": {
     "iopub.execute_input": "2022-07-07T14:11:34.405971Z",
     "iopub.status.busy": "2022-07-07T14:11:34.405449Z",
     "iopub.status.idle": "2022-07-07T14:11:35.608302Z",
     "shell.execute_reply": "2022-07-07T14:11:35.607495Z"
    },
    "papermill": {
     "duration": 1.208176,
     "end_time": "2022-07-07T14:11:35.610274",
     "exception": false,
     "start_time": "2022-07-07T14:11:34.402098",
     "status": "completed"
    },
    "tags": []
   },
   "outputs": [],
   "source": [
    "from sklearn import datasets\n",
    "\n",
    "#\n",
    "from common.io import datalake_root, write_numpy"
   ]
  },
  {
   "cell_type": "code",
   "execution_count": 8,
   "id": "f4bda55d",
   "metadata": {
    "execution": {
     "iopub.execute_input": "2022-07-07T14:11:35.620979Z",
     "iopub.status.busy": "2022-07-07T14:11:35.620729Z",
     "iopub.status.idle": "2022-07-07T14:11:35.634822Z",
     "shell.execute_reply": "2022-07-07T14:11:35.633386Z"
    },
    "lines_to_next_cell": 2,
    "papermill": {
     "duration": 0.023158,
     "end_time": "2022-07-07T14:11:35.636292",
     "exception": false,
     "start_time": "2022-07-07T14:11:35.613134",
     "status": "completed"
    },
    "tags": []
   },
   "outputs": [],
   "source": [
    "digits = datasets.load_digits()\n",
    "\n",
    "X = digits[\"data\"]\n",
    "y = digits[\"target\"]"
   ]
  },
  {
   "cell_type": "code",
   "execution_count": 9,
   "id": "2dd1af11",
   "metadata": {
    "execution": {
     "iopub.execute_input": "2022-07-07T14:11:35.642703Z",
     "iopub.status.busy": "2022-07-07T14:11:35.642290Z",
     "iopub.status.idle": "2022-07-07T14:11:35.653625Z",
     "shell.execute_reply": "2022-07-07T14:11:35.652898Z"
    },
    "papermill": {
     "duration": 0.016855,
     "end_time": "2022-07-07T14:11:35.655727",
     "exception": false,
     "start_time": "2022-07-07T14:11:35.638872",
     "status": "completed"
    },
    "tags": []
   },
   "outputs": [
    {
     "name": "stdout",
     "output_type": "stream",
     "text": [
      " - Logging data_shape (json) : [1797, 64]\n",
      " - Logging target_shape (json) : [1797]\n"
     ]
    },
    {
     "data": {
      "text/plain": [
       "((1797, 64), (1797,))"
      ]
     },
     "execution_count": 9,
     "metadata": {},
     "output_type": "execute_result"
    }
   ],
   "source": [
    "logger.log_value(\"data_shape\", list(X.shape))\n",
    "logger.log_value(\"target_shape\", list(y.shape))\n",
    "\n",
    "X.shape, y.shape"
   ]
  },
  {
   "cell_type": "code",
   "execution_count": 10,
   "id": "5e3fb45e",
   "metadata": {
    "execution": {
     "iopub.execute_input": "2022-07-07T14:11:35.664860Z",
     "iopub.status.busy": "2022-07-07T14:11:35.664521Z",
     "iopub.status.idle": "2022-07-07T14:11:35.673368Z",
     "shell.execute_reply": "2022-07-07T14:11:35.672551Z"
    },
    "papermill": {
     "duration": 0.016555,
     "end_time": "2022-07-07T14:11:35.674865",
     "exception": false,
     "start_time": "2022-07-07T14:11:35.658310",
     "status": "completed"
    },
    "tags": []
   },
   "outputs": [],
   "source": [
    "write_numpy(datalake_root(P) / \"raw\" / \"digits.numpy\", X)\n",
    "write_numpy(datalake_root(P) / \"raw\" / \"labels.numpy\", y)"
   ]
  },
  {
   "cell_type": "code",
   "execution_count": null,
   "id": "5f0b67aa",
   "metadata": {
    "papermill": {
     "duration": 0.003072,
     "end_time": "2022-07-07T14:11:35.680558",
     "exception": false,
     "start_time": "2022-07-07T14:11:35.677486",
     "status": "completed"
    },
    "tags": []
   },
   "outputs": [],
   "source": []
  }
 ],
 "metadata": {
  "jupytext": {
   "cell_metadata_filter": "tags,-all",
   "main_language": "python",
   "notebook_metadata_filter": "-all"
  },
  "language_info": {
   "codemirror_mode": {
    "name": "ipython",
    "version": 3
   },
   "file_extension": ".py",
   "mimetype": "text/x-python",
   "name": "python",
   "nbconvert_exporter": "python",
   "pygments_lexer": "ipython3",
   "version": "3.8.10"
  },
  "papermill": {
   "default_parameters": {},
   "duration": 3.917309,
   "end_time": "2022-07-07T14:11:36.601890",
   "environment_variables": {},
   "exception": null,
   "input_path": "/home/host_user/workspace/mnist-demo-pipeline/mnist-demo-pipeline/notebooks/temp-notebook-hcweicmk.ipynb",
   "output_path": "notebooks/ingest.ipynb",
   "parameters": {
    "P": {
     "_opentelemetry_traceparent": "00-95fffe829ee04d9f9ab9d1fdc8486363-4446434964eb7510-01",
     "pipeline.data_lake_root": "/pipeline-outputs/data-lake",
     "pipeline.github.actor": "matiasdahl",
     "pipeline.github.base_ref": "development",
     "pipeline.github.event_name": "pull_request",
     "pipeline.github.head_ref": "try-C-hyperparameter",
     "pipeline.github.job": "run-tests-pipeline-and-persist-pipeline-outputs",
     "pipeline.github.ref": "refs/pull/55/merge",
     "pipeline.github.ref_name": "55/merge",
     "pipeline.github.ref_type": "branch",
     "pipeline.github.repository": "pynb-dag-runner/mnist-digits-demo-pipeline",
     "pipeline.github.run_id": "2630097778",
     "pipeline.github.runner_name": "Hosted Agent",
     "pipeline.github.sha": "2e68fc4d090046a0d419e76130414dbc4e2cbe82",
     "pipeline.github.workflow": "Run automated tests, pipeline and deploy results to static reporting site",
     "pipeline.pipeline_run_id": "366d576b-8f71-424a-a433-f9e0dceff067",
     "pipeline.run_environment": "ci",
     "run.retry_nr": "10",
     "task.max_nr_retries": "15",
     "task.notebook": "notebooks/ingest.py",
     "task.num_cpus": 1,
     "task.timeout_s": "10"
    }
   },
   "start_time": "2022-07-07T14:11:32.684581",
   "version": "2.3.3"
  }
 },
 "nbformat": 4,
 "nbformat_minor": 5
}