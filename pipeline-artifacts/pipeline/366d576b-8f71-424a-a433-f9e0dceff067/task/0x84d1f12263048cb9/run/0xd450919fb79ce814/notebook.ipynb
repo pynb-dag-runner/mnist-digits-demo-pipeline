{
 "cells": [
  {
   "cell_type": "markdown",
   "id": "8722728a",
   "metadata": {
    "tags": [
     "papermill-error-cell-tag"
    ]
   },
   "source": [
    "<span style=\"color:red; font-family:Helvetica Neue, Helvetica, Arial, sans-serif; font-size:2em;\">An Exception was encountered at '<a href=\"#papermill-error-cell\">In [6]</a>'.</span>"
   ]
  },
  {
   "cell_type": "markdown",
   "id": "8472fbd1",
   "metadata": {
    "papermill": {
     "duration": 0.003799,
     "end_time": "2022-07-07T14:11:10.894464",
     "exception": false,
     "start_time": "2022-07-07T14:11:10.890665",
     "status": "completed"
    },
    "tags": []
   },
   "source": [
    "# Ingest toy version of MNIST digit data from sklearn"
   ]
  },
  {
   "cell_type": "markdown",
   "id": "d6746da7",
   "metadata": {
    "papermill": {
     "duration": 0.002252,
     "end_time": "2022-07-07T14:11:10.899351",
     "exception": false,
     "start_time": "2022-07-07T14:11:10.897099",
     "status": "completed"
    },
    "tags": []
   },
   "source": [
    "### Determine run parameters"
   ]
  },
  {
   "cell_type": "code",
   "execution_count": 1,
   "id": "de4aa889",
   "metadata": {
    "execution": {
     "iopub.execute_input": "2022-07-07T14:11:10.905896Z",
     "iopub.status.busy": "2022-07-07T14:11:10.904967Z",
     "iopub.status.idle": "2022-07-07T14:11:10.913042Z",
     "shell.execute_reply": "2022-07-07T14:11:10.912422Z"
    },
    "lines_to_next_cell": 0,
    "papermill": {
     "duration": 0.013391,
     "end_time": "2022-07-07T14:11:10.914808",
     "exception": false,
     "start_time": "2022-07-07T14:11:10.901417",
     "status": "completed"
    },
    "tags": []
   },
   "outputs": [],
   "source": [
    "# ----------------- Parameters for interactive development --------------\n",
    "P = {\n",
    "    \"pipeline.run_environment\": \"dev\",\n",
    "    \"pipeline.data_lake_root\": \"/pipeline-outputs/data-lake\",\n",
    "    \"run.retry_nr\": \"1\",\n",
    "}"
   ]
  },
  {
   "cell_type": "code",
   "execution_count": 2,
   "id": "6d971fbf",
   "metadata": {
    "execution": {
     "iopub.execute_input": "2022-07-07T14:11:10.920564Z",
     "iopub.status.busy": "2022-07-07T14:11:10.920162Z",
     "iopub.status.idle": "2022-07-07T14:11:10.923400Z",
     "shell.execute_reply": "2022-07-07T14:11:10.922675Z"
    },
    "lines_to_next_cell": 0,
    "papermill": {
     "duration": 0.007879,
     "end_time": "2022-07-07T14:11:10.924868",
     "exception": false,
     "start_time": "2022-07-07T14:11:10.916989",
     "status": "completed"
    },
    "tags": [
     "parameters"
    ]
   },
   "outputs": [],
   "source": [
    "# - During automated runs parameters will be injected in the below cell -"
   ]
  },
  {
   "cell_type": "code",
   "execution_count": 3,
   "id": "22700cdd",
   "metadata": {
    "execution": {
     "iopub.execute_input": "2022-07-07T14:11:10.930276Z",
     "iopub.status.busy": "2022-07-07T14:11:10.929960Z",
     "iopub.status.idle": "2022-07-07T14:11:10.934681Z",
     "shell.execute_reply": "2022-07-07T14:11:10.934082Z"
    },
    "papermill": {
     "duration": 0.008976,
     "end_time": "2022-07-07T14:11:10.936018",
     "exception": false,
     "start_time": "2022-07-07T14:11:10.927042",
     "status": "completed"
    },
    "tags": [
     "injected-parameters"
    ]
   },
   "outputs": [],
   "source": [
    "# Parameters\n",
    "P = {\n",
    "    \"pipeline.data_lake_root\": \"/pipeline-outputs/data-lake\",\n",
    "    \"pipeline.run_environment\": \"ci\",\n",
    "    \"pipeline.pipeline_run_id\": \"366d576b-8f71-424a-a433-f9e0dceff067\",\n",
    "    \"pipeline.github.repository\": \"pynb-dag-runner/mnist-digits-demo-pipeline\",\n",
    "    \"pipeline.github.workflow\": \"Run automated tests, pipeline and deploy results to static reporting site\",\n",
    "    \"pipeline.github.runner_name\": \"Hosted Agent\",\n",
    "    \"pipeline.github.run_id\": \"2630097778\",\n",
    "    \"pipeline.github.actor\": \"matiasdahl\",\n",
    "    \"pipeline.github.job\": \"run-tests-pipeline-and-persist-pipeline-outputs\",\n",
    "    \"pipeline.github.base_ref\": \"development\",\n",
    "    \"pipeline.github.head_ref\": \"try-C-hyperparameter\",\n",
    "    \"pipeline.github.sha\": \"2e68fc4d090046a0d419e76130414dbc4e2cbe82\",\n",
    "    \"pipeline.github.ref\": \"refs/pull/55/merge\",\n",
    "    \"pipeline.github.ref_type\": \"branch\",\n",
    "    \"pipeline.github.ref_name\": \"55/merge\",\n",
    "    \"pipeline.github.event_name\": \"pull_request\",\n",
    "    \"task.notebook\": \"notebooks/ingest.py\",\n",
    "    \"task.max_nr_retries\": \"15\",\n",
    "    \"run.retry_nr\": \"6\",\n",
    "    \"task.timeout_s\": \"10\",\n",
    "    \"task.num_cpus\": 1,\n",
    "    \"_opentelemetry_traceparent\": \"00-95fffe829ee04d9f9ab9d1fdc8486363-97ca608b7eea43fc-01\",\n",
    "}\n"
   ]
  },
  {
   "cell_type": "code",
   "execution_count": 4,
   "id": "a01fd9cd",
   "metadata": {
    "execution": {
     "iopub.execute_input": "2022-07-07T14:11:10.941950Z",
     "iopub.status.busy": "2022-07-07T14:11:10.941742Z",
     "iopub.status.idle": "2022-07-07T14:11:10.944712Z",
     "shell.execute_reply": "2022-07-07T14:11:10.943885Z"
    },
    "lines_to_next_cell": 0,
    "papermill": {
     "duration": 0.007953,
     "end_time": "2022-07-07T14:11:10.946264",
     "exception": false,
     "start_time": "2022-07-07T14:11:10.938311",
     "status": "completed"
    },
    "tags": []
   },
   "outputs": [],
   "source": [
    "# -----------------------------------------------------------------------"
   ]
  },
  {
   "cell_type": "markdown",
   "id": "16b236c2",
   "metadata": {
    "lines_to_next_cell": 2,
    "papermill": {
     "duration": 0.002192,
     "end_time": "2022-07-07T14:11:10.950856",
     "exception": false,
     "start_time": "2022-07-07T14:11:10.948664",
     "status": "completed"
    },
    "tags": []
   },
   "source": [
    "---"
   ]
  },
  {
   "cell_type": "markdown",
   "id": "a4952401",
   "metadata": {
    "papermill": {
     "duration": 0.002192,
     "end_time": "2022-07-07T14:11:10.955315",
     "exception": false,
     "start_time": "2022-07-07T14:11:10.953123",
     "status": "completed"
    },
    "tags": []
   },
   "source": [
    "### Simulate different types of failures (for testing timeout and retry logic)"
   ]
  },
  {
   "cell_type": "code",
   "execution_count": 5,
   "id": "2b7f2e6b",
   "metadata": {
    "execution": {
     "iopub.execute_input": "2022-07-07T14:11:10.961141Z",
     "iopub.status.busy": "2022-07-07T14:11:10.960741Z",
     "iopub.status.idle": "2022-07-07T14:11:11.405672Z",
     "shell.execute_reply": "2022-07-07T14:11:11.404862Z"
    },
    "papermill": {
     "duration": 0.449999,
     "end_time": "2022-07-07T14:11:11.407549",
     "exception": false,
     "start_time": "2022-07-07T14:11:10.957550",
     "status": "completed"
    },
    "tags": []
   },
   "outputs": [
    {
     "name": "stderr",
     "output_type": "stream",
     "text": [
      "2022-07-07 14:11:11,255\tINFO worker.py:842 -- Connecting to existing Ray cluster at address: 172.17.0.2:6379\n"
     ]
    }
   ],
   "source": [
    "from pynb_dag_runner.tasks.task_opentelemetry_logging import PydarLogger\n",
    "\n",
    "logger = PydarLogger(P)"
   ]
  },
  {
   "cell_type": "markdown",
   "id": "f6c42b5e",
   "metadata": {
    "tags": [
     "papermill-error-cell-tag"
    ]
   },
   "source": [
    "<span id=\"papermill-error-cell\" style=\"color:red; font-family:Helvetica Neue, Helvetica, Arial, sans-serif; font-size:2em;\">Execution using papermill encountered an exception here and stopped:</span>"
   ]
  },
  {
   "cell_type": "code",
   "execution_count": 6,
   "id": "91f24d8a",
   "metadata": {
    "execution": {
     "iopub.execute_input": "2022-07-07T14:11:11.414661Z",
     "iopub.status.busy": "2022-07-07T14:11:11.414347Z",
     "iopub.status.idle": "2022-07-07T14:11:11.885735Z",
     "shell.execute_reply": "2022-07-07T14:11:11.884074Z"
    },
    "papermill": {
     "duration": 0.476364,
     "end_time": "2022-07-07T14:11:11.887103",
     "exception": true,
     "start_time": "2022-07-07T14:11:11.410739",
     "status": "failed"
    },
    "tags": []
   },
   "outputs": [
    {
     "ename": "Exception",
     "evalue": "Simulated exception failure from ingestion step notebook!",
     "output_type": "error",
     "traceback": [
      "\u001b[0;31m---------------------------------------------------------------------------\u001b[0m",
      "\u001b[0;31mException\u001b[0m                                 Traceback (most recent call last)",
      "Input \u001b[0;32mIn [6]\u001b[0m, in \u001b[0;36m<cell line: 17>\u001b[0;34m()\u001b[0m\n\u001b[1;32m     13\u001b[0m         \u001b[38;5;28;01melse\u001b[39;00m:\n\u001b[1;32m     14\u001b[0m             \u001b[38;5;28;01mraise\u001b[39;00m \u001b[38;5;167;01mException\u001b[39;00m(\u001b[38;5;124m\"\u001b[39m\u001b[38;5;124mSimulated exception failure from ingestion step notebook!\u001b[39m\u001b[38;5;124m\"\u001b[39m)\n\u001b[0;32m---> 17\u001b[0m \u001b[43mmaybe_crash\u001b[49m\u001b[43m(\u001b[49m\n\u001b[1;32m     18\u001b[0m \u001b[43m    \u001b[49m\u001b[43mretry_nr\u001b[49m\u001b[38;5;241;43m=\u001b[39;49m\u001b[38;5;28;43mint\u001b[39;49m\u001b[43m(\u001b[49m\u001b[43mP\u001b[49m\u001b[43m[\u001b[49m\u001b[38;5;124;43m\"\u001b[39;49m\u001b[38;5;124;43mrun.retry_nr\u001b[39;49m\u001b[38;5;124;43m\"\u001b[39;49m\u001b[43m]\u001b[49m\u001b[43m)\u001b[49m\u001b[43m,\u001b[49m\u001b[43m \u001b[49m\u001b[43mrun_environment\u001b[49m\u001b[38;5;241;43m=\u001b[39;49m\u001b[43mP\u001b[49m\u001b[43m[\u001b[49m\u001b[38;5;124;43m\"\u001b[39;49m\u001b[38;5;124;43mpipeline.run_environment\u001b[39;49m\u001b[38;5;124;43m\"\u001b[39;49m\u001b[43m]\u001b[49m\n\u001b[1;32m     19\u001b[0m \u001b[43m)\u001b[49m\n",
      "Input \u001b[0;32mIn [6]\u001b[0m, in \u001b[0;36mmaybe_crash\u001b[0;34m(retry_nr, run_environment)\u001b[0m\n\u001b[1;32m     12\u001b[0m     time\u001b[38;5;241m.\u001b[39msleep(\u001b[38;5;241m1e6\u001b[39m)\n\u001b[1;32m     13\u001b[0m \u001b[38;5;28;01melse\u001b[39;00m:\n\u001b[0;32m---> 14\u001b[0m     \u001b[38;5;28;01mraise\u001b[39;00m \u001b[38;5;167;01mException\u001b[39;00m(\u001b[38;5;124m\"\u001b[39m\u001b[38;5;124mSimulated exception failure from ingestion step notebook!\u001b[39m\u001b[38;5;124m\"\u001b[39m)\n",
      "\u001b[0;31mException\u001b[0m: Simulated exception failure from ingestion step notebook!"
     ]
    }
   ],
   "source": [
    "import time, random\n",
    "\n",
    "\n",
    "def maybe_crash(retry_nr: int, run_environment: str):\n",
    "    if retry_nr == 2 and run_environment == \"ci\":\n",
    "        time.sleep(1e6)\n",
    "\n",
    "    max_retry_nr: int = 3 if run_environment == \"dev\" else 10\n",
    "\n",
    "    if retry_nr < max_retry_nr:\n",
    "        if random.random() < 0.1:\n",
    "            time.sleep(1e6)\n",
    "        else:\n",
    "            raise Exception(\"Simulated exception failure from ingestion step notebook!\")\n",
    "\n",
    "\n",
    "maybe_crash(\n",
    "    retry_nr=int(P[\"run.retry_nr\"]), run_environment=P[\"pipeline.run_environment\"]\n",
    ")"
   ]
  },
  {
   "cell_type": "markdown",
   "id": "6a7c0bff",
   "metadata": {
    "lines_to_next_cell": 2,
    "papermill": {
     "duration": null,
     "end_time": null,
     "exception": null,
     "start_time": null,
     "status": "pending"
    },
    "tags": []
   },
   "source": [
    "### Notebook code"
   ]
  },
  {
   "cell_type": "code",
   "execution_count": null,
   "id": "99253f92",
   "metadata": {
    "papermill": {
     "duration": null,
     "end_time": null,
     "exception": null,
     "start_time": null,
     "status": "pending"
    },
    "tags": []
   },
   "outputs": [],
   "source": [
    "from sklearn import datasets\n",
    "\n",
    "#\n",
    "from common.io import datalake_root, write_numpy"
   ]
  },
  {
   "cell_type": "code",
   "execution_count": null,
   "id": "e097655f",
   "metadata": {
    "lines_to_next_cell": 2,
    "papermill": {
     "duration": null,
     "end_time": null,
     "exception": null,
     "start_time": null,
     "status": "pending"
    },
    "tags": []
   },
   "outputs": [],
   "source": [
    "digits = datasets.load_digits()\n",
    "\n",
    "X = digits[\"data\"]\n",
    "y = digits[\"target\"]"
   ]
  },
  {
   "cell_type": "code",
   "execution_count": null,
   "id": "2154e904",
   "metadata": {
    "papermill": {
     "duration": null,
     "end_time": null,
     "exception": null,
     "start_time": null,
     "status": "pending"
    },
    "tags": []
   },
   "outputs": [],
   "source": [
    "logger.log_value(\"data_shape\", list(X.shape))\n",
    "logger.log_value(\"target_shape\", list(y.shape))\n",
    "\n",
    "X.shape, y.shape"
   ]
  },
  {
   "cell_type": "code",
   "execution_count": null,
   "id": "60218a61",
   "metadata": {
    "papermill": {
     "duration": null,
     "end_time": null,
     "exception": null,
     "start_time": null,
     "status": "pending"
    },
    "tags": []
   },
   "outputs": [],
   "source": [
    "write_numpy(datalake_root(P) / \"raw\" / \"digits.numpy\", X)\n",
    "write_numpy(datalake_root(P) / \"raw\" / \"labels.numpy\", y)"
   ]
  },
  {
   "cell_type": "code",
   "execution_count": null,
   "id": "ddf84f70",
   "metadata": {
    "papermill": {
     "duration": null,
     "end_time": null,
     "exception": null,
     "start_time": null,
     "status": "pending"
    },
    "tags": []
   },
   "outputs": [],
   "source": []
  }
 ],
 "metadata": {
  "jupytext": {
   "cell_metadata_filter": "tags,-all",
   "main_language": "python",
   "notebook_metadata_filter": "-all"
  },
  "language_info": {
   "codemirror_mode": {
    "name": "ipython",
    "version": 3
   },
   "file_extension": ".py",
   "mimetype": "text/x-python",
   "name": "python",
   "nbconvert_exporter": "python",
   "pygments_lexer": "ipython3",
   "version": "3.8.10"
  },
  "papermill": {
   "default_parameters": {},
   "duration": 3.189088,
   "end_time": "2022-07-07T14:11:12.910031",
   "environment_variables": {},
   "exception": true,
   "input_path": "/home/host_user/workspace/mnist-demo-pipeline/mnist-demo-pipeline/notebooks/temp-notebook-wqmnicvd.ipynb",
   "output_path": "notebooks/ingest.ipynb",
   "parameters": {
    "P": {
     "_opentelemetry_traceparent": "00-95fffe829ee04d9f9ab9d1fdc8486363-97ca608b7eea43fc-01",
     "pipeline.data_lake_root": "/pipeline-outputs/data-lake",
     "pipeline.github.actor": "matiasdahl",
     "pipeline.github.base_ref": "development",
     "pipeline.github.event_name": "pull_request",
     "pipeline.github.head_ref": "try-C-hyperparameter",
     "pipeline.github.job": "run-tests-pipeline-and-persist-pipeline-outputs",
     "pipeline.github.ref": "refs/pull/55/merge",
     "pipeline.github.ref_name": "55/merge",
     "pipeline.github.ref_type": "branch",
     "pipeline.github.repository": "pynb-dag-runner/mnist-digits-demo-pipeline",
     "pipeline.github.run_id": "2630097778",
     "pipeline.github.runner_name": "Hosted Agent",
     "pipeline.github.sha": "2e68fc4d090046a0d419e76130414dbc4e2cbe82",
     "pipeline.github.workflow": "Run automated tests, pipeline and deploy results to static reporting site",
     "pipeline.pipeline_run_id": "366d576b-8f71-424a-a433-f9e0dceff067",
     "pipeline.run_environment": "ci",
     "run.retry_nr": "6",
     "task.max_nr_retries": "15",
     "task.notebook": "notebooks/ingest.py",
     "task.num_cpus": 1,
     "task.timeout_s": "10"
    }
   },
   "start_time": "2022-07-07T14:11:09.720943",
   "version": "2.3.3"
  }
 },
 "nbformat": 4,
 "nbformat_minor": 5
}