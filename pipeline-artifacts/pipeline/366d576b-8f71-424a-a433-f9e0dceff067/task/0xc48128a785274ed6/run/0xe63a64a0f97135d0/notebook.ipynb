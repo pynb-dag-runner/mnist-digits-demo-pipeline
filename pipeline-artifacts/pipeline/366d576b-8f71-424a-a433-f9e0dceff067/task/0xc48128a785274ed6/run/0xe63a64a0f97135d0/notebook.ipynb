{
 "cells": [
  {
   "cell_type": "markdown",
   "id": "1eaf23e5",
   "metadata": {
    "papermill": {
     "duration": 0.003465,
     "end_time": "2022-07-07T14:11:39.812803",
     "exception": false,
     "start_time": "2022-07-07T14:11:39.809338",
     "status": "completed"
    },
    "tags": []
   },
   "source": [
    "# Split digits and labels into separate training and testing data sets"
   ]
  },
  {
   "cell_type": "markdown",
   "id": "6f51e48a",
   "metadata": {
    "papermill": {
     "duration": 0.005493,
     "end_time": "2022-07-07T14:11:39.820925",
     "exception": false,
     "start_time": "2022-07-07T14:11:39.815432",
     "status": "completed"
    },
    "tags": []
   },
   "source": [
    "### Determine run parameters"
   ]
  },
  {
   "cell_type": "code",
   "execution_count": 1,
   "id": "7d73910a",
   "metadata": {
    "execution": {
     "iopub.execute_input": "2022-07-07T14:11:39.828248Z",
     "iopub.status.busy": "2022-07-07T14:11:39.827908Z",
     "iopub.status.idle": "2022-07-07T14:11:39.836338Z",
     "shell.execute_reply": "2022-07-07T14:11:39.835037Z"
    },
    "lines_to_next_cell": 0,
    "papermill": {
     "duration": 0.017134,
     "end_time": "2022-07-07T14:11:39.840369",
     "exception": false,
     "start_time": "2022-07-07T14:11:39.823235",
     "status": "completed"
    },
    "tags": []
   },
   "outputs": [],
   "source": [
    "# ----------------- Parameters for interactive development --------------\n",
    "P = {\n",
    "    \"pipeline.data_lake_root\": \"/pipeline-outputs/data-lake\",\n",
    "    \"task.train_test_ratio\": 0.7,\n",
    "}"
   ]
  },
  {
   "cell_type": "code",
   "execution_count": 2,
   "id": "ff9a3e4d",
   "metadata": {
    "execution": {
     "iopub.execute_input": "2022-07-07T14:11:39.846269Z",
     "iopub.status.busy": "2022-07-07T14:11:39.846050Z",
     "iopub.status.idle": "2022-07-07T14:11:39.850236Z",
     "shell.execute_reply": "2022-07-07T14:11:39.849040Z"
    },
    "lines_to_next_cell": 0,
    "papermill": {
     "duration": 0.011052,
     "end_time": "2022-07-07T14:11:39.853640",
     "exception": false,
     "start_time": "2022-07-07T14:11:39.842588",
     "status": "completed"
    },
    "tags": [
     "parameters"
    ]
   },
   "outputs": [],
   "source": [
    "# - During automated runs parameters will be injected in the below cell -"
   ]
  },
  {
   "cell_type": "code",
   "execution_count": 3,
   "id": "3b58c90a",
   "metadata": {
    "execution": {
     "iopub.execute_input": "2022-07-07T14:11:39.859780Z",
     "iopub.status.busy": "2022-07-07T14:11:39.859578Z",
     "iopub.status.idle": "2022-07-07T14:11:39.863809Z",
     "shell.execute_reply": "2022-07-07T14:11:39.863324Z"
    },
    "papermill": {
     "duration": 0.010287,
     "end_time": "2022-07-07T14:11:39.866180",
     "exception": false,
     "start_time": "2022-07-07T14:11:39.855893",
     "status": "completed"
    },
    "tags": [
     "injected-parameters"
    ]
   },
   "outputs": [],
   "source": [
    "# Parameters\n",
    "P = {\n",
    "    \"pipeline.data_lake_root\": \"/pipeline-outputs/data-lake\",\n",
    "    \"pipeline.run_environment\": \"ci\",\n",
    "    \"pipeline.pipeline_run_id\": \"366d576b-8f71-424a-a433-f9e0dceff067\",\n",
    "    \"pipeline.github.repository\": \"pynb-dag-runner/mnist-digits-demo-pipeline\",\n",
    "    \"pipeline.github.workflow\": \"Run automated tests, pipeline and deploy results to static reporting site\",\n",
    "    \"pipeline.github.runner_name\": \"Hosted Agent\",\n",
    "    \"pipeline.github.run_id\": \"2630097778\",\n",
    "    \"pipeline.github.actor\": \"matiasdahl\",\n",
    "    \"pipeline.github.job\": \"run-tests-pipeline-and-persist-pipeline-outputs\",\n",
    "    \"pipeline.github.base_ref\": \"development\",\n",
    "    \"pipeline.github.head_ref\": \"try-C-hyperparameter\",\n",
    "    \"pipeline.github.sha\": \"2e68fc4d090046a0d419e76130414dbc4e2cbe82\",\n",
    "    \"pipeline.github.ref\": \"refs/pull/55/merge\",\n",
    "    \"pipeline.github.ref_type\": \"branch\",\n",
    "    \"pipeline.github.ref_name\": \"55/merge\",\n",
    "    \"pipeline.github.event_name\": \"pull_request\",\n",
    "    \"task.train_test_ratio\": 0.7,\n",
    "    \"task.notebook\": \"notebooks/split-train-test.py\",\n",
    "    \"task.max_nr_retries\": \"1\",\n",
    "    \"run.retry_nr\": \"0\",\n",
    "    \"task.timeout_s\": \"None\",\n",
    "    \"task.num_cpus\": 1,\n",
    "    \"_opentelemetry_traceparent\": \"00-95fffe829ee04d9f9ab9d1fdc8486363-c794b342183058cc-01\",\n",
    "}\n"
   ]
  },
  {
   "cell_type": "code",
   "execution_count": 4,
   "id": "a53abd25",
   "metadata": {
    "execution": {
     "iopub.execute_input": "2022-07-07T14:11:39.872303Z",
     "iopub.status.busy": "2022-07-07T14:11:39.872106Z",
     "iopub.status.idle": "2022-07-07T14:11:39.874582Z",
     "shell.execute_reply": "2022-07-07T14:11:39.874087Z"
    },
    "lines_to_next_cell": 0,
    "papermill": {
     "duration": 0.007705,
     "end_time": "2022-07-07T14:11:39.876812",
     "exception": false,
     "start_time": "2022-07-07T14:11:39.869107",
     "status": "completed"
    },
    "tags": []
   },
   "outputs": [],
   "source": [
    "# -----------------------------------------------------------------------"
   ]
  },
  {
   "cell_type": "markdown",
   "id": "b48025d1",
   "metadata": {
    "papermill": {
     "duration": 0.003123,
     "end_time": "2022-07-07T14:11:39.882981",
     "exception": false,
     "start_time": "2022-07-07T14:11:39.879858",
     "status": "completed"
    },
    "tags": []
   },
   "source": [
    "---"
   ]
  },
  {
   "cell_type": "markdown",
   "id": "9cb4a7e9",
   "metadata": {
    "lines_to_next_cell": 2,
    "papermill": {
     "duration": 0.002173,
     "end_time": "2022-07-07T14:11:39.887467",
     "exception": false,
     "start_time": "2022-07-07T14:11:39.885294",
     "status": "completed"
    },
    "tags": []
   },
   "source": [
    "### Notebook code"
   ]
  },
  {
   "cell_type": "code",
   "execution_count": 5,
   "id": "03a7f531",
   "metadata": {
    "execution": {
     "iopub.execute_input": "2022-07-07T14:11:39.893887Z",
     "iopub.status.busy": "2022-07-07T14:11:39.893651Z",
     "iopub.status.idle": "2022-07-07T14:11:40.430149Z",
     "shell.execute_reply": "2022-07-07T14:11:40.429520Z"
    },
    "papermill": {
     "duration": 0.54164,
     "end_time": "2022-07-07T14:11:40.431927",
     "exception": false,
     "start_time": "2022-07-07T14:11:39.890287",
     "status": "completed"
    },
    "tags": []
   },
   "outputs": [
    {
     "name": "stderr",
     "output_type": "stream",
     "text": [
      "2022-07-07 14:11:40,239\tINFO worker.py:842 -- Connecting to existing Ray cluster at address: 172.17.0.2:6379\n"
     ]
    }
   ],
   "source": [
    "from common.io import datalake_root, read_numpy, write_numpy\n",
    "from pynb_dag_runner.tasks.task_opentelemetry_logging import PydarLogger\n",
    "\n",
    "logger = PydarLogger(P)"
   ]
  },
  {
   "cell_type": "markdown",
   "id": "3261fdc1",
   "metadata": {
    "papermill": {
     "duration": 0.004746,
     "end_time": "2022-07-07T14:11:40.439494",
     "exception": false,
     "start_time": "2022-07-07T14:11:40.434748",
     "status": "completed"
    },
    "tags": []
   },
   "source": [
    "## Load and split digits data"
   ]
  },
  {
   "cell_type": "code",
   "execution_count": 6,
   "id": "036dbfe8",
   "metadata": {
    "execution": {
     "iopub.execute_input": "2022-07-07T14:11:40.446651Z",
     "iopub.status.busy": "2022-07-07T14:11:40.445707Z",
     "iopub.status.idle": "2022-07-07T14:11:40.451719Z",
     "shell.execute_reply": "2022-07-07T14:11:40.451208Z"
    },
    "papermill": {
     "duration": 0.0147,
     "end_time": "2022-07-07T14:11:40.456516",
     "exception": false,
     "start_time": "2022-07-07T14:11:40.441816",
     "status": "completed"
    },
    "tags": []
   },
   "outputs": [],
   "source": [
    "X = read_numpy(datalake_root(P) / \"raw\" / \"digits.numpy\")\n",
    "y = read_numpy(datalake_root(P) / \"raw\" / \"labels.numpy\")"
   ]
  },
  {
   "cell_type": "code",
   "execution_count": 7,
   "id": "3c7c95b3",
   "metadata": {
    "execution": {
     "iopub.execute_input": "2022-07-07T14:11:40.462849Z",
     "iopub.status.busy": "2022-07-07T14:11:40.462399Z",
     "iopub.status.idle": "2022-07-07T14:11:40.915113Z",
     "shell.execute_reply": "2022-07-07T14:11:40.914477Z"
    },
    "papermill": {
     "duration": 0.458176,
     "end_time": "2022-07-07T14:11:40.917255",
     "exception": false,
     "start_time": "2022-07-07T14:11:40.459079",
     "status": "completed"
    },
    "tags": []
   },
   "outputs": [],
   "source": [
    "from sklearn.model_selection import train_test_split\n",
    "\n",
    "X_train, X_test, y_train, y_test = train_test_split(\n",
    "    X,\n",
    "    y,\n",
    "    train_size=P[\"task.train_test_ratio\"],\n",
    "    test_size=None,\n",
    "    stratify=y,\n",
    "    shuffle=True,\n",
    "    random_state=1,\n",
    ")\n",
    "\n",
    "# assert nr of pixels per image is the same for all image vectors\n",
    "assert X.shape[1] == X_train.shape[1] == X_test.shape[1]\n",
    "\n",
    "# assert that the (X, y)-pairs have compatible sizes (for both train and test)\n",
    "assert X_train.shape[0] == len(y_train)\n",
    "assert X_test.shape[0] == len(y_test)\n",
    "\n",
    "# assert that all data is used\n",
    "assert len(y) == len(y_train) + len(y_test)"
   ]
  },
  {
   "cell_type": "code",
   "execution_count": 8,
   "id": "af8f0a50",
   "metadata": {
    "execution": {
     "iopub.execute_input": "2022-07-07T14:11:40.927182Z",
     "iopub.status.busy": "2022-07-07T14:11:40.926696Z",
     "iopub.status.idle": "2022-07-07T14:11:40.934118Z",
     "shell.execute_reply": "2022-07-07T14:11:40.933491Z"
    },
    "papermill": {
     "duration": 0.015413,
     "end_time": "2022-07-07T14:11:40.935649",
     "exception": false,
     "start_time": "2022-07-07T14:11:40.920236",
     "status": "completed"
    },
    "tags": []
   },
   "outputs": [
    {
     "name": "stdout",
     "output_type": "stream",
     "text": [
      " - Logging nr_digits_train (int) : 1257\n",
      " - Logging nr_digits_test (int) : 540\n"
     ]
    }
   ],
   "source": [
    "logger.log_int(\"nr_digits_train\", len(y_train))\n",
    "logger.log_int(\"nr_digits_test\", len(y_test))"
   ]
  },
  {
   "cell_type": "markdown",
   "id": "2bc51546",
   "metadata": {
    "papermill": {
     "duration": 0.00864,
     "end_time": "2022-07-07T14:11:40.946959",
     "exception": false,
     "start_time": "2022-07-07T14:11:40.938319",
     "status": "completed"
    },
    "tags": []
   },
   "source": [
    "### Persist training and test data sets to separate files"
   ]
  },
  {
   "cell_type": "code",
   "execution_count": 9,
   "id": "7f58f776",
   "metadata": {
    "execution": {
     "iopub.execute_input": "2022-07-07T14:11:40.953894Z",
     "iopub.status.busy": "2022-07-07T14:11:40.953648Z",
     "iopub.status.idle": "2022-07-07T14:11:40.959212Z",
     "shell.execute_reply": "2022-07-07T14:11:40.958646Z"
    },
    "papermill": {
     "duration": 0.013017,
     "end_time": "2022-07-07T14:11:40.962442",
     "exception": false,
     "start_time": "2022-07-07T14:11:40.949425",
     "status": "completed"
    },
    "tags": []
   },
   "outputs": [],
   "source": [
    "write_numpy(datalake_root(P) / \"train-data\" / \"digits.numpy\", X_train)\n",
    "write_numpy(datalake_root(P) / \"train-data\" / \"labels.numpy\", y_train)\n",
    "\n",
    "#\n",
    "write_numpy(datalake_root(P) / \"test-data\" / \"digits.numpy\", X_test)\n",
    "write_numpy(datalake_root(P) / \"test-data\" / \"labels.numpy\", y_test)"
   ]
  },
  {
   "cell_type": "code",
   "execution_count": null,
   "id": "bb633dc0",
   "metadata": {
    "papermill": {
     "duration": 0.002696,
     "end_time": "2022-07-07T14:11:40.967837",
     "exception": false,
     "start_time": "2022-07-07T14:11:40.965141",
     "status": "completed"
    },
    "tags": []
   },
   "outputs": [],
   "source": []
  }
 ],
 "metadata": {
  "jupytext": {
   "cell_metadata_filter": "tags,-all",
   "main_language": "python",
   "notebook_metadata_filter": "-all"
  },
  "language_info": {
   "codemirror_mode": {
    "name": "ipython",
    "version": 3
   },
   "file_extension": ".py",
   "mimetype": "text/x-python",
   "name": "python",
   "nbconvert_exporter": "python",
   "pygments_lexer": "ipython3",
   "version": "3.8.10"
  },
  "papermill": {
   "default_parameters": {},
   "duration": 4.105192,
   "end_time": "2022-07-07T14:11:41.991452",
   "environment_variables": {},
   "exception": null,
   "input_path": "/home/host_user/workspace/mnist-demo-pipeline/mnist-demo-pipeline/notebooks/temp-notebook-zjpyynvo.ipynb",
   "output_path": "notebooks/split-train-test.ipynb",
   "parameters": {
    "P": {
     "_opentelemetry_traceparent": "00-95fffe829ee04d9f9ab9d1fdc8486363-c794b342183058cc-01",
     "pipeline.data_lake_root": "/pipeline-outputs/data-lake",
     "pipeline.github.actor": "matiasdahl",
     "pipeline.github.base_ref": "development",
     "pipeline.github.event_name": "pull_request",
     "pipeline.github.head_ref": "try-C-hyperparameter",
     "pipeline.github.job": "run-tests-pipeline-and-persist-pipeline-outputs",
     "pipeline.github.ref": "refs/pull/55/merge",
     "pipeline.github.ref_name": "55/merge",
     "pipeline.github.ref_type": "branch",
     "pipeline.github.repository": "pynb-dag-runner/mnist-digits-demo-pipeline",
     "pipeline.github.run_id": "2630097778",
     "pipeline.github.runner_name": "Hosted Agent",
     "pipeline.github.sha": "2e68fc4d090046a0d419e76130414dbc4e2cbe82",
     "pipeline.github.workflow": "Run automated tests, pipeline and deploy results to static reporting site",
     "pipeline.pipeline_run_id": "366d576b-8f71-424a-a433-f9e0dceff067",
     "pipeline.run_environment": "ci",
     "run.retry_nr": "0",
     "task.max_nr_retries": "1",
     "task.notebook": "notebooks/split-train-test.py",
     "task.num_cpus": 1,
     "task.timeout_s": "None",
     "task.train_test_ratio": 0.7
    }
   },
   "start_time": "2022-07-07T14:11:37.886260",
   "version": "2.3.3"
  }
 },
 "nbformat": 4,
 "nbformat_minor": 5
}