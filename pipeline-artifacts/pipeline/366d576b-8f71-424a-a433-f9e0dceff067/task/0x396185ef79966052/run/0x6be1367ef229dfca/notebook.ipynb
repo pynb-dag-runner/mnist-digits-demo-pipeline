{
 "cells": [
  {
   "cell_type": "markdown",
   "id": "be132dff",
   "metadata": {
    "papermill": {
     "duration": 0.003974,
     "end_time": "2022-07-07T14:11:44.785492",
     "exception": false,
     "start_time": "2022-07-07T14:11:44.781518",
     "status": "completed"
    },
    "tags": []
   },
   "source": [
    "# Train model\n",
    "\n",
    "The purpose of this notebook is:\n",
    "\n",
    "- Load all training data (images and labels).\n",
    "- Limit number of train images to `task.nr_train_images` (value provided as run parameter).\n",
    "- Train a support vector machine model using sklearn.\n",
    "- Persist the trained model using the ONNX format."
   ]
  },
  {
   "cell_type": "markdown",
   "id": "5e676431",
   "metadata": {
    "papermill": {
     "duration": 0.002605,
     "end_time": "2022-07-07T14:11:44.791550",
     "exception": false,
     "start_time": "2022-07-07T14:11:44.788945",
     "status": "completed"
    },
    "tags": []
   },
   "source": [
    "### Determine run parameters"
   ]
  },
  {
   "cell_type": "code",
   "execution_count": 1,
   "id": "93b2ae15",
   "metadata": {
    "execution": {
     "iopub.execute_input": "2022-07-07T14:11:44.798461Z",
     "iopub.status.busy": "2022-07-07T14:11:44.798114Z",
     "iopub.status.idle": "2022-07-07T14:11:44.806832Z",
     "shell.execute_reply": "2022-07-07T14:11:44.806283Z"
    },
    "lines_to_next_cell": 0,
    "papermill": {
     "duration": 0.014398,
     "end_time": "2022-07-07T14:11:44.808480",
     "exception": false,
     "start_time": "2022-07-07T14:11:44.794082",
     "status": "completed"
    },
    "tags": []
   },
   "outputs": [],
   "source": [
    "# ----------------- Parameters for interactive development --------------\n",
    "P = {\n",
    "    \"pipeline.data_lake_root\": \"/pipeline-outputs/data-lake\",\n",
    "    \"task.nr_train_images\": 600,\n",
    "}"
   ]
  },
  {
   "cell_type": "code",
   "execution_count": 2,
   "id": "6db78d39",
   "metadata": {
    "execution": {
     "iopub.execute_input": "2022-07-07T14:11:44.815223Z",
     "iopub.status.busy": "2022-07-07T14:11:44.814998Z",
     "iopub.status.idle": "2022-07-07T14:11:44.817885Z",
     "shell.execute_reply": "2022-07-07T14:11:44.817373Z"
    },
    "lines_to_next_cell": 0,
    "papermill": {
     "duration": 0.00907,
     "end_time": "2022-07-07T14:11:44.820280",
     "exception": false,
     "start_time": "2022-07-07T14:11:44.811210",
     "status": "completed"
    },
    "tags": [
     "parameters"
    ]
   },
   "outputs": [],
   "source": [
    "# - During automated runs parameters will be injected in the below cell -"
   ]
  },
  {
   "cell_type": "code",
   "execution_count": 3,
   "id": "65311f76",
   "metadata": {
    "execution": {
     "iopub.execute_input": "2022-07-07T14:11:44.827522Z",
     "iopub.status.busy": "2022-07-07T14:11:44.827279Z",
     "iopub.status.idle": "2022-07-07T14:11:44.832548Z",
     "shell.execute_reply": "2022-07-07T14:11:44.832012Z"
    },
    "papermill": {
     "duration": 0.011487,
     "end_time": "2022-07-07T14:11:44.835102",
     "exception": false,
     "start_time": "2022-07-07T14:11:44.823615",
     "status": "completed"
    },
    "tags": [
     "injected-parameters"
    ]
   },
   "outputs": [],
   "source": [
    "# Parameters\n",
    "P = {\n",
    "    \"pipeline.data_lake_root\": \"/pipeline-outputs/data-lake\",\n",
    "    \"pipeline.run_environment\": \"ci\",\n",
    "    \"pipeline.pipeline_run_id\": \"366d576b-8f71-424a-a433-f9e0dceff067\",\n",
    "    \"pipeline.github.repository\": \"pynb-dag-runner/mnist-digits-demo-pipeline\",\n",
    "    \"pipeline.github.workflow\": \"Run automated tests, pipeline and deploy results to static reporting site\",\n",
    "    \"pipeline.github.runner_name\": \"Hosted Agent\",\n",
    "    \"pipeline.github.run_id\": \"2630097778\",\n",
    "    \"pipeline.github.actor\": \"matiasdahl\",\n",
    "    \"pipeline.github.job\": \"run-tests-pipeline-and-persist-pipeline-outputs\",\n",
    "    \"pipeline.github.base_ref\": \"development\",\n",
    "    \"pipeline.github.head_ref\": \"try-C-hyperparameter\",\n",
    "    \"pipeline.github.sha\": \"2e68fc4d090046a0d419e76130414dbc4e2cbe82\",\n",
    "    \"pipeline.github.ref\": \"refs/pull/55/merge\",\n",
    "    \"pipeline.github.ref_type\": \"branch\",\n",
    "    \"pipeline.github.ref_name\": \"55/merge\",\n",
    "    \"pipeline.github.event_name\": \"pull_request\",\n",
    "    \"task.nr_train_images\": 800,\n",
    "    \"task.notebook\": \"notebooks/train-model.py\",\n",
    "    \"task.max_nr_retries\": \"1\",\n",
    "    \"run.retry_nr\": \"0\",\n",
    "    \"task.timeout_s\": \"None\",\n",
    "    \"task.num_cpus\": 1,\n",
    "    \"_opentelemetry_traceparent\": \"00-95fffe829ee04d9f9ab9d1fdc8486363-bd5635fd0ce160d3-01\",\n",
    "}\n"
   ]
  },
  {
   "cell_type": "code",
   "execution_count": 4,
   "id": "b7c746ed",
   "metadata": {
    "execution": {
     "iopub.execute_input": "2022-07-07T14:11:44.841400Z",
     "iopub.status.busy": "2022-07-07T14:11:44.841190Z",
     "iopub.status.idle": "2022-07-07T14:11:44.844139Z",
     "shell.execute_reply": "2022-07-07T14:11:44.843648Z"
    },
    "lines_to_next_cell": 0,
    "papermill": {
     "duration": 0.008541,
     "end_time": "2022-07-07T14:11:44.846400",
     "exception": false,
     "start_time": "2022-07-07T14:11:44.837859",
     "status": "completed"
    },
    "tags": []
   },
   "outputs": [],
   "source": [
    "# -----------------------------------------------------------------------"
   ]
  },
  {
   "cell_type": "markdown",
   "id": "31c82b87",
   "metadata": {
    "papermill": {
     "duration": 0.002583,
     "end_time": "2022-07-07T14:11:44.851833",
     "exception": false,
     "start_time": "2022-07-07T14:11:44.849250",
     "status": "completed"
    },
    "tags": []
   },
   "source": [
    "---"
   ]
  },
  {
   "cell_type": "markdown",
   "id": "67157fac",
   "metadata": {
    "lines_to_next_cell": 2,
    "papermill": {
     "duration": 0.00264,
     "end_time": "2022-07-07T14:11:44.857688",
     "exception": false,
     "start_time": "2022-07-07T14:11:44.855048",
     "status": "completed"
    },
    "tags": []
   },
   "source": [
    "### Notebook code"
   ]
  },
  {
   "cell_type": "code",
   "execution_count": 5,
   "id": "72c4e1c8",
   "metadata": {
    "execution": {
     "iopub.execute_input": "2022-07-07T14:11:44.867084Z",
     "iopub.status.busy": "2022-07-07T14:11:44.866766Z",
     "iopub.status.idle": "2022-07-07T14:11:45.393077Z",
     "shell.execute_reply": "2022-07-07T14:11:45.392153Z"
    },
    "papermill": {
     "duration": 0.531944,
     "end_time": "2022-07-07T14:11:45.395255",
     "exception": false,
     "start_time": "2022-07-07T14:11:44.863311",
     "status": "completed"
    },
    "tags": []
   },
   "outputs": [
    {
     "name": "stderr",
     "output_type": "stream",
     "text": [
      "2022-07-07 14:11:45,202\tINFO worker.py:842 -- Connecting to existing Ray cluster at address: 172.17.0.2:6379\n"
     ]
    }
   ],
   "source": [
    "from pynb_dag_runner.tasks.task_opentelemetry_logging import PydarLogger\n",
    "\n",
    "logger = PydarLogger(P)"
   ]
  },
  {
   "cell_type": "markdown",
   "id": "5a948845",
   "metadata": {
    "papermill": {
     "duration": 0.003747,
     "end_time": "2022-07-07T14:11:45.402923",
     "exception": false,
     "start_time": "2022-07-07T14:11:45.399176",
     "status": "completed"
    },
    "tags": []
   },
   "source": [
    "## Load and limit train data"
   ]
  },
  {
   "cell_type": "code",
   "execution_count": 6,
   "id": "f6dffa48",
   "metadata": {
    "execution": {
     "iopub.execute_input": "2022-07-07T14:11:45.410469Z",
     "iopub.status.busy": "2022-07-07T14:11:45.410150Z",
     "iopub.status.idle": "2022-07-07T14:11:45.796789Z",
     "shell.execute_reply": "2022-07-07T14:11:45.795845Z"
    },
    "papermill": {
     "duration": 0.393032,
     "end_time": "2022-07-07T14:11:45.798809",
     "exception": false,
     "start_time": "2022-07-07T14:11:45.405777",
     "status": "completed"
    },
    "tags": []
   },
   "outputs": [],
   "source": [
    "def load_and_limit_train_data(P):\n",
    "    from common.io import datalake_root, read_numpy\n",
    "    from sklearn.model_selection import train_test_split\n",
    "\n",
    "    X_train_all = read_numpy(datalake_root(P) / \"train-data\" / \"digits.numpy\")\n",
    "    y_train_all = read_numpy(datalake_root(P) / \"train-data\" / \"labels.numpy\")\n",
    "\n",
    "    assert isinstance(P[\"task.nr_train_images\"], int)\n",
    "\n",
    "    # Note: train_test_split will fail if split is 0 or 100%.\n",
    "    assert 0 < P[\"task.nr_train_images\"] < len(y_train_all)\n",
    "\n",
    "    X_train, _, y_train, _ = train_test_split(\n",
    "        X_train_all,\n",
    "        y_train_all,\n",
    "        train_size=P[\"task.nr_train_images\"],\n",
    "        test_size=None,\n",
    "        stratify=y_train_all,\n",
    "        shuffle=True,\n",
    "        random_state=123,\n",
    "    )\n",
    "\n",
    "    assert X_train.shape == (len(y_train), 8 * 8)\n",
    "    return X_train, y_train\n",
    "\n",
    "\n",
    "X_train, y_train = load_and_limit_train_data(P)"
   ]
  },
  {
   "cell_type": "markdown",
   "id": "04c37cd1",
   "metadata": {
    "papermill": {
     "duration": 0.003067,
     "end_time": "2022-07-07T14:11:45.807060",
     "exception": false,
     "start_time": "2022-07-07T14:11:45.803993",
     "status": "completed"
    },
    "tags": []
   },
   "source": [
    "## Train support vector classifier model\n",
    "\n",
    "Below we assume that the hyperparameter $C$ is known.\n",
    "\n",
    "However, this should ideally be found by a hyperparameter search. That could be\n",
    "done in parallel on the Ray cluster, but this needs some more work. Ie., to use\n",
    "multiple cores in the notebook, those cores should be reserved when starting the\n",
    "notebook task (TODO).\n",
    "\n",
    "- https://docs.ray.io/en/latest/tune/key-concepts.html\n",
    "\n",
    "Note: cv-scores would need to be computed here, since they depend on the train data.\n",
    "After this notebook only the onnx-model is available."
   ]
  },
  {
   "cell_type": "code",
   "execution_count": 7,
   "id": "34e155ac",
   "metadata": {
    "execution": {
     "iopub.execute_input": "2022-07-07T14:11:45.814223Z",
     "iopub.status.busy": "2022-07-07T14:11:45.813821Z",
     "iopub.status.idle": "2022-07-07T14:11:45.893276Z",
     "shell.execute_reply": "2022-07-07T14:11:45.892482Z"
    },
    "papermill": {
     "duration": 0.085393,
     "end_time": "2022-07-07T14:11:45.895216",
     "exception": false,
     "start_time": "2022-07-07T14:11:45.809823",
     "status": "completed"
    },
    "tags": []
   },
   "outputs": [],
   "source": [
    "from sklearn.svm import SVC"
   ]
  },
  {
   "cell_type": "code",
   "execution_count": 8,
   "id": "7f6d36a9",
   "metadata": {
    "execution": {
     "iopub.execute_input": "2022-07-07T14:11:45.903460Z",
     "iopub.status.busy": "2022-07-07T14:11:45.902952Z",
     "iopub.status.idle": "2022-07-07T14:11:46.010540Z",
     "shell.execute_reply": "2022-07-07T14:11:46.009774Z"
    },
    "papermill": {
     "duration": 0.113481,
     "end_time": "2022-07-07T14:11:46.012262",
     "exception": false,
     "start_time": "2022-07-07T14:11:45.898781",
     "status": "completed"
    },
    "tags": []
   },
   "outputs": [
    {
     "data": {
      "text/plain": [
       "SVC(C=0.01, kernel='linear', probability=True)"
      ]
     },
     "execution_count": 8,
     "metadata": {},
     "output_type": "execute_result"
    }
   ],
   "source": [
    "model = SVC(C=0.01, kernel=\"linear\", probability=True)\n",
    "\n",
    "model.fit(X_train, y_train)"
   ]
  },
  {
   "cell_type": "markdown",
   "id": "77b84971",
   "metadata": {
    "papermill": {
     "duration": 0.003267,
     "end_time": "2022-07-07T14:11:46.018877",
     "exception": false,
     "start_time": "2022-07-07T14:11:46.015610",
     "status": "completed"
    },
    "tags": []
   },
   "source": [
    "### Q: Can the labels returned by `predict(..)` be computed from probabilities returned by the `predict_prob`-method?"
   ]
  },
  {
   "cell_type": "code",
   "execution_count": 9,
   "id": "590ce490",
   "metadata": {
    "execution": {
     "iopub.execute_input": "2022-07-07T14:11:46.029709Z",
     "iopub.status.busy": "2022-07-07T14:11:46.029442Z",
     "iopub.status.idle": "2022-07-07T14:11:46.083028Z",
     "shell.execute_reply": "2022-07-07T14:11:46.082447Z"
    },
    "papermill": {
     "duration": 0.060017,
     "end_time": "2022-07-07T14:11:46.084632",
     "exception": false,
     "start_time": "2022-07-07T14:11:46.024615",
     "status": "completed"
    },
    "tags": []
   },
   "outputs": [
    {
     "name": "stdout",
     "output_type": "stream",
     "text": [
      " - Logging nr_max_prob_neq_label (int) : 0\n"
     ]
    }
   ],
   "source": [
    "import numpy as np\n",
    "\n",
    "y_train_labels = model.predict(X_train)\n",
    "y_train_probabilities = model.predict_proba(X_train)\n",
    "assert y_train_probabilities.shape == (len(y_train), 10)\n",
    "\n",
    "y_train_max_prob_labels = np.argmax(y_train_probabilities, axis=1)\n",
    "assert y_train_labels.shape == y_train_max_prob_labels.shape == y_train.shape\n",
    "\n",
    "# If the predicted labels would coincide with the labels that have\n",
    "# maximum probability, the below number would be zero\n",
    "logger.log_int(\n",
    "    \"nr_max_prob_neq_label\", int(sum(y_train_max_prob_labels != y_train_labels))\n",
    ")"
   ]
  },
  {
   "cell_type": "markdown",
   "id": "a1abdff7",
   "metadata": {
    "papermill": {
     "duration": 0.003209,
     "end_time": "2022-07-07T14:11:46.092249",
     "exception": false,
     "start_time": "2022-07-07T14:11:46.089040",
     "status": "completed"
    },
    "tags": []
   },
   "source": [
    "The explanation is (likely) explained in the SVC source, see\n",
    "[here](https://github.com/scikit-learn/scikit-learn/blob/main/sklearn/svm/_base.py).\n",
    "Namely, the outputs from `predict(..)` and `predict_proba(..)` may not in some\n",
    "cases be compatible since the latter is computed using cross-validation while\n",
    "the former is not. Thus, the above number need not be zero."
   ]
  },
  {
   "cell_type": "markdown",
   "id": "881c2812",
   "metadata": {
    "papermill": {
     "duration": 0.003328,
     "end_time": "2022-07-07T14:11:46.103227",
     "exception": false,
     "start_time": "2022-07-07T14:11:46.099899",
     "status": "completed"
    },
    "tags": []
   },
   "source": [
    "## Persist model"
   ]
  },
  {
   "cell_type": "code",
   "execution_count": 10,
   "id": "7315db6b",
   "metadata": {
    "execution": {
     "iopub.execute_input": "2022-07-07T14:11:46.113200Z",
     "iopub.status.busy": "2022-07-07T14:11:46.112883Z",
     "iopub.status.idle": "2022-07-07T14:11:47.241641Z",
     "shell.execute_reply": "2022-07-07T14:11:47.240951Z"
    },
    "papermill": {
     "duration": 1.136376,
     "end_time": "2022-07-07T14:11:47.243882",
     "exception": false,
     "start_time": "2022-07-07T14:11:46.107506",
     "status": "completed"
    },
    "tags": []
   },
   "outputs": [],
   "source": [
    "from skl2onnx import convert_sklearn\n",
    "from skl2onnx.common.data_types import FloatTensorType\n",
    "\n",
    "#\n",
    "from common.io import datalake_root, write_onnx"
   ]
  },
  {
   "cell_type": "code",
   "execution_count": 11,
   "id": "de87c629",
   "metadata": {
    "execution": {
     "iopub.execute_input": "2022-07-07T14:11:47.253434Z",
     "iopub.status.busy": "2022-07-07T14:11:47.252754Z",
     "iopub.status.idle": "2022-07-07T14:11:47.297987Z",
     "shell.execute_reply": "2022-07-07T14:11:47.296758Z"
    },
    "papermill": {
     "duration": 0.052157,
     "end_time": "2022-07-07T14:11:47.299908",
     "exception": false,
     "start_time": "2022-07-07T14:11:47.247751",
     "status": "completed"
    },
    "tags": []
   },
   "outputs": [],
   "source": [
    "# convert sklearn model into onnx and persist to data lake\n",
    "\n",
    "model_onnx = convert_sklearn(\n",
    "    model, initial_types=[(\"float_input_8x8_image\", FloatTensorType([None, 8 * 8]))]\n",
    ")\n",
    "write_onnx(\n",
    "    datalake_root(P)\n",
    "    / \"models\"\n",
    "    / f\"nr_train_images={P['task.nr_train_images']}\"\n",
    "    / \"model.onnx\",\n",
    "    model_onnx,\n",
    ")"
   ]
  },
  {
   "cell_type": "code",
   "execution_count": null,
   "id": "8597aabc",
   "metadata": {
    "papermill": {
     "duration": 0.003598,
     "end_time": "2022-07-07T14:11:47.307044",
     "exception": false,
     "start_time": "2022-07-07T14:11:47.303446",
     "status": "completed"
    },
    "tags": []
   },
   "outputs": [],
   "source": []
  }
 ],
 "metadata": {
  "jupytext": {
   "cell_metadata_filter": "tags,-all",
   "main_language": "python",
   "notebook_metadata_filter": "-all"
  },
  "language_info": {
   "codemirror_mode": {
    "name": "ipython",
    "version": 3
   },
   "file_extension": ".py",
   "mimetype": "text/x-python",
   "name": "python",
   "nbconvert_exporter": "python",
   "pygments_lexer": "ipython3",
   "version": "3.8.10"
  },
  "papermill": {
   "default_parameters": {},
   "duration": 4.978127,
   "end_time": "2022-07-07T14:11:48.449134",
   "environment_variables": {},
   "exception": null,
   "input_path": "/home/host_user/workspace/mnist-demo-pipeline/mnist-demo-pipeline/notebooks/temp-notebook-fe2etmde.ipynb",
   "output_path": "notebooks/train-model.ipynb",
   "parameters": {
    "P": {
     "_opentelemetry_traceparent": "00-95fffe829ee04d9f9ab9d1fdc8486363-bd5635fd0ce160d3-01",
     "pipeline.data_lake_root": "/pipeline-outputs/data-lake",
     "pipeline.github.actor": "matiasdahl",
     "pipeline.github.base_ref": "development",
     "pipeline.github.event_name": "pull_request",
     "pipeline.github.head_ref": "try-C-hyperparameter",
     "pipeline.github.job": "run-tests-pipeline-and-persist-pipeline-outputs",
     "pipeline.github.ref": "refs/pull/55/merge",
     "pipeline.github.ref_name": "55/merge",
     "pipeline.github.ref_type": "branch",
     "pipeline.github.repository": "pynb-dag-runner/mnist-digits-demo-pipeline",
     "pipeline.github.run_id": "2630097778",
     "pipeline.github.runner_name": "Hosted Agent",
     "pipeline.github.sha": "2e68fc4d090046a0d419e76130414dbc4e2cbe82",
     "pipeline.github.workflow": "Run automated tests, pipeline and deploy results to static reporting site",
     "pipeline.pipeline_run_id": "366d576b-8f71-424a-a433-f9e0dceff067",
     "pipeline.run_environment": "ci",
     "run.retry_nr": "0",
     "task.max_nr_retries": "1",
     "task.notebook": "notebooks/train-model.py",
     "task.nr_train_images": 800,
     "task.num_cpus": 1,
     "task.timeout_s": "None"
    }
   },
   "start_time": "2022-07-07T14:11:43.471007",
   "version": "2.3.3"
  }
 },
 "nbformat": 4,
 "nbformat_minor": 5
}