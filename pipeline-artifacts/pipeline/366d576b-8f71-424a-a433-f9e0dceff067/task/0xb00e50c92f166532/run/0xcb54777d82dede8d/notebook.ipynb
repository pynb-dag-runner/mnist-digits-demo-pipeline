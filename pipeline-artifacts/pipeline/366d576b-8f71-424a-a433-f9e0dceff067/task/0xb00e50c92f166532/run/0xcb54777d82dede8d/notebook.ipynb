{
 "cells": [
  {
   "cell_type": "markdown",
   "id": "132dc596",
   "metadata": {
    "papermill": {
     "duration": 0.006622,
     "end_time": "2022-07-07T14:12:11.997539",
     "exception": false,
     "start_time": "2022-07-07T14:12:11.990917",
     "status": "completed"
    },
    "tags": []
   },
   "source": [
    "# Benchmark model\n",
    "\n",
    "The purpose of this notebook is to benchmark persisted onnx-model (trained in the\n",
    "previous step) against evaluation set."
   ]
  },
  {
   "cell_type": "markdown",
   "id": "5d1b1118",
   "metadata": {
    "papermill": {
     "duration": 0.005347,
     "end_time": "2022-07-07T14:12:12.007857",
     "exception": false,
     "start_time": "2022-07-07T14:12:12.002510",
     "status": "completed"
    },
    "tags": []
   },
   "source": [
    "### Determine run parameters"
   ]
  },
  {
   "cell_type": "code",
   "execution_count": 1,
   "id": "fd1bbce1",
   "metadata": {
    "execution": {
     "iopub.execute_input": "2022-07-07T14:12:12.017146Z",
     "iopub.status.busy": "2022-07-07T14:12:12.016770Z",
     "iopub.status.idle": "2022-07-07T14:12:12.025059Z",
     "shell.execute_reply": "2022-07-07T14:12:12.024488Z"
    },
    "lines_to_next_cell": 0,
    "papermill": {
     "duration": 0.016867,
     "end_time": "2022-07-07T14:12:12.028342",
     "exception": false,
     "start_time": "2022-07-07T14:12:12.011475",
     "status": "completed"
    },
    "tags": []
   },
   "outputs": [],
   "source": [
    "# ----------------- Parameters for interactive development --------------\n",
    "P = {\n",
    "    \"pipeline.data_lake_root\": \"/pipeline-outputs/data-lake\",\n",
    "    \"task.nr_train_images\": 600,\n",
    "}"
   ]
  },
  {
   "cell_type": "code",
   "execution_count": 2,
   "id": "938734b6",
   "metadata": {
    "execution": {
     "iopub.execute_input": "2022-07-07T14:12:12.037119Z",
     "iopub.status.busy": "2022-07-07T14:12:12.036905Z",
     "iopub.status.idle": "2022-07-07T14:12:12.040357Z",
     "shell.execute_reply": "2022-07-07T14:12:12.039845Z"
    },
    "lines_to_next_cell": 0,
    "papermill": {
     "duration": 0.01032,
     "end_time": "2022-07-07T14:12:12.042716",
     "exception": false,
     "start_time": "2022-07-07T14:12:12.032396",
     "status": "completed"
    },
    "tags": [
     "parameters"
    ]
   },
   "outputs": [],
   "source": [
    "# - During automated runs parameters will be injected in the below cell -"
   ]
  },
  {
   "cell_type": "code",
   "execution_count": 3,
   "id": "610e1d66",
   "metadata": {
    "execution": {
     "iopub.execute_input": "2022-07-07T14:12:12.052247Z",
     "iopub.status.busy": "2022-07-07T14:12:12.052032Z",
     "iopub.status.idle": "2022-07-07T14:12:12.056756Z",
     "shell.execute_reply": "2022-07-07T14:12:12.056033Z"
    },
    "papermill": {
     "duration": 0.01302,
     "end_time": "2022-07-07T14:12:12.059891",
     "exception": false,
     "start_time": "2022-07-07T14:12:12.046871",
     "status": "completed"
    },
    "tags": [
     "injected-parameters"
    ]
   },
   "outputs": [],
   "source": [
    "# Parameters\n",
    "P = {\n",
    "    \"pipeline.data_lake_root\": \"/pipeline-outputs/data-lake\",\n",
    "    \"pipeline.run_environment\": \"ci\",\n",
    "    \"pipeline.pipeline_run_id\": \"366d576b-8f71-424a-a433-f9e0dceff067\",\n",
    "    \"pipeline.github.repository\": \"pynb-dag-runner/mnist-digits-demo-pipeline\",\n",
    "    \"pipeline.github.workflow\": \"Run automated tests, pipeline and deploy results to static reporting site\",\n",
    "    \"pipeline.github.runner_name\": \"Hosted Agent\",\n",
    "    \"pipeline.github.run_id\": \"2630097778\",\n",
    "    \"pipeline.github.actor\": \"matiasdahl\",\n",
    "    \"pipeline.github.job\": \"run-tests-pipeline-and-persist-pipeline-outputs\",\n",
    "    \"pipeline.github.base_ref\": \"development\",\n",
    "    \"pipeline.github.head_ref\": \"try-C-hyperparameter\",\n",
    "    \"pipeline.github.sha\": \"2e68fc4d090046a0d419e76130414dbc4e2cbe82\",\n",
    "    \"pipeline.github.ref\": \"refs/pull/55/merge\",\n",
    "    \"pipeline.github.ref_type\": \"branch\",\n",
    "    \"pipeline.github.ref_name\": \"55/merge\",\n",
    "    \"pipeline.github.event_name\": \"pull_request\",\n",
    "    \"task.nr_train_images\": 600,\n",
    "    \"task.notebook\": \"notebooks/benchmark-model.py\",\n",
    "    \"task.max_nr_retries\": \"1\",\n",
    "    \"run.retry_nr\": \"0\",\n",
    "    \"task.timeout_s\": \"None\",\n",
    "    \"task.num_cpus\": 1,\n",
    "    \"_opentelemetry_traceparent\": \"00-95fffe829ee04d9f9ab9d1fdc8486363-3a996d14603a3a4e-01\",\n",
    "}\n"
   ]
  },
  {
   "cell_type": "code",
   "execution_count": 4,
   "id": "8b60016e",
   "metadata": {
    "execution": {
     "iopub.execute_input": "2022-07-07T14:12:12.069440Z",
     "iopub.status.busy": "2022-07-07T14:12:12.069223Z",
     "iopub.status.idle": "2022-07-07T14:12:12.072645Z",
     "shell.execute_reply": "2022-07-07T14:12:12.071874Z"
    },
    "lines_to_next_cell": 0,
    "papermill": {
     "duration": 0.011295,
     "end_time": "2022-07-07T14:12:12.075271",
     "exception": false,
     "start_time": "2022-07-07T14:12:12.063976",
     "status": "completed"
    },
    "tags": []
   },
   "outputs": [],
   "source": [
    "# -----------------------------------------------------------------------"
   ]
  },
  {
   "cell_type": "markdown",
   "id": "388e0409",
   "metadata": {
    "papermill": {
     "duration": 0.005255,
     "end_time": "2022-07-07T14:12:12.087280",
     "exception": false,
     "start_time": "2022-07-07T14:12:12.082025",
     "status": "completed"
    },
    "tags": []
   },
   "source": [
    "---"
   ]
  },
  {
   "cell_type": "markdown",
   "id": "5ff34f97",
   "metadata": {
    "lines_to_next_cell": 2,
    "papermill": {
     "duration": 0.003921,
     "end_time": "2022-07-07T14:12:12.097985",
     "exception": false,
     "start_time": "2022-07-07T14:12:12.094064",
     "status": "completed"
    },
    "tags": []
   },
   "source": [
    "### Notebook code"
   ]
  },
  {
   "cell_type": "code",
   "execution_count": 5,
   "id": "667bdbfd",
   "metadata": {
    "execution": {
     "iopub.execute_input": "2022-07-07T14:12:12.108221Z",
     "iopub.status.busy": "2022-07-07T14:12:12.107959Z",
     "iopub.status.idle": "2022-07-07T14:12:13.307603Z",
     "shell.execute_reply": "2022-07-07T14:12:13.306857Z"
    },
    "papermill": {
     "duration": 1.206673,
     "end_time": "2022-07-07T14:12:13.309600",
     "exception": false,
     "start_time": "2022-07-07T14:12:12.102927",
     "status": "completed"
    },
    "tags": []
   },
   "outputs": [
    {
     "name": "stderr",
     "output_type": "stream",
     "text": [
      "2022-07-07 14:12:13,136\tINFO worker.py:842 -- Connecting to existing Ray cluster at address: 172.17.0.2:6379\n"
     ]
    }
   ],
   "source": [
    "import itertools as it\n",
    "\n",
    "#\n",
    "import numpy as np\n",
    "import matplotlib.pyplot as plt\n",
    "\n",
    "#\n",
    "from pynb_dag_runner.tasks.task_opentelemetry_logging import PydarLogger\n",
    "\n",
    "#\n",
    "from common.io import datalake_root\n",
    "\n",
    "logger = PydarLogger(P)"
   ]
  },
  {
   "cell_type": "markdown",
   "id": "c0098878",
   "metadata": {
    "papermill": {
     "duration": 0.004249,
     "end_time": "2022-07-07T14:12:13.317996",
     "exception": false,
     "start_time": "2022-07-07T14:12:13.313747",
     "status": "completed"
    },
    "tags": []
   },
   "source": [
    "## Load persisted onnx-model and evaluation data"
   ]
  },
  {
   "cell_type": "code",
   "execution_count": 6,
   "id": "0bb2cb60",
   "metadata": {
    "execution": {
     "iopub.execute_input": "2022-07-07T14:12:13.336823Z",
     "iopub.status.busy": "2022-07-07T14:12:13.336436Z",
     "iopub.status.idle": "2022-07-07T14:12:13.339897Z",
     "shell.execute_reply": "2022-07-07T14:12:13.339340Z"
    },
    "papermill": {
     "duration": 0.015954,
     "end_time": "2022-07-07T14:12:13.342683",
     "exception": false,
     "start_time": "2022-07-07T14:12:13.326729",
     "status": "completed"
    },
    "tags": []
   },
   "outputs": [],
   "source": [
    "from common.io import read_onnx, get_onnx_inputs, get_onnx_outputs, read_numpy"
   ]
  },
  {
   "cell_type": "code",
   "execution_count": 7,
   "id": "3977c3fa",
   "metadata": {
    "execution": {
     "iopub.execute_input": "2022-07-07T14:12:13.352102Z",
     "iopub.status.busy": "2022-07-07T14:12:13.351880Z",
     "iopub.status.idle": "2022-07-07T14:12:13.361684Z",
     "shell.execute_reply": "2022-07-07T14:12:13.361190Z"
    },
    "lines_to_next_cell": 0,
    "papermill": {
     "duration": 0.016203,
     "end_time": "2022-07-07T14:12:13.363305",
     "exception": false,
     "start_time": "2022-07-07T14:12:13.347102",
     "status": "completed"
    },
    "tags": []
   },
   "outputs": [],
   "source": [
    "onnx_inference_session = read_onnx(\n",
    "    datalake_root(P)\n",
    "    / \"models\"\n",
    "    / f\"nr_train_images={P['task.nr_train_images']}\"\n",
    "    / \"model.onnx\"\n",
    ")"
   ]
  },
  {
   "cell_type": "markdown",
   "id": "bb4135a8",
   "metadata": {
    "papermill": {
     "duration": 0.004277,
     "end_time": "2022-07-07T14:12:13.371541",
     "exception": false,
     "start_time": "2022-07-07T14:12:13.367264",
     "status": "completed"
    },
    "tags": []
   },
   "source": [
    "### Record structure of inputs and outputs for ONNX model\n",
    "\n",
    "(this should likely be done in training notebook)"
   ]
  },
  {
   "cell_type": "code",
   "execution_count": 8,
   "id": "5c6718e2",
   "metadata": {
    "execution": {
     "iopub.execute_input": "2022-07-07T14:12:13.381144Z",
     "iopub.status.busy": "2022-07-07T14:12:13.380911Z",
     "iopub.status.idle": "2022-07-07T14:12:13.386706Z",
     "shell.execute_reply": "2022-07-07T14:12:13.386119Z"
    },
    "papermill": {
     "duration": 0.014319,
     "end_time": "2022-07-07T14:12:13.390285",
     "exception": false,
     "start_time": "2022-07-07T14:12:13.375966",
     "status": "completed"
    },
    "tags": []
   },
   "outputs": [
    {
     "name": "stdout",
     "output_type": "stream",
     "text": [
      "{\n",
      "  \"inputs\": [\n",
      "    {\n",
      "      \"name\": \"float_input_8x8_image\",\n",
      "      \"shape\": [\n",
      "        null,\n",
      "        64\n",
      "      ],\n",
      "      \"type\": \"tensor(float)\"\n",
      "    }\n",
      "  ],\n",
      "  \"outputs\": [\n",
      "    {\n",
      "      \"name\": \"output_label\",\n",
      "      \"shape\": [\n",
      "        null\n",
      "      ],\n",
      "      \"type\": \"tensor(int64)\"\n",
      "    },\n",
      "    {\n",
      "      \"name\": \"output_probability\",\n",
      "      \"shape\": [],\n",
      "      \"type\": \"seq(map(int64,tensor(float)))\"\n",
      "    }\n",
      "  ]\n",
      "}\n"
     ]
    }
   ],
   "source": [
    "import json\n",
    "\n",
    "onnx_io = json.dumps(\n",
    "    {\n",
    "        \"inputs\": get_onnx_inputs(onnx_inference_session),\n",
    "        \"outputs\": get_onnx_outputs(onnx_inference_session),\n",
    "    },\n",
    "    indent=2,\n",
    ")\n",
    "\n",
    "\n",
    "logger.log_artefact(\"onnx_io_structure.json\", onnx_io)\n",
    "print(onnx_io)"
   ]
  },
  {
   "cell_type": "markdown",
   "id": "70362e08",
   "metadata": {
    "papermill": {
     "duration": 0.004253,
     "end_time": "2022-07-07T14:12:13.398499",
     "exception": false,
     "start_time": "2022-07-07T14:12:13.394246",
     "status": "completed"
    },
    "tags": []
   },
   "source": [
    "### Evaluate model performance on evaluation data set"
   ]
  },
  {
   "cell_type": "code",
   "execution_count": 9,
   "id": "516d615f",
   "metadata": {
    "execution": {
     "iopub.execute_input": "2022-07-07T14:12:13.407653Z",
     "iopub.status.busy": "2022-07-07T14:12:13.407437Z",
     "iopub.status.idle": "2022-07-07T14:12:13.412018Z",
     "shell.execute_reply": "2022-07-07T14:12:13.411456Z"
    },
    "papermill": {
     "duration": 0.012097,
     "end_time": "2022-07-07T14:12:13.414594",
     "exception": false,
     "start_time": "2022-07-07T14:12:13.402497",
     "status": "completed"
    },
    "tags": []
   },
   "outputs": [],
   "source": [
    "# load evaluation data\n",
    "X_test = read_numpy(datalake_root(P) / \"test-data\" / \"digits.numpy\")\n",
    "y_test = read_numpy(datalake_root(P) / \"test-data\" / \"labels.numpy\")"
   ]
  },
  {
   "cell_type": "code",
   "execution_count": 10,
   "id": "274da5dc",
   "metadata": {
    "execution": {
     "iopub.execute_input": "2022-07-07T14:12:13.426156Z",
     "iopub.status.busy": "2022-07-07T14:12:13.425932Z",
     "iopub.status.idle": "2022-07-07T14:12:13.442773Z",
     "shell.execute_reply": "2022-07-07T14:12:13.442199Z"
    },
    "papermill": {
     "duration": 0.025461,
     "end_time": "2022-07-07T14:12:13.444361",
     "exception": false,
     "start_time": "2022-07-07T14:12:13.418900",
     "status": "completed"
    },
    "tags": []
   },
   "outputs": [],
   "source": [
    "def get_model_outputs(X, onnx_inference_session):\n",
    "    y_pred_labels, y_pred_map = onnx_inference_session.run(\n",
    "        [\"output_label\", \"output_probability\"],\n",
    "        {\"float_input_8x8_image\": X.astype(np.float32)},\n",
    "    )\n",
    "    y_pred_probs = np.array(\n",
    "        [[probabilities[digit] for digit in range(10)] for probabilities in y_pred_map]\n",
    "    )\n",
    "\n",
    "    assert y_pred_labels.shape == (X.shape[0],)\n",
    "    assert y_pred_probs.shape == (X.shape[0], 10)\n",
    "\n",
    "    return y_pred_labels, y_pred_probs\n",
    "\n",
    "\n",
    "# Note: as shown in the training notebook, the predicted labels and probabilities\n",
    "# computed below need not be compatible.\n",
    "y_pred_labels_test, y_pred_probs_test = get_model_outputs(\n",
    "    X_test, onnx_inference_session\n",
    ")"
   ]
  },
  {
   "cell_type": "markdown",
   "id": "2b2672a8",
   "metadata": {
    "papermill": {
     "duration": 0.004694,
     "end_time": "2022-07-07T14:12:13.453507",
     "exception": false,
     "start_time": "2022-07-07T14:12:13.448813",
     "status": "completed"
    },
    "tags": []
   },
   "source": [
    "### Confusion matrix"
   ]
  },
  {
   "cell_type": "code",
   "execution_count": 11,
   "id": "4463cb10",
   "metadata": {
    "execution": {
     "iopub.execute_input": "2022-07-07T14:12:13.462896Z",
     "iopub.status.busy": "2022-07-07T14:12:13.462656Z",
     "iopub.status.idle": "2022-07-07T14:12:13.465429Z",
     "shell.execute_reply": "2022-07-07T14:12:13.464856Z"
    },
    "papermill": {
     "duration": 0.010216,
     "end_time": "2022-07-07T14:12:13.467852",
     "exception": false,
     "start_time": "2022-07-07T14:12:13.457636",
     "status": "completed"
    },
    "tags": []
   },
   "outputs": [],
   "source": [
    "# TODO"
   ]
  },
  {
   "cell_type": "markdown",
   "id": "f40edadf",
   "metadata": {
    "papermill": {
     "duration": 0.004292,
     "end_time": "2022-07-07T14:12:13.476612",
     "exception": false,
     "start_time": "2022-07-07T14:12:13.472320",
     "status": "completed"
    },
    "tags": []
   },
   "source": [
    "### Plot predicted probabilities for each classifier over all evaluation digit images"
   ]
  },
  {
   "cell_type": "code",
   "execution_count": 12,
   "id": "3b5908e6",
   "metadata": {
    "execution": {
     "iopub.execute_input": "2022-07-07T14:12:13.486250Z",
     "iopub.status.busy": "2022-07-07T14:12:13.486022Z",
     "iopub.status.idle": "2022-07-07T14:12:16.622389Z",
     "shell.execute_reply": "2022-07-07T14:12:16.621771Z"
    },
    "papermill": {
     "duration": 3.143854,
     "end_time": "2022-07-07T14:12:16.624887",
     "exception": false,
     "start_time": "2022-07-07T14:12:13.481033",
     "status": "completed"
    },
    "tags": []
   },
   "outputs": [
    {
     "data": {
      "image/png": "[encoded data removed]",
      "text/plain": [
       "<Figure size 1152x432 with 10 Axes>"
      ]
     },
     "metadata": {
      "needs_background": "light"
     },
     "output_type": "display_data"
    }
   ],
   "source": [
    "def plot_per_digit_probabilities(y_pred_probs):\n",
    "    fig, axs = plt.subplots(nrows=2, ncols=5, figsize=(16, 6))\n",
    "\n",
    "    for (r, c), digit, ax in zip(\n",
    "        it.product(range(2), range(5)), range(10), axs.reshape(-1)\n",
    "    ):\n",
    "        ax.hist(y_pred_probs_test[:, digit], bins=20)\n",
    "\n",
    "        ax.set_title(f\"Digit {digit}\")\n",
    "        if r == 1 and c == 2:\n",
    "            ax.set_xlabel(\"probability\", fontsize=16)\n",
    "\n",
    "        if c == 0:\n",
    "            ax.set_ylabel(\"counts\", fontsize=16)\n",
    "        ax.set_yscale(\"log\")\n",
    "\n",
    "    fig.tight_layout()\n",
    "    fig.suptitle(\n",
    "        f\"Distributions of prediction probabilities for each digit \"\n",
    "        f\"(on evaluation data, n={y_pred_probs.shape[0]})\",\n",
    "        fontsize=20,\n",
    "    )\n",
    "    fig.tight_layout()\n",
    "    fig.show()\n",
    "\n",
    "    return fig\n",
    "\n",
    "\n",
    "fig = plot_per_digit_probabilities(y_pred_probs_test)"
   ]
  },
  {
   "cell_type": "markdown",
   "id": "0f86575a",
   "metadata": {
    "papermill": {
     "duration": 0.005874,
     "end_time": "2022-07-07T14:12:16.636743",
     "exception": false,
     "start_time": "2022-07-07T14:12:16.630869",
     "status": "completed"
    },
    "tags": []
   },
   "source": [
    "From the above distributions we see that most digits have clear separation between\n",
    "high and lower probabilities. Morover, in each case there is roughly an order of\n",
    "magnitude more of digits with low probabilities. This is compatible with digits\n",
    "being roughly evenly distributed in the data."
   ]
  },
  {
   "cell_type": "code",
   "execution_count": 13,
   "id": "5a361f00",
   "metadata": {
    "execution": {
     "iopub.execute_input": "2022-07-07T14:12:16.649032Z",
     "iopub.status.busy": "2022-07-07T14:12:16.648711Z",
     "iopub.status.idle": "2022-07-07T14:12:17.112613Z",
     "shell.execute_reply": "2022-07-07T14:12:17.111196Z"
    },
    "papermill": {
     "duration": 0.472502,
     "end_time": "2022-07-07T14:12:17.114636",
     "exception": false,
     "start_time": "2022-07-07T14:12:16.642134",
     "status": "completed"
    },
    "tags": []
   },
   "outputs": [],
   "source": [
    "logger.log_figure(\"per-digit-probabilities.png\", fig)"
   ]
  },
  {
   "cell_type": "markdown",
   "id": "4d27189d",
   "metadata": {
    "papermill": {
     "duration": 0.00456,
     "end_time": "2022-07-07T14:12:17.124701",
     "exception": false,
     "start_time": "2022-07-07T14:12:17.120141",
     "status": "completed"
    },
    "tags": []
   },
   "source": [
    "### Plot ROC curves for individual one-vs-rest classifiers"
   ]
  },
  {
   "cell_type": "code",
   "execution_count": 14,
   "id": "661097fe",
   "metadata": {
    "execution": {
     "iopub.execute_input": "2022-07-07T14:12:17.135810Z",
     "iopub.status.busy": "2022-07-07T14:12:17.135309Z",
     "iopub.status.idle": "2022-07-07T14:12:17.520814Z",
     "shell.execute_reply": "2022-07-07T14:12:17.520130Z"
    },
    "papermill": {
     "duration": 0.393207,
     "end_time": "2022-07-07T14:12:17.522804",
     "exception": false,
     "start_time": "2022-07-07T14:12:17.129597",
     "status": "completed"
    },
    "tags": []
   },
   "outputs": [],
   "source": [
    "from sklearn import metrics"
   ]
  },
  {
   "cell_type": "code",
   "execution_count": 15,
   "id": "bc32a549",
   "metadata": {
    "execution": {
     "iopub.execute_input": "2022-07-07T14:12:17.538096Z",
     "iopub.status.busy": "2022-07-07T14:12:17.537407Z",
     "iopub.status.idle": "2022-07-07T14:12:18.552228Z",
     "shell.execute_reply": "2022-07-07T14:12:18.551588Z"
    },
    "papermill": {
     "duration": 1.025855,
     "end_time": "2022-07-07T14:12:18.553837",
     "exception": false,
     "start_time": "2022-07-07T14:12:17.527982",
     "status": "completed"
    },
    "tags": []
   },
   "outputs": [
    {
     "data": {
      "image/png": "[encoded data removed]",
      "text/plain": [
       "<Figure size 1152x576 with 10 Axes>"
      ]
     },
     "metadata": {
      "needs_background": "light"
     },
     "output_type": "display_data"
    }
   ],
   "source": [
    "def plot_roc_curves(y, y_pred_probs):\n",
    "    # based on example code\n",
    "    # https://scikit-learn.org/stable/auto_examples/model_selection/plot_roc.html\n",
    "\n",
    "    fig, axs = plt.subplots(nrows=2, ncols=5, figsize=(16, 8))\n",
    "\n",
    "    roc_auc_dict = {}\n",
    "\n",
    "    for (r, c), digit, ax in zip(\n",
    "        it.product(range(2), range(5)), range(10), axs.reshape(-1)\n",
    "    ):\n",
    "        fpr, tpr, _ = metrics.roc_curve(y == digit, y_pred_probs[:, digit])\n",
    "        auc = metrics.auc(fpr, tpr)\n",
    "        roc_auc_dict[str(digit)] = auc\n",
    "\n",
    "        ax.plot(fpr, tpr, label=f\"ROC AUC={round(auc, 3)}\")\n",
    "\n",
    "        ax.set_title(f\"\\nDigit {digit}\", fontsize=16)\n",
    "        if r == 1:\n",
    "            ax.set_xlabel(\"FPR\", fontsize=18)\n",
    "\n",
    "        if c == 0:\n",
    "            ax.set_ylabel(\"TPR\", fontsize=18)\n",
    "\n",
    "        ax.set_xlim([-0.05, 1.05])\n",
    "        ax.set_ylim([-0.05, 1.05])\n",
    "        ax.legend(loc=\"lower right\", frameon=False, fontsize=14)\n",
    "\n",
    "    fig.tight_layout()\n",
    "    fig.suptitle(\n",
    "        f\"ROC plots for one-vs-rest performances \"\n",
    "        f\"(on evaluation data, n={y_pred_probs_test.shape[1]}\",\n",
    "        fontsize=22,\n",
    "    )\n",
    "    fig.tight_layout()\n",
    "    fig.show()\n",
    "\n",
    "    return roc_auc_dict, fig\n",
    "\n",
    "\n",
    "roc_auc_dict, fig = plot_roc_curves(y_test, y_pred_probs_test)"
   ]
  },
  {
   "cell_type": "code",
   "execution_count": 16,
   "id": "18e5bfb5",
   "metadata": {
    "execution": {
     "iopub.execute_input": "2022-07-07T14:12:18.566465Z",
     "iopub.status.busy": "2022-07-07T14:12:18.566079Z",
     "iopub.status.idle": "2022-07-07T14:12:18.777873Z",
     "shell.execute_reply": "2022-07-07T14:12:18.776984Z"
    },
    "papermill": {
     "duration": 0.220355,
     "end_time": "2022-07-07T14:12:18.780064",
     "exception": false,
     "start_time": "2022-07-07T14:12:18.559709",
     "status": "completed"
    },
    "tags": []
   },
   "outputs": [],
   "source": [
    "logger.log_figure(\"per-digit-roc-curves.png\", fig)"
   ]
  },
  {
   "cell_type": "code",
   "execution_count": 17,
   "id": "48d3e98b",
   "metadata": {
    "execution": {
     "iopub.execute_input": "2022-07-07T14:12:18.793354Z",
     "iopub.status.busy": "2022-07-07T14:12:18.793000Z",
     "iopub.status.idle": "2022-07-07T14:12:18.797934Z",
     "shell.execute_reply": "2022-07-07T14:12:18.797308Z"
    },
    "papermill": {
     "duration": 0.014035,
     "end_time": "2022-07-07T14:12:18.800277",
     "exception": false,
     "start_time": "2022-07-07T14:12:18.786242",
     "status": "completed"
    },
    "tags": []
   },
   "outputs": [
    {
     "data": {
      "text/plain": [
       "{'0': 1.0,\n",
       " '1': 0.9996251171508904,\n",
       " '2': 1.0,\n",
       " '3': 0.9998500468603562,\n",
       " '4': 1.0,\n",
       " '5': 0.9988378631677601,\n",
       " '6': 0.999961896052431,\n",
       " '7': 0.9998856881572931,\n",
       " '8': 0.9931037200504413,\n",
       " '9': 0.998856881572931}"
      ]
     },
     "execution_count": 17,
     "metadata": {},
     "output_type": "execute_result"
    }
   ],
   "source": [
    "roc_auc_dict"
   ]
  },
  {
   "cell_type": "code",
   "execution_count": 18,
   "id": "98291dc4",
   "metadata": {
    "execution": {
     "iopub.execute_input": "2022-07-07T14:12:18.812731Z",
     "iopub.status.busy": "2022-07-07T14:12:18.812308Z",
     "iopub.status.idle": "2022-07-07T14:12:18.816492Z",
     "shell.execute_reply": "2022-07-07T14:12:18.815690Z"
    },
    "papermill": {
     "duration": 0.012376,
     "end_time": "2022-07-07T14:12:18.818468",
     "exception": false,
     "start_time": "2022-07-07T14:12:18.806092",
     "status": "completed"
    },
    "tags": []
   },
   "outputs": [
    {
     "name": "stdout",
     "output_type": "stream",
     "text": [
      " - Logging roc_auc_per_digit (json) : {'0': 1.0, '1': 0.9996251171508904, '2': 1.0, '3': 0.9998500468603562, '4': 1.0, '5': 0.9988378631677601, '6': 0.999961896052431, '7': 0.9998856881572931, '8': 0.9931037200504413, '9': 0.998856881572931}\n"
     ]
    }
   ],
   "source": [
    "logger.log_value(\"roc_auc_per_digit\", roc_auc_dict)"
   ]
  },
  {
   "cell_type": "markdown",
   "id": "90ee598f",
   "metadata": {
    "papermill": {
     "duration": 0.005462,
     "end_time": "2022-07-07T14:12:18.829209",
     "exception": false,
     "start_time": "2022-07-07T14:12:18.823747",
     "status": "completed"
    },
    "tags": []
   },
   "source": [
    "### Compute and log mean ROC AUC score averaged over all digits"
   ]
  },
  {
   "cell_type": "code",
   "execution_count": 19,
   "id": "63b3a30c",
   "metadata": {
    "execution": {
     "iopub.execute_input": "2022-07-07T14:12:18.841977Z",
     "iopub.status.busy": "2022-07-07T14:12:18.841116Z",
     "iopub.status.idle": "2022-07-07T14:12:18.852529Z",
     "shell.execute_reply": "2022-07-07T14:12:18.851914Z"
    },
    "papermill": {
     "duration": 0.019376,
     "end_time": "2022-07-07T14:12:18.854128",
     "exception": false,
     "start_time": "2022-07-07T14:12:18.834752",
     "status": "completed"
    },
    "tags": []
   },
   "outputs": [
    {
     "name": "stdout",
     "output_type": "stream",
     "text": [
      " - Logging roc_auc_class_mean (float) : 0.9990121213012102\n"
     ]
    }
   ],
   "source": [
    "roc_auc_macro = np.mean(list(roc_auc_dict.values()))\n",
    "\n",
    "logger.log_float(\"roc_auc_class_mean\", roc_auc_macro)\n",
    "\n",
    "# assert that the same value can be computed directly using sklearn\n",
    "assert roc_auc_macro == metrics.roc_auc_score(\n",
    "    y_test, y_pred_probs_test, average=\"macro\", multi_class=\"ovr\"\n",
    ")"
   ]
  },
  {
   "cell_type": "code",
   "execution_count": 20,
   "id": "c71f00f5",
   "metadata": {
    "execution": {
     "iopub.execute_input": "2022-07-07T14:12:18.866849Z",
     "iopub.status.busy": "2022-07-07T14:12:18.866413Z",
     "iopub.status.idle": "2022-07-07T14:12:18.870343Z",
     "shell.execute_reply": "2022-07-07T14:12:18.869776Z"
    },
    "lines_to_next_cell": 0,
    "papermill": {
     "duration": 0.012289,
     "end_time": "2022-07-07T14:12:18.871871",
     "exception": false,
     "start_time": "2022-07-07T14:12:18.859582",
     "status": "completed"
    },
    "tags": []
   },
   "outputs": [],
   "source": [
    "# ---"
   ]
  },
  {
   "cell_type": "code",
   "execution_count": null,
   "id": "1f76f7dd",
   "metadata": {
    "papermill": {
     "duration": 0.005577,
     "end_time": "2022-07-07T14:12:18.883734",
     "exception": false,
     "start_time": "2022-07-07T14:12:18.878157",
     "status": "completed"
    },
    "tags": []
   },
   "outputs": [],
   "source": []
  }
 ],
 "metadata": {
  "jupytext": {
   "cell_metadata_filter": "tags,-all",
   "main_language": "python",
   "notebook_metadata_filter": "-all"
  },
  "language_info": {
   "codemirror_mode": {
    "name": "ipython",
    "version": 3
   },
   "file_extension": ".py",
   "mimetype": "text/x-python",
   "name": "python",
   "nbconvert_exporter": "python",
   "pygments_lexer": "ipython3",
   "version": "3.8.10"
  },
  "papermill": {
   "default_parameters": {},
   "duration": 9.25403,
   "end_time": "2022-07-07T14:12:20.012613",
   "environment_variables": {},
   "exception": null,
   "input_path": "/home/host_user/workspace/mnist-demo-pipeline/mnist-demo-pipeline/notebooks/temp-notebook-n13ru2jm.ipynb",
   "output_path": "notebooks/benchmark-model.ipynb",
   "parameters": {
    "P": {
     "_opentelemetry_traceparent": "00-95fffe829ee04d9f9ab9d1fdc8486363-3a996d14603a3a4e-01",
     "pipeline.data_lake_root": "/pipeline-outputs/data-lake",
     "pipeline.github.actor": "matiasdahl",
     "pipeline.github.base_ref": "development",
     "pipeline.github.event_name": "pull_request",
     "pipeline.github.head_ref": "try-C-hyperparameter",
     "pipeline.github.job": "run-tests-pipeline-and-persist-pipeline-outputs",
     "pipeline.github.ref": "refs/pull/55/merge",
     "pipeline.github.ref_name": "55/merge",
     "pipeline.github.ref_type": "branch",
     "pipeline.github.repository": "pynb-dag-runner/mnist-digits-demo-pipeline",
     "pipeline.github.run_id": "2630097778",
     "pipeline.github.runner_name": "Hosted Agent",
     "pipeline.github.sha": "2e68fc4d090046a0d419e76130414dbc4e2cbe82",
     "pipeline.github.workflow": "Run automated tests, pipeline and deploy results to static reporting site",
     "pipeline.pipeline_run_id": "366d576b-8f71-424a-a433-f9e0dceff067",
     "pipeline.run_environment": "ci",
     "run.retry_nr": "0",
     "task.max_nr_retries": "1",
     "task.notebook": "notebooks/benchmark-model.py",
     "task.nr_train_images": 600,
     "task.num_cpus": 1,
     "task.timeout_s": "None"
    }
   },
   "start_time": "2022-07-07T14:12:10.758583",
   "version": "2.3.3"
  }
 },
 "nbformat": 4,
 "nbformat_minor": 5
}