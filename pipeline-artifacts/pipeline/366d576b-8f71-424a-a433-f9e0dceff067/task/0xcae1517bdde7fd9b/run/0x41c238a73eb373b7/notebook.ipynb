{
 "cells": [
  {
   "cell_type": "markdown",
   "id": "4a34f306",
   "metadata": {
    "papermill": {
     "duration": 0.006093,
     "end_time": "2022-07-07T14:12:00.957515",
     "exception": false,
     "start_time": "2022-07-07T14:12:00.951422",
     "status": "completed"
    },
    "tags": []
   },
   "source": [
    "# Benchmark model\n",
    "\n",
    "The purpose of this notebook is to benchmark persisted onnx-model (trained in the\n",
    "previous step) against evaluation set."
   ]
  },
  {
   "cell_type": "markdown",
   "id": "93240954",
   "metadata": {
    "papermill": {
     "duration": 0.004108,
     "end_time": "2022-07-07T14:12:00.966494",
     "exception": false,
     "start_time": "2022-07-07T14:12:00.962386",
     "status": "completed"
    },
    "tags": []
   },
   "source": [
    "### Determine run parameters"
   ]
  },
  {
   "cell_type": "code",
   "execution_count": 1,
   "id": "7c58d0ce",
   "metadata": {
    "execution": {
     "iopub.execute_input": "2022-07-07T14:12:00.976650Z",
     "iopub.status.busy": "2022-07-07T14:12:00.976300Z",
     "iopub.status.idle": "2022-07-07T14:12:00.984806Z",
     "shell.execute_reply": "2022-07-07T14:12:00.984285Z"
    },
    "lines_to_next_cell": 0,
    "papermill": {
     "duration": 0.015565,
     "end_time": "2022-07-07T14:12:00.986813",
     "exception": false,
     "start_time": "2022-07-07T14:12:00.971248",
     "status": "completed"
    },
    "tags": []
   },
   "outputs": [],
   "source": [
    "# ----------------- Parameters for interactive development --------------\n",
    "P = {\n",
    "    \"pipeline.data_lake_root\": \"/pipeline-outputs/data-lake\",\n",
    "    \"task.nr_train_images\": 600,\n",
    "}"
   ]
  },
  {
   "cell_type": "code",
   "execution_count": 2,
   "id": "21441d0f",
   "metadata": {
    "execution": {
     "iopub.execute_input": "2022-07-07T14:12:00.996019Z",
     "iopub.status.busy": "2022-07-07T14:12:00.995810Z",
     "iopub.status.idle": "2022-07-07T14:12:00.998876Z",
     "shell.execute_reply": "2022-07-07T14:12:00.998253Z"
    },
    "lines_to_next_cell": 0,
    "papermill": {
     "duration": 0.010047,
     "end_time": "2022-07-07T14:12:01.001302",
     "exception": false,
     "start_time": "2022-07-07T14:12:00.991255",
     "status": "completed"
    },
    "tags": [
     "parameters"
    ]
   },
   "outputs": [],
   "source": [
    "# - During automated runs parameters will be injected in the below cell -"
   ]
  },
  {
   "cell_type": "code",
   "execution_count": 3,
   "id": "4acf171c",
   "metadata": {
    "execution": {
     "iopub.execute_input": "2022-07-07T14:12:01.010950Z",
     "iopub.status.busy": "2022-07-07T14:12:01.010743Z",
     "iopub.status.idle": "2022-07-07T14:12:01.014956Z",
     "shell.execute_reply": "2022-07-07T14:12:01.014467Z"
    },
    "papermill": {
     "duration": 0.011362,
     "end_time": "2022-07-07T14:12:01.017730",
     "exception": false,
     "start_time": "2022-07-07T14:12:01.006368",
     "status": "completed"
    },
    "tags": [
     "injected-parameters"
    ]
   },
   "outputs": [],
   "source": [
    "# Parameters\n",
    "P = {\n",
    "    \"pipeline.data_lake_root\": \"/pipeline-outputs/data-lake\",\n",
    "    \"pipeline.run_environment\": \"ci\",\n",
    "    \"pipeline.pipeline_run_id\": \"366d576b-8f71-424a-a433-f9e0dceff067\",\n",
    "    \"pipeline.github.repository\": \"pynb-dag-runner/mnist-digits-demo-pipeline\",\n",
    "    \"pipeline.github.workflow\": \"Run automated tests, pipeline and deploy results to static reporting site\",\n",
    "    \"pipeline.github.runner_name\": \"Hosted Agent\",\n",
    "    \"pipeline.github.run_id\": \"2630097778\",\n",
    "    \"pipeline.github.actor\": \"matiasdahl\",\n",
    "    \"pipeline.github.job\": \"run-tests-pipeline-and-persist-pipeline-outputs\",\n",
    "    \"pipeline.github.base_ref\": \"development\",\n",
    "    \"pipeline.github.head_ref\": \"try-C-hyperparameter\",\n",
    "    \"pipeline.github.sha\": \"2e68fc4d090046a0d419e76130414dbc4e2cbe82\",\n",
    "    \"pipeline.github.ref\": \"refs/pull/55/merge\",\n",
    "    \"pipeline.github.ref_type\": \"branch\",\n",
    "    \"pipeline.github.ref_name\": \"55/merge\",\n",
    "    \"pipeline.github.event_name\": \"pull_request\",\n",
    "    \"task.nr_train_images\": 1000,\n",
    "    \"task.notebook\": \"notebooks/benchmark-model.py\",\n",
    "    \"task.max_nr_retries\": \"1\",\n",
    "    \"run.retry_nr\": \"0\",\n",
    "    \"task.timeout_s\": \"None\",\n",
    "    \"task.num_cpus\": 1,\n",
    "    \"_opentelemetry_traceparent\": \"00-95fffe829ee04d9f9ab9d1fdc8486363-cedd926cefd7ceef-01\",\n",
    "}\n"
   ]
  },
  {
   "cell_type": "code",
   "execution_count": 4,
   "id": "3b510bf7",
   "metadata": {
    "execution": {
     "iopub.execute_input": "2022-07-07T14:12:01.026119Z",
     "iopub.status.busy": "2022-07-07T14:12:01.025919Z",
     "iopub.status.idle": "2022-07-07T14:12:01.028487Z",
     "shell.execute_reply": "2022-07-07T14:12:01.027973Z"
    },
    "lines_to_next_cell": 0,
    "papermill": {
     "duration": 0.009298,
     "end_time": "2022-07-07T14:12:01.030768",
     "exception": false,
     "start_time": "2022-07-07T14:12:01.021470",
     "status": "completed"
    },
    "tags": []
   },
   "outputs": [],
   "source": [
    "# -----------------------------------------------------------------------"
   ]
  },
  {
   "cell_type": "markdown",
   "id": "b25453ae",
   "metadata": {
    "papermill": {
     "duration": 0.005382,
     "end_time": "2022-07-07T14:12:01.039735",
     "exception": false,
     "start_time": "2022-07-07T14:12:01.034353",
     "status": "completed"
    },
    "tags": []
   },
   "source": [
    "---"
   ]
  },
  {
   "cell_type": "markdown",
   "id": "d36a83cb",
   "metadata": {
    "lines_to_next_cell": 2,
    "papermill": {
     "duration": 0.003727,
     "end_time": "2022-07-07T14:12:01.047035",
     "exception": false,
     "start_time": "2022-07-07T14:12:01.043308",
     "status": "completed"
    },
    "tags": []
   },
   "source": [
    "### Notebook code"
   ]
  },
  {
   "cell_type": "code",
   "execution_count": 5,
   "id": "1cda3b76",
   "metadata": {
    "execution": {
     "iopub.execute_input": "2022-07-07T14:12:01.056519Z",
     "iopub.status.busy": "2022-07-07T14:12:01.056270Z",
     "iopub.status.idle": "2022-07-07T14:12:02.173035Z",
     "shell.execute_reply": "2022-07-07T14:12:02.172430Z"
    },
    "papermill": {
     "duration": 1.124051,
     "end_time": "2022-07-07T14:12:02.175176",
     "exception": false,
     "start_time": "2022-07-07T14:12:01.051125",
     "status": "completed"
    },
    "tags": []
   },
   "outputs": [
    {
     "name": "stderr",
     "output_type": "stream",
     "text": [
      "2022-07-07 14:12:01,968\tINFO worker.py:842 -- Connecting to existing Ray cluster at address: 172.17.0.2:6379\n"
     ]
    }
   ],
   "source": [
    "import itertools as it\n",
    "\n",
    "#\n",
    "import numpy as np\n",
    "import matplotlib.pyplot as plt\n",
    "\n",
    "#\n",
    "from pynb_dag_runner.tasks.task_opentelemetry_logging import PydarLogger\n",
    "\n",
    "#\n",
    "from common.io import datalake_root\n",
    "\n",
    "logger = PydarLogger(P)"
   ]
  },
  {
   "cell_type": "markdown",
   "id": "2694de9d",
   "metadata": {
    "papermill": {
     "duration": 0.004211,
     "end_time": "2022-07-07T14:12:02.185412",
     "exception": false,
     "start_time": "2022-07-07T14:12:02.181201",
     "status": "completed"
    },
    "tags": []
   },
   "source": [
    "## Load persisted onnx-model and evaluation data"
   ]
  },
  {
   "cell_type": "code",
   "execution_count": 6,
   "id": "f58d7415",
   "metadata": {
    "execution": {
     "iopub.execute_input": "2022-07-07T14:12:02.195734Z",
     "iopub.status.busy": "2022-07-07T14:12:02.195367Z",
     "iopub.status.idle": "2022-07-07T14:12:02.199637Z",
     "shell.execute_reply": "2022-07-07T14:12:02.199032Z"
    },
    "papermill": {
     "duration": 0.011593,
     "end_time": "2022-07-07T14:12:02.202057",
     "exception": false,
     "start_time": "2022-07-07T14:12:02.190464",
     "status": "completed"
    },
    "tags": []
   },
   "outputs": [],
   "source": [
    "from common.io import read_onnx, get_onnx_inputs, get_onnx_outputs, read_numpy"
   ]
  },
  {
   "cell_type": "code",
   "execution_count": 7,
   "id": "89e42389",
   "metadata": {
    "execution": {
     "iopub.execute_input": "2022-07-07T14:12:02.211918Z",
     "iopub.status.busy": "2022-07-07T14:12:02.211690Z",
     "iopub.status.idle": "2022-07-07T14:12:02.222150Z",
     "shell.execute_reply": "2022-07-07T14:12:02.221634Z"
    },
    "lines_to_next_cell": 0,
    "papermill": {
     "duration": 0.017299,
     "end_time": "2022-07-07T14:12:02.223525",
     "exception": false,
     "start_time": "2022-07-07T14:12:02.206226",
     "status": "completed"
    },
    "tags": []
   },
   "outputs": [],
   "source": [
    "onnx_inference_session = read_onnx(\n",
    "    datalake_root(P)\n",
    "    / \"models\"\n",
    "    / f\"nr_train_images={P['task.nr_train_images']}\"\n",
    "    / \"model.onnx\"\n",
    ")"
   ]
  },
  {
   "cell_type": "markdown",
   "id": "0a85fa73",
   "metadata": {
    "papermill": {
     "duration": 0.007708,
     "end_time": "2022-07-07T14:12:02.236158",
     "exception": false,
     "start_time": "2022-07-07T14:12:02.228450",
     "status": "completed"
    },
    "tags": []
   },
   "source": [
    "### Record structure of inputs and outputs for ONNX model\n",
    "\n",
    "(this should likely be done in training notebook)"
   ]
  },
  {
   "cell_type": "code",
   "execution_count": 8,
   "id": "46807090",
   "metadata": {
    "execution": {
     "iopub.execute_input": "2022-07-07T14:12:02.247006Z",
     "iopub.status.busy": "2022-07-07T14:12:02.246769Z",
     "iopub.status.idle": "2022-07-07T14:12:02.252827Z",
     "shell.execute_reply": "2022-07-07T14:12:02.252309Z"
    },
    "papermill": {
     "duration": 0.014423,
     "end_time": "2022-07-07T14:12:02.256261",
     "exception": false,
     "start_time": "2022-07-07T14:12:02.241838",
     "status": "completed"
    },
    "tags": []
   },
   "outputs": [
    {
     "name": "stdout",
     "output_type": "stream",
     "text": [
      "{\n",
      "  \"inputs\": [\n",
      "    {\n",
      "      \"name\": \"float_input_8x8_image\",\n",
      "      \"shape\": [\n",
      "        null,\n",
      "        64\n",
      "      ],\n",
      "      \"type\": \"tensor(float)\"\n",
      "    }\n",
      "  ],\n",
      "  \"outputs\": [\n",
      "    {\n",
      "      \"name\": \"output_label\",\n",
      "      \"shape\": [\n",
      "        null\n",
      "      ],\n",
      "      \"type\": \"tensor(int64)\"\n",
      "    },\n",
      "    {\n",
      "      \"name\": \"output_probability\",\n",
      "      \"shape\": [],\n",
      "      \"type\": \"seq(map(int64,tensor(float)))\"\n",
      "    }\n",
      "  ]\n",
      "}\n"
     ]
    }
   ],
   "source": [
    "import json\n",
    "\n",
    "onnx_io = json.dumps(\n",
    "    {\n",
    "        \"inputs\": get_onnx_inputs(onnx_inference_session),\n",
    "        \"outputs\": get_onnx_outputs(onnx_inference_session),\n",
    "    },\n",
    "    indent=2,\n",
    ")\n",
    "\n",
    "\n",
    "logger.log_artefact(\"onnx_io_structure.json\", onnx_io)\n",
    "print(onnx_io)"
   ]
  },
  {
   "cell_type": "markdown",
   "id": "7eee58c2",
   "metadata": {
    "papermill": {
     "duration": 0.004029,
     "end_time": "2022-07-07T14:12:02.265018",
     "exception": false,
     "start_time": "2022-07-07T14:12:02.260989",
     "status": "completed"
    },
    "tags": []
   },
   "source": [
    "### Evaluate model performance on evaluation data set"
   ]
  },
  {
   "cell_type": "code",
   "execution_count": 9,
   "id": "485139b5",
   "metadata": {
    "execution": {
     "iopub.execute_input": "2022-07-07T14:12:02.275040Z",
     "iopub.status.busy": "2022-07-07T14:12:02.274802Z",
     "iopub.status.idle": "2022-07-07T14:12:02.279891Z",
     "shell.execute_reply": "2022-07-07T14:12:02.279357Z"
    },
    "papermill": {
     "duration": 0.013046,
     "end_time": "2022-07-07T14:12:02.282646",
     "exception": false,
     "start_time": "2022-07-07T14:12:02.269600",
     "status": "completed"
    },
    "tags": []
   },
   "outputs": [],
   "source": [
    "# load evaluation data\n",
    "X_test = read_numpy(datalake_root(P) / \"test-data\" / \"digits.numpy\")\n",
    "y_test = read_numpy(datalake_root(P) / \"test-data\" / \"labels.numpy\")"
   ]
  },
  {
   "cell_type": "code",
   "execution_count": 10,
   "id": "ef6d968a",
   "metadata": {
    "execution": {
     "iopub.execute_input": "2022-07-07T14:12:02.292663Z",
     "iopub.status.busy": "2022-07-07T14:12:02.292453Z",
     "iopub.status.idle": "2022-07-07T14:12:02.305633Z",
     "shell.execute_reply": "2022-07-07T14:12:02.305118Z"
    },
    "papermill": {
     "duration": 0.020318,
     "end_time": "2022-07-07T14:12:02.307163",
     "exception": false,
     "start_time": "2022-07-07T14:12:02.286845",
     "status": "completed"
    },
    "tags": []
   },
   "outputs": [],
   "source": [
    "def get_model_outputs(X, onnx_inference_session):\n",
    "    y_pred_labels, y_pred_map = onnx_inference_session.run(\n",
    "        [\"output_label\", \"output_probability\"],\n",
    "        {\"float_input_8x8_image\": X.astype(np.float32)},\n",
    "    )\n",
    "    y_pred_probs = np.array(\n",
    "        [[probabilities[digit] for digit in range(10)] for probabilities in y_pred_map]\n",
    "    )\n",
    "\n",
    "    assert y_pred_labels.shape == (X.shape[0],)\n",
    "    assert y_pred_probs.shape == (X.shape[0], 10)\n",
    "\n",
    "    return y_pred_labels, y_pred_probs\n",
    "\n",
    "\n",
    "# Note: as shown in the training notebook, the predicted labels and probabilities\n",
    "# computed below need not be compatible.\n",
    "y_pred_labels_test, y_pred_probs_test = get_model_outputs(\n",
    "    X_test, onnx_inference_session\n",
    ")"
   ]
  },
  {
   "cell_type": "markdown",
   "id": "ba43faeb",
   "metadata": {
    "papermill": {
     "duration": 0.004112,
     "end_time": "2022-07-07T14:12:02.316112",
     "exception": false,
     "start_time": "2022-07-07T14:12:02.312000",
     "status": "completed"
    },
    "tags": []
   },
   "source": [
    "### Confusion matrix"
   ]
  },
  {
   "cell_type": "code",
   "execution_count": 11,
   "id": "2cd21cd0",
   "metadata": {
    "execution": {
     "iopub.execute_input": "2022-07-07T14:12:02.325884Z",
     "iopub.status.busy": "2022-07-07T14:12:02.325649Z",
     "iopub.status.idle": "2022-07-07T14:12:02.328390Z",
     "shell.execute_reply": "2022-07-07T14:12:02.327846Z"
    },
    "papermill": {
     "duration": 0.01085,
     "end_time": "2022-07-07T14:12:02.331509",
     "exception": false,
     "start_time": "2022-07-07T14:12:02.320659",
     "status": "completed"
    },
    "tags": []
   },
   "outputs": [],
   "source": [
    "# TODO"
   ]
  },
  {
   "cell_type": "markdown",
   "id": "5dcdb78c",
   "metadata": {
    "papermill": {
     "duration": 0.004324,
     "end_time": "2022-07-07T14:12:02.344988",
     "exception": false,
     "start_time": "2022-07-07T14:12:02.340664",
     "status": "completed"
    },
    "tags": []
   },
   "source": [
    "### Plot predicted probabilities for each classifier over all evaluation digit images"
   ]
  },
  {
   "cell_type": "code",
   "execution_count": 12,
   "id": "23c81b5b",
   "metadata": {
    "execution": {
     "iopub.execute_input": "2022-07-07T14:12:02.361758Z",
     "iopub.status.busy": "2022-07-07T14:12:02.361058Z",
     "iopub.status.idle": "2022-07-07T14:12:05.525868Z",
     "shell.execute_reply": "2022-07-07T14:12:05.524079Z"
    },
    "papermill": {
     "duration": 3.178583,
     "end_time": "2022-07-07T14:12:05.527955",
     "exception": false,
     "start_time": "2022-07-07T14:12:02.349372",
     "status": "completed"
    },
    "tags": []
   },
   "outputs": [
    {
     "data": {
      "image/png": "[encoded data removed]",
      "text/plain": [
       "<Figure size 1152x432 with 10 Axes>"
      ]
     },
     "metadata": {
      "needs_background": "light"
     },
     "output_type": "display_data"
    }
   ],
   "source": [
    "def plot_per_digit_probabilities(y_pred_probs):\n",
    "    fig, axs = plt.subplots(nrows=2, ncols=5, figsize=(16, 6))\n",
    "\n",
    "    for (r, c), digit, ax in zip(\n",
    "        it.product(range(2), range(5)), range(10), axs.reshape(-1)\n",
    "    ):\n",
    "        ax.hist(y_pred_probs_test[:, digit], bins=20)\n",
    "\n",
    "        ax.set_title(f\"Digit {digit}\")\n",
    "        if r == 1 and c == 2:\n",
    "            ax.set_xlabel(\"probability\", fontsize=16)\n",
    "\n",
    "        if c == 0:\n",
    "            ax.set_ylabel(\"counts\", fontsize=16)\n",
    "        ax.set_yscale(\"log\")\n",
    "\n",
    "    fig.tight_layout()\n",
    "    fig.suptitle(\n",
    "        f\"Distributions of prediction probabilities for each digit \"\n",
    "        f\"(on evaluation data, n={y_pred_probs.shape[0]})\",\n",
    "        fontsize=20,\n",
    "    )\n",
    "    fig.tight_layout()\n",
    "    fig.show()\n",
    "\n",
    "    return fig\n",
    "\n",
    "\n",
    "fig = plot_per_digit_probabilities(y_pred_probs_test)"
   ]
  },
  {
   "cell_type": "markdown",
   "id": "7536c61f",
   "metadata": {
    "papermill": {
     "duration": 0.005122,
     "end_time": "2022-07-07T14:12:05.538971",
     "exception": false,
     "start_time": "2022-07-07T14:12:05.533849",
     "status": "completed"
    },
    "tags": []
   },
   "source": [
    "From the above distributions we see that most digits have clear separation between\n",
    "high and lower probabilities. Morover, in each case there is roughly an order of\n",
    "magnitude more of digits with low probabilities. This is compatible with digits\n",
    "being roughly evenly distributed in the data."
   ]
  },
  {
   "cell_type": "code",
   "execution_count": 13,
   "id": "27c8316b",
   "metadata": {
    "execution": {
     "iopub.execute_input": "2022-07-07T14:12:05.550199Z",
     "iopub.status.busy": "2022-07-07T14:12:05.549841Z",
     "iopub.status.idle": "2022-07-07T14:12:06.003344Z",
     "shell.execute_reply": "2022-07-07T14:12:06.001568Z"
    },
    "papermill": {
     "duration": 0.461854,
     "end_time": "2022-07-07T14:12:06.005294",
     "exception": false,
     "start_time": "2022-07-07T14:12:05.543440",
     "status": "completed"
    },
    "tags": []
   },
   "outputs": [],
   "source": [
    "logger.log_figure(\"per-digit-probabilities.png\", fig)"
   ]
  },
  {
   "cell_type": "markdown",
   "id": "5a6e4825",
   "metadata": {
    "papermill": {
     "duration": 0.00497,
     "end_time": "2022-07-07T14:12:06.015551",
     "exception": false,
     "start_time": "2022-07-07T14:12:06.010581",
     "status": "completed"
    },
    "tags": []
   },
   "source": [
    "### Plot ROC curves for individual one-vs-rest classifiers"
   ]
  },
  {
   "cell_type": "code",
   "execution_count": 14,
   "id": "bcdd987d",
   "metadata": {
    "execution": {
     "iopub.execute_input": "2022-07-07T14:12:06.026920Z",
     "iopub.status.busy": "2022-07-07T14:12:06.026647Z",
     "iopub.status.idle": "2022-07-07T14:12:06.416056Z",
     "shell.execute_reply": "2022-07-07T14:12:06.415365Z"
    },
    "papermill": {
     "duration": 0.397847,
     "end_time": "2022-07-07T14:12:06.418559",
     "exception": false,
     "start_time": "2022-07-07T14:12:06.020712",
     "status": "completed"
    },
    "tags": []
   },
   "outputs": [],
   "source": [
    "from sklearn import metrics"
   ]
  },
  {
   "cell_type": "code",
   "execution_count": 15,
   "id": "b91812ae",
   "metadata": {
    "execution": {
     "iopub.execute_input": "2022-07-07T14:12:06.432447Z",
     "iopub.status.busy": "2022-07-07T14:12:06.432071Z",
     "iopub.status.idle": "2022-07-07T14:12:07.425324Z",
     "shell.execute_reply": "2022-07-07T14:12:07.424467Z"
    },
    "papermill": {
     "duration": 1.003522,
     "end_time": "2022-07-07T14:12:07.427700",
     "exception": false,
     "start_time": "2022-07-07T14:12:06.424178",
     "status": "completed"
    },
    "tags": []
   },
   "outputs": [
    {
     "data": {
      "image/png": "[encoded data removed]",
      "text/plain": [
       "<Figure size 1152x576 with 10 Axes>"
      ]
     },
     "metadata": {
      "needs_background": "light"
     },
     "output_type": "display_data"
    }
   ],
   "source": [
    "def plot_roc_curves(y, y_pred_probs):\n",
    "    # based on example code\n",
    "    # https://scikit-learn.org/stable/auto_examples/model_selection/plot_roc.html\n",
    "\n",
    "    fig, axs = plt.subplots(nrows=2, ncols=5, figsize=(16, 8))\n",
    "\n",
    "    roc_auc_dict = {}\n",
    "\n",
    "    for (r, c), digit, ax in zip(\n",
    "        it.product(range(2), range(5)), range(10), axs.reshape(-1)\n",
    "    ):\n",
    "        fpr, tpr, _ = metrics.roc_curve(y == digit, y_pred_probs[:, digit])\n",
    "        auc = metrics.auc(fpr, tpr)\n",
    "        roc_auc_dict[str(digit)] = auc\n",
    "\n",
    "        ax.plot(fpr, tpr, label=f\"ROC AUC={round(auc, 3)}\")\n",
    "\n",
    "        ax.set_title(f\"\\nDigit {digit}\", fontsize=16)\n",
    "        if r == 1:\n",
    "            ax.set_xlabel(\"FPR\", fontsize=18)\n",
    "\n",
    "        if c == 0:\n",
    "            ax.set_ylabel(\"TPR\", fontsize=18)\n",
    "\n",
    "        ax.set_xlim([-0.05, 1.05])\n",
    "        ax.set_ylim([-0.05, 1.05])\n",
    "        ax.legend(loc=\"lower right\", frameon=False, fontsize=14)\n",
    "\n",
    "    fig.tight_layout()\n",
    "    fig.suptitle(\n",
    "        f\"ROC plots for one-vs-rest performances \"\n",
    "        f\"(on evaluation data, n={y_pred_probs_test.shape[1]}\",\n",
    "        fontsize=22,\n",
    "    )\n",
    "    fig.tight_layout()\n",
    "    fig.show()\n",
    "\n",
    "    return roc_auc_dict, fig\n",
    "\n",
    "\n",
    "roc_auc_dict, fig = plot_roc_curves(y_test, y_pred_probs_test)"
   ]
  },
  {
   "cell_type": "code",
   "execution_count": 16,
   "id": "6b54c0d3",
   "metadata": {
    "execution": {
     "iopub.execute_input": "2022-07-07T14:12:07.441240Z",
     "iopub.status.busy": "2022-07-07T14:12:07.440684Z",
     "iopub.status.idle": "2022-07-07T14:12:07.669357Z",
     "shell.execute_reply": "2022-07-07T14:12:07.668343Z"
    },
    "papermill": {
     "duration": 0.238324,
     "end_time": "2022-07-07T14:12:07.671779",
     "exception": false,
     "start_time": "2022-07-07T14:12:07.433455",
     "status": "completed"
    },
    "tags": []
   },
   "outputs": [],
   "source": [
    "logger.log_figure(\"per-digit-roc-curves.png\", fig)"
   ]
  },
  {
   "cell_type": "code",
   "execution_count": 17,
   "id": "5ba9ec1f",
   "metadata": {
    "execution": {
     "iopub.execute_input": "2022-07-07T14:12:07.688501Z",
     "iopub.status.busy": "2022-07-07T14:12:07.688150Z",
     "iopub.status.idle": "2022-07-07T14:12:07.693738Z",
     "shell.execute_reply": "2022-07-07T14:12:07.692942Z"
    },
    "papermill": {
     "duration": 0.018004,
     "end_time": "2022-07-07T14:12:07.696500",
     "exception": false,
     "start_time": "2022-07-07T14:12:07.678496",
     "status": "completed"
    },
    "tags": []
   },
   "outputs": [
    {
     "data": {
      "text/plain": [
       "{'0': 1.0,\n",
       " '1': 0.9986504217432053,\n",
       " '2': 1.0,\n",
       " '3': 0.9996626054358013,\n",
       " '4': 1.0,\n",
       " '5': 0.9994376757263355,\n",
       " '6': 0.999923792104862,\n",
       " '7': 0.9998094802621552,\n",
       " '8': 0.9901087641866331,\n",
       " '9': 0.9991998171010517}"
      ]
     },
     "execution_count": 17,
     "metadata": {},
     "output_type": "execute_result"
    }
   ],
   "source": [
    "roc_auc_dict"
   ]
  },
  {
   "cell_type": "code",
   "execution_count": 18,
   "id": "a854adcf",
   "metadata": {
    "execution": {
     "iopub.execute_input": "2022-07-07T14:12:07.709187Z",
     "iopub.status.busy": "2022-07-07T14:12:07.708806Z",
     "iopub.status.idle": "2022-07-07T14:12:07.713283Z",
     "shell.execute_reply": "2022-07-07T14:12:07.712588Z"
    },
    "papermill": {
     "duration": 0.0137,
     "end_time": "2022-07-07T14:12:07.716077",
     "exception": false,
     "start_time": "2022-07-07T14:12:07.702377",
     "status": "completed"
    },
    "tags": []
   },
   "outputs": [
    {
     "name": "stdout",
     "output_type": "stream",
     "text": [
      " - Logging roc_auc_per_digit (json) : {'0': 1.0, '1': 0.9986504217432053, '2': 1.0, '3': 0.9996626054358013, '4': 1.0, '5': 0.9994376757263355, '6': 0.999923792104862, '7': 0.9998094802621552, '8': 0.9901087641866331, '9': 0.9991998171010517}\n"
     ]
    }
   ],
   "source": [
    "logger.log_value(\"roc_auc_per_digit\", roc_auc_dict)"
   ]
  },
  {
   "cell_type": "markdown",
   "id": "f0efc466",
   "metadata": {
    "papermill": {
     "duration": 0.005556,
     "end_time": "2022-07-07T14:12:07.727181",
     "exception": false,
     "start_time": "2022-07-07T14:12:07.721625",
     "status": "completed"
    },
    "tags": []
   },
   "source": [
    "### Compute and log mean ROC AUC score averaged over all digits"
   ]
  },
  {
   "cell_type": "code",
   "execution_count": 19,
   "id": "28d85e65",
   "metadata": {
    "execution": {
     "iopub.execute_input": "2022-07-07T14:12:07.739595Z",
     "iopub.status.busy": "2022-07-07T14:12:07.739223Z",
     "iopub.status.idle": "2022-07-07T14:12:07.753110Z",
     "shell.execute_reply": "2022-07-07T14:12:07.752143Z"
    },
    "papermill": {
     "duration": 0.022208,
     "end_time": "2022-07-07T14:12:07.755142",
     "exception": false,
     "start_time": "2022-07-07T14:12:07.732934",
     "status": "completed"
    },
    "tags": []
   },
   "outputs": [
    {
     "name": "stdout",
     "output_type": "stream",
     "text": [
      " - Logging roc_auc_class_mean (float) : 0.9986792556560043\n"
     ]
    }
   ],
   "source": [
    "roc_auc_macro = np.mean(list(roc_auc_dict.values()))\n",
    "\n",
    "logger.log_float(\"roc_auc_class_mean\", roc_auc_macro)\n",
    "\n",
    "# assert that the same value can be computed directly using sklearn\n",
    "assert roc_auc_macro == metrics.roc_auc_score(\n",
    "    y_test, y_pred_probs_test, average=\"macro\", multi_class=\"ovr\"\n",
    ")"
   ]
  },
  {
   "cell_type": "code",
   "execution_count": 20,
   "id": "4f87c637",
   "metadata": {
    "execution": {
     "iopub.execute_input": "2022-07-07T14:12:07.776824Z",
     "iopub.status.busy": "2022-07-07T14:12:07.776456Z",
     "iopub.status.idle": "2022-07-07T14:12:07.783840Z",
     "shell.execute_reply": "2022-07-07T14:12:07.782334Z"
    },
    "lines_to_next_cell": 0,
    "papermill": {
     "duration": 0.018017,
     "end_time": "2022-07-07T14:12:07.787269",
     "exception": false,
     "start_time": "2022-07-07T14:12:07.769252",
     "status": "completed"
    },
    "tags": []
   },
   "outputs": [],
   "source": [
    "# ---"
   ]
  },
  {
   "cell_type": "code",
   "execution_count": null,
   "id": "00ab4b5b",
   "metadata": {
    "papermill": {
     "duration": 0.00573,
     "end_time": "2022-07-07T14:12:07.798689",
     "exception": false,
     "start_time": "2022-07-07T14:12:07.792959",
     "status": "completed"
    },
    "tags": []
   },
   "outputs": [],
   "source": []
  }
 ],
 "metadata": {
  "jupytext": {
   "cell_metadata_filter": "tags,-all",
   "main_language": "python",
   "notebook_metadata_filter": "-all"
  },
  "language_info": {
   "codemirror_mode": {
    "name": "ipython",
    "version": 3
   },
   "file_extension": ".py",
   "mimetype": "text/x-python",
   "name": "python",
   "nbconvert_exporter": "python",
   "pygments_lexer": "ipython3",
   "version": "3.8.10"
  },
  "papermill": {
   "default_parameters": {},
   "duration": 9.781766,
   "end_time": "2022-07-07T14:12:09.515156",
   "environment_variables": {},
   "exception": null,
   "input_path": "/home/host_user/workspace/mnist-demo-pipeline/mnist-demo-pipeline/notebooks/temp-notebook-qcwx301k.ipynb",
   "output_path": "notebooks/benchmark-model.ipynb",
   "parameters": {
    "P": {
     "_opentelemetry_traceparent": "00-95fffe829ee04d9f9ab9d1fdc8486363-cedd926cefd7ceef-01",
     "pipeline.data_lake_root": "/pipeline-outputs/data-lake",
     "pipeline.github.actor": "matiasdahl",
     "pipeline.github.base_ref": "development",
     "pipeline.github.event_name": "pull_request",
     "pipeline.github.head_ref": "try-C-hyperparameter",
     "pipeline.github.job": "run-tests-pipeline-and-persist-pipeline-outputs",
     "pipeline.github.ref": "refs/pull/55/merge",
     "pipeline.github.ref_name": "55/merge",
     "pipeline.github.ref_type": "branch",
     "pipeline.github.repository": "pynb-dag-runner/mnist-digits-demo-pipeline",
     "pipeline.github.run_id": "2630097778",
     "pipeline.github.runner_name": "Hosted Agent",
     "pipeline.github.sha": "2e68fc4d090046a0d419e76130414dbc4e2cbe82",
     "pipeline.github.workflow": "Run automated tests, pipeline and deploy results to static reporting site",
     "pipeline.pipeline_run_id": "366d576b-8f71-424a-a433-f9e0dceff067",
     "pipeline.run_environment": "ci",
     "run.retry_nr": "0",
     "task.max_nr_retries": "1",
     "task.notebook": "notebooks/benchmark-model.py",
     "task.nr_train_images": 1000,
     "task.num_cpus": 1,
     "task.timeout_s": "None"
    }
   },
   "start_time": "2022-07-07T14:11:59.733390",
   "version": "2.3.3"
  }
 },
 "nbformat": 4,
 "nbformat_minor": 5
}