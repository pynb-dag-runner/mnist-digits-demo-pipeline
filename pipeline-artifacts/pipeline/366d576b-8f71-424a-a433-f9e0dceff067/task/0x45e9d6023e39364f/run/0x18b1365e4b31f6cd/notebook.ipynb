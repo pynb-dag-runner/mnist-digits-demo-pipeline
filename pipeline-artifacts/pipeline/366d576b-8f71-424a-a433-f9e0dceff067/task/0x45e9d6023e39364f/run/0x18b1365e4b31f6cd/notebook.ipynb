{
 "cells": [
  {
   "cell_type": "markdown",
   "id": "60590ac4",
   "metadata": {
    "papermill": {
     "duration": 0.005754,
     "end_time": "2022-07-07T14:11:56.763868",
     "exception": false,
     "start_time": "2022-07-07T14:11:56.758114",
     "status": "completed"
    },
    "tags": []
   },
   "source": [
    "# Benchmark model\n",
    "\n",
    "The purpose of this notebook is to benchmark persisted onnx-model (trained in the\n",
    "previous step) against evaluation set."
   ]
  },
  {
   "cell_type": "markdown",
   "id": "2b2c4aa8",
   "metadata": {
    "papermill": {
     "duration": 0.003999,
     "end_time": "2022-07-07T14:11:56.773179",
     "exception": false,
     "start_time": "2022-07-07T14:11:56.769180",
     "status": "completed"
    },
    "tags": []
   },
   "source": [
    "### Determine run parameters"
   ]
  },
  {
   "cell_type": "code",
   "execution_count": 1,
   "id": "67cf62ca",
   "metadata": {
    "execution": {
     "iopub.execute_input": "2022-07-07T14:11:56.782755Z",
     "iopub.status.busy": "2022-07-07T14:11:56.782405Z",
     "iopub.status.idle": "2022-07-07T14:11:56.792468Z",
     "shell.execute_reply": "2022-07-07T14:11:56.791919Z"
    },
    "lines_to_next_cell": 0,
    "papermill": {
     "duration": 0.023108,
     "end_time": "2022-07-07T14:11:56.800498",
     "exception": false,
     "start_time": "2022-07-07T14:11:56.777390",
     "status": "completed"
    },
    "tags": []
   },
   "outputs": [],
   "source": [
    "# ----------------- Parameters for interactive development --------------\n",
    "P = {\n",
    "    \"pipeline.data_lake_root\": \"/pipeline-outputs/data-lake\",\n",
    "    \"task.nr_train_images\": 600,\n",
    "}"
   ]
  },
  {
   "cell_type": "code",
   "execution_count": 2,
   "id": "aee4c500",
   "metadata": {
    "execution": {
     "iopub.execute_input": "2022-07-07T14:11:56.810717Z",
     "iopub.status.busy": "2022-07-07T14:11:56.810444Z",
     "iopub.status.idle": "2022-07-07T14:11:56.817010Z",
     "shell.execute_reply": "2022-07-07T14:11:56.816324Z"
    },
    "lines_to_next_cell": 0,
    "papermill": {
     "duration": 0.017416,
     "end_time": "2022-07-07T14:11:56.822558",
     "exception": false,
     "start_time": "2022-07-07T14:11:56.805142",
     "status": "completed"
    },
    "tags": [
     "parameters"
    ]
   },
   "outputs": [],
   "source": [
    "# - During automated runs parameters will be injected in the below cell -"
   ]
  },
  {
   "cell_type": "code",
   "execution_count": 3,
   "id": "074abd8a",
   "metadata": {
    "execution": {
     "iopub.execute_input": "2022-07-07T14:11:56.833491Z",
     "iopub.status.busy": "2022-07-07T14:11:56.833255Z",
     "iopub.status.idle": "2022-07-07T14:11:56.837653Z",
     "shell.execute_reply": "2022-07-07T14:11:56.837168Z"
    },
    "papermill": {
     "duration": 0.010734,
     "end_time": "2022-07-07T14:11:56.838937",
     "exception": false,
     "start_time": "2022-07-07T14:11:56.828203",
     "status": "completed"
    },
    "tags": [
     "injected-parameters"
    ]
   },
   "outputs": [],
   "source": [
    "# Parameters\n",
    "P = {\n",
    "    \"pipeline.data_lake_root\": \"/pipeline-outputs/data-lake\",\n",
    "    \"pipeline.run_environment\": \"ci\",\n",
    "    \"pipeline.pipeline_run_id\": \"366d576b-8f71-424a-a433-f9e0dceff067\",\n",
    "    \"pipeline.github.repository\": \"pynb-dag-runner/mnist-digits-demo-pipeline\",\n",
    "    \"pipeline.github.workflow\": \"Run automated tests, pipeline and deploy results to static reporting site\",\n",
    "    \"pipeline.github.runner_name\": \"Hosted Agent\",\n",
    "    \"pipeline.github.run_id\": \"2630097778\",\n",
    "    \"pipeline.github.actor\": \"matiasdahl\",\n",
    "    \"pipeline.github.job\": \"run-tests-pipeline-and-persist-pipeline-outputs\",\n",
    "    \"pipeline.github.base_ref\": \"development\",\n",
    "    \"pipeline.github.head_ref\": \"try-C-hyperparameter\",\n",
    "    \"pipeline.github.sha\": \"2e68fc4d090046a0d419e76130414dbc4e2cbe82\",\n",
    "    \"pipeline.github.ref\": \"refs/pull/55/merge\",\n",
    "    \"pipeline.github.ref_type\": \"branch\",\n",
    "    \"pipeline.github.ref_name\": \"55/merge\",\n",
    "    \"pipeline.github.event_name\": \"pull_request\",\n",
    "    \"task.nr_train_images\": 800,\n",
    "    \"task.notebook\": \"notebooks/benchmark-model.py\",\n",
    "    \"task.max_nr_retries\": \"1\",\n",
    "    \"run.retry_nr\": \"0\",\n",
    "    \"task.timeout_s\": \"None\",\n",
    "    \"task.num_cpus\": 1,\n",
    "    \"_opentelemetry_traceparent\": \"00-95fffe829ee04d9f9ab9d1fdc8486363-717a1f4c95e25508-01\",\n",
    "}\n"
   ]
  },
  {
   "cell_type": "code",
   "execution_count": 4,
   "id": "68022d30",
   "metadata": {
    "execution": {
     "iopub.execute_input": "2022-07-07T14:11:56.849951Z",
     "iopub.status.busy": "2022-07-07T14:11:56.849718Z",
     "iopub.status.idle": "2022-07-07T14:11:56.852331Z",
     "shell.execute_reply": "2022-07-07T14:11:56.851799Z"
    },
    "lines_to_next_cell": 0,
    "papermill": {
     "duration": 0.010067,
     "end_time": "2022-07-07T14:11:56.854144",
     "exception": false,
     "start_time": "2022-07-07T14:11:56.844077",
     "status": "completed"
    },
    "tags": []
   },
   "outputs": [],
   "source": [
    "# -----------------------------------------------------------------------"
   ]
  },
  {
   "cell_type": "markdown",
   "id": "9a0dd9af",
   "metadata": {
    "papermill": {
     "duration": 0.003726,
     "end_time": "2022-07-07T14:11:56.862852",
     "exception": false,
     "start_time": "2022-07-07T14:11:56.859126",
     "status": "completed"
    },
    "tags": []
   },
   "source": [
    "---"
   ]
  },
  {
   "cell_type": "markdown",
   "id": "a69f7f37",
   "metadata": {
    "lines_to_next_cell": 2,
    "papermill": {
     "duration": 0.004692,
     "end_time": "2022-07-07T14:11:56.871485",
     "exception": false,
     "start_time": "2022-07-07T14:11:56.866793",
     "status": "completed"
    },
    "tags": []
   },
   "source": [
    "### Notebook code"
   ]
  },
  {
   "cell_type": "code",
   "execution_count": 5,
   "id": "238b8fc9",
   "metadata": {
    "execution": {
     "iopub.execute_input": "2022-07-07T14:11:56.880931Z",
     "iopub.status.busy": "2022-07-07T14:11:56.880696Z",
     "iopub.status.idle": "2022-07-07T14:11:57.947350Z",
     "shell.execute_reply": "2022-07-07T14:11:57.946244Z"
    },
    "papermill": {
     "duration": 1.074287,
     "end_time": "2022-07-07T14:11:57.949551",
     "exception": false,
     "start_time": "2022-07-07T14:11:56.875264",
     "status": "completed"
    },
    "tags": []
   },
   "outputs": [
    {
     "name": "stderr",
     "output_type": "stream",
     "text": [
      "2022-07-07 14:11:57,777\tINFO worker.py:842 -- Connecting to existing Ray cluster at address: 172.17.0.2:6379\n"
     ]
    }
   ],
   "source": [
    "import itertools as it\n",
    "\n",
    "#\n",
    "import numpy as np\n",
    "import matplotlib.pyplot as plt\n",
    "\n",
    "#\n",
    "from pynb_dag_runner.tasks.task_opentelemetry_logging import PydarLogger\n",
    "\n",
    "#\n",
    "from common.io import datalake_root\n",
    "\n",
    "logger = PydarLogger(P)"
   ]
  },
  {
   "cell_type": "markdown",
   "id": "07343d30",
   "metadata": {
    "papermill": {
     "duration": 0.004391,
     "end_time": "2022-07-07T14:11:57.959750",
     "exception": false,
     "start_time": "2022-07-07T14:11:57.955359",
     "status": "completed"
    },
    "tags": []
   },
   "source": [
    "## Load persisted onnx-model and evaluation data"
   ]
  },
  {
   "cell_type": "code",
   "execution_count": 6,
   "id": "9c066381",
   "metadata": {
    "execution": {
     "iopub.execute_input": "2022-07-07T14:11:57.969767Z",
     "iopub.status.busy": "2022-07-07T14:11:57.968937Z",
     "iopub.status.idle": "2022-07-07T14:11:57.973563Z",
     "shell.execute_reply": "2022-07-07T14:11:57.972841Z"
    },
    "papermill": {
     "duration": 0.011177,
     "end_time": "2022-07-07T14:11:57.975175",
     "exception": false,
     "start_time": "2022-07-07T14:11:57.963998",
     "status": "completed"
    },
    "tags": []
   },
   "outputs": [],
   "source": [
    "from common.io import read_onnx, get_onnx_inputs, get_onnx_outputs, read_numpy"
   ]
  },
  {
   "cell_type": "code",
   "execution_count": 7,
   "id": "03df26c7",
   "metadata": {
    "execution": {
     "iopub.execute_input": "2022-07-07T14:11:57.984851Z",
     "iopub.status.busy": "2022-07-07T14:11:57.984317Z",
     "iopub.status.idle": "2022-07-07T14:11:57.993511Z",
     "shell.execute_reply": "2022-07-07T14:11:57.992802Z"
    },
    "lines_to_next_cell": 0,
    "papermill": {
     "duration": 0.015793,
     "end_time": "2022-07-07T14:11:57.995160",
     "exception": false,
     "start_time": "2022-07-07T14:11:57.979367",
     "status": "completed"
    },
    "tags": []
   },
   "outputs": [],
   "source": [
    "onnx_inference_session = read_onnx(\n",
    "    datalake_root(P)\n",
    "    / \"models\"\n",
    "    / f\"nr_train_images={P['task.nr_train_images']}\"\n",
    "    / \"model.onnx\"\n",
    ")"
   ]
  },
  {
   "cell_type": "markdown",
   "id": "62b96e4d",
   "metadata": {
    "papermill": {
     "duration": 0.004297,
     "end_time": "2022-07-07T14:11:58.003813",
     "exception": false,
     "start_time": "2022-07-07T14:11:57.999516",
     "status": "completed"
    },
    "tags": []
   },
   "source": [
    "### Record structure of inputs and outputs for ONNX model\n",
    "\n",
    "(this should likely be done in training notebook)"
   ]
  },
  {
   "cell_type": "code",
   "execution_count": 8,
   "id": "076313e6",
   "metadata": {
    "execution": {
     "iopub.execute_input": "2022-07-07T14:11:58.018523Z",
     "iopub.status.busy": "2022-07-07T14:11:58.018233Z",
     "iopub.status.idle": "2022-07-07T14:11:58.024019Z",
     "shell.execute_reply": "2022-07-07T14:11:58.023291Z"
    },
    "papermill": {
     "duration": 0.027322,
     "end_time": "2022-07-07T14:11:58.036130",
     "exception": false,
     "start_time": "2022-07-07T14:11:58.008808",
     "status": "completed"
    },
    "tags": []
   },
   "outputs": [
    {
     "name": "stdout",
     "output_type": "stream",
     "text": [
      "{\n",
      "  \"inputs\": [\n",
      "    {\n",
      "      \"name\": \"float_input_8x8_image\",\n",
      "      \"shape\": [\n",
      "        null,\n",
      "        64\n",
      "      ],\n",
      "      \"type\": \"tensor(float)\"\n",
      "    }\n",
      "  ],\n",
      "  \"outputs\": [\n",
      "    {\n",
      "      \"name\": \"output_label\",\n",
      "      \"shape\": [\n",
      "        null\n",
      "      ],\n",
      "      \"type\": \"tensor(int64)\"\n",
      "    },\n",
      "    {\n",
      "      \"name\": \"output_probability\",\n",
      "      \"shape\": [],\n",
      "      \"type\": \"seq(map(int64,tensor(float)))\"\n",
      "    }\n",
      "  ]\n",
      "}\n"
     ]
    }
   ],
   "source": [
    "import json\n",
    "\n",
    "onnx_io = json.dumps(\n",
    "    {\n",
    "        \"inputs\": get_onnx_inputs(onnx_inference_session),\n",
    "        \"outputs\": get_onnx_outputs(onnx_inference_session),\n",
    "    },\n",
    "    indent=2,\n",
    ")\n",
    "\n",
    "\n",
    "logger.log_artefact(\"onnx_io_structure.json\", onnx_io)\n",
    "print(onnx_io)"
   ]
  },
  {
   "cell_type": "markdown",
   "id": "0ee0b75b",
   "metadata": {
    "papermill": {
     "duration": 0.010212,
     "end_time": "2022-07-07T14:11:58.055982",
     "exception": false,
     "start_time": "2022-07-07T14:11:58.045770",
     "status": "completed"
    },
    "tags": []
   },
   "source": [
    "### Evaluate model performance on evaluation data set"
   ]
  },
  {
   "cell_type": "code",
   "execution_count": 9,
   "id": "a359b2d1",
   "metadata": {
    "execution": {
     "iopub.execute_input": "2022-07-07T14:11:58.072913Z",
     "iopub.status.busy": "2022-07-07T14:11:58.072621Z",
     "iopub.status.idle": "2022-07-07T14:11:58.077855Z",
     "shell.execute_reply": "2022-07-07T14:11:58.077231Z"
    },
    "papermill": {
     "duration": 0.020586,
     "end_time": "2022-07-07T14:11:58.081131",
     "exception": false,
     "start_time": "2022-07-07T14:11:58.060545",
     "status": "completed"
    },
    "tags": []
   },
   "outputs": [],
   "source": [
    "# load evaluation data\n",
    "X_test = read_numpy(datalake_root(P) / \"test-data\" / \"digits.numpy\")\n",
    "y_test = read_numpy(datalake_root(P) / \"test-data\" / \"labels.numpy\")"
   ]
  },
  {
   "cell_type": "code",
   "execution_count": 10,
   "id": "249d6a7c",
   "metadata": {
    "execution": {
     "iopub.execute_input": "2022-07-07T14:11:58.091191Z",
     "iopub.status.busy": "2022-07-07T14:11:58.090956Z",
     "iopub.status.idle": "2022-07-07T14:11:58.105212Z",
     "shell.execute_reply": "2022-07-07T14:11:58.104437Z"
    },
    "papermill": {
     "duration": 0.024511,
     "end_time": "2022-07-07T14:11:58.110054",
     "exception": false,
     "start_time": "2022-07-07T14:11:58.085543",
     "status": "completed"
    },
    "tags": []
   },
   "outputs": [],
   "source": [
    "def get_model_outputs(X, onnx_inference_session):\n",
    "    y_pred_labels, y_pred_map = onnx_inference_session.run(\n",
    "        [\"output_label\", \"output_probability\"],\n",
    "        {\"float_input_8x8_image\": X.astype(np.float32)},\n",
    "    )\n",
    "    y_pred_probs = np.array(\n",
    "        [[probabilities[digit] for digit in range(10)] for probabilities in y_pred_map]\n",
    "    )\n",
    "\n",
    "    assert y_pred_labels.shape == (X.shape[0],)\n",
    "    assert y_pred_probs.shape == (X.shape[0], 10)\n",
    "\n",
    "    return y_pred_labels, y_pred_probs\n",
    "\n",
    "\n",
    "# Note: as shown in the training notebook, the predicted labels and probabilities\n",
    "# computed below need not be compatible.\n",
    "y_pred_labels_test, y_pred_probs_test = get_model_outputs(\n",
    "    X_test, onnx_inference_session\n",
    ")"
   ]
  },
  {
   "cell_type": "markdown",
   "id": "33ac6fdb",
   "metadata": {
    "papermill": {
     "duration": 0.005335,
     "end_time": "2022-07-07T14:11:58.120648",
     "exception": false,
     "start_time": "2022-07-07T14:11:58.115313",
     "status": "completed"
    },
    "tags": []
   },
   "source": [
    "### Confusion matrix"
   ]
  },
  {
   "cell_type": "code",
   "execution_count": 11,
   "id": "901a93cf",
   "metadata": {
    "execution": {
     "iopub.execute_input": "2022-07-07T14:11:58.131136Z",
     "iopub.status.busy": "2022-07-07T14:11:58.130887Z",
     "iopub.status.idle": "2022-07-07T14:11:58.133877Z",
     "shell.execute_reply": "2022-07-07T14:11:58.133326Z"
    },
    "papermill": {
     "duration": 0.01414,
     "end_time": "2022-07-07T14:11:58.138877",
     "exception": false,
     "start_time": "2022-07-07T14:11:58.124737",
     "status": "completed"
    },
    "tags": []
   },
   "outputs": [],
   "source": [
    "# TODO"
   ]
  },
  {
   "cell_type": "markdown",
   "id": "9730020d",
   "metadata": {
    "papermill": {
     "duration": 0.004559,
     "end_time": "2022-07-07T14:11:58.149391",
     "exception": false,
     "start_time": "2022-07-07T14:11:58.144832",
     "status": "completed"
    },
    "tags": []
   },
   "source": [
    "### Plot predicted probabilities for each classifier over all evaluation digit images"
   ]
  },
  {
   "cell_type": "code",
   "execution_count": 12,
   "id": "e853d968",
   "metadata": {
    "execution": {
     "iopub.execute_input": "2022-07-07T14:11:58.159649Z",
     "iopub.status.busy": "2022-07-07T14:11:58.159409Z",
     "iopub.status.idle": "2022-07-07T14:12:01.874713Z",
     "shell.execute_reply": "2022-07-07T14:12:01.874121Z"
    },
    "papermill": {
     "duration": 3.722576,
     "end_time": "2022-07-07T14:12:01.876611",
     "exception": false,
     "start_time": "2022-07-07T14:11:58.154035",
     "status": "completed"
    },
    "tags": []
   },
   "outputs": [
    {
     "data": {
      "image/png": "[encoded data removed]",
      "text/plain": [
       "<Figure size 1152x432 with 10 Axes>"
      ]
     },
     "metadata": {
      "needs_background": "light"
     },
     "output_type": "display_data"
    }
   ],
   "source": [
    "def plot_per_digit_probabilities(y_pred_probs):\n",
    "    fig, axs = plt.subplots(nrows=2, ncols=5, figsize=(16, 6))\n",
    "\n",
    "    for (r, c), digit, ax in zip(\n",
    "        it.product(range(2), range(5)), range(10), axs.reshape(-1)\n",
    "    ):\n",
    "        ax.hist(y_pred_probs_test[:, digit], bins=20)\n",
    "\n",
    "        ax.set_title(f\"Digit {digit}\")\n",
    "        if r == 1 and c == 2:\n",
    "            ax.set_xlabel(\"probability\", fontsize=16)\n",
    "\n",
    "        if c == 0:\n",
    "            ax.set_ylabel(\"counts\", fontsize=16)\n",
    "        ax.set_yscale(\"log\")\n",
    "\n",
    "    fig.tight_layout()\n",
    "    fig.suptitle(\n",
    "        f\"Distributions of prediction probabilities for each digit \"\n",
    "        f\"(on evaluation data, n={y_pred_probs.shape[0]})\",\n",
    "        fontsize=20,\n",
    "    )\n",
    "    fig.tight_layout()\n",
    "    fig.show()\n",
    "\n",
    "    return fig\n",
    "\n",
    "\n",
    "fig = plot_per_digit_probabilities(y_pred_probs_test)"
   ]
  },
  {
   "cell_type": "markdown",
   "id": "f10062d0",
   "metadata": {
    "papermill": {
     "duration": 0.004835,
     "end_time": "2022-07-07T14:12:01.888536",
     "exception": false,
     "start_time": "2022-07-07T14:12:01.883701",
     "status": "completed"
    },
    "tags": []
   },
   "source": [
    "From the above distributions we see that most digits have clear separation between\n",
    "high and lower probabilities. Morover, in each case there is roughly an order of\n",
    "magnitude more of digits with low probabilities. This is compatible with digits\n",
    "being roughly evenly distributed in the data."
   ]
  },
  {
   "cell_type": "code",
   "execution_count": 13,
   "id": "81106ebd",
   "metadata": {
    "execution": {
     "iopub.execute_input": "2022-07-07T14:12:01.900026Z",
     "iopub.status.busy": "2022-07-07T14:12:01.899742Z",
     "iopub.status.idle": "2022-07-07T14:12:02.352328Z",
     "shell.execute_reply": "2022-07-07T14:12:02.351465Z"
    },
    "papermill": {
     "duration": 0.46022,
     "end_time": "2022-07-07T14:12:02.354266",
     "exception": false,
     "start_time": "2022-07-07T14:12:01.894046",
     "status": "completed"
    },
    "tags": []
   },
   "outputs": [],
   "source": [
    "logger.log_figure(\"per-digit-probabilities.png\", fig)"
   ]
  },
  {
   "cell_type": "markdown",
   "id": "565dd026",
   "metadata": {
    "papermill": {
     "duration": 0.014604,
     "end_time": "2022-07-07T14:12:02.373702",
     "exception": false,
     "start_time": "2022-07-07T14:12:02.359098",
     "status": "completed"
    },
    "tags": []
   },
   "source": [
    "### Plot ROC curves for individual one-vs-rest classifiers"
   ]
  },
  {
   "cell_type": "code",
   "execution_count": 14,
   "id": "24b903ce",
   "metadata": {
    "execution": {
     "iopub.execute_input": "2022-07-07T14:12:02.385917Z",
     "iopub.status.busy": "2022-07-07T14:12:02.385636Z",
     "iopub.status.idle": "2022-07-07T14:12:02.814340Z",
     "shell.execute_reply": "2022-07-07T14:12:02.813561Z"
    },
    "papermill": {
     "duration": 0.437946,
     "end_time": "2022-07-07T14:12:02.816877",
     "exception": false,
     "start_time": "2022-07-07T14:12:02.378931",
     "status": "completed"
    },
    "tags": []
   },
   "outputs": [],
   "source": [
    "from sklearn import metrics"
   ]
  },
  {
   "cell_type": "code",
   "execution_count": 15,
   "id": "80797766",
   "metadata": {
    "execution": {
     "iopub.execute_input": "2022-07-07T14:12:02.828883Z",
     "iopub.status.busy": "2022-07-07T14:12:02.828479Z",
     "iopub.status.idle": "2022-07-07T14:12:03.893627Z",
     "shell.execute_reply": "2022-07-07T14:12:03.892496Z"
    },
    "papermill": {
     "duration": 1.073359,
     "end_time": "2022-07-07T14:12:03.895554",
     "exception": false,
     "start_time": "2022-07-07T14:12:02.822195",
     "status": "completed"
    },
    "tags": []
   },
   "outputs": [
    {
     "data": {
      "image/png": "[encoded data removed]",
      "text/plain": [
       "<Figure size 1152x576 with 10 Axes>"
      ]
     },
     "metadata": {
      "needs_background": "light"
     },
     "output_type": "display_data"
    }
   ],
   "source": [
    "def plot_roc_curves(y, y_pred_probs):\n",
    "    # based on example code\n",
    "    # https://scikit-learn.org/stable/auto_examples/model_selection/plot_roc.html\n",
    "\n",
    "    fig, axs = plt.subplots(nrows=2, ncols=5, figsize=(16, 8))\n",
    "\n",
    "    roc_auc_dict = {}\n",
    "\n",
    "    for (r, c), digit, ax in zip(\n",
    "        it.product(range(2), range(5)), range(10), axs.reshape(-1)\n",
    "    ):\n",
    "        fpr, tpr, _ = metrics.roc_curve(y == digit, y_pred_probs[:, digit])\n",
    "        auc = metrics.auc(fpr, tpr)\n",
    "        roc_auc_dict[str(digit)] = auc\n",
    "\n",
    "        ax.plot(fpr, tpr, label=f\"ROC AUC={round(auc, 3)}\")\n",
    "\n",
    "        ax.set_title(f\"\\nDigit {digit}\", fontsize=16)\n",
    "        if r == 1:\n",
    "            ax.set_xlabel(\"FPR\", fontsize=18)\n",
    "\n",
    "        if c == 0:\n",
    "            ax.set_ylabel(\"TPR\", fontsize=18)\n",
    "\n",
    "        ax.set_xlim([-0.05, 1.05])\n",
    "        ax.set_ylim([-0.05, 1.05])\n",
    "        ax.legend(loc=\"lower right\", frameon=False, fontsize=14)\n",
    "\n",
    "    fig.tight_layout()\n",
    "    fig.suptitle(\n",
    "        f\"ROC plots for one-vs-rest performances \"\n",
    "        f\"(on evaluation data, n={y_pred_probs_test.shape[1]}\",\n",
    "        fontsize=22,\n",
    "    )\n",
    "    fig.tight_layout()\n",
    "    fig.show()\n",
    "\n",
    "    return roc_auc_dict, fig\n",
    "\n",
    "\n",
    "roc_auc_dict, fig = plot_roc_curves(y_test, y_pred_probs_test)"
   ]
  },
  {
   "cell_type": "code",
   "execution_count": 16,
   "id": "2fec3947",
   "metadata": {
    "execution": {
     "iopub.execute_input": "2022-07-07T14:12:03.908972Z",
     "iopub.status.busy": "2022-07-07T14:12:03.908545Z",
     "iopub.status.idle": "2022-07-07T14:12:04.141670Z",
     "shell.execute_reply": "2022-07-07T14:12:04.140807Z"
    },
    "papermill": {
     "duration": 0.242188,
     "end_time": "2022-07-07T14:12:04.144136",
     "exception": false,
     "start_time": "2022-07-07T14:12:03.901948",
     "status": "completed"
    },
    "tags": []
   },
   "outputs": [],
   "source": [
    "logger.log_figure(\"per-digit-roc-curves.png\", fig)"
   ]
  },
  {
   "cell_type": "code",
   "execution_count": 17,
   "id": "6952fa7e",
   "metadata": {
    "execution": {
     "iopub.execute_input": "2022-07-07T14:12:04.157738Z",
     "iopub.status.busy": "2022-07-07T14:12:04.156800Z",
     "iopub.status.idle": "2022-07-07T14:12:04.161657Z",
     "shell.execute_reply": "2022-07-07T14:12:04.161062Z"
    },
    "papermill": {
     "duration": 0.015741,
     "end_time": "2022-07-07T14:12:04.165930",
     "exception": false,
     "start_time": "2022-07-07T14:12:04.150189",
     "status": "completed"
    },
    "tags": []
   },
   "outputs": [
    {
     "data": {
      "text/plain": [
       "{'0': 1.0,\n",
       " '1': 0.9987628865979381,\n",
       " '2': 1.0,\n",
       " '3': 0.9998500468603562,\n",
       " '4': 1.0,\n",
       " '5': 0.99883786316776,\n",
       " '6': 0.999961896052431,\n",
       " '7': 0.9998475842097242,\n",
       " '8': 0.9893600252206809,\n",
       " '9': 0.9990474013107757}"
      ]
     },
     "execution_count": 17,
     "metadata": {},
     "output_type": "execute_result"
    }
   ],
   "source": [
    "roc_auc_dict"
   ]
  },
  {
   "cell_type": "code",
   "execution_count": 18,
   "id": "5d92042b",
   "metadata": {
    "execution": {
     "iopub.execute_input": "2022-07-07T14:12:04.179061Z",
     "iopub.status.busy": "2022-07-07T14:12:04.178754Z",
     "iopub.status.idle": "2022-07-07T14:12:04.186607Z",
     "shell.execute_reply": "2022-07-07T14:12:04.185936Z"
    },
    "papermill": {
     "duration": 0.018404,
     "end_time": "2022-07-07T14:12:04.190496",
     "exception": false,
     "start_time": "2022-07-07T14:12:04.172092",
     "status": "completed"
    },
    "tags": []
   },
   "outputs": [
    {
     "name": "stdout",
     "output_type": "stream",
     "text": [
      " - Logging roc_auc_per_digit (json) : {'0': 1.0, '1': 0.9987628865979381, '2': 1.0, '3': 0.9998500468603562, '4': 1.0, '5': 0.99883786316776, '6': 0.999961896052431, '7': 0.9998475842097242, '8': 0.9893600252206809, '9': 0.9990474013107757}\n"
     ]
    }
   ],
   "source": [
    "logger.log_value(\"roc_auc_per_digit\", roc_auc_dict)"
   ]
  },
  {
   "cell_type": "markdown",
   "id": "eba06ac2",
   "metadata": {
    "papermill": {
     "duration": 0.005749,
     "end_time": "2022-07-07T14:12:04.201808",
     "exception": false,
     "start_time": "2022-07-07T14:12:04.196059",
     "status": "completed"
    },
    "tags": []
   },
   "source": [
    "### Compute and log mean ROC AUC score averaged over all digits"
   ]
  },
  {
   "cell_type": "code",
   "execution_count": 19,
   "id": "4fdc76ee",
   "metadata": {
    "execution": {
     "iopub.execute_input": "2022-07-07T14:12:04.215012Z",
     "iopub.status.busy": "2022-07-07T14:12:04.214576Z",
     "iopub.status.idle": "2022-07-07T14:12:04.228773Z",
     "shell.execute_reply": "2022-07-07T14:12:04.227963Z"
    },
    "papermill": {
     "duration": 0.023008,
     "end_time": "2022-07-07T14:12:04.230451",
     "exception": false,
     "start_time": "2022-07-07T14:12:04.207443",
     "status": "completed"
    },
    "tags": []
   },
   "outputs": [
    {
     "name": "stdout",
     "output_type": "stream",
     "text": [
      " - Logging roc_auc_class_mean (float) : 0.9985667703419665\n"
     ]
    }
   ],
   "source": [
    "roc_auc_macro = np.mean(list(roc_auc_dict.values()))\n",
    "\n",
    "logger.log_float(\"roc_auc_class_mean\", roc_auc_macro)\n",
    "\n",
    "# assert that the same value can be computed directly using sklearn\n",
    "assert roc_auc_macro == metrics.roc_auc_score(\n",
    "    y_test, y_pred_probs_test, average=\"macro\", multi_class=\"ovr\"\n",
    ")"
   ]
  },
  {
   "cell_type": "code",
   "execution_count": 20,
   "id": "e0853916",
   "metadata": {
    "execution": {
     "iopub.execute_input": "2022-07-07T14:12:04.243092Z",
     "iopub.status.busy": "2022-07-07T14:12:04.242738Z",
     "iopub.status.idle": "2022-07-07T14:12:04.245980Z",
     "shell.execute_reply": "2022-07-07T14:12:04.245293Z"
    },
    "lines_to_next_cell": 0,
    "papermill": {
     "duration": 0.01149,
     "end_time": "2022-07-07T14:12:04.247786",
     "exception": false,
     "start_time": "2022-07-07T14:12:04.236296",
     "status": "completed"
    },
    "tags": []
   },
   "outputs": [],
   "source": [
    "# ---"
   ]
  },
  {
   "cell_type": "code",
   "execution_count": null,
   "id": "afc3cc33",
   "metadata": {
    "papermill": {
     "duration": 0.005959,
     "end_time": "2022-07-07T14:12:04.259669",
     "exception": false,
     "start_time": "2022-07-07T14:12:04.253710",
     "status": "completed"
    },
    "tags": []
   },
   "outputs": [],
   "source": []
  }
 ],
 "metadata": {
  "jupytext": {
   "cell_metadata_filter": "tags,-all",
   "main_language": "python",
   "notebook_metadata_filter": "-all"
  },
  "language_info": {
   "codemirror_mode": {
    "name": "ipython",
    "version": 3
   },
   "file_extension": ".py",
   "mimetype": "text/x-python",
   "name": "python",
   "nbconvert_exporter": "python",
   "pygments_lexer": "ipython3",
   "version": "3.8.10"
  },
  "papermill": {
   "default_parameters": {},
   "duration": 9.946131,
   "end_time": "2022-07-07T14:12:05.485343",
   "environment_variables": {},
   "exception": null,
   "input_path": "/home/host_user/workspace/mnist-demo-pipeline/mnist-demo-pipeline/notebooks/temp-notebook-rvtco7jp.ipynb",
   "output_path": "notebooks/benchmark-model.ipynb",
   "parameters": {
    "P": {
     "_opentelemetry_traceparent": "00-95fffe829ee04d9f9ab9d1fdc8486363-717a1f4c95e25508-01",
     "pipeline.data_lake_root": "/pipeline-outputs/data-lake",
     "pipeline.github.actor": "matiasdahl",
     "pipeline.github.base_ref": "development",
     "pipeline.github.event_name": "pull_request",
     "pipeline.github.head_ref": "try-C-hyperparameter",
     "pipeline.github.job": "run-tests-pipeline-and-persist-pipeline-outputs",
     "pipeline.github.ref": "refs/pull/55/merge",
     "pipeline.github.ref_name": "55/merge",
     "pipeline.github.ref_type": "branch",
     "pipeline.github.repository": "pynb-dag-runner/mnist-digits-demo-pipeline",
     "pipeline.github.run_id": "2630097778",
     "pipeline.github.runner_name": "Hosted Agent",
     "pipeline.github.sha": "2e68fc4d090046a0d419e76130414dbc4e2cbe82",
     "pipeline.github.workflow": "Run automated tests, pipeline and deploy results to static reporting site",
     "pipeline.pipeline_run_id": "366d576b-8f71-424a-a433-f9e0dceff067",
     "pipeline.run_environment": "ci",
     "run.retry_nr": "0",
     "task.max_nr_retries": "1",
     "task.notebook": "notebooks/benchmark-model.py",
     "task.nr_train_images": 800,
     "task.num_cpus": 1,
     "task.timeout_s": "None"
    }
   },
   "start_time": "2022-07-07T14:11:55.539212",
   "version": "2.3.3"
  }
 },
 "nbformat": 4,
 "nbformat_minor": 5
}