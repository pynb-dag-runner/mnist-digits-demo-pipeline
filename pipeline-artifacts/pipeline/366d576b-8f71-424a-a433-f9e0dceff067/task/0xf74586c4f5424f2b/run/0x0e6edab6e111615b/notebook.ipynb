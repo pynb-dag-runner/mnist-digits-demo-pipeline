{
 "cells": [
  {
   "cell_type": "markdown",
   "id": "9dc2aa87",
   "metadata": {
    "papermill": {
     "duration": 0.003846,
     "end_time": "2022-07-07T14:11:49.102771",
     "exception": false,
     "start_time": "2022-07-07T14:11:49.098925",
     "status": "completed"
    },
    "tags": []
   },
   "source": [
    "# Train model\n",
    "\n",
    "The purpose of this notebook is:\n",
    "\n",
    "- Load all training data (images and labels).\n",
    "- Limit number of train images to `task.nr_train_images` (value provided as run parameter).\n",
    "- Train a support vector machine model using sklearn.\n",
    "- Persist the trained model using the ONNX format."
   ]
  },
  {
   "cell_type": "markdown",
   "id": "55659e7c",
   "metadata": {
    "papermill": {
     "duration": 0.002609,
     "end_time": "2022-07-07T14:11:49.109626",
     "exception": false,
     "start_time": "2022-07-07T14:11:49.107017",
     "status": "completed"
    },
    "tags": []
   },
   "source": [
    "### Determine run parameters"
   ]
  },
  {
   "cell_type": "code",
   "execution_count": 1,
   "id": "8fdee909",
   "metadata": {
    "execution": {
     "iopub.execute_input": "2022-07-07T14:11:49.116867Z",
     "iopub.status.busy": "2022-07-07T14:11:49.116497Z",
     "iopub.status.idle": "2022-07-07T14:11:49.124359Z",
     "shell.execute_reply": "2022-07-07T14:11:49.123835Z"
    },
    "lines_to_next_cell": 0,
    "papermill": {
     "duration": 0.014335,
     "end_time": "2022-07-07T14:11:49.126635",
     "exception": false,
     "start_time": "2022-07-07T14:11:49.112300",
     "status": "completed"
    },
    "tags": []
   },
   "outputs": [],
   "source": [
    "# ----------------- Parameters for interactive development --------------\n",
    "P = {\n",
    "    \"pipeline.data_lake_root\": \"/pipeline-outputs/data-lake\",\n",
    "    \"task.nr_train_images\": 600,\n",
    "}"
   ]
  },
  {
   "cell_type": "code",
   "execution_count": 2,
   "id": "8324fa63",
   "metadata": {
    "execution": {
     "iopub.execute_input": "2022-07-07T14:11:49.133140Z",
     "iopub.status.busy": "2022-07-07T14:11:49.132938Z",
     "iopub.status.idle": "2022-07-07T14:11:49.136073Z",
     "shell.execute_reply": "2022-07-07T14:11:49.135246Z"
    },
    "lines_to_next_cell": 0,
    "papermill": {
     "duration": 0.009228,
     "end_time": "2022-07-07T14:11:49.138721",
     "exception": false,
     "start_time": "2022-07-07T14:11:49.129493",
     "status": "completed"
    },
    "tags": [
     "parameters"
    ]
   },
   "outputs": [],
   "source": [
    "# - During automated runs parameters will be injected in the below cell -"
   ]
  },
  {
   "cell_type": "code",
   "execution_count": 3,
   "id": "4d035f3c",
   "metadata": {
    "execution": {
     "iopub.execute_input": "2022-07-07T14:11:49.145308Z",
     "iopub.status.busy": "2022-07-07T14:11:49.144970Z",
     "iopub.status.idle": "2022-07-07T14:11:49.150061Z",
     "shell.execute_reply": "2022-07-07T14:11:49.149360Z"
    },
    "papermill": {
     "duration": 0.01103,
     "end_time": "2022-07-07T14:11:49.152382",
     "exception": false,
     "start_time": "2022-07-07T14:11:49.141352",
     "status": "completed"
    },
    "tags": [
     "injected-parameters"
    ]
   },
   "outputs": [],
   "source": [
    "# Parameters\n",
    "P = {\n",
    "    \"pipeline.data_lake_root\": \"/pipeline-outputs/data-lake\",\n",
    "    \"pipeline.run_environment\": \"ci\",\n",
    "    \"pipeline.pipeline_run_id\": \"366d576b-8f71-424a-a433-f9e0dceff067\",\n",
    "    \"pipeline.github.repository\": \"pynb-dag-runner/mnist-digits-demo-pipeline\",\n",
    "    \"pipeline.github.workflow\": \"Run automated tests, pipeline and deploy results to static reporting site\",\n",
    "    \"pipeline.github.runner_name\": \"Hosted Agent\",\n",
    "    \"pipeline.github.run_id\": \"2630097778\",\n",
    "    \"pipeline.github.actor\": \"matiasdahl\",\n",
    "    \"pipeline.github.job\": \"run-tests-pipeline-and-persist-pipeline-outputs\",\n",
    "    \"pipeline.github.base_ref\": \"development\",\n",
    "    \"pipeline.github.head_ref\": \"try-C-hyperparameter\",\n",
    "    \"pipeline.github.sha\": \"2e68fc4d090046a0d419e76130414dbc4e2cbe82\",\n",
    "    \"pipeline.github.ref\": \"refs/pull/55/merge\",\n",
    "    \"pipeline.github.ref_type\": \"branch\",\n",
    "    \"pipeline.github.ref_name\": \"55/merge\",\n",
    "    \"pipeline.github.event_name\": \"pull_request\",\n",
    "    \"task.nr_train_images\": 1000,\n",
    "    \"task.notebook\": \"notebooks/train-model.py\",\n",
    "    \"task.max_nr_retries\": \"1\",\n",
    "    \"run.retry_nr\": \"0\",\n",
    "    \"task.timeout_s\": \"None\",\n",
    "    \"task.num_cpus\": 1,\n",
    "    \"_opentelemetry_traceparent\": \"00-95fffe829ee04d9f9ab9d1fdc8486363-84f68ffd691813ea-01\",\n",
    "}\n"
   ]
  },
  {
   "cell_type": "code",
   "execution_count": 4,
   "id": "b6f3ffc3",
   "metadata": {
    "execution": {
     "iopub.execute_input": "2022-07-07T14:11:49.159837Z",
     "iopub.status.busy": "2022-07-07T14:11:49.159635Z",
     "iopub.status.idle": "2022-07-07T14:11:49.162629Z",
     "shell.execute_reply": "2022-07-07T14:11:49.162128Z"
    },
    "lines_to_next_cell": 0,
    "papermill": {
     "duration": 0.008991,
     "end_time": "2022-07-07T14:11:49.164868",
     "exception": false,
     "start_time": "2022-07-07T14:11:49.155877",
     "status": "completed"
    },
    "tags": []
   },
   "outputs": [],
   "source": [
    "# -----------------------------------------------------------------------"
   ]
  },
  {
   "cell_type": "markdown",
   "id": "f24c98b1",
   "metadata": {
    "papermill": {
     "duration": 0.003276,
     "end_time": "2022-07-07T14:11:49.171465",
     "exception": false,
     "start_time": "2022-07-07T14:11:49.168189",
     "status": "completed"
    },
    "tags": []
   },
   "source": [
    "---"
   ]
  },
  {
   "cell_type": "markdown",
   "id": "d63eafda",
   "metadata": {
    "lines_to_next_cell": 2,
    "papermill": {
     "duration": 0.00281,
     "end_time": "2022-07-07T14:11:49.176963",
     "exception": false,
     "start_time": "2022-07-07T14:11:49.174153",
     "status": "completed"
    },
    "tags": []
   },
   "source": [
    "### Notebook code"
   ]
  },
  {
   "cell_type": "code",
   "execution_count": 5,
   "id": "0e0fe4bf",
   "metadata": {
    "execution": {
     "iopub.execute_input": "2022-07-07T14:11:49.184968Z",
     "iopub.status.busy": "2022-07-07T14:11:49.184716Z",
     "iopub.status.idle": "2022-07-07T14:11:49.701726Z",
     "shell.execute_reply": "2022-07-07T14:11:49.700910Z"
    },
    "papermill": {
     "duration": 0.522647,
     "end_time": "2022-07-07T14:11:49.703700",
     "exception": false,
     "start_time": "2022-07-07T14:11:49.181053",
     "status": "completed"
    },
    "tags": []
   },
   "outputs": [
    {
     "name": "stderr",
     "output_type": "stream",
     "text": [
      "2022-07-07 14:11:49,524\tINFO worker.py:842 -- Connecting to existing Ray cluster at address: 172.17.0.2:6379\n"
     ]
    }
   ],
   "source": [
    "from pynb_dag_runner.tasks.task_opentelemetry_logging import PydarLogger\n",
    "\n",
    "logger = PydarLogger(P)"
   ]
  },
  {
   "cell_type": "markdown",
   "id": "2ac3d6d0",
   "metadata": {
    "papermill": {
     "duration": 0.003017,
     "end_time": "2022-07-07T14:11:49.710019",
     "exception": false,
     "start_time": "2022-07-07T14:11:49.707002",
     "status": "completed"
    },
    "tags": []
   },
   "source": [
    "## Load and limit train data"
   ]
  },
  {
   "cell_type": "code",
   "execution_count": 6,
   "id": "0274e2f1",
   "metadata": {
    "execution": {
     "iopub.execute_input": "2022-07-07T14:11:49.717061Z",
     "iopub.status.busy": "2022-07-07T14:11:49.716601Z",
     "iopub.status.idle": "2022-07-07T14:11:50.113877Z",
     "shell.execute_reply": "2022-07-07T14:11:50.113202Z"
    },
    "papermill": {
     "duration": 0.403304,
     "end_time": "2022-07-07T14:11:50.116080",
     "exception": false,
     "start_time": "2022-07-07T14:11:49.712776",
     "status": "completed"
    },
    "tags": []
   },
   "outputs": [],
   "source": [
    "def load_and_limit_train_data(P):\n",
    "    from common.io import datalake_root, read_numpy\n",
    "    from sklearn.model_selection import train_test_split\n",
    "\n",
    "    X_train_all = read_numpy(datalake_root(P) / \"train-data\" / \"digits.numpy\")\n",
    "    y_train_all = read_numpy(datalake_root(P) / \"train-data\" / \"labels.numpy\")\n",
    "\n",
    "    assert isinstance(P[\"task.nr_train_images\"], int)\n",
    "\n",
    "    # Note: train_test_split will fail if split is 0 or 100%.\n",
    "    assert 0 < P[\"task.nr_train_images\"] < len(y_train_all)\n",
    "\n",
    "    X_train, _, y_train, _ = train_test_split(\n",
    "        X_train_all,\n",
    "        y_train_all,\n",
    "        train_size=P[\"task.nr_train_images\"],\n",
    "        test_size=None,\n",
    "        stratify=y_train_all,\n",
    "        shuffle=True,\n",
    "        random_state=123,\n",
    "    )\n",
    "\n",
    "    assert X_train.shape == (len(y_train), 8 * 8)\n",
    "    return X_train, y_train\n",
    "\n",
    "\n",
    "X_train, y_train = load_and_limit_train_data(P)"
   ]
  },
  {
   "cell_type": "markdown",
   "id": "3f4d4c45",
   "metadata": {
    "papermill": {
     "duration": 0.003325,
     "end_time": "2022-07-07T14:11:50.124550",
     "exception": false,
     "start_time": "2022-07-07T14:11:50.121225",
     "status": "completed"
    },
    "tags": []
   },
   "source": [
    "## Train support vector classifier model\n",
    "\n",
    "Below we assume that the hyperparameter $C$ is known.\n",
    "\n",
    "However, this should ideally be found by a hyperparameter search. That could be\n",
    "done in parallel on the Ray cluster, but this needs some more work. Ie., to use\n",
    "multiple cores in the notebook, those cores should be reserved when starting the\n",
    "notebook task (TODO).\n",
    "\n",
    "- https://docs.ray.io/en/latest/tune/key-concepts.html\n",
    "\n",
    "Note: cv-scores would need to be computed here, since they depend on the train data.\n",
    "After this notebook only the onnx-model is available."
   ]
  },
  {
   "cell_type": "code",
   "execution_count": 7,
   "id": "c5a200ee",
   "metadata": {
    "execution": {
     "iopub.execute_input": "2022-07-07T14:11:50.131456Z",
     "iopub.status.busy": "2022-07-07T14:11:50.131195Z",
     "iopub.status.idle": "2022-07-07T14:11:50.152696Z",
     "shell.execute_reply": "2022-07-07T14:11:50.152081Z"
    },
    "papermill": {
     "duration": 0.026977,
     "end_time": "2022-07-07T14:11:50.154361",
     "exception": false,
     "start_time": "2022-07-07T14:11:50.127384",
     "status": "completed"
    },
    "tags": []
   },
   "outputs": [],
   "source": [
    "from sklearn.svm import SVC"
   ]
  },
  {
   "cell_type": "code",
   "execution_count": 8,
   "id": "45e8a19b",
   "metadata": {
    "execution": {
     "iopub.execute_input": "2022-07-07T14:11:50.162826Z",
     "iopub.status.busy": "2022-07-07T14:11:50.162402Z",
     "iopub.status.idle": "2022-07-07T14:11:50.305218Z",
     "shell.execute_reply": "2022-07-07T14:11:50.304555Z"
    },
    "papermill": {
     "duration": 0.149152,
     "end_time": "2022-07-07T14:11:50.306978",
     "exception": false,
     "start_time": "2022-07-07T14:11:50.157826",
     "status": "completed"
    },
    "tags": []
   },
   "outputs": [
    {
     "data": {
      "text/plain": [
       "SVC(C=0.01, kernel='linear', probability=True)"
      ]
     },
     "execution_count": 8,
     "metadata": {},
     "output_type": "execute_result"
    }
   ],
   "source": [
    "model = SVC(C=0.01, kernel=\"linear\", probability=True)\n",
    "\n",
    "model.fit(X_train, y_train)"
   ]
  },
  {
   "cell_type": "markdown",
   "id": "b1c42e41",
   "metadata": {
    "papermill": {
     "duration": 0.003316,
     "end_time": "2022-07-07T14:11:50.313780",
     "exception": false,
     "start_time": "2022-07-07T14:11:50.310464",
     "status": "completed"
    },
    "tags": []
   },
   "source": [
    "### Q: Can the labels returned by `predict(..)` be computed from probabilities returned by the `predict_prob`-method?"
   ]
  },
  {
   "cell_type": "code",
   "execution_count": 9,
   "id": "e94ccc95",
   "metadata": {
    "execution": {
     "iopub.execute_input": "2022-07-07T14:11:50.321567Z",
     "iopub.status.busy": "2022-07-07T14:11:50.321313Z",
     "iopub.status.idle": "2022-07-07T14:11:50.386475Z",
     "shell.execute_reply": "2022-07-07T14:11:50.385920Z"
    },
    "papermill": {
     "duration": 0.071264,
     "end_time": "2022-07-07T14:11:50.388267",
     "exception": false,
     "start_time": "2022-07-07T14:11:50.317003",
     "status": "completed"
    },
    "tags": []
   },
   "outputs": [
    {
     "name": "stdout",
     "output_type": "stream",
     "text": [
      " - Logging nr_max_prob_neq_label (int) : 0\n"
     ]
    }
   ],
   "source": [
    "import numpy as np\n",
    "\n",
    "y_train_labels = model.predict(X_train)\n",
    "y_train_probabilities = model.predict_proba(X_train)\n",
    "assert y_train_probabilities.shape == (len(y_train), 10)\n",
    "\n",
    "y_train_max_prob_labels = np.argmax(y_train_probabilities, axis=1)\n",
    "assert y_train_labels.shape == y_train_max_prob_labels.shape == y_train.shape\n",
    "\n",
    "# If the predicted labels would coincide with the labels that have\n",
    "# maximum probability, the below number would be zero\n",
    "logger.log_int(\n",
    "    \"nr_max_prob_neq_label\", int(sum(y_train_max_prob_labels != y_train_labels))\n",
    ")"
   ]
  },
  {
   "cell_type": "markdown",
   "id": "bed0fb42",
   "metadata": {
    "papermill": {
     "duration": 0.003468,
     "end_time": "2022-07-07T14:11:50.394840",
     "exception": false,
     "start_time": "2022-07-07T14:11:50.391372",
     "status": "completed"
    },
    "tags": []
   },
   "source": [
    "The explanation is (likely) explained in the SVC source, see\n",
    "[here](https://github.com/scikit-learn/scikit-learn/blob/main/sklearn/svm/_base.py).\n",
    "Namely, the outputs from `predict(..)` and `predict_proba(..)` may not in some\n",
    "cases be compatible since the latter is computed using cross-validation while\n",
    "the former is not. Thus, the above number need not be zero."
   ]
  },
  {
   "cell_type": "markdown",
   "id": "b2f8d9e1",
   "metadata": {
    "papermill": {
     "duration": 0.003046,
     "end_time": "2022-07-07T14:11:50.401192",
     "exception": false,
     "start_time": "2022-07-07T14:11:50.398146",
     "status": "completed"
    },
    "tags": []
   },
   "source": [
    "## Persist model"
   ]
  },
  {
   "cell_type": "code",
   "execution_count": 10,
   "id": "a1272626",
   "metadata": {
    "execution": {
     "iopub.execute_input": "2022-07-07T14:11:50.408922Z",
     "iopub.status.busy": "2022-07-07T14:11:50.408654Z",
     "iopub.status.idle": "2022-07-07T14:11:51.176680Z",
     "shell.execute_reply": "2022-07-07T14:11:51.176039Z"
    },
    "papermill": {
     "duration": 0.774196,
     "end_time": "2022-07-07T14:11:51.178724",
     "exception": false,
     "start_time": "2022-07-07T14:11:50.404528",
     "status": "completed"
    },
    "tags": []
   },
   "outputs": [
    {
     "name": "stdout",
     "output_type": "stream",
     "text": [
      "\u001b[2m\u001b[1m\u001b[36m(scheduler +1s)\u001b[0m Tip: use `ray status` to view detailed cluster status. To disable these messages, set RAY_SCHEDULER_EVENTS=0.\n",
      "\u001b[2m\u001b[1m\u001b[33m(scheduler +1s)\u001b[0m Warning: The following resource request cannot be scheduled right now: {'CPU': 1.0}. This is likely due to all cluster resources being claimed by actors. Consider creating fewer actors or adding more nodes to this Ray cluster.\n"
     ]
    }
   ],
   "source": [
    "from skl2onnx import convert_sklearn\n",
    "from skl2onnx.common.data_types import FloatTensorType\n",
    "\n",
    "#\n",
    "from common.io import datalake_root, write_onnx"
   ]
  },
  {
   "cell_type": "code",
   "execution_count": 11,
   "id": "70c244d0",
   "metadata": {
    "execution": {
     "iopub.execute_input": "2022-07-07T14:11:51.187818Z",
     "iopub.status.busy": "2022-07-07T14:11:51.187285Z",
     "iopub.status.idle": "2022-07-07T14:11:51.240257Z",
     "shell.execute_reply": "2022-07-07T14:11:51.237727Z"
    },
    "papermill": {
     "duration": 0.059533,
     "end_time": "2022-07-07T14:11:51.242254",
     "exception": false,
     "start_time": "2022-07-07T14:11:51.182721",
     "status": "completed"
    },
    "tags": []
   },
   "outputs": [],
   "source": [
    "# convert sklearn model into onnx and persist to data lake\n",
    "\n",
    "model_onnx = convert_sklearn(\n",
    "    model, initial_types=[(\"float_input_8x8_image\", FloatTensorType([None, 8 * 8]))]\n",
    ")\n",
    "write_onnx(\n",
    "    datalake_root(P)\n",
    "    / \"models\"\n",
    "    / f\"nr_train_images={P['task.nr_train_images']}\"\n",
    "    / \"model.onnx\",\n",
    "    model_onnx,\n",
    ")"
   ]
  },
  {
   "cell_type": "code",
   "execution_count": null,
   "id": "d3dda6de",
   "metadata": {
    "papermill": {
     "duration": 0.004177,
     "end_time": "2022-07-07T14:11:51.251580",
     "exception": false,
     "start_time": "2022-07-07T14:11:51.247403",
     "status": "completed"
    },
    "tags": []
   },
   "outputs": [],
   "source": []
  }
 ],
 "metadata": {
  "jupytext": {
   "cell_metadata_filter": "tags,-all",
   "main_language": "python",
   "notebook_metadata_filter": "-all"
  },
  "language_info": {
   "codemirror_mode": {
    "name": "ipython",
    "version": 3
   },
   "file_extension": ".py",
   "mimetype": "text/x-python",
   "name": "python",
   "nbconvert_exporter": "python",
   "pygments_lexer": "ipython3",
   "version": "3.8.10"
  },
  "papermill": {
   "default_parameters": {},
   "duration": 4.555733,
   "end_time": "2022-07-07T14:11:52.274718",
   "environment_variables": {},
   "exception": null,
   "input_path": "/home/host_user/workspace/mnist-demo-pipeline/mnist-demo-pipeline/notebooks/temp-notebook-a6n7q3u7.ipynb",
   "output_path": "notebooks/train-model.ipynb",
   "parameters": {
    "P": {
     "_opentelemetry_traceparent": "00-95fffe829ee04d9f9ab9d1fdc8486363-84f68ffd691813ea-01",
     "pipeline.data_lake_root": "/pipeline-outputs/data-lake",
     "pipeline.github.actor": "matiasdahl",
     "pipeline.github.base_ref": "development",
     "pipeline.github.event_name": "pull_request",
     "pipeline.github.head_ref": "try-C-hyperparameter",
     "pipeline.github.job": "run-tests-pipeline-and-persist-pipeline-outputs",
     "pipeline.github.ref": "refs/pull/55/merge",
     "pipeline.github.ref_name": "55/merge",
     "pipeline.github.ref_type": "branch",
     "pipeline.github.repository": "pynb-dag-runner/mnist-digits-demo-pipeline",
     "pipeline.github.run_id": "2630097778",
     "pipeline.github.runner_name": "Hosted Agent",
     "pipeline.github.sha": "2e68fc4d090046a0d419e76130414dbc4e2cbe82",
     "pipeline.github.workflow": "Run automated tests, pipeline and deploy results to static reporting site",
     "pipeline.pipeline_run_id": "366d576b-8f71-424a-a433-f9e0dceff067",
     "pipeline.run_environment": "ci",
     "run.retry_nr": "0",
     "task.max_nr_retries": "1",
     "task.notebook": "notebooks/train-model.py",
     "task.nr_train_images": 1000,
     "task.num_cpus": 1,
     "task.timeout_s": "None"
    }
   },
   "start_time": "2022-07-07T14:11:47.718985",
   "version": "2.3.3"
  }
 },
 "nbformat": 4,
 "nbformat_minor": 5
}