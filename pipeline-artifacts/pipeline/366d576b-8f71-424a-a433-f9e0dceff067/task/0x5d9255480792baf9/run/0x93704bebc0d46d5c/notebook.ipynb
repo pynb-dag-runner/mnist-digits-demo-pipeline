{
 "cells": [
  {
   "cell_type": "markdown",
   "id": "6411b64a",
   "metadata": {
    "papermill": {
     "duration": 0.004267,
     "end_time": "2022-07-07T14:11:50.940493",
     "exception": false,
     "start_time": "2022-07-07T14:11:50.936226",
     "status": "completed"
    },
    "tags": []
   },
   "source": [
    "# Train model\n",
    "\n",
    "The purpose of this notebook is:\n",
    "\n",
    "- Load all training data (images and labels).\n",
    "- Limit number of train images to `task.nr_train_images` (value provided as run parameter).\n",
    "- Train a support vector machine model using sklearn.\n",
    "- Persist the trained model using the ONNX format."
   ]
  },
  {
   "cell_type": "markdown",
   "id": "95add5da",
   "metadata": {
    "papermill": {
     "duration": 0.00274,
     "end_time": "2022-07-07T14:11:50.946996",
     "exception": false,
     "start_time": "2022-07-07T14:11:50.944256",
     "status": "completed"
    },
    "tags": []
   },
   "source": [
    "### Determine run parameters"
   ]
  },
  {
   "cell_type": "code",
   "execution_count": 1,
   "id": "217a67b2",
   "metadata": {
    "execution": {
     "iopub.execute_input": "2022-07-07T14:11:50.956392Z",
     "iopub.status.busy": "2022-07-07T14:11:50.955593Z",
     "iopub.status.idle": "2022-07-07T14:11:50.964887Z",
     "shell.execute_reply": "2022-07-07T14:11:50.964347Z"
    },
    "lines_to_next_cell": 0,
    "papermill": {
     "duration": 0.014987,
     "end_time": "2022-07-07T14:11:50.966675",
     "exception": false,
     "start_time": "2022-07-07T14:11:50.951688",
     "status": "completed"
    },
    "tags": []
   },
   "outputs": [],
   "source": [
    "# ----------------- Parameters for interactive development --------------\n",
    "P = {\n",
    "    \"pipeline.data_lake_root\": \"/pipeline-outputs/data-lake\",\n",
    "    \"task.nr_train_images\": 600,\n",
    "}"
   ]
  },
  {
   "cell_type": "code",
   "execution_count": 2,
   "id": "e9a55026",
   "metadata": {
    "execution": {
     "iopub.execute_input": "2022-07-07T14:11:50.973744Z",
     "iopub.status.busy": "2022-07-07T14:11:50.973542Z",
     "iopub.status.idle": "2022-07-07T14:11:50.976734Z",
     "shell.execute_reply": "2022-07-07T14:11:50.976225Z"
    },
    "lines_to_next_cell": 0,
    "papermill": {
     "duration": 0.009466,
     "end_time": "2022-07-07T14:11:50.979679",
     "exception": false,
     "start_time": "2022-07-07T14:11:50.970213",
     "status": "completed"
    },
    "tags": [
     "parameters"
    ]
   },
   "outputs": [],
   "source": [
    "# - During automated runs parameters will be injected in the below cell -"
   ]
  },
  {
   "cell_type": "code",
   "execution_count": 3,
   "id": "b7c4775c",
   "metadata": {
    "execution": {
     "iopub.execute_input": "2022-07-07T14:11:50.986328Z",
     "iopub.status.busy": "2022-07-07T14:11:50.986133Z",
     "iopub.status.idle": "2022-07-07T14:11:50.990432Z",
     "shell.execute_reply": "2022-07-07T14:11:50.989952Z"
    },
    "papermill": {
     "duration": 0.010329,
     "end_time": "2022-07-07T14:11:50.992695",
     "exception": false,
     "start_time": "2022-07-07T14:11:50.982366",
     "status": "completed"
    },
    "tags": [
     "injected-parameters"
    ]
   },
   "outputs": [],
   "source": [
    "# Parameters\n",
    "P = {\n",
    "    \"pipeline.data_lake_root\": \"/pipeline-outputs/data-lake\",\n",
    "    \"pipeline.run_environment\": \"ci\",\n",
    "    \"pipeline.pipeline_run_id\": \"366d576b-8f71-424a-a433-f9e0dceff067\",\n",
    "    \"pipeline.github.repository\": \"pynb-dag-runner/mnist-digits-demo-pipeline\",\n",
    "    \"pipeline.github.workflow\": \"Run automated tests, pipeline and deploy results to static reporting site\",\n",
    "    \"pipeline.github.runner_name\": \"Hosted Agent\",\n",
    "    \"pipeline.github.run_id\": \"2630097778\",\n",
    "    \"pipeline.github.actor\": \"matiasdahl\",\n",
    "    \"pipeline.github.job\": \"run-tests-pipeline-and-persist-pipeline-outputs\",\n",
    "    \"pipeline.github.base_ref\": \"development\",\n",
    "    \"pipeline.github.head_ref\": \"try-C-hyperparameter\",\n",
    "    \"pipeline.github.sha\": \"2e68fc4d090046a0d419e76130414dbc4e2cbe82\",\n",
    "    \"pipeline.github.ref\": \"refs/pull/55/merge\",\n",
    "    \"pipeline.github.ref_type\": \"branch\",\n",
    "    \"pipeline.github.ref_name\": \"55/merge\",\n",
    "    \"pipeline.github.event_name\": \"pull_request\",\n",
    "    \"task.nr_train_images\": 1200,\n",
    "    \"task.notebook\": \"notebooks/train-model.py\",\n",
    "    \"task.max_nr_retries\": \"1\",\n",
    "    \"run.retry_nr\": \"0\",\n",
    "    \"task.timeout_s\": \"None\",\n",
    "    \"task.num_cpus\": 1,\n",
    "    \"_opentelemetry_traceparent\": \"00-95fffe829ee04d9f9ab9d1fdc8486363-94fa50fae6c70235-01\",\n",
    "}\n"
   ]
  },
  {
   "cell_type": "code",
   "execution_count": 4,
   "id": "66eba191",
   "metadata": {
    "execution": {
     "iopub.execute_input": "2022-07-07T14:11:50.999519Z",
     "iopub.status.busy": "2022-07-07T14:11:50.999312Z",
     "iopub.status.idle": "2022-07-07T14:11:51.002056Z",
     "shell.execute_reply": "2022-07-07T14:11:51.001568Z"
    },
    "lines_to_next_cell": 0,
    "papermill": {
     "duration": 0.00858,
     "end_time": "2022-07-07T14:11:51.004297",
     "exception": false,
     "start_time": "2022-07-07T14:11:50.995717",
     "status": "completed"
    },
    "tags": []
   },
   "outputs": [],
   "source": [
    "# -----------------------------------------------------------------------"
   ]
  },
  {
   "cell_type": "markdown",
   "id": "a3ce250c",
   "metadata": {
    "papermill": {
     "duration": 0.002634,
     "end_time": "2022-07-07T14:11:51.009729",
     "exception": false,
     "start_time": "2022-07-07T14:11:51.007095",
     "status": "completed"
    },
    "tags": []
   },
   "source": [
    "---"
   ]
  },
  {
   "cell_type": "markdown",
   "id": "77ec71b9",
   "metadata": {
    "lines_to_next_cell": 2,
    "papermill": {
     "duration": 0.00295,
     "end_time": "2022-07-07T14:11:51.015876",
     "exception": false,
     "start_time": "2022-07-07T14:11:51.012926",
     "status": "completed"
    },
    "tags": []
   },
   "source": [
    "### Notebook code"
   ]
  },
  {
   "cell_type": "code",
   "execution_count": 5,
   "id": "9806c134",
   "metadata": {
    "execution": {
     "iopub.execute_input": "2022-07-07T14:11:51.022753Z",
     "iopub.status.busy": "2022-07-07T14:11:51.022539Z",
     "iopub.status.idle": "2022-07-07T14:11:51.507694Z",
     "shell.execute_reply": "2022-07-07T14:11:51.506268Z"
    },
    "papermill": {
     "duration": 0.491334,
     "end_time": "2022-07-07T14:11:51.509917",
     "exception": false,
     "start_time": "2022-07-07T14:11:51.018583",
     "status": "completed"
    },
    "tags": []
   },
   "outputs": [
    {
     "name": "stderr",
     "output_type": "stream",
     "text": [
      "2022-07-07 14:11:51,355\tINFO worker.py:842 -- Connecting to existing Ray cluster at address: 172.17.0.2:6379\n"
     ]
    }
   ],
   "source": [
    "from pynb_dag_runner.tasks.task_opentelemetry_logging import PydarLogger\n",
    "\n",
    "logger = PydarLogger(P)"
   ]
  },
  {
   "cell_type": "markdown",
   "id": "7bda1fd7",
   "metadata": {
    "papermill": {
     "duration": 0.003054,
     "end_time": "2022-07-07T14:11:51.516355",
     "exception": false,
     "start_time": "2022-07-07T14:11:51.513301",
     "status": "completed"
    },
    "tags": []
   },
   "source": [
    "## Load and limit train data"
   ]
  },
  {
   "cell_type": "code",
   "execution_count": 6,
   "id": "a9e5ec32",
   "metadata": {
    "execution": {
     "iopub.execute_input": "2022-07-07T14:11:51.524123Z",
     "iopub.status.busy": "2022-07-07T14:11:51.523415Z",
     "iopub.status.idle": "2022-07-07T14:11:51.925989Z",
     "shell.execute_reply": "2022-07-07T14:11:51.925038Z"
    },
    "papermill": {
     "duration": 0.40887,
     "end_time": "2022-07-07T14:11:51.928228",
     "exception": false,
     "start_time": "2022-07-07T14:11:51.519358",
     "status": "completed"
    },
    "tags": []
   },
   "outputs": [],
   "source": [
    "def load_and_limit_train_data(P):\n",
    "    from common.io import datalake_root, read_numpy\n",
    "    from sklearn.model_selection import train_test_split\n",
    "\n",
    "    X_train_all = read_numpy(datalake_root(P) / \"train-data\" / \"digits.numpy\")\n",
    "    y_train_all = read_numpy(datalake_root(P) / \"train-data\" / \"labels.numpy\")\n",
    "\n",
    "    assert isinstance(P[\"task.nr_train_images\"], int)\n",
    "\n",
    "    # Note: train_test_split will fail if split is 0 or 100%.\n",
    "    assert 0 < P[\"task.nr_train_images\"] < len(y_train_all)\n",
    "\n",
    "    X_train, _, y_train, _ = train_test_split(\n",
    "        X_train_all,\n",
    "        y_train_all,\n",
    "        train_size=P[\"task.nr_train_images\"],\n",
    "        test_size=None,\n",
    "        stratify=y_train_all,\n",
    "        shuffle=True,\n",
    "        random_state=123,\n",
    "    )\n",
    "\n",
    "    assert X_train.shape == (len(y_train), 8 * 8)\n",
    "    return X_train, y_train\n",
    "\n",
    "\n",
    "X_train, y_train = load_and_limit_train_data(P)"
   ]
  },
  {
   "cell_type": "markdown",
   "id": "42de6225",
   "metadata": {
    "papermill": {
     "duration": 0.003575,
     "end_time": "2022-07-07T14:11:51.937858",
     "exception": false,
     "start_time": "2022-07-07T14:11:51.934283",
     "status": "completed"
    },
    "tags": []
   },
   "source": [
    "## Train support vector classifier model\n",
    "\n",
    "Below we assume that the hyperparameter $C$ is known.\n",
    "\n",
    "However, this should ideally be found by a hyperparameter search. That could be\n",
    "done in parallel on the Ray cluster, but this needs some more work. Ie., to use\n",
    "multiple cores in the notebook, those cores should be reserved when starting the\n",
    "notebook task (TODO).\n",
    "\n",
    "- https://docs.ray.io/en/latest/tune/key-concepts.html\n",
    "\n",
    "Note: cv-scores would need to be computed here, since they depend on the train data.\n",
    "After this notebook only the onnx-model is available."
   ]
  },
  {
   "cell_type": "code",
   "execution_count": 7,
   "id": "dd080510",
   "metadata": {
    "execution": {
     "iopub.execute_input": "2022-07-07T14:11:51.946485Z",
     "iopub.status.busy": "2022-07-07T14:11:51.946118Z",
     "iopub.status.idle": "2022-07-07T14:11:51.976793Z",
     "shell.execute_reply": "2022-07-07T14:11:51.975963Z"
    },
    "papermill": {
     "duration": 0.037789,
     "end_time": "2022-07-07T14:11:51.978585",
     "exception": false,
     "start_time": "2022-07-07T14:11:51.940796",
     "status": "completed"
    },
    "tags": []
   },
   "outputs": [],
   "source": [
    "from sklearn.svm import SVC"
   ]
  },
  {
   "cell_type": "code",
   "execution_count": 8,
   "id": "1e608d9b",
   "metadata": {
    "execution": {
     "iopub.execute_input": "2022-07-07T14:11:51.988066Z",
     "iopub.status.busy": "2022-07-07T14:11:51.987663Z",
     "iopub.status.idle": "2022-07-07T14:11:52.186289Z",
     "shell.execute_reply": "2022-07-07T14:11:52.185296Z"
    },
    "papermill": {
     "duration": 0.206362,
     "end_time": "2022-07-07T14:11:52.188447",
     "exception": false,
     "start_time": "2022-07-07T14:11:51.982085",
     "status": "completed"
    },
    "tags": []
   },
   "outputs": [
    {
     "data": {
      "text/plain": [
       "SVC(C=0.01, kernel='linear', probability=True)"
      ]
     },
     "execution_count": 8,
     "metadata": {},
     "output_type": "execute_result"
    }
   ],
   "source": [
    "model = SVC(C=0.01, kernel=\"linear\", probability=True)\n",
    "\n",
    "model.fit(X_train, y_train)"
   ]
  },
  {
   "cell_type": "markdown",
   "id": "98d6cad5",
   "metadata": {
    "papermill": {
     "duration": 0.003107,
     "end_time": "2022-07-07T14:11:52.194960",
     "exception": false,
     "start_time": "2022-07-07T14:11:52.191853",
     "status": "completed"
    },
    "tags": []
   },
   "source": [
    "### Q: Can the labels returned by `predict(..)` be computed from probabilities returned by the `predict_prob`-method?"
   ]
  },
  {
   "cell_type": "code",
   "execution_count": 9,
   "id": "a91de396",
   "metadata": {
    "execution": {
     "iopub.execute_input": "2022-07-07T14:11:52.202702Z",
     "iopub.status.busy": "2022-07-07T14:11:52.202296Z",
     "iopub.status.idle": "2022-07-07T14:11:52.284116Z",
     "shell.execute_reply": "2022-07-07T14:11:52.283400Z"
    },
    "papermill": {
     "duration": 0.087469,
     "end_time": "2022-07-07T14:11:52.285827",
     "exception": false,
     "start_time": "2022-07-07T14:11:52.198358",
     "status": "completed"
    },
    "tags": []
   },
   "outputs": [
    {
     "name": "stdout",
     "output_type": "stream",
     "text": [
      " - Logging nr_max_prob_neq_label (int) : 0\n"
     ]
    }
   ],
   "source": [
    "import numpy as np\n",
    "\n",
    "y_train_labels = model.predict(X_train)\n",
    "y_train_probabilities = model.predict_proba(X_train)\n",
    "assert y_train_probabilities.shape == (len(y_train), 10)\n",
    "\n",
    "y_train_max_prob_labels = np.argmax(y_train_probabilities, axis=1)\n",
    "assert y_train_labels.shape == y_train_max_prob_labels.shape == y_train.shape\n",
    "\n",
    "# If the predicted labels would coincide with the labels that have\n",
    "# maximum probability, the below number would be zero\n",
    "logger.log_int(\n",
    "    \"nr_max_prob_neq_label\", int(sum(y_train_max_prob_labels != y_train_labels))\n",
    ")"
   ]
  },
  {
   "cell_type": "markdown",
   "id": "dd888913",
   "metadata": {
    "papermill": {
     "duration": 0.003171,
     "end_time": "2022-07-07T14:11:52.297511",
     "exception": false,
     "start_time": "2022-07-07T14:11:52.294340",
     "status": "completed"
    },
    "tags": []
   },
   "source": [
    "The explanation is (likely) explained in the SVC source, see\n",
    "[here](https://github.com/scikit-learn/scikit-learn/blob/main/sklearn/svm/_base.py).\n",
    "Namely, the outputs from `predict(..)` and `predict_proba(..)` may not in some\n",
    "cases be compatible since the latter is computed using cross-validation while\n",
    "the former is not. Thus, the above number need not be zero."
   ]
  },
  {
   "cell_type": "markdown",
   "id": "9ee7fc42",
   "metadata": {
    "papermill": {
     "duration": 0.003414,
     "end_time": "2022-07-07T14:11:52.304415",
     "exception": false,
     "start_time": "2022-07-07T14:11:52.301001",
     "status": "completed"
    },
    "tags": []
   },
   "source": [
    "## Persist model"
   ]
  },
  {
   "cell_type": "code",
   "execution_count": 10,
   "id": "61f88b05",
   "metadata": {
    "execution": {
     "iopub.execute_input": "2022-07-07T14:11:52.317899Z",
     "iopub.status.busy": "2022-07-07T14:11:52.317619Z",
     "iopub.status.idle": "2022-07-07T14:11:53.085851Z",
     "shell.execute_reply": "2022-07-07T14:11:53.083221Z"
    },
    "papermill": {
     "duration": 0.774403,
     "end_time": "2022-07-07T14:11:53.087936",
     "exception": false,
     "start_time": "2022-07-07T14:11:52.313533",
     "status": "completed"
    },
    "tags": []
   },
   "outputs": [],
   "source": [
    "from skl2onnx import convert_sklearn\n",
    "from skl2onnx.common.data_types import FloatTensorType\n",
    "\n",
    "#\n",
    "from common.io import datalake_root, write_onnx"
   ]
  },
  {
   "cell_type": "code",
   "execution_count": 11,
   "id": "b4fc9073",
   "metadata": {
    "execution": {
     "iopub.execute_input": "2022-07-07T14:11:53.096637Z",
     "iopub.status.busy": "2022-07-07T14:11:53.095980Z",
     "iopub.status.idle": "2022-07-07T14:11:53.143005Z",
     "shell.execute_reply": "2022-07-07T14:11:53.142275Z"
    },
    "papermill": {
     "duration": 0.053516,
     "end_time": "2022-07-07T14:11:53.144996",
     "exception": false,
     "start_time": "2022-07-07T14:11:53.091480",
     "status": "completed"
    },
    "tags": []
   },
   "outputs": [],
   "source": [
    "# convert sklearn model into onnx and persist to data lake\n",
    "\n",
    "model_onnx = convert_sklearn(\n",
    "    model, initial_types=[(\"float_input_8x8_image\", FloatTensorType([None, 8 * 8]))]\n",
    ")\n",
    "write_onnx(\n",
    "    datalake_root(P)\n",
    "    / \"models\"\n",
    "    / f\"nr_train_images={P['task.nr_train_images']}\"\n",
    "    / \"model.onnx\",\n",
    "    model_onnx,\n",
    ")"
   ]
  },
  {
   "cell_type": "code",
   "execution_count": null,
   "id": "9d74b27b",
   "metadata": {
    "papermill": {
     "duration": 0.00389,
     "end_time": "2022-07-07T14:11:53.152362",
     "exception": false,
     "start_time": "2022-07-07T14:11:53.148472",
     "status": "completed"
    },
    "tags": []
   },
   "outputs": [],
   "source": []
  }
 ],
 "metadata": {
  "jupytext": {
   "cell_metadata_filter": "tags,-all",
   "main_language": "python",
   "notebook_metadata_filter": "-all"
  },
  "language_info": {
   "codemirror_mode": {
    "name": "ipython",
    "version": 3
   },
   "file_extension": ".py",
   "mimetype": "text/x-python",
   "name": "python",
   "nbconvert_exporter": "python",
   "pygments_lexer": "ipython3",
   "version": "3.8.10"
  },
  "papermill": {
   "default_parameters": {},
   "duration": 4.607341,
   "end_time": "2022-07-07T14:11:54.279079",
   "environment_variables": {},
   "exception": null,
   "input_path": "/home/host_user/workspace/mnist-demo-pipeline/mnist-demo-pipeline/notebooks/temp-notebook-550theoa.ipynb",
   "output_path": "notebooks/train-model.ipynb",
   "parameters": {
    "P": {
     "_opentelemetry_traceparent": "00-95fffe829ee04d9f9ab9d1fdc8486363-94fa50fae6c70235-01",
     "pipeline.data_lake_root": "/pipeline-outputs/data-lake",
     "pipeline.github.actor": "matiasdahl",
     "pipeline.github.base_ref": "development",
     "pipeline.github.event_name": "pull_request",
     "pipeline.github.head_ref": "try-C-hyperparameter",
     "pipeline.github.job": "run-tests-pipeline-and-persist-pipeline-outputs",
     "pipeline.github.ref": "refs/pull/55/merge",
     "pipeline.github.ref_name": "55/merge",
     "pipeline.github.ref_type": "branch",
     "pipeline.github.repository": "pynb-dag-runner/mnist-digits-demo-pipeline",
     "pipeline.github.run_id": "2630097778",
     "pipeline.github.runner_name": "Hosted Agent",
     "pipeline.github.sha": "2e68fc4d090046a0d419e76130414dbc4e2cbe82",
     "pipeline.github.workflow": "Run automated tests, pipeline and deploy results to static reporting site",
     "pipeline.pipeline_run_id": "366d576b-8f71-424a-a433-f9e0dceff067",
     "pipeline.run_environment": "ci",
     "run.retry_nr": "0",
     "task.max_nr_retries": "1",
     "task.notebook": "notebooks/train-model.py",
     "task.nr_train_images": 1200,
     "task.num_cpus": 1,
     "task.timeout_s": "None"
    }
   },
   "start_time": "2022-07-07T14:11:49.671738",
   "version": "2.3.3"
  }
 },
 "nbformat": 4,
 "nbformat_minor": 5
}