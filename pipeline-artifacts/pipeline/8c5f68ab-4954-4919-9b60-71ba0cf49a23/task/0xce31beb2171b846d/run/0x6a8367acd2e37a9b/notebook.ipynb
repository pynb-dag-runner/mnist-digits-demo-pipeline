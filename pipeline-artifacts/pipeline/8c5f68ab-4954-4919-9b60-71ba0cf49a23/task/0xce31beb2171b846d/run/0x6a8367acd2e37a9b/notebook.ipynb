{
 "cells": [
  {
   "cell_type": "markdown",
   "id": "44ebc97f",
   "metadata": {
    "papermill": {
     "duration": 0.003473,
     "end_time": "2022-07-15T06:47:18.038829",
     "exception": false,
     "start_time": "2022-07-15T06:47:18.035356",
     "status": "completed"
    },
    "tags": []
   },
   "source": [
    "# Ingest toy version of MNIST digit data from sklearn"
   ]
  },
  {
   "cell_type": "markdown",
   "id": "4687e8c4",
   "metadata": {
    "papermill": {
     "duration": 0.002565,
     "end_time": "2022-07-15T06:47:18.043973",
     "exception": false,
     "start_time": "2022-07-15T06:47:18.041408",
     "status": "completed"
    },
    "tags": []
   },
   "source": [
    "### Determine run parameters"
   ]
  },
  {
   "cell_type": "code",
   "execution_count": 1,
   "id": "fd7f9623",
   "metadata": {
    "execution": {
     "iopub.execute_input": "2022-07-15T06:47:18.050019Z",
     "iopub.status.busy": "2022-07-15T06:47:18.049463Z",
     "iopub.status.idle": "2022-07-15T06:47:18.056575Z",
     "shell.execute_reply": "2022-07-15T06:47:18.055958Z"
    },
    "lines_to_next_cell": 0,
    "papermill": {
     "duration": 0.011817,
     "end_time": "2022-07-15T06:47:18.057976",
     "exception": false,
     "start_time": "2022-07-15T06:47:18.046159",
     "status": "completed"
    },
    "tags": []
   },
   "outputs": [],
   "source": [
    "# ----------------- Parameters for interactive development --------------\n",
    "P = {\n",
    "    \"pipeline.run_environment\": \"dev\",\n",
    "    \"pipeline.data_lake_root\": \"/pipeline-outputs/data-lake\",\n",
    "    \"run.retry_nr\": \"1\",\n",
    "}"
   ]
  },
  {
   "cell_type": "code",
   "execution_count": 2,
   "id": "5c4bd62d",
   "metadata": {
    "execution": {
     "iopub.execute_input": "2022-07-15T06:47:18.063624Z",
     "iopub.status.busy": "2022-07-15T06:47:18.063417Z",
     "iopub.status.idle": "2022-07-15T06:47:18.066266Z",
     "shell.execute_reply": "2022-07-15T06:47:18.065666Z"
    },
    "lines_to_next_cell": 0,
    "papermill": {
     "duration": 0.007291,
     "end_time": "2022-07-15T06:47:18.067517",
     "exception": false,
     "start_time": "2022-07-15T06:47:18.060226",
     "status": "completed"
    },
    "tags": [
     "parameters"
    ]
   },
   "outputs": [],
   "source": [
    "# - During automated runs parameters will be injected in the below cell -"
   ]
  },
  {
   "cell_type": "code",
   "execution_count": 3,
   "id": "e5a3504b",
   "metadata": {
    "execution": {
     "iopub.execute_input": "2022-07-15T06:47:18.073242Z",
     "iopub.status.busy": "2022-07-15T06:47:18.072632Z",
     "iopub.status.idle": "2022-07-15T06:47:18.077058Z",
     "shell.execute_reply": "2022-07-15T06:47:18.076534Z"
    },
    "papermill": {
     "duration": 0.00868,
     "end_time": "2022-07-15T06:47:18.078357",
     "exception": false,
     "start_time": "2022-07-15T06:47:18.069677",
     "status": "completed"
    },
    "tags": [
     "injected-parameters"
    ]
   },
   "outputs": [],
   "source": [
    "# Parameters\n",
    "P = {\n",
    "    \"pipeline.data_lake_root\": \"/pipeline-outputs/data-lake\",\n",
    "    \"pipeline.run_environment\": \"ci\",\n",
    "    \"pipeline.pipeline_run_id\": \"8c5f68ab-4954-4919-9b60-71ba0cf49a23\",\n",
    "    \"pipeline.github.repository\": \"pynb-dag-runner/mnist-digits-demo-pipeline\",\n",
    "    \"pipeline.github.workflow\": \"Run automated tests, pipeline and deploy results to static reporting site\",\n",
    "    \"pipeline.github.runner_name\": \"Hosted Agent\",\n",
    "    \"pipeline.github.run_id\": \"2675107270\",\n",
    "    \"pipeline.github.actor\": \"matiasdahl\",\n",
    "    \"pipeline.github.job\": \"run-tests-pipeline-and-persist-pipeline-outputs\",\n",
    "    \"pipeline.github.base_ref\": \"\",\n",
    "    \"pipeline.github.head_ref\": \"\",\n",
    "    \"pipeline.github.sha\": \"147a1be9916173fd4d2cd011d8d51e3411215850\",\n",
    "    \"pipeline.github.ref\": \"refs/heads/development\",\n",
    "    \"pipeline.github.ref_type\": \"branch\",\n",
    "    \"pipeline.github.ref_name\": \"development\",\n",
    "    \"pipeline.github.event_name\": \"schedule\",\n",
    "    \"task.notebook\": \"notebooks/ingest.py\",\n",
    "    \"task.max_nr_retries\": \"15\",\n",
    "    \"run.retry_nr\": \"10\",\n",
    "    \"task.timeout_s\": \"10\",\n",
    "    \"task.num_cpus\": 1,\n",
    "    \"_opentelemetry_traceparent\": \"00-fb678ccd790c7800a08656a888971846-508b3eedb9a43fff-01\",\n",
    "}\n"
   ]
  },
  {
   "cell_type": "code",
   "execution_count": 4,
   "id": "7034e76c",
   "metadata": {
    "execution": {
     "iopub.execute_input": "2022-07-15T06:47:18.083901Z",
     "iopub.status.busy": "2022-07-15T06:47:18.083674Z",
     "iopub.status.idle": "2022-07-15T06:47:18.086248Z",
     "shell.execute_reply": "2022-07-15T06:47:18.085687Z"
    },
    "lines_to_next_cell": 0,
    "papermill": {
     "duration": 0.007009,
     "end_time": "2022-07-15T06:47:18.087673",
     "exception": false,
     "start_time": "2022-07-15T06:47:18.080664",
     "status": "completed"
    },
    "tags": []
   },
   "outputs": [],
   "source": [
    "# -----------------------------------------------------------------------"
   ]
  },
  {
   "cell_type": "markdown",
   "id": "fa9c994a",
   "metadata": {
    "lines_to_next_cell": 2,
    "papermill": {
     "duration": 0.002369,
     "end_time": "2022-07-15T06:47:18.092437",
     "exception": false,
     "start_time": "2022-07-15T06:47:18.090068",
     "status": "completed"
    },
    "tags": []
   },
   "source": [
    "---"
   ]
  },
  {
   "cell_type": "markdown",
   "id": "a7ff3bb6",
   "metadata": {
    "papermill": {
     "duration": 0.002315,
     "end_time": "2022-07-15T06:47:18.097065",
     "exception": false,
     "start_time": "2022-07-15T06:47:18.094750",
     "status": "completed"
    },
    "tags": []
   },
   "source": [
    "### Simulate different types of failures (for testing timeout and retry logic)"
   ]
  },
  {
   "cell_type": "code",
   "execution_count": 5,
   "id": "f9842003",
   "metadata": {
    "execution": {
     "iopub.execute_input": "2022-07-15T06:47:18.103974Z",
     "iopub.status.busy": "2022-07-15T06:47:18.102336Z",
     "iopub.status.idle": "2022-07-15T06:47:18.561212Z",
     "shell.execute_reply": "2022-07-15T06:47:18.560627Z"
    },
    "papermill": {
     "duration": 0.463796,
     "end_time": "2022-07-15T06:47:18.563042",
     "exception": false,
     "start_time": "2022-07-15T06:47:18.099246",
     "status": "completed"
    },
    "tags": []
   },
   "outputs": [
    {
     "name": "stderr",
     "output_type": "stream",
     "text": [
      "2022-07-15 06:47:18,380\tINFO worker.py:842 -- Connecting to existing Ray cluster at address: 172.17.0.2:6379\n"
     ]
    }
   ],
   "source": [
    "from pynb_dag_runner.tasks.task_opentelemetry_logging import PydarLogger\n",
    "\n",
    "logger = PydarLogger(P)"
   ]
  },
  {
   "cell_type": "code",
   "execution_count": 6,
   "id": "51e2da54",
   "metadata": {
    "execution": {
     "iopub.execute_input": "2022-07-15T06:47:18.573978Z",
     "iopub.status.busy": "2022-07-15T06:47:18.572528Z",
     "iopub.status.idle": "2022-07-15T06:47:18.578888Z",
     "shell.execute_reply": "2022-07-15T06:47:18.578384Z"
    },
    "papermill": {
     "duration": 0.014685,
     "end_time": "2022-07-15T06:47:18.580369",
     "exception": false,
     "start_time": "2022-07-15T06:47:18.565684",
     "status": "completed"
    },
    "tags": []
   },
   "outputs": [],
   "source": [
    "import time, random\n",
    "\n",
    "\n",
    "def maybe_crash(retry_nr: int, run_environment: str):\n",
    "    if retry_nr == 2 and run_environment == \"ci\":\n",
    "        time.sleep(1e6)\n",
    "\n",
    "    max_retry_nr: int = 3 if run_environment == \"dev\" else 10\n",
    "\n",
    "    if retry_nr < max_retry_nr:\n",
    "        if random.random() < 0.1:\n",
    "            time.sleep(1e6)\n",
    "        else:\n",
    "            raise Exception(\"Simulated exception failure from ingestion step notebook!\")\n",
    "\n",
    "\n",
    "maybe_crash(\n",
    "    retry_nr=int(P[\"run.retry_nr\"]), run_environment=P[\"pipeline.run_environment\"]\n",
    ")"
   ]
  },
  {
   "cell_type": "markdown",
   "id": "a8f9e4db",
   "metadata": {
    "lines_to_next_cell": 2,
    "papermill": {
     "duration": 0.002554,
     "end_time": "2022-07-15T06:47:18.585519",
     "exception": false,
     "start_time": "2022-07-15T06:47:18.582965",
     "status": "completed"
    },
    "tags": []
   },
   "source": [
    "### Notebook code"
   ]
  },
  {
   "cell_type": "code",
   "execution_count": 7,
   "id": "4b9d7bf7",
   "metadata": {
    "execution": {
     "iopub.execute_input": "2022-07-15T06:47:18.591486Z",
     "iopub.status.busy": "2022-07-15T06:47:18.591274Z",
     "iopub.status.idle": "2022-07-15T06:47:19.808046Z",
     "shell.execute_reply": "2022-07-15T06:47:19.807306Z"
    },
    "papermill": {
     "duration": 1.221771,
     "end_time": "2022-07-15T06:47:19.809821",
     "exception": false,
     "start_time": "2022-07-15T06:47:18.588050",
     "status": "completed"
    },
    "tags": []
   },
   "outputs": [
    {
     "name": "stderr",
     "output_type": "stream",
     "text": [
      "2022-07-15 06:47:19,330\tWARNING worker.py:1245 -- (ip=172.17.0.2) The agent on node e48f9a0fdc9e failed to be restarted 5 times. There are 3 possible problems if you see this error.\n",
      "  1. The dashboard might not display correct information on this node.\n",
      "  2. Metrics on this node won't be reported.\n",
      "  3. runtime_env APIs won't work.\n",
      "Check out the `dashboard_agent.log` to see the detailed failure messages.\n"
     ]
    }
   ],
   "source": [
    "from sklearn import datasets\n",
    "\n",
    "#\n",
    "from common.io import datalake_root, write_numpy"
   ]
  },
  {
   "cell_type": "code",
   "execution_count": 8,
   "id": "b8caf4c1",
   "metadata": {
    "execution": {
     "iopub.execute_input": "2022-07-15T06:47:19.818226Z",
     "iopub.status.busy": "2022-07-15T06:47:19.818002Z",
     "iopub.status.idle": "2022-07-15T06:47:19.829649Z",
     "shell.execute_reply": "2022-07-15T06:47:19.829088Z"
    },
    "lines_to_next_cell": 2,
    "papermill": {
     "duration": 0.018391,
     "end_time": "2022-07-15T06:47:19.831225",
     "exception": false,
     "start_time": "2022-07-15T06:47:19.812834",
     "status": "completed"
    },
    "tags": []
   },
   "outputs": [],
   "source": [
    "digits = datasets.load_digits()\n",
    "\n",
    "X = digits[\"data\"]\n",
    "y = digits[\"target\"]"
   ]
  },
  {
   "cell_type": "code",
   "execution_count": 9,
   "id": "7a1d224f",
   "metadata": {
    "execution": {
     "iopub.execute_input": "2022-07-15T06:47:19.838640Z",
     "iopub.status.busy": "2022-07-15T06:47:19.838428Z",
     "iopub.status.idle": "2022-07-15T06:47:19.850131Z",
     "shell.execute_reply": "2022-07-15T06:47:19.849519Z"
    },
    "papermill": {
     "duration": 0.01839,
     "end_time": "2022-07-15T06:47:19.852469",
     "exception": false,
     "start_time": "2022-07-15T06:47:19.834079",
     "status": "completed"
    },
    "tags": []
   },
   "outputs": [
    {
     "name": "stdout",
     "output_type": "stream",
     "text": [
      " - Logging data_shape (json) : [1797, 64]\n",
      " - Logging target_shape (json) : [1797]\n"
     ]
    },
    {
     "data": {
      "text/plain": [
       "((1797, 64), (1797,))"
      ]
     },
     "execution_count": 9,
     "metadata": {},
     "output_type": "execute_result"
    }
   ],
   "source": [
    "logger.log_value(\"data_shape\", list(X.shape))\n",
    "logger.log_value(\"target_shape\", list(y.shape))\n",
    "\n",
    "X.shape, y.shape"
   ]
  },
  {
   "cell_type": "code",
   "execution_count": 10,
   "id": "9bbb04a1",
   "metadata": {
    "execution": {
     "iopub.execute_input": "2022-07-15T06:47:19.859458Z",
     "iopub.status.busy": "2022-07-15T06:47:19.859240Z",
     "iopub.status.idle": "2022-07-15T06:47:19.866933Z",
     "shell.execute_reply": "2022-07-15T06:47:19.866396Z"
    },
    "papermill": {
     "duration": 0.013313,
     "end_time": "2022-07-15T06:47:19.868692",
     "exception": false,
     "start_time": "2022-07-15T06:47:19.855379",
     "status": "completed"
    },
    "tags": []
   },
   "outputs": [],
   "source": [
    "write_numpy(datalake_root(P) / \"raw\" / \"digits.numpy\", X)\n",
    "write_numpy(datalake_root(P) / \"raw\" / \"labels.numpy\", y)"
   ]
  },
  {
   "cell_type": "code",
   "execution_count": null,
   "id": "07c84f5a",
   "metadata": {
    "papermill": {
     "duration": 0.00286,
     "end_time": "2022-07-15T06:47:19.874239",
     "exception": false,
     "start_time": "2022-07-15T06:47:19.871379",
     "status": "completed"
    },
    "tags": []
   },
   "outputs": [],
   "source": []
  }
 ],
 "metadata": {
  "jupytext": {
   "cell_metadata_filter": "tags,-all",
   "main_language": "python",
   "notebook_metadata_filter": "-all"
  },
  "language_info": {
   "codemirror_mode": {
    "name": "ipython",
    "version": 3
   },
   "file_extension": ".py",
   "mimetype": "text/x-python",
   "name": "python",
   "nbconvert_exporter": "python",
   "pygments_lexer": "ipython3",
   "version": "3.8.10"
  },
  "papermill": {
   "default_parameters": {},
   "duration": 3.990756,
   "end_time": "2022-07-15T06:47:20.794358",
   "environment_variables": {},
   "exception": null,
   "input_path": "/home/host_user/workspace/mnist-demo-pipeline/mnist-demo-pipeline/notebooks/temp-notebook-lf4ki2it.ipynb",
   "output_path": "notebooks/ingest.ipynb",
   "parameters": {
    "P": {
     "_opentelemetry_traceparent": "00-fb678ccd790c7800a08656a888971846-508b3eedb9a43fff-01",
     "pipeline.data_lake_root": "/pipeline-outputs/data-lake",
     "pipeline.github.actor": "matiasdahl",
     "pipeline.github.base_ref": "",
     "pipeline.github.event_name": "schedule",
     "pipeline.github.head_ref": "",
     "pipeline.github.job": "run-tests-pipeline-and-persist-pipeline-outputs",
     "pipeline.github.ref": "refs/heads/development",
     "pipeline.github.ref_name": "development",
     "pipeline.github.ref_type": "branch",
     "pipeline.github.repository": "pynb-dag-runner/mnist-digits-demo-pipeline",
     "pipeline.github.run_id": "2675107270",
     "pipeline.github.runner_name": "Hosted Agent",
     "pipeline.github.sha": "147a1be9916173fd4d2cd011d8d51e3411215850",
     "pipeline.github.workflow": "Run automated tests, pipeline and deploy results to static reporting site",
     "pipeline.pipeline_run_id": "8c5f68ab-4954-4919-9b60-71ba0cf49a23",
     "pipeline.run_environment": "ci",
     "run.retry_nr": "10",
     "task.max_nr_retries": "15",
     "task.notebook": "notebooks/ingest.py",
     "task.num_cpus": 1,
     "task.timeout_s": "10"
    }
   },
   "start_time": "2022-07-15T06:47:16.803602",
   "version": "2.3.3"
  }
 },
 "nbformat": 4,
 "nbformat_minor": 5
}