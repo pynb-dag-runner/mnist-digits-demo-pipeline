{
 "cells": [
  {
   "cell_type": "markdown",
   "id": "6c3e4c95",
   "metadata": {
    "papermill": {
     "duration": 0.005348,
     "end_time": "2022-07-15T06:47:39.559647",
     "exception": false,
     "start_time": "2022-07-15T06:47:39.554299",
     "status": "completed"
    },
    "tags": []
   },
   "source": [
    "# Benchmark model\n",
    "\n",
    "The purpose of this notebook is to benchmark persisted onnx-model (trained in the\n",
    "previous step) against evaluation set."
   ]
  },
  {
   "cell_type": "markdown",
   "id": "9b81c67d",
   "metadata": {
    "papermill": {
     "duration": 0.004008,
     "end_time": "2022-07-15T06:47:39.568529",
     "exception": false,
     "start_time": "2022-07-15T06:47:39.564521",
     "status": "completed"
    },
    "tags": []
   },
   "source": [
    "### Determine run parameters"
   ]
  },
  {
   "cell_type": "code",
   "execution_count": 1,
   "id": "80761008",
   "metadata": {
    "execution": {
     "iopub.execute_input": "2022-07-15T06:47:39.578593Z",
     "iopub.status.busy": "2022-07-15T06:47:39.578261Z",
     "iopub.status.idle": "2022-07-15T06:47:39.586412Z",
     "shell.execute_reply": "2022-07-15T06:47:39.585791Z"
    },
    "lines_to_next_cell": 0,
    "papermill": {
     "duration": 0.015409,
     "end_time": "2022-07-15T06:47:39.588140",
     "exception": false,
     "start_time": "2022-07-15T06:47:39.572731",
     "status": "completed"
    },
    "tags": []
   },
   "outputs": [],
   "source": [
    "# ----------------- Parameters for interactive development --------------\n",
    "P = {\n",
    "    \"pipeline.data_lake_root\": \"/pipeline-outputs/data-lake\",\n",
    "    \"task.nr_train_images\": 600,\n",
    "}"
   ]
  },
  {
   "cell_type": "code",
   "execution_count": 2,
   "id": "afa58210",
   "metadata": {
    "execution": {
     "iopub.execute_input": "2022-07-15T06:47:39.600130Z",
     "iopub.status.busy": "2022-07-15T06:47:39.599914Z",
     "iopub.status.idle": "2022-07-15T06:47:39.603041Z",
     "shell.execute_reply": "2022-07-15T06:47:39.602415Z"
    },
    "lines_to_next_cell": 0,
    "papermill": {
     "duration": 0.013196,
     "end_time": "2022-07-15T06:47:39.605518",
     "exception": false,
     "start_time": "2022-07-15T06:47:39.592322",
     "status": "completed"
    },
    "tags": [
     "parameters"
    ]
   },
   "outputs": [],
   "source": [
    "# - During automated runs parameters will be injected in the below cell -"
   ]
  },
  {
   "cell_type": "code",
   "execution_count": 3,
   "id": "78471f18",
   "metadata": {
    "execution": {
     "iopub.execute_input": "2022-07-15T06:47:39.619069Z",
     "iopub.status.busy": "2022-07-15T06:47:39.618859Z",
     "iopub.status.idle": "2022-07-15T06:47:39.623657Z",
     "shell.execute_reply": "2022-07-15T06:47:39.623043Z"
    },
    "papermill": {
     "duration": 0.013335,
     "end_time": "2022-07-15T06:47:39.626759",
     "exception": false,
     "start_time": "2022-07-15T06:47:39.613424",
     "status": "completed"
    },
    "tags": [
     "injected-parameters"
    ]
   },
   "outputs": [],
   "source": [
    "# Parameters\n",
    "P = {\n",
    "    \"pipeline.data_lake_root\": \"/pipeline-outputs/data-lake\",\n",
    "    \"pipeline.run_environment\": \"ci\",\n",
    "    \"pipeline.pipeline_run_id\": \"8c5f68ab-4954-4919-9b60-71ba0cf49a23\",\n",
    "    \"pipeline.github.repository\": \"pynb-dag-runner/mnist-digits-demo-pipeline\",\n",
    "    \"pipeline.github.workflow\": \"Run automated tests, pipeline and deploy results to static reporting site\",\n",
    "    \"pipeline.github.runner_name\": \"Hosted Agent\",\n",
    "    \"pipeline.github.run_id\": \"2675107270\",\n",
    "    \"pipeline.github.actor\": \"matiasdahl\",\n",
    "    \"pipeline.github.job\": \"run-tests-pipeline-and-persist-pipeline-outputs\",\n",
    "    \"pipeline.github.base_ref\": \"\",\n",
    "    \"pipeline.github.head_ref\": \"\",\n",
    "    \"pipeline.github.sha\": \"147a1be9916173fd4d2cd011d8d51e3411215850\",\n",
    "    \"pipeline.github.ref\": \"refs/heads/development\",\n",
    "    \"pipeline.github.ref_type\": \"branch\",\n",
    "    \"pipeline.github.ref_name\": \"development\",\n",
    "    \"pipeline.github.event_name\": \"schedule\",\n",
    "    \"task.nr_train_images\": 1000,\n",
    "    \"task.notebook\": \"notebooks/benchmark-model.py\",\n",
    "    \"task.max_nr_retries\": \"1\",\n",
    "    \"run.retry_nr\": \"0\",\n",
    "    \"task.timeout_s\": \"None\",\n",
    "    \"task.num_cpus\": 1,\n",
    "    \"_opentelemetry_traceparent\": \"00-fb678ccd790c7800a08656a888971846-392261b92c8be43a-01\",\n",
    "}\n"
   ]
  },
  {
   "cell_type": "code",
   "execution_count": 4,
   "id": "3d98f07d",
   "metadata": {
    "execution": {
     "iopub.execute_input": "2022-07-15T06:47:39.638061Z",
     "iopub.status.busy": "2022-07-15T06:47:39.637844Z",
     "iopub.status.idle": "2022-07-15T06:47:39.640503Z",
     "shell.execute_reply": "2022-07-15T06:47:39.640028Z"
    },
    "lines_to_next_cell": 0,
    "papermill": {
     "duration": 0.010123,
     "end_time": "2022-07-15T06:47:39.642952",
     "exception": false,
     "start_time": "2022-07-15T06:47:39.632829",
     "status": "completed"
    },
    "tags": []
   },
   "outputs": [],
   "source": [
    "# -----------------------------------------------------------------------"
   ]
  },
  {
   "cell_type": "markdown",
   "id": "942994c1",
   "metadata": {
    "papermill": {
     "duration": 0.004054,
     "end_time": "2022-07-15T06:47:39.651238",
     "exception": false,
     "start_time": "2022-07-15T06:47:39.647184",
     "status": "completed"
    },
    "tags": []
   },
   "source": [
    "---"
   ]
  },
  {
   "cell_type": "markdown",
   "id": "b8f2e27e",
   "metadata": {
    "lines_to_next_cell": 2,
    "papermill": {
     "duration": 0.003997,
     "end_time": "2022-07-15T06:47:39.659556",
     "exception": false,
     "start_time": "2022-07-15T06:47:39.655559",
     "status": "completed"
    },
    "tags": []
   },
   "source": [
    "### Notebook code"
   ]
  },
  {
   "cell_type": "code",
   "execution_count": 5,
   "id": "ef3d0433",
   "metadata": {
    "execution": {
     "iopub.execute_input": "2022-07-15T06:47:39.668992Z",
     "iopub.status.busy": "2022-07-15T06:47:39.668764Z",
     "iopub.status.idle": "2022-07-15T06:47:40.685108Z",
     "shell.execute_reply": "2022-07-15T06:47:40.683687Z"
    },
    "papermill": {
     "duration": 1.023161,
     "end_time": "2022-07-15T06:47:40.687033",
     "exception": false,
     "start_time": "2022-07-15T06:47:39.663872",
     "status": "completed"
    },
    "tags": []
   },
   "outputs": [
    {
     "name": "stderr",
     "output_type": "stream",
     "text": [
      "2022-07-15 06:47:40,509\tINFO worker.py:842 -- Connecting to existing Ray cluster at address: 172.17.0.2:6379\n"
     ]
    }
   ],
   "source": [
    "import itertools as it\n",
    "\n",
    "#\n",
    "import numpy as np\n",
    "import matplotlib.pyplot as plt\n",
    "\n",
    "#\n",
    "from pynb_dag_runner.tasks.task_opentelemetry_logging import PydarLogger\n",
    "\n",
    "#\n",
    "from common.io import datalake_root\n",
    "\n",
    "logger = PydarLogger(P)"
   ]
  },
  {
   "cell_type": "markdown",
   "id": "7a41520c",
   "metadata": {
    "papermill": {
     "duration": 0.004623,
     "end_time": "2022-07-15T06:47:40.696643",
     "exception": false,
     "start_time": "2022-07-15T06:47:40.692020",
     "status": "completed"
    },
    "tags": []
   },
   "source": [
    "## Load persisted onnx-model and evaluation data"
   ]
  },
  {
   "cell_type": "code",
   "execution_count": 6,
   "id": "144832ec",
   "metadata": {
    "execution": {
     "iopub.execute_input": "2022-07-15T06:47:40.726638Z",
     "iopub.status.busy": "2022-07-15T06:47:40.726297Z",
     "iopub.status.idle": "2022-07-15T06:47:40.730019Z",
     "shell.execute_reply": "2022-07-15T06:47:40.729217Z"
    },
    "papermill": {
     "duration": 0.036245,
     "end_time": "2022-07-15T06:47:40.748031",
     "exception": false,
     "start_time": "2022-07-15T06:47:40.711786",
     "status": "completed"
    },
    "tags": []
   },
   "outputs": [],
   "source": [
    "from common.io import read_onnx, get_onnx_inputs, get_onnx_outputs, read_numpy"
   ]
  },
  {
   "cell_type": "code",
   "execution_count": 7,
   "id": "804b7d01",
   "metadata": {
    "execution": {
     "iopub.execute_input": "2022-07-15T06:47:40.758058Z",
     "iopub.status.busy": "2022-07-15T06:47:40.757744Z",
     "iopub.status.idle": "2022-07-15T06:47:40.766587Z",
     "shell.execute_reply": "2022-07-15T06:47:40.766062Z"
    },
    "lines_to_next_cell": 0,
    "papermill": {
     "duration": 0.015488,
     "end_time": "2022-07-15T06:47:40.768129",
     "exception": false,
     "start_time": "2022-07-15T06:47:40.752641",
     "status": "completed"
    },
    "tags": []
   },
   "outputs": [],
   "source": [
    "onnx_inference_session = read_onnx(\n",
    "    datalake_root(P)\n",
    "    / \"models\"\n",
    "    / f\"nr_train_images={P['task.nr_train_images']}\"\n",
    "    / \"model.onnx\"\n",
    ")"
   ]
  },
  {
   "cell_type": "markdown",
   "id": "fabc10e3",
   "metadata": {
    "papermill": {
     "duration": 0.004136,
     "end_time": "2022-07-15T06:47:40.776718",
     "exception": false,
     "start_time": "2022-07-15T06:47:40.772582",
     "status": "completed"
    },
    "tags": []
   },
   "source": [
    "### Record structure of inputs and outputs for ONNX model\n",
    "\n",
    "(this should likely be done in training notebook)"
   ]
  },
  {
   "cell_type": "code",
   "execution_count": 8,
   "id": "a313a268",
   "metadata": {
    "execution": {
     "iopub.execute_input": "2022-07-15T06:47:40.785910Z",
     "iopub.status.busy": "2022-07-15T06:47:40.785689Z",
     "iopub.status.idle": "2022-07-15T06:47:40.791023Z",
     "shell.execute_reply": "2022-07-15T06:47:40.790426Z"
    },
    "papermill": {
     "duration": 0.013115,
     "end_time": "2022-07-15T06:47:40.793904",
     "exception": false,
     "start_time": "2022-07-15T06:47:40.780789",
     "status": "completed"
    },
    "tags": []
   },
   "outputs": [
    {
     "name": "stdout",
     "output_type": "stream",
     "text": [
      "{\n",
      "  \"inputs\": [\n",
      "    {\n",
      "      \"name\": \"float_input_8x8_image\",\n",
      "      \"shape\": [\n",
      "        null,\n",
      "        64\n",
      "      ],\n",
      "      \"type\": \"tensor(float)\"\n",
      "    }\n",
      "  ],\n",
      "  \"outputs\": [\n",
      "    {\n",
      "      \"name\": \"output_label\",\n",
      "      \"shape\": [\n",
      "        null\n",
      "      ],\n",
      "      \"type\": \"tensor(int64)\"\n",
      "    },\n",
      "    {\n",
      "      \"name\": \"output_probability\",\n",
      "      \"shape\": [],\n",
      "      \"type\": \"seq(map(int64,tensor(float)))\"\n",
      "    }\n",
      "  ]\n",
      "}\n"
     ]
    }
   ],
   "source": [
    "import json\n",
    "\n",
    "onnx_io = json.dumps(\n",
    "    {\n",
    "        \"inputs\": get_onnx_inputs(onnx_inference_session),\n",
    "        \"outputs\": get_onnx_outputs(onnx_inference_session),\n",
    "    },\n",
    "    indent=2,\n",
    ")\n",
    "\n",
    "\n",
    "logger.log_artefact(\"onnx_io_structure.json\", onnx_io)\n",
    "print(onnx_io)"
   ]
  },
  {
   "cell_type": "markdown",
   "id": "bbffb1ea",
   "metadata": {
    "papermill": {
     "duration": 0.004395,
     "end_time": "2022-07-15T06:47:40.802927",
     "exception": false,
     "start_time": "2022-07-15T06:47:40.798532",
     "status": "completed"
    },
    "tags": []
   },
   "source": [
    "### Evaluate model performance on evaluation data set"
   ]
  },
  {
   "cell_type": "code",
   "execution_count": 9,
   "id": "4fb24372",
   "metadata": {
    "execution": {
     "iopub.execute_input": "2022-07-15T06:47:40.812179Z",
     "iopub.status.busy": "2022-07-15T06:47:40.811966Z",
     "iopub.status.idle": "2022-07-15T06:47:40.816021Z",
     "shell.execute_reply": "2022-07-15T06:47:40.815497Z"
    },
    "papermill": {
     "duration": 0.011278,
     "end_time": "2022-07-15T06:47:40.818233",
     "exception": false,
     "start_time": "2022-07-15T06:47:40.806955",
     "status": "completed"
    },
    "tags": []
   },
   "outputs": [],
   "source": [
    "# load evaluation data\n",
    "X_test = read_numpy(datalake_root(P) / \"test-data\" / \"digits.numpy\")\n",
    "y_test = read_numpy(datalake_root(P) / \"test-data\" / \"labels.numpy\")"
   ]
  },
  {
   "cell_type": "code",
   "execution_count": 10,
   "id": "be7fe3f3",
   "metadata": {
    "execution": {
     "iopub.execute_input": "2022-07-15T06:47:40.828094Z",
     "iopub.status.busy": "2022-07-15T06:47:40.827875Z",
     "iopub.status.idle": "2022-07-15T06:47:40.841599Z",
     "shell.execute_reply": "2022-07-15T06:47:40.840895Z"
    },
    "papermill": {
     "duration": 0.020116,
     "end_time": "2022-07-15T06:47:40.843082",
     "exception": false,
     "start_time": "2022-07-15T06:47:40.822966",
     "status": "completed"
    },
    "tags": []
   },
   "outputs": [],
   "source": [
    "def get_model_outputs(X, onnx_inference_session):\n",
    "    y_pred_labels, y_pred_map = onnx_inference_session.run(\n",
    "        [\"output_label\", \"output_probability\"],\n",
    "        {\"float_input_8x8_image\": X.astype(np.float32)},\n",
    "    )\n",
    "    y_pred_probs = np.array(\n",
    "        [[probabilities[digit] for digit in range(10)] for probabilities in y_pred_map]\n",
    "    )\n",
    "\n",
    "    assert y_pred_labels.shape == (X.shape[0],)\n",
    "    assert y_pred_probs.shape == (X.shape[0], 10)\n",
    "\n",
    "    return y_pred_labels, y_pred_probs\n",
    "\n",
    "\n",
    "# Note: as shown in the training notebook, the predicted labels and probabilities\n",
    "# computed below need not be compatible.\n",
    "y_pred_labels_test, y_pred_probs_test = get_model_outputs(\n",
    "    X_test, onnx_inference_session\n",
    ")"
   ]
  },
  {
   "cell_type": "markdown",
   "id": "76fc2df1",
   "metadata": {
    "papermill": {
     "duration": 0.00546,
     "end_time": "2022-07-15T06:47:40.853027",
     "exception": false,
     "start_time": "2022-07-15T06:47:40.847567",
     "status": "completed"
    },
    "tags": []
   },
   "source": [
    "### Confusion matrix"
   ]
  },
  {
   "cell_type": "code",
   "execution_count": 11,
   "id": "1681b6fb",
   "metadata": {
    "execution": {
     "iopub.execute_input": "2022-07-15T06:47:40.862175Z",
     "iopub.status.busy": "2022-07-15T06:47:40.861956Z",
     "iopub.status.idle": "2022-07-15T06:47:40.864698Z",
     "shell.execute_reply": "2022-07-15T06:47:40.864202Z"
    },
    "papermill": {
     "duration": 0.009726,
     "end_time": "2022-07-15T06:47:40.866816",
     "exception": false,
     "start_time": "2022-07-15T06:47:40.857090",
     "status": "completed"
    },
    "tags": []
   },
   "outputs": [],
   "source": [
    "# TODO"
   ]
  },
  {
   "cell_type": "markdown",
   "id": "96220455",
   "metadata": {
    "papermill": {
     "duration": 0.004488,
     "end_time": "2022-07-15T06:47:40.875571",
     "exception": false,
     "start_time": "2022-07-15T06:47:40.871083",
     "status": "completed"
    },
    "tags": []
   },
   "source": [
    "### Plot predicted probabilities for each classifier over all evaluation digit images"
   ]
  },
  {
   "cell_type": "code",
   "execution_count": 12,
   "id": "b88e4f8a",
   "metadata": {
    "execution": {
     "iopub.execute_input": "2022-07-15T06:47:40.884980Z",
     "iopub.status.busy": "2022-07-15T06:47:40.884763Z",
     "iopub.status.idle": "2022-07-15T06:47:43.726767Z",
     "shell.execute_reply": "2022-07-15T06:47:43.726247Z"
    },
    "papermill": {
     "duration": 2.848737,
     "end_time": "2022-07-15T06:47:43.728327",
     "exception": false,
     "start_time": "2022-07-15T06:47:40.879590",
     "status": "completed"
    },
    "tags": []
   },
   "outputs": [
    {
     "data": {
      "image/png": "[encoded data removed]",
      "text/plain": [
       "<Figure size 1152x432 with 10 Axes>"
      ]
     },
     "metadata": {
      "needs_background": "light"
     },
     "output_type": "display_data"
    }
   ],
   "source": [
    "def plot_per_digit_probabilities(y_pred_probs):\n",
    "    fig, axs = plt.subplots(nrows=2, ncols=5, figsize=(16, 6))\n",
    "\n",
    "    for (r, c), digit, ax in zip(\n",
    "        it.product(range(2), range(5)), range(10), axs.reshape(-1)\n",
    "    ):\n",
    "        ax.hist(y_pred_probs_test[:, digit], bins=20)\n",
    "\n",
    "        ax.set_title(f\"Digit {digit}\")\n",
    "        if r == 1 and c == 2:\n",
    "            ax.set_xlabel(\"probability\", fontsize=16)\n",
    "\n",
    "        if c == 0:\n",
    "            ax.set_ylabel(\"counts\", fontsize=16)\n",
    "        ax.set_yscale(\"log\")\n",
    "\n",
    "    fig.tight_layout()\n",
    "    fig.suptitle(\n",
    "        f\"Distributions of prediction probabilities for each digit \"\n",
    "        f\"(on evaluation data, n={y_pred_probs.shape[0]})\",\n",
    "        fontsize=20,\n",
    "    )\n",
    "    fig.tight_layout()\n",
    "    fig.show()\n",
    "\n",
    "    return fig\n",
    "\n",
    "\n",
    "fig = plot_per_digit_probabilities(y_pred_probs_test)"
   ]
  },
  {
   "cell_type": "markdown",
   "id": "132055ff",
   "metadata": {
    "papermill": {
     "duration": 0.004899,
     "end_time": "2022-07-15T06:47:43.741095",
     "exception": false,
     "start_time": "2022-07-15T06:47:43.736196",
     "status": "completed"
    },
    "tags": []
   },
   "source": [
    "From the above distributions we see that most digits have clear separation between\n",
    "high and lower probabilities. Morover, in each case there is roughly an order of\n",
    "magnitude more of digits with low probabilities. This is compatible with digits\n",
    "being roughly evenly distributed in the data."
   ]
  },
  {
   "cell_type": "code",
   "execution_count": 13,
   "id": "7b4b9ec7",
   "metadata": {
    "execution": {
     "iopub.execute_input": "2022-07-15T06:47:43.752089Z",
     "iopub.status.busy": "2022-07-15T06:47:43.751833Z",
     "iopub.status.idle": "2022-07-15T06:47:44.149888Z",
     "shell.execute_reply": "2022-07-15T06:47:44.149335Z"
    },
    "papermill": {
     "duration": 0.405616,
     "end_time": "2022-07-15T06:47:44.151674",
     "exception": false,
     "start_time": "2022-07-15T06:47:43.746058",
     "status": "completed"
    },
    "tags": []
   },
   "outputs": [],
   "source": [
    "logger.log_figure(\"per-digit-probabilities.png\", fig)"
   ]
  },
  {
   "cell_type": "markdown",
   "id": "0b2a68a2",
   "metadata": {
    "papermill": {
     "duration": 0.005266,
     "end_time": "2022-07-15T06:47:44.161997",
     "exception": false,
     "start_time": "2022-07-15T06:47:44.156731",
     "status": "completed"
    },
    "tags": []
   },
   "source": [
    "### Plot ROC curves for individual one-vs-rest classifiers"
   ]
  },
  {
   "cell_type": "code",
   "execution_count": 14,
   "id": "6618dda9",
   "metadata": {
    "execution": {
     "iopub.execute_input": "2022-07-15T06:47:44.172919Z",
     "iopub.status.busy": "2022-07-15T06:47:44.172668Z",
     "iopub.status.idle": "2022-07-15T06:47:44.527538Z",
     "shell.execute_reply": "2022-07-15T06:47:44.526901Z"
    },
    "papermill": {
     "duration": 0.362645,
     "end_time": "2022-07-15T06:47:44.529489",
     "exception": false,
     "start_time": "2022-07-15T06:47:44.166844",
     "status": "completed"
    },
    "tags": []
   },
   "outputs": [],
   "source": [
    "from sklearn import metrics"
   ]
  },
  {
   "cell_type": "code",
   "execution_count": 15,
   "id": "65f86056",
   "metadata": {
    "execution": {
     "iopub.execute_input": "2022-07-15T06:47:44.543716Z",
     "iopub.status.busy": "2022-07-15T06:47:44.543449Z",
     "iopub.status.idle": "2022-07-15T06:47:45.587134Z",
     "shell.execute_reply": "2022-07-15T06:47:45.586414Z"
    },
    "papermill": {
     "duration": 1.051453,
     "end_time": "2022-07-15T06:47:45.588920",
     "exception": false,
     "start_time": "2022-07-15T06:47:44.537467",
     "status": "completed"
    },
    "tags": []
   },
   "outputs": [
    {
     "data": {
      "image/png": "[encoded data removed]",
      "text/plain": [
       "<Figure size 1152x576 with 10 Axes>"
      ]
     },
     "metadata": {
      "needs_background": "light"
     },
     "output_type": "display_data"
    }
   ],
   "source": [
    "def plot_roc_curves(y, y_pred_probs):\n",
    "    # based on example code\n",
    "    # https://scikit-learn.org/stable/auto_examples/model_selection/plot_roc.html\n",
    "\n",
    "    fig, axs = plt.subplots(nrows=2, ncols=5, figsize=(16, 8))\n",
    "\n",
    "    roc_auc_dict = {}\n",
    "\n",
    "    for (r, c), digit, ax in zip(\n",
    "        it.product(range(2), range(5)), range(10), axs.reshape(-1)\n",
    "    ):\n",
    "        fpr, tpr, _ = metrics.roc_curve(y == digit, y_pred_probs[:, digit])\n",
    "        auc = metrics.auc(fpr, tpr)\n",
    "        roc_auc_dict[str(digit)] = auc\n",
    "\n",
    "        ax.plot(fpr, tpr, label=f\"ROC AUC={round(auc, 3)}\")\n",
    "\n",
    "        ax.set_title(f\"\\nDigit {digit}\", fontsize=16)\n",
    "        if r == 1:\n",
    "            ax.set_xlabel(\"FPR\", fontsize=18)\n",
    "\n",
    "        if c == 0:\n",
    "            ax.set_ylabel(\"TPR\", fontsize=18)\n",
    "\n",
    "        ax.set_xlim([-0.05, 1.05])\n",
    "        ax.set_ylim([-0.05, 1.05])\n",
    "        ax.legend(loc=\"lower right\", frameon=False, fontsize=14)\n",
    "\n",
    "    fig.tight_layout()\n",
    "    fig.suptitle(\n",
    "        f\"ROC plots for one-vs-rest performances \"\n",
    "        f\"(on evaluation data, n={y_pred_probs_test.shape[1]}\",\n",
    "        fontsize=22,\n",
    "    )\n",
    "    fig.tight_layout()\n",
    "    fig.show()\n",
    "\n",
    "    return roc_auc_dict, fig\n",
    "\n",
    "\n",
    "roc_auc_dict, fig = plot_roc_curves(y_test, y_pred_probs_test)"
   ]
  },
  {
   "cell_type": "code",
   "execution_count": 16,
   "id": "89d3de48",
   "metadata": {
    "execution": {
     "iopub.execute_input": "2022-07-15T06:47:45.602319Z",
     "iopub.status.busy": "2022-07-15T06:47:45.602078Z",
     "iopub.status.idle": "2022-07-15T06:47:45.822803Z",
     "shell.execute_reply": "2022-07-15T06:47:45.821697Z"
    },
    "papermill": {
     "duration": 0.229326,
     "end_time": "2022-07-15T06:47:45.824782",
     "exception": false,
     "start_time": "2022-07-15T06:47:45.595456",
     "status": "completed"
    },
    "tags": []
   },
   "outputs": [],
   "source": [
    "logger.log_figure(\"per-digit-roc-curves.png\", fig)"
   ]
  },
  {
   "cell_type": "code",
   "execution_count": 17,
   "id": "177cd73a",
   "metadata": {
    "execution": {
     "iopub.execute_input": "2022-07-15T06:47:45.838387Z",
     "iopub.status.busy": "2022-07-15T06:47:45.838070Z",
     "iopub.status.idle": "2022-07-15T06:47:45.842979Z",
     "shell.execute_reply": "2022-07-15T06:47:45.842379Z"
    },
    "papermill": {
     "duration": 0.014671,
     "end_time": "2022-07-15T06:47:45.845723",
     "exception": false,
     "start_time": "2022-07-15T06:47:45.831052",
     "status": "completed"
    },
    "tags": []
   },
   "outputs": [
    {
     "data": {
      "text/plain": [
       "{'0': 1.0,\n",
       " '1': 0.999025304592315,\n",
       " '2': 1.0,\n",
       " '3': 0.9998875351452671,\n",
       " '4': 0.9996570644718793,\n",
       " '5': 0.9994001874414246,\n",
       " '6': 0.999923792104862,\n",
       " '7': 0.9997713763145862,\n",
       " '8': 0.9947588272383354,\n",
       " '9': 0.9995808565767414}"
      ]
     },
     "execution_count": 17,
     "metadata": {},
     "output_type": "execute_result"
    }
   ],
   "source": [
    "roc_auc_dict"
   ]
  },
  {
   "cell_type": "code",
   "execution_count": 18,
   "id": "ed22ce5b",
   "metadata": {
    "execution": {
     "iopub.execute_input": "2022-07-15T06:47:45.858452Z",
     "iopub.status.busy": "2022-07-15T06:47:45.858148Z",
     "iopub.status.idle": "2022-07-15T06:47:45.862433Z",
     "shell.execute_reply": "2022-07-15T06:47:45.861701Z"
    },
    "papermill": {
     "duration": 0.015313,
     "end_time": "2022-07-15T06:47:45.866441",
     "exception": false,
     "start_time": "2022-07-15T06:47:45.851128",
     "status": "completed"
    },
    "tags": []
   },
   "outputs": [
    {
     "name": "stdout",
     "output_type": "stream",
     "text": [
      " - Logging roc_auc_per_digit (json) : {'0': 1.0, '1': 0.999025304592315, '2': 1.0, '3': 0.9998875351452671, '4': 0.9996570644718793, '5': 0.9994001874414246, '6': 0.999923792104862, '7': 0.9997713763145862, '8': 0.9947588272383354, '9': 0.9995808565767414}\n"
     ]
    }
   ],
   "source": [
    "logger.log_value(\"roc_auc_per_digit\", roc_auc_dict)"
   ]
  },
  {
   "cell_type": "markdown",
   "id": "9b3f14dc",
   "metadata": {
    "papermill": {
     "duration": 0.006246,
     "end_time": "2022-07-15T06:47:45.878109",
     "exception": false,
     "start_time": "2022-07-15T06:47:45.871863",
     "status": "completed"
    },
    "tags": []
   },
   "source": [
    "### Compute and log mean ROC AUC score averaged over all digits"
   ]
  },
  {
   "cell_type": "code",
   "execution_count": 19,
   "id": "5deabc71",
   "metadata": {
    "execution": {
     "iopub.execute_input": "2022-07-15T06:47:45.890991Z",
     "iopub.status.busy": "2022-07-15T06:47:45.890670Z",
     "iopub.status.idle": "2022-07-15T06:47:45.903309Z",
     "shell.execute_reply": "2022-07-15T06:47:45.902463Z"
    },
    "papermill": {
     "duration": 0.020784,
     "end_time": "2022-07-15T06:47:45.904877",
     "exception": false,
     "start_time": "2022-07-15T06:47:45.884093",
     "status": "completed"
    },
    "tags": []
   },
   "outputs": [
    {
     "name": "stdout",
     "output_type": "stream",
     "text": [
      " - Logging roc_auc_class_mean (float) : 0.9992004943885412\n"
     ]
    }
   ],
   "source": [
    "roc_auc_macro = np.mean(list(roc_auc_dict.values()))\n",
    "\n",
    "logger.log_float(\"roc_auc_class_mean\", roc_auc_macro)\n",
    "\n",
    "# assert that the same value can be computed directly using sklearn\n",
    "assert roc_auc_macro == metrics.roc_auc_score(\n",
    "    y_test, y_pred_probs_test, average=\"macro\", multi_class=\"ovr\"\n",
    ")"
   ]
  },
  {
   "cell_type": "code",
   "execution_count": 20,
   "id": "d4143e90",
   "metadata": {
    "execution": {
     "iopub.execute_input": "2022-07-15T06:47:45.917603Z",
     "iopub.status.busy": "2022-07-15T06:47:45.917258Z",
     "iopub.status.idle": "2022-07-15T06:47:45.920471Z",
     "shell.execute_reply": "2022-07-15T06:47:45.919843Z"
    },
    "lines_to_next_cell": 0,
    "papermill": {
     "duration": 0.011482,
     "end_time": "2022-07-15T06:47:45.921977",
     "exception": false,
     "start_time": "2022-07-15T06:47:45.910495",
     "status": "completed"
    },
    "tags": []
   },
   "outputs": [],
   "source": [
    "# ---"
   ]
  },
  {
   "cell_type": "code",
   "execution_count": null,
   "id": "9094e508",
   "metadata": {
    "papermill": {
     "duration": 0.006059,
     "end_time": "2022-07-15T06:47:45.933932",
     "exception": false,
     "start_time": "2022-07-15T06:47:45.927873",
     "status": "completed"
    },
    "tags": []
   },
   "outputs": [],
   "source": []
  }
 ],
 "metadata": {
  "jupytext": {
   "cell_metadata_filter": "tags,-all",
   "main_language": "python",
   "notebook_metadata_filter": "-all"
  },
  "language_info": {
   "codemirror_mode": {
    "name": "ipython",
    "version": 3
   },
   "file_extension": ".py",
   "mimetype": "text/x-python",
   "name": "python",
   "nbconvert_exporter": "python",
   "pygments_lexer": "ipython3",
   "version": "3.8.10"
  },
  "papermill": {
   "default_parameters": {},
   "duration": 8.757077,
   "end_time": "2022-07-15T06:47:46.858247",
   "environment_variables": {},
   "exception": null,
   "input_path": "/home/host_user/workspace/mnist-demo-pipeline/mnist-demo-pipeline/notebooks/temp-notebook-b1uca28j.ipynb",
   "output_path": "notebooks/benchmark-model.ipynb",
   "parameters": {
    "P": {
     "_opentelemetry_traceparent": "00-fb678ccd790c7800a08656a888971846-392261b92c8be43a-01",
     "pipeline.data_lake_root": "/pipeline-outputs/data-lake",
     "pipeline.github.actor": "matiasdahl",
     "pipeline.github.base_ref": "",
     "pipeline.github.event_name": "schedule",
     "pipeline.github.head_ref": "",
     "pipeline.github.job": "run-tests-pipeline-and-persist-pipeline-outputs",
     "pipeline.github.ref": "refs/heads/development",
     "pipeline.github.ref_name": "development",
     "pipeline.github.ref_type": "branch",
     "pipeline.github.repository": "pynb-dag-runner/mnist-digits-demo-pipeline",
     "pipeline.github.run_id": "2675107270",
     "pipeline.github.runner_name": "Hosted Agent",
     "pipeline.github.sha": "147a1be9916173fd4d2cd011d8d51e3411215850",
     "pipeline.github.workflow": "Run automated tests, pipeline and deploy results to static reporting site",
     "pipeline.pipeline_run_id": "8c5f68ab-4954-4919-9b60-71ba0cf49a23",
     "pipeline.run_environment": "ci",
     "run.retry_nr": "0",
     "task.max_nr_retries": "1",
     "task.notebook": "notebooks/benchmark-model.py",
     "task.nr_train_images": 1000,
     "task.num_cpus": 1,
     "task.timeout_s": "None"
    }
   },
   "start_time": "2022-07-15T06:47:38.101170",
   "version": "2.3.3"
  }
 },
 "nbformat": 4,
 "nbformat_minor": 5
}