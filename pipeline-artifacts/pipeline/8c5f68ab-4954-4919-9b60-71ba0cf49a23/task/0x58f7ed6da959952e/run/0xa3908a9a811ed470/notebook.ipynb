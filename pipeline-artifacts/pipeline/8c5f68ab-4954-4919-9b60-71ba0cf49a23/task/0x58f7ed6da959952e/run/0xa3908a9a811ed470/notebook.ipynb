{
 "cells": [
  {
   "cell_type": "markdown",
   "id": "e45fe856",
   "metadata": {
    "papermill": {
     "duration": 0.005024,
     "end_time": "2022-07-15T06:47:37.199733",
     "exception": false,
     "start_time": "2022-07-15T06:47:37.194709",
     "status": "completed"
    },
    "tags": []
   },
   "source": [
    "# Train model\n",
    "\n",
    "The purpose of this notebook is:\n",
    "\n",
    "- Load all training data (images and labels).\n",
    "- Limit number of train images to `task.nr_train_images` (value provided as run parameter).\n",
    "- Train a support vector machine model using sklearn.\n",
    "- Persist the trained model using the ONNX format."
   ]
  },
  {
   "cell_type": "markdown",
   "id": "c0bed6b1",
   "metadata": {
    "papermill": {
     "duration": 0.003252,
     "end_time": "2022-07-15T06:47:37.206589",
     "exception": false,
     "start_time": "2022-07-15T06:47:37.203337",
     "status": "completed"
    },
    "tags": []
   },
   "source": [
    "### Determine run parameters"
   ]
  },
  {
   "cell_type": "code",
   "execution_count": 1,
   "id": "edb77524",
   "metadata": {
    "execution": {
     "iopub.execute_input": "2022-07-15T06:47:37.214032Z",
     "iopub.status.busy": "2022-07-15T06:47:37.213739Z",
     "iopub.status.idle": "2022-07-15T06:47:37.221982Z",
     "shell.execute_reply": "2022-07-15T06:47:37.221424Z"
    },
    "lines_to_next_cell": 0,
    "papermill": {
     "duration": 0.01501,
     "end_time": "2022-07-15T06:47:37.224659",
     "exception": false,
     "start_time": "2022-07-15T06:47:37.209649",
     "status": "completed"
    },
    "tags": []
   },
   "outputs": [],
   "source": [
    "# ----------------- Parameters for interactive development --------------\n",
    "P = {\n",
    "    \"pipeline.data_lake_root\": \"/pipeline-outputs/data-lake\",\n",
    "    \"task.nr_train_images\": 600,\n",
    "}"
   ]
  },
  {
   "cell_type": "code",
   "execution_count": 2,
   "id": "805cce2a",
   "metadata": {
    "execution": {
     "iopub.execute_input": "2022-07-15T06:47:37.232287Z",
     "iopub.status.busy": "2022-07-15T06:47:37.232060Z",
     "iopub.status.idle": "2022-07-15T06:47:37.234808Z",
     "shell.execute_reply": "2022-07-15T06:47:37.234319Z"
    },
    "lines_to_next_cell": 0,
    "papermill": {
     "duration": 0.009505,
     "end_time": "2022-07-15T06:47:37.237425",
     "exception": false,
     "start_time": "2022-07-15T06:47:37.227920",
     "status": "completed"
    },
    "tags": [
     "parameters"
    ]
   },
   "outputs": [],
   "source": [
    "# - During automated runs parameters will be injected in the below cell -"
   ]
  },
  {
   "cell_type": "code",
   "execution_count": 3,
   "id": "12b09e58",
   "metadata": {
    "execution": {
     "iopub.execute_input": "2022-07-15T06:47:37.249052Z",
     "iopub.status.busy": "2022-07-15T06:47:37.248841Z",
     "iopub.status.idle": "2022-07-15T06:47:37.253721Z",
     "shell.execute_reply": "2022-07-15T06:47:37.253219Z"
    },
    "papermill": {
     "duration": 0.015487,
     "end_time": "2022-07-15T06:47:37.256014",
     "exception": false,
     "start_time": "2022-07-15T06:47:37.240527",
     "status": "completed"
    },
    "tags": [
     "injected-parameters"
    ]
   },
   "outputs": [],
   "source": [
    "# Parameters\n",
    "P = {\n",
    "    \"pipeline.data_lake_root\": \"/pipeline-outputs/data-lake\",\n",
    "    \"pipeline.run_environment\": \"ci\",\n",
    "    \"pipeline.pipeline_run_id\": \"8c5f68ab-4954-4919-9b60-71ba0cf49a23\",\n",
    "    \"pipeline.github.repository\": \"pynb-dag-runner/mnist-digits-demo-pipeline\",\n",
    "    \"pipeline.github.workflow\": \"Run automated tests, pipeline and deploy results to static reporting site\",\n",
    "    \"pipeline.github.runner_name\": \"Hosted Agent\",\n",
    "    \"pipeline.github.run_id\": \"2675107270\",\n",
    "    \"pipeline.github.actor\": \"matiasdahl\",\n",
    "    \"pipeline.github.job\": \"run-tests-pipeline-and-persist-pipeline-outputs\",\n",
    "    \"pipeline.github.base_ref\": \"\",\n",
    "    \"pipeline.github.head_ref\": \"\",\n",
    "    \"pipeline.github.sha\": \"147a1be9916173fd4d2cd011d8d51e3411215850\",\n",
    "    \"pipeline.github.ref\": \"refs/heads/development\",\n",
    "    \"pipeline.github.ref_type\": \"branch\",\n",
    "    \"pipeline.github.ref_name\": \"development\",\n",
    "    \"pipeline.github.event_name\": \"schedule\",\n",
    "    \"task.nr_train_images\": 1200,\n",
    "    \"task.notebook\": \"notebooks/train-model.py\",\n",
    "    \"task.max_nr_retries\": \"1\",\n",
    "    \"run.retry_nr\": \"0\",\n",
    "    \"task.timeout_s\": \"None\",\n",
    "    \"task.num_cpus\": 1,\n",
    "    \"_opentelemetry_traceparent\": \"00-fb678ccd790c7800a08656a888971846-6bc82bc27c03683f-01\",\n",
    "}\n"
   ]
  },
  {
   "cell_type": "code",
   "execution_count": 4,
   "id": "4556f41a",
   "metadata": {
    "execution": {
     "iopub.execute_input": "2022-07-15T06:47:37.263486Z",
     "iopub.status.busy": "2022-07-15T06:47:37.263284Z",
     "iopub.status.idle": "2022-07-15T06:47:37.266062Z",
     "shell.execute_reply": "2022-07-15T06:47:37.265480Z"
    },
    "lines_to_next_cell": 0,
    "papermill": {
     "duration": 0.009143,
     "end_time": "2022-07-15T06:47:37.268434",
     "exception": false,
     "start_time": "2022-07-15T06:47:37.259291",
     "status": "completed"
    },
    "tags": []
   },
   "outputs": [],
   "source": [
    "# -----------------------------------------------------------------------"
   ]
  },
  {
   "cell_type": "markdown",
   "id": "678bea58",
   "metadata": {
    "papermill": {
     "duration": 0.00321,
     "end_time": "2022-07-15T06:47:37.274339",
     "exception": false,
     "start_time": "2022-07-15T06:47:37.271129",
     "status": "completed"
    },
    "tags": []
   },
   "source": [
    "---"
   ]
  },
  {
   "cell_type": "markdown",
   "id": "25e3d9b6",
   "metadata": {
    "lines_to_next_cell": 2,
    "papermill": {
     "duration": 0.002921,
     "end_time": "2022-07-15T06:47:37.280422",
     "exception": false,
     "start_time": "2022-07-15T06:47:37.277501",
     "status": "completed"
    },
    "tags": []
   },
   "source": [
    "### Notebook code"
   ]
  },
  {
   "cell_type": "code",
   "execution_count": 5,
   "id": "fdad9e69",
   "metadata": {
    "execution": {
     "iopub.execute_input": "2022-07-15T06:47:37.287493Z",
     "iopub.status.busy": "2022-07-15T06:47:37.287273Z",
     "iopub.status.idle": "2022-07-15T06:47:37.754418Z",
     "shell.execute_reply": "2022-07-15T06:47:37.753854Z"
    },
    "papermill": {
     "duration": 0.472677,
     "end_time": "2022-07-15T06:47:37.756231",
     "exception": false,
     "start_time": "2022-07-15T06:47:37.283554",
     "status": "completed"
    },
    "tags": []
   },
   "outputs": [
    {
     "name": "stderr",
     "output_type": "stream",
     "text": [
      "2022-07-15 06:47:37,584\tINFO worker.py:842 -- Connecting to existing Ray cluster at address: 172.17.0.2:6379\n"
     ]
    }
   ],
   "source": [
    "from pynb_dag_runner.tasks.task_opentelemetry_logging import PydarLogger\n",
    "\n",
    "logger = PydarLogger(P)"
   ]
  },
  {
   "cell_type": "markdown",
   "id": "8669a3a6",
   "metadata": {
    "papermill": {
     "duration": 0.002965,
     "end_time": "2022-07-15T06:47:37.762645",
     "exception": false,
     "start_time": "2022-07-15T06:47:37.759680",
     "status": "completed"
    },
    "tags": []
   },
   "source": [
    "## Load and limit train data"
   ]
  },
  {
   "cell_type": "code",
   "execution_count": 6,
   "id": "381c605b",
   "metadata": {
    "execution": {
     "iopub.execute_input": "2022-07-15T06:47:37.769392Z",
     "iopub.status.busy": "2022-07-15T06:47:37.769108Z",
     "iopub.status.idle": "2022-07-15T06:47:38.102391Z",
     "shell.execute_reply": "2022-07-15T06:47:38.101562Z"
    },
    "papermill": {
     "duration": 0.33866,
     "end_time": "2022-07-15T06:47:38.104143",
     "exception": false,
     "start_time": "2022-07-15T06:47:37.765483",
     "status": "completed"
    },
    "tags": []
   },
   "outputs": [],
   "source": [
    "def load_and_limit_train_data(P):\n",
    "    from common.io import datalake_root, read_numpy\n",
    "    from sklearn.model_selection import train_test_split\n",
    "\n",
    "    X_train_all = read_numpy(datalake_root(P) / \"train-data\" / \"digits.numpy\")\n",
    "    y_train_all = read_numpy(datalake_root(P) / \"train-data\" / \"labels.numpy\")\n",
    "\n",
    "    assert isinstance(P[\"task.nr_train_images\"], int)\n",
    "\n",
    "    # Note: train_test_split will fail if split is 0 or 100%.\n",
    "    assert 0 < P[\"task.nr_train_images\"] < len(y_train_all)\n",
    "\n",
    "    X_train, _, y_train, _ = train_test_split(\n",
    "        X_train_all,\n",
    "        y_train_all,\n",
    "        train_size=P[\"task.nr_train_images\"],\n",
    "        test_size=None,\n",
    "        stratify=y_train_all,\n",
    "        shuffle=True,\n",
    "        random_state=123,\n",
    "    )\n",
    "\n",
    "    assert X_train.shape == (len(y_train), 8 * 8)\n",
    "    return X_train, y_train\n",
    "\n",
    "\n",
    "X_train, y_train = load_and_limit_train_data(P)"
   ]
  },
  {
   "cell_type": "markdown",
   "id": "b7f917a8",
   "metadata": {
    "papermill": {
     "duration": 0.003055,
     "end_time": "2022-07-15T06:47:38.112152",
     "exception": false,
     "start_time": "2022-07-15T06:47:38.109097",
     "status": "completed"
    },
    "tags": []
   },
   "source": [
    "## Train support vector classifier model\n",
    "\n",
    "Below we assume that the hyperparameter $C$ is known.\n",
    "\n",
    "However, this should ideally be found by a hyperparameter search. That could be\n",
    "done in parallel on the Ray cluster, but this needs some more work. Ie., to use\n",
    "multiple cores in the notebook, those cores should be reserved when starting the\n",
    "notebook task (TODO).\n",
    "\n",
    "- https://docs.ray.io/en/latest/tune/key-concepts.html\n",
    "\n",
    "Note: cv-scores would need to be computed here, since they depend on the train data.\n",
    "After this notebook only the onnx-model is available."
   ]
  },
  {
   "cell_type": "code",
   "execution_count": 7,
   "id": "a1d09d9c",
   "metadata": {
    "execution": {
     "iopub.execute_input": "2022-07-15T06:47:38.119150Z",
     "iopub.status.busy": "2022-07-15T06:47:38.118902Z",
     "iopub.status.idle": "2022-07-15T06:47:38.139613Z",
     "shell.execute_reply": "2022-07-15T06:47:38.138640Z"
    },
    "papermill": {
     "duration": 0.026419,
     "end_time": "2022-07-15T06:47:38.141395",
     "exception": false,
     "start_time": "2022-07-15T06:47:38.114976",
     "status": "completed"
    },
    "tags": []
   },
   "outputs": [],
   "source": [
    "from sklearn.svm import SVC"
   ]
  },
  {
   "cell_type": "code",
   "execution_count": 8,
   "id": "f7e19f1c",
   "metadata": {
    "execution": {
     "iopub.execute_input": "2022-07-15T06:47:38.149330Z",
     "iopub.status.busy": "2022-07-15T06:47:38.148862Z",
     "iopub.status.idle": "2022-07-15T06:47:38.349273Z",
     "shell.execute_reply": "2022-07-15T06:47:38.348749Z"
    },
    "papermill": {
     "duration": 0.206392,
     "end_time": "2022-07-15T06:47:38.350870",
     "exception": false,
     "start_time": "2022-07-15T06:47:38.144478",
     "status": "completed"
    },
    "tags": []
   },
   "outputs": [
    {
     "data": {
      "text/plain": [
       "SVC(C=0.001, kernel='linear', probability=True)"
      ]
     },
     "execution_count": 8,
     "metadata": {},
     "output_type": "execute_result"
    }
   ],
   "source": [
    "model = SVC(C=0.001, kernel=\"linear\", probability=True)\n",
    "\n",
    "model.fit(X_train, y_train)"
   ]
  },
  {
   "cell_type": "markdown",
   "id": "4fc7cd45",
   "metadata": {
    "papermill": {
     "duration": 0.00328,
     "end_time": "2022-07-15T06:47:38.357855",
     "exception": false,
     "start_time": "2022-07-15T06:47:38.354575",
     "status": "completed"
    },
    "tags": []
   },
   "source": [
    "### Q: Can the labels returned by `predict(..)` be computed from probabilities returned by the `predict_prob`-method?"
   ]
  },
  {
   "cell_type": "code",
   "execution_count": 9,
   "id": "0e07a53a",
   "metadata": {
    "execution": {
     "iopub.execute_input": "2022-07-15T06:47:38.365504Z",
     "iopub.status.busy": "2022-07-15T06:47:38.365153Z",
     "iopub.status.idle": "2022-07-15T06:47:38.473395Z",
     "shell.execute_reply": "2022-07-15T06:47:38.472854Z"
    },
    "papermill": {
     "duration": 0.114046,
     "end_time": "2022-07-15T06:47:38.474965",
     "exception": false,
     "start_time": "2022-07-15T06:47:38.360919",
     "status": "completed"
    },
    "tags": []
   },
   "outputs": [
    {
     "name": "stdout",
     "output_type": "stream",
     "text": [
      " - Logging nr_max_prob_neq_label (int) : 4\n"
     ]
    }
   ],
   "source": [
    "import numpy as np\n",
    "\n",
    "y_train_labels = model.predict(X_train)\n",
    "y_train_probabilities = model.predict_proba(X_train)\n",
    "assert y_train_probabilities.shape == (len(y_train), 10)\n",
    "\n",
    "y_train_max_prob_labels = np.argmax(y_train_probabilities, axis=1)\n",
    "assert y_train_labels.shape == y_train_max_prob_labels.shape == y_train.shape\n",
    "\n",
    "# If the predicted labels would coincide with the labels that have\n",
    "# maximum probability, the below number would be zero\n",
    "logger.log_int(\n",
    "    \"nr_max_prob_neq_label\", int(sum(y_train_max_prob_labels != y_train_labels))\n",
    ")"
   ]
  },
  {
   "cell_type": "markdown",
   "id": "772e1691",
   "metadata": {
    "papermill": {
     "duration": 0.003567,
     "end_time": "2022-07-15T06:47:38.481809",
     "exception": false,
     "start_time": "2022-07-15T06:47:38.478242",
     "status": "completed"
    },
    "tags": []
   },
   "source": [
    "The explanation is (likely) explained in the SVC source, see\n",
    "[here](https://github.com/scikit-learn/scikit-learn/blob/main/sklearn/svm/_base.py).\n",
    "Namely, the outputs from `predict(..)` and `predict_proba(..)` may not in some\n",
    "cases be compatible since the latter is computed using cross-validation while\n",
    "the former is not. Thus, the above number need not be zero."
   ]
  },
  {
   "cell_type": "markdown",
   "id": "6fe2d593",
   "metadata": {
    "papermill": {
     "duration": 0.004401,
     "end_time": "2022-07-15T06:47:38.489286",
     "exception": false,
     "start_time": "2022-07-15T06:47:38.484885",
     "status": "completed"
    },
    "tags": []
   },
   "source": [
    "## Persist model"
   ]
  },
  {
   "cell_type": "code",
   "execution_count": 10,
   "id": "703d1bb7",
   "metadata": {
    "execution": {
     "iopub.execute_input": "2022-07-15T06:47:38.497852Z",
     "iopub.status.busy": "2022-07-15T06:47:38.497214Z",
     "iopub.status.idle": "2022-07-15T06:47:39.231183Z",
     "shell.execute_reply": "2022-07-15T06:47:39.230532Z"
    },
    "papermill": {
     "duration": 0.740122,
     "end_time": "2022-07-15T06:47:39.233266",
     "exception": false,
     "start_time": "2022-07-15T06:47:38.493144",
     "status": "completed"
    },
    "tags": []
   },
   "outputs": [],
   "source": [
    "from skl2onnx import convert_sklearn\n",
    "from skl2onnx.common.data_types import FloatTensorType\n",
    "\n",
    "#\n",
    "from common.io import datalake_root, write_onnx"
   ]
  },
  {
   "cell_type": "code",
   "execution_count": 11,
   "id": "fb2e306b",
   "metadata": {
    "execution": {
     "iopub.execute_input": "2022-07-15T06:47:39.595339Z",
     "iopub.status.busy": "2022-07-15T06:47:39.594983Z",
     "iopub.status.idle": "2022-07-15T06:47:39.655540Z",
     "shell.execute_reply": "2022-07-15T06:47:39.654994Z"
    },
    "papermill": {
     "duration": 0.420769,
     "end_time": "2022-07-15T06:47:39.657430",
     "exception": false,
     "start_time": "2022-07-15T06:47:39.236661",
     "status": "completed"
    },
    "tags": []
   },
   "outputs": [],
   "source": [
    "# convert sklearn model into onnx and persist to data lake\n",
    "\n",
    "model_onnx = convert_sklearn(\n",
    "    model, initial_types=[(\"float_input_8x8_image\", FloatTensorType([None, 8 * 8]))]\n",
    ")\n",
    "write_onnx(\n",
    "    datalake_root(P)\n",
    "    / \"models\"\n",
    "    / f\"nr_train_images={P['task.nr_train_images']}\"\n",
    "    / \"model.onnx\",\n",
    "    model_onnx,\n",
    ")"
   ]
  },
  {
   "cell_type": "code",
   "execution_count": null,
   "id": "07480cf2",
   "metadata": {
    "papermill": {
     "duration": 0.003679,
     "end_time": "2022-07-15T06:47:39.664567",
     "exception": false,
     "start_time": "2022-07-15T06:47:39.660888",
     "status": "completed"
    },
    "tags": []
   },
   "outputs": [],
   "source": []
  }
 ],
 "metadata": {
  "jupytext": {
   "cell_metadata_filter": "tags,-all",
   "main_language": "python",
   "notebook_metadata_filter": "-all"
  },
  "language_info": {
   "codemirror_mode": {
    "name": "ipython",
    "version": 3
   },
   "file_extension": ".py",
   "mimetype": "text/x-python",
   "name": "python",
   "nbconvert_exporter": "python",
   "pygments_lexer": "ipython3",
   "version": "3.8.10"
  },
  "papermill": {
   "default_parameters": {},
   "duration": 4.83108,
   "end_time": "2022-07-15T06:47:40.688657",
   "environment_variables": {},
   "exception": null,
   "input_path": "/home/host_user/workspace/mnist-demo-pipeline/mnist-demo-pipeline/notebooks/temp-notebook-uyx3k3_3.ipynb",
   "output_path": "notebooks/train-model.ipynb",
   "parameters": {
    "P": {
     "_opentelemetry_traceparent": "00-fb678ccd790c7800a08656a888971846-6bc82bc27c03683f-01",
     "pipeline.data_lake_root": "/pipeline-outputs/data-lake",
     "pipeline.github.actor": "matiasdahl",
     "pipeline.github.base_ref": "",
     "pipeline.github.event_name": "schedule",
     "pipeline.github.head_ref": "",
     "pipeline.github.job": "run-tests-pipeline-and-persist-pipeline-outputs",
     "pipeline.github.ref": "refs/heads/development",
     "pipeline.github.ref_name": "development",
     "pipeline.github.ref_type": "branch",
     "pipeline.github.repository": "pynb-dag-runner/mnist-digits-demo-pipeline",
     "pipeline.github.run_id": "2675107270",
     "pipeline.github.runner_name": "Hosted Agent",
     "pipeline.github.sha": "147a1be9916173fd4d2cd011d8d51e3411215850",
     "pipeline.github.workflow": "Run automated tests, pipeline and deploy results to static reporting site",
     "pipeline.pipeline_run_id": "8c5f68ab-4954-4919-9b60-71ba0cf49a23",
     "pipeline.run_environment": "ci",
     "run.retry_nr": "0",
     "task.max_nr_retries": "1",
     "task.notebook": "notebooks/train-model.py",
     "task.nr_train_images": 1200,
     "task.num_cpus": 1,
     "task.timeout_s": "None"
    }
   },
   "start_time": "2022-07-15T06:47:35.857577",
   "version": "2.3.3"
  }
 },
 "nbformat": 4,
 "nbformat_minor": 5
}