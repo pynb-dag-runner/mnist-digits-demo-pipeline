{
 "cells": [
  {
   "cell_type": "markdown",
   "id": "57c2b4b1",
   "metadata": {
    "papermill": {
     "duration": 0.019231,
     "end_time": "2022-07-15T06:47:23.180283",
     "exception": false,
     "start_time": "2022-07-15T06:47:23.161052",
     "status": "completed"
    },
    "tags": []
   },
   "source": [
    "# Split digits and labels into separate training and testing data sets"
   ]
  },
  {
   "cell_type": "markdown",
   "id": "91e5467e",
   "metadata": {
    "papermill": {
     "duration": 0.002381,
     "end_time": "2022-07-15T06:47:23.185388",
     "exception": false,
     "start_time": "2022-07-15T06:47:23.183007",
     "status": "completed"
    },
    "tags": []
   },
   "source": [
    "### Determine run parameters"
   ]
  },
  {
   "cell_type": "code",
   "execution_count": 1,
   "id": "330723b7",
   "metadata": {
    "execution": {
     "iopub.execute_input": "2022-07-15T06:47:23.191205Z",
     "iopub.status.busy": "2022-07-15T06:47:23.190883Z",
     "iopub.status.idle": "2022-07-15T06:47:23.201234Z",
     "shell.execute_reply": "2022-07-15T06:47:23.200671Z"
    },
    "lines_to_next_cell": 0,
    "papermill": {
     "duration": 0.018725,
     "end_time": "2022-07-15T06:47:23.206227",
     "exception": false,
     "start_time": "2022-07-15T06:47:23.187502",
     "status": "completed"
    },
    "tags": []
   },
   "outputs": [],
   "source": [
    "# ----------------- Parameters for interactive development --------------\n",
    "P = {\n",
    "    \"pipeline.data_lake_root\": \"/pipeline-outputs/data-lake\",\n",
    "    \"task.train_test_ratio\": 0.7,\n",
    "}"
   ]
  },
  {
   "cell_type": "code",
   "execution_count": 2,
   "id": "e8ae3372",
   "metadata": {
    "execution": {
     "iopub.execute_input": "2022-07-15T06:47:23.213384Z",
     "iopub.status.busy": "2022-07-15T06:47:23.212970Z",
     "iopub.status.idle": "2022-07-15T06:47:23.215806Z",
     "shell.execute_reply": "2022-07-15T06:47:23.215277Z"
    },
    "lines_to_next_cell": 0,
    "papermill": {
     "duration": 0.009324,
     "end_time": "2022-07-15T06:47:23.218197",
     "exception": false,
     "start_time": "2022-07-15T06:47:23.208873",
     "status": "completed"
    },
    "tags": [
     "parameters"
    ]
   },
   "outputs": [],
   "source": [
    "# - During automated runs parameters will be injected in the below cell -"
   ]
  },
  {
   "cell_type": "code",
   "execution_count": 3,
   "id": "21524624",
   "metadata": {
    "execution": {
     "iopub.execute_input": "2022-07-15T06:47:23.224325Z",
     "iopub.status.busy": "2022-07-15T06:47:23.224118Z",
     "iopub.status.idle": "2022-07-15T06:47:23.228407Z",
     "shell.execute_reply": "2022-07-15T06:47:23.227918Z"
    },
    "papermill": {
     "duration": 0.010384,
     "end_time": "2022-07-15T06:47:23.231087",
     "exception": false,
     "start_time": "2022-07-15T06:47:23.220703",
     "status": "completed"
    },
    "tags": [
     "injected-parameters"
    ]
   },
   "outputs": [],
   "source": [
    "# Parameters\n",
    "P = {\n",
    "    \"pipeline.data_lake_root\": \"/pipeline-outputs/data-lake\",\n",
    "    \"pipeline.run_environment\": \"ci\",\n",
    "    \"pipeline.pipeline_run_id\": \"8c5f68ab-4954-4919-9b60-71ba0cf49a23\",\n",
    "    \"pipeline.github.repository\": \"pynb-dag-runner/mnist-digits-demo-pipeline\",\n",
    "    \"pipeline.github.workflow\": \"Run automated tests, pipeline and deploy results to static reporting site\",\n",
    "    \"pipeline.github.runner_name\": \"Hosted Agent\",\n",
    "    \"pipeline.github.run_id\": \"2675107270\",\n",
    "    \"pipeline.github.actor\": \"matiasdahl\",\n",
    "    \"pipeline.github.job\": \"run-tests-pipeline-and-persist-pipeline-outputs\",\n",
    "    \"pipeline.github.base_ref\": \"\",\n",
    "    \"pipeline.github.head_ref\": \"\",\n",
    "    \"pipeline.github.sha\": \"147a1be9916173fd4d2cd011d8d51e3411215850\",\n",
    "    \"pipeline.github.ref\": \"refs/heads/development\",\n",
    "    \"pipeline.github.ref_type\": \"branch\",\n",
    "    \"pipeline.github.ref_name\": \"development\",\n",
    "    \"pipeline.github.event_name\": \"schedule\",\n",
    "    \"task.train_test_ratio\": 0.7,\n",
    "    \"task.notebook\": \"notebooks/split-train-test.py\",\n",
    "    \"task.max_nr_retries\": \"1\",\n",
    "    \"run.retry_nr\": \"0\",\n",
    "    \"task.timeout_s\": \"None\",\n",
    "    \"task.num_cpus\": 1,\n",
    "    \"_opentelemetry_traceparent\": \"00-fb678ccd790c7800a08656a888971846-4d1e5d9b473dd414-01\",\n",
    "}\n"
   ]
  },
  {
   "cell_type": "code",
   "execution_count": 4,
   "id": "101ab319",
   "metadata": {
    "execution": {
     "iopub.execute_input": "2022-07-15T06:47:23.236901Z",
     "iopub.status.busy": "2022-07-15T06:47:23.236700Z",
     "iopub.status.idle": "2022-07-15T06:47:23.239471Z",
     "shell.execute_reply": "2022-07-15T06:47:23.238785Z"
    },
    "lines_to_next_cell": 0,
    "papermill": {
     "duration": 0.008193,
     "end_time": "2022-07-15T06:47:23.241848",
     "exception": false,
     "start_time": "2022-07-15T06:47:23.233655",
     "status": "completed"
    },
    "tags": []
   },
   "outputs": [],
   "source": [
    "# -----------------------------------------------------------------------"
   ]
  },
  {
   "cell_type": "markdown",
   "id": "9d109858",
   "metadata": {
    "papermill": {
     "duration": 0.002326,
     "end_time": "2022-07-15T06:47:23.246976",
     "exception": false,
     "start_time": "2022-07-15T06:47:23.244650",
     "status": "completed"
    },
    "tags": []
   },
   "source": [
    "---"
   ]
  },
  {
   "cell_type": "markdown",
   "id": "0dbc3c8e",
   "metadata": {
    "lines_to_next_cell": 2,
    "papermill": {
     "duration": 0.002471,
     "end_time": "2022-07-15T06:47:23.251921",
     "exception": false,
     "start_time": "2022-07-15T06:47:23.249450",
     "status": "completed"
    },
    "tags": []
   },
   "source": [
    "### Notebook code"
   ]
  },
  {
   "cell_type": "code",
   "execution_count": 5,
   "id": "e3b121c8",
   "metadata": {
    "execution": {
     "iopub.execute_input": "2022-07-15T06:47:23.258139Z",
     "iopub.status.busy": "2022-07-15T06:47:23.257919Z",
     "iopub.status.idle": "2022-07-15T06:47:23.767395Z",
     "shell.execute_reply": "2022-07-15T06:47:23.766764Z"
    },
    "papermill": {
     "duration": 0.514778,
     "end_time": "2022-07-15T06:47:23.769263",
     "exception": false,
     "start_time": "2022-07-15T06:47:23.254485",
     "status": "completed"
    },
    "tags": []
   },
   "outputs": [
    {
     "name": "stderr",
     "output_type": "stream",
     "text": [
      "2022-07-15 06:47:23,594\tINFO worker.py:842 -- Connecting to existing Ray cluster at address: 172.17.0.2:6379\n"
     ]
    }
   ],
   "source": [
    "from common.io import datalake_root, read_numpy, write_numpy\n",
    "from pynb_dag_runner.tasks.task_opentelemetry_logging import PydarLogger\n",
    "\n",
    "logger = PydarLogger(P)"
   ]
  },
  {
   "cell_type": "markdown",
   "id": "31846a33",
   "metadata": {
    "papermill": {
     "duration": 0.002736,
     "end_time": "2022-07-15T06:47:23.775209",
     "exception": false,
     "start_time": "2022-07-15T06:47:23.772473",
     "status": "completed"
    },
    "tags": []
   },
   "source": [
    "## Load and split digits data"
   ]
  },
  {
   "cell_type": "code",
   "execution_count": 6,
   "id": "7a8c88e0",
   "metadata": {
    "execution": {
     "iopub.execute_input": "2022-07-15T06:47:23.782199Z",
     "iopub.status.busy": "2022-07-15T06:47:23.781899Z",
     "iopub.status.idle": "2022-07-15T06:47:23.786622Z",
     "shell.execute_reply": "2022-07-15T06:47:23.786093Z"
    },
    "papermill": {
     "duration": 0.011198,
     "end_time": "2022-07-15T06:47:23.789231",
     "exception": false,
     "start_time": "2022-07-15T06:47:23.778033",
     "status": "completed"
    },
    "tags": []
   },
   "outputs": [],
   "source": [
    "X = read_numpy(datalake_root(P) / \"raw\" / \"digits.numpy\")\n",
    "y = read_numpy(datalake_root(P) / \"raw\" / \"labels.numpy\")"
   ]
  },
  {
   "cell_type": "code",
   "execution_count": 7,
   "id": "5cb422e2",
   "metadata": {
    "execution": {
     "iopub.execute_input": "2022-07-15T06:47:23.795906Z",
     "iopub.status.busy": "2022-07-15T06:47:23.795631Z",
     "iopub.status.idle": "2022-07-15T06:47:24.207389Z",
     "shell.execute_reply": "2022-07-15T06:47:24.206817Z"
    },
    "papermill": {
     "duration": 0.417118,
     "end_time": "2022-07-15T06:47:24.209429",
     "exception": false,
     "start_time": "2022-07-15T06:47:23.792311",
     "status": "completed"
    },
    "tags": []
   },
   "outputs": [],
   "source": [
    "from sklearn.model_selection import train_test_split\n",
    "\n",
    "X_train, X_test, y_train, y_test = train_test_split(\n",
    "    X,\n",
    "    y,\n",
    "    train_size=P[\"task.train_test_ratio\"],\n",
    "    test_size=None,\n",
    "    stratify=y,\n",
    "    shuffle=True,\n",
    "    random_state=1,\n",
    ")\n",
    "\n",
    "# assert nr of pixels per image is the same for all image vectors\n",
    "assert X.shape[1] == X_train.shape[1] == X_test.shape[1]\n",
    "\n",
    "# assert that the (X, y)-pairs have compatible sizes (for both train and test)\n",
    "assert X_train.shape[0] == len(y_train)\n",
    "assert X_test.shape[0] == len(y_test)\n",
    "\n",
    "# assert that all data is used\n",
    "assert len(y) == len(y_train) + len(y_test)"
   ]
  },
  {
   "cell_type": "code",
   "execution_count": 8,
   "id": "ec17cd2b",
   "metadata": {
    "execution": {
     "iopub.execute_input": "2022-07-15T06:47:24.218722Z",
     "iopub.status.busy": "2022-07-15T06:47:24.218209Z",
     "iopub.status.idle": "2022-07-15T06:47:24.230220Z",
     "shell.execute_reply": "2022-07-15T06:47:24.229656Z"
    },
    "papermill": {
     "duration": 0.019752,
     "end_time": "2022-07-15T06:47:24.232081",
     "exception": false,
     "start_time": "2022-07-15T06:47:24.212329",
     "status": "completed"
    },
    "tags": []
   },
   "outputs": [
    {
     "name": "stdout",
     "output_type": "stream",
     "text": [
      " - Logging nr_digits_train (int) : 1257\n",
      " - Logging nr_digits_test (int) : 540\n"
     ]
    }
   ],
   "source": [
    "logger.log_int(\"nr_digits_train\", len(y_train))\n",
    "logger.log_int(\"nr_digits_test\", len(y_test))"
   ]
  },
  {
   "cell_type": "markdown",
   "id": "0ed405bb",
   "metadata": {
    "papermill": {
     "duration": 0.003213,
     "end_time": "2022-07-15T06:47:24.238216",
     "exception": false,
     "start_time": "2022-07-15T06:47:24.235003",
     "status": "completed"
    },
    "tags": []
   },
   "source": [
    "### Persist training and test data sets to separate files"
   ]
  },
  {
   "cell_type": "code",
   "execution_count": 9,
   "id": "52e1f999",
   "metadata": {
    "execution": {
     "iopub.execute_input": "2022-07-15T06:47:24.244800Z",
     "iopub.status.busy": "2022-07-15T06:47:24.244546Z",
     "iopub.status.idle": "2022-07-15T06:47:24.250630Z",
     "shell.execute_reply": "2022-07-15T06:47:24.250012Z"
    },
    "papermill": {
     "duration": 0.012337,
     "end_time": "2022-07-15T06:47:24.253113",
     "exception": false,
     "start_time": "2022-07-15T06:47:24.240776",
     "status": "completed"
    },
    "tags": []
   },
   "outputs": [],
   "source": [
    "write_numpy(datalake_root(P) / \"train-data\" / \"digits.numpy\", X_train)\n",
    "write_numpy(datalake_root(P) / \"train-data\" / \"labels.numpy\", y_train)\n",
    "\n",
    "#\n",
    "write_numpy(datalake_root(P) / \"test-data\" / \"digits.numpy\", X_test)\n",
    "write_numpy(datalake_root(P) / \"test-data\" / \"labels.numpy\", y_test)"
   ]
  },
  {
   "cell_type": "code",
   "execution_count": null,
   "id": "474127ee",
   "metadata": {
    "papermill": {
     "duration": 0.002557,
     "end_time": "2022-07-15T06:47:24.259410",
     "exception": false,
     "start_time": "2022-07-15T06:47:24.256853",
     "status": "completed"
    },
    "tags": []
   },
   "outputs": [],
   "source": []
  }
 ],
 "metadata": {
  "jupytext": {
   "cell_metadata_filter": "tags,-all",
   "main_language": "python",
   "notebook_metadata_filter": "-all"
  },
  "language_info": {
   "codemirror_mode": {
    "name": "ipython",
    "version": 3
   },
   "file_extension": ".py",
   "mimetype": "text/x-python",
   "name": "python",
   "nbconvert_exporter": "python",
   "pygments_lexer": "ipython3",
   "version": "3.8.10"
  },
  "papermill": {
   "default_parameters": {},
   "duration": 3.194338,
   "end_time": "2022-07-15T06:47:25.184890",
   "environment_variables": {},
   "exception": null,
   "input_path": "/home/host_user/workspace/mnist-demo-pipeline/mnist-demo-pipeline/notebooks/temp-notebook-39k47pi6.ipynb",
   "output_path": "notebooks/split-train-test.ipynb",
   "parameters": {
    "P": {
     "_opentelemetry_traceparent": "00-fb678ccd790c7800a08656a888971846-4d1e5d9b473dd414-01",
     "pipeline.data_lake_root": "/pipeline-outputs/data-lake",
     "pipeline.github.actor": "matiasdahl",
     "pipeline.github.base_ref": "",
     "pipeline.github.event_name": "schedule",
     "pipeline.github.head_ref": "",
     "pipeline.github.job": "run-tests-pipeline-and-persist-pipeline-outputs",
     "pipeline.github.ref": "refs/heads/development",
     "pipeline.github.ref_name": "development",
     "pipeline.github.ref_type": "branch",
     "pipeline.github.repository": "pynb-dag-runner/mnist-digits-demo-pipeline",
     "pipeline.github.run_id": "2675107270",
     "pipeline.github.runner_name": "Hosted Agent",
     "pipeline.github.sha": "147a1be9916173fd4d2cd011d8d51e3411215850",
     "pipeline.github.workflow": "Run automated tests, pipeline and deploy results to static reporting site",
     "pipeline.pipeline_run_id": "8c5f68ab-4954-4919-9b60-71ba0cf49a23",
     "pipeline.run_environment": "ci",
     "run.retry_nr": "0",
     "task.max_nr_retries": "1",
     "task.notebook": "notebooks/split-train-test.py",
     "task.num_cpus": 1,
     "task.timeout_s": "None",
     "task.train_test_ratio": 0.7
    }
   },
   "start_time": "2022-07-15T06:47:21.990552",
   "version": "2.3.3"
  }
 },
 "nbformat": 4,
 "nbformat_minor": 5
}