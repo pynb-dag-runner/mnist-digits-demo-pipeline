{
 "cells": [
  {
   "cell_type": "markdown",
   "id": "69f0ebaf",
   "metadata": {
    "papermill": {
     "duration": 0.005531,
     "end_time": "2022-07-15T06:47:53.863124",
     "exception": false,
     "start_time": "2022-07-15T06:47:53.857593",
     "status": "completed"
    },
    "tags": []
   },
   "source": [
    "# Benchmark model\n",
    "\n",
    "The purpose of this notebook is to benchmark persisted onnx-model (trained in the\n",
    "previous step) against evaluation set."
   ]
  },
  {
   "cell_type": "markdown",
   "id": "51d8624b",
   "metadata": {
    "papermill": {
     "duration": 0.003868,
     "end_time": "2022-07-15T06:47:53.872390",
     "exception": false,
     "start_time": "2022-07-15T06:47:53.868522",
     "status": "completed"
    },
    "tags": []
   },
   "source": [
    "### Determine run parameters"
   ]
  },
  {
   "cell_type": "code",
   "execution_count": 1,
   "id": "8b8b3646",
   "metadata": {
    "execution": {
     "iopub.execute_input": "2022-07-15T06:47:53.885855Z",
     "iopub.status.busy": "2022-07-15T06:47:53.885559Z",
     "iopub.status.idle": "2022-07-15T06:47:53.893397Z",
     "shell.execute_reply": "2022-07-15T06:47:53.892812Z"
    },
    "lines_to_next_cell": 0,
    "papermill": {
     "duration": 0.015237,
     "end_time": "2022-07-15T06:47:53.895243",
     "exception": false,
     "start_time": "2022-07-15T06:47:53.880006",
     "status": "completed"
    },
    "tags": []
   },
   "outputs": [],
   "source": [
    "# ----------------- Parameters for interactive development --------------\n",
    "P = {\n",
    "    \"pipeline.data_lake_root\": \"/pipeline-outputs/data-lake\",\n",
    "    \"task.nr_train_images\": 600,\n",
    "}"
   ]
  },
  {
   "cell_type": "code",
   "execution_count": 2,
   "id": "f1bb0a8f",
   "metadata": {
    "execution": {
     "iopub.execute_input": "2022-07-15T06:47:53.904206Z",
     "iopub.status.busy": "2022-07-15T06:47:53.903998Z",
     "iopub.status.idle": "2022-07-15T06:47:53.906678Z",
     "shell.execute_reply": "2022-07-15T06:47:53.906197Z"
    },
    "lines_to_next_cell": 0,
    "papermill": {
     "duration": 0.009677,
     "end_time": "2022-07-15T06:47:53.909049",
     "exception": false,
     "start_time": "2022-07-15T06:47:53.899372",
     "status": "completed"
    },
    "tags": [
     "parameters"
    ]
   },
   "outputs": [],
   "source": [
    "# - During automated runs parameters will be injected in the below cell -"
   ]
  },
  {
   "cell_type": "code",
   "execution_count": 3,
   "id": "602e780b",
   "metadata": {
    "execution": {
     "iopub.execute_input": "2022-07-15T06:47:53.917996Z",
     "iopub.status.busy": "2022-07-15T06:47:53.917793Z",
     "iopub.status.idle": "2022-07-15T06:47:53.922004Z",
     "shell.execute_reply": "2022-07-15T06:47:53.921528Z"
    },
    "papermill": {
     "duration": 0.011341,
     "end_time": "2022-07-15T06:47:53.924430",
     "exception": false,
     "start_time": "2022-07-15T06:47:53.913089",
     "status": "completed"
    },
    "tags": [
     "injected-parameters"
    ]
   },
   "outputs": [],
   "source": [
    "# Parameters\n",
    "P = {\n",
    "    \"pipeline.data_lake_root\": \"/pipeline-outputs/data-lake\",\n",
    "    \"pipeline.run_environment\": \"ci\",\n",
    "    \"pipeline.pipeline_run_id\": \"8c5f68ab-4954-4919-9b60-71ba0cf49a23\",\n",
    "    \"pipeline.github.repository\": \"pynb-dag-runner/mnist-digits-demo-pipeline\",\n",
    "    \"pipeline.github.workflow\": \"Run automated tests, pipeline and deploy results to static reporting site\",\n",
    "    \"pipeline.github.runner_name\": \"Hosted Agent\",\n",
    "    \"pipeline.github.run_id\": \"2675107270\",\n",
    "    \"pipeline.github.actor\": \"matiasdahl\",\n",
    "    \"pipeline.github.job\": \"run-tests-pipeline-and-persist-pipeline-outputs\",\n",
    "    \"pipeline.github.base_ref\": \"\",\n",
    "    \"pipeline.github.head_ref\": \"\",\n",
    "    \"pipeline.github.sha\": \"147a1be9916173fd4d2cd011d8d51e3411215850\",\n",
    "    \"pipeline.github.ref\": \"refs/heads/development\",\n",
    "    \"pipeline.github.ref_type\": \"branch\",\n",
    "    \"pipeline.github.ref_name\": \"development\",\n",
    "    \"pipeline.github.event_name\": \"schedule\",\n",
    "    \"task.nr_train_images\": 1200,\n",
    "    \"task.notebook\": \"notebooks/benchmark-model.py\",\n",
    "    \"task.max_nr_retries\": \"1\",\n",
    "    \"run.retry_nr\": \"0\",\n",
    "    \"task.timeout_s\": \"None\",\n",
    "    \"task.num_cpus\": 1,\n",
    "    \"_opentelemetry_traceparent\": \"00-fb678ccd790c7800a08656a888971846-9b9e8f797c091c81-01\",\n",
    "}\n"
   ]
  },
  {
   "cell_type": "code",
   "execution_count": 4,
   "id": "77180472",
   "metadata": {
    "execution": {
     "iopub.execute_input": "2022-07-15T06:47:53.933017Z",
     "iopub.status.busy": "2022-07-15T06:47:53.932806Z",
     "iopub.status.idle": "2022-07-15T06:47:53.935479Z",
     "shell.execute_reply": "2022-07-15T06:47:53.934971Z"
    },
    "lines_to_next_cell": 0,
    "papermill": {
     "duration": 0.009448,
     "end_time": "2022-07-15T06:47:53.937654",
     "exception": false,
     "start_time": "2022-07-15T06:47:53.928206",
     "status": "completed"
    },
    "tags": []
   },
   "outputs": [],
   "source": [
    "# -----------------------------------------------------------------------"
   ]
  },
  {
   "cell_type": "markdown",
   "id": "9042c655",
   "metadata": {
    "papermill": {
     "duration": 0.005094,
     "end_time": "2022-07-15T06:47:53.946626",
     "exception": false,
     "start_time": "2022-07-15T06:47:53.941532",
     "status": "completed"
    },
    "tags": []
   },
   "source": [
    "---"
   ]
  },
  {
   "cell_type": "markdown",
   "id": "ffaef7c7",
   "metadata": {
    "lines_to_next_cell": 2,
    "papermill": {
     "duration": 0.003904,
     "end_time": "2022-07-15T06:47:53.954444",
     "exception": false,
     "start_time": "2022-07-15T06:47:53.950540",
     "status": "completed"
    },
    "tags": []
   },
   "source": [
    "### Notebook code"
   ]
  },
  {
   "cell_type": "code",
   "execution_count": 5,
   "id": "89342d2c",
   "metadata": {
    "execution": {
     "iopub.execute_input": "2022-07-15T06:47:53.964306Z",
     "iopub.status.busy": "2022-07-15T06:47:53.964100Z",
     "iopub.status.idle": "2022-07-15T06:47:55.072113Z",
     "shell.execute_reply": "2022-07-15T06:47:55.071383Z"
    },
    "papermill": {
     "duration": 1.114774,
     "end_time": "2022-07-15T06:47:55.074212",
     "exception": false,
     "start_time": "2022-07-15T06:47:53.959438",
     "status": "completed"
    },
    "tags": []
   },
   "outputs": [
    {
     "name": "stderr",
     "output_type": "stream",
     "text": [
      "2022-07-15 06:47:54,891\tINFO worker.py:842 -- Connecting to existing Ray cluster at address: 172.17.0.2:6379\n"
     ]
    }
   ],
   "source": [
    "import itertools as it\n",
    "\n",
    "#\n",
    "import numpy as np\n",
    "import matplotlib.pyplot as plt\n",
    "\n",
    "#\n",
    "from pynb_dag_runner.tasks.task_opentelemetry_logging import PydarLogger\n",
    "\n",
    "#\n",
    "from common.io import datalake_root\n",
    "\n",
    "logger = PydarLogger(P)"
   ]
  },
  {
   "cell_type": "markdown",
   "id": "fb7f3f97",
   "metadata": {
    "papermill": {
     "duration": 0.004901,
     "end_time": "2022-07-15T06:47:55.084122",
     "exception": false,
     "start_time": "2022-07-15T06:47:55.079221",
     "status": "completed"
    },
    "tags": []
   },
   "source": [
    "## Load persisted onnx-model and evaluation data"
   ]
  },
  {
   "cell_type": "code",
   "execution_count": 6,
   "id": "178df9a7",
   "metadata": {
    "execution": {
     "iopub.execute_input": "2022-07-15T06:47:55.094811Z",
     "iopub.status.busy": "2022-07-15T06:47:55.094493Z",
     "iopub.status.idle": "2022-07-15T06:47:55.098250Z",
     "shell.execute_reply": "2022-07-15T06:47:55.097582Z"
    },
    "papermill": {
     "duration": 0.011658,
     "end_time": "2022-07-15T06:47:55.100186",
     "exception": false,
     "start_time": "2022-07-15T06:47:55.088528",
     "status": "completed"
    },
    "tags": []
   },
   "outputs": [],
   "source": [
    "from common.io import read_onnx, get_onnx_inputs, get_onnx_outputs, read_numpy"
   ]
  },
  {
   "cell_type": "code",
   "execution_count": 7,
   "id": "58794f87",
   "metadata": {
    "execution": {
     "iopub.execute_input": "2022-07-15T06:47:55.110329Z",
     "iopub.status.busy": "2022-07-15T06:47:55.110039Z",
     "iopub.status.idle": "2022-07-15T06:47:55.120989Z",
     "shell.execute_reply": "2022-07-15T06:47:55.120321Z"
    },
    "lines_to_next_cell": 0,
    "papermill": {
     "duration": 0.017684,
     "end_time": "2022-07-15T06:47:55.122700",
     "exception": false,
     "start_time": "2022-07-15T06:47:55.105016",
     "status": "completed"
    },
    "tags": []
   },
   "outputs": [],
   "source": [
    "onnx_inference_session = read_onnx(\n",
    "    datalake_root(P)\n",
    "    / \"models\"\n",
    "    / f\"nr_train_images={P['task.nr_train_images']}\"\n",
    "    / \"model.onnx\"\n",
    ")"
   ]
  },
  {
   "cell_type": "markdown",
   "id": "e1116401",
   "metadata": {
    "papermill": {
     "duration": 0.004801,
     "end_time": "2022-07-15T06:47:55.132062",
     "exception": false,
     "start_time": "2022-07-15T06:47:55.127261",
     "status": "completed"
    },
    "tags": []
   },
   "source": [
    "### Record structure of inputs and outputs for ONNX model\n",
    "\n",
    "(this should likely be done in training notebook)"
   ]
  },
  {
   "cell_type": "code",
   "execution_count": 8,
   "id": "3f7612a3",
   "metadata": {
    "execution": {
     "iopub.execute_input": "2022-07-15T06:47:55.142070Z",
     "iopub.status.busy": "2022-07-15T06:47:55.141557Z",
     "iopub.status.idle": "2022-07-15T06:47:55.147983Z",
     "shell.execute_reply": "2022-07-15T06:47:55.147343Z"
    },
    "papermill": {
     "duration": 0.014161,
     "end_time": "2022-07-15T06:47:55.150590",
     "exception": false,
     "start_time": "2022-07-15T06:47:55.136429",
     "status": "completed"
    },
    "tags": []
   },
   "outputs": [
    {
     "name": "stdout",
     "output_type": "stream",
     "text": [
      "{\n",
      "  \"inputs\": [\n",
      "    {\n",
      "      \"name\": \"float_input_8x8_image\",\n",
      "      \"shape\": [\n",
      "        null,\n",
      "        64\n",
      "      ],\n",
      "      \"type\": \"tensor(float)\"\n",
      "    }\n",
      "  ],\n",
      "  \"outputs\": [\n",
      "    {\n",
      "      \"name\": \"output_label\",\n",
      "      \"shape\": [\n",
      "        null\n",
      "      ],\n",
      "      \"type\": \"tensor(int64)\"\n",
      "    },\n",
      "    {\n",
      "      \"name\": \"output_probability\",\n",
      "      \"shape\": [],\n",
      "      \"type\": \"seq(map(int64,tensor(float)))\"\n",
      "    }\n",
      "  ]\n",
      "}\n"
     ]
    }
   ],
   "source": [
    "import json\n",
    "\n",
    "onnx_io = json.dumps(\n",
    "    {\n",
    "        \"inputs\": get_onnx_inputs(onnx_inference_session),\n",
    "        \"outputs\": get_onnx_outputs(onnx_inference_session),\n",
    "    },\n",
    "    indent=2,\n",
    ")\n",
    "\n",
    "\n",
    "logger.log_artefact(\"onnx_io_structure.json\", onnx_io)\n",
    "print(onnx_io)"
   ]
  },
  {
   "cell_type": "markdown",
   "id": "8f37a9a1",
   "metadata": {
    "papermill": {
     "duration": 0.004659,
     "end_time": "2022-07-15T06:47:55.159942",
     "exception": false,
     "start_time": "2022-07-15T06:47:55.155283",
     "status": "completed"
    },
    "tags": []
   },
   "source": [
    "### Evaluate model performance on evaluation data set"
   ]
  },
  {
   "cell_type": "code",
   "execution_count": 9,
   "id": "d8d44443",
   "metadata": {
    "execution": {
     "iopub.execute_input": "2022-07-15T06:47:55.170238Z",
     "iopub.status.busy": "2022-07-15T06:47:55.169996Z",
     "iopub.status.idle": "2022-07-15T06:47:55.175081Z",
     "shell.execute_reply": "2022-07-15T06:47:55.174449Z"
    },
    "papermill": {
     "duration": 0.012234,
     "end_time": "2022-07-15T06:47:55.177127",
     "exception": false,
     "start_time": "2022-07-15T06:47:55.164893",
     "status": "completed"
    },
    "tags": []
   },
   "outputs": [],
   "source": [
    "# load evaluation data\n",
    "X_test = read_numpy(datalake_root(P) / \"test-data\" / \"digits.numpy\")\n",
    "y_test = read_numpy(datalake_root(P) / \"test-data\" / \"labels.numpy\")"
   ]
  },
  {
   "cell_type": "code",
   "execution_count": 10,
   "id": "5f6a0d4d",
   "metadata": {
    "execution": {
     "iopub.execute_input": "2022-07-15T06:47:55.189527Z",
     "iopub.status.busy": "2022-07-15T06:47:55.189157Z",
     "iopub.status.idle": "2022-07-15T06:47:55.203697Z",
     "shell.execute_reply": "2022-07-15T06:47:55.203170Z"
    },
    "papermill": {
     "duration": 0.023582,
     "end_time": "2022-07-15T06:47:55.205161",
     "exception": false,
     "start_time": "2022-07-15T06:47:55.181579",
     "status": "completed"
    },
    "tags": []
   },
   "outputs": [],
   "source": [
    "def get_model_outputs(X, onnx_inference_session):\n",
    "    y_pred_labels, y_pred_map = onnx_inference_session.run(\n",
    "        [\"output_label\", \"output_probability\"],\n",
    "        {\"float_input_8x8_image\": X.astype(np.float32)},\n",
    "    )\n",
    "    y_pred_probs = np.array(\n",
    "        [[probabilities[digit] for digit in range(10)] for probabilities in y_pred_map]\n",
    "    )\n",
    "\n",
    "    assert y_pred_labels.shape == (X.shape[0],)\n",
    "    assert y_pred_probs.shape == (X.shape[0], 10)\n",
    "\n",
    "    return y_pred_labels, y_pred_probs\n",
    "\n",
    "\n",
    "# Note: as shown in the training notebook, the predicted labels and probabilities\n",
    "# computed below need not be compatible.\n",
    "y_pred_labels_test, y_pred_probs_test = get_model_outputs(\n",
    "    X_test, onnx_inference_session\n",
    ")"
   ]
  },
  {
   "cell_type": "markdown",
   "id": "93c573f9",
   "metadata": {
    "papermill": {
     "duration": 0.007963,
     "end_time": "2022-07-15T06:47:55.217783",
     "exception": false,
     "start_time": "2022-07-15T06:47:55.209820",
     "status": "completed"
    },
    "tags": []
   },
   "source": [
    "### Confusion matrix"
   ]
  },
  {
   "cell_type": "code",
   "execution_count": 11,
   "id": "fe265729",
   "metadata": {
    "execution": {
     "iopub.execute_input": "2022-07-15T06:47:55.228033Z",
     "iopub.status.busy": "2022-07-15T06:47:55.227665Z",
     "iopub.status.idle": "2022-07-15T06:47:55.230737Z",
     "shell.execute_reply": "2022-07-15T06:47:55.230180Z"
    },
    "papermill": {
     "duration": 0.011913,
     "end_time": "2022-07-15T06:47:55.234078",
     "exception": false,
     "start_time": "2022-07-15T06:47:55.222165",
     "status": "completed"
    },
    "tags": []
   },
   "outputs": [],
   "source": [
    "# TODO"
   ]
  },
  {
   "cell_type": "markdown",
   "id": "bc058323",
   "metadata": {
    "papermill": {
     "duration": 0.004553,
     "end_time": "2022-07-15T06:47:55.243105",
     "exception": false,
     "start_time": "2022-07-15T06:47:55.238552",
     "status": "completed"
    },
    "tags": []
   },
   "source": [
    "### Plot predicted probabilities for each classifier over all evaluation digit images"
   ]
  },
  {
   "cell_type": "code",
   "execution_count": 12,
   "id": "e4d4294d",
   "metadata": {
    "execution": {
     "iopub.execute_input": "2022-07-15T06:47:55.253391Z",
     "iopub.status.busy": "2022-07-15T06:47:55.253159Z",
     "iopub.status.idle": "2022-07-15T06:47:58.170084Z",
     "shell.execute_reply": "2022-07-15T06:47:58.169406Z"
    },
    "papermill": {
     "duration": 2.924134,
     "end_time": "2022-07-15T06:47:58.171610",
     "exception": false,
     "start_time": "2022-07-15T06:47:55.247476",
     "status": "completed"
    },
    "tags": []
   },
   "outputs": [
    {
     "data": {
      "image/png": "[encoded data removed]",
      "text/plain": [
       "<Figure size 1152x432 with 10 Axes>"
      ]
     },
     "metadata": {
      "needs_background": "light"
     },
     "output_type": "display_data"
    }
   ],
   "source": [
    "def plot_per_digit_probabilities(y_pred_probs):\n",
    "    fig, axs = plt.subplots(nrows=2, ncols=5, figsize=(16, 6))\n",
    "\n",
    "    for (r, c), digit, ax in zip(\n",
    "        it.product(range(2), range(5)), range(10), axs.reshape(-1)\n",
    "    ):\n",
    "        ax.hist(y_pred_probs_test[:, digit], bins=20)\n",
    "\n",
    "        ax.set_title(f\"Digit {digit}\")\n",
    "        if r == 1 and c == 2:\n",
    "            ax.set_xlabel(\"probability\", fontsize=16)\n",
    "\n",
    "        if c == 0:\n",
    "            ax.set_ylabel(\"counts\", fontsize=16)\n",
    "        ax.set_yscale(\"log\")\n",
    "\n",
    "    fig.tight_layout()\n",
    "    fig.suptitle(\n",
    "        f\"Distributions of prediction probabilities for each digit \"\n",
    "        f\"(on evaluation data, n={y_pred_probs.shape[0]})\",\n",
    "        fontsize=20,\n",
    "    )\n",
    "    fig.tight_layout()\n",
    "    fig.show()\n",
    "\n",
    "    return fig\n",
    "\n",
    "\n",
    "fig = plot_per_digit_probabilities(y_pred_probs_test)"
   ]
  },
  {
   "cell_type": "markdown",
   "id": "a959b6c1",
   "metadata": {
    "papermill": {
     "duration": 0.004691,
     "end_time": "2022-07-15T06:47:58.181878",
     "exception": false,
     "start_time": "2022-07-15T06:47:58.177187",
     "status": "completed"
    },
    "tags": []
   },
   "source": [
    "From the above distributions we see that most digits have clear separation between\n",
    "high and lower probabilities. Morover, in each case there is roughly an order of\n",
    "magnitude more of digits with low probabilities. This is compatible with digits\n",
    "being roughly evenly distributed in the data."
   ]
  },
  {
   "cell_type": "code",
   "execution_count": 13,
   "id": "9e0a526f",
   "metadata": {
    "execution": {
     "iopub.execute_input": "2022-07-15T06:47:58.193130Z",
     "iopub.status.busy": "2022-07-15T06:47:58.192867Z",
     "iopub.status.idle": "2022-07-15T06:47:58.580283Z",
     "shell.execute_reply": "2022-07-15T06:47:58.579620Z"
    },
    "papermill": {
     "duration": 0.395658,
     "end_time": "2022-07-15T06:47:58.582346",
     "exception": false,
     "start_time": "2022-07-15T06:47:58.186688",
     "status": "completed"
    },
    "tags": []
   },
   "outputs": [],
   "source": [
    "logger.log_figure(\"per-digit-probabilities.png\", fig)"
   ]
  },
  {
   "cell_type": "markdown",
   "id": "655d13bb",
   "metadata": {
    "papermill": {
     "duration": 0.005107,
     "end_time": "2022-07-15T06:47:58.593228",
     "exception": false,
     "start_time": "2022-07-15T06:47:58.588121",
     "status": "completed"
    },
    "tags": []
   },
   "source": [
    "### Plot ROC curves for individual one-vs-rest classifiers"
   ]
  },
  {
   "cell_type": "code",
   "execution_count": 14,
   "id": "a0158743",
   "metadata": {
    "execution": {
     "iopub.execute_input": "2022-07-15T06:47:58.604235Z",
     "iopub.status.busy": "2022-07-15T06:47:58.603790Z",
     "iopub.status.idle": "2022-07-15T06:47:58.940727Z",
     "shell.execute_reply": "2022-07-15T06:47:58.940094Z"
    },
    "papermill": {
     "duration": 0.344076,
     "end_time": "2022-07-15T06:47:58.942438",
     "exception": false,
     "start_time": "2022-07-15T06:47:58.598362",
     "status": "completed"
    },
    "tags": []
   },
   "outputs": [],
   "source": [
    "from sklearn import metrics"
   ]
  },
  {
   "cell_type": "code",
   "execution_count": 15,
   "id": "635138f3",
   "metadata": {
    "execution": {
     "iopub.execute_input": "2022-07-15T06:47:58.954107Z",
     "iopub.status.busy": "2022-07-15T06:47:58.953572Z",
     "iopub.status.idle": "2022-07-15T06:47:59.910945Z",
     "shell.execute_reply": "2022-07-15T06:47:59.910310Z"
    },
    "papermill": {
     "duration": 0.965045,
     "end_time": "2022-07-15T06:47:59.912485",
     "exception": false,
     "start_time": "2022-07-15T06:47:58.947440",
     "status": "completed"
    },
    "tags": []
   },
   "outputs": [
    {
     "data": {
      "image/png": "[encoded data removed]",
      "text/plain": [
       "<Figure size 1152x576 with 10 Axes>"
      ]
     },
     "metadata": {
      "needs_background": "light"
     },
     "output_type": "display_data"
    }
   ],
   "source": [
    "def plot_roc_curves(y, y_pred_probs):\n",
    "    # based on example code\n",
    "    # https://scikit-learn.org/stable/auto_examples/model_selection/plot_roc.html\n",
    "\n",
    "    fig, axs = plt.subplots(nrows=2, ncols=5, figsize=(16, 8))\n",
    "\n",
    "    roc_auc_dict = {}\n",
    "\n",
    "    for (r, c), digit, ax in zip(\n",
    "        it.product(range(2), range(5)), range(10), axs.reshape(-1)\n",
    "    ):\n",
    "        fpr, tpr, _ = metrics.roc_curve(y == digit, y_pred_probs[:, digit])\n",
    "        auc = metrics.auc(fpr, tpr)\n",
    "        roc_auc_dict[str(digit)] = auc\n",
    "\n",
    "        ax.plot(fpr, tpr, label=f\"ROC AUC={round(auc, 3)}\")\n",
    "\n",
    "        ax.set_title(f\"\\nDigit {digit}\", fontsize=16)\n",
    "        if r == 1:\n",
    "            ax.set_xlabel(\"FPR\", fontsize=18)\n",
    "\n",
    "        if c == 0:\n",
    "            ax.set_ylabel(\"TPR\", fontsize=18)\n",
    "\n",
    "        ax.set_xlim([-0.05, 1.05])\n",
    "        ax.set_ylim([-0.05, 1.05])\n",
    "        ax.legend(loc=\"lower right\", frameon=False, fontsize=14)\n",
    "\n",
    "    fig.tight_layout()\n",
    "    fig.suptitle(\n",
    "        f\"ROC plots for one-vs-rest performances \"\n",
    "        f\"(on evaluation data, n={y_pred_probs_test.shape[1]}\",\n",
    "        fontsize=22,\n",
    "    )\n",
    "    fig.tight_layout()\n",
    "    fig.show()\n",
    "\n",
    "    return roc_auc_dict, fig\n",
    "\n",
    "\n",
    "roc_auc_dict, fig = plot_roc_curves(y_test, y_pred_probs_test)"
   ]
  },
  {
   "cell_type": "code",
   "execution_count": 16,
   "id": "80bd1dea",
   "metadata": {
    "execution": {
     "iopub.execute_input": "2022-07-15T06:47:59.925177Z",
     "iopub.status.busy": "2022-07-15T06:47:59.924382Z",
     "iopub.status.idle": "2022-07-15T06:48:00.127704Z",
     "shell.execute_reply": "2022-07-15T06:48:00.127044Z"
    },
    "papermill": {
     "duration": 0.211307,
     "end_time": "2022-07-15T06:48:00.129444",
     "exception": false,
     "start_time": "2022-07-15T06:47:59.918137",
     "status": "completed"
    },
    "tags": []
   },
   "outputs": [],
   "source": [
    "logger.log_figure(\"per-digit-roc-curves.png\", fig)"
   ]
  },
  {
   "cell_type": "code",
   "execution_count": 17,
   "id": "67d564b9",
   "metadata": {
    "execution": {
     "iopub.execute_input": "2022-07-15T06:48:00.142004Z",
     "iopub.status.busy": "2022-07-15T06:48:00.141485Z",
     "iopub.status.idle": "2022-07-15T06:48:00.146098Z",
     "shell.execute_reply": "2022-07-15T06:48:00.145445Z"
    },
    "papermill": {
     "duration": 0.01366,
     "end_time": "2022-07-15T06:48:00.148845",
     "exception": false,
     "start_time": "2022-07-15T06:48:00.135185",
     "status": "completed"
    },
    "tags": []
   },
   "outputs": [
    {
     "data": {
      "text/plain": [
       "{'0': 1.0,\n",
       " '1': 0.999025304592315,\n",
       " '2': 1.0,\n",
       " '3': 0.9998500468603562,\n",
       " '4': 0.9997713763145861,\n",
       " '5': 0.9996626054358013,\n",
       " '6': 0.999923792104862,\n",
       " '7': 0.9998475842097242,\n",
       " '8': 0.9956651954602774,\n",
       " '9': 0.9997332723670171}"
      ]
     },
     "execution_count": 17,
     "metadata": {},
     "output_type": "execute_result"
    }
   ],
   "source": [
    "roc_auc_dict"
   ]
  },
  {
   "cell_type": "code",
   "execution_count": 18,
   "id": "bd3fb1e5",
   "metadata": {
    "execution": {
     "iopub.execute_input": "2022-07-15T06:48:00.161173Z",
     "iopub.status.busy": "2022-07-15T06:48:00.160950Z",
     "iopub.status.idle": "2022-07-15T06:48:00.164841Z",
     "shell.execute_reply": "2022-07-15T06:48:00.164295Z"
    },
    "papermill": {
     "duration": 0.011736,
     "end_time": "2022-07-15T06:48:00.166259",
     "exception": false,
     "start_time": "2022-07-15T06:48:00.154523",
     "status": "completed"
    },
    "tags": []
   },
   "outputs": [
    {
     "name": "stdout",
     "output_type": "stream",
     "text": [
      " - Logging roc_auc_per_digit (json) : {'0': 1.0, '1': 0.999025304592315, '2': 1.0, '3': 0.9998500468603562, '4': 0.9997713763145861, '5': 0.9996626054358013, '6': 0.999923792104862, '7': 0.9998475842097242, '8': 0.9956651954602774, '9': 0.9997332723670171}\n"
     ]
    }
   ],
   "source": [
    "logger.log_value(\"roc_auc_per_digit\", roc_auc_dict)"
   ]
  },
  {
   "cell_type": "markdown",
   "id": "633267e8",
   "metadata": {
    "papermill": {
     "duration": 0.005408,
     "end_time": "2022-07-15T06:48:00.176912",
     "exception": false,
     "start_time": "2022-07-15T06:48:00.171504",
     "status": "completed"
    },
    "tags": []
   },
   "source": [
    "### Compute and log mean ROC AUC score averaged over all digits"
   ]
  },
  {
   "cell_type": "code",
   "execution_count": 19,
   "id": "e636dea8",
   "metadata": {
    "execution": {
     "iopub.execute_input": "2022-07-15T06:48:00.189063Z",
     "iopub.status.busy": "2022-07-15T06:48:00.188630Z",
     "iopub.status.idle": "2022-07-15T06:48:00.202941Z",
     "shell.execute_reply": "2022-07-15T06:48:00.199846Z"
    },
    "papermill": {
     "duration": 0.02215,
     "end_time": "2022-07-15T06:48:00.204442",
     "exception": false,
     "start_time": "2022-07-15T06:48:00.182292",
     "status": "completed"
    },
    "tags": []
   },
   "outputs": [
    {
     "name": "stdout",
     "output_type": "stream",
     "text": [
      " - Logging roc_auc_class_mean (float) : 0.9993479177344939\n"
     ]
    }
   ],
   "source": [
    "roc_auc_macro = np.mean(list(roc_auc_dict.values()))\n",
    "\n",
    "logger.log_float(\"roc_auc_class_mean\", roc_auc_macro)\n",
    "\n",
    "# assert that the same value can be computed directly using sklearn\n",
    "assert roc_auc_macro == metrics.roc_auc_score(\n",
    "    y_test, y_pred_probs_test, average=\"macro\", multi_class=\"ovr\"\n",
    ")"
   ]
  },
  {
   "cell_type": "code",
   "execution_count": 20,
   "id": "58213f9a",
   "metadata": {
    "execution": {
     "iopub.execute_input": "2022-07-15T06:48:00.217722Z",
     "iopub.status.busy": "2022-07-15T06:48:00.217471Z",
     "iopub.status.idle": "2022-07-15T06:48:00.220458Z",
     "shell.execute_reply": "2022-07-15T06:48:00.219931Z"
    },
    "lines_to_next_cell": 0,
    "papermill": {
     "duration": 0.011121,
     "end_time": "2022-07-15T06:48:00.222028",
     "exception": false,
     "start_time": "2022-07-15T06:48:00.210907",
     "status": "completed"
    },
    "tags": []
   },
   "outputs": [],
   "source": [
    "# ---"
   ]
  },
  {
   "cell_type": "code",
   "execution_count": null,
   "id": "49c766ce",
   "metadata": {
    "papermill": {
     "duration": 0.005584,
     "end_time": "2022-07-15T06:48:00.233155",
     "exception": false,
     "start_time": "2022-07-15T06:48:00.227571",
     "status": "completed"
    },
    "tags": []
   },
   "outputs": [],
   "source": []
  }
 ],
 "metadata": {
  "jupytext": {
   "cell_metadata_filter": "tags,-all",
   "main_language": "python",
   "notebook_metadata_filter": "-all"
  },
  "language_info": {
   "codemirror_mode": {
    "name": "ipython",
    "version": 3
   },
   "file_extension": ".py",
   "mimetype": "text/x-python",
   "name": "python",
   "nbconvert_exporter": "python",
   "pygments_lexer": "ipython3",
   "version": "3.8.10"
  },
  "papermill": {
   "default_parameters": {},
   "duration": 8.763689,
   "end_time": "2022-07-15T06:48:01.257609",
   "environment_variables": {},
   "exception": null,
   "input_path": "/home/host_user/workspace/mnist-demo-pipeline/mnist-demo-pipeline/notebooks/temp-notebook-m79b9qyb.ipynb",
   "output_path": "notebooks/benchmark-model.ipynb",
   "parameters": {
    "P": {
     "_opentelemetry_traceparent": "00-fb678ccd790c7800a08656a888971846-9b9e8f797c091c81-01",
     "pipeline.data_lake_root": "/pipeline-outputs/data-lake",
     "pipeline.github.actor": "matiasdahl",
     "pipeline.github.base_ref": "",
     "pipeline.github.event_name": "schedule",
     "pipeline.github.head_ref": "",
     "pipeline.github.job": "run-tests-pipeline-and-persist-pipeline-outputs",
     "pipeline.github.ref": "refs/heads/development",
     "pipeline.github.ref_name": "development",
     "pipeline.github.ref_type": "branch",
     "pipeline.github.repository": "pynb-dag-runner/mnist-digits-demo-pipeline",
     "pipeline.github.run_id": "2675107270",
     "pipeline.github.runner_name": "Hosted Agent",
     "pipeline.github.sha": "147a1be9916173fd4d2cd011d8d51e3411215850",
     "pipeline.github.workflow": "Run automated tests, pipeline and deploy results to static reporting site",
     "pipeline.pipeline_run_id": "8c5f68ab-4954-4919-9b60-71ba0cf49a23",
     "pipeline.run_environment": "ci",
     "run.retry_nr": "0",
     "task.max_nr_retries": "1",
     "task.notebook": "notebooks/benchmark-model.py",
     "task.nr_train_images": 1200,
     "task.num_cpus": 1,
     "task.timeout_s": "None"
    }
   },
   "start_time": "2022-07-15T06:47:52.493920",
   "version": "2.3.3"
  }
 },
 "nbformat": 4,
 "nbformat_minor": 5
}