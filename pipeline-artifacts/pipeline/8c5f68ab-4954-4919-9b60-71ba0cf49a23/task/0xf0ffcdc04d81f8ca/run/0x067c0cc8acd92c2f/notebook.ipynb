{
 "cells": [
  {
   "cell_type": "markdown",
   "id": "d0b38c12",
   "metadata": {
    "papermill": {
     "duration": 0.005321,
     "end_time": "2022-07-15T06:47:49.299970",
     "exception": false,
     "start_time": "2022-07-15T06:47:49.294649",
     "status": "completed"
    },
    "tags": []
   },
   "source": [
    "# Benchmark model\n",
    "\n",
    "The purpose of this notebook is to benchmark persisted onnx-model (trained in the\n",
    "previous step) against evaluation set."
   ]
  },
  {
   "cell_type": "markdown",
   "id": "40252d45",
   "metadata": {
    "papermill": {
     "duration": 0.005026,
     "end_time": "2022-07-15T06:47:49.609189",
     "exception": false,
     "start_time": "2022-07-15T06:47:49.604163",
     "status": "completed"
    },
    "tags": []
   },
   "source": [
    "### Determine run parameters"
   ]
  },
  {
   "cell_type": "code",
   "execution_count": 1,
   "id": "3cf1eed5",
   "metadata": {
    "execution": {
     "iopub.execute_input": "2022-07-15T06:47:49.619112Z",
     "iopub.status.busy": "2022-07-15T06:47:49.618792Z",
     "iopub.status.idle": "2022-07-15T06:47:49.627720Z",
     "shell.execute_reply": "2022-07-15T06:47:49.627179Z"
    },
    "lines_to_next_cell": 0,
    "papermill": {
     "duration": 0.017237,
     "end_time": "2022-07-15T06:47:49.630577",
     "exception": false,
     "start_time": "2022-07-15T06:47:49.613340",
     "status": "completed"
    },
    "tags": []
   },
   "outputs": [],
   "source": [
    "# ----------------- Parameters for interactive development --------------\n",
    "P = {\n",
    "    \"pipeline.data_lake_root\": \"/pipeline-outputs/data-lake\",\n",
    "    \"task.nr_train_images\": 600,\n",
    "}"
   ]
  },
  {
   "cell_type": "code",
   "execution_count": 2,
   "id": "0cd464db",
   "metadata": {
    "execution": {
     "iopub.execute_input": "2022-07-15T06:47:49.640161Z",
     "iopub.status.busy": "2022-07-15T06:47:49.639927Z",
     "iopub.status.idle": "2022-07-15T06:47:49.643626Z",
     "shell.execute_reply": "2022-07-15T06:47:49.643054Z"
    },
    "lines_to_next_cell": 0,
    "papermill": {
     "duration": 0.010987,
     "end_time": "2022-07-15T06:47:49.646019",
     "exception": false,
     "start_time": "2022-07-15T06:47:49.635032",
     "status": "completed"
    },
    "tags": [
     "parameters"
    ]
   },
   "outputs": [],
   "source": [
    "# - During automated runs parameters will be injected in the below cell -"
   ]
  },
  {
   "cell_type": "code",
   "execution_count": 3,
   "id": "deb844de",
   "metadata": {
    "execution": {
     "iopub.execute_input": "2022-07-15T06:47:49.659747Z",
     "iopub.status.busy": "2022-07-15T06:47:49.659533Z",
     "iopub.status.idle": "2022-07-15T06:47:49.665823Z",
     "shell.execute_reply": "2022-07-15T06:47:49.665358Z"
    },
    "papermill": {
     "duration": 0.015368,
     "end_time": "2022-07-15T06:47:49.670059",
     "exception": false,
     "start_time": "2022-07-15T06:47:49.654691",
     "status": "completed"
    },
    "tags": [
     "injected-parameters"
    ]
   },
   "outputs": [],
   "source": [
    "# Parameters\n",
    "P = {\n",
    "    \"pipeline.data_lake_root\": \"/pipeline-outputs/data-lake\",\n",
    "    \"pipeline.run_environment\": \"ci\",\n",
    "    \"pipeline.pipeline_run_id\": \"8c5f68ab-4954-4919-9b60-71ba0cf49a23\",\n",
    "    \"pipeline.github.repository\": \"pynb-dag-runner/mnist-digits-demo-pipeline\",\n",
    "    \"pipeline.github.workflow\": \"Run automated tests, pipeline and deploy results to static reporting site\",\n",
    "    \"pipeline.github.runner_name\": \"Hosted Agent\",\n",
    "    \"pipeline.github.run_id\": \"2675107270\",\n",
    "    \"pipeline.github.actor\": \"matiasdahl\",\n",
    "    \"pipeline.github.job\": \"run-tests-pipeline-and-persist-pipeline-outputs\",\n",
    "    \"pipeline.github.base_ref\": \"\",\n",
    "    \"pipeline.github.head_ref\": \"\",\n",
    "    \"pipeline.github.sha\": \"147a1be9916173fd4d2cd011d8d51e3411215850\",\n",
    "    \"pipeline.github.ref\": \"refs/heads/development\",\n",
    "    \"pipeline.github.ref_type\": \"branch\",\n",
    "    \"pipeline.github.ref_name\": \"development\",\n",
    "    \"pipeline.github.event_name\": \"schedule\",\n",
    "    \"task.nr_train_images\": 800,\n",
    "    \"task.notebook\": \"notebooks/benchmark-model.py\",\n",
    "    \"task.max_nr_retries\": \"1\",\n",
    "    \"run.retry_nr\": \"0\",\n",
    "    \"task.timeout_s\": \"None\",\n",
    "    \"task.num_cpus\": 1,\n",
    "    \"_opentelemetry_traceparent\": \"00-fb678ccd790c7800a08656a888971846-bd729e36245adc7b-01\",\n",
    "}\n"
   ]
  },
  {
   "cell_type": "code",
   "execution_count": 4,
   "id": "5bd5dd83",
   "metadata": {
    "execution": {
     "iopub.execute_input": "2022-07-15T06:47:49.680245Z",
     "iopub.status.busy": "2022-07-15T06:47:49.680033Z",
     "iopub.status.idle": "2022-07-15T06:47:49.682803Z",
     "shell.execute_reply": "2022-07-15T06:47:49.682324Z"
    },
    "lines_to_next_cell": 0,
    "papermill": {
     "duration": 0.010385,
     "end_time": "2022-07-15T06:47:49.685534",
     "exception": false,
     "start_time": "2022-07-15T06:47:49.675149",
     "status": "completed"
    },
    "tags": []
   },
   "outputs": [],
   "source": [
    "# -----------------------------------------------------------------------"
   ]
  },
  {
   "cell_type": "markdown",
   "id": "57ebcfe3",
   "metadata": {
    "papermill": {
     "duration": 0.004192,
     "end_time": "2022-07-15T06:47:49.693724",
     "exception": false,
     "start_time": "2022-07-15T06:47:49.689532",
     "status": "completed"
    },
    "tags": []
   },
   "source": [
    "---"
   ]
  },
  {
   "cell_type": "markdown",
   "id": "19c39978",
   "metadata": {
    "lines_to_next_cell": 2,
    "papermill": {
     "duration": 0.00419,
     "end_time": "2022-07-15T06:47:49.707676",
     "exception": false,
     "start_time": "2022-07-15T06:47:49.703486",
     "status": "completed"
    },
    "tags": []
   },
   "source": [
    "### Notebook code"
   ]
  },
  {
   "cell_type": "code",
   "execution_count": 5,
   "id": "7e9cb3a0",
   "metadata": {
    "execution": {
     "iopub.execute_input": "2022-07-15T06:47:49.717540Z",
     "iopub.status.busy": "2022-07-15T06:47:49.717323Z",
     "iopub.status.idle": "2022-07-15T06:47:50.778922Z",
     "shell.execute_reply": "2022-07-15T06:47:50.778023Z"
    },
    "papermill": {
     "duration": 1.06901,
     "end_time": "2022-07-15T06:47:50.780993",
     "exception": false,
     "start_time": "2022-07-15T06:47:49.711983",
     "status": "completed"
    },
    "tags": []
   },
   "outputs": [
    {
     "name": "stderr",
     "output_type": "stream",
     "text": [
      "2022-07-15 06:47:50,632\tINFO worker.py:842 -- Connecting to existing Ray cluster at address: 172.17.0.2:6379\n"
     ]
    }
   ],
   "source": [
    "import itertools as it\n",
    "\n",
    "#\n",
    "import numpy as np\n",
    "import matplotlib.pyplot as plt\n",
    "\n",
    "#\n",
    "from pynb_dag_runner.tasks.task_opentelemetry_logging import PydarLogger\n",
    "\n",
    "#\n",
    "from common.io import datalake_root\n",
    "\n",
    "logger = PydarLogger(P)"
   ]
  },
  {
   "cell_type": "markdown",
   "id": "d01a51cd",
   "metadata": {
    "papermill": {
     "duration": 0.004053,
     "end_time": "2022-07-15T06:47:50.789999",
     "exception": false,
     "start_time": "2022-07-15T06:47:50.785946",
     "status": "completed"
    },
    "tags": []
   },
   "source": [
    "## Load persisted onnx-model and evaluation data"
   ]
  },
  {
   "cell_type": "code",
   "execution_count": 6,
   "id": "eebb8119",
   "metadata": {
    "execution": {
     "iopub.execute_input": "2022-07-15T06:47:50.799460Z",
     "iopub.status.busy": "2022-07-15T06:47:50.799001Z",
     "iopub.status.idle": "2022-07-15T06:47:50.802507Z",
     "shell.execute_reply": "2022-07-15T06:47:50.801903Z"
    },
    "papermill": {
     "duration": 0.009901,
     "end_time": "2022-07-15T06:47:50.804113",
     "exception": false,
     "start_time": "2022-07-15T06:47:50.794212",
     "status": "completed"
    },
    "tags": []
   },
   "outputs": [],
   "source": [
    "from common.io import read_onnx, get_onnx_inputs, get_onnx_outputs, read_numpy"
   ]
  },
  {
   "cell_type": "code",
   "execution_count": 7,
   "id": "90d780de",
   "metadata": {
    "execution": {
     "iopub.execute_input": "2022-07-15T06:47:50.814817Z",
     "iopub.status.busy": "2022-07-15T06:47:50.813951Z",
     "iopub.status.idle": "2022-07-15T06:47:50.827713Z",
     "shell.execute_reply": "2022-07-15T06:47:50.826959Z"
    },
    "lines_to_next_cell": 0,
    "papermill": {
     "duration": 0.021323,
     "end_time": "2022-07-15T06:47:50.829310",
     "exception": false,
     "start_time": "2022-07-15T06:47:50.807987",
     "status": "completed"
    },
    "tags": []
   },
   "outputs": [],
   "source": [
    "onnx_inference_session = read_onnx(\n",
    "    datalake_root(P)\n",
    "    / \"models\"\n",
    "    / f\"nr_train_images={P['task.nr_train_images']}\"\n",
    "    / \"model.onnx\"\n",
    ")"
   ]
  },
  {
   "cell_type": "markdown",
   "id": "2e3eb09a",
   "metadata": {
    "papermill": {
     "duration": 0.004177,
     "end_time": "2022-07-15T06:47:50.837753",
     "exception": false,
     "start_time": "2022-07-15T06:47:50.833576",
     "status": "completed"
    },
    "tags": []
   },
   "source": [
    "### Record structure of inputs and outputs for ONNX model\n",
    "\n",
    "(this should likely be done in training notebook)"
   ]
  },
  {
   "cell_type": "code",
   "execution_count": 8,
   "id": "2df867f9",
   "metadata": {
    "execution": {
     "iopub.execute_input": "2022-07-15T06:47:50.847551Z",
     "iopub.status.busy": "2022-07-15T06:47:50.847211Z",
     "iopub.status.idle": "2022-07-15T06:47:50.852936Z",
     "shell.execute_reply": "2022-07-15T06:47:50.852425Z"
    },
    "papermill": {
     "duration": 0.013064,
     "end_time": "2022-07-15T06:47:50.855178",
     "exception": false,
     "start_time": "2022-07-15T06:47:50.842114",
     "status": "completed"
    },
    "tags": []
   },
   "outputs": [
    {
     "name": "stdout",
     "output_type": "stream",
     "text": [
      "{\n",
      "  \"inputs\": [\n",
      "    {\n",
      "      \"name\": \"float_input_8x8_image\",\n",
      "      \"shape\": [\n",
      "        null,\n",
      "        64\n",
      "      ],\n",
      "      \"type\": \"tensor(float)\"\n",
      "    }\n",
      "  ],\n",
      "  \"outputs\": [\n",
      "    {\n",
      "      \"name\": \"output_label\",\n",
      "      \"shape\": [\n",
      "        null\n",
      "      ],\n",
      "      \"type\": \"tensor(int64)\"\n",
      "    },\n",
      "    {\n",
      "      \"name\": \"output_probability\",\n",
      "      \"shape\": [],\n",
      "      \"type\": \"seq(map(int64,tensor(float)))\"\n",
      "    }\n",
      "  ]\n",
      "}\n"
     ]
    }
   ],
   "source": [
    "import json\n",
    "\n",
    "onnx_io = json.dumps(\n",
    "    {\n",
    "        \"inputs\": get_onnx_inputs(onnx_inference_session),\n",
    "        \"outputs\": get_onnx_outputs(onnx_inference_session),\n",
    "    },\n",
    "    indent=2,\n",
    ")\n",
    "\n",
    "\n",
    "logger.log_artefact(\"onnx_io_structure.json\", onnx_io)\n",
    "print(onnx_io)"
   ]
  },
  {
   "cell_type": "markdown",
   "id": "85a26a17",
   "metadata": {
    "papermill": {
     "duration": 0.004237,
     "end_time": "2022-07-15T06:47:50.863643",
     "exception": false,
     "start_time": "2022-07-15T06:47:50.859406",
     "status": "completed"
    },
    "tags": []
   },
   "source": [
    "### Evaluate model performance on evaluation data set"
   ]
  },
  {
   "cell_type": "code",
   "execution_count": 9,
   "id": "b2aeb7b6",
   "metadata": {
    "execution": {
     "iopub.execute_input": "2022-07-15T06:47:50.873102Z",
     "iopub.status.busy": "2022-07-15T06:47:50.872855Z",
     "iopub.status.idle": "2022-07-15T06:47:50.877416Z",
     "shell.execute_reply": "2022-07-15T06:47:50.876802Z"
    },
    "papermill": {
     "duration": 0.011969,
     "end_time": "2022-07-15T06:47:50.879754",
     "exception": false,
     "start_time": "2022-07-15T06:47:50.867785",
     "status": "completed"
    },
    "tags": []
   },
   "outputs": [],
   "source": [
    "# load evaluation data\n",
    "X_test = read_numpy(datalake_root(P) / \"test-data\" / \"digits.numpy\")\n",
    "y_test = read_numpy(datalake_root(P) / \"test-data\" / \"labels.numpy\")"
   ]
  },
  {
   "cell_type": "code",
   "execution_count": 10,
   "id": "281b21fe",
   "metadata": {
    "execution": {
     "iopub.execute_input": "2022-07-15T06:47:50.892476Z",
     "iopub.status.busy": "2022-07-15T06:47:50.892248Z",
     "iopub.status.idle": "2022-07-15T06:47:50.905608Z",
     "shell.execute_reply": "2022-07-15T06:47:50.904936Z"
    },
    "papermill": {
     "duration": 0.022503,
     "end_time": "2022-07-15T06:47:50.907180",
     "exception": false,
     "start_time": "2022-07-15T06:47:50.884677",
     "status": "completed"
    },
    "tags": []
   },
   "outputs": [],
   "source": [
    "def get_model_outputs(X, onnx_inference_session):\n",
    "    y_pred_labels, y_pred_map = onnx_inference_session.run(\n",
    "        [\"output_label\", \"output_probability\"],\n",
    "        {\"float_input_8x8_image\": X.astype(np.float32)},\n",
    "    )\n",
    "    y_pred_probs = np.array(\n",
    "        [[probabilities[digit] for digit in range(10)] for probabilities in y_pred_map]\n",
    "    )\n",
    "\n",
    "    assert y_pred_labels.shape == (X.shape[0],)\n",
    "    assert y_pred_probs.shape == (X.shape[0], 10)\n",
    "\n",
    "    return y_pred_labels, y_pred_probs\n",
    "\n",
    "\n",
    "# Note: as shown in the training notebook, the predicted labels and probabilities\n",
    "# computed below need not be compatible.\n",
    "y_pred_labels_test, y_pred_probs_test = get_model_outputs(\n",
    "    X_test, onnx_inference_session\n",
    ")"
   ]
  },
  {
   "cell_type": "markdown",
   "id": "e50a9744",
   "metadata": {
    "papermill": {
     "duration": 0.004648,
     "end_time": "2022-07-15T06:47:50.916336",
     "exception": false,
     "start_time": "2022-07-15T06:47:50.911688",
     "status": "completed"
    },
    "tags": []
   },
   "source": [
    "### Confusion matrix"
   ]
  },
  {
   "cell_type": "code",
   "execution_count": 11,
   "id": "dd2bda30",
   "metadata": {
    "execution": {
     "iopub.execute_input": "2022-07-15T06:47:50.925803Z",
     "iopub.status.busy": "2022-07-15T06:47:50.925560Z",
     "iopub.status.idle": "2022-07-15T06:47:50.928777Z",
     "shell.execute_reply": "2022-07-15T06:47:50.928090Z"
    },
    "papermill": {
     "duration": 0.010128,
     "end_time": "2022-07-15T06:47:50.930720",
     "exception": false,
     "start_time": "2022-07-15T06:47:50.920592",
     "status": "completed"
    },
    "tags": []
   },
   "outputs": [],
   "source": [
    "# TODO"
   ]
  },
  {
   "cell_type": "markdown",
   "id": "ae79722c",
   "metadata": {
    "papermill": {
     "duration": 0.004563,
     "end_time": "2022-07-15T06:47:50.939800",
     "exception": false,
     "start_time": "2022-07-15T06:47:50.935237",
     "status": "completed"
    },
    "tags": []
   },
   "source": [
    "### Plot predicted probabilities for each classifier over all evaluation digit images"
   ]
  },
  {
   "cell_type": "code",
   "execution_count": 12,
   "id": "4960ef49",
   "metadata": {
    "execution": {
     "iopub.execute_input": "2022-07-15T06:47:50.950127Z",
     "iopub.status.busy": "2022-07-15T06:47:50.949730Z",
     "iopub.status.idle": "2022-07-15T06:47:53.833096Z",
     "shell.execute_reply": "2022-07-15T06:47:53.832418Z"
    },
    "papermill": {
     "duration": 2.890358,
     "end_time": "2022-07-15T06:47:53.834585",
     "exception": false,
     "start_time": "2022-07-15T06:47:50.944227",
     "status": "completed"
    },
    "tags": []
   },
   "outputs": [
    {
     "data": {
      "image/png": "[encoded data removed]",
      "text/plain": [
       "<Figure size 1152x432 with 10 Axes>"
      ]
     },
     "metadata": {
      "needs_background": "light"
     },
     "output_type": "display_data"
    }
   ],
   "source": [
    "def plot_per_digit_probabilities(y_pred_probs):\n",
    "    fig, axs = plt.subplots(nrows=2, ncols=5, figsize=(16, 6))\n",
    "\n",
    "    for (r, c), digit, ax in zip(\n",
    "        it.product(range(2), range(5)), range(10), axs.reshape(-1)\n",
    "    ):\n",
    "        ax.hist(y_pred_probs_test[:, digit], bins=20)\n",
    "\n",
    "        ax.set_title(f\"Digit {digit}\")\n",
    "        if r == 1 and c == 2:\n",
    "            ax.set_xlabel(\"probability\", fontsize=16)\n",
    "\n",
    "        if c == 0:\n",
    "            ax.set_ylabel(\"counts\", fontsize=16)\n",
    "        ax.set_yscale(\"log\")\n",
    "\n",
    "    fig.tight_layout()\n",
    "    fig.suptitle(\n",
    "        f\"Distributions of prediction probabilities for each digit \"\n",
    "        f\"(on evaluation data, n={y_pred_probs.shape[0]})\",\n",
    "        fontsize=20,\n",
    "    )\n",
    "    fig.tight_layout()\n",
    "    fig.show()\n",
    "\n",
    "    return fig\n",
    "\n",
    "\n",
    "fig = plot_per_digit_probabilities(y_pred_probs_test)"
   ]
  },
  {
   "cell_type": "markdown",
   "id": "641a373d",
   "metadata": {
    "papermill": {
     "duration": 0.004786,
     "end_time": "2022-07-15T06:47:53.844720",
     "exception": false,
     "start_time": "2022-07-15T06:47:53.839934",
     "status": "completed"
    },
    "tags": []
   },
   "source": [
    "From the above distributions we see that most digits have clear separation between\n",
    "high and lower probabilities. Morover, in each case there is roughly an order of\n",
    "magnitude more of digits with low probabilities. This is compatible with digits\n",
    "being roughly evenly distributed in the data."
   ]
  },
  {
   "cell_type": "code",
   "execution_count": 13,
   "id": "56b2a1dc",
   "metadata": {
    "execution": {
     "iopub.execute_input": "2022-07-15T06:47:53.855867Z",
     "iopub.status.busy": "2022-07-15T06:47:53.855295Z",
     "iopub.status.idle": "2022-07-15T06:47:54.273845Z",
     "shell.execute_reply": "2022-07-15T06:47:54.273097Z"
    },
    "papermill": {
     "duration": 0.426255,
     "end_time": "2022-07-15T06:47:54.275593",
     "exception": false,
     "start_time": "2022-07-15T06:47:53.849338",
     "status": "completed"
    },
    "tags": []
   },
   "outputs": [],
   "source": [
    "logger.log_figure(\"per-digit-probabilities.png\", fig)"
   ]
  },
  {
   "cell_type": "markdown",
   "id": "c070f8ce",
   "metadata": {
    "papermill": {
     "duration": 0.004767,
     "end_time": "2022-07-15T06:47:54.285418",
     "exception": false,
     "start_time": "2022-07-15T06:47:54.280651",
     "status": "completed"
    },
    "tags": []
   },
   "source": [
    "### Plot ROC curves for individual one-vs-rest classifiers"
   ]
  },
  {
   "cell_type": "code",
   "execution_count": 14,
   "id": "9874be51",
   "metadata": {
    "execution": {
     "iopub.execute_input": "2022-07-15T06:47:54.296364Z",
     "iopub.status.busy": "2022-07-15T06:47:54.296048Z",
     "iopub.status.idle": "2022-07-15T06:47:54.653849Z",
     "shell.execute_reply": "2022-07-15T06:47:54.652977Z"
    },
    "papermill": {
     "duration": 0.365224,
     "end_time": "2022-07-15T06:47:54.655735",
     "exception": false,
     "start_time": "2022-07-15T06:47:54.290511",
     "status": "completed"
    },
    "tags": []
   },
   "outputs": [],
   "source": [
    "from sklearn import metrics"
   ]
  },
  {
   "cell_type": "code",
   "execution_count": 15,
   "id": "dec73405",
   "metadata": {
    "execution": {
     "iopub.execute_input": "2022-07-15T06:47:54.667391Z",
     "iopub.status.busy": "2022-07-15T06:47:54.667060Z",
     "iopub.status.idle": "2022-07-15T06:47:55.684947Z",
     "shell.execute_reply": "2022-07-15T06:47:55.684368Z"
    },
    "papermill": {
     "duration": 1.0255,
     "end_time": "2022-07-15T06:47:55.686533",
     "exception": false,
     "start_time": "2022-07-15T06:47:54.661033",
     "status": "completed"
    },
    "tags": []
   },
   "outputs": [
    {
     "data": {
      "image/png": "[encoded data removed]",
      "text/plain": [
       "<Figure size 1152x576 with 10 Axes>"
      ]
     },
     "metadata": {
      "needs_background": "light"
     },
     "output_type": "display_data"
    }
   ],
   "source": [
    "def plot_roc_curves(y, y_pred_probs):\n",
    "    # based on example code\n",
    "    # https://scikit-learn.org/stable/auto_examples/model_selection/plot_roc.html\n",
    "\n",
    "    fig, axs = plt.subplots(nrows=2, ncols=5, figsize=(16, 8))\n",
    "\n",
    "    roc_auc_dict = {}\n",
    "\n",
    "    for (r, c), digit, ax in zip(\n",
    "        it.product(range(2), range(5)), range(10), axs.reshape(-1)\n",
    "    ):\n",
    "        fpr, tpr, _ = metrics.roc_curve(y == digit, y_pred_probs[:, digit])\n",
    "        auc = metrics.auc(fpr, tpr)\n",
    "        roc_auc_dict[str(digit)] = auc\n",
    "\n",
    "        ax.plot(fpr, tpr, label=f\"ROC AUC={round(auc, 3)}\")\n",
    "\n",
    "        ax.set_title(f\"\\nDigit {digit}\", fontsize=16)\n",
    "        if r == 1:\n",
    "            ax.set_xlabel(\"FPR\", fontsize=18)\n",
    "\n",
    "        if c == 0:\n",
    "            ax.set_ylabel(\"TPR\", fontsize=18)\n",
    "\n",
    "        ax.set_xlim([-0.05, 1.05])\n",
    "        ax.set_ylim([-0.05, 1.05])\n",
    "        ax.legend(loc=\"lower right\", frameon=False, fontsize=14)\n",
    "\n",
    "    fig.tight_layout()\n",
    "    fig.suptitle(\n",
    "        f\"ROC plots for one-vs-rest performances \"\n",
    "        f\"(on evaluation data, n={y_pred_probs_test.shape[1]}\",\n",
    "        fontsize=22,\n",
    "    )\n",
    "    fig.tight_layout()\n",
    "    fig.show()\n",
    "\n",
    "    return roc_auc_dict, fig\n",
    "\n",
    "\n",
    "roc_auc_dict, fig = plot_roc_curves(y_test, y_pred_probs_test)"
   ]
  },
  {
   "cell_type": "code",
   "execution_count": 16,
   "id": "4f79cfa2",
   "metadata": {
    "execution": {
     "iopub.execute_input": "2022-07-15T06:47:55.699033Z",
     "iopub.status.busy": "2022-07-15T06:47:55.698799Z",
     "iopub.status.idle": "2022-07-15T06:47:55.910847Z",
     "shell.execute_reply": "2022-07-15T06:47:55.910270Z"
    },
    "papermill": {
     "duration": 0.220193,
     "end_time": "2022-07-15T06:47:55.912717",
     "exception": false,
     "start_time": "2022-07-15T06:47:55.692524",
     "status": "completed"
    },
    "tags": []
   },
   "outputs": [],
   "source": [
    "logger.log_figure(\"per-digit-roc-curves.png\", fig)"
   ]
  },
  {
   "cell_type": "code",
   "execution_count": 17,
   "id": "2e2a7703",
   "metadata": {
    "execution": {
     "iopub.execute_input": "2022-07-15T06:47:55.926205Z",
     "iopub.status.busy": "2022-07-15T06:47:55.925926Z",
     "iopub.status.idle": "2022-07-15T06:47:55.930600Z",
     "shell.execute_reply": "2022-07-15T06:47:55.929982Z"
    },
    "papermill": {
     "duration": 0.014642,
     "end_time": "2022-07-15T06:47:55.933867",
     "exception": false,
     "start_time": "2022-07-15T06:47:55.919225",
     "status": "completed"
    },
    "tags": []
   },
   "outputs": [
    {
     "data": {
      "text/plain": [
       "{'0': 1.0,\n",
       " '1': 0.9988003748828491,\n",
       " '2': 1.0,\n",
       " '3': 0.9998125585754452,\n",
       " '4': 0.9994665447340345,\n",
       " '5': 0.9989128397375819,\n",
       " '6': 0.999923792104862,\n",
       " '7': 0.9998856881572931,\n",
       " '8': 0.992827868852459,\n",
       " '9': 0.9993903368388966}"
      ]
     },
     "execution_count": 17,
     "metadata": {},
     "output_type": "execute_result"
    }
   ],
   "source": [
    "roc_auc_dict"
   ]
  },
  {
   "cell_type": "code",
   "execution_count": 18,
   "id": "54c56525",
   "metadata": {
    "execution": {
     "iopub.execute_input": "2022-07-15T06:47:55.946638Z",
     "iopub.status.busy": "2022-07-15T06:47:55.946393Z",
     "iopub.status.idle": "2022-07-15T06:47:55.950868Z",
     "shell.execute_reply": "2022-07-15T06:47:55.950221Z"
    },
    "papermill": {
     "duration": 0.014087,
     "end_time": "2022-07-15T06:47:55.953754",
     "exception": false,
     "start_time": "2022-07-15T06:47:55.939667",
     "status": "completed"
    },
    "tags": []
   },
   "outputs": [
    {
     "name": "stdout",
     "output_type": "stream",
     "text": [
      " - Logging roc_auc_per_digit (json) : {'0': 1.0, '1': 0.9988003748828491, '2': 1.0, '3': 0.9998125585754452, '4': 0.9994665447340345, '5': 0.9989128397375819, '6': 0.999923792104862, '7': 0.9998856881572931, '8': 0.992827868852459, '9': 0.9993903368388966}\n"
     ]
    }
   ],
   "source": [
    "logger.log_value(\"roc_auc_per_digit\", roc_auc_dict)"
   ]
  },
  {
   "cell_type": "markdown",
   "id": "d41c8baf",
   "metadata": {
    "papermill": {
     "duration": 0.005841,
     "end_time": "2022-07-15T06:47:55.965457",
     "exception": false,
     "start_time": "2022-07-15T06:47:55.959616",
     "status": "completed"
    },
    "tags": []
   },
   "source": [
    "### Compute and log mean ROC AUC score averaged over all digits"
   ]
  },
  {
   "cell_type": "code",
   "execution_count": 19,
   "id": "9d2a1351",
   "metadata": {
    "execution": {
     "iopub.execute_input": "2022-07-15T06:47:55.978544Z",
     "iopub.status.busy": "2022-07-15T06:47:55.978278Z",
     "iopub.status.idle": "2022-07-15T06:47:55.991442Z",
     "shell.execute_reply": "2022-07-15T06:47:55.990787Z"
    },
    "papermill": {
     "duration": 0.021457,
     "end_time": "2022-07-15T06:47:55.992887",
     "exception": false,
     "start_time": "2022-07-15T06:47:55.971430",
     "status": "completed"
    },
    "tags": []
   },
   "outputs": [
    {
     "name": "stdout",
     "output_type": "stream",
     "text": [
      " - Logging roc_auc_class_mean (float) : 0.9989020003883422\n"
     ]
    }
   ],
   "source": [
    "roc_auc_macro = np.mean(list(roc_auc_dict.values()))\n",
    "\n",
    "logger.log_float(\"roc_auc_class_mean\", roc_auc_macro)\n",
    "\n",
    "# assert that the same value can be computed directly using sklearn\n",
    "assert roc_auc_macro == metrics.roc_auc_score(\n",
    "    y_test, y_pred_probs_test, average=\"macro\", multi_class=\"ovr\"\n",
    ")"
   ]
  },
  {
   "cell_type": "code",
   "execution_count": 20,
   "id": "527325f4",
   "metadata": {
    "execution": {
     "iopub.execute_input": "2022-07-15T06:47:56.007306Z",
     "iopub.status.busy": "2022-07-15T06:47:56.007073Z",
     "iopub.status.idle": "2022-07-15T06:47:56.010006Z",
     "shell.execute_reply": "2022-07-15T06:47:56.009405Z"
    },
    "lines_to_next_cell": 0,
    "papermill": {
     "duration": 0.013519,
     "end_time": "2022-07-15T06:47:56.012302",
     "exception": false,
     "start_time": "2022-07-15T06:47:55.998783",
     "status": "completed"
    },
    "tags": []
   },
   "outputs": [],
   "source": [
    "# ---"
   ]
  },
  {
   "cell_type": "code",
   "execution_count": null,
   "id": "e983964a",
   "metadata": {
    "papermill": {
     "duration": 0.00588,
     "end_time": "2022-07-15T06:47:56.023803",
     "exception": false,
     "start_time": "2022-07-15T06:47:56.017923",
     "status": "completed"
    },
    "tags": []
   },
   "outputs": [],
   "source": []
  }
 ],
 "metadata": {
  "jupytext": {
   "cell_metadata_filter": "tags,-all",
   "main_language": "python",
   "notebook_metadata_filter": "-all"
  },
  "language_info": {
   "codemirror_mode": {
    "name": "ipython",
    "version": 3
   },
   "file_extension": ".py",
   "mimetype": "text/x-python",
   "name": "python",
   "nbconvert_exporter": "python",
   "pygments_lexer": "ipython3",
   "version": "3.8.10"
  },
  "papermill": {
   "default_parameters": {},
   "duration": 9.045413,
   "end_time": "2022-07-15T06:47:57.152925",
   "environment_variables": {},
   "exception": null,
   "input_path": "/home/host_user/workspace/mnist-demo-pipeline/mnist-demo-pipeline/notebooks/temp-notebook-4t8zvyoy.ipynb",
   "output_path": "notebooks/benchmark-model.ipynb",
   "parameters": {
    "P": {
     "_opentelemetry_traceparent": "00-fb678ccd790c7800a08656a888971846-bd729e36245adc7b-01",
     "pipeline.data_lake_root": "/pipeline-outputs/data-lake",
     "pipeline.github.actor": "matiasdahl",
     "pipeline.github.base_ref": "",
     "pipeline.github.event_name": "schedule",
     "pipeline.github.head_ref": "",
     "pipeline.github.job": "run-tests-pipeline-and-persist-pipeline-outputs",
     "pipeline.github.ref": "refs/heads/development",
     "pipeline.github.ref_name": "development",
     "pipeline.github.ref_type": "branch",
     "pipeline.github.repository": "pynb-dag-runner/mnist-digits-demo-pipeline",
     "pipeline.github.run_id": "2675107270",
     "pipeline.github.runner_name": "Hosted Agent",
     "pipeline.github.sha": "147a1be9916173fd4d2cd011d8d51e3411215850",
     "pipeline.github.workflow": "Run automated tests, pipeline and deploy results to static reporting site",
     "pipeline.pipeline_run_id": "8c5f68ab-4954-4919-9b60-71ba0cf49a23",
     "pipeline.run_environment": "ci",
     "run.retry_nr": "0",
     "task.max_nr_retries": "1",
     "task.notebook": "notebooks/benchmark-model.py",
     "task.nr_train_images": 800,
     "task.num_cpus": 1,
     "task.timeout_s": "None"
    }
   },
   "start_time": "2022-07-15T06:47:48.107512",
   "version": "2.3.3"
  }
 },
 "nbformat": 4,
 "nbformat_minor": 5
}