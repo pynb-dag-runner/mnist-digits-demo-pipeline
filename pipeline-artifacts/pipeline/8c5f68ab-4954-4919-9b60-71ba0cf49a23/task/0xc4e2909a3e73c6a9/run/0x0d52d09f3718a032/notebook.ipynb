{
 "cells": [
  {
   "cell_type": "markdown",
   "id": "e3d885ed",
   "metadata": {
    "papermill": {
     "duration": 0.006159,
     "end_time": "2022-07-15T06:47:27.881522",
     "exception": false,
     "start_time": "2022-07-15T06:47:27.875363",
     "status": "completed"
    },
    "tags": []
   },
   "source": [
    "# Train model\n",
    "\n",
    "The purpose of this notebook is:\n",
    "\n",
    "- Load all training data (images and labels).\n",
    "- Limit number of train images to `task.nr_train_images` (value provided as run parameter).\n",
    "- Train a support vector machine model using sklearn.\n",
    "- Persist the trained model using the ONNX format."
   ]
  },
  {
   "cell_type": "markdown",
   "id": "55f83067",
   "metadata": {
    "papermill": {
     "duration": 0.002654,
     "end_time": "2022-07-15T06:47:27.887867",
     "exception": false,
     "start_time": "2022-07-15T06:47:27.885213",
     "status": "completed"
    },
    "tags": []
   },
   "source": [
    "### Determine run parameters"
   ]
  },
  {
   "cell_type": "code",
   "execution_count": 1,
   "id": "5c998289",
   "metadata": {
    "execution": {
     "iopub.execute_input": "2022-07-15T06:47:27.895028Z",
     "iopub.status.busy": "2022-07-15T06:47:27.894713Z",
     "iopub.status.idle": "2022-07-15T06:47:27.902478Z",
     "shell.execute_reply": "2022-07-15T06:47:27.901958Z"
    },
    "lines_to_next_cell": 0,
    "papermill": {
     "duration": 0.014185,
     "end_time": "2022-07-15T06:47:27.905087",
     "exception": false,
     "start_time": "2022-07-15T06:47:27.890902",
     "status": "completed"
    },
    "tags": []
   },
   "outputs": [],
   "source": [
    "# ----------------- Parameters for interactive development --------------\n",
    "P = {\n",
    "    \"pipeline.data_lake_root\": \"/pipeline-outputs/data-lake\",\n",
    "    \"task.nr_train_images\": 600,\n",
    "}"
   ]
  },
  {
   "cell_type": "code",
   "execution_count": 2,
   "id": "dec33f79",
   "metadata": {
    "execution": {
     "iopub.execute_input": "2022-07-15T06:47:27.912975Z",
     "iopub.status.busy": "2022-07-15T06:47:27.912754Z",
     "iopub.status.idle": "2022-07-15T06:47:27.915600Z",
     "shell.execute_reply": "2022-07-15T06:47:27.915092Z"
    },
    "lines_to_next_cell": 0,
    "papermill": {
     "duration": 0.009836,
     "end_time": "2022-07-15T06:47:27.917958",
     "exception": false,
     "start_time": "2022-07-15T06:47:27.908122",
     "status": "completed"
    },
    "tags": [
     "parameters"
    ]
   },
   "outputs": [],
   "source": [
    "# - During automated runs parameters will be injected in the below cell -"
   ]
  },
  {
   "cell_type": "code",
   "execution_count": 3,
   "id": "1703c3e4",
   "metadata": {
    "execution": {
     "iopub.execute_input": "2022-07-15T06:47:27.925303Z",
     "iopub.status.busy": "2022-07-15T06:47:27.925092Z",
     "iopub.status.idle": "2022-07-15T06:47:27.931665Z",
     "shell.execute_reply": "2022-07-15T06:47:27.931042Z"
    },
    "papermill": {
     "duration": 0.012911,
     "end_time": "2022-07-15T06:47:27.934279",
     "exception": false,
     "start_time": "2022-07-15T06:47:27.921368",
     "status": "completed"
    },
    "tags": [
     "injected-parameters"
    ]
   },
   "outputs": [],
   "source": [
    "# Parameters\n",
    "P = {\n",
    "    \"pipeline.data_lake_root\": \"/pipeline-outputs/data-lake\",\n",
    "    \"pipeline.run_environment\": \"ci\",\n",
    "    \"pipeline.pipeline_run_id\": \"8c5f68ab-4954-4919-9b60-71ba0cf49a23\",\n",
    "    \"pipeline.github.repository\": \"pynb-dag-runner/mnist-digits-demo-pipeline\",\n",
    "    \"pipeline.github.workflow\": \"Run automated tests, pipeline and deploy results to static reporting site\",\n",
    "    \"pipeline.github.runner_name\": \"Hosted Agent\",\n",
    "    \"pipeline.github.run_id\": \"2675107270\",\n",
    "    \"pipeline.github.actor\": \"matiasdahl\",\n",
    "    \"pipeline.github.job\": \"run-tests-pipeline-and-persist-pipeline-outputs\",\n",
    "    \"pipeline.github.base_ref\": \"\",\n",
    "    \"pipeline.github.head_ref\": \"\",\n",
    "    \"pipeline.github.sha\": \"147a1be9916173fd4d2cd011d8d51e3411215850\",\n",
    "    \"pipeline.github.ref\": \"refs/heads/development\",\n",
    "    \"pipeline.github.ref_type\": \"branch\",\n",
    "    \"pipeline.github.ref_name\": \"development\",\n",
    "    \"pipeline.github.event_name\": \"schedule\",\n",
    "    \"task.nr_train_images\": 1000,\n",
    "    \"task.notebook\": \"notebooks/train-model.py\",\n",
    "    \"task.max_nr_retries\": \"1\",\n",
    "    \"run.retry_nr\": \"0\",\n",
    "    \"task.timeout_s\": \"None\",\n",
    "    \"task.num_cpus\": 1,\n",
    "    \"_opentelemetry_traceparent\": \"00-fb678ccd790c7800a08656a888971846-aee6d86f29fc7d71-01\",\n",
    "}\n"
   ]
  },
  {
   "cell_type": "code",
   "execution_count": 4,
   "id": "858d7cd0",
   "metadata": {
    "execution": {
     "iopub.execute_input": "2022-07-15T06:47:27.942342Z",
     "iopub.status.busy": "2022-07-15T06:47:27.942125Z",
     "iopub.status.idle": "2022-07-15T06:47:27.944722Z",
     "shell.execute_reply": "2022-07-15T06:47:27.944225Z"
    },
    "lines_to_next_cell": 0,
    "papermill": {
     "duration": 0.008825,
     "end_time": "2022-07-15T06:47:27.947026",
     "exception": false,
     "start_time": "2022-07-15T06:47:27.938201",
     "status": "completed"
    },
    "tags": []
   },
   "outputs": [],
   "source": [
    "# -----------------------------------------------------------------------"
   ]
  },
  {
   "cell_type": "markdown",
   "id": "fcf812fa",
   "metadata": {
    "papermill": {
     "duration": 0.002834,
     "end_time": "2022-07-15T06:47:27.955504",
     "exception": false,
     "start_time": "2022-07-15T06:47:27.952670",
     "status": "completed"
    },
    "tags": []
   },
   "source": [
    "---"
   ]
  },
  {
   "cell_type": "markdown",
   "id": "3922c8c8",
   "metadata": {
    "lines_to_next_cell": 2,
    "papermill": {
     "duration": 0.003241,
     "end_time": "2022-07-15T06:47:27.961960",
     "exception": false,
     "start_time": "2022-07-15T06:47:27.958719",
     "status": "completed"
    },
    "tags": []
   },
   "source": [
    "### Notebook code"
   ]
  },
  {
   "cell_type": "code",
   "execution_count": 5,
   "id": "9c045418",
   "metadata": {
    "execution": {
     "iopub.execute_input": "2022-07-15T06:47:27.969068Z",
     "iopub.status.busy": "2022-07-15T06:47:27.968858Z",
     "iopub.status.idle": "2022-07-15T06:47:28.451257Z",
     "shell.execute_reply": "2022-07-15T06:47:28.450616Z"
    },
    "papermill": {
     "duration": 0.487974,
     "end_time": "2022-07-15T06:47:28.453187",
     "exception": false,
     "start_time": "2022-07-15T06:47:27.965213",
     "status": "completed"
    },
    "tags": []
   },
   "outputs": [
    {
     "name": "stderr",
     "output_type": "stream",
     "text": [
      "2022-07-15 06:47:28,288\tINFO worker.py:842 -- Connecting to existing Ray cluster at address: 172.17.0.2:6379\n"
     ]
    }
   ],
   "source": [
    "from pynb_dag_runner.tasks.task_opentelemetry_logging import PydarLogger\n",
    "\n",
    "logger = PydarLogger(P)"
   ]
  },
  {
   "cell_type": "markdown",
   "id": "c4d7a088",
   "metadata": {
    "papermill": {
     "duration": 0.003053,
     "end_time": "2022-07-15T06:47:28.459642",
     "exception": false,
     "start_time": "2022-07-15T06:47:28.456589",
     "status": "completed"
    },
    "tags": []
   },
   "source": [
    "## Load and limit train data"
   ]
  },
  {
   "cell_type": "code",
   "execution_count": 6,
   "id": "b0ed316f",
   "metadata": {
    "execution": {
     "iopub.execute_input": "2022-07-15T06:47:28.466602Z",
     "iopub.status.busy": "2022-07-15T06:47:28.466278Z",
     "iopub.status.idle": "2022-07-15T06:47:28.803282Z",
     "shell.execute_reply": "2022-07-15T06:47:28.802627Z"
    },
    "papermill": {
     "duration": 0.342537,
     "end_time": "2022-07-15T06:47:28.804952",
     "exception": false,
     "start_time": "2022-07-15T06:47:28.462415",
     "status": "completed"
    },
    "tags": []
   },
   "outputs": [],
   "source": [
    "def load_and_limit_train_data(P):\n",
    "    from common.io import datalake_root, read_numpy\n",
    "    from sklearn.model_selection import train_test_split\n",
    "\n",
    "    X_train_all = read_numpy(datalake_root(P) / \"train-data\" / \"digits.numpy\")\n",
    "    y_train_all = read_numpy(datalake_root(P) / \"train-data\" / \"labels.numpy\")\n",
    "\n",
    "    assert isinstance(P[\"task.nr_train_images\"], int)\n",
    "\n",
    "    # Note: train_test_split will fail if split is 0 or 100%.\n",
    "    assert 0 < P[\"task.nr_train_images\"] < len(y_train_all)\n",
    "\n",
    "    X_train, _, y_train, _ = train_test_split(\n",
    "        X_train_all,\n",
    "        y_train_all,\n",
    "        train_size=P[\"task.nr_train_images\"],\n",
    "        test_size=None,\n",
    "        stratify=y_train_all,\n",
    "        shuffle=True,\n",
    "        random_state=123,\n",
    "    )\n",
    "\n",
    "    assert X_train.shape == (len(y_train), 8 * 8)\n",
    "    return X_train, y_train\n",
    "\n",
    "\n",
    "X_train, y_train = load_and_limit_train_data(P)"
   ]
  },
  {
   "cell_type": "markdown",
   "id": "ddca9a44",
   "metadata": {
    "papermill": {
     "duration": 0.002993,
     "end_time": "2022-07-15T06:47:28.812482",
     "exception": false,
     "start_time": "2022-07-15T06:47:28.809489",
     "status": "completed"
    },
    "tags": []
   },
   "source": [
    "## Train support vector classifier model\n",
    "\n",
    "Below we assume that the hyperparameter $C$ is known.\n",
    "\n",
    "However, this should ideally be found by a hyperparameter search. That could be\n",
    "done in parallel on the Ray cluster, but this needs some more work. Ie., to use\n",
    "multiple cores in the notebook, those cores should be reserved when starting the\n",
    "notebook task (TODO).\n",
    "\n",
    "- https://docs.ray.io/en/latest/tune/key-concepts.html\n",
    "\n",
    "Note: cv-scores would need to be computed here, since they depend on the train data.\n",
    "After this notebook only the onnx-model is available."
   ]
  },
  {
   "cell_type": "code",
   "execution_count": 7,
   "id": "84a072d9",
   "metadata": {
    "execution": {
     "iopub.execute_input": "2022-07-15T06:47:28.819626Z",
     "iopub.status.busy": "2022-07-15T06:47:28.819067Z",
     "iopub.status.idle": "2022-07-15T06:47:28.896934Z",
     "shell.execute_reply": "2022-07-15T06:47:28.896278Z"
    },
    "papermill": {
     "duration": 0.083539,
     "end_time": "2022-07-15T06:47:28.898920",
     "exception": false,
     "start_time": "2022-07-15T06:47:28.815381",
     "status": "completed"
    },
    "tags": []
   },
   "outputs": [],
   "source": [
    "from sklearn.svm import SVC"
   ]
  },
  {
   "cell_type": "code",
   "execution_count": 8,
   "id": "c2af7afa",
   "metadata": {
    "execution": {
     "iopub.execute_input": "2022-07-15T06:47:28.906732Z",
     "iopub.status.busy": "2022-07-15T06:47:28.906321Z",
     "iopub.status.idle": "2022-07-15T06:47:29.065408Z",
     "shell.execute_reply": "2022-07-15T06:47:29.064703Z"
    },
    "papermill": {
     "duration": 0.164651,
     "end_time": "2022-07-15T06:47:29.066932",
     "exception": false,
     "start_time": "2022-07-15T06:47:28.902281",
     "status": "completed"
    },
    "tags": []
   },
   "outputs": [
    {
     "data": {
      "text/plain": [
       "SVC(C=0.001, kernel='linear', probability=True)"
      ]
     },
     "execution_count": 8,
     "metadata": {},
     "output_type": "execute_result"
    }
   ],
   "source": [
    "model = SVC(C=0.001, kernel=\"linear\", probability=True)\n",
    "\n",
    "model.fit(X_train, y_train)"
   ]
  },
  {
   "cell_type": "markdown",
   "id": "f2200c8a",
   "metadata": {
    "papermill": {
     "duration": 0.003415,
     "end_time": "2022-07-15T06:47:29.074076",
     "exception": false,
     "start_time": "2022-07-15T06:47:29.070661",
     "status": "completed"
    },
    "tags": []
   },
   "source": [
    "### Q: Can the labels returned by `predict(..)` be computed from probabilities returned by the `predict_prob`-method?"
   ]
  },
  {
   "cell_type": "code",
   "execution_count": 9,
   "id": "11ef1700",
   "metadata": {
    "execution": {
     "iopub.execute_input": "2022-07-15T06:47:29.082109Z",
     "iopub.status.busy": "2022-07-15T06:47:29.081851Z",
     "iopub.status.idle": "2022-07-15T06:47:29.165304Z",
     "shell.execute_reply": "2022-07-15T06:47:29.164732Z"
    },
    "papermill": {
     "duration": 0.090048,
     "end_time": "2022-07-15T06:47:29.167172",
     "exception": false,
     "start_time": "2022-07-15T06:47:29.077124",
     "status": "completed"
    },
    "tags": []
   },
   "outputs": [
    {
     "name": "stdout",
     "output_type": "stream",
     "text": [
      " - Logging nr_max_prob_neq_label (int) : 1\n"
     ]
    }
   ],
   "source": [
    "import numpy as np\n",
    "\n",
    "y_train_labels = model.predict(X_train)\n",
    "y_train_probabilities = model.predict_proba(X_train)\n",
    "assert y_train_probabilities.shape == (len(y_train), 10)\n",
    "\n",
    "y_train_max_prob_labels = np.argmax(y_train_probabilities, axis=1)\n",
    "assert y_train_labels.shape == y_train_max_prob_labels.shape == y_train.shape\n",
    "\n",
    "# If the predicted labels would coincide with the labels that have\n",
    "# maximum probability, the below number would be zero\n",
    "logger.log_int(\n",
    "    \"nr_max_prob_neq_label\", int(sum(y_train_max_prob_labels != y_train_labels))\n",
    ")"
   ]
  },
  {
   "cell_type": "markdown",
   "id": "bd120127",
   "metadata": {
    "papermill": {
     "duration": 0.003488,
     "end_time": "2022-07-15T06:47:29.173852",
     "exception": false,
     "start_time": "2022-07-15T06:47:29.170364",
     "status": "completed"
    },
    "tags": []
   },
   "source": [
    "The explanation is (likely) explained in the SVC source, see\n",
    "[here](https://github.com/scikit-learn/scikit-learn/blob/main/sklearn/svm/_base.py).\n",
    "Namely, the outputs from `predict(..)` and `predict_proba(..)` may not in some\n",
    "cases be compatible since the latter is computed using cross-validation while\n",
    "the former is not. Thus, the above number need not be zero."
   ]
  },
  {
   "cell_type": "markdown",
   "id": "4f16e523",
   "metadata": {
    "papermill": {
     "duration": 0.003084,
     "end_time": "2022-07-15T06:47:29.180460",
     "exception": false,
     "start_time": "2022-07-15T06:47:29.177376",
     "status": "completed"
    },
    "tags": []
   },
   "source": [
    "## Persist model"
   ]
  },
  {
   "cell_type": "code",
   "execution_count": 10,
   "id": "86670ea0",
   "metadata": {
    "execution": {
     "iopub.execute_input": "2022-07-15T06:47:29.188746Z",
     "iopub.status.busy": "2022-07-15T06:47:29.188410Z",
     "iopub.status.idle": "2022-07-15T06:47:30.276034Z",
     "shell.execute_reply": "2022-07-15T06:47:30.275379Z"
    },
    "papermill": {
     "duration": 1.094207,
     "end_time": "2022-07-15T06:47:30.278010",
     "exception": false,
     "start_time": "2022-07-15T06:47:29.183803",
     "status": "completed"
    },
    "tags": []
   },
   "outputs": [],
   "source": [
    "from skl2onnx import convert_sklearn\n",
    "from skl2onnx.common.data_types import FloatTensorType\n",
    "\n",
    "#\n",
    "from common.io import datalake_root, write_onnx"
   ]
  },
  {
   "cell_type": "code",
   "execution_count": 11,
   "id": "a5125192",
   "metadata": {
    "execution": {
     "iopub.execute_input": "2022-07-15T06:47:30.289252Z",
     "iopub.status.busy": "2022-07-15T06:47:30.288527Z",
     "iopub.status.idle": "2022-07-15T06:47:30.340523Z",
     "shell.execute_reply": "2022-07-15T06:47:30.339711Z"
    },
    "papermill": {
     "duration": 0.058001,
     "end_time": "2022-07-15T06:47:30.342195",
     "exception": false,
     "start_time": "2022-07-15T06:47:30.284194",
     "status": "completed"
    },
    "tags": []
   },
   "outputs": [],
   "source": [
    "# convert sklearn model into onnx and persist to data lake\n",
    "\n",
    "model_onnx = convert_sklearn(\n",
    "    model, initial_types=[(\"float_input_8x8_image\", FloatTensorType([None, 8 * 8]))]\n",
    ")\n",
    "write_onnx(\n",
    "    datalake_root(P)\n",
    "    / \"models\"\n",
    "    / f\"nr_train_images={P['task.nr_train_images']}\"\n",
    "    / \"model.onnx\",\n",
    "    model_onnx,\n",
    ")"
   ]
  },
  {
   "cell_type": "code",
   "execution_count": null,
   "id": "903c2ef5",
   "metadata": {
    "papermill": {
     "duration": 0.003668,
     "end_time": "2022-07-15T06:47:30.349391",
     "exception": false,
     "start_time": "2022-07-15T06:47:30.345723",
     "status": "completed"
    },
    "tags": []
   },
   "outputs": [],
   "source": []
  }
 ],
 "metadata": {
  "jupytext": {
   "cell_metadata_filter": "tags,-all",
   "main_language": "python",
   "notebook_metadata_filter": "-all"
  },
  "language_info": {
   "codemirror_mode": {
    "name": "ipython",
    "version": 3
   },
   "file_extension": ".py",
   "mimetype": "text/x-python",
   "name": "python",
   "nbconvert_exporter": "python",
   "pygments_lexer": "ipython3",
   "version": "3.8.10"
  },
  "papermill": {
   "default_parameters": {},
   "duration": 4.885102,
   "end_time": "2022-07-15T06:47:31.371569",
   "environment_variables": {},
   "exception": null,
   "input_path": "/home/host_user/workspace/mnist-demo-pipeline/mnist-demo-pipeline/notebooks/temp-notebook-56q4c05s.ipynb",
   "output_path": "notebooks/train-model.ipynb",
   "parameters": {
    "P": {
     "_opentelemetry_traceparent": "00-fb678ccd790c7800a08656a888971846-aee6d86f29fc7d71-01",
     "pipeline.data_lake_root": "/pipeline-outputs/data-lake",
     "pipeline.github.actor": "matiasdahl",
     "pipeline.github.base_ref": "",
     "pipeline.github.event_name": "schedule",
     "pipeline.github.head_ref": "",
     "pipeline.github.job": "run-tests-pipeline-and-persist-pipeline-outputs",
     "pipeline.github.ref": "refs/heads/development",
     "pipeline.github.ref_name": "development",
     "pipeline.github.ref_type": "branch",
     "pipeline.github.repository": "pynb-dag-runner/mnist-digits-demo-pipeline",
     "pipeline.github.run_id": "2675107270",
     "pipeline.github.runner_name": "Hosted Agent",
     "pipeline.github.sha": "147a1be9916173fd4d2cd011d8d51e3411215850",
     "pipeline.github.workflow": "Run automated tests, pipeline and deploy results to static reporting site",
     "pipeline.pipeline_run_id": "8c5f68ab-4954-4919-9b60-71ba0cf49a23",
     "pipeline.run_environment": "ci",
     "run.retry_nr": "0",
     "task.max_nr_retries": "1",
     "task.notebook": "notebooks/train-model.py",
     "task.nr_train_images": 1000,
     "task.num_cpus": 1,
     "task.timeout_s": "None"
    }
   },
   "start_time": "2022-07-15T06:47:26.486467",
   "version": "2.3.3"
  }
 },
 "nbformat": 4,
 "nbformat_minor": 5
}