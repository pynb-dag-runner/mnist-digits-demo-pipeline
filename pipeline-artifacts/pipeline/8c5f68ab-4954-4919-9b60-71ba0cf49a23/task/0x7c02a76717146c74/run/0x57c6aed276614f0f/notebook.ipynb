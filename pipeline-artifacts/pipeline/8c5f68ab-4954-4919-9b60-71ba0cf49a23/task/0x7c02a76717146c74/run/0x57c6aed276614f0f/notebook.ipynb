{
 "cells": [
  {
   "cell_type": "markdown",
   "id": "dd0cf68a",
   "metadata": {
    "papermill": {
     "duration": 0.005904,
     "end_time": "2022-07-15T06:47:43.378043",
     "exception": false,
     "start_time": "2022-07-15T06:47:43.372139",
     "status": "completed"
    },
    "tags": []
   },
   "source": [
    "# Benchmark model\n",
    "\n",
    "The purpose of this notebook is to benchmark persisted onnx-model (trained in the\n",
    "previous step) against evaluation set."
   ]
  },
  {
   "cell_type": "markdown",
   "id": "a8a23a63",
   "metadata": {
    "papermill": {
     "duration": 0.004695,
     "end_time": "2022-07-15T06:47:43.387304",
     "exception": false,
     "start_time": "2022-07-15T06:47:43.382609",
     "status": "completed"
    },
    "tags": []
   },
   "source": [
    "### Determine run parameters"
   ]
  },
  {
   "cell_type": "code",
   "execution_count": 1,
   "id": "f85cf9f9",
   "metadata": {
    "execution": {
     "iopub.execute_input": "2022-07-15T06:47:43.396952Z",
     "iopub.status.busy": "2022-07-15T06:47:43.396638Z",
     "iopub.status.idle": "2022-07-15T06:47:43.410188Z",
     "shell.execute_reply": "2022-07-15T06:47:43.409657Z"
    },
    "lines_to_next_cell": 0,
    "papermill": {
     "duration": 0.021255,
     "end_time": "2022-07-15T06:47:43.412594",
     "exception": false,
     "start_time": "2022-07-15T06:47:43.391339",
     "status": "completed"
    },
    "tags": []
   },
   "outputs": [],
   "source": [
    "# ----------------- Parameters for interactive development --------------\n",
    "P = {\n",
    "    \"pipeline.data_lake_root\": \"/pipeline-outputs/data-lake\",\n",
    "    \"task.nr_train_images\": 600,\n",
    "}"
   ]
  },
  {
   "cell_type": "code",
   "execution_count": 2,
   "id": "40f2bab8",
   "metadata": {
    "execution": {
     "iopub.execute_input": "2022-07-15T06:47:43.422049Z",
     "iopub.status.busy": "2022-07-15T06:47:43.421836Z",
     "iopub.status.idle": "2022-07-15T06:47:43.425123Z",
     "shell.execute_reply": "2022-07-15T06:47:43.424438Z"
    },
    "lines_to_next_cell": 0,
    "papermill": {
     "duration": 0.010672,
     "end_time": "2022-07-15T06:47:43.427899",
     "exception": false,
     "start_time": "2022-07-15T06:47:43.417227",
     "status": "completed"
    },
    "tags": [
     "parameters"
    ]
   },
   "outputs": [],
   "source": [
    "# - During automated runs parameters will be injected in the below cell -"
   ]
  },
  {
   "cell_type": "code",
   "execution_count": 3,
   "id": "cc78b5eb",
   "metadata": {
    "execution": {
     "iopub.execute_input": "2022-07-15T06:47:43.437701Z",
     "iopub.status.busy": "2022-07-15T06:47:43.437491Z",
     "iopub.status.idle": "2022-07-15T06:47:43.441969Z",
     "shell.execute_reply": "2022-07-15T06:47:43.441451Z"
    },
    "papermill": {
     "duration": 0.012042,
     "end_time": "2022-07-15T06:47:43.444325",
     "exception": false,
     "start_time": "2022-07-15T06:47:43.432283",
     "status": "completed"
    },
    "tags": [
     "injected-parameters"
    ]
   },
   "outputs": [],
   "source": [
    "# Parameters\n",
    "P = {\n",
    "    \"pipeline.data_lake_root\": \"/pipeline-outputs/data-lake\",\n",
    "    \"pipeline.run_environment\": \"ci\",\n",
    "    \"pipeline.pipeline_run_id\": \"8c5f68ab-4954-4919-9b60-71ba0cf49a23\",\n",
    "    \"pipeline.github.repository\": \"pynb-dag-runner/mnist-digits-demo-pipeline\",\n",
    "    \"pipeline.github.workflow\": \"Run automated tests, pipeline and deploy results to static reporting site\",\n",
    "    \"pipeline.github.runner_name\": \"Hosted Agent\",\n",
    "    \"pipeline.github.run_id\": \"2675107270\",\n",
    "    \"pipeline.github.actor\": \"matiasdahl\",\n",
    "    \"pipeline.github.job\": \"run-tests-pipeline-and-persist-pipeline-outputs\",\n",
    "    \"pipeline.github.base_ref\": \"\",\n",
    "    \"pipeline.github.head_ref\": \"\",\n",
    "    \"pipeline.github.sha\": \"147a1be9916173fd4d2cd011d8d51e3411215850\",\n",
    "    \"pipeline.github.ref\": \"refs/heads/development\",\n",
    "    \"pipeline.github.ref_type\": \"branch\",\n",
    "    \"pipeline.github.ref_name\": \"development\",\n",
    "    \"pipeline.github.event_name\": \"schedule\",\n",
    "    \"task.nr_train_images\": 600,\n",
    "    \"task.notebook\": \"notebooks/benchmark-model.py\",\n",
    "    \"task.max_nr_retries\": \"1\",\n",
    "    \"run.retry_nr\": \"0\",\n",
    "    \"task.timeout_s\": \"None\",\n",
    "    \"task.num_cpus\": 1,\n",
    "    \"_opentelemetry_traceparent\": \"00-fb678ccd790c7800a08656a888971846-2b37f89637e4e00e-01\",\n",
    "}\n"
   ]
  },
  {
   "cell_type": "code",
   "execution_count": 4,
   "id": "099a8539",
   "metadata": {
    "execution": {
     "iopub.execute_input": "2022-07-15T06:47:43.455501Z",
     "iopub.status.busy": "2022-07-15T06:47:43.455296Z",
     "iopub.status.idle": "2022-07-15T06:47:43.458531Z",
     "shell.execute_reply": "2022-07-15T06:47:43.458017Z"
    },
    "lines_to_next_cell": 0,
    "papermill": {
     "duration": 0.011745,
     "end_time": "2022-07-15T06:47:43.460904",
     "exception": false,
     "start_time": "2022-07-15T06:47:43.449159",
     "status": "completed"
    },
    "tags": []
   },
   "outputs": [],
   "source": [
    "# -----------------------------------------------------------------------"
   ]
  },
  {
   "cell_type": "markdown",
   "id": "75c81b53",
   "metadata": {
    "papermill": {
     "duration": 0.004462,
     "end_time": "2022-07-15T06:47:43.469182",
     "exception": false,
     "start_time": "2022-07-15T06:47:43.464720",
     "status": "completed"
    },
    "tags": []
   },
   "source": [
    "---"
   ]
  },
  {
   "cell_type": "markdown",
   "id": "520e16e1",
   "metadata": {
    "lines_to_next_cell": 2,
    "papermill": {
     "duration": 0.004855,
     "end_time": "2022-07-15T06:47:43.478014",
     "exception": false,
     "start_time": "2022-07-15T06:47:43.473159",
     "status": "completed"
    },
    "tags": []
   },
   "source": [
    "### Notebook code"
   ]
  },
  {
   "cell_type": "code",
   "execution_count": 5,
   "id": "c88bcbc8",
   "metadata": {
    "execution": {
     "iopub.execute_input": "2022-07-15T06:47:43.486888Z",
     "iopub.status.busy": "2022-07-15T06:47:43.486651Z",
     "iopub.status.idle": "2022-07-15T06:47:44.634561Z",
     "shell.execute_reply": "2022-07-15T06:47:44.633377Z"
    },
    "papermill": {
     "duration": 1.155406,
     "end_time": "2022-07-15T06:47:44.637437",
     "exception": false,
     "start_time": "2022-07-15T06:47:43.482031",
     "status": "completed"
    },
    "tags": []
   },
   "outputs": [
    {
     "name": "stderr",
     "output_type": "stream",
     "text": [
      "2022-07-15 06:47:44,447\tINFO worker.py:842 -- Connecting to existing Ray cluster at address: 172.17.0.2:6379\n"
     ]
    }
   ],
   "source": [
    "import itertools as it\n",
    "\n",
    "#\n",
    "import numpy as np\n",
    "import matplotlib.pyplot as plt\n",
    "\n",
    "#\n",
    "from pynb_dag_runner.tasks.task_opentelemetry_logging import PydarLogger\n",
    "\n",
    "#\n",
    "from common.io import datalake_root\n",
    "\n",
    "logger = PydarLogger(P)"
   ]
  },
  {
   "cell_type": "markdown",
   "id": "4927bfd6",
   "metadata": {
    "papermill": {
     "duration": 0.005082,
     "end_time": "2022-07-15T06:47:44.647365",
     "exception": false,
     "start_time": "2022-07-15T06:47:44.642283",
     "status": "completed"
    },
    "tags": []
   },
   "source": [
    "## Load persisted onnx-model and evaluation data"
   ]
  },
  {
   "cell_type": "code",
   "execution_count": 6,
   "id": "5b60fb9e",
   "metadata": {
    "execution": {
     "iopub.execute_input": "2022-07-15T06:47:44.657009Z",
     "iopub.status.busy": "2022-07-15T06:47:44.656681Z",
     "iopub.status.idle": "2022-07-15T06:47:44.660223Z",
     "shell.execute_reply": "2022-07-15T06:47:44.659677Z"
    },
    "papermill": {
     "duration": 0.010931,
     "end_time": "2022-07-15T06:47:44.662603",
     "exception": false,
     "start_time": "2022-07-15T06:47:44.651672",
     "status": "completed"
    },
    "tags": []
   },
   "outputs": [],
   "source": [
    "from common.io import read_onnx, get_onnx_inputs, get_onnx_outputs, read_numpy"
   ]
  },
  {
   "cell_type": "code",
   "execution_count": 7,
   "id": "72e68923",
   "metadata": {
    "execution": {
     "iopub.execute_input": "2022-07-15T06:47:44.678263Z",
     "iopub.status.busy": "2022-07-15T06:47:44.677953Z",
     "iopub.status.idle": "2022-07-15T06:47:44.687905Z",
     "shell.execute_reply": "2022-07-15T06:47:44.687407Z"
    },
    "lines_to_next_cell": 0,
    "papermill": {
     "duration": 0.016505,
     "end_time": "2022-07-15T06:47:44.689505",
     "exception": false,
     "start_time": "2022-07-15T06:47:44.673000",
     "status": "completed"
    },
    "tags": []
   },
   "outputs": [],
   "source": [
    "onnx_inference_session = read_onnx(\n",
    "    datalake_root(P)\n",
    "    / \"models\"\n",
    "    / f\"nr_train_images={P['task.nr_train_images']}\"\n",
    "    / \"model.onnx\"\n",
    ")"
   ]
  },
  {
   "cell_type": "markdown",
   "id": "98598f77",
   "metadata": {
    "papermill": {
     "duration": 0.004258,
     "end_time": "2022-07-15T06:47:44.697896",
     "exception": false,
     "start_time": "2022-07-15T06:47:44.693638",
     "status": "completed"
    },
    "tags": []
   },
   "source": [
    "### Record structure of inputs and outputs for ONNX model\n",
    "\n",
    "(this should likely be done in training notebook)"
   ]
  },
  {
   "cell_type": "code",
   "execution_count": 8,
   "id": "ba2d8e31",
   "metadata": {
    "execution": {
     "iopub.execute_input": "2022-07-15T06:47:44.707574Z",
     "iopub.status.busy": "2022-07-15T06:47:44.707348Z",
     "iopub.status.idle": "2022-07-15T06:47:44.712666Z",
     "shell.execute_reply": "2022-07-15T06:47:44.712156Z"
    },
    "papermill": {
     "duration": 0.014045,
     "end_time": "2022-07-15T06:47:44.716041",
     "exception": false,
     "start_time": "2022-07-15T06:47:44.701996",
     "status": "completed"
    },
    "tags": []
   },
   "outputs": [
    {
     "name": "stdout",
     "output_type": "stream",
     "text": [
      "{\n",
      "  \"inputs\": [\n",
      "    {\n",
      "      \"name\": \"float_input_8x8_image\",\n",
      "      \"shape\": [\n",
      "        null,\n",
      "        64\n",
      "      ],\n",
      "      \"type\": \"tensor(float)\"\n",
      "    }\n",
      "  ],\n",
      "  \"outputs\": [\n",
      "    {\n",
      "      \"name\": \"output_label\",\n",
      "      \"shape\": [\n",
      "        null\n",
      "      ],\n",
      "      \"type\": \"tensor(int64)\"\n",
      "    },\n",
      "    {\n",
      "      \"name\": \"output_probability\",\n",
      "      \"shape\": [],\n",
      "      \"type\": \"seq(map(int64,tensor(float)))\"\n",
      "    }\n",
      "  ]\n",
      "}\n"
     ]
    }
   ],
   "source": [
    "import json\n",
    "\n",
    "onnx_io = json.dumps(\n",
    "    {\n",
    "        \"inputs\": get_onnx_inputs(onnx_inference_session),\n",
    "        \"outputs\": get_onnx_outputs(onnx_inference_session),\n",
    "    },\n",
    "    indent=2,\n",
    ")\n",
    "\n",
    "\n",
    "logger.log_artefact(\"onnx_io_structure.json\", onnx_io)\n",
    "print(onnx_io)"
   ]
  },
  {
   "cell_type": "markdown",
   "id": "d2ef5837",
   "metadata": {
    "papermill": {
     "duration": 0.004654,
     "end_time": "2022-07-15T06:47:44.724878",
     "exception": false,
     "start_time": "2022-07-15T06:47:44.720224",
     "status": "completed"
    },
    "tags": []
   },
   "source": [
    "### Evaluate model performance on evaluation data set"
   ]
  },
  {
   "cell_type": "code",
   "execution_count": 9,
   "id": "0e5d9787",
   "metadata": {
    "execution": {
     "iopub.execute_input": "2022-07-15T06:47:44.735435Z",
     "iopub.status.busy": "2022-07-15T06:47:44.735193Z",
     "iopub.status.idle": "2022-07-15T06:47:44.739394Z",
     "shell.execute_reply": "2022-07-15T06:47:44.738870Z"
    },
    "papermill": {
     "duration": 0.01278,
     "end_time": "2022-07-15T06:47:44.742235",
     "exception": false,
     "start_time": "2022-07-15T06:47:44.729455",
     "status": "completed"
    },
    "tags": []
   },
   "outputs": [],
   "source": [
    "# load evaluation data\n",
    "X_test = read_numpy(datalake_root(P) / \"test-data\" / \"digits.numpy\")\n",
    "y_test = read_numpy(datalake_root(P) / \"test-data\" / \"labels.numpy\")"
   ]
  },
  {
   "cell_type": "code",
   "execution_count": 10,
   "id": "7490a310",
   "metadata": {
    "execution": {
     "iopub.execute_input": "2022-07-15T06:47:44.752813Z",
     "iopub.status.busy": "2022-07-15T06:47:44.752601Z",
     "iopub.status.idle": "2022-07-15T06:47:44.765343Z",
     "shell.execute_reply": "2022-07-15T06:47:44.764723Z"
    },
    "papermill": {
     "duration": 0.019783,
     "end_time": "2022-07-15T06:47:44.766879",
     "exception": false,
     "start_time": "2022-07-15T06:47:44.747096",
     "status": "completed"
    },
    "tags": []
   },
   "outputs": [],
   "source": [
    "def get_model_outputs(X, onnx_inference_session):\n",
    "    y_pred_labels, y_pred_map = onnx_inference_session.run(\n",
    "        [\"output_label\", \"output_probability\"],\n",
    "        {\"float_input_8x8_image\": X.astype(np.float32)},\n",
    "    )\n",
    "    y_pred_probs = np.array(\n",
    "        [[probabilities[digit] for digit in range(10)] for probabilities in y_pred_map]\n",
    "    )\n",
    "\n",
    "    assert y_pred_labels.shape == (X.shape[0],)\n",
    "    assert y_pred_probs.shape == (X.shape[0], 10)\n",
    "\n",
    "    return y_pred_labels, y_pred_probs\n",
    "\n",
    "\n",
    "# Note: as shown in the training notebook, the predicted labels and probabilities\n",
    "# computed below need not be compatible.\n",
    "y_pred_labels_test, y_pred_probs_test = get_model_outputs(\n",
    "    X_test, onnx_inference_session\n",
    ")"
   ]
  },
  {
   "cell_type": "markdown",
   "id": "f54aa5ac",
   "metadata": {
    "papermill": {
     "duration": 0.004469,
     "end_time": "2022-07-15T06:47:44.775922",
     "exception": false,
     "start_time": "2022-07-15T06:47:44.771453",
     "status": "completed"
    },
    "tags": []
   },
   "source": [
    "### Confusion matrix"
   ]
  },
  {
   "cell_type": "code",
   "execution_count": 11,
   "id": "f2324baf",
   "metadata": {
    "execution": {
     "iopub.execute_input": "2022-07-15T06:47:44.785256Z",
     "iopub.status.busy": "2022-07-15T06:47:44.785041Z",
     "iopub.status.idle": "2022-07-15T06:47:44.787943Z",
     "shell.execute_reply": "2022-07-15T06:47:44.787364Z"
    },
    "papermill": {
     "duration": 0.010256,
     "end_time": "2022-07-15T06:47:44.790397",
     "exception": false,
     "start_time": "2022-07-15T06:47:44.780141",
     "status": "completed"
    },
    "tags": []
   },
   "outputs": [],
   "source": [
    "# TODO"
   ]
  },
  {
   "cell_type": "markdown",
   "id": "c4e98970",
   "metadata": {
    "papermill": {
     "duration": 0.004473,
     "end_time": "2022-07-15T06:47:44.799269",
     "exception": false,
     "start_time": "2022-07-15T06:47:44.794796",
     "status": "completed"
    },
    "tags": []
   },
   "source": [
    "### Plot predicted probabilities for each classifier over all evaluation digit images"
   ]
  },
  {
   "cell_type": "code",
   "execution_count": 12,
   "id": "24335c2f",
   "metadata": {
    "execution": {
     "iopub.execute_input": "2022-07-15T06:47:44.809027Z",
     "iopub.status.busy": "2022-07-15T06:47:44.808812Z",
     "iopub.status.idle": "2022-07-15T06:47:47.696668Z",
     "shell.execute_reply": "2022-07-15T06:47:47.696082Z"
    },
    "papermill": {
     "duration": 2.894643,
     "end_time": "2022-07-15T06:47:47.698339",
     "exception": false,
     "start_time": "2022-07-15T06:47:44.803696",
     "status": "completed"
    },
    "tags": []
   },
   "outputs": [
    {
     "data": {
      "image/png": "[encoded data removed]",
      "text/plain": [
       "<Figure size 1152x432 with 10 Axes>"
      ]
     },
     "metadata": {
      "needs_background": "light"
     },
     "output_type": "display_data"
    }
   ],
   "source": [
    "def plot_per_digit_probabilities(y_pred_probs):\n",
    "    fig, axs = plt.subplots(nrows=2, ncols=5, figsize=(16, 6))\n",
    "\n",
    "    for (r, c), digit, ax in zip(\n",
    "        it.product(range(2), range(5)), range(10), axs.reshape(-1)\n",
    "    ):\n",
    "        ax.hist(y_pred_probs_test[:, digit], bins=20)\n",
    "\n",
    "        ax.set_title(f\"Digit {digit}\")\n",
    "        if r == 1 and c == 2:\n",
    "            ax.set_xlabel(\"probability\", fontsize=16)\n",
    "\n",
    "        if c == 0:\n",
    "            ax.set_ylabel(\"counts\", fontsize=16)\n",
    "        ax.set_yscale(\"log\")\n",
    "\n",
    "    fig.tight_layout()\n",
    "    fig.suptitle(\n",
    "        f\"Distributions of prediction probabilities for each digit \"\n",
    "        f\"(on evaluation data, n={y_pred_probs.shape[0]})\",\n",
    "        fontsize=20,\n",
    "    )\n",
    "    fig.tight_layout()\n",
    "    fig.show()\n",
    "\n",
    "    return fig\n",
    "\n",
    "\n",
    "fig = plot_per_digit_probabilities(y_pred_probs_test)"
   ]
  },
  {
   "cell_type": "markdown",
   "id": "0900e8f3",
   "metadata": {
    "papermill": {
     "duration": 0.006244,
     "end_time": "2022-07-15T06:47:47.709925",
     "exception": false,
     "start_time": "2022-07-15T06:47:47.703681",
     "status": "completed"
    },
    "tags": []
   },
   "source": [
    "From the above distributions we see that most digits have clear separation between\n",
    "high and lower probabilities. Morover, in each case there is roughly an order of\n",
    "magnitude more of digits with low probabilities. This is compatible with digits\n",
    "being roughly evenly distributed in the data."
   ]
  },
  {
   "cell_type": "code",
   "execution_count": 13,
   "id": "10c665e5",
   "metadata": {
    "execution": {
     "iopub.execute_input": "2022-07-15T06:47:47.720834Z",
     "iopub.status.busy": "2022-07-15T06:47:47.720584Z",
     "iopub.status.idle": "2022-07-15T06:47:48.128710Z",
     "shell.execute_reply": "2022-07-15T06:47:48.128146Z"
    },
    "papermill": {
     "duration": 0.415944,
     "end_time": "2022-07-15T06:47:48.130661",
     "exception": false,
     "start_time": "2022-07-15T06:47:47.714717",
     "status": "completed"
    },
    "tags": []
   },
   "outputs": [],
   "source": [
    "logger.log_figure(\"per-digit-probabilities.png\", fig)"
   ]
  },
  {
   "cell_type": "markdown",
   "id": "e4c9ced4",
   "metadata": {
    "papermill": {
     "duration": 0.00504,
     "end_time": "2022-07-15T06:47:48.141083",
     "exception": false,
     "start_time": "2022-07-15T06:47:48.136043",
     "status": "completed"
    },
    "tags": []
   },
   "source": [
    "### Plot ROC curves for individual one-vs-rest classifiers"
   ]
  },
  {
   "cell_type": "code",
   "execution_count": 14,
   "id": "6916a224",
   "metadata": {
    "execution": {
     "iopub.execute_input": "2022-07-15T06:47:48.153521Z",
     "iopub.status.busy": "2022-07-15T06:47:48.153255Z",
     "iopub.status.idle": "2022-07-15T06:47:48.531679Z",
     "shell.execute_reply": "2022-07-15T06:47:48.531090Z"
    },
    "papermill": {
     "duration": 0.386304,
     "end_time": "2022-07-15T06:47:48.533587",
     "exception": false,
     "start_time": "2022-07-15T06:47:48.147283",
     "status": "completed"
    },
    "tags": []
   },
   "outputs": [],
   "source": [
    "from sklearn import metrics"
   ]
  },
  {
   "cell_type": "code",
   "execution_count": 15,
   "id": "85956395",
   "metadata": {
    "execution": {
     "iopub.execute_input": "2022-07-15T06:47:48.546317Z",
     "iopub.status.busy": "2022-07-15T06:47:48.546050Z",
     "iopub.status.idle": "2022-07-15T06:47:49.883783Z",
     "shell.execute_reply": "2022-07-15T06:47:49.883232Z"
    },
    "papermill": {
     "duration": 1.34618,
     "end_time": "2022-07-15T06:47:49.885482",
     "exception": false,
     "start_time": "2022-07-15T06:47:48.539302",
     "status": "completed"
    },
    "tags": []
   },
   "outputs": [
    {
     "data": {
      "image/png": "[encoded data removed]",
      "text/plain": [
       "<Figure size 1152x576 with 10 Axes>"
      ]
     },
     "metadata": {
      "needs_background": "light"
     },
     "output_type": "display_data"
    }
   ],
   "source": [
    "def plot_roc_curves(y, y_pred_probs):\n",
    "    # based on example code\n",
    "    # https://scikit-learn.org/stable/auto_examples/model_selection/plot_roc.html\n",
    "\n",
    "    fig, axs = plt.subplots(nrows=2, ncols=5, figsize=(16, 8))\n",
    "\n",
    "    roc_auc_dict = {}\n",
    "\n",
    "    for (r, c), digit, ax in zip(\n",
    "        it.product(range(2), range(5)), range(10), axs.reshape(-1)\n",
    "    ):\n",
    "        fpr, tpr, _ = metrics.roc_curve(y == digit, y_pred_probs[:, digit])\n",
    "        auc = metrics.auc(fpr, tpr)\n",
    "        roc_auc_dict[str(digit)] = auc\n",
    "\n",
    "        ax.plot(fpr, tpr, label=f\"ROC AUC={round(auc, 3)}\")\n",
    "\n",
    "        ax.set_title(f\"\\nDigit {digit}\", fontsize=16)\n",
    "        if r == 1:\n",
    "            ax.set_xlabel(\"FPR\", fontsize=18)\n",
    "\n",
    "        if c == 0:\n",
    "            ax.set_ylabel(\"TPR\", fontsize=18)\n",
    "\n",
    "        ax.set_xlim([-0.05, 1.05])\n",
    "        ax.set_ylim([-0.05, 1.05])\n",
    "        ax.legend(loc=\"lower right\", frameon=False, fontsize=14)\n",
    "\n",
    "    fig.tight_layout()\n",
    "    fig.suptitle(\n",
    "        f\"ROC plots for one-vs-rest performances \"\n",
    "        f\"(on evaluation data, n={y_pred_probs_test.shape[1]}\",\n",
    "        fontsize=22,\n",
    "    )\n",
    "    fig.tight_layout()\n",
    "    fig.show()\n",
    "\n",
    "    return roc_auc_dict, fig\n",
    "\n",
    "\n",
    "roc_auc_dict, fig = plot_roc_curves(y_test, y_pred_probs_test)"
   ]
  },
  {
   "cell_type": "code",
   "execution_count": 16,
   "id": "eca5d3bc",
   "metadata": {
    "execution": {
     "iopub.execute_input": "2022-07-15T06:47:49.897898Z",
     "iopub.status.busy": "2022-07-15T06:47:49.897658Z",
     "iopub.status.idle": "2022-07-15T06:47:50.094903Z",
     "shell.execute_reply": "2022-07-15T06:47:50.094322Z"
    },
    "papermill": {
     "duration": 0.205526,
     "end_time": "2022-07-15T06:47:50.096773",
     "exception": false,
     "start_time": "2022-07-15T06:47:49.891247",
     "status": "completed"
    },
    "tags": []
   },
   "outputs": [],
   "source": [
    "logger.log_figure(\"per-digit-roc-curves.png\", fig)"
   ]
  },
  {
   "cell_type": "code",
   "execution_count": 17,
   "id": "4990e6a1",
   "metadata": {
    "execution": {
     "iopub.execute_input": "2022-07-15T06:47:50.108970Z",
     "iopub.status.busy": "2022-07-15T06:47:50.108726Z",
     "iopub.status.idle": "2022-07-15T06:47:50.113118Z",
     "shell.execute_reply": "2022-07-15T06:47:50.112605Z"
    },
    "papermill": {
     "duration": 0.013956,
     "end_time": "2022-07-15T06:47:50.116471",
     "exception": false,
     "start_time": "2022-07-15T06:47:50.102515",
     "status": "completed"
    },
    "tags": []
   },
   "outputs": [
    {
     "data": {
      "text/plain": [
       "{'0': 1.0,\n",
       " '1': 0.9992127460168697,\n",
       " '2': 1.0,\n",
       " '3': 0.9998125585754452,\n",
       " '4': 0.9991617131534827,\n",
       " '5': 0.9988378631677601,\n",
       " '6': 0.999923792104862,\n",
       " '7': 0.9998475842097241,\n",
       " '8': 0.9948376418663304,\n",
       " '9': 0.998742569730224}"
      ]
     },
     "execution_count": 17,
     "metadata": {},
     "output_type": "execute_result"
    }
   ],
   "source": [
    "roc_auc_dict"
   ]
  },
  {
   "cell_type": "code",
   "execution_count": 18,
   "id": "200f051e",
   "metadata": {
    "execution": {
     "iopub.execute_input": "2022-07-15T06:47:50.128478Z",
     "iopub.status.busy": "2022-07-15T06:47:50.128256Z",
     "iopub.status.idle": "2022-07-15T06:47:50.131836Z",
     "shell.execute_reply": "2022-07-15T06:47:50.131303Z"
    },
    "papermill": {
     "duration": 0.012894,
     "end_time": "2022-07-15T06:47:50.134895",
     "exception": false,
     "start_time": "2022-07-15T06:47:50.122001",
     "status": "completed"
    },
    "tags": []
   },
   "outputs": [
    {
     "name": "stdout",
     "output_type": "stream",
     "text": [
      " - Logging roc_auc_per_digit (json) : {'0': 1.0, '1': 0.9992127460168697, '2': 1.0, '3': 0.9998125585754452, '4': 0.9991617131534827, '5': 0.9988378631677601, '6': 0.999923792104862, '7': 0.9998475842097241, '8': 0.9948376418663304, '9': 0.998742569730224}\n"
     ]
    }
   ],
   "source": [
    "logger.log_value(\"roc_auc_per_digit\", roc_auc_dict)"
   ]
  },
  {
   "cell_type": "markdown",
   "id": "7672b200",
   "metadata": {
    "papermill": {
     "duration": 0.00556,
     "end_time": "2022-07-15T06:47:50.145893",
     "exception": false,
     "start_time": "2022-07-15T06:47:50.140333",
     "status": "completed"
    },
    "tags": []
   },
   "source": [
    "### Compute and log mean ROC AUC score averaged over all digits"
   ]
  },
  {
   "cell_type": "code",
   "execution_count": 19,
   "id": "54736277",
   "metadata": {
    "execution": {
     "iopub.execute_input": "2022-07-15T06:47:50.157865Z",
     "iopub.status.busy": "2022-07-15T06:47:50.157645Z",
     "iopub.status.idle": "2022-07-15T06:47:50.169966Z",
     "shell.execute_reply": "2022-07-15T06:47:50.169462Z"
    },
    "papermill": {
     "duration": 0.020068,
     "end_time": "2022-07-15T06:47:50.171487",
     "exception": false,
     "start_time": "2022-07-15T06:47:50.151419",
     "status": "completed"
    },
    "tags": []
   },
   "outputs": [
    {
     "name": "stdout",
     "output_type": "stream",
     "text": [
      " - Logging roc_auc_class_mean (float) : 0.9990376468824698\n"
     ]
    }
   ],
   "source": [
    "roc_auc_macro = np.mean(list(roc_auc_dict.values()))\n",
    "\n",
    "logger.log_float(\"roc_auc_class_mean\", roc_auc_macro)\n",
    "\n",
    "# assert that the same value can be computed directly using sklearn\n",
    "assert roc_auc_macro == metrics.roc_auc_score(\n",
    "    y_test, y_pred_probs_test, average=\"macro\", multi_class=\"ovr\"\n",
    ")"
   ]
  },
  {
   "cell_type": "code",
   "execution_count": 20,
   "id": "214b4a16",
   "metadata": {
    "execution": {
     "iopub.execute_input": "2022-07-15T06:47:50.183943Z",
     "iopub.status.busy": "2022-07-15T06:47:50.183702Z",
     "iopub.status.idle": "2022-07-15T06:47:50.186449Z",
     "shell.execute_reply": "2022-07-15T06:47:50.185893Z"
    },
    "lines_to_next_cell": 0,
    "papermill": {
     "duration": 0.011323,
     "end_time": "2022-07-15T06:47:50.188864",
     "exception": false,
     "start_time": "2022-07-15T06:47:50.177541",
     "status": "completed"
    },
    "tags": []
   },
   "outputs": [],
   "source": [
    "# ---"
   ]
  },
  {
   "cell_type": "code",
   "execution_count": null,
   "id": "4b08ec3c",
   "metadata": {
    "papermill": {
     "duration": 0.005618,
     "end_time": "2022-07-15T06:47:50.200012",
     "exception": false,
     "start_time": "2022-07-15T06:47:50.194394",
     "status": "completed"
    },
    "tags": []
   },
   "outputs": [],
   "source": []
  }
 ],
 "metadata": {
  "jupytext": {
   "cell_metadata_filter": "tags,-all",
   "main_language": "python",
   "notebook_metadata_filter": "-all"
  },
  "language_info": {
   "codemirror_mode": {
    "name": "ipython",
    "version": 3
   },
   "file_extension": ".py",
   "mimetype": "text/x-python",
   "name": "python",
   "nbconvert_exporter": "python",
   "pygments_lexer": "ipython3",
   "version": "3.8.10"
  },
  "papermill": {
   "default_parameters": {},
   "duration": 9.253015,
   "end_time": "2022-07-15T06:47:51.228059",
   "environment_variables": {},
   "exception": null,
   "input_path": "/home/host_user/workspace/mnist-demo-pipeline/mnist-demo-pipeline/notebooks/temp-notebook-hgdho8d4.ipynb",
   "output_path": "notebooks/benchmark-model.ipynb",
   "parameters": {
    "P": {
     "_opentelemetry_traceparent": "00-fb678ccd790c7800a08656a888971846-2b37f89637e4e00e-01",
     "pipeline.data_lake_root": "/pipeline-outputs/data-lake",
     "pipeline.github.actor": "matiasdahl",
     "pipeline.github.base_ref": "",
     "pipeline.github.event_name": "schedule",
     "pipeline.github.head_ref": "",
     "pipeline.github.job": "run-tests-pipeline-and-persist-pipeline-outputs",
     "pipeline.github.ref": "refs/heads/development",
     "pipeline.github.ref_name": "development",
     "pipeline.github.ref_type": "branch",
     "pipeline.github.repository": "pynb-dag-runner/mnist-digits-demo-pipeline",
     "pipeline.github.run_id": "2675107270",
     "pipeline.github.runner_name": "Hosted Agent",
     "pipeline.github.sha": "147a1be9916173fd4d2cd011d8d51e3411215850",
     "pipeline.github.workflow": "Run automated tests, pipeline and deploy results to static reporting site",
     "pipeline.pipeline_run_id": "8c5f68ab-4954-4919-9b60-71ba0cf49a23",
     "pipeline.run_environment": "ci",
     "run.retry_nr": "0",
     "task.max_nr_retries": "1",
     "task.notebook": "notebooks/benchmark-model.py",
     "task.nr_train_images": 600,
     "task.num_cpus": 1,
     "task.timeout_s": "None"
    }
   },
   "start_time": "2022-07-15T06:47:41.975044",
   "version": "2.3.3"
  }
 },
 "nbformat": 4,
 "nbformat_minor": 5
}