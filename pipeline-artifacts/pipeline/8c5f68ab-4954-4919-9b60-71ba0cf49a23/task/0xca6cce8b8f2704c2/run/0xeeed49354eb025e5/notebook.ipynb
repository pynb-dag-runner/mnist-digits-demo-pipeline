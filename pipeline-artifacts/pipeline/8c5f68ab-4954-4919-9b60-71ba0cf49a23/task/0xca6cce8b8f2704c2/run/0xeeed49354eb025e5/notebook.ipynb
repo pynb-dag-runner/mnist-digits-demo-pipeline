{
 "cells": [
  {
   "cell_type": "markdown",
   "id": "5249c763",
   "metadata": {
    "papermill": {
     "duration": 0.004743,
     "end_time": "2022-07-15T06:47:31.606865",
     "exception": false,
     "start_time": "2022-07-15T06:47:31.602122",
     "status": "completed"
    },
    "tags": []
   },
   "source": [
    "# Train model\n",
    "\n",
    "The purpose of this notebook is:\n",
    "\n",
    "- Load all training data (images and labels).\n",
    "- Limit number of train images to `task.nr_train_images` (value provided as run parameter).\n",
    "- Train a support vector machine model using sklearn.\n",
    "- Persist the trained model using the ONNX format."
   ]
  },
  {
   "cell_type": "markdown",
   "id": "ff327d7f",
   "metadata": {
    "papermill": {
     "duration": 0.003063,
     "end_time": "2022-07-15T06:47:31.615115",
     "exception": false,
     "start_time": "2022-07-15T06:47:31.612052",
     "status": "completed"
    },
    "tags": []
   },
   "source": [
    "### Determine run parameters"
   ]
  },
  {
   "cell_type": "code",
   "execution_count": 1,
   "id": "54e2db61",
   "metadata": {
    "execution": {
     "iopub.execute_input": "2022-07-15T06:47:31.623240Z",
     "iopub.status.busy": "2022-07-15T06:47:31.622940Z",
     "iopub.status.idle": "2022-07-15T06:47:31.631551Z",
     "shell.execute_reply": "2022-07-15T06:47:31.631033Z"
    },
    "lines_to_next_cell": 0,
    "papermill": {
     "duration": 0.0153,
     "end_time": "2022-07-15T06:47:31.633690",
     "exception": false,
     "start_time": "2022-07-15T06:47:31.618390",
     "status": "completed"
    },
    "tags": []
   },
   "outputs": [],
   "source": [
    "# ----------------- Parameters for interactive development --------------\n",
    "P = {\n",
    "    \"pipeline.data_lake_root\": \"/pipeline-outputs/data-lake\",\n",
    "    \"task.nr_train_images\": 600,\n",
    "}"
   ]
  },
  {
   "cell_type": "code",
   "execution_count": 2,
   "id": "790107bc",
   "metadata": {
    "execution": {
     "iopub.execute_input": "2022-07-15T06:47:31.641186Z",
     "iopub.status.busy": "2022-07-15T06:47:31.640950Z",
     "iopub.status.idle": "2022-07-15T06:47:31.643761Z",
     "shell.execute_reply": "2022-07-15T06:47:31.643264Z"
    },
    "lines_to_next_cell": 0,
    "papermill": {
     "duration": 0.009237,
     "end_time": "2022-07-15T06:47:31.646487",
     "exception": false,
     "start_time": "2022-07-15T06:47:31.637250",
     "status": "completed"
    },
    "tags": [
     "parameters"
    ]
   },
   "outputs": [],
   "source": [
    "# - During automated runs parameters will be injected in the below cell -"
   ]
  },
  {
   "cell_type": "code",
   "execution_count": 3,
   "id": "60b64846",
   "metadata": {
    "execution": {
     "iopub.execute_input": "2022-07-15T06:47:31.653356Z",
     "iopub.status.busy": "2022-07-15T06:47:31.653141Z",
     "iopub.status.idle": "2022-07-15T06:47:31.658315Z",
     "shell.execute_reply": "2022-07-15T06:47:31.657840Z"
    },
    "papermill": {
     "duration": 0.011382,
     "end_time": "2022-07-15T06:47:31.660712",
     "exception": false,
     "start_time": "2022-07-15T06:47:31.649330",
     "status": "completed"
    },
    "tags": [
     "injected-parameters"
    ]
   },
   "outputs": [],
   "source": [
    "# Parameters\n",
    "P = {\n",
    "    \"pipeline.data_lake_root\": \"/pipeline-outputs/data-lake\",\n",
    "    \"pipeline.run_environment\": \"ci\",\n",
    "    \"pipeline.pipeline_run_id\": \"8c5f68ab-4954-4919-9b60-71ba0cf49a23\",\n",
    "    \"pipeline.github.repository\": \"pynb-dag-runner/mnist-digits-demo-pipeline\",\n",
    "    \"pipeline.github.workflow\": \"Run automated tests, pipeline and deploy results to static reporting site\",\n",
    "    \"pipeline.github.runner_name\": \"Hosted Agent\",\n",
    "    \"pipeline.github.run_id\": \"2675107270\",\n",
    "    \"pipeline.github.actor\": \"matiasdahl\",\n",
    "    \"pipeline.github.job\": \"run-tests-pipeline-and-persist-pipeline-outputs\",\n",
    "    \"pipeline.github.base_ref\": \"\",\n",
    "    \"pipeline.github.head_ref\": \"\",\n",
    "    \"pipeline.github.sha\": \"147a1be9916173fd4d2cd011d8d51e3411215850\",\n",
    "    \"pipeline.github.ref\": \"refs/heads/development\",\n",
    "    \"pipeline.github.ref_type\": \"branch\",\n",
    "    \"pipeline.github.ref_name\": \"development\",\n",
    "    \"pipeline.github.event_name\": \"schedule\",\n",
    "    \"task.nr_train_images\": 600,\n",
    "    \"task.notebook\": \"notebooks/train-model.py\",\n",
    "    \"task.max_nr_retries\": \"1\",\n",
    "    \"run.retry_nr\": \"0\",\n",
    "    \"task.timeout_s\": \"None\",\n",
    "    \"task.num_cpus\": 1,\n",
    "    \"_opentelemetry_traceparent\": \"00-fb678ccd790c7800a08656a888971846-a12d48602c137425-01\",\n",
    "}\n"
   ]
  },
  {
   "cell_type": "code",
   "execution_count": 4,
   "id": "b490609e",
   "metadata": {
    "execution": {
     "iopub.execute_input": "2022-07-15T06:47:31.667939Z",
     "iopub.status.busy": "2022-07-15T06:47:31.667695Z",
     "iopub.status.idle": "2022-07-15T06:47:31.670301Z",
     "shell.execute_reply": "2022-07-15T06:47:31.669821Z"
    },
    "lines_to_next_cell": 0,
    "papermill": {
     "duration": 0.009376,
     "end_time": "2022-07-15T06:47:31.673006",
     "exception": false,
     "start_time": "2022-07-15T06:47:31.663630",
     "status": "completed"
    },
    "tags": []
   },
   "outputs": [],
   "source": [
    "# -----------------------------------------------------------------------"
   ]
  },
  {
   "cell_type": "markdown",
   "id": "f429c2c5",
   "metadata": {
    "papermill": {
     "duration": 0.00335,
     "end_time": "2022-07-15T06:47:31.679035",
     "exception": false,
     "start_time": "2022-07-15T06:47:31.675685",
     "status": "completed"
    },
    "tags": []
   },
   "source": [
    "---"
   ]
  },
  {
   "cell_type": "markdown",
   "id": "c25c4744",
   "metadata": {
    "lines_to_next_cell": 2,
    "papermill": {
     "duration": 0.002909,
     "end_time": "2022-07-15T06:47:31.684920",
     "exception": false,
     "start_time": "2022-07-15T06:47:31.682011",
     "status": "completed"
    },
    "tags": []
   },
   "source": [
    "### Notebook code"
   ]
  },
  {
   "cell_type": "code",
   "execution_count": 5,
   "id": "9752de1a",
   "metadata": {
    "execution": {
     "iopub.execute_input": "2022-07-15T06:47:31.692172Z",
     "iopub.status.busy": "2022-07-15T06:47:31.691942Z",
     "iopub.status.idle": "2022-07-15T06:47:32.159211Z",
     "shell.execute_reply": "2022-07-15T06:47:32.158272Z"
    },
    "papermill": {
     "duration": 0.472861,
     "end_time": "2022-07-15T06:47:32.161039",
     "exception": false,
     "start_time": "2022-07-15T06:47:31.688178",
     "status": "completed"
    },
    "tags": []
   },
   "outputs": [
    {
     "name": "stderr",
     "output_type": "stream",
     "text": [
      "2022-07-15 06:47:31,995\tINFO worker.py:842 -- Connecting to existing Ray cluster at address: 172.17.0.2:6379\n"
     ]
    }
   ],
   "source": [
    "from pynb_dag_runner.tasks.task_opentelemetry_logging import PydarLogger\n",
    "\n",
    "logger = PydarLogger(P)"
   ]
  },
  {
   "cell_type": "markdown",
   "id": "5f5c142d",
   "metadata": {
    "papermill": {
     "duration": 0.003369,
     "end_time": "2022-07-15T06:47:32.168050",
     "exception": false,
     "start_time": "2022-07-15T06:47:32.164681",
     "status": "completed"
    },
    "tags": []
   },
   "source": [
    "## Load and limit train data"
   ]
  },
  {
   "cell_type": "code",
   "execution_count": 6,
   "id": "561c4252",
   "metadata": {
    "execution": {
     "iopub.execute_input": "2022-07-15T06:47:32.175565Z",
     "iopub.status.busy": "2022-07-15T06:47:32.175276Z",
     "iopub.status.idle": "2022-07-15T06:47:32.556234Z",
     "shell.execute_reply": "2022-07-15T06:47:32.555510Z"
    },
    "papermill": {
     "duration": 0.38687,
     "end_time": "2022-07-15T06:47:32.558095",
     "exception": false,
     "start_time": "2022-07-15T06:47:32.171225",
     "status": "completed"
    },
    "tags": []
   },
   "outputs": [],
   "source": [
    "def load_and_limit_train_data(P):\n",
    "    from common.io import datalake_root, read_numpy\n",
    "    from sklearn.model_selection import train_test_split\n",
    "\n",
    "    X_train_all = read_numpy(datalake_root(P) / \"train-data\" / \"digits.numpy\")\n",
    "    y_train_all = read_numpy(datalake_root(P) / \"train-data\" / \"labels.numpy\")\n",
    "\n",
    "    assert isinstance(P[\"task.nr_train_images\"], int)\n",
    "\n",
    "    # Note: train_test_split will fail if split is 0 or 100%.\n",
    "    assert 0 < P[\"task.nr_train_images\"] < len(y_train_all)\n",
    "\n",
    "    X_train, _, y_train, _ = train_test_split(\n",
    "        X_train_all,\n",
    "        y_train_all,\n",
    "        train_size=P[\"task.nr_train_images\"],\n",
    "        test_size=None,\n",
    "        stratify=y_train_all,\n",
    "        shuffle=True,\n",
    "        random_state=123,\n",
    "    )\n",
    "\n",
    "    assert X_train.shape == (len(y_train), 8 * 8)\n",
    "    return X_train, y_train\n",
    "\n",
    "\n",
    "X_train, y_train = load_and_limit_train_data(P)"
   ]
  },
  {
   "cell_type": "markdown",
   "id": "08af8138",
   "metadata": {
    "papermill": {
     "duration": 0.003089,
     "end_time": "2022-07-15T06:47:32.565768",
     "exception": false,
     "start_time": "2022-07-15T06:47:32.562679",
     "status": "completed"
    },
    "tags": []
   },
   "source": [
    "## Train support vector classifier model\n",
    "\n",
    "Below we assume that the hyperparameter $C$ is known.\n",
    "\n",
    "However, this should ideally be found by a hyperparameter search. That could be\n",
    "done in parallel on the Ray cluster, but this needs some more work. Ie., to use\n",
    "multiple cores in the notebook, those cores should be reserved when starting the\n",
    "notebook task (TODO).\n",
    "\n",
    "- https://docs.ray.io/en/latest/tune/key-concepts.html\n",
    "\n",
    "Note: cv-scores would need to be computed here, since they depend on the train data.\n",
    "After this notebook only the onnx-model is available."
   ]
  },
  {
   "cell_type": "code",
   "execution_count": 7,
   "id": "d3972f21",
   "metadata": {
    "execution": {
     "iopub.execute_input": "2022-07-15T06:47:32.576299Z",
     "iopub.status.busy": "2022-07-15T06:47:32.574431Z",
     "iopub.status.idle": "2022-07-15T06:47:32.599636Z",
     "shell.execute_reply": "2022-07-15T06:47:32.598806Z"
    },
    "papermill": {
     "duration": 0.032798,
     "end_time": "2022-07-15T06:47:32.601365",
     "exception": false,
     "start_time": "2022-07-15T06:47:32.568567",
     "status": "completed"
    },
    "tags": []
   },
   "outputs": [],
   "source": [
    "from sklearn.svm import SVC"
   ]
  },
  {
   "cell_type": "code",
   "execution_count": 8,
   "id": "22759c93",
   "metadata": {
    "execution": {
     "iopub.execute_input": "2022-07-15T06:47:32.613560Z",
     "iopub.status.busy": "2022-07-15T06:47:32.613113Z",
     "iopub.status.idle": "2022-07-15T06:47:32.713396Z",
     "shell.execute_reply": "2022-07-15T06:47:32.712827Z"
    },
    "papermill": {
     "duration": 0.110288,
     "end_time": "2022-07-15T06:47:32.714903",
     "exception": false,
     "start_time": "2022-07-15T06:47:32.604615",
     "status": "completed"
    },
    "tags": []
   },
   "outputs": [
    {
     "data": {
      "text/plain": [
       "SVC(C=0.001, kernel='linear', probability=True)"
      ]
     },
     "execution_count": 8,
     "metadata": {},
     "output_type": "execute_result"
    }
   ],
   "source": [
    "model = SVC(C=0.001, kernel=\"linear\", probability=True)\n",
    "\n",
    "model.fit(X_train, y_train)"
   ]
  },
  {
   "cell_type": "markdown",
   "id": "9b0f1fe0",
   "metadata": {
    "papermill": {
     "duration": 0.003173,
     "end_time": "2022-07-15T06:47:32.721333",
     "exception": false,
     "start_time": "2022-07-15T06:47:32.718160",
     "status": "completed"
    },
    "tags": []
   },
   "source": [
    "### Q: Can the labels returned by `predict(..)` be computed from probabilities returned by the `predict_prob`-method?"
   ]
  },
  {
   "cell_type": "code",
   "execution_count": 9,
   "id": "f12ebb6f",
   "metadata": {
    "execution": {
     "iopub.execute_input": "2022-07-15T06:47:32.728701Z",
     "iopub.status.busy": "2022-07-15T06:47:32.728386Z",
     "iopub.status.idle": "2022-07-15T06:47:32.773351Z",
     "shell.execute_reply": "2022-07-15T06:47:32.772694Z"
    },
    "papermill": {
     "duration": 0.050521,
     "end_time": "2022-07-15T06:47:32.774933",
     "exception": false,
     "start_time": "2022-07-15T06:47:32.724412",
     "status": "completed"
    },
    "tags": []
   },
   "outputs": [
    {
     "name": "stdout",
     "output_type": "stream",
     "text": [
      " - Logging nr_max_prob_neq_label (int) : 2\n"
     ]
    }
   ],
   "source": [
    "import numpy as np\n",
    "\n",
    "y_train_labels = model.predict(X_train)\n",
    "y_train_probabilities = model.predict_proba(X_train)\n",
    "assert y_train_probabilities.shape == (len(y_train), 10)\n",
    "\n",
    "y_train_max_prob_labels = np.argmax(y_train_probabilities, axis=1)\n",
    "assert y_train_labels.shape == y_train_max_prob_labels.shape == y_train.shape\n",
    "\n",
    "# If the predicted labels would coincide with the labels that have\n",
    "# maximum probability, the below number would be zero\n",
    "logger.log_int(\n",
    "    \"nr_max_prob_neq_label\", int(sum(y_train_max_prob_labels != y_train_labels))\n",
    ")"
   ]
  },
  {
   "cell_type": "markdown",
   "id": "35c7a0b5",
   "metadata": {
    "papermill": {
     "duration": 0.003711,
     "end_time": "2022-07-15T06:47:32.782098",
     "exception": false,
     "start_time": "2022-07-15T06:47:32.778387",
     "status": "completed"
    },
    "tags": []
   },
   "source": [
    "The explanation is (likely) explained in the SVC source, see\n",
    "[here](https://github.com/scikit-learn/scikit-learn/blob/main/sklearn/svm/_base.py).\n",
    "Namely, the outputs from `predict(..)` and `predict_proba(..)` may not in some\n",
    "cases be compatible since the latter is computed using cross-validation while\n",
    "the former is not. Thus, the above number need not be zero."
   ]
  },
  {
   "cell_type": "markdown",
   "id": "af0bcfd2",
   "metadata": {
    "papermill": {
     "duration": 0.003402,
     "end_time": "2022-07-15T06:47:32.788874",
     "exception": false,
     "start_time": "2022-07-15T06:47:32.785472",
     "status": "completed"
    },
    "tags": []
   },
   "source": [
    "## Persist model"
   ]
  },
  {
   "cell_type": "code",
   "execution_count": 10,
   "id": "04854441",
   "metadata": {
    "execution": {
     "iopub.execute_input": "2022-07-15T06:47:32.796716Z",
     "iopub.status.busy": "2022-07-15T06:47:32.796455Z",
     "iopub.status.idle": "2022-07-15T06:47:33.505420Z",
     "shell.execute_reply": "2022-07-15T06:47:33.504780Z"
    },
    "papermill": {
     "duration": 0.715524,
     "end_time": "2022-07-15T06:47:33.507677",
     "exception": false,
     "start_time": "2022-07-15T06:47:32.792153",
     "status": "completed"
    },
    "tags": []
   },
   "outputs": [
    {
     "name": "stdout",
     "output_type": "stream",
     "text": [
      "\u001b[2m\u001b[1m\u001b[36m(scheduler +0s)\u001b[0m Tip: use `ray status` to view detailed cluster status. To disable these messages, set RAY_SCHEDULER_EVENTS=0.\n",
      "\u001b[2m\u001b[1m\u001b[33m(scheduler +0s)\u001b[0m Warning: The following resource request cannot be scheduled right now: {'CPU': 1.0}. This is likely due to all cluster resources being claimed by actors. Consider creating fewer actors or adding more nodes to this Ray cluster.\n"
     ]
    }
   ],
   "source": [
    "from skl2onnx import convert_sklearn\n",
    "from skl2onnx.common.data_types import FloatTensorType\n",
    "\n",
    "#\n",
    "from common.io import datalake_root, write_onnx"
   ]
  },
  {
   "cell_type": "code",
   "execution_count": 11,
   "id": "64d3c3c9",
   "metadata": {
    "execution": {
     "iopub.execute_input": "2022-07-15T06:47:33.516677Z",
     "iopub.status.busy": "2022-07-15T06:47:33.516041Z",
     "iopub.status.idle": "2022-07-15T06:47:33.555753Z",
     "shell.execute_reply": "2022-07-15T06:47:33.555167Z"
    },
    "papermill": {
     "duration": 0.04803,
     "end_time": "2022-07-15T06:47:33.559115",
     "exception": false,
     "start_time": "2022-07-15T06:47:33.511085",
     "status": "completed"
    },
    "tags": []
   },
   "outputs": [],
   "source": [
    "# convert sklearn model into onnx and persist to data lake\n",
    "\n",
    "model_onnx = convert_sklearn(\n",
    "    model, initial_types=[(\"float_input_8x8_image\", FloatTensorType([None, 8 * 8]))]\n",
    ")\n",
    "write_onnx(\n",
    "    datalake_root(P)\n",
    "    / \"models\"\n",
    "    / f\"nr_train_images={P['task.nr_train_images']}\"\n",
    "    / \"model.onnx\",\n",
    "    model_onnx,\n",
    ")"
   ]
  },
  {
   "cell_type": "code",
   "execution_count": null,
   "id": "cb101680",
   "metadata": {
    "papermill": {
     "duration": 0.004292,
     "end_time": "2022-07-15T06:47:33.566851",
     "exception": false,
     "start_time": "2022-07-15T06:47:33.562559",
     "status": "completed"
    },
    "tags": []
   },
   "outputs": [],
   "source": []
  }
 ],
 "metadata": {
  "jupytext": {
   "cell_metadata_filter": "tags,-all",
   "main_language": "python",
   "notebook_metadata_filter": "-all"
  },
  "language_info": {
   "codemirror_mode": {
    "name": "ipython",
    "version": 3
   },
   "file_extension": ".py",
   "mimetype": "text/x-python",
   "name": "python",
   "nbconvert_exporter": "python",
   "pygments_lexer": "ipython3",
   "version": "3.8.10"
  },
  "papermill": {
   "default_parameters": {},
   "duration": 4.141699,
   "end_time": "2022-07-15T06:47:34.590739",
   "environment_variables": {},
   "exception": null,
   "input_path": "/home/host_user/workspace/mnist-demo-pipeline/mnist-demo-pipeline/notebooks/temp-notebook-3tk6ev2x.ipynb",
   "output_path": "notebooks/train-model.ipynb",
   "parameters": {
    "P": {
     "_opentelemetry_traceparent": "00-fb678ccd790c7800a08656a888971846-a12d48602c137425-01",
     "pipeline.data_lake_root": "/pipeline-outputs/data-lake",
     "pipeline.github.actor": "matiasdahl",
     "pipeline.github.base_ref": "",
     "pipeline.github.event_name": "schedule",
     "pipeline.github.head_ref": "",
     "pipeline.github.job": "run-tests-pipeline-and-persist-pipeline-outputs",
     "pipeline.github.ref": "refs/heads/development",
     "pipeline.github.ref_name": "development",
     "pipeline.github.ref_type": "branch",
     "pipeline.github.repository": "pynb-dag-runner/mnist-digits-demo-pipeline",
     "pipeline.github.run_id": "2675107270",
     "pipeline.github.runner_name": "Hosted Agent",
     "pipeline.github.sha": "147a1be9916173fd4d2cd011d8d51e3411215850",
     "pipeline.github.workflow": "Run automated tests, pipeline and deploy results to static reporting site",
     "pipeline.pipeline_run_id": "8c5f68ab-4954-4919-9b60-71ba0cf49a23",
     "pipeline.run_environment": "ci",
     "run.retry_nr": "0",
     "task.max_nr_retries": "1",
     "task.notebook": "notebooks/train-model.py",
     "task.nr_train_images": 600,
     "task.num_cpus": 1,
     "task.timeout_s": "None"
    }
   },
   "start_time": "2022-07-15T06:47:30.449040",
   "version": "2.3.3"
  }
 },
 "nbformat": 4,
 "nbformat_minor": 5
}