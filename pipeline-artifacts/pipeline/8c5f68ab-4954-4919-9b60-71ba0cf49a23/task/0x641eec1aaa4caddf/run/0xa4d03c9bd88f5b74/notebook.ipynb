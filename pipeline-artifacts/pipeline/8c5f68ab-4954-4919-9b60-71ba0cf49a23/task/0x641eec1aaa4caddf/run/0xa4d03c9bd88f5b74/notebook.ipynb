{
 "cells": [
  {
   "cell_type": "markdown",
   "id": "646deed0",
   "metadata": {
    "papermill": {
     "duration": 0.003713,
     "end_time": "2022-07-15T06:48:03.527960",
     "exception": false,
     "start_time": "2022-07-15T06:48:03.524247",
     "status": "completed"
    },
    "tags": []
   },
   "source": [
    "# Summarize model performances\n",
    "\n",
    "This notebooks plots the performances (using averaged ROC AUC scores) for models\n",
    "trained with different training sets."
   ]
  },
  {
   "cell_type": "markdown",
   "id": "5adcb2e3",
   "metadata": {
    "papermill": {
     "duration": 0.002423,
     "end_time": "2022-07-15T06:48:03.533596",
     "exception": false,
     "start_time": "2022-07-15T06:48:03.531173",
     "status": "completed"
    },
    "tags": []
   },
   "source": [
    "### Determine run parameters"
   ]
  },
  {
   "cell_type": "code",
   "execution_count": 1,
   "id": "0de7cb01",
   "metadata": {
    "execution": {
     "iopub.execute_input": "2022-07-15T06:48:03.540820Z",
     "iopub.status.busy": "2022-07-15T06:48:03.539995Z",
     "iopub.status.idle": "2022-07-15T06:48:03.548773Z",
     "shell.execute_reply": "2022-07-15T06:48:03.548151Z"
    },
    "lines_to_next_cell": 0,
    "papermill": {
     "duration": 0.014586,
     "end_time": "2022-07-15T06:48:03.550730",
     "exception": false,
     "start_time": "2022-07-15T06:48:03.536144",
     "status": "completed"
    },
    "tags": []
   },
   "outputs": [],
   "source": [
    "# ----------------- Parameters for interactive development --------------\n",
    "P = {\n",
    "    \"pipeline.run_environment\": \"dev\",\n",
    "}"
   ]
  },
  {
   "cell_type": "code",
   "execution_count": 2,
   "id": "921902ba",
   "metadata": {
    "execution": {
     "iopub.execute_input": "2022-07-15T06:48:03.557266Z",
     "iopub.status.busy": "2022-07-15T06:48:03.556843Z",
     "iopub.status.idle": "2022-07-15T06:48:03.560368Z",
     "shell.execute_reply": "2022-07-15T06:48:03.559660Z"
    },
    "lines_to_next_cell": 0,
    "papermill": {
     "duration": 0.008248,
     "end_time": "2022-07-15T06:48:03.561719",
     "exception": false,
     "start_time": "2022-07-15T06:48:03.553471",
     "status": "completed"
    },
    "tags": [
     "parameters"
    ]
   },
   "outputs": [],
   "source": [
    "# - During automated runs parameters will be injected in the below cell -"
   ]
  },
  {
   "cell_type": "code",
   "execution_count": 3,
   "id": "3426f10c",
   "metadata": {
    "execution": {
     "iopub.execute_input": "2022-07-15T06:48:03.568017Z",
     "iopub.status.busy": "2022-07-15T06:48:03.567776Z",
     "iopub.status.idle": "2022-07-15T06:48:03.572188Z",
     "shell.execute_reply": "2022-07-15T06:48:03.571511Z"
    },
    "papermill": {
     "duration": 0.009196,
     "end_time": "2022-07-15T06:48:03.573476",
     "exception": false,
     "start_time": "2022-07-15T06:48:03.564280",
     "status": "completed"
    },
    "tags": [
     "injected-parameters"
    ]
   },
   "outputs": [],
   "source": [
    "# Parameters\n",
    "P = {\n",
    "    \"pipeline.data_lake_root\": \"/pipeline-outputs/data-lake\",\n",
    "    \"pipeline.run_environment\": \"ci\",\n",
    "    \"pipeline.pipeline_run_id\": \"8c5f68ab-4954-4919-9b60-71ba0cf49a23\",\n",
    "    \"pipeline.github.repository\": \"pynb-dag-runner/mnist-digits-demo-pipeline\",\n",
    "    \"pipeline.github.workflow\": \"Run automated tests, pipeline and deploy results to static reporting site\",\n",
    "    \"pipeline.github.runner_name\": \"Hosted Agent\",\n",
    "    \"pipeline.github.run_id\": \"2675107270\",\n",
    "    \"pipeline.github.actor\": \"matiasdahl\",\n",
    "    \"pipeline.github.job\": \"run-tests-pipeline-and-persist-pipeline-outputs\",\n",
    "    \"pipeline.github.base_ref\": \"\",\n",
    "    \"pipeline.github.head_ref\": \"\",\n",
    "    \"pipeline.github.sha\": \"147a1be9916173fd4d2cd011d8d51e3411215850\",\n",
    "    \"pipeline.github.ref\": \"refs/heads/development\",\n",
    "    \"pipeline.github.ref_type\": \"branch\",\n",
    "    \"pipeline.github.ref_name\": \"development\",\n",
    "    \"pipeline.github.event_name\": \"schedule\",\n",
    "    \"task.notebook\": \"notebooks/summary.py\",\n",
    "    \"task.max_nr_retries\": \"1\",\n",
    "    \"run.retry_nr\": \"0\",\n",
    "    \"task.timeout_s\": \"None\",\n",
    "    \"task.num_cpus\": 1,\n",
    "    \"_opentelemetry_traceparent\": \"00-fb678ccd790c7800a08656a888971846-ab4e2e9700c2da22-01\",\n",
    "}\n"
   ]
  },
  {
   "cell_type": "code",
   "execution_count": 4,
   "id": "524b9c7e",
   "metadata": {
    "execution": {
     "iopub.execute_input": "2022-07-15T06:48:03.580088Z",
     "iopub.status.busy": "2022-07-15T06:48:03.579705Z",
     "iopub.status.idle": "2022-07-15T06:48:03.582193Z",
     "shell.execute_reply": "2022-07-15T06:48:03.581747Z"
    },
    "lines_to_next_cell": 0,
    "papermill": {
     "duration": 0.008754,
     "end_time": "2022-07-15T06:48:03.584971",
     "exception": false,
     "start_time": "2022-07-15T06:48:03.576217",
     "status": "completed"
    },
    "tags": []
   },
   "outputs": [],
   "source": [
    "# -----------------------------------------------------------------------"
   ]
  },
  {
   "cell_type": "markdown",
   "id": "cbefd11e",
   "metadata": {
    "papermill": {
     "duration": 0.003387,
     "end_time": "2022-07-15T06:48:03.591371",
     "exception": false,
     "start_time": "2022-07-15T06:48:03.587984",
     "status": "completed"
    },
    "tags": []
   },
   "source": [
    "---"
   ]
  },
  {
   "cell_type": "markdown",
   "id": "6810ec82",
   "metadata": {
    "lines_to_next_cell": 2,
    "papermill": {
     "duration": 0.002525,
     "end_time": "2022-07-15T06:48:03.596563",
     "exception": false,
     "start_time": "2022-07-15T06:48:03.594038",
     "status": "completed"
    },
    "tags": []
   },
   "source": [
    "### Notebook code"
   ]
  },
  {
   "cell_type": "code",
   "execution_count": 5,
   "id": "e91ffbf2",
   "metadata": {
    "execution": {
     "iopub.execute_input": "2022-07-15T06:48:03.603242Z",
     "iopub.status.busy": "2022-07-15T06:48:03.602767Z",
     "iopub.status.idle": "2022-07-15T06:48:04.666584Z",
     "shell.execute_reply": "2022-07-15T06:48:04.665943Z"
    },
    "papermill": {
     "duration": 1.06925,
     "end_time": "2022-07-15T06:48:04.668261",
     "exception": false,
     "start_time": "2022-07-15T06:48:03.599011",
     "status": "completed"
    },
    "tags": []
   },
   "outputs": [],
   "source": [
    "#\n",
    "import pandas as pd\n",
    "import matplotlib.pyplot as plt\n",
    "\n",
    "#\n",
    "from pynb_dag_runner.tasks.task_opentelemetry_logging import PydarLogger"
   ]
  },
  {
   "cell_type": "code",
   "execution_count": 6,
   "id": "164b19c2",
   "metadata": {
    "execution": {
     "iopub.execute_input": "2022-07-15T06:48:04.675746Z",
     "iopub.status.busy": "2022-07-15T06:48:04.675004Z",
     "iopub.status.idle": "2022-07-15T06:48:04.828300Z",
     "shell.execute_reply": "2022-07-15T06:48:04.827437Z"
    },
    "papermill": {
     "duration": 0.158866,
     "end_time": "2022-07-15T06:48:04.830349",
     "exception": false,
     "start_time": "2022-07-15T06:48:04.671483",
     "status": "completed"
    },
    "tags": []
   },
   "outputs": [
    {
     "name": "stderr",
     "output_type": "stream",
     "text": [
      "2022-07-15 06:48:04,679\tINFO worker.py:842 -- Connecting to existing Ray cluster at address: 172.17.0.2:6379\n"
     ]
    }
   ],
   "source": [
    "logger = PydarLogger(P=P)"
   ]
  },
  {
   "cell_type": "code",
   "execution_count": 7,
   "id": "12d13343",
   "metadata": {
    "execution": {
     "iopub.execute_input": "2022-07-15T06:48:04.838946Z",
     "iopub.status.busy": "2022-07-15T06:48:04.838305Z",
     "iopub.status.idle": "2022-07-15T06:48:04.843036Z",
     "shell.execute_reply": "2022-07-15T06:48:04.842405Z"
    },
    "papermill": {
     "duration": 0.010918,
     "end_time": "2022-07-15T06:48:04.844443",
     "exception": false,
     "start_time": "2022-07-15T06:48:04.833525",
     "status": "completed"
    },
    "tags": []
   },
   "outputs": [],
   "source": [
    "from pynb_dag_runner.tasks.task_opentelemetry_logging import (\n",
    "    PydarLogger,\n",
    "    get_logged_values,\n",
    ")\n",
    "from pynb_dag_runner.opentelemetry_helpers import _get_all_spans, Spans"
   ]
  },
  {
   "cell_type": "code",
   "execution_count": 8,
   "id": "38d92cf7",
   "metadata": {
    "execution": {
     "iopub.execute_input": "2022-07-15T06:48:04.853026Z",
     "iopub.status.busy": "2022-07-15T06:48:04.852456Z",
     "iopub.status.idle": "2022-07-15T06:48:04.859114Z",
     "shell.execute_reply": "2022-07-15T06:48:04.858469Z"
    },
    "papermill": {
     "duration": 0.011552,
     "end_time": "2022-07-15T06:48:04.860574",
     "exception": false,
     "start_time": "2022-07-15T06:48:04.849022",
     "status": "completed"
    },
    "tags": []
   },
   "outputs": [],
   "source": [
    "def get_model_benchmarks():\n",
    "    \"\"\"\n",
    "    Query the OpenTelemetry logs for *this pipeline run* and return\n",
    "    all key-values logged from all runs of the benchmark-model.py task\n",
    "\n",
    "    For testing a json file with OpenTelemetry spans (as an array)\n",
    "    can be used as follows:\n",
    "\n",
    "    - Create output directory `mkdir /tmp/spans`\n",
    "    - Run unit tests. This will create pipeline-outputs/opentelemetry-spans.json\n",
    "    - Convert this json-array into jsonl format as follows\n",
    "\n",
    "    jq -c '.[]' /pipeline-outputs/opentelemetry-spans.json > /tmp/spans/data.txt\n",
    "\n",
    "    \"\"\"\n",
    "    spans: Spans = Spans(_get_all_spans())\n",
    "    print(f\"Found {len(spans)} spans\")\n",
    "\n",
    "    benchmark_spans = (\n",
    "        spans\n",
    "        # -\n",
    "        .filter([\"name\"], \"execute-task\")\n",
    "        # -\n",
    "        .filter([\"attributes\", \"task.notebook\"], \"notebooks/benchmark-model.py\")\n",
    "    )\n",
    "\n",
    "    result = []\n",
    "    for s in benchmark_spans:\n",
    "        result.append(\n",
    "            {\n",
    "                \"span_id\": s[\"context\"][\"span_id\"],\n",
    "                \"nr_train_images\": s[\"attributes\"][\"task.nr_train_images\"],\n",
    "                \"data\": get_logged_values(spans.bound_under(s)),\n",
    "            }\n",
    "        )\n",
    "\n",
    "    return result\n",
    "\n",
    "\n",
    "def adjust_pandas(df):\n",
    "    def column_renamer(col_name: str) -> str:\n",
    "        return (\n",
    "            col_name\n",
    "            # -- 'data.roc_auc_per_digit.4' -> 'roc_auc.4'\n",
    "            .replace(\"data.roc_auc_per_digit\", \"roc_auc\")\n",
    "            # -- 'data.roc_auc_class_mean' -> 'roc_auc_mean'\n",
    "            .replace(\"data.roc_auc_class_mean\", \"roc_auc_mean\")\n",
    "        )\n",
    "\n",
    "    return df.rename(column_renamer, axis=\"columns\").sort_values(by=\"nr_train_images\")"
   ]
  },
  {
   "cell_type": "code",
   "execution_count": 9,
   "id": "6fdf798a",
   "metadata": {
    "execution": {
     "iopub.execute_input": "2022-07-15T06:48:04.867283Z",
     "iopub.status.busy": "2022-07-15T06:48:04.866687Z",
     "iopub.status.idle": "2022-07-15T06:48:23.361973Z",
     "shell.execute_reply": "2022-07-15T06:48:23.361311Z"
    },
    "papermill": {
     "duration": 18.500772,
     "end_time": "2022-07-15T06:48:23.364012",
     "exception": false,
     "start_time": "2022-07-15T06:48:04.863240",
     "status": "completed"
    },
    "tags": []
   },
   "outputs": [
    {
     "name": "stdout",
     "output_type": "stream",
     "text": [
      "Found 417 spans\n"
     ]
    }
   ],
   "source": [
    "df_data = adjust_pandas(pd.json_normalize(get_model_benchmarks()))"
   ]
  },
  {
   "cell_type": "code",
   "execution_count": 10,
   "id": "54b7ab11",
   "metadata": {
    "execution": {
     "iopub.execute_input": "2022-07-15T06:48:23.371794Z",
     "iopub.status.busy": "2022-07-15T06:48:23.371539Z",
     "iopub.status.idle": "2022-07-15T06:48:23.400040Z",
     "shell.execute_reply": "2022-07-15T06:48:23.399247Z"
    },
    "papermill": {
     "duration": 0.034696,
     "end_time": "2022-07-15T06:48:23.401905",
     "exception": false,
     "start_time": "2022-07-15T06:48:23.367209",
     "status": "completed"
    },
    "tags": []
   },
   "outputs": [
    {
     "data": {
      "text/html": [
       "<div>\n",
       "<style scoped>\n",
       "    .dataframe tbody tr th:only-of-type {\n",
       "        vertical-align: middle;\n",
       "    }\n",
       "\n",
       "    .dataframe tbody tr th {\n",
       "        vertical-align: top;\n",
       "    }\n",
       "\n",
       "    .dataframe thead th {\n",
       "        text-align: right;\n",
       "    }\n",
       "</style>\n",
       "<table border=\"1\" class=\"dataframe\">\n",
       "  <thead>\n",
       "    <tr style=\"text-align: right;\">\n",
       "      <th></th>\n",
       "      <th>span_id</th>\n",
       "      <th>nr_train_images</th>\n",
       "      <th>roc_auc_mean</th>\n",
       "      <th>roc_auc.0</th>\n",
       "      <th>roc_auc.1</th>\n",
       "      <th>roc_auc.2</th>\n",
       "      <th>roc_auc.3</th>\n",
       "      <th>roc_auc.4</th>\n",
       "      <th>roc_auc.5</th>\n",
       "      <th>roc_auc.6</th>\n",
       "      <th>roc_auc.7</th>\n",
       "      <th>roc_auc.8</th>\n",
       "      <th>roc_auc.9</th>\n",
       "    </tr>\n",
       "  </thead>\n",
       "  <tbody>\n",
       "    <tr>\n",
       "      <th>1</th>\n",
       "      <td>0x7c02a76717146c74</td>\n",
       "      <td>600</td>\n",
       "      <td>0.9990</td>\n",
       "      <td>1.0</td>\n",
       "      <td>0.9992</td>\n",
       "      <td>1.0</td>\n",
       "      <td>0.9998</td>\n",
       "      <td>0.9992</td>\n",
       "      <td>0.9988</td>\n",
       "      <td>0.9999</td>\n",
       "      <td>0.9998</td>\n",
       "      <td>0.9948</td>\n",
       "      <td>0.9987</td>\n",
       "    </tr>\n",
       "    <tr>\n",
       "      <th>3</th>\n",
       "      <td>0xf0ffcdc04d81f8ca</td>\n",
       "      <td>800</td>\n",
       "      <td>0.9989</td>\n",
       "      <td>1.0</td>\n",
       "      <td>0.9988</td>\n",
       "      <td>1.0</td>\n",
       "      <td>0.9998</td>\n",
       "      <td>0.9995</td>\n",
       "      <td>0.9989</td>\n",
       "      <td>0.9999</td>\n",
       "      <td>0.9999</td>\n",
       "      <td>0.9928</td>\n",
       "      <td>0.9994</td>\n",
       "    </tr>\n",
       "    <tr>\n",
       "      <th>0</th>\n",
       "      <td>0xff997ce35543fe93</td>\n",
       "      <td>1000</td>\n",
       "      <td>0.9992</td>\n",
       "      <td>1.0</td>\n",
       "      <td>0.9990</td>\n",
       "      <td>1.0</td>\n",
       "      <td>0.9999</td>\n",
       "      <td>0.9997</td>\n",
       "      <td>0.9994</td>\n",
       "      <td>0.9999</td>\n",
       "      <td>0.9998</td>\n",
       "      <td>0.9948</td>\n",
       "      <td>0.9996</td>\n",
       "    </tr>\n",
       "    <tr>\n",
       "      <th>2</th>\n",
       "      <td>0xa7aecae586109c66</td>\n",
       "      <td>1200</td>\n",
       "      <td>0.9993</td>\n",
       "      <td>1.0</td>\n",
       "      <td>0.9990</td>\n",
       "      <td>1.0</td>\n",
       "      <td>0.9999</td>\n",
       "      <td>0.9998</td>\n",
       "      <td>0.9997</td>\n",
       "      <td>0.9999</td>\n",
       "      <td>0.9998</td>\n",
       "      <td>0.9957</td>\n",
       "      <td>0.9997</td>\n",
       "    </tr>\n",
       "  </tbody>\n",
       "</table>\n",
       "</div>"
      ],
      "text/plain": [
       "              span_id  nr_train_images  roc_auc_mean  roc_auc.0  roc_auc.1  \\\n",
       "1  0x7c02a76717146c74              600        0.9990        1.0     0.9992   \n",
       "3  0xf0ffcdc04d81f8ca              800        0.9989        1.0     0.9988   \n",
       "0  0xff997ce35543fe93             1000        0.9992        1.0     0.9990   \n",
       "2  0xa7aecae586109c66             1200        0.9993        1.0     0.9990   \n",
       "\n",
       "   roc_auc.2  roc_auc.3  roc_auc.4  roc_auc.5  roc_auc.6  roc_auc.7  \\\n",
       "1        1.0     0.9998     0.9992     0.9988     0.9999     0.9998   \n",
       "3        1.0     0.9998     0.9995     0.9989     0.9999     0.9999   \n",
       "0        1.0     0.9999     0.9997     0.9994     0.9999     0.9998   \n",
       "2        1.0     0.9999     0.9998     0.9997     0.9999     0.9998   \n",
       "\n",
       "   roc_auc.8  roc_auc.9  \n",
       "1     0.9948     0.9987  \n",
       "3     0.9928     0.9994  \n",
       "0     0.9948     0.9996  \n",
       "2     0.9957     0.9997  "
      ]
     },
     "execution_count": 10,
     "metadata": {},
     "output_type": "execute_result"
    }
   ],
   "source": [
    "df_data.round(4)"
   ]
  },
  {
   "cell_type": "code",
   "execution_count": 11,
   "id": "518d23a3",
   "metadata": {
    "execution": {
     "iopub.execute_input": "2022-07-15T06:48:23.409711Z",
     "iopub.status.busy": "2022-07-15T06:48:23.409211Z",
     "iopub.status.idle": "2022-07-15T06:48:23.541247Z",
     "shell.execute_reply": "2022-07-15T06:48:23.540614Z"
    },
    "papermill": {
     "duration": 0.137792,
     "end_time": "2022-07-15T06:48:23.543065",
     "exception": false,
     "start_time": "2022-07-15T06:48:23.405273",
     "status": "completed"
    },
    "tags": []
   },
   "outputs": [
    {
     "data": {
      "image/png": "[encoded data removed]",
      "text/plain": [
       "<Figure size 1152x288 with 1 Axes>"
      ]
     },
     "metadata": {
      "needs_background": "light"
     },
     "output_type": "display_data"
    }
   ],
   "source": [
    "def plot_classifier_performance_summary(df_data):\n",
    "    fig, ax = plt.subplots(nrows=1, ncols=1, figsize=(16, 4), sharex=True)\n",
    "\n",
    "    #\n",
    "    ax.plot(\n",
    "        df_data[\"nr_train_images\"], df_data[\"roc_auc_mean\"], marker=\"o\", linestyle=\"--\"\n",
    "    )\n",
    "    ax.set_title(\n",
    "        f\"ROC AUC digit classifier performance on evaluation digits\", fontsize=17\n",
    "    )\n",
    "    ax.set_xlabel(\"Total number of digits in training set\", fontsize=14)\n",
    "    ax.set_ylabel(\"Mean ROC AUC\", fontsize=14)\n",
    "\n",
    "    fig.tight_layout()\n",
    "    fig.show()\n",
    "\n",
    "    return fig\n",
    "\n",
    "\n",
    "fig = plot_classifier_performance_summary(df_data)"
   ]
  },
  {
   "cell_type": "code",
   "execution_count": 12,
   "id": "f4721afa",
   "metadata": {
    "execution": {
     "iopub.execute_input": "2022-07-15T06:48:23.552547Z",
     "iopub.status.busy": "2022-07-15T06:48:23.551769Z",
     "iopub.status.idle": "2022-07-15T06:48:23.604028Z",
     "shell.execute_reply": "2022-07-15T06:48:23.603388Z"
    },
    "papermill": {
     "duration": 0.058491,
     "end_time": "2022-07-15T06:48:23.605775",
     "exception": false,
     "start_time": "2022-07-15T06:48:23.547284",
     "status": "completed"
    },
    "tags": []
   },
   "outputs": [],
   "source": [
    "logger.log_figure(\"auc-roc-model-performances.png\", fig)"
   ]
  },
  {
   "cell_type": "code",
   "execution_count": 13,
   "id": "c2b01e4d",
   "metadata": {
    "execution": {
     "iopub.execute_input": "2022-07-15T06:48:23.614772Z",
     "iopub.status.busy": "2022-07-15T06:48:23.614336Z",
     "iopub.status.idle": "2022-07-15T06:48:23.617222Z",
     "shell.execute_reply": "2022-07-15T06:48:23.616612Z"
    },
    "papermill": {
     "duration": 0.009178,
     "end_time": "2022-07-15T06:48:23.619098",
     "exception": false,
     "start_time": "2022-07-15T06:48:23.609920",
     "status": "completed"
    },
    "tags": []
   },
   "outputs": [],
   "source": [
    "###"
   ]
  },
  {
   "cell_type": "code",
   "execution_count": null,
   "id": "c3f9b8cb",
   "metadata": {
    "papermill": {
     "duration": 0.003542,
     "end_time": "2022-07-15T06:48:23.626131",
     "exception": false,
     "start_time": "2022-07-15T06:48:23.622589",
     "status": "completed"
    },
    "tags": []
   },
   "outputs": [],
   "source": []
  }
 ],
 "metadata": {
  "jupytext": {
   "cell_metadata_filter": "tags,-all",
   "main_language": "python",
   "notebook_metadata_filter": "-all"
  },
  "language_info": {
   "codemirror_mode": {
    "name": "ipython",
    "version": 3
   },
   "file_extension": ".py",
   "mimetype": "text/x-python",
   "name": "python",
   "nbconvert_exporter": "python",
   "pygments_lexer": "ipython3",
   "version": "3.8.10"
  },
  "papermill": {
   "default_parameters": {},
   "duration": 22.148696,
   "end_time": "2022-07-15T06:48:24.547901",
   "environment_variables": {},
   "exception": null,
   "input_path": "/home/host_user/workspace/mnist-demo-pipeline/mnist-demo-pipeline/notebooks/temp-notebook-3jupaj7q.ipynb",
   "output_path": "notebooks/summary.ipynb",
   "parameters": {
    "P": {
     "_opentelemetry_traceparent": "00-fb678ccd790c7800a08656a888971846-ab4e2e9700c2da22-01",
     "pipeline.data_lake_root": "/pipeline-outputs/data-lake",
     "pipeline.github.actor": "matiasdahl",
     "pipeline.github.base_ref": "",
     "pipeline.github.event_name": "schedule",
     "pipeline.github.head_ref": "",
     "pipeline.github.job": "run-tests-pipeline-and-persist-pipeline-outputs",
     "pipeline.github.ref": "refs/heads/development",
     "pipeline.github.ref_name": "development",
     "pipeline.github.ref_type": "branch",
     "pipeline.github.repository": "pynb-dag-runner/mnist-digits-demo-pipeline",
     "pipeline.github.run_id": "2675107270",
     "pipeline.github.runner_name": "Hosted Agent",
     "pipeline.github.sha": "147a1be9916173fd4d2cd011d8d51e3411215850",
     "pipeline.github.workflow": "Run automated tests, pipeline and deploy results to static reporting site",
     "pipeline.pipeline_run_id": "8c5f68ab-4954-4919-9b60-71ba0cf49a23",
     "pipeline.run_environment": "ci",
     "run.retry_nr": "0",
     "task.max_nr_retries": "1",
     "task.notebook": "notebooks/summary.py",
     "task.num_cpus": 1,
     "task.timeout_s": "None"
    }
   },
   "start_time": "2022-07-15T06:48:02.399205",
   "version": "2.3.3"
  }
 },
 "nbformat": 4,
 "nbformat_minor": 5
}