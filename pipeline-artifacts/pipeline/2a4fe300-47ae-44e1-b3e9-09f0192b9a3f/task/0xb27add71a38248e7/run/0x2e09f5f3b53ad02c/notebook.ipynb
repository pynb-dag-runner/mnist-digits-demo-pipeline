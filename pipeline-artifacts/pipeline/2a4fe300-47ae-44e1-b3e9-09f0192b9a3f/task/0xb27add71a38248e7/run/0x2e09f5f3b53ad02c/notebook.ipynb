{
 "cells": [
  {
   "cell_type": "markdown",
   "id": "3feb5944",
   "metadata": {
    "papermill": {
     "duration": 0.0044,
     "end_time": "2022-07-08T06:49:17.369171",
     "exception": false,
     "start_time": "2022-07-08T06:49:17.364771",
     "status": "completed"
    },
    "tags": []
   },
   "source": [
    "# Split digits and labels into separate training and testing data sets"
   ]
  },
  {
   "cell_type": "markdown",
   "id": "c5f5f60a",
   "metadata": {
    "papermill": {
     "duration": 0.003395,
     "end_time": "2022-07-08T06:49:17.375716",
     "exception": false,
     "start_time": "2022-07-08T06:49:17.372321",
     "status": "completed"
    },
    "tags": []
   },
   "source": [
    "### Determine run parameters"
   ]
  },
  {
   "cell_type": "code",
   "execution_count": 1,
   "id": "6589eea2",
   "metadata": {
    "execution": {
     "iopub.execute_input": "2022-07-08T06:49:17.383254Z",
     "iopub.status.busy": "2022-07-08T06:49:17.382880Z",
     "iopub.status.idle": "2022-07-08T06:49:17.398513Z",
     "shell.execute_reply": "2022-07-08T06:49:17.397352Z"
    },
    "lines_to_next_cell": 0,
    "papermill": {
     "duration": 0.021819,
     "end_time": "2022-07-08T06:49:17.400621",
     "exception": false,
     "start_time": "2022-07-08T06:49:17.378802",
     "status": "completed"
    },
    "tags": []
   },
   "outputs": [],
   "source": [
    "# ----------------- Parameters for interactive development --------------\n",
    "P = {\n",
    "    \"pipeline.data_lake_root\": \"/pipeline-outputs/data-lake\",\n",
    "    \"task.train_test_ratio\": 0.7,\n",
    "}"
   ]
  },
  {
   "cell_type": "code",
   "execution_count": 2,
   "id": "7fb6ec6d",
   "metadata": {
    "execution": {
     "iopub.execute_input": "2022-07-08T06:49:17.414187Z",
     "iopub.status.busy": "2022-07-08T06:49:17.413923Z",
     "iopub.status.idle": "2022-07-08T06:49:17.418782Z",
     "shell.execute_reply": "2022-07-08T06:49:17.417642Z"
    },
    "lines_to_next_cell": 0,
    "papermill": {
     "duration": 0.019194,
     "end_time": "2022-07-08T06:49:17.422913",
     "exception": false,
     "start_time": "2022-07-08T06:49:17.403719",
     "status": "completed"
    },
    "tags": [
     "parameters"
    ]
   },
   "outputs": [],
   "source": [
    "# - During automated runs parameters will be injected in the below cell -"
   ]
  },
  {
   "cell_type": "code",
   "execution_count": 3,
   "id": "ba712493",
   "metadata": {
    "execution": {
     "iopub.execute_input": "2022-07-08T06:49:17.431797Z",
     "iopub.status.busy": "2022-07-08T06:49:17.431503Z",
     "iopub.status.idle": "2022-07-08T06:49:17.437041Z",
     "shell.execute_reply": "2022-07-08T06:49:17.436060Z"
    },
    "papermill": {
     "duration": 0.015314,
     "end_time": "2022-07-08T06:49:17.441443",
     "exception": false,
     "start_time": "2022-07-08T06:49:17.426129",
     "status": "completed"
    },
    "tags": [
     "injected-parameters"
    ]
   },
   "outputs": [],
   "source": [
    "# Parameters\n",
    "P = {\n",
    "    \"pipeline.data_lake_root\": \"/pipeline-outputs/data-lake\",\n",
    "    \"pipeline.run_environment\": \"ci\",\n",
    "    \"pipeline.pipeline_run_id\": \"2a4fe300-47ae-44e1-b3e9-09f0192b9a3f\",\n",
    "    \"pipeline.github.repository\": \"pynb-dag-runner/mnist-digits-demo-pipeline\",\n",
    "    \"pipeline.github.workflow\": \"Run automated tests, pipeline and deploy results to static reporting site\",\n",
    "    \"pipeline.github.runner_name\": \"Hosted Agent\",\n",
    "    \"pipeline.github.run_id\": \"2634377975\",\n",
    "    \"pipeline.github.actor\": \"matiasdahl\",\n",
    "    \"pipeline.github.job\": \"run-tests-pipeline-and-persist-pipeline-outputs\",\n",
    "    \"pipeline.github.base_ref\": \"\",\n",
    "    \"pipeline.github.head_ref\": \"\",\n",
    "    \"pipeline.github.sha\": \"147a1be9916173fd4d2cd011d8d51e3411215850\",\n",
    "    \"pipeline.github.ref\": \"refs/heads/development\",\n",
    "    \"pipeline.github.ref_type\": \"branch\",\n",
    "    \"pipeline.github.ref_name\": \"development\",\n",
    "    \"pipeline.github.event_name\": \"schedule\",\n",
    "    \"task.train_test_ratio\": 0.7,\n",
    "    \"task.notebook\": \"notebooks/split-train-test.py\",\n",
    "    \"task.max_nr_retries\": \"1\",\n",
    "    \"run.retry_nr\": \"0\",\n",
    "    \"task.timeout_s\": \"None\",\n",
    "    \"task.num_cpus\": 1,\n",
    "    \"_opentelemetry_traceparent\": \"00-62cc40efdfab9a316a46122f0e2f0cbb-37fb177ef0c4bdee-01\",\n",
    "}\n"
   ]
  },
  {
   "cell_type": "code",
   "execution_count": 4,
   "id": "3cc8d683",
   "metadata": {
    "execution": {
     "iopub.execute_input": "2022-07-08T06:49:17.449603Z",
     "iopub.status.busy": "2022-07-08T06:49:17.449356Z",
     "iopub.status.idle": "2022-07-08T06:49:17.452745Z",
     "shell.execute_reply": "2022-07-08T06:49:17.451915Z"
    },
    "lines_to_next_cell": 0,
    "papermill": {
     "duration": 0.011922,
     "end_time": "2022-07-08T06:49:17.455915",
     "exception": false,
     "start_time": "2022-07-08T06:49:17.443993",
     "status": "completed"
    },
    "tags": []
   },
   "outputs": [],
   "source": [
    "# -----------------------------------------------------------------------"
   ]
  },
  {
   "cell_type": "markdown",
   "id": "f218c161",
   "metadata": {
    "papermill": {
     "duration": 0.002923,
     "end_time": "2022-07-08T06:49:17.462677",
     "exception": false,
     "start_time": "2022-07-08T06:49:17.459754",
     "status": "completed"
    },
    "tags": []
   },
   "source": [
    "---"
   ]
  },
  {
   "cell_type": "markdown",
   "id": "b15487b8",
   "metadata": {
    "lines_to_next_cell": 2,
    "papermill": {
     "duration": 0.00428,
     "end_time": "2022-07-08T06:49:17.470083",
     "exception": false,
     "start_time": "2022-07-08T06:49:17.465803",
     "status": "completed"
    },
    "tags": []
   },
   "source": [
    "### Notebook code"
   ]
  },
  {
   "cell_type": "code",
   "execution_count": 5,
   "id": "695158c4",
   "metadata": {
    "execution": {
     "iopub.execute_input": "2022-07-08T06:49:17.477822Z",
     "iopub.status.busy": "2022-07-08T06:49:17.477571Z",
     "iopub.status.idle": "2022-07-08T06:49:18.122563Z",
     "shell.execute_reply": "2022-07-08T06:49:18.120823Z"
    },
    "papermill": {
     "duration": 0.652013,
     "end_time": "2022-07-08T06:49:18.124931",
     "exception": false,
     "start_time": "2022-07-08T06:49:17.472918",
     "status": "completed"
    },
    "tags": []
   },
   "outputs": [
    {
     "name": "stderr",
     "output_type": "stream",
     "text": [
      "2022-07-08 06:49:17,932\tINFO worker.py:842 -- Connecting to existing Ray cluster at address: 172.17.0.2:6379\n"
     ]
    }
   ],
   "source": [
    "from common.io import datalake_root, read_numpy, write_numpy\n",
    "from pynb_dag_runner.tasks.task_opentelemetry_logging import PydarLogger\n",
    "\n",
    "logger = PydarLogger(P)"
   ]
  },
  {
   "cell_type": "markdown",
   "id": "9303f28e",
   "metadata": {
    "papermill": {
     "duration": 0.004665,
     "end_time": "2022-07-08T06:49:18.135258",
     "exception": false,
     "start_time": "2022-07-08T06:49:18.130593",
     "status": "completed"
    },
    "tags": []
   },
   "source": [
    "## Load and split digits data"
   ]
  },
  {
   "cell_type": "code",
   "execution_count": 6,
   "id": "859c9a9b",
   "metadata": {
    "execution": {
     "iopub.execute_input": "2022-07-08T06:49:18.144071Z",
     "iopub.status.busy": "2022-07-08T06:49:18.143683Z",
     "iopub.status.idle": "2022-07-08T06:49:18.150581Z",
     "shell.execute_reply": "2022-07-08T06:49:18.149715Z"
    },
    "papermill": {
     "duration": 0.015153,
     "end_time": "2022-07-08T06:49:18.153695",
     "exception": false,
     "start_time": "2022-07-08T06:49:18.138542",
     "status": "completed"
    },
    "tags": []
   },
   "outputs": [],
   "source": [
    "X = read_numpy(datalake_root(P) / \"raw\" / \"digits.numpy\")\n",
    "y = read_numpy(datalake_root(P) / \"raw\" / \"labels.numpy\")"
   ]
  },
  {
   "cell_type": "code",
   "execution_count": 7,
   "id": "99d53262",
   "metadata": {
    "execution": {
     "iopub.execute_input": "2022-07-08T06:49:18.161290Z",
     "iopub.status.busy": "2022-07-08T06:49:18.161065Z",
     "iopub.status.idle": "2022-07-08T06:49:18.719715Z",
     "shell.execute_reply": "2022-07-08T06:49:18.718823Z"
    },
    "papermill": {
     "duration": 0.565994,
     "end_time": "2022-07-08T06:49:18.722769",
     "exception": false,
     "start_time": "2022-07-08T06:49:18.156775",
     "status": "completed"
    },
    "tags": []
   },
   "outputs": [],
   "source": [
    "from sklearn.model_selection import train_test_split\n",
    "\n",
    "X_train, X_test, y_train, y_test = train_test_split(\n",
    "    X,\n",
    "    y,\n",
    "    train_size=P[\"task.train_test_ratio\"],\n",
    "    test_size=None,\n",
    "    stratify=y,\n",
    "    shuffle=True,\n",
    "    random_state=1,\n",
    ")\n",
    "\n",
    "# assert nr of pixels per image is the same for all image vectors\n",
    "assert X.shape[1] == X_train.shape[1] == X_test.shape[1]\n",
    "\n",
    "# assert that the (X, y)-pairs have compatible sizes (for both train and test)\n",
    "assert X_train.shape[0] == len(y_train)\n",
    "assert X_test.shape[0] == len(y_test)\n",
    "\n",
    "# assert that all data is used\n",
    "assert len(y) == len(y_train) + len(y_test)"
   ]
  },
  {
   "cell_type": "code",
   "execution_count": 8,
   "id": "56492785",
   "metadata": {
    "execution": {
     "iopub.execute_input": "2022-07-08T06:49:18.735935Z",
     "iopub.status.busy": "2022-07-08T06:49:18.735429Z",
     "iopub.status.idle": "2022-07-08T06:49:18.744816Z",
     "shell.execute_reply": "2022-07-08T06:49:18.743942Z"
    },
    "papermill": {
     "duration": 0.020829,
     "end_time": "2022-07-08T06:49:18.746679",
     "exception": false,
     "start_time": "2022-07-08T06:49:18.725850",
     "status": "completed"
    },
    "tags": []
   },
   "outputs": [
    {
     "name": "stdout",
     "output_type": "stream",
     "text": [
      " - Logging nr_digits_train (int) : 1257\n",
      " - Logging nr_digits_test (int) : 540\n"
     ]
    }
   ],
   "source": [
    "logger.log_int(\"nr_digits_train\", len(y_train))\n",
    "logger.log_int(\"nr_digits_test\", len(y_test))"
   ]
  },
  {
   "cell_type": "markdown",
   "id": "7f49511b",
   "metadata": {
    "papermill": {
     "duration": 0.003006,
     "end_time": "2022-07-08T06:49:18.752812",
     "exception": false,
     "start_time": "2022-07-08T06:49:18.749806",
     "status": "completed"
    },
    "tags": []
   },
   "source": [
    "### Persist training and test data sets to separate files"
   ]
  },
  {
   "cell_type": "code",
   "execution_count": 9,
   "id": "72925020",
   "metadata": {
    "execution": {
     "iopub.execute_input": "2022-07-08T06:49:18.760557Z",
     "iopub.status.busy": "2022-07-08T06:49:18.760310Z",
     "iopub.status.idle": "2022-07-08T06:49:18.771795Z",
     "shell.execute_reply": "2022-07-08T06:49:18.770952Z"
    },
    "papermill": {
     "duration": 0.017483,
     "end_time": "2022-07-08T06:49:18.773858",
     "exception": false,
     "start_time": "2022-07-08T06:49:18.756375",
     "status": "completed"
    },
    "tags": []
   },
   "outputs": [],
   "source": [
    "write_numpy(datalake_root(P) / \"train-data\" / \"digits.numpy\", X_train)\n",
    "write_numpy(datalake_root(P) / \"train-data\" / \"labels.numpy\", y_train)\n",
    "\n",
    "#\n",
    "write_numpy(datalake_root(P) / \"test-data\" / \"digits.numpy\", X_test)\n",
    "write_numpy(datalake_root(P) / \"test-data\" / \"labels.numpy\", y_test)"
   ]
  },
  {
   "cell_type": "code",
   "execution_count": null,
   "id": "a1703c45",
   "metadata": {
    "papermill": {
     "duration": 0.003059,
     "end_time": "2022-07-08T06:49:18.780589",
     "exception": false,
     "start_time": "2022-07-08T06:49:18.777530",
     "status": "completed"
    },
    "tags": []
   },
   "outputs": [],
   "source": []
  }
 ],
 "metadata": {
  "jupytext": {
   "cell_metadata_filter": "tags,-all",
   "main_language": "python",
   "notebook_metadata_filter": "-all"
  },
  "language_info": {
   "codemirror_mode": {
    "name": "ipython",
    "version": 3
   },
   "file_extension": ".py",
   "mimetype": "text/x-python",
   "name": "python",
   "nbconvert_exporter": "python",
   "pygments_lexer": "ipython3",
   "version": "3.8.10"
  },
  "papermill": {
   "default_parameters": {},
   "duration": 4.12873,
   "end_time": "2022-07-08T06:49:19.808870",
   "environment_variables": {},
   "exception": null,
   "input_path": "/home/host_user/workspace/mnist-demo-pipeline/mnist-demo-pipeline/notebooks/temp-notebook-nhzyyqkh.ipynb",
   "output_path": "notebooks/split-train-test.ipynb",
   "parameters": {
    "P": {
     "_opentelemetry_traceparent": "00-62cc40efdfab9a316a46122f0e2f0cbb-37fb177ef0c4bdee-01",
     "pipeline.data_lake_root": "/pipeline-outputs/data-lake",
     "pipeline.github.actor": "matiasdahl",
     "pipeline.github.base_ref": "",
     "pipeline.github.event_name": "schedule",
     "pipeline.github.head_ref": "",
     "pipeline.github.job": "run-tests-pipeline-and-persist-pipeline-outputs",
     "pipeline.github.ref": "refs/heads/development",
     "pipeline.github.ref_name": "development",
     "pipeline.github.ref_type": "branch",
     "pipeline.github.repository": "pynb-dag-runner/mnist-digits-demo-pipeline",
     "pipeline.github.run_id": "2634377975",
     "pipeline.github.runner_name": "Hosted Agent",
     "pipeline.github.sha": "147a1be9916173fd4d2cd011d8d51e3411215850",
     "pipeline.github.workflow": "Run automated tests, pipeline and deploy results to static reporting site",
     "pipeline.pipeline_run_id": "2a4fe300-47ae-44e1-b3e9-09f0192b9a3f",
     "pipeline.run_environment": "ci",
     "run.retry_nr": "0",
     "task.max_nr_retries": "1",
     "task.notebook": "notebooks/split-train-test.py",
     "task.num_cpus": 1,
     "task.timeout_s": "None",
     "task.train_test_ratio": 0.7
    }
   },
   "start_time": "2022-07-08T06:49:15.680140",
   "version": "2.3.3"
  }
 },
 "nbformat": 4,
 "nbformat_minor": 5
}