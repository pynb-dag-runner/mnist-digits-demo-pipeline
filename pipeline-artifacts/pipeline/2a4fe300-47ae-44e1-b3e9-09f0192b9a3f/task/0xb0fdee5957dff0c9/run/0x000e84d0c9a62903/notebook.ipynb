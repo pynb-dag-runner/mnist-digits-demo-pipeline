{
 "cells": [
  {
   "cell_type": "markdown",
   "id": "e673c588",
   "metadata": {
    "papermill": {
     "duration": 0.003993,
     "end_time": "2022-07-08T06:49:10.951457",
     "exception": false,
     "start_time": "2022-07-08T06:49:10.947464",
     "status": "completed"
    },
    "tags": []
   },
   "source": [
    "# Ingest toy version of MNIST digit data from sklearn"
   ]
  },
  {
   "cell_type": "markdown",
   "id": "c7b67ed1",
   "metadata": {
    "papermill": {
     "duration": 0.00275,
     "end_time": "2022-07-08T06:49:10.958341",
     "exception": false,
     "start_time": "2022-07-08T06:49:10.955591",
     "status": "completed"
    },
    "tags": []
   },
   "source": [
    "### Determine run parameters"
   ]
  },
  {
   "cell_type": "code",
   "execution_count": 1,
   "id": "ed83e393",
   "metadata": {
    "execution": {
     "iopub.execute_input": "2022-07-08T06:49:10.971248Z",
     "iopub.status.busy": "2022-07-08T06:49:10.970864Z",
     "iopub.status.idle": "2022-07-08T06:49:10.982586Z",
     "shell.execute_reply": "2022-07-08T06:49:10.981809Z"
    },
    "lines_to_next_cell": 0,
    "papermill": {
     "duration": 0.019159,
     "end_time": "2022-07-08T06:49:10.985751",
     "exception": false,
     "start_time": "2022-07-08T06:49:10.966592",
     "status": "completed"
    },
    "tags": []
   },
   "outputs": [],
   "source": [
    "# ----------------- Parameters for interactive development --------------\n",
    "P = {\n",
    "    \"pipeline.run_environment\": \"dev\",\n",
    "    \"pipeline.data_lake_root\": \"/pipeline-outputs/data-lake\",\n",
    "    \"run.retry_nr\": \"1\",\n",
    "}"
   ]
  },
  {
   "cell_type": "code",
   "execution_count": 2,
   "id": "b5fbdcb2",
   "metadata": {
    "execution": {
     "iopub.execute_input": "2022-07-08T06:49:10.992973Z",
     "iopub.status.busy": "2022-07-08T06:49:10.992690Z",
     "iopub.status.idle": "2022-07-08T06:49:10.996996Z",
     "shell.execute_reply": "2022-07-08T06:49:10.996305Z"
    },
    "lines_to_next_cell": 0,
    "papermill": {
     "duration": 0.011486,
     "end_time": "2022-07-08T06:49:11.000250",
     "exception": false,
     "start_time": "2022-07-08T06:49:10.988764",
     "status": "completed"
    },
    "tags": [
     "parameters"
    ]
   },
   "outputs": [],
   "source": [
    "# - During automated runs parameters will be injected in the below cell -"
   ]
  },
  {
   "cell_type": "code",
   "execution_count": 3,
   "id": "0d5ef04d",
   "metadata": {
    "execution": {
     "iopub.execute_input": "2022-07-08T06:49:11.008797Z",
     "iopub.status.busy": "2022-07-08T06:49:11.008513Z",
     "iopub.status.idle": "2022-07-08T06:49:11.014085Z",
     "shell.execute_reply": "2022-07-08T06:49:11.013400Z"
    },
    "papermill": {
     "duration": 0.015501,
     "end_time": "2022-07-08T06:49:11.018714",
     "exception": false,
     "start_time": "2022-07-08T06:49:11.003213",
     "status": "completed"
    },
    "tags": [
     "injected-parameters"
    ]
   },
   "outputs": [],
   "source": [
    "# Parameters\n",
    "P = {\n",
    "    \"pipeline.data_lake_root\": \"/pipeline-outputs/data-lake\",\n",
    "    \"pipeline.run_environment\": \"ci\",\n",
    "    \"pipeline.pipeline_run_id\": \"2a4fe300-47ae-44e1-b3e9-09f0192b9a3f\",\n",
    "    \"pipeline.github.repository\": \"pynb-dag-runner/mnist-digits-demo-pipeline\",\n",
    "    \"pipeline.github.workflow\": \"Run automated tests, pipeline and deploy results to static reporting site\",\n",
    "    \"pipeline.github.runner_name\": \"Hosted Agent\",\n",
    "    \"pipeline.github.run_id\": \"2634377975\",\n",
    "    \"pipeline.github.actor\": \"matiasdahl\",\n",
    "    \"pipeline.github.job\": \"run-tests-pipeline-and-persist-pipeline-outputs\",\n",
    "    \"pipeline.github.base_ref\": \"\",\n",
    "    \"pipeline.github.head_ref\": \"\",\n",
    "    \"pipeline.github.sha\": \"147a1be9916173fd4d2cd011d8d51e3411215850\",\n",
    "    \"pipeline.github.ref\": \"refs/heads/development\",\n",
    "    \"pipeline.github.ref_type\": \"branch\",\n",
    "    \"pipeline.github.ref_name\": \"development\",\n",
    "    \"pipeline.github.event_name\": \"schedule\",\n",
    "    \"task.notebook\": \"notebooks/ingest.py\",\n",
    "    \"task.max_nr_retries\": \"15\",\n",
    "    \"run.retry_nr\": \"10\",\n",
    "    \"task.timeout_s\": \"10\",\n",
    "    \"task.num_cpus\": 1,\n",
    "    \"_opentelemetry_traceparent\": \"00-62cc40efdfab9a316a46122f0e2f0cbb-e1185bd1bfa19ccd-01\",\n",
    "}\n"
   ]
  },
  {
   "cell_type": "code",
   "execution_count": 4,
   "id": "e39da3f0",
   "metadata": {
    "execution": {
     "iopub.execute_input": "2022-07-08T06:49:11.026802Z",
     "iopub.status.busy": "2022-07-08T06:49:11.026526Z",
     "iopub.status.idle": "2022-07-08T06:49:11.029844Z",
     "shell.execute_reply": "2022-07-08T06:49:11.029169Z"
    },
    "lines_to_next_cell": 0,
    "papermill": {
     "duration": 0.011192,
     "end_time": "2022-07-08T06:49:11.032801",
     "exception": false,
     "start_time": "2022-07-08T06:49:11.021609",
     "status": "completed"
    },
    "tags": []
   },
   "outputs": [],
   "source": [
    "# -----------------------------------------------------------------------"
   ]
  },
  {
   "cell_type": "markdown",
   "id": "f1241358",
   "metadata": {
    "lines_to_next_cell": 2,
    "papermill": {
     "duration": 0.002764,
     "end_time": "2022-07-08T06:49:11.039948",
     "exception": false,
     "start_time": "2022-07-08T06:49:11.037184",
     "status": "completed"
    },
    "tags": []
   },
   "source": [
    "---"
   ]
  },
  {
   "cell_type": "markdown",
   "id": "1485f9ff",
   "metadata": {
    "papermill": {
     "duration": 0.004404,
     "end_time": "2022-07-08T06:49:11.047679",
     "exception": false,
     "start_time": "2022-07-08T06:49:11.043275",
     "status": "completed"
    },
    "tags": []
   },
   "source": [
    "### Simulate different types of failures (for testing timeout and retry logic)"
   ]
  },
  {
   "cell_type": "code",
   "execution_count": 5,
   "id": "8b84df36",
   "metadata": {
    "execution": {
     "iopub.execute_input": "2022-07-08T06:49:11.055506Z",
     "iopub.status.busy": "2022-07-08T06:49:11.055175Z",
     "iopub.status.idle": "2022-07-08T06:49:11.653548Z",
     "shell.execute_reply": "2022-07-08T06:49:11.652562Z"
    },
    "papermill": {
     "duration": 0.605615,
     "end_time": "2022-07-08T06:49:11.656166",
     "exception": false,
     "start_time": "2022-07-08T06:49:11.050551",
     "status": "completed"
    },
    "tags": []
   },
   "outputs": [
    {
     "name": "stderr",
     "output_type": "stream",
     "text": [
      "2022-07-08 06:49:11,467\tINFO worker.py:842 -- Connecting to existing Ray cluster at address: 172.17.0.2:6379\n"
     ]
    }
   ],
   "source": [
    "from pynb_dag_runner.tasks.task_opentelemetry_logging import PydarLogger\n",
    "\n",
    "logger = PydarLogger(P)"
   ]
  },
  {
   "cell_type": "code",
   "execution_count": 6,
   "id": "36cdff93",
   "metadata": {
    "execution": {
     "iopub.execute_input": "2022-07-08T06:49:11.664486Z",
     "iopub.status.busy": "2022-07-08T06:49:11.663981Z",
     "iopub.status.idle": "2022-07-08T06:49:11.670214Z",
     "shell.execute_reply": "2022-07-08T06:49:11.669285Z"
    },
    "papermill": {
     "duration": 0.012691,
     "end_time": "2022-07-08T06:49:11.672489",
     "exception": false,
     "start_time": "2022-07-08T06:49:11.659798",
     "status": "completed"
    },
    "tags": []
   },
   "outputs": [],
   "source": [
    "import time, random\n",
    "\n",
    "\n",
    "def maybe_crash(retry_nr: int, run_environment: str):\n",
    "    if retry_nr == 2 and run_environment == \"ci\":\n",
    "        time.sleep(1e6)\n",
    "\n",
    "    max_retry_nr: int = 3 if run_environment == \"dev\" else 10\n",
    "\n",
    "    if retry_nr < max_retry_nr:\n",
    "        if random.random() < 0.1:\n",
    "            time.sleep(1e6)\n",
    "        else:\n",
    "            raise Exception(\"Simulated exception failure from ingestion step notebook!\")\n",
    "\n",
    "\n",
    "maybe_crash(\n",
    "    retry_nr=int(P[\"run.retry_nr\"]), run_environment=P[\"pipeline.run_environment\"]\n",
    ")"
   ]
  },
  {
   "cell_type": "markdown",
   "id": "b1f69cbc",
   "metadata": {
    "lines_to_next_cell": 2,
    "papermill": {
     "duration": 0.003286,
     "end_time": "2022-07-08T06:49:11.678776",
     "exception": false,
     "start_time": "2022-07-08T06:49:11.675490",
     "status": "completed"
    },
    "tags": []
   },
   "source": [
    "### Notebook code"
   ]
  },
  {
   "cell_type": "code",
   "execution_count": 7,
   "id": "16ad7dde",
   "metadata": {
    "execution": {
     "iopub.execute_input": "2022-07-08T06:49:11.687786Z",
     "iopub.status.busy": "2022-07-08T06:49:11.687120Z",
     "iopub.status.idle": "2022-07-08T06:49:13.095213Z",
     "shell.execute_reply": "2022-07-08T06:49:13.094063Z"
    },
    "papermill": {
     "duration": 1.415013,
     "end_time": "2022-07-08T06:49:13.097820",
     "exception": false,
     "start_time": "2022-07-08T06:49:11.682807",
     "status": "completed"
    },
    "tags": []
   },
   "outputs": [],
   "source": [
    "from sklearn import datasets\n",
    "\n",
    "#\n",
    "from common.io import datalake_root, write_numpy"
   ]
  },
  {
   "cell_type": "code",
   "execution_count": 8,
   "id": "6b67681a",
   "metadata": {
    "execution": {
     "iopub.execute_input": "2022-07-08T06:49:13.105935Z",
     "iopub.status.busy": "2022-07-08T06:49:13.105668Z",
     "iopub.status.idle": "2022-07-08T06:49:13.122754Z",
     "shell.execute_reply": "2022-07-08T06:49:13.121764Z"
    },
    "lines_to_next_cell": 2,
    "papermill": {
     "duration": 0.023657,
     "end_time": "2022-07-08T06:49:13.124799",
     "exception": false,
     "start_time": "2022-07-08T06:49:13.101142",
     "status": "completed"
    },
    "tags": []
   },
   "outputs": [],
   "source": [
    "digits = datasets.load_digits()\n",
    "\n",
    "X = digits[\"data\"]\n",
    "y = digits[\"target\"]"
   ]
  },
  {
   "cell_type": "code",
   "execution_count": 9,
   "id": "ba000dfc",
   "metadata": {
    "execution": {
     "iopub.execute_input": "2022-07-08T06:49:13.132299Z",
     "iopub.status.busy": "2022-07-08T06:49:13.131799Z",
     "iopub.status.idle": "2022-07-08T06:49:13.145779Z",
     "shell.execute_reply": "2022-07-08T06:49:13.144938Z"
    },
    "papermill": {
     "duration": 0.020958,
     "end_time": "2022-07-08T06:49:13.148533",
     "exception": false,
     "start_time": "2022-07-08T06:49:13.127575",
     "status": "completed"
    },
    "tags": []
   },
   "outputs": [
    {
     "name": "stdout",
     "output_type": "stream",
     "text": [
      " - Logging data_shape (json) : [1797, 64]\n",
      " - Logging target_shape (json) : [1797]\n"
     ]
    },
    {
     "data": {
      "text/plain": [
       "((1797, 64), (1797,))"
      ]
     },
     "execution_count": 9,
     "metadata": {},
     "output_type": "execute_result"
    }
   ],
   "source": [
    "logger.log_value(\"data_shape\", list(X.shape))\n",
    "logger.log_value(\"target_shape\", list(y.shape))\n",
    "\n",
    "X.shape, y.shape"
   ]
  },
  {
   "cell_type": "code",
   "execution_count": 10,
   "id": "04231e7b",
   "metadata": {
    "execution": {
     "iopub.execute_input": "2022-07-08T06:49:13.157768Z",
     "iopub.status.busy": "2022-07-08T06:49:13.157371Z",
     "iopub.status.idle": "2022-07-08T06:49:13.167856Z",
     "shell.execute_reply": "2022-07-08T06:49:13.166973Z"
    },
    "papermill": {
     "duration": 0.018277,
     "end_time": "2022-07-08T06:49:13.170055",
     "exception": false,
     "start_time": "2022-07-08T06:49:13.151778",
     "status": "completed"
    },
    "tags": []
   },
   "outputs": [],
   "source": [
    "write_numpy(datalake_root(P) / \"raw\" / \"digits.numpy\", X)\n",
    "write_numpy(datalake_root(P) / \"raw\" / \"labels.numpy\", y)"
   ]
  },
  {
   "cell_type": "code",
   "execution_count": null,
   "id": "d83789f1",
   "metadata": {
    "papermill": {
     "duration": 0.003297,
     "end_time": "2022-07-08T06:49:13.176384",
     "exception": false,
     "start_time": "2022-07-08T06:49:13.173087",
     "status": "completed"
    },
    "tags": []
   },
   "outputs": [],
   "source": []
  }
 ],
 "metadata": {
  "jupytext": {
   "cell_metadata_filter": "tags,-all",
   "main_language": "python",
   "notebook_metadata_filter": "-all"
  },
  "language_info": {
   "codemirror_mode": {
    "name": "ipython",
    "version": 3
   },
   "file_extension": ".py",
   "mimetype": "text/x-python",
   "name": "python",
   "nbconvert_exporter": "python",
   "pygments_lexer": "ipython3",
   "version": "3.8.10"
  },
  "papermill": {
   "default_parameters": {},
   "duration": 4.548938,
   "end_time": "2022-07-08T06:49:14.099927",
   "environment_variables": {},
   "exception": null,
   "input_path": "/home/host_user/workspace/mnist-demo-pipeline/mnist-demo-pipeline/notebooks/temp-notebook-w8z25t8_.ipynb",
   "output_path": "notebooks/ingest.ipynb",
   "parameters": {
    "P": {
     "_opentelemetry_traceparent": "00-62cc40efdfab9a316a46122f0e2f0cbb-e1185bd1bfa19ccd-01",
     "pipeline.data_lake_root": "/pipeline-outputs/data-lake",
     "pipeline.github.actor": "matiasdahl",
     "pipeline.github.base_ref": "",
     "pipeline.github.event_name": "schedule",
     "pipeline.github.head_ref": "",
     "pipeline.github.job": "run-tests-pipeline-and-persist-pipeline-outputs",
     "pipeline.github.ref": "refs/heads/development",
     "pipeline.github.ref_name": "development",
     "pipeline.github.ref_type": "branch",
     "pipeline.github.repository": "pynb-dag-runner/mnist-digits-demo-pipeline",
     "pipeline.github.run_id": "2634377975",
     "pipeline.github.runner_name": "Hosted Agent",
     "pipeline.github.sha": "147a1be9916173fd4d2cd011d8d51e3411215850",
     "pipeline.github.workflow": "Run automated tests, pipeline and deploy results to static reporting site",
     "pipeline.pipeline_run_id": "2a4fe300-47ae-44e1-b3e9-09f0192b9a3f",
     "pipeline.run_environment": "ci",
     "run.retry_nr": "10",
     "task.max_nr_retries": "15",
     "task.notebook": "notebooks/ingest.py",
     "task.num_cpus": 1,
     "task.timeout_s": "10"
    }
   },
   "start_time": "2022-07-08T06:49:09.550989",
   "version": "2.3.3"
  }
 },
 "nbformat": 4,
 "nbformat_minor": 5
}