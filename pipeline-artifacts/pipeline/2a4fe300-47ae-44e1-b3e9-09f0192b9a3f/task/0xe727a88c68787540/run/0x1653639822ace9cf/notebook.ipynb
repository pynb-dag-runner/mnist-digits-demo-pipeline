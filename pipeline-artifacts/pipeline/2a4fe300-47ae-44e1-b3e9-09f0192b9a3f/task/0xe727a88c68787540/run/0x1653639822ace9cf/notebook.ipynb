{
 "cells": [
  {
   "cell_type": "markdown",
   "id": "3fdd2f13",
   "metadata": {
    "papermill": {
     "duration": 0.009617,
     "end_time": "2022-07-08T06:49:37.439505",
     "exception": false,
     "start_time": "2022-07-08T06:49:37.429888",
     "status": "completed"
    },
    "tags": []
   },
   "source": [
    "# Benchmark model\n",
    "\n",
    "The purpose of this notebook is to benchmark persisted onnx-model (trained in the\n",
    "previous step) against evaluation set."
   ]
  },
  {
   "cell_type": "markdown",
   "id": "450dcb35",
   "metadata": {
    "papermill": {
     "duration": 0.0047,
     "end_time": "2022-07-08T06:49:37.449022",
     "exception": false,
     "start_time": "2022-07-08T06:49:37.444322",
     "status": "completed"
    },
    "tags": []
   },
   "source": [
    "### Determine run parameters"
   ]
  },
  {
   "cell_type": "code",
   "execution_count": 1,
   "id": "010b2f18",
   "metadata": {
    "execution": {
     "iopub.execute_input": "2022-07-08T06:49:37.459410Z",
     "iopub.status.busy": "2022-07-08T06:49:37.458819Z",
     "iopub.status.idle": "2022-07-08T06:49:37.468388Z",
     "shell.execute_reply": "2022-07-08T06:49:37.467586Z"
    },
    "lines_to_next_cell": 0,
    "papermill": {
     "duration": 0.017056,
     "end_time": "2022-07-08T06:49:37.470371",
     "exception": false,
     "start_time": "2022-07-08T06:49:37.453315",
     "status": "completed"
    },
    "tags": []
   },
   "outputs": [],
   "source": [
    "# ----------------- Parameters for interactive development --------------\n",
    "P = {\n",
    "    \"pipeline.data_lake_root\": \"/pipeline-outputs/data-lake\",\n",
    "    \"task.nr_train_images\": 600,\n",
    "}"
   ]
  },
  {
   "cell_type": "code",
   "execution_count": 2,
   "id": "6d2a7733",
   "metadata": {
    "execution": {
     "iopub.execute_input": "2022-07-08T06:49:37.481114Z",
     "iopub.status.busy": "2022-07-08T06:49:37.480533Z",
     "iopub.status.idle": "2022-07-08T06:49:37.484519Z",
     "shell.execute_reply": "2022-07-08T06:49:37.483831Z"
    },
    "lines_to_next_cell": 0,
    "papermill": {
     "duration": 0.011281,
     "end_time": "2022-07-08T06:49:37.486461",
     "exception": false,
     "start_time": "2022-07-08T06:49:37.475180",
     "status": "completed"
    },
    "tags": [
     "parameters"
    ]
   },
   "outputs": [],
   "source": [
    "# - During automated runs parameters will be injected in the below cell -"
   ]
  },
  {
   "cell_type": "code",
   "execution_count": 3,
   "id": "8c7e43cb",
   "metadata": {
    "execution": {
     "iopub.execute_input": "2022-07-08T06:49:37.497337Z",
     "iopub.status.busy": "2022-07-08T06:49:37.497075Z",
     "iopub.status.idle": "2022-07-08T06:49:37.503296Z",
     "shell.execute_reply": "2022-07-08T06:49:37.501540Z"
    },
    "papermill": {
     "duration": 0.01439,
     "end_time": "2022-07-08T06:49:37.505199",
     "exception": false,
     "start_time": "2022-07-08T06:49:37.490809",
     "status": "completed"
    },
    "tags": [
     "injected-parameters"
    ]
   },
   "outputs": [],
   "source": [
    "# Parameters\n",
    "P = {\n",
    "    \"pipeline.data_lake_root\": \"/pipeline-outputs/data-lake\",\n",
    "    \"pipeline.run_environment\": \"ci\",\n",
    "    \"pipeline.pipeline_run_id\": \"2a4fe300-47ae-44e1-b3e9-09f0192b9a3f\",\n",
    "    \"pipeline.github.repository\": \"pynb-dag-runner/mnist-digits-demo-pipeline\",\n",
    "    \"pipeline.github.workflow\": \"Run automated tests, pipeline and deploy results to static reporting site\",\n",
    "    \"pipeline.github.runner_name\": \"Hosted Agent\",\n",
    "    \"pipeline.github.run_id\": \"2634377975\",\n",
    "    \"pipeline.github.actor\": \"matiasdahl\",\n",
    "    \"pipeline.github.job\": \"run-tests-pipeline-and-persist-pipeline-outputs\",\n",
    "    \"pipeline.github.base_ref\": \"\",\n",
    "    \"pipeline.github.head_ref\": \"\",\n",
    "    \"pipeline.github.sha\": \"147a1be9916173fd4d2cd011d8d51e3411215850\",\n",
    "    \"pipeline.github.ref\": \"refs/heads/development\",\n",
    "    \"pipeline.github.ref_type\": \"branch\",\n",
    "    \"pipeline.github.ref_name\": \"development\",\n",
    "    \"pipeline.github.event_name\": \"schedule\",\n",
    "    \"task.nr_train_images\": 800,\n",
    "    \"task.notebook\": \"notebooks/benchmark-model.py\",\n",
    "    \"task.max_nr_retries\": \"1\",\n",
    "    \"run.retry_nr\": \"0\",\n",
    "    \"task.timeout_s\": \"None\",\n",
    "    \"task.num_cpus\": 1,\n",
    "    \"_opentelemetry_traceparent\": \"00-62cc40efdfab9a316a46122f0e2f0cbb-c7c49135268d4dbb-01\",\n",
    "}\n"
   ]
  },
  {
   "cell_type": "code",
   "execution_count": 4,
   "id": "ecc16f4c",
   "metadata": {
    "execution": {
     "iopub.execute_input": "2022-07-08T06:49:37.515812Z",
     "iopub.status.busy": "2022-07-08T06:49:37.515486Z",
     "iopub.status.idle": "2022-07-08T06:49:37.518948Z",
     "shell.execute_reply": "2022-07-08T06:49:37.517944Z"
    },
    "lines_to_next_cell": 0,
    "papermill": {
     "duration": 0.010925,
     "end_time": "2022-07-08T06:49:37.520772",
     "exception": false,
     "start_time": "2022-07-08T06:49:37.509847",
     "status": "completed"
    },
    "tags": []
   },
   "outputs": [],
   "source": [
    "# -----------------------------------------------------------------------"
   ]
  },
  {
   "cell_type": "markdown",
   "id": "ba3009ca",
   "metadata": {
    "papermill": {
     "duration": 0.004354,
     "end_time": "2022-07-08T06:49:37.536415",
     "exception": false,
     "start_time": "2022-07-08T06:49:37.532061",
     "status": "completed"
    },
    "tags": []
   },
   "source": [
    "---"
   ]
  },
  {
   "cell_type": "markdown",
   "id": "dbf0571c",
   "metadata": {
    "lines_to_next_cell": 2,
    "papermill": {
     "duration": 0.004653,
     "end_time": "2022-07-08T06:49:37.545294",
     "exception": false,
     "start_time": "2022-07-08T06:49:37.540641",
     "status": "completed"
    },
    "tags": []
   },
   "source": [
    "### Notebook code"
   ]
  },
  {
   "cell_type": "code",
   "execution_count": 5,
   "id": "7a0bc8b3",
   "metadata": {
    "execution": {
     "iopub.execute_input": "2022-07-08T06:49:37.556117Z",
     "iopub.status.busy": "2022-07-08T06:49:37.555534Z",
     "iopub.status.idle": "2022-07-08T06:49:39.307764Z",
     "shell.execute_reply": "2022-07-08T06:49:39.306814Z"
    },
    "papermill": {
     "duration": 1.76062,
     "end_time": "2022-07-08T06:49:39.310553",
     "exception": false,
     "start_time": "2022-07-08T06:49:37.549933",
     "status": "completed"
    },
    "tags": []
   },
   "outputs": [
    {
     "name": "stderr",
     "output_type": "stream",
     "text": [
      "2022-07-08 06:49:39,120\tINFO worker.py:842 -- Connecting to existing Ray cluster at address: 172.17.0.2:6379\n"
     ]
    }
   ],
   "source": [
    "import itertools as it\n",
    "\n",
    "#\n",
    "import numpy as np\n",
    "import matplotlib.pyplot as plt\n",
    "\n",
    "#\n",
    "from pynb_dag_runner.tasks.task_opentelemetry_logging import PydarLogger\n",
    "\n",
    "#\n",
    "from common.io import datalake_root\n",
    "\n",
    "logger = PydarLogger(P)"
   ]
  },
  {
   "cell_type": "markdown",
   "id": "646376db",
   "metadata": {
    "papermill": {
     "duration": 0.006855,
     "end_time": "2022-07-08T06:49:39.325486",
     "exception": false,
     "start_time": "2022-07-08T06:49:39.318631",
     "status": "completed"
    },
    "tags": []
   },
   "source": [
    "## Load persisted onnx-model and evaluation data"
   ]
  },
  {
   "cell_type": "code",
   "execution_count": 6,
   "id": "c94f931f",
   "metadata": {
    "execution": {
     "iopub.execute_input": "2022-07-08T06:49:39.338204Z",
     "iopub.status.busy": "2022-07-08T06:49:39.337789Z",
     "iopub.status.idle": "2022-07-08T06:49:39.342474Z",
     "shell.execute_reply": "2022-07-08T06:49:39.341550Z"
    },
    "papermill": {
     "duration": 0.016342,
     "end_time": "2022-07-08T06:49:39.346800",
     "exception": false,
     "start_time": "2022-07-08T06:49:39.330458",
     "status": "completed"
    },
    "tags": []
   },
   "outputs": [],
   "source": [
    "from common.io import read_onnx, get_onnx_inputs, get_onnx_outputs, read_numpy"
   ]
  },
  {
   "cell_type": "code",
   "execution_count": 7,
   "id": "98faac86",
   "metadata": {
    "execution": {
     "iopub.execute_input": "2022-07-08T06:49:39.358911Z",
     "iopub.status.busy": "2022-07-08T06:49:39.358643Z",
     "iopub.status.idle": "2022-07-08T06:49:39.372952Z",
     "shell.execute_reply": "2022-07-08T06:49:39.372005Z"
    },
    "lines_to_next_cell": 0,
    "papermill": {
     "duration": 0.0259,
     "end_time": "2022-07-08T06:49:39.377799",
     "exception": false,
     "start_time": "2022-07-08T06:49:39.351899",
     "status": "completed"
    },
    "tags": []
   },
   "outputs": [],
   "source": [
    "onnx_inference_session = read_onnx(\n",
    "    datalake_root(P)\n",
    "    / \"models\"\n",
    "    / f\"nr_train_images={P['task.nr_train_images']}\"\n",
    "    / \"model.onnx\"\n",
    ")"
   ]
  },
  {
   "cell_type": "markdown",
   "id": "bbddcb4b",
   "metadata": {
    "papermill": {
     "duration": 0.005786,
     "end_time": "2022-07-08T06:49:39.389464",
     "exception": false,
     "start_time": "2022-07-08T06:49:39.383678",
     "status": "completed"
    },
    "tags": []
   },
   "source": [
    "### Record structure of inputs and outputs for ONNX model\n",
    "\n",
    "(this should likely be done in training notebook)"
   ]
  },
  {
   "cell_type": "code",
   "execution_count": 8,
   "id": "d19a65db",
   "metadata": {
    "execution": {
     "iopub.execute_input": "2022-07-08T06:49:39.411834Z",
     "iopub.status.busy": "2022-07-08T06:49:39.411497Z",
     "iopub.status.idle": "2022-07-08T06:49:39.425088Z",
     "shell.execute_reply": "2022-07-08T06:49:39.424226Z"
    },
    "papermill": {
     "duration": 0.033095,
     "end_time": "2022-07-08T06:49:39.428127",
     "exception": false,
     "start_time": "2022-07-08T06:49:39.395032",
     "status": "completed"
    },
    "tags": []
   },
   "outputs": [
    {
     "name": "stdout",
     "output_type": "stream",
     "text": [
      "{\n",
      "  \"inputs\": [\n",
      "    {\n",
      "      \"name\": \"float_input_8x8_image\",\n",
      "      \"shape\": [\n",
      "        null,\n",
      "        64\n",
      "      ],\n",
      "      \"type\": \"tensor(float)\"\n",
      "    }\n",
      "  ],\n",
      "  \"outputs\": [\n",
      "    {\n",
      "      \"name\": \"output_label\",\n",
      "      \"shape\": [\n",
      "        null\n",
      "      ],\n",
      "      \"type\": \"tensor(int64)\"\n",
      "    },\n",
      "    {\n",
      "      \"name\": \"output_probability\",\n",
      "      \"shape\": [],\n",
      "      \"type\": \"seq(map(int64,tensor(float)))\"\n",
      "    }\n",
      "  ]\n",
      "}\n"
     ]
    }
   ],
   "source": [
    "import json\n",
    "\n",
    "onnx_io = json.dumps(\n",
    "    {\n",
    "        \"inputs\": get_onnx_inputs(onnx_inference_session),\n",
    "        \"outputs\": get_onnx_outputs(onnx_inference_session),\n",
    "    },\n",
    "    indent=2,\n",
    ")\n",
    "\n",
    "\n",
    "logger.log_artefact(\"onnx_io_structure.json\", onnx_io)\n",
    "print(onnx_io)"
   ]
  },
  {
   "cell_type": "markdown",
   "id": "d4774813",
   "metadata": {
    "papermill": {
     "duration": 0.006244,
     "end_time": "2022-07-08T06:49:39.439464",
     "exception": false,
     "start_time": "2022-07-08T06:49:39.433220",
     "status": "completed"
    },
    "tags": []
   },
   "source": [
    "### Evaluate model performance on evaluation data set"
   ]
  },
  {
   "cell_type": "code",
   "execution_count": 9,
   "id": "27111119",
   "metadata": {
    "execution": {
     "iopub.execute_input": "2022-07-08T06:49:39.453511Z",
     "iopub.status.busy": "2022-07-08T06:49:39.452956Z",
     "iopub.status.idle": "2022-07-08T06:49:39.459246Z",
     "shell.execute_reply": "2022-07-08T06:49:39.458429Z"
    },
    "papermill": {
     "duration": 0.016343,
     "end_time": "2022-07-08T06:49:39.461745",
     "exception": false,
     "start_time": "2022-07-08T06:49:39.445402",
     "status": "completed"
    },
    "tags": []
   },
   "outputs": [],
   "source": [
    "# load evaluation data\n",
    "X_test = read_numpy(datalake_root(P) / \"test-data\" / \"digits.numpy\")\n",
    "y_test = read_numpy(datalake_root(P) / \"test-data\" / \"labels.numpy\")"
   ]
  },
  {
   "cell_type": "code",
   "execution_count": 10,
   "id": "1ac65d98",
   "metadata": {
    "execution": {
     "iopub.execute_input": "2022-07-08T06:49:39.473967Z",
     "iopub.status.busy": "2022-07-08T06:49:39.473601Z",
     "iopub.status.idle": "2022-07-08T06:49:39.489764Z",
     "shell.execute_reply": "2022-07-08T06:49:39.489058Z"
    },
    "papermill": {
     "duration": 0.027272,
     "end_time": "2022-07-08T06:49:39.493742",
     "exception": false,
     "start_time": "2022-07-08T06:49:39.466470",
     "status": "completed"
    },
    "tags": []
   },
   "outputs": [],
   "source": [
    "def get_model_outputs(X, onnx_inference_session):\n",
    "    y_pred_labels, y_pred_map = onnx_inference_session.run(\n",
    "        [\"output_label\", \"output_probability\"],\n",
    "        {\"float_input_8x8_image\": X.astype(np.float32)},\n",
    "    )\n",
    "    y_pred_probs = np.array(\n",
    "        [[probabilities[digit] for digit in range(10)] for probabilities in y_pred_map]\n",
    "    )\n",
    "\n",
    "    assert y_pred_labels.shape == (X.shape[0],)\n",
    "    assert y_pred_probs.shape == (X.shape[0], 10)\n",
    "\n",
    "    return y_pred_labels, y_pred_probs\n",
    "\n",
    "\n",
    "# Note: as shown in the training notebook, the predicted labels and probabilities\n",
    "# computed below need not be compatible.\n",
    "y_pred_labels_test, y_pred_probs_test = get_model_outputs(\n",
    "    X_test, onnx_inference_session\n",
    ")"
   ]
  },
  {
   "cell_type": "markdown",
   "id": "2da55411",
   "metadata": {
    "papermill": {
     "duration": 0.00554,
     "end_time": "2022-07-08T06:49:39.503998",
     "exception": false,
     "start_time": "2022-07-08T06:49:39.498458",
     "status": "completed"
    },
    "tags": []
   },
   "source": [
    "### Confusion matrix"
   ]
  },
  {
   "cell_type": "code",
   "execution_count": 11,
   "id": "ae339bad",
   "metadata": {
    "execution": {
     "iopub.execute_input": "2022-07-08T06:49:39.515996Z",
     "iopub.status.busy": "2022-07-08T06:49:39.515613Z",
     "iopub.status.idle": "2022-07-08T06:49:39.519852Z",
     "shell.execute_reply": "2022-07-08T06:49:39.519064Z"
    },
    "papermill": {
     "duration": 0.013366,
     "end_time": "2022-07-08T06:49:39.521988",
     "exception": false,
     "start_time": "2022-07-08T06:49:39.508622",
     "status": "completed"
    },
    "tags": []
   },
   "outputs": [],
   "source": [
    "# TODO"
   ]
  },
  {
   "cell_type": "markdown",
   "id": "54e7e54f",
   "metadata": {
    "papermill": {
     "duration": 0.005063,
     "end_time": "2022-07-08T06:49:39.531901",
     "exception": false,
     "start_time": "2022-07-08T06:49:39.526838",
     "status": "completed"
    },
    "tags": []
   },
   "source": [
    "### Plot predicted probabilities for each classifier over all evaluation digit images"
   ]
  },
  {
   "cell_type": "code",
   "execution_count": 12,
   "id": "2385e602",
   "metadata": {
    "execution": {
     "iopub.execute_input": "2022-07-08T06:49:39.543856Z",
     "iopub.status.busy": "2022-07-08T06:49:39.543063Z",
     "iopub.status.idle": "2022-07-08T06:49:44.313996Z",
     "shell.execute_reply": "2022-07-08T06:49:44.312784Z"
    },
    "papermill": {
     "duration": 4.780073,
     "end_time": "2022-07-08T06:49:44.316615",
     "exception": false,
     "start_time": "2022-07-08T06:49:39.536542",
     "status": "completed"
    },
    "tags": []
   },
   "outputs": [
    {
     "data": {
      "image/png": "[encoded data removed]",
      "text/plain": [
       "<Figure size 1152x432 with 10 Axes>"
      ]
     },
     "metadata": {
      "needs_background": "light"
     },
     "output_type": "display_data"
    }
   ],
   "source": [
    "def plot_per_digit_probabilities(y_pred_probs):\n",
    "    fig, axs = plt.subplots(nrows=2, ncols=5, figsize=(16, 6))\n",
    "\n",
    "    for (r, c), digit, ax in zip(\n",
    "        it.product(range(2), range(5)), range(10), axs.reshape(-1)\n",
    "    ):\n",
    "        ax.hist(y_pred_probs_test[:, digit], bins=20)\n",
    "\n",
    "        ax.set_title(f\"Digit {digit}\")\n",
    "        if r == 1 and c == 2:\n",
    "            ax.set_xlabel(\"probability\", fontsize=16)\n",
    "\n",
    "        if c == 0:\n",
    "            ax.set_ylabel(\"counts\", fontsize=16)\n",
    "        ax.set_yscale(\"log\")\n",
    "\n",
    "    fig.tight_layout()\n",
    "    fig.suptitle(\n",
    "        f\"Distributions of prediction probabilities for each digit \"\n",
    "        f\"(on evaluation data, n={y_pred_probs.shape[0]})\",\n",
    "        fontsize=20,\n",
    "    )\n",
    "    fig.tight_layout()\n",
    "    fig.show()\n",
    "\n",
    "    return fig\n",
    "\n",
    "\n",
    "fig = plot_per_digit_probabilities(y_pred_probs_test)"
   ]
  },
  {
   "cell_type": "markdown",
   "id": "029bbea9",
   "metadata": {
    "papermill": {
     "duration": 0.006891,
     "end_time": "2022-07-08T06:49:44.330828",
     "exception": false,
     "start_time": "2022-07-08T06:49:44.323937",
     "status": "completed"
    },
    "tags": []
   },
   "source": [
    "From the above distributions we see that most digits have clear separation between\n",
    "high and lower probabilities. Morover, in each case there is roughly an order of\n",
    "magnitude more of digits with low probabilities. This is compatible with digits\n",
    "being roughly evenly distributed in the data."
   ]
  },
  {
   "cell_type": "code",
   "execution_count": 13,
   "id": "3bf08201",
   "metadata": {
    "execution": {
     "iopub.execute_input": "2022-07-08T06:49:44.346299Z",
     "iopub.status.busy": "2022-07-08T06:49:44.345996Z",
     "iopub.status.idle": "2022-07-08T06:49:45.003673Z",
     "shell.execute_reply": "2022-07-08T06:49:45.002892Z"
    },
    "papermill": {
     "duration": 0.667586,
     "end_time": "2022-07-08T06:49:45.005876",
     "exception": false,
     "start_time": "2022-07-08T06:49:44.338290",
     "status": "completed"
    },
    "tags": []
   },
   "outputs": [],
   "source": [
    "logger.log_figure(\"per-digit-probabilities.png\", fig)"
   ]
  },
  {
   "cell_type": "markdown",
   "id": "0b9268b0",
   "metadata": {
    "papermill": {
     "duration": 0.008657,
     "end_time": "2022-07-08T06:49:45.021185",
     "exception": false,
     "start_time": "2022-07-08T06:49:45.012528",
     "status": "completed"
    },
    "tags": []
   },
   "source": [
    "### Plot ROC curves for individual one-vs-rest classifiers"
   ]
  },
  {
   "cell_type": "code",
   "execution_count": 14,
   "id": "ad08225c",
   "metadata": {
    "execution": {
     "iopub.execute_input": "2022-07-08T06:49:45.040688Z",
     "iopub.status.busy": "2022-07-08T06:49:45.040333Z",
     "iopub.status.idle": "2022-07-08T06:49:45.567767Z",
     "shell.execute_reply": "2022-07-08T06:49:45.566827Z"
    },
    "papermill": {
     "duration": 0.537425,
     "end_time": "2022-07-08T06:49:45.570235",
     "exception": false,
     "start_time": "2022-07-08T06:49:45.032810",
     "status": "completed"
    },
    "tags": []
   },
   "outputs": [],
   "source": [
    "from sklearn import metrics"
   ]
  },
  {
   "cell_type": "code",
   "execution_count": 15,
   "id": "e3d993a4",
   "metadata": {
    "execution": {
     "iopub.execute_input": "2022-07-08T06:49:45.585432Z",
     "iopub.status.busy": "2022-07-08T06:49:45.585132Z",
     "iopub.status.idle": "2022-07-08T06:49:47.138247Z",
     "shell.execute_reply": "2022-07-08T06:49:47.136825Z"
    },
    "papermill": {
     "duration": 1.562655,
     "end_time": "2022-07-08T06:49:47.140620",
     "exception": false,
     "start_time": "2022-07-08T06:49:45.577965",
     "status": "completed"
    },
    "tags": []
   },
   "outputs": [
    {
     "data": {
      "image/png": "[encoded data removed]",
      "text/plain": [
       "<Figure size 1152x576 with 10 Axes>"
      ]
     },
     "metadata": {
      "needs_background": "light"
     },
     "output_type": "display_data"
    }
   ],
   "source": [
    "def plot_roc_curves(y, y_pred_probs):\n",
    "    # based on example code\n",
    "    # https://scikit-learn.org/stable/auto_examples/model_selection/plot_roc.html\n",
    "\n",
    "    fig, axs = plt.subplots(nrows=2, ncols=5, figsize=(16, 8))\n",
    "\n",
    "    roc_auc_dict = {}\n",
    "\n",
    "    for (r, c), digit, ax in zip(\n",
    "        it.product(range(2), range(5)), range(10), axs.reshape(-1)\n",
    "    ):\n",
    "        fpr, tpr, _ = metrics.roc_curve(y == digit, y_pred_probs[:, digit])\n",
    "        auc = metrics.auc(fpr, tpr)\n",
    "        roc_auc_dict[str(digit)] = auc\n",
    "\n",
    "        ax.plot(fpr, tpr, label=f\"ROC AUC={round(auc, 3)}\")\n",
    "\n",
    "        ax.set_title(f\"\\nDigit {digit}\", fontsize=16)\n",
    "        if r == 1:\n",
    "            ax.set_xlabel(\"FPR\", fontsize=18)\n",
    "\n",
    "        if c == 0:\n",
    "            ax.set_ylabel(\"TPR\", fontsize=18)\n",
    "\n",
    "        ax.set_xlim([-0.05, 1.05])\n",
    "        ax.set_ylim([-0.05, 1.05])\n",
    "        ax.legend(loc=\"lower right\", frameon=False, fontsize=14)\n",
    "\n",
    "    fig.tight_layout()\n",
    "    fig.suptitle(\n",
    "        f\"ROC plots for one-vs-rest performances \"\n",
    "        f\"(on evaluation data, n={y_pred_probs_test.shape[1]}\",\n",
    "        fontsize=22,\n",
    "    )\n",
    "    fig.tight_layout()\n",
    "    fig.show()\n",
    "\n",
    "    return roc_auc_dict, fig\n",
    "\n",
    "\n",
    "roc_auc_dict, fig = plot_roc_curves(y_test, y_pred_probs_test)"
   ]
  },
  {
   "cell_type": "code",
   "execution_count": 16,
   "id": "8db3cc29",
   "metadata": {
    "execution": {
     "iopub.execute_input": "2022-07-08T06:49:47.155724Z",
     "iopub.status.busy": "2022-07-08T06:49:47.155421Z",
     "iopub.status.idle": "2022-07-08T06:49:47.460103Z",
     "shell.execute_reply": "2022-07-08T06:49:47.459278Z"
    },
    "papermill": {
     "duration": 0.314531,
     "end_time": "2022-07-08T06:49:47.462360",
     "exception": false,
     "start_time": "2022-07-08T06:49:47.147829",
     "status": "completed"
    },
    "tags": []
   },
   "outputs": [],
   "source": [
    "logger.log_figure(\"per-digit-roc-curves.png\", fig)"
   ]
  },
  {
   "cell_type": "code",
   "execution_count": 17,
   "id": "b1eb3265",
   "metadata": {
    "execution": {
     "iopub.execute_input": "2022-07-08T06:49:47.478767Z",
     "iopub.status.busy": "2022-07-08T06:49:47.478480Z",
     "iopub.status.idle": "2022-07-08T06:49:47.490038Z",
     "shell.execute_reply": "2022-07-08T06:49:47.488785Z"
    },
    "papermill": {
     "duration": 0.023864,
     "end_time": "2022-07-08T06:49:47.494476",
     "exception": false,
     "start_time": "2022-07-08T06:49:47.470612",
     "status": "completed"
    },
    "tags": []
   },
   "outputs": [
    {
     "data": {
      "text/plain": [
       "{'0': 1.0,\n",
       " '1': 0.9988378631677601,\n",
       " '2': 1.0,\n",
       " '3': 0.9998125585754452,\n",
       " '4': 0.9993903368388966,\n",
       " '5': 0.99883786316776,\n",
       " '6': 0.999961896052431,\n",
       " '7': 0.9998856881572931,\n",
       " '8': 0.9929854981084489,\n",
       " '9': 0.9993903368388964}"
      ]
     },
     "execution_count": 17,
     "metadata": {},
     "output_type": "execute_result"
    }
   ],
   "source": [
    "roc_auc_dict"
   ]
  },
  {
   "cell_type": "code",
   "execution_count": 18,
   "id": "22fb230f",
   "metadata": {
    "execution": {
     "iopub.execute_input": "2022-07-08T06:49:47.511099Z",
     "iopub.status.busy": "2022-07-08T06:49:47.510833Z",
     "iopub.status.idle": "2022-07-08T06:49:47.516461Z",
     "shell.execute_reply": "2022-07-08T06:49:47.515363Z"
    },
    "papermill": {
     "duration": 0.01706,
     "end_time": "2022-07-08T06:49:47.519687",
     "exception": false,
     "start_time": "2022-07-08T06:49:47.502627",
     "status": "completed"
    },
    "tags": []
   },
   "outputs": [
    {
     "name": "stdout",
     "output_type": "stream",
     "text": [
      " - Logging roc_auc_per_digit (json) : {'0': 1.0, '1': 0.9988378631677601, '2': 1.0, '3': 0.9998125585754452, '4': 0.9993903368388966, '5': 0.99883786316776, '6': 0.999961896052431, '7': 0.9998856881572931, '8': 0.9929854981084489, '9': 0.9993903368388964}\n"
     ]
    }
   ],
   "source": [
    "logger.log_value(\"roc_auc_per_digit\", roc_auc_dict)"
   ]
  },
  {
   "cell_type": "markdown",
   "id": "2d4d95d0",
   "metadata": {
    "papermill": {
     "duration": 0.008174,
     "end_time": "2022-07-08T06:49:47.534444",
     "exception": false,
     "start_time": "2022-07-08T06:49:47.526270",
     "status": "completed"
    },
    "tags": []
   },
   "source": [
    "### Compute and log mean ROC AUC score averaged over all digits"
   ]
  },
  {
   "cell_type": "code",
   "execution_count": 19,
   "id": "fe2b0b5a",
   "metadata": {
    "execution": {
     "iopub.execute_input": "2022-07-08T06:49:47.550663Z",
     "iopub.status.busy": "2022-07-08T06:49:47.550363Z",
     "iopub.status.idle": "2022-07-08T06:49:47.568787Z",
     "shell.execute_reply": "2022-07-08T06:49:47.567627Z"
    },
    "papermill": {
     "duration": 0.029007,
     "end_time": "2022-07-08T06:49:47.570804",
     "exception": false,
     "start_time": "2022-07-08T06:49:47.541797",
     "status": "completed"
    },
    "tags": []
   },
   "outputs": [
    {
     "name": "stdout",
     "output_type": "stream",
     "text": [
      " - Logging roc_auc_class_mean (float) : 0.9989102040906932\n"
     ]
    }
   ],
   "source": [
    "roc_auc_macro = np.mean(list(roc_auc_dict.values()))\n",
    "\n",
    "logger.log_float(\"roc_auc_class_mean\", roc_auc_macro)\n",
    "\n",
    "# assert that the same value can be computed directly using sklearn\n",
    "assert roc_auc_macro == metrics.roc_auc_score(\n",
    "    y_test, y_pred_probs_test, average=\"macro\", multi_class=\"ovr\"\n",
    ")"
   ]
  },
  {
   "cell_type": "code",
   "execution_count": 20,
   "id": "c5a08b05",
   "metadata": {
    "execution": {
     "iopub.execute_input": "2022-07-08T06:49:47.586648Z",
     "iopub.status.busy": "2022-07-08T06:49:47.586216Z",
     "iopub.status.idle": "2022-07-08T06:49:47.593702Z",
     "shell.execute_reply": "2022-07-08T06:49:47.592837Z"
    },
    "lines_to_next_cell": 0,
    "papermill": {
     "duration": 0.018723,
     "end_time": "2022-07-08T06:49:47.597079",
     "exception": false,
     "start_time": "2022-07-08T06:49:47.578356",
     "status": "completed"
    },
    "tags": []
   },
   "outputs": [],
   "source": [
    "# ---"
   ]
  },
  {
   "cell_type": "code",
   "execution_count": null,
   "id": "6e687fb2",
   "metadata": {
    "papermill": {
     "duration": 0.007644,
     "end_time": "2022-07-08T06:49:47.612422",
     "exception": false,
     "start_time": "2022-07-08T06:49:47.604778",
     "status": "completed"
    },
    "tags": []
   },
   "outputs": [],
   "source": []
  }
 ],
 "metadata": {
  "jupytext": {
   "cell_metadata_filter": "tags,-all",
   "main_language": "python",
   "notebook_metadata_filter": "-all"
  },
  "language_info": {
   "codemirror_mode": {
    "name": "ipython",
    "version": 3
   },
   "file_extension": ".py",
   "mimetype": "text/x-python",
   "name": "python",
   "nbconvert_exporter": "python",
   "pygments_lexer": "ipython3",
   "version": "3.8.10"
  },
  "papermill": {
   "default_parameters": {},
   "duration": 13.322394,
   "end_time": "2022-07-08T06:49:49.252429",
   "environment_variables": {},
   "exception": null,
   "input_path": "/home/host_user/workspace/mnist-demo-pipeline/mnist-demo-pipeline/notebooks/temp-notebook-6wyguitl.ipynb",
   "output_path": "notebooks/benchmark-model.ipynb",
   "parameters": {
    "P": {
     "_opentelemetry_traceparent": "00-62cc40efdfab9a316a46122f0e2f0cbb-c7c49135268d4dbb-01",
     "pipeline.data_lake_root": "/pipeline-outputs/data-lake",
     "pipeline.github.actor": "matiasdahl",
     "pipeline.github.base_ref": "",
     "pipeline.github.event_name": "schedule",
     "pipeline.github.head_ref": "",
     "pipeline.github.job": "run-tests-pipeline-and-persist-pipeline-outputs",
     "pipeline.github.ref": "refs/heads/development",
     "pipeline.github.ref_name": "development",
     "pipeline.github.ref_type": "branch",
     "pipeline.github.repository": "pynb-dag-runner/mnist-digits-demo-pipeline",
     "pipeline.github.run_id": "2634377975",
     "pipeline.github.runner_name": "Hosted Agent",
     "pipeline.github.sha": "147a1be9916173fd4d2cd011d8d51e3411215850",
     "pipeline.github.workflow": "Run automated tests, pipeline and deploy results to static reporting site",
     "pipeline.pipeline_run_id": "2a4fe300-47ae-44e1-b3e9-09f0192b9a3f",
     "pipeline.run_environment": "ci",
     "run.retry_nr": "0",
     "task.max_nr_retries": "1",
     "task.notebook": "notebooks/benchmark-model.py",
     "task.nr_train_images": 800,
     "task.num_cpus": 1,
     "task.timeout_s": "None"
    }
   },
   "start_time": "2022-07-08T06:49:35.930035",
   "version": "2.3.3"
  }
 },
 "nbformat": 4,
 "nbformat_minor": 5
}