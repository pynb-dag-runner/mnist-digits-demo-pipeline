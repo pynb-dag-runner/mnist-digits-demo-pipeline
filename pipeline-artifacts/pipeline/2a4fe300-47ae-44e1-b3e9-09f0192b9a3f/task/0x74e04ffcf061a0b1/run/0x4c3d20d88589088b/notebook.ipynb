{
 "cells": [
  {
   "cell_type": "markdown",
   "id": "be5679ba",
   "metadata": {
    "papermill": {
     "duration": 0.006405,
     "end_time": "2022-07-08T06:49:52.592484",
     "exception": false,
     "start_time": "2022-07-08T06:49:52.586079",
     "status": "completed"
    },
    "tags": []
   },
   "source": [
    "# Benchmark model\n",
    "\n",
    "The purpose of this notebook is to benchmark persisted onnx-model (trained in the\n",
    "previous step) against evaluation set."
   ]
  },
  {
   "cell_type": "markdown",
   "id": "a9c8c26e",
   "metadata": {
    "papermill": {
     "duration": 0.004765,
     "end_time": "2022-07-08T06:49:52.603233",
     "exception": false,
     "start_time": "2022-07-08T06:49:52.598468",
     "status": "completed"
    },
    "tags": []
   },
   "source": [
    "### Determine run parameters"
   ]
  },
  {
   "cell_type": "code",
   "execution_count": 1,
   "id": "6e3a2c92",
   "metadata": {
    "execution": {
     "iopub.execute_input": "2022-07-08T06:49:52.616826Z",
     "iopub.status.busy": "2022-07-08T06:49:52.615670Z",
     "iopub.status.idle": "2022-07-08T06:49:52.625089Z",
     "shell.execute_reply": "2022-07-08T06:49:52.624276Z"
    },
    "lines_to_next_cell": 0,
    "papermill": {
     "duration": 0.018115,
     "end_time": "2022-07-08T06:49:52.627408",
     "exception": false,
     "start_time": "2022-07-08T06:49:52.609293",
     "status": "completed"
    },
    "tags": []
   },
   "outputs": [],
   "source": [
    "# ----------------- Parameters for interactive development --------------\n",
    "P = {\n",
    "    \"pipeline.data_lake_root\": \"/pipeline-outputs/data-lake\",\n",
    "    \"task.nr_train_images\": 600,\n",
    "}"
   ]
  },
  {
   "cell_type": "code",
   "execution_count": 2,
   "id": "ce3cc9ac",
   "metadata": {
    "execution": {
     "iopub.execute_input": "2022-07-08T06:49:52.638954Z",
     "iopub.status.busy": "2022-07-08T06:49:52.638700Z",
     "iopub.status.idle": "2022-07-08T06:49:52.643142Z",
     "shell.execute_reply": "2022-07-08T06:49:52.642069Z"
    },
    "lines_to_next_cell": 0,
    "papermill": {
     "duration": 0.012941,
     "end_time": "2022-07-08T06:49:52.645688",
     "exception": false,
     "start_time": "2022-07-08T06:49:52.632747",
     "status": "completed"
    },
    "tags": [
     "parameters"
    ]
   },
   "outputs": [],
   "source": [
    "# - During automated runs parameters will be injected in the below cell -"
   ]
  },
  {
   "cell_type": "code",
   "execution_count": 3,
   "id": "564a0477",
   "metadata": {
    "execution": {
     "iopub.execute_input": "2022-07-08T06:49:52.656361Z",
     "iopub.status.busy": "2022-07-08T06:49:52.655958Z",
     "iopub.status.idle": "2022-07-08T06:49:52.662875Z",
     "shell.execute_reply": "2022-07-08T06:49:52.662104Z"
    },
    "papermill": {
     "duration": 0.014169,
     "end_time": "2022-07-08T06:49:52.664700",
     "exception": false,
     "start_time": "2022-07-08T06:49:52.650531",
     "status": "completed"
    },
    "tags": [
     "injected-parameters"
    ]
   },
   "outputs": [],
   "source": [
    "# Parameters\n",
    "P = {\n",
    "    \"pipeline.data_lake_root\": \"/pipeline-outputs/data-lake\",\n",
    "    \"pipeline.run_environment\": \"ci\",\n",
    "    \"pipeline.pipeline_run_id\": \"2a4fe300-47ae-44e1-b3e9-09f0192b9a3f\",\n",
    "    \"pipeline.github.repository\": \"pynb-dag-runner/mnist-digits-demo-pipeline\",\n",
    "    \"pipeline.github.workflow\": \"Run automated tests, pipeline and deploy results to static reporting site\",\n",
    "    \"pipeline.github.runner_name\": \"Hosted Agent\",\n",
    "    \"pipeline.github.run_id\": \"2634377975\",\n",
    "    \"pipeline.github.actor\": \"matiasdahl\",\n",
    "    \"pipeline.github.job\": \"run-tests-pipeline-and-persist-pipeline-outputs\",\n",
    "    \"pipeline.github.base_ref\": \"\",\n",
    "    \"pipeline.github.head_ref\": \"\",\n",
    "    \"pipeline.github.sha\": \"147a1be9916173fd4d2cd011d8d51e3411215850\",\n",
    "    \"pipeline.github.ref\": \"refs/heads/development\",\n",
    "    \"pipeline.github.ref_type\": \"branch\",\n",
    "    \"pipeline.github.ref_name\": \"development\",\n",
    "    \"pipeline.github.event_name\": \"schedule\",\n",
    "    \"task.nr_train_images\": 1200,\n",
    "    \"task.notebook\": \"notebooks/benchmark-model.py\",\n",
    "    \"task.max_nr_retries\": \"1\",\n",
    "    \"run.retry_nr\": \"0\",\n",
    "    \"task.timeout_s\": \"None\",\n",
    "    \"task.num_cpus\": 1,\n",
    "    \"_opentelemetry_traceparent\": \"00-62cc40efdfab9a316a46122f0e2f0cbb-d517be94ddf0a659-01\",\n",
    "}\n"
   ]
  },
  {
   "cell_type": "code",
   "execution_count": 4,
   "id": "9ad2174f",
   "metadata": {
    "execution": {
     "iopub.execute_input": "2022-07-08T06:49:52.676259Z",
     "iopub.status.busy": "2022-07-08T06:49:52.675312Z",
     "iopub.status.idle": "2022-07-08T06:49:52.679527Z",
     "shell.execute_reply": "2022-07-08T06:49:52.678562Z"
    },
    "lines_to_next_cell": 0,
    "papermill": {
     "duration": 0.012417,
     "end_time": "2022-07-08T06:49:52.681661",
     "exception": false,
     "start_time": "2022-07-08T06:49:52.669244",
     "status": "completed"
    },
    "tags": []
   },
   "outputs": [],
   "source": [
    "# -----------------------------------------------------------------------"
   ]
  },
  {
   "cell_type": "markdown",
   "id": "271e5641",
   "metadata": {
    "papermill": {
     "duration": 0.005106,
     "end_time": "2022-07-08T06:49:52.693088",
     "exception": false,
     "start_time": "2022-07-08T06:49:52.687982",
     "status": "completed"
    },
    "tags": []
   },
   "source": [
    "---"
   ]
  },
  {
   "cell_type": "markdown",
   "id": "bbc8eec4",
   "metadata": {
    "lines_to_next_cell": 2,
    "papermill": {
     "duration": 0.005087,
     "end_time": "2022-07-08T06:49:52.702895",
     "exception": false,
     "start_time": "2022-07-08T06:49:52.697808",
     "status": "completed"
    },
    "tags": []
   },
   "source": [
    "### Notebook code"
   ]
  },
  {
   "cell_type": "code",
   "execution_count": 5,
   "id": "ed61cb1c",
   "metadata": {
    "execution": {
     "iopub.execute_input": "2022-07-08T06:49:52.714952Z",
     "iopub.status.busy": "2022-07-08T06:49:52.714382Z",
     "iopub.status.idle": "2022-07-08T06:49:54.089660Z",
     "shell.execute_reply": "2022-07-08T06:49:54.088307Z"
    },
    "papermill": {
     "duration": 1.383401,
     "end_time": "2022-07-08T06:49:54.092071",
     "exception": false,
     "start_time": "2022-07-08T06:49:52.708670",
     "status": "completed"
    },
    "tags": []
   },
   "outputs": [
    {
     "name": "stderr",
     "output_type": "stream",
     "text": [
      "2022-07-08 06:49:53,888\tINFO worker.py:842 -- Connecting to existing Ray cluster at address: 172.17.0.2:6379\n"
     ]
    }
   ],
   "source": [
    "import itertools as it\n",
    "\n",
    "#\n",
    "import numpy as np\n",
    "import matplotlib.pyplot as plt\n",
    "\n",
    "#\n",
    "from pynb_dag_runner.tasks.task_opentelemetry_logging import PydarLogger\n",
    "\n",
    "#\n",
    "from common.io import datalake_root\n",
    "\n",
    "logger = PydarLogger(P)"
   ]
  },
  {
   "cell_type": "markdown",
   "id": "954cc2f1",
   "metadata": {
    "papermill": {
     "duration": 0.004808,
     "end_time": "2022-07-08T06:49:54.102402",
     "exception": false,
     "start_time": "2022-07-08T06:49:54.097594",
     "status": "completed"
    },
    "tags": []
   },
   "source": [
    "## Load persisted onnx-model and evaluation data"
   ]
  },
  {
   "cell_type": "code",
   "execution_count": 6,
   "id": "59cf1ccc",
   "metadata": {
    "execution": {
     "iopub.execute_input": "2022-07-08T06:49:54.113896Z",
     "iopub.status.busy": "2022-07-08T06:49:54.113512Z",
     "iopub.status.idle": "2022-07-08T06:49:54.119692Z",
     "shell.execute_reply": "2022-07-08T06:49:54.118860Z"
    },
    "papermill": {
     "duration": 0.015129,
     "end_time": "2022-07-08T06:49:54.122837",
     "exception": false,
     "start_time": "2022-07-08T06:49:54.107708",
     "status": "completed"
    },
    "tags": []
   },
   "outputs": [],
   "source": [
    "from common.io import read_onnx, get_onnx_inputs, get_onnx_outputs, read_numpy"
   ]
  },
  {
   "cell_type": "code",
   "execution_count": 7,
   "id": "5999e9f3",
   "metadata": {
    "execution": {
     "iopub.execute_input": "2022-07-08T06:49:54.135139Z",
     "iopub.status.busy": "2022-07-08T06:49:54.134861Z",
     "iopub.status.idle": "2022-07-08T06:49:54.147463Z",
     "shell.execute_reply": "2022-07-08T06:49:54.146786Z"
    },
    "lines_to_next_cell": 0,
    "papermill": {
     "duration": 0.020887,
     "end_time": "2022-07-08T06:49:54.149851",
     "exception": false,
     "start_time": "2022-07-08T06:49:54.128964",
     "status": "completed"
    },
    "tags": []
   },
   "outputs": [],
   "source": [
    "onnx_inference_session = read_onnx(\n",
    "    datalake_root(P)\n",
    "    / \"models\"\n",
    "    / f\"nr_train_images={P['task.nr_train_images']}\"\n",
    "    / \"model.onnx\"\n",
    ")"
   ]
  },
  {
   "cell_type": "markdown",
   "id": "693f5881",
   "metadata": {
    "papermill": {
     "duration": 0.005199,
     "end_time": "2022-07-08T06:49:54.159846",
     "exception": false,
     "start_time": "2022-07-08T06:49:54.154647",
     "status": "completed"
    },
    "tags": []
   },
   "source": [
    "### Record structure of inputs and outputs for ONNX model\n",
    "\n",
    "(this should likely be done in training notebook)"
   ]
  },
  {
   "cell_type": "code",
   "execution_count": 8,
   "id": "32cbcf66",
   "metadata": {
    "execution": {
     "iopub.execute_input": "2022-07-08T06:49:54.171348Z",
     "iopub.status.busy": "2022-07-08T06:49:54.171029Z",
     "iopub.status.idle": "2022-07-08T06:49:54.186729Z",
     "shell.execute_reply": "2022-07-08T06:49:54.185578Z"
    },
    "papermill": {
     "duration": 0.024766,
     "end_time": "2022-07-08T06:49:54.189362",
     "exception": false,
     "start_time": "2022-07-08T06:49:54.164596",
     "status": "completed"
    },
    "tags": []
   },
   "outputs": [
    {
     "name": "stdout",
     "output_type": "stream",
     "text": [
      "{\n",
      "  \"inputs\": [\n",
      "    {\n",
      "      \"name\": \"float_input_8x8_image\",\n",
      "      \"shape\": [\n",
      "        null,\n",
      "        64\n",
      "      ],\n",
      "      \"type\": \"tensor(float)\"\n",
      "    }\n",
      "  ],\n",
      "  \"outputs\": [\n",
      "    {\n",
      "      \"name\": \"output_label\",\n",
      "      \"shape\": [\n",
      "        null\n",
      "      ],\n",
      "      \"type\": \"tensor(int64)\"\n",
      "    },\n",
      "    {\n",
      "      \"name\": \"output_probability\",\n",
      "      \"shape\": [],\n",
      "      \"type\": \"seq(map(int64,tensor(float)))\"\n",
      "    }\n",
      "  ]\n",
      "}\n"
     ]
    }
   ],
   "source": [
    "import json\n",
    "\n",
    "onnx_io = json.dumps(\n",
    "    {\n",
    "        \"inputs\": get_onnx_inputs(onnx_inference_session),\n",
    "        \"outputs\": get_onnx_outputs(onnx_inference_session),\n",
    "    },\n",
    "    indent=2,\n",
    ")\n",
    "\n",
    "\n",
    "logger.log_artefact(\"onnx_io_structure.json\", onnx_io)\n",
    "print(onnx_io)"
   ]
  },
  {
   "cell_type": "markdown",
   "id": "8642c229",
   "metadata": {
    "papermill": {
     "duration": 0.005647,
     "end_time": "2022-07-08T06:49:54.199893",
     "exception": false,
     "start_time": "2022-07-08T06:49:54.194246",
     "status": "completed"
    },
    "tags": []
   },
   "source": [
    "### Evaluate model performance on evaluation data set"
   ]
  },
  {
   "cell_type": "code",
   "execution_count": 9,
   "id": "c96fa4bf",
   "metadata": {
    "execution": {
     "iopub.execute_input": "2022-07-08T06:49:54.212615Z",
     "iopub.status.busy": "2022-07-08T06:49:54.212365Z",
     "iopub.status.idle": "2022-07-08T06:49:54.217468Z",
     "shell.execute_reply": "2022-07-08T06:49:54.216583Z"
    },
    "papermill": {
     "duration": 0.01446,
     "end_time": "2022-07-08T06:49:54.220917",
     "exception": false,
     "start_time": "2022-07-08T06:49:54.206457",
     "status": "completed"
    },
    "tags": []
   },
   "outputs": [],
   "source": [
    "# load evaluation data\n",
    "X_test = read_numpy(datalake_root(P) / \"test-data\" / \"digits.numpy\")\n",
    "y_test = read_numpy(datalake_root(P) / \"test-data\" / \"labels.numpy\")"
   ]
  },
  {
   "cell_type": "code",
   "execution_count": 10,
   "id": "fa0c556a",
   "metadata": {
    "execution": {
     "iopub.execute_input": "2022-07-08T06:49:54.233750Z",
     "iopub.status.busy": "2022-07-08T06:49:54.233506Z",
     "iopub.status.idle": "2022-07-08T06:49:54.252028Z",
     "shell.execute_reply": "2022-07-08T06:49:54.251056Z"
    },
    "papermill": {
     "duration": 0.027889,
     "end_time": "2022-07-08T06:49:54.254309",
     "exception": false,
     "start_time": "2022-07-08T06:49:54.226420",
     "status": "completed"
    },
    "tags": []
   },
   "outputs": [],
   "source": [
    "def get_model_outputs(X, onnx_inference_session):\n",
    "    y_pred_labels, y_pred_map = onnx_inference_session.run(\n",
    "        [\"output_label\", \"output_probability\"],\n",
    "        {\"float_input_8x8_image\": X.astype(np.float32)},\n",
    "    )\n",
    "    y_pred_probs = np.array(\n",
    "        [[probabilities[digit] for digit in range(10)] for probabilities in y_pred_map]\n",
    "    )\n",
    "\n",
    "    assert y_pred_labels.shape == (X.shape[0],)\n",
    "    assert y_pred_probs.shape == (X.shape[0], 10)\n",
    "\n",
    "    return y_pred_labels, y_pred_probs\n",
    "\n",
    "\n",
    "# Note: as shown in the training notebook, the predicted labels and probabilities\n",
    "# computed below need not be compatible.\n",
    "y_pred_labels_test, y_pred_probs_test = get_model_outputs(\n",
    "    X_test, onnx_inference_session\n",
    ")"
   ]
  },
  {
   "cell_type": "markdown",
   "id": "70c6a000",
   "metadata": {
    "papermill": {
     "duration": 0.005587,
     "end_time": "2022-07-08T06:49:54.265063",
     "exception": false,
     "start_time": "2022-07-08T06:49:54.259476",
     "status": "completed"
    },
    "tags": []
   },
   "source": [
    "### Confusion matrix"
   ]
  },
  {
   "cell_type": "code",
   "execution_count": 11,
   "id": "0c64d9ce",
   "metadata": {
    "execution": {
     "iopub.execute_input": "2022-07-08T06:49:54.277003Z",
     "iopub.status.busy": "2022-07-08T06:49:54.276508Z",
     "iopub.status.idle": "2022-07-08T06:49:54.280322Z",
     "shell.execute_reply": "2022-07-08T06:49:54.279410Z"
    },
    "papermill": {
     "duration": 0.016935,
     "end_time": "2022-07-08T06:49:54.287692",
     "exception": false,
     "start_time": "2022-07-08T06:49:54.270757",
     "status": "completed"
    },
    "tags": []
   },
   "outputs": [],
   "source": [
    "# TODO"
   ]
  },
  {
   "cell_type": "markdown",
   "id": "24e0ca0c",
   "metadata": {
    "papermill": {
     "duration": 0.004798,
     "end_time": "2022-07-08T06:49:54.298227",
     "exception": false,
     "start_time": "2022-07-08T06:49:54.293429",
     "status": "completed"
    },
    "tags": []
   },
   "source": [
    "### Plot predicted probabilities for each classifier over all evaluation digit images"
   ]
  },
  {
   "cell_type": "code",
   "execution_count": 12,
   "id": "574e7108",
   "metadata": {
    "execution": {
     "iopub.execute_input": "2022-07-08T06:49:54.309694Z",
     "iopub.status.busy": "2022-07-08T06:49:54.309343Z",
     "iopub.status.idle": "2022-07-08T06:49:59.065566Z",
     "shell.execute_reply": "2022-07-08T06:49:59.064717Z"
    },
    "papermill": {
     "duration": 4.764674,
     "end_time": "2022-07-08T06:49:59.068047",
     "exception": false,
     "start_time": "2022-07-08T06:49:54.303373",
     "status": "completed"
    },
    "tags": []
   },
   "outputs": [
    {
     "data": {
      "image/png": "[encoded data removed]",
      "text/plain": [
       "<Figure size 1152x432 with 10 Axes>"
      ]
     },
     "metadata": {
      "needs_background": "light"
     },
     "output_type": "display_data"
    }
   ],
   "source": [
    "def plot_per_digit_probabilities(y_pred_probs):\n",
    "    fig, axs = plt.subplots(nrows=2, ncols=5, figsize=(16, 6))\n",
    "\n",
    "    for (r, c), digit, ax in zip(\n",
    "        it.product(range(2), range(5)), range(10), axs.reshape(-1)\n",
    "    ):\n",
    "        ax.hist(y_pred_probs_test[:, digit], bins=20)\n",
    "\n",
    "        ax.set_title(f\"Digit {digit}\")\n",
    "        if r == 1 and c == 2:\n",
    "            ax.set_xlabel(\"probability\", fontsize=16)\n",
    "\n",
    "        if c == 0:\n",
    "            ax.set_ylabel(\"counts\", fontsize=16)\n",
    "        ax.set_yscale(\"log\")\n",
    "\n",
    "    fig.tight_layout()\n",
    "    fig.suptitle(\n",
    "        f\"Distributions of prediction probabilities for each digit \"\n",
    "        f\"(on evaluation data, n={y_pred_probs.shape[0]})\",\n",
    "        fontsize=20,\n",
    "    )\n",
    "    fig.tight_layout()\n",
    "    fig.show()\n",
    "\n",
    "    return fig\n",
    "\n",
    "\n",
    "fig = plot_per_digit_probabilities(y_pred_probs_test)"
   ]
  },
  {
   "cell_type": "markdown",
   "id": "8cf89fc2",
   "metadata": {
    "papermill": {
     "duration": 0.006488,
     "end_time": "2022-07-08T06:49:59.082451",
     "exception": false,
     "start_time": "2022-07-08T06:49:59.075963",
     "status": "completed"
    },
    "tags": []
   },
   "source": [
    "From the above distributions we see that most digits have clear separation between\n",
    "high and lower probabilities. Morover, in each case there is roughly an order of\n",
    "magnitude more of digits with low probabilities. This is compatible with digits\n",
    "being roughly evenly distributed in the data."
   ]
  },
  {
   "cell_type": "code",
   "execution_count": 13,
   "id": "8d75d0d1",
   "metadata": {
    "execution": {
     "iopub.execute_input": "2022-07-08T06:49:59.098305Z",
     "iopub.status.busy": "2022-07-08T06:49:59.097719Z",
     "iopub.status.idle": "2022-07-08T06:49:59.825596Z",
     "shell.execute_reply": "2022-07-08T06:49:59.824767Z"
    },
    "papermill": {
     "duration": 0.739869,
     "end_time": "2022-07-08T06:49:59.828082",
     "exception": false,
     "start_time": "2022-07-08T06:49:59.088213",
     "status": "completed"
    },
    "tags": []
   },
   "outputs": [],
   "source": [
    "logger.log_figure(\"per-digit-probabilities.png\", fig)"
   ]
  },
  {
   "cell_type": "markdown",
   "id": "be2000ef",
   "metadata": {
    "papermill": {
     "duration": 0.005635,
     "end_time": "2022-07-08T06:49:59.840542",
     "exception": false,
     "start_time": "2022-07-08T06:49:59.834907",
     "status": "completed"
    },
    "tags": []
   },
   "source": [
    "### Plot ROC curves for individual one-vs-rest classifiers"
   ]
  },
  {
   "cell_type": "code",
   "execution_count": 14,
   "id": "773f1d9a",
   "metadata": {
    "execution": {
     "iopub.execute_input": "2022-07-08T06:49:59.855112Z",
     "iopub.status.busy": "2022-07-08T06:49:59.854810Z",
     "iopub.status.idle": "2022-07-08T06:50:00.387652Z",
     "shell.execute_reply": "2022-07-08T06:50:00.385906Z"
    },
    "papermill": {
     "duration": 0.542396,
     "end_time": "2022-07-08T06:50:00.389974",
     "exception": false,
     "start_time": "2022-07-08T06:49:59.847578",
     "status": "completed"
    },
    "tags": []
   },
   "outputs": [],
   "source": [
    "from sklearn import metrics"
   ]
  },
  {
   "cell_type": "code",
   "execution_count": 15,
   "id": "4ca556e7",
   "metadata": {
    "execution": {
     "iopub.execute_input": "2022-07-08T06:50:00.412749Z",
     "iopub.status.busy": "2022-07-08T06:50:00.412392Z",
     "iopub.status.idle": "2022-07-08T06:50:02.113829Z",
     "shell.execute_reply": "2022-07-08T06:50:02.112658Z"
    },
    "papermill": {
     "duration": 1.715985,
     "end_time": "2022-07-08T06:50:02.115718",
     "exception": false,
     "start_time": "2022-07-08T06:50:00.399733",
     "status": "completed"
    },
    "tags": []
   },
   "outputs": [
    {
     "data": {
      "image/png": "[encoded data removed]",
      "text/plain": [
       "<Figure size 1152x576 with 10 Axes>"
      ]
     },
     "metadata": {
      "needs_background": "light"
     },
     "output_type": "display_data"
    }
   ],
   "source": [
    "def plot_roc_curves(y, y_pred_probs):\n",
    "    # based on example code\n",
    "    # https://scikit-learn.org/stable/auto_examples/model_selection/plot_roc.html\n",
    "\n",
    "    fig, axs = plt.subplots(nrows=2, ncols=5, figsize=(16, 8))\n",
    "\n",
    "    roc_auc_dict = {}\n",
    "\n",
    "    for (r, c), digit, ax in zip(\n",
    "        it.product(range(2), range(5)), range(10), axs.reshape(-1)\n",
    "    ):\n",
    "        fpr, tpr, _ = metrics.roc_curve(y == digit, y_pred_probs[:, digit])\n",
    "        auc = metrics.auc(fpr, tpr)\n",
    "        roc_auc_dict[str(digit)] = auc\n",
    "\n",
    "        ax.plot(fpr, tpr, label=f\"ROC AUC={round(auc, 3)}\")\n",
    "\n",
    "        ax.set_title(f\"\\nDigit {digit}\", fontsize=16)\n",
    "        if r == 1:\n",
    "            ax.set_xlabel(\"FPR\", fontsize=18)\n",
    "\n",
    "        if c == 0:\n",
    "            ax.set_ylabel(\"TPR\", fontsize=18)\n",
    "\n",
    "        ax.set_xlim([-0.05, 1.05])\n",
    "        ax.set_ylim([-0.05, 1.05])\n",
    "        ax.legend(loc=\"lower right\", frameon=False, fontsize=14)\n",
    "\n",
    "    fig.tight_layout()\n",
    "    fig.suptitle(\n",
    "        f\"ROC plots for one-vs-rest performances \"\n",
    "        f\"(on evaluation data, n={y_pred_probs_test.shape[1]}\",\n",
    "        fontsize=22,\n",
    "    )\n",
    "    fig.tight_layout()\n",
    "    fig.show()\n",
    "\n",
    "    return roc_auc_dict, fig\n",
    "\n",
    "\n",
    "roc_auc_dict, fig = plot_roc_curves(y_test, y_pred_probs_test)"
   ]
  },
  {
   "cell_type": "code",
   "execution_count": 16,
   "id": "00e7623a",
   "metadata": {
    "execution": {
     "iopub.execute_input": "2022-07-08T06:50:02.133743Z",
     "iopub.status.busy": "2022-07-08T06:50:02.132997Z",
     "iopub.status.idle": "2022-07-08T06:50:02.452314Z",
     "shell.execute_reply": "2022-07-08T06:50:02.450534Z"
    },
    "papermill": {
     "duration": 0.32897,
     "end_time": "2022-07-08T06:50:02.454537",
     "exception": false,
     "start_time": "2022-07-08T06:50:02.125567",
     "status": "completed"
    },
    "tags": []
   },
   "outputs": [],
   "source": [
    "logger.log_figure(\"per-digit-roc-curves.png\", fig)"
   ]
  },
  {
   "cell_type": "code",
   "execution_count": 17,
   "id": "437a201f",
   "metadata": {
    "execution": {
     "iopub.execute_input": "2022-07-08T06:50:02.473663Z",
     "iopub.status.busy": "2022-07-08T06:50:02.473366Z",
     "iopub.status.idle": "2022-07-08T06:50:02.479945Z",
     "shell.execute_reply": "2022-07-08T06:50:02.479090Z"
    },
    "papermill": {
     "duration": 0.018645,
     "end_time": "2022-07-08T06:50:02.483821",
     "exception": false,
     "start_time": "2022-07-08T06:50:02.465176",
     "status": "completed"
    },
    "tags": []
   },
   "outputs": [
    {
     "data": {
      "text/plain": [
       "{'0': 1.0,\n",
       " '1': 0.9989503280224931,\n",
       " '2': 1.0,\n",
       " '3': 0.9998500468603562,\n",
       " '4': 0.9996951684194482,\n",
       " '5': 0.9997000937207123,\n",
       " '6': 0.999923792104862,\n",
       " '7': 0.9998475842097242,\n",
       " '8': 0.9957440100882724,\n",
       " '9': 0.9997713763145862}"
      ]
     },
     "execution_count": 17,
     "metadata": {},
     "output_type": "execute_result"
    }
   ],
   "source": [
    "roc_auc_dict"
   ]
  },
  {
   "cell_type": "code",
   "execution_count": 18,
   "id": "a0194c42",
   "metadata": {
    "execution": {
     "iopub.execute_input": "2022-07-08T06:50:02.499639Z",
     "iopub.status.busy": "2022-07-08T06:50:02.499284Z",
     "iopub.status.idle": "2022-07-08T06:50:02.504761Z",
     "shell.execute_reply": "2022-07-08T06:50:02.503911Z"
    },
    "papermill": {
     "duration": 0.017304,
     "end_time": "2022-07-08T06:50:02.508354",
     "exception": false,
     "start_time": "2022-07-08T06:50:02.491050",
     "status": "completed"
    },
    "tags": []
   },
   "outputs": [
    {
     "name": "stdout",
     "output_type": "stream",
     "text": [
      " - Logging roc_auc_per_digit (json) : {'0': 1.0, '1': 0.9989503280224931, '2': 1.0, '3': 0.9998500468603562, '4': 0.9996951684194482, '5': 0.9997000937207123, '6': 0.999923792104862, '7': 0.9998475842097242, '8': 0.9957440100882724, '9': 0.9997713763145862}\n"
     ]
    }
   ],
   "source": [
    "logger.log_value(\"roc_auc_per_digit\", roc_auc_dict)"
   ]
  },
  {
   "cell_type": "markdown",
   "id": "f449c905",
   "metadata": {
    "papermill": {
     "duration": 0.008626,
     "end_time": "2022-07-08T06:50:02.523905",
     "exception": false,
     "start_time": "2022-07-08T06:50:02.515279",
     "status": "completed"
    },
    "tags": []
   },
   "source": [
    "### Compute and log mean ROC AUC score averaged over all digits"
   ]
  },
  {
   "cell_type": "code",
   "execution_count": 19,
   "id": "5a437bc8",
   "metadata": {
    "execution": {
     "iopub.execute_input": "2022-07-08T06:50:02.545115Z",
     "iopub.status.busy": "2022-07-08T06:50:02.543740Z",
     "iopub.status.idle": "2022-07-08T06:50:02.562706Z",
     "shell.execute_reply": "2022-07-08T06:50:02.561816Z"
    },
    "papermill": {
     "duration": 0.029846,
     "end_time": "2022-07-08T06:50:02.565607",
     "exception": false,
     "start_time": "2022-07-08T06:50:02.535761",
     "status": "completed"
    },
    "tags": []
   },
   "outputs": [
    {
     "name": "stdout",
     "output_type": "stream",
     "text": [
      " - Logging roc_auc_class_mean (float) : 0.9993482399740454\n"
     ]
    }
   ],
   "source": [
    "roc_auc_macro = np.mean(list(roc_auc_dict.values()))\n",
    "\n",
    "logger.log_float(\"roc_auc_class_mean\", roc_auc_macro)\n",
    "\n",
    "# assert that the same value can be computed directly using sklearn\n",
    "assert roc_auc_macro == metrics.roc_auc_score(\n",
    "    y_test, y_pred_probs_test, average=\"macro\", multi_class=\"ovr\"\n",
    ")"
   ]
  },
  {
   "cell_type": "code",
   "execution_count": 20,
   "id": "bd06c703",
   "metadata": {
    "execution": {
     "iopub.execute_input": "2022-07-08T06:50:02.581649Z",
     "iopub.status.busy": "2022-07-08T06:50:02.581224Z",
     "iopub.status.idle": "2022-07-08T06:50:02.585677Z",
     "shell.execute_reply": "2022-07-08T06:50:02.584294Z"
    },
    "lines_to_next_cell": 0,
    "papermill": {
     "duration": 0.016046,
     "end_time": "2022-07-08T06:50:02.588501",
     "exception": false,
     "start_time": "2022-07-08T06:50:02.572455",
     "status": "completed"
    },
    "tags": []
   },
   "outputs": [],
   "source": [
    "# ---"
   ]
  },
  {
   "cell_type": "code",
   "execution_count": null,
   "id": "8b45996b",
   "metadata": {
    "papermill": {
     "duration": 0.006892,
     "end_time": "2022-07-08T06:50:02.602596",
     "exception": false,
     "start_time": "2022-07-08T06:50:02.595704",
     "status": "completed"
    },
    "tags": []
   },
   "outputs": [],
   "source": []
  }
 ],
 "metadata": {
  "jupytext": {
   "cell_metadata_filter": "tags,-all",
   "main_language": "python",
   "notebook_metadata_filter": "-all"
  },
  "language_info": {
   "codemirror_mode": {
    "name": "ipython",
    "version": 3
   },
   "file_extension": ".py",
   "mimetype": "text/x-python",
   "name": "python",
   "nbconvert_exporter": "python",
   "pygments_lexer": "ipython3",
   "version": "3.8.10"
  },
  "papermill": {
   "default_parameters": {},
   "duration": 12.954927,
   "end_time": "2022-07-08T06:50:03.831961",
   "environment_variables": {},
   "exception": null,
   "input_path": "/home/host_user/workspace/mnist-demo-pipeline/mnist-demo-pipeline/notebooks/temp-notebook-gmkimem_.ipynb",
   "output_path": "notebooks/benchmark-model.ipynb",
   "parameters": {
    "P": {
     "_opentelemetry_traceparent": "00-62cc40efdfab9a316a46122f0e2f0cbb-d517be94ddf0a659-01",
     "pipeline.data_lake_root": "/pipeline-outputs/data-lake",
     "pipeline.github.actor": "matiasdahl",
     "pipeline.github.base_ref": "",
     "pipeline.github.event_name": "schedule",
     "pipeline.github.head_ref": "",
     "pipeline.github.job": "run-tests-pipeline-and-persist-pipeline-outputs",
     "pipeline.github.ref": "refs/heads/development",
     "pipeline.github.ref_name": "development",
     "pipeline.github.ref_type": "branch",
     "pipeline.github.repository": "pynb-dag-runner/mnist-digits-demo-pipeline",
     "pipeline.github.run_id": "2634377975",
     "pipeline.github.runner_name": "Hosted Agent",
     "pipeline.github.sha": "147a1be9916173fd4d2cd011d8d51e3411215850",
     "pipeline.github.workflow": "Run automated tests, pipeline and deploy results to static reporting site",
     "pipeline.pipeline_run_id": "2a4fe300-47ae-44e1-b3e9-09f0192b9a3f",
     "pipeline.run_environment": "ci",
     "run.retry_nr": "0",
     "task.max_nr_retries": "1",
     "task.notebook": "notebooks/benchmark-model.py",
     "task.nr_train_images": 1200,
     "task.num_cpus": 1,
     "task.timeout_s": "None"
    }
   },
   "start_time": "2022-07-08T06:49:50.877034",
   "version": "2.3.3"
  }
 },
 "nbformat": 4,
 "nbformat_minor": 5
}