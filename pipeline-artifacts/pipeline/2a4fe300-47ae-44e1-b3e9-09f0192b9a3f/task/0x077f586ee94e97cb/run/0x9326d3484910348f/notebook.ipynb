{
 "cells": [
  {
   "cell_type": "markdown",
   "id": "7bc2dafa",
   "metadata": {
    "papermill": {
     "duration": 0.004583,
     "end_time": "2022-07-08T06:49:27.953614",
     "exception": false,
     "start_time": "2022-07-08T06:49:27.949031",
     "status": "completed"
    },
    "tags": []
   },
   "source": [
    "# Train model\n",
    "\n",
    "The purpose of this notebook is:\n",
    "\n",
    "- Load all training data (images and labels).\n",
    "- Limit number of train images to `task.nr_train_images` (value provided as run parameter).\n",
    "- Train a support vector machine model using sklearn.\n",
    "- Persist the trained model using the ONNX format."
   ]
  },
  {
   "cell_type": "markdown",
   "id": "328cef37",
   "metadata": {
    "papermill": {
     "duration": 0.003259,
     "end_time": "2022-07-08T06:49:27.962577",
     "exception": false,
     "start_time": "2022-07-08T06:49:27.959318",
     "status": "completed"
    },
    "tags": []
   },
   "source": [
    "### Determine run parameters"
   ]
  },
  {
   "cell_type": "code",
   "execution_count": 1,
   "id": "392fc408",
   "metadata": {
    "execution": {
     "iopub.execute_input": "2022-07-08T06:49:27.974040Z",
     "iopub.status.busy": "2022-07-08T06:49:27.973616Z",
     "iopub.status.idle": "2022-07-08T06:49:27.983371Z",
     "shell.execute_reply": "2022-07-08T06:49:27.982682Z"
    },
    "lines_to_next_cell": 0,
    "papermill": {
     "duration": 0.019107,
     "end_time": "2022-07-08T06:49:27.985504",
     "exception": false,
     "start_time": "2022-07-08T06:49:27.966397",
     "status": "completed"
    },
    "tags": []
   },
   "outputs": [],
   "source": [
    "# ----------------- Parameters for interactive development --------------\n",
    "P = {\n",
    "    \"pipeline.data_lake_root\": \"/pipeline-outputs/data-lake\",\n",
    "    \"task.nr_train_images\": 600,\n",
    "}"
   ]
  },
  {
   "cell_type": "code",
   "execution_count": 2,
   "id": "d07ccd7e",
   "metadata": {
    "execution": {
     "iopub.execute_input": "2022-07-08T06:49:27.993880Z",
     "iopub.status.busy": "2022-07-08T06:49:27.993395Z",
     "iopub.status.idle": "2022-07-08T06:49:27.997940Z",
     "shell.execute_reply": "2022-07-08T06:49:27.997275Z"
    },
    "lines_to_next_cell": 0,
    "papermill": {
     "duration": 0.010876,
     "end_time": "2022-07-08T06:49:27.999872",
     "exception": false,
     "start_time": "2022-07-08T06:49:27.988996",
     "status": "completed"
    },
    "tags": [
     "parameters"
    ]
   },
   "outputs": [],
   "source": [
    "# - During automated runs parameters will be injected in the below cell -"
   ]
  },
  {
   "cell_type": "code",
   "execution_count": 3,
   "id": "4602651d",
   "metadata": {
    "execution": {
     "iopub.execute_input": "2022-07-08T06:49:28.007298Z",
     "iopub.status.busy": "2022-07-08T06:49:28.007033Z",
     "iopub.status.idle": "2022-07-08T06:49:28.012370Z",
     "shell.execute_reply": "2022-07-08T06:49:28.011663Z"
    },
    "papermill": {
     "duration": 0.012546,
     "end_time": "2022-07-08T06:49:28.015589",
     "exception": false,
     "start_time": "2022-07-08T06:49:28.003043",
     "status": "completed"
    },
    "tags": [
     "injected-parameters"
    ]
   },
   "outputs": [],
   "source": [
    "# Parameters\n",
    "P = {\n",
    "    \"pipeline.data_lake_root\": \"/pipeline-outputs/data-lake\",\n",
    "    \"pipeline.run_environment\": \"ci\",\n",
    "    \"pipeline.pipeline_run_id\": \"2a4fe300-47ae-44e1-b3e9-09f0192b9a3f\",\n",
    "    \"pipeline.github.repository\": \"pynb-dag-runner/mnist-digits-demo-pipeline\",\n",
    "    \"pipeline.github.workflow\": \"Run automated tests, pipeline and deploy results to static reporting site\",\n",
    "    \"pipeline.github.runner_name\": \"Hosted Agent\",\n",
    "    \"pipeline.github.run_id\": \"2634377975\",\n",
    "    \"pipeline.github.actor\": \"matiasdahl\",\n",
    "    \"pipeline.github.job\": \"run-tests-pipeline-and-persist-pipeline-outputs\",\n",
    "    \"pipeline.github.base_ref\": \"\",\n",
    "    \"pipeline.github.head_ref\": \"\",\n",
    "    \"pipeline.github.sha\": \"147a1be9916173fd4d2cd011d8d51e3411215850\",\n",
    "    \"pipeline.github.ref\": \"refs/heads/development\",\n",
    "    \"pipeline.github.ref_type\": \"branch\",\n",
    "    \"pipeline.github.ref_name\": \"development\",\n",
    "    \"pipeline.github.event_name\": \"schedule\",\n",
    "    \"task.nr_train_images\": 600,\n",
    "    \"task.notebook\": \"notebooks/train-model.py\",\n",
    "    \"task.max_nr_retries\": \"1\",\n",
    "    \"run.retry_nr\": \"0\",\n",
    "    \"task.timeout_s\": \"None\",\n",
    "    \"task.num_cpus\": 1,\n",
    "    \"_opentelemetry_traceparent\": \"00-62cc40efdfab9a316a46122f0e2f0cbb-d7c3534f20741334-01\",\n",
    "}\n"
   ]
  },
  {
   "cell_type": "code",
   "execution_count": 4,
   "id": "e2965902",
   "metadata": {
    "execution": {
     "iopub.execute_input": "2022-07-08T06:49:28.023167Z",
     "iopub.status.busy": "2022-07-08T06:49:28.022912Z",
     "iopub.status.idle": "2022-07-08T06:49:28.026178Z",
     "shell.execute_reply": "2022-07-08T06:49:28.025469Z"
    },
    "lines_to_next_cell": 0,
    "papermill": {
     "duration": 0.010356,
     "end_time": "2022-07-08T06:49:28.029262",
     "exception": false,
     "start_time": "2022-07-08T06:49:28.018906",
     "status": "completed"
    },
    "tags": []
   },
   "outputs": [],
   "source": [
    "# -----------------------------------------------------------------------"
   ]
  },
  {
   "cell_type": "markdown",
   "id": "1d246a5f",
   "metadata": {
    "papermill": {
     "duration": 0.003345,
     "end_time": "2022-07-08T06:49:28.035770",
     "exception": false,
     "start_time": "2022-07-08T06:49:28.032425",
     "status": "completed"
    },
    "tags": []
   },
   "source": [
    "---"
   ]
  },
  {
   "cell_type": "markdown",
   "id": "b4496f1c",
   "metadata": {
    "lines_to_next_cell": 2,
    "papermill": {
     "duration": 0.003147,
     "end_time": "2022-07-08T06:49:28.042164",
     "exception": false,
     "start_time": "2022-07-08T06:49:28.039017",
     "status": "completed"
    },
    "tags": []
   },
   "source": [
    "### Notebook code"
   ]
  },
  {
   "cell_type": "code",
   "execution_count": 5,
   "id": "050edbf5",
   "metadata": {
    "execution": {
     "iopub.execute_input": "2022-07-08T06:49:28.049813Z",
     "iopub.status.busy": "2022-07-08T06:49:28.049572Z",
     "iopub.status.idle": "2022-07-08T06:49:28.597826Z",
     "shell.execute_reply": "2022-07-08T06:49:28.596976Z"
    },
    "papermill": {
     "duration": 0.555766,
     "end_time": "2022-07-08T06:49:28.601060",
     "exception": false,
     "start_time": "2022-07-08T06:49:28.045294",
     "status": "completed"
    },
    "tags": []
   },
   "outputs": [
    {
     "name": "stderr",
     "output_type": "stream",
     "text": [
      "2022-07-08 06:49:28,414\tINFO worker.py:842 -- Connecting to existing Ray cluster at address: 172.17.0.2:6379\n"
     ]
    }
   ],
   "source": [
    "from pynb_dag_runner.tasks.task_opentelemetry_logging import PydarLogger\n",
    "\n",
    "logger = PydarLogger(P)"
   ]
  },
  {
   "cell_type": "markdown",
   "id": "7f3fd019",
   "metadata": {
    "papermill": {
     "duration": 0.004546,
     "end_time": "2022-07-08T06:49:28.609989",
     "exception": false,
     "start_time": "2022-07-08T06:49:28.605443",
     "status": "completed"
    },
    "tags": []
   },
   "source": [
    "## Load and limit train data"
   ]
  },
  {
   "cell_type": "code",
   "execution_count": 6,
   "id": "0441962a",
   "metadata": {
    "execution": {
     "iopub.execute_input": "2022-07-08T06:49:28.620026Z",
     "iopub.status.busy": "2022-07-08T06:49:28.619575Z",
     "iopub.status.idle": "2022-07-08T06:49:29.193999Z",
     "shell.execute_reply": "2022-07-08T06:49:29.192817Z"
    },
    "papermill": {
     "duration": 0.582479,
     "end_time": "2022-07-08T06:49:29.196803",
     "exception": false,
     "start_time": "2022-07-08T06:49:28.614324",
     "status": "completed"
    },
    "tags": []
   },
   "outputs": [],
   "source": [
    "def load_and_limit_train_data(P):\n",
    "    from common.io import datalake_root, read_numpy\n",
    "    from sklearn.model_selection import train_test_split\n",
    "\n",
    "    X_train_all = read_numpy(datalake_root(P) / \"train-data\" / \"digits.numpy\")\n",
    "    y_train_all = read_numpy(datalake_root(P) / \"train-data\" / \"labels.numpy\")\n",
    "\n",
    "    assert isinstance(P[\"task.nr_train_images\"], int)\n",
    "\n",
    "    # Note: train_test_split will fail if split is 0 or 100%.\n",
    "    assert 0 < P[\"task.nr_train_images\"] < len(y_train_all)\n",
    "\n",
    "    X_train, _, y_train, _ = train_test_split(\n",
    "        X_train_all,\n",
    "        y_train_all,\n",
    "        train_size=P[\"task.nr_train_images\"],\n",
    "        test_size=None,\n",
    "        stratify=y_train_all,\n",
    "        shuffle=True,\n",
    "        random_state=123,\n",
    "    )\n",
    "\n",
    "    assert X_train.shape == (len(y_train), 8 * 8)\n",
    "    return X_train, y_train\n",
    "\n",
    "\n",
    "X_train, y_train = load_and_limit_train_data(P)"
   ]
  },
  {
   "cell_type": "markdown",
   "id": "96c0ef17",
   "metadata": {
    "papermill": {
     "duration": 0.003354,
     "end_time": "2022-07-08T06:49:29.206637",
     "exception": false,
     "start_time": "2022-07-08T06:49:29.203283",
     "status": "completed"
    },
    "tags": []
   },
   "source": [
    "## Train support vector classifier model\n",
    "\n",
    "Below we assume that the hyperparameter $C$ is known.\n",
    "\n",
    "However, this should ideally be found by a hyperparameter search. That could be\n",
    "done in parallel on the Ray cluster, but this needs some more work. Ie., to use\n",
    "multiple cores in the notebook, those cores should be reserved when starting the\n",
    "notebook task (TODO).\n",
    "\n",
    "- https://docs.ray.io/en/latest/tune/key-concepts.html\n",
    "\n",
    "Note: cv-scores would need to be computed here, since they depend on the train data.\n",
    "After this notebook only the onnx-model is available."
   ]
  },
  {
   "cell_type": "code",
   "execution_count": 7,
   "id": "e4900276",
   "metadata": {
    "execution": {
     "iopub.execute_input": "2022-07-08T06:49:29.215909Z",
     "iopub.status.busy": "2022-07-08T06:49:29.215609Z",
     "iopub.status.idle": "2022-07-08T06:49:29.243500Z",
     "shell.execute_reply": "2022-07-08T06:49:29.242555Z"
    },
    "papermill": {
     "duration": 0.037169,
     "end_time": "2022-07-08T06:49:29.247432",
     "exception": false,
     "start_time": "2022-07-08T06:49:29.210263",
     "status": "completed"
    },
    "tags": []
   },
   "outputs": [],
   "source": [
    "from sklearn.svm import SVC"
   ]
  },
  {
   "cell_type": "code",
   "execution_count": 8,
   "id": "b41be9dd",
   "metadata": {
    "execution": {
     "iopub.execute_input": "2022-07-08T06:49:29.256840Z",
     "iopub.status.busy": "2022-07-08T06:49:29.256482Z",
     "iopub.status.idle": "2022-07-08T06:49:29.354580Z",
     "shell.execute_reply": "2022-07-08T06:49:29.353513Z"
    },
    "papermill": {
     "duration": 0.105788,
     "end_time": "2022-07-08T06:49:29.357168",
     "exception": false,
     "start_time": "2022-07-08T06:49:29.251380",
     "status": "completed"
    },
    "tags": []
   },
   "outputs": [
    {
     "data": {
      "text/plain": [
       "SVC(C=0.001, kernel='linear', probability=True)"
      ]
     },
     "execution_count": 8,
     "metadata": {},
     "output_type": "execute_result"
    }
   ],
   "source": [
    "model = SVC(C=0.001, kernel=\"linear\", probability=True)\n",
    "\n",
    "model.fit(X_train, y_train)"
   ]
  },
  {
   "cell_type": "markdown",
   "id": "9fb16d93",
   "metadata": {
    "papermill": {
     "duration": 0.004585,
     "end_time": "2022-07-08T06:49:29.365558",
     "exception": false,
     "start_time": "2022-07-08T06:49:29.360973",
     "status": "completed"
    },
    "tags": []
   },
   "source": [
    "### Q: Can the labels returned by `predict(..)` be computed from probabilities returned by the `predict_prob`-method?"
   ]
  },
  {
   "cell_type": "code",
   "execution_count": 9,
   "id": "d5eec6ce",
   "metadata": {
    "execution": {
     "iopub.execute_input": "2022-07-08T06:49:29.375470Z",
     "iopub.status.busy": "2022-07-08T06:49:29.375122Z",
     "iopub.status.idle": "2022-07-08T06:49:29.423293Z",
     "shell.execute_reply": "2022-07-08T06:49:29.422299Z"
    },
    "papermill": {
     "duration": 0.055666,
     "end_time": "2022-07-08T06:49:29.425626",
     "exception": false,
     "start_time": "2022-07-08T06:49:29.369960",
     "status": "completed"
    },
    "tags": []
   },
   "outputs": [
    {
     "name": "stdout",
     "output_type": "stream",
     "text": [
      " - Logging nr_max_prob_neq_label (int) : 2\n"
     ]
    }
   ],
   "source": [
    "import numpy as np\n",
    "\n",
    "y_train_labels = model.predict(X_train)\n",
    "y_train_probabilities = model.predict_proba(X_train)\n",
    "assert y_train_probabilities.shape == (len(y_train), 10)\n",
    "\n",
    "y_train_max_prob_labels = np.argmax(y_train_probabilities, axis=1)\n",
    "assert y_train_labels.shape == y_train_max_prob_labels.shape == y_train.shape\n",
    "\n",
    "# If the predicted labels would coincide with the labels that have\n",
    "# maximum probability, the below number would be zero\n",
    "logger.log_int(\n",
    "    \"nr_max_prob_neq_label\", int(sum(y_train_max_prob_labels != y_train_labels))\n",
    ")"
   ]
  },
  {
   "cell_type": "markdown",
   "id": "29587463",
   "metadata": {
    "papermill": {
     "duration": 0.005253,
     "end_time": "2022-07-08T06:49:29.435079",
     "exception": false,
     "start_time": "2022-07-08T06:49:29.429826",
     "status": "completed"
    },
    "tags": []
   },
   "source": [
    "The explanation is (likely) explained in the SVC source, see\n",
    "[here](https://github.com/scikit-learn/scikit-learn/blob/main/sklearn/svm/_base.py).\n",
    "Namely, the outputs from `predict(..)` and `predict_proba(..)` may not in some\n",
    "cases be compatible since the latter is computed using cross-validation while\n",
    "the former is not. Thus, the above number need not be zero."
   ]
  },
  {
   "cell_type": "markdown",
   "id": "f8789b7f",
   "metadata": {
    "papermill": {
     "duration": 0.004629,
     "end_time": "2022-07-08T06:49:29.444354",
     "exception": false,
     "start_time": "2022-07-08T06:49:29.439725",
     "status": "completed"
    },
    "tags": []
   },
   "source": [
    "## Persist model"
   ]
  },
  {
   "cell_type": "code",
   "execution_count": 10,
   "id": "cefdaaad",
   "metadata": {
    "execution": {
     "iopub.execute_input": "2022-07-08T06:49:29.454541Z",
     "iopub.status.busy": "2022-07-08T06:49:29.454174Z",
     "iopub.status.idle": "2022-07-08T06:49:30.415442Z",
     "shell.execute_reply": "2022-07-08T06:49:30.414552Z"
    },
    "papermill": {
     "duration": 0.969094,
     "end_time": "2022-07-08T06:49:30.418053",
     "exception": false,
     "start_time": "2022-07-08T06:49:29.448959",
     "status": "completed"
    },
    "tags": []
   },
   "outputs": [],
   "source": [
    "from skl2onnx import convert_sklearn\n",
    "from skl2onnx.common.data_types import FloatTensorType\n",
    "\n",
    "#\n",
    "from common.io import datalake_root, write_onnx"
   ]
  },
  {
   "cell_type": "code",
   "execution_count": 11,
   "id": "e4161e5f",
   "metadata": {
    "execution": {
     "iopub.execute_input": "2022-07-08T06:49:30.428656Z",
     "iopub.status.busy": "2022-07-08T06:49:30.428114Z",
     "iopub.status.idle": "2022-07-08T06:49:30.481119Z",
     "shell.execute_reply": "2022-07-08T06:49:30.480062Z"
    },
    "papermill": {
     "duration": 0.060889,
     "end_time": "2022-07-08T06:49:30.483284",
     "exception": false,
     "start_time": "2022-07-08T06:49:30.422395",
     "status": "completed"
    },
    "tags": []
   },
   "outputs": [],
   "source": [
    "# convert sklearn model into onnx and persist to data lake\n",
    "\n",
    "model_onnx = convert_sklearn(\n",
    "    model, initial_types=[(\"float_input_8x8_image\", FloatTensorType([None, 8 * 8]))]\n",
    ")\n",
    "write_onnx(\n",
    "    datalake_root(P)\n",
    "    / \"models\"\n",
    "    / f\"nr_train_images={P['task.nr_train_images']}\"\n",
    "    / \"model.onnx\",\n",
    "    model_onnx,\n",
    ")"
   ]
  },
  {
   "cell_type": "code",
   "execution_count": null,
   "id": "daca2c8a",
   "metadata": {
    "papermill": {
     "duration": 0.003853,
     "end_time": "2022-07-08T06:49:30.491633",
     "exception": false,
     "start_time": "2022-07-08T06:49:30.487780",
     "status": "completed"
    },
    "tags": []
   },
   "outputs": [],
   "source": []
  }
 ],
 "metadata": {
  "jupytext": {
   "cell_metadata_filter": "tags,-all",
   "main_language": "python",
   "notebook_metadata_filter": "-all"
  },
  "language_info": {
   "codemirror_mode": {
    "name": "ipython",
    "version": 3
   },
   "file_extension": ".py",
   "mimetype": "text/x-python",
   "name": "python",
   "nbconvert_exporter": "python",
   "pygments_lexer": "ipython3",
   "version": "3.8.10"
  },
  "papermill": {
   "default_parameters": {},
   "duration": 5.183672,
   "end_time": "2022-07-08T06:49:31.717229",
   "environment_variables": {},
   "exception": null,
   "input_path": "/home/host_user/workspace/mnist-demo-pipeline/mnist-demo-pipeline/notebooks/temp-notebook-os3757jk.ipynb",
   "output_path": "notebooks/train-model.ipynb",
   "parameters": {
    "P": {
     "_opentelemetry_traceparent": "00-62cc40efdfab9a316a46122f0e2f0cbb-d7c3534f20741334-01",
     "pipeline.data_lake_root": "/pipeline-outputs/data-lake",
     "pipeline.github.actor": "matiasdahl",
     "pipeline.github.base_ref": "",
     "pipeline.github.event_name": "schedule",
     "pipeline.github.head_ref": "",
     "pipeline.github.job": "run-tests-pipeline-and-persist-pipeline-outputs",
     "pipeline.github.ref": "refs/heads/development",
     "pipeline.github.ref_name": "development",
     "pipeline.github.ref_type": "branch",
     "pipeline.github.repository": "pynb-dag-runner/mnist-digits-demo-pipeline",
     "pipeline.github.run_id": "2634377975",
     "pipeline.github.runner_name": "Hosted Agent",
     "pipeline.github.sha": "147a1be9916173fd4d2cd011d8d51e3411215850",
     "pipeline.github.workflow": "Run automated tests, pipeline and deploy results to static reporting site",
     "pipeline.pipeline_run_id": "2a4fe300-47ae-44e1-b3e9-09f0192b9a3f",
     "pipeline.run_environment": "ci",
     "run.retry_nr": "0",
     "task.max_nr_retries": "1",
     "task.notebook": "notebooks/train-model.py",
     "task.nr_train_images": 600,
     "task.num_cpus": 1,
     "task.timeout_s": "None"
    }
   },
   "start_time": "2022-07-08T06:49:26.533557",
   "version": "2.3.3"
  }
 },
 "nbformat": 4,
 "nbformat_minor": 5
}