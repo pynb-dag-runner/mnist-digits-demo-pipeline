{
 "cells": [
  {
   "cell_type": "markdown",
   "id": "eba2cd10",
   "metadata": {
    "papermill": {
     "duration": 0.00529,
     "end_time": "2022-07-08T06:49:34.732459",
     "exception": false,
     "start_time": "2022-07-08T06:49:34.727169",
     "status": "completed"
    },
    "tags": []
   },
   "source": [
    "# Train model\n",
    "\n",
    "The purpose of this notebook is:\n",
    "\n",
    "- Load all training data (images and labels).\n",
    "- Limit number of train images to `task.nr_train_images` (value provided as run parameter).\n",
    "- Train a support vector machine model using sklearn.\n",
    "- Persist the trained model using the ONNX format."
   ]
  },
  {
   "cell_type": "markdown",
   "id": "f9b3552e",
   "metadata": {
    "papermill": {
     "duration": 0.010232,
     "end_time": "2022-07-08T06:49:34.746794",
     "exception": false,
     "start_time": "2022-07-08T06:49:34.736562",
     "status": "completed"
    },
    "tags": []
   },
   "source": [
    "### Determine run parameters"
   ]
  },
  {
   "cell_type": "code",
   "execution_count": 1,
   "id": "6977345b",
   "metadata": {
    "execution": {
     "iopub.execute_input": "2022-07-08T06:49:34.756643Z",
     "iopub.status.busy": "2022-07-08T06:49:34.756187Z",
     "iopub.status.idle": "2022-07-08T06:49:34.767714Z",
     "shell.execute_reply": "2022-07-08T06:49:34.766939Z"
    },
    "lines_to_next_cell": 0,
    "papermill": {
     "duration": 0.019217,
     "end_time": "2022-07-08T06:49:34.770248",
     "exception": false,
     "start_time": "2022-07-08T06:49:34.751031",
     "status": "completed"
    },
    "tags": []
   },
   "outputs": [],
   "source": [
    "# ----------------- Parameters for interactive development --------------\n",
    "P = {\n",
    "    \"pipeline.data_lake_root\": \"/pipeline-outputs/data-lake\",\n",
    "    \"task.nr_train_images\": 600,\n",
    "}"
   ]
  },
  {
   "cell_type": "code",
   "execution_count": 2,
   "id": "9cb4514f",
   "metadata": {
    "execution": {
     "iopub.execute_input": "2022-07-08T06:49:34.780536Z",
     "iopub.status.busy": "2022-07-08T06:49:34.779380Z",
     "iopub.status.idle": "2022-07-08T06:49:34.784741Z",
     "shell.execute_reply": "2022-07-08T06:49:34.783816Z"
    },
    "lines_to_next_cell": 0,
    "papermill": {
     "duration": 0.013112,
     "end_time": "2022-07-08T06:49:34.788159",
     "exception": false,
     "start_time": "2022-07-08T06:49:34.775047",
     "status": "completed"
    },
    "tags": [
     "parameters"
    ]
   },
   "outputs": [],
   "source": [
    "# - During automated runs parameters will be injected in the below cell -"
   ]
  },
  {
   "cell_type": "code",
   "execution_count": 3,
   "id": "8a39f074",
   "metadata": {
    "execution": {
     "iopub.execute_input": "2022-07-08T06:49:34.797324Z",
     "iopub.status.busy": "2022-07-08T06:49:34.796753Z",
     "iopub.status.idle": "2022-07-08T06:49:34.803060Z",
     "shell.execute_reply": "2022-07-08T06:49:34.801562Z"
    },
    "papermill": {
     "duration": 0.01417,
     "end_time": "2022-07-08T06:49:34.806570",
     "exception": false,
     "start_time": "2022-07-08T06:49:34.792400",
     "status": "completed"
    },
    "tags": [
     "injected-parameters"
    ]
   },
   "outputs": [],
   "source": [
    "# Parameters\n",
    "P = {\n",
    "    \"pipeline.data_lake_root\": \"/pipeline-outputs/data-lake\",\n",
    "    \"pipeline.run_environment\": \"ci\",\n",
    "    \"pipeline.pipeline_run_id\": \"2a4fe300-47ae-44e1-b3e9-09f0192b9a3f\",\n",
    "    \"pipeline.github.repository\": \"pynb-dag-runner/mnist-digits-demo-pipeline\",\n",
    "    \"pipeline.github.workflow\": \"Run automated tests, pipeline and deploy results to static reporting site\",\n",
    "    \"pipeline.github.runner_name\": \"Hosted Agent\",\n",
    "    \"pipeline.github.run_id\": \"2634377975\",\n",
    "    \"pipeline.github.actor\": \"matiasdahl\",\n",
    "    \"pipeline.github.job\": \"run-tests-pipeline-and-persist-pipeline-outputs\",\n",
    "    \"pipeline.github.base_ref\": \"\",\n",
    "    \"pipeline.github.head_ref\": \"\",\n",
    "    \"pipeline.github.sha\": \"147a1be9916173fd4d2cd011d8d51e3411215850\",\n",
    "    \"pipeline.github.ref\": \"refs/heads/development\",\n",
    "    \"pipeline.github.ref_type\": \"branch\",\n",
    "    \"pipeline.github.ref_name\": \"development\",\n",
    "    \"pipeline.github.event_name\": \"schedule\",\n",
    "    \"task.nr_train_images\": 1000,\n",
    "    \"task.notebook\": \"notebooks/train-model.py\",\n",
    "    \"task.max_nr_retries\": \"1\",\n",
    "    \"run.retry_nr\": \"0\",\n",
    "    \"task.timeout_s\": \"None\",\n",
    "    \"task.num_cpus\": 1,\n",
    "    \"_opentelemetry_traceparent\": \"00-62cc40efdfab9a316a46122f0e2f0cbb-d6bd89cb0f3b316b-01\",\n",
    "}\n"
   ]
  },
  {
   "cell_type": "code",
   "execution_count": 4,
   "id": "8227b085",
   "metadata": {
    "execution": {
     "iopub.execute_input": "2022-07-08T06:49:34.817167Z",
     "iopub.status.busy": "2022-07-08T06:49:34.816949Z",
     "iopub.status.idle": "2022-07-08T06:49:34.820251Z",
     "shell.execute_reply": "2022-07-08T06:49:34.819426Z"
    },
    "lines_to_next_cell": 0,
    "papermill": {
     "duration": 0.012589,
     "end_time": "2022-07-08T06:49:34.824334",
     "exception": false,
     "start_time": "2022-07-08T06:49:34.811745",
     "status": "completed"
    },
    "tags": []
   },
   "outputs": [],
   "source": [
    "# -----------------------------------------------------------------------"
   ]
  },
  {
   "cell_type": "markdown",
   "id": "8a8d4d77",
   "metadata": {
    "papermill": {
     "duration": 0.003578,
     "end_time": "2022-07-08T06:49:34.831277",
     "exception": false,
     "start_time": "2022-07-08T06:49:34.827699",
     "status": "completed"
    },
    "tags": []
   },
   "source": [
    "---"
   ]
  },
  {
   "cell_type": "markdown",
   "id": "aa02c7ee",
   "metadata": {
    "lines_to_next_cell": 2,
    "papermill": {
     "duration": 0.003264,
     "end_time": "2022-07-08T06:49:34.838664",
     "exception": false,
     "start_time": "2022-07-08T06:49:34.835400",
     "status": "completed"
    },
    "tags": []
   },
   "source": [
    "### Notebook code"
   ]
  },
  {
   "cell_type": "code",
   "execution_count": 5,
   "id": "9a5552b7",
   "metadata": {
    "execution": {
     "iopub.execute_input": "2022-07-08T06:49:34.852459Z",
     "iopub.status.busy": "2022-07-08T06:49:34.852155Z",
     "iopub.status.idle": "2022-07-08T06:49:35.427834Z",
     "shell.execute_reply": "2022-07-08T06:49:35.426705Z"
    },
    "papermill": {
     "duration": 0.587994,
     "end_time": "2022-07-08T06:49:35.430468",
     "exception": false,
     "start_time": "2022-07-08T06:49:34.842474",
     "status": "completed"
    },
    "tags": []
   },
   "outputs": [
    {
     "name": "stderr",
     "output_type": "stream",
     "text": [
      "2022-07-08 06:49:35,250\tINFO worker.py:842 -- Connecting to existing Ray cluster at address: 172.17.0.2:6379\n"
     ]
    }
   ],
   "source": [
    "from pynb_dag_runner.tasks.task_opentelemetry_logging import PydarLogger\n",
    "\n",
    "logger = PydarLogger(P)"
   ]
  },
  {
   "cell_type": "markdown",
   "id": "a0052b70",
   "metadata": {
    "papermill": {
     "duration": 0.003474,
     "end_time": "2022-07-08T06:49:35.438274",
     "exception": false,
     "start_time": "2022-07-08T06:49:35.434800",
     "status": "completed"
    },
    "tags": []
   },
   "source": [
    "## Load and limit train data"
   ]
  },
  {
   "cell_type": "code",
   "execution_count": 6,
   "id": "bfbc1def",
   "metadata": {
    "execution": {
     "iopub.execute_input": "2022-07-08T06:49:35.447813Z",
     "iopub.status.busy": "2022-07-08T06:49:35.447183Z",
     "iopub.status.idle": "2022-07-08T06:49:35.929898Z",
     "shell.execute_reply": "2022-07-08T06:49:35.929184Z"
    },
    "papermill": {
     "duration": 0.491565,
     "end_time": "2022-07-08T06:49:35.933358",
     "exception": false,
     "start_time": "2022-07-08T06:49:35.441793",
     "status": "completed"
    },
    "tags": []
   },
   "outputs": [],
   "source": [
    "def load_and_limit_train_data(P):\n",
    "    from common.io import datalake_root, read_numpy\n",
    "    from sklearn.model_selection import train_test_split\n",
    "\n",
    "    X_train_all = read_numpy(datalake_root(P) / \"train-data\" / \"digits.numpy\")\n",
    "    y_train_all = read_numpy(datalake_root(P) / \"train-data\" / \"labels.numpy\")\n",
    "\n",
    "    assert isinstance(P[\"task.nr_train_images\"], int)\n",
    "\n",
    "    # Note: train_test_split will fail if split is 0 or 100%.\n",
    "    assert 0 < P[\"task.nr_train_images\"] < len(y_train_all)\n",
    "\n",
    "    X_train, _, y_train, _ = train_test_split(\n",
    "        X_train_all,\n",
    "        y_train_all,\n",
    "        train_size=P[\"task.nr_train_images\"],\n",
    "        test_size=None,\n",
    "        stratify=y_train_all,\n",
    "        shuffle=True,\n",
    "        random_state=123,\n",
    "    )\n",
    "\n",
    "    assert X_train.shape == (len(y_train), 8 * 8)\n",
    "    return X_train, y_train\n",
    "\n",
    "\n",
    "X_train, y_train = load_and_limit_train_data(P)"
   ]
  },
  {
   "cell_type": "markdown",
   "id": "5f7b4d64",
   "metadata": {
    "papermill": {
     "duration": 0.003502,
     "end_time": "2022-07-08T06:49:35.946186",
     "exception": false,
     "start_time": "2022-07-08T06:49:35.942684",
     "status": "completed"
    },
    "tags": []
   },
   "source": [
    "## Train support vector classifier model\n",
    "\n",
    "Below we assume that the hyperparameter $C$ is known.\n",
    "\n",
    "However, this should ideally be found by a hyperparameter search. That could be\n",
    "done in parallel on the Ray cluster, but this needs some more work. Ie., to use\n",
    "multiple cores in the notebook, those cores should be reserved when starting the\n",
    "notebook task (TODO).\n",
    "\n",
    "- https://docs.ray.io/en/latest/tune/key-concepts.html\n",
    "\n",
    "Note: cv-scores would need to be computed here, since they depend on the train data.\n",
    "After this notebook only the onnx-model is available."
   ]
  },
  {
   "cell_type": "code",
   "execution_count": 7,
   "id": "4a5e4322",
   "metadata": {
    "execution": {
     "iopub.execute_input": "2022-07-08T06:49:35.955677Z",
     "iopub.status.busy": "2022-07-08T06:49:35.955344Z",
     "iopub.status.idle": "2022-07-08T06:49:36.000177Z",
     "shell.execute_reply": "2022-07-08T06:49:35.999339Z"
    },
    "papermill": {
     "duration": 0.05278,
     "end_time": "2022-07-08T06:49:36.002606",
     "exception": false,
     "start_time": "2022-07-08T06:49:35.949826",
     "status": "completed"
    },
    "tags": []
   },
   "outputs": [],
   "source": [
    "from sklearn.svm import SVC"
   ]
  },
  {
   "cell_type": "code",
   "execution_count": 8,
   "id": "c0325ab9",
   "metadata": {
    "execution": {
     "iopub.execute_input": "2022-07-08T06:49:36.012520Z",
     "iopub.status.busy": "2022-07-08T06:49:36.012054Z",
     "iopub.status.idle": "2022-07-08T06:49:36.211267Z",
     "shell.execute_reply": "2022-07-08T06:49:36.210375Z"
    },
    "papermill": {
     "duration": 0.206581,
     "end_time": "2022-07-08T06:49:36.213519",
     "exception": false,
     "start_time": "2022-07-08T06:49:36.006938",
     "status": "completed"
    },
    "tags": []
   },
   "outputs": [
    {
     "data": {
      "text/plain": [
       "SVC(C=0.001, kernel='linear', probability=True)"
      ]
     },
     "execution_count": 8,
     "metadata": {},
     "output_type": "execute_result"
    }
   ],
   "source": [
    "model = SVC(C=0.001, kernel=\"linear\", probability=True)\n",
    "\n",
    "model.fit(X_train, y_train)"
   ]
  },
  {
   "cell_type": "markdown",
   "id": "e3be9403",
   "metadata": {
    "papermill": {
     "duration": 0.004908,
     "end_time": "2022-07-08T06:49:36.222825",
     "exception": false,
     "start_time": "2022-07-08T06:49:36.217917",
     "status": "completed"
    },
    "tags": []
   },
   "source": [
    "### Q: Can the labels returned by `predict(..)` be computed from probabilities returned by the `predict_prob`-method?"
   ]
  },
  {
   "cell_type": "code",
   "execution_count": 9,
   "id": "14e8ba9d",
   "metadata": {
    "execution": {
     "iopub.execute_input": "2022-07-08T06:49:36.232607Z",
     "iopub.status.busy": "2022-07-08T06:49:36.232332Z",
     "iopub.status.idle": "2022-07-08T06:49:36.333928Z",
     "shell.execute_reply": "2022-07-08T06:49:36.333125Z"
    },
    "papermill": {
     "duration": 0.109426,
     "end_time": "2022-07-08T06:49:36.336335",
     "exception": false,
     "start_time": "2022-07-08T06:49:36.226909",
     "status": "completed"
    },
    "tags": []
   },
   "outputs": [
    {
     "name": "stdout",
     "output_type": "stream",
     "text": [
      " - Logging nr_max_prob_neq_label (int) : 1\n"
     ]
    }
   ],
   "source": [
    "import numpy as np\n",
    "\n",
    "y_train_labels = model.predict(X_train)\n",
    "y_train_probabilities = model.predict_proba(X_train)\n",
    "assert y_train_probabilities.shape == (len(y_train), 10)\n",
    "\n",
    "y_train_max_prob_labels = np.argmax(y_train_probabilities, axis=1)\n",
    "assert y_train_labels.shape == y_train_max_prob_labels.shape == y_train.shape\n",
    "\n",
    "# If the predicted labels would coincide with the labels that have\n",
    "# maximum probability, the below number would be zero\n",
    "logger.log_int(\n",
    "    \"nr_max_prob_neq_label\", int(sum(y_train_max_prob_labels != y_train_labels))\n",
    ")"
   ]
  },
  {
   "cell_type": "markdown",
   "id": "9b98c707",
   "metadata": {
    "papermill": {
     "duration": 0.004533,
     "end_time": "2022-07-08T06:49:36.345261",
     "exception": false,
     "start_time": "2022-07-08T06:49:36.340728",
     "status": "completed"
    },
    "tags": []
   },
   "source": [
    "The explanation is (likely) explained in the SVC source, see\n",
    "[here](https://github.com/scikit-learn/scikit-learn/blob/main/sklearn/svm/_base.py).\n",
    "Namely, the outputs from `predict(..)` and `predict_proba(..)` may not in some\n",
    "cases be compatible since the latter is computed using cross-validation while\n",
    "the former is not. Thus, the above number need not be zero."
   ]
  },
  {
   "cell_type": "markdown",
   "id": "997a4a7c",
   "metadata": {
    "papermill": {
     "duration": 0.004576,
     "end_time": "2022-07-08T06:49:36.354178",
     "exception": false,
     "start_time": "2022-07-08T06:49:36.349602",
     "status": "completed"
    },
    "tags": []
   },
   "source": [
    "## Persist model"
   ]
  },
  {
   "cell_type": "code",
   "execution_count": 10,
   "id": "eab6b40f",
   "metadata": {
    "execution": {
     "iopub.execute_input": "2022-07-08T06:49:36.368104Z",
     "iopub.status.busy": "2022-07-08T06:49:36.367419Z",
     "iopub.status.idle": "2022-07-08T06:49:37.335571Z",
     "shell.execute_reply": "2022-07-08T06:49:37.334451Z"
    },
    "papermill": {
     "duration": 0.97964,
     "end_time": "2022-07-08T06:49:37.337852",
     "exception": false,
     "start_time": "2022-07-08T06:49:36.358212",
     "status": "completed"
    },
    "tags": []
   },
   "outputs": [],
   "source": [
    "from skl2onnx import convert_sklearn\n",
    "from skl2onnx.common.data_types import FloatTensorType\n",
    "\n",
    "#\n",
    "from common.io import datalake_root, write_onnx"
   ]
  },
  {
   "cell_type": "code",
   "execution_count": 11,
   "id": "6744466c",
   "metadata": {
    "execution": {
     "iopub.execute_input": "2022-07-08T06:49:37.348992Z",
     "iopub.status.busy": "2022-07-08T06:49:37.348329Z",
     "iopub.status.idle": "2022-07-08T06:49:37.410104Z",
     "shell.execute_reply": "2022-07-08T06:49:37.408944Z"
    },
    "papermill": {
     "duration": 0.069326,
     "end_time": "2022-07-08T06:49:37.412702",
     "exception": false,
     "start_time": "2022-07-08T06:49:37.343376",
     "status": "completed"
    },
    "tags": []
   },
   "outputs": [],
   "source": [
    "# convert sklearn model into onnx and persist to data lake\n",
    "\n",
    "model_onnx = convert_sklearn(\n",
    "    model, initial_types=[(\"float_input_8x8_image\", FloatTensorType([None, 8 * 8]))]\n",
    ")\n",
    "write_onnx(\n",
    "    datalake_root(P)\n",
    "    / \"models\"\n",
    "    / f\"nr_train_images={P['task.nr_train_images']}\"\n",
    "    / \"model.onnx\",\n",
    "    model_onnx,\n",
    ")"
   ]
  },
  {
   "cell_type": "code",
   "execution_count": null,
   "id": "92e91c95",
   "metadata": {
    "papermill": {
     "duration": 0.004464,
     "end_time": "2022-07-08T06:49:37.421507",
     "exception": false,
     "start_time": "2022-07-08T06:49:37.417043",
     "status": "completed"
    },
    "tags": []
   },
   "outputs": [],
   "source": []
  }
 ],
 "metadata": {
  "jupytext": {
   "cell_metadata_filter": "tags,-all",
   "main_language": "python",
   "notebook_metadata_filter": "-all"
  },
  "language_info": {
   "codemirror_mode": {
    "name": "ipython",
    "version": 3
   },
   "file_extension": ".py",
   "mimetype": "text/x-python",
   "name": "python",
   "nbconvert_exporter": "python",
   "pygments_lexer": "ipython3",
   "version": "3.8.10"
  },
  "papermill": {
   "default_parameters": {},
   "duration": 5.648036,
   "end_time": "2022-07-08T06:49:39.001042",
   "environment_variables": {},
   "exception": null,
   "input_path": "/home/host_user/workspace/mnist-demo-pipeline/mnist-demo-pipeline/notebooks/temp-notebook-g39tka2i.ipynb",
   "output_path": "notebooks/train-model.ipynb",
   "parameters": {
    "P": {
     "_opentelemetry_traceparent": "00-62cc40efdfab9a316a46122f0e2f0cbb-d6bd89cb0f3b316b-01",
     "pipeline.data_lake_root": "/pipeline-outputs/data-lake",
     "pipeline.github.actor": "matiasdahl",
     "pipeline.github.base_ref": "",
     "pipeline.github.event_name": "schedule",
     "pipeline.github.head_ref": "",
     "pipeline.github.job": "run-tests-pipeline-and-persist-pipeline-outputs",
     "pipeline.github.ref": "refs/heads/development",
     "pipeline.github.ref_name": "development",
     "pipeline.github.ref_type": "branch",
     "pipeline.github.repository": "pynb-dag-runner/mnist-digits-demo-pipeline",
     "pipeline.github.run_id": "2634377975",
     "pipeline.github.runner_name": "Hosted Agent",
     "pipeline.github.sha": "147a1be9916173fd4d2cd011d8d51e3411215850",
     "pipeline.github.workflow": "Run automated tests, pipeline and deploy results to static reporting site",
     "pipeline.pipeline_run_id": "2a4fe300-47ae-44e1-b3e9-09f0192b9a3f",
     "pipeline.run_environment": "ci",
     "run.retry_nr": "0",
     "task.max_nr_retries": "1",
     "task.notebook": "notebooks/train-model.py",
     "task.nr_train_images": 1000,
     "task.num_cpus": 1,
     "task.timeout_s": "None"
    }
   },
   "start_time": "2022-07-08T06:49:33.353006",
   "version": "2.3.3"
  }
 },
 "nbformat": 4,
 "nbformat_minor": 5
}