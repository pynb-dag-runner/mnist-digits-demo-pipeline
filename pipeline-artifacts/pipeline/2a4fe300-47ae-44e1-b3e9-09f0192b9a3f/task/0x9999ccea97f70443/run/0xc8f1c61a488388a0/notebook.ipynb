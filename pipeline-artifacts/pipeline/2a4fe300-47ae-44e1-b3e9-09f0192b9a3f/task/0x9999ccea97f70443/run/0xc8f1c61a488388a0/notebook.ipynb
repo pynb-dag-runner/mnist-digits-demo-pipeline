{
 "cells": [
  {
   "cell_type": "markdown",
   "id": "354ad704",
   "metadata": {
    "papermill": {
     "duration": 0.006632,
     "end_time": "2022-07-08T06:49:56.928375",
     "exception": false,
     "start_time": "2022-07-08T06:49:56.921743",
     "status": "completed"
    },
    "tags": []
   },
   "source": [
    "# Benchmark model\n",
    "\n",
    "The purpose of this notebook is to benchmark persisted onnx-model (trained in the\n",
    "previous step) against evaluation set."
   ]
  },
  {
   "cell_type": "markdown",
   "id": "49c54704",
   "metadata": {
    "papermill": {
     "duration": 0.005848,
     "end_time": "2022-07-08T06:49:56.939802",
     "exception": false,
     "start_time": "2022-07-08T06:49:56.933954",
     "status": "completed"
    },
    "tags": []
   },
   "source": [
    "### Determine run parameters"
   ]
  },
  {
   "cell_type": "code",
   "execution_count": 1,
   "id": "9797bf61",
   "metadata": {
    "execution": {
     "iopub.execute_input": "2022-07-08T06:49:56.952241Z",
     "iopub.status.busy": "2022-07-08T06:49:56.951749Z",
     "iopub.status.idle": "2022-07-08T06:49:56.963880Z",
     "shell.execute_reply": "2022-07-08T06:49:56.963141Z"
    },
    "lines_to_next_cell": 0,
    "papermill": {
     "duration": 0.022048,
     "end_time": "2022-07-08T06:49:56.966907",
     "exception": false,
     "start_time": "2022-07-08T06:49:56.944859",
     "status": "completed"
    },
    "tags": []
   },
   "outputs": [],
   "source": [
    "# ----------------- Parameters for interactive development --------------\n",
    "P = {\n",
    "    \"pipeline.data_lake_root\": \"/pipeline-outputs/data-lake\",\n",
    "    \"task.nr_train_images\": 600,\n",
    "}"
   ]
  },
  {
   "cell_type": "code",
   "execution_count": 2,
   "id": "f2f87973",
   "metadata": {
    "execution": {
     "iopub.execute_input": "2022-07-08T06:49:56.986588Z",
     "iopub.status.busy": "2022-07-08T06:49:56.986290Z",
     "iopub.status.idle": "2022-07-08T06:49:56.990078Z",
     "shell.execute_reply": "2022-07-08T06:49:56.989344Z"
    },
    "lines_to_next_cell": 0,
    "papermill": {
     "duration": 0.014636,
     "end_time": "2022-07-08T06:49:56.994005",
     "exception": false,
     "start_time": "2022-07-08T06:49:56.979369",
     "status": "completed"
    },
    "tags": [
     "parameters"
    ]
   },
   "outputs": [],
   "source": [
    "# - During automated runs parameters will be injected in the below cell -"
   ]
  },
  {
   "cell_type": "code",
   "execution_count": 3,
   "id": "8805c78f",
   "metadata": {
    "execution": {
     "iopub.execute_input": "2022-07-08T06:49:57.009171Z",
     "iopub.status.busy": "2022-07-08T06:49:57.008916Z",
     "iopub.status.idle": "2022-07-08T06:49:57.015085Z",
     "shell.execute_reply": "2022-07-08T06:49:57.013980Z"
    },
    "papermill": {
     "duration": 0.01951,
     "end_time": "2022-07-08T06:49:57.018410",
     "exception": false,
     "start_time": "2022-07-08T06:49:56.998900",
     "status": "completed"
    },
    "tags": [
     "injected-parameters"
    ]
   },
   "outputs": [],
   "source": [
    "# Parameters\n",
    "P = {\n",
    "    \"pipeline.data_lake_root\": \"/pipeline-outputs/data-lake\",\n",
    "    \"pipeline.run_environment\": \"ci\",\n",
    "    \"pipeline.pipeline_run_id\": \"2a4fe300-47ae-44e1-b3e9-09f0192b9a3f\",\n",
    "    \"pipeline.github.repository\": \"pynb-dag-runner/mnist-digits-demo-pipeline\",\n",
    "    \"pipeline.github.workflow\": \"Run automated tests, pipeline and deploy results to static reporting site\",\n",
    "    \"pipeline.github.runner_name\": \"Hosted Agent\",\n",
    "    \"pipeline.github.run_id\": \"2634377975\",\n",
    "    \"pipeline.github.actor\": \"matiasdahl\",\n",
    "    \"pipeline.github.job\": \"run-tests-pipeline-and-persist-pipeline-outputs\",\n",
    "    \"pipeline.github.base_ref\": \"\",\n",
    "    \"pipeline.github.head_ref\": \"\",\n",
    "    \"pipeline.github.sha\": \"147a1be9916173fd4d2cd011d8d51e3411215850\",\n",
    "    \"pipeline.github.ref\": \"refs/heads/development\",\n",
    "    \"pipeline.github.ref_type\": \"branch\",\n",
    "    \"pipeline.github.ref_name\": \"development\",\n",
    "    \"pipeline.github.event_name\": \"schedule\",\n",
    "    \"task.nr_train_images\": 1000,\n",
    "    \"task.notebook\": \"notebooks/benchmark-model.py\",\n",
    "    \"task.max_nr_retries\": \"1\",\n",
    "    \"run.retry_nr\": \"0\",\n",
    "    \"task.timeout_s\": \"None\",\n",
    "    \"task.num_cpus\": 1,\n",
    "    \"_opentelemetry_traceparent\": \"00-62cc40efdfab9a316a46122f0e2f0cbb-9524e01deb7ac4ab-01\",\n",
    "}\n"
   ]
  },
  {
   "cell_type": "code",
   "execution_count": 4,
   "id": "0b8f1865",
   "metadata": {
    "execution": {
     "iopub.execute_input": "2022-07-08T06:49:57.030256Z",
     "iopub.status.busy": "2022-07-08T06:49:57.029968Z",
     "iopub.status.idle": "2022-07-08T06:49:57.033927Z",
     "shell.execute_reply": "2022-07-08T06:49:57.033236Z"
    },
    "lines_to_next_cell": 0,
    "papermill": {
     "duration": 0.013736,
     "end_time": "2022-07-08T06:49:57.037381",
     "exception": false,
     "start_time": "2022-07-08T06:49:57.023645",
     "status": "completed"
    },
    "tags": []
   },
   "outputs": [],
   "source": [
    "# -----------------------------------------------------------------------"
   ]
  },
  {
   "cell_type": "markdown",
   "id": "a05638e1",
   "metadata": {
    "papermill": {
     "duration": 0.007592,
     "end_time": "2022-07-08T06:49:57.049528",
     "exception": false,
     "start_time": "2022-07-08T06:49:57.041936",
     "status": "completed"
    },
    "tags": []
   },
   "source": [
    "---"
   ]
  },
  {
   "cell_type": "markdown",
   "id": "53db71e0",
   "metadata": {
    "lines_to_next_cell": 2,
    "papermill": {
     "duration": 0.005043,
     "end_time": "2022-07-08T06:49:57.060143",
     "exception": false,
     "start_time": "2022-07-08T06:49:57.055100",
     "status": "completed"
    },
    "tags": []
   },
   "source": [
    "### Notebook code"
   ]
  },
  {
   "cell_type": "code",
   "execution_count": 5,
   "id": "a42a0b16",
   "metadata": {
    "execution": {
     "iopub.execute_input": "2022-07-08T06:49:57.075051Z",
     "iopub.status.busy": "2022-07-08T06:49:57.074761Z",
     "iopub.status.idle": "2022-07-08T06:49:58.580353Z",
     "shell.execute_reply": "2022-07-08T06:49:58.579314Z"
    },
    "papermill": {
     "duration": 1.514734,
     "end_time": "2022-07-08T06:49:58.582547",
     "exception": false,
     "start_time": "2022-07-08T06:49:57.067813",
     "status": "completed"
    },
    "tags": []
   },
   "outputs": [
    {
     "name": "stderr",
     "output_type": "stream",
     "text": [
      "2022-07-08 06:49:58,386\tINFO worker.py:842 -- Connecting to existing Ray cluster at address: 172.17.0.2:6379\n"
     ]
    }
   ],
   "source": [
    "import itertools as it\n",
    "\n",
    "#\n",
    "import numpy as np\n",
    "import matplotlib.pyplot as plt\n",
    "\n",
    "#\n",
    "from pynb_dag_runner.tasks.task_opentelemetry_logging import PydarLogger\n",
    "\n",
    "#\n",
    "from common.io import datalake_root\n",
    "\n",
    "logger = PydarLogger(P)"
   ]
  },
  {
   "cell_type": "markdown",
   "id": "b8af07c8",
   "metadata": {
    "papermill": {
     "duration": 0.006333,
     "end_time": "2022-07-08T06:49:58.595700",
     "exception": false,
     "start_time": "2022-07-08T06:49:58.589367",
     "status": "completed"
    },
    "tags": []
   },
   "source": [
    "## Load persisted onnx-model and evaluation data"
   ]
  },
  {
   "cell_type": "code",
   "execution_count": 6,
   "id": "395098fb",
   "metadata": {
    "execution": {
     "iopub.execute_input": "2022-07-08T06:49:58.609421Z",
     "iopub.status.busy": "2022-07-08T06:49:58.608714Z",
     "iopub.status.idle": "2022-07-08T06:49:58.613230Z",
     "shell.execute_reply": "2022-07-08T06:49:58.612349Z"
    },
    "papermill": {
     "duration": 0.014699,
     "end_time": "2022-07-08T06:49:58.616352",
     "exception": false,
     "start_time": "2022-07-08T06:49:58.601653",
     "status": "completed"
    },
    "tags": []
   },
   "outputs": [],
   "source": [
    "from common.io import read_onnx, get_onnx_inputs, get_onnx_outputs, read_numpy"
   ]
  },
  {
   "cell_type": "code",
   "execution_count": 7,
   "id": "7cd54b5d",
   "metadata": {
    "execution": {
     "iopub.execute_input": "2022-07-08T06:49:58.635367Z",
     "iopub.status.busy": "2022-07-08T06:49:58.634894Z",
     "iopub.status.idle": "2022-07-08T06:49:58.648825Z",
     "shell.execute_reply": "2022-07-08T06:49:58.646959Z"
    },
    "lines_to_next_cell": 0,
    "papermill": {
     "duration": 0.022607,
     "end_time": "2022-07-08T06:49:58.651210",
     "exception": false,
     "start_time": "2022-07-08T06:49:58.628603",
     "status": "completed"
    },
    "tags": []
   },
   "outputs": [],
   "source": [
    "onnx_inference_session = read_onnx(\n",
    "    datalake_root(P)\n",
    "    / \"models\"\n",
    "    / f\"nr_train_images={P['task.nr_train_images']}\"\n",
    "    / \"model.onnx\"\n",
    ")"
   ]
  },
  {
   "cell_type": "markdown",
   "id": "958b3af1",
   "metadata": {
    "papermill": {
     "duration": 0.005219,
     "end_time": "2022-07-08T06:49:58.662746",
     "exception": false,
     "start_time": "2022-07-08T06:49:58.657527",
     "status": "completed"
    },
    "tags": []
   },
   "source": [
    "### Record structure of inputs and outputs for ONNX model\n",
    "\n",
    "(this should likely be done in training notebook)"
   ]
  },
  {
   "cell_type": "code",
   "execution_count": 8,
   "id": "51139ea0",
   "metadata": {
    "execution": {
     "iopub.execute_input": "2022-07-08T06:49:58.675397Z",
     "iopub.status.busy": "2022-07-08T06:49:58.675134Z",
     "iopub.status.idle": "2022-07-08T06:49:58.683458Z",
     "shell.execute_reply": "2022-07-08T06:49:58.682109Z"
    },
    "papermill": {
     "duration": 0.019189,
     "end_time": "2022-07-08T06:49:58.688116",
     "exception": false,
     "start_time": "2022-07-08T06:49:58.668927",
     "status": "completed"
    },
    "tags": []
   },
   "outputs": [
    {
     "name": "stdout",
     "output_type": "stream",
     "text": [
      "{\n",
      "  \"inputs\": [\n",
      "    {\n",
      "      \"name\": \"float_input_8x8_image\",\n",
      "      \"shape\": [\n",
      "        null,\n",
      "        64\n",
      "      ],\n",
      "      \"type\": \"tensor(float)\"\n",
      "    }\n",
      "  ],\n",
      "  \"outputs\": [\n",
      "    {\n",
      "      \"name\": \"output_label\",\n",
      "      \"shape\": [\n",
      "        null\n",
      "      ],\n",
      "      \"type\": \"tensor(int64)\"\n",
      "    },\n",
      "    {\n",
      "      \"name\": \"output_probability\",\n",
      "      \"shape\": [],\n",
      "      \"type\": \"seq(map(int64,tensor(float)))\"\n",
      "    }\n",
      "  ]\n",
      "}\n"
     ]
    }
   ],
   "source": [
    "import json\n",
    "\n",
    "onnx_io = json.dumps(\n",
    "    {\n",
    "        \"inputs\": get_onnx_inputs(onnx_inference_session),\n",
    "        \"outputs\": get_onnx_outputs(onnx_inference_session),\n",
    "    },\n",
    "    indent=2,\n",
    ")\n",
    "\n",
    "\n",
    "logger.log_artefact(\"onnx_io_structure.json\", onnx_io)\n",
    "print(onnx_io)"
   ]
  },
  {
   "cell_type": "markdown",
   "id": "3bd29376",
   "metadata": {
    "papermill": {
     "duration": 0.005631,
     "end_time": "2022-07-08T06:49:58.699045",
     "exception": false,
     "start_time": "2022-07-08T06:49:58.693414",
     "status": "completed"
    },
    "tags": []
   },
   "source": [
    "### Evaluate model performance on evaluation data set"
   ]
  },
  {
   "cell_type": "code",
   "execution_count": 9,
   "id": "ae4112c4",
   "metadata": {
    "execution": {
     "iopub.execute_input": "2022-07-08T06:49:58.710795Z",
     "iopub.status.busy": "2022-07-08T06:49:58.710542Z",
     "iopub.status.idle": "2022-07-08T06:49:58.716273Z",
     "shell.execute_reply": "2022-07-08T06:49:58.715347Z"
    },
    "papermill": {
     "duration": 0.016102,
     "end_time": "2022-07-08T06:49:58.720417",
     "exception": false,
     "start_time": "2022-07-08T06:49:58.704315",
     "status": "completed"
    },
    "tags": []
   },
   "outputs": [],
   "source": [
    "# load evaluation data\n",
    "X_test = read_numpy(datalake_root(P) / \"test-data\" / \"digits.numpy\")\n",
    "y_test = read_numpy(datalake_root(P) / \"test-data\" / \"labels.numpy\")"
   ]
  },
  {
   "cell_type": "code",
   "execution_count": 10,
   "id": "de643433",
   "metadata": {
    "execution": {
     "iopub.execute_input": "2022-07-08T06:49:58.738613Z",
     "iopub.status.busy": "2022-07-08T06:49:58.737584Z",
     "iopub.status.idle": "2022-07-08T06:49:58.758543Z",
     "shell.execute_reply": "2022-07-08T06:49:58.757706Z"
    },
    "papermill": {
     "duration": 0.034392,
     "end_time": "2022-07-08T06:49:58.760509",
     "exception": false,
     "start_time": "2022-07-08T06:49:58.726117",
     "status": "completed"
    },
    "tags": []
   },
   "outputs": [],
   "source": [
    "def get_model_outputs(X, onnx_inference_session):\n",
    "    y_pred_labels, y_pred_map = onnx_inference_session.run(\n",
    "        [\"output_label\", \"output_probability\"],\n",
    "        {\"float_input_8x8_image\": X.astype(np.float32)},\n",
    "    )\n",
    "    y_pred_probs = np.array(\n",
    "        [[probabilities[digit] for digit in range(10)] for probabilities in y_pred_map]\n",
    "    )\n",
    "\n",
    "    assert y_pred_labels.shape == (X.shape[0],)\n",
    "    assert y_pred_probs.shape == (X.shape[0], 10)\n",
    "\n",
    "    return y_pred_labels, y_pred_probs\n",
    "\n",
    "\n",
    "# Note: as shown in the training notebook, the predicted labels and probabilities\n",
    "# computed below need not be compatible.\n",
    "y_pred_labels_test, y_pred_probs_test = get_model_outputs(\n",
    "    X_test, onnx_inference_session\n",
    ")"
   ]
  },
  {
   "cell_type": "markdown",
   "id": "9bdb637c",
   "metadata": {
    "papermill": {
     "duration": 0.005462,
     "end_time": "2022-07-08T06:49:58.774172",
     "exception": false,
     "start_time": "2022-07-08T06:49:58.768710",
     "status": "completed"
    },
    "tags": []
   },
   "source": [
    "### Confusion matrix"
   ]
  },
  {
   "cell_type": "code",
   "execution_count": 11,
   "id": "0abdcfb4",
   "metadata": {
    "execution": {
     "iopub.execute_input": "2022-07-08T06:49:58.788454Z",
     "iopub.status.busy": "2022-07-08T06:49:58.787436Z",
     "iopub.status.idle": "2022-07-08T06:49:58.791202Z",
     "shell.execute_reply": "2022-07-08T06:49:58.790512Z"
    },
    "papermill": {
     "duration": 0.015653,
     "end_time": "2022-07-08T06:49:58.795806",
     "exception": false,
     "start_time": "2022-07-08T06:49:58.780153",
     "status": "completed"
    },
    "tags": []
   },
   "outputs": [],
   "source": [
    "# TODO"
   ]
  },
  {
   "cell_type": "markdown",
   "id": "3d932f71",
   "metadata": {
    "papermill": {
     "duration": 0.005167,
     "end_time": "2022-07-08T06:49:58.807291",
     "exception": false,
     "start_time": "2022-07-08T06:49:58.802124",
     "status": "completed"
    },
    "tags": []
   },
   "source": [
    "### Plot predicted probabilities for each classifier over all evaluation digit images"
   ]
  },
  {
   "cell_type": "code",
   "execution_count": 12,
   "id": "6623c9b8",
   "metadata": {
    "execution": {
     "iopub.execute_input": "2022-07-08T06:49:58.820301Z",
     "iopub.status.busy": "2022-07-08T06:49:58.820043Z",
     "iopub.status.idle": "2022-07-08T06:50:03.658968Z",
     "shell.execute_reply": "2022-07-08T06:50:03.658039Z"
    },
    "papermill": {
     "duration": 4.84742,
     "end_time": "2022-07-08T06:50:03.660874",
     "exception": false,
     "start_time": "2022-07-08T06:49:58.813454",
     "status": "completed"
    },
    "tags": []
   },
   "outputs": [
    {
     "data": {
      "image/png": "[encoded data removed]",
      "text/plain": [
       "<Figure size 1152x432 with 10 Axes>"
      ]
     },
     "metadata": {
      "needs_background": "light"
     },
     "output_type": "display_data"
    }
   ],
   "source": [
    "def plot_per_digit_probabilities(y_pred_probs):\n",
    "    fig, axs = plt.subplots(nrows=2, ncols=5, figsize=(16, 6))\n",
    "\n",
    "    for (r, c), digit, ax in zip(\n",
    "        it.product(range(2), range(5)), range(10), axs.reshape(-1)\n",
    "    ):\n",
    "        ax.hist(y_pred_probs_test[:, digit], bins=20)\n",
    "\n",
    "        ax.set_title(f\"Digit {digit}\")\n",
    "        if r == 1 and c == 2:\n",
    "            ax.set_xlabel(\"probability\", fontsize=16)\n",
    "\n",
    "        if c == 0:\n",
    "            ax.set_ylabel(\"counts\", fontsize=16)\n",
    "        ax.set_yscale(\"log\")\n",
    "\n",
    "    fig.tight_layout()\n",
    "    fig.suptitle(\n",
    "        f\"Distributions of prediction probabilities for each digit \"\n",
    "        f\"(on evaluation data, n={y_pred_probs.shape[0]})\",\n",
    "        fontsize=20,\n",
    "    )\n",
    "    fig.tight_layout()\n",
    "    fig.show()\n",
    "\n",
    "    return fig\n",
    "\n",
    "\n",
    "fig = plot_per_digit_probabilities(y_pred_probs_test)"
   ]
  },
  {
   "cell_type": "markdown",
   "id": "2aab0212",
   "metadata": {
    "papermill": {
     "duration": 0.006344,
     "end_time": "2022-07-08T06:50:03.674878",
     "exception": false,
     "start_time": "2022-07-08T06:50:03.668534",
     "status": "completed"
    },
    "tags": []
   },
   "source": [
    "From the above distributions we see that most digits have clear separation between\n",
    "high and lower probabilities. Morover, in each case there is roughly an order of\n",
    "magnitude more of digits with low probabilities. This is compatible with digits\n",
    "being roughly evenly distributed in the data."
   ]
  },
  {
   "cell_type": "code",
   "execution_count": 13,
   "id": "13dafdab",
   "metadata": {
    "execution": {
     "iopub.execute_input": "2022-07-08T06:50:03.688248Z",
     "iopub.status.busy": "2022-07-08T06:50:03.687925Z",
     "iopub.status.idle": "2022-07-08T06:50:04.342885Z",
     "shell.execute_reply": "2022-07-08T06:50:04.341871Z"
    },
    "papermill": {
     "duration": 0.665188,
     "end_time": "2022-07-08T06:50:04.345579",
     "exception": false,
     "start_time": "2022-07-08T06:50:03.680391",
     "status": "completed"
    },
    "tags": []
   },
   "outputs": [],
   "source": [
    "logger.log_figure(\"per-digit-probabilities.png\", fig)"
   ]
  },
  {
   "cell_type": "markdown",
   "id": "15da4f79",
   "metadata": {
    "papermill": {
     "duration": 0.005673,
     "end_time": "2022-07-08T06:50:04.357080",
     "exception": false,
     "start_time": "2022-07-08T06:50:04.351407",
     "status": "completed"
    },
    "tags": []
   },
   "source": [
    "### Plot ROC curves for individual one-vs-rest classifiers"
   ]
  },
  {
   "cell_type": "code",
   "execution_count": 14,
   "id": "08690bb0",
   "metadata": {
    "execution": {
     "iopub.execute_input": "2022-07-08T06:50:04.369695Z",
     "iopub.status.busy": "2022-07-08T06:50:04.369370Z",
     "iopub.status.idle": "2022-07-08T06:50:04.833487Z",
     "shell.execute_reply": "2022-07-08T06:50:04.832556Z"
    },
    "papermill": {
     "duration": 0.473939,
     "end_time": "2022-07-08T06:50:04.836717",
     "exception": false,
     "start_time": "2022-07-08T06:50:04.362778",
     "status": "completed"
    },
    "tags": []
   },
   "outputs": [],
   "source": [
    "from sklearn import metrics"
   ]
  },
  {
   "cell_type": "code",
   "execution_count": 15,
   "id": "7893f79c",
   "metadata": {
    "execution": {
     "iopub.execute_input": "2022-07-08T06:50:04.850581Z",
     "iopub.status.busy": "2022-07-08T06:50:04.850113Z",
     "iopub.status.idle": "2022-07-08T06:50:06.317204Z",
     "shell.execute_reply": "2022-07-08T06:50:06.316362Z"
    },
    "papermill": {
     "duration": 1.476333,
     "end_time": "2022-07-08T06:50:06.319015",
     "exception": false,
     "start_time": "2022-07-08T06:50:04.842682",
     "status": "completed"
    },
    "tags": []
   },
   "outputs": [
    {
     "data": {
      "image/png": "[encoded data removed]",
      "text/plain": [
       "<Figure size 1152x576 with 10 Axes>"
      ]
     },
     "metadata": {
      "needs_background": "light"
     },
     "output_type": "display_data"
    }
   ],
   "source": [
    "def plot_roc_curves(y, y_pred_probs):\n",
    "    # based on example code\n",
    "    # https://scikit-learn.org/stable/auto_examples/model_selection/plot_roc.html\n",
    "\n",
    "    fig, axs = plt.subplots(nrows=2, ncols=5, figsize=(16, 8))\n",
    "\n",
    "    roc_auc_dict = {}\n",
    "\n",
    "    for (r, c), digit, ax in zip(\n",
    "        it.product(range(2), range(5)), range(10), axs.reshape(-1)\n",
    "    ):\n",
    "        fpr, tpr, _ = metrics.roc_curve(y == digit, y_pred_probs[:, digit])\n",
    "        auc = metrics.auc(fpr, tpr)\n",
    "        roc_auc_dict[str(digit)] = auc\n",
    "\n",
    "        ax.plot(fpr, tpr, label=f\"ROC AUC={round(auc, 3)}\")\n",
    "\n",
    "        ax.set_title(f\"\\nDigit {digit}\", fontsize=16)\n",
    "        if r == 1:\n",
    "            ax.set_xlabel(\"FPR\", fontsize=18)\n",
    "\n",
    "        if c == 0:\n",
    "            ax.set_ylabel(\"TPR\", fontsize=18)\n",
    "\n",
    "        ax.set_xlim([-0.05, 1.05])\n",
    "        ax.set_ylim([-0.05, 1.05])\n",
    "        ax.legend(loc=\"lower right\", frameon=False, fontsize=14)\n",
    "\n",
    "    fig.tight_layout()\n",
    "    fig.suptitle(\n",
    "        f\"ROC plots for one-vs-rest performances \"\n",
    "        f\"(on evaluation data, n={y_pred_probs_test.shape[1]}\",\n",
    "        fontsize=22,\n",
    "    )\n",
    "    fig.tight_layout()\n",
    "    fig.show()\n",
    "\n",
    "    return roc_auc_dict, fig\n",
    "\n",
    "\n",
    "roc_auc_dict, fig = plot_roc_curves(y_test, y_pred_probs_test)"
   ]
  },
  {
   "cell_type": "code",
   "execution_count": 16,
   "id": "1f33b534",
   "metadata": {
    "execution": {
     "iopub.execute_input": "2022-07-08T06:50:06.336656Z",
     "iopub.status.busy": "2022-07-08T06:50:06.336262Z",
     "iopub.status.idle": "2022-07-08T06:50:06.622663Z",
     "shell.execute_reply": "2022-07-08T06:50:06.621513Z"
    },
    "papermill": {
     "duration": 0.300561,
     "end_time": "2022-07-08T06:50:06.625712",
     "exception": false,
     "start_time": "2022-07-08T06:50:06.325151",
     "status": "completed"
    },
    "tags": []
   },
   "outputs": [],
   "source": [
    "logger.log_figure(\"per-digit-roc-curves.png\", fig)"
   ]
  },
  {
   "cell_type": "code",
   "execution_count": 17,
   "id": "e7da490e",
   "metadata": {
    "execution": {
     "iopub.execute_input": "2022-07-08T06:50:06.642483Z",
     "iopub.status.busy": "2022-07-08T06:50:06.641988Z",
     "iopub.status.idle": "2022-07-08T06:50:06.649885Z",
     "shell.execute_reply": "2022-07-08T06:50:06.648924Z"
    },
    "papermill": {
     "duration": 0.018343,
     "end_time": "2022-07-08T06:50:06.652575",
     "exception": false,
     "start_time": "2022-07-08T06:50:06.634232",
     "status": "completed"
    },
    "tags": []
   },
   "outputs": [
    {
     "data": {
      "text/plain": [
       "{'0': 1.0,\n",
       " '1': 0.999025304592315,\n",
       " '2': 1.0,\n",
       " '3': 0.9998875351452671,\n",
       " '4': 0.9996189605243103,\n",
       " '5': 0.9994001874414246,\n",
       " '6': 0.999923792104862,\n",
       " '7': 0.9996951684194483,\n",
       " '8': 0.9950740857503152,\n",
       " '9': 0.9996189605243103}"
      ]
     },
     "execution_count": 17,
     "metadata": {},
     "output_type": "execute_result"
    }
   ],
   "source": [
    "roc_auc_dict"
   ]
  },
  {
   "cell_type": "code",
   "execution_count": 18,
   "id": "519da8ae",
   "metadata": {
    "execution": {
     "iopub.execute_input": "2022-07-08T06:50:06.676198Z",
     "iopub.status.busy": "2022-07-08T06:50:06.675814Z",
     "iopub.status.idle": "2022-07-08T06:50:06.684720Z",
     "shell.execute_reply": "2022-07-08T06:50:06.683845Z"
    },
    "papermill": {
     "duration": 0.028237,
     "end_time": "2022-07-08T06:50:06.687087",
     "exception": false,
     "start_time": "2022-07-08T06:50:06.658850",
     "status": "completed"
    },
    "tags": []
   },
   "outputs": [
    {
     "name": "stdout",
     "output_type": "stream",
     "text": [
      " - Logging roc_auc_per_digit (json) : {'0': 1.0, '1': 0.999025304592315, '2': 1.0, '3': 0.9998875351452671, '4': 0.9996189605243103, '5': 0.9994001874414246, '6': 0.999923792104862, '7': 0.9996951684194483, '8': 0.9950740857503152, '9': 0.9996189605243103}\n"
     ]
    }
   ],
   "source": [
    "logger.log_value(\"roc_auc_per_digit\", roc_auc_dict)"
   ]
  },
  {
   "cell_type": "markdown",
   "id": "903f484d",
   "metadata": {
    "papermill": {
     "duration": 0.007741,
     "end_time": "2022-07-08T06:50:06.702339",
     "exception": false,
     "start_time": "2022-07-08T06:50:06.694598",
     "status": "completed"
    },
    "tags": []
   },
   "source": [
    "### Compute and log mean ROC AUC score averaged over all digits"
   ]
  },
  {
   "cell_type": "code",
   "execution_count": 19,
   "id": "346c41e4",
   "metadata": {
    "execution": {
     "iopub.execute_input": "2022-07-08T06:50:06.716511Z",
     "iopub.status.busy": "2022-07-08T06:50:06.716234Z",
     "iopub.status.idle": "2022-07-08T06:50:06.735762Z",
     "shell.execute_reply": "2022-07-08T06:50:06.734982Z"
    },
    "papermill": {
     "duration": 0.028967,
     "end_time": "2022-07-08T06:50:06.737578",
     "exception": false,
     "start_time": "2022-07-08T06:50:06.708611",
     "status": "completed"
    },
    "tags": []
   },
   "outputs": [
    {
     "name": "stdout",
     "output_type": "stream",
     "text": [
      " - Logging roc_auc_class_mean (float) : 0.9992243994502253\n"
     ]
    }
   ],
   "source": [
    "roc_auc_macro = np.mean(list(roc_auc_dict.values()))\n",
    "\n",
    "logger.log_float(\"roc_auc_class_mean\", roc_auc_macro)\n",
    "\n",
    "# assert that the same value can be computed directly using sklearn\n",
    "assert roc_auc_macro == metrics.roc_auc_score(\n",
    "    y_test, y_pred_probs_test, average=\"macro\", multi_class=\"ovr\"\n",
    ")"
   ]
  },
  {
   "cell_type": "code",
   "execution_count": 20,
   "id": "9f263e0f",
   "metadata": {
    "execution": {
     "iopub.execute_input": "2022-07-08T06:50:06.753468Z",
     "iopub.status.busy": "2022-07-08T06:50:06.753079Z",
     "iopub.status.idle": "2022-07-08T06:50:06.756702Z",
     "shell.execute_reply": "2022-07-08T06:50:06.755930Z"
    },
    "lines_to_next_cell": 0,
    "papermill": {
     "duration": 0.01446,
     "end_time": "2022-07-08T06:50:06.758630",
     "exception": false,
     "start_time": "2022-07-08T06:50:06.744170",
     "status": "completed"
    },
    "tags": []
   },
   "outputs": [],
   "source": [
    "# ---"
   ]
  },
  {
   "cell_type": "code",
   "execution_count": null,
   "id": "def938d6",
   "metadata": {
    "papermill": {
     "duration": 0.005795,
     "end_time": "2022-07-08T06:50:06.770897",
     "exception": false,
     "start_time": "2022-07-08T06:50:06.765102",
     "status": "completed"
    },
    "tags": []
   },
   "outputs": [],
   "source": []
  }
 ],
 "metadata": {
  "jupytext": {
   "cell_metadata_filter": "tags,-all",
   "main_language": "python",
   "notebook_metadata_filter": "-all"
  },
  "language_info": {
   "codemirror_mode": {
    "name": "ipython",
    "version": 3
   },
   "file_extension": ".py",
   "mimetype": "text/x-python",
   "name": "python",
   "nbconvert_exporter": "python",
   "pygments_lexer": "ipython3",
   "version": "3.8.10"
  },
  "papermill": {
   "default_parameters": {},
   "duration": 12.433978,
   "end_time": "2022-07-08T06:50:07.797750",
   "environment_variables": {},
   "exception": null,
   "input_path": "/home/host_user/workspace/mnist-demo-pipeline/mnist-demo-pipeline/notebooks/temp-notebook-u9oq7sam.ipynb",
   "output_path": "notebooks/benchmark-model.ipynb",
   "parameters": {
    "P": {
     "_opentelemetry_traceparent": "00-62cc40efdfab9a316a46122f0e2f0cbb-9524e01deb7ac4ab-01",
     "pipeline.data_lake_root": "/pipeline-outputs/data-lake",
     "pipeline.github.actor": "matiasdahl",
     "pipeline.github.base_ref": "",
     "pipeline.github.event_name": "schedule",
     "pipeline.github.head_ref": "",
     "pipeline.github.job": "run-tests-pipeline-and-persist-pipeline-outputs",
     "pipeline.github.ref": "refs/heads/development",
     "pipeline.github.ref_name": "development",
     "pipeline.github.ref_type": "branch",
     "pipeline.github.repository": "pynb-dag-runner/mnist-digits-demo-pipeline",
     "pipeline.github.run_id": "2634377975",
     "pipeline.github.runner_name": "Hosted Agent",
     "pipeline.github.sha": "147a1be9916173fd4d2cd011d8d51e3411215850",
     "pipeline.github.workflow": "Run automated tests, pipeline and deploy results to static reporting site",
     "pipeline.pipeline_run_id": "2a4fe300-47ae-44e1-b3e9-09f0192b9a3f",
     "pipeline.run_environment": "ci",
     "run.retry_nr": "0",
     "task.max_nr_retries": "1",
     "task.notebook": "notebooks/benchmark-model.py",
     "task.nr_train_images": 1000,
     "task.num_cpus": 1,
     "task.timeout_s": "None"
    }
   },
   "start_time": "2022-07-08T06:49:55.363772",
   "version": "2.3.3"
  }
 },
 "nbformat": 4,
 "nbformat_minor": 5
}