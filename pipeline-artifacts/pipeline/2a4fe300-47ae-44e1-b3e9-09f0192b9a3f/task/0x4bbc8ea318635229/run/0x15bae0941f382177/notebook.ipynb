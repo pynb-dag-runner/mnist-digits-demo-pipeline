{
 "cells": [
  {
   "cell_type": "markdown",
   "id": "cae277bf",
   "metadata": {
    "papermill": {
     "duration": 0.004393,
     "end_time": "2022-07-08T06:49:30.535388",
     "exception": false,
     "start_time": "2022-07-08T06:49:30.530995",
     "status": "completed"
    },
    "tags": []
   },
   "source": [
    "# Train model\n",
    "\n",
    "The purpose of this notebook is:\n",
    "\n",
    "- Load all training data (images and labels).\n",
    "- Limit number of train images to `task.nr_train_images` (value provided as run parameter).\n",
    "- Train a support vector machine model using sklearn.\n",
    "- Persist the trained model using the ONNX format."
   ]
  },
  {
   "cell_type": "markdown",
   "id": "ea35e953",
   "metadata": {
    "papermill": {
     "duration": 0.003246,
     "end_time": "2022-07-08T06:49:30.542390",
     "exception": false,
     "start_time": "2022-07-08T06:49:30.539144",
     "status": "completed"
    },
    "tags": []
   },
   "source": [
    "### Determine run parameters"
   ]
  },
  {
   "cell_type": "code",
   "execution_count": 1,
   "id": "d4c12eb4",
   "metadata": {
    "execution": {
     "iopub.execute_input": "2022-07-08T06:49:30.550636Z",
     "iopub.status.busy": "2022-07-08T06:49:30.550260Z",
     "iopub.status.idle": "2022-07-08T06:49:30.558606Z",
     "shell.execute_reply": "2022-07-08T06:49:30.557819Z"
    },
    "lines_to_next_cell": 0,
    "papermill": {
     "duration": 0.015559,
     "end_time": "2022-07-08T06:49:30.560940",
     "exception": false,
     "start_time": "2022-07-08T06:49:30.545381",
     "status": "completed"
    },
    "tags": []
   },
   "outputs": [],
   "source": [
    "# ----------------- Parameters for interactive development --------------\n",
    "P = {\n",
    "    \"pipeline.data_lake_root\": \"/pipeline-outputs/data-lake\",\n",
    "    \"task.nr_train_images\": 600,\n",
    "}"
   ]
  },
  {
   "cell_type": "code",
   "execution_count": 2,
   "id": "e8e2d0e4",
   "metadata": {
    "execution": {
     "iopub.execute_input": "2022-07-08T06:49:30.571232Z",
     "iopub.status.busy": "2022-07-08T06:49:30.570855Z",
     "iopub.status.idle": "2022-07-08T06:49:30.574699Z",
     "shell.execute_reply": "2022-07-08T06:49:30.573943Z"
    },
    "lines_to_next_cell": 0,
    "papermill": {
     "duration": 0.010037,
     "end_time": "2022-07-08T06:49:30.576522",
     "exception": false,
     "start_time": "2022-07-08T06:49:30.566485",
     "status": "completed"
    },
    "tags": [
     "parameters"
    ]
   },
   "outputs": [],
   "source": [
    "# - During automated runs parameters will be injected in the below cell -"
   ]
  },
  {
   "cell_type": "code",
   "execution_count": 3,
   "id": "a38b9ff1",
   "metadata": {
    "execution": {
     "iopub.execute_input": "2022-07-08T06:49:30.589610Z",
     "iopub.status.busy": "2022-07-08T06:49:30.589253Z",
     "iopub.status.idle": "2022-07-08T06:49:30.594587Z",
     "shell.execute_reply": "2022-07-08T06:49:30.593821Z"
    },
    "papermill": {
     "duration": 0.016026,
     "end_time": "2022-07-08T06:49:30.596504",
     "exception": false,
     "start_time": "2022-07-08T06:49:30.580478",
     "status": "completed"
    },
    "tags": [
     "injected-parameters"
    ]
   },
   "outputs": [],
   "source": [
    "# Parameters\n",
    "P = {\n",
    "    \"pipeline.data_lake_root\": \"/pipeline-outputs/data-lake\",\n",
    "    \"pipeline.run_environment\": \"ci\",\n",
    "    \"pipeline.pipeline_run_id\": \"2a4fe300-47ae-44e1-b3e9-09f0192b9a3f\",\n",
    "    \"pipeline.github.repository\": \"pynb-dag-runner/mnist-digits-demo-pipeline\",\n",
    "    \"pipeline.github.workflow\": \"Run automated tests, pipeline and deploy results to static reporting site\",\n",
    "    \"pipeline.github.runner_name\": \"Hosted Agent\",\n",
    "    \"pipeline.github.run_id\": \"2634377975\",\n",
    "    \"pipeline.github.actor\": \"matiasdahl\",\n",
    "    \"pipeline.github.job\": \"run-tests-pipeline-and-persist-pipeline-outputs\",\n",
    "    \"pipeline.github.base_ref\": \"\",\n",
    "    \"pipeline.github.head_ref\": \"\",\n",
    "    \"pipeline.github.sha\": \"147a1be9916173fd4d2cd011d8d51e3411215850\",\n",
    "    \"pipeline.github.ref\": \"refs/heads/development\",\n",
    "    \"pipeline.github.ref_type\": \"branch\",\n",
    "    \"pipeline.github.ref_name\": \"development\",\n",
    "    \"pipeline.github.event_name\": \"schedule\",\n",
    "    \"task.nr_train_images\": 1200,\n",
    "    \"task.notebook\": \"notebooks/train-model.py\",\n",
    "    \"task.max_nr_retries\": \"1\",\n",
    "    \"run.retry_nr\": \"0\",\n",
    "    \"task.timeout_s\": \"None\",\n",
    "    \"task.num_cpus\": 1,\n",
    "    \"_opentelemetry_traceparent\": \"00-62cc40efdfab9a316a46122f0e2f0cbb-c4ed9c15f8f5b2b3-01\",\n",
    "}\n"
   ]
  },
  {
   "cell_type": "code",
   "execution_count": 4,
   "id": "9dfaaa3d",
   "metadata": {
    "execution": {
     "iopub.execute_input": "2022-07-08T06:49:30.604848Z",
     "iopub.status.busy": "2022-07-08T06:49:30.604480Z",
     "iopub.status.idle": "2022-07-08T06:49:30.609708Z",
     "shell.execute_reply": "2022-07-08T06:49:30.608720Z"
    },
    "lines_to_next_cell": 0,
    "papermill": {
     "duration": 0.012076,
     "end_time": "2022-07-08T06:49:30.612096",
     "exception": false,
     "start_time": "2022-07-08T06:49:30.600020",
     "status": "completed"
    },
    "tags": []
   },
   "outputs": [],
   "source": [
    "# -----------------------------------------------------------------------"
   ]
  },
  {
   "cell_type": "markdown",
   "id": "cfe437b7",
   "metadata": {
    "papermill": {
     "duration": 0.003374,
     "end_time": "2022-07-08T06:49:30.618849",
     "exception": false,
     "start_time": "2022-07-08T06:49:30.615475",
     "status": "completed"
    },
    "tags": []
   },
   "source": [
    "---"
   ]
  },
  {
   "cell_type": "markdown",
   "id": "b935bd50",
   "metadata": {
    "lines_to_next_cell": 2,
    "papermill": {
     "duration": 0.003386,
     "end_time": "2022-07-08T06:49:30.625684",
     "exception": false,
     "start_time": "2022-07-08T06:49:30.622298",
     "status": "completed"
    },
    "tags": []
   },
   "source": [
    "### Notebook code"
   ]
  },
  {
   "cell_type": "code",
   "execution_count": 5,
   "id": "e0e84054",
   "metadata": {
    "execution": {
     "iopub.execute_input": "2022-07-08T06:49:30.633528Z",
     "iopub.status.busy": "2022-07-08T06:49:30.633098Z",
     "iopub.status.idle": "2022-07-08T06:49:31.150868Z",
     "shell.execute_reply": "2022-07-08T06:49:31.149653Z"
    },
    "papermill": {
     "duration": 0.524296,
     "end_time": "2022-07-08T06:49:31.153124",
     "exception": false,
     "start_time": "2022-07-08T06:49:30.628828",
     "status": "completed"
    },
    "tags": []
   },
   "outputs": [
    {
     "name": "stderr",
     "output_type": "stream",
     "text": [
      "2022-07-08 06:49:30,989\tINFO worker.py:842 -- Connecting to existing Ray cluster at address: 172.17.0.2:6379\n"
     ]
    }
   ],
   "source": [
    "from pynb_dag_runner.tasks.task_opentelemetry_logging import PydarLogger\n",
    "\n",
    "logger = PydarLogger(P)"
   ]
  },
  {
   "cell_type": "markdown",
   "id": "4892240a",
   "metadata": {
    "papermill": {
     "duration": 0.003413,
     "end_time": "2022-07-08T06:49:31.160675",
     "exception": false,
     "start_time": "2022-07-08T06:49:31.157262",
     "status": "completed"
    },
    "tags": []
   },
   "source": [
    "## Load and limit train data"
   ]
  },
  {
   "cell_type": "code",
   "execution_count": 6,
   "id": "54674b2d",
   "metadata": {
    "execution": {
     "iopub.execute_input": "2022-07-08T06:49:31.170467Z",
     "iopub.status.busy": "2022-07-08T06:49:31.170114Z",
     "iopub.status.idle": "2022-07-08T06:49:31.663729Z",
     "shell.execute_reply": "2022-07-08T06:49:31.662731Z"
    },
    "papermill": {
     "duration": 0.502172,
     "end_time": "2022-07-08T06:49:31.666042",
     "exception": false,
     "start_time": "2022-07-08T06:49:31.163870",
     "status": "completed"
    },
    "tags": []
   },
   "outputs": [],
   "source": [
    "def load_and_limit_train_data(P):\n",
    "    from common.io import datalake_root, read_numpy\n",
    "    from sklearn.model_selection import train_test_split\n",
    "\n",
    "    X_train_all = read_numpy(datalake_root(P) / \"train-data\" / \"digits.numpy\")\n",
    "    y_train_all = read_numpy(datalake_root(P) / \"train-data\" / \"labels.numpy\")\n",
    "\n",
    "    assert isinstance(P[\"task.nr_train_images\"], int)\n",
    "\n",
    "    # Note: train_test_split will fail if split is 0 or 100%.\n",
    "    assert 0 < P[\"task.nr_train_images\"] < len(y_train_all)\n",
    "\n",
    "    X_train, _, y_train, _ = train_test_split(\n",
    "        X_train_all,\n",
    "        y_train_all,\n",
    "        train_size=P[\"task.nr_train_images\"],\n",
    "        test_size=None,\n",
    "        stratify=y_train_all,\n",
    "        shuffle=True,\n",
    "        random_state=123,\n",
    "    )\n",
    "\n",
    "    assert X_train.shape == (len(y_train), 8 * 8)\n",
    "    return X_train, y_train\n",
    "\n",
    "\n",
    "X_train, y_train = load_and_limit_train_data(P)"
   ]
  },
  {
   "cell_type": "markdown",
   "id": "670f9bd6",
   "metadata": {
    "papermill": {
     "duration": 0.003578,
     "end_time": "2022-07-08T06:49:31.675223",
     "exception": false,
     "start_time": "2022-07-08T06:49:31.671645",
     "status": "completed"
    },
    "tags": []
   },
   "source": [
    "## Train support vector classifier model\n",
    "\n",
    "Below we assume that the hyperparameter $C$ is known.\n",
    "\n",
    "However, this should ideally be found by a hyperparameter search. That could be\n",
    "done in parallel on the Ray cluster, but this needs some more work. Ie., to use\n",
    "multiple cores in the notebook, those cores should be reserved when starting the\n",
    "notebook task (TODO).\n",
    "\n",
    "- https://docs.ray.io/en/latest/tune/key-concepts.html\n",
    "\n",
    "Note: cv-scores would need to be computed here, since they depend on the train data.\n",
    "After this notebook only the onnx-model is available."
   ]
  },
  {
   "cell_type": "code",
   "execution_count": 7,
   "id": "4bc9c269",
   "metadata": {
    "execution": {
     "iopub.execute_input": "2022-07-08T06:49:31.684052Z",
     "iopub.status.busy": "2022-07-08T06:49:31.683431Z",
     "iopub.status.idle": "2022-07-08T06:49:31.708962Z",
     "shell.execute_reply": "2022-07-08T06:49:31.707880Z"
    },
    "papermill": {
     "duration": 0.031916,
     "end_time": "2022-07-08T06:49:31.710736",
     "exception": false,
     "start_time": "2022-07-08T06:49:31.678820",
     "status": "completed"
    },
    "tags": []
   },
   "outputs": [],
   "source": [
    "from sklearn.svm import SVC"
   ]
  },
  {
   "cell_type": "code",
   "execution_count": 8,
   "id": "985895b4",
   "metadata": {
    "execution": {
     "iopub.execute_input": "2022-07-08T06:49:31.720614Z",
     "iopub.status.busy": "2022-07-08T06:49:31.720206Z",
     "iopub.status.idle": "2022-07-08T06:49:31.991084Z",
     "shell.execute_reply": "2022-07-08T06:49:31.990352Z"
    },
    "papermill": {
     "duration": 0.279142,
     "end_time": "2022-07-08T06:49:31.993748",
     "exception": false,
     "start_time": "2022-07-08T06:49:31.714606",
     "status": "completed"
    },
    "tags": []
   },
   "outputs": [
    {
     "data": {
      "text/plain": [
       "SVC(C=0.001, kernel='linear', probability=True)"
      ]
     },
     "execution_count": 8,
     "metadata": {},
     "output_type": "execute_result"
    }
   ],
   "source": [
    "model = SVC(C=0.001, kernel=\"linear\", probability=True)\n",
    "\n",
    "model.fit(X_train, y_train)"
   ]
  },
  {
   "cell_type": "markdown",
   "id": "94d5b355",
   "metadata": {
    "papermill": {
     "duration": 0.003941,
     "end_time": "2022-07-08T06:49:32.001851",
     "exception": false,
     "start_time": "2022-07-08T06:49:31.997910",
     "status": "completed"
    },
    "tags": []
   },
   "source": [
    "### Q: Can the labels returned by `predict(..)` be computed from probabilities returned by the `predict_prob`-method?"
   ]
  },
  {
   "cell_type": "code",
   "execution_count": 9,
   "id": "9238d532",
   "metadata": {
    "execution": {
     "iopub.execute_input": "2022-07-08T06:49:32.011982Z",
     "iopub.status.busy": "2022-07-08T06:49:32.011321Z",
     "iopub.status.idle": "2022-07-08T06:49:32.126270Z",
     "shell.execute_reply": "2022-07-08T06:49:32.124859Z"
    },
    "papermill": {
     "duration": 0.121975,
     "end_time": "2022-07-08T06:49:32.128418",
     "exception": false,
     "start_time": "2022-07-08T06:49:32.006443",
     "status": "completed"
    },
    "tags": []
   },
   "outputs": [
    {
     "name": "stdout",
     "output_type": "stream",
     "text": [
      " - Logging nr_max_prob_neq_label (int) : 2\n"
     ]
    }
   ],
   "source": [
    "import numpy as np\n",
    "\n",
    "y_train_labels = model.predict(X_train)\n",
    "y_train_probabilities = model.predict_proba(X_train)\n",
    "assert y_train_probabilities.shape == (len(y_train), 10)\n",
    "\n",
    "y_train_max_prob_labels = np.argmax(y_train_probabilities, axis=1)\n",
    "assert y_train_labels.shape == y_train_max_prob_labels.shape == y_train.shape\n",
    "\n",
    "# If the predicted labels would coincide with the labels that have\n",
    "# maximum probability, the below number would be zero\n",
    "logger.log_int(\n",
    "    \"nr_max_prob_neq_label\", int(sum(y_train_max_prob_labels != y_train_labels))\n",
    ")"
   ]
  },
  {
   "cell_type": "markdown",
   "id": "1eca9019",
   "metadata": {
    "papermill": {
     "duration": 0.004523,
     "end_time": "2022-07-08T06:49:32.137310",
     "exception": false,
     "start_time": "2022-07-08T06:49:32.132787",
     "status": "completed"
    },
    "tags": []
   },
   "source": [
    "The explanation is (likely) explained in the SVC source, see\n",
    "[here](https://github.com/scikit-learn/scikit-learn/blob/main/sklearn/svm/_base.py).\n",
    "Namely, the outputs from `predict(..)` and `predict_proba(..)` may not in some\n",
    "cases be compatible since the latter is computed using cross-validation while\n",
    "the former is not. Thus, the above number need not be zero."
   ]
  },
  {
   "cell_type": "markdown",
   "id": "c0f6b5e2",
   "metadata": {
    "papermill": {
     "duration": 0.003677,
     "end_time": "2022-07-08T06:49:32.144650",
     "exception": false,
     "start_time": "2022-07-08T06:49:32.140973",
     "status": "completed"
    },
    "tags": []
   },
   "source": [
    "## Persist model"
   ]
  },
  {
   "cell_type": "code",
   "execution_count": 10,
   "id": "7789f291",
   "metadata": {
    "execution": {
     "iopub.execute_input": "2022-07-08T06:49:32.155455Z",
     "iopub.status.busy": "2022-07-08T06:49:32.155095Z",
     "iopub.status.idle": "2022-07-08T06:49:33.124932Z",
     "shell.execute_reply": "2022-07-08T06:49:33.124113Z"
    },
    "papermill": {
     "duration": 0.976999,
     "end_time": "2022-07-08T06:49:33.126879",
     "exception": false,
     "start_time": "2022-07-08T06:49:32.149880",
     "status": "completed"
    },
    "tags": []
   },
   "outputs": [],
   "source": [
    "from skl2onnx import convert_sklearn\n",
    "from skl2onnx.common.data_types import FloatTensorType\n",
    "\n",
    "#\n",
    "from common.io import datalake_root, write_onnx"
   ]
  },
  {
   "cell_type": "code",
   "execution_count": 11,
   "id": "e22ce998",
   "metadata": {
    "execution": {
     "iopub.execute_input": "2022-07-08T06:49:33.137041Z",
     "iopub.status.busy": "2022-07-08T06:49:33.136660Z",
     "iopub.status.idle": "2022-07-08T06:49:33.208989Z",
     "shell.execute_reply": "2022-07-08T06:49:33.208049Z"
    },
    "papermill": {
     "duration": 0.079953,
     "end_time": "2022-07-08T06:49:33.211041",
     "exception": false,
     "start_time": "2022-07-08T06:49:33.131088",
     "status": "completed"
    },
    "tags": []
   },
   "outputs": [],
   "source": [
    "# convert sklearn model into onnx and persist to data lake\n",
    "\n",
    "model_onnx = convert_sklearn(\n",
    "    model, initial_types=[(\"float_input_8x8_image\", FloatTensorType([None, 8 * 8]))]\n",
    ")\n",
    "write_onnx(\n",
    "    datalake_root(P)\n",
    "    / \"models\"\n",
    "    / f\"nr_train_images={P['task.nr_train_images']}\"\n",
    "    / \"model.onnx\",\n",
    "    model_onnx,\n",
    ")"
   ]
  },
  {
   "cell_type": "code",
   "execution_count": null,
   "id": "7e56ffd4",
   "metadata": {
    "papermill": {
     "duration": 0.006012,
     "end_time": "2022-07-08T06:49:33.221673",
     "exception": false,
     "start_time": "2022-07-08T06:49:33.215661",
     "status": "completed"
    },
    "tags": []
   },
   "outputs": [],
   "source": []
  }
 ],
 "metadata": {
  "jupytext": {
   "cell_metadata_filter": "tags,-all",
   "main_language": "python",
   "notebook_metadata_filter": "-all"
  },
  "language_info": {
   "codemirror_mode": {
    "name": "ipython",
    "version": 3
   },
   "file_extension": ".py",
   "mimetype": "text/x-python",
   "name": "python",
   "nbconvert_exporter": "python",
   "pygments_lexer": "ipython3",
   "version": "3.8.10"
  },
  "papermill": {
   "default_parameters": {},
   "duration": 5.44187,
   "end_time": "2022-07-08T06:49:34.456070",
   "environment_variables": {},
   "exception": null,
   "input_path": "/home/host_user/workspace/mnist-demo-pipeline/mnist-demo-pipeline/notebooks/temp-notebook-bs8mtuzs.ipynb",
   "output_path": "notebooks/train-model.ipynb",
   "parameters": {
    "P": {
     "_opentelemetry_traceparent": "00-62cc40efdfab9a316a46122f0e2f0cbb-c4ed9c15f8f5b2b3-01",
     "pipeline.data_lake_root": "/pipeline-outputs/data-lake",
     "pipeline.github.actor": "matiasdahl",
     "pipeline.github.base_ref": "",
     "pipeline.github.event_name": "schedule",
     "pipeline.github.head_ref": "",
     "pipeline.github.job": "run-tests-pipeline-and-persist-pipeline-outputs",
     "pipeline.github.ref": "refs/heads/development",
     "pipeline.github.ref_name": "development",
     "pipeline.github.ref_type": "branch",
     "pipeline.github.repository": "pynb-dag-runner/mnist-digits-demo-pipeline",
     "pipeline.github.run_id": "2634377975",
     "pipeline.github.runner_name": "Hosted Agent",
     "pipeline.github.sha": "147a1be9916173fd4d2cd011d8d51e3411215850",
     "pipeline.github.workflow": "Run automated tests, pipeline and deploy results to static reporting site",
     "pipeline.pipeline_run_id": "2a4fe300-47ae-44e1-b3e9-09f0192b9a3f",
     "pipeline.run_environment": "ci",
     "run.retry_nr": "0",
     "task.max_nr_retries": "1",
     "task.notebook": "notebooks/train-model.py",
     "task.nr_train_images": 1200,
     "task.num_cpus": 1,
     "task.timeout_s": "None"
    }
   },
   "start_time": "2022-07-08T06:49:29.014200",
   "version": "2.3.3"
  }
 },
 "nbformat": 4,
 "nbformat_minor": 5
}