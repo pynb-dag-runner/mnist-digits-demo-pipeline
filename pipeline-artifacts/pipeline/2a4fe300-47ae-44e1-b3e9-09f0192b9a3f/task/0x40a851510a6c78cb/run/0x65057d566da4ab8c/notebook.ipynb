{
 "cells": [
  {
   "cell_type": "markdown",
   "id": "9875cdeb",
   "metadata": {
    "papermill": {
     "duration": 0.019965,
     "end_time": "2022-07-08T06:50:10.535863",
     "exception": false,
     "start_time": "2022-07-08T06:50:10.515898",
     "status": "completed"
    },
    "tags": []
   },
   "source": [
    "# Summarize model performances\n",
    "\n",
    "This notebooks plots the performances (using averaged ROC AUC scores) for models\n",
    "trained with different training sets."
   ]
  },
  {
   "cell_type": "markdown",
   "id": "4d493a25",
   "metadata": {
    "papermill": {
     "duration": 0.003472,
     "end_time": "2022-07-08T06:50:10.542796",
     "exception": false,
     "start_time": "2022-07-08T06:50:10.539324",
     "status": "completed"
    },
    "tags": []
   },
   "source": [
    "### Determine run parameters"
   ]
  },
  {
   "cell_type": "code",
   "execution_count": 1,
   "id": "39cf07fb",
   "metadata": {
    "execution": {
     "iopub.execute_input": "2022-07-08T06:50:10.551155Z",
     "iopub.status.busy": "2022-07-08T06:50:10.550532Z",
     "iopub.status.idle": "2022-07-08T06:50:10.560785Z",
     "shell.execute_reply": "2022-07-08T06:50:10.559727Z"
    },
    "lines_to_next_cell": 0,
    "papermill": {
     "duration": 0.017235,
     "end_time": "2022-07-08T06:50:10.562930",
     "exception": false,
     "start_time": "2022-07-08T06:50:10.545695",
     "status": "completed"
    },
    "tags": []
   },
   "outputs": [],
   "source": [
    "# ----------------- Parameters for interactive development --------------\n",
    "P = {\n",
    "    \"pipeline.run_environment\": \"dev\",\n",
    "}"
   ]
  },
  {
   "cell_type": "code",
   "execution_count": 2,
   "id": "ebfcacb3",
   "metadata": {
    "execution": {
     "iopub.execute_input": "2022-07-08T06:50:10.571173Z",
     "iopub.status.busy": "2022-07-08T06:50:10.570785Z",
     "iopub.status.idle": "2022-07-08T06:50:10.575287Z",
     "shell.execute_reply": "2022-07-08T06:50:10.574374Z"
    },
    "lines_to_next_cell": 0,
    "papermill": {
     "duration": 0.011077,
     "end_time": "2022-07-08T06:50:10.577286",
     "exception": false,
     "start_time": "2022-07-08T06:50:10.566209",
     "status": "completed"
    },
    "tags": [
     "parameters"
    ]
   },
   "outputs": [],
   "source": [
    "# - During automated runs parameters will be injected in the below cell -"
   ]
  },
  {
   "cell_type": "code",
   "execution_count": 3,
   "id": "94567132",
   "metadata": {
    "execution": {
     "iopub.execute_input": "2022-07-08T06:50:10.584836Z",
     "iopub.status.busy": "2022-07-08T06:50:10.584554Z",
     "iopub.status.idle": "2022-07-08T06:50:10.590257Z",
     "shell.execute_reply": "2022-07-08T06:50:10.589010Z"
    },
    "papermill": {
     "duration": 0.012208,
     "end_time": "2022-07-08T06:50:10.592365",
     "exception": false,
     "start_time": "2022-07-08T06:50:10.580157",
     "status": "completed"
    },
    "tags": [
     "injected-parameters"
    ]
   },
   "outputs": [],
   "source": [
    "# Parameters\n",
    "P = {\n",
    "    \"pipeline.data_lake_root\": \"/pipeline-outputs/data-lake\",\n",
    "    \"pipeline.run_environment\": \"ci\",\n",
    "    \"pipeline.pipeline_run_id\": \"2a4fe300-47ae-44e1-b3e9-09f0192b9a3f\",\n",
    "    \"pipeline.github.repository\": \"pynb-dag-runner/mnist-digits-demo-pipeline\",\n",
    "    \"pipeline.github.workflow\": \"Run automated tests, pipeline and deploy results to static reporting site\",\n",
    "    \"pipeline.github.runner_name\": \"Hosted Agent\",\n",
    "    \"pipeline.github.run_id\": \"2634377975\",\n",
    "    \"pipeline.github.actor\": \"matiasdahl\",\n",
    "    \"pipeline.github.job\": \"run-tests-pipeline-and-persist-pipeline-outputs\",\n",
    "    \"pipeline.github.base_ref\": \"\",\n",
    "    \"pipeline.github.head_ref\": \"\",\n",
    "    \"pipeline.github.sha\": \"147a1be9916173fd4d2cd011d8d51e3411215850\",\n",
    "    \"pipeline.github.ref\": \"refs/heads/development\",\n",
    "    \"pipeline.github.ref_type\": \"branch\",\n",
    "    \"pipeline.github.ref_name\": \"development\",\n",
    "    \"pipeline.github.event_name\": \"schedule\",\n",
    "    \"task.notebook\": \"notebooks/summary.py\",\n",
    "    \"task.max_nr_retries\": \"1\",\n",
    "    \"run.retry_nr\": \"0\",\n",
    "    \"task.timeout_s\": \"None\",\n",
    "    \"task.num_cpus\": 1,\n",
    "    \"_opentelemetry_traceparent\": \"00-62cc40efdfab9a316a46122f0e2f0cbb-43c56b7797d0156f-01\",\n",
    "}\n"
   ]
  },
  {
   "cell_type": "code",
   "execution_count": 4,
   "id": "273306d2",
   "metadata": {
    "execution": {
     "iopub.execute_input": "2022-07-08T06:50:10.601065Z",
     "iopub.status.busy": "2022-07-08T06:50:10.600558Z",
     "iopub.status.idle": "2022-07-08T06:50:10.604577Z",
     "shell.execute_reply": "2022-07-08T06:50:10.603637Z"
    },
    "lines_to_next_cell": 0,
    "papermill": {
     "duration": 0.010245,
     "end_time": "2022-07-08T06:50:10.606527",
     "exception": false,
     "start_time": "2022-07-08T06:50:10.596282",
     "status": "completed"
    },
    "tags": []
   },
   "outputs": [],
   "source": [
    "# -----------------------------------------------------------------------"
   ]
  },
  {
   "cell_type": "markdown",
   "id": "5eb8b6da",
   "metadata": {
    "papermill": {
     "duration": 0.003279,
     "end_time": "2022-07-08T06:50:10.613113",
     "exception": false,
     "start_time": "2022-07-08T06:50:10.609834",
     "status": "completed"
    },
    "tags": []
   },
   "source": [
    "---"
   ]
  },
  {
   "cell_type": "markdown",
   "id": "6af16f3e",
   "metadata": {
    "lines_to_next_cell": 2,
    "papermill": {
     "duration": 0.003144,
     "end_time": "2022-07-08T06:50:10.619275",
     "exception": false,
     "start_time": "2022-07-08T06:50:10.616131",
     "status": "completed"
    },
    "tags": []
   },
   "source": [
    "### Notebook code"
   ]
  },
  {
   "cell_type": "code",
   "execution_count": 5,
   "id": "ab32b62f",
   "metadata": {
    "execution": {
     "iopub.execute_input": "2022-07-08T06:50:10.627215Z",
     "iopub.status.busy": "2022-07-08T06:50:10.626942Z",
     "iopub.status.idle": "2022-07-08T06:50:11.999454Z",
     "shell.execute_reply": "2022-07-08T06:50:11.998435Z"
    },
    "papermill": {
     "duration": 1.38039,
     "end_time": "2022-07-08T06:50:12.002984",
     "exception": false,
     "start_time": "2022-07-08T06:50:10.622594",
     "status": "completed"
    },
    "tags": []
   },
   "outputs": [],
   "source": [
    "#\n",
    "import pandas as pd\n",
    "import matplotlib.pyplot as plt\n",
    "\n",
    "#\n",
    "from pynb_dag_runner.tasks.task_opentelemetry_logging import PydarLogger"
   ]
  },
  {
   "cell_type": "code",
   "execution_count": 6,
   "id": "655fb31e",
   "metadata": {
    "execution": {
     "iopub.execute_input": "2022-07-08T06:50:12.012123Z",
     "iopub.status.busy": "2022-07-08T06:50:12.011636Z",
     "iopub.status.idle": "2022-07-08T06:50:12.186059Z",
     "shell.execute_reply": "2022-07-08T06:50:12.184539Z"
    },
    "papermill": {
     "duration": 0.182713,
     "end_time": "2022-07-08T06:50:12.190088",
     "exception": false,
     "start_time": "2022-07-08T06:50:12.007375",
     "status": "completed"
    },
    "tags": []
   },
   "outputs": [
    {
     "name": "stderr",
     "output_type": "stream",
     "text": [
      "2022-07-08 06:50:12,018\tINFO worker.py:842 -- Connecting to existing Ray cluster at address: 172.17.0.2:6379\n"
     ]
    }
   ],
   "source": [
    "logger = PydarLogger(P=P)"
   ]
  },
  {
   "cell_type": "code",
   "execution_count": 7,
   "id": "69e00d57",
   "metadata": {
    "execution": {
     "iopub.execute_input": "2022-07-08T06:50:12.199761Z",
     "iopub.status.busy": "2022-07-08T06:50:12.199400Z",
     "iopub.status.idle": "2022-07-08T06:50:12.203753Z",
     "shell.execute_reply": "2022-07-08T06:50:12.202966Z"
    },
    "papermill": {
     "duration": 0.013767,
     "end_time": "2022-07-08T06:50:12.208366",
     "exception": false,
     "start_time": "2022-07-08T06:50:12.194599",
     "status": "completed"
    },
    "tags": []
   },
   "outputs": [],
   "source": [
    "from pynb_dag_runner.tasks.task_opentelemetry_logging import (\n",
    "    PydarLogger,\n",
    "    get_logged_values,\n",
    ")\n",
    "from pynb_dag_runner.opentelemetry_helpers import _get_all_spans, Spans"
   ]
  },
  {
   "cell_type": "code",
   "execution_count": 8,
   "id": "e39a2a63",
   "metadata": {
    "execution": {
     "iopub.execute_input": "2022-07-08T06:50:12.217902Z",
     "iopub.status.busy": "2022-07-08T06:50:12.217628Z",
     "iopub.status.idle": "2022-07-08T06:50:12.227696Z",
     "shell.execute_reply": "2022-07-08T06:50:12.226621Z"
    },
    "papermill": {
     "duration": 0.016739,
     "end_time": "2022-07-08T06:50:12.230014",
     "exception": false,
     "start_time": "2022-07-08T06:50:12.213275",
     "status": "completed"
    },
    "tags": []
   },
   "outputs": [],
   "source": [
    "def get_model_benchmarks():\n",
    "    \"\"\"\n",
    "    Query the OpenTelemetry logs for *this pipeline run* and return\n",
    "    all key-values logged from all runs of the benchmark-model.py task\n",
    "\n",
    "    For testing a json file with OpenTelemetry spans (as an array)\n",
    "    can be used as follows:\n",
    "\n",
    "    - Create output directory `mkdir /tmp/spans`\n",
    "    - Run unit tests. This will create pipeline-outputs/opentelemetry-spans.json\n",
    "    - Convert this json-array into jsonl format as follows\n",
    "\n",
    "    jq -c '.[]' /pipeline-outputs/opentelemetry-spans.json > /tmp/spans/data.txt\n",
    "\n",
    "    \"\"\"\n",
    "    spans: Spans = Spans(_get_all_spans())\n",
    "    print(f\"Found {len(spans)} spans\")\n",
    "\n",
    "    benchmark_spans = (\n",
    "        spans\n",
    "        # -\n",
    "        .filter([\"name\"], \"execute-task\")\n",
    "        # -\n",
    "        .filter([\"attributes\", \"task.notebook\"], \"notebooks/benchmark-model.py\")\n",
    "    )\n",
    "\n",
    "    result = []\n",
    "    for s in benchmark_spans:\n",
    "        result.append(\n",
    "            {\n",
    "                \"span_id\": s[\"context\"][\"span_id\"],\n",
    "                \"nr_train_images\": s[\"attributes\"][\"task.nr_train_images\"],\n",
    "                \"data\": get_logged_values(spans.bound_under(s)),\n",
    "            }\n",
    "        )\n",
    "\n",
    "    return result\n",
    "\n",
    "\n",
    "def adjust_pandas(df):\n",
    "    def column_renamer(col_name: str) -> str:\n",
    "        return (\n",
    "            col_name\n",
    "            # -- 'data.roc_auc_per_digit.4' -> 'roc_auc.4'\n",
    "            .replace(\"data.roc_auc_per_digit\", \"roc_auc\")\n",
    "            # -- 'data.roc_auc_class_mean' -> 'roc_auc_mean'\n",
    "            .replace(\"data.roc_auc_class_mean\", \"roc_auc_mean\")\n",
    "        )\n",
    "\n",
    "    return df.rename(column_renamer, axis=\"columns\").sort_values(by=\"nr_train_images\")"
   ]
  },
  {
   "cell_type": "code",
   "execution_count": 9,
   "id": "667a9833",
   "metadata": {
    "execution": {
     "iopub.execute_input": "2022-07-08T06:50:12.238337Z",
     "iopub.status.busy": "2022-07-08T06:50:12.237679Z",
     "iopub.status.idle": "2022-07-08T06:50:38.368599Z",
     "shell.execute_reply": "2022-07-08T06:50:38.367413Z"
    },
    "papermill": {
     "duration": 26.137548,
     "end_time": "2022-07-08T06:50:38.371076",
     "exception": false,
     "start_time": "2022-07-08T06:50:12.233528",
     "status": "completed"
    },
    "tags": []
   },
   "outputs": [
    {
     "name": "stdout",
     "output_type": "stream",
     "text": [
      "Found 420 spans\n"
     ]
    }
   ],
   "source": [
    "df_data = adjust_pandas(pd.json_normalize(get_model_benchmarks()))"
   ]
  },
  {
   "cell_type": "code",
   "execution_count": 10,
   "id": "d13a2b8a",
   "metadata": {
    "execution": {
     "iopub.execute_input": "2022-07-08T06:50:38.380872Z",
     "iopub.status.busy": "2022-07-08T06:50:38.380487Z",
     "iopub.status.idle": "2022-07-08T06:50:38.413302Z",
     "shell.execute_reply": "2022-07-08T06:50:38.412396Z"
    },
    "papermill": {
     "duration": 0.040465,
     "end_time": "2022-07-08T06:50:38.416097",
     "exception": false,
     "start_time": "2022-07-08T06:50:38.375632",
     "status": "completed"
    },
    "tags": []
   },
   "outputs": [
    {
     "data": {
      "text/html": [
       "<div>\n",
       "<style scoped>\n",
       "    .dataframe tbody tr th:only-of-type {\n",
       "        vertical-align: middle;\n",
       "    }\n",
       "\n",
       "    .dataframe tbody tr th {\n",
       "        vertical-align: top;\n",
       "    }\n",
       "\n",
       "    .dataframe thead th {\n",
       "        text-align: right;\n",
       "    }\n",
       "</style>\n",
       "<table border=\"1\" class=\"dataframe\">\n",
       "  <thead>\n",
       "    <tr style=\"text-align: right;\">\n",
       "      <th></th>\n",
       "      <th>span_id</th>\n",
       "      <th>nr_train_images</th>\n",
       "      <th>roc_auc_mean</th>\n",
       "      <th>roc_auc.0</th>\n",
       "      <th>roc_auc.1</th>\n",
       "      <th>roc_auc.2</th>\n",
       "      <th>roc_auc.3</th>\n",
       "      <th>roc_auc.4</th>\n",
       "      <th>roc_auc.5</th>\n",
       "      <th>roc_auc.6</th>\n",
       "      <th>roc_auc.7</th>\n",
       "      <th>roc_auc.8</th>\n",
       "      <th>roc_auc.9</th>\n",
       "    </tr>\n",
       "  </thead>\n",
       "  <tbody>\n",
       "    <tr>\n",
       "      <th>3</th>\n",
       "      <td>0x1b8a722276595433</td>\n",
       "      <td>600</td>\n",
       "      <td>0.9990</td>\n",
       "      <td>1.0</td>\n",
       "      <td>0.9992</td>\n",
       "      <td>1.0</td>\n",
       "      <td>0.9999</td>\n",
       "      <td>0.9992</td>\n",
       "      <td>0.9988</td>\n",
       "      <td>1.0000</td>\n",
       "      <td>0.9998</td>\n",
       "      <td>0.9942</td>\n",
       "      <td>0.9987</td>\n",
       "    </tr>\n",
       "    <tr>\n",
       "      <th>0</th>\n",
       "      <td>0xe727a88c68787540</td>\n",
       "      <td>800</td>\n",
       "      <td>0.9989</td>\n",
       "      <td>1.0</td>\n",
       "      <td>0.9988</td>\n",
       "      <td>1.0</td>\n",
       "      <td>0.9998</td>\n",
       "      <td>0.9994</td>\n",
       "      <td>0.9988</td>\n",
       "      <td>1.0000</td>\n",
       "      <td>0.9999</td>\n",
       "      <td>0.9930</td>\n",
       "      <td>0.9994</td>\n",
       "    </tr>\n",
       "    <tr>\n",
       "      <th>2</th>\n",
       "      <td>0x9999ccea97f70443</td>\n",
       "      <td>1000</td>\n",
       "      <td>0.9992</td>\n",
       "      <td>1.0</td>\n",
       "      <td>0.9990</td>\n",
       "      <td>1.0</td>\n",
       "      <td>0.9999</td>\n",
       "      <td>0.9996</td>\n",
       "      <td>0.9994</td>\n",
       "      <td>0.9999</td>\n",
       "      <td>0.9997</td>\n",
       "      <td>0.9951</td>\n",
       "      <td>0.9996</td>\n",
       "    </tr>\n",
       "    <tr>\n",
       "      <th>1</th>\n",
       "      <td>0x74e04ffcf061a0b1</td>\n",
       "      <td>1200</td>\n",
       "      <td>0.9993</td>\n",
       "      <td>1.0</td>\n",
       "      <td>0.9990</td>\n",
       "      <td>1.0</td>\n",
       "      <td>0.9999</td>\n",
       "      <td>0.9997</td>\n",
       "      <td>0.9997</td>\n",
       "      <td>0.9999</td>\n",
       "      <td>0.9998</td>\n",
       "      <td>0.9957</td>\n",
       "      <td>0.9998</td>\n",
       "    </tr>\n",
       "  </tbody>\n",
       "</table>\n",
       "</div>"
      ],
      "text/plain": [
       "              span_id  nr_train_images  roc_auc_mean  roc_auc.0  roc_auc.1  \\\n",
       "3  0x1b8a722276595433              600        0.9990        1.0     0.9992   \n",
       "0  0xe727a88c68787540              800        0.9989        1.0     0.9988   \n",
       "2  0x9999ccea97f70443             1000        0.9992        1.0     0.9990   \n",
       "1  0x74e04ffcf061a0b1             1200        0.9993        1.0     0.9990   \n",
       "\n",
       "   roc_auc.2  roc_auc.3  roc_auc.4  roc_auc.5  roc_auc.6  roc_auc.7  \\\n",
       "3        1.0     0.9999     0.9992     0.9988     1.0000     0.9998   \n",
       "0        1.0     0.9998     0.9994     0.9988     1.0000     0.9999   \n",
       "2        1.0     0.9999     0.9996     0.9994     0.9999     0.9997   \n",
       "1        1.0     0.9999     0.9997     0.9997     0.9999     0.9998   \n",
       "\n",
       "   roc_auc.8  roc_auc.9  \n",
       "3     0.9942     0.9987  \n",
       "0     0.9930     0.9994  \n",
       "2     0.9951     0.9996  \n",
       "1     0.9957     0.9998  "
      ]
     },
     "execution_count": 10,
     "metadata": {},
     "output_type": "execute_result"
    }
   ],
   "source": [
    "df_data.round(4)"
   ]
  },
  {
   "cell_type": "code",
   "execution_count": 11,
   "id": "3cf141ce",
   "metadata": {
    "execution": {
     "iopub.execute_input": "2022-07-08T06:50:38.425454Z",
     "iopub.status.busy": "2022-07-08T06:50:38.425190Z",
     "iopub.status.idle": "2022-07-08T06:50:38.615562Z",
     "shell.execute_reply": "2022-07-08T06:50:38.614295Z"
    },
    "papermill": {
     "duration": 0.198631,
     "end_time": "2022-07-08T06:50:38.619227",
     "exception": false,
     "start_time": "2022-07-08T06:50:38.420596",
     "status": "completed"
    },
    "tags": []
   },
   "outputs": [
    {
     "data": {
      "image/png": "[encoded data removed]",
      "text/plain": [
       "<Figure size 1152x288 with 1 Axes>"
      ]
     },
     "metadata": {
      "needs_background": "light"
     },
     "output_type": "display_data"
    }
   ],
   "source": [
    "def plot_classifier_performance_summary(df_data):\n",
    "    fig, ax = plt.subplots(nrows=1, ncols=1, figsize=(16, 4), sharex=True)\n",
    "\n",
    "    #\n",
    "    ax.plot(\n",
    "        df_data[\"nr_train_images\"], df_data[\"roc_auc_mean\"], marker=\"o\", linestyle=\"--\"\n",
    "    )\n",
    "    ax.set_title(\n",
    "        f\"ROC AUC digit classifier performance on evaluation digits\", fontsize=17\n",
    "    )\n",
    "    ax.set_xlabel(\"Total number of digits in training set\", fontsize=14)\n",
    "    ax.set_ylabel(\"Mean ROC AUC\", fontsize=14)\n",
    "\n",
    "    fig.tight_layout()\n",
    "    fig.show()\n",
    "\n",
    "    return fig\n",
    "\n",
    "\n",
    "fig = plot_classifier_performance_summary(df_data)"
   ]
  },
  {
   "cell_type": "code",
   "execution_count": 12,
   "id": "7b64a61d",
   "metadata": {
    "execution": {
     "iopub.execute_input": "2022-07-08T06:50:38.630109Z",
     "iopub.status.busy": "2022-07-08T06:50:38.629657Z",
     "iopub.status.idle": "2022-07-08T06:50:38.696118Z",
     "shell.execute_reply": "2022-07-08T06:50:38.695128Z"
    },
    "papermill": {
     "duration": 0.074895,
     "end_time": "2022-07-08T06:50:38.699135",
     "exception": false,
     "start_time": "2022-07-08T06:50:38.624240",
     "status": "completed"
    },
    "tags": []
   },
   "outputs": [],
   "source": [
    "logger.log_figure(\"auc-roc-model-performances.png\", fig)"
   ]
  },
  {
   "cell_type": "code",
   "execution_count": 13,
   "id": "59b2ae57",
   "metadata": {
    "execution": {
     "iopub.execute_input": "2022-07-08T06:50:38.710092Z",
     "iopub.status.busy": "2022-07-08T06:50:38.709775Z",
     "iopub.status.idle": "2022-07-08T06:50:38.713690Z",
     "shell.execute_reply": "2022-07-08T06:50:38.712768Z"
    },
    "papermill": {
     "duration": 0.011416,
     "end_time": "2022-07-08T06:50:38.715572",
     "exception": false,
     "start_time": "2022-07-08T06:50:38.704156",
     "status": "completed"
    },
    "tags": []
   },
   "outputs": [],
   "source": [
    "###"
   ]
  },
  {
   "cell_type": "code",
   "execution_count": null,
   "id": "4f2de272",
   "metadata": {
    "papermill": {
     "duration": 0.005179,
     "end_time": "2022-07-08T06:50:38.725080",
     "exception": false,
     "start_time": "2022-07-08T06:50:38.719901",
     "status": "completed"
    },
    "tags": []
   },
   "outputs": [],
   "source": []
  }
 ],
 "metadata": {
  "jupytext": {
   "cell_metadata_filter": "tags,-all",
   "main_language": "python",
   "notebook_metadata_filter": "-all"
  },
  "language_info": {
   "codemirror_mode": {
    "name": "ipython",
    "version": 3
   },
   "file_extension": ".py",
   "mimetype": "text/x-python",
   "name": "python",
   "nbconvert_exporter": "python",
   "pygments_lexer": "ipython3",
   "version": "3.8.10"
  },
  "papermill": {
   "default_parameters": {},
   "duration": 30.650136,
   "end_time": "2022-07-08T06:50:39.851829",
   "environment_variables": {},
   "exception": null,
   "input_path": "/home/host_user/workspace/mnist-demo-pipeline/mnist-demo-pipeline/notebooks/temp-notebook-439k_7nx.ipynb",
   "output_path": "notebooks/summary.ipynb",
   "parameters": {
    "P": {
     "_opentelemetry_traceparent": "00-62cc40efdfab9a316a46122f0e2f0cbb-43c56b7797d0156f-01",
     "pipeline.data_lake_root": "/pipeline-outputs/data-lake",
     "pipeline.github.actor": "matiasdahl",
     "pipeline.github.base_ref": "",
     "pipeline.github.event_name": "schedule",
     "pipeline.github.head_ref": "",
     "pipeline.github.job": "run-tests-pipeline-and-persist-pipeline-outputs",
     "pipeline.github.ref": "refs/heads/development",
     "pipeline.github.ref_name": "development",
     "pipeline.github.ref_type": "branch",
     "pipeline.github.repository": "pynb-dag-runner/mnist-digits-demo-pipeline",
     "pipeline.github.run_id": "2634377975",
     "pipeline.github.runner_name": "Hosted Agent",
     "pipeline.github.sha": "147a1be9916173fd4d2cd011d8d51e3411215850",
     "pipeline.github.workflow": "Run automated tests, pipeline and deploy results to static reporting site",
     "pipeline.pipeline_run_id": "2a4fe300-47ae-44e1-b3e9-09f0192b9a3f",
     "pipeline.run_environment": "ci",
     "run.retry_nr": "0",
     "task.max_nr_retries": "1",
     "task.notebook": "notebooks/summary.py",
     "task.num_cpus": 1,
     "task.timeout_s": "None"
    }
   },
   "start_time": "2022-07-08T06:50:09.201693",
   "version": "2.3.3"
  }
 },
 "nbformat": 4,
 "nbformat_minor": 5
}