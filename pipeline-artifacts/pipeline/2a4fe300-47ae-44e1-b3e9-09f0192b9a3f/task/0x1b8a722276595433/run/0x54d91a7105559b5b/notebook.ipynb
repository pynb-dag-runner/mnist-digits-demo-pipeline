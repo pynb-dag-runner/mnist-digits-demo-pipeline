{
 "cells": [
  {
   "cell_type": "markdown",
   "id": "c0e2cae3",
   "metadata": {
    "papermill": {
     "duration": 0.006836,
     "end_time": "2022-07-08T06:49:42.099279",
     "exception": false,
     "start_time": "2022-07-08T06:49:42.092443",
     "status": "completed"
    },
    "tags": []
   },
   "source": [
    "# Benchmark model\n",
    "\n",
    "The purpose of this notebook is to benchmark persisted onnx-model (trained in the\n",
    "previous step) against evaluation set."
   ]
  },
  {
   "cell_type": "markdown",
   "id": "0363c985",
   "metadata": {
    "papermill": {
     "duration": 0.005394,
     "end_time": "2022-07-08T06:49:42.110391",
     "exception": false,
     "start_time": "2022-07-08T06:49:42.104997",
     "status": "completed"
    },
    "tags": []
   },
   "source": [
    "### Determine run parameters"
   ]
  },
  {
   "cell_type": "code",
   "execution_count": 1,
   "id": "5a46b337",
   "metadata": {
    "execution": {
     "iopub.execute_input": "2022-07-08T06:49:42.124509Z",
     "iopub.status.busy": "2022-07-08T06:49:42.124064Z",
     "iopub.status.idle": "2022-07-08T06:49:42.136249Z",
     "shell.execute_reply": "2022-07-08T06:49:42.135409Z"
    },
    "lines_to_next_cell": 0,
    "papermill": {
     "duration": 0.023447,
     "end_time": "2022-07-08T06:49:42.139685",
     "exception": false,
     "start_time": "2022-07-08T06:49:42.116238",
     "status": "completed"
    },
    "tags": []
   },
   "outputs": [],
   "source": [
    "# ----------------- Parameters for interactive development --------------\n",
    "P = {\n",
    "    \"pipeline.data_lake_root\": \"/pipeline-outputs/data-lake\",\n",
    "    \"task.nr_train_images\": 600,\n",
    "}"
   ]
  },
  {
   "cell_type": "code",
   "execution_count": 2,
   "id": "8b5840aa",
   "metadata": {
    "execution": {
     "iopub.execute_input": "2022-07-08T06:49:42.157087Z",
     "iopub.status.busy": "2022-07-08T06:49:42.156757Z",
     "iopub.status.idle": "2022-07-08T06:49:42.161215Z",
     "shell.execute_reply": "2022-07-08T06:49:42.160352Z"
    },
    "lines_to_next_cell": 0,
    "papermill": {
     "duration": 0.019396,
     "end_time": "2022-07-08T06:49:42.165323",
     "exception": false,
     "start_time": "2022-07-08T06:49:42.145927",
     "status": "completed"
    },
    "tags": [
     "parameters"
    ]
   },
   "outputs": [],
   "source": [
    "# - During automated runs parameters will be injected in the below cell -"
   ]
  },
  {
   "cell_type": "code",
   "execution_count": 3,
   "id": "dac87ac2",
   "metadata": {
    "execution": {
     "iopub.execute_input": "2022-07-08T06:49:42.177027Z",
     "iopub.status.busy": "2022-07-08T06:49:42.176761Z",
     "iopub.status.idle": "2022-07-08T06:49:42.183291Z",
     "shell.execute_reply": "2022-07-08T06:49:42.182426Z"
    },
    "papermill": {
     "duration": 0.01645,
     "end_time": "2022-07-08T06:49:42.186940",
     "exception": false,
     "start_time": "2022-07-08T06:49:42.170490",
     "status": "completed"
    },
    "tags": [
     "injected-parameters"
    ]
   },
   "outputs": [],
   "source": [
    "# Parameters\n",
    "P = {\n",
    "    \"pipeline.data_lake_root\": \"/pipeline-outputs/data-lake\",\n",
    "    \"pipeline.run_environment\": \"ci\",\n",
    "    \"pipeline.pipeline_run_id\": \"2a4fe300-47ae-44e1-b3e9-09f0192b9a3f\",\n",
    "    \"pipeline.github.repository\": \"pynb-dag-runner/mnist-digits-demo-pipeline\",\n",
    "    \"pipeline.github.workflow\": \"Run automated tests, pipeline and deploy results to static reporting site\",\n",
    "    \"pipeline.github.runner_name\": \"Hosted Agent\",\n",
    "    \"pipeline.github.run_id\": \"2634377975\",\n",
    "    \"pipeline.github.actor\": \"matiasdahl\",\n",
    "    \"pipeline.github.job\": \"run-tests-pipeline-and-persist-pipeline-outputs\",\n",
    "    \"pipeline.github.base_ref\": \"\",\n",
    "    \"pipeline.github.head_ref\": \"\",\n",
    "    \"pipeline.github.sha\": \"147a1be9916173fd4d2cd011d8d51e3411215850\",\n",
    "    \"pipeline.github.ref\": \"refs/heads/development\",\n",
    "    \"pipeline.github.ref_type\": \"branch\",\n",
    "    \"pipeline.github.ref_name\": \"development\",\n",
    "    \"pipeline.github.event_name\": \"schedule\",\n",
    "    \"task.nr_train_images\": 600,\n",
    "    \"task.notebook\": \"notebooks/benchmark-model.py\",\n",
    "    \"task.max_nr_retries\": \"1\",\n",
    "    \"run.retry_nr\": \"0\",\n",
    "    \"task.timeout_s\": \"None\",\n",
    "    \"task.num_cpus\": 1,\n",
    "    \"_opentelemetry_traceparent\": \"00-62cc40efdfab9a316a46122f0e2f0cbb-c8fbdf50c1607555-01\",\n",
    "}\n"
   ]
  },
  {
   "cell_type": "code",
   "execution_count": 4,
   "id": "156e1c85",
   "metadata": {
    "execution": {
     "iopub.execute_input": "2022-07-08T06:49:42.198910Z",
     "iopub.status.busy": "2022-07-08T06:49:42.198621Z",
     "iopub.status.idle": "2022-07-08T06:49:42.202127Z",
     "shell.execute_reply": "2022-07-08T06:49:42.201325Z"
    },
    "lines_to_next_cell": 0,
    "papermill": {
     "duration": 0.013998,
     "end_time": "2022-07-08T06:49:42.205767",
     "exception": false,
     "start_time": "2022-07-08T06:49:42.191769",
     "status": "completed"
    },
    "tags": []
   },
   "outputs": [],
   "source": [
    "# -----------------------------------------------------------------------"
   ]
  },
  {
   "cell_type": "markdown",
   "id": "1f2f1797",
   "metadata": {
    "papermill": {
     "duration": 0.007972,
     "end_time": "2022-07-08T06:49:42.219094",
     "exception": false,
     "start_time": "2022-07-08T06:49:42.211122",
     "status": "completed"
    },
    "tags": []
   },
   "source": [
    "---"
   ]
  },
  {
   "cell_type": "markdown",
   "id": "3d08246b",
   "metadata": {
    "lines_to_next_cell": 2,
    "papermill": {
     "duration": 0.005309,
     "end_time": "2022-07-08T06:49:42.229750",
     "exception": false,
     "start_time": "2022-07-08T06:49:42.224441",
     "status": "completed"
    },
    "tags": []
   },
   "source": [
    "### Notebook code"
   ]
  },
  {
   "cell_type": "code",
   "execution_count": 5,
   "id": "4ecb2395",
   "metadata": {
    "execution": {
     "iopub.execute_input": "2022-07-08T06:49:42.242032Z",
     "iopub.status.busy": "2022-07-08T06:49:42.241746Z",
     "iopub.status.idle": "2022-07-08T06:49:43.603609Z",
     "shell.execute_reply": "2022-07-08T06:49:43.602769Z"
    },
    "papermill": {
     "duration": 1.370337,
     "end_time": "2022-07-08T06:49:43.605771",
     "exception": false,
     "start_time": "2022-07-08T06:49:42.235434",
     "status": "completed"
    },
    "tags": []
   },
   "outputs": [
    {
     "name": "stderr",
     "output_type": "stream",
     "text": [
      "2022-07-08 06:49:43,414\tINFO worker.py:842 -- Connecting to existing Ray cluster at address: 172.17.0.2:6379\n"
     ]
    }
   ],
   "source": [
    "import itertools as it\n",
    "\n",
    "#\n",
    "import numpy as np\n",
    "import matplotlib.pyplot as plt\n",
    "\n",
    "#\n",
    "from pynb_dag_runner.tasks.task_opentelemetry_logging import PydarLogger\n",
    "\n",
    "#\n",
    "from common.io import datalake_root\n",
    "\n",
    "logger = PydarLogger(P)"
   ]
  },
  {
   "cell_type": "markdown",
   "id": "30ea31fa",
   "metadata": {
    "papermill": {
     "duration": 0.004689,
     "end_time": "2022-07-08T06:49:43.620295",
     "exception": false,
     "start_time": "2022-07-08T06:49:43.615606",
     "status": "completed"
    },
    "tags": []
   },
   "source": [
    "## Load persisted onnx-model and evaluation data"
   ]
  },
  {
   "cell_type": "code",
   "execution_count": 6,
   "id": "68d30663",
   "metadata": {
    "execution": {
     "iopub.execute_input": "2022-07-08T06:49:43.632433Z",
     "iopub.status.busy": "2022-07-08T06:49:43.632072Z",
     "iopub.status.idle": "2022-07-08T06:49:43.636044Z",
     "shell.execute_reply": "2022-07-08T06:49:43.635312Z"
    },
    "papermill": {
     "duration": 0.013873,
     "end_time": "2022-07-08T06:49:43.639427",
     "exception": false,
     "start_time": "2022-07-08T06:49:43.625554",
     "status": "completed"
    },
    "tags": []
   },
   "outputs": [],
   "source": [
    "from common.io import read_onnx, get_onnx_inputs, get_onnx_outputs, read_numpy"
   ]
  },
  {
   "cell_type": "code",
   "execution_count": 7,
   "id": "1cc9d16b",
   "metadata": {
    "execution": {
     "iopub.execute_input": "2022-07-08T06:49:43.652259Z",
     "iopub.status.busy": "2022-07-08T06:49:43.651973Z",
     "iopub.status.idle": "2022-07-08T06:49:43.664280Z",
     "shell.execute_reply": "2022-07-08T06:49:43.663406Z"
    },
    "lines_to_next_cell": 0,
    "papermill": {
     "duration": 0.02167,
     "end_time": "2022-07-08T06:49:43.666545",
     "exception": false,
     "start_time": "2022-07-08T06:49:43.644875",
     "status": "completed"
    },
    "tags": []
   },
   "outputs": [],
   "source": [
    "onnx_inference_session = read_onnx(\n",
    "    datalake_root(P)\n",
    "    / \"models\"\n",
    "    / f\"nr_train_images={P['task.nr_train_images']}\"\n",
    "    / \"model.onnx\"\n",
    ")"
   ]
  },
  {
   "cell_type": "markdown",
   "id": "638d0777",
   "metadata": {
    "papermill": {
     "duration": 0.005198,
     "end_time": "2022-07-08T06:49:43.677410",
     "exception": false,
     "start_time": "2022-07-08T06:49:43.672212",
     "status": "completed"
    },
    "tags": []
   },
   "source": [
    "### Record structure of inputs and outputs for ONNX model\n",
    "\n",
    "(this should likely be done in training notebook)"
   ]
  },
  {
   "cell_type": "code",
   "execution_count": 8,
   "id": "22caacde",
   "metadata": {
    "execution": {
     "iopub.execute_input": "2022-07-08T06:49:43.689067Z",
     "iopub.status.busy": "2022-07-08T06:49:43.688791Z",
     "iopub.status.idle": "2022-07-08T06:49:43.699075Z",
     "shell.execute_reply": "2022-07-08T06:49:43.698298Z"
    },
    "papermill": {
     "duration": 0.020978,
     "end_time": "2022-07-08T06:49:43.703609",
     "exception": false,
     "start_time": "2022-07-08T06:49:43.682631",
     "status": "completed"
    },
    "tags": []
   },
   "outputs": [
    {
     "name": "stdout",
     "output_type": "stream",
     "text": [
      "{\n",
      "  \"inputs\": [\n",
      "    {\n",
      "      \"name\": \"float_input_8x8_image\",\n",
      "      \"shape\": [\n",
      "        null,\n",
      "        64\n",
      "      ],\n",
      "      \"type\": \"tensor(float)\"\n",
      "    }\n",
      "  ],\n",
      "  \"outputs\": [\n",
      "    {\n",
      "      \"name\": \"output_label\",\n",
      "      \"shape\": [\n",
      "        null\n",
      "      ],\n",
      "      \"type\": \"tensor(int64)\"\n",
      "    },\n",
      "    {\n",
      "      \"name\": \"output_probability\",\n",
      "      \"shape\": [],\n",
      "      \"type\": \"seq(map(int64,tensor(float)))\"\n",
      "    }\n",
      "  ]\n",
      "}\n"
     ]
    }
   ],
   "source": [
    "import json\n",
    "\n",
    "onnx_io = json.dumps(\n",
    "    {\n",
    "        \"inputs\": get_onnx_inputs(onnx_inference_session),\n",
    "        \"outputs\": get_onnx_outputs(onnx_inference_session),\n",
    "    },\n",
    "    indent=2,\n",
    ")\n",
    "\n",
    "\n",
    "logger.log_artefact(\"onnx_io_structure.json\", onnx_io)\n",
    "print(onnx_io)"
   ]
  },
  {
   "cell_type": "markdown",
   "id": "109ab86b",
   "metadata": {
    "papermill": {
     "duration": 0.006218,
     "end_time": "2022-07-08T06:49:43.715181",
     "exception": false,
     "start_time": "2022-07-08T06:49:43.708963",
     "status": "completed"
    },
    "tags": []
   },
   "source": [
    "### Evaluate model performance on evaluation data set"
   ]
  },
  {
   "cell_type": "code",
   "execution_count": 9,
   "id": "0cb73f28",
   "metadata": {
    "execution": {
     "iopub.execute_input": "2022-07-08T06:49:43.728026Z",
     "iopub.status.busy": "2022-07-08T06:49:43.727638Z",
     "iopub.status.idle": "2022-07-08T06:49:43.733032Z",
     "shell.execute_reply": "2022-07-08T06:49:43.732315Z"
    },
    "papermill": {
     "duration": 0.016037,
     "end_time": "2022-07-08T06:49:43.736500",
     "exception": false,
     "start_time": "2022-07-08T06:49:43.720463",
     "status": "completed"
    },
    "tags": []
   },
   "outputs": [],
   "source": [
    "# load evaluation data\n",
    "X_test = read_numpy(datalake_root(P) / \"test-data\" / \"digits.numpy\")\n",
    "y_test = read_numpy(datalake_root(P) / \"test-data\" / \"labels.numpy\")"
   ]
  },
  {
   "cell_type": "code",
   "execution_count": 10,
   "id": "42f1e3f2",
   "metadata": {
    "execution": {
     "iopub.execute_input": "2022-07-08T06:49:43.748891Z",
     "iopub.status.busy": "2022-07-08T06:49:43.748616Z",
     "iopub.status.idle": "2022-07-08T06:49:43.764525Z",
     "shell.execute_reply": "2022-07-08T06:49:43.763721Z"
    },
    "papermill": {
     "duration": 0.024819,
     "end_time": "2022-07-08T06:49:43.766809",
     "exception": false,
     "start_time": "2022-07-08T06:49:43.741990",
     "status": "completed"
    },
    "tags": []
   },
   "outputs": [],
   "source": [
    "def get_model_outputs(X, onnx_inference_session):\n",
    "    y_pred_labels, y_pred_map = onnx_inference_session.run(\n",
    "        [\"output_label\", \"output_probability\"],\n",
    "        {\"float_input_8x8_image\": X.astype(np.float32)},\n",
    "    )\n",
    "    y_pred_probs = np.array(\n",
    "        [[probabilities[digit] for digit in range(10)] for probabilities in y_pred_map]\n",
    "    )\n",
    "\n",
    "    assert y_pred_labels.shape == (X.shape[0],)\n",
    "    assert y_pred_probs.shape == (X.shape[0], 10)\n",
    "\n",
    "    return y_pred_labels, y_pred_probs\n",
    "\n",
    "\n",
    "# Note: as shown in the training notebook, the predicted labels and probabilities\n",
    "# computed below need not be compatible.\n",
    "y_pred_labels_test, y_pred_probs_test = get_model_outputs(\n",
    "    X_test, onnx_inference_session\n",
    ")"
   ]
  },
  {
   "cell_type": "markdown",
   "id": "44cbe030",
   "metadata": {
    "papermill": {
     "duration": 0.005228,
     "end_time": "2022-07-08T06:49:43.778693",
     "exception": false,
     "start_time": "2022-07-08T06:49:43.773465",
     "status": "completed"
    },
    "tags": []
   },
   "source": [
    "### Confusion matrix"
   ]
  },
  {
   "cell_type": "code",
   "execution_count": 11,
   "id": "4fa5372d",
   "metadata": {
    "execution": {
     "iopub.execute_input": "2022-07-08T06:49:43.791171Z",
     "iopub.status.busy": "2022-07-08T06:49:43.790897Z",
     "iopub.status.idle": "2022-07-08T06:49:43.794328Z",
     "shell.execute_reply": "2022-07-08T06:49:43.793547Z"
    },
    "papermill": {
     "duration": 0.014471,
     "end_time": "2022-07-08T06:49:43.798368",
     "exception": false,
     "start_time": "2022-07-08T06:49:43.783897",
     "status": "completed"
    },
    "tags": []
   },
   "outputs": [],
   "source": [
    "# TODO"
   ]
  },
  {
   "cell_type": "markdown",
   "id": "88ab4718",
   "metadata": {
    "papermill": {
     "duration": 0.005954,
     "end_time": "2022-07-08T06:49:43.810947",
     "exception": false,
     "start_time": "2022-07-08T06:49:43.804993",
     "status": "completed"
    },
    "tags": []
   },
   "source": [
    "### Plot predicted probabilities for each classifier over all evaluation digit images"
   ]
  },
  {
   "cell_type": "code",
   "execution_count": 12,
   "id": "dcf2998e",
   "metadata": {
    "execution": {
     "iopub.execute_input": "2022-07-08T06:49:43.823369Z",
     "iopub.status.busy": "2022-07-08T06:49:43.823069Z",
     "iopub.status.idle": "2022-07-08T06:49:49.034066Z",
     "shell.execute_reply": "2022-07-08T06:49:49.032991Z"
    },
    "papermill": {
     "duration": 5.220244,
     "end_time": "2022-07-08T06:49:49.036371",
     "exception": false,
     "start_time": "2022-07-08T06:49:43.816127",
     "status": "completed"
    },
    "tags": []
   },
   "outputs": [
    {
     "data": {
      "image/png": "[encoded data removed]",
      "text/plain": [
       "<Figure size 1152x432 with 10 Axes>"
      ]
     },
     "metadata": {
      "needs_background": "light"
     },
     "output_type": "display_data"
    }
   ],
   "source": [
    "def plot_per_digit_probabilities(y_pred_probs):\n",
    "    fig, axs = plt.subplots(nrows=2, ncols=5, figsize=(16, 6))\n",
    "\n",
    "    for (r, c), digit, ax in zip(\n",
    "        it.product(range(2), range(5)), range(10), axs.reshape(-1)\n",
    "    ):\n",
    "        ax.hist(y_pred_probs_test[:, digit], bins=20)\n",
    "\n",
    "        ax.set_title(f\"Digit {digit}\")\n",
    "        if r == 1 and c == 2:\n",
    "            ax.set_xlabel(\"probability\", fontsize=16)\n",
    "\n",
    "        if c == 0:\n",
    "            ax.set_ylabel(\"counts\", fontsize=16)\n",
    "        ax.set_yscale(\"log\")\n",
    "\n",
    "    fig.tight_layout()\n",
    "    fig.suptitle(\n",
    "        f\"Distributions of prediction probabilities for each digit \"\n",
    "        f\"(on evaluation data, n={y_pred_probs.shape[0]})\",\n",
    "        fontsize=20,\n",
    "    )\n",
    "    fig.tight_layout()\n",
    "    fig.show()\n",
    "\n",
    "    return fig\n",
    "\n",
    "\n",
    "fig = plot_per_digit_probabilities(y_pred_probs_test)"
   ]
  },
  {
   "cell_type": "markdown",
   "id": "b7be45f9",
   "metadata": {
    "papermill": {
     "duration": 0.006688,
     "end_time": "2022-07-08T06:49:49.049599",
     "exception": false,
     "start_time": "2022-07-08T06:49:49.042911",
     "status": "completed"
    },
    "tags": []
   },
   "source": [
    "From the above distributions we see that most digits have clear separation between\n",
    "high and lower probabilities. Morover, in each case there is roughly an order of\n",
    "magnitude more of digits with low probabilities. This is compatible with digits\n",
    "being roughly evenly distributed in the data."
   ]
  },
  {
   "cell_type": "code",
   "execution_count": 13,
   "id": "14a62b5a",
   "metadata": {
    "execution": {
     "iopub.execute_input": "2022-07-08T06:49:49.077242Z",
     "iopub.status.busy": "2022-07-08T06:49:49.076847Z",
     "iopub.status.idle": "2022-07-08T06:49:49.762418Z",
     "shell.execute_reply": "2022-07-08T06:49:49.761536Z"
    },
    "papermill": {
     "duration": 0.697986,
     "end_time": "2022-07-08T06:49:49.765146",
     "exception": false,
     "start_time": "2022-07-08T06:49:49.067160",
     "status": "completed"
    },
    "tags": []
   },
   "outputs": [],
   "source": [
    "logger.log_figure(\"per-digit-probabilities.png\", fig)"
   ]
  },
  {
   "cell_type": "markdown",
   "id": "7db0f6c7",
   "metadata": {
    "papermill": {
     "duration": 0.006995,
     "end_time": "2022-07-08T06:49:49.778407",
     "exception": false,
     "start_time": "2022-07-08T06:49:49.771412",
     "status": "completed"
    },
    "tags": []
   },
   "source": [
    "### Plot ROC curves for individual one-vs-rest classifiers"
   ]
  },
  {
   "cell_type": "code",
   "execution_count": 14,
   "id": "e5cde011",
   "metadata": {
    "execution": {
     "iopub.execute_input": "2022-07-08T06:49:49.796277Z",
     "iopub.status.busy": "2022-07-08T06:49:49.795563Z",
     "iopub.status.idle": "2022-07-08T06:49:50.178986Z",
     "shell.execute_reply": "2022-07-08T06:49:50.177913Z"
    },
    "papermill": {
     "duration": 0.395368,
     "end_time": "2022-07-08T06:49:50.181591",
     "exception": false,
     "start_time": "2022-07-08T06:49:49.786223",
     "status": "completed"
    },
    "tags": []
   },
   "outputs": [],
   "source": [
    "from sklearn import metrics"
   ]
  },
  {
   "cell_type": "code",
   "execution_count": 15,
   "id": "6f7a7634",
   "metadata": {
    "execution": {
     "iopub.execute_input": "2022-07-08T06:49:50.197862Z",
     "iopub.status.busy": "2022-07-08T06:49:50.197352Z",
     "iopub.status.idle": "2022-07-08T06:49:51.875132Z",
     "shell.execute_reply": "2022-07-08T06:49:51.874407Z"
    },
    "papermill": {
     "duration": 1.68639,
     "end_time": "2022-07-08T06:49:51.876899",
     "exception": false,
     "start_time": "2022-07-08T06:49:50.190509",
     "status": "completed"
    },
    "tags": []
   },
   "outputs": [
    {
     "data": {
      "image/png": "[encoded data removed]",
      "text/plain": [
       "<Figure size 1152x576 with 10 Axes>"
      ]
     },
     "metadata": {
      "needs_background": "light"
     },
     "output_type": "display_data"
    }
   ],
   "source": [
    "def plot_roc_curves(y, y_pred_probs):\n",
    "    # based on example code\n",
    "    # https://scikit-learn.org/stable/auto_examples/model_selection/plot_roc.html\n",
    "\n",
    "    fig, axs = plt.subplots(nrows=2, ncols=5, figsize=(16, 8))\n",
    "\n",
    "    roc_auc_dict = {}\n",
    "\n",
    "    for (r, c), digit, ax in zip(\n",
    "        it.product(range(2), range(5)), range(10), axs.reshape(-1)\n",
    "    ):\n",
    "        fpr, tpr, _ = metrics.roc_curve(y == digit, y_pred_probs[:, digit])\n",
    "        auc = metrics.auc(fpr, tpr)\n",
    "        roc_auc_dict[str(digit)] = auc\n",
    "\n",
    "        ax.plot(fpr, tpr, label=f\"ROC AUC={round(auc, 3)}\")\n",
    "\n",
    "        ax.set_title(f\"\\nDigit {digit}\", fontsize=16)\n",
    "        if r == 1:\n",
    "            ax.set_xlabel(\"FPR\", fontsize=18)\n",
    "\n",
    "        if c == 0:\n",
    "            ax.set_ylabel(\"TPR\", fontsize=18)\n",
    "\n",
    "        ax.set_xlim([-0.05, 1.05])\n",
    "        ax.set_ylim([-0.05, 1.05])\n",
    "        ax.legend(loc=\"lower right\", frameon=False, fontsize=14)\n",
    "\n",
    "    fig.tight_layout()\n",
    "    fig.suptitle(\n",
    "        f\"ROC plots for one-vs-rest performances \"\n",
    "        f\"(on evaluation data, n={y_pred_probs_test.shape[1]}\",\n",
    "        fontsize=22,\n",
    "    )\n",
    "    fig.tight_layout()\n",
    "    fig.show()\n",
    "\n",
    "    return roc_auc_dict, fig\n",
    "\n",
    "\n",
    "roc_auc_dict, fig = plot_roc_curves(y_test, y_pred_probs_test)"
   ]
  },
  {
   "cell_type": "code",
   "execution_count": 16,
   "id": "c17c93e3",
   "metadata": {
    "execution": {
     "iopub.execute_input": "2022-07-08T06:49:51.892506Z",
     "iopub.status.busy": "2022-07-08T06:49:51.891691Z",
     "iopub.status.idle": "2022-07-08T06:49:52.204655Z",
     "shell.execute_reply": "2022-07-08T06:49:52.203649Z"
    },
    "papermill": {
     "duration": 0.323159,
     "end_time": "2022-07-08T06:49:52.206922",
     "exception": false,
     "start_time": "2022-07-08T06:49:51.883763",
     "status": "completed"
    },
    "tags": []
   },
   "outputs": [],
   "source": [
    "logger.log_figure(\"per-digit-roc-curves.png\", fig)"
   ]
  },
  {
   "cell_type": "code",
   "execution_count": 17,
   "id": "fa74d00f",
   "metadata": {
    "execution": {
     "iopub.execute_input": "2022-07-08T06:49:52.223899Z",
     "iopub.status.busy": "2022-07-08T06:49:52.223441Z",
     "iopub.status.idle": "2022-07-08T06:49:52.229111Z",
     "shell.execute_reply": "2022-07-08T06:49:52.228137Z"
    },
    "papermill": {
     "duration": 0.018273,
     "end_time": "2022-07-08T06:49:52.233720",
     "exception": false,
     "start_time": "2022-07-08T06:49:52.215447",
     "status": "completed"
    },
    "tags": []
   },
   "outputs": [
    {
     "data": {
      "text/plain": [
       "{'0': 1.0,\n",
       " '1': 0.9991752577319588,\n",
       " '2': 1.0,\n",
       " '3': 0.9998500468603562,\n",
       " '4': 0.9991617131534827,\n",
       " '5': 0.9987628865979381,\n",
       " '6': 0.999961896052431,\n",
       " '7': 0.9998475842097241,\n",
       " '8': 0.9941677175283732,\n",
       " '9': 0.9987044657826551}"
      ]
     },
     "execution_count": 17,
     "metadata": {},
     "output_type": "execute_result"
    }
   ],
   "source": [
    "roc_auc_dict"
   ]
  },
  {
   "cell_type": "code",
   "execution_count": 18,
   "id": "d530e26d",
   "metadata": {
    "execution": {
     "iopub.execute_input": "2022-07-08T06:49:52.251891Z",
     "iopub.status.busy": "2022-07-08T06:49:52.251605Z",
     "iopub.status.idle": "2022-07-08T06:49:52.256889Z",
     "shell.execute_reply": "2022-07-08T06:49:52.255729Z"
    },
    "papermill": {
     "duration": 0.017967,
     "end_time": "2022-07-08T06:49:52.259726",
     "exception": false,
     "start_time": "2022-07-08T06:49:52.241759",
     "status": "completed"
    },
    "tags": []
   },
   "outputs": [
    {
     "name": "stdout",
     "output_type": "stream",
     "text": [
      " - Logging roc_auc_per_digit (json) : {'0': 1.0, '1': 0.9991752577319588, '2': 1.0, '3': 0.9998500468603562, '4': 0.9991617131534827, '5': 0.9987628865979381, '6': 0.999961896052431, '7': 0.9998475842097241, '8': 0.9941677175283732, '9': 0.9987044657826551}\n"
     ]
    }
   ],
   "source": [
    "logger.log_value(\"roc_auc_per_digit\", roc_auc_dict)"
   ]
  },
  {
   "cell_type": "markdown",
   "id": "766fe3fa",
   "metadata": {
    "papermill": {
     "duration": 0.007262,
     "end_time": "2022-07-08T06:49:52.274943",
     "exception": false,
     "start_time": "2022-07-08T06:49:52.267681",
     "status": "completed"
    },
    "tags": []
   },
   "source": [
    "### Compute and log mean ROC AUC score averaged over all digits"
   ]
  },
  {
   "cell_type": "code",
   "execution_count": 19,
   "id": "0e1e90de",
   "metadata": {
    "execution": {
     "iopub.execute_input": "2022-07-08T06:49:52.289274Z",
     "iopub.status.busy": "2022-07-08T06:49:52.288848Z",
     "iopub.status.idle": "2022-07-08T06:49:52.306633Z",
     "shell.execute_reply": "2022-07-08T06:49:52.305524Z"
    },
    "papermill": {
     "duration": 0.027744,
     "end_time": "2022-07-08T06:49:52.309011",
     "exception": false,
     "start_time": "2022-07-08T06:49:52.281267",
     "status": "completed"
    },
    "tags": []
   },
   "outputs": [
    {
     "name": "stdout",
     "output_type": "stream",
     "text": [
      " - Logging roc_auc_class_mean (float) : 0.998963156791692\n"
     ]
    }
   ],
   "source": [
    "roc_auc_macro = np.mean(list(roc_auc_dict.values()))\n",
    "\n",
    "logger.log_float(\"roc_auc_class_mean\", roc_auc_macro)\n",
    "\n",
    "# assert that the same value can be computed directly using sklearn\n",
    "assert roc_auc_macro == metrics.roc_auc_score(\n",
    "    y_test, y_pred_probs_test, average=\"macro\", multi_class=\"ovr\"\n",
    ")"
   ]
  },
  {
   "cell_type": "code",
   "execution_count": 20,
   "id": "b2edc1a6",
   "metadata": {
    "execution": {
     "iopub.execute_input": "2022-07-08T06:49:52.325613Z",
     "iopub.status.busy": "2022-07-08T06:49:52.325085Z",
     "iopub.status.idle": "2022-07-08T06:49:52.329497Z",
     "shell.execute_reply": "2022-07-08T06:49:52.328232Z"
    },
    "lines_to_next_cell": 0,
    "papermill": {
     "duration": 0.014814,
     "end_time": "2022-07-08T06:49:52.331346",
     "exception": false,
     "start_time": "2022-07-08T06:49:52.316532",
     "status": "completed"
    },
    "tags": []
   },
   "outputs": [],
   "source": [
    "# ---"
   ]
  },
  {
   "cell_type": "code",
   "execution_count": null,
   "id": "20d7a223",
   "metadata": {
    "papermill": {
     "duration": 0.006842,
     "end_time": "2022-07-08T06:49:52.345526",
     "exception": false,
     "start_time": "2022-07-08T06:49:52.338684",
     "status": "completed"
    },
    "tags": []
   },
   "outputs": [],
   "source": []
  }
 ],
 "metadata": {
  "jupytext": {
   "cell_metadata_filter": "tags,-all",
   "main_language": "python",
   "notebook_metadata_filter": "-all"
  },
  "language_info": {
   "codemirror_mode": {
    "name": "ipython",
    "version": 3
   },
   "file_extension": ".py",
   "mimetype": "text/x-python",
   "name": "python",
   "nbconvert_exporter": "python",
   "pygments_lexer": "ipython3",
   "version": "3.8.10"
  },
  "papermill": {
   "default_parameters": {},
   "duration": 12.999245,
   "end_time": "2022-07-08T06:49:53.574069",
   "environment_variables": {},
   "exception": null,
   "input_path": "/home/host_user/workspace/mnist-demo-pipeline/mnist-demo-pipeline/notebooks/temp-notebook-6ghypfkm.ipynb",
   "output_path": "notebooks/benchmark-model.ipynb",
   "parameters": {
    "P": {
     "_opentelemetry_traceparent": "00-62cc40efdfab9a316a46122f0e2f0cbb-c8fbdf50c1607555-01",
     "pipeline.data_lake_root": "/pipeline-outputs/data-lake",
     "pipeline.github.actor": "matiasdahl",
     "pipeline.github.base_ref": "",
     "pipeline.github.event_name": "schedule",
     "pipeline.github.head_ref": "",
     "pipeline.github.job": "run-tests-pipeline-and-persist-pipeline-outputs",
     "pipeline.github.ref": "refs/heads/development",
     "pipeline.github.ref_name": "development",
     "pipeline.github.ref_type": "branch",
     "pipeline.github.repository": "pynb-dag-runner/mnist-digits-demo-pipeline",
     "pipeline.github.run_id": "2634377975",
     "pipeline.github.runner_name": "Hosted Agent",
     "pipeline.github.sha": "147a1be9916173fd4d2cd011d8d51e3411215850",
     "pipeline.github.workflow": "Run automated tests, pipeline and deploy results to static reporting site",
     "pipeline.pipeline_run_id": "2a4fe300-47ae-44e1-b3e9-09f0192b9a3f",
     "pipeline.run_environment": "ci",
     "run.retry_nr": "0",
     "task.max_nr_retries": "1",
     "task.notebook": "notebooks/benchmark-model.py",
     "task.nr_train_images": 600,
     "task.num_cpus": 1,
     "task.timeout_s": "None"
    }
   },
   "start_time": "2022-07-08T06:49:40.574824",
   "version": "2.3.3"
  }
 },
 "nbformat": 4,
 "nbformat_minor": 5
}