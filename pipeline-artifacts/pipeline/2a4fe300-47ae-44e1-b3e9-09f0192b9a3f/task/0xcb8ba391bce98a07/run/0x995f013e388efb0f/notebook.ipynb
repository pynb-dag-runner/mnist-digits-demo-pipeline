{
 "cells": [
  {
   "cell_type": "markdown",
   "id": "bb9e00f8",
   "metadata": {
    "papermill": {
     "duration": 0.006345,
     "end_time": "2022-07-08T06:49:23.058501",
     "exception": false,
     "start_time": "2022-07-08T06:49:23.052156",
     "status": "completed"
    },
    "tags": []
   },
   "source": [
    "# Train model\n",
    "\n",
    "The purpose of this notebook is:\n",
    "\n",
    "- Load all training data (images and labels).\n",
    "- Limit number of train images to `task.nr_train_images` (value provided as run parameter).\n",
    "- Train a support vector machine model using sklearn.\n",
    "- Persist the trained model using the ONNX format."
   ]
  },
  {
   "cell_type": "markdown",
   "id": "13e499b0",
   "metadata": {
    "papermill": {
     "duration": 0.003563,
     "end_time": "2022-07-08T06:49:23.071069",
     "exception": false,
     "start_time": "2022-07-08T06:49:23.067506",
     "status": "completed"
    },
    "tags": []
   },
   "source": [
    "### Determine run parameters"
   ]
  },
  {
   "cell_type": "code",
   "execution_count": 1,
   "id": "aa0ce16b",
   "metadata": {
    "execution": {
     "iopub.execute_input": "2022-07-08T06:49:23.086699Z",
     "iopub.status.busy": "2022-07-08T06:49:23.086291Z",
     "iopub.status.idle": "2022-07-08T06:49:23.099746Z",
     "shell.execute_reply": "2022-07-08T06:49:23.098941Z"
    },
    "lines_to_next_cell": 0,
    "papermill": {
     "duration": 0.023208,
     "end_time": "2022-07-08T06:49:23.102271",
     "exception": false,
     "start_time": "2022-07-08T06:49:23.079063",
     "status": "completed"
    },
    "tags": []
   },
   "outputs": [],
   "source": [
    "# ----------------- Parameters for interactive development --------------\n",
    "P = {\n",
    "    \"pipeline.data_lake_root\": \"/pipeline-outputs/data-lake\",\n",
    "    \"task.nr_train_images\": 600,\n",
    "}"
   ]
  },
  {
   "cell_type": "code",
   "execution_count": 2,
   "id": "68138c58",
   "metadata": {
    "execution": {
     "iopub.execute_input": "2022-07-08T06:49:23.114699Z",
     "iopub.status.busy": "2022-07-08T06:49:23.114420Z",
     "iopub.status.idle": "2022-07-08T06:49:23.122589Z",
     "shell.execute_reply": "2022-07-08T06:49:23.121450Z"
    },
    "lines_to_next_cell": 0,
    "papermill": {
     "duration": 0.018838,
     "end_time": "2022-07-08T06:49:23.128375",
     "exception": false,
     "start_time": "2022-07-08T06:49:23.109537",
     "status": "completed"
    },
    "tags": [
     "parameters"
    ]
   },
   "outputs": [],
   "source": [
    "# - During automated runs parameters will be injected in the below cell -"
   ]
  },
  {
   "cell_type": "code",
   "execution_count": 3,
   "id": "1fb8b3a5",
   "metadata": {
    "execution": {
     "iopub.execute_input": "2022-07-08T06:49:23.136878Z",
     "iopub.status.busy": "2022-07-08T06:49:23.136546Z",
     "iopub.status.idle": "2022-07-08T06:49:23.144864Z",
     "shell.execute_reply": "2022-07-08T06:49:23.144165Z"
    },
    "papermill": {
     "duration": 0.017785,
     "end_time": "2022-07-08T06:49:23.149849",
     "exception": false,
     "start_time": "2022-07-08T06:49:23.132064",
     "status": "completed"
    },
    "tags": [
     "injected-parameters"
    ]
   },
   "outputs": [],
   "source": [
    "# Parameters\n",
    "P = {\n",
    "    \"pipeline.data_lake_root\": \"/pipeline-outputs/data-lake\",\n",
    "    \"pipeline.run_environment\": \"ci\",\n",
    "    \"pipeline.pipeline_run_id\": \"2a4fe300-47ae-44e1-b3e9-09f0192b9a3f\",\n",
    "    \"pipeline.github.repository\": \"pynb-dag-runner/mnist-digits-demo-pipeline\",\n",
    "    \"pipeline.github.workflow\": \"Run automated tests, pipeline and deploy results to static reporting site\",\n",
    "    \"pipeline.github.runner_name\": \"Hosted Agent\",\n",
    "    \"pipeline.github.run_id\": \"2634377975\",\n",
    "    \"pipeline.github.actor\": \"matiasdahl\",\n",
    "    \"pipeline.github.job\": \"run-tests-pipeline-and-persist-pipeline-outputs\",\n",
    "    \"pipeline.github.base_ref\": \"\",\n",
    "    \"pipeline.github.head_ref\": \"\",\n",
    "    \"pipeline.github.sha\": \"147a1be9916173fd4d2cd011d8d51e3411215850\",\n",
    "    \"pipeline.github.ref\": \"refs/heads/development\",\n",
    "    \"pipeline.github.ref_type\": \"branch\",\n",
    "    \"pipeline.github.ref_name\": \"development\",\n",
    "    \"pipeline.github.event_name\": \"schedule\",\n",
    "    \"task.nr_train_images\": 800,\n",
    "    \"task.notebook\": \"notebooks/train-model.py\",\n",
    "    \"task.max_nr_retries\": \"1\",\n",
    "    \"run.retry_nr\": \"0\",\n",
    "    \"task.timeout_s\": \"None\",\n",
    "    \"task.num_cpus\": 1,\n",
    "    \"_opentelemetry_traceparent\": \"00-62cc40efdfab9a316a46122f0e2f0cbb-400b91e913e0159d-01\",\n",
    "}\n"
   ]
  },
  {
   "cell_type": "code",
   "execution_count": 4,
   "id": "c1339735",
   "metadata": {
    "execution": {
     "iopub.execute_input": "2022-07-08T06:49:23.167041Z",
     "iopub.status.busy": "2022-07-08T06:49:23.166741Z",
     "iopub.status.idle": "2022-07-08T06:49:23.173363Z",
     "shell.execute_reply": "2022-07-08T06:49:23.172626Z"
    },
    "lines_to_next_cell": 0,
    "papermill": {
     "duration": 0.015553,
     "end_time": "2022-07-08T06:49:23.177171",
     "exception": false,
     "start_time": "2022-07-08T06:49:23.161618",
     "status": "completed"
    },
    "tags": []
   },
   "outputs": [],
   "source": [
    "# -----------------------------------------------------------------------"
   ]
  },
  {
   "cell_type": "markdown",
   "id": "b7f5d0ce",
   "metadata": {
    "papermill": {
     "duration": 0.003452,
     "end_time": "2022-07-08T06:49:23.185960",
     "exception": false,
     "start_time": "2022-07-08T06:49:23.182508",
     "status": "completed"
    },
    "tags": []
   },
   "source": [
    "---"
   ]
  },
  {
   "cell_type": "markdown",
   "id": "8ecff10c",
   "metadata": {
    "lines_to_next_cell": 2,
    "papermill": {
     "duration": 0.004186,
     "end_time": "2022-07-08T06:49:23.195102",
     "exception": false,
     "start_time": "2022-07-08T06:49:23.190916",
     "status": "completed"
    },
    "tags": []
   },
   "source": [
    "### Notebook code"
   ]
  },
  {
   "cell_type": "code",
   "execution_count": 5,
   "id": "da80f369",
   "metadata": {
    "execution": {
     "iopub.execute_input": "2022-07-08T06:49:23.206488Z",
     "iopub.status.busy": "2022-07-08T06:49:23.206209Z",
     "iopub.status.idle": "2022-07-08T06:49:23.864051Z",
     "shell.execute_reply": "2022-07-08T06:49:23.863007Z"
    },
    "papermill": {
     "duration": 0.665424,
     "end_time": "2022-07-08T06:49:23.866612",
     "exception": false,
     "start_time": "2022-07-08T06:49:23.201188",
     "status": "completed"
    },
    "tags": []
   },
   "outputs": [
    {
     "name": "stderr",
     "output_type": "stream",
     "text": [
      "2022-07-08 06:49:23,667\tINFO worker.py:842 -- Connecting to existing Ray cluster at address: 172.17.0.2:6379\n"
     ]
    }
   ],
   "source": [
    "from pynb_dag_runner.tasks.task_opentelemetry_logging import PydarLogger\n",
    "\n",
    "logger = PydarLogger(P)"
   ]
  },
  {
   "cell_type": "markdown",
   "id": "1c85744f",
   "metadata": {
    "papermill": {
     "duration": 0.003834,
     "end_time": "2022-07-08T06:49:23.874978",
     "exception": false,
     "start_time": "2022-07-08T06:49:23.871144",
     "status": "completed"
    },
    "tags": []
   },
   "source": [
    "## Load and limit train data"
   ]
  },
  {
   "cell_type": "code",
   "execution_count": 6,
   "id": "111055eb",
   "metadata": {
    "execution": {
     "iopub.execute_input": "2022-07-08T06:49:23.885304Z",
     "iopub.status.busy": "2022-07-08T06:49:23.884694Z",
     "iopub.status.idle": "2022-07-08T06:49:24.341344Z",
     "shell.execute_reply": "2022-07-08T06:49:24.340408Z"
    },
    "papermill": {
     "duration": 0.465195,
     "end_time": "2022-07-08T06:49:24.343586",
     "exception": false,
     "start_time": "2022-07-08T06:49:23.878391",
     "status": "completed"
    },
    "tags": []
   },
   "outputs": [],
   "source": [
    "def load_and_limit_train_data(P):\n",
    "    from common.io import datalake_root, read_numpy\n",
    "    from sklearn.model_selection import train_test_split\n",
    "\n",
    "    X_train_all = read_numpy(datalake_root(P) / \"train-data\" / \"digits.numpy\")\n",
    "    y_train_all = read_numpy(datalake_root(P) / \"train-data\" / \"labels.numpy\")\n",
    "\n",
    "    assert isinstance(P[\"task.nr_train_images\"], int)\n",
    "\n",
    "    # Note: train_test_split will fail if split is 0 or 100%.\n",
    "    assert 0 < P[\"task.nr_train_images\"] < len(y_train_all)\n",
    "\n",
    "    X_train, _, y_train, _ = train_test_split(\n",
    "        X_train_all,\n",
    "        y_train_all,\n",
    "        train_size=P[\"task.nr_train_images\"],\n",
    "        test_size=None,\n",
    "        stratify=y_train_all,\n",
    "        shuffle=True,\n",
    "        random_state=123,\n",
    "    )\n",
    "\n",
    "    assert X_train.shape == (len(y_train), 8 * 8)\n",
    "    return X_train, y_train\n",
    "\n",
    "\n",
    "X_train, y_train = load_and_limit_train_data(P)"
   ]
  },
  {
   "cell_type": "markdown",
   "id": "9b626047",
   "metadata": {
    "papermill": {
     "duration": 0.003327,
     "end_time": "2022-07-08T06:49:24.355313",
     "exception": false,
     "start_time": "2022-07-08T06:49:24.351986",
     "status": "completed"
    },
    "tags": []
   },
   "source": [
    "## Train support vector classifier model\n",
    "\n",
    "Below we assume that the hyperparameter $C$ is known.\n",
    "\n",
    "However, this should ideally be found by a hyperparameter search. That could be\n",
    "done in parallel on the Ray cluster, but this needs some more work. Ie., to use\n",
    "multiple cores in the notebook, those cores should be reserved when starting the\n",
    "notebook task (TODO).\n",
    "\n",
    "- https://docs.ray.io/en/latest/tune/key-concepts.html\n",
    "\n",
    "Note: cv-scores would need to be computed here, since they depend on the train data.\n",
    "After this notebook only the onnx-model is available."
   ]
  },
  {
   "cell_type": "code",
   "execution_count": 7,
   "id": "587df935",
   "metadata": {
    "execution": {
     "iopub.execute_input": "2022-07-08T06:49:24.364053Z",
     "iopub.status.busy": "2022-07-08T06:49:24.363610Z",
     "iopub.status.idle": "2022-07-08T06:49:24.474578Z",
     "shell.execute_reply": "2022-07-08T06:49:24.473391Z"
    },
    "papermill": {
     "duration": 0.118457,
     "end_time": "2022-07-08T06:49:24.476936",
     "exception": false,
     "start_time": "2022-07-08T06:49:24.358479",
     "status": "completed"
    },
    "tags": []
   },
   "outputs": [],
   "source": [
    "from sklearn.svm import SVC"
   ]
  },
  {
   "cell_type": "code",
   "execution_count": 8,
   "id": "bf63e6a6",
   "metadata": {
    "execution": {
     "iopub.execute_input": "2022-07-08T06:49:24.485952Z",
     "iopub.status.busy": "2022-07-08T06:49:24.485445Z",
     "iopub.status.idle": "2022-07-08T06:49:24.639654Z",
     "shell.execute_reply": "2022-07-08T06:49:24.638864Z"
    },
    "papermill": {
     "duration": 0.161297,
     "end_time": "2022-07-08T06:49:24.642110",
     "exception": false,
     "start_time": "2022-07-08T06:49:24.480813",
     "status": "completed"
    },
    "tags": []
   },
   "outputs": [
    {
     "data": {
      "text/plain": [
       "SVC(C=0.001, kernel='linear', probability=True)"
      ]
     },
     "execution_count": 8,
     "metadata": {},
     "output_type": "execute_result"
    }
   ],
   "source": [
    "model = SVC(C=0.001, kernel=\"linear\", probability=True)\n",
    "\n",
    "model.fit(X_train, y_train)"
   ]
  },
  {
   "cell_type": "markdown",
   "id": "3d1b6ed0",
   "metadata": {
    "papermill": {
     "duration": 0.00423,
     "end_time": "2022-07-08T06:49:24.652042",
     "exception": false,
     "start_time": "2022-07-08T06:49:24.647812",
     "status": "completed"
    },
    "tags": []
   },
   "source": [
    "### Q: Can the labels returned by `predict(..)` be computed from probabilities returned by the `predict_prob`-method?"
   ]
  },
  {
   "cell_type": "code",
   "execution_count": 9,
   "id": "828480d6",
   "metadata": {
    "execution": {
     "iopub.execute_input": "2022-07-08T06:49:24.663528Z",
     "iopub.status.busy": "2022-07-08T06:49:24.662491Z",
     "iopub.status.idle": "2022-07-08T06:49:24.732756Z",
     "shell.execute_reply": "2022-07-08T06:49:24.731758Z"
    },
    "papermill": {
     "duration": 0.078088,
     "end_time": "2022-07-08T06:49:24.735006",
     "exception": false,
     "start_time": "2022-07-08T06:49:24.656918",
     "status": "completed"
    },
    "tags": []
   },
   "outputs": [
    {
     "name": "stdout",
     "output_type": "stream",
     "text": [
      " - Logging nr_max_prob_neq_label (int) : 2\n"
     ]
    }
   ],
   "source": [
    "import numpy as np\n",
    "\n",
    "y_train_labels = model.predict(X_train)\n",
    "y_train_probabilities = model.predict_proba(X_train)\n",
    "assert y_train_probabilities.shape == (len(y_train), 10)\n",
    "\n",
    "y_train_max_prob_labels = np.argmax(y_train_probabilities, axis=1)\n",
    "assert y_train_labels.shape == y_train_max_prob_labels.shape == y_train.shape\n",
    "\n",
    "# If the predicted labels would coincide with the labels that have\n",
    "# maximum probability, the below number would be zero\n",
    "logger.log_int(\n",
    "    \"nr_max_prob_neq_label\", int(sum(y_train_max_prob_labels != y_train_labels))\n",
    ")"
   ]
  },
  {
   "cell_type": "markdown",
   "id": "ce813499",
   "metadata": {
    "papermill": {
     "duration": 0.003993,
     "end_time": "2022-07-08T06:49:24.747084",
     "exception": false,
     "start_time": "2022-07-08T06:49:24.743091",
     "status": "completed"
    },
    "tags": []
   },
   "source": [
    "The explanation is (likely) explained in the SVC source, see\n",
    "[here](https://github.com/scikit-learn/scikit-learn/blob/main/sklearn/svm/_base.py).\n",
    "Namely, the outputs from `predict(..)` and `predict_proba(..)` may not in some\n",
    "cases be compatible since the latter is computed using cross-validation while\n",
    "the former is not. Thus, the above number need not be zero."
   ]
  },
  {
   "cell_type": "markdown",
   "id": "7f9a69f4",
   "metadata": {
    "papermill": {
     "duration": 0.003886,
     "end_time": "2022-07-08T06:49:24.755225",
     "exception": false,
     "start_time": "2022-07-08T06:49:24.751339",
     "status": "completed"
    },
    "tags": []
   },
   "source": [
    "## Persist model"
   ]
  },
  {
   "cell_type": "code",
   "execution_count": 10,
   "id": "27bd3328",
   "metadata": {
    "execution": {
     "iopub.execute_input": "2022-07-08T06:49:24.765024Z",
     "iopub.status.busy": "2022-07-08T06:49:24.764478Z",
     "iopub.status.idle": "2022-07-08T06:49:26.238034Z",
     "shell.execute_reply": "2022-07-08T06:49:26.236693Z"
    },
    "papermill": {
     "duration": 1.480703,
     "end_time": "2022-07-08T06:49:26.240498",
     "exception": false,
     "start_time": "2022-07-08T06:49:24.759795",
     "status": "completed"
    },
    "tags": []
   },
   "outputs": [],
   "source": [
    "from skl2onnx import convert_sklearn\n",
    "from skl2onnx.common.data_types import FloatTensorType\n",
    "\n",
    "#\n",
    "from common.io import datalake_root, write_onnx"
   ]
  },
  {
   "cell_type": "code",
   "execution_count": 11,
   "id": "8972dc33",
   "metadata": {
    "execution": {
     "iopub.execute_input": "2022-07-08T06:49:26.250552Z",
     "iopub.status.busy": "2022-07-08T06:49:26.249935Z",
     "iopub.status.idle": "2022-07-08T06:49:26.308735Z",
     "shell.execute_reply": "2022-07-08T06:49:26.307704Z"
    },
    "papermill": {
     "duration": 0.065884,
     "end_time": "2022-07-08T06:49:26.310694",
     "exception": false,
     "start_time": "2022-07-08T06:49:26.244810",
     "status": "completed"
    },
    "tags": []
   },
   "outputs": [],
   "source": [
    "# convert sklearn model into onnx and persist to data lake\n",
    "\n",
    "model_onnx = convert_sklearn(\n",
    "    model, initial_types=[(\"float_input_8x8_image\", FloatTensorType([None, 8 * 8]))]\n",
    ")\n",
    "write_onnx(\n",
    "    datalake_root(P)\n",
    "    / \"models\"\n",
    "    / f\"nr_train_images={P['task.nr_train_images']}\"\n",
    "    / \"model.onnx\",\n",
    "    model_onnx,\n",
    ")"
   ]
  },
  {
   "cell_type": "code",
   "execution_count": null,
   "id": "e70943c9",
   "metadata": {
    "papermill": {
     "duration": 0.004362,
     "end_time": "2022-07-08T06:49:26.319494",
     "exception": false,
     "start_time": "2022-07-08T06:49:26.315132",
     "status": "completed"
    },
    "tags": []
   },
   "outputs": [],
   "source": []
  }
 ],
 "metadata": {
  "jupytext": {
   "cell_metadata_filter": "tags,-all",
   "main_language": "python",
   "notebook_metadata_filter": "-all"
  },
  "language_info": {
   "codemirror_mode": {
    "name": "ipython",
    "version": 3
   },
   "file_extension": ".py",
   "mimetype": "text/x-python",
   "name": "python",
   "nbconvert_exporter": "python",
   "pygments_lexer": "ipython3",
   "version": "3.8.10"
  },
  "papermill": {
   "default_parameters": {},
   "duration": 5.937993,
   "end_time": "2022-07-08T06:49:27.451373",
   "environment_variables": {},
   "exception": null,
   "input_path": "/home/host_user/workspace/mnist-demo-pipeline/mnist-demo-pipeline/notebooks/temp-notebook-xkjnutoj.ipynb",
   "output_path": "notebooks/train-model.ipynb",
   "parameters": {
    "P": {
     "_opentelemetry_traceparent": "00-62cc40efdfab9a316a46122f0e2f0cbb-400b91e913e0159d-01",
     "pipeline.data_lake_root": "/pipeline-outputs/data-lake",
     "pipeline.github.actor": "matiasdahl",
     "pipeline.github.base_ref": "",
     "pipeline.github.event_name": "schedule",
     "pipeline.github.head_ref": "",
     "pipeline.github.job": "run-tests-pipeline-and-persist-pipeline-outputs",
     "pipeline.github.ref": "refs/heads/development",
     "pipeline.github.ref_name": "development",
     "pipeline.github.ref_type": "branch",
     "pipeline.github.repository": "pynb-dag-runner/mnist-digits-demo-pipeline",
     "pipeline.github.run_id": "2634377975",
     "pipeline.github.runner_name": "Hosted Agent",
     "pipeline.github.sha": "147a1be9916173fd4d2cd011d8d51e3411215850",
     "pipeline.github.workflow": "Run automated tests, pipeline and deploy results to static reporting site",
     "pipeline.pipeline_run_id": "2a4fe300-47ae-44e1-b3e9-09f0192b9a3f",
     "pipeline.run_environment": "ci",
     "run.retry_nr": "0",
     "task.max_nr_retries": "1",
     "task.notebook": "notebooks/train-model.py",
     "task.nr_train_images": 800,
     "task.num_cpus": 1,
     "task.timeout_s": "None"
    }
   },
   "start_time": "2022-07-08T06:49:21.513380",
   "version": "2.3.3"
  }
 },
 "nbformat": 4,
 "nbformat_minor": 5
}