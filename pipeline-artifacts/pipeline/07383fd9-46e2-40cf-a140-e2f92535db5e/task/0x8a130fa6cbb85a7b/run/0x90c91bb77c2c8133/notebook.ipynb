{
 "cells": [
  {
   "cell_type": "markdown",
   "id": "418be462",
   "metadata": {
    "papermill": {
     "duration": 0.004199,
     "end_time": "2022-07-18T13:12:24.272644",
     "exception": false,
     "start_time": "2022-07-18T13:12:24.268445",
     "status": "completed"
    },
    "tags": []
   },
   "source": [
    "# Train model\n",
    "\n",
    "The purpose of this notebook is:\n",
    "\n",
    "- Load all training data (images and labels).\n",
    "- Limit number of train images to `task.nr_train_images` (value provided as run parameter).\n",
    "- Train a support vector machine model using sklearn.\n",
    "- Persist the trained model using the ONNX format."
   ]
  },
  {
   "cell_type": "markdown",
   "id": "db03753a",
   "metadata": {
    "papermill": {
     "duration": 0.002205,
     "end_time": "2022-07-18T13:12:24.277411",
     "exception": false,
     "start_time": "2022-07-18T13:12:24.275206",
     "status": "completed"
    },
    "tags": []
   },
   "source": [
    "### Determine run parameters"
   ]
  },
  {
   "cell_type": "code",
   "execution_count": 1,
   "id": "457f7e3a",
   "metadata": {
    "execution": {
     "iopub.execute_input": "2022-07-18T13:12:24.284655Z",
     "iopub.status.busy": "2022-07-18T13:12:24.283996Z",
     "iopub.status.idle": "2022-07-18T13:12:24.291582Z",
     "shell.execute_reply": "2022-07-18T13:12:24.290532Z"
    },
    "lines_to_next_cell": 0,
    "papermill": {
     "duration": 0.016188,
     "end_time": "2022-07-18T13:12:24.296084",
     "exception": false,
     "start_time": "2022-07-18T13:12:24.279896",
     "status": "completed"
    },
    "tags": []
   },
   "outputs": [],
   "source": [
    "# ----------------- Parameters for interactive development --------------\n",
    "P = {\n",
    "    \"pipeline.data_lake_root\": \"/pipeline-outputs/data-lake\",\n",
    "    \"task.nr_train_images\": 600,\n",
    "}"
   ]
  },
  {
   "cell_type": "code",
   "execution_count": 2,
   "id": "492da16a",
   "metadata": {
    "execution": {
     "iopub.execute_input": "2022-07-18T13:12:24.304207Z",
     "iopub.status.busy": "2022-07-18T13:12:24.303442Z",
     "iopub.status.idle": "2022-07-18T13:12:24.306994Z",
     "shell.execute_reply": "2022-07-18T13:12:24.306425Z"
    },
    "lines_to_next_cell": 0,
    "papermill": {
     "duration": 0.009921,
     "end_time": "2022-07-18T13:12:24.308292",
     "exception": false,
     "start_time": "2022-07-18T13:12:24.298371",
     "status": "completed"
    },
    "tags": [
     "parameters"
    ]
   },
   "outputs": [],
   "source": [
    "# - During automated runs parameters will be injected in the below cell -"
   ]
  },
  {
   "cell_type": "code",
   "execution_count": 3,
   "id": "13699890",
   "metadata": {
    "execution": {
     "iopub.execute_input": "2022-07-18T13:12:24.315316Z",
     "iopub.status.busy": "2022-07-18T13:12:24.314924Z",
     "iopub.status.idle": "2022-07-18T13:12:24.319418Z",
     "shell.execute_reply": "2022-07-18T13:12:24.318702Z"
    },
    "papermill": {
     "duration": 0.010098,
     "end_time": "2022-07-18T13:12:24.321123",
     "exception": false,
     "start_time": "2022-07-18T13:12:24.311025",
     "status": "completed"
    },
    "tags": [
     "injected-parameters"
    ]
   },
   "outputs": [],
   "source": [
    "# Parameters\n",
    "P = {\n",
    "    \"pipeline.data_lake_root\": \"/pipeline-outputs/data-lake\",\n",
    "    \"pipeline.run_environment\": \"ci\",\n",
    "    \"pipeline.pipeline_run_id\": \"07383fd9-46e2-40cf-a140-e2f92535db5e\",\n",
    "    \"pipeline.github.repository\": \"pynb-dag-runner/mnist-digits-demo-pipeline\",\n",
    "    \"pipeline.github.workflow\": \"Run automated tests, pipeline and deploy results to static reporting site\",\n",
    "    \"pipeline.github.runner_name\": \"GitHub Actions 2\",\n",
    "    \"pipeline.github.run_id\": \"2690707774\",\n",
    "    \"pipeline.github.actor\": \"matiasdahl\",\n",
    "    \"pipeline.github.job\": \"run-tests-pipeline-and-persist-pipeline-outputs\",\n",
    "    \"pipeline.github.base_ref\": \"development\",\n",
    "    \"pipeline.github.head_ref\": \"graph-parsing\",\n",
    "    \"pipeline.github.sha\": \"eed65b978db0ca9043f081b1308c6cd3709367a0\",\n",
    "    \"pipeline.github.ref\": \"refs/pull/57/merge\",\n",
    "    \"pipeline.github.ref_type\": \"branch\",\n",
    "    \"pipeline.github.ref_name\": \"57/merge\",\n",
    "    \"pipeline.github.event_name\": \"pull_request\",\n",
    "    \"task.nr_train_images\": 1000,\n",
    "    \"task.notebook\": \"notebooks/train-model.py\",\n",
    "    \"task.max_nr_retries\": \"1\",\n",
    "    \"run.retry_nr\": \"0\",\n",
    "    \"task.timeout_s\": \"None\",\n",
    "    \"task.num_cpus\": 1,\n",
    "    \"_opentelemetry_traceparent\": \"00-6b5f3fe45217d3914905c5bc9205e2c4-d045a35bb59076ec-01\",\n",
    "}\n"
   ]
  },
  {
   "cell_type": "code",
   "execution_count": 4,
   "id": "5fd3d55f",
   "metadata": {
    "execution": {
     "iopub.execute_input": "2022-07-18T13:12:24.327896Z",
     "iopub.status.busy": "2022-07-18T13:12:24.327422Z",
     "iopub.status.idle": "2022-07-18T13:12:24.330831Z",
     "shell.execute_reply": "2022-07-18T13:12:24.329863Z"
    },
    "lines_to_next_cell": 0,
    "papermill": {
     "duration": 0.008398,
     "end_time": "2022-07-18T13:12:24.332396",
     "exception": false,
     "start_time": "2022-07-18T13:12:24.323998",
     "status": "completed"
    },
    "tags": []
   },
   "outputs": [],
   "source": [
    "# -----------------------------------------------------------------------"
   ]
  },
  {
   "cell_type": "markdown",
   "id": "dc0bec72",
   "metadata": {
    "papermill": {
     "duration": 0.002592,
     "end_time": "2022-07-18T13:12:24.337480",
     "exception": false,
     "start_time": "2022-07-18T13:12:24.334888",
     "status": "completed"
    },
    "tags": []
   },
   "source": [
    "---"
   ]
  },
  {
   "cell_type": "markdown",
   "id": "2ea5b9bc",
   "metadata": {
    "lines_to_next_cell": 2,
    "papermill": {
     "duration": 0.002929,
     "end_time": "2022-07-18T13:12:24.342584",
     "exception": false,
     "start_time": "2022-07-18T13:12:24.339655",
     "status": "completed"
    },
    "tags": []
   },
   "source": [
    "### Notebook code"
   ]
  },
  {
   "cell_type": "code",
   "execution_count": 5,
   "id": "a7c818b2",
   "metadata": {
    "execution": {
     "iopub.execute_input": "2022-07-18T13:12:24.349144Z",
     "iopub.status.busy": "2022-07-18T13:12:24.348689Z",
     "iopub.status.idle": "2022-07-18T13:12:24.787469Z",
     "shell.execute_reply": "2022-07-18T13:12:24.786533Z"
    },
    "papermill": {
     "duration": 0.44541,
     "end_time": "2022-07-18T13:12:24.790393",
     "exception": false,
     "start_time": "2022-07-18T13:12:24.344983",
     "status": "completed"
    },
    "tags": []
   },
   "outputs": [
    {
     "name": "stderr",
     "output_type": "stream",
     "text": [
      "2022-07-18 13:12:24,620\tINFO worker.py:842 -- Connecting to existing Ray cluster at address: 172.17.0.2:6379\n"
     ]
    }
   ],
   "source": [
    "from pynb_dag_runner.tasks.task_opentelemetry_logging import PydarLogger\n",
    "\n",
    "logger = PydarLogger(P)"
   ]
  },
  {
   "cell_type": "markdown",
   "id": "e7c72043",
   "metadata": {
    "papermill": {
     "duration": 0.004444,
     "end_time": "2022-07-18T13:12:24.798647",
     "exception": false,
     "start_time": "2022-07-18T13:12:24.794203",
     "status": "completed"
    },
    "tags": []
   },
   "source": [
    "## Load and limit train data"
   ]
  },
  {
   "cell_type": "code",
   "execution_count": 6,
   "id": "7018b7f2",
   "metadata": {
    "execution": {
     "iopub.execute_input": "2022-07-18T13:12:24.808177Z",
     "iopub.status.busy": "2022-07-18T13:12:24.807748Z",
     "iopub.status.idle": "2022-07-18T13:12:25.349345Z",
     "shell.execute_reply": "2022-07-18T13:12:25.345922Z"
    },
    "papermill": {
     "duration": 0.549435,
     "end_time": "2022-07-18T13:12:25.351976",
     "exception": false,
     "start_time": "2022-07-18T13:12:24.802541",
     "status": "completed"
    },
    "tags": []
   },
   "outputs": [],
   "source": [
    "def load_and_limit_train_data(P):\n",
    "    from common.io import datalake_root, read_numpy\n",
    "    from sklearn.model_selection import train_test_split\n",
    "\n",
    "    X_train_all = read_numpy(datalake_root(P) / \"train-data\" / \"digits.numpy\")\n",
    "    y_train_all = read_numpy(datalake_root(P) / \"train-data\" / \"labels.numpy\")\n",
    "\n",
    "    assert isinstance(P[\"task.nr_train_images\"], int)\n",
    "\n",
    "    # Note: train_test_split will fail if split is 0 or 100%.\n",
    "    assert 0 < P[\"task.nr_train_images\"] < len(y_train_all)\n",
    "\n",
    "    X_train, _, y_train, _ = train_test_split(\n",
    "        X_train_all,\n",
    "        y_train_all,\n",
    "        train_size=P[\"task.nr_train_images\"],\n",
    "        test_size=None,\n",
    "        stratify=y_train_all,\n",
    "        shuffle=True,\n",
    "        random_state=123,\n",
    "    )\n",
    "\n",
    "    assert X_train.shape == (len(y_train), 8 * 8)\n",
    "    return X_train, y_train\n",
    "\n",
    "\n",
    "X_train, y_train = load_and_limit_train_data(P)"
   ]
  },
  {
   "cell_type": "markdown",
   "id": "db5465e7",
   "metadata": {
    "papermill": {
     "duration": 0.010306,
     "end_time": "2022-07-18T13:12:25.366958",
     "exception": false,
     "start_time": "2022-07-18T13:12:25.356652",
     "status": "completed"
    },
    "tags": []
   },
   "source": [
    "## Train support vector classifier model\n",
    "\n",
    "Below we assume that the hyperparameter $C$ is known.\n",
    "\n",
    "However, this should ideally be found by a hyperparameter search. That could be\n",
    "done in parallel on the Ray cluster, but this needs some more work. Ie., to use\n",
    "multiple cores in the notebook, those cores should be reserved when starting the\n",
    "notebook task (TODO).\n",
    "\n",
    "- https://docs.ray.io/en/latest/tune/key-concepts.html\n",
    "\n",
    "Note: cv-scores would need to be computed here, since they depend on the train data.\n",
    "After this notebook only the onnx-model is available."
   ]
  },
  {
   "cell_type": "code",
   "execution_count": 7,
   "id": "4343905c",
   "metadata": {
    "execution": {
     "iopub.execute_input": "2022-07-18T13:12:25.384395Z",
     "iopub.status.busy": "2022-07-18T13:12:25.384053Z",
     "iopub.status.idle": "2022-07-18T13:12:25.426875Z",
     "shell.execute_reply": "2022-07-18T13:12:25.420521Z"
    },
    "papermill": {
     "duration": 0.052559,
     "end_time": "2022-07-18T13:12:25.429615",
     "exception": false,
     "start_time": "2022-07-18T13:12:25.377056",
     "status": "completed"
    },
    "tags": []
   },
   "outputs": [],
   "source": [
    "from sklearn.svm import SVC"
   ]
  },
  {
   "cell_type": "code",
   "execution_count": 8,
   "id": "a2465ba1",
   "metadata": {
    "execution": {
     "iopub.execute_input": "2022-07-18T13:12:25.439262Z",
     "iopub.status.busy": "2022-07-18T13:12:25.438910Z",
     "iopub.status.idle": "2022-07-18T13:12:25.629274Z",
     "shell.execute_reply": "2022-07-18T13:12:25.628567Z"
    },
    "papermill": {
     "duration": 0.198732,
     "end_time": "2022-07-18T13:12:25.631481",
     "exception": false,
     "start_time": "2022-07-18T13:12:25.432749",
     "status": "completed"
    },
    "tags": []
   },
   "outputs": [
    {
     "data": {
      "text/plain": [
       "SVC(C=0.001, kernel='linear', probability=True)"
      ]
     },
     "execution_count": 8,
     "metadata": {},
     "output_type": "execute_result"
    }
   ],
   "source": [
    "model = SVC(C=0.001, kernel=\"linear\", probability=True)\n",
    "\n",
    "model.fit(X_train, y_train)"
   ]
  },
  {
   "cell_type": "markdown",
   "id": "d0fe494e",
   "metadata": {
    "papermill": {
     "duration": 0.004909,
     "end_time": "2022-07-18T13:12:25.643295",
     "exception": false,
     "start_time": "2022-07-18T13:12:25.638386",
     "status": "completed"
    },
    "tags": []
   },
   "source": [
    "### Q: Can the labels returned by `predict(..)` be computed from probabilities returned by the `predict_prob`-method?"
   ]
  },
  {
   "cell_type": "code",
   "execution_count": 9,
   "id": "0fb0ad39",
   "metadata": {
    "execution": {
     "iopub.execute_input": "2022-07-18T13:12:25.653890Z",
     "iopub.status.busy": "2022-07-18T13:12:25.653566Z",
     "iopub.status.idle": "2022-07-18T13:12:25.747346Z",
     "shell.execute_reply": "2022-07-18T13:12:25.746620Z"
    },
    "papermill": {
     "duration": 0.101751,
     "end_time": "2022-07-18T13:12:25.749616",
     "exception": false,
     "start_time": "2022-07-18T13:12:25.647865",
     "status": "completed"
    },
    "tags": []
   },
   "outputs": [
    {
     "name": "stdout",
     "output_type": "stream",
     "text": [
      " - Logging nr_max_prob_neq_label (int) : 1\n"
     ]
    }
   ],
   "source": [
    "import numpy as np\n",
    "\n",
    "y_train_labels = model.predict(X_train)\n",
    "y_train_probabilities = model.predict_proba(X_train)\n",
    "assert y_train_probabilities.shape == (len(y_train), 10)\n",
    "\n",
    "y_train_max_prob_labels = np.argmax(y_train_probabilities, axis=1)\n",
    "assert y_train_labels.shape == y_train_max_prob_labels.shape == y_train.shape\n",
    "\n",
    "# If the predicted labels would coincide with the labels that have\n",
    "# maximum probability, the below number would be zero\n",
    "logger.log_int(\n",
    "    \"nr_max_prob_neq_label\", int(sum(y_train_max_prob_labels != y_train_labels))\n",
    ")"
   ]
  },
  {
   "cell_type": "markdown",
   "id": "ac266e58",
   "metadata": {
    "papermill": {
     "duration": 0.004655,
     "end_time": "2022-07-18T13:12:25.759429",
     "exception": false,
     "start_time": "2022-07-18T13:12:25.754774",
     "status": "completed"
    },
    "tags": []
   },
   "source": [
    "The explanation is (likely) explained in the SVC source, see\n",
    "[here](https://github.com/scikit-learn/scikit-learn/blob/main/sklearn/svm/_base.py).\n",
    "Namely, the outputs from `predict(..)` and `predict_proba(..)` may not in some\n",
    "cases be compatible since the latter is computed using cross-validation while\n",
    "the former is not. Thus, the above number need not be zero."
   ]
  },
  {
   "cell_type": "markdown",
   "id": "186a0647",
   "metadata": {
    "papermill": {
     "duration": 0.004766,
     "end_time": "2022-07-18T13:12:25.769429",
     "exception": false,
     "start_time": "2022-07-18T13:12:25.764663",
     "status": "completed"
    },
    "tags": []
   },
   "source": [
    "## Persist model"
   ]
  },
  {
   "cell_type": "code",
   "execution_count": 10,
   "id": "e5046afb",
   "metadata": {
    "execution": {
     "iopub.execute_input": "2022-07-18T13:12:25.780595Z",
     "iopub.status.busy": "2022-07-18T13:12:25.780279Z",
     "iopub.status.idle": "2022-07-18T13:12:26.681693Z",
     "shell.execute_reply": "2022-07-18T13:12:26.680698Z"
    },
    "papermill": {
     "duration": 0.910007,
     "end_time": "2022-07-18T13:12:26.684173",
     "exception": false,
     "start_time": "2022-07-18T13:12:25.774166",
     "status": "completed"
    },
    "tags": []
   },
   "outputs": [],
   "source": [
    "from skl2onnx import convert_sklearn\n",
    "from skl2onnx.common.data_types import FloatTensorType\n",
    "\n",
    "#\n",
    "from common.io import datalake_root, write_onnx"
   ]
  },
  {
   "cell_type": "code",
   "execution_count": 11,
   "id": "866c22c8",
   "metadata": {
    "execution": {
     "iopub.execute_input": "2022-07-18T13:12:26.696835Z",
     "iopub.status.busy": "2022-07-18T13:12:26.696377Z",
     "iopub.status.idle": "2022-07-18T13:12:26.771247Z",
     "shell.execute_reply": "2022-07-18T13:12:26.770467Z"
    },
    "papermill": {
     "duration": 0.084874,
     "end_time": "2022-07-18T13:12:26.774096",
     "exception": false,
     "start_time": "2022-07-18T13:12:26.689222",
     "status": "completed"
    },
    "tags": []
   },
   "outputs": [],
   "source": [
    "# convert sklearn model into onnx and persist to data lake\n",
    "\n",
    "model_onnx = convert_sklearn(\n",
    "    model, initial_types=[(\"float_input_8x8_image\", FloatTensorType([None, 8 * 8]))]\n",
    ")\n",
    "write_onnx(\n",
    "    datalake_root(P)\n",
    "    / \"models\"\n",
    "    / f\"nr_train_images={P['task.nr_train_images']}\"\n",
    "    / \"model.onnx\",\n",
    "    model_onnx,\n",
    ")"
   ]
  },
  {
   "cell_type": "code",
   "execution_count": null,
   "id": "a25c9ed9",
   "metadata": {
    "papermill": {
     "duration": 0.00617,
     "end_time": "2022-07-18T13:12:26.786521",
     "exception": false,
     "start_time": "2022-07-18T13:12:26.780351",
     "status": "completed"
    },
    "tags": []
   },
   "outputs": [],
   "source": []
  }
 ],
 "metadata": {
  "jupytext": {
   "cell_metadata_filter": "tags,-all",
   "main_language": "python",
   "notebook_metadata_filter": "-all"
  },
  "language_info": {
   "codemirror_mode": {
    "name": "ipython",
    "version": 3
   },
   "file_extension": ".py",
   "mimetype": "text/x-python",
   "name": "python",
   "nbconvert_exporter": "python",
   "pygments_lexer": "ipython3",
   "version": "3.8.10"
  },
  "papermill": {
   "default_parameters": {},
   "duration": 5.503471,
   "end_time": "2022-07-18T13:12:28.019085",
   "environment_variables": {},
   "exception": null,
   "input_path": "/home/host_user/workspace/mnist-demo-pipeline/mnist-demo-pipeline/notebooks/temp-notebook-m4iuobla.ipynb",
   "output_path": "notebooks/train-model.ipynb",
   "parameters": {
    "P": {
     "_opentelemetry_traceparent": "00-6b5f3fe45217d3914905c5bc9205e2c4-d045a35bb59076ec-01",
     "pipeline.data_lake_root": "/pipeline-outputs/data-lake",
     "pipeline.github.actor": "matiasdahl",
     "pipeline.github.base_ref": "development",
     "pipeline.github.event_name": "pull_request",
     "pipeline.github.head_ref": "graph-parsing",
     "pipeline.github.job": "run-tests-pipeline-and-persist-pipeline-outputs",
     "pipeline.github.ref": "refs/pull/57/merge",
     "pipeline.github.ref_name": "57/merge",
     "pipeline.github.ref_type": "branch",
     "pipeline.github.repository": "pynb-dag-runner/mnist-digits-demo-pipeline",
     "pipeline.github.run_id": "2690707774",
     "pipeline.github.runner_name": "GitHub Actions 2",
     "pipeline.github.sha": "eed65b978db0ca9043f081b1308c6cd3709367a0",
     "pipeline.github.workflow": "Run automated tests, pipeline and deploy results to static reporting site",
     "pipeline.pipeline_run_id": "07383fd9-46e2-40cf-a140-e2f92535db5e",
     "pipeline.run_environment": "ci",
     "run.retry_nr": "0",
     "task.max_nr_retries": "1",
     "task.notebook": "notebooks/train-model.py",
     "task.nr_train_images": 1000,
     "task.num_cpus": 1,
     "task.timeout_s": "None"
    }
   },
   "start_time": "2022-07-18T13:12:22.515614",
   "version": "2.3.3"
  }
 },
 "nbformat": 4,
 "nbformat_minor": 5
}