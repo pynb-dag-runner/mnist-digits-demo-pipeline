{
 "cells": [
  {
   "cell_type": "markdown",
   "id": "3f381a02",
   "metadata": {
    "papermill": {
     "duration": 0.007476,
     "end_time": "2022-07-18T13:12:28.206415",
     "exception": false,
     "start_time": "2022-07-18T13:12:28.198939",
     "status": "completed"
    },
    "tags": []
   },
   "source": [
    "# Train model\n",
    "\n",
    "The purpose of this notebook is:\n",
    "\n",
    "- Load all training data (images and labels).\n",
    "- Limit number of train images to `task.nr_train_images` (value provided as run parameter).\n",
    "- Train a support vector machine model using sklearn.\n",
    "- Persist the trained model using the ONNX format."
   ]
  },
  {
   "cell_type": "markdown",
   "id": "8006c189",
   "metadata": {
    "papermill": {
     "duration": 0.004868,
     "end_time": "2022-07-18T13:12:28.217811",
     "exception": false,
     "start_time": "2022-07-18T13:12:28.212943",
     "status": "completed"
    },
    "tags": []
   },
   "source": [
    "### Determine run parameters"
   ]
  },
  {
   "cell_type": "code",
   "execution_count": 1,
   "id": "7e2b02dd",
   "metadata": {
    "execution": {
     "iopub.execute_input": "2022-07-18T13:12:28.229192Z",
     "iopub.status.busy": "2022-07-18T13:12:28.228854Z",
     "iopub.status.idle": "2022-07-18T13:12:28.242161Z",
     "shell.execute_reply": "2022-07-18T13:12:28.241486Z"
    },
    "lines_to_next_cell": 0,
    "papermill": {
     "duration": 0.02512,
     "end_time": "2022-07-18T13:12:28.246634",
     "exception": false,
     "start_time": "2022-07-18T13:12:28.221514",
     "status": "completed"
    },
    "tags": []
   },
   "outputs": [],
   "source": [
    "# ----------------- Parameters for interactive development --------------\n",
    "P = {\n",
    "    \"pipeline.data_lake_root\": \"/pipeline-outputs/data-lake\",\n",
    "    \"task.nr_train_images\": 600,\n",
    "}"
   ]
  },
  {
   "cell_type": "code",
   "execution_count": 2,
   "id": "f9c59a34",
   "metadata": {
    "execution": {
     "iopub.execute_input": "2022-07-18T13:12:28.257859Z",
     "iopub.status.busy": "2022-07-18T13:12:28.257524Z",
     "iopub.status.idle": "2022-07-18T13:12:28.261336Z",
     "shell.execute_reply": "2022-07-18T13:12:28.260640Z"
    },
    "lines_to_next_cell": 0,
    "papermill": {
     "duration": 0.015973,
     "end_time": "2022-07-18T13:12:28.266768",
     "exception": false,
     "start_time": "2022-07-18T13:12:28.250795",
     "status": "completed"
    },
    "tags": [
     "parameters"
    ]
   },
   "outputs": [],
   "source": [
    "# - During automated runs parameters will be injected in the below cell -"
   ]
  },
  {
   "cell_type": "code",
   "execution_count": 3,
   "id": "92c38134",
   "metadata": {
    "execution": {
     "iopub.execute_input": "2022-07-18T13:12:28.278638Z",
     "iopub.status.busy": "2022-07-18T13:12:28.278314Z",
     "iopub.status.idle": "2022-07-18T13:12:28.284514Z",
     "shell.execute_reply": "2022-07-18T13:12:28.283075Z"
    },
    "papermill": {
     "duration": 0.017635,
     "end_time": "2022-07-18T13:12:28.288988",
     "exception": false,
     "start_time": "2022-07-18T13:12:28.271353",
     "status": "completed"
    },
    "tags": [
     "injected-parameters"
    ]
   },
   "outputs": [],
   "source": [
    "# Parameters\n",
    "P = {\n",
    "    \"pipeline.data_lake_root\": \"/pipeline-outputs/data-lake\",\n",
    "    \"pipeline.run_environment\": \"ci\",\n",
    "    \"pipeline.pipeline_run_id\": \"07383fd9-46e2-40cf-a140-e2f92535db5e\",\n",
    "    \"pipeline.github.repository\": \"pynb-dag-runner/mnist-digits-demo-pipeline\",\n",
    "    \"pipeline.github.workflow\": \"Run automated tests, pipeline and deploy results to static reporting site\",\n",
    "    \"pipeline.github.runner_name\": \"GitHub Actions 2\",\n",
    "    \"pipeline.github.run_id\": \"2690707774\",\n",
    "    \"pipeline.github.actor\": \"matiasdahl\",\n",
    "    \"pipeline.github.job\": \"run-tests-pipeline-and-persist-pipeline-outputs\",\n",
    "    \"pipeline.github.base_ref\": \"development\",\n",
    "    \"pipeline.github.head_ref\": \"graph-parsing\",\n",
    "    \"pipeline.github.sha\": \"eed65b978db0ca9043f081b1308c6cd3709367a0\",\n",
    "    \"pipeline.github.ref\": \"refs/pull/57/merge\",\n",
    "    \"pipeline.github.ref_type\": \"branch\",\n",
    "    \"pipeline.github.ref_name\": \"57/merge\",\n",
    "    \"pipeline.github.event_name\": \"pull_request\",\n",
    "    \"task.nr_train_images\": 1200,\n",
    "    \"task.notebook\": \"notebooks/train-model.py\",\n",
    "    \"task.max_nr_retries\": \"1\",\n",
    "    \"run.retry_nr\": \"0\",\n",
    "    \"task.timeout_s\": \"None\",\n",
    "    \"task.num_cpus\": 1,\n",
    "    \"_opentelemetry_traceparent\": \"00-6b5f3fe45217d3914905c5bc9205e2c4-3619041aa6873d01-01\",\n",
    "}\n"
   ]
  },
  {
   "cell_type": "code",
   "execution_count": 4,
   "id": "64333aaf",
   "metadata": {
    "execution": {
     "iopub.execute_input": "2022-07-18T13:12:28.300764Z",
     "iopub.status.busy": "2022-07-18T13:12:28.300443Z",
     "iopub.status.idle": "2022-07-18T13:12:28.304845Z",
     "shell.execute_reply": "2022-07-18T13:12:28.303366Z"
    },
    "lines_to_next_cell": 0,
    "papermill": {
     "duration": 0.020255,
     "end_time": "2022-07-18T13:12:28.313052",
     "exception": false,
     "start_time": "2022-07-18T13:12:28.292797",
     "status": "completed"
    },
    "tags": []
   },
   "outputs": [],
   "source": [
    "# -----------------------------------------------------------------------"
   ]
  },
  {
   "cell_type": "markdown",
   "id": "91952fdd",
   "metadata": {
    "papermill": {
     "duration": 0.004898,
     "end_time": "2022-07-18T13:12:28.324798",
     "exception": false,
     "start_time": "2022-07-18T13:12:28.319900",
     "status": "completed"
    },
    "tags": []
   },
   "source": [
    "---"
   ]
  },
  {
   "cell_type": "markdown",
   "id": "e433c055",
   "metadata": {
    "lines_to_next_cell": 2,
    "papermill": {
     "duration": 0.004776,
     "end_time": "2022-07-18T13:12:28.335126",
     "exception": false,
     "start_time": "2022-07-18T13:12:28.330350",
     "status": "completed"
    },
    "tags": []
   },
   "source": [
    "### Notebook code"
   ]
  },
  {
   "cell_type": "code",
   "execution_count": 5,
   "id": "c843e43f",
   "metadata": {
    "execution": {
     "iopub.execute_input": "2022-07-18T13:12:28.348914Z",
     "iopub.status.busy": "2022-07-18T13:12:28.348593Z",
     "iopub.status.idle": "2022-07-18T13:12:28.924658Z",
     "shell.execute_reply": "2022-07-18T13:12:28.923836Z"
    },
    "papermill": {
     "duration": 0.586158,
     "end_time": "2022-07-18T13:12:28.926950",
     "exception": false,
     "start_time": "2022-07-18T13:12:28.340792",
     "status": "completed"
    },
    "tags": []
   },
   "outputs": [
    {
     "name": "stderr",
     "output_type": "stream",
     "text": [
      "2022-07-18 13:12:28,734\tINFO worker.py:842 -- Connecting to existing Ray cluster at address: 172.17.0.2:6379\n"
     ]
    }
   ],
   "source": [
    "from pynb_dag_runner.tasks.task_opentelemetry_logging import PydarLogger\n",
    "\n",
    "logger = PydarLogger(P)"
   ]
  },
  {
   "cell_type": "markdown",
   "id": "1787b4bf",
   "metadata": {
    "papermill": {
     "duration": 0.003966,
     "end_time": "2022-07-18T13:12:28.934926",
     "exception": false,
     "start_time": "2022-07-18T13:12:28.930960",
     "status": "completed"
    },
    "tags": []
   },
   "source": [
    "## Load and limit train data"
   ]
  },
  {
   "cell_type": "code",
   "execution_count": 6,
   "id": "d66dea24",
   "metadata": {
    "execution": {
     "iopub.execute_input": "2022-07-18T13:12:28.946309Z",
     "iopub.status.busy": "2022-07-18T13:12:28.945868Z",
     "iopub.status.idle": "2022-07-18T13:12:29.490300Z",
     "shell.execute_reply": "2022-07-18T13:12:29.489568Z"
    },
    "papermill": {
     "duration": 0.552397,
     "end_time": "2022-07-18T13:12:29.492168",
     "exception": false,
     "start_time": "2022-07-18T13:12:28.939771",
     "status": "completed"
    },
    "tags": []
   },
   "outputs": [],
   "source": [
    "def load_and_limit_train_data(P):\n",
    "    from common.io import datalake_root, read_numpy\n",
    "    from sklearn.model_selection import train_test_split\n",
    "\n",
    "    X_train_all = read_numpy(datalake_root(P) / \"train-data\" / \"digits.numpy\")\n",
    "    y_train_all = read_numpy(datalake_root(P) / \"train-data\" / \"labels.numpy\")\n",
    "\n",
    "    assert isinstance(P[\"task.nr_train_images\"], int)\n",
    "\n",
    "    # Note: train_test_split will fail if split is 0 or 100%.\n",
    "    assert 0 < P[\"task.nr_train_images\"] < len(y_train_all)\n",
    "\n",
    "    X_train, _, y_train, _ = train_test_split(\n",
    "        X_train_all,\n",
    "        y_train_all,\n",
    "        train_size=P[\"task.nr_train_images\"],\n",
    "        test_size=None,\n",
    "        stratify=y_train_all,\n",
    "        shuffle=True,\n",
    "        random_state=123,\n",
    "    )\n",
    "\n",
    "    assert X_train.shape == (len(y_train), 8 * 8)\n",
    "    return X_train, y_train\n",
    "\n",
    "\n",
    "X_train, y_train = load_and_limit_train_data(P)"
   ]
  },
  {
   "cell_type": "markdown",
   "id": "1e51d0bf",
   "metadata": {
    "papermill": {
     "duration": 0.006625,
     "end_time": "2022-07-18T13:12:29.504133",
     "exception": false,
     "start_time": "2022-07-18T13:12:29.497508",
     "status": "completed"
    },
    "tags": []
   },
   "source": [
    "## Train support vector classifier model\n",
    "\n",
    "Below we assume that the hyperparameter $C$ is known.\n",
    "\n",
    "However, this should ideally be found by a hyperparameter search. That could be\n",
    "done in parallel on the Ray cluster, but this needs some more work. Ie., to use\n",
    "multiple cores in the notebook, those cores should be reserved when starting the\n",
    "notebook task (TODO).\n",
    "\n",
    "- https://docs.ray.io/en/latest/tune/key-concepts.html\n",
    "\n",
    "Note: cv-scores would need to be computed here, since they depend on the train data.\n",
    "After this notebook only the onnx-model is available."
   ]
  },
  {
   "cell_type": "code",
   "execution_count": 7,
   "id": "59fa2272",
   "metadata": {
    "execution": {
     "iopub.execute_input": "2022-07-18T13:12:29.516921Z",
     "iopub.status.busy": "2022-07-18T13:12:29.516555Z",
     "iopub.status.idle": "2022-07-18T13:12:29.552974Z",
     "shell.execute_reply": "2022-07-18T13:12:29.552217Z"
    },
    "papermill": {
     "duration": 0.051389,
     "end_time": "2022-07-18T13:12:29.560927",
     "exception": false,
     "start_time": "2022-07-18T13:12:29.509538",
     "status": "completed"
    },
    "tags": []
   },
   "outputs": [],
   "source": [
    "from sklearn.svm import SVC"
   ]
  },
  {
   "cell_type": "code",
   "execution_count": 8,
   "id": "a6ab2ed4",
   "metadata": {
    "execution": {
     "iopub.execute_input": "2022-07-18T13:12:29.572721Z",
     "iopub.status.busy": "2022-07-18T13:12:29.571806Z",
     "iopub.status.idle": "2022-07-18T13:12:29.831623Z",
     "shell.execute_reply": "2022-07-18T13:12:29.830593Z"
    },
    "papermill": {
     "duration": 0.268965,
     "end_time": "2022-07-18T13:12:29.834074",
     "exception": false,
     "start_time": "2022-07-18T13:12:29.565109",
     "status": "completed"
    },
    "tags": []
   },
   "outputs": [
    {
     "data": {
      "text/plain": [
       "SVC(C=0.001, kernel='linear', probability=True)"
      ]
     },
     "execution_count": 8,
     "metadata": {},
     "output_type": "execute_result"
    }
   ],
   "source": [
    "model = SVC(C=0.001, kernel=\"linear\", probability=True)\n",
    "\n",
    "model.fit(X_train, y_train)"
   ]
  },
  {
   "cell_type": "markdown",
   "id": "44878d6b",
   "metadata": {
    "papermill": {
     "duration": 0.005111,
     "end_time": "2022-07-18T13:12:29.844371",
     "exception": false,
     "start_time": "2022-07-18T13:12:29.839260",
     "status": "completed"
    },
    "tags": []
   },
   "source": [
    "### Q: Can the labels returned by `predict(..)` be computed from probabilities returned by the `predict_prob`-method?"
   ]
  },
  {
   "cell_type": "code",
   "execution_count": 9,
   "id": "aee8bfa7",
   "metadata": {
    "execution": {
     "iopub.execute_input": "2022-07-18T13:12:29.855012Z",
     "iopub.status.busy": "2022-07-18T13:12:29.854683Z",
     "iopub.status.idle": "2022-07-18T13:12:29.991237Z",
     "shell.execute_reply": "2022-07-18T13:12:29.990367Z"
    },
    "papermill": {
     "duration": 0.144954,
     "end_time": "2022-07-18T13:12:29.993702",
     "exception": false,
     "start_time": "2022-07-18T13:12:29.848748",
     "status": "completed"
    },
    "tags": []
   },
   "outputs": [
    {
     "name": "stdout",
     "output_type": "stream",
     "text": [
      " - Logging nr_max_prob_neq_label (int) : 4\n"
     ]
    }
   ],
   "source": [
    "import numpy as np\n",
    "\n",
    "y_train_labels = model.predict(X_train)\n",
    "y_train_probabilities = model.predict_proba(X_train)\n",
    "assert y_train_probabilities.shape == (len(y_train), 10)\n",
    "\n",
    "y_train_max_prob_labels = np.argmax(y_train_probabilities, axis=1)\n",
    "assert y_train_labels.shape == y_train_max_prob_labels.shape == y_train.shape\n",
    "\n",
    "# If the predicted labels would coincide with the labels that have\n",
    "# maximum probability, the below number would be zero\n",
    "logger.log_int(\n",
    "    \"nr_max_prob_neq_label\", int(sum(y_train_max_prob_labels != y_train_labels))\n",
    ")"
   ]
  },
  {
   "cell_type": "markdown",
   "id": "84b8fddd",
   "metadata": {
    "papermill": {
     "duration": 0.005289,
     "end_time": "2022-07-18T13:12:30.004111",
     "exception": false,
     "start_time": "2022-07-18T13:12:29.998822",
     "status": "completed"
    },
    "tags": []
   },
   "source": [
    "The explanation is (likely) explained in the SVC source, see\n",
    "[here](https://github.com/scikit-learn/scikit-learn/blob/main/sklearn/svm/_base.py).\n",
    "Namely, the outputs from `predict(..)` and `predict_proba(..)` may not in some\n",
    "cases be compatible since the latter is computed using cross-validation while\n",
    "the former is not. Thus, the above number need not be zero."
   ]
  },
  {
   "cell_type": "markdown",
   "id": "687ab729",
   "metadata": {
    "papermill": {
     "duration": 0.005085,
     "end_time": "2022-07-18T13:12:30.014344",
     "exception": false,
     "start_time": "2022-07-18T13:12:30.009259",
     "status": "completed"
    },
    "tags": []
   },
   "source": [
    "## Persist model"
   ]
  },
  {
   "cell_type": "code",
   "execution_count": 10,
   "id": "9dfa465d",
   "metadata": {
    "execution": {
     "iopub.execute_input": "2022-07-18T13:12:30.026801Z",
     "iopub.status.busy": "2022-07-18T13:12:30.026091Z",
     "iopub.status.idle": "2022-07-18T13:12:30.877419Z",
     "shell.execute_reply": "2022-07-18T13:12:30.876756Z"
    },
    "papermill": {
     "duration": 0.859254,
     "end_time": "2022-07-18T13:12:30.879008",
     "exception": false,
     "start_time": "2022-07-18T13:12:30.019754",
     "status": "completed"
    },
    "tags": []
   },
   "outputs": [],
   "source": [
    "from skl2onnx import convert_sklearn\n",
    "from skl2onnx.common.data_types import FloatTensorType\n",
    "\n",
    "#\n",
    "from common.io import datalake_root, write_onnx"
   ]
  },
  {
   "cell_type": "code",
   "execution_count": 11,
   "id": "a7e03baa",
   "metadata": {
    "execution": {
     "iopub.execute_input": "2022-07-18T13:12:30.887740Z",
     "iopub.status.busy": "2022-07-18T13:12:30.887036Z",
     "iopub.status.idle": "2022-07-18T13:12:30.940533Z",
     "shell.execute_reply": "2022-07-18T13:12:30.939908Z"
    },
    "papermill": {
     "duration": 0.060165,
     "end_time": "2022-07-18T13:12:30.942200",
     "exception": false,
     "start_time": "2022-07-18T13:12:30.882035",
     "status": "completed"
    },
    "tags": []
   },
   "outputs": [],
   "source": [
    "# convert sklearn model into onnx and persist to data lake\n",
    "\n",
    "model_onnx = convert_sklearn(\n",
    "    model, initial_types=[(\"float_input_8x8_image\", FloatTensorType([None, 8 * 8]))]\n",
    ")\n",
    "write_onnx(\n",
    "    datalake_root(P)\n",
    "    / \"models\"\n",
    "    / f\"nr_train_images={P['task.nr_train_images']}\"\n",
    "    / \"model.onnx\",\n",
    "    model_onnx,\n",
    ")"
   ]
  },
  {
   "cell_type": "code",
   "execution_count": null,
   "id": "9f45a292",
   "metadata": {
    "papermill": {
     "duration": 0.00339,
     "end_time": "2022-07-18T13:12:30.948703",
     "exception": false,
     "start_time": "2022-07-18T13:12:30.945313",
     "status": "completed"
    },
    "tags": []
   },
   "outputs": [],
   "source": []
  }
 ],
 "metadata": {
  "jupytext": {
   "cell_metadata_filter": "tags,-all",
   "main_language": "python",
   "notebook_metadata_filter": "-all"
  },
  "language_info": {
   "codemirror_mode": {
    "name": "ipython",
    "version": 3
   },
   "file_extension": ".py",
   "mimetype": "text/x-python",
   "name": "python",
   "nbconvert_exporter": "python",
   "pygments_lexer": "ipython3",
   "version": "3.8.10"
  },
  "papermill": {
   "default_parameters": {},
   "duration": 5.328916,
   "end_time": "2022-07-18T13:12:32.271678",
   "environment_variables": {},
   "exception": null,
   "input_path": "/home/host_user/workspace/mnist-demo-pipeline/mnist-demo-pipeline/notebooks/temp-notebook-wg0s6ipk.ipynb",
   "output_path": "notebooks/train-model.ipynb",
   "parameters": {
    "P": {
     "_opentelemetry_traceparent": "00-6b5f3fe45217d3914905c5bc9205e2c4-3619041aa6873d01-01",
     "pipeline.data_lake_root": "/pipeline-outputs/data-lake",
     "pipeline.github.actor": "matiasdahl",
     "pipeline.github.base_ref": "development",
     "pipeline.github.event_name": "pull_request",
     "pipeline.github.head_ref": "graph-parsing",
     "pipeline.github.job": "run-tests-pipeline-and-persist-pipeline-outputs",
     "pipeline.github.ref": "refs/pull/57/merge",
     "pipeline.github.ref_name": "57/merge",
     "pipeline.github.ref_type": "branch",
     "pipeline.github.repository": "pynb-dag-runner/mnist-digits-demo-pipeline",
     "pipeline.github.run_id": "2690707774",
     "pipeline.github.runner_name": "GitHub Actions 2",
     "pipeline.github.sha": "eed65b978db0ca9043f081b1308c6cd3709367a0",
     "pipeline.github.workflow": "Run automated tests, pipeline and deploy results to static reporting site",
     "pipeline.pipeline_run_id": "07383fd9-46e2-40cf-a140-e2f92535db5e",
     "pipeline.run_environment": "ci",
     "run.retry_nr": "0",
     "task.max_nr_retries": "1",
     "task.notebook": "notebooks/train-model.py",
     "task.nr_train_images": 1200,
     "task.num_cpus": 1,
     "task.timeout_s": "None"
    }
   },
   "start_time": "2022-07-18T13:12:26.942762",
   "version": "2.3.3"
  }
 },
 "nbformat": 4,
 "nbformat_minor": 5
}