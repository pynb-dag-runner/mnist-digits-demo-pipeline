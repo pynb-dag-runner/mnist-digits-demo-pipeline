{
 "cells": [
  {
   "cell_type": "markdown",
   "id": "d996836c",
   "metadata": {
    "papermill": {
     "duration": 0.00865,
     "end_time": "2022-07-18T13:12:35.756252",
     "exception": false,
     "start_time": "2022-07-18T13:12:35.747602",
     "status": "completed"
    },
    "tags": []
   },
   "source": [
    "# Benchmark model\n",
    "\n",
    "The purpose of this notebook is to benchmark persisted onnx-model (trained in the\n",
    "previous step) against evaluation set."
   ]
  },
  {
   "cell_type": "markdown",
   "id": "5e6fd89e",
   "metadata": {
    "papermill": {
     "duration": 0.006132,
     "end_time": "2022-07-18T13:12:35.770049",
     "exception": false,
     "start_time": "2022-07-18T13:12:35.763917",
     "status": "completed"
    },
    "tags": []
   },
   "source": [
    "### Determine run parameters"
   ]
  },
  {
   "cell_type": "code",
   "execution_count": 1,
   "id": "05e3e491",
   "metadata": {
    "execution": {
     "iopub.execute_input": "2022-07-18T13:12:35.787597Z",
     "iopub.status.busy": "2022-07-18T13:12:35.787157Z",
     "iopub.status.idle": "2022-07-18T13:12:35.801503Z",
     "shell.execute_reply": "2022-07-18T13:12:35.800561Z"
    },
    "lines_to_next_cell": 0,
    "papermill": {
     "duration": 0.027211,
     "end_time": "2022-07-18T13:12:35.805381",
     "exception": false,
     "start_time": "2022-07-18T13:12:35.778170",
     "status": "completed"
    },
    "tags": []
   },
   "outputs": [],
   "source": [
    "# ----------------- Parameters for interactive development --------------\n",
    "P = {\n",
    "    \"pipeline.data_lake_root\": \"/pipeline-outputs/data-lake\",\n",
    "    \"task.nr_train_images\": 600,\n",
    "}"
   ]
  },
  {
   "cell_type": "code",
   "execution_count": 2,
   "id": "e1daea13",
   "metadata": {
    "execution": {
     "iopub.execute_input": "2022-07-18T13:12:35.821762Z",
     "iopub.status.busy": "2022-07-18T13:12:35.821398Z",
     "iopub.status.idle": "2022-07-18T13:12:35.826888Z",
     "shell.execute_reply": "2022-07-18T13:12:35.826184Z"
    },
    "lines_to_next_cell": 0,
    "papermill": {
     "duration": 0.018644,
     "end_time": "2022-07-18T13:12:35.830669",
     "exception": false,
     "start_time": "2022-07-18T13:12:35.812025",
     "status": "completed"
    },
    "tags": [
     "parameters"
    ]
   },
   "outputs": [],
   "source": [
    "# - During automated runs parameters will be injected in the below cell -"
   ]
  },
  {
   "cell_type": "code",
   "execution_count": 3,
   "id": "3b11594f",
   "metadata": {
    "execution": {
     "iopub.execute_input": "2022-07-18T13:12:35.849140Z",
     "iopub.status.busy": "2022-07-18T13:12:35.848793Z",
     "iopub.status.idle": "2022-07-18T13:12:35.856475Z",
     "shell.execute_reply": "2022-07-18T13:12:35.855441Z"
    },
    "papermill": {
     "duration": 0.022405,
     "end_time": "2022-07-18T13:12:35.860428",
     "exception": false,
     "start_time": "2022-07-18T13:12:35.838023",
     "status": "completed"
    },
    "tags": [
     "injected-parameters"
    ]
   },
   "outputs": [],
   "source": [
    "# Parameters\n",
    "P = {\n",
    "    \"pipeline.data_lake_root\": \"/pipeline-outputs/data-lake\",\n",
    "    \"pipeline.run_environment\": \"ci\",\n",
    "    \"pipeline.pipeline_run_id\": \"07383fd9-46e2-40cf-a140-e2f92535db5e\",\n",
    "    \"pipeline.github.repository\": \"pynb-dag-runner/mnist-digits-demo-pipeline\",\n",
    "    \"pipeline.github.workflow\": \"Run automated tests, pipeline and deploy results to static reporting site\",\n",
    "    \"pipeline.github.runner_name\": \"GitHub Actions 2\",\n",
    "    \"pipeline.github.run_id\": \"2690707774\",\n",
    "    \"pipeline.github.actor\": \"matiasdahl\",\n",
    "    \"pipeline.github.job\": \"run-tests-pipeline-and-persist-pipeline-outputs\",\n",
    "    \"pipeline.github.base_ref\": \"development\",\n",
    "    \"pipeline.github.head_ref\": \"graph-parsing\",\n",
    "    \"pipeline.github.sha\": \"eed65b978db0ca9043f081b1308c6cd3709367a0\",\n",
    "    \"pipeline.github.ref\": \"refs/pull/57/merge\",\n",
    "    \"pipeline.github.ref_type\": \"branch\",\n",
    "    \"pipeline.github.ref_name\": \"57/merge\",\n",
    "    \"pipeline.github.event_name\": \"pull_request\",\n",
    "    \"task.nr_train_images\": 800,\n",
    "    \"task.notebook\": \"notebooks/benchmark-model.py\",\n",
    "    \"task.max_nr_retries\": \"1\",\n",
    "    \"run.retry_nr\": \"0\",\n",
    "    \"task.timeout_s\": \"None\",\n",
    "    \"task.num_cpus\": 1,\n",
    "    \"_opentelemetry_traceparent\": \"00-6b5f3fe45217d3914905c5bc9205e2c4-4c576df103ed9259-01\",\n",
    "}\n"
   ]
  },
  {
   "cell_type": "code",
   "execution_count": 4,
   "id": "01ed11dd",
   "metadata": {
    "execution": {
     "iopub.execute_input": "2022-07-18T13:12:35.879430Z",
     "iopub.status.busy": "2022-07-18T13:12:35.879105Z",
     "iopub.status.idle": "2022-07-18T13:12:35.882941Z",
     "shell.execute_reply": "2022-07-18T13:12:35.882204Z"
    },
    "lines_to_next_cell": 0,
    "papermill": {
     "duration": 0.020139,
     "end_time": "2022-07-18T13:12:35.888755",
     "exception": false,
     "start_time": "2022-07-18T13:12:35.868616",
     "status": "completed"
    },
    "tags": []
   },
   "outputs": [],
   "source": [
    "# -----------------------------------------------------------------------"
   ]
  },
  {
   "cell_type": "markdown",
   "id": "ae24f1ed",
   "metadata": {
    "papermill": {
     "duration": 0.006856,
     "end_time": "2022-07-18T13:12:35.902078",
     "exception": false,
     "start_time": "2022-07-18T13:12:35.895222",
     "status": "completed"
    },
    "tags": []
   },
   "source": [
    "---"
   ]
  },
  {
   "cell_type": "markdown",
   "id": "4601f8bf",
   "metadata": {
    "lines_to_next_cell": 2,
    "papermill": {
     "duration": 0.007566,
     "end_time": "2022-07-18T13:12:35.919508",
     "exception": false,
     "start_time": "2022-07-18T13:12:35.911942",
     "status": "completed"
    },
    "tags": []
   },
   "source": [
    "### Notebook code"
   ]
  },
  {
   "cell_type": "code",
   "execution_count": 5,
   "id": "3f691ebd",
   "metadata": {
    "execution": {
     "iopub.execute_input": "2022-07-18T13:12:35.934637Z",
     "iopub.status.busy": "2022-07-18T13:12:35.934312Z",
     "iopub.status.idle": "2022-07-18T13:12:37.562525Z",
     "shell.execute_reply": "2022-07-18T13:12:37.561810Z"
    },
    "papermill": {
     "duration": 1.638978,
     "end_time": "2022-07-18T13:12:37.565246",
     "exception": false,
     "start_time": "2022-07-18T13:12:35.926268",
     "status": "completed"
    },
    "tags": []
   },
   "outputs": [
    {
     "name": "stderr",
     "output_type": "stream",
     "text": [
      "2022-07-18 13:12:37,369\tINFO worker.py:842 -- Connecting to existing Ray cluster at address: 172.17.0.2:6379\n"
     ]
    }
   ],
   "source": [
    "import itertools as it\n",
    "\n",
    "#\n",
    "import numpy as np\n",
    "import matplotlib.pyplot as plt\n",
    "\n",
    "#\n",
    "from pynb_dag_runner.tasks.task_opentelemetry_logging import PydarLogger\n",
    "\n",
    "#\n",
    "from common.io import datalake_root\n",
    "\n",
    "logger = PydarLogger(P)"
   ]
  },
  {
   "cell_type": "markdown",
   "id": "c7add787",
   "metadata": {
    "papermill": {
     "duration": 0.006402,
     "end_time": "2022-07-18T13:12:37.577773",
     "exception": false,
     "start_time": "2022-07-18T13:12:37.571371",
     "status": "completed"
    },
    "tags": []
   },
   "source": [
    "## Load persisted onnx-model and evaluation data"
   ]
  },
  {
   "cell_type": "code",
   "execution_count": 6,
   "id": "e249d2a8",
   "metadata": {
    "execution": {
     "iopub.execute_input": "2022-07-18T13:12:37.591019Z",
     "iopub.status.busy": "2022-07-18T13:12:37.590563Z",
     "iopub.status.idle": "2022-07-18T13:12:37.595345Z",
     "shell.execute_reply": "2022-07-18T13:12:37.594698Z"
    },
    "papermill": {
     "duration": 0.019553,
     "end_time": "2022-07-18T13:12:37.602511",
     "exception": false,
     "start_time": "2022-07-18T13:12:37.582958",
     "status": "completed"
    },
    "tags": []
   },
   "outputs": [],
   "source": [
    "from common.io import read_onnx, get_onnx_inputs, get_onnx_outputs, read_numpy"
   ]
  },
  {
   "cell_type": "code",
   "execution_count": 7,
   "id": "ab8fcd0d",
   "metadata": {
    "execution": {
     "iopub.execute_input": "2022-07-18T13:12:37.634230Z",
     "iopub.status.busy": "2022-07-18T13:12:37.633856Z",
     "iopub.status.idle": "2022-07-18T13:12:37.646427Z",
     "shell.execute_reply": "2022-07-18T13:12:37.645643Z"
    },
    "lines_to_next_cell": 0,
    "papermill": {
     "duration": 0.028542,
     "end_time": "2022-07-18T13:12:37.648440",
     "exception": false,
     "start_time": "2022-07-18T13:12:37.619898",
     "status": "completed"
    },
    "tags": []
   },
   "outputs": [],
   "source": [
    "onnx_inference_session = read_onnx(\n",
    "    datalake_root(P)\n",
    "    / \"models\"\n",
    "    / f\"nr_train_images={P['task.nr_train_images']}\"\n",
    "    / \"model.onnx\"\n",
    ")"
   ]
  },
  {
   "cell_type": "markdown",
   "id": "8a5f9f50",
   "metadata": {
    "papermill": {
     "duration": 0.007499,
     "end_time": "2022-07-18T13:12:37.662532",
     "exception": false,
     "start_time": "2022-07-18T13:12:37.655033",
     "status": "completed"
    },
    "tags": []
   },
   "source": [
    "### Record structure of inputs and outputs for ONNX model\n",
    "\n",
    "(this should likely be done in training notebook)"
   ]
  },
  {
   "cell_type": "code",
   "execution_count": 8,
   "id": "8c5fcd25",
   "metadata": {
    "execution": {
     "iopub.execute_input": "2022-07-18T13:12:37.677410Z",
     "iopub.status.busy": "2022-07-18T13:12:37.677085Z",
     "iopub.status.idle": "2022-07-18T13:12:37.686157Z",
     "shell.execute_reply": "2022-07-18T13:12:37.684822Z"
    },
    "papermill": {
     "duration": 0.018493,
     "end_time": "2022-07-18T13:12:37.688198",
     "exception": false,
     "start_time": "2022-07-18T13:12:37.669705",
     "status": "completed"
    },
    "tags": []
   },
   "outputs": [
    {
     "name": "stdout",
     "output_type": "stream",
     "text": [
      "{\n",
      "  \"inputs\": [\n",
      "    {\n",
      "      \"name\": \"float_input_8x8_image\",\n",
      "      \"shape\": [\n",
      "        null,\n",
      "        64\n",
      "      ],\n",
      "      \"type\": \"tensor(float)\"\n",
      "    }\n",
      "  ],\n",
      "  \"outputs\": [\n",
      "    {\n",
      "      \"name\": \"output_label\",\n",
      "      \"shape\": [\n",
      "        null\n",
      "      ],\n",
      "      \"type\": \"tensor(int64)\"\n",
      "    },\n",
      "    {\n",
      "      \"name\": \"output_probability\",\n",
      "      \"shape\": [],\n",
      "      \"type\": \"seq(map(int64,tensor(float)))\"\n",
      "    }\n",
      "  ]\n",
      "}\n"
     ]
    }
   ],
   "source": [
    "import json\n",
    "\n",
    "onnx_io = json.dumps(\n",
    "    {\n",
    "        \"inputs\": get_onnx_inputs(onnx_inference_session),\n",
    "        \"outputs\": get_onnx_outputs(onnx_inference_session),\n",
    "    },\n",
    "    indent=2,\n",
    ")\n",
    "\n",
    "\n",
    "logger.log_artefact(\"onnx_io_structure.json\", onnx_io)\n",
    "print(onnx_io)"
   ]
  },
  {
   "cell_type": "markdown",
   "id": "c49a2b6c",
   "metadata": {
    "papermill": {
     "duration": 0.008792,
     "end_time": "2022-07-18T13:12:37.703090",
     "exception": false,
     "start_time": "2022-07-18T13:12:37.694298",
     "status": "completed"
    },
    "tags": []
   },
   "source": [
    "### Evaluate model performance on evaluation data set"
   ]
  },
  {
   "cell_type": "code",
   "execution_count": 9,
   "id": "f060f4df",
   "metadata": {
    "execution": {
     "iopub.execute_input": "2022-07-18T13:12:37.719313Z",
     "iopub.status.busy": "2022-07-18T13:12:37.718952Z",
     "iopub.status.idle": "2022-07-18T13:12:37.725375Z",
     "shell.execute_reply": "2022-07-18T13:12:37.724621Z"
    },
    "papermill": {
     "duration": 0.016742,
     "end_time": "2022-07-18T13:12:37.727510",
     "exception": false,
     "start_time": "2022-07-18T13:12:37.710768",
     "status": "completed"
    },
    "tags": []
   },
   "outputs": [],
   "source": [
    "# load evaluation data\n",
    "X_test = read_numpy(datalake_root(P) / \"test-data\" / \"digits.numpy\")\n",
    "y_test = read_numpy(datalake_root(P) / \"test-data\" / \"labels.numpy\")"
   ]
  },
  {
   "cell_type": "code",
   "execution_count": 10,
   "id": "ab9e1434",
   "metadata": {
    "execution": {
     "iopub.execute_input": "2022-07-18T13:12:37.743409Z",
     "iopub.status.busy": "2022-07-18T13:12:37.743051Z",
     "iopub.status.idle": "2022-07-18T13:12:37.764529Z",
     "shell.execute_reply": "2022-07-18T13:12:37.759683Z"
    },
    "papermill": {
     "duration": 0.032383,
     "end_time": "2022-07-18T13:12:37.766525",
     "exception": false,
     "start_time": "2022-07-18T13:12:37.734142",
     "status": "completed"
    },
    "tags": []
   },
   "outputs": [],
   "source": [
    "def get_model_outputs(X, onnx_inference_session):\n",
    "    y_pred_labels, y_pred_map = onnx_inference_session.run(\n",
    "        [\"output_label\", \"output_probability\"],\n",
    "        {\"float_input_8x8_image\": X.astype(np.float32)},\n",
    "    )\n",
    "    y_pred_probs = np.array(\n",
    "        [[probabilities[digit] for digit in range(10)] for probabilities in y_pred_map]\n",
    "    )\n",
    "\n",
    "    assert y_pred_labels.shape == (X.shape[0],)\n",
    "    assert y_pred_probs.shape == (X.shape[0], 10)\n",
    "\n",
    "    return y_pred_labels, y_pred_probs\n",
    "\n",
    "\n",
    "# Note: as shown in the training notebook, the predicted labels and probabilities\n",
    "# computed below need not be compatible.\n",
    "y_pred_labels_test, y_pred_probs_test = get_model_outputs(\n",
    "    X_test, onnx_inference_session\n",
    ")"
   ]
  },
  {
   "cell_type": "markdown",
   "id": "cd71539e",
   "metadata": {
    "papermill": {
     "duration": 0.006683,
     "end_time": "2022-07-18T13:12:37.780020",
     "exception": false,
     "start_time": "2022-07-18T13:12:37.773337",
     "status": "completed"
    },
    "tags": []
   },
   "source": [
    "### Confusion matrix"
   ]
  },
  {
   "cell_type": "code",
   "execution_count": 11,
   "id": "0c70543c",
   "metadata": {
    "execution": {
     "iopub.execute_input": "2022-07-18T13:12:37.796617Z",
     "iopub.status.busy": "2022-07-18T13:12:37.795819Z",
     "iopub.status.idle": "2022-07-18T13:12:37.800441Z",
     "shell.execute_reply": "2022-07-18T13:12:37.799623Z"
    },
    "papermill": {
     "duration": 0.016642,
     "end_time": "2022-07-18T13:12:37.804082",
     "exception": false,
     "start_time": "2022-07-18T13:12:37.787440",
     "status": "completed"
    },
    "tags": []
   },
   "outputs": [],
   "source": [
    "# TODO"
   ]
  },
  {
   "cell_type": "markdown",
   "id": "87864c1b",
   "metadata": {
    "papermill": {
     "duration": 0.008491,
     "end_time": "2022-07-18T13:12:37.821401",
     "exception": false,
     "start_time": "2022-07-18T13:12:37.812910",
     "status": "completed"
    },
    "tags": []
   },
   "source": [
    "### Plot predicted probabilities for each classifier over all evaluation digit images"
   ]
  },
  {
   "cell_type": "code",
   "execution_count": 12,
   "id": "ac935570",
   "metadata": {
    "execution": {
     "iopub.execute_input": "2022-07-18T13:12:37.838124Z",
     "iopub.status.busy": "2022-07-18T13:12:37.837768Z",
     "iopub.status.idle": "2022-07-18T13:12:41.779997Z",
     "shell.execute_reply": "2022-07-18T13:12:41.778992Z"
    },
    "papermill": {
     "duration": 3.952962,
     "end_time": "2022-07-18T13:12:41.782140",
     "exception": false,
     "start_time": "2022-07-18T13:12:37.829178",
     "status": "completed"
    },
    "tags": []
   },
   "outputs": [
    {
     "data": {
      "image/png": "[encoded data removed]",
      "text/plain": [
       "<Figure size 1152x432 with 10 Axes>"
      ]
     },
     "metadata": {
      "needs_background": "light"
     },
     "output_type": "display_data"
    }
   ],
   "source": [
    "def plot_per_digit_probabilities(y_pred_probs):\n",
    "    fig, axs = plt.subplots(nrows=2, ncols=5, figsize=(16, 6))\n",
    "\n",
    "    for (r, c), digit, ax in zip(\n",
    "        it.product(range(2), range(5)), range(10), axs.reshape(-1)\n",
    "    ):\n",
    "        ax.hist(y_pred_probs_test[:, digit], bins=20)\n",
    "\n",
    "        ax.set_title(f\"Digit {digit}\")\n",
    "        if r == 1 and c == 2:\n",
    "            ax.set_xlabel(\"probability\", fontsize=16)\n",
    "\n",
    "        if c == 0:\n",
    "            ax.set_ylabel(\"counts\", fontsize=16)\n",
    "        ax.set_yscale(\"log\")\n",
    "\n",
    "    fig.tight_layout()\n",
    "    fig.suptitle(\n",
    "        f\"Distributions of prediction probabilities for each digit \"\n",
    "        f\"(on evaluation data, n={y_pred_probs.shape[0]})\",\n",
    "        fontsize=20,\n",
    "    )\n",
    "    fig.tight_layout()\n",
    "    fig.show()\n",
    "\n",
    "    return fig\n",
    "\n",
    "\n",
    "fig = plot_per_digit_probabilities(y_pred_probs_test)"
   ]
  },
  {
   "cell_type": "markdown",
   "id": "6fa32a23",
   "metadata": {
    "papermill": {
     "duration": 0.006928,
     "end_time": "2022-07-18T13:12:41.796043",
     "exception": false,
     "start_time": "2022-07-18T13:12:41.789115",
     "status": "completed"
    },
    "tags": []
   },
   "source": [
    "From the above distributions we see that most digits have clear separation between\n",
    "high and lower probabilities. Morover, in each case there is roughly an order of\n",
    "magnitude more of digits with low probabilities. This is compatible with digits\n",
    "being roughly evenly distributed in the data."
   ]
  },
  {
   "cell_type": "code",
   "execution_count": 13,
   "id": "b175fe85",
   "metadata": {
    "execution": {
     "iopub.execute_input": "2022-07-18T13:12:41.811671Z",
     "iopub.status.busy": "2022-07-18T13:12:41.811212Z",
     "iopub.status.idle": "2022-07-18T13:12:42.871561Z",
     "shell.execute_reply": "2022-07-18T13:12:42.870727Z"
    },
    "papermill": {
     "duration": 1.071512,
     "end_time": "2022-07-18T13:12:42.874343",
     "exception": false,
     "start_time": "2022-07-18T13:12:41.802831",
     "status": "completed"
    },
    "tags": []
   },
   "outputs": [],
   "source": [
    "logger.log_figure(\"per-digit-probabilities.png\", fig)"
   ]
  },
  {
   "cell_type": "markdown",
   "id": "bb916b09",
   "metadata": {
    "papermill": {
     "duration": 0.006777,
     "end_time": "2022-07-18T13:12:42.887862",
     "exception": false,
     "start_time": "2022-07-18T13:12:42.881085",
     "status": "completed"
    },
    "tags": []
   },
   "source": [
    "### Plot ROC curves for individual one-vs-rest classifiers"
   ]
  },
  {
   "cell_type": "code",
   "execution_count": 14,
   "id": "46306824",
   "metadata": {
    "execution": {
     "iopub.execute_input": "2022-07-18T13:12:42.903011Z",
     "iopub.status.busy": "2022-07-18T13:12:42.902589Z",
     "iopub.status.idle": "2022-07-18T13:12:43.242953Z",
     "shell.execute_reply": "2022-07-18T13:12:43.242203Z"
    },
    "papermill": {
     "duration": 0.350661,
     "end_time": "2022-07-18T13:12:43.245373",
     "exception": false,
     "start_time": "2022-07-18T13:12:42.894712",
     "status": "completed"
    },
    "tags": []
   },
   "outputs": [],
   "source": [
    "from sklearn import metrics"
   ]
  },
  {
   "cell_type": "code",
   "execution_count": 15,
   "id": "4aa18613",
   "metadata": {
    "execution": {
     "iopub.execute_input": "2022-07-18T13:12:43.260686Z",
     "iopub.status.busy": "2022-07-18T13:12:43.260341Z",
     "iopub.status.idle": "2022-07-18T13:12:44.774392Z",
     "shell.execute_reply": "2022-07-18T13:12:44.773204Z"
    },
    "papermill": {
     "duration": 1.524401,
     "end_time": "2022-07-18T13:12:44.776882",
     "exception": false,
     "start_time": "2022-07-18T13:12:43.252481",
     "status": "completed"
    },
    "tags": []
   },
   "outputs": [
    {
     "data": {
      "image/png": "[encoded data removed]",
      "text/plain": [
       "<Figure size 1152x576 with 10 Axes>"
      ]
     },
     "metadata": {
      "needs_background": "light"
     },
     "output_type": "display_data"
    }
   ],
   "source": [
    "def plot_roc_curves(y, y_pred_probs):\n",
    "    # based on example code\n",
    "    # https://scikit-learn.org/stable/auto_examples/model_selection/plot_roc.html\n",
    "\n",
    "    fig, axs = plt.subplots(nrows=2, ncols=5, figsize=(16, 8))\n",
    "\n",
    "    roc_auc_dict = {}\n",
    "\n",
    "    for (r, c), digit, ax in zip(\n",
    "        it.product(range(2), range(5)), range(10), axs.reshape(-1)\n",
    "    ):\n",
    "        fpr, tpr, _ = metrics.roc_curve(y == digit, y_pred_probs[:, digit])\n",
    "        auc = metrics.auc(fpr, tpr)\n",
    "        roc_auc_dict[str(digit)] = auc\n",
    "\n",
    "        ax.plot(fpr, tpr, label=f\"ROC AUC={round(auc, 3)}\")\n",
    "\n",
    "        ax.set_title(f\"\\nDigit {digit}\", fontsize=16)\n",
    "        if r == 1:\n",
    "            ax.set_xlabel(\"FPR\", fontsize=18)\n",
    "\n",
    "        if c == 0:\n",
    "            ax.set_ylabel(\"TPR\", fontsize=18)\n",
    "\n",
    "        ax.set_xlim([-0.05, 1.05])\n",
    "        ax.set_ylim([-0.05, 1.05])\n",
    "        ax.legend(loc=\"lower right\", frameon=False, fontsize=14)\n",
    "\n",
    "    fig.tight_layout()\n",
    "    fig.suptitle(\n",
    "        f\"ROC plots for one-vs-rest performances \"\n",
    "        f\"(on evaluation data, n={y_pred_probs_test.shape[1]}\",\n",
    "        fontsize=22,\n",
    "    )\n",
    "    fig.tight_layout()\n",
    "    fig.show()\n",
    "\n",
    "    return roc_auc_dict, fig\n",
    "\n",
    "\n",
    "roc_auc_dict, fig = plot_roc_curves(y_test, y_pred_probs_test)"
   ]
  },
  {
   "cell_type": "code",
   "execution_count": 16,
   "id": "d605e3d8",
   "metadata": {
    "execution": {
     "iopub.execute_input": "2022-07-18T13:12:44.797588Z",
     "iopub.status.busy": "2022-07-18T13:12:44.797125Z",
     "iopub.status.idle": "2022-07-18T13:12:45.108822Z",
     "shell.execute_reply": "2022-07-18T13:12:45.106412Z"
    },
    "papermill": {
     "duration": 0.324381,
     "end_time": "2022-07-18T13:12:45.110365",
     "exception": false,
     "start_time": "2022-07-18T13:12:44.785984",
     "status": "completed"
    },
    "tags": []
   },
   "outputs": [],
   "source": [
    "logger.log_figure(\"per-digit-roc-curves.png\", fig)"
   ]
  },
  {
   "cell_type": "code",
   "execution_count": 17,
   "id": "0e8ff611",
   "metadata": {
    "execution": {
     "iopub.execute_input": "2022-07-18T13:12:45.122499Z",
     "iopub.status.busy": "2022-07-18T13:12:45.121731Z",
     "iopub.status.idle": "2022-07-18T13:12:45.127378Z",
     "shell.execute_reply": "2022-07-18T13:12:45.126726Z"
    },
    "papermill": {
     "duration": 0.013593,
     "end_time": "2022-07-18T13:12:45.129389",
     "exception": false,
     "start_time": "2022-07-18T13:12:45.115796",
     "status": "completed"
    },
    "tags": []
   },
   "outputs": [
    {
     "data": {
      "text/plain": [
       "{'0': 1.0,\n",
       " '1': 0.9988378631677601,\n",
       " '2': 1.0,\n",
       " '3': 0.9998125585754452,\n",
       " '4': 0.9995427526291724,\n",
       " '5': 0.9992127460168697,\n",
       " '6': 0.999961896052431,\n",
       " '7': 0.9998856881572931,\n",
       " '8': 0.992827868852459,\n",
       " '9': 0.9993903368388964}"
      ]
     },
     "execution_count": 17,
     "metadata": {},
     "output_type": "execute_result"
    }
   ],
   "source": [
    "roc_auc_dict"
   ]
  },
  {
   "cell_type": "code",
   "execution_count": 18,
   "id": "0b1f01ec",
   "metadata": {
    "execution": {
     "iopub.execute_input": "2022-07-18T13:12:45.140795Z",
     "iopub.status.busy": "2022-07-18T13:12:45.140445Z",
     "iopub.status.idle": "2022-07-18T13:12:45.145207Z",
     "shell.execute_reply": "2022-07-18T13:12:45.144262Z"
    },
    "papermill": {
     "duration": 0.013366,
     "end_time": "2022-07-18T13:12:45.147389",
     "exception": false,
     "start_time": "2022-07-18T13:12:45.134023",
     "status": "completed"
    },
    "tags": []
   },
   "outputs": [
    {
     "name": "stdout",
     "output_type": "stream",
     "text": [
      " - Logging roc_auc_per_digit (json) : {'0': 1.0, '1': 0.9988378631677601, '2': 1.0, '3': 0.9998125585754452, '4': 0.9995427526291724, '5': 0.9992127460168697, '6': 0.999961896052431, '7': 0.9998856881572931, '8': 0.992827868852459, '9': 0.9993903368388964}\n"
     ]
    }
   ],
   "source": [
    "logger.log_value(\"roc_auc_per_digit\", roc_auc_dict)"
   ]
  },
  {
   "cell_type": "markdown",
   "id": "f8e193fa",
   "metadata": {
    "papermill": {
     "duration": 0.005362,
     "end_time": "2022-07-18T13:12:45.157336",
     "exception": false,
     "start_time": "2022-07-18T13:12:45.151974",
     "status": "completed"
    },
    "tags": []
   },
   "source": [
    "### Compute and log mean ROC AUC score averaged over all digits"
   ]
  },
  {
   "cell_type": "code",
   "execution_count": 19,
   "id": "3c94c706",
   "metadata": {
    "execution": {
     "iopub.execute_input": "2022-07-18T13:12:45.168991Z",
     "iopub.status.busy": "2022-07-18T13:12:45.168650Z",
     "iopub.status.idle": "2022-07-18T13:12:45.182364Z",
     "shell.execute_reply": "2022-07-18T13:12:45.181615Z"
    },
    "papermill": {
     "duration": 0.022418,
     "end_time": "2022-07-18T13:12:45.184443",
     "exception": false,
     "start_time": "2022-07-18T13:12:45.162025",
     "status": "completed"
    },
    "tags": []
   },
   "outputs": [
    {
     "name": "stdout",
     "output_type": "stream",
     "text": [
      " - Logging roc_auc_class_mean (float) : 0.9989471710290326\n"
     ]
    }
   ],
   "source": [
    "roc_auc_macro = np.mean(list(roc_auc_dict.values()))\n",
    "\n",
    "logger.log_float(\"roc_auc_class_mean\", roc_auc_macro)\n",
    "\n",
    "# assert that the same value can be computed directly using sklearn\n",
    "assert roc_auc_macro == metrics.roc_auc_score(\n",
    "    y_test, y_pred_probs_test, average=\"macro\", multi_class=\"ovr\"\n",
    ")"
   ]
  },
  {
   "cell_type": "code",
   "execution_count": 20,
   "id": "b318fb94",
   "metadata": {
    "execution": {
     "iopub.execute_input": "2022-07-18T13:12:45.196786Z",
     "iopub.status.busy": "2022-07-18T13:12:45.196400Z",
     "iopub.status.idle": "2022-07-18T13:12:45.199743Z",
     "shell.execute_reply": "2022-07-18T13:12:45.198995Z"
    },
    "lines_to_next_cell": 0,
    "papermill": {
     "duration": 0.011001,
     "end_time": "2022-07-18T13:12:45.201048",
     "exception": false,
     "start_time": "2022-07-18T13:12:45.190047",
     "status": "completed"
    },
    "tags": []
   },
   "outputs": [],
   "source": [
    "# ---"
   ]
  },
  {
   "cell_type": "code",
   "execution_count": null,
   "id": "e5ed4f1b",
   "metadata": {
    "papermill": {
     "duration": 0.00727,
     "end_time": "2022-07-18T13:12:45.212913",
     "exception": false,
     "start_time": "2022-07-18T13:12:45.205643",
     "status": "completed"
    },
    "tags": []
   },
   "outputs": [],
   "source": []
  }
 ],
 "metadata": {
  "jupytext": {
   "cell_metadata_filter": "tags,-all",
   "main_language": "python",
   "notebook_metadata_filter": "-all"
  },
  "language_info": {
   "codemirror_mode": {
    "name": "ipython",
    "version": 3
   },
   "file_extension": ".py",
   "mimetype": "text/x-python",
   "name": "python",
   "nbconvert_exporter": "python",
   "pygments_lexer": "ipython3",
   "version": "3.8.10"
  },
  "papermill": {
   "default_parameters": {},
   "duration": 12.618333,
   "end_time": "2022-07-18T13:12:46.640387",
   "environment_variables": {},
   "exception": null,
   "input_path": "/home/host_user/workspace/mnist-demo-pipeline/mnist-demo-pipeline/notebooks/temp-notebook-oqupmnpp.ipynb",
   "output_path": "notebooks/benchmark-model.ipynb",
   "parameters": {
    "P": {
     "_opentelemetry_traceparent": "00-6b5f3fe45217d3914905c5bc9205e2c4-4c576df103ed9259-01",
     "pipeline.data_lake_root": "/pipeline-outputs/data-lake",
     "pipeline.github.actor": "matiasdahl",
     "pipeline.github.base_ref": "development",
     "pipeline.github.event_name": "pull_request",
     "pipeline.github.head_ref": "graph-parsing",
     "pipeline.github.job": "run-tests-pipeline-and-persist-pipeline-outputs",
     "pipeline.github.ref": "refs/pull/57/merge",
     "pipeline.github.ref_name": "57/merge",
     "pipeline.github.ref_type": "branch",
     "pipeline.github.repository": "pynb-dag-runner/mnist-digits-demo-pipeline",
     "pipeline.github.run_id": "2690707774",
     "pipeline.github.runner_name": "GitHub Actions 2",
     "pipeline.github.sha": "eed65b978db0ca9043f081b1308c6cd3709367a0",
     "pipeline.github.workflow": "Run automated tests, pipeline and deploy results to static reporting site",
     "pipeline.pipeline_run_id": "07383fd9-46e2-40cf-a140-e2f92535db5e",
     "pipeline.run_environment": "ci",
     "run.retry_nr": "0",
     "task.max_nr_retries": "1",
     "task.notebook": "notebooks/benchmark-model.py",
     "task.nr_train_images": 800,
     "task.num_cpus": 1,
     "task.timeout_s": "None"
    }
   },
   "start_time": "2022-07-18T13:12:34.022054",
   "version": "2.3.3"
  }
 },
 "nbformat": 4,
 "nbformat_minor": 5
}