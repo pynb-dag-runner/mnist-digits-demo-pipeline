{
 "cells": [
  {
   "cell_type": "markdown",
   "id": "89253421",
   "metadata": {
    "papermill": {
     "duration": 0.008724,
     "end_time": "2022-07-18T13:12:49.890519",
     "exception": false,
     "start_time": "2022-07-18T13:12:49.881795",
     "status": "completed"
    },
    "tags": []
   },
   "source": [
    "# Benchmark model\n",
    "\n",
    "The purpose of this notebook is to benchmark persisted onnx-model (trained in the\n",
    "previous step) against evaluation set."
   ]
  },
  {
   "cell_type": "markdown",
   "id": "70be212a",
   "metadata": {
    "papermill": {
     "duration": 0.006366,
     "end_time": "2022-07-18T13:12:49.903961",
     "exception": false,
     "start_time": "2022-07-18T13:12:49.897595",
     "status": "completed"
    },
    "tags": []
   },
   "source": [
    "### Determine run parameters"
   ]
  },
  {
   "cell_type": "code",
   "execution_count": 1,
   "id": "7df54421",
   "metadata": {
    "execution": {
     "iopub.execute_input": "2022-07-18T13:12:49.921246Z",
     "iopub.status.busy": "2022-07-18T13:12:49.920829Z",
     "iopub.status.idle": "2022-07-18T13:12:49.934191Z",
     "shell.execute_reply": "2022-07-18T13:12:49.933478Z"
    },
    "lines_to_next_cell": 0,
    "papermill": {
     "duration": 0.027222,
     "end_time": "2022-07-18T13:12:49.937996",
     "exception": false,
     "start_time": "2022-07-18T13:12:49.910774",
     "status": "completed"
    },
    "tags": []
   },
   "outputs": [],
   "source": [
    "# ----------------- Parameters for interactive development --------------\n",
    "P = {\n",
    "    \"pipeline.data_lake_root\": \"/pipeline-outputs/data-lake\",\n",
    "    \"task.nr_train_images\": 600,\n",
    "}"
   ]
  },
  {
   "cell_type": "code",
   "execution_count": 2,
   "id": "cd671efd",
   "metadata": {
    "execution": {
     "iopub.execute_input": "2022-07-18T13:12:49.960724Z",
     "iopub.status.busy": "2022-07-18T13:12:49.960373Z",
     "iopub.status.idle": "2022-07-18T13:12:49.964980Z",
     "shell.execute_reply": "2022-07-18T13:12:49.964255Z"
    },
    "lines_to_next_cell": 0,
    "papermill": {
     "duration": 0.023324,
     "end_time": "2022-07-18T13:12:49.968434",
     "exception": false,
     "start_time": "2022-07-18T13:12:49.945110",
     "status": "completed"
    },
    "tags": [
     "parameters"
    ]
   },
   "outputs": [],
   "source": [
    "# - During automated runs parameters will be injected in the below cell -"
   ]
  },
  {
   "cell_type": "code",
   "execution_count": 3,
   "id": "f6466dba",
   "metadata": {
    "execution": {
     "iopub.execute_input": "2022-07-18T13:12:49.980942Z",
     "iopub.status.busy": "2022-07-18T13:12:49.980580Z",
     "iopub.status.idle": "2022-07-18T13:12:49.988259Z",
     "shell.execute_reply": "2022-07-18T13:12:49.987325Z"
    },
    "papermill": {
     "duration": 0.020188,
     "end_time": "2022-07-18T13:12:49.992065",
     "exception": false,
     "start_time": "2022-07-18T13:12:49.971877",
     "status": "completed"
    },
    "tags": [
     "injected-parameters"
    ]
   },
   "outputs": [],
   "source": [
    "# Parameters\n",
    "P = {\n",
    "    \"pipeline.data_lake_root\": \"/pipeline-outputs/data-lake\",\n",
    "    \"pipeline.run_environment\": \"ci\",\n",
    "    \"pipeline.pipeline_run_id\": \"07383fd9-46e2-40cf-a140-e2f92535db5e\",\n",
    "    \"pipeline.github.repository\": \"pynb-dag-runner/mnist-digits-demo-pipeline\",\n",
    "    \"pipeline.github.workflow\": \"Run automated tests, pipeline and deploy results to static reporting site\",\n",
    "    \"pipeline.github.runner_name\": \"GitHub Actions 2\",\n",
    "    \"pipeline.github.run_id\": \"2690707774\",\n",
    "    \"pipeline.github.actor\": \"matiasdahl\",\n",
    "    \"pipeline.github.job\": \"run-tests-pipeline-and-persist-pipeline-outputs\",\n",
    "    \"pipeline.github.base_ref\": \"development\",\n",
    "    \"pipeline.github.head_ref\": \"graph-parsing\",\n",
    "    \"pipeline.github.sha\": \"eed65b978db0ca9043f081b1308c6cd3709367a0\",\n",
    "    \"pipeline.github.ref\": \"refs/pull/57/merge\",\n",
    "    \"pipeline.github.ref_type\": \"branch\",\n",
    "    \"pipeline.github.ref_name\": \"57/merge\",\n",
    "    \"pipeline.github.event_name\": \"pull_request\",\n",
    "    \"task.nr_train_images\": 1200,\n",
    "    \"task.notebook\": \"notebooks/benchmark-model.py\",\n",
    "    \"task.max_nr_retries\": \"1\",\n",
    "    \"run.retry_nr\": \"0\",\n",
    "    \"task.timeout_s\": \"None\",\n",
    "    \"task.num_cpus\": 1,\n",
    "    \"_opentelemetry_traceparent\": \"00-6b5f3fe45217d3914905c5bc9205e2c4-46011fd48833d525-01\",\n",
    "}\n"
   ]
  },
  {
   "cell_type": "code",
   "execution_count": 4,
   "id": "37d5c6fa",
   "metadata": {
    "execution": {
     "iopub.execute_input": "2022-07-18T13:12:50.007779Z",
     "iopub.status.busy": "2022-07-18T13:12:50.007374Z",
     "iopub.status.idle": "2022-07-18T13:12:50.011996Z",
     "shell.execute_reply": "2022-07-18T13:12:50.011282Z"
    },
    "lines_to_next_cell": 0,
    "papermill": {
     "duration": 0.016195,
     "end_time": "2022-07-18T13:12:50.015881",
     "exception": false,
     "start_time": "2022-07-18T13:12:49.999686",
     "status": "completed"
    },
    "tags": []
   },
   "outputs": [],
   "source": [
    "# -----------------------------------------------------------------------"
   ]
  },
  {
   "cell_type": "markdown",
   "id": "24da407d",
   "metadata": {
    "papermill": {
     "duration": 0.008848,
     "end_time": "2022-07-18T13:12:50.031378",
     "exception": false,
     "start_time": "2022-07-18T13:12:50.022530",
     "status": "completed"
    },
    "tags": []
   },
   "source": [
    "---"
   ]
  },
  {
   "cell_type": "markdown",
   "id": "4fa6a5d2",
   "metadata": {
    "lines_to_next_cell": 2,
    "papermill": {
     "duration": 0.007564,
     "end_time": "2022-07-18T13:12:50.045401",
     "exception": false,
     "start_time": "2022-07-18T13:12:50.037837",
     "status": "completed"
    },
    "tags": []
   },
   "source": [
    "### Notebook code"
   ]
  },
  {
   "cell_type": "code",
   "execution_count": 5,
   "id": "bf9ae73d",
   "metadata": {
    "execution": {
     "iopub.execute_input": "2022-07-18T13:12:50.066625Z",
     "iopub.status.busy": "2022-07-18T13:12:50.066253Z",
     "iopub.status.idle": "2022-07-18T13:12:51.779995Z",
     "shell.execute_reply": "2022-07-18T13:12:51.777318Z"
    },
    "papermill": {
     "duration": 1.731771,
     "end_time": "2022-07-18T13:12:51.784184",
     "exception": false,
     "start_time": "2022-07-18T13:12:50.052413",
     "status": "completed"
    },
    "tags": []
   },
   "outputs": [
    {
     "name": "stderr",
     "output_type": "stream",
     "text": [
      "2022-07-18 13:12:51,610\tINFO worker.py:842 -- Connecting to existing Ray cluster at address: 172.17.0.2:6379\n"
     ]
    }
   ],
   "source": [
    "import itertools as it\n",
    "\n",
    "#\n",
    "import numpy as np\n",
    "import matplotlib.pyplot as plt\n",
    "\n",
    "#\n",
    "from pynb_dag_runner.tasks.task_opentelemetry_logging import PydarLogger\n",
    "\n",
    "#\n",
    "from common.io import datalake_root\n",
    "\n",
    "logger = PydarLogger(P)"
   ]
  },
  {
   "cell_type": "markdown",
   "id": "af28b02f",
   "metadata": {
    "papermill": {
     "duration": 0.007829,
     "end_time": "2022-07-18T13:12:51.801351",
     "exception": false,
     "start_time": "2022-07-18T13:12:51.793522",
     "status": "completed"
    },
    "tags": []
   },
   "source": [
    "## Load persisted onnx-model and evaluation data"
   ]
  },
  {
   "cell_type": "code",
   "execution_count": 6,
   "id": "435307ee",
   "metadata": {
    "execution": {
     "iopub.execute_input": "2022-07-18T13:12:51.826674Z",
     "iopub.status.busy": "2022-07-18T13:12:51.826315Z",
     "iopub.status.idle": "2022-07-18T13:12:51.831215Z",
     "shell.execute_reply": "2022-07-18T13:12:51.830470Z"
    },
    "papermill": {
     "duration": 0.025618,
     "end_time": "2022-07-18T13:12:51.834491",
     "exception": false,
     "start_time": "2022-07-18T13:12:51.808873",
     "status": "completed"
    },
    "tags": []
   },
   "outputs": [],
   "source": [
    "from common.io import read_onnx, get_onnx_inputs, get_onnx_outputs, read_numpy"
   ]
  },
  {
   "cell_type": "code",
   "execution_count": 7,
   "id": "1027145d",
   "metadata": {
    "execution": {
     "iopub.execute_input": "2022-07-18T13:12:51.852389Z",
     "iopub.status.busy": "2022-07-18T13:12:51.852018Z",
     "iopub.status.idle": "2022-07-18T13:12:51.865153Z",
     "shell.execute_reply": "2022-07-18T13:12:51.864272Z"
    },
    "lines_to_next_cell": 0,
    "papermill": {
     "duration": 0.02457,
     "end_time": "2022-07-18T13:12:51.867129",
     "exception": false,
     "start_time": "2022-07-18T13:12:51.842559",
     "status": "completed"
    },
    "tags": []
   },
   "outputs": [],
   "source": [
    "onnx_inference_session = read_onnx(\n",
    "    datalake_root(P)\n",
    "    / \"models\"\n",
    "    / f\"nr_train_images={P['task.nr_train_images']}\"\n",
    "    / \"model.onnx\"\n",
    ")"
   ]
  },
  {
   "cell_type": "markdown",
   "id": "1b780730",
   "metadata": {
    "papermill": {
     "duration": 0.005978,
     "end_time": "2022-07-18T13:12:51.880595",
     "exception": false,
     "start_time": "2022-07-18T13:12:51.874617",
     "status": "completed"
    },
    "tags": []
   },
   "source": [
    "### Record structure of inputs and outputs for ONNX model\n",
    "\n",
    "(this should likely be done in training notebook)"
   ]
  },
  {
   "cell_type": "code",
   "execution_count": 8,
   "id": "6f1a5042",
   "metadata": {
    "execution": {
     "iopub.execute_input": "2022-07-18T13:12:51.894090Z",
     "iopub.status.busy": "2022-07-18T13:12:51.893750Z",
     "iopub.status.idle": "2022-07-18T13:12:51.901641Z",
     "shell.execute_reply": "2022-07-18T13:12:51.900810Z"
    },
    "papermill": {
     "duration": 0.019141,
     "end_time": "2022-07-18T13:12:51.905867",
     "exception": false,
     "start_time": "2022-07-18T13:12:51.886726",
     "status": "completed"
    },
    "tags": []
   },
   "outputs": [
    {
     "name": "stdout",
     "output_type": "stream",
     "text": [
      "{\n",
      "  \"inputs\": [\n",
      "    {\n",
      "      \"name\": \"float_input_8x8_image\",\n",
      "      \"shape\": [\n",
      "        null,\n",
      "        64\n",
      "      ],\n",
      "      \"type\": \"tensor(float)\"\n",
      "    }\n",
      "  ],\n",
      "  \"outputs\": [\n",
      "    {\n",
      "      \"name\": \"output_label\",\n",
      "      \"shape\": [\n",
      "        null\n",
      "      ],\n",
      "      \"type\": \"tensor(int64)\"\n",
      "    },\n",
      "    {\n",
      "      \"name\": \"output_probability\",\n",
      "      \"shape\": [],\n",
      "      \"type\": \"seq(map(int64,tensor(float)))\"\n",
      "    }\n",
      "  ]\n",
      "}\n"
     ]
    }
   ],
   "source": [
    "import json\n",
    "\n",
    "onnx_io = json.dumps(\n",
    "    {\n",
    "        \"inputs\": get_onnx_inputs(onnx_inference_session),\n",
    "        \"outputs\": get_onnx_outputs(onnx_inference_session),\n",
    "    },\n",
    "    indent=2,\n",
    ")\n",
    "\n",
    "\n",
    "logger.log_artefact(\"onnx_io_structure.json\", onnx_io)\n",
    "print(onnx_io)"
   ]
  },
  {
   "cell_type": "markdown",
   "id": "7b97c4c6",
   "metadata": {
    "papermill": {
     "duration": 0.005635,
     "end_time": "2022-07-18T13:12:51.917741",
     "exception": false,
     "start_time": "2022-07-18T13:12:51.912106",
     "status": "completed"
    },
    "tags": []
   },
   "source": [
    "### Evaluate model performance on evaluation data set"
   ]
  },
  {
   "cell_type": "code",
   "execution_count": 9,
   "id": "be7949f7",
   "metadata": {
    "execution": {
     "iopub.execute_input": "2022-07-18T13:12:51.941490Z",
     "iopub.status.busy": "2022-07-18T13:12:51.941170Z",
     "iopub.status.idle": "2022-07-18T13:12:51.946512Z",
     "shell.execute_reply": "2022-07-18T13:12:51.945587Z"
    },
    "papermill": {
     "duration": 0.017785,
     "end_time": "2022-07-18T13:12:51.949948",
     "exception": false,
     "start_time": "2022-07-18T13:12:51.932163",
     "status": "completed"
    },
    "tags": []
   },
   "outputs": [],
   "source": [
    "# load evaluation data\n",
    "X_test = read_numpy(datalake_root(P) / \"test-data\" / \"digits.numpy\")\n",
    "y_test = read_numpy(datalake_root(P) / \"test-data\" / \"labels.numpy\")"
   ]
  },
  {
   "cell_type": "code",
   "execution_count": 10,
   "id": "f9f2e74a",
   "metadata": {
    "execution": {
     "iopub.execute_input": "2022-07-18T13:12:51.974787Z",
     "iopub.status.busy": "2022-07-18T13:12:51.974366Z",
     "iopub.status.idle": "2022-07-18T13:12:51.993696Z",
     "shell.execute_reply": "2022-07-18T13:12:51.991841Z"
    },
    "papermill": {
     "duration": 0.038117,
     "end_time": "2022-07-18T13:12:51.996119",
     "exception": false,
     "start_time": "2022-07-18T13:12:51.958002",
     "status": "completed"
    },
    "tags": []
   },
   "outputs": [],
   "source": [
    "def get_model_outputs(X, onnx_inference_session):\n",
    "    y_pred_labels, y_pred_map = onnx_inference_session.run(\n",
    "        [\"output_label\", \"output_probability\"],\n",
    "        {\"float_input_8x8_image\": X.astype(np.float32)},\n",
    "    )\n",
    "    y_pred_probs = np.array(\n",
    "        [[probabilities[digit] for digit in range(10)] for probabilities in y_pred_map]\n",
    "    )\n",
    "\n",
    "    assert y_pred_labels.shape == (X.shape[0],)\n",
    "    assert y_pred_probs.shape == (X.shape[0], 10)\n",
    "\n",
    "    return y_pred_labels, y_pred_probs\n",
    "\n",
    "\n",
    "# Note: as shown in the training notebook, the predicted labels and probabilities\n",
    "# computed below need not be compatible.\n",
    "y_pred_labels_test, y_pred_probs_test = get_model_outputs(\n",
    "    X_test, onnx_inference_session\n",
    ")"
   ]
  },
  {
   "cell_type": "markdown",
   "id": "345c32d2",
   "metadata": {
    "papermill": {
     "duration": 0.006683,
     "end_time": "2022-07-18T13:12:52.010468",
     "exception": false,
     "start_time": "2022-07-18T13:12:52.003785",
     "status": "completed"
    },
    "tags": []
   },
   "source": [
    "### Confusion matrix"
   ]
  },
  {
   "cell_type": "code",
   "execution_count": 11,
   "id": "58c6fa05",
   "metadata": {
    "execution": {
     "iopub.execute_input": "2022-07-18T13:12:52.032906Z",
     "iopub.status.busy": "2022-07-18T13:12:52.032345Z",
     "iopub.status.idle": "2022-07-18T13:12:52.036176Z",
     "shell.execute_reply": "2022-07-18T13:12:52.035574Z"
    },
    "papermill": {
     "duration": 0.020745,
     "end_time": "2022-07-18T13:12:52.039176",
     "exception": false,
     "start_time": "2022-07-18T13:12:52.018431",
     "status": "completed"
    },
    "tags": []
   },
   "outputs": [],
   "source": [
    "# TODO"
   ]
  },
  {
   "cell_type": "markdown",
   "id": "2e06e4b1",
   "metadata": {
    "papermill": {
     "duration": 0.006307,
     "end_time": "2022-07-18T13:12:52.051703",
     "exception": false,
     "start_time": "2022-07-18T13:12:52.045396",
     "status": "completed"
    },
    "tags": []
   },
   "source": [
    "### Plot predicted probabilities for each classifier over all evaluation digit images"
   ]
  },
  {
   "cell_type": "code",
   "execution_count": 12,
   "id": "9f0eda30",
   "metadata": {
    "execution": {
     "iopub.execute_input": "2022-07-18T13:12:52.065933Z",
     "iopub.status.busy": "2022-07-18T13:12:52.065640Z",
     "iopub.status.idle": "2022-07-18T13:12:55.989717Z",
     "shell.execute_reply": "2022-07-18T13:12:55.988972Z"
    },
    "papermill": {
     "duration": 3.933705,
     "end_time": "2022-07-18T13:12:55.991664",
     "exception": false,
     "start_time": "2022-07-18T13:12:52.057959",
     "status": "completed"
    },
    "tags": []
   },
   "outputs": [
    {
     "data": {
      "image/png": "[encoded data removed]",
      "text/plain": [
       "<Figure size 1152x432 with 10 Axes>"
      ]
     },
     "metadata": {
      "needs_background": "light"
     },
     "output_type": "display_data"
    }
   ],
   "source": [
    "def plot_per_digit_probabilities(y_pred_probs):\n",
    "    fig, axs = plt.subplots(nrows=2, ncols=5, figsize=(16, 6))\n",
    "\n",
    "    for (r, c), digit, ax in zip(\n",
    "        it.product(range(2), range(5)), range(10), axs.reshape(-1)\n",
    "    ):\n",
    "        ax.hist(y_pred_probs_test[:, digit], bins=20)\n",
    "\n",
    "        ax.set_title(f\"Digit {digit}\")\n",
    "        if r == 1 and c == 2:\n",
    "            ax.set_xlabel(\"probability\", fontsize=16)\n",
    "\n",
    "        if c == 0:\n",
    "            ax.set_ylabel(\"counts\", fontsize=16)\n",
    "        ax.set_yscale(\"log\")\n",
    "\n",
    "    fig.tight_layout()\n",
    "    fig.suptitle(\n",
    "        f\"Distributions of prediction probabilities for each digit \"\n",
    "        f\"(on evaluation data, n={y_pred_probs.shape[0]})\",\n",
    "        fontsize=20,\n",
    "    )\n",
    "    fig.tight_layout()\n",
    "    fig.show()\n",
    "\n",
    "    return fig\n",
    "\n",
    "\n",
    "fig = plot_per_digit_probabilities(y_pred_probs_test)"
   ]
  },
  {
   "cell_type": "markdown",
   "id": "86ef5a71",
   "metadata": {
    "papermill": {
     "duration": 0.007874,
     "end_time": "2022-07-18T13:12:56.009340",
     "exception": false,
     "start_time": "2022-07-18T13:12:56.001466",
     "status": "completed"
    },
    "tags": []
   },
   "source": [
    "From the above distributions we see that most digits have clear separation between\n",
    "high and lower probabilities. Morover, in each case there is roughly an order of\n",
    "magnitude more of digits with low probabilities. This is compatible with digits\n",
    "being roughly evenly distributed in the data."
   ]
  },
  {
   "cell_type": "code",
   "execution_count": 13,
   "id": "df264a97",
   "metadata": {
    "execution": {
     "iopub.execute_input": "2022-07-18T13:12:56.028011Z",
     "iopub.status.busy": "2022-07-18T13:12:56.027620Z",
     "iopub.status.idle": "2022-07-18T13:12:56.473916Z",
     "shell.execute_reply": "2022-07-18T13:12:56.473101Z"
    },
    "papermill": {
     "duration": 0.458049,
     "end_time": "2022-07-18T13:12:56.475756",
     "exception": false,
     "start_time": "2022-07-18T13:12:56.017707",
     "status": "completed"
    },
    "tags": []
   },
   "outputs": [],
   "source": [
    "logger.log_figure(\"per-digit-probabilities.png\", fig)"
   ]
  },
  {
   "cell_type": "markdown",
   "id": "28142bda",
   "metadata": {
    "papermill": {
     "duration": 0.004487,
     "end_time": "2022-07-18T13:12:56.484836",
     "exception": false,
     "start_time": "2022-07-18T13:12:56.480349",
     "status": "completed"
    },
    "tags": []
   },
   "source": [
    "### Plot ROC curves for individual one-vs-rest classifiers"
   ]
  },
  {
   "cell_type": "code",
   "execution_count": 14,
   "id": "42317c71",
   "metadata": {
    "execution": {
     "iopub.execute_input": "2022-07-18T13:12:56.495636Z",
     "iopub.status.busy": "2022-07-18T13:12:56.495085Z",
     "iopub.status.idle": "2022-07-18T13:12:56.860307Z",
     "shell.execute_reply": "2022-07-18T13:12:56.859573Z"
    },
    "papermill": {
     "duration": 0.372868,
     "end_time": "2022-07-18T13:12:56.861922",
     "exception": false,
     "start_time": "2022-07-18T13:12:56.489054",
     "status": "completed"
    },
    "tags": []
   },
   "outputs": [],
   "source": [
    "from sklearn import metrics"
   ]
  },
  {
   "cell_type": "code",
   "execution_count": 15,
   "id": "d55f3f3c",
   "metadata": {
    "execution": {
     "iopub.execute_input": "2022-07-18T13:12:56.872936Z",
     "iopub.status.busy": "2022-07-18T13:12:56.872578Z",
     "iopub.status.idle": "2022-07-18T13:12:57.782006Z",
     "shell.execute_reply": "2022-07-18T13:12:57.781347Z"
    },
    "papermill": {
     "duration": 0.917286,
     "end_time": "2022-07-18T13:12:57.783777",
     "exception": false,
     "start_time": "2022-07-18T13:12:56.866491",
     "status": "completed"
    },
    "tags": []
   },
   "outputs": [
    {
     "data": {
      "image/png": "[encoded data removed]",
      "text/plain": [
       "<Figure size 1152x576 with 10 Axes>"
      ]
     },
     "metadata": {
      "needs_background": "light"
     },
     "output_type": "display_data"
    }
   ],
   "source": [
    "def plot_roc_curves(y, y_pred_probs):\n",
    "    # based on example code\n",
    "    # https://scikit-learn.org/stable/auto_examples/model_selection/plot_roc.html\n",
    "\n",
    "    fig, axs = plt.subplots(nrows=2, ncols=5, figsize=(16, 8))\n",
    "\n",
    "    roc_auc_dict = {}\n",
    "\n",
    "    for (r, c), digit, ax in zip(\n",
    "        it.product(range(2), range(5)), range(10), axs.reshape(-1)\n",
    "    ):\n",
    "        fpr, tpr, _ = metrics.roc_curve(y == digit, y_pred_probs[:, digit])\n",
    "        auc = metrics.auc(fpr, tpr)\n",
    "        roc_auc_dict[str(digit)] = auc\n",
    "\n",
    "        ax.plot(fpr, tpr, label=f\"ROC AUC={round(auc, 3)}\")\n",
    "\n",
    "        ax.set_title(f\"\\nDigit {digit}\", fontsize=16)\n",
    "        if r == 1:\n",
    "            ax.set_xlabel(\"FPR\", fontsize=18)\n",
    "\n",
    "        if c == 0:\n",
    "            ax.set_ylabel(\"TPR\", fontsize=18)\n",
    "\n",
    "        ax.set_xlim([-0.05, 1.05])\n",
    "        ax.set_ylim([-0.05, 1.05])\n",
    "        ax.legend(loc=\"lower right\", frameon=False, fontsize=14)\n",
    "\n",
    "    fig.tight_layout()\n",
    "    fig.suptitle(\n",
    "        f\"ROC plots for one-vs-rest performances \"\n",
    "        f\"(on evaluation data, n={y_pred_probs_test.shape[1]}\",\n",
    "        fontsize=22,\n",
    "    )\n",
    "    fig.tight_layout()\n",
    "    fig.show()\n",
    "\n",
    "    return roc_auc_dict, fig\n",
    "\n",
    "\n",
    "roc_auc_dict, fig = plot_roc_curves(y_test, y_pred_probs_test)"
   ]
  },
  {
   "cell_type": "code",
   "execution_count": 16,
   "id": "da4bcd0e",
   "metadata": {
    "execution": {
     "iopub.execute_input": "2022-07-18T13:12:57.797663Z",
     "iopub.status.busy": "2022-07-18T13:12:57.797301Z",
     "iopub.status.idle": "2022-07-18T13:12:57.994703Z",
     "shell.execute_reply": "2022-07-18T13:12:57.992964Z"
    },
    "papermill": {
     "duration": 0.205728,
     "end_time": "2022-07-18T13:12:57.996570",
     "exception": false,
     "start_time": "2022-07-18T13:12:57.790842",
     "status": "completed"
    },
    "tags": []
   },
   "outputs": [],
   "source": [
    "logger.log_figure(\"per-digit-roc-curves.png\", fig)"
   ]
  },
  {
   "cell_type": "code",
   "execution_count": 17,
   "id": "64af7fac",
   "metadata": {
    "execution": {
     "iopub.execute_input": "2022-07-18T13:12:58.012643Z",
     "iopub.status.busy": "2022-07-18T13:12:58.012347Z",
     "iopub.status.idle": "2022-07-18T13:12:58.017818Z",
     "shell.execute_reply": "2022-07-18T13:12:58.017111Z"
    },
    "papermill": {
     "duration": 0.018597,
     "end_time": "2022-07-18T13:12:58.020482",
     "exception": false,
     "start_time": "2022-07-18T13:12:58.001885",
     "status": "completed"
    },
    "tags": []
   },
   "outputs": [
    {
     "data": {
      "text/plain": [
       "{'0': 1.0,\n",
       " '1': 0.998987816307404,\n",
       " '2': 1.0,\n",
       " '3': 0.9998500468603562,\n",
       " '4': 0.9997713763145861,\n",
       " '5': 0.9996626054358013,\n",
       " '6': 0.999923792104862,\n",
       " '7': 0.9998475842097242,\n",
       " '8': 0.99562578814628,\n",
       " '9': 0.9997713763145862}"
      ]
     },
     "execution_count": 17,
     "metadata": {},
     "output_type": "execute_result"
    }
   ],
   "source": [
    "roc_auc_dict"
   ]
  },
  {
   "cell_type": "code",
   "execution_count": 18,
   "id": "828601ad",
   "metadata": {
    "execution": {
     "iopub.execute_input": "2022-07-18T13:12:58.032061Z",
     "iopub.status.busy": "2022-07-18T13:12:58.031693Z",
     "iopub.status.idle": "2022-07-18T13:12:58.036434Z",
     "shell.execute_reply": "2022-07-18T13:12:58.035719Z"
    },
    "papermill": {
     "duration": 0.0135,
     "end_time": "2022-07-18T13:12:58.039027",
     "exception": false,
     "start_time": "2022-07-18T13:12:58.025527",
     "status": "completed"
    },
    "tags": []
   },
   "outputs": [
    {
     "name": "stdout",
     "output_type": "stream",
     "text": [
      " - Logging roc_auc_per_digit (json) : {'0': 1.0, '1': 0.998987816307404, '2': 1.0, '3': 0.9998500468603562, '4': 0.9997713763145861, '5': 0.9996626054358013, '6': 0.999923792104862, '7': 0.9998475842097242, '8': 0.99562578814628, '9': 0.9997713763145862}\n"
     ]
    }
   ],
   "source": [
    "logger.log_value(\"roc_auc_per_digit\", roc_auc_dict)"
   ]
  },
  {
   "cell_type": "markdown",
   "id": "e65a0b14",
   "metadata": {
    "papermill": {
     "duration": 0.005446,
     "end_time": "2022-07-18T13:12:58.049265",
     "exception": false,
     "start_time": "2022-07-18T13:12:58.043819",
     "status": "completed"
    },
    "tags": []
   },
   "source": [
    "### Compute and log mean ROC AUC score averaged over all digits"
   ]
  },
  {
   "cell_type": "code",
   "execution_count": 19,
   "id": "921f7b46",
   "metadata": {
    "execution": {
     "iopub.execute_input": "2022-07-18T13:12:58.061048Z",
     "iopub.status.busy": "2022-07-18T13:12:58.060690Z",
     "iopub.status.idle": "2022-07-18T13:12:58.072838Z",
     "shell.execute_reply": "2022-07-18T13:12:58.072083Z"
    },
    "papermill": {
     "duration": 0.020337,
     "end_time": "2022-07-18T13:12:58.074457",
     "exception": false,
     "start_time": "2022-07-18T13:12:58.054120",
     "status": "completed"
    },
    "tags": []
   },
   "outputs": [
    {
     "name": "stdout",
     "output_type": "stream",
     "text": [
      " - Logging roc_auc_class_mean (float) : 0.9993440385693599\n"
     ]
    }
   ],
   "source": [
    "roc_auc_macro = np.mean(list(roc_auc_dict.values()))\n",
    "\n",
    "logger.log_float(\"roc_auc_class_mean\", roc_auc_macro)\n",
    "\n",
    "# assert that the same value can be computed directly using sklearn\n",
    "assert roc_auc_macro == metrics.roc_auc_score(\n",
    "    y_test, y_pred_probs_test, average=\"macro\", multi_class=\"ovr\"\n",
    ")"
   ]
  },
  {
   "cell_type": "code",
   "execution_count": 20,
   "id": "a801f7aa",
   "metadata": {
    "execution": {
     "iopub.execute_input": "2022-07-18T13:12:58.087481Z",
     "iopub.status.busy": "2022-07-18T13:12:58.086650Z",
     "iopub.status.idle": "2022-07-18T13:12:58.090340Z",
     "shell.execute_reply": "2022-07-18T13:12:58.089723Z"
    },
    "lines_to_next_cell": 0,
    "papermill": {
     "duration": 0.012189,
     "end_time": "2022-07-18T13:12:58.092012",
     "exception": false,
     "start_time": "2022-07-18T13:12:58.079823",
     "status": "completed"
    },
    "tags": []
   },
   "outputs": [],
   "source": [
    "# ---"
   ]
  },
  {
   "cell_type": "code",
   "execution_count": null,
   "id": "a7e0b2c0",
   "metadata": {
    "papermill": {
     "duration": 0.005049,
     "end_time": "2022-07-18T13:12:58.102150",
     "exception": false,
     "start_time": "2022-07-18T13:12:58.097101",
     "status": "completed"
    },
    "tags": []
   },
   "outputs": [],
   "source": []
  }
 ],
 "metadata": {
  "jupytext": {
   "cell_metadata_filter": "tags,-all",
   "main_language": "python",
   "notebook_metadata_filter": "-all"
  },
  "language_info": {
   "codemirror_mode": {
    "name": "ipython",
    "version": 3
   },
   "file_extension": ".py",
   "mimetype": "text/x-python",
   "name": "python",
   "nbconvert_exporter": "python",
   "pygments_lexer": "ipython3",
   "version": "3.8.10"
  },
  "papermill": {
   "default_parameters": {},
   "duration": 11.004029,
   "end_time": "2022-07-18T13:12:59.230585",
   "environment_variables": {},
   "exception": null,
   "input_path": "/home/host_user/workspace/mnist-demo-pipeline/mnist-demo-pipeline/notebooks/temp-notebook-7vnl18qe.ipynb",
   "output_path": "notebooks/benchmark-model.ipynb",
   "parameters": {
    "P": {
     "_opentelemetry_traceparent": "00-6b5f3fe45217d3914905c5bc9205e2c4-46011fd48833d525-01",
     "pipeline.data_lake_root": "/pipeline-outputs/data-lake",
     "pipeline.github.actor": "matiasdahl",
     "pipeline.github.base_ref": "development",
     "pipeline.github.event_name": "pull_request",
     "pipeline.github.head_ref": "graph-parsing",
     "pipeline.github.job": "run-tests-pipeline-and-persist-pipeline-outputs",
     "pipeline.github.ref": "refs/pull/57/merge",
     "pipeline.github.ref_name": "57/merge",
     "pipeline.github.ref_type": "branch",
     "pipeline.github.repository": "pynb-dag-runner/mnist-digits-demo-pipeline",
     "pipeline.github.run_id": "2690707774",
     "pipeline.github.runner_name": "GitHub Actions 2",
     "pipeline.github.sha": "eed65b978db0ca9043f081b1308c6cd3709367a0",
     "pipeline.github.workflow": "Run automated tests, pipeline and deploy results to static reporting site",
     "pipeline.pipeline_run_id": "07383fd9-46e2-40cf-a140-e2f92535db5e",
     "pipeline.run_environment": "ci",
     "run.retry_nr": "0",
     "task.max_nr_retries": "1",
     "task.notebook": "notebooks/benchmark-model.py",
     "task.nr_train_images": 1200,
     "task.num_cpus": 1,
     "task.timeout_s": "None"
    }
   },
   "start_time": "2022-07-18T13:12:48.226556",
   "version": "2.3.3"
  }
 },
 "nbformat": 4,
 "nbformat_minor": 5
}