{
 "cells": [
  {
   "cell_type": "markdown",
   "id": "5e2d9cdd",
   "metadata": {
    "papermill": {
     "duration": 0.006654,
     "end_time": "2022-07-18T13:12:21.421369",
     "exception": false,
     "start_time": "2022-07-18T13:12:21.414715",
     "status": "completed"
    },
    "tags": []
   },
   "source": [
    "# Train model\n",
    "\n",
    "The purpose of this notebook is:\n",
    "\n",
    "- Load all training data (images and labels).\n",
    "- Limit number of train images to `task.nr_train_images` (value provided as run parameter).\n",
    "- Train a support vector machine model using sklearn.\n",
    "- Persist the trained model using the ONNX format."
   ]
  },
  {
   "cell_type": "markdown",
   "id": "7db701a9",
   "metadata": {
    "papermill": {
     "duration": 0.00495,
     "end_time": "2022-07-18T13:12:21.431369",
     "exception": false,
     "start_time": "2022-07-18T13:12:21.426419",
     "status": "completed"
    },
    "tags": []
   },
   "source": [
    "### Determine run parameters"
   ]
  },
  {
   "cell_type": "code",
   "execution_count": 1,
   "id": "833ba009",
   "metadata": {
    "execution": {
     "iopub.execute_input": "2022-07-18T13:12:21.442564Z",
     "iopub.status.busy": "2022-07-18T13:12:21.442161Z",
     "iopub.status.idle": "2022-07-18T13:12:21.461219Z",
     "shell.execute_reply": "2022-07-18T13:12:21.460470Z"
    },
    "lines_to_next_cell": 0,
    "papermill": {
     "duration": 0.028007,
     "end_time": "2022-07-18T13:12:21.463661",
     "exception": false,
     "start_time": "2022-07-18T13:12:21.435654",
     "status": "completed"
    },
    "tags": []
   },
   "outputs": [],
   "source": [
    "# ----------------- Parameters for interactive development --------------\n",
    "P = {\n",
    "    \"pipeline.data_lake_root\": \"/pipeline-outputs/data-lake\",\n",
    "    \"task.nr_train_images\": 600,\n",
    "}"
   ]
  },
  {
   "cell_type": "code",
   "execution_count": 2,
   "id": "d66f8e81",
   "metadata": {
    "execution": {
     "iopub.execute_input": "2022-07-18T13:12:21.476661Z",
     "iopub.status.busy": "2022-07-18T13:12:21.476305Z",
     "iopub.status.idle": "2022-07-18T13:12:21.481492Z",
     "shell.execute_reply": "2022-07-18T13:12:21.480768Z"
    },
    "lines_to_next_cell": 0,
    "papermill": {
     "duration": 0.014891,
     "end_time": "2022-07-18T13:12:21.485324",
     "exception": false,
     "start_time": "2022-07-18T13:12:21.470433",
     "status": "completed"
    },
    "tags": [
     "parameters"
    ]
   },
   "outputs": [],
   "source": [
    "# - During automated runs parameters will be injected in the below cell -"
   ]
  },
  {
   "cell_type": "code",
   "execution_count": 3,
   "id": "e12f2a89",
   "metadata": {
    "execution": {
     "iopub.execute_input": "2022-07-18T13:12:21.495970Z",
     "iopub.status.busy": "2022-07-18T13:12:21.495660Z",
     "iopub.status.idle": "2022-07-18T13:12:21.502673Z",
     "shell.execute_reply": "2022-07-18T13:12:21.502016Z"
    },
    "papermill": {
     "duration": 0.015925,
     "end_time": "2022-07-18T13:12:21.505854",
     "exception": false,
     "start_time": "2022-07-18T13:12:21.489929",
     "status": "completed"
    },
    "tags": [
     "injected-parameters"
    ]
   },
   "outputs": [],
   "source": [
    "# Parameters\n",
    "P = {\n",
    "    \"pipeline.data_lake_root\": \"/pipeline-outputs/data-lake\",\n",
    "    \"pipeline.run_environment\": \"ci\",\n",
    "    \"pipeline.pipeline_run_id\": \"07383fd9-46e2-40cf-a140-e2f92535db5e\",\n",
    "    \"pipeline.github.repository\": \"pynb-dag-runner/mnist-digits-demo-pipeline\",\n",
    "    \"pipeline.github.workflow\": \"Run automated tests, pipeline and deploy results to static reporting site\",\n",
    "    \"pipeline.github.runner_name\": \"GitHub Actions 2\",\n",
    "    \"pipeline.github.run_id\": \"2690707774\",\n",
    "    \"pipeline.github.actor\": \"matiasdahl\",\n",
    "    \"pipeline.github.job\": \"run-tests-pipeline-and-persist-pipeline-outputs\",\n",
    "    \"pipeline.github.base_ref\": \"development\",\n",
    "    \"pipeline.github.head_ref\": \"graph-parsing\",\n",
    "    \"pipeline.github.sha\": \"eed65b978db0ca9043f081b1308c6cd3709367a0\",\n",
    "    \"pipeline.github.ref\": \"refs/pull/57/merge\",\n",
    "    \"pipeline.github.ref_type\": \"branch\",\n",
    "    \"pipeline.github.ref_name\": \"57/merge\",\n",
    "    \"pipeline.github.event_name\": \"pull_request\",\n",
    "    \"task.nr_train_images\": 800,\n",
    "    \"task.notebook\": \"notebooks/train-model.py\",\n",
    "    \"task.max_nr_retries\": \"1\",\n",
    "    \"run.retry_nr\": \"0\",\n",
    "    \"task.timeout_s\": \"None\",\n",
    "    \"task.num_cpus\": 1,\n",
    "    \"_opentelemetry_traceparent\": \"00-6b5f3fe45217d3914905c5bc9205e2c4-f68df548f8334d5e-01\",\n",
    "}\n"
   ]
  },
  {
   "cell_type": "code",
   "execution_count": 4,
   "id": "6a20f0eb",
   "metadata": {
    "execution": {
     "iopub.execute_input": "2022-07-18T13:12:21.531798Z",
     "iopub.status.busy": "2022-07-18T13:12:21.531448Z",
     "iopub.status.idle": "2022-07-18T13:12:21.534919Z",
     "shell.execute_reply": "2022-07-18T13:12:21.534264Z"
    },
    "lines_to_next_cell": 0,
    "papermill": {
     "duration": 0.022784,
     "end_time": "2022-07-18T13:12:21.538189",
     "exception": false,
     "start_time": "2022-07-18T13:12:21.515405",
     "status": "completed"
    },
    "tags": []
   },
   "outputs": [],
   "source": [
    "# -----------------------------------------------------------------------"
   ]
  },
  {
   "cell_type": "markdown",
   "id": "51c6697a",
   "metadata": {
    "papermill": {
     "duration": 0.004234,
     "end_time": "2022-07-18T13:12:21.548133",
     "exception": false,
     "start_time": "2022-07-18T13:12:21.543899",
     "status": "completed"
    },
    "tags": []
   },
   "source": [
    "---"
   ]
  },
  {
   "cell_type": "markdown",
   "id": "265ca120",
   "metadata": {
    "lines_to_next_cell": 2,
    "papermill": {
     "duration": 0.00429,
     "end_time": "2022-07-18T13:12:21.557685",
     "exception": false,
     "start_time": "2022-07-18T13:12:21.553395",
     "status": "completed"
    },
    "tags": []
   },
   "source": [
    "### Notebook code"
   ]
  },
  {
   "cell_type": "code",
   "execution_count": 5,
   "id": "97a32887",
   "metadata": {
    "execution": {
     "iopub.execute_input": "2022-07-18T13:12:21.568807Z",
     "iopub.status.busy": "2022-07-18T13:12:21.568470Z",
     "iopub.status.idle": "2022-07-18T13:12:22.109777Z",
     "shell.execute_reply": "2022-07-18T13:12:22.108809Z"
    },
    "papermill": {
     "duration": 0.55071,
     "end_time": "2022-07-18T13:12:22.113668",
     "exception": false,
     "start_time": "2022-07-18T13:12:21.562958",
     "status": "completed"
    },
    "tags": []
   },
   "outputs": [
    {
     "name": "stderr",
     "output_type": "stream",
     "text": [
      "2022-07-18 13:12:21,937\tINFO worker.py:842 -- Connecting to existing Ray cluster at address: 172.17.0.2:6379\n"
     ]
    }
   ],
   "source": [
    "from pynb_dag_runner.tasks.task_opentelemetry_logging import PydarLogger\n",
    "\n",
    "logger = PydarLogger(P)"
   ]
  },
  {
   "cell_type": "markdown",
   "id": "956d759f",
   "metadata": {
    "papermill": {
     "duration": 0.005968,
     "end_time": "2022-07-18T13:12:22.124005",
     "exception": false,
     "start_time": "2022-07-18T13:12:22.118037",
     "status": "completed"
    },
    "tags": []
   },
   "source": [
    "## Load and limit train data"
   ]
  },
  {
   "cell_type": "code",
   "execution_count": 6,
   "id": "ac708c82",
   "metadata": {
    "execution": {
     "iopub.execute_input": "2022-07-18T13:12:22.136302Z",
     "iopub.status.busy": "2022-07-18T13:12:22.135357Z",
     "iopub.status.idle": "2022-07-18T13:12:22.677592Z",
     "shell.execute_reply": "2022-07-18T13:12:22.676826Z"
    },
    "papermill": {
     "duration": 0.551779,
     "end_time": "2022-07-18T13:12:22.679880",
     "exception": false,
     "start_time": "2022-07-18T13:12:22.128101",
     "status": "completed"
    },
    "tags": []
   },
   "outputs": [],
   "source": [
    "def load_and_limit_train_data(P):\n",
    "    from common.io import datalake_root, read_numpy\n",
    "    from sklearn.model_selection import train_test_split\n",
    "\n",
    "    X_train_all = read_numpy(datalake_root(P) / \"train-data\" / \"digits.numpy\")\n",
    "    y_train_all = read_numpy(datalake_root(P) / \"train-data\" / \"labels.numpy\")\n",
    "\n",
    "    assert isinstance(P[\"task.nr_train_images\"], int)\n",
    "\n",
    "    # Note: train_test_split will fail if split is 0 or 100%.\n",
    "    assert 0 < P[\"task.nr_train_images\"] < len(y_train_all)\n",
    "\n",
    "    X_train, _, y_train, _ = train_test_split(\n",
    "        X_train_all,\n",
    "        y_train_all,\n",
    "        train_size=P[\"task.nr_train_images\"],\n",
    "        test_size=None,\n",
    "        stratify=y_train_all,\n",
    "        shuffle=True,\n",
    "        random_state=123,\n",
    "    )\n",
    "\n",
    "    assert X_train.shape == (len(y_train), 8 * 8)\n",
    "    return X_train, y_train\n",
    "\n",
    "\n",
    "X_train, y_train = load_and_limit_train_data(P)"
   ]
  },
  {
   "cell_type": "markdown",
   "id": "b125c9b1",
   "metadata": {
    "papermill": {
     "duration": 0.004285,
     "end_time": "2022-07-18T13:12:22.687678",
     "exception": false,
     "start_time": "2022-07-18T13:12:22.683393",
     "status": "completed"
    },
    "tags": []
   },
   "source": [
    "## Train support vector classifier model\n",
    "\n",
    "Below we assume that the hyperparameter $C$ is known.\n",
    "\n",
    "However, this should ideally be found by a hyperparameter search. That could be\n",
    "done in parallel on the Ray cluster, but this needs some more work. Ie., to use\n",
    "multiple cores in the notebook, those cores should be reserved when starting the\n",
    "notebook task (TODO).\n",
    "\n",
    "- https://docs.ray.io/en/latest/tune/key-concepts.html\n",
    "\n",
    "Note: cv-scores would need to be computed here, since they depend on the train data.\n",
    "After this notebook only the onnx-model is available."
   ]
  },
  {
   "cell_type": "code",
   "execution_count": 7,
   "id": "f3208e86",
   "metadata": {
    "execution": {
     "iopub.execute_input": "2022-07-18T13:12:22.703755Z",
     "iopub.status.busy": "2022-07-18T13:12:22.702211Z",
     "iopub.status.idle": "2022-07-18T13:12:22.731457Z",
     "shell.execute_reply": "2022-07-18T13:12:22.730196Z"
    },
    "papermill": {
     "duration": 0.041341,
     "end_time": "2022-07-18T13:12:22.734559",
     "exception": false,
     "start_time": "2022-07-18T13:12:22.693218",
     "status": "completed"
    },
    "tags": []
   },
   "outputs": [],
   "source": [
    "from sklearn.svm import SVC"
   ]
  },
  {
   "cell_type": "code",
   "execution_count": 8,
   "id": "09a07251",
   "metadata": {
    "execution": {
     "iopub.execute_input": "2022-07-18T13:12:22.743790Z",
     "iopub.status.busy": "2022-07-18T13:12:22.742727Z",
     "iopub.status.idle": "2022-07-18T13:12:22.900921Z",
     "shell.execute_reply": "2022-07-18T13:12:22.900153Z"
    },
    "papermill": {
     "duration": 0.165317,
     "end_time": "2022-07-18T13:12:22.903102",
     "exception": false,
     "start_time": "2022-07-18T13:12:22.737785",
     "status": "completed"
    },
    "tags": []
   },
   "outputs": [
    {
     "data": {
      "text/plain": [
       "SVC(C=0.001, kernel='linear', probability=True)"
      ]
     },
     "execution_count": 8,
     "metadata": {},
     "output_type": "execute_result"
    }
   ],
   "source": [
    "model = SVC(C=0.001, kernel=\"linear\", probability=True)\n",
    "\n",
    "model.fit(X_train, y_train)"
   ]
  },
  {
   "cell_type": "markdown",
   "id": "77fa3ddb",
   "metadata": {
    "papermill": {
     "duration": 0.004716,
     "end_time": "2022-07-18T13:12:22.913740",
     "exception": false,
     "start_time": "2022-07-18T13:12:22.909024",
     "status": "completed"
    },
    "tags": []
   },
   "source": [
    "### Q: Can the labels returned by `predict(..)` be computed from probabilities returned by the `predict_prob`-method?"
   ]
  },
  {
   "cell_type": "code",
   "execution_count": 9,
   "id": "5ab9d846",
   "metadata": {
    "execution": {
     "iopub.execute_input": "2022-07-18T13:12:22.924494Z",
     "iopub.status.busy": "2022-07-18T13:12:22.924172Z",
     "iopub.status.idle": "2022-07-18T13:12:22.992994Z",
     "shell.execute_reply": "2022-07-18T13:12:22.992247Z"
    },
    "papermill": {
     "duration": 0.081047,
     "end_time": "2022-07-18T13:12:23",
     "exception": false,
     "start_time": "2022-07-18T13:12:22.918953",
     "status": "completed"
    },
    "tags": []
   },
   "outputs": [
    {
     "name": "stdout",
     "output_type": "stream",
     "text": [
      " - Logging nr_max_prob_neq_label (int) : 2\n"
     ]
    }
   ],
   "source": [
    "import numpy as np\n",
    "\n",
    "y_train_labels = model.predict(X_train)\n",
    "y_train_probabilities = model.predict_proba(X_train)\n",
    "assert y_train_probabilities.shape == (len(y_train), 10)\n",
    "\n",
    "y_train_max_prob_labels = np.argmax(y_train_probabilities, axis=1)\n",
    "assert y_train_labels.shape == y_train_max_prob_labels.shape == y_train.shape\n",
    "\n",
    "# If the predicted labels would coincide with the labels that have\n",
    "# maximum probability, the below number would be zero\n",
    "logger.log_int(\n",
    "    \"nr_max_prob_neq_label\", int(sum(y_train_max_prob_labels != y_train_labels))\n",
    ")"
   ]
  },
  {
   "cell_type": "markdown",
   "id": "cf7f354a",
   "metadata": {
    "papermill": {
     "duration": 0.004002,
     "end_time": "2022-07-18T13:12:23.006730",
     "exception": false,
     "start_time": "2022-07-18T13:12:23.002728",
     "status": "completed"
    },
    "tags": []
   },
   "source": [
    "The explanation is (likely) explained in the SVC source, see\n",
    "[here](https://github.com/scikit-learn/scikit-learn/blob/main/sklearn/svm/_base.py).\n",
    "Namely, the outputs from `predict(..)` and `predict_proba(..)` may not in some\n",
    "cases be compatible since the latter is computed using cross-validation while\n",
    "the former is not. Thus, the above number need not be zero."
   ]
  },
  {
   "cell_type": "markdown",
   "id": "7ee96271",
   "metadata": {
    "papermill": {
     "duration": 0.005038,
     "end_time": "2022-07-18T13:12:23.017562",
     "exception": false,
     "start_time": "2022-07-18T13:12:23.012524",
     "status": "completed"
    },
    "tags": []
   },
   "source": [
    "## Persist model"
   ]
  },
  {
   "cell_type": "code",
   "execution_count": 10,
   "id": "05aca7ab",
   "metadata": {
    "execution": {
     "iopub.execute_input": "2022-07-18T13:12:23.028864Z",
     "iopub.status.busy": "2022-07-18T13:12:23.028445Z",
     "iopub.status.idle": "2022-07-18T13:12:23.936202Z",
     "shell.execute_reply": "2022-07-18T13:12:23.935438Z"
    },
    "papermill": {
     "duration": 0.91539,
     "end_time": "2022-07-18T13:12:23.937787",
     "exception": false,
     "start_time": "2022-07-18T13:12:23.022397",
     "status": "completed"
    },
    "tags": []
   },
   "outputs": [],
   "source": [
    "from skl2onnx import convert_sklearn\n",
    "from skl2onnx.common.data_types import FloatTensorType\n",
    "\n",
    "#\n",
    "from common.io import datalake_root, write_onnx"
   ]
  },
  {
   "cell_type": "code",
   "execution_count": 11,
   "id": "7aa2068d",
   "metadata": {
    "execution": {
     "iopub.execute_input": "2022-07-18T13:12:23.946350Z",
     "iopub.status.busy": "2022-07-18T13:12:23.945752Z",
     "iopub.status.idle": "2022-07-18T13:12:23.992516Z",
     "shell.execute_reply": "2022-07-18T13:12:23.991870Z"
    },
    "papermill": {
     "duration": 0.053442,
     "end_time": "2022-07-18T13:12:23.994145",
     "exception": false,
     "start_time": "2022-07-18T13:12:23.940703",
     "status": "completed"
    },
    "tags": []
   },
   "outputs": [],
   "source": [
    "# convert sklearn model into onnx and persist to data lake\n",
    "\n",
    "model_onnx = convert_sklearn(\n",
    "    model, initial_types=[(\"float_input_8x8_image\", FloatTensorType([None, 8 * 8]))]\n",
    ")\n",
    "write_onnx(\n",
    "    datalake_root(P)\n",
    "    / \"models\"\n",
    "    / f\"nr_train_images={P['task.nr_train_images']}\"\n",
    "    / \"model.onnx\",\n",
    "    model_onnx,\n",
    ")"
   ]
  },
  {
   "cell_type": "code",
   "execution_count": null,
   "id": "44fc0583",
   "metadata": {
    "papermill": {
     "duration": 0.002827,
     "end_time": "2022-07-18T13:12:24.000657",
     "exception": false,
     "start_time": "2022-07-18T13:12:23.997830",
     "status": "completed"
    },
    "tags": []
   },
   "outputs": [],
   "source": []
  }
 ],
 "metadata": {
  "jupytext": {
   "cell_metadata_filter": "tags,-all",
   "main_language": "python",
   "notebook_metadata_filter": "-all"
  },
  "language_info": {
   "codemirror_mode": {
    "name": "ipython",
    "version": 3
   },
   "file_extension": ".py",
   "mimetype": "text/x-python",
   "name": "python",
   "nbconvert_exporter": "python",
   "pygments_lexer": "ipython3",
   "version": "3.8.10"
  },
  "papermill": {
   "default_parameters": {},
   "duration": 5.284252,
   "end_time": "2022-07-18T13:12:25.325208",
   "environment_variables": {},
   "exception": null,
   "input_path": "/home/host_user/workspace/mnist-demo-pipeline/mnist-demo-pipeline/notebooks/temp-notebook-jb_ans89.ipynb",
   "output_path": "notebooks/train-model.ipynb",
   "parameters": {
    "P": {
     "_opentelemetry_traceparent": "00-6b5f3fe45217d3914905c5bc9205e2c4-f68df548f8334d5e-01",
     "pipeline.data_lake_root": "/pipeline-outputs/data-lake",
     "pipeline.github.actor": "matiasdahl",
     "pipeline.github.base_ref": "development",
     "pipeline.github.event_name": "pull_request",
     "pipeline.github.head_ref": "graph-parsing",
     "pipeline.github.job": "run-tests-pipeline-and-persist-pipeline-outputs",
     "pipeline.github.ref": "refs/pull/57/merge",
     "pipeline.github.ref_name": "57/merge",
     "pipeline.github.ref_type": "branch",
     "pipeline.github.repository": "pynb-dag-runner/mnist-digits-demo-pipeline",
     "pipeline.github.run_id": "2690707774",
     "pipeline.github.runner_name": "GitHub Actions 2",
     "pipeline.github.sha": "eed65b978db0ca9043f081b1308c6cd3709367a0",
     "pipeline.github.workflow": "Run automated tests, pipeline and deploy results to static reporting site",
     "pipeline.pipeline_run_id": "07383fd9-46e2-40cf-a140-e2f92535db5e",
     "pipeline.run_environment": "ci",
     "run.retry_nr": "0",
     "task.max_nr_retries": "1",
     "task.notebook": "notebooks/train-model.py",
     "task.nr_train_images": 800,
     "task.num_cpus": 1,
     "task.timeout_s": "None"
    }
   },
   "start_time": "2022-07-18T13:12:20.040956",
   "version": "2.3.3"
  }
 },
 "nbformat": 4,
 "nbformat_minor": 5
}