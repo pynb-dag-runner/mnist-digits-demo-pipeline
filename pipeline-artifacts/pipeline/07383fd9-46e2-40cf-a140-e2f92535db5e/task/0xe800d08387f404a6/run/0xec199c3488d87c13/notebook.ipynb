{
 "cells": [
  {
   "cell_type": "markdown",
   "id": "d2c5c2ce",
   "metadata": {
    "papermill": {
     "duration": 0.005802,
     "end_time": "2022-07-18T13:12:16.590508",
     "exception": false,
     "start_time": "2022-07-18T13:12:16.584706",
     "status": "completed"
    },
    "tags": []
   },
   "source": [
    "# Train model\n",
    "\n",
    "The purpose of this notebook is:\n",
    "\n",
    "- Load all training data (images and labels).\n",
    "- Limit number of train images to `task.nr_train_images` (value provided as run parameter).\n",
    "- Train a support vector machine model using sklearn.\n",
    "- Persist the trained model using the ONNX format."
   ]
  },
  {
   "cell_type": "markdown",
   "id": "c5006a7c",
   "metadata": {
    "papermill": {
     "duration": 0.007916,
     "end_time": "2022-07-18T13:12:16.609106",
     "exception": false,
     "start_time": "2022-07-18T13:12:16.601190",
     "status": "completed"
    },
    "tags": []
   },
   "source": [
    "### Determine run parameters"
   ]
  },
  {
   "cell_type": "code",
   "execution_count": 1,
   "id": "f42e4846",
   "metadata": {
    "execution": {
     "iopub.execute_input": "2022-07-18T13:12:16.631661Z",
     "iopub.status.busy": "2022-07-18T13:12:16.631239Z",
     "iopub.status.idle": "2022-07-18T13:12:16.643858Z",
     "shell.execute_reply": "2022-07-18T13:12:16.643033Z"
    },
    "lines_to_next_cell": 0,
    "papermill": {
     "duration": 0.026278,
     "end_time": "2022-07-18T13:12:16.646159",
     "exception": false,
     "start_time": "2022-07-18T13:12:16.619881",
     "status": "completed"
    },
    "tags": []
   },
   "outputs": [],
   "source": [
    "# ----------------- Parameters for interactive development --------------\n",
    "P = {\n",
    "    \"pipeline.data_lake_root\": \"/pipeline-outputs/data-lake\",\n",
    "    \"task.nr_train_images\": 600,\n",
    "}"
   ]
  },
  {
   "cell_type": "code",
   "execution_count": 2,
   "id": "bc6a7adc",
   "metadata": {
    "execution": {
     "iopub.execute_input": "2022-07-18T13:12:16.661590Z",
     "iopub.status.busy": "2022-07-18T13:12:16.660506Z",
     "iopub.status.idle": "2022-07-18T13:12:16.666809Z",
     "shell.execute_reply": "2022-07-18T13:12:16.665263Z"
    },
    "lines_to_next_cell": 0,
    "papermill": {
     "duration": 0.020635,
     "end_time": "2022-07-18T13:12:16.673642",
     "exception": false,
     "start_time": "2022-07-18T13:12:16.653007",
     "status": "completed"
    },
    "tags": [
     "parameters"
    ]
   },
   "outputs": [],
   "source": [
    "# - During automated runs parameters will be injected in the below cell -"
   ]
  },
  {
   "cell_type": "code",
   "execution_count": 3,
   "id": "e090e94f",
   "metadata": {
    "execution": {
     "iopub.execute_input": "2022-07-18T13:12:16.709669Z",
     "iopub.status.busy": "2022-07-18T13:12:16.708257Z",
     "iopub.status.idle": "2022-07-18T13:12:16.716442Z",
     "shell.execute_reply": "2022-07-18T13:12:16.715583Z"
    },
    "papermill": {
     "duration": 0.036281,
     "end_time": "2022-07-18T13:12:16.727453",
     "exception": false,
     "start_time": "2022-07-18T13:12:16.691172",
     "status": "completed"
    },
    "tags": [
     "injected-parameters"
    ]
   },
   "outputs": [],
   "source": [
    "# Parameters\n",
    "P = {\n",
    "    \"pipeline.data_lake_root\": \"/pipeline-outputs/data-lake\",\n",
    "    \"pipeline.run_environment\": \"ci\",\n",
    "    \"pipeline.pipeline_run_id\": \"07383fd9-46e2-40cf-a140-e2f92535db5e\",\n",
    "    \"pipeline.github.repository\": \"pynb-dag-runner/mnist-digits-demo-pipeline\",\n",
    "    \"pipeline.github.workflow\": \"Run automated tests, pipeline and deploy results to static reporting site\",\n",
    "    \"pipeline.github.runner_name\": \"GitHub Actions 2\",\n",
    "    \"pipeline.github.run_id\": \"2690707774\",\n",
    "    \"pipeline.github.actor\": \"matiasdahl\",\n",
    "    \"pipeline.github.job\": \"run-tests-pipeline-and-persist-pipeline-outputs\",\n",
    "    \"pipeline.github.base_ref\": \"development\",\n",
    "    \"pipeline.github.head_ref\": \"graph-parsing\",\n",
    "    \"pipeline.github.sha\": \"eed65b978db0ca9043f081b1308c6cd3709367a0\",\n",
    "    \"pipeline.github.ref\": \"refs/pull/57/merge\",\n",
    "    \"pipeline.github.ref_type\": \"branch\",\n",
    "    \"pipeline.github.ref_name\": \"57/merge\",\n",
    "    \"pipeline.github.event_name\": \"pull_request\",\n",
    "    \"task.nr_train_images\": 600,\n",
    "    \"task.notebook\": \"notebooks/train-model.py\",\n",
    "    \"task.max_nr_retries\": \"1\",\n",
    "    \"run.retry_nr\": \"0\",\n",
    "    \"task.timeout_s\": \"None\",\n",
    "    \"task.num_cpus\": 1,\n",
    "    \"_opentelemetry_traceparent\": \"00-6b5f3fe45217d3914905c5bc9205e2c4-9bc4ca1207e4b0b4-01\",\n",
    "}\n"
   ]
  },
  {
   "cell_type": "code",
   "execution_count": 4,
   "id": "82973920",
   "metadata": {
    "execution": {
     "iopub.execute_input": "2022-07-18T13:12:16.748462Z",
     "iopub.status.busy": "2022-07-18T13:12:16.748141Z",
     "iopub.status.idle": "2022-07-18T13:12:16.752438Z",
     "shell.execute_reply": "2022-07-18T13:12:16.751693Z"
    },
    "lines_to_next_cell": 0,
    "papermill": {
     "duration": 0.020598,
     "end_time": "2022-07-18T13:12:16.756322",
     "exception": false,
     "start_time": "2022-07-18T13:12:16.735724",
     "status": "completed"
    },
    "tags": []
   },
   "outputs": [],
   "source": [
    "# -----------------------------------------------------------------------"
   ]
  },
  {
   "cell_type": "markdown",
   "id": "774501d6",
   "metadata": {
    "papermill": {
     "duration": 0.011618,
     "end_time": "2022-07-18T13:12:16.780712",
     "exception": false,
     "start_time": "2022-07-18T13:12:16.769094",
     "status": "completed"
    },
    "tags": []
   },
   "source": [
    "---"
   ]
  },
  {
   "cell_type": "markdown",
   "id": "fe4fd47a",
   "metadata": {
    "lines_to_next_cell": 2,
    "papermill": {
     "duration": 0.016252,
     "end_time": "2022-07-18T13:12:16.805466",
     "exception": false,
     "start_time": "2022-07-18T13:12:16.789214",
     "status": "completed"
    },
    "tags": []
   },
   "source": [
    "### Notebook code"
   ]
  },
  {
   "cell_type": "code",
   "execution_count": 5,
   "id": "b0720b93",
   "metadata": {
    "execution": {
     "iopub.execute_input": "2022-07-18T13:12:16.825463Z",
     "iopub.status.busy": "2022-07-18T13:12:16.825134Z",
     "iopub.status.idle": "2022-07-18T13:12:17.599043Z",
     "shell.execute_reply": "2022-07-18T13:12:17.598366Z"
    },
    "papermill": {
     "duration": 0.786376,
     "end_time": "2022-07-18T13:12:17.600841",
     "exception": false,
     "start_time": "2022-07-18T13:12:16.814465",
     "status": "completed"
    },
    "tags": []
   },
   "outputs": [
    {
     "name": "stderr",
     "output_type": "stream",
     "text": [
      "2022-07-18 13:12:17,426\tINFO worker.py:842 -- Connecting to existing Ray cluster at address: 172.17.0.2:6379\n"
     ]
    }
   ],
   "source": [
    "from pynb_dag_runner.tasks.task_opentelemetry_logging import PydarLogger\n",
    "\n",
    "logger = PydarLogger(P)"
   ]
  },
  {
   "cell_type": "markdown",
   "id": "a713f661",
   "metadata": {
    "papermill": {
     "duration": 0.002703,
     "end_time": "2022-07-18T13:12:17.606619",
     "exception": false,
     "start_time": "2022-07-18T13:12:17.603916",
     "status": "completed"
    },
    "tags": []
   },
   "source": [
    "## Load and limit train data"
   ]
  },
  {
   "cell_type": "code",
   "execution_count": 6,
   "id": "b0408ee2",
   "metadata": {
    "execution": {
     "iopub.execute_input": "2022-07-18T13:12:17.617734Z",
     "iopub.status.busy": "2022-07-18T13:12:17.616445Z",
     "iopub.status.idle": "2022-07-18T13:12:17.957193Z",
     "shell.execute_reply": "2022-07-18T13:12:17.956550Z"
    },
    "papermill": {
     "duration": 0.349655,
     "end_time": "2022-07-18T13:12:17.959199",
     "exception": false,
     "start_time": "2022-07-18T13:12:17.609544",
     "status": "completed"
    },
    "tags": []
   },
   "outputs": [],
   "source": [
    "def load_and_limit_train_data(P):\n",
    "    from common.io import datalake_root, read_numpy\n",
    "    from sklearn.model_selection import train_test_split\n",
    "\n",
    "    X_train_all = read_numpy(datalake_root(P) / \"train-data\" / \"digits.numpy\")\n",
    "    y_train_all = read_numpy(datalake_root(P) / \"train-data\" / \"labels.numpy\")\n",
    "\n",
    "    assert isinstance(P[\"task.nr_train_images\"], int)\n",
    "\n",
    "    # Note: train_test_split will fail if split is 0 or 100%.\n",
    "    assert 0 < P[\"task.nr_train_images\"] < len(y_train_all)\n",
    "\n",
    "    X_train, _, y_train, _ = train_test_split(\n",
    "        X_train_all,\n",
    "        y_train_all,\n",
    "        train_size=P[\"task.nr_train_images\"],\n",
    "        test_size=None,\n",
    "        stratify=y_train_all,\n",
    "        shuffle=True,\n",
    "        random_state=123,\n",
    "    )\n",
    "\n",
    "    assert X_train.shape == (len(y_train), 8 * 8)\n",
    "    return X_train, y_train\n",
    "\n",
    "\n",
    "X_train, y_train = load_and_limit_train_data(P)"
   ]
  },
  {
   "cell_type": "markdown",
   "id": "19d93751",
   "metadata": {
    "papermill": {
     "duration": 0.002835,
     "end_time": "2022-07-18T13:12:17.964801",
     "exception": false,
     "start_time": "2022-07-18T13:12:17.961966",
     "status": "completed"
    },
    "tags": []
   },
   "source": [
    "## Train support vector classifier model\n",
    "\n",
    "Below we assume that the hyperparameter $C$ is known.\n",
    "\n",
    "However, this should ideally be found by a hyperparameter search. That could be\n",
    "done in parallel on the Ray cluster, but this needs some more work. Ie., to use\n",
    "multiple cores in the notebook, those cores should be reserved when starting the\n",
    "notebook task (TODO).\n",
    "\n",
    "- https://docs.ray.io/en/latest/tune/key-concepts.html\n",
    "\n",
    "Note: cv-scores would need to be computed here, since they depend on the train data.\n",
    "After this notebook only the onnx-model is available."
   ]
  },
  {
   "cell_type": "code",
   "execution_count": 7,
   "id": "e389849b",
   "metadata": {
    "execution": {
     "iopub.execute_input": "2022-07-18T13:12:17.972585Z",
     "iopub.status.busy": "2022-07-18T13:12:17.972250Z",
     "iopub.status.idle": "2022-07-18T13:12:18.045615Z",
     "shell.execute_reply": "2022-07-18T13:12:18.044956Z"
    },
    "papermill": {
     "duration": 0.078653,
     "end_time": "2022-07-18T13:12:18.047294",
     "exception": false,
     "start_time": "2022-07-18T13:12:17.968641",
     "status": "completed"
    },
    "tags": []
   },
   "outputs": [],
   "source": [
    "from sklearn.svm import SVC"
   ]
  },
  {
   "cell_type": "code",
   "execution_count": 8,
   "id": "aef996de",
   "metadata": {
    "execution": {
     "iopub.execute_input": "2022-07-18T13:12:18.061538Z",
     "iopub.status.busy": "2022-07-18T13:12:18.061272Z",
     "iopub.status.idle": "2022-07-18T13:12:18.169046Z",
     "shell.execute_reply": "2022-07-18T13:12:18.168325Z"
    },
    "papermill": {
     "duration": 0.117018,
     "end_time": "2022-07-18T13:12:18.171076",
     "exception": false,
     "start_time": "2022-07-18T13:12:18.054058",
     "status": "completed"
    },
    "tags": []
   },
   "outputs": [
    {
     "data": {
      "text/plain": [
       "SVC(C=0.001, kernel='linear', probability=True)"
      ]
     },
     "execution_count": 8,
     "metadata": {},
     "output_type": "execute_result"
    }
   ],
   "source": [
    "model = SVC(C=0.001, kernel=\"linear\", probability=True)\n",
    "\n",
    "model.fit(X_train, y_train)"
   ]
  },
  {
   "cell_type": "markdown",
   "id": "9083c9bb",
   "metadata": {
    "papermill": {
     "duration": 0.004693,
     "end_time": "2022-07-18T13:12:18.181031",
     "exception": false,
     "start_time": "2022-07-18T13:12:18.176338",
     "status": "completed"
    },
    "tags": []
   },
   "source": [
    "### Q: Can the labels returned by `predict(..)` be computed from probabilities returned by the `predict_prob`-method?"
   ]
  },
  {
   "cell_type": "code",
   "execution_count": 9,
   "id": "06cfba7c",
   "metadata": {
    "execution": {
     "iopub.execute_input": "2022-07-18T13:12:18.191168Z",
     "iopub.status.busy": "2022-07-18T13:12:18.190833Z",
     "iopub.status.idle": "2022-07-18T13:12:18.242583Z",
     "shell.execute_reply": "2022-07-18T13:12:18.241724Z"
    },
    "papermill": {
     "duration": 0.06027,
     "end_time": "2022-07-18T13:12:18.245340",
     "exception": false,
     "start_time": "2022-07-18T13:12:18.185070",
     "status": "completed"
    },
    "tags": []
   },
   "outputs": [
    {
     "name": "stdout",
     "output_type": "stream",
     "text": [
      " - Logging nr_max_prob_neq_label (int) : 2\n"
     ]
    }
   ],
   "source": [
    "import numpy as np\n",
    "\n",
    "y_train_labels = model.predict(X_train)\n",
    "y_train_probabilities = model.predict_proba(X_train)\n",
    "assert y_train_probabilities.shape == (len(y_train), 10)\n",
    "\n",
    "y_train_max_prob_labels = np.argmax(y_train_probabilities, axis=1)\n",
    "assert y_train_labels.shape == y_train_max_prob_labels.shape == y_train.shape\n",
    "\n",
    "# If the predicted labels would coincide with the labels that have\n",
    "# maximum probability, the below number would be zero\n",
    "logger.log_int(\n",
    "    \"nr_max_prob_neq_label\", int(sum(y_train_max_prob_labels != y_train_labels))\n",
    ")"
   ]
  },
  {
   "cell_type": "markdown",
   "id": "0a0ec750",
   "metadata": {
    "papermill": {
     "duration": 0.005242,
     "end_time": "2022-07-18T13:12:18.255721",
     "exception": false,
     "start_time": "2022-07-18T13:12:18.250479",
     "status": "completed"
    },
    "tags": []
   },
   "source": [
    "The explanation is (likely) explained in the SVC source, see\n",
    "[here](https://github.com/scikit-learn/scikit-learn/blob/main/sklearn/svm/_base.py).\n",
    "Namely, the outputs from `predict(..)` and `predict_proba(..)` may not in some\n",
    "cases be compatible since the latter is computed using cross-validation while\n",
    "the former is not. Thus, the above number need not be zero."
   ]
  },
  {
   "cell_type": "markdown",
   "id": "3855c69e",
   "metadata": {
    "papermill": {
     "duration": 0.004339,
     "end_time": "2022-07-18T13:12:18.264204",
     "exception": false,
     "start_time": "2022-07-18T13:12:18.259865",
     "status": "completed"
    },
    "tags": []
   },
   "source": [
    "## Persist model"
   ]
  },
  {
   "cell_type": "code",
   "execution_count": 10,
   "id": "dcb1203b",
   "metadata": {
    "execution": {
     "iopub.execute_input": "2022-07-18T13:12:18.275410Z",
     "iopub.status.busy": "2022-07-18T13:12:18.275002Z",
     "iopub.status.idle": "2022-07-18T13:12:19.711729Z",
     "shell.execute_reply": "2022-07-18T13:12:19.710925Z"
    },
    "papermill": {
     "duration": 1.44641,
     "end_time": "2022-07-18T13:12:19.714805",
     "exception": false,
     "start_time": "2022-07-18T13:12:18.268395",
     "status": "completed"
    },
    "tags": []
   },
   "outputs": [],
   "source": [
    "from skl2onnx import convert_sklearn\n",
    "from skl2onnx.common.data_types import FloatTensorType\n",
    "\n",
    "#\n",
    "from common.io import datalake_root, write_onnx"
   ]
  },
  {
   "cell_type": "code",
   "execution_count": 11,
   "id": "70175a13",
   "metadata": {
    "execution": {
     "iopub.execute_input": "2022-07-18T13:12:19.729644Z",
     "iopub.status.busy": "2022-07-18T13:12:19.728617Z",
     "iopub.status.idle": "2022-07-18T13:12:19.801927Z",
     "shell.execute_reply": "2022-07-18T13:12:19.801053Z"
    },
    "papermill": {
     "duration": 0.082972,
     "end_time": "2022-07-18T13:12:19.804126",
     "exception": false,
     "start_time": "2022-07-18T13:12:19.721154",
     "status": "completed"
    },
    "tags": []
   },
   "outputs": [],
   "source": [
    "# convert sklearn model into onnx and persist to data lake\n",
    "\n",
    "model_onnx = convert_sklearn(\n",
    "    model, initial_types=[(\"float_input_8x8_image\", FloatTensorType([None, 8 * 8]))]\n",
    ")\n",
    "write_onnx(\n",
    "    datalake_root(P)\n",
    "    / \"models\"\n",
    "    / f\"nr_train_images={P['task.nr_train_images']}\"\n",
    "    / \"model.onnx\",\n",
    "    model_onnx,\n",
    ")"
   ]
  },
  {
   "cell_type": "code",
   "execution_count": null,
   "id": "d1b21c30",
   "metadata": {
    "papermill": {
     "duration": 0.005266,
     "end_time": "2022-07-18T13:12:19.815176",
     "exception": false,
     "start_time": "2022-07-18T13:12:19.809910",
     "status": "completed"
    },
    "tags": []
   },
   "outputs": [],
   "source": []
  }
 ],
 "metadata": {
  "jupytext": {
   "cell_metadata_filter": "tags,-all",
   "main_language": "python",
   "notebook_metadata_filter": "-all"
  },
  "language_info": {
   "codemirror_mode": {
    "name": "ipython",
    "version": 3
   },
   "file_extension": ".py",
   "mimetype": "text/x-python",
   "name": "python",
   "nbconvert_exporter": "python",
   "pygments_lexer": "ipython3",
   "version": "3.8.10"
  },
  "papermill": {
   "default_parameters": {},
   "duration": 6.605005,
   "end_time": "2022-07-18T13:12:21.142884",
   "environment_variables": {},
   "exception": null,
   "input_path": "/home/host_user/workspace/mnist-demo-pipeline/mnist-demo-pipeline/notebooks/temp-notebook-5r_t69ik.ipynb",
   "output_path": "notebooks/train-model.ipynb",
   "parameters": {
    "P": {
     "_opentelemetry_traceparent": "00-6b5f3fe45217d3914905c5bc9205e2c4-9bc4ca1207e4b0b4-01",
     "pipeline.data_lake_root": "/pipeline-outputs/data-lake",
     "pipeline.github.actor": "matiasdahl",
     "pipeline.github.base_ref": "development",
     "pipeline.github.event_name": "pull_request",
     "pipeline.github.head_ref": "graph-parsing",
     "pipeline.github.job": "run-tests-pipeline-and-persist-pipeline-outputs",
     "pipeline.github.ref": "refs/pull/57/merge",
     "pipeline.github.ref_name": "57/merge",
     "pipeline.github.ref_type": "branch",
     "pipeline.github.repository": "pynb-dag-runner/mnist-digits-demo-pipeline",
     "pipeline.github.run_id": "2690707774",
     "pipeline.github.runner_name": "GitHub Actions 2",
     "pipeline.github.sha": "eed65b978db0ca9043f081b1308c6cd3709367a0",
     "pipeline.github.workflow": "Run automated tests, pipeline and deploy results to static reporting site",
     "pipeline.pipeline_run_id": "07383fd9-46e2-40cf-a140-e2f92535db5e",
     "pipeline.run_environment": "ci",
     "run.retry_nr": "0",
     "task.max_nr_retries": "1",
     "task.notebook": "notebooks/train-model.py",
     "task.nr_train_images": 600,
     "task.num_cpus": 1,
     "task.timeout_s": "None"
    }
   },
   "start_time": "2022-07-18T13:12:14.537879",
   "version": "2.3.3"
  }
 },
 "nbformat": 4,
 "nbformat_minor": 5
}