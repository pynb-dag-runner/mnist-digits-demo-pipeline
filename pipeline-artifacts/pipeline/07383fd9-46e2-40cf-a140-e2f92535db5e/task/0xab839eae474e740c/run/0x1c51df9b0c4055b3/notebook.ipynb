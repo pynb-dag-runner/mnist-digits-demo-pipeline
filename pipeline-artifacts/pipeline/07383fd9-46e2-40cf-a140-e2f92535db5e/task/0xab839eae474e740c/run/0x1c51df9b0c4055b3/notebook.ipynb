{
 "cells": [
  {
   "cell_type": "markdown",
   "id": "2dbffab6",
   "metadata": {
    "papermill": {
     "duration": 0.004755,
     "end_time": "2022-07-18T13:12:31.081573",
     "exception": false,
     "start_time": "2022-07-18T13:12:31.076818",
     "status": "completed"
    },
    "tags": []
   },
   "source": [
    "# Benchmark model\n",
    "\n",
    "The purpose of this notebook is to benchmark persisted onnx-model (trained in the\n",
    "previous step) against evaluation set."
   ]
  },
  {
   "cell_type": "markdown",
   "id": "afcce5f4",
   "metadata": {
    "papermill": {
     "duration": 0.003377,
     "end_time": "2022-07-18T13:12:31.088729",
     "exception": false,
     "start_time": "2022-07-18T13:12:31.085352",
     "status": "completed"
    },
    "tags": []
   },
   "source": [
    "### Determine run parameters"
   ]
  },
  {
   "cell_type": "code",
   "execution_count": 1,
   "id": "d84ba120",
   "metadata": {
    "execution": {
     "iopub.execute_input": "2022-07-18T13:12:31.097412Z",
     "iopub.status.busy": "2022-07-18T13:12:31.097099Z",
     "iopub.status.idle": "2022-07-18T13:12:31.109012Z",
     "shell.execute_reply": "2022-07-18T13:12:31.107906Z"
    },
    "lines_to_next_cell": 0,
    "papermill": {
     "duration": 0.019106,
     "end_time": "2022-07-18T13:12:31.111449",
     "exception": false,
     "start_time": "2022-07-18T13:12:31.092343",
     "status": "completed"
    },
    "tags": []
   },
   "outputs": [],
   "source": [
    "# ----------------- Parameters for interactive development --------------\n",
    "P = {\n",
    "    \"pipeline.data_lake_root\": \"/pipeline-outputs/data-lake\",\n",
    "    \"task.nr_train_images\": 600,\n",
    "}"
   ]
  },
  {
   "cell_type": "code",
   "execution_count": 2,
   "id": "e55dfbfa",
   "metadata": {
    "execution": {
     "iopub.execute_input": "2022-07-18T13:12:31.120638Z",
     "iopub.status.busy": "2022-07-18T13:12:31.119988Z",
     "iopub.status.idle": "2022-07-18T13:12:31.123881Z",
     "shell.execute_reply": "2022-07-18T13:12:31.123194Z"
    },
    "lines_to_next_cell": 0,
    "papermill": {
     "duration": 0.009948,
     "end_time": "2022-07-18T13:12:31.125609",
     "exception": false,
     "start_time": "2022-07-18T13:12:31.115661",
     "status": "completed"
    },
    "tags": [
     "parameters"
    ]
   },
   "outputs": [],
   "source": [
    "# - During automated runs parameters will be injected in the below cell -"
   ]
  },
  {
   "cell_type": "code",
   "execution_count": 3,
   "id": "8792668a",
   "metadata": {
    "execution": {
     "iopub.execute_input": "2022-07-18T13:12:31.134408Z",
     "iopub.status.busy": "2022-07-18T13:12:31.133820Z",
     "iopub.status.idle": "2022-07-18T13:12:31.138599Z",
     "shell.execute_reply": "2022-07-18T13:12:31.137715Z"
    },
    "papermill": {
     "duration": 0.011058,
     "end_time": "2022-07-18T13:12:31.139966",
     "exception": false,
     "start_time": "2022-07-18T13:12:31.128908",
     "status": "completed"
    },
    "tags": [
     "injected-parameters"
    ]
   },
   "outputs": [],
   "source": [
    "# Parameters\n",
    "P = {\n",
    "    \"pipeline.data_lake_root\": \"/pipeline-outputs/data-lake\",\n",
    "    \"pipeline.run_environment\": \"ci\",\n",
    "    \"pipeline.pipeline_run_id\": \"07383fd9-46e2-40cf-a140-e2f92535db5e\",\n",
    "    \"pipeline.github.repository\": \"pynb-dag-runner/mnist-digits-demo-pipeline\",\n",
    "    \"pipeline.github.workflow\": \"Run automated tests, pipeline and deploy results to static reporting site\",\n",
    "    \"pipeline.github.runner_name\": \"GitHub Actions 2\",\n",
    "    \"pipeline.github.run_id\": \"2690707774\",\n",
    "    \"pipeline.github.actor\": \"matiasdahl\",\n",
    "    \"pipeline.github.job\": \"run-tests-pipeline-and-persist-pipeline-outputs\",\n",
    "    \"pipeline.github.base_ref\": \"development\",\n",
    "    \"pipeline.github.head_ref\": \"graph-parsing\",\n",
    "    \"pipeline.github.sha\": \"eed65b978db0ca9043f081b1308c6cd3709367a0\",\n",
    "    \"pipeline.github.ref\": \"refs/pull/57/merge\",\n",
    "    \"pipeline.github.ref_type\": \"branch\",\n",
    "    \"pipeline.github.ref_name\": \"57/merge\",\n",
    "    \"pipeline.github.event_name\": \"pull_request\",\n",
    "    \"task.nr_train_images\": 600,\n",
    "    \"task.notebook\": \"notebooks/benchmark-model.py\",\n",
    "    \"task.max_nr_retries\": \"1\",\n",
    "    \"run.retry_nr\": \"0\",\n",
    "    \"task.timeout_s\": \"None\",\n",
    "    \"task.num_cpus\": 1,\n",
    "    \"_opentelemetry_traceparent\": \"00-6b5f3fe45217d3914905c5bc9205e2c4-37487ae52f012d2e-01\",\n",
    "}\n"
   ]
  },
  {
   "cell_type": "code",
   "execution_count": 4,
   "id": "652e24f2",
   "metadata": {
    "execution": {
     "iopub.execute_input": "2022-07-18T13:12:31.148826Z",
     "iopub.status.busy": "2022-07-18T13:12:31.148305Z",
     "iopub.status.idle": "2022-07-18T13:12:31.152265Z",
     "shell.execute_reply": "2022-07-18T13:12:31.151248Z"
    },
    "lines_to_next_cell": 0,
    "papermill": {
     "duration": 0.009808,
     "end_time": "2022-07-18T13:12:31.153531",
     "exception": false,
     "start_time": "2022-07-18T13:12:31.143723",
     "status": "completed"
    },
    "tags": []
   },
   "outputs": [],
   "source": [
    "# -----------------------------------------------------------------------"
   ]
  },
  {
   "cell_type": "markdown",
   "id": "6df79905",
   "metadata": {
    "papermill": {
     "duration": 0.004269,
     "end_time": "2022-07-18T13:12:31.162473",
     "exception": false,
     "start_time": "2022-07-18T13:12:31.158204",
     "status": "completed"
    },
    "tags": []
   },
   "source": [
    "---"
   ]
  },
  {
   "cell_type": "markdown",
   "id": "d22babae",
   "metadata": {
    "lines_to_next_cell": 2,
    "papermill": {
     "duration": 0.003411,
     "end_time": "2022-07-18T13:12:31.169354",
     "exception": false,
     "start_time": "2022-07-18T13:12:31.165943",
     "status": "completed"
    },
    "tags": []
   },
   "source": [
    "### Notebook code"
   ]
  },
  {
   "cell_type": "code",
   "execution_count": 5,
   "id": "a187ee26",
   "metadata": {
    "execution": {
     "iopub.execute_input": "2022-07-18T13:12:31.178295Z",
     "iopub.status.busy": "2022-07-18T13:12:31.177900Z",
     "iopub.status.idle": "2022-07-18T13:12:32.368488Z",
     "shell.execute_reply": "2022-07-18T13:12:32.367744Z"
    },
    "papermill": {
     "duration": 1.197433,
     "end_time": "2022-07-18T13:12:32.370563",
     "exception": false,
     "start_time": "2022-07-18T13:12:31.173130",
     "status": "completed"
    },
    "tags": []
   },
   "outputs": [
    {
     "name": "stderr",
     "output_type": "stream",
     "text": [
      "2022-07-18 13:12:32,200\tINFO worker.py:842 -- Connecting to existing Ray cluster at address: 172.17.0.2:6379\n"
     ]
    }
   ],
   "source": [
    "import itertools as it\n",
    "\n",
    "#\n",
    "import numpy as np\n",
    "import matplotlib.pyplot as plt\n",
    "\n",
    "#\n",
    "from pynb_dag_runner.tasks.task_opentelemetry_logging import PydarLogger\n",
    "\n",
    "#\n",
    "from common.io import datalake_root\n",
    "\n",
    "logger = PydarLogger(P)"
   ]
  },
  {
   "cell_type": "markdown",
   "id": "ec11fca5",
   "metadata": {
    "papermill": {
     "duration": 0.006196,
     "end_time": "2022-07-18T13:12:32.384208",
     "exception": false,
     "start_time": "2022-07-18T13:12:32.378012",
     "status": "completed"
    },
    "tags": []
   },
   "source": [
    "## Load persisted onnx-model and evaluation data"
   ]
  },
  {
   "cell_type": "code",
   "execution_count": 6,
   "id": "c789b1d3",
   "metadata": {
    "execution": {
     "iopub.execute_input": "2022-07-18T13:12:32.399368Z",
     "iopub.status.busy": "2022-07-18T13:12:32.398734Z",
     "iopub.status.idle": "2022-07-18T13:12:32.403770Z",
     "shell.execute_reply": "2022-07-18T13:12:32.402947Z"
    },
    "papermill": {
     "duration": 0.016655,
     "end_time": "2022-07-18T13:12:32.406840",
     "exception": false,
     "start_time": "2022-07-18T13:12:32.390185",
     "status": "completed"
    },
    "tags": []
   },
   "outputs": [],
   "source": [
    "from common.io import read_onnx, get_onnx_inputs, get_onnx_outputs, read_numpy"
   ]
  },
  {
   "cell_type": "code",
   "execution_count": 7,
   "id": "bdc89a13",
   "metadata": {
    "execution": {
     "iopub.execute_input": "2022-07-18T13:12:32.422809Z",
     "iopub.status.busy": "2022-07-18T13:12:32.422238Z",
     "iopub.status.idle": "2022-07-18T13:12:32.436174Z",
     "shell.execute_reply": "2022-07-18T13:12:32.435267Z"
    },
    "lines_to_next_cell": 0,
    "papermill": {
     "duration": 0.024299,
     "end_time": "2022-07-18T13:12:32.438938",
     "exception": false,
     "start_time": "2022-07-18T13:12:32.414639",
     "status": "completed"
    },
    "tags": []
   },
   "outputs": [],
   "source": [
    "onnx_inference_session = read_onnx(\n",
    "    datalake_root(P)\n",
    "    / \"models\"\n",
    "    / f\"nr_train_images={P['task.nr_train_images']}\"\n",
    "    / \"model.onnx\"\n",
    ")"
   ]
  },
  {
   "cell_type": "markdown",
   "id": "1796a149",
   "metadata": {
    "papermill": {
     "duration": 0.007126,
     "end_time": "2022-07-18T13:12:32.458877",
     "exception": false,
     "start_time": "2022-07-18T13:12:32.451751",
     "status": "completed"
    },
    "tags": []
   },
   "source": [
    "### Record structure of inputs and outputs for ONNX model\n",
    "\n",
    "(this should likely be done in training notebook)"
   ]
  },
  {
   "cell_type": "code",
   "execution_count": 8,
   "id": "c1dde010",
   "metadata": {
    "execution": {
     "iopub.execute_input": "2022-07-18T13:12:32.474585Z",
     "iopub.status.busy": "2022-07-18T13:12:32.473581Z",
     "iopub.status.idle": "2022-07-18T13:12:32.482009Z",
     "shell.execute_reply": "2022-07-18T13:12:32.481291Z"
    },
    "papermill": {
     "duration": 0.018846,
     "end_time": "2022-07-18T13:12:32.484707",
     "exception": false,
     "start_time": "2022-07-18T13:12:32.465861",
     "status": "completed"
    },
    "tags": []
   },
   "outputs": [
    {
     "name": "stdout",
     "output_type": "stream",
     "text": [
      "{\n",
      "  \"inputs\": [\n",
      "    {\n",
      "      \"name\": \"float_input_8x8_image\",\n",
      "      \"shape\": [\n",
      "        null,\n",
      "        64\n",
      "      ],\n",
      "      \"type\": \"tensor(float)\"\n",
      "    }\n",
      "  ],\n",
      "  \"outputs\": [\n",
      "    {\n",
      "      \"name\": \"output_label\",\n",
      "      \"shape\": [\n",
      "        null\n",
      "      ],\n",
      "      \"type\": \"tensor(int64)\"\n",
      "    },\n",
      "    {\n",
      "      \"name\": \"output_probability\",\n",
      "      \"shape\": [],\n",
      "      \"type\": \"seq(map(int64,tensor(float)))\"\n",
      "    }\n",
      "  ]\n",
      "}\n"
     ]
    }
   ],
   "source": [
    "import json\n",
    "\n",
    "onnx_io = json.dumps(\n",
    "    {\n",
    "        \"inputs\": get_onnx_inputs(onnx_inference_session),\n",
    "        \"outputs\": get_onnx_outputs(onnx_inference_session),\n",
    "    },\n",
    "    indent=2,\n",
    ")\n",
    "\n",
    "\n",
    "logger.log_artefact(\"onnx_io_structure.json\", onnx_io)\n",
    "print(onnx_io)"
   ]
  },
  {
   "cell_type": "markdown",
   "id": "43ef9294",
   "metadata": {
    "papermill": {
     "duration": 0.006823,
     "end_time": "2022-07-18T13:12:32.497840",
     "exception": false,
     "start_time": "2022-07-18T13:12:32.491017",
     "status": "completed"
    },
    "tags": []
   },
   "source": [
    "### Evaluate model performance on evaluation data set"
   ]
  },
  {
   "cell_type": "code",
   "execution_count": 9,
   "id": "bff4c9f5",
   "metadata": {
    "execution": {
     "iopub.execute_input": "2022-07-18T13:12:32.511998Z",
     "iopub.status.busy": "2022-07-18T13:12:32.511515Z",
     "iopub.status.idle": "2022-07-18T13:12:32.518219Z",
     "shell.execute_reply": "2022-07-18T13:12:32.517359Z"
    },
    "papermill": {
     "duration": 0.017021,
     "end_time": "2022-07-18T13:12:32.520837",
     "exception": false,
     "start_time": "2022-07-18T13:12:32.503816",
     "status": "completed"
    },
    "tags": []
   },
   "outputs": [],
   "source": [
    "# load evaluation data\n",
    "X_test = read_numpy(datalake_root(P) / \"test-data\" / \"digits.numpy\")\n",
    "y_test = read_numpy(datalake_root(P) / \"test-data\" / \"labels.numpy\")"
   ]
  },
  {
   "cell_type": "code",
   "execution_count": 10,
   "id": "9e8e1534",
   "metadata": {
    "execution": {
     "iopub.execute_input": "2022-07-18T13:12:32.536613Z",
     "iopub.status.busy": "2022-07-18T13:12:32.535219Z",
     "iopub.status.idle": "2022-07-18T13:12:32.561880Z",
     "shell.execute_reply": "2022-07-18T13:12:32.557261Z"
    },
    "papermill": {
     "duration": 0.042489,
     "end_time": "2022-07-18T13:12:32.570325",
     "exception": false,
     "start_time": "2022-07-18T13:12:32.527836",
     "status": "completed"
    },
    "tags": []
   },
   "outputs": [],
   "source": [
    "def get_model_outputs(X, onnx_inference_session):\n",
    "    y_pred_labels, y_pred_map = onnx_inference_session.run(\n",
    "        [\"output_label\", \"output_probability\"],\n",
    "        {\"float_input_8x8_image\": X.astype(np.float32)},\n",
    "    )\n",
    "    y_pred_probs = np.array(\n",
    "        [[probabilities[digit] for digit in range(10)] for probabilities in y_pred_map]\n",
    "    )\n",
    "\n",
    "    assert y_pred_labels.shape == (X.shape[0],)\n",
    "    assert y_pred_probs.shape == (X.shape[0], 10)\n",
    "\n",
    "    return y_pred_labels, y_pred_probs\n",
    "\n",
    "\n",
    "# Note: as shown in the training notebook, the predicted labels and probabilities\n",
    "# computed below need not be compatible.\n",
    "y_pred_labels_test, y_pred_probs_test = get_model_outputs(\n",
    "    X_test, onnx_inference_session\n",
    ")"
   ]
  },
  {
   "cell_type": "markdown",
   "id": "97e9cfcb",
   "metadata": {
    "papermill": {
     "duration": 0.006775,
     "end_time": "2022-07-18T13:12:32.584145",
     "exception": false,
     "start_time": "2022-07-18T13:12:32.577370",
     "status": "completed"
    },
    "tags": []
   },
   "source": [
    "### Confusion matrix"
   ]
  },
  {
   "cell_type": "code",
   "execution_count": 11,
   "id": "1a480f7e",
   "metadata": {
    "execution": {
     "iopub.execute_input": "2022-07-18T13:12:32.600991Z",
     "iopub.status.busy": "2022-07-18T13:12:32.600076Z",
     "iopub.status.idle": "2022-07-18T13:12:32.603862Z",
     "shell.execute_reply": "2022-07-18T13:12:32.603017Z"
    },
    "papermill": {
     "duration": 0.016152,
     "end_time": "2022-07-18T13:12:32.607761",
     "exception": false,
     "start_time": "2022-07-18T13:12:32.591609",
     "status": "completed"
    },
    "tags": []
   },
   "outputs": [],
   "source": [
    "# TODO"
   ]
  },
  {
   "cell_type": "markdown",
   "id": "214e010c",
   "metadata": {
    "papermill": {
     "duration": 0.00719,
     "end_time": "2022-07-18T13:12:32.622066",
     "exception": false,
     "start_time": "2022-07-18T13:12:32.614876",
     "status": "completed"
    },
    "tags": []
   },
   "source": [
    "### Plot predicted probabilities for each classifier over all evaluation digit images"
   ]
  },
  {
   "cell_type": "code",
   "execution_count": 12,
   "id": "57cbfe7f",
   "metadata": {
    "execution": {
     "iopub.execute_input": "2022-07-18T13:12:32.637125Z",
     "iopub.status.busy": "2022-07-18T13:12:32.636671Z",
     "iopub.status.idle": "2022-07-18T13:12:36.606545Z",
     "shell.execute_reply": "2022-07-18T13:12:36.600866Z"
    },
    "papermill": {
     "duration": 3.980176,
     "end_time": "2022-07-18T13:12:36.608956",
     "exception": false,
     "start_time": "2022-07-18T13:12:32.628780",
     "status": "completed"
    },
    "tags": []
   },
   "outputs": [
    {
     "name": "stdout",
     "output_type": "stream",
     "text": [
      "\u001b[2m\u001b[1m\u001b[36m(scheduler +2s)\u001b[0m Tip: use `ray status` to view detailed cluster status. To disable these messages, set RAY_SCHEDULER_EVENTS=0.\n",
      "\u001b[2m\u001b[1m\u001b[33m(scheduler +2s)\u001b[0m Warning: The following resource request cannot be scheduled right now: {'CPU': 1.0}. This is likely due to all cluster resources being claimed by actors. Consider creating fewer actors or adding more nodes to this Ray cluster.\n"
     ]
    },
    {
     "data": {
      "image/png": "[encoded data removed]",
      "text/plain": [
       "<Figure size 1152x432 with 10 Axes>"
      ]
     },
     "metadata": {
      "needs_background": "light"
     },
     "output_type": "display_data"
    }
   ],
   "source": [
    "def plot_per_digit_probabilities(y_pred_probs):\n",
    "    fig, axs = plt.subplots(nrows=2, ncols=5, figsize=(16, 6))\n",
    "\n",
    "    for (r, c), digit, ax in zip(\n",
    "        it.product(range(2), range(5)), range(10), axs.reshape(-1)\n",
    "    ):\n",
    "        ax.hist(y_pred_probs_test[:, digit], bins=20)\n",
    "\n",
    "        ax.set_title(f\"Digit {digit}\")\n",
    "        if r == 1 and c == 2:\n",
    "            ax.set_xlabel(\"probability\", fontsize=16)\n",
    "\n",
    "        if c == 0:\n",
    "            ax.set_ylabel(\"counts\", fontsize=16)\n",
    "        ax.set_yscale(\"log\")\n",
    "\n",
    "    fig.tight_layout()\n",
    "    fig.suptitle(\n",
    "        f\"Distributions of prediction probabilities for each digit \"\n",
    "        f\"(on evaluation data, n={y_pred_probs.shape[0]})\",\n",
    "        fontsize=20,\n",
    "    )\n",
    "    fig.tight_layout()\n",
    "    fig.show()\n",
    "\n",
    "    return fig\n",
    "\n",
    "\n",
    "fig = plot_per_digit_probabilities(y_pred_probs_test)"
   ]
  },
  {
   "cell_type": "markdown",
   "id": "4d1e2bf0",
   "metadata": {
    "papermill": {
     "duration": 0.008276,
     "end_time": "2022-07-18T13:12:36.622768",
     "exception": false,
     "start_time": "2022-07-18T13:12:36.614492",
     "status": "completed"
    },
    "tags": []
   },
   "source": [
    "From the above distributions we see that most digits have clear separation between\n",
    "high and lower probabilities. Morover, in each case there is roughly an order of\n",
    "magnitude more of digits with low probabilities. This is compatible with digits\n",
    "being roughly evenly distributed in the data."
   ]
  },
  {
   "cell_type": "code",
   "execution_count": 13,
   "id": "a74ea640",
   "metadata": {
    "execution": {
     "iopub.execute_input": "2022-07-18T13:12:36.640365Z",
     "iopub.status.busy": "2022-07-18T13:12:36.639932Z",
     "iopub.status.idle": "2022-07-18T13:12:37.228826Z",
     "shell.execute_reply": "2022-07-18T13:12:37.227353Z"
    },
    "papermill": {
     "duration": 0.600746,
     "end_time": "2022-07-18T13:12:37.231222",
     "exception": false,
     "start_time": "2022-07-18T13:12:36.630476",
     "status": "completed"
    },
    "tags": []
   },
   "outputs": [],
   "source": [
    "logger.log_figure(\"per-digit-probabilities.png\", fig)"
   ]
  },
  {
   "cell_type": "markdown",
   "id": "744368de",
   "metadata": {
    "papermill": {
     "duration": 0.01136,
     "end_time": "2022-07-18T13:12:37.252482",
     "exception": false,
     "start_time": "2022-07-18T13:12:37.241122",
     "status": "completed"
    },
    "tags": []
   },
   "source": [
    "### Plot ROC curves for individual one-vs-rest classifiers"
   ]
  },
  {
   "cell_type": "code",
   "execution_count": 14,
   "id": "f6e51b2f",
   "metadata": {
    "execution": {
     "iopub.execute_input": "2022-07-18T13:12:37.266845Z",
     "iopub.status.busy": "2022-07-18T13:12:37.266492Z",
     "iopub.status.idle": "2022-07-18T13:12:37.767972Z",
     "shell.execute_reply": "2022-07-18T13:12:37.766653Z"
    },
    "papermill": {
     "duration": 0.50948,
     "end_time": "2022-07-18T13:12:37.770464",
     "exception": false,
     "start_time": "2022-07-18T13:12:37.260984",
     "status": "completed"
    },
    "tags": []
   },
   "outputs": [],
   "source": [
    "from sklearn import metrics"
   ]
  },
  {
   "cell_type": "code",
   "execution_count": 15,
   "id": "b8667535",
   "metadata": {
    "execution": {
     "iopub.execute_input": "2022-07-18T13:12:37.790476Z",
     "iopub.status.busy": "2022-07-18T13:12:37.789908Z",
     "iopub.status.idle": "2022-07-18T13:12:39.337261Z",
     "shell.execute_reply": "2022-07-18T13:12:39.335585Z"
    },
    "papermill": {
     "duration": 1.559906,
     "end_time": "2022-07-18T13:12:39.339484",
     "exception": false,
     "start_time": "2022-07-18T13:12:37.779578",
     "status": "completed"
    },
    "tags": []
   },
   "outputs": [
    {
     "data": {
      "image/png": "[encoded data removed]",
      "text/plain": [
       "<Figure size 1152x576 with 10 Axes>"
      ]
     },
     "metadata": {
      "needs_background": "light"
     },
     "output_type": "display_data"
    }
   ],
   "source": [
    "def plot_roc_curves(y, y_pred_probs):\n",
    "    # based on example code\n",
    "    # https://scikit-learn.org/stable/auto_examples/model_selection/plot_roc.html\n",
    "\n",
    "    fig, axs = plt.subplots(nrows=2, ncols=5, figsize=(16, 8))\n",
    "\n",
    "    roc_auc_dict = {}\n",
    "\n",
    "    for (r, c), digit, ax in zip(\n",
    "        it.product(range(2), range(5)), range(10), axs.reshape(-1)\n",
    "    ):\n",
    "        fpr, tpr, _ = metrics.roc_curve(y == digit, y_pred_probs[:, digit])\n",
    "        auc = metrics.auc(fpr, tpr)\n",
    "        roc_auc_dict[str(digit)] = auc\n",
    "\n",
    "        ax.plot(fpr, tpr, label=f\"ROC AUC={round(auc, 3)}\")\n",
    "\n",
    "        ax.set_title(f\"\\nDigit {digit}\", fontsize=16)\n",
    "        if r == 1:\n",
    "            ax.set_xlabel(\"FPR\", fontsize=18)\n",
    "\n",
    "        if c == 0:\n",
    "            ax.set_ylabel(\"TPR\", fontsize=18)\n",
    "\n",
    "        ax.set_xlim([-0.05, 1.05])\n",
    "        ax.set_ylim([-0.05, 1.05])\n",
    "        ax.legend(loc=\"lower right\", frameon=False, fontsize=14)\n",
    "\n",
    "    fig.tight_layout()\n",
    "    fig.suptitle(\n",
    "        f\"ROC plots for one-vs-rest performances \"\n",
    "        f\"(on evaluation data, n={y_pred_probs_test.shape[1]}\",\n",
    "        fontsize=22,\n",
    "    )\n",
    "    fig.tight_layout()\n",
    "    fig.show()\n",
    "\n",
    "    return roc_auc_dict, fig\n",
    "\n",
    "\n",
    "roc_auc_dict, fig = plot_roc_curves(y_test, y_pred_probs_test)"
   ]
  },
  {
   "cell_type": "code",
   "execution_count": 16,
   "id": "9082e235",
   "metadata": {
    "execution": {
     "iopub.execute_input": "2022-07-18T13:12:39.361421Z",
     "iopub.status.busy": "2022-07-18T13:12:39.360701Z",
     "iopub.status.idle": "2022-07-18T13:12:39.673691Z",
     "shell.execute_reply": "2022-07-18T13:12:39.672022Z"
    },
    "papermill": {
     "duration": 0.326153,
     "end_time": "2022-07-18T13:12:39.676262",
     "exception": false,
     "start_time": "2022-07-18T13:12:39.350109",
     "status": "completed"
    },
    "tags": []
   },
   "outputs": [],
   "source": [
    "logger.log_figure(\"per-digit-roc-curves.png\", fig)"
   ]
  },
  {
   "cell_type": "code",
   "execution_count": 17,
   "id": "b8b4cd9b",
   "metadata": {
    "execution": {
     "iopub.execute_input": "2022-07-18T13:12:39.698552Z",
     "iopub.status.busy": "2022-07-18T13:12:39.697284Z",
     "iopub.status.idle": "2022-07-18T13:12:39.707980Z",
     "shell.execute_reply": "2022-07-18T13:12:39.706846Z"
    },
    "papermill": {
     "duration": 0.026118,
     "end_time": "2022-07-18T13:12:39.712277",
     "exception": false,
     "start_time": "2022-07-18T13:12:39.686159",
     "status": "completed"
    },
    "tags": []
   },
   "outputs": [
    {
     "data": {
      "text/plain": [
       "{'0': 1.0,\n",
       " '1': 0.9992877225866916,\n",
       " '2': 1.0,\n",
       " '3': 0.9997375820056232,\n",
       " '4': 0.9990474013107759,\n",
       " '5': 0.998950328022493,\n",
       " '6': 0.999961896052431,\n",
       " '7': 0.9998475842097241,\n",
       " '8': 0.9942465321563683,\n",
       " '9': 0.998704465782655}"
      ]
     },
     "execution_count": 17,
     "metadata": {},
     "output_type": "execute_result"
    }
   ],
   "source": [
    "roc_auc_dict"
   ]
  },
  {
   "cell_type": "code",
   "execution_count": 18,
   "id": "c7483563",
   "metadata": {
    "execution": {
     "iopub.execute_input": "2022-07-18T13:12:39.737009Z",
     "iopub.status.busy": "2022-07-18T13:12:39.735875Z",
     "iopub.status.idle": "2022-07-18T13:12:39.742827Z",
     "shell.execute_reply": "2022-07-18T13:12:39.742033Z"
    },
    "papermill": {
     "duration": 0.021961,
     "end_time": "2022-07-18T13:12:39.745269",
     "exception": false,
     "start_time": "2022-07-18T13:12:39.723308",
     "status": "completed"
    },
    "tags": []
   },
   "outputs": [
    {
     "name": "stdout",
     "output_type": "stream",
     "text": [
      " - Logging roc_auc_per_digit (json) : {'0': 1.0, '1': 0.9992877225866916, '2': 1.0, '3': 0.9997375820056232, '4': 0.9990474013107759, '5': 0.998950328022493, '6': 0.999961896052431, '7': 0.9998475842097241, '8': 0.9942465321563683, '9': 0.998704465782655}\n"
     ]
    }
   ],
   "source": [
    "logger.log_value(\"roc_auc_per_digit\", roc_auc_dict)"
   ]
  },
  {
   "cell_type": "markdown",
   "id": "ad43f233",
   "metadata": {
    "papermill": {
     "duration": 0.008606,
     "end_time": "2022-07-18T13:12:39.763156",
     "exception": false,
     "start_time": "2022-07-18T13:12:39.754550",
     "status": "completed"
    },
    "tags": []
   },
   "source": [
    "### Compute and log mean ROC AUC score averaged over all digits"
   ]
  },
  {
   "cell_type": "code",
   "execution_count": 19,
   "id": "0d3c9636",
   "metadata": {
    "execution": {
     "iopub.execute_input": "2022-07-18T13:12:39.783646Z",
     "iopub.status.busy": "2022-07-18T13:12:39.783172Z",
     "iopub.status.idle": "2022-07-18T13:12:39.802417Z",
     "shell.execute_reply": "2022-07-18T13:12:39.801543Z"
    },
    "papermill": {
     "duration": 0.032561,
     "end_time": "2022-07-18T13:12:39.805172",
     "exception": false,
     "start_time": "2022-07-18T13:12:39.772611",
     "status": "completed"
    },
    "tags": []
   },
   "outputs": [
    {
     "name": "stdout",
     "output_type": "stream",
     "text": [
      " - Logging roc_auc_class_mean (float) : 0.9989783512126763\n"
     ]
    }
   ],
   "source": [
    "roc_auc_macro = np.mean(list(roc_auc_dict.values()))\n",
    "\n",
    "logger.log_float(\"roc_auc_class_mean\", roc_auc_macro)\n",
    "\n",
    "# assert that the same value can be computed directly using sklearn\n",
    "assert roc_auc_macro == metrics.roc_auc_score(\n",
    "    y_test, y_pred_probs_test, average=\"macro\", multi_class=\"ovr\"\n",
    ")"
   ]
  },
  {
   "cell_type": "code",
   "execution_count": 20,
   "id": "40a57ce0",
   "metadata": {
    "execution": {
     "iopub.execute_input": "2022-07-18T13:12:39.826973Z",
     "iopub.status.busy": "2022-07-18T13:12:39.826527Z",
     "iopub.status.idle": "2022-07-18T13:12:39.831660Z",
     "shell.execute_reply": "2022-07-18T13:12:39.830860Z"
    },
    "lines_to_next_cell": 0,
    "papermill": {
     "duration": 0.020361,
     "end_time": "2022-07-18T13:12:39.835511",
     "exception": false,
     "start_time": "2022-07-18T13:12:39.815150",
     "status": "completed"
    },
    "tags": []
   },
   "outputs": [],
   "source": [
    "# ---"
   ]
  },
  {
   "cell_type": "code",
   "execution_count": null,
   "id": "c2b39eaa",
   "metadata": {
    "papermill": {
     "duration": 0.010347,
     "end_time": "2022-07-18T13:12:39.855603",
     "exception": false,
     "start_time": "2022-07-18T13:12:39.845256",
     "status": "completed"
    },
    "tags": []
   },
   "outputs": [],
   "source": []
  }
 ],
 "metadata": {
  "jupytext": {
   "cell_metadata_filter": "tags,-all",
   "main_language": "python",
   "notebook_metadata_filter": "-all"
  },
  "language_info": {
   "codemirror_mode": {
    "name": "ipython",
    "version": 3
   },
   "file_extension": ".py",
   "mimetype": "text/x-python",
   "name": "python",
   "nbconvert_exporter": "python",
   "pygments_lexer": "ipython3",
   "version": "3.8.10"
  },
  "papermill": {
   "default_parameters": {},
   "duration": 11.872724,
   "end_time": "2022-07-18T13:12:41.288570",
   "environment_variables": {},
   "exception": null,
   "input_path": "/home/host_user/workspace/mnist-demo-pipeline/mnist-demo-pipeline/notebooks/temp-notebook-2_3hqyw8.ipynb",
   "output_path": "notebooks/benchmark-model.ipynb",
   "parameters": {
    "P": {
     "_opentelemetry_traceparent": "00-6b5f3fe45217d3914905c5bc9205e2c4-37487ae52f012d2e-01",
     "pipeline.data_lake_root": "/pipeline-outputs/data-lake",
     "pipeline.github.actor": "matiasdahl",
     "pipeline.github.base_ref": "development",
     "pipeline.github.event_name": "pull_request",
     "pipeline.github.head_ref": "graph-parsing",
     "pipeline.github.job": "run-tests-pipeline-and-persist-pipeline-outputs",
     "pipeline.github.ref": "refs/pull/57/merge",
     "pipeline.github.ref_name": "57/merge",
     "pipeline.github.ref_type": "branch",
     "pipeline.github.repository": "pynb-dag-runner/mnist-digits-demo-pipeline",
     "pipeline.github.run_id": "2690707774",
     "pipeline.github.runner_name": "GitHub Actions 2",
     "pipeline.github.sha": "eed65b978db0ca9043f081b1308c6cd3709367a0",
     "pipeline.github.workflow": "Run automated tests, pipeline and deploy results to static reporting site",
     "pipeline.pipeline_run_id": "07383fd9-46e2-40cf-a140-e2f92535db5e",
     "pipeline.run_environment": "ci",
     "run.retry_nr": "0",
     "task.max_nr_retries": "1",
     "task.notebook": "notebooks/benchmark-model.py",
     "task.nr_train_images": 600,
     "task.num_cpus": 1,
     "task.timeout_s": "None"
    }
   },
   "start_time": "2022-07-18T13:12:29.415846",
   "version": "2.3.3"
  }
 },
 "nbformat": 4,
 "nbformat_minor": 5
}