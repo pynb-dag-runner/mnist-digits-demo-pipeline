{
 "cells": [
  {
   "cell_type": "markdown",
   "id": "3d8a6c82",
   "metadata": {
    "papermill": {
     "duration": 0.004238,
     "end_time": "2022-07-18T13:12:45.486482",
     "exception": false,
     "start_time": "2022-07-18T13:12:45.482244",
     "status": "completed"
    },
    "tags": []
   },
   "source": [
    "# Benchmark model\n",
    "\n",
    "The purpose of this notebook is to benchmark persisted onnx-model (trained in the\n",
    "previous step) against evaluation set."
   ]
  },
  {
   "cell_type": "markdown",
   "id": "4b1e93f6",
   "metadata": {
    "papermill": {
     "duration": 0.003318,
     "end_time": "2022-07-18T13:12:45.494075",
     "exception": false,
     "start_time": "2022-07-18T13:12:45.490757",
     "status": "completed"
    },
    "tags": []
   },
   "source": [
    "### Determine run parameters"
   ]
  },
  {
   "cell_type": "code",
   "execution_count": 1,
   "id": "372d359e",
   "metadata": {
    "execution": {
     "iopub.execute_input": "2022-07-18T13:12:45.503002Z",
     "iopub.status.busy": "2022-07-18T13:12:45.502220Z",
     "iopub.status.idle": "2022-07-18T13:12:45.509349Z",
     "shell.execute_reply": "2022-07-18T13:12:45.508685Z"
    },
    "lines_to_next_cell": 0,
    "papermill": {
     "duration": 0.014058,
     "end_time": "2022-07-18T13:12:45.511568",
     "exception": false,
     "start_time": "2022-07-18T13:12:45.497510",
     "status": "completed"
    },
    "tags": []
   },
   "outputs": [],
   "source": [
    "# ----------------- Parameters for interactive development --------------\n",
    "P = {\n",
    "    \"pipeline.data_lake_root\": \"/pipeline-outputs/data-lake\",\n",
    "    \"task.nr_train_images\": 600,\n",
    "}"
   ]
  },
  {
   "cell_type": "code",
   "execution_count": 2,
   "id": "6db80567",
   "metadata": {
    "execution": {
     "iopub.execute_input": "2022-07-18T13:12:45.524494Z",
     "iopub.status.busy": "2022-07-18T13:12:45.523467Z",
     "iopub.status.idle": "2022-07-18T13:12:45.528196Z",
     "shell.execute_reply": "2022-07-18T13:12:45.527501Z"
    },
    "lines_to_next_cell": 0,
    "papermill": {
     "duration": 0.0152,
     "end_time": "2022-07-18T13:12:45.530127",
     "exception": false,
     "start_time": "2022-07-18T13:12:45.514927",
     "status": "completed"
    },
    "tags": [
     "parameters"
    ]
   },
   "outputs": [],
   "source": [
    "# - During automated runs parameters will be injected in the below cell -"
   ]
  },
  {
   "cell_type": "code",
   "execution_count": 3,
   "id": "497eecd7",
   "metadata": {
    "execution": {
     "iopub.execute_input": "2022-07-18T13:12:45.538931Z",
     "iopub.status.busy": "2022-07-18T13:12:45.538502Z",
     "iopub.status.idle": "2022-07-18T13:12:45.543417Z",
     "shell.execute_reply": "2022-07-18T13:12:45.542710Z"
    },
    "papermill": {
     "duration": 0.01095,
     "end_time": "2022-07-18T13:12:45.545051",
     "exception": false,
     "start_time": "2022-07-18T13:12:45.534101",
     "status": "completed"
    },
    "tags": [
     "injected-parameters"
    ]
   },
   "outputs": [],
   "source": [
    "# Parameters\n",
    "P = {\n",
    "    \"pipeline.data_lake_root\": \"/pipeline-outputs/data-lake\",\n",
    "    \"pipeline.run_environment\": \"ci\",\n",
    "    \"pipeline.pipeline_run_id\": \"07383fd9-46e2-40cf-a140-e2f92535db5e\",\n",
    "    \"pipeline.github.repository\": \"pynb-dag-runner/mnist-digits-demo-pipeline\",\n",
    "    \"pipeline.github.workflow\": \"Run automated tests, pipeline and deploy results to static reporting site\",\n",
    "    \"pipeline.github.runner_name\": \"GitHub Actions 2\",\n",
    "    \"pipeline.github.run_id\": \"2690707774\",\n",
    "    \"pipeline.github.actor\": \"matiasdahl\",\n",
    "    \"pipeline.github.job\": \"run-tests-pipeline-and-persist-pipeline-outputs\",\n",
    "    \"pipeline.github.base_ref\": \"development\",\n",
    "    \"pipeline.github.head_ref\": \"graph-parsing\",\n",
    "    \"pipeline.github.sha\": \"eed65b978db0ca9043f081b1308c6cd3709367a0\",\n",
    "    \"pipeline.github.ref\": \"refs/pull/57/merge\",\n",
    "    \"pipeline.github.ref_type\": \"branch\",\n",
    "    \"pipeline.github.ref_name\": \"57/merge\",\n",
    "    \"pipeline.github.event_name\": \"pull_request\",\n",
    "    \"task.nr_train_images\": 1000,\n",
    "    \"task.notebook\": \"notebooks/benchmark-model.py\",\n",
    "    \"task.max_nr_retries\": \"1\",\n",
    "    \"run.retry_nr\": \"0\",\n",
    "    \"task.timeout_s\": \"None\",\n",
    "    \"task.num_cpus\": 1,\n",
    "    \"_opentelemetry_traceparent\": \"00-6b5f3fe45217d3914905c5bc9205e2c4-9190e7b3e879465b-01\",\n",
    "}\n"
   ]
  },
  {
   "cell_type": "code",
   "execution_count": 4,
   "id": "ff87a81d",
   "metadata": {
    "execution": {
     "iopub.execute_input": "2022-07-18T13:12:45.555035Z",
     "iopub.status.busy": "2022-07-18T13:12:45.554769Z",
     "iopub.status.idle": "2022-07-18T13:12:45.558270Z",
     "shell.execute_reply": "2022-07-18T13:12:45.556920Z"
    },
    "lines_to_next_cell": 0,
    "papermill": {
     "duration": 0.010292,
     "end_time": "2022-07-18T13:12:45.559723",
     "exception": false,
     "start_time": "2022-07-18T13:12:45.549431",
     "status": "completed"
    },
    "tags": []
   },
   "outputs": [],
   "source": [
    "# -----------------------------------------------------------------------"
   ]
  },
  {
   "cell_type": "markdown",
   "id": "02c90509",
   "metadata": {
    "papermill": {
     "duration": 0.003371,
     "end_time": "2022-07-18T13:12:45.567313",
     "exception": false,
     "start_time": "2022-07-18T13:12:45.563942",
     "status": "completed"
    },
    "tags": []
   },
   "source": [
    "---"
   ]
  },
  {
   "cell_type": "markdown",
   "id": "1d344e6f",
   "metadata": {
    "lines_to_next_cell": 2,
    "papermill": {
     "duration": 0.003835,
     "end_time": "2022-07-18T13:12:45.575186",
     "exception": false,
     "start_time": "2022-07-18T13:12:45.571351",
     "status": "completed"
    },
    "tags": []
   },
   "source": [
    "### Notebook code"
   ]
  },
  {
   "cell_type": "code",
   "execution_count": 5,
   "id": "945f6819",
   "metadata": {
    "execution": {
     "iopub.execute_input": "2022-07-18T13:12:45.584296Z",
     "iopub.status.busy": "2022-07-18T13:12:45.583713Z",
     "iopub.status.idle": "2022-07-18T13:12:46.908551Z",
     "shell.execute_reply": "2022-07-18T13:12:46.907203Z"
    },
    "papermill": {
     "duration": 1.334318,
     "end_time": "2022-07-18T13:12:46.912917",
     "exception": false,
     "start_time": "2022-07-18T13:12:45.578599",
     "status": "completed"
    },
    "tags": []
   },
   "outputs": [
    {
     "name": "stderr",
     "output_type": "stream",
     "text": [
      "2022-07-18 13:12:46,732\tINFO worker.py:842 -- Connecting to existing Ray cluster at address: 172.17.0.2:6379\n"
     ]
    }
   ],
   "source": [
    "import itertools as it\n",
    "\n",
    "#\n",
    "import numpy as np\n",
    "import matplotlib.pyplot as plt\n",
    "\n",
    "#\n",
    "from pynb_dag_runner.tasks.task_opentelemetry_logging import PydarLogger\n",
    "\n",
    "#\n",
    "from common.io import datalake_root\n",
    "\n",
    "logger = PydarLogger(P)"
   ]
  },
  {
   "cell_type": "markdown",
   "id": "99fa8d18",
   "metadata": {
    "papermill": {
     "duration": 0.006948,
     "end_time": "2022-07-18T13:12:46.927523",
     "exception": false,
     "start_time": "2022-07-18T13:12:46.920575",
     "status": "completed"
    },
    "tags": []
   },
   "source": [
    "## Load persisted onnx-model and evaluation data"
   ]
  },
  {
   "cell_type": "code",
   "execution_count": 6,
   "id": "66f06f03",
   "metadata": {
    "execution": {
     "iopub.execute_input": "2022-07-18T13:12:46.944812Z",
     "iopub.status.busy": "2022-07-18T13:12:46.944343Z",
     "iopub.status.idle": "2022-07-18T13:12:46.948706Z",
     "shell.execute_reply": "2022-07-18T13:12:46.947861Z"
    },
    "papermill": {
     "duration": 0.01917,
     "end_time": "2022-07-18T13:12:46.954292",
     "exception": false,
     "start_time": "2022-07-18T13:12:46.935122",
     "status": "completed"
    },
    "tags": []
   },
   "outputs": [],
   "source": [
    "from common.io import read_onnx, get_onnx_inputs, get_onnx_outputs, read_numpy"
   ]
  },
  {
   "cell_type": "code",
   "execution_count": 7,
   "id": "4846b999",
   "metadata": {
    "execution": {
     "iopub.execute_input": "2022-07-18T13:12:46.976799Z",
     "iopub.status.busy": "2022-07-18T13:12:46.976427Z",
     "iopub.status.idle": "2022-07-18T13:12:46.993462Z",
     "shell.execute_reply": "2022-07-18T13:12:46.991824Z"
    },
    "lines_to_next_cell": 0,
    "papermill": {
     "duration": 0.029278,
     "end_time": "2022-07-18T13:12:46.996398",
     "exception": false,
     "start_time": "2022-07-18T13:12:46.967120",
     "status": "completed"
    },
    "tags": []
   },
   "outputs": [],
   "source": [
    "onnx_inference_session = read_onnx(\n",
    "    datalake_root(P)\n",
    "    / \"models\"\n",
    "    / f\"nr_train_images={P['task.nr_train_images']}\"\n",
    "    / \"model.onnx\"\n",
    ")"
   ]
  },
  {
   "cell_type": "markdown",
   "id": "3f96b18a",
   "metadata": {
    "papermill": {
     "duration": 0.006525,
     "end_time": "2022-07-18T13:12:47.010963",
     "exception": false,
     "start_time": "2022-07-18T13:12:47.004438",
     "status": "completed"
    },
    "tags": []
   },
   "source": [
    "### Record structure of inputs and outputs for ONNX model\n",
    "\n",
    "(this should likely be done in training notebook)"
   ]
  },
  {
   "cell_type": "code",
   "execution_count": 8,
   "id": "0e2aedbb",
   "metadata": {
    "execution": {
     "iopub.execute_input": "2022-07-18T13:12:47.026885Z",
     "iopub.status.busy": "2022-07-18T13:12:47.026503Z",
     "iopub.status.idle": "2022-07-18T13:12:47.038039Z",
     "shell.execute_reply": "2022-07-18T13:12:47.037041Z"
    },
    "papermill": {
     "duration": 0.023746,
     "end_time": "2022-07-18T13:12:47.041931",
     "exception": false,
     "start_time": "2022-07-18T13:12:47.018185",
     "status": "completed"
    },
    "tags": []
   },
   "outputs": [
    {
     "name": "stdout",
     "output_type": "stream",
     "text": [
      "{\n",
      "  \"inputs\": [\n",
      "    {\n",
      "      \"name\": \"float_input_8x8_image\",\n",
      "      \"shape\": [\n",
      "        null,\n",
      "        64\n",
      "      ],\n",
      "      \"type\": \"tensor(float)\"\n",
      "    }\n",
      "  ],\n",
      "  \"outputs\": [\n",
      "    {\n",
      "      \"name\": \"output_label\",\n",
      "      \"shape\": [\n",
      "        null\n",
      "      ],\n",
      "      \"type\": \"tensor(int64)\"\n",
      "    },\n",
      "    {\n",
      "      \"name\": \"output_probability\",\n",
      "      \"shape\": [],\n",
      "      \"type\": \"seq(map(int64,tensor(float)))\"\n",
      "    }\n",
      "  ]\n",
      "}\n"
     ]
    }
   ],
   "source": [
    "import json\n",
    "\n",
    "onnx_io = json.dumps(\n",
    "    {\n",
    "        \"inputs\": get_onnx_inputs(onnx_inference_session),\n",
    "        \"outputs\": get_onnx_outputs(onnx_inference_session),\n",
    "    },\n",
    "    indent=2,\n",
    ")\n",
    "\n",
    "\n",
    "logger.log_artefact(\"onnx_io_structure.json\", onnx_io)\n",
    "print(onnx_io)"
   ]
  },
  {
   "cell_type": "markdown",
   "id": "9553866e",
   "metadata": {
    "papermill": {
     "duration": 0.007624,
     "end_time": "2022-07-18T13:12:47.057016",
     "exception": false,
     "start_time": "2022-07-18T13:12:47.049392",
     "status": "completed"
    },
    "tags": []
   },
   "source": [
    "### Evaluate model performance on evaluation data set"
   ]
  },
  {
   "cell_type": "code",
   "execution_count": 9,
   "id": "47fdca54",
   "metadata": {
    "execution": {
     "iopub.execute_input": "2022-07-18T13:12:47.079517Z",
     "iopub.status.busy": "2022-07-18T13:12:47.079170Z",
     "iopub.status.idle": "2022-07-18T13:12:47.086457Z",
     "shell.execute_reply": "2022-07-18T13:12:47.085673Z"
    },
    "papermill": {
     "duration": 0.019241,
     "end_time": "2022-07-18T13:12:47.089049",
     "exception": false,
     "start_time": "2022-07-18T13:12:47.069808",
     "status": "completed"
    },
    "tags": []
   },
   "outputs": [],
   "source": [
    "# load evaluation data\n",
    "X_test = read_numpy(datalake_root(P) / \"test-data\" / \"digits.numpy\")\n",
    "y_test = read_numpy(datalake_root(P) / \"test-data\" / \"labels.numpy\")"
   ]
  },
  {
   "cell_type": "code",
   "execution_count": 10,
   "id": "6675d5e2",
   "metadata": {
    "execution": {
     "iopub.execute_input": "2022-07-18T13:12:47.106651Z",
     "iopub.status.busy": "2022-07-18T13:12:47.106281Z",
     "iopub.status.idle": "2022-07-18T13:12:47.121323Z",
     "shell.execute_reply": "2022-07-18T13:12:47.120497Z"
    },
    "papermill": {
     "duration": 0.027354,
     "end_time": "2022-07-18T13:12:47.124539",
     "exception": false,
     "start_time": "2022-07-18T13:12:47.097185",
     "status": "completed"
    },
    "tags": []
   },
   "outputs": [],
   "source": [
    "def get_model_outputs(X, onnx_inference_session):\n",
    "    y_pred_labels, y_pred_map = onnx_inference_session.run(\n",
    "        [\"output_label\", \"output_probability\"],\n",
    "        {\"float_input_8x8_image\": X.astype(np.float32)},\n",
    "    )\n",
    "    y_pred_probs = np.array(\n",
    "        [[probabilities[digit] for digit in range(10)] for probabilities in y_pred_map]\n",
    "    )\n",
    "\n",
    "    assert y_pred_labels.shape == (X.shape[0],)\n",
    "    assert y_pred_probs.shape == (X.shape[0], 10)\n",
    "\n",
    "    return y_pred_labels, y_pred_probs\n",
    "\n",
    "\n",
    "# Note: as shown in the training notebook, the predicted labels and probabilities\n",
    "# computed below need not be compatible.\n",
    "y_pred_labels_test, y_pred_probs_test = get_model_outputs(\n",
    "    X_test, onnx_inference_session\n",
    ")"
   ]
  },
  {
   "cell_type": "markdown",
   "id": "20fe46fa",
   "metadata": {
    "papermill": {
     "duration": 0.008426,
     "end_time": "2022-07-18T13:12:47.140741",
     "exception": false,
     "start_time": "2022-07-18T13:12:47.132315",
     "status": "completed"
    },
    "tags": []
   },
   "source": [
    "### Confusion matrix"
   ]
  },
  {
   "cell_type": "code",
   "execution_count": 11,
   "id": "861225f7",
   "metadata": {
    "execution": {
     "iopub.execute_input": "2022-07-18T13:12:47.158181Z",
     "iopub.status.busy": "2022-07-18T13:12:47.157809Z",
     "iopub.status.idle": "2022-07-18T13:12:47.161489Z",
     "shell.execute_reply": "2022-07-18T13:12:47.160756Z"
    },
    "papermill": {
     "duration": 0.021014,
     "end_time": "2022-07-18T13:12:47.169504",
     "exception": false,
     "start_time": "2022-07-18T13:12:47.148490",
     "status": "completed"
    },
    "tags": []
   },
   "outputs": [],
   "source": [
    "# TODO"
   ]
  },
  {
   "cell_type": "markdown",
   "id": "3200fb8f",
   "metadata": {
    "papermill": {
     "duration": 0.005989,
     "end_time": "2022-07-18T13:12:47.184000",
     "exception": false,
     "start_time": "2022-07-18T13:12:47.178011",
     "status": "completed"
    },
    "tags": []
   },
   "source": [
    "### Plot predicted probabilities for each classifier over all evaluation digit images"
   ]
  },
  {
   "cell_type": "code",
   "execution_count": 12,
   "id": "cc4ae382",
   "metadata": {
    "execution": {
     "iopub.execute_input": "2022-07-18T13:12:47.193901Z",
     "iopub.status.busy": "2022-07-18T13:12:47.193383Z",
     "iopub.status.idle": "2022-07-18T13:12:51.321005Z",
     "shell.execute_reply": "2022-07-18T13:12:51.319792Z"
    },
    "papermill": {
     "duration": 4.134995,
     "end_time": "2022-07-18T13:12:51.323352",
     "exception": false,
     "start_time": "2022-07-18T13:12:47.188357",
     "status": "completed"
    },
    "tags": []
   },
   "outputs": [
    {
     "data": {
      "image/png": "[encoded data removed]",
      "text/plain": [
       "<Figure size 1152x432 with 10 Axes>"
      ]
     },
     "metadata": {
      "needs_background": "light"
     },
     "output_type": "display_data"
    }
   ],
   "source": [
    "def plot_per_digit_probabilities(y_pred_probs):\n",
    "    fig, axs = plt.subplots(nrows=2, ncols=5, figsize=(16, 6))\n",
    "\n",
    "    for (r, c), digit, ax in zip(\n",
    "        it.product(range(2), range(5)), range(10), axs.reshape(-1)\n",
    "    ):\n",
    "        ax.hist(y_pred_probs_test[:, digit], bins=20)\n",
    "\n",
    "        ax.set_title(f\"Digit {digit}\")\n",
    "        if r == 1 and c == 2:\n",
    "            ax.set_xlabel(\"probability\", fontsize=16)\n",
    "\n",
    "        if c == 0:\n",
    "            ax.set_ylabel(\"counts\", fontsize=16)\n",
    "        ax.set_yscale(\"log\")\n",
    "\n",
    "    fig.tight_layout()\n",
    "    fig.suptitle(\n",
    "        f\"Distributions of prediction probabilities for each digit \"\n",
    "        f\"(on evaluation data, n={y_pred_probs.shape[0]})\",\n",
    "        fontsize=20,\n",
    "    )\n",
    "    fig.tight_layout()\n",
    "    fig.show()\n",
    "\n",
    "    return fig\n",
    "\n",
    "\n",
    "fig = plot_per_digit_probabilities(y_pred_probs_test)"
   ]
  },
  {
   "cell_type": "markdown",
   "id": "60ec27b9",
   "metadata": {
    "papermill": {
     "duration": 0.006965,
     "end_time": "2022-07-18T13:12:51.339161",
     "exception": false,
     "start_time": "2022-07-18T13:12:51.332196",
     "status": "completed"
    },
    "tags": []
   },
   "source": [
    "From the above distributions we see that most digits have clear separation between\n",
    "high and lower probabilities. Morover, in each case there is roughly an order of\n",
    "magnitude more of digits with low probabilities. This is compatible with digits\n",
    "being roughly evenly distributed in the data."
   ]
  },
  {
   "cell_type": "code",
   "execution_count": 13,
   "id": "52102c7e",
   "metadata": {
    "execution": {
     "iopub.execute_input": "2022-07-18T13:12:51.356680Z",
     "iopub.status.busy": "2022-07-18T13:12:51.356149Z",
     "iopub.status.idle": "2022-07-18T13:12:51.923311Z",
     "shell.execute_reply": "2022-07-18T13:12:51.922419Z"
    },
    "papermill": {
     "duration": 0.578773,
     "end_time": "2022-07-18T13:12:51.925151",
     "exception": false,
     "start_time": "2022-07-18T13:12:51.346378",
     "status": "completed"
    },
    "tags": []
   },
   "outputs": [],
   "source": [
    "logger.log_figure(\"per-digit-probabilities.png\", fig)"
   ]
  },
  {
   "cell_type": "markdown",
   "id": "5c094d9b",
   "metadata": {
    "papermill": {
     "duration": 0.008818,
     "end_time": "2022-07-18T13:12:51.939123",
     "exception": false,
     "start_time": "2022-07-18T13:12:51.930305",
     "status": "completed"
    },
    "tags": []
   },
   "source": [
    "### Plot ROC curves for individual one-vs-rest classifiers"
   ]
  },
  {
   "cell_type": "code",
   "execution_count": 14,
   "id": "efce9e09",
   "metadata": {
    "execution": {
     "iopub.execute_input": "2022-07-18T13:12:51.960440Z",
     "iopub.status.busy": "2022-07-18T13:12:51.960107Z",
     "iopub.status.idle": "2022-07-18T13:12:52.531197Z",
     "shell.execute_reply": "2022-07-18T13:12:52.530089Z"
    },
    "papermill": {
     "duration": 0.581181,
     "end_time": "2022-07-18T13:12:52.532955",
     "exception": false,
     "start_time": "2022-07-18T13:12:51.951774",
     "status": "completed"
    },
    "tags": []
   },
   "outputs": [],
   "source": [
    "from sklearn import metrics"
   ]
  },
  {
   "cell_type": "code",
   "execution_count": 15,
   "id": "59d06a12",
   "metadata": {
    "execution": {
     "iopub.execute_input": "2022-07-18T13:12:52.551621Z",
     "iopub.status.busy": "2022-07-18T13:12:52.550921Z",
     "iopub.status.idle": "2022-07-18T13:12:54.186619Z",
     "shell.execute_reply": "2022-07-18T13:12:54.185509Z"
    },
    "papermill": {
     "duration": 1.651438,
     "end_time": "2022-07-18T13:12:54.189028",
     "exception": false,
     "start_time": "2022-07-18T13:12:52.537590",
     "status": "completed"
    },
    "tags": []
   },
   "outputs": [
    {
     "data": {
      "image/png": "[encoded data removed]",
      "text/plain": [
       "<Figure size 1152x576 with 10 Axes>"
      ]
     },
     "metadata": {
      "needs_background": "light"
     },
     "output_type": "display_data"
    }
   ],
   "source": [
    "def plot_roc_curves(y, y_pred_probs):\n",
    "    # based on example code\n",
    "    # https://scikit-learn.org/stable/auto_examples/model_selection/plot_roc.html\n",
    "\n",
    "    fig, axs = plt.subplots(nrows=2, ncols=5, figsize=(16, 8))\n",
    "\n",
    "    roc_auc_dict = {}\n",
    "\n",
    "    for (r, c), digit, ax in zip(\n",
    "        it.product(range(2), range(5)), range(10), axs.reshape(-1)\n",
    "    ):\n",
    "        fpr, tpr, _ = metrics.roc_curve(y == digit, y_pred_probs[:, digit])\n",
    "        auc = metrics.auc(fpr, tpr)\n",
    "        roc_auc_dict[str(digit)] = auc\n",
    "\n",
    "        ax.plot(fpr, tpr, label=f\"ROC AUC={round(auc, 3)}\")\n",
    "\n",
    "        ax.set_title(f\"\\nDigit {digit}\", fontsize=16)\n",
    "        if r == 1:\n",
    "            ax.set_xlabel(\"FPR\", fontsize=18)\n",
    "\n",
    "        if c == 0:\n",
    "            ax.set_ylabel(\"TPR\", fontsize=18)\n",
    "\n",
    "        ax.set_xlim([-0.05, 1.05])\n",
    "        ax.set_ylim([-0.05, 1.05])\n",
    "        ax.legend(loc=\"lower right\", frameon=False, fontsize=14)\n",
    "\n",
    "    fig.tight_layout()\n",
    "    fig.suptitle(\n",
    "        f\"ROC plots for one-vs-rest performances \"\n",
    "        f\"(on evaluation data, n={y_pred_probs_test.shape[1]}\",\n",
    "        fontsize=22,\n",
    "    )\n",
    "    fig.tight_layout()\n",
    "    fig.show()\n",
    "\n",
    "    return roc_auc_dict, fig\n",
    "\n",
    "\n",
    "roc_auc_dict, fig = plot_roc_curves(y_test, y_pred_probs_test)"
   ]
  },
  {
   "cell_type": "code",
   "execution_count": 16,
   "id": "7493d2cb",
   "metadata": {
    "execution": {
     "iopub.execute_input": "2022-07-18T13:12:54.209850Z",
     "iopub.status.busy": "2022-07-18T13:12:54.209398Z",
     "iopub.status.idle": "2022-07-18T13:12:54.533262Z",
     "shell.execute_reply": "2022-07-18T13:12:54.532457Z"
    },
    "papermill": {
     "duration": 0.336961,
     "end_time": "2022-07-18T13:12:54.535895",
     "exception": false,
     "start_time": "2022-07-18T13:12:54.198934",
     "status": "completed"
    },
    "tags": []
   },
   "outputs": [],
   "source": [
    "logger.log_figure(\"per-digit-roc-curves.png\", fig)"
   ]
  },
  {
   "cell_type": "code",
   "execution_count": 17,
   "id": "51bf4b95",
   "metadata": {
    "execution": {
     "iopub.execute_input": "2022-07-18T13:12:54.558121Z",
     "iopub.status.busy": "2022-07-18T13:12:54.557674Z",
     "iopub.status.idle": "2022-07-18T13:12:54.564495Z",
     "shell.execute_reply": "2022-07-18T13:12:54.563756Z"
    },
    "papermill": {
     "duration": 0.022781,
     "end_time": "2022-07-18T13:12:54.568809",
     "exception": false,
     "start_time": "2022-07-18T13:12:54.546028",
     "status": "completed"
    },
    "tags": []
   },
   "outputs": [
    {
     "data": {
      "text/plain": [
       "{'0': 1.0,\n",
       " '1': 0.998912839737582,\n",
       " '2': 1.0,\n",
       " '3': 0.9999250234301781,\n",
       " '4': 0.9996570644718793,\n",
       " '5': 0.9994001874414246,\n",
       " '6': 0.999923792104862,\n",
       " '7': 0.9997332723670171,\n",
       " '8': 0.9950346784363178,\n",
       " '9': 0.9995427526291724}"
      ]
     },
     "execution_count": 17,
     "metadata": {},
     "output_type": "execute_result"
    }
   ],
   "source": [
    "roc_auc_dict"
   ]
  },
  {
   "cell_type": "code",
   "execution_count": 18,
   "id": "d1472515",
   "metadata": {
    "execution": {
     "iopub.execute_input": "2022-07-18T13:12:54.590104Z",
     "iopub.status.busy": "2022-07-18T13:12:54.589645Z",
     "iopub.status.idle": "2022-07-18T13:12:54.599613Z",
     "shell.execute_reply": "2022-07-18T13:12:54.594708Z"
    },
    "papermill": {
     "duration": 0.027557,
     "end_time": "2022-07-18T13:12:54.606247",
     "exception": false,
     "start_time": "2022-07-18T13:12:54.578690",
     "status": "completed"
    },
    "tags": []
   },
   "outputs": [
    {
     "name": "stdout",
     "output_type": "stream",
     "text": [
      " - Logging roc_auc_per_digit (json) : {'0': 1.0, '1': 0.998912839737582, '2': 1.0, '3': 0.9999250234301781, '4': 0.9996570644718793, '5': 0.9994001874414246, '6': 0.999923792104862, '7': 0.9997332723670171, '8': 0.9950346784363178, '9': 0.9995427526291724}\n"
     ]
    }
   ],
   "source": [
    "logger.log_value(\"roc_auc_per_digit\", roc_auc_dict)"
   ]
  },
  {
   "cell_type": "markdown",
   "id": "aba65336",
   "metadata": {
    "papermill": {
     "duration": 0.009917,
     "end_time": "2022-07-18T13:12:54.625838",
     "exception": false,
     "start_time": "2022-07-18T13:12:54.615921",
     "status": "completed"
    },
    "tags": []
   },
   "source": [
    "### Compute and log mean ROC AUC score averaged over all digits"
   ]
  },
  {
   "cell_type": "code",
   "execution_count": 19,
   "id": "dba68c52",
   "metadata": {
    "execution": {
     "iopub.execute_input": "2022-07-18T13:12:54.647598Z",
     "iopub.status.busy": "2022-07-18T13:12:54.647120Z",
     "iopub.status.idle": "2022-07-18T13:12:54.667580Z",
     "shell.execute_reply": "2022-07-18T13:12:54.666607Z"
    },
    "papermill": {
     "duration": 0.034349,
     "end_time": "2022-07-18T13:12:54.669833",
     "exception": false,
     "start_time": "2022-07-18T13:12:54.635484",
     "status": "completed"
    },
    "tags": []
   },
   "outputs": [
    {
     "name": "stdout",
     "output_type": "stream",
     "text": [
      " - Logging roc_auc_class_mean (float) : 0.9992129610618434\n"
     ]
    }
   ],
   "source": [
    "roc_auc_macro = np.mean(list(roc_auc_dict.values()))\n",
    "\n",
    "logger.log_float(\"roc_auc_class_mean\", roc_auc_macro)\n",
    "\n",
    "# assert that the same value can be computed directly using sklearn\n",
    "assert roc_auc_macro == metrics.roc_auc_score(\n",
    "    y_test, y_pred_probs_test, average=\"macro\", multi_class=\"ovr\"\n",
    ")"
   ]
  },
  {
   "cell_type": "code",
   "execution_count": 20,
   "id": "87b93e35",
   "metadata": {
    "execution": {
     "iopub.execute_input": "2022-07-18T13:12:54.692472Z",
     "iopub.status.busy": "2022-07-18T13:12:54.692048Z",
     "iopub.status.idle": "2022-07-18T13:12:54.696405Z",
     "shell.execute_reply": "2022-07-18T13:12:54.695647Z"
    },
    "lines_to_next_cell": 0,
    "papermill": {
     "duration": 0.019102,
     "end_time": "2022-07-18T13:12:54.699485",
     "exception": false,
     "start_time": "2022-07-18T13:12:54.680383",
     "status": "completed"
    },
    "tags": []
   },
   "outputs": [],
   "source": [
    "# ---"
   ]
  },
  {
   "cell_type": "code",
   "execution_count": null,
   "id": "5a4938d5",
   "metadata": {
    "papermill": {
     "duration": 0.010205,
     "end_time": "2022-07-18T13:12:54.726518",
     "exception": false,
     "start_time": "2022-07-18T13:12:54.716313",
     "status": "completed"
    },
    "tags": []
   },
   "outputs": [],
   "source": []
  }
 ],
 "metadata": {
  "jupytext": {
   "cell_metadata_filter": "tags,-all",
   "main_language": "python",
   "notebook_metadata_filter": "-all"
  },
  "language_info": {
   "codemirror_mode": {
    "name": "ipython",
    "version": 3
   },
   "file_extension": ".py",
   "mimetype": "text/x-python",
   "name": "python",
   "nbconvert_exporter": "python",
   "pygments_lexer": "ipython3",
   "version": "3.8.10"
  },
  "papermill": {
   "default_parameters": {},
   "duration": 12.676133,
   "end_time": "2022-07-18T13:12:56.267397",
   "environment_variables": {},
   "exception": null,
   "input_path": "/home/host_user/workspace/mnist-demo-pipeline/mnist-demo-pipeline/notebooks/temp-notebook-0xo2fm8n.ipynb",
   "output_path": "notebooks/benchmark-model.ipynb",
   "parameters": {
    "P": {
     "_opentelemetry_traceparent": "00-6b5f3fe45217d3914905c5bc9205e2c4-9190e7b3e879465b-01",
     "pipeline.data_lake_root": "/pipeline-outputs/data-lake",
     "pipeline.github.actor": "matiasdahl",
     "pipeline.github.base_ref": "development",
     "pipeline.github.event_name": "pull_request",
     "pipeline.github.head_ref": "graph-parsing",
     "pipeline.github.job": "run-tests-pipeline-and-persist-pipeline-outputs",
     "pipeline.github.ref": "refs/pull/57/merge",
     "pipeline.github.ref_name": "57/merge",
     "pipeline.github.ref_type": "branch",
     "pipeline.github.repository": "pynb-dag-runner/mnist-digits-demo-pipeline",
     "pipeline.github.run_id": "2690707774",
     "pipeline.github.runner_name": "GitHub Actions 2",
     "pipeline.github.sha": "eed65b978db0ca9043f081b1308c6cd3709367a0",
     "pipeline.github.workflow": "Run automated tests, pipeline and deploy results to static reporting site",
     "pipeline.pipeline_run_id": "07383fd9-46e2-40cf-a140-e2f92535db5e",
     "pipeline.run_environment": "ci",
     "run.retry_nr": "0",
     "task.max_nr_retries": "1",
     "task.notebook": "notebooks/benchmark-model.py",
     "task.nr_train_images": 1000,
     "task.num_cpus": 1,
     "task.timeout_s": "None"
    }
   },
   "start_time": "2022-07-18T13:12:43.591264",
   "version": "2.3.3"
  }
 },
 "nbformat": 4,
 "nbformat_minor": 5
}