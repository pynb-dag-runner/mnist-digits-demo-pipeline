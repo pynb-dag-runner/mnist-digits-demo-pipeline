{
 "cells": [
  {
   "cell_type": "markdown",
   "id": "e893931b",
   "metadata": {
    "papermill": {
     "duration": 0.024547,
     "end_time": "2022-07-18T13:13:01.635929",
     "exception": false,
     "start_time": "2022-07-18T13:13:01.611382",
     "status": "completed"
    },
    "tags": []
   },
   "source": [
    "# Summarize model performances\n",
    "\n",
    "This notebooks plots the performances (using averaged ROC AUC scores) for models\n",
    "trained with different training sets."
   ]
  },
  {
   "cell_type": "markdown",
   "id": "78850291",
   "metadata": {
    "papermill": {
     "duration": 0.002627,
     "end_time": "2022-07-18T13:13:01.641271",
     "exception": false,
     "start_time": "2022-07-18T13:13:01.638644",
     "status": "completed"
    },
    "tags": []
   },
   "source": [
    "### Determine run parameters"
   ]
  },
  {
   "cell_type": "code",
   "execution_count": 1,
   "id": "25f9452e",
   "metadata": {
    "execution": {
     "iopub.execute_input": "2022-07-18T13:13:01.648125Z",
     "iopub.status.busy": "2022-07-18T13:13:01.647278Z",
     "iopub.status.idle": "2022-07-18T13:13:01.655144Z",
     "shell.execute_reply": "2022-07-18T13:13:01.654199Z"
    },
    "lines_to_next_cell": 0,
    "papermill": {
     "duration": 0.013935,
     "end_time": "2022-07-18T13:13:01.657299",
     "exception": false,
     "start_time": "2022-07-18T13:13:01.643364",
     "status": "completed"
    },
    "tags": []
   },
   "outputs": [],
   "source": [
    "# ----------------- Parameters for interactive development --------------\n",
    "P = {\n",
    "    \"pipeline.run_environment\": \"dev\",\n",
    "}"
   ]
  },
  {
   "cell_type": "code",
   "execution_count": 2,
   "id": "0b936d1d",
   "metadata": {
    "execution": {
     "iopub.execute_input": "2022-07-18T13:13:01.663968Z",
     "iopub.status.busy": "2022-07-18T13:13:01.663398Z",
     "iopub.status.idle": "2022-07-18T13:13:01.667736Z",
     "shell.execute_reply": "2022-07-18T13:13:01.666472Z"
    },
    "lines_to_next_cell": 0,
    "papermill": {
     "duration": 0.009486,
     "end_time": "2022-07-18T13:13:01.669240",
     "exception": false,
     "start_time": "2022-07-18T13:13:01.659754",
     "status": "completed"
    },
    "tags": [
     "parameters"
    ]
   },
   "outputs": [],
   "source": [
    "# - During automated runs parameters will be injected in the below cell -"
   ]
  },
  {
   "cell_type": "code",
   "execution_count": 3,
   "id": "c22711fd",
   "metadata": {
    "execution": {
     "iopub.execute_input": "2022-07-18T13:13:01.676072Z",
     "iopub.status.busy": "2022-07-18T13:13:01.675799Z",
     "iopub.status.idle": "2022-07-18T13:13:01.680392Z",
     "shell.execute_reply": "2022-07-18T13:13:01.679293Z"
    },
    "papermill": {
     "duration": 0.010332,
     "end_time": "2022-07-18T13:13:01.682145",
     "exception": false,
     "start_time": "2022-07-18T13:13:01.671813",
     "status": "completed"
    },
    "tags": [
     "injected-parameters"
    ]
   },
   "outputs": [],
   "source": [
    "# Parameters\n",
    "P = {\n",
    "    \"pipeline.data_lake_root\": \"/pipeline-outputs/data-lake\",\n",
    "    \"pipeline.run_environment\": \"ci\",\n",
    "    \"pipeline.pipeline_run_id\": \"07383fd9-46e2-40cf-a140-e2f92535db5e\",\n",
    "    \"pipeline.github.repository\": \"pynb-dag-runner/mnist-digits-demo-pipeline\",\n",
    "    \"pipeline.github.workflow\": \"Run automated tests, pipeline and deploy results to static reporting site\",\n",
    "    \"pipeline.github.runner_name\": \"GitHub Actions 2\",\n",
    "    \"pipeline.github.run_id\": \"2690707774\",\n",
    "    \"pipeline.github.actor\": \"matiasdahl\",\n",
    "    \"pipeline.github.job\": \"run-tests-pipeline-and-persist-pipeline-outputs\",\n",
    "    \"pipeline.github.base_ref\": \"development\",\n",
    "    \"pipeline.github.head_ref\": \"graph-parsing\",\n",
    "    \"pipeline.github.sha\": \"eed65b978db0ca9043f081b1308c6cd3709367a0\",\n",
    "    \"pipeline.github.ref\": \"refs/pull/57/merge\",\n",
    "    \"pipeline.github.ref_type\": \"branch\",\n",
    "    \"pipeline.github.ref_name\": \"57/merge\",\n",
    "    \"pipeline.github.event_name\": \"pull_request\",\n",
    "    \"task.notebook\": \"notebooks/summary.py\",\n",
    "    \"task.max_nr_retries\": \"1\",\n",
    "    \"run.retry_nr\": \"0\",\n",
    "    \"task.timeout_s\": \"None\",\n",
    "    \"task.num_cpus\": 1,\n",
    "    \"_opentelemetry_traceparent\": \"00-6b5f3fe45217d3914905c5bc9205e2c4-150647af414a8908-01\",\n",
    "}\n"
   ]
  },
  {
   "cell_type": "code",
   "execution_count": 4,
   "id": "0996541e",
   "metadata": {
    "execution": {
     "iopub.execute_input": "2022-07-18T13:13:01.688870Z",
     "iopub.status.busy": "2022-07-18T13:13:01.688360Z",
     "iopub.status.idle": "2022-07-18T13:13:01.691957Z",
     "shell.execute_reply": "2022-07-18T13:13:01.691028Z"
    },
    "lines_to_next_cell": 0,
    "papermill": {
     "duration": 0.008748,
     "end_time": "2022-07-18T13:13:01.693303",
     "exception": false,
     "start_time": "2022-07-18T13:13:01.684555",
     "status": "completed"
    },
    "tags": []
   },
   "outputs": [],
   "source": [
    "# -----------------------------------------------------------------------"
   ]
  },
  {
   "cell_type": "markdown",
   "id": "9bdaa77c",
   "metadata": {
    "papermill": {
     "duration": 0.00231,
     "end_time": "2022-07-18T13:13:01.698180",
     "exception": false,
     "start_time": "2022-07-18T13:13:01.695870",
     "status": "completed"
    },
    "tags": []
   },
   "source": [
    "---"
   ]
  },
  {
   "cell_type": "markdown",
   "id": "d821e138",
   "metadata": {
    "lines_to_next_cell": 2,
    "papermill": {
     "duration": 0.00259,
     "end_time": "2022-07-18T13:13:01.703245",
     "exception": false,
     "start_time": "2022-07-18T13:13:01.700655",
     "status": "completed"
    },
    "tags": []
   },
   "source": [
    "### Notebook code"
   ]
  },
  {
   "cell_type": "code",
   "execution_count": 5,
   "id": "78ce2443",
   "metadata": {
    "execution": {
     "iopub.execute_input": "2022-07-18T13:13:01.712652Z",
     "iopub.status.busy": "2022-07-18T13:13:01.712229Z",
     "iopub.status.idle": "2022-07-18T13:13:02.740605Z",
     "shell.execute_reply": "2022-07-18T13:13:02.739897Z"
    },
    "papermill": {
     "duration": 1.035808,
     "end_time": "2022-07-18T13:13:02.742702",
     "exception": false,
     "start_time": "2022-07-18T13:13:01.706894",
     "status": "completed"
    },
    "tags": []
   },
   "outputs": [],
   "source": [
    "#\n",
    "import pandas as pd\n",
    "import matplotlib.pyplot as plt\n",
    "\n",
    "#\n",
    "from pynb_dag_runner.tasks.task_opentelemetry_logging import PydarLogger"
   ]
  },
  {
   "cell_type": "code",
   "execution_count": 6,
   "id": "06eb85f6",
   "metadata": {
    "execution": {
     "iopub.execute_input": "2022-07-18T13:13:02.750588Z",
     "iopub.status.busy": "2022-07-18T13:13:02.750066Z",
     "iopub.status.idle": "2022-07-18T13:13:02.919953Z",
     "shell.execute_reply": "2022-07-18T13:13:02.918862Z"
    },
    "papermill": {
     "duration": 0.175716,
     "end_time": "2022-07-18T13:13:02.921815",
     "exception": false,
     "start_time": "2022-07-18T13:13:02.746099",
     "status": "completed"
    },
    "tags": []
   },
   "outputs": [
    {
     "name": "stderr",
     "output_type": "stream",
     "text": [
      "2022-07-18 13:13:02,755\tINFO worker.py:842 -- Connecting to existing Ray cluster at address: 172.17.0.2:6379\n"
     ]
    }
   ],
   "source": [
    "logger = PydarLogger(P=P)"
   ]
  },
  {
   "cell_type": "code",
   "execution_count": 7,
   "id": "77175fe0",
   "metadata": {
    "execution": {
     "iopub.execute_input": "2022-07-18T13:13:02.929850Z",
     "iopub.status.busy": "2022-07-18T13:13:02.929499Z",
     "iopub.status.idle": "2022-07-18T13:13:02.934464Z",
     "shell.execute_reply": "2022-07-18T13:13:02.933462Z"
    },
    "papermill": {
     "duration": 0.011424,
     "end_time": "2022-07-18T13:13:02.936540",
     "exception": false,
     "start_time": "2022-07-18T13:13:02.925116",
     "status": "completed"
    },
    "tags": []
   },
   "outputs": [],
   "source": [
    "from pynb_dag_runner.tasks.task_opentelemetry_logging import (\n",
    "    PydarLogger,\n",
    "    get_logged_values,\n",
    ")\n",
    "from pynb_dag_runner.opentelemetry_helpers import _get_all_spans, Spans"
   ]
  },
  {
   "cell_type": "code",
   "execution_count": 8,
   "id": "0bad7d07",
   "metadata": {
    "execution": {
     "iopub.execute_input": "2022-07-18T13:13:02.944390Z",
     "iopub.status.busy": "2022-07-18T13:13:02.944059Z",
     "iopub.status.idle": "2022-07-18T13:13:02.952813Z",
     "shell.execute_reply": "2022-07-18T13:13:02.952086Z"
    },
    "papermill": {
     "duration": 0.013967,
     "end_time": "2022-07-18T13:13:02.954490",
     "exception": false,
     "start_time": "2022-07-18T13:13:02.940523",
     "status": "completed"
    },
    "tags": []
   },
   "outputs": [],
   "source": [
    "def get_model_benchmarks():\n",
    "    \"\"\"\n",
    "    Query the OpenTelemetry logs for *this pipeline run* and return\n",
    "    all key-values logged from all runs of the benchmark-model.py task\n",
    "\n",
    "    For testing a json file with OpenTelemetry spans (as an array)\n",
    "    can be used as follows:\n",
    "\n",
    "    - Create output directory `mkdir /tmp/spans`\n",
    "    - Run unit tests. This will create pipeline-outputs/opentelemetry-spans.json\n",
    "    - Convert this json-array into jsonl format as follows\n",
    "\n",
    "    jq -c '.[]' /pipeline-outputs/opentelemetry-spans.json > /tmp/spans/data.txt\n",
    "\n",
    "    \"\"\"\n",
    "    spans: Spans = Spans(_get_all_spans())\n",
    "    print(f\"Found {len(spans)} spans\")\n",
    "\n",
    "    benchmark_spans = (\n",
    "        spans\n",
    "        # -\n",
    "        .filter([\"name\"], \"execute-task\")\n",
    "        # -\n",
    "        .filter([\"attributes\", \"task.notebook\"], \"notebooks/benchmark-model.py\")\n",
    "    )\n",
    "\n",
    "    result = []\n",
    "    for s in benchmark_spans:\n",
    "        result.append(\n",
    "            {\n",
    "                \"span_id\": s[\"context\"][\"span_id\"],\n",
    "                \"nr_train_images\": s[\"attributes\"][\"task.nr_train_images\"],\n",
    "                \"data\": get_logged_values(spans.bound_under(s)),\n",
    "            }\n",
    "        )\n",
    "\n",
    "    return result\n",
    "\n",
    "\n",
    "def adjust_pandas(df):\n",
    "    def column_renamer(col_name: str) -> str:\n",
    "        return (\n",
    "            col_name\n",
    "            # -- 'data.roc_auc_per_digit.4' -> 'roc_auc.4'\n",
    "            .replace(\"data.roc_auc_per_digit\", \"roc_auc\")\n",
    "            # -- 'data.roc_auc_class_mean' -> 'roc_auc_mean'\n",
    "            .replace(\"data.roc_auc_class_mean\", \"roc_auc_mean\")\n",
    "        )\n",
    "\n",
    "    return df.rename(column_renamer, axis=\"columns\").sort_values(by=\"nr_train_images\")"
   ]
  },
  {
   "cell_type": "code",
   "execution_count": 9,
   "id": "542a3516",
   "metadata": {
    "execution": {
     "iopub.execute_input": "2022-07-18T13:13:02.962019Z",
     "iopub.status.busy": "2022-07-18T13:13:02.961638Z",
     "iopub.status.idle": "2022-07-18T13:13:02.993814Z",
     "shell.execute_reply": "2022-07-18T13:13:02.993073Z"
    },
    "papermill": {
     "duration": 0.038516,
     "end_time": "2022-07-18T13:13:02.996270",
     "exception": false,
     "start_time": "2022-07-18T13:13:02.957754",
     "status": "completed"
    },
    "tags": []
   },
   "outputs": [
    {
     "name": "stdout",
     "output_type": "stream",
     "text": [
      "Found 423 spans\n"
     ]
    }
   ],
   "source": [
    "df_data = adjust_pandas(pd.json_normalize(get_model_benchmarks()))"
   ]
  },
  {
   "cell_type": "code",
   "execution_count": 10,
   "id": "1468960d",
   "metadata": {
    "execution": {
     "iopub.execute_input": "2022-07-18T13:13:03.004355Z",
     "iopub.status.busy": "2022-07-18T13:13:03.003814Z",
     "iopub.status.idle": "2022-07-18T13:13:03.031013Z",
     "shell.execute_reply": "2022-07-18T13:13:03.030136Z"
    },
    "papermill": {
     "duration": 0.033295,
     "end_time": "2022-07-18T13:13:03.032994",
     "exception": false,
     "start_time": "2022-07-18T13:13:02.999699",
     "status": "completed"
    },
    "tags": []
   },
   "outputs": [
    {
     "data": {
      "text/html": [
       "<div>\n",
       "<style scoped>\n",
       "    .dataframe tbody tr th:only-of-type {\n",
       "        vertical-align: middle;\n",
       "    }\n",
       "\n",
       "    .dataframe tbody tr th {\n",
       "        vertical-align: top;\n",
       "    }\n",
       "\n",
       "    .dataframe thead th {\n",
       "        text-align: right;\n",
       "    }\n",
       "</style>\n",
       "<table border=\"1\" class=\"dataframe\">\n",
       "  <thead>\n",
       "    <tr style=\"text-align: right;\">\n",
       "      <th></th>\n",
       "      <th>span_id</th>\n",
       "      <th>nr_train_images</th>\n",
       "      <th>roc_auc_mean</th>\n",
       "      <th>roc_auc.0</th>\n",
       "      <th>roc_auc.1</th>\n",
       "      <th>roc_auc.2</th>\n",
       "      <th>roc_auc.3</th>\n",
       "      <th>roc_auc.4</th>\n",
       "      <th>roc_auc.5</th>\n",
       "      <th>roc_auc.6</th>\n",
       "      <th>roc_auc.7</th>\n",
       "      <th>roc_auc.8</th>\n",
       "      <th>roc_auc.9</th>\n",
       "    </tr>\n",
       "  </thead>\n",
       "  <tbody>\n",
       "    <tr>\n",
       "      <th>3</th>\n",
       "      <td>0xab839eae474e740c</td>\n",
       "      <td>600</td>\n",
       "      <td>0.9990</td>\n",
       "      <td>1.0</td>\n",
       "      <td>0.9993</td>\n",
       "      <td>1.0</td>\n",
       "      <td>0.9997</td>\n",
       "      <td>0.9990</td>\n",
       "      <td>0.9990</td>\n",
       "      <td>1.0000</td>\n",
       "      <td>0.9998</td>\n",
       "      <td>0.9942</td>\n",
       "      <td>0.9987</td>\n",
       "    </tr>\n",
       "    <tr>\n",
       "      <th>2</th>\n",
       "      <td>0xf4e3b2679205b87f</td>\n",
       "      <td>800</td>\n",
       "      <td>0.9989</td>\n",
       "      <td>1.0</td>\n",
       "      <td>0.9988</td>\n",
       "      <td>1.0</td>\n",
       "      <td>0.9998</td>\n",
       "      <td>0.9995</td>\n",
       "      <td>0.9992</td>\n",
       "      <td>1.0000</td>\n",
       "      <td>0.9999</td>\n",
       "      <td>0.9928</td>\n",
       "      <td>0.9994</td>\n",
       "    </tr>\n",
       "    <tr>\n",
       "      <th>0</th>\n",
       "      <td>0x94c7fb2bff28c551</td>\n",
       "      <td>1000</td>\n",
       "      <td>0.9992</td>\n",
       "      <td>1.0</td>\n",
       "      <td>0.9989</td>\n",
       "      <td>1.0</td>\n",
       "      <td>0.9999</td>\n",
       "      <td>0.9997</td>\n",
       "      <td>0.9994</td>\n",
       "      <td>0.9999</td>\n",
       "      <td>0.9997</td>\n",
       "      <td>0.9950</td>\n",
       "      <td>0.9995</td>\n",
       "    </tr>\n",
       "    <tr>\n",
       "      <th>1</th>\n",
       "      <td>0xf32aab6680624213</td>\n",
       "      <td>1200</td>\n",
       "      <td>0.9993</td>\n",
       "      <td>1.0</td>\n",
       "      <td>0.9990</td>\n",
       "      <td>1.0</td>\n",
       "      <td>0.9999</td>\n",
       "      <td>0.9998</td>\n",
       "      <td>0.9997</td>\n",
       "      <td>0.9999</td>\n",
       "      <td>0.9998</td>\n",
       "      <td>0.9956</td>\n",
       "      <td>0.9998</td>\n",
       "    </tr>\n",
       "  </tbody>\n",
       "</table>\n",
       "</div>"
      ],
      "text/plain": [
       "              span_id  nr_train_images  roc_auc_mean  roc_auc.0  roc_auc.1  \\\n",
       "3  0xab839eae474e740c              600        0.9990        1.0     0.9993   \n",
       "2  0xf4e3b2679205b87f              800        0.9989        1.0     0.9988   \n",
       "0  0x94c7fb2bff28c551             1000        0.9992        1.0     0.9989   \n",
       "1  0xf32aab6680624213             1200        0.9993        1.0     0.9990   \n",
       "\n",
       "   roc_auc.2  roc_auc.3  roc_auc.4  roc_auc.5  roc_auc.6  roc_auc.7  \\\n",
       "3        1.0     0.9997     0.9990     0.9990     1.0000     0.9998   \n",
       "2        1.0     0.9998     0.9995     0.9992     1.0000     0.9999   \n",
       "0        1.0     0.9999     0.9997     0.9994     0.9999     0.9997   \n",
       "1        1.0     0.9999     0.9998     0.9997     0.9999     0.9998   \n",
       "\n",
       "   roc_auc.8  roc_auc.9  \n",
       "3     0.9942     0.9987  \n",
       "2     0.9928     0.9994  \n",
       "0     0.9950     0.9995  \n",
       "1     0.9956     0.9998  "
      ]
     },
     "execution_count": 10,
     "metadata": {},
     "output_type": "execute_result"
    }
   ],
   "source": [
    "df_data.round(4)"
   ]
  },
  {
   "cell_type": "code",
   "execution_count": 11,
   "id": "6f321748",
   "metadata": {
    "execution": {
     "iopub.execute_input": "2022-07-18T13:13:03.041552Z",
     "iopub.status.busy": "2022-07-18T13:13:03.040991Z",
     "iopub.status.idle": "2022-07-18T13:13:03.188678Z",
     "shell.execute_reply": "2022-07-18T13:13:03.187825Z"
    },
    "papermill": {
     "duration": 0.15578,
     "end_time": "2022-07-18T13:13:03.191929",
     "exception": false,
     "start_time": "2022-07-18T13:13:03.036149",
     "status": "completed"
    },
    "tags": []
   },
   "outputs": [
    {
     "data": {
      "image/png": "[encoded data removed]",
      "text/plain": [
       "<Figure size 1152x288 with 1 Axes>"
      ]
     },
     "metadata": {
      "needs_background": "light"
     },
     "output_type": "display_data"
    }
   ],
   "source": [
    "def plot_classifier_performance_summary(df_data):\n",
    "    fig, ax = plt.subplots(nrows=1, ncols=1, figsize=(16, 4), sharex=True)\n",
    "\n",
    "    #\n",
    "    ax.plot(\n",
    "        df_data[\"nr_train_images\"], df_data[\"roc_auc_mean\"], marker=\"o\", linestyle=\"--\"\n",
    "    )\n",
    "    ax.set_title(\n",
    "        f\"ROC AUC digit classifier performance on evaluation digits\", fontsize=17\n",
    "    )\n",
    "    ax.set_xlabel(\"Total number of digits in training set\", fontsize=14)\n",
    "    ax.set_ylabel(\"Mean ROC AUC\", fontsize=14)\n",
    "\n",
    "    fig.tight_layout()\n",
    "    fig.show()\n",
    "\n",
    "    return fig\n",
    "\n",
    "\n",
    "fig = plot_classifier_performance_summary(df_data)"
   ]
  },
  {
   "cell_type": "code",
   "execution_count": 12,
   "id": "e3d7f9f6",
   "metadata": {
    "execution": {
     "iopub.execute_input": "2022-07-18T13:13:03.201025Z",
     "iopub.status.busy": "2022-07-18T13:13:03.200493Z",
     "iopub.status.idle": "2022-07-18T13:13:03.254201Z",
     "shell.execute_reply": "2022-07-18T13:13:03.253474Z"
    },
    "papermill": {
     "duration": 0.060683,
     "end_time": "2022-07-18T13:13:03.256331",
     "exception": false,
     "start_time": "2022-07-18T13:13:03.195648",
     "status": "completed"
    },
    "tags": []
   },
   "outputs": [],
   "source": [
    "logger.log_figure(\"auc-roc-model-performances.png\", fig)"
   ]
  },
  {
   "cell_type": "code",
   "execution_count": 13,
   "id": "68a2bc4e",
   "metadata": {
    "execution": {
     "iopub.execute_input": "2022-07-18T13:13:03.268845Z",
     "iopub.status.busy": "2022-07-18T13:13:03.268384Z",
     "iopub.status.idle": "2022-07-18T13:13:03.272776Z",
     "shell.execute_reply": "2022-07-18T13:13:03.271667Z"
    },
    "papermill": {
     "duration": 0.013723,
     "end_time": "2022-07-18T13:13:03.274490",
     "exception": false,
     "start_time": "2022-07-18T13:13:03.260767",
     "status": "completed"
    },
    "tags": []
   },
   "outputs": [],
   "source": [
    "###"
   ]
  },
  {
   "cell_type": "code",
   "execution_count": null,
   "id": "08f693ea",
   "metadata": {
    "papermill": {
     "duration": 0.003754,
     "end_time": "2022-07-18T13:13:03.281538",
     "exception": false,
     "start_time": "2022-07-18T13:13:03.277784",
     "status": "completed"
    },
    "tags": []
   },
   "outputs": [],
   "source": []
  }
 ],
 "metadata": {
  "jupytext": {
   "cell_metadata_filter": "tags,-all",
   "main_language": "python",
   "notebook_metadata_filter": "-all"
  },
  "language_info": {
   "codemirror_mode": {
    "name": "ipython",
    "version": 3
   },
   "file_extension": ".py",
   "mimetype": "text/x-python",
   "name": "python",
   "nbconvert_exporter": "python",
   "pygments_lexer": "ipython3",
   "version": "3.8.10"
  },
  "papermill": {
   "default_parameters": {},
   "duration": 4.0466,
   "end_time": "2022-07-18T13:13:04.405508",
   "environment_variables": {},
   "exception": null,
   "input_path": "/home/host_user/workspace/mnist-demo-pipeline/mnist-demo-pipeline/notebooks/temp-notebook-ohsfftrj.ipynb",
   "output_path": "notebooks/summary.ipynb",
   "parameters": {
    "P": {
     "_opentelemetry_traceparent": "00-6b5f3fe45217d3914905c5bc9205e2c4-150647af414a8908-01",
     "pipeline.data_lake_root": "/pipeline-outputs/data-lake",
     "pipeline.github.actor": "matiasdahl",
     "pipeline.github.base_ref": "development",
     "pipeline.github.event_name": "pull_request",
     "pipeline.github.head_ref": "graph-parsing",
     "pipeline.github.job": "run-tests-pipeline-and-persist-pipeline-outputs",
     "pipeline.github.ref": "refs/pull/57/merge",
     "pipeline.github.ref_name": "57/merge",
     "pipeline.github.ref_type": "branch",
     "pipeline.github.repository": "pynb-dag-runner/mnist-digits-demo-pipeline",
     "pipeline.github.run_id": "2690707774",
     "pipeline.github.runner_name": "GitHub Actions 2",
     "pipeline.github.sha": "eed65b978db0ca9043f081b1308c6cd3709367a0",
     "pipeline.github.workflow": "Run automated tests, pipeline and deploy results to static reporting site",
     "pipeline.pipeline_run_id": "07383fd9-46e2-40cf-a140-e2f92535db5e",
     "pipeline.run_environment": "ci",
     "run.retry_nr": "0",
     "task.max_nr_retries": "1",
     "task.notebook": "notebooks/summary.py",
     "task.num_cpus": 1,
     "task.timeout_s": "None"
    }
   },
   "start_time": "2022-07-18T13:13:00.358908",
   "version": "2.3.3"
  }
 },
 "nbformat": 4,
 "nbformat_minor": 5
}