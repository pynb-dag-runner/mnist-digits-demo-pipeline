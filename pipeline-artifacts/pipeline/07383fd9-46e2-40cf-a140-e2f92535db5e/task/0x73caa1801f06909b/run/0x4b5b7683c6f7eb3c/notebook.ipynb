{
 "cells": [
  {
   "cell_type": "markdown",
   "id": "21a5eba8",
   "metadata": {
    "papermill": {
     "duration": 0.004667,
     "end_time": "2022-07-18T13:12:09.879220",
     "exception": false,
     "start_time": "2022-07-18T13:12:09.874553",
     "status": "completed"
    },
    "tags": []
   },
   "source": [
    "# Split digits and labels into separate training and testing data sets"
   ]
  },
  {
   "cell_type": "markdown",
   "id": "a733133d",
   "metadata": {
    "papermill": {
     "duration": 0.003456,
     "end_time": "2022-07-18T13:12:09.887519",
     "exception": false,
     "start_time": "2022-07-18T13:12:09.884063",
     "status": "completed"
    },
    "tags": []
   },
   "source": [
    "### Determine run parameters"
   ]
  },
  {
   "cell_type": "code",
   "execution_count": 1,
   "id": "09a1468d",
   "metadata": {
    "execution": {
     "iopub.execute_input": "2022-07-18T13:12:09.898293Z",
     "iopub.status.busy": "2022-07-18T13:12:09.897287Z",
     "iopub.status.idle": "2022-07-18T13:12:09.911939Z",
     "shell.execute_reply": "2022-07-18T13:12:09.910805Z"
    },
    "lines_to_next_cell": 0,
    "papermill": {
     "duration": 0.025177,
     "end_time": "2022-07-18T13:12:09.916667",
     "exception": false,
     "start_time": "2022-07-18T13:12:09.891490",
     "status": "completed"
    },
    "tags": []
   },
   "outputs": [],
   "source": [
    "# ----------------- Parameters for interactive development --------------\n",
    "P = {\n",
    "    \"pipeline.data_lake_root\": \"/pipeline-outputs/data-lake\",\n",
    "    \"task.train_test_ratio\": 0.7,\n",
    "}"
   ]
  },
  {
   "cell_type": "code",
   "execution_count": 2,
   "id": "b2561023",
   "metadata": {
    "execution": {
     "iopub.execute_input": "2022-07-18T13:12:09.926881Z",
     "iopub.status.busy": "2022-07-18T13:12:09.926495Z",
     "iopub.status.idle": "2022-07-18T13:12:09.931420Z",
     "shell.execute_reply": "2022-07-18T13:12:09.930058Z"
    },
    "lines_to_next_cell": 0,
    "papermill": {
     "duration": 0.015909,
     "end_time": "2022-07-18T13:12:09.936415",
     "exception": false,
     "start_time": "2022-07-18T13:12:09.920506",
     "status": "completed"
    },
    "tags": [
     "parameters"
    ]
   },
   "outputs": [],
   "source": [
    "# - During automated runs parameters will be injected in the below cell -"
   ]
  },
  {
   "cell_type": "code",
   "execution_count": 3,
   "id": "41e4ccb0",
   "metadata": {
    "execution": {
     "iopub.execute_input": "2022-07-18T13:12:09.946702Z",
     "iopub.status.busy": "2022-07-18T13:12:09.946329Z",
     "iopub.status.idle": "2022-07-18T13:12:09.954295Z",
     "shell.execute_reply": "2022-07-18T13:12:09.953019Z"
    },
    "papermill": {
     "duration": 0.018631,
     "end_time": "2022-07-18T13:12:09.958582",
     "exception": false,
     "start_time": "2022-07-18T13:12:09.939951",
     "status": "completed"
    },
    "tags": [
     "injected-parameters"
    ]
   },
   "outputs": [],
   "source": [
    "# Parameters\n",
    "P = {\n",
    "    \"pipeline.data_lake_root\": \"/pipeline-outputs/data-lake\",\n",
    "    \"pipeline.run_environment\": \"ci\",\n",
    "    \"pipeline.pipeline_run_id\": \"07383fd9-46e2-40cf-a140-e2f92535db5e\",\n",
    "    \"pipeline.github.repository\": \"pynb-dag-runner/mnist-digits-demo-pipeline\",\n",
    "    \"pipeline.github.workflow\": \"Run automated tests, pipeline and deploy results to static reporting site\",\n",
    "    \"pipeline.github.runner_name\": \"GitHub Actions 2\",\n",
    "    \"pipeline.github.run_id\": \"2690707774\",\n",
    "    \"pipeline.github.actor\": \"matiasdahl\",\n",
    "    \"pipeline.github.job\": \"run-tests-pipeline-and-persist-pipeline-outputs\",\n",
    "    \"pipeline.github.base_ref\": \"development\",\n",
    "    \"pipeline.github.head_ref\": \"graph-parsing\",\n",
    "    \"pipeline.github.sha\": \"eed65b978db0ca9043f081b1308c6cd3709367a0\",\n",
    "    \"pipeline.github.ref\": \"refs/pull/57/merge\",\n",
    "    \"pipeline.github.ref_type\": \"branch\",\n",
    "    \"pipeline.github.ref_name\": \"57/merge\",\n",
    "    \"pipeline.github.event_name\": \"pull_request\",\n",
    "    \"task.train_test_ratio\": 0.7,\n",
    "    \"task.notebook\": \"notebooks/split-train-test.py\",\n",
    "    \"task.max_nr_retries\": \"1\",\n",
    "    \"run.retry_nr\": \"0\",\n",
    "    \"task.timeout_s\": \"None\",\n",
    "    \"task.num_cpus\": 1,\n",
    "    \"_opentelemetry_traceparent\": \"00-6b5f3fe45217d3914905c5bc9205e2c4-219761c58463204e-01\",\n",
    "}\n"
   ]
  },
  {
   "cell_type": "code",
   "execution_count": 4,
   "id": "3e3f4a77",
   "metadata": {
    "execution": {
     "iopub.execute_input": "2022-07-18T13:12:09.969014Z",
     "iopub.status.busy": "2022-07-18T13:12:09.968606Z",
     "iopub.status.idle": "2022-07-18T13:12:09.972947Z",
     "shell.execute_reply": "2022-07-18T13:12:09.972193Z"
    },
    "lines_to_next_cell": 0,
    "papermill": {
     "duration": 0.015535,
     "end_time": "2022-07-18T13:12:09.978126",
     "exception": false,
     "start_time": "2022-07-18T13:12:09.962591",
     "status": "completed"
    },
    "tags": []
   },
   "outputs": [],
   "source": [
    "# -----------------------------------------------------------------------"
   ]
  },
  {
   "cell_type": "markdown",
   "id": "b29529ca",
   "metadata": {
    "papermill": {
     "duration": 0.004225,
     "end_time": "2022-07-18T13:12:09.986588",
     "exception": false,
     "start_time": "2022-07-18T13:12:09.982363",
     "status": "completed"
    },
    "tags": []
   },
   "source": [
    "---"
   ]
  },
  {
   "cell_type": "markdown",
   "id": "c59f586c",
   "metadata": {
    "lines_to_next_cell": 2,
    "papermill": {
     "duration": 0.004895,
     "end_time": "2022-07-18T13:12:09.995135",
     "exception": false,
     "start_time": "2022-07-18T13:12:09.990240",
     "status": "completed"
    },
    "tags": []
   },
   "source": [
    "### Notebook code"
   ]
  },
  {
   "cell_type": "code",
   "execution_count": 5,
   "id": "c00f4a50",
   "metadata": {
    "execution": {
     "iopub.execute_input": "2022-07-18T13:12:10.005028Z",
     "iopub.status.busy": "2022-07-18T13:12:10.004646Z",
     "iopub.status.idle": "2022-07-18T13:12:10.777488Z",
     "shell.execute_reply": "2022-07-18T13:12:10.776695Z"
    },
    "papermill": {
     "duration": 0.782208,
     "end_time": "2022-07-18T13:12:10.781054",
     "exception": false,
     "start_time": "2022-07-18T13:12:09.998846",
     "status": "completed"
    },
    "tags": []
   },
   "outputs": [
    {
     "name": "stderr",
     "output_type": "stream",
     "text": [
      "2022-07-18 13:12:10,570\tINFO worker.py:842 -- Connecting to existing Ray cluster at address: 172.17.0.2:6379\n"
     ]
    }
   ],
   "source": [
    "from common.io import datalake_root, read_numpy, write_numpy\n",
    "from pynb_dag_runner.tasks.task_opentelemetry_logging import PydarLogger\n",
    "\n",
    "logger = PydarLogger(P)"
   ]
  },
  {
   "cell_type": "markdown",
   "id": "5d142d17",
   "metadata": {
    "papermill": {
     "duration": 0.005292,
     "end_time": "2022-07-18T13:12:10.790626",
     "exception": false,
     "start_time": "2022-07-18T13:12:10.785334",
     "status": "completed"
    },
    "tags": []
   },
   "source": [
    "## Load and split digits data"
   ]
  },
  {
   "cell_type": "code",
   "execution_count": 6,
   "id": "b64c6915",
   "metadata": {
    "execution": {
     "iopub.execute_input": "2022-07-18T13:12:10.801969Z",
     "iopub.status.busy": "2022-07-18T13:12:10.801449Z",
     "iopub.status.idle": "2022-07-18T13:12:10.811614Z",
     "shell.execute_reply": "2022-07-18T13:12:10.810647Z"
    },
    "papermill": {
     "duration": 0.019559,
     "end_time": "2022-07-18T13:12:10.814617",
     "exception": false,
     "start_time": "2022-07-18T13:12:10.795058",
     "status": "completed"
    },
    "tags": []
   },
   "outputs": [],
   "source": [
    "X = read_numpy(datalake_root(P) / \"raw\" / \"digits.numpy\")\n",
    "y = read_numpy(datalake_root(P) / \"raw\" / \"labels.numpy\")"
   ]
  },
  {
   "cell_type": "code",
   "execution_count": 7,
   "id": "a6f7d4e9",
   "metadata": {
    "execution": {
     "iopub.execute_input": "2022-07-18T13:12:10.826980Z",
     "iopub.status.busy": "2022-07-18T13:12:10.826235Z",
     "iopub.status.idle": "2022-07-18T13:12:11.471077Z",
     "shell.execute_reply": "2022-07-18T13:12:11.470279Z"
    },
    "papermill": {
     "duration": 0.654224,
     "end_time": "2022-07-18T13:12:11.473341",
     "exception": false,
     "start_time": "2022-07-18T13:12:10.819117",
     "status": "completed"
    },
    "tags": []
   },
   "outputs": [],
   "source": [
    "from sklearn.model_selection import train_test_split\n",
    "\n",
    "X_train, X_test, y_train, y_test = train_test_split(\n",
    "    X,\n",
    "    y,\n",
    "    train_size=P[\"task.train_test_ratio\"],\n",
    "    test_size=None,\n",
    "    stratify=y,\n",
    "    shuffle=True,\n",
    "    random_state=1,\n",
    ")\n",
    "\n",
    "# assert nr of pixels per image is the same for all image vectors\n",
    "assert X.shape[1] == X_train.shape[1] == X_test.shape[1]\n",
    "\n",
    "# assert that the (X, y)-pairs have compatible sizes (for both train and test)\n",
    "assert X_train.shape[0] == len(y_train)\n",
    "assert X_test.shape[0] == len(y_test)\n",
    "\n",
    "# assert that all data is used\n",
    "assert len(y) == len(y_train) + len(y_test)"
   ]
  },
  {
   "cell_type": "code",
   "execution_count": 8,
   "id": "c40b6f94",
   "metadata": {
    "execution": {
     "iopub.execute_input": "2022-07-18T13:12:11.484448Z",
     "iopub.status.busy": "2022-07-18T13:12:11.483995Z",
     "iopub.status.idle": "2022-07-18T13:12:11.495154Z",
     "shell.execute_reply": "2022-07-18T13:12:11.494149Z"
    },
    "papermill": {
     "duration": 0.020241,
     "end_time": "2022-07-18T13:12:11.498471",
     "exception": false,
     "start_time": "2022-07-18T13:12:11.478230",
     "status": "completed"
    },
    "tags": []
   },
   "outputs": [
    {
     "name": "stdout",
     "output_type": "stream",
     "text": [
      " - Logging nr_digits_train (int) : 1257\n",
      " - Logging nr_digits_test (int) : 540\n"
     ]
    }
   ],
   "source": [
    "logger.log_int(\"nr_digits_train\", len(y_train))\n",
    "logger.log_int(\"nr_digits_test\", len(y_test))"
   ]
  },
  {
   "cell_type": "markdown",
   "id": "7eaea738",
   "metadata": {
    "papermill": {
     "duration": 0.004458,
     "end_time": "2022-07-18T13:12:11.506922",
     "exception": false,
     "start_time": "2022-07-18T13:12:11.502464",
     "status": "completed"
    },
    "tags": []
   },
   "source": [
    "### Persist training and test data sets to separate files"
   ]
  },
  {
   "cell_type": "code",
   "execution_count": 9,
   "id": "499c2c03",
   "metadata": {
    "execution": {
     "iopub.execute_input": "2022-07-18T13:12:11.529028Z",
     "iopub.status.busy": "2022-07-18T13:12:11.528689Z",
     "iopub.status.idle": "2022-07-18T13:12:11.536551Z",
     "shell.execute_reply": "2022-07-18T13:12:11.535669Z"
    },
    "papermill": {
     "duration": 0.019027,
     "end_time": "2022-07-18T13:12:11.540417",
     "exception": false,
     "start_time": "2022-07-18T13:12:11.521390",
     "status": "completed"
    },
    "tags": []
   },
   "outputs": [],
   "source": [
    "write_numpy(datalake_root(P) / \"train-data\" / \"digits.numpy\", X_train)\n",
    "write_numpy(datalake_root(P) / \"train-data\" / \"labels.numpy\", y_train)\n",
    "\n",
    "#\n",
    "write_numpy(datalake_root(P) / \"test-data\" / \"digits.numpy\", X_test)\n",
    "write_numpy(datalake_root(P) / \"test-data\" / \"labels.numpy\", y_test)"
   ]
  },
  {
   "cell_type": "code",
   "execution_count": null,
   "id": "ced2d640",
   "metadata": {
    "papermill": {
     "duration": 0.004277,
     "end_time": "2022-07-18T13:12:11.549209",
     "exception": false,
     "start_time": "2022-07-18T13:12:11.544932",
     "status": "completed"
    },
    "tags": []
   },
   "outputs": [],
   "source": []
  }
 ],
 "metadata": {
  "jupytext": {
   "cell_metadata_filter": "tags,-all",
   "main_language": "python",
   "notebook_metadata_filter": "-all"
  },
  "language_info": {
   "codemirror_mode": {
    "name": "ipython",
    "version": 3
   },
   "file_extension": ".py",
   "mimetype": "text/x-python",
   "name": "python",
   "nbconvert_exporter": "python",
   "pygments_lexer": "ipython3",
   "version": "3.8.10"
  },
  "papermill": {
   "default_parameters": {},
   "duration": 4.433692,
   "end_time": "2022-07-18T13:12:12.688788",
   "environment_variables": {},
   "exception": null,
   "input_path": "/home/host_user/workspace/mnist-demo-pipeline/mnist-demo-pipeline/notebooks/temp-notebook-13geg81o.ipynb",
   "output_path": "notebooks/split-train-test.ipynb",
   "parameters": {
    "P": {
     "_opentelemetry_traceparent": "00-6b5f3fe45217d3914905c5bc9205e2c4-219761c58463204e-01",
     "pipeline.data_lake_root": "/pipeline-outputs/data-lake",
     "pipeline.github.actor": "matiasdahl",
     "pipeline.github.base_ref": "development",
     "pipeline.github.event_name": "pull_request",
     "pipeline.github.head_ref": "graph-parsing",
     "pipeline.github.job": "run-tests-pipeline-and-persist-pipeline-outputs",
     "pipeline.github.ref": "refs/pull/57/merge",
     "pipeline.github.ref_name": "57/merge",
     "pipeline.github.ref_type": "branch",
     "pipeline.github.repository": "pynb-dag-runner/mnist-digits-demo-pipeline",
     "pipeline.github.run_id": "2690707774",
     "pipeline.github.runner_name": "GitHub Actions 2",
     "pipeline.github.sha": "eed65b978db0ca9043f081b1308c6cd3709367a0",
     "pipeline.github.workflow": "Run automated tests, pipeline and deploy results to static reporting site",
     "pipeline.pipeline_run_id": "07383fd9-46e2-40cf-a140-e2f92535db5e",
     "pipeline.run_environment": "ci",
     "run.retry_nr": "0",
     "task.max_nr_retries": "1",
     "task.notebook": "notebooks/split-train-test.py",
     "task.num_cpus": 1,
     "task.timeout_s": "None",
     "task.train_test_ratio": 0.7
    }
   },
   "start_time": "2022-07-18T13:12:08.255096",
   "version": "2.3.3"
  }
 },
 "nbformat": 4,
 "nbformat_minor": 5
}