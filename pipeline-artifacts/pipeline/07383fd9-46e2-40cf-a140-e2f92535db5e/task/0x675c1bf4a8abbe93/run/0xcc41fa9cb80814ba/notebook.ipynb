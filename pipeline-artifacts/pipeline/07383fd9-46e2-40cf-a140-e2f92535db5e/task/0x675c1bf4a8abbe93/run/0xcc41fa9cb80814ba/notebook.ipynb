{
 "cells": [
  {
   "cell_type": "markdown",
   "id": "81eda325",
   "metadata": {
    "papermill": {
     "duration": 0.003098,
     "end_time": "2022-07-18T13:12:03.635438",
     "exception": false,
     "start_time": "2022-07-18T13:12:03.632340",
     "status": "completed"
    },
    "tags": []
   },
   "source": [
    "# Ingest toy version of MNIST digit data from sklearn"
   ]
  },
  {
   "cell_type": "markdown",
   "id": "b7ce1bad",
   "metadata": {
    "papermill": {
     "duration": 0.002662,
     "end_time": "2022-07-18T13:12:03.640538",
     "exception": false,
     "start_time": "2022-07-18T13:12:03.637876",
     "status": "completed"
    },
    "tags": []
   },
   "source": [
    "### Determine run parameters"
   ]
  },
  {
   "cell_type": "code",
   "execution_count": 1,
   "id": "87a806f8",
   "metadata": {
    "execution": {
     "iopub.execute_input": "2022-07-18T13:12:03.646324Z",
     "iopub.status.busy": "2022-07-18T13:12:03.645802Z",
     "iopub.status.idle": "2022-07-18T13:12:03.653235Z",
     "shell.execute_reply": "2022-07-18T13:12:03.652546Z"
    },
    "lines_to_next_cell": 0,
    "papermill": {
     "duration": 0.012467,
     "end_time": "2022-07-18T13:12:03.654863",
     "exception": false,
     "start_time": "2022-07-18T13:12:03.642396",
     "status": "completed"
    },
    "tags": []
   },
   "outputs": [],
   "source": [
    "# ----------------- Parameters for interactive development --------------\n",
    "P = {\n",
    "    \"pipeline.run_environment\": \"dev\",\n",
    "    \"pipeline.data_lake_root\": \"/pipeline-outputs/data-lake\",\n",
    "    \"run.retry_nr\": \"1\",\n",
    "}"
   ]
  },
  {
   "cell_type": "code",
   "execution_count": 2,
   "id": "56942459",
   "metadata": {
    "execution": {
     "iopub.execute_input": "2022-07-18T13:12:03.661811Z",
     "iopub.status.busy": "2022-07-18T13:12:03.660882Z",
     "iopub.status.idle": "2022-07-18T13:12:03.665118Z",
     "shell.execute_reply": "2022-07-18T13:12:03.664266Z"
    },
    "lines_to_next_cell": 0,
    "papermill": {
     "duration": 0.009767,
     "end_time": "2022-07-18T13:12:03.666696",
     "exception": false,
     "start_time": "2022-07-18T13:12:03.656929",
     "status": "completed"
    },
    "tags": [
     "parameters"
    ]
   },
   "outputs": [],
   "source": [
    "# - During automated runs parameters will be injected in the below cell -"
   ]
  },
  {
   "cell_type": "code",
   "execution_count": 3,
   "id": "e5f5e2d6",
   "metadata": {
    "execution": {
     "iopub.execute_input": "2022-07-18T13:12:03.673219Z",
     "iopub.status.busy": "2022-07-18T13:12:03.672716Z",
     "iopub.status.idle": "2022-07-18T13:12:03.680344Z",
     "shell.execute_reply": "2022-07-18T13:12:03.678575Z"
    },
    "papermill": {
     "duration": 0.012595,
     "end_time": "2022-07-18T13:12:03.681803",
     "exception": false,
     "start_time": "2022-07-18T13:12:03.669208",
     "status": "completed"
    },
    "tags": [
     "injected-parameters"
    ]
   },
   "outputs": [],
   "source": [
    "# Parameters\n",
    "P = {\n",
    "    \"pipeline.data_lake_root\": \"/pipeline-outputs/data-lake\",\n",
    "    \"pipeline.run_environment\": \"ci\",\n",
    "    \"pipeline.pipeline_run_id\": \"07383fd9-46e2-40cf-a140-e2f92535db5e\",\n",
    "    \"pipeline.github.repository\": \"pynb-dag-runner/mnist-digits-demo-pipeline\",\n",
    "    \"pipeline.github.workflow\": \"Run automated tests, pipeline and deploy results to static reporting site\",\n",
    "    \"pipeline.github.runner_name\": \"GitHub Actions 2\",\n",
    "    \"pipeline.github.run_id\": \"2690707774\",\n",
    "    \"pipeline.github.actor\": \"matiasdahl\",\n",
    "    \"pipeline.github.job\": \"run-tests-pipeline-and-persist-pipeline-outputs\",\n",
    "    \"pipeline.github.base_ref\": \"development\",\n",
    "    \"pipeline.github.head_ref\": \"graph-parsing\",\n",
    "    \"pipeline.github.sha\": \"eed65b978db0ca9043f081b1308c6cd3709367a0\",\n",
    "    \"pipeline.github.ref\": \"refs/pull/57/merge\",\n",
    "    \"pipeline.github.ref_type\": \"branch\",\n",
    "    \"pipeline.github.ref_name\": \"57/merge\",\n",
    "    \"pipeline.github.event_name\": \"pull_request\",\n",
    "    \"task.notebook\": \"notebooks/ingest.py\",\n",
    "    \"task.max_nr_retries\": \"15\",\n",
    "    \"run.retry_nr\": \"10\",\n",
    "    \"task.timeout_s\": \"10\",\n",
    "    \"task.num_cpus\": 1,\n",
    "    \"_opentelemetry_traceparent\": \"00-6b5f3fe45217d3914905c5bc9205e2c4-5c6bc27ac56dacd1-01\",\n",
    "}\n"
   ]
  },
  {
   "cell_type": "code",
   "execution_count": 4,
   "id": "02cf313d",
   "metadata": {
    "execution": {
     "iopub.execute_input": "2022-07-18T13:12:03.687601Z",
     "iopub.status.busy": "2022-07-18T13:12:03.687080Z",
     "iopub.status.idle": "2022-07-18T13:12:03.690732Z",
     "shell.execute_reply": "2022-07-18T13:12:03.690087Z"
    },
    "lines_to_next_cell": 0,
    "papermill": {
     "duration": 0.008419,
     "end_time": "2022-07-18T13:12:03.692216",
     "exception": false,
     "start_time": "2022-07-18T13:12:03.683797",
     "status": "completed"
    },
    "tags": []
   },
   "outputs": [],
   "source": [
    "# -----------------------------------------------------------------------"
   ]
  },
  {
   "cell_type": "markdown",
   "id": "e79f1036",
   "metadata": {
    "lines_to_next_cell": 2,
    "papermill": {
     "duration": 0.002186,
     "end_time": "2022-07-18T13:12:03.696516",
     "exception": false,
     "start_time": "2022-07-18T13:12:03.694330",
     "status": "completed"
    },
    "tags": []
   },
   "source": [
    "---"
   ]
  },
  {
   "cell_type": "markdown",
   "id": "dc28ae9d",
   "metadata": {
    "papermill": {
     "duration": 0.002675,
     "end_time": "2022-07-18T13:12:03.701104",
     "exception": false,
     "start_time": "2022-07-18T13:12:03.698429",
     "status": "completed"
    },
    "tags": []
   },
   "source": [
    "### Simulate different types of failures (for testing timeout and retry logic)"
   ]
  },
  {
   "cell_type": "code",
   "execution_count": 5,
   "id": "13854a5c",
   "metadata": {
    "execution": {
     "iopub.execute_input": "2022-07-18T13:12:03.706719Z",
     "iopub.status.busy": "2022-07-18T13:12:03.706292Z",
     "iopub.status.idle": "2022-07-18T13:12:04.152487Z",
     "shell.execute_reply": "2022-07-18T13:12:04.151259Z"
    },
    "papermill": {
     "duration": 0.451521,
     "end_time": "2022-07-18T13:12:04.154619",
     "exception": false,
     "start_time": "2022-07-18T13:12:03.703098",
     "status": "completed"
    },
    "tags": []
   },
   "outputs": [
    {
     "name": "stderr",
     "output_type": "stream",
     "text": [
      "2022-07-18 13:12:03,999\tINFO worker.py:842 -- Connecting to existing Ray cluster at address: 172.17.0.2:6379\n"
     ]
    }
   ],
   "source": [
    "from pynb_dag_runner.tasks.task_opentelemetry_logging import PydarLogger\n",
    "\n",
    "logger = PydarLogger(P)"
   ]
  },
  {
   "cell_type": "code",
   "execution_count": 6,
   "id": "9302de05",
   "metadata": {
    "execution": {
     "iopub.execute_input": "2022-07-18T13:12:04.162039Z",
     "iopub.status.busy": "2022-07-18T13:12:04.161598Z",
     "iopub.status.idle": "2022-07-18T13:12:04.167155Z",
     "shell.execute_reply": "2022-07-18T13:12:04.166174Z"
    },
    "papermill": {
     "duration": 0.01136,
     "end_time": "2022-07-18T13:12:04.168718",
     "exception": false,
     "start_time": "2022-07-18T13:12:04.157358",
     "status": "completed"
    },
    "tags": []
   },
   "outputs": [],
   "source": [
    "import time, random\n",
    "\n",
    "\n",
    "def maybe_crash(retry_nr: int, run_environment: str):\n",
    "    if retry_nr == 2 and run_environment == \"ci\":\n",
    "        time.sleep(1e6)\n",
    "\n",
    "    max_retry_nr: int = 3 if run_environment == \"dev\" else 10\n",
    "\n",
    "    if retry_nr < max_retry_nr:\n",
    "        if random.random() < 0.1:\n",
    "            time.sleep(1e6)\n",
    "        else:\n",
    "            raise Exception(\"Simulated exception failure from ingestion step notebook!\")\n",
    "\n",
    "\n",
    "maybe_crash(\n",
    "    retry_nr=int(P[\"run.retry_nr\"]), run_environment=P[\"pipeline.run_environment\"]\n",
    ")"
   ]
  },
  {
   "cell_type": "markdown",
   "id": "57f9c20f",
   "metadata": {
    "lines_to_next_cell": 2,
    "papermill": {
     "duration": 0.002565,
     "end_time": "2022-07-18T13:12:04.173924",
     "exception": false,
     "start_time": "2022-07-18T13:12:04.171359",
     "status": "completed"
    },
    "tags": []
   },
   "source": [
    "### Notebook code"
   ]
  },
  {
   "cell_type": "code",
   "execution_count": 7,
   "id": "439ff50f",
   "metadata": {
    "execution": {
     "iopub.execute_input": "2022-07-18T13:12:04.180876Z",
     "iopub.status.busy": "2022-07-18T13:12:04.180436Z",
     "iopub.status.idle": "2022-07-18T13:12:05.360248Z",
     "shell.execute_reply": "2022-07-18T13:12:05.359469Z"
    },
    "papermill": {
     "duration": 1.185449,
     "end_time": "2022-07-18T13:12:05.361944",
     "exception": false,
     "start_time": "2022-07-18T13:12:04.176495",
     "status": "completed"
    },
    "tags": []
   },
   "outputs": [],
   "source": [
    "from sklearn import datasets\n",
    "\n",
    "#\n",
    "from common.io import datalake_root, write_numpy"
   ]
  },
  {
   "cell_type": "code",
   "execution_count": 8,
   "id": "35e91610",
   "metadata": {
    "execution": {
     "iopub.execute_input": "2022-07-18T13:12:05.370714Z",
     "iopub.status.busy": "2022-07-18T13:12:05.370189Z",
     "iopub.status.idle": "2022-07-18T13:12:05.382233Z",
     "shell.execute_reply": "2022-07-18T13:12:05.381519Z"
    },
    "lines_to_next_cell": 2,
    "papermill": {
     "duration": 0.019819,
     "end_time": "2022-07-18T13:12:05.385056",
     "exception": false,
     "start_time": "2022-07-18T13:12:05.365237",
     "status": "completed"
    },
    "tags": []
   },
   "outputs": [],
   "source": [
    "digits = datasets.load_digits()\n",
    "\n",
    "X = digits[\"data\"]\n",
    "y = digits[\"target\"]"
   ]
  },
  {
   "cell_type": "code",
   "execution_count": 9,
   "id": "d226831e",
   "metadata": {
    "execution": {
     "iopub.execute_input": "2022-07-18T13:12:05.391311Z",
     "iopub.status.busy": "2022-07-18T13:12:05.390969Z",
     "iopub.status.idle": "2022-07-18T13:12:05.402445Z",
     "shell.execute_reply": "2022-07-18T13:12:05.401758Z"
    },
    "papermill": {
     "duration": 0.017438,
     "end_time": "2022-07-18T13:12:05.404824",
     "exception": false,
     "start_time": "2022-07-18T13:12:05.387386",
     "status": "completed"
    },
    "tags": []
   },
   "outputs": [
    {
     "name": "stdout",
     "output_type": "stream",
     "text": [
      " - Logging data_shape (json) : [1797, 64]\n",
      " - Logging target_shape (json) : [1797]\n"
     ]
    },
    {
     "data": {
      "text/plain": [
       "((1797, 64), (1797,))"
      ]
     },
     "execution_count": 9,
     "metadata": {},
     "output_type": "execute_result"
    }
   ],
   "source": [
    "logger.log_value(\"data_shape\", list(X.shape))\n",
    "logger.log_value(\"target_shape\", list(y.shape))\n",
    "\n",
    "X.shape, y.shape"
   ]
  },
  {
   "cell_type": "code",
   "execution_count": 10,
   "id": "4e856580",
   "metadata": {
    "execution": {
     "iopub.execute_input": "2022-07-18T13:12:05.411731Z",
     "iopub.status.busy": "2022-07-18T13:12:05.411157Z",
     "iopub.status.idle": "2022-07-18T13:12:05.421382Z",
     "shell.execute_reply": "2022-07-18T13:12:05.420686Z"
    },
    "papermill": {
     "duration": 0.015859,
     "end_time": "2022-07-18T13:12:05.422928",
     "exception": false,
     "start_time": "2022-07-18T13:12:05.407069",
     "status": "completed"
    },
    "tags": []
   },
   "outputs": [],
   "source": [
    "write_numpy(datalake_root(P) / \"raw\" / \"digits.numpy\", X)\n",
    "write_numpy(datalake_root(P) / \"raw\" / \"labels.numpy\", y)"
   ]
  },
  {
   "cell_type": "code",
   "execution_count": null,
   "id": "a4a569e6",
   "metadata": {
    "papermill": {
     "duration": 0.002531,
     "end_time": "2022-07-18T13:12:05.429145",
     "exception": false,
     "start_time": "2022-07-18T13:12:05.426614",
     "status": "completed"
    },
    "tags": []
   },
   "outputs": [],
   "source": []
  }
 ],
 "metadata": {
  "jupytext": {
   "cell_metadata_filter": "tags,-all",
   "main_language": "python",
   "notebook_metadata_filter": "-all"
  },
  "language_info": {
   "codemirror_mode": {
    "name": "ipython",
    "version": 3
   },
   "file_extension": ".py",
   "mimetype": "text/x-python",
   "name": "python",
   "nbconvert_exporter": "python",
   "pygments_lexer": "ipython3",
   "version": "3.8.10"
  },
  "papermill": {
   "default_parameters": {},
   "duration": 4.203087,
   "end_time": "2022-07-18T13:12:06.552886",
   "environment_variables": {},
   "exception": null,
   "input_path": "/home/host_user/workspace/mnist-demo-pipeline/mnist-demo-pipeline/notebooks/temp-notebook-5_8hx_4v.ipynb",
   "output_path": "notebooks/ingest.ipynb",
   "parameters": {
    "P": {
     "_opentelemetry_traceparent": "00-6b5f3fe45217d3914905c5bc9205e2c4-5c6bc27ac56dacd1-01",
     "pipeline.data_lake_root": "/pipeline-outputs/data-lake",
     "pipeline.github.actor": "matiasdahl",
     "pipeline.github.base_ref": "development",
     "pipeline.github.event_name": "pull_request",
     "pipeline.github.head_ref": "graph-parsing",
     "pipeline.github.job": "run-tests-pipeline-and-persist-pipeline-outputs",
     "pipeline.github.ref": "refs/pull/57/merge",
     "pipeline.github.ref_name": "57/merge",
     "pipeline.github.ref_type": "branch",
     "pipeline.github.repository": "pynb-dag-runner/mnist-digits-demo-pipeline",
     "pipeline.github.run_id": "2690707774",
     "pipeline.github.runner_name": "GitHub Actions 2",
     "pipeline.github.sha": "eed65b978db0ca9043f081b1308c6cd3709367a0",
     "pipeline.github.workflow": "Run automated tests, pipeline and deploy results to static reporting site",
     "pipeline.pipeline_run_id": "07383fd9-46e2-40cf-a140-e2f92535db5e",
     "pipeline.run_environment": "ci",
     "run.retry_nr": "10",
     "task.max_nr_retries": "15",
     "task.notebook": "notebooks/ingest.py",
     "task.num_cpus": 1,
     "task.timeout_s": "10"
    }
   },
   "start_time": "2022-07-18T13:12:02.349799",
   "version": "2.3.3"
  }
 },
 "nbformat": 4,
 "nbformat_minor": 5
}