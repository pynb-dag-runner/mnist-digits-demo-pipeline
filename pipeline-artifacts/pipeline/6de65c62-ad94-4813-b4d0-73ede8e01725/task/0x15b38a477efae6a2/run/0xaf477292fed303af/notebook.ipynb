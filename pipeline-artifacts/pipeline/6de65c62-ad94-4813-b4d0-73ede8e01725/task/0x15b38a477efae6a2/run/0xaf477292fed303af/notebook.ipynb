{
 "cells": [
  {
   "cell_type": "markdown",
   "id": "32ad0249",
   "metadata": {
    "papermill": {
     "duration": 0.005761,
     "end_time": "2022-07-22T06:53:09.707388",
     "exception": false,
     "start_time": "2022-07-22T06:53:09.701627",
     "status": "completed"
    },
    "tags": []
   },
   "source": [
    "# Benchmark model\n",
    "\n",
    "The purpose of this notebook is to benchmark persisted onnx-model (trained in the\n",
    "previous step) against evaluation set."
   ]
  },
  {
   "cell_type": "markdown",
   "id": "a7959885",
   "metadata": {
    "papermill": {
     "duration": 0.003979,
     "end_time": "2022-07-22T06:53:09.719837",
     "exception": false,
     "start_time": "2022-07-22T06:53:09.715858",
     "status": "completed"
    },
    "tags": []
   },
   "source": [
    "### Determine run parameters"
   ]
  },
  {
   "cell_type": "code",
   "execution_count": 1,
   "id": "6251902e",
   "metadata": {
    "execution": {
     "iopub.execute_input": "2022-07-22T06:53:09.729238Z",
     "iopub.status.busy": "2022-07-22T06:53:09.728889Z",
     "iopub.status.idle": "2022-07-22T06:53:09.737102Z",
     "shell.execute_reply": "2022-07-22T06:53:09.736505Z"
    },
    "lines_to_next_cell": 0,
    "papermill": {
     "duration": 0.016211,
     "end_time": "2022-07-22T06:53:09.739930",
     "exception": false,
     "start_time": "2022-07-22T06:53:09.723719",
     "status": "completed"
    },
    "tags": []
   },
   "outputs": [],
   "source": [
    "# ----------------- Parameters for interactive development --------------\n",
    "P = {\n",
    "    \"pipeline.data_lake_root\": \"/pipeline-outputs/data-lake\",\n",
    "    \"task.nr_train_images\": 600,\n",
    "}"
   ]
  },
  {
   "cell_type": "code",
   "execution_count": 2,
   "id": "f4fee634",
   "metadata": {
    "execution": {
     "iopub.execute_input": "2022-07-22T06:53:09.751768Z",
     "iopub.status.busy": "2022-07-22T06:53:09.751544Z",
     "iopub.status.idle": "2022-07-22T06:53:09.754757Z",
     "shell.execute_reply": "2022-07-22T06:53:09.754016Z"
    },
    "lines_to_next_cell": 0,
    "papermill": {
     "duration": 0.011457,
     "end_time": "2022-07-22T06:53:09.757453",
     "exception": false,
     "start_time": "2022-07-22T06:53:09.745996",
     "status": "completed"
    },
    "tags": [
     "parameters"
    ]
   },
   "outputs": [],
   "source": [
    "# - During automated runs parameters will be injected in the below cell -"
   ]
  },
  {
   "cell_type": "code",
   "execution_count": 3,
   "id": "3f512587",
   "metadata": {
    "execution": {
     "iopub.execute_input": "2022-07-22T06:53:09.768429Z",
     "iopub.status.busy": "2022-07-22T06:53:09.768218Z",
     "iopub.status.idle": "2022-07-22T06:53:09.772430Z",
     "shell.execute_reply": "2022-07-22T06:53:09.771907Z"
    },
    "papermill": {
     "duration": 0.012045,
     "end_time": "2022-07-22T06:53:09.775496",
     "exception": false,
     "start_time": "2022-07-22T06:53:09.763451",
     "status": "completed"
    },
    "tags": [
     "injected-parameters"
    ]
   },
   "outputs": [],
   "source": [
    "# Parameters\n",
    "P = {\n",
    "    \"pipeline.data_lake_root\": \"/pipeline-outputs/data-lake\",\n",
    "    \"pipeline.run_environment\": \"ci\",\n",
    "    \"pipeline.pipeline_run_id\": \"6de65c62-ad94-4813-b4d0-73ede8e01725\",\n",
    "    \"pipeline.github.repository\": \"pynb-dag-runner/mnist-digits-demo-pipeline\",\n",
    "    \"pipeline.github.workflow\": \"Run automated tests, pipeline and deploy results to static reporting site\",\n",
    "    \"pipeline.github.runner_name\": \"Hosted Agent\",\n",
    "    \"pipeline.github.run_id\": \"2716826811\",\n",
    "    \"pipeline.github.actor\": \"matiasdahl\",\n",
    "    \"pipeline.github.job\": \"run-tests-pipeline-and-persist-pipeline-outputs\",\n",
    "    \"pipeline.github.base_ref\": \"\",\n",
    "    \"pipeline.github.head_ref\": \"\",\n",
    "    \"pipeline.github.sha\": \"5a6f90a9473b3095841d5b5dc7b58f5f049a0f71\",\n",
    "    \"pipeline.github.ref\": \"refs/heads/development\",\n",
    "    \"pipeline.github.ref_type\": \"branch\",\n",
    "    \"pipeline.github.ref_name\": \"development\",\n",
    "    \"pipeline.github.event_name\": \"schedule\",\n",
    "    \"task.nr_train_images\": 1000,\n",
    "    \"task.notebook\": \"notebooks/benchmark-model.py\",\n",
    "    \"task.max_nr_retries\": \"1\",\n",
    "    \"run.retry_nr\": \"0\",\n",
    "    \"task.timeout_s\": \"None\",\n",
    "    \"task.num_cpus\": 1,\n",
    "    \"_opentelemetry_traceparent\": \"00-c6d8e1047d2497021b7d7ebb10256a7c-8a018d5cf40f27d8-01\",\n",
    "}\n"
   ]
  },
  {
   "cell_type": "code",
   "execution_count": 4,
   "id": "51a01b82",
   "metadata": {
    "execution": {
     "iopub.execute_input": "2022-07-22T06:53:09.785506Z",
     "iopub.status.busy": "2022-07-22T06:53:09.785279Z",
     "iopub.status.idle": "2022-07-22T06:53:09.788906Z",
     "shell.execute_reply": "2022-07-22T06:53:09.787589Z"
    },
    "lines_to_next_cell": 0,
    "papermill": {
     "duration": 0.011751,
     "end_time": "2022-07-22T06:53:09.792234",
     "exception": false,
     "start_time": "2022-07-22T06:53:09.780483",
     "status": "completed"
    },
    "tags": []
   },
   "outputs": [],
   "source": [
    "# -----------------------------------------------------------------------"
   ]
  },
  {
   "cell_type": "markdown",
   "id": "a935f577",
   "metadata": {
    "papermill": {
     "duration": 0.006017,
     "end_time": "2022-07-22T06:53:09.802366",
     "exception": false,
     "start_time": "2022-07-22T06:53:09.796349",
     "status": "completed"
    },
    "tags": []
   },
   "source": [
    "---"
   ]
  },
  {
   "cell_type": "markdown",
   "id": "ce5e3d5c",
   "metadata": {
    "lines_to_next_cell": 2,
    "papermill": {
     "duration": 0.006033,
     "end_time": "2022-07-22T06:53:09.812930",
     "exception": false,
     "start_time": "2022-07-22T06:53:09.806897",
     "status": "completed"
    },
    "tags": []
   },
   "source": [
    "### Notebook code"
   ]
  },
  {
   "cell_type": "code",
   "execution_count": 5,
   "id": "e40ab657",
   "metadata": {
    "execution": {
     "iopub.execute_input": "2022-07-22T06:53:09.822217Z",
     "iopub.status.busy": "2022-07-22T06:53:09.821996Z",
     "iopub.status.idle": "2022-07-22T06:53:10.959890Z",
     "shell.execute_reply": "2022-07-22T06:53:10.959161Z"
    },
    "papermill": {
     "duration": 1.144772,
     "end_time": "2022-07-22T06:53:10.961887",
     "exception": false,
     "start_time": "2022-07-22T06:53:09.817115",
     "status": "completed"
    },
    "tags": []
   },
   "outputs": [
    {
     "name": "stderr",
     "output_type": "stream",
     "text": [
      "2022-07-22 06:53:10,771\tINFO worker.py:842 -- Connecting to existing Ray cluster at address: 172.17.0.2:6379\n"
     ]
    }
   ],
   "source": [
    "import itertools as it\n",
    "\n",
    "#\n",
    "import numpy as np\n",
    "import matplotlib.pyplot as plt\n",
    "\n",
    "#\n",
    "from pynb_dag_runner.tasks.task_opentelemetry_logging import PydarLogger\n",
    "\n",
    "#\n",
    "from common.io import datalake_root\n",
    "\n",
    "logger = PydarLogger(P)"
   ]
  },
  {
   "cell_type": "markdown",
   "id": "ae6147f3",
   "metadata": {
    "papermill": {
     "duration": 0.009139,
     "end_time": "2022-07-22T06:53:10.975711",
     "exception": false,
     "start_time": "2022-07-22T06:53:10.966572",
     "status": "completed"
    },
    "tags": []
   },
   "source": [
    "## Load persisted onnx-model and evaluation data"
   ]
  },
  {
   "cell_type": "code",
   "execution_count": 6,
   "id": "ca924e79",
   "metadata": {
    "execution": {
     "iopub.execute_input": "2022-07-22T06:53:10.985218Z",
     "iopub.status.busy": "2022-07-22T06:53:10.984850Z",
     "iopub.status.idle": "2022-07-22T06:53:10.988335Z",
     "shell.execute_reply": "2022-07-22T06:53:10.987766Z"
    },
    "papermill": {
     "duration": 0.011182,
     "end_time": "2022-07-22T06:53:10.990924",
     "exception": false,
     "start_time": "2022-07-22T06:53:10.979742",
     "status": "completed"
    },
    "tags": []
   },
   "outputs": [],
   "source": [
    "from common.io import read_onnx, get_onnx_inputs, get_onnx_outputs, read_numpy"
   ]
  },
  {
   "cell_type": "code",
   "execution_count": 7,
   "id": "b6b9d47d",
   "metadata": {
    "execution": {
     "iopub.execute_input": "2022-07-22T06:53:11.000417Z",
     "iopub.status.busy": "2022-07-22T06:53:11.000043Z",
     "iopub.status.idle": "2022-07-22T06:53:11.010347Z",
     "shell.execute_reply": "2022-07-22T06:53:11.009067Z"
    },
    "lines_to_next_cell": 0,
    "papermill": {
     "duration": 0.017121,
     "end_time": "2022-07-22T06:53:11.012133",
     "exception": false,
     "start_time": "2022-07-22T06:53:10.995012",
     "status": "completed"
    },
    "tags": []
   },
   "outputs": [],
   "source": [
    "onnx_inference_session = read_onnx(\n",
    "    datalake_root(P)\n",
    "    / \"models\"\n",
    "    / f\"nr_train_images={P['task.nr_train_images']}\"\n",
    "    / \"model.onnx\"\n",
    ")"
   ]
  },
  {
   "cell_type": "markdown",
   "id": "17704ac1",
   "metadata": {
    "papermill": {
     "duration": 0.004142,
     "end_time": "2022-07-22T06:53:11.020130",
     "exception": false,
     "start_time": "2022-07-22T06:53:11.015988",
     "status": "completed"
    },
    "tags": []
   },
   "source": [
    "### Record structure of inputs and outputs for ONNX model\n",
    "\n",
    "(this should likely be done in training notebook)"
   ]
  },
  {
   "cell_type": "code",
   "execution_count": 8,
   "id": "d502f6a0",
   "metadata": {
    "execution": {
     "iopub.execute_input": "2022-07-22T06:53:11.029333Z",
     "iopub.status.busy": "2022-07-22T06:53:11.028978Z",
     "iopub.status.idle": "2022-07-22T06:53:11.035298Z",
     "shell.execute_reply": "2022-07-22T06:53:11.034629Z"
    },
    "papermill": {
     "duration": 0.012651,
     "end_time": "2022-07-22T06:53:11.036861",
     "exception": false,
     "start_time": "2022-07-22T06:53:11.024210",
     "status": "completed"
    },
    "tags": []
   },
   "outputs": [
    {
     "name": "stdout",
     "output_type": "stream",
     "text": [
      "{\n",
      "  \"inputs\": [\n",
      "    {\n",
      "      \"name\": \"float_input_8x8_image\",\n",
      "      \"shape\": [\n",
      "        null,\n",
      "        64\n",
      "      ],\n",
      "      \"type\": \"tensor(float)\"\n",
      "    }\n",
      "  ],\n",
      "  \"outputs\": [\n",
      "    {\n",
      "      \"name\": \"output_label\",\n",
      "      \"shape\": [\n",
      "        null\n",
      "      ],\n",
      "      \"type\": \"tensor(int64)\"\n",
      "    },\n",
      "    {\n",
      "      \"name\": \"output_probability\",\n",
      "      \"shape\": [],\n",
      "      \"type\": \"seq(map(int64,tensor(float)))\"\n",
      "    }\n",
      "  ]\n",
      "}\n"
     ]
    }
   ],
   "source": [
    "import json\n",
    "\n",
    "onnx_io = json.dumps(\n",
    "    {\n",
    "        \"inputs\": get_onnx_inputs(onnx_inference_session),\n",
    "        \"outputs\": get_onnx_outputs(onnx_inference_session),\n",
    "    },\n",
    "    indent=2,\n",
    ")\n",
    "\n",
    "\n",
    "logger.log_artefact(\"onnx_io_structure.json\", onnx_io)\n",
    "print(onnx_io)"
   ]
  },
  {
   "cell_type": "markdown",
   "id": "684ead95",
   "metadata": {
    "papermill": {
     "duration": 0.004036,
     "end_time": "2022-07-22T06:53:11.044880",
     "exception": false,
     "start_time": "2022-07-22T06:53:11.040844",
     "status": "completed"
    },
    "tags": []
   },
   "source": [
    "### Evaluate model performance on evaluation data set"
   ]
  },
  {
   "cell_type": "code",
   "execution_count": 9,
   "id": "4fed751b",
   "metadata": {
    "execution": {
     "iopub.execute_input": "2022-07-22T06:53:11.054383Z",
     "iopub.status.busy": "2022-07-22T06:53:11.053943Z",
     "iopub.status.idle": "2022-07-22T06:53:11.058974Z",
     "shell.execute_reply": "2022-07-22T06:53:11.058423Z"
    },
    "papermill": {
     "duration": 0.011771,
     "end_time": "2022-07-22T06:53:11.060572",
     "exception": false,
     "start_time": "2022-07-22T06:53:11.048801",
     "status": "completed"
    },
    "tags": []
   },
   "outputs": [],
   "source": [
    "# load evaluation data\n",
    "X_test = read_numpy(datalake_root(P) / \"test-data\" / \"digits.numpy\")\n",
    "y_test = read_numpy(datalake_root(P) / \"test-data\" / \"labels.numpy\")"
   ]
  },
  {
   "cell_type": "code",
   "execution_count": 10,
   "id": "eb8caa3e",
   "metadata": {
    "execution": {
     "iopub.execute_input": "2022-07-22T06:53:11.089641Z",
     "iopub.status.busy": "2022-07-22T06:53:11.089409Z",
     "iopub.status.idle": "2022-07-22T06:53:11.110571Z",
     "shell.execute_reply": "2022-07-22T06:53:11.109974Z"
    },
    "papermill": {
     "duration": 0.039022,
     "end_time": "2022-07-22T06:53:11.112721",
     "exception": false,
     "start_time": "2022-07-22T06:53:11.073699",
     "status": "completed"
    },
    "tags": []
   },
   "outputs": [],
   "source": [
    "def get_model_outputs(X, onnx_inference_session):\n",
    "    y_pred_labels, y_pred_map = onnx_inference_session.run(\n",
    "        [\"output_label\", \"output_probability\"],\n",
    "        {\"float_input_8x8_image\": X.astype(np.float32)},\n",
    "    )\n",
    "    y_pred_probs = np.array(\n",
    "        [[probabilities[digit] for digit in range(10)] for probabilities in y_pred_map]\n",
    "    )\n",
    "\n",
    "    assert y_pred_labels.shape == (X.shape[0],)\n",
    "    assert y_pred_probs.shape == (X.shape[0], 10)\n",
    "\n",
    "    return y_pred_labels, y_pred_probs\n",
    "\n",
    "\n",
    "# Note: as shown in the training notebook, the predicted labels and probabilities\n",
    "# computed below need not be compatible.\n",
    "y_pred_labels_test, y_pred_probs_test = get_model_outputs(\n",
    "    X_test, onnx_inference_session\n",
    ")"
   ]
  },
  {
   "cell_type": "markdown",
   "id": "b3e72972",
   "metadata": {
    "papermill": {
     "duration": 0.013256,
     "end_time": "2022-07-22T06:53:11.132178",
     "exception": false,
     "start_time": "2022-07-22T06:53:11.118922",
     "status": "completed"
    },
    "tags": []
   },
   "source": [
    "### Confusion matrix"
   ]
  },
  {
   "cell_type": "code",
   "execution_count": 11,
   "id": "ad66b9f0",
   "metadata": {
    "execution": {
     "iopub.execute_input": "2022-07-22T06:53:11.142410Z",
     "iopub.status.busy": "2022-07-22T06:53:11.142170Z",
     "iopub.status.idle": "2022-07-22T06:53:11.145272Z",
     "shell.execute_reply": "2022-07-22T06:53:11.144705Z"
    },
    "papermill": {
     "duration": 0.011034,
     "end_time": "2022-07-22T06:53:11.147630",
     "exception": false,
     "start_time": "2022-07-22T06:53:11.136596",
     "status": "completed"
    },
    "tags": []
   },
   "outputs": [],
   "source": [
    "# TODO"
   ]
  },
  {
   "cell_type": "markdown",
   "id": "68098df0",
   "metadata": {
    "papermill": {
     "duration": 0.004374,
     "end_time": "2022-07-22T06:53:11.156869",
     "exception": false,
     "start_time": "2022-07-22T06:53:11.152495",
     "status": "completed"
    },
    "tags": []
   },
   "source": [
    "### Plot predicted probabilities for each classifier over all evaluation digit images"
   ]
  },
  {
   "cell_type": "code",
   "execution_count": 12,
   "id": "5e789606",
   "metadata": {
    "execution": {
     "iopub.execute_input": "2022-07-22T06:53:11.168874Z",
     "iopub.status.busy": "2022-07-22T06:53:11.168651Z",
     "iopub.status.idle": "2022-07-22T06:53:14.472753Z",
     "shell.execute_reply": "2022-07-22T06:53:14.472055Z"
    },
    "papermill": {
     "duration": 3.313212,
     "end_time": "2022-07-22T06:53:14.474404",
     "exception": false,
     "start_time": "2022-07-22T06:53:11.161192",
     "status": "completed"
    },
    "tags": []
   },
   "outputs": [
    {
     "data": {
      "image/png": "[encoded data removed]",
      "text/plain": [
       "<Figure size 1152x432 with 10 Axes>"
      ]
     },
     "metadata": {
      "needs_background": "light"
     },
     "output_type": "display_data"
    }
   ],
   "source": [
    "def plot_per_digit_probabilities(y_pred_probs):\n",
    "    fig, axs = plt.subplots(nrows=2, ncols=5, figsize=(16, 6))\n",
    "\n",
    "    for (r, c), digit, ax in zip(\n",
    "        it.product(range(2), range(5)), range(10), axs.reshape(-1)\n",
    "    ):\n",
    "        ax.hist(y_pred_probs_test[:, digit], bins=20)\n",
    "\n",
    "        ax.set_title(f\"Digit {digit}\")\n",
    "        if r == 1 and c == 2:\n",
    "            ax.set_xlabel(\"probability\", fontsize=16)\n",
    "\n",
    "        if c == 0:\n",
    "            ax.set_ylabel(\"counts\", fontsize=16)\n",
    "        ax.set_yscale(\"log\")\n",
    "\n",
    "    fig.tight_layout()\n",
    "    fig.suptitle(\n",
    "        f\"Distributions of prediction probabilities for each digit \"\n",
    "        f\"(on evaluation data, n={y_pred_probs.shape[0]})\",\n",
    "        fontsize=20,\n",
    "    )\n",
    "    fig.tight_layout()\n",
    "    fig.show()\n",
    "\n",
    "    return fig\n",
    "\n",
    "\n",
    "fig = plot_per_digit_probabilities(y_pred_probs_test)"
   ]
  },
  {
   "cell_type": "markdown",
   "id": "7bae76d7",
   "metadata": {
    "papermill": {
     "duration": 0.010735,
     "end_time": "2022-07-22T06:53:14.494181",
     "exception": false,
     "start_time": "2022-07-22T06:53:14.483446",
     "status": "completed"
    },
    "tags": []
   },
   "source": [
    "From the above distributions we see that most digits have clear separation between\n",
    "high and lower probabilities. Morover, in each case there is roughly an order of\n",
    "magnitude more of digits with low probabilities. This is compatible with digits\n",
    "being roughly evenly distributed in the data."
   ]
  },
  {
   "cell_type": "code",
   "execution_count": 13,
   "id": "839b4782",
   "metadata": {
    "execution": {
     "iopub.execute_input": "2022-07-22T06:53:14.507464Z",
     "iopub.status.busy": "2022-07-22T06:53:14.507075Z",
     "iopub.status.idle": "2022-07-22T06:53:14.932573Z",
     "shell.execute_reply": "2022-07-22T06:53:14.931742Z"
    },
    "papermill": {
     "duration": 0.434818,
     "end_time": "2022-07-22T06:53:14.935107",
     "exception": false,
     "start_time": "2022-07-22T06:53:14.500289",
     "status": "completed"
    },
    "tags": []
   },
   "outputs": [],
   "source": [
    "logger.log_figure(\"per-digit-probabilities.png\", fig)"
   ]
  },
  {
   "cell_type": "markdown",
   "id": "985f31ba",
   "metadata": {
    "papermill": {
     "duration": 0.009567,
     "end_time": "2022-07-22T06:53:14.950443",
     "exception": false,
     "start_time": "2022-07-22T06:53:14.940876",
     "status": "completed"
    },
    "tags": []
   },
   "source": [
    "### Plot ROC curves for individual one-vs-rest classifiers"
   ]
  },
  {
   "cell_type": "code",
   "execution_count": 14,
   "id": "5bf5d554",
   "metadata": {
    "execution": {
     "iopub.execute_input": "2022-07-22T06:53:14.972766Z",
     "iopub.status.busy": "2022-07-22T06:53:14.972298Z",
     "iopub.status.idle": "2022-07-22T06:53:15.381236Z",
     "shell.execute_reply": "2022-07-22T06:53:15.380494Z"
    },
    "papermill": {
     "duration": 0.420486,
     "end_time": "2022-07-22T06:53:15.383615",
     "exception": false,
     "start_time": "2022-07-22T06:53:14.963129",
     "status": "completed"
    },
    "tags": []
   },
   "outputs": [],
   "source": [
    "from sklearn import metrics"
   ]
  },
  {
   "cell_type": "code",
   "execution_count": 15,
   "id": "e0f9fd02",
   "metadata": {
    "execution": {
     "iopub.execute_input": "2022-07-22T06:53:15.405901Z",
     "iopub.status.busy": "2022-07-22T06:53:15.405634Z",
     "iopub.status.idle": "2022-07-22T06:53:16.530910Z",
     "shell.execute_reply": "2022-07-22T06:53:16.528810Z"
    },
    "papermill": {
     "duration": 1.143521,
     "end_time": "2022-07-22T06:53:16.532779",
     "exception": false,
     "start_time": "2022-07-22T06:53:15.389258",
     "status": "completed"
    },
    "tags": []
   },
   "outputs": [
    {
     "data": {
      "image/png": "[encoded data removed]",
      "text/plain": [
       "<Figure size 1152x576 with 10 Axes>"
      ]
     },
     "metadata": {
      "needs_background": "light"
     },
     "output_type": "display_data"
    }
   ],
   "source": [
    "def plot_roc_curves(y, y_pred_probs):\n",
    "    # based on example code\n",
    "    # https://scikit-learn.org/stable/auto_examples/model_selection/plot_roc.html\n",
    "\n",
    "    fig, axs = plt.subplots(nrows=2, ncols=5, figsize=(16, 8))\n",
    "\n",
    "    roc_auc_dict = {}\n",
    "\n",
    "    for (r, c), digit, ax in zip(\n",
    "        it.product(range(2), range(5)), range(10), axs.reshape(-1)\n",
    "    ):\n",
    "        fpr, tpr, _ = metrics.roc_curve(y == digit, y_pred_probs[:, digit])\n",
    "        auc = metrics.auc(fpr, tpr)\n",
    "        roc_auc_dict[str(digit)] = auc\n",
    "\n",
    "        ax.plot(fpr, tpr, label=f\"ROC AUC={round(auc, 3)}\")\n",
    "\n",
    "        ax.set_title(f\"\\nDigit {digit}\", fontsize=16)\n",
    "        if r == 1:\n",
    "            ax.set_xlabel(\"FPR\", fontsize=18)\n",
    "\n",
    "        if c == 0:\n",
    "            ax.set_ylabel(\"TPR\", fontsize=18)\n",
    "\n",
    "        ax.set_xlim([-0.05, 1.05])\n",
    "        ax.set_ylim([-0.05, 1.05])\n",
    "        ax.legend(loc=\"lower right\", frameon=False, fontsize=14)\n",
    "\n",
    "    fig.tight_layout()\n",
    "    fig.suptitle(\n",
    "        f\"ROC plots for one-vs-rest performances \"\n",
    "        f\"(on evaluation data, n={y_pred_probs_test.shape[1]}\",\n",
    "        fontsize=22,\n",
    "    )\n",
    "    fig.tight_layout()\n",
    "    fig.show()\n",
    "\n",
    "    return roc_auc_dict, fig\n",
    "\n",
    "\n",
    "roc_auc_dict, fig = plot_roc_curves(y_test, y_pred_probs_test)"
   ]
  },
  {
   "cell_type": "code",
   "execution_count": 16,
   "id": "5d1d0cbf",
   "metadata": {
    "execution": {
     "iopub.execute_input": "2022-07-22T06:53:16.552591Z",
     "iopub.status.busy": "2022-07-22T06:53:16.552340Z",
     "iopub.status.idle": "2022-07-22T06:53:16.787989Z",
     "shell.execute_reply": "2022-07-22T06:53:16.787277Z"
    },
    "papermill": {
     "duration": 0.249764,
     "end_time": "2022-07-22T06:53:16.790132",
     "exception": false,
     "start_time": "2022-07-22T06:53:16.540368",
     "status": "completed"
    },
    "tags": []
   },
   "outputs": [],
   "source": [
    "logger.log_figure(\"per-digit-roc-curves.png\", fig)"
   ]
  },
  {
   "cell_type": "code",
   "execution_count": 17,
   "id": "e64d1c30",
   "metadata": {
    "execution": {
     "iopub.execute_input": "2022-07-22T06:53:16.804292Z",
     "iopub.status.busy": "2022-07-22T06:53:16.804052Z",
     "iopub.status.idle": "2022-07-22T06:53:16.808537Z",
     "shell.execute_reply": "2022-07-22T06:53:16.807970Z"
    },
    "papermill": {
     "duration": 0.015979,
     "end_time": "2022-07-22T06:53:16.812895",
     "exception": false,
     "start_time": "2022-07-22T06:53:16.796916",
     "status": "completed"
    },
    "tags": []
   },
   "outputs": [
    {
     "data": {
      "text/plain": [
       "{'0': 1.0,\n",
       " '1': 0.998912839737582,\n",
       " '2': 1.0,\n",
       " '3': 0.9998500468603562,\n",
       " '4': 0.9996570644718793,\n",
       " '5': 0.9994001874414246,\n",
       " '6': 0.999923792104862,\n",
       " '7': 0.9997713763145862,\n",
       " '8': 0.9949164564943254,\n",
       " '9': 0.9996189605243103}"
      ]
     },
     "execution_count": 17,
     "metadata": {},
     "output_type": "execute_result"
    }
   ],
   "source": [
    "roc_auc_dict"
   ]
  },
  {
   "cell_type": "code",
   "execution_count": 18,
   "id": "b19561cf",
   "metadata": {
    "execution": {
     "iopub.execute_input": "2022-07-22T06:53:16.829147Z",
     "iopub.status.busy": "2022-07-22T06:53:16.828925Z",
     "iopub.status.idle": "2022-07-22T06:53:16.832788Z",
     "shell.execute_reply": "2022-07-22T06:53:16.832226Z"
    },
    "papermill": {
     "duration": 0.013957,
     "end_time": "2022-07-22T06:53:16.836312",
     "exception": false,
     "start_time": "2022-07-22T06:53:16.822355",
     "status": "completed"
    },
    "tags": []
   },
   "outputs": [
    {
     "name": "stdout",
     "output_type": "stream",
     "text": [
      " - Logging roc_auc_per_digit (json) : {'0': 1.0, '1': 0.998912839737582, '2': 1.0, '3': 0.9998500468603562, '4': 0.9996570644718793, '5': 0.9994001874414246, '6': 0.999923792104862, '7': 0.9997713763145862, '8': 0.9949164564943254, '9': 0.9996189605243103}\n"
     ]
    }
   ],
   "source": [
    "logger.log_value(\"roc_auc_per_digit\", roc_auc_dict)"
   ]
  },
  {
   "cell_type": "markdown",
   "id": "1cf9e6c3",
   "metadata": {
    "papermill": {
     "duration": 0.005749,
     "end_time": "2022-07-22T06:53:16.849106",
     "exception": false,
     "start_time": "2022-07-22T06:53:16.843357",
     "status": "completed"
    },
    "tags": []
   },
   "source": [
    "### Compute and log mean ROC AUC score averaged over all digits"
   ]
  },
  {
   "cell_type": "code",
   "execution_count": 19,
   "id": "3c978b51",
   "metadata": {
    "execution": {
     "iopub.execute_input": "2022-07-22T06:53:16.862023Z",
     "iopub.status.busy": "2022-07-22T06:53:16.861651Z",
     "iopub.status.idle": "2022-07-22T06:53:16.875768Z",
     "shell.execute_reply": "2022-07-22T06:53:16.875233Z"
    },
    "papermill": {
     "duration": 0.021971,
     "end_time": "2022-07-22T06:53:16.877359",
     "exception": false,
     "start_time": "2022-07-22T06:53:16.855388",
     "status": "completed"
    },
    "tags": []
   },
   "outputs": [
    {
     "name": "stdout",
     "output_type": "stream",
     "text": [
      " - Logging roc_auc_class_mean (float) : 0.9992050723949326\n"
     ]
    }
   ],
   "source": [
    "roc_auc_macro = np.mean(list(roc_auc_dict.values()))\n",
    "\n",
    "logger.log_float(\"roc_auc_class_mean\", roc_auc_macro)\n",
    "\n",
    "# assert that the same value can be computed directly using sklearn\n",
    "assert roc_auc_macro == metrics.roc_auc_score(\n",
    "    y_test, y_pred_probs_test, average=\"macro\", multi_class=\"ovr\"\n",
    ")"
   ]
  },
  {
   "cell_type": "code",
   "execution_count": 20,
   "id": "01536e0c",
   "metadata": {
    "execution": {
     "iopub.execute_input": "2022-07-22T06:53:16.890388Z",
     "iopub.status.busy": "2022-07-22T06:53:16.890172Z",
     "iopub.status.idle": "2022-07-22T06:53:16.892773Z",
     "shell.execute_reply": "2022-07-22T06:53:16.892221Z"
    },
    "lines_to_next_cell": 0,
    "papermill": {
     "duration": 0.013082,
     "end_time": "2022-07-22T06:53:16.896010",
     "exception": false,
     "start_time": "2022-07-22T06:53:16.882928",
     "status": "completed"
    },
    "tags": []
   },
   "outputs": [],
   "source": [
    "# ---"
   ]
  },
  {
   "cell_type": "code",
   "execution_count": null,
   "id": "5ab68cc6",
   "metadata": {
    "papermill": {
     "duration": 0.006232,
     "end_time": "2022-07-22T06:53:16.908199",
     "exception": false,
     "start_time": "2022-07-22T06:53:16.901967",
     "status": "completed"
    },
    "tags": []
   },
   "outputs": [],
   "source": []
  }
 ],
 "metadata": {
  "jupytext": {
   "cell_metadata_filter": "tags,-all",
   "main_language": "python",
   "notebook_metadata_filter": "-all"
  },
  "language_info": {
   "codemirror_mode": {
    "name": "ipython",
    "version": 3
   },
   "file_extension": ".py",
   "mimetype": "text/x-python",
   "name": "python",
   "nbconvert_exporter": "python",
   "pygments_lexer": "ipython3",
   "version": "3.8.10"
  },
  "papermill": {
   "default_parameters": {},
   "duration": 9.731328,
   "end_time": "2022-07-22T06:53:18.038646",
   "environment_variables": {},
   "exception": null,
   "input_path": "/home/host_user/workspace/mnist-demo-pipeline/mnist-demo-pipeline/notebooks/temp-notebook-1selwj8n.ipynb",
   "output_path": "notebooks/benchmark-model.ipynb",
   "parameters": {
    "P": {
     "_opentelemetry_traceparent": "00-c6d8e1047d2497021b7d7ebb10256a7c-8a018d5cf40f27d8-01",
     "pipeline.data_lake_root": "/pipeline-outputs/data-lake",
     "pipeline.github.actor": "matiasdahl",
     "pipeline.github.base_ref": "",
     "pipeline.github.event_name": "schedule",
     "pipeline.github.head_ref": "",
     "pipeline.github.job": "run-tests-pipeline-and-persist-pipeline-outputs",
     "pipeline.github.ref": "refs/heads/development",
     "pipeline.github.ref_name": "development",
     "pipeline.github.ref_type": "branch",
     "pipeline.github.repository": "pynb-dag-runner/mnist-digits-demo-pipeline",
     "pipeline.github.run_id": "2716826811",
     "pipeline.github.runner_name": "Hosted Agent",
     "pipeline.github.sha": "5a6f90a9473b3095841d5b5dc7b58f5f049a0f71",
     "pipeline.github.workflow": "Run automated tests, pipeline and deploy results to static reporting site",
     "pipeline.pipeline_run_id": "6de65c62-ad94-4813-b4d0-73ede8e01725",
     "pipeline.run_environment": "ci",
     "run.retry_nr": "0",
     "task.max_nr_retries": "1",
     "task.notebook": "notebooks/benchmark-model.py",
     "task.nr_train_images": 1000,
     "task.num_cpus": 1,
     "task.timeout_s": "None"
    }
   },
   "start_time": "2022-07-22T06:53:08.307318",
   "version": "2.3.3"
  }
 },
 "nbformat": 4,
 "nbformat_minor": 5
}