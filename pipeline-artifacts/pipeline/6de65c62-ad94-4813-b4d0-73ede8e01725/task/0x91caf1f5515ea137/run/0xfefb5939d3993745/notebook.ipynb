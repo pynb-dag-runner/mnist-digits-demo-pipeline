{
 "cells": [
  {
   "cell_type": "markdown",
   "id": "34816311",
   "metadata": {
    "papermill": {
     "duration": 0.004703,
     "end_time": "2022-07-22T06:52:49.446377",
     "exception": false,
     "start_time": "2022-07-22T06:52:49.441674",
     "status": "completed"
    },
    "tags": []
   },
   "source": [
    "# Train model\n",
    "\n",
    "The purpose of this notebook is:\n",
    "\n",
    "- Load all training data (images and labels).\n",
    "- Limit number of train images to `task.nr_train_images` (value provided as run parameter).\n",
    "- Train a support vector machine model using sklearn.\n",
    "- Persist the trained model using the ONNX format."
   ]
  },
  {
   "cell_type": "markdown",
   "id": "342415d9",
   "metadata": {
    "papermill": {
     "duration": 0.002898,
     "end_time": "2022-07-22T06:52:49.453135",
     "exception": false,
     "start_time": "2022-07-22T06:52:49.450237",
     "status": "completed"
    },
    "tags": []
   },
   "source": [
    "### Determine run parameters"
   ]
  },
  {
   "cell_type": "code",
   "execution_count": 1,
   "id": "a9145e3f",
   "metadata": {
    "execution": {
     "iopub.execute_input": "2022-07-22T06:52:49.461004Z",
     "iopub.status.busy": "2022-07-22T06:52:49.460643Z",
     "iopub.status.idle": "2022-07-22T06:52:49.470060Z",
     "shell.execute_reply": "2022-07-22T06:52:49.469527Z"
    },
    "lines_to_next_cell": 0,
    "papermill": {
     "duration": 0.015297,
     "end_time": "2022-07-22T06:52:49.471812",
     "exception": false,
     "start_time": "2022-07-22T06:52:49.456515",
     "status": "completed"
    },
    "tags": []
   },
   "outputs": [],
   "source": [
    "# ----------------- Parameters for interactive development --------------\n",
    "P = {\n",
    "    \"pipeline.data_lake_root\": \"/pipeline-outputs/data-lake\",\n",
    "    \"task.nr_train_images\": 600,\n",
    "}"
   ]
  },
  {
   "cell_type": "code",
   "execution_count": 2,
   "id": "1f27ba20",
   "metadata": {
    "execution": {
     "iopub.execute_input": "2022-07-22T06:52:49.479507Z",
     "iopub.status.busy": "2022-07-22T06:52:49.479281Z",
     "iopub.status.idle": "2022-07-22T06:52:49.482775Z",
     "shell.execute_reply": "2022-07-22T06:52:49.482038Z"
    },
    "lines_to_next_cell": 0,
    "papermill": {
     "duration": 0.010767,
     "end_time": "2022-07-22T06:52:49.486349",
     "exception": false,
     "start_time": "2022-07-22T06:52:49.475582",
     "status": "completed"
    },
    "tags": [
     "parameters"
    ]
   },
   "outputs": [],
   "source": [
    "# - During automated runs parameters will be injected in the below cell -"
   ]
  },
  {
   "cell_type": "code",
   "execution_count": 3,
   "id": "33aeae51",
   "metadata": {
    "execution": {
     "iopub.execute_input": "2022-07-22T06:52:49.495336Z",
     "iopub.status.busy": "2022-07-22T06:52:49.495081Z",
     "iopub.status.idle": "2022-07-22T06:52:49.500523Z",
     "shell.execute_reply": "2022-07-22T06:52:49.499021Z"
    },
    "papermill": {
     "duration": 0.013865,
     "end_time": "2022-07-22T06:52:49.503115",
     "exception": false,
     "start_time": "2022-07-22T06:52:49.489250",
     "status": "completed"
    },
    "tags": [
     "injected-parameters"
    ]
   },
   "outputs": [],
   "source": [
    "# Parameters\n",
    "P = {\n",
    "    \"pipeline.data_lake_root\": \"/pipeline-outputs/data-lake\",\n",
    "    \"pipeline.run_environment\": \"ci\",\n",
    "    \"pipeline.pipeline_run_id\": \"6de65c62-ad94-4813-b4d0-73ede8e01725\",\n",
    "    \"pipeline.github.repository\": \"pynb-dag-runner/mnist-digits-demo-pipeline\",\n",
    "    \"pipeline.github.workflow\": \"Run automated tests, pipeline and deploy results to static reporting site\",\n",
    "    \"pipeline.github.runner_name\": \"Hosted Agent\",\n",
    "    \"pipeline.github.run_id\": \"2716826811\",\n",
    "    \"pipeline.github.actor\": \"matiasdahl\",\n",
    "    \"pipeline.github.job\": \"run-tests-pipeline-and-persist-pipeline-outputs\",\n",
    "    \"pipeline.github.base_ref\": \"\",\n",
    "    \"pipeline.github.head_ref\": \"\",\n",
    "    \"pipeline.github.sha\": \"5a6f90a9473b3095841d5b5dc7b58f5f049a0f71\",\n",
    "    \"pipeline.github.ref\": \"refs/heads/development\",\n",
    "    \"pipeline.github.ref_type\": \"branch\",\n",
    "    \"pipeline.github.ref_name\": \"development\",\n",
    "    \"pipeline.github.event_name\": \"schedule\",\n",
    "    \"task.nr_train_images\": 800,\n",
    "    \"task.notebook\": \"notebooks/train-model.py\",\n",
    "    \"task.max_nr_retries\": \"1\",\n",
    "    \"run.retry_nr\": \"0\",\n",
    "    \"task.timeout_s\": \"None\",\n",
    "    \"task.num_cpus\": 1,\n",
    "    \"_opentelemetry_traceparent\": \"00-c6d8e1047d2497021b7d7ebb10256a7c-00008f7abdb957dc-01\",\n",
    "}\n"
   ]
  },
  {
   "cell_type": "code",
   "execution_count": 4,
   "id": "6ce68b1d",
   "metadata": {
    "execution": {
     "iopub.execute_input": "2022-07-22T06:52:49.513386Z",
     "iopub.status.busy": "2022-07-22T06:52:49.513180Z",
     "iopub.status.idle": "2022-07-22T06:52:49.517128Z",
     "shell.execute_reply": "2022-07-22T06:52:49.516598Z"
    },
    "lines_to_next_cell": 0,
    "papermill": {
     "duration": 0.013271,
     "end_time": "2022-07-22T06:52:49.520003",
     "exception": false,
     "start_time": "2022-07-22T06:52:49.506732",
     "status": "completed"
    },
    "tags": []
   },
   "outputs": [],
   "source": [
    "# -----------------------------------------------------------------------"
   ]
  },
  {
   "cell_type": "markdown",
   "id": "7d4f0dba",
   "metadata": {
    "papermill": {
     "duration": 0.003139,
     "end_time": "2022-07-22T06:52:49.526026",
     "exception": false,
     "start_time": "2022-07-22T06:52:49.522887",
     "status": "completed"
    },
    "tags": []
   },
   "source": [
    "---"
   ]
  },
  {
   "cell_type": "markdown",
   "id": "e4c907cb",
   "metadata": {
    "lines_to_next_cell": 2,
    "papermill": {
     "duration": 0.002828,
     "end_time": "2022-07-22T06:52:49.531865",
     "exception": false,
     "start_time": "2022-07-22T06:52:49.529037",
     "status": "completed"
    },
    "tags": []
   },
   "source": [
    "### Notebook code"
   ]
  },
  {
   "cell_type": "code",
   "execution_count": 5,
   "id": "ef298ae3",
   "metadata": {
    "execution": {
     "iopub.execute_input": "2022-07-22T06:52:49.539059Z",
     "iopub.status.busy": "2022-07-22T06:52:49.538835Z",
     "iopub.status.idle": "2022-07-22T06:52:50.054406Z",
     "shell.execute_reply": "2022-07-22T06:52:50.051393Z"
    },
    "papermill": {
     "duration": 0.522011,
     "end_time": "2022-07-22T06:52:50.056691",
     "exception": false,
     "start_time": "2022-07-22T06:52:49.534680",
     "status": "completed"
    },
    "tags": []
   },
   "outputs": [
    {
     "name": "stderr",
     "output_type": "stream",
     "text": [
      "2022-07-22 06:52:49,882\tINFO worker.py:842 -- Connecting to existing Ray cluster at address: 172.17.0.2:6379\n"
     ]
    }
   ],
   "source": [
    "from pynb_dag_runner.tasks.task_opentelemetry_logging import PydarLogger\n",
    "\n",
    "logger = PydarLogger(P)"
   ]
  },
  {
   "cell_type": "markdown",
   "id": "71a912cc",
   "metadata": {
    "papermill": {
     "duration": 0.006869,
     "end_time": "2022-07-22T06:52:50.067131",
     "exception": false,
     "start_time": "2022-07-22T06:52:50.060262",
     "status": "completed"
    },
    "tags": []
   },
   "source": [
    "## Load and limit train data"
   ]
  },
  {
   "cell_type": "code",
   "execution_count": 6,
   "id": "8f585c00",
   "metadata": {
    "execution": {
     "iopub.execute_input": "2022-07-22T06:52:50.079489Z",
     "iopub.status.busy": "2022-07-22T06:52:50.078973Z",
     "iopub.status.idle": "2022-07-22T06:52:50.488222Z",
     "shell.execute_reply": "2022-07-22T06:52:50.487386Z"
    },
    "papermill": {
     "duration": 0.415686,
     "end_time": "2022-07-22T06:52:50.490486",
     "exception": false,
     "start_time": "2022-07-22T06:52:50.074800",
     "status": "completed"
    },
    "tags": []
   },
   "outputs": [],
   "source": [
    "def load_and_limit_train_data(P):\n",
    "    from common.io import datalake_root, read_numpy\n",
    "    from sklearn.model_selection import train_test_split\n",
    "\n",
    "    X_train_all = read_numpy(datalake_root(P) / \"train-data\" / \"digits.numpy\")\n",
    "    y_train_all = read_numpy(datalake_root(P) / \"train-data\" / \"labels.numpy\")\n",
    "\n",
    "    assert isinstance(P[\"task.nr_train_images\"], int)\n",
    "\n",
    "    # Note: train_test_split will fail if split is 0 or 100%.\n",
    "    assert 0 < P[\"task.nr_train_images\"] < len(y_train_all)\n",
    "\n",
    "    X_train, _, y_train, _ = train_test_split(\n",
    "        X_train_all,\n",
    "        y_train_all,\n",
    "        train_size=P[\"task.nr_train_images\"],\n",
    "        test_size=None,\n",
    "        stratify=y_train_all,\n",
    "        shuffle=True,\n",
    "        random_state=123,\n",
    "    )\n",
    "\n",
    "    assert X_train.shape == (len(y_train), 8 * 8)\n",
    "    return X_train, y_train\n",
    "\n",
    "\n",
    "X_train, y_train = load_and_limit_train_data(P)"
   ]
  },
  {
   "cell_type": "markdown",
   "id": "d48f3800",
   "metadata": {
    "papermill": {
     "duration": 0.004884,
     "end_time": "2022-07-22T06:52:50.503923",
     "exception": false,
     "start_time": "2022-07-22T06:52:50.499039",
     "status": "completed"
    },
    "tags": []
   },
   "source": [
    "## Train support vector classifier model\n",
    "\n",
    "Below we assume that the hyperparameter $C$ is known.\n",
    "\n",
    "However, this should ideally be found by a hyperparameter search. That could be\n",
    "done in parallel on the Ray cluster, but this needs some more work. Ie., to use\n",
    "multiple cores in the notebook, those cores should be reserved when starting the\n",
    "notebook task (TODO).\n",
    "\n",
    "- https://docs.ray.io/en/latest/tune/key-concepts.html\n",
    "\n",
    "Note: cv-scores would need to be computed here, since they depend on the train data.\n",
    "After this notebook only the onnx-model is available."
   ]
  },
  {
   "cell_type": "code",
   "execution_count": 7,
   "id": "2df93df3",
   "metadata": {
    "execution": {
     "iopub.execute_input": "2022-07-22T06:52:50.511649Z",
     "iopub.status.busy": "2022-07-22T06:52:50.511385Z",
     "iopub.status.idle": "2022-07-22T06:52:50.533593Z",
     "shell.execute_reply": "2022-07-22T06:52:50.533014Z"
    },
    "papermill": {
     "duration": 0.028223,
     "end_time": "2022-07-22T06:52:50.535333",
     "exception": false,
     "start_time": "2022-07-22T06:52:50.507110",
     "status": "completed"
    },
    "tags": []
   },
   "outputs": [],
   "source": [
    "from sklearn.svm import SVC"
   ]
  },
  {
   "cell_type": "code",
   "execution_count": 8,
   "id": "d8e010cf",
   "metadata": {
    "execution": {
     "iopub.execute_input": "2022-07-22T06:52:50.545961Z",
     "iopub.status.busy": "2022-07-22T06:52:50.545499Z",
     "iopub.status.idle": "2022-07-22T06:52:50.670793Z",
     "shell.execute_reply": "2022-07-22T06:52:50.670182Z"
    },
    "papermill": {
     "duration": 0.134245,
     "end_time": "2022-07-22T06:52:50.672761",
     "exception": false,
     "start_time": "2022-07-22T06:52:50.538516",
     "status": "completed"
    },
    "tags": []
   },
   "outputs": [
    {
     "data": {
      "text/plain": [
       "SVC(C=0.001, kernel='linear', probability=True)"
      ]
     },
     "execution_count": 8,
     "metadata": {},
     "output_type": "execute_result"
    }
   ],
   "source": [
    "model = SVC(C=0.001, kernel=\"linear\", probability=True)\n",
    "\n",
    "model.fit(X_train, y_train)"
   ]
  },
  {
   "cell_type": "markdown",
   "id": "5db51a88",
   "metadata": {
    "papermill": {
     "duration": 0.003573,
     "end_time": "2022-07-22T06:52:50.680188",
     "exception": false,
     "start_time": "2022-07-22T06:52:50.676615",
     "status": "completed"
    },
    "tags": []
   },
   "source": [
    "### Q: Can the labels returned by `predict(..)` be computed from probabilities returned by the `predict_prob`-method?"
   ]
  },
  {
   "cell_type": "code",
   "execution_count": 9,
   "id": "b26d7b93",
   "metadata": {
    "execution": {
     "iopub.execute_input": "2022-07-22T06:52:50.687731Z",
     "iopub.status.busy": "2022-07-22T06:52:50.687475Z",
     "iopub.status.idle": "2022-07-22T06:52:50.743353Z",
     "shell.execute_reply": "2022-07-22T06:52:50.742750Z"
    },
    "papermill": {
     "duration": 0.061688,
     "end_time": "2022-07-22T06:52:50.745000",
     "exception": false,
     "start_time": "2022-07-22T06:52:50.683312",
     "status": "completed"
    },
    "tags": []
   },
   "outputs": [
    {
     "name": "stdout",
     "output_type": "stream",
     "text": [
      " - Logging nr_max_prob_neq_label (int) : 1\n"
     ]
    }
   ],
   "source": [
    "import numpy as np\n",
    "\n",
    "y_train_labels = model.predict(X_train)\n",
    "y_train_probabilities = model.predict_proba(X_train)\n",
    "assert y_train_probabilities.shape == (len(y_train), 10)\n",
    "\n",
    "y_train_max_prob_labels = np.argmax(y_train_probabilities, axis=1)\n",
    "assert y_train_labels.shape == y_train_max_prob_labels.shape == y_train.shape\n",
    "\n",
    "# If the predicted labels would coincide with the labels that have\n",
    "# maximum probability, the below number would be zero\n",
    "logger.log_int(\n",
    "    \"nr_max_prob_neq_label\", int(sum(y_train_max_prob_labels != y_train_labels))\n",
    ")"
   ]
  },
  {
   "cell_type": "markdown",
   "id": "23987482",
   "metadata": {
    "papermill": {
     "duration": 0.004262,
     "end_time": "2022-07-22T06:52:50.752539",
     "exception": false,
     "start_time": "2022-07-22T06:52:50.748277",
     "status": "completed"
    },
    "tags": []
   },
   "source": [
    "The explanation is (likely) explained in the SVC source, see\n",
    "[here](https://github.com/scikit-learn/scikit-learn/blob/main/sklearn/svm/_base.py).\n",
    "Namely, the outputs from `predict(..)` and `predict_proba(..)` may not in some\n",
    "cases be compatible since the latter is computed using cross-validation while\n",
    "the former is not. Thus, the above number need not be zero."
   ]
  },
  {
   "cell_type": "markdown",
   "id": "2a55f214",
   "metadata": {
    "papermill": {
     "duration": 0.003673,
     "end_time": "2022-07-22T06:52:50.760614",
     "exception": false,
     "start_time": "2022-07-22T06:52:50.756941",
     "status": "completed"
    },
    "tags": []
   },
   "source": [
    "## Persist model"
   ]
  },
  {
   "cell_type": "code",
   "execution_count": 10,
   "id": "5e862c00",
   "metadata": {
    "execution": {
     "iopub.execute_input": "2022-07-22T06:52:50.768707Z",
     "iopub.status.busy": "2022-07-22T06:52:50.768462Z",
     "iopub.status.idle": "2022-07-22T06:52:51.544649Z",
     "shell.execute_reply": "2022-07-22T06:52:51.543965Z"
    },
    "papermill": {
     "duration": 0.782378,
     "end_time": "2022-07-22T06:52:51.546900",
     "exception": false,
     "start_time": "2022-07-22T06:52:50.764522",
     "status": "completed"
    },
    "tags": []
   },
   "outputs": [],
   "source": [
    "from skl2onnx import convert_sklearn\n",
    "from skl2onnx.common.data_types import FloatTensorType\n",
    "\n",
    "#\n",
    "from common.io import datalake_root, write_onnx"
   ]
  },
  {
   "cell_type": "code",
   "execution_count": 11,
   "id": "17636dc0",
   "metadata": {
    "execution": {
     "iopub.execute_input": "2022-07-22T06:52:51.558859Z",
     "iopub.status.busy": "2022-07-22T06:52:51.558165Z",
     "iopub.status.idle": "2022-07-22T06:52:51.608872Z",
     "shell.execute_reply": "2022-07-22T06:52:51.608151Z"
    },
    "papermill": {
     "duration": 0.056992,
     "end_time": "2022-07-22T06:52:51.610657",
     "exception": false,
     "start_time": "2022-07-22T06:52:51.553665",
     "status": "completed"
    },
    "tags": []
   },
   "outputs": [],
   "source": [
    "# convert sklearn model into onnx and persist to data lake\n",
    "\n",
    "model_onnx = convert_sklearn(\n",
    "    model, initial_types=[(\"float_input_8x8_image\", FloatTensorType([None, 8 * 8]))]\n",
    ")\n",
    "write_onnx(\n",
    "    datalake_root(P)\n",
    "    / \"models\"\n",
    "    / f\"nr_train_images={P['task.nr_train_images']}\"\n",
    "    / \"model.onnx\",\n",
    "    model_onnx,\n",
    ")"
   ]
  },
  {
   "cell_type": "code",
   "execution_count": null,
   "id": "1118bc39",
   "metadata": {
    "papermill": {
     "duration": 0.003997,
     "end_time": "2022-07-22T06:52:51.619096",
     "exception": false,
     "start_time": "2022-07-22T06:52:51.615099",
     "status": "completed"
    },
    "tags": []
   },
   "outputs": [],
   "source": []
  }
 ],
 "metadata": {
  "jupytext": {
   "cell_metadata_filter": "tags,-all",
   "main_language": "python",
   "notebook_metadata_filter": "-all"
  },
  "language_info": {
   "codemirror_mode": {
    "name": "ipython",
    "version": 3
   },
   "file_extension": ".py",
   "mimetype": "text/x-python",
   "name": "python",
   "nbconvert_exporter": "python",
   "pygments_lexer": "ipython3",
   "version": "3.8.10"
  },
  "papermill": {
   "default_parameters": {},
   "duration": 4.609242,
   "end_time": "2022-07-22T06:52:52.847520",
   "environment_variables": {},
   "exception": null,
   "input_path": "/home/host_user/workspace/mnist-demo-pipeline/mnist-demo-pipeline/notebooks/temp-notebook-2jup9v_0.ipynb",
   "output_path": "notebooks/train-model.ipynb",
   "parameters": {
    "P": {
     "_opentelemetry_traceparent": "00-c6d8e1047d2497021b7d7ebb10256a7c-00008f7abdb957dc-01",
     "pipeline.data_lake_root": "/pipeline-outputs/data-lake",
     "pipeline.github.actor": "matiasdahl",
     "pipeline.github.base_ref": "",
     "pipeline.github.event_name": "schedule",
     "pipeline.github.head_ref": "",
     "pipeline.github.job": "run-tests-pipeline-and-persist-pipeline-outputs",
     "pipeline.github.ref": "refs/heads/development",
     "pipeline.github.ref_name": "development",
     "pipeline.github.ref_type": "branch",
     "pipeline.github.repository": "pynb-dag-runner/mnist-digits-demo-pipeline",
     "pipeline.github.run_id": "2716826811",
     "pipeline.github.runner_name": "Hosted Agent",
     "pipeline.github.sha": "5a6f90a9473b3095841d5b5dc7b58f5f049a0f71",
     "pipeline.github.workflow": "Run automated tests, pipeline and deploy results to static reporting site",
     "pipeline.pipeline_run_id": "6de65c62-ad94-4813-b4d0-73ede8e01725",
     "pipeline.run_environment": "ci",
     "run.retry_nr": "0",
     "task.max_nr_retries": "1",
     "task.notebook": "notebooks/train-model.py",
     "task.nr_train_images": 800,
     "task.num_cpus": 1,
     "task.timeout_s": "None"
    }
   },
   "start_time": "2022-07-22T06:52:48.238278",
   "version": "2.3.3"
  }
 },
 "nbformat": 4,
 "nbformat_minor": 5
}