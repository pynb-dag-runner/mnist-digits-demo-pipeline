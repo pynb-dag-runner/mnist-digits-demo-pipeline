{
 "cells": [
  {
   "cell_type": "markdown",
   "id": "957c8200",
   "metadata": {
    "papermill": {
     "duration": 0.00633,
     "end_time": "2022-07-22T06:52:58.370017",
     "exception": false,
     "start_time": "2022-07-22T06:52:58.363687",
     "status": "completed"
    },
    "tags": []
   },
   "source": [
    "# Benchmark model\n",
    "\n",
    "The purpose of this notebook is to benchmark persisted onnx-model (trained in the\n",
    "previous step) against evaluation set."
   ]
  },
  {
   "cell_type": "markdown",
   "id": "d66ab18d",
   "metadata": {
    "papermill": {
     "duration": 0.004115,
     "end_time": "2022-07-22T06:52:58.378488",
     "exception": false,
     "start_time": "2022-07-22T06:52:58.374373",
     "status": "completed"
    },
    "tags": []
   },
   "source": [
    "### Determine run parameters"
   ]
  },
  {
   "cell_type": "code",
   "execution_count": 1,
   "id": "1d3ba423",
   "metadata": {
    "execution": {
     "iopub.execute_input": "2022-07-22T06:52:58.388305Z",
     "iopub.status.busy": "2022-07-22T06:52:58.387415Z",
     "iopub.status.idle": "2022-07-22T06:52:58.396727Z",
     "shell.execute_reply": "2022-07-22T06:52:58.395923Z"
    },
    "lines_to_next_cell": 0,
    "papermill": {
     "duration": 0.016713,
     "end_time": "2022-07-22T06:52:58.398968",
     "exception": false,
     "start_time": "2022-07-22T06:52:58.382255",
     "status": "completed"
    },
    "tags": []
   },
   "outputs": [],
   "source": [
    "# ----------------- Parameters for interactive development --------------\n",
    "P = {\n",
    "    \"pipeline.data_lake_root\": \"/pipeline-outputs/data-lake\",\n",
    "    \"task.nr_train_images\": 600,\n",
    "}"
   ]
  },
  {
   "cell_type": "code",
   "execution_count": 2,
   "id": "47dfe7cd",
   "metadata": {
    "execution": {
     "iopub.execute_input": "2022-07-22T06:52:58.408217Z",
     "iopub.status.busy": "2022-07-22T06:52:58.407419Z",
     "iopub.status.idle": "2022-07-22T06:52:58.411527Z",
     "shell.execute_reply": "2022-07-22T06:52:58.410591Z"
    },
    "lines_to_next_cell": 0,
    "papermill": {
     "duration": 0.010269,
     "end_time": "2022-07-22T06:52:58.413182",
     "exception": false,
     "start_time": "2022-07-22T06:52:58.402913",
     "status": "completed"
    },
    "tags": [
     "parameters"
    ]
   },
   "outputs": [],
   "source": [
    "# - During automated runs parameters will be injected in the below cell -"
   ]
  },
  {
   "cell_type": "code",
   "execution_count": 3,
   "id": "13c52219",
   "metadata": {
    "execution": {
     "iopub.execute_input": "2022-07-22T06:52:58.422408Z",
     "iopub.status.busy": "2022-07-22T06:52:58.421827Z",
     "iopub.status.idle": "2022-07-22T06:52:58.426745Z",
     "shell.execute_reply": "2022-07-22T06:52:58.425950Z"
    },
    "papermill": {
     "duration": 0.011448,
     "end_time": "2022-07-22T06:52:58.428518",
     "exception": false,
     "start_time": "2022-07-22T06:52:58.417070",
     "status": "completed"
    },
    "tags": [
     "injected-parameters"
    ]
   },
   "outputs": [],
   "source": [
    "# Parameters\n",
    "P = {\n",
    "    \"pipeline.data_lake_root\": \"/pipeline-outputs/data-lake\",\n",
    "    \"pipeline.run_environment\": \"ci\",\n",
    "    \"pipeline.pipeline_run_id\": \"6de65c62-ad94-4813-b4d0-73ede8e01725\",\n",
    "    \"pipeline.github.repository\": \"pynb-dag-runner/mnist-digits-demo-pipeline\",\n",
    "    \"pipeline.github.workflow\": \"Run automated tests, pipeline and deploy results to static reporting site\",\n",
    "    \"pipeline.github.runner_name\": \"Hosted Agent\",\n",
    "    \"pipeline.github.run_id\": \"2716826811\",\n",
    "    \"pipeline.github.actor\": \"matiasdahl\",\n",
    "    \"pipeline.github.job\": \"run-tests-pipeline-and-persist-pipeline-outputs\",\n",
    "    \"pipeline.github.base_ref\": \"\",\n",
    "    \"pipeline.github.head_ref\": \"\",\n",
    "    \"pipeline.github.sha\": \"5a6f90a9473b3095841d5b5dc7b58f5f049a0f71\",\n",
    "    \"pipeline.github.ref\": \"refs/heads/development\",\n",
    "    \"pipeline.github.ref_type\": \"branch\",\n",
    "    \"pipeline.github.ref_name\": \"development\",\n",
    "    \"pipeline.github.event_name\": \"schedule\",\n",
    "    \"task.nr_train_images\": 600,\n",
    "    \"task.notebook\": \"notebooks/benchmark-model.py\",\n",
    "    \"task.max_nr_retries\": \"1\",\n",
    "    \"run.retry_nr\": \"0\",\n",
    "    \"task.timeout_s\": \"None\",\n",
    "    \"task.num_cpus\": 1,\n",
    "    \"_opentelemetry_traceparent\": \"00-c6d8e1047d2497021b7d7ebb10256a7c-833e18b205c9654b-01\",\n",
    "}\n"
   ]
  },
  {
   "cell_type": "code",
   "execution_count": 4,
   "id": "ed2556f2",
   "metadata": {
    "execution": {
     "iopub.execute_input": "2022-07-22T06:52:58.437308Z",
     "iopub.status.busy": "2022-07-22T06:52:58.436897Z",
     "iopub.status.idle": "2022-07-22T06:52:58.439969Z",
     "shell.execute_reply": "2022-07-22T06:52:58.439342Z"
    },
    "lines_to_next_cell": 0,
    "papermill": {
     "duration": 0.009154,
     "end_time": "2022-07-22T06:52:58.441356",
     "exception": false,
     "start_time": "2022-07-22T06:52:58.432202",
     "status": "completed"
    },
    "tags": []
   },
   "outputs": [],
   "source": [
    "# -----------------------------------------------------------------------"
   ]
  },
  {
   "cell_type": "markdown",
   "id": "41f816cb",
   "metadata": {
    "papermill": {
     "duration": 0.004096,
     "end_time": "2022-07-22T06:52:58.450659",
     "exception": false,
     "start_time": "2022-07-22T06:52:58.446563",
     "status": "completed"
    },
    "tags": []
   },
   "source": [
    "---"
   ]
  },
  {
   "cell_type": "markdown",
   "id": "4fddb0c2",
   "metadata": {
    "lines_to_next_cell": 2,
    "papermill": {
     "duration": 0.004285,
     "end_time": "2022-07-22T06:52:58.458681",
     "exception": false,
     "start_time": "2022-07-22T06:52:58.454396",
     "status": "completed"
    },
    "tags": []
   },
   "source": [
    "### Notebook code"
   ]
  },
  {
   "cell_type": "code",
   "execution_count": 5,
   "id": "97fe2168",
   "metadata": {
    "execution": {
     "iopub.execute_input": "2022-07-22T06:52:58.468850Z",
     "iopub.status.busy": "2022-07-22T06:52:58.467112Z",
     "iopub.status.idle": "2022-07-22T06:52:59.637254Z",
     "shell.execute_reply": "2022-07-22T06:52:59.636516Z"
    },
    "papermill": {
     "duration": 1.176874,
     "end_time": "2022-07-22T06:52:59.639378",
     "exception": false,
     "start_time": "2022-07-22T06:52:58.462504",
     "status": "completed"
    },
    "tags": []
   },
   "outputs": [
    {
     "name": "stderr",
     "output_type": "stream",
     "text": [
      "2022-07-22 06:52:59,444\tINFO worker.py:842 -- Connecting to existing Ray cluster at address: 172.17.0.2:6379\n"
     ]
    }
   ],
   "source": [
    "import itertools as it\n",
    "\n",
    "#\n",
    "import numpy as np\n",
    "import matplotlib.pyplot as plt\n",
    "\n",
    "#\n",
    "from pynb_dag_runner.tasks.task_opentelemetry_logging import PydarLogger\n",
    "\n",
    "#\n",
    "from common.io import datalake_root\n",
    "\n",
    "logger = PydarLogger(P)"
   ]
  },
  {
   "cell_type": "markdown",
   "id": "9fa3cde8",
   "metadata": {
    "papermill": {
     "duration": 0.00779,
     "end_time": "2022-07-22T06:52:59.651676",
     "exception": false,
     "start_time": "2022-07-22T06:52:59.643886",
     "status": "completed"
    },
    "tags": []
   },
   "source": [
    "## Load persisted onnx-model and evaluation data"
   ]
  },
  {
   "cell_type": "code",
   "execution_count": 6,
   "id": "5c5acd0e",
   "metadata": {
    "execution": {
     "iopub.execute_input": "2022-07-22T06:52:59.660881Z",
     "iopub.status.busy": "2022-07-22T06:52:59.660531Z",
     "iopub.status.idle": "2022-07-22T06:52:59.664010Z",
     "shell.execute_reply": "2022-07-22T06:52:59.663446Z"
    },
    "papermill": {
     "duration": 0.011213,
     "end_time": "2022-07-22T06:52:59.666694",
     "exception": false,
     "start_time": "2022-07-22T06:52:59.655481",
     "status": "completed"
    },
    "tags": []
   },
   "outputs": [],
   "source": [
    "from common.io import read_onnx, get_onnx_inputs, get_onnx_outputs, read_numpy"
   ]
  },
  {
   "cell_type": "code",
   "execution_count": 7,
   "id": "f28fbd50",
   "metadata": {
    "execution": {
     "iopub.execute_input": "2022-07-22T06:52:59.679715Z",
     "iopub.status.busy": "2022-07-22T06:52:59.679490Z",
     "iopub.status.idle": "2022-07-22T06:52:59.692868Z",
     "shell.execute_reply": "2022-07-22T06:52:59.692331Z"
    },
    "lines_to_next_cell": 0,
    "papermill": {
     "duration": 0.019956,
     "end_time": "2022-07-22T06:52:59.694688",
     "exception": false,
     "start_time": "2022-07-22T06:52:59.674732",
     "status": "completed"
    },
    "tags": []
   },
   "outputs": [],
   "source": [
    "onnx_inference_session = read_onnx(\n",
    "    datalake_root(P)\n",
    "    / \"models\"\n",
    "    / f\"nr_train_images={P['task.nr_train_images']}\"\n",
    "    / \"model.onnx\"\n",
    ")"
   ]
  },
  {
   "cell_type": "markdown",
   "id": "a15f3ef2",
   "metadata": {
    "papermill": {
     "duration": 0.003848,
     "end_time": "2022-07-22T06:52:59.706853",
     "exception": false,
     "start_time": "2022-07-22T06:52:59.703005",
     "status": "completed"
    },
    "tags": []
   },
   "source": [
    "### Record structure of inputs and outputs for ONNX model\n",
    "\n",
    "(this should likely be done in training notebook)"
   ]
  },
  {
   "cell_type": "code",
   "execution_count": 8,
   "id": "6e2c1d03",
   "metadata": {
    "execution": {
     "iopub.execute_input": "2022-07-22T06:52:59.720578Z",
     "iopub.status.busy": "2022-07-22T06:52:59.720358Z",
     "iopub.status.idle": "2022-07-22T06:52:59.726048Z",
     "shell.execute_reply": "2022-07-22T06:52:59.725491Z"
    },
    "papermill": {
     "duration": 0.023939,
     "end_time": "2022-07-22T06:52:59.734735",
     "exception": false,
     "start_time": "2022-07-22T06:52:59.710796",
     "status": "completed"
    },
    "tags": []
   },
   "outputs": [
    {
     "name": "stdout",
     "output_type": "stream",
     "text": [
      "{\n",
      "  \"inputs\": [\n",
      "    {\n",
      "      \"name\": \"float_input_8x8_image\",\n",
      "      \"shape\": [\n",
      "        null,\n",
      "        64\n",
      "      ],\n",
      "      \"type\": \"tensor(float)\"\n",
      "    }\n",
      "  ],\n",
      "  \"outputs\": [\n",
      "    {\n",
      "      \"name\": \"output_label\",\n",
      "      \"shape\": [\n",
      "        null\n",
      "      ],\n",
      "      \"type\": \"tensor(int64)\"\n",
      "    },\n",
      "    {\n",
      "      \"name\": \"output_probability\",\n",
      "      \"shape\": [],\n",
      "      \"type\": \"seq(map(int64,tensor(float)))\"\n",
      "    }\n",
      "  ]\n",
      "}\n"
     ]
    }
   ],
   "source": [
    "import json\n",
    "\n",
    "onnx_io = json.dumps(\n",
    "    {\n",
    "        \"inputs\": get_onnx_inputs(onnx_inference_session),\n",
    "        \"outputs\": get_onnx_outputs(onnx_inference_session),\n",
    "    },\n",
    "    indent=2,\n",
    ")\n",
    "\n",
    "\n",
    "logger.log_artefact(\"onnx_io_structure.json\", onnx_io)\n",
    "print(onnx_io)"
   ]
  },
  {
   "cell_type": "markdown",
   "id": "98334d9f",
   "metadata": {
    "papermill": {
     "duration": 0.003999,
     "end_time": "2022-07-22T06:52:59.742833",
     "exception": false,
     "start_time": "2022-07-22T06:52:59.738834",
     "status": "completed"
    },
    "tags": []
   },
   "source": [
    "### Evaluate model performance on evaluation data set"
   ]
  },
  {
   "cell_type": "code",
   "execution_count": 9,
   "id": "c26acc14",
   "metadata": {
    "execution": {
     "iopub.execute_input": "2022-07-22T06:52:59.751745Z",
     "iopub.status.busy": "2022-07-22T06:52:59.751529Z",
     "iopub.status.idle": "2022-07-22T06:52:59.755961Z",
     "shell.execute_reply": "2022-07-22T06:52:59.755411Z"
    },
    "papermill": {
     "duration": 0.011434,
     "end_time": "2022-07-22T06:52:59.758241",
     "exception": false,
     "start_time": "2022-07-22T06:52:59.746807",
     "status": "completed"
    },
    "tags": []
   },
   "outputs": [],
   "source": [
    "# load evaluation data\n",
    "X_test = read_numpy(datalake_root(P) / \"test-data\" / \"digits.numpy\")\n",
    "y_test = read_numpy(datalake_root(P) / \"test-data\" / \"labels.numpy\")"
   ]
  },
  {
   "cell_type": "code",
   "execution_count": 10,
   "id": "551515d6",
   "metadata": {
    "execution": {
     "iopub.execute_input": "2022-07-22T06:52:59.767470Z",
     "iopub.status.busy": "2022-07-22T06:52:59.767252Z",
     "iopub.status.idle": "2022-07-22T06:52:59.779254Z",
     "shell.execute_reply": "2022-07-22T06:52:59.778610Z"
    },
    "papermill": {
     "duration": 0.018525,
     "end_time": "2022-07-22T06:52:59.780898",
     "exception": false,
     "start_time": "2022-07-22T06:52:59.762373",
     "status": "completed"
    },
    "tags": []
   },
   "outputs": [],
   "source": [
    "def get_model_outputs(X, onnx_inference_session):\n",
    "    y_pred_labels, y_pred_map = onnx_inference_session.run(\n",
    "        [\"output_label\", \"output_probability\"],\n",
    "        {\"float_input_8x8_image\": X.astype(np.float32)},\n",
    "    )\n",
    "    y_pred_probs = np.array(\n",
    "        [[probabilities[digit] for digit in range(10)] for probabilities in y_pred_map]\n",
    "    )\n",
    "\n",
    "    assert y_pred_labels.shape == (X.shape[0],)\n",
    "    assert y_pred_probs.shape == (X.shape[0], 10)\n",
    "\n",
    "    return y_pred_labels, y_pred_probs\n",
    "\n",
    "\n",
    "# Note: as shown in the training notebook, the predicted labels and probabilities\n",
    "# computed below need not be compatible.\n",
    "y_pred_labels_test, y_pred_probs_test = get_model_outputs(\n",
    "    X_test, onnx_inference_session\n",
    ")"
   ]
  },
  {
   "cell_type": "markdown",
   "id": "f07ab422",
   "metadata": {
    "papermill": {
     "duration": 0.008583,
     "end_time": "2022-07-22T06:52:59.793398",
     "exception": false,
     "start_time": "2022-07-22T06:52:59.784815",
     "status": "completed"
    },
    "tags": []
   },
   "source": [
    "### Confusion matrix"
   ]
  },
  {
   "cell_type": "code",
   "execution_count": 11,
   "id": "467b1bad",
   "metadata": {
    "execution": {
     "iopub.execute_input": "2022-07-22T06:52:59.803898Z",
     "iopub.status.busy": "2022-07-22T06:52:59.803576Z",
     "iopub.status.idle": "2022-07-22T06:52:59.806566Z",
     "shell.execute_reply": "2022-07-22T06:52:59.805999Z"
    },
    "papermill": {
     "duration": 0.010456,
     "end_time": "2022-07-22T06:52:59.808570",
     "exception": false,
     "start_time": "2022-07-22T06:52:59.798114",
     "status": "completed"
    },
    "tags": []
   },
   "outputs": [],
   "source": [
    "# TODO"
   ]
  },
  {
   "cell_type": "markdown",
   "id": "0cd49a62",
   "metadata": {
    "papermill": {
     "duration": 0.004978,
     "end_time": "2022-07-22T06:52:59.818009",
     "exception": false,
     "start_time": "2022-07-22T06:52:59.813031",
     "status": "completed"
    },
    "tags": []
   },
   "source": [
    "### Plot predicted probabilities for each classifier over all evaluation digit images"
   ]
  },
  {
   "cell_type": "code",
   "execution_count": 12,
   "id": "3219055d",
   "metadata": {
    "execution": {
     "iopub.execute_input": "2022-07-22T06:52:59.828992Z",
     "iopub.status.busy": "2022-07-22T06:52:59.828770Z",
     "iopub.status.idle": "2022-07-22T06:53:03.198818Z",
     "shell.execute_reply": "2022-07-22T06:53:03.197898Z"
    },
    "papermill": {
     "duration": 3.378446,
     "end_time": "2022-07-22T06:53:03.200922",
     "exception": false,
     "start_time": "2022-07-22T06:52:59.822476",
     "status": "completed"
    },
    "tags": []
   },
   "outputs": [
    {
     "data": {
      "image/png": "[encoded data removed]",
      "text/plain": [
       "<Figure size 1152x432 with 10 Axes>"
      ]
     },
     "metadata": {
      "needs_background": "light"
     },
     "output_type": "display_data"
    }
   ],
   "source": [
    "def plot_per_digit_probabilities(y_pred_probs):\n",
    "    fig, axs = plt.subplots(nrows=2, ncols=5, figsize=(16, 6))\n",
    "\n",
    "    for (r, c), digit, ax in zip(\n",
    "        it.product(range(2), range(5)), range(10), axs.reshape(-1)\n",
    "    ):\n",
    "        ax.hist(y_pred_probs_test[:, digit], bins=20)\n",
    "\n",
    "        ax.set_title(f\"Digit {digit}\")\n",
    "        if r == 1 and c == 2:\n",
    "            ax.set_xlabel(\"probability\", fontsize=16)\n",
    "\n",
    "        if c == 0:\n",
    "            ax.set_ylabel(\"counts\", fontsize=16)\n",
    "        ax.set_yscale(\"log\")\n",
    "\n",
    "    fig.tight_layout()\n",
    "    fig.suptitle(\n",
    "        f\"Distributions of prediction probabilities for each digit \"\n",
    "        f\"(on evaluation data, n={y_pred_probs.shape[0]})\",\n",
    "        fontsize=20,\n",
    "    )\n",
    "    fig.tight_layout()\n",
    "    fig.show()\n",
    "\n",
    "    return fig\n",
    "\n",
    "\n",
    "fig = plot_per_digit_probabilities(y_pred_probs_test)"
   ]
  },
  {
   "cell_type": "markdown",
   "id": "36032f2f",
   "metadata": {
    "papermill": {
     "duration": 0.012327,
     "end_time": "2022-07-22T06:53:03.219015",
     "exception": false,
     "start_time": "2022-07-22T06:53:03.206688",
     "status": "completed"
    },
    "tags": []
   },
   "source": [
    "From the above distributions we see that most digits have clear separation between\n",
    "high and lower probabilities. Morover, in each case there is roughly an order of\n",
    "magnitude more of digits with low probabilities. This is compatible with digits\n",
    "being roughly evenly distributed in the data."
   ]
  },
  {
   "cell_type": "code",
   "execution_count": 13,
   "id": "9eae584a",
   "metadata": {
    "execution": {
     "iopub.execute_input": "2022-07-22T06:53:03.231825Z",
     "iopub.status.busy": "2022-07-22T06:53:03.231048Z",
     "iopub.status.idle": "2022-07-22T06:53:03.713519Z",
     "shell.execute_reply": "2022-07-22T06:53:03.712653Z"
    },
    "papermill": {
     "duration": 0.491906,
     "end_time": "2022-07-22T06:53:03.715740",
     "exception": false,
     "start_time": "2022-07-22T06:53:03.223834",
     "status": "completed"
    },
    "tags": []
   },
   "outputs": [],
   "source": [
    "logger.log_figure(\"per-digit-probabilities.png\", fig)"
   ]
  },
  {
   "cell_type": "markdown",
   "id": "e97b7d81",
   "metadata": {
    "papermill": {
     "duration": 0.012794,
     "end_time": "2022-07-22T06:53:03.735114",
     "exception": false,
     "start_time": "2022-07-22T06:53:03.722320",
     "status": "completed"
    },
    "tags": []
   },
   "source": [
    "### Plot ROC curves for individual one-vs-rest classifiers"
   ]
  },
  {
   "cell_type": "code",
   "execution_count": 14,
   "id": "9089645c",
   "metadata": {
    "execution": {
     "iopub.execute_input": "2022-07-22T06:53:03.754481Z",
     "iopub.status.busy": "2022-07-22T06:53:03.754212Z",
     "iopub.status.idle": "2022-07-22T06:53:04.196204Z",
     "shell.execute_reply": "2022-07-22T06:53:04.195369Z"
    },
    "papermill": {
     "duration": 0.450983,
     "end_time": "2022-07-22T06:53:04.198535",
     "exception": false,
     "start_time": "2022-07-22T06:53:03.747552",
     "status": "completed"
    },
    "tags": []
   },
   "outputs": [],
   "source": [
    "from sklearn import metrics"
   ]
  },
  {
   "cell_type": "code",
   "execution_count": 15,
   "id": "e2cab128",
   "metadata": {
    "execution": {
     "iopub.execute_input": "2022-07-22T06:53:04.214388Z",
     "iopub.status.busy": "2022-07-22T06:53:04.214027Z",
     "iopub.status.idle": "2022-07-22T06:53:05.344127Z",
     "shell.execute_reply": "2022-07-22T06:53:05.343480Z"
    },
    "papermill": {
     "duration": 1.139653,
     "end_time": "2022-07-22T06:53:05.345988",
     "exception": false,
     "start_time": "2022-07-22T06:53:04.206335",
     "status": "completed"
    },
    "tags": []
   },
   "outputs": [
    {
     "data": {
      "image/png": "[encoded data removed]",
      "text/plain": [
       "<Figure size 1152x576 with 10 Axes>"
      ]
     },
     "metadata": {
      "needs_background": "light"
     },
     "output_type": "display_data"
    }
   ],
   "source": [
    "def plot_roc_curves(y, y_pred_probs):\n",
    "    # based on example code\n",
    "    # https://scikit-learn.org/stable/auto_examples/model_selection/plot_roc.html\n",
    "\n",
    "    fig, axs = plt.subplots(nrows=2, ncols=5, figsize=(16, 8))\n",
    "\n",
    "    roc_auc_dict = {}\n",
    "\n",
    "    for (r, c), digit, ax in zip(\n",
    "        it.product(range(2), range(5)), range(10), axs.reshape(-1)\n",
    "    ):\n",
    "        fpr, tpr, _ = metrics.roc_curve(y == digit, y_pred_probs[:, digit])\n",
    "        auc = metrics.auc(fpr, tpr)\n",
    "        roc_auc_dict[str(digit)] = auc\n",
    "\n",
    "        ax.plot(fpr, tpr, label=f\"ROC AUC={round(auc, 3)}\")\n",
    "\n",
    "        ax.set_title(f\"\\nDigit {digit}\", fontsize=16)\n",
    "        if r == 1:\n",
    "            ax.set_xlabel(\"FPR\", fontsize=18)\n",
    "\n",
    "        if c == 0:\n",
    "            ax.set_ylabel(\"TPR\", fontsize=18)\n",
    "\n",
    "        ax.set_xlim([-0.05, 1.05])\n",
    "        ax.set_ylim([-0.05, 1.05])\n",
    "        ax.legend(loc=\"lower right\", frameon=False, fontsize=14)\n",
    "\n",
    "    fig.tight_layout()\n",
    "    fig.suptitle(\n",
    "        f\"ROC plots for one-vs-rest performances \"\n",
    "        f\"(on evaluation data, n={y_pred_probs_test.shape[1]}\",\n",
    "        fontsize=22,\n",
    "    )\n",
    "    fig.tight_layout()\n",
    "    fig.show()\n",
    "\n",
    "    return roc_auc_dict, fig\n",
    "\n",
    "\n",
    "roc_auc_dict, fig = plot_roc_curves(y_test, y_pred_probs_test)"
   ]
  },
  {
   "cell_type": "code",
   "execution_count": 16,
   "id": "035ab68b",
   "metadata": {
    "execution": {
     "iopub.execute_input": "2022-07-22T06:53:05.359623Z",
     "iopub.status.busy": "2022-07-22T06:53:05.358833Z",
     "iopub.status.idle": "2022-07-22T06:53:05.596378Z",
     "shell.execute_reply": "2022-07-22T06:53:05.595542Z"
    },
    "papermill": {
     "duration": 0.246955,
     "end_time": "2022-07-22T06:53:05.599342",
     "exception": false,
     "start_time": "2022-07-22T06:53:05.352387",
     "status": "completed"
    },
    "tags": []
   },
   "outputs": [],
   "source": [
    "logger.log_figure(\"per-digit-roc-curves.png\", fig)"
   ]
  },
  {
   "cell_type": "code",
   "execution_count": 17,
   "id": "245a2e04",
   "metadata": {
    "execution": {
     "iopub.execute_input": "2022-07-22T06:53:05.617228Z",
     "iopub.status.busy": "2022-07-22T06:53:05.616875Z",
     "iopub.status.idle": "2022-07-22T06:53:05.622092Z",
     "shell.execute_reply": "2022-07-22T06:53:05.621544Z"
    },
    "papermill": {
     "duration": 0.019034,
     "end_time": "2022-07-22T06:53:05.625558",
     "exception": false,
     "start_time": "2022-07-22T06:53:05.606524",
     "status": "completed"
    },
    "tags": []
   },
   "outputs": [
    {
     "data": {
      "text/plain": [
       "{'0': 1.0,\n",
       " '1': 0.9992877225866916,\n",
       " '2': 1.0,\n",
       " '3': 0.9997375820056232,\n",
       " '4': 0.9991617131534827,\n",
       " '5': 0.999025304592315,\n",
       " '6': 0.999923792104862,\n",
       " '7': 0.9998475842097241,\n",
       " '8': 0.9947588272383354,\n",
       " '9': 0.9989330894680689}"
      ]
     },
     "execution_count": 17,
     "metadata": {},
     "output_type": "execute_result"
    }
   ],
   "source": [
    "roc_auc_dict"
   ]
  },
  {
   "cell_type": "code",
   "execution_count": 18,
   "id": "1a28850f",
   "metadata": {
    "execution": {
     "iopub.execute_input": "2022-07-22T06:53:05.638030Z",
     "iopub.status.busy": "2022-07-22T06:53:05.637807Z",
     "iopub.status.idle": "2022-07-22T06:53:05.642241Z",
     "shell.execute_reply": "2022-07-22T06:53:05.641533Z"
    },
    "papermill": {
     "duration": 0.013447,
     "end_time": "2022-07-22T06:53:05.644834",
     "exception": false,
     "start_time": "2022-07-22T06:53:05.631387",
     "status": "completed"
    },
    "tags": []
   },
   "outputs": [
    {
     "name": "stdout",
     "output_type": "stream",
     "text": [
      " - Logging roc_auc_per_digit (json) : {'0': 1.0, '1': 0.9992877225866916, '2': 1.0, '3': 0.9997375820056232, '4': 0.9991617131534827, '5': 0.999025304592315, '6': 0.999923792104862, '7': 0.9998475842097241, '8': 0.9947588272383354, '9': 0.9989330894680689}\n"
     ]
    }
   ],
   "source": [
    "logger.log_value(\"roc_auc_per_digit\", roc_auc_dict)"
   ]
  },
  {
   "cell_type": "markdown",
   "id": "24d4d53e",
   "metadata": {
    "papermill": {
     "duration": 0.005546,
     "end_time": "2022-07-22T06:53:05.656142",
     "exception": false,
     "start_time": "2022-07-22T06:53:05.650596",
     "status": "completed"
    },
    "tags": []
   },
   "source": [
    "### Compute and log mean ROC AUC score averaged over all digits"
   ]
  },
  {
   "cell_type": "code",
   "execution_count": 19,
   "id": "db40f8d7",
   "metadata": {
    "execution": {
     "iopub.execute_input": "2022-07-22T06:53:05.668314Z",
     "iopub.status.busy": "2022-07-22T06:53:05.668013Z",
     "iopub.status.idle": "2022-07-22T06:53:05.681742Z",
     "shell.execute_reply": "2022-07-22T06:53:05.680666Z"
    },
    "papermill": {
     "duration": 0.021713,
     "end_time": "2022-07-22T06:53:05.683670",
     "exception": false,
     "start_time": "2022-07-22T06:53:05.661957",
     "status": "completed"
    },
    "tags": []
   },
   "outputs": [
    {
     "name": "stdout",
     "output_type": "stream",
     "text": [
      " - Logging roc_auc_class_mean (float) : 0.9990675615359104\n"
     ]
    }
   ],
   "source": [
    "roc_auc_macro = np.mean(list(roc_auc_dict.values()))\n",
    "\n",
    "logger.log_float(\"roc_auc_class_mean\", roc_auc_macro)\n",
    "\n",
    "# assert that the same value can be computed directly using sklearn\n",
    "assert roc_auc_macro == metrics.roc_auc_score(\n",
    "    y_test, y_pred_probs_test, average=\"macro\", multi_class=\"ovr\"\n",
    ")"
   ]
  },
  {
   "cell_type": "code",
   "execution_count": 20,
   "id": "52528d16",
   "metadata": {
    "execution": {
     "iopub.execute_input": "2022-07-22T06:53:05.701441Z",
     "iopub.status.busy": "2022-07-22T06:53:05.700921Z",
     "iopub.status.idle": "2022-07-22T06:53:05.704255Z",
     "shell.execute_reply": "2022-07-22T06:53:05.703546Z"
    },
    "lines_to_next_cell": 0,
    "papermill": {
     "duration": 0.01178,
     "end_time": "2022-07-22T06:53:05.706196",
     "exception": false,
     "start_time": "2022-07-22T06:53:05.694416",
     "status": "completed"
    },
    "tags": []
   },
   "outputs": [],
   "source": [
    "# ---"
   ]
  },
  {
   "cell_type": "code",
   "execution_count": null,
   "id": "c0f3a722",
   "metadata": {
    "papermill": {
     "duration": 0.005826,
     "end_time": "2022-07-22T06:53:05.717698",
     "exception": false,
     "start_time": "2022-07-22T06:53:05.711872",
     "status": "completed"
    },
    "tags": []
   },
   "outputs": [],
   "source": []
  }
 ],
 "metadata": {
  "jupytext": {
   "cell_metadata_filter": "tags,-all",
   "main_language": "python",
   "notebook_metadata_filter": "-all"
  },
  "language_info": {
   "codemirror_mode": {
    "name": "ipython",
    "version": 3
   },
   "file_extension": ".py",
   "mimetype": "text/x-python",
   "name": "python",
   "nbconvert_exporter": "python",
   "pygments_lexer": "ipython3",
   "version": "3.8.10"
  },
  "papermill": {
   "default_parameters": {},
   "duration": 9.862197,
   "end_time": "2022-07-22T06:53:06.908005",
   "environment_variables": {},
   "exception": null,
   "input_path": "/home/host_user/workspace/mnist-demo-pipeline/mnist-demo-pipeline/notebooks/temp-notebook-mkqh3vcn.ipynb",
   "output_path": "notebooks/benchmark-model.ipynb",
   "parameters": {
    "P": {
     "_opentelemetry_traceparent": "00-c6d8e1047d2497021b7d7ebb10256a7c-833e18b205c9654b-01",
     "pipeline.data_lake_root": "/pipeline-outputs/data-lake",
     "pipeline.github.actor": "matiasdahl",
     "pipeline.github.base_ref": "",
     "pipeline.github.event_name": "schedule",
     "pipeline.github.head_ref": "",
     "pipeline.github.job": "run-tests-pipeline-and-persist-pipeline-outputs",
     "pipeline.github.ref": "refs/heads/development",
     "pipeline.github.ref_name": "development",
     "pipeline.github.ref_type": "branch",
     "pipeline.github.repository": "pynb-dag-runner/mnist-digits-demo-pipeline",
     "pipeline.github.run_id": "2716826811",
     "pipeline.github.runner_name": "Hosted Agent",
     "pipeline.github.sha": "5a6f90a9473b3095841d5b5dc7b58f5f049a0f71",
     "pipeline.github.workflow": "Run automated tests, pipeline and deploy results to static reporting site",
     "pipeline.pipeline_run_id": "6de65c62-ad94-4813-b4d0-73ede8e01725",
     "pipeline.run_environment": "ci",
     "run.retry_nr": "0",
     "task.max_nr_retries": "1",
     "task.notebook": "notebooks/benchmark-model.py",
     "task.nr_train_images": 600,
     "task.num_cpus": 1,
     "task.timeout_s": "None"
    }
   },
   "start_time": "2022-07-22T06:52:57.045808",
   "version": "2.3.3"
  }
 },
 "nbformat": 4,
 "nbformat_minor": 5
}