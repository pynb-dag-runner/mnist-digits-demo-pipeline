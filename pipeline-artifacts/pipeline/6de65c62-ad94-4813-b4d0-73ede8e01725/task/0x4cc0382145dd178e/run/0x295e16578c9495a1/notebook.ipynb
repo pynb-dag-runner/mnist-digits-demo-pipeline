{
 "cells": [
  {
   "cell_type": "markdown",
   "id": "13b4269a",
   "metadata": {
    "papermill": {
     "duration": 0.009333,
     "end_time": "2022-07-22T06:53:13.970733",
     "exception": false,
     "start_time": "2022-07-22T06:53:13.961400",
     "status": "completed"
    },
    "tags": []
   },
   "source": [
    "# Benchmark model\n",
    "\n",
    "The purpose of this notebook is to benchmark persisted onnx-model (trained in the\n",
    "previous step) against evaluation set."
   ]
  },
  {
   "cell_type": "markdown",
   "id": "2f584053",
   "metadata": {
    "papermill": {
     "duration": 0.004148,
     "end_time": "2022-07-22T06:53:13.980097",
     "exception": false,
     "start_time": "2022-07-22T06:53:13.975949",
     "status": "completed"
    },
    "tags": []
   },
   "source": [
    "### Determine run parameters"
   ]
  },
  {
   "cell_type": "code",
   "execution_count": 1,
   "id": "96824a55",
   "metadata": {
    "execution": {
     "iopub.execute_input": "2022-07-22T06:53:13.990679Z",
     "iopub.status.busy": "2022-07-22T06:53:13.989895Z",
     "iopub.status.idle": "2022-07-22T06:53:13.998541Z",
     "shell.execute_reply": "2022-07-22T06:53:13.997962Z"
    },
    "lines_to_next_cell": 0,
    "papermill": {
     "duration": 0.017183,
     "end_time": "2022-07-22T06:53:14.001372",
     "exception": false,
     "start_time": "2022-07-22T06:53:13.984189",
     "status": "completed"
    },
    "tags": []
   },
   "outputs": [],
   "source": [
    "# ----------------- Parameters for interactive development --------------\n",
    "P = {\n",
    "    \"pipeline.data_lake_root\": \"/pipeline-outputs/data-lake\",\n",
    "    \"task.nr_train_images\": 600,\n",
    "}"
   ]
  },
  {
   "cell_type": "code",
   "execution_count": 2,
   "id": "99b3f054",
   "metadata": {
    "execution": {
     "iopub.execute_input": "2022-07-22T06:53:14.012111Z",
     "iopub.status.busy": "2022-07-22T06:53:14.011884Z",
     "iopub.status.idle": "2022-07-22T06:53:14.014922Z",
     "shell.execute_reply": "2022-07-22T06:53:14.014371Z"
    },
    "lines_to_next_cell": 0,
    "papermill": {
     "duration": 0.011968,
     "end_time": "2022-07-22T06:53:14.017914",
     "exception": false,
     "start_time": "2022-07-22T06:53:14.005946",
     "status": "completed"
    },
    "tags": [
     "parameters"
    ]
   },
   "outputs": [],
   "source": [
    "# - During automated runs parameters will be injected in the below cell -"
   ]
  },
  {
   "cell_type": "code",
   "execution_count": 3,
   "id": "b2f36ade",
   "metadata": {
    "execution": {
     "iopub.execute_input": "2022-07-22T06:53:14.028132Z",
     "iopub.status.busy": "2022-07-22T06:53:14.027906Z",
     "iopub.status.idle": "2022-07-22T06:53:14.033581Z",
     "shell.execute_reply": "2022-07-22T06:53:14.033015Z"
    },
    "papermill": {
     "duration": 0.014332,
     "end_time": "2022-07-22T06:53:14.036692",
     "exception": false,
     "start_time": "2022-07-22T06:53:14.022360",
     "status": "completed"
    },
    "tags": [
     "injected-parameters"
    ]
   },
   "outputs": [],
   "source": [
    "# Parameters\n",
    "P = {\n",
    "    \"pipeline.data_lake_root\": \"/pipeline-outputs/data-lake\",\n",
    "    \"pipeline.run_environment\": \"ci\",\n",
    "    \"pipeline.pipeline_run_id\": \"6de65c62-ad94-4813-b4d0-73ede8e01725\",\n",
    "    \"pipeline.github.repository\": \"pynb-dag-runner/mnist-digits-demo-pipeline\",\n",
    "    \"pipeline.github.workflow\": \"Run automated tests, pipeline and deploy results to static reporting site\",\n",
    "    \"pipeline.github.runner_name\": \"Hosted Agent\",\n",
    "    \"pipeline.github.run_id\": \"2716826811\",\n",
    "    \"pipeline.github.actor\": \"matiasdahl\",\n",
    "    \"pipeline.github.job\": \"run-tests-pipeline-and-persist-pipeline-outputs\",\n",
    "    \"pipeline.github.base_ref\": \"\",\n",
    "    \"pipeline.github.head_ref\": \"\",\n",
    "    \"pipeline.github.sha\": \"5a6f90a9473b3095841d5b5dc7b58f5f049a0f71\",\n",
    "    \"pipeline.github.ref\": \"refs/heads/development\",\n",
    "    \"pipeline.github.ref_type\": \"branch\",\n",
    "    \"pipeline.github.ref_name\": \"development\",\n",
    "    \"pipeline.github.event_name\": \"schedule\",\n",
    "    \"task.nr_train_images\": 1200,\n",
    "    \"task.notebook\": \"notebooks/benchmark-model.py\",\n",
    "    \"task.max_nr_retries\": \"1\",\n",
    "    \"run.retry_nr\": \"0\",\n",
    "    \"task.timeout_s\": \"None\",\n",
    "    \"task.num_cpus\": 1,\n",
    "    \"_opentelemetry_traceparent\": \"00-c6d8e1047d2497021b7d7ebb10256a7c-4dd545098b0e1109-01\",\n",
    "}\n"
   ]
  },
  {
   "cell_type": "code",
   "execution_count": 4,
   "id": "cb81ce07",
   "metadata": {
    "execution": {
     "iopub.execute_input": "2022-07-22T06:53:14.046049Z",
     "iopub.status.busy": "2022-07-22T06:53:14.045811Z",
     "iopub.status.idle": "2022-07-22T06:53:14.051927Z",
     "shell.execute_reply": "2022-07-22T06:53:14.048275Z"
    },
    "lines_to_next_cell": 0,
    "papermill": {
     "duration": 0.018356,
     "end_time": "2022-07-22T06:53:14.059010",
     "exception": false,
     "start_time": "2022-07-22T06:53:14.040654",
     "status": "completed"
    },
    "tags": []
   },
   "outputs": [],
   "source": [
    "# -----------------------------------------------------------------------"
   ]
  },
  {
   "cell_type": "markdown",
   "id": "3e0ca522",
   "metadata": {
    "papermill": {
     "duration": 0.006302,
     "end_time": "2022-07-22T06:53:14.070078",
     "exception": false,
     "start_time": "2022-07-22T06:53:14.063776",
     "status": "completed"
    },
    "tags": []
   },
   "source": [
    "---"
   ]
  },
  {
   "cell_type": "markdown",
   "id": "67af4f77",
   "metadata": {
    "lines_to_next_cell": 2,
    "papermill": {
     "duration": 0.004429,
     "end_time": "2022-07-22T06:53:14.078418",
     "exception": false,
     "start_time": "2022-07-22T06:53:14.073989",
     "status": "completed"
    },
    "tags": []
   },
   "source": [
    "### Notebook code"
   ]
  },
  {
   "cell_type": "code",
   "execution_count": 5,
   "id": "1f08a872",
   "metadata": {
    "execution": {
     "iopub.execute_input": "2022-07-22T06:53:14.089205Z",
     "iopub.status.busy": "2022-07-22T06:53:14.088975Z",
     "iopub.status.idle": "2022-07-22T06:53:15.398850Z",
     "shell.execute_reply": "2022-07-22T06:53:15.397897Z"
    },
    "papermill": {
     "duration": 1.319105,
     "end_time": "2022-07-22T06:53:15.401894",
     "exception": false,
     "start_time": "2022-07-22T06:53:14.082789",
     "status": "completed"
    },
    "tags": []
   },
   "outputs": [
    {
     "name": "stderr",
     "output_type": "stream",
     "text": [
      "2022-07-22 06:53:15,212\tINFO worker.py:842 -- Connecting to existing Ray cluster at address: 172.17.0.2:6379\n"
     ]
    }
   ],
   "source": [
    "import itertools as it\n",
    "\n",
    "#\n",
    "import numpy as np\n",
    "import matplotlib.pyplot as plt\n",
    "\n",
    "#\n",
    "from pynb_dag_runner.tasks.task_opentelemetry_logging import PydarLogger\n",
    "\n",
    "#\n",
    "from common.io import datalake_root\n",
    "\n",
    "logger = PydarLogger(P)"
   ]
  },
  {
   "cell_type": "markdown",
   "id": "88fa7c59",
   "metadata": {
    "papermill": {
     "duration": 0.004213,
     "end_time": "2022-07-22T06:53:15.411355",
     "exception": false,
     "start_time": "2022-07-22T06:53:15.407142",
     "status": "completed"
    },
    "tags": []
   },
   "source": [
    "## Load persisted onnx-model and evaluation data"
   ]
  },
  {
   "cell_type": "code",
   "execution_count": 6,
   "id": "fc099fd0",
   "metadata": {
    "execution": {
     "iopub.execute_input": "2022-07-22T06:53:15.421433Z",
     "iopub.status.busy": "2022-07-22T06:53:15.420971Z",
     "iopub.status.idle": "2022-07-22T06:53:15.424951Z",
     "shell.execute_reply": "2022-07-22T06:53:15.424258Z"
    },
    "papermill": {
     "duration": 0.011233,
     "end_time": "2022-07-22T06:53:15.426964",
     "exception": false,
     "start_time": "2022-07-22T06:53:15.415731",
     "status": "completed"
    },
    "tags": []
   },
   "outputs": [],
   "source": [
    "from common.io import read_onnx, get_onnx_inputs, get_onnx_outputs, read_numpy"
   ]
  },
  {
   "cell_type": "code",
   "execution_count": 7,
   "id": "53840b63",
   "metadata": {
    "execution": {
     "iopub.execute_input": "2022-07-22T06:53:15.436909Z",
     "iopub.status.busy": "2022-07-22T06:53:15.436686Z",
     "iopub.status.idle": "2022-07-22T06:53:15.447742Z",
     "shell.execute_reply": "2022-07-22T06:53:15.447194Z"
    },
    "lines_to_next_cell": 0,
    "papermill": {
     "duration": 0.017762,
     "end_time": "2022-07-22T06:53:15.449411",
     "exception": false,
     "start_time": "2022-07-22T06:53:15.431649",
     "status": "completed"
    },
    "tags": []
   },
   "outputs": [],
   "source": [
    "onnx_inference_session = read_onnx(\n",
    "    datalake_root(P)\n",
    "    / \"models\"\n",
    "    / f\"nr_train_images={P['task.nr_train_images']}\"\n",
    "    / \"model.onnx\"\n",
    ")"
   ]
  },
  {
   "cell_type": "markdown",
   "id": "217a2f4c",
   "metadata": {
    "papermill": {
     "duration": 0.004199,
     "end_time": "2022-07-22T06:53:15.457988",
     "exception": false,
     "start_time": "2022-07-22T06:53:15.453789",
     "status": "completed"
    },
    "tags": []
   },
   "source": [
    "### Record structure of inputs and outputs for ONNX model\n",
    "\n",
    "(this should likely be done in training notebook)"
   ]
  },
  {
   "cell_type": "code",
   "execution_count": 8,
   "id": "2dc3d30b",
   "metadata": {
    "execution": {
     "iopub.execute_input": "2022-07-22T06:53:15.468020Z",
     "iopub.status.busy": "2022-07-22T06:53:15.467457Z",
     "iopub.status.idle": "2022-07-22T06:53:15.472768Z",
     "shell.execute_reply": "2022-07-22T06:53:15.472216Z"
    },
    "papermill": {
     "duration": 0.014079,
     "end_time": "2022-07-22T06:53:15.476216",
     "exception": false,
     "start_time": "2022-07-22T06:53:15.462137",
     "status": "completed"
    },
    "tags": []
   },
   "outputs": [
    {
     "name": "stdout",
     "output_type": "stream",
     "text": [
      "{\n",
      "  \"inputs\": [\n",
      "    {\n",
      "      \"name\": \"float_input_8x8_image\",\n",
      "      \"shape\": [\n",
      "        null,\n",
      "        64\n",
      "      ],\n",
      "      \"type\": \"tensor(float)\"\n",
      "    }\n",
      "  ],\n",
      "  \"outputs\": [\n",
      "    {\n",
      "      \"name\": \"output_label\",\n",
      "      \"shape\": [\n",
      "        null\n",
      "      ],\n",
      "      \"type\": \"tensor(int64)\"\n",
      "    },\n",
      "    {\n",
      "      \"name\": \"output_probability\",\n",
      "      \"shape\": [],\n",
      "      \"type\": \"seq(map(int64,tensor(float)))\"\n",
      "    }\n",
      "  ]\n",
      "}\n"
     ]
    }
   ],
   "source": [
    "import json\n",
    "\n",
    "onnx_io = json.dumps(\n",
    "    {\n",
    "        \"inputs\": get_onnx_inputs(onnx_inference_session),\n",
    "        \"outputs\": get_onnx_outputs(onnx_inference_session),\n",
    "    },\n",
    "    indent=2,\n",
    ")\n",
    "\n",
    "\n",
    "logger.log_artefact(\"onnx_io_structure.json\", onnx_io)\n",
    "print(onnx_io)"
   ]
  },
  {
   "cell_type": "markdown",
   "id": "b92af56e",
   "metadata": {
    "papermill": {
     "duration": 0.004134,
     "end_time": "2022-07-22T06:53:15.484451",
     "exception": false,
     "start_time": "2022-07-22T06:53:15.480317",
     "status": "completed"
    },
    "tags": []
   },
   "source": [
    "### Evaluate model performance on evaluation data set"
   ]
  },
  {
   "cell_type": "code",
   "execution_count": 9,
   "id": "0db0e4ab",
   "metadata": {
    "execution": {
     "iopub.execute_input": "2022-07-22T06:53:15.493806Z",
     "iopub.status.busy": "2022-07-22T06:53:15.493567Z",
     "iopub.status.idle": "2022-07-22T06:53:15.498499Z",
     "shell.execute_reply": "2022-07-22T06:53:15.497924Z"
    },
    "papermill": {
     "duration": 0.012201,
     "end_time": "2022-07-22T06:53:15.500869",
     "exception": false,
     "start_time": "2022-07-22T06:53:15.488668",
     "status": "completed"
    },
    "tags": []
   },
   "outputs": [],
   "source": [
    "# load evaluation data\n",
    "X_test = read_numpy(datalake_root(P) / \"test-data\" / \"digits.numpy\")\n",
    "y_test = read_numpy(datalake_root(P) / \"test-data\" / \"labels.numpy\")"
   ]
  },
  {
   "cell_type": "code",
   "execution_count": 10,
   "id": "4a88211a",
   "metadata": {
    "execution": {
     "iopub.execute_input": "2022-07-22T06:53:15.517289Z",
     "iopub.status.busy": "2022-07-22T06:53:15.516932Z",
     "iopub.status.idle": "2022-07-22T06:53:15.531942Z",
     "shell.execute_reply": "2022-07-22T06:53:15.531372Z"
    },
    "papermill": {
     "duration": 0.023893,
     "end_time": "2022-07-22T06:53:15.533585",
     "exception": false,
     "start_time": "2022-07-22T06:53:15.509692",
     "status": "completed"
    },
    "tags": []
   },
   "outputs": [],
   "source": [
    "def get_model_outputs(X, onnx_inference_session):\n",
    "    y_pred_labels, y_pred_map = onnx_inference_session.run(\n",
    "        [\"output_label\", \"output_probability\"],\n",
    "        {\"float_input_8x8_image\": X.astype(np.float32)},\n",
    "    )\n",
    "    y_pred_probs = np.array(\n",
    "        [[probabilities[digit] for digit in range(10)] for probabilities in y_pred_map]\n",
    "    )\n",
    "\n",
    "    assert y_pred_labels.shape == (X.shape[0],)\n",
    "    assert y_pred_probs.shape == (X.shape[0], 10)\n",
    "\n",
    "    return y_pred_labels, y_pred_probs\n",
    "\n",
    "\n",
    "# Note: as shown in the training notebook, the predicted labels and probabilities\n",
    "# computed below need not be compatible.\n",
    "y_pred_labels_test, y_pred_probs_test = get_model_outputs(\n",
    "    X_test, onnx_inference_session\n",
    ")"
   ]
  },
  {
   "cell_type": "markdown",
   "id": "03206373",
   "metadata": {
    "papermill": {
     "duration": 0.005062,
     "end_time": "2022-07-22T06:53:15.543047",
     "exception": false,
     "start_time": "2022-07-22T06:53:15.537985",
     "status": "completed"
    },
    "tags": []
   },
   "source": [
    "### Confusion matrix"
   ]
  },
  {
   "cell_type": "code",
   "execution_count": 11,
   "id": "d867cf8f",
   "metadata": {
    "execution": {
     "iopub.execute_input": "2022-07-22T06:53:15.552426Z",
     "iopub.status.busy": "2022-07-22T06:53:15.552191Z",
     "iopub.status.idle": "2022-07-22T06:53:15.555011Z",
     "shell.execute_reply": "2022-07-22T06:53:15.554433Z"
    },
    "papermill": {
     "duration": 0.01042,
     "end_time": "2022-07-22T06:53:15.557397",
     "exception": false,
     "start_time": "2022-07-22T06:53:15.546977",
     "status": "completed"
    },
    "tags": []
   },
   "outputs": [],
   "source": [
    "# TODO"
   ]
  },
  {
   "cell_type": "markdown",
   "id": "8b2e0a6d",
   "metadata": {
    "papermill": {
     "duration": 0.004001,
     "end_time": "2022-07-22T06:53:15.566121",
     "exception": false,
     "start_time": "2022-07-22T06:53:15.562120",
     "status": "completed"
    },
    "tags": []
   },
   "source": [
    "### Plot predicted probabilities for each classifier over all evaluation digit images"
   ]
  },
  {
   "cell_type": "code",
   "execution_count": 12,
   "id": "c0e25278",
   "metadata": {
    "execution": {
     "iopub.execute_input": "2022-07-22T06:53:15.575812Z",
     "iopub.status.busy": "2022-07-22T06:53:15.575563Z",
     "iopub.status.idle": "2022-07-22T06:53:18.734483Z",
     "shell.execute_reply": "2022-07-22T06:53:18.733748Z"
    },
    "papermill": {
     "duration": 3.166071,
     "end_time": "2022-07-22T06:53:18.736264",
     "exception": false,
     "start_time": "2022-07-22T06:53:15.570193",
     "status": "completed"
    },
    "tags": []
   },
   "outputs": [
    {
     "data": {
      "image/png": "[encoded data removed]",
      "text/plain": [
       "<Figure size 1152x432 with 10 Axes>"
      ]
     },
     "metadata": {
      "needs_background": "light"
     },
     "output_type": "display_data"
    }
   ],
   "source": [
    "def plot_per_digit_probabilities(y_pred_probs):\n",
    "    fig, axs = plt.subplots(nrows=2, ncols=5, figsize=(16, 6))\n",
    "\n",
    "    for (r, c), digit, ax in zip(\n",
    "        it.product(range(2), range(5)), range(10), axs.reshape(-1)\n",
    "    ):\n",
    "        ax.hist(y_pred_probs_test[:, digit], bins=20)\n",
    "\n",
    "        ax.set_title(f\"Digit {digit}\")\n",
    "        if r == 1 and c == 2:\n",
    "            ax.set_xlabel(\"probability\", fontsize=16)\n",
    "\n",
    "        if c == 0:\n",
    "            ax.set_ylabel(\"counts\", fontsize=16)\n",
    "        ax.set_yscale(\"log\")\n",
    "\n",
    "    fig.tight_layout()\n",
    "    fig.suptitle(\n",
    "        f\"Distributions of prediction probabilities for each digit \"\n",
    "        f\"(on evaluation data, n={y_pred_probs.shape[0]})\",\n",
    "        fontsize=20,\n",
    "    )\n",
    "    fig.tight_layout()\n",
    "    fig.show()\n",
    "\n",
    "    return fig\n",
    "\n",
    "\n",
    "fig = plot_per_digit_probabilities(y_pred_probs_test)"
   ]
  },
  {
   "cell_type": "markdown",
   "id": "3c3a4740",
   "metadata": {
    "papermill": {
     "duration": 0.005123,
     "end_time": "2022-07-22T06:53:18.746834",
     "exception": false,
     "start_time": "2022-07-22T06:53:18.741711",
     "status": "completed"
    },
    "tags": []
   },
   "source": [
    "From the above distributions we see that most digits have clear separation between\n",
    "high and lower probabilities. Morover, in each case there is roughly an order of\n",
    "magnitude more of digits with low probabilities. This is compatible with digits\n",
    "being roughly evenly distributed in the data."
   ]
  },
  {
   "cell_type": "code",
   "execution_count": 13,
   "id": "e5f22d4f",
   "metadata": {
    "execution": {
     "iopub.execute_input": "2022-07-22T06:53:18.758693Z",
     "iopub.status.busy": "2022-07-22T06:53:18.758404Z",
     "iopub.status.idle": "2022-07-22T06:53:19.178033Z",
     "shell.execute_reply": "2022-07-22T06:53:19.177056Z"
    },
    "papermill": {
     "duration": 0.427448,
     "end_time": "2022-07-22T06:53:19.180091",
     "exception": false,
     "start_time": "2022-07-22T06:53:18.752643",
     "status": "completed"
    },
    "tags": []
   },
   "outputs": [],
   "source": [
    "logger.log_figure(\"per-digit-probabilities.png\", fig)"
   ]
  },
  {
   "cell_type": "markdown",
   "id": "04bdea51",
   "metadata": {
    "papermill": {
     "duration": 0.005155,
     "end_time": "2022-07-22T06:53:19.190582",
     "exception": false,
     "start_time": "2022-07-22T06:53:19.185427",
     "status": "completed"
    },
    "tags": []
   },
   "source": [
    "### Plot ROC curves for individual one-vs-rest classifiers"
   ]
  },
  {
   "cell_type": "code",
   "execution_count": 14,
   "id": "04e6aad4",
   "metadata": {
    "execution": {
     "iopub.execute_input": "2022-07-22T06:53:19.201659Z",
     "iopub.status.busy": "2022-07-22T06:53:19.201394Z",
     "iopub.status.idle": "2022-07-22T06:53:19.608736Z",
     "shell.execute_reply": "2022-07-22T06:53:19.607121Z"
    },
    "papermill": {
     "duration": 0.415739,
     "end_time": "2022-07-22T06:53:19.611002",
     "exception": false,
     "start_time": "2022-07-22T06:53:19.195263",
     "status": "completed"
    },
    "tags": []
   },
   "outputs": [],
   "source": [
    "from sklearn import metrics"
   ]
  },
  {
   "cell_type": "code",
   "execution_count": 15,
   "id": "b61f34fb",
   "metadata": {
    "execution": {
     "iopub.execute_input": "2022-07-22T06:53:19.628880Z",
     "iopub.status.busy": "2022-07-22T06:53:19.628618Z",
     "iopub.status.idle": "2022-07-22T06:53:20.615910Z",
     "shell.execute_reply": "2022-07-22T06:53:20.615185Z"
    },
    "papermill": {
     "duration": 1.001491,
     "end_time": "2022-07-22T06:53:20.618122",
     "exception": false,
     "start_time": "2022-07-22T06:53:19.616631",
     "status": "completed"
    },
    "tags": []
   },
   "outputs": [
    {
     "data": {
      "image/png": "[encoded data removed]",
      "text/plain": [
       "<Figure size 1152x576 with 10 Axes>"
      ]
     },
     "metadata": {
      "needs_background": "light"
     },
     "output_type": "display_data"
    }
   ],
   "source": [
    "def plot_roc_curves(y, y_pred_probs):\n",
    "    # based on example code\n",
    "    # https://scikit-learn.org/stable/auto_examples/model_selection/plot_roc.html\n",
    "\n",
    "    fig, axs = plt.subplots(nrows=2, ncols=5, figsize=(16, 8))\n",
    "\n",
    "    roc_auc_dict = {}\n",
    "\n",
    "    for (r, c), digit, ax in zip(\n",
    "        it.product(range(2), range(5)), range(10), axs.reshape(-1)\n",
    "    ):\n",
    "        fpr, tpr, _ = metrics.roc_curve(y == digit, y_pred_probs[:, digit])\n",
    "        auc = metrics.auc(fpr, tpr)\n",
    "        roc_auc_dict[str(digit)] = auc\n",
    "\n",
    "        ax.plot(fpr, tpr, label=f\"ROC AUC={round(auc, 3)}\")\n",
    "\n",
    "        ax.set_title(f\"\\nDigit {digit}\", fontsize=16)\n",
    "        if r == 1:\n",
    "            ax.set_xlabel(\"FPR\", fontsize=18)\n",
    "\n",
    "        if c == 0:\n",
    "            ax.set_ylabel(\"TPR\", fontsize=18)\n",
    "\n",
    "        ax.set_xlim([-0.05, 1.05])\n",
    "        ax.set_ylim([-0.05, 1.05])\n",
    "        ax.legend(loc=\"lower right\", frameon=False, fontsize=14)\n",
    "\n",
    "    fig.tight_layout()\n",
    "    fig.suptitle(\n",
    "        f\"ROC plots for one-vs-rest performances \"\n",
    "        f\"(on evaluation data, n={y_pred_probs_test.shape[1]}\",\n",
    "        fontsize=22,\n",
    "    )\n",
    "    fig.tight_layout()\n",
    "    fig.show()\n",
    "\n",
    "    return roc_auc_dict, fig\n",
    "\n",
    "\n",
    "roc_auc_dict, fig = plot_roc_curves(y_test, y_pred_probs_test)"
   ]
  },
  {
   "cell_type": "code",
   "execution_count": 16,
   "id": "4f8e651d",
   "metadata": {
    "execution": {
     "iopub.execute_input": "2022-07-22T06:53:20.633834Z",
     "iopub.status.busy": "2022-07-22T06:53:20.633429Z",
     "iopub.status.idle": "2022-07-22T06:53:20.850730Z",
     "shell.execute_reply": "2022-07-22T06:53:20.849933Z"
    },
    "papermill": {
     "duration": 0.227977,
     "end_time": "2022-07-22T06:53:20.852685",
     "exception": false,
     "start_time": "2022-07-22T06:53:20.624708",
     "status": "completed"
    },
    "tags": []
   },
   "outputs": [],
   "source": [
    "logger.log_figure(\"per-digit-roc-curves.png\", fig)"
   ]
  },
  {
   "cell_type": "code",
   "execution_count": 17,
   "id": "d05e2b17",
   "metadata": {
    "execution": {
     "iopub.execute_input": "2022-07-22T06:53:20.865620Z",
     "iopub.status.busy": "2022-07-22T06:53:20.865281Z",
     "iopub.status.idle": "2022-07-22T06:53:20.870369Z",
     "shell.execute_reply": "2022-07-22T06:53:20.869800Z"
    },
    "papermill": {
     "duration": 0.015268,
     "end_time": "2022-07-22T06:53:20.873844",
     "exception": false,
     "start_time": "2022-07-22T06:53:20.858576",
     "status": "completed"
    },
    "tags": []
   },
   "outputs": [
    {
     "data": {
      "text/plain": [
       "{'0': 1.0,\n",
       " '1': 0.9990627928772259,\n",
       " '2': 1.0,\n",
       " '3': 0.9998500468603562,\n",
       " '4': 0.9997332723670173,\n",
       " '5': 0.9996626054358013,\n",
       " '6': 0.999923792104862,\n",
       " '7': 0.9998475842097242,\n",
       " '8': 0.9958622320302648,\n",
       " '9': 0.9997332723670171}"
      ]
     },
     "execution_count": 17,
     "metadata": {},
     "output_type": "execute_result"
    }
   ],
   "source": [
    "roc_auc_dict"
   ]
  },
  {
   "cell_type": "code",
   "execution_count": 18,
   "id": "04ce5342",
   "metadata": {
    "execution": {
     "iopub.execute_input": "2022-07-22T06:53:20.887160Z",
     "iopub.status.busy": "2022-07-22T06:53:20.886789Z",
     "iopub.status.idle": "2022-07-22T06:53:20.891317Z",
     "shell.execute_reply": "2022-07-22T06:53:20.890599Z"
    },
    "papermill": {
     "duration": 0.0139,
     "end_time": "2022-07-22T06:53:20.893342",
     "exception": false,
     "start_time": "2022-07-22T06:53:20.879442",
     "status": "completed"
    },
    "tags": []
   },
   "outputs": [
    {
     "name": "stdout",
     "output_type": "stream",
     "text": [
      " - Logging roc_auc_per_digit (json) : {'0': 1.0, '1': 0.9990627928772259, '2': 1.0, '3': 0.9998500468603562, '4': 0.9997332723670173, '5': 0.9996626054358013, '6': 0.999923792104862, '7': 0.9998475842097242, '8': 0.9958622320302648, '9': 0.9997332723670171}\n"
     ]
    }
   ],
   "source": [
    "logger.log_value(\"roc_auc_per_digit\", roc_auc_dict)"
   ]
  },
  {
   "cell_type": "markdown",
   "id": "c8fec608",
   "metadata": {
    "papermill": {
     "duration": 0.005452,
     "end_time": "2022-07-22T06:53:20.904186",
     "exception": false,
     "start_time": "2022-07-22T06:53:20.898734",
     "status": "completed"
    },
    "tags": []
   },
   "source": [
    "### Compute and log mean ROC AUC score averaged over all digits"
   ]
  },
  {
   "cell_type": "code",
   "execution_count": 19,
   "id": "e6b3686e",
   "metadata": {
    "execution": {
     "iopub.execute_input": "2022-07-22T06:53:20.916309Z",
     "iopub.status.busy": "2022-07-22T06:53:20.915891Z",
     "iopub.status.idle": "2022-07-22T06:53:20.929611Z",
     "shell.execute_reply": "2022-07-22T06:53:20.928635Z"
    },
    "papermill": {
     "duration": 0.021484,
     "end_time": "2022-07-22T06:53:20.931128",
     "exception": false,
     "start_time": "2022-07-22T06:53:20.909644",
     "status": "completed"
    },
    "tags": []
   },
   "outputs": [
    {
     "name": "stdout",
     "output_type": "stream",
     "text": [
      " - Logging roc_auc_class_mean (float) : 0.9993675598252268\n"
     ]
    }
   ],
   "source": [
    "roc_auc_macro = np.mean(list(roc_auc_dict.values()))\n",
    "\n",
    "logger.log_float(\"roc_auc_class_mean\", roc_auc_macro)\n",
    "\n",
    "# assert that the same value can be computed directly using sklearn\n",
    "assert roc_auc_macro == metrics.roc_auc_score(\n",
    "    y_test, y_pred_probs_test, average=\"macro\", multi_class=\"ovr\"\n",
    ")"
   ]
  },
  {
   "cell_type": "code",
   "execution_count": 20,
   "id": "9a5034af",
   "metadata": {
    "execution": {
     "iopub.execute_input": "2022-07-22T06:53:20.943666Z",
     "iopub.status.busy": "2022-07-22T06:53:20.943031Z",
     "iopub.status.idle": "2022-07-22T06:53:20.947363Z",
     "shell.execute_reply": "2022-07-22T06:53:20.946557Z"
    },
    "lines_to_next_cell": 0,
    "papermill": {
     "duration": 0.012436,
     "end_time": "2022-07-22T06:53:20.948975",
     "exception": false,
     "start_time": "2022-07-22T06:53:20.936539",
     "status": "completed"
    },
    "tags": []
   },
   "outputs": [],
   "source": [
    "# ---"
   ]
  },
  {
   "cell_type": "code",
   "execution_count": null,
   "id": "6a55b212",
   "metadata": {
    "papermill": {
     "duration": 0.0062,
     "end_time": "2022-07-22T06:53:20.960682",
     "exception": false,
     "start_time": "2022-07-22T06:53:20.954482",
     "status": "completed"
    },
    "tags": []
   },
   "outputs": [],
   "source": []
  }
 ],
 "metadata": {
  "jupytext": {
   "cell_metadata_filter": "tags,-all",
   "main_language": "python",
   "notebook_metadata_filter": "-all"
  },
  "language_info": {
   "codemirror_mode": {
    "name": "ipython",
    "version": 3
   },
   "file_extension": ".py",
   "mimetype": "text/x-python",
   "name": "python",
   "nbconvert_exporter": "python",
   "pygments_lexer": "ipython3",
   "version": "3.8.10"
  },
  "papermill": {
   "default_parameters": {},
   "duration": 9.511287,
   "end_time": "2022-07-22T06:53:21.986621",
   "environment_variables": {},
   "exception": null,
   "input_path": "/home/host_user/workspace/mnist-demo-pipeline/mnist-demo-pipeline/notebooks/temp-notebook-uzbsfvyu.ipynb",
   "output_path": "notebooks/benchmark-model.ipynb",
   "parameters": {
    "P": {
     "_opentelemetry_traceparent": "00-c6d8e1047d2497021b7d7ebb10256a7c-4dd545098b0e1109-01",
     "pipeline.data_lake_root": "/pipeline-outputs/data-lake",
     "pipeline.github.actor": "matiasdahl",
     "pipeline.github.base_ref": "",
     "pipeline.github.event_name": "schedule",
     "pipeline.github.head_ref": "",
     "pipeline.github.job": "run-tests-pipeline-and-persist-pipeline-outputs",
     "pipeline.github.ref": "refs/heads/development",
     "pipeline.github.ref_name": "development",
     "pipeline.github.ref_type": "branch",
     "pipeline.github.repository": "pynb-dag-runner/mnist-digits-demo-pipeline",
     "pipeline.github.run_id": "2716826811",
     "pipeline.github.runner_name": "Hosted Agent",
     "pipeline.github.sha": "5a6f90a9473b3095841d5b5dc7b58f5f049a0f71",
     "pipeline.github.workflow": "Run automated tests, pipeline and deploy results to static reporting site",
     "pipeline.pipeline_run_id": "6de65c62-ad94-4813-b4d0-73ede8e01725",
     "pipeline.run_environment": "ci",
     "run.retry_nr": "0",
     "task.max_nr_retries": "1",
     "task.notebook": "notebooks/benchmark-model.py",
     "task.nr_train_images": 1200,
     "task.num_cpus": 1,
     "task.timeout_s": "None"
    }
   },
   "start_time": "2022-07-22T06:53:12.475334",
   "version": "2.3.3"
  }
 },
 "nbformat": 4,
 "nbformat_minor": 5
}