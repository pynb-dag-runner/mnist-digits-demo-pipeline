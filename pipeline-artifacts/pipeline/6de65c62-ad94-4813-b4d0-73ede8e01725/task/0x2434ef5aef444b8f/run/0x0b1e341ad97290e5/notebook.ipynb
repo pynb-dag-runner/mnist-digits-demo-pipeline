{
 "cells": [
  {
   "cell_type": "markdown",
   "id": "6bad04bf",
   "metadata": {
    "papermill": {
     "duration": 0.003568,
     "end_time": "2022-07-22T06:52:33.719545",
     "exception": false,
     "start_time": "2022-07-22T06:52:33.715977",
     "status": "completed"
    },
    "tags": []
   },
   "source": [
    "# Ingest toy version of MNIST digit data from sklearn"
   ]
  },
  {
   "cell_type": "markdown",
   "id": "c9b233c3",
   "metadata": {
    "papermill": {
     "duration": 0.002844,
     "end_time": "2022-07-22T06:52:33.725288",
     "exception": false,
     "start_time": "2022-07-22T06:52:33.722444",
     "status": "completed"
    },
    "tags": []
   },
   "source": [
    "### Determine run parameters"
   ]
  },
  {
   "cell_type": "code",
   "execution_count": 1,
   "id": "a40c7268",
   "metadata": {
    "execution": {
     "iopub.execute_input": "2022-07-22T06:52:33.731491Z",
     "iopub.status.busy": "2022-07-22T06:52:33.730814Z",
     "iopub.status.idle": "2022-07-22T06:52:33.738502Z",
     "shell.execute_reply": "2022-07-22T06:52:33.737859Z"
    },
    "lines_to_next_cell": 0,
    "papermill": {
     "duration": 0.012613,
     "end_time": "2022-07-22T06:52:33.740112",
     "exception": false,
     "start_time": "2022-07-22T06:52:33.727499",
     "status": "completed"
    },
    "tags": []
   },
   "outputs": [],
   "source": [
    "# ----------------- Parameters for interactive development --------------\n",
    "P = {\n",
    "    \"pipeline.run_environment\": \"dev\",\n",
    "    \"pipeline.data_lake_root\": \"/pipeline-outputs/data-lake\",\n",
    "    \"run.retry_nr\": \"1\",\n",
    "}"
   ]
  },
  {
   "cell_type": "code",
   "execution_count": 2,
   "id": "b9548534",
   "metadata": {
    "execution": {
     "iopub.execute_input": "2022-07-22T06:52:33.746684Z",
     "iopub.status.busy": "2022-07-22T06:52:33.746467Z",
     "iopub.status.idle": "2022-07-22T06:52:33.749195Z",
     "shell.execute_reply": "2022-07-22T06:52:33.748704Z"
    },
    "lines_to_next_cell": 0,
    "papermill": {
     "duration": 0.008248,
     "end_time": "2022-07-22T06:52:33.750555",
     "exception": false,
     "start_time": "2022-07-22T06:52:33.742307",
     "status": "completed"
    },
    "tags": [
     "parameters"
    ]
   },
   "outputs": [],
   "source": [
    "# - During automated runs parameters will be injected in the below cell -"
   ]
  },
  {
   "cell_type": "code",
   "execution_count": 3,
   "id": "418a566e",
   "metadata": {
    "execution": {
     "iopub.execute_input": "2022-07-22T06:52:33.756691Z",
     "iopub.status.busy": "2022-07-22T06:52:33.756468Z",
     "iopub.status.idle": "2022-07-22T06:52:33.760683Z",
     "shell.execute_reply": "2022-07-22T06:52:33.760002Z"
    },
    "papermill": {
     "duration": 0.00934,
     "end_time": "2022-07-22T06:52:33.762132",
     "exception": false,
     "start_time": "2022-07-22T06:52:33.752792",
     "status": "completed"
    },
    "tags": [
     "injected-parameters"
    ]
   },
   "outputs": [],
   "source": [
    "# Parameters\n",
    "P = {\n",
    "    \"pipeline.data_lake_root\": \"/pipeline-outputs/data-lake\",\n",
    "    \"pipeline.run_environment\": \"ci\",\n",
    "    \"pipeline.pipeline_run_id\": \"6de65c62-ad94-4813-b4d0-73ede8e01725\",\n",
    "    \"pipeline.github.repository\": \"pynb-dag-runner/mnist-digits-demo-pipeline\",\n",
    "    \"pipeline.github.workflow\": \"Run automated tests, pipeline and deploy results to static reporting site\",\n",
    "    \"pipeline.github.runner_name\": \"Hosted Agent\",\n",
    "    \"pipeline.github.run_id\": \"2716826811\",\n",
    "    \"pipeline.github.actor\": \"matiasdahl\",\n",
    "    \"pipeline.github.job\": \"run-tests-pipeline-and-persist-pipeline-outputs\",\n",
    "    \"pipeline.github.base_ref\": \"\",\n",
    "    \"pipeline.github.head_ref\": \"\",\n",
    "    \"pipeline.github.sha\": \"5a6f90a9473b3095841d5b5dc7b58f5f049a0f71\",\n",
    "    \"pipeline.github.ref\": \"refs/heads/development\",\n",
    "    \"pipeline.github.ref_type\": \"branch\",\n",
    "    \"pipeline.github.ref_name\": \"development\",\n",
    "    \"pipeline.github.event_name\": \"schedule\",\n",
    "    \"task.notebook\": \"notebooks/ingest.py\",\n",
    "    \"task.max_nr_retries\": \"15\",\n",
    "    \"run.retry_nr\": \"10\",\n",
    "    \"task.timeout_s\": \"10\",\n",
    "    \"task.num_cpus\": 1,\n",
    "    \"_opentelemetry_traceparent\": \"00-c6d8e1047d2497021b7d7ebb10256a7c-1d138dd3d4a44f7a-01\",\n",
    "}\n"
   ]
  },
  {
   "cell_type": "code",
   "execution_count": 4,
   "id": "5a3fad9a",
   "metadata": {
    "execution": {
     "iopub.execute_input": "2022-07-22T06:52:33.768216Z",
     "iopub.status.busy": "2022-07-22T06:52:33.768005Z",
     "iopub.status.idle": "2022-07-22T06:52:33.770705Z",
     "shell.execute_reply": "2022-07-22T06:52:33.770012Z"
    },
    "lines_to_next_cell": 0,
    "papermill": {
     "duration": 0.007492,
     "end_time": "2022-07-22T06:52:33.772281",
     "exception": false,
     "start_time": "2022-07-22T06:52:33.764789",
     "status": "completed"
    },
    "tags": []
   },
   "outputs": [],
   "source": [
    "# -----------------------------------------------------------------------"
   ]
  },
  {
   "cell_type": "markdown",
   "id": "bf27ddca",
   "metadata": {
    "lines_to_next_cell": 2,
    "papermill": {
     "duration": 0.002522,
     "end_time": "2022-07-22T06:52:33.778277",
     "exception": false,
     "start_time": "2022-07-22T06:52:33.775755",
     "status": "completed"
    },
    "tags": []
   },
   "source": [
    "---"
   ]
  },
  {
   "cell_type": "markdown",
   "id": "4f5e18c6",
   "metadata": {
    "papermill": {
     "duration": 0.002306,
     "end_time": "2022-07-22T06:52:33.782880",
     "exception": false,
     "start_time": "2022-07-22T06:52:33.780574",
     "status": "completed"
    },
    "tags": []
   },
   "source": [
    "### Simulate different types of failures (for testing timeout and retry logic)"
   ]
  },
  {
   "cell_type": "code",
   "execution_count": 5,
   "id": "09cd60ec",
   "metadata": {
    "execution": {
     "iopub.execute_input": "2022-07-22T06:52:33.789682Z",
     "iopub.status.busy": "2022-07-22T06:52:33.789350Z",
     "iopub.status.idle": "2022-07-22T06:52:34.238701Z",
     "shell.execute_reply": "2022-07-22T06:52:34.237515Z"
    },
    "papermill": {
     "duration": 0.454636,
     "end_time": "2022-07-22T06:52:34.240673",
     "exception": false,
     "start_time": "2022-07-22T06:52:33.786037",
     "status": "completed"
    },
    "tags": []
   },
   "outputs": [
    {
     "name": "stderr",
     "output_type": "stream",
     "text": [
      "2022-07-22 06:52:34,086\tINFO worker.py:842 -- Connecting to existing Ray cluster at address: 172.17.0.2:6379\n"
     ]
    }
   ],
   "source": [
    "from pynb_dag_runner.tasks.task_opentelemetry_logging import PydarLogger\n",
    "\n",
    "logger = PydarLogger(P)"
   ]
  },
  {
   "cell_type": "code",
   "execution_count": 6,
   "id": "332edc13",
   "metadata": {
    "execution": {
     "iopub.execute_input": "2022-07-22T06:52:34.248238Z",
     "iopub.status.busy": "2022-07-22T06:52:34.247889Z",
     "iopub.status.idle": "2022-07-22T06:52:34.252680Z",
     "shell.execute_reply": "2022-07-22T06:52:34.252110Z"
    },
    "papermill": {
     "duration": 0.009955,
     "end_time": "2022-07-22T06:52:34.254092",
     "exception": false,
     "start_time": "2022-07-22T06:52:34.244137",
     "status": "completed"
    },
    "tags": []
   },
   "outputs": [],
   "source": [
    "import time, random\n",
    "\n",
    "\n",
    "def maybe_crash(retry_nr: int, run_environment: str):\n",
    "    if retry_nr == 2 and run_environment == \"ci\":\n",
    "        time.sleep(1e6)\n",
    "\n",
    "    max_retry_nr: int = 3 if run_environment == \"dev\" else 10\n",
    "\n",
    "    if retry_nr < max_retry_nr:\n",
    "        if random.random() < 0.1:\n",
    "            time.sleep(1e6)\n",
    "        else:\n",
    "            raise Exception(\"Simulated exception failure from ingestion step notebook!\")\n",
    "\n",
    "\n",
    "maybe_crash(\n",
    "    retry_nr=int(P[\"run.retry_nr\"]), run_environment=P[\"pipeline.run_environment\"]\n",
    ")"
   ]
  },
  {
   "cell_type": "markdown",
   "id": "f95bee02",
   "metadata": {
    "lines_to_next_cell": 2,
    "papermill": {
     "duration": 0.002729,
     "end_time": "2022-07-22T06:52:34.259508",
     "exception": false,
     "start_time": "2022-07-22T06:52:34.256779",
     "status": "completed"
    },
    "tags": []
   },
   "source": [
    "### Notebook code"
   ]
  },
  {
   "cell_type": "code",
   "execution_count": 7,
   "id": "3b19659d",
   "metadata": {
    "execution": {
     "iopub.execute_input": "2022-07-22T06:52:34.266123Z",
     "iopub.status.busy": "2022-07-22T06:52:34.265824Z",
     "iopub.status.idle": "2022-07-22T06:52:35.839293Z",
     "shell.execute_reply": "2022-07-22T06:52:35.838494Z"
    },
    "papermill": {
     "duration": 1.579034,
     "end_time": "2022-07-22T06:52:35.841426",
     "exception": false,
     "start_time": "2022-07-22T06:52:34.262392",
     "status": "completed"
    },
    "tags": []
   },
   "outputs": [],
   "source": [
    "from sklearn import datasets\n",
    "\n",
    "#\n",
    "from common.io import datalake_root, write_numpy"
   ]
  },
  {
   "cell_type": "code",
   "execution_count": 8,
   "id": "2542567a",
   "metadata": {
    "execution": {
     "iopub.execute_input": "2022-07-22T06:52:35.850758Z",
     "iopub.status.busy": "2022-07-22T06:52:35.850476Z",
     "iopub.status.idle": "2022-07-22T06:52:35.864728Z",
     "shell.execute_reply": "2022-07-22T06:52:35.864167Z"
    },
    "lines_to_next_cell": 2,
    "papermill": {
     "duration": 0.021325,
     "end_time": "2022-07-22T06:52:35.866204",
     "exception": false,
     "start_time": "2022-07-22T06:52:35.844879",
     "status": "completed"
    },
    "tags": []
   },
   "outputs": [],
   "source": [
    "digits = datasets.load_digits()\n",
    "\n",
    "X = digits[\"data\"]\n",
    "y = digits[\"target\"]"
   ]
  },
  {
   "cell_type": "code",
   "execution_count": 9,
   "id": "e5856cb3",
   "metadata": {
    "execution": {
     "iopub.execute_input": "2022-07-22T06:52:35.872834Z",
     "iopub.status.busy": "2022-07-22T06:52:35.872601Z",
     "iopub.status.idle": "2022-07-22T06:52:35.884458Z",
     "shell.execute_reply": "2022-07-22T06:52:35.883699Z"
    },
    "papermill": {
     "duration": 0.018047,
     "end_time": "2022-07-22T06:52:35.886794",
     "exception": false,
     "start_time": "2022-07-22T06:52:35.868747",
     "status": "completed"
    },
    "tags": []
   },
   "outputs": [
    {
     "name": "stdout",
     "output_type": "stream",
     "text": [
      " - Logging data_shape (json) : [1797, 64]\n",
      " - Logging target_shape (json) : [1797]\n"
     ]
    },
    {
     "data": {
      "text/plain": [
       "((1797, 64), (1797,))"
      ]
     },
     "execution_count": 9,
     "metadata": {},
     "output_type": "execute_result"
    }
   ],
   "source": [
    "logger.log_value(\"data_shape\", list(X.shape))\n",
    "logger.log_value(\"target_shape\", list(y.shape))\n",
    "\n",
    "X.shape, y.shape"
   ]
  },
  {
   "cell_type": "code",
   "execution_count": 10,
   "id": "7b3ac55c",
   "metadata": {
    "execution": {
     "iopub.execute_input": "2022-07-22T06:52:35.893869Z",
     "iopub.status.busy": "2022-07-22T06:52:35.893461Z",
     "iopub.status.idle": "2022-07-22T06:52:35.902279Z",
     "shell.execute_reply": "2022-07-22T06:52:35.901565Z"
    },
    "papermill": {
     "duration": 0.014501,
     "end_time": "2022-07-22T06:52:35.904071",
     "exception": false,
     "start_time": "2022-07-22T06:52:35.889570",
     "status": "completed"
    },
    "tags": []
   },
   "outputs": [],
   "source": [
    "write_numpy(datalake_root(P) / \"raw\" / \"digits.numpy\", X)\n",
    "write_numpy(datalake_root(P) / \"raw\" / \"labels.numpy\", y)"
   ]
  },
  {
   "cell_type": "code",
   "execution_count": null,
   "id": "2e5da021",
   "metadata": {
    "papermill": {
     "duration": 0.002673,
     "end_time": "2022-07-22T06:52:35.909546",
     "exception": false,
     "start_time": "2022-07-22T06:52:35.906873",
     "status": "completed"
    },
    "tags": []
   },
   "outputs": [],
   "source": []
  }
 ],
 "metadata": {
  "jupytext": {
   "cell_metadata_filter": "tags,-all",
   "main_language": "python",
   "notebook_metadata_filter": "-all"
  },
  "language_info": {
   "codemirror_mode": {
    "name": "ipython",
    "version": 3
   },
   "file_extension": ".py",
   "mimetype": "text/x-python",
   "name": "python",
   "nbconvert_exporter": "python",
   "pygments_lexer": "ipython3",
   "version": "3.8.10"
  },
  "papermill": {
   "default_parameters": {},
   "duration": 4.487038,
   "end_time": "2022-07-22T06:52:36.832058",
   "environment_variables": {},
   "exception": null,
   "input_path": "/home/host_user/workspace/mnist-demo-pipeline/mnist-demo-pipeline/notebooks/temp-notebook-x_rwmv7c.ipynb",
   "output_path": "notebooks/ingest.ipynb",
   "parameters": {
    "P": {
     "_opentelemetry_traceparent": "00-c6d8e1047d2497021b7d7ebb10256a7c-1d138dd3d4a44f7a-01",
     "pipeline.data_lake_root": "/pipeline-outputs/data-lake",
     "pipeline.github.actor": "matiasdahl",
     "pipeline.github.base_ref": "",
     "pipeline.github.event_name": "schedule",
     "pipeline.github.head_ref": "",
     "pipeline.github.job": "run-tests-pipeline-and-persist-pipeline-outputs",
     "pipeline.github.ref": "refs/heads/development",
     "pipeline.github.ref_name": "development",
     "pipeline.github.ref_type": "branch",
     "pipeline.github.repository": "pynb-dag-runner/mnist-digits-demo-pipeline",
     "pipeline.github.run_id": "2716826811",
     "pipeline.github.runner_name": "Hosted Agent",
     "pipeline.github.sha": "5a6f90a9473b3095841d5b5dc7b58f5f049a0f71",
     "pipeline.github.workflow": "Run automated tests, pipeline and deploy results to static reporting site",
     "pipeline.pipeline_run_id": "6de65c62-ad94-4813-b4d0-73ede8e01725",
     "pipeline.run_environment": "ci",
     "run.retry_nr": "10",
     "task.max_nr_retries": "15",
     "task.notebook": "notebooks/ingest.py",
     "task.num_cpus": 1,
     "task.timeout_s": "10"
    }
   },
   "start_time": "2022-07-22T06:52:32.345020",
   "version": "2.3.3"
  }
 },
 "nbformat": 4,
 "nbformat_minor": 5
}