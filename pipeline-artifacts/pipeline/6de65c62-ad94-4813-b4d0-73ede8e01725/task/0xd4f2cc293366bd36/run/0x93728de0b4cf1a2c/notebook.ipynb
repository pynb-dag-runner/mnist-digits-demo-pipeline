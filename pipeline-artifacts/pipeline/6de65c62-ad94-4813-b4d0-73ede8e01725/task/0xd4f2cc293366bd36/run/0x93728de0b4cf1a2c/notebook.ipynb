{
 "cells": [
  {
   "cell_type": "markdown",
   "id": "cabe4c67",
   "metadata": {
    "papermill": {
     "duration": 0.005885,
     "end_time": "2022-07-22T06:53:02.073362",
     "exception": false,
     "start_time": "2022-07-22T06:53:02.067477",
     "status": "completed"
    },
    "tags": []
   },
   "source": [
    "# Benchmark model\n",
    "\n",
    "The purpose of this notebook is to benchmark persisted onnx-model (trained in the\n",
    "previous step) against evaluation set."
   ]
  },
  {
   "cell_type": "markdown",
   "id": "3bc97356",
   "metadata": {
    "papermill": {
     "duration": 0.004031,
     "end_time": "2022-07-22T06:53:02.082073",
     "exception": false,
     "start_time": "2022-07-22T06:53:02.078042",
     "status": "completed"
    },
    "tags": []
   },
   "source": [
    "### Determine run parameters"
   ]
  },
  {
   "cell_type": "code",
   "execution_count": 1,
   "id": "c7ee09aa",
   "metadata": {
    "execution": {
     "iopub.execute_input": "2022-07-22T06:53:02.098925Z",
     "iopub.status.busy": "2022-07-22T06:53:02.098565Z",
     "iopub.status.idle": "2022-07-22T06:53:02.107832Z",
     "shell.execute_reply": "2022-07-22T06:53:02.107270Z"
    },
    "lines_to_next_cell": 0,
    "papermill": {
     "duration": 0.018314,
     "end_time": "2022-07-22T06:53:02.109869",
     "exception": false,
     "start_time": "2022-07-22T06:53:02.091555",
     "status": "completed"
    },
    "tags": []
   },
   "outputs": [],
   "source": [
    "# ----------------- Parameters for interactive development --------------\n",
    "P = {\n",
    "    \"pipeline.data_lake_root\": \"/pipeline-outputs/data-lake\",\n",
    "    \"task.nr_train_images\": 600,\n",
    "}"
   ]
  },
  {
   "cell_type": "code",
   "execution_count": 2,
   "id": "0bffb04b",
   "metadata": {
    "execution": {
     "iopub.execute_input": "2022-07-22T06:53:02.119370Z",
     "iopub.status.busy": "2022-07-22T06:53:02.119132Z",
     "iopub.status.idle": "2022-07-22T06:53:02.122717Z",
     "shell.execute_reply": "2022-07-22T06:53:02.121934Z"
    },
    "lines_to_next_cell": 0,
    "papermill": {
     "duration": 0.011792,
     "end_time": "2022-07-22T06:53:02.125910",
     "exception": false,
     "start_time": "2022-07-22T06:53:02.114118",
     "status": "completed"
    },
    "tags": [
     "parameters"
    ]
   },
   "outputs": [],
   "source": [
    "# - During automated runs parameters will be injected in the below cell -"
   ]
  },
  {
   "cell_type": "code",
   "execution_count": 3,
   "id": "605b65d3",
   "metadata": {
    "execution": {
     "iopub.execute_input": "2022-07-22T06:53:02.134762Z",
     "iopub.status.busy": "2022-07-22T06:53:02.134540Z",
     "iopub.status.idle": "2022-07-22T06:53:02.138984Z",
     "shell.execute_reply": "2022-07-22T06:53:02.138464Z"
    },
    "papermill": {
     "duration": 0.011688,
     "end_time": "2022-07-22T06:53:02.141419",
     "exception": false,
     "start_time": "2022-07-22T06:53:02.129731",
     "status": "completed"
    },
    "tags": [
     "injected-parameters"
    ]
   },
   "outputs": [],
   "source": [
    "# Parameters\n",
    "P = {\n",
    "    \"pipeline.data_lake_root\": \"/pipeline-outputs/data-lake\",\n",
    "    \"pipeline.run_environment\": \"ci\",\n",
    "    \"pipeline.pipeline_run_id\": \"6de65c62-ad94-4813-b4d0-73ede8e01725\",\n",
    "    \"pipeline.github.repository\": \"pynb-dag-runner/mnist-digits-demo-pipeline\",\n",
    "    \"pipeline.github.workflow\": \"Run automated tests, pipeline and deploy results to static reporting site\",\n",
    "    \"pipeline.github.runner_name\": \"Hosted Agent\",\n",
    "    \"pipeline.github.run_id\": \"2716826811\",\n",
    "    \"pipeline.github.actor\": \"matiasdahl\",\n",
    "    \"pipeline.github.job\": \"run-tests-pipeline-and-persist-pipeline-outputs\",\n",
    "    \"pipeline.github.base_ref\": \"\",\n",
    "    \"pipeline.github.head_ref\": \"\",\n",
    "    \"pipeline.github.sha\": \"5a6f90a9473b3095841d5b5dc7b58f5f049a0f71\",\n",
    "    \"pipeline.github.ref\": \"refs/heads/development\",\n",
    "    \"pipeline.github.ref_type\": \"branch\",\n",
    "    \"pipeline.github.ref_name\": \"development\",\n",
    "    \"pipeline.github.event_name\": \"schedule\",\n",
    "    \"task.nr_train_images\": 800,\n",
    "    \"task.notebook\": \"notebooks/benchmark-model.py\",\n",
    "    \"task.max_nr_retries\": \"1\",\n",
    "    \"run.retry_nr\": \"0\",\n",
    "    \"task.timeout_s\": \"None\",\n",
    "    \"task.num_cpus\": 1,\n",
    "    \"_opentelemetry_traceparent\": \"00-c6d8e1047d2497021b7d7ebb10256a7c-d0b7a53f2631cab5-01\",\n",
    "}\n"
   ]
  },
  {
   "cell_type": "code",
   "execution_count": 4,
   "id": "abdafb42",
   "metadata": {
    "execution": {
     "iopub.execute_input": "2022-07-22T06:53:02.152014Z",
     "iopub.status.busy": "2022-07-22T06:53:02.151803Z",
     "iopub.status.idle": "2022-07-22T06:53:02.154664Z",
     "shell.execute_reply": "2022-07-22T06:53:02.153942Z"
    },
    "lines_to_next_cell": 0,
    "papermill": {
     "duration": 0.012395,
     "end_time": "2022-07-22T06:53:02.157874",
     "exception": false,
     "start_time": "2022-07-22T06:53:02.145479",
     "status": "completed"
    },
    "tags": []
   },
   "outputs": [],
   "source": [
    "# -----------------------------------------------------------------------"
   ]
  },
  {
   "cell_type": "markdown",
   "id": "f76cca9f",
   "metadata": {
    "papermill": {
     "duration": 0.004101,
     "end_time": "2022-07-22T06:53:02.165829",
     "exception": false,
     "start_time": "2022-07-22T06:53:02.161728",
     "status": "completed"
    },
    "tags": []
   },
   "source": [
    "---"
   ]
  },
  {
   "cell_type": "markdown",
   "id": "87f9c8a5",
   "metadata": {
    "lines_to_next_cell": 2,
    "papermill": {
     "duration": 0.00388,
     "end_time": "2022-07-22T06:53:02.173759",
     "exception": false,
     "start_time": "2022-07-22T06:53:02.169879",
     "status": "completed"
    },
    "tags": []
   },
   "source": [
    "### Notebook code"
   ]
  },
  {
   "cell_type": "code",
   "execution_count": 5,
   "id": "4a0a69d3",
   "metadata": {
    "execution": {
     "iopub.execute_input": "2022-07-22T06:53:02.183263Z",
     "iopub.status.busy": "2022-07-22T06:53:02.182983Z",
     "iopub.status.idle": "2022-07-22T06:53:03.339479Z",
     "shell.execute_reply": "2022-07-22T06:53:03.338700Z"
    },
    "papermill": {
     "duration": 1.163551,
     "end_time": "2022-07-22T06:53:03.341744",
     "exception": false,
     "start_time": "2022-07-22T06:53:02.178193",
     "status": "completed"
    },
    "tags": []
   },
   "outputs": [
    {
     "name": "stderr",
     "output_type": "stream",
     "text": [
      "2022-07-22 06:53:03,166\tINFO worker.py:842 -- Connecting to existing Ray cluster at address: 172.17.0.2:6379\n"
     ]
    }
   ],
   "source": [
    "import itertools as it\n",
    "\n",
    "#\n",
    "import numpy as np\n",
    "import matplotlib.pyplot as plt\n",
    "\n",
    "#\n",
    "from pynb_dag_runner.tasks.task_opentelemetry_logging import PydarLogger\n",
    "\n",
    "#\n",
    "from common.io import datalake_root\n",
    "\n",
    "logger = PydarLogger(P)"
   ]
  },
  {
   "cell_type": "markdown",
   "id": "76b087e1",
   "metadata": {
    "papermill": {
     "duration": 0.004902,
     "end_time": "2022-07-22T06:53:03.351125",
     "exception": false,
     "start_time": "2022-07-22T06:53:03.346223",
     "status": "completed"
    },
    "tags": []
   },
   "source": [
    "## Load persisted onnx-model and evaluation data"
   ]
  },
  {
   "cell_type": "code",
   "execution_count": 6,
   "id": "ee9c5a30",
   "metadata": {
    "execution": {
     "iopub.execute_input": "2022-07-22T06:53:03.361885Z",
     "iopub.status.busy": "2022-07-22T06:53:03.361555Z",
     "iopub.status.idle": "2022-07-22T06:53:03.364828Z",
     "shell.execute_reply": "2022-07-22T06:53:03.364257Z"
    },
    "papermill": {
     "duration": 0.012686,
     "end_time": "2022-07-22T06:53:03.367892",
     "exception": false,
     "start_time": "2022-07-22T06:53:03.355206",
     "status": "completed"
    },
    "tags": []
   },
   "outputs": [],
   "source": [
    "from common.io import read_onnx, get_onnx_inputs, get_onnx_outputs, read_numpy"
   ]
  },
  {
   "cell_type": "code",
   "execution_count": 7,
   "id": "6e049db0",
   "metadata": {
    "execution": {
     "iopub.execute_input": "2022-07-22T06:53:03.378043Z",
     "iopub.status.busy": "2022-07-22T06:53:03.377819Z",
     "iopub.status.idle": "2022-07-22T06:53:03.388402Z",
     "shell.execute_reply": "2022-07-22T06:53:03.387794Z"
    },
    "lines_to_next_cell": 0,
    "papermill": {
     "duration": 0.018071,
     "end_time": "2022-07-22T06:53:03.390275",
     "exception": false,
     "start_time": "2022-07-22T06:53:03.372204",
     "status": "completed"
    },
    "tags": []
   },
   "outputs": [],
   "source": [
    "onnx_inference_session = read_onnx(\n",
    "    datalake_root(P)\n",
    "    / \"models\"\n",
    "    / f\"nr_train_images={P['task.nr_train_images']}\"\n",
    "    / \"model.onnx\"\n",
    ")"
   ]
  },
  {
   "cell_type": "markdown",
   "id": "8ad13848",
   "metadata": {
    "papermill": {
     "duration": 0.004263,
     "end_time": "2022-07-22T06:53:03.398682",
     "exception": false,
     "start_time": "2022-07-22T06:53:03.394419",
     "status": "completed"
    },
    "tags": []
   },
   "source": [
    "### Record structure of inputs and outputs for ONNX model\n",
    "\n",
    "(this should likely be done in training notebook)"
   ]
  },
  {
   "cell_type": "code",
   "execution_count": 8,
   "id": "b7e6f0e2",
   "metadata": {
    "execution": {
     "iopub.execute_input": "2022-07-22T06:53:03.408528Z",
     "iopub.status.busy": "2022-07-22T06:53:03.408311Z",
     "iopub.status.idle": "2022-07-22T06:53:03.415056Z",
     "shell.execute_reply": "2022-07-22T06:53:03.414494Z"
    },
    "papermill": {
     "duration": 0.015551,
     "end_time": "2022-07-22T06:53:03.418811",
     "exception": false,
     "start_time": "2022-07-22T06:53:03.403260",
     "status": "completed"
    },
    "tags": []
   },
   "outputs": [
    {
     "name": "stdout",
     "output_type": "stream",
     "text": [
      "{\n",
      "  \"inputs\": [\n",
      "    {\n",
      "      \"name\": \"float_input_8x8_image\",\n",
      "      \"shape\": [\n",
      "        null,\n",
      "        64\n",
      "      ],\n",
      "      \"type\": \"tensor(float)\"\n",
      "    }\n",
      "  ],\n",
      "  \"outputs\": [\n",
      "    {\n",
      "      \"name\": \"output_label\",\n",
      "      \"shape\": [\n",
      "        null\n",
      "      ],\n",
      "      \"type\": \"tensor(int64)\"\n",
      "    },\n",
      "    {\n",
      "      \"name\": \"output_probability\",\n",
      "      \"shape\": [],\n",
      "      \"type\": \"seq(map(int64,tensor(float)))\"\n",
      "    }\n",
      "  ]\n",
      "}\n"
     ]
    }
   ],
   "source": [
    "import json\n",
    "\n",
    "onnx_io = json.dumps(\n",
    "    {\n",
    "        \"inputs\": get_onnx_inputs(onnx_inference_session),\n",
    "        \"outputs\": get_onnx_outputs(onnx_inference_session),\n",
    "    },\n",
    "    indent=2,\n",
    ")\n",
    "\n",
    "\n",
    "logger.log_artefact(\"onnx_io_structure.json\", onnx_io)\n",
    "print(onnx_io)"
   ]
  },
  {
   "cell_type": "markdown",
   "id": "3567da70",
   "metadata": {
    "papermill": {
     "duration": 0.004825,
     "end_time": "2022-07-22T06:53:03.434094",
     "exception": false,
     "start_time": "2022-07-22T06:53:03.429269",
     "status": "completed"
    },
    "tags": []
   },
   "source": [
    "### Evaluate model performance on evaluation data set"
   ]
  },
  {
   "cell_type": "code",
   "execution_count": 9,
   "id": "c55696b2",
   "metadata": {
    "execution": {
     "iopub.execute_input": "2022-07-22T06:53:03.445472Z",
     "iopub.status.busy": "2022-07-22T06:53:03.445209Z",
     "iopub.status.idle": "2022-07-22T06:53:03.449788Z",
     "shell.execute_reply": "2022-07-22T06:53:03.449255Z"
    },
    "papermill": {
     "duration": 0.014459,
     "end_time": "2022-07-22T06:53:03.452667",
     "exception": false,
     "start_time": "2022-07-22T06:53:03.438208",
     "status": "completed"
    },
    "tags": []
   },
   "outputs": [],
   "source": [
    "# load evaluation data\n",
    "X_test = read_numpy(datalake_root(P) / \"test-data\" / \"digits.numpy\")\n",
    "y_test = read_numpy(datalake_root(P) / \"test-data\" / \"labels.numpy\")"
   ]
  },
  {
   "cell_type": "code",
   "execution_count": 10,
   "id": "fe163f32",
   "metadata": {
    "execution": {
     "iopub.execute_input": "2022-07-22T06:53:03.462338Z",
     "iopub.status.busy": "2022-07-22T06:53:03.462114Z",
     "iopub.status.idle": "2022-07-22T06:53:03.474839Z",
     "shell.execute_reply": "2022-07-22T06:53:03.474304Z"
    },
    "papermill": {
     "duration": 0.019536,
     "end_time": "2022-07-22T06:53:03.476443",
     "exception": false,
     "start_time": "2022-07-22T06:53:03.456907",
     "status": "completed"
    },
    "tags": []
   },
   "outputs": [],
   "source": [
    "def get_model_outputs(X, onnx_inference_session):\n",
    "    y_pred_labels, y_pred_map = onnx_inference_session.run(\n",
    "        [\"output_label\", \"output_probability\"],\n",
    "        {\"float_input_8x8_image\": X.astype(np.float32)},\n",
    "    )\n",
    "    y_pred_probs = np.array(\n",
    "        [[probabilities[digit] for digit in range(10)] for probabilities in y_pred_map]\n",
    "    )\n",
    "\n",
    "    assert y_pred_labels.shape == (X.shape[0],)\n",
    "    assert y_pred_probs.shape == (X.shape[0], 10)\n",
    "\n",
    "    return y_pred_labels, y_pred_probs\n",
    "\n",
    "\n",
    "# Note: as shown in the training notebook, the predicted labels and probabilities\n",
    "# computed below need not be compatible.\n",
    "y_pred_labels_test, y_pred_probs_test = get_model_outputs(\n",
    "    X_test, onnx_inference_session\n",
    ")"
   ]
  },
  {
   "cell_type": "markdown",
   "id": "a25c3c7a",
   "metadata": {
    "papermill": {
     "duration": 0.00648,
     "end_time": "2022-07-22T06:53:03.487268",
     "exception": false,
     "start_time": "2022-07-22T06:53:03.480788",
     "status": "completed"
    },
    "tags": []
   },
   "source": [
    "### Confusion matrix"
   ]
  },
  {
   "cell_type": "code",
   "execution_count": 11,
   "id": "f3547846",
   "metadata": {
    "execution": {
     "iopub.execute_input": "2022-07-22T06:53:03.498709Z",
     "iopub.status.busy": "2022-07-22T06:53:03.498489Z",
     "iopub.status.idle": "2022-07-22T06:53:03.501454Z",
     "shell.execute_reply": "2022-07-22T06:53:03.500881Z"
    },
    "papermill": {
     "duration": 0.011279,
     "end_time": "2022-07-22T06:53:03.504617",
     "exception": false,
     "start_time": "2022-07-22T06:53:03.493338",
     "status": "completed"
    },
    "tags": []
   },
   "outputs": [],
   "source": [
    "# TODO"
   ]
  },
  {
   "cell_type": "markdown",
   "id": "3fd012f7",
   "metadata": {
    "papermill": {
     "duration": 0.004383,
     "end_time": "2022-07-22T06:53:03.514130",
     "exception": false,
     "start_time": "2022-07-22T06:53:03.509747",
     "status": "completed"
    },
    "tags": []
   },
   "source": [
    "### Plot predicted probabilities for each classifier over all evaluation digit images"
   ]
  },
  {
   "cell_type": "code",
   "execution_count": 12,
   "id": "2cde468f",
   "metadata": {
    "execution": {
     "iopub.execute_input": "2022-07-22T06:53:03.524647Z",
     "iopub.status.busy": "2022-07-22T06:53:03.524431Z",
     "iopub.status.idle": "2022-07-22T06:53:07.249513Z",
     "shell.execute_reply": "2022-07-22T06:53:07.248893Z"
    },
    "papermill": {
     "duration": 3.732222,
     "end_time": "2022-07-22T06:53:07.251407",
     "exception": false,
     "start_time": "2022-07-22T06:53:03.519185",
     "status": "completed"
    },
    "tags": []
   },
   "outputs": [
    {
     "data": {
      "image/png": "[encoded data removed]",
      "text/plain": [
       "<Figure size 1152x432 with 10 Axes>"
      ]
     },
     "metadata": {
      "needs_background": "light"
     },
     "output_type": "display_data"
    }
   ],
   "source": [
    "def plot_per_digit_probabilities(y_pred_probs):\n",
    "    fig, axs = plt.subplots(nrows=2, ncols=5, figsize=(16, 6))\n",
    "\n",
    "    for (r, c), digit, ax in zip(\n",
    "        it.product(range(2), range(5)), range(10), axs.reshape(-1)\n",
    "    ):\n",
    "        ax.hist(y_pred_probs_test[:, digit], bins=20)\n",
    "\n",
    "        ax.set_title(f\"Digit {digit}\")\n",
    "        if r == 1 and c == 2:\n",
    "            ax.set_xlabel(\"probability\", fontsize=16)\n",
    "\n",
    "        if c == 0:\n",
    "            ax.set_ylabel(\"counts\", fontsize=16)\n",
    "        ax.set_yscale(\"log\")\n",
    "\n",
    "    fig.tight_layout()\n",
    "    fig.suptitle(\n",
    "        f\"Distributions of prediction probabilities for each digit \"\n",
    "        f\"(on evaluation data, n={y_pred_probs.shape[0]})\",\n",
    "        fontsize=20,\n",
    "    )\n",
    "    fig.tight_layout()\n",
    "    fig.show()\n",
    "\n",
    "    return fig\n",
    "\n",
    "\n",
    "fig = plot_per_digit_probabilities(y_pred_probs_test)"
   ]
  },
  {
   "cell_type": "markdown",
   "id": "7dcc07db",
   "metadata": {
    "papermill": {
     "duration": 0.008858,
     "end_time": "2022-07-22T06:53:07.269470",
     "exception": false,
     "start_time": "2022-07-22T06:53:07.260612",
     "status": "completed"
    },
    "tags": []
   },
   "source": [
    "From the above distributions we see that most digits have clear separation between\n",
    "high and lower probabilities. Morover, in each case there is roughly an order of\n",
    "magnitude more of digits with low probabilities. This is compatible with digits\n",
    "being roughly evenly distributed in the data."
   ]
  },
  {
   "cell_type": "code",
   "execution_count": 13,
   "id": "13644210",
   "metadata": {
    "execution": {
     "iopub.execute_input": "2022-07-22T06:53:07.287911Z",
     "iopub.status.busy": "2022-07-22T06:53:07.287631Z",
     "iopub.status.idle": "2022-07-22T06:53:07.744129Z",
     "shell.execute_reply": "2022-07-22T06:53:07.743269Z"
    },
    "papermill": {
     "duration": 0.464272,
     "end_time": "2022-07-22T06:53:07.746230",
     "exception": false,
     "start_time": "2022-07-22T06:53:07.281958",
     "status": "completed"
    },
    "tags": []
   },
   "outputs": [],
   "source": [
    "logger.log_figure(\"per-digit-probabilities.png\", fig)"
   ]
  },
  {
   "cell_type": "markdown",
   "id": "88ae0ffd",
   "metadata": {
    "papermill": {
     "duration": 0.008,
     "end_time": "2022-07-22T06:53:07.763697",
     "exception": false,
     "start_time": "2022-07-22T06:53:07.755697",
     "status": "completed"
    },
    "tags": []
   },
   "source": [
    "### Plot ROC curves for individual one-vs-rest classifiers"
   ]
  },
  {
   "cell_type": "code",
   "execution_count": 14,
   "id": "73cf9537",
   "metadata": {
    "execution": {
     "iopub.execute_input": "2022-07-22T06:53:07.783074Z",
     "iopub.status.busy": "2022-07-22T06:53:07.782700Z",
     "iopub.status.idle": "2022-07-22T06:53:08.118774Z",
     "shell.execute_reply": "2022-07-22T06:53:08.118089Z"
    },
    "papermill": {
     "duration": 0.345736,
     "end_time": "2022-07-22T06:53:08.122044",
     "exception": false,
     "start_time": "2022-07-22T06:53:07.776308",
     "status": "completed"
    },
    "tags": []
   },
   "outputs": [],
   "source": [
    "from sklearn import metrics"
   ]
  },
  {
   "cell_type": "code",
   "execution_count": 15,
   "id": "326c298e",
   "metadata": {
    "execution": {
     "iopub.execute_input": "2022-07-22T06:53:08.134755Z",
     "iopub.status.busy": "2022-07-22T06:53:08.134487Z",
     "iopub.status.idle": "2022-07-22T06:53:09.453443Z",
     "shell.execute_reply": "2022-07-22T06:53:09.452793Z"
    },
    "papermill": {
     "duration": 1.328273,
     "end_time": "2022-07-22T06:53:09.455581",
     "exception": false,
     "start_time": "2022-07-22T06:53:08.127308",
     "status": "completed"
    },
    "tags": []
   },
   "outputs": [
    {
     "data": {
      "image/png": "[encoded data removed]",
      "text/plain": [
       "<Figure size 1152x576 with 10 Axes>"
      ]
     },
     "metadata": {
      "needs_background": "light"
     },
     "output_type": "display_data"
    }
   ],
   "source": [
    "def plot_roc_curves(y, y_pred_probs):\n",
    "    # based on example code\n",
    "    # https://scikit-learn.org/stable/auto_examples/model_selection/plot_roc.html\n",
    "\n",
    "    fig, axs = plt.subplots(nrows=2, ncols=5, figsize=(16, 8))\n",
    "\n",
    "    roc_auc_dict = {}\n",
    "\n",
    "    for (r, c), digit, ax in zip(\n",
    "        it.product(range(2), range(5)), range(10), axs.reshape(-1)\n",
    "    ):\n",
    "        fpr, tpr, _ = metrics.roc_curve(y == digit, y_pred_probs[:, digit])\n",
    "        auc = metrics.auc(fpr, tpr)\n",
    "        roc_auc_dict[str(digit)] = auc\n",
    "\n",
    "        ax.plot(fpr, tpr, label=f\"ROC AUC={round(auc, 3)}\")\n",
    "\n",
    "        ax.set_title(f\"\\nDigit {digit}\", fontsize=16)\n",
    "        if r == 1:\n",
    "            ax.set_xlabel(\"FPR\", fontsize=18)\n",
    "\n",
    "        if c == 0:\n",
    "            ax.set_ylabel(\"TPR\", fontsize=18)\n",
    "\n",
    "        ax.set_xlim([-0.05, 1.05])\n",
    "        ax.set_ylim([-0.05, 1.05])\n",
    "        ax.legend(loc=\"lower right\", frameon=False, fontsize=14)\n",
    "\n",
    "    fig.tight_layout()\n",
    "    fig.suptitle(\n",
    "        f\"ROC plots for one-vs-rest performances \"\n",
    "        f\"(on evaluation data, n={y_pred_probs_test.shape[1]}\",\n",
    "        fontsize=22,\n",
    "    )\n",
    "    fig.tight_layout()\n",
    "    fig.show()\n",
    "\n",
    "    return roc_auc_dict, fig\n",
    "\n",
    "\n",
    "roc_auc_dict, fig = plot_roc_curves(y_test, y_pred_probs_test)"
   ]
  },
  {
   "cell_type": "code",
   "execution_count": 16,
   "id": "c4c7b71e",
   "metadata": {
    "execution": {
     "iopub.execute_input": "2022-07-22T06:53:09.468871Z",
     "iopub.status.busy": "2022-07-22T06:53:09.468364Z",
     "iopub.status.idle": "2022-07-22T06:53:09.695108Z",
     "shell.execute_reply": "2022-07-22T06:53:09.694341Z"
    },
    "papermill": {
     "duration": 0.236063,
     "end_time": "2022-07-22T06:53:09.697738",
     "exception": false,
     "start_time": "2022-07-22T06:53:09.461675",
     "status": "completed"
    },
    "tags": []
   },
   "outputs": [],
   "source": [
    "logger.log_figure(\"per-digit-roc-curves.png\", fig)"
   ]
  },
  {
   "cell_type": "code",
   "execution_count": 17,
   "id": "eb4c3763",
   "metadata": {
    "execution": {
     "iopub.execute_input": "2022-07-22T06:53:09.712321Z",
     "iopub.status.busy": "2022-07-22T06:53:09.711973Z",
     "iopub.status.idle": "2022-07-22T06:53:09.720454Z",
     "shell.execute_reply": "2022-07-22T06:53:09.719895Z"
    },
    "papermill": {
     "duration": 0.017237,
     "end_time": "2022-07-22T06:53:09.722176",
     "exception": false,
     "start_time": "2022-07-22T06:53:09.704939",
     "status": "completed"
    },
    "tags": []
   },
   "outputs": [
    {
     "data": {
      "text/plain": [
       "{'0': 1.0,\n",
       " '1': 0.9987253983130272,\n",
       " '2': 1.0,\n",
       " '3': 0.9998500468603562,\n",
       " '4': 0.9995046486816034,\n",
       " '5': 0.999025304592315,\n",
       " '6': 0.999961896052431,\n",
       " '7': 0.9998856881572931,\n",
       " '8': 0.9930249054224464,\n",
       " '9': 0.9995046486816034}"
      ]
     },
     "execution_count": 17,
     "metadata": {},
     "output_type": "execute_result"
    }
   ],
   "source": [
    "roc_auc_dict"
   ]
  },
  {
   "cell_type": "code",
   "execution_count": 18,
   "id": "89503fff",
   "metadata": {
    "execution": {
     "iopub.execute_input": "2022-07-22T06:53:09.742571Z",
     "iopub.status.busy": "2022-07-22T06:53:09.741955Z",
     "iopub.status.idle": "2022-07-22T06:53:09.746816Z",
     "shell.execute_reply": "2022-07-22T06:53:09.746024Z"
    },
    "papermill": {
     "duration": 0.01555,
     "end_time": "2022-07-22T06:53:09.750642",
     "exception": false,
     "start_time": "2022-07-22T06:53:09.735092",
     "status": "completed"
    },
    "tags": []
   },
   "outputs": [
    {
     "name": "stdout",
     "output_type": "stream",
     "text": [
      " - Logging roc_auc_per_digit (json) : {'0': 1.0, '1': 0.9987253983130272, '2': 1.0, '3': 0.9998500468603562, '4': 0.9995046486816034, '5': 0.999025304592315, '6': 0.999961896052431, '7': 0.9998856881572931, '8': 0.9930249054224464, '9': 0.9995046486816034}\n"
     ]
    }
   ],
   "source": [
    "logger.log_value(\"roc_auc_per_digit\", roc_auc_dict)"
   ]
  },
  {
   "cell_type": "markdown",
   "id": "7f98b365",
   "metadata": {
    "papermill": {
     "duration": 0.006343,
     "end_time": "2022-07-22T06:53:09.763045",
     "exception": false,
     "start_time": "2022-07-22T06:53:09.756702",
     "status": "completed"
    },
    "tags": []
   },
   "source": [
    "### Compute and log mean ROC AUC score averaged over all digits"
   ]
  },
  {
   "cell_type": "code",
   "execution_count": 19,
   "id": "a7d372fe",
   "metadata": {
    "execution": {
     "iopub.execute_input": "2022-07-22T06:53:09.776031Z",
     "iopub.status.busy": "2022-07-22T06:53:09.775724Z",
     "iopub.status.idle": "2022-07-22T06:53:09.790915Z",
     "shell.execute_reply": "2022-07-22T06:53:09.790054Z"
    },
    "papermill": {
     "duration": 0.023842,
     "end_time": "2022-07-22T06:53:09.792778",
     "exception": false,
     "start_time": "2022-07-22T06:53:09.768936",
     "status": "completed"
    },
    "tags": []
   },
   "outputs": [
    {
     "name": "stdout",
     "output_type": "stream",
     "text": [
      " - Logging roc_auc_class_mean (float) : 0.9989482536761075\n"
     ]
    }
   ],
   "source": [
    "roc_auc_macro = np.mean(list(roc_auc_dict.values()))\n",
    "\n",
    "logger.log_float(\"roc_auc_class_mean\", roc_auc_macro)\n",
    "\n",
    "# assert that the same value can be computed directly using sklearn\n",
    "assert roc_auc_macro == metrics.roc_auc_score(\n",
    "    y_test, y_pred_probs_test, average=\"macro\", multi_class=\"ovr\"\n",
    ")"
   ]
  },
  {
   "cell_type": "code",
   "execution_count": 20,
   "id": "aca0b693",
   "metadata": {
    "execution": {
     "iopub.execute_input": "2022-07-22T06:53:09.806471Z",
     "iopub.status.busy": "2022-07-22T06:53:09.806162Z",
     "iopub.status.idle": "2022-07-22T06:53:09.809641Z",
     "shell.execute_reply": "2022-07-22T06:53:09.808739Z"
    },
    "lines_to_next_cell": 0,
    "papermill": {
     "duration": 0.012506,
     "end_time": "2022-07-22T06:53:09.811608",
     "exception": false,
     "start_time": "2022-07-22T06:53:09.799102",
     "status": "completed"
    },
    "tags": []
   },
   "outputs": [],
   "source": [
    "# ---"
   ]
  },
  {
   "cell_type": "code",
   "execution_count": null,
   "id": "cfd6ee38",
   "metadata": {
    "papermill": {
     "duration": 0.006102,
     "end_time": "2022-07-22T06:53:09.823846",
     "exception": false,
     "start_time": "2022-07-22T06:53:09.817744",
     "status": "completed"
    },
    "tags": []
   },
   "outputs": [],
   "source": []
  }
 ],
 "metadata": {
  "jupytext": {
   "cell_metadata_filter": "tags,-all",
   "main_language": "python",
   "notebook_metadata_filter": "-all"
  },
  "language_info": {
   "codemirror_mode": {
    "name": "ipython",
    "version": 3
   },
   "file_extension": ".py",
   "mimetype": "text/x-python",
   "name": "python",
   "nbconvert_exporter": "python",
   "pygments_lexer": "ipython3",
   "version": "3.8.10"
  },
  "papermill": {
   "default_parameters": {},
   "duration": 10.427221,
   "end_time": "2022-07-22T06:53:11.065209",
   "environment_variables": {},
   "exception": null,
   "input_path": "/home/host_user/workspace/mnist-demo-pipeline/mnist-demo-pipeline/notebooks/temp-notebook-28vocoqf.ipynb",
   "output_path": "notebooks/benchmark-model.ipynb",
   "parameters": {
    "P": {
     "_opentelemetry_traceparent": "00-c6d8e1047d2497021b7d7ebb10256a7c-d0b7a53f2631cab5-01",
     "pipeline.data_lake_root": "/pipeline-outputs/data-lake",
     "pipeline.github.actor": "matiasdahl",
     "pipeline.github.base_ref": "",
     "pipeline.github.event_name": "schedule",
     "pipeline.github.head_ref": "",
     "pipeline.github.job": "run-tests-pipeline-and-persist-pipeline-outputs",
     "pipeline.github.ref": "refs/heads/development",
     "pipeline.github.ref_name": "development",
     "pipeline.github.ref_type": "branch",
     "pipeline.github.repository": "pynb-dag-runner/mnist-digits-demo-pipeline",
     "pipeline.github.run_id": "2716826811",
     "pipeline.github.runner_name": "Hosted Agent",
     "pipeline.github.sha": "5a6f90a9473b3095841d5b5dc7b58f5f049a0f71",
     "pipeline.github.workflow": "Run automated tests, pipeline and deploy results to static reporting site",
     "pipeline.pipeline_run_id": "6de65c62-ad94-4813-b4d0-73ede8e01725",
     "pipeline.run_environment": "ci",
     "run.retry_nr": "0",
     "task.max_nr_retries": "1",
     "task.notebook": "notebooks/benchmark-model.py",
     "task.nr_train_images": 800,
     "task.num_cpus": 1,
     "task.timeout_s": "None"
    }
   },
   "start_time": "2022-07-22T06:53:00.637988",
   "version": "2.3.3"
  }
 },
 "nbformat": 4,
 "nbformat_minor": 5
}