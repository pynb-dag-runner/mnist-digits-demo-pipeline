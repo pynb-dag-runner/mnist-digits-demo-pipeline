{
 "cells": [
  {
   "cell_type": "markdown",
   "id": "faf07327",
   "metadata": {
    "papermill": {
     "duration": 0.016832,
     "end_time": "2022-07-22T06:53:24.611757",
     "exception": false,
     "start_time": "2022-07-22T06:53:24.594925",
     "status": "completed"
    },
    "tags": []
   },
   "source": [
    "# Summarize model performances\n",
    "\n",
    "This notebooks plots the performances (using averaged ROC AUC scores) for models\n",
    "trained with different training sets."
   ]
  },
  {
   "cell_type": "markdown",
   "id": "12dc2c4d",
   "metadata": {
    "papermill": {
     "duration": 0.002551,
     "end_time": "2022-07-22T06:53:24.617399",
     "exception": false,
     "start_time": "2022-07-22T06:53:24.614848",
     "status": "completed"
    },
    "tags": []
   },
   "source": [
    "### Determine run parameters"
   ]
  },
  {
   "cell_type": "code",
   "execution_count": 1,
   "id": "38f02c37",
   "metadata": {
    "execution": {
     "iopub.execute_input": "2022-07-22T06:53:24.624787Z",
     "iopub.status.busy": "2022-07-22T06:53:24.623838Z",
     "iopub.status.idle": "2022-07-22T06:53:24.633489Z",
     "shell.execute_reply": "2022-07-22T06:53:24.632667Z"
    },
    "lines_to_next_cell": 0,
    "papermill": {
     "duration": 0.015329,
     "end_time": "2022-07-22T06:53:24.635149",
     "exception": false,
     "start_time": "2022-07-22T06:53:24.619820",
     "status": "completed"
    },
    "tags": []
   },
   "outputs": [],
   "source": [
    "# ----------------- Parameters for interactive development --------------\n",
    "P = {\n",
    "    \"pipeline.run_environment\": \"dev\",\n",
    "}"
   ]
  },
  {
   "cell_type": "code",
   "execution_count": 2,
   "id": "c6929e00",
   "metadata": {
    "execution": {
     "iopub.execute_input": "2022-07-22T06:53:24.642135Z",
     "iopub.status.busy": "2022-07-22T06:53:24.641757Z",
     "iopub.status.idle": "2022-07-22T06:53:24.645353Z",
     "shell.execute_reply": "2022-07-22T06:53:24.644693Z"
    },
    "lines_to_next_cell": 0,
    "papermill": {
     "duration": 0.009154,
     "end_time": "2022-07-22T06:53:24.646963",
     "exception": false,
     "start_time": "2022-07-22T06:53:24.637809",
     "status": "completed"
    },
    "tags": [
     "parameters"
    ]
   },
   "outputs": [],
   "source": [
    "# - During automated runs parameters will be injected in the below cell -"
   ]
  },
  {
   "cell_type": "code",
   "execution_count": 3,
   "id": "5f20dd15",
   "metadata": {
    "execution": {
     "iopub.execute_input": "2022-07-22T06:53:24.654052Z",
     "iopub.status.busy": "2022-07-22T06:53:24.653821Z",
     "iopub.status.idle": "2022-07-22T06:53:24.658036Z",
     "shell.execute_reply": "2022-07-22T06:53:24.657539Z"
    },
    "papermill": {
     "duration": 0.009488,
     "end_time": "2022-07-22T06:53:24.659487",
     "exception": false,
     "start_time": "2022-07-22T06:53:24.649999",
     "status": "completed"
    },
    "tags": [
     "injected-parameters"
    ]
   },
   "outputs": [],
   "source": [
    "# Parameters\n",
    "P = {\n",
    "    \"pipeline.data_lake_root\": \"/pipeline-outputs/data-lake\",\n",
    "    \"pipeline.run_environment\": \"ci\",\n",
    "    \"pipeline.pipeline_run_id\": \"6de65c62-ad94-4813-b4d0-73ede8e01725\",\n",
    "    \"pipeline.github.repository\": \"pynb-dag-runner/mnist-digits-demo-pipeline\",\n",
    "    \"pipeline.github.workflow\": \"Run automated tests, pipeline and deploy results to static reporting site\",\n",
    "    \"pipeline.github.runner_name\": \"Hosted Agent\",\n",
    "    \"pipeline.github.run_id\": \"2716826811\",\n",
    "    \"pipeline.github.actor\": \"matiasdahl\",\n",
    "    \"pipeline.github.job\": \"run-tests-pipeline-and-persist-pipeline-outputs\",\n",
    "    \"pipeline.github.base_ref\": \"\",\n",
    "    \"pipeline.github.head_ref\": \"\",\n",
    "    \"pipeline.github.sha\": \"5a6f90a9473b3095841d5b5dc7b58f5f049a0f71\",\n",
    "    \"pipeline.github.ref\": \"refs/heads/development\",\n",
    "    \"pipeline.github.ref_type\": \"branch\",\n",
    "    \"pipeline.github.ref_name\": \"development\",\n",
    "    \"pipeline.github.event_name\": \"schedule\",\n",
    "    \"task.notebook\": \"notebooks/summary.py\",\n",
    "    \"task.max_nr_retries\": \"1\",\n",
    "    \"run.retry_nr\": \"0\",\n",
    "    \"task.timeout_s\": \"None\",\n",
    "    \"task.num_cpus\": 1,\n",
    "    \"_opentelemetry_traceparent\": \"00-c6d8e1047d2497021b7d7ebb10256a7c-1e9864d5ce8d958e-01\",\n",
    "}\n"
   ]
  },
  {
   "cell_type": "code",
   "execution_count": 4,
   "id": "844f584d",
   "metadata": {
    "execution": {
     "iopub.execute_input": "2022-07-22T06:53:24.674208Z",
     "iopub.status.busy": "2022-07-22T06:53:24.673768Z",
     "iopub.status.idle": "2022-07-22T06:53:24.676811Z",
     "shell.execute_reply": "2022-07-22T06:53:24.676227Z"
    },
    "lines_to_next_cell": 0,
    "papermill": {
     "duration": 0.008467,
     "end_time": "2022-07-22T06:53:24.678200",
     "exception": false,
     "start_time": "2022-07-22T06:53:24.669733",
     "status": "completed"
    },
    "tags": []
   },
   "outputs": [],
   "source": [
    "# -----------------------------------------------------------------------"
   ]
  },
  {
   "cell_type": "markdown",
   "id": "ba34cf1f",
   "metadata": {
    "papermill": {
     "duration": 0.002955,
     "end_time": "2022-07-22T06:53:24.683918",
     "exception": false,
     "start_time": "2022-07-22T06:53:24.680963",
     "status": "completed"
    },
    "tags": []
   },
   "source": [
    "---"
   ]
  },
  {
   "cell_type": "markdown",
   "id": "9eddf99c",
   "metadata": {
    "lines_to_next_cell": 2,
    "papermill": {
     "duration": 0.00259,
     "end_time": "2022-07-22T06:53:24.689053",
     "exception": false,
     "start_time": "2022-07-22T06:53:24.686463",
     "status": "completed"
    },
    "tags": []
   },
   "source": [
    "### Notebook code"
   ]
  },
  {
   "cell_type": "code",
   "execution_count": 5,
   "id": "aff886b6",
   "metadata": {
    "execution": {
     "iopub.execute_input": "2022-07-22T06:53:24.695715Z",
     "iopub.status.busy": "2022-07-22T06:53:24.695000Z",
     "iopub.status.idle": "2022-07-22T06:53:25.827326Z",
     "shell.execute_reply": "2022-07-22T06:53:25.826401Z"
    },
    "papermill": {
     "duration": 1.137659,
     "end_time": "2022-07-22T06:53:25.829361",
     "exception": false,
     "start_time": "2022-07-22T06:53:24.691702",
     "status": "completed"
    },
    "tags": []
   },
   "outputs": [],
   "source": [
    "#\n",
    "import pandas as pd\n",
    "import matplotlib.pyplot as plt\n",
    "\n",
    "#\n",
    "from pynb_dag_runner.tasks.task_opentelemetry_logging import PydarLogger"
   ]
  },
  {
   "cell_type": "code",
   "execution_count": 6,
   "id": "0cf39d52",
   "metadata": {
    "execution": {
     "iopub.execute_input": "2022-07-22T06:53:25.836843Z",
     "iopub.status.busy": "2022-07-22T06:53:25.836500Z",
     "iopub.status.idle": "2022-07-22T06:53:26.015489Z",
     "shell.execute_reply": "2022-07-22T06:53:26.014727Z"
    },
    "papermill": {
     "duration": 0.18483,
     "end_time": "2022-07-22T06:53:26.017573",
     "exception": false,
     "start_time": "2022-07-22T06:53:25.832743",
     "status": "completed"
    },
    "tags": []
   },
   "outputs": [
    {
     "name": "stderr",
     "output_type": "stream",
     "text": [
      "2022-07-22 06:53:25,841\tINFO worker.py:842 -- Connecting to existing Ray cluster at address: 172.17.0.2:6379\n"
     ]
    }
   ],
   "source": [
    "logger = PydarLogger(P=P)"
   ]
  },
  {
   "cell_type": "code",
   "execution_count": 7,
   "id": "24e390fa",
   "metadata": {
    "execution": {
     "iopub.execute_input": "2022-07-22T06:53:26.025737Z",
     "iopub.status.busy": "2022-07-22T06:53:26.025280Z",
     "iopub.status.idle": "2022-07-22T06:53:26.030436Z",
     "shell.execute_reply": "2022-07-22T06:53:26.029758Z"
    },
    "papermill": {
     "duration": 0.010886,
     "end_time": "2022-07-22T06:53:26.031909",
     "exception": false,
     "start_time": "2022-07-22T06:53:26.021023",
     "status": "completed"
    },
    "tags": []
   },
   "outputs": [],
   "source": [
    "from pynb_dag_runner.tasks.task_opentelemetry_logging import (\n",
    "    PydarLogger,\n",
    "    get_logged_values,\n",
    ")\n",
    "from pynb_dag_runner.opentelemetry_helpers import _get_all_spans, Spans"
   ]
  },
  {
   "cell_type": "code",
   "execution_count": 8,
   "id": "395d5efa",
   "metadata": {
    "execution": {
     "iopub.execute_input": "2022-07-22T06:53:26.040481Z",
     "iopub.status.busy": "2022-07-22T06:53:26.040243Z",
     "iopub.status.idle": "2022-07-22T06:53:26.048182Z",
     "shell.execute_reply": "2022-07-22T06:53:26.046412Z"
    },
    "papermill": {
     "duration": 0.01431,
     "end_time": "2022-07-22T06:53:26.050567",
     "exception": false,
     "start_time": "2022-07-22T06:53:26.036257",
     "status": "completed"
    },
    "tags": []
   },
   "outputs": [],
   "source": [
    "def get_model_benchmarks():\n",
    "    \"\"\"\n",
    "    Query the OpenTelemetry logs for *this pipeline run* and return\n",
    "    all key-values logged from all runs of the benchmark-model.py task\n",
    "\n",
    "    For testing a json file with OpenTelemetry spans (as an array)\n",
    "    can be used as follows:\n",
    "\n",
    "    - Create output directory `mkdir /tmp/spans`\n",
    "    - Run unit tests. This will create pipeline-outputs/opentelemetry-spans.json\n",
    "    - Convert this json-array into jsonl format as follows\n",
    "\n",
    "    jq -c '.[]' /pipeline-outputs/opentelemetry-spans.json > /tmp/spans/data.txt\n",
    "\n",
    "    \"\"\"\n",
    "    spans: Spans = Spans(_get_all_spans())\n",
    "    print(f\"Found {len(spans)} spans\")\n",
    "\n",
    "    benchmark_spans = (\n",
    "        spans\n",
    "        # -\n",
    "        .filter([\"name\"], \"execute-task\")\n",
    "        # -\n",
    "        .filter([\"attributes\", \"task.notebook\"], \"notebooks/benchmark-model.py\")\n",
    "    )\n",
    "\n",
    "    result = []\n",
    "    for s in benchmark_spans:\n",
    "        result.append(\n",
    "            {\n",
    "                \"span_id\": s[\"context\"][\"span_id\"],\n",
    "                \"nr_train_images\": s[\"attributes\"][\"task.nr_train_images\"],\n",
    "                \"data\": get_logged_values(spans.bound_under(s)),\n",
    "            }\n",
    "        )\n",
    "\n",
    "    return result\n",
    "\n",
    "\n",
    "def adjust_pandas(df):\n",
    "    def column_renamer(col_name: str) -> str:\n",
    "        return (\n",
    "            col_name\n",
    "            # -- 'data.roc_auc_per_digit.4' -> 'roc_auc.4'\n",
    "            .replace(\"data.roc_auc_per_digit\", \"roc_auc\")\n",
    "            # -- 'data.roc_auc_class_mean' -> 'roc_auc_mean'\n",
    "            .replace(\"data.roc_auc_class_mean\", \"roc_auc_mean\")\n",
    "        )\n",
    "\n",
    "    return df.rename(column_renamer, axis=\"columns\").sort_values(by=\"nr_train_images\")"
   ]
  },
  {
   "cell_type": "code",
   "execution_count": 9,
   "id": "a3b2161e",
   "metadata": {
    "execution": {
     "iopub.execute_input": "2022-07-22T06:53:26.070275Z",
     "iopub.status.busy": "2022-07-22T06:53:26.069428Z",
     "iopub.status.idle": "2022-07-22T06:53:26.135303Z",
     "shell.execute_reply": "2022-07-22T06:53:26.134478Z"
    },
    "papermill": {
     "duration": 0.078154,
     "end_time": "2022-07-22T06:53:26.137064",
     "exception": false,
     "start_time": "2022-07-22T06:53:26.058910",
     "status": "completed"
    },
    "tags": []
   },
   "outputs": [
    {
     "name": "stdout",
     "output_type": "stream",
     "text": [
      "Found 420 spans\n"
     ]
    }
   ],
   "source": [
    "df_data = adjust_pandas(pd.json_normalize(get_model_benchmarks()))"
   ]
  },
  {
   "cell_type": "code",
   "execution_count": 10,
   "id": "76b050bc",
   "metadata": {
    "execution": {
     "iopub.execute_input": "2022-07-22T06:53:26.144967Z",
     "iopub.status.busy": "2022-07-22T06:53:26.144583Z",
     "iopub.status.idle": "2022-07-22T06:53:26.170858Z",
     "shell.execute_reply": "2022-07-22T06:53:26.170208Z"
    },
    "papermill": {
     "duration": 0.031872,
     "end_time": "2022-07-22T06:53:26.172608",
     "exception": false,
     "start_time": "2022-07-22T06:53:26.140736",
     "status": "completed"
    },
    "tags": []
   },
   "outputs": [
    {
     "data": {
      "text/html": [
       "<div>\n",
       "<style scoped>\n",
       "    .dataframe tbody tr th:only-of-type {\n",
       "        vertical-align: middle;\n",
       "    }\n",
       "\n",
       "    .dataframe tbody tr th {\n",
       "        vertical-align: top;\n",
       "    }\n",
       "\n",
       "    .dataframe thead th {\n",
       "        text-align: right;\n",
       "    }\n",
       "</style>\n",
       "<table border=\"1\" class=\"dataframe\">\n",
       "  <thead>\n",
       "    <tr style=\"text-align: right;\">\n",
       "      <th></th>\n",
       "      <th>span_id</th>\n",
       "      <th>nr_train_images</th>\n",
       "      <th>roc_auc_mean</th>\n",
       "      <th>roc_auc.0</th>\n",
       "      <th>roc_auc.1</th>\n",
       "      <th>roc_auc.2</th>\n",
       "      <th>roc_auc.3</th>\n",
       "      <th>roc_auc.4</th>\n",
       "      <th>roc_auc.5</th>\n",
       "      <th>roc_auc.6</th>\n",
       "      <th>roc_auc.7</th>\n",
       "      <th>roc_auc.8</th>\n",
       "      <th>roc_auc.9</th>\n",
       "    </tr>\n",
       "  </thead>\n",
       "  <tbody>\n",
       "    <tr>\n",
       "      <th>1</th>\n",
       "      <td>0x9f7112b408f41397</td>\n",
       "      <td>600</td>\n",
       "      <td>0.9991</td>\n",
       "      <td>1.0</td>\n",
       "      <td>0.9993</td>\n",
       "      <td>1.0</td>\n",
       "      <td>0.9997</td>\n",
       "      <td>0.9992</td>\n",
       "      <td>0.9990</td>\n",
       "      <td>0.9999</td>\n",
       "      <td>0.9998</td>\n",
       "      <td>0.9948</td>\n",
       "      <td>0.9989</td>\n",
       "    </tr>\n",
       "    <tr>\n",
       "      <th>0</th>\n",
       "      <td>0xd4f2cc293366bd36</td>\n",
       "      <td>800</td>\n",
       "      <td>0.9989</td>\n",
       "      <td>1.0</td>\n",
       "      <td>0.9987</td>\n",
       "      <td>1.0</td>\n",
       "      <td>0.9999</td>\n",
       "      <td>0.9995</td>\n",
       "      <td>0.9990</td>\n",
       "      <td>1.0000</td>\n",
       "      <td>0.9999</td>\n",
       "      <td>0.9930</td>\n",
       "      <td>0.9995</td>\n",
       "    </tr>\n",
       "    <tr>\n",
       "      <th>2</th>\n",
       "      <td>0x15b38a477efae6a2</td>\n",
       "      <td>1000</td>\n",
       "      <td>0.9992</td>\n",
       "      <td>1.0</td>\n",
       "      <td>0.9989</td>\n",
       "      <td>1.0</td>\n",
       "      <td>0.9999</td>\n",
       "      <td>0.9997</td>\n",
       "      <td>0.9994</td>\n",
       "      <td>0.9999</td>\n",
       "      <td>0.9998</td>\n",
       "      <td>0.9949</td>\n",
       "      <td>0.9996</td>\n",
       "    </tr>\n",
       "    <tr>\n",
       "      <th>3</th>\n",
       "      <td>0x4cc0382145dd178e</td>\n",
       "      <td>1200</td>\n",
       "      <td>0.9994</td>\n",
       "      <td>1.0</td>\n",
       "      <td>0.9991</td>\n",
       "      <td>1.0</td>\n",
       "      <td>0.9999</td>\n",
       "      <td>0.9997</td>\n",
       "      <td>0.9997</td>\n",
       "      <td>0.9999</td>\n",
       "      <td>0.9998</td>\n",
       "      <td>0.9959</td>\n",
       "      <td>0.9997</td>\n",
       "    </tr>\n",
       "  </tbody>\n",
       "</table>\n",
       "</div>"
      ],
      "text/plain": [
       "              span_id  nr_train_images  roc_auc_mean  roc_auc.0  roc_auc.1  \\\n",
       "1  0x9f7112b408f41397              600        0.9991        1.0     0.9993   \n",
       "0  0xd4f2cc293366bd36              800        0.9989        1.0     0.9987   \n",
       "2  0x15b38a477efae6a2             1000        0.9992        1.0     0.9989   \n",
       "3  0x4cc0382145dd178e             1200        0.9994        1.0     0.9991   \n",
       "\n",
       "   roc_auc.2  roc_auc.3  roc_auc.4  roc_auc.5  roc_auc.6  roc_auc.7  \\\n",
       "1        1.0     0.9997     0.9992     0.9990     0.9999     0.9998   \n",
       "0        1.0     0.9999     0.9995     0.9990     1.0000     0.9999   \n",
       "2        1.0     0.9999     0.9997     0.9994     0.9999     0.9998   \n",
       "3        1.0     0.9999     0.9997     0.9997     0.9999     0.9998   \n",
       "\n",
       "   roc_auc.8  roc_auc.9  \n",
       "1     0.9948     0.9989  \n",
       "0     0.9930     0.9995  \n",
       "2     0.9949     0.9996  \n",
       "3     0.9959     0.9997  "
      ]
     },
     "execution_count": 10,
     "metadata": {},
     "output_type": "execute_result"
    }
   ],
   "source": [
    "df_data.round(4)"
   ]
  },
  {
   "cell_type": "code",
   "execution_count": 11,
   "id": "ed28ff0f",
   "metadata": {
    "execution": {
     "iopub.execute_input": "2022-07-22T06:53:26.180264Z",
     "iopub.status.busy": "2022-07-22T06:53:26.179809Z",
     "iopub.status.idle": "2022-07-22T06:53:26.327928Z",
     "shell.execute_reply": "2022-07-22T06:53:26.326286Z"
    },
    "papermill": {
     "duration": 0.153789,
     "end_time": "2022-07-22T06:53:26.329628",
     "exception": false,
     "start_time": "2022-07-22T06:53:26.175839",
     "status": "completed"
    },
    "tags": []
   },
   "outputs": [
    {
     "data": {
      "image/png": "[encoded data removed]",
      "text/plain": [
       "<Figure size 1152x288 with 1 Axes>"
      ]
     },
     "metadata": {
      "needs_background": "light"
     },
     "output_type": "display_data"
    }
   ],
   "source": [
    "def plot_classifier_performance_summary(df_data):\n",
    "    fig, ax = plt.subplots(nrows=1, ncols=1, figsize=(16, 4), sharex=True)\n",
    "\n",
    "    #\n",
    "    ax.plot(\n",
    "        df_data[\"nr_train_images\"], df_data[\"roc_auc_mean\"], marker=\"o\", linestyle=\"--\"\n",
    "    )\n",
    "    ax.set_title(\n",
    "        f\"ROC AUC digit classifier performance on evaluation digits\", fontsize=17\n",
    "    )\n",
    "    ax.set_xlabel(\"Total number of digits in training set\", fontsize=14)\n",
    "    ax.set_ylabel(\"Mean ROC AUC\", fontsize=14)\n",
    "\n",
    "    fig.tight_layout()\n",
    "    fig.show()\n",
    "\n",
    "    return fig\n",
    "\n",
    "\n",
    "fig = plot_classifier_performance_summary(df_data)"
   ]
  },
  {
   "cell_type": "code",
   "execution_count": 12,
   "id": "7454a325",
   "metadata": {
    "execution": {
     "iopub.execute_input": "2022-07-22T06:53:26.339383Z",
     "iopub.status.busy": "2022-07-22T06:53:26.338838Z",
     "iopub.status.idle": "2022-07-22T06:53:26.393593Z",
     "shell.execute_reply": "2022-07-22T06:53:26.392827Z"
    },
    "papermill": {
     "duration": 0.061608,
     "end_time": "2022-07-22T06:53:26.395580",
     "exception": false,
     "start_time": "2022-07-22T06:53:26.333972",
     "status": "completed"
    },
    "tags": []
   },
   "outputs": [],
   "source": [
    "logger.log_figure(\"auc-roc-model-performances.png\", fig)"
   ]
  },
  {
   "cell_type": "code",
   "execution_count": 13,
   "id": "b56c9c10",
   "metadata": {
    "execution": {
     "iopub.execute_input": "2022-07-22T06:53:26.404707Z",
     "iopub.status.busy": "2022-07-22T06:53:26.404368Z",
     "iopub.status.idle": "2022-07-22T06:53:26.408764Z",
     "shell.execute_reply": "2022-07-22T06:53:26.408092Z"
    },
    "papermill": {
     "duration": 0.011006,
     "end_time": "2022-07-22T06:53:26.410357",
     "exception": false,
     "start_time": "2022-07-22T06:53:26.399351",
     "status": "completed"
    },
    "tags": []
   },
   "outputs": [],
   "source": [
    "###"
   ]
  },
  {
   "cell_type": "code",
   "execution_count": null,
   "id": "4737e4fd",
   "metadata": {
    "papermill": {
     "duration": 0.003753,
     "end_time": "2022-07-22T06:53:26.417621",
     "exception": false,
     "start_time": "2022-07-22T06:53:26.413868",
     "status": "completed"
    },
    "tags": []
   },
   "outputs": [],
   "source": []
  }
 ],
 "metadata": {
  "jupytext": {
   "cell_metadata_filter": "tags,-all",
   "main_language": "python",
   "notebook_metadata_filter": "-all"
  },
  "language_info": {
   "codemirror_mode": {
    "name": "ipython",
    "version": 3
   },
   "file_extension": ".py",
   "mimetype": "text/x-python",
   "name": "python",
   "nbconvert_exporter": "python",
   "pygments_lexer": "ipython3",
   "version": "3.8.10"
  },
  "papermill": {
   "default_parameters": {},
   "duration": 4.115552,
   "end_time": "2022-07-22T06:53:27.341328",
   "environment_variables": {},
   "exception": null,
   "input_path": "/home/host_user/workspace/mnist-demo-pipeline/mnist-demo-pipeline/notebooks/temp-notebook-_tpec186.ipynb",
   "output_path": "notebooks/summary.ipynb",
   "parameters": {
    "P": {
     "_opentelemetry_traceparent": "00-c6d8e1047d2497021b7d7ebb10256a7c-1e9864d5ce8d958e-01",
     "pipeline.data_lake_root": "/pipeline-outputs/data-lake",
     "pipeline.github.actor": "matiasdahl",
     "pipeline.github.base_ref": "",
     "pipeline.github.event_name": "schedule",
     "pipeline.github.head_ref": "",
     "pipeline.github.job": "run-tests-pipeline-and-persist-pipeline-outputs",
     "pipeline.github.ref": "refs/heads/development",
     "pipeline.github.ref_name": "development",
     "pipeline.github.ref_type": "branch",
     "pipeline.github.repository": "pynb-dag-runner/mnist-digits-demo-pipeline",
     "pipeline.github.run_id": "2716826811",
     "pipeline.github.runner_name": "Hosted Agent",
     "pipeline.github.sha": "5a6f90a9473b3095841d5b5dc7b58f5f049a0f71",
     "pipeline.github.workflow": "Run automated tests, pipeline and deploy results to static reporting site",
     "pipeline.pipeline_run_id": "6de65c62-ad94-4813-b4d0-73ede8e01725",
     "pipeline.run_environment": "ci",
     "run.retry_nr": "0",
     "task.max_nr_retries": "1",
     "task.notebook": "notebooks/summary.py",
     "task.num_cpus": 1,
     "task.timeout_s": "None"
    }
   },
   "start_time": "2022-07-22T06:53:23.225776",
   "version": "2.3.3"
  }
 },
 "nbformat": 4,
 "nbformat_minor": 5
}