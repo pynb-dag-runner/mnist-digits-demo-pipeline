{
 "cells": [
  {
   "cell_type": "markdown",
   "id": "b346861b",
   "metadata": {
    "papermill": {
     "duration": 0.00441,
     "end_time": "2022-07-22T06:52:39.932949",
     "exception": false,
     "start_time": "2022-07-22T06:52:39.928539",
     "status": "completed"
    },
    "tags": []
   },
   "source": [
    "# Split digits and labels into separate training and testing data sets"
   ]
  },
  {
   "cell_type": "markdown",
   "id": "200974aa",
   "metadata": {
    "papermill": {
     "duration": 0.002415,
     "end_time": "2022-07-22T06:52:39.940816",
     "exception": false,
     "start_time": "2022-07-22T06:52:39.938401",
     "status": "completed"
    },
    "tags": []
   },
   "source": [
    "### Determine run parameters"
   ]
  },
  {
   "cell_type": "code",
   "execution_count": 1,
   "id": "c3e98148",
   "metadata": {
    "execution": {
     "iopub.execute_input": "2022-07-22T06:52:39.952243Z",
     "iopub.status.busy": "2022-07-22T06:52:39.951851Z",
     "iopub.status.idle": "2022-07-22T06:52:39.965104Z",
     "shell.execute_reply": "2022-07-22T06:52:39.963131Z"
    },
    "lines_to_next_cell": 0,
    "papermill": {
     "duration": 0.023571,
     "end_time": "2022-07-22T06:52:39.966680",
     "exception": false,
     "start_time": "2022-07-22T06:52:39.943109",
     "status": "completed"
    },
    "tags": []
   },
   "outputs": [],
   "source": [
    "# ----------------- Parameters for interactive development --------------\n",
    "P = {\n",
    "    \"pipeline.data_lake_root\": \"/pipeline-outputs/data-lake\",\n",
    "    \"task.train_test_ratio\": 0.7,\n",
    "}"
   ]
  },
  {
   "cell_type": "code",
   "execution_count": 2,
   "id": "cad79705",
   "metadata": {
    "execution": {
     "iopub.execute_input": "2022-07-22T06:52:39.973434Z",
     "iopub.status.busy": "2022-07-22T06:52:39.972358Z",
     "iopub.status.idle": "2022-07-22T06:52:39.977309Z",
     "shell.execute_reply": "2022-07-22T06:52:39.976757Z"
    },
    "lines_to_next_cell": 0,
    "papermill": {
     "duration": 0.010153,
     "end_time": "2022-07-22T06:52:39.979167",
     "exception": false,
     "start_time": "2022-07-22T06:52:39.969014",
     "status": "completed"
    },
    "tags": [
     "parameters"
    ]
   },
   "outputs": [],
   "source": [
    "# - During automated runs parameters will be injected in the below cell -"
   ]
  },
  {
   "cell_type": "code",
   "execution_count": 3,
   "id": "74c09cb6",
   "metadata": {
    "execution": {
     "iopub.execute_input": "2022-07-22T06:52:39.986283Z",
     "iopub.status.busy": "2022-07-22T06:52:39.986057Z",
     "iopub.status.idle": "2022-07-22T06:52:39.990338Z",
     "shell.execute_reply": "2022-07-22T06:52:39.989796Z"
    },
    "papermill": {
     "duration": 0.011683,
     "end_time": "2022-07-22T06:52:39.993083",
     "exception": false,
     "start_time": "2022-07-22T06:52:39.981400",
     "status": "completed"
    },
    "tags": [
     "injected-parameters"
    ]
   },
   "outputs": [],
   "source": [
    "# Parameters\n",
    "P = {\n",
    "    \"pipeline.data_lake_root\": \"/pipeline-outputs/data-lake\",\n",
    "    \"pipeline.run_environment\": \"ci\",\n",
    "    \"pipeline.pipeline_run_id\": \"6de65c62-ad94-4813-b4d0-73ede8e01725\",\n",
    "    \"pipeline.github.repository\": \"pynb-dag-runner/mnist-digits-demo-pipeline\",\n",
    "    \"pipeline.github.workflow\": \"Run automated tests, pipeline and deploy results to static reporting site\",\n",
    "    \"pipeline.github.runner_name\": \"Hosted Agent\",\n",
    "    \"pipeline.github.run_id\": \"2716826811\",\n",
    "    \"pipeline.github.actor\": \"matiasdahl\",\n",
    "    \"pipeline.github.job\": \"run-tests-pipeline-and-persist-pipeline-outputs\",\n",
    "    \"pipeline.github.base_ref\": \"\",\n",
    "    \"pipeline.github.head_ref\": \"\",\n",
    "    \"pipeline.github.sha\": \"5a6f90a9473b3095841d5b5dc7b58f5f049a0f71\",\n",
    "    \"pipeline.github.ref\": \"refs/heads/development\",\n",
    "    \"pipeline.github.ref_type\": \"branch\",\n",
    "    \"pipeline.github.ref_name\": \"development\",\n",
    "    \"pipeline.github.event_name\": \"schedule\",\n",
    "    \"task.train_test_ratio\": 0.7,\n",
    "    \"task.notebook\": \"notebooks/split-train-test.py\",\n",
    "    \"task.max_nr_retries\": \"1\",\n",
    "    \"run.retry_nr\": \"0\",\n",
    "    \"task.timeout_s\": \"None\",\n",
    "    \"task.num_cpus\": 1,\n",
    "    \"_opentelemetry_traceparent\": \"00-c6d8e1047d2497021b7d7ebb10256a7c-1a75798f7165c33e-01\",\n",
    "}\n"
   ]
  },
  {
   "cell_type": "code",
   "execution_count": 4,
   "id": "baeb224b",
   "metadata": {
    "execution": {
     "iopub.execute_input": "2022-07-22T06:52:39.999288Z",
     "iopub.status.busy": "2022-07-22T06:52:39.999056Z",
     "iopub.status.idle": "2022-07-22T06:52:40.001818Z",
     "shell.execute_reply": "2022-07-22T06:52:40.001211Z"
    },
    "lines_to_next_cell": 0,
    "papermill": {
     "duration": 0.008225,
     "end_time": "2022-07-22T06:52:40.004208",
     "exception": false,
     "start_time": "2022-07-22T06:52:39.995983",
     "status": "completed"
    },
    "tags": []
   },
   "outputs": [],
   "source": [
    "# -----------------------------------------------------------------------"
   ]
  },
  {
   "cell_type": "markdown",
   "id": "dbd12e2c",
   "metadata": {
    "papermill": {
     "duration": 0.00231,
     "end_time": "2022-07-22T06:52:40.009450",
     "exception": false,
     "start_time": "2022-07-22T06:52:40.007140",
     "status": "completed"
    },
    "tags": []
   },
   "source": [
    "---"
   ]
  },
  {
   "cell_type": "markdown",
   "id": "2916d7b9",
   "metadata": {
    "lines_to_next_cell": 2,
    "papermill": {
     "duration": 0.002238,
     "end_time": "2022-07-22T06:52:40.013983",
     "exception": false,
     "start_time": "2022-07-22T06:52:40.011745",
     "status": "completed"
    },
    "tags": []
   },
   "source": [
    "### Notebook code"
   ]
  },
  {
   "cell_type": "code",
   "execution_count": 5,
   "id": "9003e63a",
   "metadata": {
    "execution": {
     "iopub.execute_input": "2022-07-22T06:52:40.020525Z",
     "iopub.status.busy": "2022-07-22T06:52:40.020313Z",
     "iopub.status.idle": "2022-07-22T06:52:40.590857Z",
     "shell.execute_reply": "2022-07-22T06:52:40.590182Z"
    },
    "papermill": {
     "duration": 0.575877,
     "end_time": "2022-07-22T06:52:40.593047",
     "exception": false,
     "start_time": "2022-07-22T06:52:40.017170",
     "status": "completed"
    },
    "tags": []
   },
   "outputs": [
    {
     "name": "stderr",
     "output_type": "stream",
     "text": [
      "2022-07-22 06:52:40,408\tINFO worker.py:842 -- Connecting to existing Ray cluster at address: 172.17.0.2:6379\n"
     ]
    }
   ],
   "source": [
    "from common.io import datalake_root, read_numpy, write_numpy\n",
    "from pynb_dag_runner.tasks.task_opentelemetry_logging import PydarLogger\n",
    "\n",
    "logger = PydarLogger(P)"
   ]
  },
  {
   "cell_type": "markdown",
   "id": "cac9737f",
   "metadata": {
    "papermill": {
     "duration": 0.003083,
     "end_time": "2022-07-22T06:52:40.601225",
     "exception": false,
     "start_time": "2022-07-22T06:52:40.598142",
     "status": "completed"
    },
    "tags": []
   },
   "source": [
    "## Load and split digits data"
   ]
  },
  {
   "cell_type": "code",
   "execution_count": 6,
   "id": "0c5a4825",
   "metadata": {
    "execution": {
     "iopub.execute_input": "2022-07-22T06:52:40.607968Z",
     "iopub.status.busy": "2022-07-22T06:52:40.607589Z",
     "iopub.status.idle": "2022-07-22T06:52:40.626399Z",
     "shell.execute_reply": "2022-07-22T06:52:40.625828Z"
    },
    "papermill": {
     "duration": 0.024463,
     "end_time": "2022-07-22T06:52:40.628214",
     "exception": false,
     "start_time": "2022-07-22T06:52:40.603751",
     "status": "completed"
    },
    "tags": []
   },
   "outputs": [],
   "source": [
    "X = read_numpy(datalake_root(P) / \"raw\" / \"digits.numpy\")\n",
    "y = read_numpy(datalake_root(P) / \"raw\" / \"labels.numpy\")"
   ]
  },
  {
   "cell_type": "code",
   "execution_count": 7,
   "id": "3411d090",
   "metadata": {
    "execution": {
     "iopub.execute_input": "2022-07-22T06:52:40.635648Z",
     "iopub.status.busy": "2022-07-22T06:52:40.635044Z",
     "iopub.status.idle": "2022-07-22T06:52:41.064719Z",
     "shell.execute_reply": "2022-07-22T06:52:41.064044Z"
    },
    "papermill": {
     "duration": 0.436105,
     "end_time": "2022-07-22T06:52:41.066640",
     "exception": false,
     "start_time": "2022-07-22T06:52:40.630535",
     "status": "completed"
    },
    "tags": []
   },
   "outputs": [],
   "source": [
    "from sklearn.model_selection import train_test_split\n",
    "\n",
    "X_train, X_test, y_train, y_test = train_test_split(\n",
    "    X,\n",
    "    y,\n",
    "    train_size=P[\"task.train_test_ratio\"],\n",
    "    test_size=None,\n",
    "    stratify=y,\n",
    "    shuffle=True,\n",
    "    random_state=1,\n",
    ")\n",
    "\n",
    "# assert nr of pixels per image is the same for all image vectors\n",
    "assert X.shape[1] == X_train.shape[1] == X_test.shape[1]\n",
    "\n",
    "# assert that the (X, y)-pairs have compatible sizes (for both train and test)\n",
    "assert X_train.shape[0] == len(y_train)\n",
    "assert X_test.shape[0] == len(y_test)\n",
    "\n",
    "# assert that all data is used\n",
    "assert len(y) == len(y_train) + len(y_test)"
   ]
  },
  {
   "cell_type": "code",
   "execution_count": 8,
   "id": "350acb9c",
   "metadata": {
    "execution": {
     "iopub.execute_input": "2022-07-22T06:52:41.080073Z",
     "iopub.status.busy": "2022-07-22T06:52:41.078721Z",
     "iopub.status.idle": "2022-07-22T06:52:41.086980Z",
     "shell.execute_reply": "2022-07-22T06:52:41.086337Z"
    },
    "papermill": {
     "duration": 0.017245,
     "end_time": "2022-07-22T06:52:41.088651",
     "exception": false,
     "start_time": "2022-07-22T06:52:41.071406",
     "status": "completed"
    },
    "tags": []
   },
   "outputs": [
    {
     "name": "stdout",
     "output_type": "stream",
     "text": [
      " - Logging nr_digits_train (int) : 1257\n",
      " - Logging nr_digits_test (int) : 540\n"
     ]
    }
   ],
   "source": [
    "logger.log_int(\"nr_digits_train\", len(y_train))\n",
    "logger.log_int(\"nr_digits_test\", len(y_test))"
   ]
  },
  {
   "cell_type": "markdown",
   "id": "5e2aa1ee",
   "metadata": {
    "papermill": {
     "duration": 0.002591,
     "end_time": "2022-07-22T06:52:41.102828",
     "exception": false,
     "start_time": "2022-07-22T06:52:41.100237",
     "status": "completed"
    },
    "tags": []
   },
   "source": [
    "### Persist training and test data sets to separate files"
   ]
  },
  {
   "cell_type": "code",
   "execution_count": 9,
   "id": "31a7959d",
   "metadata": {
    "execution": {
     "iopub.execute_input": "2022-07-22T06:52:41.110646Z",
     "iopub.status.busy": "2022-07-22T06:52:41.110397Z",
     "iopub.status.idle": "2022-07-22T06:52:41.115963Z",
     "shell.execute_reply": "2022-07-22T06:52:41.115380Z"
    },
    "papermill": {
     "duration": 0.011725,
     "end_time": "2022-07-22T06:52:41.118451",
     "exception": false,
     "start_time": "2022-07-22T06:52:41.106726",
     "status": "completed"
    },
    "tags": []
   },
   "outputs": [],
   "source": [
    "write_numpy(datalake_root(P) / \"train-data\" / \"digits.numpy\", X_train)\n",
    "write_numpy(datalake_root(P) / \"train-data\" / \"labels.numpy\", y_train)\n",
    "\n",
    "#\n",
    "write_numpy(datalake_root(P) / \"test-data\" / \"digits.numpy\", X_test)\n",
    "write_numpy(datalake_root(P) / \"test-data\" / \"labels.numpy\", y_test)"
   ]
  },
  {
   "cell_type": "code",
   "execution_count": null,
   "id": "369b3e00",
   "metadata": {
    "papermill": {
     "duration": 0.002548,
     "end_time": "2022-07-22T06:52:41.123689",
     "exception": false,
     "start_time": "2022-07-22T06:52:41.121141",
     "status": "completed"
    },
    "tags": []
   },
   "outputs": [],
   "source": []
  }
 ],
 "metadata": {
  "jupytext": {
   "cell_metadata_filter": "tags,-all",
   "main_language": "python",
   "notebook_metadata_filter": "-all"
  },
  "language_info": {
   "codemirror_mode": {
    "name": "ipython",
    "version": 3
   },
   "file_extension": ".py",
   "mimetype": "text/x-python",
   "name": "python",
   "nbconvert_exporter": "python",
   "pygments_lexer": "ipython3",
   "version": "3.8.10"
  },
  "papermill": {
   "default_parameters": {},
   "duration": 3.503954,
   "end_time": "2022-07-22T06:52:42.049289",
   "environment_variables": {},
   "exception": null,
   "input_path": "/home/host_user/workspace/mnist-demo-pipeline/mnist-demo-pipeline/notebooks/temp-notebook-iuakg29f.ipynb",
   "output_path": "notebooks/split-train-test.ipynb",
   "parameters": {
    "P": {
     "_opentelemetry_traceparent": "00-c6d8e1047d2497021b7d7ebb10256a7c-1a75798f7165c33e-01",
     "pipeline.data_lake_root": "/pipeline-outputs/data-lake",
     "pipeline.github.actor": "matiasdahl",
     "pipeline.github.base_ref": "",
     "pipeline.github.event_name": "schedule",
     "pipeline.github.head_ref": "",
     "pipeline.github.job": "run-tests-pipeline-and-persist-pipeline-outputs",
     "pipeline.github.ref": "refs/heads/development",
     "pipeline.github.ref_name": "development",
     "pipeline.github.ref_type": "branch",
     "pipeline.github.repository": "pynb-dag-runner/mnist-digits-demo-pipeline",
     "pipeline.github.run_id": "2716826811",
     "pipeline.github.runner_name": "Hosted Agent",
     "pipeline.github.sha": "5a6f90a9473b3095841d5b5dc7b58f5f049a0f71",
     "pipeline.github.workflow": "Run automated tests, pipeline and deploy results to static reporting site",
     "pipeline.pipeline_run_id": "6de65c62-ad94-4813-b4d0-73ede8e01725",
     "pipeline.run_environment": "ci",
     "run.retry_nr": "0",
     "task.max_nr_retries": "1",
     "task.notebook": "notebooks/split-train-test.py",
     "task.num_cpus": 1,
     "task.timeout_s": "None",
     "task.train_test_ratio": 0.7
    }
   },
   "start_time": "2022-07-22T06:52:38.545335",
   "version": "2.3.3"
  }
 },
 "nbformat": 4,
 "nbformat_minor": 5
}