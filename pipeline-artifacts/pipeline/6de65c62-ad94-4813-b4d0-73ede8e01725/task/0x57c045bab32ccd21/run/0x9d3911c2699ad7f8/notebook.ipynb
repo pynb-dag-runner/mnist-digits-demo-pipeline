{
 "cells": [
  {
   "cell_type": "markdown",
   "id": "3c1790d3",
   "metadata": {
    "papermill": {
     "duration": 0.004256,
     "end_time": "2022-07-22T06:52:45.293190",
     "exception": false,
     "start_time": "2022-07-22T06:52:45.288934",
     "status": "completed"
    },
    "tags": []
   },
   "source": [
    "# Train model\n",
    "\n",
    "The purpose of this notebook is:\n",
    "\n",
    "- Load all training data (images and labels).\n",
    "- Limit number of train images to `task.nr_train_images` (value provided as run parameter).\n",
    "- Train a support vector machine model using sklearn.\n",
    "- Persist the trained model using the ONNX format."
   ]
  },
  {
   "cell_type": "markdown",
   "id": "6a2138a0",
   "metadata": {
    "papermill": {
     "duration": 0.002628,
     "end_time": "2022-07-22T06:52:45.299304",
     "exception": false,
     "start_time": "2022-07-22T06:52:45.296676",
     "status": "completed"
    },
    "tags": []
   },
   "source": [
    "### Determine run parameters"
   ]
  },
  {
   "cell_type": "code",
   "execution_count": 1,
   "id": "0bf2c0fb",
   "metadata": {
    "execution": {
     "iopub.execute_input": "2022-07-22T06:52:45.306306Z",
     "iopub.status.busy": "2022-07-22T06:52:45.305955Z",
     "iopub.status.idle": "2022-07-22T06:52:45.314691Z",
     "shell.execute_reply": "2022-07-22T06:52:45.314097Z"
    },
    "lines_to_next_cell": 0,
    "papermill": {
     "duration": 0.014468,
     "end_time": "2022-07-22T06:52:45.316480",
     "exception": false,
     "start_time": "2022-07-22T06:52:45.302012",
     "status": "completed"
    },
    "tags": []
   },
   "outputs": [],
   "source": [
    "# ----------------- Parameters for interactive development --------------\n",
    "P = {\n",
    "    \"pipeline.data_lake_root\": \"/pipeline-outputs/data-lake\",\n",
    "    \"task.nr_train_images\": 600,\n",
    "}"
   ]
  },
  {
   "cell_type": "code",
   "execution_count": 2,
   "id": "9d753b02",
   "metadata": {
    "execution": {
     "iopub.execute_input": "2022-07-22T06:52:45.323312Z",
     "iopub.status.busy": "2022-07-22T06:52:45.323051Z",
     "iopub.status.idle": "2022-07-22T06:52:45.326276Z",
     "shell.execute_reply": "2022-07-22T06:52:45.325716Z"
    },
    "lines_to_next_cell": 0,
    "papermill": {
     "duration": 0.009699,
     "end_time": "2022-07-22T06:52:45.329060",
     "exception": false,
     "start_time": "2022-07-22T06:52:45.319361",
     "status": "completed"
    },
    "tags": [
     "parameters"
    ]
   },
   "outputs": [],
   "source": [
    "# - During automated runs parameters will be injected in the below cell -"
   ]
  },
  {
   "cell_type": "code",
   "execution_count": 3,
   "id": "2f7147ff",
   "metadata": {
    "execution": {
     "iopub.execute_input": "2022-07-22T06:52:45.335992Z",
     "iopub.status.busy": "2022-07-22T06:52:45.335765Z",
     "iopub.status.idle": "2022-07-22T06:52:45.340092Z",
     "shell.execute_reply": "2022-07-22T06:52:45.339566Z"
    },
    "papermill": {
     "duration": 0.010776,
     "end_time": "2022-07-22T06:52:45.342590",
     "exception": false,
     "start_time": "2022-07-22T06:52:45.331814",
     "status": "completed"
    },
    "tags": [
     "injected-parameters"
    ]
   },
   "outputs": [],
   "source": [
    "# Parameters\n",
    "P = {\n",
    "    \"pipeline.data_lake_root\": \"/pipeline-outputs/data-lake\",\n",
    "    \"pipeline.run_environment\": \"ci\",\n",
    "    \"pipeline.pipeline_run_id\": \"6de65c62-ad94-4813-b4d0-73ede8e01725\",\n",
    "    \"pipeline.github.repository\": \"pynb-dag-runner/mnist-digits-demo-pipeline\",\n",
    "    \"pipeline.github.workflow\": \"Run automated tests, pipeline and deploy results to static reporting site\",\n",
    "    \"pipeline.github.runner_name\": \"Hosted Agent\",\n",
    "    \"pipeline.github.run_id\": \"2716826811\",\n",
    "    \"pipeline.github.actor\": \"matiasdahl\",\n",
    "    \"pipeline.github.job\": \"run-tests-pipeline-and-persist-pipeline-outputs\",\n",
    "    \"pipeline.github.base_ref\": \"\",\n",
    "    \"pipeline.github.head_ref\": \"\",\n",
    "    \"pipeline.github.sha\": \"5a6f90a9473b3095841d5b5dc7b58f5f049a0f71\",\n",
    "    \"pipeline.github.ref\": \"refs/heads/development\",\n",
    "    \"pipeline.github.ref_type\": \"branch\",\n",
    "    \"pipeline.github.ref_name\": \"development\",\n",
    "    \"pipeline.github.event_name\": \"schedule\",\n",
    "    \"task.nr_train_images\": 600,\n",
    "    \"task.notebook\": \"notebooks/train-model.py\",\n",
    "    \"task.max_nr_retries\": \"1\",\n",
    "    \"run.retry_nr\": \"0\",\n",
    "    \"task.timeout_s\": \"None\",\n",
    "    \"task.num_cpus\": 1,\n",
    "    \"_opentelemetry_traceparent\": \"00-c6d8e1047d2497021b7d7ebb10256a7c-c0e655ac7af12323-01\",\n",
    "}\n"
   ]
  },
  {
   "cell_type": "code",
   "execution_count": 4,
   "id": "128c6816",
   "metadata": {
    "execution": {
     "iopub.execute_input": "2022-07-22T06:52:45.349689Z",
     "iopub.status.busy": "2022-07-22T06:52:45.349450Z",
     "iopub.status.idle": "2022-07-22T06:52:45.352540Z",
     "shell.execute_reply": "2022-07-22T06:52:45.351906Z"
    },
    "lines_to_next_cell": 0,
    "papermill": {
     "duration": 0.009672,
     "end_time": "2022-07-22T06:52:45.355297",
     "exception": false,
     "start_time": "2022-07-22T06:52:45.345625",
     "status": "completed"
    },
    "tags": []
   },
   "outputs": [],
   "source": [
    "# -----------------------------------------------------------------------"
   ]
  },
  {
   "cell_type": "markdown",
   "id": "971a41d6",
   "metadata": {
    "papermill": {
     "duration": 0.002822,
     "end_time": "2022-07-22T06:52:45.360944",
     "exception": false,
     "start_time": "2022-07-22T06:52:45.358122",
     "status": "completed"
    },
    "tags": []
   },
   "source": [
    "---"
   ]
  },
  {
   "cell_type": "markdown",
   "id": "462cf060",
   "metadata": {
    "lines_to_next_cell": 2,
    "papermill": {
     "duration": 0.002952,
     "end_time": "2022-07-22T06:52:45.367125",
     "exception": false,
     "start_time": "2022-07-22T06:52:45.364173",
     "status": "completed"
    },
    "tags": []
   },
   "source": [
    "### Notebook code"
   ]
  },
  {
   "cell_type": "code",
   "execution_count": 5,
   "id": "99b0d7ae",
   "metadata": {
    "execution": {
     "iopub.execute_input": "2022-07-22T06:52:45.373761Z",
     "iopub.status.busy": "2022-07-22T06:52:45.373548Z",
     "iopub.status.idle": "2022-07-22T06:52:45.892412Z",
     "shell.execute_reply": "2022-07-22T06:52:45.891558Z"
    },
    "papermill": {
     "duration": 0.524456,
     "end_time": "2022-07-22T06:52:45.894360",
     "exception": false,
     "start_time": "2022-07-22T06:52:45.369904",
     "status": "completed"
    },
    "tags": []
   },
   "outputs": [
    {
     "name": "stderr",
     "output_type": "stream",
     "text": [
      "2022-07-22 06:52:45,707\tINFO worker.py:842 -- Connecting to existing Ray cluster at address: 172.17.0.2:6379\n"
     ]
    }
   ],
   "source": [
    "from pynb_dag_runner.tasks.task_opentelemetry_logging import PydarLogger\n",
    "\n",
    "logger = PydarLogger(P)"
   ]
  },
  {
   "cell_type": "markdown",
   "id": "deaf1c93",
   "metadata": {
    "papermill": {
     "duration": 0.00298,
     "end_time": "2022-07-22T06:52:45.901457",
     "exception": false,
     "start_time": "2022-07-22T06:52:45.898477",
     "status": "completed"
    },
    "tags": []
   },
   "source": [
    "## Load and limit train data"
   ]
  },
  {
   "cell_type": "code",
   "execution_count": 6,
   "id": "701b702c",
   "metadata": {
    "execution": {
     "iopub.execute_input": "2022-07-22T06:52:45.909132Z",
     "iopub.status.busy": "2022-07-22T06:52:45.908523Z",
     "iopub.status.idle": "2022-07-22T06:52:46.331247Z",
     "shell.execute_reply": "2022-07-22T06:52:46.329890Z"
    },
    "papermill": {
     "duration": 0.428937,
     "end_time": "2022-07-22T06:52:46.333170",
     "exception": false,
     "start_time": "2022-07-22T06:52:45.904233",
     "status": "completed"
    },
    "tags": []
   },
   "outputs": [],
   "source": [
    "def load_and_limit_train_data(P):\n",
    "    from common.io import datalake_root, read_numpy\n",
    "    from sklearn.model_selection import train_test_split\n",
    "\n",
    "    X_train_all = read_numpy(datalake_root(P) / \"train-data\" / \"digits.numpy\")\n",
    "    y_train_all = read_numpy(datalake_root(P) / \"train-data\" / \"labels.numpy\")\n",
    "\n",
    "    assert isinstance(P[\"task.nr_train_images\"], int)\n",
    "\n",
    "    # Note: train_test_split will fail if split is 0 or 100%.\n",
    "    assert 0 < P[\"task.nr_train_images\"] < len(y_train_all)\n",
    "\n",
    "    X_train, _, y_train, _ = train_test_split(\n",
    "        X_train_all,\n",
    "        y_train_all,\n",
    "        train_size=P[\"task.nr_train_images\"],\n",
    "        test_size=None,\n",
    "        stratify=y_train_all,\n",
    "        shuffle=True,\n",
    "        random_state=123,\n",
    "    )\n",
    "\n",
    "    assert X_train.shape == (len(y_train), 8 * 8)\n",
    "    return X_train, y_train\n",
    "\n",
    "\n",
    "X_train, y_train = load_and_limit_train_data(P)"
   ]
  },
  {
   "cell_type": "markdown",
   "id": "9fa15b88",
   "metadata": {
    "papermill": {
     "duration": 0.003168,
     "end_time": "2022-07-22T06:52:46.341822",
     "exception": false,
     "start_time": "2022-07-22T06:52:46.338654",
     "status": "completed"
    },
    "tags": []
   },
   "source": [
    "## Train support vector classifier model\n",
    "\n",
    "Below we assume that the hyperparameter $C$ is known.\n",
    "\n",
    "However, this should ideally be found by a hyperparameter search. That could be\n",
    "done in parallel on the Ray cluster, but this needs some more work. Ie., to use\n",
    "multiple cores in the notebook, those cores should be reserved when starting the\n",
    "notebook task (TODO).\n",
    "\n",
    "- https://docs.ray.io/en/latest/tune/key-concepts.html\n",
    "\n",
    "Note: cv-scores would need to be computed here, since they depend on the train data.\n",
    "After this notebook only the onnx-model is available."
   ]
  },
  {
   "cell_type": "code",
   "execution_count": 7,
   "id": "2986200f",
   "metadata": {
    "execution": {
     "iopub.execute_input": "2022-07-22T06:52:46.349241Z",
     "iopub.status.busy": "2022-07-22T06:52:46.348782Z",
     "iopub.status.idle": "2022-07-22T06:52:46.454468Z",
     "shell.execute_reply": "2022-07-22T06:52:46.453878Z"
    },
    "papermill": {
     "duration": 0.111938,
     "end_time": "2022-07-22T06:52:46.456644",
     "exception": false,
     "start_time": "2022-07-22T06:52:46.344706",
     "status": "completed"
    },
    "tags": []
   },
   "outputs": [],
   "source": [
    "from sklearn.svm import SVC"
   ]
  },
  {
   "cell_type": "code",
   "execution_count": 8,
   "id": "6f33e889",
   "metadata": {
    "execution": {
     "iopub.execute_input": "2022-07-22T06:52:46.465547Z",
     "iopub.status.busy": "2022-07-22T06:52:46.464959Z",
     "iopub.status.idle": "2022-07-22T06:52:46.560003Z",
     "shell.execute_reply": "2022-07-22T06:52:46.559263Z"
    },
    "papermill": {
     "duration": 0.101612,
     "end_time": "2022-07-22T06:52:46.562094",
     "exception": false,
     "start_time": "2022-07-22T06:52:46.460482",
     "status": "completed"
    },
    "tags": []
   },
   "outputs": [
    {
     "data": {
      "text/plain": [
       "SVC(C=0.001, kernel='linear', probability=True)"
      ]
     },
     "execution_count": 8,
     "metadata": {},
     "output_type": "execute_result"
    }
   ],
   "source": [
    "model = SVC(C=0.001, kernel=\"linear\", probability=True)\n",
    "\n",
    "model.fit(X_train, y_train)"
   ]
  },
  {
   "cell_type": "markdown",
   "id": "6e975a06",
   "metadata": {
    "papermill": {
     "duration": 0.004101,
     "end_time": "2022-07-22T06:52:46.569576",
     "exception": false,
     "start_time": "2022-07-22T06:52:46.565475",
     "status": "completed"
    },
    "tags": []
   },
   "source": [
    "### Q: Can the labels returned by `predict(..)` be computed from probabilities returned by the `predict_prob`-method?"
   ]
  },
  {
   "cell_type": "code",
   "execution_count": 9,
   "id": "da6f4964",
   "metadata": {
    "execution": {
     "iopub.execute_input": "2022-07-22T06:52:46.578604Z",
     "iopub.status.busy": "2022-07-22T06:52:46.578331Z",
     "iopub.status.idle": "2022-07-22T06:52:46.621153Z",
     "shell.execute_reply": "2022-07-22T06:52:46.620366Z"
    },
    "papermill": {
     "duration": 0.049024,
     "end_time": "2022-07-22T06:52:46.622915",
     "exception": false,
     "start_time": "2022-07-22T06:52:46.573891",
     "status": "completed"
    },
    "tags": []
   },
   "outputs": [
    {
     "name": "stdout",
     "output_type": "stream",
     "text": [
      " - Logging nr_max_prob_neq_label (int) : 2\n"
     ]
    }
   ],
   "source": [
    "import numpy as np\n",
    "\n",
    "y_train_labels = model.predict(X_train)\n",
    "y_train_probabilities = model.predict_proba(X_train)\n",
    "assert y_train_probabilities.shape == (len(y_train), 10)\n",
    "\n",
    "y_train_max_prob_labels = np.argmax(y_train_probabilities, axis=1)\n",
    "assert y_train_labels.shape == y_train_max_prob_labels.shape == y_train.shape\n",
    "\n",
    "# If the predicted labels would coincide with the labels that have\n",
    "# maximum probability, the below number would be zero\n",
    "logger.log_int(\n",
    "    \"nr_max_prob_neq_label\", int(sum(y_train_max_prob_labels != y_train_labels))\n",
    ")"
   ]
  },
  {
   "cell_type": "markdown",
   "id": "240b52db",
   "metadata": {
    "papermill": {
     "duration": 0.003936,
     "end_time": "2022-07-22T06:52:46.630190",
     "exception": false,
     "start_time": "2022-07-22T06:52:46.626254",
     "status": "completed"
    },
    "tags": []
   },
   "source": [
    "The explanation is (likely) explained in the SVC source, see\n",
    "[here](https://github.com/scikit-learn/scikit-learn/blob/main/sklearn/svm/_base.py).\n",
    "Namely, the outputs from `predict(..)` and `predict_proba(..)` may not in some\n",
    "cases be compatible since the latter is computed using cross-validation while\n",
    "the former is not. Thus, the above number need not be zero."
   ]
  },
  {
   "cell_type": "markdown",
   "id": "cc23b997",
   "metadata": {
    "papermill": {
     "duration": 0.003364,
     "end_time": "2022-07-22T06:52:46.637412",
     "exception": false,
     "start_time": "2022-07-22T06:52:46.634048",
     "status": "completed"
    },
    "tags": []
   },
   "source": [
    "## Persist model"
   ]
  },
  {
   "cell_type": "code",
   "execution_count": 10,
   "id": "aadcfdee",
   "metadata": {
    "execution": {
     "iopub.execute_input": "2022-07-22T06:52:46.646345Z",
     "iopub.status.busy": "2022-07-22T06:52:46.646059Z",
     "iopub.status.idle": "2022-07-22T06:52:48.041516Z",
     "shell.execute_reply": "2022-07-22T06:52:48.040526Z"
    },
    "papermill": {
     "duration": 1.402581,
     "end_time": "2022-07-22T06:52:48.043678",
     "exception": false,
     "start_time": "2022-07-22T06:52:46.641097",
     "status": "completed"
    },
    "tags": []
   },
   "outputs": [],
   "source": [
    "from skl2onnx import convert_sklearn\n",
    "from skl2onnx.common.data_types import FloatTensorType\n",
    "\n",
    "#\n",
    "from common.io import datalake_root, write_onnx"
   ]
  },
  {
   "cell_type": "code",
   "execution_count": 11,
   "id": "8e7bea6d",
   "metadata": {
    "execution": {
     "iopub.execute_input": "2022-07-22T06:52:48.053987Z",
     "iopub.status.busy": "2022-07-22T06:52:48.053619Z",
     "iopub.status.idle": "2022-07-22T06:52:48.113037Z",
     "shell.execute_reply": "2022-07-22T06:52:48.112265Z"
    },
    "papermill": {
     "duration": 0.067418,
     "end_time": "2022-07-22T06:52:48.114828",
     "exception": false,
     "start_time": "2022-07-22T06:52:48.047410",
     "status": "completed"
    },
    "tags": []
   },
   "outputs": [],
   "source": [
    "# convert sklearn model into onnx and persist to data lake\n",
    "\n",
    "model_onnx = convert_sklearn(\n",
    "    model, initial_types=[(\"float_input_8x8_image\", FloatTensorType([None, 8 * 8]))]\n",
    ")\n",
    "write_onnx(\n",
    "    datalake_root(P)\n",
    "    / \"models\"\n",
    "    / f\"nr_train_images={P['task.nr_train_images']}\"\n",
    "    / \"model.onnx\",\n",
    "    model_onnx,\n",
    ")"
   ]
  },
  {
   "cell_type": "code",
   "execution_count": null,
   "id": "c7d95ba9",
   "metadata": {
    "papermill": {
     "duration": 0.006043,
     "end_time": "2022-07-22T06:52:48.125038",
     "exception": false,
     "start_time": "2022-07-22T06:52:48.118995",
     "status": "completed"
    },
    "tags": []
   },
   "outputs": [],
   "source": []
  }
 ],
 "metadata": {
  "jupytext": {
   "cell_metadata_filter": "tags,-all",
   "main_language": "python",
   "notebook_metadata_filter": "-all"
  },
  "language_info": {
   "codemirror_mode": {
    "name": "ipython",
    "version": 3
   },
   "file_extension": ".py",
   "mimetype": "text/x-python",
   "name": "python",
   "nbconvert_exporter": "python",
   "pygments_lexer": "ipython3",
   "version": "3.8.10"
  },
  "papermill": {
   "default_parameters": {},
   "duration": 5.628659,
   "end_time": "2022-07-22T06:52:49.252389",
   "environment_variables": {},
   "exception": null,
   "input_path": "/home/host_user/workspace/mnist-demo-pipeline/mnist-demo-pipeline/notebooks/temp-notebook-um_v10tb.ipynb",
   "output_path": "notebooks/train-model.ipynb",
   "parameters": {
    "P": {
     "_opentelemetry_traceparent": "00-c6d8e1047d2497021b7d7ebb10256a7c-c0e655ac7af12323-01",
     "pipeline.data_lake_root": "/pipeline-outputs/data-lake",
     "pipeline.github.actor": "matiasdahl",
     "pipeline.github.base_ref": "",
     "pipeline.github.event_name": "schedule",
     "pipeline.github.head_ref": "",
     "pipeline.github.job": "run-tests-pipeline-and-persist-pipeline-outputs",
     "pipeline.github.ref": "refs/heads/development",
     "pipeline.github.ref_name": "development",
     "pipeline.github.ref_type": "branch",
     "pipeline.github.repository": "pynb-dag-runner/mnist-digits-demo-pipeline",
     "pipeline.github.run_id": "2716826811",
     "pipeline.github.runner_name": "Hosted Agent",
     "pipeline.github.sha": "5a6f90a9473b3095841d5b5dc7b58f5f049a0f71",
     "pipeline.github.workflow": "Run automated tests, pipeline and deploy results to static reporting site",
     "pipeline.pipeline_run_id": "6de65c62-ad94-4813-b4d0-73ede8e01725",
     "pipeline.run_environment": "ci",
     "run.retry_nr": "0",
     "task.max_nr_retries": "1",
     "task.notebook": "notebooks/train-model.py",
     "task.nr_train_images": 600,
     "task.num_cpus": 1,
     "task.timeout_s": "None"
    }
   },
   "start_time": "2022-07-22T06:52:43.623730",
   "version": "2.3.3"
  }
 },
 "nbformat": 4,
 "nbformat_minor": 5
}