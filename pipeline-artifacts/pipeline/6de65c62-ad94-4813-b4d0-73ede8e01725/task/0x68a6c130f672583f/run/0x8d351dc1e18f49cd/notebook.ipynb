{
 "cells": [
  {
   "cell_type": "markdown",
   "id": "68483513",
   "metadata": {
    "papermill": {
     "duration": 0.004148,
     "end_time": "2022-07-22T06:52:51.923851",
     "exception": false,
     "start_time": "2022-07-22T06:52:51.919703",
     "status": "completed"
    },
    "tags": []
   },
   "source": [
    "# Train model\n",
    "\n",
    "The purpose of this notebook is:\n",
    "\n",
    "- Load all training data (images and labels).\n",
    "- Limit number of train images to `task.nr_train_images` (value provided as run parameter).\n",
    "- Train a support vector machine model using sklearn.\n",
    "- Persist the trained model using the ONNX format."
   ]
  },
  {
   "cell_type": "markdown",
   "id": "df0b13f2",
   "metadata": {
    "papermill": {
     "duration": 0.002593,
     "end_time": "2022-07-22T06:52:51.929833",
     "exception": false,
     "start_time": "2022-07-22T06:52:51.927240",
     "status": "completed"
    },
    "tags": []
   },
   "source": [
    "### Determine run parameters"
   ]
  },
  {
   "cell_type": "code",
   "execution_count": 1,
   "id": "9cbc6fca",
   "metadata": {
    "execution": {
     "iopub.execute_input": "2022-07-22T06:52:51.937020Z",
     "iopub.status.busy": "2022-07-22T06:52:51.936362Z",
     "iopub.status.idle": "2022-07-22T06:52:51.943994Z",
     "shell.execute_reply": "2022-07-22T06:52:51.943151Z"
    },
    "lines_to_next_cell": 0,
    "papermill": {
     "duration": 0.01314,
     "end_time": "2022-07-22T06:52:51.945568",
     "exception": false,
     "start_time": "2022-07-22T06:52:51.932428",
     "status": "completed"
    },
    "tags": []
   },
   "outputs": [],
   "source": [
    "# ----------------- Parameters for interactive development --------------\n",
    "P = {\n",
    "    \"pipeline.data_lake_root\": \"/pipeline-outputs/data-lake\",\n",
    "    \"task.nr_train_images\": 600,\n",
    "}"
   ]
  },
  {
   "cell_type": "code",
   "execution_count": 2,
   "id": "a78e70f6",
   "metadata": {
    "execution": {
     "iopub.execute_input": "2022-07-22T06:52:51.953020Z",
     "iopub.status.busy": "2022-07-22T06:52:51.952589Z",
     "iopub.status.idle": "2022-07-22T06:52:51.955640Z",
     "shell.execute_reply": "2022-07-22T06:52:51.955138Z"
    },
    "lines_to_next_cell": 0,
    "papermill": {
     "duration": 0.008582,
     "end_time": "2022-07-22T06:52:51.957015",
     "exception": false,
     "start_time": "2022-07-22T06:52:51.948433",
     "status": "completed"
    },
    "tags": [
     "parameters"
    ]
   },
   "outputs": [],
   "source": [
    "# - During automated runs parameters will be injected in the below cell -"
   ]
  },
  {
   "cell_type": "code",
   "execution_count": 3,
   "id": "9e4158f5",
   "metadata": {
    "execution": {
     "iopub.execute_input": "2022-07-22T06:52:51.963877Z",
     "iopub.status.busy": "2022-07-22T06:52:51.963101Z",
     "iopub.status.idle": "2022-07-22T06:52:51.968099Z",
     "shell.execute_reply": "2022-07-22T06:52:51.967607Z"
    },
    "papermill": {
     "duration": 0.009924,
     "end_time": "2022-07-22T06:52:51.969541",
     "exception": false,
     "start_time": "2022-07-22T06:52:51.959617",
     "status": "completed"
    },
    "tags": [
     "injected-parameters"
    ]
   },
   "outputs": [],
   "source": [
    "# Parameters\n",
    "P = {\n",
    "    \"pipeline.data_lake_root\": \"/pipeline-outputs/data-lake\",\n",
    "    \"pipeline.run_environment\": \"ci\",\n",
    "    \"pipeline.pipeline_run_id\": \"6de65c62-ad94-4813-b4d0-73ede8e01725\",\n",
    "    \"pipeline.github.repository\": \"pynb-dag-runner/mnist-digits-demo-pipeline\",\n",
    "    \"pipeline.github.workflow\": \"Run automated tests, pipeline and deploy results to static reporting site\",\n",
    "    \"pipeline.github.runner_name\": \"Hosted Agent\",\n",
    "    \"pipeline.github.run_id\": \"2716826811\",\n",
    "    \"pipeline.github.actor\": \"matiasdahl\",\n",
    "    \"pipeline.github.job\": \"run-tests-pipeline-and-persist-pipeline-outputs\",\n",
    "    \"pipeline.github.base_ref\": \"\",\n",
    "    \"pipeline.github.head_ref\": \"\",\n",
    "    \"pipeline.github.sha\": \"5a6f90a9473b3095841d5b5dc7b58f5f049a0f71\",\n",
    "    \"pipeline.github.ref\": \"refs/heads/development\",\n",
    "    \"pipeline.github.ref_type\": \"branch\",\n",
    "    \"pipeline.github.ref_name\": \"development\",\n",
    "    \"pipeline.github.event_name\": \"schedule\",\n",
    "    \"task.nr_train_images\": 1000,\n",
    "    \"task.notebook\": \"notebooks/train-model.py\",\n",
    "    \"task.max_nr_retries\": \"1\",\n",
    "    \"run.retry_nr\": \"0\",\n",
    "    \"task.timeout_s\": \"None\",\n",
    "    \"task.num_cpus\": 1,\n",
    "    \"_opentelemetry_traceparent\": \"00-c6d8e1047d2497021b7d7ebb10256a7c-b1a2f61ce45c3cc0-01\",\n",
    "}\n"
   ]
  },
  {
   "cell_type": "code",
   "execution_count": 4,
   "id": "603ec3a4",
   "metadata": {
    "execution": {
     "iopub.execute_input": "2022-07-22T06:52:51.976461Z",
     "iopub.status.busy": "2022-07-22T06:52:51.976231Z",
     "iopub.status.idle": "2022-07-22T06:52:51.981465Z",
     "shell.execute_reply": "2022-07-22T06:52:51.978595Z"
    },
    "lines_to_next_cell": 0,
    "papermill": {
     "duration": 0.010599,
     "end_time": "2022-07-22T06:52:51.982998",
     "exception": false,
     "start_time": "2022-07-22T06:52:51.972399",
     "status": "completed"
    },
    "tags": []
   },
   "outputs": [],
   "source": [
    "# -----------------------------------------------------------------------"
   ]
  },
  {
   "cell_type": "markdown",
   "id": "5391cec4",
   "metadata": {
    "papermill": {
     "duration": 0.003132,
     "end_time": "2022-07-22T06:52:51.989200",
     "exception": false,
     "start_time": "2022-07-22T06:52:51.986068",
     "status": "completed"
    },
    "tags": []
   },
   "source": [
    "---"
   ]
  },
  {
   "cell_type": "markdown",
   "id": "3ff3eca9",
   "metadata": {
    "lines_to_next_cell": 2,
    "papermill": {
     "duration": 0.002963,
     "end_time": "2022-07-22T06:52:51.994935",
     "exception": false,
     "start_time": "2022-07-22T06:52:51.991972",
     "status": "completed"
    },
    "tags": []
   },
   "source": [
    "### Notebook code"
   ]
  },
  {
   "cell_type": "code",
   "execution_count": 5,
   "id": "36ad8a12",
   "metadata": {
    "execution": {
     "iopub.execute_input": "2022-07-22T06:52:52.001599Z",
     "iopub.status.busy": "2022-07-22T06:52:52.001214Z",
     "iopub.status.idle": "2022-07-22T06:52:52.465199Z",
     "shell.execute_reply": "2022-07-22T06:52:52.464330Z"
    },
    "papermill": {
     "duration": 0.469972,
     "end_time": "2022-07-22T06:52:52.467672",
     "exception": false,
     "start_time": "2022-07-22T06:52:51.997700",
     "status": "completed"
    },
    "tags": []
   },
   "outputs": [
    {
     "name": "stderr",
     "output_type": "stream",
     "text": [
      "2022-07-22 06:52:52,301\tINFO worker.py:842 -- Connecting to existing Ray cluster at address: 172.17.0.2:6379\n"
     ]
    }
   ],
   "source": [
    "from pynb_dag_runner.tasks.task_opentelemetry_logging import PydarLogger\n",
    "\n",
    "logger = PydarLogger(P)"
   ]
  },
  {
   "cell_type": "markdown",
   "id": "c41012df",
   "metadata": {
    "papermill": {
     "duration": 0.004036,
     "end_time": "2022-07-22T06:52:52.475788",
     "exception": false,
     "start_time": "2022-07-22T06:52:52.471752",
     "status": "completed"
    },
    "tags": []
   },
   "source": [
    "## Load and limit train data"
   ]
  },
  {
   "cell_type": "code",
   "execution_count": 6,
   "id": "704b7f60",
   "metadata": {
    "execution": {
     "iopub.execute_input": "2022-07-22T06:52:52.484321Z",
     "iopub.status.busy": "2022-07-22T06:52:52.483811Z",
     "iopub.status.idle": "2022-07-22T06:52:52.922496Z",
     "shell.execute_reply": "2022-07-22T06:52:52.921595Z"
    },
    "papermill": {
     "duration": 0.445688,
     "end_time": "2022-07-22T06:52:52.924934",
     "exception": false,
     "start_time": "2022-07-22T06:52:52.479246",
     "status": "completed"
    },
    "tags": []
   },
   "outputs": [],
   "source": [
    "def load_and_limit_train_data(P):\n",
    "    from common.io import datalake_root, read_numpy\n",
    "    from sklearn.model_selection import train_test_split\n",
    "\n",
    "    X_train_all = read_numpy(datalake_root(P) / \"train-data\" / \"digits.numpy\")\n",
    "    y_train_all = read_numpy(datalake_root(P) / \"train-data\" / \"labels.numpy\")\n",
    "\n",
    "    assert isinstance(P[\"task.nr_train_images\"], int)\n",
    "\n",
    "    # Note: train_test_split will fail if split is 0 or 100%.\n",
    "    assert 0 < P[\"task.nr_train_images\"] < len(y_train_all)\n",
    "\n",
    "    X_train, _, y_train, _ = train_test_split(\n",
    "        X_train_all,\n",
    "        y_train_all,\n",
    "        train_size=P[\"task.nr_train_images\"],\n",
    "        test_size=None,\n",
    "        stratify=y_train_all,\n",
    "        shuffle=True,\n",
    "        random_state=123,\n",
    "    )\n",
    "\n",
    "    assert X_train.shape == (len(y_train), 8 * 8)\n",
    "    return X_train, y_train\n",
    "\n",
    "\n",
    "X_train, y_train = load_and_limit_train_data(P)"
   ]
  },
  {
   "cell_type": "markdown",
   "id": "c23716b4",
   "metadata": {
    "papermill": {
     "duration": 0.003374,
     "end_time": "2022-07-22T06:52:52.933345",
     "exception": false,
     "start_time": "2022-07-22T06:52:52.929971",
     "status": "completed"
    },
    "tags": []
   },
   "source": [
    "## Train support vector classifier model\n",
    "\n",
    "Below we assume that the hyperparameter $C$ is known.\n",
    "\n",
    "However, this should ideally be found by a hyperparameter search. That could be\n",
    "done in parallel on the Ray cluster, but this needs some more work. Ie., to use\n",
    "multiple cores in the notebook, those cores should be reserved when starting the\n",
    "notebook task (TODO).\n",
    "\n",
    "- https://docs.ray.io/en/latest/tune/key-concepts.html\n",
    "\n",
    "Note: cv-scores would need to be computed here, since they depend on the train data.\n",
    "After this notebook only the onnx-model is available."
   ]
  },
  {
   "cell_type": "code",
   "execution_count": 7,
   "id": "88b9b434",
   "metadata": {
    "execution": {
     "iopub.execute_input": "2022-07-22T06:52:52.940839Z",
     "iopub.status.busy": "2022-07-22T06:52:52.940494Z",
     "iopub.status.idle": "2022-07-22T06:52:52.964869Z",
     "shell.execute_reply": "2022-07-22T06:52:52.963935Z"
    },
    "papermill": {
     "duration": 0.029928,
     "end_time": "2022-07-22T06:52:52.966607",
     "exception": false,
     "start_time": "2022-07-22T06:52:52.936679",
     "status": "completed"
    },
    "tags": []
   },
   "outputs": [],
   "source": [
    "from sklearn.svm import SVC"
   ]
  },
  {
   "cell_type": "code",
   "execution_count": 8,
   "id": "ae499b8d",
   "metadata": {
    "execution": {
     "iopub.execute_input": "2022-07-22T06:52:52.975726Z",
     "iopub.status.busy": "2022-07-22T06:52:52.974474Z",
     "iopub.status.idle": "2022-07-22T06:52:53.139606Z",
     "shell.execute_reply": "2022-07-22T06:52:53.138881Z"
    },
    "papermill": {
     "duration": 0.171432,
     "end_time": "2022-07-22T06:52:53.141419",
     "exception": false,
     "start_time": "2022-07-22T06:52:52.969987",
     "status": "completed"
    },
    "tags": []
   },
   "outputs": [
    {
     "data": {
      "text/plain": [
       "SVC(C=0.001, kernel='linear', probability=True)"
      ]
     },
     "execution_count": 8,
     "metadata": {},
     "output_type": "execute_result"
    }
   ],
   "source": [
    "model = SVC(C=0.001, kernel=\"linear\", probability=True)\n",
    "\n",
    "model.fit(X_train, y_train)"
   ]
  },
  {
   "cell_type": "markdown",
   "id": "1411706a",
   "metadata": {
    "papermill": {
     "duration": 0.003501,
     "end_time": "2022-07-22T06:52:53.149010",
     "exception": false,
     "start_time": "2022-07-22T06:52:53.145509",
     "status": "completed"
    },
    "tags": []
   },
   "source": [
    "### Q: Can the labels returned by `predict(..)` be computed from probabilities returned by the `predict_prob`-method?"
   ]
  },
  {
   "cell_type": "code",
   "execution_count": 9,
   "id": "5eb11dc5",
   "metadata": {
    "execution": {
     "iopub.execute_input": "2022-07-22T06:52:53.159437Z",
     "iopub.status.busy": "2022-07-22T06:52:53.159043Z",
     "iopub.status.idle": "2022-07-22T06:52:53.253479Z",
     "shell.execute_reply": "2022-07-22T06:52:53.252750Z"
    },
    "papermill": {
     "duration": 0.100578,
     "end_time": "2022-07-22T06:52:53.255254",
     "exception": false,
     "start_time": "2022-07-22T06:52:53.154676",
     "status": "completed"
    },
    "tags": []
   },
   "outputs": [
    {
     "name": "stdout",
     "output_type": "stream",
     "text": [
      " - Logging nr_max_prob_neq_label (int) : 1\n"
     ]
    }
   ],
   "source": [
    "import numpy as np\n",
    "\n",
    "y_train_labels = model.predict(X_train)\n",
    "y_train_probabilities = model.predict_proba(X_train)\n",
    "assert y_train_probabilities.shape == (len(y_train), 10)\n",
    "\n",
    "y_train_max_prob_labels = np.argmax(y_train_probabilities, axis=1)\n",
    "assert y_train_labels.shape == y_train_max_prob_labels.shape == y_train.shape\n",
    "\n",
    "# If the predicted labels would coincide with the labels that have\n",
    "# maximum probability, the below number would be zero\n",
    "logger.log_int(\n",
    "    \"nr_max_prob_neq_label\", int(sum(y_train_max_prob_labels != y_train_labels))\n",
    ")"
   ]
  },
  {
   "cell_type": "markdown",
   "id": "1b93353f",
   "metadata": {
    "papermill": {
     "duration": 0.003593,
     "end_time": "2022-07-22T06:52:53.262616",
     "exception": false,
     "start_time": "2022-07-22T06:52:53.259023",
     "status": "completed"
    },
    "tags": []
   },
   "source": [
    "The explanation is (likely) explained in the SVC source, see\n",
    "[here](https://github.com/scikit-learn/scikit-learn/blob/main/sklearn/svm/_base.py).\n",
    "Namely, the outputs from `predict(..)` and `predict_proba(..)` may not in some\n",
    "cases be compatible since the latter is computed using cross-validation while\n",
    "the former is not. Thus, the above number need not be zero."
   ]
  },
  {
   "cell_type": "markdown",
   "id": "ec455378",
   "metadata": {
    "papermill": {
     "duration": 0.003434,
     "end_time": "2022-07-22T06:52:53.269290",
     "exception": false,
     "start_time": "2022-07-22T06:52:53.265856",
     "status": "completed"
    },
    "tags": []
   },
   "source": [
    "## Persist model"
   ]
  },
  {
   "cell_type": "code",
   "execution_count": 10,
   "id": "f3c3aa4a",
   "metadata": {
    "execution": {
     "iopub.execute_input": "2022-07-22T06:52:53.277515Z",
     "iopub.status.busy": "2022-07-22T06:52:53.277239Z",
     "iopub.status.idle": "2022-07-22T06:52:54.138882Z",
     "shell.execute_reply": "2022-07-22T06:52:54.137434Z"
    },
    "papermill": {
     "duration": 0.86897,
     "end_time": "2022-07-22T06:52:54.141726",
     "exception": false,
     "start_time": "2022-07-22T06:52:53.272756",
     "status": "completed"
    },
    "tags": []
   },
   "outputs": [],
   "source": [
    "from skl2onnx import convert_sklearn\n",
    "from skl2onnx.common.data_types import FloatTensorType\n",
    "\n",
    "#\n",
    "from common.io import datalake_root, write_onnx"
   ]
  },
  {
   "cell_type": "code",
   "execution_count": 11,
   "id": "cec20de9",
   "metadata": {
    "execution": {
     "iopub.execute_input": "2022-07-22T06:52:54.157072Z",
     "iopub.status.busy": "2022-07-22T06:52:54.156463Z",
     "iopub.status.idle": "2022-07-22T06:52:54.222090Z",
     "shell.execute_reply": "2022-07-22T06:52:54.221033Z"
    },
    "papermill": {
     "duration": 0.078506,
     "end_time": "2022-07-22T06:52:54.223830",
     "exception": false,
     "start_time": "2022-07-22T06:52:54.145324",
     "status": "completed"
    },
    "tags": []
   },
   "outputs": [],
   "source": [
    "# convert sklearn model into onnx and persist to data lake\n",
    "\n",
    "model_onnx = convert_sklearn(\n",
    "    model, initial_types=[(\"float_input_8x8_image\", FloatTensorType([None, 8 * 8]))]\n",
    ")\n",
    "write_onnx(\n",
    "    datalake_root(P)\n",
    "    / \"models\"\n",
    "    / f\"nr_train_images={P['task.nr_train_images']}\"\n",
    "    / \"model.onnx\",\n",
    "    model_onnx,\n",
    ")"
   ]
  },
  {
   "cell_type": "code",
   "execution_count": null,
   "id": "69c8959d",
   "metadata": {
    "papermill": {
     "duration": 0.003519,
     "end_time": "2022-07-22T06:52:54.230816",
     "exception": false,
     "start_time": "2022-07-22T06:52:54.227297",
     "status": "completed"
    },
    "tags": []
   },
   "outputs": [],
   "source": []
  }
 ],
 "metadata": {
  "jupytext": {
   "cell_metadata_filter": "tags,-all",
   "main_language": "python",
   "notebook_metadata_filter": "-all"
  },
  "language_info": {
   "codemirror_mode": {
    "name": "ipython",
    "version": 3
   },
   "file_extension": ".py",
   "mimetype": "text/x-python",
   "name": "python",
   "nbconvert_exporter": "python",
   "pygments_lexer": "ipython3",
   "version": "3.8.10"
  },
  "papermill": {
   "default_parameters": {},
   "duration": 4.632656,
   "end_time": "2022-07-22T06:52:55.261699",
   "environment_variables": {},
   "exception": null,
   "input_path": "/home/host_user/workspace/mnist-demo-pipeline/mnist-demo-pipeline/notebooks/temp-notebook-xga2mqc3.ipynb",
   "output_path": "notebooks/train-model.ipynb",
   "parameters": {
    "P": {
     "_opentelemetry_traceparent": "00-c6d8e1047d2497021b7d7ebb10256a7c-b1a2f61ce45c3cc0-01",
     "pipeline.data_lake_root": "/pipeline-outputs/data-lake",
     "pipeline.github.actor": "matiasdahl",
     "pipeline.github.base_ref": "",
     "pipeline.github.event_name": "schedule",
     "pipeline.github.head_ref": "",
     "pipeline.github.job": "run-tests-pipeline-and-persist-pipeline-outputs",
     "pipeline.github.ref": "refs/heads/development",
     "pipeline.github.ref_name": "development",
     "pipeline.github.ref_type": "branch",
     "pipeline.github.repository": "pynb-dag-runner/mnist-digits-demo-pipeline",
     "pipeline.github.run_id": "2716826811",
     "pipeline.github.runner_name": "Hosted Agent",
     "pipeline.github.sha": "5a6f90a9473b3095841d5b5dc7b58f5f049a0f71",
     "pipeline.github.workflow": "Run automated tests, pipeline and deploy results to static reporting site",
     "pipeline.pipeline_run_id": "6de65c62-ad94-4813-b4d0-73ede8e01725",
     "pipeline.run_environment": "ci",
     "run.retry_nr": "0",
     "task.max_nr_retries": "1",
     "task.notebook": "notebooks/train-model.py",
     "task.nr_train_images": 1000,
     "task.num_cpus": 1,
     "task.timeout_s": "None"
    }
   },
   "start_time": "2022-07-22T06:52:50.629043",
   "version": "2.3.3"
  }
 },
 "nbformat": 4,
 "nbformat_minor": 5
}