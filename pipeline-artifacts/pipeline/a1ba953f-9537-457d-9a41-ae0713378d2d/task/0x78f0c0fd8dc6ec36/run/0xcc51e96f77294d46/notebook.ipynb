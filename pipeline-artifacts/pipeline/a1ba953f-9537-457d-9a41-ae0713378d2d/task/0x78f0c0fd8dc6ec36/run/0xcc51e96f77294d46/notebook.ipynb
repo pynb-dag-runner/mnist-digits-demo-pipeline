{
 "cells": [
  {
   "cell_type": "markdown",
   "id": "88cb24b5",
   "metadata": {
    "papermill": {
     "duration": 0.003796,
     "end_time": "2022-07-05T06:47:39.939475",
     "exception": false,
     "start_time": "2022-07-05T06:47:39.935679",
     "status": "completed"
    },
    "tags": []
   },
   "source": [
    "# Train model\n",
    "\n",
    "The purpose of this notebook is:\n",
    "\n",
    "- Load all training data (images and labels).\n",
    "- Limit number of train images to `task.nr_train_images` (value provided as run parameter).\n",
    "- Train a support vector machine model using sklearn.\n",
    "- Persist the trained model using the ONNX format."
   ]
  },
  {
   "cell_type": "markdown",
   "id": "7b51b8e3",
   "metadata": {
    "papermill": {
     "duration": 0.002794,
     "end_time": "2022-07-05T06:47:39.945464",
     "exception": false,
     "start_time": "2022-07-05T06:47:39.942670",
     "status": "completed"
    },
    "tags": []
   },
   "source": [
    "### Determine run parameters"
   ]
  },
  {
   "cell_type": "code",
   "execution_count": 1,
   "id": "f37bb56c",
   "metadata": {
    "execution": {
     "iopub.execute_input": "2022-07-05T06:47:39.952417Z",
     "iopub.status.busy": "2022-07-05T06:47:39.952086Z",
     "iopub.status.idle": "2022-07-05T06:47:39.958838Z",
     "shell.execute_reply": "2022-07-05T06:47:39.958292Z"
    },
    "lines_to_next_cell": 0,
    "papermill": {
     "duration": 0.015176,
     "end_time": "2022-07-05T06:47:39.963210",
     "exception": false,
     "start_time": "2022-07-05T06:47:39.948034",
     "status": "completed"
    },
    "tags": []
   },
   "outputs": [],
   "source": [
    "# ----------------- Parameters for interactive development --------------\n",
    "P = {\n",
    "    \"pipeline.data_lake_root\": \"/pipeline-outputs/data-lake\",\n",
    "    \"task.nr_train_images\": 600,\n",
    "}"
   ]
  },
  {
   "cell_type": "code",
   "execution_count": 2,
   "id": "29bdd9ea",
   "metadata": {
    "execution": {
     "iopub.execute_input": "2022-07-05T06:47:39.970453Z",
     "iopub.status.busy": "2022-07-05T06:47:39.970079Z",
     "iopub.status.idle": "2022-07-05T06:47:39.973980Z",
     "shell.execute_reply": "2022-07-05T06:47:39.973288Z"
    },
    "lines_to_next_cell": 0,
    "papermill": {
     "duration": 0.008974,
     "end_time": "2022-07-05T06:47:39.975511",
     "exception": false,
     "start_time": "2022-07-05T06:47:39.966537",
     "status": "completed"
    },
    "tags": [
     "parameters"
    ]
   },
   "outputs": [],
   "source": [
    "# - During automated runs parameters will be injected in the below cell -"
   ]
  },
  {
   "cell_type": "code",
   "execution_count": 3,
   "id": "508968a4",
   "metadata": {
    "execution": {
     "iopub.execute_input": "2022-07-05T06:47:39.982135Z",
     "iopub.status.busy": "2022-07-05T06:47:39.981735Z",
     "iopub.status.idle": "2022-07-05T06:47:39.986752Z",
     "shell.execute_reply": "2022-07-05T06:47:39.986161Z"
    },
    "papermill": {
     "duration": 0.010056,
     "end_time": "2022-07-05T06:47:39.988172",
     "exception": false,
     "start_time": "2022-07-05T06:47:39.978116",
     "status": "completed"
    },
    "tags": [
     "injected-parameters"
    ]
   },
   "outputs": [],
   "source": [
    "# Parameters\n",
    "P = {\n",
    "    \"pipeline.data_lake_root\": \"/pipeline-outputs/data-lake\",\n",
    "    \"pipeline.run_environment\": \"ci\",\n",
    "    \"pipeline.pipeline_run_id\": \"a1ba953f-9537-457d-9a41-ae0713378d2d\",\n",
    "    \"pipeline.github.repository\": \"pynb-dag-runner/mnist-digits-demo-pipeline\",\n",
    "    \"pipeline.github.workflow\": \"Run automated tests, pipeline and deploy results to static reporting site\",\n",
    "    \"pipeline.github.runner_name\": \"Hosted Agent\",\n",
    "    \"pipeline.github.run_id\": \"2614272362\",\n",
    "    \"pipeline.github.actor\": \"matiasdahl\",\n",
    "    \"pipeline.github.job\": \"run-tests-pipeline-and-persist-pipeline-outputs\",\n",
    "    \"pipeline.github.base_ref\": \"\",\n",
    "    \"pipeline.github.head_ref\": \"\",\n",
    "    \"pipeline.github.sha\": \"f934c58f68028b7bb026059d4e87e6d32a1bbd20\",\n",
    "    \"pipeline.github.ref\": \"refs/heads/development\",\n",
    "    \"pipeline.github.ref_type\": \"branch\",\n",
    "    \"pipeline.github.ref_name\": \"development\",\n",
    "    \"pipeline.github.event_name\": \"schedule\",\n",
    "    \"task.nr_train_images\": 1200,\n",
    "    \"task.notebook\": \"notebooks/train-model.py\",\n",
    "    \"task.max_nr_retries\": \"1\",\n",
    "    \"run.retry_nr\": \"0\",\n",
    "    \"task.timeout_s\": \"None\",\n",
    "    \"task.num_cpus\": 1,\n",
    "    \"_opentelemetry_traceparent\": \"00-9a9aa49fd83112cc34c27f1dd20c1827-3d06d266314b7738-01\",\n",
    "}\n"
   ]
  },
  {
   "cell_type": "code",
   "execution_count": 4,
   "id": "b56cd15d",
   "metadata": {
    "execution": {
     "iopub.execute_input": "2022-07-05T06:47:39.994916Z",
     "iopub.status.busy": "2022-07-05T06:47:39.994601Z",
     "iopub.status.idle": "2022-07-05T06:47:39.997748Z",
     "shell.execute_reply": "2022-07-05T06:47:39.997218Z"
    },
    "lines_to_next_cell": 0,
    "papermill": {
     "duration": 0.008463,
     "end_time": "2022-07-05T06:47:39.999225",
     "exception": false,
     "start_time": "2022-07-05T06:47:39.990762",
     "status": "completed"
    },
    "tags": []
   },
   "outputs": [],
   "source": [
    "# -----------------------------------------------------------------------"
   ]
  },
  {
   "cell_type": "markdown",
   "id": "4294ae90",
   "metadata": {
    "papermill": {
     "duration": 0.003009,
     "end_time": "2022-07-05T06:47:40.004958",
     "exception": false,
     "start_time": "2022-07-05T06:47:40.001949",
     "status": "completed"
    },
    "tags": []
   },
   "source": [
    "---"
   ]
  },
  {
   "cell_type": "markdown",
   "id": "78c3c988",
   "metadata": {
    "lines_to_next_cell": 2,
    "papermill": {
     "duration": 0.002791,
     "end_time": "2022-07-05T06:47:40.010433",
     "exception": false,
     "start_time": "2022-07-05T06:47:40.007642",
     "status": "completed"
    },
    "tags": []
   },
   "source": [
    "### Notebook code"
   ]
  },
  {
   "cell_type": "code",
   "execution_count": 5,
   "id": "6a7e01ec",
   "metadata": {
    "execution": {
     "iopub.execute_input": "2022-07-05T06:47:40.017300Z",
     "iopub.status.busy": "2022-07-05T06:47:40.016961Z",
     "iopub.status.idle": "2022-07-05T06:47:40.489317Z",
     "shell.execute_reply": "2022-07-05T06:47:40.488093Z"
    },
    "papermill": {
     "duration": 0.478233,
     "end_time": "2022-07-05T06:47:40.491468",
     "exception": false,
     "start_time": "2022-07-05T06:47:40.013235",
     "status": "completed"
    },
    "tags": []
   },
   "outputs": [
    {
     "name": "stderr",
     "output_type": "stream",
     "text": [
      "2022-07-05 06:47:40,318\tINFO worker.py:842 -- Connecting to existing Ray cluster at address: 172.17.0.2:6379\n"
     ]
    }
   ],
   "source": [
    "from pynb_dag_runner.tasks.task_opentelemetry_logging import PydarLogger\n",
    "\n",
    "logger = PydarLogger(P)"
   ]
  },
  {
   "cell_type": "markdown",
   "id": "a948461b",
   "metadata": {
    "papermill": {
     "duration": 0.003295,
     "end_time": "2022-07-05T06:47:40.497909",
     "exception": false,
     "start_time": "2022-07-05T06:47:40.494614",
     "status": "completed"
    },
    "tags": []
   },
   "source": [
    "## Load and limit train data"
   ]
  },
  {
   "cell_type": "code",
   "execution_count": 6,
   "id": "1cb2ceff",
   "metadata": {
    "execution": {
     "iopub.execute_input": "2022-07-05T06:47:40.505175Z",
     "iopub.status.busy": "2022-07-05T06:47:40.504806Z",
     "iopub.status.idle": "2022-07-05T06:47:40.919014Z",
     "shell.execute_reply": "2022-07-05T06:47:40.918403Z"
    },
    "papermill": {
     "duration": 0.419834,
     "end_time": "2022-07-05T06:47:40.920703",
     "exception": false,
     "start_time": "2022-07-05T06:47:40.500869",
     "status": "completed"
    },
    "tags": []
   },
   "outputs": [],
   "source": [
    "def load_and_limit_train_data(P):\n",
    "    from common.io import datalake_root, read_numpy\n",
    "    from sklearn.model_selection import train_test_split\n",
    "\n",
    "    X_train_all = read_numpy(datalake_root(P) / \"train-data\" / \"digits.numpy\")\n",
    "    y_train_all = read_numpy(datalake_root(P) / \"train-data\" / \"labels.numpy\")\n",
    "\n",
    "    assert isinstance(P[\"task.nr_train_images\"], int)\n",
    "\n",
    "    # Note: train_test_split will fail if split is 0 or 100%.\n",
    "    assert 0 < P[\"task.nr_train_images\"] < len(y_train_all)\n",
    "\n",
    "    X_train, _, y_train, _ = train_test_split(\n",
    "        X_train_all,\n",
    "        y_train_all,\n",
    "        train_size=P[\"task.nr_train_images\"],\n",
    "        test_size=None,\n",
    "        stratify=y_train_all,\n",
    "        shuffle=True,\n",
    "        random_state=123,\n",
    "    )\n",
    "\n",
    "    assert X_train.shape == (len(y_train), 8 * 8)\n",
    "    return X_train, y_train\n",
    "\n",
    "\n",
    "X_train, y_train = load_and_limit_train_data(P)"
   ]
  },
  {
   "cell_type": "markdown",
   "id": "af9f1c08",
   "metadata": {
    "papermill": {
     "duration": 0.003096,
     "end_time": "2022-07-05T06:47:40.927142",
     "exception": false,
     "start_time": "2022-07-05T06:47:40.924046",
     "status": "completed"
    },
    "tags": []
   },
   "source": [
    "## Train support vector classifier model\n",
    "\n",
    "Below we assume that the hyperparameter $C$ is known.\n",
    "\n",
    "However, this should ideally be found by a hyperparameter search. That could be\n",
    "done in parallel on the Ray cluster, but this needs some more work. Ie., to use\n",
    "multiple cores in the notebook, those cores should be reserved when starting the\n",
    "notebook task (TODO).\n",
    "\n",
    "- https://docs.ray.io/en/latest/tune/key-concepts.html\n",
    "\n",
    "Note: cv-scores would need to be computed here, since they depend on the train data.\n",
    "After this notebook only the onnx-model is available."
   ]
  },
  {
   "cell_type": "code",
   "execution_count": 7,
   "id": "c7481441",
   "metadata": {
    "execution": {
     "iopub.execute_input": "2022-07-05T06:47:40.935777Z",
     "iopub.status.busy": "2022-07-05T06:47:40.935142Z",
     "iopub.status.idle": "2022-07-05T06:47:40.956130Z",
     "shell.execute_reply": "2022-07-05T06:47:40.955549Z"
    },
    "papermill": {
     "duration": 0.027755,
     "end_time": "2022-07-05T06:47:40.957782",
     "exception": false,
     "start_time": "2022-07-05T06:47:40.930027",
     "status": "completed"
    },
    "tags": []
   },
   "outputs": [],
   "source": [
    "from sklearn.svm import SVC"
   ]
  },
  {
   "cell_type": "code",
   "execution_count": 8,
   "id": "d923d987",
   "metadata": {
    "execution": {
     "iopub.execute_input": "2022-07-05T06:47:40.965878Z",
     "iopub.status.busy": "2022-07-05T06:47:40.965156Z",
     "iopub.status.idle": "2022-07-05T06:47:41.166235Z",
     "shell.execute_reply": "2022-07-05T06:47:41.165689Z"
    },
    "papermill": {
     "duration": 0.207335,
     "end_time": "2022-07-05T06:47:41.167982",
     "exception": false,
     "start_time": "2022-07-05T06:47:40.960647",
     "status": "completed"
    },
    "tags": []
   },
   "outputs": [
    {
     "data": {
      "text/plain": [
       "SVC(C=0.001, kernel='linear', probability=True)"
      ]
     },
     "execution_count": 8,
     "metadata": {},
     "output_type": "execute_result"
    }
   ],
   "source": [
    "model = SVC(C=0.001, kernel=\"linear\", probability=True)\n",
    "\n",
    "model.fit(X_train, y_train)"
   ]
  },
  {
   "cell_type": "markdown",
   "id": "e181d52f",
   "metadata": {
    "papermill": {
     "duration": 0.003751,
     "end_time": "2022-07-05T06:47:41.175391",
     "exception": false,
     "start_time": "2022-07-05T06:47:41.171640",
     "status": "completed"
    },
    "tags": []
   },
   "source": [
    "### Q: Can the labels returned by `predict(..)` be computed from probabilities returned by the `predict_prob`-method?"
   ]
  },
  {
   "cell_type": "code",
   "execution_count": 9,
   "id": "44cf280f",
   "metadata": {
    "execution": {
     "iopub.execute_input": "2022-07-05T06:47:41.182562Z",
     "iopub.status.busy": "2022-07-05T06:47:41.182251Z",
     "iopub.status.idle": "2022-07-05T06:47:41.281082Z",
     "shell.execute_reply": "2022-07-05T06:47:41.280337Z"
    },
    "papermill": {
     "duration": 0.104285,
     "end_time": "2022-07-05T06:47:41.282614",
     "exception": false,
     "start_time": "2022-07-05T06:47:41.178329",
     "status": "completed"
    },
    "tags": []
   },
   "outputs": [
    {
     "name": "stdout",
     "output_type": "stream",
     "text": [
      " - Logging nr_max_prob_neq_label (int) : 3\n"
     ]
    }
   ],
   "source": [
    "import numpy as np\n",
    "\n",
    "y_train_labels = model.predict(X_train)\n",
    "y_train_probabilities = model.predict_proba(X_train)\n",
    "assert y_train_probabilities.shape == (len(y_train), 10)\n",
    "\n",
    "y_train_max_prob_labels = np.argmax(y_train_probabilities, axis=1)\n",
    "assert y_train_labels.shape == y_train_max_prob_labels.shape == y_train.shape\n",
    "\n",
    "# If the predicted labels would coincide with the labels that have\n",
    "# maximum probability, the below number would be zero\n",
    "logger.log_int(\n",
    "    \"nr_max_prob_neq_label\", int(sum(y_train_max_prob_labels != y_train_labels))\n",
    ")"
   ]
  },
  {
   "cell_type": "markdown",
   "id": "1db8ce8f",
   "metadata": {
    "papermill": {
     "duration": 0.00326,
     "end_time": "2022-07-05T06:47:41.289386",
     "exception": false,
     "start_time": "2022-07-05T06:47:41.286126",
     "status": "completed"
    },
    "tags": []
   },
   "source": [
    "The explanation is (likely) explained in the SVC source, see\n",
    "[here](https://github.com/scikit-learn/scikit-learn/blob/main/sklearn/svm/_base.py).\n",
    "Namely, the outputs from `predict(..)` and `predict_proba(..)` may not in some\n",
    "cases be compatible since the latter is computed using cross-validation while\n",
    "the former is not. Thus, the above number need not be zero."
   ]
  },
  {
   "cell_type": "markdown",
   "id": "d0b4578b",
   "metadata": {
    "papermill": {
     "duration": 0.00299,
     "end_time": "2022-07-05T06:47:41.295605",
     "exception": false,
     "start_time": "2022-07-05T06:47:41.292615",
     "status": "completed"
    },
    "tags": []
   },
   "source": [
    "## Persist model"
   ]
  },
  {
   "cell_type": "code",
   "execution_count": 10,
   "id": "1b5b2f9f",
   "metadata": {
    "execution": {
     "iopub.execute_input": "2022-07-05T06:47:41.303491Z",
     "iopub.status.busy": "2022-07-05T06:47:41.303130Z",
     "iopub.status.idle": "2022-07-05T06:47:42.074520Z",
     "shell.execute_reply": "2022-07-05T06:47:42.073694Z"
    },
    "papermill": {
     "duration": 0.777421,
     "end_time": "2022-07-05T06:47:42.076602",
     "exception": false,
     "start_time": "2022-07-05T06:47:41.299181",
     "status": "completed"
    },
    "tags": []
   },
   "outputs": [],
   "source": [
    "from skl2onnx import convert_sklearn\n",
    "from skl2onnx.common.data_types import FloatTensorType\n",
    "\n",
    "#\n",
    "from common.io import datalake_root, write_onnx"
   ]
  },
  {
   "cell_type": "code",
   "execution_count": 11,
   "id": "58e4030f",
   "metadata": {
    "execution": {
     "iopub.execute_input": "2022-07-05T06:47:42.085433Z",
     "iopub.status.busy": "2022-07-05T06:47:42.084850Z",
     "iopub.status.idle": "2022-07-05T06:47:42.146480Z",
     "shell.execute_reply": "2022-07-05T06:47:42.145858Z"
    },
    "papermill": {
     "duration": 0.067733,
     "end_time": "2022-07-05T06:47:42.148124",
     "exception": false,
     "start_time": "2022-07-05T06:47:42.080391",
     "status": "completed"
    },
    "tags": []
   },
   "outputs": [],
   "source": [
    "# convert sklearn model into onnx and persist to data lake\n",
    "\n",
    "model_onnx = convert_sklearn(\n",
    "    model, initial_types=[(\"float_input_8x8_image\", FloatTensorType([None, 8 * 8]))]\n",
    ")\n",
    "write_onnx(\n",
    "    datalake_root(P)\n",
    "    / \"models\"\n",
    "    / f\"nr_train_images={P['task.nr_train_images']}\"\n",
    "    / \"model.onnx\",\n",
    "    model_onnx,\n",
    ")"
   ]
  },
  {
   "cell_type": "code",
   "execution_count": null,
   "id": "4057daf6",
   "metadata": {
    "papermill": {
     "duration": 0.003173,
     "end_time": "2022-07-05T06:47:42.154725",
     "exception": false,
     "start_time": "2022-07-05T06:47:42.151552",
     "status": "completed"
    },
    "tags": []
   },
   "outputs": [],
   "source": []
  }
 ],
 "metadata": {
  "jupytext": {
   "cell_metadata_filter": "tags,-all",
   "main_language": "python",
   "notebook_metadata_filter": "-all"
  },
  "language_info": {
   "codemirror_mode": {
    "name": "ipython",
    "version": 3
   },
   "file_extension": ".py",
   "mimetype": "text/x-python",
   "name": "python",
   "nbconvert_exporter": "python",
   "pygments_lexer": "ipython3",
   "version": "3.8.10"
  },
  "papermill": {
   "default_parameters": {},
   "duration": 4.91109,
   "end_time": "2022-07-05T06:47:43.544137",
   "environment_variables": {},
   "exception": null,
   "input_path": "/home/host_user/workspace/mnist-demo-pipeline/mnist-demo-pipeline/notebooks/temp-notebook-kskcvo_g.ipynb",
   "output_path": "notebooks/train-model.ipynb",
   "parameters": {
    "P": {
     "_opentelemetry_traceparent": "00-9a9aa49fd83112cc34c27f1dd20c1827-3d06d266314b7738-01",
     "pipeline.data_lake_root": "/pipeline-outputs/data-lake",
     "pipeline.github.actor": "matiasdahl",
     "pipeline.github.base_ref": "",
     "pipeline.github.event_name": "schedule",
     "pipeline.github.head_ref": "",
     "pipeline.github.job": "run-tests-pipeline-and-persist-pipeline-outputs",
     "pipeline.github.ref": "refs/heads/development",
     "pipeline.github.ref_name": "development",
     "pipeline.github.ref_type": "branch",
     "pipeline.github.repository": "pynb-dag-runner/mnist-digits-demo-pipeline",
     "pipeline.github.run_id": "2614272362",
     "pipeline.github.runner_name": "Hosted Agent",
     "pipeline.github.sha": "f934c58f68028b7bb026059d4e87e6d32a1bbd20",
     "pipeline.github.workflow": "Run automated tests, pipeline and deploy results to static reporting site",
     "pipeline.pipeline_run_id": "a1ba953f-9537-457d-9a41-ae0713378d2d",
     "pipeline.run_environment": "ci",
     "run.retry_nr": "0",
     "task.max_nr_retries": "1",
     "task.notebook": "notebooks/train-model.py",
     "task.nr_train_images": 1200,
     "task.num_cpus": 1,
     "task.timeout_s": "None"
    }
   },
   "start_time": "2022-07-05T06:47:38.633047",
   "version": "2.3.3"
  }
 },
 "nbformat": 4,
 "nbformat_minor": 5
}