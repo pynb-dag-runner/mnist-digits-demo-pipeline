{
 "cells": [
  {
   "cell_type": "markdown",
   "id": "d86b8ecc",
   "metadata": {
    "papermill": {
     "duration": 0.004244,
     "end_time": "2022-07-05T06:47:43.423502",
     "exception": false,
     "start_time": "2022-07-05T06:47:43.419258",
     "status": "completed"
    },
    "tags": []
   },
   "source": [
    "# Train model\n",
    "\n",
    "The purpose of this notebook is:\n",
    "\n",
    "- Load all training data (images and labels).\n",
    "- Limit number of train images to `task.nr_train_images` (value provided as run parameter).\n",
    "- Train a support vector machine model using sklearn.\n",
    "- Persist the trained model using the ONNX format."
   ]
  },
  {
   "cell_type": "markdown",
   "id": "275a702a",
   "metadata": {
    "papermill": {
     "duration": 0.003133,
     "end_time": "2022-07-05T06:47:43.430556",
     "exception": false,
     "start_time": "2022-07-05T06:47:43.427423",
     "status": "completed"
    },
    "tags": []
   },
   "source": [
    "### Determine run parameters"
   ]
  },
  {
   "cell_type": "code",
   "execution_count": 1,
   "id": "eccc860b",
   "metadata": {
    "execution": {
     "iopub.execute_input": "2022-07-05T06:47:43.441717Z",
     "iopub.status.busy": "2022-07-05T06:47:43.440899Z",
     "iopub.status.idle": "2022-07-05T06:47:43.452935Z",
     "shell.execute_reply": "2022-07-05T06:47:43.452001Z"
    },
    "lines_to_next_cell": 0,
    "papermill": {
     "duration": 0.018445,
     "end_time": "2022-07-05T06:47:43.455560",
     "exception": false,
     "start_time": "2022-07-05T06:47:43.437115",
     "status": "completed"
    },
    "tags": []
   },
   "outputs": [],
   "source": [
    "# ----------------- Parameters for interactive development --------------\n",
    "P = {\n",
    "    \"pipeline.data_lake_root\": \"/pipeline-outputs/data-lake\",\n",
    "    \"task.nr_train_images\": 600,\n",
    "}"
   ]
  },
  {
   "cell_type": "code",
   "execution_count": 2,
   "id": "1656784b",
   "metadata": {
    "execution": {
     "iopub.execute_input": "2022-07-05T06:47:43.463143Z",
     "iopub.status.busy": "2022-07-05T06:47:43.462242Z",
     "iopub.status.idle": "2022-07-05T06:47:43.466793Z",
     "shell.execute_reply": "2022-07-05T06:47:43.466197Z"
    },
    "lines_to_next_cell": 0,
    "papermill": {
     "duration": 0.010943,
     "end_time": "2022-07-05T06:47:43.469608",
     "exception": false,
     "start_time": "2022-07-05T06:47:43.458665",
     "status": "completed"
    },
    "tags": [
     "parameters"
    ]
   },
   "outputs": [],
   "source": [
    "# - During automated runs parameters will be injected in the below cell -"
   ]
  },
  {
   "cell_type": "code",
   "execution_count": 3,
   "id": "f8c7b5dc",
   "metadata": {
    "execution": {
     "iopub.execute_input": "2022-07-05T06:47:43.477786Z",
     "iopub.status.busy": "2022-07-05T06:47:43.477553Z",
     "iopub.status.idle": "2022-07-05T06:47:43.482262Z",
     "shell.execute_reply": "2022-07-05T06:47:43.481742Z"
    },
    "papermill": {
     "duration": 0.018553,
     "end_time": "2022-07-05T06:47:43.490968",
     "exception": false,
     "start_time": "2022-07-05T06:47:43.472415",
     "status": "completed"
    },
    "tags": [
     "injected-parameters"
    ]
   },
   "outputs": [],
   "source": [
    "# Parameters\n",
    "P = {\n",
    "    \"pipeline.data_lake_root\": \"/pipeline-outputs/data-lake\",\n",
    "    \"pipeline.run_environment\": \"ci\",\n",
    "    \"pipeline.pipeline_run_id\": \"a1ba953f-9537-457d-9a41-ae0713378d2d\",\n",
    "    \"pipeline.github.repository\": \"pynb-dag-runner/mnist-digits-demo-pipeline\",\n",
    "    \"pipeline.github.workflow\": \"Run automated tests, pipeline and deploy results to static reporting site\",\n",
    "    \"pipeline.github.runner_name\": \"Hosted Agent\",\n",
    "    \"pipeline.github.run_id\": \"2614272362\",\n",
    "    \"pipeline.github.actor\": \"matiasdahl\",\n",
    "    \"pipeline.github.job\": \"run-tests-pipeline-and-persist-pipeline-outputs\",\n",
    "    \"pipeline.github.base_ref\": \"\",\n",
    "    \"pipeline.github.head_ref\": \"\",\n",
    "    \"pipeline.github.sha\": \"f934c58f68028b7bb026059d4e87e6d32a1bbd20\",\n",
    "    \"pipeline.github.ref\": \"refs/heads/development\",\n",
    "    \"pipeline.github.ref_type\": \"branch\",\n",
    "    \"pipeline.github.ref_name\": \"development\",\n",
    "    \"pipeline.github.event_name\": \"schedule\",\n",
    "    \"task.nr_train_images\": 1000,\n",
    "    \"task.notebook\": \"notebooks/train-model.py\",\n",
    "    \"task.max_nr_retries\": \"1\",\n",
    "    \"run.retry_nr\": \"0\",\n",
    "    \"task.timeout_s\": \"None\",\n",
    "    \"task.num_cpus\": 1,\n",
    "    \"_opentelemetry_traceparent\": \"00-9a9aa49fd83112cc34c27f1dd20c1827-d7bf50f252746aa0-01\",\n",
    "}\n"
   ]
  },
  {
   "cell_type": "code",
   "execution_count": 4,
   "id": "b11ba325",
   "metadata": {
    "execution": {
     "iopub.execute_input": "2022-07-05T06:47:43.498602Z",
     "iopub.status.busy": "2022-07-05T06:47:43.498206Z",
     "iopub.status.idle": "2022-07-05T06:47:43.501478Z",
     "shell.execute_reply": "2022-07-05T06:47:43.500948Z"
    },
    "lines_to_next_cell": 0,
    "papermill": {
     "duration": 0.00905,
     "end_time": "2022-07-05T06:47:43.502983",
     "exception": false,
     "start_time": "2022-07-05T06:47:43.493933",
     "status": "completed"
    },
    "tags": []
   },
   "outputs": [],
   "source": [
    "# -----------------------------------------------------------------------"
   ]
  },
  {
   "cell_type": "markdown",
   "id": "e5206b84",
   "metadata": {
    "papermill": {
     "duration": 0.003279,
     "end_time": "2022-07-05T06:47:43.509290",
     "exception": false,
     "start_time": "2022-07-05T06:47:43.506011",
     "status": "completed"
    },
    "tags": []
   },
   "source": [
    "---"
   ]
  },
  {
   "cell_type": "markdown",
   "id": "0704776f",
   "metadata": {
    "lines_to_next_cell": 2,
    "papermill": {
     "duration": 0.003087,
     "end_time": "2022-07-05T06:47:43.515016",
     "exception": false,
     "start_time": "2022-07-05T06:47:43.511929",
     "status": "completed"
    },
    "tags": []
   },
   "source": [
    "### Notebook code"
   ]
  },
  {
   "cell_type": "code",
   "execution_count": 5,
   "id": "64e5d8df",
   "metadata": {
    "execution": {
     "iopub.execute_input": "2022-07-05T06:47:43.522165Z",
     "iopub.status.busy": "2022-07-05T06:47:43.521751Z",
     "iopub.status.idle": "2022-07-05T06:47:44.039955Z",
     "shell.execute_reply": "2022-07-05T06:47:44.039207Z"
    },
    "papermill": {
     "duration": 0.523886,
     "end_time": "2022-07-05T06:47:44.041731",
     "exception": false,
     "start_time": "2022-07-05T06:47:43.517845",
     "status": "completed"
    },
    "tags": []
   },
   "outputs": [
    {
     "name": "stderr",
     "output_type": "stream",
     "text": [
      "2022-07-05 06:47:43,859\tINFO worker.py:842 -- Connecting to existing Ray cluster at address: 172.17.0.2:6379\n"
     ]
    }
   ],
   "source": [
    "from pynb_dag_runner.tasks.task_opentelemetry_logging import PydarLogger\n",
    "\n",
    "logger = PydarLogger(P)"
   ]
  },
  {
   "cell_type": "markdown",
   "id": "bc52ef5c",
   "metadata": {
    "papermill": {
     "duration": 0.002873,
     "end_time": "2022-07-05T06:47:44.047730",
     "exception": false,
     "start_time": "2022-07-05T06:47:44.044857",
     "status": "completed"
    },
    "tags": []
   },
   "source": [
    "## Load and limit train data"
   ]
  },
  {
   "cell_type": "code",
   "execution_count": 6,
   "id": "d81b995e",
   "metadata": {
    "execution": {
     "iopub.execute_input": "2022-07-05T06:47:44.055091Z",
     "iopub.status.busy": "2022-07-05T06:47:44.054742Z",
     "iopub.status.idle": "2022-07-05T06:47:44.422203Z",
     "shell.execute_reply": "2022-07-05T06:47:44.421336Z"
    },
    "papermill": {
     "duration": 0.373143,
     "end_time": "2022-07-05T06:47:44.424111",
     "exception": false,
     "start_time": "2022-07-05T06:47:44.050968",
     "status": "completed"
    },
    "tags": []
   },
   "outputs": [],
   "source": [
    "def load_and_limit_train_data(P):\n",
    "    from common.io import datalake_root, read_numpy\n",
    "    from sklearn.model_selection import train_test_split\n",
    "\n",
    "    X_train_all = read_numpy(datalake_root(P) / \"train-data\" / \"digits.numpy\")\n",
    "    y_train_all = read_numpy(datalake_root(P) / \"train-data\" / \"labels.numpy\")\n",
    "\n",
    "    assert isinstance(P[\"task.nr_train_images\"], int)\n",
    "\n",
    "    # Note: train_test_split will fail if split is 0 or 100%.\n",
    "    assert 0 < P[\"task.nr_train_images\"] < len(y_train_all)\n",
    "\n",
    "    X_train, _, y_train, _ = train_test_split(\n",
    "        X_train_all,\n",
    "        y_train_all,\n",
    "        train_size=P[\"task.nr_train_images\"],\n",
    "        test_size=None,\n",
    "        stratify=y_train_all,\n",
    "        shuffle=True,\n",
    "        random_state=123,\n",
    "    )\n",
    "\n",
    "    assert X_train.shape == (len(y_train), 8 * 8)\n",
    "    return X_train, y_train\n",
    "\n",
    "\n",
    "X_train, y_train = load_and_limit_train_data(P)"
   ]
  },
  {
   "cell_type": "markdown",
   "id": "3a1f41af",
   "metadata": {
    "papermill": {
     "duration": 0.003154,
     "end_time": "2022-07-05T06:47:44.430847",
     "exception": false,
     "start_time": "2022-07-05T06:47:44.427693",
     "status": "completed"
    },
    "tags": []
   },
   "source": [
    "## Train support vector classifier model\n",
    "\n",
    "Below we assume that the hyperparameter $C$ is known.\n",
    "\n",
    "However, this should ideally be found by a hyperparameter search. That could be\n",
    "done in parallel on the Ray cluster, but this needs some more work. Ie., to use\n",
    "multiple cores in the notebook, those cores should be reserved when starting the\n",
    "notebook task (TODO).\n",
    "\n",
    "- https://docs.ray.io/en/latest/tune/key-concepts.html\n",
    "\n",
    "Note: cv-scores would need to be computed here, since they depend on the train data.\n",
    "After this notebook only the onnx-model is available."
   ]
  },
  {
   "cell_type": "code",
   "execution_count": 7,
   "id": "3eda4c89",
   "metadata": {
    "execution": {
     "iopub.execute_input": "2022-07-05T06:47:44.437994Z",
     "iopub.status.busy": "2022-07-05T06:47:44.437383Z",
     "iopub.status.idle": "2022-07-05T06:47:44.463596Z",
     "shell.execute_reply": "2022-07-05T06:47:44.462939Z"
    },
    "papermill": {
     "duration": 0.031426,
     "end_time": "2022-07-05T06:47:44.465187",
     "exception": false,
     "start_time": "2022-07-05T06:47:44.433761",
     "status": "completed"
    },
    "tags": []
   },
   "outputs": [],
   "source": [
    "from sklearn.svm import SVC"
   ]
  },
  {
   "cell_type": "code",
   "execution_count": 8,
   "id": "4505dc86",
   "metadata": {
    "execution": {
     "iopub.execute_input": "2022-07-05T06:47:44.473081Z",
     "iopub.status.busy": "2022-07-05T06:47:44.472481Z",
     "iopub.status.idle": "2022-07-05T06:47:44.625334Z",
     "shell.execute_reply": "2022-07-05T06:47:44.624796Z"
    },
    "papermill": {
     "duration": 0.158701,
     "end_time": "2022-07-05T06:47:44.627017",
     "exception": false,
     "start_time": "2022-07-05T06:47:44.468316",
     "status": "completed"
    },
    "tags": []
   },
   "outputs": [
    {
     "data": {
      "text/plain": [
       "SVC(C=0.001, kernel='linear', probability=True)"
      ]
     },
     "execution_count": 8,
     "metadata": {},
     "output_type": "execute_result"
    }
   ],
   "source": [
    "model = SVC(C=0.001, kernel=\"linear\", probability=True)\n",
    "\n",
    "model.fit(X_train, y_train)"
   ]
  },
  {
   "cell_type": "markdown",
   "id": "aee20b93",
   "metadata": {
    "papermill": {
     "duration": 0.003163,
     "end_time": "2022-07-05T06:47:44.633763",
     "exception": false,
     "start_time": "2022-07-05T06:47:44.630600",
     "status": "completed"
    },
    "tags": []
   },
   "source": [
    "### Q: Can the labels returned by `predict(..)` be computed from probabilities returned by the `predict_prob`-method?"
   ]
  },
  {
   "cell_type": "code",
   "execution_count": 9,
   "id": "cfbff971",
   "metadata": {
    "execution": {
     "iopub.execute_input": "2022-07-05T06:47:44.640648Z",
     "iopub.status.busy": "2022-07-05T06:47:44.640330Z",
     "iopub.status.idle": "2022-07-05T06:47:44.719832Z",
     "shell.execute_reply": "2022-07-05T06:47:44.719119Z"
    },
    "papermill": {
     "duration": 0.084923,
     "end_time": "2022-07-05T06:47:44.721557",
     "exception": false,
     "start_time": "2022-07-05T06:47:44.636634",
     "status": "completed"
    },
    "tags": []
   },
   "outputs": [
    {
     "name": "stdout",
     "output_type": "stream",
     "text": [
      " - Logging nr_max_prob_neq_label (int) : 1\n"
     ]
    }
   ],
   "source": [
    "import numpy as np\n",
    "\n",
    "y_train_labels = model.predict(X_train)\n",
    "y_train_probabilities = model.predict_proba(X_train)\n",
    "assert y_train_probabilities.shape == (len(y_train), 10)\n",
    "\n",
    "y_train_max_prob_labels = np.argmax(y_train_probabilities, axis=1)\n",
    "assert y_train_labels.shape == y_train_max_prob_labels.shape == y_train.shape\n",
    "\n",
    "# If the predicted labels would coincide with the labels that have\n",
    "# maximum probability, the below number would be zero\n",
    "logger.log_int(\n",
    "    \"nr_max_prob_neq_label\", int(sum(y_train_max_prob_labels != y_train_labels))\n",
    ")"
   ]
  },
  {
   "cell_type": "markdown",
   "id": "87b6b51c",
   "metadata": {
    "papermill": {
     "duration": 0.003814,
     "end_time": "2022-07-05T06:47:44.728876",
     "exception": false,
     "start_time": "2022-07-05T06:47:44.725062",
     "status": "completed"
    },
    "tags": []
   },
   "source": [
    "The explanation is (likely) explained in the SVC source, see\n",
    "[here](https://github.com/scikit-learn/scikit-learn/blob/main/sklearn/svm/_base.py).\n",
    "Namely, the outputs from `predict(..)` and `predict_proba(..)` may not in some\n",
    "cases be compatible since the latter is computed using cross-validation while\n",
    "the former is not. Thus, the above number need not be zero."
   ]
  },
  {
   "cell_type": "markdown",
   "id": "deb6f3c7",
   "metadata": {
    "papermill": {
     "duration": 0.003337,
     "end_time": "2022-07-05T06:47:44.735487",
     "exception": false,
     "start_time": "2022-07-05T06:47:44.732150",
     "status": "completed"
    },
    "tags": []
   },
   "source": [
    "## Persist model"
   ]
  },
  {
   "cell_type": "code",
   "execution_count": 10,
   "id": "f83e6879",
   "metadata": {
    "execution": {
     "iopub.execute_input": "2022-07-05T06:47:44.743205Z",
     "iopub.status.busy": "2022-07-05T06:47:44.742841Z",
     "iopub.status.idle": "2022-07-05T06:47:45.494519Z",
     "shell.execute_reply": "2022-07-05T06:47:45.493721Z"
    },
    "papermill": {
     "duration": 0.757735,
     "end_time": "2022-07-05T06:47:45.496393",
     "exception": false,
     "start_time": "2022-07-05T06:47:44.738658",
     "status": "completed"
    },
    "tags": []
   },
   "outputs": [],
   "source": [
    "from skl2onnx import convert_sklearn\n",
    "from skl2onnx.common.data_types import FloatTensorType\n",
    "\n",
    "#\n",
    "from common.io import datalake_root, write_onnx"
   ]
  },
  {
   "cell_type": "code",
   "execution_count": 11,
   "id": "5524ca83",
   "metadata": {
    "execution": {
     "iopub.execute_input": "2022-07-05T06:47:45.505477Z",
     "iopub.status.busy": "2022-07-05T06:47:45.504781Z",
     "iopub.status.idle": "2022-07-05T06:47:45.563477Z",
     "shell.execute_reply": "2022-07-05T06:47:45.562422Z"
    },
    "papermill": {
     "duration": 0.064823,
     "end_time": "2022-07-05T06:47:45.565141",
     "exception": false,
     "start_time": "2022-07-05T06:47:45.500318",
     "status": "completed"
    },
    "tags": []
   },
   "outputs": [],
   "source": [
    "# convert sklearn model into onnx and persist to data lake\n",
    "\n",
    "model_onnx = convert_sklearn(\n",
    "    model, initial_types=[(\"float_input_8x8_image\", FloatTensorType([None, 8 * 8]))]\n",
    ")\n",
    "write_onnx(\n",
    "    datalake_root(P)\n",
    "    / \"models\"\n",
    "    / f\"nr_train_images={P['task.nr_train_images']}\"\n",
    "    / \"model.onnx\",\n",
    "    model_onnx,\n",
    ")"
   ]
  },
  {
   "cell_type": "code",
   "execution_count": null,
   "id": "9dc491af",
   "metadata": {
    "papermill": {
     "duration": 0.00762,
     "end_time": "2022-07-05T06:47:45.575958",
     "exception": false,
     "start_time": "2022-07-05T06:47:45.568338",
     "status": "completed"
    },
    "tags": []
   },
   "outputs": [],
   "source": []
  }
 ],
 "metadata": {
  "jupytext": {
   "cell_metadata_filter": "tags,-all",
   "main_language": "python",
   "notebook_metadata_filter": "-all"
  },
  "language_info": {
   "codemirror_mode": {
    "name": "ipython",
    "version": 3
   },
   "file_extension": ".py",
   "mimetype": "text/x-python",
   "name": "python",
   "nbconvert_exporter": "python",
   "pygments_lexer": "ipython3",
   "version": "3.8.10"
  },
  "papermill": {
   "default_parameters": {},
   "duration": 4.590083,
   "end_time": "2022-07-05T06:47:46.599594",
   "environment_variables": {},
   "exception": null,
   "input_path": "/home/host_user/workspace/mnist-demo-pipeline/mnist-demo-pipeline/notebooks/temp-notebook-d_3pfouo.ipynb",
   "output_path": "notebooks/train-model.ipynb",
   "parameters": {
    "P": {
     "_opentelemetry_traceparent": "00-9a9aa49fd83112cc34c27f1dd20c1827-d7bf50f252746aa0-01",
     "pipeline.data_lake_root": "/pipeline-outputs/data-lake",
     "pipeline.github.actor": "matiasdahl",
     "pipeline.github.base_ref": "",
     "pipeline.github.event_name": "schedule",
     "pipeline.github.head_ref": "",
     "pipeline.github.job": "run-tests-pipeline-and-persist-pipeline-outputs",
     "pipeline.github.ref": "refs/heads/development",
     "pipeline.github.ref_name": "development",
     "pipeline.github.ref_type": "branch",
     "pipeline.github.repository": "pynb-dag-runner/mnist-digits-demo-pipeline",
     "pipeline.github.run_id": "2614272362",
     "pipeline.github.runner_name": "Hosted Agent",
     "pipeline.github.sha": "f934c58f68028b7bb026059d4e87e6d32a1bbd20",
     "pipeline.github.workflow": "Run automated tests, pipeline and deploy results to static reporting site",
     "pipeline.pipeline_run_id": "a1ba953f-9537-457d-9a41-ae0713378d2d",
     "pipeline.run_environment": "ci",
     "run.retry_nr": "0",
     "task.max_nr_retries": "1",
     "task.notebook": "notebooks/train-model.py",
     "task.nr_train_images": 1000,
     "task.num_cpus": 1,
     "task.timeout_s": "None"
    }
   },
   "start_time": "2022-07-05T06:47:42.009511",
   "version": "2.3.3"
  }
 },
 "nbformat": 4,
 "nbformat_minor": 5
}