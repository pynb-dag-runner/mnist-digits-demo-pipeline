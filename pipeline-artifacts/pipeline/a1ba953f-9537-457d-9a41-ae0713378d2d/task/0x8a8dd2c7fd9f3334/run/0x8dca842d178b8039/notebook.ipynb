{
 "cells": [
  {
   "cell_type": "markdown",
   "id": "2487f839",
   "metadata": {
    "papermill": {
     "duration": 0.006351,
     "end_time": "2022-07-05T06:47:28.262316",
     "exception": false,
     "start_time": "2022-07-05T06:47:28.255965",
     "status": "completed"
    },
    "tags": []
   },
   "source": [
    "# Split digits and labels into separate training and testing data sets"
   ]
  },
  {
   "cell_type": "markdown",
   "id": "63486798",
   "metadata": {
    "papermill": {
     "duration": 0.002259,
     "end_time": "2022-07-05T06:47:28.267330",
     "exception": false,
     "start_time": "2022-07-05T06:47:28.265071",
     "status": "completed"
    },
    "tags": []
   },
   "source": [
    "### Determine run parameters"
   ]
  },
  {
   "cell_type": "code",
   "execution_count": 1,
   "id": "a112e9d2",
   "metadata": {
    "execution": {
     "iopub.execute_input": "2022-07-05T06:47:28.278284Z",
     "iopub.status.busy": "2022-07-05T06:47:28.277845Z",
     "iopub.status.idle": "2022-07-05T06:47:28.288374Z",
     "shell.execute_reply": "2022-07-05T06:47:28.287826Z"
    },
    "lines_to_next_cell": 0,
    "papermill": {
     "duration": 0.015853,
     "end_time": "2022-07-05T06:47:28.290202",
     "exception": false,
     "start_time": "2022-07-05T06:47:28.274349",
     "status": "completed"
    },
    "tags": []
   },
   "outputs": [],
   "source": [
    "# ----------------- Parameters for interactive development --------------\n",
    "P = {\n",
    "    \"pipeline.data_lake_root\": \"/pipeline-outputs/data-lake\",\n",
    "    \"task.train_test_ratio\": 0.7,\n",
    "}"
   ]
  },
  {
   "cell_type": "code",
   "execution_count": 2,
   "id": "bff1a953",
   "metadata": {
    "execution": {
     "iopub.execute_input": "2022-07-05T06:47:28.297982Z",
     "iopub.status.busy": "2022-07-05T06:47:28.297751Z",
     "iopub.status.idle": "2022-07-05T06:47:28.300668Z",
     "shell.execute_reply": "2022-07-05T06:47:28.300152Z"
    },
    "lines_to_next_cell": 0,
    "papermill": {
     "duration": 0.010286,
     "end_time": "2022-07-05T06:47:28.303494",
     "exception": false,
     "start_time": "2022-07-05T06:47:28.293208",
     "status": "completed"
    },
    "tags": [
     "parameters"
    ]
   },
   "outputs": [],
   "source": [
    "# - During automated runs parameters will be injected in the below cell -"
   ]
  },
  {
   "cell_type": "code",
   "execution_count": 3,
   "id": "932707ce",
   "metadata": {
    "execution": {
     "iopub.execute_input": "2022-07-05T06:47:28.309204Z",
     "iopub.status.busy": "2022-07-05T06:47:28.308981Z",
     "iopub.status.idle": "2022-07-05T06:47:28.314284Z",
     "shell.execute_reply": "2022-07-05T06:47:28.313786Z"
    },
    "papermill": {
     "duration": 0.010768,
     "end_time": "2022-07-05T06:47:28.316537",
     "exception": false,
     "start_time": "2022-07-05T06:47:28.305769",
     "status": "completed"
    },
    "tags": [
     "injected-parameters"
    ]
   },
   "outputs": [],
   "source": [
    "# Parameters\n",
    "P = {\n",
    "    \"pipeline.data_lake_root\": \"/pipeline-outputs/data-lake\",\n",
    "    \"pipeline.run_environment\": \"ci\",\n",
    "    \"pipeline.pipeline_run_id\": \"a1ba953f-9537-457d-9a41-ae0713378d2d\",\n",
    "    \"pipeline.github.repository\": \"pynb-dag-runner/mnist-digits-demo-pipeline\",\n",
    "    \"pipeline.github.workflow\": \"Run automated tests, pipeline and deploy results to static reporting site\",\n",
    "    \"pipeline.github.runner_name\": \"Hosted Agent\",\n",
    "    \"pipeline.github.run_id\": \"2614272362\",\n",
    "    \"pipeline.github.actor\": \"matiasdahl\",\n",
    "    \"pipeline.github.job\": \"run-tests-pipeline-and-persist-pipeline-outputs\",\n",
    "    \"pipeline.github.base_ref\": \"\",\n",
    "    \"pipeline.github.head_ref\": \"\",\n",
    "    \"pipeline.github.sha\": \"f934c58f68028b7bb026059d4e87e6d32a1bbd20\",\n",
    "    \"pipeline.github.ref\": \"refs/heads/development\",\n",
    "    \"pipeline.github.ref_type\": \"branch\",\n",
    "    \"pipeline.github.ref_name\": \"development\",\n",
    "    \"pipeline.github.event_name\": \"schedule\",\n",
    "    \"task.train_test_ratio\": 0.7,\n",
    "    \"task.notebook\": \"notebooks/split-train-test.py\",\n",
    "    \"task.max_nr_retries\": \"1\",\n",
    "    \"run.retry_nr\": \"0\",\n",
    "    \"task.timeout_s\": \"None\",\n",
    "    \"task.num_cpus\": 1,\n",
    "    \"_opentelemetry_traceparent\": \"00-9a9aa49fd83112cc34c27f1dd20c1827-5c092644295e556d-01\",\n",
    "}\n"
   ]
  },
  {
   "cell_type": "code",
   "execution_count": 4,
   "id": "4ccea63a",
   "metadata": {
    "execution": {
     "iopub.execute_input": "2022-07-05T06:47:28.322745Z",
     "iopub.status.busy": "2022-07-05T06:47:28.322188Z",
     "iopub.status.idle": "2022-07-05T06:47:28.325142Z",
     "shell.execute_reply": "2022-07-05T06:47:28.324638Z"
    },
    "lines_to_next_cell": 0,
    "papermill": {
     "duration": 0.008413,
     "end_time": "2022-07-05T06:47:28.327222",
     "exception": false,
     "start_time": "2022-07-05T06:47:28.318809",
     "status": "completed"
    },
    "tags": []
   },
   "outputs": [],
   "source": [
    "# -----------------------------------------------------------------------"
   ]
  },
  {
   "cell_type": "markdown",
   "id": "2acd562a",
   "metadata": {
    "papermill": {
     "duration": 0.003038,
     "end_time": "2022-07-05T06:47:28.332491",
     "exception": false,
     "start_time": "2022-07-05T06:47:28.329453",
     "status": "completed"
    },
    "tags": []
   },
   "source": [
    "---"
   ]
  },
  {
   "cell_type": "markdown",
   "id": "d12480c4",
   "metadata": {
    "lines_to_next_cell": 2,
    "papermill": {
     "duration": 0.002362,
     "end_time": "2022-07-05T06:47:28.337618",
     "exception": false,
     "start_time": "2022-07-05T06:47:28.335256",
     "status": "completed"
    },
    "tags": []
   },
   "source": [
    "### Notebook code"
   ]
  },
  {
   "cell_type": "code",
   "execution_count": 5,
   "id": "b1f2b4a3",
   "metadata": {
    "execution": {
     "iopub.execute_input": "2022-07-05T06:47:28.344608Z",
     "iopub.status.busy": "2022-07-05T06:47:28.344363Z",
     "iopub.status.idle": "2022-07-05T06:47:28.893110Z",
     "shell.execute_reply": "2022-07-05T06:47:28.892434Z"
    },
    "papermill": {
     "duration": 0.555322,
     "end_time": "2022-07-05T06:47:28.895298",
     "exception": false,
     "start_time": "2022-07-05T06:47:28.339976",
     "status": "completed"
    },
    "tags": []
   },
   "outputs": [
    {
     "name": "stderr",
     "output_type": "stream",
     "text": [
      "2022-07-05 06:47:28,714\tINFO worker.py:842 -- Connecting to existing Ray cluster at address: 172.17.0.2:6379\n"
     ]
    }
   ],
   "source": [
    "from common.io import datalake_root, read_numpy, write_numpy\n",
    "from pynb_dag_runner.tasks.task_opentelemetry_logging import PydarLogger\n",
    "\n",
    "logger = PydarLogger(P)"
   ]
  },
  {
   "cell_type": "markdown",
   "id": "97121c7a",
   "metadata": {
    "papermill": {
     "duration": 0.003418,
     "end_time": "2022-07-05T06:47:28.901584",
     "exception": false,
     "start_time": "2022-07-05T06:47:28.898166",
     "status": "completed"
    },
    "tags": []
   },
   "source": [
    "## Load and split digits data"
   ]
  },
  {
   "cell_type": "code",
   "execution_count": 6,
   "id": "bd04d71f",
   "metadata": {
    "execution": {
     "iopub.execute_input": "2022-07-05T06:47:28.908464Z",
     "iopub.status.busy": "2022-07-05T06:47:28.907702Z",
     "iopub.status.idle": "2022-07-05T06:47:28.913809Z",
     "shell.execute_reply": "2022-07-05T06:47:28.913256Z"
    },
    "papermill": {
     "duration": 0.011882,
     "end_time": "2022-07-05T06:47:28.916129",
     "exception": false,
     "start_time": "2022-07-05T06:47:28.904247",
     "status": "completed"
    },
    "tags": []
   },
   "outputs": [],
   "source": [
    "X = read_numpy(datalake_root(P) / \"raw\" / \"digits.numpy\")\n",
    "y = read_numpy(datalake_root(P) / \"raw\" / \"labels.numpy\")"
   ]
  },
  {
   "cell_type": "code",
   "execution_count": 7,
   "id": "e3e3a703",
   "metadata": {
    "execution": {
     "iopub.execute_input": "2022-07-05T06:47:28.922974Z",
     "iopub.status.busy": "2022-07-05T06:47:28.922754Z",
     "iopub.status.idle": "2022-07-05T06:47:29.401145Z",
     "shell.execute_reply": "2022-07-05T06:47:29.399401Z"
    },
    "papermill": {
     "duration": 0.484313,
     "end_time": "2022-07-05T06:47:29.403117",
     "exception": false,
     "start_time": "2022-07-05T06:47:28.918804",
     "status": "completed"
    },
    "tags": []
   },
   "outputs": [],
   "source": [
    "from sklearn.model_selection import train_test_split\n",
    "\n",
    "X_train, X_test, y_train, y_test = train_test_split(\n",
    "    X,\n",
    "    y,\n",
    "    train_size=P[\"task.train_test_ratio\"],\n",
    "    test_size=None,\n",
    "    stratify=y,\n",
    "    shuffle=True,\n",
    "    random_state=1,\n",
    ")\n",
    "\n",
    "# assert nr of pixels per image is the same for all image vectors\n",
    "assert X.shape[1] == X_train.shape[1] == X_test.shape[1]\n",
    "\n",
    "# assert that the (X, y)-pairs have compatible sizes (for both train and test)\n",
    "assert X_train.shape[0] == len(y_train)\n",
    "assert X_test.shape[0] == len(y_test)\n",
    "\n",
    "# assert that all data is used\n",
    "assert len(y) == len(y_train) + len(y_test)"
   ]
  },
  {
   "cell_type": "code",
   "execution_count": 8,
   "id": "9365ceb5",
   "metadata": {
    "execution": {
     "iopub.execute_input": "2022-07-05T06:47:29.411074Z",
     "iopub.status.busy": "2022-07-05T06:47:29.410678Z",
     "iopub.status.idle": "2022-07-05T06:47:29.418431Z",
     "shell.execute_reply": "2022-07-05T06:47:29.417760Z"
    },
    "papermill": {
     "duration": 0.014548,
     "end_time": "2022-07-05T06:47:29.420838",
     "exception": false,
     "start_time": "2022-07-05T06:47:29.406290",
     "status": "completed"
    },
    "tags": []
   },
   "outputs": [
    {
     "name": "stdout",
     "output_type": "stream",
     "text": [
      " - Logging nr_digits_train (int) : 1257\n",
      " - Logging nr_digits_test (int) : 540\n"
     ]
    }
   ],
   "source": [
    "logger.log_int(\"nr_digits_train\", len(y_train))\n",
    "logger.log_int(\"nr_digits_test\", len(y_test))"
   ]
  },
  {
   "cell_type": "markdown",
   "id": "5065b975",
   "metadata": {
    "papermill": {
     "duration": 0.002895,
     "end_time": "2022-07-05T06:47:29.426702",
     "exception": false,
     "start_time": "2022-07-05T06:47:29.423807",
     "status": "completed"
    },
    "tags": []
   },
   "source": [
    "### Persist training and test data sets to separate files"
   ]
  },
  {
   "cell_type": "code",
   "execution_count": 9,
   "id": "e4014a7d",
   "metadata": {
    "execution": {
     "iopub.execute_input": "2022-07-05T06:47:29.435600Z",
     "iopub.status.busy": "2022-07-05T06:47:29.435039Z",
     "iopub.status.idle": "2022-07-05T06:47:29.442160Z",
     "shell.execute_reply": "2022-07-05T06:47:29.441451Z"
    },
    "papermill": {
     "duration": 0.012342,
     "end_time": "2022-07-05T06:47:29.443798",
     "exception": false,
     "start_time": "2022-07-05T06:47:29.431456",
     "status": "completed"
    },
    "tags": []
   },
   "outputs": [],
   "source": [
    "write_numpy(datalake_root(P) / \"train-data\" / \"digits.numpy\", X_train)\n",
    "write_numpy(datalake_root(P) / \"train-data\" / \"labels.numpy\", y_train)\n",
    "\n",
    "#\n",
    "write_numpy(datalake_root(P) / \"test-data\" / \"digits.numpy\", X_test)\n",
    "write_numpy(datalake_root(P) / \"test-data\" / \"labels.numpy\", y_test)"
   ]
  },
  {
   "cell_type": "code",
   "execution_count": null,
   "id": "a5979b00",
   "metadata": {
    "papermill": {
     "duration": 0.005193,
     "end_time": "2022-07-05T06:47:29.451926",
     "exception": false,
     "start_time": "2022-07-05T06:47:29.446733",
     "status": "completed"
    },
    "tags": []
   },
   "outputs": [],
   "source": []
  }
 ],
 "metadata": {
  "jupytext": {
   "cell_metadata_filter": "tags,-all",
   "main_language": "python",
   "notebook_metadata_filter": "-all"
  },
  "language_info": {
   "codemirror_mode": {
    "name": "ipython",
    "version": 3
   },
   "file_extension": ".py",
   "mimetype": "text/x-python",
   "name": "python",
   "nbconvert_exporter": "python",
   "pygments_lexer": "ipython3",
   "version": "3.8.10"
  },
  "papermill": {
   "default_parameters": {},
   "duration": 3.478474,
   "end_time": "2022-07-05T06:47:30.475295",
   "environment_variables": {},
   "exception": null,
   "input_path": "/home/host_user/workspace/mnist-demo-pipeline/mnist-demo-pipeline/notebooks/temp-notebook-rp90s04b.ipynb",
   "output_path": "notebooks/split-train-test.ipynb",
   "parameters": {
    "P": {
     "_opentelemetry_traceparent": "00-9a9aa49fd83112cc34c27f1dd20c1827-5c092644295e556d-01",
     "pipeline.data_lake_root": "/pipeline-outputs/data-lake",
     "pipeline.github.actor": "matiasdahl",
     "pipeline.github.base_ref": "",
     "pipeline.github.event_name": "schedule",
     "pipeline.github.head_ref": "",
     "pipeline.github.job": "run-tests-pipeline-and-persist-pipeline-outputs",
     "pipeline.github.ref": "refs/heads/development",
     "pipeline.github.ref_name": "development",
     "pipeline.github.ref_type": "branch",
     "pipeline.github.repository": "pynb-dag-runner/mnist-digits-demo-pipeline",
     "pipeline.github.run_id": "2614272362",
     "pipeline.github.runner_name": "Hosted Agent",
     "pipeline.github.sha": "f934c58f68028b7bb026059d4e87e6d32a1bbd20",
     "pipeline.github.workflow": "Run automated tests, pipeline and deploy results to static reporting site",
     "pipeline.pipeline_run_id": "a1ba953f-9537-457d-9a41-ae0713378d2d",
     "pipeline.run_environment": "ci",
     "run.retry_nr": "0",
     "task.max_nr_retries": "1",
     "task.notebook": "notebooks/split-train-test.py",
     "task.num_cpus": 1,
     "task.timeout_s": "None",
     "task.train_test_ratio": 0.7
    }
   },
   "start_time": "2022-07-05T06:47:26.996821",
   "version": "2.3.3"
  }
 },
 "nbformat": 4,
 "nbformat_minor": 5
}