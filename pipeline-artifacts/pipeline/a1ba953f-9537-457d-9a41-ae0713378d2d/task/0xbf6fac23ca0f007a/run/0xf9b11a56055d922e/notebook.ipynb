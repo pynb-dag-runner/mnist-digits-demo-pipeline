{
 "cells": [
  {
   "cell_type": "markdown",
   "id": "4cb25905",
   "metadata": {
    "papermill": {
     "duration": 0.003306,
     "end_time": "2022-07-05T06:47:22.911580",
     "exception": false,
     "start_time": "2022-07-05T06:47:22.908274",
     "status": "completed"
    },
    "tags": []
   },
   "source": [
    "# Ingest toy version of MNIST digit data from sklearn"
   ]
  },
  {
   "cell_type": "markdown",
   "id": "90b04a1a",
   "metadata": {
    "papermill": {
     "duration": 0.002559,
     "end_time": "2022-07-05T06:47:22.916714",
     "exception": false,
     "start_time": "2022-07-05T06:47:22.914155",
     "status": "completed"
    },
    "tags": []
   },
   "source": [
    "### Determine run parameters"
   ]
  },
  {
   "cell_type": "code",
   "execution_count": 1,
   "id": "fe5dd665",
   "metadata": {
    "execution": {
     "iopub.execute_input": "2022-07-05T06:47:22.922444Z",
     "iopub.status.busy": "2022-07-05T06:47:22.921944Z",
     "iopub.status.idle": "2022-07-05T06:47:22.929378Z",
     "shell.execute_reply": "2022-07-05T06:47:22.928756Z"
    },
    "lines_to_next_cell": 0,
    "papermill": {
     "duration": 0.012116,
     "end_time": "2022-07-05T06:47:22.930882",
     "exception": false,
     "start_time": "2022-07-05T06:47:22.918766",
     "status": "completed"
    },
    "tags": []
   },
   "outputs": [],
   "source": [
    "# ----------------- Parameters for interactive development --------------\n",
    "P = {\n",
    "    \"pipeline.run_environment\": \"dev\",\n",
    "    \"pipeline.data_lake_root\": \"/pipeline-outputs/data-lake\",\n",
    "    \"run.retry_nr\": \"1\",\n",
    "}"
   ]
  },
  {
   "cell_type": "code",
   "execution_count": 2,
   "id": "9dfa8714",
   "metadata": {
    "execution": {
     "iopub.execute_input": "2022-07-05T06:47:22.936945Z",
     "iopub.status.busy": "2022-07-05T06:47:22.936724Z",
     "iopub.status.idle": "2022-07-05T06:47:22.939903Z",
     "shell.execute_reply": "2022-07-05T06:47:22.939188Z"
    },
    "lines_to_next_cell": 0,
    "papermill": {
     "duration": 0.008088,
     "end_time": "2022-07-05T06:47:22.941251",
     "exception": false,
     "start_time": "2022-07-05T06:47:22.933163",
     "status": "completed"
    },
    "tags": [
     "parameters"
    ]
   },
   "outputs": [],
   "source": [
    "# - During automated runs parameters will be injected in the below cell -"
   ]
  },
  {
   "cell_type": "code",
   "execution_count": 3,
   "id": "03066ea0",
   "metadata": {
    "execution": {
     "iopub.execute_input": "2022-07-05T06:47:22.947349Z",
     "iopub.status.busy": "2022-07-05T06:47:22.947135Z",
     "iopub.status.idle": "2022-07-05T06:47:22.951388Z",
     "shell.execute_reply": "2022-07-05T06:47:22.950665Z"
    },
    "papermill": {
     "duration": 0.009173,
     "end_time": "2022-07-05T06:47:22.952780",
     "exception": false,
     "start_time": "2022-07-05T06:47:22.943607",
     "status": "completed"
    },
    "tags": [
     "injected-parameters"
    ]
   },
   "outputs": [],
   "source": [
    "# Parameters\n",
    "P = {\n",
    "    \"pipeline.data_lake_root\": \"/pipeline-outputs/data-lake\",\n",
    "    \"pipeline.run_environment\": \"ci\",\n",
    "    \"pipeline.pipeline_run_id\": \"a1ba953f-9537-457d-9a41-ae0713378d2d\",\n",
    "    \"pipeline.github.repository\": \"pynb-dag-runner/mnist-digits-demo-pipeline\",\n",
    "    \"pipeline.github.workflow\": \"Run automated tests, pipeline and deploy results to static reporting site\",\n",
    "    \"pipeline.github.runner_name\": \"Hosted Agent\",\n",
    "    \"pipeline.github.run_id\": \"2614272362\",\n",
    "    \"pipeline.github.actor\": \"matiasdahl\",\n",
    "    \"pipeline.github.job\": \"run-tests-pipeline-and-persist-pipeline-outputs\",\n",
    "    \"pipeline.github.base_ref\": \"\",\n",
    "    \"pipeline.github.head_ref\": \"\",\n",
    "    \"pipeline.github.sha\": \"f934c58f68028b7bb026059d4e87e6d32a1bbd20\",\n",
    "    \"pipeline.github.ref\": \"refs/heads/development\",\n",
    "    \"pipeline.github.ref_type\": \"branch\",\n",
    "    \"pipeline.github.ref_name\": \"development\",\n",
    "    \"pipeline.github.event_name\": \"schedule\",\n",
    "    \"task.notebook\": \"notebooks/ingest.py\",\n",
    "    \"task.max_nr_retries\": \"15\",\n",
    "    \"run.retry_nr\": \"10\",\n",
    "    \"task.timeout_s\": \"10\",\n",
    "    \"task.num_cpus\": 1,\n",
    "    \"_opentelemetry_traceparent\": \"00-9a9aa49fd83112cc34c27f1dd20c1827-6bc3fd2924d86848-01\",\n",
    "}\n"
   ]
  },
  {
   "cell_type": "code",
   "execution_count": 4,
   "id": "aeafd42e",
   "metadata": {
    "execution": {
     "iopub.execute_input": "2022-07-05T06:47:22.959244Z",
     "iopub.status.busy": "2022-07-05T06:47:22.958851Z",
     "iopub.status.idle": "2022-07-05T06:47:22.961700Z",
     "shell.execute_reply": "2022-07-05T06:47:22.961130Z"
    },
    "lines_to_next_cell": 0,
    "papermill": {
     "duration": 0.008088,
     "end_time": "2022-07-05T06:47:22.963059",
     "exception": false,
     "start_time": "2022-07-05T06:47:22.954971",
     "status": "completed"
    },
    "tags": []
   },
   "outputs": [],
   "source": [
    "# -----------------------------------------------------------------------"
   ]
  },
  {
   "cell_type": "markdown",
   "id": "44353d5f",
   "metadata": {
    "lines_to_next_cell": 2,
    "papermill": {
     "duration": 0.002748,
     "end_time": "2022-07-05T06:47:22.967991",
     "exception": false,
     "start_time": "2022-07-05T06:47:22.965243",
     "status": "completed"
    },
    "tags": []
   },
   "source": [
    "---"
   ]
  },
  {
   "cell_type": "markdown",
   "id": "fe7bc94f",
   "metadata": {
    "papermill": {
     "duration": 0.002252,
     "end_time": "2022-07-05T06:47:22.972585",
     "exception": false,
     "start_time": "2022-07-05T06:47:22.970333",
     "status": "completed"
    },
    "tags": []
   },
   "source": [
    "### Simulate different types of failures (for testing timeout and retry logic)"
   ]
  },
  {
   "cell_type": "code",
   "execution_count": 5,
   "id": "9cde67dd",
   "metadata": {
    "execution": {
     "iopub.execute_input": "2022-07-05T06:47:22.978672Z",
     "iopub.status.busy": "2022-07-05T06:47:22.978211Z",
     "iopub.status.idle": "2022-07-05T06:47:23.420797Z",
     "shell.execute_reply": "2022-07-05T06:47:23.420009Z"
    },
    "papermill": {
     "duration": 0.447912,
     "end_time": "2022-07-05T06:47:23.422825",
     "exception": false,
     "start_time": "2022-07-05T06:47:22.974913",
     "status": "completed"
    },
    "tags": []
   },
   "outputs": [
    {
     "name": "stderr",
     "output_type": "stream",
     "text": [
      "2022-07-05 06:47:23,274\tINFO worker.py:842 -- Connecting to existing Ray cluster at address: 172.17.0.2:6379\n"
     ]
    }
   ],
   "source": [
    "from pynb_dag_runner.tasks.task_opentelemetry_logging import PydarLogger\n",
    "\n",
    "logger = PydarLogger(P)"
   ]
  },
  {
   "cell_type": "code",
   "execution_count": 6,
   "id": "8674e5ed",
   "metadata": {
    "execution": {
     "iopub.execute_input": "2022-07-05T06:47:23.429541Z",
     "iopub.status.busy": "2022-07-05T06:47:23.428850Z",
     "iopub.status.idle": "2022-07-05T06:47:23.434987Z",
     "shell.execute_reply": "2022-07-05T06:47:23.434271Z"
    },
    "papermill": {
     "duration": 0.011003,
     "end_time": "2022-07-05T06:47:23.436496",
     "exception": false,
     "start_time": "2022-07-05T06:47:23.425493",
     "status": "completed"
    },
    "tags": []
   },
   "outputs": [],
   "source": [
    "import time, random\n",
    "\n",
    "\n",
    "def maybe_crash(retry_nr: int, run_environment: str):\n",
    "    if retry_nr == 2 and run_environment == \"ci\":\n",
    "        time.sleep(1e6)\n",
    "\n",
    "    max_retry_nr: int = 3 if run_environment == \"dev\" else 10\n",
    "\n",
    "    if retry_nr < max_retry_nr:\n",
    "        if random.random() < 0.1:\n",
    "            time.sleep(1e6)\n",
    "        else:\n",
    "            raise Exception(\"Simulated exception failure from ingestion step notebook!\")\n",
    "\n",
    "\n",
    "maybe_crash(\n",
    "    retry_nr=int(P[\"run.retry_nr\"]), run_environment=P[\"pipeline.run_environment\"]\n",
    ")"
   ]
  },
  {
   "cell_type": "markdown",
   "id": "9a765d0a",
   "metadata": {
    "lines_to_next_cell": 2,
    "papermill": {
     "duration": 0.002484,
     "end_time": "2022-07-05T06:47:23.441807",
     "exception": false,
     "start_time": "2022-07-05T06:47:23.439323",
     "status": "completed"
    },
    "tags": []
   },
   "source": [
    "### Notebook code"
   ]
  },
  {
   "cell_type": "code",
   "execution_count": 7,
   "id": "88e432f3",
   "metadata": {
    "execution": {
     "iopub.execute_input": "2022-07-05T06:47:23.448257Z",
     "iopub.status.busy": "2022-07-05T06:47:23.447651Z",
     "iopub.status.idle": "2022-07-05T06:47:24.640094Z",
     "shell.execute_reply": "2022-07-05T06:47:24.639098Z"
    },
    "papermill": {
     "duration": 1.197945,
     "end_time": "2022-07-05T06:47:24.642088",
     "exception": false,
     "start_time": "2022-07-05T06:47:23.444143",
     "status": "completed"
    },
    "tags": []
   },
   "outputs": [],
   "source": [
    "from sklearn import datasets\n",
    "\n",
    "#\n",
    "from common.io import datalake_root, write_numpy"
   ]
  },
  {
   "cell_type": "code",
   "execution_count": 8,
   "id": "d647b026",
   "metadata": {
    "execution": {
     "iopub.execute_input": "2022-07-05T06:47:24.648595Z",
     "iopub.status.busy": "2022-07-05T06:47:24.648345Z",
     "iopub.status.idle": "2022-07-05T06:47:24.661208Z",
     "shell.execute_reply": "2022-07-05T06:47:24.660517Z"
    },
    "lines_to_next_cell": 2,
    "papermill": {
     "duration": 0.017819,
     "end_time": "2022-07-05T06:47:24.662782",
     "exception": false,
     "start_time": "2022-07-05T06:47:24.644963",
     "status": "completed"
    },
    "tags": []
   },
   "outputs": [],
   "source": [
    "digits = datasets.load_digits()\n",
    "\n",
    "X = digits[\"data\"]\n",
    "y = digits[\"target\"]"
   ]
  },
  {
   "cell_type": "code",
   "execution_count": 9,
   "id": "48ec3727",
   "metadata": {
    "execution": {
     "iopub.execute_input": "2022-07-05T06:47:24.668855Z",
     "iopub.status.busy": "2022-07-05T06:47:24.668613Z",
     "iopub.status.idle": "2022-07-05T06:47:24.680517Z",
     "shell.execute_reply": "2022-07-05T06:47:24.679803Z"
    },
    "papermill": {
     "duration": 0.017087,
     "end_time": "2022-07-05T06:47:24.682382",
     "exception": false,
     "start_time": "2022-07-05T06:47:24.665295",
     "status": "completed"
    },
    "tags": []
   },
   "outputs": [
    {
     "name": "stdout",
     "output_type": "stream",
     "text": [
      " - Logging data_shape (json) : [1797, 64]\n",
      " - Logging target_shape (json) : [1797]\n"
     ]
    },
    {
     "data": {
      "text/plain": [
       "((1797, 64), (1797,))"
      ]
     },
     "execution_count": 9,
     "metadata": {},
     "output_type": "execute_result"
    }
   ],
   "source": [
    "logger.log_value(\"data_shape\", list(X.shape))\n",
    "logger.log_value(\"target_shape\", list(y.shape))\n",
    "\n",
    "X.shape, y.shape"
   ]
  },
  {
   "cell_type": "code",
   "execution_count": 10,
   "id": "804e6613",
   "metadata": {
    "execution": {
     "iopub.execute_input": "2022-07-05T06:47:24.690417Z",
     "iopub.status.busy": "2022-07-05T06:47:24.690138Z",
     "iopub.status.idle": "2022-07-05T06:47:24.701350Z",
     "shell.execute_reply": "2022-07-05T06:47:24.697676Z"
    },
    "papermill": {
     "duration": 0.01701,
     "end_time": "2022-07-05T06:47:24.703236",
     "exception": false,
     "start_time": "2022-07-05T06:47:24.686226",
     "status": "completed"
    },
    "tags": []
   },
   "outputs": [],
   "source": [
    "write_numpy(datalake_root(P) / \"raw\" / \"digits.numpy\", X)\n",
    "write_numpy(datalake_root(P) / \"raw\" / \"labels.numpy\", y)"
   ]
  },
  {
   "cell_type": "code",
   "execution_count": null,
   "id": "a4f1e56d",
   "metadata": {
    "papermill": {
     "duration": 0.002809,
     "end_time": "2022-07-05T06:47:24.708645",
     "exception": false,
     "start_time": "2022-07-05T06:47:24.705836",
     "status": "completed"
    },
    "tags": []
   },
   "outputs": [],
   "source": []
  }
 ],
 "metadata": {
  "jupytext": {
   "cell_metadata_filter": "tags,-all",
   "main_language": "python",
   "notebook_metadata_filter": "-all"
  },
  "language_info": {
   "codemirror_mode": {
    "name": "ipython",
    "version": 3
   },
   "file_extension": ".py",
   "mimetype": "text/x-python",
   "name": "python",
   "nbconvert_exporter": "python",
   "pygments_lexer": "ipython3",
   "version": "3.8.10"
  },
  "papermill": {
   "default_parameters": {},
   "duration": 4.159257,
   "end_time": "2022-07-05T06:47:25.730946",
   "environment_variables": {},
   "exception": null,
   "input_path": "/home/host_user/workspace/mnist-demo-pipeline/mnist-demo-pipeline/notebooks/temp-notebook-rn_v3eoj.ipynb",
   "output_path": "notebooks/ingest.ipynb",
   "parameters": {
    "P": {
     "_opentelemetry_traceparent": "00-9a9aa49fd83112cc34c27f1dd20c1827-6bc3fd2924d86848-01",
     "pipeline.data_lake_root": "/pipeline-outputs/data-lake",
     "pipeline.github.actor": "matiasdahl",
     "pipeline.github.base_ref": "",
     "pipeline.github.event_name": "schedule",
     "pipeline.github.head_ref": "",
     "pipeline.github.job": "run-tests-pipeline-and-persist-pipeline-outputs",
     "pipeline.github.ref": "refs/heads/development",
     "pipeline.github.ref_name": "development",
     "pipeline.github.ref_type": "branch",
     "pipeline.github.repository": "pynb-dag-runner/mnist-digits-demo-pipeline",
     "pipeline.github.run_id": "2614272362",
     "pipeline.github.runner_name": "Hosted Agent",
     "pipeline.github.sha": "f934c58f68028b7bb026059d4e87e6d32a1bbd20",
     "pipeline.github.workflow": "Run automated tests, pipeline and deploy results to static reporting site",
     "pipeline.pipeline_run_id": "a1ba953f-9537-457d-9a41-ae0713378d2d",
     "pipeline.run_environment": "ci",
     "run.retry_nr": "10",
     "task.max_nr_retries": "15",
     "task.notebook": "notebooks/ingest.py",
     "task.num_cpus": 1,
     "task.timeout_s": "10"
    }
   },
   "start_time": "2022-07-05T06:47:21.571689",
   "version": "2.3.3"
  }
 },
 "nbformat": 4,
 "nbformat_minor": 5
}