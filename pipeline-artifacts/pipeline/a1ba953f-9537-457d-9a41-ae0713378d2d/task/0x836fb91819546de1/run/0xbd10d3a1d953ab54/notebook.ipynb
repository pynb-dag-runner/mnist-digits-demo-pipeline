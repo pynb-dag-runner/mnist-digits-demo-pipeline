{
 "cells": [
  {
   "cell_type": "markdown",
   "id": "24ae12e2",
   "metadata": {
    "papermill": {
     "duration": 0.004601,
     "end_time": "2022-07-05T06:47:33.249202",
     "exception": false,
     "start_time": "2022-07-05T06:47:33.244601",
     "status": "completed"
    },
    "tags": []
   },
   "source": [
    "# Train model\n",
    "\n",
    "The purpose of this notebook is:\n",
    "\n",
    "- Load all training data (images and labels).\n",
    "- Limit number of train images to `task.nr_train_images` (value provided as run parameter).\n",
    "- Train a support vector machine model using sklearn.\n",
    "- Persist the trained model using the ONNX format."
   ]
  },
  {
   "cell_type": "markdown",
   "id": "4a08aad3",
   "metadata": {
    "papermill": {
     "duration": 0.004278,
     "end_time": "2022-07-05T06:47:33.259673",
     "exception": false,
     "start_time": "2022-07-05T06:47:33.255395",
     "status": "completed"
    },
    "tags": []
   },
   "source": [
    "### Determine run parameters"
   ]
  },
  {
   "cell_type": "code",
   "execution_count": 1,
   "id": "3fef6ce1",
   "metadata": {
    "execution": {
     "iopub.execute_input": "2022-07-05T06:47:33.273699Z",
     "iopub.status.busy": "2022-07-05T06:47:33.273360Z",
     "iopub.status.idle": "2022-07-05T06:47:33.281173Z",
     "shell.execute_reply": "2022-07-05T06:47:33.280646Z"
    },
    "lines_to_next_cell": 0,
    "papermill": {
     "duration": 0.014424,
     "end_time": "2022-07-05T06:47:33.282891",
     "exception": false,
     "start_time": "2022-07-05T06:47:33.268467",
     "status": "completed"
    },
    "tags": []
   },
   "outputs": [],
   "source": [
    "# ----------------- Parameters for interactive development --------------\n",
    "P = {\n",
    "    \"pipeline.data_lake_root\": \"/pipeline-outputs/data-lake\",\n",
    "    \"task.nr_train_images\": 600,\n",
    "}"
   ]
  },
  {
   "cell_type": "code",
   "execution_count": 2,
   "id": "dac79536",
   "metadata": {
    "execution": {
     "iopub.execute_input": "2022-07-05T06:47:33.303265Z",
     "iopub.status.busy": "2022-07-05T06:47:33.303023Z",
     "iopub.status.idle": "2022-07-05T06:47:33.306249Z",
     "shell.execute_reply": "2022-07-05T06:47:33.305729Z"
    },
    "lines_to_next_cell": 0,
    "papermill": {
     "duration": 0.022927,
     "end_time": "2022-07-05T06:47:33.308762",
     "exception": false,
     "start_time": "2022-07-05T06:47:33.285835",
     "status": "completed"
    },
    "tags": [
     "parameters"
    ]
   },
   "outputs": [],
   "source": [
    "# - During automated runs parameters will be injected in the below cell -"
   ]
  },
  {
   "cell_type": "code",
   "execution_count": 3,
   "id": "31d56774",
   "metadata": {
    "execution": {
     "iopub.execute_input": "2022-07-05T06:47:33.322188Z",
     "iopub.status.busy": "2022-07-05T06:47:33.321962Z",
     "iopub.status.idle": "2022-07-05T06:47:33.326441Z",
     "shell.execute_reply": "2022-07-05T06:47:33.325916Z"
    },
    "papermill": {
     "duration": 0.009348,
     "end_time": "2022-07-05T06:47:33.327758",
     "exception": false,
     "start_time": "2022-07-05T06:47:33.318410",
     "status": "completed"
    },
    "tags": [
     "injected-parameters"
    ]
   },
   "outputs": [],
   "source": [
    "# Parameters\n",
    "P = {\n",
    "    \"pipeline.data_lake_root\": \"/pipeline-outputs/data-lake\",\n",
    "    \"pipeline.run_environment\": \"ci\",\n",
    "    \"pipeline.pipeline_run_id\": \"a1ba953f-9537-457d-9a41-ae0713378d2d\",\n",
    "    \"pipeline.github.repository\": \"pynb-dag-runner/mnist-digits-demo-pipeline\",\n",
    "    \"pipeline.github.workflow\": \"Run automated tests, pipeline and deploy results to static reporting site\",\n",
    "    \"pipeline.github.runner_name\": \"Hosted Agent\",\n",
    "    \"pipeline.github.run_id\": \"2614272362\",\n",
    "    \"pipeline.github.actor\": \"matiasdahl\",\n",
    "    \"pipeline.github.job\": \"run-tests-pipeline-and-persist-pipeline-outputs\",\n",
    "    \"pipeline.github.base_ref\": \"\",\n",
    "    \"pipeline.github.head_ref\": \"\",\n",
    "    \"pipeline.github.sha\": \"f934c58f68028b7bb026059d4e87e6d32a1bbd20\",\n",
    "    \"pipeline.github.ref\": \"refs/heads/development\",\n",
    "    \"pipeline.github.ref_type\": \"branch\",\n",
    "    \"pipeline.github.ref_name\": \"development\",\n",
    "    \"pipeline.github.event_name\": \"schedule\",\n",
    "    \"task.nr_train_images\": 800,\n",
    "    \"task.notebook\": \"notebooks/train-model.py\",\n",
    "    \"task.max_nr_retries\": \"1\",\n",
    "    \"run.retry_nr\": \"0\",\n",
    "    \"task.timeout_s\": \"None\",\n",
    "    \"task.num_cpus\": 1,\n",
    "    \"_opentelemetry_traceparent\": \"00-9a9aa49fd83112cc34c27f1dd20c1827-a86d23ba352e2492-01\",\n",
    "}\n"
   ]
  },
  {
   "cell_type": "code",
   "execution_count": 4,
   "id": "470ae4f4",
   "metadata": {
    "execution": {
     "iopub.execute_input": "2022-07-05T06:47:33.338652Z",
     "iopub.status.busy": "2022-07-05T06:47:33.338441Z",
     "iopub.status.idle": "2022-07-05T06:47:33.341262Z",
     "shell.execute_reply": "2022-07-05T06:47:33.340770Z"
    },
    "lines_to_next_cell": 0,
    "papermill": {
     "duration": 0.01098,
     "end_time": "2022-07-05T06:47:33.345579",
     "exception": false,
     "start_time": "2022-07-05T06:47:33.334599",
     "status": "completed"
    },
    "tags": []
   },
   "outputs": [],
   "source": [
    "# -----------------------------------------------------------------------"
   ]
  },
  {
   "cell_type": "markdown",
   "id": "9497683f",
   "metadata": {
    "papermill": {
     "duration": 0.008737,
     "end_time": "2022-07-05T06:47:33.359526",
     "exception": false,
     "start_time": "2022-07-05T06:47:33.350789",
     "status": "completed"
    },
    "tags": []
   },
   "source": [
    "---"
   ]
  },
  {
   "cell_type": "markdown",
   "id": "f750d08e",
   "metadata": {
    "lines_to_next_cell": 2,
    "papermill": {
     "duration": 0.006602,
     "end_time": "2022-07-05T06:47:33.369565",
     "exception": false,
     "start_time": "2022-07-05T06:47:33.362963",
     "status": "completed"
    },
    "tags": []
   },
   "source": [
    "### Notebook code"
   ]
  },
  {
   "cell_type": "code",
   "execution_count": 5,
   "id": "51d5d9b7",
   "metadata": {
    "execution": {
     "iopub.execute_input": "2022-07-05T06:47:33.383457Z",
     "iopub.status.busy": "2022-07-05T06:47:33.383177Z",
     "iopub.status.idle": "2022-07-05T06:47:34.199308Z",
     "shell.execute_reply": "2022-07-05T06:47:34.198408Z"
    },
    "papermill": {
     "duration": 0.826908,
     "end_time": "2022-07-05T06:47:34.201020",
     "exception": false,
     "start_time": "2022-07-05T06:47:33.374112",
     "status": "completed"
    },
    "tags": []
   },
   "outputs": [
    {
     "name": "stderr",
     "output_type": "stream",
     "text": [
      "2022-07-05 06:47:34,007\tINFO worker.py:842 -- Connecting to existing Ray cluster at address: 172.17.0.2:6379\n"
     ]
    }
   ],
   "source": [
    "from pynb_dag_runner.tasks.task_opentelemetry_logging import PydarLogger\n",
    "\n",
    "logger = PydarLogger(P)"
   ]
  },
  {
   "cell_type": "markdown",
   "id": "3277a64d",
   "metadata": {
    "papermill": {
     "duration": 0.002979,
     "end_time": "2022-07-05T06:47:34.206887",
     "exception": false,
     "start_time": "2022-07-05T06:47:34.203908",
     "status": "completed"
    },
    "tags": []
   },
   "source": [
    "## Load and limit train data"
   ]
  },
  {
   "cell_type": "code",
   "execution_count": 6,
   "id": "61a14e7a",
   "metadata": {
    "execution": {
     "iopub.execute_input": "2022-07-05T06:47:34.213605Z",
     "iopub.status.busy": "2022-07-05T06:47:34.213285Z",
     "iopub.status.idle": "2022-07-05T06:47:34.651711Z",
     "shell.execute_reply": "2022-07-05T06:47:34.651102Z"
    },
    "papermill": {
     "duration": 0.443991,
     "end_time": "2022-07-05T06:47:34.653618",
     "exception": false,
     "start_time": "2022-07-05T06:47:34.209627",
     "status": "completed"
    },
    "tags": []
   },
   "outputs": [
    {
     "name": "stderr",
     "output_type": "stream",
     "text": [
      "2022-07-05 06:47:34,263\tWARNING worker.py:1245 -- (ip=172.17.0.2) The agent on node 121b665481a5 failed to be restarted 5 times. There are 3 possible problems if you see this error.\n",
      "  1. The dashboard might not display correct information on this node.\n",
      "  2. Metrics on this node won't be reported.\n",
      "  3. runtime_env APIs won't work.\n",
      "Check out the `dashboard_agent.log` to see the detailed failure messages.\n"
     ]
    }
   ],
   "source": [
    "def load_and_limit_train_data(P):\n",
    "    from common.io import datalake_root, read_numpy\n",
    "    from sklearn.model_selection import train_test_split\n",
    "\n",
    "    X_train_all = read_numpy(datalake_root(P) / \"train-data\" / \"digits.numpy\")\n",
    "    y_train_all = read_numpy(datalake_root(P) / \"train-data\" / \"labels.numpy\")\n",
    "\n",
    "    assert isinstance(P[\"task.nr_train_images\"], int)\n",
    "\n",
    "    # Note: train_test_split will fail if split is 0 or 100%.\n",
    "    assert 0 < P[\"task.nr_train_images\"] < len(y_train_all)\n",
    "\n",
    "    X_train, _, y_train, _ = train_test_split(\n",
    "        X_train_all,\n",
    "        y_train_all,\n",
    "        train_size=P[\"task.nr_train_images\"],\n",
    "        test_size=None,\n",
    "        stratify=y_train_all,\n",
    "        shuffle=True,\n",
    "        random_state=123,\n",
    "    )\n",
    "\n",
    "    assert X_train.shape == (len(y_train), 8 * 8)\n",
    "    return X_train, y_train\n",
    "\n",
    "\n",
    "X_train, y_train = load_and_limit_train_data(P)"
   ]
  },
  {
   "cell_type": "markdown",
   "id": "8ab3a380",
   "metadata": {
    "papermill": {
     "duration": 0.003593,
     "end_time": "2022-07-05T06:47:34.660543",
     "exception": false,
     "start_time": "2022-07-05T06:47:34.656950",
     "status": "completed"
    },
    "tags": []
   },
   "source": [
    "## Train support vector classifier model\n",
    "\n",
    "Below we assume that the hyperparameter $C$ is known.\n",
    "\n",
    "However, this should ideally be found by a hyperparameter search. That could be\n",
    "done in parallel on the Ray cluster, but this needs some more work. Ie., to use\n",
    "multiple cores in the notebook, those cores should be reserved when starting the\n",
    "notebook task (TODO).\n",
    "\n",
    "- https://docs.ray.io/en/latest/tune/key-concepts.html\n",
    "\n",
    "Note: cv-scores would need to be computed here, since they depend on the train data.\n",
    "After this notebook only the onnx-model is available."
   ]
  },
  {
   "cell_type": "code",
   "execution_count": 7,
   "id": "f9974a7c",
   "metadata": {
    "execution": {
     "iopub.execute_input": "2022-07-05T06:47:34.669048Z",
     "iopub.status.busy": "2022-07-05T06:47:34.668687Z",
     "iopub.status.idle": "2022-07-05T06:47:34.751532Z",
     "shell.execute_reply": "2022-07-05T06:47:34.750923Z"
    },
    "papermill": {
     "duration": 0.088856,
     "end_time": "2022-07-05T06:47:34.753602",
     "exception": false,
     "start_time": "2022-07-05T06:47:34.664746",
     "status": "completed"
    },
    "tags": []
   },
   "outputs": [],
   "source": [
    "from sklearn.svm import SVC"
   ]
  },
  {
   "cell_type": "code",
   "execution_count": 8,
   "id": "66f62024",
   "metadata": {
    "execution": {
     "iopub.execute_input": "2022-07-05T06:47:34.762497Z",
     "iopub.status.busy": "2022-07-05T06:47:34.761911Z",
     "iopub.status.idle": "2022-07-05T06:47:34.887806Z",
     "shell.execute_reply": "2022-07-05T06:47:34.887128Z"
    },
    "papermill": {
     "duration": 0.132748,
     "end_time": "2022-07-05T06:47:34.889710",
     "exception": false,
     "start_time": "2022-07-05T06:47:34.756962",
     "status": "completed"
    },
    "tags": []
   },
   "outputs": [
    {
     "data": {
      "text/plain": [
       "SVC(C=0.001, kernel='linear', probability=True)"
      ]
     },
     "execution_count": 8,
     "metadata": {},
     "output_type": "execute_result"
    }
   ],
   "source": [
    "model = SVC(C=0.001, kernel=\"linear\", probability=True)\n",
    "\n",
    "model.fit(X_train, y_train)"
   ]
  },
  {
   "cell_type": "markdown",
   "id": "aca2a79b",
   "metadata": {
    "papermill": {
     "duration": 0.003294,
     "end_time": "2022-07-05T06:47:34.896368",
     "exception": false,
     "start_time": "2022-07-05T06:47:34.893074",
     "status": "completed"
    },
    "tags": []
   },
   "source": [
    "### Q: Can the labels returned by `predict(..)` be computed from probabilities returned by the `predict_prob`-method?"
   ]
  },
  {
   "cell_type": "code",
   "execution_count": 9,
   "id": "c85237f0",
   "metadata": {
    "execution": {
     "iopub.execute_input": "2022-07-05T06:47:34.904955Z",
     "iopub.status.busy": "2022-07-05T06:47:34.903962Z",
     "iopub.status.idle": "2022-07-05T06:47:34.955855Z",
     "shell.execute_reply": "2022-07-05T06:47:34.954842Z"
    },
    "papermill": {
     "duration": 0.058686,
     "end_time": "2022-07-05T06:47:34.958348",
     "exception": false,
     "start_time": "2022-07-05T06:47:34.899662",
     "status": "completed"
    },
    "tags": []
   },
   "outputs": [
    {
     "name": "stdout",
     "output_type": "stream",
     "text": [
      " - Logging nr_max_prob_neq_label (int) : 1\n"
     ]
    }
   ],
   "source": [
    "import numpy as np\n",
    "\n",
    "y_train_labels = model.predict(X_train)\n",
    "y_train_probabilities = model.predict_proba(X_train)\n",
    "assert y_train_probabilities.shape == (len(y_train), 10)\n",
    "\n",
    "y_train_max_prob_labels = np.argmax(y_train_probabilities, axis=1)\n",
    "assert y_train_labels.shape == y_train_max_prob_labels.shape == y_train.shape\n",
    "\n",
    "# If the predicted labels would coincide with the labels that have\n",
    "# maximum probability, the below number would be zero\n",
    "logger.log_int(\n",
    "    \"nr_max_prob_neq_label\", int(sum(y_train_max_prob_labels != y_train_labels))\n",
    ")"
   ]
  },
  {
   "cell_type": "markdown",
   "id": "18fd9e0d",
   "metadata": {
    "papermill": {
     "duration": 0.004155,
     "end_time": "2022-07-05T06:47:34.966836",
     "exception": false,
     "start_time": "2022-07-05T06:47:34.962681",
     "status": "completed"
    },
    "tags": []
   },
   "source": [
    "The explanation is (likely) explained in the SVC source, see\n",
    "[here](https://github.com/scikit-learn/scikit-learn/blob/main/sklearn/svm/_base.py).\n",
    "Namely, the outputs from `predict(..)` and `predict_proba(..)` may not in some\n",
    "cases be compatible since the latter is computed using cross-validation while\n",
    "the former is not. Thus, the above number need not be zero."
   ]
  },
  {
   "cell_type": "markdown",
   "id": "f87c068f",
   "metadata": {
    "papermill": {
     "duration": 0.003226,
     "end_time": "2022-07-05T06:47:34.973298",
     "exception": false,
     "start_time": "2022-07-05T06:47:34.970072",
     "status": "completed"
    },
    "tags": []
   },
   "source": [
    "## Persist model"
   ]
  },
  {
   "cell_type": "code",
   "execution_count": 10,
   "id": "4d0127f5",
   "metadata": {
    "execution": {
     "iopub.execute_input": "2022-07-05T06:47:34.981431Z",
     "iopub.status.busy": "2022-07-05T06:47:34.981018Z",
     "iopub.status.idle": "2022-07-05T06:47:36.122961Z",
     "shell.execute_reply": "2022-07-05T06:47:36.122216Z"
    },
    "papermill": {
     "duration": 1.148569,
     "end_time": "2022-07-05T06:47:36.125413",
     "exception": false,
     "start_time": "2022-07-05T06:47:34.976844",
     "status": "completed"
    },
    "tags": []
   },
   "outputs": [],
   "source": [
    "from skl2onnx import convert_sklearn\n",
    "from skl2onnx.common.data_types import FloatTensorType\n",
    "\n",
    "#\n",
    "from common.io import datalake_root, write_onnx"
   ]
  },
  {
   "cell_type": "code",
   "execution_count": 11,
   "id": "b647270d",
   "metadata": {
    "execution": {
     "iopub.execute_input": "2022-07-05T06:47:36.135258Z",
     "iopub.status.busy": "2022-07-05T06:47:36.134112Z",
     "iopub.status.idle": "2022-07-05T06:47:36.186020Z",
     "shell.execute_reply": "2022-07-05T06:47:36.185280Z"
    },
    "papermill": {
     "duration": 0.058624,
     "end_time": "2022-07-05T06:47:36.187936",
     "exception": false,
     "start_time": "2022-07-05T06:47:36.129312",
     "status": "completed"
    },
    "tags": []
   },
   "outputs": [],
   "source": [
    "# convert sklearn model into onnx and persist to data lake\n",
    "\n",
    "model_onnx = convert_sklearn(\n",
    "    model, initial_types=[(\"float_input_8x8_image\", FloatTensorType([None, 8 * 8]))]\n",
    ")\n",
    "write_onnx(\n",
    "    datalake_root(P)\n",
    "    / \"models\"\n",
    "    / f\"nr_train_images={P['task.nr_train_images']}\"\n",
    "    / \"model.onnx\",\n",
    "    model_onnx,\n",
    ")"
   ]
  },
  {
   "cell_type": "code",
   "execution_count": null,
   "id": "bd233105",
   "metadata": {
    "papermill": {
     "duration": 0.00399,
     "end_time": "2022-07-05T06:47:36.195350",
     "exception": false,
     "start_time": "2022-07-05T06:47:36.191360",
     "status": "completed"
    },
    "tags": []
   },
   "outputs": [],
   "source": []
  }
 ],
 "metadata": {
  "jupytext": {
   "cell_metadata_filter": "tags,-all",
   "main_language": "python",
   "notebook_metadata_filter": "-all"
  },
  "language_info": {
   "codemirror_mode": {
    "name": "ipython",
    "version": 3
   },
   "file_extension": ".py",
   "mimetype": "text/x-python",
   "name": "python",
   "nbconvert_exporter": "python",
   "pygments_lexer": "ipython3",
   "version": "3.8.10"
  },
  "papermill": {
   "default_parameters": {},
   "duration": 5.489177,
   "end_time": "2022-07-05T06:47:37.319480",
   "environment_variables": {},
   "exception": null,
   "input_path": "/home/host_user/workspace/mnist-demo-pipeline/mnist-demo-pipeline/notebooks/temp-notebook-c_4_mlpw.ipynb",
   "output_path": "notebooks/train-model.ipynb",
   "parameters": {
    "P": {
     "_opentelemetry_traceparent": "00-9a9aa49fd83112cc34c27f1dd20c1827-a86d23ba352e2492-01",
     "pipeline.data_lake_root": "/pipeline-outputs/data-lake",
     "pipeline.github.actor": "matiasdahl",
     "pipeline.github.base_ref": "",
     "pipeline.github.event_name": "schedule",
     "pipeline.github.head_ref": "",
     "pipeline.github.job": "run-tests-pipeline-and-persist-pipeline-outputs",
     "pipeline.github.ref": "refs/heads/development",
     "pipeline.github.ref_name": "development",
     "pipeline.github.ref_type": "branch",
     "pipeline.github.repository": "pynb-dag-runner/mnist-digits-demo-pipeline",
     "pipeline.github.run_id": "2614272362",
     "pipeline.github.runner_name": "Hosted Agent",
     "pipeline.github.sha": "f934c58f68028b7bb026059d4e87e6d32a1bbd20",
     "pipeline.github.workflow": "Run automated tests, pipeline and deploy results to static reporting site",
     "pipeline.pipeline_run_id": "a1ba953f-9537-457d-9a41-ae0713378d2d",
     "pipeline.run_environment": "ci",
     "run.retry_nr": "0",
     "task.max_nr_retries": "1",
     "task.notebook": "notebooks/train-model.py",
     "task.nr_train_images": 800,
     "task.num_cpus": 1,
     "task.timeout_s": "None"
    }
   },
   "start_time": "2022-07-05T06:47:31.830303",
   "version": "2.3.3"
  }
 },
 "nbformat": 4,
 "nbformat_minor": 5
}