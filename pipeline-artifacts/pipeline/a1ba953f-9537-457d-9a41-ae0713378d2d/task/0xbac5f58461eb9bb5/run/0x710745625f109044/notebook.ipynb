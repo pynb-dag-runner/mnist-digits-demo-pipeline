{
 "cells": [
  {
   "cell_type": "markdown",
   "id": "a8e179a3",
   "metadata": {
    "papermill": {
     "duration": 0.003625,
     "end_time": "2022-07-05T06:48:10.876774",
     "exception": false,
     "start_time": "2022-07-05T06:48:10.873149",
     "status": "completed"
    },
    "tags": []
   },
   "source": [
    "# Summarize model performances\n",
    "\n",
    "This notebooks plots the performances (using averaged ROC AUC scores) for models\n",
    "trained with different training sets."
   ]
  },
  {
   "cell_type": "markdown",
   "id": "0e31582e",
   "metadata": {
    "papermill": {
     "duration": 0.002713,
     "end_time": "2022-07-05T06:48:10.882194",
     "exception": false,
     "start_time": "2022-07-05T06:48:10.879481",
     "status": "completed"
    },
    "tags": []
   },
   "source": [
    "### Determine run parameters"
   ]
  },
  {
   "cell_type": "code",
   "execution_count": 1,
   "id": "2b69bb74",
   "metadata": {
    "execution": {
     "iopub.execute_input": "2022-07-05T06:48:10.888822Z",
     "iopub.status.busy": "2022-07-05T06:48:10.888346Z",
     "iopub.status.idle": "2022-07-05T06:48:10.896962Z",
     "shell.execute_reply": "2022-07-05T06:48:10.896424Z"
    },
    "lines_to_next_cell": 0,
    "papermill": {
     "duration": 0.014195,
     "end_time": "2022-07-05T06:48:10.898706",
     "exception": false,
     "start_time": "2022-07-05T06:48:10.884511",
     "status": "completed"
    },
    "tags": []
   },
   "outputs": [],
   "source": [
    "# ----------------- Parameters for interactive development --------------\n",
    "P = {\n",
    "    \"pipeline.run_environment\": \"dev\",\n",
    "}"
   ]
  },
  {
   "cell_type": "code",
   "execution_count": 2,
   "id": "c520428b",
   "metadata": {
    "execution": {
     "iopub.execute_input": "2022-07-05T06:48:10.905548Z",
     "iopub.status.busy": "2022-07-05T06:48:10.905130Z",
     "iopub.status.idle": "2022-07-05T06:48:10.908204Z",
     "shell.execute_reply": "2022-07-05T06:48:10.907610Z"
    },
    "lines_to_next_cell": 0,
    "papermill": {
     "duration": 0.008515,
     "end_time": "2022-07-05T06:48:10.909575",
     "exception": false,
     "start_time": "2022-07-05T06:48:10.901060",
     "status": "completed"
    },
    "tags": [
     "parameters"
    ]
   },
   "outputs": [],
   "source": [
    "# - During automated runs parameters will be injected in the below cell -"
   ]
  },
  {
   "cell_type": "code",
   "execution_count": 3,
   "id": "2b1b87e0",
   "metadata": {
    "execution": {
     "iopub.execute_input": "2022-07-05T06:48:10.916150Z",
     "iopub.status.busy": "2022-07-05T06:48:10.915651Z",
     "iopub.status.idle": "2022-07-05T06:48:10.921214Z",
     "shell.execute_reply": "2022-07-05T06:48:10.920656Z"
    },
    "papermill": {
     "duration": 0.011155,
     "end_time": "2022-07-05T06:48:10.923174",
     "exception": false,
     "start_time": "2022-07-05T06:48:10.912019",
     "status": "completed"
    },
    "tags": [
     "injected-parameters"
    ]
   },
   "outputs": [],
   "source": [
    "# Parameters\n",
    "P = {\n",
    "    \"pipeline.data_lake_root\": \"/pipeline-outputs/data-lake\",\n",
    "    \"pipeline.run_environment\": \"ci\",\n",
    "    \"pipeline.pipeline_run_id\": \"a1ba953f-9537-457d-9a41-ae0713378d2d\",\n",
    "    \"pipeline.github.repository\": \"pynb-dag-runner/mnist-digits-demo-pipeline\",\n",
    "    \"pipeline.github.workflow\": \"Run automated tests, pipeline and deploy results to static reporting site\",\n",
    "    \"pipeline.github.runner_name\": \"Hosted Agent\",\n",
    "    \"pipeline.github.run_id\": \"2614272362\",\n",
    "    \"pipeline.github.actor\": \"matiasdahl\",\n",
    "    \"pipeline.github.job\": \"run-tests-pipeline-and-persist-pipeline-outputs\",\n",
    "    \"pipeline.github.base_ref\": \"\",\n",
    "    \"pipeline.github.head_ref\": \"\",\n",
    "    \"pipeline.github.sha\": \"f934c58f68028b7bb026059d4e87e6d32a1bbd20\",\n",
    "    \"pipeline.github.ref\": \"refs/heads/development\",\n",
    "    \"pipeline.github.ref_type\": \"branch\",\n",
    "    \"pipeline.github.ref_name\": \"development\",\n",
    "    \"pipeline.github.event_name\": \"schedule\",\n",
    "    \"task.notebook\": \"notebooks/summary.py\",\n",
    "    \"task.max_nr_retries\": \"1\",\n",
    "    \"run.retry_nr\": \"0\",\n",
    "    \"task.timeout_s\": \"None\",\n",
    "    \"task.num_cpus\": 1,\n",
    "    \"_opentelemetry_traceparent\": \"00-9a9aa49fd83112cc34c27f1dd20c1827-b645c5aeab1a43c4-01\",\n",
    "}\n"
   ]
  },
  {
   "cell_type": "code",
   "execution_count": 4,
   "id": "f25ba811",
   "metadata": {
    "execution": {
     "iopub.execute_input": "2022-07-05T06:48:10.929081Z",
     "iopub.status.busy": "2022-07-05T06:48:10.928870Z",
     "iopub.status.idle": "2022-07-05T06:48:10.931475Z",
     "shell.execute_reply": "2022-07-05T06:48:10.930830Z"
    },
    "lines_to_next_cell": 0,
    "papermill": {
     "duration": 0.007451,
     "end_time": "2022-07-05T06:48:10.933003",
     "exception": false,
     "start_time": "2022-07-05T06:48:10.925552",
     "status": "completed"
    },
    "tags": []
   },
   "outputs": [],
   "source": [
    "# -----------------------------------------------------------------------"
   ]
  },
  {
   "cell_type": "markdown",
   "id": "2a5bb0f2",
   "metadata": {
    "papermill": {
     "duration": 0.002657,
     "end_time": "2022-07-05T06:48:10.938179",
     "exception": false,
     "start_time": "2022-07-05T06:48:10.935522",
     "status": "completed"
    },
    "tags": []
   },
   "source": [
    "---"
   ]
  },
  {
   "cell_type": "markdown",
   "id": "06b890a5",
   "metadata": {
    "lines_to_next_cell": 2,
    "papermill": {
     "duration": 0.002539,
     "end_time": "2022-07-05T06:48:10.943067",
     "exception": false,
     "start_time": "2022-07-05T06:48:10.940528",
     "status": "completed"
    },
    "tags": []
   },
   "source": [
    "### Notebook code"
   ]
  },
  {
   "cell_type": "code",
   "execution_count": 5,
   "id": "0fabdc2b",
   "metadata": {
    "execution": {
     "iopub.execute_input": "2022-07-05T06:48:10.949207Z",
     "iopub.status.busy": "2022-07-05T06:48:10.948805Z",
     "iopub.status.idle": "2022-07-05T06:48:12.040303Z",
     "shell.execute_reply": "2022-07-05T06:48:12.039314Z"
    },
    "papermill": {
     "duration": 1.096693,
     "end_time": "2022-07-05T06:48:12.042096",
     "exception": false,
     "start_time": "2022-07-05T06:48:10.945403",
     "status": "completed"
    },
    "tags": []
   },
   "outputs": [],
   "source": [
    "#\n",
    "import pandas as pd\n",
    "import matplotlib.pyplot as plt\n",
    "\n",
    "#\n",
    "from pynb_dag_runner.tasks.task_opentelemetry_logging import PydarLogger"
   ]
  },
  {
   "cell_type": "code",
   "execution_count": 6,
   "id": "ad8a58f4",
   "metadata": {
    "execution": {
     "iopub.execute_input": "2022-07-05T06:48:12.049475Z",
     "iopub.status.busy": "2022-07-05T06:48:12.048993Z",
     "iopub.status.idle": "2022-07-05T06:48:12.201909Z",
     "shell.execute_reply": "2022-07-05T06:48:12.200876Z"
    },
    "papermill": {
     "duration": 0.159154,
     "end_time": "2022-07-05T06:48:12.204190",
     "exception": false,
     "start_time": "2022-07-05T06:48:12.045036",
     "status": "completed"
    },
    "tags": []
   },
   "outputs": [
    {
     "name": "stderr",
     "output_type": "stream",
     "text": [
      "2022-07-05 06:48:12,053\tINFO worker.py:842 -- Connecting to existing Ray cluster at address: 172.17.0.2:6379\n"
     ]
    }
   ],
   "source": [
    "logger = PydarLogger(P=P)"
   ]
  },
  {
   "cell_type": "code",
   "execution_count": 7,
   "id": "863f4da2",
   "metadata": {
    "execution": {
     "iopub.execute_input": "2022-07-05T06:48:12.212131Z",
     "iopub.status.busy": "2022-07-05T06:48:12.211708Z",
     "iopub.status.idle": "2022-07-05T06:48:12.215284Z",
     "shell.execute_reply": "2022-07-05T06:48:12.214647Z"
    },
    "papermill": {
     "duration": 0.009857,
     "end_time": "2022-07-05T06:48:12.216937",
     "exception": false,
     "start_time": "2022-07-05T06:48:12.207080",
     "status": "completed"
    },
    "tags": []
   },
   "outputs": [],
   "source": [
    "from pynb_dag_runner.tasks.task_opentelemetry_logging import (\n",
    "    PydarLogger,\n",
    "    get_logged_values,\n",
    ")\n",
    "from pynb_dag_runner.opentelemetry_helpers import _get_all_spans, Spans"
   ]
  },
  {
   "cell_type": "code",
   "execution_count": 8,
   "id": "2eb89ac9",
   "metadata": {
    "execution": {
     "iopub.execute_input": "2022-07-05T06:48:12.223930Z",
     "iopub.status.busy": "2022-07-05T06:48:12.223700Z",
     "iopub.status.idle": "2022-07-05T06:48:12.233049Z",
     "shell.execute_reply": "2022-07-05T06:48:12.232399Z"
    },
    "papermill": {
     "duration": 0.014583,
     "end_time": "2022-07-05T06:48:12.234559",
     "exception": false,
     "start_time": "2022-07-05T06:48:12.219976",
     "status": "completed"
    },
    "tags": []
   },
   "outputs": [],
   "source": [
    "def get_model_benchmarks():\n",
    "    \"\"\"\n",
    "    Query the OpenTelemetry logs for *this pipeline run* and return\n",
    "    all key-values logged from all runs of the benchmark-model.py task\n",
    "\n",
    "    For testing a json file with OpenTelemetry spans (as an array)\n",
    "    can be used as follows:\n",
    "\n",
    "    - Create output directory `mkdir /tmp/spans`\n",
    "    - Run unit tests. This will create pipeline-outputs/opentelemetry-spans.json\n",
    "    - Convert this json-array into jsonl format as follows\n",
    "\n",
    "    jq -c '.[]' /pipeline-outputs/opentelemetry-spans.json > /tmp/spans/data.txt\n",
    "\n",
    "    \"\"\"\n",
    "    spans: Spans = Spans(_get_all_spans())\n",
    "    print(f\"Found {len(spans)} spans\")\n",
    "\n",
    "    benchmark_spans = (\n",
    "        spans\n",
    "        # -\n",
    "        .filter([\"name\"], \"execute-task\")\n",
    "        # -\n",
    "        .filter([\"attributes\", \"task.notebook\"], \"notebooks/benchmark-model.py\")\n",
    "    )\n",
    "\n",
    "    result = []\n",
    "    for s in benchmark_spans:\n",
    "        result.append(\n",
    "            {\n",
    "                \"span_id\": s[\"context\"][\"span_id\"],\n",
    "                \"nr_train_images\": s[\"attributes\"][\"task.nr_train_images\"],\n",
    "                \"data\": get_logged_values(spans.bound_under(s)),\n",
    "            }\n",
    "        )\n",
    "\n",
    "    return result\n",
    "\n",
    "\n",
    "def adjust_pandas(df):\n",
    "    def column_renamer(col_name: str) -> str:\n",
    "        return (\n",
    "            col_name\n",
    "            # -- 'data.roc_auc_per_digit.4' -> 'roc_auc.4'\n",
    "            .replace(\"data.roc_auc_per_digit\", \"roc_auc\")\n",
    "            # -- 'data.roc_auc_class_mean' -> 'roc_auc_mean'\n",
    "            .replace(\"data.roc_auc_class_mean\", \"roc_auc_mean\")\n",
    "        )\n",
    "\n",
    "    return df.rename(column_renamer, axis=\"columns\").sort_values(by=\"nr_train_images\")"
   ]
  },
  {
   "cell_type": "code",
   "execution_count": 9,
   "id": "14869ab8",
   "metadata": {
    "execution": {
     "iopub.execute_input": "2022-07-05T06:48:12.241760Z",
     "iopub.status.busy": "2022-07-05T06:48:12.241365Z",
     "iopub.status.idle": "2022-07-05T06:48:33.308893Z",
     "shell.execute_reply": "2022-07-05T06:48:33.308100Z"
    },
    "papermill": {
     "duration": 21.073509,
     "end_time": "2022-07-05T06:48:33.310684",
     "exception": false,
     "start_time": "2022-07-05T06:48:12.237175",
     "status": "completed"
    },
    "tags": []
   },
   "outputs": [
    {
     "name": "stdout",
     "output_type": "stream",
     "text": [
      "Found 423 spans\n"
     ]
    }
   ],
   "source": [
    "df_data = adjust_pandas(pd.json_normalize(get_model_benchmarks()))"
   ]
  },
  {
   "cell_type": "code",
   "execution_count": 10,
   "id": "bcd2ed91",
   "metadata": {
    "execution": {
     "iopub.execute_input": "2022-07-05T06:48:33.318325Z",
     "iopub.status.busy": "2022-07-05T06:48:33.317987Z",
     "iopub.status.idle": "2022-07-05T06:48:33.342790Z",
     "shell.execute_reply": "2022-07-05T06:48:33.342062Z"
    },
    "papermill": {
     "duration": 0.031043,
     "end_time": "2022-07-05T06:48:33.344917",
     "exception": false,
     "start_time": "2022-07-05T06:48:33.313874",
     "status": "completed"
    },
    "tags": []
   },
   "outputs": [
    {
     "data": {
      "text/html": [
       "<div>\n",
       "<style scoped>\n",
       "    .dataframe tbody tr th:only-of-type {\n",
       "        vertical-align: middle;\n",
       "    }\n",
       "\n",
       "    .dataframe tbody tr th {\n",
       "        vertical-align: top;\n",
       "    }\n",
       "\n",
       "    .dataframe thead th {\n",
       "        text-align: right;\n",
       "    }\n",
       "</style>\n",
       "<table border=\"1\" class=\"dataframe\">\n",
       "  <thead>\n",
       "    <tr style=\"text-align: right;\">\n",
       "      <th></th>\n",
       "      <th>span_id</th>\n",
       "      <th>nr_train_images</th>\n",
       "      <th>roc_auc_mean</th>\n",
       "      <th>roc_auc.0</th>\n",
       "      <th>roc_auc.1</th>\n",
       "      <th>roc_auc.2</th>\n",
       "      <th>roc_auc.3</th>\n",
       "      <th>roc_auc.4</th>\n",
       "      <th>roc_auc.5</th>\n",
       "      <th>roc_auc.6</th>\n",
       "      <th>roc_auc.7</th>\n",
       "      <th>roc_auc.8</th>\n",
       "      <th>roc_auc.9</th>\n",
       "    </tr>\n",
       "  </thead>\n",
       "  <tbody>\n",
       "    <tr>\n",
       "      <th>3</th>\n",
       "      <td>0x23d54db80cbddcd8</td>\n",
       "      <td>600</td>\n",
       "      <td>0.9990</td>\n",
       "      <td>1.0</td>\n",
       "      <td>0.9993</td>\n",
       "      <td>1.0</td>\n",
       "      <td>0.9999</td>\n",
       "      <td>0.9991</td>\n",
       "      <td>0.9989</td>\n",
       "      <td>0.9999</td>\n",
       "      <td>0.9998</td>\n",
       "      <td>0.9946</td>\n",
       "      <td>0.9988</td>\n",
       "    </tr>\n",
       "    <tr>\n",
       "      <th>0</th>\n",
       "      <td>0x72629fc167b428fc</td>\n",
       "      <td>800</td>\n",
       "      <td>0.9990</td>\n",
       "      <td>1.0</td>\n",
       "      <td>0.9988</td>\n",
       "      <td>1.0</td>\n",
       "      <td>0.9998</td>\n",
       "      <td>0.9995</td>\n",
       "      <td>0.9992</td>\n",
       "      <td>1.0000</td>\n",
       "      <td>0.9999</td>\n",
       "      <td>0.9930</td>\n",
       "      <td>0.9994</td>\n",
       "    </tr>\n",
       "    <tr>\n",
       "      <th>2</th>\n",
       "      <td>0x3a04f53f74f1bedb</td>\n",
       "      <td>1000</td>\n",
       "      <td>0.9992</td>\n",
       "      <td>1.0</td>\n",
       "      <td>0.9990</td>\n",
       "      <td>1.0</td>\n",
       "      <td>0.9999</td>\n",
       "      <td>0.9996</td>\n",
       "      <td>0.9994</td>\n",
       "      <td>0.9999</td>\n",
       "      <td>0.9998</td>\n",
       "      <td>0.9953</td>\n",
       "      <td>0.9996</td>\n",
       "    </tr>\n",
       "    <tr>\n",
       "      <th>1</th>\n",
       "      <td>0x432db142ab1ef570</td>\n",
       "      <td>1200</td>\n",
       "      <td>0.9994</td>\n",
       "      <td>1.0</td>\n",
       "      <td>0.9991</td>\n",
       "      <td>1.0</td>\n",
       "      <td>0.9999</td>\n",
       "      <td>0.9997</td>\n",
       "      <td>0.9997</td>\n",
       "      <td>0.9999</td>\n",
       "      <td>0.9998</td>\n",
       "      <td>0.9957</td>\n",
       "      <td>0.9997</td>\n",
       "    </tr>\n",
       "  </tbody>\n",
       "</table>\n",
       "</div>"
      ],
      "text/plain": [
       "              span_id  nr_train_images  roc_auc_mean  roc_auc.0  roc_auc.1  \\\n",
       "3  0x23d54db80cbddcd8              600        0.9990        1.0     0.9993   \n",
       "0  0x72629fc167b428fc              800        0.9990        1.0     0.9988   \n",
       "2  0x3a04f53f74f1bedb             1000        0.9992        1.0     0.9990   \n",
       "1  0x432db142ab1ef570             1200        0.9994        1.0     0.9991   \n",
       "\n",
       "   roc_auc.2  roc_auc.3  roc_auc.4  roc_auc.5  roc_auc.6  roc_auc.7  \\\n",
       "3        1.0     0.9999     0.9991     0.9989     0.9999     0.9998   \n",
       "0        1.0     0.9998     0.9995     0.9992     1.0000     0.9999   \n",
       "2        1.0     0.9999     0.9996     0.9994     0.9999     0.9998   \n",
       "1        1.0     0.9999     0.9997     0.9997     0.9999     0.9998   \n",
       "\n",
       "   roc_auc.8  roc_auc.9  \n",
       "3     0.9946     0.9988  \n",
       "0     0.9930     0.9994  \n",
       "2     0.9953     0.9996  \n",
       "1     0.9957     0.9997  "
      ]
     },
     "execution_count": 10,
     "metadata": {},
     "output_type": "execute_result"
    }
   ],
   "source": [
    "df_data.round(4)"
   ]
  },
  {
   "cell_type": "code",
   "execution_count": 11,
   "id": "b0d8e21d",
   "metadata": {
    "execution": {
     "iopub.execute_input": "2022-07-05T06:48:33.353647Z",
     "iopub.status.busy": "2022-07-05T06:48:33.353274Z",
     "iopub.status.idle": "2022-07-05T06:48:33.511434Z",
     "shell.execute_reply": "2022-07-05T06:48:33.510783Z"
    },
    "papermill": {
     "duration": 0.16373,
     "end_time": "2022-07-05T06:48:33.513049",
     "exception": false,
     "start_time": "2022-07-05T06:48:33.349319",
     "status": "completed"
    },
    "tags": []
   },
   "outputs": [
    {
     "data": {
      "image/png": "[encoded data removed]",
      "text/plain": [
       "<Figure size 1152x288 with 1 Axes>"
      ]
     },
     "metadata": {
      "needs_background": "light"
     },
     "output_type": "display_data"
    }
   ],
   "source": [
    "def plot_classifier_performance_summary(df_data):\n",
    "    fig, ax = plt.subplots(nrows=1, ncols=1, figsize=(16, 4), sharex=True)\n",
    "\n",
    "    #\n",
    "    ax.plot(\n",
    "        df_data[\"nr_train_images\"], df_data[\"roc_auc_mean\"], marker=\"o\", linestyle=\"--\"\n",
    "    )\n",
    "    ax.set_title(\n",
    "        f\"ROC AUC digit classifier performance on evaluation digits\", fontsize=17\n",
    "    )\n",
    "    ax.set_xlabel(\"Total number of digits in training set\", fontsize=14)\n",
    "    ax.set_ylabel(\"Mean ROC AUC\", fontsize=14)\n",
    "\n",
    "    fig.tight_layout()\n",
    "    fig.show()\n",
    "\n",
    "    return fig\n",
    "\n",
    "\n",
    "fig = plot_classifier_performance_summary(df_data)"
   ]
  },
  {
   "cell_type": "code",
   "execution_count": 12,
   "id": "ee02a39f",
   "metadata": {
    "execution": {
     "iopub.execute_input": "2022-07-05T06:48:33.522030Z",
     "iopub.status.busy": "2022-07-05T06:48:33.521667Z",
     "iopub.status.idle": "2022-07-05T06:48:33.580225Z",
     "shell.execute_reply": "2022-07-05T06:48:33.579491Z"
    },
    "papermill": {
     "duration": 0.064786,
     "end_time": "2022-07-05T06:48:33.582064",
     "exception": false,
     "start_time": "2022-07-05T06:48:33.517278",
     "status": "completed"
    },
    "tags": []
   },
   "outputs": [],
   "source": [
    "logger.log_figure(\"auc-roc-model-performances.png\", fig)"
   ]
  },
  {
   "cell_type": "code",
   "execution_count": 13,
   "id": "d96c5c4a",
   "metadata": {
    "execution": {
     "iopub.execute_input": "2022-07-05T06:48:33.591200Z",
     "iopub.status.busy": "2022-07-05T06:48:33.590569Z",
     "iopub.status.idle": "2022-07-05T06:48:33.594822Z",
     "shell.execute_reply": "2022-07-05T06:48:33.593959Z"
    },
    "papermill": {
     "duration": 0.010504,
     "end_time": "2022-07-05T06:48:33.596466",
     "exception": false,
     "start_time": "2022-07-05T06:48:33.585962",
     "status": "completed"
    },
    "tags": []
   },
   "outputs": [],
   "source": [
    "###"
   ]
  },
  {
   "cell_type": "code",
   "execution_count": null,
   "id": "f8426083",
   "metadata": {
    "papermill": {
     "duration": 0.00373,
     "end_time": "2022-07-05T06:48:33.603970",
     "exception": false,
     "start_time": "2022-07-05T06:48:33.600240",
     "status": "completed"
    },
    "tags": []
   },
   "outputs": [],
   "source": []
  }
 ],
 "metadata": {
  "jupytext": {
   "cell_metadata_filter": "tags,-all",
   "main_language": "python",
   "notebook_metadata_filter": "-all"
  },
  "language_info": {
   "codemirror_mode": {
    "name": "ipython",
    "version": 3
   },
   "file_extension": ".py",
   "mimetype": "text/x-python",
   "name": "python",
   "nbconvert_exporter": "python",
   "pygments_lexer": "ipython3",
   "version": "3.8.10"
  },
  "papermill": {
   "default_parameters": {},
   "duration": 24.799569,
   "end_time": "2022-07-05T06:48:34.527313",
   "environment_variables": {},
   "exception": null,
   "input_path": "/home/host_user/workspace/mnist-demo-pipeline/mnist-demo-pipeline/notebooks/temp-notebook-ltdlwr1e.ipynb",
   "output_path": "notebooks/summary.ipynb",
   "parameters": {
    "P": {
     "_opentelemetry_traceparent": "00-9a9aa49fd83112cc34c27f1dd20c1827-b645c5aeab1a43c4-01",
     "pipeline.data_lake_root": "/pipeline-outputs/data-lake",
     "pipeline.github.actor": "matiasdahl",
     "pipeline.github.base_ref": "",
     "pipeline.github.event_name": "schedule",
     "pipeline.github.head_ref": "",
     "pipeline.github.job": "run-tests-pipeline-and-persist-pipeline-outputs",
     "pipeline.github.ref": "refs/heads/development",
     "pipeline.github.ref_name": "development",
     "pipeline.github.ref_type": "branch",
     "pipeline.github.repository": "pynb-dag-runner/mnist-digits-demo-pipeline",
     "pipeline.github.run_id": "2614272362",
     "pipeline.github.runner_name": "Hosted Agent",
     "pipeline.github.sha": "f934c58f68028b7bb026059d4e87e6d32a1bbd20",
     "pipeline.github.workflow": "Run automated tests, pipeline and deploy results to static reporting site",
     "pipeline.pipeline_run_id": "a1ba953f-9537-457d-9a41-ae0713378d2d",
     "pipeline.run_environment": "ci",
     "run.retry_nr": "0",
     "task.max_nr_retries": "1",
     "task.notebook": "notebooks/summary.py",
     "task.num_cpus": 1,
     "task.timeout_s": "None"
    }
   },
   "start_time": "2022-07-05T06:48:09.727744",
   "version": "2.3.3"
  }
 },
 "nbformat": 4,
 "nbformat_minor": 5
}