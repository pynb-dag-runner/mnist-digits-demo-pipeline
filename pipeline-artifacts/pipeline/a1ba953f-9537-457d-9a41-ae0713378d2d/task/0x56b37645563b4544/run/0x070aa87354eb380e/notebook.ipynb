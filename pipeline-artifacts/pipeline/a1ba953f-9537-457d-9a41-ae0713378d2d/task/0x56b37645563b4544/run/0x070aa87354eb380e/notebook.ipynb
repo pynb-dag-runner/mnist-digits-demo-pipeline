{
 "cells": [
  {
   "cell_type": "markdown",
   "id": "22fded6a",
   "metadata": {
    "papermill": {
     "duration": 0.003818,
     "end_time": "2022-07-05T06:47:37.578540",
     "exception": false,
     "start_time": "2022-07-05T06:47:37.574722",
     "status": "completed"
    },
    "tags": []
   },
   "source": [
    "# Train model\n",
    "\n",
    "The purpose of this notebook is:\n",
    "\n",
    "- Load all training data (images and labels).\n",
    "- Limit number of train images to `task.nr_train_images` (value provided as run parameter).\n",
    "- Train a support vector machine model using sklearn.\n",
    "- Persist the trained model using the ONNX format."
   ]
  },
  {
   "cell_type": "markdown",
   "id": "95bf85ac",
   "metadata": {
    "papermill": {
     "duration": 0.002771,
     "end_time": "2022-07-05T06:47:37.584324",
     "exception": false,
     "start_time": "2022-07-05T06:47:37.581553",
     "status": "completed"
    },
    "tags": []
   },
   "source": [
    "### Determine run parameters"
   ]
  },
  {
   "cell_type": "code",
   "execution_count": 1,
   "id": "2a773595",
   "metadata": {
    "execution": {
     "iopub.execute_input": "2022-07-05T06:47:37.591203Z",
     "iopub.status.busy": "2022-07-05T06:47:37.590884Z",
     "iopub.status.idle": "2022-07-05T06:47:37.598676Z",
     "shell.execute_reply": "2022-07-05T06:47:37.598123Z"
    },
    "lines_to_next_cell": 0,
    "papermill": {
     "duration": 0.013272,
     "end_time": "2022-07-05T06:47:37.600368",
     "exception": false,
     "start_time": "2022-07-05T06:47:37.587096",
     "status": "completed"
    },
    "tags": []
   },
   "outputs": [],
   "source": [
    "# ----------------- Parameters for interactive development --------------\n",
    "P = {\n",
    "    \"pipeline.data_lake_root\": \"/pipeline-outputs/data-lake\",\n",
    "    \"task.nr_train_images\": 600,\n",
    "}"
   ]
  },
  {
   "cell_type": "code",
   "execution_count": 2,
   "id": "874bf681",
   "metadata": {
    "execution": {
     "iopub.execute_input": "2022-07-05T06:47:37.606588Z",
     "iopub.status.busy": "2022-07-05T06:47:37.606372Z",
     "iopub.status.idle": "2022-07-05T06:47:37.609152Z",
     "shell.execute_reply": "2022-07-05T06:47:37.608620Z"
    },
    "lines_to_next_cell": 0,
    "papermill": {
     "duration": 0.008384,
     "end_time": "2022-07-05T06:47:37.611399",
     "exception": false,
     "start_time": "2022-07-05T06:47:37.603015",
     "status": "completed"
    },
    "tags": [
     "parameters"
    ]
   },
   "outputs": [],
   "source": [
    "# - During automated runs parameters will be injected in the below cell -"
   ]
  },
  {
   "cell_type": "code",
   "execution_count": 3,
   "id": "d51de37e",
   "metadata": {
    "execution": {
     "iopub.execute_input": "2022-07-05T06:47:37.618177Z",
     "iopub.status.busy": "2022-07-05T06:47:37.617955Z",
     "iopub.status.idle": "2022-07-05T06:47:37.622255Z",
     "shell.execute_reply": "2022-07-05T06:47:37.621733Z"
    },
    "papermill": {
     "duration": 0.01017,
     "end_time": "2022-07-05T06:47:37.624515",
     "exception": false,
     "start_time": "2022-07-05T06:47:37.614345",
     "status": "completed"
    },
    "tags": [
     "injected-parameters"
    ]
   },
   "outputs": [],
   "source": [
    "# Parameters\n",
    "P = {\n",
    "    \"pipeline.data_lake_root\": \"/pipeline-outputs/data-lake\",\n",
    "    \"pipeline.run_environment\": \"ci\",\n",
    "    \"pipeline.pipeline_run_id\": \"a1ba953f-9537-457d-9a41-ae0713378d2d\",\n",
    "    \"pipeline.github.repository\": \"pynb-dag-runner/mnist-digits-demo-pipeline\",\n",
    "    \"pipeline.github.workflow\": \"Run automated tests, pipeline and deploy results to static reporting site\",\n",
    "    \"pipeline.github.runner_name\": \"Hosted Agent\",\n",
    "    \"pipeline.github.run_id\": \"2614272362\",\n",
    "    \"pipeline.github.actor\": \"matiasdahl\",\n",
    "    \"pipeline.github.job\": \"run-tests-pipeline-and-persist-pipeline-outputs\",\n",
    "    \"pipeline.github.base_ref\": \"\",\n",
    "    \"pipeline.github.head_ref\": \"\",\n",
    "    \"pipeline.github.sha\": \"f934c58f68028b7bb026059d4e87e6d32a1bbd20\",\n",
    "    \"pipeline.github.ref\": \"refs/heads/development\",\n",
    "    \"pipeline.github.ref_type\": \"branch\",\n",
    "    \"pipeline.github.ref_name\": \"development\",\n",
    "    \"pipeline.github.event_name\": \"schedule\",\n",
    "    \"task.nr_train_images\": 600,\n",
    "    \"task.notebook\": \"notebooks/train-model.py\",\n",
    "    \"task.max_nr_retries\": \"1\",\n",
    "    \"run.retry_nr\": \"0\",\n",
    "    \"task.timeout_s\": \"None\",\n",
    "    \"task.num_cpus\": 1,\n",
    "    \"_opentelemetry_traceparent\": \"00-9a9aa49fd83112cc34c27f1dd20c1827-3810c7fdb98f10b3-01\",\n",
    "}\n"
   ]
  },
  {
   "cell_type": "code",
   "execution_count": 4,
   "id": "5fd4821c",
   "metadata": {
    "execution": {
     "iopub.execute_input": "2022-07-05T06:47:37.631045Z",
     "iopub.status.busy": "2022-07-05T06:47:37.630838Z",
     "iopub.status.idle": "2022-07-05T06:47:37.633433Z",
     "shell.execute_reply": "2022-07-05T06:47:37.632921Z"
    },
    "lines_to_next_cell": 0,
    "papermill": {
     "duration": 0.008519,
     "end_time": "2022-07-05T06:47:37.635751",
     "exception": false,
     "start_time": "2022-07-05T06:47:37.627232",
     "status": "completed"
    },
    "tags": []
   },
   "outputs": [],
   "source": [
    "# -----------------------------------------------------------------------"
   ]
  },
  {
   "cell_type": "markdown",
   "id": "27abc0f6",
   "metadata": {
    "papermill": {
     "duration": 0.002671,
     "end_time": "2022-07-05T06:47:37.641303",
     "exception": false,
     "start_time": "2022-07-05T06:47:37.638632",
     "status": "completed"
    },
    "tags": []
   },
   "source": [
    "---"
   ]
  },
  {
   "cell_type": "markdown",
   "id": "3c37b413",
   "metadata": {
    "lines_to_next_cell": 2,
    "papermill": {
     "duration": 0.002656,
     "end_time": "2022-07-05T06:47:37.646607",
     "exception": false,
     "start_time": "2022-07-05T06:47:37.643951",
     "status": "completed"
    },
    "tags": []
   },
   "source": [
    "### Notebook code"
   ]
  },
  {
   "cell_type": "code",
   "execution_count": 5,
   "id": "33c820dd",
   "metadata": {
    "execution": {
     "iopub.execute_input": "2022-07-05T06:47:37.653169Z",
     "iopub.status.busy": "2022-07-05T06:47:37.652951Z",
     "iopub.status.idle": "2022-07-05T06:47:38.111575Z",
     "shell.execute_reply": "2022-07-05T06:47:38.110929Z"
    },
    "papermill": {
     "duration": 0.463864,
     "end_time": "2022-07-05T06:47:38.113376",
     "exception": false,
     "start_time": "2022-07-05T06:47:37.649512",
     "status": "completed"
    },
    "tags": []
   },
   "outputs": [
    {
     "name": "stderr",
     "output_type": "stream",
     "text": [
      "2022-07-05 06:47:37,952\tINFO worker.py:842 -- Connecting to existing Ray cluster at address: 172.17.0.2:6379\n"
     ]
    }
   ],
   "source": [
    "from pynb_dag_runner.tasks.task_opentelemetry_logging import PydarLogger\n",
    "\n",
    "logger = PydarLogger(P)"
   ]
  },
  {
   "cell_type": "markdown",
   "id": "eb4bca85",
   "metadata": {
    "papermill": {
     "duration": 0.00289,
     "end_time": "2022-07-05T06:47:38.119691",
     "exception": false,
     "start_time": "2022-07-05T06:47:38.116801",
     "status": "completed"
    },
    "tags": []
   },
   "source": [
    "## Load and limit train data"
   ]
  },
  {
   "cell_type": "code",
   "execution_count": 6,
   "id": "eb9e3564",
   "metadata": {
    "execution": {
     "iopub.execute_input": "2022-07-05T06:47:38.128275Z",
     "iopub.status.busy": "2022-07-05T06:47:38.127813Z",
     "iopub.status.idle": "2022-07-05T06:47:38.512516Z",
     "shell.execute_reply": "2022-07-05T06:47:38.511940Z"
    },
    "papermill": {
     "duration": 0.391075,
     "end_time": "2022-07-05T06:47:38.514236",
     "exception": false,
     "start_time": "2022-07-05T06:47:38.123161",
     "status": "completed"
    },
    "tags": []
   },
   "outputs": [],
   "source": [
    "def load_and_limit_train_data(P):\n",
    "    from common.io import datalake_root, read_numpy\n",
    "    from sklearn.model_selection import train_test_split\n",
    "\n",
    "    X_train_all = read_numpy(datalake_root(P) / \"train-data\" / \"digits.numpy\")\n",
    "    y_train_all = read_numpy(datalake_root(P) / \"train-data\" / \"labels.numpy\")\n",
    "\n",
    "    assert isinstance(P[\"task.nr_train_images\"], int)\n",
    "\n",
    "    # Note: train_test_split will fail if split is 0 or 100%.\n",
    "    assert 0 < P[\"task.nr_train_images\"] < len(y_train_all)\n",
    "\n",
    "    X_train, _, y_train, _ = train_test_split(\n",
    "        X_train_all,\n",
    "        y_train_all,\n",
    "        train_size=P[\"task.nr_train_images\"],\n",
    "        test_size=None,\n",
    "        stratify=y_train_all,\n",
    "        shuffle=True,\n",
    "        random_state=123,\n",
    "    )\n",
    "\n",
    "    assert X_train.shape == (len(y_train), 8 * 8)\n",
    "    return X_train, y_train\n",
    "\n",
    "\n",
    "X_train, y_train = load_and_limit_train_data(P)"
   ]
  },
  {
   "cell_type": "markdown",
   "id": "ed1b8d41",
   "metadata": {
    "papermill": {
     "duration": 0.003255,
     "end_time": "2022-07-05T06:47:38.521861",
     "exception": false,
     "start_time": "2022-07-05T06:47:38.518606",
     "status": "completed"
    },
    "tags": []
   },
   "source": [
    "## Train support vector classifier model\n",
    "\n",
    "Below we assume that the hyperparameter $C$ is known.\n",
    "\n",
    "However, this should ideally be found by a hyperparameter search. That could be\n",
    "done in parallel on the Ray cluster, but this needs some more work. Ie., to use\n",
    "multiple cores in the notebook, those cores should be reserved when starting the\n",
    "notebook task (TODO).\n",
    "\n",
    "- https://docs.ray.io/en/latest/tune/key-concepts.html\n",
    "\n",
    "Note: cv-scores would need to be computed here, since they depend on the train data.\n",
    "After this notebook only the onnx-model is available."
   ]
  },
  {
   "cell_type": "code",
   "execution_count": 7,
   "id": "5b54beda",
   "metadata": {
    "execution": {
     "iopub.execute_input": "2022-07-05T06:47:38.531958Z",
     "iopub.status.busy": "2022-07-05T06:47:38.531683Z",
     "iopub.status.idle": "2022-07-05T06:47:38.557990Z",
     "shell.execute_reply": "2022-07-05T06:47:38.557133Z"
    },
    "papermill": {
     "duration": 0.033581,
     "end_time": "2022-07-05T06:47:38.559775",
     "exception": false,
     "start_time": "2022-07-05T06:47:38.526194",
     "status": "completed"
    },
    "tags": []
   },
   "outputs": [],
   "source": [
    "from sklearn.svm import SVC"
   ]
  },
  {
   "cell_type": "code",
   "execution_count": 8,
   "id": "b07c6350",
   "metadata": {
    "execution": {
     "iopub.execute_input": "2022-07-05T06:47:38.568894Z",
     "iopub.status.busy": "2022-07-05T06:47:38.568431Z",
     "iopub.status.idle": "2022-07-05T06:47:38.662618Z",
     "shell.execute_reply": "2022-07-05T06:47:38.661859Z"
    },
    "papermill": {
     "duration": 0.101339,
     "end_time": "2022-07-05T06:47:38.664623",
     "exception": false,
     "start_time": "2022-07-05T06:47:38.563284",
     "status": "completed"
    },
    "tags": []
   },
   "outputs": [
    {
     "data": {
      "text/plain": [
       "SVC(C=0.001, kernel='linear', probability=True)"
      ]
     },
     "execution_count": 8,
     "metadata": {},
     "output_type": "execute_result"
    }
   ],
   "source": [
    "model = SVC(C=0.001, kernel=\"linear\", probability=True)\n",
    "\n",
    "model.fit(X_train, y_train)"
   ]
  },
  {
   "cell_type": "markdown",
   "id": "c7eaa3eb",
   "metadata": {
    "papermill": {
     "duration": 0.003569,
     "end_time": "2022-07-05T06:47:38.672306",
     "exception": false,
     "start_time": "2022-07-05T06:47:38.668737",
     "status": "completed"
    },
    "tags": []
   },
   "source": [
    "### Q: Can the labels returned by `predict(..)` be computed from probabilities returned by the `predict_prob`-method?"
   ]
  },
  {
   "cell_type": "code",
   "execution_count": 9,
   "id": "43b141d8",
   "metadata": {
    "execution": {
     "iopub.execute_input": "2022-07-05T06:47:38.679825Z",
     "iopub.status.busy": "2022-07-05T06:47:38.679586Z",
     "iopub.status.idle": "2022-07-05T06:47:38.720605Z",
     "shell.execute_reply": "2022-07-05T06:47:38.719911Z"
    },
    "papermill": {
     "duration": 0.047136,
     "end_time": "2022-07-05T06:47:38.722299",
     "exception": false,
     "start_time": "2022-07-05T06:47:38.675163",
     "status": "completed"
    },
    "tags": []
   },
   "outputs": [
    {
     "name": "stdout",
     "output_type": "stream",
     "text": [
      " - Logging nr_max_prob_neq_label (int) : 2\n"
     ]
    }
   ],
   "source": [
    "import numpy as np\n",
    "\n",
    "y_train_labels = model.predict(X_train)\n",
    "y_train_probabilities = model.predict_proba(X_train)\n",
    "assert y_train_probabilities.shape == (len(y_train), 10)\n",
    "\n",
    "y_train_max_prob_labels = np.argmax(y_train_probabilities, axis=1)\n",
    "assert y_train_labels.shape == y_train_max_prob_labels.shape == y_train.shape\n",
    "\n",
    "# If the predicted labels would coincide with the labels that have\n",
    "# maximum probability, the below number would be zero\n",
    "logger.log_int(\n",
    "    \"nr_max_prob_neq_label\", int(sum(y_train_max_prob_labels != y_train_labels))\n",
    ")"
   ]
  },
  {
   "cell_type": "markdown",
   "id": "cfa8563a",
   "metadata": {
    "papermill": {
     "duration": 0.004062,
     "end_time": "2022-07-05T06:47:38.729715",
     "exception": false,
     "start_time": "2022-07-05T06:47:38.725653",
     "status": "completed"
    },
    "tags": []
   },
   "source": [
    "The explanation is (likely) explained in the SVC source, see\n",
    "[here](https://github.com/scikit-learn/scikit-learn/blob/main/sklearn/svm/_base.py).\n",
    "Namely, the outputs from `predict(..)` and `predict_proba(..)` may not in some\n",
    "cases be compatible since the latter is computed using cross-validation while\n",
    "the former is not. Thus, the above number need not be zero."
   ]
  },
  {
   "cell_type": "markdown",
   "id": "821caa63",
   "metadata": {
    "papermill": {
     "duration": 0.003805,
     "end_time": "2022-07-05T06:47:38.736493",
     "exception": false,
     "start_time": "2022-07-05T06:47:38.732688",
     "status": "completed"
    },
    "tags": []
   },
   "source": [
    "## Persist model"
   ]
  },
  {
   "cell_type": "code",
   "execution_count": 10,
   "id": "213d730b",
   "metadata": {
    "execution": {
     "iopub.execute_input": "2022-07-05T06:47:38.744202Z",
     "iopub.status.busy": "2022-07-05T06:47:38.743941Z",
     "iopub.status.idle": "2022-07-05T06:47:39.512447Z",
     "shell.execute_reply": "2022-07-05T06:47:39.511692Z"
    },
    "papermill": {
     "duration": 0.774503,
     "end_time": "2022-07-05T06:47:39.514565",
     "exception": false,
     "start_time": "2022-07-05T06:47:38.740062",
     "status": "completed"
    },
    "tags": []
   },
   "outputs": [],
   "source": [
    "from skl2onnx import convert_sklearn\n",
    "from skl2onnx.common.data_types import FloatTensorType\n",
    "\n",
    "#\n",
    "from common.io import datalake_root, write_onnx"
   ]
  },
  {
   "cell_type": "code",
   "execution_count": 11,
   "id": "810356f7",
   "metadata": {
    "execution": {
     "iopub.execute_input": "2022-07-05T06:47:39.523769Z",
     "iopub.status.busy": "2022-07-05T06:47:39.523276Z",
     "iopub.status.idle": "2022-07-05T06:47:39.569220Z",
     "shell.execute_reply": "2022-07-05T06:47:39.568452Z"
    },
    "papermill": {
     "duration": 0.052895,
     "end_time": "2022-07-05T06:47:39.571702",
     "exception": false,
     "start_time": "2022-07-05T06:47:39.518807",
     "status": "completed"
    },
    "tags": []
   },
   "outputs": [],
   "source": [
    "# convert sklearn model into onnx and persist to data lake\n",
    "\n",
    "model_onnx = convert_sklearn(\n",
    "    model, initial_types=[(\"float_input_8x8_image\", FloatTensorType([None, 8 * 8]))]\n",
    ")\n",
    "write_onnx(\n",
    "    datalake_root(P)\n",
    "    / \"models\"\n",
    "    / f\"nr_train_images={P['task.nr_train_images']}\"\n",
    "    / \"model.onnx\",\n",
    "    model_onnx,\n",
    ")"
   ]
  },
  {
   "cell_type": "code",
   "execution_count": null,
   "id": "ad2f44a2",
   "metadata": {
    "papermill": {
     "duration": 0.003367,
     "end_time": "2022-07-05T06:47:39.578779",
     "exception": false,
     "start_time": "2022-07-05T06:47:39.575412",
     "status": "completed"
    },
    "tags": []
   },
   "outputs": [],
   "source": []
  }
 ],
 "metadata": {
  "jupytext": {
   "cell_metadata_filter": "tags,-all",
   "main_language": "python",
   "notebook_metadata_filter": "-all"
  },
  "language_info": {
   "codemirror_mode": {
    "name": "ipython",
    "version": 3
   },
   "file_extension": ".py",
   "mimetype": "text/x-python",
   "name": "python",
   "nbconvert_exporter": "python",
   "pygments_lexer": "ipython3",
   "version": "3.8.10"
  },
  "papermill": {
   "default_parameters": {},
   "duration": 4.407282,
   "end_time": "2022-07-05T06:47:40.701957",
   "environment_variables": {},
   "exception": null,
   "input_path": "/home/host_user/workspace/mnist-demo-pipeline/mnist-demo-pipeline/notebooks/temp-notebook-7hvlxtxe.ipynb",
   "output_path": "notebooks/train-model.ipynb",
   "parameters": {
    "P": {
     "_opentelemetry_traceparent": "00-9a9aa49fd83112cc34c27f1dd20c1827-3810c7fdb98f10b3-01",
     "pipeline.data_lake_root": "/pipeline-outputs/data-lake",
     "pipeline.github.actor": "matiasdahl",
     "pipeline.github.base_ref": "",
     "pipeline.github.event_name": "schedule",
     "pipeline.github.head_ref": "",
     "pipeline.github.job": "run-tests-pipeline-and-persist-pipeline-outputs",
     "pipeline.github.ref": "refs/heads/development",
     "pipeline.github.ref_name": "development",
     "pipeline.github.ref_type": "branch",
     "pipeline.github.repository": "pynb-dag-runner/mnist-digits-demo-pipeline",
     "pipeline.github.run_id": "2614272362",
     "pipeline.github.runner_name": "Hosted Agent",
     "pipeline.github.sha": "f934c58f68028b7bb026059d4e87e6d32a1bbd20",
     "pipeline.github.workflow": "Run automated tests, pipeline and deploy results to static reporting site",
     "pipeline.pipeline_run_id": "a1ba953f-9537-457d-9a41-ae0713378d2d",
     "pipeline.run_environment": "ci",
     "run.retry_nr": "0",
     "task.max_nr_retries": "1",
     "task.notebook": "notebooks/train-model.py",
     "task.nr_train_images": 600,
     "task.num_cpus": 1,
     "task.timeout_s": "None"
    }
   },
   "start_time": "2022-07-05T06:47:36.294675",
   "version": "2.3.3"
  }
 },
 "nbformat": 4,
 "nbformat_minor": 5
}