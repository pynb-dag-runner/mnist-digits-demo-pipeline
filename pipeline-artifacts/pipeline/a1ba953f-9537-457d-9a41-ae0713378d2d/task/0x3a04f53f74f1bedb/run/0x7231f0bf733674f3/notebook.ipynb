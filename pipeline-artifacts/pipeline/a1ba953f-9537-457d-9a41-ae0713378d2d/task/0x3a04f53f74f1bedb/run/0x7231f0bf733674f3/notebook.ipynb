{
 "cells": [
  {
   "cell_type": "markdown",
   "id": "8a50d7f5",
   "metadata": {
    "papermill": {
     "duration": 0.005246,
     "end_time": "2022-07-05T06:48:00.537271",
     "exception": false,
     "start_time": "2022-07-05T06:48:00.532025",
     "status": "completed"
    },
    "tags": []
   },
   "source": [
    "# Benchmark model\n",
    "\n",
    "The purpose of this notebook is to benchmark persisted onnx-model (trained in the\n",
    "previous step) against evaluation set."
   ]
  },
  {
   "cell_type": "markdown",
   "id": "06db96e7",
   "metadata": {
    "papermill": {
     "duration": 0.004048,
     "end_time": "2022-07-05T06:48:00.545974",
     "exception": false,
     "start_time": "2022-07-05T06:48:00.541926",
     "status": "completed"
    },
    "tags": []
   },
   "source": [
    "### Determine run parameters"
   ]
  },
  {
   "cell_type": "code",
   "execution_count": 1,
   "id": "d3793498",
   "metadata": {
    "execution": {
     "iopub.execute_input": "2022-07-05T06:48:00.555051Z",
     "iopub.status.busy": "2022-07-05T06:48:00.554725Z",
     "iopub.status.idle": "2022-07-05T06:48:00.562296Z",
     "shell.execute_reply": "2022-07-05T06:48:00.561543Z"
    },
    "lines_to_next_cell": 0,
    "papermill": {
     "duration": 0.015737,
     "end_time": "2022-07-05T06:48:00.565271",
     "exception": false,
     "start_time": "2022-07-05T06:48:00.549534",
     "status": "completed"
    },
    "tags": []
   },
   "outputs": [],
   "source": [
    "# ----------------- Parameters for interactive development --------------\n",
    "P = {\n",
    "    \"pipeline.data_lake_root\": \"/pipeline-outputs/data-lake\",\n",
    "    \"task.nr_train_images\": 600,\n",
    "}"
   ]
  },
  {
   "cell_type": "code",
   "execution_count": 2,
   "id": "6da94691",
   "metadata": {
    "execution": {
     "iopub.execute_input": "2022-07-05T06:48:00.574465Z",
     "iopub.status.busy": "2022-07-05T06:48:00.574201Z",
     "iopub.status.idle": "2022-07-05T06:48:00.577088Z",
     "shell.execute_reply": "2022-07-05T06:48:00.576565Z"
    },
    "lines_to_next_cell": 0,
    "papermill": {
     "duration": 0.010471,
     "end_time": "2022-07-05T06:48:00.579933",
     "exception": false,
     "start_time": "2022-07-05T06:48:00.569462",
     "status": "completed"
    },
    "tags": [
     "parameters"
    ]
   },
   "outputs": [],
   "source": [
    "# - During automated runs parameters will be injected in the below cell -"
   ]
  },
  {
   "cell_type": "code",
   "execution_count": 3,
   "id": "9d3e1e7d",
   "metadata": {
    "execution": {
     "iopub.execute_input": "2022-07-05T06:48:00.588743Z",
     "iopub.status.busy": "2022-07-05T06:48:00.588510Z",
     "iopub.status.idle": "2022-07-05T06:48:00.593144Z",
     "shell.execute_reply": "2022-07-05T06:48:00.592653Z"
    },
    "papermill": {
     "duration": 0.011441,
     "end_time": "2022-07-05T06:48:00.595455",
     "exception": false,
     "start_time": "2022-07-05T06:48:00.584014",
     "status": "completed"
    },
    "tags": [
     "injected-parameters"
    ]
   },
   "outputs": [],
   "source": [
    "# Parameters\n",
    "P = {\n",
    "    \"pipeline.data_lake_root\": \"/pipeline-outputs/data-lake\",\n",
    "    \"pipeline.run_environment\": \"ci\",\n",
    "    \"pipeline.pipeline_run_id\": \"a1ba953f-9537-457d-9a41-ae0713378d2d\",\n",
    "    \"pipeline.github.repository\": \"pynb-dag-runner/mnist-digits-demo-pipeline\",\n",
    "    \"pipeline.github.workflow\": \"Run automated tests, pipeline and deploy results to static reporting site\",\n",
    "    \"pipeline.github.runner_name\": \"Hosted Agent\",\n",
    "    \"pipeline.github.run_id\": \"2614272362\",\n",
    "    \"pipeline.github.actor\": \"matiasdahl\",\n",
    "    \"pipeline.github.job\": \"run-tests-pipeline-and-persist-pipeline-outputs\",\n",
    "    \"pipeline.github.base_ref\": \"\",\n",
    "    \"pipeline.github.head_ref\": \"\",\n",
    "    \"pipeline.github.sha\": \"f934c58f68028b7bb026059d4e87e6d32a1bbd20\",\n",
    "    \"pipeline.github.ref\": \"refs/heads/development\",\n",
    "    \"pipeline.github.ref_type\": \"branch\",\n",
    "    \"pipeline.github.ref_name\": \"development\",\n",
    "    \"pipeline.github.event_name\": \"schedule\",\n",
    "    \"task.nr_train_images\": 1000,\n",
    "    \"task.notebook\": \"notebooks/benchmark-model.py\",\n",
    "    \"task.max_nr_retries\": \"1\",\n",
    "    \"run.retry_nr\": \"0\",\n",
    "    \"task.timeout_s\": \"None\",\n",
    "    \"task.num_cpus\": 1,\n",
    "    \"_opentelemetry_traceparent\": \"00-9a9aa49fd83112cc34c27f1dd20c1827-058303ae135a8cb7-01\",\n",
    "}\n"
   ]
  },
  {
   "cell_type": "code",
   "execution_count": 4,
   "id": "64b808f6",
   "metadata": {
    "execution": {
     "iopub.execute_input": "2022-07-05T06:48:00.604336Z",
     "iopub.status.busy": "2022-07-05T06:48:00.604132Z",
     "iopub.status.idle": "2022-07-05T06:48:00.606817Z",
     "shell.execute_reply": "2022-07-05T06:48:00.606278Z"
    },
    "lines_to_next_cell": 0,
    "papermill": {
     "duration": 0.009791,
     "end_time": "2022-07-05T06:48:00.609008",
     "exception": false,
     "start_time": "2022-07-05T06:48:00.599217",
     "status": "completed"
    },
    "tags": []
   },
   "outputs": [],
   "source": [
    "# -----------------------------------------------------------------------"
   ]
  },
  {
   "cell_type": "markdown",
   "id": "475bc988",
   "metadata": {
    "papermill": {
     "duration": 0.004931,
     "end_time": "2022-07-05T06:48:00.618125",
     "exception": false,
     "start_time": "2022-07-05T06:48:00.613194",
     "status": "completed"
    },
    "tags": []
   },
   "source": [
    "---"
   ]
  },
  {
   "cell_type": "markdown",
   "id": "721e7eb3",
   "metadata": {
    "lines_to_next_cell": 2,
    "papermill": {
     "duration": 0.004068,
     "end_time": "2022-07-05T06:48:00.626110",
     "exception": false,
     "start_time": "2022-07-05T06:48:00.622042",
     "status": "completed"
    },
    "tags": []
   },
   "source": [
    "### Notebook code"
   ]
  },
  {
   "cell_type": "code",
   "execution_count": 5,
   "id": "bf48703a",
   "metadata": {
    "execution": {
     "iopub.execute_input": "2022-07-05T06:48:00.636801Z",
     "iopub.status.busy": "2022-07-05T06:48:00.636547Z",
     "iopub.status.idle": "2022-07-05T06:48:01.790735Z",
     "shell.execute_reply": "2022-07-05T06:48:01.790048Z"
    },
    "papermill": {
     "duration": 1.162121,
     "end_time": "2022-07-05T06:48:01.792785",
     "exception": false,
     "start_time": "2022-07-05T06:48:00.630664",
     "status": "completed"
    },
    "tags": []
   },
   "outputs": [
    {
     "name": "stderr",
     "output_type": "stream",
     "text": [
      "2022-07-05 06:48:01,617\tINFO worker.py:842 -- Connecting to existing Ray cluster at address: 172.17.0.2:6379\n"
     ]
    }
   ],
   "source": [
    "import itertools as it\n",
    "\n",
    "#\n",
    "import numpy as np\n",
    "import matplotlib.pyplot as plt\n",
    "\n",
    "#\n",
    "from pynb_dag_runner.tasks.task_opentelemetry_logging import PydarLogger\n",
    "\n",
    "#\n",
    "from common.io import datalake_root\n",
    "\n",
    "logger = PydarLogger(P)"
   ]
  },
  {
   "cell_type": "markdown",
   "id": "b7bc1021",
   "metadata": {
    "papermill": {
     "duration": 0.004071,
     "end_time": "2022-07-05T06:48:01.801096",
     "exception": false,
     "start_time": "2022-07-05T06:48:01.797025",
     "status": "completed"
    },
    "tags": []
   },
   "source": [
    "## Load persisted onnx-model and evaluation data"
   ]
  },
  {
   "cell_type": "code",
   "execution_count": 6,
   "id": "1c5ec48b",
   "metadata": {
    "execution": {
     "iopub.execute_input": "2022-07-05T06:48:01.810978Z",
     "iopub.status.busy": "2022-07-05T06:48:01.810127Z",
     "iopub.status.idle": "2022-07-05T06:48:01.813832Z",
     "shell.execute_reply": "2022-07-05T06:48:01.813277Z"
    },
    "papermill": {
     "duration": 0.01108,
     "end_time": "2022-07-05T06:48:01.816084",
     "exception": false,
     "start_time": "2022-07-05T06:48:01.805004",
     "status": "completed"
    },
    "tags": []
   },
   "outputs": [],
   "source": [
    "from common.io import read_onnx, get_onnx_inputs, get_onnx_outputs, read_numpy"
   ]
  },
  {
   "cell_type": "code",
   "execution_count": 7,
   "id": "2a1afed0",
   "metadata": {
    "execution": {
     "iopub.execute_input": "2022-07-05T06:48:01.825172Z",
     "iopub.status.busy": "2022-07-05T06:48:01.824945Z",
     "iopub.status.idle": "2022-07-05T06:48:01.835408Z",
     "shell.execute_reply": "2022-07-05T06:48:01.834899Z"
    },
    "lines_to_next_cell": 0,
    "papermill": {
     "duration": 0.017041,
     "end_time": "2022-07-05T06:48:01.837113",
     "exception": false,
     "start_time": "2022-07-05T06:48:01.820072",
     "status": "completed"
    },
    "tags": []
   },
   "outputs": [],
   "source": [
    "onnx_inference_session = read_onnx(\n",
    "    datalake_root(P)\n",
    "    / \"models\"\n",
    "    / f\"nr_train_images={P['task.nr_train_images']}\"\n",
    "    / \"model.onnx\"\n",
    ")"
   ]
  },
  {
   "cell_type": "markdown",
   "id": "1fc5f480",
   "metadata": {
    "papermill": {
     "duration": 0.004209,
     "end_time": "2022-07-05T06:48:01.845213",
     "exception": false,
     "start_time": "2022-07-05T06:48:01.841004",
     "status": "completed"
    },
    "tags": []
   },
   "source": [
    "### Record structure of inputs and outputs for ONNX model\n",
    "\n",
    "(this should likely be done in training notebook)"
   ]
  },
  {
   "cell_type": "code",
   "execution_count": 8,
   "id": "ec8ca9ba",
   "metadata": {
    "execution": {
     "iopub.execute_input": "2022-07-05T06:48:01.854536Z",
     "iopub.status.busy": "2022-07-05T06:48:01.854264Z",
     "iopub.status.idle": "2022-07-05T06:48:01.860373Z",
     "shell.execute_reply": "2022-07-05T06:48:01.859834Z"
    },
    "papermill": {
     "duration": 0.015164,
     "end_time": "2022-07-05T06:48:01.864452",
     "exception": false,
     "start_time": "2022-07-05T06:48:01.849288",
     "status": "completed"
    },
    "tags": []
   },
   "outputs": [
    {
     "name": "stdout",
     "output_type": "stream",
     "text": [
      "{\n",
      "  \"inputs\": [\n",
      "    {\n",
      "      \"name\": \"float_input_8x8_image\",\n",
      "      \"shape\": [\n",
      "        null,\n",
      "        64\n",
      "      ],\n",
      "      \"type\": \"tensor(float)\"\n",
      "    }\n",
      "  ],\n",
      "  \"outputs\": [\n",
      "    {\n",
      "      \"name\": \"output_label\",\n",
      "      \"shape\": [\n",
      "        null\n",
      "      ],\n",
      "      \"type\": \"tensor(int64)\"\n",
      "    },\n",
      "    {\n",
      "      \"name\": \"output_probability\",\n",
      "      \"shape\": [],\n",
      "      \"type\": \"seq(map(int64,tensor(float)))\"\n",
      "    }\n",
      "  ]\n",
      "}\n"
     ]
    }
   ],
   "source": [
    "import json\n",
    "\n",
    "onnx_io = json.dumps(\n",
    "    {\n",
    "        \"inputs\": get_onnx_inputs(onnx_inference_session),\n",
    "        \"outputs\": get_onnx_outputs(onnx_inference_session),\n",
    "    },\n",
    "    indent=2,\n",
    ")\n",
    "\n",
    "\n",
    "logger.log_artefact(\"onnx_io_structure.json\", onnx_io)\n",
    "print(onnx_io)"
   ]
  },
  {
   "cell_type": "markdown",
   "id": "bd5b8da7",
   "metadata": {
    "papermill": {
     "duration": 0.004263,
     "end_time": "2022-07-05T06:48:01.872735",
     "exception": false,
     "start_time": "2022-07-05T06:48:01.868472",
     "status": "completed"
    },
    "tags": []
   },
   "source": [
    "### Evaluate model performance on evaluation data set"
   ]
  },
  {
   "cell_type": "code",
   "execution_count": 9,
   "id": "9dbcbb38",
   "metadata": {
    "execution": {
     "iopub.execute_input": "2022-07-05T06:48:01.881892Z",
     "iopub.status.busy": "2022-07-05T06:48:01.881644Z",
     "iopub.status.idle": "2022-07-05T06:48:01.886614Z",
     "shell.execute_reply": "2022-07-05T06:48:01.886061Z"
    },
    "papermill": {
     "duration": 0.011992,
     "end_time": "2022-07-05T06:48:01.888887",
     "exception": false,
     "start_time": "2022-07-05T06:48:01.876895",
     "status": "completed"
    },
    "tags": []
   },
   "outputs": [],
   "source": [
    "# load evaluation data\n",
    "X_test = read_numpy(datalake_root(P) / \"test-data\" / \"digits.numpy\")\n",
    "y_test = read_numpy(datalake_root(P) / \"test-data\" / \"labels.numpy\")"
   ]
  },
  {
   "cell_type": "code",
   "execution_count": 10,
   "id": "b6aa3185",
   "metadata": {
    "execution": {
     "iopub.execute_input": "2022-07-05T06:48:01.898942Z",
     "iopub.status.busy": "2022-07-05T06:48:01.898703Z",
     "iopub.status.idle": "2022-07-05T06:48:01.912417Z",
     "shell.execute_reply": "2022-07-05T06:48:01.911870Z"
    },
    "papermill": {
     "duration": 0.020791,
     "end_time": "2022-07-05T06:48:01.914414",
     "exception": false,
     "start_time": "2022-07-05T06:48:01.893623",
     "status": "completed"
    },
    "tags": []
   },
   "outputs": [],
   "source": [
    "def get_model_outputs(X, onnx_inference_session):\n",
    "    y_pred_labels, y_pred_map = onnx_inference_session.run(\n",
    "        [\"output_label\", \"output_probability\"],\n",
    "        {\"float_input_8x8_image\": X.astype(np.float32)},\n",
    "    )\n",
    "    y_pred_probs = np.array(\n",
    "        [[probabilities[digit] for digit in range(10)] for probabilities in y_pred_map]\n",
    "    )\n",
    "\n",
    "    assert y_pred_labels.shape == (X.shape[0],)\n",
    "    assert y_pred_probs.shape == (X.shape[0], 10)\n",
    "\n",
    "    return y_pred_labels, y_pred_probs\n",
    "\n",
    "\n",
    "# Note: as shown in the training notebook, the predicted labels and probabilities\n",
    "# computed below need not be compatible.\n",
    "y_pred_labels_test, y_pred_probs_test = get_model_outputs(\n",
    "    X_test, onnx_inference_session\n",
    ")"
   ]
  },
  {
   "cell_type": "markdown",
   "id": "4608f14e",
   "metadata": {
    "papermill": {
     "duration": 0.004145,
     "end_time": "2022-07-05T06:48:01.922968",
     "exception": false,
     "start_time": "2022-07-05T06:48:01.918823",
     "status": "completed"
    },
    "tags": []
   },
   "source": [
    "### Confusion matrix"
   ]
  },
  {
   "cell_type": "code",
   "execution_count": 11,
   "id": "1606b2f8",
   "metadata": {
    "execution": {
     "iopub.execute_input": "2022-07-05T06:48:01.932767Z",
     "iopub.status.busy": "2022-07-05T06:48:01.932475Z",
     "iopub.status.idle": "2022-07-05T06:48:01.935511Z",
     "shell.execute_reply": "2022-07-05T06:48:01.934985Z"
    },
    "papermill": {
     "duration": 0.010352,
     "end_time": "2022-07-05T06:48:01.937885",
     "exception": false,
     "start_time": "2022-07-05T06:48:01.927533",
     "status": "completed"
    },
    "tags": []
   },
   "outputs": [],
   "source": [
    "# TODO"
   ]
  },
  {
   "cell_type": "markdown",
   "id": "ec6a8aef",
   "metadata": {
    "papermill": {
     "duration": 0.004759,
     "end_time": "2022-07-05T06:48:01.946894",
     "exception": false,
     "start_time": "2022-07-05T06:48:01.942135",
     "status": "completed"
    },
    "tags": []
   },
   "source": [
    "### Plot predicted probabilities for each classifier over all evaluation digit images"
   ]
  },
  {
   "cell_type": "code",
   "execution_count": 12,
   "id": "f311d10d",
   "metadata": {
    "execution": {
     "iopub.execute_input": "2022-07-05T06:48:01.956653Z",
     "iopub.status.busy": "2022-07-05T06:48:01.956400Z",
     "iopub.status.idle": "2022-07-05T06:48:05.222371Z",
     "shell.execute_reply": "2022-07-05T06:48:05.221356Z"
    },
    "papermill": {
     "duration": 3.273147,
     "end_time": "2022-07-05T06:48:05.224278",
     "exception": false,
     "start_time": "2022-07-05T06:48:01.951131",
     "status": "completed"
    },
    "tags": []
   },
   "outputs": [
    {
     "data": {
      "image/png": "[encoded data removed]",
      "text/plain": [
       "<Figure size 1152x432 with 10 Axes>"
      ]
     },
     "metadata": {
      "needs_background": "light"
     },
     "output_type": "display_data"
    }
   ],
   "source": [
    "def plot_per_digit_probabilities(y_pred_probs):\n",
    "    fig, axs = plt.subplots(nrows=2, ncols=5, figsize=(16, 6))\n",
    "\n",
    "    for (r, c), digit, ax in zip(\n",
    "        it.product(range(2), range(5)), range(10), axs.reshape(-1)\n",
    "    ):\n",
    "        ax.hist(y_pred_probs_test[:, digit], bins=20)\n",
    "\n",
    "        ax.set_title(f\"Digit {digit}\")\n",
    "        if r == 1 and c == 2:\n",
    "            ax.set_xlabel(\"probability\", fontsize=16)\n",
    "\n",
    "        if c == 0:\n",
    "            ax.set_ylabel(\"counts\", fontsize=16)\n",
    "        ax.set_yscale(\"log\")\n",
    "\n",
    "    fig.tight_layout()\n",
    "    fig.suptitle(\n",
    "        f\"Distributions of prediction probabilities for each digit \"\n",
    "        f\"(on evaluation data, n={y_pred_probs.shape[0]})\",\n",
    "        fontsize=20,\n",
    "    )\n",
    "    fig.tight_layout()\n",
    "    fig.show()\n",
    "\n",
    "    return fig\n",
    "\n",
    "\n",
    "fig = plot_per_digit_probabilities(y_pred_probs_test)"
   ]
  },
  {
   "cell_type": "markdown",
   "id": "b0385642",
   "metadata": {
    "papermill": {
     "duration": 0.005869,
     "end_time": "2022-07-05T06:48:05.235570",
     "exception": false,
     "start_time": "2022-07-05T06:48:05.229701",
     "status": "completed"
    },
    "tags": []
   },
   "source": [
    "From the above distributions we see that most digits have clear separation between\n",
    "high and lower probabilities. Morover, in each case there is roughly an order of\n",
    "magnitude more of digits with low probabilities. This is compatible with digits\n",
    "being roughly evenly distributed in the data."
   ]
  },
  {
   "cell_type": "code",
   "execution_count": 13,
   "id": "9e43ec70",
   "metadata": {
    "execution": {
     "iopub.execute_input": "2022-07-05T06:48:05.252041Z",
     "iopub.status.busy": "2022-07-05T06:48:05.251527Z",
     "iopub.status.idle": "2022-07-05T06:48:05.661731Z",
     "shell.execute_reply": "2022-07-05T06:48:05.660989Z"
    },
    "papermill": {
     "duration": 0.423449,
     "end_time": "2022-07-05T06:48:05.663630",
     "exception": false,
     "start_time": "2022-07-05T06:48:05.240181",
     "status": "completed"
    },
    "tags": []
   },
   "outputs": [],
   "source": [
    "logger.log_figure(\"per-digit-probabilities.png\", fig)"
   ]
  },
  {
   "cell_type": "markdown",
   "id": "1294682a",
   "metadata": {
    "papermill": {
     "duration": 0.004682,
     "end_time": "2022-07-05T06:48:05.674020",
     "exception": false,
     "start_time": "2022-07-05T06:48:05.669338",
     "status": "completed"
    },
    "tags": []
   },
   "source": [
    "### Plot ROC curves for individual one-vs-rest classifiers"
   ]
  },
  {
   "cell_type": "code",
   "execution_count": 14,
   "id": "b7204e24",
   "metadata": {
    "execution": {
     "iopub.execute_input": "2022-07-05T06:48:05.694058Z",
     "iopub.status.busy": "2022-07-05T06:48:05.693765Z",
     "iopub.status.idle": "2022-07-05T06:48:06.091767Z",
     "shell.execute_reply": "2022-07-05T06:48:06.091064Z"
    },
    "papermill": {
     "duration": 0.406362,
     "end_time": "2022-07-05T06:48:06.093695",
     "exception": false,
     "start_time": "2022-07-05T06:48:05.687333",
     "status": "completed"
    },
    "tags": []
   },
   "outputs": [],
   "source": [
    "from sklearn import metrics"
   ]
  },
  {
   "cell_type": "code",
   "execution_count": 15,
   "id": "41b1fe61",
   "metadata": {
    "execution": {
     "iopub.execute_input": "2022-07-05T06:48:06.106658Z",
     "iopub.status.busy": "2022-07-05T06:48:06.106225Z",
     "iopub.status.idle": "2022-07-05T06:48:07.112030Z",
     "shell.execute_reply": "2022-07-05T06:48:07.111239Z"
    },
    "papermill": {
     "duration": 1.014509,
     "end_time": "2022-07-05T06:48:07.114126",
     "exception": false,
     "start_time": "2022-07-05T06:48:06.099617",
     "status": "completed"
    },
    "tags": []
   },
   "outputs": [
    {
     "data": {
      "image/png": "[encoded data removed]",
      "text/plain": [
       "<Figure size 1152x576 with 10 Axes>"
      ]
     },
     "metadata": {
      "needs_background": "light"
     },
     "output_type": "display_data"
    }
   ],
   "source": [
    "def plot_roc_curves(y, y_pred_probs):\n",
    "    # based on example code\n",
    "    # https://scikit-learn.org/stable/auto_examples/model_selection/plot_roc.html\n",
    "\n",
    "    fig, axs = plt.subplots(nrows=2, ncols=5, figsize=(16, 8))\n",
    "\n",
    "    roc_auc_dict = {}\n",
    "\n",
    "    for (r, c), digit, ax in zip(\n",
    "        it.product(range(2), range(5)), range(10), axs.reshape(-1)\n",
    "    ):\n",
    "        fpr, tpr, _ = metrics.roc_curve(y == digit, y_pred_probs[:, digit])\n",
    "        auc = metrics.auc(fpr, tpr)\n",
    "        roc_auc_dict[str(digit)] = auc\n",
    "\n",
    "        ax.plot(fpr, tpr, label=f\"ROC AUC={round(auc, 3)}\")\n",
    "\n",
    "        ax.set_title(f\"\\nDigit {digit}\", fontsize=16)\n",
    "        if r == 1:\n",
    "            ax.set_xlabel(\"FPR\", fontsize=18)\n",
    "\n",
    "        if c == 0:\n",
    "            ax.set_ylabel(\"TPR\", fontsize=18)\n",
    "\n",
    "        ax.set_xlim([-0.05, 1.05])\n",
    "        ax.set_ylim([-0.05, 1.05])\n",
    "        ax.legend(loc=\"lower right\", frameon=False, fontsize=14)\n",
    "\n",
    "    fig.tight_layout()\n",
    "    fig.suptitle(\n",
    "        f\"ROC plots for one-vs-rest performances \"\n",
    "        f\"(on evaluation data, n={y_pred_probs_test.shape[1]}\",\n",
    "        fontsize=22,\n",
    "    )\n",
    "    fig.tight_layout()\n",
    "    fig.show()\n",
    "\n",
    "    return roc_auc_dict, fig\n",
    "\n",
    "\n",
    "roc_auc_dict, fig = plot_roc_curves(y_test, y_pred_probs_test)"
   ]
  },
  {
   "cell_type": "code",
   "execution_count": 16,
   "id": "c7b8e7db",
   "metadata": {
    "execution": {
     "iopub.execute_input": "2022-07-05T06:48:07.126638Z",
     "iopub.status.busy": "2022-07-05T06:48:07.126179Z",
     "iopub.status.idle": "2022-07-05T06:48:07.333386Z",
     "shell.execute_reply": "2022-07-05T06:48:07.332364Z"
    },
    "papermill": {
     "duration": 0.215597,
     "end_time": "2022-07-05T06:48:07.335231",
     "exception": false,
     "start_time": "2022-07-05T06:48:07.119634",
     "status": "completed"
    },
    "tags": []
   },
   "outputs": [],
   "source": [
    "logger.log_figure(\"per-digit-roc-curves.png\", fig)"
   ]
  },
  {
   "cell_type": "code",
   "execution_count": 17,
   "id": "cfe015e5",
   "metadata": {
    "execution": {
     "iopub.execute_input": "2022-07-05T06:48:07.347600Z",
     "iopub.status.busy": "2022-07-05T06:48:07.347103Z",
     "iopub.status.idle": "2022-07-05T06:48:07.351983Z",
     "shell.execute_reply": "2022-07-05T06:48:07.351493Z"
    },
    "papermill": {
     "duration": 0.012717,
     "end_time": "2022-07-05T06:48:07.353634",
     "exception": false,
     "start_time": "2022-07-05T06:48:07.340917",
     "status": "completed"
    },
    "tags": []
   },
   "outputs": [
    {
     "data": {
      "text/plain": [
       "{'0': 1.0,\n",
       " '1': 0.999025304592315,\n",
       " '2': 1.0,\n",
       " '3': 0.9998500468603562,\n",
       " '4': 0.9996189605243103,\n",
       " '5': 0.9994001874414246,\n",
       " '6': 0.999923792104862,\n",
       " '7': 0.9997713763145862,\n",
       " '8': 0.9953105296343001,\n",
       " '9': 0.9995808565767413}"
      ]
     },
     "execution_count": 17,
     "metadata": {},
     "output_type": "execute_result"
    }
   ],
   "source": [
    "roc_auc_dict"
   ]
  },
  {
   "cell_type": "code",
   "execution_count": 18,
   "id": "1062985c",
   "metadata": {
    "execution": {
     "iopub.execute_input": "2022-07-05T06:48:07.366087Z",
     "iopub.status.busy": "2022-07-05T06:48:07.365692Z",
     "iopub.status.idle": "2022-07-05T06:48:07.370334Z",
     "shell.execute_reply": "2022-07-05T06:48:07.369822Z"
    },
    "papermill": {
     "duration": 0.012687,
     "end_time": "2022-07-05T06:48:07.371874",
     "exception": false,
     "start_time": "2022-07-05T06:48:07.359187",
     "status": "completed"
    },
    "tags": []
   },
   "outputs": [
    {
     "name": "stdout",
     "output_type": "stream",
     "text": [
      " - Logging roc_auc_per_digit (json) : {'0': 1.0, '1': 0.999025304592315, '2': 1.0, '3': 0.9998500468603562, '4': 0.9996189605243103, '5': 0.9994001874414246, '6': 0.999923792104862, '7': 0.9997713763145862, '8': 0.9953105296343001, '9': 0.9995808565767413}\n"
     ]
    }
   ],
   "source": [
    "logger.log_value(\"roc_auc_per_digit\", roc_auc_dict)"
   ]
  },
  {
   "cell_type": "markdown",
   "id": "0d65e2ae",
   "metadata": {
    "papermill": {
     "duration": 0.005375,
     "end_time": "2022-07-05T06:48:07.382677",
     "exception": false,
     "start_time": "2022-07-05T06:48:07.377302",
     "status": "completed"
    },
    "tags": []
   },
   "source": [
    "### Compute and log mean ROC AUC score averaged over all digits"
   ]
  },
  {
   "cell_type": "code",
   "execution_count": 19,
   "id": "b41d609f",
   "metadata": {
    "execution": {
     "iopub.execute_input": "2022-07-05T06:48:07.394986Z",
     "iopub.status.busy": "2022-07-05T06:48:07.394590Z",
     "iopub.status.idle": "2022-07-05T06:48:07.407893Z",
     "shell.execute_reply": "2022-07-05T06:48:07.407144Z"
    },
    "papermill": {
     "duration": 0.021619,
     "end_time": "2022-07-05T06:48:07.409836",
     "exception": false,
     "start_time": "2022-07-05T06:48:07.388217",
     "status": "completed"
    },
    "tags": []
   },
   "outputs": [
    {
     "name": "stdout",
     "output_type": "stream",
     "text": [
      " - Logging roc_auc_class_mean (float) : 0.9992481054048896\n"
     ]
    }
   ],
   "source": [
    "roc_auc_macro = np.mean(list(roc_auc_dict.values()))\n",
    "\n",
    "logger.log_float(\"roc_auc_class_mean\", roc_auc_macro)\n",
    "\n",
    "# assert that the same value can be computed directly using sklearn\n",
    "assert roc_auc_macro == metrics.roc_auc_score(\n",
    "    y_test, y_pred_probs_test, average=\"macro\", multi_class=\"ovr\"\n",
    ")"
   ]
  },
  {
   "cell_type": "code",
   "execution_count": 20,
   "id": "6f3a0ec2",
   "metadata": {
    "execution": {
     "iopub.execute_input": "2022-07-05T06:48:07.422526Z",
     "iopub.status.busy": "2022-07-05T06:48:07.422204Z",
     "iopub.status.idle": "2022-07-05T06:48:07.425358Z",
     "shell.execute_reply": "2022-07-05T06:48:07.424691Z"
    },
    "lines_to_next_cell": 0,
    "papermill": {
     "duration": 0.011741,
     "end_time": "2022-07-05T06:48:07.427121",
     "exception": false,
     "start_time": "2022-07-05T06:48:07.415380",
     "status": "completed"
    },
    "tags": []
   },
   "outputs": [],
   "source": [
    "# ---"
   ]
  },
  {
   "cell_type": "code",
   "execution_count": null,
   "id": "f8537dda",
   "metadata": {
    "papermill": {
     "duration": 0.00549,
     "end_time": "2022-07-05T06:48:07.438061",
     "exception": false,
     "start_time": "2022-07-05T06:48:07.432571",
     "status": "completed"
    },
    "tags": []
   },
   "outputs": [],
   "source": []
  }
 ],
 "metadata": {
  "jupytext": {
   "cell_metadata_filter": "tags,-all",
   "main_language": "python",
   "notebook_metadata_filter": "-all"
  },
  "language_info": {
   "codemirror_mode": {
    "name": "ipython",
    "version": 3
   },
   "file_extension": ".py",
   "mimetype": "text/x-python",
   "name": "python",
   "nbconvert_exporter": "python",
   "pygments_lexer": "ipython3",
   "version": "3.8.10"
  },
  "papermill": {
   "default_parameters": {},
   "duration": 9.498144,
   "end_time": "2022-07-05T06:48:08.562853",
   "environment_variables": {},
   "exception": null,
   "input_path": "/home/host_user/workspace/mnist-demo-pipeline/mnist-demo-pipeline/notebooks/temp-notebook-gatzu6p3.ipynb",
   "output_path": "notebooks/benchmark-model.ipynb",
   "parameters": {
    "P": {
     "_opentelemetry_traceparent": "00-9a9aa49fd83112cc34c27f1dd20c1827-058303ae135a8cb7-01",
     "pipeline.data_lake_root": "/pipeline-outputs/data-lake",
     "pipeline.github.actor": "matiasdahl",
     "pipeline.github.base_ref": "",
     "pipeline.github.event_name": "schedule",
     "pipeline.github.head_ref": "",
     "pipeline.github.job": "run-tests-pipeline-and-persist-pipeline-outputs",
     "pipeline.github.ref": "refs/heads/development",
     "pipeline.github.ref_name": "development",
     "pipeline.github.ref_type": "branch",
     "pipeline.github.repository": "pynb-dag-runner/mnist-digits-demo-pipeline",
     "pipeline.github.run_id": "2614272362",
     "pipeline.github.runner_name": "Hosted Agent",
     "pipeline.github.sha": "f934c58f68028b7bb026059d4e87e6d32a1bbd20",
     "pipeline.github.workflow": "Run automated tests, pipeline and deploy results to static reporting site",
     "pipeline.pipeline_run_id": "a1ba953f-9537-457d-9a41-ae0713378d2d",
     "pipeline.run_environment": "ci",
     "run.retry_nr": "0",
     "task.max_nr_retries": "1",
     "task.notebook": "notebooks/benchmark-model.py",
     "task.nr_train_images": 1000,
     "task.num_cpus": 1,
     "task.timeout_s": "None"
    }
   },
   "start_time": "2022-07-05T06:47:59.064709",
   "version": "2.3.3"
  }
 },
 "nbformat": 4,
 "nbformat_minor": 5
}