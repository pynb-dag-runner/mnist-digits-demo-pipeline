{
 "cells": [
  {
   "cell_type": "markdown",
   "id": "33525918",
   "metadata": {
    "papermill": {
     "duration": 0.005524,
     "end_time": "2022-07-05T06:47:46.220256",
     "exception": false,
     "start_time": "2022-07-05T06:47:46.214732",
     "status": "completed"
    },
    "tags": []
   },
   "source": [
    "# Benchmark model\n",
    "\n",
    "The purpose of this notebook is to benchmark persisted onnx-model (trained in the\n",
    "previous step) against evaluation set."
   ]
  },
  {
   "cell_type": "markdown",
   "id": "189e92e0",
   "metadata": {
    "papermill": {
     "duration": 0.003773,
     "end_time": "2022-07-05T06:47:46.229035",
     "exception": false,
     "start_time": "2022-07-05T06:47:46.225262",
     "status": "completed"
    },
    "tags": []
   },
   "source": [
    "### Determine run parameters"
   ]
  },
  {
   "cell_type": "code",
   "execution_count": 1,
   "id": "96510f79",
   "metadata": {
    "execution": {
     "iopub.execute_input": "2022-07-05T06:47:46.239102Z",
     "iopub.status.busy": "2022-07-05T06:47:46.238786Z",
     "iopub.status.idle": "2022-07-05T06:47:46.246975Z",
     "shell.execute_reply": "2022-07-05T06:47:46.246404Z"
    },
    "lines_to_next_cell": 0,
    "papermill": {
     "duration": 0.015885,
     "end_time": "2022-07-05T06:47:46.249720",
     "exception": false,
     "start_time": "2022-07-05T06:47:46.233835",
     "status": "completed"
    },
    "tags": []
   },
   "outputs": [],
   "source": [
    "# ----------------- Parameters for interactive development --------------\n",
    "P = {\n",
    "    \"pipeline.data_lake_root\": \"/pipeline-outputs/data-lake\",\n",
    "    \"task.nr_train_images\": 600,\n",
    "}"
   ]
  },
  {
   "cell_type": "code",
   "execution_count": 2,
   "id": "0dddd1ea",
   "metadata": {
    "execution": {
     "iopub.execute_input": "2022-07-05T06:47:46.259889Z",
     "iopub.status.busy": "2022-07-05T06:47:46.259644Z",
     "iopub.status.idle": "2022-07-05T06:47:46.266586Z",
     "shell.execute_reply": "2022-07-05T06:47:46.265114Z"
    },
    "lines_to_next_cell": 0,
    "papermill": {
     "duration": 0.01586,
     "end_time": "2022-07-05T06:47:46.270831",
     "exception": false,
     "start_time": "2022-07-05T06:47:46.254971",
     "status": "completed"
    },
    "tags": [
     "parameters"
    ]
   },
   "outputs": [],
   "source": [
    "# - During automated runs parameters will be injected in the below cell -"
   ]
  },
  {
   "cell_type": "code",
   "execution_count": 3,
   "id": "ec237315",
   "metadata": {
    "execution": {
     "iopub.execute_input": "2022-07-05T06:47:46.283849Z",
     "iopub.status.busy": "2022-07-05T06:47:46.282124Z",
     "iopub.status.idle": "2022-07-05T06:47:46.288507Z",
     "shell.execute_reply": "2022-07-05T06:47:46.287955Z"
    },
    "papermill": {
     "duration": 0.014247,
     "end_time": "2022-07-05T06:47:46.291183",
     "exception": false,
     "start_time": "2022-07-05T06:47:46.276936",
     "status": "completed"
    },
    "tags": [
     "injected-parameters"
    ]
   },
   "outputs": [],
   "source": [
    "# Parameters\n",
    "P = {\n",
    "    \"pipeline.data_lake_root\": \"/pipeline-outputs/data-lake\",\n",
    "    \"pipeline.run_environment\": \"ci\",\n",
    "    \"pipeline.pipeline_run_id\": \"a1ba953f-9537-457d-9a41-ae0713378d2d\",\n",
    "    \"pipeline.github.repository\": \"pynb-dag-runner/mnist-digits-demo-pipeline\",\n",
    "    \"pipeline.github.workflow\": \"Run automated tests, pipeline and deploy results to static reporting site\",\n",
    "    \"pipeline.github.runner_name\": \"Hosted Agent\",\n",
    "    \"pipeline.github.run_id\": \"2614272362\",\n",
    "    \"pipeline.github.actor\": \"matiasdahl\",\n",
    "    \"pipeline.github.job\": \"run-tests-pipeline-and-persist-pipeline-outputs\",\n",
    "    \"pipeline.github.base_ref\": \"\",\n",
    "    \"pipeline.github.head_ref\": \"\",\n",
    "    \"pipeline.github.sha\": \"f934c58f68028b7bb026059d4e87e6d32a1bbd20\",\n",
    "    \"pipeline.github.ref\": \"refs/heads/development\",\n",
    "    \"pipeline.github.ref_type\": \"branch\",\n",
    "    \"pipeline.github.ref_name\": \"development\",\n",
    "    \"pipeline.github.event_name\": \"schedule\",\n",
    "    \"task.nr_train_images\": 800,\n",
    "    \"task.notebook\": \"notebooks/benchmark-model.py\",\n",
    "    \"task.max_nr_retries\": \"1\",\n",
    "    \"run.retry_nr\": \"0\",\n",
    "    \"task.timeout_s\": \"None\",\n",
    "    \"task.num_cpus\": 1,\n",
    "    \"_opentelemetry_traceparent\": \"00-9a9aa49fd83112cc34c27f1dd20c1827-a76cc35c01022880-01\",\n",
    "}\n"
   ]
  },
  {
   "cell_type": "code",
   "execution_count": 4,
   "id": "01ee1659",
   "metadata": {
    "execution": {
     "iopub.execute_input": "2022-07-05T06:47:46.301375Z",
     "iopub.status.busy": "2022-07-05T06:47:46.301122Z",
     "iopub.status.idle": "2022-07-05T06:47:46.304867Z",
     "shell.execute_reply": "2022-07-05T06:47:46.304356Z"
    },
    "lines_to_next_cell": 0,
    "papermill": {
     "duration": 0.0113,
     "end_time": "2022-07-05T06:47:46.307620",
     "exception": false,
     "start_time": "2022-07-05T06:47:46.296320",
     "status": "completed"
    },
    "tags": []
   },
   "outputs": [],
   "source": [
    "# -----------------------------------------------------------------------"
   ]
  },
  {
   "cell_type": "markdown",
   "id": "45469516",
   "metadata": {
    "papermill": {
     "duration": 0.004762,
     "end_time": "2022-07-05T06:47:46.316182",
     "exception": false,
     "start_time": "2022-07-05T06:47:46.311420",
     "status": "completed"
    },
    "tags": []
   },
   "source": [
    "---"
   ]
  },
  {
   "cell_type": "markdown",
   "id": "6350cdb2",
   "metadata": {
    "lines_to_next_cell": 2,
    "papermill": {
     "duration": 0.006065,
     "end_time": "2022-07-05T06:47:46.326129",
     "exception": false,
     "start_time": "2022-07-05T06:47:46.320064",
     "status": "completed"
    },
    "tags": []
   },
   "source": [
    "### Notebook code"
   ]
  },
  {
   "cell_type": "code",
   "execution_count": 5,
   "id": "b346e4ef",
   "metadata": {
    "execution": {
     "iopub.execute_input": "2022-07-05T06:47:46.336290Z",
     "iopub.status.busy": "2022-07-05T06:47:46.336007Z",
     "iopub.status.idle": "2022-07-05T06:47:47.567348Z",
     "shell.execute_reply": "2022-07-05T06:47:47.566655Z"
    },
    "papermill": {
     "duration": 1.239002,
     "end_time": "2022-07-05T06:47:47.569208",
     "exception": false,
     "start_time": "2022-07-05T06:47:46.330206",
     "status": "completed"
    },
    "tags": []
   },
   "outputs": [
    {
     "name": "stderr",
     "output_type": "stream",
     "text": [
      "2022-07-05 06:47:47,389\tINFO worker.py:842 -- Connecting to existing Ray cluster at address: 172.17.0.2:6379\n"
     ]
    }
   ],
   "source": [
    "import itertools as it\n",
    "\n",
    "#\n",
    "import numpy as np\n",
    "import matplotlib.pyplot as plt\n",
    "\n",
    "#\n",
    "from pynb_dag_runner.tasks.task_opentelemetry_logging import PydarLogger\n",
    "\n",
    "#\n",
    "from common.io import datalake_root\n",
    "\n",
    "logger = PydarLogger(P)"
   ]
  },
  {
   "cell_type": "markdown",
   "id": "d6a69d1c",
   "metadata": {
    "papermill": {
     "duration": 0.00412,
     "end_time": "2022-07-05T06:47:47.577707",
     "exception": false,
     "start_time": "2022-07-05T06:47:47.573587",
     "status": "completed"
    },
    "tags": []
   },
   "source": [
    "## Load persisted onnx-model and evaluation data"
   ]
  },
  {
   "cell_type": "code",
   "execution_count": 6,
   "id": "e6a8d399",
   "metadata": {
    "execution": {
     "iopub.execute_input": "2022-07-05T06:47:47.587305Z",
     "iopub.status.busy": "2022-07-05T06:47:47.586807Z",
     "iopub.status.idle": "2022-07-05T06:47:47.590534Z",
     "shell.execute_reply": "2022-07-05T06:47:47.589837Z"
    },
    "papermill": {
     "duration": 0.010346,
     "end_time": "2022-07-05T06:47:47.592154",
     "exception": false,
     "start_time": "2022-07-05T06:47:47.581808",
     "status": "completed"
    },
    "tags": []
   },
   "outputs": [],
   "source": [
    "from common.io import read_onnx, get_onnx_inputs, get_onnx_outputs, read_numpy"
   ]
  },
  {
   "cell_type": "code",
   "execution_count": 7,
   "id": "49d51f85",
   "metadata": {
    "execution": {
     "iopub.execute_input": "2022-07-05T06:47:47.601434Z",
     "iopub.status.busy": "2022-07-05T06:47:47.601092Z",
     "iopub.status.idle": "2022-07-05T06:47:47.611232Z",
     "shell.execute_reply": "2022-07-05T06:47:47.610708Z"
    },
    "lines_to_next_cell": 0,
    "papermill": {
     "duration": 0.016508,
     "end_time": "2022-07-05T06:47:47.612787",
     "exception": false,
     "start_time": "2022-07-05T06:47:47.596279",
     "status": "completed"
    },
    "tags": []
   },
   "outputs": [],
   "source": [
    "onnx_inference_session = read_onnx(\n",
    "    datalake_root(P)\n",
    "    / \"models\"\n",
    "    / f\"nr_train_images={P['task.nr_train_images']}\"\n",
    "    / \"model.onnx\"\n",
    ")"
   ]
  },
  {
   "cell_type": "markdown",
   "id": "322c9026",
   "metadata": {
    "papermill": {
     "duration": 0.004064,
     "end_time": "2022-07-05T06:47:47.621301",
     "exception": false,
     "start_time": "2022-07-05T06:47:47.617237",
     "status": "completed"
    },
    "tags": []
   },
   "source": [
    "### Record structure of inputs and outputs for ONNX model\n",
    "\n",
    "(this should likely be done in training notebook)"
   ]
  },
  {
   "cell_type": "code",
   "execution_count": 8,
   "id": "3469a2c5",
   "metadata": {
    "execution": {
     "iopub.execute_input": "2022-07-05T06:47:47.630392Z",
     "iopub.status.busy": "2022-07-05T06:47:47.630137Z",
     "iopub.status.idle": "2022-07-05T06:47:47.635415Z",
     "shell.execute_reply": "2022-07-05T06:47:47.634891Z"
    },
    "papermill": {
     "duration": 0.01315,
     "end_time": "2022-07-05T06:47:47.638433",
     "exception": false,
     "start_time": "2022-07-05T06:47:47.625283",
     "status": "completed"
    },
    "tags": []
   },
   "outputs": [
    {
     "name": "stdout",
     "output_type": "stream",
     "text": [
      "{\n",
      "  \"inputs\": [\n",
      "    {\n",
      "      \"name\": \"float_input_8x8_image\",\n",
      "      \"shape\": [\n",
      "        null,\n",
      "        64\n",
      "      ],\n",
      "      \"type\": \"tensor(float)\"\n",
      "    }\n",
      "  ],\n",
      "  \"outputs\": [\n",
      "    {\n",
      "      \"name\": \"output_label\",\n",
      "      \"shape\": [\n",
      "        null\n",
      "      ],\n",
      "      \"type\": \"tensor(int64)\"\n",
      "    },\n",
      "    {\n",
      "      \"name\": \"output_probability\",\n",
      "      \"shape\": [],\n",
      "      \"type\": \"seq(map(int64,tensor(float)))\"\n",
      "    }\n",
      "  ]\n",
      "}\n"
     ]
    }
   ],
   "source": [
    "import json\n",
    "\n",
    "onnx_io = json.dumps(\n",
    "    {\n",
    "        \"inputs\": get_onnx_inputs(onnx_inference_session),\n",
    "        \"outputs\": get_onnx_outputs(onnx_inference_session),\n",
    "    },\n",
    "    indent=2,\n",
    ")\n",
    "\n",
    "\n",
    "logger.log_artefact(\"onnx_io_structure.json\", onnx_io)\n",
    "print(onnx_io)"
   ]
  },
  {
   "cell_type": "markdown",
   "id": "b17b735a",
   "metadata": {
    "papermill": {
     "duration": 0.00445,
     "end_time": "2022-07-05T06:47:47.646966",
     "exception": false,
     "start_time": "2022-07-05T06:47:47.642516",
     "status": "completed"
    },
    "tags": []
   },
   "source": [
    "### Evaluate model performance on evaluation data set"
   ]
  },
  {
   "cell_type": "code",
   "execution_count": 9,
   "id": "704a9ffa",
   "metadata": {
    "execution": {
     "iopub.execute_input": "2022-07-05T06:47:47.656293Z",
     "iopub.status.busy": "2022-07-05T06:47:47.656004Z",
     "iopub.status.idle": "2022-07-05T06:47:47.660682Z",
     "shell.execute_reply": "2022-07-05T06:47:47.660136Z"
    },
    "papermill": {
     "duration": 0.012241,
     "end_time": "2022-07-05T06:47:47.663057",
     "exception": false,
     "start_time": "2022-07-05T06:47:47.650816",
     "status": "completed"
    },
    "tags": []
   },
   "outputs": [],
   "source": [
    "# load evaluation data\n",
    "X_test = read_numpy(datalake_root(P) / \"test-data\" / \"digits.numpy\")\n",
    "y_test = read_numpy(datalake_root(P) / \"test-data\" / \"labels.numpy\")"
   ]
  },
  {
   "cell_type": "code",
   "execution_count": 10,
   "id": "ed968f33",
   "metadata": {
    "execution": {
     "iopub.execute_input": "2022-07-05T06:47:47.672768Z",
     "iopub.status.busy": "2022-07-05T06:47:47.672523Z",
     "iopub.status.idle": "2022-07-05T06:47:47.686130Z",
     "shell.execute_reply": "2022-07-05T06:47:47.685435Z"
    },
    "papermill": {
     "duration": 0.020167,
     "end_time": "2022-07-05T06:47:47.687751",
     "exception": false,
     "start_time": "2022-07-05T06:47:47.667584",
     "status": "completed"
    },
    "tags": []
   },
   "outputs": [],
   "source": [
    "def get_model_outputs(X, onnx_inference_session):\n",
    "    y_pred_labels, y_pred_map = onnx_inference_session.run(\n",
    "        [\"output_label\", \"output_probability\"],\n",
    "        {\"float_input_8x8_image\": X.astype(np.float32)},\n",
    "    )\n",
    "    y_pred_probs = np.array(\n",
    "        [[probabilities[digit] for digit in range(10)] for probabilities in y_pred_map]\n",
    "    )\n",
    "\n",
    "    assert y_pred_labels.shape == (X.shape[0],)\n",
    "    assert y_pred_probs.shape == (X.shape[0], 10)\n",
    "\n",
    "    return y_pred_labels, y_pred_probs\n",
    "\n",
    "\n",
    "# Note: as shown in the training notebook, the predicted labels and probabilities\n",
    "# computed below need not be compatible.\n",
    "y_pred_labels_test, y_pred_probs_test = get_model_outputs(\n",
    "    X_test, onnx_inference_session\n",
    ")"
   ]
  },
  {
   "cell_type": "markdown",
   "id": "f82314d0",
   "metadata": {
    "papermill": {
     "duration": 0.004739,
     "end_time": "2022-07-05T06:47:47.696649",
     "exception": false,
     "start_time": "2022-07-05T06:47:47.691910",
     "status": "completed"
    },
    "tags": []
   },
   "source": [
    "### Confusion matrix"
   ]
  },
  {
   "cell_type": "code",
   "execution_count": 11,
   "id": "be9d2d01",
   "metadata": {
    "execution": {
     "iopub.execute_input": "2022-07-05T06:47:47.705869Z",
     "iopub.status.busy": "2022-07-05T06:47:47.705615Z",
     "iopub.status.idle": "2022-07-05T06:47:47.708818Z",
     "shell.execute_reply": "2022-07-05T06:47:47.708084Z"
    },
    "papermill": {
     "duration": 0.010877,
     "end_time": "2022-07-05T06:47:47.711570",
     "exception": false,
     "start_time": "2022-07-05T06:47:47.700693",
     "status": "completed"
    },
    "tags": []
   },
   "outputs": [],
   "source": [
    "# TODO"
   ]
  },
  {
   "cell_type": "markdown",
   "id": "29e82e08",
   "metadata": {
    "papermill": {
     "duration": 0.005827,
     "end_time": "2022-07-05T06:47:47.721600",
     "exception": false,
     "start_time": "2022-07-05T06:47:47.715773",
     "status": "completed"
    },
    "tags": []
   },
   "source": [
    "### Plot predicted probabilities for each classifier over all evaluation digit images"
   ]
  },
  {
   "cell_type": "code",
   "execution_count": 12,
   "id": "cb78788f",
   "metadata": {
    "execution": {
     "iopub.execute_input": "2022-07-05T06:47:47.731180Z",
     "iopub.status.busy": "2022-07-05T06:47:47.730941Z",
     "iopub.status.idle": "2022-07-05T06:47:51.046711Z",
     "shell.execute_reply": "2022-07-05T06:47:51.046099Z"
    },
    "papermill": {
     "duration": 3.322765,
     "end_time": "2022-07-05T06:47:51.048539",
     "exception": false,
     "start_time": "2022-07-05T06:47:47.725774",
     "status": "completed"
    },
    "tags": []
   },
   "outputs": [
    {
     "data": {
      "image/png": "[encoded data removed]",
      "text/plain": [
       "<Figure size 1152x432 with 10 Axes>"
      ]
     },
     "metadata": {
      "needs_background": "light"
     },
     "output_type": "display_data"
    }
   ],
   "source": [
    "def plot_per_digit_probabilities(y_pred_probs):\n",
    "    fig, axs = plt.subplots(nrows=2, ncols=5, figsize=(16, 6))\n",
    "\n",
    "    for (r, c), digit, ax in zip(\n",
    "        it.product(range(2), range(5)), range(10), axs.reshape(-1)\n",
    "    ):\n",
    "        ax.hist(y_pred_probs_test[:, digit], bins=20)\n",
    "\n",
    "        ax.set_title(f\"Digit {digit}\")\n",
    "        if r == 1 and c == 2:\n",
    "            ax.set_xlabel(\"probability\", fontsize=16)\n",
    "\n",
    "        if c == 0:\n",
    "            ax.set_ylabel(\"counts\", fontsize=16)\n",
    "        ax.set_yscale(\"log\")\n",
    "\n",
    "    fig.tight_layout()\n",
    "    fig.suptitle(\n",
    "        f\"Distributions of prediction probabilities for each digit \"\n",
    "        f\"(on evaluation data, n={y_pred_probs.shape[0]})\",\n",
    "        fontsize=20,\n",
    "    )\n",
    "    fig.tight_layout()\n",
    "    fig.show()\n",
    "\n",
    "    return fig\n",
    "\n",
    "\n",
    "fig = plot_per_digit_probabilities(y_pred_probs_test)"
   ]
  },
  {
   "cell_type": "markdown",
   "id": "29a07734",
   "metadata": {
    "papermill": {
     "duration": 0.004985,
     "end_time": "2022-07-05T06:47:51.059029",
     "exception": false,
     "start_time": "2022-07-05T06:47:51.054044",
     "status": "completed"
    },
    "tags": []
   },
   "source": [
    "From the above distributions we see that most digits have clear separation between\n",
    "high and lower probabilities. Morover, in each case there is roughly an order of\n",
    "magnitude more of digits with low probabilities. This is compatible with digits\n",
    "being roughly evenly distributed in the data."
   ]
  },
  {
   "cell_type": "code",
   "execution_count": 13,
   "id": "d7128d53",
   "metadata": {
    "execution": {
     "iopub.execute_input": "2022-07-05T06:47:51.069986Z",
     "iopub.status.busy": "2022-07-05T06:47:51.069694Z",
     "iopub.status.idle": "2022-07-05T06:47:51.509625Z",
     "shell.execute_reply": "2022-07-05T06:47:51.509010Z"
    },
    "papermill": {
     "duration": 0.447823,
     "end_time": "2022-07-05T06:47:51.511860",
     "exception": false,
     "start_time": "2022-07-05T06:47:51.064037",
     "status": "completed"
    },
    "tags": []
   },
   "outputs": [],
   "source": [
    "logger.log_figure(\"per-digit-probabilities.png\", fig)"
   ]
  },
  {
   "cell_type": "markdown",
   "id": "76ad9ea5",
   "metadata": {
    "papermill": {
     "duration": 0.005605,
     "end_time": "2022-07-05T06:47:51.522306",
     "exception": false,
     "start_time": "2022-07-05T06:47:51.516701",
     "status": "completed"
    },
    "tags": []
   },
   "source": [
    "### Plot ROC curves for individual one-vs-rest classifiers"
   ]
  },
  {
   "cell_type": "code",
   "execution_count": 14,
   "id": "cfc59508",
   "metadata": {
    "execution": {
     "iopub.execute_input": "2022-07-05T06:47:51.533402Z",
     "iopub.status.busy": "2022-07-05T06:47:51.533119Z",
     "iopub.status.idle": "2022-07-05T06:47:51.932233Z",
     "shell.execute_reply": "2022-07-05T06:47:51.931624Z"
    },
    "papermill": {
     "duration": 0.407088,
     "end_time": "2022-07-05T06:47:51.934129",
     "exception": false,
     "start_time": "2022-07-05T06:47:51.527041",
     "status": "completed"
    },
    "tags": []
   },
   "outputs": [],
   "source": [
    "from sklearn import metrics"
   ]
  },
  {
   "cell_type": "code",
   "execution_count": 15,
   "id": "0bb5bda8",
   "metadata": {
    "execution": {
     "iopub.execute_input": "2022-07-05T06:47:51.945841Z",
     "iopub.status.busy": "2022-07-05T06:47:51.945567Z",
     "iopub.status.idle": "2022-07-05T06:47:53.002948Z",
     "shell.execute_reply": "2022-07-05T06:47:53.002285Z"
    },
    "papermill": {
     "duration": 1.064873,
     "end_time": "2022-07-05T06:47:53.004818",
     "exception": false,
     "start_time": "2022-07-05T06:47:51.939945",
     "status": "completed"
    },
    "tags": []
   },
   "outputs": [
    {
     "data": {
      "image/png": "[encoded data removed]",
      "text/plain": [
       "<Figure size 1152x576 with 10 Axes>"
      ]
     },
     "metadata": {
      "needs_background": "light"
     },
     "output_type": "display_data"
    }
   ],
   "source": [
    "def plot_roc_curves(y, y_pred_probs):\n",
    "    # based on example code\n",
    "    # https://scikit-learn.org/stable/auto_examples/model_selection/plot_roc.html\n",
    "\n",
    "    fig, axs = plt.subplots(nrows=2, ncols=5, figsize=(16, 8))\n",
    "\n",
    "    roc_auc_dict = {}\n",
    "\n",
    "    for (r, c), digit, ax in zip(\n",
    "        it.product(range(2), range(5)), range(10), axs.reshape(-1)\n",
    "    ):\n",
    "        fpr, tpr, _ = metrics.roc_curve(y == digit, y_pred_probs[:, digit])\n",
    "        auc = metrics.auc(fpr, tpr)\n",
    "        roc_auc_dict[str(digit)] = auc\n",
    "\n",
    "        ax.plot(fpr, tpr, label=f\"ROC AUC={round(auc, 3)}\")\n",
    "\n",
    "        ax.set_title(f\"\\nDigit {digit}\", fontsize=16)\n",
    "        if r == 1:\n",
    "            ax.set_xlabel(\"FPR\", fontsize=18)\n",
    "\n",
    "        if c == 0:\n",
    "            ax.set_ylabel(\"TPR\", fontsize=18)\n",
    "\n",
    "        ax.set_xlim([-0.05, 1.05])\n",
    "        ax.set_ylim([-0.05, 1.05])\n",
    "        ax.legend(loc=\"lower right\", frameon=False, fontsize=14)\n",
    "\n",
    "    fig.tight_layout()\n",
    "    fig.suptitle(\n",
    "        f\"ROC plots for one-vs-rest performances \"\n",
    "        f\"(on evaluation data, n={y_pred_probs_test.shape[1]}\",\n",
    "        fontsize=22,\n",
    "    )\n",
    "    fig.tight_layout()\n",
    "    fig.show()\n",
    "\n",
    "    return roc_auc_dict, fig\n",
    "\n",
    "\n",
    "roc_auc_dict, fig = plot_roc_curves(y_test, y_pred_probs_test)"
   ]
  },
  {
   "cell_type": "code",
   "execution_count": 16,
   "id": "087c2ad3",
   "metadata": {
    "execution": {
     "iopub.execute_input": "2022-07-05T06:47:53.017183Z",
     "iopub.status.busy": "2022-07-05T06:47:53.016953Z",
     "iopub.status.idle": "2022-07-05T06:47:53.747471Z",
     "shell.execute_reply": "2022-07-05T06:47:53.746713Z"
    },
    "papermill": {
     "duration": 0.739095,
     "end_time": "2022-07-05T06:47:53.749660",
     "exception": false,
     "start_time": "2022-07-05T06:47:53.010565",
     "status": "completed"
    },
    "tags": []
   },
   "outputs": [],
   "source": [
    "logger.log_figure(\"per-digit-roc-curves.png\", fig)"
   ]
  },
  {
   "cell_type": "code",
   "execution_count": 17,
   "id": "26c4cb10",
   "metadata": {
    "execution": {
     "iopub.execute_input": "2022-07-05T06:47:53.762713Z",
     "iopub.status.busy": "2022-07-05T06:47:53.762316Z",
     "iopub.status.idle": "2022-07-05T06:47:53.767583Z",
     "shell.execute_reply": "2022-07-05T06:47:53.766794Z"
    },
    "papermill": {
     "duration": 0.014739,
     "end_time": "2022-07-05T06:47:53.770215",
     "exception": false,
     "start_time": "2022-07-05T06:47:53.755476",
     "status": "completed"
    },
    "tags": []
   },
   "outputs": [
    {
     "data": {
      "text/plain": [
       "{'0': 1.0,\n",
       " '1': 0.9988003748828491,\n",
       " '2': 1.0,\n",
       " '3': 0.9998125585754452,\n",
       " '4': 0.9995046486816034,\n",
       " '5': 0.9992127460168697,\n",
       " '6': 0.999961896052431,\n",
       " '7': 0.9998856881572931,\n",
       " '8': 0.9929854981084489,\n",
       " '9': 0.9993903368388964}"
      ]
     },
     "execution_count": 17,
     "metadata": {},
     "output_type": "execute_result"
    }
   ],
   "source": [
    "roc_auc_dict"
   ]
  },
  {
   "cell_type": "code",
   "execution_count": 18,
   "id": "014ca30a",
   "metadata": {
    "execution": {
     "iopub.execute_input": "2022-07-05T06:47:53.783296Z",
     "iopub.status.busy": "2022-07-05T06:47:53.782967Z",
     "iopub.status.idle": "2022-07-05T06:47:53.787126Z",
     "shell.execute_reply": "2022-07-05T06:47:53.786447Z"
    },
    "papermill": {
     "duration": 0.014007,
     "end_time": "2022-07-05T06:47:53.790143",
     "exception": false,
     "start_time": "2022-07-05T06:47:53.776136",
     "status": "completed"
    },
    "tags": []
   },
   "outputs": [
    {
     "name": "stdout",
     "output_type": "stream",
     "text": [
      " - Logging roc_auc_per_digit (json) : {'0': 1.0, '1': 0.9988003748828491, '2': 1.0, '3': 0.9998125585754452, '4': 0.9995046486816034, '5': 0.9992127460168697, '6': 0.999961896052431, '7': 0.9998856881572931, '8': 0.9929854981084489, '9': 0.9993903368388964}\n"
     ]
    }
   ],
   "source": [
    "logger.log_value(\"roc_auc_per_digit\", roc_auc_dict)"
   ]
  },
  {
   "cell_type": "markdown",
   "id": "2601d16e",
   "metadata": {
    "papermill": {
     "duration": 0.005869,
     "end_time": "2022-07-05T06:47:53.801799",
     "exception": false,
     "start_time": "2022-07-05T06:47:53.795930",
     "status": "completed"
    },
    "tags": []
   },
   "source": [
    "### Compute and log mean ROC AUC score averaged over all digits"
   ]
  },
  {
   "cell_type": "code",
   "execution_count": 19,
   "id": "df2ca0d1",
   "metadata": {
    "execution": {
     "iopub.execute_input": "2022-07-05T06:47:53.814934Z",
     "iopub.status.busy": "2022-07-05T06:47:53.814646Z",
     "iopub.status.idle": "2022-07-05T06:47:53.829427Z",
     "shell.execute_reply": "2022-07-05T06:47:53.828733Z"
    },
    "papermill": {
     "duration": 0.023515,
     "end_time": "2022-07-05T06:47:53.830934",
     "exception": false,
     "start_time": "2022-07-05T06:47:53.807419",
     "status": "completed"
    },
    "tags": []
   },
   "outputs": [
    {
     "name": "stdout",
     "output_type": "stream",
     "text": [
      " - Logging roc_auc_class_mean (float) : 0.9989553747313836\n"
     ]
    }
   ],
   "source": [
    "roc_auc_macro = np.mean(list(roc_auc_dict.values()))\n",
    "\n",
    "logger.log_float(\"roc_auc_class_mean\", roc_auc_macro)\n",
    "\n",
    "# assert that the same value can be computed directly using sklearn\n",
    "assert roc_auc_macro == metrics.roc_auc_score(\n",
    "    y_test, y_pred_probs_test, average=\"macro\", multi_class=\"ovr\"\n",
    ")"
   ]
  },
  {
   "cell_type": "code",
   "execution_count": 20,
   "id": "c8e7b5f1",
   "metadata": {
    "execution": {
     "iopub.execute_input": "2022-07-05T06:47:53.844086Z",
     "iopub.status.busy": "2022-07-05T06:47:53.843855Z",
     "iopub.status.idle": "2022-07-05T06:47:53.846564Z",
     "shell.execute_reply": "2022-07-05T06:47:53.845985Z"
    },
    "lines_to_next_cell": 0,
    "papermill": {
     "duration": 0.016634,
     "end_time": "2022-07-05T06:47:53.853332",
     "exception": false,
     "start_time": "2022-07-05T06:47:53.836698",
     "status": "completed"
    },
    "tags": []
   },
   "outputs": [],
   "source": [
    "# ---"
   ]
  },
  {
   "cell_type": "code",
   "execution_count": null,
   "id": "765c7334",
   "metadata": {
    "papermill": {
     "duration": 0.006387,
     "end_time": "2022-07-05T06:47:53.865118",
     "exception": false,
     "start_time": "2022-07-05T06:47:53.858731",
     "status": "completed"
    },
    "tags": []
   },
   "outputs": [],
   "source": []
  }
 ],
 "metadata": {
  "jupytext": {
   "cell_metadata_filter": "tags,-all",
   "main_language": "python",
   "notebook_metadata_filter": "-all"
  },
  "language_info": {
   "codemirror_mode": {
    "name": "ipython",
    "version": 3
   },
   "file_extension": ".py",
   "mimetype": "text/x-python",
   "name": "python",
   "nbconvert_exporter": "python",
   "pygments_lexer": "ipython3",
   "version": "3.8.10"
  },
  "papermill": {
   "default_parameters": {},
   "duration": 10.111434,
   "end_time": "2022-07-05T06:47:54.990148",
   "environment_variables": {},
   "exception": null,
   "input_path": "/home/host_user/workspace/mnist-demo-pipeline/mnist-demo-pipeline/notebooks/temp-notebook-9sc9fyi8.ipynb",
   "output_path": "notebooks/benchmark-model.ipynb",
   "parameters": {
    "P": {
     "_opentelemetry_traceparent": "00-9a9aa49fd83112cc34c27f1dd20c1827-a76cc35c01022880-01",
     "pipeline.data_lake_root": "/pipeline-outputs/data-lake",
     "pipeline.github.actor": "matiasdahl",
     "pipeline.github.base_ref": "",
     "pipeline.github.event_name": "schedule",
     "pipeline.github.head_ref": "",
     "pipeline.github.job": "run-tests-pipeline-and-persist-pipeline-outputs",
     "pipeline.github.ref": "refs/heads/development",
     "pipeline.github.ref_name": "development",
     "pipeline.github.ref_type": "branch",
     "pipeline.github.repository": "pynb-dag-runner/mnist-digits-demo-pipeline",
     "pipeline.github.run_id": "2614272362",
     "pipeline.github.runner_name": "Hosted Agent",
     "pipeline.github.sha": "f934c58f68028b7bb026059d4e87e6d32a1bbd20",
     "pipeline.github.workflow": "Run automated tests, pipeline and deploy results to static reporting site",
     "pipeline.pipeline_run_id": "a1ba953f-9537-457d-9a41-ae0713378d2d",
     "pipeline.run_environment": "ci",
     "run.retry_nr": "0",
     "task.max_nr_retries": "1",
     "task.notebook": "notebooks/benchmark-model.py",
     "task.nr_train_images": 800,
     "task.num_cpus": 1,
     "task.timeout_s": "None"
    }
   },
   "start_time": "2022-07-05T06:47:44.878714",
   "version": "2.3.3"
  }
 },
 "nbformat": 4,
 "nbformat_minor": 5
}