{
 "cells": [
  {
   "cell_type": "markdown",
   "id": "0f815672",
   "metadata": {
    "papermill": {
     "duration": 0.006002,
     "end_time": "2022-07-05T06:47:49.191799",
     "exception": false,
     "start_time": "2022-07-05T06:47:49.185797",
     "status": "completed"
    },
    "tags": []
   },
   "source": [
    "# Benchmark model\n",
    "\n",
    "The purpose of this notebook is to benchmark persisted onnx-model (trained in the\n",
    "previous step) against evaluation set."
   ]
  },
  {
   "cell_type": "markdown",
   "id": "d6ca0b5c",
   "metadata": {
    "papermill": {
     "duration": 0.004163,
     "end_time": "2022-07-05T06:47:49.200052",
     "exception": false,
     "start_time": "2022-07-05T06:47:49.195889",
     "status": "completed"
    },
    "tags": []
   },
   "source": [
    "### Determine run parameters"
   ]
  },
  {
   "cell_type": "code",
   "execution_count": 1,
   "id": "996c1c06",
   "metadata": {
    "execution": {
     "iopub.execute_input": "2022-07-05T06:47:49.209160Z",
     "iopub.status.busy": "2022-07-05T06:47:49.208806Z",
     "iopub.status.idle": "2022-07-05T06:47:49.216059Z",
     "shell.execute_reply": "2022-07-05T06:47:49.215299Z"
    },
    "lines_to_next_cell": 0,
    "papermill": {
     "duration": 0.016249,
     "end_time": "2022-07-05T06:47:49.219984",
     "exception": false,
     "start_time": "2022-07-05T06:47:49.203735",
     "status": "completed"
    },
    "tags": []
   },
   "outputs": [],
   "source": [
    "# ----------------- Parameters for interactive development --------------\n",
    "P = {\n",
    "    \"pipeline.data_lake_root\": \"/pipeline-outputs/data-lake\",\n",
    "    \"task.nr_train_images\": 600,\n",
    "}"
   ]
  },
  {
   "cell_type": "code",
   "execution_count": 2,
   "id": "5e14d9f4",
   "metadata": {
    "execution": {
     "iopub.execute_input": "2022-07-05T06:47:49.229309Z",
     "iopub.status.busy": "2022-07-05T06:47:49.228773Z",
     "iopub.status.idle": "2022-07-05T06:47:49.231816Z",
     "shell.execute_reply": "2022-07-05T06:47:49.231190Z"
    },
    "lines_to_next_cell": 0,
    "papermill": {
     "duration": 0.009493,
     "end_time": "2022-07-05T06:47:49.233374",
     "exception": false,
     "start_time": "2022-07-05T06:47:49.223881",
     "status": "completed"
    },
    "tags": [
     "parameters"
    ]
   },
   "outputs": [],
   "source": [
    "# - During automated runs parameters will be injected in the below cell -"
   ]
  },
  {
   "cell_type": "code",
   "execution_count": 3,
   "id": "0271dff2",
   "metadata": {
    "execution": {
     "iopub.execute_input": "2022-07-05T06:47:49.243024Z",
     "iopub.status.busy": "2022-07-05T06:47:49.242677Z",
     "iopub.status.idle": "2022-07-05T06:47:49.249077Z",
     "shell.execute_reply": "2022-07-05T06:47:49.248516Z"
    },
    "papermill": {
     "duration": 0.014205,
     "end_time": "2022-07-05T06:47:49.251762",
     "exception": false,
     "start_time": "2022-07-05T06:47:49.237557",
     "status": "completed"
    },
    "tags": [
     "injected-parameters"
    ]
   },
   "outputs": [],
   "source": [
    "# Parameters\n",
    "P = {\n",
    "    \"pipeline.data_lake_root\": \"/pipeline-outputs/data-lake\",\n",
    "    \"pipeline.run_environment\": \"ci\",\n",
    "    \"pipeline.pipeline_run_id\": \"a1ba953f-9537-457d-9a41-ae0713378d2d\",\n",
    "    \"pipeline.github.repository\": \"pynb-dag-runner/mnist-digits-demo-pipeline\",\n",
    "    \"pipeline.github.workflow\": \"Run automated tests, pipeline and deploy results to static reporting site\",\n",
    "    \"pipeline.github.runner_name\": \"Hosted Agent\",\n",
    "    \"pipeline.github.run_id\": \"2614272362\",\n",
    "    \"pipeline.github.actor\": \"matiasdahl\",\n",
    "    \"pipeline.github.job\": \"run-tests-pipeline-and-persist-pipeline-outputs\",\n",
    "    \"pipeline.github.base_ref\": \"\",\n",
    "    \"pipeline.github.head_ref\": \"\",\n",
    "    \"pipeline.github.sha\": \"f934c58f68028b7bb026059d4e87e6d32a1bbd20\",\n",
    "    \"pipeline.github.ref\": \"refs/heads/development\",\n",
    "    \"pipeline.github.ref_type\": \"branch\",\n",
    "    \"pipeline.github.ref_name\": \"development\",\n",
    "    \"pipeline.github.event_name\": \"schedule\",\n",
    "    \"task.nr_train_images\": 600,\n",
    "    \"task.notebook\": \"notebooks/benchmark-model.py\",\n",
    "    \"task.max_nr_retries\": \"1\",\n",
    "    \"run.retry_nr\": \"0\",\n",
    "    \"task.timeout_s\": \"None\",\n",
    "    \"task.num_cpus\": 1,\n",
    "    \"_opentelemetry_traceparent\": \"00-9a9aa49fd83112cc34c27f1dd20c1827-de9979a282e60dab-01\",\n",
    "}\n"
   ]
  },
  {
   "cell_type": "code",
   "execution_count": 4,
   "id": "0381d3d8",
   "metadata": {
    "execution": {
     "iopub.execute_input": "2022-07-05T06:47:49.262435Z",
     "iopub.status.busy": "2022-07-05T06:47:49.261732Z",
     "iopub.status.idle": "2022-07-05T06:47:49.264997Z",
     "shell.execute_reply": "2022-07-05T06:47:49.264386Z"
    },
    "lines_to_next_cell": 0,
    "papermill": {
     "duration": 0.01109,
     "end_time": "2022-07-05T06:47:49.266559",
     "exception": false,
     "start_time": "2022-07-05T06:47:49.255469",
     "status": "completed"
    },
    "tags": []
   },
   "outputs": [],
   "source": [
    "# -----------------------------------------------------------------------"
   ]
  },
  {
   "cell_type": "markdown",
   "id": "7e4aff6e",
   "metadata": {
    "papermill": {
     "duration": 0.003946,
     "end_time": "2022-07-05T06:47:49.275180",
     "exception": false,
     "start_time": "2022-07-05T06:47:49.271234",
     "status": "completed"
    },
    "tags": []
   },
   "source": [
    "---"
   ]
  },
  {
   "cell_type": "markdown",
   "id": "c7cd3103",
   "metadata": {
    "lines_to_next_cell": 2,
    "papermill": {
     "duration": 0.005806,
     "end_time": "2022-07-05T06:47:49.285640",
     "exception": false,
     "start_time": "2022-07-05T06:47:49.279834",
     "status": "completed"
    },
    "tags": []
   },
   "source": [
    "### Notebook code"
   ]
  },
  {
   "cell_type": "code",
   "execution_count": 5,
   "id": "24fca254",
   "metadata": {
    "execution": {
     "iopub.execute_input": "2022-07-05T06:47:49.295101Z",
     "iopub.status.busy": "2022-07-05T06:47:49.294864Z",
     "iopub.status.idle": "2022-07-05T06:47:50.413462Z",
     "shell.execute_reply": "2022-07-05T06:47:50.412607Z"
    },
    "papermill": {
     "duration": 1.125294,
     "end_time": "2022-07-05T06:47:50.415285",
     "exception": false,
     "start_time": "2022-07-05T06:47:49.289991",
     "status": "completed"
    },
    "tags": []
   },
   "outputs": [
    {
     "name": "stderr",
     "output_type": "stream",
     "text": [
      "2022-07-05 06:47:50,233\tINFO worker.py:842 -- Connecting to existing Ray cluster at address: 172.17.0.2:6379\n"
     ]
    }
   ],
   "source": [
    "import itertools as it\n",
    "\n",
    "#\n",
    "import numpy as np\n",
    "import matplotlib.pyplot as plt\n",
    "\n",
    "#\n",
    "from pynb_dag_runner.tasks.task_opentelemetry_logging import PydarLogger\n",
    "\n",
    "#\n",
    "from common.io import datalake_root\n",
    "\n",
    "logger = PydarLogger(P)"
   ]
  },
  {
   "cell_type": "markdown",
   "id": "cf9f6c5f",
   "metadata": {
    "papermill": {
     "duration": 0.004061,
     "end_time": "2022-07-05T06:47:50.424329",
     "exception": false,
     "start_time": "2022-07-05T06:47:50.420268",
     "status": "completed"
    },
    "tags": []
   },
   "source": [
    "## Load persisted onnx-model and evaluation data"
   ]
  },
  {
   "cell_type": "code",
   "execution_count": 6,
   "id": "8de2094b",
   "metadata": {
    "execution": {
     "iopub.execute_input": "2022-07-05T06:47:50.433744Z",
     "iopub.status.busy": "2022-07-05T06:47:50.433386Z",
     "iopub.status.idle": "2022-07-05T06:47:50.437009Z",
     "shell.execute_reply": "2022-07-05T06:47:50.436335Z"
    },
    "papermill": {
     "duration": 0.010545,
     "end_time": "2022-07-05T06:47:50.438985",
     "exception": false,
     "start_time": "2022-07-05T06:47:50.428440",
     "status": "completed"
    },
    "tags": []
   },
   "outputs": [],
   "source": [
    "from common.io import read_onnx, get_onnx_inputs, get_onnx_outputs, read_numpy"
   ]
  },
  {
   "cell_type": "code",
   "execution_count": 7,
   "id": "64635d09",
   "metadata": {
    "execution": {
     "iopub.execute_input": "2022-07-05T06:47:50.448895Z",
     "iopub.status.busy": "2022-07-05T06:47:50.448570Z",
     "iopub.status.idle": "2022-07-05T06:47:50.459736Z",
     "shell.execute_reply": "2022-07-05T06:47:50.459109Z"
    },
    "lines_to_next_cell": 0,
    "papermill": {
     "duration": 0.017678,
     "end_time": "2022-07-05T06:47:50.461260",
     "exception": false,
     "start_time": "2022-07-05T06:47:50.443582",
     "status": "completed"
    },
    "tags": []
   },
   "outputs": [],
   "source": [
    "onnx_inference_session = read_onnx(\n",
    "    datalake_root(P)\n",
    "    / \"models\"\n",
    "    / f\"nr_train_images={P['task.nr_train_images']}\"\n",
    "    / \"model.onnx\"\n",
    ")"
   ]
  },
  {
   "cell_type": "markdown",
   "id": "9428da6c",
   "metadata": {
    "papermill": {
     "duration": 0.004549,
     "end_time": "2022-07-05T06:47:50.472838",
     "exception": false,
     "start_time": "2022-07-05T06:47:50.468289",
     "status": "completed"
    },
    "tags": []
   },
   "source": [
    "### Record structure of inputs and outputs for ONNX model\n",
    "\n",
    "(this should likely be done in training notebook)"
   ]
  },
  {
   "cell_type": "code",
   "execution_count": 8,
   "id": "4bd78d00",
   "metadata": {
    "execution": {
     "iopub.execute_input": "2022-07-05T06:47:50.495054Z",
     "iopub.status.busy": "2022-07-05T06:47:50.494664Z",
     "iopub.status.idle": "2022-07-05T06:47:50.504058Z",
     "shell.execute_reply": "2022-07-05T06:47:50.503037Z"
    },
    "papermill": {
     "duration": 0.022171,
     "end_time": "2022-07-05T06:47:50.505757",
     "exception": false,
     "start_time": "2022-07-05T06:47:50.483586",
     "status": "completed"
    },
    "tags": []
   },
   "outputs": [
    {
     "name": "stdout",
     "output_type": "stream",
     "text": [
      "{\n",
      "  \"inputs\": [\n",
      "    {\n",
      "      \"name\": \"float_input_8x8_image\",\n",
      "      \"shape\": [\n",
      "        null,\n",
      "        64\n",
      "      ],\n",
      "      \"type\": \"tensor(float)\"\n",
      "    }\n",
      "  ],\n",
      "  \"outputs\": [\n",
      "    {\n",
      "      \"name\": \"output_label\",\n",
      "      \"shape\": [\n",
      "        null\n",
      "      ],\n",
      "      \"type\": \"tensor(int64)\"\n",
      "    },\n",
      "    {\n",
      "      \"name\": \"output_probability\",\n",
      "      \"shape\": [],\n",
      "      \"type\": \"seq(map(int64,tensor(float)))\"\n",
      "    }\n",
      "  ]\n",
      "}\n"
     ]
    }
   ],
   "source": [
    "import json\n",
    "\n",
    "onnx_io = json.dumps(\n",
    "    {\n",
    "        \"inputs\": get_onnx_inputs(onnx_inference_session),\n",
    "        \"outputs\": get_onnx_outputs(onnx_inference_session),\n",
    "    },\n",
    "    indent=2,\n",
    ")\n",
    "\n",
    "\n",
    "logger.log_artefact(\"onnx_io_structure.json\", onnx_io)\n",
    "print(onnx_io)"
   ]
  },
  {
   "cell_type": "markdown",
   "id": "a70e128c",
   "metadata": {
    "papermill": {
     "duration": 0.004963,
     "end_time": "2022-07-05T06:47:50.515357",
     "exception": false,
     "start_time": "2022-07-05T06:47:50.510394",
     "status": "completed"
    },
    "tags": []
   },
   "source": [
    "### Evaluate model performance on evaluation data set"
   ]
  },
  {
   "cell_type": "code",
   "execution_count": 9,
   "id": "405079b9",
   "metadata": {
    "execution": {
     "iopub.execute_input": "2022-07-05T06:47:50.526489Z",
     "iopub.status.busy": "2022-07-05T06:47:50.526166Z",
     "iopub.status.idle": "2022-07-05T06:47:50.531209Z",
     "shell.execute_reply": "2022-07-05T06:47:50.530664Z"
    },
    "papermill": {
     "duration": 0.014015,
     "end_time": "2022-07-05T06:47:50.534439",
     "exception": false,
     "start_time": "2022-07-05T06:47:50.520424",
     "status": "completed"
    },
    "tags": []
   },
   "outputs": [],
   "source": [
    "# load evaluation data\n",
    "X_test = read_numpy(datalake_root(P) / \"test-data\" / \"digits.numpy\")\n",
    "y_test = read_numpy(datalake_root(P) / \"test-data\" / \"labels.numpy\")"
   ]
  },
  {
   "cell_type": "code",
   "execution_count": 10,
   "id": "d64f4585",
   "metadata": {
    "execution": {
     "iopub.execute_input": "2022-07-05T06:47:50.545024Z",
     "iopub.status.busy": "2022-07-05T06:47:50.544773Z",
     "iopub.status.idle": "2022-07-05T06:47:50.559601Z",
     "shell.execute_reply": "2022-07-05T06:47:50.558887Z"
    },
    "papermill": {
     "duration": 0.0219,
     "end_time": "2022-07-05T06:47:50.561360",
     "exception": false,
     "start_time": "2022-07-05T06:47:50.539460",
     "status": "completed"
    },
    "tags": []
   },
   "outputs": [],
   "source": [
    "def get_model_outputs(X, onnx_inference_session):\n",
    "    y_pred_labels, y_pred_map = onnx_inference_session.run(\n",
    "        [\"output_label\", \"output_probability\"],\n",
    "        {\"float_input_8x8_image\": X.astype(np.float32)},\n",
    "    )\n",
    "    y_pred_probs = np.array(\n",
    "        [[probabilities[digit] for digit in range(10)] for probabilities in y_pred_map]\n",
    "    )\n",
    "\n",
    "    assert y_pred_labels.shape == (X.shape[0],)\n",
    "    assert y_pred_probs.shape == (X.shape[0], 10)\n",
    "\n",
    "    return y_pred_labels, y_pred_probs\n",
    "\n",
    "\n",
    "# Note: as shown in the training notebook, the predicted labels and probabilities\n",
    "# computed below need not be compatible.\n",
    "y_pred_labels_test, y_pred_probs_test = get_model_outputs(\n",
    "    X_test, onnx_inference_session\n",
    ")"
   ]
  },
  {
   "cell_type": "markdown",
   "id": "11490ada",
   "metadata": {
    "papermill": {
     "duration": 0.004774,
     "end_time": "2022-07-05T06:47:50.571692",
     "exception": false,
     "start_time": "2022-07-05T06:47:50.566918",
     "status": "completed"
    },
    "tags": []
   },
   "source": [
    "### Confusion matrix"
   ]
  },
  {
   "cell_type": "code",
   "execution_count": 11,
   "id": "c511f525",
   "metadata": {
    "execution": {
     "iopub.execute_input": "2022-07-05T06:47:50.582676Z",
     "iopub.status.busy": "2022-07-05T06:47:50.582262Z",
     "iopub.status.idle": "2022-07-05T06:47:50.585508Z",
     "shell.execute_reply": "2022-07-05T06:47:50.584956Z"
    },
    "papermill": {
     "duration": 0.012388,
     "end_time": "2022-07-05T06:47:50.588581",
     "exception": false,
     "start_time": "2022-07-05T06:47:50.576193",
     "status": "completed"
    },
    "tags": []
   },
   "outputs": [],
   "source": [
    "# TODO"
   ]
  },
  {
   "cell_type": "markdown",
   "id": "164e9c97",
   "metadata": {
    "papermill": {
     "duration": 0.004815,
     "end_time": "2022-07-05T06:47:50.598589",
     "exception": false,
     "start_time": "2022-07-05T06:47:50.593774",
     "status": "completed"
    },
    "tags": []
   },
   "source": [
    "### Plot predicted probabilities for each classifier over all evaluation digit images"
   ]
  },
  {
   "cell_type": "code",
   "execution_count": 12,
   "id": "8ba9ff0a",
   "metadata": {
    "execution": {
     "iopub.execute_input": "2022-07-05T06:47:50.609031Z",
     "iopub.status.busy": "2022-07-05T06:47:50.608766Z",
     "iopub.status.idle": "2022-07-05T06:47:54.308755Z",
     "shell.execute_reply": "2022-07-05T06:47:54.308077Z"
    },
    "papermill": {
     "duration": 3.707402,
     "end_time": "2022-07-05T06:47:54.310550",
     "exception": false,
     "start_time": "2022-07-05T06:47:50.603148",
     "status": "completed"
    },
    "tags": []
   },
   "outputs": [
    {
     "data": {
      "image/png": "[encoded data removed]",
      "text/plain": [
       "<Figure size 1152x432 with 10 Axes>"
      ]
     },
     "metadata": {
      "needs_background": "light"
     },
     "output_type": "display_data"
    }
   ],
   "source": [
    "def plot_per_digit_probabilities(y_pred_probs):\n",
    "    fig, axs = plt.subplots(nrows=2, ncols=5, figsize=(16, 6))\n",
    "\n",
    "    for (r, c), digit, ax in zip(\n",
    "        it.product(range(2), range(5)), range(10), axs.reshape(-1)\n",
    "    ):\n",
    "        ax.hist(y_pred_probs_test[:, digit], bins=20)\n",
    "\n",
    "        ax.set_title(f\"Digit {digit}\")\n",
    "        if r == 1 and c == 2:\n",
    "            ax.set_xlabel(\"probability\", fontsize=16)\n",
    "\n",
    "        if c == 0:\n",
    "            ax.set_ylabel(\"counts\", fontsize=16)\n",
    "        ax.set_yscale(\"log\")\n",
    "\n",
    "    fig.tight_layout()\n",
    "    fig.suptitle(\n",
    "        f\"Distributions of prediction probabilities for each digit \"\n",
    "        f\"(on evaluation data, n={y_pred_probs.shape[0]})\",\n",
    "        fontsize=20,\n",
    "    )\n",
    "    fig.tight_layout()\n",
    "    fig.show()\n",
    "\n",
    "    return fig\n",
    "\n",
    "\n",
    "fig = plot_per_digit_probabilities(y_pred_probs_test)"
   ]
  },
  {
   "cell_type": "markdown",
   "id": "2db21157",
   "metadata": {
    "papermill": {
     "duration": 0.005325,
     "end_time": "2022-07-05T06:47:54.321386",
     "exception": false,
     "start_time": "2022-07-05T06:47:54.316061",
     "status": "completed"
    },
    "tags": []
   },
   "source": [
    "From the above distributions we see that most digits have clear separation between\n",
    "high and lower probabilities. Morover, in each case there is roughly an order of\n",
    "magnitude more of digits with low probabilities. This is compatible with digits\n",
    "being roughly evenly distributed in the data."
   ]
  },
  {
   "cell_type": "code",
   "execution_count": 13,
   "id": "bf1f3985",
   "metadata": {
    "execution": {
     "iopub.execute_input": "2022-07-05T06:47:54.332245Z",
     "iopub.status.busy": "2022-07-05T06:47:54.331758Z",
     "iopub.status.idle": "2022-07-05T06:47:54.747894Z",
     "shell.execute_reply": "2022-07-05T06:47:54.747260Z"
    },
    "papermill": {
     "duration": 0.42377,
     "end_time": "2022-07-05T06:47:54.750046",
     "exception": false,
     "start_time": "2022-07-05T06:47:54.326276",
     "status": "completed"
    },
    "tags": []
   },
   "outputs": [],
   "source": [
    "logger.log_figure(\"per-digit-probabilities.png\", fig)"
   ]
  },
  {
   "cell_type": "markdown",
   "id": "3f47e426",
   "metadata": {
    "papermill": {
     "duration": 0.0047,
     "end_time": "2022-07-05T06:47:54.760101",
     "exception": false,
     "start_time": "2022-07-05T06:47:54.755401",
     "status": "completed"
    },
    "tags": []
   },
   "source": [
    "### Plot ROC curves for individual one-vs-rest classifiers"
   ]
  },
  {
   "cell_type": "code",
   "execution_count": 14,
   "id": "db5f01f9",
   "metadata": {
    "execution": {
     "iopub.execute_input": "2022-07-05T06:47:54.775516Z",
     "iopub.status.busy": "2022-07-05T06:47:54.775220Z",
     "iopub.status.idle": "2022-07-05T06:47:55.084552Z",
     "shell.execute_reply": "2022-07-05T06:47:55.083681Z"
    },
    "papermill": {
     "duration": 0.32154,
     "end_time": "2022-07-05T06:47:55.086446",
     "exception": false,
     "start_time": "2022-07-05T06:47:54.764906",
     "status": "completed"
    },
    "tags": []
   },
   "outputs": [],
   "source": [
    "from sklearn import metrics"
   ]
  },
  {
   "cell_type": "code",
   "execution_count": 15,
   "id": "5abfe138",
   "metadata": {
    "execution": {
     "iopub.execute_input": "2022-07-05T06:47:55.099060Z",
     "iopub.status.busy": "2022-07-05T06:47:55.098702Z",
     "iopub.status.idle": "2022-07-05T06:47:56.327089Z",
     "shell.execute_reply": "2022-07-05T06:47:56.326531Z"
    },
    "papermill": {
     "duration": 1.237156,
     "end_time": "2022-07-05T06:47:56.328650",
     "exception": false,
     "start_time": "2022-07-05T06:47:55.091494",
     "status": "completed"
    },
    "tags": []
   },
   "outputs": [
    {
     "data": {
      "image/png": "[encoded data removed]",
      "text/plain": [
       "<Figure size 1152x576 with 10 Axes>"
      ]
     },
     "metadata": {
      "needs_background": "light"
     },
     "output_type": "display_data"
    }
   ],
   "source": [
    "def plot_roc_curves(y, y_pred_probs):\n",
    "    # based on example code\n",
    "    # https://scikit-learn.org/stable/auto_examples/model_selection/plot_roc.html\n",
    "\n",
    "    fig, axs = plt.subplots(nrows=2, ncols=5, figsize=(16, 8))\n",
    "\n",
    "    roc_auc_dict = {}\n",
    "\n",
    "    for (r, c), digit, ax in zip(\n",
    "        it.product(range(2), range(5)), range(10), axs.reshape(-1)\n",
    "    ):\n",
    "        fpr, tpr, _ = metrics.roc_curve(y == digit, y_pred_probs[:, digit])\n",
    "        auc = metrics.auc(fpr, tpr)\n",
    "        roc_auc_dict[str(digit)] = auc\n",
    "\n",
    "        ax.plot(fpr, tpr, label=f\"ROC AUC={round(auc, 3)}\")\n",
    "\n",
    "        ax.set_title(f\"\\nDigit {digit}\", fontsize=16)\n",
    "        if r == 1:\n",
    "            ax.set_xlabel(\"FPR\", fontsize=18)\n",
    "\n",
    "        if c == 0:\n",
    "            ax.set_ylabel(\"TPR\", fontsize=18)\n",
    "\n",
    "        ax.set_xlim([-0.05, 1.05])\n",
    "        ax.set_ylim([-0.05, 1.05])\n",
    "        ax.legend(loc=\"lower right\", frameon=False, fontsize=14)\n",
    "\n",
    "    fig.tight_layout()\n",
    "    fig.suptitle(\n",
    "        f\"ROC plots for one-vs-rest performances \"\n",
    "        f\"(on evaluation data, n={y_pred_probs_test.shape[1]}\",\n",
    "        fontsize=22,\n",
    "    )\n",
    "    fig.tight_layout()\n",
    "    fig.show()\n",
    "\n",
    "    return roc_auc_dict, fig\n",
    "\n",
    "\n",
    "roc_auc_dict, fig = plot_roc_curves(y_test, y_pred_probs_test)"
   ]
  },
  {
   "cell_type": "code",
   "execution_count": 16,
   "id": "9e93ac3d",
   "metadata": {
    "execution": {
     "iopub.execute_input": "2022-07-05T06:47:56.341676Z",
     "iopub.status.busy": "2022-07-05T06:47:56.341305Z",
     "iopub.status.idle": "2022-07-05T06:47:56.585576Z",
     "shell.execute_reply": "2022-07-05T06:47:56.584815Z"
    },
    "papermill": {
     "duration": 0.2527,
     "end_time": "2022-07-05T06:47:56.587416",
     "exception": false,
     "start_time": "2022-07-05T06:47:56.334716",
     "status": "completed"
    },
    "tags": []
   },
   "outputs": [],
   "source": [
    "logger.log_figure(\"per-digit-roc-curves.png\", fig)"
   ]
  },
  {
   "cell_type": "code",
   "execution_count": 17,
   "id": "b329bc6f",
   "metadata": {
    "execution": {
     "iopub.execute_input": "2022-07-05T06:47:56.601098Z",
     "iopub.status.busy": "2022-07-05T06:47:56.600722Z",
     "iopub.status.idle": "2022-07-05T06:47:56.610642Z",
     "shell.execute_reply": "2022-07-05T06:47:56.605116Z"
    },
    "papermill": {
     "duration": 0.022081,
     "end_time": "2022-07-05T06:47:56.615786",
     "exception": false,
     "start_time": "2022-07-05T06:47:56.593705",
     "status": "completed"
    },
    "tags": []
   },
   "outputs": [
    {
     "data": {
      "text/plain": [
       "{'0': 1.0,\n",
       " '1': 0.9992877225866916,\n",
       " '2': 1.0,\n",
       " '3': 0.9998500468603562,\n",
       " '4': 0.9991236092059138,\n",
       " '5': 0.998912839737582,\n",
       " '6': 0.999923792104862,\n",
       " '7': 0.9998475842097241,\n",
       " '8': 0.994561790668348,\n",
       " '9': 0.9987806736777931}"
      ]
     },
     "execution_count": 17,
     "metadata": {},
     "output_type": "execute_result"
    }
   ],
   "source": [
    "roc_auc_dict"
   ]
  },
  {
   "cell_type": "code",
   "execution_count": 18,
   "id": "66b31dbc",
   "metadata": {
    "execution": {
     "iopub.execute_input": "2022-07-05T06:47:56.632641Z",
     "iopub.status.busy": "2022-07-05T06:47:56.632260Z",
     "iopub.status.idle": "2022-07-05T06:47:56.636890Z",
     "shell.execute_reply": "2022-07-05T06:47:56.636314Z"
    },
    "papermill": {
     "duration": 0.016731,
     "end_time": "2022-07-05T06:47:56.642430",
     "exception": false,
     "start_time": "2022-07-05T06:47:56.625699",
     "status": "completed"
    },
    "tags": []
   },
   "outputs": [
    {
     "name": "stdout",
     "output_type": "stream",
     "text": [
      " - Logging roc_auc_per_digit (json) : {'0': 1.0, '1': 0.9992877225866916, '2': 1.0, '3': 0.9998500468603562, '4': 0.9991236092059138, '5': 0.998912839737582, '6': 0.999923792104862, '7': 0.9998475842097241, '8': 0.994561790668348, '9': 0.9987806736777931}\n"
     ]
    }
   ],
   "source": [
    "logger.log_value(\"roc_auc_per_digit\", roc_auc_dict)"
   ]
  },
  {
   "cell_type": "markdown",
   "id": "95c46ff8",
   "metadata": {
    "papermill": {
     "duration": 0.006375,
     "end_time": "2022-07-05T06:47:56.654726",
     "exception": false,
     "start_time": "2022-07-05T06:47:56.648351",
     "status": "completed"
    },
    "tags": []
   },
   "source": [
    "### Compute and log mean ROC AUC score averaged over all digits"
   ]
  },
  {
   "cell_type": "code",
   "execution_count": 19,
   "id": "b6204b58",
   "metadata": {
    "execution": {
     "iopub.execute_input": "2022-07-05T06:47:56.668282Z",
     "iopub.status.busy": "2022-07-05T06:47:56.667982Z",
     "iopub.status.idle": "2022-07-05T06:47:56.684361Z",
     "shell.execute_reply": "2022-07-05T06:47:56.682904Z"
    },
    "papermill": {
     "duration": 0.025311,
     "end_time": "2022-07-05T06:47:56.686313",
     "exception": false,
     "start_time": "2022-07-05T06:47:56.661002",
     "status": "completed"
    },
    "tags": []
   },
   "outputs": [
    {
     "name": "stdout",
     "output_type": "stream",
     "text": [
      " - Logging roc_auc_class_mean (float) : 0.999028805905127\n"
     ]
    }
   ],
   "source": [
    "roc_auc_macro = np.mean(list(roc_auc_dict.values()))\n",
    "\n",
    "logger.log_float(\"roc_auc_class_mean\", roc_auc_macro)\n",
    "\n",
    "# assert that the same value can be computed directly using sklearn\n",
    "assert roc_auc_macro == metrics.roc_auc_score(\n",
    "    y_test, y_pred_probs_test, average=\"macro\", multi_class=\"ovr\"\n",
    ")"
   ]
  },
  {
   "cell_type": "code",
   "execution_count": 20,
   "id": "4e5d69d1",
   "metadata": {
    "execution": {
     "iopub.execute_input": "2022-07-05T06:47:56.699475Z",
     "iopub.status.busy": "2022-07-05T06:47:56.699128Z",
     "iopub.status.idle": "2022-07-05T06:47:56.702256Z",
     "shell.execute_reply": "2022-07-05T06:47:56.701576Z"
    },
    "lines_to_next_cell": 0,
    "papermill": {
     "duration": 0.012585,
     "end_time": "2022-07-05T06:47:56.704895",
     "exception": false,
     "start_time": "2022-07-05T06:47:56.692310",
     "status": "completed"
    },
    "tags": []
   },
   "outputs": [],
   "source": [
    "# ---"
   ]
  },
  {
   "cell_type": "code",
   "execution_count": null,
   "id": "c1705a4a",
   "metadata": {
    "papermill": {
     "duration": 0.006797,
     "end_time": "2022-07-05T06:47:56.717676",
     "exception": false,
     "start_time": "2022-07-05T06:47:56.710879",
     "status": "completed"
    },
    "tags": []
   },
   "outputs": [],
   "source": []
  }
 ],
 "metadata": {
  "jupytext": {
   "cell_metadata_filter": "tags,-all",
   "main_language": "python",
   "notebook_metadata_filter": "-all"
  },
  "language_info": {
   "codemirror_mode": {
    "name": "ipython",
    "version": 3
   },
   "file_extension": ".py",
   "mimetype": "text/x-python",
   "name": "python",
   "nbconvert_exporter": "python",
   "pygments_lexer": "ipython3",
   "version": "3.8.10"
  },
  "papermill": {
   "default_parameters": {},
   "duration": 9.887671,
   "end_time": "2022-07-05T06:47:57.751659",
   "environment_variables": {},
   "exception": null,
   "input_path": "/home/host_user/workspace/mnist-demo-pipeline/mnist-demo-pipeline/notebooks/temp-notebook-__3dln7w.ipynb",
   "output_path": "notebooks/benchmark-model.ipynb",
   "parameters": {
    "P": {
     "_opentelemetry_traceparent": "00-9a9aa49fd83112cc34c27f1dd20c1827-de9979a282e60dab-01",
     "pipeline.data_lake_root": "/pipeline-outputs/data-lake",
     "pipeline.github.actor": "matiasdahl",
     "pipeline.github.base_ref": "",
     "pipeline.github.event_name": "schedule",
     "pipeline.github.head_ref": "",
     "pipeline.github.job": "run-tests-pipeline-and-persist-pipeline-outputs",
     "pipeline.github.ref": "refs/heads/development",
     "pipeline.github.ref_name": "development",
     "pipeline.github.ref_type": "branch",
     "pipeline.github.repository": "pynb-dag-runner/mnist-digits-demo-pipeline",
     "pipeline.github.run_id": "2614272362",
     "pipeline.github.runner_name": "Hosted Agent",
     "pipeline.github.sha": "f934c58f68028b7bb026059d4e87e6d32a1bbd20",
     "pipeline.github.workflow": "Run automated tests, pipeline and deploy results to static reporting site",
     "pipeline.pipeline_run_id": "a1ba953f-9537-457d-9a41-ae0713378d2d",
     "pipeline.run_environment": "ci",
     "run.retry_nr": "0",
     "task.max_nr_retries": "1",
     "task.notebook": "notebooks/benchmark-model.py",
     "task.nr_train_images": 600,
     "task.num_cpus": 1,
     "task.timeout_s": "None"
    }
   },
   "start_time": "2022-07-05T06:47:47.863988",
   "version": "2.3.3"
  }
 },
 "nbformat": 4,
 "nbformat_minor": 5
}