{
 "cells": [
  {
   "cell_type": "markdown",
   "id": "a7e56cd5",
   "metadata": {
    "papermill": {
     "duration": 0.006547,
     "end_time": "2022-07-05T06:47:57.537777",
     "exception": false,
     "start_time": "2022-07-05T06:47:57.531230",
     "status": "completed"
    },
    "tags": []
   },
   "source": [
    "# Benchmark model\n",
    "\n",
    "The purpose of this notebook is to benchmark persisted onnx-model (trained in the\n",
    "previous step) against evaluation set."
   ]
  },
  {
   "cell_type": "markdown",
   "id": "c7969d48",
   "metadata": {
    "papermill": {
     "duration": 0.004342,
     "end_time": "2022-07-05T06:47:57.550219",
     "exception": false,
     "start_time": "2022-07-05T06:47:57.545877",
     "status": "completed"
    },
    "tags": []
   },
   "source": [
    "### Determine run parameters"
   ]
  },
  {
   "cell_type": "code",
   "execution_count": 1,
   "id": "cb76007b",
   "metadata": {
    "execution": {
     "iopub.execute_input": "2022-07-05T06:47:57.561265Z",
     "iopub.status.busy": "2022-07-05T06:47:57.560939Z",
     "iopub.status.idle": "2022-07-05T06:47:57.569594Z",
     "shell.execute_reply": "2022-07-05T06:47:57.569040Z"
    },
    "lines_to_next_cell": 0,
    "papermill": {
     "duration": 0.018078,
     "end_time": "2022-07-05T06:47:57.573691",
     "exception": false,
     "start_time": "2022-07-05T06:47:57.555613",
     "status": "completed"
    },
    "tags": []
   },
   "outputs": [],
   "source": [
    "# ----------------- Parameters for interactive development --------------\n",
    "P = {\n",
    "    \"pipeline.data_lake_root\": \"/pipeline-outputs/data-lake\",\n",
    "    \"task.nr_train_images\": 600,\n",
    "}"
   ]
  },
  {
   "cell_type": "code",
   "execution_count": 2,
   "id": "a2cad5c4",
   "metadata": {
    "execution": {
     "iopub.execute_input": "2022-07-05T06:47:57.584041Z",
     "iopub.status.busy": "2022-07-05T06:47:57.583017Z",
     "iopub.status.idle": "2022-07-05T06:47:57.587168Z",
     "shell.execute_reply": "2022-07-05T06:47:57.586530Z"
    },
    "lines_to_next_cell": 0,
    "papermill": {
     "duration": 0.01172,
     "end_time": "2022-07-05T06:47:57.589706",
     "exception": false,
     "start_time": "2022-07-05T06:47:57.577986",
     "status": "completed"
    },
    "tags": [
     "parameters"
    ]
   },
   "outputs": [],
   "source": [
    "# - During automated runs parameters will be injected in the below cell -"
   ]
  },
  {
   "cell_type": "code",
   "execution_count": 3,
   "id": "95032059",
   "metadata": {
    "execution": {
     "iopub.execute_input": "2022-07-05T06:47:57.600457Z",
     "iopub.status.busy": "2022-07-05T06:47:57.600229Z",
     "iopub.status.idle": "2022-07-05T06:47:57.605917Z",
     "shell.execute_reply": "2022-07-05T06:47:57.605135Z"
    },
    "papermill": {
     "duration": 0.014277,
     "end_time": "2022-07-05T06:47:57.608534",
     "exception": false,
     "start_time": "2022-07-05T06:47:57.594257",
     "status": "completed"
    },
    "tags": [
     "injected-parameters"
    ]
   },
   "outputs": [],
   "source": [
    "# Parameters\n",
    "P = {\n",
    "    \"pipeline.data_lake_root\": \"/pipeline-outputs/data-lake\",\n",
    "    \"pipeline.run_environment\": \"ci\",\n",
    "    \"pipeline.pipeline_run_id\": \"a1ba953f-9537-457d-9a41-ae0713378d2d\",\n",
    "    \"pipeline.github.repository\": \"pynb-dag-runner/mnist-digits-demo-pipeline\",\n",
    "    \"pipeline.github.workflow\": \"Run automated tests, pipeline and deploy results to static reporting site\",\n",
    "    \"pipeline.github.runner_name\": \"Hosted Agent\",\n",
    "    \"pipeline.github.run_id\": \"2614272362\",\n",
    "    \"pipeline.github.actor\": \"matiasdahl\",\n",
    "    \"pipeline.github.job\": \"run-tests-pipeline-and-persist-pipeline-outputs\",\n",
    "    \"pipeline.github.base_ref\": \"\",\n",
    "    \"pipeline.github.head_ref\": \"\",\n",
    "    \"pipeline.github.sha\": \"f934c58f68028b7bb026059d4e87e6d32a1bbd20\",\n",
    "    \"pipeline.github.ref\": \"refs/heads/development\",\n",
    "    \"pipeline.github.ref_type\": \"branch\",\n",
    "    \"pipeline.github.ref_name\": \"development\",\n",
    "    \"pipeline.github.event_name\": \"schedule\",\n",
    "    \"task.nr_train_images\": 1200,\n",
    "    \"task.notebook\": \"notebooks/benchmark-model.py\",\n",
    "    \"task.max_nr_retries\": \"1\",\n",
    "    \"run.retry_nr\": \"0\",\n",
    "    \"task.timeout_s\": \"None\",\n",
    "    \"task.num_cpus\": 1,\n",
    "    \"_opentelemetry_traceparent\": \"00-9a9aa49fd83112cc34c27f1dd20c1827-2b927cc43b8ee3b1-01\",\n",
    "}\n"
   ]
  },
  {
   "cell_type": "code",
   "execution_count": 4,
   "id": "08c83123",
   "metadata": {
    "execution": {
     "iopub.execute_input": "2022-07-05T06:47:57.627969Z",
     "iopub.status.busy": "2022-07-05T06:47:57.627693Z",
     "iopub.status.idle": "2022-07-05T06:47:57.630839Z",
     "shell.execute_reply": "2022-07-05T06:47:57.630276Z"
    },
    "lines_to_next_cell": 0,
    "papermill": {
     "duration": 0.02099,
     "end_time": "2022-07-05T06:47:57.633610",
     "exception": false,
     "start_time": "2022-07-05T06:47:57.612620",
     "status": "completed"
    },
    "tags": []
   },
   "outputs": [],
   "source": [
    "# -----------------------------------------------------------------------"
   ]
  },
  {
   "cell_type": "markdown",
   "id": "bc37fa5d",
   "metadata": {
    "papermill": {
     "duration": 0.011858,
     "end_time": "2022-07-05T06:47:57.650897",
     "exception": false,
     "start_time": "2022-07-05T06:47:57.639039",
     "status": "completed"
    },
    "tags": []
   },
   "source": [
    "---"
   ]
  },
  {
   "cell_type": "markdown",
   "id": "dff2ff42",
   "metadata": {
    "lines_to_next_cell": 2,
    "papermill": {
     "duration": 0.005115,
     "end_time": "2022-07-05T06:47:57.660682",
     "exception": false,
     "start_time": "2022-07-05T06:47:57.655567",
     "status": "completed"
    },
    "tags": []
   },
   "source": [
    "### Notebook code"
   ]
  },
  {
   "cell_type": "code",
   "execution_count": 5,
   "id": "2ea244bf",
   "metadata": {
    "execution": {
     "iopub.execute_input": "2022-07-05T06:47:57.672680Z",
     "iopub.status.busy": "2022-07-05T06:47:57.672401Z",
     "iopub.status.idle": "2022-07-05T06:47:58.833881Z",
     "shell.execute_reply": "2022-07-05T06:47:58.833018Z"
    },
    "papermill": {
     "duration": 1.169363,
     "end_time": "2022-07-05T06:47:58.835799",
     "exception": false,
     "start_time": "2022-07-05T06:47:57.666436",
     "status": "completed"
    },
    "tags": []
   },
   "outputs": [
    {
     "name": "stderr",
     "output_type": "stream",
     "text": [
      "2022-07-05 06:47:58,665\tINFO worker.py:842 -- Connecting to existing Ray cluster at address: 172.17.0.2:6379\n"
     ]
    }
   ],
   "source": [
    "import itertools as it\n",
    "\n",
    "#\n",
    "import numpy as np\n",
    "import matplotlib.pyplot as plt\n",
    "\n",
    "#\n",
    "from pynb_dag_runner.tasks.task_opentelemetry_logging import PydarLogger\n",
    "\n",
    "#\n",
    "from common.io import datalake_root\n",
    "\n",
    "logger = PydarLogger(P)"
   ]
  },
  {
   "cell_type": "markdown",
   "id": "2b2f7ee5",
   "metadata": {
    "papermill": {
     "duration": 0.004224,
     "end_time": "2022-07-05T06:47:58.844343",
     "exception": false,
     "start_time": "2022-07-05T06:47:58.840119",
     "status": "completed"
    },
    "tags": []
   },
   "source": [
    "## Load persisted onnx-model and evaluation data"
   ]
  },
  {
   "cell_type": "code",
   "execution_count": 6,
   "id": "fc34b36b",
   "metadata": {
    "execution": {
     "iopub.execute_input": "2022-07-05T06:47:58.853669Z",
     "iopub.status.busy": "2022-07-05T06:47:58.853274Z",
     "iopub.status.idle": "2022-07-05T06:47:58.857193Z",
     "shell.execute_reply": "2022-07-05T06:47:58.856627Z"
    },
    "papermill": {
     "duration": 0.011542,
     "end_time": "2022-07-05T06:47:58.859743",
     "exception": false,
     "start_time": "2022-07-05T06:47:58.848201",
     "status": "completed"
    },
    "tags": []
   },
   "outputs": [],
   "source": [
    "from common.io import read_onnx, get_onnx_inputs, get_onnx_outputs, read_numpy"
   ]
  },
  {
   "cell_type": "code",
   "execution_count": 7,
   "id": "25e4a7a5",
   "metadata": {
    "execution": {
     "iopub.execute_input": "2022-07-05T06:47:58.869674Z",
     "iopub.status.busy": "2022-07-05T06:47:58.869417Z",
     "iopub.status.idle": "2022-07-05T06:47:58.880271Z",
     "shell.execute_reply": "2022-07-05T06:47:58.879756Z"
    },
    "lines_to_next_cell": 0,
    "papermill": {
     "duration": 0.0181,
     "end_time": "2022-07-05T06:47:58.882314",
     "exception": false,
     "start_time": "2022-07-05T06:47:58.864214",
     "status": "completed"
    },
    "tags": []
   },
   "outputs": [],
   "source": [
    "onnx_inference_session = read_onnx(\n",
    "    datalake_root(P)\n",
    "    / \"models\"\n",
    "    / f\"nr_train_images={P['task.nr_train_images']}\"\n",
    "    / \"model.onnx\"\n",
    ")"
   ]
  },
  {
   "cell_type": "markdown",
   "id": "5c0dd0da",
   "metadata": {
    "papermill": {
     "duration": 0.005002,
     "end_time": "2022-07-05T06:47:58.891408",
     "exception": false,
     "start_time": "2022-07-05T06:47:58.886406",
     "status": "completed"
    },
    "tags": []
   },
   "source": [
    "### Record structure of inputs and outputs for ONNX model\n",
    "\n",
    "(this should likely be done in training notebook)"
   ]
  },
  {
   "cell_type": "code",
   "execution_count": 8,
   "id": "97822f1a",
   "metadata": {
    "execution": {
     "iopub.execute_input": "2022-07-05T06:47:58.901542Z",
     "iopub.status.busy": "2022-07-05T06:47:58.901297Z",
     "iopub.status.idle": "2022-07-05T06:47:58.907115Z",
     "shell.execute_reply": "2022-07-05T06:47:58.906578Z"
    },
    "papermill": {
     "duration": 0.015028,
     "end_time": "2022-07-05T06:47:58.910643",
     "exception": false,
     "start_time": "2022-07-05T06:47:58.895615",
     "status": "completed"
    },
    "tags": []
   },
   "outputs": [
    {
     "name": "stdout",
     "output_type": "stream",
     "text": [
      "{\n",
      "  \"inputs\": [\n",
      "    {\n",
      "      \"name\": \"float_input_8x8_image\",\n",
      "      \"shape\": [\n",
      "        null,\n",
      "        64\n",
      "      ],\n",
      "      \"type\": \"tensor(float)\"\n",
      "    }\n",
      "  ],\n",
      "  \"outputs\": [\n",
      "    {\n",
      "      \"name\": \"output_label\",\n",
      "      \"shape\": [\n",
      "        null\n",
      "      ],\n",
      "      \"type\": \"tensor(int64)\"\n",
      "    },\n",
      "    {\n",
      "      \"name\": \"output_probability\",\n",
      "      \"shape\": [],\n",
      "      \"type\": \"seq(map(int64,tensor(float)))\"\n",
      "    }\n",
      "  ]\n",
      "}\n"
     ]
    }
   ],
   "source": [
    "import json\n",
    "\n",
    "onnx_io = json.dumps(\n",
    "    {\n",
    "        \"inputs\": get_onnx_inputs(onnx_inference_session),\n",
    "        \"outputs\": get_onnx_outputs(onnx_inference_session),\n",
    "    },\n",
    "    indent=2,\n",
    ")\n",
    "\n",
    "\n",
    "logger.log_artefact(\"onnx_io_structure.json\", onnx_io)\n",
    "print(onnx_io)"
   ]
  },
  {
   "cell_type": "markdown",
   "id": "ab5bf28c",
   "metadata": {
    "papermill": {
     "duration": 0.004331,
     "end_time": "2022-07-05T06:47:58.919112",
     "exception": false,
     "start_time": "2022-07-05T06:47:58.914781",
     "status": "completed"
    },
    "tags": []
   },
   "source": [
    "### Evaluate model performance on evaluation data set"
   ]
  },
  {
   "cell_type": "code",
   "execution_count": 9,
   "id": "c7ffc0b4",
   "metadata": {
    "execution": {
     "iopub.execute_input": "2022-07-05T06:47:58.928661Z",
     "iopub.status.busy": "2022-07-05T06:47:58.928410Z",
     "iopub.status.idle": "2022-07-05T06:47:58.933476Z",
     "shell.execute_reply": "2022-07-05T06:47:58.932712Z"
    },
    "papermill": {
     "duration": 0.011883,
     "end_time": "2022-07-05T06:47:58.935173",
     "exception": false,
     "start_time": "2022-07-05T06:47:58.923290",
     "status": "completed"
    },
    "tags": []
   },
   "outputs": [],
   "source": [
    "# load evaluation data\n",
    "X_test = read_numpy(datalake_root(P) / \"test-data\" / \"digits.numpy\")\n",
    "y_test = read_numpy(datalake_root(P) / \"test-data\" / \"labels.numpy\")"
   ]
  },
  {
   "cell_type": "code",
   "execution_count": 10,
   "id": "aa795961",
   "metadata": {
    "execution": {
     "iopub.execute_input": "2022-07-05T06:47:58.944800Z",
     "iopub.status.busy": "2022-07-05T06:47:58.944575Z",
     "iopub.status.idle": "2022-07-05T06:47:58.957523Z",
     "shell.execute_reply": "2022-07-05T06:47:58.957008Z"
    },
    "papermill": {
     "duration": 0.019635,
     "end_time": "2022-07-05T06:47:58.959054",
     "exception": false,
     "start_time": "2022-07-05T06:47:58.939419",
     "status": "completed"
    },
    "tags": []
   },
   "outputs": [],
   "source": [
    "def get_model_outputs(X, onnx_inference_session):\n",
    "    y_pred_labels, y_pred_map = onnx_inference_session.run(\n",
    "        [\"output_label\", \"output_probability\"],\n",
    "        {\"float_input_8x8_image\": X.astype(np.float32)},\n",
    "    )\n",
    "    y_pred_probs = np.array(\n",
    "        [[probabilities[digit] for digit in range(10)] for probabilities in y_pred_map]\n",
    "    )\n",
    "\n",
    "    assert y_pred_labels.shape == (X.shape[0],)\n",
    "    assert y_pred_probs.shape == (X.shape[0], 10)\n",
    "\n",
    "    return y_pred_labels, y_pred_probs\n",
    "\n",
    "\n",
    "# Note: as shown in the training notebook, the predicted labels and probabilities\n",
    "# computed below need not be compatible.\n",
    "y_pred_labels_test, y_pred_probs_test = get_model_outputs(\n",
    "    X_test, onnx_inference_session\n",
    ")"
   ]
  },
  {
   "cell_type": "markdown",
   "id": "97494899",
   "metadata": {
    "papermill": {
     "duration": 0.004811,
     "end_time": "2022-07-05T06:47:58.967815",
     "exception": false,
     "start_time": "2022-07-05T06:47:58.963004",
     "status": "completed"
    },
    "tags": []
   },
   "source": [
    "### Confusion matrix"
   ]
  },
  {
   "cell_type": "code",
   "execution_count": 11,
   "id": "2675b068",
   "metadata": {
    "execution": {
     "iopub.execute_input": "2022-07-05T06:47:58.977525Z",
     "iopub.status.busy": "2022-07-05T06:47:58.977260Z",
     "iopub.status.idle": "2022-07-05T06:47:58.980350Z",
     "shell.execute_reply": "2022-07-05T06:47:58.979684Z"
    },
    "papermill": {
     "duration": 0.010249,
     "end_time": "2022-07-05T06:47:58.982259",
     "exception": false,
     "start_time": "2022-07-05T06:47:58.972010",
     "status": "completed"
    },
    "tags": []
   },
   "outputs": [],
   "source": [
    "# TODO"
   ]
  },
  {
   "cell_type": "markdown",
   "id": "daf19178",
   "metadata": {
    "papermill": {
     "duration": 0.003933,
     "end_time": "2022-07-05T06:47:58.991001",
     "exception": false,
     "start_time": "2022-07-05T06:47:58.987068",
     "status": "completed"
    },
    "tags": []
   },
   "source": [
    "### Plot predicted probabilities for each classifier over all evaluation digit images"
   ]
  },
  {
   "cell_type": "code",
   "execution_count": 12,
   "id": "a2eb3a2b",
   "metadata": {
    "execution": {
     "iopub.execute_input": "2022-07-05T06:47:59.002563Z",
     "iopub.status.busy": "2022-07-05T06:47:59.002220Z",
     "iopub.status.idle": "2022-07-05T06:48:02.307370Z",
     "shell.execute_reply": "2022-07-05T06:48:02.306669Z"
    },
    "papermill": {
     "duration": 3.312466,
     "end_time": "2022-07-05T06:48:02.308925",
     "exception": false,
     "start_time": "2022-07-05T06:47:58.996459",
     "status": "completed"
    },
    "tags": []
   },
   "outputs": [
    {
     "data": {
      "image/png": "[encoded data removed]",
      "text/plain": [
       "<Figure size 1152x432 with 10 Axes>"
      ]
     },
     "metadata": {
      "needs_background": "light"
     },
     "output_type": "display_data"
    }
   ],
   "source": [
    "def plot_per_digit_probabilities(y_pred_probs):\n",
    "    fig, axs = plt.subplots(nrows=2, ncols=5, figsize=(16, 6))\n",
    "\n",
    "    for (r, c), digit, ax in zip(\n",
    "        it.product(range(2), range(5)), range(10), axs.reshape(-1)\n",
    "    ):\n",
    "        ax.hist(y_pred_probs_test[:, digit], bins=20)\n",
    "\n",
    "        ax.set_title(f\"Digit {digit}\")\n",
    "        if r == 1 and c == 2:\n",
    "            ax.set_xlabel(\"probability\", fontsize=16)\n",
    "\n",
    "        if c == 0:\n",
    "            ax.set_ylabel(\"counts\", fontsize=16)\n",
    "        ax.set_yscale(\"log\")\n",
    "\n",
    "    fig.tight_layout()\n",
    "    fig.suptitle(\n",
    "        f\"Distributions of prediction probabilities for each digit \"\n",
    "        f\"(on evaluation data, n={y_pred_probs.shape[0]})\",\n",
    "        fontsize=20,\n",
    "    )\n",
    "    fig.tight_layout()\n",
    "    fig.show()\n",
    "\n",
    "    return fig\n",
    "\n",
    "\n",
    "fig = plot_per_digit_probabilities(y_pred_probs_test)"
   ]
  },
  {
   "cell_type": "markdown",
   "id": "5c5789c6",
   "metadata": {
    "papermill": {
     "duration": 0.00453,
     "end_time": "2022-07-05T06:48:02.318715",
     "exception": false,
     "start_time": "2022-07-05T06:48:02.314185",
     "status": "completed"
    },
    "tags": []
   },
   "source": [
    "From the above distributions we see that most digits have clear separation between\n",
    "high and lower probabilities. Morover, in each case there is roughly an order of\n",
    "magnitude more of digits with low probabilities. This is compatible with digits\n",
    "being roughly evenly distributed in the data."
   ]
  },
  {
   "cell_type": "code",
   "execution_count": 13,
   "id": "3dea12e9",
   "metadata": {
    "execution": {
     "iopub.execute_input": "2022-07-05T06:48:02.329640Z",
     "iopub.status.busy": "2022-07-05T06:48:02.329330Z",
     "iopub.status.idle": "2022-07-05T06:48:02.772714Z",
     "shell.execute_reply": "2022-07-05T06:48:02.772092Z"
    },
    "papermill": {
     "duration": 0.450899,
     "end_time": "2022-07-05T06:48:02.774453",
     "exception": false,
     "start_time": "2022-07-05T06:48:02.323554",
     "status": "completed"
    },
    "tags": []
   },
   "outputs": [],
   "source": [
    "logger.log_figure(\"per-digit-probabilities.png\", fig)"
   ]
  },
  {
   "cell_type": "markdown",
   "id": "2f331f64",
   "metadata": {
    "papermill": {
     "duration": 0.005003,
     "end_time": "2022-07-05T06:48:02.784697",
     "exception": false,
     "start_time": "2022-07-05T06:48:02.779694",
     "status": "completed"
    },
    "tags": []
   },
   "source": [
    "### Plot ROC curves for individual one-vs-rest classifiers"
   ]
  },
  {
   "cell_type": "code",
   "execution_count": 14,
   "id": "90c1d263",
   "metadata": {
    "execution": {
     "iopub.execute_input": "2022-07-05T06:48:02.796212Z",
     "iopub.status.busy": "2022-07-05T06:48:02.795686Z",
     "iopub.status.idle": "2022-07-05T06:48:03.184192Z",
     "shell.execute_reply": "2022-07-05T06:48:03.183424Z"
    },
    "papermill": {
     "duration": 0.39658,
     "end_time": "2022-07-05T06:48:03.186404",
     "exception": false,
     "start_time": "2022-07-05T06:48:02.789824",
     "status": "completed"
    },
    "tags": []
   },
   "outputs": [],
   "source": [
    "from sklearn import metrics"
   ]
  },
  {
   "cell_type": "code",
   "execution_count": 15,
   "id": "dd7a20b4",
   "metadata": {
    "execution": {
     "iopub.execute_input": "2022-07-05T06:48:03.199173Z",
     "iopub.status.busy": "2022-07-05T06:48:03.198757Z",
     "iopub.status.idle": "2022-07-05T06:48:04.257863Z",
     "shell.execute_reply": "2022-07-05T06:48:04.257246Z"
    },
    "papermill": {
     "duration": 1.067914,
     "end_time": "2022-07-05T06:48:04.259511",
     "exception": false,
     "start_time": "2022-07-05T06:48:03.191597",
     "status": "completed"
    },
    "tags": []
   },
   "outputs": [
    {
     "data": {
      "image/png": "[encoded data removed]",
      "text/plain": [
       "<Figure size 1152x576 with 10 Axes>"
      ]
     },
     "metadata": {
      "needs_background": "light"
     },
     "output_type": "display_data"
    }
   ],
   "source": [
    "def plot_roc_curves(y, y_pred_probs):\n",
    "    # based on example code\n",
    "    # https://scikit-learn.org/stable/auto_examples/model_selection/plot_roc.html\n",
    "\n",
    "    fig, axs = plt.subplots(nrows=2, ncols=5, figsize=(16, 8))\n",
    "\n",
    "    roc_auc_dict = {}\n",
    "\n",
    "    for (r, c), digit, ax in zip(\n",
    "        it.product(range(2), range(5)), range(10), axs.reshape(-1)\n",
    "    ):\n",
    "        fpr, tpr, _ = metrics.roc_curve(y == digit, y_pred_probs[:, digit])\n",
    "        auc = metrics.auc(fpr, tpr)\n",
    "        roc_auc_dict[str(digit)] = auc\n",
    "\n",
    "        ax.plot(fpr, tpr, label=f\"ROC AUC={round(auc, 3)}\")\n",
    "\n",
    "        ax.set_title(f\"\\nDigit {digit}\", fontsize=16)\n",
    "        if r == 1:\n",
    "            ax.set_xlabel(\"FPR\", fontsize=18)\n",
    "\n",
    "        if c == 0:\n",
    "            ax.set_ylabel(\"TPR\", fontsize=18)\n",
    "\n",
    "        ax.set_xlim([-0.05, 1.05])\n",
    "        ax.set_ylim([-0.05, 1.05])\n",
    "        ax.legend(loc=\"lower right\", frameon=False, fontsize=14)\n",
    "\n",
    "    fig.tight_layout()\n",
    "    fig.suptitle(\n",
    "        f\"ROC plots for one-vs-rest performances \"\n",
    "        f\"(on evaluation data, n={y_pred_probs_test.shape[1]}\",\n",
    "        fontsize=22,\n",
    "    )\n",
    "    fig.tight_layout()\n",
    "    fig.show()\n",
    "\n",
    "    return roc_auc_dict, fig\n",
    "\n",
    "\n",
    "roc_auc_dict, fig = plot_roc_curves(y_test, y_pred_probs_test)"
   ]
  },
  {
   "cell_type": "code",
   "execution_count": 16,
   "id": "f51894cc",
   "metadata": {
    "execution": {
     "iopub.execute_input": "2022-07-05T06:48:04.271968Z",
     "iopub.status.busy": "2022-07-05T06:48:04.271705Z",
     "iopub.status.idle": "2022-07-05T06:48:04.505620Z",
     "shell.execute_reply": "2022-07-05T06:48:04.505036Z"
    },
    "papermill": {
     "duration": 0.242511,
     "end_time": "2022-07-05T06:48:04.507764",
     "exception": false,
     "start_time": "2022-07-05T06:48:04.265253",
     "status": "completed"
    },
    "tags": []
   },
   "outputs": [],
   "source": [
    "logger.log_figure(\"per-digit-roc-curves.png\", fig)"
   ]
  },
  {
   "cell_type": "code",
   "execution_count": 17,
   "id": "6510ab40",
   "metadata": {
    "execution": {
     "iopub.execute_input": "2022-07-05T06:48:04.524111Z",
     "iopub.status.busy": "2022-07-05T06:48:04.523668Z",
     "iopub.status.idle": "2022-07-05T06:48:04.529567Z",
     "shell.execute_reply": "2022-07-05T06:48:04.528805Z"
    },
    "papermill": {
     "duration": 0.018696,
     "end_time": "2022-07-05T06:48:04.534084",
     "exception": false,
     "start_time": "2022-07-05T06:48:04.515388",
     "status": "completed"
    },
    "tags": []
   },
   "outputs": [
    {
     "data": {
      "text/plain": [
       "{'0': 1.0,\n",
       " '1': 0.9991002811621369,\n",
       " '2': 1.0,\n",
       " '3': 0.9998875351452671,\n",
       " '4': 0.9997332723670173,\n",
       " '5': 0.9997000937207123,\n",
       " '6': 0.999923792104862,\n",
       " '7': 0.9998475842097242,\n",
       " '8': 0.9957046027742749,\n",
       " '9': 0.9997332723670171}"
      ]
     },
     "execution_count": 17,
     "metadata": {},
     "output_type": "execute_result"
    }
   ],
   "source": [
    "roc_auc_dict"
   ]
  },
  {
   "cell_type": "code",
   "execution_count": 18,
   "id": "a0bfef03",
   "metadata": {
    "execution": {
     "iopub.execute_input": "2022-07-05T06:48:04.547753Z",
     "iopub.status.busy": "2022-07-05T06:48:04.547474Z",
     "iopub.status.idle": "2022-07-05T06:48:04.553023Z",
     "shell.execute_reply": "2022-07-05T06:48:04.552448Z"
    },
    "papermill": {
     "duration": 0.016699,
     "end_time": "2022-07-05T06:48:04.556791",
     "exception": false,
     "start_time": "2022-07-05T06:48:04.540092",
     "status": "completed"
    },
    "tags": []
   },
   "outputs": [
    {
     "name": "stdout",
     "output_type": "stream",
     "text": [
      " - Logging roc_auc_per_digit (json) : {'0': 1.0, '1': 0.9991002811621369, '2': 1.0, '3': 0.9998875351452671, '4': 0.9997332723670173, '5': 0.9997000937207123, '6': 0.999923792104862, '7': 0.9998475842097242, '8': 0.9957046027742749, '9': 0.9997332723670171}\n"
     ]
    }
   ],
   "source": [
    "logger.log_value(\"roc_auc_per_digit\", roc_auc_dict)"
   ]
  },
  {
   "cell_type": "markdown",
   "id": "61db297a",
   "metadata": {
    "papermill": {
     "duration": 0.006169,
     "end_time": "2022-07-05T06:48:04.569475",
     "exception": false,
     "start_time": "2022-07-05T06:48:04.563306",
     "status": "completed"
    },
    "tags": []
   },
   "source": [
    "### Compute and log mean ROC AUC score averaged over all digits"
   ]
  },
  {
   "cell_type": "code",
   "execution_count": 19,
   "id": "e6350ac1",
   "metadata": {
    "execution": {
     "iopub.execute_input": "2022-07-05T06:48:04.584026Z",
     "iopub.status.busy": "2022-07-05T06:48:04.583723Z",
     "iopub.status.idle": "2022-07-05T06:48:04.598561Z",
     "shell.execute_reply": "2022-07-05T06:48:04.597956Z"
    },
    "papermill": {
     "duration": 0.024251,
     "end_time": "2022-07-05T06:48:04.600336",
     "exception": false,
     "start_time": "2022-07-05T06:48:04.576085",
     "status": "completed"
    },
    "tags": []
   },
   "outputs": [
    {
     "name": "stdout",
     "output_type": "stream",
     "text": [
      " - Logging roc_auc_class_mean (float) : 0.9993630433851012\n"
     ]
    }
   ],
   "source": [
    "roc_auc_macro = np.mean(list(roc_auc_dict.values()))\n",
    "\n",
    "logger.log_float(\"roc_auc_class_mean\", roc_auc_macro)\n",
    "\n",
    "# assert that the same value can be computed directly using sklearn\n",
    "assert roc_auc_macro == metrics.roc_auc_score(\n",
    "    y_test, y_pred_probs_test, average=\"macro\", multi_class=\"ovr\"\n",
    ")"
   ]
  },
  {
   "cell_type": "code",
   "execution_count": 20,
   "id": "3cad820b",
   "metadata": {
    "execution": {
     "iopub.execute_input": "2022-07-05T06:48:04.615272Z",
     "iopub.status.busy": "2022-07-05T06:48:04.614976Z",
     "iopub.status.idle": "2022-07-05T06:48:04.618201Z",
     "shell.execute_reply": "2022-07-05T06:48:04.617648Z"
    },
    "lines_to_next_cell": 0,
    "papermill": {
     "duration": 0.0143,
     "end_time": "2022-07-05T06:48:04.621648",
     "exception": false,
     "start_time": "2022-07-05T06:48:04.607348",
     "status": "completed"
    },
    "tags": []
   },
   "outputs": [],
   "source": [
    "# ---"
   ]
  },
  {
   "cell_type": "code",
   "execution_count": null,
   "id": "d7b01c84",
   "metadata": {
    "papermill": {
     "duration": 0.00652,
     "end_time": "2022-07-05T06:48:04.634235",
     "exception": false,
     "start_time": "2022-07-05T06:48:04.627715",
     "status": "completed"
    },
    "tags": []
   },
   "outputs": [],
   "source": []
  }
 ],
 "metadata": {
  "jupytext": {
   "cell_metadata_filter": "tags,-all",
   "main_language": "python",
   "notebook_metadata_filter": "-all"
  },
  "language_info": {
   "codemirror_mode": {
    "name": "ipython",
    "version": 3
   },
   "file_extension": ".py",
   "mimetype": "text/x-python",
   "name": "python",
   "nbconvert_exporter": "python",
   "pygments_lexer": "ipython3",
   "version": "3.8.10"
  },
  "papermill": {
   "default_parameters": {},
   "duration": 9.464194,
   "end_time": "2022-07-05T06:48:05.765152",
   "environment_variables": {},
   "exception": null,
   "input_path": "/home/host_user/workspace/mnist-demo-pipeline/mnist-demo-pipeline/notebooks/temp-notebook-f3vpymh1.ipynb",
   "output_path": "notebooks/benchmark-model.ipynb",
   "parameters": {
    "P": {
     "_opentelemetry_traceparent": "00-9a9aa49fd83112cc34c27f1dd20c1827-2b927cc43b8ee3b1-01",
     "pipeline.data_lake_root": "/pipeline-outputs/data-lake",
     "pipeline.github.actor": "matiasdahl",
     "pipeline.github.base_ref": "",
     "pipeline.github.event_name": "schedule",
     "pipeline.github.head_ref": "",
     "pipeline.github.job": "run-tests-pipeline-and-persist-pipeline-outputs",
     "pipeline.github.ref": "refs/heads/development",
     "pipeline.github.ref_name": "development",
     "pipeline.github.ref_type": "branch",
     "pipeline.github.repository": "pynb-dag-runner/mnist-digits-demo-pipeline",
     "pipeline.github.run_id": "2614272362",
     "pipeline.github.runner_name": "Hosted Agent",
     "pipeline.github.sha": "f934c58f68028b7bb026059d4e87e6d32a1bbd20",
     "pipeline.github.workflow": "Run automated tests, pipeline and deploy results to static reporting site",
     "pipeline.pipeline_run_id": "a1ba953f-9537-457d-9a41-ae0713378d2d",
     "pipeline.run_environment": "ci",
     "run.retry_nr": "0",
     "task.max_nr_retries": "1",
     "task.notebook": "notebooks/benchmark-model.py",
     "task.nr_train_images": 1200,
     "task.num_cpus": 1,
     "task.timeout_s": "None"
    }
   },
   "start_time": "2022-07-05T06:47:56.300958",
   "version": "2.3.3"
  }
 },
 "nbformat": 4,
 "nbformat_minor": 5
}