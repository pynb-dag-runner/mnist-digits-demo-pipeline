{
 "cells": [
  {
   "cell_type": "markdown",
   "id": "64446d64",
   "metadata": {
    "papermill": {
     "duration": 0.00686,
     "end_time": "2022-07-12T06:52:48.678202",
     "exception": false,
     "start_time": "2022-07-12T06:52:48.671342",
     "status": "completed"
    },
    "tags": []
   },
   "source": [
    "# Train model\n",
    "\n",
    "The purpose of this notebook is:\n",
    "\n",
    "- Load all training data (images and labels).\n",
    "- Limit number of train images to `task.nr_train_images` (value provided as run parameter).\n",
    "- Train a support vector machine model using sklearn.\n",
    "- Persist the trained model using the ONNX format."
   ]
  },
  {
   "cell_type": "markdown",
   "id": "9b200770",
   "metadata": {
    "papermill": {
     "duration": 0.00383,
     "end_time": "2022-07-12T06:52:48.693556",
     "exception": false,
     "start_time": "2022-07-12T06:52:48.689726",
     "status": "completed"
    },
    "tags": []
   },
   "source": [
    "### Determine run parameters"
   ]
  },
  {
   "cell_type": "code",
   "execution_count": 1,
   "id": "1e5180de",
   "metadata": {
    "execution": {
     "iopub.execute_input": "2022-07-12T06:52:48.713304Z",
     "iopub.status.busy": "2022-07-12T06:52:48.712904Z",
     "iopub.status.idle": "2022-07-12T06:52:48.726865Z",
     "shell.execute_reply": "2022-07-12T06:52:48.726079Z"
    },
    "lines_to_next_cell": 0,
    "papermill": {
     "duration": 0.032562,
     "end_time": "2022-07-12T06:52:48.731380",
     "exception": false,
     "start_time": "2022-07-12T06:52:48.698818",
     "status": "completed"
    },
    "tags": []
   },
   "outputs": [],
   "source": [
    "# ----------------- Parameters for interactive development --------------\n",
    "P = {\n",
    "    \"pipeline.data_lake_root\": \"/pipeline-outputs/data-lake\",\n",
    "    \"task.nr_train_images\": 600,\n",
    "}"
   ]
  },
  {
   "cell_type": "code",
   "execution_count": 2,
   "id": "6ba0f0ae",
   "metadata": {
    "execution": {
     "iopub.execute_input": "2022-07-12T06:52:48.743865Z",
     "iopub.status.busy": "2022-07-12T06:52:48.743483Z",
     "iopub.status.idle": "2022-07-12T06:52:48.748410Z",
     "shell.execute_reply": "2022-07-12T06:52:48.747100Z"
    },
    "lines_to_next_cell": 0,
    "papermill": {
     "duration": 0.018464,
     "end_time": "2022-07-12T06:52:48.753674",
     "exception": false,
     "start_time": "2022-07-12T06:52:48.735210",
     "status": "completed"
    },
    "tags": [
     "parameters"
    ]
   },
   "outputs": [],
   "source": [
    "# - During automated runs parameters will be injected in the below cell -"
   ]
  },
  {
   "cell_type": "code",
   "execution_count": 3,
   "id": "6a2e67e7",
   "metadata": {
    "execution": {
     "iopub.execute_input": "2022-07-12T06:52:48.764554Z",
     "iopub.status.busy": "2022-07-12T06:52:48.764125Z",
     "iopub.status.idle": "2022-07-12T06:52:48.771950Z",
     "shell.execute_reply": "2022-07-12T06:52:48.771137Z"
    },
    "papermill": {
     "duration": 0.018464,
     "end_time": "2022-07-12T06:52:48.776018",
     "exception": false,
     "start_time": "2022-07-12T06:52:48.757554",
     "status": "completed"
    },
    "tags": [
     "injected-parameters"
    ]
   },
   "outputs": [],
   "source": [
    "# Parameters\n",
    "P = {\n",
    "    \"pipeline.data_lake_root\": \"/pipeline-outputs/data-lake\",\n",
    "    \"pipeline.run_environment\": \"ci\",\n",
    "    \"pipeline.pipeline_run_id\": \"aeca9ce4-c2b9-4420-af24-3b2d3c6a8a3b\",\n",
    "    \"pipeline.github.repository\": \"pynb-dag-runner/mnist-digits-demo-pipeline\",\n",
    "    \"pipeline.github.workflow\": \"Run automated tests, pipeline and deploy results to static reporting site\",\n",
    "    \"pipeline.github.runner_name\": \"Hosted Agent\",\n",
    "    \"pipeline.github.run_id\": \"2654616097\",\n",
    "    \"pipeline.github.actor\": \"matiasdahl\",\n",
    "    \"pipeline.github.job\": \"run-tests-pipeline-and-persist-pipeline-outputs\",\n",
    "    \"pipeline.github.base_ref\": \"\",\n",
    "    \"pipeline.github.head_ref\": \"\",\n",
    "    \"pipeline.github.sha\": \"147a1be9916173fd4d2cd011d8d51e3411215850\",\n",
    "    \"pipeline.github.ref\": \"refs/heads/development\",\n",
    "    \"pipeline.github.ref_type\": \"branch\",\n",
    "    \"pipeline.github.ref_name\": \"development\",\n",
    "    \"pipeline.github.event_name\": \"schedule\",\n",
    "    \"task.nr_train_images\": 1200,\n",
    "    \"task.notebook\": \"notebooks/train-model.py\",\n",
    "    \"task.max_nr_retries\": \"1\",\n",
    "    \"run.retry_nr\": \"0\",\n",
    "    \"task.timeout_s\": \"None\",\n",
    "    \"task.num_cpus\": 1,\n",
    "    \"_opentelemetry_traceparent\": \"00-77fa89566b16837304c76483fe43a14b-d88bff6e6101cf64-01\",\n",
    "}\n"
   ]
  },
  {
   "cell_type": "code",
   "execution_count": 4,
   "id": "a3b82fae",
   "metadata": {
    "execution": {
     "iopub.execute_input": "2022-07-12T06:52:48.787604Z",
     "iopub.status.busy": "2022-07-12T06:52:48.787274Z",
     "iopub.status.idle": "2022-07-12T06:52:48.793419Z",
     "shell.execute_reply": "2022-07-12T06:52:48.792590Z"
    },
    "lines_to_next_cell": 0,
    "papermill": {
     "duration": 0.015682,
     "end_time": "2022-07-12T06:52:48.797706",
     "exception": false,
     "start_time": "2022-07-12T06:52:48.782024",
     "status": "completed"
    },
    "tags": []
   },
   "outputs": [],
   "source": [
    "# -----------------------------------------------------------------------"
   ]
  },
  {
   "cell_type": "markdown",
   "id": "526cd6b5",
   "metadata": {
    "papermill": {
     "duration": 0.004594,
     "end_time": "2022-07-12T06:52:48.807572",
     "exception": false,
     "start_time": "2022-07-12T06:52:48.802978",
     "status": "completed"
    },
    "tags": []
   },
   "source": [
    "---"
   ]
  },
  {
   "cell_type": "markdown",
   "id": "67f98423",
   "metadata": {
    "lines_to_next_cell": 2,
    "papermill": {
     "duration": 0.005735,
     "end_time": "2022-07-12T06:52:48.825585",
     "exception": false,
     "start_time": "2022-07-12T06:52:48.819850",
     "status": "completed"
    },
    "tags": []
   },
   "source": [
    "### Notebook code"
   ]
  },
  {
   "cell_type": "code",
   "execution_count": 5,
   "id": "b93eb9d0",
   "metadata": {
    "execution": {
     "iopub.execute_input": "2022-07-12T06:52:48.836830Z",
     "iopub.status.busy": "2022-07-12T06:52:48.836484Z",
     "iopub.status.idle": "2022-07-12T06:52:49.595708Z",
     "shell.execute_reply": "2022-07-12T06:52:49.594820Z"
    },
    "papermill": {
     "duration": 0.768008,
     "end_time": "2022-07-12T06:52:49.598435",
     "exception": false,
     "start_time": "2022-07-12T06:52:48.830427",
     "status": "completed"
    },
    "tags": []
   },
   "outputs": [
    {
     "name": "stderr",
     "output_type": "stream",
     "text": [
      "2022-07-12 06:52:49,381\tINFO worker.py:842 -- Connecting to existing Ray cluster at address: 172.17.0.2:6379\n"
     ]
    }
   ],
   "source": [
    "from pynb_dag_runner.tasks.task_opentelemetry_logging import PydarLogger\n",
    "\n",
    "logger = PydarLogger(P)"
   ]
  },
  {
   "cell_type": "markdown",
   "id": "a6d1351f",
   "metadata": {
    "papermill": {
     "duration": 0.00564,
     "end_time": "2022-07-12T06:52:49.617566",
     "exception": false,
     "start_time": "2022-07-12T06:52:49.611926",
     "status": "completed"
    },
    "tags": []
   },
   "source": [
    "## Load and limit train data"
   ]
  },
  {
   "cell_type": "code",
   "execution_count": 6,
   "id": "c4a87d28",
   "metadata": {
    "execution": {
     "iopub.execute_input": "2022-07-12T06:52:49.632639Z",
     "iopub.status.busy": "2022-07-12T06:52:49.630759Z",
     "iopub.status.idle": "2022-07-12T06:52:50.348733Z",
     "shell.execute_reply": "2022-07-12T06:52:50.347188Z"
    },
    "papermill": {
     "duration": 0.729216,
     "end_time": "2022-07-12T06:52:50.351661",
     "exception": false,
     "start_time": "2022-07-12T06:52:49.622445",
     "status": "completed"
    },
    "tags": []
   },
   "outputs": [],
   "source": [
    "def load_and_limit_train_data(P):\n",
    "    from common.io import datalake_root, read_numpy\n",
    "    from sklearn.model_selection import train_test_split\n",
    "\n",
    "    X_train_all = read_numpy(datalake_root(P) / \"train-data\" / \"digits.numpy\")\n",
    "    y_train_all = read_numpy(datalake_root(P) / \"train-data\" / \"labels.numpy\")\n",
    "\n",
    "    assert isinstance(P[\"task.nr_train_images\"], int)\n",
    "\n",
    "    # Note: train_test_split will fail if split is 0 or 100%.\n",
    "    assert 0 < P[\"task.nr_train_images\"] < len(y_train_all)\n",
    "\n",
    "    X_train, _, y_train, _ = train_test_split(\n",
    "        X_train_all,\n",
    "        y_train_all,\n",
    "        train_size=P[\"task.nr_train_images\"],\n",
    "        test_size=None,\n",
    "        stratify=y_train_all,\n",
    "        shuffle=True,\n",
    "        random_state=123,\n",
    "    )\n",
    "\n",
    "    assert X_train.shape == (len(y_train), 8 * 8)\n",
    "    return X_train, y_train\n",
    "\n",
    "\n",
    "X_train, y_train = load_and_limit_train_data(P)"
   ]
  },
  {
   "cell_type": "markdown",
   "id": "3b0337ac",
   "metadata": {
    "papermill": {
     "duration": 0.004292,
     "end_time": "2022-07-12T06:52:50.365332",
     "exception": false,
     "start_time": "2022-07-12T06:52:50.361040",
     "status": "completed"
    },
    "tags": []
   },
   "source": [
    "## Train support vector classifier model\n",
    "\n",
    "Below we assume that the hyperparameter $C$ is known.\n",
    "\n",
    "However, this should ideally be found by a hyperparameter search. That could be\n",
    "done in parallel on the Ray cluster, but this needs some more work. Ie., to use\n",
    "multiple cores in the notebook, those cores should be reserved when starting the\n",
    "notebook task (TODO).\n",
    "\n",
    "- https://docs.ray.io/en/latest/tune/key-concepts.html\n",
    "\n",
    "Note: cv-scores would need to be computed here, since they depend on the train data.\n",
    "After this notebook only the onnx-model is available."
   ]
  },
  {
   "cell_type": "code",
   "execution_count": 7,
   "id": "359ffb75",
   "metadata": {
    "execution": {
     "iopub.execute_input": "2022-07-12T06:52:50.377978Z",
     "iopub.status.busy": "2022-07-12T06:52:50.377619Z",
     "iopub.status.idle": "2022-07-12T06:52:50.408674Z",
     "shell.execute_reply": "2022-07-12T06:52:50.407547Z"
    },
    "papermill": {
     "duration": 0.044011,
     "end_time": "2022-07-12T06:52:50.413627",
     "exception": false,
     "start_time": "2022-07-12T06:52:50.369616",
     "status": "completed"
    },
    "tags": []
   },
   "outputs": [],
   "source": [
    "from sklearn.svm import SVC"
   ]
  },
  {
   "cell_type": "code",
   "execution_count": 8,
   "id": "e41351b6",
   "metadata": {
    "execution": {
     "iopub.execute_input": "2022-07-12T06:52:50.426093Z",
     "iopub.status.busy": "2022-07-12T06:52:50.424949Z",
     "iopub.status.idle": "2022-07-12T06:52:50.728360Z",
     "shell.execute_reply": "2022-07-12T06:52:50.726675Z"
    },
    "papermill": {
     "duration": 0.311565,
     "end_time": "2022-07-12T06:52:50.730555",
     "exception": false,
     "start_time": "2022-07-12T06:52:50.418990",
     "status": "completed"
    },
    "tags": []
   },
   "outputs": [
    {
     "data": {
      "text/plain": [
       "SVC(C=0.001, kernel='linear', probability=True)"
      ]
     },
     "execution_count": 8,
     "metadata": {},
     "output_type": "execute_result"
    }
   ],
   "source": [
    "model = SVC(C=0.001, kernel=\"linear\", probability=True)\n",
    "\n",
    "model.fit(X_train, y_train)"
   ]
  },
  {
   "cell_type": "markdown",
   "id": "b7af5289",
   "metadata": {
    "papermill": {
     "duration": 0.005391,
     "end_time": "2022-07-12T06:52:50.742221",
     "exception": false,
     "start_time": "2022-07-12T06:52:50.736830",
     "status": "completed"
    },
    "tags": []
   },
   "source": [
    "### Q: Can the labels returned by `predict(..)` be computed from probabilities returned by the `predict_prob`-method?"
   ]
  },
  {
   "cell_type": "code",
   "execution_count": 9,
   "id": "60b2828b",
   "metadata": {
    "execution": {
     "iopub.execute_input": "2022-07-12T06:52:50.755148Z",
     "iopub.status.busy": "2022-07-12T06:52:50.754746Z",
     "iopub.status.idle": "2022-07-12T06:52:50.903686Z",
     "shell.execute_reply": "2022-07-12T06:52:50.902500Z"
    },
    "papermill": {
     "duration": 0.158965,
     "end_time": "2022-07-12T06:52:50.905956",
     "exception": false,
     "start_time": "2022-07-12T06:52:50.746991",
     "status": "completed"
    },
    "tags": []
   },
   "outputs": [
    {
     "name": "stdout",
     "output_type": "stream",
     "text": [
      " - Logging nr_max_prob_neq_label (int) : 2\n"
     ]
    }
   ],
   "source": [
    "import numpy as np\n",
    "\n",
    "y_train_labels = model.predict(X_train)\n",
    "y_train_probabilities = model.predict_proba(X_train)\n",
    "assert y_train_probabilities.shape == (len(y_train), 10)\n",
    "\n",
    "y_train_max_prob_labels = np.argmax(y_train_probabilities, axis=1)\n",
    "assert y_train_labels.shape == y_train_max_prob_labels.shape == y_train.shape\n",
    "\n",
    "# If the predicted labels would coincide with the labels that have\n",
    "# maximum probability, the below number would be zero\n",
    "logger.log_int(\n",
    "    \"nr_max_prob_neq_label\", int(sum(y_train_max_prob_labels != y_train_labels))\n",
    ")"
   ]
  },
  {
   "cell_type": "markdown",
   "id": "91d1bf9e",
   "metadata": {
    "papermill": {
     "duration": 0.007055,
     "end_time": "2022-07-12T06:52:50.919628",
     "exception": false,
     "start_time": "2022-07-12T06:52:50.912573",
     "status": "completed"
    },
    "tags": []
   },
   "source": [
    "The explanation is (likely) explained in the SVC source, see\n",
    "[here](https://github.com/scikit-learn/scikit-learn/blob/main/sklearn/svm/_base.py).\n",
    "Namely, the outputs from `predict(..)` and `predict_proba(..)` may not in some\n",
    "cases be compatible since the latter is computed using cross-validation while\n",
    "the former is not. Thus, the above number need not be zero."
   ]
  },
  {
   "cell_type": "markdown",
   "id": "63ff4eb8",
   "metadata": {
    "papermill": {
     "duration": 0.007528,
     "end_time": "2022-07-12T06:52:50.938206",
     "exception": false,
     "start_time": "2022-07-12T06:52:50.930678",
     "status": "completed"
    },
    "tags": []
   },
   "source": [
    "## Persist model"
   ]
  },
  {
   "cell_type": "code",
   "execution_count": 10,
   "id": "5a51e6cf",
   "metadata": {
    "execution": {
     "iopub.execute_input": "2022-07-12T06:52:50.954598Z",
     "iopub.status.busy": "2022-07-12T06:52:50.954009Z",
     "iopub.status.idle": "2022-07-12T06:52:52.921927Z",
     "shell.execute_reply": "2022-07-12T06:52:52.920603Z"
    },
    "papermill": {
     "duration": 1.979335,
     "end_time": "2022-07-12T06:52:52.924432",
     "exception": false,
     "start_time": "2022-07-12T06:52:50.945097",
     "status": "completed"
    },
    "tags": []
   },
   "outputs": [],
   "source": [
    "from skl2onnx import convert_sklearn\n",
    "from skl2onnx.common.data_types import FloatTensorType\n",
    "\n",
    "#\n",
    "from common.io import datalake_root, write_onnx"
   ]
  },
  {
   "cell_type": "code",
   "execution_count": 11,
   "id": "21fa09d2",
   "metadata": {
    "execution": {
     "iopub.execute_input": "2022-07-12T06:52:52.943825Z",
     "iopub.status.busy": "2022-07-12T06:52:52.943044Z",
     "iopub.status.idle": "2022-07-12T06:52:53.058379Z",
     "shell.execute_reply": "2022-07-12T06:52:53.057044Z"
    },
    "papermill": {
     "duration": 0.126778,
     "end_time": "2022-07-12T06:52:53.061710",
     "exception": false,
     "start_time": "2022-07-12T06:52:52.934932",
     "status": "completed"
    },
    "tags": []
   },
   "outputs": [],
   "source": [
    "# convert sklearn model into onnx and persist to data lake\n",
    "\n",
    "model_onnx = convert_sklearn(\n",
    "    model, initial_types=[(\"float_input_8x8_image\", FloatTensorType([None, 8 * 8]))]\n",
    ")\n",
    "write_onnx(\n",
    "    datalake_root(P)\n",
    "    / \"models\"\n",
    "    / f\"nr_train_images={P['task.nr_train_images']}\"\n",
    "    / \"model.onnx\",\n",
    "    model_onnx,\n",
    ")"
   ]
  },
  {
   "cell_type": "code",
   "execution_count": null,
   "id": "83a8555e",
   "metadata": {
    "papermill": {
     "duration": 0.005201,
     "end_time": "2022-07-12T06:52:53.076226",
     "exception": false,
     "start_time": "2022-07-12T06:52:53.071025",
     "status": "completed"
    },
    "tags": []
   },
   "outputs": [],
   "source": []
  }
 ],
 "metadata": {
  "jupytext": {
   "cell_metadata_filter": "tags,-all",
   "main_language": "python",
   "notebook_metadata_filter": "-all"
  },
  "language_info": {
   "codemirror_mode": {
    "name": "ipython",
    "version": 3
   },
   "file_extension": ".py",
   "mimetype": "text/x-python",
   "name": "python",
   "nbconvert_exporter": "python",
   "pygments_lexer": "ipython3",
   "version": "3.8.10"
  },
  "papermill": {
   "default_parameters": {},
   "duration": 7.659136,
   "end_time": "2022-07-12T06:52:54.507233",
   "environment_variables": {},
   "exception": null,
   "input_path": "/home/host_user/workspace/mnist-demo-pipeline/mnist-demo-pipeline/notebooks/temp-notebook-mgp1__wj.ipynb",
   "output_path": "notebooks/train-model.ipynb",
   "parameters": {
    "P": {
     "_opentelemetry_traceparent": "00-77fa89566b16837304c76483fe43a14b-d88bff6e6101cf64-01",
     "pipeline.data_lake_root": "/pipeline-outputs/data-lake",
     "pipeline.github.actor": "matiasdahl",
     "pipeline.github.base_ref": "",
     "pipeline.github.event_name": "schedule",
     "pipeline.github.head_ref": "",
     "pipeline.github.job": "run-tests-pipeline-and-persist-pipeline-outputs",
     "pipeline.github.ref": "refs/heads/development",
     "pipeline.github.ref_name": "development",
     "pipeline.github.ref_type": "branch",
     "pipeline.github.repository": "pynb-dag-runner/mnist-digits-demo-pipeline",
     "pipeline.github.run_id": "2654616097",
     "pipeline.github.runner_name": "Hosted Agent",
     "pipeline.github.sha": "147a1be9916173fd4d2cd011d8d51e3411215850",
     "pipeline.github.workflow": "Run automated tests, pipeline and deploy results to static reporting site",
     "pipeline.pipeline_run_id": "aeca9ce4-c2b9-4420-af24-3b2d3c6a8a3b",
     "pipeline.run_environment": "ci",
     "run.retry_nr": "0",
     "task.max_nr_retries": "1",
     "task.notebook": "notebooks/train-model.py",
     "task.nr_train_images": 1200,
     "task.num_cpus": 1,
     "task.timeout_s": "None"
    }
   },
   "start_time": "2022-07-12T06:52:46.848097",
   "version": "2.3.3"
  }
 },
 "nbformat": 4,
 "nbformat_minor": 5
}