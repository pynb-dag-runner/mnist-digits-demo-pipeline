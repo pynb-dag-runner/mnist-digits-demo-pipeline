{
 "cells": [
  {
   "cell_type": "markdown",
   "id": "f49b11d8",
   "metadata": {
    "papermill": {
     "duration": 0.014441,
     "end_time": "2022-07-12T06:53:09.000868",
     "exception": false,
     "start_time": "2022-07-12T06:53:08.986427",
     "status": "completed"
    },
    "tags": []
   },
   "source": [
    "# Benchmark model\n",
    "\n",
    "The purpose of this notebook is to benchmark persisted onnx-model (trained in the\n",
    "previous step) against evaluation set."
   ]
  },
  {
   "cell_type": "markdown",
   "id": "68d2c55a",
   "metadata": {
    "papermill": {
     "duration": 0.006472,
     "end_time": "2022-07-12T06:53:09.015074",
     "exception": false,
     "start_time": "2022-07-12T06:53:09.008602",
     "status": "completed"
    },
    "tags": []
   },
   "source": [
    "### Determine run parameters"
   ]
  },
  {
   "cell_type": "code",
   "execution_count": 1,
   "id": "42495e9c",
   "metadata": {
    "execution": {
     "iopub.execute_input": "2022-07-12T06:53:09.029783Z",
     "iopub.status.busy": "2022-07-12T06:53:09.029352Z",
     "iopub.status.idle": "2022-07-12T06:53:09.048532Z",
     "shell.execute_reply": "2022-07-12T06:53:09.047698Z"
    },
    "lines_to_next_cell": 0,
    "papermill": {
     "duration": 0.029886,
     "end_time": "2022-07-12T06:53:09.051128",
     "exception": false,
     "start_time": "2022-07-12T06:53:09.021242",
     "status": "completed"
    },
    "tags": []
   },
   "outputs": [],
   "source": [
    "# ----------------- Parameters for interactive development --------------\n",
    "P = {\n",
    "    \"pipeline.data_lake_root\": \"/pipeline-outputs/data-lake\",\n",
    "    \"task.nr_train_images\": 600,\n",
    "}"
   ]
  },
  {
   "cell_type": "code",
   "execution_count": 2,
   "id": "3126524b",
   "metadata": {
    "execution": {
     "iopub.execute_input": "2022-07-12T06:53:09.065522Z",
     "iopub.status.busy": "2022-07-12T06:53:09.065154Z",
     "iopub.status.idle": "2022-07-12T06:53:09.070033Z",
     "shell.execute_reply": "2022-07-12T06:53:09.068903Z"
    },
    "lines_to_next_cell": 0,
    "papermill": {
     "duration": 0.015967,
     "end_time": "2022-07-12T06:53:09.074064",
     "exception": false,
     "start_time": "2022-07-12T06:53:09.058097",
     "status": "completed"
    },
    "tags": [
     "parameters"
    ]
   },
   "outputs": [],
   "source": [
    "# - During automated runs parameters will be injected in the below cell -"
   ]
  },
  {
   "cell_type": "code",
   "execution_count": 3,
   "id": "fa0774b3",
   "metadata": {
    "execution": {
     "iopub.execute_input": "2022-07-12T06:53:09.087729Z",
     "iopub.status.busy": "2022-07-12T06:53:09.087391Z",
     "iopub.status.idle": "2022-07-12T06:53:09.093904Z",
     "shell.execute_reply": "2022-07-12T06:53:09.092843Z"
    },
    "papermill": {
     "duration": 0.017958,
     "end_time": "2022-07-12T06:53:09.097867",
     "exception": false,
     "start_time": "2022-07-12T06:53:09.079909",
     "status": "completed"
    },
    "tags": [
     "injected-parameters"
    ]
   },
   "outputs": [],
   "source": [
    "# Parameters\n",
    "P = {\n",
    "    \"pipeline.data_lake_root\": \"/pipeline-outputs/data-lake\",\n",
    "    \"pipeline.run_environment\": \"ci\",\n",
    "    \"pipeline.pipeline_run_id\": \"aeca9ce4-c2b9-4420-af24-3b2d3c6a8a3b\",\n",
    "    \"pipeline.github.repository\": \"pynb-dag-runner/mnist-digits-demo-pipeline\",\n",
    "    \"pipeline.github.workflow\": \"Run automated tests, pipeline and deploy results to static reporting site\",\n",
    "    \"pipeline.github.runner_name\": \"Hosted Agent\",\n",
    "    \"pipeline.github.run_id\": \"2654616097\",\n",
    "    \"pipeline.github.actor\": \"matiasdahl\",\n",
    "    \"pipeline.github.job\": \"run-tests-pipeline-and-persist-pipeline-outputs\",\n",
    "    \"pipeline.github.base_ref\": \"\",\n",
    "    \"pipeline.github.head_ref\": \"\",\n",
    "    \"pipeline.github.sha\": \"147a1be9916173fd4d2cd011d8d51e3411215850\",\n",
    "    \"pipeline.github.ref\": \"refs/heads/development\",\n",
    "    \"pipeline.github.ref_type\": \"branch\",\n",
    "    \"pipeline.github.ref_name\": \"development\",\n",
    "    \"pipeline.github.event_name\": \"schedule\",\n",
    "    \"task.nr_train_images\": 800,\n",
    "    \"task.notebook\": \"notebooks/benchmark-model.py\",\n",
    "    \"task.max_nr_retries\": \"1\",\n",
    "    \"run.retry_nr\": \"0\",\n",
    "    \"task.timeout_s\": \"None\",\n",
    "    \"task.num_cpus\": 1,\n",
    "    \"_opentelemetry_traceparent\": \"00-77fa89566b16837304c76483fe43a14b-ea281e970b9fbf65-01\",\n",
    "}\n"
   ]
  },
  {
   "cell_type": "code",
   "execution_count": 4,
   "id": "add6d110",
   "metadata": {
    "execution": {
     "iopub.execute_input": "2022-07-12T06:53:09.112383Z",
     "iopub.status.busy": "2022-07-12T06:53:09.112045Z",
     "iopub.status.idle": "2022-07-12T06:53:09.116087Z",
     "shell.execute_reply": "2022-07-12T06:53:09.115312Z"
    },
    "lines_to_next_cell": 0,
    "papermill": {
     "duration": 0.015534,
     "end_time": "2022-07-12T06:53:09.120250",
     "exception": false,
     "start_time": "2022-07-12T06:53:09.104716",
     "status": "completed"
    },
    "tags": []
   },
   "outputs": [],
   "source": [
    "# -----------------------------------------------------------------------"
   ]
  },
  {
   "cell_type": "markdown",
   "id": "5f2d544d",
   "metadata": {
    "papermill": {
     "duration": 0.006097,
     "end_time": "2022-07-12T06:53:09.135514",
     "exception": false,
     "start_time": "2022-07-12T06:53:09.129417",
     "status": "completed"
    },
    "tags": []
   },
   "source": [
    "---"
   ]
  },
  {
   "cell_type": "markdown",
   "id": "56b6b99e",
   "metadata": {
    "lines_to_next_cell": 2,
    "papermill": {
     "duration": 0.006275,
     "end_time": "2022-07-12T06:53:09.154565",
     "exception": false,
     "start_time": "2022-07-12T06:53:09.148290",
     "status": "completed"
    },
    "tags": []
   },
   "source": [
    "### Notebook code"
   ]
  },
  {
   "cell_type": "code",
   "execution_count": 5,
   "id": "7823086f",
   "metadata": {
    "execution": {
     "iopub.execute_input": "2022-07-12T06:53:09.167707Z",
     "iopub.status.busy": "2022-07-12T06:53:09.167374Z",
     "iopub.status.idle": "2022-07-12T06:53:10.776001Z",
     "shell.execute_reply": "2022-07-12T06:53:10.774838Z"
    },
    "papermill": {
     "duration": 1.619113,
     "end_time": "2022-07-12T06:53:10.779113",
     "exception": false,
     "start_time": "2022-07-12T06:53:09.160000",
     "status": "completed"
    },
    "tags": []
   },
   "outputs": [
    {
     "name": "stderr",
     "output_type": "stream",
     "text": [
      "2022-07-12 06:53:10,566\tINFO worker.py:842 -- Connecting to existing Ray cluster at address: 172.17.0.2:6379\n"
     ]
    }
   ],
   "source": [
    "import itertools as it\n",
    "\n",
    "#\n",
    "import numpy as np\n",
    "import matplotlib.pyplot as plt\n",
    "\n",
    "#\n",
    "from pynb_dag_runner.tasks.task_opentelemetry_logging import PydarLogger\n",
    "\n",
    "#\n",
    "from common.io import datalake_root\n",
    "\n",
    "logger = PydarLogger(P)"
   ]
  },
  {
   "cell_type": "markdown",
   "id": "c867a7ea",
   "metadata": {
    "papermill": {
     "duration": 0.005075,
     "end_time": "2022-07-12T06:53:10.790331",
     "exception": false,
     "start_time": "2022-07-12T06:53:10.785256",
     "status": "completed"
    },
    "tags": []
   },
   "source": [
    "## Load persisted onnx-model and evaluation data"
   ]
  },
  {
   "cell_type": "code",
   "execution_count": 6,
   "id": "a99aa102",
   "metadata": {
    "execution": {
     "iopub.execute_input": "2022-07-12T06:53:10.805088Z",
     "iopub.status.busy": "2022-07-12T06:53:10.803748Z",
     "iopub.status.idle": "2022-07-12T06:53:10.808535Z",
     "shell.execute_reply": "2022-07-12T06:53:10.807793Z"
    },
    "papermill": {
     "duration": 0.015865,
     "end_time": "2022-07-12T06:53:10.812181",
     "exception": false,
     "start_time": "2022-07-12T06:53:10.796316",
     "status": "completed"
    },
    "tags": []
   },
   "outputs": [],
   "source": [
    "from common.io import read_onnx, get_onnx_inputs, get_onnx_outputs, read_numpy"
   ]
  },
  {
   "cell_type": "code",
   "execution_count": 7,
   "id": "6a00e155",
   "metadata": {
    "execution": {
     "iopub.execute_input": "2022-07-12T06:53:10.824965Z",
     "iopub.status.busy": "2022-07-12T06:53:10.824676Z",
     "iopub.status.idle": "2022-07-12T06:53:10.849295Z",
     "shell.execute_reply": "2022-07-12T06:53:10.847381Z"
    },
    "lines_to_next_cell": 0,
    "papermill": {
     "duration": 0.033424,
     "end_time": "2022-07-12T06:53:10.851779",
     "exception": false,
     "start_time": "2022-07-12T06:53:10.818355",
     "status": "completed"
    },
    "tags": []
   },
   "outputs": [],
   "source": [
    "onnx_inference_session = read_onnx(\n",
    "    datalake_root(P)\n",
    "    / \"models\"\n",
    "    / f\"nr_train_images={P['task.nr_train_images']}\"\n",
    "    / \"model.onnx\"\n",
    ")"
   ]
  },
  {
   "cell_type": "markdown",
   "id": "5819fb36",
   "metadata": {
    "papermill": {
     "duration": 0.005998,
     "end_time": "2022-07-12T06:53:10.866191",
     "exception": false,
     "start_time": "2022-07-12T06:53:10.860193",
     "status": "completed"
    },
    "tags": []
   },
   "source": [
    "### Record structure of inputs and outputs for ONNX model\n",
    "\n",
    "(this should likely be done in training notebook)"
   ]
  },
  {
   "cell_type": "code",
   "execution_count": 8,
   "id": "2934589b",
   "metadata": {
    "execution": {
     "iopub.execute_input": "2022-07-12T06:53:10.879870Z",
     "iopub.status.busy": "2022-07-12T06:53:10.879505Z",
     "iopub.status.idle": "2022-07-12T06:53:10.888496Z",
     "shell.execute_reply": "2022-07-12T06:53:10.887617Z"
    },
    "papermill": {
     "duration": 0.020284,
     "end_time": "2022-07-12T06:53:10.892213",
     "exception": false,
     "start_time": "2022-07-12T06:53:10.871929",
     "status": "completed"
    },
    "tags": []
   },
   "outputs": [
    {
     "name": "stdout",
     "output_type": "stream",
     "text": [
      "{\n",
      "  \"inputs\": [\n",
      "    {\n",
      "      \"name\": \"float_input_8x8_image\",\n",
      "      \"shape\": [\n",
      "        null,\n",
      "        64\n",
      "      ],\n",
      "      \"type\": \"tensor(float)\"\n",
      "    }\n",
      "  ],\n",
      "  \"outputs\": [\n",
      "    {\n",
      "      \"name\": \"output_label\",\n",
      "      \"shape\": [\n",
      "        null\n",
      "      ],\n",
      "      \"type\": \"tensor(int64)\"\n",
      "    },\n",
      "    {\n",
      "      \"name\": \"output_probability\",\n",
      "      \"shape\": [],\n",
      "      \"type\": \"seq(map(int64,tensor(float)))\"\n",
      "    }\n",
      "  ]\n",
      "}\n"
     ]
    }
   ],
   "source": [
    "import json\n",
    "\n",
    "onnx_io = json.dumps(\n",
    "    {\n",
    "        \"inputs\": get_onnx_inputs(onnx_inference_session),\n",
    "        \"outputs\": get_onnx_outputs(onnx_inference_session),\n",
    "    },\n",
    "    indent=2,\n",
    ")\n",
    "\n",
    "\n",
    "logger.log_artefact(\"onnx_io_structure.json\", onnx_io)\n",
    "print(onnx_io)"
   ]
  },
  {
   "cell_type": "markdown",
   "id": "2ad1de2a",
   "metadata": {
    "papermill": {
     "duration": 0.008994,
     "end_time": "2022-07-12T06:53:10.906778",
     "exception": false,
     "start_time": "2022-07-12T06:53:10.897784",
     "status": "completed"
    },
    "tags": []
   },
   "source": [
    "### Evaluate model performance on evaluation data set"
   ]
  },
  {
   "cell_type": "code",
   "execution_count": 9,
   "id": "0e8a63fa",
   "metadata": {
    "execution": {
     "iopub.execute_input": "2022-07-12T06:53:10.919713Z",
     "iopub.status.busy": "2022-07-12T06:53:10.919387Z",
     "iopub.status.idle": "2022-07-12T06:53:10.927719Z",
     "shell.execute_reply": "2022-07-12T06:53:10.926838Z"
    },
    "papermill": {
     "duration": 0.017969,
     "end_time": "2022-07-12T06:53:10.930540",
     "exception": false,
     "start_time": "2022-07-12T06:53:10.912571",
     "status": "completed"
    },
    "tags": []
   },
   "outputs": [],
   "source": [
    "# load evaluation data\n",
    "X_test = read_numpy(datalake_root(P) / \"test-data\" / \"digits.numpy\")\n",
    "y_test = read_numpy(datalake_root(P) / \"test-data\" / \"labels.numpy\")"
   ]
  },
  {
   "cell_type": "code",
   "execution_count": 10,
   "id": "d1c9e4b0",
   "metadata": {
    "execution": {
     "iopub.execute_input": "2022-07-12T06:53:10.946273Z",
     "iopub.status.busy": "2022-07-12T06:53:10.945952Z",
     "iopub.status.idle": "2022-07-12T06:53:10.964743Z",
     "shell.execute_reply": "2022-07-12T06:53:10.963603Z"
    },
    "papermill": {
     "duration": 0.029061,
     "end_time": "2022-07-12T06:53:10.966931",
     "exception": false,
     "start_time": "2022-07-12T06:53:10.937870",
     "status": "completed"
    },
    "tags": []
   },
   "outputs": [],
   "source": [
    "def get_model_outputs(X, onnx_inference_session):\n",
    "    y_pred_labels, y_pred_map = onnx_inference_session.run(\n",
    "        [\"output_label\", \"output_probability\"],\n",
    "        {\"float_input_8x8_image\": X.astype(np.float32)},\n",
    "    )\n",
    "    y_pred_probs = np.array(\n",
    "        [[probabilities[digit] for digit in range(10)] for probabilities in y_pred_map]\n",
    "    )\n",
    "\n",
    "    assert y_pred_labels.shape == (X.shape[0],)\n",
    "    assert y_pred_probs.shape == (X.shape[0], 10)\n",
    "\n",
    "    return y_pred_labels, y_pred_probs\n",
    "\n",
    "\n",
    "# Note: as shown in the training notebook, the predicted labels and probabilities\n",
    "# computed below need not be compatible.\n",
    "y_pred_labels_test, y_pred_probs_test = get_model_outputs(\n",
    "    X_test, onnx_inference_session\n",
    ")"
   ]
  },
  {
   "cell_type": "markdown",
   "id": "8104ae48",
   "metadata": {
    "papermill": {
     "duration": 0.009627,
     "end_time": "2022-07-12T06:53:10.986910",
     "exception": false,
     "start_time": "2022-07-12T06:53:10.977283",
     "status": "completed"
    },
    "tags": []
   },
   "source": [
    "### Confusion matrix"
   ]
  },
  {
   "cell_type": "code",
   "execution_count": 11,
   "id": "c3f63bc1",
   "metadata": {
    "execution": {
     "iopub.execute_input": "2022-07-12T06:53:11.001636Z",
     "iopub.status.busy": "2022-07-12T06:53:11.001312Z",
     "iopub.status.idle": "2022-07-12T06:53:11.005326Z",
     "shell.execute_reply": "2022-07-12T06:53:11.004527Z"
    },
    "papermill": {
     "duration": 0.018761,
     "end_time": "2022-07-12T06:53:11.011887",
     "exception": false,
     "start_time": "2022-07-12T06:53:10.993126",
     "status": "completed"
    },
    "tags": []
   },
   "outputs": [],
   "source": [
    "# TODO"
   ]
  },
  {
   "cell_type": "markdown",
   "id": "a8a84aa8",
   "metadata": {
    "papermill": {
     "duration": 0.006358,
     "end_time": "2022-07-12T06:53:11.024610",
     "exception": false,
     "start_time": "2022-07-12T06:53:11.018252",
     "status": "completed"
    },
    "tags": []
   },
   "source": [
    "### Plot predicted probabilities for each classifier over all evaluation digit images"
   ]
  },
  {
   "cell_type": "code",
   "execution_count": 12,
   "id": "7f2834dd",
   "metadata": {
    "execution": {
     "iopub.execute_input": "2022-07-12T06:53:11.037619Z",
     "iopub.status.busy": "2022-07-12T06:53:11.037305Z",
     "iopub.status.idle": "2022-07-12T06:53:17.268168Z",
     "shell.execute_reply": "2022-07-12T06:53:17.267066Z"
    },
    "papermill": {
     "duration": 6.240429,
     "end_time": "2022-07-12T06:53:17.270505",
     "exception": false,
     "start_time": "2022-07-12T06:53:11.030076",
     "status": "completed"
    },
    "tags": []
   },
   "outputs": [
    {
     "data": {
      "image/png": "[encoded data removed]",
      "text/plain": [
       "<Figure size 1152x432 with 10 Axes>"
      ]
     },
     "metadata": {
      "needs_background": "light"
     },
     "output_type": "display_data"
    }
   ],
   "source": [
    "def plot_per_digit_probabilities(y_pred_probs):\n",
    "    fig, axs = plt.subplots(nrows=2, ncols=5, figsize=(16, 6))\n",
    "\n",
    "    for (r, c), digit, ax in zip(\n",
    "        it.product(range(2), range(5)), range(10), axs.reshape(-1)\n",
    "    ):\n",
    "        ax.hist(y_pred_probs_test[:, digit], bins=20)\n",
    "\n",
    "        ax.set_title(f\"Digit {digit}\")\n",
    "        if r == 1 and c == 2:\n",
    "            ax.set_xlabel(\"probability\", fontsize=16)\n",
    "\n",
    "        if c == 0:\n",
    "            ax.set_ylabel(\"counts\", fontsize=16)\n",
    "        ax.set_yscale(\"log\")\n",
    "\n",
    "    fig.tight_layout()\n",
    "    fig.suptitle(\n",
    "        f\"Distributions of prediction probabilities for each digit \"\n",
    "        f\"(on evaluation data, n={y_pred_probs.shape[0]})\",\n",
    "        fontsize=20,\n",
    "    )\n",
    "    fig.tight_layout()\n",
    "    fig.show()\n",
    "\n",
    "    return fig\n",
    "\n",
    "\n",
    "fig = plot_per_digit_probabilities(y_pred_probs_test)"
   ]
  },
  {
   "cell_type": "markdown",
   "id": "0ef63da2",
   "metadata": {
    "papermill": {
     "duration": 0.005798,
     "end_time": "2022-07-12T06:53:17.283049",
     "exception": false,
     "start_time": "2022-07-12T06:53:17.277251",
     "status": "completed"
    },
    "tags": []
   },
   "source": [
    "From the above distributions we see that most digits have clear separation between\n",
    "high and lower probabilities. Morover, in each case there is roughly an order of\n",
    "magnitude more of digits with low probabilities. This is compatible with digits\n",
    "being roughly evenly distributed in the data."
   ]
  },
  {
   "cell_type": "code",
   "execution_count": 13,
   "id": "0d2659a3",
   "metadata": {
    "execution": {
     "iopub.execute_input": "2022-07-12T06:53:17.297088Z",
     "iopub.status.busy": "2022-07-12T06:53:17.296346Z",
     "iopub.status.idle": "2022-07-12T06:53:18.074699Z",
     "shell.execute_reply": "2022-07-12T06:53:18.073686Z"
    },
    "papermill": {
     "duration": 0.788149,
     "end_time": "2022-07-12T06:53:18.077106",
     "exception": false,
     "start_time": "2022-07-12T06:53:17.288957",
     "status": "completed"
    },
    "tags": []
   },
   "outputs": [],
   "source": [
    "logger.log_figure(\"per-digit-probabilities.png\", fig)"
   ]
  },
  {
   "cell_type": "markdown",
   "id": "cca12905",
   "metadata": {
    "papermill": {
     "duration": 0.007391,
     "end_time": "2022-07-12T06:53:18.093605",
     "exception": false,
     "start_time": "2022-07-12T06:53:18.086214",
     "status": "completed"
    },
    "tags": []
   },
   "source": [
    "### Plot ROC curves for individual one-vs-rest classifiers"
   ]
  },
  {
   "cell_type": "code",
   "execution_count": 14,
   "id": "ea095441",
   "metadata": {
    "execution": {
     "iopub.execute_input": "2022-07-12T06:53:18.111033Z",
     "iopub.status.busy": "2022-07-12T06:53:18.110405Z",
     "iopub.status.idle": "2022-07-12T06:53:18.701775Z",
     "shell.execute_reply": "2022-07-12T06:53:18.700640Z"
    },
    "papermill": {
     "duration": 0.604319,
     "end_time": "2022-07-12T06:53:18.704487",
     "exception": false,
     "start_time": "2022-07-12T06:53:18.100168",
     "status": "completed"
    },
    "tags": []
   },
   "outputs": [],
   "source": [
    "from sklearn import metrics"
   ]
  },
  {
   "cell_type": "code",
   "execution_count": 15,
   "id": "a7f04757",
   "metadata": {
    "execution": {
     "iopub.execute_input": "2022-07-12T06:53:18.722021Z",
     "iopub.status.busy": "2022-07-12T06:53:18.721533Z",
     "iopub.status.idle": "2022-07-12T06:53:20.551172Z",
     "shell.execute_reply": "2022-07-12T06:53:20.550011Z"
    },
    "papermill": {
     "duration": 1.841488,
     "end_time": "2022-07-12T06:53:20.553311",
     "exception": false,
     "start_time": "2022-07-12T06:53:18.711823",
     "status": "completed"
    },
    "tags": []
   },
   "outputs": [
    {
     "data": {
      "image/png": "[encoded data removed]",
      "text/plain": [
       "<Figure size 1152x576 with 10 Axes>"
      ]
     },
     "metadata": {
      "needs_background": "light"
     },
     "output_type": "display_data"
    }
   ],
   "source": [
    "def plot_roc_curves(y, y_pred_probs):\n",
    "    # based on example code\n",
    "    # https://scikit-learn.org/stable/auto_examples/model_selection/plot_roc.html\n",
    "\n",
    "    fig, axs = plt.subplots(nrows=2, ncols=5, figsize=(16, 8))\n",
    "\n",
    "    roc_auc_dict = {}\n",
    "\n",
    "    for (r, c), digit, ax in zip(\n",
    "        it.product(range(2), range(5)), range(10), axs.reshape(-1)\n",
    "    ):\n",
    "        fpr, tpr, _ = metrics.roc_curve(y == digit, y_pred_probs[:, digit])\n",
    "        auc = metrics.auc(fpr, tpr)\n",
    "        roc_auc_dict[str(digit)] = auc\n",
    "\n",
    "        ax.plot(fpr, tpr, label=f\"ROC AUC={round(auc, 3)}\")\n",
    "\n",
    "        ax.set_title(f\"\\nDigit {digit}\", fontsize=16)\n",
    "        if r == 1:\n",
    "            ax.set_xlabel(\"FPR\", fontsize=18)\n",
    "\n",
    "        if c == 0:\n",
    "            ax.set_ylabel(\"TPR\", fontsize=18)\n",
    "\n",
    "        ax.set_xlim([-0.05, 1.05])\n",
    "        ax.set_ylim([-0.05, 1.05])\n",
    "        ax.legend(loc=\"lower right\", frameon=False, fontsize=14)\n",
    "\n",
    "    fig.tight_layout()\n",
    "    fig.suptitle(\n",
    "        f\"ROC plots for one-vs-rest performances \"\n",
    "        f\"(on evaluation data, n={y_pred_probs_test.shape[1]}\",\n",
    "        fontsize=22,\n",
    "    )\n",
    "    fig.tight_layout()\n",
    "    fig.show()\n",
    "\n",
    "    return roc_auc_dict, fig\n",
    "\n",
    "\n",
    "roc_auc_dict, fig = plot_roc_curves(y_test, y_pred_probs_test)"
   ]
  },
  {
   "cell_type": "code",
   "execution_count": 16,
   "id": "be7d5d5e",
   "metadata": {
    "execution": {
     "iopub.execute_input": "2022-07-12T06:53:20.571829Z",
     "iopub.status.busy": "2022-07-12T06:53:20.571246Z",
     "iopub.status.idle": "2022-07-12T06:53:20.959051Z",
     "shell.execute_reply": "2022-07-12T06:53:20.957721Z"
    },
    "papermill": {
     "duration": 0.39951,
     "end_time": "2022-07-12T06:53:20.961343",
     "exception": false,
     "start_time": "2022-07-12T06:53:20.561833",
     "status": "completed"
    },
    "tags": []
   },
   "outputs": [],
   "source": [
    "logger.log_figure(\"per-digit-roc-curves.png\", fig)"
   ]
  },
  {
   "cell_type": "code",
   "execution_count": 17,
   "id": "11ee8251",
   "metadata": {
    "execution": {
     "iopub.execute_input": "2022-07-12T06:53:20.980258Z",
     "iopub.status.busy": "2022-07-12T06:53:20.979784Z",
     "iopub.status.idle": "2022-07-12T06:53:20.988909Z",
     "shell.execute_reply": "2022-07-12T06:53:20.986635Z"
    },
    "papermill": {
     "duration": 0.021233,
     "end_time": "2022-07-12T06:53:20.991235",
     "exception": false,
     "start_time": "2022-07-12T06:53:20.970002",
     "status": "completed"
    },
    "tags": []
   },
   "outputs": [
    {
     "data": {
      "text/plain": [
       "{'0': 1.0,\n",
       " '1': 0.9988003748828491,\n",
       " '2': 1.0,\n",
       " '3': 0.9998500468603562,\n",
       " '4': 0.9994665447340345,\n",
       " '5': 0.9990627928772259,\n",
       " '6': 0.999961896052431,\n",
       " '7': 0.9998856881572931,\n",
       " '8': 0.9930249054224465,\n",
       " '9': 0.9994665447340344}"
      ]
     },
     "execution_count": 17,
     "metadata": {},
     "output_type": "execute_result"
    }
   ],
   "source": [
    "roc_auc_dict"
   ]
  },
  {
   "cell_type": "code",
   "execution_count": 18,
   "id": "7a80dd32",
   "metadata": {
    "execution": {
     "iopub.execute_input": "2022-07-12T06:53:21.009321Z",
     "iopub.status.busy": "2022-07-12T06:53:21.008949Z",
     "iopub.status.idle": "2022-07-12T06:53:21.015352Z",
     "shell.execute_reply": "2022-07-12T06:53:21.014286Z"
    },
    "papermill": {
     "duration": 0.019447,
     "end_time": "2022-07-12T06:53:21.019325",
     "exception": false,
     "start_time": "2022-07-12T06:53:20.999878",
     "status": "completed"
    },
    "tags": []
   },
   "outputs": [
    {
     "name": "stdout",
     "output_type": "stream",
     "text": [
      " - Logging roc_auc_per_digit (json) : {'0': 1.0, '1': 0.9988003748828491, '2': 1.0, '3': 0.9998500468603562, '4': 0.9994665447340345, '5': 0.9990627928772259, '6': 0.999961896052431, '7': 0.9998856881572931, '8': 0.9930249054224465, '9': 0.9994665447340344}\n"
     ]
    }
   ],
   "source": [
    "logger.log_value(\"roc_auc_per_digit\", roc_auc_dict)"
   ]
  },
  {
   "cell_type": "markdown",
   "id": "38250c04",
   "metadata": {
    "papermill": {
     "duration": 0.009141,
     "end_time": "2022-07-12T06:53:21.044904",
     "exception": false,
     "start_time": "2022-07-12T06:53:21.035763",
     "status": "completed"
    },
    "tags": []
   },
   "source": [
    "### Compute and log mean ROC AUC score averaged over all digits"
   ]
  },
  {
   "cell_type": "code",
   "execution_count": 19,
   "id": "ddbd91ab",
   "metadata": {
    "execution": {
     "iopub.execute_input": "2022-07-12T06:53:21.063481Z",
     "iopub.status.busy": "2022-07-12T06:53:21.063056Z",
     "iopub.status.idle": "2022-07-12T06:53:21.084931Z",
     "shell.execute_reply": "2022-07-12T06:53:21.083944Z"
    },
    "papermill": {
     "duration": 0.036035,
     "end_time": "2022-07-12T06:53:21.088734",
     "exception": false,
     "start_time": "2022-07-12T06:53:21.052699",
     "status": "completed"
    },
    "tags": []
   },
   "outputs": [
    {
     "name": "stdout",
     "output_type": "stream",
     "text": [
      " - Logging roc_auc_class_mean (float) : 0.998951879372067\n"
     ]
    }
   ],
   "source": [
    "roc_auc_macro = np.mean(list(roc_auc_dict.values()))\n",
    "\n",
    "logger.log_float(\"roc_auc_class_mean\", roc_auc_macro)\n",
    "\n",
    "# assert that the same value can be computed directly using sklearn\n",
    "assert roc_auc_macro == metrics.roc_auc_score(\n",
    "    y_test, y_pred_probs_test, average=\"macro\", multi_class=\"ovr\"\n",
    ")"
   ]
  },
  {
   "cell_type": "code",
   "execution_count": 20,
   "id": "42f0fe92",
   "metadata": {
    "execution": {
     "iopub.execute_input": "2022-07-12T06:53:21.108000Z",
     "iopub.status.busy": "2022-07-12T06:53:21.107359Z",
     "iopub.status.idle": "2022-07-12T06:53:21.112086Z",
     "shell.execute_reply": "2022-07-12T06:53:21.111115Z"
    },
    "lines_to_next_cell": 0,
    "papermill": {
     "duration": 0.017536,
     "end_time": "2022-07-12T06:53:21.115099",
     "exception": false,
     "start_time": "2022-07-12T06:53:21.097563",
     "status": "completed"
    },
    "tags": []
   },
   "outputs": [],
   "source": [
    "# ---"
   ]
  },
  {
   "cell_type": "code",
   "execution_count": null,
   "id": "c66b63ad",
   "metadata": {
    "papermill": {
     "duration": 0.015102,
     "end_time": "2022-07-12T06:53:21.140015",
     "exception": false,
     "start_time": "2022-07-12T06:53:21.124913",
     "status": "completed"
    },
    "tags": []
   },
   "outputs": [],
   "source": []
  }
 ],
 "metadata": {
  "jupytext": {
   "cell_metadata_filter": "tags,-all",
   "main_language": "python",
   "notebook_metadata_filter": "-all"
  },
  "language_info": {
   "codemirror_mode": {
    "name": "ipython",
    "version": 3
   },
   "file_extension": ".py",
   "mimetype": "text/x-python",
   "name": "python",
   "nbconvert_exporter": "python",
   "pygments_lexer": "ipython3",
   "version": "3.8.10"
  },
  "papermill": {
   "default_parameters": {},
   "duration": 15.397756,
   "end_time": "2022-07-12T06:53:22.471239",
   "environment_variables": {},
   "exception": null,
   "input_path": "/home/host_user/workspace/mnist-demo-pipeline/mnist-demo-pipeline/notebooks/temp-notebook-vpml7oh9.ipynb",
   "output_path": "notebooks/benchmark-model.ipynb",
   "parameters": {
    "P": {
     "_opentelemetry_traceparent": "00-77fa89566b16837304c76483fe43a14b-ea281e970b9fbf65-01",
     "pipeline.data_lake_root": "/pipeline-outputs/data-lake",
     "pipeline.github.actor": "matiasdahl",
     "pipeline.github.base_ref": "",
     "pipeline.github.event_name": "schedule",
     "pipeline.github.head_ref": "",
     "pipeline.github.job": "run-tests-pipeline-and-persist-pipeline-outputs",
     "pipeline.github.ref": "refs/heads/development",
     "pipeline.github.ref_name": "development",
     "pipeline.github.ref_type": "branch",
     "pipeline.github.repository": "pynb-dag-runner/mnist-digits-demo-pipeline",
     "pipeline.github.run_id": "2654616097",
     "pipeline.github.runner_name": "Hosted Agent",
     "pipeline.github.sha": "147a1be9916173fd4d2cd011d8d51e3411215850",
     "pipeline.github.workflow": "Run automated tests, pipeline and deploy results to static reporting site",
     "pipeline.pipeline_run_id": "aeca9ce4-c2b9-4420-af24-3b2d3c6a8a3b",
     "pipeline.run_environment": "ci",
     "run.retry_nr": "0",
     "task.max_nr_retries": "1",
     "task.notebook": "notebooks/benchmark-model.py",
     "task.nr_train_images": 800,
     "task.num_cpus": 1,
     "task.timeout_s": "None"
    }
   },
   "start_time": "2022-07-12T06:53:07.073483",
   "version": "2.3.3"
  }
 },
 "nbformat": 4,
 "nbformat_minor": 5
}