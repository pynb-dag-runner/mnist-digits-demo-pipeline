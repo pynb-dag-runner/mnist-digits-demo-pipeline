{
 "cells": [
  {
   "cell_type": "markdown",
   "id": "f2abccd9",
   "metadata": {
    "papermill": {
     "duration": 0.010188,
     "end_time": "2022-07-12T06:52:50.556291",
     "exception": false,
     "start_time": "2022-07-12T06:52:50.546103",
     "status": "completed"
    },
    "tags": []
   },
   "source": [
    "# Benchmark model\n",
    "\n",
    "The purpose of this notebook is to benchmark persisted onnx-model (trained in the\n",
    "previous step) against evaluation set."
   ]
  },
  {
   "cell_type": "markdown",
   "id": "29a7e4c4",
   "metadata": {
    "papermill": {
     "duration": 0.008407,
     "end_time": "2022-07-12T06:52:50.572990",
     "exception": false,
     "start_time": "2022-07-12T06:52:50.564583",
     "status": "completed"
    },
    "tags": []
   },
   "source": [
    "### Determine run parameters"
   ]
  },
  {
   "cell_type": "code",
   "execution_count": 1,
   "id": "4bcb8c4a",
   "metadata": {
    "execution": {
     "iopub.execute_input": "2022-07-12T06:52:50.590331Z",
     "iopub.status.busy": "2022-07-12T06:52:50.589863Z",
     "iopub.status.idle": "2022-07-12T06:52:50.612103Z",
     "shell.execute_reply": "2022-07-12T06:52:50.611344Z"
    },
    "lines_to_next_cell": 0,
    "papermill": {
     "duration": 0.034121,
     "end_time": "2022-07-12T06:52:50.615068",
     "exception": false,
     "start_time": "2022-07-12T06:52:50.580947",
     "status": "completed"
    },
    "tags": []
   },
   "outputs": [],
   "source": [
    "# ----------------- Parameters for interactive development --------------\n",
    "P = {\n",
    "    \"pipeline.data_lake_root\": \"/pipeline-outputs/data-lake\",\n",
    "    \"task.nr_train_images\": 600,\n",
    "}"
   ]
  },
  {
   "cell_type": "code",
   "execution_count": 2,
   "id": "e69980c7",
   "metadata": {
    "execution": {
     "iopub.execute_input": "2022-07-12T06:52:50.627979Z",
     "iopub.status.busy": "2022-07-12T06:52:50.627655Z",
     "iopub.status.idle": "2022-07-12T06:52:50.631587Z",
     "shell.execute_reply": "2022-07-12T06:52:50.630705Z"
    },
    "lines_to_next_cell": 0,
    "papermill": {
     "duration": 0.014834,
     "end_time": "2022-07-12T06:52:50.635056",
     "exception": false,
     "start_time": "2022-07-12T06:52:50.620222",
     "status": "completed"
    },
    "tags": [
     "parameters"
    ]
   },
   "outputs": [],
   "source": [
    "# - During automated runs parameters will be injected in the below cell -"
   ]
  },
  {
   "cell_type": "code",
   "execution_count": 3,
   "id": "fc17f3aa",
   "metadata": {
    "execution": {
     "iopub.execute_input": "2022-07-12T06:52:50.648435Z",
     "iopub.status.busy": "2022-07-12T06:52:50.648103Z",
     "iopub.status.idle": "2022-07-12T06:52:50.653924Z",
     "shell.execute_reply": "2022-07-12T06:52:50.653228Z"
    },
    "papermill": {
     "duration": 0.01716,
     "end_time": "2022-07-12T06:52:50.658396",
     "exception": false,
     "start_time": "2022-07-12T06:52:50.641236",
     "status": "completed"
    },
    "tags": [
     "injected-parameters"
    ]
   },
   "outputs": [],
   "source": [
    "# Parameters\n",
    "P = {\n",
    "    \"pipeline.data_lake_root\": \"/pipeline-outputs/data-lake\",\n",
    "    \"pipeline.run_environment\": \"ci\",\n",
    "    \"pipeline.pipeline_run_id\": \"aeca9ce4-c2b9-4420-af24-3b2d3c6a8a3b\",\n",
    "    \"pipeline.github.repository\": \"pynb-dag-runner/mnist-digits-demo-pipeline\",\n",
    "    \"pipeline.github.workflow\": \"Run automated tests, pipeline and deploy results to static reporting site\",\n",
    "    \"pipeline.github.runner_name\": \"Hosted Agent\",\n",
    "    \"pipeline.github.run_id\": \"2654616097\",\n",
    "    \"pipeline.github.actor\": \"matiasdahl\",\n",
    "    \"pipeline.github.job\": \"run-tests-pipeline-and-persist-pipeline-outputs\",\n",
    "    \"pipeline.github.base_ref\": \"\",\n",
    "    \"pipeline.github.head_ref\": \"\",\n",
    "    \"pipeline.github.sha\": \"147a1be9916173fd4d2cd011d8d51e3411215850\",\n",
    "    \"pipeline.github.ref\": \"refs/heads/development\",\n",
    "    \"pipeline.github.ref_type\": \"branch\",\n",
    "    \"pipeline.github.ref_name\": \"development\",\n",
    "    \"pipeline.github.event_name\": \"schedule\",\n",
    "    \"task.nr_train_images\": 600,\n",
    "    \"task.notebook\": \"notebooks/benchmark-model.py\",\n",
    "    \"task.max_nr_retries\": \"1\",\n",
    "    \"run.retry_nr\": \"0\",\n",
    "    \"task.timeout_s\": \"None\",\n",
    "    \"task.num_cpus\": 1,\n",
    "    \"_opentelemetry_traceparent\": \"00-77fa89566b16837304c76483fe43a14b-5e7f436d836fed37-01\",\n",
    "}\n"
   ]
  },
  {
   "cell_type": "code",
   "execution_count": 4,
   "id": "ff50d598",
   "metadata": {
    "execution": {
     "iopub.execute_input": "2022-07-12T06:52:50.672843Z",
     "iopub.status.busy": "2022-07-12T06:52:50.672470Z",
     "iopub.status.idle": "2022-07-12T06:52:50.676477Z",
     "shell.execute_reply": "2022-07-12T06:52:50.675780Z"
    },
    "lines_to_next_cell": 0,
    "papermill": {
     "duration": 0.016742,
     "end_time": "2022-07-12T06:52:50.680417",
     "exception": false,
     "start_time": "2022-07-12T06:52:50.663675",
     "status": "completed"
    },
    "tags": []
   },
   "outputs": [],
   "source": [
    "# -----------------------------------------------------------------------"
   ]
  },
  {
   "cell_type": "markdown",
   "id": "03150603",
   "metadata": {
    "papermill": {
     "duration": 0.005678,
     "end_time": "2022-07-12T06:52:50.691490",
     "exception": false,
     "start_time": "2022-07-12T06:52:50.685812",
     "status": "completed"
    },
    "tags": []
   },
   "source": [
    "---"
   ]
  },
  {
   "cell_type": "markdown",
   "id": "d2a7f83c",
   "metadata": {
    "lines_to_next_cell": 2,
    "papermill": {
     "duration": 0.005275,
     "end_time": "2022-07-12T06:52:50.702150",
     "exception": false,
     "start_time": "2022-07-12T06:52:50.696875",
     "status": "completed"
    },
    "tags": []
   },
   "source": [
    "### Notebook code"
   ]
  },
  {
   "cell_type": "code",
   "execution_count": 5,
   "id": "615faf97",
   "metadata": {
    "execution": {
     "iopub.execute_input": "2022-07-12T06:52:50.715796Z",
     "iopub.status.busy": "2022-07-12T06:52:50.715476Z",
     "iopub.status.idle": "2022-07-12T06:52:52.871566Z",
     "shell.execute_reply": "2022-07-12T06:52:52.870667Z"
    },
    "papermill": {
     "duration": 2.166254,
     "end_time": "2022-07-12T06:52:52.874622",
     "exception": false,
     "start_time": "2022-07-12T06:52:50.708368",
     "status": "completed"
    },
    "tags": []
   },
   "outputs": [
    {
     "name": "stderr",
     "output_type": "stream",
     "text": [
      "2022-07-12 06:52:52,667\tINFO worker.py:842 -- Connecting to existing Ray cluster at address: 172.17.0.2:6379\n"
     ]
    }
   ],
   "source": [
    "import itertools as it\n",
    "\n",
    "#\n",
    "import numpy as np\n",
    "import matplotlib.pyplot as plt\n",
    "\n",
    "#\n",
    "from pynb_dag_runner.tasks.task_opentelemetry_logging import PydarLogger\n",
    "\n",
    "#\n",
    "from common.io import datalake_root\n",
    "\n",
    "logger = PydarLogger(P)"
   ]
  },
  {
   "cell_type": "markdown",
   "id": "2dd25f93",
   "metadata": {
    "papermill": {
     "duration": 0.007137,
     "end_time": "2022-07-12T06:52:52.889454",
     "exception": false,
     "start_time": "2022-07-12T06:52:52.882317",
     "status": "completed"
    },
    "tags": []
   },
   "source": [
    "## Load persisted onnx-model and evaluation data"
   ]
  },
  {
   "cell_type": "code",
   "execution_count": 6,
   "id": "46f33930",
   "metadata": {
    "execution": {
     "iopub.execute_input": "2022-07-12T06:52:52.906698Z",
     "iopub.status.busy": "2022-07-12T06:52:52.905251Z",
     "iopub.status.idle": "2022-07-12T06:52:52.911381Z",
     "shell.execute_reply": "2022-07-12T06:52:52.910318Z"
    },
    "papermill": {
     "duration": 0.016863,
     "end_time": "2022-07-12T06:52:52.914499",
     "exception": false,
     "start_time": "2022-07-12T06:52:52.897636",
     "status": "completed"
    },
    "tags": []
   },
   "outputs": [],
   "source": [
    "from common.io import read_onnx, get_onnx_inputs, get_onnx_outputs, read_numpy"
   ]
  },
  {
   "cell_type": "code",
   "execution_count": 7,
   "id": "12e09574",
   "metadata": {
    "execution": {
     "iopub.execute_input": "2022-07-12T06:52:52.938631Z",
     "iopub.status.busy": "2022-07-12T06:52:52.937990Z",
     "iopub.status.idle": "2022-07-12T06:52:52.960977Z",
     "shell.execute_reply": "2022-07-12T06:52:52.959045Z"
    },
    "lines_to_next_cell": 0,
    "papermill": {
     "duration": 0.041116,
     "end_time": "2022-07-12T06:52:52.963458",
     "exception": false,
     "start_time": "2022-07-12T06:52:52.922342",
     "status": "completed"
    },
    "tags": []
   },
   "outputs": [],
   "source": [
    "onnx_inference_session = read_onnx(\n",
    "    datalake_root(P)\n",
    "    / \"models\"\n",
    "    / f\"nr_train_images={P['task.nr_train_images']}\"\n",
    "    / \"model.onnx\"\n",
    ")"
   ]
  },
  {
   "cell_type": "markdown",
   "id": "ab394056",
   "metadata": {
    "papermill": {
     "duration": 0.005603,
     "end_time": "2022-07-12T06:52:52.976581",
     "exception": false,
     "start_time": "2022-07-12T06:52:52.970978",
     "status": "completed"
    },
    "tags": []
   },
   "source": [
    "### Record structure of inputs and outputs for ONNX model\n",
    "\n",
    "(this should likely be done in training notebook)"
   ]
  },
  {
   "cell_type": "code",
   "execution_count": 8,
   "id": "d69c751f",
   "metadata": {
    "execution": {
     "iopub.execute_input": "2022-07-12T06:52:52.990871Z",
     "iopub.status.busy": "2022-07-12T06:52:52.990510Z",
     "iopub.status.idle": "2022-07-12T06:52:53.000694Z",
     "shell.execute_reply": "2022-07-12T06:52:52.999757Z"
    },
    "papermill": {
     "duration": 0.025105,
     "end_time": "2022-07-12T06:52:53.007901",
     "exception": false,
     "start_time": "2022-07-12T06:52:52.982796",
     "status": "completed"
    },
    "tags": []
   },
   "outputs": [
    {
     "name": "stdout",
     "output_type": "stream",
     "text": [
      "{\n",
      "  \"inputs\": [\n",
      "    {\n",
      "      \"name\": \"float_input_8x8_image\",\n",
      "      \"shape\": [\n",
      "        null,\n",
      "        64\n",
      "      ],\n",
      "      \"type\": \"tensor(float)\"\n",
      "    }\n",
      "  ],\n",
      "  \"outputs\": [\n",
      "    {\n",
      "      \"name\": \"output_label\",\n",
      "      \"shape\": [\n",
      "        null\n",
      "      ],\n",
      "      \"type\": \"tensor(int64)\"\n",
      "    },\n",
      "    {\n",
      "      \"name\": \"output_probability\",\n",
      "      \"shape\": [],\n",
      "      \"type\": \"seq(map(int64,tensor(float)))\"\n",
      "    }\n",
      "  ]\n",
      "}\n"
     ]
    }
   ],
   "source": [
    "import json\n",
    "\n",
    "onnx_io = json.dumps(\n",
    "    {\n",
    "        \"inputs\": get_onnx_inputs(onnx_inference_session),\n",
    "        \"outputs\": get_onnx_outputs(onnx_inference_session),\n",
    "    },\n",
    "    indent=2,\n",
    ")\n",
    "\n",
    "\n",
    "logger.log_artefact(\"onnx_io_structure.json\", onnx_io)\n",
    "print(onnx_io)"
   ]
  },
  {
   "cell_type": "markdown",
   "id": "27819861",
   "metadata": {
    "papermill": {
     "duration": 0.006488,
     "end_time": "2022-07-12T06:52:53.020630",
     "exception": false,
     "start_time": "2022-07-12T06:52:53.014142",
     "status": "completed"
    },
    "tags": []
   },
   "source": [
    "### Evaluate model performance on evaluation data set"
   ]
  },
  {
   "cell_type": "code",
   "execution_count": 9,
   "id": "332c94dc",
   "metadata": {
    "execution": {
     "iopub.execute_input": "2022-07-12T06:52:53.036847Z",
     "iopub.status.busy": "2022-07-12T06:52:53.036512Z",
     "iopub.status.idle": "2022-07-12T06:52:53.043502Z",
     "shell.execute_reply": "2022-07-12T06:52:53.042556Z"
    },
    "papermill": {
     "duration": 0.019378,
     "end_time": "2022-07-12T06:52:53.047723",
     "exception": false,
     "start_time": "2022-07-12T06:52:53.028345",
     "status": "completed"
    },
    "tags": []
   },
   "outputs": [],
   "source": [
    "# load evaluation data\n",
    "X_test = read_numpy(datalake_root(P) / \"test-data\" / \"digits.numpy\")\n",
    "y_test = read_numpy(datalake_root(P) / \"test-data\" / \"labels.numpy\")"
   ]
  },
  {
   "cell_type": "code",
   "execution_count": 10,
   "id": "2e12d393",
   "metadata": {
    "execution": {
     "iopub.execute_input": "2022-07-12T06:52:53.064421Z",
     "iopub.status.busy": "2022-07-12T06:52:53.064074Z",
     "iopub.status.idle": "2022-07-12T06:52:53.088360Z",
     "shell.execute_reply": "2022-07-12T06:52:53.086118Z"
    },
    "papermill": {
     "duration": 0.039286,
     "end_time": "2022-07-12T06:52:53.093752",
     "exception": false,
     "start_time": "2022-07-12T06:52:53.054466",
     "status": "completed"
    },
    "tags": []
   },
   "outputs": [],
   "source": [
    "def get_model_outputs(X, onnx_inference_session):\n",
    "    y_pred_labels, y_pred_map = onnx_inference_session.run(\n",
    "        [\"output_label\", \"output_probability\"],\n",
    "        {\"float_input_8x8_image\": X.astype(np.float32)},\n",
    "    )\n",
    "    y_pred_probs = np.array(\n",
    "        [[probabilities[digit] for digit in range(10)] for probabilities in y_pred_map]\n",
    "    )\n",
    "\n",
    "    assert y_pred_labels.shape == (X.shape[0],)\n",
    "    assert y_pred_probs.shape == (X.shape[0], 10)\n",
    "\n",
    "    return y_pred_labels, y_pred_probs\n",
    "\n",
    "\n",
    "# Note: as shown in the training notebook, the predicted labels and probabilities\n",
    "# computed below need not be compatible.\n",
    "y_pred_labels_test, y_pred_probs_test = get_model_outputs(\n",
    "    X_test, onnx_inference_session\n",
    ")"
   ]
  },
  {
   "cell_type": "markdown",
   "id": "ae8bf5a1",
   "metadata": {
    "papermill": {
     "duration": 0.006065,
     "end_time": "2022-07-12T06:52:53.112393",
     "exception": false,
     "start_time": "2022-07-12T06:52:53.106328",
     "status": "completed"
    },
    "tags": []
   },
   "source": [
    "### Confusion matrix"
   ]
  },
  {
   "cell_type": "code",
   "execution_count": 11,
   "id": "e4797ab0",
   "metadata": {
    "execution": {
     "iopub.execute_input": "2022-07-12T06:52:53.125316Z",
     "iopub.status.busy": "2022-07-12T06:52:53.124708Z",
     "iopub.status.idle": "2022-07-12T06:52:53.129497Z",
     "shell.execute_reply": "2022-07-12T06:52:53.128188Z"
    },
    "papermill": {
     "duration": 0.014057,
     "end_time": "2022-07-12T06:52:53.131562",
     "exception": false,
     "start_time": "2022-07-12T06:52:53.117505",
     "status": "completed"
    },
    "tags": []
   },
   "outputs": [],
   "source": [
    "# TODO"
   ]
  },
  {
   "cell_type": "markdown",
   "id": "e7c0041f",
   "metadata": {
    "papermill": {
     "duration": 0.005214,
     "end_time": "2022-07-12T06:52:53.146310",
     "exception": false,
     "start_time": "2022-07-12T06:52:53.141096",
     "status": "completed"
    },
    "tags": []
   },
   "source": [
    "### Plot predicted probabilities for each classifier over all evaluation digit images"
   ]
  },
  {
   "cell_type": "code",
   "execution_count": 12,
   "id": "98153d10",
   "metadata": {
    "execution": {
     "iopub.execute_input": "2022-07-12T06:52:53.158915Z",
     "iopub.status.busy": "2022-07-12T06:52:53.158544Z",
     "iopub.status.idle": "2022-07-12T06:52:58.963835Z",
     "shell.execute_reply": "2022-07-12T06:52:58.963009Z"
    },
    "papermill": {
     "duration": 5.822725,
     "end_time": "2022-07-12T06:52:58.974457",
     "exception": false,
     "start_time": "2022-07-12T06:52:53.151732",
     "status": "completed"
    },
    "tags": []
   },
   "outputs": [
    {
     "data": {
      "image/png": "[encoded data removed]",
      "text/plain": [
       "<Figure size 1152x432 with 10 Axes>"
      ]
     },
     "metadata": {
      "needs_background": "light"
     },
     "output_type": "display_data"
    }
   ],
   "source": [
    "def plot_per_digit_probabilities(y_pred_probs):\n",
    "    fig, axs = plt.subplots(nrows=2, ncols=5, figsize=(16, 6))\n",
    "\n",
    "    for (r, c), digit, ax in zip(\n",
    "        it.product(range(2), range(5)), range(10), axs.reshape(-1)\n",
    "    ):\n",
    "        ax.hist(y_pred_probs_test[:, digit], bins=20)\n",
    "\n",
    "        ax.set_title(f\"Digit {digit}\")\n",
    "        if r == 1 and c == 2:\n",
    "            ax.set_xlabel(\"probability\", fontsize=16)\n",
    "\n",
    "        if c == 0:\n",
    "            ax.set_ylabel(\"counts\", fontsize=16)\n",
    "        ax.set_yscale(\"log\")\n",
    "\n",
    "    fig.tight_layout()\n",
    "    fig.suptitle(\n",
    "        f\"Distributions of prediction probabilities for each digit \"\n",
    "        f\"(on evaluation data, n={y_pred_probs.shape[0]})\",\n",
    "        fontsize=20,\n",
    "    )\n",
    "    fig.tight_layout()\n",
    "    fig.show()\n",
    "\n",
    "    return fig\n",
    "\n",
    "\n",
    "fig = plot_per_digit_probabilities(y_pred_probs_test)"
   ]
  },
  {
   "cell_type": "markdown",
   "id": "5694fc66",
   "metadata": {
    "papermill": {
     "duration": 0.006752,
     "end_time": "2022-07-12T06:52:58.990251",
     "exception": false,
     "start_time": "2022-07-12T06:52:58.983499",
     "status": "completed"
    },
    "tags": []
   },
   "source": [
    "From the above distributions we see that most digits have clear separation between\n",
    "high and lower probabilities. Morover, in each case there is roughly an order of\n",
    "magnitude more of digits with low probabilities. This is compatible with digits\n",
    "being roughly evenly distributed in the data."
   ]
  },
  {
   "cell_type": "code",
   "execution_count": 13,
   "id": "deffee72",
   "metadata": {
    "execution": {
     "iopub.execute_input": "2022-07-12T06:52:59.023663Z",
     "iopub.status.busy": "2022-07-12T06:52:59.023299Z",
     "iopub.status.idle": "2022-07-12T06:52:59.860842Z",
     "shell.execute_reply": "2022-07-12T06:52:59.859914Z"
    },
    "papermill": {
     "duration": 0.864211,
     "end_time": "2022-07-12T06:52:59.863996",
     "exception": false,
     "start_time": "2022-07-12T06:52:58.999785",
     "status": "completed"
    },
    "tags": []
   },
   "outputs": [],
   "source": [
    "logger.log_figure(\"per-digit-probabilities.png\", fig)"
   ]
  },
  {
   "cell_type": "markdown",
   "id": "e6d397e1",
   "metadata": {
    "papermill": {
     "duration": 0.007701,
     "end_time": "2022-07-12T06:52:59.878813",
     "exception": false,
     "start_time": "2022-07-12T06:52:59.871112",
     "status": "completed"
    },
    "tags": []
   },
   "source": [
    "### Plot ROC curves for individual one-vs-rest classifiers"
   ]
  },
  {
   "cell_type": "code",
   "execution_count": 14,
   "id": "9db435c0",
   "metadata": {
    "execution": {
     "iopub.execute_input": "2022-07-12T06:52:59.893855Z",
     "iopub.status.busy": "2022-07-12T06:52:59.893502Z",
     "iopub.status.idle": "2022-07-12T06:53:00.487609Z",
     "shell.execute_reply": "2022-07-12T06:53:00.486456Z"
    },
    "papermill": {
     "duration": 0.605192,
     "end_time": "2022-07-12T06:53:00.490406",
     "exception": false,
     "start_time": "2022-07-12T06:52:59.885214",
     "status": "completed"
    },
    "tags": []
   },
   "outputs": [],
   "source": [
    "from sklearn import metrics"
   ]
  },
  {
   "cell_type": "code",
   "execution_count": 15,
   "id": "8275437c",
   "metadata": {
    "execution": {
     "iopub.execute_input": "2022-07-12T06:53:00.506953Z",
     "iopub.status.busy": "2022-07-12T06:53:00.506431Z",
     "iopub.status.idle": "2022-07-12T06:53:03.266227Z",
     "shell.execute_reply": "2022-07-12T06:53:03.264956Z"
    },
    "papermill": {
     "duration": 2.76999,
     "end_time": "2022-07-12T06:53:03.268398",
     "exception": false,
     "start_time": "2022-07-12T06:53:00.498408",
     "status": "completed"
    },
    "tags": []
   },
   "outputs": [
    {
     "data": {
      "image/png": "[encoded data removed]",
      "text/plain": [
       "<Figure size 1152x576 with 10 Axes>"
      ]
     },
     "metadata": {
      "needs_background": "light"
     },
     "output_type": "display_data"
    }
   ],
   "source": [
    "def plot_roc_curves(y, y_pred_probs):\n",
    "    # based on example code\n",
    "    # https://scikit-learn.org/stable/auto_examples/model_selection/plot_roc.html\n",
    "\n",
    "    fig, axs = plt.subplots(nrows=2, ncols=5, figsize=(16, 8))\n",
    "\n",
    "    roc_auc_dict = {}\n",
    "\n",
    "    for (r, c), digit, ax in zip(\n",
    "        it.product(range(2), range(5)), range(10), axs.reshape(-1)\n",
    "    ):\n",
    "        fpr, tpr, _ = metrics.roc_curve(y == digit, y_pred_probs[:, digit])\n",
    "        auc = metrics.auc(fpr, tpr)\n",
    "        roc_auc_dict[str(digit)] = auc\n",
    "\n",
    "        ax.plot(fpr, tpr, label=f\"ROC AUC={round(auc, 3)}\")\n",
    "\n",
    "        ax.set_title(f\"\\nDigit {digit}\", fontsize=16)\n",
    "        if r == 1:\n",
    "            ax.set_xlabel(\"FPR\", fontsize=18)\n",
    "\n",
    "        if c == 0:\n",
    "            ax.set_ylabel(\"TPR\", fontsize=18)\n",
    "\n",
    "        ax.set_xlim([-0.05, 1.05])\n",
    "        ax.set_ylim([-0.05, 1.05])\n",
    "        ax.legend(loc=\"lower right\", frameon=False, fontsize=14)\n",
    "\n",
    "    fig.tight_layout()\n",
    "    fig.suptitle(\n",
    "        f\"ROC plots for one-vs-rest performances \"\n",
    "        f\"(on evaluation data, n={y_pred_probs_test.shape[1]}\",\n",
    "        fontsize=22,\n",
    "    )\n",
    "    fig.tight_layout()\n",
    "    fig.show()\n",
    "\n",
    "    return roc_auc_dict, fig\n",
    "\n",
    "\n",
    "roc_auc_dict, fig = plot_roc_curves(y_test, y_pred_probs_test)"
   ]
  },
  {
   "cell_type": "code",
   "execution_count": 16,
   "id": "b006a9a3",
   "metadata": {
    "execution": {
     "iopub.execute_input": "2022-07-12T06:53:03.288945Z",
     "iopub.status.busy": "2022-07-12T06:53:03.288583Z",
     "iopub.status.idle": "2022-07-12T06:53:03.678417Z",
     "shell.execute_reply": "2022-07-12T06:53:03.677583Z"
    },
    "papermill": {
     "duration": 0.401855,
     "end_time": "2022-07-12T06:53:03.680930",
     "exception": false,
     "start_time": "2022-07-12T06:53:03.279075",
     "status": "completed"
    },
    "tags": []
   },
   "outputs": [],
   "source": [
    "logger.log_figure(\"per-digit-roc-curves.png\", fig)"
   ]
  },
  {
   "cell_type": "code",
   "execution_count": 17,
   "id": "8b29d117",
   "metadata": {
    "execution": {
     "iopub.execute_input": "2022-07-12T06:53:03.700947Z",
     "iopub.status.busy": "2022-07-12T06:53:03.700541Z",
     "iopub.status.idle": "2022-07-12T06:53:03.707973Z",
     "shell.execute_reply": "2022-07-12T06:53:03.706852Z"
    },
    "papermill": {
     "duration": 0.02277,
     "end_time": "2022-07-12T06:53:03.713258",
     "exception": false,
     "start_time": "2022-07-12T06:53:03.690488",
     "status": "completed"
    },
    "tags": []
   },
   "outputs": [
    {
     "data": {
      "text/plain": [
       "{'0': 1.0,\n",
       " '1': 0.9992877225866916,\n",
       " '2': 1.0,\n",
       " '3': 0.9997375820056232,\n",
       " '4': 0.9991617131534827,\n",
       " '5': 0.998875351452671,\n",
       " '6': 0.999961896052431,\n",
       " '7': 0.9998475842097241,\n",
       " '8': 0.9943253467843631,\n",
       " '9': 0.9989330894680689}"
      ]
     },
     "execution_count": 17,
     "metadata": {},
     "output_type": "execute_result"
    }
   ],
   "source": [
    "roc_auc_dict"
   ]
  },
  {
   "cell_type": "code",
   "execution_count": 18,
   "id": "c55aafff",
   "metadata": {
    "execution": {
     "iopub.execute_input": "2022-07-12T06:53:03.732467Z",
     "iopub.status.busy": "2022-07-12T06:53:03.731923Z",
     "iopub.status.idle": "2022-07-12T06:53:03.739896Z",
     "shell.execute_reply": "2022-07-12T06:53:03.739002Z"
    },
    "papermill": {
     "duration": 0.023176,
     "end_time": "2022-07-12T06:53:03.745241",
     "exception": false,
     "start_time": "2022-07-12T06:53:03.722065",
     "status": "completed"
    },
    "tags": []
   },
   "outputs": [
    {
     "name": "stdout",
     "output_type": "stream",
     "text": [
      " - Logging roc_auc_per_digit (json) : {'0': 1.0, '1': 0.9992877225866916, '2': 1.0, '3': 0.9997375820056232, '4': 0.9991617131534827, '5': 0.998875351452671, '6': 0.999961896052431, '7': 0.9998475842097241, '8': 0.9943253467843631, '9': 0.9989330894680689}\n"
     ]
    }
   ],
   "source": [
    "logger.log_value(\"roc_auc_per_digit\", roc_auc_dict)"
   ]
  },
  {
   "cell_type": "markdown",
   "id": "e09578da",
   "metadata": {
    "papermill": {
     "duration": 0.012906,
     "end_time": "2022-07-12T06:53:03.770949",
     "exception": false,
     "start_time": "2022-07-12T06:53:03.758043",
     "status": "completed"
    },
    "tags": []
   },
   "source": [
    "### Compute and log mean ROC AUC score averaged over all digits"
   ]
  },
  {
   "cell_type": "code",
   "execution_count": 19,
   "id": "d5869ef5",
   "metadata": {
    "execution": {
     "iopub.execute_input": "2022-07-12T06:53:03.789025Z",
     "iopub.status.busy": "2022-07-12T06:53:03.788669Z",
     "iopub.status.idle": "2022-07-12T06:53:03.813752Z",
     "shell.execute_reply": "2022-07-12T06:53:03.812883Z"
    },
    "papermill": {
     "duration": 0.037811,
     "end_time": "2022-07-12T06:53:03.816985",
     "exception": false,
     "start_time": "2022-07-12T06:53:03.779174",
     "status": "completed"
    },
    "tags": []
   },
   "outputs": [
    {
     "name": "stdout",
     "output_type": "stream",
     "text": [
      " - Logging roc_auc_class_mean (float) : 0.9990130285713056\n"
     ]
    }
   ],
   "source": [
    "roc_auc_macro = np.mean(list(roc_auc_dict.values()))\n",
    "\n",
    "logger.log_float(\"roc_auc_class_mean\", roc_auc_macro)\n",
    "\n",
    "# assert that the same value can be computed directly using sklearn\n",
    "assert roc_auc_macro == metrics.roc_auc_score(\n",
    "    y_test, y_pred_probs_test, average=\"macro\", multi_class=\"ovr\"\n",
    ")"
   ]
  },
  {
   "cell_type": "code",
   "execution_count": 20,
   "id": "a1dc85de",
   "metadata": {
    "execution": {
     "iopub.execute_input": "2022-07-12T06:53:03.835509Z",
     "iopub.status.busy": "2022-07-12T06:53:03.835147Z",
     "iopub.status.idle": "2022-07-12T06:53:03.839730Z",
     "shell.execute_reply": "2022-07-12T06:53:03.838929Z"
    },
    "lines_to_next_cell": 0,
    "papermill": {
     "duration": 0.01889,
     "end_time": "2022-07-12T06:53:03.844092",
     "exception": false,
     "start_time": "2022-07-12T06:53:03.825202",
     "status": "completed"
    },
    "tags": []
   },
   "outputs": [],
   "source": [
    "# ---"
   ]
  },
  {
   "cell_type": "code",
   "execution_count": null,
   "id": "9585945e",
   "metadata": {
    "papermill": {
     "duration": 0.013635,
     "end_time": "2022-07-12T06:53:03.865749",
     "exception": false,
     "start_time": "2022-07-12T06:53:03.852114",
     "status": "completed"
    },
    "tags": []
   },
   "outputs": [],
   "source": []
  }
 ],
 "metadata": {
  "jupytext": {
   "cell_metadata_filter": "tags,-all",
   "main_language": "python",
   "notebook_metadata_filter": "-all"
  },
  "language_info": {
   "codemirror_mode": {
    "name": "ipython",
    "version": 3
   },
   "file_extension": ".py",
   "mimetype": "text/x-python",
   "name": "python",
   "nbconvert_exporter": "python",
   "pygments_lexer": "ipython3",
   "version": "3.8.10"
  },
  "papermill": {
   "default_parameters": {},
   "duration": 16.321443,
   "end_time": "2022-07-12T06:53:05.211115",
   "environment_variables": {},
   "exception": null,
   "input_path": "/home/host_user/workspace/mnist-demo-pipeline/mnist-demo-pipeline/notebooks/temp-notebook-765kqz57.ipynb",
   "output_path": "notebooks/benchmark-model.ipynb",
   "parameters": {
    "P": {
     "_opentelemetry_traceparent": "00-77fa89566b16837304c76483fe43a14b-5e7f436d836fed37-01",
     "pipeline.data_lake_root": "/pipeline-outputs/data-lake",
     "pipeline.github.actor": "matiasdahl",
     "pipeline.github.base_ref": "",
     "pipeline.github.event_name": "schedule",
     "pipeline.github.head_ref": "",
     "pipeline.github.job": "run-tests-pipeline-and-persist-pipeline-outputs",
     "pipeline.github.ref": "refs/heads/development",
     "pipeline.github.ref_name": "development",
     "pipeline.github.ref_type": "branch",
     "pipeline.github.repository": "pynb-dag-runner/mnist-digits-demo-pipeline",
     "pipeline.github.run_id": "2654616097",
     "pipeline.github.runner_name": "Hosted Agent",
     "pipeline.github.sha": "147a1be9916173fd4d2cd011d8d51e3411215850",
     "pipeline.github.workflow": "Run automated tests, pipeline and deploy results to static reporting site",
     "pipeline.pipeline_run_id": "aeca9ce4-c2b9-4420-af24-3b2d3c6a8a3b",
     "pipeline.run_environment": "ci",
     "run.retry_nr": "0",
     "task.max_nr_retries": "1",
     "task.notebook": "notebooks/benchmark-model.py",
     "task.nr_train_images": 600,
     "task.num_cpus": 1,
     "task.timeout_s": "None"
    }
   },
   "start_time": "2022-07-12T06:52:48.889672",
   "version": "2.3.3"
  }
 },
 "nbformat": 4,
 "nbformat_minor": 5
}