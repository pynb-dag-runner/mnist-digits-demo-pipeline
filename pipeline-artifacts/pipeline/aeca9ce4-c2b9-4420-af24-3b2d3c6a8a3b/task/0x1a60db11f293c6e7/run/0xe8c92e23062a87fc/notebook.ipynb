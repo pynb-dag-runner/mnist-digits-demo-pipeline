{
 "cells": [
  {
   "cell_type": "markdown",
   "id": "3b28ce3c",
   "metadata": {
    "papermill": {
     "duration": 0.004863,
     "end_time": "2022-07-12T06:52:19.856244",
     "exception": false,
     "start_time": "2022-07-12T06:52:19.851381",
     "status": "completed"
    },
    "tags": []
   },
   "source": [
    "# Ingest toy version of MNIST digit data from sklearn"
   ]
  },
  {
   "cell_type": "markdown",
   "id": "6f410dcc",
   "metadata": {
    "papermill": {
     "duration": 0.003064,
     "end_time": "2022-07-12T06:52:19.863796",
     "exception": false,
     "start_time": "2022-07-12T06:52:19.860732",
     "status": "completed"
    },
    "tags": []
   },
   "source": [
    "### Determine run parameters"
   ]
  },
  {
   "cell_type": "code",
   "execution_count": 1,
   "id": "51579e66",
   "metadata": {
    "execution": {
     "iopub.execute_input": "2022-07-12T06:52:19.873665Z",
     "iopub.status.busy": "2022-07-12T06:52:19.872805Z",
     "iopub.status.idle": "2022-07-12T06:52:19.883152Z",
     "shell.execute_reply": "2022-07-12T06:52:19.882112Z"
    },
    "lines_to_next_cell": 0,
    "papermill": {
     "duration": 0.017587,
     "end_time": "2022-07-12T06:52:19.885582",
     "exception": false,
     "start_time": "2022-07-12T06:52:19.867995",
     "status": "completed"
    },
    "tags": []
   },
   "outputs": [],
   "source": [
    "# ----------------- Parameters for interactive development --------------\n",
    "P = {\n",
    "    \"pipeline.run_environment\": \"dev\",\n",
    "    \"pipeline.data_lake_root\": \"/pipeline-outputs/data-lake\",\n",
    "    \"run.retry_nr\": \"1\",\n",
    "}"
   ]
  },
  {
   "cell_type": "code",
   "execution_count": 2,
   "id": "8a6f5356",
   "metadata": {
    "execution": {
     "iopub.execute_input": "2022-07-12T06:52:19.898124Z",
     "iopub.status.busy": "2022-07-12T06:52:19.897722Z",
     "iopub.status.idle": "2022-07-12T06:52:19.903513Z",
     "shell.execute_reply": "2022-07-12T06:52:19.902484Z"
    },
    "lines_to_next_cell": 0,
    "papermill": {
     "duration": 0.01646,
     "end_time": "2022-07-12T06:52:19.905756",
     "exception": false,
     "start_time": "2022-07-12T06:52:19.889296",
     "status": "completed"
    },
    "tags": [
     "parameters"
    ]
   },
   "outputs": [],
   "source": [
    "# - During automated runs parameters will be injected in the below cell -"
   ]
  },
  {
   "cell_type": "code",
   "execution_count": 3,
   "id": "49256cfa",
   "metadata": {
    "execution": {
     "iopub.execute_input": "2022-07-12T06:52:19.914218Z",
     "iopub.status.busy": "2022-07-12T06:52:19.913879Z",
     "iopub.status.idle": "2022-07-12T06:52:19.923578Z",
     "shell.execute_reply": "2022-07-12T06:52:19.922585Z"
    },
    "papermill": {
     "duration": 0.016752,
     "end_time": "2022-07-12T06:52:19.926129",
     "exception": false,
     "start_time": "2022-07-12T06:52:19.909377",
     "status": "completed"
    },
    "tags": [
     "injected-parameters"
    ]
   },
   "outputs": [],
   "source": [
    "# Parameters\n",
    "P = {\n",
    "    \"pipeline.data_lake_root\": \"/pipeline-outputs/data-lake\",\n",
    "    \"pipeline.run_environment\": \"ci\",\n",
    "    \"pipeline.pipeline_run_id\": \"aeca9ce4-c2b9-4420-af24-3b2d3c6a8a3b\",\n",
    "    \"pipeline.github.repository\": \"pynb-dag-runner/mnist-digits-demo-pipeline\",\n",
    "    \"pipeline.github.workflow\": \"Run automated tests, pipeline and deploy results to static reporting site\",\n",
    "    \"pipeline.github.runner_name\": \"Hosted Agent\",\n",
    "    \"pipeline.github.run_id\": \"2654616097\",\n",
    "    \"pipeline.github.actor\": \"matiasdahl\",\n",
    "    \"pipeline.github.job\": \"run-tests-pipeline-and-persist-pipeline-outputs\",\n",
    "    \"pipeline.github.base_ref\": \"\",\n",
    "    \"pipeline.github.head_ref\": \"\",\n",
    "    \"pipeline.github.sha\": \"147a1be9916173fd4d2cd011d8d51e3411215850\",\n",
    "    \"pipeline.github.ref\": \"refs/heads/development\",\n",
    "    \"pipeline.github.ref_type\": \"branch\",\n",
    "    \"pipeline.github.ref_name\": \"development\",\n",
    "    \"pipeline.github.event_name\": \"schedule\",\n",
    "    \"task.notebook\": \"notebooks/ingest.py\",\n",
    "    \"task.max_nr_retries\": \"15\",\n",
    "    \"run.retry_nr\": \"10\",\n",
    "    \"task.timeout_s\": \"10\",\n",
    "    \"task.num_cpus\": 1,\n",
    "    \"_opentelemetry_traceparent\": \"00-77fa89566b16837304c76483fe43a14b-053f2c93fcf813c9-01\",\n",
    "}\n"
   ]
  },
  {
   "cell_type": "code",
   "execution_count": 4,
   "id": "06cb2d3d",
   "metadata": {
    "execution": {
     "iopub.execute_input": "2022-07-12T06:52:19.935269Z",
     "iopub.status.busy": "2022-07-12T06:52:19.934692Z",
     "iopub.status.idle": "2022-07-12T06:52:19.939705Z",
     "shell.execute_reply": "2022-07-12T06:52:19.937914Z"
    },
    "lines_to_next_cell": 0,
    "papermill": {
     "duration": 0.011854,
     "end_time": "2022-07-12T06:52:19.942043",
     "exception": false,
     "start_time": "2022-07-12T06:52:19.930189",
     "status": "completed"
    },
    "tags": []
   },
   "outputs": [],
   "source": [
    "# -----------------------------------------------------------------------"
   ]
  },
  {
   "cell_type": "markdown",
   "id": "aa7eb126",
   "metadata": {
    "lines_to_next_cell": 2,
    "papermill": {
     "duration": 0.00283,
     "end_time": "2022-07-12T06:52:19.948237",
     "exception": false,
     "start_time": "2022-07-12T06:52:19.945407",
     "status": "completed"
    },
    "tags": []
   },
   "source": [
    "---"
   ]
  },
  {
   "cell_type": "markdown",
   "id": "02c5441e",
   "metadata": {
    "papermill": {
     "duration": 0.003186,
     "end_time": "2022-07-12T06:52:19.954671",
     "exception": false,
     "start_time": "2022-07-12T06:52:19.951485",
     "status": "completed"
    },
    "tags": []
   },
   "source": [
    "### Simulate different types of failures (for testing timeout and retry logic)"
   ]
  },
  {
   "cell_type": "code",
   "execution_count": 5,
   "id": "d870bede",
   "metadata": {
    "execution": {
     "iopub.execute_input": "2022-07-12T06:52:19.963043Z",
     "iopub.status.busy": "2022-07-12T06:52:19.962511Z",
     "iopub.status.idle": "2022-07-12T06:52:20.557008Z",
     "shell.execute_reply": "2022-07-12T06:52:20.555075Z"
    },
    "papermill": {
     "duration": 0.6026,
     "end_time": "2022-07-12T06:52:20.560060",
     "exception": false,
     "start_time": "2022-07-12T06:52:19.957460",
     "status": "completed"
    },
    "tags": []
   },
   "outputs": [
    {
     "name": "stderr",
     "output_type": "stream",
     "text": [
      "2022-07-12 06:52:20,385\tINFO worker.py:842 -- Connecting to existing Ray cluster at address: 172.17.0.2:6379\n"
     ]
    }
   ],
   "source": [
    "from pynb_dag_runner.tasks.task_opentelemetry_logging import PydarLogger\n",
    "\n",
    "logger = PydarLogger(P)"
   ]
  },
  {
   "cell_type": "code",
   "execution_count": 6,
   "id": "7ff2656f",
   "metadata": {
    "execution": {
     "iopub.execute_input": "2022-07-12T06:52:20.570124Z",
     "iopub.status.busy": "2022-07-12T06:52:20.569311Z",
     "iopub.status.idle": "2022-07-12T06:52:20.578994Z",
     "shell.execute_reply": "2022-07-12T06:52:20.577947Z"
    },
    "papermill": {
     "duration": 0.01779,
     "end_time": "2022-07-12T06:52:20.581504",
     "exception": false,
     "start_time": "2022-07-12T06:52:20.563714",
     "status": "completed"
    },
    "tags": []
   },
   "outputs": [],
   "source": [
    "import time, random\n",
    "\n",
    "\n",
    "def maybe_crash(retry_nr: int, run_environment: str):\n",
    "    if retry_nr == 2 and run_environment == \"ci\":\n",
    "        time.sleep(1e6)\n",
    "\n",
    "    max_retry_nr: int = 3 if run_environment == \"dev\" else 10\n",
    "\n",
    "    if retry_nr < max_retry_nr:\n",
    "        if random.random() < 0.1:\n",
    "            time.sleep(1e6)\n",
    "        else:\n",
    "            raise Exception(\"Simulated exception failure from ingestion step notebook!\")\n",
    "\n",
    "\n",
    "maybe_crash(\n",
    "    retry_nr=int(P[\"run.retry_nr\"]), run_environment=P[\"pipeline.run_environment\"]\n",
    ")"
   ]
  },
  {
   "cell_type": "markdown",
   "id": "fd1e91d2",
   "metadata": {
    "lines_to_next_cell": 2,
    "papermill": {
     "duration": 0.004311,
     "end_time": "2022-07-12T06:52:20.589126",
     "exception": false,
     "start_time": "2022-07-12T06:52:20.584815",
     "status": "completed"
    },
    "tags": []
   },
   "source": [
    "### Notebook code"
   ]
  },
  {
   "cell_type": "code",
   "execution_count": 7,
   "id": "c23af2a2",
   "metadata": {
    "execution": {
     "iopub.execute_input": "2022-07-12T06:52:20.600734Z",
     "iopub.status.busy": "2022-07-12T06:52:20.600030Z",
     "iopub.status.idle": "2022-07-12T06:52:22.291471Z",
     "shell.execute_reply": "2022-07-12T06:52:22.290506Z"
    },
    "papermill": {
     "duration": 1.702152,
     "end_time": "2022-07-12T06:52:22.294513",
     "exception": false,
     "start_time": "2022-07-12T06:52:20.592361",
     "status": "completed"
    },
    "tags": []
   },
   "outputs": [],
   "source": [
    "from sklearn import datasets\n",
    "\n",
    "#\n",
    "from common.io import datalake_root, write_numpy"
   ]
  },
  {
   "cell_type": "code",
   "execution_count": 8,
   "id": "0a4888ed",
   "metadata": {
    "execution": {
     "iopub.execute_input": "2022-07-12T06:52:22.306235Z",
     "iopub.status.busy": "2022-07-12T06:52:22.305660Z",
     "iopub.status.idle": "2022-07-12T06:52:22.325331Z",
     "shell.execute_reply": "2022-07-12T06:52:22.323864Z"
    },
    "lines_to_next_cell": 2,
    "papermill": {
     "duration": 0.029272,
     "end_time": "2022-07-12T06:52:22.328287",
     "exception": false,
     "start_time": "2022-07-12T06:52:22.299015",
     "status": "completed"
    },
    "tags": []
   },
   "outputs": [],
   "source": [
    "digits = datasets.load_digits()\n",
    "\n",
    "X = digits[\"data\"]\n",
    "y = digits[\"target\"]"
   ]
  },
  {
   "cell_type": "code",
   "execution_count": 9,
   "id": "ef441758",
   "metadata": {
    "execution": {
     "iopub.execute_input": "2022-07-12T06:52:22.336914Z",
     "iopub.status.busy": "2022-07-12T06:52:22.336590Z",
     "iopub.status.idle": "2022-07-12T06:52:22.352364Z",
     "shell.execute_reply": "2022-07-12T06:52:22.351173Z"
    },
    "papermill": {
     "duration": 0.025412,
     "end_time": "2022-07-12T06:52:22.357498",
     "exception": false,
     "start_time": "2022-07-12T06:52:22.332086",
     "status": "completed"
    },
    "tags": []
   },
   "outputs": [
    {
     "name": "stdout",
     "output_type": "stream",
     "text": [
      " - Logging data_shape (json) : [1797, 64]\n",
      " - Logging target_shape (json) : [1797]\n"
     ]
    },
    {
     "data": {
      "text/plain": [
       "((1797, 64), (1797,))"
      ]
     },
     "execution_count": 9,
     "metadata": {},
     "output_type": "execute_result"
    }
   ],
   "source": [
    "logger.log_value(\"data_shape\", list(X.shape))\n",
    "logger.log_value(\"target_shape\", list(y.shape))\n",
    "\n",
    "X.shape, y.shape"
   ]
  },
  {
   "cell_type": "code",
   "execution_count": 10,
   "id": "183e49d4",
   "metadata": {
    "execution": {
     "iopub.execute_input": "2022-07-12T06:52:22.366644Z",
     "iopub.status.busy": "2022-07-12T06:52:22.366287Z",
     "iopub.status.idle": "2022-07-12T06:52:22.394238Z",
     "shell.execute_reply": "2022-07-12T06:52:22.392776Z"
    },
    "papermill": {
     "duration": 0.035371,
     "end_time": "2022-07-12T06:52:22.396647",
     "exception": false,
     "start_time": "2022-07-12T06:52:22.361276",
     "status": "completed"
    },
    "tags": []
   },
   "outputs": [],
   "source": [
    "write_numpy(datalake_root(P) / \"raw\" / \"digits.numpy\", X)\n",
    "write_numpy(datalake_root(P) / \"raw\" / \"labels.numpy\", y)"
   ]
  },
  {
   "cell_type": "code",
   "execution_count": null,
   "id": "b9d39d41",
   "metadata": {
    "papermill": {
     "duration": 0.005084,
     "end_time": "2022-07-12T06:52:22.406460",
     "exception": false,
     "start_time": "2022-07-12T06:52:22.401376",
     "status": "completed"
    },
    "tags": []
   },
   "outputs": [],
   "source": []
  }
 ],
 "metadata": {
  "jupytext": {
   "cell_metadata_filter": "tags,-all",
   "main_language": "python",
   "notebook_metadata_filter": "-all"
  },
  "language_info": {
   "codemirror_mode": {
    "name": "ipython",
    "version": 3
   },
   "file_extension": ".py",
   "mimetype": "text/x-python",
   "name": "python",
   "nbconvert_exporter": "python",
   "pygments_lexer": "ipython3",
   "version": "3.8.10"
  },
  "papermill": {
   "default_parameters": {},
   "duration": 5.073605,
   "end_time": "2022-07-12T06:52:23.433475",
   "environment_variables": {},
   "exception": null,
   "input_path": "/home/host_user/workspace/mnist-demo-pipeline/mnist-demo-pipeline/notebooks/temp-notebook-zzb2cjvd.ipynb",
   "output_path": "notebooks/ingest.ipynb",
   "parameters": {
    "P": {
     "_opentelemetry_traceparent": "00-77fa89566b16837304c76483fe43a14b-053f2c93fcf813c9-01",
     "pipeline.data_lake_root": "/pipeline-outputs/data-lake",
     "pipeline.github.actor": "matiasdahl",
     "pipeline.github.base_ref": "",
     "pipeline.github.event_name": "schedule",
     "pipeline.github.head_ref": "",
     "pipeline.github.job": "run-tests-pipeline-and-persist-pipeline-outputs",
     "pipeline.github.ref": "refs/heads/development",
     "pipeline.github.ref_name": "development",
     "pipeline.github.ref_type": "branch",
     "pipeline.github.repository": "pynb-dag-runner/mnist-digits-demo-pipeline",
     "pipeline.github.run_id": "2654616097",
     "pipeline.github.runner_name": "Hosted Agent",
     "pipeline.github.sha": "147a1be9916173fd4d2cd011d8d51e3411215850",
     "pipeline.github.workflow": "Run automated tests, pipeline and deploy results to static reporting site",
     "pipeline.pipeline_run_id": "aeca9ce4-c2b9-4420-af24-3b2d3c6a8a3b",
     "pipeline.run_environment": "ci",
     "run.retry_nr": "10",
     "task.max_nr_retries": "15",
     "task.notebook": "notebooks/ingest.py",
     "task.num_cpus": 1,
     "task.timeout_s": "10"
    }
   },
   "start_time": "2022-07-12T06:52:18.359870",
   "version": "2.3.3"
  }
 },
 "nbformat": 4,
 "nbformat_minor": 5
}