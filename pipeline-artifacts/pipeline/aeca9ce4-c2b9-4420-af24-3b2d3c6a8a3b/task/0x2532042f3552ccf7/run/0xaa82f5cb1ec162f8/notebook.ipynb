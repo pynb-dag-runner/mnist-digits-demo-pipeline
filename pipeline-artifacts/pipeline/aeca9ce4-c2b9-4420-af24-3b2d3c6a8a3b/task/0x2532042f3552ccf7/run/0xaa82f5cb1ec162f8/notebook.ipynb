{
 "cells": [
  {
   "cell_type": "markdown",
   "id": "256ea152",
   "metadata": {
    "papermill": {
     "duration": 0.022358,
     "end_time": "2022-07-12T06:52:58.638995",
     "exception": false,
     "start_time": "2022-07-12T06:52:58.616637",
     "status": "completed"
    },
    "tags": []
   },
   "source": [
    "# Benchmark model\n",
    "\n",
    "The purpose of this notebook is to benchmark persisted onnx-model (trained in the\n",
    "previous step) against evaluation set."
   ]
  },
  {
   "cell_type": "markdown",
   "id": "7632784c",
   "metadata": {
    "papermill": {
     "duration": 0.007247,
     "end_time": "2022-07-12T06:52:58.654175",
     "exception": false,
     "start_time": "2022-07-12T06:52:58.646928",
     "status": "completed"
    },
    "tags": []
   },
   "source": [
    "### Determine run parameters"
   ]
  },
  {
   "cell_type": "code",
   "execution_count": 1,
   "id": "ef8ddf78",
   "metadata": {
    "execution": {
     "iopub.execute_input": "2022-07-12T06:52:58.683156Z",
     "iopub.status.busy": "2022-07-12T06:52:58.682747Z",
     "iopub.status.idle": "2022-07-12T06:52:58.696593Z",
     "shell.execute_reply": "2022-07-12T06:52:58.695817Z"
    },
    "lines_to_next_cell": 0,
    "papermill": {
     "duration": 0.03614,
     "end_time": "2022-07-12T06:52:58.700274",
     "exception": false,
     "start_time": "2022-07-12T06:52:58.664134",
     "status": "completed"
    },
    "tags": []
   },
   "outputs": [],
   "source": [
    "# ----------------- Parameters for interactive development --------------\n",
    "P = {\n",
    "    \"pipeline.data_lake_root\": \"/pipeline-outputs/data-lake\",\n",
    "    \"task.nr_train_images\": 600,\n",
    "}"
   ]
  },
  {
   "cell_type": "code",
   "execution_count": 2,
   "id": "e67f042f",
   "metadata": {
    "execution": {
     "iopub.execute_input": "2022-07-12T06:52:58.713967Z",
     "iopub.status.busy": "2022-07-12T06:52:58.713639Z",
     "iopub.status.idle": "2022-07-12T06:52:58.718381Z",
     "shell.execute_reply": "2022-07-12T06:52:58.716884Z"
    },
    "lines_to_next_cell": 0,
    "papermill": {
     "duration": 0.016195,
     "end_time": "2022-07-12T06:52:58.721851",
     "exception": false,
     "start_time": "2022-07-12T06:52:58.705656",
     "status": "completed"
    },
    "tags": [
     "parameters"
    ]
   },
   "outputs": [],
   "source": [
    "# - During automated runs parameters will be injected in the below cell -"
   ]
  },
  {
   "cell_type": "code",
   "execution_count": 3,
   "id": "69d6adfc",
   "metadata": {
    "execution": {
     "iopub.execute_input": "2022-07-12T06:52:58.735473Z",
     "iopub.status.busy": "2022-07-12T06:52:58.735141Z",
     "iopub.status.idle": "2022-07-12T06:52:58.742434Z",
     "shell.execute_reply": "2022-07-12T06:52:58.741451Z"
    },
    "papermill": {
     "duration": 0.017903,
     "end_time": "2022-07-12T06:52:58.745120",
     "exception": false,
     "start_time": "2022-07-12T06:52:58.727217",
     "status": "completed"
    },
    "tags": [
     "injected-parameters"
    ]
   },
   "outputs": [],
   "source": [
    "# Parameters\n",
    "P = {\n",
    "    \"pipeline.data_lake_root\": \"/pipeline-outputs/data-lake\",\n",
    "    \"pipeline.run_environment\": \"ci\",\n",
    "    \"pipeline.pipeline_run_id\": \"aeca9ce4-c2b9-4420-af24-3b2d3c6a8a3b\",\n",
    "    \"pipeline.github.repository\": \"pynb-dag-runner/mnist-digits-demo-pipeline\",\n",
    "    \"pipeline.github.workflow\": \"Run automated tests, pipeline and deploy results to static reporting site\",\n",
    "    \"pipeline.github.runner_name\": \"Hosted Agent\",\n",
    "    \"pipeline.github.run_id\": \"2654616097\",\n",
    "    \"pipeline.github.actor\": \"matiasdahl\",\n",
    "    \"pipeline.github.job\": \"run-tests-pipeline-and-persist-pipeline-outputs\",\n",
    "    \"pipeline.github.base_ref\": \"\",\n",
    "    \"pipeline.github.head_ref\": \"\",\n",
    "    \"pipeline.github.sha\": \"147a1be9916173fd4d2cd011d8d51e3411215850\",\n",
    "    \"pipeline.github.ref\": \"refs/heads/development\",\n",
    "    \"pipeline.github.ref_type\": \"branch\",\n",
    "    \"pipeline.github.ref_name\": \"development\",\n",
    "    \"pipeline.github.event_name\": \"schedule\",\n",
    "    \"task.nr_train_images\": 1000,\n",
    "    \"task.notebook\": \"notebooks/benchmark-model.py\",\n",
    "    \"task.max_nr_retries\": \"1\",\n",
    "    \"run.retry_nr\": \"0\",\n",
    "    \"task.timeout_s\": \"None\",\n",
    "    \"task.num_cpus\": 1,\n",
    "    \"_opentelemetry_traceparent\": \"00-77fa89566b16837304c76483fe43a14b-ed0ce5acc7edf406-01\",\n",
    "}\n"
   ]
  },
  {
   "cell_type": "code",
   "execution_count": 4,
   "id": "c0e33a65",
   "metadata": {
    "execution": {
     "iopub.execute_input": "2022-07-12T06:52:58.759648Z",
     "iopub.status.busy": "2022-07-12T06:52:58.759314Z",
     "iopub.status.idle": "2022-07-12T06:52:58.764206Z",
     "shell.execute_reply": "2022-07-12T06:52:58.763415Z"
    },
    "lines_to_next_cell": 0,
    "papermill": {
     "duration": 0.014571,
     "end_time": "2022-07-12T06:52:58.767782",
     "exception": false,
     "start_time": "2022-07-12T06:52:58.753211",
     "status": "completed"
    },
    "tags": []
   },
   "outputs": [],
   "source": [
    "# -----------------------------------------------------------------------"
   ]
  },
  {
   "cell_type": "markdown",
   "id": "ea182f8a",
   "metadata": {
    "papermill": {
     "duration": 0.005688,
     "end_time": "2022-07-12T06:52:58.780044",
     "exception": false,
     "start_time": "2022-07-12T06:52:58.774356",
     "status": "completed"
    },
    "tags": []
   },
   "source": [
    "---"
   ]
  },
  {
   "cell_type": "markdown",
   "id": "2bdd38c2",
   "metadata": {
    "lines_to_next_cell": 2,
    "papermill": {
     "duration": 0.006552,
     "end_time": "2022-07-12T06:52:58.795734",
     "exception": false,
     "start_time": "2022-07-12T06:52:58.789182",
     "status": "completed"
    },
    "tags": []
   },
   "source": [
    "### Notebook code"
   ]
  },
  {
   "cell_type": "code",
   "execution_count": 5,
   "id": "f6b9b2e7",
   "metadata": {
    "execution": {
     "iopub.execute_input": "2022-07-12T06:52:58.809473Z",
     "iopub.status.busy": "2022-07-12T06:52:58.808828Z",
     "iopub.status.idle": "2022-07-12T06:53:00.531790Z",
     "shell.execute_reply": "2022-07-12T06:53:00.530989Z"
    },
    "papermill": {
     "duration": 1.733178,
     "end_time": "2022-07-12T06:53:00.534164",
     "exception": false,
     "start_time": "2022-07-12T06:52:58.800986",
     "status": "completed"
    },
    "tags": []
   },
   "outputs": [
    {
     "name": "stderr",
     "output_type": "stream",
     "text": [
      "2022-07-12 06:53:00,328\tINFO worker.py:842 -- Connecting to existing Ray cluster at address: 172.17.0.2:6379\n"
     ]
    }
   ],
   "source": [
    "import itertools as it\n",
    "\n",
    "#\n",
    "import numpy as np\n",
    "import matplotlib.pyplot as plt\n",
    "\n",
    "#\n",
    "from pynb_dag_runner.tasks.task_opentelemetry_logging import PydarLogger\n",
    "\n",
    "#\n",
    "from common.io import datalake_root\n",
    "\n",
    "logger = PydarLogger(P)"
   ]
  },
  {
   "cell_type": "markdown",
   "id": "7a44a318",
   "metadata": {
    "papermill": {
     "duration": 0.006839,
     "end_time": "2022-07-12T06:53:00.548087",
     "exception": false,
     "start_time": "2022-07-12T06:53:00.541248",
     "status": "completed"
    },
    "tags": []
   },
   "source": [
    "## Load persisted onnx-model and evaluation data"
   ]
  },
  {
   "cell_type": "code",
   "execution_count": 6,
   "id": "b789aed8",
   "metadata": {
    "execution": {
     "iopub.execute_input": "2022-07-12T06:53:00.562447Z",
     "iopub.status.busy": "2022-07-12T06:53:00.561492Z",
     "iopub.status.idle": "2022-07-12T06:53:00.571877Z",
     "shell.execute_reply": "2022-07-12T06:53:00.570948Z"
    },
    "papermill": {
     "duration": 0.020892,
     "end_time": "2022-07-12T06:53:00.574440",
     "exception": false,
     "start_time": "2022-07-12T06:53:00.553548",
     "status": "completed"
    },
    "tags": []
   },
   "outputs": [],
   "source": [
    "from common.io import read_onnx, get_onnx_inputs, get_onnx_outputs, read_numpy"
   ]
  },
  {
   "cell_type": "code",
   "execution_count": 7,
   "id": "a90e02e2",
   "metadata": {
    "execution": {
     "iopub.execute_input": "2022-07-12T06:53:00.588692Z",
     "iopub.status.busy": "2022-07-12T06:53:00.587787Z",
     "iopub.status.idle": "2022-07-12T06:53:00.602661Z",
     "shell.execute_reply": "2022-07-12T06:53:00.601826Z"
    },
    "lines_to_next_cell": 0,
    "papermill": {
     "duration": 0.024674,
     "end_time": "2022-07-12T06:53:00.605134",
     "exception": false,
     "start_time": "2022-07-12T06:53:00.580460",
     "status": "completed"
    },
    "tags": []
   },
   "outputs": [],
   "source": [
    "onnx_inference_session = read_onnx(\n",
    "    datalake_root(P)\n",
    "    / \"models\"\n",
    "    / f\"nr_train_images={P['task.nr_train_images']}\"\n",
    "    / \"model.onnx\"\n",
    ")"
   ]
  },
  {
   "cell_type": "markdown",
   "id": "fcb94901",
   "metadata": {
    "papermill": {
     "duration": 0.005704,
     "end_time": "2022-07-12T06:53:00.617474",
     "exception": false,
     "start_time": "2022-07-12T06:53:00.611770",
     "status": "completed"
    },
    "tags": []
   },
   "source": [
    "### Record structure of inputs and outputs for ONNX model\n",
    "\n",
    "(this should likely be done in training notebook)"
   ]
  },
  {
   "cell_type": "code",
   "execution_count": 8,
   "id": "26be8a09",
   "metadata": {
    "execution": {
     "iopub.execute_input": "2022-07-12T06:53:00.631852Z",
     "iopub.status.busy": "2022-07-12T06:53:00.631281Z",
     "iopub.status.idle": "2022-07-12T06:53:00.641688Z",
     "shell.execute_reply": "2022-07-12T06:53:00.640117Z"
    },
    "papermill": {
     "duration": 0.019773,
     "end_time": "2022-07-12T06:53:00.643835",
     "exception": false,
     "start_time": "2022-07-12T06:53:00.624062",
     "status": "completed"
    },
    "tags": []
   },
   "outputs": [
    {
     "name": "stdout",
     "output_type": "stream",
     "text": [
      "{\n",
      "  \"inputs\": [\n",
      "    {\n",
      "      \"name\": \"float_input_8x8_image\",\n",
      "      \"shape\": [\n",
      "        null,\n",
      "        64\n",
      "      ],\n",
      "      \"type\": \"tensor(float)\"\n",
      "    }\n",
      "  ],\n",
      "  \"outputs\": [\n",
      "    {\n",
      "      \"name\": \"output_label\",\n",
      "      \"shape\": [\n",
      "        null\n",
      "      ],\n",
      "      \"type\": \"tensor(int64)\"\n",
      "    },\n",
      "    {\n",
      "      \"name\": \"output_probability\",\n",
      "      \"shape\": [],\n",
      "      \"type\": \"seq(map(int64,tensor(float)))\"\n",
      "    }\n",
      "  ]\n",
      "}\n"
     ]
    }
   ],
   "source": [
    "import json\n",
    "\n",
    "onnx_io = json.dumps(\n",
    "    {\n",
    "        \"inputs\": get_onnx_inputs(onnx_inference_session),\n",
    "        \"outputs\": get_onnx_outputs(onnx_inference_session),\n",
    "    },\n",
    "    indent=2,\n",
    ")\n",
    "\n",
    "\n",
    "logger.log_artefact(\"onnx_io_structure.json\", onnx_io)\n",
    "print(onnx_io)"
   ]
  },
  {
   "cell_type": "markdown",
   "id": "0fa9fc7d",
   "metadata": {
    "papermill": {
     "duration": 0.007559,
     "end_time": "2022-07-12T06:53:00.657789",
     "exception": false,
     "start_time": "2022-07-12T06:53:00.650230",
     "status": "completed"
    },
    "tags": []
   },
   "source": [
    "### Evaluate model performance on evaluation data set"
   ]
  },
  {
   "cell_type": "code",
   "execution_count": 9,
   "id": "6829b1b1",
   "metadata": {
    "execution": {
     "iopub.execute_input": "2022-07-12T06:53:00.672347Z",
     "iopub.status.busy": "2022-07-12T06:53:00.671743Z",
     "iopub.status.idle": "2022-07-12T06:53:00.679389Z",
     "shell.execute_reply": "2022-07-12T06:53:00.678256Z"
    },
    "papermill": {
     "duration": 0.017638,
     "end_time": "2022-07-12T06:53:00.681529",
     "exception": false,
     "start_time": "2022-07-12T06:53:00.663891",
     "status": "completed"
    },
    "tags": []
   },
   "outputs": [],
   "source": [
    "# load evaluation data\n",
    "X_test = read_numpy(datalake_root(P) / \"test-data\" / \"digits.numpy\")\n",
    "y_test = read_numpy(datalake_root(P) / \"test-data\" / \"labels.numpy\")"
   ]
  },
  {
   "cell_type": "code",
   "execution_count": 10,
   "id": "58233104",
   "metadata": {
    "execution": {
     "iopub.execute_input": "2022-07-12T06:53:00.695809Z",
     "iopub.status.busy": "2022-07-12T06:53:00.695401Z",
     "iopub.status.idle": "2022-07-12T06:53:00.713590Z",
     "shell.execute_reply": "2022-07-12T06:53:00.712540Z"
    },
    "papermill": {
     "duration": 0.027611,
     "end_time": "2022-07-12T06:53:00.715931",
     "exception": false,
     "start_time": "2022-07-12T06:53:00.688320",
     "status": "completed"
    },
    "tags": []
   },
   "outputs": [],
   "source": [
    "def get_model_outputs(X, onnx_inference_session):\n",
    "    y_pred_labels, y_pred_map = onnx_inference_session.run(\n",
    "        [\"output_label\", \"output_probability\"],\n",
    "        {\"float_input_8x8_image\": X.astype(np.float32)},\n",
    "    )\n",
    "    y_pred_probs = np.array(\n",
    "        [[probabilities[digit] for digit in range(10)] for probabilities in y_pred_map]\n",
    "    )\n",
    "\n",
    "    assert y_pred_labels.shape == (X.shape[0],)\n",
    "    assert y_pred_probs.shape == (X.shape[0], 10)\n",
    "\n",
    "    return y_pred_labels, y_pred_probs\n",
    "\n",
    "\n",
    "# Note: as shown in the training notebook, the predicted labels and probabilities\n",
    "# computed below need not be compatible.\n",
    "y_pred_labels_test, y_pred_probs_test = get_model_outputs(\n",
    "    X_test, onnx_inference_session\n",
    ")"
   ]
  },
  {
   "cell_type": "markdown",
   "id": "583a5632",
   "metadata": {
    "papermill": {
     "duration": 0.006157,
     "end_time": "2022-07-12T06:53:00.729003",
     "exception": false,
     "start_time": "2022-07-12T06:53:00.722846",
     "status": "completed"
    },
    "tags": []
   },
   "source": [
    "### Confusion matrix"
   ]
  },
  {
   "cell_type": "code",
   "execution_count": 11,
   "id": "eb8fea57",
   "metadata": {
    "execution": {
     "iopub.execute_input": "2022-07-12T06:53:00.743362Z",
     "iopub.status.busy": "2022-07-12T06:53:00.742848Z",
     "iopub.status.idle": "2022-07-12T06:53:00.747150Z",
     "shell.execute_reply": "2022-07-12T06:53:00.746219Z"
    },
    "papermill": {
     "duration": 0.016521,
     "end_time": "2022-07-12T06:53:00.751651",
     "exception": false,
     "start_time": "2022-07-12T06:53:00.735130",
     "status": "completed"
    },
    "tags": []
   },
   "outputs": [],
   "source": [
    "# TODO"
   ]
  },
  {
   "cell_type": "markdown",
   "id": "24a58294",
   "metadata": {
    "papermill": {
     "duration": 0.006309,
     "end_time": "2022-07-12T06:53:00.764698",
     "exception": false,
     "start_time": "2022-07-12T06:53:00.758389",
     "status": "completed"
    },
    "tags": []
   },
   "source": [
    "### Plot predicted probabilities for each classifier over all evaluation digit images"
   ]
  },
  {
   "cell_type": "code",
   "execution_count": 12,
   "id": "efbc8a96",
   "metadata": {
    "execution": {
     "iopub.execute_input": "2022-07-12T06:53:00.781638Z",
     "iopub.status.busy": "2022-07-12T06:53:00.781258Z",
     "iopub.status.idle": "2022-07-12T06:53:07.265062Z",
     "shell.execute_reply": "2022-07-12T06:53:07.263938Z"
    },
    "papermill": {
     "duration": 6.494637,
     "end_time": "2022-07-12T06:53:07.267745",
     "exception": false,
     "start_time": "2022-07-12T06:53:00.773108",
     "status": "completed"
    },
    "tags": []
   },
   "outputs": [
    {
     "data": {
      "image/png": "[encoded data removed]",
      "text/plain": [
       "<Figure size 1152x432 with 10 Axes>"
      ]
     },
     "metadata": {
      "needs_background": "light"
     },
     "output_type": "display_data"
    }
   ],
   "source": [
    "def plot_per_digit_probabilities(y_pred_probs):\n",
    "    fig, axs = plt.subplots(nrows=2, ncols=5, figsize=(16, 6))\n",
    "\n",
    "    for (r, c), digit, ax in zip(\n",
    "        it.product(range(2), range(5)), range(10), axs.reshape(-1)\n",
    "    ):\n",
    "        ax.hist(y_pred_probs_test[:, digit], bins=20)\n",
    "\n",
    "        ax.set_title(f\"Digit {digit}\")\n",
    "        if r == 1 and c == 2:\n",
    "            ax.set_xlabel(\"probability\", fontsize=16)\n",
    "\n",
    "        if c == 0:\n",
    "            ax.set_ylabel(\"counts\", fontsize=16)\n",
    "        ax.set_yscale(\"log\")\n",
    "\n",
    "    fig.tight_layout()\n",
    "    fig.suptitle(\n",
    "        f\"Distributions of prediction probabilities for each digit \"\n",
    "        f\"(on evaluation data, n={y_pred_probs.shape[0]})\",\n",
    "        fontsize=20,\n",
    "    )\n",
    "    fig.tight_layout()\n",
    "    fig.show()\n",
    "\n",
    "    return fig\n",
    "\n",
    "\n",
    "fig = plot_per_digit_probabilities(y_pred_probs_test)"
   ]
  },
  {
   "cell_type": "markdown",
   "id": "7714df85",
   "metadata": {
    "papermill": {
     "duration": 0.014062,
     "end_time": "2022-07-12T06:53:07.288222",
     "exception": false,
     "start_time": "2022-07-12T06:53:07.274160",
     "status": "completed"
    },
    "tags": []
   },
   "source": [
    "From the above distributions we see that most digits have clear separation between\n",
    "high and lower probabilities. Morover, in each case there is roughly an order of\n",
    "magnitude more of digits with low probabilities. This is compatible with digits\n",
    "being roughly evenly distributed in the data."
   ]
  },
  {
   "cell_type": "code",
   "execution_count": 13,
   "id": "9744f14e",
   "metadata": {
    "execution": {
     "iopub.execute_input": "2022-07-12T06:53:07.306833Z",
     "iopub.status.busy": "2022-07-12T06:53:07.305940Z",
     "iopub.status.idle": "2022-07-12T06:53:08.150937Z",
     "shell.execute_reply": "2022-07-12T06:53:08.149851Z"
    },
    "papermill": {
     "duration": 0.858033,
     "end_time": "2022-07-12T06:53:08.153796",
     "exception": false,
     "start_time": "2022-07-12T06:53:07.295763",
     "status": "completed"
    },
    "tags": []
   },
   "outputs": [],
   "source": [
    "logger.log_figure(\"per-digit-probabilities.png\", fig)"
   ]
  },
  {
   "cell_type": "markdown",
   "id": "b4a3b9bc",
   "metadata": {
    "papermill": {
     "duration": 0.008503,
     "end_time": "2022-07-12T06:53:08.170568",
     "exception": false,
     "start_time": "2022-07-12T06:53:08.162065",
     "status": "completed"
    },
    "tags": []
   },
   "source": [
    "### Plot ROC curves for individual one-vs-rest classifiers"
   ]
  },
  {
   "cell_type": "code",
   "execution_count": 14,
   "id": "4d35afed",
   "metadata": {
    "execution": {
     "iopub.execute_input": "2022-07-12T06:53:08.186552Z",
     "iopub.status.busy": "2022-07-12T06:53:08.185985Z",
     "iopub.status.idle": "2022-07-12T06:53:08.808626Z",
     "shell.execute_reply": "2022-07-12T06:53:08.807524Z"
    },
    "papermill": {
     "duration": 0.634291,
     "end_time": "2022-07-12T06:53:08.811674",
     "exception": false,
     "start_time": "2022-07-12T06:53:08.177383",
     "status": "completed"
    },
    "tags": []
   },
   "outputs": [],
   "source": [
    "from sklearn import metrics"
   ]
  },
  {
   "cell_type": "code",
   "execution_count": 15,
   "id": "9b2acf65",
   "metadata": {
    "execution": {
     "iopub.execute_input": "2022-07-12T06:53:08.833045Z",
     "iopub.status.busy": "2022-07-12T06:53:08.832680Z",
     "iopub.status.idle": "2022-07-12T06:53:10.823874Z",
     "shell.execute_reply": "2022-07-12T06:53:10.822957Z"
    },
    "papermill": {
     "duration": 2.003581,
     "end_time": "2022-07-12T06:53:10.826521",
     "exception": false,
     "start_time": "2022-07-12T06:53:08.822940",
     "status": "completed"
    },
    "tags": []
   },
   "outputs": [
    {
     "data": {
      "image/png": "[encoded data removed]",
      "text/plain": [
       "<Figure size 1152x576 with 10 Axes>"
      ]
     },
     "metadata": {
      "needs_background": "light"
     },
     "output_type": "display_data"
    }
   ],
   "source": [
    "def plot_roc_curves(y, y_pred_probs):\n",
    "    # based on example code\n",
    "    # https://scikit-learn.org/stable/auto_examples/model_selection/plot_roc.html\n",
    "\n",
    "    fig, axs = plt.subplots(nrows=2, ncols=5, figsize=(16, 8))\n",
    "\n",
    "    roc_auc_dict = {}\n",
    "\n",
    "    for (r, c), digit, ax in zip(\n",
    "        it.product(range(2), range(5)), range(10), axs.reshape(-1)\n",
    "    ):\n",
    "        fpr, tpr, _ = metrics.roc_curve(y == digit, y_pred_probs[:, digit])\n",
    "        auc = metrics.auc(fpr, tpr)\n",
    "        roc_auc_dict[str(digit)] = auc\n",
    "\n",
    "        ax.plot(fpr, tpr, label=f\"ROC AUC={round(auc, 3)}\")\n",
    "\n",
    "        ax.set_title(f\"\\nDigit {digit}\", fontsize=16)\n",
    "        if r == 1:\n",
    "            ax.set_xlabel(\"FPR\", fontsize=18)\n",
    "\n",
    "        if c == 0:\n",
    "            ax.set_ylabel(\"TPR\", fontsize=18)\n",
    "\n",
    "        ax.set_xlim([-0.05, 1.05])\n",
    "        ax.set_ylim([-0.05, 1.05])\n",
    "        ax.legend(loc=\"lower right\", frameon=False, fontsize=14)\n",
    "\n",
    "    fig.tight_layout()\n",
    "    fig.suptitle(\n",
    "        f\"ROC plots for one-vs-rest performances \"\n",
    "        f\"(on evaluation data, n={y_pred_probs_test.shape[1]}\",\n",
    "        fontsize=22,\n",
    "    )\n",
    "    fig.tight_layout()\n",
    "    fig.show()\n",
    "\n",
    "    return roc_auc_dict, fig\n",
    "\n",
    "\n",
    "roc_auc_dict, fig = plot_roc_curves(y_test, y_pred_probs_test)"
   ]
  },
  {
   "cell_type": "code",
   "execution_count": 16,
   "id": "856b345d",
   "metadata": {
    "execution": {
     "iopub.execute_input": "2022-07-12T06:53:10.848108Z",
     "iopub.status.busy": "2022-07-12T06:53:10.847117Z",
     "iopub.status.idle": "2022-07-12T06:53:11.288728Z",
     "shell.execute_reply": "2022-07-12T06:53:11.287615Z"
    },
    "papermill": {
     "duration": 0.45403,
     "end_time": "2022-07-12T06:53:11.291428",
     "exception": false,
     "start_time": "2022-07-12T06:53:10.837398",
     "status": "completed"
    },
    "tags": []
   },
   "outputs": [],
   "source": [
    "logger.log_figure(\"per-digit-roc-curves.png\", fig)"
   ]
  },
  {
   "cell_type": "code",
   "execution_count": 17,
   "id": "94f87a9a",
   "metadata": {
    "execution": {
     "iopub.execute_input": "2022-07-12T06:53:11.308454Z",
     "iopub.status.busy": "2022-07-12T06:53:11.308039Z",
     "iopub.status.idle": "2022-07-12T06:53:11.315686Z",
     "shell.execute_reply": "2022-07-12T06:53:11.314848Z"
    },
    "papermill": {
     "duration": 0.02224,
     "end_time": "2022-07-12T06:53:11.320856",
     "exception": false,
     "start_time": "2022-07-12T06:53:11.298616",
     "status": "completed"
    },
    "tags": []
   },
   "outputs": [
    {
     "data": {
      "text/plain": [
       "{'0': 1.0,\n",
       " '1': 0.999025304592315,\n",
       " '2': 1.0,\n",
       " '3': 0.9999250234301781,\n",
       " '4': 0.9996570644718793,\n",
       " '5': 0.9994001874414246,\n",
       " '6': 0.999923792104862,\n",
       " '7': 0.9997713763145862,\n",
       " '8': 0.9951529003783102,\n",
       " '9': 0.9996189605243103}"
      ]
     },
     "execution_count": 17,
     "metadata": {},
     "output_type": "execute_result"
    }
   ],
   "source": [
    "roc_auc_dict"
   ]
  },
  {
   "cell_type": "code",
   "execution_count": 18,
   "id": "2200f6ae",
   "metadata": {
    "execution": {
     "iopub.execute_input": "2022-07-12T06:53:11.348017Z",
     "iopub.status.busy": "2022-07-12T06:53:11.347610Z",
     "iopub.status.idle": "2022-07-12T06:53:11.364005Z",
     "shell.execute_reply": "2022-07-12T06:53:11.358651Z"
    },
    "papermill": {
     "duration": 0.030779,
     "end_time": "2022-07-12T06:53:11.366538",
     "exception": false,
     "start_time": "2022-07-12T06:53:11.335759",
     "status": "completed"
    },
    "tags": []
   },
   "outputs": [
    {
     "name": "stdout",
     "output_type": "stream",
     "text": [
      " - Logging roc_auc_per_digit (json) : {'0': 1.0, '1': 0.999025304592315, '2': 1.0, '3': 0.9999250234301781, '4': 0.9996570644718793, '5': 0.9994001874414246, '6': 0.999923792104862, '7': 0.9997713763145862, '8': 0.9951529003783102, '9': 0.9996189605243103}\n"
     ]
    }
   ],
   "source": [
    "logger.log_value(\"roc_auc_per_digit\", roc_auc_dict)"
   ]
  },
  {
   "cell_type": "markdown",
   "id": "121bd2c7",
   "metadata": {
    "papermill": {
     "duration": 0.008903,
     "end_time": "2022-07-12T06:53:11.385631",
     "exception": false,
     "start_time": "2022-07-12T06:53:11.376728",
     "status": "completed"
    },
    "tags": []
   },
   "source": [
    "### Compute and log mean ROC AUC score averaged over all digits"
   ]
  },
  {
   "cell_type": "code",
   "execution_count": 19,
   "id": "b4cd1012",
   "metadata": {
    "execution": {
     "iopub.execute_input": "2022-07-12T06:53:11.405804Z",
     "iopub.status.busy": "2022-07-12T06:53:11.405443Z",
     "iopub.status.idle": "2022-07-12T06:53:11.439885Z",
     "shell.execute_reply": "2022-07-12T06:53:11.438955Z"
    },
    "papermill": {
     "duration": 0.048843,
     "end_time": "2022-07-12T06:53:11.443089",
     "exception": false,
     "start_time": "2022-07-12T06:53:11.394246",
     "status": "completed"
    },
    "tags": []
   },
   "outputs": [
    {
     "name": "stdout",
     "output_type": "stream",
     "text": [
      " - Logging roc_auc_class_mean (float) : 0.9992474609257865\n"
     ]
    }
   ],
   "source": [
    "roc_auc_macro = np.mean(list(roc_auc_dict.values()))\n",
    "\n",
    "logger.log_float(\"roc_auc_class_mean\", roc_auc_macro)\n",
    "\n",
    "# assert that the same value can be computed directly using sklearn\n",
    "assert roc_auc_macro == metrics.roc_auc_score(\n",
    "    y_test, y_pred_probs_test, average=\"macro\", multi_class=\"ovr\"\n",
    ")"
   ]
  },
  {
   "cell_type": "code",
   "execution_count": 20,
   "id": "90afdca7",
   "metadata": {
    "execution": {
     "iopub.execute_input": "2022-07-12T06:53:11.463842Z",
     "iopub.status.busy": "2022-07-12T06:53:11.463491Z",
     "iopub.status.idle": "2022-07-12T06:53:11.468203Z",
     "shell.execute_reply": "2022-07-12T06:53:11.467413Z"
    },
    "lines_to_next_cell": 0,
    "papermill": {
     "duration": 0.019594,
     "end_time": "2022-07-12T06:53:11.473050",
     "exception": false,
     "start_time": "2022-07-12T06:53:11.453456",
     "status": "completed"
    },
    "tags": []
   },
   "outputs": [],
   "source": [
    "# ---"
   ]
  },
  {
   "cell_type": "code",
   "execution_count": null,
   "id": "12bf7d05",
   "metadata": {
    "papermill": {
     "duration": 0.008461,
     "end_time": "2022-07-12T06:53:11.490044",
     "exception": false,
     "start_time": "2022-07-12T06:53:11.481583",
     "status": "completed"
    },
    "tags": []
   },
   "outputs": [],
   "source": []
  }
 ],
 "metadata": {
  "jupytext": {
   "cell_metadata_filter": "tags,-all",
   "main_language": "python",
   "notebook_metadata_filter": "-all"
  },
  "language_info": {
   "codemirror_mode": {
    "name": "ipython",
    "version": 3
   },
   "file_extension": ".py",
   "mimetype": "text/x-python",
   "name": "python",
   "nbconvert_exporter": "python",
   "pygments_lexer": "ipython3",
   "version": "3.8.10"
  },
  "papermill": {
   "default_parameters": {},
   "duration": 16.987052,
   "end_time": "2022-07-12T06:53:13.496165",
   "environment_variables": {},
   "exception": null,
   "input_path": "/home/host_user/workspace/mnist-demo-pipeline/mnist-demo-pipeline/notebooks/temp-notebook-6lnh5xu2.ipynb",
   "output_path": "notebooks/benchmark-model.ipynb",
   "parameters": {
    "P": {
     "_opentelemetry_traceparent": "00-77fa89566b16837304c76483fe43a14b-ed0ce5acc7edf406-01",
     "pipeline.data_lake_root": "/pipeline-outputs/data-lake",
     "pipeline.github.actor": "matiasdahl",
     "pipeline.github.base_ref": "",
     "pipeline.github.event_name": "schedule",
     "pipeline.github.head_ref": "",
     "pipeline.github.job": "run-tests-pipeline-and-persist-pipeline-outputs",
     "pipeline.github.ref": "refs/heads/development",
     "pipeline.github.ref_name": "development",
     "pipeline.github.ref_type": "branch",
     "pipeline.github.repository": "pynb-dag-runner/mnist-digits-demo-pipeline",
     "pipeline.github.run_id": "2654616097",
     "pipeline.github.runner_name": "Hosted Agent",
     "pipeline.github.sha": "147a1be9916173fd4d2cd011d8d51e3411215850",
     "pipeline.github.workflow": "Run automated tests, pipeline and deploy results to static reporting site",
     "pipeline.pipeline_run_id": "aeca9ce4-c2b9-4420-af24-3b2d3c6a8a3b",
     "pipeline.run_environment": "ci",
     "run.retry_nr": "0",
     "task.max_nr_retries": "1",
     "task.notebook": "notebooks/benchmark-model.py",
     "task.nr_train_images": 1000,
     "task.num_cpus": 1,
     "task.timeout_s": "None"
    }
   },
   "start_time": "2022-07-12T06:52:56.509113",
   "version": "2.3.3"
  }
 },
 "nbformat": 4,
 "nbformat_minor": 5
}