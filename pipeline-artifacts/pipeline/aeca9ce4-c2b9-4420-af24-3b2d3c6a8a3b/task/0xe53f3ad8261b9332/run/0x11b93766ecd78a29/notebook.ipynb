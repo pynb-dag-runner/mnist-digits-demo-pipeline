{
 "cells": [
  {
   "cell_type": "markdown",
   "id": "ecac874a",
   "metadata": {
    "papermill": {
     "duration": 0.007825,
     "end_time": "2022-07-12T06:53:17.557397",
     "exception": false,
     "start_time": "2022-07-12T06:53:17.549572",
     "status": "completed"
    },
    "tags": []
   },
   "source": [
    "# Benchmark model\n",
    "\n",
    "The purpose of this notebook is to benchmark persisted onnx-model (trained in the\n",
    "previous step) against evaluation set."
   ]
  },
  {
   "cell_type": "markdown",
   "id": "61474a7e",
   "metadata": {
    "papermill": {
     "duration": 0.007435,
     "end_time": "2022-07-12T06:53:17.571710",
     "exception": false,
     "start_time": "2022-07-12T06:53:17.564275",
     "status": "completed"
    },
    "tags": []
   },
   "source": [
    "### Determine run parameters"
   ]
  },
  {
   "cell_type": "code",
   "execution_count": 1,
   "id": "37b082a7",
   "metadata": {
    "execution": {
     "iopub.execute_input": "2022-07-12T06:53:17.589060Z",
     "iopub.status.busy": "2022-07-12T06:53:17.588626Z",
     "iopub.status.idle": "2022-07-12T06:53:17.604984Z",
     "shell.execute_reply": "2022-07-12T06:53:17.604023Z"
    },
    "lines_to_next_cell": 0,
    "papermill": {
     "duration": 0.027666,
     "end_time": "2022-07-12T06:53:17.607985",
     "exception": false,
     "start_time": "2022-07-12T06:53:17.580319",
     "status": "completed"
    },
    "tags": []
   },
   "outputs": [],
   "source": [
    "# ----------------- Parameters for interactive development --------------\n",
    "P = {\n",
    "    \"pipeline.data_lake_root\": \"/pipeline-outputs/data-lake\",\n",
    "    \"task.nr_train_images\": 600,\n",
    "}"
   ]
  },
  {
   "cell_type": "code",
   "execution_count": 2,
   "id": "f4639c40",
   "metadata": {
    "execution": {
     "iopub.execute_input": "2022-07-12T06:53:17.624102Z",
     "iopub.status.busy": "2022-07-12T06:53:17.623692Z",
     "iopub.status.idle": "2022-07-12T06:53:17.628906Z",
     "shell.execute_reply": "2022-07-12T06:53:17.628127Z"
    },
    "lines_to_next_cell": 0,
    "papermill": {
     "duration": 0.020969,
     "end_time": "2022-07-12T06:53:17.636418",
     "exception": false,
     "start_time": "2022-07-12T06:53:17.615449",
     "status": "completed"
    },
    "tags": [
     "parameters"
    ]
   },
   "outputs": [],
   "source": [
    "# - During automated runs parameters will be injected in the below cell -"
   ]
  },
  {
   "cell_type": "code",
   "execution_count": 3,
   "id": "39a62fc1",
   "metadata": {
    "execution": {
     "iopub.execute_input": "2022-07-12T06:53:17.650467Z",
     "iopub.status.busy": "2022-07-12T06:53:17.650083Z",
     "iopub.status.idle": "2022-07-12T06:53:17.657898Z",
     "shell.execute_reply": "2022-07-12T06:53:17.656810Z"
    },
    "papermill": {
     "duration": 0.01916,
     "end_time": "2022-07-12T06:53:17.662259",
     "exception": false,
     "start_time": "2022-07-12T06:53:17.643099",
     "status": "completed"
    },
    "tags": [
     "injected-parameters"
    ]
   },
   "outputs": [],
   "source": [
    "# Parameters\n",
    "P = {\n",
    "    \"pipeline.data_lake_root\": \"/pipeline-outputs/data-lake\",\n",
    "    \"pipeline.run_environment\": \"ci\",\n",
    "    \"pipeline.pipeline_run_id\": \"aeca9ce4-c2b9-4420-af24-3b2d3c6a8a3b\",\n",
    "    \"pipeline.github.repository\": \"pynb-dag-runner/mnist-digits-demo-pipeline\",\n",
    "    \"pipeline.github.workflow\": \"Run automated tests, pipeline and deploy results to static reporting site\",\n",
    "    \"pipeline.github.runner_name\": \"Hosted Agent\",\n",
    "    \"pipeline.github.run_id\": \"2654616097\",\n",
    "    \"pipeline.github.actor\": \"matiasdahl\",\n",
    "    \"pipeline.github.job\": \"run-tests-pipeline-and-persist-pipeline-outputs\",\n",
    "    \"pipeline.github.base_ref\": \"\",\n",
    "    \"pipeline.github.head_ref\": \"\",\n",
    "    \"pipeline.github.sha\": \"147a1be9916173fd4d2cd011d8d51e3411215850\",\n",
    "    \"pipeline.github.ref\": \"refs/heads/development\",\n",
    "    \"pipeline.github.ref_type\": \"branch\",\n",
    "    \"pipeline.github.ref_name\": \"development\",\n",
    "    \"pipeline.github.event_name\": \"schedule\",\n",
    "    \"task.nr_train_images\": 1200,\n",
    "    \"task.notebook\": \"notebooks/benchmark-model.py\",\n",
    "    \"task.max_nr_retries\": \"1\",\n",
    "    \"run.retry_nr\": \"0\",\n",
    "    \"task.timeout_s\": \"None\",\n",
    "    \"task.num_cpus\": 1,\n",
    "    \"_opentelemetry_traceparent\": \"00-77fa89566b16837304c76483fe43a14b-364a5ec6b9967f16-01\",\n",
    "}\n"
   ]
  },
  {
   "cell_type": "code",
   "execution_count": 4,
   "id": "15a0327c",
   "metadata": {
    "execution": {
     "iopub.execute_input": "2022-07-12T06:53:17.677898Z",
     "iopub.status.busy": "2022-07-12T06:53:17.677566Z",
     "iopub.status.idle": "2022-07-12T06:53:17.681108Z",
     "shell.execute_reply": "2022-07-12T06:53:17.680386Z"
    },
    "lines_to_next_cell": 0,
    "papermill": {
     "duration": 0.018851,
     "end_time": "2022-07-12T06:53:17.687331",
     "exception": false,
     "start_time": "2022-07-12T06:53:17.668480",
     "status": "completed"
    },
    "tags": []
   },
   "outputs": [],
   "source": [
    "# -----------------------------------------------------------------------"
   ]
  },
  {
   "cell_type": "markdown",
   "id": "df437021",
   "metadata": {
    "papermill": {
     "duration": 0.006049,
     "end_time": "2022-07-12T06:53:17.700375",
     "exception": false,
     "start_time": "2022-07-12T06:53:17.694326",
     "status": "completed"
    },
    "tags": []
   },
   "source": [
    "---"
   ]
  },
  {
   "cell_type": "markdown",
   "id": "d84d2804",
   "metadata": {
    "lines_to_next_cell": 2,
    "papermill": {
     "duration": 0.006103,
     "end_time": "2022-07-12T06:53:17.713578",
     "exception": false,
     "start_time": "2022-07-12T06:53:17.707475",
     "status": "completed"
    },
    "tags": []
   },
   "source": [
    "### Notebook code"
   ]
  },
  {
   "cell_type": "code",
   "execution_count": 5,
   "id": "25a26646",
   "metadata": {
    "execution": {
     "iopub.execute_input": "2022-07-12T06:53:17.728395Z",
     "iopub.status.busy": "2022-07-12T06:53:17.728064Z",
     "iopub.status.idle": "2022-07-12T06:53:19.515330Z",
     "shell.execute_reply": "2022-07-12T06:53:19.514369Z"
    },
    "papermill": {
     "duration": 1.798391,
     "end_time": "2022-07-12T06:53:19.518069",
     "exception": false,
     "start_time": "2022-07-12T06:53:17.719678",
     "status": "completed"
    },
    "tags": []
   },
   "outputs": [
    {
     "name": "stderr",
     "output_type": "stream",
     "text": [
      "2022-07-12 06:53:19,297\tINFO worker.py:842 -- Connecting to existing Ray cluster at address: 172.17.0.2:6379\n"
     ]
    }
   ],
   "source": [
    "import itertools as it\n",
    "\n",
    "#\n",
    "import numpy as np\n",
    "import matplotlib.pyplot as plt\n",
    "\n",
    "#\n",
    "from pynb_dag_runner.tasks.task_opentelemetry_logging import PydarLogger\n",
    "\n",
    "#\n",
    "from common.io import datalake_root\n",
    "\n",
    "logger = PydarLogger(P)"
   ]
  },
  {
   "cell_type": "markdown",
   "id": "75c325c6",
   "metadata": {
    "papermill": {
     "duration": 0.009327,
     "end_time": "2022-07-12T06:53:19.536497",
     "exception": false,
     "start_time": "2022-07-12T06:53:19.527170",
     "status": "completed"
    },
    "tags": []
   },
   "source": [
    "## Load persisted onnx-model and evaluation data"
   ]
  },
  {
   "cell_type": "code",
   "execution_count": 6,
   "id": "78bbbdfe",
   "metadata": {
    "execution": {
     "iopub.execute_input": "2022-07-12T06:53:19.572541Z",
     "iopub.status.busy": "2022-07-12T06:53:19.570325Z",
     "iopub.status.idle": "2022-07-12T06:53:19.576864Z",
     "shell.execute_reply": "2022-07-12T06:53:19.576102Z"
    },
    "papermill": {
     "duration": 0.023144,
     "end_time": "2022-07-12T06:53:19.580653",
     "exception": false,
     "start_time": "2022-07-12T06:53:19.557509",
     "status": "completed"
    },
    "tags": []
   },
   "outputs": [],
   "source": [
    "from common.io import read_onnx, get_onnx_inputs, get_onnx_outputs, read_numpy"
   ]
  },
  {
   "cell_type": "code",
   "execution_count": 7,
   "id": "7c7a03b9",
   "metadata": {
    "execution": {
     "iopub.execute_input": "2022-07-12T06:53:19.596808Z",
     "iopub.status.busy": "2022-07-12T06:53:19.596470Z",
     "iopub.status.idle": "2022-07-12T06:53:19.615801Z",
     "shell.execute_reply": "2022-07-12T06:53:19.614112Z"
    },
    "lines_to_next_cell": 0,
    "papermill": {
     "duration": 0.030564,
     "end_time": "2022-07-12T06:53:19.618765",
     "exception": false,
     "start_time": "2022-07-12T06:53:19.588201",
     "status": "completed"
    },
    "tags": []
   },
   "outputs": [],
   "source": [
    "onnx_inference_session = read_onnx(\n",
    "    datalake_root(P)\n",
    "    / \"models\"\n",
    "    / f\"nr_train_images={P['task.nr_train_images']}\"\n",
    "    / \"model.onnx\"\n",
    ")"
   ]
  },
  {
   "cell_type": "markdown",
   "id": "e3c20766",
   "metadata": {
    "papermill": {
     "duration": 0.008275,
     "end_time": "2022-07-12T06:53:19.634156",
     "exception": false,
     "start_time": "2022-07-12T06:53:19.625881",
     "status": "completed"
    },
    "tags": []
   },
   "source": [
    "### Record structure of inputs and outputs for ONNX model\n",
    "\n",
    "(this should likely be done in training notebook)"
   ]
  },
  {
   "cell_type": "code",
   "execution_count": 8,
   "id": "87ff178e",
   "metadata": {
    "execution": {
     "iopub.execute_input": "2022-07-12T06:53:19.648562Z",
     "iopub.status.busy": "2022-07-12T06:53:19.648062Z",
     "iopub.status.idle": "2022-07-12T06:53:19.666916Z",
     "shell.execute_reply": "2022-07-12T06:53:19.665542Z"
    },
    "papermill": {
     "duration": 0.028879,
     "end_time": "2022-07-12T06:53:19.669381",
     "exception": false,
     "start_time": "2022-07-12T06:53:19.640502",
     "status": "completed"
    },
    "tags": []
   },
   "outputs": [
    {
     "name": "stdout",
     "output_type": "stream",
     "text": [
      "{\n",
      "  \"inputs\": [\n",
      "    {\n",
      "      \"name\": \"float_input_8x8_image\",\n",
      "      \"shape\": [\n",
      "        null,\n",
      "        64\n",
      "      ],\n",
      "      \"type\": \"tensor(float)\"\n",
      "    }\n",
      "  ],\n",
      "  \"outputs\": [\n",
      "    {\n",
      "      \"name\": \"output_label\",\n",
      "      \"shape\": [\n",
      "        null\n",
      "      ],\n",
      "      \"type\": \"tensor(int64)\"\n",
      "    },\n",
      "    {\n",
      "      \"name\": \"output_probability\",\n",
      "      \"shape\": [],\n",
      "      \"type\": \"seq(map(int64,tensor(float)))\"\n",
      "    }\n",
      "  ]\n",
      "}\n"
     ]
    }
   ],
   "source": [
    "import json\n",
    "\n",
    "onnx_io = json.dumps(\n",
    "    {\n",
    "        \"inputs\": get_onnx_inputs(onnx_inference_session),\n",
    "        \"outputs\": get_onnx_outputs(onnx_inference_session),\n",
    "    },\n",
    "    indent=2,\n",
    ")\n",
    "\n",
    "\n",
    "logger.log_artefact(\"onnx_io_structure.json\", onnx_io)\n",
    "print(onnx_io)"
   ]
  },
  {
   "cell_type": "markdown",
   "id": "a03c8760",
   "metadata": {
    "papermill": {
     "duration": 0.006993,
     "end_time": "2022-07-12T06:53:19.684153",
     "exception": false,
     "start_time": "2022-07-12T06:53:19.677160",
     "status": "completed"
    },
    "tags": []
   },
   "source": [
    "### Evaluate model performance on evaluation data set"
   ]
  },
  {
   "cell_type": "code",
   "execution_count": 9,
   "id": "de8f57ff",
   "metadata": {
    "execution": {
     "iopub.execute_input": "2022-07-12T06:53:19.704089Z",
     "iopub.status.busy": "2022-07-12T06:53:19.702477Z",
     "iopub.status.idle": "2022-07-12T06:53:19.712205Z",
     "shell.execute_reply": "2022-07-12T06:53:19.711077Z"
    },
    "papermill": {
     "duration": 0.022577,
     "end_time": "2022-07-12T06:53:19.715619",
     "exception": false,
     "start_time": "2022-07-12T06:53:19.693042",
     "status": "completed"
    },
    "tags": []
   },
   "outputs": [],
   "source": [
    "# load evaluation data\n",
    "X_test = read_numpy(datalake_root(P) / \"test-data\" / \"digits.numpy\")\n",
    "y_test = read_numpy(datalake_root(P) / \"test-data\" / \"labels.numpy\")"
   ]
  },
  {
   "cell_type": "code",
   "execution_count": 10,
   "id": "9f2ae61d",
   "metadata": {
    "execution": {
     "iopub.execute_input": "2022-07-12T06:53:19.732106Z",
     "iopub.status.busy": "2022-07-12T06:53:19.731334Z",
     "iopub.status.idle": "2022-07-12T06:53:19.754631Z",
     "shell.execute_reply": "2022-07-12T06:53:19.752814Z"
    },
    "papermill": {
     "duration": 0.034747,
     "end_time": "2022-07-12T06:53:19.757520",
     "exception": false,
     "start_time": "2022-07-12T06:53:19.722773",
     "status": "completed"
    },
    "tags": []
   },
   "outputs": [],
   "source": [
    "def get_model_outputs(X, onnx_inference_session):\n",
    "    y_pred_labels, y_pred_map = onnx_inference_session.run(\n",
    "        [\"output_label\", \"output_probability\"],\n",
    "        {\"float_input_8x8_image\": X.astype(np.float32)},\n",
    "    )\n",
    "    y_pred_probs = np.array(\n",
    "        [[probabilities[digit] for digit in range(10)] for probabilities in y_pred_map]\n",
    "    )\n",
    "\n",
    "    assert y_pred_labels.shape == (X.shape[0],)\n",
    "    assert y_pred_probs.shape == (X.shape[0], 10)\n",
    "\n",
    "    return y_pred_labels, y_pred_probs\n",
    "\n",
    "\n",
    "# Note: as shown in the training notebook, the predicted labels and probabilities\n",
    "# computed below need not be compatible.\n",
    "y_pred_labels_test, y_pred_probs_test = get_model_outputs(\n",
    "    X_test, onnx_inference_session\n",
    ")"
   ]
  },
  {
   "cell_type": "markdown",
   "id": "96006094",
   "metadata": {
    "papermill": {
     "duration": 0.008232,
     "end_time": "2022-07-12T06:53:19.776183",
     "exception": false,
     "start_time": "2022-07-12T06:53:19.767951",
     "status": "completed"
    },
    "tags": []
   },
   "source": [
    "### Confusion matrix"
   ]
  },
  {
   "cell_type": "code",
   "execution_count": 11,
   "id": "ae50cf5b",
   "metadata": {
    "execution": {
     "iopub.execute_input": "2022-07-12T06:53:19.791841Z",
     "iopub.status.busy": "2022-07-12T06:53:19.791393Z",
     "iopub.status.idle": "2022-07-12T06:53:19.796085Z",
     "shell.execute_reply": "2022-07-12T06:53:19.795163Z"
    },
    "papermill": {
     "duration": 0.017719,
     "end_time": "2022-07-12T06:53:19.800795",
     "exception": false,
     "start_time": "2022-07-12T06:53:19.783076",
     "status": "completed"
    },
    "tags": []
   },
   "outputs": [],
   "source": [
    "# TODO"
   ]
  },
  {
   "cell_type": "markdown",
   "id": "20f1d453",
   "metadata": {
    "papermill": {
     "duration": 0.008701,
     "end_time": "2022-07-12T06:53:19.816717",
     "exception": false,
     "start_time": "2022-07-12T06:53:19.808016",
     "status": "completed"
    },
    "tags": []
   },
   "source": [
    "### Plot predicted probabilities for each classifier over all evaluation digit images"
   ]
  },
  {
   "cell_type": "code",
   "execution_count": 12,
   "id": "8bcb11a5",
   "metadata": {
    "execution": {
     "iopub.execute_input": "2022-07-12T06:53:19.835484Z",
     "iopub.status.busy": "2022-07-12T06:53:19.834982Z",
     "iopub.status.idle": "2022-07-12T06:53:25.631231Z",
     "shell.execute_reply": "2022-07-12T06:53:25.630113Z"
    },
    "papermill": {
     "duration": 5.807254,
     "end_time": "2022-07-12T06:53:25.633844",
     "exception": false,
     "start_time": "2022-07-12T06:53:19.826590",
     "status": "completed"
    },
    "tags": []
   },
   "outputs": [
    {
     "data": {
      "image/png": "[encoded data removed]",
      "text/plain": [
       "<Figure size 1152x432 with 10 Axes>"
      ]
     },
     "metadata": {
      "needs_background": "light"
     },
     "output_type": "display_data"
    }
   ],
   "source": [
    "def plot_per_digit_probabilities(y_pred_probs):\n",
    "    fig, axs = plt.subplots(nrows=2, ncols=5, figsize=(16, 6))\n",
    "\n",
    "    for (r, c), digit, ax in zip(\n",
    "        it.product(range(2), range(5)), range(10), axs.reshape(-1)\n",
    "    ):\n",
    "        ax.hist(y_pred_probs_test[:, digit], bins=20)\n",
    "\n",
    "        ax.set_title(f\"Digit {digit}\")\n",
    "        if r == 1 and c == 2:\n",
    "            ax.set_xlabel(\"probability\", fontsize=16)\n",
    "\n",
    "        if c == 0:\n",
    "            ax.set_ylabel(\"counts\", fontsize=16)\n",
    "        ax.set_yscale(\"log\")\n",
    "\n",
    "    fig.tight_layout()\n",
    "    fig.suptitle(\n",
    "        f\"Distributions of prediction probabilities for each digit \"\n",
    "        f\"(on evaluation data, n={y_pred_probs.shape[0]})\",\n",
    "        fontsize=20,\n",
    "    )\n",
    "    fig.tight_layout()\n",
    "    fig.show()\n",
    "\n",
    "    return fig\n",
    "\n",
    "\n",
    "fig = plot_per_digit_probabilities(y_pred_probs_test)"
   ]
  },
  {
   "cell_type": "markdown",
   "id": "7892c84d",
   "metadata": {
    "papermill": {
     "duration": 0.006263,
     "end_time": "2022-07-12T06:53:25.648059",
     "exception": false,
     "start_time": "2022-07-12T06:53:25.641796",
     "status": "completed"
    },
    "tags": []
   },
   "source": [
    "From the above distributions we see that most digits have clear separation between\n",
    "high and lower probabilities. Morover, in each case there is roughly an order of\n",
    "magnitude more of digits with low probabilities. This is compatible with digits\n",
    "being roughly evenly distributed in the data."
   ]
  },
  {
   "cell_type": "code",
   "execution_count": 13,
   "id": "6beb8aa6",
   "metadata": {
    "execution": {
     "iopub.execute_input": "2022-07-12T06:53:25.663719Z",
     "iopub.status.busy": "2022-07-12T06:53:25.663181Z",
     "iopub.status.idle": "2022-07-12T06:53:26.393057Z",
     "shell.execute_reply": "2022-07-12T06:53:26.392042Z"
    },
    "papermill": {
     "duration": 0.741177,
     "end_time": "2022-07-12T06:53:26.395486",
     "exception": false,
     "start_time": "2022-07-12T06:53:25.654309",
     "status": "completed"
    },
    "tags": []
   },
   "outputs": [],
   "source": [
    "logger.log_figure(\"per-digit-probabilities.png\", fig)"
   ]
  },
  {
   "cell_type": "markdown",
   "id": "141aece5",
   "metadata": {
    "papermill": {
     "duration": 0.006294,
     "end_time": "2022-07-12T06:53:26.408413",
     "exception": false,
     "start_time": "2022-07-12T06:53:26.402119",
     "status": "completed"
    },
    "tags": []
   },
   "source": [
    "### Plot ROC curves for individual one-vs-rest classifiers"
   ]
  },
  {
   "cell_type": "code",
   "execution_count": 14,
   "id": "059e25dd",
   "metadata": {
    "execution": {
     "iopub.execute_input": "2022-07-12T06:53:26.429720Z",
     "iopub.status.busy": "2022-07-12T06:53:26.428940Z",
     "iopub.status.idle": "2022-07-12T06:53:26.996026Z",
     "shell.execute_reply": "2022-07-12T06:53:26.992611Z"
    },
    "papermill": {
     "duration": 0.578113,
     "end_time": "2022-07-12T06:53:26.998469",
     "exception": false,
     "start_time": "2022-07-12T06:53:26.420356",
     "status": "completed"
    },
    "tags": []
   },
   "outputs": [],
   "source": [
    "from sklearn import metrics"
   ]
  },
  {
   "cell_type": "code",
   "execution_count": 15,
   "id": "4dc797e5",
   "metadata": {
    "execution": {
     "iopub.execute_input": "2022-07-12T06:53:27.021186Z",
     "iopub.status.busy": "2022-07-12T06:53:27.019921Z",
     "iopub.status.idle": "2022-07-12T06:53:28.824939Z",
     "shell.execute_reply": "2022-07-12T06:53:28.823810Z"
    },
    "papermill": {
     "duration": 1.820983,
     "end_time": "2022-07-12T06:53:28.827519",
     "exception": false,
     "start_time": "2022-07-12T06:53:27.006536",
     "status": "completed"
    },
    "tags": []
   },
   "outputs": [
    {
     "data": {
      "image/png": "[encoded data removed]",
      "text/plain": [
       "<Figure size 1152x576 with 10 Axes>"
      ]
     },
     "metadata": {
      "needs_background": "light"
     },
     "output_type": "display_data"
    }
   ],
   "source": [
    "def plot_roc_curves(y, y_pred_probs):\n",
    "    # based on example code\n",
    "    # https://scikit-learn.org/stable/auto_examples/model_selection/plot_roc.html\n",
    "\n",
    "    fig, axs = plt.subplots(nrows=2, ncols=5, figsize=(16, 8))\n",
    "\n",
    "    roc_auc_dict = {}\n",
    "\n",
    "    for (r, c), digit, ax in zip(\n",
    "        it.product(range(2), range(5)), range(10), axs.reshape(-1)\n",
    "    ):\n",
    "        fpr, tpr, _ = metrics.roc_curve(y == digit, y_pred_probs[:, digit])\n",
    "        auc = metrics.auc(fpr, tpr)\n",
    "        roc_auc_dict[str(digit)] = auc\n",
    "\n",
    "        ax.plot(fpr, tpr, label=f\"ROC AUC={round(auc, 3)}\")\n",
    "\n",
    "        ax.set_title(f\"\\nDigit {digit}\", fontsize=16)\n",
    "        if r == 1:\n",
    "            ax.set_xlabel(\"FPR\", fontsize=18)\n",
    "\n",
    "        if c == 0:\n",
    "            ax.set_ylabel(\"TPR\", fontsize=18)\n",
    "\n",
    "        ax.set_xlim([-0.05, 1.05])\n",
    "        ax.set_ylim([-0.05, 1.05])\n",
    "        ax.legend(loc=\"lower right\", frameon=False, fontsize=14)\n",
    "\n",
    "    fig.tight_layout()\n",
    "    fig.suptitle(\n",
    "        f\"ROC plots for one-vs-rest performances \"\n",
    "        f\"(on evaluation data, n={y_pred_probs_test.shape[1]}\",\n",
    "        fontsize=22,\n",
    "    )\n",
    "    fig.tight_layout()\n",
    "    fig.show()\n",
    "\n",
    "    return roc_auc_dict, fig\n",
    "\n",
    "\n",
    "roc_auc_dict, fig = plot_roc_curves(y_test, y_pred_probs_test)"
   ]
  },
  {
   "cell_type": "code",
   "execution_count": 16,
   "id": "f72bf16e",
   "metadata": {
    "execution": {
     "iopub.execute_input": "2022-07-12T06:53:28.843574Z",
     "iopub.status.busy": "2022-07-12T06:53:28.843052Z",
     "iopub.status.idle": "2022-07-12T06:53:29.178834Z",
     "shell.execute_reply": "2022-07-12T06:53:29.177836Z"
    },
    "papermill": {
     "duration": 0.346887,
     "end_time": "2022-07-12T06:53:29.182097",
     "exception": false,
     "start_time": "2022-07-12T06:53:28.835210",
     "status": "completed"
    },
    "tags": []
   },
   "outputs": [],
   "source": [
    "logger.log_figure(\"per-digit-roc-curves.png\", fig)"
   ]
  },
  {
   "cell_type": "code",
   "execution_count": 17,
   "id": "da10705f",
   "metadata": {
    "execution": {
     "iopub.execute_input": "2022-07-12T06:53:29.201611Z",
     "iopub.status.busy": "2022-07-12T06:53:29.201239Z",
     "iopub.status.idle": "2022-07-12T06:53:29.208107Z",
     "shell.execute_reply": "2022-07-12T06:53:29.207261Z"
    },
    "papermill": {
     "duration": 0.017635,
     "end_time": "2022-07-12T06:53:29.210400",
     "exception": false,
     "start_time": "2022-07-12T06:53:29.192765",
     "status": "completed"
    },
    "tags": []
   },
   "outputs": [
    {
     "data": {
      "text/plain": [
       "{'0': 1.0,\n",
       " '1': 0.998950328022493,\n",
       " '2': 1.0,\n",
       " '3': 0.9998500468603562,\n",
       " '4': 0.9997713763145861,\n",
       " '5': 0.9996626054358013,\n",
       " '6': 0.999923792104862,\n",
       " '7': 0.9998475842097242,\n",
       " '8': 0.9953893442622951,\n",
       " '9': 0.9997332723670171}"
      ]
     },
     "execution_count": 17,
     "metadata": {},
     "output_type": "execute_result"
    }
   ],
   "source": [
    "roc_auc_dict"
   ]
  },
  {
   "cell_type": "code",
   "execution_count": 18,
   "id": "34985896",
   "metadata": {
    "execution": {
     "iopub.execute_input": "2022-07-12T06:53:29.229313Z",
     "iopub.status.busy": "2022-07-12T06:53:29.228435Z",
     "iopub.status.idle": "2022-07-12T06:53:29.236542Z",
     "shell.execute_reply": "2022-07-12T06:53:29.235017Z"
    },
    "papermill": {
     "duration": 0.02007,
     "end_time": "2022-07-12T06:53:29.239298",
     "exception": false,
     "start_time": "2022-07-12T06:53:29.219228",
     "status": "completed"
    },
    "tags": []
   },
   "outputs": [
    {
     "name": "stdout",
     "output_type": "stream",
     "text": [
      " - Logging roc_auc_per_digit (json) : {'0': 1.0, '1': 0.998950328022493, '2': 1.0, '3': 0.9998500468603562, '4': 0.9997713763145861, '5': 0.9996626054358013, '6': 0.999923792104862, '7': 0.9998475842097242, '8': 0.9953893442622951, '9': 0.9997332723670171}\n"
     ]
    }
   ],
   "source": [
    "logger.log_value(\"roc_auc_per_digit\", roc_auc_dict)"
   ]
  },
  {
   "cell_type": "markdown",
   "id": "61e40c6b",
   "metadata": {
    "papermill": {
     "duration": 0.007598,
     "end_time": "2022-07-12T06:53:29.254606",
     "exception": false,
     "start_time": "2022-07-12T06:53:29.247008",
     "status": "completed"
    },
    "tags": []
   },
   "source": [
    "### Compute and log mean ROC AUC score averaged over all digits"
   ]
  },
  {
   "cell_type": "code",
   "execution_count": 19,
   "id": "57b154ba",
   "metadata": {
    "execution": {
     "iopub.execute_input": "2022-07-12T06:53:29.280116Z",
     "iopub.status.busy": "2022-07-12T06:53:29.279766Z",
     "iopub.status.idle": "2022-07-12T06:53:29.306173Z",
     "shell.execute_reply": "2022-07-12T06:53:29.305294Z"
    },
    "papermill": {
     "duration": 0.045824,
     "end_time": "2022-07-12T06:53:29.308410",
     "exception": false,
     "start_time": "2022-07-12T06:53:29.262586",
     "status": "completed"
    },
    "tags": []
   },
   "outputs": [
    {
     "name": "stdout",
     "output_type": "stream",
     "text": [
      " - Logging roc_auc_class_mean (float) : 0.9993128349577134\n"
     ]
    }
   ],
   "source": [
    "roc_auc_macro = np.mean(list(roc_auc_dict.values()))\n",
    "\n",
    "logger.log_float(\"roc_auc_class_mean\", roc_auc_macro)\n",
    "\n",
    "# assert that the same value can be computed directly using sklearn\n",
    "assert roc_auc_macro == metrics.roc_auc_score(\n",
    "    y_test, y_pred_probs_test, average=\"macro\", multi_class=\"ovr\"\n",
    ")"
   ]
  },
  {
   "cell_type": "code",
   "execution_count": 20,
   "id": "4d7befd0",
   "metadata": {
    "execution": {
     "iopub.execute_input": "2022-07-12T06:53:29.326322Z",
     "iopub.status.busy": "2022-07-12T06:53:29.325331Z",
     "iopub.status.idle": "2022-07-12T06:53:29.332033Z",
     "shell.execute_reply": "2022-07-12T06:53:29.330984Z"
    },
    "lines_to_next_cell": 0,
    "papermill": {
     "duration": 0.018279,
     "end_time": "2022-07-12T06:53:29.334526",
     "exception": false,
     "start_time": "2022-07-12T06:53:29.316247",
     "status": "completed"
    },
    "tags": []
   },
   "outputs": [],
   "source": [
    "# ---"
   ]
  },
  {
   "cell_type": "code",
   "execution_count": null,
   "id": "4bebd562",
   "metadata": {
    "papermill": {
     "duration": 0.007698,
     "end_time": "2022-07-12T06:53:29.351577",
     "exception": false,
     "start_time": "2022-07-12T06:53:29.343879",
     "status": "completed"
    },
    "tags": []
   },
   "outputs": [],
   "source": []
  }
 ],
 "metadata": {
  "jupytext": {
   "cell_metadata_filter": "tags,-all",
   "main_language": "python",
   "notebook_metadata_filter": "-all"
  },
  "language_info": {
   "codemirror_mode": {
    "name": "ipython",
    "version": 3
   },
   "file_extension": ".py",
   "mimetype": "text/x-python",
   "name": "python",
   "nbconvert_exporter": "python",
   "pygments_lexer": "ipython3",
   "version": "3.8.10"
  },
  "papermill": {
   "default_parameters": {},
   "duration": 15.146208,
   "end_time": "2022-07-12T06:53:30.685776",
   "environment_variables": {},
   "exception": null,
   "input_path": "/home/host_user/workspace/mnist-demo-pipeline/mnist-demo-pipeline/notebooks/temp-notebook-vh8np3z5.ipynb",
   "output_path": "notebooks/benchmark-model.ipynb",
   "parameters": {
    "P": {
     "_opentelemetry_traceparent": "00-77fa89566b16837304c76483fe43a14b-364a5ec6b9967f16-01",
     "pipeline.data_lake_root": "/pipeline-outputs/data-lake",
     "pipeline.github.actor": "matiasdahl",
     "pipeline.github.base_ref": "",
     "pipeline.github.event_name": "schedule",
     "pipeline.github.head_ref": "",
     "pipeline.github.job": "run-tests-pipeline-and-persist-pipeline-outputs",
     "pipeline.github.ref": "refs/heads/development",
     "pipeline.github.ref_name": "development",
     "pipeline.github.ref_type": "branch",
     "pipeline.github.repository": "pynb-dag-runner/mnist-digits-demo-pipeline",
     "pipeline.github.run_id": "2654616097",
     "pipeline.github.runner_name": "Hosted Agent",
     "pipeline.github.sha": "147a1be9916173fd4d2cd011d8d51e3411215850",
     "pipeline.github.workflow": "Run automated tests, pipeline and deploy results to static reporting site",
     "pipeline.pipeline_run_id": "aeca9ce4-c2b9-4420-af24-3b2d3c6a8a3b",
     "pipeline.run_environment": "ci",
     "run.retry_nr": "0",
     "task.max_nr_retries": "1",
     "task.notebook": "notebooks/benchmark-model.py",
     "task.nr_train_images": 1200,
     "task.num_cpus": 1,
     "task.timeout_s": "None"
    }
   },
   "start_time": "2022-07-12T06:53:15.539568",
   "version": "2.3.3"
  }
 },
 "nbformat": 4,
 "nbformat_minor": 5
}