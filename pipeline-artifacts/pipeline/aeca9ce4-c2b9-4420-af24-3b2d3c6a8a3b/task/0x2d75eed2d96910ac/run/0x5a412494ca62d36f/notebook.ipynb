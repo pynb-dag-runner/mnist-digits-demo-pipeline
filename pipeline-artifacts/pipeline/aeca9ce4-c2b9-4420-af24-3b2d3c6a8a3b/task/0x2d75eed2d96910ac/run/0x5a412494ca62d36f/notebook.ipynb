{
 "cells": [
  {
   "cell_type": "markdown",
   "id": "60d9ce80",
   "metadata": {
    "papermill": {
     "duration": 0.009016,
     "end_time": "2022-07-12T06:53:34.077881",
     "exception": false,
     "start_time": "2022-07-12T06:53:34.068865",
     "status": "completed"
    },
    "tags": []
   },
   "source": [
    "# Summarize model performances\n",
    "\n",
    "This notebooks plots the performances (using averaged ROC AUC scores) for models\n",
    "trained with different training sets."
   ]
  },
  {
   "cell_type": "markdown",
   "id": "0dac2ece",
   "metadata": {
    "papermill": {
     "duration": 0.003898,
     "end_time": "2022-07-12T06:53:34.103688",
     "exception": false,
     "start_time": "2022-07-12T06:53:34.099790",
     "status": "completed"
    },
    "tags": []
   },
   "source": [
    "### Determine run parameters"
   ]
  },
  {
   "cell_type": "code",
   "execution_count": 1,
   "id": "6a85df3d",
   "metadata": {
    "execution": {
     "iopub.execute_input": "2022-07-12T06:53:34.113054Z",
     "iopub.status.busy": "2022-07-12T06:53:34.112629Z",
     "iopub.status.idle": "2022-07-12T06:53:34.125015Z",
     "shell.execute_reply": "2022-07-12T06:53:34.123907Z"
    },
    "lines_to_next_cell": 0,
    "papermill": {
     "duration": 0.020947,
     "end_time": "2022-07-12T06:53:34.128032",
     "exception": false,
     "start_time": "2022-07-12T06:53:34.107085",
     "status": "completed"
    },
    "tags": []
   },
   "outputs": [],
   "source": [
    "# ----------------- Parameters for interactive development --------------\n",
    "P = {\n",
    "    \"pipeline.run_environment\": \"dev\",\n",
    "}"
   ]
  },
  {
   "cell_type": "code",
   "execution_count": 2,
   "id": "eba701ac",
   "metadata": {
    "execution": {
     "iopub.execute_input": "2022-07-12T06:53:34.139832Z",
     "iopub.status.busy": "2022-07-12T06:53:34.138693Z",
     "iopub.status.idle": "2022-07-12T06:53:34.143991Z",
     "shell.execute_reply": "2022-07-12T06:53:34.142975Z"
    },
    "lines_to_next_cell": 0,
    "papermill": {
     "duration": 0.014163,
     "end_time": "2022-07-12T06:53:34.146106",
     "exception": false,
     "start_time": "2022-07-12T06:53:34.131943",
     "status": "completed"
    },
    "tags": [
     "parameters"
    ]
   },
   "outputs": [],
   "source": [
    "# - During automated runs parameters will be injected in the below cell -"
   ]
  },
  {
   "cell_type": "code",
   "execution_count": 3,
   "id": "9dc2e6eb",
   "metadata": {
    "execution": {
     "iopub.execute_input": "2022-07-12T06:53:34.157219Z",
     "iopub.status.busy": "2022-07-12T06:53:34.156775Z",
     "iopub.status.idle": "2022-07-12T06:53:34.163862Z",
     "shell.execute_reply": "2022-07-12T06:53:34.162725Z"
    },
    "papermill": {
     "duration": 0.016985,
     "end_time": "2022-07-12T06:53:34.166905",
     "exception": false,
     "start_time": "2022-07-12T06:53:34.149920",
     "status": "completed"
    },
    "tags": [
     "injected-parameters"
    ]
   },
   "outputs": [],
   "source": [
    "# Parameters\n",
    "P = {\n",
    "    \"pipeline.data_lake_root\": \"/pipeline-outputs/data-lake\",\n",
    "    \"pipeline.run_environment\": \"ci\",\n",
    "    \"pipeline.pipeline_run_id\": \"aeca9ce4-c2b9-4420-af24-3b2d3c6a8a3b\",\n",
    "    \"pipeline.github.repository\": \"pynb-dag-runner/mnist-digits-demo-pipeline\",\n",
    "    \"pipeline.github.workflow\": \"Run automated tests, pipeline and deploy results to static reporting site\",\n",
    "    \"pipeline.github.runner_name\": \"Hosted Agent\",\n",
    "    \"pipeline.github.run_id\": \"2654616097\",\n",
    "    \"pipeline.github.actor\": \"matiasdahl\",\n",
    "    \"pipeline.github.job\": \"run-tests-pipeline-and-persist-pipeline-outputs\",\n",
    "    \"pipeline.github.base_ref\": \"\",\n",
    "    \"pipeline.github.head_ref\": \"\",\n",
    "    \"pipeline.github.sha\": \"147a1be9916173fd4d2cd011d8d51e3411215850\",\n",
    "    \"pipeline.github.ref\": \"refs/heads/development\",\n",
    "    \"pipeline.github.ref_type\": \"branch\",\n",
    "    \"pipeline.github.ref_name\": \"development\",\n",
    "    \"pipeline.github.event_name\": \"schedule\",\n",
    "    \"task.notebook\": \"notebooks/summary.py\",\n",
    "    \"task.max_nr_retries\": \"1\",\n",
    "    \"run.retry_nr\": \"0\",\n",
    "    \"task.timeout_s\": \"None\",\n",
    "    \"task.num_cpus\": 1,\n",
    "    \"_opentelemetry_traceparent\": \"00-77fa89566b16837304c76483fe43a14b-98a6adf4578d6689-01\",\n",
    "}\n"
   ]
  },
  {
   "cell_type": "code",
   "execution_count": 4,
   "id": "ce1c6cf9",
   "metadata": {
    "execution": {
     "iopub.execute_input": "2022-07-12T06:53:34.178182Z",
     "iopub.status.busy": "2022-07-12T06:53:34.177779Z",
     "iopub.status.idle": "2022-07-12T06:53:34.181849Z",
     "shell.execute_reply": "2022-07-12T06:53:34.180888Z"
    },
    "lines_to_next_cell": 0,
    "papermill": {
     "duration": 0.012361,
     "end_time": "2022-07-12T06:53:34.183911",
     "exception": false,
     "start_time": "2022-07-12T06:53:34.171550",
     "status": "completed"
    },
    "tags": []
   },
   "outputs": [],
   "source": [
    "# -----------------------------------------------------------------------"
   ]
  },
  {
   "cell_type": "markdown",
   "id": "5a4111f4",
   "metadata": {
    "papermill": {
     "duration": 0.003788,
     "end_time": "2022-07-12T06:53:34.191856",
     "exception": false,
     "start_time": "2022-07-12T06:53:34.188068",
     "status": "completed"
    },
    "tags": []
   },
   "source": [
    "---"
   ]
  },
  {
   "cell_type": "markdown",
   "id": "14e1ddbb",
   "metadata": {
    "lines_to_next_cell": 2,
    "papermill": {
     "duration": 0.00472,
     "end_time": "2022-07-12T06:53:34.200584",
     "exception": false,
     "start_time": "2022-07-12T06:53:34.195864",
     "status": "completed"
    },
    "tags": []
   },
   "source": [
    "### Notebook code"
   ]
  },
  {
   "cell_type": "code",
   "execution_count": 5,
   "id": "a73ec4e5",
   "metadata": {
    "execution": {
     "iopub.execute_input": "2022-07-12T06:53:34.210186Z",
     "iopub.status.busy": "2022-07-12T06:53:34.209154Z",
     "iopub.status.idle": "2022-07-12T06:53:35.763650Z",
     "shell.execute_reply": "2022-07-12T06:53:35.762680Z"
    },
    "papermill": {
     "duration": 1.561772,
     "end_time": "2022-07-12T06:53:35.766110",
     "exception": false,
     "start_time": "2022-07-12T06:53:34.204338",
     "status": "completed"
    },
    "tags": []
   },
   "outputs": [],
   "source": [
    "#\n",
    "import pandas as pd\n",
    "import matplotlib.pyplot as plt\n",
    "\n",
    "#\n",
    "from pynb_dag_runner.tasks.task_opentelemetry_logging import PydarLogger"
   ]
  },
  {
   "cell_type": "code",
   "execution_count": 6,
   "id": "9e492897",
   "metadata": {
    "execution": {
     "iopub.execute_input": "2022-07-12T06:53:35.775993Z",
     "iopub.status.busy": "2022-07-12T06:53:35.775341Z",
     "iopub.status.idle": "2022-07-12T06:53:35.960175Z",
     "shell.execute_reply": "2022-07-12T06:53:35.959065Z"
    },
    "papermill": {
     "duration": 0.193619,
     "end_time": "2022-07-12T06:53:35.963624",
     "exception": false,
     "start_time": "2022-07-12T06:53:35.770005",
     "status": "completed"
    },
    "tags": []
   },
   "outputs": [
    {
     "name": "stderr",
     "output_type": "stream",
     "text": [
      "2022-07-12 06:53:35,784\tINFO worker.py:842 -- Connecting to existing Ray cluster at address: 172.17.0.2:6379\n"
     ]
    }
   ],
   "source": [
    "logger = PydarLogger(P=P)"
   ]
  },
  {
   "cell_type": "code",
   "execution_count": 7,
   "id": "615b5a7f",
   "metadata": {
    "execution": {
     "iopub.execute_input": "2022-07-12T06:53:35.974793Z",
     "iopub.status.busy": "2022-07-12T06:53:35.974228Z",
     "iopub.status.idle": "2022-07-12T06:53:35.979157Z",
     "shell.execute_reply": "2022-07-12T06:53:35.978316Z"
    },
    "papermill": {
     "duration": 0.013809,
     "end_time": "2022-07-12T06:53:35.981347",
     "exception": false,
     "start_time": "2022-07-12T06:53:35.967538",
     "status": "completed"
    },
    "tags": []
   },
   "outputs": [],
   "source": [
    "from pynb_dag_runner.tasks.task_opentelemetry_logging import (\n",
    "    PydarLogger,\n",
    "    get_logged_values,\n",
    ")\n",
    "from pynb_dag_runner.opentelemetry_helpers import _get_all_spans, Spans"
   ]
  },
  {
   "cell_type": "code",
   "execution_count": 8,
   "id": "75faccdf",
   "metadata": {
    "execution": {
     "iopub.execute_input": "2022-07-12T06:53:35.993825Z",
     "iopub.status.busy": "2022-07-12T06:53:35.993246Z",
     "iopub.status.idle": "2022-07-12T06:53:36.005216Z",
     "shell.execute_reply": "2022-07-12T06:53:36.003120Z"
    },
    "papermill": {
     "duration": 0.019683,
     "end_time": "2022-07-12T06:53:36.007745",
     "exception": false,
     "start_time": "2022-07-12T06:53:35.988062",
     "status": "completed"
    },
    "tags": []
   },
   "outputs": [],
   "source": [
    "def get_model_benchmarks():\n",
    "    \"\"\"\n",
    "    Query the OpenTelemetry logs for *this pipeline run* and return\n",
    "    all key-values logged from all runs of the benchmark-model.py task\n",
    "\n",
    "    For testing a json file with OpenTelemetry spans (as an array)\n",
    "    can be used as follows:\n",
    "\n",
    "    - Create output directory `mkdir /tmp/spans`\n",
    "    - Run unit tests. This will create pipeline-outputs/opentelemetry-spans.json\n",
    "    - Convert this json-array into jsonl format as follows\n",
    "\n",
    "    jq -c '.[]' /pipeline-outputs/opentelemetry-spans.json > /tmp/spans/data.txt\n",
    "\n",
    "    \"\"\"\n",
    "    spans: Spans = Spans(_get_all_spans())\n",
    "    print(f\"Found {len(spans)} spans\")\n",
    "\n",
    "    benchmark_spans = (\n",
    "        spans\n",
    "        # -\n",
    "        .filter([\"name\"], \"execute-task\")\n",
    "        # -\n",
    "        .filter([\"attributes\", \"task.notebook\"], \"notebooks/benchmark-model.py\")\n",
    "    )\n",
    "\n",
    "    result = []\n",
    "    for s in benchmark_spans:\n",
    "        result.append(\n",
    "            {\n",
    "                \"span_id\": s[\"context\"][\"span_id\"],\n",
    "                \"nr_train_images\": s[\"attributes\"][\"task.nr_train_images\"],\n",
    "                \"data\": get_logged_values(spans.bound_under(s)),\n",
    "            }\n",
    "        )\n",
    "\n",
    "    return result\n",
    "\n",
    "\n",
    "def adjust_pandas(df):\n",
    "    def column_renamer(col_name: str) -> str:\n",
    "        return (\n",
    "            col_name\n",
    "            # -- 'data.roc_auc_per_digit.4' -> 'roc_auc.4'\n",
    "            .replace(\"data.roc_auc_per_digit\", \"roc_auc\")\n",
    "            # -- 'data.roc_auc_class_mean' -> 'roc_auc_mean'\n",
    "            .replace(\"data.roc_auc_class_mean\", \"roc_auc_mean\")\n",
    "        )\n",
    "\n",
    "    return df.rename(column_renamer, axis=\"columns\").sort_values(by=\"nr_train_images\")"
   ]
  },
  {
   "cell_type": "code",
   "execution_count": 9,
   "id": "ffb856cd",
   "metadata": {
    "execution": {
     "iopub.execute_input": "2022-07-12T06:53:36.018649Z",
     "iopub.status.busy": "2022-07-12T06:53:36.018293Z",
     "iopub.status.idle": "2022-07-12T06:54:07.667812Z",
     "shell.execute_reply": "2022-07-12T06:54:07.666269Z"
    },
    "papermill": {
     "duration": 31.659017,
     "end_time": "2022-07-12T06:54:07.670787",
     "exception": false,
     "start_time": "2022-07-12T06:53:36.011770",
     "status": "completed"
    },
    "tags": []
   },
   "outputs": [
    {
     "name": "stdout",
     "output_type": "stream",
     "text": [
      "Found 423 spans\n"
     ]
    }
   ],
   "source": [
    "df_data = adjust_pandas(pd.json_normalize(get_model_benchmarks()))"
   ]
  },
  {
   "cell_type": "code",
   "execution_count": 10,
   "id": "1ccfd951",
   "metadata": {
    "execution": {
     "iopub.execute_input": "2022-07-12T06:54:07.681093Z",
     "iopub.status.busy": "2022-07-12T06:54:07.680570Z",
     "iopub.status.idle": "2022-07-12T06:54:07.722192Z",
     "shell.execute_reply": "2022-07-12T06:54:07.721182Z"
    },
    "papermill": {
     "duration": 0.049208,
     "end_time": "2022-07-12T06:54:07.724670",
     "exception": false,
     "start_time": "2022-07-12T06:54:07.675462",
     "status": "completed"
    },
    "tags": []
   },
   "outputs": [
    {
     "data": {
      "text/html": [
       "<div>\n",
       "<style scoped>\n",
       "    .dataframe tbody tr th:only-of-type {\n",
       "        vertical-align: middle;\n",
       "    }\n",
       "\n",
       "    .dataframe tbody tr th {\n",
       "        vertical-align: top;\n",
       "    }\n",
       "\n",
       "    .dataframe thead th {\n",
       "        text-align: right;\n",
       "    }\n",
       "</style>\n",
       "<table border=\"1\" class=\"dataframe\">\n",
       "  <thead>\n",
       "    <tr style=\"text-align: right;\">\n",
       "      <th></th>\n",
       "      <th>span_id</th>\n",
       "      <th>nr_train_images</th>\n",
       "      <th>roc_auc_mean</th>\n",
       "      <th>roc_auc.0</th>\n",
       "      <th>roc_auc.1</th>\n",
       "      <th>roc_auc.2</th>\n",
       "      <th>roc_auc.3</th>\n",
       "      <th>roc_auc.4</th>\n",
       "      <th>roc_auc.5</th>\n",
       "      <th>roc_auc.6</th>\n",
       "      <th>roc_auc.7</th>\n",
       "      <th>roc_auc.8</th>\n",
       "      <th>roc_auc.9</th>\n",
       "    </tr>\n",
       "  </thead>\n",
       "  <tbody>\n",
       "    <tr>\n",
       "      <th>1</th>\n",
       "      <td>0xf2516be4b2ebec78</td>\n",
       "      <td>600</td>\n",
       "      <td>0.9990</td>\n",
       "      <td>1.0</td>\n",
       "      <td>0.9993</td>\n",
       "      <td>1.0</td>\n",
       "      <td>0.9997</td>\n",
       "      <td>0.9992</td>\n",
       "      <td>0.9989</td>\n",
       "      <td>1.0000</td>\n",
       "      <td>0.9998</td>\n",
       "      <td>0.9943</td>\n",
       "      <td>0.9989</td>\n",
       "    </tr>\n",
       "    <tr>\n",
       "      <th>0</th>\n",
       "      <td>0x262ecb1fcf780ba5</td>\n",
       "      <td>800</td>\n",
       "      <td>0.9990</td>\n",
       "      <td>1.0</td>\n",
       "      <td>0.9988</td>\n",
       "      <td>1.0</td>\n",
       "      <td>0.9999</td>\n",
       "      <td>0.9995</td>\n",
       "      <td>0.9991</td>\n",
       "      <td>1.0000</td>\n",
       "      <td>0.9999</td>\n",
       "      <td>0.9930</td>\n",
       "      <td>0.9995</td>\n",
       "    </tr>\n",
       "    <tr>\n",
       "      <th>2</th>\n",
       "      <td>0x2532042f3552ccf7</td>\n",
       "      <td>1000</td>\n",
       "      <td>0.9992</td>\n",
       "      <td>1.0</td>\n",
       "      <td>0.9990</td>\n",
       "      <td>1.0</td>\n",
       "      <td>0.9999</td>\n",
       "      <td>0.9997</td>\n",
       "      <td>0.9994</td>\n",
       "      <td>0.9999</td>\n",
       "      <td>0.9998</td>\n",
       "      <td>0.9952</td>\n",
       "      <td>0.9996</td>\n",
       "    </tr>\n",
       "    <tr>\n",
       "      <th>3</th>\n",
       "      <td>0xe53f3ad8261b9332</td>\n",
       "      <td>1200</td>\n",
       "      <td>0.9993</td>\n",
       "      <td>1.0</td>\n",
       "      <td>0.9990</td>\n",
       "      <td>1.0</td>\n",
       "      <td>0.9999</td>\n",
       "      <td>0.9998</td>\n",
       "      <td>0.9997</td>\n",
       "      <td>0.9999</td>\n",
       "      <td>0.9998</td>\n",
       "      <td>0.9954</td>\n",
       "      <td>0.9997</td>\n",
       "    </tr>\n",
       "  </tbody>\n",
       "</table>\n",
       "</div>"
      ],
      "text/plain": [
       "              span_id  nr_train_images  roc_auc_mean  roc_auc.0  roc_auc.1  \\\n",
       "1  0xf2516be4b2ebec78              600        0.9990        1.0     0.9993   \n",
       "0  0x262ecb1fcf780ba5              800        0.9990        1.0     0.9988   \n",
       "2  0x2532042f3552ccf7             1000        0.9992        1.0     0.9990   \n",
       "3  0xe53f3ad8261b9332             1200        0.9993        1.0     0.9990   \n",
       "\n",
       "   roc_auc.2  roc_auc.3  roc_auc.4  roc_auc.5  roc_auc.6  roc_auc.7  \\\n",
       "1        1.0     0.9997     0.9992     0.9989     1.0000     0.9998   \n",
       "0        1.0     0.9999     0.9995     0.9991     1.0000     0.9999   \n",
       "2        1.0     0.9999     0.9997     0.9994     0.9999     0.9998   \n",
       "3        1.0     0.9999     0.9998     0.9997     0.9999     0.9998   \n",
       "\n",
       "   roc_auc.8  roc_auc.9  \n",
       "1     0.9943     0.9989  \n",
       "0     0.9930     0.9995  \n",
       "2     0.9952     0.9996  \n",
       "3     0.9954     0.9997  "
      ]
     },
     "execution_count": 10,
     "metadata": {},
     "output_type": "execute_result"
    }
   ],
   "source": [
    "df_data.round(4)"
   ]
  },
  {
   "cell_type": "code",
   "execution_count": 11,
   "id": "3b378716",
   "metadata": {
    "execution": {
     "iopub.execute_input": "2022-07-12T06:54:07.735565Z",
     "iopub.status.busy": "2022-07-12T06:54:07.735197Z",
     "iopub.status.idle": "2022-07-12T06:54:07.980249Z",
     "shell.execute_reply": "2022-07-12T06:54:07.979231Z"
    },
    "papermill": {
     "duration": 0.252626,
     "end_time": "2022-07-12T06:54:07.982384",
     "exception": false,
     "start_time": "2022-07-12T06:54:07.729758",
     "status": "completed"
    },
    "tags": []
   },
   "outputs": [
    {
     "data": {
      "image/png": "[encoded data removed]",
      "text/plain": [
       "<Figure size 1152x288 with 1 Axes>"
      ]
     },
     "metadata": {
      "needs_background": "light"
     },
     "output_type": "display_data"
    }
   ],
   "source": [
    "def plot_classifier_performance_summary(df_data):\n",
    "    fig, ax = plt.subplots(nrows=1, ncols=1, figsize=(16, 4), sharex=True)\n",
    "\n",
    "    #\n",
    "    ax.plot(\n",
    "        df_data[\"nr_train_images\"], df_data[\"roc_auc_mean\"], marker=\"o\", linestyle=\"--\"\n",
    "    )\n",
    "    ax.set_title(\n",
    "        f\"ROC AUC digit classifier performance on evaluation digits\", fontsize=17\n",
    "    )\n",
    "    ax.set_xlabel(\"Total number of digits in training set\", fontsize=14)\n",
    "    ax.set_ylabel(\"Mean ROC AUC\", fontsize=14)\n",
    "\n",
    "    fig.tight_layout()\n",
    "    fig.show()\n",
    "\n",
    "    return fig\n",
    "\n",
    "\n",
    "fig = plot_classifier_performance_summary(df_data)"
   ]
  },
  {
   "cell_type": "code",
   "execution_count": 12,
   "id": "de1844cd",
   "metadata": {
    "execution": {
     "iopub.execute_input": "2022-07-12T06:54:07.994916Z",
     "iopub.status.busy": "2022-07-12T06:54:07.994331Z",
     "iopub.status.idle": "2022-07-12T06:54:08.080579Z",
     "shell.execute_reply": "2022-07-12T06:54:08.079446Z"
    },
    "papermill": {
     "duration": 0.095808,
     "end_time": "2022-07-12T06:54:08.083841",
     "exception": false,
     "start_time": "2022-07-12T06:54:07.988033",
     "status": "completed"
    },
    "tags": []
   },
   "outputs": [],
   "source": [
    "logger.log_figure(\"auc-roc-model-performances.png\", fig)"
   ]
  },
  {
   "cell_type": "code",
   "execution_count": 13,
   "id": "35dd45b2",
   "metadata": {
    "execution": {
     "iopub.execute_input": "2022-07-12T06:54:08.095760Z",
     "iopub.status.busy": "2022-07-12T06:54:08.095243Z",
     "iopub.status.idle": "2022-07-12T06:54:08.099530Z",
     "shell.execute_reply": "2022-07-12T06:54:08.098596Z"
    },
    "papermill": {
     "duration": 0.014265,
     "end_time": "2022-07-12T06:54:08.102968",
     "exception": false,
     "start_time": "2022-07-12T06:54:08.088703",
     "status": "completed"
    },
    "tags": []
   },
   "outputs": [],
   "source": [
    "###"
   ]
  },
  {
   "cell_type": "code",
   "execution_count": null,
   "id": "9e644c75",
   "metadata": {
    "papermill": {
     "duration": 0.00673,
     "end_time": "2022-07-12T06:54:08.115082",
     "exception": false,
     "start_time": "2022-07-12T06:54:08.108352",
     "status": "completed"
    },
    "tags": []
   },
   "outputs": [],
   "source": []
  }
 ],
 "metadata": {
  "jupytext": {
   "cell_metadata_filter": "tags,-all",
   "main_language": "python",
   "notebook_metadata_filter": "-all"
  },
  "language_info": {
   "codemirror_mode": {
    "name": "ipython",
    "version": 3
   },
   "file_extension": ".py",
   "mimetype": "text/x-python",
   "name": "python",
   "nbconvert_exporter": "python",
   "pygments_lexer": "ipython3",
   "version": "3.8.10"
  },
  "papermill": {
   "default_parameters": {},
   "duration": 36.860383,
   "end_time": "2022-07-12T06:54:09.247105",
   "environment_variables": {},
   "exception": null,
   "input_path": "/home/host_user/workspace/mnist-demo-pipeline/mnist-demo-pipeline/notebooks/temp-notebook-py2wchv5.ipynb",
   "output_path": "notebooks/summary.ipynb",
   "parameters": {
    "P": {
     "_opentelemetry_traceparent": "00-77fa89566b16837304c76483fe43a14b-98a6adf4578d6689-01",
     "pipeline.data_lake_root": "/pipeline-outputs/data-lake",
     "pipeline.github.actor": "matiasdahl",
     "pipeline.github.base_ref": "",
     "pipeline.github.event_name": "schedule",
     "pipeline.github.head_ref": "",
     "pipeline.github.job": "run-tests-pipeline-and-persist-pipeline-outputs",
     "pipeline.github.ref": "refs/heads/development",
     "pipeline.github.ref_name": "development",
     "pipeline.github.ref_type": "branch",
     "pipeline.github.repository": "pynb-dag-runner/mnist-digits-demo-pipeline",
     "pipeline.github.run_id": "2654616097",
     "pipeline.github.runner_name": "Hosted Agent",
     "pipeline.github.sha": "147a1be9916173fd4d2cd011d8d51e3411215850",
     "pipeline.github.workflow": "Run automated tests, pipeline and deploy results to static reporting site",
     "pipeline.pipeline_run_id": "aeca9ce4-c2b9-4420-af24-3b2d3c6a8a3b",
     "pipeline.run_environment": "ci",
     "run.retry_nr": "0",
     "task.max_nr_retries": "1",
     "task.notebook": "notebooks/summary.py",
     "task.num_cpus": 1,
     "task.timeout_s": "None"
    }
   },
   "start_time": "2022-07-12T06:53:32.386722",
   "version": "2.3.3"
  }
 },
 "nbformat": 4,
 "nbformat_minor": 5
}