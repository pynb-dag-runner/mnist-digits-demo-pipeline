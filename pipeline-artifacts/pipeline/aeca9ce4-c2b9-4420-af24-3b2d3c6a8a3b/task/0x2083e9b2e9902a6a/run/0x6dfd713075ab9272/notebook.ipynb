{
 "cells": [
  {
   "cell_type": "markdown",
   "id": "647d39aa",
   "metadata": {
    "papermill": {
     "duration": 0.007874,
     "end_time": "2022-07-12T06:52:40.419129",
     "exception": false,
     "start_time": "2022-07-12T06:52:40.411255",
     "status": "completed"
    },
    "tags": []
   },
   "source": [
    "# Train model\n",
    "\n",
    "The purpose of this notebook is:\n",
    "\n",
    "- Load all training data (images and labels).\n",
    "- Limit number of train images to `task.nr_train_images` (value provided as run parameter).\n",
    "- Train a support vector machine model using sklearn.\n",
    "- Persist the trained model using the ONNX format."
   ]
  },
  {
   "cell_type": "markdown",
   "id": "30e7a702",
   "metadata": {
    "papermill": {
     "duration": 0.006605,
     "end_time": "2022-07-12T06:52:40.430291",
     "exception": false,
     "start_time": "2022-07-12T06:52:40.423686",
     "status": "completed"
    },
    "tags": []
   },
   "source": [
    "### Determine run parameters"
   ]
  },
  {
   "cell_type": "code",
   "execution_count": 1,
   "id": "e34776ce",
   "metadata": {
    "execution": {
     "iopub.execute_input": "2022-07-12T06:52:40.443130Z",
     "iopub.status.busy": "2022-07-12T06:52:40.442623Z",
     "iopub.status.idle": "2022-07-12T06:52:40.461344Z",
     "shell.execute_reply": "2022-07-12T06:52:40.460280Z"
    },
    "lines_to_next_cell": 0,
    "papermill": {
     "duration": 0.029856,
     "end_time": "2022-07-12T06:52:40.463981",
     "exception": false,
     "start_time": "2022-07-12T06:52:40.434125",
     "status": "completed"
    },
    "tags": []
   },
   "outputs": [],
   "source": [
    "# ----------------- Parameters for interactive development --------------\n",
    "P = {\n",
    "    \"pipeline.data_lake_root\": \"/pipeline-outputs/data-lake\",\n",
    "    \"task.nr_train_images\": 600,\n",
    "}"
   ]
  },
  {
   "cell_type": "code",
   "execution_count": 2,
   "id": "699e5b24",
   "metadata": {
    "execution": {
     "iopub.execute_input": "2022-07-12T06:52:40.476313Z",
     "iopub.status.busy": "2022-07-12T06:52:40.475953Z",
     "iopub.status.idle": "2022-07-12T06:52:40.482410Z",
     "shell.execute_reply": "2022-07-12T06:52:40.481615Z"
    },
    "lines_to_next_cell": 0,
    "papermill": {
     "duration": 0.015548,
     "end_time": "2022-07-12T06:52:40.486492",
     "exception": false,
     "start_time": "2022-07-12T06:52:40.470944",
     "status": "completed"
    },
    "tags": [
     "parameters"
    ]
   },
   "outputs": [],
   "source": [
    "# - During automated runs parameters will be injected in the below cell -"
   ]
  },
  {
   "cell_type": "code",
   "execution_count": 3,
   "id": "bfba93b6",
   "metadata": {
    "execution": {
     "iopub.execute_input": "2022-07-12T06:52:40.498084Z",
     "iopub.status.busy": "2022-07-12T06:52:40.497732Z",
     "iopub.status.idle": "2022-07-12T06:52:40.505348Z",
     "shell.execute_reply": "2022-07-12T06:52:40.504554Z"
    },
    "papermill": {
     "duration": 0.024227,
     "end_time": "2022-07-12T06:52:40.516190",
     "exception": false,
     "start_time": "2022-07-12T06:52:40.491963",
     "status": "completed"
    },
    "tags": [
     "injected-parameters"
    ]
   },
   "outputs": [],
   "source": [
    "# Parameters\n",
    "P = {\n",
    "    \"pipeline.data_lake_root\": \"/pipeline-outputs/data-lake\",\n",
    "    \"pipeline.run_environment\": \"ci\",\n",
    "    \"pipeline.pipeline_run_id\": \"aeca9ce4-c2b9-4420-af24-3b2d3c6a8a3b\",\n",
    "    \"pipeline.github.repository\": \"pynb-dag-runner/mnist-digits-demo-pipeline\",\n",
    "    \"pipeline.github.workflow\": \"Run automated tests, pipeline and deploy results to static reporting site\",\n",
    "    \"pipeline.github.runner_name\": \"Hosted Agent\",\n",
    "    \"pipeline.github.run_id\": \"2654616097\",\n",
    "    \"pipeline.github.actor\": \"matiasdahl\",\n",
    "    \"pipeline.github.job\": \"run-tests-pipeline-and-persist-pipeline-outputs\",\n",
    "    \"pipeline.github.base_ref\": \"\",\n",
    "    \"pipeline.github.head_ref\": \"\",\n",
    "    \"pipeline.github.sha\": \"147a1be9916173fd4d2cd011d8d51e3411215850\",\n",
    "    \"pipeline.github.ref\": \"refs/heads/development\",\n",
    "    \"pipeline.github.ref_type\": \"branch\",\n",
    "    \"pipeline.github.ref_name\": \"development\",\n",
    "    \"pipeline.github.event_name\": \"schedule\",\n",
    "    \"task.nr_train_images\": 1000,\n",
    "    \"task.notebook\": \"notebooks/train-model.py\",\n",
    "    \"task.max_nr_retries\": \"1\",\n",
    "    \"run.retry_nr\": \"0\",\n",
    "    \"task.timeout_s\": \"None\",\n",
    "    \"task.num_cpus\": 1,\n",
    "    \"_opentelemetry_traceparent\": \"00-77fa89566b16837304c76483fe43a14b-53878d22121b2d66-01\",\n",
    "}\n"
   ]
  },
  {
   "cell_type": "code",
   "execution_count": 4,
   "id": "b138b705",
   "metadata": {
    "execution": {
     "iopub.execute_input": "2022-07-12T06:52:40.532210Z",
     "iopub.status.busy": "2022-07-12T06:52:40.531855Z",
     "iopub.status.idle": "2022-07-12T06:52:40.536307Z",
     "shell.execute_reply": "2022-07-12T06:52:40.535504Z"
    },
    "lines_to_next_cell": 0,
    "papermill": {
     "duration": 0.017329,
     "end_time": "2022-07-12T06:52:40.541990",
     "exception": false,
     "start_time": "2022-07-12T06:52:40.524661",
     "status": "completed"
    },
    "tags": []
   },
   "outputs": [],
   "source": [
    "# -----------------------------------------------------------------------"
   ]
  },
  {
   "cell_type": "markdown",
   "id": "73ef4732",
   "metadata": {
    "papermill": {
     "duration": 0.005229,
     "end_time": "2022-07-12T06:52:40.551552",
     "exception": false,
     "start_time": "2022-07-12T06:52:40.546323",
     "status": "completed"
    },
    "tags": []
   },
   "source": [
    "---"
   ]
  },
  {
   "cell_type": "markdown",
   "id": "ad61de6d",
   "metadata": {
    "lines_to_next_cell": 2,
    "papermill": {
     "duration": 0.006324,
     "end_time": "2022-07-12T06:52:40.562106",
     "exception": false,
     "start_time": "2022-07-12T06:52:40.555782",
     "status": "completed"
    },
    "tags": []
   },
   "source": [
    "### Notebook code"
   ]
  },
  {
   "cell_type": "code",
   "execution_count": 5,
   "id": "44c0c087",
   "metadata": {
    "execution": {
     "iopub.execute_input": "2022-07-12T06:52:40.583344Z",
     "iopub.status.busy": "2022-07-12T06:52:40.582993Z",
     "iopub.status.idle": "2022-07-12T06:52:41.371756Z",
     "shell.execute_reply": "2022-07-12T06:52:41.370468Z"
    },
    "papermill": {
     "duration": 0.798471,
     "end_time": "2022-07-12T06:52:41.374082",
     "exception": false,
     "start_time": "2022-07-12T06:52:40.575611",
     "status": "completed"
    },
    "tags": []
   },
   "outputs": [
    {
     "name": "stderr",
     "output_type": "stream",
     "text": [
      "2022-07-12 06:52:41,144\tINFO worker.py:842 -- Connecting to existing Ray cluster at address: 172.17.0.2:6379\n"
     ]
    }
   ],
   "source": [
    "from pynb_dag_runner.tasks.task_opentelemetry_logging import PydarLogger\n",
    "\n",
    "logger = PydarLogger(P)"
   ]
  },
  {
   "cell_type": "markdown",
   "id": "1c0a383d",
   "metadata": {
    "papermill": {
     "duration": 0.003924,
     "end_time": "2022-07-12T06:52:41.385932",
     "exception": false,
     "start_time": "2022-07-12T06:52:41.382008",
     "status": "completed"
    },
    "tags": []
   },
   "source": [
    "## Load and limit train data"
   ]
  },
  {
   "cell_type": "code",
   "execution_count": 6,
   "id": "f2132e9a",
   "metadata": {
    "execution": {
     "iopub.execute_input": "2022-07-12T06:52:41.395842Z",
     "iopub.status.busy": "2022-07-12T06:52:41.395206Z",
     "iopub.status.idle": "2022-07-12T06:52:42.120166Z",
     "shell.execute_reply": "2022-07-12T06:52:42.118503Z"
    },
    "papermill": {
     "duration": 0.732734,
     "end_time": "2022-07-12T06:52:42.122732",
     "exception": false,
     "start_time": "2022-07-12T06:52:41.389998",
     "status": "completed"
    },
    "tags": []
   },
   "outputs": [],
   "source": [
    "def load_and_limit_train_data(P):\n",
    "    from common.io import datalake_root, read_numpy\n",
    "    from sklearn.model_selection import train_test_split\n",
    "\n",
    "    X_train_all = read_numpy(datalake_root(P) / \"train-data\" / \"digits.numpy\")\n",
    "    y_train_all = read_numpy(datalake_root(P) / \"train-data\" / \"labels.numpy\")\n",
    "\n",
    "    assert isinstance(P[\"task.nr_train_images\"], int)\n",
    "\n",
    "    # Note: train_test_split will fail if split is 0 or 100%.\n",
    "    assert 0 < P[\"task.nr_train_images\"] < len(y_train_all)\n",
    "\n",
    "    X_train, _, y_train, _ = train_test_split(\n",
    "        X_train_all,\n",
    "        y_train_all,\n",
    "        train_size=P[\"task.nr_train_images\"],\n",
    "        test_size=None,\n",
    "        stratify=y_train_all,\n",
    "        shuffle=True,\n",
    "        random_state=123,\n",
    "    )\n",
    "\n",
    "    assert X_train.shape == (len(y_train), 8 * 8)\n",
    "    return X_train, y_train\n",
    "\n",
    "\n",
    "X_train, y_train = load_and_limit_train_data(P)"
   ]
  },
  {
   "cell_type": "markdown",
   "id": "cffef71b",
   "metadata": {
    "papermill": {
     "duration": 0.006883,
     "end_time": "2022-07-12T06:52:42.135392",
     "exception": false,
     "start_time": "2022-07-12T06:52:42.128509",
     "status": "completed"
    },
    "tags": []
   },
   "source": [
    "## Train support vector classifier model\n",
    "\n",
    "Below we assume that the hyperparameter $C$ is known.\n",
    "\n",
    "However, this should ideally be found by a hyperparameter search. That could be\n",
    "done in parallel on the Ray cluster, but this needs some more work. Ie., to use\n",
    "multiple cores in the notebook, those cores should be reserved when starting the\n",
    "notebook task (TODO).\n",
    "\n",
    "- https://docs.ray.io/en/latest/tune/key-concepts.html\n",
    "\n",
    "Note: cv-scores would need to be computed here, since they depend on the train data.\n",
    "After this notebook only the onnx-model is available."
   ]
  },
  {
   "cell_type": "code",
   "execution_count": 7,
   "id": "06b2b717",
   "metadata": {
    "execution": {
     "iopub.execute_input": "2022-07-12T06:52:42.146936Z",
     "iopub.status.busy": "2022-07-12T06:52:42.146387Z",
     "iopub.status.idle": "2022-07-12T06:52:42.196709Z",
     "shell.execute_reply": "2022-07-12T06:52:42.195482Z"
    },
    "papermill": {
     "duration": 0.059853,
     "end_time": "2022-07-12T06:52:42.199051",
     "exception": false,
     "start_time": "2022-07-12T06:52:42.139198",
     "status": "completed"
    },
    "tags": []
   },
   "outputs": [],
   "source": [
    "from sklearn.svm import SVC"
   ]
  },
  {
   "cell_type": "code",
   "execution_count": 8,
   "id": "a4e1630b",
   "metadata": {
    "execution": {
     "iopub.execute_input": "2022-07-12T06:52:42.210685Z",
     "iopub.status.busy": "2022-07-12T06:52:42.209763Z",
     "iopub.status.idle": "2022-07-12T06:52:42.395948Z",
     "shell.execute_reply": "2022-07-12T06:52:42.394947Z"
    },
    "papermill": {
     "duration": 0.195876,
     "end_time": "2022-07-12T06:52:42.399377",
     "exception": false,
     "start_time": "2022-07-12T06:52:42.203501",
     "status": "completed"
    },
    "tags": []
   },
   "outputs": [
    {
     "data": {
      "text/plain": [
       "SVC(C=0.001, kernel='linear', probability=True)"
      ]
     },
     "execution_count": 8,
     "metadata": {},
     "output_type": "execute_result"
    }
   ],
   "source": [
    "model = SVC(C=0.001, kernel=\"linear\", probability=True)\n",
    "\n",
    "model.fit(X_train, y_train)"
   ]
  },
  {
   "cell_type": "markdown",
   "id": "c399bead",
   "metadata": {
    "papermill": {
     "duration": 0.004457,
     "end_time": "2022-07-12T06:52:42.409248",
     "exception": false,
     "start_time": "2022-07-12T06:52:42.404791",
     "status": "completed"
    },
    "tags": []
   },
   "source": [
    "### Q: Can the labels returned by `predict(..)` be computed from probabilities returned by the `predict_prob`-method?"
   ]
  },
  {
   "cell_type": "code",
   "execution_count": 9,
   "id": "ca0dcfe5",
   "metadata": {
    "execution": {
     "iopub.execute_input": "2022-07-12T06:52:42.420407Z",
     "iopub.status.busy": "2022-07-12T06:52:42.419750Z",
     "iopub.status.idle": "2022-07-12T06:52:42.507369Z",
     "shell.execute_reply": "2022-07-12T06:52:42.506257Z"
    },
    "papermill": {
     "duration": 0.095805,
     "end_time": "2022-07-12T06:52:42.509437",
     "exception": false,
     "start_time": "2022-07-12T06:52:42.413632",
     "status": "completed"
    },
    "tags": []
   },
   "outputs": [
    {
     "name": "stdout",
     "output_type": "stream",
     "text": [
      " - Logging nr_max_prob_neq_label (int) : 1\n"
     ]
    }
   ],
   "source": [
    "import numpy as np\n",
    "\n",
    "y_train_labels = model.predict(X_train)\n",
    "y_train_probabilities = model.predict_proba(X_train)\n",
    "assert y_train_probabilities.shape == (len(y_train), 10)\n",
    "\n",
    "y_train_max_prob_labels = np.argmax(y_train_probabilities, axis=1)\n",
    "assert y_train_labels.shape == y_train_max_prob_labels.shape == y_train.shape\n",
    "\n",
    "# If the predicted labels would coincide with the labels that have\n",
    "# maximum probability, the below number would be zero\n",
    "logger.log_int(\n",
    "    \"nr_max_prob_neq_label\", int(sum(y_train_max_prob_labels != y_train_labels))\n",
    ")"
   ]
  },
  {
   "cell_type": "markdown",
   "id": "e2fe922b",
   "metadata": {
    "papermill": {
     "duration": 0.004055,
     "end_time": "2022-07-12T06:52:42.518017",
     "exception": false,
     "start_time": "2022-07-12T06:52:42.513962",
     "status": "completed"
    },
    "tags": []
   },
   "source": [
    "The explanation is (likely) explained in the SVC source, see\n",
    "[here](https://github.com/scikit-learn/scikit-learn/blob/main/sklearn/svm/_base.py).\n",
    "Namely, the outputs from `predict(..)` and `predict_proba(..)` may not in some\n",
    "cases be compatible since the latter is computed using cross-validation while\n",
    "the former is not. Thus, the above number need not be zero."
   ]
  },
  {
   "cell_type": "markdown",
   "id": "947685e4",
   "metadata": {
    "papermill": {
     "duration": 0.004296,
     "end_time": "2022-07-12T06:52:42.526482",
     "exception": false,
     "start_time": "2022-07-12T06:52:42.522186",
     "status": "completed"
    },
    "tags": []
   },
   "source": [
    "## Persist model"
   ]
  },
  {
   "cell_type": "code",
   "execution_count": 10,
   "id": "4bdced3c",
   "metadata": {
    "execution": {
     "iopub.execute_input": "2022-07-12T06:52:42.538442Z",
     "iopub.status.busy": "2022-07-12T06:52:42.537501Z",
     "iopub.status.idle": "2022-07-12T06:52:43.713368Z",
     "shell.execute_reply": "2022-07-12T06:52:43.712544Z"
    },
    "papermill": {
     "duration": 1.185777,
     "end_time": "2022-07-12T06:52:43.716759",
     "exception": false,
     "start_time": "2022-07-12T06:52:42.530982",
     "status": "completed"
    },
    "tags": []
   },
   "outputs": [],
   "source": [
    "from skl2onnx import convert_sklearn\n",
    "from skl2onnx.common.data_types import FloatTensorType\n",
    "\n",
    "#\n",
    "from common.io import datalake_root, write_onnx"
   ]
  },
  {
   "cell_type": "code",
   "execution_count": 11,
   "id": "93ad0f89",
   "metadata": {
    "execution": {
     "iopub.execute_input": "2022-07-12T06:52:43.730723Z",
     "iopub.status.busy": "2022-07-12T06:52:43.729134Z",
     "iopub.status.idle": "2022-07-12T06:52:43.799468Z",
     "shell.execute_reply": "2022-07-12T06:52:43.798523Z"
    },
    "papermill": {
     "duration": 0.079861,
     "end_time": "2022-07-12T06:52:43.802044",
     "exception": false,
     "start_time": "2022-07-12T06:52:43.722183",
     "status": "completed"
    },
    "tags": []
   },
   "outputs": [],
   "source": [
    "# convert sklearn model into onnx and persist to data lake\n",
    "\n",
    "model_onnx = convert_sklearn(\n",
    "    model, initial_types=[(\"float_input_8x8_image\", FloatTensorType([None, 8 * 8]))]\n",
    ")\n",
    "write_onnx(\n",
    "    datalake_root(P)\n",
    "    / \"models\"\n",
    "    / f\"nr_train_images={P['task.nr_train_images']}\"\n",
    "    / \"model.onnx\",\n",
    "    model_onnx,\n",
    ")"
   ]
  },
  {
   "cell_type": "code",
   "execution_count": null,
   "id": "549f8157",
   "metadata": {
    "papermill": {
     "duration": 0.009164,
     "end_time": "2022-07-12T06:52:43.816720",
     "exception": false,
     "start_time": "2022-07-12T06:52:43.807556",
     "status": "completed"
    },
    "tags": []
   },
   "outputs": [],
   "source": []
  }
 ],
 "metadata": {
  "jupytext": {
   "cell_metadata_filter": "tags,-all",
   "main_language": "python",
   "notebook_metadata_filter": "-all"
  },
  "language_info": {
   "codemirror_mode": {
    "name": "ipython",
    "version": 3
   },
   "file_extension": ".py",
   "mimetype": "text/x-python",
   "name": "python",
   "nbconvert_exporter": "python",
   "pygments_lexer": "ipython3",
   "version": "3.8.10"
  },
  "papermill": {
   "default_parameters": {},
   "duration": 6.686755,
   "end_time": "2022-07-12T06:52:45.051129",
   "environment_variables": {},
   "exception": null,
   "input_path": "/home/host_user/workspace/mnist-demo-pipeline/mnist-demo-pipeline/notebooks/temp-notebook-yujxe7tk.ipynb",
   "output_path": "notebooks/train-model.ipynb",
   "parameters": {
    "P": {
     "_opentelemetry_traceparent": "00-77fa89566b16837304c76483fe43a14b-53878d22121b2d66-01",
     "pipeline.data_lake_root": "/pipeline-outputs/data-lake",
     "pipeline.github.actor": "matiasdahl",
     "pipeline.github.base_ref": "",
     "pipeline.github.event_name": "schedule",
     "pipeline.github.head_ref": "",
     "pipeline.github.job": "run-tests-pipeline-and-persist-pipeline-outputs",
     "pipeline.github.ref": "refs/heads/development",
     "pipeline.github.ref_name": "development",
     "pipeline.github.ref_type": "branch",
     "pipeline.github.repository": "pynb-dag-runner/mnist-digits-demo-pipeline",
     "pipeline.github.run_id": "2654616097",
     "pipeline.github.runner_name": "Hosted Agent",
     "pipeline.github.sha": "147a1be9916173fd4d2cd011d8d51e3411215850",
     "pipeline.github.workflow": "Run automated tests, pipeline and deploy results to static reporting site",
     "pipeline.pipeline_run_id": "aeca9ce4-c2b9-4420-af24-3b2d3c6a8a3b",
     "pipeline.run_environment": "ci",
     "run.retry_nr": "0",
     "task.max_nr_retries": "1",
     "task.notebook": "notebooks/train-model.py",
     "task.nr_train_images": 1000,
     "task.num_cpus": 1,
     "task.timeout_s": "None"
    }
   },
   "start_time": "2022-07-12T06:52:38.364374",
   "version": "2.3.3"
  }
 },
 "nbformat": 4,
 "nbformat_minor": 5
}