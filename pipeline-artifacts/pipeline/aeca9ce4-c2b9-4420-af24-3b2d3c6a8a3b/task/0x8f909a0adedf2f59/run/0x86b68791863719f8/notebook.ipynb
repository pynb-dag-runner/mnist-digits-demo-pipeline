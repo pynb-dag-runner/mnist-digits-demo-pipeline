{
 "cells": [
  {
   "cell_type": "markdown",
   "id": "26e5a758",
   "metadata": {
    "papermill": {
     "duration": 0.008869,
     "end_time": "2022-07-12T06:52:42.593044",
     "exception": false,
     "start_time": "2022-07-12T06:52:42.584175",
     "status": "completed"
    },
    "tags": []
   },
   "source": [
    "# Train model\n",
    "\n",
    "The purpose of this notebook is:\n",
    "\n",
    "- Load all training data (images and labels).\n",
    "- Limit number of train images to `task.nr_train_images` (value provided as run parameter).\n",
    "- Train a support vector machine model using sklearn.\n",
    "- Persist the trained model using the ONNX format."
   ]
  },
  {
   "cell_type": "markdown",
   "id": "1d58fa95",
   "metadata": {
    "papermill": {
     "duration": 0.00603,
     "end_time": "2022-07-12T06:52:42.603509",
     "exception": false,
     "start_time": "2022-07-12T06:52:42.597479",
     "status": "completed"
    },
    "tags": []
   },
   "source": [
    "### Determine run parameters"
   ]
  },
  {
   "cell_type": "code",
   "execution_count": 1,
   "id": "fe801334",
   "metadata": {
    "execution": {
     "iopub.execute_input": "2022-07-12T06:52:42.613753Z",
     "iopub.status.busy": "2022-07-12T06:52:42.613346Z",
     "iopub.status.idle": "2022-07-12T06:52:42.626045Z",
     "shell.execute_reply": "2022-07-12T06:52:42.624983Z"
    },
    "lines_to_next_cell": 0,
    "papermill": {
     "duration": 0.021876,
     "end_time": "2022-07-12T06:52:42.628951",
     "exception": false,
     "start_time": "2022-07-12T06:52:42.607075",
     "status": "completed"
    },
    "tags": []
   },
   "outputs": [],
   "source": [
    "# ----------------- Parameters for interactive development --------------\n",
    "P = {\n",
    "    \"pipeline.data_lake_root\": \"/pipeline-outputs/data-lake\",\n",
    "    \"task.nr_train_images\": 600,\n",
    "}"
   ]
  },
  {
   "cell_type": "code",
   "execution_count": 2,
   "id": "dee190c3",
   "metadata": {
    "execution": {
     "iopub.execute_input": "2022-07-12T06:52:42.639852Z",
     "iopub.status.busy": "2022-07-12T06:52:42.639537Z",
     "iopub.status.idle": "2022-07-12T06:52:42.644534Z",
     "shell.execute_reply": "2022-07-12T06:52:42.643710Z"
    },
    "lines_to_next_cell": 0,
    "papermill": {
     "duration": 0.013943,
     "end_time": "2022-07-12T06:52:42.648096",
     "exception": false,
     "start_time": "2022-07-12T06:52:42.634153",
     "status": "completed"
    },
    "tags": [
     "parameters"
    ]
   },
   "outputs": [],
   "source": [
    "# - During automated runs parameters will be injected in the below cell -"
   ]
  },
  {
   "cell_type": "code",
   "execution_count": 3,
   "id": "88fb3558",
   "metadata": {
    "execution": {
     "iopub.execute_input": "2022-07-12T06:52:42.657790Z",
     "iopub.status.busy": "2022-07-12T06:52:42.657487Z",
     "iopub.status.idle": "2022-07-12T06:52:42.664449Z",
     "shell.execute_reply": "2022-07-12T06:52:42.663456Z"
    },
    "papermill": {
     "duration": 0.015958,
     "end_time": "2022-07-12T06:52:42.668545",
     "exception": false,
     "start_time": "2022-07-12T06:52:42.652587",
     "status": "completed"
    },
    "tags": [
     "injected-parameters"
    ]
   },
   "outputs": [],
   "source": [
    "# Parameters\n",
    "P = {\n",
    "    \"pipeline.data_lake_root\": \"/pipeline-outputs/data-lake\",\n",
    "    \"pipeline.run_environment\": \"ci\",\n",
    "    \"pipeline.pipeline_run_id\": \"aeca9ce4-c2b9-4420-af24-3b2d3c6a8a3b\",\n",
    "    \"pipeline.github.repository\": \"pynb-dag-runner/mnist-digits-demo-pipeline\",\n",
    "    \"pipeline.github.workflow\": \"Run automated tests, pipeline and deploy results to static reporting site\",\n",
    "    \"pipeline.github.runner_name\": \"Hosted Agent\",\n",
    "    \"pipeline.github.run_id\": \"2654616097\",\n",
    "    \"pipeline.github.actor\": \"matiasdahl\",\n",
    "    \"pipeline.github.job\": \"run-tests-pipeline-and-persist-pipeline-outputs\",\n",
    "    \"pipeline.github.base_ref\": \"\",\n",
    "    \"pipeline.github.head_ref\": \"\",\n",
    "    \"pipeline.github.sha\": \"147a1be9916173fd4d2cd011d8d51e3411215850\",\n",
    "    \"pipeline.github.ref\": \"refs/heads/development\",\n",
    "    \"pipeline.github.ref_type\": \"branch\",\n",
    "    \"pipeline.github.ref_name\": \"development\",\n",
    "    \"pipeline.github.event_name\": \"schedule\",\n",
    "    \"task.nr_train_images\": 800,\n",
    "    \"task.notebook\": \"notebooks/train-model.py\",\n",
    "    \"task.max_nr_retries\": \"1\",\n",
    "    \"run.retry_nr\": \"0\",\n",
    "    \"task.timeout_s\": \"None\",\n",
    "    \"task.num_cpus\": 1,\n",
    "    \"_opentelemetry_traceparent\": \"00-77fa89566b16837304c76483fe43a14b-696235d70c61b5c5-01\",\n",
    "}\n"
   ]
  },
  {
   "cell_type": "code",
   "execution_count": 4,
   "id": "95bdb1c1",
   "metadata": {
    "execution": {
     "iopub.execute_input": "2022-07-12T06:52:42.678794Z",
     "iopub.status.busy": "2022-07-12T06:52:42.678498Z",
     "iopub.status.idle": "2022-07-12T06:52:42.687134Z",
     "shell.execute_reply": "2022-07-12T06:52:42.686176Z"
    },
    "lines_to_next_cell": 0,
    "papermill": {
     "duration": 0.019464,
     "end_time": "2022-07-12T06:52:42.693062",
     "exception": false,
     "start_time": "2022-07-12T06:52:42.673598",
     "status": "completed"
    },
    "tags": []
   },
   "outputs": [],
   "source": [
    "# -----------------------------------------------------------------------"
   ]
  },
  {
   "cell_type": "markdown",
   "id": "b14d056e",
   "metadata": {
    "papermill": {
     "duration": 0.003982,
     "end_time": "2022-07-12T06:52:42.703201",
     "exception": false,
     "start_time": "2022-07-12T06:52:42.699219",
     "status": "completed"
    },
    "tags": []
   },
   "source": [
    "---"
   ]
  },
  {
   "cell_type": "markdown",
   "id": "84a97130",
   "metadata": {
    "lines_to_next_cell": 2,
    "papermill": {
     "duration": 0.005244,
     "end_time": "2022-07-12T06:52:42.716261",
     "exception": false,
     "start_time": "2022-07-12T06:52:42.711017",
     "status": "completed"
    },
    "tags": []
   },
   "source": [
    "### Notebook code"
   ]
  },
  {
   "cell_type": "code",
   "execution_count": 5,
   "id": "090854f5",
   "metadata": {
    "execution": {
     "iopub.execute_input": "2022-07-12T06:52:42.729579Z",
     "iopub.status.busy": "2022-07-12T06:52:42.729233Z",
     "iopub.status.idle": "2022-07-12T06:52:43.442781Z",
     "shell.execute_reply": "2022-07-12T06:52:43.441379Z"
    },
    "papermill": {
     "duration": 0.723599,
     "end_time": "2022-07-12T06:52:43.446249",
     "exception": false,
     "start_time": "2022-07-12T06:52:42.722650",
     "status": "completed"
    },
    "tags": []
   },
   "outputs": [
    {
     "name": "stderr",
     "output_type": "stream",
     "text": [
      "2022-07-12 06:52:43,235\tINFO worker.py:842 -- Connecting to existing Ray cluster at address: 172.17.0.2:6379\n"
     ]
    }
   ],
   "source": [
    "from pynb_dag_runner.tasks.task_opentelemetry_logging import PydarLogger\n",
    "\n",
    "logger = PydarLogger(P)"
   ]
  },
  {
   "cell_type": "markdown",
   "id": "a6b24666",
   "metadata": {
    "papermill": {
     "duration": 0.00514,
     "end_time": "2022-07-12T06:52:43.456979",
     "exception": false,
     "start_time": "2022-07-12T06:52:43.451839",
     "status": "completed"
    },
    "tags": []
   },
   "source": [
    "## Load and limit train data"
   ]
  },
  {
   "cell_type": "code",
   "execution_count": 6,
   "id": "aa1a8d00",
   "metadata": {
    "execution": {
     "iopub.execute_input": "2022-07-12T06:52:43.469141Z",
     "iopub.status.busy": "2022-07-12T06:52:43.468660Z",
     "iopub.status.idle": "2022-07-12T06:52:44.106087Z",
     "shell.execute_reply": "2022-07-12T06:52:44.104977Z"
    },
    "papermill": {
     "duration": 0.645833,
     "end_time": "2022-07-12T06:52:44.108818",
     "exception": false,
     "start_time": "2022-07-12T06:52:43.462985",
     "status": "completed"
    },
    "tags": []
   },
   "outputs": [],
   "source": [
    "def load_and_limit_train_data(P):\n",
    "    from common.io import datalake_root, read_numpy\n",
    "    from sklearn.model_selection import train_test_split\n",
    "\n",
    "    X_train_all = read_numpy(datalake_root(P) / \"train-data\" / \"digits.numpy\")\n",
    "    y_train_all = read_numpy(datalake_root(P) / \"train-data\" / \"labels.numpy\")\n",
    "\n",
    "    assert isinstance(P[\"task.nr_train_images\"], int)\n",
    "\n",
    "    # Note: train_test_split will fail if split is 0 or 100%.\n",
    "    assert 0 < P[\"task.nr_train_images\"] < len(y_train_all)\n",
    "\n",
    "    X_train, _, y_train, _ = train_test_split(\n",
    "        X_train_all,\n",
    "        y_train_all,\n",
    "        train_size=P[\"task.nr_train_images\"],\n",
    "        test_size=None,\n",
    "        stratify=y_train_all,\n",
    "        shuffle=True,\n",
    "        random_state=123,\n",
    "    )\n",
    "\n",
    "    assert X_train.shape == (len(y_train), 8 * 8)\n",
    "    return X_train, y_train\n",
    "\n",
    "\n",
    "X_train, y_train = load_and_limit_train_data(P)"
   ]
  },
  {
   "cell_type": "markdown",
   "id": "f5330235",
   "metadata": {
    "papermill": {
     "duration": 0.004254,
     "end_time": "2022-07-12T06:52:44.120562",
     "exception": false,
     "start_time": "2022-07-12T06:52:44.116308",
     "status": "completed"
    },
    "tags": []
   },
   "source": [
    "## Train support vector classifier model\n",
    "\n",
    "Below we assume that the hyperparameter $C$ is known.\n",
    "\n",
    "However, this should ideally be found by a hyperparameter search. That could be\n",
    "done in parallel on the Ray cluster, but this needs some more work. Ie., to use\n",
    "multiple cores in the notebook, those cores should be reserved when starting the\n",
    "notebook task (TODO).\n",
    "\n",
    "- https://docs.ray.io/en/latest/tune/key-concepts.html\n",
    "\n",
    "Note: cv-scores would need to be computed here, since they depend on the train data.\n",
    "After this notebook only the onnx-model is available."
   ]
  },
  {
   "cell_type": "code",
   "execution_count": 7,
   "id": "b80c9b23",
   "metadata": {
    "execution": {
     "iopub.execute_input": "2022-07-12T06:52:44.134909Z",
     "iopub.status.busy": "2022-07-12T06:52:44.134140Z",
     "iopub.status.idle": "2022-07-12T06:52:44.173456Z",
     "shell.execute_reply": "2022-07-12T06:52:44.172515Z"
    },
    "papermill": {
     "duration": 0.04881,
     "end_time": "2022-07-12T06:52:44.176590",
     "exception": false,
     "start_time": "2022-07-12T06:52:44.127780",
     "status": "completed"
    },
    "tags": []
   },
   "outputs": [],
   "source": [
    "from sklearn.svm import SVC"
   ]
  },
  {
   "cell_type": "code",
   "execution_count": 8,
   "id": "3b73e67f",
   "metadata": {
    "execution": {
     "iopub.execute_input": "2022-07-12T06:52:44.193239Z",
     "iopub.status.busy": "2022-07-12T06:52:44.192264Z",
     "iopub.status.idle": "2022-07-12T06:52:44.336503Z",
     "shell.execute_reply": "2022-07-12T06:52:44.330821Z"
    },
    "papermill": {
     "duration": 0.155817,
     "end_time": "2022-07-12T06:52:44.341092",
     "exception": false,
     "start_time": "2022-07-12T06:52:44.185275",
     "status": "completed"
    },
    "tags": []
   },
   "outputs": [
    {
     "name": "stdout",
     "output_type": "stream",
     "text": [
      "\u001b[2m\u001b[1m\u001b[36m(scheduler +1s)\u001b[0m Tip: use `ray status` to view detailed cluster status. To disable these messages, set RAY_SCHEDULER_EVENTS=0.\n",
      "\u001b[2m\u001b[1m\u001b[33m(scheduler +1s)\u001b[0m Warning: The following resource request cannot be scheduled right now: {'CPU': 1.0}. This is likely due to all cluster resources being claimed by actors. Consider creating fewer actors or adding more nodes to this Ray cluster.\n"
     ]
    },
    {
     "data": {
      "text/plain": [
       "SVC(C=0.001, kernel='linear', probability=True)"
      ]
     },
     "execution_count": 8,
     "metadata": {},
     "output_type": "execute_result"
    }
   ],
   "source": [
    "model = SVC(C=0.001, kernel=\"linear\", probability=True)\n",
    "\n",
    "model.fit(X_train, y_train)"
   ]
  },
  {
   "cell_type": "markdown",
   "id": "4cfabca3",
   "metadata": {
    "papermill": {
     "duration": 0.014547,
     "end_time": "2022-07-12T06:52:44.371867",
     "exception": false,
     "start_time": "2022-07-12T06:52:44.357320",
     "status": "completed"
    },
    "tags": []
   },
   "source": [
    "### Q: Can the labels returned by `predict(..)` be computed from probabilities returned by the `predict_prob`-method?"
   ]
  },
  {
   "cell_type": "code",
   "execution_count": 9,
   "id": "e105fe03",
   "metadata": {
    "execution": {
     "iopub.execute_input": "2022-07-12T06:52:44.389596Z",
     "iopub.status.busy": "2022-07-12T06:52:44.389249Z",
     "iopub.status.idle": "2022-07-12T06:52:44.477997Z",
     "shell.execute_reply": "2022-07-12T06:52:44.475982Z"
    },
    "papermill": {
     "duration": 0.100367,
     "end_time": "2022-07-12T06:52:44.480796",
     "exception": false,
     "start_time": "2022-07-12T06:52:44.380429",
     "status": "completed"
    },
    "tags": []
   },
   "outputs": [
    {
     "name": "stdout",
     "output_type": "stream",
     "text": [
      " - Logging nr_max_prob_neq_label (int) :"
     ]
    },
    {
     "name": "stdout",
     "output_type": "stream",
     "text": [
      " 1\n"
     ]
    }
   ],
   "source": [
    "import numpy as np\n",
    "\n",
    "y_train_labels = model.predict(X_train)\n",
    "y_train_probabilities = model.predict_proba(X_train)\n",
    "assert y_train_probabilities.shape == (len(y_train), 10)\n",
    "\n",
    "y_train_max_prob_labels = np.argmax(y_train_probabilities, axis=1)\n",
    "assert y_train_labels.shape == y_train_max_prob_labels.shape == y_train.shape\n",
    "\n",
    "# If the predicted labels would coincide with the labels that have\n",
    "# maximum probability, the below number would be zero\n",
    "logger.log_int(\n",
    "    \"nr_max_prob_neq_label\", int(sum(y_train_max_prob_labels != y_train_labels))\n",
    ")"
   ]
  },
  {
   "cell_type": "markdown",
   "id": "1312f6ba",
   "metadata": {
    "papermill": {
     "duration": 0.004489,
     "end_time": "2022-07-12T06:52:44.492133",
     "exception": false,
     "start_time": "2022-07-12T06:52:44.487644",
     "status": "completed"
    },
    "tags": []
   },
   "source": [
    "The explanation is (likely) explained in the SVC source, see\n",
    "[here](https://github.com/scikit-learn/scikit-learn/blob/main/sklearn/svm/_base.py).\n",
    "Namely, the outputs from `predict(..)` and `predict_proba(..)` may not in some\n",
    "cases be compatible since the latter is computed using cross-validation while\n",
    "the former is not. Thus, the above number need not be zero."
   ]
  },
  {
   "cell_type": "markdown",
   "id": "f25bf17a",
   "metadata": {
    "papermill": {
     "duration": 0.004153,
     "end_time": "2022-07-12T06:52:44.501130",
     "exception": false,
     "start_time": "2022-07-12T06:52:44.496977",
     "status": "completed"
    },
    "tags": []
   },
   "source": [
    "## Persist model"
   ]
  },
  {
   "cell_type": "code",
   "execution_count": 10,
   "id": "a67d0fc3",
   "metadata": {
    "execution": {
     "iopub.execute_input": "2022-07-12T06:52:44.512648Z",
     "iopub.status.busy": "2022-07-12T06:52:44.512219Z",
     "iopub.status.idle": "2022-07-12T06:52:45.678531Z",
     "shell.execute_reply": "2022-07-12T06:52:45.677687Z"
    },
    "papermill": {
     "duration": 1.175578,
     "end_time": "2022-07-12T06:52:45.681415",
     "exception": false,
     "start_time": "2022-07-12T06:52:44.505837",
     "status": "completed"
    },
    "tags": []
   },
   "outputs": [],
   "source": [
    "from skl2onnx import convert_sklearn\n",
    "from skl2onnx.common.data_types import FloatTensorType\n",
    "\n",
    "#\n",
    "from common.io import datalake_root, write_onnx"
   ]
  },
  {
   "cell_type": "code",
   "execution_count": 11,
   "id": "2a8d0aab",
   "metadata": {
    "execution": {
     "iopub.execute_input": "2022-07-12T06:52:45.696402Z",
     "iopub.status.busy": "2022-07-12T06:52:45.695918Z",
     "iopub.status.idle": "2022-07-12T06:52:45.771149Z",
     "shell.execute_reply": "2022-07-12T06:52:45.770161Z"
    },
    "papermill": {
     "duration": 0.086995,
     "end_time": "2022-07-12T06:52:45.774747",
     "exception": false,
     "start_time": "2022-07-12T06:52:45.687752",
     "status": "completed"
    },
    "tags": []
   },
   "outputs": [],
   "source": [
    "# convert sklearn model into onnx and persist to data lake\n",
    "\n",
    "model_onnx = convert_sklearn(\n",
    "    model, initial_types=[(\"float_input_8x8_image\", FloatTensorType([None, 8 * 8]))]\n",
    ")\n",
    "write_onnx(\n",
    "    datalake_root(P)\n",
    "    / \"models\"\n",
    "    / f\"nr_train_images={P['task.nr_train_images']}\"\n",
    "    / \"model.onnx\",\n",
    "    model_onnx,\n",
    ")"
   ]
  },
  {
   "cell_type": "code",
   "execution_count": null,
   "id": "13072182",
   "metadata": {
    "papermill": {
     "duration": 0.007004,
     "end_time": "2022-07-12T06:52:45.786840",
     "exception": false,
     "start_time": "2022-07-12T06:52:45.779836",
     "status": "completed"
    },
    "tags": []
   },
   "outputs": [],
   "source": []
  }
 ],
 "metadata": {
  "jupytext": {
   "cell_metadata_filter": "tags,-all",
   "main_language": "python",
   "notebook_metadata_filter": "-all"
  },
  "language_info": {
   "codemirror_mode": {
    "name": "ipython",
    "version": 3
   },
   "file_extension": ".py",
   "mimetype": "text/x-python",
   "name": "python",
   "nbconvert_exporter": "python",
   "pygments_lexer": "ipython3",
   "version": "3.8.10"
  },
  "papermill": {
   "default_parameters": {},
   "duration": 6.248288,
   "end_time": "2022-07-12T06:52:47.018427",
   "environment_variables": {},
   "exception": null,
   "input_path": "/home/host_user/workspace/mnist-demo-pipeline/mnist-demo-pipeline/notebooks/temp-notebook-z8rg4uuq.ipynb",
   "output_path": "notebooks/train-model.ipynb",
   "parameters": {
    "P": {
     "_opentelemetry_traceparent": "00-77fa89566b16837304c76483fe43a14b-696235d70c61b5c5-01",
     "pipeline.data_lake_root": "/pipeline-outputs/data-lake",
     "pipeline.github.actor": "matiasdahl",
     "pipeline.github.base_ref": "",
     "pipeline.github.event_name": "schedule",
     "pipeline.github.head_ref": "",
     "pipeline.github.job": "run-tests-pipeline-and-persist-pipeline-outputs",
     "pipeline.github.ref": "refs/heads/development",
     "pipeline.github.ref_name": "development",
     "pipeline.github.ref_type": "branch",
     "pipeline.github.repository": "pynb-dag-runner/mnist-digits-demo-pipeline",
     "pipeline.github.run_id": "2654616097",
     "pipeline.github.runner_name": "Hosted Agent",
     "pipeline.github.sha": "147a1be9916173fd4d2cd011d8d51e3411215850",
     "pipeline.github.workflow": "Run automated tests, pipeline and deploy results to static reporting site",
     "pipeline.pipeline_run_id": "aeca9ce4-c2b9-4420-af24-3b2d3c6a8a3b",
     "pipeline.run_environment": "ci",
     "run.retry_nr": "0",
     "task.max_nr_retries": "1",
     "task.notebook": "notebooks/train-model.py",
     "task.nr_train_images": 800,
     "task.num_cpus": 1,
     "task.timeout_s": "None"
    }
   },
   "start_time": "2022-07-12T06:52:40.770139",
   "version": "2.3.3"
  }
 },
 "nbformat": 4,
 "nbformat_minor": 5
}