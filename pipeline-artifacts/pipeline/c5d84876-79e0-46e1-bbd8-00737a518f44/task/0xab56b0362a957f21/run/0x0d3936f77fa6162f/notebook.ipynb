{
 "cells": [
  {
   "cell_type": "markdown",
   "id": "71473ccb",
   "metadata": {
    "papermill": {
     "duration": 0.003713,
     "end_time": "2022-07-19T06:49:10.843743",
     "exception": false,
     "start_time": "2022-07-19T06:49:10.840030",
     "status": "completed"
    },
    "tags": []
   },
   "source": [
    "# Summarize model performances\n",
    "\n",
    "This notebooks plots the performances (using averaged ROC AUC scores) for models\n",
    "trained with different training sets."
   ]
  },
  {
   "cell_type": "markdown",
   "id": "e25cb037",
   "metadata": {
    "papermill": {
     "duration": 0.002452,
     "end_time": "2022-07-19T06:49:10.848962",
     "exception": false,
     "start_time": "2022-07-19T06:49:10.846510",
     "status": "completed"
    },
    "tags": []
   },
   "source": [
    "### Determine run parameters"
   ]
  },
  {
   "cell_type": "code",
   "execution_count": 1,
   "id": "5f1c2db5",
   "metadata": {
    "execution": {
     "iopub.execute_input": "2022-07-19T06:49:10.855343Z",
     "iopub.status.busy": "2022-07-19T06:49:10.854843Z",
     "iopub.status.idle": "2022-07-19T06:49:10.862002Z",
     "shell.execute_reply": "2022-07-19T06:49:10.861272Z"
    },
    "lines_to_next_cell": 0,
    "papermill": {
     "duration": 0.012208,
     "end_time": "2022-07-19T06:49:10.863607",
     "exception": false,
     "start_time": "2022-07-19T06:49:10.851399",
     "status": "completed"
    },
    "tags": []
   },
   "outputs": [],
   "source": [
    "# ----------------- Parameters for interactive development --------------\n",
    "P = {\n",
    "    \"pipeline.run_environment\": \"dev\",\n",
    "}"
   ]
  },
  {
   "cell_type": "code",
   "execution_count": 2,
   "id": "1f37a851",
   "metadata": {
    "execution": {
     "iopub.execute_input": "2022-07-19T06:49:10.869748Z",
     "iopub.status.busy": "2022-07-19T06:49:10.869518Z",
     "iopub.status.idle": "2022-07-19T06:49:10.872636Z",
     "shell.execute_reply": "2022-07-19T06:49:10.872029Z"
    },
    "lines_to_next_cell": 0,
    "papermill": {
     "duration": 0.007694,
     "end_time": "2022-07-19T06:49:10.873993",
     "exception": false,
     "start_time": "2022-07-19T06:49:10.866299",
     "status": "completed"
    },
    "tags": [
     "parameters"
    ]
   },
   "outputs": [],
   "source": [
    "# - During automated runs parameters will be injected in the below cell -"
   ]
  },
  {
   "cell_type": "code",
   "execution_count": 3,
   "id": "4a2fd89c",
   "metadata": {
    "execution": {
     "iopub.execute_input": "2022-07-19T06:49:10.880295Z",
     "iopub.status.busy": "2022-07-19T06:49:10.879966Z",
     "iopub.status.idle": "2022-07-19T06:49:10.884793Z",
     "shell.execute_reply": "2022-07-19T06:49:10.884025Z"
    },
    "papermill": {
     "duration": 0.009875,
     "end_time": "2022-07-19T06:49:10.886187",
     "exception": false,
     "start_time": "2022-07-19T06:49:10.876312",
     "status": "completed"
    },
    "tags": [
     "injected-parameters"
    ]
   },
   "outputs": [],
   "source": [
    "# Parameters\n",
    "P = {\n",
    "    \"pipeline.data_lake_root\": \"/pipeline-outputs/data-lake\",\n",
    "    \"pipeline.run_environment\": \"ci\",\n",
    "    \"pipeline.pipeline_run_id\": \"c5d84876-79e0-46e1-bbd8-00737a518f44\",\n",
    "    \"pipeline.github.repository\": \"pynb-dag-runner/mnist-digits-demo-pipeline\",\n",
    "    \"pipeline.github.workflow\": \"Run automated tests, pipeline and deploy results to static reporting site\",\n",
    "    \"pipeline.github.runner_name\": \"Hosted Agent\",\n",
    "    \"pipeline.github.run_id\": \"2695663229\",\n",
    "    \"pipeline.github.actor\": \"matiasdahl\",\n",
    "    \"pipeline.github.job\": \"run-tests-pipeline-and-persist-pipeline-outputs\",\n",
    "    \"pipeline.github.base_ref\": \"\",\n",
    "    \"pipeline.github.head_ref\": \"\",\n",
    "    \"pipeline.github.sha\": \"147a1be9916173fd4d2cd011d8d51e3411215850\",\n",
    "    \"pipeline.github.ref\": \"refs/heads/development\",\n",
    "    \"pipeline.github.ref_type\": \"branch\",\n",
    "    \"pipeline.github.ref_name\": \"development\",\n",
    "    \"pipeline.github.event_name\": \"schedule\",\n",
    "    \"task.notebook\": \"notebooks/summary.py\",\n",
    "    \"task.max_nr_retries\": \"1\",\n",
    "    \"run.retry_nr\": \"0\",\n",
    "    \"task.timeout_s\": \"None\",\n",
    "    \"task.num_cpus\": 1,\n",
    "    \"_opentelemetry_traceparent\": \"00-dfc87442c93bc941e6465acf075e7ed4-d8cfe5f16da4ad8b-01\",\n",
    "}\n"
   ]
  },
  {
   "cell_type": "code",
   "execution_count": 4,
   "id": "0ecc9e8f",
   "metadata": {
    "execution": {
     "iopub.execute_input": "2022-07-19T06:49:10.892484Z",
     "iopub.status.busy": "2022-07-19T06:49:10.892276Z",
     "iopub.status.idle": "2022-07-19T06:49:10.894817Z",
     "shell.execute_reply": "2022-07-19T06:49:10.894243Z"
    },
    "lines_to_next_cell": 0,
    "papermill": {
     "duration": 0.007518,
     "end_time": "2022-07-19T06:49:10.896219",
     "exception": false,
     "start_time": "2022-07-19T06:49:10.888701",
     "status": "completed"
    },
    "tags": []
   },
   "outputs": [],
   "source": [
    "# -----------------------------------------------------------------------"
   ]
  },
  {
   "cell_type": "markdown",
   "id": "9171dab8",
   "metadata": {
    "papermill": {
     "duration": 0.002432,
     "end_time": "2022-07-19T06:49:10.901012",
     "exception": false,
     "start_time": "2022-07-19T06:49:10.898580",
     "status": "completed"
    },
    "tags": []
   },
   "source": [
    "---"
   ]
  },
  {
   "cell_type": "markdown",
   "id": "694b8588",
   "metadata": {
    "lines_to_next_cell": 2,
    "papermill": {
     "duration": 0.002477,
     "end_time": "2022-07-19T06:49:10.906260",
     "exception": false,
     "start_time": "2022-07-19T06:49:10.903783",
     "status": "completed"
    },
    "tags": []
   },
   "source": [
    "### Notebook code"
   ]
  },
  {
   "cell_type": "code",
   "execution_count": 5,
   "id": "d8355dbd",
   "metadata": {
    "execution": {
     "iopub.execute_input": "2022-07-19T06:49:10.912298Z",
     "iopub.status.busy": "2022-07-19T06:49:10.912009Z",
     "iopub.status.idle": "2022-07-19T06:49:11.975811Z",
     "shell.execute_reply": "2022-07-19T06:49:11.975072Z"
    },
    "papermill": {
     "duration": 1.069028,
     "end_time": "2022-07-19T06:49:11.977672",
     "exception": false,
     "start_time": "2022-07-19T06:49:10.908644",
     "status": "completed"
    },
    "tags": []
   },
   "outputs": [],
   "source": [
    "#\n",
    "import pandas as pd\n",
    "import matplotlib.pyplot as plt\n",
    "\n",
    "#\n",
    "from pynb_dag_runner.tasks.task_opentelemetry_logging import PydarLogger"
   ]
  },
  {
   "cell_type": "code",
   "execution_count": 6,
   "id": "0d16c144",
   "metadata": {
    "execution": {
     "iopub.execute_input": "2022-07-19T06:49:11.985414Z",
     "iopub.status.busy": "2022-07-19T06:49:11.984603Z",
     "iopub.status.idle": "2022-07-19T06:49:12.142470Z",
     "shell.execute_reply": "2022-07-19T06:49:12.141791Z"
    },
    "papermill": {
     "duration": 0.163264,
     "end_time": "2022-07-19T06:49:12.144238",
     "exception": false,
     "start_time": "2022-07-19T06:49:11.980974",
     "status": "completed"
    },
    "tags": []
   },
   "outputs": [
    {
     "name": "stderr",
     "output_type": "stream",
     "text": [
      "2022-07-19 06:49:11,988\tINFO worker.py:842 -- Connecting to existing Ray cluster at address: 172.17.0.2:6379\n"
     ]
    }
   ],
   "source": [
    "logger = PydarLogger(P=P)"
   ]
  },
  {
   "cell_type": "code",
   "execution_count": 7,
   "id": "1fa4dbcf",
   "metadata": {
    "execution": {
     "iopub.execute_input": "2022-07-19T06:49:12.151459Z",
     "iopub.status.busy": "2022-07-19T06:49:12.151092Z",
     "iopub.status.idle": "2022-07-19T06:49:12.154550Z",
     "shell.execute_reply": "2022-07-19T06:49:12.153918Z"
    },
    "papermill": {
     "duration": 0.009202,
     "end_time": "2022-07-19T06:49:12.156367",
     "exception": false,
     "start_time": "2022-07-19T06:49:12.147165",
     "status": "completed"
    },
    "tags": []
   },
   "outputs": [],
   "source": [
    "from pynb_dag_runner.tasks.task_opentelemetry_logging import (\n",
    "    PydarLogger,\n",
    "    get_logged_values,\n",
    ")\n",
    "from pynb_dag_runner.opentelemetry_helpers import _get_all_spans, Spans"
   ]
  },
  {
   "cell_type": "code",
   "execution_count": 8,
   "id": "aca8f545",
   "metadata": {
    "execution": {
     "iopub.execute_input": "2022-07-19T06:49:12.164564Z",
     "iopub.status.busy": "2022-07-19T06:49:12.164287Z",
     "iopub.status.idle": "2022-07-19T06:49:12.172770Z",
     "shell.execute_reply": "2022-07-19T06:49:12.172081Z"
    },
    "papermill": {
     "duration": 0.013708,
     "end_time": "2022-07-19T06:49:12.174344",
     "exception": false,
     "start_time": "2022-07-19T06:49:12.160636",
     "status": "completed"
    },
    "tags": []
   },
   "outputs": [],
   "source": [
    "def get_model_benchmarks():\n",
    "    \"\"\"\n",
    "    Query the OpenTelemetry logs for *this pipeline run* and return\n",
    "    all key-values logged from all runs of the benchmark-model.py task\n",
    "\n",
    "    For testing a json file with OpenTelemetry spans (as an array)\n",
    "    can be used as follows:\n",
    "\n",
    "    - Create output directory `mkdir /tmp/spans`\n",
    "    - Run unit tests. This will create pipeline-outputs/opentelemetry-spans.json\n",
    "    - Convert this json-array into jsonl format as follows\n",
    "\n",
    "    jq -c '.[]' /pipeline-outputs/opentelemetry-spans.json > /tmp/spans/data.txt\n",
    "\n",
    "    \"\"\"\n",
    "    spans: Spans = Spans(_get_all_spans())\n",
    "    print(f\"Found {len(spans)} spans\")\n",
    "\n",
    "    benchmark_spans = (\n",
    "        spans\n",
    "        # -\n",
    "        .filter([\"name\"], \"execute-task\")\n",
    "        # -\n",
    "        .filter([\"attributes\", \"task.notebook\"], \"notebooks/benchmark-model.py\")\n",
    "    )\n",
    "\n",
    "    result = []\n",
    "    for s in benchmark_spans:\n",
    "        result.append(\n",
    "            {\n",
    "                \"span_id\": s[\"context\"][\"span_id\"],\n",
    "                \"nr_train_images\": s[\"attributes\"][\"task.nr_train_images\"],\n",
    "                \"data\": get_logged_values(spans.bound_under(s)),\n",
    "            }\n",
    "        )\n",
    "\n",
    "    return result\n",
    "\n",
    "\n",
    "def adjust_pandas(df):\n",
    "    def column_renamer(col_name: str) -> str:\n",
    "        return (\n",
    "            col_name\n",
    "            # -- 'data.roc_auc_per_digit.4' -> 'roc_auc.4'\n",
    "            .replace(\"data.roc_auc_per_digit\", \"roc_auc\")\n",
    "            # -- 'data.roc_auc_class_mean' -> 'roc_auc_mean'\n",
    "            .replace(\"data.roc_auc_class_mean\", \"roc_auc_mean\")\n",
    "        )\n",
    "\n",
    "    return df.rename(column_renamer, axis=\"columns\").sort_values(by=\"nr_train_images\")"
   ]
  },
  {
   "cell_type": "code",
   "execution_count": 9,
   "id": "681332e8",
   "metadata": {
    "execution": {
     "iopub.execute_input": "2022-07-19T06:49:12.181348Z",
     "iopub.status.busy": "2022-07-19T06:49:12.180872Z",
     "iopub.status.idle": "2022-07-19T06:49:31.787452Z",
     "shell.execute_reply": "2022-07-19T06:49:31.786772Z"
    },
    "papermill": {
     "duration": 19.612459,
     "end_time": "2022-07-19T06:49:31.789474",
     "exception": false,
     "start_time": "2022-07-19T06:49:12.177015",
     "status": "completed"
    },
    "tags": []
   },
   "outputs": [
    {
     "name": "stdout",
     "output_type": "stream",
     "text": [
      "Found 423 spans\n"
     ]
    }
   ],
   "source": [
    "df_data = adjust_pandas(pd.json_normalize(get_model_benchmarks()))"
   ]
  },
  {
   "cell_type": "code",
   "execution_count": 10,
   "id": "815b73cd",
   "metadata": {
    "execution": {
     "iopub.execute_input": "2022-07-19T06:49:31.797144Z",
     "iopub.status.busy": "2022-07-19T06:49:31.796914Z",
     "iopub.status.idle": "2022-07-19T06:49:31.821618Z",
     "shell.execute_reply": "2022-07-19T06:49:31.820831Z"
    },
    "papermill": {
     "duration": 0.030497,
     "end_time": "2022-07-19T06:49:31.823511",
     "exception": false,
     "start_time": "2022-07-19T06:49:31.793014",
     "status": "completed"
    },
    "tags": []
   },
   "outputs": [
    {
     "data": {
      "text/html": [
       "<div>\n",
       "<style scoped>\n",
       "    .dataframe tbody tr th:only-of-type {\n",
       "        vertical-align: middle;\n",
       "    }\n",
       "\n",
       "    .dataframe tbody tr th {\n",
       "        vertical-align: top;\n",
       "    }\n",
       "\n",
       "    .dataframe thead th {\n",
       "        text-align: right;\n",
       "    }\n",
       "</style>\n",
       "<table border=\"1\" class=\"dataframe\">\n",
       "  <thead>\n",
       "    <tr style=\"text-align: right;\">\n",
       "      <th></th>\n",
       "      <th>span_id</th>\n",
       "      <th>nr_train_images</th>\n",
       "      <th>roc_auc_mean</th>\n",
       "      <th>roc_auc.0</th>\n",
       "      <th>roc_auc.1</th>\n",
       "      <th>roc_auc.2</th>\n",
       "      <th>roc_auc.3</th>\n",
       "      <th>roc_auc.4</th>\n",
       "      <th>roc_auc.5</th>\n",
       "      <th>roc_auc.6</th>\n",
       "      <th>roc_auc.7</th>\n",
       "      <th>roc_auc.8</th>\n",
       "      <th>roc_auc.9</th>\n",
       "    </tr>\n",
       "  </thead>\n",
       "  <tbody>\n",
       "    <tr>\n",
       "      <th>3</th>\n",
       "      <td>0x10ae81bef05a5a72</td>\n",
       "      <td>600</td>\n",
       "      <td>0.9990</td>\n",
       "      <td>1.0</td>\n",
       "      <td>0.9991</td>\n",
       "      <td>1.0</td>\n",
       "      <td>0.9998</td>\n",
       "      <td>0.9992</td>\n",
       "      <td>0.9990</td>\n",
       "      <td>0.9999</td>\n",
       "      <td>0.9998</td>\n",
       "      <td>0.9943</td>\n",
       "      <td>0.9988</td>\n",
       "    </tr>\n",
       "    <tr>\n",
       "      <th>2</th>\n",
       "      <td>0x76146fd52547a9dd</td>\n",
       "      <td>800</td>\n",
       "      <td>0.9990</td>\n",
       "      <td>1.0</td>\n",
       "      <td>0.9987</td>\n",
       "      <td>1.0</td>\n",
       "      <td>0.9998</td>\n",
       "      <td>0.9995</td>\n",
       "      <td>0.9991</td>\n",
       "      <td>1.0000</td>\n",
       "      <td>0.9999</td>\n",
       "      <td>0.9936</td>\n",
       "      <td>0.9994</td>\n",
       "    </tr>\n",
       "    <tr>\n",
       "      <th>1</th>\n",
       "      <td>0x10e0e7b7ea78dcb6</td>\n",
       "      <td>1000</td>\n",
       "      <td>0.9992</td>\n",
       "      <td>1.0</td>\n",
       "      <td>0.9989</td>\n",
       "      <td>1.0</td>\n",
       "      <td>0.9998</td>\n",
       "      <td>0.9996</td>\n",
       "      <td>0.9994</td>\n",
       "      <td>0.9999</td>\n",
       "      <td>0.9998</td>\n",
       "      <td>0.9946</td>\n",
       "      <td>0.9995</td>\n",
       "    </tr>\n",
       "    <tr>\n",
       "      <th>0</th>\n",
       "      <td>0x76b9ed4d809dcc5a</td>\n",
       "      <td>1200</td>\n",
       "      <td>0.9994</td>\n",
       "      <td>1.0</td>\n",
       "      <td>0.9990</td>\n",
       "      <td>1.0</td>\n",
       "      <td>0.9999</td>\n",
       "      <td>0.9997</td>\n",
       "      <td>0.9997</td>\n",
       "      <td>0.9999</td>\n",
       "      <td>0.9998</td>\n",
       "      <td>0.9957</td>\n",
       "      <td>0.9998</td>\n",
       "    </tr>\n",
       "  </tbody>\n",
       "</table>\n",
       "</div>"
      ],
      "text/plain": [
       "              span_id  nr_train_images  roc_auc_mean  roc_auc.0  roc_auc.1  \\\n",
       "3  0x10ae81bef05a5a72              600        0.9990        1.0     0.9991   \n",
       "2  0x76146fd52547a9dd              800        0.9990        1.0     0.9987   \n",
       "1  0x10e0e7b7ea78dcb6             1000        0.9992        1.0     0.9989   \n",
       "0  0x76b9ed4d809dcc5a             1200        0.9994        1.0     0.9990   \n",
       "\n",
       "   roc_auc.2  roc_auc.3  roc_auc.4  roc_auc.5  roc_auc.6  roc_auc.7  \\\n",
       "3        1.0     0.9998     0.9992     0.9990     0.9999     0.9998   \n",
       "2        1.0     0.9998     0.9995     0.9991     1.0000     0.9999   \n",
       "1        1.0     0.9998     0.9996     0.9994     0.9999     0.9998   \n",
       "0        1.0     0.9999     0.9997     0.9997     0.9999     0.9998   \n",
       "\n",
       "   roc_auc.8  roc_auc.9  \n",
       "3     0.9943     0.9988  \n",
       "2     0.9936     0.9994  \n",
       "1     0.9946     0.9995  \n",
       "0     0.9957     0.9998  "
      ]
     },
     "execution_count": 10,
     "metadata": {},
     "output_type": "execute_result"
    }
   ],
   "source": [
    "df_data.round(4)"
   ]
  },
  {
   "cell_type": "code",
   "execution_count": 11,
   "id": "c4956a76",
   "metadata": {
    "execution": {
     "iopub.execute_input": "2022-07-19T06:49:31.831240Z",
     "iopub.status.busy": "2022-07-19T06:49:31.830700Z",
     "iopub.status.idle": "2022-07-19T06:49:31.985707Z",
     "shell.execute_reply": "2022-07-19T06:49:31.984611Z"
    },
    "papermill": {
     "duration": 0.16064,
     "end_time": "2022-07-19T06:49:31.987438",
     "exception": false,
     "start_time": "2022-07-19T06:49:31.826798",
     "status": "completed"
    },
    "tags": []
   },
   "outputs": [
    {
     "data": {
      "image/png": "[encoded data removed]",
      "text/plain": [
       "<Figure size 1152x288 with 1 Axes>"
      ]
     },
     "metadata": {
      "needs_background": "light"
     },
     "output_type": "display_data"
    }
   ],
   "source": [
    "def plot_classifier_performance_summary(df_data):\n",
    "    fig, ax = plt.subplots(nrows=1, ncols=1, figsize=(16, 4), sharex=True)\n",
    "\n",
    "    #\n",
    "    ax.plot(\n",
    "        df_data[\"nr_train_images\"], df_data[\"roc_auc_mean\"], marker=\"o\", linestyle=\"--\"\n",
    "    )\n",
    "    ax.set_title(\n",
    "        f\"ROC AUC digit classifier performance on evaluation digits\", fontsize=17\n",
    "    )\n",
    "    ax.set_xlabel(\"Total number of digits in training set\", fontsize=14)\n",
    "    ax.set_ylabel(\"Mean ROC AUC\", fontsize=14)\n",
    "\n",
    "    fig.tight_layout()\n",
    "    fig.show()\n",
    "\n",
    "    return fig\n",
    "\n",
    "\n",
    "fig = plot_classifier_performance_summary(df_data)"
   ]
  },
  {
   "cell_type": "code",
   "execution_count": 12,
   "id": "cb842b30",
   "metadata": {
    "execution": {
     "iopub.execute_input": "2022-07-19T06:49:31.996690Z",
     "iopub.status.busy": "2022-07-19T06:49:31.996318Z",
     "iopub.status.idle": "2022-07-19T06:49:32.050638Z",
     "shell.execute_reply": "2022-07-19T06:49:32.050019Z"
    },
    "papermill": {
     "duration": 0.060493,
     "end_time": "2022-07-19T06:49:32.052136",
     "exception": false,
     "start_time": "2022-07-19T06:49:31.991643",
     "status": "completed"
    },
    "tags": []
   },
   "outputs": [],
   "source": [
    "logger.log_figure(\"auc-roc-model-performances.png\", fig)"
   ]
  },
  {
   "cell_type": "code",
   "execution_count": 13,
   "id": "d9d03c3c",
   "metadata": {
    "execution": {
     "iopub.execute_input": "2022-07-19T06:49:32.061102Z",
     "iopub.status.busy": "2022-07-19T06:49:32.060444Z",
     "iopub.status.idle": "2022-07-19T06:49:32.063718Z",
     "shell.execute_reply": "2022-07-19T06:49:32.062923Z"
    },
    "papermill": {
     "duration": 0.009481,
     "end_time": "2022-07-19T06:49:32.065357",
     "exception": false,
     "start_time": "2022-07-19T06:49:32.055876",
     "status": "completed"
    },
    "tags": []
   },
   "outputs": [],
   "source": [
    "###"
   ]
  },
  {
   "cell_type": "code",
   "execution_count": null,
   "id": "1b206768",
   "metadata": {
    "papermill": {
     "duration": 0.003727,
     "end_time": "2022-07-19T06:49:32.072825",
     "exception": false,
     "start_time": "2022-07-19T06:49:32.069098",
     "status": "completed"
    },
    "tags": []
   },
   "outputs": [],
   "source": []
  }
 ],
 "metadata": {
  "jupytext": {
   "cell_metadata_filter": "tags,-all",
   "main_language": "python",
   "notebook_metadata_filter": "-all"
  },
  "language_info": {
   "codemirror_mode": {
    "name": "ipython",
    "version": 3
   },
   "file_extension": ".py",
   "mimetype": "text/x-python",
   "name": "python",
   "nbconvert_exporter": "python",
   "pygments_lexer": "ipython3",
   "version": "3.8.10"
  },
  "papermill": {
   "default_parameters": {},
   "duration": 23.329947,
   "end_time": "2022-07-19T06:49:33.001349",
   "environment_variables": {},
   "exception": null,
   "input_path": "/home/host_user/workspace/mnist-demo-pipeline/mnist-demo-pipeline/notebooks/temp-notebook-38ede07o.ipynb",
   "output_path": "notebooks/summary.ipynb",
   "parameters": {
    "P": {
     "_opentelemetry_traceparent": "00-dfc87442c93bc941e6465acf075e7ed4-d8cfe5f16da4ad8b-01",
     "pipeline.data_lake_root": "/pipeline-outputs/data-lake",
     "pipeline.github.actor": "matiasdahl",
     "pipeline.github.base_ref": "",
     "pipeline.github.event_name": "schedule",
     "pipeline.github.head_ref": "",
     "pipeline.github.job": "run-tests-pipeline-and-persist-pipeline-outputs",
     "pipeline.github.ref": "refs/heads/development",
     "pipeline.github.ref_name": "development",
     "pipeline.github.ref_type": "branch",
     "pipeline.github.repository": "pynb-dag-runner/mnist-digits-demo-pipeline",
     "pipeline.github.run_id": "2695663229",
     "pipeline.github.runner_name": "Hosted Agent",
     "pipeline.github.sha": "147a1be9916173fd4d2cd011d8d51e3411215850",
     "pipeline.github.workflow": "Run automated tests, pipeline and deploy results to static reporting site",
     "pipeline.pipeline_run_id": "c5d84876-79e0-46e1-bbd8-00737a518f44",
     "pipeline.run_environment": "ci",
     "run.retry_nr": "0",
     "task.max_nr_retries": "1",
     "task.notebook": "notebooks/summary.py",
     "task.num_cpus": 1,
     "task.timeout_s": "None"
    }
   },
   "start_time": "2022-07-19T06:49:09.671402",
   "version": "2.3.3"
  }
 },
 "nbformat": 4,
 "nbformat_minor": 5
}