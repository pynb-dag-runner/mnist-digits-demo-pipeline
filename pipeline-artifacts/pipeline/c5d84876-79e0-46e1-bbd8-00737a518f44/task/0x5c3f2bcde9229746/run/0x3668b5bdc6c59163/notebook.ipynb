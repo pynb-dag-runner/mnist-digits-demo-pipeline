{
 "cells": [
  {
   "cell_type": "markdown",
   "id": "01de8558",
   "metadata": {
    "papermill": {
     "duration": 0.003416,
     "end_time": "2022-07-19T06:48:24.301610",
     "exception": false,
     "start_time": "2022-07-19T06:48:24.298194",
     "status": "completed"
    },
    "tags": []
   },
   "source": [
    "# Ingest toy version of MNIST digit data from sklearn"
   ]
  },
  {
   "cell_type": "markdown",
   "id": "a927beb6",
   "metadata": {
    "papermill": {
     "duration": 0.002337,
     "end_time": "2022-07-19T06:48:24.307357",
     "exception": false,
     "start_time": "2022-07-19T06:48:24.305020",
     "status": "completed"
    },
    "tags": []
   },
   "source": [
    "### Determine run parameters"
   ]
  },
  {
   "cell_type": "code",
   "execution_count": 1,
   "id": "9a18e0ce",
   "metadata": {
    "execution": {
     "iopub.execute_input": "2022-07-19T06:48:24.313844Z",
     "iopub.status.busy": "2022-07-19T06:48:24.313368Z",
     "iopub.status.idle": "2022-07-19T06:48:24.320972Z",
     "shell.execute_reply": "2022-07-19T06:48:24.320367Z"
    },
    "lines_to_next_cell": 0,
    "papermill": {
     "duration": 0.013407,
     "end_time": "2022-07-19T06:48:24.322888",
     "exception": false,
     "start_time": "2022-07-19T06:48:24.309481",
     "status": "completed"
    },
    "tags": []
   },
   "outputs": [],
   "source": [
    "# ----------------- Parameters for interactive development --------------\n",
    "P = {\n",
    "    \"pipeline.run_environment\": \"dev\",\n",
    "    \"pipeline.data_lake_root\": \"/pipeline-outputs/data-lake\",\n",
    "    \"run.retry_nr\": \"1\",\n",
    "}"
   ]
  },
  {
   "cell_type": "code",
   "execution_count": 2,
   "id": "6907af06",
   "metadata": {
    "execution": {
     "iopub.execute_input": "2022-07-19T06:48:24.329197Z",
     "iopub.status.busy": "2022-07-19T06:48:24.328553Z",
     "iopub.status.idle": "2022-07-19T06:48:24.331826Z",
     "shell.execute_reply": "2022-07-19T06:48:24.331248Z"
    },
    "lines_to_next_cell": 0,
    "papermill": {
     "duration": 0.008366,
     "end_time": "2022-07-19T06:48:24.333627",
     "exception": false,
     "start_time": "2022-07-19T06:48:24.325261",
     "status": "completed"
    },
    "tags": [
     "parameters"
    ]
   },
   "outputs": [],
   "source": [
    "# - During automated runs parameters will be injected in the below cell -"
   ]
  },
  {
   "cell_type": "code",
   "execution_count": 3,
   "id": "08b34dd6",
   "metadata": {
    "execution": {
     "iopub.execute_input": "2022-07-19T06:48:24.339303Z",
     "iopub.status.busy": "2022-07-19T06:48:24.338977Z",
     "iopub.status.idle": "2022-07-19T06:48:24.343849Z",
     "shell.execute_reply": "2022-07-19T06:48:24.343188Z"
    },
    "papermill": {
     "duration": 0.009327,
     "end_time": "2022-07-19T06:48:24.345212",
     "exception": false,
     "start_time": "2022-07-19T06:48:24.335885",
     "status": "completed"
    },
    "tags": [
     "injected-parameters"
    ]
   },
   "outputs": [],
   "source": [
    "# Parameters\n",
    "P = {\n",
    "    \"pipeline.data_lake_root\": \"/pipeline-outputs/data-lake\",\n",
    "    \"pipeline.run_environment\": \"ci\",\n",
    "    \"pipeline.pipeline_run_id\": \"c5d84876-79e0-46e1-bbd8-00737a518f44\",\n",
    "    \"pipeline.github.repository\": \"pynb-dag-runner/mnist-digits-demo-pipeline\",\n",
    "    \"pipeline.github.workflow\": \"Run automated tests, pipeline and deploy results to static reporting site\",\n",
    "    \"pipeline.github.runner_name\": \"Hosted Agent\",\n",
    "    \"pipeline.github.run_id\": \"2695663229\",\n",
    "    \"pipeline.github.actor\": \"matiasdahl\",\n",
    "    \"pipeline.github.job\": \"run-tests-pipeline-and-persist-pipeline-outputs\",\n",
    "    \"pipeline.github.base_ref\": \"\",\n",
    "    \"pipeline.github.head_ref\": \"\",\n",
    "    \"pipeline.github.sha\": \"147a1be9916173fd4d2cd011d8d51e3411215850\",\n",
    "    \"pipeline.github.ref\": \"refs/heads/development\",\n",
    "    \"pipeline.github.ref_type\": \"branch\",\n",
    "    \"pipeline.github.ref_name\": \"development\",\n",
    "    \"pipeline.github.event_name\": \"schedule\",\n",
    "    \"task.notebook\": \"notebooks/ingest.py\",\n",
    "    \"task.max_nr_retries\": \"15\",\n",
    "    \"run.retry_nr\": \"10\",\n",
    "    \"task.timeout_s\": \"10\",\n",
    "    \"task.num_cpus\": 1,\n",
    "    \"_opentelemetry_traceparent\": \"00-dfc87442c93bc941e6465acf075e7ed4-89049b8756d5147b-01\",\n",
    "}\n"
   ]
  },
  {
   "cell_type": "code",
   "execution_count": 4,
   "id": "46bf2675",
   "metadata": {
    "execution": {
     "iopub.execute_input": "2022-07-19T06:48:24.350804Z",
     "iopub.status.busy": "2022-07-19T06:48:24.350597Z",
     "iopub.status.idle": "2022-07-19T06:48:24.353813Z",
     "shell.execute_reply": "2022-07-19T06:48:24.352640Z"
    },
    "lines_to_next_cell": 0,
    "papermill": {
     "duration": 0.007798,
     "end_time": "2022-07-19T06:48:24.355317",
     "exception": false,
     "start_time": "2022-07-19T06:48:24.347519",
     "status": "completed"
    },
    "tags": []
   },
   "outputs": [],
   "source": [
    "# -----------------------------------------------------------------------"
   ]
  },
  {
   "cell_type": "markdown",
   "id": "0813ce40",
   "metadata": {
    "lines_to_next_cell": 2,
    "papermill": {
     "duration": 0.002262,
     "end_time": "2022-07-19T06:48:24.360056",
     "exception": false,
     "start_time": "2022-07-19T06:48:24.357794",
     "status": "completed"
    },
    "tags": []
   },
   "source": [
    "---"
   ]
  },
  {
   "cell_type": "markdown",
   "id": "de81ef66",
   "metadata": {
    "papermill": {
     "duration": 0.002573,
     "end_time": "2022-07-19T06:48:24.364799",
     "exception": false,
     "start_time": "2022-07-19T06:48:24.362226",
     "status": "completed"
    },
    "tags": []
   },
   "source": [
    "### Simulate different types of failures (for testing timeout and retry logic)"
   ]
  },
  {
   "cell_type": "code",
   "execution_count": 5,
   "id": "74084103",
   "metadata": {
    "execution": {
     "iopub.execute_input": "2022-07-19T06:48:24.371095Z",
     "iopub.status.busy": "2022-07-19T06:48:24.370453Z",
     "iopub.status.idle": "2022-07-19T06:48:24.800873Z",
     "shell.execute_reply": "2022-07-19T06:48:24.799910Z"
    },
    "papermill": {
     "duration": 0.435533,
     "end_time": "2022-07-19T06:48:24.802625",
     "exception": false,
     "start_time": "2022-07-19T06:48:24.367092",
     "status": "completed"
    },
    "tags": []
   },
   "outputs": [
    {
     "name": "stderr",
     "output_type": "stream",
     "text": [
      "2022-07-19 06:48:24,654\tINFO worker.py:842 -- Connecting to existing Ray cluster at address: 172.17.0.2:6379\n"
     ]
    }
   ],
   "source": [
    "from pynb_dag_runner.tasks.task_opentelemetry_logging import PydarLogger\n",
    "\n",
    "logger = PydarLogger(P)"
   ]
  },
  {
   "cell_type": "code",
   "execution_count": 6,
   "id": "e0ffd298",
   "metadata": {
    "execution": {
     "iopub.execute_input": "2022-07-19T06:48:24.809501Z",
     "iopub.status.busy": "2022-07-19T06:48:24.808813Z",
     "iopub.status.idle": "2022-07-19T06:48:24.814845Z",
     "shell.execute_reply": "2022-07-19T06:48:24.814294Z"
    },
    "papermill": {
     "duration": 0.011331,
     "end_time": "2022-07-19T06:48:24.816684",
     "exception": false,
     "start_time": "2022-07-19T06:48:24.805353",
     "status": "completed"
    },
    "tags": []
   },
   "outputs": [],
   "source": [
    "import time, random\n",
    "\n",
    "\n",
    "def maybe_crash(retry_nr: int, run_environment: str):\n",
    "    if retry_nr == 2 and run_environment == \"ci\":\n",
    "        time.sleep(1e6)\n",
    "\n",
    "    max_retry_nr: int = 3 if run_environment == \"dev\" else 10\n",
    "\n",
    "    if retry_nr < max_retry_nr:\n",
    "        if random.random() < 0.1:\n",
    "            time.sleep(1e6)\n",
    "        else:\n",
    "            raise Exception(\"Simulated exception failure from ingestion step notebook!\")\n",
    "\n",
    "\n",
    "maybe_crash(\n",
    "    retry_nr=int(P[\"run.retry_nr\"]), run_environment=P[\"pipeline.run_environment\"]\n",
    ")"
   ]
  },
  {
   "cell_type": "markdown",
   "id": "e450efbb",
   "metadata": {
    "lines_to_next_cell": 2,
    "papermill": {
     "duration": 0.002788,
     "end_time": "2022-07-19T06:48:24.821877",
     "exception": false,
     "start_time": "2022-07-19T06:48:24.819089",
     "status": "completed"
    },
    "tags": []
   },
   "source": [
    "### Notebook code"
   ]
  },
  {
   "cell_type": "code",
   "execution_count": 7,
   "id": "63cc4aec",
   "metadata": {
    "execution": {
     "iopub.execute_input": "2022-07-19T06:48:24.827854Z",
     "iopub.status.busy": "2022-07-19T06:48:24.827329Z",
     "iopub.status.idle": "2022-07-19T06:48:25.998652Z",
     "shell.execute_reply": "2022-07-19T06:48:25.997993Z"
    },
    "papermill": {
     "duration": 1.17624,
     "end_time": "2022-07-19T06:48:26.000416",
     "exception": false,
     "start_time": "2022-07-19T06:48:24.824176",
     "status": "completed"
    },
    "tags": []
   },
   "outputs": [],
   "source": [
    "from sklearn import datasets\n",
    "\n",
    "#\n",
    "from common.io import datalake_root, write_numpy"
   ]
  },
  {
   "cell_type": "code",
   "execution_count": 8,
   "id": "6d954a3e",
   "metadata": {
    "execution": {
     "iopub.execute_input": "2022-07-19T06:48:26.007739Z",
     "iopub.status.busy": "2022-07-19T06:48:26.007278Z",
     "iopub.status.idle": "2022-07-19T06:48:26.022048Z",
     "shell.execute_reply": "2022-07-19T06:48:26.021441Z"
    },
    "lines_to_next_cell": 2,
    "papermill": {
     "duration": 0.020828,
     "end_time": "2022-07-19T06:48:26.024090",
     "exception": false,
     "start_time": "2022-07-19T06:48:26.003262",
     "status": "completed"
    },
    "tags": []
   },
   "outputs": [],
   "source": [
    "digits = datasets.load_digits()\n",
    "\n",
    "X = digits[\"data\"]\n",
    "y = digits[\"target\"]"
   ]
  },
  {
   "cell_type": "code",
   "execution_count": 9,
   "id": "b70245f6",
   "metadata": {
    "execution": {
     "iopub.execute_input": "2022-07-19T06:48:26.030359Z",
     "iopub.status.busy": "2022-07-19T06:48:26.030133Z",
     "iopub.status.idle": "2022-07-19T06:48:26.042831Z",
     "shell.execute_reply": "2022-07-19T06:48:26.042192Z"
    },
    "papermill": {
     "duration": 0.018232,
     "end_time": "2022-07-19T06:48:26.044910",
     "exception": false,
     "start_time": "2022-07-19T06:48:26.026678",
     "status": "completed"
    },
    "tags": []
   },
   "outputs": [
    {
     "name": "stdout",
     "output_type": "stream",
     "text": [
      " - Logging data_shape (json) : [1797, 64]\n",
      " - Logging target_shape (json) : [1797]\n"
     ]
    },
    {
     "data": {
      "text/plain": [
       "((1797, 64), (1797,))"
      ]
     },
     "execution_count": 9,
     "metadata": {},
     "output_type": "execute_result"
    }
   ],
   "source": [
    "logger.log_value(\"data_shape\", list(X.shape))\n",
    "logger.log_value(\"target_shape\", list(y.shape))\n",
    "\n",
    "X.shape, y.shape"
   ]
  },
  {
   "cell_type": "code",
   "execution_count": 10,
   "id": "51ff2693",
   "metadata": {
    "execution": {
     "iopub.execute_input": "2022-07-19T06:48:26.052258Z",
     "iopub.status.busy": "2022-07-19T06:48:26.051919Z",
     "iopub.status.idle": "2022-07-19T06:48:26.060641Z",
     "shell.execute_reply": "2022-07-19T06:48:26.060093Z"
    },
    "papermill": {
     "duration": 0.014695,
     "end_time": "2022-07-19T06:48:26.062212",
     "exception": false,
     "start_time": "2022-07-19T06:48:26.047517",
     "status": "completed"
    },
    "tags": []
   },
   "outputs": [],
   "source": [
    "write_numpy(datalake_root(P) / \"raw\" / \"digits.numpy\", X)\n",
    "write_numpy(datalake_root(P) / \"raw\" / \"labels.numpy\", y)"
   ]
  },
  {
   "cell_type": "code",
   "execution_count": null,
   "id": "405a3d10",
   "metadata": {
    "papermill": {
     "duration": 0.002595,
     "end_time": "2022-07-19T06:48:26.067607",
     "exception": false,
     "start_time": "2022-07-19T06:48:26.065012",
     "status": "completed"
    },
    "tags": []
   },
   "outputs": [],
   "source": []
  }
 ],
 "metadata": {
  "jupytext": {
   "cell_metadata_filter": "tags,-all",
   "main_language": "python",
   "notebook_metadata_filter": "-all"
  },
  "language_info": {
   "codemirror_mode": {
    "name": "ipython",
    "version": 3
   },
   "file_extension": ".py",
   "mimetype": "text/x-python",
   "name": "python",
   "nbconvert_exporter": "python",
   "pygments_lexer": "ipython3",
   "version": "3.8.10"
  },
  "papermill": {
   "default_parameters": {},
   "duration": 3.846423,
   "end_time": "2022-07-19T06:48:26.988147",
   "environment_variables": {},
   "exception": null,
   "input_path": "/home/host_user/workspace/mnist-demo-pipeline/mnist-demo-pipeline/notebooks/temp-notebook-riukrc97.ipynb",
   "output_path": "notebooks/ingest.ipynb",
   "parameters": {
    "P": {
     "_opentelemetry_traceparent": "00-dfc87442c93bc941e6465acf075e7ed4-89049b8756d5147b-01",
     "pipeline.data_lake_root": "/pipeline-outputs/data-lake",
     "pipeline.github.actor": "matiasdahl",
     "pipeline.github.base_ref": "",
     "pipeline.github.event_name": "schedule",
     "pipeline.github.head_ref": "",
     "pipeline.github.job": "run-tests-pipeline-and-persist-pipeline-outputs",
     "pipeline.github.ref": "refs/heads/development",
     "pipeline.github.ref_name": "development",
     "pipeline.github.ref_type": "branch",
     "pipeline.github.repository": "pynb-dag-runner/mnist-digits-demo-pipeline",
     "pipeline.github.run_id": "2695663229",
     "pipeline.github.runner_name": "Hosted Agent",
     "pipeline.github.sha": "147a1be9916173fd4d2cd011d8d51e3411215850",
     "pipeline.github.workflow": "Run automated tests, pipeline and deploy results to static reporting site",
     "pipeline.pipeline_run_id": "c5d84876-79e0-46e1-bbd8-00737a518f44",
     "pipeline.run_environment": "ci",
     "run.retry_nr": "10",
     "task.max_nr_retries": "15",
     "task.notebook": "notebooks/ingest.py",
     "task.num_cpus": 1,
     "task.timeout_s": "10"
    }
   },
   "start_time": "2022-07-19T06:48:23.141724",
   "version": "2.3.3"
  }
 },
 "nbformat": 4,
 "nbformat_minor": 5
}