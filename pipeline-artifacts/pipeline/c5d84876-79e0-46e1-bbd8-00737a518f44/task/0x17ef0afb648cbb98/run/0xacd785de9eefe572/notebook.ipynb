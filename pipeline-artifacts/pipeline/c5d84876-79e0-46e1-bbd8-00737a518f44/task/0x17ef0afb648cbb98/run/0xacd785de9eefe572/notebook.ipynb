{
 "cells": [
  {
   "cell_type": "markdown",
   "id": "c9b66664",
   "metadata": {
    "papermill": {
     "duration": 0.005386,
     "end_time": "2022-07-19T06:48:34.648359",
     "exception": false,
     "start_time": "2022-07-19T06:48:34.642973",
     "status": "completed"
    },
    "tags": []
   },
   "source": [
    "# Train model\n",
    "\n",
    "The purpose of this notebook is:\n",
    "\n",
    "- Load all training data (images and labels).\n",
    "- Limit number of train images to `task.nr_train_images` (value provided as run parameter).\n",
    "- Train a support vector machine model using sklearn.\n",
    "- Persist the trained model using the ONNX format."
   ]
  },
  {
   "cell_type": "markdown",
   "id": "5134c92d",
   "metadata": {
    "papermill": {
     "duration": 0.002829,
     "end_time": "2022-07-19T06:48:34.654370",
     "exception": false,
     "start_time": "2022-07-19T06:48:34.651541",
     "status": "completed"
    },
    "tags": []
   },
   "source": [
    "### Determine run parameters"
   ]
  },
  {
   "cell_type": "code",
   "execution_count": 1,
   "id": "4a280d5c",
   "metadata": {
    "execution": {
     "iopub.execute_input": "2022-07-19T06:48:34.662712Z",
     "iopub.status.busy": "2022-07-19T06:48:34.662386Z",
     "iopub.status.idle": "2022-07-19T06:48:34.672493Z",
     "shell.execute_reply": "2022-07-19T06:48:34.671900Z"
    },
    "lines_to_next_cell": 0,
    "papermill": {
     "duration": 0.016692,
     "end_time": "2022-07-19T06:48:34.674125",
     "exception": false,
     "start_time": "2022-07-19T06:48:34.657433",
     "status": "completed"
    },
    "tags": []
   },
   "outputs": [],
   "source": [
    "# ----------------- Parameters for interactive development --------------\n",
    "P = {\n",
    "    \"pipeline.data_lake_root\": \"/pipeline-outputs/data-lake\",\n",
    "    \"task.nr_train_images\": 600,\n",
    "}"
   ]
  },
  {
   "cell_type": "code",
   "execution_count": 2,
   "id": "88480881",
   "metadata": {
    "execution": {
     "iopub.execute_input": "2022-07-19T06:48:34.681629Z",
     "iopub.status.busy": "2022-07-19T06:48:34.681426Z",
     "iopub.status.idle": "2022-07-19T06:48:34.684225Z",
     "shell.execute_reply": "2022-07-19T06:48:34.683718Z"
    },
    "lines_to_next_cell": 0,
    "papermill": {
     "duration": 0.00948,
     "end_time": "2022-07-19T06:48:34.686380",
     "exception": false,
     "start_time": "2022-07-19T06:48:34.676900",
     "status": "completed"
    },
    "tags": [
     "parameters"
    ]
   },
   "outputs": [],
   "source": [
    "# - During automated runs parameters will be injected in the below cell -"
   ]
  },
  {
   "cell_type": "code",
   "execution_count": 3,
   "id": "432fcbfd",
   "metadata": {
    "execution": {
     "iopub.execute_input": "2022-07-19T06:48:34.693835Z",
     "iopub.status.busy": "2022-07-19T06:48:34.693620Z",
     "iopub.status.idle": "2022-07-19T06:48:34.698680Z",
     "shell.execute_reply": "2022-07-19T06:48:34.697543Z"
    },
    "papermill": {
     "duration": 0.011159,
     "end_time": "2022-07-19T06:48:34.701149",
     "exception": false,
     "start_time": "2022-07-19T06:48:34.689990",
     "status": "completed"
    },
    "tags": [
     "injected-parameters"
    ]
   },
   "outputs": [],
   "source": [
    "# Parameters\n",
    "P = {\n",
    "    \"pipeline.data_lake_root\": \"/pipeline-outputs/data-lake\",\n",
    "    \"pipeline.run_environment\": \"ci\",\n",
    "    \"pipeline.pipeline_run_id\": \"c5d84876-79e0-46e1-bbd8-00737a518f44\",\n",
    "    \"pipeline.github.repository\": \"pynb-dag-runner/mnist-digits-demo-pipeline\",\n",
    "    \"pipeline.github.workflow\": \"Run automated tests, pipeline and deploy results to static reporting site\",\n",
    "    \"pipeline.github.runner_name\": \"Hosted Agent\",\n",
    "    \"pipeline.github.run_id\": \"2695663229\",\n",
    "    \"pipeline.github.actor\": \"matiasdahl\",\n",
    "    \"pipeline.github.job\": \"run-tests-pipeline-and-persist-pipeline-outputs\",\n",
    "    \"pipeline.github.base_ref\": \"\",\n",
    "    \"pipeline.github.head_ref\": \"\",\n",
    "    \"pipeline.github.sha\": \"147a1be9916173fd4d2cd011d8d51e3411215850\",\n",
    "    \"pipeline.github.ref\": \"refs/heads/development\",\n",
    "    \"pipeline.github.ref_type\": \"branch\",\n",
    "    \"pipeline.github.ref_name\": \"development\",\n",
    "    \"pipeline.github.event_name\": \"schedule\",\n",
    "    \"task.nr_train_images\": 800,\n",
    "    \"task.notebook\": \"notebooks/train-model.py\",\n",
    "    \"task.max_nr_retries\": \"1\",\n",
    "    \"run.retry_nr\": \"0\",\n",
    "    \"task.timeout_s\": \"None\",\n",
    "    \"task.num_cpus\": 1,\n",
    "    \"_opentelemetry_traceparent\": \"00-dfc87442c93bc941e6465acf075e7ed4-c14ac0d47b2a1010-01\",\n",
    "}\n"
   ]
  },
  {
   "cell_type": "code",
   "execution_count": 4,
   "id": "06e217f7",
   "metadata": {
    "execution": {
     "iopub.execute_input": "2022-07-19T06:48:34.707710Z",
     "iopub.status.busy": "2022-07-19T06:48:34.707498Z",
     "iopub.status.idle": "2022-07-19T06:48:34.711042Z",
     "shell.execute_reply": "2022-07-19T06:48:34.710493Z"
    },
    "lines_to_next_cell": 0,
    "papermill": {
     "duration": 0.009365,
     "end_time": "2022-07-19T06:48:34.713203",
     "exception": false,
     "start_time": "2022-07-19T06:48:34.703838",
     "status": "completed"
    },
    "tags": []
   },
   "outputs": [],
   "source": [
    "# -----------------------------------------------------------------------"
   ]
  },
  {
   "cell_type": "markdown",
   "id": "49885c8d",
   "metadata": {
    "papermill": {
     "duration": 0.004364,
     "end_time": "2022-07-19T06:48:34.721946",
     "exception": false,
     "start_time": "2022-07-19T06:48:34.717582",
     "status": "completed"
    },
    "tags": []
   },
   "source": [
    "---"
   ]
  },
  {
   "cell_type": "markdown",
   "id": "3af0c432",
   "metadata": {
    "lines_to_next_cell": 2,
    "papermill": {
     "duration": 0.002907,
     "end_time": "2022-07-19T06:48:34.727781",
     "exception": false,
     "start_time": "2022-07-19T06:48:34.724874",
     "status": "completed"
    },
    "tags": []
   },
   "source": [
    "### Notebook code"
   ]
  },
  {
   "cell_type": "code",
   "execution_count": 5,
   "id": "b367f1ec",
   "metadata": {
    "execution": {
     "iopub.execute_input": "2022-07-19T06:48:34.735730Z",
     "iopub.status.busy": "2022-07-19T06:48:34.735508Z",
     "iopub.status.idle": "2022-07-19T06:48:35.233263Z",
     "shell.execute_reply": "2022-07-19T06:48:35.231656Z"
    },
    "papermill": {
     "duration": 0.503714,
     "end_time": "2022-07-19T06:48:35.235100",
     "exception": false,
     "start_time": "2022-07-19T06:48:34.731386",
     "status": "completed"
    },
    "tags": []
   },
   "outputs": [
    {
     "name": "stderr",
     "output_type": "stream",
     "text": [
      "2022-07-19 06:48:35,067\tINFO worker.py:842 -- Connecting to existing Ray cluster at address: 172.17.0.2:6379\n"
     ]
    }
   ],
   "source": [
    "from pynb_dag_runner.tasks.task_opentelemetry_logging import PydarLogger\n",
    "\n",
    "logger = PydarLogger(P)"
   ]
  },
  {
   "cell_type": "markdown",
   "id": "d45a0974",
   "metadata": {
    "papermill": {
     "duration": 0.00299,
     "end_time": "2022-07-19T06:48:35.241344",
     "exception": false,
     "start_time": "2022-07-19T06:48:35.238354",
     "status": "completed"
    },
    "tags": []
   },
   "source": [
    "## Load and limit train data"
   ]
  },
  {
   "cell_type": "code",
   "execution_count": 6,
   "id": "fdd2f42a",
   "metadata": {
    "execution": {
     "iopub.execute_input": "2022-07-19T06:48:35.248426Z",
     "iopub.status.busy": "2022-07-19T06:48:35.248107Z",
     "iopub.status.idle": "2022-07-19T06:48:35.621201Z",
     "shell.execute_reply": "2022-07-19T06:48:35.620311Z"
    },
    "papermill": {
     "duration": 0.379038,
     "end_time": "2022-07-19T06:48:35.623256",
     "exception": false,
     "start_time": "2022-07-19T06:48:35.244218",
     "status": "completed"
    },
    "tags": []
   },
   "outputs": [],
   "source": [
    "def load_and_limit_train_data(P):\n",
    "    from common.io import datalake_root, read_numpy\n",
    "    from sklearn.model_selection import train_test_split\n",
    "\n",
    "    X_train_all = read_numpy(datalake_root(P) / \"train-data\" / \"digits.numpy\")\n",
    "    y_train_all = read_numpy(datalake_root(P) / \"train-data\" / \"labels.numpy\")\n",
    "\n",
    "    assert isinstance(P[\"task.nr_train_images\"], int)\n",
    "\n",
    "    # Note: train_test_split will fail if split is 0 or 100%.\n",
    "    assert 0 < P[\"task.nr_train_images\"] < len(y_train_all)\n",
    "\n",
    "    X_train, _, y_train, _ = train_test_split(\n",
    "        X_train_all,\n",
    "        y_train_all,\n",
    "        train_size=P[\"task.nr_train_images\"],\n",
    "        test_size=None,\n",
    "        stratify=y_train_all,\n",
    "        shuffle=True,\n",
    "        random_state=123,\n",
    "    )\n",
    "\n",
    "    assert X_train.shape == (len(y_train), 8 * 8)\n",
    "    return X_train, y_train\n",
    "\n",
    "\n",
    "X_train, y_train = load_and_limit_train_data(P)"
   ]
  },
  {
   "cell_type": "markdown",
   "id": "c9890802",
   "metadata": {
    "papermill": {
     "duration": 0.003158,
     "end_time": "2022-07-19T06:48:35.629826",
     "exception": false,
     "start_time": "2022-07-19T06:48:35.626668",
     "status": "completed"
    },
    "tags": []
   },
   "source": [
    "## Train support vector classifier model\n",
    "\n",
    "Below we assume that the hyperparameter $C$ is known.\n",
    "\n",
    "However, this should ideally be found by a hyperparameter search. That could be\n",
    "done in parallel on the Ray cluster, but this needs some more work. Ie., to use\n",
    "multiple cores in the notebook, those cores should be reserved when starting the\n",
    "notebook task (TODO).\n",
    "\n",
    "- https://docs.ray.io/en/latest/tune/key-concepts.html\n",
    "\n",
    "Note: cv-scores would need to be computed here, since they depend on the train data.\n",
    "After this notebook only the onnx-model is available."
   ]
  },
  {
   "cell_type": "code",
   "execution_count": 7,
   "id": "c54c877a",
   "metadata": {
    "execution": {
     "iopub.execute_input": "2022-07-19T06:48:35.641704Z",
     "iopub.status.busy": "2022-07-19T06:48:35.641380Z",
     "iopub.status.idle": "2022-07-19T06:48:35.745527Z",
     "shell.execute_reply": "2022-07-19T06:48:35.739480Z"
    },
    "papermill": {
     "duration": 0.114776,
     "end_time": "2022-07-19T06:48:35.747506",
     "exception": false,
     "start_time": "2022-07-19T06:48:35.632730",
     "status": "completed"
    },
    "tags": []
   },
   "outputs": [],
   "source": [
    "from sklearn.svm import SVC"
   ]
  },
  {
   "cell_type": "code",
   "execution_count": 8,
   "id": "d4781c59",
   "metadata": {
    "execution": {
     "iopub.execute_input": "2022-07-19T06:48:35.757789Z",
     "iopub.status.busy": "2022-07-19T06:48:35.757439Z",
     "iopub.status.idle": "2022-07-19T06:48:36.012185Z",
     "shell.execute_reply": "2022-07-19T06:48:36.011339Z"
    },
    "papermill": {
     "duration": 0.262357,
     "end_time": "2022-07-19T06:48:36.013841",
     "exception": false,
     "start_time": "2022-07-19T06:48:35.751484",
     "status": "completed"
    },
    "tags": []
   },
   "outputs": [
    {
     "data": {
      "text/plain": [
       "SVC(C=0.001, kernel='linear', probability=True)"
      ]
     },
     "execution_count": 8,
     "metadata": {},
     "output_type": "execute_result"
    }
   ],
   "source": [
    "model = SVC(C=0.001, kernel=\"linear\", probability=True)\n",
    "\n",
    "model.fit(X_train, y_train)"
   ]
  },
  {
   "cell_type": "markdown",
   "id": "9f21b06e",
   "metadata": {
    "papermill": {
     "duration": 0.00708,
     "end_time": "2022-07-19T06:48:36.024670",
     "exception": false,
     "start_time": "2022-07-19T06:48:36.017590",
     "status": "completed"
    },
    "tags": []
   },
   "source": [
    "### Q: Can the labels returned by `predict(..)` be computed from probabilities returned by the `predict_prob`-method?"
   ]
  },
  {
   "cell_type": "code",
   "execution_count": 9,
   "id": "b492a5ae",
   "metadata": {
    "execution": {
     "iopub.execute_input": "2022-07-19T06:48:36.040233Z",
     "iopub.status.busy": "2022-07-19T06:48:36.039856Z",
     "iopub.status.idle": "2022-07-19T06:48:36.146249Z",
     "shell.execute_reply": "2022-07-19T06:48:36.145653Z"
    },
    "papermill": {
     "duration": 0.115795,
     "end_time": "2022-07-19T06:48:36.148161",
     "exception": false,
     "start_time": "2022-07-19T06:48:36.032366",
     "status": "completed"
    },
    "tags": []
   },
   "outputs": [
    {
     "name": "stdout",
     "output_type": "stream",
     "text": [
      " - Logging nr_max_prob_neq_label (int) : 1\n"
     ]
    }
   ],
   "source": [
    "import numpy as np\n",
    "\n",
    "y_train_labels = model.predict(X_train)\n",
    "y_train_probabilities = model.predict_proba(X_train)\n",
    "assert y_train_probabilities.shape == (len(y_train), 10)\n",
    "\n",
    "y_train_max_prob_labels = np.argmax(y_train_probabilities, axis=1)\n",
    "assert y_train_labels.shape == y_train_max_prob_labels.shape == y_train.shape\n",
    "\n",
    "# If the predicted labels would coincide with the labels that have\n",
    "# maximum probability, the below number would be zero\n",
    "logger.log_int(\n",
    "    \"nr_max_prob_neq_label\", int(sum(y_train_max_prob_labels != y_train_labels))\n",
    ")"
   ]
  },
  {
   "cell_type": "markdown",
   "id": "55510d6d",
   "metadata": {
    "papermill": {
     "duration": 0.00434,
     "end_time": "2022-07-19T06:48:36.156099",
     "exception": false,
     "start_time": "2022-07-19T06:48:36.151759",
     "status": "completed"
    },
    "tags": []
   },
   "source": [
    "The explanation is (likely) explained in the SVC source, see\n",
    "[here](https://github.com/scikit-learn/scikit-learn/blob/main/sklearn/svm/_base.py).\n",
    "Namely, the outputs from `predict(..)` and `predict_proba(..)` may not in some\n",
    "cases be compatible since the latter is computed using cross-validation while\n",
    "the former is not. Thus, the above number need not be zero."
   ]
  },
  {
   "cell_type": "markdown",
   "id": "b81683a2",
   "metadata": {
    "papermill": {
     "duration": 0.003066,
     "end_time": "2022-07-19T06:48:36.162789",
     "exception": false,
     "start_time": "2022-07-19T06:48:36.159723",
     "status": "completed"
    },
    "tags": []
   },
   "source": [
    "## Persist model"
   ]
  },
  {
   "cell_type": "code",
   "execution_count": 10,
   "id": "7ab14866",
   "metadata": {
    "execution": {
     "iopub.execute_input": "2022-07-19T06:48:36.171517Z",
     "iopub.status.busy": "2022-07-19T06:48:36.171264Z",
     "iopub.status.idle": "2022-07-19T06:48:37.392822Z",
     "shell.execute_reply": "2022-07-19T06:48:37.392071Z"
    },
    "papermill": {
     "duration": 1.2278,
     "end_time": "2022-07-19T06:48:37.394713",
     "exception": false,
     "start_time": "2022-07-19T06:48:36.166913",
     "status": "completed"
    },
    "tags": []
   },
   "outputs": [
    {
     "name": "stderr",
     "output_type": "stream",
     "text": [
      "2022-07-19 06:48:36,300\tWARNING worker.py:1245 -- (ip=172.17.0.2) The agent on node 1739c1aec58a failed to be restarted 5 times. There are 3 possible problems if you see this error.\n",
      "  1. The dashboard might not display correct information on this node.\n",
      "  2. Metrics on this node won't be reported.\n",
      "  3. runtime_env APIs won't work.\n",
      "Check out the `dashboard_agent.log` to see the detailed failure messages.\n"
     ]
    }
   ],
   "source": [
    "from skl2onnx import convert_sklearn\n",
    "from skl2onnx.common.data_types import FloatTensorType\n",
    "\n",
    "#\n",
    "from common.io import datalake_root, write_onnx"
   ]
  },
  {
   "cell_type": "code",
   "execution_count": 11,
   "id": "39f248f5",
   "metadata": {
    "execution": {
     "iopub.execute_input": "2022-07-19T06:48:37.404035Z",
     "iopub.status.busy": "2022-07-19T06:48:37.403699Z",
     "iopub.status.idle": "2022-07-19T06:48:37.449107Z",
     "shell.execute_reply": "2022-07-19T06:48:37.448529Z"
    },
    "papermill": {
     "duration": 0.052306,
     "end_time": "2022-07-19T06:48:37.450975",
     "exception": false,
     "start_time": "2022-07-19T06:48:37.398669",
     "status": "completed"
    },
    "tags": []
   },
   "outputs": [],
   "source": [
    "# convert sklearn model into onnx and persist to data lake\n",
    "\n",
    "model_onnx = convert_sklearn(\n",
    "    model, initial_types=[(\"float_input_8x8_image\", FloatTensorType([None, 8 * 8]))]\n",
    ")\n",
    "write_onnx(\n",
    "    datalake_root(P)\n",
    "    / \"models\"\n",
    "    / f\"nr_train_images={P['task.nr_train_images']}\"\n",
    "    / \"model.onnx\",\n",
    "    model_onnx,\n",
    ")"
   ]
  },
  {
   "cell_type": "code",
   "execution_count": null,
   "id": "d8825bf1",
   "metadata": {
    "papermill": {
     "duration": 0.0042,
     "end_time": "2022-07-19T06:48:37.458557",
     "exception": false,
     "start_time": "2022-07-19T06:48:37.454357",
     "status": "completed"
    },
    "tags": []
   },
   "outputs": [],
   "source": []
  }
 ],
 "metadata": {
  "jupytext": {
   "cell_metadata_filter": "tags,-all",
   "main_language": "python",
   "notebook_metadata_filter": "-all"
  },
  "language_info": {
   "codemirror_mode": {
    "name": "ipython",
    "version": 3
   },
   "file_extension": ".py",
   "mimetype": "text/x-python",
   "name": "python",
   "nbconvert_exporter": "python",
   "pygments_lexer": "ipython3",
   "version": "3.8.10"
  },
  "papermill": {
   "default_parameters": {},
   "duration": 5.393096,
   "end_time": "2022-07-19T06:48:38.588957",
   "environment_variables": {},
   "exception": null,
   "input_path": "/home/host_user/workspace/mnist-demo-pipeline/mnist-demo-pipeline/notebooks/temp-notebook-k2tzvszn.ipynb",
   "output_path": "notebooks/train-model.ipynb",
   "parameters": {
    "P": {
     "_opentelemetry_traceparent": "00-dfc87442c93bc941e6465acf075e7ed4-c14ac0d47b2a1010-01",
     "pipeline.data_lake_root": "/pipeline-outputs/data-lake",
     "pipeline.github.actor": "matiasdahl",
     "pipeline.github.base_ref": "",
     "pipeline.github.event_name": "schedule",
     "pipeline.github.head_ref": "",
     "pipeline.github.job": "run-tests-pipeline-and-persist-pipeline-outputs",
     "pipeline.github.ref": "refs/heads/development",
     "pipeline.github.ref_name": "development",
     "pipeline.github.ref_type": "branch",
     "pipeline.github.repository": "pynb-dag-runner/mnist-digits-demo-pipeline",
     "pipeline.github.run_id": "2695663229",
     "pipeline.github.runner_name": "Hosted Agent",
     "pipeline.github.sha": "147a1be9916173fd4d2cd011d8d51e3411215850",
     "pipeline.github.workflow": "Run automated tests, pipeline and deploy results to static reporting site",
     "pipeline.pipeline_run_id": "c5d84876-79e0-46e1-bbd8-00737a518f44",
     "pipeline.run_environment": "ci",
     "run.retry_nr": "0",
     "task.max_nr_retries": "1",
     "task.notebook": "notebooks/train-model.py",
     "task.nr_train_images": 800,
     "task.num_cpus": 1,
     "task.timeout_s": "None"
    }
   },
   "start_time": "2022-07-19T06:48:33.195861",
   "version": "2.3.3"
  }
 },
 "nbformat": 4,
 "nbformat_minor": 5
}