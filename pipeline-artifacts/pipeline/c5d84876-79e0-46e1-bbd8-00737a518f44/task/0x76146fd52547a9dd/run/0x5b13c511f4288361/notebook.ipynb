{
 "cells": [
  {
   "cell_type": "markdown",
   "id": "643a3696",
   "metadata": {
    "papermill": {
     "duration": 0.005262,
     "end_time": "2022-07-19T06:48:46.847538",
     "exception": false,
     "start_time": "2022-07-19T06:48:46.842276",
     "status": "completed"
    },
    "tags": []
   },
   "source": [
    "# Benchmark model\n",
    "\n",
    "The purpose of this notebook is to benchmark persisted onnx-model (trained in the\n",
    "previous step) against evaluation set."
   ]
  },
  {
   "cell_type": "markdown",
   "id": "e211168e",
   "metadata": {
    "papermill": {
     "duration": 0.003705,
     "end_time": "2022-07-19T06:48:46.856163",
     "exception": false,
     "start_time": "2022-07-19T06:48:46.852458",
     "status": "completed"
    },
    "tags": []
   },
   "source": [
    "### Determine run parameters"
   ]
  },
  {
   "cell_type": "code",
   "execution_count": 1,
   "id": "e7360cd5",
   "metadata": {
    "execution": {
     "iopub.execute_input": "2022-07-19T06:48:46.865500Z",
     "iopub.status.busy": "2022-07-19T06:48:46.864855Z",
     "iopub.status.idle": "2022-07-19T06:48:46.872659Z",
     "shell.execute_reply": "2022-07-19T06:48:46.871903Z"
    },
    "lines_to_next_cell": 0,
    "papermill": {
     "duration": 0.014292,
     "end_time": "2022-07-19T06:48:46.874268",
     "exception": false,
     "start_time": "2022-07-19T06:48:46.859976",
     "status": "completed"
    },
    "tags": []
   },
   "outputs": [],
   "source": [
    "# ----------------- Parameters for interactive development --------------\n",
    "P = {\n",
    "    \"pipeline.data_lake_root\": \"/pipeline-outputs/data-lake\",\n",
    "    \"task.nr_train_images\": 600,\n",
    "}"
   ]
  },
  {
   "cell_type": "code",
   "execution_count": 2,
   "id": "51317ef1",
   "metadata": {
    "execution": {
     "iopub.execute_input": "2022-07-19T06:48:46.883111Z",
     "iopub.status.busy": "2022-07-19T06:48:46.882886Z",
     "iopub.status.idle": "2022-07-19T06:48:46.885663Z",
     "shell.execute_reply": "2022-07-19T06:48:46.885088Z"
    },
    "lines_to_next_cell": 0,
    "papermill": {
     "duration": 0.008869,
     "end_time": "2022-07-19T06:48:46.887099",
     "exception": false,
     "start_time": "2022-07-19T06:48:46.878230",
     "status": "completed"
    },
    "tags": [
     "parameters"
    ]
   },
   "outputs": [],
   "source": [
    "# - During automated runs parameters will be injected in the below cell -"
   ]
  },
  {
   "cell_type": "code",
   "execution_count": 3,
   "id": "ee13b640",
   "metadata": {
    "execution": {
     "iopub.execute_input": "2022-07-19T06:48:46.895743Z",
     "iopub.status.busy": "2022-07-19T06:48:46.895353Z",
     "iopub.status.idle": "2022-07-19T06:48:46.902417Z",
     "shell.execute_reply": "2022-07-19T06:48:46.901701Z"
    },
    "papermill": {
     "duration": 0.012956,
     "end_time": "2022-07-19T06:48:46.903808",
     "exception": false,
     "start_time": "2022-07-19T06:48:46.890852",
     "status": "completed"
    },
    "tags": [
     "injected-parameters"
    ]
   },
   "outputs": [],
   "source": [
    "# Parameters\n",
    "P = {\n",
    "    \"pipeline.data_lake_root\": \"/pipeline-outputs/data-lake\",\n",
    "    \"pipeline.run_environment\": \"ci\",\n",
    "    \"pipeline.pipeline_run_id\": \"c5d84876-79e0-46e1-bbd8-00737a518f44\",\n",
    "    \"pipeline.github.repository\": \"pynb-dag-runner/mnist-digits-demo-pipeline\",\n",
    "    \"pipeline.github.workflow\": \"Run automated tests, pipeline and deploy results to static reporting site\",\n",
    "    \"pipeline.github.runner_name\": \"Hosted Agent\",\n",
    "    \"pipeline.github.run_id\": \"2695663229\",\n",
    "    \"pipeline.github.actor\": \"matiasdahl\",\n",
    "    \"pipeline.github.job\": \"run-tests-pipeline-and-persist-pipeline-outputs\",\n",
    "    \"pipeline.github.base_ref\": \"\",\n",
    "    \"pipeline.github.head_ref\": \"\",\n",
    "    \"pipeline.github.sha\": \"147a1be9916173fd4d2cd011d8d51e3411215850\",\n",
    "    \"pipeline.github.ref\": \"refs/heads/development\",\n",
    "    \"pipeline.github.ref_type\": \"branch\",\n",
    "    \"pipeline.github.ref_name\": \"development\",\n",
    "    \"pipeline.github.event_name\": \"schedule\",\n",
    "    \"task.nr_train_images\": 800,\n",
    "    \"task.notebook\": \"notebooks/benchmark-model.py\",\n",
    "    \"task.max_nr_retries\": \"1\",\n",
    "    \"run.retry_nr\": \"0\",\n",
    "    \"task.timeout_s\": \"None\",\n",
    "    \"task.num_cpus\": 1,\n",
    "    \"_opentelemetry_traceparent\": \"00-dfc87442c93bc941e6465acf075e7ed4-02076bc4974ab049-01\",\n",
    "}\n"
   ]
  },
  {
   "cell_type": "code",
   "execution_count": 4,
   "id": "d7314596",
   "metadata": {
    "execution": {
     "iopub.execute_input": "2022-07-19T06:48:46.913655Z",
     "iopub.status.busy": "2022-07-19T06:48:46.913449Z",
     "iopub.status.idle": "2022-07-19T06:48:46.915980Z",
     "shell.execute_reply": "2022-07-19T06:48:46.915381Z"
    },
    "lines_to_next_cell": 0,
    "papermill": {
     "duration": 0.008401,
     "end_time": "2022-07-19T06:48:46.917266",
     "exception": false,
     "start_time": "2022-07-19T06:48:46.908865",
     "status": "completed"
    },
    "tags": []
   },
   "outputs": [],
   "source": [
    "# -----------------------------------------------------------------------"
   ]
  },
  {
   "cell_type": "markdown",
   "id": "9c911141",
   "metadata": {
    "papermill": {
     "duration": 0.003666,
     "end_time": "2022-07-19T06:48:46.924855",
     "exception": false,
     "start_time": "2022-07-19T06:48:46.921189",
     "status": "completed"
    },
    "tags": []
   },
   "source": [
    "---"
   ]
  },
  {
   "cell_type": "markdown",
   "id": "49d31b79",
   "metadata": {
    "lines_to_next_cell": 2,
    "papermill": {
     "duration": 0.004493,
     "end_time": "2022-07-19T06:48:46.933619",
     "exception": false,
     "start_time": "2022-07-19T06:48:46.929126",
     "status": "completed"
    },
    "tags": []
   },
   "source": [
    "### Notebook code"
   ]
  },
  {
   "cell_type": "code",
   "execution_count": 5,
   "id": "aed6fc99",
   "metadata": {
    "execution": {
     "iopub.execute_input": "2022-07-19T06:48:46.942466Z",
     "iopub.status.busy": "2022-07-19T06:48:46.941937Z",
     "iopub.status.idle": "2022-07-19T06:48:48.119488Z",
     "shell.execute_reply": "2022-07-19T06:48:48.118576Z"
    },
    "papermill": {
     "duration": 1.183999,
     "end_time": "2022-07-19T06:48:48.121297",
     "exception": false,
     "start_time": "2022-07-19T06:48:46.937298",
     "status": "completed"
    },
    "tags": []
   },
   "outputs": [
    {
     "name": "stderr",
     "output_type": "stream",
     "text": [
      "2022-07-19 06:48:47,964\tINFO worker.py:842 -- Connecting to existing Ray cluster at address: 172.17.0.2:6379\n"
     ]
    }
   ],
   "source": [
    "import itertools as it\n",
    "\n",
    "#\n",
    "import numpy as np\n",
    "import matplotlib.pyplot as plt\n",
    "\n",
    "#\n",
    "from pynb_dag_runner.tasks.task_opentelemetry_logging import PydarLogger\n",
    "\n",
    "#\n",
    "from common.io import datalake_root\n",
    "\n",
    "logger = PydarLogger(P)"
   ]
  },
  {
   "cell_type": "markdown",
   "id": "655dfdd2",
   "metadata": {
    "papermill": {
     "duration": 0.004398,
     "end_time": "2022-07-19T06:48:48.131412",
     "exception": false,
     "start_time": "2022-07-19T06:48:48.127014",
     "status": "completed"
    },
    "tags": []
   },
   "source": [
    "## Load persisted onnx-model and evaluation data"
   ]
  },
  {
   "cell_type": "code",
   "execution_count": 6,
   "id": "e4f5194c",
   "metadata": {
    "execution": {
     "iopub.execute_input": "2022-07-19T06:48:48.142296Z",
     "iopub.status.busy": "2022-07-19T06:48:48.141519Z",
     "iopub.status.idle": "2022-07-19T06:48:48.145747Z",
     "shell.execute_reply": "2022-07-19T06:48:48.145078Z"
    },
    "papermill": {
     "duration": 0.011407,
     "end_time": "2022-07-19T06:48:48.147747",
     "exception": false,
     "start_time": "2022-07-19T06:48:48.136340",
     "status": "completed"
    },
    "tags": []
   },
   "outputs": [],
   "source": [
    "from common.io import read_onnx, get_onnx_inputs, get_onnx_outputs, read_numpy"
   ]
  },
  {
   "cell_type": "code",
   "execution_count": 7,
   "id": "94ac214f",
   "metadata": {
    "execution": {
     "iopub.execute_input": "2022-07-19T06:48:48.158121Z",
     "iopub.status.busy": "2022-07-19T06:48:48.157847Z",
     "iopub.status.idle": "2022-07-19T06:48:48.170552Z",
     "shell.execute_reply": "2022-07-19T06:48:48.169791Z"
    },
    "lines_to_next_cell": 0,
    "papermill": {
     "duration": 0.020306,
     "end_time": "2022-07-19T06:48:48.172036",
     "exception": false,
     "start_time": "2022-07-19T06:48:48.151730",
     "status": "completed"
    },
    "tags": []
   },
   "outputs": [],
   "source": [
    "onnx_inference_session = read_onnx(\n",
    "    datalake_root(P)\n",
    "    / \"models\"\n",
    "    / f\"nr_train_images={P['task.nr_train_images']}\"\n",
    "    / \"model.onnx\"\n",
    ")"
   ]
  },
  {
   "cell_type": "markdown",
   "id": "1bcb6fe0",
   "metadata": {
    "papermill": {
     "duration": 0.004324,
     "end_time": "2022-07-19T06:48:48.180968",
     "exception": false,
     "start_time": "2022-07-19T06:48:48.176644",
     "status": "completed"
    },
    "tags": []
   },
   "source": [
    "### Record structure of inputs and outputs for ONNX model\n",
    "\n",
    "(this should likely be done in training notebook)"
   ]
  },
  {
   "cell_type": "code",
   "execution_count": 8,
   "id": "653aaaca",
   "metadata": {
    "execution": {
     "iopub.execute_input": "2022-07-19T06:48:48.190237Z",
     "iopub.status.busy": "2022-07-19T06:48:48.189972Z",
     "iopub.status.idle": "2022-07-19T06:48:48.195421Z",
     "shell.execute_reply": "2022-07-19T06:48:48.194865Z"
    },
    "papermill": {
     "duration": 0.013907,
     "end_time": "2022-07-19T06:48:48.198935",
     "exception": false,
     "start_time": "2022-07-19T06:48:48.185028",
     "status": "completed"
    },
    "tags": []
   },
   "outputs": [
    {
     "name": "stdout",
     "output_type": "stream",
     "text": [
      "{\n",
      "  \"inputs\": [\n",
      "    {\n",
      "      \"name\": \"float_input_8x8_image\",\n",
      "      \"shape\": [\n",
      "        null,\n",
      "        64\n",
      "      ],\n",
      "      \"type\": \"tensor(float)\"\n",
      "    }\n",
      "  ],\n",
      "  \"outputs\": [\n",
      "    {\n",
      "      \"name\": \"output_label\",\n",
      "      \"shape\": [\n",
      "        null\n",
      "      ],\n",
      "      \"type\": \"tensor(int64)\"\n",
      "    },\n",
      "    {\n",
      "      \"name\": \"output_probability\",\n",
      "      \"shape\": [],\n",
      "      \"type\": \"seq(map(int64,tensor(float)))\"\n",
      "    }\n",
      "  ]\n",
      "}\n"
     ]
    }
   ],
   "source": [
    "import json\n",
    "\n",
    "onnx_io = json.dumps(\n",
    "    {\n",
    "        \"inputs\": get_onnx_inputs(onnx_inference_session),\n",
    "        \"outputs\": get_onnx_outputs(onnx_inference_session),\n",
    "    },\n",
    "    indent=2,\n",
    ")\n",
    "\n",
    "\n",
    "logger.log_artefact(\"onnx_io_structure.json\", onnx_io)\n",
    "print(onnx_io)"
   ]
  },
  {
   "cell_type": "markdown",
   "id": "453be181",
   "metadata": {
    "papermill": {
     "duration": 0.004236,
     "end_time": "2022-07-19T06:48:48.208132",
     "exception": false,
     "start_time": "2022-07-19T06:48:48.203896",
     "status": "completed"
    },
    "tags": []
   },
   "source": [
    "### Evaluate model performance on evaluation data set"
   ]
  },
  {
   "cell_type": "code",
   "execution_count": 9,
   "id": "819d150b",
   "metadata": {
    "execution": {
     "iopub.execute_input": "2022-07-19T06:48:48.218042Z",
     "iopub.status.busy": "2022-07-19T06:48:48.217792Z",
     "iopub.status.idle": "2022-07-19T06:48:48.223355Z",
     "shell.execute_reply": "2022-07-19T06:48:48.222277Z"
    },
    "papermill": {
     "duration": 0.012857,
     "end_time": "2022-07-19T06:48:48.225750",
     "exception": false,
     "start_time": "2022-07-19T06:48:48.212893",
     "status": "completed"
    },
    "tags": []
   },
   "outputs": [],
   "source": [
    "# load evaluation data\n",
    "X_test = read_numpy(datalake_root(P) / \"test-data\" / \"digits.numpy\")\n",
    "y_test = read_numpy(datalake_root(P) / \"test-data\" / \"labels.numpy\")"
   ]
  },
  {
   "cell_type": "code",
   "execution_count": 10,
   "id": "175c9454",
   "metadata": {
    "execution": {
     "iopub.execute_input": "2022-07-19T06:48:48.234990Z",
     "iopub.status.busy": "2022-07-19T06:48:48.234752Z",
     "iopub.status.idle": "2022-07-19T06:48:48.247723Z",
     "shell.execute_reply": "2022-07-19T06:48:48.247067Z"
    },
    "papermill": {
     "duration": 0.019355,
     "end_time": "2022-07-19T06:48:48.249272",
     "exception": false,
     "start_time": "2022-07-19T06:48:48.229917",
     "status": "completed"
    },
    "tags": []
   },
   "outputs": [],
   "source": [
    "def get_model_outputs(X, onnx_inference_session):\n",
    "    y_pred_labels, y_pred_map = onnx_inference_session.run(\n",
    "        [\"output_label\", \"output_probability\"],\n",
    "        {\"float_input_8x8_image\": X.astype(np.float32)},\n",
    "    )\n",
    "    y_pred_probs = np.array(\n",
    "        [[probabilities[digit] for digit in range(10)] for probabilities in y_pred_map]\n",
    "    )\n",
    "\n",
    "    assert y_pred_labels.shape == (X.shape[0],)\n",
    "    assert y_pred_probs.shape == (X.shape[0], 10)\n",
    "\n",
    "    return y_pred_labels, y_pred_probs\n",
    "\n",
    "\n",
    "# Note: as shown in the training notebook, the predicted labels and probabilities\n",
    "# computed below need not be compatible.\n",
    "y_pred_labels_test, y_pred_probs_test = get_model_outputs(\n",
    "    X_test, onnx_inference_session\n",
    ")"
   ]
  },
  {
   "cell_type": "markdown",
   "id": "4cbe3b4e",
   "metadata": {
    "papermill": {
     "duration": 0.004194,
     "end_time": "2022-07-19T06:48:48.258401",
     "exception": false,
     "start_time": "2022-07-19T06:48:48.254207",
     "status": "completed"
    },
    "tags": []
   },
   "source": [
    "### Confusion matrix"
   ]
  },
  {
   "cell_type": "code",
   "execution_count": 11,
   "id": "d14551ba",
   "metadata": {
    "execution": {
     "iopub.execute_input": "2022-07-19T06:48:48.273139Z",
     "iopub.status.busy": "2022-07-19T06:48:48.272785Z",
     "iopub.status.idle": "2022-07-19T06:48:48.276598Z",
     "shell.execute_reply": "2022-07-19T06:48:48.275509Z"
    },
    "papermill": {
     "duration": 0.012773,
     "end_time": "2022-07-19T06:48:48.279176",
     "exception": false,
     "start_time": "2022-07-19T06:48:48.266403",
     "status": "completed"
    },
    "tags": []
   },
   "outputs": [],
   "source": [
    "# TODO"
   ]
  },
  {
   "cell_type": "markdown",
   "id": "777a69b4",
   "metadata": {
    "papermill": {
     "duration": 0.004469,
     "end_time": "2022-07-19T06:48:48.288158",
     "exception": false,
     "start_time": "2022-07-19T06:48:48.283689",
     "status": "completed"
    },
    "tags": []
   },
   "source": [
    "### Plot predicted probabilities for each classifier over all evaluation digit images"
   ]
  },
  {
   "cell_type": "code",
   "execution_count": 12,
   "id": "2f2cd477",
   "metadata": {
    "execution": {
     "iopub.execute_input": "2022-07-19T06:48:48.297564Z",
     "iopub.status.busy": "2022-07-19T06:48:48.297314Z",
     "iopub.status.idle": "2022-07-19T06:48:51.446465Z",
     "shell.execute_reply": "2022-07-19T06:48:51.445889Z"
    },
    "papermill": {
     "duration": 3.156078,
     "end_time": "2022-07-19T06:48:51.448383",
     "exception": false,
     "start_time": "2022-07-19T06:48:48.292305",
     "status": "completed"
    },
    "tags": []
   },
   "outputs": [
    {
     "data": {
      "image/png": "[encoded data removed]",
      "text/plain": [
       "<Figure size 1152x432 with 10 Axes>"
      ]
     },
     "metadata": {
      "needs_background": "light"
     },
     "output_type": "display_data"
    }
   ],
   "source": [
    "def plot_per_digit_probabilities(y_pred_probs):\n",
    "    fig, axs = plt.subplots(nrows=2, ncols=5, figsize=(16, 6))\n",
    "\n",
    "    for (r, c), digit, ax in zip(\n",
    "        it.product(range(2), range(5)), range(10), axs.reshape(-1)\n",
    "    ):\n",
    "        ax.hist(y_pred_probs_test[:, digit], bins=20)\n",
    "\n",
    "        ax.set_title(f\"Digit {digit}\")\n",
    "        if r == 1 and c == 2:\n",
    "            ax.set_xlabel(\"probability\", fontsize=16)\n",
    "\n",
    "        if c == 0:\n",
    "            ax.set_ylabel(\"counts\", fontsize=16)\n",
    "        ax.set_yscale(\"log\")\n",
    "\n",
    "    fig.tight_layout()\n",
    "    fig.suptitle(\n",
    "        f\"Distributions of prediction probabilities for each digit \"\n",
    "        f\"(on evaluation data, n={y_pred_probs.shape[0]})\",\n",
    "        fontsize=20,\n",
    "    )\n",
    "    fig.tight_layout()\n",
    "    fig.show()\n",
    "\n",
    "    return fig\n",
    "\n",
    "\n",
    "fig = plot_per_digit_probabilities(y_pred_probs_test)"
   ]
  },
  {
   "cell_type": "markdown",
   "id": "2551f126",
   "metadata": {
    "papermill": {
     "duration": 0.004907,
     "end_time": "2022-07-19T06:48:51.458523",
     "exception": false,
     "start_time": "2022-07-19T06:48:51.453616",
     "status": "completed"
    },
    "tags": []
   },
   "source": [
    "From the above distributions we see that most digits have clear separation between\n",
    "high and lower probabilities. Morover, in each case there is roughly an order of\n",
    "magnitude more of digits with low probabilities. This is compatible with digits\n",
    "being roughly evenly distributed in the data."
   ]
  },
  {
   "cell_type": "code",
   "execution_count": 13,
   "id": "17b61316",
   "metadata": {
    "execution": {
     "iopub.execute_input": "2022-07-19T06:48:51.469283Z",
     "iopub.status.busy": "2022-07-19T06:48:51.469032Z",
     "iopub.status.idle": "2022-07-19T06:48:51.868436Z",
     "shell.execute_reply": "2022-07-19T06:48:51.867840Z"
    },
    "papermill": {
     "duration": 0.407154,
     "end_time": "2022-07-19T06:48:51.870508",
     "exception": false,
     "start_time": "2022-07-19T06:48:51.463354",
     "status": "completed"
    },
    "tags": []
   },
   "outputs": [],
   "source": [
    "logger.log_figure(\"per-digit-probabilities.png\", fig)"
   ]
  },
  {
   "cell_type": "markdown",
   "id": "c90784ab",
   "metadata": {
    "papermill": {
     "duration": 0.005356,
     "end_time": "2022-07-19T06:48:51.880555",
     "exception": false,
     "start_time": "2022-07-19T06:48:51.875199",
     "status": "completed"
    },
    "tags": []
   },
   "source": [
    "### Plot ROC curves for individual one-vs-rest classifiers"
   ]
  },
  {
   "cell_type": "code",
   "execution_count": 14,
   "id": "2816052b",
   "metadata": {
    "execution": {
     "iopub.execute_input": "2022-07-19T06:48:51.891632Z",
     "iopub.status.busy": "2022-07-19T06:48:51.891376Z",
     "iopub.status.idle": "2022-07-19T06:48:52.265643Z",
     "shell.execute_reply": "2022-07-19T06:48:52.265016Z"
    },
    "papermill": {
     "duration": 0.382037,
     "end_time": "2022-07-19T06:48:52.267677",
     "exception": false,
     "start_time": "2022-07-19T06:48:51.885640",
     "status": "completed"
    },
    "tags": []
   },
   "outputs": [],
   "source": [
    "from sklearn import metrics"
   ]
  },
  {
   "cell_type": "code",
   "execution_count": 15,
   "id": "1f6c2f4d",
   "metadata": {
    "execution": {
     "iopub.execute_input": "2022-07-19T06:48:52.279525Z",
     "iopub.status.busy": "2022-07-19T06:48:52.279271Z",
     "iopub.status.idle": "2022-07-19T06:48:53.287945Z",
     "shell.execute_reply": "2022-07-19T06:48:53.287223Z"
    },
    "papermill": {
     "duration": 1.017062,
     "end_time": "2022-07-19T06:48:53.289607",
     "exception": false,
     "start_time": "2022-07-19T06:48:52.272545",
     "status": "completed"
    },
    "tags": []
   },
   "outputs": [
    {
     "data": {
      "image/png": "[encoded data removed]",
      "text/plain": [
       "<Figure size 1152x576 with 10 Axes>"
      ]
     },
     "metadata": {
      "needs_background": "light"
     },
     "output_type": "display_data"
    }
   ],
   "source": [
    "def plot_roc_curves(y, y_pred_probs):\n",
    "    # based on example code\n",
    "    # https://scikit-learn.org/stable/auto_examples/model_selection/plot_roc.html\n",
    "\n",
    "    fig, axs = plt.subplots(nrows=2, ncols=5, figsize=(16, 8))\n",
    "\n",
    "    roc_auc_dict = {}\n",
    "\n",
    "    for (r, c), digit, ax in zip(\n",
    "        it.product(range(2), range(5)), range(10), axs.reshape(-1)\n",
    "    ):\n",
    "        fpr, tpr, _ = metrics.roc_curve(y == digit, y_pred_probs[:, digit])\n",
    "        auc = metrics.auc(fpr, tpr)\n",
    "        roc_auc_dict[str(digit)] = auc\n",
    "\n",
    "        ax.plot(fpr, tpr, label=f\"ROC AUC={round(auc, 3)}\")\n",
    "\n",
    "        ax.set_title(f\"\\nDigit {digit}\", fontsize=16)\n",
    "        if r == 1:\n",
    "            ax.set_xlabel(\"FPR\", fontsize=18)\n",
    "\n",
    "        if c == 0:\n",
    "            ax.set_ylabel(\"TPR\", fontsize=18)\n",
    "\n",
    "        ax.set_xlim([-0.05, 1.05])\n",
    "        ax.set_ylim([-0.05, 1.05])\n",
    "        ax.legend(loc=\"lower right\", frameon=False, fontsize=14)\n",
    "\n",
    "    fig.tight_layout()\n",
    "    fig.suptitle(\n",
    "        f\"ROC plots for one-vs-rest performances \"\n",
    "        f\"(on evaluation data, n={y_pred_probs_test.shape[1]}\",\n",
    "        fontsize=22,\n",
    "    )\n",
    "    fig.tight_layout()\n",
    "    fig.show()\n",
    "\n",
    "    return roc_auc_dict, fig\n",
    "\n",
    "\n",
    "roc_auc_dict, fig = plot_roc_curves(y_test, y_pred_probs_test)"
   ]
  },
  {
   "cell_type": "code",
   "execution_count": 16,
   "id": "54997adf",
   "metadata": {
    "execution": {
     "iopub.execute_input": "2022-07-19T06:48:53.302284Z",
     "iopub.status.busy": "2022-07-19T06:48:53.302026Z",
     "iopub.status.idle": "2022-07-19T06:48:53.555634Z",
     "shell.execute_reply": "2022-07-19T06:48:53.555023Z"
    },
    "papermill": {
     "duration": 0.262221,
     "end_time": "2022-07-19T06:48:53.557628",
     "exception": false,
     "start_time": "2022-07-19T06:48:53.295407",
     "status": "completed"
    },
    "tags": []
   },
   "outputs": [],
   "source": [
    "logger.log_figure(\"per-digit-roc-curves.png\", fig)"
   ]
  },
  {
   "cell_type": "code",
   "execution_count": 17,
   "id": "bcbf1152",
   "metadata": {
    "execution": {
     "iopub.execute_input": "2022-07-19T06:48:53.570134Z",
     "iopub.status.busy": "2022-07-19T06:48:53.569898Z",
     "iopub.status.idle": "2022-07-19T06:48:53.574294Z",
     "shell.execute_reply": "2022-07-19T06:48:53.573790Z"
    },
    "papermill": {
     "duration": 0.01403,
     "end_time": "2022-07-19T06:48:53.577669",
     "exception": false,
     "start_time": "2022-07-19T06:48:53.563639",
     "status": "completed"
    },
    "tags": []
   },
   "outputs": [
    {
     "data": {
      "text/plain": [
       "{'0': 1.0,\n",
       " '1': 0.9986879100281162,\n",
       " '2': 1.0,\n",
       " '3': 0.9998125585754452,\n",
       " '4': 0.9995046486816034,\n",
       " '5': 0.9991002811621369,\n",
       " '6': 0.999961896052431,\n",
       " '7': 0.9998856881572931,\n",
       " '8': 0.9936160151324086,\n",
       " '9': 0.9994284407864655}"
      ]
     },
     "execution_count": 17,
     "metadata": {},
     "output_type": "execute_result"
    }
   ],
   "source": [
    "roc_auc_dict"
   ]
  },
  {
   "cell_type": "code",
   "execution_count": 18,
   "id": "d8fb5011",
   "metadata": {
    "execution": {
     "iopub.execute_input": "2022-07-19T06:48:53.593493Z",
     "iopub.status.busy": "2022-07-19T06:48:53.593279Z",
     "iopub.status.idle": "2022-07-19T06:48:53.597050Z",
     "shell.execute_reply": "2022-07-19T06:48:53.596502Z"
    },
    "papermill": {
     "duration": 0.017158,
     "end_time": "2022-07-19T06:48:53.600388",
     "exception": false,
     "start_time": "2022-07-19T06:48:53.583230",
     "status": "completed"
    },
    "tags": []
   },
   "outputs": [
    {
     "name": "stdout",
     "output_type": "stream",
     "text": [
      " - Logging roc_auc_per_digit (json) : {'0': 1.0, '1': 0.9986879100281162, '2': 1.0, '3': 0.9998125585754452, '4': 0.9995046486816034, '5': 0.9991002811621369, '6': 0.999961896052431, '7': 0.9998856881572931, '8': 0.9936160151324086, '9': 0.9994284407864655}\n"
     ]
    }
   ],
   "source": [
    "logger.log_value(\"roc_auc_per_digit\", roc_auc_dict)"
   ]
  },
  {
   "cell_type": "markdown",
   "id": "2d351eed",
   "metadata": {
    "papermill": {
     "duration": 0.005434,
     "end_time": "2022-07-19T06:48:53.611321",
     "exception": false,
     "start_time": "2022-07-19T06:48:53.605887",
     "status": "completed"
    },
    "tags": []
   },
   "source": [
    "### Compute and log mean ROC AUC score averaged over all digits"
   ]
  },
  {
   "cell_type": "code",
   "execution_count": 19,
   "id": "fd08fcff",
   "metadata": {
    "execution": {
     "iopub.execute_input": "2022-07-19T06:48:53.623735Z",
     "iopub.status.busy": "2022-07-19T06:48:53.623500Z",
     "iopub.status.idle": "2022-07-19T06:48:53.636468Z",
     "shell.execute_reply": "2022-07-19T06:48:53.635874Z"
    },
    "papermill": {
     "duration": 0.020855,
     "end_time": "2022-07-19T06:48:53.638123",
     "exception": false,
     "start_time": "2022-07-19T06:48:53.617268",
     "status": "completed"
    },
    "tags": []
   },
   "outputs": [
    {
     "name": "stdout",
     "output_type": "stream",
     "text": [
      " - Logging roc_auc_class_mean (float) : 0.9989997438575899\n"
     ]
    }
   ],
   "source": [
    "roc_auc_macro = np.mean(list(roc_auc_dict.values()))\n",
    "\n",
    "logger.log_float(\"roc_auc_class_mean\", roc_auc_macro)\n",
    "\n",
    "# assert that the same value can be computed directly using sklearn\n",
    "assert roc_auc_macro == metrics.roc_auc_score(\n",
    "    y_test, y_pred_probs_test, average=\"macro\", multi_class=\"ovr\"\n",
    ")"
   ]
  },
  {
   "cell_type": "code",
   "execution_count": 20,
   "id": "75e9ef2e",
   "metadata": {
    "execution": {
     "iopub.execute_input": "2022-07-19T06:48:53.650513Z",
     "iopub.status.busy": "2022-07-19T06:48:53.650299Z",
     "iopub.status.idle": "2022-07-19T06:48:53.653054Z",
     "shell.execute_reply": "2022-07-19T06:48:53.652520Z"
    },
    "lines_to_next_cell": 0,
    "papermill": {
     "duration": 0.011356,
     "end_time": "2022-07-19T06:48:53.655210",
     "exception": false,
     "start_time": "2022-07-19T06:48:53.643854",
     "status": "completed"
    },
    "tags": []
   },
   "outputs": [],
   "source": [
    "# ---"
   ]
  },
  {
   "cell_type": "code",
   "execution_count": null,
   "id": "279b28bc",
   "metadata": {
    "papermill": {
     "duration": 0.005742,
     "end_time": "2022-07-19T06:48:53.666514",
     "exception": false,
     "start_time": "2022-07-19T06:48:53.660772",
     "status": "completed"
    },
    "tags": []
   },
   "outputs": [],
   "source": []
  }
 ],
 "metadata": {
  "jupytext": {
   "cell_metadata_filter": "tags,-all",
   "main_language": "python",
   "notebook_metadata_filter": "-all"
  },
  "language_info": {
   "codemirror_mode": {
    "name": "ipython",
    "version": 3
   },
   "file_extension": ".py",
   "mimetype": "text/x-python",
   "name": "python",
   "nbconvert_exporter": "python",
   "pygments_lexer": "ipython3",
   "version": "3.8.10"
  },
  "papermill": {
   "default_parameters": {},
   "duration": 9.108034,
   "end_time": "2022-07-19T06:48:54.690856",
   "environment_variables": {},
   "exception": null,
   "input_path": "/home/host_user/workspace/mnist-demo-pipeline/mnist-demo-pipeline/notebooks/temp-notebook-uue26mmb.ipynb",
   "output_path": "notebooks/benchmark-model.ipynb",
   "parameters": {
    "P": {
     "_opentelemetry_traceparent": "00-dfc87442c93bc941e6465acf075e7ed4-02076bc4974ab049-01",
     "pipeline.data_lake_root": "/pipeline-outputs/data-lake",
     "pipeline.github.actor": "matiasdahl",
     "pipeline.github.base_ref": "",
     "pipeline.github.event_name": "schedule",
     "pipeline.github.head_ref": "",
     "pipeline.github.job": "run-tests-pipeline-and-persist-pipeline-outputs",
     "pipeline.github.ref": "refs/heads/development",
     "pipeline.github.ref_name": "development",
     "pipeline.github.ref_type": "branch",
     "pipeline.github.repository": "pynb-dag-runner/mnist-digits-demo-pipeline",
     "pipeline.github.run_id": "2695663229",
     "pipeline.github.runner_name": "Hosted Agent",
     "pipeline.github.sha": "147a1be9916173fd4d2cd011d8d51e3411215850",
     "pipeline.github.workflow": "Run automated tests, pipeline and deploy results to static reporting site",
     "pipeline.pipeline_run_id": "c5d84876-79e0-46e1-bbd8-00737a518f44",
     "pipeline.run_environment": "ci",
     "run.retry_nr": "0",
     "task.max_nr_retries": "1",
     "task.notebook": "notebooks/benchmark-model.py",
     "task.nr_train_images": 800,
     "task.num_cpus": 1,
     "task.timeout_s": "None"
    }
   },
   "start_time": "2022-07-19T06:48:45.582822",
   "version": "2.3.3"
  }
 },
 "nbformat": 4,
 "nbformat_minor": 5
}