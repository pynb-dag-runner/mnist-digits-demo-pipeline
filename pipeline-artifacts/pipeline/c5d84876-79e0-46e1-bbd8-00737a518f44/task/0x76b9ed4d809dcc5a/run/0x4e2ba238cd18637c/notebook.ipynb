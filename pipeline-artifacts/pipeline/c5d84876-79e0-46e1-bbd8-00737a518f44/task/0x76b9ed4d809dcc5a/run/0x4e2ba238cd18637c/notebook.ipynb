{
 "cells": [
  {
   "cell_type": "markdown",
   "id": "c4e2e5eb",
   "metadata": {
    "papermill": {
     "duration": 0.006159,
     "end_time": "2022-07-19T06:49:00.607470",
     "exception": false,
     "start_time": "2022-07-19T06:49:00.601311",
     "status": "completed"
    },
    "tags": []
   },
   "source": [
    "# Benchmark model\n",
    "\n",
    "The purpose of this notebook is to benchmark persisted onnx-model (trained in the\n",
    "previous step) against evaluation set."
   ]
  },
  {
   "cell_type": "markdown",
   "id": "bbd54670",
   "metadata": {
    "papermill": {
     "duration": 0.004491,
     "end_time": "2022-07-19T06:49:00.616059",
     "exception": false,
     "start_time": "2022-07-19T06:49:00.611568",
     "status": "completed"
    },
    "tags": []
   },
   "source": [
    "### Determine run parameters"
   ]
  },
  {
   "cell_type": "code",
   "execution_count": 1,
   "id": "02c7c97f",
   "metadata": {
    "execution": {
     "iopub.execute_input": "2022-07-19T06:49:00.626666Z",
     "iopub.status.busy": "2022-07-19T06:49:00.626328Z",
     "iopub.status.idle": "2022-07-19T06:49:00.634614Z",
     "shell.execute_reply": "2022-07-19T06:49:00.633620Z"
    },
    "lines_to_next_cell": 0,
    "papermill": {
     "duration": 0.016157,
     "end_time": "2022-07-19T06:49:00.637046",
     "exception": false,
     "start_time": "2022-07-19T06:49:00.620889",
     "status": "completed"
    },
    "tags": []
   },
   "outputs": [],
   "source": [
    "# ----------------- Parameters for interactive development --------------\n",
    "P = {\n",
    "    \"pipeline.data_lake_root\": \"/pipeline-outputs/data-lake\",\n",
    "    \"task.nr_train_images\": 600,\n",
    "}"
   ]
  },
  {
   "cell_type": "code",
   "execution_count": 2,
   "id": "370a4a15",
   "metadata": {
    "execution": {
     "iopub.execute_input": "2022-07-19T06:49:00.647197Z",
     "iopub.status.busy": "2022-07-19T06:49:00.646978Z",
     "iopub.status.idle": "2022-07-19T06:49:00.649898Z",
     "shell.execute_reply": "2022-07-19T06:49:00.649394Z"
    },
    "lines_to_next_cell": 0,
    "papermill": {
     "duration": 0.010924,
     "end_time": "2022-07-19T06:49:00.652422",
     "exception": false,
     "start_time": "2022-07-19T06:49:00.641498",
     "status": "completed"
    },
    "tags": [
     "parameters"
    ]
   },
   "outputs": [],
   "source": [
    "# - During automated runs parameters will be injected in the below cell -"
   ]
  },
  {
   "cell_type": "code",
   "execution_count": 3,
   "id": "ee302ca0",
   "metadata": {
    "execution": {
     "iopub.execute_input": "2022-07-19T06:49:00.662621Z",
     "iopub.status.busy": "2022-07-19T06:49:00.662389Z",
     "iopub.status.idle": "2022-07-19T06:49:00.673565Z",
     "shell.execute_reply": "2022-07-19T06:49:00.673034Z"
    },
    "papermill": {
     "duration": 0.020197,
     "end_time": "2022-07-19T06:49:00.677753",
     "exception": false,
     "start_time": "2022-07-19T06:49:00.657556",
     "status": "completed"
    },
    "tags": [
     "injected-parameters"
    ]
   },
   "outputs": [],
   "source": [
    "# Parameters\n",
    "P = {\n",
    "    \"pipeline.data_lake_root\": \"/pipeline-outputs/data-lake\",\n",
    "    \"pipeline.run_environment\": \"ci\",\n",
    "    \"pipeline.pipeline_run_id\": \"c5d84876-79e0-46e1-bbd8-00737a518f44\",\n",
    "    \"pipeline.github.repository\": \"pynb-dag-runner/mnist-digits-demo-pipeline\",\n",
    "    \"pipeline.github.workflow\": \"Run automated tests, pipeline and deploy results to static reporting site\",\n",
    "    \"pipeline.github.runner_name\": \"Hosted Agent\",\n",
    "    \"pipeline.github.run_id\": \"2695663229\",\n",
    "    \"pipeline.github.actor\": \"matiasdahl\",\n",
    "    \"pipeline.github.job\": \"run-tests-pipeline-and-persist-pipeline-outputs\",\n",
    "    \"pipeline.github.base_ref\": \"\",\n",
    "    \"pipeline.github.head_ref\": \"\",\n",
    "    \"pipeline.github.sha\": \"147a1be9916173fd4d2cd011d8d51e3411215850\",\n",
    "    \"pipeline.github.ref\": \"refs/heads/development\",\n",
    "    \"pipeline.github.ref_type\": \"branch\",\n",
    "    \"pipeline.github.ref_name\": \"development\",\n",
    "    \"pipeline.github.event_name\": \"schedule\",\n",
    "    \"task.nr_train_images\": 1200,\n",
    "    \"task.notebook\": \"notebooks/benchmark-model.py\",\n",
    "    \"task.max_nr_retries\": \"1\",\n",
    "    \"run.retry_nr\": \"0\",\n",
    "    \"task.timeout_s\": \"None\",\n",
    "    \"task.num_cpus\": 1,\n",
    "    \"_opentelemetry_traceparent\": \"00-dfc87442c93bc941e6465acf075e7ed4-2970eb2c8f2cad65-01\",\n",
    "}\n"
   ]
  },
  {
   "cell_type": "code",
   "execution_count": 4,
   "id": "dfb7c28d",
   "metadata": {
    "execution": {
     "iopub.execute_input": "2022-07-19T06:49:00.689376Z",
     "iopub.status.busy": "2022-07-19T06:49:00.689151Z",
     "iopub.status.idle": "2022-07-19T06:49:00.691920Z",
     "shell.execute_reply": "2022-07-19T06:49:00.691415Z"
    },
    "lines_to_next_cell": 0,
    "papermill": {
     "duration": 0.012809,
     "end_time": "2022-07-19T06:49:00.695039",
     "exception": false,
     "start_time": "2022-07-19T06:49:00.682230",
     "status": "completed"
    },
    "tags": []
   },
   "outputs": [],
   "source": [
    "# -----------------------------------------------------------------------"
   ]
  },
  {
   "cell_type": "markdown",
   "id": "8beb3c62",
   "metadata": {
    "papermill": {
     "duration": 0.003861,
     "end_time": "2022-07-19T06:49:00.702833",
     "exception": false,
     "start_time": "2022-07-19T06:49:00.698972",
     "status": "completed"
    },
    "tags": []
   },
   "source": [
    "---"
   ]
  },
  {
   "cell_type": "markdown",
   "id": "6438cf5a",
   "metadata": {
    "lines_to_next_cell": 2,
    "papermill": {
     "duration": 0.003849,
     "end_time": "2022-07-19T06:49:00.711335",
     "exception": false,
     "start_time": "2022-07-19T06:49:00.707486",
     "status": "completed"
    },
    "tags": []
   },
   "source": [
    "### Notebook code"
   ]
  },
  {
   "cell_type": "code",
   "execution_count": 5,
   "id": "e56e8ce6",
   "metadata": {
    "execution": {
     "iopub.execute_input": "2022-07-19T06:49:00.721205Z",
     "iopub.status.busy": "2022-07-19T06:49:00.720971Z",
     "iopub.status.idle": "2022-07-19T06:49:01.911146Z",
     "shell.execute_reply": "2022-07-19T06:49:01.910449Z"
    },
    "papermill": {
     "duration": 1.196981,
     "end_time": "2022-07-19T06:49:01.913069",
     "exception": false,
     "start_time": "2022-07-19T06:49:00.716088",
     "status": "completed"
    },
    "tags": []
   },
   "outputs": [
    {
     "name": "stderr",
     "output_type": "stream",
     "text": [
      "2022-07-19 06:49:01,749\tINFO worker.py:842 -- Connecting to existing Ray cluster at address: 172.17.0.2:6379\n"
     ]
    }
   ],
   "source": [
    "import itertools as it\n",
    "\n",
    "#\n",
    "import numpy as np\n",
    "import matplotlib.pyplot as plt\n",
    "\n",
    "#\n",
    "from pynb_dag_runner.tasks.task_opentelemetry_logging import PydarLogger\n",
    "\n",
    "#\n",
    "from common.io import datalake_root\n",
    "\n",
    "logger = PydarLogger(P)"
   ]
  },
  {
   "cell_type": "markdown",
   "id": "9b7e2678",
   "metadata": {
    "papermill": {
     "duration": 0.004785,
     "end_time": "2022-07-19T06:49:01.922532",
     "exception": false,
     "start_time": "2022-07-19T06:49:01.917747",
     "status": "completed"
    },
    "tags": []
   },
   "source": [
    "## Load persisted onnx-model and evaluation data"
   ]
  },
  {
   "cell_type": "code",
   "execution_count": 6,
   "id": "e7dfae23",
   "metadata": {
    "execution": {
     "iopub.execute_input": "2022-07-19T06:49:01.932703Z",
     "iopub.status.busy": "2022-07-19T06:49:01.932377Z",
     "iopub.status.idle": "2022-07-19T06:49:01.935801Z",
     "shell.execute_reply": "2022-07-19T06:49:01.935153Z"
    },
    "papermill": {
     "duration": 0.011966,
     "end_time": "2022-07-19T06:49:01.938734",
     "exception": false,
     "start_time": "2022-07-19T06:49:01.926768",
     "status": "completed"
    },
    "tags": []
   },
   "outputs": [],
   "source": [
    "from common.io import read_onnx, get_onnx_inputs, get_onnx_outputs, read_numpy"
   ]
  },
  {
   "cell_type": "code",
   "execution_count": 7,
   "id": "9615a495",
   "metadata": {
    "execution": {
     "iopub.execute_input": "2022-07-19T06:49:01.948671Z",
     "iopub.status.busy": "2022-07-19T06:49:01.948462Z",
     "iopub.status.idle": "2022-07-19T06:49:01.959902Z",
     "shell.execute_reply": "2022-07-19T06:49:01.959311Z"
    },
    "lines_to_next_cell": 0,
    "papermill": {
     "duration": 0.018617,
     "end_time": "2022-07-19T06:49:01.961844",
     "exception": false,
     "start_time": "2022-07-19T06:49:01.943227",
     "status": "completed"
    },
    "tags": []
   },
   "outputs": [],
   "source": [
    "onnx_inference_session = read_onnx(\n",
    "    datalake_root(P)\n",
    "    / \"models\"\n",
    "    / f\"nr_train_images={P['task.nr_train_images']}\"\n",
    "    / \"model.onnx\"\n",
    ")"
   ]
  },
  {
   "cell_type": "markdown",
   "id": "45a20c7e",
   "metadata": {
    "papermill": {
     "duration": 0.004965,
     "end_time": "2022-07-19T06:49:01.971411",
     "exception": false,
     "start_time": "2022-07-19T06:49:01.966446",
     "status": "completed"
    },
    "tags": []
   },
   "source": [
    "### Record structure of inputs and outputs for ONNX model\n",
    "\n",
    "(this should likely be done in training notebook)"
   ]
  },
  {
   "cell_type": "code",
   "execution_count": 8,
   "id": "659a7e91",
   "metadata": {
    "execution": {
     "iopub.execute_input": "2022-07-19T06:49:01.980992Z",
     "iopub.status.busy": "2022-07-19T06:49:01.980755Z",
     "iopub.status.idle": "2022-07-19T06:49:01.986166Z",
     "shell.execute_reply": "2022-07-19T06:49:01.985580Z"
    },
    "papermill": {
     "duration": 0.013984,
     "end_time": "2022-07-19T06:49:01.989569",
     "exception": false,
     "start_time": "2022-07-19T06:49:01.975585",
     "status": "completed"
    },
    "tags": []
   },
   "outputs": [
    {
     "name": "stdout",
     "output_type": "stream",
     "text": [
      "{\n",
      "  \"inputs\": [\n",
      "    {\n",
      "      \"name\": \"float_input_8x8_image\",\n",
      "      \"shape\": [\n",
      "        null,\n",
      "        64\n",
      "      ],\n",
      "      \"type\": \"tensor(float)\"\n",
      "    }\n",
      "  ],\n",
      "  \"outputs\": [\n",
      "    {\n",
      "      \"name\": \"output_label\",\n",
      "      \"shape\": [\n",
      "        null\n",
      "      ],\n",
      "      \"type\": \"tensor(int64)\"\n",
      "    },\n",
      "    {\n",
      "      \"name\": \"output_probability\",\n",
      "      \"shape\": [],\n",
      "      \"type\": \"seq(map(int64,tensor(float)))\"\n",
      "    }\n",
      "  ]\n",
      "}\n"
     ]
    }
   ],
   "source": [
    "import json\n",
    "\n",
    "onnx_io = json.dumps(\n",
    "    {\n",
    "        \"inputs\": get_onnx_inputs(onnx_inference_session),\n",
    "        \"outputs\": get_onnx_outputs(onnx_inference_session),\n",
    "    },\n",
    "    indent=2,\n",
    ")\n",
    "\n",
    "\n",
    "logger.log_artefact(\"onnx_io_structure.json\", onnx_io)\n",
    "print(onnx_io)"
   ]
  },
  {
   "cell_type": "markdown",
   "id": "b89f4c02",
   "metadata": {
    "papermill": {
     "duration": 0.004645,
     "end_time": "2022-07-19T06:49:01.998884",
     "exception": false,
     "start_time": "2022-07-19T06:49:01.994239",
     "status": "completed"
    },
    "tags": []
   },
   "source": [
    "### Evaluate model performance on evaluation data set"
   ]
  },
  {
   "cell_type": "code",
   "execution_count": 9,
   "id": "2470ec51",
   "metadata": {
    "execution": {
     "iopub.execute_input": "2022-07-19T06:49:02.008283Z",
     "iopub.status.busy": "2022-07-19T06:49:02.008050Z",
     "iopub.status.idle": "2022-07-19T06:49:02.012734Z",
     "shell.execute_reply": "2022-07-19T06:49:02.012143Z"
    },
    "papermill": {
     "duration": 0.012367,
     "end_time": "2022-07-19T06:49:02.015329",
     "exception": false,
     "start_time": "2022-07-19T06:49:02.002962",
     "status": "completed"
    },
    "tags": []
   },
   "outputs": [],
   "source": [
    "# load evaluation data\n",
    "X_test = read_numpy(datalake_root(P) / \"test-data\" / \"digits.numpy\")\n",
    "y_test = read_numpy(datalake_root(P) / \"test-data\" / \"labels.numpy\")"
   ]
  },
  {
   "cell_type": "code",
   "execution_count": 10,
   "id": "cc4e67c5",
   "metadata": {
    "execution": {
     "iopub.execute_input": "2022-07-19T06:49:02.025449Z",
     "iopub.status.busy": "2022-07-19T06:49:02.025240Z",
     "iopub.status.idle": "2022-07-19T06:49:02.039843Z",
     "shell.execute_reply": "2022-07-19T06:49:02.039161Z"
    },
    "papermill": {
     "duration": 0.021855,
     "end_time": "2022-07-19T06:49:02.041677",
     "exception": false,
     "start_time": "2022-07-19T06:49:02.019822",
     "status": "completed"
    },
    "tags": []
   },
   "outputs": [],
   "source": [
    "def get_model_outputs(X, onnx_inference_session):\n",
    "    y_pred_labels, y_pred_map = onnx_inference_session.run(\n",
    "        [\"output_label\", \"output_probability\"],\n",
    "        {\"float_input_8x8_image\": X.astype(np.float32)},\n",
    "    )\n",
    "    y_pred_probs = np.array(\n",
    "        [[probabilities[digit] for digit in range(10)] for probabilities in y_pred_map]\n",
    "    )\n",
    "\n",
    "    assert y_pred_labels.shape == (X.shape[0],)\n",
    "    assert y_pred_probs.shape == (X.shape[0], 10)\n",
    "\n",
    "    return y_pred_labels, y_pred_probs\n",
    "\n",
    "\n",
    "# Note: as shown in the training notebook, the predicted labels and probabilities\n",
    "# computed below need not be compatible.\n",
    "y_pred_labels_test, y_pred_probs_test = get_model_outputs(\n",
    "    X_test, onnx_inference_session\n",
    ")"
   ]
  },
  {
   "cell_type": "markdown",
   "id": "325f13a7",
   "metadata": {
    "papermill": {
     "duration": 0.004502,
     "end_time": "2022-07-19T06:49:02.050726",
     "exception": false,
     "start_time": "2022-07-19T06:49:02.046224",
     "status": "completed"
    },
    "tags": []
   },
   "source": [
    "### Confusion matrix"
   ]
  },
  {
   "cell_type": "code",
   "execution_count": 11,
   "id": "65334f6c",
   "metadata": {
    "execution": {
     "iopub.execute_input": "2022-07-19T06:49:02.060789Z",
     "iopub.status.busy": "2022-07-19T06:49:02.059973Z",
     "iopub.status.idle": "2022-07-19T06:49:02.063357Z",
     "shell.execute_reply": "2022-07-19T06:49:02.062661Z"
    },
    "papermill": {
     "duration": 0.010808,
     "end_time": "2022-07-19T06:49:02.065945",
     "exception": false,
     "start_time": "2022-07-19T06:49:02.055137",
     "status": "completed"
    },
    "tags": []
   },
   "outputs": [],
   "source": [
    "# TODO"
   ]
  },
  {
   "cell_type": "markdown",
   "id": "3d920824",
   "metadata": {
    "papermill": {
     "duration": 0.004848,
     "end_time": "2022-07-19T06:49:02.075934",
     "exception": false,
     "start_time": "2022-07-19T06:49:02.071086",
     "status": "completed"
    },
    "tags": []
   },
   "source": [
    "### Plot predicted probabilities for each classifier over all evaluation digit images"
   ]
  },
  {
   "cell_type": "code",
   "execution_count": 12,
   "id": "0289bcc2",
   "metadata": {
    "execution": {
     "iopub.execute_input": "2022-07-19T06:49:02.086371Z",
     "iopub.status.busy": "2022-07-19T06:49:02.086134Z",
     "iopub.status.idle": "2022-07-19T06:49:05.248684Z",
     "shell.execute_reply": "2022-07-19T06:49:05.247915Z"
    },
    "papermill": {
     "duration": 3.170561,
     "end_time": "2022-07-19T06:49:05.250629",
     "exception": false,
     "start_time": "2022-07-19T06:49:02.080068",
     "status": "completed"
    },
    "tags": []
   },
   "outputs": [
    {
     "data": {
      "image/png": "[encoded data removed]",
      "text/plain": [
       "<Figure size 1152x432 with 10 Axes>"
      ]
     },
     "metadata": {
      "needs_background": "light"
     },
     "output_type": "display_data"
    }
   ],
   "source": [
    "def plot_per_digit_probabilities(y_pred_probs):\n",
    "    fig, axs = plt.subplots(nrows=2, ncols=5, figsize=(16, 6))\n",
    "\n",
    "    for (r, c), digit, ax in zip(\n",
    "        it.product(range(2), range(5)), range(10), axs.reshape(-1)\n",
    "    ):\n",
    "        ax.hist(y_pred_probs_test[:, digit], bins=20)\n",
    "\n",
    "        ax.set_title(f\"Digit {digit}\")\n",
    "        if r == 1 and c == 2:\n",
    "            ax.set_xlabel(\"probability\", fontsize=16)\n",
    "\n",
    "        if c == 0:\n",
    "            ax.set_ylabel(\"counts\", fontsize=16)\n",
    "        ax.set_yscale(\"log\")\n",
    "\n",
    "    fig.tight_layout()\n",
    "    fig.suptitle(\n",
    "        f\"Distributions of prediction probabilities for each digit \"\n",
    "        f\"(on evaluation data, n={y_pred_probs.shape[0]})\",\n",
    "        fontsize=20,\n",
    "    )\n",
    "    fig.tight_layout()\n",
    "    fig.show()\n",
    "\n",
    "    return fig\n",
    "\n",
    "\n",
    "fig = plot_per_digit_probabilities(y_pred_probs_test)"
   ]
  },
  {
   "cell_type": "markdown",
   "id": "fda2a6b3",
   "metadata": {
    "papermill": {
     "duration": 0.004511,
     "end_time": "2022-07-19T06:49:05.260229",
     "exception": false,
     "start_time": "2022-07-19T06:49:05.255718",
     "status": "completed"
    },
    "tags": []
   },
   "source": [
    "From the above distributions we see that most digits have clear separation between\n",
    "high and lower probabilities. Morover, in each case there is roughly an order of\n",
    "magnitude more of digits with low probabilities. This is compatible with digits\n",
    "being roughly evenly distributed in the data."
   ]
  },
  {
   "cell_type": "code",
   "execution_count": 13,
   "id": "dd7cfb94",
   "metadata": {
    "execution": {
     "iopub.execute_input": "2022-07-19T06:49:05.270596Z",
     "iopub.status.busy": "2022-07-19T06:49:05.270150Z",
     "iopub.status.idle": "2022-07-19T06:49:05.673931Z",
     "shell.execute_reply": "2022-07-19T06:49:05.673261Z"
    },
    "papermill": {
     "duration": 0.4111,
     "end_time": "2022-07-19T06:49:05.675766",
     "exception": false,
     "start_time": "2022-07-19T06:49:05.264666",
     "status": "completed"
    },
    "tags": []
   },
   "outputs": [],
   "source": [
    "logger.log_figure(\"per-digit-probabilities.png\", fig)"
   ]
  },
  {
   "cell_type": "markdown",
   "id": "c835da66",
   "metadata": {
    "papermill": {
     "duration": 0.004767,
     "end_time": "2022-07-19T06:49:05.685353",
     "exception": false,
     "start_time": "2022-07-19T06:49:05.680586",
     "status": "completed"
    },
    "tags": []
   },
   "source": [
    "### Plot ROC curves for individual one-vs-rest classifiers"
   ]
  },
  {
   "cell_type": "code",
   "execution_count": 14,
   "id": "ba5b8688",
   "metadata": {
    "execution": {
     "iopub.execute_input": "2022-07-19T06:49:05.696488Z",
     "iopub.status.busy": "2022-07-19T06:49:05.696074Z",
     "iopub.status.idle": "2022-07-19T06:49:06.061056Z",
     "shell.execute_reply": "2022-07-19T06:49:06.060279Z"
    },
    "papermill": {
     "duration": 0.372283,
     "end_time": "2022-07-19T06:49:06.062790",
     "exception": false,
     "start_time": "2022-07-19T06:49:05.690507",
     "status": "completed"
    },
    "tags": []
   },
   "outputs": [],
   "source": [
    "from sklearn import metrics"
   ]
  },
  {
   "cell_type": "code",
   "execution_count": 15,
   "id": "9cec2836",
   "metadata": {
    "execution": {
     "iopub.execute_input": "2022-07-19T06:49:06.073733Z",
     "iopub.status.busy": "2022-07-19T06:49:06.073281Z",
     "iopub.status.idle": "2022-07-19T06:49:07.064215Z",
     "shell.execute_reply": "2022-07-19T06:49:07.063515Z"
    },
    "papermill": {
     "duration": 0.998429,
     "end_time": "2022-07-19T06:49:07.065967",
     "exception": false,
     "start_time": "2022-07-19T06:49:06.067538",
     "status": "completed"
    },
    "tags": []
   },
   "outputs": [
    {
     "data": {
      "image/png": "[encoded data removed]",
      "text/plain": [
       "<Figure size 1152x576 with 10 Axes>"
      ]
     },
     "metadata": {
      "needs_background": "light"
     },
     "output_type": "display_data"
    }
   ],
   "source": [
    "def plot_roc_curves(y, y_pred_probs):\n",
    "    # based on example code\n",
    "    # https://scikit-learn.org/stable/auto_examples/model_selection/plot_roc.html\n",
    "\n",
    "    fig, axs = plt.subplots(nrows=2, ncols=5, figsize=(16, 8))\n",
    "\n",
    "    roc_auc_dict = {}\n",
    "\n",
    "    for (r, c), digit, ax in zip(\n",
    "        it.product(range(2), range(5)), range(10), axs.reshape(-1)\n",
    "    ):\n",
    "        fpr, tpr, _ = metrics.roc_curve(y == digit, y_pred_probs[:, digit])\n",
    "        auc = metrics.auc(fpr, tpr)\n",
    "        roc_auc_dict[str(digit)] = auc\n",
    "\n",
    "        ax.plot(fpr, tpr, label=f\"ROC AUC={round(auc, 3)}\")\n",
    "\n",
    "        ax.set_title(f\"\\nDigit {digit}\", fontsize=16)\n",
    "        if r == 1:\n",
    "            ax.set_xlabel(\"FPR\", fontsize=18)\n",
    "\n",
    "        if c == 0:\n",
    "            ax.set_ylabel(\"TPR\", fontsize=18)\n",
    "\n",
    "        ax.set_xlim([-0.05, 1.05])\n",
    "        ax.set_ylim([-0.05, 1.05])\n",
    "        ax.legend(loc=\"lower right\", frameon=False, fontsize=14)\n",
    "\n",
    "    fig.tight_layout()\n",
    "    fig.suptitle(\n",
    "        f\"ROC plots for one-vs-rest performances \"\n",
    "        f\"(on evaluation data, n={y_pred_probs_test.shape[1]}\",\n",
    "        fontsize=22,\n",
    "    )\n",
    "    fig.tight_layout()\n",
    "    fig.show()\n",
    "\n",
    "    return roc_auc_dict, fig\n",
    "\n",
    "\n",
    "roc_auc_dict, fig = plot_roc_curves(y_test, y_pred_probs_test)"
   ]
  },
  {
   "cell_type": "code",
   "execution_count": 16,
   "id": "519e5862",
   "metadata": {
    "execution": {
     "iopub.execute_input": "2022-07-19T06:49:07.078684Z",
     "iopub.status.busy": "2022-07-19T06:49:07.078120Z",
     "iopub.status.idle": "2022-07-19T06:49:07.280138Z",
     "shell.execute_reply": "2022-07-19T06:49:07.279104Z"
    },
    "papermill": {
     "duration": 0.210578,
     "end_time": "2022-07-19T06:49:07.282167",
     "exception": false,
     "start_time": "2022-07-19T06:49:07.071589",
     "status": "completed"
    },
    "tags": []
   },
   "outputs": [],
   "source": [
    "logger.log_figure(\"per-digit-roc-curves.png\", fig)"
   ]
  },
  {
   "cell_type": "code",
   "execution_count": 17,
   "id": "ef691df9",
   "metadata": {
    "execution": {
     "iopub.execute_input": "2022-07-19T06:49:07.295406Z",
     "iopub.status.busy": "2022-07-19T06:49:07.295021Z",
     "iopub.status.idle": "2022-07-19T06:49:07.300190Z",
     "shell.execute_reply": "2022-07-19T06:49:07.299383Z"
    },
    "papermill": {
     "duration": 0.014809,
     "end_time": "2022-07-19T06:49:07.302889",
     "exception": false,
     "start_time": "2022-07-19T06:49:07.288080",
     "status": "completed"
    },
    "tags": []
   },
   "outputs": [
    {
     "data": {
      "text/plain": [
       "{'0': 1.0,\n",
       " '1': 0.998987816307404,\n",
       " '2': 1.0,\n",
       " '3': 0.9998500468603562,\n",
       " '4': 0.9997332723670173,\n",
       " '5': 0.9996626054358013,\n",
       " '6': 0.999923792104862,\n",
       " '7': 0.9998475842097242,\n",
       " '8': 0.9957440100882724,\n",
       " '9': 0.9997713763145862}"
      ]
     },
     "execution_count": 17,
     "metadata": {},
     "output_type": "execute_result"
    }
   ],
   "source": [
    "roc_auc_dict"
   ]
  },
  {
   "cell_type": "code",
   "execution_count": 18,
   "id": "25328c03",
   "metadata": {
    "execution": {
     "iopub.execute_input": "2022-07-19T06:49:07.315543Z",
     "iopub.status.busy": "2022-07-19T06:49:07.315137Z",
     "iopub.status.idle": "2022-07-19T06:49:07.320946Z",
     "shell.execute_reply": "2022-07-19T06:49:07.320092Z"
    },
    "papermill": {
     "duration": 0.014127,
     "end_time": "2022-07-19T06:49:07.322491",
     "exception": false,
     "start_time": "2022-07-19T06:49:07.308364",
     "status": "completed"
    },
    "tags": []
   },
   "outputs": [
    {
     "name": "stdout",
     "output_type": "stream",
     "text": [
      " - Logging roc_auc_per_digit (json) : {'0': 1.0, '1': 0.998987816307404, '2': 1.0, '3': 0.9998500468603562, '4': 0.9997332723670173, '5': 0.9996626054358013, '6': 0.999923792104862, '7': 0.9998475842097242, '8': 0.9957440100882724, '9': 0.9997713763145862}\n"
     ]
    }
   ],
   "source": [
    "logger.log_value(\"roc_auc_per_digit\", roc_auc_dict)"
   ]
  },
  {
   "cell_type": "markdown",
   "id": "7c439302",
   "metadata": {
    "papermill": {
     "duration": 0.005677,
     "end_time": "2022-07-19T06:49:07.333876",
     "exception": false,
     "start_time": "2022-07-19T06:49:07.328199",
     "status": "completed"
    },
    "tags": []
   },
   "source": [
    "### Compute and log mean ROC AUC score averaged over all digits"
   ]
  },
  {
   "cell_type": "code",
   "execution_count": 19,
   "id": "43ac3926",
   "metadata": {
    "execution": {
     "iopub.execute_input": "2022-07-19T06:49:07.347461Z",
     "iopub.status.busy": "2022-07-19T06:49:07.347051Z",
     "iopub.status.idle": "2022-07-19T06:49:07.358355Z",
     "shell.execute_reply": "2022-07-19T06:49:07.357635Z"
    },
    "papermill": {
     "duration": 0.020539,
     "end_time": "2022-07-19T06:49:07.360620",
     "exception": false,
     "start_time": "2022-07-19T06:49:07.340081",
     "status": "completed"
    },
    "tags": []
   },
   "outputs": [
    {
     "name": "stdout",
     "output_type": "stream",
     "text": [
      " - Logging roc_auc_class_mean (float) : 0.9993520503688023\n"
     ]
    }
   ],
   "source": [
    "roc_auc_macro = np.mean(list(roc_auc_dict.values()))\n",
    "\n",
    "logger.log_float(\"roc_auc_class_mean\", roc_auc_macro)\n",
    "\n",
    "# assert that the same value can be computed directly using sklearn\n",
    "assert roc_auc_macro == metrics.roc_auc_score(\n",
    "    y_test, y_pred_probs_test, average=\"macro\", multi_class=\"ovr\"\n",
    ")"
   ]
  },
  {
   "cell_type": "code",
   "execution_count": 20,
   "id": "8efafd2f",
   "metadata": {
    "execution": {
     "iopub.execute_input": "2022-07-19T06:49:07.372830Z",
     "iopub.status.busy": "2022-07-19T06:49:07.372601Z",
     "iopub.status.idle": "2022-07-19T06:49:07.375345Z",
     "shell.execute_reply": "2022-07-19T06:49:07.374681Z"
    },
    "lines_to_next_cell": 0,
    "papermill": {
     "duration": 0.010841,
     "end_time": "2022-07-19T06:49:07.376919",
     "exception": false,
     "start_time": "2022-07-19T06:49:07.366078",
     "status": "completed"
    },
    "tags": []
   },
   "outputs": [],
   "source": [
    "# ---"
   ]
  },
  {
   "cell_type": "code",
   "execution_count": null,
   "id": "18d0cadf",
   "metadata": {
    "papermill": {
     "duration": 0.005429,
     "end_time": "2022-07-19T06:49:07.387843",
     "exception": false,
     "start_time": "2022-07-19T06:49:07.382414",
     "status": "completed"
    },
    "tags": []
   },
   "outputs": [],
   "source": []
  }
 ],
 "metadata": {
  "jupytext": {
   "cell_metadata_filter": "tags,-all",
   "main_language": "python",
   "notebook_metadata_filter": "-all"
  },
  "language_info": {
   "codemirror_mode": {
    "name": "ipython",
    "version": 3
   },
   "file_extension": ".py",
   "mimetype": "text/x-python",
   "name": "python",
   "nbconvert_exporter": "python",
   "pygments_lexer": "ipython3",
   "version": "3.8.10"
  },
  "papermill": {
   "default_parameters": {},
   "duration": 9.342318,
   "end_time": "2022-07-19T06:49:08.512940",
   "environment_variables": {},
   "exception": null,
   "input_path": "/home/host_user/workspace/mnist-demo-pipeline/mnist-demo-pipeline/notebooks/temp-notebook-nhl_2wt8.ipynb",
   "output_path": "notebooks/benchmark-model.ipynb",
   "parameters": {
    "P": {
     "_opentelemetry_traceparent": "00-dfc87442c93bc941e6465acf075e7ed4-2970eb2c8f2cad65-01",
     "pipeline.data_lake_root": "/pipeline-outputs/data-lake",
     "pipeline.github.actor": "matiasdahl",
     "pipeline.github.base_ref": "",
     "pipeline.github.event_name": "schedule",
     "pipeline.github.head_ref": "",
     "pipeline.github.job": "run-tests-pipeline-and-persist-pipeline-outputs",
     "pipeline.github.ref": "refs/heads/development",
     "pipeline.github.ref_name": "development",
     "pipeline.github.ref_type": "branch",
     "pipeline.github.repository": "pynb-dag-runner/mnist-digits-demo-pipeline",
     "pipeline.github.run_id": "2695663229",
     "pipeline.github.runner_name": "Hosted Agent",
     "pipeline.github.sha": "147a1be9916173fd4d2cd011d8d51e3411215850",
     "pipeline.github.workflow": "Run automated tests, pipeline and deploy results to static reporting site",
     "pipeline.pipeline_run_id": "c5d84876-79e0-46e1-bbd8-00737a518f44",
     "pipeline.run_environment": "ci",
     "run.retry_nr": "0",
     "task.max_nr_retries": "1",
     "task.notebook": "notebooks/benchmark-model.py",
     "task.nr_train_images": 1200,
     "task.num_cpus": 1,
     "task.timeout_s": "None"
    }
   },
   "start_time": "2022-07-19T06:48:59.170622",
   "version": "2.3.3"
  }
 },
 "nbformat": 4,
 "nbformat_minor": 5
}