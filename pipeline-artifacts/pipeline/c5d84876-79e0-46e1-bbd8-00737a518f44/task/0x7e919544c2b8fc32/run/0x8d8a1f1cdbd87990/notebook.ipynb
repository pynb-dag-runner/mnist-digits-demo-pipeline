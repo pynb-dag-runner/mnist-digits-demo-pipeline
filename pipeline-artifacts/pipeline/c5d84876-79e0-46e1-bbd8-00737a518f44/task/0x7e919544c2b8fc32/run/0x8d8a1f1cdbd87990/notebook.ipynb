{
 "cells": [
  {
   "cell_type": "markdown",
   "id": "51d71f12",
   "metadata": {
    "papermill": {
     "duration": 0.006567,
     "end_time": "2022-07-19T06:48:29.699019",
     "exception": false,
     "start_time": "2022-07-19T06:48:29.692452",
     "status": "completed"
    },
    "tags": []
   },
   "source": [
    "# Split digits and labels into separate training and testing data sets"
   ]
  },
  {
   "cell_type": "markdown",
   "id": "541276ac",
   "metadata": {
    "papermill": {
     "duration": 0.002232,
     "end_time": "2022-07-19T06:48:29.708641",
     "exception": false,
     "start_time": "2022-07-19T06:48:29.706409",
     "status": "completed"
    },
    "tags": []
   },
   "source": [
    "### Determine run parameters"
   ]
  },
  {
   "cell_type": "code",
   "execution_count": 1,
   "id": "b67f24d2",
   "metadata": {
    "execution": {
     "iopub.execute_input": "2022-07-19T06:48:29.715895Z",
     "iopub.status.busy": "2022-07-19T06:48:29.715581Z",
     "iopub.status.idle": "2022-07-19T06:48:29.724079Z",
     "shell.execute_reply": "2022-07-19T06:48:29.723558Z"
    },
    "lines_to_next_cell": 0,
    "papermill": {
     "duration": 0.014073,
     "end_time": "2022-07-19T06:48:29.726038",
     "exception": false,
     "start_time": "2022-07-19T06:48:29.711965",
     "status": "completed"
    },
    "tags": []
   },
   "outputs": [],
   "source": [
    "# ----------------- Parameters for interactive development --------------\n",
    "P = {\n",
    "    \"pipeline.data_lake_root\": \"/pipeline-outputs/data-lake\",\n",
    "    \"task.train_test_ratio\": 0.7,\n",
    "}"
   ]
  },
  {
   "cell_type": "code",
   "execution_count": 2,
   "id": "410e0879",
   "metadata": {
    "execution": {
     "iopub.execute_input": "2022-07-19T06:48:29.731567Z",
     "iopub.status.busy": "2022-07-19T06:48:29.731371Z",
     "iopub.status.idle": "2022-07-19T06:48:29.734073Z",
     "shell.execute_reply": "2022-07-19T06:48:29.733585Z"
    },
    "lines_to_next_cell": 0,
    "papermill": {
     "duration": 0.008163,
     "end_time": "2022-07-19T06:48:29.736407",
     "exception": false,
     "start_time": "2022-07-19T06:48:29.728244",
     "status": "completed"
    },
    "tags": [
     "parameters"
    ]
   },
   "outputs": [],
   "source": [
    "# - During automated runs parameters will be injected in the below cell -"
   ]
  },
  {
   "cell_type": "code",
   "execution_count": 3,
   "id": "3ea6bec8",
   "metadata": {
    "execution": {
     "iopub.execute_input": "2022-07-19T06:48:29.742055Z",
     "iopub.status.busy": "2022-07-19T06:48:29.741857Z",
     "iopub.status.idle": "2022-07-19T06:48:29.745971Z",
     "shell.execute_reply": "2022-07-19T06:48:29.745495Z"
    },
    "papermill": {
     "duration": 0.009455,
     "end_time": "2022-07-19T06:48:29.748216",
     "exception": false,
     "start_time": "2022-07-19T06:48:29.738761",
     "status": "completed"
    },
    "tags": [
     "injected-parameters"
    ]
   },
   "outputs": [],
   "source": [
    "# Parameters\n",
    "P = {\n",
    "    \"pipeline.data_lake_root\": \"/pipeline-outputs/data-lake\",\n",
    "    \"pipeline.run_environment\": \"ci\",\n",
    "    \"pipeline.pipeline_run_id\": \"c5d84876-79e0-46e1-bbd8-00737a518f44\",\n",
    "    \"pipeline.github.repository\": \"pynb-dag-runner/mnist-digits-demo-pipeline\",\n",
    "    \"pipeline.github.workflow\": \"Run automated tests, pipeline and deploy results to static reporting site\",\n",
    "    \"pipeline.github.runner_name\": \"Hosted Agent\",\n",
    "    \"pipeline.github.run_id\": \"2695663229\",\n",
    "    \"pipeline.github.actor\": \"matiasdahl\",\n",
    "    \"pipeline.github.job\": \"run-tests-pipeline-and-persist-pipeline-outputs\",\n",
    "    \"pipeline.github.base_ref\": \"\",\n",
    "    \"pipeline.github.head_ref\": \"\",\n",
    "    \"pipeline.github.sha\": \"147a1be9916173fd4d2cd011d8d51e3411215850\",\n",
    "    \"pipeline.github.ref\": \"refs/heads/development\",\n",
    "    \"pipeline.github.ref_type\": \"branch\",\n",
    "    \"pipeline.github.ref_name\": \"development\",\n",
    "    \"pipeline.github.event_name\": \"schedule\",\n",
    "    \"task.train_test_ratio\": 0.7,\n",
    "    \"task.notebook\": \"notebooks/split-train-test.py\",\n",
    "    \"task.max_nr_retries\": \"1\",\n",
    "    \"run.retry_nr\": \"0\",\n",
    "    \"task.timeout_s\": \"None\",\n",
    "    \"task.num_cpus\": 1,\n",
    "    \"_opentelemetry_traceparent\": \"00-dfc87442c93bc941e6465acf075e7ed4-7c0456aeb4190bf6-01\",\n",
    "}\n"
   ]
  },
  {
   "cell_type": "code",
   "execution_count": 4,
   "id": "5cd6f17a",
   "metadata": {
    "execution": {
     "iopub.execute_input": "2022-07-19T06:48:29.753756Z",
     "iopub.status.busy": "2022-07-19T06:48:29.753554Z",
     "iopub.status.idle": "2022-07-19T06:48:29.757969Z",
     "shell.execute_reply": "2022-07-19T06:48:29.757167Z"
    },
    "lines_to_next_cell": 0,
    "papermill": {
     "duration": 0.009107,
     "end_time": "2022-07-19T06:48:29.759805",
     "exception": false,
     "start_time": "2022-07-19T06:48:29.750698",
     "status": "completed"
    },
    "tags": []
   },
   "outputs": [],
   "source": [
    "# -----------------------------------------------------------------------"
   ]
  },
  {
   "cell_type": "markdown",
   "id": "bee464f9",
   "metadata": {
    "papermill": {
     "duration": 0.002485,
     "end_time": "2022-07-19T06:48:29.765092",
     "exception": false,
     "start_time": "2022-07-19T06:48:29.762607",
     "status": "completed"
    },
    "tags": []
   },
   "source": [
    "---"
   ]
  },
  {
   "cell_type": "markdown",
   "id": "ef7ad77f",
   "metadata": {
    "lines_to_next_cell": 2,
    "papermill": {
     "duration": 0.002797,
     "end_time": "2022-07-19T06:48:29.770145",
     "exception": false,
     "start_time": "2022-07-19T06:48:29.767348",
     "status": "completed"
    },
    "tags": []
   },
   "source": [
    "### Notebook code"
   ]
  },
  {
   "cell_type": "code",
   "execution_count": 5,
   "id": "2697877b",
   "metadata": {
    "execution": {
     "iopub.execute_input": "2022-07-19T06:48:29.776215Z",
     "iopub.status.busy": "2022-07-19T06:48:29.776020Z",
     "iopub.status.idle": "2022-07-19T06:48:30.302218Z",
     "shell.execute_reply": "2022-07-19T06:48:30.301562Z"
    },
    "papermill": {
     "duration": 0.531218,
     "end_time": "2022-07-19T06:48:30.303935",
     "exception": false,
     "start_time": "2022-07-19T06:48:29.772717",
     "status": "completed"
    },
    "tags": []
   },
   "outputs": [
    {
     "name": "stderr",
     "output_type": "stream",
     "text": [
      "2022-07-19 06:48:30,130\tINFO worker.py:842 -- Connecting to existing Ray cluster at address: 172.17.0.2:6379\n"
     ]
    }
   ],
   "source": [
    "from common.io import datalake_root, read_numpy, write_numpy\n",
    "from pynb_dag_runner.tasks.task_opentelemetry_logging import PydarLogger\n",
    "\n",
    "logger = PydarLogger(P)"
   ]
  },
  {
   "cell_type": "markdown",
   "id": "a0a00640",
   "metadata": {
    "papermill": {
     "duration": 0.002748,
     "end_time": "2022-07-19T06:48:30.311910",
     "exception": false,
     "start_time": "2022-07-19T06:48:30.309162",
     "status": "completed"
    },
    "tags": []
   },
   "source": [
    "## Load and split digits data"
   ]
  },
  {
   "cell_type": "code",
   "execution_count": 6,
   "id": "9491a81a",
   "metadata": {
    "execution": {
     "iopub.execute_input": "2022-07-19T06:48:30.318439Z",
     "iopub.status.busy": "2022-07-19T06:48:30.318139Z",
     "iopub.status.idle": "2022-07-19T06:48:30.323233Z",
     "shell.execute_reply": "2022-07-19T06:48:30.322682Z"
    },
    "papermill": {
     "duration": 0.011341,
     "end_time": "2022-07-19T06:48:30.325565",
     "exception": false,
     "start_time": "2022-07-19T06:48:30.314224",
     "status": "completed"
    },
    "tags": []
   },
   "outputs": [],
   "source": [
    "X = read_numpy(datalake_root(P) / \"raw\" / \"digits.numpy\")\n",
    "y = read_numpy(datalake_root(P) / \"raw\" / \"labels.numpy\")"
   ]
  },
  {
   "cell_type": "code",
   "execution_count": 7,
   "id": "5af86526",
   "metadata": {
    "execution": {
     "iopub.execute_input": "2022-07-19T06:48:30.331329Z",
     "iopub.status.busy": "2022-07-19T06:48:30.331126Z",
     "iopub.status.idle": "2022-07-19T06:48:30.726137Z",
     "shell.execute_reply": "2022-07-19T06:48:30.725560Z"
    },
    "papermill": {
     "duration": 0.400176,
     "end_time": "2022-07-19T06:48:30.728099",
     "exception": false,
     "start_time": "2022-07-19T06:48:30.327923",
     "status": "completed"
    },
    "tags": []
   },
   "outputs": [],
   "source": [
    "from sklearn.model_selection import train_test_split\n",
    "\n",
    "X_train, X_test, y_train, y_test = train_test_split(\n",
    "    X,\n",
    "    y,\n",
    "    train_size=P[\"task.train_test_ratio\"],\n",
    "    test_size=None,\n",
    "    stratify=y,\n",
    "    shuffle=True,\n",
    "    random_state=1,\n",
    ")\n",
    "\n",
    "# assert nr of pixels per image is the same for all image vectors\n",
    "assert X.shape[1] == X_train.shape[1] == X_test.shape[1]\n",
    "\n",
    "# assert that the (X, y)-pairs have compatible sizes (for both train and test)\n",
    "assert X_train.shape[0] == len(y_train)\n",
    "assert X_test.shape[0] == len(y_test)\n",
    "\n",
    "# assert that all data is used\n",
    "assert len(y) == len(y_train) + len(y_test)"
   ]
  },
  {
   "cell_type": "code",
   "execution_count": 8,
   "id": "be0d59ca",
   "metadata": {
    "execution": {
     "iopub.execute_input": "2022-07-19T06:48:30.736765Z",
     "iopub.status.busy": "2022-07-19T06:48:30.736329Z",
     "iopub.status.idle": "2022-07-19T06:48:30.743857Z",
     "shell.execute_reply": "2022-07-19T06:48:30.743291Z"
    },
    "papermill": {
     "duration": 0.014282,
     "end_time": "2022-07-19T06:48:30.745373",
     "exception": false,
     "start_time": "2022-07-19T06:48:30.731091",
     "status": "completed"
    },
    "tags": []
   },
   "outputs": [
    {
     "name": "stdout",
     "output_type": "stream",
     "text": [
      " - Logging nr_digits_train (int) : 1257\n",
      " - Logging nr_digits_test (int) : 540\n"
     ]
    }
   ],
   "source": [
    "logger.log_int(\"nr_digits_train\", len(y_train))\n",
    "logger.log_int(\"nr_digits_test\", len(y_test))"
   ]
  },
  {
   "cell_type": "markdown",
   "id": "fea135df",
   "metadata": {
    "papermill": {
     "duration": 0.002898,
     "end_time": "2022-07-19T06:48:30.750810",
     "exception": false,
     "start_time": "2022-07-19T06:48:30.747912",
     "status": "completed"
    },
    "tags": []
   },
   "source": [
    "### Persist training and test data sets to separate files"
   ]
  },
  {
   "cell_type": "code",
   "execution_count": 9,
   "id": "dc65cd0c",
   "metadata": {
    "execution": {
     "iopub.execute_input": "2022-07-19T06:48:30.756946Z",
     "iopub.status.busy": "2022-07-19T06:48:30.756725Z",
     "iopub.status.idle": "2022-07-19T06:48:30.762066Z",
     "shell.execute_reply": "2022-07-19T06:48:30.761538Z"
    },
    "papermill": {
     "duration": 0.011073,
     "end_time": "2022-07-19T06:48:30.764532",
     "exception": false,
     "start_time": "2022-07-19T06:48:30.753459",
     "status": "completed"
    },
    "tags": []
   },
   "outputs": [],
   "source": [
    "write_numpy(datalake_root(P) / \"train-data\" / \"digits.numpy\", X_train)\n",
    "write_numpy(datalake_root(P) / \"train-data\" / \"labels.numpy\", y_train)\n",
    "\n",
    "#\n",
    "write_numpy(datalake_root(P) / \"test-data\" / \"digits.numpy\", X_test)\n",
    "write_numpy(datalake_root(P) / \"test-data\" / \"labels.numpy\", y_test)"
   ]
  },
  {
   "cell_type": "code",
   "execution_count": null,
   "id": "df77dfff",
   "metadata": {
    "papermill": {
     "duration": 0.002504,
     "end_time": "2022-07-19T06:48:30.769528",
     "exception": false,
     "start_time": "2022-07-19T06:48:30.767024",
     "status": "completed"
    },
    "tags": []
   },
   "outputs": [],
   "source": []
  }
 ],
 "metadata": {
  "jupytext": {
   "cell_metadata_filter": "tags,-all",
   "main_language": "python",
   "notebook_metadata_filter": "-all"
  },
  "language_info": {
   "codemirror_mode": {
    "name": "ipython",
    "version": 3
   },
   "file_extension": ".py",
   "mimetype": "text/x-python",
   "name": "python",
   "nbconvert_exporter": "python",
   "pygments_lexer": "ipython3",
   "version": "3.8.10"
  },
  "papermill": {
   "default_parameters": {},
   "duration": 3.513331,
   "end_time": "2022-07-19T06:48:31.795107",
   "environment_variables": {},
   "exception": null,
   "input_path": "/home/host_user/workspace/mnist-demo-pipeline/mnist-demo-pipeline/notebooks/temp-notebook-hrk90bm2.ipynb",
   "output_path": "notebooks/split-train-test.ipynb",
   "parameters": {
    "P": {
     "_opentelemetry_traceparent": "00-dfc87442c93bc941e6465acf075e7ed4-7c0456aeb4190bf6-01",
     "pipeline.data_lake_root": "/pipeline-outputs/data-lake",
     "pipeline.github.actor": "matiasdahl",
     "pipeline.github.base_ref": "",
     "pipeline.github.event_name": "schedule",
     "pipeline.github.head_ref": "",
     "pipeline.github.job": "run-tests-pipeline-and-persist-pipeline-outputs",
     "pipeline.github.ref": "refs/heads/development",
     "pipeline.github.ref_name": "development",
     "pipeline.github.ref_type": "branch",
     "pipeline.github.repository": "pynb-dag-runner/mnist-digits-demo-pipeline",
     "pipeline.github.run_id": "2695663229",
     "pipeline.github.runner_name": "Hosted Agent",
     "pipeline.github.sha": "147a1be9916173fd4d2cd011d8d51e3411215850",
     "pipeline.github.workflow": "Run automated tests, pipeline and deploy results to static reporting site",
     "pipeline.pipeline_run_id": "c5d84876-79e0-46e1-bbd8-00737a518f44",
     "pipeline.run_environment": "ci",
     "run.retry_nr": "0",
     "task.max_nr_retries": "1",
     "task.notebook": "notebooks/split-train-test.py",
     "task.num_cpus": 1,
     "task.timeout_s": "None",
     "task.train_test_ratio": 0.7
    }
   },
   "start_time": "2022-07-19T06:48:28.281776",
   "version": "2.3.3"
  }
 },
 "nbformat": 4,
 "nbformat_minor": 5
}