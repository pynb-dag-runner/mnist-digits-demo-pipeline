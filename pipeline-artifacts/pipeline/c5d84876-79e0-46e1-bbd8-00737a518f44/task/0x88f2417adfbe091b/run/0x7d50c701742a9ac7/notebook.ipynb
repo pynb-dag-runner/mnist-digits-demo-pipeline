{
 "cells": [
  {
   "cell_type": "markdown",
   "id": "8bac57eb",
   "metadata": {
    "papermill": {
     "duration": 0.004143,
     "end_time": "2022-07-19T06:48:38.796860",
     "exception": false,
     "start_time": "2022-07-19T06:48:38.792717",
     "status": "completed"
    },
    "tags": []
   },
   "source": [
    "# Train model\n",
    "\n",
    "The purpose of this notebook is:\n",
    "\n",
    "- Load all training data (images and labels).\n",
    "- Limit number of train images to `task.nr_train_images` (value provided as run parameter).\n",
    "- Train a support vector machine model using sklearn.\n",
    "- Persist the trained model using the ONNX format."
   ]
  },
  {
   "cell_type": "markdown",
   "id": "fcca6f99",
   "metadata": {
    "papermill": {
     "duration": 0.002692,
     "end_time": "2022-07-19T06:48:38.803589",
     "exception": false,
     "start_time": "2022-07-19T06:48:38.800897",
     "status": "completed"
    },
    "tags": []
   },
   "source": [
    "### Determine run parameters"
   ]
  },
  {
   "cell_type": "code",
   "execution_count": 1,
   "id": "2a557952",
   "metadata": {
    "execution": {
     "iopub.execute_input": "2022-07-19T06:48:38.810628Z",
     "iopub.status.busy": "2022-07-19T06:48:38.810277Z",
     "iopub.status.idle": "2022-07-19T06:48:38.825310Z",
     "shell.execute_reply": "2022-07-19T06:48:38.822168Z"
    },
    "lines_to_next_cell": 0,
    "papermill": {
     "duration": 0.021413,
     "end_time": "2022-07-19T06:48:38.827516",
     "exception": false,
     "start_time": "2022-07-19T06:48:38.806103",
     "status": "completed"
    },
    "tags": []
   },
   "outputs": [],
   "source": [
    "# ----------------- Parameters for interactive development --------------\n",
    "P = {\n",
    "    \"pipeline.data_lake_root\": \"/pipeline-outputs/data-lake\",\n",
    "    \"task.nr_train_images\": 600,\n",
    "}"
   ]
  },
  {
   "cell_type": "code",
   "execution_count": 2,
   "id": "b43a0d6c",
   "metadata": {
    "execution": {
     "iopub.execute_input": "2022-07-19T06:48:38.834840Z",
     "iopub.status.busy": "2022-07-19T06:48:38.834619Z",
     "iopub.status.idle": "2022-07-19T06:48:38.837628Z",
     "shell.execute_reply": "2022-07-19T06:48:38.836985Z"
    },
    "lines_to_next_cell": 0,
    "papermill": {
     "duration": 0.009951,
     "end_time": "2022-07-19T06:48:38.840754",
     "exception": false,
     "start_time": "2022-07-19T06:48:38.830803",
     "status": "completed"
    },
    "tags": [
     "parameters"
    ]
   },
   "outputs": [],
   "source": [
    "# - During automated runs parameters will be injected in the below cell -"
   ]
  },
  {
   "cell_type": "code",
   "execution_count": 3,
   "id": "1d1e784a",
   "metadata": {
    "execution": {
     "iopub.execute_input": "2022-07-19T06:48:38.847938Z",
     "iopub.status.busy": "2022-07-19T06:48:38.847737Z",
     "iopub.status.idle": "2022-07-19T06:48:38.852230Z",
     "shell.execute_reply": "2022-07-19T06:48:38.851726Z"
    },
    "papermill": {
     "duration": 0.010829,
     "end_time": "2022-07-19T06:48:38.855014",
     "exception": false,
     "start_time": "2022-07-19T06:48:38.844185",
     "status": "completed"
    },
    "tags": [
     "injected-parameters"
    ]
   },
   "outputs": [],
   "source": [
    "# Parameters\n",
    "P = {\n",
    "    \"pipeline.data_lake_root\": \"/pipeline-outputs/data-lake\",\n",
    "    \"pipeline.run_environment\": \"ci\",\n",
    "    \"pipeline.pipeline_run_id\": \"c5d84876-79e0-46e1-bbd8-00737a518f44\",\n",
    "    \"pipeline.github.repository\": \"pynb-dag-runner/mnist-digits-demo-pipeline\",\n",
    "    \"pipeline.github.workflow\": \"Run automated tests, pipeline and deploy results to static reporting site\",\n",
    "    \"pipeline.github.runner_name\": \"Hosted Agent\",\n",
    "    \"pipeline.github.run_id\": \"2695663229\",\n",
    "    \"pipeline.github.actor\": \"matiasdahl\",\n",
    "    \"pipeline.github.job\": \"run-tests-pipeline-and-persist-pipeline-outputs\",\n",
    "    \"pipeline.github.base_ref\": \"\",\n",
    "    \"pipeline.github.head_ref\": \"\",\n",
    "    \"pipeline.github.sha\": \"147a1be9916173fd4d2cd011d8d51e3411215850\",\n",
    "    \"pipeline.github.ref\": \"refs/heads/development\",\n",
    "    \"pipeline.github.ref_type\": \"branch\",\n",
    "    \"pipeline.github.ref_name\": \"development\",\n",
    "    \"pipeline.github.event_name\": \"schedule\",\n",
    "    \"task.nr_train_images\": 600,\n",
    "    \"task.notebook\": \"notebooks/train-model.py\",\n",
    "    \"task.max_nr_retries\": \"1\",\n",
    "    \"run.retry_nr\": \"0\",\n",
    "    \"task.timeout_s\": \"None\",\n",
    "    \"task.num_cpus\": 1,\n",
    "    \"_opentelemetry_traceparent\": \"00-dfc87442c93bc941e6465acf075e7ed4-d59753efc275cf2c-01\",\n",
    "}\n"
   ]
  },
  {
   "cell_type": "code",
   "execution_count": 4,
   "id": "12779f69",
   "metadata": {
    "execution": {
     "iopub.execute_input": "2022-07-19T06:48:38.862227Z",
     "iopub.status.busy": "2022-07-19T06:48:38.862027Z",
     "iopub.status.idle": "2022-07-19T06:48:38.864790Z",
     "shell.execute_reply": "2022-07-19T06:48:38.864270Z"
    },
    "lines_to_next_cell": 0,
    "papermill": {
     "duration": 0.00912,
     "end_time": "2022-07-19T06:48:38.867184",
     "exception": false,
     "start_time": "2022-07-19T06:48:38.858064",
     "status": "completed"
    },
    "tags": []
   },
   "outputs": [],
   "source": [
    "# -----------------------------------------------------------------------"
   ]
  },
  {
   "cell_type": "markdown",
   "id": "cd427130",
   "metadata": {
    "papermill": {
     "duration": 0.003111,
     "end_time": "2022-07-19T06:48:38.873349",
     "exception": false,
     "start_time": "2022-07-19T06:48:38.870238",
     "status": "completed"
    },
    "tags": []
   },
   "source": [
    "---"
   ]
  },
  {
   "cell_type": "markdown",
   "id": "41c2d4ec",
   "metadata": {
    "lines_to_next_cell": 2,
    "papermill": {
     "duration": 0.002718,
     "end_time": "2022-07-19T06:48:38.879302",
     "exception": false,
     "start_time": "2022-07-19T06:48:38.876584",
     "status": "completed"
    },
    "tags": []
   },
   "source": [
    "### Notebook code"
   ]
  },
  {
   "cell_type": "code",
   "execution_count": 5,
   "id": "47930844",
   "metadata": {
    "execution": {
     "iopub.execute_input": "2022-07-19T06:48:38.886295Z",
     "iopub.status.busy": "2022-07-19T06:48:38.886080Z",
     "iopub.status.idle": "2022-07-19T06:48:39.379366Z",
     "shell.execute_reply": "2022-07-19T06:48:39.378697Z"
    },
    "papermill": {
     "duration": 0.499007,
     "end_time": "2022-07-19T06:48:39.381330",
     "exception": false,
     "start_time": "2022-07-19T06:48:38.882323",
     "status": "completed"
    },
    "tags": []
   },
   "outputs": [
    {
     "name": "stderr",
     "output_type": "stream",
     "text": [
      "2022-07-19 06:48:39,202\tINFO worker.py:842 -- Connecting to existing Ray cluster at address: 172.17.0.2:6379\n"
     ]
    }
   ],
   "source": [
    "from pynb_dag_runner.tasks.task_opentelemetry_logging import PydarLogger\n",
    "\n",
    "logger = PydarLogger(P)"
   ]
  },
  {
   "cell_type": "markdown",
   "id": "1948545e",
   "metadata": {
    "papermill": {
     "duration": 0.003413,
     "end_time": "2022-07-19T06:48:39.388255",
     "exception": false,
     "start_time": "2022-07-19T06:48:39.384842",
     "status": "completed"
    },
    "tags": []
   },
   "source": [
    "## Load and limit train data"
   ]
  },
  {
   "cell_type": "code",
   "execution_count": 6,
   "id": "e07956b7",
   "metadata": {
    "execution": {
     "iopub.execute_input": "2022-07-19T06:48:39.395477Z",
     "iopub.status.busy": "2022-07-19T06:48:39.395146Z",
     "iopub.status.idle": "2022-07-19T06:48:39.782699Z",
     "shell.execute_reply": "2022-07-19T06:48:39.782099Z"
    },
    "papermill": {
     "duration": 0.393686,
     "end_time": "2022-07-19T06:48:39.784907",
     "exception": false,
     "start_time": "2022-07-19T06:48:39.391221",
     "status": "completed"
    },
    "tags": []
   },
   "outputs": [],
   "source": [
    "def load_and_limit_train_data(P):\n",
    "    from common.io import datalake_root, read_numpy\n",
    "    from sklearn.model_selection import train_test_split\n",
    "\n",
    "    X_train_all = read_numpy(datalake_root(P) / \"train-data\" / \"digits.numpy\")\n",
    "    y_train_all = read_numpy(datalake_root(P) / \"train-data\" / \"labels.numpy\")\n",
    "\n",
    "    assert isinstance(P[\"task.nr_train_images\"], int)\n",
    "\n",
    "    # Note: train_test_split will fail if split is 0 or 100%.\n",
    "    assert 0 < P[\"task.nr_train_images\"] < len(y_train_all)\n",
    "\n",
    "    X_train, _, y_train, _ = train_test_split(\n",
    "        X_train_all,\n",
    "        y_train_all,\n",
    "        train_size=P[\"task.nr_train_images\"],\n",
    "        test_size=None,\n",
    "        stratify=y_train_all,\n",
    "        shuffle=True,\n",
    "        random_state=123,\n",
    "    )\n",
    "\n",
    "    assert X_train.shape == (len(y_train), 8 * 8)\n",
    "    return X_train, y_train\n",
    "\n",
    "\n",
    "X_train, y_train = load_and_limit_train_data(P)"
   ]
  },
  {
   "cell_type": "markdown",
   "id": "c1063f96",
   "metadata": {
    "papermill": {
     "duration": 0.003069,
     "end_time": "2022-07-19T06:48:39.793598",
     "exception": false,
     "start_time": "2022-07-19T06:48:39.790529",
     "status": "completed"
    },
    "tags": []
   },
   "source": [
    "## Train support vector classifier model\n",
    "\n",
    "Below we assume that the hyperparameter $C$ is known.\n",
    "\n",
    "However, this should ideally be found by a hyperparameter search. That could be\n",
    "done in parallel on the Ray cluster, but this needs some more work. Ie., to use\n",
    "multiple cores in the notebook, those cores should be reserved when starting the\n",
    "notebook task (TODO).\n",
    "\n",
    "- https://docs.ray.io/en/latest/tune/key-concepts.html\n",
    "\n",
    "Note: cv-scores would need to be computed here, since they depend on the train data.\n",
    "After this notebook only the onnx-model is available."
   ]
  },
  {
   "cell_type": "code",
   "execution_count": 7,
   "id": "1b265afc",
   "metadata": {
    "execution": {
     "iopub.execute_input": "2022-07-19T06:48:39.800603Z",
     "iopub.status.busy": "2022-07-19T06:48:39.800348Z",
     "iopub.status.idle": "2022-07-19T06:48:39.821651Z",
     "shell.execute_reply": "2022-07-19T06:48:39.821098Z"
    },
    "papermill": {
     "duration": 0.026889,
     "end_time": "2022-07-19T06:48:39.823387",
     "exception": false,
     "start_time": "2022-07-19T06:48:39.796498",
     "status": "completed"
    },
    "tags": []
   },
   "outputs": [],
   "source": [
    "from sklearn.svm import SVC"
   ]
  },
  {
   "cell_type": "code",
   "execution_count": 8,
   "id": "8deccc32",
   "metadata": {
    "execution": {
     "iopub.execute_input": "2022-07-19T06:48:39.831490Z",
     "iopub.status.busy": "2022-07-19T06:48:39.831063Z",
     "iopub.status.idle": "2022-07-19T06:48:39.925996Z",
     "shell.execute_reply": "2022-07-19T06:48:39.925429Z"
    },
    "papermill": {
     "duration": 0.101078,
     "end_time": "2022-07-19T06:48:39.927778",
     "exception": false,
     "start_time": "2022-07-19T06:48:39.826700",
     "status": "completed"
    },
    "tags": []
   },
   "outputs": [
    {
     "data": {
      "text/plain": [
       "SVC(C=0.001, kernel='linear', probability=True)"
      ]
     },
     "execution_count": 8,
     "metadata": {},
     "output_type": "execute_result"
    }
   ],
   "source": [
    "model = SVC(C=0.001, kernel=\"linear\", probability=True)\n",
    "\n",
    "model.fit(X_train, y_train)"
   ]
  },
  {
   "cell_type": "markdown",
   "id": "66c644bd",
   "metadata": {
    "papermill": {
     "duration": 0.003326,
     "end_time": "2022-07-19T06:48:39.934652",
     "exception": false,
     "start_time": "2022-07-19T06:48:39.931326",
     "status": "completed"
    },
    "tags": []
   },
   "source": [
    "### Q: Can the labels returned by `predict(..)` be computed from probabilities returned by the `predict_prob`-method?"
   ]
  },
  {
   "cell_type": "code",
   "execution_count": 9,
   "id": "08eef922",
   "metadata": {
    "execution": {
     "iopub.execute_input": "2022-07-19T06:48:39.943066Z",
     "iopub.status.busy": "2022-07-19T06:48:39.942793Z",
     "iopub.status.idle": "2022-07-19T06:48:39.987969Z",
     "shell.execute_reply": "2022-07-19T06:48:39.987405Z"
    },
    "papermill": {
     "duration": 0.051896,
     "end_time": "2022-07-19T06:48:39.989630",
     "exception": false,
     "start_time": "2022-07-19T06:48:39.937734",
     "status": "completed"
    },
    "tags": []
   },
   "outputs": [
    {
     "name": "stdout",
     "output_type": "stream",
     "text": [
      " - Logging nr_max_prob_neq_label (int) : 2\n"
     ]
    }
   ],
   "source": [
    "import numpy as np\n",
    "\n",
    "y_train_labels = model.predict(X_train)\n",
    "y_train_probabilities = model.predict_proba(X_train)\n",
    "assert y_train_probabilities.shape == (len(y_train), 10)\n",
    "\n",
    "y_train_max_prob_labels = np.argmax(y_train_probabilities, axis=1)\n",
    "assert y_train_labels.shape == y_train_max_prob_labels.shape == y_train.shape\n",
    "\n",
    "# If the predicted labels would coincide with the labels that have\n",
    "# maximum probability, the below number would be zero\n",
    "logger.log_int(\n",
    "    \"nr_max_prob_neq_label\", int(sum(y_train_max_prob_labels != y_train_labels))\n",
    ")"
   ]
  },
  {
   "cell_type": "markdown",
   "id": "c53a8a1b",
   "metadata": {
    "papermill": {
     "duration": 0.003584,
     "end_time": "2022-07-19T06:48:39.996746",
     "exception": false,
     "start_time": "2022-07-19T06:48:39.993162",
     "status": "completed"
    },
    "tags": []
   },
   "source": [
    "The explanation is (likely) explained in the SVC source, see\n",
    "[here](https://github.com/scikit-learn/scikit-learn/blob/main/sklearn/svm/_base.py).\n",
    "Namely, the outputs from `predict(..)` and `predict_proba(..)` may not in some\n",
    "cases be compatible since the latter is computed using cross-validation while\n",
    "the former is not. Thus, the above number need not be zero."
   ]
  },
  {
   "cell_type": "markdown",
   "id": "74c48d6c",
   "metadata": {
    "papermill": {
     "duration": 0.003362,
     "end_time": "2022-07-19T06:48:40.003137",
     "exception": false,
     "start_time": "2022-07-19T06:48:39.999775",
     "status": "completed"
    },
    "tags": []
   },
   "source": [
    "## Persist model"
   ]
  },
  {
   "cell_type": "code",
   "execution_count": 10,
   "id": "8c9465ec",
   "metadata": {
    "execution": {
     "iopub.execute_input": "2022-07-19T06:48:40.010557Z",
     "iopub.status.busy": "2022-07-19T06:48:40.010314Z",
     "iopub.status.idle": "2022-07-19T06:48:40.786191Z",
     "shell.execute_reply": "2022-07-19T06:48:40.785396Z"
    },
    "papermill": {
     "duration": 0.782304,
     "end_time": "2022-07-19T06:48:40.788690",
     "exception": false,
     "start_time": "2022-07-19T06:48:40.006386",
     "status": "completed"
    },
    "tags": []
   },
   "outputs": [],
   "source": [
    "from skl2onnx import convert_sklearn\n",
    "from skl2onnx.common.data_types import FloatTensorType\n",
    "\n",
    "#\n",
    "from common.io import datalake_root, write_onnx"
   ]
  },
  {
   "cell_type": "code",
   "execution_count": 11,
   "id": "bfac7bc6",
   "metadata": {
    "execution": {
     "iopub.execute_input": "2022-07-19T06:48:40.798112Z",
     "iopub.status.busy": "2022-07-19T06:48:40.797531Z",
     "iopub.status.idle": "2022-07-19T06:48:40.838035Z",
     "shell.execute_reply": "2022-07-19T06:48:40.837347Z"
    },
    "papermill": {
     "duration": 0.047235,
     "end_time": "2022-07-19T06:48:40.839561",
     "exception": false,
     "start_time": "2022-07-19T06:48:40.792326",
     "status": "completed"
    },
    "tags": []
   },
   "outputs": [],
   "source": [
    "# convert sklearn model into onnx and persist to data lake\n",
    "\n",
    "model_onnx = convert_sklearn(\n",
    "    model, initial_types=[(\"float_input_8x8_image\", FloatTensorType([None, 8 * 8]))]\n",
    ")\n",
    "write_onnx(\n",
    "    datalake_root(P)\n",
    "    / \"models\"\n",
    "    / f\"nr_train_images={P['task.nr_train_images']}\"\n",
    "    / \"model.onnx\",\n",
    "    model_onnx,\n",
    ")"
   ]
  },
  {
   "cell_type": "code",
   "execution_count": null,
   "id": "15a85973",
   "metadata": {
    "papermill": {
     "duration": 0.003734,
     "end_time": "2022-07-19T06:48:40.846431",
     "exception": false,
     "start_time": "2022-07-19T06:48:40.842697",
     "status": "completed"
    },
    "tags": []
   },
   "outputs": [],
   "source": []
  }
 ],
 "metadata": {
  "jupytext": {
   "cell_metadata_filter": "tags,-all",
   "main_language": "python",
   "notebook_metadata_filter": "-all"
  },
  "language_info": {
   "codemirror_mode": {
    "name": "ipython",
    "version": 3
   },
   "file_extension": ".py",
   "mimetype": "text/x-python",
   "name": "python",
   "nbconvert_exporter": "python",
   "pygments_lexer": "ipython3",
   "version": "3.8.10"
  },
  "papermill": {
   "default_parameters": {},
   "duration": 4.140019,
   "end_time": "2022-07-19T06:48:41.768203",
   "environment_variables": {},
   "exception": null,
   "input_path": "/home/host_user/workspace/mnist-demo-pipeline/mnist-demo-pipeline/notebooks/temp-notebook-j88mvdbf.ipynb",
   "output_path": "notebooks/train-model.ipynb",
   "parameters": {
    "P": {
     "_opentelemetry_traceparent": "00-dfc87442c93bc941e6465acf075e7ed4-d59753efc275cf2c-01",
     "pipeline.data_lake_root": "/pipeline-outputs/data-lake",
     "pipeline.github.actor": "matiasdahl",
     "pipeline.github.base_ref": "",
     "pipeline.github.event_name": "schedule",
     "pipeline.github.head_ref": "",
     "pipeline.github.job": "run-tests-pipeline-and-persist-pipeline-outputs",
     "pipeline.github.ref": "refs/heads/development",
     "pipeline.github.ref_name": "development",
     "pipeline.github.ref_type": "branch",
     "pipeline.github.repository": "pynb-dag-runner/mnist-digits-demo-pipeline",
     "pipeline.github.run_id": "2695663229",
     "pipeline.github.runner_name": "Hosted Agent",
     "pipeline.github.sha": "147a1be9916173fd4d2cd011d8d51e3411215850",
     "pipeline.github.workflow": "Run automated tests, pipeline and deploy results to static reporting site",
     "pipeline.pipeline_run_id": "c5d84876-79e0-46e1-bbd8-00737a518f44",
     "pipeline.run_environment": "ci",
     "run.retry_nr": "0",
     "task.max_nr_retries": "1",
     "task.notebook": "notebooks/train-model.py",
     "task.nr_train_images": 600,
     "task.num_cpus": 1,
     "task.timeout_s": "None"
    }
   },
   "start_time": "2022-07-19T06:48:37.628184",
   "version": "2.3.3"
  }
 },
 "nbformat": 4,
 "nbformat_minor": 5
}