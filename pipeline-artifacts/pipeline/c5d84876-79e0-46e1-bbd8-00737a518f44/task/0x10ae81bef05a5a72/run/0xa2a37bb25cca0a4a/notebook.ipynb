{
 "cells": [
  {
   "cell_type": "markdown",
   "id": "67479c56",
   "metadata": {
    "papermill": {
     "duration": 0.00542,
     "end_time": "2022-07-19T06:48:49.936661",
     "exception": false,
     "start_time": "2022-07-19T06:48:49.931241",
     "status": "completed"
    },
    "tags": []
   },
   "source": [
    "# Benchmark model\n",
    "\n",
    "The purpose of this notebook is to benchmark persisted onnx-model (trained in the\n",
    "previous step) against evaluation set."
   ]
  },
  {
   "cell_type": "markdown",
   "id": "e2fc970f",
   "metadata": {
    "papermill": {
     "duration": 0.004014,
     "end_time": "2022-07-19T06:48:49.946253",
     "exception": false,
     "start_time": "2022-07-19T06:48:49.942239",
     "status": "completed"
    },
    "tags": []
   },
   "source": [
    "### Determine run parameters"
   ]
  },
  {
   "cell_type": "code",
   "execution_count": 1,
   "id": "e81769f5",
   "metadata": {
    "execution": {
     "iopub.execute_input": "2022-07-19T06:48:49.957219Z",
     "iopub.status.busy": "2022-07-19T06:48:49.956895Z",
     "iopub.status.idle": "2022-07-19T06:48:49.965755Z",
     "shell.execute_reply": "2022-07-19T06:48:49.965256Z"
    },
    "lines_to_next_cell": 0,
    "papermill": {
     "duration": 0.01585,
     "end_time": "2022-07-19T06:48:49.967419",
     "exception": false,
     "start_time": "2022-07-19T06:48:49.951569",
     "status": "completed"
    },
    "tags": []
   },
   "outputs": [],
   "source": [
    "# ----------------- Parameters for interactive development --------------\n",
    "P = {\n",
    "    \"pipeline.data_lake_root\": \"/pipeline-outputs/data-lake\",\n",
    "    \"task.nr_train_images\": 600,\n",
    "}"
   ]
  },
  {
   "cell_type": "code",
   "execution_count": 2,
   "id": "1f717ac5",
   "metadata": {
    "execution": {
     "iopub.execute_input": "2022-07-19T06:48:49.976826Z",
     "iopub.status.busy": "2022-07-19T06:48:49.976605Z",
     "iopub.status.idle": "2022-07-19T06:48:49.979938Z",
     "shell.execute_reply": "2022-07-19T06:48:49.979350Z"
    },
    "lines_to_next_cell": 0,
    "papermill": {
     "duration": 0.011043,
     "end_time": "2022-07-19T06:48:49.982712",
     "exception": false,
     "start_time": "2022-07-19T06:48:49.971669",
     "status": "completed"
    },
    "tags": [
     "parameters"
    ]
   },
   "outputs": [],
   "source": [
    "# - During automated runs parameters will be injected in the below cell -"
   ]
  },
  {
   "cell_type": "code",
   "execution_count": 3,
   "id": "ea231fb3",
   "metadata": {
    "execution": {
     "iopub.execute_input": "2022-07-19T06:48:49.991929Z",
     "iopub.status.busy": "2022-07-19T06:48:49.991718Z",
     "iopub.status.idle": "2022-07-19T06:48:49.995905Z",
     "shell.execute_reply": "2022-07-19T06:48:49.995422Z"
    },
    "papermill": {
     "duration": 0.011575,
     "end_time": "2022-07-19T06:48:49.998406",
     "exception": false,
     "start_time": "2022-07-19T06:48:49.986831",
     "status": "completed"
    },
    "tags": [
     "injected-parameters"
    ]
   },
   "outputs": [],
   "source": [
    "# Parameters\n",
    "P = {\n",
    "    \"pipeline.data_lake_root\": \"/pipeline-outputs/data-lake\",\n",
    "    \"pipeline.run_environment\": \"ci\",\n",
    "    \"pipeline.pipeline_run_id\": \"c5d84876-79e0-46e1-bbd8-00737a518f44\",\n",
    "    \"pipeline.github.repository\": \"pynb-dag-runner/mnist-digits-demo-pipeline\",\n",
    "    \"pipeline.github.workflow\": \"Run automated tests, pipeline and deploy results to static reporting site\",\n",
    "    \"pipeline.github.runner_name\": \"Hosted Agent\",\n",
    "    \"pipeline.github.run_id\": \"2695663229\",\n",
    "    \"pipeline.github.actor\": \"matiasdahl\",\n",
    "    \"pipeline.github.job\": \"run-tests-pipeline-and-persist-pipeline-outputs\",\n",
    "    \"pipeline.github.base_ref\": \"\",\n",
    "    \"pipeline.github.head_ref\": \"\",\n",
    "    \"pipeline.github.sha\": \"147a1be9916173fd4d2cd011d8d51e3411215850\",\n",
    "    \"pipeline.github.ref\": \"refs/heads/development\",\n",
    "    \"pipeline.github.ref_type\": \"branch\",\n",
    "    \"pipeline.github.ref_name\": \"development\",\n",
    "    \"pipeline.github.event_name\": \"schedule\",\n",
    "    \"task.nr_train_images\": 600,\n",
    "    \"task.notebook\": \"notebooks/benchmark-model.py\",\n",
    "    \"task.max_nr_retries\": \"1\",\n",
    "    \"run.retry_nr\": \"0\",\n",
    "    \"task.timeout_s\": \"None\",\n",
    "    \"task.num_cpus\": 1,\n",
    "    \"_opentelemetry_traceparent\": \"00-dfc87442c93bc941e6465acf075e7ed4-fe93c22141018d74-01\",\n",
    "}\n"
   ]
  },
  {
   "cell_type": "code",
   "execution_count": 4,
   "id": "58e58570",
   "metadata": {
    "execution": {
     "iopub.execute_input": "2022-07-19T06:48:50.010248Z",
     "iopub.status.busy": "2022-07-19T06:48:50.010046Z",
     "iopub.status.idle": "2022-07-19T06:48:50.012705Z",
     "shell.execute_reply": "2022-07-19T06:48:50.012213Z"
    },
    "lines_to_next_cell": 0,
    "papermill": {
     "duration": 0.011918,
     "end_time": "2022-07-19T06:48:50.015092",
     "exception": false,
     "start_time": "2022-07-19T06:48:50.003174",
     "status": "completed"
    },
    "tags": []
   },
   "outputs": [],
   "source": [
    "# -----------------------------------------------------------------------"
   ]
  },
  {
   "cell_type": "markdown",
   "id": "47a8dbc0",
   "metadata": {
    "papermill": {
     "duration": 0.003995,
     "end_time": "2022-07-19T06:48:50.022736",
     "exception": false,
     "start_time": "2022-07-19T06:48:50.018741",
     "status": "completed"
    },
    "tags": []
   },
   "source": [
    "---"
   ]
  },
  {
   "cell_type": "markdown",
   "id": "7a2b21a9",
   "metadata": {
    "lines_to_next_cell": 2,
    "papermill": {
     "duration": 0.003777,
     "end_time": "2022-07-19T06:48:50.030444",
     "exception": false,
     "start_time": "2022-07-19T06:48:50.026667",
     "status": "completed"
    },
    "tags": []
   },
   "source": [
    "### Notebook code"
   ]
  },
  {
   "cell_type": "code",
   "execution_count": 5,
   "id": "1568273f",
   "metadata": {
    "execution": {
     "iopub.execute_input": "2022-07-19T06:48:50.039371Z",
     "iopub.status.busy": "2022-07-19T06:48:50.039168Z",
     "iopub.status.idle": "2022-07-19T06:48:51.119149Z",
     "shell.execute_reply": "2022-07-19T06:48:51.118430Z"
    },
    "papermill": {
     "duration": 1.086701,
     "end_time": "2022-07-19T06:48:51.121086",
     "exception": false,
     "start_time": "2022-07-19T06:48:50.034385",
     "status": "completed"
    },
    "tags": []
   },
   "outputs": [
    {
     "name": "stderr",
     "output_type": "stream",
     "text": [
      "2022-07-19 06:48:50,944\tINFO worker.py:842 -- Connecting to existing Ray cluster at address: 172.17.0.2:6379\n"
     ]
    }
   ],
   "source": [
    "import itertools as it\n",
    "\n",
    "#\n",
    "import numpy as np\n",
    "import matplotlib.pyplot as plt\n",
    "\n",
    "#\n",
    "from pynb_dag_runner.tasks.task_opentelemetry_logging import PydarLogger\n",
    "\n",
    "#\n",
    "from common.io import datalake_root\n",
    "\n",
    "logger = PydarLogger(P)"
   ]
  },
  {
   "cell_type": "markdown",
   "id": "690fce3f",
   "metadata": {
    "papermill": {
     "duration": 0.004936,
     "end_time": "2022-07-19T06:48:51.131499",
     "exception": false,
     "start_time": "2022-07-19T06:48:51.126563",
     "status": "completed"
    },
    "tags": []
   },
   "source": [
    "## Load persisted onnx-model and evaluation data"
   ]
  },
  {
   "cell_type": "code",
   "execution_count": 6,
   "id": "8009ca3d",
   "metadata": {
    "execution": {
     "iopub.execute_input": "2022-07-19T06:48:51.143685Z",
     "iopub.status.busy": "2022-07-19T06:48:51.142758Z",
     "iopub.status.idle": "2022-07-19T06:48:51.147344Z",
     "shell.execute_reply": "2022-07-19T06:48:51.146468Z"
    },
    "papermill": {
     "duration": 0.012286,
     "end_time": "2022-07-19T06:48:51.149744",
     "exception": false,
     "start_time": "2022-07-19T06:48:51.137458",
     "status": "completed"
    },
    "tags": []
   },
   "outputs": [],
   "source": [
    "from common.io import read_onnx, get_onnx_inputs, get_onnx_outputs, read_numpy"
   ]
  },
  {
   "cell_type": "code",
   "execution_count": 7,
   "id": "c23f337d",
   "metadata": {
    "execution": {
     "iopub.execute_input": "2022-07-19T06:48:51.160340Z",
     "iopub.status.busy": "2022-07-19T06:48:51.160122Z",
     "iopub.status.idle": "2022-07-19T06:48:51.170708Z",
     "shell.execute_reply": "2022-07-19T06:48:51.170181Z"
    },
    "lines_to_next_cell": 0,
    "papermill": {
     "duration": 0.017861,
     "end_time": "2022-07-19T06:48:51.172104",
     "exception": false,
     "start_time": "2022-07-19T06:48:51.154243",
     "status": "completed"
    },
    "tags": []
   },
   "outputs": [],
   "source": [
    "onnx_inference_session = read_onnx(\n",
    "    datalake_root(P)\n",
    "    / \"models\"\n",
    "    / f\"nr_train_images={P['task.nr_train_images']}\"\n",
    "    / \"model.onnx\"\n",
    ")"
   ]
  },
  {
   "cell_type": "markdown",
   "id": "7d1e8d3b",
   "metadata": {
    "papermill": {
     "duration": 0.004417,
     "end_time": "2022-07-19T06:48:51.181192",
     "exception": false,
     "start_time": "2022-07-19T06:48:51.176775",
     "status": "completed"
    },
    "tags": []
   },
   "source": [
    "### Record structure of inputs and outputs for ONNX model\n",
    "\n",
    "(this should likely be done in training notebook)"
   ]
  },
  {
   "cell_type": "code",
   "execution_count": 8,
   "id": "d676a972",
   "metadata": {
    "execution": {
     "iopub.execute_input": "2022-07-19T06:48:51.191192Z",
     "iopub.status.busy": "2022-07-19T06:48:51.190875Z",
     "iopub.status.idle": "2022-07-19T06:48:51.196950Z",
     "shell.execute_reply": "2022-07-19T06:48:51.196225Z"
    },
    "papermill": {
     "duration": 0.014406,
     "end_time": "2022-07-19T06:48:51.200195",
     "exception": false,
     "start_time": "2022-07-19T06:48:51.185789",
     "status": "completed"
    },
    "tags": []
   },
   "outputs": [
    {
     "name": "stdout",
     "output_type": "stream",
     "text": [
      "{\n",
      "  \"inputs\": [\n",
      "    {\n",
      "      \"name\": \"float_input_8x8_image\",\n",
      "      \"shape\": [\n",
      "        null,\n",
      "        64\n",
      "      ],\n",
      "      \"type\": \"tensor(float)\"\n",
      "    }\n",
      "  ],\n",
      "  \"outputs\": [\n",
      "    {\n",
      "      \"name\": \"output_label\",\n",
      "      \"shape\": [\n",
      "        null\n",
      "      ],\n",
      "      \"type\": \"tensor(int64)\"\n",
      "    },\n",
      "    {\n",
      "      \"name\": \"output_probability\",\n",
      "      \"shape\": [],\n",
      "      \"type\": \"seq(map(int64,tensor(float)))\"\n",
      "    }\n",
      "  ]\n",
      "}\n"
     ]
    }
   ],
   "source": [
    "import json\n",
    "\n",
    "onnx_io = json.dumps(\n",
    "    {\n",
    "        \"inputs\": get_onnx_inputs(onnx_inference_session),\n",
    "        \"outputs\": get_onnx_outputs(onnx_inference_session),\n",
    "    },\n",
    "    indent=2,\n",
    ")\n",
    "\n",
    "\n",
    "logger.log_artefact(\"onnx_io_structure.json\", onnx_io)\n",
    "print(onnx_io)"
   ]
  },
  {
   "cell_type": "markdown",
   "id": "dd9bcd42",
   "metadata": {
    "papermill": {
     "duration": 0.004726,
     "end_time": "2022-07-19T06:48:51.209371",
     "exception": false,
     "start_time": "2022-07-19T06:48:51.204645",
     "status": "completed"
    },
    "tags": []
   },
   "source": [
    "### Evaluate model performance on evaluation data set"
   ]
  },
  {
   "cell_type": "code",
   "execution_count": 9,
   "id": "2fb72db5",
   "metadata": {
    "execution": {
     "iopub.execute_input": "2022-07-19T06:48:51.219769Z",
     "iopub.status.busy": "2022-07-19T06:48:51.219562Z",
     "iopub.status.idle": "2022-07-19T06:48:51.223735Z",
     "shell.execute_reply": "2022-07-19T06:48:51.222981Z"
    },
    "papermill": {
     "duration": 0.013042,
     "end_time": "2022-07-19T06:48:51.226688",
     "exception": false,
     "start_time": "2022-07-19T06:48:51.213646",
     "status": "completed"
    },
    "tags": []
   },
   "outputs": [],
   "source": [
    "# load evaluation data\n",
    "X_test = read_numpy(datalake_root(P) / \"test-data\" / \"digits.numpy\")\n",
    "y_test = read_numpy(datalake_root(P) / \"test-data\" / \"labels.numpy\")"
   ]
  },
  {
   "cell_type": "code",
   "execution_count": 10,
   "id": "0c20eaec",
   "metadata": {
    "execution": {
     "iopub.execute_input": "2022-07-19T06:48:51.236865Z",
     "iopub.status.busy": "2022-07-19T06:48:51.236655Z",
     "iopub.status.idle": "2022-07-19T06:48:51.249465Z",
     "shell.execute_reply": "2022-07-19T06:48:51.248943Z"
    },
    "papermill": {
     "duration": 0.019967,
     "end_time": "2022-07-19T06:48:51.251305",
     "exception": false,
     "start_time": "2022-07-19T06:48:51.231338",
     "status": "completed"
    },
    "tags": []
   },
   "outputs": [],
   "source": [
    "def get_model_outputs(X, onnx_inference_session):\n",
    "    y_pred_labels, y_pred_map = onnx_inference_session.run(\n",
    "        [\"output_label\", \"output_probability\"],\n",
    "        {\"float_input_8x8_image\": X.astype(np.float32)},\n",
    "    )\n",
    "    y_pred_probs = np.array(\n",
    "        [[probabilities[digit] for digit in range(10)] for probabilities in y_pred_map]\n",
    "    )\n",
    "\n",
    "    assert y_pred_labels.shape == (X.shape[0],)\n",
    "    assert y_pred_probs.shape == (X.shape[0], 10)\n",
    "\n",
    "    return y_pred_labels, y_pred_probs\n",
    "\n",
    "\n",
    "# Note: as shown in the training notebook, the predicted labels and probabilities\n",
    "# computed below need not be compatible.\n",
    "y_pred_labels_test, y_pred_probs_test = get_model_outputs(\n",
    "    X_test, onnx_inference_session\n",
    ")"
   ]
  },
  {
   "cell_type": "markdown",
   "id": "826aacde",
   "metadata": {
    "papermill": {
     "duration": 0.005019,
     "end_time": "2022-07-19T06:48:51.261652",
     "exception": false,
     "start_time": "2022-07-19T06:48:51.256633",
     "status": "completed"
    },
    "tags": []
   },
   "source": [
    "### Confusion matrix"
   ]
  },
  {
   "cell_type": "code",
   "execution_count": 11,
   "id": "a66c1b4a",
   "metadata": {
    "execution": {
     "iopub.execute_input": "2022-07-19T06:48:51.272350Z",
     "iopub.status.busy": "2022-07-19T06:48:51.272097Z",
     "iopub.status.idle": "2022-07-19T06:48:51.275266Z",
     "shell.execute_reply": "2022-07-19T06:48:51.274447Z"
    },
    "papermill": {
     "duration": 0.011816,
     "end_time": "2022-07-19T06:48:51.278367",
     "exception": false,
     "start_time": "2022-07-19T06:48:51.266551",
     "status": "completed"
    },
    "tags": []
   },
   "outputs": [],
   "source": [
    "# TODO"
   ]
  },
  {
   "cell_type": "markdown",
   "id": "f02e9735",
   "metadata": {
    "papermill": {
     "duration": 0.005149,
     "end_time": "2022-07-19T06:48:51.288413",
     "exception": false,
     "start_time": "2022-07-19T06:48:51.283264",
     "status": "completed"
    },
    "tags": []
   },
   "source": [
    "### Plot predicted probabilities for each classifier over all evaluation digit images"
   ]
  },
  {
   "cell_type": "code",
   "execution_count": 12,
   "id": "603f6721",
   "metadata": {
    "execution": {
     "iopub.execute_input": "2022-07-19T06:48:51.298820Z",
     "iopub.status.busy": "2022-07-19T06:48:51.298584Z",
     "iopub.status.idle": "2022-07-19T06:48:54.532464Z",
     "shell.execute_reply": "2022-07-19T06:48:54.531753Z"
    },
    "papermill": {
     "duration": 3.241744,
     "end_time": "2022-07-19T06:48:54.534647",
     "exception": false,
     "start_time": "2022-07-19T06:48:51.292903",
     "status": "completed"
    },
    "tags": []
   },
   "outputs": [
    {
     "data": {
      "image/png": "[encoded data removed]",
      "text/plain": [
       "<Figure size 1152x432 with 10 Axes>"
      ]
     },
     "metadata": {
      "needs_background": "light"
     },
     "output_type": "display_data"
    }
   ],
   "source": [
    "def plot_per_digit_probabilities(y_pred_probs):\n",
    "    fig, axs = plt.subplots(nrows=2, ncols=5, figsize=(16, 6))\n",
    "\n",
    "    for (r, c), digit, ax in zip(\n",
    "        it.product(range(2), range(5)), range(10), axs.reshape(-1)\n",
    "    ):\n",
    "        ax.hist(y_pred_probs_test[:, digit], bins=20)\n",
    "\n",
    "        ax.set_title(f\"Digit {digit}\")\n",
    "        if r == 1 and c == 2:\n",
    "            ax.set_xlabel(\"probability\", fontsize=16)\n",
    "\n",
    "        if c == 0:\n",
    "            ax.set_ylabel(\"counts\", fontsize=16)\n",
    "        ax.set_yscale(\"log\")\n",
    "\n",
    "    fig.tight_layout()\n",
    "    fig.suptitle(\n",
    "        f\"Distributions of prediction probabilities for each digit \"\n",
    "        f\"(on evaluation data, n={y_pred_probs.shape[0]})\",\n",
    "        fontsize=20,\n",
    "    )\n",
    "    fig.tight_layout()\n",
    "    fig.show()\n",
    "\n",
    "    return fig\n",
    "\n",
    "\n",
    "fig = plot_per_digit_probabilities(y_pred_probs_test)"
   ]
  },
  {
   "cell_type": "markdown",
   "id": "ca49d37f",
   "metadata": {
    "papermill": {
     "duration": 0.005095,
     "end_time": "2022-07-19T06:48:54.545330",
     "exception": false,
     "start_time": "2022-07-19T06:48:54.540235",
     "status": "completed"
    },
    "tags": []
   },
   "source": [
    "From the above distributions we see that most digits have clear separation between\n",
    "high and lower probabilities. Morover, in each case there is roughly an order of\n",
    "magnitude more of digits with low probabilities. This is compatible with digits\n",
    "being roughly evenly distributed in the data."
   ]
  },
  {
   "cell_type": "code",
   "execution_count": 13,
   "id": "88d7cb5e",
   "metadata": {
    "execution": {
     "iopub.execute_input": "2022-07-19T06:48:54.557407Z",
     "iopub.status.busy": "2022-07-19T06:48:54.556613Z",
     "iopub.status.idle": "2022-07-19T06:48:54.970933Z",
     "shell.execute_reply": "2022-07-19T06:48:54.970198Z"
    },
    "papermill": {
     "duration": 0.422256,
     "end_time": "2022-07-19T06:48:54.972750",
     "exception": false,
     "start_time": "2022-07-19T06:48:54.550494",
     "status": "completed"
    },
    "tags": []
   },
   "outputs": [],
   "source": [
    "logger.log_figure(\"per-digit-probabilities.png\", fig)"
   ]
  },
  {
   "cell_type": "markdown",
   "id": "217d1b30",
   "metadata": {
    "papermill": {
     "duration": 0.014419,
     "end_time": "2022-07-19T06:48:54.992051",
     "exception": false,
     "start_time": "2022-07-19T06:48:54.977632",
     "status": "completed"
    },
    "tags": []
   },
   "source": [
    "### Plot ROC curves for individual one-vs-rest classifiers"
   ]
  },
  {
   "cell_type": "code",
   "execution_count": 14,
   "id": "099d9863",
   "metadata": {
    "execution": {
     "iopub.execute_input": "2022-07-19T06:48:55.003450Z",
     "iopub.status.busy": "2022-07-19T06:48:55.003195Z",
     "iopub.status.idle": "2022-07-19T06:48:55.364364Z",
     "shell.execute_reply": "2022-07-19T06:48:55.363450Z"
    },
    "papermill": {
     "duration": 0.369209,
     "end_time": "2022-07-19T06:48:55.366647",
     "exception": false,
     "start_time": "2022-07-19T06:48:54.997438",
     "status": "completed"
    },
    "tags": []
   },
   "outputs": [],
   "source": [
    "from sklearn import metrics"
   ]
  },
  {
   "cell_type": "code",
   "execution_count": 15,
   "id": "1e737f1e",
   "metadata": {
    "execution": {
     "iopub.execute_input": "2022-07-19T06:48:55.377836Z",
     "iopub.status.busy": "2022-07-19T06:48:55.377458Z",
     "iopub.status.idle": "2022-07-19T06:48:56.403167Z",
     "shell.execute_reply": "2022-07-19T06:48:56.402427Z"
    },
    "papermill": {
     "duration": 1.033115,
     "end_time": "2022-07-19T06:48:56.404862",
     "exception": false,
     "start_time": "2022-07-19T06:48:55.371747",
     "status": "completed"
    },
    "tags": []
   },
   "outputs": [
    {
     "data": {
      "image/png": "[encoded data removed]",
      "text/plain": [
       "<Figure size 1152x576 with 10 Axes>"
      ]
     },
     "metadata": {
      "needs_background": "light"
     },
     "output_type": "display_data"
    }
   ],
   "source": [
    "def plot_roc_curves(y, y_pred_probs):\n",
    "    # based on example code\n",
    "    # https://scikit-learn.org/stable/auto_examples/model_selection/plot_roc.html\n",
    "\n",
    "    fig, axs = plt.subplots(nrows=2, ncols=5, figsize=(16, 8))\n",
    "\n",
    "    roc_auc_dict = {}\n",
    "\n",
    "    for (r, c), digit, ax in zip(\n",
    "        it.product(range(2), range(5)), range(10), axs.reshape(-1)\n",
    "    ):\n",
    "        fpr, tpr, _ = metrics.roc_curve(y == digit, y_pred_probs[:, digit])\n",
    "        auc = metrics.auc(fpr, tpr)\n",
    "        roc_auc_dict[str(digit)] = auc\n",
    "\n",
    "        ax.plot(fpr, tpr, label=f\"ROC AUC={round(auc, 3)}\")\n",
    "\n",
    "        ax.set_title(f\"\\nDigit {digit}\", fontsize=16)\n",
    "        if r == 1:\n",
    "            ax.set_xlabel(\"FPR\", fontsize=18)\n",
    "\n",
    "        if c == 0:\n",
    "            ax.set_ylabel(\"TPR\", fontsize=18)\n",
    "\n",
    "        ax.set_xlim([-0.05, 1.05])\n",
    "        ax.set_ylim([-0.05, 1.05])\n",
    "        ax.legend(loc=\"lower right\", frameon=False, fontsize=14)\n",
    "\n",
    "    fig.tight_layout()\n",
    "    fig.suptitle(\n",
    "        f\"ROC plots for one-vs-rest performances \"\n",
    "        f\"(on evaluation data, n={y_pred_probs_test.shape[1]}\",\n",
    "        fontsize=22,\n",
    "    )\n",
    "    fig.tight_layout()\n",
    "    fig.show()\n",
    "\n",
    "    return roc_auc_dict, fig\n",
    "\n",
    "\n",
    "roc_auc_dict, fig = plot_roc_curves(y_test, y_pred_probs_test)"
   ]
  },
  {
   "cell_type": "code",
   "execution_count": 16,
   "id": "3a5e3f44",
   "metadata": {
    "execution": {
     "iopub.execute_input": "2022-07-19T06:48:56.417781Z",
     "iopub.status.busy": "2022-07-19T06:48:56.417384Z",
     "iopub.status.idle": "2022-07-19T06:48:56.646475Z",
     "shell.execute_reply": "2022-07-19T06:48:56.645831Z"
    },
    "papermill": {
     "duration": 0.237689,
     "end_time": "2022-07-19T06:48:56.648521",
     "exception": false,
     "start_time": "2022-07-19T06:48:56.410832",
     "status": "completed"
    },
    "tags": []
   },
   "outputs": [],
   "source": [
    "logger.log_figure(\"per-digit-roc-curves.png\", fig)"
   ]
  },
  {
   "cell_type": "code",
   "execution_count": 17,
   "id": "ec26b085",
   "metadata": {
    "execution": {
     "iopub.execute_input": "2022-07-19T06:48:56.661684Z",
     "iopub.status.busy": "2022-07-19T06:48:56.661426Z",
     "iopub.status.idle": "2022-07-19T06:48:56.668332Z",
     "shell.execute_reply": "2022-07-19T06:48:56.667822Z"
    },
    "papermill": {
     "duration": 0.017108,
     "end_time": "2022-07-19T06:48:56.672041",
     "exception": false,
     "start_time": "2022-07-19T06:48:56.654933",
     "status": "completed"
    },
    "tags": []
   },
   "outputs": [
    {
     "data": {
      "text/plain": [
       "{'0': 1.0,\n",
       " '1': 0.9991377694470478,\n",
       " '2': 1.0,\n",
       " '3': 0.9997750702905343,\n",
       " '4': 0.9991617131534827,\n",
       " '5': 0.998950328022493,\n",
       " '6': 0.999923792104862,\n",
       " '7': 0.9998475842097241,\n",
       " '8': 0.9942859394703658,\n",
       " '9': 0.998780673677793}"
      ]
     },
     "execution_count": 17,
     "metadata": {},
     "output_type": "execute_result"
    }
   ],
   "source": [
    "roc_auc_dict"
   ]
  },
  {
   "cell_type": "code",
   "execution_count": 18,
   "id": "0c470fd6",
   "metadata": {
    "execution": {
     "iopub.execute_input": "2022-07-19T06:48:56.685047Z",
     "iopub.status.busy": "2022-07-19T06:48:56.684829Z",
     "iopub.status.idle": "2022-07-19T06:48:56.688616Z",
     "shell.execute_reply": "2022-07-19T06:48:56.688094Z"
    },
    "papermill": {
     "duration": 0.013838,
     "end_time": "2022-07-19T06:48:56.691906",
     "exception": false,
     "start_time": "2022-07-19T06:48:56.678068",
     "status": "completed"
    },
    "tags": []
   },
   "outputs": [
    {
     "name": "stdout",
     "output_type": "stream",
     "text": [
      " - Logging roc_auc_per_digit (json) : {'0': 1.0, '1': 0.9991377694470478, '2': 1.0, '3': 0.9997750702905343, '4': 0.9991617131534827, '5': 0.998950328022493, '6': 0.999923792104862, '7': 0.9998475842097241, '8': 0.9942859394703658, '9': 0.998780673677793}\n"
     ]
    }
   ],
   "source": [
    "logger.log_value(\"roc_auc_per_digit\", roc_auc_dict)"
   ]
  },
  {
   "cell_type": "markdown",
   "id": "b8319f2d",
   "metadata": {
    "papermill": {
     "duration": 0.005647,
     "end_time": "2022-07-19T06:48:56.703183",
     "exception": false,
     "start_time": "2022-07-19T06:48:56.697536",
     "status": "completed"
    },
    "tags": []
   },
   "source": [
    "### Compute and log mean ROC AUC score averaged over all digits"
   ]
  },
  {
   "cell_type": "code",
   "execution_count": 19,
   "id": "c350fc14",
   "metadata": {
    "execution": {
     "iopub.execute_input": "2022-07-19T06:48:56.721587Z",
     "iopub.status.busy": "2022-07-19T06:48:56.721318Z",
     "iopub.status.idle": "2022-07-19T06:48:56.735332Z",
     "shell.execute_reply": "2022-07-19T06:48:56.734683Z"
    },
    "papermill": {
     "duration": 0.028069,
     "end_time": "2022-07-19T06:48:56.736796",
     "exception": false,
     "start_time": "2022-07-19T06:48:56.708727",
     "status": "completed"
    },
    "tags": []
   },
   "outputs": [
    {
     "name": "stdout",
     "output_type": "stream",
     "text": [
      " - Logging roc_auc_class_mean (float) : 0.9989862870376303\n"
     ]
    }
   ],
   "source": [
    "roc_auc_macro = np.mean(list(roc_auc_dict.values()))\n",
    "\n",
    "logger.log_float(\"roc_auc_class_mean\", roc_auc_macro)\n",
    "\n",
    "# assert that the same value can be computed directly using sklearn\n",
    "assert roc_auc_macro == metrics.roc_auc_score(\n",
    "    y_test, y_pred_probs_test, average=\"macro\", multi_class=\"ovr\"\n",
    ")"
   ]
  },
  {
   "cell_type": "code",
   "execution_count": 20,
   "id": "dac8a889",
   "metadata": {
    "execution": {
     "iopub.execute_input": "2022-07-19T06:48:56.749838Z",
     "iopub.status.busy": "2022-07-19T06:48:56.749607Z",
     "iopub.status.idle": "2022-07-19T06:48:56.752418Z",
     "shell.execute_reply": "2022-07-19T06:48:56.751868Z"
    },
    "lines_to_next_cell": 0,
    "papermill": {
     "duration": 0.012031,
     "end_time": "2022-07-19T06:48:56.754848",
     "exception": false,
     "start_time": "2022-07-19T06:48:56.742817",
     "status": "completed"
    },
    "tags": []
   },
   "outputs": [],
   "source": [
    "# ---"
   ]
  },
  {
   "cell_type": "code",
   "execution_count": null,
   "id": "0c1ce443",
   "metadata": {
    "papermill": {
     "duration": 0.01061,
     "end_time": "2022-07-19T06:48:56.771304",
     "exception": false,
     "start_time": "2022-07-19T06:48:56.760694",
     "status": "completed"
    },
    "tags": []
   },
   "outputs": [],
   "source": []
  }
 ],
 "metadata": {
  "jupytext": {
   "cell_metadata_filter": "tags,-all",
   "main_language": "python",
   "notebook_metadata_filter": "-all"
  },
  "language_info": {
   "codemirror_mode": {
    "name": "ipython",
    "version": 3
   },
   "file_extension": ".py",
   "mimetype": "text/x-python",
   "name": "python",
   "nbconvert_exporter": "python",
   "pygments_lexer": "ipython3",
   "version": "3.8.10"
  },
  "papermill": {
   "default_parameters": {},
   "duration": 9.206763,
   "end_time": "2022-07-19T06:48:57.899751",
   "environment_variables": {},
   "exception": null,
   "input_path": "/home/host_user/workspace/mnist-demo-pipeline/mnist-demo-pipeline/notebooks/temp-notebook-m4g5nqv7.ipynb",
   "output_path": "notebooks/benchmark-model.ipynb",
   "parameters": {
    "P": {
     "_opentelemetry_traceparent": "00-dfc87442c93bc941e6465acf075e7ed4-fe93c22141018d74-01",
     "pipeline.data_lake_root": "/pipeline-outputs/data-lake",
     "pipeline.github.actor": "matiasdahl",
     "pipeline.github.base_ref": "",
     "pipeline.github.event_name": "schedule",
     "pipeline.github.head_ref": "",
     "pipeline.github.job": "run-tests-pipeline-and-persist-pipeline-outputs",
     "pipeline.github.ref": "refs/heads/development",
     "pipeline.github.ref_name": "development",
     "pipeline.github.ref_type": "branch",
     "pipeline.github.repository": "pynb-dag-runner/mnist-digits-demo-pipeline",
     "pipeline.github.run_id": "2695663229",
     "pipeline.github.runner_name": "Hosted Agent",
     "pipeline.github.sha": "147a1be9916173fd4d2cd011d8d51e3411215850",
     "pipeline.github.workflow": "Run automated tests, pipeline and deploy results to static reporting site",
     "pipeline.pipeline_run_id": "c5d84876-79e0-46e1-bbd8-00737a518f44",
     "pipeline.run_environment": "ci",
     "run.retry_nr": "0",
     "task.max_nr_retries": "1",
     "task.notebook": "notebooks/benchmark-model.py",
     "task.nr_train_images": 600,
     "task.num_cpus": 1,
     "task.timeout_s": "None"
    }
   },
   "start_time": "2022-07-19T06:48:48.692988",
   "version": "2.3.3"
  }
 },
 "nbformat": 4,
 "nbformat_minor": 5
}