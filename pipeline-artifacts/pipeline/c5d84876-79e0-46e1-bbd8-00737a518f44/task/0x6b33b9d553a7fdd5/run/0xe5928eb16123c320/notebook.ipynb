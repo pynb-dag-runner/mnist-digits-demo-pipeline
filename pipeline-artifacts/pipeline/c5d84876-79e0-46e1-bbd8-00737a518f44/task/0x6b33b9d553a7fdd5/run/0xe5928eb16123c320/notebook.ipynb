{
 "cells": [
  {
   "cell_type": "markdown",
   "id": "ab40ba26",
   "metadata": {
    "papermill": {
     "duration": 0.004746,
     "end_time": "2022-07-19T06:48:44.239020",
     "exception": false,
     "start_time": "2022-07-19T06:48:44.234274",
     "status": "completed"
    },
    "tags": []
   },
   "source": [
    "# Train model\n",
    "\n",
    "The purpose of this notebook is:\n",
    "\n",
    "- Load all training data (images and labels).\n",
    "- Limit number of train images to `task.nr_train_images` (value provided as run parameter).\n",
    "- Train a support vector machine model using sklearn.\n",
    "- Persist the trained model using the ONNX format."
   ]
  },
  {
   "cell_type": "markdown",
   "id": "b5c2cf10",
   "metadata": {
    "papermill": {
     "duration": 0.003481,
     "end_time": "2022-07-19T06:48:44.245643",
     "exception": false,
     "start_time": "2022-07-19T06:48:44.242162",
     "status": "completed"
    },
    "tags": []
   },
   "source": [
    "### Determine run parameters"
   ]
  },
  {
   "cell_type": "code",
   "execution_count": 1,
   "id": "d64b7204",
   "metadata": {
    "execution": {
     "iopub.execute_input": "2022-07-19T06:48:44.253548Z",
     "iopub.status.busy": "2022-07-19T06:48:44.252755Z",
     "iopub.status.idle": "2022-07-19T06:48:44.262311Z",
     "shell.execute_reply": "2022-07-19T06:48:44.261191Z"
    },
    "lines_to_next_cell": 0,
    "papermill": {
     "duration": 0.015744,
     "end_time": "2022-07-19T06:48:44.264768",
     "exception": false,
     "start_time": "2022-07-19T06:48:44.249024",
     "status": "completed"
    },
    "tags": []
   },
   "outputs": [],
   "source": [
    "# ----------------- Parameters for interactive development --------------\n",
    "P = {\n",
    "    \"pipeline.data_lake_root\": \"/pipeline-outputs/data-lake\",\n",
    "    \"task.nr_train_images\": 600,\n",
    "}"
   ]
  },
  {
   "cell_type": "code",
   "execution_count": 2,
   "id": "e863c05b",
   "metadata": {
    "execution": {
     "iopub.execute_input": "2022-07-19T06:48:44.271810Z",
     "iopub.status.busy": "2022-07-19T06:48:44.271469Z",
     "iopub.status.idle": "2022-07-19T06:48:44.274405Z",
     "shell.execute_reply": "2022-07-19T06:48:44.273903Z"
    },
    "lines_to_next_cell": 0,
    "papermill": {
     "duration": 0.008462,
     "end_time": "2022-07-19T06:48:44.276102",
     "exception": false,
     "start_time": "2022-07-19T06:48:44.267640",
     "status": "completed"
    },
    "tags": [
     "parameters"
    ]
   },
   "outputs": [],
   "source": [
    "# - During automated runs parameters will be injected in the below cell -"
   ]
  },
  {
   "cell_type": "code",
   "execution_count": 3,
   "id": "f12101f8",
   "metadata": {
    "execution": {
     "iopub.execute_input": "2022-07-19T06:48:44.283977Z",
     "iopub.status.busy": "2022-07-19T06:48:44.283637Z",
     "iopub.status.idle": "2022-07-19T06:48:44.288221Z",
     "shell.execute_reply": "2022-07-19T06:48:44.287459Z"
    },
    "papermill": {
     "duration": 0.010737,
     "end_time": "2022-07-19T06:48:44.289802",
     "exception": false,
     "start_time": "2022-07-19T06:48:44.279065",
     "status": "completed"
    },
    "tags": [
     "injected-parameters"
    ]
   },
   "outputs": [],
   "source": [
    "# Parameters\n",
    "P = {\n",
    "    \"pipeline.data_lake_root\": \"/pipeline-outputs/data-lake\",\n",
    "    \"pipeline.run_environment\": \"ci\",\n",
    "    \"pipeline.pipeline_run_id\": \"c5d84876-79e0-46e1-bbd8-00737a518f44\",\n",
    "    \"pipeline.github.repository\": \"pynb-dag-runner/mnist-digits-demo-pipeline\",\n",
    "    \"pipeline.github.workflow\": \"Run automated tests, pipeline and deploy results to static reporting site\",\n",
    "    \"pipeline.github.runner_name\": \"Hosted Agent\",\n",
    "    \"pipeline.github.run_id\": \"2695663229\",\n",
    "    \"pipeline.github.actor\": \"matiasdahl\",\n",
    "    \"pipeline.github.job\": \"run-tests-pipeline-and-persist-pipeline-outputs\",\n",
    "    \"pipeline.github.base_ref\": \"\",\n",
    "    \"pipeline.github.head_ref\": \"\",\n",
    "    \"pipeline.github.sha\": \"147a1be9916173fd4d2cd011d8d51e3411215850\",\n",
    "    \"pipeline.github.ref\": \"refs/heads/development\",\n",
    "    \"pipeline.github.ref_type\": \"branch\",\n",
    "    \"pipeline.github.ref_name\": \"development\",\n",
    "    \"pipeline.github.event_name\": \"schedule\",\n",
    "    \"task.nr_train_images\": 1200,\n",
    "    \"task.notebook\": \"notebooks/train-model.py\",\n",
    "    \"task.max_nr_retries\": \"1\",\n",
    "    \"run.retry_nr\": \"0\",\n",
    "    \"task.timeout_s\": \"None\",\n",
    "    \"task.num_cpus\": 1,\n",
    "    \"_opentelemetry_traceparent\": \"00-dfc87442c93bc941e6465acf075e7ed4-177104d6d3e5caa4-01\",\n",
    "}\n"
   ]
  },
  {
   "cell_type": "code",
   "execution_count": 4,
   "id": "ceafcdb6",
   "metadata": {
    "execution": {
     "iopub.execute_input": "2022-07-19T06:48:44.302634Z",
     "iopub.status.busy": "2022-07-19T06:48:44.302239Z",
     "iopub.status.idle": "2022-07-19T06:48:44.304999Z",
     "shell.execute_reply": "2022-07-19T06:48:44.304469Z"
    },
    "lines_to_next_cell": 0,
    "papermill": {
     "duration": 0.008868,
     "end_time": "2022-07-19T06:48:44.307464",
     "exception": false,
     "start_time": "2022-07-19T06:48:44.298596",
     "status": "completed"
    },
    "tags": []
   },
   "outputs": [],
   "source": [
    "# -----------------------------------------------------------------------"
   ]
  },
  {
   "cell_type": "markdown",
   "id": "041dec8a",
   "metadata": {
    "papermill": {
     "duration": 0.002958,
     "end_time": "2022-07-19T06:48:44.321294",
     "exception": false,
     "start_time": "2022-07-19T06:48:44.318336",
     "status": "completed"
    },
    "tags": []
   },
   "source": [
    "---"
   ]
  },
  {
   "cell_type": "markdown",
   "id": "69135516",
   "metadata": {
    "lines_to_next_cell": 2,
    "papermill": {
     "duration": 0.002732,
     "end_time": "2022-07-19T06:48:44.326878",
     "exception": false,
     "start_time": "2022-07-19T06:48:44.324146",
     "status": "completed"
    },
    "tags": []
   },
   "source": [
    "### Notebook code"
   ]
  },
  {
   "cell_type": "code",
   "execution_count": 5,
   "id": "b4ad4bd8",
   "metadata": {
    "execution": {
     "iopub.execute_input": "2022-07-19T06:48:44.341126Z",
     "iopub.status.busy": "2022-07-19T06:48:44.340861Z",
     "iopub.status.idle": "2022-07-19T06:48:44.819702Z",
     "shell.execute_reply": "2022-07-19T06:48:44.817773Z"
    },
    "papermill": {
     "duration": 0.485087,
     "end_time": "2022-07-19T06:48:44.821683",
     "exception": false,
     "start_time": "2022-07-19T06:48:44.336596",
     "status": "completed"
    },
    "tags": []
   },
   "outputs": [
    {
     "name": "stderr",
     "output_type": "stream",
     "text": [
      "2022-07-19 06:48:44,656\tINFO worker.py:842 -- Connecting to existing Ray cluster at address: 172.17.0.2:6379\n"
     ]
    }
   ],
   "source": [
    "from pynb_dag_runner.tasks.task_opentelemetry_logging import PydarLogger\n",
    "\n",
    "logger = PydarLogger(P)"
   ]
  },
  {
   "cell_type": "markdown",
   "id": "828299dd",
   "metadata": {
    "papermill": {
     "duration": 0.003031,
     "end_time": "2022-07-19T06:48:44.828260",
     "exception": false,
     "start_time": "2022-07-19T06:48:44.825229",
     "status": "completed"
    },
    "tags": []
   },
   "source": [
    "## Load and limit train data"
   ]
  },
  {
   "cell_type": "code",
   "execution_count": 6,
   "id": "1aae6591",
   "metadata": {
    "execution": {
     "iopub.execute_input": "2022-07-19T06:48:44.835445Z",
     "iopub.status.busy": "2022-07-19T06:48:44.835107Z",
     "iopub.status.idle": "2022-07-19T06:48:45.201124Z",
     "shell.execute_reply": "2022-07-19T06:48:45.200516Z"
    },
    "papermill": {
     "duration": 0.371906,
     "end_time": "2022-07-19T06:48:45.203173",
     "exception": false,
     "start_time": "2022-07-19T06:48:44.831267",
     "status": "completed"
    },
    "tags": []
   },
   "outputs": [],
   "source": [
    "def load_and_limit_train_data(P):\n",
    "    from common.io import datalake_root, read_numpy\n",
    "    from sklearn.model_selection import train_test_split\n",
    "\n",
    "    X_train_all = read_numpy(datalake_root(P) / \"train-data\" / \"digits.numpy\")\n",
    "    y_train_all = read_numpy(datalake_root(P) / \"train-data\" / \"labels.numpy\")\n",
    "\n",
    "    assert isinstance(P[\"task.nr_train_images\"], int)\n",
    "\n",
    "    # Note: train_test_split will fail if split is 0 or 100%.\n",
    "    assert 0 < P[\"task.nr_train_images\"] < len(y_train_all)\n",
    "\n",
    "    X_train, _, y_train, _ = train_test_split(\n",
    "        X_train_all,\n",
    "        y_train_all,\n",
    "        train_size=P[\"task.nr_train_images\"],\n",
    "        test_size=None,\n",
    "        stratify=y_train_all,\n",
    "        shuffle=True,\n",
    "        random_state=123,\n",
    "    )\n",
    "\n",
    "    assert X_train.shape == (len(y_train), 8 * 8)\n",
    "    return X_train, y_train\n",
    "\n",
    "\n",
    "X_train, y_train = load_and_limit_train_data(P)"
   ]
  },
  {
   "cell_type": "markdown",
   "id": "883d14a4",
   "metadata": {
    "papermill": {
     "duration": 0.003995,
     "end_time": "2022-07-19T06:48:45.212588",
     "exception": false,
     "start_time": "2022-07-19T06:48:45.208593",
     "status": "completed"
    },
    "tags": []
   },
   "source": [
    "## Train support vector classifier model\n",
    "\n",
    "Below we assume that the hyperparameter $C$ is known.\n",
    "\n",
    "However, this should ideally be found by a hyperparameter search. That could be\n",
    "done in parallel on the Ray cluster, but this needs some more work. Ie., to use\n",
    "multiple cores in the notebook, those cores should be reserved when starting the\n",
    "notebook task (TODO).\n",
    "\n",
    "- https://docs.ray.io/en/latest/tune/key-concepts.html\n",
    "\n",
    "Note: cv-scores would need to be computed here, since they depend on the train data.\n",
    "After this notebook only the onnx-model is available."
   ]
  },
  {
   "cell_type": "code",
   "execution_count": 7,
   "id": "4587c1f6",
   "metadata": {
    "execution": {
     "iopub.execute_input": "2022-07-19T06:48:45.219567Z",
     "iopub.status.busy": "2022-07-19T06:48:45.219318Z",
     "iopub.status.idle": "2022-07-19T06:48:45.239597Z",
     "shell.execute_reply": "2022-07-19T06:48:45.239045Z"
    },
    "papermill": {
     "duration": 0.025516,
     "end_time": "2022-07-19T06:48:45.241117",
     "exception": false,
     "start_time": "2022-07-19T06:48:45.215601",
     "status": "completed"
    },
    "tags": []
   },
   "outputs": [],
   "source": [
    "from sklearn.svm import SVC"
   ]
  },
  {
   "cell_type": "code",
   "execution_count": 8,
   "id": "c04f762b",
   "metadata": {
    "execution": {
     "iopub.execute_input": "2022-07-19T06:48:45.249059Z",
     "iopub.status.busy": "2022-07-19T06:48:45.248458Z",
     "iopub.status.idle": "2022-07-19T06:48:45.447249Z",
     "shell.execute_reply": "2022-07-19T06:48:45.446645Z"
    },
    "papermill": {
     "duration": 0.204708,
     "end_time": "2022-07-19T06:48:45.448949",
     "exception": false,
     "start_time": "2022-07-19T06:48:45.244241",
     "status": "completed"
    },
    "tags": []
   },
   "outputs": [
    {
     "data": {
      "text/plain": [
       "SVC(C=0.001, kernel='linear', probability=True)"
      ]
     },
     "execution_count": 8,
     "metadata": {},
     "output_type": "execute_result"
    }
   ],
   "source": [
    "model = SVC(C=0.001, kernel=\"linear\", probability=True)\n",
    "\n",
    "model.fit(X_train, y_train)"
   ]
  },
  {
   "cell_type": "markdown",
   "id": "aefdae54",
   "metadata": {
    "papermill": {
     "duration": 0.003222,
     "end_time": "2022-07-19T06:48:45.456003",
     "exception": false,
     "start_time": "2022-07-19T06:48:45.452781",
     "status": "completed"
    },
    "tags": []
   },
   "source": [
    "### Q: Can the labels returned by `predict(..)` be computed from probabilities returned by the `predict_prob`-method?"
   ]
  },
  {
   "cell_type": "code",
   "execution_count": 9,
   "id": "7852a4e8",
   "metadata": {
    "execution": {
     "iopub.execute_input": "2022-07-19T06:48:45.465000Z",
     "iopub.status.busy": "2022-07-19T06:48:45.464742Z",
     "iopub.status.idle": "2022-07-19T06:48:45.567406Z",
     "shell.execute_reply": "2022-07-19T06:48:45.566804Z"
    },
    "papermill": {
     "duration": 0.109005,
     "end_time": "2022-07-19T06:48:45.569187",
     "exception": false,
     "start_time": "2022-07-19T06:48:45.460182",
     "status": "completed"
    },
    "tags": []
   },
   "outputs": [
    {
     "name": "stdout",
     "output_type": "stream",
     "text": [
      " - Logging nr_max_prob_neq_label (int) : 3\n"
     ]
    }
   ],
   "source": [
    "import numpy as np\n",
    "\n",
    "y_train_labels = model.predict(X_train)\n",
    "y_train_probabilities = model.predict_proba(X_train)\n",
    "assert y_train_probabilities.shape == (len(y_train), 10)\n",
    "\n",
    "y_train_max_prob_labels = np.argmax(y_train_probabilities, axis=1)\n",
    "assert y_train_labels.shape == y_train_max_prob_labels.shape == y_train.shape\n",
    "\n",
    "# If the predicted labels would coincide with the labels that have\n",
    "# maximum probability, the below number would be zero\n",
    "logger.log_int(\n",
    "    \"nr_max_prob_neq_label\", int(sum(y_train_max_prob_labels != y_train_labels))\n",
    ")"
   ]
  },
  {
   "cell_type": "markdown",
   "id": "22c75c56",
   "metadata": {
    "papermill": {
     "duration": 0.003311,
     "end_time": "2022-07-19T06:48:45.576535",
     "exception": false,
     "start_time": "2022-07-19T06:48:45.573224",
     "status": "completed"
    },
    "tags": []
   },
   "source": [
    "The explanation is (likely) explained in the SVC source, see\n",
    "[here](https://github.com/scikit-learn/scikit-learn/blob/main/sklearn/svm/_base.py).\n",
    "Namely, the outputs from `predict(..)` and `predict_proba(..)` may not in some\n",
    "cases be compatible since the latter is computed using cross-validation while\n",
    "the former is not. Thus, the above number need not be zero."
   ]
  },
  {
   "cell_type": "markdown",
   "id": "51f501e9",
   "metadata": {
    "papermill": {
     "duration": 0.003172,
     "end_time": "2022-07-19T06:48:45.582951",
     "exception": false,
     "start_time": "2022-07-19T06:48:45.579779",
     "status": "completed"
    },
    "tags": []
   },
   "source": [
    "## Persist model"
   ]
  },
  {
   "cell_type": "code",
   "execution_count": 10,
   "id": "59ec0444",
   "metadata": {
    "execution": {
     "iopub.execute_input": "2022-07-19T06:48:45.590744Z",
     "iopub.status.busy": "2022-07-19T06:48:45.590506Z",
     "iopub.status.idle": "2022-07-19T06:48:46.314674Z",
     "shell.execute_reply": "2022-07-19T06:48:46.313805Z"
    },
    "papermill": {
     "duration": 0.730439,
     "end_time": "2022-07-19T06:48:46.316850",
     "exception": false,
     "start_time": "2022-07-19T06:48:45.586411",
     "status": "completed"
    },
    "tags": []
   },
   "outputs": [],
   "source": [
    "from skl2onnx import convert_sklearn\n",
    "from skl2onnx.common.data_types import FloatTensorType\n",
    "\n",
    "#\n",
    "from common.io import datalake_root, write_onnx"
   ]
  },
  {
   "cell_type": "code",
   "execution_count": 11,
   "id": "9ccb10fd",
   "metadata": {
    "execution": {
     "iopub.execute_input": "2022-07-19T06:48:46.325950Z",
     "iopub.status.busy": "2022-07-19T06:48:46.325354Z",
     "iopub.status.idle": "2022-07-19T06:48:46.377958Z",
     "shell.execute_reply": "2022-07-19T06:48:46.377387Z"
    },
    "papermill": {
     "duration": 0.058695,
     "end_time": "2022-07-19T06:48:46.379778",
     "exception": false,
     "start_time": "2022-07-19T06:48:46.321083",
     "status": "completed"
    },
    "tags": []
   },
   "outputs": [],
   "source": [
    "# convert sklearn model into onnx and persist to data lake\n",
    "\n",
    "model_onnx = convert_sklearn(\n",
    "    model, initial_types=[(\"float_input_8x8_image\", FloatTensorType([None, 8 * 8]))]\n",
    ")\n",
    "write_onnx(\n",
    "    datalake_root(P)\n",
    "    / \"models\"\n",
    "    / f\"nr_train_images={P['task.nr_train_images']}\"\n",
    "    / \"model.onnx\",\n",
    "    model_onnx,\n",
    ")"
   ]
  },
  {
   "cell_type": "code",
   "execution_count": null,
   "id": "e641ca03",
   "metadata": {
    "papermill": {
     "duration": 0.00373,
     "end_time": "2022-07-19T06:48:46.387175",
     "exception": false,
     "start_time": "2022-07-19T06:48:46.383445",
     "status": "completed"
    },
    "tags": []
   },
   "outputs": [],
   "source": []
  }
 ],
 "metadata": {
  "jupytext": {
   "cell_metadata_filter": "tags,-all",
   "main_language": "python",
   "notebook_metadata_filter": "-all"
  },
  "language_info": {
   "codemirror_mode": {
    "name": "ipython",
    "version": 3
   },
   "file_extension": ".py",
   "mimetype": "text/x-python",
   "name": "python",
   "nbconvert_exporter": "python",
   "pygments_lexer": "ipython3",
   "version": "3.8.10"
  },
  "papermill": {
   "default_parameters": {},
   "duration": 4.368101,
   "end_time": "2022-07-19T06:48:47.413643",
   "environment_variables": {},
   "exception": null,
   "input_path": "/home/host_user/workspace/mnist-demo-pipeline/mnist-demo-pipeline/notebooks/temp-notebook-eifsek7x.ipynb",
   "output_path": "notebooks/train-model.ipynb",
   "parameters": {
    "P": {
     "_opentelemetry_traceparent": "00-dfc87442c93bc941e6465acf075e7ed4-177104d6d3e5caa4-01",
     "pipeline.data_lake_root": "/pipeline-outputs/data-lake",
     "pipeline.github.actor": "matiasdahl",
     "pipeline.github.base_ref": "",
     "pipeline.github.event_name": "schedule",
     "pipeline.github.head_ref": "",
     "pipeline.github.job": "run-tests-pipeline-and-persist-pipeline-outputs",
     "pipeline.github.ref": "refs/heads/development",
     "pipeline.github.ref_name": "development",
     "pipeline.github.ref_type": "branch",
     "pipeline.github.repository": "pynb-dag-runner/mnist-digits-demo-pipeline",
     "pipeline.github.run_id": "2695663229",
     "pipeline.github.runner_name": "Hosted Agent",
     "pipeline.github.sha": "147a1be9916173fd4d2cd011d8d51e3411215850",
     "pipeline.github.workflow": "Run automated tests, pipeline and deploy results to static reporting site",
     "pipeline.pipeline_run_id": "c5d84876-79e0-46e1-bbd8-00737a518f44",
     "pipeline.run_environment": "ci",
     "run.retry_nr": "0",
     "task.max_nr_retries": "1",
     "task.notebook": "notebooks/train-model.py",
     "task.nr_train_images": 1200,
     "task.num_cpus": 1,
     "task.timeout_s": "None"
    }
   },
   "start_time": "2022-07-19T06:48:43.045542",
   "version": "2.3.3"
  }
 },
 "nbformat": 4,
 "nbformat_minor": 5
}