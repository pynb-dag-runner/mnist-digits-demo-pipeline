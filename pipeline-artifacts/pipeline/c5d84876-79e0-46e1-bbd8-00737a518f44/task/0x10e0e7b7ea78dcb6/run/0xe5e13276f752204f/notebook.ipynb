{
 "cells": [
  {
   "cell_type": "markdown",
   "id": "3490968d",
   "metadata": {
    "papermill": {
     "duration": 0.005444,
     "end_time": "2022-07-19T06:48:57.306301",
     "exception": false,
     "start_time": "2022-07-19T06:48:57.300857",
     "status": "completed"
    },
    "tags": []
   },
   "source": [
    "# Benchmark model\n",
    "\n",
    "The purpose of this notebook is to benchmark persisted onnx-model (trained in the\n",
    "previous step) against evaluation set."
   ]
  },
  {
   "cell_type": "markdown",
   "id": "46d82f9f",
   "metadata": {
    "papermill": {
     "duration": 0.003809,
     "end_time": "2022-07-19T06:48:57.314384",
     "exception": false,
     "start_time": "2022-07-19T06:48:57.310575",
     "status": "completed"
    },
    "tags": []
   },
   "source": [
    "### Determine run parameters"
   ]
  },
  {
   "cell_type": "code",
   "execution_count": 1,
   "id": "5c12186b",
   "metadata": {
    "execution": {
     "iopub.execute_input": "2022-07-19T06:48:57.323659Z",
     "iopub.status.busy": "2022-07-19T06:48:57.323175Z",
     "iopub.status.idle": "2022-07-19T06:48:57.330501Z",
     "shell.execute_reply": "2022-07-19T06:48:57.329868Z"
    },
    "lines_to_next_cell": 0,
    "papermill": {
     "duration": 0.013884,
     "end_time": "2022-07-19T06:48:57.331963",
     "exception": false,
     "start_time": "2022-07-19T06:48:57.318079",
     "status": "completed"
    },
    "tags": []
   },
   "outputs": [],
   "source": [
    "# ----------------- Parameters for interactive development --------------\n",
    "P = {\n",
    "    \"pipeline.data_lake_root\": \"/pipeline-outputs/data-lake\",\n",
    "    \"task.nr_train_images\": 600,\n",
    "}"
   ]
  },
  {
   "cell_type": "code",
   "execution_count": 2,
   "id": "291dac91",
   "metadata": {
    "execution": {
     "iopub.execute_input": "2022-07-19T06:48:57.340958Z",
     "iopub.status.busy": "2022-07-19T06:48:57.340548Z",
     "iopub.status.idle": "2022-07-19T06:48:57.343715Z",
     "shell.execute_reply": "2022-07-19T06:48:57.343133Z"
    },
    "lines_to_next_cell": 0,
    "papermill": {
     "duration": 0.009212,
     "end_time": "2022-07-19T06:48:57.345172",
     "exception": false,
     "start_time": "2022-07-19T06:48:57.335960",
     "status": "completed"
    },
    "tags": [
     "parameters"
    ]
   },
   "outputs": [],
   "source": [
    "# - During automated runs parameters will be injected in the below cell -"
   ]
  },
  {
   "cell_type": "code",
   "execution_count": 3,
   "id": "10cc88e1",
   "metadata": {
    "execution": {
     "iopub.execute_input": "2022-07-19T06:48:57.354464Z",
     "iopub.status.busy": "2022-07-19T06:48:57.353916Z",
     "iopub.status.idle": "2022-07-19T06:48:57.358986Z",
     "shell.execute_reply": "2022-07-19T06:48:57.357921Z"
    },
    "papermill": {
     "duration": 0.011397,
     "end_time": "2022-07-19T06:48:57.360377",
     "exception": false,
     "start_time": "2022-07-19T06:48:57.348980",
     "status": "completed"
    },
    "tags": [
     "injected-parameters"
    ]
   },
   "outputs": [],
   "source": [
    "# Parameters\n",
    "P = {\n",
    "    \"pipeline.data_lake_root\": \"/pipeline-outputs/data-lake\",\n",
    "    \"pipeline.run_environment\": \"ci\",\n",
    "    \"pipeline.pipeline_run_id\": \"c5d84876-79e0-46e1-bbd8-00737a518f44\",\n",
    "    \"pipeline.github.repository\": \"pynb-dag-runner/mnist-digits-demo-pipeline\",\n",
    "    \"pipeline.github.workflow\": \"Run automated tests, pipeline and deploy results to static reporting site\",\n",
    "    \"pipeline.github.runner_name\": \"Hosted Agent\",\n",
    "    \"pipeline.github.run_id\": \"2695663229\",\n",
    "    \"pipeline.github.actor\": \"matiasdahl\",\n",
    "    \"pipeline.github.job\": \"run-tests-pipeline-and-persist-pipeline-outputs\",\n",
    "    \"pipeline.github.base_ref\": \"\",\n",
    "    \"pipeline.github.head_ref\": \"\",\n",
    "    \"pipeline.github.sha\": \"147a1be9916173fd4d2cd011d8d51e3411215850\",\n",
    "    \"pipeline.github.ref\": \"refs/heads/development\",\n",
    "    \"pipeline.github.ref_type\": \"branch\",\n",
    "    \"pipeline.github.ref_name\": \"development\",\n",
    "    \"pipeline.github.event_name\": \"schedule\",\n",
    "    \"task.nr_train_images\": 1000,\n",
    "    \"task.notebook\": \"notebooks/benchmark-model.py\",\n",
    "    \"task.max_nr_retries\": \"1\",\n",
    "    \"run.retry_nr\": \"0\",\n",
    "    \"task.timeout_s\": \"None\",\n",
    "    \"task.num_cpus\": 1,\n",
    "    \"_opentelemetry_traceparent\": \"00-dfc87442c93bc941e6465acf075e7ed4-6fa97e468e7201fe-01\",\n",
    "}\n"
   ]
  },
  {
   "cell_type": "code",
   "execution_count": 4,
   "id": "d739cbf9",
   "metadata": {
    "execution": {
     "iopub.execute_input": "2022-07-19T06:48:57.370590Z",
     "iopub.status.busy": "2022-07-19T06:48:57.370270Z",
     "iopub.status.idle": "2022-07-19T06:48:57.373361Z",
     "shell.execute_reply": "2022-07-19T06:48:57.372653Z"
    },
    "lines_to_next_cell": 0,
    "papermill": {
     "duration": 0.009259,
     "end_time": "2022-07-19T06:48:57.374815",
     "exception": false,
     "start_time": "2022-07-19T06:48:57.365556",
     "status": "completed"
    },
    "tags": []
   },
   "outputs": [],
   "source": [
    "# -----------------------------------------------------------------------"
   ]
  },
  {
   "cell_type": "markdown",
   "id": "a7d2a9b0",
   "metadata": {
    "papermill": {
     "duration": 0.003789,
     "end_time": "2022-07-19T06:48:57.382405",
     "exception": false,
     "start_time": "2022-07-19T06:48:57.378616",
     "status": "completed"
    },
    "tags": []
   },
   "source": [
    "---"
   ]
  },
  {
   "cell_type": "markdown",
   "id": "6700263d",
   "metadata": {
    "lines_to_next_cell": 2,
    "papermill": {
     "duration": 0.003864,
     "end_time": "2022-07-19T06:48:57.390572",
     "exception": false,
     "start_time": "2022-07-19T06:48:57.386708",
     "status": "completed"
    },
    "tags": []
   },
   "source": [
    "### Notebook code"
   ]
  },
  {
   "cell_type": "code",
   "execution_count": 5,
   "id": "6f7a459b",
   "metadata": {
    "execution": {
     "iopub.execute_input": "2022-07-19T06:48:57.402067Z",
     "iopub.status.busy": "2022-07-19T06:48:57.401598Z",
     "iopub.status.idle": "2022-07-19T06:48:58.546036Z",
     "shell.execute_reply": "2022-07-19T06:48:58.545244Z"
    },
    "papermill": {
     "duration": 1.153119,
     "end_time": "2022-07-19T06:48:58.548061",
     "exception": false,
     "start_time": "2022-07-19T06:48:57.394942",
     "status": "completed"
    },
    "tags": []
   },
   "outputs": [
    {
     "name": "stderr",
     "output_type": "stream",
     "text": [
      "2022-07-19 06:48:58,387\tINFO worker.py:842 -- Connecting to existing Ray cluster at address: 172.17.0.2:6379\n"
     ]
    }
   ],
   "source": [
    "import itertools as it\n",
    "\n",
    "#\n",
    "import numpy as np\n",
    "import matplotlib.pyplot as plt\n",
    "\n",
    "#\n",
    "from pynb_dag_runner.tasks.task_opentelemetry_logging import PydarLogger\n",
    "\n",
    "#\n",
    "from common.io import datalake_root\n",
    "\n",
    "logger = PydarLogger(P)"
   ]
  },
  {
   "cell_type": "markdown",
   "id": "70df7d72",
   "metadata": {
    "papermill": {
     "duration": 0.004068,
     "end_time": "2022-07-19T06:48:58.557038",
     "exception": false,
     "start_time": "2022-07-19T06:48:58.552970",
     "status": "completed"
    },
    "tags": []
   },
   "source": [
    "## Load persisted onnx-model and evaluation data"
   ]
  },
  {
   "cell_type": "code",
   "execution_count": 6,
   "id": "fb5b1b4d",
   "metadata": {
    "execution": {
     "iopub.execute_input": "2022-07-19T06:48:58.567172Z",
     "iopub.status.busy": "2022-07-19T06:48:58.566337Z",
     "iopub.status.idle": "2022-07-19T06:48:58.569876Z",
     "shell.execute_reply": "2022-07-19T06:48:58.569343Z"
    },
    "papermill": {
     "duration": 0.011871,
     "end_time": "2022-07-19T06:48:58.573071",
     "exception": false,
     "start_time": "2022-07-19T06:48:58.561200",
     "status": "completed"
    },
    "tags": []
   },
   "outputs": [],
   "source": [
    "from common.io import read_onnx, get_onnx_inputs, get_onnx_outputs, read_numpy"
   ]
  },
  {
   "cell_type": "code",
   "execution_count": 7,
   "id": "a24eafaf",
   "metadata": {
    "execution": {
     "iopub.execute_input": "2022-07-19T06:48:58.582525Z",
     "iopub.status.busy": "2022-07-19T06:48:58.582308Z",
     "iopub.status.idle": "2022-07-19T06:48:58.593074Z",
     "shell.execute_reply": "2022-07-19T06:48:58.592542Z"
    },
    "lines_to_next_cell": 0,
    "papermill": {
     "duration": 0.017728,
     "end_time": "2022-07-19T06:48:58.594923",
     "exception": false,
     "start_time": "2022-07-19T06:48:58.577195",
     "status": "completed"
    },
    "tags": []
   },
   "outputs": [],
   "source": [
    "onnx_inference_session = read_onnx(\n",
    "    datalake_root(P)\n",
    "    / \"models\"\n",
    "    / f\"nr_train_images={P['task.nr_train_images']}\"\n",
    "    / \"model.onnx\"\n",
    ")"
   ]
  },
  {
   "cell_type": "markdown",
   "id": "8c35895d",
   "metadata": {
    "papermill": {
     "duration": 0.004819,
     "end_time": "2022-07-19T06:48:58.603804",
     "exception": false,
     "start_time": "2022-07-19T06:48:58.598985",
     "status": "completed"
    },
    "tags": []
   },
   "source": [
    "### Record structure of inputs and outputs for ONNX model\n",
    "\n",
    "(this should likely be done in training notebook)"
   ]
  },
  {
   "cell_type": "code",
   "execution_count": 8,
   "id": "8c28f8f5",
   "metadata": {
    "execution": {
     "iopub.execute_input": "2022-07-19T06:48:58.613364Z",
     "iopub.status.busy": "2022-07-19T06:48:58.613140Z",
     "iopub.status.idle": "2022-07-19T06:48:58.619155Z",
     "shell.execute_reply": "2022-07-19T06:48:58.618615Z"
    },
    "papermill": {
     "duration": 0.016233,
     "end_time": "2022-07-19T06:48:58.624131",
     "exception": false,
     "start_time": "2022-07-19T06:48:58.607898",
     "status": "completed"
    },
    "tags": []
   },
   "outputs": [
    {
     "name": "stdout",
     "output_type": "stream",
     "text": [
      "{\n",
      "  \"inputs\": [\n",
      "    {\n",
      "      \"name\": \"float_input_8x8_image\",\n",
      "      \"shape\": [\n",
      "        null,\n",
      "        64\n",
      "      ],\n",
      "      \"type\": \"tensor(float)\"\n",
      "    }\n",
      "  ],\n",
      "  \"outputs\": [\n",
      "    {\n",
      "      \"name\": \"output_label\",\n",
      "      \"shape\": [\n",
      "        null\n",
      "      ],\n",
      "      \"type\": \"tensor(int64)\"\n",
      "    },\n",
      "    {\n",
      "      \"name\": \"output_probability\",\n",
      "      \"shape\": [],\n",
      "      \"type\": \"seq(map(int64,tensor(float)))\"\n",
      "    }\n",
      "  ]\n",
      "}\n"
     ]
    }
   ],
   "source": [
    "import json\n",
    "\n",
    "onnx_io = json.dumps(\n",
    "    {\n",
    "        \"inputs\": get_onnx_inputs(onnx_inference_session),\n",
    "        \"outputs\": get_onnx_outputs(onnx_inference_session),\n",
    "    },\n",
    "    indent=2,\n",
    ")\n",
    "\n",
    "\n",
    "logger.log_artefact(\"onnx_io_structure.json\", onnx_io)\n",
    "print(onnx_io)"
   ]
  },
  {
   "cell_type": "markdown",
   "id": "354f4e77",
   "metadata": {
    "papermill": {
     "duration": 0.004614,
     "end_time": "2022-07-19T06:48:58.632985",
     "exception": false,
     "start_time": "2022-07-19T06:48:58.628371",
     "status": "completed"
    },
    "tags": []
   },
   "source": [
    "### Evaluate model performance on evaluation data set"
   ]
  },
  {
   "cell_type": "code",
   "execution_count": 9,
   "id": "78fde55d",
   "metadata": {
    "execution": {
     "iopub.execute_input": "2022-07-19T06:48:58.642377Z",
     "iopub.status.busy": "2022-07-19T06:48:58.642137Z",
     "iopub.status.idle": "2022-07-19T06:48:58.646774Z",
     "shell.execute_reply": "2022-07-19T06:48:58.646106Z"
    },
    "papermill": {
     "duration": 0.01131,
     "end_time": "2022-07-19T06:48:58.648312",
     "exception": false,
     "start_time": "2022-07-19T06:48:58.637002",
     "status": "completed"
    },
    "tags": []
   },
   "outputs": [],
   "source": [
    "# load evaluation data\n",
    "X_test = read_numpy(datalake_root(P) / \"test-data\" / \"digits.numpy\")\n",
    "y_test = read_numpy(datalake_root(P) / \"test-data\" / \"labels.numpy\")"
   ]
  },
  {
   "cell_type": "code",
   "execution_count": 10,
   "id": "f763cd7b",
   "metadata": {
    "execution": {
     "iopub.execute_input": "2022-07-19T06:48:58.658965Z",
     "iopub.status.busy": "2022-07-19T06:48:58.658520Z",
     "iopub.status.idle": "2022-07-19T06:48:58.672371Z",
     "shell.execute_reply": "2022-07-19T06:48:58.671778Z"
    },
    "papermill": {
     "duration": 0.021202,
     "end_time": "2022-07-19T06:48:58.673983",
     "exception": false,
     "start_time": "2022-07-19T06:48:58.652781",
     "status": "completed"
    },
    "tags": []
   },
   "outputs": [],
   "source": [
    "def get_model_outputs(X, onnx_inference_session):\n",
    "    y_pred_labels, y_pred_map = onnx_inference_session.run(\n",
    "        [\"output_label\", \"output_probability\"],\n",
    "        {\"float_input_8x8_image\": X.astype(np.float32)},\n",
    "    )\n",
    "    y_pred_probs = np.array(\n",
    "        [[probabilities[digit] for digit in range(10)] for probabilities in y_pred_map]\n",
    "    )\n",
    "\n",
    "    assert y_pred_labels.shape == (X.shape[0],)\n",
    "    assert y_pred_probs.shape == (X.shape[0], 10)\n",
    "\n",
    "    return y_pred_labels, y_pred_probs\n",
    "\n",
    "\n",
    "# Note: as shown in the training notebook, the predicted labels and probabilities\n",
    "# computed below need not be compatible.\n",
    "y_pred_labels_test, y_pred_probs_test = get_model_outputs(\n",
    "    X_test, onnx_inference_session\n",
    ")"
   ]
  },
  {
   "cell_type": "markdown",
   "id": "abd575c2",
   "metadata": {
    "papermill": {
     "duration": 0.004633,
     "end_time": "2022-07-19T06:48:58.682906",
     "exception": false,
     "start_time": "2022-07-19T06:48:58.678273",
     "status": "completed"
    },
    "tags": []
   },
   "source": [
    "### Confusion matrix"
   ]
  },
  {
   "cell_type": "code",
   "execution_count": 11,
   "id": "7b2726ac",
   "metadata": {
    "execution": {
     "iopub.execute_input": "2022-07-19T06:48:58.692143Z",
     "iopub.status.busy": "2022-07-19T06:48:58.691924Z",
     "iopub.status.idle": "2022-07-19T06:48:58.694826Z",
     "shell.execute_reply": "2022-07-19T06:48:58.694276Z"
    },
    "papermill": {
     "duration": 0.010317,
     "end_time": "2022-07-19T06:48:58.697458",
     "exception": false,
     "start_time": "2022-07-19T06:48:58.687141",
     "status": "completed"
    },
    "tags": []
   },
   "outputs": [],
   "source": [
    "# TODO"
   ]
  },
  {
   "cell_type": "markdown",
   "id": "4af594d7",
   "metadata": {
    "papermill": {
     "duration": 0.004453,
     "end_time": "2022-07-19T06:48:58.706194",
     "exception": false,
     "start_time": "2022-07-19T06:48:58.701741",
     "status": "completed"
    },
    "tags": []
   },
   "source": [
    "### Plot predicted probabilities for each classifier over all evaluation digit images"
   ]
  },
  {
   "cell_type": "code",
   "execution_count": 12,
   "id": "9e99f55f",
   "metadata": {
    "execution": {
     "iopub.execute_input": "2022-07-19T06:48:58.715692Z",
     "iopub.status.busy": "2022-07-19T06:48:58.715463Z",
     "iopub.status.idle": "2022-07-19T06:49:01.667424Z",
     "shell.execute_reply": "2022-07-19T06:49:01.666857Z"
    },
    "papermill": {
     "duration": 2.958917,
     "end_time": "2022-07-19T06:49:01.669230",
     "exception": false,
     "start_time": "2022-07-19T06:48:58.710313",
     "status": "completed"
    },
    "tags": []
   },
   "outputs": [
    {
     "data": {
      "image/png": "[encoded data removed]",
      "text/plain": [
       "<Figure size 1152x432 with 10 Axes>"
      ]
     },
     "metadata": {
      "needs_background": "light"
     },
     "output_type": "display_data"
    }
   ],
   "source": [
    "def plot_per_digit_probabilities(y_pred_probs):\n",
    "    fig, axs = plt.subplots(nrows=2, ncols=5, figsize=(16, 6))\n",
    "\n",
    "    for (r, c), digit, ax in zip(\n",
    "        it.product(range(2), range(5)), range(10), axs.reshape(-1)\n",
    "    ):\n",
    "        ax.hist(y_pred_probs_test[:, digit], bins=20)\n",
    "\n",
    "        ax.set_title(f\"Digit {digit}\")\n",
    "        if r == 1 and c == 2:\n",
    "            ax.set_xlabel(\"probability\", fontsize=16)\n",
    "\n",
    "        if c == 0:\n",
    "            ax.set_ylabel(\"counts\", fontsize=16)\n",
    "        ax.set_yscale(\"log\")\n",
    "\n",
    "    fig.tight_layout()\n",
    "    fig.suptitle(\n",
    "        f\"Distributions of prediction probabilities for each digit \"\n",
    "        f\"(on evaluation data, n={y_pred_probs.shape[0]})\",\n",
    "        fontsize=20,\n",
    "    )\n",
    "    fig.tight_layout()\n",
    "    fig.show()\n",
    "\n",
    "    return fig\n",
    "\n",
    "\n",
    "fig = plot_per_digit_probabilities(y_pred_probs_test)"
   ]
  },
  {
   "cell_type": "markdown",
   "id": "654544b2",
   "metadata": {
    "papermill": {
     "duration": 0.00457,
     "end_time": "2022-07-19T06:49:01.679881",
     "exception": false,
     "start_time": "2022-07-19T06:49:01.675311",
     "status": "completed"
    },
    "tags": []
   },
   "source": [
    "From the above distributions we see that most digits have clear separation between\n",
    "high and lower probabilities. Morover, in each case there is roughly an order of\n",
    "magnitude more of digits with low probabilities. This is compatible with digits\n",
    "being roughly evenly distributed in the data."
   ]
  },
  {
   "cell_type": "code",
   "execution_count": 13,
   "id": "f15e206f",
   "metadata": {
    "execution": {
     "iopub.execute_input": "2022-07-19T06:49:01.690950Z",
     "iopub.status.busy": "2022-07-19T06:49:01.690604Z",
     "iopub.status.idle": "2022-07-19T06:49:02.136981Z",
     "shell.execute_reply": "2022-07-19T06:49:02.136103Z"
    },
    "papermill": {
     "duration": 0.454244,
     "end_time": "2022-07-19T06:49:02.139081",
     "exception": false,
     "start_time": "2022-07-19T06:49:01.684837",
     "status": "completed"
    },
    "tags": []
   },
   "outputs": [],
   "source": [
    "logger.log_figure(\"per-digit-probabilities.png\", fig)"
   ]
  },
  {
   "cell_type": "markdown",
   "id": "8e0e3818",
   "metadata": {
    "papermill": {
     "duration": 0.005612,
     "end_time": "2022-07-19T06:49:02.150157",
     "exception": false,
     "start_time": "2022-07-19T06:49:02.144545",
     "status": "completed"
    },
    "tags": []
   },
   "source": [
    "### Plot ROC curves for individual one-vs-rest classifiers"
   ]
  },
  {
   "cell_type": "code",
   "execution_count": 14,
   "id": "2a66d561",
   "metadata": {
    "execution": {
     "iopub.execute_input": "2022-07-19T06:49:02.163706Z",
     "iopub.status.busy": "2022-07-19T06:49:02.162804Z",
     "iopub.status.idle": "2022-07-19T06:49:02.554550Z",
     "shell.execute_reply": "2022-07-19T06:49:02.553932Z"
    },
    "papermill": {
     "duration": 0.400105,
     "end_time": "2022-07-19T06:49:02.556333",
     "exception": false,
     "start_time": "2022-07-19T06:49:02.156228",
     "status": "completed"
    },
    "tags": []
   },
   "outputs": [],
   "source": [
    "from sklearn import metrics"
   ]
  },
  {
   "cell_type": "code",
   "execution_count": 15,
   "id": "931be58f",
   "metadata": {
    "execution": {
     "iopub.execute_input": "2022-07-19T06:49:02.575238Z",
     "iopub.status.busy": "2022-07-19T06:49:02.574700Z",
     "iopub.status.idle": "2022-07-19T06:49:03.659719Z",
     "shell.execute_reply": "2022-07-19T06:49:03.658957Z"
    },
    "papermill": {
     "duration": 1.099347,
     "end_time": "2022-07-19T06:49:03.661450",
     "exception": false,
     "start_time": "2022-07-19T06:49:02.562103",
     "status": "completed"
    },
    "tags": []
   },
   "outputs": [
    {
     "data": {
      "image/png": "[encoded data removed]",
      "text/plain": [
       "<Figure size 1152x576 with 10 Axes>"
      ]
     },
     "metadata": {
      "needs_background": "light"
     },
     "output_type": "display_data"
    }
   ],
   "source": [
    "def plot_roc_curves(y, y_pred_probs):\n",
    "    # based on example code\n",
    "    # https://scikit-learn.org/stable/auto_examples/model_selection/plot_roc.html\n",
    "\n",
    "    fig, axs = plt.subplots(nrows=2, ncols=5, figsize=(16, 8))\n",
    "\n",
    "    roc_auc_dict = {}\n",
    "\n",
    "    for (r, c), digit, ax in zip(\n",
    "        it.product(range(2), range(5)), range(10), axs.reshape(-1)\n",
    "    ):\n",
    "        fpr, tpr, _ = metrics.roc_curve(y == digit, y_pred_probs[:, digit])\n",
    "        auc = metrics.auc(fpr, tpr)\n",
    "        roc_auc_dict[str(digit)] = auc\n",
    "\n",
    "        ax.plot(fpr, tpr, label=f\"ROC AUC={round(auc, 3)}\")\n",
    "\n",
    "        ax.set_title(f\"\\nDigit {digit}\", fontsize=16)\n",
    "        if r == 1:\n",
    "            ax.set_xlabel(\"FPR\", fontsize=18)\n",
    "\n",
    "        if c == 0:\n",
    "            ax.set_ylabel(\"TPR\", fontsize=18)\n",
    "\n",
    "        ax.set_xlim([-0.05, 1.05])\n",
    "        ax.set_ylim([-0.05, 1.05])\n",
    "        ax.legend(loc=\"lower right\", frameon=False, fontsize=14)\n",
    "\n",
    "    fig.tight_layout()\n",
    "    fig.suptitle(\n",
    "        f\"ROC plots for one-vs-rest performances \"\n",
    "        f\"(on evaluation data, n={y_pred_probs_test.shape[1]}\",\n",
    "        fontsize=22,\n",
    "    )\n",
    "    fig.tight_layout()\n",
    "    fig.show()\n",
    "\n",
    "    return roc_auc_dict, fig\n",
    "\n",
    "\n",
    "roc_auc_dict, fig = plot_roc_curves(y_test, y_pred_probs_test)"
   ]
  },
  {
   "cell_type": "code",
   "execution_count": 16,
   "id": "f29cd8bb",
   "metadata": {
    "execution": {
     "iopub.execute_input": "2022-07-19T06:49:03.674588Z",
     "iopub.status.busy": "2022-07-19T06:49:03.674187Z",
     "iopub.status.idle": "2022-07-19T06:49:03.899973Z",
     "shell.execute_reply": "2022-07-19T06:49:03.899229Z"
    },
    "papermill": {
     "duration": 0.234563,
     "end_time": "2022-07-19T06:49:03.901997",
     "exception": false,
     "start_time": "2022-07-19T06:49:03.667434",
     "status": "completed"
    },
    "tags": []
   },
   "outputs": [],
   "source": [
    "logger.log_figure(\"per-digit-roc-curves.png\", fig)"
   ]
  },
  {
   "cell_type": "code",
   "execution_count": 17,
   "id": "0eb775bb",
   "metadata": {
    "execution": {
     "iopub.execute_input": "2022-07-19T06:49:03.914994Z",
     "iopub.status.busy": "2022-07-19T06:49:03.914475Z",
     "iopub.status.idle": "2022-07-19T06:49:03.919120Z",
     "shell.execute_reply": "2022-07-19T06:49:03.918592Z"
    },
    "papermill": {
     "duration": 0.013566,
     "end_time": "2022-07-19T06:49:03.921953",
     "exception": false,
     "start_time": "2022-07-19T06:49:03.908387",
     "status": "completed"
    },
    "tags": []
   },
   "outputs": [
    {
     "data": {
      "text/plain": [
       "{'0': 1.0,\n",
       " '1': 0.998875351452671,\n",
       " '2': 1.0,\n",
       " '3': 0.9998125585754452,\n",
       " '4': 0.9996189605243103,\n",
       " '5': 0.9994376757263355,\n",
       " '6': 0.999923792104862,\n",
       " '7': 0.9997713763145862,\n",
       " '8': 0.994561790668348,\n",
       " '9': 0.9995427526291724}"
      ]
     },
     "execution_count": 17,
     "metadata": {},
     "output_type": "execute_result"
    }
   ],
   "source": [
    "roc_auc_dict"
   ]
  },
  {
   "cell_type": "code",
   "execution_count": 18,
   "id": "6badb081",
   "metadata": {
    "execution": {
     "iopub.execute_input": "2022-07-19T06:49:03.934033Z",
     "iopub.status.busy": "2022-07-19T06:49:03.933741Z",
     "iopub.status.idle": "2022-07-19T06:49:03.938087Z",
     "shell.execute_reply": "2022-07-19T06:49:03.937263Z"
    },
    "papermill": {
     "duration": 0.013072,
     "end_time": "2022-07-19T06:49:03.940699",
     "exception": false,
     "start_time": "2022-07-19T06:49:03.927627",
     "status": "completed"
    },
    "tags": []
   },
   "outputs": [
    {
     "name": "stdout",
     "output_type": "stream",
     "text": [
      " - Logging roc_auc_per_digit (json) : {'0': 1.0, '1': 0.998875351452671, '2': 1.0, '3': 0.9998125585754452, '4': 0.9996189605243103, '5': 0.9994376757263355, '6': 0.999923792104862, '7': 0.9997713763145862, '8': 0.994561790668348, '9': 0.9995427526291724}\n"
     ]
    }
   ],
   "source": [
    "logger.log_value(\"roc_auc_per_digit\", roc_auc_dict)"
   ]
  },
  {
   "cell_type": "markdown",
   "id": "ca0827b7",
   "metadata": {
    "papermill": {
     "duration": 0.005642,
     "end_time": "2022-07-19T06:49:03.951888",
     "exception": false,
     "start_time": "2022-07-19T06:49:03.946246",
     "status": "completed"
    },
    "tags": []
   },
   "source": [
    "### Compute and log mean ROC AUC score averaged over all digits"
   ]
  },
  {
   "cell_type": "code",
   "execution_count": 19,
   "id": "fc34851f",
   "metadata": {
    "execution": {
     "iopub.execute_input": "2022-07-19T06:49:03.965394Z",
     "iopub.status.busy": "2022-07-19T06:49:03.965021Z",
     "iopub.status.idle": "2022-07-19T06:49:03.980387Z",
     "shell.execute_reply": "2022-07-19T06:49:03.979845Z"
    },
    "papermill": {
     "duration": 0.024008,
     "end_time": "2022-07-19T06:49:03.981788",
     "exception": false,
     "start_time": "2022-07-19T06:49:03.957780",
     "status": "completed"
    },
    "tags": []
   },
   "outputs": [
    {
     "name": "stdout",
     "output_type": "stream",
     "text": [
      " - Logging roc_auc_class_mean (float) : 0.999154425799573\n"
     ]
    }
   ],
   "source": [
    "roc_auc_macro = np.mean(list(roc_auc_dict.values()))\n",
    "\n",
    "logger.log_float(\"roc_auc_class_mean\", roc_auc_macro)\n",
    "\n",
    "# assert that the same value can be computed directly using sklearn\n",
    "assert roc_auc_macro == metrics.roc_auc_score(\n",
    "    y_test, y_pred_probs_test, average=\"macro\", multi_class=\"ovr\"\n",
    ")"
   ]
  },
  {
   "cell_type": "code",
   "execution_count": 20,
   "id": "7942f8c9",
   "metadata": {
    "execution": {
     "iopub.execute_input": "2022-07-19T06:49:03.995292Z",
     "iopub.status.busy": "2022-07-19T06:49:03.994970Z",
     "iopub.status.idle": "2022-07-19T06:49:03.998492Z",
     "shell.execute_reply": "2022-07-19T06:49:03.997489Z"
    },
    "lines_to_next_cell": 0,
    "papermill": {
     "duration": 0.012631,
     "end_time": "2022-07-19T06:49:04.000756",
     "exception": false,
     "start_time": "2022-07-19T06:49:03.988125",
     "status": "completed"
    },
    "tags": []
   },
   "outputs": [],
   "source": [
    "# ---"
   ]
  },
  {
   "cell_type": "code",
   "execution_count": null,
   "id": "61f65549",
   "metadata": {
    "papermill": {
     "duration": 0.006066,
     "end_time": "2022-07-19T06:49:04.012200",
     "exception": false,
     "start_time": "2022-07-19T06:49:04.006134",
     "status": "completed"
    },
    "tags": []
   },
   "outputs": [],
   "source": []
  }
 ],
 "metadata": {
  "jupytext": {
   "cell_metadata_filter": "tags,-all",
   "main_language": "python",
   "notebook_metadata_filter": "-all"
  },
  "language_info": {
   "codemirror_mode": {
    "name": "ipython",
    "version": 3
   },
   "file_extension": ".py",
   "mimetype": "text/x-python",
   "name": "python",
   "nbconvert_exporter": "python",
   "pygments_lexer": "ipython3",
   "version": "3.8.10"
  },
  "papermill": {
   "default_parameters": {},
   "duration": 9.140599,
   "end_time": "2022-07-19T06:49:05.141628",
   "environment_variables": {},
   "exception": null,
   "input_path": "/home/host_user/workspace/mnist-demo-pipeline/mnist-demo-pipeline/notebooks/temp-notebook-m20d824g.ipynb",
   "output_path": "notebooks/benchmark-model.ipynb",
   "parameters": {
    "P": {
     "_opentelemetry_traceparent": "00-dfc87442c93bc941e6465acf075e7ed4-6fa97e468e7201fe-01",
     "pipeline.data_lake_root": "/pipeline-outputs/data-lake",
     "pipeline.github.actor": "matiasdahl",
     "pipeline.github.base_ref": "",
     "pipeline.github.event_name": "schedule",
     "pipeline.github.head_ref": "",
     "pipeline.github.job": "run-tests-pipeline-and-persist-pipeline-outputs",
     "pipeline.github.ref": "refs/heads/development",
     "pipeline.github.ref_name": "development",
     "pipeline.github.ref_type": "branch",
     "pipeline.github.repository": "pynb-dag-runner/mnist-digits-demo-pipeline",
     "pipeline.github.run_id": "2695663229",
     "pipeline.github.runner_name": "Hosted Agent",
     "pipeline.github.sha": "147a1be9916173fd4d2cd011d8d51e3411215850",
     "pipeline.github.workflow": "Run automated tests, pipeline and deploy results to static reporting site",
     "pipeline.pipeline_run_id": "c5d84876-79e0-46e1-bbd8-00737a518f44",
     "pipeline.run_environment": "ci",
     "run.retry_nr": "0",
     "task.max_nr_retries": "1",
     "task.notebook": "notebooks/benchmark-model.py",
     "task.nr_train_images": 1000,
     "task.num_cpus": 1,
     "task.timeout_s": "None"
    }
   },
   "start_time": "2022-07-19T06:48:56.001029",
   "version": "2.3.3"
  }
 },
 "nbformat": 4,
 "nbformat_minor": 5
}