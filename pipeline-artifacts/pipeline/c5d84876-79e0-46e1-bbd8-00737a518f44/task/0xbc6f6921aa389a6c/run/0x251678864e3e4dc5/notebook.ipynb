{
 "cells": [
  {
   "cell_type": "markdown",
   "id": "130c7da9",
   "metadata": {
    "papermill": {
     "duration": 0.003926,
     "end_time": "2022-07-19T06:48:41.120066",
     "exception": false,
     "start_time": "2022-07-19T06:48:41.116140",
     "status": "completed"
    },
    "tags": []
   },
   "source": [
    "# Train model\n",
    "\n",
    "The purpose of this notebook is:\n",
    "\n",
    "- Load all training data (images and labels).\n",
    "- Limit number of train images to `task.nr_train_images` (value provided as run parameter).\n",
    "- Train a support vector machine model using sklearn.\n",
    "- Persist the trained model using the ONNX format."
   ]
  },
  {
   "cell_type": "markdown",
   "id": "a03e4277",
   "metadata": {
    "papermill": {
     "duration": 0.002571,
     "end_time": "2022-07-19T06:48:41.125984",
     "exception": false,
     "start_time": "2022-07-19T06:48:41.123413",
     "status": "completed"
    },
    "tags": []
   },
   "source": [
    "### Determine run parameters"
   ]
  },
  {
   "cell_type": "code",
   "execution_count": 1,
   "id": "953d2478",
   "metadata": {
    "execution": {
     "iopub.execute_input": "2022-07-19T06:48:41.132948Z",
     "iopub.status.busy": "2022-07-19T06:48:41.132459Z",
     "iopub.status.idle": "2022-07-19T06:48:41.139760Z",
     "shell.execute_reply": "2022-07-19T06:48:41.139142Z"
    },
    "lines_to_next_cell": 0,
    "papermill": {
     "duration": 0.012676,
     "end_time": "2022-07-19T06:48:41.141306",
     "exception": false,
     "start_time": "2022-07-19T06:48:41.128630",
     "status": "completed"
    },
    "tags": []
   },
   "outputs": [],
   "source": [
    "# ----------------- Parameters for interactive development --------------\n",
    "P = {\n",
    "    \"pipeline.data_lake_root\": \"/pipeline-outputs/data-lake\",\n",
    "    \"task.nr_train_images\": 600,\n",
    "}"
   ]
  },
  {
   "cell_type": "code",
   "execution_count": 2,
   "id": "48fb8195",
   "metadata": {
    "execution": {
     "iopub.execute_input": "2022-07-19T06:48:41.148064Z",
     "iopub.status.busy": "2022-07-19T06:48:41.147676Z",
     "iopub.status.idle": "2022-07-19T06:48:41.151184Z",
     "shell.execute_reply": "2022-07-19T06:48:41.150191Z"
    },
    "lines_to_next_cell": 0,
    "papermill": {
     "duration": 0.008201,
     "end_time": "2022-07-19T06:48:41.152562",
     "exception": false,
     "start_time": "2022-07-19T06:48:41.144361",
     "status": "completed"
    },
    "tags": [
     "parameters"
    ]
   },
   "outputs": [],
   "source": [
    "# - During automated runs parameters will be injected in the below cell -"
   ]
  },
  {
   "cell_type": "code",
   "execution_count": 3,
   "id": "7619e837",
   "metadata": {
    "execution": {
     "iopub.execute_input": "2022-07-19T06:48:41.159013Z",
     "iopub.status.busy": "2022-07-19T06:48:41.158751Z",
     "iopub.status.idle": "2022-07-19T06:48:41.163301Z",
     "shell.execute_reply": "2022-07-19T06:48:41.162722Z"
    },
    "papermill": {
     "duration": 0.009694,
     "end_time": "2022-07-19T06:48:41.164891",
     "exception": false,
     "start_time": "2022-07-19T06:48:41.155197",
     "status": "completed"
    },
    "tags": [
     "injected-parameters"
    ]
   },
   "outputs": [],
   "source": [
    "# Parameters\n",
    "P = {\n",
    "    \"pipeline.data_lake_root\": \"/pipeline-outputs/data-lake\",\n",
    "    \"pipeline.run_environment\": \"ci\",\n",
    "    \"pipeline.pipeline_run_id\": \"c5d84876-79e0-46e1-bbd8-00737a518f44\",\n",
    "    \"pipeline.github.repository\": \"pynb-dag-runner/mnist-digits-demo-pipeline\",\n",
    "    \"pipeline.github.workflow\": \"Run automated tests, pipeline and deploy results to static reporting site\",\n",
    "    \"pipeline.github.runner_name\": \"Hosted Agent\",\n",
    "    \"pipeline.github.run_id\": \"2695663229\",\n",
    "    \"pipeline.github.actor\": \"matiasdahl\",\n",
    "    \"pipeline.github.job\": \"run-tests-pipeline-and-persist-pipeline-outputs\",\n",
    "    \"pipeline.github.base_ref\": \"\",\n",
    "    \"pipeline.github.head_ref\": \"\",\n",
    "    \"pipeline.github.sha\": \"147a1be9916173fd4d2cd011d8d51e3411215850\",\n",
    "    \"pipeline.github.ref\": \"refs/heads/development\",\n",
    "    \"pipeline.github.ref_type\": \"branch\",\n",
    "    \"pipeline.github.ref_name\": \"development\",\n",
    "    \"pipeline.github.event_name\": \"schedule\",\n",
    "    \"task.nr_train_images\": 1000,\n",
    "    \"task.notebook\": \"notebooks/train-model.py\",\n",
    "    \"task.max_nr_retries\": \"1\",\n",
    "    \"run.retry_nr\": \"0\",\n",
    "    \"task.timeout_s\": \"None\",\n",
    "    \"task.num_cpus\": 1,\n",
    "    \"_opentelemetry_traceparent\": \"00-dfc87442c93bc941e6465acf075e7ed4-0be09a1055e03932-01\",\n",
    "}\n"
   ]
  },
  {
   "cell_type": "code",
   "execution_count": 4,
   "id": "4bde99b9",
   "metadata": {
    "execution": {
     "iopub.execute_input": "2022-07-19T06:48:41.172115Z",
     "iopub.status.busy": "2022-07-19T06:48:41.171618Z",
     "iopub.status.idle": "2022-07-19T06:48:41.174702Z",
     "shell.execute_reply": "2022-07-19T06:48:41.174119Z"
    },
    "lines_to_next_cell": 0,
    "papermill": {
     "duration": 0.009532,
     "end_time": "2022-07-19T06:48:41.177267",
     "exception": false,
     "start_time": "2022-07-19T06:48:41.167735",
     "status": "completed"
    },
    "tags": []
   },
   "outputs": [],
   "source": [
    "# -----------------------------------------------------------------------"
   ]
  },
  {
   "cell_type": "markdown",
   "id": "d31a5e40",
   "metadata": {
    "papermill": {
     "duration": 0.003715,
     "end_time": "2022-07-19T06:48:41.183818",
     "exception": false,
     "start_time": "2022-07-19T06:48:41.180103",
     "status": "completed"
    },
    "tags": []
   },
   "source": [
    "---"
   ]
  },
  {
   "cell_type": "markdown",
   "id": "1db1862e",
   "metadata": {
    "lines_to_next_cell": 2,
    "papermill": {
     "duration": 0.002756,
     "end_time": "2022-07-19T06:48:41.189230",
     "exception": false,
     "start_time": "2022-07-19T06:48:41.186474",
     "status": "completed"
    },
    "tags": []
   },
   "source": [
    "### Notebook code"
   ]
  },
  {
   "cell_type": "code",
   "execution_count": 5,
   "id": "9f488773",
   "metadata": {
    "execution": {
     "iopub.execute_input": "2022-07-19T06:48:41.196068Z",
     "iopub.status.busy": "2022-07-19T06:48:41.195752Z",
     "iopub.status.idle": "2022-07-19T06:48:41.659309Z",
     "shell.execute_reply": "2022-07-19T06:48:41.658489Z"
    },
    "papermill": {
     "duration": 0.468981,
     "end_time": "2022-07-19T06:48:41.661068",
     "exception": false,
     "start_time": "2022-07-19T06:48:41.192087",
     "status": "completed"
    },
    "tags": []
   },
   "outputs": [
    {
     "name": "stderr",
     "output_type": "stream",
     "text": [
      "2022-07-19 06:48:41,487\tINFO worker.py:842 -- Connecting to existing Ray cluster at address: 172.17.0.2:6379\n"
     ]
    }
   ],
   "source": [
    "from pynb_dag_runner.tasks.task_opentelemetry_logging import PydarLogger\n",
    "\n",
    "logger = PydarLogger(P)"
   ]
  },
  {
   "cell_type": "markdown",
   "id": "10d97eba",
   "metadata": {
    "papermill": {
     "duration": 0.002886,
     "end_time": "2022-07-19T06:48:41.667475",
     "exception": false,
     "start_time": "2022-07-19T06:48:41.664589",
     "status": "completed"
    },
    "tags": []
   },
   "source": [
    "## Load and limit train data"
   ]
  },
  {
   "cell_type": "code",
   "execution_count": 6,
   "id": "0e6dfd62",
   "metadata": {
    "execution": {
     "iopub.execute_input": "2022-07-19T06:48:41.674391Z",
     "iopub.status.busy": "2022-07-19T06:48:41.674045Z",
     "iopub.status.idle": "2022-07-19T06:48:42.100509Z",
     "shell.execute_reply": "2022-07-19T06:48:42.099462Z"
    },
    "papermill": {
     "duration": 0.432154,
     "end_time": "2022-07-19T06:48:42.102352",
     "exception": false,
     "start_time": "2022-07-19T06:48:41.670198",
     "status": "completed"
    },
    "tags": []
   },
   "outputs": [],
   "source": [
    "def load_and_limit_train_data(P):\n",
    "    from common.io import datalake_root, read_numpy\n",
    "    from sklearn.model_selection import train_test_split\n",
    "\n",
    "    X_train_all = read_numpy(datalake_root(P) / \"train-data\" / \"digits.numpy\")\n",
    "    y_train_all = read_numpy(datalake_root(P) / \"train-data\" / \"labels.numpy\")\n",
    "\n",
    "    assert isinstance(P[\"task.nr_train_images\"], int)\n",
    "\n",
    "    # Note: train_test_split will fail if split is 0 or 100%.\n",
    "    assert 0 < P[\"task.nr_train_images\"] < len(y_train_all)\n",
    "\n",
    "    X_train, _, y_train, _ = train_test_split(\n",
    "        X_train_all,\n",
    "        y_train_all,\n",
    "        train_size=P[\"task.nr_train_images\"],\n",
    "        test_size=None,\n",
    "        stratify=y_train_all,\n",
    "        shuffle=True,\n",
    "        random_state=123,\n",
    "    )\n",
    "\n",
    "    assert X_train.shape == (len(y_train), 8 * 8)\n",
    "    return X_train, y_train\n",
    "\n",
    "\n",
    "X_train, y_train = load_and_limit_train_data(P)"
   ]
  },
  {
   "cell_type": "markdown",
   "id": "5e412d65",
   "metadata": {
    "papermill": {
     "duration": 0.005803,
     "end_time": "2022-07-19T06:48:42.112833",
     "exception": false,
     "start_time": "2022-07-19T06:48:42.107030",
     "status": "completed"
    },
    "tags": []
   },
   "source": [
    "## Train support vector classifier model\n",
    "\n",
    "Below we assume that the hyperparameter $C$ is known.\n",
    "\n",
    "However, this should ideally be found by a hyperparameter search. That could be\n",
    "done in parallel on the Ray cluster, but this needs some more work. Ie., to use\n",
    "multiple cores in the notebook, those cores should be reserved when starting the\n",
    "notebook task (TODO).\n",
    "\n",
    "- https://docs.ray.io/en/latest/tune/key-concepts.html\n",
    "\n",
    "Note: cv-scores would need to be computed here, since they depend on the train data.\n",
    "After this notebook only the onnx-model is available."
   ]
  },
  {
   "cell_type": "code",
   "execution_count": 7,
   "id": "bc584f74",
   "metadata": {
    "execution": {
     "iopub.execute_input": "2022-07-19T06:48:42.119997Z",
     "iopub.status.busy": "2022-07-19T06:48:42.119529Z",
     "iopub.status.idle": "2022-07-19T06:48:42.139873Z",
     "shell.execute_reply": "2022-07-19T06:48:42.139354Z"
    },
    "papermill": {
     "duration": 0.025784,
     "end_time": "2022-07-19T06:48:42.141485",
     "exception": false,
     "start_time": "2022-07-19T06:48:42.115701",
     "status": "completed"
    },
    "tags": []
   },
   "outputs": [],
   "source": [
    "from sklearn.svm import SVC"
   ]
  },
  {
   "cell_type": "code",
   "execution_count": 8,
   "id": "d93b88d5",
   "metadata": {
    "execution": {
     "iopub.execute_input": "2022-07-19T06:48:42.149292Z",
     "iopub.status.busy": "2022-07-19T06:48:42.148836Z",
     "iopub.status.idle": "2022-07-19T06:48:42.309439Z",
     "shell.execute_reply": "2022-07-19T06:48:42.307402Z"
    },
    "papermill": {
     "duration": 0.166678,
     "end_time": "2022-07-19T06:48:42.311447",
     "exception": false,
     "start_time": "2022-07-19T06:48:42.144769",
     "status": "completed"
    },
    "tags": []
   },
   "outputs": [
    {
     "data": {
      "text/plain": [
       "SVC(C=0.001, kernel='linear', probability=True)"
      ]
     },
     "execution_count": 8,
     "metadata": {},
     "output_type": "execute_result"
    }
   ],
   "source": [
    "model = SVC(C=0.001, kernel=\"linear\", probability=True)\n",
    "\n",
    "model.fit(X_train, y_train)"
   ]
  },
  {
   "cell_type": "markdown",
   "id": "dff18049",
   "metadata": {
    "papermill": {
     "duration": 0.00335,
     "end_time": "2022-07-19T06:48:42.318378",
     "exception": false,
     "start_time": "2022-07-19T06:48:42.315028",
     "status": "completed"
    },
    "tags": []
   },
   "source": [
    "### Q: Can the labels returned by `predict(..)` be computed from probabilities returned by the `predict_prob`-method?"
   ]
  },
  {
   "cell_type": "code",
   "execution_count": 9,
   "id": "2ad19f58",
   "metadata": {
    "execution": {
     "iopub.execute_input": "2022-07-19T06:48:42.325481Z",
     "iopub.status.busy": "2022-07-19T06:48:42.325158Z",
     "iopub.status.idle": "2022-07-19T06:48:42.396858Z",
     "shell.execute_reply": "2022-07-19T06:48:42.396160Z"
    },
    "papermill": {
     "duration": 0.077926,
     "end_time": "2022-07-19T06:48:42.399215",
     "exception": false,
     "start_time": "2022-07-19T06:48:42.321289",
     "status": "completed"
    },
    "tags": []
   },
   "outputs": [
    {
     "name": "stdout",
     "output_type": "stream",
     "text": [
      " - Logging nr_max_prob_neq_label (int) : 1\n"
     ]
    }
   ],
   "source": [
    "import numpy as np\n",
    "\n",
    "y_train_labels = model.predict(X_train)\n",
    "y_train_probabilities = model.predict_proba(X_train)\n",
    "assert y_train_probabilities.shape == (len(y_train), 10)\n",
    "\n",
    "y_train_max_prob_labels = np.argmax(y_train_probabilities, axis=1)\n",
    "assert y_train_labels.shape == y_train_max_prob_labels.shape == y_train.shape\n",
    "\n",
    "# If the predicted labels would coincide with the labels that have\n",
    "# maximum probability, the below number would be zero\n",
    "logger.log_int(\n",
    "    \"nr_max_prob_neq_label\", int(sum(y_train_max_prob_labels != y_train_labels))\n",
    ")"
   ]
  },
  {
   "cell_type": "markdown",
   "id": "97c8d867",
   "metadata": {
    "papermill": {
     "duration": 0.00328,
     "end_time": "2022-07-19T06:48:42.405910",
     "exception": false,
     "start_time": "2022-07-19T06:48:42.402630",
     "status": "completed"
    },
    "tags": []
   },
   "source": [
    "The explanation is (likely) explained in the SVC source, see\n",
    "[here](https://github.com/scikit-learn/scikit-learn/blob/main/sklearn/svm/_base.py).\n",
    "Namely, the outputs from `predict(..)` and `predict_proba(..)` may not in some\n",
    "cases be compatible since the latter is computed using cross-validation while\n",
    "the former is not. Thus, the above number need not be zero."
   ]
  },
  {
   "cell_type": "markdown",
   "id": "4e1c8575",
   "metadata": {
    "papermill": {
     "duration": 0.003965,
     "end_time": "2022-07-19T06:48:42.413059",
     "exception": false,
     "start_time": "2022-07-19T06:48:42.409094",
     "status": "completed"
    },
    "tags": []
   },
   "source": [
    "## Persist model"
   ]
  },
  {
   "cell_type": "code",
   "execution_count": 10,
   "id": "e6e55b23",
   "metadata": {
    "execution": {
     "iopub.execute_input": "2022-07-19T06:48:42.422171Z",
     "iopub.status.busy": "2022-07-19T06:48:42.421769Z",
     "iopub.status.idle": "2022-07-19T06:48:43.183736Z",
     "shell.execute_reply": "2022-07-19T06:48:43.182941Z"
    },
    "papermill": {
     "duration": 0.768509,
     "end_time": "2022-07-19T06:48:43.185648",
     "exception": false,
     "start_time": "2022-07-19T06:48:42.417139",
     "status": "completed"
    },
    "tags": []
   },
   "outputs": [],
   "source": [
    "from skl2onnx import convert_sklearn\n",
    "from skl2onnx.common.data_types import FloatTensorType\n",
    "\n",
    "#\n",
    "from common.io import datalake_root, write_onnx"
   ]
  },
  {
   "cell_type": "code",
   "execution_count": 11,
   "id": "bade2ac7",
   "metadata": {
    "execution": {
     "iopub.execute_input": "2022-07-19T06:48:43.194744Z",
     "iopub.status.busy": "2022-07-19T06:48:43.194023Z",
     "iopub.status.idle": "2022-07-19T06:48:43.248722Z",
     "shell.execute_reply": "2022-07-19T06:48:43.247891Z"
    },
    "papermill": {
     "duration": 0.061346,
     "end_time": "2022-07-19T06:48:43.250595",
     "exception": false,
     "start_time": "2022-07-19T06:48:43.189249",
     "status": "completed"
    },
    "tags": []
   },
   "outputs": [],
   "source": [
    "# convert sklearn model into onnx and persist to data lake\n",
    "\n",
    "model_onnx = convert_sklearn(\n",
    "    model, initial_types=[(\"float_input_8x8_image\", FloatTensorType([None, 8 * 8]))]\n",
    ")\n",
    "write_onnx(\n",
    "    datalake_root(P)\n",
    "    / \"models\"\n",
    "    / f\"nr_train_images={P['task.nr_train_images']}\"\n",
    "    / \"model.onnx\",\n",
    "    model_onnx,\n",
    ")"
   ]
  },
  {
   "cell_type": "code",
   "execution_count": null,
   "id": "c2156a44",
   "metadata": {
    "papermill": {
     "duration": 0.004006,
     "end_time": "2022-07-19T06:48:43.258529",
     "exception": false,
     "start_time": "2022-07-19T06:48:43.254523",
     "status": "completed"
    },
    "tags": []
   },
   "outputs": [],
   "source": []
  }
 ],
 "metadata": {
  "jupytext": {
   "cell_metadata_filter": "tags,-all",
   "main_language": "python",
   "notebook_metadata_filter": "-all"
  },
  "language_info": {
   "codemirror_mode": {
    "name": "ipython",
    "version": 3
   },
   "file_extension": ".py",
   "mimetype": "text/x-python",
   "name": "python",
   "nbconvert_exporter": "python",
   "pygments_lexer": "ipython3",
   "version": "3.8.10"
  },
  "papermill": {
   "default_parameters": {},
   "duration": 4.468727,
   "end_time": "2022-07-19T06:48:44.280528",
   "environment_variables": {},
   "exception": null,
   "input_path": "/home/host_user/workspace/mnist-demo-pipeline/mnist-demo-pipeline/notebooks/temp-notebook-u7uwqhaf.ipynb",
   "output_path": "notebooks/train-model.ipynb",
   "parameters": {
    "P": {
     "_opentelemetry_traceparent": "00-dfc87442c93bc941e6465acf075e7ed4-0be09a1055e03932-01",
     "pipeline.data_lake_root": "/pipeline-outputs/data-lake",
     "pipeline.github.actor": "matiasdahl",
     "pipeline.github.base_ref": "",
     "pipeline.github.event_name": "schedule",
     "pipeline.github.head_ref": "",
     "pipeline.github.job": "run-tests-pipeline-and-persist-pipeline-outputs",
     "pipeline.github.ref": "refs/heads/development",
     "pipeline.github.ref_name": "development",
     "pipeline.github.ref_type": "branch",
     "pipeline.github.repository": "pynb-dag-runner/mnist-digits-demo-pipeline",
     "pipeline.github.run_id": "2695663229",
     "pipeline.github.runner_name": "Hosted Agent",
     "pipeline.github.sha": "147a1be9916173fd4d2cd011d8d51e3411215850",
     "pipeline.github.workflow": "Run automated tests, pipeline and deploy results to static reporting site",
     "pipeline.pipeline_run_id": "c5d84876-79e0-46e1-bbd8-00737a518f44",
     "pipeline.run_environment": "ci",
     "run.retry_nr": "0",
     "task.max_nr_retries": "1",
     "task.notebook": "notebooks/train-model.py",
     "task.nr_train_images": 1000,
     "task.num_cpus": 1,
     "task.timeout_s": "None"
    }
   },
   "start_time": "2022-07-19T06:48:39.811801",
   "version": "2.3.3"
  }
 },
 "nbformat": 4,
 "nbformat_minor": 5
}